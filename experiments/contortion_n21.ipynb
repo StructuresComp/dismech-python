{
 "cells": [
  {
   "cell_type": "markdown",
   "metadata": {},
   "source": [
    "## Rod Cantilever Example"
   ]
  },
  {
   "cell_type": "code",
   "execution_count": 1,
   "metadata": {},
   "outputs": [],
   "source": [
    "import numpy as np\n",
    "\n",
    "import dismech\n",
    "\n",
    "geom = dismech.GeomParams(rod_r0=0.001,\n",
    "                          shell_h=0)\n",
    "\n",
    "material = dismech.Material(density=1200,\n",
    "                            youngs_rod=2e6,\n",
    "                            youngs_shell=0,\n",
    "                            poisson_rod=0.5,\n",
    "                            poisson_shell=0)\n",
    "\n",
    "static_2d_sim = dismech.SimParams(static_sim=False,\n",
    "                                  two_d_sim=False,\n",
    "                                  use_mid_edge=False,\n",
    "                                  use_line_search=False,\n",
    "                                  show_floor=False,\n",
    "                                  log_data=True,\n",
    "                                  log_step=1,\n",
    "                                  dt=1e-2,\n",
    "                                  max_iter=30,  # needs to be higher for first time step\n",
    "                                  total_time=1.0,\n",
    "                                  plot_step=1,\n",
    "                                  tol=1e-4,\n",
    "                                  ftol=1e-4,\n",
    "                                  dtol=1e-2)\n",
    "\n",
    "env = dismech.Environment()\n",
    "env.add_force('gravity', g=np.array([0.0, 0.0, -9.81]))\n",
    "\n",
    "geo = dismech.Geometry.from_txt(\n",
    "    '../tests/resources/rod_cantilever/horizontal_rod_n21.txt')\n",
    "\n",
    "robot = dismech.SoftRobot(geom, material, geo, static_2d_sim, env)"
   ]
  },
  {
   "cell_type": "markdown",
   "metadata": {},
   "source": [
    "### Time Stepping\n",
    "\n",
    "Contortion requires a simple moving boundary which is implemented as a before_step callback."
   ]
  },
  {
   "cell_type": "code",
   "execution_count": 5,
   "metadata": {},
   "outputs": [],
   "source": [
    "start = 0.01\n",
    "end = 0.09\n",
    "\n",
    "end_points = np.array(np.where(\n",
    "    robot.state.q[robot.node_dof_indices].reshape(-1, 3)[:, 0] >= end)[0])\n",
    "start_points = np.array(np.where(\n",
    "    robot.state.q[robot.node_dof_indices].reshape(-1, 3)[:, 0] <= start)[0])\n",
    "\n",
    "robot = robot.fix_nodes(np.union1d(start_points, end_points))\n",
    "def move_and_twist(robot: dismech.SoftRobot, t: float):\n",
    "    \"\"\" Simple example of a moving boundary condition \"\"\"\n",
    "    u0 = 0.1\n",
    "    w0 = 2\n",
    "\n",
    "    if t < 0.15:\n",
    "        # [x, y, z]\n",
    "        robot = robot.move_nodes(start_points, [u0 * robot.sim_params.dt, 0, 0])\n",
    "    else:\n",
    "        robot = robot.twist_edges([0, 1], w0 * robot.sim_params.dt)\n",
    "    return robot\n",
    "\n",
    "\n",
    "stepper = dismech.ImplicitEulerTimeStepper(robot)\n",
    "stepper.before_step = move_and_twist\n",
    "\n",
    "robots = stepper.simulate()\n",
    "\n",
    "qs = np.stack([robot.state.q for robot in robots])"
   ]
  },
  {
   "cell_type": "code",
   "execution_count": 3,
   "metadata": {},
   "outputs": [
    {
     "data": {
      "application/vnd.plotly.v1+json": {
       "config": {
        "plotlyServerURL": "https://plot.ly"
       },
       "data": [
        {
         "marker": {
          "color": "#1f78b4",
          "size": 5
         },
         "mode": "markers",
         "name": "Free Nodes",
         "type": "scatter3d",
         "x": {
          "bdata": "7tHe43RbkD99F1MDumuVP/r2XkvTcZo/PFZBJH1xnz9UT42n+TmiP2e6zhDPwKQ/TIzEogBNpz/E6Ee1nNmpP/fAMu1YYaw/buseiy7jrj/i5GATe7GwP3jI6DTp8rE/OQp0AQw3sz/felaNGn20P1bVAp6qw7U/",
          "dtype": "f8"
         },
         "y": {
          "bdata": "AAAAAAAAAAAAAAAAAAAAAAAAAAAAAAAAAAAAAAAAAAAAAAAAAAAAAAAAAAAAAAAAAAAAAAAAAAAAAAAAAAAAAAAAAAAAAAAAAAAAAAAAAAAAAAAAAAAAAAAAAAAAAAAAAAAAAAAAAAAAAAAAAAAAAAAAAAAAAAAA",
          "dtype": "f8"
         },
         "z": {
          "bdata": "R+fn66FxMr+U+FbFPyNNv53V7/xK21y/U+nYqR2jZr8CZjjk02Ruv1xzpljcBHK/AGCCfKggc78omwN24UJyv/gBfQsiQW+/sb7A0XKuZ79TNtXGTfFev8BG1Tz6g1C/FED+8TKrOb9DnkzmWWIUvzivm6WpTvE+",
          "dtype": "f8"
         }
        },
        {
         "marker": {
          "color": "#e31a1c",
          "size": 5
         },
         "mode": "markers",
         "name": "Fixed Nodes",
         "type": "scatter3d",
         "x": {
          "bdata": "/Knx0k1iUD/6fmq8dJN4P7pJDAIrh4Y/CtejcD0Ktz9SuB6F61G4P5qZmZmZmbk/",
          "dtype": "f8"
         },
         "y": {
          "bdata": "AAAAAAAAAAAAAAAAAAAAAAAAAAAAAAAAAAAAAAAAAAAAAAAAAAAAAAAAAAAAAAAA",
          "dtype": "f8"
         },
         "z": {
          "bdata": "AAAAAAAAAAAAAAAAAAAAAAAAAAAAAAAAAAAAAAAAAAAAAAAAAAAAAAAAAAAAAAAA",
          "dtype": "f8"
         }
        },
        {
         "line": {
          "color": "#333333",
          "width": 2
         },
         "mode": "lines",
         "name": "Edges",
         "type": "scatter3d",
         "x": [
          0.001,
          0.006,
          null,
          0.006,
          0.011,
          null,
          0.011,
          0.0159738792496728,
          null,
          0.0159738792496728,
          0.02091875691691979,
          null,
          0.02091875691691979,
          0.02582483432319458,
          null,
          0.02582483432319458,
          0.03070636304649653,
          null,
          0.03070636304649653,
          0.03559856577217482,
          null,
          0.03559856577217482,
          0.040533514787388474,
          null,
          0.040533514787388474,
          0.045509357327568084,
          null,
          0.045509357327568084,
          0.05048837387944752,
          null,
          0.05048837387944752,
          0.05543020148741278,
          null,
          0.05543020148741278,
          0.060327009661213946,
          null,
          0.060327009661213946,
          0.06520814154727675,
          null,
          0.06520814154727675,
          0.07011277715426611,
          null,
          0.07011277715426611,
          0.07505869899254315,
          null,
          0.07505869899254315,
          0.08003393126135049,
          null,
          0.08003393126135049,
          0.08501688344661792,
          null,
          0.08501688344661792,
          0.09,
          null,
          0.09,
          0.095,
          null,
          0.095,
          0.1,
          null
         ],
         "y": [
          0,
          0,
          null,
          0,
          0,
          null,
          0,
          0,
          null,
          0,
          0,
          null,
          0,
          0,
          null,
          0,
          0,
          null,
          0,
          0,
          null,
          0,
          0,
          null,
          0,
          0,
          null,
          0,
          0,
          null,
          0,
          0,
          null,
          0,
          0,
          null,
          0,
          0,
          null,
          0,
          0,
          null,
          0,
          0,
          null,
          0,
          0,
          null,
          0,
          0,
          null,
          0,
          0,
          null,
          0,
          0,
          null,
          0,
          0,
          null
         ],
         "z": [
          0,
          0,
          null,
          0,
          0,
          null,
          0,
          -0.0002814312282733888,
          null,
          -0.0002814312282733888,
          -0.0008892117863792564,
          null,
          -0.0008892117863792564,
          -0.0017612678818726753,
          null,
          -0.0017612678818726753,
          -0.0027633265842982673,
          null,
          -0.0027633265842982673,
          -0.003710187769468077,
          null,
          -0.003710187769468077,
          -0.004399166801161449,
          null,
          -0.004399166801161449,
          -0.004669817113743591,
          null,
          -0.004669817113743591,
          -0.004458313662530945,
          null,
          -0.004458313662530945,
          -0.003815237516306743,
          null,
          -0.003815237516306743,
          -0.0028908007207276367,
          null,
          -0.0028908007207276367,
          -0.0018885860002514534,
          null,
          -0.0018885860002514534,
          -0.0010080283858155265,
          null,
          -0.0010080283858155265,
          -0.00039167398244277615,
          null,
          -0.00039167398244277615,
          -0.00007775949195531436,
          null,
          -0.00007775949195531436,
          0.000016505504709592877,
          null,
          0.000016505504709592877,
          0,
          null,
          0,
          0,
          null,
          0,
          0,
          null
         ]
        },
        {
         "color": "rgba(166, 206, 227, 0.7)",
         "i": [],
         "j": [],
         "k": [],
         "name": "Faces",
         "opacity": 0.7,
         "showscale": false,
         "type": "mesh3d",
         "x": {
          "bdata": "/Knx0k1iUD/6fmq8dJN4P7pJDAIrh4Y/7tHe43RbkD99F1MDumuVP/r2XkvTcZo/PFZBJH1xnz9UT42n+TmiP2e6zhDPwKQ/TIzEogBNpz/E6Ee1nNmpP/fAMu1YYaw/buseiy7jrj/i5GATe7GwP3jI6DTp8rE/OQp0AQw3sz/felaNGn20P1bVAp6qw7U/CtejcD0Ktz9SuB6F61G4P5qZmZmZmbk/",
          "dtype": "f8"
         },
         "y": {
          "bdata": "AAAAAAAAAAAAAAAAAAAAAAAAAAAAAAAAAAAAAAAAAAAAAAAAAAAAAAAAAAAAAAAAAAAAAAAAAAAAAAAAAAAAAAAAAAAAAAAAAAAAAAAAAAAAAAAAAAAAAAAAAAAAAAAAAAAAAAAAAAAAAAAAAAAAAAAAAAAAAAAAAAAAAAAAAAAAAAAAAAAAAAAAAAAAAAAAAAAAAAAAAAAAAAAAAAAAAAAAAAAAAAAA",
          "dtype": "f8"
         },
         "z": {
          "bdata": "AAAAAAAAAAAAAAAAAAAAAAAAAAAAAAAAR+fn66FxMr+U+FbFPyNNv53V7/xK21y/U+nYqR2jZr8CZjjk02Ruv1xzpljcBHK/AGCCfKggc78omwN24UJyv/gBfQsiQW+/sb7A0XKuZ79TNtXGTfFev8BG1Tz6g1C/FED+8TKrOb9DnkzmWWIUvzivm6WpTvE+AAAAAAAAAAAAAAAAAAAAAAAAAAAAAAAA",
          "dtype": "f8"
         }
        }
       ],
       "frames": [
        {
         "data": [
          {
           "name": "Free Nodes",
           "type": "scatter3d",
           "x": {
            "bdata": "7tHe43RbkD99F1MDumuVP/r2XkvTcZo/PFZBJH1xnz9UT42n+TmiP2e6zhDPwKQ/TIzEogBNpz/E6Ee1nNmpP/fAMu1YYaw/buseiy7jrj/i5GATe7GwP3jI6DTp8rE/OQp0AQw3sz/felaNGn20P1bVAp6qw7U/",
            "dtype": "f8"
           },
           "y": {
            "bdata": "AAAAAAAAAAAAAAAAAAAAAAAAAAAAAAAAAAAAAAAAAAAAAAAAAAAAAAAAAAAAAAAAAAAAAAAAAAAAAAAAAAAAAAAAAAAAAAAAAAAAAAAAAAAAAAAAAAAAAAAAAAAAAAAAAAAAAAAAAAAAAAAAAAAAAAAAAAAAAAAA",
            "dtype": "f8"
           },
           "z": {
            "bdata": "R+fn66FxMr+U+FbFPyNNv53V7/xK21y/U+nYqR2jZr8CZjjk02Ruv1xzpljcBHK/AGCCfKggc78omwN24UJyv/gBfQsiQW+/sb7A0XKuZ79TNtXGTfFev8BG1Tz6g1C/FED+8TKrOb9DnkzmWWIUvzivm6WpTvE+",
            "dtype": "f8"
           }
          },
          {
           "name": "Fixed Nodes",
           "type": "scatter3d",
           "x": {
            "bdata": "/Knx0k1iUD/6fmq8dJN4P7pJDAIrh4Y/CtejcD0Ktz9SuB6F61G4P5qZmZmZmbk/",
            "dtype": "f8"
           },
           "y": {
            "bdata": "AAAAAAAAAAAAAAAAAAAAAAAAAAAAAAAAAAAAAAAAAAAAAAAAAAAAAAAAAAAAAAAA",
            "dtype": "f8"
           },
           "z": {
            "bdata": "AAAAAAAAAAAAAAAAAAAAAAAAAAAAAAAAAAAAAAAAAAAAAAAAAAAAAAAAAAAAAAAA",
            "dtype": "f8"
           }
          },
          {
           "name": "Edges",
           "type": "scatter3d",
           "x": [
            0.001,
            0.006,
            null,
            0.006,
            0.011,
            null,
            0.011,
            0.0159738792496728,
            null,
            0.0159738792496728,
            0.02091875691691979,
            null,
            0.02091875691691979,
            0.02582483432319458,
            null,
            0.02582483432319458,
            0.03070636304649653,
            null,
            0.03070636304649653,
            0.03559856577217482,
            null,
            0.03559856577217482,
            0.040533514787388474,
            null,
            0.040533514787388474,
            0.045509357327568084,
            null,
            0.045509357327568084,
            0.05048837387944752,
            null,
            0.05048837387944752,
            0.05543020148741278,
            null,
            0.05543020148741278,
            0.060327009661213946,
            null,
            0.060327009661213946,
            0.06520814154727675,
            null,
            0.06520814154727675,
            0.07011277715426611,
            null,
            0.07011277715426611,
            0.07505869899254315,
            null,
            0.07505869899254315,
            0.08003393126135049,
            null,
            0.08003393126135049,
            0.08501688344661792,
            null,
            0.08501688344661792,
            0.09,
            null,
            0.09,
            0.095,
            null,
            0.095,
            0.1,
            null
           ],
           "y": [
            0,
            0,
            null,
            0,
            0,
            null,
            0,
            0,
            null,
            0,
            0,
            null,
            0,
            0,
            null,
            0,
            0,
            null,
            0,
            0,
            null,
            0,
            0,
            null,
            0,
            0,
            null,
            0,
            0,
            null,
            0,
            0,
            null,
            0,
            0,
            null,
            0,
            0,
            null,
            0,
            0,
            null,
            0,
            0,
            null,
            0,
            0,
            null,
            0,
            0,
            null,
            0,
            0,
            null,
            0,
            0,
            null,
            0,
            0,
            null
           ],
           "z": [
            0,
            0,
            null,
            0,
            0,
            null,
            0,
            -0.0002814312282733888,
            null,
            -0.0002814312282733888,
            -0.0008892117863792564,
            null,
            -0.0008892117863792564,
            -0.0017612678818726753,
            null,
            -0.0017612678818726753,
            -0.0027633265842982673,
            null,
            -0.0027633265842982673,
            -0.003710187769468077,
            null,
            -0.003710187769468077,
            -0.004399166801161449,
            null,
            -0.004399166801161449,
            -0.004669817113743591,
            null,
            -0.004669817113743591,
            -0.004458313662530945,
            null,
            -0.004458313662530945,
            -0.003815237516306743,
            null,
            -0.003815237516306743,
            -0.0028908007207276367,
            null,
            -0.0028908007207276367,
            -0.0018885860002514534,
            null,
            -0.0018885860002514534,
            -0.0010080283858155265,
            null,
            -0.0010080283858155265,
            -0.00039167398244277615,
            null,
            -0.00039167398244277615,
            -0.00007775949195531436,
            null,
            -0.00007775949195531436,
            0.000016505504709592877,
            null,
            0.000016505504709592877,
            0,
            null,
            0,
            0,
            null,
            0,
            0,
            null
           ]
          },
          {
           "i": [],
           "j": [],
           "k": [],
           "name": "Faces",
           "type": "mesh3d",
           "x": {
            "bdata": "/Knx0k1iUD/6fmq8dJN4P7pJDAIrh4Y/7tHe43RbkD99F1MDumuVP/r2XkvTcZo/PFZBJH1xnz9UT42n+TmiP2e6zhDPwKQ/TIzEogBNpz/E6Ee1nNmpP/fAMu1YYaw/buseiy7jrj/i5GATe7GwP3jI6DTp8rE/OQp0AQw3sz/felaNGn20P1bVAp6qw7U/CtejcD0Ktz9SuB6F61G4P5qZmZmZmbk/",
            "dtype": "f8"
           },
           "y": {
            "bdata": "AAAAAAAAAAAAAAAAAAAAAAAAAAAAAAAAAAAAAAAAAAAAAAAAAAAAAAAAAAAAAAAAAAAAAAAAAAAAAAAAAAAAAAAAAAAAAAAAAAAAAAAAAAAAAAAAAAAAAAAAAAAAAAAAAAAAAAAAAAAAAAAAAAAAAAAAAAAAAAAAAAAAAAAAAAAAAAAAAAAAAAAAAAAAAAAAAAAAAAAAAAAAAAAAAAAAAAAAAAAAAAAA",
            "dtype": "f8"
           },
           "z": {
            "bdata": "AAAAAAAAAAAAAAAAAAAAAAAAAAAAAAAAR+fn66FxMr+U+FbFPyNNv53V7/xK21y/U+nYqR2jZr8CZjjk02Ruv1xzpljcBHK/AGCCfKggc78omwN24UJyv/gBfQsiQW+/sb7A0XKuZ79TNtXGTfFev8BG1Tz6g1C/FED+8TKrOb9DnkzmWWIUvzivm6WpTvE+AAAAAAAAAAAAAAAAAAAAAAAAAAAAAAAA",
            "dtype": "f8"
           }
          }
         ],
         "layout": {
          "annotations": [
           {
            "showarrow": false,
            "text": "Time: 0.00s (Step: 1/100)",
            "x": 0.05,
            "xref": "paper",
            "y": 0.95,
            "yref": "paper"
           }
          ]
         },
         "name": "0"
        },
        {
         "data": [
          {
           "name": "Free Nodes",
           "type": "scatter3d",
           "x": {
            "bdata": "O1u5yxNakT9UzdU4NVCWPy7u5rRoMZs/9A4TN/MGoD8y8lAgnHuiPwJQTkC5+6Q/pvPh5kiGpz/F9xWDHBWqP5sPw+tzoKw/npnFNSsjrz89ndf2f86wP1DHBT//CLI/8VoGDQZEsz9azWRxFoK0P9E+sttWxLU/",
            "dtype": "f8"
           },
           "y": {
            "bdata": "AAAAAAAAAAAAAAAAAAAAAAAAAAAAAAAAAAAAAAAAAAAAAAAAAAAAAAAAAAAAAAAAAAAAAAAAAAAAAAAAAAAAAAAAAAAAAAAAAAAAAAAAAAAAAAAAAAAAAAAAAAAAAAAAAAAAAAAAAAAAAAAAAAAAAAAAAAAAAAAA",
            "dtype": "f8"
           },
           "z": {
            "bdata": "a/ziEa5WR78gy8UQoKhfv7ChmI3JImy/Ns5B8QpzdL/wBpKEii56v94XQemrf36/9iLdJotqgL9GVN4DUXSAv/TUGpYBzH6/2k3wSTjger8ZTT9NK7t1v1/ztoACCXC/c6fqb8roZL+toe4QrmBWv8okhnVVhj+/",
            "dtype": "f8"
           }
          },
          {
           "name": "Fixed Nodes",
           "type": "scatter3d",
           "x": {
            "bdata": "/Knx0k1iYD956SYxCKx8P/p+arx0k4g/CtejcD0Ktz9SuB6F61G4P5qZmZmZmbk/",
            "dtype": "f8"
           },
           "y": {
            "bdata": "AAAAAAAAAAAAAAAAAAAAAAAAAAAAAAAAAAAAAAAAAAAAAAAAAAAAAAAAAAAAAAAA",
            "dtype": "f8"
           },
           "z": {
            "bdata": "AAAAAAAAAAAAAAAAAAAAAAAAAAAAAAAAAAAAAAAAAAAAAAAAAAAAAAAAAAAAAAAA",
            "dtype": "f8"
           }
          },
          {
           "name": "Edges",
           "type": "scatter3d",
           "x": [
            0.002,
            0.007,
            null,
            0.007,
            0.012,
            null,
            0.012,
            0.016945180234269257,
            null,
            0.016945180234269257,
            0.021790343851035246,
            null,
            0.021790343851035246,
            0.02655566791666624,
            null,
            0.02655566791666624,
            0.03130302474303717,
            null,
            0.03130302474303717,
            0.03609931845173654,
            null,
            0.03609931845173654,
            0.040982998943178486,
            null,
            0.040982998943178486,
            0.045946386512674395,
            null,
            0.045946386512674395,
            0.050942317010580086,
            null,
            0.050942317010580086,
            0.05591165783837867,
            null,
            0.05591165783837867,
            0.060815191568326585,
            null,
            0.060815191568326585,
            0.0656509378091998,
            null,
            0.0656509378091998,
            0.07044978417050385,
            null,
            0.07044978417050385,
            0.07525670831669708,
            null,
            0.07525670831669708,
            0.08010998028185182,
            null,
            0.08010998028185182,
            0.08502714980772487,
            null,
            0.08502714980772487,
            0.09,
            null,
            0.09,
            0.095,
            null,
            0.095,
            0.1,
            null
           ],
           "y": [
            0,
            0,
            null,
            0,
            0,
            null,
            0,
            0,
            null,
            0,
            0,
            null,
            0,
            0,
            null,
            0,
            0,
            null,
            0,
            0,
            null,
            0,
            0,
            null,
            0,
            0,
            null,
            0,
            0,
            null,
            0,
            0,
            null,
            0,
            0,
            null,
            0,
            0,
            null,
            0,
            0,
            null,
            0,
            0,
            null,
            0,
            0,
            null,
            0,
            0,
            null,
            0,
            0,
            null,
            0,
            0,
            null,
            0,
            0,
            null
           ],
           "z": [
            0,
            0,
            null,
            0,
            0,
            null,
            0,
            -0.0007122373533760112,
            null,
            -0.0007122373533760112,
            -0.001932293237669476,
            null,
            -0.001932293237669476,
            -0.003434556635301976,
            null,
            -0.003434556635301976,
            -0.004992525810041884,
            null,
            -0.004992525810041884,
            -0.006392041287769365,
            null,
            -0.006392041287769365,
            -0.007445975807121001,
            null,
            -0.007445975807121001,
            -0.008015715716866972,
            null,
            -0.008015715716866972,
            -0.008034356051021995,
            null,
            -0.008034356051021995,
            -0.007518774220149672,
            null,
            -0.007518774220149672,
            -0.006561488989081233,
            null,
            -0.006561488989081233,
            -0.00530545153374653,
            null,
            -0.00530545153374653,
            -0.003914842392472944,
            null,
            -0.003914842392472944,
            -0.0025524095393238354,
            null,
            -0.0025524095393238354,
            -0.0013658237328205522,
            null,
            -0.0013658237328205522,
            -0.0004810293808295672,
            null,
            -0.0004810293808295672,
            0,
            null,
            0,
            0,
            null,
            0,
            0,
            null
           ]
          },
          {
           "i": [],
           "j": [],
           "k": [],
           "name": "Faces",
           "type": "mesh3d",
           "x": {
            "bdata": "/Knx0k1iYD956SYxCKx8P/p+arx0k4g/O1u5yxNakT9UzdU4NVCWPy7u5rRoMZs/9A4TN/MGoD8y8lAgnHuiPwJQTkC5+6Q/pvPh5kiGpz/F9xWDHBWqP5sPw+tzoKw/npnFNSsjrz89ndf2f86wP1DHBT//CLI/8VoGDQZEsz9azWRxFoK0P9E+sttWxLU/CtejcD0Ktz9SuB6F61G4P5qZmZmZmbk/",
            "dtype": "f8"
           },
           "y": {
            "bdata": "AAAAAAAAAAAAAAAAAAAAAAAAAAAAAAAAAAAAAAAAAAAAAAAAAAAAAAAAAAAAAAAAAAAAAAAAAAAAAAAAAAAAAAAAAAAAAAAAAAAAAAAAAAAAAAAAAAAAAAAAAAAAAAAAAAAAAAAAAAAAAAAAAAAAAAAAAAAAAAAAAAAAAAAAAAAAAAAAAAAAAAAAAAAAAAAAAAAAAAAAAAAAAAAAAAAAAAAAAAAAAAAA",
            "dtype": "f8"
           },
           "z": {
            "bdata": "AAAAAAAAAAAAAAAAAAAAAAAAAAAAAAAAa/ziEa5WR78gy8UQoKhfv7ChmI3JImy/Ns5B8QpzdL/wBpKEii56v94XQemrf36/9iLdJotqgL9GVN4DUXSAv/TUGpYBzH6/2k3wSTjger8ZTT9NK7t1v1/ztoACCXC/c6fqb8roZL+toe4QrmBWv8okhnVVhj+/AAAAAAAAAAAAAAAAAAAAAAAAAAAAAAAA",
            "dtype": "f8"
           }
          }
         ],
         "layout": {
          "annotations": [
           {
            "showarrow": false,
            "text": "Time: 0.01s (Step: 2/100)",
            "x": 0.05,
            "xref": "paper",
            "y": 0.95,
            "yref": "paper"
           }
          ]
         },
         "name": "1"
        },
        {
         "data": [
          {
           "name": "Free Nodes",
           "type": "scatter3d",
           "x": {
            "bdata": "9U/KxJZakj+GFZ83NkGXPxk+ZKBXDJw/d4I2TWVooD+S7Fr549GiP1DVJ901SaU/GS/l07bOpz+fGd3+0VyqPzCZNx986qw/1gAzIvlurz+915mpt/KwP3viEhh3J7I/HuyEeyBZsz8JTvjBy4y0P3OLrPs7x7U/",
            "dtype": "f8"
           },
           "y": {
            "bdata": "AAAAAAAAAAAAAAAAAAAAAAAAAAAAAAAAAAAAAAAAAAAAAAAAAAAAAAAAAAAAAAAAAAAAAAAAAAAAAAAAAAAAAAAAAAAAAAAAAAAAAAAAAAAAAAAAAAAAAAAAAAAAAAAAAAAAAAAAAAAAAAAAAAAAAAAAAAAAAAAA",
            "dtype": "f8"
           },
           "z": {
            "bdata": "XOv45dcxTL+93o+CIt1ivzi4d78GnXC/iO/2XyAReL9pnZH4m+h+v+HyZspkMIK/PFxt+YDvg78I77tN03+Ev/Ki6hUW0oO/kCWxS8z7gb9XFOe2ZGZ+vyHQr16Mjne/9szQ05kwcL94moI1oU9iv01LWwu0R0u/",
            "dtype": "f8"
           }
          },
          {
           "name": "Fixed Nodes",
           "type": "scatter3d",
           "x": {
            "bdata": "+n5qvHSTaD/8qfHSTWKAPzq0yHa+n4o/CtejcD0Ktz9SuB6F61G4P5qZmZmZmbk/",
            "dtype": "f8"
           },
           "y": {
            "bdata": "AAAAAAAAAAAAAAAAAAAAAAAAAAAAAAAAAAAAAAAAAAAAAAAAAAAAAAAAAAAAAAAA",
            "dtype": "f8"
           },
           "z": {
            "bdata": "AAAAAAAAAAAAAAAAAAAAAAAAAAAAAAAAAAAAAAAAAAAAAAAAAAAAAAAAAAAAAAAA",
            "dtype": "f8"
           }
          },
          {
           "name": "Edges",
           "type": "scatter3d",
           "x": [
            0.003,
            0.008,
            null,
            0.008,
            0.013000000000000001,
            null,
            0.013000000000000001,
            0.017923694382787365,
            null,
            0.017923694382787365,
            0.022709700722562974,
            null,
            0.022709700722562974,
            0.027390832104229632,
            null,
            0.027390832104229632,
            0.03204647605457905,
            null,
            0.03204647605457905,
            0.03675758761297589,
            null,
            0.03675758761297589,
            0.04157417606976799,
            null,
            0.04157417606976799,
            0.04649897896396577,
            null,
            0.04649897896396577,
            0.05148941265229045,
            null,
            0.05148941265229045,
            0.05647647744244677,
            null,
            0.05647647744244677,
            0.06139353315802658,
            null,
            0.06139353315802658,
            0.06620357409141682,
            null,
            0.06620357409141682,
            0.07091469133127674,
            null,
            0.07091469133127674,
            0.07557871833425664,
            null,
            0.07557871833425664,
            0.08027337537378555,
            null,
            0.08027337537378555,
            0.08507132429489932,
            null,
            0.08507132429489932,
            0.09,
            null,
            0.09,
            0.095,
            null,
            0.095,
            0.1,
            null
           ],
           "y": [
            0,
            0,
            null,
            0,
            0,
            null,
            0,
            0,
            null,
            0,
            0,
            null,
            0,
            0,
            null,
            0,
            0,
            null,
            0,
            0,
            null,
            0,
            0,
            null,
            0,
            0,
            null,
            0,
            0,
            null,
            0,
            0,
            null,
            0,
            0,
            null,
            0,
            0,
            null,
            0,
            0,
            null,
            0,
            0,
            null,
            0,
            0,
            null,
            0,
            0,
            null,
            0,
            0,
            null,
            0,
            0,
            null,
            0,
            0,
            null
           ],
           "z": [
            0,
            0,
            null,
            0,
            0,
            null,
            0,
            -0.0008604339781820114,
            null,
            -0.0008604339781820114,
            -0.0023027109168614877,
            null,
            -0.0023027109168614877,
            -0.004056002005638652,
            null,
            -0.004056002005638652,
            -0.005875708069137071,
            null,
            -0.005875708069137071,
            -0.007546052228554736,
            null,
            -0.007546052228554736,
            -0.008881366183112362,
            null,
            -0.008881366183112362,
            -0.009734161006845203,
            null,
            -0.009734161006845203,
            -0.010009432611233673,
            null,
            -0.010009432611233673,
            -0.00967805151351928,
            null,
            -0.00967805151351928,
            -0.008781047878204246,
            null,
            -0.008781047878204246,
            -0.007421868720887201,
            null,
            -0.007421868720887201,
            -0.005751179046445316,
            null,
            -0.005751179046445316,
            -0.0039525994189262195,
            null,
            -0.0039525994189262195,
            -0.0022352360357047983,
            null,
            -0.0022352360357047983,
            -0.0008325223086223882,
            null,
            -0.0008325223086223882,
            0,
            null,
            0,
            0,
            null,
            0,
            0,
            null
           ]
          },
          {
           "i": [],
           "j": [],
           "k": [],
           "name": "Faces",
           "type": "mesh3d",
           "x": {
            "bdata": "+n5qvHSTaD/8qfHSTWKAPzq0yHa+n4o/9U/KxJZakj+GFZ83NkGXPxk+ZKBXDJw/d4I2TWVooD+S7Fr549GiP1DVJ901SaU/GS/l07bOpz+fGd3+0VyqPzCZNx986qw/1gAzIvlurz+915mpt/KwP3viEhh3J7I/HuyEeyBZsz8JTvjBy4y0P3OLrPs7x7U/CtejcD0Ktz9SuB6F61G4P5qZmZmZmbk/",
            "dtype": "f8"
           },
           "y": {
            "bdata": "AAAAAAAAAAAAAAAAAAAAAAAAAAAAAAAAAAAAAAAAAAAAAAAAAAAAAAAAAAAAAAAAAAAAAAAAAAAAAAAAAAAAAAAAAAAAAAAAAAAAAAAAAAAAAAAAAAAAAAAAAAAAAAAAAAAAAAAAAAAAAAAAAAAAAAAAAAAAAAAAAAAAAAAAAAAAAAAAAAAAAAAAAAAAAAAAAAAAAAAAAAAAAAAAAAAAAAAAAAAAAAAA",
            "dtype": "f8"
           },
           "z": {
            "bdata": "AAAAAAAAAAAAAAAAAAAAAAAAAAAAAAAAXOv45dcxTL+93o+CIt1ivzi4d78GnXC/iO/2XyAReL9pnZH4m+h+v+HyZspkMIK/PFxt+YDvg78I77tN03+Ev/Ki6hUW0oO/kCWxS8z7gb9XFOe2ZGZ+vyHQr16Mjne/9szQ05kwcL94moI1oU9iv01LWwu0R0u/AAAAAAAAAAAAAAAAAAAAAAAAAAAAAAAA",
            "dtype": "f8"
           }
          }
         ],
         "layout": {
          "annotations": [
           {
            "showarrow": false,
            "text": "Time: 0.02s (Step: 3/100)",
            "x": 0.05,
            "xref": "paper",
            "y": 0.95,
            "yref": "paper"
           }
          ]
         },
         "name": "2"
        },
        {
         "data": [
          {
           "name": "Free Nodes",
           "type": "scatter3d",
           "x": {
            "bdata": "azMzQOhekz/ZKmplKT2YP+uxPnfr9Zw/jWm8hunPoD/Vp7ThLiujP27KNKEMl6U/rJxU0DgWqD/mNvactaKqP7JAsX9NMK0/6Uoff/ixrz/WL2du6w+xP9bQbUJ7PbI/6m38dKBmsz9l6NgHz5K0P+I7/9SuyLU/",
            "dtype": "f8"
           },
           "y": {
            "bdata": "AAAAAAAAAAAAAAAAAAAAAAAAAAAAAAAAAAAAAAAAAAAAAAAAAAAAAAAAAAAAAAAAAAAAAAAAAAAAAAAAAAAAAAAAAAAAAAAAAAAAAAAAAAAAAAAAAAAAAAAAAAAAAAAAAAAAAAAAAAAAAAAAAAAAAAAAAAAAAAAA",
            "dtype": "f8"
           },
           "z": {
            "bdata": "Z5D4XqwSTb+1tZ6TgNxjv+4o/rti0HG//I2qUFc7er/1AkZuGxmBvxlSQRwGZoS/oi/voIafhr95Yuf/QHyHv+f3meJs3Ia/ry1BNebRhL/GMO3s85yBv9rRQ4lGQHu/3UkPf6Omcr+lhg6ZEvJkv6E+ePEE3U6/",
            "dtype": "f8"
           }
          },
          {
           "name": "Fixed Nodes",
           "type": "scatter3d",
           "x": {
            "bdata": "/Knx0k1icD8830+Nl26CP3rpJjEIrIw/CtejcD0Ktz9SuB6F61G4P5qZmZmZmbk/",
            "dtype": "f8"
           },
           "y": {
            "bdata": "AAAAAAAAAAAAAAAAAAAAAAAAAAAAAAAAAAAAAAAAAAAAAAAAAAAAAAAAAAAAAAAA",
            "dtype": "f8"
           },
           "z": {
            "bdata": "AAAAAAAAAAAAAAAAAAAAAAAAAAAAAAAAAAAAAAAAAAAAAAAAAAAAAAAAAAAAAAAA",
            "dtype": "f8"
           }
          },
          {
           "name": "Edges",
           "type": "scatter3d",
           "x": [
            0.004,
            0.009000000000000001,
            null,
            0.009000000000000001,
            0.014000000000000002,
            null,
            0.014000000000000002,
            0.018916729849297747,
            null,
            0.018916729849297747,
            0.02367081338392549,
            null,
            0.02367081338392549,
            0.02828185954392552,
            null,
            0.02828185954392552,
            0.032836244294418206,
            null,
            0.032836244294418206,
            0.03743883614727365,
            null,
            0.03743883614727365,
            0.042168039968960666,
            null,
            0.042168039968960666,
            0.047044539862605234,
            null,
            0.047044539862605234,
            0.052022624407170245,
            null,
            0.052022624407170245,
            0.05700914558167493,
            null,
            0.05700914558167493,
            0.061904683606959506,
            null,
            0.061904683606959506,
            0.06664916463267842,
            null,
            0.06664916463267842,
            0.07125063297081921,
            null,
            0.07125063297081921,
            0.07578471046547688,
            null,
            0.07578471046547688,
            0.0803651231916845,
            null,
            0.0803651231916845,
            0.08509342861292127,
            null,
            0.08509342861292127,
            0.09,
            null,
            0.09,
            0.095,
            null,
            0.095,
            0.1,
            null
           ],
           "y": [
            0,
            0,
            null,
            0,
            0,
            null,
            0,
            0,
            null,
            0,
            0,
            null,
            0,
            0,
            null,
            0,
            0,
            null,
            0,
            0,
            null,
            0,
            0,
            null,
            0,
            0,
            null,
            0,
            0,
            null,
            0,
            0,
            null,
            0,
            0,
            null,
            0,
            0,
            null,
            0,
            0,
            null,
            0,
            0,
            null,
            0,
            0,
            null,
            0,
            0,
            null,
            0,
            0,
            null,
            0,
            0,
            null,
            0,
            0,
            null
           ],
           "z": [
            0,
            0,
            null,
            0,
            0,
            null,
            0,
            -0.0008872357993294889,
            null,
            -0.0008872357993294889,
            -0.002424479604960362,
            null,
            -0.002424479604960362,
            -0.004349122696917214,
            null,
            -0.004349122696917214,
            -0.006404248308772061,
            null,
            -0.006404248308772061,
            -0.008348669340877172,
            null,
            -0.008348669340877172,
            -0.009960220086363812,
            null,
            -0.009960220086363812,
            -0.011046458994222356,
            null,
            -0.011046458994222356,
            -0.01146746426540911,
            null,
            -0.01146746426540911,
            -0.011162615456893078,
            null,
            -0.011162615456893078,
            -0.010165976047708051,
            null,
            -0.010165976047708051,
            -0.00860014502327323,
            null,
            -0.00860014502327323,
            -0.006653094799038384,
            null,
            -0.006653094799038384,
            -0.004553450257804373,
            null,
            -0.004553450257804373,
            -0.00255683548353221,
            null,
            -0.00255683548353221,
            -0.0009418748986167077,
            null,
            -0.0009418748986167077,
            0,
            null,
            0,
            0,
            null,
            0,
            0,
            null
           ]
          },
          {
           "i": [],
           "j": [],
           "k": [],
           "name": "Faces",
           "type": "mesh3d",
           "x": {
            "bdata": "/Knx0k1icD8830+Nl26CP3rpJjEIrIw/azMzQOhekz/ZKmplKT2YP+uxPnfr9Zw/jWm8hunPoD/Vp7ThLiujP27KNKEMl6U/rJxU0DgWqD/mNvactaKqP7JAsX9NMK0/6Uoff/ixrz/WL2du6w+xP9bQbUJ7PbI/6m38dKBmsz9l6NgHz5K0P+I7/9SuyLU/CtejcD0Ktz9SuB6F61G4P5qZmZmZmbk/",
            "dtype": "f8"
           },
           "y": {
            "bdata": "AAAAAAAAAAAAAAAAAAAAAAAAAAAAAAAAAAAAAAAAAAAAAAAAAAAAAAAAAAAAAAAAAAAAAAAAAAAAAAAAAAAAAAAAAAAAAAAAAAAAAAAAAAAAAAAAAAAAAAAAAAAAAAAAAAAAAAAAAAAAAAAAAAAAAAAAAAAAAAAAAAAAAAAAAAAAAAAAAAAAAAAAAAAAAAAAAAAAAAAAAAAAAAAAAAAAAAAAAAAAAAAA",
            "dtype": "f8"
           },
           "z": {
            "bdata": "AAAAAAAAAAAAAAAAAAAAAAAAAAAAAAAAZ5D4XqwSTb+1tZ6TgNxjv+4o/rti0HG//I2qUFc7er/1AkZuGxmBvxlSQRwGZoS/oi/voIafhr95Yuf/QHyHv+f3meJs3Ia/ry1BNebRhL/GMO3s85yBv9rRQ4lGQHu/3UkPf6Omcr+lhg6ZEvJkv6E+ePEE3U6/AAAAAAAAAAAAAAAAAAAAAAAAAAAAAAAA",
            "dtype": "f8"
           }
          }
         ],
         "layout": {
          "annotations": [
           {
            "showarrow": false,
            "text": "Time: 0.03s (Step: 4/100)",
            "x": 0.05,
            "xref": "paper",
            "y": 0.95,
            "yref": "paper"
           }
          ]
         },
         "name": "3"
        },
        {
         "data": [
          {
           "name": "Free Nodes",
           "type": "scatter3d",
           "x": {
            "bdata": "2JfDI81hlD/MiZb73jOZP9ikgd5z1Z0/nKZ/9nowoT/bydBW1XyjP0X1goLw3aU/3rtfBTRYqD/efpoW+eOqPzb6DUTUcK0/HLguX4Xtrz9xTTR6QyixP5iw4UtWTrI/qjUh/+xvsz9OCexkcJa0P3wBhupqybU/",
            "dtype": "f8"
           },
           "y": {
            "bdata": "AAAAAAAAAAAAAAAAAAAAAAAAAAAAAAAAAAAAAAAAAAAAAAAAAAAAAAAAAAAAAAAAAAAAAAAAAAAAAAAAAAAAAAAAAAAAAAAAAAAAAAAAAAAAAAAAAAAAAAAAAAAAAAAAAAAAAAAAAAAAAAAAAAAAAAAAAAAAAAAA",
            "dtype": "f8"
           },
           "z": {
            "bdata": "zG3IdwMPT7+k/U6vWXRlv68onAAPa3O/9d/JakXPfL9LN0r8DOWCvz/+W9qupYa/88qXy+suib8/LxdVViWKvyGFJmd4Yom/7+TYypUAh7+jInX/jVODv8OdIhH/qH2/OV6jjUoddL/PGKMJklpmvwbA1M2MRFC/",
            "dtype": "f8"
           }
          },
          {
           "name": "Fixed Nodes",
           "type": "scatter3d",
           "x": {
            "bdata": "exSuR+F6dD98FK5H4XqEP7oehetRuI4/CtejcD0Ktz9SuB6F61G4P5qZmZmZmbk/",
            "dtype": "f8"
           },
           "y": {
            "bdata": "AAAAAAAAAAAAAAAAAAAAAAAAAAAAAAAAAAAAAAAAAAAAAAAAAAAAAAAAAAAAAAAA",
            "dtype": "f8"
           },
           "z": {
            "bdata": "AAAAAAAAAAAAAAAAAAAAAAAAAAAAAAAAAAAAAAAAAAAAAAAAAAAAAAAAAAAAAAAA",
            "dtype": "f8"
           }
          },
          {
           "name": "Edges",
           "type": "scatter3d",
           "x": [
            0.005,
            0.010000000000000002,
            null,
            0.010000000000000002,
            0.015000000000000003,
            null,
            0.015000000000000003,
            0.019904332454551227,
            null,
            0.019904332454551227,
            0.024611934762683238,
            null,
            0.024611934762683238,
            0.029134569602693755,
            null,
            0.029134569602693755,
            0.03357300051704934,
            null,
            0.03357300051704934,
            0.03806177792320727,
            null,
            0.03806177792320727,
            0.042708888942323976,
            null,
            0.042708888942323976,
            0.04754793706512549,
            null,
            0.04754793706512549,
            0.05252054596826182,
            null,
            0.05252054596826182,
            0.057501443202444255,
            null,
            0.057501443202444255,
            0.06235901629348481,
            null,
            0.06235901629348481,
            0.06702062352660733,
            null,
            0.06702062352660733,
            0.07150782921388765,
            null,
            0.07150782921388765,
            0.0759266016841226,
            null,
            0.0759266016841226,
            0.08042051757732802,
            null,
            0.08042051757732802,
            0.08510463929815687,
            null,
            0.08510463929815687,
            0.09,
            null,
            0.09,
            0.095,
            null,
            0.095,
            0.1,
            null
           ],
           "y": [
            0,
            0,
            null,
            0,
            0,
            null,
            0,
            0,
            null,
            0,
            0,
            null,
            0,
            0,
            null,
            0,
            0,
            null,
            0,
            0,
            null,
            0,
            0,
            null,
            0,
            0,
            null,
            0,
            0,
            null,
            0,
            0,
            null,
            0,
            0,
            null,
            0,
            0,
            null,
            0,
            0,
            null,
            0,
            0,
            null,
            0,
            0,
            null,
            0,
            0,
            null,
            0,
            0,
            null,
            0,
            0,
            null,
            0,
            0,
            null
           ],
           "z": [
            0,
            0,
            null,
            0,
            0,
            null,
            0,
            -0.0009478346760859956,
            null,
            -0.0009478346760859956,
            -0.0026189567238074796,
            null,
            -0.0026189567238074796,
            -0.004740770915086553,
            null,
            -0.004740770915086553,
            -0.0070336066825049575,
            null,
            -0.0070336066825049575,
            -0.009225942086483882,
            null,
            -0.009225942086483882,
            -0.011058202780531377,
            null,
            -0.011058202780531377,
            -0.012296526098884075,
            null,
            -0.012296526098884075,
            -0.012766527625806766,
            null,
            -0.012766527625806766,
            -0.012394848487761014,
            null,
            -0.012394848487761014,
            -0.011231584790140718,
            null,
            -0.011231584790140718,
            -0.009436711653181112,
            null,
            -0.009436711653181112,
            -0.007241245608532623,
            null,
            -0.007241245608532623,
            -0.0049107467877643135,
            null,
            -0.0049107467877643135,
            -0.0027287342355491804,
            null,
            -0.0027287342355491804,
            -0.0009929060973483685,
            null,
            -0.0009929060973483685,
            0,
            null,
            0,
            0,
            null,
            0,
            0,
            null
           ]
          },
          {
           "i": [],
           "j": [],
           "k": [],
           "name": "Faces",
           "type": "mesh3d",
           "x": {
            "bdata": "exSuR+F6dD98FK5H4XqEP7oehetRuI4/2JfDI81hlD/MiZb73jOZP9ikgd5z1Z0/nKZ/9nowoT/bydBW1XyjP0X1goLw3aU/3rtfBTRYqD/efpoW+eOqPzb6DUTUcK0/HLguX4Xtrz9xTTR6QyixP5iw4UtWTrI/qjUh/+xvsz9OCexkcJa0P3wBhupqybU/CtejcD0Ktz9SuB6F61G4P5qZmZmZmbk/",
            "dtype": "f8"
           },
           "y": {
            "bdata": "AAAAAAAAAAAAAAAAAAAAAAAAAAAAAAAAAAAAAAAAAAAAAAAAAAAAAAAAAAAAAAAAAAAAAAAAAAAAAAAAAAAAAAAAAAAAAAAAAAAAAAAAAAAAAAAAAAAAAAAAAAAAAAAAAAAAAAAAAAAAAAAAAAAAAAAAAAAAAAAAAAAAAAAAAAAAAAAAAAAAAAAAAAAAAAAAAAAAAAAAAAAAAAAAAAAAAAAAAAAAAAAA",
            "dtype": "f8"
           },
           "z": {
            "bdata": "AAAAAAAAAAAAAAAAAAAAAAAAAAAAAAAAzG3IdwMPT7+k/U6vWXRlv68onAAPa3O/9d/JakXPfL9LN0r8DOWCvz/+W9qupYa/88qXy+suib8/LxdVViWKvyGFJmd4Yom/7+TYypUAh7+jInX/jVODv8OdIhH/qH2/OV6jjUoddL/PGKMJklpmvwbA1M2MRFC/AAAAAAAAAAAAAAAAAAAAAAAAAAAAAAAA",
            "dtype": "f8"
           }
          }
         ],
         "layout": {
          "annotations": [
           {
            "showarrow": false,
            "text": "Time: 0.04s (Step: 5/100)",
            "x": 0.05,
            "xref": "paper",
            "y": 0.95,
            "yref": "paper"
           }
          ]
         },
         "name": "4"
        },
        {
         "data": [
          {
           "name": "Free Nodes",
           "type": "scatter3d",
           "x": {
            "bdata": "Fq/aZulilT+mX/5qrySaP7Ssx6Iqq54/q9WDVWeLoT8UJVkMi8mjP/iJstBiIaY/GiinexKYqD8m9bZ3qCOrP4zSUdCVr60/dSZJhIMTsD/AKQwxuT+xP45D+aS/XrI/TIYS+z95sz+vTuOsSZq0P6gM4XZDyrU/",
            "dtype": "f8"
           },
           "y": {
            "bdata": "AAAAAAAAAAAAAAAAAAAAAAAAAAAAAAAAAAAAAAAAAAAAAAAAAAAAAAAAAAAAAAAAAAAAAAAAAAAAAAAAAAAAAAAAAAAAAAAAAAAAAAAAAAAAAAAAAAAAAAAAAAAAAAAAAAAAAAAAAAAAAAAAAAAAAAAAAAAAAAAA",
            "dtype": "f8"
           },
           "z": {
            "bdata": "6F4jCnkNUb+BCGSnkpFnv5GWYUMHU3W/ao9TDhSff79nV23mg7qEv5nDfFX004i/fih2KSSSi79jDPpiXY6Mv/gG1+a3oIu/MdgkKIjtiL81SPKyadmEv28yd7Cb23+/y9LuoF2Edb9PnwohEtFnvwd9cG9iQVG/",
            "dtype": "f8"
           }
          },
          {
           "name": "Fixed Nodes",
           "type": "scatter3d",
           "x": {
            "bdata": "+n5qvHSTeD+8SQwCK4eGP/2p8dJNYpA/CtejcD0Ktz9SuB6F61G4P5qZmZmZmbk/",
            "dtype": "f8"
           },
           "y": {
            "bdata": "AAAAAAAAAAAAAAAAAAAAAAAAAAAAAAAAAAAAAAAAAAAAAAAAAAAAAAAAAAAAAAAA",
            "dtype": "f8"
           },
           "z": {
            "bdata": "AAAAAAAAAAAAAAAAAAAAAAAAAAAAAAAAAAAAAAAAAAAAAAAAAAAAAAAAAAAAAAAA",
            "dtype": "f8"
           }
          },
          {
           "name": "Edges",
           "type": "scatter3d",
           "x": [
            0.006,
            0.011000000000000003,
            null,
            0.011000000000000003,
            0.016000000000000004,
            null,
            0.016000000000000004,
            0.0208851307894938,
            null,
            0.0208851307894938,
            0.025530568032621347,
            null,
            0.025530568032621347,
            0.029949823556233837,
            null,
            0.029949823556233837,
            0.03426669043430349,
            null,
            0.03426669043430349,
            0.03864702726111538,
            null,
            0.03864702726111538,
            0.043223464942702294,
            null,
            0.043223464942702294,
            0.048035218805651606,
            null,
            0.048035218805651606,
            0.05300642453537767,
            null,
            0.05300642453537767,
            0.0579802338406,
            null,
            0.0579802338406,
            0.06279775600082778,
            null,
            0.06279775600082778,
            0.06737859198998475,
            null,
            0.06737859198998475,
            0.07175824906995684,
            null,
            0.07175824906995684,
            0.07606887702652293,
            null,
            0.07606887702652293,
            0.08047924490829915,
            null,
            0.08047924490829915,
            0.08511754658052217,
            null,
            0.08511754658052217,
            0.09,
            null,
            0.09,
            0.095,
            null,
            0.095,
            0.1,
            null
           ],
           "y": [
            0,
            0,
            null,
            0,
            0,
            null,
            0,
            0,
            null,
            0,
            0,
            null,
            0,
            0,
            null,
            0,
            0,
            null,
            0,
            0,
            null,
            0,
            0,
            null,
            0,
            0,
            null,
            0,
            0,
            null,
            0,
            0,
            null,
            0,
            0,
            null,
            0,
            0,
            null,
            0,
            0,
            null,
            0,
            0,
            null,
            0,
            0,
            null,
            0,
            0,
            null,
            0,
            0,
            null,
            0,
            0,
            null,
            0,
            0,
            null
           ],
           "z": [
            0,
            0,
            null,
            0,
            0,
            null,
            0,
            -0.0010408098246922851,
            null,
            -0.0010408098246922851,
            -0.0028770317395592775,
            null,
            -0.0028770317395592775,
            -0.005206135150819372,
            null,
            -0.005206135150819372,
            -0.007720068305591224,
            null,
            -0.007720068305591224,
            -0.010121374578073007,
            null,
            -0.010121374578073007,
            -0.012123020991198706,
            null,
            -0.012123020991198706,
            -0.013462336077982192,
            null,
            -0.013462336077982192,
            -0.013943414290457484,
            null,
            -0.013943414290457484,
            -0.013490139705826007,
            null,
            -0.013490139705826007,
            -0.012171806073279697,
            null,
            -0.012171806073279697,
            -0.010180307172309092,
            null,
            -0.010180307172309092,
            -0.007777794038201876,
            null,
            -0.007777794038201876,
            -0.005253186928645358,
            null,
            -0.005253186928645358,
            -0.0029073099215856445,
            null,
            -0.0029073099215856445,
            -0.0010531865389181176,
            null,
            -0.0010531865389181176,
            0,
            null,
            0,
            0,
            null,
            0,
            0,
            null
           ]
          },
          {
           "i": [],
           "j": [],
           "k": [],
           "name": "Faces",
           "type": "mesh3d",
           "x": {
            "bdata": "+n5qvHSTeD+8SQwCK4eGP/2p8dJNYpA/Fq/aZulilT+mX/5qrySaP7Ssx6Iqq54/q9WDVWeLoT8UJVkMi8mjP/iJstBiIaY/GiinexKYqD8m9bZ3qCOrP4zSUdCVr60/dSZJhIMTsD/AKQwxuT+xP45D+aS/XrI/TIYS+z95sz+vTuOsSZq0P6gM4XZDyrU/CtejcD0Ktz9SuB6F61G4P5qZmZmZmbk/",
            "dtype": "f8"
           },
           "y": {
            "bdata": "AAAAAAAAAAAAAAAAAAAAAAAAAAAAAAAAAAAAAAAAAAAAAAAAAAAAAAAAAAAAAAAAAAAAAAAAAAAAAAAAAAAAAAAAAAAAAAAAAAAAAAAAAAAAAAAAAAAAAAAAAAAAAAAAAAAAAAAAAAAAAAAAAAAAAAAAAAAAAAAAAAAAAAAAAAAAAAAAAAAAAAAAAAAAAAAAAAAAAAAAAAAAAAAAAAAAAAAAAAAAAAAA",
            "dtype": "f8"
           },
           "z": {
            "bdata": "AAAAAAAAAAAAAAAAAAAAAAAAAAAAAAAA6F4jCnkNUb+BCGSnkpFnv5GWYUMHU3W/ao9TDhSff79nV23mg7qEv5nDfFX004i/fih2KSSSi79jDPpiXY6Mv/gG1+a3oIu/MdgkKIjtiL81SPKyadmEv28yd7Cb23+/y9LuoF2Edb9PnwohEtFnvwd9cG9iQVG/AAAAAAAAAAAAAAAAAAAAAAAAAAAAAAAA",
            "dtype": "f8"
           }
          }
         ],
         "layout": {
          "annotations": [
           {
            "showarrow": false,
            "text": "Time: 0.05s (Step: 6/100)",
            "x": 0.05,
            "xref": "paper",
            "y": 0.95,
            "yref": "paper"
           }
          ]
         },
         "name": "5"
        },
        {
         "data": [
          {
           "name": "Free Nodes",
           "type": "scatter3d",
           "x": {
            "bdata": "p8PBDM1jlj8b1Zpp7RSbP814ULpYgJ8/4opRoFnmoT9o0A1MpxakP/eVbZZzZaY/9t6I9ovYqD+B7PMG32OrP9KslIr+7q0/HQujIdIwsD+iYTu5C1ixP1kBQzI3cLI/rrJHOYmDsz/PIiwXu560P5pQdBFLy7U/",
            "dtype": "f8"
           },
           "y": {
            "bdata": "AAAAAAAAAAAAAAAAAAAAAAAAAAAAAAAAAAAAAAAAAAAAAAAAAAAAAAAAAAAAAAAAAAAAAAAAAAAAAAAAAAAAAAAAAAAAAAAAAAAAAAAAAAAAAAAAAAAAAAAAAAAAAAAAAAAAAAAAAAAAAAAAAAAAAAAAAAAAAAAA",
            "dtype": "f8"
           },
           "z": {
            "bdata": "loRY7m+EUr/N/+ni/Y1pv318gYxuFHe/Ktyt4kUWgb9ewUwaT2GGv6J3N6bFyYq/syxbF2q5jb9cljFmWb+Ov+NOfAmBsY2/u6rgBeW7ir9u2+pmg1CGv0LZ3D23BYG/h/wKdBb5dr/dDnl5FWppv80KOUVkZlK/",
            "dtype": "f8"
           }
          },
          {
           "name": "Fixed Nodes",
           "type": "scatter3d",
           "x": {
            "bdata": "eekmMQisfD/8fmq8dJOIP53EILByaJE/CtejcD0Ktz9SuB6F61G4P5qZmZmZmbk/",
            "dtype": "f8"
           },
           "y": {
            "bdata": "AAAAAAAAAAAAAAAAAAAAAAAAAAAAAAAAAAAAAAAAAAAAAAAAAAAAAAAAAAAAAAAA",
            "dtype": "f8"
           },
           "z": {
            "bdata": "AAAAAAAAAAAAAAAAAAAAAAAAAAAAAAAAAAAAAAAAAAAAAAAAAAAAAAAAAAAAAAAA",
            "dtype": "f8"
           }
          },
          {
           "name": "Edges",
           "type": "scatter3d",
           "x": [
            0.007,
            0.012000000000000004,
            null,
            0.012000000000000004,
            0.017000000000000005,
            null,
            0.017000000000000005,
            0.02186508550989044,
            null,
            0.02186508550989044,
            0.02644701916752466,
            null,
            0.02644701916752466,
            0.030763040897107175,
            null,
            0.030763040897107175,
            0.03496055681241274,
            null,
            0.03496055681241274,
            0.03923533252137262,
            null,
            0.03923533252137262,
            0.04374276362686296,
            null,
            0.04374276362686296,
            0.04852712044197276,
            null,
            0.04852712044197276,
            0.05349633178590186,
            null,
            0.05349633178590186,
            0.058464006821247985,
            null,
            0.058464006821247985,
            0.06324494668210119,
            null,
            0.06324494668210119,
            0.06774972221626865,
            null,
            0.06774972221626865,
            0.07202477433293576,
            null,
            0.07202477433293576,
            0.07622583054007734,
            null,
            0.07622583054007734,
            0.08054704013569423,
            null,
            0.08054704013569423,
            0.08513325859195434,
            null,
            0.08513325859195434,
            0.09,
            null,
            0.09,
            0.095,
            null,
            0.095,
            0.1,
            null
           ],
           "y": [
            0,
            0,
            null,
            0,
            0,
            null,
            0,
            0,
            null,
            0,
            0,
            null,
            0,
            0,
            null,
            0,
            0,
            null,
            0,
            0,
            null,
            0,
            0,
            null,
            0,
            0,
            null,
            0,
            0,
            null,
            0,
            0,
            null,
            0,
            0,
            null,
            0,
            0,
            null,
            0,
            0,
            null,
            0,
            0,
            null,
            0,
            0,
            null,
            0,
            0,
            null,
            0,
            0,
            null,
            0,
            0,
            null,
            0,
            0,
            null
           ],
           "z": [
            0,
            0,
            null,
            0,
            0,
            null,
            0,
            -0.0011302083088440599,
            null,
            -0.0011302083088440599,
            -0.0031194647520464748,
            null,
            -0.0031194647520464748,
            -0.005634719687889531,
            null,
            -0.005634719687889531,
            -0.008343263607214341,
            null,
            -0.008343263607214341,
            -0.010927789678675633,
            null,
            -0.010927789678675633,
            -0.013080162177114666,
            null,
            -0.013080162177114666,
            -0.01451380618836704,
            null,
            -0.01451380618836704,
            -0.015013407164768448,
            null,
            -0.015013407164768448,
            -0.01449871835897149,
            null,
            -0.01449871835897149,
            -0.013053693048353457,
            null,
            -0.013053693048353457,
            -0.01089575441197407,
            null,
            -0.01089575441197407,
            -0.008311683249854544,
            null,
            -0.008311683249854544,
            -0.005608642299818395,
            null,
            -0.005608642299818395,
            -0.0031023425506492134,
            null,
            -0.0031023425506492134,
            -0.001123044891656977,
            null,
            -0.001123044891656977,
            0,
            null,
            0,
            0,
            null,
            0,
            0,
            null
           ]
          },
          {
           "i": [],
           "j": [],
           "k": [],
           "name": "Faces",
           "type": "mesh3d",
           "x": {
            "bdata": "eekmMQisfD/8fmq8dJOIP53EILByaJE/p8PBDM1jlj8b1Zpp7RSbP814ULpYgJ8/4opRoFnmoT9o0A1MpxakP/eVbZZzZaY/9t6I9ovYqD+B7PMG32OrP9KslIr+7q0/HQujIdIwsD+iYTu5C1ixP1kBQzI3cLI/rrJHOYmDsz/PIiwXu560P5pQdBFLy7U/CtejcD0Ktz9SuB6F61G4P5qZmZmZmbk/",
            "dtype": "f8"
           },
           "y": {
            "bdata": "AAAAAAAAAAAAAAAAAAAAAAAAAAAAAAAAAAAAAAAAAAAAAAAAAAAAAAAAAAAAAAAAAAAAAAAAAAAAAAAAAAAAAAAAAAAAAAAAAAAAAAAAAAAAAAAAAAAAAAAAAAAAAAAAAAAAAAAAAAAAAAAAAAAAAAAAAAAAAAAAAAAAAAAAAAAAAAAAAAAAAAAAAAAAAAAAAAAAAAAAAAAAAAAAAAAAAAAAAAAAAAAA",
            "dtype": "f8"
           },
           "z": {
            "bdata": "AAAAAAAAAAAAAAAAAAAAAAAAAAAAAAAAloRY7m+EUr/N/+ni/Y1pv318gYxuFHe/Ktyt4kUWgb9ewUwaT2GGv6J3N6bFyYq/syxbF2q5jb9cljFmWb+Ov+NOfAmBsY2/u6rgBeW7ir9u2+pmg1CGv0LZ3D23BYG/h/wKdBb5dr/dDnl5FWppv80KOUVkZlK/AAAAAAAAAAAAAAAAAAAAAAAAAAAAAAAA",
            "dtype": "f8"
           }
          }
         ],
         "layout": {
          "annotations": [
           {
            "showarrow": false,
            "text": "Time: 0.06s (Step: 7/100)",
            "x": 0.05,
            "xref": "paper",
            "y": 0.95,
            "yref": "paper"
           }
          ]
         },
         "name": "6"
        },
        {
         "data": [
          {
           "name": "Free Nodes",
           "type": "scatter3d",
           "x": {
            "bdata": "rnt8UDhllz/UFtFIEAecP+WMbtSJLKA/A1B6OJ9Doj8zcUwfF2akPyJv3I1fq6Y/vH3eqFIaqT+7fYGLJ6WrP+YgOPauL64/n/TaavtOsD/JbCBNXnGxP/YqfjSjgrI/f8uLHoiOsz9r+CM8i6O0P84axyFszLU/",
            "dtype": "f8"
           },
           "y": {
            "bdata": "AAAAAAAAAAAAAAAAAAAAAAAAAAAAAAAAAAAAAAAAAAAAAAAAAAAAAAAAAAAAAAAAAAAAAAAAAAAAAAAAAAAAAAAAAAAAAAAAAAAAAAAAAAAAAAAAAAAAAAAAAAAAAAAAAAAAAAAAAAAAAAAAAAAAAAAAAAAAAAAA",
            "dtype": "f8"
           },
           "z": {
            "bdata": "lXXIKrS8U7/b5z/E5ThrvxPRkYAEkXi/TAeB+wsugr9OKL1JqNCHv5rQPSeJhYy/9MaDo0Gqj7/Bt9rKLmGQv6v4wqAyn4+/pFzyWDdyjL+phChnZLmHv/ifhSQzF4K/v/DUc1ZreL/DdtY+Xwdrv5lm8+M3k1O/",
            "dtype": "f8"
           }
          },
          {
           "name": "Fixed Nodes",
           "type": "scatter3d",
           "x": {
            "bdata": "/Knx0k1igD88tMh2vp+KPz3fT42XbpI/CtejcD0Ktz9SuB6F61G4P5qZmZmZmbk/",
            "dtype": "f8"
           },
           "y": {
            "bdata": "AAAAAAAAAAAAAAAAAAAAAAAAAAAAAAAAAAAAAAAAAAAAAAAAAAAAAAAAAAAAAAAA",
            "dtype": "f8"
           },
           "z": {
            "bdata": "AAAAAAAAAAAAAAAAAAAAAAAAAAAAAAAAAAAAAAAAAAAAAAAAAAAAAAAAAAAAAAAA",
            "dtype": "f8"
           }
          },
          {
           "name": "Edges",
           "type": "scatter3d",
           "x": [
            0.008,
            0.013000000000000005,
            null,
            0.013000000000000005,
            0.018000000000000006,
            null,
            0.018000000000000006,
            0.02284706107377204,
            null,
            0.02284706107377204,
            0.027370695537931436,
            null,
            0.027370695537931436,
            0.03158980100786283,
            null,
            0.03158980100786283,
            0.03567216457773272,
            null,
            0.03567216457773272,
            0.039841387339239275,
            null,
            0.039841387339239275,
            0.04427622420027279,
            null,
            0.04427622420027279,
            0.04902895270719962,
            null,
            0.04902895270719962,
            0.053994403628844855,
            null,
            0.053994403628844855,
            0.05895754581075767,
            null,
            0.05895754581075767,
            0.06370517119190076,
            null,
            0.06370517119190076,
            0.06813611395812126,
            null,
            0.06813611395812126,
            0.07230587035716582,
            null,
            0.07230587035716582,
            0.07639361139062649,
            null,
            0.07639361139062649,
            0.08062048166536477,
            null,
            0.08062048166536477,
            0.08515048813488166,
            null,
            0.08515048813488166,
            0.09,
            null,
            0.09,
            0.095,
            null,
            0.095,
            0.1,
            null
           ],
           "y": [
            0,
            0,
            null,
            0,
            0,
            null,
            0,
            0,
            null,
            0,
            0,
            null,
            0,
            0,
            null,
            0,
            0,
            null,
            0,
            0,
            null,
            0,
            0,
            null,
            0,
            0,
            null,
            0,
            0,
            null,
            0,
            0,
            null,
            0,
            0,
            null,
            0,
            0,
            null,
            0,
            0,
            null,
            0,
            0,
            null,
            0,
            0,
            null,
            0,
            0,
            null,
            0,
            0,
            null,
            0,
            0,
            null,
            0,
            0,
            null
           ],
           "z": [
            0,
            0,
            null,
            0,
            0,
            null,
            0,
            -0.0012046584553283325,
            null,
            -0.0012046584553283325,
            -0.00332302929200255,
            null,
            -0.00332302929200255,
            -0.005997674547973969,
            null,
            -0.005997674547973969,
            -0.008876889813226228,
            null,
            -0.008876889813226228,
            -0.011628451109249618,
            null,
            -0.011628451109249618,
            -0.013926574239782764,
            null,
            -0.013926574239782764,
            -0.015461457064222618,
            null,
            -0.015461457064222618,
            -0.015995722895858714,
            null,
            -0.015995722895858714,
            -0.015440364390425584,
            null,
            -0.015440364390425584,
            -0.013889725114763891,
            null,
            -0.013889725114763891,
            -0.011584076307430928,
            null,
            -0.011584076307430928,
            -0.008833312561094417,
            null,
            -0.008833312561094417,
            -0.005961740212395649,
            null,
            -0.005961740212395649,
            -0.003299413706101402,
            null,
            -0.003299413706101402,
            -0.0011947675518996558,
            null,
            -0.0011947675518996558,
            0,
            null,
            0,
            0,
            null,
            0,
            0,
            null
           ]
          },
          {
           "i": [],
           "j": [],
           "k": [],
           "name": "Faces",
           "type": "mesh3d",
           "x": {
            "bdata": "/Knx0k1igD88tMh2vp+KPz3fT42XbpI/rnt8UDhllz/UFtFIEAecP+WMbtSJLKA/A1B6OJ9Doj8zcUwfF2akPyJv3I1fq6Y/vH3eqFIaqT+7fYGLJ6WrP+YgOPauL64/n/TaavtOsD/JbCBNXnGxP/YqfjSjgrI/f8uLHoiOsz9r+CM8i6O0P84axyFszLU/CtejcD0Ktz9SuB6F61G4P5qZmZmZmbk/",
            "dtype": "f8"
           },
           "y": {
            "bdata": "AAAAAAAAAAAAAAAAAAAAAAAAAAAAAAAAAAAAAAAAAAAAAAAAAAAAAAAAAAAAAAAAAAAAAAAAAAAAAAAAAAAAAAAAAAAAAAAAAAAAAAAAAAAAAAAAAAAAAAAAAAAAAAAAAAAAAAAAAAAAAAAAAAAAAAAAAAAAAAAAAAAAAAAAAAAAAAAAAAAAAAAAAAAAAAAAAAAAAAAAAAAAAAAAAAAAAAAAAAAAAAAA",
            "dtype": "f8"
           },
           "z": {
            "bdata": "AAAAAAAAAAAAAAAAAAAAAAAAAAAAAAAAlXXIKrS8U7/b5z/E5ThrvxPRkYAEkXi/TAeB+wsugr9OKL1JqNCHv5rQPSeJhYy/9MaDo0Gqj7/Bt9rKLmGQv6v4wqAyn4+/pFzyWDdyjL+phChnZLmHv/ifhSQzF4K/v/DUc1ZreL/DdtY+Xwdrv5lm8+M3k1O/AAAAAAAAAAAAAAAAAAAAAAAAAAAAAAAA",
            "dtype": "f8"
           }
          }
         ],
         "layout": {
          "annotations": [
           {
            "showarrow": false,
            "text": "Time: 0.07s (Step: 8/100)",
            "x": 0.05,
            "xref": "paper",
            "y": 0.95,
            "yref": "paper"
           }
          ]
         },
         "name": "7"
        },
        {
         "data": [
          {
           "name": "Free Nodes",
           "type": "scatter3d",
           "x": {
            "bdata": "I/cj5fxmmD9FYngAbfqcP7NiVSAImqA/bIF5DFeioj/Vg39E7rakP88ry2Be8qY/MaQXfdJcqT9RrAbhB+erPziCyrcSca4/jOpwS5RtsD9Nrp/8J4uxP0BmrVt3lbI/hWU1ws6Zsz82ZNEsfqi0Pzx8DLmVzbU/",
            "dtype": "f8"
           },
           "y": {
            "bdata": "AAAAAAAAAAAAAAAAAAAAAAAAAAAAAAAAAAAAAAAAAAAAAAAAAAAAAAAAAAAAAAAAAAAAAAAAAAAAAAAAAAAAAAAAAAAAAAAAAAAAAAAAAAAAAAAAAAAAAAAAAAAAAAAAAAAAAAAAAAAAAAAAAAAAAAAAAAAAAAAA",
            "dtype": "f8"
           },
           "z": {
            "bdata": "DcXRfKPMVL9xvm53265svwVBw5Ay4Hm//fbpsycmg79w4uEMjxmJv+CagKyHF46/EsrvsuS4kL9dn1Bev0+Rv9ddmn8MtpC/9lJchpkNjr/6J4Txlw2Jvwo4Aw5aGoO/240nYoTMeb+GeOz9gJRsv1wWwksWtlS/",
            "dtype": "f8"
           }
          },
          {
           "name": "Fixed Nodes",
           "type": "scatter3d",
           "x": {
            "bdata": "PN9PjZdugj986SYxCKyMP935fmq8dJM/CtejcD0Ktz9SuB6F61G4P5qZmZmZmbk/",
            "dtype": "f8"
           },
           "y": {
            "bdata": "AAAAAAAAAAAAAAAAAAAAAAAAAAAAAAAAAAAAAAAAAAAAAAAAAAAAAAAAAAAAAAAA",
            "dtype": "f8"
           },
           "z": {
            "bdata": "AAAAAAAAAAAAAAAAAAAAAAAAAAAAAAAAAAAAAAAAAAAAAAAAAAAAAAAAAAAAAAAA",
            "dtype": "f8"
           }
          },
          {
           "name": "Edges",
           "type": "scatter3d",
           "x": [
            0.009000000000000001,
            0.014000000000000005,
            null,
            0.014000000000000005,
            0.019000000000000006,
            null,
            0.019000000000000006,
            0.02383036755144653,
            null,
            0.02383036755144653,
            0.0282990485703485,
            null,
            0.0282990485703485,
            0.03242516894051075,
            null,
            0.03242516894051075,
            0.03639480616834842,
            null,
            0.03639480616834842,
            0.04045815073164475,
            null,
            0.04045815073164475,
            0.04481787616312937,
            null,
            0.04481787616312937,
            0.049536302347242496,
            null,
            0.049536302347242496,
            0.054496999949457454,
            null,
            0.054496999949457454,
            0.0594564294199284,
            null,
            0.0594564294199284,
            0.06417204706023422,
            null,
            0.06417204706023422,
            0.06852960507938484,
            null,
            0.06852960507938484,
            0.07259317386833519,
            null,
            0.07259317386833519,
            0.07656566850109499,
            null,
            0.07656566850109499,
            0.08069599718273043,
            null,
            0.08069599718273043,
            0.08516822593490841,
            null,
            0.08516822593490841,
            0.09,
            null,
            0.09,
            0.095,
            null,
            0.095,
            0.1,
            null
           ],
           "y": [
            0,
            0,
            null,
            0,
            0,
            null,
            0,
            0,
            null,
            0,
            0,
            null,
            0,
            0,
            null,
            0,
            0,
            null,
            0,
            0,
            null,
            0,
            0,
            null,
            0,
            0,
            null,
            0,
            0,
            null,
            0,
            0,
            null,
            0,
            0,
            null,
            0,
            0,
            null,
            0,
            0,
            null,
            0,
            0,
            null,
            0,
            0,
            null,
            0,
            0,
            null,
            0,
            0,
            null,
            0,
            0,
            null,
            0,
            0,
            null
           ],
           "z": [
            0,
            0,
            null,
            0,
            0,
            null,
            0,
            -0.0012694927748067603,
            null,
            -0.0012694927748067603,
            -0.0035013472038015127,
            null,
            -0.0035013472038015127,
            -0.00631732704296462,
            null,
            -0.00631732704296462,
            -0.009350118806874525,
            null,
            -0.009350118806874525,
            -0.012255780773771735,
            null,
            -0.012255780773771735,
            -0.014693317367414804,
            null,
            -0.014693317367414804,
            -0.016330312177112623,
            null,
            -0.016330312177112623,
            -0.016905775195623963,
            null,
            -0.016905775195623963,
            -0.016319461143749905,
            null,
            -0.016319461143749905,
            -0.014674376881467204,
            null,
            -0.014674376881467204,
            -0.012232958848944254,
            null,
            -0.012232958848944254,
            -0.009327605774526421,
            null,
            -0.009327605774526421,
            -0.006298558352202356,
            null,
            -0.006298558352202356,
            -0.0034887809155313447,
            null,
            -0.0034887809155313447,
            -0.0012641160710996835,
            null,
            -0.0012641160710996835,
            0,
            null,
            0,
            0,
            null,
            0,
            0,
            null
           ]
          },
          {
           "i": [],
           "j": [],
           "k": [],
           "name": "Faces",
           "type": "mesh3d",
           "x": {
            "bdata": "PN9PjZdugj986SYxCKyMP935fmq8dJM/I/cj5fxmmD9FYngAbfqcP7NiVSAImqA/bIF5DFeioj/Vg39E7rakP88ry2Be8qY/MaQXfdJcqT9RrAbhB+erPziCyrcSca4/jOpwS5RtsD9Nrp/8J4uxP0BmrVt3lbI/hWU1ws6Zsz82ZNEsfqi0Pzx8DLmVzbU/CtejcD0Ktz9SuB6F61G4P5qZmZmZmbk/",
            "dtype": "f8"
           },
           "y": {
            "bdata": "AAAAAAAAAAAAAAAAAAAAAAAAAAAAAAAAAAAAAAAAAAAAAAAAAAAAAAAAAAAAAAAAAAAAAAAAAAAAAAAAAAAAAAAAAAAAAAAAAAAAAAAAAAAAAAAAAAAAAAAAAAAAAAAAAAAAAAAAAAAAAAAAAAAAAAAAAAAAAAAAAAAAAAAAAAAAAAAAAAAAAAAAAAAAAAAAAAAAAAAAAAAAAAAAAAAAAAAAAAAAAAAA",
            "dtype": "f8"
           },
           "z": {
            "bdata": "AAAAAAAAAAAAAAAAAAAAAAAAAAAAAAAADcXRfKPMVL9xvm53265svwVBw5Ay4Hm//fbpsycmg79w4uEMjxmJv+CagKyHF46/EsrvsuS4kL9dn1Bev0+Rv9ddmn8MtpC/9lJchpkNjr/6J4Txlw2Jvwo4Aw5aGoO/240nYoTMeb+GeOz9gJRsv1wWwksWtlS/AAAAAAAAAAAAAAAAAAAAAAAAAAAAAAAA",
            "dtype": "f8"
           }
          }
         ],
         "layout": {
          "annotations": [
           {
            "showarrow": false,
            "text": "Time: 0.08s (Step: 9/100)",
            "x": 0.05,
            "xref": "paper",
            "y": 0.95,
            "yref": "paper"
           }
          ]
         },
         "name": "8"
        },
        {
         "data": [
          {
           "name": "Free Nodes",
           "type": "scatter3d",
           "x": {
            "bdata": "AZkh8MRomT/j50KU1+2dP1tRhsKXB6E/X4Ux+SkBoz9Llt1h3welP8uFCvlqOac/MUWCd1WfqT+fdm7g6SisP0g+IXd2sq4/ruU4LSeMsD9Cz2gH5KSxP7IzDrE7qLI/ZYE36gmlsz/yNAKba620P58R+bW9zrU/",
            "dtype": "f8"
           },
           "y": {
            "bdata": "AAAAAAAAAAAAAAAAAAAAAAAAAAAAAAAAAAAAAAAAAAAAAAAAAAAAAAAAAAAAAAAAAAAAAAAAAAAAAAAAAAAAAAAAAAAAAAAAAAAAAAAAAAAAAAAAAAAAAAAAAAAAAAAAAAAAAAAAAAAAAAAAAAAAAAAAAAAAAAAA",
            "dtype": "f8"
           },
           "z": {
            "bdata": "JS02XOvNVb+m8jOftQ5uv3Hi9ua9GXu/jQCIoEoNhL+mzZhRhkuKv6eISdfPjY+/nVm8K0mNkb+O0DyHVC6Sv0OTxsjLjJG/qtu6aw2Mj78UdAvETUmKv9HXyezyCoS/sDmdPHIVe7/zkNgkLQhuv2ung1SPx1W/",
            "dtype": "f8"
           }
          },
          {
           "name": "Fixed Nodes",
           "type": "scatter3d",
           "x": {
            "bdata": "fBSuR+F6hD+8HoXrUbiOP30UrkfhepQ/CtejcD0Ktz9SuB6F61G4P5qZmZmZmbk/",
            "dtype": "f8"
           },
           "y": {
            "bdata": "AAAAAAAAAAAAAAAAAAAAAAAAAAAAAAAAAAAAAAAAAAAAAAAAAAAAAAAAAAAAAAAA",
            "dtype": "f8"
           },
           "z": {
            "bdata": "AAAAAAAAAAAAAAAAAAAAAAAAAAAAAAAAAAAAAAAAAAAAAAAAAAAAAAAAAAAAAAAA",
            "dtype": "f8"
           }
          },
          {
           "name": "Edges",
           "type": "scatter3d",
           "x": [
            0.010000000000000002,
            0.015000000000000006,
            null,
            0.015000000000000006,
            0.020000000000000007,
            null,
            0.020000000000000007,
            0.02481372562069684,
            null,
            0.02481372562069684,
            0.029227608131556237,
            null,
            0.029227608131556237,
            0.03326105355805239,
            null,
            0.03326105355805239,
            0.037118255299683815,
            null,
            0.037118255299683815,
            0.04107568807266356,
            null,
            0.04107568807266356,
            0.04535993852665462,
            null,
            0.04535993852665462,
            0.050043745840535066,
            null,
            0.050043745840535066,
            0.054999645849631344,
            null,
            0.054999645849631344,
            0.05995531276914484,
            null,
            0.05995531276914484,
            0.0646385655790229,
            null,
            0.0646385655790229,
            0.06892228299039707,
            null,
            0.06892228299039707,
            0.07287953446048226,
            null,
            0.07287953446048226,
            0.076737041169968,
            null,
            0.076737041169968,
            0.08077118429556032,
            null,
            0.08077118429556032,
            0.08518586819361083,
            null,
            0.08518586819361083,
            0.09,
            null,
            0.09,
            0.095,
            null,
            0.095,
            0.1,
            null
           ],
           "y": [
            0,
            0,
            null,
            0,
            0,
            null,
            0,
            0,
            null,
            0,
            0,
            null,
            0,
            0,
            null,
            0,
            0,
            null,
            0,
            0,
            null,
            0,
            0,
            null,
            0,
            0,
            null,
            0,
            0,
            null,
            0,
            0,
            null,
            0,
            0,
            null,
            0,
            0,
            null,
            0,
            0,
            null,
            0,
            0,
            null,
            0,
            0,
            null,
            0,
            0,
            null,
            0,
            0,
            null,
            0,
            0,
            null,
            0,
            0,
            null
           ],
           "z": [
            0,
            0,
            null,
            0,
            0,
            null,
            0,
            -0.0013308332862347974,
            null,
            -0.0013308332862347974,
            -0.0036691233923405618,
            null,
            -0.0036691233923405618,
            -0.006616346173750829,
            null,
            -0.006616346173750829,
            -0.009790976547265262,
            null,
            -0.009790976547265262,
            -0.012839364400042918,
            null,
            -0.012839364400042918,
            -0.015407203443093499,
            null,
            -0.015407203443093499,
            -0.01714052514497554,
            null,
            -0.01714052514497554,
            -0.01775486064362091,
            null,
            -0.01775486064362091,
            -0.017138656739592816,
            null,
            -0.017138656739592816,
            -0.015403847551494671,
            null,
            -0.015403847551494671,
            -0.01283512835055415,
            null,
            -0.01283512835055415,
            -0.009786508418283464,
            null,
            -0.009786508418283464,
            -0.006612249600790696,
            null,
            -0.006612249600790696,
            -0.0036660081593869963,
            null,
            -0.0036660081593869963,
            -0.0013293170650805163,
            null,
            -0.0013293170650805163,
            0,
            null,
            0,
            0,
            null,
            0,
            0,
            null
           ]
          },
          {
           "i": [],
           "j": [],
           "k": [],
           "name": "Faces",
           "type": "mesh3d",
           "x": {
            "bdata": "fBSuR+F6hD+8HoXrUbiOP30UrkfhepQ/AZkh8MRomT/j50KU1+2dP1tRhsKXB6E/X4Ux+SkBoz9Llt1h3welP8uFCvlqOac/MUWCd1WfqT+fdm7g6SisP0g+IXd2sq4/ruU4LSeMsD9Cz2gH5KSxP7IzDrE7qLI/ZYE36gmlsz/yNAKba620P58R+bW9zrU/CtejcD0Ktz9SuB6F61G4P5qZmZmZmbk/",
            "dtype": "f8"
           },
           "y": {
            "bdata": "AAAAAAAAAAAAAAAAAAAAAAAAAAAAAAAAAAAAAAAAAAAAAAAAAAAAAAAAAAAAAAAAAAAAAAAAAAAAAAAAAAAAAAAAAAAAAAAAAAAAAAAAAAAAAAAAAAAAAAAAAAAAAAAAAAAAAAAAAAAAAAAAAAAAAAAAAAAAAAAAAAAAAAAAAAAAAAAAAAAAAAAAAAAAAAAAAAAAAAAAAAAAAAAAAAAAAAAAAAAAAAAA",
            "dtype": "f8"
           },
           "z": {
            "bdata": "AAAAAAAAAAAAAAAAAAAAAAAAAAAAAAAAJS02XOvNVb+m8jOftQ5uv3Hi9ua9GXu/jQCIoEoNhL+mzZhRhkuKv6eISdfPjY+/nVm8K0mNkb+O0DyHVC6Sv0OTxsjLjJG/qtu6aw2Mj78UdAvETUmKv9HXyezyCoS/sDmdPHIVe7/zkNgkLQhuv2ung1SPx1W/AAAAAAAAAAAAAAAAAAAAAAAAAAAAAAAA",
            "dtype": "f8"
           }
          }
         ],
         "layout": {
          "annotations": [
           {
            "showarrow": false,
            "text": "Time: 0.09s (Step: 10/100)",
            "x": 0.05,
            "xref": "paper",
            "y": 0.95,
            "yref": "paper"
           }
          ]
         },
         "name": "9"
        },
        {
         "data": [
          {
           "name": "Free Nodes",
           "type": "scatter3d",
           "x": {
            "bdata": "wb2fhG5qmj/dAGU82eCePxUH/9nMdKE/qyvXtY5foz9g1xLBY1ilPxmT8qMagKc/LdR5j5DhqT8CRt2Ij2qsP9UiTciQ864/b2fYuYSqsD+9U1crXr6xP1SNViTCurI/hz4vbxqwsz9bBfPaRLK0P7EeZY3gz7U/",
            "dtype": "f8"
           },
           "y": {
            "bdata": "AAAAAAAAAAAAAAAAAAAAAAAAAAAAAAAAAAAAAAAAAAAAAAAAAAAAAAAAAAAAAAAAAAAAAAAAAAAAAAAAAAAAAAAAAAAAAAAAAAAAAAAAAAAAAAAAAAAAAAAAAAAAAAAAAAAAAAAAAAAAAAAAAAAAAAAAAAAAAAAA",
            "dtype": "f8"
           },
           "z": {
            "bdata": "r6G5RMbJVr8ShkxZxGNvvzhd/PSjRny/PnTZaUfphL9+VejsIG2LvztwFfp4d5C/quy4uDBVkr9vyNK7Jf+SvxlzdPhUVZK/gzWCr6x3kL995Vp9cW2Lv8lKFXVZ6YS/pqUfPyxGfL8Lz6+R+2Fvv4zu+6EWx1a/",
            "dtype": "f8"
           }
          },
          {
           "name": "Fixed Nodes",
           "type": "scatter3d",
           "x": {
            "bdata": "vEkMAiuHhj/+qfHSTWKQPx0v3SQGgZU/CtejcD0Ktz9SuB6F61G4P5qZmZmZmbk/",
            "dtype": "f8"
           },
           "y": {
            "bdata": "AAAAAAAAAAAAAAAAAAAAAAAAAAAAAAAAAAAAAAAAAAAAAAAAAAAAAAAAAAAAAAAA",
            "dtype": "f8"
           },
           "z": {
            "bdata": "AAAAAAAAAAAAAAAAAAAAAAAAAAAAAAAAAAAAAAAAAAAAAAAAAAAAAAAAAAAAAAAA",
            "dtype": "f8"
           }
          },
          {
           "name": "Edges",
           "type": "scatter3d",
           "x": [
            0.011000000000000003,
            0.016000000000000007,
            null,
            0.016000000000000007,
            0.021000000000000008,
            null,
            0.021000000000000008,
            0.025796629757619764,
            null,
            0.025796629757619764,
            0.030154604254904228,
            null,
            0.030154604254904228,
            0.03409423981749008,
            null,
            0.03409423981749008,
            0.037838420579269304,
            null,
            0.037838420579269304,
            0.04168998462539153,
            null,
            0.04168998462539153,
            0.045899231446389695,
            null,
            0.045899231446389695,
            0.05054904700674743,
            null,
            0.05054904700674743,
            0.05550049348552123,
            null,
            0.05550049348552123,
            0.060452007723659364,
            null,
            0.060452007723659364,
            0.06510190522422275,
            null,
            0.06510190522422275,
            0.0693110328496251,
            null,
            0.0693110328496251,
            0.07316220652733324,
            null,
            0.07316220652733324,
            0.076905872482934,
            null,
            0.076905872482934,
            0.08084516854707628,
            null,
            0.08084516854707628,
            0.08520320369745595,
            null,
            0.08520320369745595,
            0.09,
            null,
            0.09,
            0.095,
            null,
            0.095,
            0.1,
            null
           ],
           "y": [
            0,
            0,
            null,
            0,
            0,
            null,
            0,
            0,
            null,
            0,
            0,
            null,
            0,
            0,
            null,
            0,
            0,
            null,
            0,
            0,
            null,
            0,
            0,
            null,
            0,
            0,
            null,
            0,
            0,
            null,
            0,
            0,
            null,
            0,
            0,
            null,
            0,
            0,
            null,
            0,
            0,
            null,
            0,
            0,
            null,
            0,
            0,
            null,
            0,
            0,
            null,
            0,
            0,
            null,
            0,
            0,
            null,
            0,
            0,
            null
           ],
           "z": [
            0,
            0,
            null,
            0,
            0,
            null,
            0,
            -0.0013908802237897302,
            null,
            -0.0013908802237897302,
            -0.003831752294346521,
            null,
            -0.003831752294346521,
            -0.006903305489479643,
            null,
            -0.006903305489479643,
            -0.010210569303291558,
            null,
            -0.010210569303291558,
            -0.013391740064472964,
            null,
            -0.013391740064472964,
            -0.016080751670742393,
            null,
            -0.016080751670742393,
            -0.017903100275571994,
            null,
            -0.017903100275571994,
            -0.01855143507845763,
            null,
            -0.01855143507845763,
            -0.01790364042709589,
            null,
            -0.01790364042709589,
            -0.016081522190281482,
            null,
            -0.016081522190281482,
            -0.01339234031489655,
            null,
            -0.01339234031489655,
            -0.010210703740687237,
            null,
            -0.010210703740687237,
            -0.0069028595334911565,
            null,
            -0.0069028595334911565,
            -0.0038309014757887997,
            null,
            -0.0038309014757887997,
            -0.001390239813132607,
            null,
            -0.001390239813132607,
            0,
            null,
            0,
            0,
            null,
            0,
            0,
            null
           ]
          },
          {
           "i": [],
           "j": [],
           "k": [],
           "name": "Faces",
           "type": "mesh3d",
           "x": {
            "bdata": "vEkMAiuHhj/+qfHSTWKQPx0v3SQGgZU/wb2fhG5qmj/dAGU82eCePxUH/9nMdKE/qyvXtY5foz9g1xLBY1ilPxmT8qMagKc/LdR5j5DhqT8CRt2Ij2qsP9UiTciQ864/b2fYuYSqsD+9U1crXr6xP1SNViTCurI/hz4vbxqwsz9bBfPaRLK0P7EeZY3gz7U/CtejcD0Ktz9SuB6F61G4P5qZmZmZmbk/",
            "dtype": "f8"
           },
           "y": {
            "bdata": "AAAAAAAAAAAAAAAAAAAAAAAAAAAAAAAAAAAAAAAAAAAAAAAAAAAAAAAAAAAAAAAAAAAAAAAAAAAAAAAAAAAAAAAAAAAAAAAAAAAAAAAAAAAAAAAAAAAAAAAAAAAAAAAAAAAAAAAAAAAAAAAAAAAAAAAAAAAAAAAAAAAAAAAAAAAAAAAAAAAAAAAAAAAAAAAAAAAAAAAAAAAAAAAAAAAAAAAAAAAAAAAA",
            "dtype": "f8"
           },
           "z": {
            "bdata": "AAAAAAAAAAAAAAAAAAAAAAAAAAAAAAAAr6G5RMbJVr8ShkxZxGNvvzhd/PSjRny/PnTZaUfphL9+VejsIG2LvztwFfp4d5C/quy4uDBVkr9vyNK7Jf+SvxlzdPhUVZK/gzWCr6x3kL995Vp9cW2Lv8lKFXVZ6YS/pqUfPyxGfL8Lz6+R+2Fvv4zu+6EWx1a/AAAAAAAAAAAAAAAAAAAAAAAAAAAAAAAA",
            "dtype": "f8"
           }
          }
         ],
         "layout": {
          "annotations": [
           {
            "showarrow": false,
            "text": "Time: 0.10s (Step: 11/100)",
            "x": 0.05,
            "xref": "paper",
            "y": 0.95,
            "yref": "paper"
           }
          ]
         },
         "name": "10"
        },
        {
         "data": [
          {
           "name": "Free Nodes",
           "type": "scatter3d",
           "x": {
            "bdata": "hRCGCQBsmz9g799/idOfPzeRy5+94aE/w2OGVqK9oz8Z7kdrmKilP23o4ZGExqc/ZVGYApQjqj/7OjYXBqysP3SDmcZxNK8/kntqRLjIsD8DstB2pNexP4t0CMQYzbI/N4HhGgu7sz/VW223D7e0P2Wb7+H/0LU/",
            "dtype": "f8"
           },
           "y": {
            "bdata": "AAAAAAAAAAAAAAAAAAAAAAAAAAAAAAAAAAAAAAAAAAAAAAAAAAAAAAAAAAAAAAAAAAAAAAAAAAAAAAAAAAAAAAAAAAAAAAAAAAAAAAAAAAAAAAAAAAAAAAAAAAAAAAAAAAAAAAAAAAAAAAAAAAAAAAAAAAAAAAAA",
            "dtype": "f8"
           },
           "z": {
            "bdata": "BmBSw2+/V7/SbhofxlZwvxZx/WH+Zn2/sPgYjZS6hb9Hjqg1dn+Mv6Q/iJBlHpG/hbtb8fERk7+H6pIx5cOTvwtAVGaWEZO/vZw2srodkb8sJc4Wrn2MvwXznT2QuIW/6z7AbvZifb/Lafi9ZVNwv5LgkCRHuFe/",
            "dtype": "f8"
           }
          },
          {
           "name": "Fixed Nodes",
           "type": "scatter3d",
           "x": {
            "bdata": "/H5qvHSTiD+exCCwcmiRP71JDAIrh5Y/CtejcD0Ktz9SuB6F61G4P5qZmZmZmbk/",
            "dtype": "f8"
           },
           "y": {
            "bdata": "AAAAAAAAAAAAAAAAAAAAAAAAAAAAAAAAAAAAAAAAAAAAAAAAAAAAAAAAAAAAAAAA",
            "dtype": "f8"
           },
           "z": {
            "bdata": "AAAAAAAAAAAAAAAAAAAAAAAAAAAAAAAAAAAAAAAAAAAAAAAAAAAAAAAAAAAAAAAA",
            "dtype": "f8"
           }
          },
          {
           "name": "Edges",
           "type": "scatter3d",
           "x": [
            0.012000000000000004,
            0.017000000000000008,
            null,
            0.017000000000000008,
            0.02200000000000001,
            null,
            0.02200000000000001,
            0.026779175359039193,
            null,
            0.026779175359039193,
            0.031080387525420305,
            null,
            0.031080387525420305,
            0.03492539001107036,
            null,
            0.03492539001107036,
            0.03855616861546409,
            null,
            0.03855616861546409,
            0.042301905723402373,
            null,
            0.042301905723402373,
            0.046436446006695366,
            null,
            0.046436446006695366,
            0.051052689854403956,
            null,
            0.051052689854403956,
            0.055999937375522855,
            null,
            0.055999937375522855,
            0.060946994298098384,
            null,
            0.060946994298098384,
            0.06556274099646789,
            null,
            0.06556274099646789,
            0.06969669247400394,
            null,
            0.06969669247400394,
            0.07344202791178327,
            null,
            0.07344202791178327,
            0.07707280546447214,
            null,
            0.07707280546447214,
            0.0809182951755781,
            null,
            0.0809182951755781,
            0.08522032991423385,
            null,
            0.08522032991423385,
            0.09,
            null,
            0.09,
            0.095,
            null,
            0.095,
            0.1,
            null
           ],
           "y": [
            0,
            0,
            null,
            0,
            0,
            null,
            0,
            0,
            null,
            0,
            0,
            null,
            0,
            0,
            null,
            0,
            0,
            null,
            0,
            0,
            null,
            0,
            0,
            null,
            0,
            0,
            null,
            0,
            0,
            null,
            0,
            0,
            null,
            0,
            0,
            null,
            0,
            0,
            null,
            0,
            0,
            null,
            0,
            0,
            null,
            0,
            0,
            null,
            0,
            0,
            null,
            0,
            0,
            null,
            0,
            0,
            null,
            0,
            0,
            null
           ],
           "z": [
            0,
            0,
            null,
            0,
            0,
            null,
            0,
            -0.0014494506297406686,
            null,
            -0.0014494506297406686,
            -0.003989004051301941,
            null,
            -0.003989004051301941,
            -0.007178300554951519,
            null,
            -0.007178300554951519,
            -0.010609779888110488,
            null,
            -0.010609779888110488,
            -0.013914989006543211,
            null,
            -0.013914989006543211,
            -0.016717516848131844,
            null,
            -0.016717516848131844,
            -0.018623142582267178,
            null,
            -0.018623142582267178,
            -0.01930196871829051,
            null,
            -0.01930196871829051,
            -0.018621778484032386,
            null,
            -0.018621778484032386,
            -0.016714970710066213,
            null,
            -0.016714970710066213,
            -0.013911590643845693,
            null,
            -0.013911590643845693,
            -0.01060593307533387,
            null,
            -0.01060593307533387,
            -0.007174456241059816,
            null,
            -0.007174456241059816,
            -0.0039857839870145,
            null,
            -0.0039857839870145,
            -0.0014477438692335515,
            null,
            -0.0014477438692335515,
            0,
            null,
            0,
            0,
            null,
            0,
            0,
            null
           ]
          },
          {
           "i": [],
           "j": [],
           "k": [],
           "name": "Faces",
           "type": "mesh3d",
           "x": {
            "bdata": "/H5qvHSTiD+exCCwcmiRP71JDAIrh5Y/hRCGCQBsmz9g799/idOfPzeRy5+94aE/w2OGVqK9oz8Z7kdrmKilP23o4ZGExqc/ZVGYApQjqj/7OjYXBqysP3SDmcZxNK8/kntqRLjIsD8DstB2pNexP4t0CMQYzbI/N4HhGgu7sz/VW223D7e0P2Wb7+H/0LU/CtejcD0Ktz9SuB6F61G4P5qZmZmZmbk/",
            "dtype": "f8"
           },
           "y": {
            "bdata": "AAAAAAAAAAAAAAAAAAAAAAAAAAAAAAAAAAAAAAAAAAAAAAAAAAAAAAAAAAAAAAAAAAAAAAAAAAAAAAAAAAAAAAAAAAAAAAAAAAAAAAAAAAAAAAAAAAAAAAAAAAAAAAAAAAAAAAAAAAAAAAAAAAAAAAAAAAAAAAAAAAAAAAAAAAAAAAAAAAAAAAAAAAAAAAAAAAAAAAAAAAAAAAAAAAAAAAAAAAAAAAAA",
            "dtype": "f8"
           },
           "z": {
            "bdata": "AAAAAAAAAAAAAAAAAAAAAAAAAAAAAAAABmBSw2+/V7/SbhofxlZwvxZx/WH+Zn2/sPgYjZS6hb9Hjqg1dn+Mv6Q/iJBlHpG/hbtb8fERk7+H6pIx5cOTvwtAVGaWEZO/vZw2srodkb8sJc4Wrn2MvwXznT2QuIW/6z7AbvZifb/Lafi9ZVNwv5LgkCRHuFe/AAAAAAAAAAAAAAAAAAAAAAAAAAAAAAAA",
            "dtype": "f8"
           }
          }
         ],
         "layout": {
          "annotations": [
           {
            "showarrow": false,
            "text": "Time: 0.11s (Step: 12/100)",
            "x": 0.05,
            "xref": "paper",
            "y": 0.95,
            "yref": "paper"
           }
          ]
         },
         "name": "11"
        },
        {
         "data": [
          {
           "name": "Free Nodes",
           "type": "scatter3d",
           "x": {
            "bdata": "FFY+nIhtnD83M7S+D2OgP7tJuiGeTqI/+lB9u6kbpD86T6Wtw/ilPy9d/pHiDKg/zVJxiollqj85NdoVcO2sP4LOCLZCda8/mt2+m93msD+Hp7W31/CxP3A4ytBe37I/unVs8PLFsz/Jx2IW2Lu0P7dIyOge0rU/",
            "dtype": "f8"
           },
           "y": {
            "bdata": "AAAAAAAAAAAAAAAAAAAAAAAAAAAAAAAAAAAAAAAAAAAAAAAAAAAAAAAAAAAAAAAAAAAAAAAAAAAAAAAAAAAAAAAAAAAAAAAAAAAAAAAAAAAAAAAAAAAAAAAAAAAAAAAAAAAAAAAAAAAAAAAAAAAAAAAAAAAAAAAA",
            "dtype": "f8"
           },
           "z": {
            "bdata": "PwSr/o+sWL/GCQwG1PRwv9A/7aJkeX6/DkRRO6yAhr8e3i8MeoKNv9lcpAAIvJG/Th3ANGPEk7/1aqdP632Uv7pfoVVPw5O/TjzEMB+6kb8FhZ9fvH2Nv6h8FVa9e4a/GThZX2twfr9QMXxPB+5wvzmEn99Jn1i/",
            "dtype": "f8"
           }
          },
          {
           "name": "Fixed Nodes",
           "type": "scatter3d",
           "x": {
            "bdata": "PLTIdr6fij8+30+Nl26SP11kO99PjZc/CtejcD0Ktz9SuB6F61G4P5qZmZmZmbk/",
            "dtype": "f8"
           },
           "y": {
            "bdata": "AAAAAAAAAAAAAAAAAAAAAAAAAAAAAAAAAAAAAAAAAAAAAAAAAAAAAAAAAAAAAAAA",
            "dtype": "f8"
           },
           "z": {
            "bdata": "AAAAAAAAAAAAAAAAAAAAAAAAAAAAAAAAAAAAAAAAAAAAAAAAAAAAAAAAAAAAAAAA",
            "dtype": "f8"
           }
          },
          {
           "name": "Edges",
           "type": "scatter3d",
           "x": [
            0.013000000000000005,
            0.01800000000000001,
            null,
            0.01800000000000001,
            0.02300000000000001,
            null,
            0.02300000000000001,
            0.02776158765444421,
            null,
            0.02776158765444421,
            0.03200577929428621,
            null,
            0.03200577929428621,
            0.035756055466794355,
            null,
            0.035756055466794355,
            0.039273552071479714,
            null,
            0.039273552071479714,
            0.042913546511640324,
            null,
            0.042913546511640324,
            0.04697330505512764,
            null,
            0.04697330505512764,
            0.05155591788267131,
            null,
            0.05155591788267131,
            0.056499006907964895,
            null,
            0.056499006907964895,
            0.06144150230502722,
            null,
            0.06144150230502722,
            0.06602273037321141,
            null,
            0.06602273037321141,
            0.07008121714684822,
            null,
            0.07008121714684822,
            0.0737208614102387,
            null,
            0.0737208614102387,
            0.0772392117473463,
            null,
            0.0772392117473463,
            0.0809912733700734,
            null,
            0.0809912733700734,
            0.08523743804133486,
            null,
            0.08523743804133486,
            0.09,
            null,
            0.09,
            0.095,
            null,
            0.095,
            0.1,
            null
           ],
           "y": [
            0,
            0,
            null,
            0,
            0,
            null,
            0,
            0,
            null,
            0,
            0,
            null,
            0,
            0,
            null,
            0,
            0,
            null,
            0,
            0,
            null,
            0,
            0,
            null,
            0,
            0,
            null,
            0,
            0,
            null,
            0,
            0,
            null,
            0,
            0,
            null,
            0,
            0,
            null,
            0,
            0,
            null,
            0,
            0,
            null,
            0,
            0,
            null,
            0,
            0,
            null,
            0,
            0,
            null,
            0,
            0,
            null,
            0,
            0,
            null
           ],
           "z": [
            0,
            0,
            null,
            0,
            0,
            null,
            0,
            -0.0015059858512105476,
            null,
            -0.0015059858512105476,
            -0.0041397363827421815,
            null,
            -0.0041397363827421815,
            -0.007439988242211329,
            null,
            -0.007439988242211329,
            -0.010987611351227524,
            null,
            -0.010987611351227524,
            -0.014409020897786336,
            null,
            -0.014409020897786336,
            -0.0173188448325988,
            null,
            -0.0173188448325988,
            -0.019303846449500832,
            null,
            -0.019303846449500832,
            -0.020011593567555292,
            null,
            -0.020011593567555292,
            -0.01929973564287455,
            null,
            -0.01929973564287455,
            -0.017311560965989785,
            null,
            -0.017311560965989785,
            -0.014399978321252957,
            null,
            -0.014399978321252957,
            -0.010978202046940957,
            null,
            -0.010978202046940957,
            -0.007431430267002903,
            null,
            -0.007431430267002903,
            -0.004133251720997613,
            null,
            -0.004133251720997613,
            -0.001502821104161235,
            null,
            -0.001502821104161235,
            0,
            null,
            0,
            0,
            null,
            0,
            0,
            null
           ]
          },
          {
           "i": [],
           "j": [],
           "k": [],
           "name": "Faces",
           "type": "mesh3d",
           "x": {
            "bdata": "PLTIdr6fij8+30+Nl26SP11kO99PjZc/FFY+nIhtnD83M7S+D2OgP7tJuiGeTqI/+lB9u6kbpD86T6Wtw/ilPy9d/pHiDKg/zVJxiollqj85NdoVcO2sP4LOCLZCda8/mt2+m93msD+Hp7W31/CxP3A4ytBe37I/unVs8PLFsz/Jx2IW2Lu0P7dIyOge0rU/CtejcD0Ktz9SuB6F61G4P5qZmZmZmbk/",
            "dtype": "f8"
           },
           "y": {
            "bdata": "AAAAAAAAAAAAAAAAAAAAAAAAAAAAAAAAAAAAAAAAAAAAAAAAAAAAAAAAAAAAAAAAAAAAAAAAAAAAAAAAAAAAAAAAAAAAAAAAAAAAAAAAAAAAAAAAAAAAAAAAAAAAAAAAAAAAAAAAAAAAAAAAAAAAAAAAAAAAAAAAAAAAAAAAAAAAAAAAAAAAAAAAAAAAAAAAAAAAAAAAAAAAAAAAAAAAAAAAAAAAAAAA",
            "dtype": "f8"
           },
           "z": {
            "bdata": "AAAAAAAAAAAAAAAAAAAAAAAAAAAAAAAAPwSr/o+sWL/GCQwG1PRwv9A/7aJkeX6/DkRRO6yAhr8e3i8MeoKNv9lcpAAIvJG/Th3ANGPEk7/1aqdP632Uv7pfoVVPw5O/TjzEMB+6kb8FhZ9fvH2Nv6h8FVa9e4a/GThZX2twfr9QMXxPB+5wvzmEn99Jn1i/AAAAAAAAAAAAAAAAAAAAAAAAAAAAAAAA",
            "dtype": "f8"
           }
          }
         ],
         "layout": {
          "annotations": [
           {
            "showarrow": false,
            "text": "Time: 0.12s (Step: 13/100)",
            "x": 0.05,
            "xref": "paper",
            "y": 0.95,
            "yref": "paper"
           }
          ]
         },
         "name": "12"
        },
        {
         "data": [
          {
           "name": "Free Nodes",
           "type": "scatter3d",
           "x": {
            "bdata": "bKHjIhBvnT+LBiNKXNygPzybD6iKu6I/dDyjLst5pD+Vp22nDUmmP7G4xohWU6g//RraKoqnqj/rIgZq4i6tP7FYynEctq8/f3RsbAUFsT9mMW6VCwqyP+BDYxKn8bI/nwI729/Qsz8vfSk6pcC0PzT5b5o/07U/",
            "dtype": "f8"
           },
           "y": {
            "bdata": "AAAAAAAAAAAAAAAAAAAAAAAAAAAAAAAAAAAAAAAAAAAAAAAAAAAAAAAAAAAAAAAAAAAAAAAAAAAAAAAAAAAAAAAAAAAAAAAAAAAAAAAAAAAAAAAAAAAAAAAAAAAAAAAAAAAAAAAAAAAAAAAAAAAAAAAAAAAAAAAA",
            "dtype": "f8"
           },
           "z": {
            "bdata": "jFb3XoyQWb+DuIDw2Itxv0Zc2VPefX+/bZTmcNU7h78XRZPE1HaOv4QekhrxUJK/aqZ9cFptlL+5WfYtUS6Vv/o0fWnIa5S/0CNdgS9Okr8gvnRXE3COv+qQlLzmNIe/wNYw7G9xf7+15dINkoJxv4e2Pkisflm/",
            "dtype": "f8"
           }
          },
          {
           "name": "Fixed Nodes",
           "type": "scatter3d",
           "x": {
            "bdata": "fOkmMQisjD/e+X5qvHSTP/1+arx0k5g/CtejcD0Ktz9SuB6F61G4P5qZmZmZmbk/",
            "dtype": "f8"
           },
           "y": {
            "bdata": "AAAAAAAAAAAAAAAAAAAAAAAAAAAAAAAAAAAAAAAAAAAAAAAAAAAAAAAAAAAAAAAA",
            "dtype": "f8"
           },
           "z": {
            "bdata": "AAAAAAAAAAAAAAAAAAAAAAAAAAAAAAAAAAAAAAAAAAAAAAAAAAAAAAAAAAAAAAAA",
            "dtype": "f8"
           }
          },
          {
           "name": "Edges",
           "type": "scatter3d",
           "x": [
            0.014000000000000005,
            0.01900000000000001,
            null,
            0.01900000000000001,
            0.02400000000000001,
            null,
            0.02400000000000001,
            0.028743984345881143,
            null,
            0.028743984345881143,
            0.03293121724119626,
            null,
            0.03293121724119626,
            0.03658707906270428,
            null,
            0.03658707906270428,
            0.03999171203906196,
            null,
            0.03999171203906196,
            0.04352610272219618,
            null,
            0.04352610272219618,
            0.047510818668670914,
            null,
            0.047510818668670914,
            0.05205947659583463,
            null,
            0.05205947659583463,
            0.056998324816111744,
            null,
            0.056998324816111744,
            0.061936272516662234,
            null,
            0.061936272516662234,
            0.0664828672128852,
            null,
            0.0664828672128852,
            0.07046577833370335,
            null,
            0.07046577833370335,
            0.07399982642097269,
            null,
            0.07399982642097269,
            0.07740592100436537,
            null,
            0.07740592100436537,
            0.0810645358082993,
            null,
            0.0810645358082993,
            0.08525464554256673,
            null,
            0.08525464554256673,
            0.09,
            null,
            0.09,
            0.095,
            null,
            0.095,
            0.1,
            null
           ],
           "y": [
            0,
            0,
            null,
            0,
            0,
            null,
            0,
            0,
            null,
            0,
            0,
            null,
            0,
            0,
            null,
            0,
            0,
            null,
            0,
            0,
            null,
            0,
            0,
            null,
            0,
            0,
            null,
            0,
            0,
            null,
            0,
            0,
            null,
            0,
            0,
            null,
            0,
            0,
            null,
            0,
            0,
            null,
            0,
            0,
            null,
            0,
            0,
            null,
            0,
            0,
            null,
            0,
            0,
            null,
            0,
            0,
            null,
            0,
            0,
            null
           ],
           "z": [
            0,
            0,
            null,
            0,
            0,
            null,
            0,
            -0.0015603419122859645,
            null,
            -0.0015603419122859645,
            -0.004283759517461519,
            null,
            -0.004283759517461519,
            -0.0076883968991615145,
            null,
            -0.0076883968991615145,
            -0.01134459257884598,
            null,
            -0.01134459257884598,
            -0.01487508988285184,
            null,
            -0.01487508988285184,
            -0.01788689350772056,
            null,
            -0.01788689350772056,
            -0.01994839965428811,
            null,
            -0.01994839965428811,
            -0.020684498243633807,
            null,
            -0.020684498243633807,
            -0.019942408979933803,
            null,
            -0.019942408979933803,
            -0.01787637927126068,
            null,
            -0.01787637927126068,
            -0.014862204653211697,
            null,
            -0.014862204653211697,
            -0.011331370000853675,
            null,
            -0.011331370000853675,
            -0.007676541517005198,
            null,
            -0.007676541517005198,
            -0.004274912379679409,
            null,
            -0.004274912379679409,
            -0.0015560800975253101,
            null,
            -0.0015560800975253101,
            0,
            null,
            0,
            0,
            null,
            0,
            0,
            null
           ]
          },
          {
           "i": [],
           "j": [],
           "k": [],
           "name": "Faces",
           "type": "mesh3d",
           "x": {
            "bdata": "fOkmMQisjD/e+X5qvHSTP/1+arx0k5g/bKHjIhBvnT+LBiNKXNygPzybD6iKu6I/dDyjLst5pD+Vp22nDUmmP7G4xohWU6g//RraKoqnqj/rIgZq4i6tP7FYynEctq8/f3RsbAUFsT9mMW6VCwqyP+BDYxKn8bI/nwI729/Qsz8vfSk6pcC0PzT5b5o/07U/CtejcD0Ktz9SuB6F61G4P5qZmZmZmbk/",
            "dtype": "f8"
           },
           "y": {
            "bdata": "AAAAAAAAAAAAAAAAAAAAAAAAAAAAAAAAAAAAAAAAAAAAAAAAAAAAAAAAAAAAAAAAAAAAAAAAAAAAAAAAAAAAAAAAAAAAAAAAAAAAAAAAAAAAAAAAAAAAAAAAAAAAAAAAAAAAAAAAAAAAAAAAAAAAAAAAAAAAAAAAAAAAAAAAAAAAAAAAAAAAAAAAAAAAAAAAAAAAAAAAAAAAAAAAAAAAAAAAAAAAAAAA",
            "dtype": "f8"
           },
           "z": {
            "bdata": "AAAAAAAAAAAAAAAAAAAAAAAAAAAAAAAAjFb3XoyQWb+DuIDw2Itxv0Zc2VPefX+/bZTmcNU7h78XRZPE1HaOv4QekhrxUJK/aqZ9cFptlL+5WfYtUS6Vv/o0fWnIa5S/0CNdgS9Okr8gvnRXE3COv+qQlLzmNIe/wNYw7G9xf7+15dINkoJxv4e2Pkisflm/AAAAAAAAAAAAAAAAAAAAAAAAAAAAAAAA",
            "dtype": "f8"
           }
          }
         ],
         "layout": {
          "annotations": [
           {
            "showarrow": false,
            "text": "Time: 0.13s (Step: 14/100)",
            "x": 0.05,
            "xref": "paper",
            "y": 0.95,
            "yref": "paper"
           }
          ]
         },
         "name": "13"
        },
        {
         "data": [
          {
           "name": "Free Nodes",
           "type": "scatter3d",
           "x": {
            "bdata": "CarZ1rxvnT/gvCWpkt6gP5vurJBNwaI/MdAzCiaDpD8REFLUHFSmP8sb8E+PXag/KHvXvaavqj+sZ6lf4jWtP/+8cY5Bvq8/FXdpNVoKsT9IxEMSRxCyPy5guNml97I/X+NOH2rVsz9eoaAPGcO0P8sNd23x07U/",
            "dtype": "f8"
           },
           "y": {
            "bdata": "8iEKEN/gxD50HLPN0QTZPnxSxIysG+M+NCRPz0gP5z5qIATvTS7nPqY/IpebAOM+enKOpuva1T4VU+V69h2LPt/GtoL+Z9S+uCozx4yU4r6MVIcmZRjnvoH/eWgcOOe+fSpcoSVd476My1NHl3DZvtGo6CmJPMW+",
            "dtype": "f8"
           },
           "z": {
            "bdata": "98H/iOx+Wb9EBVAgEnJxv6RwoCWpRn+/3JruzEcTh79XIc6a6keOv0Sm8ibxO5K/c6VPddthlL+IPU77vDGVvxiXgZ2xfpS/xOkXuDdskr9bADZ/lbWOv1dcemhieIe/qGY6CIzif7/pvhjbws9xvxxtmv1wBlq/",
            "dtype": "f8"
           }
          },
          {
           "name": "Fixed Nodes",
           "type": "scatter3d",
           "x": {
            "bdata": "fOkmMQisjD/e+X5qvHSTP/1+arx0k5g/CtejcD0Ktz9SuB6F61G4P5qZmZmZmbk/",
            "dtype": "f8"
           },
           "y": {
            "bdata": "AAAAAAAAAAAAAAAAAAAAAAAAAAAAAAAAAAAAAAAAAAAAAAAAAAAAAAAAAAAAAAAA",
            "dtype": "f8"
           },
           "z": {
            "bdata": "AAAAAAAAAAAAAAAAAAAAAAAAAAAAAAAAAAAAAAAAAAAAAAAAAAAAAAAAAAAAAAAA",
            "dtype": "f8"
           }
          },
          {
           "name": "Edges",
           "type": "scatter3d",
           "x": [
            0.014000000000000005,
            0.01900000000000001,
            null,
            0.01900000000000001,
            0.02400000000000001,
            null,
            0.02400000000000001,
            0.028746557820719363,
            null,
            0.028746557820719363,
            0.032948096416356654,
            null,
            0.032948096416356654,
            0.03663103476580184,
            null,
            0.03663103476580184,
            0.04006308435955964,
            null,
            0.04006308435955964,
            0.043610478323017905,
            null,
            0.043610478323017905,
            0.04758880472950685,
            null,
            0.04758880472950685,
            0.05212136332897038,
            null,
            0.05212136332897038,
            0.0570517293715079,
            null,
            0.0570517293715079,
            0.061998413694590575,
            null,
            0.061998413694590575,
            0.0665642147445989,
            null,
            0.0665642147445989,
            0.07056087680736411,
            null,
            0.07056087680736411,
            0.07409130635676384,
            null,
            0.07409130635676384,
            0.07747519745215702,
            null,
            0.07747519745215702,
            0.08110195762185898,
            null,
            0.08110195762185898,
            0.0852652446983974,
            null,
            0.0852652446983974,
            0.09,
            null,
            0.09,
            0.095,
            null,
            0.095,
            0.1,
            null
           ],
           "y": [
            0,
            0,
            null,
            0,
            0,
            null,
            0,
            0.000002488899667977623,
            null,
            0.000002488899667977623,
            0.000005964953028576089,
            null,
            0.000005964953028576089,
            0.000009111452890433714,
            null,
            0.000009111452890433714,
            0.000010995724076938875,
            null,
            0.000010995724076938875,
            0.000011053503357519492,
            null,
            0.000011053503357519492,
            0.000009061038074770059,
            null,
            0.000009061038074770059,
            0.000005210675774327943,
            null,
            0.000005210675774327943,
            2.0203770873896642e-7,
            null,
            2.0203770873896642e-7,
            -0.000004865223711390911,
            null,
            -0.000004865223711390911,
            -0.000008859764625409258,
            null,
            -0.000008859764625409258,
            -0.000011012694089022086,
            null,
            -0.000011012694089022086,
            -0.000011071769463244292,
            null,
            -0.000011071769463244292,
            -0.000009233405801297275,
            null,
            -0.000009233405801297275,
            -0.0000060653229543181145,
            null,
            -0.0000060653229543181145,
            -0.0000025315842571332747,
            null,
            -0.0000025315842571332747,
            0,
            null,
            0,
            0,
            null,
            0,
            0,
            null
           ],
           "z": [
            0,
            0,
            null,
            0,
            0,
            null,
            0,
            -0.001556139937744059,
            null,
            -0.001556139937744059,
            -0.004259177022505615,
            null,
            -0.004259177022505615,
            -0.007635746698749699,
            null,
            -0.007635746698749699,
            -0.011267243329553471,
            null,
            -0.011267243329553471,
            -0.014785607194213552,
            null,
            -0.014785607194213552,
            -0.01780678558558281,
            null,
            -0.01780678558558281,
            -0.019904545817472873,
            null,
            -0.019904545817472873,
            -0.020697548712232755,
            null,
            -0.020697548712232755,
            -0.020014548529068227,
            null,
            -0.020014548529068227,
            -0.01799094258419999,
            null,
            -0.01799094258419999,
            -0.01499478144137372,
            null,
            -0.01499478144137372,
            -0.011460083783545167,
            null,
            -0.011460083783545167,
            -0.0077844114308846316,
            null,
            -0.0077844114308846316,
            -0.004348527103090063,
            null,
            -0.004348527103090063,
            -0.001588449804706133,
            null,
            -0.001588449804706133,
            0,
            null,
            0,
            0,
            null,
            0,
            0,
            null
           ]
          },
          {
           "i": [],
           "j": [],
           "k": [],
           "name": "Faces",
           "type": "mesh3d",
           "x": {
            "bdata": "fOkmMQisjD/e+X5qvHSTP/1+arx0k5g/CarZ1rxvnT/gvCWpkt6gP5vurJBNwaI/MdAzCiaDpD8REFLUHFSmP8sb8E+PXag/KHvXvaavqj+sZ6lf4jWtP/+8cY5Bvq8/FXdpNVoKsT9IxEMSRxCyPy5guNml97I/X+NOH2rVsz9eoaAPGcO0P8sNd23x07U/CtejcD0Ktz9SuB6F61G4P5qZmZmZmbk/",
            "dtype": "f8"
           },
           "y": {
            "bdata": "AAAAAAAAAAAAAAAAAAAAAAAAAAAAAAAA8iEKEN/gxD50HLPN0QTZPnxSxIysG+M+NCRPz0gP5z5qIATvTS7nPqY/IpebAOM+enKOpuva1T4VU+V69h2LPt/GtoL+Z9S+uCozx4yU4r6MVIcmZRjnvoH/eWgcOOe+fSpcoSVd476My1NHl3DZvtGo6CmJPMW+AAAAAAAAAAAAAAAAAAAAAAAAAAAAAAAA",
            "dtype": "f8"
           },
           "z": {
            "bdata": "AAAAAAAAAAAAAAAAAAAAAAAAAAAAAAAA98H/iOx+Wb9EBVAgEnJxv6RwoCWpRn+/3JruzEcTh79XIc6a6keOv0Sm8ibxO5K/c6VPddthlL+IPU77vDGVvxiXgZ2xfpS/xOkXuDdskr9bADZ/lbWOv1dcemhieIe/qGY6CIzif7/pvhjbws9xvxxtmv1wBlq/AAAAAAAAAAAAAAAAAAAAAAAAAAAAAAAA",
            "dtype": "f8"
           }
          }
         ],
         "layout": {
          "annotations": [
           {
            "showarrow": false,
            "text": "Time: 0.14s (Step: 15/100)",
            "x": 0.05,
            "xref": "paper",
            "y": 0.95,
            "yref": "paper"
           }
          ]
         },
         "name": "14"
        },
        {
         "data": [
          {
           "name": "Free Nodes",
           "type": "scatter3d",
           "x": {
            "bdata": "vwkfSZxwnT/xVR69Ot+gP7u5EMQdwaI/JtnT7nqBpD+Aw0zATFGmP+6J0319Wqg/CBFIC/Gsqj+/8mgzazOtP3mZN1d6u68/IS9R0aEIsT+6qmHbUQ6yP/NxprO/9bI/5dQhO+vTsz/N1rmtPMK0P1lXiwuu07U/",
            "dtype": "f8"
           },
           "y": {
            "bdata": "dpuIzTKL3T4MuJ3xkvHxPuH7YuPWsvs+txaRrNPXAD8McI7iTwUBP3X+XMuO/vs+QhUvg7Qi8D4zCAP7hdylPqb28K99y+2+34OIfjAU+76EEVkdQ8EAv8ZeGtQlvgC/36dsDzK3+76L6va+gAvyvjQXxb/L092+",
            "dtype": "f8"
           },
           "z": {
            "bdata": "3FftHC1FWb9hcrPv8l5xv0lA6SqMOX+/AQRCU8gRh7/7jjX3j0qOv+89gLa2PZK/MvF4nMxhlL/9j+9OCS6Vv8PU9HAId5S/S9m78Lhhkr+1g6YWPZ6Ov4/9BN+oYYe/WxtGAVq7f7902XWDp7NxvxUZKlGP0Vm/",
            "dtype": "f8"
           }
          },
          {
           "name": "Fixed Nodes",
           "type": "scatter3d",
           "x": {
            "bdata": "fOkmMQisjD/e+X5qvHSTP/1+arx0k5g/CtejcD0Ktz9SuB6F61G4P5qZmZmZmbk/",
            "dtype": "f8"
           },
           "y": {
            "bdata": "AAAAAAAAAAAAAAAAAAAAAAAAAAAAAAAAAAAAAAAAAAAAAAAAAAAAAAAAAAAAAAAA",
            "dtype": "f8"
           },
           "z": {
            "bdata": "AAAAAAAAAAAAAAAAAAAAAAAAAAAAAAAAAAAAAAAAAAAAAAAAAAAAAAAAAAAAAAAA",
            "dtype": "f8"
           }
          },
          {
           "name": "Edges",
           "type": "scatter3d",
           "x": [
            0.014000000000000005,
            0.01900000000000001,
            null,
            0.01900000000000001,
            0.02400000000000001,
            null,
            0.02400000000000001,
            0.028749887431112727,
            null,
            0.028749887431112727,
            0.032953105531458145,
            null,
            0.032953105531458145,
            0.03662961023688945,
            null,
            0.03662961023688945,
            0.04005035558104657,
            null,
            0.04005035558104657,
            0.04358901832018258,
            null,
            0.04358901832018258,
            0.047565385446222894,
            null,
            0.047565385446222894,
            0.05210068953241104,
            null,
            0.05210068953241104,
            0.057032918954495575,
            null,
            0.057032918954495575,
            0.061977217814091774,
            null,
            0.061977217814091774,
            0.06653796539574987,
            null,
            0.06653796539574987,
            0.0705310021018403,
            null,
            0.0705310021018403,
            0.07406232963553076,
            null,
            0.07406232963553076,
            0.07745237535148737,
            null,
            0.07745237535148737,
            0.08108882180553252,
            null,
            0.08108882180553252,
            0.08526122838824558,
            null,
            0.08526122838824558,
            0.09,
            null,
            0.09,
            0.095,
            null,
            0.095,
            0.1,
            null
           ],
           "y": [
            0,
            0,
            null,
            0,
            0,
            null,
            0,
            0.000007043777451565662,
            null,
            0.000007043777451565662,
            0.000017112396654743496,
            null,
            0.000017112396654743496,
            0.000026415435251388764,
            null,
            0.000026415435251388764,
            0.00003212561348013342,
            null,
            0.00003212561348013342,
            0.000032464504619883564,
            null,
            0.000032464504619883564,
            0.000026697508210603343,
            null,
            0.000026697508210603343,
            0.000015388075734331217,
            null,
            0.000015388075734331217,
            6.515210682278007e-7,
            null,
            6.515210682278007e-7,
            -0.000014207309048437752,
            null,
            -0.000014207309048437752,
            -0.000025824418033452173,
            null,
            -0.000025824418033452173,
            -0.00003195749347331952,
            null,
            -0.00003195749347331952,
            -0.00003193428939346275,
            null,
            -0.00003193428939346275,
            -0.000026431663140126404,
            null,
            -0.000026431663140126404,
            -0.000017208989388820802,
            null,
            -0.000017208989388820802,
            -0.000007111389092100997,
            null,
            -0.000007111389092100997,
            0,
            null,
            0,
            0,
            null,
            0,
            0,
            null
           ],
           "z": [
            0,
            0,
            null,
            0,
            0,
            null,
            0,
            -0.0015423718029601219,
            null,
            -0.0015423718029601219,
            -0.004240941019102524,
            null,
            -0.004240941019102524,
            -0.007623240976116171,
            null,
            -0.007623240976116171,
            -0.011264386216000235,
            null,
            -0.011264386216000235,
            -0.014790653926588506,
            null,
            -0.014790653926588506,
            -0.01781354416749353,
            null,
            -0.01781354416749353,
            -0.019904324579543338,
            null,
            -0.019904324579543338,
            -0.02068342727933724,
            null,
            -0.02068342727933724,
            -0.019985324758825095,
            null,
            -0.019985324758825095,
            -0.017950906460975784,
            null,
            -0.017950906460975784,
            -0.014950253728615562,
            null,
            -0.014950253728615562,
            -0.011416739755644638,
            null,
            -0.011416739755644638,
            -0.007747031766831859,
            null,
            -0.007747031766831859,
            -0.004321722364116421,
            null,
            -0.004321722364116421,
            -0.0015758418636849282,
            null,
            -0.0015758418636849282,
            0,
            null,
            0,
            0,
            null,
            0,
            0,
            null
           ]
          },
          {
           "i": [],
           "j": [],
           "k": [],
           "name": "Faces",
           "type": "mesh3d",
           "x": {
            "bdata": "fOkmMQisjD/e+X5qvHSTP/1+arx0k5g/vwkfSZxwnT/xVR69Ot+gP7u5EMQdwaI/JtnT7nqBpD+Aw0zATFGmP+6J0319Wqg/CBFIC/Gsqj+/8mgzazOtP3mZN1d6u68/IS9R0aEIsT+6qmHbUQ6yP/NxprO/9bI/5dQhO+vTsz/N1rmtPMK0P1lXiwuu07U/CtejcD0Ktz9SuB6F61G4P5qZmZmZmbk/",
            "dtype": "f8"
           },
           "y": {
            "bdata": "AAAAAAAAAAAAAAAAAAAAAAAAAAAAAAAAdpuIzTKL3T4MuJ3xkvHxPuH7YuPWsvs+txaRrNPXAD8McI7iTwUBP3X+XMuO/vs+QhUvg7Qi8D4zCAP7hdylPqb28K99y+2+34OIfjAU+76EEVkdQ8EAv8ZeGtQlvgC/36dsDzK3+76L6va+gAvyvjQXxb/L092+AAAAAAAAAAAAAAAAAAAAAAAAAAAAAAAA",
            "dtype": "f8"
           },
           "z": {
            "bdata": "AAAAAAAAAAAAAAAAAAAAAAAAAAAAAAAA3FftHC1FWb9hcrPv8l5xv0lA6SqMOX+/AQRCU8gRh7/7jjX3j0qOv+89gLa2PZK/MvF4nMxhlL/9j+9OCS6Vv8PU9HAId5S/S9m78Lhhkr+1g6YWPZ6Ov4/9BN+oYYe/WxtGAVq7f7902XWDp7NxvxUZKlGP0Vm/AAAAAAAAAAAAAAAAAAAAAAAAAAAAAAAA",
            "dtype": "f8"
           }
          }
         ],
         "layout": {
          "annotations": [
           {
            "showarrow": false,
            "text": "Time: 0.15s (Step: 16/100)",
            "x": 0.05,
            "xref": "paper",
            "y": 0.95,
            "yref": "paper"
           }
          ]
         },
         "name": "15"
        },
        {
         "data": [
          {
           "name": "Free Nodes",
           "type": "scatter3d",
           "x": {
            "bdata": "gT9YzPRvnT+ixEzuzd2gP41wT0D8vaI/qu2KC8F8pD94mA3h3UumP/QVKbWDVag/Ro84mQipqj+FoqqkFzCtPzYXcCmJt68/0a2OQvEFsT9q3RxPEAuyP3KuLI2M8rI/HXUJ03nRsz+fJmI37MC0P03FTRRQ07U/",
            "dtype": "f8"
           },
           "y": {
            "bdata": "f5/D6asD6j4ccd/2vrL/PsyqlHG2hgg/Jd0YwXfhDT+bPwghozgOP62tW8IO1wg/Zex8Ju2K/D5lDH4K7tywPh7mKsi8i/q+aTL+eDz9B785xCJ2JZENvzz0Pfgvbg2/L+uM2R5CCL/B/n1VGHL/vj4p3Y+q3em+",
            "dtype": "f8"
           },
           "z": {
            "bdata": "M2678tVjWb+vWbCuCXRxvy4M6/JFXX+/2LLHB5Eph79H7By4H2WOv+40kbS/SZK/AjnuKRtplL/vJXQupS2VvyPCjbtBbpS/iLYR9ZBSkr+yRtL46nmOv984l0jMPYe/IP5Kxeh+f78bTn5RlIpxvwouJkZWilm/",
            "dtype": "f8"
           }
          },
          {
           "name": "Fixed Nodes",
           "type": "scatter3d",
           "x": {
            "bdata": "fOkmMQisjD/e+X5qvHSTP/1+arx0k5g/CtejcD0Ktz9SuB6F61G4P5qZmZmZmbk/",
            "dtype": "f8"
           },
           "y": {
            "bdata": "AAAAAAAAAAAAAAAAAAAAAAAAAAAAAAAAAAAAAAAAAAAAAAAAAAAAAAAAAAAAAAAA",
            "dtype": "f8"
           },
           "z": {
            "bdata": "AAAAAAAAAAAAAAAAAAAAAAAAAAAAAAAAAAAAAAAAAAAAAAAAAAAAAAAAAAAAAAAA",
            "dtype": "f8"
           }
          },
          {
           "name": "Edges",
           "type": "scatter3d",
           "x": [
            0.014000000000000005,
            0.01900000000000001,
            null,
            0.01900000000000001,
            0.02400000000000001,
            null,
            0.02400000000000001,
            0.028747391674243786,
            null,
            0.028747391674243786,
            0.03294223340925241,
            null,
            0.03294223340925241,
            0.03660572323835352,
            null,
            0.03660572323835352,
            0.040014298113841676,
            null,
            0.040014298113841676,
            0.043547567102721396,
            null,
            0.043547567102721396,
            0.04752742372924593,
            null,
            0.04752742372924593,
            0.05207087393162495,
            null,
            0.05207087393162495,
            0.05700754056062344,
            null,
            0.05700754056062344,
            0.06194714194138699,
            null,
            0.06194714194138699,
            0.06649692416129162,
            null,
            0.06649692416129162,
            0.07048131877387723,
            null,
            0.07048131877387723,
            0.07401350447315183,
            null,
            0.07401350447315183,
            0.07741509821194766,
            null,
            0.07741509821194766,
            0.08106876709112008,
            null,
            0.08106876709112008,
            0.08525562759111445,
            null,
            0.08525562759111445,
            0.09,
            null,
            0.09,
            0.095,
            null,
            0.095,
            0.1,
            null
           ],
           "y": [
            0,
            0,
            null,
            0,
            0,
            null,
            0,
            0.000012404604881457785,
            null,
            0.000012404604881457785,
            0.000030229784378708454,
            null,
            0.000030229784378708454,
            0.00004678005479726507,
            null,
            0.00004678005479726507,
            0.00005699297629429616,
            null,
            0.00005699297629429616,
            0.00005764243917749588,
            null,
            0.00005764243917749588,
            0.00004737867156542493,
            null,
            0.00004737867156542493,
            0.000027220421912260354,
            null,
            0.000027220421912260354,
            0.0000010051135550255332,
            null,
            0.0000010051135550255332,
            -0.00002531609471632088,
            null,
            -0.00002531609471632088,
            -0.000045755775430843266,
            null,
            -0.000045755775430843266,
            -0.00005639453481032963,
            null,
            -0.00005639453481032963,
            -0.000056134070319104463,
            null,
            -0.000056134070319104463,
            -0.00004626900335443493,
            null,
            -0.00004626900335443493,
            -0.00002998894100825103,
            null,
            -0.00002998894100825103,
            -0.000012333814534710841,
            null,
            -0.000012333814534710841,
            0,
            null,
            0,
            0,
            null,
            0,
            0,
            null
           ],
           "z": [
            0,
            0,
            null,
            0,
            0,
            null,
            0,
            -0.0015496816003438662,
            null,
            -0.0015496816003438662,
            -0.004261052915373416,
            null,
            -0.004261052915373416,
            -0.007657311666380768,
            null,
            -0.007657311666380768,
            -0.011309750604561783,
            null,
            -0.011309750604561783,
            -0.01484131603830553,
            null,
            -0.01484131603830553,
            -0.01785945453257381,
            null,
            -0.01785945453257381,
            -0.019932197984922524,
            null,
            -0.019932197984922524,
            -0.02068193527251155,
            null,
            -0.02068193527251155,
            -0.019951846191761057,
            null,
            -0.019951846191761057,
            -0.01789309020789756,
            null,
            -0.01789309020789756,
            -0.014880977362085577,
            null,
            -0.014880977362085577,
            -0.011348339047711096,
            null,
            -0.011348339047711096,
            -0.007689389477206571,
            null,
            -0.007689389477206571,
            -0.004282550209512982,
            null,
            -0.004282550209512982,
            -0.0015588610191085172,
            null,
            -0.0015588610191085172,
            0,
            null,
            0,
            0,
            null,
            0,
            0,
            null
           ]
          },
          {
           "i": [],
           "j": [],
           "k": [],
           "name": "Faces",
           "type": "mesh3d",
           "x": {
            "bdata": "fOkmMQisjD/e+X5qvHSTP/1+arx0k5g/gT9YzPRvnT+ixEzuzd2gP41wT0D8vaI/qu2KC8F8pD94mA3h3UumP/QVKbWDVag/Ro84mQipqj+FoqqkFzCtPzYXcCmJt68/0a2OQvEFsT9q3RxPEAuyP3KuLI2M8rI/HXUJ03nRsz+fJmI37MC0P03FTRRQ07U/CtejcD0Ktz9SuB6F61G4P5qZmZmZmbk/",
            "dtype": "f8"
           },
           "y": {
            "bdata": "AAAAAAAAAAAAAAAAAAAAAAAAAAAAAAAAf5/D6asD6j4ccd/2vrL/PsyqlHG2hgg/Jd0YwXfhDT+bPwghozgOP62tW8IO1wg/Zex8Ju2K/D5lDH4K7tywPh7mKsi8i/q+aTL+eDz9B785xCJ2JZENvzz0Pfgvbg2/L+uM2R5CCL/B/n1VGHL/vj4p3Y+q3em+AAAAAAAAAAAAAAAAAAAAAAAAAAAAAAAA",
            "dtype": "f8"
           },
           "z": {
            "bdata": "AAAAAAAAAAAAAAAAAAAAAAAAAAAAAAAAM2678tVjWb+vWbCuCXRxvy4M6/JFXX+/2LLHB5Eph79H7By4H2WOv+40kbS/SZK/AjnuKRtplL/vJXQupS2VvyPCjbtBbpS/iLYR9ZBSkr+yRtL46nmOv984l0jMPYe/IP5Kxeh+f78bTn5RlIpxvwouJkZWilm/AAAAAAAAAAAAAAAAAAAAAAAAAAAAAAAA",
            "dtype": "f8"
           }
          }
         ],
         "layout": {
          "annotations": [
           {
            "showarrow": false,
            "text": "Time: 0.16s (Step: 17/100)",
            "x": 0.05,
            "xref": "paper",
            "y": 0.95,
            "yref": "paper"
           }
          ]
         },
         "name": "16"
        },
        {
         "data": [
          {
           "name": "Free Nodes",
           "type": "scatter3d",
           "x": {
            "bdata": "DOOdY0ZvnT/Tmtxvj9ygP17nlxSfu6I/mmEUopR5pD8mYmQxjEimP/TUpfKxUqg/Ud2m4e2mqj/GFxtUUS6tPwGwduZpta8/Qc3ZvYMEsT+NeysEYgmyP7gSWyDz8LI/2mI57EvQsz8qSxvBT8C0P0h8lQ8m07U/",
            "dtype": "f8"
           },
           "y": {
            "bdata": "vRPKM9VX8j6pedE53VsGPz2p71mSTRE/gytpijkUFT/eIgTL0k4VP62liVYNfRE/GOC9ds0CBD9PuKz0g9eyPiV6f9N33AK/CSVf27z0EL8fbB7Wd9gUv35cdx6ftRS/wJMopDkKEb+n+Eo22gwGvxiiSOVIG/K+",
            "dtype": "f8"
           },
           "z": {
            "bdata": "y6PmkM6EWb+BQym/YYdxv78p51A7en+/wWRbSQ87h79MTOI3MneOv4jsZ1Z0UZK/uzIwV6FtlL++/QNYpS2Vvw2JN462aZS/bgMBo81Kkr+oofb1tGeOv+/TdIE6LIe/TmN0aAlif79rA1L3hHdxv8gSSgFgalm/",
            "dtype": "f8"
           }
          },
          {
           "name": "Fixed Nodes",
           "type": "scatter3d",
           "x": {
            "bdata": "fOkmMQisjD/e+X5qvHSTP/1+arx0k5g/CtejcD0Ktz9SuB6F61G4P5qZmZmZmbk/",
            "dtype": "f8"
           },
           "y": {
            "bdata": "AAAAAAAAAAAAAAAAAAAAAAAAAAAAAAAAAAAAAAAAAAAAAAAAAAAAAAAAAAAAAAAA",
            "dtype": "f8"
           },
           "z": {
            "bdata": "AAAAAAAAAAAAAAAAAAAAAAAAAAAAAAAAAAAAAAAAAAAAAAAAAAAAAAAAAAAAAAAA",
            "dtype": "f8"
           }
          },
          {
           "name": "Edges",
           "type": "scatter3d",
           "x": [
            0.014000000000000005,
            0.01900000000000001,
            null,
            0.01900000000000001,
            0.02400000000000001,
            null,
            0.02400000000000001,
            0.0287447927762257,
            null,
            0.0287447927762257,
            0.032932741551396603,
            null,
            0.032932741551396603,
            0.03658768774398767,
            null,
            0.03658768774398767,
            0.03999008635054509,
            null,
            0.03999008635054509,
            0.04352224448138413,
            null,
            0.04352224448138413,
            0.0475059136105446,
            null,
            0.0475059136105446,
            0.05205481891192199,
            null,
            0.05205481891192199,
            0.056994000927758345,
            null,
            0.056994000927758345,
            0.06193095148350381,
            null,
            0.06193095148350381,
            0.06647513756779679,
            null,
            0.06647513756779679,
            0.07045567132762028,
            null,
            0.07045567132762028,
            0.07398910083709154,
            null,
            0.07398910083709154,
            0.07739710347358245,
            null,
            0.07739710347358245,
            0.08105944122807487,
            null,
            0.08105944122807487,
            0.08525312309710487,
            null,
            0.08525312309710487,
            0.09,
            null,
            0.09,
            0.095,
            null,
            0.095,
            0.1,
            null
           ],
           "y": [
            0,
            0,
            null,
            0,
            0,
            null,
            0,
            0.00001749334045310682,
            null,
            0.00001749334045310682,
            0.00004264611127590145,
            null,
            0.00004264611127590145,
            0.00006600576169516356,
            null,
            0.00006600576169516356,
            0.00008041001510965093,
            null,
            0.00008041001510965093,
            0.00008128320292056674,
            null,
            0.00008128320292056674,
            0.00006671327504083917,
            null,
            0.00006671327504083917,
            0.00003816785360205593,
            null,
            0.00003816785360205593,
            0.000001123062207407654,
            null,
            0.000001123062207407654,
            -0.00003597489052230657,
            null,
            -0.00003597489052230657,
            -0.00006468203250089092,
            null,
            -0.00006468203250089092,
            -0.00007951957152700681,
            null,
            -0.00007951957152700681,
            -0.00007900031743389606,
            null,
            -0.00007900031743389606,
            -0.00006500222028955806,
            null,
            -0.00006500222028955806,
            -0.000042057427696460835,
            null,
            -0.000042057427696460835,
            -0.00001726778130453814,
            null,
            -0.00001726778130453814,
            0,
            null,
            0,
            0,
            null,
            0,
            0,
            null
           ],
           "z": [
            0,
            0,
            null,
            0,
            0,
            null,
            0,
            -0.0015575425382883142,
            null,
            -0.0015575425382883142,
            -0.004279500792635172,
            null,
            -0.004279500792635172,
            -0.007684928611022489,
            null,
            -0.007684928611022489,
            -0.01134311621301476,
            null,
            -0.01134311621301476,
            -0.014875786142772317,
            null,
            -0.014875786142772317,
            -0.01788884904270252,
            null,
            -0.01788884904270252,
            -0.019949456163930828,
            null,
            -0.019949456163930828,
            -0.02068193769173176,
            null,
            -0.02068193769173176,
            -0.019934513502343033,
            null,
            -0.019934513502343033,
            -0.017863476823780138,
            null,
            -0.017863476823780138,
            -0.014846242672164348,
            null,
            -0.014846242672164348,
            -0.011314827991194291,
            null,
            -0.011314827991194291,
            -0.007661854505635569,
            null,
            -0.007661854505635569,
            -0.004264373205956721,
            null,
            -0.004264373205956721,
            -0.0015512406872925533,
            null,
            -0.0015512406872925533,
            0,
            null,
            0,
            0,
            null,
            0,
            0,
            null
           ]
          },
          {
           "i": [],
           "j": [],
           "k": [],
           "name": "Faces",
           "type": "mesh3d",
           "x": {
            "bdata": "fOkmMQisjD/e+X5qvHSTP/1+arx0k5g/DOOdY0ZvnT/Tmtxvj9ygP17nlxSfu6I/mmEUopR5pD8mYmQxjEimP/TUpfKxUqg/Ud2m4e2mqj/GFxtUUS6tPwGwduZpta8/Qc3ZvYMEsT+NeysEYgmyP7gSWyDz8LI/2mI57EvQsz8qSxvBT8C0P0h8lQ8m07U/CtejcD0Ktz9SuB6F61G4P5qZmZmZmbk/",
            "dtype": "f8"
           },
           "y": {
            "bdata": "AAAAAAAAAAAAAAAAAAAAAAAAAAAAAAAAvRPKM9VX8j6pedE53VsGPz2p71mSTRE/gytpijkUFT/eIgTL0k4VP62liVYNfRE/GOC9ds0CBD9PuKz0g9eyPiV6f9N33AK/CSVf27z0EL8fbB7Wd9gUv35cdx6ftRS/wJMopDkKEb+n+Eo22gwGvxiiSOVIG/K+AAAAAAAAAAAAAAAAAAAAAAAAAAAAAAAA",
            "dtype": "f8"
           },
           "z": {
            "bdata": "AAAAAAAAAAAAAAAAAAAAAAAAAAAAAAAAy6PmkM6EWb+BQym/YYdxv78p51A7en+/wWRbSQ87h79MTOI3MneOv4jsZ1Z0UZK/uzIwV6FtlL++/QNYpS2Vvw2JN462aZS/bgMBo81Kkr+oofb1tGeOv+/TdIE6LIe/TmN0aAlif79rA1L3hHdxv8gSSgFgalm/AAAAAAAAAAAAAAAAAAAAAAAAAAAAAAAA",
            "dtype": "f8"
           }
          }
         ],
         "layout": {
          "annotations": [
           {
            "showarrow": false,
            "text": "Time: 0.17s (Step: 18/100)",
            "x": 0.05,
            "xref": "paper",
            "y": 0.95,
            "yref": "paper"
           }
          ]
         },
         "name": "17"
        },
        {
         "data": [
          {
           "name": "Free Nodes",
           "type": "scatter3d",
           "x": {
            "bdata": "wpwChCVvnT/M4x29WNygP51jWMlBu6I/+PrBCSZ5pD8P4nXkJ0imPwLuKfhoUqg/BWPsdL2mqj8yQGuuJy6tP9xZrJE2ta8/QcUkXmQEsT8m0EbeQgmyP+bppUHb8LI/nX8ViT7Qsz+osiL+SsC0P4DihF0l07U/",
            "dtype": "f8"
           },
           "y": {
            "bdata": "V1AHegEL9z7u6cyiBhUMP1JN0nX6uRU/UNdQ3jd1Gj/j+wlElLoaPwXcQjdb6RU/c81jwpz8CD+2o9jXNhiyPm2DcTH63ge/voM9XHBhFb9/qwlBWEAav6VOpcXUDxq/RSKiECNvFb8zMYhKJboLv8AnZ/Yqw/a+",
            "dtype": "f8"
           },
           "z": {
            "bdata": "oe+fBOWKWb8L2MQmsIpxv+uvYQXMfn+/G3R0Gpc9h780bC7IkXmOvw/cF+BaUpK/AXZbWRRulL+iAPDcmi2Vv64mUdlMaZS/gYzsWjhKkr/45cgdjmaOv50RxNZMK4e//5xGxsxgf7/jys3e5nZxv6zKsVGzaVm/",
            "dtype": "f8"
           }
          },
          {
           "name": "Fixed Nodes",
           "type": "scatter3d",
           "x": {
            "bdata": "fOkmMQisjD/e+X5qvHSTP/1+arx0k5g/CtejcD0Ktz9SuB6F61G4P5qZmZmZmbk/",
            "dtype": "f8"
           },
           "y": {
            "bdata": "AAAAAAAAAAAAAAAAAAAAAAAAAAAAAAAAAAAAAAAAAAAAAAAAAAAAAAAAAAAAAAAA",
            "dtype": "f8"
           },
           "z": {
            "bdata": "AAAAAAAAAAAAAAAAAAAAAAAAAAAAAAAAAAAAAAAAAAAAAAAAAAAAAAAAAAAAAAAA",
            "dtype": "f8"
           }
          },
          {
           "name": "Edges",
           "type": "scatter3d",
           "x": [
            0.014000000000000005,
            0.01900000000000001,
            null,
            0.01900000000000001,
            0.02400000000000001,
            null,
            0.02400000000000001,
            0.028744302923453764,
            null,
            0.028744302923453764,
            0.032931111417333264,
            null,
            0.032931111417333264,
            0.03658490736797335,
            null,
            0.03658490736797335,
            0.03998679036248193,
            null,
            0.03998679036248193,
            0.0435192552931235,
            null,
            0.0435192552931235,
            0.04750373868315806,
            null,
            0.04750373868315806,
            0.052053375742792375,
            null,
            0.052053375742792375,
            0.05699275974404862,
            null,
            0.05699275974404862,
            0.06192942169416302,
            null,
            0.06192942169416302,
            0.06647326754025064,
            null,
            0.06647326754025064,
            0.07045381476092469,
            null,
            0.07045381476092469,
            0.07398767807709525,
            null,
            0.07398767807709525,
            0.07739630553032702,
            null,
            0.07739630553032702,
            0.0810591574142544,
            null,
            0.0810591574142544,
            0.08525308163815204,
            null,
            0.08525308163815204,
            0.09,
            null,
            0.09,
            0.095,
            null,
            0.095,
            0.1,
            null
           ],
           "y": [
            0,
            0,
            null,
            0,
            0,
            null,
            0,
            0.000021975508959063156,
            null,
            0.000021975508959063156,
            0.000053562417042535854,
            null,
            0.000053562417042535854,
            0.00008287993610372094,
            null,
            0.00008287993610372094,
            0.00010092881673603765,
            null,
            0.00010092881673603765,
            0.0001019623750923983,
            null,
            0.0001019623750923983,
            0.0000835859225983699,
            null,
            0.0000835859225983699,
            0.0000476584757950438,
            null,
            0.0000476584757950438,
            0.0000010785214209585378,
            null,
            0.0000010785214209585378,
            -0.00004553032902588389,
            null,
            -0.00004553032902588389,
            -0.00008156059544496463,
            null,
            -0.00008156059544496463,
            -0.00010014094028469414,
            null,
            -0.00010014094028469414,
            -0.00009941803128770772,
            null,
            -0.00009941803128770772,
            -0.00008176471252075667,
            null,
            -0.00008176471252075667,
            -0.0000528853063919997,
            null,
            -0.0000528853063919997,
            -0.000021707891755963276,
            null,
            -0.000021707891755963276,
            0,
            null,
            0,
            0,
            null,
            0,
            0,
            null
           ],
           "z": [
            0,
            0,
            null,
            0,
            0,
            null,
            0,
            -0.0015589939598603458,
            null,
            -0.0015589939598603458,
            -0.004282653895918652,
            null,
            -0.004282653895918652,
            -0.007689282376400523,
            null,
            -0.007689282376400523,
            -0.011347942824210524,
            null,
            -0.011347942824210524,
            -0.014880312844800604,
            null,
            -0.014880312844800604,
            -0.017892284324229787,
            null,
            -0.017892284324229787,
            -0.01995116992372026,
            null,
            -0.01995116992372026,
            -0.020681781516032623,
            null,
            -0.020681781516032623,
            -0.019932938350655398,
            null,
            -0.019932938350655398,
            -0.017861252355157568,
            null,
            -0.017861252355157568,
            -0.014844045909842216,
            null,
            -0.014844045909842216,
            -0.011313057235846464,
            null,
            -0.011313057235846464,
            -0.007660674953889001,
            null,
            -0.007660674953889001,
            -0.004263784253327715,
            null,
            -0.004263784253327715,
            -0.0015510798609993754,
            null,
            -0.0015510798609993754,
            0,
            null,
            0,
            0,
            null,
            0,
            0,
            null
           ]
          },
          {
           "i": [],
           "j": [],
           "k": [],
           "name": "Faces",
           "type": "mesh3d",
           "x": {
            "bdata": "fOkmMQisjD/e+X5qvHSTP/1+arx0k5g/wpwChCVvnT/M4x29WNygP51jWMlBu6I/+PrBCSZ5pD8P4nXkJ0imPwLuKfhoUqg/BWPsdL2mqj8yQGuuJy6tP9xZrJE2ta8/QcUkXmQEsT8m0EbeQgmyP+bppUHb8LI/nX8ViT7Qsz+osiL+SsC0P4DihF0l07U/CtejcD0Ktz9SuB6F61G4P5qZmZmZmbk/",
            "dtype": "f8"
           },
           "y": {
            "bdata": "AAAAAAAAAAAAAAAAAAAAAAAAAAAAAAAAV1AHegEL9z7u6cyiBhUMP1JN0nX6uRU/UNdQ3jd1Gj/j+wlElLoaPwXcQjdb6RU/c81jwpz8CD+2o9jXNhiyPm2DcTH63ge/voM9XHBhFb9/qwlBWEAav6VOpcXUDxq/RSKiECNvFb8zMYhKJboLv8AnZ/Yqw/a+AAAAAAAAAAAAAAAAAAAAAAAAAAAAAAAA",
            "dtype": "f8"
           },
           "z": {
            "bdata": "AAAAAAAAAAAAAAAAAAAAAAAAAAAAAAAAoe+fBOWKWb8L2MQmsIpxv+uvYQXMfn+/G3R0Gpc9h780bC7IkXmOvw/cF+BaUpK/AXZbWRRulL+iAPDcmi2Vv64mUdlMaZS/gYzsWjhKkr/45cgdjmaOv50RxNZMK4e//5xGxsxgf7/jys3e5nZxv6zKsVGzaVm/AAAAAAAAAAAAAAAAAAAAAAAAAAAAAAAA",
            "dtype": "f8"
           }
          }
         ],
         "layout": {
          "annotations": [
           {
            "showarrow": false,
            "text": "Time: 0.18s (Step: 19/100)",
            "x": 0.05,
            "xref": "paper",
            "y": 0.95,
            "yref": "paper"
           }
          ]
         },
         "name": "18"
        },
        {
         "data": [
          {
           "name": "Free Nodes",
           "type": "scatter3d",
           "x": {
            "bdata": "bK01NFNvnT+pwrlQr9ygP1GfdAbsu6I/XXAOphF6pD+Oa4/sJEmmP2LDxYVEU6g/57iF0WKnqj8ldnnbsC6tPyzWhiPXta8/7d23atAEsT/TV0xywwmyP6wNtERX8bI/PY3RU5vQsz8/GrLXe8C0Pw/UGbQy07U/",
            "dtype": "f8"
           },
           "y": {
            "bdata": "hoS96I1W+z76FK+fvacQP3Wf6B4yxBk/IAuwZZpeHz8DADQ3vK0fP+aIYXIw8xk/eWV/P6OFDT+tKsuJsV+wPpnvaetdhQy/Auj0hNh7Gb8n+kHbPEUfv1IT7pI5Ch+/6o3Y4X+HGb9iCqB5y4MQv1u0ccsBH/u+",
            "dtype": "f8"
           },
           "z": {
            "bdata": "3bsToQiCWb+2ORF/VoVxvzlkqeaWdn+/HQz2T4c4h79W7FpBPXSOvwZVRXYIUJK//ygR16lslL9VWh9mhS2Vv/OQqmSVapS/JmyjIH5Mkr9rQ6ib9muOvzj39iSRMIe/UcO9v4dpf7/szzAGuXxxv/lggyGUc1m/",
            "dtype": "f8"
           }
          },
          {
           "name": "Fixed Nodes",
           "type": "scatter3d",
           "x": {
            "bdata": "fOkmMQisjD/e+X5qvHSTP/1+arx0k5g/CtejcD0Ktz9SuB6F61G4P5qZmZmZmbk/",
            "dtype": "f8"
           },
           "y": {
            "bdata": "AAAAAAAAAAAAAAAAAAAAAAAAAAAAAAAAAAAAAAAAAAAAAAAAAAAAAAAAAAAAAAAA",
            "dtype": "f8"
           },
           "z": {
            "bdata": "AAAAAAAAAAAAAAAAAAAAAAAAAAAAAAAAAAAAAAAAAAAAAAAAAAAAAAAAAAAAAAAA",
            "dtype": "f8"
           }
          },
          {
           "name": "Edges",
           "type": "scatter3d",
           "x": [
            0.014000000000000005,
            0.01900000000000001,
            null,
            0.01900000000000001,
            0.02400000000000001,
            null,
            0.02400000000000001,
            0.028744983731866666,
            null,
            0.028744983731866666,
            0.03293369160099264,
            null,
            0.03293369160099264,
            0.03658998087695287,
            null,
            0.03658998087695287,
            0.039993812103802574,
            null,
            0.039993812103802574,
            0.043526796223623085,
            null,
            0.043526796223623085,
            0.047510281877186214,
            null,
            0.047510281877186214,
            0.052058303905924856,
            null,
            0.052058303905924856,
            0.05699684790736751,
            null,
            0.05699684790736751,
            0.06193420704532246,
            null,
            0.06193420704532246,
            0.06647970776963748,
            null,
            0.06647970776963748,
            0.07046147861942069,
            null,
            0.07046147861942069,
            0.07399506976439935,
            null,
            0.07399506976439935,
            0.07740183636046978,
            null,
            0.07740183636046978,
            0.08106206909187906,
            null,
            0.08106206909187906,
            0.08525387665743288,
            null,
            0.08525387665743288,
            0.09,
            null,
            0.09,
            0.095,
            null,
            0.095,
            0.1,
            null
           ],
           "y": [
            0,
            0,
            null,
            0,
            0,
            null,
            0,
            0.000026071646558438226,
            null,
            0.000026071646558438226,
            0.0000635346877252036,
            null,
            0.0000635346877252036,
            0.0000982909766454857,
            null,
            0.0000982909766454857,
            0.00011966531148747657,
            null,
            0.00011966531148747657,
            0.00012084447171289984,
            null,
            0.00012084447171289984,
            0.0000989912337856811,
            null,
            0.0000989912337856811,
            0.00005630878871416395,
            null,
            0.00005630878871416395,
            9.759546976568598e-7,
            null,
            9.759546976568598e-7,
            -0.00005439942235782521,
            null,
            -0.00005439942235782521,
            -0.0000972128775530712,
            null,
            -0.0000972128775530712,
            -0.0001192873376698397,
            null,
            -0.0001192873376698397,
            -0.00011840797809099565,
            null,
            -0.00011840797809099565,
            -0.00009738653212614632,
            null,
            -0.00009738653212614632,
            -0.00006299905217591878,
            null,
            -0.00006299905217591878,
            -0.0000258647166585978,
            null,
            -0.0000258647166585978,
            0,
            null,
            0,
            0,
            null,
            0,
            0,
            null
           ],
           "z": [
            0,
            0,
            null,
            0,
            0,
            null,
            0,
            -0.0015568813581088227,
            null,
            -0.0015568813581088227,
            -0.0042775515331200855,
            null,
            -0.0042775515331200855,
            -0.007681455094450001,
            null,
            -0.007681455094450001,
            -0.011338288428993032,
            null,
            -0.011338288428993032,
            -0.014870146328908412,
            null,
            -0.014870146328908412,
            -0.017883426874807838,
            null,
            -0.017883426874807838,
            -0.01994576811947812,
            null,
            -0.01994576811947812,
            -0.020681461675702135,
            null,
            -0.020681461675702135,
            -0.01993783404272249,
            null,
            -0.01993783404272249,
            -0.017869921438301038,
            null,
            -0.017869921438301038,
            -0.01485436117676083,
            null,
            -0.01485436117676083,
            -0.0113231028943762,
            null,
            -0.0113231028943762,
            -0.007669000882615532,
            null,
            -0.007669000882615532,
            -0.004269335509025734,
            null,
            -0.004269335509025734,
            -0.0015534350005080284,
            null,
            -0.0015534350005080284,
            0,
            null,
            0,
            0,
            null,
            0,
            0,
            null
           ]
          },
          {
           "i": [],
           "j": [],
           "k": [],
           "name": "Faces",
           "type": "mesh3d",
           "x": {
            "bdata": "fOkmMQisjD/e+X5qvHSTP/1+arx0k5g/bK01NFNvnT+pwrlQr9ygP1GfdAbsu6I/XXAOphF6pD+Oa4/sJEmmP2LDxYVEU6g/57iF0WKnqj8ldnnbsC6tPyzWhiPXta8/7d23atAEsT/TV0xywwmyP6wNtERX8bI/PY3RU5vQsz8/GrLXe8C0Pw/UGbQy07U/CtejcD0Ktz9SuB6F61G4P5qZmZmZmbk/",
            "dtype": "f8"
           },
           "y": {
            "bdata": "AAAAAAAAAAAAAAAAAAAAAAAAAAAAAAAAhoS96I1W+z76FK+fvacQP3Wf6B4yxBk/IAuwZZpeHz8DADQ3vK0fP+aIYXIw8xk/eWV/P6OFDT+tKsuJsV+wPpnvaetdhQy/Auj0hNh7Gb8n+kHbPEUfv1IT7pI5Ch+/6o3Y4X+HGb9iCqB5y4MQv1u0ccsBH/u+AAAAAAAAAAAAAAAAAAAAAAAAAAAAAAAA",
            "dtype": "f8"
           },
           "z": {
            "bdata": "AAAAAAAAAAAAAAAAAAAAAAAAAAAAAAAA3bsToQiCWb+2ORF/VoVxvzlkqeaWdn+/HQz2T4c4h79W7FpBPXSOvwZVRXYIUJK//ygR16lslL9VWh9mhS2Vv/OQqmSVapS/JmyjIH5Mkr9rQ6ib9muOvzj39iSRMIe/UcO9v4dpf7/szzAGuXxxv/lggyGUc1m/AAAAAAAAAAAAAAAAAAAAAAAAAAAAAAAA",
            "dtype": "f8"
           }
          }
         ],
         "layout": {
          "annotations": [
           {
            "showarrow": false,
            "text": "Time: 0.19s (Step: 20/100)",
            "x": 0.05,
            "xref": "paper",
            "y": 0.95,
            "yref": "paper"
           }
          ]
         },
         "name": "19"
        },
        {
         "data": [
          {
           "name": "Free Nodes",
           "type": "scatter3d",
           "x": {
            "bdata": "RDpQFn9vnT9PWzrkAN2gP/9aL26JvKI/bwx5hOd6pD8d9w2GBkqmP906tPcEVKg/ymHbp/Gnqj/+pjcgJi+tP6jz4etetq8/BepXaCoFsT/fyfrCLAqyP9izzCi78bI/I3nr2OTQsz8rQYTrocC0P7EKUu8807U/",
            "dtype": "f8"
           },
           "y": {
            "bdata": "GNygyZOT/z61AatwODwTPzGWvNcOwR0/V1yKL/kbIj8Nuublc0giP7MzK9EI8B0/SrJWsLr/ED+GLNYpNr+sPkAimu8BkRC/w1oMKieNHb/ueLVUkR8iv2Aki3n//CG/coYMRGOXHb9vvujyMiUTv+/ZAdlYcv++",
            "dtype": "f8"
           },
           "z": {
            "bdata": "bxgb3W15Wb99Y+REOoBxv6DqL5Hebn+/NZrtHdYzh7/74PCsXW+OvxyJ8xbvTZK/0wA18GFrlL8F7JLIZS2Vv1aDw0Gca5S/H+gdZVJOkr/Buz7pRXCOvyjBGZu1NIe/caQONk1wf7/qX1grLIFxv0bBj98De1m/",
            "dtype": "f8"
           }
          },
          {
           "name": "Fixed Nodes",
           "type": "scatter3d",
           "x": {
            "bdata": "fOkmMQisjD/e+X5qvHSTP/1+arx0k5g/CtejcD0Ktz9SuB6F61G4P5qZmZmZmbk/",
            "dtype": "f8"
           },
           "y": {
            "bdata": "AAAAAAAAAAAAAAAAAAAAAAAAAAAAAAAAAAAAAAAAAAAAAAAAAAAAAAAAAAAAAAAA",
            "dtype": "f8"
           },
           "z": {
            "bdata": "AAAAAAAAAAAAAAAAAAAAAAAAAAAAAAAAAAAAAAAAAAAAAAAAAAAAAAAAAAAAAAAA",
            "dtype": "f8"
           }
          },
          {
           "name": "Edges",
           "type": "scatter3d",
           "x": [
            0.014000000000000005,
            0.01900000000000001,
            null,
            0.01900000000000001,
            0.02400000000000001,
            null,
            0.02400000000000001,
            0.028745637642766178,
            null,
            0.028745637642766178,
            0.03293612276063717,
            null,
            0.03293612276063717,
            0.03659467191726228,
            null,
            0.03659467191726228,
            0.040000185891153055,
            null,
            0.040000185891153055,
            0.04353351961525063,
            null,
            0.04353351961525063,
            0.04751601718645813,
            null,
            0.04751601718645813,
            0.05206256078753631,
            null,
            0.05206256078753631,
            0.05700034278181752,
            null,
            0.05700034278181752,
            0.06193825368334355,
            null,
            0.06193825368334355,
            0.06648507163473745,
            null,
            0.06648507163473745,
            0.07046775589223085,
            null,
            0.07046775589223085,
            0.0740010237320371,
            null,
            0.0740010237320371,
            0.07740621848958944,
            null,
            0.07740621848958944,
            0.08106433868329492,
            null,
            0.08106433868329492,
            0.0852544864920144,
            null,
            0.0852544864920144,
            0.09,
            null,
            0.09,
            0.095,
            null,
            0.095,
            0.1,
            null
           ],
           "y": [
            0,
            0,
            null,
            0,
            0,
            null,
            0,
            0.00003011367207525145,
            null,
            0.00003011367207525145,
            0.0000733766029652531,
            null,
            0.0000733766029652531,
            0.00011350300877362923,
            null,
            0.00011350300877362923,
            0.00013816277330100615,
            null,
            0.00013816277330100615,
            0.00013948836108342057,
            null,
            0.00013948836108342057,
            0.00011420301261040495,
            null,
            0.00011420301261040495,
            0.00006484581907412984,
            null,
            0.00006484581907412984,
            8.567249839981217e-7,
            null,
            8.567249839981217e-7,
            -0.00006319593730997556,
            null,
            -0.00006319593730997556,
            -0.00011272956409090055,
            null,
            -0.00011272956409090055,
            -0.00013826989229932064,
            null,
            -0.00013826989229932064,
            -0.00013723963345161055,
            null,
            -0.00013723963345161055,
            -0.00011288207407436095,
            null,
            -0.00011288207407436095,
            -0.00007303355662524059,
            null,
            -0.00007303355662524059,
            -0.00002998987980659147,
            null,
            -0.00002998987980659147,
            0,
            null,
            0,
            0,
            null,
            0,
            0,
            null
           ],
           "z": [
            0,
            0,
            null,
            0,
            0,
            null,
            0,
            -0.001554829872860288,
            null,
            -0.001554829872860288,
            -0.004272678006849937,
            null,
            -0.004272678006849937,
            -0.007674092677002392,
            null,
            -0.007674092677002392,
            -0.011329338825544525,
            null,
            -0.011329338825544525,
            -0.014860851135481292,
            null,
            -0.014860851135481292,
            -0.017875419402920575,
            null,
            -0.017875419402920575,
            -0.019940882001947834,
            null,
            -0.019940882001947834,
            -0.02068099056917207,
            null,
            -0.02068099056917207,
            -0.01994175101652059,
            null,
            -0.01994175101652059,
            -0.0178768991677104,
            null,
            -0.0178768991677104,
            -0.014862581425260648,
            null,
            -0.014862581425260648,
            -0.011331003948015964,
            null,
            -0.011331003948015964,
            -0.007675458532426225,
            null,
            -0.007675458532426225,
            -0.0042735791553454115,
            null,
            -0.0042735791553454115,
            -0.001555207998759371,
            null,
            -0.001555207998759371,
            0,
            null,
            0,
            0,
            null,
            0,
            0,
            null
           ]
          },
          {
           "i": [],
           "j": [],
           "k": [],
           "name": "Faces",
           "type": "mesh3d",
           "x": {
            "bdata": "fOkmMQisjD/e+X5qvHSTP/1+arx0k5g/RDpQFn9vnT9PWzrkAN2gP/9aL26JvKI/bwx5hOd6pD8d9w2GBkqmP906tPcEVKg/ymHbp/Gnqj/+pjcgJi+tP6jz4etetq8/BepXaCoFsT/fyfrCLAqyP9izzCi78bI/I3nr2OTQsz8rQYTrocC0P7EKUu8807U/CtejcD0Ktz9SuB6F61G4P5qZmZmZmbk/",
            "dtype": "f8"
           },
           "y": {
            "bdata": "AAAAAAAAAAAAAAAAAAAAAAAAAAAAAAAAGNygyZOT/z61AatwODwTPzGWvNcOwR0/V1yKL/kbIj8Nuublc0giP7MzK9EI8B0/SrJWsLr/ED+GLNYpNr+sPkAimu8BkRC/w1oMKieNHb/ueLVUkR8iv2Aki3n//CG/coYMRGOXHb9vvujyMiUTv+/ZAdlYcv++AAAAAAAAAAAAAAAAAAAAAAAAAAAAAAAA",
            "dtype": "f8"
           },
           "z": {
            "bdata": "AAAAAAAAAAAAAAAAAAAAAAAAAAAAAAAAbxgb3W15Wb99Y+REOoBxv6DqL5Hebn+/NZrtHdYzh7/74PCsXW+OvxyJ8xbvTZK/0wA18GFrlL8F7JLIZS2Vv1aDw0Gca5S/H+gdZVJOkr/Buz7pRXCOvyjBGZu1NIe/caQONk1wf7/qX1grLIFxv0bBj98De1m/AAAAAAAAAAAAAAAAAAAAAAAAAAAAAAAA",
            "dtype": "f8"
           }
          }
         ],
         "layout": {
          "annotations": [
           {
            "showarrow": false,
            "text": "Time: 0.20s (Step: 21/100)",
            "x": 0.05,
            "xref": "paper",
            "y": 0.95,
            "yref": "paper"
           }
          ]
         },
         "name": "20"
        },
        {
         "data": [
          {
           "name": "Free Nodes",
           "type": "scatter3d",
           "x": {
            "bdata": "wIfYkI1vnT9x3KDYG92gP/ozWoy9vKI/ZO+ZiS57pD8voAS0UUqmP8kVWSNFVKg/1LtkZyCoqj+A9sfvSS+tP7dGhT2Ftq8/U02rJ0MFsT8lRnm2SQqyP3KQWrfW8bI/xRdOLvnQsz9kCvp2rMC0P50FB8U/07U/",
            "dtype": "f8"
           },
           "y": {
            "bdata": "tX06m034AT+v27zFNOQVP/6/z7X/7SA/SbMMSdGaJD/1YDy8G8wkPzgOcirJBCE/B7YjNMZLEz/3foGVzA+oPhji6gUG8BK/YTE7ePTcIL816O7QhqwkvzVTChkdhCS/qqwioabfIL8QgmMDedUVvznXjsCC7gG/",
            "dtype": "f8"
           },
           "z": {
            "bdata": "pZh34FN2Wb9gyjN3ZX5xv+cWM2sebH+/+6XJViwyh79GHq9qo22Ovy4bXRgtTZK/YwwhGuFqlL9zv5znPy2Vv0YSx57Pa5S/dEOuFsNOkr9yTqtiWHGOv2LE/Bq9NYe/eGN3Nfdxf7/RMYWUQIJxvzggFazLfFm/",
            "dtype": "f8"
           }
          },
          {
           "name": "Fixed Nodes",
           "type": "scatter3d",
           "x": {
            "bdata": "fOkmMQisjD/e+X5qvHSTP/1+arx0k5g/CtejcD0Ktz9SuB6F61G4P5qZmZmZmbk/",
            "dtype": "f8"
           },
           "y": {
            "bdata": "AAAAAAAAAAAAAAAAAAAAAAAAAAAAAAAAAAAAAAAAAAAAAAAAAAAAAAAAAAAAAAAA",
            "dtype": "f8"
           },
           "z": {
            "bdata": "AAAAAAAAAAAAAAAAAAAAAAAAAAAAAAAAAAAAAAAAAAAAAAAAAAAAAAAAAAAAAAAA",
            "dtype": "f8"
           }
          },
          {
           "name": "Edges",
           "type": "scatter3d",
           "x": [
            0.014000000000000005,
            0.01900000000000001,
            null,
            0.01900000000000001,
            0.02400000000000001,
            null,
            0.02400000000000001,
            0.028745853391349163,
            null,
            0.028745853391349163,
            0.03293692607297139,
            null,
            0.03293692607297139,
            0.03659622514997092,
            null,
            0.03659622514997092,
            0.04000230245307426,
            null,
            0.04000230245307426,
            0.043535760140287365,
            null,
            0.043535760140287365,
            0.04751792961591723,
            null,
            0.04751792961591723,
            0.05206395399215294,
            null,
            0.05206395399215294,
            0.05700141002669756,
            null,
            0.05700141002669756,
            0.06193939567550671,
            null,
            0.06193939567550671,
            0.06648654669270586,
            null,
            0.06648654669270586,
            0.07046948151516881,
            null,
            0.07046948151516881,
            0.07400266624841992,
            null,
            0.07400266624841992,
            0.07740743046278371,
            null,
            0.07740743046278371,
            0.08106496720032791,
            null,
            0.08106496720032791,
            0.08525465545883155,
            null,
            0.08525465545883155,
            0.09,
            null,
            0.09,
            0.095,
            null,
            0.095,
            0.1,
            null
           ],
           "y": [
            0,
            0,
            null,
            0,
            0,
            null,
            0,
            0.000034274929388229866,
            null,
            0.000034274929388229866,
            0.00008350917908904355,
            null,
            0.00008350917908904355,
            0.00012916323149125825,
            null,
            0.00012916323149125825,
            0.00015720181229408384,
            null,
            0.00015720181229408384,
            0.00015867079320553532,
            null,
            0.00015867079320553532,
            0.00012984233510248007,
            null,
            0.00012984233510248007,
            0.00007360837210842334,
            null,
            0.00007360837210842334,
            7.170950011674001e-7,
            null,
            7.170950011674001e-7,
            -0.00007224118005922547,
            null,
            -0.00007224118005922547,
            -0.00012865528343864854,
            null,
            -0.00012865528343864854,
            -0.00015772958474064158,
            null,
            -0.00015772958474064158,
            -0.00015652518461153347,
            null,
            -0.00015652518461153347,
            -0.00012873562861179705,
            null,
            -0.00012873562861179705,
            -0.00008328963380988702,
            null,
            -0.00008328963380988702,
            -0.00003420197032914661,
            null,
            -0.00003420197032914661,
            0,
            null,
            0,
            0,
            null,
            0,
            0,
            null
           ],
           "z": [
            0,
            0,
            null,
            0,
            0,
            null,
            0,
            -0.0015540904149644954,
            null,
            -0.0015540904149644954,
            -0.004270931577809195,
            null,
            -0.004270931577809195,
            -0.007671469519839858,
            null,
            -0.007671469519839858,
            -0.011326166533041073,
            null,
            -0.011326166533041073,
            -0.01485755605052853,
            null,
            -0.01485755605052853,
            -0.017872528659860602,
            null,
            -0.017872528659860602,
            -0.019938962192338382,
            null,
            -0.019938962192338382,
            -0.020680426131718343,
            null,
            -0.020680426131718343,
            -0.019942516389863017,
            null,
            -0.019942516389863017,
            -0.01787857843334302,
            null,
            -0.01787857843334302,
            -0.014864626418251013,
            null,
            -0.014864626418251013,
            -0.011332967172707768,
            null,
            -0.011332967172707768,
            -0.007677045497495587,
            null,
            -0.007677045497495587,
            -0.004274608865966604,
            null,
            -0.004274608865966604,
            -0.001555632494573812,
            null,
            -0.001555632494573812,
            0,
            null,
            0,
            0,
            null,
            0,
            0,
            null
           ]
          },
          {
           "i": [],
           "j": [],
           "k": [],
           "name": "Faces",
           "type": "mesh3d",
           "x": {
            "bdata": "fOkmMQisjD/e+X5qvHSTP/1+arx0k5g/wIfYkI1vnT9x3KDYG92gP/ozWoy9vKI/ZO+ZiS57pD8voAS0UUqmP8kVWSNFVKg/1LtkZyCoqj+A9sfvSS+tP7dGhT2Ftq8/U02rJ0MFsT8lRnm2SQqyP3KQWrfW8bI/xRdOLvnQsz9kCvp2rMC0P50FB8U/07U/CtejcD0Ktz9SuB6F61G4P5qZmZmZmbk/",
            "dtype": "f8"
           },
           "y": {
            "bdata": "AAAAAAAAAAAAAAAAAAAAAAAAAAAAAAAAtX06m034AT+v27zFNOQVP/6/z7X/7SA/SbMMSdGaJD/1YDy8G8wkPzgOcirJBCE/B7YjNMZLEz/3foGVzA+oPhji6gUG8BK/YTE7ePTcIL816O7QhqwkvzVTChkdhCS/qqwioabfIL8QgmMDedUVvznXjsCC7gG/AAAAAAAAAAAAAAAAAAAAAAAAAAAAAAAA",
            "dtype": "f8"
           },
           "z": {
            "bdata": "AAAAAAAAAAAAAAAAAAAAAAAAAAAAAAAApZh34FN2Wb9gyjN3ZX5xv+cWM2sebH+/+6XJViwyh79GHq9qo22Ovy4bXRgtTZK/YwwhGuFqlL9zv5znPy2Vv0YSx57Pa5S/dEOuFsNOkr9yTqtiWHGOv2LE/Bq9NYe/eGN3Nfdxf7/RMYWUQIJxvzggFazLfFm/AAAAAAAAAAAAAAAAAAAAAAAAAAAAAAAA",
            "dtype": "f8"
           }
          }
         ],
         "layout": {
          "annotations": [
           {
            "showarrow": false,
            "text": "Time: 0.21s (Step: 22/100)",
            "x": 0.05,
            "xref": "paper",
            "y": 0.95,
            "yref": "paper"
           }
          ]
         },
         "name": "21"
        },
        {
         "data": [
          {
           "name": "Free Nodes",
           "type": "scatter3d",
           "x": {
            "bdata": "UlWQV4hvnT8IuPdyEt2gP3t6QRKsvKI/odXDyBd7pD8Fx+LTOkqmP/stVz0yVKg/PADZKhGoqj8P6AAUOS+tP/V9SG1stq8/Z/o62DEFsT9Ejr3RNQqyP2ivBmbE8bI/+r7kE+zQsz83BeTapcC0P6gBqwk+07U/",
            "dtype": "f8"
           },
           "y": {
            "bdata": "8NGn26E2BD81jp9ZaJ8YP6ehMnI6CiM/uAkgHWorJz/HlxBBT2EnP3BF82ZZHyM/G7cBfwOmFT+ilfwFMmeiPlWpKnXVXxW/nfcUvOAAI7+2w4LgJUknvwy7T9sLGie/yvuUNkD/Ir9M/GnyH5QYv8apGkIeLwS/",
            "dtype": "f8"
           },
           "z": {
            "bdata": "GTLkBud2Wb+fwTlpvn5xv4OtmFinbH+/R8eLuYAyh78EgThC+G2OvyPyP3hKTZK/9lT1keBqlL/23srtFC2Vv+CfRy56a5S/I1qt9E9Okr+TswaDW3COvyLPHLfMNIe/HCP9pWtwf7+uriRuOoFxv/4pjxMSe1m/",
            "dtype": "f8"
           }
          },
          {
           "name": "Fixed Nodes",
           "type": "scatter3d",
           "x": {
            "bdata": "fOkmMQisjD/e+X5qvHSTP/1+arx0k5g/CtejcD0Ktz9SuB6F61G4P5qZmZmZmbk/",
            "dtype": "f8"
           },
           "y": {
            "bdata": "AAAAAAAAAAAAAAAAAAAAAAAAAAAAAAAAAAAAAAAAAAAAAAAAAAAAAAAAAAAAAAAA",
            "dtype": "f8"
           },
           "z": {
            "bdata": "AAAAAAAAAAAAAAAAAAAAAAAAAAAAAAAAAAAAAAAAAAAAAAAAAAAAAAAAAAAAAAAA",
            "dtype": "f8"
           }
          },
          {
           "name": "Edges",
           "type": "scatter3d",
           "x": [
            0.014000000000000005,
            0.01900000000000001,
            null,
            0.01900000000000001,
            0.02400000000000001,
            null,
            0.02400000000000001,
            0.028745775551290827,
            null,
            0.028745775551290827,
            0.03293664601720542,
            null,
            0.03293664601720542,
            0.03659570429657762,
            null,
            0.03659570429657762,
            0.04000162435287825,
            null,
            0.04000162435287825,
            0.04353507839677032,
            null,
            0.04353507839677032,
            0.04751736639772371,
            null,
            0.04751736639772371,
            0.0520634999088547,
            null,
            0.0520634999088547,
            0.057000907604063504,
            null,
            0.057000907604063504,
            0.061938656177741004,
            null,
            0.061938656177741004,
            0.06648551491796582,
            null,
            0.06648551491796582,
            0.07046829577080255,
            null,
            0.07046829577080255,
            0.07400157442924427,
            null,
            0.07400157442924427,
            0.0774066494529925,
            null,
            0.0774066494529925,
            0.08106457323085157,
            null,
            0.08106457323085157,
            0.08525455223116885,
            null,
            0.08525455223116885,
            0.09,
            null,
            0.09,
            0.095,
            null,
            0.095,
            0.1,
            null
           ],
           "y": [
            0,
            0,
            null,
            0,
            0,
            null,
            0,
            0.000038554014697131963,
            null,
            0.000038554014697131963,
            0.00009392809297952764,
            null,
            0.00009392809297952764,
            0.00014526332333743045,
            null,
            0.00014526332333743045,
            0.00017676992735011859,
            null,
            0.00017676992735011859,
            0.00017837612588883346,
            null,
            0.00017837612588883346,
            0.00014589277586777747,
            null,
            0.00014589277586777747,
            0.00008258243883726669,
            null,
            0.00008258243883726669,
            5.484553291286755e-7,
            null,
            5.484553291286755e-7,
            -0.0000815366777639261,
            null,
            -0.0000815366777639261,
            -0.0001449846586555865,
            null,
            -0.0001449846586555865,
            -0.00017765605321565036,
            null,
            -0.00017765605321565036,
            -0.0001762523149006701,
            null,
            -0.0001762523149006701,
            -0.00014493616917296413,
            null,
            -0.00014493616917296413,
            -0.00009375996578774129,
            null,
            -0.00009375996578774129,
            -0.00003849803057439124,
            null,
            -0.00003849803057439124,
            0,
            null,
            0,
            0,
            null,
            0,
            0,
            null
           ],
           "z": [
            0,
            0,
            null,
            0,
            0,
            null,
            0,
            -0.0015542274591694492,
            null,
            -0.0015542274591694492,
            -0.004271262925258062,
            null,
            -0.004271262925258062,
            -0.007671979613898985,
            null,
            -0.007671979613898985,
            -0.011326795256056633,
            null,
            -0.011326795256056633,
            -0.014858188172241167,
            null,
            -0.014858188172241167,
            -0.01787296637484038,
            null,
            -0.01787296637484038,
            -0.019938954266156515,
            null,
            -0.019938954266156515,
            -0.02067978574152015,
            null,
            -0.02067978574152015,
            -0.019941243242925455,
            null,
            -0.019941243242925455,
            -0.01787686282053803,
            null,
            -0.01787686282053803,
            -0.014862742363072978,
            null,
            -0.014862742363072978,
            -0.011331176126624213,
            null,
            -0.011331176126624213,
            -0.007675571919954629,
            null,
            -0.007675571919954629,
            -0.004273632281449542,
            null,
            -0.004273632281449542,
            -0.0015552212264419159,
            null,
            -0.0015552212264419159,
            0,
            null,
            0,
            0,
            null,
            0,
            0,
            null
           ]
          },
          {
           "i": [],
           "j": [],
           "k": [],
           "name": "Faces",
           "type": "mesh3d",
           "x": {
            "bdata": "fOkmMQisjD/e+X5qvHSTP/1+arx0k5g/UlWQV4hvnT8IuPdyEt2gP3t6QRKsvKI/odXDyBd7pD8Fx+LTOkqmP/stVz0yVKg/PADZKhGoqj8P6AAUOS+tP/V9SG1stq8/Z/o62DEFsT9Ejr3RNQqyP2ivBmbE8bI/+r7kE+zQsz83BeTapcC0P6gBqwk+07U/CtejcD0Ktz9SuB6F61G4P5qZmZmZmbk/",
            "dtype": "f8"
           },
           "y": {
            "bdata": "AAAAAAAAAAAAAAAAAAAAAAAAAAAAAAAA8NGn26E2BD81jp9ZaJ8YP6ehMnI6CiM/uAkgHWorJz/HlxBBT2EnP3BF82ZZHyM/G7cBfwOmFT+ilfwFMmeiPlWpKnXVXxW/nfcUvOAAI7+2w4LgJUknvwy7T9sLGie/yvuUNkD/Ir9M/GnyH5QYv8apGkIeLwS/AAAAAAAAAAAAAAAAAAAAAAAAAAAAAAAA",
            "dtype": "f8"
           },
           "z": {
            "bdata": "AAAAAAAAAAAAAAAAAAAAAAAAAAAAAAAAGTLkBud2Wb+fwTlpvn5xv4OtmFinbH+/R8eLuYAyh78EgThC+G2OvyPyP3hKTZK/9lT1keBqlL/23srtFC2Vv+CfRy56a5S/I1qt9E9Okr+TswaDW3COvyLPHLfMNIe/HCP9pWtwf7+uriRuOoFxv/4pjxMSe1m/AAAAAAAAAAAAAAAAAAAAAAAAAAAAAAAA",
            "dtype": "f8"
           }
          }
         ],
         "layout": {
          "annotations": [
           {
            "showarrow": false,
            "text": "Time: 0.22s (Step: 23/100)",
            "x": 0.05,
            "xref": "paper",
            "y": 0.95,
            "yref": "paper"
           }
          ]
         },
         "name": "22"
        },
        {
         "data": [
          {
           "name": "Free Nodes",
           "type": "scatter3d",
           "x": {
            "bdata": "0ju40X9vnT97JRwLA92gPwXWUT+PvKI/2UnJ9vF6pD9YdoZwFEqmPzEQ2l0SVKg/rpnrLvinqj8YHIGBHy+tP0WhWatItq8/XFTSNBkFsT/NMD6EGQqyP2dHS02q8bI/EzUiZNnQsz/GU61snMC0P02HB5E707U/",
            "dtype": "f8"
           },
           "y": {
            "bdata": "ECKsuuJ6Bj+e3HMUz2EbP+R7CDL7KyU/n+mO56DCKT++009D/fwpPy2EwXvjPiU/xdYwXu0EGD+IzqXK7NGXPg6JFqwl1xe/uL6aa5AqJb9a5oYfVOwpv5u9EOMjtim/RpUWUa0jJb+xSi7su1gbv9tPkG5mdAa/",
            "dtype": "f8"
           },
           "z": {
            "bdata": "58NxtQx4Wb/CseWybX9xvxwenNOxbX+/jHdxSSMzh78ri6IKnW6Ov3Bxr76ITZK/uBRA4fBqlL/Sunya5CyVv+OEVMUJa5S/Kd4yLLNNkr/5uppoAG+Ov9libBODM4e/BeoQR09uf79ysVHS1X9xv3Xnz/67eFm/",
            "dtype": "f8"
           }
          },
          {
           "name": "Fixed Nodes",
           "type": "scatter3d",
           "x": {
            "bdata": "fOkmMQisjD/e+X5qvHSTP/1+arx0k5g/CtejcD0Ktz9SuB6F61G4P5qZmZmZmbk/",
            "dtype": "f8"
           },
           "y": {
            "bdata": "AAAAAAAAAAAAAAAAAAAAAAAAAAAAAAAAAAAAAAAAAAAAAAAAAAAAAAAAAAAAAAAA",
            "dtype": "f8"
           },
           "z": {
            "bdata": "AAAAAAAAAAAAAAAAAAAAAAAAAAAAAAAAAAAAAAAAAAAAAAAAAAAAAAAAAAAAAAAA",
            "dtype": "f8"
           }
          },
          {
           "name": "Edges",
           "type": "scatter3d",
           "x": [
            0.014000000000000005,
            0.01900000000000001,
            null,
            0.01900000000000001,
            0.02400000000000001,
            null,
            0.02400000000000001,
            0.028745648551247012,
            null,
            0.028745648551247012,
            0.03293618689174146,
            null,
            0.03293618689174146,
            0.036594845275356426,
            null,
            0.036594845275356426,
            0.0400004972222125,
            null,
            0.0400004972222125,
            0.043533934341422664,
            null,
            0.043533934341422664,
            0.04751641650821659,
            null,
            0.04751641650821659,
            0.05206275532491432,
            null,
            0.05206275532491432,
            0.0570001454912516,
            null,
            0.0570001454912516,
            0.06193759051967843,
            null,
            0.06193759051967843,
            0.06648404635991895,
            null,
            0.06648404635991895,
            0.0704666087969514,
            null,
            0.0704666087969514,
            0.07400001895009965,
            null,
            0.07400001895009965,
            0.077405535647092,
            null,
            0.077405535647092,
            0.08106401112793468,
            null,
            0.08106401112793468,
            0.08525440493351973,
            null,
            0.08525440493351973,
            0.09,
            null,
            0.09,
            0.095,
            null,
            0.095,
            0.1,
            null
           ],
           "y": [
            0,
            0,
            null,
            0,
            0,
            null,
            0,
            0.00004287723944257718,
            null,
            0.00004287723944257718,
            0.00010445429244386676,
            null,
            0.00010445429244386676,
            0.00016152802801713752,
            null,
            0.00016152802801713752,
            0.000196535245576457,
            null,
            0.000196535245576457,
            0.0001982745322092454,
            null,
            0.0001982745322092454,
            0.00016209151170002,
            null,
            0.00016209151170002,
            0.00009162615565191507,
            null,
            0.00009162615565191507,
            3.5494594876411393e-7,
            null,
            3.5494594876411393e-7,
            -0.00009094397957779365,
            null,
            -0.00009094397957779365,
            -0.00016148579543572516,
            null,
            -0.00016148579543572516,
            -0.00019777800458857764,
            null,
            -0.00019777800458857764,
            -0.0001961630637494605,
            null,
            -0.0001961630637494605,
            -0.00016128054316514646,
            null,
            -0.00016128054316514646,
            -0.00010431906689082716,
            null,
            -0.00010431906689082716,
            -0.000042828918431464274,
            null,
            -0.000042828918431464274,
            0,
            null,
            0,
            0,
            null,
            0,
            0,
            null
           ],
           "z": [
            0,
            0,
            null,
            0,
            0,
            null,
            0,
            -0.0015545009717039483,
            null,
            -0.0015545009717039483,
            -0.00427191592312365,
            null,
            -0.00427191592312365,
            -0.007672972331199481,
            null,
            -0.007672972331199481,
            -0.011328006438073655,
            null,
            -0.011328006438073655,
            -0.014859415900280467,
            null,
            -0.014859415900280467,
            -0.017873894346722208,
            null,
            -0.017873894346722208,
            -0.019939197300136796,
            null,
            -0.019939197300136796,
            -0.020679065636779743,
            null,
            -0.020679065636779743,
            -0.019939568203999235,
            null,
            -0.019939568203999235,
            -0.017874526570009906,
            null,
            -0.017874526570009906,
            -0.01486015624263136,
            null,
            -0.01486015624263136,
            -0.011328720121626489,
            null,
            -0.011328720121626489,
            -0.007673558881885705,
            null,
            -0.007673558881885705,
            -0.004272303810563082,
            null,
            -0.004272303810563082,
            -0.001554664220064753,
            null,
            -0.001554664220064753,
            0,
            null,
            0,
            0,
            null,
            0,
            0,
            null
           ]
          },
          {
           "i": [],
           "j": [],
           "k": [],
           "name": "Faces",
           "type": "mesh3d",
           "x": {
            "bdata": "fOkmMQisjD/e+X5qvHSTP/1+arx0k5g/0ju40X9vnT97JRwLA92gPwXWUT+PvKI/2UnJ9vF6pD9YdoZwFEqmPzEQ2l0SVKg/rpnrLvinqj8YHIGBHy+tP0WhWatItq8/XFTSNBkFsT/NMD6EGQqyP2dHS02q8bI/EzUiZNnQsz/GU61snMC0P02HB5E707U/CtejcD0Ktz9SuB6F61G4P5qZmZmZmbk/",
            "dtype": "f8"
           },
           "y": {
            "bdata": "AAAAAAAAAAAAAAAAAAAAAAAAAAAAAAAAECKsuuJ6Bj+e3HMUz2EbP+R7CDL7KyU/n+mO56DCKT++009D/fwpPy2EwXvjPiU/xdYwXu0EGD+IzqXK7NGXPg6JFqwl1xe/uL6aa5AqJb9a5oYfVOwpv5u9EOMjtim/RpUWUa0jJb+xSi7su1gbv9tPkG5mdAa/AAAAAAAAAAAAAAAAAAAAAAAAAAAAAAAA",
            "dtype": "f8"
           },
           "z": {
            "bdata": "AAAAAAAAAAAAAAAAAAAAAAAAAAAAAAAA58NxtQx4Wb/CseWybX9xvxwenNOxbX+/jHdxSSMzh78ri6IKnW6Ov3Bxr76ITZK/uBRA4fBqlL/Sunya5CyVv+OEVMUJa5S/Kd4yLLNNkr/5uppoAG+Ov9libBODM4e/BeoQR09uf79ysVHS1X9xv3Xnz/67eFm/AAAAAAAAAAAAAAAAAAAAAAAAAAAAAAAA",
            "dtype": "f8"
           }
          }
         ],
         "layout": {
          "annotations": [
           {
            "showarrow": false,
            "text": "Time: 0.23s (Step: 24/100)",
            "x": 0.05,
            "xref": "paper",
            "y": 0.95,
            "yref": "paper"
           }
          ]
         },
         "name": "23"
        },
        {
         "data": [
          {
           "name": "Free Nodes",
           "type": "scatter3d",
           "x": {
            "bdata": "vVXdGXxvnT+nzOCb/NygP+fU+8+DvKI/fB5H4eN6pD9QOak0B0qmP1KPrggIVKg/a9G/Le+nqj/MaFnoEi+tP/Xgw8Aztq8/tJDAYwoFsT/nzba+CAqyP//0Mi+b8bI/ZcFm0M7Qsz/Fgjs1l8C0PyE0Jjs607U/",
            "dtype": "f8"
           },
           "y": {
            "bdata": "9rShDDW9CD8wmIMW4iEePzvLu/b0Syc/c8zCFrNXLD9VEPUsg5YsP4p27ciiXCc/0Brr4pRhGj/Cx8wG+UGEPpJzwgPMTRq/6rS1GnZTJ7/cj0Ibho4svyYypqNIUSy//KdUAVxHJ79J75hncRwev/U+tUr/uAi/",
            "dtype": "f8"
           },
           "z": {
            "bdata": "pGoMRD14Wb81evsTi39xv3HK9m3fbX+/gPjDVD8zh7/shbKytW6Ov5oA90aKTZK/PgbHZ9tqlL9hMykoryyVv1TT49e0apS/D7MbuEhNkr9xUry7HG6Ov37ZxIGsMoe/jckLOO9sf7+vj0kY7X5xv/N87jA1d1m/",
            "dtype": "f8"
           }
          },
          {
           "name": "Fixed Nodes",
           "type": "scatter3d",
           "x": {
            "bdata": "fOkmMQisjD/e+X5qvHSTP/1+arx0k5g/CtejcD0Ktz9SuB6F61G4P5qZmZmZmbk/",
            "dtype": "f8"
           },
           "y": {
            "bdata": "AAAAAAAAAAAAAAAAAAAAAAAAAAAAAAAAAAAAAAAAAAAAAAAAAAAAAAAAAAAAAAAA",
            "dtype": "f8"
           },
           "z": {
            "bdata": "AAAAAAAAAAAAAAAAAAAAAAAAAAAAAAAAAAAAAAAAAAAAAAAAAAAAAAAAAAAAAAAA",
            "dtype": "f8"
           }
          },
          {
           "name": "Edges",
           "type": "scatter3d",
           "x": [
            0.014000000000000005,
            0.01900000000000001,
            null,
            0.01900000000000001,
            0.02400000000000001,
            null,
            0.02400000000000001,
            0.028745593145989668,
            null,
            0.028745593145989668,
            0.032935995128718525,
            null,
            0.032935995128718525,
            0.03659450448859918,
            null,
            0.03659450448859918,
            0.04000007748578313,
            null,
            0.04000007748578313,
            0.04353353994212006,
            null,
            0.04353353994212006,
            0.0475161085699073,
            null,
            0.0475161085699073,
            0.052062486967687636,
            null,
            0.052062486967687636,
            0.05699977003378506,
            null,
            0.05699977003378506,
            0.0619369671639464,
            null,
            0.0619369671639464,
            0.06648316321713105,
            null,
            0.06648316321713105,
            0.07046560913186505,
            null,
            0.07046560913186505,
            0.07399911787338807,
            null,
            0.07399911787338807,
            0.07740490520405315,
            null,
            0.07740490520405315,
            0.08106370019550997,
            null,
            0.08106370019550997,
            0.08525432533333845,
            null,
            0.08525432533333845,
            0.09,
            null,
            0.09,
            0.095,
            null,
            0.095,
            0.1,
            null
           ],
           "y": [
            0,
            0,
            null,
            0,
            0,
            null,
            0,
            0.00004718607085938714,
            null,
            0.00004718607085938714,
            0.00011494581633861366,
            null,
            0.00011494581633861366,
            0.00017773976593779016,
            null,
            0.00017773976593779016,
            0.0002162366976158101,
            null,
            0.0002162366976158101,
            0.00021810866608451782,
            null,
            0.00021810866608451782,
            0.0001782368385318432,
            null,
            0.0001782368385318432,
            0.00010063620787113402,
            null,
            0.00010063620787113402,
            1.509316719605294e-7,
            null,
            1.509316719605294e-7,
            -0.00010034139353583122,
            null,
            -0.00010034139353583122,
            -0.00017796341613111134,
            null,
            -0.00017796341613111134,
            -0.0002178705887035938,
            null,
            -0.0002178705887035938,
            -0.00021604549131061626,
            null,
            -0.00021604549131061626,
            -0.0001776027499230114,
            null,
            -0.0001776027499230114,
            -0.00011486475150318283,
            null,
            -0.00011486475150318283,
            -0.0000471547039874158,
            null,
            -0.0000471547039874158,
            0,
            null,
            0,
            0,
            null,
            0,
            0,
            null
           ],
           "z": [
            0,
            0,
            null,
            0,
            0,
            null,
            0,
            -0.001554546193978248,
            null,
            -0.001554546193978248,
            -0.004272025369316303,
            null,
            -0.004272025369316303,
            -0.00767314221541203,
            null,
            -0.00767314221541203,
            -0.011328215383852092,
            null,
            -0.011328215383852092,
            -0.01485959960547497,
            null,
            -0.01485959960547497,
            -0.017873917180395972,
            null,
            -0.017873917180395972,
            -0.019938877305099682,
            null,
            -0.019938877305099682,
            -0.020678269220570814,
            null,
            -0.020678269220570814,
            -0.01993830268561976,
            null,
            -0.01993830268561976,
            -0.017872940289566815,
            null,
            -0.017872940289566815,
            -0.014858459929692121,
            null,
            -0.014858459929692121,
            -0.011327121458276631,
            null,
            -0.011327121458276631,
            -0.007672247361130491,
            null,
            -0.007672247361130491,
            -0.004271436836095362,
            null,
            -0.004271436836095362,
            -0.0015543002552716428,
            null,
            -0.0015543002552716428,
            0,
            null,
            0,
            0,
            null,
            0,
            0,
            null
           ]
          },
          {
           "i": [],
           "j": [],
           "k": [],
           "name": "Faces",
           "type": "mesh3d",
           "x": {
            "bdata": "fOkmMQisjD/e+X5qvHSTP/1+arx0k5g/vVXdGXxvnT+nzOCb/NygP+fU+8+DvKI/fB5H4eN6pD9QOak0B0qmP1KPrggIVKg/a9G/Le+nqj/MaFnoEi+tP/Xgw8Aztq8/tJDAYwoFsT/nzba+CAqyP//0Mi+b8bI/ZcFm0M7Qsz/Fgjs1l8C0PyE0Jjs607U/CtejcD0Ktz9SuB6F61G4P5qZmZmZmbk/",
            "dtype": "f8"
           },
           "y": {
            "bdata": "AAAAAAAAAAAAAAAAAAAAAAAAAAAAAAAA9rShDDW9CD8wmIMW4iEePzvLu/b0Syc/c8zCFrNXLD9VEPUsg5YsP4p27ciiXCc/0Brr4pRhGj/Cx8wG+UGEPpJzwgPMTRq/6rS1GnZTJ7/cj0Ibho4svyYypqNIUSy//KdUAVxHJ79J75hncRwev/U+tUr/uAi/AAAAAAAAAAAAAAAAAAAAAAAAAAAAAAAA",
            "dtype": "f8"
           },
           "z": {
            "bdata": "AAAAAAAAAAAAAAAAAAAAAAAAAAAAAAAApGoMRD14Wb81evsTi39xv3HK9m3fbX+/gPjDVD8zh7/shbKytW6Ov5oA90aKTZK/PgbHZ9tqlL9hMykoryyVv1TT49e0apS/D7MbuEhNkr9xUry7HG6Ov37ZxIGsMoe/jckLOO9sf7+vj0kY7X5xv/N87jA1d1m/AAAAAAAAAAAAAAAAAAAAAAAAAAAAAAAA",
            "dtype": "f8"
           }
          }
         ],
         "layout": {
          "annotations": [
           {
            "showarrow": false,
            "text": "Time: 0.24s (Step: 25/100)",
            "x": 0.05,
            "xref": "paper",
            "y": 0.95,
            "yref": "paper"
           }
          ]
         },
         "name": "24"
        },
        {
         "data": [
          {
           "name": "Free Nodes",
           "type": "scatter3d",
           "x": {
            "bdata": "aH5QGX1vnT90wCb6/tygP2f0Dm+JvKI/AZGGEe16pD/OCryfEkqmP2nM7M0SVKg/hEF61fWnqj9luoYLEy+tP4kFRm0ttq8/98QuOgUFsT9hIc5MAwqyP+036teW8bI/XUAfMczQsz9vtGcflsC0P3rKMAI607U/",
            "dtype": "f8"
           },
           "y": {
            "bdata": "FV+H+Gb7Cj84a6Hie24gP/jTCO4eaCk/qp3WcjXoLj/aWR2riysvP4AG+cHcdik/8PwqO5i6HD+gp49UNltpvkqqwuFpwBy/yt/FQxx5Kb+N0gpu/Cwvv0qOlcfq6C6/jC3sj0xoKb/diUl5ZG4gvzM0RvD4+gq/",
            "dtype": "f8"
           },
           "z": {
            "bdata": "3emQu313Wb9ZUzCPGX9xv4gVT7s0bX+/Sr6TqNcyh79Am5guRW6Ov8M/n2RQTZK/cLC+EKFqlL9U8J/ndCyVvz9n9RZ7apS/w69Y1A9Nkr9JVUSJrm2Ov1CjkhJHMoe/a2/UPEhsf78MYLUTfn5xv4LulfN5dlm/",
            "dtype": "f8"
           }
          },
          {
           "name": "Fixed Nodes",
           "type": "scatter3d",
           "x": {
            "bdata": "fOkmMQisjD/e+X5qvHSTP/1+arx0k5g/CtejcD0Ktz9SuB6F61G4P5qZmZmZmbk/",
            "dtype": "f8"
           },
           "y": {
            "bdata": "AAAAAAAAAAAAAAAAAAAAAAAAAAAAAAAAAAAAAAAAAAAAAAAAAAAAAAAAAAAAAAAA",
            "dtype": "f8"
           },
           "z": {
            "bdata": "AAAAAAAAAAAAAAAAAAAAAAAAAAAAAAAAAAAAAAAAAAAAAAAAAAAAAAAAAAAAAAAA",
            "dtype": "f8"
           }
          },
          {
           "name": "Edges",
           "type": "scatter3d",
           "x": [
            0.014000000000000005,
            0.01900000000000001,
            null,
            0.01900000000000001,
            0.02400000000000001,
            null,
            0.02400000000000001,
            0.028745608015127294,
            null,
            0.028745608015127294,
            0.032936065708214196,
            null,
            0.032936065708214196,
            0.036594672018943446,
            null,
            0.036594672018943446,
            0.04000035132347258,
            null,
            0.04000035132347258,
            0.043533880232663344,
            null,
            0.043533880232663344,
            0.04751642955525243,
            null,
            0.04751642955525243,
            0.05206268530776284,
            null,
            0.05206268530776284,
            0.056999774128929905,
            null,
            0.056999774128929905,
            0.06193677863030717,
            null,
            0.06193677863030717,
            0.06648285551525022,
            null,
            0.06648285551525022,
            0.07046528458716274,
            null,
            0.07046528458716274,
            0.07399885913238764,
            null,
            0.07399885913238764,
            0.07740474890965872,
            null,
            0.07740474890965872,
            0.08106363550878525,
            null,
            0.08106363550878525,
            0.08525431207162085,
            null,
            0.08525431207162085,
            0.09,
            null,
            0.09,
            0.095,
            null,
            0.095,
            0.1,
            null
           ],
           "y": [
            0,
            0,
            null,
            0,
            0,
            null,
            0,
            0.00005146415702811221,
            null,
            0.00005146415702811221,
            0.00012536299010686993,
            null,
            0.00012536299010686993,
            0.00019383790551477631,
            null,
            0.00019383790551477631,
            0.00023580219696593452,
            null,
            0.00023580219696593452,
            0.00023780898987508966,
            null,
            0.00023780898987508966,
            0.00019427723690239665,
            null,
            0.00019427723690239665,
            0.00010959200043724241,
            null,
            0.00010959200043724241,
            -4.72297850341476e-8,
            null,
            -4.72297850341476e-8,
            -0.00010967870952308906,
            null,
            -0.00010967870952308906,
            -0.00019434423473873994,
            null,
            -0.00019434423473873994,
            -0.00023785191935634214,
            null,
            -0.00023785191935634214,
            -0.00023582330667714014,
            null,
            -0.00023582330667714014,
            -0.0001938432178224366,
            null,
            -0.0001938432178224366,
            -0.0001253602646498893,
            null,
            -0.0001253602646498893,
            -0.000051460954668327076,
            null,
            -0.000051460954668327076,
            0,
            null,
            0,
            0,
            null,
            0,
            0,
            null
           ],
           "z": [
            0,
            0,
            null,
            0,
            0,
            null,
            0,
            -0.001554367814846295,
            null,
            -0.001554367814846295,
            -0.004271602479111924,
            null,
            -0.004271602479111924,
            -0.00767250631628736,
            null,
            -0.00767250631628736,
            -0.01132744296270895,
            null,
            -0.01132744296270895,
            -0.014858761295796108,
            null,
            -0.014858761295796108,
            -0.01787305463932377,
            null,
            -0.01787305463932377,
            -0.01993800797178874,
            null,
            -0.01993800797178874,
            -0.020677401196721526,
            null,
            -0.020677401196721526,
            -0.019937442089349885,
            null,
            -0.019937442089349885,
            -0.017872092567060138,
            null,
            -0.017872092567060138,
            -0.014857638896993779,
            null,
            -0.014857638896993779,
            -0.011326365713402758,
            null,
            -0.011326365713402758,
            -0.0076716253072638225,
            null,
            -0.0076716253072638225,
            -0.0042710232622411685,
            null,
            -0.0042710232622411685,
            -0.0015541258747750202,
            null,
            -0.0015541258747750202,
            0,
            null,
            0,
            0,
            null,
            0,
            0,
            null
           ]
          },
          {
           "i": [],
           "j": [],
           "k": [],
           "name": "Faces",
           "type": "mesh3d",
           "x": {
            "bdata": "fOkmMQisjD/e+X5qvHSTP/1+arx0k5g/aH5QGX1vnT90wCb6/tygP2f0Dm+JvKI/AZGGEe16pD/OCryfEkqmP2nM7M0SVKg/hEF61fWnqj9luoYLEy+tP4kFRm0ttq8/98QuOgUFsT9hIc5MAwqyP+036teW8bI/XUAfMczQsz9vtGcflsC0P3rKMAI607U/CtejcD0Ktz9SuB6F61G4P5qZmZmZmbk/",
            "dtype": "f8"
           },
           "y": {
            "bdata": "AAAAAAAAAAAAAAAAAAAAAAAAAAAAAAAAFV+H+Gb7Cj84a6Hie24gP/jTCO4eaCk/qp3WcjXoLj/aWR2riysvP4AG+cHcdik/8PwqO5i6HD+gp49UNltpvkqqwuFpwBy/yt/FQxx5Kb+N0gpu/Cwvv0qOlcfq6C6/jC3sj0xoKb/diUl5ZG4gvzM0RvD4+gq/AAAAAAAAAAAAAAAAAAAAAAAAAAAAAAAA",
            "dtype": "f8"
           },
           "z": {
            "bdata": "AAAAAAAAAAAAAAAAAAAAAAAAAAAAAAAA3emQu313Wb9ZUzCPGX9xv4gVT7s0bX+/Sr6TqNcyh79Am5guRW6Ov8M/n2RQTZK/cLC+EKFqlL9U8J/ndCyVvz9n9RZ7apS/w69Y1A9Nkr9JVUSJrm2Ov1CjkhJHMoe/a2/UPEhsf78MYLUTfn5xv4LulfN5dlm/AAAAAAAAAAAAAAAAAAAAAAAAAAAAAAAA",
            "dtype": "f8"
           }
          }
         ],
         "layout": {
          "annotations": [
           {
            "showarrow": false,
            "text": "Time: 0.25s (Step: 26/100)",
            "x": 0.05,
            "xref": "paper",
            "y": 0.95,
            "yref": "paper"
           }
          ]
         },
         "name": "25"
        },
        {
         "data": [
          {
           "name": "Free Nodes",
           "type": "scatter3d",
           "x": {
            "bdata": "46lS1H9vnT8/S3acBN2gPz7sZXKVvKI/P9MCEv96pD8dubx6J0qmP1v0WbclVKg/MTNUdwKoqj8DQ1vEFy+tP+Xq5gIstq8/3wLkQwMFsT9C1IulAQqyP9lZzSiW8bI/WJXPTczQsz8Ak215lsC0PxZecS0607U/",
            "dtype": "f8"
           },
           "y": {
            "bdata": "DCkwaP82DT/JxPlddcohPwSnBUHngSs/irIIi/O6MD/7ALxV8N4wPxisTeEZjys/YoPKpAsSHz9CuHdcF1yOvv0njm0qLx+/R0RnmfabK79bUkaXK+Qwv4cL//zUvjC/A2HsFv2GK79B1xlXLc0hv+9tEB/GOg2/",
            "dtype": "f8"
           },
           "z": {
            "bdata": "Vu2AiF52Wb+1nZQPb35xv6vrJ8EzbH+/rLTqaDsyh7+bXk2fnW2OvzPw4yn+TJK/BlJ7bVZqlL9CW3zdNSyVv/3rsRNIapS/3yvozOVMkr9ZkEfnZG2Ov4wY7yMFMoe/hjr4Wdtrf79qv0BANX5xv/azSZv+dVm/",
            "dtype": "f8"
           }
          },
          {
           "name": "Fixed Nodes",
           "type": "scatter3d",
           "x": {
            "bdata": "fOkmMQisjD/e+X5qvHSTP/1+arx0k5g/CtejcD0Ktz9SuB6F61G4P5qZmZmZmbk/",
            "dtype": "f8"
           },
           "y": {
            "bdata": "AAAAAAAAAAAAAAAAAAAAAAAAAAAAAAAAAAAAAAAAAAAAAAAAAAAAAAAAAAAAAAAA",
            "dtype": "f8"
           },
           "z": {
            "bdata": "AAAAAAAAAAAAAAAAAAAAAAAAAAAAAAAAAAAAAAAAAAAAAAAAAAAAAAAAAAAAAAAA",
            "dtype": "f8"
           }
          },
          {
           "name": "Edges",
           "type": "scatter3d",
           "x": [
            0.014000000000000005,
            0.01900000000000001,
            null,
            0.01900000000000001,
            0.02400000000000001,
            null,
            0.02400000000000001,
            0.02874564870277564,
            null,
            0.02874564870277564,
            0.03293623361527986,
            null,
            0.03293623361527986,
            0.03659503003560659,
            null,
            0.03659503003560659,
            0.0400008878217819,
            null,
            0.0400008878217819,
            0.04353450177437621,
            null,
            0.04353450177437621,
            0.047516993171463816,
            null,
            0.047516993171463816,
            0.052063061777607784,
            null,
            0.052063061777607784,
            0.05699991485528779,
            null,
            0.05699991485528779,
            0.06193673644471235,
            null,
            0.06193673644471235,
            0.06648273856627494,
            null,
            0.06648273856627494,
            0.07046518603949983,
            null,
            0.07046518603949983,
            0.07399881836077017,
            null,
            0.07399881836077017,
            0.07740475558928972,
            null,
            0.07740475558928972,
            0.08106365646888136,
            null,
            0.08106365646888136,
            0.0852543221420706,
            null,
            0.0852543221420706,
            0.09,
            null,
            0.09,
            0.095,
            null,
            0.095,
            0.1,
            null
           ],
           "y": [
            0,
            0,
            null,
            0,
            0,
            null,
            0,
            0.000055722875025381464,
            null,
            0.000055722875025381464,
            0.00013573343948140016,
            null,
            0.00013573343948140016,
            0.0002098650734397232,
            null,
            0.0002098650734397232,
            0.00025528379322529353,
            null,
            0.00025528379322529353,
            0.0002574288134695871,
            null,
            0.0002574288134695871,
            0.00021025839728436367,
            null,
            0.00021025839728436367,
            0.00011852451388928495,
            null,
            0.00011852451388928495,
            -2.2619762617088992e-7,
            null,
            -2.2619762617088992e-7,
            -0.0001189584394422349,
            null,
            -0.0001189584394422349,
            -0.0002106417202427954,
            null,
            -0.0002106417202427954,
            -0.000257740633309999,
            null,
            -0.000257740633309999,
            -0.00025551509770254565,
            null,
            -0.00025551509770254565,
            -0.00021001662704445847,
            null,
            -0.00021001662704445847,
            -0.00013581446141913182,
            null,
            -0.00013581446141913182,
            -0.000055751010116202616,
            null,
            -0.000055751010116202616,
            0,
            null,
            0,
            0,
            null,
            0,
            0,
            null
           ],
           "z": [
            0,
            0,
            null,
            0,
            0,
            null,
            0,
            -0.0015541003395032802,
            null,
            -0.0015541003395032802,
            -0.004270967322816889,
            null,
            -0.004270967322816889,
            -0.007671549001765958,
            null,
            -0.007671549001765958,
            -0.011326278819377165,
            null,
            -0.011326278819377165,
            -0.014857512878435222,
            null,
            -0.014857512878435222,
            -0.017871829325472,
            null,
            -0.017871829325472,
            -0.019936895782693774,
            null,
            -0.019936895782693774,
            -0.020676461833399225,
            null,
            -0.020676461833399225,
            -0.019936681940162505,
            null,
            -0.019936681940162505,
            -0.017871466285253376,
            null,
            -0.017871466285253376,
            -0.014857090290156959,
            null,
            -0.014857090290156959,
            -0.01132587448035973,
            null,
            -0.01132587448035973,
            -0.00767121967466145,
            null,
            -0.00767121967466145,
            -0.004270751964256062,
            null,
            -0.004270751964256062,
            -0.0015540110008729325,
            null,
            -0.0015540110008729325,
            0,
            null,
            0,
            0,
            null,
            0,
            0,
            null
           ]
          },
          {
           "i": [],
           "j": [],
           "k": [],
           "name": "Faces",
           "type": "mesh3d",
           "x": {
            "bdata": "fOkmMQisjD/e+X5qvHSTP/1+arx0k5g/46lS1H9vnT8/S3acBN2gPz7sZXKVvKI/P9MCEv96pD8dubx6J0qmP1v0WbclVKg/MTNUdwKoqj8DQ1vEFy+tP+Xq5gIstq8/3wLkQwMFsT9C1IulAQqyP9lZzSiW8bI/WJXPTczQsz8Ak215lsC0PxZecS0607U/CtejcD0Ktz9SuB6F61G4P5qZmZmZmbk/",
            "dtype": "f8"
           },
           "y": {
            "bdata": "AAAAAAAAAAAAAAAAAAAAAAAAAAAAAAAADCkwaP82DT/JxPlddcohPwSnBUHngSs/irIIi/O6MD/7ALxV8N4wPxisTeEZjys/YoPKpAsSHz9CuHdcF1yOvv0njm0qLx+/R0RnmfabK79bUkaXK+Qwv4cL//zUvjC/A2HsFv2GK79B1xlXLc0hv+9tEB/GOg2/AAAAAAAAAAAAAAAAAAAAAAAAAAAAAAAA",
            "dtype": "f8"
           },
           "z": {
            "bdata": "AAAAAAAAAAAAAAAAAAAAAAAAAAAAAAAAVu2AiF52Wb+1nZQPb35xv6vrJ8EzbH+/rLTqaDsyh7+bXk2fnW2OvzPw4yn+TJK/BlJ7bVZqlL9CW3zdNSyVv/3rsRNIapS/3yvozOVMkr9ZkEfnZG2Ov4wY7yMFMoe/hjr4Wdtrf79qv0BANX5xv/azSZv+dVm/AAAAAAAAAAAAAAAAAAAAAAAAAAAAAAAA",
            "dtype": "f8"
           }
          }
         ],
         "layout": {
          "annotations": [
           {
            "showarrow": false,
            "text": "Time: 0.26s (Step: 27/100)",
            "x": 0.05,
            "xref": "paper",
            "y": 0.95,
            "yref": "paper"
           }
          ]
         },
         "name": "26"
        },
        {
         "data": [
          {
           "name": "Free Nodes",
           "type": "scatter3d",
           "x": {
            "bdata": "jqEyKIJvnT9Rw6mKCd2gPzqf/jGgvKI/0Sq7fQ97pD8l8ObROkqmP1fwHG03VKg/c1xUFQ6oqj+rmg0sGy+tP0ojbnsotq8/OWdA0P8EsT844Z5N/gmyPz3fSfKT8bI/Ei+vV8vQsz9zunVLlsC0P8d0xDU607U/",
            "dtype": "f8"
           },
           "y": {
            "bdata": "scbEAC9yDz+xuqYqMyYjP0kukQBemy0/cMJ0b6UBMj/mc+KiBigyP8vheJd3py0/zTRdzkW1ID+Ske0wPUOZvprRIKCdzSC/xfDUUD+9Lb/F4IceDTEyv8yUJvR+CDK/VWvQuJakLb9uj4w2Sisjv2p9i0iDeQ+/",
            "dtype": "f8"
           },
           "z": {
            "bdata": "enQQpUZ1Wb89UT/xyH1xv9eIyn05a3+/HQ+lQ6Mxh7+Mecfm+WyOvxStar2sTJK/kYgGMgpqlL8xvWjk8SuVvwzQu9cMapS/dwygTLFMkr/cI6jBBG2Ov3LRhfitMYe/SPLooktrf78P5opq1X1xvz2ePqZcdVm/",
            "dtype": "f8"
           }
          },
          {
           "name": "Fixed Nodes",
           "type": "scatter3d",
           "x": {
            "bdata": "fOkmMQisjD/e+X5qvHSTP/1+arx0k5g/CtejcD0Ktz9SuB6F61G4P5qZmZmZmbk/",
            "dtype": "f8"
           },
           "y": {
            "bdata": "AAAAAAAAAAAAAAAAAAAAAAAAAAAAAAAAAAAAAAAAAAAAAAAAAAAAAAAAAAAAAAAA",
            "dtype": "f8"
           },
           "z": {
            "bdata": "AAAAAAAAAAAAAAAAAAAAAAAAAAAAAAAAAAAAAAAAAAAAAAAAAAAAAAAAAAAAAAAA",
            "dtype": "f8"
           }
          },
          {
           "name": "Edges",
           "type": "scatter3d",
           "x": [
            0.014000000000000005,
            0.01900000000000001,
            null,
            0.01900000000000001,
            0.02400000000000001,
            null,
            0.02400000000000001,
            0.028745683387258185,
            null,
            0.028745683387258185,
            0.032936380554821405,
            null,
            0.032936380554821405,
            0.03659535036359647,
            null,
            0.03659535036359647,
            0.040001377199208606,
            null,
            0.040001377199208606,
            0.04353507816583172,
            null,
            0.04353507816583172,
            0.04751752097078626,
            null,
            0.04751752097078626,
            0.052063407996848186,
            null,
            0.052063407996848186,
            0.05700001633413384,
            null,
            0.05700001633413384,
            0.06193663126675249,
            null,
            0.06193663126675249,
            0.06648253282801599,
            null,
            0.06648253282801599,
            0.07046498675379531,
            null,
            0.07046498675379531,
            0.07399868645904646,
            null,
            0.07399868645904646,
            0.0774046982834842,
            null,
            0.0774046982834842,
            0.08106364576608786,
            null,
            0.08106364576608786,
            0.08525432408028442,
            null,
            0.08525432408028442,
            0.09,
            null,
            0.09,
            0.095,
            null,
            0.095,
            0.1,
            null
           ],
           "y": [
            0,
            0,
            null,
            0,
            0,
            null,
            0,
            0.00005997854177265444,
            null,
            0.00005997854177265444,
            0.000146096940921455,
            null,
            0.000146096940921455,
            0.00022588274467448741,
            null,
            0.00022588274467448741,
            0.0002747563261947033,
            null,
            0.0002747563261947033,
            0.00027704393404254094,
            null,
            0.00027704393404254094,
            0.00022624335154987208,
            null,
            0.00022624335154987208,
            0.00012747265935290076,
            null,
            0.00012747265935290076,
            -3.764428563783917e-7,
            null,
            -3.764428563783917e-7,
            -0.00012819813861287833,
            null,
            -0.00012819813861287833,
            -0.0002268924512608459,
            null,
            -0.0002268924512608459,
            -0.00027758188528493834,
            null,
            -0.00027758188528493834,
            -0.00027516459899807884,
            null,
            -0.00027516459899807884,
            -0.00022615756861984562,
            null,
            -0.00022615756861984562,
            -0.00014624863549627824,
            null,
            -0.00014624863549627824,
            -0.00006003314871860339,
            null,
            -0.00006003314871860339,
            0,
            null,
            0,
            0,
            null,
            0,
            0,
            null
           ],
           "z": [
            0,
            0,
            null,
            0,
            0,
            null,
            0,
            -0.0015538396730854485,
            null,
            -0.0015538396730854485,
            -0.004270348483221218,
            null,
            -0.004270348483221218,
            -0.00767061669890464,
            null,
            -0.00767061669890464,
            -0.011325145246366792,
            null,
            -0.011325145246366792,
            -0.014856293063471047,
            null,
            -0.014856293063471047,
            -0.01787061601741609,
            null,
            -0.01787061601741609,
            -0.01993575983363677,
            null,
            -0.01993575983363677,
            -0.02067544895743118,
            null,
            -0.02067544895743118,
            -0.019935799281441333,
            null,
            -0.019935799281441333,
            -0.0178706839578919,
            null,
            -0.0178706839578919,
            -0.014856373939453542,
            null,
            -0.014856373939453542,
            -0.011325225016414395,
            null,
            -0.011325225016414395,
            -0.007670684294279591,
            null,
            -0.007670684294279591,
            -0.004270394951782843,
            null,
            -0.004270394951782843,
            -0.0015538601664760864,
            null,
            -0.0015538601664760864,
            0,
            null,
            0,
            0,
            null,
            0,
            0,
            null
           ]
          },
          {
           "i": [],
           "j": [],
           "k": [],
           "name": "Faces",
           "type": "mesh3d",
           "x": {
            "bdata": "fOkmMQisjD/e+X5qvHSTP/1+arx0k5g/jqEyKIJvnT9Rw6mKCd2gPzqf/jGgvKI/0Sq7fQ97pD8l8ObROkqmP1fwHG03VKg/c1xUFQ6oqj+rmg0sGy+tP0ojbnsotq8/OWdA0P8EsT844Z5N/gmyPz3fSfKT8bI/Ei+vV8vQsz9zunVLlsC0P8d0xDU607U/CtejcD0Ktz9SuB6F61G4P5qZmZmZmbk/",
            "dtype": "f8"
           },
           "y": {
            "bdata": "AAAAAAAAAAAAAAAAAAAAAAAAAAAAAAAAscbEAC9yDz+xuqYqMyYjP0kukQBemy0/cMJ0b6UBMj/mc+KiBigyP8vheJd3py0/zTRdzkW1ID+Ske0wPUOZvprRIKCdzSC/xfDUUD+9Lb/F4IceDTEyv8yUJvR+CDK/VWvQuJakLb9uj4w2Sisjv2p9i0iDeQ+/AAAAAAAAAAAAAAAAAAAAAAAAAAAAAAAA",
            "dtype": "f8"
           },
           "z": {
            "bdata": "AAAAAAAAAAAAAAAAAAAAAAAAAAAAAAAAenQQpUZ1Wb89UT/xyH1xv9eIyn05a3+/HQ+lQ6Mxh7+Mecfm+WyOvxStar2sTJK/kYgGMgpqlL8xvWjk8SuVvwzQu9cMapS/dwygTLFMkr/cI6jBBG2Ov3LRhfitMYe/SPLooktrf78P5opq1X1xvz2ePqZcdVm/AAAAAAAAAAAAAAAAAAAAAAAAAAAAAAAA",
            "dtype": "f8"
           }
          }
         ],
         "layout": {
          "annotations": [
           {
            "showarrow": false,
            "text": "Time: 0.27s (Step: 28/100)",
            "x": 0.05,
            "xref": "paper",
            "y": 0.95,
            "yref": "paper"
           }
          ]
         },
         "name": "27"
        },
        {
         "data": [
          {
           "name": "Free Nodes",
           "type": "scatter3d",
           "x": {
            "bdata": "p/+Im4NvnT+WYpXiDN2gP7sqovinvKI/fAfjARx7pD+UHUwxSkqmPz7kW9ZFVKg/KkBFHBeoqj9MBR7sGy+tP6dl4zwhtq8/otrSzPkEsT8Hj7kD+AmyP8A/5AOP8bI/I2a7bsjQsz+iy3QhlcC0P3mY9vs507U/",
            "dtype": "f8"
           },
           "y": {
            "bdata": "JIK72BHXED/FXoIYb4IkP+J36XaltS8/AJvxNeNIMz/cB2p7wHEzP3rZUtwtwS8/e+P6t9PiIT/eaOmLlXygvnD8HqSeAiK/TJCrT6zdL79VTOWqln0zv0zJg/LlUTO/T8M2P9LBL7982QP8LokkvwcIY/7z2xC/",
            "dtype": "f8"
           },
           "z": {
            "bdata": "pjz9r0x0Wb/GLkO4NH1xv5o9mnpaan+/nUm8xBsxh7/YVMETZ2yOv9pTorJhTJK/LHGJmb9plL+J9cbdqCuVv9gXtejFaZS/RONWfGxMkr/lWex6gGyOv1Qc/Xc0MYe/RX42moNqf7/65wZjUH1xv+oGbkJ8dFm/",
            "dtype": "f8"
           }
          },
          {
           "name": "Fixed Nodes",
           "type": "scatter3d",
           "x": {
            "bdata": "fOkmMQisjD/e+X5qvHSTP/1+arx0k5g/CtejcD0Ktz9SuB6F61G4P5qZmZmZmbk/",
            "dtype": "f8"
           },
           "y": {
            "bdata": "AAAAAAAAAAAAAAAAAAAAAAAAAAAAAAAAAAAAAAAAAAAAAAAAAAAAAAAAAAAAAAAA",
            "dtype": "f8"
           },
           "z": {
            "bdata": "AAAAAAAAAAAAAAAAAAAAAAAAAAAAAAAAAAAAAAAAAAAAAAAAAAAAAAAAAAAAAAAA",
            "dtype": "f8"
           }
          },
          {
           "name": "Edges",
           "type": "scatter3d",
           "x": [
            0.014000000000000005,
            0.01900000000000001,
            null,
            0.01900000000000001,
            0.02400000000000001,
            null,
            0.02400000000000001,
            0.028745705001938095,
            null,
            0.028745705001938095,
            0.032936480197070114,
            null,
            0.032936480197070114,
            0.036595582104458534,
            null,
            0.036595582104458534,
            0.04000175021202687,
            null,
            0.04000175021202687,
            0.0435355363061333,
            null,
            0.0435355363061333,
            0.04751795045553607,
            null,
            0.04751795045553607,
            0.052063677025785474,
            null,
            0.052063677025785474,
            0.057000038693341,
            null,
            0.057000038693341,
            0.06193641536965382,
            null,
            0.06193641536965382,
            0.066482174402021,
            null,
            0.066482174402021,
            0.07046461192072338,
            null,
            0.07046461192072338,
            0.07399839253434859,
            null,
            0.07399839253434859,
            0.07740452483576425,
            null,
            0.07740452483576425,
            0.08106357638170761,
            null,
            0.08106357638170761,
            0.08525431062170864,
            null,
            0.08525431062170864,
            0.09,
            null,
            0.09,
            0.095,
            null,
            0.095,
            0.1,
            null
           ],
           "y": [
            0,
            0,
            null,
            0,
            0,
            null,
            0,
            0.00006423994471616755,
            null,
            0.00006423994471616755,
            0.0001564751257816436,
            null,
            0.0001564751257816436,
            0.0002419247134239347,
            null,
            0.0002419247134239347,
            0.0002942614282290118,
            null,
            0.0002942614282290118,
            0.0002966971327752457,
            null,
            0.0002966971327752457,
            0.0002422684175706449,
            null,
            0.0002422684175706449,
            0.0001364596791882075,
            null,
            0.0001364596791882075,
            -4.913406639981524e-7,
            null,
            -4.913406639981524e-7,
            -0.00013740717446173193,
            null,
            -0.00013740717446173193,
            -0.0002431176033815839,
            null,
            -0.0002431176033815839,
            -0.00029740265280970196,
            null,
            -0.00029740265280970196,
            -0.00029479850719762025,
            null,
            -0.00029479850719762025,
            -0.00024228755465352045,
            null,
            -0.00024228755465352045,
            -0.0001566762785000889,
            null,
            -0.0001566762785000889,
            -0.00006431271285392569,
            null,
            -0.00006431271285392569,
            0,
            null,
            0,
            0,
            null,
            0,
            0,
            null
           ],
           "z": [
            0,
            0,
            null,
            0,
            0,
            null,
            0,
            -0.0015536068821864562,
            null,
            -0.0015536068821864562,
            -0.004269796311017598,
            null,
            -0.004269796311017598,
            -0.007669785912767147,
            null,
            -0.007669785912767147,
            -0.011324135724440515,
            null,
            -0.011324135724440515,
            -0.01485519913709725,
            null,
            -0.01485519913709725,
            -0.017869497802695956,
            null,
            -0.017869497802695956,
            -0.01993464827170148,
            null,
            -0.01993464827170148,
            -0.02067436078663357,
            null,
            -0.02067436078663357,
            -0.019934742286998958,
            null,
            -0.019934742286998958,
            -0.017869658555102377,
            null,
            -0.017869658555102377,
            -0.014855388404197487,
            null,
            -0.014855388404197487,
            -0.011324319755330027,
            null,
            -0.011324319755330027,
            -0.007669939109660688,
            null,
            -0.007669939109660688,
            -0.0042698993788068355,
            null,
            -0.0042698993788068355,
            -0.0015536511870952127,
            null,
            -0.0015536511870952127,
            0,
            null,
            0,
            0,
            null,
            0,
            0,
            null
           ]
          },
          {
           "i": [],
           "j": [],
           "k": [],
           "name": "Faces",
           "type": "mesh3d",
           "x": {
            "bdata": "fOkmMQisjD/e+X5qvHSTP/1+arx0k5g/p/+Im4NvnT+WYpXiDN2gP7sqovinvKI/fAfjARx7pD+UHUwxSkqmPz7kW9ZFVKg/KkBFHBeoqj9MBR7sGy+tP6dl4zwhtq8/otrSzPkEsT8Hj7kD+AmyP8A/5AOP8bI/I2a7bsjQsz+iy3QhlcC0P3mY9vs507U/CtejcD0Ktz9SuB6F61G4P5qZmZmZmbk/",
            "dtype": "f8"
           },
           "y": {
            "bdata": "AAAAAAAAAAAAAAAAAAAAAAAAAAAAAAAAJIK72BHXED/FXoIYb4IkP+J36XaltS8/AJvxNeNIMz/cB2p7wHEzP3rZUtwtwS8/e+P6t9PiIT/eaOmLlXygvnD8HqSeAiK/TJCrT6zdL79VTOWqln0zv0zJg/LlUTO/T8M2P9LBL7982QP8LokkvwcIY/7z2xC/AAAAAAAAAAAAAAAAAAAAAAAAAAAAAAAA",
            "dtype": "f8"
           },
           "z": {
            "bdata": "AAAAAAAAAAAAAAAAAAAAAAAAAAAAAAAApjz9r0x0Wb/GLkO4NH1xv5o9mnpaan+/nUm8xBsxh7/YVMETZ2yOv9pTorJhTJK/LHGJmb9plL+J9cbdqCuVv9gXtejFaZS/RONWfGxMkr/lWex6gGyOv1Qc/Xc0MYe/RX42moNqf7/65wZjUH1xv+oGbkJ8dFm/AAAAAAAAAAAAAAAAAAAAAAAAAAAAAAAA",
            "dtype": "f8"
           }
          }
         ],
         "layout": {
          "annotations": [
           {
            "showarrow": false,
            "text": "Time: 0.28s (Step: 29/100)",
            "x": 0.05,
            "xref": "paper",
            "y": 0.95,
            "yref": "paper"
           }
          ]
         },
         "name": "28"
        },
        {
         "data": [
          {
           "name": "Free Nodes",
           "type": "scatter3d",
           "x": {
            "bdata": "8tkTnYRvnT/iKgtyD92gP7UWTlOuvKI/jR6AuSZ7pD+4w/XQV0qmP5XyptdSVKg/vuRD9h6oqj99kNE0Gy+tP7qH7q8Xtq8/8swqKvIEsT9DwhXh7wmyP66OumeI8bI/UcNfVsTQsz/N4Wpgk8C0P6I/HZs507U/",
            "dtype": "f8"
           },
           "y": {
            "bdata": "geE/BHj1ET/NOTnLNt8lP0aOYoZr6DA/pZmAkr+QND+7TOJbNbw0P3+qwiA47jA/pbv1X+ARIz9AvPtFTwKjvha+w1mENiO/BQs6ap7+ML9Yee5uz8k0v2OXgCAVmzS/ykwOGWPvML9SokIt7OYlv20+GeII+xG/",
            "dtype": "f8"
           },
           "z": {
            "bdata": "xg3OnVtzWb8cVz/cpXxxv0qrlruDaX+/xRRrW5kwh797EKgi2WuOv4UFGuYXTJK/L/5ZnXNplL93Zc7CWiuVv7zaiz12aZS/hD2sahxMkr/LTA3j42uOvxCE6fqjMIe/8HUN05Vpf79Spudjsnxxv6dif+dxc1m/",
            "dtype": "f8"
           }
          },
          {
           "name": "Fixed Nodes",
           "type": "scatter3d",
           "x": {
            "bdata": "fOkmMQisjD/e+X5qvHSTP/1+arx0k5g/CtejcD0Ktz9SuB6F61G4P5qZmZmZmbk/",
            "dtype": "f8"
           },
           "y": {
            "bdata": "AAAAAAAAAAAAAAAAAAAAAAAAAAAAAAAAAAAAAAAAAAAAAAAAAAAAAAAAAAAAAAAA",
            "dtype": "f8"
           },
           "z": {
            "bdata": "AAAAAAAAAAAAAAAAAAAAAAAAAAAAAAAAAAAAAAAAAAAAAAAAAAAAAAAAAAAAAAAA",
            "dtype": "f8"
           }
          },
          {
           "name": "Edges",
           "type": "scatter3d",
           "x": [
            0.014000000000000005,
            0.01900000000000001,
            null,
            0.01900000000000001,
            0.02400000000000001,
            null,
            0.02400000000000001,
            0.0287457199928784,
            null,
            0.0287457199928784,
            0.03293655650266715,
            null,
            0.03293655650266715,
            0.0365957714739528,
            null,
            0.0365957714739528,
            0.04000206961069095,
            null,
            0.04000206961069095,
            0.04353594232350794,
            null,
            0.04353594232350794,
            0.047518338036273956,
            null,
            0.047518338036273956,
            0.0520639110199652,
            null,
            0.0520639110199652,
            0.05700001735456881,
            null,
            0.05700001735456881,
            0.061936130739254705,
            null,
            0.061936130739254705,
            0.06648171929809957,
            null,
            0.06648171929809957,
            0.07046412701834819,
            null,
            0.07046412701834819,
            0.07399799854698116,
            null,
            0.07399799854698116,
            0.07740428074590723,
            null,
            0.07740428074590723,
            0.08106347183173242,
            null,
            0.08106347183173242,
            0.08525428807229088,
            null,
            0.08525428807229088,
            0.09,
            null,
            0.09,
            0.095,
            null,
            0.095,
            0.1,
            null
           ],
           "y": [
            0,
            0,
            null,
            0,
            0,
            null,
            0,
            0.00006850762389365961,
            null,
            0.00006850762389365961,
            0.00016686958189145035,
            null,
            0.00016686958189145035,
            0.000257993937689192,
            null,
            0.000257993937689192,
            0.0003138034539937002,
            null,
            0.0003138034539937002,
            0.0003163938780598831,
            null,
            0.0003163938780598831,
            0.0002583395987680106,
            null,
            0.0002583395987680106,
            0.00014549125624393786,
            null,
            0.00014549125624393786,
            -5.665130053659717e-7,
            null,
            -5.665130053659717e-7,
            -0.0001465832291453895,
            null,
            -0.0001465832291453895,
            -0.00025931708862729524,
            null,
            -0.00025931708862729524,
            -0.0003172046116847369,
            null,
            -0.0003172046116847369,
            -0.000314419420194381,
            null,
            -0.000314419420194381,
            -0.0002584092081232113,
            null,
            -0.0002584092081232113,
            -0.00016709931390336774,
            null,
            -0.00016709931390336774,
            -0.00006859056204543976,
            null,
            -0.00006859056204543976,
            0,
            null,
            0,
            0,
            null,
            0,
            0,
            null
           ],
           "z": [
            0,
            0,
            null,
            0,
            0,
            null,
            0,
            -0.001553382367291843,
            null,
            -0.001553382367291843,
            -0.004269264118155449,
            null,
            -0.004269264118155449,
            -0.007668985921024449,
            null,
            -0.007668985921024449,
            -0.011323164083828616,
            null,
            -0.011323164083828616,
            -0.014854141588337413,
            null,
            -0.014854141588337413,
            -0.017868398112573586,
            null,
            -0.017868398112573586,
            -0.0199335160054927,
            null,
            -0.0199335160054927,
            -0.020673196926144635,
            null,
            -0.020673196926144635,
            -0.01993355513237803,
            null,
            -0.01993355513237803,
            -0.017868465433875894,
            null,
            -0.017868465433875894,
            -0.014854221693587985,
            null,
            -0.014854221693587985,
            -0.011323243231517593,
            null,
            -0.011323243231517593,
            -0.007669053317696392,
            null,
            -0.007669053317696392,
            -0.004269310795714869,
            null,
            -0.004269310795714869,
            -0.0015534031244809705,
            null,
            -0.0015534031244809705,
            0,
            null,
            0,
            0,
            null,
            0,
            0,
            null
           ]
          },
          {
           "i": [],
           "j": [],
           "k": [],
           "name": "Faces",
           "type": "mesh3d",
           "x": {
            "bdata": "fOkmMQisjD/e+X5qvHSTP/1+arx0k5g/8tkTnYRvnT/iKgtyD92gP7UWTlOuvKI/jR6AuSZ7pD+4w/XQV0qmP5XyptdSVKg/vuRD9h6oqj99kNE0Gy+tP7qH7q8Xtq8/8swqKvIEsT9DwhXh7wmyP66OumeI8bI/UcNfVsTQsz/N4Wpgk8C0P6I/HZs507U/CtejcD0Ktz9SuB6F61G4P5qZmZmZmbk/",
            "dtype": "f8"
           },
           "y": {
            "bdata": "AAAAAAAAAAAAAAAAAAAAAAAAAAAAAAAAgeE/BHj1ET/NOTnLNt8lP0aOYoZr6DA/pZmAkr+QND+7TOJbNbw0P3+qwiA47jA/pbv1X+ARIz9AvPtFTwKjvha+w1mENiO/BQs6ap7+ML9Yee5uz8k0v2OXgCAVmzS/ykwOGWPvML9SokIt7OYlv20+GeII+xG/AAAAAAAAAAAAAAAAAAAAAAAAAAAAAAAA",
            "dtype": "f8"
           },
           "z": {
            "bdata": "AAAAAAAAAAAAAAAAAAAAAAAAAAAAAAAAxg3OnVtzWb8cVz/cpXxxv0qrlruDaX+/xRRrW5kwh797EKgi2WuOv4UFGuYXTJK/L/5ZnXNplL93Zc7CWiuVv7zaiz12aZS/hD2sahxMkr/LTA3j42uOvxCE6fqjMIe/8HUN05Vpf79Spudjsnxxv6dif+dxc1m/AAAAAAAAAAAAAAAAAAAAAAAAAAAAAAAA",
            "dtype": "f8"
           }
          }
         ],
         "layout": {
          "annotations": [
           {
            "showarrow": false,
            "text": "Time: 0.29s (Step: 30/100)",
            "x": 0.05,
            "xref": "paper",
            "y": 0.95,
            "yref": "paper"
           }
          ]
         },
         "name": "29"
        },
        {
         "data": [
          {
           "name": "Free Nodes",
           "type": "scatter3d",
           "x": {
            "bdata": "haqPqoVvnT/9X/ciEt2gPz+PowW1vKI/LU9PCjJ7pD8Xjy44ZkqmP+DKu5lgVKg/129aQSeoqj/VCtZjGi+tPy5y8HQNtq8/y4p3/ukEsT/I4h4r5wmyP98E71GB8bI/F3gS8b/Qsz/H4oF9kcC0P+HorDI507U/",
            "dtype": "f8"
           },
           "y": {
            "bdata": "U5pimhMUEz+fAxtgSTwnPwtrTatI9jE/k9Z6jAHZNT+ayW4cLwc2P4w+h6Z3/DE/Ap3+mEpCJD/wVxNEYSCkvvIPYw0RaSS/powjfcwNMr8eWzvrhxU2v6h+OLPh4zW/djFTBZn9Mb8ellyAW0Qnv4ZV3nTjGRO/",
            "dtype": "f8"
           },
           "z": {
            "bdata": "YWOeuFtyWb/mlQE5Dnxxv+SjPs2faH+/wvnq8Q4wh78uVQh5QmuOv27ohIfJS5K/gQ1n1yJplL8zebudByuVv1gIXVAhaZS/Apvr+sZLkr/WNam3PGuOvyb/M7YJMIe/Gw998pdof78HmjSxCXxxv6bYC39Vclm/",
            "dtype": "f8"
           }
          },
          {
           "name": "Fixed Nodes",
           "type": "scatter3d",
           "x": {
            "bdata": "fOkmMQisjD/e+X5qvHSTP/1+arx0k5g/CtejcD0Ktz9SuB6F61G4P5qZmZmZmbk/",
            "dtype": "f8"
           },
           "y": {
            "bdata": "AAAAAAAAAAAAAAAAAAAAAAAAAAAAAAAAAAAAAAAAAAAAAAAAAAAAAAAAAAAAAAAA",
            "dtype": "f8"
           },
           "z": {
            "bdata": "AAAAAAAAAAAAAAAAAAAAAAAAAAAAAAAAAAAAAAAAAAAAAAAAAAAAAAAAAAAAAAAA",
            "dtype": "f8"
           }
          },
          {
           "name": "Edges",
           "type": "scatter3d",
           "x": [
            0.014000000000000005,
            0.01900000000000001,
            null,
            0.01900000000000001,
            0.02400000000000001,
            null,
            0.02400000000000001,
            0.0287457356788914,
            null,
            0.0287457356788914,
            0.032936636703823276,
            null,
            0.032936636703823276,
            0.036595971048682056,
            null,
            0.036595971048682056,
            0.04000240684368204,
            null,
            0.04000240684368204,
            0.043536371572626624,
            null,
            0.043536371572626624,
            0.04751874806051659,
            null,
            0.04751874806051659,
            0.05206415817994497,
            null,
            0.05206415817994497,
            0.056999993025802866,
            null,
            0.056999993025802866,
            0.06193582584839806,
            null,
            0.06193582584839806,
            0.06648123228618912,
            null,
            0.06648123228618912,
            0.07046360781431382,
            null,
            0.07046360781431382,
            0.0739975762399072,
            null,
            0.0739975762399072,
            0.07740401874113477,
            null,
            0.07740401874113477,
            0.08106335939545338,
            null,
            0.08106335939545338,
            0.08525426375573232,
            null,
            0.08525426375573232,
            0.09,
            null,
            0.09,
            0.095,
            null,
            0.095,
            0.1,
            null
           ],
           "y": [
            0,
            0,
            null,
            0,
            0,
            null,
            0,
            0.00007277841231943223,
            null,
            0.00007277841231943223,
            0.00017727275558423753,
            null,
            0.00017727275558423753,
            0.00027407907628222765,
            null,
            0.00027407907628222765,
            0.00033336913882507055,
            null,
            0.00033336913882507055,
            0.0003361215607881274,
            null,
            0.0003361215607881274,
            0.0002744476428490981,
            null,
            0.0002744476428490981,
            0.00015456352821028452,
            null,
            0.00015456352821028452,
            -5.998159694718918e-7,
            null,
            -5.998159694718918e-7,
            -0.0001557191196238646,
            null,
            -0.0001557191196238646,
            -0.00027548067477152006,
            null,
            -0.00027548067477152006,
            -0.000336976702994306,
            null,
            -0.000336976702994306,
            -0.0003340173745715971,
            null,
            -0.0003340173745715971,
            -0.000274515017122188,
            null,
            -0.000274515017122188,
            -0.00017751328430752692,
            null,
            -0.00017751328430752692,
            -0.00007286501678856723,
            null,
            -0.00007286501678856723,
            0,
            null,
            0,
            0,
            null,
            0,
            0,
            null
           ],
           "z": [
            0,
            0,
            null,
            0,
            0,
            null,
            0,
            -0.0015531440462608003,
            null,
            -0.0015531440462608003,
            -0.004268699223847849,
            null,
            -0.004268699223847849,
            -0.00766813681176701,
            null,
            -0.00766813681176701,
            -0.011322132833240132,
            null,
            -0.011322132833240132,
            -0.014853019064541142,
            null,
            -0.014853019064541142,
            -0.017867230316575826,
            null,
            -0.017867230316575826,
            -0.019932312390449795,
            null,
            -0.019932312390449795,
            -0.02067195797177952,
            null,
            -0.02067195797177952,
            -0.019932289628976058,
            null,
            -0.019932289628976058,
            -0.017867192330323974,
            null,
            -0.017867192330323974,
            -0.01485297618378471,
            null,
            -0.01485297618378471,
            -0.011322093842408853,
            null,
            -0.011322093842408853,
            -0.0076681075514135845,
            null,
            -0.0076681075514135845,
            -0.004268682346526115,
            null,
            -0.004268682346526115,
            -0.0015531382488780747,
            null,
            -0.0015531382488780747,
            0,
            null,
            0,
            0,
            null,
            0,
            0,
            null
           ]
          },
          {
           "i": [],
           "j": [],
           "k": [],
           "name": "Faces",
           "type": "mesh3d",
           "x": {
            "bdata": "fOkmMQisjD/e+X5qvHSTP/1+arx0k5g/haqPqoVvnT/9X/ciEt2gPz+PowW1vKI/LU9PCjJ7pD8Xjy44ZkqmP+DKu5lgVKg/129aQSeoqj/VCtZjGi+tPy5y8HQNtq8/y4p3/ukEsT/I4h4r5wmyP98E71GB8bI/F3gS8b/Qsz/H4oF9kcC0P+HorDI507U/CtejcD0Ktz9SuB6F61G4P5qZmZmZmbk/",
            "dtype": "f8"
           },
           "y": {
            "bdata": "AAAAAAAAAAAAAAAAAAAAAAAAAAAAAAAAU5pimhMUEz+fAxtgSTwnPwtrTatI9jE/k9Z6jAHZNT+ayW4cLwc2P4w+h6Z3/DE/Ap3+mEpCJD/wVxNEYSCkvvIPYw0RaSS/powjfcwNMr8eWzvrhxU2v6h+OLPh4zW/djFTBZn9Mb8ellyAW0Qnv4ZV3nTjGRO/AAAAAAAAAAAAAAAAAAAAAAAAAAAAAAAA",
            "dtype": "f8"
           },
           "z": {
            "bdata": "AAAAAAAAAAAAAAAAAAAAAAAAAAAAAAAAYWOeuFtyWb/mlQE5Dnxxv+SjPs2faH+/wvnq8Q4wh78uVQh5QmuOv27ohIfJS5K/gQ1n1yJplL8zebudByuVv1gIXVAhaZS/Apvr+sZLkr/WNam3PGuOvyb/M7YJMIe/Gw998pdof78HmjSxCXxxv6bYC39Vclm/AAAAAAAAAAAAAAAAAAAAAAAAAAAAAAAA",
            "dtype": "f8"
           }
          }
         ],
         "layout": {
          "annotations": [
           {
            "showarrow": false,
            "text": "Time: 0.30s (Step: 31/100)",
            "x": 0.05,
            "xref": "paper",
            "y": 0.95,
            "yref": "paper"
           }
          ]
         },
         "name": "30"
        },
        {
         "data": [
          {
           "name": "Free Nodes",
           "type": "scatter3d",
           "x": {
            "bdata": "K8Ki94ZvnT9OgHVVFd2gPxzBNcm8vKI/JS+A8D57pD8VhOpwdkqmPxT0w/9vVKg/BEUSqDCoqj99Wh8KGi+tPzF5hTkDtq8/6EziveEEsT9n9rJp3gmyPzuoIEN68bI/4H9anbvQsz/R1KOpj8C0PySJyM8407U/",
            "dtype": "f8"
           },
           "y": {
            "bdata": "NtVMwbIyFD/lzCAmapkoP7Quimo7BDM/NauDmXAhNz8ZD8c0dVI3P5yTBtgnCzM/+C+dDt9zJT/lYXEYb9mjvjaLt0oamiW/x+DkWjscM79pdABLlGA3vx7o4sQhLDe/WjmDyWkLM79Svgf0U6Eov+B9M4pjOBS/",
            "dtype": "f8"
           },
           "z": {
            "bdata": "TSOrVkNxWb/0tKgJaHtxv1GYIe2lZ3+/MC9AL3cvh7+B7HWHnWqOv16Rujd0S5K/3gNt6MtolL8b1Rh8ryqVv4Ghv5vIaJS/4mYUqG5Lkr/rcwjAkGqOv9QuyjdrL4e/LOhdFJNnf7+Pl91MXHtxv5mz+BwxcVm/",
            "dtype": "f8"
           }
          },
          {
           "name": "Fixed Nodes",
           "type": "scatter3d",
           "x": {
            "bdata": "fOkmMQisjD/e+X5qvHSTP/1+arx0k5g/CtejcD0Ktz9SuB6F61G4P5qZmZmZmbk/",
            "dtype": "f8"
           },
           "y": {
            "bdata": "AAAAAAAAAAAAAAAAAAAAAAAAAAAAAAAAAAAAAAAAAAAAAAAAAAAAAAAAAAAAAAAA",
            "dtype": "f8"
           },
           "z": {
            "bdata": "AAAAAAAAAAAAAAAAAAAAAAAAAAAAAAAAAAAAAAAAAAAAAAAAAAAAAAAAAAAAAAAA",
            "dtype": "f8"
           }
          },
          {
           "name": "Edges",
           "type": "scatter3d",
           "x": [
            0.014000000000000005,
            0.01900000000000001,
            null,
            0.01900000000000001,
            0.02400000000000001,
            null,
            0.02400000000000001,
            0.028745755066383587,
            null,
            0.028745755066383587,
            0.0329367319889121,
            null,
            0.0329367319889121,
            0.036596202432408215,
            null,
            0.036596202432408215,
            0.04000279126930043,
            null,
            0.04000279126930043,
            0.0435368550145158,
            null,
            0.0435368550145158,
            0.0475192069734264,
            null,
            0.0475192069734264,
            0.052064438358806725,
            null,
            0.052064438358806725,
            0.056999982581761956,
            null,
            0.056999982581761956,
            0.061935520908024684,
            null,
            0.061935520908024684,
            0.06648074041213514,
            null,
            0.06648074041213514,
            0.07046308594268567,
            null,
            0.07046308594268567,
            0.07399715556007973,
            null,
            0.07399715556007973,
            0.07740376083029288,
            null,
            0.07740376083029288,
            0.08106325046158537,
            null,
            0.08106325046158537,
            0.08525424073062432,
            null,
            0.08525424073062432,
            0.09,
            null,
            0.09,
            0.095,
            null,
            0.095,
            0.1,
            null
           ],
           "y": [
            0,
            0,
            null,
            0,
            0,
            null,
            0,
            0.00007704940828719562,
            null,
            0.00007704940828719562,
            0.00018767758143809553,
            null,
            0.00018767758143809553,
            0.00029016924467193815,
            null,
            0.00029016924467193815,
            0.00035294531836764796,
            null,
            0.00035294531836764796,
            0.00035586701849531357,
            null,
            0.00035586701849531357,
            0.00029058192014935215,
            null,
            0.00029058192014935215,
            0.00016367051949328615,
            null,
            0.00016367051949328615,
            -5.915567705779168e-7,
            null,
            -5.915567705779168e-7,
            -0.00016480990357966582,
            null,
            -0.00016480990357966582,
            -0.0002915997419168478,
            null,
            -0.0002915997419168478,
            -0.0003567087214849164,
            null,
            -0.0003567087214849164,
            -0.0003535826152859539,
            null,
            -0.0003535826152859539,
            -0.0002905972737722494,
            null,
            -0.0002905972737722494,
            -0.0001879134160982393,
            null,
            -0.0001879134160982393,
            -0.00007713420432108693,
            null,
            -0.00007713420432108693,
            0,
            null,
            0,
            0,
            null,
            0,
            0,
            null
           ],
           "z": [
            0,
            0,
            null,
            0,
            0,
            null,
            0,
            -0.001552882919599169,
            null,
            -0.001552882919599169,
            -0.00426808013666612,
            null,
            -0.00426808013666612,
            -0.007667205953202653,
            null,
            -0.007667205953202653,
            -0.011321002130010166,
            null,
            -0.011321002130010166,
            -0.014851790138655343,
            null,
            -0.014851790138655343,
            -0.017865959073462327,
            null,
            -0.017865959073462327,
            -0.01993101698031185,
            null,
            -0.01993101698031185,
            -0.02067064471176137,
            null,
            -0.02067064471176137,
            -0.019930967813623027,
            null,
            -0.019930967813623027,
            -0.017865876206179084,
            null,
            -0.017865876206179084,
            -0.014851694927580502,
            null,
            -0.014851694927580502,
            -0.01132091297156227,
            null,
            -0.01132091297156227,
            -0.007667135743640013,
            null,
            -0.007667135743640013,
            -0.004268036411167033,
            null,
            -0.004268036411167033,
            -0.001552865945892301,
            null,
            -0.001552865945892301,
            0,
            null,
            0,
            0,
            null,
            0,
            0,
            null
           ]
          },
          {
           "i": [],
           "j": [],
           "k": [],
           "name": "Faces",
           "type": "mesh3d",
           "x": {
            "bdata": "fOkmMQisjD/e+X5qvHSTP/1+arx0k5g/K8Ki94ZvnT9OgHVVFd2gPxzBNcm8vKI/JS+A8D57pD8VhOpwdkqmPxT0w/9vVKg/BEUSqDCoqj99Wh8KGi+tPzF5hTkDtq8/6EziveEEsT9n9rJp3gmyPzuoIEN68bI/4H9anbvQsz/R1KOpj8C0PySJyM8407U/CtejcD0Ktz9SuB6F61G4P5qZmZmZmbk/",
            "dtype": "f8"
           },
           "y": {
            "bdata": "AAAAAAAAAAAAAAAAAAAAAAAAAAAAAAAANtVMwbIyFD/lzCAmapkoP7Quimo7BDM/NauDmXAhNz8ZD8c0dVI3P5yTBtgnCzM/+C+dDt9zJT/lYXEYb9mjvjaLt0oamiW/x+DkWjscM79pdABLlGA3vx7o4sQhLDe/WjmDyWkLM79Svgf0U6Eov+B9M4pjOBS/AAAAAAAAAAAAAAAAAAAAAAAAAAAAAAAA",
            "dtype": "f8"
           },
           "z": {
            "bdata": "AAAAAAAAAAAAAAAAAAAAAAAAAAAAAAAATSOrVkNxWb/0tKgJaHtxv1GYIe2lZ3+/MC9AL3cvh7+B7HWHnWqOv16Rujd0S5K/3gNt6MtolL8b1Rh8ryqVv4Ghv5vIaJS/4mYUqG5Lkr/rcwjAkGqOv9QuyjdrL4e/LOhdFJNnf7+Pl91MXHtxv5mz+BwxcVm/AAAAAAAAAAAAAAAAAAAAAAAAAAAAAAAA",
            "dtype": "f8"
           }
          }
         ],
         "layout": {
          "annotations": [
           {
            "showarrow": false,
            "text": "Time: 0.31s (Step: 32/100)",
            "x": 0.05,
            "xref": "paper",
            "y": 0.95,
            "yref": "paper"
           }
          ]
         },
         "name": "31"
        },
        {
         "data": [
          {
           "name": "Free Nodes",
           "type": "scatter3d",
           "x": {
            "bdata": "lJH7e4hvnT8ohgT6GN2gP+N0BYDFvKI/nogxQ017pD8dKudPiEqmP6nFwOSAVKg/wNQBDzuoqj+bgGwRGi+tPziHMeT4ta8/TdCLV9kEsT8vQgaJ1QmyP5ojfShz8bI/nw5YTbfQsz/l35/djcC0P4R6gXA407U/",
            "dtype": "f8"
           },
           "y": {
            "bdata": "wutKnT9RFT+U38yMffYpPydwUpYtEjQ/1R49U/BpOD+rbL3G6J04P5GiQAAsGjQ/6f6SynGmJj9Omp1HeEWivgZIXFuiySa/UAHUAOMpNL90j4/c5qo4v2TRIADGczi/Ojh+C8gYNL/QZ0/Bw/0pv2X28Vp6VhW/",
            "dtype": "f8"
           },
           "z": {
            "bdata": "sFeFGhRwWb+kZQVHtHpxvxqOb5OXZn+/tphO+NIuh7/eQjc862mOv3zw7l0YS5K/8zN3EG9olL+12EdmUiqVv5idmPBraJS/wfJEHBNLkr+bQcgw32mOvxUV97vHLoe/MPu5+IVmf7/9E5lkqXpxvyv43WEDcFm/",
            "dtype": "f8"
           }
          },
          {
           "name": "Fixed Nodes",
           "type": "scatter3d",
           "x": {
            "bdata": "fOkmMQisjD/e+X5qvHSTP/1+arx0k5g/CtejcD0Ktz9SuB6F61G4P5qZmZmZmbk/",
            "dtype": "f8"
           },
           "y": {
            "bdata": "AAAAAAAAAAAAAAAAAAAAAAAAAAAAAAAAAAAAAAAAAAAAAAAAAAAAAAAAAAAAAAAA",
            "dtype": "f8"
           },
           "z": {
            "bdata": "AAAAAAAAAAAAAAAAAAAAAAAAAAAAAAAAAAAAAAAAAAAAAAAAAAAAAAAAAAAAAAAA",
            "dtype": "f8"
           }
          },
          {
           "name": "Edges",
           "type": "scatter3d",
           "x": [
            0.014000000000000005,
            0.01900000000000001,
            null,
            0.01900000000000001,
            0.02400000000000001,
            null,
            0.02400000000000001,
            0.028745777671149123,
            null,
            0.028745777671149123,
            0.03293684055303131,
            null,
            0.03293684055303131,
            0.03659646213302794,
            null,
            0.03659646213302794,
            0.040003218128519466,
            null,
            0.040003218128519466,
            0.0435373876130891,
            null,
            0.0435373876130891,
            0.04751971046824661,
            null,
            0.04751971046824661,
            0.05206474836533337,
            null,
            0.05206474836533337,
            0.056999983431752464,
            null,
            0.056999983431752464,
            0.06193521295132459,
            null,
            0.06193521295132459,
            0.06648023974759205,
            null,
            0.06648023974759205,
            0.07046255679438994,
            null,
            0.07046255679438994,
            0.07399673212525074,
            null,
            0.07399673212525074,
            0.07740350378304094,
            null,
            0.07740350378304094,
            0.08106314335589067,
            null,
            0.08106314335589067,
            0.08525421854708709,
            null,
            0.08525421854708709,
            0.09,
            null,
            0.09,
            0.095,
            null,
            0.095,
            0.1,
            null
           ],
           "y": [
            0,
            0,
            null,
            0,
            0,
            null,
            0,
            0.0000813193394816744,
            null,
            0.0000813193394816744,
            0.00019808085053240872,
            null,
            0.00019808085053240872,
            0.00030625927895200567,
            null,
            0.00030625927895200567,
            0.0003725253802610966,
            null,
            0.0003725253802610966,
            0.00037562306419198593,
            null,
            0.00037562306419198593,
            0.00030673574679211066,
            null,
            0.00030673574679211066,
            0.00017280711225530564,
            null,
            0.00017280711225530564,
            -5.445291570816049e-7,
            null,
            -5.445291570816049e-7,
            -0.00017385584731549624,
            null,
            -0.00017385584731549624,
            -0.00030767242499509396,
            null,
            -0.00030767242499509396,
            -0.00037639747875872005,
            null,
            -0.00037639747875872005,
            -0.0003731115722332061,
            null,
            -0.0003731115722332061,
            -0.0003066528693062041,
            null,
            -0.0003066528693062041,
            -0.00019829763974038442,
            null,
            -0.00019829763974038442,
            -0.00008139726445396398,
            null,
            -0.00008139726445396398,
            0,
            null,
            0,
            0,
            null,
            0,
            0,
            null
           ],
           "z": [
            0,
            0,
            null,
            0,
            0,
            null,
            0,
            -0.0015526005100432276,
            null,
            -0.0015526005100432276,
            -0.004267410477348053,
            null,
            -0.004267410477348053,
            -0.007666198819581216,
            null,
            -0.007666198819581216,
            -0.011319778635720073,
            null,
            -0.011319778635720073,
            -0.014850461745397888,
            null,
            -0.014850461745397888,
            -0.01786459039043152,
            null,
            -0.01786459039043152,
            -0.0199296335029437,
            null,
            -0.0199296335029437,
            -0.020669257633891564,
            null,
            -0.020669257633891564,
            -0.01992958694441213,
            null,
            -0.01992958694441213,
            -0.017864512062476082,
            null,
            -0.017864512062476082,
            -0.01485037200566879,
            null,
            -0.01485037200566879,
            -0.01131969492315447,
            null,
            -0.01131969492315447,
            -0.007666133238329917,
            null,
            -0.007666133238329917,
            -0.004267369929555007,
            null,
            -0.004267369929555007,
            -0.0015525849371154181,
            null,
            -0.0015525849371154181,
            0,
            null,
            0,
            0,
            null,
            0,
            0,
            null
           ]
          },
          {
           "i": [],
           "j": [],
           "k": [],
           "name": "Faces",
           "type": "mesh3d",
           "x": {
            "bdata": "fOkmMQisjD/e+X5qvHSTP/1+arx0k5g/lJH7e4hvnT8ohgT6GN2gP+N0BYDFvKI/nogxQ017pD8dKudPiEqmP6nFwOSAVKg/wNQBDzuoqj+bgGwRGi+tPziHMeT4ta8/TdCLV9kEsT8vQgaJ1QmyP5ojfShz8bI/nw5YTbfQsz/l35/djcC0P4R6gXA407U/CtejcD0Ktz9SuB6F61G4P5qZmZmZmbk/",
            "dtype": "f8"
           },
           "y": {
            "bdata": "AAAAAAAAAAAAAAAAAAAAAAAAAAAAAAAAwutKnT9RFT+U38yMffYpPydwUpYtEjQ/1R49U/BpOD+rbL3G6J04P5GiQAAsGjQ/6f6SynGmJj9Omp1HeEWivgZIXFuiySa/UAHUAOMpNL90j4/c5qo4v2TRIADGczi/Ojh+C8gYNL/QZ0/Bw/0pv2X28Vp6VhW/AAAAAAAAAAAAAAAAAAAAAAAAAAAAAAAA",
            "dtype": "f8"
           },
           "z": {
            "bdata": "AAAAAAAAAAAAAAAAAAAAAAAAAAAAAAAAsFeFGhRwWb+kZQVHtHpxvxqOb5OXZn+/tphO+NIuh7/eQjc862mOv3zw7l0YS5K/8zN3EG9olL+12EdmUiqVv5idmPBraJS/wfJEHBNLkr+bQcgw32mOvxUV97vHLoe/MPu5+IVmf7/9E5lkqXpxvyv43WEDcFm/AAAAAAAAAAAAAAAAAAAAAAAAAAAAAAAA",
            "dtype": "f8"
           }
          }
         ],
         "layout": {
          "annotations": [
           {
            "showarrow": false,
            "text": "Time: 0.32s (Step: 33/100)",
            "x": 0.05,
            "xref": "paper",
            "y": 0.95,
            "yref": "paper"
           }
          ]
         },
         "name": "32"
        },
        {
         "data": [
          {
           "name": "Free Nodes",
           "type": "scatter3d",
           "x": {
            "bdata": "xaB2HopvnT980NPhHN2gP1UimM/OvKI/3JZKh1x7pD+98iZTm0qmP+upldmSVKg/vYoHI0aoqj9WmvwzGi+tPyx/cyLuta8/CmhplNAEsT+H+KdIzAmyP5jO7cRr8bI/vVQZ1LLQsz9TqS8CjMC0P4aulg4407U/",
            "dtype": "f8"
           },
           "y": {
            "bdata": "C7fvoLdvFj+qZgUcf1MrP/seKVEaIDU/rDfTU3iyOT/7qb9Gfek5P3qwP19zKTU/e/69n9rZJz8RmRXMLx+fvrkH7pLS9ye/5b7BN9U2Nb+PM0trjfQ5v3SJ4fHXujm/RIpgerklNb/oNxw7sFkrv+SE+gErdBa/",
            "dtype": "f8"
           },
           "z": {
            "bdata": "QRdbydJuWb9kXXzJ9Xlxv7lREhF5ZX+/SM0j7yQuh79bTZJULmmOv4hhria3SpK/o5suAQ1olL9GYMte8CmVv44FQqIKaJS/tBrqL7NKkr9NvFdWJWmOvw4UsqkcLoe/wZeuXWxlf7+g8B8q7nlxv/3BvZnHblm/",
            "dtype": "f8"
           }
          },
          {
           "name": "Fixed Nodes",
           "type": "scatter3d",
           "x": {
            "bdata": "fOkmMQisjD/e+X5qvHSTP/1+arx0k5g/CtejcD0Ktz9SuB6F61G4P5qZmZmZmbk/",
            "dtype": "f8"
           },
           "y": {
            "bdata": "AAAAAAAAAAAAAAAAAAAAAAAAAAAAAAAAAAAAAAAAAAAAAAAAAAAAAAAAAAAAAAAA",
            "dtype": "f8"
           },
           "z": {
            "bdata": "AAAAAAAAAAAAAAAAAAAAAAAAAAAAAAAAAAAAAAAAAAAAAAAAAAAAAAAAAAAAAAAA",
            "dtype": "f8"
           }
          },
          {
           "name": "Edges",
           "type": "scatter3d",
           "x": [
            0.014000000000000005,
            0.01900000000000001,
            null,
            0.01900000000000001,
            0.02400000000000001,
            null,
            0.02400000000000001,
            0.02874580202993184,
            null,
            0.02874580202993184,
            0.03293695694620255,
            null,
            0.03293695694620255,
            0.03659673961744107,
            null,
            0.03659673961744107,
            0.04000367309099115,
            null,
            0.04000367309099115,
            0.043537954235465894,
            null,
            0.043537954235465894,
            0.04752024560987763,
            null,
            0.04752024560987763,
            0.05206507852178308,
            null,
            0.05206507852178308,
            0.05699998745540273,
            null,
            0.05699998745540273,
            0.06193489237352731,
            null,
            0.06193489237352731,
            0.0664797174771651,
            null,
            0.0664797174771651,
            0.07046200536567158,
            null,
            0.07046200536567158,
            0.07399629171214384,
            null,
            0.07399629171214384,
            0.07740323713490489,
            null,
            0.07740323713490489,
            0.08106303265927765,
            null,
            0.08106303265927765,
            0.08525419574896817,
            null,
            0.08525419574896817,
            0.09,
            null,
            0.09,
            0.095,
            null,
            0.095,
            0.1,
            null
           ],
           "y": [
            0,
            0,
            null,
            0,
            0,
            null,
            0,
            0.00008558805733091203,
            null,
            0.00008558805733091203,
            0.00020848204259032072,
            null,
            0.00020848204259032072,
            0.00032234804635720955,
            null,
            0.00032234804635720955,
            0.00039210736924821343,
            null,
            0.00039210736924821343,
            0.00039538677697117914,
            null,
            0.00039538677697117914,
            0.00032290522290057795,
            null,
            0.00032290522290057795,
            0.0001819686293593642,
            null,
            0.0001819686293593642,
            -4.637513023236711e-7,
            null,
            -4.637513023236711e-7,
            -0.00018286176188203414,
            null,
            -0.00018286176188203414,
            -0.0003237028647680009,
            null,
            -0.0003237028647680009,
            -0.00039604618659155264,
            null,
            -0.00039604618659155264,
            -0.0003926064690685995,
            null,
            -0.0003926064690685995,
            -0.00032268312713959837,
            null,
            -0.00032268312713959837,
            -0.00020866657501311604,
            null,
            -0.00020866657501311604,
            -0.00008565437792153494,
            null,
            -0.00008565437792153494,
            0,
            null,
            0,
            0,
            null,
            0,
            0,
            null
           ],
           "z": [
            0,
            0,
            null,
            0,
            0,
            null,
            0,
            -0.00155230126022006,
            null,
            -0.00155230126022006,
            -0.004266700845412561,
            null,
            -0.004266700845412561,
            -0.007665131489507032,
            null,
            -0.007665131489507032,
            -0.011318481967896546,
            null,
            -0.011318481967896546,
            -0.01484905429450716,
            null,
            -0.01484905429450716,
            -0.017863141761695484,
            null,
            -0.017863141761695484,
            -0.019928172299525603,
            null,
            -0.019928172299525603,
            -0.02066779688433964,
            null,
            -0.02066779688433964,
            -0.019928136971889603,
            null,
            -0.019928136971889603,
            -0.01786308269449917,
            null,
            -0.01786308269449917,
            -0.014848987290831195,
            null,
            -0.014848987290831195,
            -0.0113184203421586,
            null,
            -0.0113184203421586,
            -0.007665084175561832,
            null,
            -0.007665084175561832,
            -0.004266672449372205,
            null,
            -0.004266672449372205,
            -0.001552290842450898,
            null,
            -0.001552290842450898,
            0,
            null,
            0,
            0,
            null,
            0,
            0,
            null
           ]
          },
          {
           "i": [],
           "j": [],
           "k": [],
           "name": "Faces",
           "type": "mesh3d",
           "x": {
            "bdata": "fOkmMQisjD/e+X5qvHSTP/1+arx0k5g/xaB2HopvnT980NPhHN2gP1UimM/OvKI/3JZKh1x7pD+98iZTm0qmP+upldmSVKg/vYoHI0aoqj9WmvwzGi+tPyx/cyLuta8/CmhplNAEsT+H+KdIzAmyP5jO7cRr8bI/vVQZ1LLQsz9TqS8CjMC0P4aulg4407U/CtejcD0Ktz9SuB6F61G4P5qZmZmZmbk/",
            "dtype": "f8"
           },
           "y": {
            "bdata": "AAAAAAAAAAAAAAAAAAAAAAAAAAAAAAAAC7fvoLdvFj+qZgUcf1MrP/seKVEaIDU/rDfTU3iyOT/7qb9Gfek5P3qwP19zKTU/e/69n9rZJz8RmRXMLx+fvrkH7pLS9ye/5b7BN9U2Nb+PM0trjfQ5v3SJ4fHXujm/RIpgerklNb/oNxw7sFkrv+SE+gErdBa/AAAAAAAAAAAAAAAAAAAAAAAAAAAAAAAA",
            "dtype": "f8"
           },
           "z": {
            "bdata": "AAAAAAAAAAAAAAAAAAAAAAAAAAAAAAAAQRdbydJuWb9kXXzJ9Xlxv7lREhF5ZX+/SM0j7yQuh79bTZJULmmOv4hhria3SpK/o5suAQ1olL9GYMte8CmVv44FQqIKaJS/tBrqL7NKkr9NvFdWJWmOvw4UsqkcLoe/wZeuXWxlf7+g8B8q7nlxv/3BvZnHblm/AAAAAAAAAAAAAAAAAAAAAAAAAAAAAAAA",
            "dtype": "f8"
           }
          }
         ],
         "layout": {
          "annotations": [
           {
            "showarrow": false,
            "text": "Time: 0.33s (Step: 34/100)",
            "x": 0.05,
            "xref": "paper",
            "y": 0.95,
            "yref": "paper"
           }
          ]
         },
         "name": "33"
        },
        {
         "data": [
          {
           "name": "Free Nodes",
           "type": "scatter3d",
           "x": {
            "bdata": "Xnqoz4tvnT+LKCnwIN2gPwJ8Y4DYvKI/EEw2cWx7pD/e0NQqr0qmPzRm/pmlVKg/JxL9sFGoqj/3cb5GGi+tPzC+NMHita8/StxfUscEsT+tFKqAwgmyPxENmPJj8bI/VBjDFa7Qsz9wteQIisC0P1PRJqY307U/",
            "dtype": "f8"
           },
           "y": {
            "bdata": "Z+ekRRuOFz9KMinubbAsP/reqkv/LTY/kpKnzAL7Oj+dKZa5JzU7P9G5dpDsODY/bGNTq+kNKT8wiXQJ9uOXvrFLsPrpJCm/QoqFwjBDNr+WvsImoz07vwqDYDRtATu/gkHiEE0yNr8r8DgvKrUsv/ISg6+BkRe/",
            "dtype": "f8"
           },
           "z": {
            "bdata": "ihvsToJtWb8ws3ZPLnlxv96gvwtNZH+/++ZwsW4th7+4m/1+aGiOv1EzQ0pRSpK/YzvkJqZnlL9GMZZliSmVvw8LNESkZ5S/MSY/Kk5Kkr826MGAYWiOv9KWf2FoLYe/NTUHmkNkf79n4E7cKHlxv5gBTtN6bVm/",
            "dtype": "f8"
           }
          },
          {
           "name": "Fixed Nodes",
           "type": "scatter3d",
           "x": {
            "bdata": "fOkmMQisjD/e+X5qvHSTP/1+arx0k5g/CtejcD0Ktz9SuB6F61G4P5qZmZmZmbk/",
            "dtype": "f8"
           },
           "y": {
            "bdata": "AAAAAAAAAAAAAAAAAAAAAAAAAAAAAAAAAAAAAAAAAAAAAAAAAAAAAAAAAAAAAAAA",
            "dtype": "f8"
           },
           "z": {
            "bdata": "AAAAAAAAAAAAAAAAAAAAAAAAAAAAAAAAAAAAAAAAAAAAAAAAAAAAAAAAAAAAAAAA",
            "dtype": "f8"
           }
          },
          {
           "name": "Edges",
           "type": "scatter3d",
           "x": [
            0.014000000000000005,
            0.01900000000000001,
            null,
            0.01900000000000001,
            0.02400000000000001,
            null,
            0.02400000000000001,
            0.02874582724518359,
            null,
            0.02874582724518359,
            0.032937077824116555,
            null,
            0.032937077824116555,
            0.036597028419912206,
            null,
            0.036597028419912206,
            0.04000414735778446,
            null,
            0.04000414735778446,
            0.043538545587951324,
            null,
            0.043538545587951324,
            0.047520804451050586,
            null,
            0.047520804451050586,
            0.05206542287354337,
            null,
            0.05206542287354337,
            0.0569999896390278,
            null,
            0.0569999896390278,
            0.061934553227157685,
            null,
            0.061934553227157685,
            0.0664791656598577,
            null,
            0.0664791656598577,
            0.07046142235965887,
            null,
            0.07046142235965887,
            0.07399582550720064,
            null,
            0.07399582550720064,
            0.07740295440007233,
            null,
            0.07740295440007233,
            0.08106291501163354,
            null,
            0.08106291501163354,
            0.08525417143284146,
            null,
            0.08525417143284146,
            0.09,
            null,
            0.09,
            0.095,
            null,
            0.095,
            0.1,
            null
           ],
           "y": [
            0,
            0,
            null,
            0,
            0,
            null,
            0,
            0.00008985558944099374,
            null,
            0.00008985558944099374,
            0.0002188810531883626,
            null,
            0.0002188810531883626,
            0.0003384350090231827,
            null,
            0.0003384350090231827,
            0.00041168993325716677,
            null,
            0.00041168993325716677,
            0.0004151556000457026,
            null,
            0.0004151556000457026,
            0.0003390862989033602,
            null,
            0.0003390862989033602,
            0.0001911494961522002,
            null,
            0.0001911494961522002,
            -3.559957888079331e-7,
            null,
            -3.559957888079331e-7,
            -0.00019183498565719445,
            null,
            -0.00019183498565719445,
            -0.00033969822336224833,
            null,
            -0.00033969822336224833,
            -0.00041566117466638444,
            null,
            -0.00041566117466638444,
            -0.0004120723355090372,
            null,
            -0.0004120723355090372,
            -0.0003386915349290685,
            null,
            -0.0003386915349290685,
            -0.00021902217814495756,
            null,
            -0.00021902217814495756,
            -0.00008990625417755105,
            null,
            -0.00008990625417755105,
            0,
            null,
            0,
            0,
            null,
            0,
            0,
            null
           ],
           "z": [
            0,
            0,
            null,
            0,
            0,
            null,
            0,
            -0.0015519878904244077,
            null,
            -0.0015519878904244077,
            -0.0042659577369875,
            null,
            -0.0042659577369875,
            -0.007664013824957487,
            null,
            -0.007664013824957487,
            -0.011317124166555717,
            null,
            -0.011317124166555717,
            -0.01484758031410914,
            null,
            -0.01484758031410914,
            -0.017861623914359474,
            null,
            -0.017861623914359474,
            -0.019926639674902612,
            null,
            -0.019926639674902612,
            -0.02066626246009775,
            null,
            -0.02066626246009775,
            -0.01992661157874936,
            null,
            -0.01992661157874936,
            -0.01786157734730959,
            null,
            -0.01786157734730959,
            -0.014847528211465382,
            null,
            -0.014847528211465382,
            -0.011317077136435403,
            null,
            -0.011317077136435403,
            -0.007663978642495285,
            null,
            -0.007663978642495285,
            -0.004265937434802059,
            null,
            -0.004265937434802059,
            -0.0015519809214482368,
            null,
            -0.0015519809214482368,
            0,
            null,
            0,
            0,
            null,
            0,
            0,
            null
           ]
          },
          {
           "i": [],
           "j": [],
           "k": [],
           "name": "Faces",
           "type": "mesh3d",
           "x": {
            "bdata": "fOkmMQisjD/e+X5qvHSTP/1+arx0k5g/Xnqoz4tvnT+LKCnwIN2gPwJ8Y4DYvKI/EEw2cWx7pD/e0NQqr0qmPzRm/pmlVKg/JxL9sFGoqj/3cb5GGi+tPzC+NMHita8/StxfUscEsT+tFKqAwgmyPxENmPJj8bI/VBjDFa7Qsz9wteQIisC0P1PRJqY307U/CtejcD0Ktz9SuB6F61G4P5qZmZmZmbk/",
            "dtype": "f8"
           },
           "y": {
            "bdata": "AAAAAAAAAAAAAAAAAAAAAAAAAAAAAAAAZ+ekRRuOFz9KMinubbAsP/reqkv/LTY/kpKnzAL7Oj+dKZa5JzU7P9G5dpDsODY/bGNTq+kNKT8wiXQJ9uOXvrFLsPrpJCm/QoqFwjBDNr+WvsImoz07vwqDYDRtATu/gkHiEE0yNr8r8DgvKrUsv/ISg6+BkRe/AAAAAAAAAAAAAAAAAAAAAAAAAAAAAAAA",
            "dtype": "f8"
           },
           "z": {
            "bdata": "AAAAAAAAAAAAAAAAAAAAAAAAAAAAAAAAihvsToJtWb8ws3ZPLnlxv96gvwtNZH+/++ZwsW4th7+4m/1+aGiOv1EzQ0pRSpK/YzvkJqZnlL9GMZZliSmVvw8LNESkZ5S/MSY/Kk5Kkr826MGAYWiOv9KWf2FoLYe/NTUHmkNkf79n4E7cKHlxv5gBTtN6bVm/AAAAAAAAAAAAAAAAAAAAAAAAAAAAAAAA",
            "dtype": "f8"
           }
          }
         ],
         "layout": {
          "annotations": [
           {
            "showarrow": false,
            "text": "Time: 0.34s (Step: 35/100)",
            "x": 0.05,
            "xref": "paper",
            "y": 0.95,
            "yref": "paper"
           }
          ]
         },
         "name": "34"
        },
        {
         "data": [
          {
           "name": "Free Nodes",
           "type": "scatter3d",
           "x": {
            "bdata": "5Nx6jY1vnT+WkBohJd2gP9PbyYrivKI/edKG9nx7pD/i4trLw0qmPwz8cRy5VKg/USy7sV2oqj/5Ir5DGi+tP+6Hf7nWta8/aGzMjL0EsT/8i5kruAmyP/7MSaxb8bI//Wx8DqnQsz9VPr3vh8C0P0iwpjY307U/",
            "dtype": "f8"
           },
           "y": {
            "bdata": "HbJ1w2SsGD9uyO5tQQ0uP4GKhyrUOzc/QHzcTIJDPD+805PZ1IA8P6PykUJ+SDc/CYJ6lGFCKj9a3m/7f8SOvjKZLfguUSq/Xetr7hZPN79HST7+RIY8vy7HRJmcRzy/LzMCopI+N78+FWd9QxAuv8D9hoCLrhi/",
            "dtype": "f8"
           },
           "z": {
            "bdata": "EjRBFiNsWb9VYjIZXnhxv1zraOUTY3+/bkQre7Ash7+wYQL6mWeOv2j2kePmSZK/jMWlkTpnlL/UqS57HSmVv9WVTcc4Z5S/Sf7+8ONJkr8u9xVyk2eOv+SGg6eqLIe/LZljSwtjf78+CS46WXhxv2YqSqEcbFm/",
            "dtype": "f8"
           }
          },
          {
           "name": "Fixed Nodes",
           "type": "scatter3d",
           "x": {
            "bdata": "fOkmMQisjD/e+X5qvHSTP/1+arx0k5g/CtejcD0Ktz9SuB6F61G4P5qZmZmZmbk/",
            "dtype": "f8"
           },
           "y": {
            "bdata": "AAAAAAAAAAAAAAAAAAAAAAAAAAAAAAAAAAAAAAAAAAAAAAAAAAAAAAAAAAAAAAAA",
            "dtype": "f8"
           },
           "z": {
            "bdata": "AAAAAAAAAAAAAAAAAAAAAAAAAAAAAAAAAAAAAAAAAAAAAAAAAAAAAAAAAAAAAAAA",
            "dtype": "f8"
           }
          },
          {
           "name": "Edges",
           "type": "scatter3d",
           "x": [
            0.014000000000000005,
            0.01900000000000001,
            null,
            0.01900000000000001,
            0.02400000000000001,
            null,
            0.02400000000000001,
            0.028745853195428675,
            null,
            0.028745853195428675,
            0.03293720273112048,
            null,
            0.03293720273112048,
            0.036597327653843735,
            null,
            0.036597327653843735,
            0.04000463971479901,
            null,
            0.04000463971479901,
            0.04353916038002638,
            null,
            0.04353916038002638,
            0.04752138588172991,
            null,
            0.04752138588172991,
            0.052065780587860495,
            null,
            0.052065780587860495,
            0.05699998928964151,
            null,
            0.05699998928964151,
            0.06193419470197613,
            null,
            0.06193419470197613,
            0.06647858321632472,
            null,
            0.06647858321632472,
            0.07046080650756886,
            null,
            0.07046080650756886,
            0.07399533230072916,
            null,
            0.07399533230072916,
            0.0774026546827606,
            null,
            0.0774026546827606,
            0.08106278994568446,
            null,
            0.08106278994568446,
            0.0852541454721073,
            null,
            0.0852541454721073,
            0.09,
            null,
            0.09,
            0.095,
            null,
            0.095,
            0.1,
            null
           ],
           "y": [
            0,
            0,
            null,
            0,
            0,
            null,
            0,
            0.00009412159930883468,
            null,
            0.00009412159930883468,
            0.00022927688311608372,
            null,
            0.00022927688311608372,
            0.0003545182212560186,
            null,
            0.0003545182212560186,
            0.00043126994283854483,
            null,
            0.00043126994283854483,
            0.0004349250462632422,
            null,
            0.0004349250462632422,
            0.0003552730800675896,
            null,
            0.0003552730800675896,
            0.00020034257089653087,
            null,
            0.00020034257089653087,
            -2.2923631856607799e-7,
            null,
            -2.2923631856607799e-7,
            -0.00020078371388904944,
            null,
            -0.00020078371388904944,
            -0.00035566625449206195,
            null,
            -0.00035566625449206195,
            -0.00043524917986661023,
            null,
            -0.00043524917986661023,
            -0.0004315144845065008,
            null,
            -0.0004315144845065008,
            -0.0003546817770335051,
            null,
            -0.0003546817770335051,
            -0.00022936652994879654,
            null,
            -0.00022936652994879654,
            -0.0000941536565113232,
            null,
            -0.0000941536565113232,
            0,
            null,
            0,
            0,
            null,
            0,
            0,
            null
           ],
           "z": [
            0,
            0,
            null,
            0,
            0,
            null,
            0,
            -0.00155166079004521,
            null,
            -0.00155166079004521,
            -0.004265182086918691,
            null,
            -0.004265182086918691,
            -0.007662847251192453,
            null,
            -0.007662847251192453,
            -0.011315706976718878,
            null,
            -0.011315706976718878,
            -0.014846041624239387,
            null,
            -0.014846041624239387,
            -0.017860038413792273,
            null,
            -0.017860038413792273,
            -0.019925036563511564,
            null,
            -0.019925036563511564,
            -0.020664654391717566,
            null,
            -0.020664654391717566,
            -0.019925009884351603,
            null,
            -0.019925009884351603,
            -0.017859994491799012,
            null,
            -0.017859994491799012,
            -0.0148459929648613,
            null,
            -0.0148459929648613,
            -0.011315663563837793,
            null,
            -0.011315663563837793,
            -0.007662815207572654,
            null,
            -0.007662815207572654,
            -0.004265163940433246,
            null,
            -0.004265163940433246,
            -0.0015516547765936028,
            null,
            -0.0015516547765936028,
            0,
            null,
            0,
            0,
            null,
            0,
            0,
            null
           ]
          },
          {
           "i": [],
           "j": [],
           "k": [],
           "name": "Faces",
           "type": "mesh3d",
           "x": {
            "bdata": "fOkmMQisjD/e+X5qvHSTP/1+arx0k5g/5Nx6jY1vnT+WkBohJd2gP9PbyYrivKI/edKG9nx7pD/i4trLw0qmPwz8cRy5VKg/USy7sV2oqj/5Ir5DGi+tP+6Hf7nWta8/aGzMjL0EsT/8i5kruAmyP/7MSaxb8bI//Wx8DqnQsz9VPr3vh8C0P0iwpjY307U/CtejcD0Ktz9SuB6F61G4P5qZmZmZmbk/",
            "dtype": "f8"
           },
           "y": {
            "bdata": "AAAAAAAAAAAAAAAAAAAAAAAAAAAAAAAAHbJ1w2SsGD9uyO5tQQ0uP4GKhyrUOzc/QHzcTIJDPD+805PZ1IA8P6PykUJ+SDc/CYJ6lGFCKj9a3m/7f8SOvjKZLfguUSq/Xetr7hZPN79HST7+RIY8vy7HRJmcRzy/LzMCopI+N78+FWd9QxAuv8D9hoCLrhi/AAAAAAAAAAAAAAAAAAAAAAAAAAAAAAAA",
            "dtype": "f8"
           },
           "z": {
            "bdata": "AAAAAAAAAAAAAAAAAAAAAAAAAAAAAAAAEjRBFiNsWb9VYjIZXnhxv1zraOUTY3+/bkQre7Ash7+wYQL6mWeOv2j2kePmSZK/jMWlkTpnlL/UqS57HSmVv9WVTcc4Z5S/Sf7+8ONJkr8u9xVyk2eOv+SGg6eqLIe/LZljSwtjf78+CS46WXhxv2YqSqEcbFm/AAAAAAAAAAAAAAAAAAAAAAAAAAAAAAAA",
            "dtype": "f8"
           }
          }
         ],
         "layout": {
          "annotations": [
           {
            "showarrow": false,
            "text": "Time: 0.35s (Step: 36/100)",
            "x": 0.05,
            "xref": "paper",
            "y": 0.95,
            "yref": "paper"
           }
          ]
         },
         "name": "35"
        },
        {
         "data": [
          {
           "name": "Free Nodes",
           "type": "scatter3d",
           "x": {
            "bdata": "3l8MXI9vnT/9UEp8Kd2gP/t7ef3svKI/p08aK457pD83ChZL2UqmP3yGsXLNVKg/bV+ZMmqoqj8gLXc2Gi+tPzTLQRnKta8/XGcFTbMEsT+EsllUrQmyP+QZR/xS8bI/HJzIxaPQsz/+EZi6hcC0P9QaH8E207U/",
            "dtype": "f8"
           },
           "y": {
            "bdata": "lAJvjYfKGT+j01St6GkvP92zOgWKSTg/m1nCOuGLPT/TN8TOaMw9Pw1ZpYQHWDg/rvkBA/p2Kz886CRCDrh4vt1+YhTofCu/91NMFadaOL8saXjUjM49v8uB8rd5jT2/DXcyVZdKOL8VpvWlCmsvv95b2edSyxm/",
            "dtype": "f8"
           },
           "z": {
            "bdata": "Xs4AZbRqWb+228q3hHdxv7BGHPbMYX+/jvXw5ekrh7+GbU9bwmaOv57HdcV3SZK/NJzfJ8pmlL+xKt2hrCiVv5pbmEnIZpS/hX6CtXRJkr/T+l+cu2aOv+Od8ujjK4e/dBiUJMRhf79lZ5e5f3dxv9ENIMmtalm/",
            "dtype": "f8"
           }
          },
          {
           "name": "Fixed Nodes",
           "type": "scatter3d",
           "x": {
            "bdata": "fOkmMQisjD/e+X5qvHSTP/1+arx0k5g/CtejcD0Ktz9SuB6F61G4P5qZmZmZmbk/",
            "dtype": "f8"
           },
           "y": {
            "bdata": "AAAAAAAAAAAAAAAAAAAAAAAAAAAAAAAAAAAAAAAAAAAAAAAAAAAAAAAAAAAAAAAA",
            "dtype": "f8"
           },
           "z": {
            "bdata": "AAAAAAAAAAAAAAAAAAAAAAAAAAAAAAAAAAAAAAAAAAAAAAAAAAAAAAAAAAAAAAAA",
            "dtype": "f8"
           }
          },
          {
           "name": "Edges",
           "type": "scatter3d",
           "x": [
            0.014000000000000005,
            0.01900000000000001,
            null,
            0.01900000000000001,
            0.02400000000000001,
            null,
            0.02400000000000001,
            0.02874588012045353,
            null,
            0.02874588012045353,
            0.03293733255591922,
            null,
            0.03293733255591922,
            0.03659763902827958,
            null,
            0.03659763902827958,
            0.04000515247494656,
            null,
            0.04000515247494656,
            0.043539801040442354,
            null,
            0.043539801040442354,
            0.04752199196879034,
            null,
            0.04752199196879034,
            0.05206615321793504,
            null,
            0.05206615321793504,
            0.0569999877439733,
            null,
            0.0569999877439733,
            0.06193381841958115,
            null,
            0.06193381841958115,
            0.06647797232053904,
            null,
            0.06647797232053904,
            0.07046016034446195,
            null,
            0.07046016034446195,
            0.07399481448292239,
            null,
            0.07399481448292239,
            0.07740233973218874,
            null,
            0.07740233973218874,
            0.08106265836256196,
            null,
            0.08106265836256196,
            0.08525411810760924,
            null,
            0.08525411810760924,
            0.09,
            null,
            0.09,
            0.095,
            null,
            0.095,
            0.1,
            null
           ],
           "y": [
            0,
            0,
            null,
            0,
            0,
            null,
            0,
            0.00009838535639429053,
            null,
            0.00009838535639429053,
            0.00023966756149609606,
            null,
            0.00023966756149609606,
            0.00037059421195345476,
            null,
            0.00037059421195345476,
            0.0004508423687722641,
            null,
            0.0004508423687722641,
            0.00045468863278663485,
            null,
            0.00045468863278663485,
            0.00037145789669547417,
            null,
            0.00037145789669547417,
            0.0002095394315837057,
            null,
            0.0002095394315837057,
            -9.208533005992528e-8,
            null,
            -9.208533005992528e-8,
            -0.00020971615794439835,
            null,
            -0.00020971615794439835,
            -0.0003716142576178356,
            null,
            -0.0003716142576178356,
            -0.000454816229167004,
            null,
            -0.000454816229167004,
            -0.00045093747753280057,
            null,
            -0.00045093747753280057,
            -0.00037065691612690814,
            null,
            -0.00037065691612690814,
            -0.00023970131858712442,
            null,
            -0.00023970131858712442,
            -0.00009839719310754345,
            null,
            -0.00009839719310754345,
            0,
            null,
            0,
            0,
            null,
            0,
            0,
            null
           ],
           "z": [
            0,
            0,
            null,
            0,
            0,
            null,
            0,
            -0.0015513192811455116,
            null,
            -0.0015513192811455116,
            -0.004264372281503384,
            null,
            -0.004264372281503384,
            -0.00766162932429075,
            null,
            -0.00766162932429075,
            -0.011314227418661085,
            null,
            -0.011314227418661085,
            -0.014844435130661148,
            null,
            -0.014844435130661148,
            -0.01785838263226191,
            null,
            -0.01785838263226191,
            -0.01992336147659675,
            null,
            -0.01992336147659675,
            -0.02066297281207125,
            null,
            -0.02066297281207125,
            -0.019923333637133923,
            null,
            -0.019923333637133923,
            -0.017858337000346686,
            null,
            -0.017858337000346686,
            -0.014844384870227689,
            null,
            -0.014844384870227689,
            -0.011314182802677436,
            null,
            -0.011314182802677436,
            -0.007661596472877109,
            null,
            -0.007661596472877109,
            -0.00426435368123088,
            null,
            -0.00426435368123088,
            -0.0015513131261294286,
            null,
            -0.0015513131261294286,
            0,
            null,
            0,
            0,
            null,
            0,
            0,
            null
           ]
          },
          {
           "i": [],
           "j": [],
           "k": [],
           "name": "Faces",
           "type": "mesh3d",
           "x": {
            "bdata": "fOkmMQisjD/e+X5qvHSTP/1+arx0k5g/3l8MXI9vnT/9UEp8Kd2gP/t7ef3svKI/p08aK457pD83ChZL2UqmP3yGsXLNVKg/bV+ZMmqoqj8gLXc2Gi+tPzTLQRnKta8/XGcFTbMEsT+EsllUrQmyP+QZR/xS8bI/HJzIxaPQsz/+EZi6hcC0P9QaH8E207U/CtejcD0Ktz9SuB6F61G4P5qZmZmZmbk/",
            "dtype": "f8"
           },
           "y": {
            "bdata": "AAAAAAAAAAAAAAAAAAAAAAAAAAAAAAAAlAJvjYfKGT+j01St6GkvP92zOgWKSTg/m1nCOuGLPT/TN8TOaMw9Pw1ZpYQHWDg/rvkBA/p2Kz886CRCDrh4vt1+YhTofCu/91NMFadaOL8saXjUjM49v8uB8rd5jT2/DXcyVZdKOL8VpvWlCmsvv95b2edSyxm/AAAAAAAAAAAAAAAAAAAAAAAAAAAAAAAA",
            "dtype": "f8"
           },
           "z": {
            "bdata": "AAAAAAAAAAAAAAAAAAAAAAAAAAAAAAAAXs4AZbRqWb+228q3hHdxv7BGHPbMYX+/jvXw5ekrh7+GbU9bwmaOv57HdcV3SZK/NJzfJ8pmlL+xKt2hrCiVv5pbmEnIZpS/hX6CtXRJkr/T+l+cu2aOv+Od8ujjK4e/dBiUJMRhf79lZ5e5f3dxv9ENIMmtalm/AAAAAAAAAAAAAAAAAAAAAAAAAAAAAAAA",
            "dtype": "f8"
           }
          }
         ],
         "layout": {
          "annotations": [
           {
            "showarrow": false,
            "text": "Time: 0.36s (Step: 37/100)",
            "x": 0.05,
            "xref": "paper",
            "y": 0.95,
            "yref": "paper"
           }
          ]
         },
         "name": "36"
        },
        {
         "data": [
          {
           "name": "Free Nodes",
           "type": "scatter3d",
           "x": {
            "bdata": "8+keP5FvnT9sZq0ILt2gP0HNz+X3vKI/UuMAIaB7pD+8NXa770qmP/zY1qziVKg/Eyu9P3eoqj+oYIQpGi+tP5M3hO28ta8/lLjNm6gEsT90FB8FogmyP/lrK+xJ8bI/Kl+tQp7Qsz/6ghJtg8C0P1w6h0Y207U/",
            "dtype": "f8"
           },
           "y": {
            "bdata": "/G/iD3ToGj/VWl99J2MwP7aQvPoOVzk/O+52SwbUPj/pPqnvwxc/P30VlydkZzk/LPp4k2arLD9A77Y/ThlpPil/52hZqCy/VYAyGf5lOb+c+wJwkRY/vxnPow8V0z6/3139y2VWOb+RKRR5xWIwv2ImVcHf5xq/",
            "dtype": "f8"
           },
           "z": {
            "bdata": "Q2GalzVpWb+EHdvJoXZxv4n0P6p3YH+/A+2ylxorh79ZiGRF4WWOv/etccgDSZK/0M/Y01RmlL9TYEDdNiiVv1dz9edSZpS/YxI4pgBJkr9GOVdq2mWOv1X+3osUK4e/Y4XQzG5gf78Kpd3InHZxvwfl1QMvaVm/",
            "dtype": "f8"
           }
          },
          {
           "name": "Fixed Nodes",
           "type": "scatter3d",
           "x": {
            "bdata": "fOkmMQisjD/e+X5qvHSTP/1+arx0k5g/CtejcD0Ktz9SuB6F61G4P5qZmZmZmbk/",
            "dtype": "f8"
           },
           "y": {
            "bdata": "AAAAAAAAAAAAAAAAAAAAAAAAAAAAAAAAAAAAAAAAAAAAAAAAAAAAAAAAAAAAAAAA",
            "dtype": "f8"
           },
           "z": {
            "bdata": "AAAAAAAAAAAAAAAAAAAAAAAAAAAAAAAAAAAAAAAAAAAAAAAAAAAAAAAAAAAAAAAA",
            "dtype": "f8"
           }
          },
          {
           "name": "Edges",
           "type": "scatter3d",
           "x": [
            0.014000000000000005,
            0.01900000000000001,
            null,
            0.01900000000000001,
            0.02400000000000001,
            null,
            0.02400000000000001,
            0.02874590823896912,
            null,
            0.02874590823896912,
            0.03293746810841189,
            null,
            0.03293746810841189,
            0.036597964099110765,
            null,
            0.036597964099110765,
            0.040005687741035204,
            null,
            0.040005687741035204,
            0.04354046977378398,
            null,
            0.04354046977378398,
            0.04752262458662135,
            null,
            0.04752262458662135,
            0.052066542177803175,
            null,
            0.052066542177803175,
            0.05699998623657737,
            null,
            0.05699998623657737,
            0.06193342589732178,
            null,
            0.06193342589732178,
            0.0664773350124242,
            null,
            0.0664773350124242,
            0.07045948624643633,
            null,
            0.07045948624643633,
            0.07399427429065487,
            null,
            0.07399427429065487,
            0.07740201118337767,
            null,
            0.07740201118337767,
            0.08106252110384196,
            null,
            0.08106252110384196,
            0.08525408956413955,
            null,
            0.08525408956413955,
            0.09,
            null,
            0.09,
            0.095,
            null,
            0.095,
            0.1,
            null
           ],
           "y": [
            0,
            0,
            null,
            0,
            0,
            null,
            0,
            0.0001026459540036106,
            null,
            0.0001026459540036106,
            0.00025005067925347224,
            null,
            0.00025005067925347224,
            0.000386658818330564,
            null,
            0.000386658818330564,
            0.0004704013221858737,
            null,
            0.0004704013221858737,
            0.0004744389877133619,
            null,
            0.0004744389877133619,
            0.00038763232404578197,
            null,
            0.00038763232404578197,
            0.00021873118542888156,
            null,
            0.00021873118542888156,
            4.675025163820436e-8,
            null,
            4.675025163820436e-8,
            -0.00021864024570472068,
            null,
            -0.00021864024570472068,
            -0.00038754895758508673,
            null,
            -0.00038754895758508673,
            -0.0004743676254398922,
            null,
            -0.0004743676254398922,
            -0.00047034515559051107,
            null,
            -0.00047034515559051107,
            -0.0003866194274357564,
            null,
            -0.0003866194274357564,
            -0.00025002785794527813,
            null,
            -0.00025002785794527813,
            -0.0001026373214091602,
            null,
            -0.0001026373214091602,
            0,
            null,
            0,
            0,
            null,
            0,
            0,
            null
           ],
           "z": [
            0,
            0,
            null,
            0,
            0,
            null,
            0,
            -0.0015509627686807893,
            null,
            -0.0015509627686807893,
            -0.004263526903464213,
            null,
            -0.004263526903464213,
            -0.007660357896381539,
            null,
            -0.007660357896381539,
            -0.011312682871326368,
            null,
            -0.011312682871326368,
            -0.014842758112141906,
            null,
            -0.014842758112141906,
            -0.017856654271254126,
            null,
            -0.017856654271254126,
            -0.019921613149747774,
            null,
            -0.019921613149747774,
            -0.020661217931859998,
            null,
            -0.020661217931859998,
            -0.01992158451809031,
            null,
            -0.01992158451809031,
            -0.017856607575611593,
            null,
            -0.017856607575611593,
            -0.01484270703340641,
            null,
            -0.01484270703340641,
            -0.011312637823606734,
            null,
            -0.011312637823606734,
            -0.007660324871751586,
            null,
            -0.007660324871751586,
            -0.004263508262604585,
            null,
            -0.004263508262604585,
            -0.001550956643170233,
            null,
            -0.001550956643170233,
            0,
            null,
            0,
            0,
            null,
            0,
            0,
            null
           ]
          },
          {
           "i": [],
           "j": [],
           "k": [],
           "name": "Faces",
           "type": "mesh3d",
           "x": {
            "bdata": "fOkmMQisjD/e+X5qvHSTP/1+arx0k5g/8+keP5FvnT9sZq0ILt2gP0HNz+X3vKI/UuMAIaB7pD+8NXa770qmP/zY1qziVKg/Eyu9P3eoqj+oYIQpGi+tP5M3hO28ta8/lLjNm6gEsT90FB8FogmyP/lrK+xJ8bI/Kl+tQp7Qsz/6ghJtg8C0P1w6h0Y207U/CtejcD0Ktz9SuB6F61G4P5qZmZmZmbk/",
            "dtype": "f8"
           },
           "y": {
            "bdata": "AAAAAAAAAAAAAAAAAAAAAAAAAAAAAAAA/G/iD3ToGj/VWl99J2MwP7aQvPoOVzk/O+52SwbUPj/pPqnvwxc/P30VlydkZzk/LPp4k2arLD9A77Y/ThlpPil/52hZqCy/VYAyGf5lOb+c+wJwkRY/vxnPow8V0z6/3139y2VWOb+RKRR5xWIwv2ImVcHf5xq/AAAAAAAAAAAAAAAAAAAAAAAAAAAAAAAA",
            "dtype": "f8"
           },
           "z": {
            "bdata": "AAAAAAAAAAAAAAAAAAAAAAAAAAAAAAAAQ2GalzVpWb+EHdvJoXZxv4n0P6p3YH+/A+2ylxorh79ZiGRF4WWOv/etccgDSZK/0M/Y01RmlL9TYEDdNiiVv1dz9edSZpS/YxI4pgBJkr9GOVdq2mWOv1X+3osUK4e/Y4XQzG5gf78Kpd3InHZxvwfl1QMvaVm/AAAAAAAAAAAAAAAAAAAAAAAAAAAAAAAA",
            "dtype": "f8"
           }
          }
         ],
         "layout": {
          "annotations": [
           {
            "showarrow": false,
            "text": "Time: 0.37s (Step: 38/100)",
            "x": 0.05,
            "xref": "paper",
            "y": 0.95,
            "yref": "paper"
           }
          ]
         },
         "name": "37"
        },
        {
         "data": [
          {
           "name": "Free Nodes",
           "type": "scatter3d",
           "x": {
            "bdata": "dZ7lN5NvnT//xnXIMt2gP3ui9kcDvaI/yPHF3bJ7pD9oybIiB0umP89Trs/4VKg/RtXX3ISoqj8I4msgGi+tPz5+9Dqvta8/0LpWfJ0EsT9IqJlBlgmyP8WRZH9A8bI/rN+kh5jQsz9WbW8IgcC0PwVeNMc107U/",
            "dtype": "f8"
           },
           "y": {
            "bdata": "0kpHTxsGHD+4oy0yMBExP1cTRslRZDo/LQsTiewNQD+o18fWYzFAP7dNFFJxdjo/t7ZABF7fLT/8puJlxwWIPoXq0RDD0y2/PVUXxDZxOr+DaabIMy9Avzs9uK0+DEC/sEPUTgdiOr915vP/5g8xv5KshpM4BBy/",
            "dtype": "f8"
           },
           "z": {
            "bdata": "WDKPiKZnWb/z4y85tXVxv8/oS+ATX3+/ypf1e0Iqh79ENR6j9mSOvz99DeSKSJK/Uck9ktpllL9E1GUxvCeVv8knwK3YZZS/8qhs04dIkr+OWR0A8GSOvz0SdrI8Koe/XEAWfAtff7+goBKNsHVxv1CQwI+gZ1m/",
            "dtype": "f8"
           }
          },
          {
           "name": "Fixed Nodes",
           "type": "scatter3d",
           "x": {
            "bdata": "fOkmMQisjD/e+X5qvHSTP/1+arx0k5g/CtejcD0Ktz9SuB6F61G4P5qZmZmZmbk/",
            "dtype": "f8"
           },
           "y": {
            "bdata": "AAAAAAAAAAAAAAAAAAAAAAAAAAAAAAAAAAAAAAAAAAAAAAAAAAAAAAAAAAAAAAAA",
            "dtype": "f8"
           },
           "z": {
            "bdata": "AAAAAAAAAAAAAAAAAAAAAAAAAAAAAAAAAAAAAAAAAAAAAAAAAAAAAAAAAAAAAAAA",
            "dtype": "f8"
           }
          },
          {
           "name": "Edges",
           "type": "scatter3d",
           "x": [
            0.014000000000000005,
            0.01900000000000001,
            null,
            0.01900000000000001,
            0.02400000000000001,
            null,
            0.02400000000000001,
            0.02874593762081053,
            null,
            0.02874593762081053,
            0.03293760964414893,
            null,
            0.03293760964414893,
            0.036598303351017734,
            null,
            0.036598303351017734,
            0.0400062461585296,
            null,
            0.0400062461585296,
            0.043541167245524204,
            null,
            0.043541167245524204,
            0.04752328429382368,
            null,
            0.04752328429382368,
            0.05206694789732551,
            null,
            0.05206694789732551,
            0.05699998517770061,
            null,
            0.05699998517770061,
            0.06193301767984537,
            null,
            0.06193301767984537,
            0.06647667203535979,
            null,
            0.06647667203535979,
            0.07045878507202119,
            null,
            0.07045878507202119,
            0.07399371252228722,
            null,
            0.07399371252228722,
            0.07740166961309453,
            null,
            0.07740166961309453,
            0.08106237846316353,
            null,
            0.08106237846316353,
            0.08525405991928643,
            null,
            0.08525405991928643,
            0.09,
            null,
            0.09,
            0.095,
            null,
            0.095,
            0.1,
            null
           ],
           "y": [
            0,
            0,
            null,
            0,
            0,
            null,
            0,
            0.00010690252003734836,
            null,
            0.00010690252003734836,
            0.0002604239145314563,
            null,
            0.0002604239145314563,
            0.00040270802244206843,
            null,
            0.00040270802244206843,
            0.0004899411161648264,
            null,
            0.0004899411161648264,
            0.0004941689963391298,
            null,
            0.0004941689963391298,
            0.0004037882482219273,
            null,
            0.0004037882482219273,
            0.00022790930427290187,
            null,
            0.00022790930427290187,
            1.7898212240535138e-7,
            null,
            1.7898212240535138e-7,
            -0.00022756344006665346,
            null,
            -0.00022756344006665346,
            -0.00040347659168323333,
            null,
            -0.00040347659168323333,
            -0.0004939082003148496,
            null,
            -0.0004939082003148496,
            -0.0004897409484686874,
            null,
            -0.0004897409484686874,
            -0.00040257147232219525,
            null,
            -0.00040257147232219525,
            -0.00026034726756982786,
            null,
            -0.00026034726756982786,
            -0.00010687442125483147,
            null,
            -0.00010687442125483147,
            0,
            null,
            0,
            0,
            null,
            0,
            0,
            null
           ],
           "z": [
            0,
            0,
            null,
            0,
            0,
            null,
            0,
            -0.0015505911162449117,
            null,
            -0.0015505911162449117,
            -0.0042626456297449765,
            null,
            -0.0042626456297449765,
            -0.007659032479518226,
            null,
            -0.007659032479518226,
            -0.011311072738589351,
            null,
            -0.011311072738589351,
            -0.014841009953466718,
            null,
            -0.014841009953466718,
            -0.017854852837783538,
            null,
            -0.017854852837783538,
            -0.019919791389335476,
            null,
            -0.019919791389335476,
            -0.020659389986992474,
            null,
            -0.020659389986992474,
            -0.019919763188262416,
            null,
            -0.019919763188262416,
            -0.017854807166409033,
            null,
            -0.017854807166409033,
            -0.0148409605059612,
            null,
            -0.0148409605059612,
            -0.011311029621318908,
            null,
            -0.011311029621318908,
            -0.007659001218954211,
            null,
            -0.007659001218954211,
            -0.004262628223990955,
            null,
            -0.004262628223990955,
            -0.0015505855544768639,
            null,
            -0.0015505855544768639,
            0,
            null,
            0,
            0,
            null,
            0,
            0,
            null
           ]
          },
          {
           "i": [],
           "j": [],
           "k": [],
           "name": "Faces",
           "type": "mesh3d",
           "x": {
            "bdata": "fOkmMQisjD/e+X5qvHSTP/1+arx0k5g/dZ7lN5NvnT//xnXIMt2gP3ui9kcDvaI/yPHF3bJ7pD9oybIiB0umP89Trs/4VKg/RtXX3ISoqj8I4msgGi+tPz5+9Dqvta8/0LpWfJ0EsT9IqJlBlgmyP8WRZH9A8bI/rN+kh5jQsz9WbW8IgcC0PwVeNMc107U/CtejcD0Ktz9SuB6F61G4P5qZmZmZmbk/",
            "dtype": "f8"
           },
           "y": {
            "bdata": "AAAAAAAAAAAAAAAAAAAAAAAAAAAAAAAA0kpHTxsGHD+4oy0yMBExP1cTRslRZDo/LQsTiewNQD+o18fWYzFAP7dNFFJxdjo/t7ZABF7fLT/8puJlxwWIPoXq0RDD0y2/PVUXxDZxOr+DaabIMy9Avzs9uK0+DEC/sEPUTgdiOr915vP/5g8xv5KshpM4BBy/AAAAAAAAAAAAAAAAAAAAAAAAAAAAAAAA",
            "dtype": "f8"
           },
           "z": {
            "bdata": "AAAAAAAAAAAAAAAAAAAAAAAAAAAAAAAAWDKPiKZnWb/z4y85tXVxv8/oS+ATX3+/ypf1e0Iqh79ENR6j9mSOvz99DeSKSJK/Uck9ktpllL9E1GUxvCeVv8knwK3YZZS/8qhs04dIkr+OWR0A8GSOvz0SdrI8Koe/XEAWfAtff7+goBKNsHVxv1CQwI+gZ1m/AAAAAAAAAAAAAAAAAAAAAAAAAAAAAAAA",
            "dtype": "f8"
           }
          }
         ],
         "layout": {
          "annotations": [
           {
            "showarrow": false,
            "text": "Time: 0.38s (Step: 39/100)",
            "x": 0.05,
            "xref": "paper",
            "y": 0.95,
            "yref": "paper"
           }
          ]
         },
         "name": "38"
        },
        {
         "data": [
          {
           "name": "Free Nodes",
           "type": "scatter3d",
           "x": {
            "bdata": "zcbURZVvnT+clJW6N92gP7fK0CEPvaI/Wo1rXsZ7pD9SioB9H0umP8CaUNgPVag/UMLTB5Ooqj/HBdIZGi+tP8U8cQChta8/Qe3w7ZEEsT+eCvAIigmyP8FkFLU28bI/Pn8AlJLQsz8a/E6MfsC0P9hWC0M107U/",
            "dtype": "f8"
           },
           "y": {
            "bdata": "zADtqnAjHT/yk7L/Bb8xP0wUKrNDcTs/bBexQ6KxQD+aac6+rNZAPzRJGHQQhTs/dsJFdZ8SLz/DY8Oq7PGTPlDQrsNe/y6/mF1RWGl8O784c1wLEdNAv1jLAATgrkC/fdt7U4RtO7+ZLpRG7rwxvwqs60VjIB2/",
            "dtype": "f8"
           },
           "z": {
            "bdata": "WW3wZgdmWb93vhEiv3Rxv94iXsOhXX+/70AHrWEph78oDwOQAmSOv/uMniQNSJK/ZwXka1tllL+FgzOiPCeVv20v2plZZZS/BvhLOApIkr9/Zn5Q/GOOv3d0dk9cKYe/L4ijHJpdf78mgQr4unRxvwcbTlUCZlm/",
            "dtype": "f8"
           }
          },
          {
           "name": "Fixed Nodes",
           "type": "scatter3d",
           "x": {
            "bdata": "fOkmMQisjD/e+X5qvHSTP/1+arx0k5g/CtejcD0Ktz9SuB6F61G4P5qZmZmZmbk/",
            "dtype": "f8"
           },
           "y": {
            "bdata": "AAAAAAAAAAAAAAAAAAAAAAAAAAAAAAAAAAAAAAAAAAAAAAAAAAAAAAAAAAAAAAAA",
            "dtype": "f8"
           },
           "z": {
            "bdata": "AAAAAAAAAAAAAAAAAAAAAAAAAAAAAAAAAAAAAAAAAAAAAAAAAAAAAAAAAAAAAAAA",
            "dtype": "f8"
           }
          },
          {
           "name": "Edges",
           "type": "scatter3d",
           "x": [
            0.014000000000000005,
            0.01900000000000001,
            null,
            0.01900000000000001,
            0.02400000000000001,
            null,
            0.02400000000000001,
            0.02874596823421065,
            null,
            0.02874596823421065,
            0.03293775704040877,
            null,
            0.03293775704040877,
            0.03659865653789523,
            null,
            0.03659865653789523,
            0.04000682737912582,
            null,
            0.04000682737912582,
            0.043541893072206364,
            null,
            0.043541893072206364,
            0.04752397075235626,
            null,
            0.04752397075235626,
            0.0520673701338451,
            null,
            0.0520673701338451,
            0.05699998440924108,
            null,
            0.05699998440924108,
            0.06193259363555507,
            null,
            0.06193259363555507,
            0.0664759832297266,
            null,
            0.0664759832297266,
            0.0704580566235031,
            null,
            0.0704580566235031,
            0.07399312897577472,
            null,
            0.07399312897577472,
            0.07740131486252452,
            null,
            0.07740131486252452,
            0.08106223035336804,
            null,
            0.08106223035336804,
            0.0852540291483267,
            null,
            0.0852540291483267,
            0.09,
            null,
            0.09,
            0.095,
            null,
            0.095,
            0.1,
            null
           ],
           "y": [
            0,
            0,
            null,
            0,
            0,
            null,
            0,
            0.00011115431946695785,
            null,
            0.00011115431946695785,
            0.000270785297923403,
            null,
            0.000270785297923403,
            0.0004187383921492912,
            null,
            0.0004187383921492912,
            0.0005094568545096329,
            null,
            0.0005094568545096329,
            0.0005138724787799199,
            null,
            0.0005138724787799199,
            0.00041991855332059185,
            null,
            0.00041991855332059185,
            0.00023706623563725702,
            null,
            0.00023706623563725702,
            2.9720392081888124e-7,
            null,
            2.9720392081888124e-7,
            -0.000236492460172879,
            null,
            -0.000236492460172879,
            -0.00041940280818183453,
            null,
            -0.00041940280818183453,
            -0.0005134423470028798,
            null,
            -0.0005134423470028798,
            -0.0005091279817917944,
            null,
            -0.0005091279817917944,
            -0.00041851502054106993,
            null,
            -0.00041851502054106993,
            -0.0002706605651645405,
            null,
            -0.0002706605651645405,
            -0.00011110883631786097,
            null,
            -0.00011110883631786097,
            0,
            null,
            0,
            0,
            null,
            0,
            0,
            null
           ],
           "z": [
            0,
            0,
            null,
            0,
            0,
            null,
            0,
            -0.0015502044950668952,
            null,
            -0.0015502044950668952,
            -0.004261728871923879,
            null,
            -0.004261728871923879,
            -0.007657653701138327,
            null,
            -0.007657653701138327,
            -0.011309397786050527,
            null,
            -0.011309397786050527,
            -0.01483919145574182,
            null,
            -0.01483919145574182,
            -0.01785297904974657,
            null,
            -0.01785297904974657,
            -0.01991789670956248,
            null,
            -0.01991789670956248,
            -0.020657489204384944,
            null,
            -0.020657489204384944,
            -0.01991786958255608,
            null,
            -0.01991786958255608,
            -0.017852935491639264,
            null,
            -0.017852935491639264,
            -0.014839144903635358,
            null,
            -0.014839144903635358,
            -0.011309357810029603,
            null,
            -0.011309357810029603,
            -0.007657625197881087,
            null,
            -0.007657625197881087,
            -0.0042617133591707265,
            null,
            -0.0042617133591707265,
            -0.0015501997743016542,
            null,
            -0.0015501997743016542,
            0,
            null,
            0,
            0,
            null,
            0,
            0,
            null
           ]
          },
          {
           "i": [],
           "j": [],
           "k": [],
           "name": "Faces",
           "type": "mesh3d",
           "x": {
            "bdata": "fOkmMQisjD/e+X5qvHSTP/1+arx0k5g/zcbURZVvnT+clJW6N92gP7fK0CEPvaI/Wo1rXsZ7pD9SioB9H0umP8CaUNgPVag/UMLTB5Ooqj/HBdIZGi+tP8U8cQChta8/Qe3w7ZEEsT+eCvAIigmyP8FkFLU28bI/Pn8AlJLQsz8a/E6MfsC0P9hWC0M107U/CtejcD0Ktz9SuB6F61G4P5qZmZmZmbk/",
            "dtype": "f8"
           },
           "y": {
            "bdata": "AAAAAAAAAAAAAAAAAAAAAAAAAAAAAAAAzADtqnAjHT/yk7L/Bb8xP0wUKrNDcTs/bBexQ6KxQD+aac6+rNZAPzRJGHQQhTs/dsJFdZ8SLz/DY8Oq7PGTPlDQrsNe/y6/mF1RWGl8O784c1wLEdNAv1jLAATgrkC/fdt7U4RtO7+ZLpRG7rwxvwqs60VjIB2/AAAAAAAAAAAAAAAAAAAAAAAAAAAAAAAA",
            "dtype": "f8"
           },
           "z": {
            "bdata": "AAAAAAAAAAAAAAAAAAAAAAAAAAAAAAAAWW3wZgdmWb93vhEiv3Rxv94iXsOhXX+/70AHrWEph78oDwOQAmSOv/uMniQNSJK/ZwXka1tllL+FgzOiPCeVv20v2plZZZS/BvhLOApIkr9/Zn5Q/GOOv3d0dk9cKYe/L4ijHJpdf78mgQr4unRxvwcbTlUCZlm/AAAAAAAAAAAAAAAAAAAAAAAAAAAAAAAA",
            "dtype": "f8"
           }
          }
         ],
         "layout": {
          "annotations": [
           {
            "showarrow": false,
            "text": "Time: 0.39s (Step: 40/100)",
            "x": 0.05,
            "xref": "paper",
            "y": 0.95,
            "yref": "paper"
           }
          ]
         },
         "name": "39"
        },
        {
         "data": [
          {
           "name": "Free Nodes",
           "type": "scatter3d",
           "x": {
            "bdata": "KCwKaJdvnT8Fwl3dPN2gPweCCXAbvaI/eBlMntp7pD97PdXGOEumP/D9V8InVag/KYB6vaGoqj8uymETGi+tP/qsqjuSta8/tPsh74UEsT/YwFtZfQmyP9RjfIss8bI/0qxsZozQsz925Pv3e8C0P0T22bk007U/",
            "dtype": "f8"
           },
           "y": {
            "bdata": "utJvG2pAHj9iWnYoomwyP+EPVO3YfTw/B9Ie4RtVQT8lLo7ysXtBP+9MDqMokzw/0mkzy3oiMD9dAHRl3IaaPkpM41iuFTC/j6GyPaqHPL+gmKd96HZBv66LgkJ0UUG/VmDtFuR4PL9g7McM32kyv7bguOpkPB6/",
            "dtype": "f8"
           },
           "z": {
            "bdata": "064+cVhkWb+J9Aeqv3Nxv/EpqIwhXH+/VDnUTXgoh794FJMwBWOOvyVTSpqKR5K/L9TFa9dklL/jZk8zuCaVv7rSfajVZJS/8yOpy4dHkr+1OTRE/2KOv26d8UtzKIe/KPrSiBpcf79wExnxu3Nxv8V0QitUZFm/",
            "dtype": "f8"
           }
          },
          {
           "name": "Fixed Nodes",
           "type": "scatter3d",
           "x": {
            "bdata": "fOkmMQisjD/e+X5qvHSTP/1+arx0k5g/CtejcD0Ktz9SuB6F61G4P5qZmZmZmbk/",
            "dtype": "f8"
           },
           "y": {
            "bdata": "AAAAAAAAAAAAAAAAAAAAAAAAAAAAAAAAAAAAAAAAAAAAAAAAAAAAAAAAAAAAAAAA",
            "dtype": "f8"
           },
           "z": {
            "bdata": "AAAAAAAAAAAAAAAAAAAAAAAAAAAAAAAAAAAAAAAAAAAAAAAAAAAAAAAAAAAAAAAA",
            "dtype": "f8"
           }
          },
          {
           "name": "Edges",
           "type": "scatter3d",
           "x": [
            0.014000000000000005,
            0.01900000000000001,
            null,
            0.01900000000000001,
            0.02400000000000001,
            null,
            0.02400000000000001,
            0.028746000027734336,
            null,
            0.028746000027734336,
            0.03293791010117179,
            null,
            0.03293791010117179,
            0.036599023271950464,
            null,
            0.036599023271950464,
            0.040007430861851156,
            null,
            0.040007430861851156,
            0.04354264666710158,
            null,
            0.04354264666710158,
            0.04752468345031591,
            null,
            0.04752468345031591,
            0.05206780851335708,
            null,
            0.05206780851335708,
            0.05699998365971158,
            null,
            0.05699998365971158,
            0.06193215349534316,
            null,
            0.06193215349534316,
            0.06647526825143651,
            null,
            0.06647526825143651,
            0.07045730048753585,
            null,
            0.07045730048753585,
            0.07399252324502409,
            null,
            0.07399252324502409,
            0.07740094662283362,
            null,
            0.07740094662283362,
            0.08106207660957118,
            null,
            0.08106207660957118,
            0.08525399720562016,
            null,
            0.08525399720562016,
            0.09,
            null,
            0.09,
            0.095,
            null,
            0.095,
            0.1,
            null
           ],
           "y": [
            0,
            0,
            null,
            0,
            0,
            null,
            0,
            0.00011540076853562122,
            null,
            0.00011540076853562122,
            0.0002811332601252767,
            null,
            0.0002811332601252767,
            0.0004347471816148457,
            null,
            0.0004347471816148457,
            0.0005289446000831818,
            null,
            0.0005289446000831818,
            0.0005335444339932867,
            null,
            0.0005335444339932867,
            0.0004360174380561706,
            null,
            0.0004360174380561706,
            0.00024619577307097046,
            null,
            0.00024619577307097046,
            3.9528012991952237e-7,
            null,
            3.9528012991952237e-7,
            -0.00024543291591533746,
            null,
            -0.00024543291591533746,
            -0.0004353323581179008,
            null,
            -0.0004353323581179008,
            -0.0005329737862751656,
            null,
            -0.0005329737862751656,
            -0.0005285089182688241,
            null,
            -0.0005285089182688241,
            -0.00043445175736201347,
            null,
            -0.00043445175736201347,
            -0.00028096862368415763,
            null,
            -0.00028096862368415763,
            -0.00011534086177611671,
            null,
            -0.00011534086177611671,
            0,
            null,
            0,
            0,
            null,
            0,
            0,
            null
           ],
           "z": [
            0,
            0,
            null,
            0,
            0,
            null,
            0,
            -0.0015498031325291053,
            null,
            -0.0015498031325291053,
            -0.0042607771761115154,
            null,
            -0.0042607771761115154,
            -0.0076562223935163634,
            null,
            -0.0076562223935163634,
            -0.011307659030106144,
            null,
            -0.011307659030106144,
            -0.01483730368125634,
            null,
            -0.01483730368125634,
            -0.017851033846983406,
            null,
            -0.017851033846983406,
            -0.019915929749419966,
            null,
            -0.019915929749419966,
            -0.020655515796398027,
            null,
            -0.020655515796398027,
            -0.019915903481392695,
            null,
            -0.019915903481392695,
            -0.01785099201723379,
            null,
            -0.01785099201723379,
            -0.014837259549065654,
            null,
            -0.014837259549065654,
            -0.011307621722336871,
            null,
            -0.011307621722336871,
            -0.00765619626071027,
            null,
            -0.00765619626071027,
            -0.004260763309109503,
            null,
            -0.004260763309109503,
            -0.001549799152633911,
            null,
            -0.001549799152633911,
            0,
            null,
            0,
            0,
            null,
            0,
            0,
            null
           ]
          },
          {
           "i": [],
           "j": [],
           "k": [],
           "name": "Faces",
           "type": "mesh3d",
           "x": {
            "bdata": "fOkmMQisjD/e+X5qvHSTP/1+arx0k5g/KCwKaJdvnT8Fwl3dPN2gPweCCXAbvaI/eBlMntp7pD97PdXGOEumP/D9V8InVag/KYB6vaGoqj8uymETGi+tP/qsqjuSta8/tPsh74UEsT/YwFtZfQmyP9RjfIss8bI/0qxsZozQsz925Pv3e8C0P0T22bk007U/CtejcD0Ktz9SuB6F61G4P5qZmZmZmbk/",
            "dtype": "f8"
           },
           "y": {
            "bdata": "AAAAAAAAAAAAAAAAAAAAAAAAAAAAAAAAutJvG2pAHj9iWnYoomwyP+EPVO3YfTw/B9Ie4RtVQT8lLo7ysXtBP+9MDqMokzw/0mkzy3oiMD9dAHRl3IaaPkpM41iuFTC/j6GyPaqHPL+gmKd96HZBv66LgkJ0UUG/VmDtFuR4PL9g7McM32kyv7bguOpkPB6/AAAAAAAAAAAAAAAAAAAAAAAAAAAAAAAA",
            "dtype": "f8"
           },
           "z": {
            "bdata": "AAAAAAAAAAAAAAAAAAAAAAAAAAAAAAAA064+cVhkWb+J9Aeqv3Nxv/EpqIwhXH+/VDnUTXgoh794FJMwBWOOvyVTSpqKR5K/L9TFa9dklL/jZk8zuCaVv7rSfajVZJS/8yOpy4dHkr+1OTRE/2KOv26d8UtzKIe/KPrSiBpcf79wExnxu3Nxv8V0QitUZFm/AAAAAAAAAAAAAAAAAAAAAAAAAAAAAAAA",
            "dtype": "f8"
           }
          }
         ],
         "layout": {
          "annotations": [
           {
            "showarrow": false,
            "text": "Time: 0.40s (Step: 41/100)",
            "x": 0.05,
            "xref": "paper",
            "y": 0.95,
            "yref": "paper"
           }
          ]
         },
         "name": "40"
        },
        {
         "data": [
          {
           "name": "Free Nodes",
           "type": "scatter3d",
           "x": {
            "bdata": "MAoJnplvnT/Xt9svQt2gP0l8tzAovaI/OZ2vmu97pD+nNK/7UkumP3hMG4tAVag/qwTi+7Coqj+nAt0LGi+tP3ZjmuuCta8/n91Kf3kEsT+mlBYycAmyPzeO0AEi8bI/HOtH/oXQsz8w4RxLecC0P5u4his007U/",
            "dtype": "f8"
           },
           "y": {
            "bdata": "9xjp4/9cHz+oprx//xkzP4dX9XUIij0/Y0559FL4QT9VtkRSayBCPxe1xBunoD0/HUhHOhy7MD959lmXI3OfPsQlFUjwqzC/JLmdewiTPb+7gRf4vxpCv4fzrI//80G/amVKzCuEPb8rHlX7uxYzv6dNkA1BWB+/",
            "dtype": "f8"
           },
           "z": {
            "bdata": "gHaP0ZliWb+gfG3qtnJxv4PT5GKTWn+/ErkIdoYnh7800aGd/mGOv/hDOVADR5K/kozqmU5klL8YPk7oLiaVvwXNs9hMZJS/He4qiQBHkr8Vc0nP+GGOv6AG3JuBJ4e//YfQrIxaf7+mnUdrs3Jxv0XR8PuVYlm/",
            "dtype": "f8"
           }
          },
          {
           "name": "Fixed Nodes",
           "type": "scatter3d",
           "x": {
            "bdata": "fOkmMQisjD/e+X5qvHSTP/1+arx0k5g/CtejcD0Ktz9SuB6F61G4P5qZmZmZmbk/",
            "dtype": "f8"
           },
           "y": {
            "bdata": "AAAAAAAAAAAAAAAAAAAAAAAAAAAAAAAAAAAAAAAAAAAAAAAAAAAAAAAAAAAAAAAA",
            "dtype": "f8"
           },
           "z": {
            "bdata": "AAAAAAAAAAAAAAAAAAAAAAAAAAAAAAAAAAAAAAAAAAAAAAAAAAAAAAAAAAAAAAAA",
            "dtype": "f8"
           }
          },
          {
           "name": "Edges",
           "type": "scatter3d",
           "x": [
            0.014000000000000005,
            0.01900000000000001,
            null,
            0.01900000000000001,
            0.02400000000000001,
            null,
            0.02400000000000001,
            0.02874603297301287,
            null,
            0.02874603297301287,
            0.0329380687161202,
            null,
            0.0329380687161202,
            0.036599403330676746,
            null,
            0.036599403330676746,
            0.04000805629021404,
            null,
            0.04000805629021404,
            0.043543427680199635,
            null,
            0.043543427680199635,
            0.04752542207793281,
            null,
            0.04752542207793281,
            0.052068262813017206,
            null,
            0.052068262813017206,
            0.056999982784423246,
            null,
            0.056999982784423246,
            0.06193169713987505,
            null,
            0.06193169713987505,
            0.06647452695584953,
            null,
            0.06647452695584953,
            0.07045651648384652,
            null,
            0.07045651648384652,
            0.07399189514449565,
            null,
            0.07399189514449565,
            0.07740056474714802,
            null,
            0.07740056474714802,
            0.08106191715058197,
            null,
            0.08106191715058197,
            0.08525396406796164,
            null,
            0.08525396406796164,
            0.09,
            null,
            0.09,
            0.095,
            null,
            0.095,
            0.1,
            null
           ],
           "y": [
            0,
            0,
            null,
            0,
            0,
            null,
            0,
            0.00011964141683859843,
            null,
            0.00011964141683859843,
            0.0002914665962970666,
            null,
            0.0002914665962970666,
            0.0004507322937191628,
            null,
            0.0004507322937191628,
            0.0005484013608544998,
            null,
            0.0005484013608544998,
            0.0005531810789187278,
            null,
            0.0005531810789187278,
            0.00045208053394925465,
            null,
            0.00045208053394925465,
            0.0002552932658349565,
            null,
            0.0002552932658349565,
            4.686379705200291e-7,
            null,
            4.686379705200291e-7,
            -0.00025438896416981834,
            null,
            -0.00025438896416981834,
            -0.00045126874066782536,
            null,
            -0.00045126874066782536,
            -0.0005525052403605937,
            null,
            -0.0005525052403605937,
            -0.0005478856904584808,
            null,
            -0.0005478856904584808,
            -0.00045038289344175606,
            null,
            -0.00045038289344175606,
            -0.00029127206228849134,
            null,
            -0.00029127206228849134,
            -0.00011957070400141785,
            null,
            -0.00011957070400141785,
            0,
            null,
            0,
            0,
            null,
            0,
            0,
            null
           ],
           "z": [
            0,
            0,
            null,
            0,
            0,
            null,
            0,
            -0.0015493871817321703,
            null,
            -0.0015493871817321703,
            -0.004259790911276401,
            null,
            -0.004259790911276401,
            -0.007654739120245393,
            null,
            -0.007654739120245393,
            -0.011305857159723352,
            null,
            -0.011305857159723352,
            -0.014835347352552299,
            null,
            -0.014835347352552299,
            -0.017849017878976497,
            null,
            -0.017849017878976497,
            -0.01991389097623803,
            null,
            -0.01991389097623803,
            -0.020653469971476296,
            null,
            -0.020653469971476296,
            -0.01991386482854997,
            null,
            -0.01991386482854997,
            -0.0178489764900701,
            null,
            -0.0178489764900701,
            -0.014835304094214,
            null,
            -0.014835304094214,
            -0.011305821007684458,
            null,
            -0.011305821007684458,
            -0.007654714118901393,
            null,
            -0.007654714118901393,
            -0.004259777885159554,
            null,
            -0.004259777885159554,
            -0.0015493836106204733,
            null,
            -0.0015493836106204733,
            0,
            null,
            0,
            0,
            null,
            0,
            0,
            null
           ]
          },
          {
           "i": [],
           "j": [],
           "k": [],
           "name": "Faces",
           "type": "mesh3d",
           "x": {
            "bdata": "fOkmMQisjD/e+X5qvHSTP/1+arx0k5g/MAoJnplvnT/Xt9svQt2gP0l8tzAovaI/OZ2vmu97pD+nNK/7UkumP3hMG4tAVag/qwTi+7Coqj+nAt0LGi+tP3ZjmuuCta8/n91Kf3kEsT+mlBYycAmyPzeO0AEi8bI/HOtH/oXQsz8w4RxLecC0P5u4his007U/CtejcD0Ktz9SuB6F61G4P5qZmZmZmbk/",
            "dtype": "f8"
           },
           "y": {
            "bdata": "AAAAAAAAAAAAAAAAAAAAAAAAAAAAAAAA9xjp4/9cHz+oprx//xkzP4dX9XUIij0/Y0559FL4QT9VtkRSayBCPxe1xBunoD0/HUhHOhy7MD959lmXI3OfPsQlFUjwqzC/JLmdewiTPb+7gRf4vxpCv4fzrI//80G/amVKzCuEPb8rHlX7uxYzv6dNkA1BWB+/AAAAAAAAAAAAAAAAAAAAAAAAAAAAAAAA",
            "dtype": "f8"
           },
           "z": {
            "bdata": "AAAAAAAAAAAAAAAAAAAAAAAAAAAAAAAAgHaP0ZliWb+gfG3qtnJxv4PT5GKTWn+/ErkIdoYnh7800aGd/mGOv/hDOVADR5K/kozqmU5klL8YPk7oLiaVvwXNs9hMZJS/He4qiQBHkr8Vc0nP+GGOv6AG3JuBJ4e//YfQrIxaf7+mnUdrs3Jxv0XR8PuVYlm/AAAAAAAAAAAAAAAAAAAAAAAAAAAAAAAA",
            "dtype": "f8"
           }
          }
         ],
         "layout": {
          "annotations": [
           {
            "showarrow": false,
            "text": "Time: 0.41s (Step: 42/100)",
            "x": 0.05,
            "xref": "paper",
            "y": 0.95,
            "yref": "paper"
           }
          ]
         },
         "name": "41"
        },
        {
         "data": [
          {
           "name": "Free Nodes",
           "type": "scatter3d",
           "x": {
            "bdata": "xwW/55tvnT/+beKxR92gP7QnbmM1vaI/76biUgV8pD/AwywbbkumP1y9wTFaVag/jW59wsCoqj98fC8DGi+tP8t0nxBzta8/0li7nmwEsT/VAnGTYgmyP0Y0TBgX8bI/A+uxW3/Qsz+UebyFdsC0P6/cEpgz07U/",
            "dtype": "f8"
           },
           "y": {
            "bdata": "+pdPLJY8ID+j2HxKGsczP3Je2e3LlT4/MM0cCkObQj/MCK9d08RCP/005Xx/rT4/4nTyPCdTMT+YbZoQE0OhPptYW89/QjG/bHJdooyePr+js8ymmr5Cv2EtBQyElkK/raWy712PPr98u3A8hsMzv2XFJor8OSC/",
            "dtype": "f8"
           },
           "z": {
            "bdata": "EBJgnMtgWb9K3LXvpHFxv6qHMVn3WH+/7YtZMYwmh7/f6Zvj7mCOv2ZZUEx3RpK/ILlS+8BjlL9ncebEoCWVv+XczSy/Y5S/EAX7cXRGkr8rraby6GCOvwSAjD+HJoe/3zgSifBYf7+EJvdmoXFxv6ja+8fHYFm/",
            "dtype": "f8"
           }
          },
          {
           "name": "Fixed Nodes",
           "type": "scatter3d",
           "x": {
            "bdata": "fOkmMQisjD/e+X5qvHSTP/1+arx0k5g/CtejcD0Ktz9SuB6F61G4P5qZmZmZmbk/",
            "dtype": "f8"
           },
           "y": {
            "bdata": "AAAAAAAAAAAAAAAAAAAAAAAAAAAAAAAAAAAAAAAAAAAAAAAAAAAAAAAAAAAAAAAA",
            "dtype": "f8"
           },
           "z": {
            "bdata": "AAAAAAAAAAAAAAAAAAAAAAAAAAAAAAAAAAAAAAAAAAAAAAAAAAAAAAAAAAAAAAAA",
            "dtype": "f8"
           }
          },
          {
           "name": "Edges",
           "type": "scatter3d",
           "x": [
            0.014000000000000005,
            0.01900000000000001,
            null,
            0.01900000000000001,
            0.02400000000000001,
            null,
            0.02400000000000001,
            0.028746067065872596,
            null,
            0.028746067065872596,
            0.032938232864776026,
            null,
            0.032938232864776026,
            0.036599796664702394,
            null,
            0.036599796664702394,
            0.04000870358261276,
            null,
            0.04000870358261276,
            0.04354423600887669,
            null,
            0.04354423600887669,
            0.04752618653662452,
            null,
            0.04752618653662452,
            0.05206873296876067,
            null,
            0.05206873296876067,
            0.05699998177419105,
            null,
            0.05699998177419105,
            0.06193122461238828,
            null,
            0.06193122461238828,
            0.0664737594155185,
            null,
            0.0664737594155185,
            0.07045570468563807,
            null,
            0.07045570468563807,
            0.07399124472813509,
            null,
            0.07399124472813509,
            0.07740016926429054,
            null,
            0.07740016926429054,
            0.08106175198597604,
            null,
            0.08106175198597604,
            0.08525392973648381,
            null,
            0.08525392973648381,
            0.09,
            null,
            0.09,
            0.095,
            null,
            0.095,
            0.1,
            null
           ],
           "y": [
            0,
            0,
            null,
            0,
            0,
            null,
            0,
            0.00012387593429180594,
            null,
            0.00012387593429180594,
            0.0003017844378406886,
            null,
            0.0003017844378406886,
            0.0004666922448896888,
            null,
            0.0004666922448896888,
            0.0005678250638311618,
            null,
            0.0005678250638311618,
            0.0005727798519432835,
            null,
            0.0005727798519432835,
            0.00046810495850453643,
            null,
            0.00046810495850453643,
            0.0002643557354050208,
            null,
            0.0002643557354050208,
            5.144479768461614e-7,
            null,
            5.144479768461614e-7,
            -0.0002633630786993497,
            null,
            -0.0002633630786993497,
            -0.00046721394970975524,
            null,
            -0.00046721394970975524,
            -0.0005720381865096279,
            null,
            -0.0005720381865096279,
            -0.0005672592888372013,
            null,
            -0.0005672592888372013,
            -0.00046630900733165664,
            null,
            -0.00046630900733165664,
            -0.0003015711521951387,
            null,
            -0.0003015711521951387,
            -0.0001237984443612047,
            null,
            -0.0001237984443612047,
            0,
            null,
            0,
            0,
            null,
            0,
            0,
            null
           ],
           "z": [
            0,
            0,
            null,
            0,
            0,
            null,
            0,
            -0.0015489567172163356,
            null,
            -0.0015489567172163356,
            -0.004258770258608166,
            null,
            -0.004258770258608166,
            -0.007653204159483376,
            null,
            -0.007653204159483376,
            -0.011303992515598405,
            null,
            -0.011303992515598405,
            -0.014833322831226901,
            null,
            -0.014833322831226901,
            -0.017846931488827343,
            null,
            -0.017846931488827343,
            -0.01991178068117805,
            null,
            -0.01991178068117805,
            -0.020651351945717347,
            null,
            -0.020651351945717347,
            -0.019911753759029777,
            null,
            -0.019911753759029777,
            -0.01784688897783321,
            null,
            -0.01784688897783321,
            -0.014833278565524374,
            null,
            -0.014833278565524374,
            -0.011303955675941786,
            null,
            -0.011303955675941786,
            -0.007653178779163577,
            null,
            -0.007653178779163577,
            -0.0042587570928361886,
            null,
            -0.0042587570928361886,
            -0.0015489531505729435,
            null,
            -0.0015489531505729435,
            0,
            null,
            0,
            0,
            null,
            0,
            0,
            null
           ]
          },
          {
           "i": [],
           "j": [],
           "k": [],
           "name": "Faces",
           "type": "mesh3d",
           "x": {
            "bdata": "fOkmMQisjD/e+X5qvHSTP/1+arx0k5g/xwW/55tvnT/+beKxR92gP7QnbmM1vaI/76biUgV8pD/AwywbbkumP1y9wTFaVag/jW59wsCoqj98fC8DGi+tP8t0nxBzta8/0li7nmwEsT/VAnGTYgmyP0Y0TBgX8bI/A+uxW3/Qsz+UebyFdsC0P6/cEpgz07U/CtejcD0Ktz9SuB6F61G4P5qZmZmZmbk/",
            "dtype": "f8"
           },
           "y": {
            "bdata": "AAAAAAAAAAAAAAAAAAAAAAAAAAAAAAAA+pdPLJY8ID+j2HxKGsczP3Je2e3LlT4/MM0cCkObQj/MCK9d08RCP/005Xx/rT4/4nTyPCdTMT+YbZoQE0OhPptYW89/QjG/bHJdooyePr+js8ymmr5Cv2EtBQyElkK/raWy712PPr98u3A8hsMzv2XFJor8OSC/AAAAAAAAAAAAAAAAAAAAAAAAAAAAAAAA",
            "dtype": "f8"
           },
           "z": {
            "bdata": "AAAAAAAAAAAAAAAAAAAAAAAAAAAAAAAAEBJgnMtgWb9K3LXvpHFxv6qHMVn3WH+/7YtZMYwmh7/f6Zvj7mCOv2ZZUEx3RpK/ILlS+8BjlL9ncebEoCWVv+XczSy/Y5S/EAX7cXRGkr8rraby6GCOvwSAjD+HJoe/3zgSifBYf7+EJvdmoXFxv6ja+8fHYFm/AAAAAAAAAAAAAAAAAAAAAAAAAAAAAAAA",
            "dtype": "f8"
           }
          }
         ],
         "layout": {
          "annotations": [
           {
            "showarrow": false,
            "text": "Time: 0.42s (Step: 43/100)",
            "x": 0.05,
            "xref": "paper",
            "y": 0.95,
            "yref": "paper"
           }
          ]
         },
         "name": "42"
        },
        {
         "data": [
          {
           "name": "Free Nodes",
           "type": "scatter3d",
           "x": {
            "bdata": "bXBCRZ5vnT+wA5BjTd2gP4oYUQhDvaI/MVr0xht8pD8zIzglikumP/UrILZ0Vag/Ke9DEdGoqj/CPLr5GS+tP2dbqqtita8/ltkkTl8EsT9v/Cx+VAmyP5hLlc8L8bI/BEwYf3jQsz80Ww2oc8C0P0Rgiv8y07U/",
            "dtype": "f8"
           },
           "y": {
            "bdata": "gbem7XXKID+kwKg98HM0P6sAmZcfoT8/VsmAqek9Qz/lm7E652hDP5rIgeOruT8/yYybZ5bqMT/eyQraK9ehPgUizPhf2TG/0mKeYziqP78oMVnVeGJDv0J3xaMBOUO/vPsF/3maP78i5LtPPXA0vy0pl/zFxyC/",
            "dtype": "f8"
           },
           "z": {
            "bdata": "Ioad3O1eWb+CdpbAiXBxvyAl5nlNV3+/poYghoklh79PsWoJ1l+OvwWuKJLmRZK/WDbAky5jlL+iSAbNDSWVv2izy6gsY5S/A9n8ieNFkr/qNI21z1+OvzH2eT2EJYe/AtEZKEZXf7+z3yDrhXBxv4d/B5vpXlm/",
            "dtype": "f8"
           }
          },
          {
           "name": "Fixed Nodes",
           "type": "scatter3d",
           "x": {
            "bdata": "fOkmMQisjD/e+X5qvHSTP/1+arx0k5g/CtejcD0Ktz9SuB6F61G4P5qZmZmZmbk/",
            "dtype": "f8"
           },
           "y": {
            "bdata": "AAAAAAAAAAAAAAAAAAAAAAAAAAAAAAAAAAAAAAAAAAAAAAAAAAAAAAAAAAAAAAAA",
            "dtype": "f8"
           },
           "z": {
            "bdata": "AAAAAAAAAAAAAAAAAAAAAAAAAAAAAAAAAAAAAAAAAAAAAAAAAAAAAAAAAAAAAAAA",
            "dtype": "f8"
           }
          },
          {
           "name": "Edges",
           "type": "scatter3d",
           "x": [
            0.014000000000000005,
            0.01900000000000001,
            null,
            0.01900000000000001,
            0.02400000000000001,
            null,
            0.02400000000000001,
            0.028746102311388123,
            null,
            0.028746102311388123,
            0.03293840256083713,
            null,
            0.03293840256083713,
            0.036600203290206926,
            null,
            0.036600203290206926,
            0.040009372745931755,
            null,
            0.040009372745931755,
            0.04354507164322854,
            null,
            0.04354507164322854,
            0.047526976806771794,
            null,
            0.047526976806771794,
            0.052069218976582406,
            null,
            0.052069218976582406,
            0.05699998067313451,
            null,
            0.05699998067313451,
            0.06193073602223969,
            null,
            0.06193073602223969,
            0.0664729657918087,
            null,
            0.0664729657918087,
            0.07045486526929932,
            null,
            0.07045486526929932,
            0.07399057214688154,
            null,
            0.07399057214688154,
            0.07739976027396273,
            null,
            0.07739976027396273,
            0.08106158116184475,
            null,
            0.08106158116184475,
            0.08525389422209267,
            null,
            0.08525389422209267,
            0.09,
            null,
            0.09,
            0.095,
            null,
            0.095,
            0.1,
            null
           ],
           "y": [
            0,
            0,
            null,
            0,
            0,
            null,
            0,
            0.00012810411028623891,
            null,
            0.00012810411028623891,
            0.000312086250832353,
            null,
            0.000312086250832353,
            0.0004826261643735656,
            null,
            0.0004826261643735656,
            0.0005872145584418325,
            null,
            0.0005872145584418325,
            0.0005923394250090223,
            null,
            0.0005923394250090223,
            0.00048408934117739335,
            null,
            0.00048408934117739335,
            0.0002733819197670682,
            null,
            0.0002733819197670682,
            5.31688716240351e-7,
            null,
            5.31688716240351e-7,
            -0.00027235596716981863,
            null,
            -0.00027235596716981863,
            -0.00048316837966803667,
            null,
            -0.00048316837966803667,
            -0.0005915727621839438,
            null,
            -0.0005915727621839438,
            -0.0005866296774390339,
            null,
            -0.0005866296774390339,
            -0.0004822299806831983,
            null,
            -0.0004822299806831983,
            -0.0003118657766517115,
            null,
            -0.0003118657766517115,
            -0.0001280240233383993,
            null,
            -0.0001280240233383993,
            0,
            null,
            0,
            0,
            null,
            0,
            0,
            null
           ],
           "z": [
            0,
            0,
            null,
            0,
            0,
            null,
            0,
            -0.0015485117787296184,
            null,
            -0.0015485117787296184,
            -0.00425771531572894,
            null,
            -0.00425771531572894,
            -0.007651617661744298,
            null,
            -0.007651617661744298,
            -0.011302065282566897,
            null,
            -0.011302065282566897,
            -0.014831230318428949,
            null,
            -0.014831230318428949,
            -0.01784477488597071,
            null,
            -0.01784477488597071,
            -0.01990959908294196,
            null,
            -0.01990959908294196,
            -0.020649161947922885,
            null,
            -0.020649161947922885,
            -0.01990957050559264,
            null,
            -0.01990957050559264,
            -0.017844729706859585,
            null,
            -0.017844729706859585,
            -0.014831183174147406,
            null,
            -0.014831183174147406,
            -0.011302025915251953,
            null,
            -0.011302025915251953,
            -0.00765159039439234,
            null,
            -0.00765159039439234,
            -0.004257701033615935,
            null,
            -0.004257701033615935,
            -0.0015485078148387026,
            null,
            -0.0015485078148387026,
            0,
            null,
            0,
            0,
            null,
            0,
            0,
            null
           ]
          },
          {
           "i": [],
           "j": [],
           "k": [],
           "name": "Faces",
           "type": "mesh3d",
           "x": {
            "bdata": "fOkmMQisjD/e+X5qvHSTP/1+arx0k5g/bXBCRZ5vnT+wA5BjTd2gP4oYUQhDvaI/MVr0xht8pD8zIzglikumP/UrILZ0Vag/Ke9DEdGoqj/CPLr5GS+tP2dbqqtita8/ltkkTl8EsT9v/Cx+VAmyP5hLlc8L8bI/BEwYf3jQsz80Ww2oc8C0P0Rgiv8y07U/CtejcD0Ktz9SuB6F61G4P5qZmZmZmbk/",
            "dtype": "f8"
           },
           "y": {
            "bdata": "AAAAAAAAAAAAAAAAAAAAAAAAAAAAAAAAgbem7XXKID+kwKg98HM0P6sAmZcfoT8/VsmAqek9Qz/lm7E652hDP5rIgeOruT8/yYybZ5bqMT/eyQraK9ehPgUizPhf2TG/0mKeYziqP78oMVnVeGJDv0J3xaMBOUO/vPsF/3maP78i5LtPPXA0vy0pl/zFxyC/AAAAAAAAAAAAAAAAAAAAAAAAAAAAAAAA",
            "dtype": "f8"
           },
           "z": {
            "bdata": "AAAAAAAAAAAAAAAAAAAAAAAAAAAAAAAAIoad3O1eWb+CdpbAiXBxvyAl5nlNV3+/poYghoklh79PsWoJ1l+OvwWuKJLmRZK/WDbAky5jlL+iSAbNDSWVv2izy6gsY5S/A9n8ieNFkr/qNI21z1+OvzH2eT2EJYe/AtEZKEZXf7+z3yDrhXBxv4d/B5vpXlm/AAAAAAAAAAAAAAAAAAAAAAAAAAAAAAAA",
            "dtype": "f8"
           }
          }
         ],
         "layout": {
          "annotations": [
           {
            "showarrow": false,
            "text": "Time: 0.43s (Step: 44/100)",
            "x": 0.05,
            "xref": "paper",
            "y": 0.95,
            "yref": "paper"
           }
          ]
         },
         "name": "43"
        },
        {
         "data": [
          {
           "name": "Free Nodes",
           "type": "scatter3d",
           "x": {
            "bdata": "CkWgtqBvnT/pqvBEU92gP0FBYB9RvaI/0wTC9jJ8pD/ThIUZp0umPzWt3BeQVag/kX4L6OGoqj95zcfvGS+tPwnClr1Rta8/RoMrjlEEsT80MvzyRQmyP7OlQSgA8bI/m2HcaHHQsz/WrDuycMC0P1p492Ey07U/",
            "dtype": "f8"
           },
           "y": {
            "bdata": "Q14ecx5YIT9YeCqDgCA1PxV30i0BVkA/VBGBVEbgQz9y14GvpgxEP5TTuGiWYkA/2SyHhWuBMj/9bT/ONXyhPpniz3GMcDK/PTbFZANbQL9KVnoGWAZEv5XAHCF220O/rnshSb5SQL+0K1UX3xw1v4t8Zy57VSG/",
            "dtype": "f8"
           },
           "z": {
            "bdata": "3e6fnABdWb/oY2FjZW9xv+q/s86VVX+/V29Ren4kh7+O5J0VtF6Ov92+RSVRRZK/kc8BZ5dilL/hw88EdiSVv3shB1GVYpS/RmSP1U1Fkr86LV4grV6OvwbaOJ14JIe/ueI/lo1Vf7/Oxez/YG9xv0BwpYL7XFm/",
            "dtype": "f8"
           }
          },
          {
           "name": "Fixed Nodes",
           "type": "scatter3d",
           "x": {
            "bdata": "fOkmMQisjD/e+X5qvHSTP/1+arx0k5g/CtejcD0Ktz9SuB6F61G4P5qZmZmZmbk/",
            "dtype": "f8"
           },
           "y": {
            "bdata": "AAAAAAAAAAAAAAAAAAAAAAAAAAAAAAAAAAAAAAAAAAAAAAAAAAAAAAAAAAAAAAAA",
            "dtype": "f8"
           },
           "z": {
            "bdata": "AAAAAAAAAAAAAAAAAAAAAAAAAAAAAAAAAAAAAAAAAAAAAAAAAAAAAAAAAAAAAAAA",
            "dtype": "f8"
           }
          },
          {
           "name": "Edges",
           "type": "scatter3d",
           "x": [
            0.014000000000000005,
            0.01900000000000001,
            null,
            0.01900000000000001,
            0.02400000000000001,
            null,
            0.02400000000000001,
            0.028746138712510784,
            null,
            0.028746138712510784,
            0.032938577809849275,
            null,
            0.032938577809849275,
            0.03660062320716629,
            null,
            0.03660062320716629,
            0.04001006376439311,
            null,
            0.04001006376439311,
            0.04354593454878288,
            null,
            0.04354593454878288,
            0.047527792847484575,
            null,
            0.047527792847484575,
            0.05206972081736894,
            null,
            0.05206972081736894,
            0.056999979515150075,
            null,
            0.056999979515150075,
            0.06193023146932226,
            null,
            0.06193023146932226,
            0.06647214623400285,
            null,
            0.06647214623400285,
            0.07045399839643879,
            null,
            0.07045399839643879,
            0.07398987753699408,
            null,
            0.07398987753699408,
            0.07739933786468216,
            null,
            0.07739933786468216,
            0.08106140471834364,
            null,
            0.08106140471834364,
            0.08525385753407147,
            null,
            0.08525385753407147,
            0.09,
            null,
            0.09,
            0.095,
            null,
            0.095,
            0.1,
            null
           ],
           "y": [
            0,
            0,
            null,
            0,
            0,
            null,
            0,
            0.00013232585621091212,
            null,
            0.00013232585621091212,
            0.0003223718405623902,
            null,
            0.0003223718405623902,
            0.0004985337979126226,
            null,
            0.0004985337979126226,
            0.0006065696152366775,
            null,
            0.0006065696152366775,
            0.000611859692994028,
            null,
            0.000611859692994028,
            0.0005000338000572418,
            null,
            0.0005000338000572418,
            0.0002823722366229304,
            null,
            0.0002823722366229304,
            5.210994484765977e-7,
            null,
            5.210994484765977e-7,
            -0.000281366623141413,
            null,
            -0.000281366623141413,
            -0.000499130875633198,
            null,
            -0.000499130875633198,
            -0.0006111078082137813,
            null,
            -0.0006111078082137813,
            -0.0006059958270494709,
            null,
            -0.0006059958270494709,
            -0.0004981450204118909,
            null,
            -0.0004981450204118909,
            -0.00032215544282071106,
            null,
            -0.00032215544282071106,
            -0.0001322472446209959,
            null,
            -0.0001322472446209959,
            0,
            null,
            0,
            0,
            null,
            0,
            0,
            null
           ],
           "z": [
            0,
            0,
            null,
            0,
            0,
            null,
            0,
            -0.0015480524039039247,
            null,
            -0.0015480524039039247,
            -0.004256626174616841,
            null,
            -0.004256626174616841,
            -0.007649979768061125,
            null,
            -0.007649979768061125,
            -0.011300075633861857,
            null,
            -0.011300075633861857,
            -0.014829070005122593,
            null,
            -0.014829070005122593,
            -0.017842548274926585,
            null,
            -0.017842548274926585,
            -0.019907346403172325,
            null,
            -0.019907346403172325,
            -0.020646900218654344,
            null,
            -0.020646900218654344,
            -0.01990731532149102,
            null,
            -0.01990731532149102,
            -0.017842498931575322,
            null,
            -0.017842498931575322,
            -0.014829018163956865,
            null,
            -0.014829018163956865,
            -0.011300031946217547,
            null,
            -0.011300031946217547,
            -0.0076499491442453766,
            null,
            -0.0076499491442453766,
            -0.004256609826187098,
            null,
            -0.004256609826187098,
            -0.0015480476527818393,
            null,
            -0.0015480476527818393,
            0,
            null,
            0,
            0,
            null,
            0,
            0,
            null
           ]
          },
          {
           "i": [],
           "j": [],
           "k": [],
           "name": "Faces",
           "type": "mesh3d",
           "x": {
            "bdata": "fOkmMQisjD/e+X5qvHSTP/1+arx0k5g/CkWgtqBvnT/pqvBEU92gP0FBYB9RvaI/0wTC9jJ8pD/ThIUZp0umPzWt3BeQVag/kX4L6OGoqj95zcfvGS+tPwnClr1Rta8/RoMrjlEEsT80MvzyRQmyP7OlQSgA8bI/m2HcaHHQsz/WrDuycMC0P1p492Ey07U/CtejcD0Ktz9SuB6F61G4P5qZmZmZmbk/",
            "dtype": "f8"
           },
           "y": {
            "bdata": "AAAAAAAAAAAAAAAAAAAAAAAAAAAAAAAAQ14ecx5YIT9YeCqDgCA1PxV30i0BVkA/VBGBVEbgQz9y14GvpgxEP5TTuGiWYkA/2SyHhWuBMj/9bT/ONXyhPpniz3GMcDK/PTbFZANbQL9KVnoGWAZEv5XAHCF220O/rnshSb5SQL+0K1UX3xw1v4t8Zy57VSG/AAAAAAAAAAAAAAAAAAAAAAAAAAAAAAAA",
            "dtype": "f8"
           },
           "z": {
            "bdata": "AAAAAAAAAAAAAAAAAAAAAAAAAAAAAAAA3e6fnABdWb/oY2FjZW9xv+q/s86VVX+/V29Ren4kh7+O5J0VtF6Ov92+RSVRRZK/kc8BZ5dilL/hw88EdiSVv3shB1GVYpS/RmSP1U1Fkr86LV4grV6OvwbaOJ14JIe/ueI/lo1Vf7/Oxez/YG9xv0BwpYL7XFm/AAAAAAAAAAAAAAAAAAAAAAAAAAAAAAAA",
            "dtype": "f8"
           }
          }
         ],
         "layout": {
          "annotations": [
           {
            "showarrow": false,
            "text": "Time: 0.44s (Step: 45/100)",
            "x": 0.05,
            "xref": "paper",
            "y": 0.95,
            "yref": "paper"
           }
          ]
         },
         "name": "44"
        },
        {
         "data": [
          {
           "name": "Free Nodes",
           "type": "scatter3d",
           "x": {
            "bdata": "udTPO6NvnT/VvedVWd2gP0jAS6hfvaI/cS274Up8pD9oBFT3xEumP+6+OFasVag/tBdgRvOoqj9cjmjlGS+tP8Wp/0ZAta8/ULVIX0MEsT8bsl3yNgmyPzV/tiL08LI/pGs7GWrQsz/YxWCkbcC0P5NFX78x07U/",
            "dtype": "f8"
           },
           "y": {
            "bdata": "D+i1/Y/lIT/PAs6ry8w1Px4B/NQ620A/1GjxbFqCRD/PYzX6E7BEP6coo14E6EA/CH0LC68XMz/1Now7YkagPrfXrTj6BzO/eOlmb/bgQL85GH8+M6pEv/4x32fdfUS/l6LY1y/YQL+3NCUIaMk1v4DZB2cZ4yG/",
            "dtype": "f8"
           },
           "z": {
            "bdata": "gvIj6ANbWb9DlTPfN25xv7Xnb2LQU3+/2ECTFGsjh78F8ZAPiV2Ov6KWkQm3RJK/de82efthlL+P0opw2SOVvwyl1Cn5YZS/X9n0WLNEkr8mDz07gV2Ov+HFLGZkI4e/riuP38ZTf7/hoUatMm5xvx4I8ov9Wlm/",
            "dtype": "f8"
           }
          },
          {
           "name": "Fixed Nodes",
           "type": "scatter3d",
           "x": {
            "bdata": "fOkmMQisjD/e+X5qvHSTP/1+arx0k5g/CtejcD0Ktz9SuB6F61G4P5qZmZmZmbk/",
            "dtype": "f8"
           },
           "y": {
            "bdata": "AAAAAAAAAAAAAAAAAAAAAAAAAAAAAAAAAAAAAAAAAAAAAAAAAAAAAAAAAAAAAAAA",
            "dtype": "f8"
           },
           "z": {
            "bdata": "AAAAAAAAAAAAAAAAAAAAAAAAAAAAAAAAAAAAAAAAAAAAAAAAAAAAAAAAAAAAAAAA",
            "dtype": "f8"
           }
          },
          {
           "name": "Edges",
           "type": "scatter3d",
           "x": [
            0.014000000000000005,
            0.01900000000000001,
            null,
            0.01900000000000001,
            0.02400000000000001,
            null,
            0.02400000000000001,
            0.028746176267266253,
            null,
            0.028746176267266253,
            0.03293875859878496,
            null,
            0.03293875859878496,
            0.03660105637925476,
            null,
            0.03660105637925476,
            0.040010776572297575,
            null,
            0.040010776572297575,
            0.043546824637822834,
            null,
            0.043546824637822834,
            0.04752863457212962,
            null,
            0.04752863457212962,
            0.05207023843836059,
            null,
            0.05207023843836059,
            0.056999978307683746,
            null,
            0.056999978307683746,
            0.061929711024123736,
            null,
            0.061929711024123736,
            0.06647130085248887,
            null,
            0.06647130085248887,
            0.0704531041826119,
            null,
            0.0704531041826119,
            0.07398916099054705,
            null,
            0.07398916099054705,
            0.07739890209215489,
            null,
            0.07739890209215489,
            0.08106122267852045,
            null,
            0.08106122267852045,
            0.0852538196770836,
            null,
            0.0852538196770836,
            0.09,
            null,
            0.09,
            0.095,
            null,
            0.095,
            0.1,
            null
           ],
           "y": [
            0,
            0,
            null,
            0,
            0,
            null,
            0,
            0.00013654120162326407,
            null,
            0.00013654120162326407,
            0.0003326413387228334,
            null,
            0.0003326413387228334,
            0.0005144154801826372,
            null,
            0.0005144154801826372,
            0.0006258908778236324,
            null,
            0.0006258908778236324,
            0.0006313417001521051,
            null,
            0.0006313417001521051,
            0.0005159398399652474,
            null,
            0.0005159398399652474,
            0.00029132865442523014,
            null,
            0.00029132865442523014,
            4.850309017493856e-7,
            null,
            4.850309017493856e-7,
            -0.0002903924839111576,
            null,
            -0.0002903924839111576,
            -0.0005150988861751101,
            null,
            -0.0005150988861751101,
            -0.0006306410041296901,
            null,
            -0.0006306410041296901,
            -0.0006253558237801491,
            null,
            -0.0006253558237801491,
            -0.0005140527352454791,
            null,
            -0.0005140527352454791,
            -0.0003324393257074331,
            null,
            -0.0003324393257074331,
            -0.00013646779144922336,
            null,
            -0.00013646779144922336,
            0,
            null,
            0,
            0,
            null,
            0,
            0,
            null
           ],
           "z": [
            0,
            0,
            null,
            0,
            0,
            null,
            0,
            -0.001547578635437891,
            null,
            -0.001547578635437891,
            -0.004255502938780356,
            null,
            -0.004255502938780356,
            -0.00764829063609256,
            null,
            -0.00764829063609256,
            -0.011298023763089679,
            null,
            -0.011298023763089679,
            -0.014826842105428737,
            null,
            -0.014826842105428737,
            -0.017840251883532894,
            null,
            -0.017840251883532894,
            -0.01990502288184311,
            null,
            -0.01990502288184311,
            -0.020644567007098543,
            null,
            -0.020644567007098543,
            -0.0199049884587668,
            null,
            -0.0199049884587668,
            -0.0178401968998626,
            null,
            -0.0178401968998626,
            -0.014826783771816187,
            null,
            -0.014826783771816187,
            -0.011297973983888933,
            null,
            -0.011297973983888933,
            -0.007648255203956218,
            null,
            -0.007648255203956218,
            -0.004255483585815929,
            null,
            -0.004255483585815929,
            -0.00154757271209905,
            null,
            -0.00154757271209905,
            0,
            null,
            0,
            0,
            null,
            0,
            0,
            null
           ]
          },
          {
           "i": [],
           "j": [],
           "k": [],
           "name": "Faces",
           "type": "mesh3d",
           "x": {
            "bdata": "fOkmMQisjD/e+X5qvHSTP/1+arx0k5g/udTPO6NvnT/VvedVWd2gP0jAS6hfvaI/cS274Up8pD9oBFT3xEumP+6+OFasVag/tBdgRvOoqj9cjmjlGS+tP8Wp/0ZAta8/ULVIX0MEsT8bsl3yNgmyPzV/tiL08LI/pGs7GWrQsz/YxWCkbcC0P5NFX78x07U/CtejcD0Ktz9SuB6F61G4P5qZmZmZmbk/",
            "dtype": "f8"
           },
           "y": {
            "bdata": "AAAAAAAAAAAAAAAAAAAAAAAAAAAAAAAAD+i1/Y/lIT/PAs6ry8w1Px4B/NQ620A/1GjxbFqCRD/PYzX6E7BEP6coo14E6EA/CH0LC68XMz/1Now7YkagPrfXrTj6BzO/eOlmb/bgQL85GH8+M6pEv/4x32fdfUS/l6LY1y/YQL+3NCUIaMk1v4DZB2cZ4yG/AAAAAAAAAAAAAAAAAAAAAAAAAAAAAAAA",
            "dtype": "f8"
           },
           "z": {
            "bdata": "AAAAAAAAAAAAAAAAAAAAAAAAAAAAAAAAgvIj6ANbWb9DlTPfN25xv7Xnb2LQU3+/2ECTFGsjh78F8ZAPiV2Ov6KWkQm3RJK/de82efthlL+P0opw2SOVvwyl1Cn5YZS/X9n0WLNEkr8mDz07gV2Ov+HFLGZkI4e/riuP38ZTf7/hoUatMm5xvx4I8ov9Wlm/AAAAAAAAAAAAAAAAAAAAAAAAAAAAAAAA",
            "dtype": "f8"
           }
          }
         ],
         "layout": {
          "annotations": [
           {
            "showarrow": false,
            "text": "Time: 0.45s (Step: 46/100)",
            "x": 0.05,
            "xref": "paper",
            "y": 0.95,
            "yref": "paper"
           }
          ]
         },
         "name": "45"
        },
        {
         "data": [
          {
           "name": "Free Nodes",
           "type": "scatter3d",
           "x": {
            "bdata": "ake81KVvnT8oc0GWX92gPzghlqJuvaI/akYQh2N8pD9lHJ+940umP7SgO3DJVag//SSjKwWpqj/PNYzaGS+tP7KJXEguta8/sEnewTQEsT9LeLR8JwmyP4P0Pb/n8LI/t2dekGLQsz8gYYt+asC0P0EIxBcx07U/",
            "dtype": "f8"
           },
           "y": {
            "bdata": "OgCds8tyIj/gXvyD03g2P16YB5U+YEE/ewqU9ygkRT/Rhsp9M1NFP/BagKElbUE/lXsVJW+tMz9hqL5hZqucPseBlaCYnzO/GeUtUO1mQb+6DylrA05FvwMBC8cxIEW/n/yIno1dQb/jHzJq03U2v1YhpRSdcCK/",
            "dtype": "f8"
           },
           "z": {
            "bdata": "ckdkyvdYWb/pd9M6AW1xv3XOXj/9UX+/waI1W08ih79hhFX+VFyOvxum5EIYRJK/VvKEzlphlL8gM5sUOCOVvyajuTdYYZS/1Oe1GBREkr9YEPsOTFyOvwcQa6BHIoe/cck2EfJRf7/5EtH7+mxxv5DwKcXvWFm/",
            "dtype": "f8"
           }
          },
          {
           "name": "Fixed Nodes",
           "type": "scatter3d",
           "x": {
            "bdata": "fOkmMQisjD/e+X5qvHSTP/1+arx0k5g/CtejcD0Ktz9SuB6F61G4P5qZmZmZmbk/",
            "dtype": "f8"
           },
           "y": {
            "bdata": "AAAAAAAAAAAAAAAAAAAAAAAAAAAAAAAAAAAAAAAAAAAAAAAAAAAAAAAAAAAAAAAA",
            "dtype": "f8"
           },
           "z": {
            "bdata": "AAAAAAAAAAAAAAAAAAAAAAAAAAAAAAAAAAAAAAAAAAAAAAAAAAAAAAAAAAAAAAAA",
            "dtype": "f8"
           }
          },
          {
           "name": "Edges",
           "type": "scatter3d",
           "x": [
            0.014000000000000005,
            0.01900000000000001,
            null,
            0.01900000000000001,
            0.02400000000000001,
            null,
            0.02400000000000001,
            0.028746214970915153,
            null,
            0.028746214970915153,
            0.03293894490409449,
            null,
            0.03293894490409449,
            0.03660150274942214,
            null,
            0.03660150274942214,
            0.04001151107526087,
            null,
            0.04001151107526087,
            0.04354774179187685,
            null,
            0.04354774179187685,
            0.04752950186758778,
            null,
            0.04752950186758778,
            0.05207077176744155,
            null,
            0.05207077176744155,
            0.05699997704332881,
            null,
            0.05699997704332881,
            0.06192917474097061,
            null,
            0.06192917474097061,
            0.06647042973626216,
            null,
            0.06647042973626216,
            0.07045218271784497,
            null,
            0.07045218271784497,
            0.07398842257494391,
            null,
            0.07398842257494391,
            0.07739845299366165,
            null,
            0.07739845299366165,
            0.08106103505577211,
            null,
            0.08106103505577211,
            0.08525378065317658,
            null,
            0.08525378065317658,
            0.09,
            null,
            0.09,
            0.095,
            null,
            0.095,
            0.1,
            null
           ],
           "y": [
            0,
            0,
            null,
            0,
            0,
            null,
            0,
            0.00014075028030369354,
            null,
            0.00014075028030369354,
            0.0003428951640542643,
            null,
            0.0003428951640542643,
            0.0005302720620050762,
            null,
            0.0005302720620050762,
            0.0006451797518425973,
            null,
            0.0006451797518425973,
            0.0006507874891960812,
            null,
            0.0006507874891960812,
            0.0005318101639229782,
            null,
            0.0005318101639229782,
            0.00030025447366271416,
            null,
            0.00030025447366271416,
            4.272093023736161e-7,
            null,
            4.272093023736161e-7,
            -0.00029942966701493014,
            null,
            -0.00029942966701493014,
            -0.0005310686832295269,
            null,
            -0.0005310686832295269,
            -0.0006501690571174481,
            null,
            -0.0006501690571174481,
            -0.0006447070173507822,
            null,
            -0.0006447070173507822,
            -0.0005299512386684086,
            null,
            -0.0005299512386684086,
            -0.00034271632666404826,
            null,
            -0.00034271632666404826,
            -0.00014068524826372591,
            null,
            -0.00014068524826372591,
            0,
            null,
            0,
            0,
            null,
            0,
            0,
            null
           ],
           "z": [
            0,
            0,
            null,
            0,
            0,
            null,
            0,
            -0.001547090514183638,
            null,
            -0.001547090514183638,
            -0.00425434570681025,
            null,
            -0.00425434570681025,
            -0.0076465504152342005,
            null,
            -0.0076465504152342005,
            -0.011295909853929033,
            null,
            -0.011295909853929033,
            -0.014824546825083997,
            null,
            -0.014824546825083997,
            -0.017837885935625502,
            null,
            -0.017837885935625502,
            -0.019902628760279782,
            null,
            -0.019902628760279782,
            -0.020642162568765277,
            null,
            -0.020642162568765277,
            -0.01990259018058107,
            null,
            -0.01990259018058107,
            -0.01783782387563078,
            null,
            -0.01783782387563078,
            -0.014824480254340397,
            null,
            -0.014824480254340397,
            -0.011295852263522489,
            null,
            -0.011295852263522489,
            -0.0076465087653779665,
            null,
            -0.0076465087653779665,
            -0.0042543224381617,
            null,
            -0.0042543224381617,
            -0.0015470830445840945,
            null,
            -0.0015470830445840945,
            0,
            null,
            0,
            0,
            null,
            0,
            0,
            null
           ]
          },
          {
           "i": [],
           "j": [],
           "k": [],
           "name": "Faces",
           "type": "mesh3d",
           "x": {
            "bdata": "fOkmMQisjD/e+X5qvHSTP/1+arx0k5g/ake81KVvnT8oc0GWX92gPzghlqJuvaI/akYQh2N8pD9lHJ+940umP7SgO3DJVag//SSjKwWpqj/PNYzaGS+tP7KJXEguta8/sEnewTQEsT9LeLR8JwmyP4P0Pb/n8LI/t2dekGLQsz8gYYt+asC0P0EIxBcx07U/CtejcD0Ktz9SuB6F61G4P5qZmZmZmbk/",
            "dtype": "f8"
           },
           "y": {
            "bdata": "AAAAAAAAAAAAAAAAAAAAAAAAAAAAAAAAOgCds8tyIj/gXvyD03g2P16YB5U+YEE/ewqU9ygkRT/Rhsp9M1NFP/BagKElbUE/lXsVJW+tMz9hqL5hZqucPseBlaCYnzO/GeUtUO1mQb+6DylrA05FvwMBC8cxIEW/n/yIno1dQb/jHzJq03U2v1YhpRSdcCK/AAAAAAAAAAAAAAAAAAAAAAAAAAAAAAAA",
            "dtype": "f8"
           },
           "z": {
            "bdata": "AAAAAAAAAAAAAAAAAAAAAAAAAAAAAAAAckdkyvdYWb/pd9M6AW1xv3XOXj/9UX+/waI1W08ih79hhFX+VFyOvxum5EIYRJK/VvKEzlphlL8gM5sUOCOVvyajuTdYYZS/1Oe1GBREkr9YEPsOTFyOvwcQa6BHIoe/cck2EfJRf7/5EtH7+mxxv5DwKcXvWFm/AAAAAAAAAAAAAAAAAAAAAAAAAAAAAAAA",
            "dtype": "f8"
           }
          }
         ],
         "layout": {
          "annotations": [
           {
            "showarrow": false,
            "text": "Time: 0.46s (Step: 47/100)",
            "x": 0.05,
            "xref": "paper",
            "y": 0.95,
            "yref": "paper"
           }
          ]
         },
         "name": "46"
        },
        {
         "data": [
          {
           "name": "Free Nodes",
           "type": "scatter3d",
           "x": {
            "bdata": "miRQgahvnT/6WMgFZt2gP4vhvQ1+vaI/PS7r5Xx8pD8zV1prA0ymP9tf5WTnVag/BKsxlxepqj/2syHPGS+tP07SJsIbta8/3I1PtiUEsT81qGSSFwmyP2O0Iv7a8LI/KXBuzlrQsz8vKMpAZ8C0Pxb1J2sw07U/",
            "dtype": "f8"
           },
           "y": {
            "bdata": "uEXibtP/Ij+l7tbPmiQ3P5K8YCAP5UE/FrnAQbbFRT8C4WJLC/ZFP5BfzwIC8kE/Rq6ZeL5CND/qTA2Gv6aXPk5eR5VSNzS/zmGrEN7sQb/1M8Hdv/FFv5I/X1ZswkW/ipuDv9LiQb8rmNmfGyI3v3biKAAC/iK/",
            "dtype": "f8"
           },
           "z": {
            "bdata": "0T4YTNxWWb+ueX97wWtxvy70ZG0cUH+/gOEWUyshh78VOI3nF1uOv/PchtR0Q5K/pD7LarVglL8o0X31kSKVv7/2sn+yYJS/0BkbGnBDkr+0ITKmDVuOv9nfyVUiIYe/H8NFOw9Qf79mBQr2uWtxv9unlD/SVlm/",
            "dtype": "f8"
           }
          },
          {
           "name": "Fixed Nodes",
           "type": "scatter3d",
           "x": {
            "bdata": "fOkmMQisjD/e+X5qvHSTP/1+arx0k5g/CtejcD0Ktz9SuB6F61G4P5qZmZmZmbk/",
            "dtype": "f8"
           },
           "y": {
            "bdata": "AAAAAAAAAAAAAAAAAAAAAAAAAAAAAAAAAAAAAAAAAAAAAAAAAAAAAAAAAAAAAAAA",
            "dtype": "f8"
           },
           "z": {
            "bdata": "AAAAAAAAAAAAAAAAAAAAAAAAAAAAAAAAAAAAAAAAAAAAAAAAAAAAAAAAAAAAAAAA",
            "dtype": "f8"
           }
          },
          {
           "name": "Edges",
           "type": "scatter3d",
           "x": [
            0.014000000000000005,
            0.01900000000000001,
            null,
            0.01900000000000001,
            0.02400000000000001,
            null,
            0.02400000000000001,
            0.028746254818575602,
            null,
            0.028746254818575602,
            0.03293913670147393,
            null,
            0.03293913670147393,
            0.03660196225877418,
            null,
            0.03660196225877418,
            0.040012267175907536,
            null,
            0.040012267175907536,
            0.04354868588886376,
            null,
            0.04354868588886376,
            0.04753039461746741,
            null,
            0.04753039461746741,
            0.05207132073049617,
            null,
            0.05207132073049617,
            0.0569999757143264,
            null,
            0.0569999757143264,
            0.06192862267508713,
            null,
            0.06192862267508713,
            0.0664695329756379,
            null,
            0.0664695329756379,
            0.07045123409321337,
            null,
            0.07045123409321337,
            0.0739876623581082,
            null,
            0.0739876623581082,
            0.07739799060658527,
            null,
            0.07739799060658527,
            0.08106084186343375,
            null,
            0.08106084186343375,
            0.0852537404643566,
            null,
            0.0852537404643566,
            0.09,
            null,
            0.09,
            0.095,
            null,
            0.095,
            0.1,
            null
           ],
           "y": [
            0,
            0,
            null,
            0,
            0,
            null,
            0,
            0.0001449533078284168,
            null,
            0.0001449533078284168,
            0.0003531339605975326,
            null,
            0.0003531339605975326,
            0.0005461047992464543,
            null,
            0.0005461047992464543,
            0.0006644382406244844,
            null,
            0.0006644382406244844,
            0.0006701998852554349,
            null,
            0.0006701998852554349,
            0.0005476484126303183,
            null,
            0.0005476484126303183,
            0.00030915403531281795,
            null,
            0.00030915403531281795,
            3.5243272660419477e-7,
            null,
            3.5243272660419477e-7,
            -0.0003084732645936881,
            null,
            -0.0003084732645936881,
            -0.0005470356275863399,
            null,
            -0.0005470356275863399,
            -0.0006696879240820618,
            null,
            -0.0006696879240820618,
            -0.0006640461913267495,
            null,
            -0.0006640461913267495,
            -0.0005458382647959153,
            null,
            -0.0005458382647959153,
            -0.00035298513816995014,
            null,
            -0.00035298513816995014,
            -0.00014489912435224393,
            null,
            -0.00014489912435224393,
            0,
            null,
            0,
            0,
            null,
            0,
            0,
            null
           ],
           "z": [
            0,
            0,
            null,
            0,
            0,
            null,
            0,
            -0.0015465880718500866,
            null,
            -0.0015465880718500866,
            -0.0042531545550147775,
            null,
            -0.0042531545550147775,
            -0.0076447592203381775,
            null,
            -0.0076447592203381775,
            -0.01129373404806766,
            null,
            -0.01129373404806766,
            -0.014822184327979252,
            null,
            -0.014822184327979252,
            -0.01783545062218379,
            null,
            -0.01783545062218379,
            -0.019900164263900635,
            null,
            -0.019900164263900635,
            -0.02063968716488876,
            null,
            -0.02063968716488876,
            -0.01990012077725711,
            null,
            -0.01990012077725711,
            -0.017835380166411785,
            null,
            -0.017835380166411785,
            -0.014822107920068862,
            null,
            -0.014822107920068862,
            -0.01129366707139916,
            null,
            -0.01129366707139916,
            -0.007644710062195497,
            null,
            -0.007644710062195497,
            -0.004253126535901463,
            null,
            -0.004253126535901463,
            -0.0015465787130985928,
            null,
            -0.0015465787130985928,
            0,
            null,
            0,
            0,
            null,
            0,
            0,
            null
           ]
          },
          {
           "i": [],
           "j": [],
           "k": [],
           "name": "Faces",
           "type": "mesh3d",
           "x": {
            "bdata": "fOkmMQisjD/e+X5qvHSTP/1+arx0k5g/miRQgahvnT/6WMgFZt2gP4vhvQ1+vaI/PS7r5Xx8pD8zV1prA0ymP9tf5WTnVag/BKsxlxepqj/2syHPGS+tP07SJsIbta8/3I1PtiUEsT81qGSSFwmyP2O0Iv7a8LI/KXBuzlrQsz8vKMpAZ8C0Pxb1J2sw07U/CtejcD0Ktz9SuB6F61G4P5qZmZmZmbk/",
            "dtype": "f8"
           },
           "y": {
            "bdata": "AAAAAAAAAAAAAAAAAAAAAAAAAAAAAAAAuEXibtP/Ij+l7tbPmiQ3P5K8YCAP5UE/FrnAQbbFRT8C4WJLC/ZFP5BfzwIC8kE/Rq6ZeL5CND/qTA2Gv6aXPk5eR5VSNzS/zmGrEN7sQb/1M8Hdv/FFv5I/X1ZswkW/ipuDv9LiQb8rmNmfGyI3v3biKAAC/iK/AAAAAAAAAAAAAAAAAAAAAAAAAAAAAAAA",
            "dtype": "f8"
           },
           "z": {
            "bdata": "AAAAAAAAAAAAAAAAAAAAAAAAAAAAAAAA0T4YTNxWWb+ueX97wWtxvy70ZG0cUH+/gOEWUyshh78VOI3nF1uOv/PchtR0Q5K/pD7LarVglL8o0X31kSKVv7/2sn+yYJS/0BkbGnBDkr+0ITKmDVuOv9nfyVUiIYe/H8NFOw9Qf79mBQr2uWtxv9unlD/SVlm/AAAAAAAAAAAAAAAAAAAAAAAAAAAAAAAA",
            "dtype": "f8"
           }
          }
         ],
         "layout": {
          "annotations": [
           {
            "showarrow": false,
            "text": "Time: 0.47s (Step: 48/100)",
            "x": 0.05,
            "xref": "paper",
            "y": 0.95,
            "yref": "paper"
           }
          ]
         },
         "name": "47"
        },
        {
         "data": [
          {
           "name": "Free Nodes",
           "type": "scatter3d",
           "x": {
            "bdata": "uTh6QatvnT+qdU6kbN2gP9AWT+mNvaI/Ni+H/ZZ8pD/QnYr/I0ymP6pxRDMGVqg/wn50iCqpqj/yAiXDGS+tPweL6rQIta8/0GYMPRYEsT+fleAzBwmyP5NVvN/N8LI/g8qd01LQsz9IYTDrY8C0P2N2jrkv07U/",
            "dtype": "f8"
           },
           "y": {
            "bdata": "DvjEgamMIz9UX035JNA3P3V9vL6vaUI/6GVxdQdnRj+2WVyVophGP1L1Gq+idkI/at5hrbLXND9ioTRmp92RPpa5vgoQzzS/jQkaab1yQr+ZfRPSXpVGv2oOg1yFZEa/88U80flnQr+rtcZxOs43v6gcHoRDiyO/",
            "dtype": "f8"
           },
           "z": {
            "bdata": "yRfvcrFUWb/o8J+keGpxv7o5kvEtTn+/FlZc//4fh7/AZh3P0VmOvx9EDsHMQpK/9fePUQtglL8i7MoX5yGVv5WQTAcIYJS/eZRSY8dCkr+5sZkNxlmOvwHFL5L0H4e/BT0tcR5Of7+mvqGob2pxv1qoGBClVFm/",
            "dtype": "f8"
           }
          },
          {
           "name": "Fixed Nodes",
           "type": "scatter3d",
           "x": {
            "bdata": "fOkmMQisjD/e+X5qvHSTP/1+arx0k5g/CtejcD0Ktz9SuB6F61G4P5qZmZmZmbk/",
            "dtype": "f8"
           },
           "y": {
            "bdata": "AAAAAAAAAAAAAAAAAAAAAAAAAAAAAAAAAAAAAAAAAAAAAAAAAAAAAAAAAAAAAAAA",
            "dtype": "f8"
           },
           "z": {
            "bdata": "AAAAAAAAAAAAAAAAAAAAAAAAAAAAAAAAAAAAAAAAAAAAAAAAAAAAAAAAAAAAAAAA",
            "dtype": "f8"
           }
          },
          {
           "name": "Edges",
           "type": "scatter3d",
           "x": [
            0.014000000000000005,
            0.01900000000000001,
            null,
            0.01900000000000001,
            0.02400000000000001,
            null,
            0.02400000000000001,
            0.02874629580633645,
            null,
            0.02874629580633645,
            0.03293933397001621,
            null,
            0.03293933397001621,
            0.036602434854598465,
            null,
            0.036602434854598465,
            0.04001304478478433,
            null,
            0.04001304478478433,
            0.0435496568146011,
            null,
            0.0435496568146011,
            0.04753131271192797,
            null,
            0.04753131271192797,
            0.05207188525878116,
            null,
            0.05207188525878116,
            0.05699997431884708,
            null,
            0.05699997431884708,
            0.06192805489015112,
            null,
            0.06192805489015112,
            0.06646861067238352,
            null,
            0.06646861067238352,
            0.07045025841269713,
            null,
            0.07045025841269713,
            0.07398688041970151,
            null,
            0.07398688041970151,
            0.07739751497664753,
            null,
            0.07739751497664753,
            0.08106064311903538,
            null,
            0.08106064311903538,
            0.08525369911372986,
            null,
            0.08525369911372986,
            0.09,
            null,
            0.09,
            0.095,
            null,
            0.095,
            0.1,
            null
           ],
           "y": [
            0,
            0,
            null,
            0,
            0,
            null,
            0,
            0.00014915055442971153,
            null,
            0.00014915055442971153,
            0.00036335852319301543,
            null,
            0.00036335852319301543,
            0.0005619152193254,
            null,
            0.0005619152193254,
            0.0006836687488302436,
            null,
            0.0006836687488302436,
            0.000689582239575873,
            null,
            0.000689582239575873,
            0.0005634588580602318,
            null,
            0.0005634588580602318,
            0.0003180323814215626,
            null,
            0.0003180323814215626,
            2.6622169553788267e-7,
            null,
            2.6622169553788267e-7,
            -0.00031751767778134246,
            null,
            -0.00031751767778134246,
            -0.0005629944664209838,
            null,
            -0.0005629944664209838,
            -0.0006891930571803372,
            null,
            -0.0006891930571803372,
            -0.0006833697489345262,
            null,
            -0.0006833697489345262,
            -0.0005617112933348753,
            null,
            -0.0005617112933348753,
            -0.00036324431291742215,
            null,
            -0.00036324431291742215,
            -0.00014910887881234192,
            null,
            -0.00014910887881234192,
            0,
            null,
            0,
            0,
            null,
            0,
            0,
            null
           ],
           "z": [
            0,
            0,
            null,
            0,
            0,
            null,
            0,
            -0.0015460713291175368,
            null,
            -0.0015460713291175368,
            -0.004251929532980571,
            null,
            -0.004251929532980571,
            -0.007642917125066645,
            null,
            -0.007642917125066645,
            -0.011291496437062992,
            null,
            -0.011291496437062992,
            -0.014819754727500523,
            null,
            -0.014819754727500523,
            -0.017832946093737086,
            null,
            -0.017832946093737086,
            -0.019897629597828332,
            null,
            -0.019897629597828332,
            -0.020637141062916815,
            null,
            -0.020637141062916815,
            -0.01989758057165199,
            null,
            -0.01989758057165199,
            -0.017832866131943768,
            null,
            -0.017832866131943768,
            -0.01481966713910131,
            null,
            -0.01481966713910131,
            -0.011291418753872852,
            null,
            -0.011291418753872852,
            -0.007642859377326565,
            null,
            -0.007642859377326565,
            -0.004251896063678073,
            null,
            -0.004251896063678073,
            -0.0015460597936774096,
            null,
            -0.0015460597936774096,
            0,
            null,
            0,
            0,
            null,
            0,
            0,
            null
           ]
          },
          {
           "i": [],
           "j": [],
           "k": [],
           "name": "Faces",
           "type": "mesh3d",
           "x": {
            "bdata": "fOkmMQisjD/e+X5qvHSTP/1+arx0k5g/uTh6QatvnT+qdU6kbN2gP9AWT+mNvaI/Ni+H/ZZ8pD/QnYr/I0ymP6pxRDMGVqg/wn50iCqpqj/yAiXDGS+tPweL6rQIta8/0GYMPRYEsT+fleAzBwmyP5NVvN/N8LI/g8qd01LQsz9IYTDrY8C0P2N2jrkv07U/CtejcD0Ktz9SuB6F61G4P5qZmZmZmbk/",
            "dtype": "f8"
           },
           "y": {
            "bdata": "AAAAAAAAAAAAAAAAAAAAAAAAAAAAAAAADvjEgamMIz9UX035JNA3P3V9vL6vaUI/6GVxdQdnRj+2WVyVophGP1L1Gq+idkI/at5hrbLXND9ioTRmp92RPpa5vgoQzzS/jQkaab1yQr+ZfRPSXpVGv2oOg1yFZEa/88U80flnQr+rtcZxOs43v6gcHoRDiyO/AAAAAAAAAAAAAAAAAAAAAAAAAAAAAAAA",
            "dtype": "f8"
           },
           "z": {
            "bdata": "AAAAAAAAAAAAAAAAAAAAAAAAAAAAAAAAyRfvcrFUWb/o8J+keGpxv7o5kvEtTn+/FlZc//4fh7/AZh3P0VmOvx9EDsHMQpK/9fePUQtglL8i7MoX5yGVv5WQTAcIYJS/eZRSY8dCkr+5sZkNxlmOvwHFL5L0H4e/BT0tcR5Of7+mvqGob2pxv1qoGBClVFm/AAAAAAAAAAAAAAAAAAAAAAAAAAAAAAAA",
            "dtype": "f8"
           }
          }
         ],
         "layout": {
          "annotations": [
           {
            "showarrow": false,
            "text": "Time: 0.48s (Step: 49/100)",
            "x": 0.05,
            "xref": "paper",
            "y": 0.95,
            "yref": "paper"
           }
          ]
         },
         "name": "48"
        },
        {
         "data": [
          {
           "name": "Free Nodes",
           "type": "scatter3d",
           "x": {
            "bdata": "D9EsFa5vnT+i4atxc92gP17B4DSevaI/NFstzbF8pD+/VEJ5RUymPxNRctolVqg/fr3d/j2pqj+MNp22GS+tPwtcRCH1tK8/xRuQVgYEsT8/YKdh9giyP9MCbmTA8LI/BuomoErQsz/wadV9YMC0P3UH/AIv07U/",
            "dtype": "f8"
           },
           "y": {
            "bdata": "EZ8keFAZJD8SKf65dXs4PzpBuP8j7kI/twgjJyIIRz+TxgEaATtHP62MHnsR+0I/Y/A84WJsNT+eDDQM+GmHPrIaKYS3ZjW/3XwRbn/4Qr+ZLX391ThHv3PvBLt0Bke/K+O4Jv3sQr9n28deKXo4vxWWM8ZcGCS/",
            "dtype": "f8"
           },
           "z": {
            "bdata": "lYtHQndSWb/oKja4Jmlxv7i2zM4xTH+/YVbaYcoeh7/s45i3gliOv7QRiwogQpK/jkUahlxflL9Y9TiANyGVv8P6jNRYX5S/HetJ+xlCkr9gxqhTdViOv4TtNmO+Hoe/NWAoyR9Mf7/0lhgiHGlxvysumk5oUlm/",
            "dtype": "f8"
           }
          },
          {
           "name": "Fixed Nodes",
           "type": "scatter3d",
           "x": {
            "bdata": "fOkmMQisjD/e+X5qvHSTP/1+arx0k5g/CtejcD0Ktz9SuB6F61G4P5qZmZmZmbk/",
            "dtype": "f8"
           },
           "y": {
            "bdata": "AAAAAAAAAAAAAAAAAAAAAAAAAAAAAAAAAAAAAAAAAAAAAAAAAAAAAAAAAAAAAAAA",
            "dtype": "f8"
           },
           "z": {
            "bdata": "AAAAAAAAAAAAAAAAAAAAAAAAAAAAAAAAAAAAAAAAAAAAAAAAAAAAAAAAAAAAAAAA",
            "dtype": "f8"
           }
          },
          {
           "name": "Edges",
           "type": "scatter3d",
           "x": [
            0.014000000000000005,
            0.01900000000000001,
            null,
            0.01900000000000001,
            0.02400000000000001,
            null,
            0.02400000000000001,
            0.028746337931083107,
            null,
            0.028746337931083107,
            0.0329395366915748,
            null,
            0.0329395366915748,
            0.03660292048914714,
            null,
            0.03660292048914714,
            0.04001384381870424,
            null,
            0.04001384381870424,
            0.043550654461037556,
            null,
            0.043550654461037556,
            0.04753225604614122,
            null,
            0.04753225604614122,
            0.052072465287774414,
            null,
            0.052072465287774414,
            0.056999972860109244,
            null,
            0.056999972860109244,
            0.06192747145740193,
            null,
            0.06192747145740193,
            0.0664676629386199,
            null,
            0.0664676629386199,
            0.07044925579191473,
            null,
            0.07044925579191473,
            0.07398607684991569,
            null,
            0.07398607684991569,
            0.07739702615700858,
            null,
            0.07739702615700858,
            0.08106043884382763,
            null,
            0.08106043884382763,
            0.08525365660537239,
            null,
            0.08525365660537239,
            0.09,
            null,
            0.09,
            0.095,
            null,
            0.095,
            0.1,
            null
           ],
           "y": [
            0,
            0,
            null,
            0,
            0,
            null,
            0,
            0.00015334231654517324,
            null,
            0.00015334231654517324,
            0.0003735697191521596,
            null,
            0.0003735697191521596,
            0.0005777049804596486,
            null,
            0.0005777049804596486,
            0.0007028738748646933,
            null,
            0.0007028738748646933,
            0.0007089381579261249,
            null,
            0.0007089381579261249,
            0.0005792460781218943,
            null,
            0.0005792460781218943,
            0.000326894894204127,
            null,
            0.000326894894204127,
            1.7444745568232168e-7,
            null,
            1.7444745568232168e-7,
            -0.00032655697228671087,
            null,
            -0.00032655697228671087,
            -0.0005789396492551741,
            null,
            -0.0005789396492551741,
            -0.0007086796640378034,
            null,
            -0.0007086796640378034,
            -0.0007026739095077186,
            null,
            -0.0007026739095077186,
            -0.0005775676813249744,
            null,
            -0.0005775676813249744,
            -0.00037349233642152427,
            null,
            -0.00037349233642152427,
            -0.00015331394670352384,
            null,
            -0.00015331394670352384,
            0,
            null,
            0,
            0,
            null,
            0,
            0,
            null
           ],
           "z": [
            0,
            0,
            null,
            0,
            0,
            null,
            0,
            -0.0015455402982460277,
            null,
            -0.0015455402982460277,
            -0.0042506706698854715,
            null,
            -0.0042506706698854715,
            -0.007641024171602666,
            null,
            -0.007641024171602666,
            -0.011289197074158598,
            null,
            -0.011289197074158598,
            -0.01481725809854769,
            null,
            -0.01481725809854769,
            -0.017830372470386727,
            null,
            -0.017830372470386727,
            -0.019895024952864264,
            null,
            -0.019895024952864264,
            -0.02063452453716272,
            null,
            -0.02063452453716272,
            -0.019894969914498583,
            null,
            -0.019894969914498583,
            -0.017830282175491086,
            null,
            -0.017830282175491086,
            -0.014817158332422753,
            null,
            -0.014817158332422753,
            -0.011289107706821573,
            null,
            -0.011289107706821573,
            -0.007640957034276187,
            null,
            -0.007640957034276187,
            -0.004250631232513891,
            null,
            -0.004250631232513891,
            -0.0015455263732374696,
            null,
            -0.0015455263732374696,
            0,
            null,
            0,
            0,
            null,
            0,
            0,
            null
           ]
          },
          {
           "i": [],
           "j": [],
           "k": [],
           "name": "Faces",
           "type": "mesh3d",
           "x": {
            "bdata": "fOkmMQisjD/e+X5qvHSTP/1+arx0k5g/D9EsFa5vnT+i4atxc92gP17B4DSevaI/NFstzbF8pD+/VEJ5RUymPxNRctolVqg/fr3d/j2pqj+MNp22GS+tPwtcRCH1tK8/xRuQVgYEsT8/YKdh9giyP9MCbmTA8LI/BuomoErQsz/wadV9YMC0P3UH/AIv07U/CtejcD0Ktz9SuB6F61G4P5qZmZmZmbk/",
            "dtype": "f8"
           },
           "y": {
            "bdata": "AAAAAAAAAAAAAAAAAAAAAAAAAAAAAAAAEZ8keFAZJD8SKf65dXs4PzpBuP8j7kI/twgjJyIIRz+TxgEaATtHP62MHnsR+0I/Y/A84WJsNT+eDDQM+GmHPrIaKYS3ZjW/3XwRbn/4Qr+ZLX391ThHv3PvBLt0Bke/K+O4Jv3sQr9n28deKXo4vxWWM8ZcGCS/AAAAAAAAAAAAAAAAAAAAAAAAAAAAAAAA",
            "dtype": "f8"
           },
           "z": {
            "bdata": "AAAAAAAAAAAAAAAAAAAAAAAAAAAAAAAAlYtHQndSWb/oKja4Jmlxv7i2zM4xTH+/YVbaYcoeh7/s45i3gliOv7QRiwogQpK/jkUahlxflL9Y9TiANyGVv8P6jNRYX5S/HetJ+xlCkr9gxqhTdViOv4TtNmO+Hoe/NWAoyR9Mf7/0lhgiHGlxvysumk5oUlm/AAAAAAAAAAAAAAAAAAAAAAAAAAAAAAAA",
            "dtype": "f8"
           }
          }
         ],
         "layout": {
          "annotations": [
           {
            "showarrow": false,
            "text": "Time: 0.49s (Step: 50/100)",
            "x": 0.05,
            "xref": "paper",
            "y": 0.95,
            "yref": "paper"
           }
          ]
         },
         "name": "49"
        },
        {
         "data": [
          {
           "name": "Free Nodes",
           "type": "scatter3d",
           "x": {
            "bdata": "tT9b/LBvnT8eMbptet2gP4z7C/CuvaI/WZQoVM18pD9LtJTXZ0ymP4qbiFlGVqg/M5Lg+VGpqj/glZWpGS+tP76Q2QfhtK8/xBlcA/YDsT+43j4c5QiyP/e5oIyy8LI/zzJINELQsz8ng9L4XMC0PzKcdUcu07U/",
            "dtype": "f8"
           },
           "y": {
            "bdata": "qfv32sqlJD9XsZTHkCY5PzDkaW9vckM/qy4c5gupRz8Au7eQLt1HPz/jFDNYf0M/ZPYpHuYANj94QxGhEEV2Pg91PZsv/jW/oFsFPxh+Q7/hnRUfG9xHv50seFsyqEe/e0jgGNdxQ7/PtMPs4SU5vy2qnvFIpSS/",
            "dtype": "f8"
           },
           "z": {
            "bdata": "l31VvC1QWb/iuY23y2dxv2Pf4AYoSn+/bQe6e40dh7/9dumiKleOvwpwzrJuQZK/43ebC6lelL8x2p0zgyCVv+3Szu2kXpS/Kw9q6WdBkr8KBvKHG1eOv/+UjNd/HYe/2Bw1WxNKf79XzRNyv2dxv0lf4BQcUFm/",
            "dtype": "f8"
           }
          },
          {
           "name": "Fixed Nodes",
           "type": "scatter3d",
           "x": {
            "bdata": "fOkmMQisjD/e+X5qvHSTP/1+arx0k5g/CtejcD0Ktz9SuB6F61G4P5qZmZmZmbk/",
            "dtype": "f8"
           },
           "y": {
            "bdata": "AAAAAAAAAAAAAAAAAAAAAAAAAAAAAAAAAAAAAAAAAAAAAAAAAAAAAAAAAAAAAAAA",
            "dtype": "f8"
           },
           "z": {
            "bdata": "AAAAAAAAAAAAAAAAAAAAAAAAAAAAAAAAAAAAAAAAAAAAAAAAAAAAAAAAAAAAAAAA",
            "dtype": "f8"
           }
          },
          {
           "name": "Edges",
           "type": "scatter3d",
           "x": [
            0.014000000000000005,
            0.01900000000000001,
            null,
            0.01900000000000001,
            0.02400000000000001,
            null,
            0.02400000000000001,
            0.02874638118993263,
            null,
            0.02874638118993263,
            0.032939744848677885,
            null,
            0.032939744848677885,
            0.036603419115628005,
            null,
            0.036603419115628005,
            0.04001466419530492,
            null,
            0.04001466419530492,
            0.043551678720498,
            null,
            0.043551678720498,
            0.047533224515340214,
            null,
            0.047533224515340214,
            0.0520730607534329,
            null,
            0.0520730607534329,
            0.05699997134324142,
            null,
            0.05699997134324142,
            0.06192687245200677,
            null,
            0.06192687245200677,
            0.06646668989205923,
            null,
            0.06646668989205923,
            0.07044822635259151,
            null,
            0.07044822635259151,
            0.07398525174423996,
            null,
            0.07398525174423996,
            0.07739652420441277,
            null,
            0.07739652420441277,
            0.0810602290607788,
            null,
            0.0810602290607788,
            0.08525361294378866,
            null,
            0.08525361294378866,
            0.09,
            null,
            0.09,
            0.095,
            null,
            0.095,
            0.1,
            null
           ],
           "y": [
            0,
            0,
            null,
            0,
            0,
            null,
            0,
            0.00015752888928940764,
            null,
            0.00015752888928940764,
            0.00038376841219435936,
            null,
            0.00038376841219435936,
            0.0005934757344469074,
            null,
            0.0005934757344469074,
            0.0007220562076510525,
            null,
            0.0007220562076510525,
            0.0007282712335248964,
            null,
            0.0007282712335248964,
            0.0005950146352581078,
            null,
            0.0005950146352581078,
            0.00033574693785696206,
            null,
            0.00033574693785696206,
            8.296141397577633e-8,
            null,
            8.296141397577633e-8,
            -0.0003355852343157198,
            null,
            -0.0003355852343157198,
            -0.0005948656453636965,
            null,
            -0.0005948656453636965,
            -0.0007281429699731967,
            null,
            -0.0007281429699731967,
            -0.0007219549069658219,
            null,
            -0.0007219549069658219,
            -0.0005934047965203826,
            null,
            -0.0005934047965203826,
            -0.0003837277006500496,
            null,
            -0.0003837277006500496,
            -0.00015751376559809804,
            null,
            -0.00015751376559809804,
            0,
            null,
            0,
            0,
            null,
            0,
            0,
            null
           ],
           "z": [
            0,
            0,
            null,
            0,
            0,
            null,
            0,
            -0.0015449949872488927,
            null,
            -0.0015449949872488927,
            -0.004249377984577115,
            null,
            -0.004249377984577115,
            -0.00763908038612002,
            null,
            -0.00763908038612002,
            -0.011286835993135924,
            null,
            -0.011286835993135924,
            -0.014814694496802167,
            null,
            -0.014814694496802167,
            -0.01782772985789908,
            null,
            -0.01782772985789908,
            -0.01989235051484418,
            null,
            -0.01989235051484418,
            -0.02063183786909856,
            null,
            -0.02063183786909856,
            -0.019892289175646494,
            null,
            -0.019892289175646494,
            -0.017827628728368666,
            null,
            -0.017827628728368666,
            -0.014814581953262813,
            null,
            -0.014814581953262813,
            -0.011286734357393245,
            null,
            -0.011286734357393245,
            -0.007639003382173125,
            null,
            -0.007639003382173125,
            -0.004249332270080806,
            null,
            -0.004249332270080806,
            -0.0015449785455583112,
            null,
            -0.0015449785455583112,
            0,
            null,
            0,
            0,
            null,
            0,
            0,
            null
           ]
          },
          {
           "i": [],
           "j": [],
           "k": [],
           "name": "Faces",
           "type": "mesh3d",
           "x": {
            "bdata": "fOkmMQisjD/e+X5qvHSTP/1+arx0k5g/tT9b/LBvnT8eMbptet2gP4z7C/CuvaI/WZQoVM18pD9LtJTXZ0ymP4qbiFlGVqg/M5Lg+VGpqj/glZWpGS+tP76Q2QfhtK8/xBlcA/YDsT+43j4c5QiyP/e5oIyy8LI/zzJINELQsz8ng9L4XMC0PzKcdUcu07U/CtejcD0Ktz9SuB6F61G4P5qZmZmZmbk/",
            "dtype": "f8"
           },
           "y": {
            "bdata": "AAAAAAAAAAAAAAAAAAAAAAAAAAAAAAAAqfv32sqlJD9XsZTHkCY5PzDkaW9vckM/qy4c5gupRz8Au7eQLt1HPz/jFDNYf0M/ZPYpHuYANj94QxGhEEV2Pg91PZsv/jW/oFsFPxh+Q7/hnRUfG9xHv50seFsyqEe/e0jgGNdxQ7/PtMPs4SU5vy2qnvFIpSS/AAAAAAAAAAAAAAAAAAAAAAAAAAAAAAAA",
            "dtype": "f8"
           },
           "z": {
            "bdata": "AAAAAAAAAAAAAAAAAAAAAAAAAAAAAAAAl31VvC1QWb/iuY23y2dxv2Pf4AYoSn+/bQe6e40dh7/9dumiKleOvwpwzrJuQZK/43ebC6lelL8x2p0zgyCVv+3Szu2kXpS/Kw9q6WdBkr8KBvKHG1eOv/+UjNd/HYe/2Bw1WxNKf79XzRNyv2dxv0lf4BQcUFm/AAAAAAAAAAAAAAAAAAAAAAAAAAAAAAAA",
            "dtype": "f8"
           }
          }
         ],
         "layout": {
          "annotations": [
           {
            "showarrow": false,
            "text": "Time: 0.50s (Step: 51/100)",
            "x": 0.05,
            "xref": "paper",
            "y": 0.95,
            "yref": "paper"
           }
          ]
         },
         "name": "50"
        },
        {
         "data": [
          {
           "name": "Free Nodes",
           "type": "scatter3d",
           "x": {
            "bdata": "IjP49rNvnT+4aVGYgd2gPwQpZhrAvaI/76+9kel8pD9qe40Zi0ymP7Xnma9nVqg/n7breGapqj/R2RicGS+tP855UmnMtK8/2Eb0Q+UDsT82YC9k0wiyPwNMv1ik8LI/ZghBkDnQsz9ISUFcWcC0P7I2AIct07U/",
            "dtype": "f8"
           },
           "y": {
            "bdata": "7CfH+BoyJT+AmueGedE5P43V2FCV9kM/la0n1clJSD+W89UhMn9IP3z/TfZ/A0Q/AvqK6lGVNj+AAF8PPaQnvo1lenBglTa/QLgSq3wDRL8pWk2IJH9Iv+1nMJe2SUi/HFBmTIL2Q79A2BX2XdE5v997BG8DMiW/",
            "dtype": "f8"
           },
           "z": {
            "bdata": "UpMu49RNWb+pKN+jZ2Zxv70IfJsQSH+/iwoSTkgch7+ePuuSyVWOv9DCqru4QJK/eItT5fBdlL9HlO42yh+Vv41sm1nsXZS/XzxWNbFAkr8P1Ya6uFWOv08CV/44HIe/UIIXQPlHf7/ac7moWWZxv8mChn3ATVm/",
            "dtype": "f8"
           }
          },
          {
           "name": "Fixed Nodes",
           "type": "scatter3d",
           "x": {
            "bdata": "fOkmMQisjD/e+X5qvHSTP/1+arx0k5g/CtejcD0Ktz9SuB6F61G4P5qZmZmZmbk/",
            "dtype": "f8"
           },
           "y": {
            "bdata": "AAAAAAAAAAAAAAAAAAAAAAAAAAAAAAAAAAAAAAAAAAAAAAAAAAAAAAAAAAAAAAAA",
            "dtype": "f8"
           },
           "z": {
            "bdata": "AAAAAAAAAAAAAAAAAAAAAAAAAAAAAAAAAAAAAAAAAAAAAAAAAAAAAAAAAAAAAAAA",
            "dtype": "f8"
           }
          },
          {
           "name": "Edges",
           "type": "scatter3d",
           "x": [
            0.014000000000000005,
            0.01900000000000001,
            null,
            0.01900000000000001,
            0.02400000000000001,
            null,
            0.02400000000000001,
            0.028746425579856745,
            null,
            0.028746425579856745,
            0.03293995842314551,
            null,
            0.03293995842314551,
            0.03660393068556014,
            null,
            0.03660393068556014,
            0.04001550582947277,
            null,
            0.04001550582947277,
            0.04355272948190854,
            null,
            0.04355272948190854,
            0.04753421801156269,
            null,
            0.04753421801156269,
            0.05207367158969344,
            null,
            0.05207367158969344,
            0.0569999697731195,
            null,
            0.0569999697731195,
            0.06192625795050653,
            null,
            0.06192625795050653,
            0.06646569165266258,
            null,
            0.06646569165266258,
            0.07044717021870003,
            null,
            0.07044717021870003,
            0.07398440519982334,
            null,
            0.07398440519982334,
            0.07739600917651188,
            null,
            0.07739600917651188,
            0.08106001379318173,
            null,
            0.08106001379318173,
            0.0852535681335336,
            null,
            0.0852535681335336,
            0.09,
            null,
            0.09,
            0.095,
            null,
            0.095,
            0.1,
            null
           ],
           "y": [
            0,
            0,
            null,
            0,
            0,
            null,
            0,
            0.0001617105412051173,
            null,
            0.0001617105412051173,
            0.0003939553925235498,
            null,
            0.0003939553925235498,
            0.0006092290001961529,
            null,
            0.0006092290001961529,
            0.0007412181387826284,
            null,
            0.0007412181387826284,
            0.0007475847993841818,
            null,
            0.0007475847993841818,
            0.0006107687773777427,
            null,
            0.0006107687773777427,
            0.0003445935240441734,
            null,
            0.0003445935240441734,
            -2.752239431990526e-9,
            null,
            -2.752239431990526e-9,
            -0.00034459690548657094,
            null,
            -0.00034459690548657094,
            -0.0006107672435484782,
            null,
            -0.0006107672435484782,
            -0.0007475784665114715,
            null,
            -0.0007475784665114715,
            -0.000741209178502842,
            null,
            -0.000741209178502842,
            -0.0006092201445420139,
            null,
            -0.0006092201445420139,
            -0.00039394897438372115,
            null,
            -0.00039394897438372115,
            -0.00016170780100652115,
            null,
            -0.00016170780100652115,
            0,
            null,
            0,
            0,
            null,
            0,
            0,
            null
           ],
           "z": [
            0,
            0,
            null,
            0,
            0,
            null,
            0,
            -0.0015444354037097052,
            null,
            -0.0015444354037097052,
            -0.004248051494821472,
            null,
            -0.004248051494821472,
            -0.00763708579302341,
            null,
            -0.00763708579302341,
            -0.01128441322567155,
            null,
            -0.01128441322567155,
            -0.014812063976392505,
            null,
            -0.014812063976392505,
            -0.017825018362318812,
            null,
            -0.017825018362318812,
            -0.019889606472939886,
            null,
            -0.019889606472939886,
            -0.020629081347255853,
            null,
            -0.020629081347255853,
            -0.019889538735566027,
            null,
            -0.019889538735566027,
            -0.017824906235145096,
            null,
            -0.017824906235145096,
            -0.014811938469260015,
            null,
            -0.014811938469260015,
            -0.011284299146496894,
            null,
            -0.011284299146496894,
            -0.007636998781408069,
            null,
            -0.007636998781408069,
            -0.004247999411373516,
            null,
            -0.004247999411373516,
            -0.001544416407434012,
            null,
            -0.001544416407434012,
            0,
            null,
            0,
            0,
            null,
            0,
            0,
            null
           ]
          },
          {
           "i": [],
           "j": [],
           "k": [],
           "name": "Faces",
           "type": "mesh3d",
           "x": {
            "bdata": "fOkmMQisjD/e+X5qvHSTP/1+arx0k5g/IjP49rNvnT+4aVGYgd2gPwQpZhrAvaI/76+9kel8pD9qe40Zi0ymP7Xnma9nVqg/n7breGapqj/R2RicGS+tP855UmnMtK8/2Eb0Q+UDsT82YC9k0wiyPwNMv1ik8LI/ZghBkDnQsz9ISUFcWcC0P7I2AIct07U/CtejcD0Ktz9SuB6F61G4P5qZmZmZmbk/",
            "dtype": "f8"
           },
           "y": {
            "bdata": "AAAAAAAAAAAAAAAAAAAAAAAAAAAAAAAA7CfH+BoyJT+AmueGedE5P43V2FCV9kM/la0n1clJSD+W89UhMn9IP3z/TfZ/A0Q/AvqK6lGVNj+AAF8PPaQnvo1lenBglTa/QLgSq3wDRL8pWk2IJH9Iv+1nMJe2SUi/HFBmTIL2Q79A2BX2XdE5v997BG8DMiW/AAAAAAAAAAAAAAAAAAAAAAAAAAAAAAAA",
            "dtype": "f8"
           },
           "z": {
            "bdata": "AAAAAAAAAAAAAAAAAAAAAAAAAAAAAAAAUpMu49RNWb+pKN+jZ2Zxv70IfJsQSH+/iwoSTkgch7+ePuuSyVWOv9DCqru4QJK/eItT5fBdlL9HlO42yh+Vv41sm1nsXZS/XzxWNbFAkr8P1Ya6uFWOv08CV/44HIe/UIIXQPlHf7/ac7moWWZxv8mChn3ATVm/AAAAAAAAAAAAAAAAAAAAAAAAAAAAAAAA",
            "dtype": "f8"
           }
          }
         ],
         "layout": {
          "annotations": [
           {
            "showarrow": false,
            "text": "Time: 0.51s (Step: 52/100)",
            "x": 0.05,
            "xref": "paper",
            "y": 0.95,
            "yref": "paper"
           }
          ]
         },
         "name": "51"
        },
        {
         "data": [
          {
           "name": "Free Nodes",
           "type": "scatter3d",
           "x": {
            "bdata": "X0v1BLdvnT+MR0fxiN2gP0Oef7PRvaI/qq8phQZ9pD/pEi8+r0ymP6gesNuJVqg/UhBoe3upqj/k0C+OGS+tP/XBWEa3tK8/lvPdGNQDsT95fgI6wQiyPytFNcmV8LI/nv9QtDDQsz8cRzuoVcC0P9zIoMEs07U/",
            "dtype": "f8"
           },
           "y": {
            "bdata": "wnFYtUK+JT94KQLJMnw6P0iYYWGYekQ/nQ51UGDqSD9Wi7HvESFJP/i4VqeQh0Q/ekHiBrkpNz+M2Jfr9+d0vhYd5O40LDe/Y6AmwqKIRL9/G3mV6SFJvzE97pL66ki/5Zyn7/l6RL/zph7ul3w6v0ahFhaIviW/",
            "dtype": "f8"
           },
           "z": {
            "bdata": "hdieuWxLWb+yadF++mRxv4iY9I7rRX+/4nVg2voah7+6+eeJX1SOvxH8JSf+P5K/hButFjRdlL/r5D2PDB+Vv4xXjB4vXZS/NyS35vU/kr8qM3f7TFSOvxQWt+bpGoe/sCyKkNFFf78AESrW6mRxvyz8HqNVS1m/",
            "dtype": "f8"
           }
          },
          {
           "name": "Fixed Nodes",
           "type": "scatter3d",
           "x": {
            "bdata": "fOkmMQisjD/e+X5qvHSTP/1+arx0k5g/CtejcD0Ktz9SuB6F61G4P5qZmZmZmbk/",
            "dtype": "f8"
           },
           "y": {
            "bdata": "AAAAAAAAAAAAAAAAAAAAAAAAAAAAAAAAAAAAAAAAAAAAAAAAAAAAAAAAAAAAAAAA",
            "dtype": "f8"
           },
           "z": {
            "bdata": "AAAAAAAAAAAAAAAAAAAAAAAAAAAAAAAAAAAAAAAAAAAAAAAAAAAAAAAAAAAAAAAA",
            "dtype": "f8"
           }
          },
          {
           "name": "Edges",
           "type": "scatter3d",
           "x": [
            0.014000000000000005,
            0.01900000000000001,
            null,
            0.01900000000000001,
            0.02400000000000001,
            null,
            0.02400000000000001,
            0.028746471097586986,
            null,
            0.028746471097586986,
            0.03294017739575769,
            null,
            0.03294017739575769,
            0.03660445514816193,
            null,
            0.03660445514816193,
            0.04001636863253506,
            null,
            0.04001636863253506,
            0.04355380662994952,
            null,
            0.04355380662994952,
            0.047535236422900085,
            null,
            0.047535236422900085,
            0.052074297727842236,
            null,
            0.052074297727842236,
            0.05699996815374833,
            null,
            0.05699996815374833,
            0.06192562803005678,
            null,
            0.06192562803005678,
            0.06646466834167905,
            null,
            0.06646466834167905,
            0.07044608751538729,
            null,
            0.07044608751538729,
            0.07398353731447986,
            null,
            0.07398353731447986,
            0.07739548113113279,
            null,
            0.07739548113113279,
            0.08105979306426686,
            null,
            0.08105979306426686,
            0.08525352217910459,
            null,
            0.08525352217910459,
            0.09,
            null,
            0.09,
            0.095,
            null,
            0.095,
            0.1,
            null
           ],
           "y": [
            0,
            0,
            null,
            0,
            0,
            null,
            0,
            0.00016588749228753195,
            null,
            0.00016588749228753195,
            0.0004041313159254471,
            null,
            0.0004041313159254471,
            0.0006249660534762913,
            null,
            0.0006249660534762913,
            0.0007603616985893572,
            null,
            0.0007603616985893572,
            0.0007668817119220555,
            null,
            0.0007668817119220555,
            0.0006265121762021588,
            null,
            0.0006265121762021588,
            0.00035343901880315715,
            null,
            0.00035343901880315715,
            -7.788139102363711e-8,
            null,
            -7.788139102363711e-8,
            -0.0003535870772712486,
            null,
            -0.0003535870772712486,
            -0.0006266398161658523,
            null,
            -0.0006266398161658523,
            -0.0007669821306500595,
            null,
            -0.0007669821306500595,
            -0.0007604335313419528,
            null,
            -0.0007604335313419528,
            -0.0006250114814151635,
            null,
            -0.0006250114814151635,
            -0.0004041548655729775,
            null,
            -0.0004041548655729775,
            -0.0001658955689383212,
            null,
            -0.0001658955689383212,
            0,
            null,
            0,
            0,
            null,
            0,
            0,
            null
           ],
           "z": [
            0,
            0,
            null,
            0,
            0,
            null,
            0,
            -0.0015438615578040893,
            null,
            -0.0015438615578040893,
            -0.004246691224660303,
            null,
            -0.004246691224660303,
            -0.007635040426327795,
            null,
            -0.007635040426327795,
            -0.011281928815203682,
            null,
            -0.011281928815203682,
            -0.01480936660391029,
            null,
            -0.01480936660391029,
            -0.017822238101413094,
            null,
            -0.017822238101413094,
            -0.01988679302601383,
            null,
            -0.01988679302601383,
            -0.020626255266937326,
            null,
            -0.020626255266937326,
            -0.019886718978419135,
            null,
            -0.019886718978419135,
            -0.017822115141630426,
            null,
            -0.017822115141630426,
            -0.014809228347894516,
            null,
            -0.014809228347894516,
            -0.01128180251442771,
            null,
            -0.01128180251442771,
            -0.007634943591834517,
            null,
            -0.007634943591834517,
            -0.004246632891071522,
            null,
            -0.004246632891071522,
            -0.001543840055532329,
            null,
            -0.001543840055532329,
            0,
            null,
            0,
            0,
            null,
            0,
            0,
            null
           ]
          },
          {
           "i": [],
           "j": [],
           "k": [],
           "name": "Faces",
           "type": "mesh3d",
           "x": {
            "bdata": "fOkmMQisjD/e+X5qvHSTP/1+arx0k5g/X0v1BLdvnT+MR0fxiN2gP0Oef7PRvaI/qq8phQZ9pD/pEi8+r0ymP6gesNuJVqg/UhBoe3upqj/k0C+OGS+tP/XBWEa3tK8/lvPdGNQDsT95fgI6wQiyPytFNcmV8LI/nv9QtDDQsz8cRzuoVcC0P9zIoMEs07U/CtejcD0Ktz9SuB6F61G4P5qZmZmZmbk/",
            "dtype": "f8"
           },
           "y": {
            "bdata": "AAAAAAAAAAAAAAAAAAAAAAAAAAAAAAAAwnFYtUK+JT94KQLJMnw6P0iYYWGYekQ/nQ51UGDqSD9Wi7HvESFJP/i4VqeQh0Q/ekHiBrkpNz+M2Jfr9+d0vhYd5O40LDe/Y6AmwqKIRL9/G3mV6SFJvzE97pL66ki/5Zyn7/l6RL/zph7ul3w6v0ahFhaIviW/AAAAAAAAAAAAAAAAAAAAAAAAAAAAAAAA",
            "dtype": "f8"
           },
           "z": {
            "bdata": "AAAAAAAAAAAAAAAAAAAAAAAAAAAAAAAAhdieuWxLWb+yadF++mRxv4iY9I7rRX+/4nVg2voah7+6+eeJX1SOvxH8JSf+P5K/hButFjRdlL/r5D2PDB+Vv4xXjB4vXZS/NyS35vU/kr8qM3f7TFSOvxQWt+bpGoe/sCyKkNFFf78AESrW6mRxvyz8HqNVS1m/AAAAAAAAAAAAAAAAAAAAAAAAAAAAAAAA",
            "dtype": "f8"
           }
          }
         ],
         "layout": {
          "annotations": [
           {
            "showarrow": false,
            "text": "Time: 0.52s (Step: 53/100)",
            "x": 0.05,
            "xref": "paper",
            "y": 0.95,
            "yref": "paper"
           }
          ]
         },
         "name": "52"
        },
        {
         "data": [
          {
           "name": "Free Nodes",
           "type": "scatter3d",
           "x": {
            "bdata": "YUpDJrpvnT/Com94kN2gP4p05LrjvaI/Je+iLSR9pD/eznNE1EymP82AzdysVqg/9FC5AJGpqj//uOF/GS+tP1PLl5+htK8/ryaggsIDsT9Yg0OergiyP1JSb96G8LI/oCi4oCfQsz/vGdrcUcC0P/s8XPcr07U/",
            "dtype": "f8"
           },
           "y": {
            "bdata": "wx6JYkNKJj/SkeSUviY7PyumnKd6/kQ/C7WZpNKKST9jPke20sJJP+PcgneQC0U/0eD5aCq+Nz+eCWOp8peCvsXN+tGbwje/kuZvSoINRb+pFFkPY8RJv0mWCYn4i0m/jgW27Dn/RL+wAbgYiyc7v4pFs1XTSia/",
            "dtype": "f8"
           },
           "z": {
            "bdata": "GujYQ/VIWb8qY+VKhGNxv3PQ8OS4Q3+/XWfwIqUZh78ONP2K7FKOv/n7ovc+P5K/xRxUo3JclL9vFbtBSh6VvyMpMkNtXJS/iRsPBTY/kr+D1mZa2FKOv75lXp+SGYe/nGKQZJxDf78ZXBAKc2Nxv6Ame5/bSFm/",
            "dtype": "f8"
           }
          },
          {
           "name": "Fixed Nodes",
           "type": "scatter3d",
           "x": {
            "bdata": "fOkmMQisjD/e+X5qvHSTP/1+arx0k5g/CtejcD0Ktz9SuB6F61G4P5qZmZmZmbk/",
            "dtype": "f8"
           },
           "y": {
            "bdata": "AAAAAAAAAAAAAAAAAAAAAAAAAAAAAAAAAAAAAAAAAAAAAAAAAAAAAAAAAAAAAAAA",
            "dtype": "f8"
           },
           "z": {
            "bdata": "AAAAAAAAAAAAAAAAAAAAAAAAAAAAAAAAAAAAAAAAAAAAAAAAAAAAAAAAAAAAAAAA",
            "dtype": "f8"
           }
          },
          {
           "name": "Edges",
           "type": "scatter3d",
           "x": [
            0.014000000000000005,
            0.01900000000000001,
            null,
            0.01900000000000001,
            0.02400000000000001,
            null,
            0.02400000000000001,
            0.028746517739657643,
            null,
            0.028746517739657643,
            0.03294040174643477,
            null,
            0.03294040174643477,
            0.03660499245072753,
            null,
            0.03660499245072753,
            0.040017252512795566,
            null,
            0.040017252512795566,
            0.04355491004562649,
            null,
            0.04355491004562649,
            0.04753627963396099,
            null,
            0.04753627963396099,
            0.05207493909679953,
            null,
            0.05207493909679953,
            0.05699996648842109,
            null,
            0.05699996648842109,
            0.061924982768593616,
            null,
            0.061924982768593616,
            0.06646362008191418,
            null,
            0.06646362008191418,
            0.07044497836933539,
            null,
            0.07044497836933539,
            0.07398264818704917,
            null,
            0.07398264818704917,
            0.07739494012654058,
            null,
            0.07739494012654058,
            0.08105956689733039,
            null,
            0.08105956689733039,
            0.08525347508497198,
            null,
            0.08525347508497198,
            0.09,
            null,
            0.09,
            0.095,
            null,
            0.095,
            0.1,
            null
           ],
           "y": [
            0,
            0,
            null,
            0,
            0,
            null,
            0,
            0.00017005989617956658,
            null,
            0.00017005989617956658,
            0.0004142966544285173,
            null,
            0.0004142966544285173,
            0.0006406878376072391,
            null,
            0.0006406878376072391,
            0.00077948842335976,
            null,
            0.00077948842335976,
            0.0007861641757304746,
            null,
            0.0007861641757304746,
            0.0006422477154250063,
            null,
            0.0006422477154250063,
            0.0003622869053070523,
            null,
            0.0003622869053070523,
            -1.3853271658120358e-7,
            null,
            -1.3853271658120358e-7,
            -0.00036255172924911885,
            null,
            -0.00036255172924911885,
            -0.0006424795327568281,
            null,
            -0.0006424795327568281,
            -0.0007863506022621941,
            null,
            -0.0007863506022621941,
            -0.0007796252776414793,
            null,
            -0.0007796252776414793,
            -0.000640776904603667,
            null,
            -0.000640776904603667,
            -0.0004143442717748037,
            null,
            -0.0004143442717748037,
            -0.00017007665414907016,
            null,
            -0.00017007665414907016,
            0,
            null,
            0,
            0,
            null,
            0,
            0,
            null
           ],
           "z": [
            0,
            0,
            null,
            0,
            0,
            null,
            0,
            -0.0015432734648031022,
            null,
            -0.0015432734648031022,
            -0.004245297210524504,
            null,
            -0.004245297210524504,
            -0.007632944339139513,
            null,
            -0.007632944339139513,
            -0.011279382828479784,
            null,
            -0.011279382828479784,
            -0.014806602470025989,
            null,
            -0.014806602470025989,
            -0.01781938921407897,
            null,
            -0.01781938921407897,
            -0.01988391038778727,
            null,
            -0.01988391038778727,
            -0.020623359929932968,
            null,
            -0.020623359929932968,
            -0.01988383028632613,
            null,
            -0.01988383028632613,
            -0.01781925588491221,
            null,
            -0.01781925588491221,
            -0.014806452044335621,
            null,
            -0.014806452044335621,
            -0.011279244888828251,
            null,
            -0.011279244888828251,
            -0.00763283816288465,
            null,
            -0.00763283816288465,
            -0.004245232937157639,
            null,
            -0.004245232937157639,
            -0.0015432495837778629,
            null,
            -0.0015432495837778629,
            0,
            null,
            0,
            0,
            null,
            0,
            0,
            null
           ]
          },
          {
           "i": [],
           "j": [],
           "k": [],
           "name": "Faces",
           "type": "mesh3d",
           "x": {
            "bdata": "fOkmMQisjD/e+X5qvHSTP/1+arx0k5g/YUpDJrpvnT/Com94kN2gP4p05LrjvaI/Je+iLSR9pD/eznNE1EymP82AzdysVqg/9FC5AJGpqj//uOF/GS+tP1PLl5+htK8/ryaggsIDsT9Yg0OergiyP1JSb96G8LI/oCi4oCfQsz/vGdrcUcC0P/s8XPcr07U/CtejcD0Ktz9SuB6F61G4P5qZmZmZmbk/",
            "dtype": "f8"
           },
           "y": {
            "bdata": "AAAAAAAAAAAAAAAAAAAAAAAAAAAAAAAAwx6JYkNKJj/SkeSUviY7PyumnKd6/kQ/C7WZpNKKST9jPke20sJJP+PcgneQC0U/0eD5aCq+Nz+eCWOp8peCvsXN+tGbwje/kuZvSoINRb+pFFkPY8RJv0mWCYn4i0m/jgW27Dn/RL+wAbgYiyc7v4pFs1XTSia/AAAAAAAAAAAAAAAAAAAAAAAAAAAAAAAA",
            "dtype": "f8"
           },
           "z": {
            "bdata": "AAAAAAAAAAAAAAAAAAAAAAAAAAAAAAAAGujYQ/VIWb8qY+VKhGNxv3PQ8OS4Q3+/XWfwIqUZh78ONP2K7FKOv/n7ovc+P5K/xRxUo3JclL9vFbtBSh6VvyMpMkNtXJS/iRsPBTY/kr+D1mZa2FKOv75lXp+SGYe/nGKQZJxDf78ZXBAKc2Nxv6Ame5/bSFm/AAAAAAAAAAAAAAAAAAAAAAAAAAAAAAAA",
            "dtype": "f8"
           }
          }
         ],
         "layout": {
          "annotations": [
           {
            "showarrow": false,
            "text": "Time: 0.53s (Step: 54/100)",
            "x": 0.05,
            "xref": "paper",
            "y": 0.95,
            "yref": "paper"
           }
          ]
         },
         "name": "53"
        },
        {
         "data": [
          {
           "name": "Free Nodes",
           "type": "scatter3d",
           "x": {
            "bdata": "vELSWr1vnT/S0JwtmN2gP+NTHTD2vaI/KEJaikJ9pD8bH08r+kymP5ad7bHQVqg/zpI+CKepqj+EoTRxGS+tP3ofvXWLtK8/qPTDgbADsT+p2n+RmwiyPxax25h38LI/nGC3VR7Qsz/HmTf6TcC0P4l/Nygr07U/",
            "dtype": "f8"
           },
           "y": {
            "bdata": "q00MpB3WJj9rwF4AHtE7P/Me8k89gkU/PSPr2SIrSj+0JsqFd2RKPwjjCpODj0U/l9owgLBSOD9uEwSfWGqIvpXJzWGIWDi/oRmWFBWSRb8f2/Bwi2ZKv5MqfP6rLEq/F+kWDT+DRb+1XsOxM9I7vyARe1Di1ia/",
            "dtype": "f8"
           },
           "z": {
            "bdata": "yJcTiG5GWb8zJ9YLBWJxv4z6+6J4QX+/59Q0K0cYh7/Bm3eacFGOvwaTBjB7PpK/bUlKj6xblL85FbFTgx2VvxpR/s2mW5S/EGiTl3E+kr9Xpy7mWlGOvxWSMTYzGIe/mVPc0llBf7+mBj5T8mFxv56xCItSRlm/",
            "dtype": "f8"
           }
          },
          {
           "name": "Fixed Nodes",
           "type": "scatter3d",
           "x": {
            "bdata": "fOkmMQisjD/e+X5qvHSTP/1+arx0k5g/CtejcD0Ktz9SuB6F61G4P5qZmZmZmbk/",
            "dtype": "f8"
           },
           "y": {
            "bdata": "AAAAAAAAAAAAAAAAAAAAAAAAAAAAAAAAAAAAAAAAAAAAAAAAAAAAAAAAAAAAAAAA",
            "dtype": "f8"
           },
           "z": {
            "bdata": "AAAAAAAAAAAAAAAAAAAAAAAAAAAAAAAAAAAAAAAAAAAAAAAAAAAAAAAAAAAAAAAA",
            "dtype": "f8"
           }
          },
          {
           "name": "Edges",
           "type": "scatter3d",
           "x": [
            0.014000000000000005,
            0.01900000000000001,
            null,
            0.01900000000000001,
            0.02400000000000001,
            null,
            0.02400000000000001,
            0.02874656550244724,
            null,
            0.02874656550244724,
            0.03294063145441019,
            null,
            0.03294063145441019,
            0.03660554253898576,
            null,
            0.03660554253898576,
            0.04001815737604303,
            null,
            0.04001815737604303,
            0.04355603960681106,
            null,
            0.04355603960681106,
            0.047537347526311155,
            null,
            0.047537347526311155,
            0.05207559562339768,
            null,
            0.05207559562339768,
            0.05699996477989358,
            null,
            0.05699996477989358,
            0.061924322245032706,
            null,
            0.061924322245032706,
            0.06646254699804166,
            null,
            0.06646254699804166,
            0.07044384290916618,
            null,
            0.07044384290916618,
            0.07398173791779458,
            null,
            0.07398173791779458,
            0.07739438622172873,
            null,
            0.07739438622172873,
            0.08105933531587715,
            null,
            0.08105933531587715,
            0.08525342685561389,
            null,
            0.08525342685561389,
            0.09,
            null,
            0.09,
            0.095,
            null,
            0.095,
            0.1,
            null
           ],
           "y": [
            0,
            0,
            null,
            0,
            0,
            null,
            0,
            0.00017422782732322054,
            null,
            0.00017422782732322054,
            0.0004244516607014917,
            null,
            0.0004244516607014917,
            0.0006563948990256626,
            null,
            0.0006563948990256626,
            0.0007985992595759061,
            null,
            0.0007985992595759061,
            0.000805433617260229,
            null,
            0.000805433617260229,
            0.000657977338128197,
            null,
            0.000657977338128197,
            0.00037113961315375074,
            null,
            0.00037113961315375074,
            -1.8190901541356007e-7,
            null,
            -1.8190901541356007e-7,
            -0.0003714879001598612,
            null,
            -0.0003714879001598612,
            -0.000658283513232761,
            null,
            -0.000658283513232761,
            -0.0008056813111413131,
            null,
            -0.0008056813111413131,
            -0.0007987823309759272,
            null,
            -0.0007987823309759272,
            -0.0006565149180269039,
            null,
            -0.0006565149180269039,
            -0.0004245163161278141,
            null,
            -0.0004245163161278141,
            -0.00017425072313959847,
            null,
            -0.00017425072313959847,
            0,
            null,
            0,
            0,
            null,
            0,
            0,
            null
           ],
           "z": [
            0,
            0,
            null,
            0,
            0,
            null,
            0,
            -0.0015426711473138666,
            null,
            -0.0015426711473138666,
            -0.004243869506703568,
            null,
            -0.004243869506703568,
            -0.007630797612135819,
            null,
            -0.007630797612135819,
            -0.011276775365880854,
            null,
            -0.011276775365880854,
            -0.01480377169987246,
            null,
            -0.01480377169987246,
            -0.017816471868758142,
            null,
            -0.017816471868758142,
            -0.019880958791483595,
            null,
            -0.019880958791483595,
            -0.020620395644319365,
            null,
            -0.020620395644319365,
            -0.019880873034325487,
            null,
            -0.019880873034325487,
            -0.01781632888455681,
            null,
            -0.01781632888455681,
            -0.014803609990696449,
            null,
            -0.014803609990696449,
            -0.011276626674040316,
            null,
            -0.011276626674040316,
            -0.007630682824829282,
            null,
            -0.007630682824829282,
            -0.004243799765278366,
            null,
            -0.004243799765278366,
            -0.0015426450810408286,
            null,
            -0.0015426450810408286,
            0,
            null,
            0,
            0,
            null,
            0,
            0,
            null
           ]
          },
          {
           "i": [],
           "j": [],
           "k": [],
           "name": "Faces",
           "type": "mesh3d",
           "x": {
            "bdata": "fOkmMQisjD/e+X5qvHSTP/1+arx0k5g/vELSWr1vnT/S0JwtmN2gP+NTHTD2vaI/KEJaikJ9pD8bH08r+kymP5ad7bHQVqg/zpI+CKepqj+EoTRxGS+tP3ofvXWLtK8/qPTDgbADsT+p2n+RmwiyPxax25h38LI/nGC3VR7Qsz/HmTf6TcC0P4l/Nygr07U/CtejcD0Ktz9SuB6F61G4P5qZmZmZmbk/",
            "dtype": "f8"
           },
           "y": {
            "bdata": "AAAAAAAAAAAAAAAAAAAAAAAAAAAAAAAAq00MpB3WJj9rwF4AHtE7P/Me8k89gkU/PSPr2SIrSj+0JsqFd2RKPwjjCpODj0U/l9owgLBSOD9uEwSfWGqIvpXJzWGIWDi/oRmWFBWSRb8f2/Bwi2ZKv5MqfP6rLEq/F+kWDT+DRb+1XsOxM9I7vyARe1Di1ia/AAAAAAAAAAAAAAAAAAAAAAAAAAAAAAAA",
            "dtype": "f8"
           },
           "z": {
            "bdata": "AAAAAAAAAAAAAAAAAAAAAAAAAAAAAAAAyJcTiG5GWb8zJ9YLBWJxv4z6+6J4QX+/59Q0K0cYh7/Bm3eacFGOvwaTBjB7PpK/bUlKj6xblL85FbFTgx2VvxpR/s2mW5S/EGiTl3E+kr9Xpy7mWlGOvxWSMTYzGIe/mVPc0llBf7+mBj5T8mFxv56xCItSRlm/AAAAAAAAAAAAAAAAAAAAAAAAAAAAAAAA",
            "dtype": "f8"
           }
          }
         ],
         "layout": {
          "annotations": [
           {
            "showarrow": false,
            "text": "Time: 0.54s (Step: 55/100)",
            "x": 0.05,
            "xref": "paper",
            "y": 0.95,
            "yref": "paper"
           }
          ]
         },
         "name": "54"
        },
        {
         "data": [
          {
           "name": "Free Nodes",
           "type": "scatter3d",
           "x": {
            "bdata": "rY+RosBvnT+Hnp8QoN2gP5tzrxIJvqI//f56mmF9pD/lm63xIE2mPyBUBVr1Vqg/kkJSkb2pqj9hQC1iGS+tPzs9eMl0tK8/5mnUFp4DsT/SAUcUiAiyP6oj6vhn8LI/N0iQ0xTQsz/L0m0ASsC0P6F8N1Qq07U/",
            "dtype": "f8"
           },
           "y": {
            "bdata": "FUQ+X9FhJz+LzqEZUXs8P828SJjgBUY/SrJIllHLSj/jJcmaAQZLP0J57PBrE0Y/UbbkyVDnOD8kk/v7N7SLvh/2et7y7Ti/xY3EK1cWRr8kH0kPXwhLv42n/+ARzUq/2CwBDgcHRr8g6IADj3w8v8N86+yyYie/",
            "dtype": "f8"
           },
           "z": {
            "bdata": "mDMUj9hDWb9PKO3GfGBxv2e/CNEqP3+/duMX+OAWh7+c9iK+60+Ov9kJ2NOyPZK/ETf53uFalL8D5oXKtxyVv6TiL8XbWpS/QKgKpag9kr/c24qs1E+Ov1FF97fLFoe/ZipK8Ak/f7/35VW/aGBxv97NRHy6Q1m/",
            "dtype": "f8"
           }
          },
          {
           "name": "Fixed Nodes",
           "type": "scatter3d",
           "x": {
            "bdata": "fOkmMQisjD/e+X5qvHSTP/1+arx0k5g/CtejcD0Ktz9SuB6F61G4P5qZmZmZmbk/",
            "dtype": "f8"
           },
           "y": {
            "bdata": "AAAAAAAAAAAAAAAAAAAAAAAAAAAAAAAAAAAAAAAAAAAAAAAAAAAAAAAAAAAAAAAA",
            "dtype": "f8"
           },
           "z": {
            "bdata": "AAAAAAAAAAAAAAAAAAAAAAAAAAAAAAAAAAAAAAAAAAAAAAAAAAAAAAAAAAAAAAAA",
            "dtype": "f8"
           }
          },
          {
           "name": "Edges",
           "type": "scatter3d",
           "x": [
            0.014000000000000005,
            0.01900000000000001,
            null,
            0.01900000000000001,
            0.02400000000000001,
            null,
            0.02400000000000001,
            0.028746614382171454,
            null,
            0.028746614382171454,
            0.03294086649821986,
            null,
            0.03294086649821986,
            0.036606105357100925,
            null,
            0.036606105357100925,
            0.040019083125569545,
            null,
            0.040019083125569545,
            0.04355719518826343,
            null,
            0.04355719518826343,
            0.04753843997847462,
            null,
            0.04753843997847462,
            0.052076267232341725,
            null,
            0.052076267232341725,
            0.05699996303030797,
            null,
            0.05699996303030797,
            0.06192364653918011,
            null,
            0.06192364653918011,
            0.06646144921652528,
            null,
            0.06646144921652528,
            0.07044268126538292,
            null,
            0.07044268126538292,
            0.07398080660835996,
            null,
            0.07398080660835996,
            0.07739381947638511,
            null,
            0.07739381947638511,
            0.08105909834359719,
            null,
            0.08105909834359719,
            0.08525337749550711,
            null,
            0.08525337749550711,
            0.09,
            null,
            0.09,
            0.095,
            null,
            0.095,
            0.1,
            null
           ],
           "y": [
            0,
            0,
            null,
            0,
            0,
            null,
            0,
            0.00017839127360422315,
            null,
            0.00017839127360422315,
            0.0004345963476517298,
            null,
            0.0004345963476517298,
            0.0006720873503293312,
            null,
            0.0006720873503293312,
            0.0008176945089580303,
            null,
            0.0008176945089580303,
            0.0008246906123272026,
            null,
            0.0008246906123272026,
            0.0006737019592469101,
            null,
            0.0006737019592469101,
            0.00037999842051559147,
            null,
            0.00037999842051559147,
            -2.0641073027803444e-7,
            null,
            -2.0641073027803444e-7,
            -0.0003803937856722023,
            null,
            -0.0003803937856722023,
            -0.000674049915265256,
            null,
            -0.000674049915265256,
            -0.0008249725493181021,
            null,
            -0.0008249725493181021,
            -0.0008179032611199552,
            null,
            -0.0008179032611199552,
            -0.0006722244688800684,
            null,
            -0.0006722244688800684,
            -0.0004346703676706438,
            null,
            -0.0004346703676706438,
            -0.0001784175314787137,
            null,
            -0.0001784175314787137,
            0,
            null,
            0,
            0,
            null,
            0,
            0,
            null
           ],
           "z": [
            0,
            0,
            null,
            0,
            0,
            null,
            0,
            -0.0015420546372439722,
            null,
            -0.0015420546372439722,
            -0.004242408190132065,
            null,
            -0.004242408190132065,
            -0.007628600360973659,
            null,
            -0.007628600360973659,
            -0.01127410657044135,
            null,
            -0.01127410657044135,
            -0.01480087446213512,
            null,
            -0.01480087446213512,
            -0.017813486270833543,
            null,
            -0.017813486270833543,
            -0.019877938493940542,
            null,
            -0.019877938493940542,
            -0.02061736272432847,
            null,
            -0.02061736272432847,
            -0.019877847586004763,
            null,
            -0.019877847586004763,
            -0.017813334534970915,
            null,
            -0.017813334534970915,
            -0.014800702586723995,
            null,
            -0.014800702586723995,
            -0.011273948241895456,
            null,
            -0.011273948241895456,
            -0.007628477881221762,
            null,
            -0.007628477881221762,
            -0.004242333573864602,
            null,
            -0.004242333573864602,
            -0.0015420266291358213,
            null,
            -0.0015420266291358213,
            0,
            null,
            0,
            0,
            null,
            0,
            0,
            null
           ]
          },
          {
           "i": [],
           "j": [],
           "k": [],
           "name": "Faces",
           "type": "mesh3d",
           "x": {
            "bdata": "fOkmMQisjD/e+X5qvHSTP/1+arx0k5g/rY+RosBvnT+Hnp8QoN2gP5tzrxIJvqI//f56mmF9pD/lm63xIE2mPyBUBVr1Vqg/kkJSkb2pqj9hQC1iGS+tPzs9eMl0tK8/5mnUFp4DsT/SAUcUiAiyP6oj6vhn8LI/N0iQ0xTQsz/L0m0ASsC0P6F8N1Qq07U/CtejcD0Ktz9SuB6F61G4P5qZmZmZmbk/",
            "dtype": "f8"
           },
           "y": {
            "bdata": "AAAAAAAAAAAAAAAAAAAAAAAAAAAAAAAAFUQ+X9FhJz+LzqEZUXs8P828SJjgBUY/SrJIllHLSj/jJcmaAQZLP0J57PBrE0Y/UbbkyVDnOD8kk/v7N7SLvh/2et7y7Ti/xY3EK1cWRr8kH0kPXwhLv42n/+ARzUq/2CwBDgcHRr8g6IADj3w8v8N86+yyYie/AAAAAAAAAAAAAAAAAAAAAAAAAAAAAAAA",
            "dtype": "f8"
           },
           "z": {
            "bdata": "AAAAAAAAAAAAAAAAAAAAAAAAAAAAAAAAmDMUj9hDWb9PKO3GfGBxv2e/CNEqP3+/duMX+OAWh7+c9iK+60+Ov9kJ2NOyPZK/ETf53uFalL8D5oXKtxyVv6TiL8XbWpS/QKgKpag9kr/c24qs1E+Ov1FF97fLFoe/ZipK8Ak/f7/35VW/aGBxv97NRHy6Q1m/AAAAAAAAAAAAAAAAAAAAAAAAAAAAAAAA",
            "dtype": "f8"
           }
          }
         ],
         "layout": {
          "annotations": [
           {
            "showarrow": false,
            "text": "Time: 0.55s (Step: 56/100)",
            "x": 0.05,
            "xref": "paper",
            "y": 0.95,
            "yref": "paper"
           }
          ]
         },
         "name": "55"
        },
        {
         "data": [
          {
           "name": "Free Nodes",
           "type": "scatter3d",
           "x": {
            "bdata": "oqtv/cNvnT+4CUchqN2gPy8cHGIcvqI/SlsqXYF9pD82XHSWSE2mP247AtQaV6g/4JxJm9Spqj/HcM5SGS+tP8T9eZtdtK8/niteQosDsT/MHyondAiyP0CRC/9X8LI/PP2EGgvQsz/d35bvRcC0P20VYXsp07U/",
            "dtype": "f8"
           },
           "y": {
            "bdata": "Y0pwt13tJz+knQ7iViU9P9AmRctjiUY/e2f6FV5rSz+yTbhUcKdLP1R6c0dJl0Y/Ql3Ltwt8OT8Cc/r/lWiMvutDqpnYgjm/a5j74EaaRr+GSrgi3KlLv34LAo4obUu/chr6pJCKRr/tJZRrmyY9v0F079hD7ie/",
            "dtype": "f8"
           },
           "z": {
            "bdata": "C2KYZDNBWb8QoUKD615xv3q11HnPPH+/RIM3kHIVh79QUof9XU6Ov3QXWuflPJK/xD5AlxJalL9YJrqr5xuVv/7GxC4MWpS/KwezM9s8kr/eR9y5RU6Ov1NPGjBcFYe/hIZ6z6w8f7/9U4pa1l5xv3JoUIcTQVm/",
            "dtype": "f8"
           }
          },
          {
           "name": "Fixed Nodes",
           "type": "scatter3d",
           "x": {
            "bdata": "fOkmMQisjD/e+X5qvHSTP/1+arx0k5g/CtejcD0Ktz9SuB6F61G4P5qZmZmZmbk/",
            "dtype": "f8"
           },
           "y": {
            "bdata": "AAAAAAAAAAAAAAAAAAAAAAAAAAAAAAAAAAAAAAAAAAAAAAAAAAAAAAAAAAAAAAAA",
            "dtype": "f8"
           },
           "z": {
            "bdata": "AAAAAAAAAAAAAAAAAAAAAAAAAAAAAAAAAAAAAAAAAAAAAAAAAAAAAAAAAAAAAAAA",
            "dtype": "f8"
           }
          },
          {
           "name": "Edges",
           "type": "scatter3d",
           "x": [
            0.014000000000000005,
            0.01900000000000001,
            null,
            0.01900000000000001,
            0.02400000000000001,
            null,
            0.02400000000000001,
            0.028746664374846305,
            null,
            0.028746664374846305,
            0.03294110685557733,
            null,
            0.03294110685557733,
            0.036606680847448884,
            null,
            0.036606680847448884,
            0.04002002966188074,
            null,
            0.04002002966188074,
            0.04355837666133093,
            null,
            0.04355837666133093,
            0.04753955686566412,
            null,
            0.04753955686566412,
            0.05207695384597755,
            null,
            0.05207695384597755,
            0.05699996124096312,
            null,
            0.05699996124096312,
            0.06192295573145715,
            null,
            0.06192295573145715,
            0.06646032686528122,
            null,
            0.06646032686528122,
            0.07044149357000079,
            null,
            0.07044149357000079,
            0.07397985436143006,
            null,
            0.07397985436143006,
            0.07739323995064223,
            null,
            0.07739323995064223,
            0.08105885600423286,
            null,
            0.08105885600423286,
            0.08525332700908957,
            null,
            0.08525332700908957,
            0.09,
            null,
            0.09,
            0.095,
            null,
            0.095,
            0.1,
            null
           ],
           "y": [
            0,
            0,
            null,
            0,
            0,
            null,
            0,
            0.00018255013466779703,
            null,
            0.00018255013466779703,
            0.000444730483702272,
            null,
            0.000444730483702272,
            0.0006877648616321012,
            null,
            0.0006877648616321012,
            0.000836773815495947,
            null,
            0.000836773815495947,
            0.0008439348688988239,
            null,
            0.0008439348688988239,
            0.0006894214447149085,
            null,
            0.0006894214447149085,
            0.00038886343081175414,
            null,
            0.00038886343081175414,
            -2.1166010809739672e-7,
            null,
            -2.1166010809739672e-7,
            -0.00038926876155992326,
            null,
            -0.00038926876155992326,
            -0.000689777954872251,
            null,
            -0.000689777954872251,
            -0.0008442234879473965,
            null,
            -0.0008442234879473965,
            -0.0008369873066985526,
            null,
            -0.0008369873066985526,
            -0.0006879049560247332,
            null,
            -0.0006879049560247332,
            -0.00044480604590599223,
            null,
            -0.00044480604590599223,
            -0.00018257692542436764,
            null,
            -0.00018257692542436764,
            0,
            null,
            0,
            0,
            null,
            0,
            0,
            null
           ],
           "z": [
            0,
            0,
            null,
            0,
            0,
            null,
            0,
            -0.00154142397730628,
            null,
            -0.00154142397730628,
            -0.00424091336405065,
            null,
            -0.00424091336405065,
            -0.007626352741949,
            null,
            -0.007626352741949,
            -0.011271376634739767,
            null,
            -0.011271376634739767,
            -0.014797910976008272,
            null,
            -0.014797910976008272,
            -0.017810432668305023,
            null,
            -0.017810432668305023,
            -0.0198748497787722,
            null,
            -0.0198748497787722,
            -0.02061426149024323,
            null,
            -0.02061426149024323,
            -0.01987475429013496,
            null,
            -0.01987475429013496,
            -0.017810273199535914,
            null,
            -0.017810273199535914,
            -0.014797730192672217,
            null,
            -0.014797730192672217,
            -0.011271209924678926,
            null,
            -0.011271209924678926,
            -0.007626223603126928,
            null,
            -0.007626223603126928,
            -0.00424083454040147,
            null,
            -0.00424083454040147,
            -0.0015413943012903245,
            null,
            -0.0015413943012903245,
            0,
            null,
            0,
            0,
            null,
            0,
            0,
            null
           ]
          },
          {
           "i": [],
           "j": [],
           "k": [],
           "name": "Faces",
           "type": "mesh3d",
           "x": {
            "bdata": "fOkmMQisjD/e+X5qvHSTP/1+arx0k5g/oqtv/cNvnT+4CUchqN2gPy8cHGIcvqI/SlsqXYF9pD82XHSWSE2mP247AtQaV6g/4JxJm9Spqj/HcM5SGS+tP8T9eZtdtK8/niteQosDsT/MHyondAiyP0CRC/9X8LI/PP2EGgvQsz/d35bvRcC0P20VYXsp07U/CtejcD0Ktz9SuB6F61G4P5qZmZmZmbk/",
            "dtype": "f8"
           },
           "y": {
            "bdata": "AAAAAAAAAAAAAAAAAAAAAAAAAAAAAAAAY0pwt13tJz+knQ7iViU9P9AmRctjiUY/e2f6FV5rSz+yTbhUcKdLP1R6c0dJl0Y/Ql3Ltwt8OT8Cc/r/lWiMvutDqpnYgjm/a5j74EaaRr+GSrgi3KlLv34LAo4obUu/chr6pJCKRr/tJZRrmyY9v0F079hD7ie/AAAAAAAAAAAAAAAAAAAAAAAAAAAAAAAA",
            "dtype": "f8"
           },
           "z": {
            "bdata": "AAAAAAAAAAAAAAAAAAAAAAAAAAAAAAAAC2KYZDNBWb8QoUKD615xv3q11HnPPH+/RIM3kHIVh79QUof9XU6Ov3QXWuflPJK/xD5AlxJalL9YJrqr5xuVv/7GxC4MWpS/KwezM9s8kr/eR9y5RU6Ov1NPGjBcFYe/hIZ6z6w8f7/9U4pa1l5xv3JoUIcTQVm/AAAAAAAAAAAAAAAAAAAAAAAAAAAAAAAA",
            "dtype": "f8"
           }
          }
         ],
         "layout": {
          "annotations": [
           {
            "showarrow": false,
            "text": "Time: 0.56s (Step: 57/100)",
            "x": 0.05,
            "xref": "paper",
            "y": 0.95,
            "yref": "paper"
           }
          ]
         },
         "name": "56"
        },
        {
         "data": [
          {
           "name": "Free Nodes",
           "type": "scatter3d",
           "x": {
            "bdata": "rglaa8dvnT9X/l9fsN2gPyUt4B0wvqI/8MyG0aF9pD+8UYAYcU2mPwIUyh5BV6g/szh0Jeypqj/avhhDGS+tPzwCdOxFtK8/tRnvBHgDsT/em7vKXwiyPwmlsatH8LI/8tPXKgHQsz/NxczHQcC0PwoWuZ0o07U/",
            "dtype": "f8"
           },
           "y": {
            "bdata": "UWA3FsF4KD/O1J5ZLc89P9wkhkrFDEc/1lPIOkYLTD+zybdJwUhMPzMbASQZG0c/K3n/5NwQOj/yG1vKuqKKvhNCeME7Fzq/nDZBs+QdR78sjRGzAktMv92ghMPvDEy/acqRddsNR7+tVJJPWNA9v30XioGUeSi/",
            "dtype": "f8"
           },
           "z": {
            "bdata": "ftuSF38+Wb+Td+JJUV1xvy5dIatmOn+/EiII/PsTh7/TEAxix0yOv5EqmW8UPJK/p198vT5ZlL+Emuj8EhuVv/LwcBA4WZS/cxQzSQk8kr9ltAMZrkyOv2qIhajkE4e/fUGXgEI6f7/X3XYvO11xv8ctsb1dPlm/",
            "dtype": "f8"
           }
          },
          {
           "name": "Fixed Nodes",
           "type": "scatter3d",
           "x": {
            "bdata": "fOkmMQisjD/e+X5qvHSTP/1+arx0k5g/CtejcD0Ktz9SuB6F61G4P5qZmZmZmbk/",
            "dtype": "f8"
           },
           "y": {
            "bdata": "AAAAAAAAAAAAAAAAAAAAAAAAAAAAAAAAAAAAAAAAAAAAAAAAAAAAAAAAAAAAAAAA",
            "dtype": "f8"
           },
           "z": {
            "bdata": "AAAAAAAAAAAAAAAAAAAAAAAAAAAAAAAAAAAAAAAAAAAAAAAAAAAAAAAAAAAAAAAA",
            "dtype": "f8"
           }
          },
          {
           "name": "Edges",
           "type": "scatter3d",
           "x": [
            0.014000000000000005,
            0.01900000000000001,
            null,
            0.01900000000000001,
            0.02400000000000001,
            null,
            0.02400000000000001,
            0.028746715476253897,
            null,
            0.028746715476253897,
            0.032941352503254855,
            null,
            0.032941352503254855,
            0.03660726895040004,
            null,
            0.03660726895040004,
            0.04002099688241312,
            null,
            0.04002099688241312,
            0.043559583893656634,
            null,
            0.043559583893656634,
            0.04754069805952811,
            null,
            0.04754069805952811,
            0.052077655384083064,
            null,
            0.052077655384083064,
            0.05699995941210796,
            null,
            0.05699995941210796,
            0.061922249902640364,
            null,
            0.061922249902640364,
            0.06645918007334368,
            null,
            0.06645918007334368,
            0.07044027995617294,
            null,
            0.07044027995617294,
            0.073978881280386,
            null,
            0.073978881280386,
            0.07739264770482615,
            null,
            0.07739264770482615,
            0.08105860832144814,
            null,
            0.08105860832144814,
            0.08525327540072439,
            null,
            0.08525327540072439,
            0.09,
            null,
            0.09,
            0.095,
            null,
            0.095,
            0.1,
            null
           ],
           "y": [
            0,
            0,
            null,
            0,
            0,
            null,
            0,
            0.0001867042256964457,
            null,
            0.0001867042256964457,
            0.00045485360316928076,
            null,
            0.00045485360316928076,
            0.0007034266791815752,
            null,
            0.0007034266791815752,
            0.0008558361928999679,
            null,
            0.0008558361928999679,
            0.0008631652630682246,
            null,
            0.0008631652630682246,
            0.0007051346547165327,
            null,
            0.0007051346547165327,
            0.00039773362095542564,
            null,
            0.00039773362095542564,
            -1.984511516698962e-7,
            null,
            -1.984511516698962e-7,
            -0.0003981133354225296,
            null,
            -0.0003981133354225296,
            -0.0007054678631079505,
            null,
            -0.0007054678631079505,
            -0.000863434141262697,
            null,
            -0.000863434141262697,
            -0.0008560343476675909,
            null,
            -0.0008560343476675909,
            -0.0007035562113187457,
            null,
            -0.0007035562113187457,
            -0.00045492321039237554,
            null,
            -0.00045492321039237554,
            -0.00018672883813425,
            null,
            -0.00018672883813425,
            0,
            null,
            0,
            0,
            null,
            0,
            0,
            null
           ],
           "z": [
            0,
            0,
            null,
            0,
            0,
            null,
            0,
            -0.0015407792218817547,
            null,
            -0.0015407792218817547,
            -0.004239385160102932,
            null,
            -0.004239385160102932,
            -0.0076240549552360325,
            null,
            -0.0076240549552360325,
            -0.011268585804843165,
            null,
            -0.011268585804843165,
            -0.014794881515179636,
            null,
            -0.014794881515179636,
            -0.017807311355037717,
            null,
            -0.017807311355037717,
            -0.01987169295816185,
            null,
            -0.01987169295816185,
            -0.020611092268291845,
            null,
            -0.020611092268291845,
            -0.01987159347866991,
            null,
            -0.01987159347866991,
            -0.01780714520716171,
            null,
            -0.01780714520716171,
            -0.014794693125134548,
            null,
            -0.014794693125134548,
            -0.011268412011023982,
            null,
            -0.011268412011023982,
            -0.007623920225754308,
            null,
            -0.007623920225754308,
            -0.004239302819250188,
            null,
            -0.004239302819250188,
            -0.001540748161249593,
            null,
            -0.001540748161249593,
            0,
            null,
            0,
            0,
            null,
            0,
            0,
            null
           ]
          },
          {
           "i": [],
           "j": [],
           "k": [],
           "name": "Faces",
           "type": "mesh3d",
           "x": {
            "bdata": "fOkmMQisjD/e+X5qvHSTP/1+arx0k5g/rglaa8dvnT9X/l9fsN2gPyUt4B0wvqI/8MyG0aF9pD+8UYAYcU2mPwIUyh5BV6g/szh0Jeypqj/avhhDGS+tPzwCdOxFtK8/tRnvBHgDsT/em7vKXwiyPwmlsatH8LI/8tPXKgHQsz/NxczHQcC0PwoWuZ0o07U/CtejcD0Ktz9SuB6F61G4P5qZmZmZmbk/",
            "dtype": "f8"
           },
           "y": {
            "bdata": "AAAAAAAAAAAAAAAAAAAAAAAAAAAAAAAAUWA3FsF4KD/O1J5ZLc89P9wkhkrFDEc/1lPIOkYLTD+zybdJwUhMPzMbASQZG0c/K3n/5NwQOj/yG1vKuqKKvhNCeME7Fzq/nDZBs+QdR78sjRGzAktMv92ghMPvDEy/acqRddsNR7+tVJJPWNA9v30XioGUeSi/AAAAAAAAAAAAAAAAAAAAAAAAAAAAAAAA",
            "dtype": "f8"
           },
           "z": {
            "bdata": "AAAAAAAAAAAAAAAAAAAAAAAAAAAAAAAAftuSF38+Wb+Td+JJUV1xvy5dIatmOn+/EiII/PsTh7/TEAxix0yOv5EqmW8UPJK/p198vT5ZlL+Emuj8EhuVv/LwcBA4WZS/cxQzSQk8kr9ltAMZrkyOv2qIhajkE4e/fUGXgEI6f7/X3XYvO11xv8ctsb1dPlm/AAAAAAAAAAAAAAAAAAAAAAAAAAAAAAAA",
            "dtype": "f8"
           }
          }
         ],
         "layout": {
          "annotations": [
           {
            "showarrow": false,
            "text": "Time: 0.57s (Step: 58/100)",
            "x": 0.05,
            "xref": "paper",
            "y": 0.95,
            "yref": "paper"
           }
          ]
         },
         "name": "57"
        },
        {
         "data": [
          {
           "name": "Free Nodes",
           "type": "scatter3d",
           "x": {
            "bdata": "iwU97MpvnT8iO7XKuN2gP6/sc0VEvqI//82n9sJ9pD/0DqZ2mk2mPyaZOjloV6g/0t8bLwSqqj8RNwozGS+tP4RpGL0ttK8/rRsWX2QDsT8Y5I7/SgiyPx+aTv828LI/RTLLBPfPsz/eYCmJPcC0P7QwRLsn07U/",
            "dtype": "f8"
           },
           "y": {
            "bdata": "7KWFPvkDKT9FCTuZ0Xg+P881XKYCkEc/anURrwarTD9WA6508OlMP966jyLXnkc/lYrskbulOj9Sp1pPLaKGvqgDpeQiqzq/PtY0GDOhR7+fOqdp1OtMv/szIX1orEy/Pa/C+eeQR79BRMoCxnk+vxbf1f+kBCm/",
            "dtype": "f8"
           },
           "z": {
            "bdata": "Zag0urs7Wb+x0tElrltxvwW9vHXwN3+/S+rZRX0Sh7+pLv32J0uOv9R+bXI+O5K/pjeJV2ZYlL+lrsXDORqVv6FqnG9fWJS/Q7yW6jI7kr8nylrTDUuOvwrtnCllEoe/yyRIEcs3f7867hhHl1txv5BuRS6ZO1m/",
            "dtype": "f8"
           }
          },
          {
           "name": "Fixed Nodes",
           "type": "scatter3d",
           "x": {
            "bdata": "fOkmMQisjD/e+X5qvHSTP/1+arx0k5g/CtejcD0Ktz9SuB6F61G4P5qZmZmZmbk/",
            "dtype": "f8"
           },
           "y": {
            "bdata": "AAAAAAAAAAAAAAAAAAAAAAAAAAAAAAAAAAAAAAAAAAAAAAAAAAAAAAAAAAAAAAAA",
            "dtype": "f8"
           },
           "z": {
            "bdata": "AAAAAAAAAAAAAAAAAAAAAAAAAAAAAAAAAAAAAAAAAAAAAAAAAAAAAAAAAAAAAAAA",
            "dtype": "f8"
           }
          },
          {
           "name": "Edges",
           "type": "scatter3d",
           "x": [
            0.014000000000000005,
            0.01900000000000001,
            null,
            0.01900000000000001,
            0.02400000000000001,
            null,
            0.02400000000000001,
            0.028746767681928225,
            null,
            0.028746767681928225,
            0.032941603417034906,
            null,
            0.032941603417034906,
            0.03660786960423345,
            null,
            0.03660786960423345,
            0.04002198468142736,
            null,
            0.04002198468142736,
            0.04356081674907655,
            null,
            0.04356081674907655,
            0.04754186342806781,
            null,
            0.04754186342806781,
            0.05207837176379794,
            null,
            0.05207837176379794,
            0.05699995754285515,
            null,
            0.05699995754285515,
            0.06192152913372964,
            null,
            0.06192152913372964,
            0.0664580089706834,
            null,
            0.0664580089706834,
            0.07043904055798611,
            null,
            0.07043904055798611,
            0.07397788746912014,
            null,
            0.07397788746912014,
            0.07739204279932561,
            null,
            0.07739204279932561,
            0.0810583553187629,
            null,
            0.0810583553187629,
            0.08525322267468277,
            null,
            0.08525322267468277,
            0.09,
            null,
            0.09,
            0.095,
            null,
            0.095,
            0.1,
            null
           ],
           "y": [
            0,
            0,
            null,
            0,
            0,
            null,
            0,
            0.00019085328609529052,
            null,
            0.00019085328609529052,
            0.00046496503021499865,
            null,
            0.00046496503021499865,
            0.0007190716685003209,
            null,
            0.0007190716685003209,
            0.0008748800884281042,
            null,
            0.0008748800884281042,
            0.0008823799229134937,
            null,
            0.0008823799229134937,
            0.000720839544667697,
            null,
            0.000720839544667697,
            0.0004066069540603981,
            null,
            0.0004066069540603981,
            -1.6863274481431905e-7,
            null,
            -1.6863274481431905e-7,
            -0.00040692903407451653,
            null,
            -0.00040692903407451653,
            -0.0007211207852495028,
            null,
            -0.0007211207852495028,
            -0.0008826052829194636,
            null,
            -0.0008826052829194636,
            -0.0008750448416862117,
            null,
            -0.0008750448416862117,
            -0.0007191784566393588,
            null,
            -0.0007191784566393588,
            -0.0004650219368978505,
            null,
            -0.0004650219368978505,
            -0.00019087328102406685,
            null,
            -0.00019087328102406685,
            0,
            null,
            0,
            0,
            null,
            0,
            0,
            null
           ],
           "z": [
            0,
            0,
            null,
            0,
            0,
            null,
            0,
            -0.0015401204371508156,
            null,
            -0.0015401204371508156,
            -0.004237823738652822,
            null,
            -0.004237823738652822,
            -0.00762170724537659,
            null,
            -0.00762170724537659,
            -0.011265734380903633,
            null,
            -0.011265734380903633,
            -0.014791786408430001,
            null,
            -0.014791786408430001,
            -0.017804122671235614,
            null,
            -0.017804122671235614,
            -0.01986846837308289,
            null,
            -0.01986846837308289,
            -0.020607855390535907,
            null,
            -0.020607855390535907,
            -0.019868365466303776,
            null,
            -0.019868365466303776,
            -0.017803950851597482,
            null,
            -0.017803950851597482,
            -0.014791591656238513,
            null,
            -0.014791591656238513,
            -0.011265554745128376,
            null,
            -0.011265554745128376,
            -0.007621567947816386,
            null,
            -0.007621567947816386,
            -0.004237738541231157,
            null,
            -0.004237738541231157,
            -0.00154008826310462,
            null,
            -0.00154008826310462,
            0,
            null,
            0,
            0,
            null,
            0,
            0,
            null
           ]
          },
          {
           "i": [],
           "j": [],
           "k": [],
           "name": "Faces",
           "type": "mesh3d",
           "x": {
            "bdata": "fOkmMQisjD/e+X5qvHSTP/1+arx0k5g/iwU97MpvnT8iO7XKuN2gP6/sc0VEvqI//82n9sJ9pD/0DqZ2mk2mPyaZOjloV6g/0t8bLwSqqj8RNwozGS+tP4RpGL0ttK8/rRsWX2QDsT8Y5I7/SgiyPx+aTv828LI/RTLLBPfPsz/eYCmJPcC0P7QwRLsn07U/CtejcD0Ktz9SuB6F61G4P5qZmZmZmbk/",
            "dtype": "f8"
           },
           "y": {
            "bdata": "AAAAAAAAAAAAAAAAAAAAAAAAAAAAAAAA7KWFPvkDKT9FCTuZ0Xg+P881XKYCkEc/anURrwarTD9WA6508OlMP966jyLXnkc/lYrskbulOj9Sp1pPLaKGvqgDpeQiqzq/PtY0GDOhR7+fOqdp1OtMv/szIX1orEy/Pa/C+eeQR79BRMoCxnk+vxbf1f+kBCm/AAAAAAAAAAAAAAAAAAAAAAAAAAAAAAAA",
            "dtype": "f8"
           },
           "z": {
            "bdata": "AAAAAAAAAAAAAAAAAAAAAAAAAAAAAAAAZag0urs7Wb+x0tElrltxvwW9vHXwN3+/S+rZRX0Sh7+pLv32J0uOv9R+bXI+O5K/pjeJV2ZYlL+lrsXDORqVv6FqnG9fWJS/Q7yW6jI7kr8nylrTDUuOvwrtnCllEoe/yyRIEcs3f7867hhHl1txv5BuRS6ZO1m/AAAAAAAAAAAAAAAAAAAAAAAAAAAAAAAA",
            "dtype": "f8"
           }
          }
         ],
         "layout": {
          "annotations": [
           {
            "showarrow": false,
            "text": "Time: 0.58s (Step: 59/100)",
            "x": 0.05,
            "xref": "paper",
            "y": 0.95,
            "yref": "paper"
           }
          ]
         },
         "name": "58"
        },
        {
         "data": [
          {
           "name": "Free Nodes",
           "type": "scatter3d",
           "x": {
            "bdata": "BOsDgM5vnT+HXw9jwd2gPxokS9hYvqI/dweey+R9pD87+7GvxE2mP+q0KSKQV6g/2beEtxyqqj96fJ4iGS+tP3rTGQ4VtK8/RxxjUVADsT/ZZzjGNQiyP1g4Vfol8LI/l4+hqOzPsz8RZsYzOcC0P5L+BtQm07U/",
            "dtype": "f8"
           },
           "y": {
            "bdata": "duG9aAOPKT8bXn75PyI/P3RxvcAYE0g/YgCRGZtKTT+1FVx5+IpNPwfRuj99Ikg/XAl8W5s6Oz/Q0MiXw8SAvgxokTuYPju/aZssKjYkSL8mWmNNVIxNv1oJccCUS02/duMhX7cTSL9ATK+f5SI/v2TvFv11jym/",
            "dtype": "f8"
           },
           "z": {
            "bdata": "cm7DYek4Wb+UsvUjAlpxvywaWu1sNX+/D9nAefYQh7+nDHPJf0mOv0wccfZjOpK/Uya7a4lXlL9y+R4GXBmVv285aFGCV5S/vlFYHFg6kr+CacrwZEmOv4fMU7rdEIe/cFPXjEY1f79sTueo6llxv2GtauXFOFm/",
            "dtype": "f8"
           }
          },
          {
           "name": "Fixed Nodes",
           "type": "scatter3d",
           "x": {
            "bdata": "fOkmMQisjD/e+X5qvHSTP/1+arx0k5g/CtejcD0Ktz9SuB6F61G4P5qZmZmZmbk/",
            "dtype": "f8"
           },
           "y": {
            "bdata": "AAAAAAAAAAAAAAAAAAAAAAAAAAAAAAAAAAAAAAAAAAAAAAAAAAAAAAAAAAAAAAAA",
            "dtype": "f8"
           },
           "z": {
            "bdata": "AAAAAAAAAAAAAAAAAAAAAAAAAAAAAAAAAAAAAAAAAAAAAAAAAAAAAAAAAAAAAAAA",
            "dtype": "f8"
           }
          },
          {
           "name": "Edges",
           "type": "scatter3d",
           "x": [
            0.014000000000000005,
            0.01900000000000001,
            null,
            0.01900000000000001,
            0.02400000000000001,
            null,
            0.02400000000000001,
            0.02874682098716176,
            null,
            0.02874682098716176,
            0.03294185957173484,
            null,
            0.03294185957173484,
            0.03660848274518731,
            null,
            0.03660848274518731,
            0.04002299295008432,
            null,
            0.04002299295008432,
            0.043562075087712114,
            null,
            0.043562075087712114,
            0.04754305283572953,
            null,
            0.04754305283572953,
            0.05207910289969648,
            null,
            0.05207910289969648,
            0.05699995563122058,
            null,
            0.05699995563122058,
            0.06192079350595399,
            null,
            0.06192079350595399,
            0.0664568136881921,
            null,
            0.0664568136881921,
            0.07043777551044118,
            null,
            0.07043777551044118,
            0.07397687303202483,
            null,
            0.07397687303202483,
            0.0773914252945914,
            null,
            0.0773914252945914,
            0.08105809701955759,
            null,
            0.08105809701955759,
            0.0852531688351468,
            null,
            0.0852531688351468,
            0.09,
            null,
            0.09,
            0.095,
            null,
            0.095,
            0.1,
            null
           ],
           "y": [
            0,
            0,
            null,
            0,
            0,
            null,
            0,
            0.0001949969922596763,
            null,
            0.0001949969922596763,
            0.0004750639141035421,
            null,
            0.0004750639141035421,
            0.0007346983779644004,
            null,
            0.0007346983779644004,
            0.0008939034770563232,
            null,
            0.0008939034770563232,
            0.0009015763523342798,
            null,
            0.0009015763523342798,
            0.0007365333144293836,
            null,
            0.0007365333144293836,
            0.00041548054603892325,
            null,
            0.00041548054603892325,
            -1.2493587665948712e-7,
            null,
            -1.2493587665948712e-7,
            -0.00041571823709818444,
            null,
            -0.00041571823709818444,
            -0.00073673863184785,
            null,
            -0.00073673863184785,
            -0.0009017383224783667,
            null,
            -0.0009017383224783667,
            -0.0008940197302609685,
            null,
            -0.0008940197302609685,
            -0.0007347722405618279,
            null,
            -0.0007347722405618279,
            -0.0004751024823097007,
            null,
            -0.0004751024823097007,
            -0.0001950103310671649,
            null,
            -0.0001950103310671649,
            0,
            null,
            0,
            0,
            null,
            0,
            0,
            null
           ],
           "z": [
            0,
            0,
            null,
            0,
            0,
            null,
            0,
            -0.0015394477005007648,
            null,
            -0.0015394477005007648,
            -0.004236229287340482,
            null,
            -0.004236229287340482,
            -0.007619309899047393,
            null,
            -0.007619309899047393,
            -0.011262822714439595,
            null,
            -0.011262822714439595,
            -0.014788626036880649,
            null,
            -0.014788626036880649,
            -0.017800867001167384,
            null,
            -0.017800867001167384,
            -0.019865176391965566,
            null,
            -0.019865176391965566,
            -0.020604551194759187,
            null,
            -0.020604551194759187,
            -0.019865070551582983,
            null,
            -0.019865070551582983,
            -0.0178006903934873,
            null,
            -0.0178006903934873,
            -0.01478842601618591,
            null,
            -0.01478842601618591,
            -0.011262638329276221,
            null,
            -0.011262638329276221,
            -0.0076191669335984175,
            null,
            -0.0076191669335984175,
            -0.004236141814959998,
            null,
            -0.004236141814959998,
            -0.0015394146518400086,
            null,
            -0.0015394146518400086,
            0,
            null,
            0,
            0,
            null,
            0,
            0,
            null
           ]
          },
          {
           "i": [],
           "j": [],
           "k": [],
           "name": "Faces",
           "type": "mesh3d",
           "x": {
            "bdata": "fOkmMQisjD/e+X5qvHSTP/1+arx0k5g/BOsDgM5vnT+HXw9jwd2gPxokS9hYvqI/dweey+R9pD87+7GvxE2mP+q0KSKQV6g/2beEtxyqqj96fJ4iGS+tP3rTGQ4VtK8/RxxjUVADsT/ZZzjGNQiyP1g4Vfol8LI/l4+hqOzPsz8RZsYzOcC0P5L+BtQm07U/CtejcD0Ktz9SuB6F61G4P5qZmZmZmbk/",
            "dtype": "f8"
           },
           "y": {
            "bdata": "AAAAAAAAAAAAAAAAAAAAAAAAAAAAAAAAduG9aAOPKT8bXn75PyI/P3RxvcAYE0g/YgCRGZtKTT+1FVx5+IpNPwfRuj99Ikg/XAl8W5s6Oz/Q0MiXw8SAvgxokTuYPju/aZssKjYkSL8mWmNNVIxNv1oJccCUS02/duMhX7cTSL9ATK+f5SI/v2TvFv11jym/AAAAAAAAAAAAAAAAAAAAAAAAAAAAAAAA",
            "dtype": "f8"
           },
           "z": {
            "bdata": "AAAAAAAAAAAAAAAAAAAAAAAAAAAAAAAAcm7DYek4Wb+UsvUjAlpxvywaWu1sNX+/D9nAefYQh7+nDHPJf0mOv0wccfZjOpK/Uya7a4lXlL9y+R4GXBmVv285aFGCV5S/vlFYHFg6kr+CacrwZEmOv4fMU7rdEIe/cFPXjEY1f79sTueo6llxv2GtauXFOFm/AAAAAAAAAAAAAAAAAAAAAAAAAAAAAAAA",
            "dtype": "f8"
           }
          }
         ],
         "layout": {
          "annotations": [
           {
            "showarrow": false,
            "text": "Time: 0.59s (Step: 60/100)",
            "x": 0.05,
            "xref": "paper",
            "y": 0.95,
            "yref": "paper"
           }
          ]
         },
         "name": "59"
        },
        {
         "data": [
          {
           "name": "Free Nodes",
           "type": "scatter3d",
           "x": {
            "bdata": "og2ZJtJvnT+RFTUoyt2gP5Vv1dVtvqI/YMBzTwd+pD8D0GjC702mPwb3Zdi4V6g/w6PtvTWqqj94Es8RGS+tP1GcK+D7s68/USZn3DsDsT+xtk0fIAiyPxbzOJ0U8LI/NI6dFuLPsz9ocr3HNMC0P44EBugl07U/",
            "dtype": "f8"
           },
           "y": {
            "bdata": "O2mFZdwZKj8p4NJCdMs/Pwc6r/gDlkg/ovu2Xf7pTT/AWAj50itOP8emzj4Epkg/YcYOH23POz90yxP9ff5yvk4mbcSo0Tu/ZzxIQvOmSL/y8kZuhixOvwRk3Vx36k2/gSCXW0uWSL8SSejXuMs/v3BsDJAIGiq/",
            "dtype": "f8"
           },
           "z": {
            "bdata": "vN1BJgg2Wb8Qnd1STVhxvzyCPyjcMn+/QIdipWcPh79opB/ozkeOvwD16gKFOZK/akvTAKhWlL9wxdrJeRiVv4xyubqgVpS/ZYZ04ng5kr9Yqft3s0eOv3RRXWBOD4e/B/KA/LQyf79JmwVbNVhxv2wWUu3jNVm/",
            "dtype": "f8"
           }
          },
          {
           "name": "Fixed Nodes",
           "type": "scatter3d",
           "x": {
            "bdata": "fOkmMQisjD/e+X5qvHSTP/1+arx0k5g/CtejcD0Ktz9SuB6F61G4P5qZmZmZmbk/",
            "dtype": "f8"
           },
           "y": {
            "bdata": "AAAAAAAAAAAAAAAAAAAAAAAAAAAAAAAAAAAAAAAAAAAAAAAAAAAAAAAAAAAAAAAA",
            "dtype": "f8"
           },
           "z": {
            "bdata": "AAAAAAAAAAAAAAAAAAAAAAAAAAAAAAAAAAAAAAAAAAAAAAAAAAAAAAAAAAAAAAAA",
            "dtype": "f8"
           }
          },
          {
           "name": "Edges",
           "type": "scatter3d",
           "x": [
            0.014000000000000005,
            0.01900000000000001,
            null,
            0.01900000000000001,
            0.02400000000000001,
            null,
            0.02400000000000001,
            0.02874687538702648,
            null,
            0.02874687538702648,
            0.03294212094128136,
            null,
            0.03294212094128136,
            0.0366091083076007,
            null,
            0.0366091083076007,
            0.04002402157664231,
            null,
            0.04002402157664231,
            0.04356335876619257,
            null,
            0.04356335876619257,
            0.047544266143615885,
            null,
            0.047544266143615885,
            0.052079848703960895,
            null,
            0.052079848703960895,
            0.05699995367425442,
            null,
            0.05699995367425442,
            0.06192004310087696,
            null,
            0.06192004310087696,
            0.06645559435778493,
            null,
            0.06645559435778493,
            0.07043648494956291,
            null,
            0.07043648494956291,
            0.07397583807410188,
            null,
            0.07397583807410188,
            0.07739079525122677,
            null,
            0.07739079525122677,
            0.08105783344712736,
            null,
            0.08105783344712736,
            0.08525311388622667,
            null,
            0.08525311388622667,
            0.09,
            null,
            0.09,
            0.095,
            null,
            0.095,
            0.1,
            null
           ],
           "y": [
            0,
            0,
            null,
            0,
            0,
            null,
            0,
            0.0001991349734094624,
            null,
            0.0001991349734094624,
            0.0004851492729573992,
            null,
            0.0004851492729573992,
            0.0007503051177709116,
            null,
            0.0007503051177709116,
            0.0009129039785234947,
            null,
            0.0009129039785234947,
            0.0009207515850586864,
            null,
            0.0009207515850586864,
            0.000752212593956269,
            null,
            0.000752212593956269,
            0.00042435087294299094,
            null,
            0.00042435087294299094,
            -7.075857346213148e-8,
            null,
            -7.075857346213148e-8,
            -0.0004244839696424294,
            null,
            -0.0004244839696424294,
            -0.0007523238933248134,
            null,
            -0.0007523238933248134,
            -0.000920835151695691,
            null,
            -0.000920835151695691,
            -0.000912960321993173,
            null,
            -0.000912960321993173,
            -0.0007503383596310227,
            null,
            -0.0007503383596310227,
            -0.0004851652410319411,
            null,
            -0.0004851652410319411,
            -0.00019914011502284194,
            null,
            -0.00019914011502284194,
            0,
            null,
            0,
            0,
            null,
            0,
            0,
            null
           ],
           "z": [
            0,
            0,
            null,
            0,
            0,
            null,
            0,
            -0.0015387610992812903,
            null,
            -0.0015387610992812903,
            -0.004234602018051051,
            null,
            -0.004234602018051051,
            -0.0076168632403726365,
            null,
            -0.0076168632403726365,
            -0.01125985120262707,
            null,
            -0.01125985120262707,
            -0.014785400828218623,
            null,
            -0.014785400828218623,
            -0.017797544768417772,
            null,
            -0.017797544768417772,
            -0.019861817407967143,
            null,
            -0.019861817407967143,
            -0.02060118002436212,
            null,
            -0.02060118002436212,
            -0.019861709019425564,
            null,
            -0.019861709019425564,
            -0.017797364064909966,
            null,
            -0.017797364064909966,
            -0.014785196398822961,
            null,
            -0.014785196398822961,
            -0.01125966292935552,
            null,
            -0.01125966292935552,
            -0.007616717317486372,
            null,
            -0.007616717317486372,
            -0.004234512729772552,
            null,
            -0.004234512729772552,
            -0.0015387273645343326,
            null,
            -0.0015387273645343326,
            0,
            null,
            0,
            0,
            null,
            0,
            0,
            null
           ]
          },
          {
           "i": [],
           "j": [],
           "k": [],
           "name": "Faces",
           "type": "mesh3d",
           "x": {
            "bdata": "fOkmMQisjD/e+X5qvHSTP/1+arx0k5g/og2ZJtJvnT+RFTUoyt2gP5Vv1dVtvqI/YMBzTwd+pD8D0GjC702mPwb3Zdi4V6g/w6PtvTWqqj94Es8RGS+tP1GcK+D7s68/USZn3DsDsT+xtk0fIAiyPxbzOJ0U8LI/NI6dFuLPsz9ocr3HNMC0P44EBugl07U/CtejcD0Ktz9SuB6F61G4P5qZmZmZmbk/",
            "dtype": "f8"
           },
           "y": {
            "bdata": "AAAAAAAAAAAAAAAAAAAAAAAAAAAAAAAAO2mFZdwZKj8p4NJCdMs/Pwc6r/gDlkg/ovu2Xf7pTT/AWAj50itOP8emzj4Epkg/YcYOH23POz90yxP9ff5yvk4mbcSo0Tu/ZzxIQvOmSL/y8kZuhixOvwRk3Vx36k2/gSCXW0uWSL8SSejXuMs/v3BsDJAIGiq/AAAAAAAAAAAAAAAAAAAAAAAAAAAAAAAA",
            "dtype": "f8"
           },
           "z": {
            "bdata": "AAAAAAAAAAAAAAAAAAAAAAAAAAAAAAAAvN1BJgg2Wb8Qnd1STVhxvzyCPyjcMn+/QIdipWcPh79opB/ozkeOvwD16gKFOZK/akvTAKhWlL9wxdrJeRiVv4xyubqgVpS/ZYZ04ng5kr9Yqft3s0eOv3RRXWBOD4e/B/KA/LQyf79JmwVbNVhxv2wWUu3jNVm/AAAAAAAAAAAAAAAAAAAAAAAAAAAAAAAA",
            "dtype": "f8"
           }
          }
         ],
         "layout": {
          "annotations": [
           {
            "showarrow": false,
            "text": "Time: 0.60s (Step: 61/100)",
            "x": 0.05,
            "xref": "paper",
            "y": 0.95,
            "yref": "paper"
           }
          ]
         },
         "name": "60"
        },
        {
         "data": [
          {
           "name": "Free Nodes",
           "type": "scatter3d",
           "x": {
            "bdata": "D+rl39VvnT8ETOsZ092gP+iqfj2DvqI/snItgSp+pD+xPoitG06mPwMyt1riV6g/v8eQQU+qqj8kx5MAGS+tPy47AjTis68/bpW0ACcDsT+BtGULCgiyP90bbugC8LI/zSMCT9fPsz+WIihFMMC0P7q6Rfck07U/",
            "dtype": "f8"
           },
           "y": {
            "bdata": "kVjYxICkKj+147vxNDpAPxjODFvAGEk/cB794yqJTj/CPLXxeMxOPx0KmRxkKUk/sRwD+x9kPD9gjOwFs09Fvg9CzkJjZDy/dEa6hXApSb+allKGb8xOvwaPaaMTiU6/oYmv/KUYSb8CEzXfIDpAv6cD9xVepCq/",
            "dtype": "f8"
           },
           "z": {
            "bdata": "t9LxIRgzWb+Q93bCj1Zxv+E9zz4+MH+/+fWt19ANh78vhQVjFUaOv1PrsJ+hOJK/L2TuHcJVlL9DnvcUkxeVvz55SbC6VZS/uYGHQJU4kr9fIJ9u+UWOv5UYcyC3DYe/QATnZxYwf79dIY9id1Zxv4pme07zMlm/",
            "dtype": "f8"
           }
          },
          {
           "name": "Fixed Nodes",
           "type": "scatter3d",
           "x": {
            "bdata": "fOkmMQisjD/e+X5qvHSTP/1+arx0k5g/CtejcD0Ktz9SuB6F61G4P5qZmZmZmbk/",
            "dtype": "f8"
           },
           "y": {
            "bdata": "AAAAAAAAAAAAAAAAAAAAAAAAAAAAAAAAAAAAAAAAAAAAAAAAAAAAAAAAAAAAAAAA",
            "dtype": "f8"
           },
           "z": {
            "bdata": "AAAAAAAAAAAAAAAAAAAAAAAAAAAAAAAAAAAAAAAAAAAAAAAAAAAAAAAAAAAAAAAA",
            "dtype": "f8"
           }
          },
          {
           "name": "Edges",
           "type": "scatter3d",
           "x": [
            0.014000000000000005,
            0.01900000000000001,
            null,
            0.01900000000000001,
            0.02400000000000001,
            null,
            0.02400000000000001,
            0.028746930876403506,
            null,
            0.028746930876403506,
            0.03294238749881376,
            null,
            0.03294238749881376,
            0.036609746224106676,
            null,
            0.036609746224106676,
            0.04002507044672167,
            null,
            0.04002507044672167,
            0.043564667637949646,
            null,
            0.043564667637949646,
            0.04754550320976494,
            null,
            0.04754550320976494,
            0.052080609086615486,
            null,
            0.052080609086615486,
            0.05699995166823005,
            null,
            0.05699995166823005,
            0.06191927800056472,
            null,
            0.06191927800056472,
            0.06645435111257367,
            null,
            0.06645435111257367,
            0.07043516901258508,
            null,
            0.07043516901258508,
            0.07397478270114229,
            null,
            0.07397478270114229,
            0.07739015273013124,
            null,
            0.07739015273013124,
            0.08105756462476629,
            null,
            0.08105756462476629,
            0.08525305783198692,
            null,
            0.08525305783198692,
            0.09,
            null,
            0.09,
            0.095,
            null,
            0.095,
            0.1,
            null
           ],
           "y": [
            0,
            0,
            null,
            0,
            0,
            null,
            0,
            0.00020326682936006428,
            null,
            0.00020326682936006428,
            0.0004952200428923666,
            null,
            0.0004952200428923666,
            0.0007658900486604029,
            null,
            0.0007658900486604029,
            0.0009318789889016365,
            null,
            0.0009318789889016365,
            0.0009399023578370513,
            null,
            0.0009399023578370513,
            0.0007678736521444272,
            null,
            0.0007678736521444272,
            0.0004332140042717188,
            null,
            0.0004332140042717188,
            -9.923859232264158e-9,
            null,
            -9.923859232264158e-9,
            -0.0004332296692206869,
            null,
            -0.0004332296692206869,
            -0.0007678794313099161,
            null,
            -0.0007678794313099161,
            -0.0009398979715526557,
            null,
            -0.0009398979715526557,
            -0.0009318681612282282,
            null,
            -0.0009318681612282282,
            -0.000765877769819224,
            null,
            -0.000765877769819224,
            -0.0004952106959668914,
            null,
            -0.0004952106959668914,
            -0.00020326279171281361,
            null,
            -0.00020326279171281361,
            0,
            null,
            0,
            0,
            null,
            0,
            0,
            null
           ],
           "z": [
            0,
            0,
            null,
            0,
            0,
            null,
            0,
            -0.001538060729015784,
            null,
            -0.001538060729015784,
            -0.004232942162557665,
            null,
            -0.004232942162557665,
            -0.007614367624185076,
            null,
            -0.007614367624185076,
            -0.011256820280091328,
            null,
            -0.011256820280091328,
            -0.014782111248396205,
            null,
            -0.014782111248396205,
            -0.01779415642907207,
            null,
            -0.01779415642907207,
            -0.019858391835075814,
            null,
            -0.019858391835075814,
            -0.02059774222825995,
            null,
            -0.02059774222825995,
            -0.019858281144814464,
            null,
            -0.019858281144814464,
            -0.017793972075993845,
            null,
            -0.017793972075993845,
            -0.01478190296974463,
            null,
            -0.01478190296974463,
            -0.011256628682883277,
            null,
            -0.011256628682883277,
            -0.007614219210553108,
            null,
            -0.007614219210553108,
            -0.004232851359980164,
            null,
            -0.004232851359980164,
            -0.0015380264321066838,
            null,
            -0.0015380264321066838,
            0,
            null,
            0,
            0,
            null,
            0,
            0,
            null
           ]
          },
          {
           "i": [],
           "j": [],
           "k": [],
           "name": "Faces",
           "type": "mesh3d",
           "x": {
            "bdata": "fOkmMQisjD/e+X5qvHSTP/1+arx0k5g/D+rl39VvnT8ETOsZ092gP+iqfj2DvqI/snItgSp+pD+xPoitG06mPwMyt1riV6g/v8eQQU+qqj8kx5MAGS+tPy47AjTis68/bpW0ACcDsT+BtGULCgiyP90bbugC8LI/zSMCT9fPsz+WIihFMMC0P7q6Rfck07U/CtejcD0Ktz9SuB6F61G4P5qZmZmZmbk/",
            "dtype": "f8"
           },
           "y": {
            "bdata": "AAAAAAAAAAAAAAAAAAAAAAAAAAAAAAAAkVjYxICkKj+147vxNDpAPxjODFvAGEk/cB794yqJTj/CPLXxeMxOPx0KmRxkKUk/sRwD+x9kPD9gjOwFs09Fvg9CzkJjZDy/dEa6hXApSb+allKGb8xOvwaPaaMTiU6/oYmv/KUYSb8CEzXfIDpAv6cD9xVepCq/AAAAAAAAAAAAAAAAAAAAAAAAAAAAAAAA",
            "dtype": "f8"
           },
           "z": {
            "bdata": "AAAAAAAAAAAAAAAAAAAAAAAAAAAAAAAAt9LxIRgzWb+Q93bCj1Zxv+E9zz4+MH+/+fWt19ANh78vhQVjFUaOv1PrsJ+hOJK/L2TuHcJVlL9DnvcUkxeVvz55SbC6VZS/uYGHQJU4kr9fIJ9u+UWOv5UYcyC3DYe/QATnZxYwf79dIY9id1Zxv4pme07zMlm/AAAAAAAAAAAAAAAAAAAAAAAAAAAAAAAA",
            "dtype": "f8"
           }
          }
         ],
         "layout": {
          "annotations": [
           {
            "showarrow": false,
            "text": "Time: 0.61s (Step: 62/100)",
            "x": 0.05,
            "xref": "paper",
            "y": 0.95,
            "yref": "paper"
           }
          ]
         },
         "name": "61"
        },
        {
         "data": [
          {
           "name": "Free Nodes",
           "type": "scatter3d",
           "x": {
            "bdata": "yU3Tq9lvnT+pevU33N2gP+Bvrw6ZvqI/K3fKX05+pD9Ar8dvSE6mP1Aw36cMWKg/MiOkQWmqqj9GM+PuGC+tP723UwrIs68/jlPfvhEDsT/q2hiL8weyPzIhatzw77I/ZcsSUszPsz8KMCCsK8C0P1CVygEk07U/",
            "dtype": "f8"
           },
           "y": {
            "bdata": "Qs/L/uwuKz/DR/ATjo5AP64WctVJm0k/pJBw5RooTz96ZJkh42xPP/ViY4eUrEk/T3bPWqL4PD8Y9j2iDMNsPuFkrDPX9jy/cifhbbSrSb9wXyWWFGxPvxThPxttJ0+/nqDFdMmaSb/Nk5hHQY5Avz+k6gl4Liu/",
            "dtype": "f8"
           },
           "z": {
            "bdata": "Ola5cBkwWb9moa6DyVRxv3XJ9UqTLX+/VJyCIDIMh7/E4x1LU0SOvzrqAtW5N5K/0rxvytdUlL9w2ovtpxaVv70iujbQVJS/tuLwOa03kr+8F8XZNkSOvwCHrP4XDIe/R8qg1Wotf78nf/PDsFRxv/kCTRD0L1m/",
            "dtype": "f8"
           }
          },
          {
           "name": "Fixed Nodes",
           "type": "scatter3d",
           "x": {
            "bdata": "fOkmMQisjD/e+X5qvHSTP/1+arx0k5g/CtejcD0Ktz9SuB6F61G4P5qZmZmZmbk/",
            "dtype": "f8"
           },
           "y": {
            "bdata": "AAAAAAAAAAAAAAAAAAAAAAAAAAAAAAAAAAAAAAAAAAAAAAAAAAAAAAAAAAAAAAAA",
            "dtype": "f8"
           },
           "z": {
            "bdata": "AAAAAAAAAAAAAAAAAAAAAAAAAAAAAAAAAAAAAAAAAAAAAAAAAAAAAAAAAAAAAAAA",
            "dtype": "f8"
           }
          },
          {
           "name": "Edges",
           "type": "scatter3d",
           "x": [
            0.014000000000000005,
            0.01900000000000001,
            null,
            0.01900000000000001,
            0.02400000000000001,
            null,
            0.02400000000000001,
            0.02874698745001839,
            null,
            0.02874698745001839,
            0.03294265921680523,
            null,
            0.03294265921680523,
            0.03661039642585684,
            null,
            0.03661039642585684,
            0.040026139443609964,
            null,
            0.040026139443609964,
            0.043566001553556166,
            null,
            0.043566001553556166,
            0.04754676388947188,
            null,
            0.04754676388947188,
            0.05208138395580021,
            null,
            0.05208138395580021,
            0.05699994960887138,
            null,
            0.05699994960887138,
            0.06191849828779492,
            null,
            0.06191849828779492,
            0.06645308408708514,
            null,
            0.06645308408708514,
            0.070433827838183,
            null,
            0.070433827838183,
            0.07397370701994957,
            null,
            0.07397370701994957,
            0.07738949779267797,
            null,
            0.07738949779267797,
            0.08105729057587055,
            null,
            0.08105729057587055,
            0.08525300067647845,
            null,
            0.08525300067647845,
            0.09,
            null,
            0.09,
            0.095,
            null,
            0.095,
            0.1,
            null
           ],
           "y": [
            0,
            0,
            null,
            0,
            0,
            null,
            0,
            0.00020739214905740084,
            null,
            0.00020739214905740084,
            0.0005052751292871017,
            null,
            0.0005052751292871017,
            0.0007814512745347357,
            null,
            0.0007814512745347357,
            0.0009508258179988971,
            null,
            0.0009508258179988971,
            0.0009590252913752727,
            null,
            0.0009590252913752727,
            0.0007835126150680093,
            null,
            0.0007835126150680093,
            0.00044206584681014555,
            null,
            0.00044206584681014555,
            5.357323498623016e-8,
            null,
            5.357323498623016e-8,
            -0.0004419589419498282,
            null,
            -0.0004419589419498282,
            -0.00078340826053956,
            null,
            -0.00078340826053956,
            -0.0009589291114861908,
            null,
            -0.0009589291114861908,
            -0.0009507448908144,
            null,
            -0.0009507448908144,
            -0.0007813914940415672,
            null,
            -0.0007813914940415672,
            -0.0005052393673322608,
            null,
            -0.0005052393673322608,
            -0.00020737853352173656,
            null,
            -0.00020737853352173656,
            0,
            null,
            0,
            0,
            null,
            0,
            0,
            null
           ],
           "z": [
            0,
            0,
            null,
            0,
            0,
            null,
            0,
            -0.0015373466911986614,
            null,
            -0.0015373466911986614,
            -0.004231249967155603,
            null,
            -0.004231249967155603,
            -0.007611823427725252,
            null,
            -0.007611823427725252,
            -0.011253730408794883,
            null,
            -0.011253730408794883,
            -0.014778757791406145,
            null,
            -0.014778757791406145,
            -0.017790702463324794,
            null,
            -0.017790702463324794,
            -0.019854900103322866,
            null,
            -0.019854900103322866,
            -0.02059423816077771,
            null,
            -0.02059423816077771,
            -0.019854787197376867,
            null,
            -0.019854787197376867,
            -0.017790514623103625,
            null,
            -0.017790514623103625,
            -0.01477854587632154,
            null,
            -0.01477854587632154,
            -0.011253535708934503,
            null,
            -0.011253535708934503,
            -0.0076116727087077235,
            null,
            -0.0076116727087077235,
            -0.004231157770135308,
            null,
            -0.004231157770135308,
            -0.0015373118814780414,
            null,
            -0.0015373118814780414,
            0,
            null,
            0,
            0,
            null,
            0,
            0,
            null
           ]
          },
          {
           "i": [],
           "j": [],
           "k": [],
           "name": "Faces",
           "type": "mesh3d",
           "x": {
            "bdata": "fOkmMQisjD/e+X5qvHSTP/1+arx0k5g/yU3Tq9lvnT+pevU33N2gP+Bvrw6ZvqI/K3fKX05+pD9Ar8dvSE6mP1Aw36cMWKg/MiOkQWmqqj9GM+PuGC+tP723UwrIs68/jlPfvhEDsT/q2hiL8weyPzIhatzw77I/ZcsSUszPsz8KMCCsK8C0P1CVygEk07U/CtejcD0Ktz9SuB6F61G4P5qZmZmZmbk/",
            "dtype": "f8"
           },
           "y": {
            "bdata": "AAAAAAAAAAAAAAAAAAAAAAAAAAAAAAAAQs/L/uwuKz/DR/ATjo5AP64WctVJm0k/pJBw5RooTz96ZJkh42xPP/ViY4eUrEk/T3bPWqL4PD8Y9j2iDMNsPuFkrDPX9jy/cifhbbSrSb9wXyWWFGxPvxThPxttJ0+/nqDFdMmaSb/Nk5hHQY5Avz+k6gl4Liu/AAAAAAAAAAAAAAAAAAAAAAAAAAAAAAAA",
            "dtype": "f8"
           },
           "z": {
            "bdata": "AAAAAAAAAAAAAAAAAAAAAAAAAAAAAAAAOla5cBkwWb9moa6DyVRxv3XJ9UqTLX+/VJyCIDIMh7/E4x1LU0SOvzrqAtW5N5K/0rxvytdUlL9w2ovtpxaVv70iujbQVJS/tuLwOa03kr+8F8XZNkSOvwCHrP4XDIe/R8qg1Wotf78nf/PDsFRxv/kCTRD0L1m/AAAAAAAAAAAAAAAAAAAAAAAAAAAAAAAA",
            "dtype": "f8"
           }
          }
         ],
         "layout": {
          "annotations": [
           {
            "showarrow": false,
            "text": "Time: 0.62s (Step: 63/100)",
            "x": 0.05,
            "xref": "paper",
            "y": 0.95,
            "yref": "paper"
           }
          ]
         },
         "name": "62"
        },
        {
         "data": [
          {
           "name": "Free Nodes",
           "type": "scatter3d",
           "x": {
            "bdata": "ZINJit1vnT8j7hWC5d2gPxOizUivvqI/dMJF6nJ+pD9nEdkHdk6mP+p6mr43WKg/kTpavYOqqj9pSbPcGC+tP8kv2GOts68/XB99F/wCsT89hAGf3AeyP1XWo3ne77I/C74TIMHPsz/Nkb/8JsC0P+IOmQcj07U/",
            "dtype": "f8"
           },
           "y": {
            "bdata": "6k54mx25Kz8+mfc4w+JAP9MTI2icHUo/U8jBtcjGTz9YxFY0hQZQP9rjo1SNL0o/wosK/uKMPT9sel2BqxZ/PmQoa8YTiT2/Wi+mUsUtSr+WTcFBvQVQv40ptTeHxU+/gscp6bccSr9suQ28PuJAvxwo9dxXuCu/",
            "dtype": "f8"
           },
           "z": {
            "bdata": "VeN0LwwtWb9wJQeo+lJxv/8ihmfbKn+/aa9MkIsKh7/ew/OxiEKOv4OEYavNNpK/nJXpDelTlL/pGcVZuBWVvxVRrFLhU5S/ASj80cA2kr/whkC+a0KOv8/Q4P5wCoe/Ra3bS7Iqf785oV6D4VJxv3G2vjnmLFm/",
            "dtype": "f8"
           }
          },
          {
           "name": "Fixed Nodes",
           "type": "scatter3d",
           "x": {
            "bdata": "fOkmMQisjD/e+X5qvHSTP/1+arx0k5g/CtejcD0Ktz9SuB6F61G4P5qZmZmZmbk/",
            "dtype": "f8"
           },
           "y": {
            "bdata": "AAAAAAAAAAAAAAAAAAAAAAAAAAAAAAAAAAAAAAAAAAAAAAAAAAAAAAAAAAAAAAAA",
            "dtype": "f8"
           },
           "z": {
            "bdata": "AAAAAAAAAAAAAAAAAAAAAAAAAAAAAAAAAAAAAAAAAAAAAAAAAAAAAAAAAAAAAAAA",
            "dtype": "f8"
           }
          },
          {
           "name": "Edges",
           "type": "scatter3d",
           "x": [
            0.014000000000000005,
            0.01900000000000001,
            null,
            0.01900000000000001,
            0.02400000000000001,
            null,
            0.02400000000000001,
            0.028747045102480398,
            null,
            0.028747045102480398,
            0.03294293606719758,
            null,
            0.03294293606719758,
            0.03661105884276963,
            null,
            0.03661105884276963,
            0.04002722844859799,
            null,
            0.04002722844859799,
            0.04356736036109759,
            null,
            0.04356736036109759,
            0.0475480480356419,
            null,
            0.0475480480356419,
            0.05208217321807241,
            null,
            0.05208217321807241,
            0.056999947491607035,
            null,
            0.056999947491607035,
            0.06191770404629399,
            null,
            0.06191770404629399,
            0.06645179341751145,
            null,
            0.06645179341751145,
            0.07043246156673973,
            null,
            0.07043246156673973,
            0.07397261113859462,
            null,
            0.07397261113859462,
            0.07738883050091531,
            null,
            0.07738883050091531,
            0.08105701132405514,
            null,
            0.08105701132405514,
            0.08525294242377471,
            null,
            0.08525294242377471,
            0.09,
            null,
            0.09,
            0.095,
            null,
            0.095,
            0.1,
            null
           ],
           "y": [
            0,
            0,
            null,
            0,
            0,
            null,
            0,
            0.0002115105287293564,
            null,
            0.0002115105287293564,
            0.000515313457012202,
            null,
            0.000515313457012202,
            0.0007969869332319308,
            null,
            0.0007969869332319308,
            0.0009697418240775059,
            null,
            0.0009697418240775059,
            0.000978117067784964,
            null,
            0.000978117067784964,
            0.0007991256800600158,
            null,
            0.0007991256800600158,
            0.0004509023838556414,
            null,
            0.0004509023838556414,
            1.1581389033680206e-7,
            null,
            1.1581389033680206e-7,
            -0.0004506753233896098,
            null,
            -0.0004506753233896098,
            -0.0007989133348913311,
            null,
            -0.0007989133348913311,
            -0.0009779308520777344,
            null,
            -0.0009779308520777344,
            -0.0009695921175219433,
            null,
            -0.0009695921175219433,
            -0.0007968805314943902,
            null,
            -0.0007968805314943902,
            -0.0005152517625058146,
            null,
            -0.0005152517625058146,
            -0.00021148750827598782,
            null,
            -0.00021148750827598782,
            0,
            null,
            0,
            0,
            null,
            0,
            0,
            null
           ],
           "z": [
            0,
            0,
            null,
            0,
            0,
            null,
            0,
            -0.0015366190908265482,
            null,
            -0.0015366190908265482,
            -0.004229525686647903,
            null,
            -0.004229525686647903,
            -0.007609231041336483,
            null,
            -0.007609231041336483,
            -0.01125058206670078,
            null,
            -0.01125058206670078,
            -0.014775340967817682,
            null,
            -0.014775340967817682,
            -0.017787183366071446,
            null,
            -0.017787183366071446,
            -0.01985134265341558,
            null,
            -0.01985134265341558,
            -0.02059066818153524,
            null,
            -0.02059066818153524,
            -0.019851227446523973,
            null,
            -0.019851227446523973,
            -0.017786991898027796,
            null,
            -0.017786991898027796,
            -0.014775125258953165,
            null,
            -0.014775125258953165,
            -0.011250384119286498,
            null,
            -0.011250384119286498,
            -0.007609077901843013,
            null,
            -0.007609077901843013,
            -0.004229432020942441,
            null,
            -0.004229432020942441,
            -0.0015365837379976122,
            null,
            -0.0015365837379976122,
            0,
            null,
            0,
            0,
            null,
            0,
            0,
            null
           ]
          },
          {
           "i": [],
           "j": [],
           "k": [],
           "name": "Faces",
           "type": "mesh3d",
           "x": {
            "bdata": "fOkmMQisjD/e+X5qvHSTP/1+arx0k5g/ZINJit1vnT8j7hWC5d2gPxOizUivvqI/dMJF6nJ+pD9nEdkHdk6mP+p6mr43WKg/kTpavYOqqj9pSbPcGC+tP8kv2GOts68/XB99F/wCsT89hAGf3AeyP1XWo3ne77I/C74TIMHPsz/Nkb/8JsC0P+IOmQcj07U/CtejcD0Ktz9SuB6F61G4P5qZmZmZmbk/",
            "dtype": "f8"
           },
           "y": {
            "bdata": "AAAAAAAAAAAAAAAAAAAAAAAAAAAAAAAA6k54mx25Kz8+mfc4w+JAP9MTI2icHUo/U8jBtcjGTz9YxFY0hQZQP9rjo1SNL0o/wosK/uKMPT9sel2BqxZ/PmQoa8YTiT2/Wi+mUsUtSr+WTcFBvQVQv40ptTeHxU+/gscp6bccSr9suQ28PuJAvxwo9dxXuCu/AAAAAAAAAAAAAAAAAAAAAAAAAAAAAAAA",
            "dtype": "f8"
           },
           "z": {
            "bdata": "AAAAAAAAAAAAAAAAAAAAAAAAAAAAAAAAVeN0LwwtWb9wJQeo+lJxv/8ihmfbKn+/aa9MkIsKh7/ew/OxiEKOv4OEYavNNpK/nJXpDelTlL/pGcVZuBWVvxVRrFLhU5S/ASj80cA2kr/whkC+a0KOv8/Q4P5wCoe/Ra3bS7Iqf785oV6D4VJxv3G2vjnmLFm/AAAAAAAAAAAAAAAAAAAAAAAAAAAAAAAA",
            "dtype": "f8"
           }
          }
         ],
         "layout": {
          "annotations": [
           {
            "showarrow": false,
            "text": "Time: 0.63s (Step: 64/100)",
            "x": 0.05,
            "xref": "paper",
            "y": 0.95,
            "yref": "paper"
           }
          ]
         },
         "name": "63"
        },
        {
         "data": [
          {
           "name": "Free Nodes",
           "type": "scatter3d",
           "x": {
            "bdata": "m4Ewe+FvnT9/GA747t2gPysDPevFvqI/fa2WH5h+pD/GuWl0pE6mP+kqoZ1jWKg/bcris56qqj8c7fnJGC+tP8llSkGSs68/+NclC+YCsT8/PLxHxQeyP3rAk8DL77I/uy9KubXPsz+onyA3IsC0PzWztQgi07U/",
            "dtype": "f8"
           },
           "y": {
            "bdata": "RQ65Vw9DLD/82Og10jZBP34hB1S0n0o/r1PEg5cyUD/CYU8RdFZQPxG5hu1Gsko/b+kD69EgPj8cGYZzkj6HPqycU+omGz6/pycE/qivSr8RR7nfUlVQv2mvC4qyMVC/W342RHOeSr8a2g8zGjZBvxyLb9H+QSy/",
            "dtype": "f8"
           },
           "z": {
            "bdata": "yURCe/ApWb9vaCpBI1Fxv/AZj68WKH+/vSSdN90Ih784yzqptUCOv1TJYivdNZK/1X0E8PVSlL/RtedfxBSVv+J71wjuUpS/c8kKDNA1kr/sOw4hmECOv3ckDSXCCIe/vfsC0ewnf796JiWlCVFxv7usC9LJKVm/",
            "dtype": "f8"
           }
          },
          {
           "name": "Fixed Nodes",
           "type": "scatter3d",
           "x": {
            "bdata": "fOkmMQisjD/e+X5qvHSTP/1+arx0k5g/CtejcD0Ktz9SuB6F61G4P5qZmZmZmbk/",
            "dtype": "f8"
           },
           "y": {
            "bdata": "AAAAAAAAAAAAAAAAAAAAAAAAAAAAAAAAAAAAAAAAAAAAAAAAAAAAAAAAAAAAAAAA",
            "dtype": "f8"
           },
           "z": {
            "bdata": "AAAAAAAAAAAAAAAAAAAAAAAAAAAAAAAAAAAAAAAAAAAAAAAAAAAAAAAAAAAAAAAA",
            "dtype": "f8"
           }
          },
          {
           "name": "Edges",
           "type": "scatter3d",
           "x": [
            0.014000000000000005,
            0.01900000000000001,
            null,
            0.01900000000000001,
            0.02400000000000001,
            null,
            0.02400000000000001,
            0.028747103828324332,
            null,
            0.028747103828324332,
            0.03294321802154431,
            null,
            0.03294321802154431,
            0.03661173340379372,
            null,
            0.03661173340379372,
            0.040028337341335686,
            null,
            0.040028337341335686,
            0.043568743906564886,
            null,
            0.043568743906564886,
            0.047549355499162456,
            null,
            0.047549355499162456,
            0.052082976778724845,
            null,
            0.052082976778724845,
            0.05699994531183902,
            null,
            0.05699994531183902,
            0.06191689536099038,
            null,
            0.06191689536099038,
            0.066450479241979,
            null,
            0.066450479241979,
            0.07043107034063299,
            null,
            0.07043107034063299,
            0.07397149516669002,
            null,
            0.07397149516669002,
            0.0773881509177831,
            null,
            0.0773881509177831,
            0.08105672689327881,
            null,
            0.08105672689327881,
            0.08525288307801022,
            null,
            0.08525288307801022,
            0.09,
            null,
            0.09,
            0.095,
            null,
            0.095,
            0.1,
            null
           ],
           "y": [
            0,
            0,
            null,
            0,
            0,
            null,
            0,
            0.00021562158859654755,
            null,
            0.00021562158859654755,
            0.0005253340166919969,
            null,
            0.0005253340166919969,
            0.0008124952801660671,
            null,
            0.0008124952801660671,
            0.0009886245380290417,
            null,
            0.0009886245380290417,
            0.0009971745941951137,
            null,
            0.0009971745941951137,
            0.0008147093131379031,
            null,
            0.0008147093131379031,
            0.00045971989585748876,
            null,
            0.00045971989585748876,
            1.7318444079875512e-7,
            null,
            1.7318444079875512e-7,
            -0.0004593820579672041,
            null,
            -0.0004593820579672041,
            -0.0008143973500704852,
            null,
            -0.0008143973500704852,
            -0.0009969052615769784,
            null,
            -0.0009969052615769784,
            -0.0009884112880013901,
            null,
            -0.0009884112880013901,
            -0.0008123457741255434,
            null,
            -0.0008123457741255434,
            -0.0005252483298353067,
            null,
            -0.0005252483298353067,
            -0.00021558986256228145,
            null,
            -0.00021558986256228145,
            0,
            null,
            0,
            0,
            null,
            0,
            0,
            null
           ],
           "z": [
            0,
            0,
            null,
            0,
            0,
            null,
            0,
            -0.0015358780338241998,
            null,
            -0.0015358780338241998,
            -0.004227769578074455,
            null,
            -0.004227769578074455,
            -0.007606590858762349,
            null,
            -0.007606590858762349,
            -0.011247375735950244,
            null,
            -0.011247375735950244,
            -0.014771861292819474,
            null,
            -0.014771861292819474,
            -0.01778359963709282,
            null,
            -0.01778359963709282,
            -0.019847719931133618,
            null,
            -0.019847719931133618,
            -0.020587032655319085,
            null,
            -0.020587032655319085,
            -0.019847602166802043,
            null,
            -0.019847602166802043,
            -0.017783404097551036,
            null,
            -0.017783404097551036,
            -0.014771641262795364,
            null,
            -0.014771641262795364,
            -0.011247174030034153,
            null,
            -0.011247174030034153,
            -0.0076064348833701475,
            null,
            -0.0076064348833701475,
            -0.004227674175419355,
            null,
            -0.004227674175419355,
            -0.0015358420279721191,
            null,
            -0.0015358420279721191,
            0,
            null,
            0,
            0,
            null,
            0,
            0,
            null
           ]
          },
          {
           "i": [],
           "j": [],
           "k": [],
           "name": "Faces",
           "type": "mesh3d",
           "x": {
            "bdata": "fOkmMQisjD/e+X5qvHSTP/1+arx0k5g/m4Ewe+FvnT9/GA747t2gPysDPevFvqI/fa2WH5h+pD/GuWl0pE6mP+kqoZ1jWKg/bcris56qqj8c7fnJGC+tP8llSkGSs68/+NclC+YCsT8/PLxHxQeyP3rAk8DL77I/uy9KubXPsz+onyA3IsC0PzWztQgi07U/CtejcD0Ktz9SuB6F61G4P5qZmZmZmbk/",
            "dtype": "f8"
           },
           "y": {
            "bdata": "AAAAAAAAAAAAAAAAAAAAAAAAAAAAAAAARQ65Vw9DLD/82Og10jZBP34hB1S0n0o/r1PEg5cyUD/CYU8RdFZQPxG5hu1Gsko/b+kD69EgPj8cGYZzkj6HPqycU+omGz6/pycE/qivSr8RR7nfUlVQv2mvC4qyMVC/W342RHOeSr8a2g8zGjZBvxyLb9H+QSy/AAAAAAAAAAAAAAAAAAAAAAAAAAAAAAAA",
            "dtype": "f8"
           },
           "z": {
            "bdata": "AAAAAAAAAAAAAAAAAAAAAAAAAAAAAAAAyURCe/ApWb9vaCpBI1Fxv/AZj68WKH+/vSSdN90Ih784yzqptUCOv1TJYivdNZK/1X0E8PVSlL/RtedfxBSVv+J71wjuUpS/c8kKDNA1kr/sOw4hmECOv3ckDSXCCIe/vfsC0ewnf796JiWlCVFxv7usC9LJKVm/AAAAAAAAAAAAAAAAAAAAAAAAAAAAAAAA",
            "dtype": "f8"
           }
          }
         ],
         "layout": {
          "annotations": [
           {
            "showarrow": false,
            "text": "Time: 0.64s (Step: 65/100)",
            "x": 0.05,
            "xref": "paper",
            "y": 0.95,
            "yref": "paper"
           }
          ]
         },
         "name": "64"
        },
        {
         "data": [
          {
           "name": "Free Nodes",
           "type": "scatter3d",
           "x": {
            "bdata": "oRpwfuVvnT9l4p6Z+N2gP4XIX/XcvqI/qr+x/r1+pD/AQCO0006mPyK8p0OQWKg/nHprJLqqqj/Via22GC+tPxtPaKN2s68/8chzms8CsT+GEeiFrQeyP69ktLG477I/tYz8HarPsz+ANV5bHcC0PxoqJQUh07U/",
            "dtype": "f8"
           },
           "y": {
            "bdata": "YzDARL/MLD8f4d4ZuYpBP4qlNkKOIUs/jwaCk6SBUD9Oph46O6ZQP2IaY6y6NEs/RvGuP2G0Pj/AO2OHkd+NPhpFu30crT6/DgGiTmQxS7+xYHP8zKRQvw1qgJyEgFC/my/SDf0fS790yNJs1IlBv2snetttyyy/",
            "dtype": "f8"
           },
           "z": {
            "bdata": "garPcMYmWb8f6X1gQ09xv6uWtD1FJX+/wxzEJicHh788fmhC2j6Ov4YRiF3oNJK/pjRneP5RlL/eIk4GzBOVv0yZIF72UZS/20G969o0kr+vcrkHvD6Ov2VPuHULB4e/LYJjbBolf79cGC4uKU9xv/AMYOGeJlm/",
            "dtype": "f8"
           }
          },
          {
           "name": "Fixed Nodes",
           "type": "scatter3d",
           "x": {
            "bdata": "fOkmMQisjD/e+X5qvHSTP/1+arx0k5g/CtejcD0Ktz9SuB6F61G4P5qZmZmZmbk/",
            "dtype": "f8"
           },
           "y": {
            "bdata": "AAAAAAAAAAAAAAAAAAAAAAAAAAAAAAAAAAAAAAAAAAAAAAAAAAAAAAAAAAAAAAAA",
            "dtype": "f8"
           },
           "z": {
            "bdata": "AAAAAAAAAAAAAAAAAAAAAAAAAAAAAAAAAAAAAAAAAAAAAAAAAAAAAAAAAAAAAAAA",
            "dtype": "f8"
           }
          },
          {
           "name": "Edges",
           "type": "scatter3d",
           "x": [
            0.014000000000000005,
            0.01900000000000001,
            null,
            0.01900000000000001,
            0.02400000000000001,
            null,
            0.02400000000000001,
            0.028747163622052544,
            null,
            0.028747163622052544,
            0.03294350505115488,
            null,
            0.03294350505115488,
            0.03661242003717383,
            null,
            0.03661242003717383,
            0.04002946600019126,
            null,
            0.04002946600019126,
            0.04357015203425041,
            null,
            0.04357015203425041,
            0.04755068612927739,
            null,
            0.04755068612927739,
            0.05208379454210396,
            null,
            0.05208379454210396,
            0.05699994306521076,
            null,
            0.05699994306521076,
            0.0619160723182672,
            null,
            0.0619160723182672,
            0.0664491417008184,
            null,
            0.0664491417008184,
            0.07042965430452428,
            null,
            0.07042965430452428,
            0.07397035921566684,
            null,
            0.07397035921566684,
            0.07738745910733054,
            null,
            0.07738745910733054,
            0.08105643730796963,
            null,
            0.08105643730796963,
            0.08525282264341918,
            null,
            0.08525282264341918,
            0.09,
            null,
            0.09,
            0.095,
            null,
            0.095,
            0.1,
            null
           ],
           "y": [
            0,
            0,
            null,
            0,
            0,
            null,
            0,
            0.0002197249872327749,
            null,
            0.0002197249872327749,
            0.0005353359044795481,
            null,
            0.0005353359044795481,
            0.0008279747602745618,
            null,
            0.0008279747602745618,
            0.0010074717702369983,
            null,
            0.0010074717702369983,
            0.00101619514360109,
            null,
            0.00101619514360109,
            0.0008302604190014269,
            null,
            0.0008302604190014269,
            0.00046851515042669147,
            null,
            0.00046851515042669147,
            2.225735362182981e-7,
            null,
            2.225735362182981e-7,
            -0.00046808190903131904,
            null,
            -0.00046808190903131904,
            -0.000829862573724001,
            null,
            -0.000829862573724001,
            -0.001015854055188153,
            null,
            -0.001015854055188153,
            -0.0010072035820544196,
            null,
            -0.0010072035820544196,
            -0.0008277879347970864,
            null,
            -0.0008277879347970864,
            -0.0005352294189349253,
            null,
            -0.0005352294189349253,
            -0.00021968570739644018,
            null,
            -0.00021968570739644018,
            0,
            null,
            0,
            0,
            null,
            0,
            0,
            null
           ],
           "z": [
            0,
            0,
            null,
            0,
            0,
            null,
            0,
            -0.0015351236245303714,
            null,
            -0.0015351236245303714,
            -0.004225981894587143,
            null,
            -0.004225981894587143,
            -0.0076039032676697245,
            null,
            -0.0076039032676697245,
            -0.011244111891313918,
            null,
            -0.011244111891313918,
            -0.014768319274536805,
            null,
            -0.014768319274536805,
            -0.01777995177146032,
            null,
            -0.01777995177146032,
            -0.01984403238184442,
            null,
            -0.01984403238184442,
            -0.0205833319519425,
            null,
            -0.0205833319519425,
            -0.01984391164310155,
            null,
            -0.01984391164310155,
            -0.01777975143278519,
            null,
            -0.01777975143278519,
            -0.014768094049196405,
            null,
            -0.014768094049196405,
            -0.011243905572918053,
            null,
            -0.011243905572918053,
            -0.007603743759518039,
            null,
            -0.007603743759518039,
            -0.004225884304906637,
            null,
            -0.004225884304906637,
            -0.0015350867811328404,
            null,
            -0.0015350867811328404,
            0,
            null,
            0,
            0,
            null,
            0,
            0,
            null
           ]
          },
          {
           "i": [],
           "j": [],
           "k": [],
           "name": "Faces",
           "type": "mesh3d",
           "x": {
            "bdata": "fOkmMQisjD/e+X5qvHSTP/1+arx0k5g/oRpwfuVvnT9l4p6Z+N2gP4XIX/XcvqI/qr+x/r1+pD/AQCO0006mPyK8p0OQWKg/nHprJLqqqj/Via22GC+tPxtPaKN2s68/8chzms8CsT+GEeiFrQeyP69ktLG477I/tYz8HarPsz+ANV5bHcC0PxoqJQUh07U/CtejcD0Ktz9SuB6F61G4P5qZmZmZmbk/",
            "dtype": "f8"
           },
           "y": {
            "bdata": "AAAAAAAAAAAAAAAAAAAAAAAAAAAAAAAAYzDARL/MLD8f4d4ZuYpBP4qlNkKOIUs/jwaCk6SBUD9Oph46O6ZQP2IaY6y6NEs/RvGuP2G0Pj/AO2OHkd+NPhpFu30crT6/DgGiTmQxS7+xYHP8zKRQvw1qgJyEgFC/my/SDf0fS790yNJs1IlBv2snetttyyy/AAAAAAAAAAAAAAAAAAAAAAAAAAAAAAAA",
            "dtype": "f8"
           },
           "z": {
            "bdata": "AAAAAAAAAAAAAAAAAAAAAAAAAAAAAAAAgarPcMYmWb8f6X1gQ09xv6uWtD1FJX+/wxzEJicHh788fmhC2j6Ov4YRiF3oNJK/pjRneP5RlL/eIk4GzBOVv0yZIF72UZS/20G969o0kr+vcrkHvD6Ov2VPuHULB4e/LYJjbBolf79cGC4uKU9xv/AMYOGeJlm/AAAAAAAAAAAAAAAAAAAAAAAAAAAAAAAA",
            "dtype": "f8"
           }
          }
         ],
         "layout": {
          "annotations": [
           {
            "showarrow": false,
            "text": "Time: 0.65s (Step: 66/100)",
            "x": 0.05,
            "xref": "paper",
            "y": 0.95,
            "yref": "paper"
           }
          ]
         },
         "name": "65"
        },
        {
         "data": [
          {
           "name": "Free Nodes",
           "type": "scatter3d",
           "x": {
            "bdata": "rCjwk+lvnT/H94hmAt6gP+ool2b0vqI/r26JhuR+pD8LVqzFA0+mP5nUX6+9WKg/zoYgDtaqqj9on8WiGC+tP5KX84pas68/ivADxrgCsT8V4SZalQeyP3iQgk2l77I/yrJyTp7Psz9e1JNpGMC0P51B7Pwf07U/",
            "dtype": "f8"
           },
           "y": {
            "bdata": "XPjs4CpWLT9oDy4/dt5BP2ucIWMno0s/rrIylInQUD/ASURE2PVQPz+Obybjtks/K4ls1oVHPz/dAc7SAo2RPpiXS6n9Pj+/Bpwt7vqyS79LDuDvLPRQvw5QD7c6z1C/FHBXTFahS78WxRbibd1BvzI4NoilVC2/",
            "dtype": "f8"
           },
           "z": {
            "bdata": "3Bq6K44jWb8SW8AWW01xv15alytnIn+/+Bt0bWkFh7+aX1aO9jyOv2NtF0rvM5K/XZKgrgJRlL8ZS2hTzxKVvzjurlf6UJS/vWkYdeEzkr+1cbd41zyOv96ATfZMBYe/54/AJjsif7/BN1MkQE1xv6gdd3FlI1m/",
            "dtype": "f8"
           }
          },
          {
           "name": "Fixed Nodes",
           "type": "scatter3d",
           "x": {
            "bdata": "fOkmMQisjD/e+X5qvHSTP/1+arx0k5g/CtejcD0Ktz9SuB6F61G4P5qZmZmZmbk/",
            "dtype": "f8"
           },
           "y": {
            "bdata": "AAAAAAAAAAAAAAAAAAAAAAAAAAAAAAAAAAAAAAAAAAAAAAAAAAAAAAAAAAAAAAAA",
            "dtype": "f8"
           },
           "z": {
            "bdata": "AAAAAAAAAAAAAAAAAAAAAAAAAAAAAAAAAAAAAAAAAAAAAAAAAAAAAAAAAAAAAAAA",
            "dtype": "f8"
           }
          },
          {
           "name": "Edges",
           "type": "scatter3d",
           "x": [
            0.014000000000000005,
            0.01900000000000001,
            null,
            0.01900000000000001,
            0.02400000000000001,
            null,
            0.02400000000000001,
            0.028747224478174502,
            null,
            0.028747224478174502,
            0.03294379712723088,
            null,
            0.03294379712723088,
            0.03661311867070245,
            null,
            0.03661311867070245,
            0.04003061430259202,
            null,
            0.04003061430259202,
            0.0435715845871237,
            null,
            0.0435715845871237,
            0.04755203977394124,
            null,
            0.04755203977394124,
            0.05208462641190935,
            null,
            0.05208462641190935,
            0.05699994074785658,
            null,
            0.05699994074785658,
            0.061915235006195904,
            null,
            0.061915235006195904,
            0.06644778093681417,
            null,
            0.06644778093681417,
            0.07042821360562741,
            null,
            0.07042821360562741,
            0.07396920339903257,
            null,
            0.07396920339903257,
            0.0773867551349198,
            null,
            0.0773867551349198,
            0.0810561425931424,
            null,
            0.0810561425931424,
            0.08525276112437159,
            null,
            0.08525276112437159,
            0.09,
            null,
            0.09,
            0.095,
            null,
            0.095,
            0.1,
            null
           ],
           "y": [
            0,
            0,
            null,
            0,
            0,
            null,
            0,
            0.00022382043285945868,
            null,
            0.00022382043285945868,
            0.0005453183533607854,
            null,
            0.0005453183533607854,
            0.0008434240646807539,
            null,
            0.0008434240646807539,
            0.0010262816947871722,
            null,
            0.0010262816947871722,
            0.0010351764659089907,
            null,
            0.0010351764659089907,
            0.0008457764750997089,
            null,
            0.0008457764750997089,
            0.00047728555220962154,
            null,
            0.00047728555220962154,
            2.615276624637594e-7,
            null,
            2.615276624637594e-7,
            -0.00047677700903958056,
            null,
            -0.00047677700903958056,
            -0.0008453107114804188,
            null,
            -0.0008453107114804188,
            -0.001034778484155024,
            null,
            -0.001034778484155024,
            -0.0010259698285510796,
            null,
            -0.0010259698285510796,
            -0.0008432074907278619,
            null,
            -0.0008432074907278619,
            -0.000545195249449434,
            null,
            -0.000545195249449434,
            -0.00022377510695687077,
            null,
            -0.00022377510695687077,
            0,
            null,
            0,
            0,
            null,
            0,
            0,
            null
           ],
           "z": [
            0,
            0,
            null,
            0,
            0,
            null,
            0,
            -0.0015343559634019488,
            null,
            -0.0015343559634019488,
            -0.004224162879856734,
            null,
            -0.004224162879856734,
            -0.007601168640994331,
            null,
            -0.007601168640994331,
            -0.011240790989644353,
            null,
            -0.011240790989644353,
            -0.014764715403359042,
            null,
            -0.014764715403359042,
            -0.01777624025076586,
            null,
            -0.01777624025076586,
            -0.019840280445480796,
            null,
            -0.019840280445480796,
            -0.020579566446097795,
            null,
            -0.020579566446097795,
            -0.01984015617538956,
            null,
            -0.01984015617538956,
            -0.0177760341376627,
            null,
            -0.0177760341376627,
            -0.01476448380611193,
            null,
            -0.01476448380611193,
            -0.011240578905642836,
            null,
            -0.011240578905642836,
            -0.00760100465780409,
            null,
            -0.00760100465780409,
            -0.004224062494541715,
            null,
            -0.004224062494541715,
            -0.001534318032882934,
            null,
            -0.001534318032882934,
            0,
            null,
            0,
            0,
            null,
            0,
            0,
            null
           ]
          },
          {
           "i": [],
           "j": [],
           "k": [],
           "name": "Faces",
           "type": "mesh3d",
           "x": {
            "bdata": "fOkmMQisjD/e+X5qvHSTP/1+arx0k5g/rCjwk+lvnT/H94hmAt6gP+ool2b0vqI/r26JhuR+pD8LVqzFA0+mP5nUX6+9WKg/zoYgDtaqqj9on8WiGC+tP5KX84pas68/ivADxrgCsT8V4SZalQeyP3iQgk2l77I/yrJyTp7Psz9e1JNpGMC0P51B7Pwf07U/CtejcD0Ktz9SuB6F61G4P5qZmZmZmbk/",
            "dtype": "f8"
           },
           "y": {
            "bdata": "AAAAAAAAAAAAAAAAAAAAAAAAAAAAAAAAXPjs4CpWLT9oDy4/dt5BP2ucIWMno0s/rrIylInQUD/ASURE2PVQPz+Obybjtks/K4ls1oVHPz/dAc7SAo2RPpiXS6n9Pj+/Bpwt7vqyS79LDuDvLPRQvw5QD7c6z1C/FHBXTFahS78WxRbibd1BvzI4NoilVC2/AAAAAAAAAAAAAAAAAAAAAAAAAAAAAAAA",
            "dtype": "f8"
           },
           "z": {
            "bdata": "AAAAAAAAAAAAAAAAAAAAAAAAAAAAAAAA3Bq6K44jWb8SW8AWW01xv15alytnIn+/+Bt0bWkFh7+aX1aO9jyOv2NtF0rvM5K/XZKgrgJRlL8ZS2hTzxKVvzjurlf6UJS/vWkYdeEzkr+1cbd41zyOv96ATfZMBYe/54/AJjsif7/BN1MkQE1xv6gdd3FlI1m/AAAAAAAAAAAAAAAAAAAAAAAAAAAAAAAA",
            "dtype": "f8"
           }
          }
         ],
         "layout": {
          "annotations": [
           {
            "showarrow": false,
            "text": "Time: 0.66s (Step: 67/100)",
            "x": 0.05,
            "xref": "paper",
            "y": 0.95,
            "yref": "paper"
           }
          ]
         },
         "name": "66"
        },
        {
         "data": [
          {
           "name": "Free Nodes",
           "type": "scatter3d",
           "x": {
            "bdata": "zbSYu+1vnT8jC41eDN6gP3bZQz4Mv6I/UcgOtgt/pD9QfKmnNE+mPyr1eN/rWKg/d1ItcPKqqj/eOjuOGC+tPz0Qsvg9s68/oTp2jqECsT8Plh3FfAeyP3aXfZSR77I/SyL2SpLPsz+5vt1hE8C0P772D/Ae07U/",
            "dtype": "f8"
           },
           "y": {
            "bdata": "gSPQKFDfLT9BTDJXCDJCP3TW84N9JEw/ObfRA0UfUT+UN1ddSUVRPxzufF68OEw/4U9/tzfaPz8vRh7c9FmTPoxVnW7Q0D+/0mauHm80TL8DHXB9c0NRvxITN03VHVG/UDU+b38iTL8ONWO45jBCv3jLz+yl3S2/",
            "dtype": "f8"
           },
           "z": {
            "bdata": "3x4FxkcgWb9wn7ZzaktxvzWFVJF8H3+/zr5zGqQDh793sPKcCjuOv0QO+/jxMpK//dEUmgJQlL9u5bpNzhGVvwl6/fr5T5S/69KkrOMykr/OgLR76jqOv2WOaK2GA4e/UzDRCk8ff7+26LGOTktxv7EoII4dIFm/",
            "dtype": "f8"
           }
          },
          {
           "name": "Fixed Nodes",
           "type": "scatter3d",
           "x": {
            "bdata": "fOkmMQisjD/e+X5qvHSTP/1+arx0k5g/CtejcD0Ktz9SuB6F61G4P5qZmZmZmbk/",
            "dtype": "f8"
           },
           "y": {
            "bdata": "AAAAAAAAAAAAAAAAAAAAAAAAAAAAAAAAAAAAAAAAAAAAAAAAAAAAAAAAAAAAAAAA",
            "dtype": "f8"
           },
           "z": {
            "bdata": "AAAAAAAAAAAAAAAAAAAAAAAAAAAAAAAAAAAAAAAAAAAAAAAAAAAAAAAAAAAAAAAA",
            "dtype": "f8"
           }
          },
          {
           "name": "Edges",
           "type": "scatter3d",
           "x": [
            0.014000000000000005,
            0.01900000000000001,
            null,
            0.01900000000000001,
            0.02400000000000001,
            null,
            0.02400000000000001,
            0.02874728639124129,
            null,
            0.02874728639124129,
            0.03294409422098556,
            null,
            0.03294409422098556,
            0.036613829231941716,
            null,
            0.036613829231941716,
            0.040031782125325883,
            null,
            0.040031782125325883,
            0.04357304140716478,
            null,
            0.04357304140716478,
            0.04755341628013306,
            null,
            0.04755341628013306,
            0.052085472291456485,
            null,
            0.052085472291456485,
            0.05699993835661642,
            null,
            0.05699993835661642,
            0.061914383514733086,
            null,
            0.061914383514733086,
            0.0664463970954139,
            null,
            0.0664463970954139,
            0.07042674839393491,
            null,
            0.07042674839393491,
            0.07396802783259013,
            null,
            0.07396802783259013,
            0.07738603906739987,
            null,
            0.07738603906739987,
            0.08105584277449908,
            null,
            0.08105584277449908,
            0.08525269852540426,
            null,
            0.08525269852540426,
            0.09,
            null,
            0.09,
            0.095,
            null,
            0.095,
            0.1,
            null
           ],
           "y": [
            0,
            0,
            null,
            0,
            0,
            null,
            0,
            0.00022790769108407483,
            null,
            0.00022790769108407483,
            0.0005552807546273035,
            null,
            0.0005552807546273035,
            0.0008588421696049246,
            null,
            0.0008588421696049246,
            0.0010450529073539729,
            null,
            0.0010450529073539729,
            0.0010541168643274134,
            null,
            0.0010541168643274134,
            0.0008612556239095434,
            null,
            0.0008612556239095434,
            0.0004860292460737697,
            null,
            0.0004860292460737697,
            2.883582191854991e-7,
            null,
            2.883582191854991e-7,
            -0.0004854687564280417,
            null,
            -0.0004854687564280417,
            -0.0008607428147684121,
            null,
            -0.0008607428147684121,
            -0.0010536792594864626,
            null,
            -0.0010536792594864626,
            -0.0010447104476593622,
            null,
            -0.0010447104476593622,
            -0.0008586046446780547,
            null,
            -0.0008586046446780547,
            -0.0005551458896434784,
            null,
            -0.0005551458896434784,
            -0.00022785807087152463,
            null,
            -0.00022785807087152463,
            0,
            null,
            0,
            0,
            null,
            0,
            0,
            null
           ],
           "z": [
            0,
            0,
            null,
            0,
            0,
            null,
            0,
            -0.0015335751450766195,
            null,
            -0.0015335751450766195,
            -0.0042223127633532614,
            null,
            -0.0042223127633532614,
            -0.007598387329637736,
            null,
            -0.007598387329637736,
            -0.011237413460974646,
            null,
            -0.011237413460974646,
            -0.014761050142930039,
            null,
            -0.014761050142930039,
            -0.017772465535712337,
            null,
            -0.017772465535712337,
            -0.01983646455228615,
            null,
            -0.01983646455228615,
            -0.020575736517206726,
            null,
            -0.020575736517206726,
            -0.0198363360826708,
            null,
            -0.0198363360826708,
            -0.017772252476066546,
            null,
            -0.017772252476066546,
            -0.014760810756854783,
            null,
            -0.014760810756854783,
            -0.011237194220547761,
            null,
            -0.011237194220547761,
            -0.007598217734152329,
            null,
            -0.007598217734152329,
            -0.0042222088478586686,
            null,
            -0.0042222088478586686,
            -0.0015335358261859106,
            null,
            -0.0015335358261859106,
            0,
            null,
            0,
            0,
            null,
            0,
            0,
            null
           ]
          },
          {
           "i": [],
           "j": [],
           "k": [],
           "name": "Faces",
           "type": "mesh3d",
           "x": {
            "bdata": "fOkmMQisjD/e+X5qvHSTP/1+arx0k5g/zbSYu+1vnT8jC41eDN6gP3bZQz4Mv6I/UcgOtgt/pD9QfKmnNE+mPyr1eN/rWKg/d1ItcPKqqj/eOjuOGC+tPz0Qsvg9s68/oTp2jqECsT8Plh3FfAeyP3aXfZSR77I/SyL2SpLPsz+5vt1hE8C0P772D/Ae07U/CtejcD0Ktz9SuB6F61G4P5qZmZmZmbk/",
            "dtype": "f8"
           },
           "y": {
            "bdata": "AAAAAAAAAAAAAAAAAAAAAAAAAAAAAAAAgSPQKFDfLT9BTDJXCDJCP3TW84N9JEw/ObfRA0UfUT+UN1ddSUVRPxzufF68OEw/4U9/tzfaPz8vRh7c9FmTPoxVnW7Q0D+/0mauHm80TL8DHXB9c0NRvxITN03VHVG/UDU+b38iTL8ONWO45jBCv3jLz+yl3S2/AAAAAAAAAAAAAAAAAAAAAAAAAAAAAAAA",
            "dtype": "f8"
           },
           "z": {
            "bdata": "AAAAAAAAAAAAAAAAAAAAAAAAAAAAAAAA3x4FxkcgWb9wn7ZzaktxvzWFVJF8H3+/zr5zGqQDh793sPKcCjuOv0QO+/jxMpK//dEUmgJQlL9u5bpNzhGVvwl6/fr5T5S/69KkrOMykr/OgLR76jqOv2WOaK2GA4e/UzDRCk8ff7+26LGOTktxv7EoII4dIFm/AAAAAAAAAAAAAAAAAAAAAAAAAAAAAAAA",
            "dtype": "f8"
           }
          }
         ],
         "layout": {
          "annotations": [
           {
            "showarrow": false,
            "text": "Time: 0.67s (Step: 68/100)",
            "x": 0.05,
            "xref": "paper",
            "y": 0.95,
            "yref": "paper"
           }
          ]
         },
         "name": "67"
        },
        {
         "data": [
          {
           "name": "Free Nodes",
           "type": "scatter3d",
           "x": {
            "bdata": "uhVS9fFvnT9VC2yBFt6gP25yxnskv6I/gPwxjDN/pD+Oor1YZk+mP8cJodIaWag/xN+8SQ+rqj8BVAl5GC+tP2IBbu0gs68/e6tt9IkCsT93WHTHYweyP2KBJ4d977I/BSPSE4bPsz8gDllEDsC0Pyl8ld4d07U/",
            "dtype": "f8"
           },
           "y": {
            "bdata": "iLXSny1oLj8hClRwboVCPyKOhRmPpUw/wp9l3NVtUT/GQc9VjZRRP0VPD99Dukw/a2m5KTk2QD/YbrbmskeUPu2D77ZLMUC/UXh4oMG1TL9USVLJoJJRv1c8/VlUbFG/Cic3RHijTL8GYgm8PoRCv9Sm451uZi6/",
            "dtype": "f8"
           },
           "z": {
            "bdata": "+ZmzV/McWb+O8eyFcUlxv5BfJIWFHH+/EHliO9cBh79JcAR9FjmOv+yRqHHwMZK/h1DvQf5OlL+i0N77yBCVv4Hz5031TpS/3kiGl+Exkr/hq80Z9TiOv/A1D6O4AYe/Ni6eJVYcf7/C8ed1VElxv0A+okXHHFm/",
            "dtype": "f8"
           }
          },
          {
           "name": "Fixed Nodes",
           "type": "scatter3d",
           "x": {
            "bdata": "fOkmMQisjD/e+X5qvHSTP/1+arx0k5g/CtejcD0Ktz9SuB6F61G4P5qZmZmZmbk/",
            "dtype": "f8"
           },
           "y": {
            "bdata": "AAAAAAAAAAAAAAAAAAAAAAAAAAAAAAAAAAAAAAAAAAAAAAAAAAAAAAAAAAAAAAAA",
            "dtype": "f8"
           },
           "z": {
            "bdata": "AAAAAAAAAAAAAAAAAAAAAAAAAAAAAAAAAAAAAAAAAAAAAAAAAAAAAAAAAAAAAAAA",
            "dtype": "f8"
           }
          },
          {
           "name": "Edges",
           "type": "scatter3d",
           "x": [
            0.014000000000000005,
            0.01900000000000001,
            null,
            0.01900000000000001,
            0.02400000000000001,
            null,
            0.02400000000000001,
            0.028747349355872955,
            null,
            0.028747349355872955,
            0.03294439630373939,
            null,
            0.03294439630373939,
            0.036614551648402535,
            null,
            0.036614551648402535,
            0.04003296934478673,
            null,
            0.04003296934478673,
            0.04357452233563662,
            null,
            0.04357452233563662,
            0.047554815494112605,
            null,
            0.047554815494112605,
            0.05208633208388805,
            null,
            0.05208633208388805,
            0.05699993588920194,
            null,
            0.05699993588920194,
            0.061913517935866094,
            null,
            0.061913517935866094,
            0.06644499032488042,
            null,
            0.06644499032488042,
            0.07042525882238403,
            null,
            0.07042525882238403,
            0.07396683263460127,
            null,
            0.07396683263460127,
            0.07738531097323793,
            null,
            0.07738531097323793,
            0.08105553787850583,
            null,
            0.08105553787850583,
            0.0852526348512447,
            null,
            0.0852526348512447,
            0.09,
            null,
            0.09,
            0.095,
            null,
            0.095,
            0.1,
            null
           ],
           "y": [
            0,
            0,
            null,
            0,
            0,
            null,
            0,
            0.00023198658883442588,
            null,
            0.00023198658883442588,
            0.000565222668825808,
            null,
            0.000565222668825808,
            0.0008742283562636658,
            null,
            0.0008742283562636658,
            0.0010637844548799656,
            null,
            0.0010637844548799656,
            0.0010730152346135487,
            null,
            0.0010730152346135487,
            0.0008766967204061135,
            null,
            0.0008766967204061135,
            0.0004947451702251143,
            null,
            0.0004947451702251143,
            3.021966452300163e-7,
            null,
            3.021966452300163e-7,
            -0.0004941577625424666,
            null,
            -0.0004941577625424666,
            -0.0008761592334314371,
            null,
            -0.0008761592334314371,
            -0.0010725565128138674,
            null,
            -0.0010725565128138674,
            -0.001063425421268046,
            null,
            -0.001063425421268046,
            -0.0008739793051344158,
            null,
            -0.0008739793051344158,
            -0.0005650812455071936,
            null,
            -0.0005650812455071936,
            -0.00023193455030617058,
            null,
            -0.00023193455030617058,
            0,
            null,
            0,
            0,
            null,
            0,
            0,
            null
           ],
           "z": [
            0,
            0,
            null,
            0,
            0,
            null,
            0,
            -0.0015327812569069217,
            null,
            -0.0015327812569069217,
            -0.004220431756774791,
            null,
            -0.004220431756774791,
            -0.007595559656941378,
            null,
            -0.007595559656941378,
            -0.01123397970178222,
            null,
            -0.01123397970178222,
            -0.014757323923326864,
            null,
            -0.014757323923326864,
            -0.017768628060496214,
            null,
            -0.017768628060496214,
            -0.019832585119573778,
            null,
            -0.019832585119573778,
            -0.020571842549273918,
            null,
            -0.020571842549273918,
            -0.019832451705940727,
            null,
            -0.019832451705940727,
            -0.01776840674717383,
            null,
            -0.01776840674717383,
            -0.014757075166661639,
            null,
            -0.014757075166661639,
            -0.011233751751116267,
            null,
            -0.011233751751116267,
            -0.007595383178237427,
            null,
            -0.007595383178237427,
            -0.0042203234902413195,
            null,
            -0.0042203234902413195,
            -0.001532740212983344,
            null,
            -0.001532740212983344,
            0,
            null,
            0,
            0,
            null,
            0,
            0,
            null
           ]
          },
          {
           "i": [],
           "j": [],
           "k": [],
           "name": "Faces",
           "type": "mesh3d",
           "x": {
            "bdata": "fOkmMQisjD/e+X5qvHSTP/1+arx0k5g/uhVS9fFvnT9VC2yBFt6gP25yxnskv6I/gPwxjDN/pD+Oor1YZk+mP8cJodIaWag/xN+8SQ+rqj8BVAl5GC+tP2IBbu0gs68/e6tt9IkCsT93WHTHYweyP2KBJ4d977I/BSPSE4bPsz8gDllEDsC0Pyl8ld4d07U/CtejcD0Ktz9SuB6F61G4P5qZmZmZmbk/",
            "dtype": "f8"
           },
           "y": {
            "bdata": "AAAAAAAAAAAAAAAAAAAAAAAAAAAAAAAAiLXSny1oLj8hClRwboVCPyKOhRmPpUw/wp9l3NVtUT/GQc9VjZRRP0VPD99Dukw/a2m5KTk2QD/YbrbmskeUPu2D77ZLMUC/UXh4oMG1TL9USVLJoJJRv1c8/VlUbFG/Cic3RHijTL8GYgm8PoRCv9Sm451uZi6/AAAAAAAAAAAAAAAAAAAAAAAAAAAAAAAA",
            "dtype": "f8"
           },
           "z": {
            "bdata": "AAAAAAAAAAAAAAAAAAAAAAAAAAAAAAAA+ZmzV/McWb+O8eyFcUlxv5BfJIWFHH+/EHliO9cBh79JcAR9FjmOv+yRqHHwMZK/h1DvQf5OlL+i0N77yBCVv4Hz5031TpS/3kiGl+Exkr/hq80Z9TiOv/A1D6O4AYe/Ni6eJVYcf7/C8ed1VElxv0A+okXHHFm/AAAAAAAAAAAAAAAAAAAAAAAAAAAAAAAA",
            "dtype": "f8"
           }
          }
         ],
         "layout": {
          "annotations": [
           {
            "showarrow": false,
            "text": "Time: 0.68s (Step: 69/100)",
            "x": 0.05,
            "xref": "paper",
            "y": 0.95,
            "yref": "paper"
           }
          ]
         },
         "name": "68"
        },
        {
         "data": [
          {
           "name": "Free Nodes",
           "type": "scatter3d",
           "x": {
            "bdata": "2gQFQfZvnT8iSefOIN6gP/a2fx49v6I/JsHiB1x/pD9BlIrXmE+mP8vShIdKWag/7iP6mSyrqj9bCi1jGC+tP99Z9mkDs68/OXeQ+HECsT90p9ZhSgeyPwwlBSZp77I/09pTqXnPsz/LwCMRCcC0P4Y+gsgc07U/",
            "dtype": "f8"
           },
           "y": {
            "bdata": "z8t7UMLwLj+QGUH2p9hCP7JG0UBbJk0/cZthlDu8UT/x0Y+ho+NRPy4qvbt4O00/W2AfQxp/QD/a3rqYdFWUPgfuXvEoekC/DwHYsPE2Tb9g/e5XtOFRvygWk1+3ulG/AVDA9j8kTb8jifJfdddCv1jARK/+7i6/",
            "dtype": "f8"
           },
           "z": {
            "bdata": "DVqH9pAZWb8fqY9acEdxv6SiHRuCGX+/O5KT3AIAh7/31wU8GjeOv5CDEbvqMJK/3oMZrfVNlL/ddYBkvw+Vv7ycslbsTZS/CCmKO9swkr+3IbRd9zaOv4M11ODi/4a/IrG7hlAZf788tDjkUUdxv6FV+ahiGVm/",
            "dtype": "f8"
           }
          },
          {
           "name": "Fixed Nodes",
           "type": "scatter3d",
           "x": {
            "bdata": "fOkmMQisjD/e+X5qvHSTP/1+arx0k5g/CtejcD0Ktz9SuB6F61G4P5qZmZmZmbk/",
            "dtype": "f8"
           },
           "y": {
            "bdata": "AAAAAAAAAAAAAAAAAAAAAAAAAAAAAAAAAAAAAAAAAAAAAAAAAAAAAAAAAAAAAAAA",
            "dtype": "f8"
           },
           "z": {
            "bdata": "AAAAAAAAAAAAAAAAAAAAAAAAAAAAAAAAAAAAAAAAAAAAAAAAAAAAAAAAAAAAAAAA",
            "dtype": "f8"
           }
          },
          {
           "name": "Edges",
           "type": "scatter3d",
           "x": [
            0.014000000000000005,
            0.01900000000000001,
            null,
            0.01900000000000001,
            0.02400000000000001,
            null,
            0.02400000000000001,
            0.0287474133667772,
            null,
            0.0287474133667772,
            0.03294470334698675,
            null,
            0.03294470334698675,
            0.03661528584767197,
            null,
            0.03661528584767197,
            0.04003417583715167,
            null,
            0.04003417583715167,
            0.04357602721328436,
            null,
            0.04357602721328436,
            0.04755623726160748,
            null,
            0.04755623726160748,
            0.05208720569232371,
            null,
            0.05208720569232371,
            0.05699993334430494,
            null,
            0.05699993334430494,
            0.061912638363697196,
            null,
            0.061912638363697196,
            0.06644356077637505,
            null,
            0.06644356077637505,
            0.07042374504695009,
            null,
            0.07042374504695009,
            0.07396561792588247,
            null,
            0.07396561792588247,
            0.07738457092259958,
            null,
            0.07738457092259958,
            0.08105522793244117,
            null,
            0.08105522793244117,
            0.08525257010682638,
            null,
            0.08525257010682638,
            0.09,
            null,
            0.09,
            0.095,
            null,
            0.095,
            0.1,
            null
           ],
           "y": [
            0,
            0,
            null,
            0,
            0,
            null,
            0,
            0.00023605701448267547,
            null,
            0.00023605701448267547,
            0.0005751438261619047,
            null,
            0.0005751438261619047,
            0.000889582211707393,
            null,
            0.000889582211707393,
            0.0010824758369609412,
            null,
            0.0010824758369609412,
            0.0010918710670441113,
            null,
            0.0010918710670441113,
            0.000892099334558088,
            null,
            0.000892099334558088,
            0.0005034330590616519,
            null,
            0.0005034330590616519,
            3.029973860524064e-7,
            null,
            3.029973860524064e-7,
            -0.0005028438488276506,
            null,
            -0.0005028438488276506,
            -0.0008915596133079201,
            null,
            -0.0008915596133079201,
            -0.0010914097945116871,
            null,
            -0.0010914097945116871,
            -0.0010821142916922575,
            null,
            -0.0010821142916922575,
            -0.0008893310855477844,
            null,
            -0.0008893310855477844,
            -0.000575001060401346,
            null,
            -0.000575001060401346,
            -0.00023600443786042885,
            null,
            -0.00023600443786042885,
            0,
            null,
            0,
            0,
            null,
            0,
            0,
            null
           ],
           "z": [
            0,
            0,
            null,
            0,
            0,
            null,
            0,
            -0.0015319743780445344,
            null,
            -0.0015319743780445344,
            -0.004218520051816803,
            null,
            -0.004218520051816803,
            -0.00759268591523524,
            null,
            -0.00759268591523524,
            -0.011230490070780799,
            null,
            -0.011230490070780799,
            -0.014753537136794377,
            null,
            -0.014753537136794377,
            -0.017764728229284155,
            null,
            -0.017764728229284155,
            -0.01982864254967242,
            null,
            -0.01982864254967242,
            -0.020567884930747005,
            null,
            -0.020567884930747005,
            -0.019828503409965434,
            null,
            -0.019828503409965434,
            -0.017764497288717457,
            null,
            -0.017764497288717457,
            -0.01475327734671415,
            null,
            -0.01475327734671415,
            -0.011230251775965488,
            null,
            -0.011230251775965488,
            -0.0075925012167597245,
            null,
            -0.0075925012167597245,
            -0.004218406571038943,
            null,
            -0.004218406571038943,
            -0.0015319312550635472,
            null,
            -0.0015319312550635472,
            0,
            null,
            0,
            0,
            null,
            0,
            0,
            null
           ]
          },
          {
           "i": [],
           "j": [],
           "k": [],
           "name": "Faces",
           "type": "mesh3d",
           "x": {
            "bdata": "fOkmMQisjD/e+X5qvHSTP/1+arx0k5g/2gQFQfZvnT8iSefOIN6gP/a2fx49v6I/JsHiB1x/pD9BlIrXmE+mP8vShIdKWag/7iP6mSyrqj9bCi1jGC+tP99Z9mkDs68/OXeQ+HECsT90p9ZhSgeyPwwlBSZp77I/09pTqXnPsz/LwCMRCcC0P4Y+gsgc07U/CtejcD0Ktz9SuB6F61G4P5qZmZmZmbk/",
            "dtype": "f8"
           },
           "y": {
            "bdata": "AAAAAAAAAAAAAAAAAAAAAAAAAAAAAAAAz8t7UMLwLj+QGUH2p9hCP7JG0UBbJk0/cZthlDu8UT/x0Y+ho+NRPy4qvbt4O00/W2AfQxp/QD/a3rqYdFWUPgfuXvEoekC/DwHYsPE2Tb9g/e5XtOFRvygWk1+3ulG/AVDA9j8kTb8jifJfdddCv1jARK/+7i6/AAAAAAAAAAAAAAAAAAAAAAAAAAAAAAAA",
            "dtype": "f8"
           },
           "z": {
            "bdata": "AAAAAAAAAAAAAAAAAAAAAAAAAAAAAAAADVqH9pAZWb8fqY9acEdxv6SiHRuCGX+/O5KT3AIAh7/31wU8GjeOv5CDEbvqMJK/3oMZrfVNlL/ddYBkvw+Vv7ycslbsTZS/CCmKO9swkr+3IbRd9zaOv4M11ODi/4a/IrG7hlAZf788tDjkUUdxv6FV+ahiGVm/AAAAAAAAAAAAAAAAAAAAAAAAAAAAAAAA",
            "dtype": "f8"
           }
          }
         ],
         "layout": {
          "annotations": [
           {
            "showarrow": false,
            "text": "Time: 0.69s (Step: 70/100)",
            "x": 0.05,
            "xref": "paper",
            "y": 0.95,
            "yref": "paper"
           }
          ]
         },
         "name": "69"
        },
        {
         "data": [
          {
           "name": "Free Nodes",
           "type": "scatter3d",
           "x": {
            "bdata": "s6ianvpvnT8Hi8BGK96gP+680CVWv6I/GYwQKIV/pD9PPLEizE+mP9cj0Px6Wag/1DUQYEqrqj/IvqVMGC+tP/K4Hm/lsq8/HwSIm1kCsT8hXfOUMAeyP4cunnFU77I/V1TKC23Psz9bvlzIA8C0Pyjm260b07U/",
            "dtype": "f8"
           },
           "y": {
            "bdata": "DUrSxA15Lz+E7q6stCtDP3RXiLXhpk0/cNiwF3YKUj9EbMdOjDJSP5PZN3tbvE0/S9QeM8DHQD/ecPuxyY+TPubcvOr9wkC/U1MSIP23Tb9Mmg4XrTBSv2YSUG79CFK/yR+aGdWkTb/g0uPCiSpDv7LSpLtUdy+/",
            "dtype": "f8"
           },
           "z": {
            "bdata": "MEPqtSAWWb8dVF39ZkVxv8/5H2VyFn+/KQgBCSf+hr/q/hbmFTWOv1PDndvgL5K/Oo434uhMlL9/NF+OsQ6Vv7KMDBzfTJS/BuUrn9Avkr+2hLhT8TSOvxOS4nEF/oa/GcBbQD4Wf7/1HZnlRkVxv/nr6cvvFVm/",
            "dtype": "f8"
           }
          },
          {
           "name": "Fixed Nodes",
           "type": "scatter3d",
           "x": {
            "bdata": "fOkmMQisjD/e+X5qvHSTP/1+arx0k5g/CtejcD0Ktz9SuB6F61G4P5qZmZmZmbk/",
            "dtype": "f8"
           },
           "y": {
            "bdata": "AAAAAAAAAAAAAAAAAAAAAAAAAAAAAAAAAAAAAAAAAAAAAAAAAAAAAAAAAAAAAAAA",
            "dtype": "f8"
           },
           "z": {
            "bdata": "AAAAAAAAAAAAAAAAAAAAAAAAAAAAAAAAAAAAAAAAAAAAAAAAAAAAAAAAAAAAAAAA",
            "dtype": "f8"
           }
          },
          {
           "name": "Edges",
           "type": "scatter3d",
           "x": [
            0.014000000000000005,
            0.01900000000000001,
            null,
            0.01900000000000001,
            0.02400000000000001,
            null,
            0.02400000000000001,
            0.028747478418758642,
            null,
            0.028747478418758642,
            0.03294501532243115,
            null,
            0.03294501532243115,
            0.036616031757484055,
            null,
            0.036616031757484055,
            0.04003540147848401,
            null,
            0.04003540147848401,
            0.04357755588045419,
            null,
            0.04357755588045419,
            0.04755768142792476,
            null,
            0.04755768142792476,
            0.05208809301994291,
            null,
            0.05208809301994291,
            0.05699993072164272,
            null,
            0.05699993072164272,
            0.061911744894460954,
            null,
            0.061911744894460954,
            0.0664421086039657,
            null,
            0.0664421086039657,
            0.07042220722666005,
            null,
            0.07042220722666005,
            0.07396438382982683,
            null,
            0.07396438382982683,
            0.07738381898737266,
            null,
            0.07738381898737266,
            0.08105491296441285,
            null,
            0.08105491296441285,
            0.0852525042972948,
            null,
            0.0852525042972948,
            0.09,
            null,
            0.09,
            0.095,
            null,
            0.095,
            0.1,
            null
           ],
           "y": [
            0,
            0,
            null,
            0,
            0,
            null,
            0,
            0.00024011891438087442,
            null,
            0.00024011891438087442,
            0.0005850441169665409,
            null,
            0.0005850441169665409,
            0.0009049036116859214,
            null,
            0.0009049036116859214,
            0.001101126980541458,
            null,
            0.001101126980541458,
            0.0011106844132118413,
            null,
            0.0011106844132118413,
            0.0009074637113702259,
            null,
            0.0009074637113702259,
            0.0005120933985752833,
            null,
            0.0005120933985752833,
            2.914916183824365e-7,
            null,
            2.914916183824365e-7,
            -0.0005115260914640124,
            null,
            -0.0005115260914640124,
            -0.0009069429362563531,
            null,
            -0.0009069429362563531,
            -0.0011102381069833132,
            null,
            -0.0011102381069833132,
            -0.0011007761870597487,
            null,
            -0.0011007761870597487,
            -0.0009046593215353778,
            null,
            -0.0009046593215353778,
            -0.0005849049246352232,
            null,
            -0.0005849049246352232,
            -0.00024006757105045833,
            null,
            -0.00024006757105045833,
            0,
            null,
            0,
            0,
            null,
            0,
            0,
            null
           ],
           "z": [
            0,
            0,
            null,
            0,
            0,
            null,
            0,
            -0.0015311545791158558,
            null,
            -0.0015311545791158558,
            -0.004216577819382142,
            null,
            -0.004216577819382142,
            -0.007589766364616015,
            null,
            -0.007589766364616015,
            -0.01122694488742944,
            null,
            -0.01122694488742944,
            -0.014749690136226918,
            null,
            -0.014749690136226918,
            -0.017760766414940687,
            null,
            -0.017760766414940687,
            -0.019824637229147714,
            null,
            -0.019824637229147714,
            -0.020563864054385036,
            null,
            -0.020563864054385036,
            -0.01982449158380168,
            null,
            -0.01982449158380168,
            -0.017760524478011262,
            null,
            -0.017760524478011262,
            -0.01474941765542535,
            null,
            -0.01474941765542535,
            -0.011226694620128297,
            null,
            -0.011226694620128297,
            -0.007589572114497422,
            null,
            -0.007589572114497422,
            -0.004216458264245206,
            null,
            -0.004216458264245206,
            -0.001531109024340392,
            null,
            -0.001531109024340392,
            0,
            null,
            0,
            0,
            null,
            0,
            0,
            null
           ]
          },
          {
           "i": [],
           "j": [],
           "k": [],
           "name": "Faces",
           "type": "mesh3d",
           "x": {
            "bdata": "fOkmMQisjD/e+X5qvHSTP/1+arx0k5g/s6ianvpvnT8Hi8BGK96gP+680CVWv6I/GYwQKIV/pD9PPLEizE+mP9cj0Px6Wag/1DUQYEqrqj/IvqVMGC+tP/K4Hm/lsq8/HwSIm1kCsT8hXfOUMAeyP4cunnFU77I/V1TKC23Psz9bvlzIA8C0Pyjm260b07U/CtejcD0Ktz9SuB6F61G4P5qZmZmZmbk/",
            "dtype": "f8"
           },
           "y": {
            "bdata": "AAAAAAAAAAAAAAAAAAAAAAAAAAAAAAAADUrSxA15Lz+E7q6stCtDP3RXiLXhpk0/cNiwF3YKUj9EbMdOjDJSP5PZN3tbvE0/S9QeM8DHQD/ecPuxyY+TPubcvOr9wkC/U1MSIP23Tb9Mmg4XrTBSv2YSUG79CFK/yR+aGdWkTb/g0uPCiSpDv7LSpLtUdy+/AAAAAAAAAAAAAAAAAAAAAAAAAAAAAAAA",
            "dtype": "f8"
           },
           "z": {
            "bdata": "AAAAAAAAAAAAAAAAAAAAAAAAAAAAAAAAMEPqtSAWWb8dVF39ZkVxv8/5H2VyFn+/KQgBCSf+hr/q/hbmFTWOv1PDndvgL5K/Oo434uhMlL9/NF+OsQ6Vv7KMDBzfTJS/BuUrn9Avkr+2hLhT8TSOvxOS4nEF/oa/GcBbQD4Wf7/1HZnlRkVxv/nr6cvvFVm/AAAAAAAAAAAAAAAAAAAAAAAAAAAAAAAA",
            "dtype": "f8"
           }
          }
         ],
         "layout": {
          "annotations": [
           {
            "showarrow": false,
            "text": "Time: 0.70s (Step: 71/100)",
            "x": 0.05,
            "xref": "paper",
            "y": 0.95,
            "yref": "paper"
           }
          ]
         },
         "name": "70"
        },
        {
         "data": [
          {
           "name": "Free Nodes",
           "type": "scatter3d",
           "x": {
            "bdata": "fJT8Df9vnT/hDrroNd6gP0z0GpFvv6I/VKKq665/pD8PutE4AFCmP2n3LTGsWag/RFYqm2irqj8aCXU1GC+tP6RRv/3Gsq8/QdcA3kACsT9fm3xhFgeyPwwQfWo/77I/hXWGO2DPsz+V0yNq/r+0PwNWqI4a07U/",
            "dtype": "f8"
           },
           "y": {
            "bdata": "+yHk+4cAMD+BREqllH5DP+Y87b8iJ04/lPhFuoVYUj+HoUL0R4FSP6Smr+ztPE4/zxB+ci0QQT/siCDtDg+SPjwHED3HC0G/E5wKfOA4Tr+F34tviX9SvxioJzIlV1K/6/D1uDUlTr9ed5S5en1Dv2h4MvNu/y+/",
            "dtype": "f8"
           },
           "z": {
            "bdata": "pzkBp6ISWb/PPbJ4VUNxv8fd5XJWE3+/cmxWykP8hr+dvgiGCTOOv6bcL9nSLpK/gXKq59dLlL/N1kyAnw2Vv9ZoDKXNS5S/ZqWPycEukr/LFr4J4zKOv5X38GIg/Ia/soU5Zx8Tf79gPaKHM0Nxv9n76sRuElm/",
            "dtype": "f8"
           }
          },
          {
           "name": "Fixed Nodes",
           "type": "scatter3d",
           "x": {
            "bdata": "fOkmMQisjD/e+X5qvHSTP/1+arx0k5g/CtejcD0Ktz9SuB6F61G4P5qZmZmZmbk/",
            "dtype": "f8"
           },
           "y": {
            "bdata": "AAAAAAAAAAAAAAAAAAAAAAAAAAAAAAAAAAAAAAAAAAAAAAAAAAAAAAAAAAAAAAAA",
            "dtype": "f8"
           },
           "z": {
            "bdata": "AAAAAAAAAAAAAAAAAAAAAAAAAAAAAAAAAAAAAAAAAAAAAAAAAAAAAAAAAAAAAAAA",
            "dtype": "f8"
           }
          },
          {
           "name": "Edges",
           "type": "scatter3d",
           "x": [
            0.014000000000000005,
            0.01900000000000001,
            null,
            0.01900000000000001,
            0.02400000000000001,
            null,
            0.02400000000000001,
            0.028747544506718445,
            null,
            0.028747544506718445,
            0.03294533220198815,
            null,
            0.03294533220198815,
            0.03661678930573284,
            null,
            0.03661678930573284,
            0.04003664614476024,
            null,
            0.04003664614476024,
            0.043579108177130725,
            null,
            0.043579108177130725,
            0.04755914783798582,
            null,
            0.04755914783798582,
            0.05208899396999958,
            null,
            0.05208899396999958,
            0.05699992802193972,
            null,
            0.05699992802193972,
            0.06191083762647345,
            null,
            0.06191083762647345,
            0.06644063396455825,
            null,
            0.06644063396455825,
            0.07042064552352433,
            null,
            0.07042064552352433,
            0.07396313047235042,
            null,
            0.07396313047235042,
            0.07738305524113372,
            null,
            0.07738305524113372,
            0.08105459300334268,
            null,
            0.08105459300334268,
            0.08525243742800374,
            null,
            0.08525243742800374,
            0.09,
            null,
            0.09,
            0.095,
            null,
            0.095,
            0.1,
            null
           ],
           "y": [
            0,
            0,
            null,
            0,
            0,
            null,
            0,
            0.0002441722862305537,
            null,
            0.0002441722862305537,
            0.0005949235733898746,
            null,
            0.0005949235733898746,
            0.0009201926876389016,
            null,
            0.0009201926876389016,
            0.0011197381910217673,
            null,
            0.0011197381910217673,
            0.0011294558217206112,
            null,
            0.0011294558217206112,
            0.000922790693377713,
            null,
            0.000922790693377713,
            0.0005207273397762837,
            null,
            0.0005207273397762837,
            2.6909741024557944e-7,
            null,
            2.6909741024557944e-7,
            -0.0005202029079784741,
            null,
            -0.0005202029079784741,
            -0.0009223075977232729,
            null,
            -0.0009223075977232729,
            -0.001129039969041985,
            null,
            -0.001129039969041985,
            -0.0011194098702795915,
            null,
            -0.0011194098702795915,
            -0.000919963103953173,
            null,
            -0.000919963103953173,
            -0.0005947922938138552,
            null,
            -0.0005947922938138552,
            -0.00024412373895627286,
            null,
            -0.00024412373895627286,
            0,
            null,
            0,
            0,
            null,
            0,
            0,
            null
           ],
           "z": [
            0,
            0,
            null,
            0,
            0,
            null,
            0,
            -0.0015303219224907878,
            null,
            -0.0015303219224907878,
            -0.004214605210236268,
            null,
            -0.004214605210236268,
            -0.00758680123396211,
            null,
            -0.00758680123396211,
            -0.011223344433167724,
            null,
            -0.011223344433167724,
            -0.014745783236406235,
            null,
            -0.014745783236406235,
            -0.017756742960014414,
            null,
            -0.017756742960014414,
            -0.019820569529303448,
            null,
            -0.019820569529303448,
            -0.020559780317134724,
            null,
            -0.020559780317134724,
            -0.01982041664005226,
            null,
            -0.01982041664005226,
            -0.017756488730730345,
            null,
            -0.017756488730730345,
            -0.014745496496981222,
            null,
            -0.014745496496981222,
            -0.011223080653618026,
            null,
            -0.011223080653618026,
            -0.007586596173128001,
            null,
            -0.007586596173128001,
            -0.004214478767735258,
            null,
            -0.004214478767735258,
            -0.0015302736025402024,
            null,
            -0.0015302736025402024,
            0,
            null,
            0,
            0,
            null,
            0,
            0,
            null
           ]
          },
          {
           "i": [],
           "j": [],
           "k": [],
           "name": "Faces",
           "type": "mesh3d",
           "x": {
            "bdata": "fOkmMQisjD/e+X5qvHSTP/1+arx0k5g/fJT8Df9vnT/hDrroNd6gP0z0GpFvv6I/VKKq665/pD8PutE4AFCmP2n3LTGsWag/RFYqm2irqj8aCXU1GC+tP6RRv/3Gsq8/QdcA3kACsT9fm3xhFgeyPwwQfWo/77I/hXWGO2DPsz+V0yNq/r+0PwNWqI4a07U/CtejcD0Ktz9SuB6F61G4P5qZmZmZmbk/",
            "dtype": "f8"
           },
           "y": {
            "bdata": "AAAAAAAAAAAAAAAAAAAAAAAAAAAAAAAA+yHk+4cAMD+BREqllH5DP+Y87b8iJ04/lPhFuoVYUj+HoUL0R4FSP6Smr+ztPE4/zxB+ci0QQT/siCDtDg+SPjwHED3HC0G/E5wKfOA4Tr+F34tviX9SvxioJzIlV1K/6/D1uDUlTr9ed5S5en1Dv2h4MvNu/y+/AAAAAAAAAAAAAAAAAAAAAAAAAAAAAAAA",
            "dtype": "f8"
           },
           "z": {
            "bdata": "AAAAAAAAAAAAAAAAAAAAAAAAAAAAAAAApzkBp6ISWb/PPbJ4VUNxv8fd5XJWE3+/cmxWykP8hr+dvgiGCTOOv6bcL9nSLpK/gXKq59dLlL/N1kyAnw2Vv9ZoDKXNS5S/ZqWPycEukr/LFr4J4zKOv5X38GIg/Ia/soU5Zx8Tf79gPaKHM0Nxv9n76sRuElm/AAAAAAAAAAAAAAAAAAAAAAAAAAAAAAAA",
            "dtype": "f8"
           }
          }
         ],
         "layout": {
          "annotations": [
           {
            "showarrow": false,
            "text": "Time: 0.71s (Step: 72/100)",
            "x": 0.05,
            "xref": "paper",
            "y": 0.95,
            "yref": "paper"
           }
          ]
         },
         "name": "71"
        },
        {
         "data": [
          {
           "name": "Free Nodes",
           "type": "scatter3d",
           "x": {
            "bdata": "Wb0UjwNwnT9Bepa0QN6gP2kPwF+Jv6I/Xf6fUdl/pD9LSosYNVCmPz9ZSCPeWag/z9NzSoerqj+Fi54dGC+tP8iptBaosq8/kmyqwCcCsT+6oifI+wayP3PeLhEq77I/s+baOFPPsz+BpZn2+L+0PxSo7WoZ07U/",
            "dtype": "f8"
           },
           "y": {
            "bdata": "0wx9oGREMD8C5rcxSNFDPzhrjhsfp04/INBeJWumUj9igMKY189SP2qrV+wyvU4/qCAlpWVYQT8U67FjjOqPPvDPwVqAVEG/iDPGS5e5Tr87fAJeR85SvweTagUtpVK/wYTDc1+lTr9PZ7LcRtBDv1mD8ZelQzC/",
            "dtype": "f8"
           },
           "z": {
            "bdata": "IkPm2BYPWb9a2KvVO0Fxvz9nO1IuEH+/ZUgSKVn6hr81XH4l9TCOv66wMrnALZK/HpGXw8JKlL8KDS1BiQyVv6biJ/m3SpS/YKNzwq4tkr/WMRePzDCOv6+gHsIz+oa/Z7BfEvQPf79s/mvZF0Fxv9DO6KzfDlm/",
            "dtype": "f8"
           }
          },
          {
           "name": "Fixed Nodes",
           "type": "scatter3d",
           "x": {
            "bdata": "fOkmMQisjD/e+X5qvHSTP/1+arx0k5g/CtejcD0Ktz9SuB6F61G4P5qZmZmZmbk/",
            "dtype": "f8"
           },
           "y": {
            "bdata": "AAAAAAAAAAAAAAAAAAAAAAAAAAAAAAAAAAAAAAAAAAAAAAAAAAAAAAAAAAAAAAAA",
            "dtype": "f8"
           },
           "z": {
            "bdata": "AAAAAAAAAAAAAAAAAAAAAAAAAAAAAAAAAAAAAAAAAAAAAAAAAAAAAAAAAAAAAAAA",
            "dtype": "f8"
           }
          },
          {
           "name": "Edges",
           "type": "scatter3d",
           "x": [
            0.014000000000000005,
            0.01900000000000001,
            null,
            0.01900000000000001,
            0.02400000000000001,
            null,
            0.02400000000000001,
            0.02874761162564474,
            null,
            0.02874761162564474,
            0.03294565395775751,
            null,
            0.03294565395775751,
            0.0366175584204303,
            null,
            0.0366175584204303,
            0.04003790971182462,
            null,
            0.04003790971182462,
            0.043580683942896124,
            null,
            0.043580683942896124,
            0.047560636336287924,
            null,
            0.047560636336287924,
            0.0520899084457721,
            null,
            0.0520899084457721,
            0.056999925246848306,
            null,
            0.056999925246848306,
            0.06190991666001683,
            null,
            0.06190991666001683,
            0.06643913701775464,
            null,
            0.06643913701775464,
            0.07041906010239077,
            null,
            0.07041906010239077,
            0.07396185798176606,
            null,
            0.07396185798176606,
            0.07738227975905936,
            null,
            0.07738227975905936,
            0.08105426807892081,
            null,
            0.08105426807892081,
            0.08525236950450249,
            null,
            0.08525236950450249,
            0.09,
            null,
            0.09,
            0.095,
            null,
            0.095,
            0.1,
            null
           ],
           "y": [
            0,
            0,
            null,
            0,
            0,
            null,
            0,
            0.0002482171698725114,
            null,
            0.0002482171698725114,
            0.0006047823439409574,
            null,
            0.0006047823439409574,
            0.0009354497807295475,
            null,
            0.0009354497807295475,
            0.0011383100840989327,
            null,
            0.0011383100840989327,
            0.001148186248464377,
            null,
            0.001148186248464377,
            0.0009380816124438922,
            null,
            0.0009380816124438922,
            0.0005293365777925456,
            null,
            0.0005293365777925456,
            2.3779425526226617e-7,
            null,
            2.3779425526226617e-7,
            -0.0005288721781782062,
            null,
            -0.0005288721781782062,
            -0.0009376515150037882,
            null,
            -0.0009376515150037882,
            -0.0011478135057030453,
            null,
            -0.0011478135057030453,
            -0.0011380138072720218,
            null,
            -0.0011380138072720218,
            -0.0009352413249211975,
            null,
            -0.0009352413249211975,
            -0.0006046625143369763,
            null,
            -0.0006046625143369763,
            -0.00024817269144788084,
            null,
            -0.00024817269144788084,
            0,
            null,
            0,
            0,
            null,
            0,
            0,
            null
           ],
           "z": [
            0,
            0,
            null,
            0,
            0,
            null,
            0,
            -0.0015294764631088105,
            null,
            -0.0015294764631088105,
            -0.0042126023570202235,
            null,
            -0.0042126023570202235,
            -0.007583790724049965,
            null,
            -0.007583790724049965,
            -0.011219688955211813,
            null,
            -0.011219688955211813,
            -0.014741816717828463,
            null,
            -0.014741816717828463,
            -0.01775265817984522,
            null,
            -0.01775265817984522,
            -0.01981643980788405,
            null,
            -0.01981643980788405,
            -0.020555634120012413,
            null,
            -0.020555634120012413,
            -0.01981627901293117,
            null,
            -0.01981627901293117,
            -0.01775239049758015,
            null,
            -0.01775239049758015,
            -0.014741514317301457,
            null,
            -0.014741514317301457,
            -0.01121941028743864,
            null,
            -0.01121941028743864,
            -0.0075835737279526865,
            null,
            -0.0075835737279526865,
            -0.004212468301147614,
            null,
            -0.004212468301147614,
            -0.0015294250803323146,
            null,
            -0.0015294250803323146,
            0,
            null,
            0,
            0,
            null,
            0,
            0,
            null
           ]
          },
          {
           "i": [],
           "j": [],
           "k": [],
           "name": "Faces",
           "type": "mesh3d",
           "x": {
            "bdata": "fOkmMQisjD/e+X5qvHSTP/1+arx0k5g/Wb0UjwNwnT9Bepa0QN6gP2kPwF+Jv6I/Xf6fUdl/pD9LSosYNVCmPz9ZSCPeWag/z9NzSoerqj+Fi54dGC+tP8iptBaosq8/kmyqwCcCsT+6oifI+wayP3PeLhEq77I/s+baOFPPsz+BpZn2+L+0PxSo7WoZ07U/CtejcD0Ktz9SuB6F61G4P5qZmZmZmbk/",
            "dtype": "f8"
           },
           "y": {
            "bdata": "AAAAAAAAAAAAAAAAAAAAAAAAAAAAAAAA0wx9oGREMD8C5rcxSNFDPzhrjhsfp04/INBeJWumUj9igMKY189SP2qrV+wyvU4/qCAlpWVYQT8U67FjjOqPPvDPwVqAVEG/iDPGS5e5Tr87fAJeR85SvweTagUtpVK/wYTDc1+lTr9PZ7LcRtBDv1mD8ZelQzC/AAAAAAAAAAAAAAAAAAAAAAAAAAAAAAAA",
            "dtype": "f8"
           },
           "z": {
            "bdata": "AAAAAAAAAAAAAAAAAAAAAAAAAAAAAAAAIkPm2BYPWb9a2KvVO0Fxvz9nO1IuEH+/ZUgSKVn6hr81XH4l9TCOv66wMrnALZK/HpGXw8JKlL8KDS1BiQyVv6biJ/m3SpS/YKNzwq4tkr/WMRePzDCOv6+gHsIz+oa/Z7BfEvQPf79s/mvZF0Fxv9DO6KzfDlm/AAAAAAAAAAAAAAAAAAAAAAAAAAAAAAAA",
            "dtype": "f8"
           }
          }
         ],
         "layout": {
          "annotations": [
           {
            "showarrow": false,
            "text": "Time: 0.72s (Step: 73/100)",
            "x": 0.05,
            "xref": "paper",
            "y": 0.95,
            "yref": "paper"
           }
          ]
         },
         "name": "72"
        },
        {
         "data": [
          {
           "name": "Free Nodes",
           "type": "scatter3d",
           "x": {
            "bdata": "X2bNIQhwnT9TuxiqS96gP4PPIZGjv6I/KxLfWASApD8MCXzAalCmP/YryNEQWqg/LM4Xbaarqj+2pycFGC+tP3E437qIsq8/ffw2RA4CsT+MlazJ4AayP2MbQ2YU77I/vusbBEbPsz/EnN9t87+0P34nskIY07U/",
            "dtype": "f8"
           },
           "y": {
            "bdata": "4hAnHh2IMD+G0LjSzyNEP0ul0NjXJk8/32DrQCf0Uj/HejmVPB5TPyQ+lhsuPU8/697cSW2gQT9a2ZGR+NaKPgKU494jnUG/Me1DVxw6T78H5paQ5BxTv1OSZAcT81K/PIoumk8lT796T8OZ7CJEv+Wy7YZzhzC/",
            "dtype": "f8"
           },
           "z": {
            "bdata": "oOwEWX0LWb9+BWEcGj9xv7xuVQ/6DH+/xi+7LGf4hr90FyPN2C6Ov3FGr4CqLJK/w8D0e6lJlL+M6/TXbguVv/KeJiCeSZS/xGEZkpcskr954k30rS6Ov3eVvJ4/+Ia/uY3OWrwMf7/RDFPr8z5xv1GR5Z5CC1m/",
            "dtype": "f8"
           }
          },
          {
           "name": "Fixed Nodes",
           "type": "scatter3d",
           "x": {
            "bdata": "fOkmMQisjD/e+X5qvHSTP/1+arx0k5g/CtejcD0Ktz9SuB6F61G4P5qZmZmZmbk/",
            "dtype": "f8"
           },
           "y": {
            "bdata": "AAAAAAAAAAAAAAAAAAAAAAAAAAAAAAAAAAAAAAAAAAAAAAAAAAAAAAAAAAAAAAAA",
            "dtype": "f8"
           },
           "z": {
            "bdata": "AAAAAAAAAAAAAAAAAAAAAAAAAAAAAAAAAAAAAAAAAAAAAAAAAAAAAAAAAAAAAAAA",
            "dtype": "f8"
           }
          },
          {
           "name": "Edges",
           "type": "scatter3d",
           "x": [
            0.014000000000000005,
            0.01900000000000001,
            null,
            0.01900000000000001,
            0.02400000000000001,
            null,
            0.02400000000000001,
            0.028747679770594888,
            null,
            0.028747679770594888,
            0.03294598056196798,
            null,
            0.03294598056196798,
            0.03661833902961489,
            null,
            0.03661833902961489,
            0.040039192055278804,
            null,
            0.040039192055278804,
            0.04358228301681963,
            null,
            0.04358228301681963,
            0.047562146766800525,
            null,
            0.047562146766800525,
            0.05209083635045561,
            null,
            0.05209083635045561,
            0.056999922398815725,
            null,
            0.056999922398815725,
            0.061908982097166006,
            null,
            0.061908982097166006,
            0.06643761792564536,
            null,
            0.06643761792564536,
            0.07041745113072845,
            null,
            0.07041745113072845,
            0.0739605664885921,
            null,
            0.0739605664885921,
            0.07738149261778823,
            null,
            0.07738149261778823,
            0.08105393822153234,
            null,
            0.08105393822153234,
            0.08525230053251495,
            null,
            0.08525230053251495,
            0.09,
            null,
            0.09,
            0.095,
            null,
            0.095,
            0.1,
            null
           ],
           "y": [
            0,
            0,
            null,
            0,
            0,
            null,
            0,
            0.00025225363620175027,
            null,
            0.00025225363620175027,
            0.0006146206628217111,
            null,
            0.0006146206628217111,
            0.0009506753864389287,
            null,
            0.0009506753864389287,
            0.0011568435035567632,
            null,
            0.0011568435035567632,
            0.0011668769483532003,
            null,
            0.0011668769483532003,
            0.0009533381591370666,
            null,
            0.0009533381591370666,
            0.0005379232058890492,
            null,
            0.0005379232058890492,
            1.9997157421945867e-7,
            null,
            1.9997157421945867e-7,
            -0.0005375313901622161,
            null,
            -0.0005375313901622161,
            -0.0009529722579197151,
            null,
            -0.0009529722579197151,
            -0.0011665565565252016,
            null,
            -0.0011665565565252016,
            -0.0011565862492456571,
            null,
            -0.0011565862492456571,
            -0.0009504927332851308,
            null,
            -0.0009504927332851308,
            -0.0006145148541016742,
            null,
            -0.0006145148541016742,
            -0.00025221415028546377,
            null,
            -0.00025221415028546377,
            0,
            null,
            0,
            0,
            null,
            0,
            0,
            null
           ],
           "z": [
            0,
            0,
            null,
            0,
            0,
            null,
            0,
            -0.0015286182497920367,
            null,
            -0.0015286182497920367,
            -0.004210569377450011,
            null,
            -0.004210569377450011,
            -0.0075807350125064975,
            null,
            -0.0075807350125064975,
            -0.011215978672588178,
            null,
            -0.011215978672588178,
            -0.014737790832793009,
            null,
            -0.014737790832793009,
            -0.01774851236752401,
            null,
            -0.01774851236752401,
            -0.01981224841182506,
            null,
            -0.01981224841182506,
            -0.02055142586798868,
            null,
            -0.02055142586798868,
            -0.019812079155285774,
            null,
            -0.019812079155285774,
            -0.01774823025911744,
            null,
            -0.01774823025911744,
            -0.014737471597741735,
            null,
            -0.014737471597741735,
            -0.01121568396735982,
            null,
            -0.01121568396735982,
            -0.007580505142786569,
            null,
            -0.007580505142786569,
            -0.004210427102580642,
            null,
            -0.004210427102580642,
            -0.0015285635559730457,
            null,
            -0.0015285635559730457,
            0,
            null,
            0,
            0,
            null,
            0,
            0,
            null
           ]
          },
          {
           "i": [],
           "j": [],
           "k": [],
           "name": "Faces",
           "type": "mesh3d",
           "x": {
            "bdata": "fOkmMQisjD/e+X5qvHSTP/1+arx0k5g/X2bNIQhwnT9TuxiqS96gP4PPIZGjv6I/KxLfWASApD8MCXzAalCmP/YryNEQWqg/LM4Xbaarqj+2pycFGC+tP3E437qIsq8/ffw2RA4CsT+MlazJ4AayP2MbQ2YU77I/vusbBEbPsz/EnN9t87+0P34nskIY07U/CtejcD0Ktz9SuB6F61G4P5qZmZmZmbk/",
            "dtype": "f8"
           },
           "y": {
            "bdata": "AAAAAAAAAAAAAAAAAAAAAAAAAAAAAAAA4hAnHh2IMD+G0LjSzyNEP0ul0NjXJk8/32DrQCf0Uj/HejmVPB5TPyQ+lhsuPU8/697cSW2gQT9a2ZGR+NaKPgKU494jnUG/Me1DVxw6T78H5paQ5BxTv1OSZAcT81K/PIoumk8lT796T8OZ7CJEv+Wy7YZzhzC/AAAAAAAAAAAAAAAAAAAAAAAAAAAAAAAA",
            "dtype": "f8"
           },
           "z": {
            "bdata": "AAAAAAAAAAAAAAAAAAAAAAAAAAAAAAAAoOwEWX0LWb9+BWEcGj9xv7xuVQ/6DH+/xi+7LGf4hr90FyPN2C6Ov3FGr4CqLJK/w8D0e6lJlL+M6/TXbguVv/KeJiCeSZS/xGEZkpcskr954k30rS6Ov3eVvJ4/+Ia/uY3OWrwMf7/RDFPr8z5xv1GR5Z5CC1m/AAAAAAAAAAAAAAAAAAAAAAAAAAAAAAAA",
            "dtype": "f8"
           }
          }
         ],
         "layout": {
          "annotations": [
           {
            "showarrow": false,
            "text": "Time: 0.73s (Step: 74/100)",
            "x": 0.05,
            "xref": "paper",
            "y": 0.95,
            "yref": "paper"
           }
          ]
         },
         "name": "73"
        },
        {
         "data": [
          {
           "name": "Free Nodes",
           "type": "scatter3d",
           "x": {
            "bdata": "CQURxgxwnT8J3QPJVt6gP326oSS+v6I/E2tVADCApD8xk0AvoVCmP4HQVDtEWqg/I99AAsarqj8sGxfsFy+tP/HpIutosq8/XzJbafQBsT/4KsZmxQayP2twS2r+7rI/ujGfnTjPsz+uyhfQ7b+0P75I/BUX07U/",
            "dtype": "f8"
           },
           "y": {
            "bdata": "63uU17HLMD8ORZ8lLHZEP4adaTtOpk8/giysGrtBUz9s5gJ0eGxTP4C45ZHjvE8/+vHeYUnoQT9KalEs1T2FPpbVouWr5UG/S6qi9mm6T7+EWsOHXmtTv/+WQjXVQFO/J30rTwOlT7/bcrRFanVEv2nxIQMgyzC/",
            "dtype": "f8"
           },
           "z": {
            "bdata": "5f2RM9YHWb8eACtU8Dxxv0poQrW5CX+/XIEk3G32hr9Wku+EtCyOv04XaTSQK5K/BxGYFoxIlL8FaKpLUAqVv4lxESKASJS/o2coQXwrkr/BptxKhyyOv4k5BwlE9oa/kmUIW3gJf7+UE67Oxzxxv2WWfreXB1m/",
            "dtype": "f8"
           }
          },
          {
           "name": "Fixed Nodes",
           "type": "scatter3d",
           "x": {
            "bdata": "fOkmMQisjD/e+X5qvHSTP/1+arx0k5g/CtejcD0Ktz9SuB6F61G4P5qZmZmZmbk/",
            "dtype": "f8"
           },
           "y": {
            "bdata": "AAAAAAAAAAAAAAAAAAAAAAAAAAAAAAAAAAAAAAAAAAAAAAAAAAAAAAAAAAAAAAAA",
            "dtype": "f8"
           },
           "z": {
            "bdata": "AAAAAAAAAAAAAAAAAAAAAAAAAAAAAAAAAAAAAAAAAAAAAAAAAAAAAAAAAAAAAAAA",
            "dtype": "f8"
           }
          },
          {
           "name": "Edges",
           "type": "scatter3d",
           "x": [
            0.014000000000000005,
            0.01900000000000001,
            null,
            0.01900000000000001,
            0.02400000000000001,
            null,
            0.02400000000000001,
            0.02874774893667101,
            null,
            0.02874774893667101,
            0.03294631198689941,
            null,
            0.03294631198689941,
            0.03661913106121959,
            null,
            0.03661913106121959,
            0.040040493050318336,
            null,
            0.040040493050318336,
            0.04358390523728984,
            null,
            0.04358390523728984,
            0.047563678972808006,
            null,
            0.047563678972808006,
            0.05209177758700736,
            null,
            0.05209177758700736,
            0.056999919480907074,
            null,
            0.056999919480907074,
            0.06190803404156842,
            null,
            0.06190803404156842,
            0.06643607685254825,
            null,
            0.06643607685254825,
            0.07041581877835401,
            null,
            0.07041581877835401,
            0.07395925612530767,
            null,
            0.07395925612530767,
            0.0773806938952423,
            null,
            0.0773806938952423,
            0.08105360346216159,
            null,
            0.08105360346216159,
            0.08525223051791195,
            null,
            0.08525223051791195,
            0.09,
            null,
            0.09,
            0.095,
            null,
            0.095,
            0.1,
            null
           ],
           "y": [
            0,
            0,
            null,
            0,
            0,
            null,
            0,
            0.00025628177498221324,
            null,
            0.00025628177498221324,
            0.0006244388161979213,
            null,
            0.0006244388161979213,
            0.0009658700935916565,
            null,
            0.0009658700935916565,
            0.0011753394307472413,
            null,
            0.0011753394307472413,
            0.001185529356048677,
            null,
            0.001185529356048677,
            0.000968562238808493,
            null,
            0.000968562238808493,
            0.0005464895546008479,
            null,
            0.0005464895546008479,
            1.5826176117085393e-7,
            null,
            1.5826176117085393e-7,
            -0.0005461778012178394,
            null,
            -0.0005461778012178394,
            -0.0009682671927938117,
            null,
            -0.0009682671927938117,
            -0.0011852667949391613,
            null,
            -0.0011852667949391613,
            -0.0011751253232800683,
            null,
            -0.0011751253232800683,
            -0.0009657159956439108,
            null,
            -0.0009657159956439108,
            -0.0006243485362663297,
            null,
            -0.0006243485362663297,
            -0.0002562478213190751,
            null,
            -0.0002562478213190751,
            0,
            null,
            0,
            0,
            null,
            0,
            0,
            null
           ],
           "z": [
            0,
            0,
            null,
            0,
            0,
            null,
            0,
            -0.0015277473269462657,
            null,
            -0.0015277473269462657,
            -0.004208506378461178,
            null,
            -0.004208506378461178,
            -0.0075776342602243505,
            null,
            -0.0075776342602243505,
            -0.011212213783949813,
            null,
            -0.011212213783949813,
            -0.014733705813292957,
            null,
            -0.014733705813292957,
            -0.01774430580032709,
            null,
            -0.01774430580032709,
            -0.0198079956808366,
            null,
            -0.0198079956808366,
            -0.02054715596987224,
            null,
            -0.02054715596987224,
            -0.019807817534784476,
            null,
            -0.019807817534784476,
            -0.017744008519094866,
            null,
            -0.017744008519094866,
            -0.014733368846992946,
            null,
            -0.014733368846992946,
            -0.011211902165908299,
            null,
            -0.011211902165908299,
            -0.007577390803385058,
            null,
            -0.007577390803385058,
            -0.004208355424343408,
            null,
            -0.004208355424343408,
            -0.0015276891335615158,
            null,
            -0.0015276891335615158,
            0,
            null,
            0,
            0,
            null,
            0,
            0,
            null
           ]
          },
          {
           "i": [],
           "j": [],
           "k": [],
           "name": "Faces",
           "type": "mesh3d",
           "x": {
            "bdata": "fOkmMQisjD/e+X5qvHSTP/1+arx0k5g/CQURxgxwnT8J3QPJVt6gP326oSS+v6I/E2tVADCApD8xk0AvoVCmP4HQVDtEWqg/I99AAsarqj8sGxfsFy+tP/HpIutosq8/XzJbafQBsT/4KsZmxQayP2twS2r+7rI/ujGfnTjPsz+uyhfQ7b+0P75I/BUX07U/CtejcD0Ktz9SuB6F61G4P5qZmZmZmbk/",
            "dtype": "f8"
           },
           "y": {
            "bdata": "AAAAAAAAAAAAAAAAAAAAAAAAAAAAAAAA63uU17HLMD8ORZ8lLHZEP4adaTtOpk8/giysGrtBUz9s5gJ0eGxTP4C45ZHjvE8/+vHeYUnoQT9KalEs1T2FPpbVouWr5UG/S6qi9mm6T7+EWsOHXmtTv/+WQjXVQFO/J30rTwOlT7/bcrRFanVEv2nxIQMgyzC/AAAAAAAAAAAAAAAAAAAAAAAAAAAAAAAA",
            "dtype": "f8"
           },
           "z": {
            "bdata": "AAAAAAAAAAAAAAAAAAAAAAAAAAAAAAAA5f2RM9YHWb8eACtU8Dxxv0poQrW5CX+/XIEk3G32hr9Wku+EtCyOv04XaTSQK5K/BxGYFoxIlL8FaKpLUAqVv4lxESKASJS/o2coQXwrkr/BptxKhyyOv4k5BwlE9oa/kmUIW3gJf7+UE67Oxzxxv2WWfreXB1m/AAAAAAAAAAAAAAAAAAAAAAAAAAAAAAAA",
            "dtype": "f8"
           }
          }
         ],
         "layout": {
          "annotations": [
           {
            "showarrow": false,
            "text": "Time: 0.74s (Step: 75/100)",
            "x": 0.05,
            "xref": "paper",
            "y": 0.95,
            "yref": "paper"
           }
          ]
         },
         "name": "74"
        },
        {
         "data": [
          {
           "name": "Free Nodes",
           "type": "scatter3d",
           "x": {
            "bdata": "NiDKexFwnT8j0hoRYt6gPxbAoBnZv6I/AUDvRlyApD+0kHNj2FCmP/23k154Wqg/hbAYCearqj/kiXTSFy+tP8OQZqhIsq8/FNjNMNoBsT8HVjGgqQayPxZf2x3o7rI/TpS7BSvPsz+ZyWQd6L+0P4Cg0uQV07U/",
            "dtype": "f8"
           },
           "y": {
            "bdata": "7q56NiMPMT9/CkrRXchEP+74/MvBElA/o9OmzCePUz9zzDfPjLpTPzV8xsUrHlA/WkP5Ff8vQj/UOg6zEvh+PmS9KWcSLkK/o/K3MT0dUL9qYwe4srlTvyZ4ooNxjlO/0G5y1TsSUL9kIOQvvsdEv/UNZMWpDjG/",
            "dtype": "f8"
           },
           "z": {
            "bdata": "bQAWdCEEWb/QvPmDvjpxvyj9bE5tBn+/r/a9PW30hr97JHpUiCqOv+7S/thxKpK/PRFKmWpHlL/F0mOjLQmVv8kMHwdeR5S/HnyM2Fwqkr/bM9ykWCqOv5EA1RFB9Ia/XAmMLigGf79zfXeVkzpxvxW8XhTfA1m/",
            "dtype": "f8"
           }
          },
          {
           "name": "Fixed Nodes",
           "type": "scatter3d",
           "x": {
            "bdata": "fOkmMQisjD/e+X5qvHSTP/1+arx0k5g/CtejcD0Ktz9SuB6F61G4P5qZmZmZmbk/",
            "dtype": "f8"
           },
           "y": {
            "bdata": "AAAAAAAAAAAAAAAAAAAAAAAAAAAAAAAAAAAAAAAAAAAAAAAAAAAAAAAAAAAAAAAA",
            "dtype": "f8"
           },
           "z": {
            "bdata": "AAAAAAAAAAAAAAAAAAAAAAAAAAAAAAAAAAAAAAAAAAAAAAAAAAAAAAAAAAAAAAAA",
            "dtype": "f8"
           }
          },
          {
           "name": "Edges",
           "type": "scatter3d",
           "x": [
            0.014000000000000005,
            0.01900000000000001,
            null,
            0.01900000000000001,
            0.02400000000000001,
            null,
            0.02400000000000001,
            0.02874781911899068,
            null,
            0.02874781911899068,
            0.032946648204788674,
            null,
            0.032946648204788674,
            0.036619934442910715,
            null,
            0.036619934442910715,
            0.040041812571530506,
            null,
            0.040041812571530506,
            0.04358555044180559,
            null,
            0.04358555044180559,
            0.047565232796713965,
            null,
            0.047565232796713965,
            0.052092732057958314,
            null,
            0.052092732057958314,
            0.056999916496596886,
            null,
            0.056999916496596886,
            0.06190707259818986,
            null,
            0.06190707259818986,
            0.06643451396470851,
            null,
            0.06643451396470851,
            0.0704141632171159,
            null,
            0.0704141632171159,
            0.07395792702606871,
            null,
            0.07395792702606871,
            0.07737988367041845,
            null,
            0.07737988367041845,
            0.08105326383227975,
            null,
            0.08105326383227975,
            0.08525215946667863,
            null,
            0.08525215946667863,
            0.09,
            null,
            0.09,
            0.095,
            null,
            0.095,
            0.1,
            null
           ],
           "y": [
            0,
            0,
            null,
            0,
            0,
            null,
            0,
            0.00026030168235523135,
            null,
            0.00026030168235523135,
            0.0006342371076047542,
            null,
            0.0006342371076047542,
            0.0009810345217853805,
            null,
            0.0009810345217853805,
            0.0011937988916603602,
            null,
            0.0011937988916603602,
            0.001204144963477896,
            null,
            0.001204144963477896,
            0.0009837558237462244,
            null,
            0.0009837558237462244,
            0.0005550380264570485,
            null,
            0.0005550380264570485,
            1.1536864687035856e-7,
            null,
            1.1536864687035856e-7,
            -0.0005548086031249952,
            null,
            -0.0005548086031249952,
            -0.0009835336303460139,
            null,
            -0.0009835336303460139,
            -0.0012039418507951657,
            null,
            -0.0012039418507951657,
            -0.0011936291253174052,
            null,
            -0.0011936291253174052,
            -0.0009809097589714051,
            null,
            -0.0009809097589714051,
            -0.0006341627738786324,
            null,
            -0.0006341627738786324,
            -0.0002602734069940543,
            null,
            -0.0002602734069940543,
            0,
            null,
            0,
            0,
            null,
            0,
            0,
            null
           ],
           "z": [
            0,
            0,
            null,
            0,
            0,
            null,
            0,
            -0.0015268637365295726,
            null,
            -0.0015268637365295726,
            -0.004206413461005101,
            null,
            -0.004206413461005101,
            -0.007574488618785659,
            null,
            -0.007574488618785659,
            -0.011208394476621334,
            null,
            -0.011208394476621334,
            -0.01472956188014706,
            null,
            -0.01472956188014706,
            -0.01774003874716617,
            null,
            -0.01774003874716617,
            -0.019803681951559005,
            null,
            -0.019803681951559005,
            -0.020542824838190272,
            null,
            -0.020542824838190272,
            -0.019803494629525163,
            null,
            -0.019803494629525163,
            -0.017739725796783394,
            null,
            -0.017739725796783394,
            -0.014729206591732982,
            null,
            -0.014729206591732982,
            -0.011208065373125716,
            null,
            -0.011208065373125716,
            -0.007574231109858633,
            null,
            -0.007574231109858633,
            -0.004206253528053028,
            null,
            -0.004206253528053028,
            -0.001526801921027281,
            null,
            -0.001526801921027281,
            0,
            null,
            0,
            0,
            null,
            0,
            0,
            null
           ]
          },
          {
           "i": [],
           "j": [],
           "k": [],
           "name": "Faces",
           "type": "mesh3d",
           "x": {
            "bdata": "fOkmMQisjD/e+X5qvHSTP/1+arx0k5g/NiDKexFwnT8j0hoRYt6gPxbAoBnZv6I/AUDvRlyApD+0kHNj2FCmP/23k154Wqg/hbAYCearqj/kiXTSFy+tP8OQZqhIsq8/FNjNMNoBsT8HVjGgqQayPxZf2x3o7rI/TpS7BSvPsz+ZyWQd6L+0P4Cg0uQV07U/CtejcD0Ktz9SuB6F61G4P5qZmZmZmbk/",
            "dtype": "f8"
           },
           "y": {
            "bdata": "AAAAAAAAAAAAAAAAAAAAAAAAAAAAAAAA7q56NiMPMT9/CkrRXchEP+74/MvBElA/o9OmzCePUz9zzDfPjLpTPzV8xsUrHlA/WkP5Ff8vQj/UOg6zEvh+PmS9KWcSLkK/o/K3MT0dUL9qYwe4srlTvyZ4ooNxjlO/0G5y1TsSUL9kIOQvvsdEv/UNZMWpDjG/AAAAAAAAAAAAAAAAAAAAAAAAAAAAAAAA",
            "dtype": "f8"
           },
           "z": {
            "bdata": "AAAAAAAAAAAAAAAAAAAAAAAAAAAAAAAAbQAWdCEEWb/QvPmDvjpxvyj9bE5tBn+/r/a9PW30hr97JHpUiCqOv+7S/thxKpK/PRFKmWpHlL/F0mOjLQmVv8kMHwdeR5S/HnyM2Fwqkr/bM9ykWCqOv5EA1RFB9Ia/XAmMLigGf79zfXeVkzpxvxW8XhTfA1m/AAAAAAAAAAAAAAAAAAAAAAAAAAAAAAAA",
            "dtype": "f8"
           }
          }
         ],
         "layout": {
          "annotations": [
           {
            "showarrow": false,
            "text": "Time: 0.75s (Step: 76/100)",
            "x": 0.05,
            "xref": "paper",
            "y": 0.95,
            "yref": "paper"
           }
          ]
         },
         "name": "75"
        },
        {
         "data": [
          {
           "name": "Free Nodes",
           "type": "scatter3d",
           "x": {
            "bdata": "ICzjQhZwnT8BOyCCbd6gP7vVfm/0v6I/UvOWK4mApD+8Ma1bEFGmP0rpJzqtWqg/lofHgAasqj9G/0e4Fy+tP9pLk/Mnsq8/O3tHm78BsT8I5qx2jQayP6Pqh4HR7rI/Nt7IPB3Psz+qmulV4r+0P7bZO68U07U/",
            "dtype": "f8"
           },
           "y": {
            "bdata": "7RNXnnFSMT9j8s9zZRpFPxfWcJk8UlA/gWuBZG7cUz/s0TAwewhUP6vdlA3HXVA/6jrVXpN3Qj/0Kbqof9ZzPt21W49RdkK/JxOSAyRdUL+eHWqq3gdUv3LMO/fl21O/MdP27dRRUL/ivXq05hlFvz9QCpAPUjG/",
            "dtype": "f8"
           },
           "z": {
            "bdata": "hjUBJl8AWb/TCK6yhDhxv+uIJ+UUA3+/wJ3oV2Xyhr8OpkxDVCiOv5deDXNPKZK/elfZCUVGlL8KSkfmBgiVv0Zln9c3RpS/vptRYTkpkr8ksasUIiiOv7GpP8o28oa/rWpG8csCf78Qa/FRVzhxvyZPp9MYAFm/",
            "dtype": "f8"
           }
          },
          {
           "name": "Fixed Nodes",
           "type": "scatter3d",
           "x": {
            "bdata": "fOkmMQisjD/e+X5qvHSTP/1+arx0k5g/CtejcD0Ktz9SuB6F61G4P5qZmZmZmbk/",
            "dtype": "f8"
           },
           "y": {
            "bdata": "AAAAAAAAAAAAAAAAAAAAAAAAAAAAAAAAAAAAAAAAAAAAAAAAAAAAAAAAAAAAAAAA",
            "dtype": "f8"
           },
           "z": {
            "bdata": "AAAAAAAAAAAAAAAAAAAAAAAAAAAAAAAAAAAAAAAAAAAAAAAAAAAAAAAAAAAAAAAA",
            "dtype": "f8"
           }
          },
          {
           "name": "Edges",
           "type": "scatter3d",
           "x": [
            0.014000000000000005,
            0.01900000000000001,
            null,
            0.01900000000000001,
            0.02400000000000001,
            null,
            0.02400000000000001,
            0.0287478903126549,
            null,
            0.0287478903126549,
            0.032946989187726324,
            null,
            0.032946989187726324,
            0.0366207491019099,
            null,
            0.0366207491019099,
            0.04004315049267028,
            null,
            0.04004315049267028,
            0.04358721846674338,
            null,
            0.04358721846674338,
            0.04756680807982379,
            null,
            0.04756680807982379,
            0.05209369966520609,
            null,
            0.05209369966520609,
            0.0569999134495434,
            null,
            0.0569999134495434,
            0.061906097873041424,
            null,
            0.061906097873041424,
            0.06643292942997629,
            null,
            0.06643292942997629,
            0.0704124846205546,
            null,
            0.0704124846205546,
            0.07395657932640147,
            null,
            0.07395657932640147,
            0.077379062023163,
            null,
            0.077379062023163,
            0.08105291936372319,
            null,
            0.08105291936372319,
            0.0852520873848793,
            null,
            0.0852520873848793,
            0.09,
            null,
            0.09,
            0.095,
            null,
            0.095,
            0.1,
            null
           ],
           "y": [
            0,
            0,
            null,
            0,
            0,
            null,
            0,
            0.0002643134488063404,
            null,
            0.0002643134488063404,
            0.0006440158246046708,
            null,
            0.0006440158246046708,
            0.0009961692610550626,
            null,
            0.0009961692610550626,
            0.0012122228672726,
            null,
            0.0012122228672726,
            0.001222725201626247,
            null,
            0.001222725201626247,
            0.0009989208104580298,
            null,
            0.0009989208104580298,
            0.0005635709364158724,
            null,
            0.0005635709364158724,
            7.390188210880725e-8,
            null,
            7.390188210880725e-8,
            -0.0005634210817483904,
            null,
            -0.0005634210817483904,
            -0.0009987689684589158,
            null,
            -0.0009987689684589158,
            -0.0012225794286296675,
            null,
            -0.0012225794286296675,
            -0.001212095809873384,
            null,
            -0.001212095809873384,
            -0.000996072711001616,
            null,
            -0.000996072711001616,
            -0.0006439568032500754,
            null,
            -0.0006439568032500754,
            -0.00026429061839761467,
            null,
            -0.00026429061839761467,
            0,
            null,
            0,
            0,
            null,
            0,
            0,
            null
           ],
           "z": [
            0,
            0,
            null,
            0,
            0,
            null,
            0,
            -0.0015259675201549651,
            null,
            -0.0015259675201549651,
            -0.004204290725171772,
            null,
            -0.004204290725171772,
            -0.0075712982383910705,
            null,
            -0.0075712982383910705,
            -0.011204520936259565,
            null,
            -0.011204520936259565,
            -0.014725359252753225,
            null,
            -0.014725359252753225,
            -0.017735711476545814,
            null,
            -0.017735711476545814,
            -0.019799307562002856,
            null,
            -0.019799307562002856,
            -0.020538432889063464,
            null,
            -0.020538432889063464,
            -0.01979911092334887,
            null,
            -0.01979911092334887,
            -0.017735382618777377,
            null,
            -0.017735382618777377,
            -0.01472498536664852,
            null,
            -0.01472498536664852,
            -0.01120417408670424,
            null,
            -0.01120417408670424,
            -0.007571026468577696,
            null,
            -0.007571026468577696,
            -0.004204121679402886,
            null,
            -0.004204121679402886,
            -0.0015259020279829254,
            null,
            -0.0015259020279829254,
            0,
            null,
            0,
            0,
            null,
            0,
            0,
            null
           ]
          },
          {
           "i": [],
           "j": [],
           "k": [],
           "name": "Faces",
           "type": "mesh3d",
           "x": {
            "bdata": "fOkmMQisjD/e+X5qvHSTP/1+arx0k5g/ICzjQhZwnT8BOyCCbd6gP7vVfm/0v6I/UvOWK4mApD+8Ma1bEFGmP0rpJzqtWqg/lofHgAasqj9G/0e4Fy+tP9pLk/Mnsq8/O3tHm78BsT8I5qx2jQayP6Pqh4HR7rI/Nt7IPB3Psz+qmulV4r+0P7bZO68U07U/CtejcD0Ktz9SuB6F61G4P5qZmZmZmbk/",
            "dtype": "f8"
           },
           "y": {
            "bdata": "AAAAAAAAAAAAAAAAAAAAAAAAAAAAAAAA7RNXnnFSMT9j8s9zZRpFPxfWcJk8UlA/gWuBZG7cUz/s0TAwewhUP6vdlA3HXVA/6jrVXpN3Qj/0Kbqof9ZzPt21W49RdkK/JxOSAyRdUL+eHWqq3gdUv3LMO/fl21O/MdP27dRRUL/ivXq05hlFvz9QCpAPUjG/AAAAAAAAAAAAAAAAAAAAAAAAAAAAAAAA",
            "dtype": "f8"
           },
           "z": {
            "bdata": "AAAAAAAAAAAAAAAAAAAAAAAAAAAAAAAAhjUBJl8AWb/TCK6yhDhxv+uIJ+UUA3+/wJ3oV2Xyhr8OpkxDVCiOv5deDXNPKZK/elfZCUVGlL8KSkfmBgiVv0Zln9c3RpS/vptRYTkpkr8ksasUIiiOv7GpP8o28oa/rWpG8csCf78Qa/FRVzhxvyZPp9MYAFm/AAAAAAAAAAAAAAAAAAAAAAAAAAAAAAAA",
            "dtype": "f8"
           }
          }
         ],
         "layout": {
          "annotations": [
           {
            "showarrow": false,
            "text": "Time: 0.76s (Step: 77/100)",
            "x": 0.05,
            "xref": "paper",
            "y": 0.95,
            "yref": "paper"
           }
          ]
         },
         "name": "76"
        },
        {
         "data": [
          {
           "name": "Free Nodes",
           "type": "scatter3d",
           "x": {
            "bdata": "smVGGxtwnT9uKtYbed6gP3iQmiUQwKI/NZI0rbaApD8aqYIWSVGmP2+EscziWqg/1s5zaCesqj+sbZmdFy+tPyzrk80Gsq8/UBGCqaQBsT9iJfnqcAayP0hA55W67rI/uIgfQw/Psz/6gsl53L+0P3erPnUT07U/",
            "dtype": "f8"
           },
           "y": {
            "bdata": "mbh3YJ2VMT+xWumRQ2xFP3nEGxGYkVA/OmMvzY8pVD8mvRPyRFZUP6Q1SHFFnVA/98RutQq/Qj/ARBYe+HJjPlEjYg1kvkK/3O0k4eacUL9IyfAZ4FVUv/8YN7swKVS/cWaookuRUL/TtAVN4mtFvzaI5jpQlTG/",
            "dtype": "f8"
           },
           "z": {
            "bdata": "SU0/VY/8WL9GgnPnQjZxv4NaN4Sw/36/4q1LMVbwhr8RFDpZGCaOvynDUgcpKJK/2votbhtFlL/1Joob3AaVv6oV55sNRZS/ZfN/5BEokr9QBZms4yWOv5OPTUMl8Ia/b1cEv2P/fr8Nw0kWEzZxv+8aWRNF/Fi/",
            "dtype": "f8"
           }
          },
          {
           "name": "Fixed Nodes",
           "type": "scatter3d",
           "x": {
            "bdata": "fOkmMQisjD/e+X5qvHSTP/1+arx0k5g/CtejcD0Ktz9SuB6F61G4P5qZmZmZmbk/",
            "dtype": "f8"
           },
           "y": {
            "bdata": "AAAAAAAAAAAAAAAAAAAAAAAAAAAAAAAAAAAAAAAAAAAAAAAAAAAAAAAAAAAAAAAA",
            "dtype": "f8"
           },
           "z": {
            "bdata": "AAAAAAAAAAAAAAAAAAAAAAAAAAAAAAAAAAAAAAAAAAAAAAAAAAAAAAAAAAAAAAAA",
            "dtype": "f8"
           }
          },
          {
           "name": "Edges",
           "type": "scatter3d",
           "x": [
            0.014000000000000005,
            0.01900000000000001,
            null,
            0.01900000000000001,
            0.02400000000000001,
            null,
            0.02400000000000001,
            0.02874796251271556,
            null,
            0.02874796251271556,
            0.032947334907551404,
            null,
            0.032947334907551404,
            0.03662157496481283,
            null,
            0.03662157496481283,
            0.040044506686431815,
            null,
            0.040044506686431815,
            0.04358890914712017,
            null,
            0.04358890914712017,
            0.0475684046621233,
            null,
            0.0475684046621233,
            0.05209468030980495,
            null,
            0.05209468030980495,
            0.056999910343360355,
            null,
            0.056999910343360355,
            0.06190510997290341,
            null,
            0.06190510997290341,
            0.06643132341748026,
            null,
            0.06643132341748026,
            0.07041078316355745,
            null,
            0.07041078316355745,
            0.07395521316289078,
            null,
            0.07395521316289078,
            0.07737822903394231,
            null,
            0.07737822903394231,
            0.08105257008856973,
            null,
            0.08105257008856973,
            0.08525201427862138,
            null,
            0.08525201427862138,
            0.09,
            null,
            0.09,
            0.095,
            null,
            0.095,
            0.1,
            null
           ],
           "y": [
            0,
            0,
            null,
            0,
            0,
            null,
            0,
            0.00026831714828191297,
            null,
            0.00026831714828191297,
            0.0006537752086142793,
            null,
            0.0006537752086142793,
            0.0010112748172413073,
            null,
            0.0010112748172413073,
            0.0012306122123304079,
            null,
            0.0012306122123304079,
            0.0012412713334091856,
            null,
            0.0012412713334091856,
            0.0010140588902943582,
            null,
            0.0010140588902943582,
            0.0005720903671912182,
            null,
            0.0005720903671912182,
            3.6226768927670354e-8,
            null,
            3.6226768927670354e-8,
            -0.0005720127617375536,
            null,
            -0.0005720127617375536,
            -0.0010139708216020315,
            null,
            -0.0010139708216020315,
            -0.0012411774148515953,
            null,
            -0.0012411774148515953,
            -0.001230523671311767,
            null,
            -0.001230523671311767,
            -0.0010112036349084997,
            null,
            -0.0010112036349084997,
            -0.0006537299141605952,
            null,
            -0.0006537299141605952,
            -0.00026829918615523267,
            null,
            -0.00026829918615523267,
            0,
            null,
            0,
            0,
            null,
            0,
            0,
            null
           ],
           "z": [
            0,
            0,
            null,
            0,
            0,
            null,
            0,
            -0.0015250587211895364,
            null,
            -0.0015250587211895364,
            -0.004202138275303973,
            null,
            -0.004202138275303973,
            -0.007568063275775419,
            null,
            -0.007568063275775419,
            -0.01120059335649776,
            null,
            -0.01120059335649776,
            -0.01472109815882486,
            null,
            -0.01472109815882486,
            -0.017731324264505553,
            null,
            -0.017731324264505553,
            -0.019794872855977676,
            null,
            -0.019794872855977676,
            -0.02053398054207541,
            null,
            -0.02053398054207541,
            -0.019794666901153647,
            null,
            -0.019794666901153647,
            -0.017730979510804618,
            null,
            -0.017730979510804618,
            -0.014720705704464848,
            null,
            -0.014720705704464848,
            -0.011200228802131373,
            null,
            -0.011200228802131373,
            -0.007567777284085738,
            null,
            -0.007567777284085738,
            -0.004201960142936623,
            null,
            -0.004201960142936623,
            -0.0015249895635791007,
            null,
            -0.0015249895635791007,
            0,
            null,
            0,
            0,
            null,
            0,
            0,
            null
           ]
          },
          {
           "i": [],
           "j": [],
           "k": [],
           "name": "Faces",
           "type": "mesh3d",
           "x": {
            "bdata": "fOkmMQisjD/e+X5qvHSTP/1+arx0k5g/smVGGxtwnT9uKtYbed6gP3iQmiUQwKI/NZI0rbaApD8aqYIWSVGmP2+EscziWqg/1s5zaCesqj+sbZmdFy+tPyzrk80Gsq8/UBGCqaQBsT9iJfnqcAayP0hA55W67rI/uIgfQw/Psz/6gsl53L+0P3erPnUT07U/CtejcD0Ktz9SuB6F61G4P5qZmZmZmbk/",
            "dtype": "f8"
           },
           "y": {
            "bdata": "AAAAAAAAAAAAAAAAAAAAAAAAAAAAAAAAmbh3YJ2VMT+xWumRQ2xFP3nEGxGYkVA/OmMvzY8pVD8mvRPyRFZUP6Q1SHFFnVA/98RutQq/Qj/ARBYe+HJjPlEjYg1kvkK/3O0k4eacUL9IyfAZ4FVUv/8YN7swKVS/cWaookuRUL/TtAVN4mtFvzaI5jpQlTG/AAAAAAAAAAAAAAAAAAAAAAAAAAAAAAAA",
            "dtype": "f8"
           },
           "z": {
            "bdata": "AAAAAAAAAAAAAAAAAAAAAAAAAAAAAAAASU0/VY/8WL9GgnPnQjZxv4NaN4Sw/36/4q1LMVbwhr8RFDpZGCaOvynDUgcpKJK/2votbhtFlL/1Joob3AaVv6oV55sNRZS/ZfN/5BEokr9QBZms4yWOv5OPTUMl8Ia/b1cEv2P/fr8Nw0kWEzZxv+8aWRNF/Fi/AAAAAAAAAAAAAAAAAAAAAAAAAAAAAAAA",
            "dtype": "f8"
           }
          }
         ],
         "layout": {
          "annotations": [
           {
            "showarrow": false,
            "text": "Time: 0.77s (Step: 78/100)",
            "x": 0.05,
            "xref": "paper",
            "y": 0.95,
            "yref": "paper"
           }
          ]
         },
         "name": "77"
        },
        {
         "data": [
          {
           "name": "Free Nodes",
           "type": "scatter3d",
           "x": {
            "bdata": "0a/dBCBwnT+F7f3dhN6gP1/EUDsswKI/LlutyuSApD+QroWSglGmP5ZNzRQZW6g/wqZBv0isqj+RNHCCFy+tPyNbVDflsa8/WZ84XIkBsT8kfNf9UwayP9hikFuj7rI/n30YGQHPsz896ieJ1r+0P17P4TYS07U/",
            "dtype": "f8"
           },
           "y": {
            "bdata": "sS/rsabYMT+ypvqI+L1FP/EfP5rU0FA/Z9EhvIx2VD+qMQAp66NUP508aGuo3FA/TKf9z2gGQz/A5B/mOKEyPtm2xlZFBkO/Er8/lIPcUL9YC3YMtaNUvz5/ATRQdlS/F0rxy57QUL85SnGer71Fv2+9Wb1q2DG/",
            "dtype": "f8"
           },
           "z": {
            "bdata": "uobBDrL4WL/LuBQq+TNxv/fqVjdA/H6/g9oj0T/uhr+voq6e1COOvzTSzpr+JpK/5MBbzO1DlL8uZXBKrQWVv/QEPFzfQ5S/Lxr6auYmkr/ro45+nSOOv2xsoI0M7oa/iyztsu/7fr9VDkT0xjNxv7r+xvBj+Fi/",
            "dtype": "f8"
           }
          },
          {
           "name": "Fixed Nodes",
           "type": "scatter3d",
           "x": {
            "bdata": "fOkmMQisjD/e+X5qvHSTP/1+arx0k5g/CtejcD0Ktz9SuB6F61G4P5qZmZmZmbk/",
            "dtype": "f8"
           },
           "y": {
            "bdata": "AAAAAAAAAAAAAAAAAAAAAAAAAAAAAAAAAAAAAAAAAAAAAAAAAAAAAAAAAAAAAAAA",
            "dtype": "f8"
           },
           "z": {
            "bdata": "AAAAAAAAAAAAAAAAAAAAAAAAAAAAAAAAAAAAAAAAAAAAAAAAAAAAAAAAAAAAAAAA",
            "dtype": "f8"
           }
          },
          {
           "name": "Edges",
           "type": "scatter3d",
           "x": [
            0.014000000000000005,
            0.01900000000000001,
            null,
            0.01900000000000001,
            0.02400000000000001,
            null,
            0.02400000000000001,
            0.028748035714144585,
            null,
            0.028748035714144585,
            0.0329476853357518,
            null,
            0.0329476853357518,
            0.03662241195741766,
            null,
            0.03662241195741766,
            0.04004588102423266,
            null,
            0.04004588102423266,
            0.04359062231637012,
            null,
            0.04359062231637012,
            0.047570022382070906,
            null,
            0.047570022382070906,
            0.05209567389176818,
            null,
            0.05209567389176818,
            0.056999907181400584,
            null,
            0.056999907181400584,
            0.0619041090050614,
            null,
            0.0619041090050614,
            0.06642969609731376,
            null,
            0.06642969609731376,
            0.0704090590220266,
            null,
            0.0704090590220266,
            0.07395382867288036,
            null,
            0.07395382867288036,
            0.07737738478362254,
            null,
            0.07737738478362254,
            0.08105221603902009,
            null,
            0.08105221603902009,
            0.08525194015402124,
            null,
            0.08525194015402124,
            0.09,
            null,
            0.09,
            0.095,
            null,
            0.095,
            0.1,
            null
           ],
           "y": [
            0,
            0,
            null,
            0,
            0,
            null,
            0,
            0.0002723128290369427,
            null,
            0.0002723128290369427,
            0.0006635154295128924,
            null,
            0.0006635154295128924,
            0.0010263515659847367,
            null,
            0.0010263515659847367,
            0.0012489675869150286,
            null,
            0.0012489675869150286,
            0.0012597843633584773,
            null,
            0.0012597843633584773,
            0.0010291714403399051,
            null,
            0.0010291714403399051,
            0.0005805980472193078,
            null,
            0.0005805980472193078,
            4.3375823783412565e-9,
            null,
            4.3375823783412565e-9,
            -0.0005805815285861673,
            null,
            -0.0005805815285861673,
            -0.0010291371299863722,
            null,
            -0.0010291371299863722,
            -0.0012597339681128163,
            null,
            -0.0012597339681128163,
            -0.0012489112123361258,
            null,
            -0.0012489112123361258,
            -0.0010263014553585409,
            null,
            -0.0010263014553585409,
            -0.0006634814752806757,
            null,
            -0.0006634814752806757,
            -0.00027229886959553076,
            null,
            -0.00027229886959553076,
            0,
            null,
            0,
            0,
            null,
            0,
            0,
            null
           ],
           "z": [
            0,
            0,
            null,
            0,
            0,
            null,
            0,
            -0.0015241373867173461,
            null,
            -0.0015241373867173461,
            -0.004199956224779376,
            null,
            -0.004199956224779376,
            -0.007564783901609521,
            null,
            -0.007564783901609521,
            -0.011196611947963625,
            null,
            -0.011196611947963625,
            -0.014716778843493953,
            null,
            -0.014716778843493953,
            -0.017726877402042443,
            null,
            -0.017726877402042443,
            -0.01979037818722497,
            null,
            -0.01979037818722497,
            -0.020529468220137286,
            null,
            -0.020529468220137286,
            -0.019790163044494727,
            null,
            -0.019790163044494727,
            -0.017726516990047066,
            null,
            -0.017726516990047066,
            -0.014716368126601117,
            null,
            -0.014716368126601117,
            -0.011196230003454676,
            null,
            -0.011196230003454676,
            -0.007564483951521993,
            null,
            -0.007564483951521993,
            -0.004199769177151665,
            null,
            -0.004199769177151665,
            -0.0015240646344948775,
            null,
            -0.0015240646344948775,
            0,
            null,
            0,
            0,
            null,
            0,
            0,
            null
           ]
          },
          {
           "i": [],
           "j": [],
           "k": [],
           "name": "Faces",
           "type": "mesh3d",
           "x": {
            "bdata": "fOkmMQisjD/e+X5qvHSTP/1+arx0k5g/0a/dBCBwnT+F7f3dhN6gP1/EUDsswKI/LlutyuSApD+QroWSglGmP5ZNzRQZW6g/wqZBv0isqj+RNHCCFy+tPyNbVDflsa8/WZ84XIkBsT8kfNf9UwayP9hikFuj7rI/n30YGQHPsz896ieJ1r+0P17P4TYS07U/CtejcD0Ktz9SuB6F61G4P5qZmZmZmbk/",
            "dtype": "f8"
           },
           "y": {
            "bdata": "AAAAAAAAAAAAAAAAAAAAAAAAAAAAAAAAsS/rsabYMT+ypvqI+L1FP/EfP5rU0FA/Z9EhvIx2VD+qMQAp66NUP508aGuo3FA/TKf9z2gGQz/A5B/mOKEyPtm2xlZFBkO/Er8/lIPcUL9YC3YMtaNUvz5/ATRQdlS/F0rxy57QUL85SnGer71Fv2+9Wb1q2DG/AAAAAAAAAAAAAAAAAAAAAAAAAAAAAAAA",
            "dtype": "f8"
           },
           "z": {
            "bdata": "AAAAAAAAAAAAAAAAAAAAAAAAAAAAAAAAuobBDrL4WL/LuBQq+TNxv/fqVjdA/H6/g9oj0T/uhr+voq6e1COOvzTSzpr+JpK/5MBbzO1DlL8uZXBKrQWVv/QEPFzfQ5S/Lxr6auYmkr/ro45+nSOOv2xsoI0M7oa/iyztsu/7fr9VDkT0xjNxv7r+xvBj+Fi/AAAAAAAAAAAAAAAAAAAAAAAAAAAAAAAA",
            "dtype": "f8"
           }
          }
         ],
         "layout": {
          "annotations": [
           {
            "showarrow": false,
            "text": "Time: 0.78s (Step: 79/100)",
            "x": 0.05,
            "xref": "paper",
            "y": 0.95,
            "yref": "paper"
           }
          ]
         },
         "name": "78"
        },
        {
         "data": [
          {
           "name": "Free Nodes",
           "type": "scatter3d",
           "x": {
            "bdata": "tHSS/yRwnT9k2lfIkN6gPx4w/K9IwKI/qFTjghOBpD97EkTOvFGmP4ZIFBFQW6g/goVShGqsqj/ptNJmFy+tP+AewTHDsa8/z+kmtG0BsT8PGwqwNgayPzXeGtOL7rI/QN8Mv/LOsz+2PCiE0L+0P+n4K/QQ07U/",
            "dtype": "f8"
           },
           "y": {
            "bdata": "7nDUo40bMj8T6WyEhA9GPxMIqW7yD1E/YCjlomXDVD96sxCPbvFUP9k5JAnxG1E/axCVbrBNQz8A2qDIYLtVvm9y19rxTUO/h+k0V/gbUb8y0KzlW/FUv2Xrsg1Dw1S/4rfMcs0PUb8wJrSDTQ9GvwnGAzZeGzK/",
            "dtype": "f8"
           },
           "z": {
            "bdata": "nMv2YMf0WL/PVESDpzFxv/4YpwvE+H6/s02IPyLshr/TWvUciSGOv8qC3zLQJZK/F96xKrxClL9KB0x6egSVvxdzxCCtQpS/Ro1f/bYlkr8zxMubTyGOv/xsLrns64a/bnYO52/4fr8DRu78cjFxv/t7Goh19Fi/",
            "dtype": "f8"
           }
          },
          {
           "name": "Fixed Nodes",
           "type": "scatter3d",
           "x": {
            "bdata": "fOkmMQisjD/e+X5qvHSTP/1+arx0k5g/CtejcD0Ktz9SuB6F61G4P5qZmZmZmbk/",
            "dtype": "f8"
           },
           "y": {
            "bdata": "AAAAAAAAAAAAAAAAAAAAAAAAAAAAAAAAAAAAAAAAAAAAAAAAAAAAAAAAAAAAAAAA",
            "dtype": "f8"
           },
           "z": {
            "bdata": "AAAAAAAAAAAAAAAAAAAAAAAAAAAAAAAAAAAAAAAAAAAAAAAAAAAAAAAAAAAAAAAA",
            "dtype": "f8"
           }
          },
          {
           "name": "Edges",
           "type": "scatter3d",
           "x": [
            0.014000000000000005,
            0.01900000000000001,
            null,
            0.01900000000000001,
            0.02400000000000001,
            null,
            0.02400000000000001,
            0.02874810991180672,
            null,
            0.02874810991180672,
            0.03294804044337665,
            null,
            0.03294804044337665,
            0.03662326000457504,
            null,
            0.03662326000457504,
            0.04004727337602648,
            null,
            0.04004727337602648,
            0.04359235780615208,
            null,
            0.04359235780615208,
            0.04757166107641901,
            null,
            0.04757166107641901,
            0.05209668030989702,
            null,
            0.05209668030989702,
            0.0569999039665648,
            null,
            0.0569999039665648,
            0.061903095077068704,
            null,
            0.061903095077068704,
            0.06642804764025033,
            null,
            0.06642804764025033,
            0.07040731237257723,
            null,
            0.07040731237257723,
            0.07395242599420089,
            null,
            0.07395242599420089,
            0.07737652935327066,
            null,
            0.07737652935327066,
            0.08105185724729122,
            null,
            0.08105185724729122,
            0.08525186501717354,
            null,
            0.08525186501717354,
            0.09,
            null,
            0.09,
            0.095,
            null,
            0.095,
            0.1,
            null
           ],
           "y": [
            0,
            0,
            null,
            0,
            0,
            null,
            0,
            0.00027630050665706965,
            null,
            0.00027630050665706965,
            0.0006732365662636429,
            null,
            0.0006732365662636429,
            0.0010413997175793318,
            null,
            0.0010413997175793318,
            0.0012672894041139346,
            null,
            0.0012672894041139346,
            0.0012782649685149903,
            null,
            0.0012782649685149903,
            0.0010442594398828357,
            null,
            0.0010442594398828357,
            0.0005890952572049751,
            null,
            0.0005890952572049751,
            -2.0239451483013227e-8,
            null,
            -2.0239451483013227e-8,
            -0.0005891257221111843,
            null,
            -0.0005891257221111843,
            -0.0010442662431403309,
            null,
            -0.0010442662431403309,
            -0.0012782475884707376,
            null,
            -0.0012782475884707376,
            -0.0012672571963736276,
            null,
            -0.0012672571963736276,
            -0.0010413652737031255,
            null,
            -0.0010413652737031255,
            -0.0006732109535800331,
            null,
            -0.0006732109535800331,
            -0.00027628946374055934,
            null,
            -0.00027628946374055934,
            0,
            null,
            0,
            0,
            null,
            0,
            0,
            null
           ],
           "z": [
            0,
            0,
            null,
            0,
            0,
            null,
            0,
            -0.001523203569246268,
            null,
            -0.001523203569246268,
            -0.004197744700168828,
            null,
            -0.004197744700168828,
            -0.007561460306936716,
            null,
            -0.007561460306936716,
            -0.01119257694612128,
            null,
            -0.01119257694612128,
            -0.014712401577225453,
            null,
            -0.014712401577225453,
            -0.017722371201559985,
            null,
            -0.017722371201559985,
            -0.019785823922999848,
            null,
            -0.019785823922999848,
            -0.020524896349349654,
            null,
            -0.020524896349349654,
            -0.019785599827730396,
            null,
            -0.019785599827730396,
            -0.01772199555842959,
            null,
            -0.01772199555842959,
            -0.014711973135009248,
            null,
            -0.014711973135009248,
            -0.01119217815521844,
            null,
            -0.01119217815521844,
            -0.0075611468500064016,
            null,
            -0.0075611468500064016,
            -0.004197549030224848,
            null,
            -0.004197549030224848,
            -0.0015231273431834935,
            null,
            -0.0015231273431834935,
            0,
            null,
            0,
            0,
            null,
            0,
            0,
            null
           ]
          },
          {
           "i": [],
           "j": [],
           "k": [],
           "name": "Faces",
           "type": "mesh3d",
           "x": {
            "bdata": "fOkmMQisjD/e+X5qvHSTP/1+arx0k5g/tHSS/yRwnT9k2lfIkN6gPx4w/K9IwKI/qFTjghOBpD97EkTOvFGmP4ZIFBFQW6g/goVShGqsqj/ptNJmFy+tP+AewTHDsa8/z+kmtG0BsT8PGwqwNgayPzXeGtOL7rI/QN8Mv/LOsz+2PCiE0L+0P+n4K/QQ07U/CtejcD0Ktz9SuB6F61G4P5qZmZmZmbk/",
            "dtype": "f8"
           },
           "y": {
            "bdata": "AAAAAAAAAAAAAAAAAAAAAAAAAAAAAAAA7nDUo40bMj8T6WyEhA9GPxMIqW7yD1E/YCjlomXDVD96sxCPbvFUP9k5JAnxG1E/axCVbrBNQz8A2qDIYLtVvm9y19rxTUO/h+k0V/gbUb8y0KzlW/FUv2Xrsg1Dw1S/4rfMcs0PUb8wJrSDTQ9GvwnGAzZeGzK/AAAAAAAAAAAAAAAAAAAAAAAAAAAAAAAA",
            "dtype": "f8"
           },
           "z": {
            "bdata": "AAAAAAAAAAAAAAAAAAAAAAAAAAAAAAAAnMv2YMf0WL/PVESDpzFxv/4YpwvE+H6/s02IPyLshr/TWvUciSGOv8qC3zLQJZK/F96xKrxClL9KB0x6egSVvxdzxCCtQpS/Ro1f/bYlkr8zxMubTyGOv/xsLrns64a/bnYO52/4fr8DRu78cjFxv/t7Goh19Fi/AAAAAAAAAAAAAAAAAAAAAAAAAAAAAAAA",
            "dtype": "f8"
           }
          }
         ],
         "layout": {
          "annotations": [
           {
            "showarrow": false,
            "text": "Time: 0.79s (Step: 80/100)",
            "x": 0.05,
            "xref": "paper",
            "y": 0.95,
            "yref": "paper"
           }
          ]
         },
         "name": "79"
        },
        {
         "data": [
          {
           "name": "Free Nodes",
           "type": "scatter3d",
           "x": {
            "bdata": "So1NCypwnT/rKKPanN6gP3469YJlwKI/Dfu01EKBpD/rakfI91GmPz1sG8CHW6g/LOzEtoysqj/Y+cVKFy+tPxHgxr2gsa8/bDAJslEBsT8/s1MCGQayP3SGHv1z7rI/S9lVNeTOsz830u1qyr+0P1LOI60P07U/",
            "dtype": "f8"
           },
           "y": {
            "bdata": "PGRzHlJeMj8VE8V252BGP0NqbZTxTlE/Hr3EpRoQVT/9m/l3zz5VPzb7WNsfW1E/KNSbOeOUQz8Qwop505ljvvjjMSRnlUO/yxLX40NbUb9LHoVz0z5Vv4tQbkUIEFW/bhMR19ZOUb9MMLwUu2BGv+8Rvu8pXjK/",
            "dtype": "f8"
           },
           "z": {
            "bdata": "EcUqXM/wWL9zANf8TS9xv/rNCBA89X6/KkShhf3phr+GMm/eNR+Ov8VcV9WdJJK/iVrHj4ZBlL+NenyyQwOVvxRgefF2QZS/fhv1o4Mkkr9uGasU+h6Ov6yeCdXF6Ya/CyP/c+T0fr+t3GRAFy9xv7dG8fN58Fi/",
            "dtype": "f8"
           }
          },
          {
           "name": "Fixed Nodes",
           "type": "scatter3d",
           "x": {
            "bdata": "fOkmMQisjD/e+X5qvHSTP/1+arx0k5g/CtejcD0Ktz9SuB6F61G4P5qZmZmZmbk/",
            "dtype": "f8"
           },
           "y": {
            "bdata": "AAAAAAAAAAAAAAAAAAAAAAAAAAAAAAAAAAAAAAAAAAAAAAAAAAAAAAAAAAAAAAAA",
            "dtype": "f8"
           },
           "z": {
            "bdata": "AAAAAAAAAAAAAAAAAAAAAAAAAAAAAAAAAAAAAAAAAAAAAAAAAAAAAAAAAAAAAAAA",
            "dtype": "f8"
           }
          },
          {
           "name": "Edges",
           "type": "scatter3d",
           "x": [
            0.014000000000000005,
            0.01900000000000001,
            null,
            0.01900000000000001,
            0.02400000000000001,
            null,
            0.02400000000000001,
            0.028748185100437675,
            null,
            0.028748185100437675,
            0.03294840020096664,
            null,
            0.03294840020096664,
            0.03662411903007,
            null,
            0.03662411903007,
            0.040048683610157544,
            null,
            0.040048683610157544,
            0.04359411544620236,
            null,
            0.04359411544620236,
            0.04757332058007833,
            null,
            0.04757332058007833,
            0.052097699461647856,
            null,
            0.052097699461647856,
            0.05699990070114652,
            null,
            0.05699990070114652,
            0.061902068296547104,
            null,
            0.061902068296547104,
            0.06642637821750136,
            null,
            0.06642637821750136,
            0.07040554339228054,
            null,
            0.07040554339228054,
            0.07395100526493953,
            null,
            0.07395100526493953,
            0.07737566282398693,
            null,
            0.07737566282398693,
            0.08105149374552743,
            null,
            0.08105149374552743,
            0.0852517888741258,
            null,
            0.0852517888741258,
            0.09,
            null,
            0.09,
            0.095,
            null,
            0.095,
            0.1,
            null
           ],
           "y": [
            0,
            0,
            null,
            0,
            0,
            null,
            0,
            0.0002802801595414605,
            null,
            0.0002802801595414605,
            0.0006829385943452915,
            null,
            0.0006829385943452915,
            0.0010564192941361495,
            null,
            0.0010564192941361495,
            0.0012855777959648938,
            null,
            0.0012855777959648938,
            0.0012967134533938822,
            null,
            0.0012967134533938822,
            0.0010593234159299142,
            null,
            0.0010593234159299142,
            0.0005975827691303602,
            null,
            0.0005975827691303602,
            -3.6509489824923376e-8,
            null,
            -3.6509489824923376e-8,
            -0.000597644197468771,
            null,
            -0.000597644197468771,
            -0.0010593569744383076,
            null,
            -0.0010593569744383076,
            -0.0012967171624768288,
            null,
            -0.0012967171624768288,
            -0.0012855606816844247,
            null,
            -0.0012855606816844247,
            -0.0010563943908589962,
            null,
            -0.0010563943908589962,
            -0.0006829179269245505,
            null,
            -0.0006829179269245505,
            -0.00028027080383477473,
            null,
            -0.00028027080383477473,
            0,
            null,
            0,
            0,
            null,
            0,
            0,
            null
           ],
           "z": [
            0,
            0,
            null,
            0,
            0,
            null,
            0,
            -0.001522257328059166,
            null,
            -0.001522257328059166,
            -0.004195503844528148,
            null,
            -0.004195503844528148,
            -0.007558092708268566,
            null,
            -0.007558092708268566,
            -0.011188488617479637,
            null,
            -0.011188488617479637,
            -0.014707966662080862,
            null,
            -0.014707966662080862,
            -0.017717806001965614,
            null,
            -0.017717806001965614,
            -0.019781210446888884,
            null,
            -0.019781210446888884,
            -0.020520265358863688,
            null,
            -0.020520265358863688,
            -0.01978097771493033,
            null,
            -0.01978097771493033,
            -0.01771741569725859,
            null,
            -0.01771741569725859,
            -0.014707521205661957,
            null,
            -0.014707521205661957,
            -0.01118807369603244,
            null,
            -0.01118807369603244,
            -0.0075577663373642785,
            null,
            -0.0075577663373642785,
            -0.004195299936603875,
            null,
            -0.004195299936603875,
            -0.001522177786473495,
            null,
            -0.001522177786473495,
            0,
            null,
            0,
            0,
            null,
            0,
            0,
            null
           ]
          },
          {
           "i": [],
           "j": [],
           "k": [],
           "name": "Faces",
           "type": "mesh3d",
           "x": {
            "bdata": "fOkmMQisjD/e+X5qvHSTP/1+arx0k5g/So1NCypwnT/rKKPanN6gP3469YJlwKI/Dfu01EKBpD/rakfI91GmPz1sG8CHW6g/LOzEtoysqj/Y+cVKFy+tPxHgxr2gsa8/bDAJslEBsT8/s1MCGQayP3SGHv1z7rI/S9lVNeTOsz830u1qyr+0P1LOI60P07U/CtejcD0Ktz9SuB6F61G4P5qZmZmZmbk/",
            "dtype": "f8"
           },
           "y": {
            "bdata": "AAAAAAAAAAAAAAAAAAAAAAAAAAAAAAAAPGRzHlJeMj8VE8V252BGP0NqbZTxTlE/Hr3EpRoQVT/9m/l3zz5VPzb7WNsfW1E/KNSbOeOUQz8Qwop505ljvvjjMSRnlUO/yxLX40NbUb9LHoVz0z5Vv4tQbkUIEFW/bhMR19ZOUb9MMLwUu2BGv+8Rvu8pXjK/AAAAAAAAAAAAAAAAAAAAAAAAAAAAAAAA",
            "dtype": "f8"
           },
           "z": {
            "bdata": "AAAAAAAAAAAAAAAAAAAAAAAAAAAAAAAAEcUqXM/wWL9zANf8TS9xv/rNCBA89X6/KkShhf3phr+GMm/eNR+Ov8VcV9WdJJK/iVrHj4ZBlL+NenyyQwOVvxRgefF2QZS/fhv1o4Mkkr9uGasU+h6Ov6yeCdXF6Ya/CyP/c+T0fr+t3GRAFy9xv7dG8fN58Fi/AAAAAAAAAAAAAAAAAAAAAAAAAAAAAAAA",
            "dtype": "f8"
           }
          }
         ],
         "layout": {
          "annotations": [
           {
            "showarrow": false,
            "text": "Time: 0.80s (Step: 81/100)",
            "x": 0.05,
            "xref": "paper",
            "y": 0.95,
            "yref": "paper"
           }
          ]
         },
         "name": "80"
        },
        {
         "data": [
          {
           "name": "Free Nodes",
           "type": "scatter3d",
           "x": {
            "bdata": "DjD3Jy9wnT/j150Uqd6gPzPGkbOCwKI/NAz9vnKBpD9m4BR/M1KmP3N0cyDAW6g/xza0Va+sqj+eek0uFy+tP34ZUtx9sa8//PibVjUBsT+SPXf1+gWyP4hFM9pb7rI/v3xMfNXOsz9A25s9xL+0P0jjz2EO07U/",
            "dtype": "f8"
           },
           "y": {
            "bdata": "2YwE3/OgMj/CBqoWIbJGP0CjLdvRjVE/WL22l6tcVT/tnZ7LDYxVP4Zf/u80mlE/v+IOswHcQz8A1xHyY6RnvtD/g+ej3EO/JYsOemWaUb+zL5rzGoxVv8xKeS2fXFW/lz8rcrqNUb9IV2yp97FGv6osv2PNoDK/",
            "dtype": "f8"
           },
           "z": {
            "bdata": "HrXGEsrsWL/C5uqh7CxxvxYlWlWo8X6/Lk7NrdHnhr8DnLju2hyOv0G3jIhnI5K/pWmDAk1AlL95/G36CAKVvzoDHdY8QJS/a4CUZkwjkr9OGHv4nByOv0+7OO+X54a/5DSfcE3xfr/mMqnNsyxxv0oTGU1x7Fi/",
            "dtype": "f8"
           }
          },
          {
           "name": "Fixed Nodes",
           "type": "scatter3d",
           "x": {
            "bdata": "fOkmMQisjD/e+X5qvHSTP/1+arx0k5g/CtejcD0Ktz9SuB6F61G4P5qZmZmZmbk/",
            "dtype": "f8"
           },
           "y": {
            "bdata": "AAAAAAAAAAAAAAAAAAAAAAAAAAAAAAAAAAAAAAAAAAAAAAAAAAAAAAAAAAAAAAAA",
            "dtype": "f8"
           },
           "z": {
            "bdata": "AAAAAAAAAAAAAAAAAAAAAAAAAAAAAAAAAAAAAAAAAAAAAAAAAAAAAAAAAAAAAAAA",
            "dtype": "f8"
           }
          },
          {
           "name": "Edges",
           "type": "scatter3d",
           "x": [
            0.014000000000000005,
            0.01900000000000001,
            null,
            0.01900000000000001,
            0.02400000000000001,
            null,
            0.02400000000000001,
            0.028748261274628865,
            null,
            0.028748261274628865,
            0.03294876457850628,
            null,
            0.03294876457850628,
            0.036624988956543446,
            null,
            0.036624988956543446,
            0.04005011159326735,
            null,
            0.04005011159326735,
            0.0435958950642437,
            null,
            0.0435958950642437,
            0.04757500072603529,
            null,
            0.04757500072603529,
            0.05209873124304703,
            null,
            0.05209873124304703,
            0.05699989738672183,
            null,
            0.05699989738672183,
            0.06190102877103508,
            null,
            0.06190102877103508,
            0.0664246880005272,
            null,
            0.0664246880005272,
            0.07040375225846265,
            null,
            0.07040375225846265,
            0.07394956662326113,
            null,
            0.07394956662326113,
            0.07737478527677676,
            null,
            0.07737478527677676,
            0.08105112556573335,
            null,
            0.08105112556573335,
            0.08525171173085966,
            null,
            0.08525171173085966,
            0.09,
            null,
            0.09,
            0.095,
            null,
            0.095,
            0.1,
            null
           ],
           "y": [
            0,
            0,
            null,
            0,
            0,
            null,
            0,
            0.0002842517269689544,
            null,
            0.0002842517269689544,
            0.0006926213803383973,
            null,
            0.0006926213803383973,
            0.0010714101196873244,
            null,
            0.0010714101196873244,
            0.0013038325986192891,
            null,
            0.0013038325986192891,
            0.0013151297302814683,
            null,
            0.0013151297302814683,
            0.0010743634192973152,
            null,
            0.0010743634192973152,
            0.0006060608194423319,
            null,
            0.0006060608194423319,
            -4.40369361054057e-8,
            null,
            -4.40369361054057e-8,
            -0.0006061363519904665,
            null,
            -0.0006061363519904665,
            -0.0010744086250517673,
            null,
            -0.0010744086250517673,
            -0.0013151419829311283,
            null,
            -0.0013151419829311283,
            -0.0013038210362494194,
            null,
            -0.0013038210362494194,
            -0.0010713883172463795,
            null,
            -0.0010713883172463795,
            -0.0006926020895174712,
            null,
            -0.0006926020895174712,
            -0.00028424276729017517,
            null,
            -0.00028424276729017517,
            0,
            null,
            0,
            0,
            null,
            0,
            0,
            null
           ],
           "z": [
            0,
            0,
            null,
            0,
            0,
            null,
            0,
            -0.0015212987301354629,
            null,
            -0.0015212987301354629,
            -0.004193233819643262,
            null,
            -0.004193233819643262,
            -0.007554681351060985,
            null,
            -0.007554681351060985,
            -0.011184347263827634,
            null,
            -0.011184347263827634,
            -0.01470347443598819,
            null,
            -0.01470347443598819,
            -0.017713182172136802,
            null,
            -0.017713182172136802,
            -0.01977653816070703,
            null,
            -0.01977653816070703,
            -0.020515575680744,
            null,
            -0.020515575680744,
            -0.01977629715770777,
            null,
            -0.01977629715770777,
            -0.017712777863494383,
            null,
            -0.017712777863494383,
            -0.014703012784036098,
            null,
            -0.014703012784036098,
            -0.011183917034114947,
            null,
            -0.011183917034114947,
            -0.007554342746471241,
            null,
            -0.007554342746471241,
            -0.004193022114645761,
            null,
            -0.004193022114645761,
            -0.0015212160545996106,
            null,
            -0.0015212160545996106,
            0,
            null,
            0,
            0,
            null,
            0,
            0,
            null
           ]
          },
          {
           "i": [],
           "j": [],
           "k": [],
           "name": "Faces",
           "type": "mesh3d",
           "x": {
            "bdata": "fOkmMQisjD/e+X5qvHSTP/1+arx0k5g/DjD3Jy9wnT/j150Uqd6gPzPGkbOCwKI/NAz9vnKBpD9m4BR/M1KmP3N0cyDAW6g/xza0Va+sqj+eek0uFy+tP34ZUtx9sa8//PibVjUBsT+SPXf1+gWyP4hFM9pb7rI/v3xMfNXOsz9A25s9xL+0P0jjz2EO07U/CtejcD0Ktz9SuB6F61G4P5qZmZmZmbk/",
            "dtype": "f8"
           },
           "y": {
            "bdata": "AAAAAAAAAAAAAAAAAAAAAAAAAAAAAAAA2YwE3/OgMj/CBqoWIbJGP0CjLdvRjVE/WL22l6tcVT/tnZ7LDYxVP4Zf/u80mlE/v+IOswHcQz8A1xHyY6RnvtD/g+ej3EO/JYsOemWaUb+zL5rzGoxVv8xKeS2fXFW/lz8rcrqNUb9IV2yp97FGv6osv2PNoDK/AAAAAAAAAAAAAAAAAAAAAAAAAAAAAAAA",
            "dtype": "f8"
           },
           "z": {
            "bdata": "AAAAAAAAAAAAAAAAAAAAAAAAAAAAAAAAHrXGEsrsWL/C5uqh7CxxvxYlWlWo8X6/Lk7NrdHnhr8DnLju2hyOv0G3jIhnI5K/pWmDAk1AlL95/G36CAKVvzoDHdY8QJS/a4CUZkwjkr9OGHv4nByOv0+7OO+X54a/5DSfcE3xfr/mMqnNsyxxv0oTGU1x7Fi/AAAAAAAAAAAAAAAAAAAAAAAAAAAAAAAA",
            "dtype": "f8"
           }
          }
         ],
         "layout": {
          "annotations": [
           {
            "showarrow": false,
            "text": "Time: 0.81s (Step: 82/100)",
            "x": 0.05,
            "xref": "paper",
            "y": 0.95,
            "yref": "paper"
           }
          ]
         },
         "name": "81"
        },
        {
         "data": [
          {
           "name": "Free Nodes",
           "type": "scatter3d",
           "x": {
            "bdata": "Suh2VTRwnT83oAR2td6gP8QeJUGgwKI/0nOSQKOBpD9CHi3xb1KmP7fUqDD5W6g/M4o4YNKsqj+y+GoRFy+tP5TfTo5asa8/9OqbohgBsT/n0zeK3AWyP3r58GpD7rI/aKhJlMbOsz8qVVX8vb+0P8S1NhIN07U/",
            "dtype": "f8"
           },
           "y": {
            "bdata": "osVseHLjMj+538rfMANHP58F4tySzFE/tnx++xepVT9QzYcHKdlVP/lQ4dMv2VE//S9SOgsjRD8Yx5gXZA1nvh9Xvv+nI0S/ZBci3lzZUb/pzsARMtlVv+4wHWwHqVW/at5X9nfMUb/C4bnYAgNHvw/58ThI4zK/",
            "dtype": "f8"
           },
           "z": {
            "bdata": "3vJwmbfoWL/U4Pp+gypxv1UglO4I7n6/xmizw57lhr9furtaeBqOvzUMYVMtIpK/akohig8/lL/VA5lZygCVv5vANdb+PpS/DPCjTBEikr/8n2lVOBqOv2YjoxRj5Ya/EPH28artfr/dYoyySCpxv7PIbKpb6Fi/",
            "dtype": "f8"
           }
          },
          {
           "name": "Fixed Nodes",
           "type": "scatter3d",
           "x": {
            "bdata": "fOkmMQisjD/e+X5qvHSTP/1+arx0k5g/CtejcD0Ktz9SuB6F61G4P5qZmZmZmbk/",
            "dtype": "f8"
           },
           "y": {
            "bdata": "AAAAAAAAAAAAAAAAAAAAAAAAAAAAAAAAAAAAAAAAAAAAAAAAAAAAAAAAAAAAAAAA",
            "dtype": "f8"
           },
           "z": {
            "bdata": "AAAAAAAAAAAAAAAAAAAAAAAAAAAAAAAAAAAAAAAAAAAAAAAAAAAAAAAAAAAAAAAA",
            "dtype": "f8"
           }
          },
          {
           "name": "Edges",
           "type": "scatter3d",
           "x": [
            0.014000000000000005,
            0.01900000000000001,
            null,
            0.01900000000000001,
            0.02400000000000001,
            null,
            0.02400000000000001,
            0.028748338428819666,
            null,
            0.028748338428819666,
            0.03294913354540124,
            null,
            0.03294913354540124,
            0.03662586970545825,
            null,
            0.03662586970545825,
            0.04005155719025989,
            null,
            0.04005155719025989,
            0.043597696485957474,
            null,
            0.043597696485957474,
            0.047576701345329146,
            null,
            0.047576701345329146,
            0.052099775548658654,
            null,
            0.052099775548658654,
            0.05699989402408913,
            null,
            0.05699989402408913,
            0.06189997660788929,
            null,
            0.06189997660788929,
            0.06642297716090778,
            null,
            0.06642297716090778,
            0.07040193914856695,
            null,
            0.07040193914856695,
            0.07394811020728823,
            null,
            0.07394811020728823,
            0.0773738967924672,
            null,
            0.0773738967924672,
            0.08105075273973186,
            null,
            0.08105075273973186,
            0.08525163359327964,
            null,
            0.08525163359327964,
            0.09,
            null,
            0.09,
            0.095,
            null,
            0.095,
            0.1,
            null
           ],
           "y": [
            0,
            0,
            null,
            0,
            0,
            null,
            0,
            0.0002882151097081902,
            null,
            0.0002882151097081902,
            0.000702284683561586,
            null,
            0.000702284683561586,
            0.0010863718230499154,
            null,
            0.0010863718230499154,
            0.0013220533564675513,
            null,
            0.0013220533564675513,
            0.0013335133245363125,
            null,
            0.0013335133245363125,
            0.0010893790308915115,
            null,
            0.0010893790308915115,
            0.0006145291159938001,
            null,
            0.0006145291159938001,
            -4.2938270672009163e-8,
            null,
            -4.2938270672009163e-8,
            -0.0006146021182640049,
            null,
            -0.0006146021182640049,
            -0.0010894209777076664,
            null,
            -0.0010894209777076664,
            -0.0013335217436293795,
            null,
            -0.0013335217436293795,
            -0.0013220379336927285,
            null,
            -0.0013220379336927285,
            -0.0010863467699645754,
            null,
            -0.0010863467699645754,
            -0.0007022632502887082,
            null,
            -0.0007022632502887082,
            -0.00028820527308672043,
            null,
            -0.00028820527308672043,
            0,
            null,
            0,
            0,
            null,
            0,
            0,
            null
           ],
           "z": [
            0,
            0,
            null,
            0,
            0,
            null,
            0,
            -0.0015203278505985722,
            null,
            -0.0015203278505985722,
            -0.004190934807120256,
            null,
            -0.004190934807120256,
            -0.007551226511402905,
            null,
            -0.007551226511402905,
            -0.011180153224291788,
            null,
            -0.011180153224291788,
            -0.014698925274811701,
            null,
            -0.014698925274811701,
            -0.017708500112586918,
            null,
            -0.017708500112586918,
            -0.019771807485378913,
            null,
            -0.019771807485378913,
            -0.020510827749834554,
            null,
            -0.020510827749834554,
            -0.019771558594073296,
            null,
            -0.019771558594073296,
            -0.01770808248782889,
            null,
            -0.01770808248782889,
            -0.014698448282800307,
            null,
            -0.014698448282800307,
            -0.011179708545016442,
            null,
            -0.011179708545016442,
            -0.0075508763833875975,
            null,
            -0.0075508763833875975,
            -0.004190715765411493,
            null,
            -0.004190715765411493,
            -0.001520242230708163,
            null,
            -0.001520242230708163,
            0,
            null,
            0,
            0,
            null,
            0,
            0,
            null
           ]
          },
          {
           "i": [],
           "j": [],
           "k": [],
           "name": "Faces",
           "type": "mesh3d",
           "x": {
            "bdata": "fOkmMQisjD/e+X5qvHSTP/1+arx0k5g/Suh2VTRwnT83oAR2td6gP8QeJUGgwKI/0nOSQKOBpD9CHi3xb1KmP7fUqDD5W6g/M4o4YNKsqj+y+GoRFy+tP5TfTo5asa8/9OqbohgBsT/n0zeK3AWyP3r58GpD7rI/aKhJlMbOsz8qVVX8vb+0P8S1NhIN07U/CtejcD0Ktz9SuB6F61G4P5qZmZmZmbk/",
            "dtype": "f8"
           },
           "y": {
            "bdata": "AAAAAAAAAAAAAAAAAAAAAAAAAAAAAAAAosVseHLjMj+538rfMANHP58F4tySzFE/tnx++xepVT9QzYcHKdlVP/lQ4dMv2VE//S9SOgsjRD8Yx5gXZA1nvh9Xvv+nI0S/ZBci3lzZUb/pzsARMtlVv+4wHWwHqVW/at5X9nfMUb/C4bnYAgNHvw/58ThI4zK/AAAAAAAAAAAAAAAAAAAAAAAAAAAAAAAA",
            "dtype": "f8"
           },
           "z": {
            "bdata": "AAAAAAAAAAAAAAAAAAAAAAAAAAAAAAAA3vJwmbfoWL/U4Pp+gypxv1UglO4I7n6/xmizw57lhr9furtaeBqOvzUMYVMtIpK/akohig8/lL/VA5lZygCVv5vANdb+PpS/DPCjTBEikr/8n2lVOBqOv2YjoxRj5Ya/EPH28artfr/dYoyySCpxv7PIbKpb6Fi/AAAAAAAAAAAAAAAAAAAAAAAAAAAAAAAA",
            "dtype": "f8"
           }
          }
         ],
         "layout": {
          "annotations": [
           {
            "showarrow": false,
            "text": "Time: 0.82s (Step: 83/100)",
            "x": 0.05,
            "xref": "paper",
            "y": 0.95,
            "yref": "paper"
           }
          ]
         },
         "name": "82"
        },
        {
         "data": [
          {
           "name": "Free Nodes",
           "type": "scatter3d",
           "x": {
            "bdata": "FJazkzlwnT/D9pL+wd6gP7L//yq+wKI/ZlpIWNSBpD86aAwdrVKmP4rOQ+8yXKg/PuFm1fWsqj84ex70Fi+tPznIqNQ2sa8/p7zFlvsAsT8KnVjBvQWyP+lj768q7rI/gv6lfbfOsz+mBT2nt7+0PwatXr4L07U/",
            "dtype": "f8"
           },
           "y": {
            "bdata": "ONx7Vs0lMz92XlwXFlRHP/Cz4wE0C1I/2GikCV/1VT9mdrdGICZWPy3eEZwPGFI/B1A8If5pRD8wo5rnQStivkhSC1l0akS/Dl5LTyoYUr8GmTTgGCZWv4YzsvVA9VW/+P2bSg8LUr/ESDJ03FNHv7bItUCaJTO/",
            "dtype": "f8"
           },
           "z": {
            "bdata": "4xkKB5jkWL+4vtyhEihxv0IJyPBd6n6/CWVB1GTjhr8ZsK4wDhiOv04oQD3vIJK/Z5AvLs49lL8kroHXh/+Uvx2+Dfm8PZS/uM0VXdIgkr+RlYM4zBeOv8aTEFEn44a/1G42C/3pfr+m96771Sdxv8sK1CA55Fi/",
            "dtype": "f8"
           }
          },
          {
           "name": "Fixed Nodes",
           "type": "scatter3d",
           "x": {
            "bdata": "fOkmMQisjD/e+X5qvHSTP/1+arx0k5g/CtejcD0Ktz9SuB6F61G4P5qZmZmZmbk/",
            "dtype": "f8"
           },
           "y": {
            "bdata": "AAAAAAAAAAAAAAAAAAAAAAAAAAAAAAAAAAAAAAAAAAAAAAAAAAAAAAAAAAAAAAAA",
            "dtype": "f8"
           },
           "z": {
            "bdata": "AAAAAAAAAAAAAAAAAAAAAAAAAAAAAAAAAAAAAAAAAAAAAAAAAAAAAAAAAAAAAAAA",
            "dtype": "f8"
           }
          },
          {
           "name": "Edges",
           "type": "scatter3d",
           "x": [
            0.014000000000000005,
            0.01900000000000001,
            null,
            0.01900000000000001,
            0.02400000000000001,
            null,
            0.02400000000000001,
            0.028748416557297388,
            null,
            0.028748416557297388,
            0.03294950707048152,
            null,
            0.03294950707048152,
            0.03662676119711196,
            null,
            0.03662676119711196,
            0.04005302026432815,
            null,
            0.04005302026432815,
            0.043599519535022016,
            null,
            0.043599519535022016,
            0.04757842226709126,
            null,
            0.04757842226709126,
            0.052100832271607875,
            null,
            0.052100832271607875,
            0.056999890613261106,
            null,
            0.056999890613261106,
            0.061898911914241635,
            null,
            0.061898911914241635,
            0.06642124587027586,
            null,
            0.06642124587027586,
            0.07040010424008272,
            null,
            0.07040010424008272,
            0.07394663615504239,
            null,
            0.07394663615504239,
            0.07737299745167017,
            null,
            0.07737299745167017,
            0.08105037529914813,
            null,
            0.08105037529914813,
            0.08525155446720953,
            null,
            0.08525155446720953,
            0.09,
            null,
            0.09,
            0.095,
            null,
            0.095,
            0.1,
            null
           ],
           "y": [
            0,
            0,
            null,
            0,
            0,
            null,
            0,
            0.0002921701729827228,
            null,
            0.0002921701729827228,
            0.0007119281642386638,
            null,
            0.0007119281642386638,
            0.0011013038525178286,
            null,
            0.0011013038525178286,
            0.0013402393438526807,
            null,
            0.0013402393438526807,
            0.0013518634030939224,
            null,
            0.0013518634030939224,
            0.0011043693960156684,
            null,
            0.0011043693960156684,
            0.0006229868763250054,
            null,
            0.0006229868763250054,
            -3.384235198789526e-8,
            null,
            -3.384235198789526e-8,
            -0.0006230419258722109,
            null,
            -0.0006230419258722109,
            -0.0011043942624179323,
            null,
            -0.0011043942624179323,
            -0.0013518565109023619,
            null,
            -0.0013518565109023619,
            -0.0013402113316118582,
            null,
            -0.0013402113316118582,
            -0.0011012696581359487,
            null,
            -0.0011012696581359487,
            -0.0007119013247509844,
            null,
            -0.0007119013247509844,
            -0.00029215827881679966,
            null,
            -0.00029215827881679966,
            0,
            null,
            0,
            0,
            null,
            0,
            0,
            null
           ],
           "z": [
            0,
            0,
            null,
            0,
            0,
            null,
            0,
            -0.001519344772675895,
            null,
            -0.001519344772675895,
            -0.004188607008287874,
            null,
            -0.004188607008287874,
            -0.007547728495867214,
            null,
            -0.007547728495867214,
            -0.0111759068751547,
            null,
            -0.0111759068751547,
            -0.014694319592159432,
            null,
            -0.014694319592159432,
            -0.01770376025528036,
            null,
            -0.01770376025528036,
            -0.019767018860776277,
            null,
            -0.019767018860776277,
            -0.020506022003628513,
            null,
            -0.020506022003628513,
            -0.019766762448339848,
            null,
            -0.019766762448339848,
            -0.017703329974620735,
            null,
            -0.017703329974620735,
            -0.014693828081770362,
            null,
            -0.014693828081770362,
            -0.011175448571586599,
            null,
            -0.011175448571586599,
            -0.007547367527333388,
            null,
            -0.007547367527333388,
            -0.004188381072649882,
            null,
            -0.004188381072649882,
            -0.0015192563908505315,
            null,
            -0.0015192563908505315,
            0,
            null,
            0,
            0,
            null,
            0,
            0,
            null
           ]
          },
          {
           "i": [],
           "j": [],
           "k": [],
           "name": "Faces",
           "type": "mesh3d",
           "x": {
            "bdata": "fOkmMQisjD/e+X5qvHSTP/1+arx0k5g/FJazkzlwnT/D9pL+wd6gP7L//yq+wKI/ZlpIWNSBpD86aAwdrVKmP4rOQ+8yXKg/PuFm1fWsqj84ex70Fi+tPznIqNQ2sa8/p7zFlvsAsT8KnVjBvQWyP+lj768q7rI/gv6lfbfOsz+mBT2nt7+0PwatXr4L07U/CtejcD0Ktz9SuB6F61G4P5qZmZmZmbk/",
            "dtype": "f8"
           },
           "y": {
            "bdata": "AAAAAAAAAAAAAAAAAAAAAAAAAAAAAAAAONx7Vs0lMz92XlwXFlRHP/Cz4wE0C1I/2GikCV/1VT9mdrdGICZWPy3eEZwPGFI/B1A8If5pRD8wo5rnQStivkhSC1l0akS/Dl5LTyoYUr8GmTTgGCZWv4YzsvVA9VW/+P2bSg8LUr/ESDJ03FNHv7bItUCaJTO/AAAAAAAAAAAAAAAAAAAAAAAAAAAAAAAA",
            "dtype": "f8"
           },
           "z": {
            "bdata": "AAAAAAAAAAAAAAAAAAAAAAAAAAAAAAAA4xkKB5jkWL+4vtyhEihxv0IJyPBd6n6/CWVB1GTjhr8ZsK4wDhiOv04oQD3vIJK/Z5AvLs49lL8kroHXh/+Uvx2+Dfm8PZS/uM0VXdIgkr+RlYM4zBeOv8aTEFEn44a/1G42C/3pfr+m96771Sdxv8sK1CA55Fi/AAAAAAAAAAAAAAAAAAAAAAAAAAAAAAAA",
            "dtype": "f8"
           }
          }
         ],
         "layout": {
          "annotations": [
           {
            "showarrow": false,
            "text": "Time: 0.83s (Step: 84/100)",
            "x": 0.05,
            "xref": "paper",
            "y": 0.95,
            "yref": "paper"
           }
          ]
         },
         "name": "83"
        },
        {
         "data": [
          {
           "name": "Free Nodes",
           "type": "scatter3d",
           "x": {
            "bdata": "33aT4j5wnT+AHAOuzt6gP061cHDcwKI/7VXuBAaCpD9N1CoB61KmP7mpyFptXKg/HjhRtBmtqj8SZ2bWFi+tPzLxSrASsa8/xzHWM94AsT/xypybngWyP5IqxqkR7rI/Sue5OKjOsz9tfXU+sb+0P8MaTmYK07U/",
            "dtype": "f8"
           },
           "y": {
            "bdata": "XGtswwNoMz/j1LHTz6RHP5Rtx4e0SVI/KMqeun9BVj8mFghP8nJWP7JsAPbSVlI/heYV0NewRD+AEQXiASNTvvI+0swKsUS/Auybd85WUr8BvjzKz3JWv4tPeQJMQVa//oLsg4BJUr9NKWWAhKRHvzbfYHHDZzO/",
            "dtype": "f8"
           },
           "z": {
            "bdata": "gimJdGvgWL/+bKsZmiVxv/Gm/XKn5n6/pVKX7SPhhr9xvv5/nBWOv6eBF06tH5K/lP+K9og8lL8nMbd7Qf6Uv7DttkV3PJS/U0Nwno8fkr/rusetWBWOv2rhO6/k4Ia/417UzUPmfr9pz5S0WyVxv9DfY8MJ4Fi/",
            "dtype": "f8"
           }
          },
          {
           "name": "Fixed Nodes",
           "type": "scatter3d",
           "x": {
            "bdata": "fOkmMQisjD/e+X5qvHSTP/1+arx0k5g/CtejcD0Ktz9SuB6F61G4P5qZmZmZmbk/",
            "dtype": "f8"
           },
           "y": {
            "bdata": "AAAAAAAAAAAAAAAAAAAAAAAAAAAAAAAAAAAAAAAAAAAAAAAAAAAAAAAAAAAAAAAA",
            "dtype": "f8"
           },
           "z": {
            "bdata": "AAAAAAAAAAAAAAAAAAAAAAAAAAAAAAAAAAAAAAAAAAAAAAAAAAAAAAAAAAAAAAAA",
            "dtype": "f8"
           }
          },
          {
           "name": "Edges",
           "type": "scatter3d",
           "x": [
            0.014000000000000005,
            0.01900000000000001,
            null,
            0.01900000000000001,
            0.02400000000000001,
            null,
            0.02400000000000001,
            0.028748495654204894,
            null,
            0.028748495654204894,
            0.03294988512203023,
            null,
            0.03294988512203023,
            0.0366276633506951,
            null,
            0.0366276633506951,
            0.04005450067704062,
            null,
            0.04005450067704062,
            0.04360136403321544,
            null,
            0.04360136403321544,
            0.04758016331864518,
            null,
            0.04758016331864518,
            0.05210190130365809,
            null,
            0.05210190130365809,
            0.05699988715350747,
            null,
            0.05699988715350747,
            0.06189783479701062,
            null,
            0.06189783479701062,
            0.06641949430031167,
            null,
            0.06641949430031167,
            0.07039824771053894,
            null,
            0.07039824771053894,
            0.07394514460444615,
            null,
            0.07394514460444615,
            0.07737208733479153,
            null,
            0.07737208733479153,
            0.08104999327541913,
            null,
            0.08104999327541913,
            0.08525147435839657,
            null,
            0.08525147435839657,
            0.09,
            null,
            0.09,
            0.095,
            null,
            0.095,
            0.1,
            null
           ],
           "y": [
            0,
            0,
            null,
            0,
            0,
            null,
            0,
            0.0002961167514727214,
            null,
            0.0002961167514727214,
            0.0007215513973181344,
            null,
            0.0007215513973181344,
            0.0011162055007990267,
            null,
            0.0011162055007990267,
            0.0013583896020291728,
            null,
            0.0013583896020291728,
            0.0013701788230958772,
            null,
            0.0013701788230958772,
            0.001119333282992224,
            null,
            0.001119333282992224,
            0.0006314328931431168,
            null,
            0.0006314328931431168,
            -1.782248493341622e-8,
            null,
            -1.782248493341622e-8,
            -0.0006314566359310865,
            null,
            -0.0006314566359310865,
            -0.0011193290978883668,
            null,
            -0.0011193290978883668,
            -0.0013701466750254412,
            null,
            -0.0013701466750254412,
            -0.001358341434657159,
            null,
            -0.001358341434657159,
            -0.0011161570580002218,
            null,
            -0.0011161570580002218,
            -0.0007215163212006909,
            null,
            -0.0007215163212006909,
            -0.0002961017756919372,
            null,
            -0.0002961017756919372,
            0,
            null,
            0,
            0,
            null,
            0,
            0,
            null
           ],
           "z": [
            0,
            0,
            null,
            0,
            0,
            null,
            0,
            -0.0015183495871889667,
            null,
            -0.0015183495871889667,
            -0.004186250642955301,
            null,
            -0.004186250642955301,
            -0.00754418763959007,
            null,
            -0.00754418763959007,
            -0.011171608627514937,
            null,
            -0.011171608627514937,
            -0.01468965783700968,
            null,
            -0.01468965783700968,
            -0.01769896306166321,
            null,
            -0.01769896306166321,
            -0.019762172744549014,
            null,
            -0.019762172744549014,
            -0.02050115888214168,
            null,
            -0.02050115888214168,
            -0.01976190913204129,
            null,
            -0.01976190913204129,
            -0.017698520703621167,
            null,
            -0.017698520703621167,
            -0.01468915253005095,
            null,
            -0.01468915253005095,
            -0.011171137426104056,
            null,
            -0.011171137426104056,
            -0.00754381643243793,
            null,
            -0.00754381643243793,
            -0.004186018203927813,
            null,
            -0.004186018203927813,
            -0.0015182586044470876,
            null,
            -0.0015182586044470876,
            0,
            null,
            0,
            0,
            null,
            0,
            0,
            null
           ]
          },
          {
           "i": [],
           "j": [],
           "k": [],
           "name": "Faces",
           "type": "mesh3d",
           "x": {
            "bdata": "fOkmMQisjD/e+X5qvHSTP/1+arx0k5g/33aT4j5wnT+AHAOuzt6gP061cHDcwKI/7VXuBAaCpD9N1CoB61KmP7mpyFptXKg/HjhRtBmtqj8SZ2bWFi+tPzLxSrASsa8/xzHWM94AsT/xypybngWyP5IqxqkR7rI/Sue5OKjOsz9tfXU+sb+0P8MaTmYK07U/CtejcD0Ktz9SuB6F61G4P5qZmZmZmbk/",
            "dtype": "f8"
           },
           "y": {
            "bdata": "AAAAAAAAAAAAAAAAAAAAAAAAAAAAAAAAXGtswwNoMz/j1LHTz6RHP5Rtx4e0SVI/KMqeun9BVj8mFghP8nJWP7JsAPbSVlI/heYV0NewRD+AEQXiASNTvvI+0swKsUS/Auybd85WUr8BvjzKz3JWv4tPeQJMQVa//oLsg4BJUr9NKWWAhKRHvzbfYHHDZzO/AAAAAAAAAAAAAAAAAAAAAAAAAAAAAAAA",
            "dtype": "f8"
           },
           "z": {
            "bdata": "AAAAAAAAAAAAAAAAAAAAAAAAAAAAAAAAgimJdGvgWL/+bKsZmiVxv/Gm/XKn5n6/pVKX7SPhhr9xvv5/nBWOv6eBF06tH5K/lP+K9og8lL8nMbd7Qf6Uv7DttkV3PJS/U0Nwno8fkr/rusetWBWOv2rhO6/k4Ia/417UzUPmfr9pz5S0WyVxv9DfY8MJ4Fi/AAAAAAAAAAAAAAAAAAAAAAAAAAAAAAAA",
            "dtype": "f8"
           }
          }
         ],
         "layout": {
          "annotations": [
           {
            "showarrow": false,
            "text": "Time: 0.84s (Step: 85/100)",
            "x": 0.05,
            "xref": "paper",
            "y": 0.95,
            "yref": "paper"
           }
          ]
         },
         "name": "84"
        },
        {
         "data": [
          {
           "name": "Free Nodes",
           "type": "scatter3d",
           "x": {
            "bdata": "3TX8QURwnT+/Ow6E296gPwVVwxD7wKI/ZblQRTiCpD/mpfybKVOmP+QLuHGoXKg/kdMG/D2tqj8IsT+4Fi+tP34iICLusK8/rCmKesAAsT/iqccZfwWyP3TnDFn47bI/bJ/dxZjOsz+HISHCqr+0P0I+CwoJ07U/",
            "dtype": "f8"
           },
           "y": {
            "bdata": "XG8q7xSqMz/fzE0GXfVHPxx/dYoTiFI/KzJQ1HiNVj+EE/Kinb9WP3RQ7jx4lVI/fAuE9ZT3RD8AVmN1OrsvPv75zvFt90S/Y3OOVkqVUr/LimiCV79WvysfIAEpjVa/6w8Y3MuHUr/H/tUq+/RHv+rU+97DqTO/",
            "dtype": "f8"
           },
           "z": {
            "bdata": "M9e5/DHcWL9N8572GSNxv71b9Y3l4n6/NszhHtzehr+EGCpZIxOOv/B6Ro5nHpK/DGpV6z87lL+yT9NN9/yUv/kbE8MtO5S/GPLbFkkekr8e3ErA3RKOv+fb9jib3oa/IvfISX/ifr+jK8vn2SJxv7EtnaPN21i/",
            "dtype": "f8"
           }
          },
          {
           "name": "Fixed Nodes",
           "type": "scatter3d",
           "x": {
            "bdata": "fOkmMQisjD/e+X5qvHSTP/1+arx0k5g/CtejcD0Ktz9SuB6F61G4P5qZmZmZmbk/",
            "dtype": "f8"
           },
           "y": {
            "bdata": "AAAAAAAAAAAAAAAAAAAAAAAAAAAAAAAAAAAAAAAAAAAAAAAAAAAAAAAAAAAAAAAA",
            "dtype": "f8"
           },
           "z": {
            "bdata": "AAAAAAAAAAAAAAAAAAAAAAAAAAAAAAAAAAAAAAAAAAAAAAAAAAAAAAAAAAAAAAAA",
            "dtype": "f8"
           }
          },
          {
           "name": "Edges",
           "type": "scatter3d",
           "x": [
            0.014000000000000005,
            0.01900000000000001,
            null,
            0.01900000000000001,
            0.02400000000000001,
            null,
            0.02400000000000001,
            0.028748575713555147,
            null,
            0.028748575713555147,
            0.03295026766783548,
            null,
            0.03295026766783548,
            0.03662857608439122,
            null,
            0.03662857608439122,
            0.04005599828848253,
            null,
            0.04005599828848253,
            0.043603229800577556,
            null,
            0.043603229800577556,
            0.047581924325662134,
            null,
            0.047581924325662134,
            0.0521029825353373,
            null,
            0.0521029825353373,
            0.05699988364344405,
            null,
            0.05699988364344405,
            0.0618967453629624,
            null,
            0.0618967453629624,
            0.06641772262279372,
            null,
            0.06641772262279372,
            0.07039636973755806,
            null,
            0.07039636973755806,
            0.0739436356933803,
            null,
            0.0739436356933803,
            0.07737116652208237,
            null,
            0.07737116652208237,
            0.08104960669982662,
            null,
            0.08104960669982662,
            0.08525139327252254,
            null,
            0.08525139327252254,
            0.09,
            null,
            0.09,
            0.095,
            null,
            0.095,
            0.1,
            null
           ],
           "y": [
            0,
            0,
            null,
            0,
            0,
            null,
            0,
            0.0003000546559321826,
            null,
            0.0003000546559321826,
            0.0007311538907814017,
            null,
            0.0007311538907814017,
            0.0011310759380975316,
            null,
            0.0011310759380975316,
            0.0013765029882534345,
            null,
            0.0013765029882534345,
            0.00138845819654529,
            null,
            0.00138845819654529,
            0.0011342691611604646,
            null,
            0.0011342691611604646,
            0.0006398656214802035,
            null,
            0.0006398656214802035,
            3.694016574490526e-9,
            null,
            3.694016574490526e-9,
            -0.0006398474539464625,
            null,
            -0.0006398474539464625,
            -0.0011342264135471784,
            null,
            -0.0011342264135471784,
            -0.0013883928855952684,
            null,
            -0.0013883928855952684,
            -0.0013764286454733359,
            null,
            -0.0013764286454733359,
            -0.0011310091798586396,
            null,
            -0.0011310091798586396,
            -0.0007311083224265873,
            null,
            -0.0007311083224265873,
            -0.0003000357819325632,
            null,
            -0.0003000357819325632,
            0,
            null,
            0,
            0,
            null,
            0,
            0,
            null
           ],
           "z": [
            0,
            0,
            null,
            0,
            0,
            null,
            0,
            -0.0015173423916201134,
            null,
            -0.0015173423916201134,
            -0.00418386594713811,
            null,
            -0.00418386594713811,
            -0.007540604302753215,
            null,
            -0.007540604302753215,
            -0.011167258923000838,
            null,
            -0.011167258923000838,
            -0.014684940489370975,
            null,
            -0.014684940489370975,
            -0.017694109019084914,
            null,
            -0.017694109019084914,
            -0.019757269610048353,
            null,
            -0.019757269610048353,
            -0.0204962388277889,
            null,
            -0.0204962388277889,
            -0.01975699904576442,
            null,
            -0.01975699904576442,
            -0.0176936550333143,
            null,
            -0.0176936550333143,
            -0.01468442195014857,
            null,
            -0.01468442195014857,
            -0.011166775394356022,
            null,
            -0.011166775394356022,
            -0.007540223331089087,
            null,
            -0.007540223331089087,
            -0.0041836273127939,
            null,
            -0.0041836273127939,
            -0.0015172489351752245,
            null,
            -0.0015172489351752245,
            0,
            null,
            0,
            0,
            null,
            0,
            0,
            null
           ]
          },
          {
           "i": [],
           "j": [],
           "k": [],
           "name": "Faces",
           "type": "mesh3d",
           "x": {
            "bdata": "fOkmMQisjD/e+X5qvHSTP/1+arx0k5g/3TX8QURwnT+/Ow6E296gPwVVwxD7wKI/ZblQRTiCpD/mpfybKVOmP+QLuHGoXKg/kdMG/D2tqj8IsT+4Fi+tP34iICLusK8/rCmKesAAsT/iqccZfwWyP3TnDFn47bI/bJ/dxZjOsz+HISHCqr+0P0I+CwoJ07U/CtejcD0Ktz9SuB6F61G4P5qZmZmZmbk/",
            "dtype": "f8"
           },
           "y": {
            "bdata": "AAAAAAAAAAAAAAAAAAAAAAAAAAAAAAAAXG8q7xSqMz/fzE0GXfVHPxx/dYoTiFI/KzJQ1HiNVj+EE/Kinb9WP3RQ7jx4lVI/fAuE9ZT3RD8AVmN1OrsvPv75zvFt90S/Y3OOVkqVUr/LimiCV79WvysfIAEpjVa/6w8Y3MuHUr/H/tUq+/RHv+rU+97DqTO/AAAAAAAAAAAAAAAAAAAAAAAAAAAAAAAA",
            "dtype": "f8"
           },
           "z": {
            "bdata": "AAAAAAAAAAAAAAAAAAAAAAAAAAAAAAAAM9e5/DHcWL9N8572GSNxv71b9Y3l4n6/NszhHtzehr+EGCpZIxOOv/B6Ro5nHpK/DGpV6z87lL+yT9NN9/yUv/kbE8MtO5S/GPLbFkkekr8e3ErA3RKOv+fb9jib3oa/IvfISX/ifr+jK8vn2SJxv7EtnaPN21i/AAAAAAAAAAAAAAAAAAAAAAAAAAAAAAAA",
            "dtype": "f8"
           }
          }
         ],
         "layout": {
          "annotations": [
           {
            "showarrow": false,
            "text": "Time: 0.85s (Step: 86/100)",
            "x": 0.05,
            "xref": "paper",
            "y": 0.95,
            "yref": "paper"
           }
          ]
         },
         "name": "85"
        },
        {
         "data": [
          {
           "name": "Free Nodes",
           "type": "scatter3d",
           "x": {
            "bdata": "CwPTsUlwnT+KkGyA6N6gP6AJQgsawaI/h/44GGuCpD8axfLraFOmP2pqjzLkXKg/YZ+Uq2Ktqj/1JaaZFi+tP1kIEyvJsK8/G7uea6IAsT/rvZw8XwWyP09GW77e7bI/i1BpJYnOsz8wOmIypL+0PydJnKkH07U/",
            "dtype": "f8"
           },
           "y": {
            "bdata": "afrV9//rMz+VqaqHvEVIP0eX0Q5QxlI/+n/a+UjZVj+0mWaWIAxXP0FCGZP901I/2ZnMvjE+RT/wLxA+RCxfPu8tz+OgPUW/qLncJ5/TUr/BSLbtsAtXv+mM74bY2Fa/wpcgp/HFUr8TUjW+QEVIv2BjwLKb6zO/",
            "dtype": "f8"
           },
           "z": {
            "bdata": "SxXiu+vXWL9IWNVJkiBxv2vh0lsY336/HwQmeI3chr8qUIvNohCOvxPCiAYeHZK/XjrpFPM5lL800HlVqfuUv/NV33fgOZS/PIs4zP4ckr+TaWp6WxCOv9J0XPdK3Ia/REjgja/efr844R2fUCBxv+kKxNGE11i/",
            "dtype": "f8"
           }
          },
          {
           "name": "Fixed Nodes",
           "type": "scatter3d",
           "x": {
            "bdata": "fOkmMQisjD/e+X5qvHSTP/1+arx0k5g/CtejcD0Ktz9SuB6F61G4P5qZmZmZmbk/",
            "dtype": "f8"
           },
           "y": {
            "bdata": "AAAAAAAAAAAAAAAAAAAAAAAAAAAAAAAAAAAAAAAAAAAAAAAAAAAAAAAAAAAAAAAA",
            "dtype": "f8"
           },
           "z": {
            "bdata": "AAAAAAAAAAAAAAAAAAAAAAAAAAAAAAAAAAAAAAAAAAAAAAAAAAAAAAAAAAAAAAAA",
            "dtype": "f8"
           }
          },
          {
           "name": "Edges",
           "type": "scatter3d",
           "x": [
            0.014000000000000005,
            0.01900000000000001,
            null,
            0.01900000000000001,
            0.02400000000000001,
            null,
            0.02400000000000001,
            0.02874865672925168,
            null,
            0.02874865672925168,
            0.032950654675262106,
            null,
            0.032950654675262106,
            0.03662949931551229,
            null,
            0.03662949931551229,
            0.04005751295744369,
            null,
            0.04005751295744369,
            0.04360511665562168,
            null,
            0.04360511665562168,
            0.047583705112363386,
            null,
            0.047583705112363386,
            0.052104075856106,
            null,
            0.052104075856106,
            0.056999880081161004,
            null,
            0.056999880081161004,
            0.06189564371881379,
            null,
            0.06189564371881379,
            0.06641593100969738,
            null,
            0.06641593100969738,
            0.07039447049896068,
            null,
            0.07039447049896068,
            0.07394210955978874,
            null,
            0.07394210955978874,
            0.07737023509372613,
            null,
            0.07737023509372613,
            0.08104921560355005,
            null,
            0.08104921560355005,
            0.08525131121522077,
            null,
            0.08525131121522077,
            0.09,
            null,
            0.09,
            0.095,
            null,
            0.095,
            0.1,
            null
           ],
           "y": [
            0,
            0,
            null,
            0,
            0,
            null,
            0,
            0.000303983680929243,
            null,
            0.000303983680929243,
            0.0007407351070772167,
            null,
            0.0007407351070772167,
            0.0011459142508782481,
            null,
            0.0011459142508782481,
            0.0013945782333522048,
            null,
            0.0013945782333522048,
            0.001406699966176467,
            null,
            0.001406699966176467,
            0.0011491752924436412,
            null,
            0.0011491752924436412,
            0.0006482832810419905,
            null,
            0.0006482832810419905,
            2.903204066391393e-8,
            null,
            2.903204066391393e-8,
            -0.0006482158274762599,
            null,
            -0.0006482158274762599,
            -0.001149087357997661,
            null,
            -0.001149087357997661,
            -0.001406595975684641,
            null,
            -0.001406595975684641,
            -0.001394473507155431,
            null,
            -0.001394473507155431,
            -0.0011458263293291225,
            null,
            -0.0011458263293291225,
            -0.0007406774642882439,
            null,
            -0.0007406774642882439,
            -0.0003039603350330402,
            null,
            -0.0003039603350330402,
            0,
            null,
            0,
            0,
            null,
            0,
            0,
            null
           ],
           "z": [
            0,
            0,
            null,
            0,
            0,
            null,
            0,
            -0.0015163232888267427,
            null,
            -0.0015163232888267427,
            -0.004181453169925638,
            null,
            -0.004181453169925638,
            -0.007536978865737213,
            null,
            -0.007536978865737213,
            -0.011162858227864501,
            null,
            -0.011162858227864501,
            -0.014680168054305016,
            null,
            -0.014680168054305016,
            -0.0176891986358801,
            null,
            -0.0176891986358801,
            -0.019752309943493855,
            null,
            -0.019752309943493855,
            -0.02049126228526195,
            null,
            -0.02049126228526195,
            -0.019752032581740363,
            null,
            -0.019752032581740363,
            -0.017688733305600154,
            null,
            -0.017688733305600154,
            -0.014679636643724325,
            null,
            -0.014679636643724325,
            -0.011162362741340113,
            null,
            -0.011162362741340113,
            -0.0075365884386134376,
            null,
            -0.0075365884386134376,
            -0.004181208541801866,
            null,
            -0.004181208541801866,
            -0.001516227442210189,
            null,
            -0.001516227442210189,
            0,
            null,
            0,
            0,
            null,
            0,
            0,
            null
           ]
          },
          {
           "i": [],
           "j": [],
           "k": [],
           "name": "Faces",
           "type": "mesh3d",
           "x": {
            "bdata": "fOkmMQisjD/e+X5qvHSTP/1+arx0k5g/CwPTsUlwnT+KkGyA6N6gP6AJQgsawaI/h/44GGuCpD8axfLraFOmP2pqjzLkXKg/YZ+Uq2Ktqj/1JaaZFi+tP1kIEyvJsK8/G7uea6IAsT/rvZw8XwWyP09GW77e7bI/i1BpJYnOsz8wOmIypL+0PydJnKkH07U/CtejcD0Ktz9SuB6F61G4P5qZmZmZmbk/",
            "dtype": "f8"
           },
           "y": {
            "bdata": "AAAAAAAAAAAAAAAAAAAAAAAAAAAAAAAAafrV9//rMz+VqaqHvEVIP0eX0Q5QxlI/+n/a+UjZVj+0mWaWIAxXP0FCGZP901I/2ZnMvjE+RT/wLxA+RCxfPu8tz+OgPUW/qLncJ5/TUr/BSLbtsAtXv+mM74bY2Fa/wpcgp/HFUr8TUjW+QEVIv2BjwLKb6zO/AAAAAAAAAAAAAAAAAAAAAAAAAAAAAAAA",
            "dtype": "f8"
           },
           "z": {
            "bdata": "AAAAAAAAAAAAAAAAAAAAAAAAAAAAAAAASxXiu+vXWL9IWNVJkiBxv2vh0lsY336/HwQmeI3chr8qUIvNohCOvxPCiAYeHZK/XjrpFPM5lL800HlVqfuUv/NV33fgOZS/PIs4zP4ckr+TaWp6WxCOv9J0XPdK3Ia/REjgja/efr844R2fUCBxv+kKxNGE11i/AAAAAAAAAAAAAAAAAAAAAAAAAAAAAAAA",
            "dtype": "f8"
           }
          }
         ],
         "layout": {
          "annotations": [
           {
            "showarrow": false,
            "text": "Time: 0.86s (Step: 87/100)",
            "x": 0.05,
            "xref": "paper",
            "y": 0.95,
            "yref": "paper"
           }
          ]
         },
         "name": "86"
        },
        {
         "data": [
          {
           "name": "Free Nodes",
           "type": "scatter3d",
           "x": {
            "bdata": "Qq/8MU9wnT92mdWi9d6gP7VuNV85waI/aUNufJ6CpD9NS3vvqFOmP12QyZsgXag/oJ4Fwoetqj+sw5R6Fi+tP11/DsyjsK8/YlrRB4QAsT94698EPwWyP2MsSdrE7bI/lTG1V3nOsz8QBluPnb+0P4plB0UG07U/",
            "dtype": "f8"
           },
           "y": {
            "bdata": "q9Xs8sMtND+Wq+wj7ZVIP1GtNw5pBFM/mwSxvO4kVz9y5FFleVhXP09Z6PxgElM/e7iZFKqERT9QQDAPRkVuPlbD7wang0W/qIFTSM4RU79XDxIN3VdXv2bNuj5bJFe/rGG/R/IDU7/G4q+VVZVIvwnA8CFLLTS/",
            "dtype": "f8"
           },
           "z": {
            "bdata": "Ky9Vz5jTWL8wTRAlAx5xv1Omtvc/236/5DoDCjjahr/YDhrvGg6Ov2hN3L/QG5K/T4TKe6I4lL+z81eaV/qUvxnJwWqPOJS/gMs1xLAbkr9ayQnm0Q2Ov/6ADfPz2Ya/BPgdqNTafr9txNfjvx1xv+Z/SV0v01i/",
            "dtype": "f8"
           }
          },
          {
           "name": "Fixed Nodes",
           "type": "scatter3d",
           "x": {
            "bdata": "fOkmMQisjD/e+X5qvHSTP/1+arx0k5g/CtejcD0Ktz9SuB6F61G4P5qZmZmZmbk/",
            "dtype": "f8"
           },
           "y": {
            "bdata": "AAAAAAAAAAAAAAAAAAAAAAAAAAAAAAAAAAAAAAAAAAAAAAAAAAAAAAAAAAAAAAAA",
            "dtype": "f8"
           },
           "z": {
            "bdata": "AAAAAAAAAAAAAAAAAAAAAAAAAAAAAAAAAAAAAAAAAAAAAAAAAAAAAAAAAAAAAAAA",
            "dtype": "f8"
           }
          },
          {
           "name": "Edges",
           "type": "scatter3d",
           "x": [
            0.014000000000000005,
            0.01900000000000001,
            null,
            0.01900000000000001,
            0.02400000000000001,
            null,
            0.02400000000000001,
            0.028748738695113525,
            null,
            0.028748738695113525,
            0.03295104611133841,
            null,
            0.03295104611133841,
            0.03663043296066119,
            null,
            0.03663043296066119,
            0.040059044541641615,
            null,
            0.040059044541641615,
            0.043607024415584485,
            null,
            0.043607024415584485,
            0.0475855055017582,
            null,
            0.0475855055017582,
            0.052105181154556535,
            null,
            0.052105181154556535,
            0.05699987646438073,
            null,
            0.05699987646438073,
            0.06189452997136755,
            null,
            0.06189452997136755,
            0.06641411963333035,
            null,
            0.06641411963333035,
            0.0703925501729098,
            null,
            0.0703925501729098,
            0.0739405663418196,
            null,
            0.0739405663418196,
            0.07736929312995351,
            null,
            0.07736929312995351,
            0.08104882001773484,
            null,
            0.08104882001773484,
            0.08525122819209777,
            null,
            0.08525122819209777,
            0.09,
            null,
            0.09,
            0.095,
            null,
            0.095,
            0.1,
            null
           ],
           "y": [
            0,
            0,
            null,
            0,
            0,
            null,
            0,
            0.0003079036131795286,
            null,
            0.0003079036131795286,
            0.0007502944862144308,
            null,
            0.0007502944862144308,
            0.0011607194836596622,
            null,
            0.0011607194836596622,
            0.0014126140038260074,
            null,
            0.0014126140038260074,
            0.001424902487342086,
            null,
            0.001424902487342086,
            0.0011640498302135265,
            null,
            0.0011640498302135265,
            0.0006566839667365843,
            null,
            0.0006566839667365843,
            5.6383386758227664e-8,
            null,
            5.6383386758227664e-8,
            -0.000656563335608688,
            null,
            -0.000656563335608688,
            -0.0011639132001662698,
            null,
            -0.0011639132001662698,
            -0.0014247568799711974,
            null,
            -0.0014247568799711974,
            -0.0014124766411612532,
            null,
            -0.0014124766411612532,
            -0.001160608865566552,
            null,
            -0.001160608865566552,
            -0.0007502239126316527,
            null,
            -0.0007502239126316527,
            -0.0003078754834318081,
            null,
            -0.0003078754834318081,
            0,
            null,
            0,
            0,
            null,
            0,
            0,
            null
           ],
           "z": [
            0,
            0,
            null,
            0,
            0,
            null,
            0,
            -0.0015152923854939253,
            null,
            -0.0015152923854939253,
            -0.00417901256971058,
            null,
            -0.00417901256971058,
            -0.007533311723287267,
            null,
            -0.007533311723287267,
            -0.01115840702587207,
            null,
            -0.01115840702587207,
            -0.014675341054732824,
            null,
            -0.014675341054732824,
            -0.01768423243545439,
            null,
            -0.01768423243545439,
            -0.019747294240577692,
            null,
            -0.019747294240577692,
            -0.020486229701407854,
            null,
            -0.020486229701407854,
            -0.019747010126999507,
            null,
            -0.019747010126999507,
            -0.01768375585147508,
            null,
            -0.01768375585147508,
            -0.014674796898564924,
            null,
            -0.014674796898564924,
            -0.011157899718171379,
            null,
            -0.011157899718171379,
            -0.0075329119589451245,
            null,
            -0.0075329119589451245,
            -0.004178762026172495,
            null,
            -0.004178762026172495,
            -0.0015151941817279579,
            null,
            -0.0015151941817279579,
            0,
            null,
            0,
            0,
            null,
            0,
            0,
            null
           ]
          },
          {
           "i": [],
           "j": [],
           "k": [],
           "name": "Faces",
           "type": "mesh3d",
           "x": {
            "bdata": "fOkmMQisjD/e+X5qvHSTP/1+arx0k5g/Qq/8MU9wnT92mdWi9d6gP7VuNV85waI/aUNufJ6CpD9NS3vvqFOmP12QyZsgXag/oJ4Fwoetqj+sw5R6Fi+tP11/DsyjsK8/YlrRB4QAsT94698EPwWyP2MsSdrE7bI/lTG1V3nOsz8QBluPnb+0P4plB0UG07U/CtejcD0Ktz9SuB6F61G4P5qZmZmZmbk/",
            "dtype": "f8"
           },
           "y": {
            "bdata": "AAAAAAAAAAAAAAAAAAAAAAAAAAAAAAAAq9Xs8sMtND+Wq+wj7ZVIP1GtNw5pBFM/mwSxvO4kVz9y5FFleVhXP09Z6PxgElM/e7iZFKqERT9QQDAPRkVuPlbD7wang0W/qIFTSM4RU79XDxIN3VdXv2bNuj5bJFe/rGG/R/IDU7/G4q+VVZVIvwnA8CFLLTS/AAAAAAAAAAAAAAAAAAAAAAAAAAAAAAAA",
            "dtype": "f8"
           },
           "z": {
            "bdata": "AAAAAAAAAAAAAAAAAAAAAAAAAAAAAAAAKy9Vz5jTWL8wTRAlAx5xv1Omtvc/236/5DoDCjjahr/YDhrvGg6Ov2hN3L/QG5K/T4TKe6I4lL+z81eaV/qUvxnJwWqPOJS/gMs1xLAbkr9ayQnm0Q2Ov/6ADfPz2Ya/BPgdqNTafr9txNfjvx1xv+Z/SV0v01i/AAAAAAAAAAAAAAAAAAAAAAAAAAAAAAAA",
            "dtype": "f8"
           }
          }
         ],
         "layout": {
          "annotations": [
           {
            "showarrow": false,
            "text": "Time: 0.87s (Step: 88/100)",
            "x": 0.05,
            "xref": "paper",
            "y": 0.95,
            "yref": "paper"
           }
          ]
         },
         "name": "87"
        },
        {
         "data": [
          {
           "name": "Free Nodes",
           "type": "scatter3d",
           "x": {
            "bdata": "jMtdwlRwnT/qTQDrAt+gP8X15AtZwaI/3tS1cNKCpD92HQKl6VOmPxYx36tdXag//mZjPq2tqj9mHAZbFi+tPy7s/QV+sK8/KAbgT2UAsT8Tp1VzHgWyP+vmbq2q7bI/H6wZXWnOsz8y0C3Zlr+0P9e8UtwE07U/",
            "dtype": "f8"
           },
           "y": {
            "bdata": "PdOE9l9vND+LJq2n7eVIP8iMEYJdQlM/n77RrWhwVz+CtFNKpqRXP4CjXHygUFM/hJBX2PnKRT/sl/VZHod2PlKEP8qDyUW/nEtiGtlPU7+jxZ3m3KNXv0mdptexb1e/RODPI85BU7/r8CMQOuVIvwe4nWTSbjS/",
            "dtype": "f8"
           },
           "z": {
            "bdata": "HMf7VDnPWL8nE2yabBtxvzmsTH1c136/bc9t5dvXhr/zVSXQiwuOv3iyZMN/GpK//pWWKE43lL8i7CMkAvmUvzAiWaI6N5S/qRxvBF8akr96IdYMQQuOvwzhczSW14a/v3wrpu7Wfr+q3Qm/Jxtxv+lqQFXNzli/",
            "dtype": "f8"
           }
          },
          {
           "name": "Fixed Nodes",
           "type": "scatter3d",
           "x": {
            "bdata": "fOkmMQisjD/e+X5qvHSTP/1+arx0k5g/CtejcD0Ktz9SuB6F61G4P5qZmZmZmbk/",
            "dtype": "f8"
           },
           "y": {
            "bdata": "AAAAAAAAAAAAAAAAAAAAAAAAAAAAAAAAAAAAAAAAAAAAAAAAAAAAAAAAAAAAAAAA",
            "dtype": "f8"
           },
           "z": {
            "bdata": "AAAAAAAAAAAAAAAAAAAAAAAAAAAAAAAAAAAAAAAAAAAAAAAAAAAAAAAAAAAAAAAA",
            "dtype": "f8"
           }
          },
          {
           "name": "Edges",
           "type": "scatter3d",
           "x": [
            0.014000000000000005,
            0.01900000000000001,
            null,
            0.01900000000000001,
            0.02400000000000001,
            null,
            0.02400000000000001,
            0.028748821604903038,
            null,
            0.028748821604903038,
            0.03295144194285256,
            null,
            0.03295144194285256,
            0.036631376935911265,
            null,
            0.036631376935911265,
            0.04006059289796736,
            null,
            0.04006059289796736,
            0.04360895289670001,
            null,
            0.04360895289670001,
            0.04758732531590419,
            null,
            0.04758732531590419,
            0.05210629831863221,
            null,
            0.05210629831863221,
            0.056999872790634495,
            null,
            0.056999872790634495,
            0.06189340422766808,
            null,
            0.06189340422766808,
            0.06641228866649185,
            null,
            0.06641228866649185,
            0.0703906089380804,
            null,
            0.0703906089380804,
            0.07393900617799047,
            null,
            0.07393900617799047,
            0.07736834071117514,
            null,
            0.07736834071117514,
            0.0810484199735704,
            null,
            0.0810484199735704,
            0.08525114420875766,
            null,
            0.08525114420875766,
            0.09,
            null,
            0.09,
            0.095,
            null,
            0.095,
            0.1,
            null
           ],
           "y": [
            0,
            0,
            null,
            0,
            0,
            null,
            0,
            0.00031181423993880184,
            null,
            0.00031181423993880184,
            0.00075983146903376,
            null,
            0.00075983146903376,
            0.0011754906811567867,
            null,
            0.0011754906811567867,
            0.0014306089645081189,
            null,
            0.0014306089645081189,
            0.0014430641106699953,
            null,
            0.0014430641106699953,
            0.0011788909191159103,
            null,
            0.0011788909191159103,
            0.0006650657602986919,
            null,
            0.0006650657602986919,
            8.392262039954565e-8,
            null,
            8.392262039954565e-8,
            -0.0006648915773405184,
            null,
            -0.0006648915773405184,
            -0.001178705229482025,
            null,
            -0.001178705229482025,
            -0.001442876552087171,
            null,
            -0.001442876552087171,
            -0.0014304386846591569,
            null,
            -0.0014304386846591569,
            -0.0011753571591253268,
            null,
            -0.0011753571591253268,
            -0.000759747840021,
            null,
            -0.000759747840021,
            -0.0003117812781202604,
            null,
            -0.0003117812781202604,
            0,
            null,
            0,
            0,
            null,
            0,
            0,
            null
           ],
           "z": [
            0,
            0,
            null,
            0,
            0,
            null,
            0,
            -0.0015142497904289736,
            null,
            -0.0015142497904289736,
            -0.00417654441003349,
            null,
            -0.00417654441003349,
            -0.007529603278082547,
            null,
            -0.007529603278082547,
            -0.01115390581046657,
            null,
            -0.01115390581046657,
            -0.014670460023505227,
            null,
            -0.014670460023505227,
            -0.017679210949767626,
            null,
            -0.017679210949767626,
            -0.019742223002728203,
            null,
            -0.019742223002728203,
            -0.020481141525106612,
            null,
            -0.020481141525106612,
            -0.019741932066866308,
            null,
            -0.019741932066866308,
            -0.017678722997314242,
            null,
            -0.017678722997314242,
            -0.014669902996289553,
            null,
            -0.014669902996289553,
            -0.011153386569717337,
            null,
            -0.011153386569717337,
            -0.0075291940908918656,
            null,
            -0.0075291940908918656,
            -0.0041762878978412275,
            null,
            -0.0041762878978412275,
            -0.001514149208566346,
            null,
            -0.001514149208566346,
            0,
            null,
            0,
            0,
            null,
            0,
            0,
            null
           ]
          },
          {
           "i": [],
           "j": [],
           "k": [],
           "name": "Faces",
           "type": "mesh3d",
           "x": {
            "bdata": "fOkmMQisjD/e+X5qvHSTP/1+arx0k5g/jMtdwlRwnT/qTQDrAt+gP8X15AtZwaI/3tS1cNKCpD92HQKl6VOmPxYx36tdXag//mZjPq2tqj9mHAZbFi+tPy7s/QV+sK8/KAbgT2UAsT8Tp1VzHgWyP+vmbq2q7bI/H6wZXWnOsz8y0C3Zlr+0P9e8UtwE07U/CtejcD0Ktz9SuB6F61G4P5qZmZmZmbk/",
            "dtype": "f8"
           },
           "y": {
            "bdata": "AAAAAAAAAAAAAAAAAAAAAAAAAAAAAAAAPdOE9l9vND+LJq2n7eVIP8iMEYJdQlM/n77RrWhwVz+CtFNKpqRXP4CjXHygUFM/hJBX2PnKRT/sl/VZHod2PlKEP8qDyUW/nEtiGtlPU7+jxZ3m3KNXv0mdptexb1e/RODPI85BU7/r8CMQOuVIvwe4nWTSbjS/AAAAAAAAAAAAAAAAAAAAAAAAAAAAAAAA",
            "dtype": "f8"
           },
           "z": {
            "bdata": "AAAAAAAAAAAAAAAAAAAAAAAAAAAAAAAAHMf7VDnPWL8nE2yabBtxvzmsTH1c136/bc9t5dvXhr/zVSXQiwuOv3iyZMN/GpK//pWWKE43lL8i7CMkAvmUvzAiWaI6N5S/qRxvBF8akr96IdYMQQuOvwzhczSW14a/v3wrpu7Wfr+q3Qm/Jxtxv+lqQFXNzli/AAAAAAAAAAAAAAAAAAAAAAAAAAAAAAAA",
            "dtype": "f8"
           }
          }
         ],
         "layout": {
          "annotations": [
           {
            "showarrow": false,
            "text": "Time: 0.88s (Step: 89/100)",
            "x": 0.05,
            "xref": "paper",
            "y": 0.95,
            "yref": "paper"
           }
          ]
         },
         "name": "88"
        },
        {
         "data": [
          {
           "name": "Free Nodes",
           "type": "scatter3d",
           "x": {
            "bdata": "vMnaYlpwnT9+VqNYEN+gPzlPlxB5waI/u73T8waDpD+Gi/EKK1SmP4p/R2GbXag/PKC2H9Otqj8zvvQ6Fi+tP7mXzdlXsK8//3aJREYAsT9CKMOI/QSyP2ZcZTiQ7bI/5YPvNVnOsz8qB/0PkL+0Pwl/hG8D07U/",
            "dtype": "f8"
           },
           "y": {
            "bdata": "6ZMIItOwND9RohnsvDVJP+1X0m4sgFM/s+wbbrW7Vz+xRU+UpfBXP/XNHSu6jlM/5N54Hh0RRj+sHjnZcYF9PhQ8em06D0a/cXEO7MCNU7808SBwse9Xv3960vTcule/VARUmYV/U7/z4wGE7jRJv8XC6awxsDS/",
            "dtype": "f8"
           },
           "z": {
            "bdata": "mnHYas3KWL/xTxS8zhhxvwozWAhu036/IVpoG3nVhr9hwwuD9QiOv3GsTRorGZK/qRLzI/Y1lL+YUZz6qPeUv39gTCXiNZS/NwaIkgkZkr9cHYz4qAiOv8CfB8Qx1Ya/fY/Jlf3Sfr+rsNQ5iBhxv+bJ1cheyli/",
            "dtype": "f8"
           }
          },
          {
           "name": "Fixed Nodes",
           "type": "scatter3d",
           "x": {
            "bdata": "fOkmMQisjD/e+X5qvHSTP/1+arx0k5g/CtejcD0Ktz9SuB6F61G4P5qZmZmZmbk/",
            "dtype": "f8"
           },
           "y": {
            "bdata": "AAAAAAAAAAAAAAAAAAAAAAAAAAAAAAAAAAAAAAAAAAAAAAAAAAAAAAAAAAAAAAAA",
            "dtype": "f8"
           },
           "z": {
            "bdata": "AAAAAAAAAAAAAAAAAAAAAAAAAAAAAAAAAAAAAAAAAAAAAAAAAAAAAAAAAAAAAAAA",
            "dtype": "f8"
           }
          },
          {
           "name": "Edges",
           "type": "scatter3d",
           "x": [
            0.014000000000000005,
            0.01900000000000001,
            null,
            0.01900000000000001,
            0.02400000000000001,
            null,
            0.02400000000000001,
            0.028748905452354853,
            null,
            0.028748905452354853,
            0.03295184213645273,
            null,
            0.03295184213645273,
            0.03663233115699289,
            null,
            0.03663233115699289,
            0.04006215788274,
            null,
            0.04006215788274,
            0.043610901914482844,
            null,
            0.043610901914482844,
            0.04758916437617618,
            null,
            0.04758916437617618,
            0.05210742723585368,
            null,
            0.05210742723585368,
            0.05699986905744616,
            null,
            0.05699986905744616,
            0.061892266595165286,
            null,
            0.061892266595165286,
            0.06641043828264158,
            null,
            0.06641043828264158,
            0.0703886469738402,
            null,
            0.0703886469738402,
            0.07393742920736343,
            null,
            0.07393742920736343,
            0.07736737791812194,
            null,
            0.07736737791812194,
            0.08104801550237242,
            null,
            0.08104801550237242,
            0.08525105927082789,
            null,
            0.08525105927082789,
            0.09,
            null,
            0.09,
            0.095,
            null,
            0.095,
            0.1,
            null
           ],
           "y": [
            0,
            0,
            null,
            0,
            0,
            null,
            0,
            0.00031571535694957395,
            null,
            0.00031571535694957395,
            0.0007693455192568454,
            null,
            0.0007693455192568454,
            0.0011902269282351122,
            null,
            0.0011902269282351122,
            0.001448561838002499,
            null,
            0.001448561838002499,
            0.0014611832605065762,
            null,
            0.0014611832605065762,
            0.0011936967898379368,
            null,
            0.0011936967898379368,
            0.000673426836278215,
            null,
            0.000673426836278215,
            1.0991708725940891e-7,
            null,
            1.0991708725940891e-7,
            -0.0006732020655863002,
            null,
            -0.0006732020655863002,
            -0.0011934646611058942,
            null,
            -0.0011934646611058942,
            -0.0014609558861727436,
            null,
            -0.0014609558861727436,
            -0.0014483602310872144,
            null,
            -0.0014483602310872144,
            -0.0011900715520030318,
            null,
            -0.0011900715520030318,
            -0.0007692494036880534,
            null,
            -0.0007692494036880534,
            -0.00031567776469558175,
            null,
            -0.00031567776469558175,
            0,
            null,
            0,
            0,
            null,
            0,
            0,
            null
           ],
           "z": [
            0,
            0,
            null,
            0,
            0,
            null,
            0,
            -0.0015131956128079161,
            null,
            -0.0015131956128079161,
            -0.004174048955309915,
            null,
            -0.004174048955309915,
            -0.007525853934123425,
            null,
            -0.007525853934123425,
            -0.011149355076708169,
            null,
            -0.011149355076708169,
            -0.014665525495247857,
            null,
            -0.014665525495247857,
            -0.017674134712632076,
            null,
            -0.017674134712632076,
            -0.01973709673326832,
            null,
            -0.01973709673326832,
            -0.020475998207147933,
            null,
            -0.020475998207147933,
            -0.019736798788557493,
            null,
            -0.019736798788557493,
            -0.017673635071338203,
            null,
            -0.017673635071338203,
            -0.014664955220281932,
            null,
            -0.014664955220281932,
            -0.011148823542455832,
            null,
            -0.011148823542455832,
            -0.00752543503458358,
            null,
            -0.00752543503458358,
            -0.004173786289623542,
            null,
            -0.004173786289623542,
            -0.0015130925779344106,
            null,
            -0.0015130925779344106,
            0,
            null,
            0,
            0,
            null,
            0,
            0,
            null
           ]
          },
          {
           "i": [],
           "j": [],
           "k": [],
           "name": "Faces",
           "type": "mesh3d",
           "x": {
            "bdata": "fOkmMQisjD/e+X5qvHSTP/1+arx0k5g/vMnaYlpwnT9+VqNYEN+gPzlPlxB5waI/u73T8waDpD+Gi/EKK1SmP4p/R2GbXag/PKC2H9Otqj8zvvQ6Fi+tP7mXzdlXsK8//3aJREYAsT9CKMOI/QSyP2ZcZTiQ7bI/5YPvNVnOsz8qB/0PkL+0Pwl/hG8D07U/CtejcD0Ktz9SuB6F61G4P5qZmZmZmbk/",
            "dtype": "f8"
           },
           "y": {
            "bdata": "AAAAAAAAAAAAAAAAAAAAAAAAAAAAAAAA6ZMIItOwND9RohnsvDVJP+1X0m4sgFM/s+wbbrW7Vz+xRU+UpfBXP/XNHSu6jlM/5N54Hh0RRj+sHjnZcYF9PhQ8em06D0a/cXEO7MCNU7808SBwse9Xv3960vTcule/VARUmYV/U7/z4wGE7jRJv8XC6awxsDS/AAAAAAAAAAAAAAAAAAAAAAAAAAAAAAAA",
            "dtype": "f8"
           },
           "z": {
            "bdata": "AAAAAAAAAAAAAAAAAAAAAAAAAAAAAAAAmnHYas3KWL/xTxS8zhhxvwozWAhu036/IVpoG3nVhr9hwwuD9QiOv3GsTRorGZK/qRLzI/Y1lL+YUZz6qPeUv39gTCXiNZS/NwaIkgkZkr9cHYz4qAiOv8CfB8Qx1Ya/fY/Jlf3Sfr+rsNQ5iBhxv+bJ1cheyli/AAAAAAAAAAAAAAAAAAAAAAAAAAAAAAAA",
            "dtype": "f8"
           }
          }
         ],
         "layout": {
          "annotations": [
           {
            "showarrow": false,
            "text": "Time: 0.89s (Step: 90/100)",
            "x": 0.05,
            "xref": "paper",
            "y": 0.95,
            "yref": "paper"
           }
          ]
         },
         "name": "89"
        },
        {
         "data": [
          {
           "name": "Free Nodes",
           "type": "scatter3d",
           "x": {
            "bdata": "QhxYE2BwnT8sRHXrHd+gPx7RkmyZwaI/M1OLBDyDpD+U7LIfbVSmP1jCeLrZXag/r4AHZfmtqj+xl1saFi+tP/4Ia0gxsK8/zk2N5iYAsT8qm+5F3ASyP9M8xnt17bI/bP2P4kjOsz+0U+szib+0P7zpov4B07U/",
            "dtype": "f8"
           },
           "y": {
            "bdata": "1Yz4pRzyND/2tLfhWYVJP1Qrue3UvVM/BYvXvNMGWD/InZq5dTxYP2uiqVGszFM/QXBWYhBXRj94QgHX09OBPklBKM3NVEa/vNnC34bLU79Redh7WztYvwpE0B7dBVi/3N+w9Bi9U7/AgYc0c4RJv9E/Rx9p8TS/",
            "dtype": "f8"
           },
           "z": {
            "bdata": "w5iQLlXGWL/PffubKRZxv/tpQ7R0z36/dDq/vA/Thr/2TfYZWAaOv8Gkrs3SF5K/1J59dpo0lL+jloclTPaUvzcWWvqFNJS/PZtHdLAXkr+aOzuzCQaOv1CfkarG0oa/Nps9hQHPfr+e665d4RVxv5fBxMfjxVi/",
            "dtype": "f8"
           }
          },
          {
           "name": "Fixed Nodes",
           "type": "scatter3d",
           "x": {
            "bdata": "fOkmMQisjD/e+X5qvHSTP/1+arx0k5g/CtejcD0Ktz9SuB6F61G4P5qZmZmZmbk/",
            "dtype": "f8"
           },
           "y": {
            "bdata": "AAAAAAAAAAAAAAAAAAAAAAAAAAAAAAAAAAAAAAAAAAAAAAAAAAAAAAAAAAAAAAAA",
            "dtype": "f8"
           },
           "z": {
            "bdata": "AAAAAAAAAAAAAAAAAAAAAAAAAAAAAAAAAAAAAAAAAAAAAAAAAAAAAAAAAAAAAAAA",
            "dtype": "f8"
           }
          },
          {
           "name": "Edges",
           "type": "scatter3d",
           "x": [
            0.014000000000000005,
            0.01900000000000001,
            null,
            0.01900000000000001,
            0.02400000000000001,
            null,
            0.02400000000000001,
            0.028748990231204148,
            null,
            0.028748990231204148,
            0.03295224665874516,
            null,
            0.03295224665874516,
            0.036633295539475905,
            null,
            0.036633295539475905,
            0.04006373935195597,
            null,
            0.04006373935195597,
            0.04361287128400551,
            null,
            0.04361287128400551,
            0.047591022503529146,
            null,
            0.047591022503529146,
            0.05210856779354011,
            null,
            0.05210856779354011,
            0.056999865262511114,
            null,
            0.056999865262511114,
            0.06189111718187411,
            null,
            0.06189111718187411,
            0.06640856865606468,
            null,
            0.06640856865606468,
            0.07038666446042599,
            null,
            0.07038666446042599,
            0.07393583556971643,
            null,
            0.07393583556971643,
            0.07736640483198237,
            null,
            0.07736640483198237,
            0.08104760663566318,
            null,
            0.08104760663566318,
            0.0852509733839843,
            null,
            0.0852509733839843,
            0.09,
            null,
            0.09,
            0.095,
            null,
            0.095,
            0.1,
            null
           ],
           "y": [
            0,
            0,
            null,
            0,
            0,
            null,
            0,
            0.00031960677549332006,
            null,
            0.00031960677549332006,
            0.000778836143067756,
            null,
            0.000778836143067756,
            0.0012049273854184044,
            null,
            0.0012049273854184044,
            0.0014664714575409199,
            null,
            0.0014664714575409199,
            0.0014792585047106333,
            null,
            0.0014792585047106333,
            0.0012084658434564864,
            null,
            0.0012084658434564864,
            0.0006817655563966589,
            null,
            0.0006817655563966589,
            1.328248617782004e-7,
            null,
            1.328248617782004e-7,
            -0.0006814961328150206,
            null,
            -0.0006814961328150206,
            -0.0012081925515708821,
            null,
            -0.0012081925515708821,
            -0.0014789956470689545,
            null,
            -0.0014789956470689545,
            -0.0014662417772834968,
            null,
            -0.0014662417772834968,
            -0.0012047523221223521,
            null,
            -0.0012047523221223521,
            -0.0007787287259440265,
            null,
            -0.0007787287259440265,
            -0.00031956497630591685,
            null,
            -0.00031956497630591685,
            0,
            null,
            0,
            0,
            null,
            0,
            0,
            null
           ],
           "z": [
            0,
            0,
            null,
            0,
            0,
            null,
            0,
            -0.0015121299604828199,
            null,
            -0.0015121299604828199,
            -0.004171526466705668,
            null,
            -0.004171526466705668,
            -0.007522064090347498,
            null,
            -0.007522064090347498,
            -0.011144755313492662,
            null,
            -0.011144755313492662,
            -0.01466053799848675,
            null,
            -0.01466053799848675,
            -0.01766900425323992,
            null,
            -0.01766900425323992,
            -0.019731915933703117,
            null,
            -0.019731915933703117,
            -0.020470800200107175,
            null,
            -0.020470800200107175,
            -0.01973161068464987,
            null,
            -0.01973161068464987,
            -0.01766849240984957,
            null,
            -0.01766849240984957,
            -0.014659953863341891,
            null,
            -0.014659953863341891,
            -0.011144210892055334,
            null,
            -0.011144210892055334,
            -0.00752163499769303,
            null,
            -0.00752163499769303,
            -0.004171257339232874,
            null,
            -0.004171257339232874,
            -0.001512024347061302,
            null,
            -0.001512024347061302,
            0,
            null,
            0,
            0,
            null,
            0,
            0,
            null
           ]
          },
          {
           "i": [],
           "j": [],
           "k": [],
           "name": "Faces",
           "type": "mesh3d",
           "x": {
            "bdata": "fOkmMQisjD/e+X5qvHSTP/1+arx0k5g/QhxYE2BwnT8sRHXrHd+gPx7RkmyZwaI/M1OLBDyDpD+U7LIfbVSmP1jCeLrZXag/r4AHZfmtqj+xl1saFi+tP/4Ia0gxsK8/zk2N5iYAsT8qm+5F3ASyP9M8xnt17bI/bP2P4kjOsz+0U+szib+0P7zpov4B07U/CtejcD0Ktz9SuB6F61G4P5qZmZmZmbk/",
            "dtype": "f8"
           },
           "y": {
            "bdata": "AAAAAAAAAAAAAAAAAAAAAAAAAAAAAAAA1Yz4pRzyND/2tLfhWYVJP1Qrue3UvVM/BYvXvNMGWD/InZq5dTxYP2uiqVGszFM/QXBWYhBXRj94QgHX09OBPklBKM3NVEa/vNnC34bLU79Redh7WztYvwpE0B7dBVi/3N+w9Bi9U7/AgYc0c4RJv9E/Rx9p8TS/AAAAAAAAAAAAAAAAAAAAAAAAAAAAAAAA",
            "dtype": "f8"
           },
           "z": {
            "bdata": "AAAAAAAAAAAAAAAAAAAAAAAAAAAAAAAAw5iQLlXGWL/PffubKRZxv/tpQ7R0z36/dDq/vA/Thr/2TfYZWAaOv8Gkrs3SF5K/1J59dpo0lL+jloclTPaUvzcWWvqFNJS/PZtHdLAXkr+aOzuzCQaOv1CfkarG0oa/Nps9hQHPfr+e665d4RVxv5fBxMfjxVi/AAAAAAAAAAAAAAAAAAAAAAAAAAAAAAAA",
            "dtype": "f8"
           }
          }
         ],
         "layout": {
          "annotations": [
           {
            "showarrow": false,
            "text": "Time: 0.90s (Step: 91/100)",
            "x": 0.05,
            "xref": "paper",
            "y": 0.95,
            "yref": "paper"
           }
          ]
         },
         "name": "90"
        },
        {
         "data": [
          {
           "name": "Free Nodes",
           "type": "scatter3d",
           "x": {
            "bdata": "f1O602VwnT8uwyyjK9+gPzHWHR+6waI/77afoXGDpD/KL6/hr1SmPzLd6LUYXqg/J0BeDSCuqj/5Uzb5FS+tP85VxVIKsK8/ST2sNgcAsT8oTZ+rugSyPzQtLHha7bI/BQFVYzjOsz8+rRtFgr+0P5VOtIkA07U/",
            "dtype": "f8"
           },
           "y": {
            "bdata": "OrVIyjszNT8pmz2Zw9RJP5Y02DRW+1M/vgOrg8JRWD+n5stnFYhYP1o6b3p1ClQ/QkTxsNCcRj8SIFzuOFGEPuav2jdAmka/jmEz2SsJVL91rqeo24ZYv0b6rLeyUFi/gUmmaIj6U78ssuVIyNNJv2Z5Gcx4MjW/",
            "dtype": "f8"
           },
           "z": {
            "bdata": "dccAvdDBWL9OTZlLfRNxv/DeuZtwy36/Ca/K2Z/Qhr94nZmmswOOv8nvcOZ2FpK/SRO9KDszlL+AfLOs6/SUvwUiZigmM5S/xTSxr1MWkr+ygoJHYwOOvza/Z/FU0Ia/2XO0g/rKfr9dKKU0MxNxv+xDv2JcwVi/",
            "dtype": "f8"
           }
          },
          {
           "name": "Fixed Nodes",
           "type": "scatter3d",
           "x": {
            "bdata": "fOkmMQisjD/e+X5qvHSTP/1+arx0k5g/CtejcD0Ktz9SuB6F61G4P5qZmZmZmbk/",
            "dtype": "f8"
           },
           "y": {
            "bdata": "AAAAAAAAAAAAAAAAAAAAAAAAAAAAAAAAAAAAAAAAAAAAAAAAAAAAAAAAAAAAAAAA",
            "dtype": "f8"
           },
           "z": {
            "bdata": "AAAAAAAAAAAAAAAAAAAAAAAAAAAAAAAAAAAAAAAAAAAAAAAAAAAAAAAAAAAAAAAA",
            "dtype": "f8"
           }
          },
          {
           "name": "Edges",
           "type": "scatter3d",
           "x": [
            0.014000000000000005,
            0.01900000000000001,
            null,
            0.01900000000000001,
            0.02400000000000001,
            null,
            0.02400000000000001,
            0.028749075935212694,
            null,
            0.028749075935212694,
            0.03295265547638447,
            null,
            0.03295265547638447,
            0.03663426999893849,
            null,
            0.03663426999893849,
            0.04006533716152016,
            null,
            0.04006533716152016,
            0.043614860820155935,
            null,
            0.043614860820155935,
            0.04759289951874236,
            null,
            0.04759289951874236,
            0.0521097198790133,
            null,
            0.0521097198790133,
            0.05699986140385955,
            null,
            0.05699986140385955,
            0.061889956096517915,
            null,
            0.061889956096517915,
            0.066406679962019,
            null,
            0.066406679962019,
            0.07038466157910206,
            null,
            0.07038466157910206,
            0.07393422540569788,
            null,
            0.07393422540569788,
            0.07736542153452682,
            null,
            0.07736542153452682,
            0.08104719340524455,
            null,
            0.08104719340524455,
            0.0852508865539739,
            null,
            0.0852508865539739,
            0.09,
            null,
            0.09,
            0.095,
            null,
            0.095,
            0.1,
            null
           ],
           "y": [
            0,
            0,
            null,
            0,
            0,
            null,
            0,
            0.00032348832818026067,
            null,
            0.00032348832818026067,
            0.000788302905203907,
            null,
            0.000788302905203907,
            0.0012195913180932708,
            null,
            0.0012195913180932708,
            0.0014843368104921896,
            null,
            0.0014843368104921896,
            0.0014972886121413038,
            null,
            0.0014972886121413038,
            0.0012231967209463041,
            null,
            0.0012231967209463041,
            0.0006900805473241194,
            null,
            0.0006900805473241194,
            1.5137549452142822e-7,
            null,
            1.5137549452142822e-7,
            -0.0006897748532614905,
            null,
            -0.0006897748532614905,
            -0.0012228897292541926,
            null,
            -0.0012228897292541926,
            -0.0014969964128067868,
            null,
            -0.0014969964128067868,
            -0.0014840836799546882,
            null,
            -0.0014840836799546882,
            -0.0012193996541084164,
            null,
            -0.0012193996541084164,
            -0.0007881858780770016,
            null,
            -0.0007881858780770016,
            -0.00032344292785592974,
            null,
            -0.00032344292785592974,
            0,
            null,
            0,
            0,
            null,
            0,
            0,
            null
           ],
           "z": [
            0,
            0,
            null,
            0,
            0,
            null,
            0,
            -0.0015110529384511882,
            null,
            -0.0015110529384511882,
            -0.004168977198406877,
            null,
            -0.004168977198406877,
            -0.0075182341348562914,
            null,
            -0.0075182341348562914,
            -0.011140106996513592,
            null,
            -0.011140106996513592,
            -0.014655498048525159,
            null,
            -0.014655498048525159,
            -0.017663820090305458,
            null,
            -0.017663820090305458,
            -0.019726681100354502,
            null,
            -0.019726681100354502,
            -0.020465547958221197,
            null,
            -0.020465547958221197,
            -0.019726368156201008,
            null,
            -0.019726368156201008,
            -0.01766329536285551,
            null,
            -0.01766329536285551,
            -0.014654899234586825,
            null,
            -0.014654899234586825,
            -0.01113954889021294,
            null,
            -0.01113954889021294,
            -0.007517794201047112,
            null,
            -0.007517794201047112,
            -0.004168701192904659,
            null,
            -0.004168701192904659,
            -0.001510944576683433,
            null,
            -0.001510944576683433,
            0,
            null,
            0,
            0,
            null,
            0,
            0,
            null
           ]
          },
          {
           "i": [],
           "j": [],
           "k": [],
           "name": "Faces",
           "type": "mesh3d",
           "x": {
            "bdata": "fOkmMQisjD/e+X5qvHSTP/1+arx0k5g/f1O602VwnT8uwyyjK9+gPzHWHR+6waI/77afoXGDpD/KL6/hr1SmPzLd6LUYXqg/J0BeDSCuqj/5Uzb5FS+tP85VxVIKsK8/ST2sNgcAsT8oTZ+rugSyPzQtLHha7bI/BQFVYzjOsz8+rRtFgr+0P5VOtIkA07U/CtejcD0Ktz9SuB6F61G4P5qZmZmZmbk/",
            "dtype": "f8"
           },
           "y": {
            "bdata": "AAAAAAAAAAAAAAAAAAAAAAAAAAAAAAAAOrVIyjszNT8pmz2Zw9RJP5Y02DRW+1M/vgOrg8JRWD+n5stnFYhYP1o6b3p1ClQ/QkTxsNCcRj8SIFzuOFGEPuav2jdAmka/jmEz2SsJVL91rqeo24ZYv0b6rLeyUFi/gUmmaIj6U78ssuVIyNNJv2Z5Gcx4MjW/AAAAAAAAAAAAAAAAAAAAAAAAAAAAAAAA",
            "dtype": "f8"
           },
           "z": {
            "bdata": "AAAAAAAAAAAAAAAAAAAAAAAAAAAAAAAAdccAvdDBWL9OTZlLfRNxv/DeuZtwy36/Ca/K2Z/Qhr94nZmmswOOv8nvcOZ2FpK/SRO9KDszlL+AfLOs6/SUvwUiZigmM5S/xTSxr1MWkr+ygoJHYwOOvza/Z/FU0Ia/2XO0g/rKfr9dKKU0MxNxv+xDv2JcwVi/AAAAAAAAAAAAAAAAAAAAAAAAAAAAAAAA",
            "dtype": "f8"
           }
          }
         ],
         "layout": {
          "annotations": [
           {
            "showarrow": false,
            "text": "Time: 0.91s (Step: 92/100)",
            "x": 0.05,
            "xref": "paper",
            "y": 0.95,
            "yref": "paper"
           }
          ]
         },
         "name": "91"
        },
        {
         "data": [
          {
           "name": "Free Nodes",
           "type": "scatter3d",
           "x": {
            "bdata": "yjbmo2twnT/TxoB/Od+gPzUQfyfbwaI/ZkjUyaeDpD8lW09P81SmP/XIDVJYXqg/fnvDF0euqj86qIHXFS+tP7Zkzfnir68/SCuoNef/sD/L0J26mASyPxbrMi4/7bI/tDeZuCfOsz8Pa7FDe7+0P64YvxD/0rU/",
            "dtype": "f8"
           },
           "y": {
            "bdata": "CbsO8y90NT8AjhVK+SNKP8fY/5yvOFQ/6Thv34CcWD9Wf2aPg9NYP5eQ738USFQ/0JeTyFviRj9IgnefohiGPoYciE6T30a/E106b7BGVL+39GhWMtJYv72DGvJdm1i/TuxhCNQ3VL8e3LrF7SJKv/iWBKtgczW/",
            "dtype": "f8"
           },
           "z": {
            "bdata": "8oPiMUC9WL9PubPbyRBxv8R6U9hhx36/uQI7ginOhr9ykgE6CAGOv/00Om0XFZK/ngsVQ9gxlL9ViPSXh/OUv2EPhbbCMZS/WAMZS/MUkr+UC8PAtQCOv9HynqLczYa//omUoejGfr/xAY/JfRBxvz4xxavIvFi/",
            "dtype": "f8"
           }
          },
          {
           "name": "Fixed Nodes",
           "type": "scatter3d",
           "x": {
            "bdata": "fOkmMQisjD/e+X5qvHSTP/1+arx0k5g/CtejcD0Ktz9SuB6F61G4P5qZmZmZmbk/",
            "dtype": "f8"
           },
           "y": {
            "bdata": "AAAAAAAAAAAAAAAAAAAAAAAAAAAAAAAAAAAAAAAAAAAAAAAAAAAAAAAAAAAAAAAA",
            "dtype": "f8"
           },
           "z": {
            "bdata": "AAAAAAAAAAAAAAAAAAAAAAAAAAAAAAAAAAAAAAAAAAAAAAAAAAAAAAAAAAAAAAAA",
            "dtype": "f8"
           }
          },
          {
           "name": "Edges",
           "type": "scatter3d",
           "x": [
            0.014000000000000005,
            0.01900000000000001,
            null,
            0.01900000000000001,
            0.02400000000000001,
            null,
            0.02400000000000001,
            0.02874916255819108,
            null,
            0.02874916255819108,
            0.032953068556151564,
            null,
            0.032953068556151564,
            0.03663525445111341,
            null,
            0.03663525445111341,
            0.040066951167447226,
            null,
            0.040066951167447226,
            0.04361687033786258,
            null,
            0.04361687033786258,
            0.047594795242632694,
            null,
            0.047594795242632694,
            0.05211088337977453,
            null,
            0.05211088337977453,
            0.05699985747999432,
            null,
            0.05699985747999432,
            0.06188878344864561,
            null,
            0.06188878344864561,
            0.0664047723768536,
            null,
            0.0664047723768536,
            0.07038263851228803,
            null,
            0.07038263851228803,
            0.07393259885695289,
            null,
            0.07393259885695289,
            0.07736442810821026,
            null,
            0.07736442810821026,
            0.08104677584325891,
            null,
            0.08104677584325891,
            0.08525079878663419,
            null,
            0.08525079878663419,
            0.09,
            null,
            0.09,
            0.095,
            null,
            0.095,
            0.1,
            null
           ],
           "y": [
            0,
            0,
            null,
            0,
            0,
            null,
            0,
            0.0003273598732062432,
            null,
            0.0003273598732062432,
            0.0007977454408031881,
            null,
            0.0007977454408031881,
            0.0012342181180407406,
            null,
            0.0012342181180407406,
            0.0015021570704792325,
            null,
            0.0015021570704792325,
            0.0015152725951352495,
            null,
            0.0015152725951352495,
            0.001237888354574534,
            null,
            0.001237888354574534,
            0.0006983707582122137,
            null,
            0.0006983707582122137,
            1.64629753148496e-7,
            null,
            1.64629753148496e-7,
            -0.0006980389853773617,
            null,
            -0.0006980389853773617,
            -0.0012375567429552855,
            null,
            -0.0012375567429552855,
            -0.0015149585320977496,
            null,
            -0.0015149585320977496,
            -0.001501886123527848,
            null,
            -0.001501886123527848,
            -0.0012340136177318053,
            null,
            -0.0012340136177318053,
            -0.00079762086848845,
            null,
            -0.00079762086848845,
            -0.00032731161174336066,
            null,
            -0.00032731161174336066,
            0,
            null,
            0,
            0,
            null,
            0,
            0,
            null
           ],
           "z": [
            0,
            0,
            null,
            0,
            0,
            null,
            0,
            -0.0015099646475749099,
            null,
            -0.0015099646475749099,
            -0.004166401394498045,
            null,
            -0.004166401394498045,
            -0.007514364440082747,
            null,
            -0.007514364440082747,
            -0.01113541058237054,
            null,
            -0.01113541058237054,
            -0.014650406141478476,
            null,
            -0.014650406141478476,
            -0.01765858272715536,
            null,
            -0.01765858272715536,
            -0.019721392721531943,
            null,
            -0.019721392721531943,
            -0.020460241937265106,
            null,
            -0.020460241937265106,
            -0.019721071615335876,
            null,
            -0.019721071615335876,
            -0.017658044298744485,
            null,
            -0.017658044298744485,
            -0.014649791665197566,
            null,
            -0.014649791665197566,
            -0.011134837830348772,
            null,
            -0.011134837830348772,
            -0.007513912883299499,
            null,
            -0.007513912883299499,
            -0.004166118008413809,
            null,
            -0.004166118008413809,
            -0.0015098533322826647,
            null,
            -0.0015098533322826647,
            0,
            null,
            0,
            0,
            null,
            0,
            0,
            null
           ]
          },
          {
           "i": [],
           "j": [],
           "k": [],
           "name": "Faces",
           "type": "mesh3d",
           "x": {
            "bdata": "fOkmMQisjD/e+X5qvHSTP/1+arx0k5g/yjbmo2twnT/TxoB/Od+gPzUQfyfbwaI/ZkjUyaeDpD8lW09P81SmP/XIDVJYXqg/fnvDF0euqj86qIHXFS+tP7Zkzfnir68/SCuoNef/sD/L0J26mASyPxbrMi4/7bI/tDeZuCfOsz8Pa7FDe7+0P64YvxD/0rU/CtejcD0Ktz9SuB6F61G4P5qZmZmZmbk/",
            "dtype": "f8"
           },
           "y": {
            "bdata": "AAAAAAAAAAAAAAAAAAAAAAAAAAAAAAAACbsO8y90NT8AjhVK+SNKP8fY/5yvOFQ/6Thv34CcWD9Wf2aPg9NYP5eQ738USFQ/0JeTyFviRj9IgnefohiGPoYciE6T30a/E106b7BGVL+39GhWMtJYv72DGvJdm1i/TuxhCNQ3VL8e3LrF7SJKv/iWBKtgczW/AAAAAAAAAAAAAAAAAAAAAAAAAAAAAAAA",
            "dtype": "f8"
           },
           "z": {
            "bdata": "AAAAAAAAAAAAAAAAAAAAAAAAAAAAAAAA8oPiMUC9WL9PubPbyRBxv8R6U9hhx36/uQI7ginOhr9ykgE6CAGOv/00Om0XFZK/ngsVQ9gxlL9ViPSXh/OUv2EPhbbCMZS/WAMZS/MUkr+UC8PAtQCOv9HynqLczYa//omUoejGfr/xAY/JfRBxvz4xxavIvFi/AAAAAAAAAAAAAAAAAAAAAAAAAAAAAAAA",
            "dtype": "f8"
           }
          }
         ],
         "layout": {
          "annotations": [
           {
            "showarrow": false,
            "text": "Time: 0.92s (Step: 93/100)",
            "x": 0.05,
            "xref": "paper",
            "y": 0.95,
            "yref": "paper"
           }
          ]
         },
         "name": "92"
        },
        {
         "data": [
          {
           "name": "Free Nodes",
           "type": "scatter3d",
           "x": {
            "bdata": "BNjAg3FwnT8UrCiAR9+gP7HJ/YT8waI/QQDte96DpD958vxmN1WmP1b1XY2YXqg/MoRAg26uqj/Djju1FS+tP3Ebdj67r68/TEdE5Mb/sD9qFrRzdgSyP5Fld54j7bI/DCC44hbOsz/hUNAvdL+0P5nQyZP90rU/",
            "dtype": "f8"
           },
           "y": {
            "bdata": "Y/hSo/i0NT+d3EtW+nJKP/qIU6XgdVQ/u36KJQ7nWD+x0fNqvx5ZP5PfVpWIhVQ/GsYVLLAnRz/sYTcEbRaHPkPbRPHHJEe/z8k84xSEVL95DtKeXx1Zv7TqEcze5Vi/zC7ow/t0VL894SGJ43FKv1tPGpggtDW/",
            "dtype": "f8"
           },
           "z": {
            "bdata": "HJGIp6O4WL8owDVcDw5xv6ibVIJIw36/NJfxxKzLhr/jzmnkVf6Nv/EpXGq0E5K/pXe8zXEwlL+peiXvH/KUv2N4BKxbMJS/N1IzTY8Tkr9blEUrAf6Nv4mCMMldy4a/ng278MvCfr83jTYowQ1xv28gZbYouFi/",
            "dtype": "f8"
           }
          },
          {
           "name": "Fixed Nodes",
           "type": "scatter3d",
           "x": {
            "bdata": "fOkmMQisjD/e+X5qvHSTP/1+arx0k5g/CtejcD0Ktz9SuB6F61G4P5qZmZmZmbk/",
            "dtype": "f8"
           },
           "y": {
            "bdata": "AAAAAAAAAAAAAAAAAAAAAAAAAAAAAAAAAAAAAAAAAAAAAAAAAAAAAAAAAAAAAAAA",
            "dtype": "f8"
           },
           "z": {
            "bdata": "AAAAAAAAAAAAAAAAAAAAAAAAAAAAAAAAAAAAAAAAAAAAAAAAAAAAAAAAAAAAAAAA",
            "dtype": "f8"
           }
          },
          {
           "name": "Edges",
           "type": "scatter3d",
           "x": [
            0.014000000000000005,
            0.01900000000000001,
            null,
            0.01900000000000001,
            0.02400000000000001,
            null,
            0.02400000000000001,
            0.02874925009401609,
            null,
            0.02874925009401609,
            0.032953485865015036,
            null,
            0.032953485865015036,
            0.036636248812004786,
            null,
            0.036636248812004786,
            0.040068581226023976,
            null,
            0.040068581226023976,
            0.04361889965227745,
            null,
            0.04361889965227745,
            0.047596709496228115,
            null,
            0.047596709496228115,
            0.05211205818364596,
            null,
            0.05211205818364596,
            0.05699985348999583,
            null,
            0.05699985348999583,
            0.061887599348714135,
            null,
            0.061887599348714135,
            0.06640284607808872,
            null,
            0.06640284607808872,
            0.0703805954436462,
            null,
            0.0703805954436462,
            0.07393095606621204,
            null,
            0.07393095606621204,
            0.0773634246362464,
            null,
            0.0773634246362464,
            0.08104635398223393,
            null,
            0.08104635398223393,
            0.08525071008790731,
            null,
            0.08525071008790731,
            0.09,
            null,
            0.09,
            0.095,
            null,
            0.095,
            0.1,
            null
           ],
           "y": [
            0,
            0,
            null,
            0,
            0,
            null,
            0,
            0.00033122129691410244,
            null,
            0.00033122129691410244,
            0.000807163462552735,
            null,
            0.000807163462552735,
            0.0012488073164652045,
            null,
            0.0012488073164652045,
            0.0015199316168618543,
            null,
            0.0015199316168618543,
            0.0015332097353254299,
            null,
            0.0015332097353254299,
            0.0012525399991840421,
            null,
            0.0012525399991840421,
            0.0007066354957442928,
            null,
            0.0007066354957442928,
            1.7201603173703802e-7,
            null,
            1.7201603173703802e-7,
            -0.0007062889367607034,
            null,
            -0.0007062889367607034,
            -0.0012521938305779417,
            null,
            -0.0012521938305779417,
            -0.0015328820984742682,
            null,
            -0.0015328820984742682,
            -0.0015196491006281123,
            null,
            -0.0015196491006281123,
            -0.0012485941548473932,
            null,
            -0.0012485941548473932,
            -0.0008070336355237361,
            null,
            -0.0008070336355237361,
            -0.00033117099528933374,
            null,
            -0.00033117099528933374,
            0,
            null,
            0,
            0,
            null,
            0,
            0,
            null
           ],
           "z": [
            0,
            0,
            null,
            0,
            0,
            null,
            0,
            -0.001508865183617542,
            null,
            -0.001508865183617542,
            -0.004163799286615734,
            null,
            -0.004163799286615734,
            -0.0075104553591590975,
            null,
            -0.0075104553591590975,
            -0.011130666504140053,
            null,
            -0.011130666504140053,
            -0.014645262749787452,
            null,
            -0.014645262749787452,
            -0.017653292648029454,
            null,
            -0.017653292648029454,
            -0.01971605127538791,
            null,
            -0.01971605127538791,
            -0.020454882594430988,
            null,
            -0.020454882594430988,
            -0.019715721487152737,
            null,
            -0.019715721487152737,
            -0.017652739607756564,
            null,
            -0.017652739607756564,
            -0.014644631512689956,
            null,
            -0.014644631512689956,
            -0.01113007803184131,
            null,
            -0.01113007803184131,
            -0.007509991304405798,
            null,
            -0.007509991304405798,
            -0.004163507957318394,
            null,
            -0.004163507957318394,
            -0.0015087506850069118,
            null,
            -0.0015087506850069118,
            0,
            null,
            0,
            0,
            null,
            0,
            0,
            null
           ]
          },
          {
           "i": [],
           "j": [],
           "k": [],
           "name": "Faces",
           "type": "mesh3d",
           "x": {
            "bdata": "fOkmMQisjD/e+X5qvHSTP/1+arx0k5g/BNjAg3FwnT8UrCiAR9+gP7HJ/YT8waI/QQDte96DpD958vxmN1WmP1b1XY2YXqg/MoRAg26uqj/Djju1FS+tP3Ebdj67r68/TEdE5Mb/sD9qFrRzdgSyP5Fld54j7bI/DCC44hbOsz/hUNAvdL+0P5nQyZP90rU/CtejcD0Ktz9SuB6F61G4P5qZmZmZmbk/",
            "dtype": "f8"
           },
           "y": {
            "bdata": "AAAAAAAAAAAAAAAAAAAAAAAAAAAAAAAAY/hSo/i0NT+d3EtW+nJKP/qIU6XgdVQ/u36KJQ7nWD+x0fNqvx5ZP5PfVpWIhVQ/GsYVLLAnRz/sYTcEbRaHPkPbRPHHJEe/z8k84xSEVL95DtKeXx1Zv7TqEcze5Vi/zC7ow/t0VL894SGJ43FKv1tPGpggtDW/AAAAAAAAAAAAAAAAAAAAAAAAAAAAAAAA",
            "dtype": "f8"
           },
           "z": {
            "bdata": "AAAAAAAAAAAAAAAAAAAAAAAAAAAAAAAAHJGIp6O4WL8owDVcDw5xv6ibVIJIw36/NJfxxKzLhr/jzmnkVf6Nv/EpXGq0E5K/pXe8zXEwlL+peiXvH/KUv2N4BKxbMJS/N1IzTY8Tkr9blEUrAf6Nv4mCMMldy4a/ng278MvCfr83jTYowQ1xv28gZbYouFi/AAAAAAAAAAAAAAAAAAAAAAAAAAAAAAAA",
            "dtype": "f8"
           }
          }
         ],
         "layout": {
          "annotations": [
           {
            "showarrow": false,
            "text": "Time: 0.93s (Step: 94/100)",
            "x": 0.05,
            "xref": "paper",
            "y": 0.95,
            "yref": "paper"
           }
          ]
         },
         "name": "93"
        },
        {
         "data": [
          {
           "name": "Free Nodes",
           "type": "scatter3d",
           "x": {
            "bdata": "qaAvc3dwnT9gUdykVd+gP0MU4jYewqI/LbKuthWEpD+7QiInfFWmP2CQUGbZXqg/uJjfTpauqj9pbGOSFS+tP7R2tCGTr68/aRRFQ6b/sD9hd63XUwSyP9LJl8kH7bI/lBkO4gXOsz8tlpwJbb+0P9Me2xL80rU/",
            "dtype": "f8"
           },
           "y": {
            "bdata": "la71fZX1NT9gLdNLxsFKP24hdfToslQ//W+15WkxWT9W42CByGlZPzMXX0nRwlQ/bZRbKc1sRz96Lb3vAUSHPjpYwjjeaUe/7PZEHlnBVL8zIxNTY2hZv6w7Cw01MFm/eyPmZv+xVL/vZ2pJqcBKv6rl8VK49DW/",
            "dtype": "f8"
           },
           "z": {
            "bdata": "J9u0NvuzWL8awBXcTQtxv/FjhrAkv36/dK/orynJhr9uJyW1nPuNvxxoyuVNEpK/RaG30AcvlL8Lyia6tPCUv535bxDxLpS/BrYdvScSkr8LNlGURfuNvzeXEHHYyIa/5eughKS+fr8GOHBd/Qpxv+6K45d8s1i/",
            "dtype": "f8"
           }
          },
          {
           "name": "Fixed Nodes",
           "type": "scatter3d",
           "x": {
            "bdata": "fOkmMQisjD/e+X5qvHSTP/1+arx0k5g/CtejcD0Ktz9SuB6F61G4P5qZmZmZmbk/",
            "dtype": "f8"
           },
           "y": {
            "bdata": "AAAAAAAAAAAAAAAAAAAAAAAAAAAAAAAAAAAAAAAAAAAAAAAAAAAAAAAAAAAAAAAA",
            "dtype": "f8"
           },
           "z": {
            "bdata": "AAAAAAAAAAAAAAAAAAAAAAAAAAAAAAAAAAAAAAAAAAAAAAAAAAAAAAAAAAAAAAAA",
            "dtype": "f8"
           }
          },
          {
           "name": "Edges",
           "type": "scatter3d",
           "x": [
            0.014000000000000005,
            0.01900000000000001,
            null,
            0.01900000000000001,
            0.02400000000000001,
            null,
            0.02400000000000001,
            0.02874933853664233,
            null,
            0.02874933853664233,
            0.03295390737017345,
            null,
            0.03295390737017345,
            0.0366372529979704,
            null,
            0.0366372529979704,
            0.04007022719392626,
            null,
            0.04007022719392626,
            0.04362094857890982,
            null,
            0.04362094857890982,
            0.047598642100894706,
            null,
            0.047598642100894706,
            0.0521132441788707,
            null,
            0.0521132441788707,
            0.05699984943358844,
            null,
            0.05699984943358844,
            0.061886403908130744,
            null,
            0.061886403908130744,
            0.06640090124445099,
            null,
            0.06640090124445099,
            0.07037853255812145,
            null,
            0.07037853255812145,
            0.07392929717733601,
            null,
            0.07392929717733601,
            0.07736241120264814,
            null,
            0.07736241120264814,
            0.08104592785510852,
            null,
            0.08104592785510852,
            0.08525062046384883,
            null,
            0.08525062046384883,
            0.09,
            null,
            0.09,
            0.095,
            null,
            0.095,
            0.1,
            null
           ],
           "y": [
            0,
            0,
            null,
            0,
            0,
            null,
            0,
            0.0003350725146080505,
            null,
            0.0003350725146080505,
            0.0008165567629928976,
            null,
            0.0008165567629928976,
            0.0012633585882487436,
            null,
            0.0012633585882487436,
            0.0015376600411718393,
            null,
            0.0015376600411718393,
            0.001551099592246715,
            null,
            0.001551099592246715,
            0.0012671512426875697,
            null,
            0.0012671512426875697,
            0.0007148744359396615,
            null,
            0.0007148744359396615,
            1.733426343526357e-7,
            null,
            1.733426343526357e-7,
            -0.0007145247523279226,
            null,
            -0.0007145247523279226,
            -0.0012668009085951516,
            null,
            -0.0012668009085951516,
            -0.0015507669416356506,
            null,
            -0.0015507669416356506,
            -0.001537372405596686,
            null,
            -0.001537372405596686,
            -0.001263141075101808,
            null,
            -0.001263141075101808,
            -0.0008164240451435915,
            null,
            -0.0008164240451435915,
            -0.0003350210199140844,
            null,
            -0.0003350210199140844,
            0,
            null,
            0,
            0,
            null,
            0,
            0,
            null
           ],
           "z": [
            0,
            0,
            null,
            0,
            0,
            null,
            0,
            -0.001507754636646383,
            null,
            -0.001507754636646383,
            -0.0041611710924911675,
            null,
            -0.0041611710924911675,
            -0.007506507223660628,
            null,
            -0.007506507223660628,
            -0.01112587516862338,
            null,
            -0.01112587516862338,
            -0.014640068319426294,
            null,
            -0.014640068319426294,
            -0.017647950315769476,
            null,
            -0.017647950315769476,
            -0.01971065722855882,
            null,
            -0.01971065722855882,
            -0.020449470388209472,
            null,
            -0.020449470388209472,
            -0.01971031821084922,
            null,
            -0.01971031821084922,
            -0.01764738170407123,
            null,
            -0.01764738170407123,
            -0.014639419163496667,
            null,
            -0.014639419163496667,
            -0.01112526984259042,
            null,
            -0.01112526984259042,
            -0.0075060297477262715,
            null,
            -0.0075060297477262715,
            -0.004160871226316592,
            null,
            -0.004160871226316592,
            -0.001507636712226808,
            null,
            -0.001507636712226808,
            0,
            null,
            0,
            0,
            null,
            0,
            0,
            null
           ]
          },
          {
           "i": [],
           "j": [],
           "k": [],
           "name": "Faces",
           "type": "mesh3d",
           "x": {
            "bdata": "fOkmMQisjD/e+X5qvHSTP/1+arx0k5g/qaAvc3dwnT9gUdykVd+gP0MU4jYewqI/LbKuthWEpD+7QiInfFWmP2CQUGbZXqg/uJjfTpauqj9pbGOSFS+tP7R2tCGTr68/aRRFQ6b/sD9hd63XUwSyP9LJl8kH7bI/lBkO4gXOsz8tlpwJbb+0P9Me2xL80rU/CtejcD0Ktz9SuB6F61G4P5qZmZmZmbk/",
            "dtype": "f8"
           },
           "y": {
            "bdata": "AAAAAAAAAAAAAAAAAAAAAAAAAAAAAAAAla71fZX1NT9gLdNLxsFKP24hdfToslQ//W+15WkxWT9W42CByGlZPzMXX0nRwlQ/bZRbKc1sRz96Lb3vAUSHPjpYwjjeaUe/7PZEHlnBVL8zIxNTY2hZv6w7Cw01MFm/eyPmZv+xVL/vZ2pJqcBKv6rl8VK49DW/AAAAAAAAAAAAAAAAAAAAAAAAAAAAAAAA",
            "dtype": "f8"
           },
           "z": {
            "bdata": "AAAAAAAAAAAAAAAAAAAAAAAAAAAAAAAAJ9u0NvuzWL8awBXcTQtxv/FjhrAkv36/dK/orynJhr9uJyW1nPuNvxxoyuVNEpK/RaG30AcvlL8Lyia6tPCUv535bxDxLpS/BrYdvScSkr8LNlGURfuNvzeXEHHYyIa/5eughKS+fr8GOHBd/Qpxv+6K45d8s1i/AAAAAAAAAAAAAAAAAAAAAAAAAAAAAAAA",
            "dtype": "f8"
           }
          }
         ],
         "layout": {
          "annotations": [
           {
            "showarrow": false,
            "text": "Time: 0.94s (Step: 95/100)",
            "x": 0.05,
            "xref": "paper",
            "y": 0.95,
            "yref": "paper"
           }
          ]
         },
         "name": "94"
        },
        {
         "data": [
          {
           "name": "Free Nodes",
           "type": "scatter3d",
           "x": {
            "bdata": "BFgYcn1wnT/LIlTtY9+gPyPidDxAwqI/NTPfeE2EpD+ejyqOwVWmP+ixXdsaX6g/BgSseb6uqj/NHvpuFS+tP5SJf6Rqr68/iWVwU4X/sD/bslbnMASyP1OCM7Dr7LI/8mX4tvTNsz/N5zrRZb+0P4DM+Y360rU/",
            "dtype": "f8"
           },
           "y": {
            "bdata": "6E+4RAY2Nj9bRzTjXBBLPwG7WVfI71Q/Qh5F6JN7WT/HSMSjnrRZP8HvpYPu/1Q/M09o07KxRz/shszfdqeGPv4qN3zVrke/SCyps3z+VL/G7Az+PLNZvyqUr0dgelm/yqjZmd7uVL85JGWWPg9Lvx62m38nNTa/",
            "dtype": "f8"
           },
           "z": {
            "bdata": "kJ6J9kavWL8NakxphQhxvwq2KHj2un6/1t8qUKDGhr/B5ZS63PiNv8y8FufjEJK/ztzVU5otlL9xId4ARu+Uv72CkuuCLZS/RchhorwQkr/cVTIKg/iNv9UqNadMxoa/pzBmcnK6fr9xHCJ3Mghxv0DPRmfErli/",
            "dtype": "f8"
           }
          },
          {
           "name": "Fixed Nodes",
           "type": "scatter3d",
           "x": {
            "bdata": "fOkmMQisjD/e+X5qvHSTP/1+arx0k5g/CtejcD0Ktz9SuB6F61G4P5qZmZmZmbk/",
            "dtype": "f8"
           },
           "y": {
            "bdata": "AAAAAAAAAAAAAAAAAAAAAAAAAAAAAAAAAAAAAAAAAAAAAAAAAAAAAAAAAAAAAAAA",
            "dtype": "f8"
           },
           "z": {
            "bdata": "AAAAAAAAAAAAAAAAAAAAAAAAAAAAAAAAAAAAAAAAAAAAAAAAAAAAAAAAAAAAAAAA",
            "dtype": "f8"
           }
          },
          {
           "name": "Edges",
           "type": "scatter3d",
           "x": [
            0.014000000000000005,
            0.01900000000000001,
            null,
            0.01900000000000001,
            0.02400000000000001,
            null,
            0.02400000000000001,
            0.028749427880107717,
            null,
            0.028749427880107717,
            0.03295433303907699,
            null,
            0.03295433303907699,
            0.036638266925767014,
            null,
            0.036638266925767014,
            0.04007188892828709,
            null,
            0.04007188892828709,
            0.04362301693370728,
            null,
            0.04362301693370728,
            0.04760059287841384,
            null,
            0.04760059287841384,
            0.052114441254168795,
            null,
            0.052114441254168795,
            0.05699984531116584,
            null,
            0.05699984531116584,
            0.06188519723925193,
            null,
            0.06188519723925193,
            0.06639893805586018,
            null,
            0.06639893805586018,
            0.07037645004192987,
            null,
            0.07037645004192987,
            0.07392762233531273,
            null,
            0.07392762233531273,
            0.07736138789223171,
            null,
            0.07736138789223171,
            0.08104549749523855,
            null,
            0.08104549749523855,
            0.08525052992063031,
            null,
            0.08525052992063031,
            0.09,
            null,
            0.09,
            0.095,
            null,
            0.095,
            0.1,
            null
           ],
           "y": [
            0,
            0,
            null,
            0,
            0,
            null,
            0,
            0.000338913469677181,
            null,
            0.000338913469677181,
            0.0008259252121283022,
            null,
            0.0008259252121283022,
            0.0012778717476994996,
            null,
            0.0012778717476994996,
            0.0015553421408912725,
            null,
            0.0015553421408912725,
            0.0015689419952349835,
            null,
            0.0015689419952349835,
            0.0012817219963769807,
            null,
            0.0012817219963769807,
            0.0007230876133825559,
            null,
            0.0007230876133825559,
            1.6878662725214155e-7,
            null,
            1.6878662725214155e-7,
            -0.0007227461250577103,
            null,
            -0.0007227461250577103,
            -0.0012813775816933482,
            null,
            -0.0012813775816933482,
            -0.0015686126354939474,
            null,
            -0.0015686126354939474,
            -0.0015550556406591733,
            null,
            -0.0015550556406591733,
            -0.0012776540601416191,
            null,
            -0.0012776540601416191,
            -0.0008257918932851389,
            null,
            -0.0008257918932851389,
            -0.00033886160200222333,
            null,
            -0.00033886160200222333,
            0,
            null,
            0,
            0,
            null,
            0,
            0,
            null
           ],
           "z": [
            0,
            0,
            null,
            0,
            0,
            null,
            0,
            -0.0015066330908214721,
            null,
            -0.0015066330908214721,
            -0.004158517015435692,
            null,
            -0.004158517015435692,
            -0.007502520342808969,
            null,
            -0.007502520342808969,
            -0.01112103695537307,
            null,
            -0.01112103695537307,
            -0.014634823268908971,
            null,
            -0.014634823268908971,
            -0.01764255617098058,
            null,
            -0.01764255617098058,
            -0.01970521103563954,
            null,
            -0.01970521103563954,
            -0.020444005778274602,
            null,
            -0.020444005778274602,
            -0.019704862240021315,
            null,
            -0.019704862240021315,
            -0.017641971026428633,
            null,
            -0.017641971026428633,
            -0.014634155033756473,
            null,
            -0.014634155033756473,
            -0.011120413639806351,
            null,
            -0.011120413639806351,
            -0.007502028520672755,
            null,
            -0.007502028520672755,
            -0.004158208017663077,
            null,
            -0.004158208017663077,
            -0.0015065114977063782,
            null,
            -0.0015065114977063782,
            0,
            null,
            0,
            0,
            null,
            0,
            0,
            null
           ]
          },
          {
           "i": [],
           "j": [],
           "k": [],
           "name": "Faces",
           "type": "mesh3d",
           "x": {
            "bdata": "fOkmMQisjD/e+X5qvHSTP/1+arx0k5g/BFgYcn1wnT/LIlTtY9+gPyPidDxAwqI/NTPfeE2EpD+ejyqOwVWmP+ixXdsaX6g/BgSseb6uqj/NHvpuFS+tP5SJf6Rqr68/iWVwU4X/sD/bslbnMASyP1OCM7Dr7LI/8mX4tvTNsz/N5zrRZb+0P4DM+Y360rU/CtejcD0Ktz9SuB6F61G4P5qZmZmZmbk/",
            "dtype": "f8"
           },
           "y": {
            "bdata": "AAAAAAAAAAAAAAAAAAAAAAAAAAAAAAAA6E+4RAY2Nj9bRzTjXBBLPwG7WVfI71Q/Qh5F6JN7WT/HSMSjnrRZP8HvpYPu/1Q/M09o07KxRz/shszfdqeGPv4qN3zVrke/SCyps3z+VL/G7Az+PLNZvyqUr0dgelm/yqjZmd7uVL85JGWWPg9Lvx62m38nNTa/AAAAAAAAAAAAAAAAAAAAAAAAAAAAAAAA",
            "dtype": "f8"
           },
           "z": {
            "bdata": "AAAAAAAAAAAAAAAAAAAAAAAAAAAAAAAAkJ6J9kavWL8NakxphQhxvwq2KHj2un6/1t8qUKDGhr/B5ZS63PiNv8y8FufjEJK/ztzVU5otlL9xId4ARu+Uv72CkuuCLZS/RchhorwQkr/cVTIKg/iNv9UqNadMxoa/pzBmcnK6fr9xHCJ3Mghxv0DPRmfErli/AAAAAAAAAAAAAAAAAAAAAAAAAAAAAAAA",
            "dtype": "f8"
           }
          }
         ],
         "layout": {
          "annotations": [
           {
            "showarrow": false,
            "text": "Time: 0.95s (Step: 96/100)",
            "x": 0.05,
            "xref": "paper",
            "y": 0.95,
            "yref": "paper"
           }
          ]
         },
         "name": "95"
        },
        {
         "data": [
          {
           "name": "Free Nodes",
           "type": "scatter3d",
           "x": {
            "bdata": "YiJhgINwnT+hGklZct+gP7MKAJViwqI/e2RFwYWEpD9OI4KaB1amP+Vq/upcX6g/JiSyAueuqj9l8wFLFS+tP4Rk0MdBr68/B0yNFWT/sD8Z3H2jDQSyP4co61LP7LI/3B/VYePNsz/SY9CGXr+0P27CLAX50rU/",
            "dtype": "f8"
           },
           "y": {
            "bdata": "WyeW1Up2Nj85/eT7vV5LPyR//b1+LFU/UrlJKYzFWT+aRfTmQf9ZPyJ683zgPFU/QF4g8WH2Rz8SDQfjblKFPhJUmWKs80e/FYLB6H47Vb/MVbbq6/1Zvyxbtt5fxFm/Rjla5ZgrVb8TnAjdol1Lv8EURaltdTa/",
            "dtype": "f8"
           },
           "z": {
            "bdata": "TZiV/IaqWL8tLdwQtgVxv5aw/ey9tn6/zQjasRDEhr8ZwS8CFvaNv0Poc3V2D5K/q92yXikslL954jXL0+2Uv2cKdEURLJS/pXrxBE4Pkr/57DGcufWNvy55jXm6w4a/1ffD0DW2fr9O5TqEYAVxvw06SD0Aqli/",
            "dtype": "f8"
           }
          },
          {
           "name": "Fixed Nodes",
           "type": "scatter3d",
           "x": {
            "bdata": "fOkmMQisjD/e+X5qvHSTP/1+arx0k5g/CtejcD0Ktz9SuB6F61G4P5qZmZmZmbk/",
            "dtype": "f8"
           },
           "y": {
            "bdata": "AAAAAAAAAAAAAAAAAAAAAAAAAAAAAAAAAAAAAAAAAAAAAAAAAAAAAAAAAAAAAAAA",
            "dtype": "f8"
           },
           "z": {
            "bdata": "AAAAAAAAAAAAAAAAAAAAAAAAAAAAAAAAAAAAAAAAAAAAAAAAAAAAAAAAAAAAAAAA",
            "dtype": "f8"
           }
          },
          {
           "name": "Edges",
           "type": "scatter3d",
           "x": [
            0.014000000000000005,
            0.01900000000000001,
            null,
            0.01900000000000001,
            0.02400000000000001,
            null,
            0.02400000000000001,
            0.028749518118532776,
            null,
            0.028749518118532776,
            0.03295476283942845,
            null,
            0.03295476283942845,
            0.03663929051255845,
            null,
            0.03663929051255845,
            0.04007356628671573,
            null,
            0.04007356628671573,
            0.043625104533083645,
            null,
            0.043625104533083645,
            0.047602561651009435,
            null,
            0.047602561651009435,
            0.05211564929874894,
            null,
            0.05211564929874894,
            0.05699984112377513,
            null,
            0.05699984112377513,
            0.061883979455338994,
            null,
            0.061883979455338994,
            0.06639695669336741,
            null,
            0.06639695669336741,
            0.07037434808249578,
            null,
            0.07037434808249578,
            0.07392593168620652,
            null,
            0.07392593168620652,
            0.0773603547905845,
            null,
            0.0773603547905845,
            0.08104506293638217,
            null,
            0.08104506293638217,
            0.08525043846453581,
            null,
            0.08525043846453581,
            0.09,
            null,
            0.09,
            0.095,
            null,
            0.095,
            0.1,
            null
           ],
           "y": [
            0,
            0,
            null,
            0,
            0,
            null,
            0,
            0.0003427441311819512,
            null,
            0.0003427441311819512,
            0.0008352687507694807,
            null,
            0.0008352687507694807,
            0.0012923467365552688,
            null,
            0.0012923467365552688,
            0.0015729779016982648,
            null,
            0.0015729779016982648,
            0.0015867370200946863,
            null,
            0.0015867370200946863,
            0.0012962524668221971,
            null,
            0.0012962524668221971,
            0.0007312753898557969,
            null,
            0.0007312753898557969,
            1.588613130054842e-7,
            null,
            1.588613130054842e-7,
            -0.0007309524273276821,
            null,
            -0.0007309524273276821,
            -0.001295923170822393,
            null,
            -0.001295923170822393,
            -0.001586418521445909,
            null,
            -0.001586418521445909,
            -0.0015726982336212265,
            null,
            -0.0015726982336212265,
            -0.0012921326755620118,
            null,
            -0.0012921326755620118,
            -0.0008351369124896,
            null,
            -0.0008351369124896,
            -0.00034269263530390884,
            null,
            -0.00034269263530390884,
            0,
            null,
            0,
            0,
            null,
            0,
            0,
            null
           ],
           "z": [
            0,
            0,
            null,
            0,
            0,
            null,
            0,
            -0.0015055006245687952,
            null,
            -0.0015055006245687952,
            -0.004155837244762578,
            null,
            -0.004155837244762578,
            -0.007498495004124936,
            null,
            -0.007498495004124936,
            -0.01111615221748643,
            null,
            -0.01111615221748643,
            -0.014629527990081702,
            null,
            -0.014629527990081702,
            -0.01763711063265584,
            null,
            -0.01763711063265584,
            -0.01969971313948597,
            null,
            -0.01969971313948597,
            -0.020438489225372145,
            null,
            -0.020438489225372145,
            -0.019699354042140984,
            null,
            -0.019699354042140984,
            -0.017636508037294125,
            null,
            -0.017636508037294125,
            -0.014628839568322937,
            null,
            -0.014628839568322937,
            -0.01111550982903661,
            null,
            -0.01111550982903661,
            -0.00749798795390962,
            null,
            -0.00749798795390962,
            -0.004155518548651328,
            null,
            -0.004155518548651328,
            -0.0015053751313903769,
            null,
            -0.0015053751313903769,
            0,
            null,
            0,
            0,
            null,
            0,
            0,
            null
           ]
          },
          {
           "i": [],
           "j": [],
           "k": [],
           "name": "Faces",
           "type": "mesh3d",
           "x": {
            "bdata": "fOkmMQisjD/e+X5qvHSTP/1+arx0k5g/YiJhgINwnT+hGklZct+gP7MKAJViwqI/e2RFwYWEpD9OI4KaB1amP+Vq/upcX6g/JiSyAueuqj9l8wFLFS+tP4Rk0MdBr68/B0yNFWT/sD8Z3H2jDQSyP4co61LP7LI/3B/VYePNsz/SY9CGXr+0P27CLAX50rU/CtejcD0Ktz9SuB6F61G4P5qZmZmZmbk/",
            "dtype": "f8"
           },
           "y": {
            "bdata": "AAAAAAAAAAAAAAAAAAAAAAAAAAAAAAAAWyeW1Up2Nj85/eT7vV5LPyR//b1+LFU/UrlJKYzFWT+aRfTmQf9ZPyJ683zgPFU/QF4g8WH2Rz8SDQfjblKFPhJUmWKs80e/FYLB6H47Vb/MVbbq6/1Zvyxbtt5fxFm/Rjla5ZgrVb8TnAjdol1Lv8EURaltdTa/AAAAAAAAAAAAAAAAAAAAAAAAAAAAAAAA",
            "dtype": "f8"
           },
           "z": {
            "bdata": "AAAAAAAAAAAAAAAAAAAAAAAAAAAAAAAATZiV/IaqWL8tLdwQtgVxv5aw/ey9tn6/zQjasRDEhr8ZwS8CFvaNv0Poc3V2D5K/q92yXikslL954jXL0+2Uv2cKdEURLJS/pXrxBE4Pkr/57DGcufWNvy55jXm6w4a/1ffD0DW2fr9O5TqEYAVxvw06SD0Aqli/AAAAAAAAAAAAAAAAAAAAAAAAAAAAAAAA",
            "dtype": "f8"
           }
          }
         ],
         "layout": {
          "annotations": [
           {
            "showarrow": false,
            "text": "Time: 0.96s (Step: 97/100)",
            "x": 0.05,
            "xref": "paper",
            "y": 0.95,
            "yref": "paper"
           }
          ]
         },
         "name": "96"
        },
        {
         "data": [
          {
           "name": "Free Nodes",
           "type": "scatter3d",
           "x": {
            "bdata": "xHnwnYlwnT/1tnTogN+gP0w7zj+FwqI/5COpjr6EpD8JQpZKTlamPza6rJOfX6g/WFn/6A+vqj+3iH4mFS+tP0LloYwYr68/W/ljikL/sD/9OvIM6gOyP81pYLKy7LI/RCgD49HNsz/6j4IqV7+0P3UGe3j30rU/",
            "dtype": "f8"
           },
           "y": {
            "bdata": "4/KuJmO2Nj8YLqKW6axLP4FwSTYMaVU/Qpb80FIPWj+wy46ZsklaP+4VNLOneVU/n7dr4ts6SD9wsJOvXGCDPpROd/1gOEi/3g/qwF54Vb9M6Q8ub0hav37McgwzDlq//Ycvty1oVb/ShBJt1atLv8f4SUaKtTa/",
            "dtype": "f8"
           },
           "z": {
            "bdata": "1WT5XLulWL9I+ufe3wJxv6LrbCF7sn6/9stE4HrBhr+8eZeYSPONvzJbvpcFDpK/gG+7+LQqlL/2qhwhXuyUvxrkUyacKpS/EXId7dsNkr8xOH5a6fKNv4D/6vYhwYa/Mqzmt+6xfr/rY5mUhwJxvxLvKzQwpVi/",
            "dtype": "f8"
           }
          },
          {
           "name": "Fixed Nodes",
           "type": "scatter3d",
           "x": {
            "bdata": "fOkmMQisjD/e+X5qvHSTP/1+arx0k5g/CtejcD0Ktz9SuB6F61G4P5qZmZmZmbk/",
            "dtype": "f8"
           },
           "y": {
            "bdata": "AAAAAAAAAAAAAAAAAAAAAAAAAAAAAAAAAAAAAAAAAAAAAAAAAAAAAAAAAAAAAAAA",
            "dtype": "f8"
           },
           "z": {
            "bdata": "AAAAAAAAAAAAAAAAAAAAAAAAAAAAAAAAAAAAAAAAAAAAAAAAAAAAAAAAAAAAAAAA",
            "dtype": "f8"
           }
          },
          {
           "name": "Edges",
           "type": "scatter3d",
           "x": [
            0.014000000000000005,
            0.01900000000000001,
            null,
            0.01900000000000001,
            0.02400000000000001,
            null,
            0.02400000000000001,
            0.028749609246114152,
            null,
            0.028749609246114152,
            0.03295519673916473,
            null,
            0.03295519673916473,
            0.036640323675888625,
            null,
            0.036640323675888625,
            0.04007525912727042,
            null,
            0.04007525912727042,
            0.04362721119389696,
            null,
            0.04362721119389696,
            0.047604548241328024,
            null,
            0.047604548241328024,
            0.05211686820227851,
            null,
            0.05211686820227851,
            0.05699983687306214,
            null,
            0.05699983687306214,
            0.06188275067047268,
            null,
            0.06188275067047268,
            0.06639495733904736,
            null,
            0.06639495733904736,
            0.07037222686833995,
            null,
            0.07037222686833995,
            0.07392422537706196,
            null,
            0.07392422537706196,
            0.0773593119839982,
            null,
            0.0773593119839982,
            0.08104462421266581,
            null,
            0.08104462421266581,
            0.08525034610195255,
            null,
            0.08525034610195255,
            0.09,
            null,
            0.09,
            0.095,
            null,
            0.095,
            0.1,
            null
           ],
           "y": [
            0,
            0,
            null,
            0,
            0,
            null,
            0,
            0.0003465644901401844,
            null,
            0.0003465644901401844,
            0.0008445873802584462,
            null,
            0.0008445873802584462,
            0.0013067836054210526,
            null,
            0.0013067836054210526,
            0.0015905674699267102,
            null,
            0.0015905674699267102,
            0.0016044849528327014,
            null,
            0.0016044849528327014,
            0.001310743112129638,
            null,
            0.001310743112129638,
            0.0007394384054728481,
            null,
            0.0007394384054728481,
            1.4436553622628122e-7,
            null,
            1.4436553622628122e-7,
            -0.0007391427597504712,
            null,
            -0.0007391427597504712,
            -0.0013104367568823531,
            null,
            -0.0013104367568823531,
            -0.0016041837445742333,
            null,
            -0.0016041837445742333,
            -0.001590299465345862,
            null,
            -0.001590299465345862,
            -0.001306576389418001,
            null,
            -0.001306576389418001,
            -0.0008444587821438093,
            null,
            -0.0008444587821438093,
            -0.00034651399463559964,
            null,
            -0.00034651399463559964,
            0,
            null,
            0,
            0,
            null,
            0,
            0,
            null
           ],
           "z": [
            0,
            0,
            null,
            0,
            0,
            null,
            0,
            -0.0015043573111113613,
            null,
            -0.0015043573111113613,
            -0.0041531319570809536,
            null,
            -0.0041531319570809536,
            -0.007494431475431636,
            null,
            -0.007494431475431636,
            -0.011111221284044941,
            null,
            -0.011111221284044941,
            -0.014624182850579419,
            null,
            -0.014624182850579419,
            -0.017631614100163513,
            null,
            -0.017631614100163513,
            -0.01969416397228896,
            null,
            -0.01969416397228896,
            -0.02043292119121084,
            null,
            -0.02043292119121084,
            -0.019693794097268215,
            null,
            -0.019693794097268215,
            -0.017630993220665362,
            null,
            -0.017630993220665362,
            -0.014623473238113945,
            null,
            -0.014623473238113945,
            -0.011110558841550988,
            null,
            -0.011110558841550988,
            -0.007493908399207648,
            null,
            -0.007493908399207648,
            -0.004152803050225788,
            null,
            -0.004152803050225788,
            -0.0015042277088345751,
            null,
            -0.0015042277088345751,
            0,
            null,
            0,
            0,
            null,
            0,
            0,
            null
           ]
          },
          {
           "i": [],
           "j": [],
           "k": [],
           "name": "Faces",
           "type": "mesh3d",
           "x": {
            "bdata": "fOkmMQisjD/e+X5qvHSTP/1+arx0k5g/xHnwnYlwnT/1tnTogN+gP0w7zj+FwqI/5COpjr6EpD8JQpZKTlamPza6rJOfX6g/WFn/6A+vqj+3iH4mFS+tP0LloYwYr68/W/ljikL/sD/9OvIM6gOyP81pYLKy7LI/RCgD49HNsz/6j4IqV7+0P3UGe3j30rU/CtejcD0Ktz9SuB6F61G4P5qZmZmZmbk/",
            "dtype": "f8"
           },
           "y": {
            "bdata": "AAAAAAAAAAAAAAAAAAAAAAAAAAAAAAAA4/KuJmO2Nj8YLqKW6axLP4FwSTYMaVU/Qpb80FIPWj+wy46ZsklaP+4VNLOneVU/n7dr4ts6SD9wsJOvXGCDPpROd/1gOEi/3g/qwF54Vb9M6Q8ub0hav37McgwzDlq//Ycvty1oVb/ShBJt1atLv8f4SUaKtTa/AAAAAAAAAAAAAAAAAAAAAAAAAAAAAAAA",
            "dtype": "f8"
           },
           "z": {
            "bdata": "AAAAAAAAAAAAAAAAAAAAAAAAAAAAAAAA1WT5XLulWL9I+ufe3wJxv6LrbCF7sn6/9stE4HrBhr+8eZeYSPONvzJbvpcFDpK/gG+7+LQqlL/2qhwhXuyUvxrkUyacKpS/EXId7dsNkr8xOH5a6fKNv4D/6vYhwYa/Mqzmt+6xfr/rY5mUhwJxvxLvKzQwpVi/AAAAAAAAAAAAAAAAAAAAAAAAAAAAAAAA",
            "dtype": "f8"
           }
          }
         ],
         "layout": {
          "annotations": [
           {
            "showarrow": false,
            "text": "Time: 0.97s (Step: 98/100)",
            "x": 0.05,
            "xref": "paper",
            "y": 0.95,
            "yref": "paper"
           }
          ]
         },
         "name": "97"
        },
        {
         "data": [
          {
           "name": "Free Nodes",
           "type": "scatter3d",
           "x": {
            "bdata": "xyCtyo9wnT+K5ZCaj9+gP7HWKjyowqI/3CXT3/eEpD/6BNWclVamPzBq49PiX6g/puChKzmvqj9/nHQBFS+tP69y8PPurq8/cJW9siD/sD+EIIQkxgOyPyXhNc+V7LI/BAviOsDNsz9eS3e8T7+0P3S36+f10rU/",
            "dtype": "f8"
           },
           "y": {
            "bdata": "2usXQU/2Nj9+wUHO3/pLPz3KlOVwpVU/xVwaKuhYWj+w3EE38ZNaP0f0HtpEtlU/PA3mfSJ/SD+qmG4HSfSAPq0tQ+vwfEi/GV3YDBu1Vb8RpdazxZJavzwkdezYV1q/HFfMaJykVb9/6DCA1flLvzUIYL189Ta/",
            "dtype": "f8"
           },
           "z": {
            "bdata": "hLWiKuSgWL+UVdfeAgBxvzBQuyYurn6/EZAI5t6+hr+YJruJdPCNvx4nilSRDJK/YiA1KT0plL8o3YQK5eqUvxcqoJYjKZS/cDOGY2YMkr+xvQZWEvCNvzn03S6Dvoa/orYzQZ2tfr9k3ua4p/9wv7cGg2dUoFi/",
            "dtype": "f8"
           }
          },
          {
           "name": "Fixed Nodes",
           "type": "scatter3d",
           "x": {
            "bdata": "fOkmMQisjD/e+X5qvHSTP/1+arx0k5g/CtejcD0Ktz9SuB6F61G4P5qZmZmZmbk/",
            "dtype": "f8"
           },
           "y": {
            "bdata": "AAAAAAAAAAAAAAAAAAAAAAAAAAAAAAAAAAAAAAAAAAAAAAAAAAAAAAAAAAAAAAAA",
            "dtype": "f8"
           },
           "z": {
            "bdata": "AAAAAAAAAAAAAAAAAAAAAAAAAAAAAAAAAAAAAAAAAAAAAAAAAAAAAAAAAAAAAAAA",
            "dtype": "f8"
           }
          },
          {
           "name": "Edges",
           "type": "scatter3d",
           "x": [
            0.014000000000000005,
            0.01900000000000001,
            null,
            0.01900000000000001,
            0.02400000000000001,
            null,
            0.02400000000000001,
            0.028749701257112983,
            null,
            0.028749701257112983,
            0.032955634706421114,
            null,
            0.032955634706421114,
            0.0366413663336237,
            null,
            0.0366413663336237,
            0.04007696730839047,
            null,
            0.04007696730839047,
            0.0436293367333835,
            null,
            0.0436293367333835,
            0.04760655247237755,
            null,
            0.04760655247237755,
            0.052118097854817066,
            null,
            0.052118097854817066,
            0.0569998325611829,
            null,
            0.0569998325611829,
            0.06188151099943206,
            null,
            0.06188151099943206,
            0.06639294017585029,
            null,
            0.06639294017585029,
            0.07037008658892502,
            null,
            0.07037008658892502,
            0.07392250355576786,
            null,
            0.07392250355576786,
            0.07735825955937164,
            null,
            0.07735825955937164,
            0.08104418135853339,
            null,
            0.08104418135853339,
            0.08525025283935667,
            null,
            0.08525025283935667,
            0.09,
            null,
            0.09,
            0.095,
            null,
            0.095,
            0.1,
            null
           ],
           "y": [
            0,
            0,
            null,
            0,
            0,
            null,
            0,
            0.0003503745548127359,
            null,
            0.0003503745548127359,
            0.0008538811494088053,
            null,
            0.0008538811494088053,
            0.0013211824901416945,
            null,
            0.0013211824901416945,
            0.0016081111174679902,
            null,
            0.0016081111174679902,
            0.0016221862433932026,
            null,
            0.0016221862433932026,
            0.001325194586100824,
            null,
            0.001325194586100824,
            0.0007475775162650087,
            null,
            0.0007475775162650087,
            1.263189266218565e-7,
            null,
            1.263189266218565e-7,
            -0.000747316013553092,
            null,
            -0.000747316013553092,
            -0.0013249172365073557,
            null,
            -0.0013249172365073557,
            -0.0016219072998445198,
            null,
            -0.0016219072998445198,
            -0.0016078585047856328,
            null,
            -0.0016078585047856328,
            -0.001320984595797942,
            null,
            -0.001320984595797942,
            -0.0008537571415054983,
            null,
            -0.0008537571415054983,
            -0.0003503255405804568,
            null,
            -0.0003503255405804568,
            0,
            null,
            0,
            0,
            null,
            0,
            0,
            null
           ],
           "z": [
            0,
            0,
            null,
            0,
            0,
            null,
            0,
            -0.0015032032193106068,
            null,
            -0.0015032032193106068,
            -0.004150401318346115,
            null,
            -0.004150401318346115,
            -0.00749033000802872,
            null,
            -0.00749033000802872,
            -0.01110624446398137,
            null,
            -0.01110624446398137,
            -0.014618788197725593,
            null,
            -0.014618788197725593,
            -0.017626066956416435,
            null,
            -0.017626066956416435,
            -0.019688563957317114,
            null,
            -0.019688563957317114,
            -0.020427302138356,
            null,
            -0.020427302138356,
            -0.019688182896098718,
            null,
            -0.019688182896098718,
            -0.01762542707870146,
            null,
            -0.01762542707870146,
            -0.014618056536021525,
            null,
            -0.014618056536021525,
            -0.01110556113030202,
            null,
            -0.01110556113030202,
            -0.007489790226129197,
            null,
            -0.007489790226129197,
            -0.004150061764839206,
            null,
            -0.004150061764839206,
            -0.0015030693303263295,
            null,
            -0.0015030693303263295,
            0,
            null,
            0,
            0,
            null,
            0,
            0,
            null
           ]
          },
          {
           "i": [],
           "j": [],
           "k": [],
           "name": "Faces",
           "type": "mesh3d",
           "x": {
            "bdata": "fOkmMQisjD/e+X5qvHSTP/1+arx0k5g/xyCtyo9wnT+K5ZCaj9+gP7HWKjyowqI/3CXT3/eEpD/6BNWclVamPzBq49PiX6g/puChKzmvqj9/nHQBFS+tP69y8PPurq8/cJW9siD/sD+EIIQkxgOyPyXhNc+V7LI/BAviOsDNsz9eS3e8T7+0P3S36+f10rU/CtejcD0Ktz9SuB6F61G4P5qZmZmZmbk/",
            "dtype": "f8"
           },
           "y": {
            "bdata": "AAAAAAAAAAAAAAAAAAAAAAAAAAAAAAAA2usXQU/2Nj9+wUHO3/pLPz3KlOVwpVU/xVwaKuhYWj+w3EE38ZNaP0f0HtpEtlU/PA3mfSJ/SD+qmG4HSfSAPq0tQ+vwfEi/GV3YDBu1Vb8RpdazxZJavzwkdezYV1q/HFfMaJykVb9/6DCA1flLvzUIYL189Ta/AAAAAAAAAAAAAAAAAAAAAAAAAAAAAAAA",
            "dtype": "f8"
           },
           "z": {
            "bdata": "AAAAAAAAAAAAAAAAAAAAAAAAAAAAAAAAhLWiKuSgWL+UVdfeAgBxvzBQuyYurn6/EZAI5t6+hr+YJruJdPCNvx4nilSRDJK/YiA1KT0plL8o3YQK5eqUvxcqoJYjKZS/cDOGY2YMkr+xvQZWEvCNvzn03S6Dvoa/orYzQZ2tfr9k3ua4p/9wv7cGg2dUoFi/AAAAAAAAAAAAAAAAAAAAAAAAAAAAAAAA",
            "dtype": "f8"
           }
          }
         ],
         "layout": {
          "annotations": [
           {
            "showarrow": false,
            "text": "Time: 0.98s (Step: 99/100)",
            "x": 0.05,
            "xref": "paper",
            "y": 0.95,
            "yref": "paper"
           }
          ]
         },
         "name": "98"
        },
        {
         "data": [
          {
           "name": "Free Nodes",
           "type": "scatter3d",
           "x": {
            "bdata": "8xB+BpZwnT/+51dvnt+gP3zGYYnLwqI/pLyMszGFpD8XIa2P3VamP1XbHaomYKg/4p2oyWKvqj9xyunbFC+tP2Oouf7Erq8/3wtkj/7+sD99sQTroQOyP9XnDqp47LI/mtzRaa7Nsz8/vNQ8SL+0PxgIhlP00rU/",
            "dtype": "f8"
           },
           "y": {
            "bdata": "Cn7zOg82Nz8w9oHPoEhMP1iaOgGt4VU/xJrclkyiWj/ToUBa/t1aP011psm48lU/3Zma6TfDSD+o3KSUjWx8PtrykX5ZwUi/cNQmfLLxVb/16wlN7txav+E6jIZQoVq/NPG0RuTgVb+byy1CokdMv+zQemtENTe/",
            "dtype": "f8"
           },
           "z": {
            "bdata": "pcyYdwGcWL9G74QbH/1wv9E8Uw3XqX6/0XQ9zTy8hr+2jgPhme2Nv8ULNbIZC5K/tj5I98EnlL+XKWSPaOmUv7zW6p6nJ5S/LTYJce0Kkr/4S06gNO2Nv0DThzHeu4a/q+f+hkGpfr8F3GYCwfxwv0lt3PNsm1i/",
            "dtype": "f8"
           }
          },
          {
           "name": "Fixed Nodes",
           "type": "scatter3d",
           "x": {
            "bdata": "fOkmMQisjD/e+X5qvHSTP/1+arx0k5g/CtejcD0Ktz9SuB6F61G4P5qZmZmZmbk/",
            "dtype": "f8"
           },
           "y": {
            "bdata": "AAAAAAAAAAAAAAAAAAAAAAAAAAAAAAAAAAAAAAAAAAAAAAAAAAAAAAAAAAAAAAAA",
            "dtype": "f8"
           },
           "z": {
            "bdata": "AAAAAAAAAAAAAAAAAAAAAAAAAAAAAAAAAAAAAAAAAAAAAAAAAAAAAAAAAAAAAAAA",
            "dtype": "f8"
           }
          },
          {
           "name": "Edges",
           "type": "scatter3d",
           "x": [
            0.014000000000000005,
            0.01900000000000001,
            null,
            0.01900000000000001,
            0.02400000000000001,
            null,
            0.02400000000000001,
            0.02874979414583918,
            null,
            0.02874979414583918,
            0.03295607670948185,
            null,
            0.03295607670948185,
            0.036642418403869365,
            null,
            0.036642418403869365,
            0.040078690688795576,
            null,
            0.040078690688795576,
            0.04363148096905627,
            null,
            0.04363148096905627,
            0.04760857416743273,
            null,
            0.04760857416743273,
            0.05211933814672044,
            null,
            0.05211933814672044,
            0.056999828190687725,
            null,
            0.056999828190687725,
            0.06188026055754461,
            null,
            0.06188026055754461,
            0.06639090538742164,
            null,
            0.06639090538742164,
            0.07036792743446614,
            null,
            0.07036792743446614,
            0.07392076637088903,
            null,
            0.07392076637088903,
            0.07735719760408913,
            null,
            0.07735719760408913,
            0.08104373440868161,
            null,
            0.08104373440868161,
            0.08525015868329466,
            null,
            0.08525015868329466,
            0.09,
            null,
            0.09,
            0.095,
            null,
            0.095,
            0.1,
            null
           ],
           "y": [
            0,
            0,
            null,
            0,
            0,
            null,
            0,
            0.00035417434533077717,
            null,
            0.00035417434533077717,
            0.0008631501396078652,
            null,
            0.0008631501396078652,
            0.0013355435848240362,
            null,
            0.0013355435848240362,
            0.0016256092016619242,
            null,
            0.0016256092016619242,
            0.001639841452751968,
            null,
            0.001639841452751968,
            0.001339607674345561,
            null,
            0.001339607674345561,
            0.0007556937227562417,
            null,
            0.0007556937227562417,
            1.0588778312925305e-7,
            null,
            1.0588778312925305e-7,
            -0.0007554709419675635,
            null,
            -0.0007554709419675635,
            -0.0013393633858929353,
            null,
            -0.0013393633858929353,
            -0.0016395880849404663,
            null,
            -0.0016395880849404663,
            -0.001625374449023269,
            null,
            -0.001625374449023269,
            -0.0013353566417456221,
            null,
            -0.0013353566417456221,
            -0.0008630316045653454,
            null,
            -0.0008630316045653454,
            -0.0003541271248466277,
            null,
            -0.0003541271248466277,
            0,
            null,
            0,
            0,
            null,
            0,
            0,
            null
           ],
           "z": [
            0,
            0,
            null,
            0,
            0,
            null,
            0,
            -0.0015020384147533064,
            null,
            -0.0015020384147533064,
            -0.004147645486508205,
            null,
            -0.004147645486508205,
            -0.007486190840793231,
            null,
            -0.007486190840793231,
            -0.011101222051076583,
            null,
            -0.011101222051076583,
            -0.014613344363574182,
            null,
            -0.014613344363574182,
            -0.017620469571976622,
            null,
            -0.017620469571976622,
            -0.019682913511188636,
            null,
            -0.019682913511188636,
            -0.020421632530124603,
            null,
            -0.020421632530124603,
            -0.019682520937485334,
            null,
            -0.019682520937485334,
            -0.017619810127419356,
            null,
            -0.017619810127419356,
            -0.014612589971681786,
            null,
            -0.014612589971681786,
            -0.011100517164757684,
            null,
            -0.011100517164757684,
            -0.007485633817788366,
            null,
            -0.007485633817788366,
            -0.0041472949437126915,
            null,
            -0.0041472949437126915,
            -0.0015019000997601054,
            null,
            -0.0015019000997601054,
            0,
            null,
            0,
            0,
            null,
            0,
            0,
            null
           ]
          },
          {
           "i": [],
           "j": [],
           "k": [],
           "name": "Faces",
           "type": "mesh3d",
           "x": {
            "bdata": "fOkmMQisjD/e+X5qvHSTP/1+arx0k5g/8xB+BpZwnT/+51dvnt+gP3zGYYnLwqI/pLyMszGFpD8XIa2P3VamP1XbHaomYKg/4p2oyWKvqj9xyunbFC+tP2Oouf7Erq8/3wtkj/7+sD99sQTroQOyP9XnDqp47LI/mtzRaa7Nsz8/vNQ8SL+0PxgIhlP00rU/CtejcD0Ktz9SuB6F61G4P5qZmZmZmbk/",
            "dtype": "f8"
           },
           "y": {
            "bdata": "AAAAAAAAAAAAAAAAAAAAAAAAAAAAAAAACn7zOg82Nz8w9oHPoEhMP1iaOgGt4VU/xJrclkyiWj/ToUBa/t1aP011psm48lU/3Zma6TfDSD+o3KSUjWx8PtrykX5ZwUi/cNQmfLLxVb/16wlN7txav+E6jIZQoVq/NPG0RuTgVb+byy1CokdMv+zQemtENTe/AAAAAAAAAAAAAAAAAAAAAAAAAAAAAAAA",
            "dtype": "f8"
           },
           "z": {
            "bdata": "AAAAAAAAAAAAAAAAAAAAAAAAAAAAAAAApcyYdwGcWL9G74QbH/1wv9E8Uw3XqX6/0XQ9zTy8hr+2jgPhme2Nv8ULNbIZC5K/tj5I98EnlL+XKWSPaOmUv7zW6p6nJ5S/LTYJce0Kkr/4S06gNO2Nv0DThzHeu4a/q+f+hkGpfr8F3GYCwfxwv0lt3PNsm1i/AAAAAAAAAAAAAAAAAAAAAAAAAAAAAAAA",
            "dtype": "f8"
           }
          }
         ],
         "layout": {
          "annotations": [
           {
            "showarrow": false,
            "text": "Time: 0.99s (Step: 100/100)",
            "x": 0.05,
            "xref": "paper",
            "y": 0.95,
            "yref": "paper"
           }
          ]
         },
         "name": "99"
        }
       ],
       "layout": {
        "scene": {
         "camera": {
          "eye": {
           "x": 2,
           "y": 0,
           "z": 0
          }
         },
         "xaxis": {
          "range": [
           0.001,
           0.1
          ],
          "title": {
           "text": "X Position"
          }
         },
         "yaxis": {
          "range": [
           -0.01,
           0.01
          ],
          "title": {
           "text": "Y Position"
          }
         },
         "zaxis": {
          "range": [
           -0.020697548712232755,
           0.000016505504709592877
          ],
          "title": {
           "text": "Z Position"
          }
         }
        },
        "sliders": [
         {
          "currentvalue": {
           "prefix": "Frame: "
          },
          "steps": [
           {
            "args": [
             [
              "0"
             ],
             {
              "frame": {
               "duration": 50,
               "redraw": true
              },
              "mode": "immediate"
             }
            ],
            "label": "0",
            "method": "animate"
           },
           {
            "args": [
             [
              "1"
             ],
             {
              "frame": {
               "duration": 50,
               "redraw": true
              },
              "mode": "immediate"
             }
            ],
            "label": "1",
            "method": "animate"
           },
           {
            "args": [
             [
              "2"
             ],
             {
              "frame": {
               "duration": 50,
               "redraw": true
              },
              "mode": "immediate"
             }
            ],
            "label": "2",
            "method": "animate"
           },
           {
            "args": [
             [
              "3"
             ],
             {
              "frame": {
               "duration": 50,
               "redraw": true
              },
              "mode": "immediate"
             }
            ],
            "label": "3",
            "method": "animate"
           },
           {
            "args": [
             [
              "4"
             ],
             {
              "frame": {
               "duration": 50,
               "redraw": true
              },
              "mode": "immediate"
             }
            ],
            "label": "4",
            "method": "animate"
           },
           {
            "args": [
             [
              "5"
             ],
             {
              "frame": {
               "duration": 50,
               "redraw": true
              },
              "mode": "immediate"
             }
            ],
            "label": "5",
            "method": "animate"
           },
           {
            "args": [
             [
              "6"
             ],
             {
              "frame": {
               "duration": 50,
               "redraw": true
              },
              "mode": "immediate"
             }
            ],
            "label": "6",
            "method": "animate"
           },
           {
            "args": [
             [
              "7"
             ],
             {
              "frame": {
               "duration": 50,
               "redraw": true
              },
              "mode": "immediate"
             }
            ],
            "label": "7",
            "method": "animate"
           },
           {
            "args": [
             [
              "8"
             ],
             {
              "frame": {
               "duration": 50,
               "redraw": true
              },
              "mode": "immediate"
             }
            ],
            "label": "8",
            "method": "animate"
           },
           {
            "args": [
             [
              "9"
             ],
             {
              "frame": {
               "duration": 50,
               "redraw": true
              },
              "mode": "immediate"
             }
            ],
            "label": "9",
            "method": "animate"
           },
           {
            "args": [
             [
              "10"
             ],
             {
              "frame": {
               "duration": 50,
               "redraw": true
              },
              "mode": "immediate"
             }
            ],
            "label": "10",
            "method": "animate"
           },
           {
            "args": [
             [
              "11"
             ],
             {
              "frame": {
               "duration": 50,
               "redraw": true
              },
              "mode": "immediate"
             }
            ],
            "label": "11",
            "method": "animate"
           },
           {
            "args": [
             [
              "12"
             ],
             {
              "frame": {
               "duration": 50,
               "redraw": true
              },
              "mode": "immediate"
             }
            ],
            "label": "12",
            "method": "animate"
           },
           {
            "args": [
             [
              "13"
             ],
             {
              "frame": {
               "duration": 50,
               "redraw": true
              },
              "mode": "immediate"
             }
            ],
            "label": "13",
            "method": "animate"
           },
           {
            "args": [
             [
              "14"
             ],
             {
              "frame": {
               "duration": 50,
               "redraw": true
              },
              "mode": "immediate"
             }
            ],
            "label": "14",
            "method": "animate"
           },
           {
            "args": [
             [
              "15"
             ],
             {
              "frame": {
               "duration": 50,
               "redraw": true
              },
              "mode": "immediate"
             }
            ],
            "label": "15",
            "method": "animate"
           },
           {
            "args": [
             [
              "16"
             ],
             {
              "frame": {
               "duration": 50,
               "redraw": true
              },
              "mode": "immediate"
             }
            ],
            "label": "16",
            "method": "animate"
           },
           {
            "args": [
             [
              "17"
             ],
             {
              "frame": {
               "duration": 50,
               "redraw": true
              },
              "mode": "immediate"
             }
            ],
            "label": "17",
            "method": "animate"
           },
           {
            "args": [
             [
              "18"
             ],
             {
              "frame": {
               "duration": 50,
               "redraw": true
              },
              "mode": "immediate"
             }
            ],
            "label": "18",
            "method": "animate"
           },
           {
            "args": [
             [
              "19"
             ],
             {
              "frame": {
               "duration": 50,
               "redraw": true
              },
              "mode": "immediate"
             }
            ],
            "label": "19",
            "method": "animate"
           },
           {
            "args": [
             [
              "20"
             ],
             {
              "frame": {
               "duration": 50,
               "redraw": true
              },
              "mode": "immediate"
             }
            ],
            "label": "20",
            "method": "animate"
           },
           {
            "args": [
             [
              "21"
             ],
             {
              "frame": {
               "duration": 50,
               "redraw": true
              },
              "mode": "immediate"
             }
            ],
            "label": "21",
            "method": "animate"
           },
           {
            "args": [
             [
              "22"
             ],
             {
              "frame": {
               "duration": 50,
               "redraw": true
              },
              "mode": "immediate"
             }
            ],
            "label": "22",
            "method": "animate"
           },
           {
            "args": [
             [
              "23"
             ],
             {
              "frame": {
               "duration": 50,
               "redraw": true
              },
              "mode": "immediate"
             }
            ],
            "label": "23",
            "method": "animate"
           },
           {
            "args": [
             [
              "24"
             ],
             {
              "frame": {
               "duration": 50,
               "redraw": true
              },
              "mode": "immediate"
             }
            ],
            "label": "24",
            "method": "animate"
           },
           {
            "args": [
             [
              "25"
             ],
             {
              "frame": {
               "duration": 50,
               "redraw": true
              },
              "mode": "immediate"
             }
            ],
            "label": "25",
            "method": "animate"
           },
           {
            "args": [
             [
              "26"
             ],
             {
              "frame": {
               "duration": 50,
               "redraw": true
              },
              "mode": "immediate"
             }
            ],
            "label": "26",
            "method": "animate"
           },
           {
            "args": [
             [
              "27"
             ],
             {
              "frame": {
               "duration": 50,
               "redraw": true
              },
              "mode": "immediate"
             }
            ],
            "label": "27",
            "method": "animate"
           },
           {
            "args": [
             [
              "28"
             ],
             {
              "frame": {
               "duration": 50,
               "redraw": true
              },
              "mode": "immediate"
             }
            ],
            "label": "28",
            "method": "animate"
           },
           {
            "args": [
             [
              "29"
             ],
             {
              "frame": {
               "duration": 50,
               "redraw": true
              },
              "mode": "immediate"
             }
            ],
            "label": "29",
            "method": "animate"
           },
           {
            "args": [
             [
              "30"
             ],
             {
              "frame": {
               "duration": 50,
               "redraw": true
              },
              "mode": "immediate"
             }
            ],
            "label": "30",
            "method": "animate"
           },
           {
            "args": [
             [
              "31"
             ],
             {
              "frame": {
               "duration": 50,
               "redraw": true
              },
              "mode": "immediate"
             }
            ],
            "label": "31",
            "method": "animate"
           },
           {
            "args": [
             [
              "32"
             ],
             {
              "frame": {
               "duration": 50,
               "redraw": true
              },
              "mode": "immediate"
             }
            ],
            "label": "32",
            "method": "animate"
           },
           {
            "args": [
             [
              "33"
             ],
             {
              "frame": {
               "duration": 50,
               "redraw": true
              },
              "mode": "immediate"
             }
            ],
            "label": "33",
            "method": "animate"
           },
           {
            "args": [
             [
              "34"
             ],
             {
              "frame": {
               "duration": 50,
               "redraw": true
              },
              "mode": "immediate"
             }
            ],
            "label": "34",
            "method": "animate"
           },
           {
            "args": [
             [
              "35"
             ],
             {
              "frame": {
               "duration": 50,
               "redraw": true
              },
              "mode": "immediate"
             }
            ],
            "label": "35",
            "method": "animate"
           },
           {
            "args": [
             [
              "36"
             ],
             {
              "frame": {
               "duration": 50,
               "redraw": true
              },
              "mode": "immediate"
             }
            ],
            "label": "36",
            "method": "animate"
           },
           {
            "args": [
             [
              "37"
             ],
             {
              "frame": {
               "duration": 50,
               "redraw": true
              },
              "mode": "immediate"
             }
            ],
            "label": "37",
            "method": "animate"
           },
           {
            "args": [
             [
              "38"
             ],
             {
              "frame": {
               "duration": 50,
               "redraw": true
              },
              "mode": "immediate"
             }
            ],
            "label": "38",
            "method": "animate"
           },
           {
            "args": [
             [
              "39"
             ],
             {
              "frame": {
               "duration": 50,
               "redraw": true
              },
              "mode": "immediate"
             }
            ],
            "label": "39",
            "method": "animate"
           },
           {
            "args": [
             [
              "40"
             ],
             {
              "frame": {
               "duration": 50,
               "redraw": true
              },
              "mode": "immediate"
             }
            ],
            "label": "40",
            "method": "animate"
           },
           {
            "args": [
             [
              "41"
             ],
             {
              "frame": {
               "duration": 50,
               "redraw": true
              },
              "mode": "immediate"
             }
            ],
            "label": "41",
            "method": "animate"
           },
           {
            "args": [
             [
              "42"
             ],
             {
              "frame": {
               "duration": 50,
               "redraw": true
              },
              "mode": "immediate"
             }
            ],
            "label": "42",
            "method": "animate"
           },
           {
            "args": [
             [
              "43"
             ],
             {
              "frame": {
               "duration": 50,
               "redraw": true
              },
              "mode": "immediate"
             }
            ],
            "label": "43",
            "method": "animate"
           },
           {
            "args": [
             [
              "44"
             ],
             {
              "frame": {
               "duration": 50,
               "redraw": true
              },
              "mode": "immediate"
             }
            ],
            "label": "44",
            "method": "animate"
           },
           {
            "args": [
             [
              "45"
             ],
             {
              "frame": {
               "duration": 50,
               "redraw": true
              },
              "mode": "immediate"
             }
            ],
            "label": "45",
            "method": "animate"
           },
           {
            "args": [
             [
              "46"
             ],
             {
              "frame": {
               "duration": 50,
               "redraw": true
              },
              "mode": "immediate"
             }
            ],
            "label": "46",
            "method": "animate"
           },
           {
            "args": [
             [
              "47"
             ],
             {
              "frame": {
               "duration": 50,
               "redraw": true
              },
              "mode": "immediate"
             }
            ],
            "label": "47",
            "method": "animate"
           },
           {
            "args": [
             [
              "48"
             ],
             {
              "frame": {
               "duration": 50,
               "redraw": true
              },
              "mode": "immediate"
             }
            ],
            "label": "48",
            "method": "animate"
           },
           {
            "args": [
             [
              "49"
             ],
             {
              "frame": {
               "duration": 50,
               "redraw": true
              },
              "mode": "immediate"
             }
            ],
            "label": "49",
            "method": "animate"
           },
           {
            "args": [
             [
              "50"
             ],
             {
              "frame": {
               "duration": 50,
               "redraw": true
              },
              "mode": "immediate"
             }
            ],
            "label": "50",
            "method": "animate"
           },
           {
            "args": [
             [
              "51"
             ],
             {
              "frame": {
               "duration": 50,
               "redraw": true
              },
              "mode": "immediate"
             }
            ],
            "label": "51",
            "method": "animate"
           },
           {
            "args": [
             [
              "52"
             ],
             {
              "frame": {
               "duration": 50,
               "redraw": true
              },
              "mode": "immediate"
             }
            ],
            "label": "52",
            "method": "animate"
           },
           {
            "args": [
             [
              "53"
             ],
             {
              "frame": {
               "duration": 50,
               "redraw": true
              },
              "mode": "immediate"
             }
            ],
            "label": "53",
            "method": "animate"
           },
           {
            "args": [
             [
              "54"
             ],
             {
              "frame": {
               "duration": 50,
               "redraw": true
              },
              "mode": "immediate"
             }
            ],
            "label": "54",
            "method": "animate"
           },
           {
            "args": [
             [
              "55"
             ],
             {
              "frame": {
               "duration": 50,
               "redraw": true
              },
              "mode": "immediate"
             }
            ],
            "label": "55",
            "method": "animate"
           },
           {
            "args": [
             [
              "56"
             ],
             {
              "frame": {
               "duration": 50,
               "redraw": true
              },
              "mode": "immediate"
             }
            ],
            "label": "56",
            "method": "animate"
           },
           {
            "args": [
             [
              "57"
             ],
             {
              "frame": {
               "duration": 50,
               "redraw": true
              },
              "mode": "immediate"
             }
            ],
            "label": "57",
            "method": "animate"
           },
           {
            "args": [
             [
              "58"
             ],
             {
              "frame": {
               "duration": 50,
               "redraw": true
              },
              "mode": "immediate"
             }
            ],
            "label": "58",
            "method": "animate"
           },
           {
            "args": [
             [
              "59"
             ],
             {
              "frame": {
               "duration": 50,
               "redraw": true
              },
              "mode": "immediate"
             }
            ],
            "label": "59",
            "method": "animate"
           },
           {
            "args": [
             [
              "60"
             ],
             {
              "frame": {
               "duration": 50,
               "redraw": true
              },
              "mode": "immediate"
             }
            ],
            "label": "60",
            "method": "animate"
           },
           {
            "args": [
             [
              "61"
             ],
             {
              "frame": {
               "duration": 50,
               "redraw": true
              },
              "mode": "immediate"
             }
            ],
            "label": "61",
            "method": "animate"
           },
           {
            "args": [
             [
              "62"
             ],
             {
              "frame": {
               "duration": 50,
               "redraw": true
              },
              "mode": "immediate"
             }
            ],
            "label": "62",
            "method": "animate"
           },
           {
            "args": [
             [
              "63"
             ],
             {
              "frame": {
               "duration": 50,
               "redraw": true
              },
              "mode": "immediate"
             }
            ],
            "label": "63",
            "method": "animate"
           },
           {
            "args": [
             [
              "64"
             ],
             {
              "frame": {
               "duration": 50,
               "redraw": true
              },
              "mode": "immediate"
             }
            ],
            "label": "64",
            "method": "animate"
           },
           {
            "args": [
             [
              "65"
             ],
             {
              "frame": {
               "duration": 50,
               "redraw": true
              },
              "mode": "immediate"
             }
            ],
            "label": "65",
            "method": "animate"
           },
           {
            "args": [
             [
              "66"
             ],
             {
              "frame": {
               "duration": 50,
               "redraw": true
              },
              "mode": "immediate"
             }
            ],
            "label": "66",
            "method": "animate"
           },
           {
            "args": [
             [
              "67"
             ],
             {
              "frame": {
               "duration": 50,
               "redraw": true
              },
              "mode": "immediate"
             }
            ],
            "label": "67",
            "method": "animate"
           },
           {
            "args": [
             [
              "68"
             ],
             {
              "frame": {
               "duration": 50,
               "redraw": true
              },
              "mode": "immediate"
             }
            ],
            "label": "68",
            "method": "animate"
           },
           {
            "args": [
             [
              "69"
             ],
             {
              "frame": {
               "duration": 50,
               "redraw": true
              },
              "mode": "immediate"
             }
            ],
            "label": "69",
            "method": "animate"
           },
           {
            "args": [
             [
              "70"
             ],
             {
              "frame": {
               "duration": 50,
               "redraw": true
              },
              "mode": "immediate"
             }
            ],
            "label": "70",
            "method": "animate"
           },
           {
            "args": [
             [
              "71"
             ],
             {
              "frame": {
               "duration": 50,
               "redraw": true
              },
              "mode": "immediate"
             }
            ],
            "label": "71",
            "method": "animate"
           },
           {
            "args": [
             [
              "72"
             ],
             {
              "frame": {
               "duration": 50,
               "redraw": true
              },
              "mode": "immediate"
             }
            ],
            "label": "72",
            "method": "animate"
           },
           {
            "args": [
             [
              "73"
             ],
             {
              "frame": {
               "duration": 50,
               "redraw": true
              },
              "mode": "immediate"
             }
            ],
            "label": "73",
            "method": "animate"
           },
           {
            "args": [
             [
              "74"
             ],
             {
              "frame": {
               "duration": 50,
               "redraw": true
              },
              "mode": "immediate"
             }
            ],
            "label": "74",
            "method": "animate"
           },
           {
            "args": [
             [
              "75"
             ],
             {
              "frame": {
               "duration": 50,
               "redraw": true
              },
              "mode": "immediate"
             }
            ],
            "label": "75",
            "method": "animate"
           },
           {
            "args": [
             [
              "76"
             ],
             {
              "frame": {
               "duration": 50,
               "redraw": true
              },
              "mode": "immediate"
             }
            ],
            "label": "76",
            "method": "animate"
           },
           {
            "args": [
             [
              "77"
             ],
             {
              "frame": {
               "duration": 50,
               "redraw": true
              },
              "mode": "immediate"
             }
            ],
            "label": "77",
            "method": "animate"
           },
           {
            "args": [
             [
              "78"
             ],
             {
              "frame": {
               "duration": 50,
               "redraw": true
              },
              "mode": "immediate"
             }
            ],
            "label": "78",
            "method": "animate"
           },
           {
            "args": [
             [
              "79"
             ],
             {
              "frame": {
               "duration": 50,
               "redraw": true
              },
              "mode": "immediate"
             }
            ],
            "label": "79",
            "method": "animate"
           },
           {
            "args": [
             [
              "80"
             ],
             {
              "frame": {
               "duration": 50,
               "redraw": true
              },
              "mode": "immediate"
             }
            ],
            "label": "80",
            "method": "animate"
           },
           {
            "args": [
             [
              "81"
             ],
             {
              "frame": {
               "duration": 50,
               "redraw": true
              },
              "mode": "immediate"
             }
            ],
            "label": "81",
            "method": "animate"
           },
           {
            "args": [
             [
              "82"
             ],
             {
              "frame": {
               "duration": 50,
               "redraw": true
              },
              "mode": "immediate"
             }
            ],
            "label": "82",
            "method": "animate"
           },
           {
            "args": [
             [
              "83"
             ],
             {
              "frame": {
               "duration": 50,
               "redraw": true
              },
              "mode": "immediate"
             }
            ],
            "label": "83",
            "method": "animate"
           },
           {
            "args": [
             [
              "84"
             ],
             {
              "frame": {
               "duration": 50,
               "redraw": true
              },
              "mode": "immediate"
             }
            ],
            "label": "84",
            "method": "animate"
           },
           {
            "args": [
             [
              "85"
             ],
             {
              "frame": {
               "duration": 50,
               "redraw": true
              },
              "mode": "immediate"
             }
            ],
            "label": "85",
            "method": "animate"
           },
           {
            "args": [
             [
              "86"
             ],
             {
              "frame": {
               "duration": 50,
               "redraw": true
              },
              "mode": "immediate"
             }
            ],
            "label": "86",
            "method": "animate"
           },
           {
            "args": [
             [
              "87"
             ],
             {
              "frame": {
               "duration": 50,
               "redraw": true
              },
              "mode": "immediate"
             }
            ],
            "label": "87",
            "method": "animate"
           },
           {
            "args": [
             [
              "88"
             ],
             {
              "frame": {
               "duration": 50,
               "redraw": true
              },
              "mode": "immediate"
             }
            ],
            "label": "88",
            "method": "animate"
           },
           {
            "args": [
             [
              "89"
             ],
             {
              "frame": {
               "duration": 50,
               "redraw": true
              },
              "mode": "immediate"
             }
            ],
            "label": "89",
            "method": "animate"
           },
           {
            "args": [
             [
              "90"
             ],
             {
              "frame": {
               "duration": 50,
               "redraw": true
              },
              "mode": "immediate"
             }
            ],
            "label": "90",
            "method": "animate"
           },
           {
            "args": [
             [
              "91"
             ],
             {
              "frame": {
               "duration": 50,
               "redraw": true
              },
              "mode": "immediate"
             }
            ],
            "label": "91",
            "method": "animate"
           },
           {
            "args": [
             [
              "92"
             ],
             {
              "frame": {
               "duration": 50,
               "redraw": true
              },
              "mode": "immediate"
             }
            ],
            "label": "92",
            "method": "animate"
           },
           {
            "args": [
             [
              "93"
             ],
             {
              "frame": {
               "duration": 50,
               "redraw": true
              },
              "mode": "immediate"
             }
            ],
            "label": "93",
            "method": "animate"
           },
           {
            "args": [
             [
              "94"
             ],
             {
              "frame": {
               "duration": 50,
               "redraw": true
              },
              "mode": "immediate"
             }
            ],
            "label": "94",
            "method": "animate"
           },
           {
            "args": [
             [
              "95"
             ],
             {
              "frame": {
               "duration": 50,
               "redraw": true
              },
              "mode": "immediate"
             }
            ],
            "label": "95",
            "method": "animate"
           },
           {
            "args": [
             [
              "96"
             ],
             {
              "frame": {
               "duration": 50,
               "redraw": true
              },
              "mode": "immediate"
             }
            ],
            "label": "96",
            "method": "animate"
           },
           {
            "args": [
             [
              "97"
             ],
             {
              "frame": {
               "duration": 50,
               "redraw": true
              },
              "mode": "immediate"
             }
            ],
            "label": "97",
            "method": "animate"
           },
           {
            "args": [
             [
              "98"
             ],
             {
              "frame": {
               "duration": 50,
               "redraw": true
              },
              "mode": "immediate"
             }
            ],
            "label": "98",
            "method": "animate"
           },
           {
            "args": [
             [
              "99"
             ],
             {
              "frame": {
               "duration": 50,
               "redraw": true
              },
              "mode": "immediate"
             }
            ],
            "label": "99",
            "method": "animate"
           }
          ],
          "transition": {
           "duration": 0
          },
          "x": 0.1,
          "y": 0
         }
        ],
        "template": {
         "data": {
          "bar": [
           {
            "error_x": {
             "color": "#2a3f5f"
            },
            "error_y": {
             "color": "#2a3f5f"
            },
            "marker": {
             "line": {
              "color": "#E5ECF6",
              "width": 0.5
             },
             "pattern": {
              "fillmode": "overlay",
              "size": 10,
              "solidity": 0.2
             }
            },
            "type": "bar"
           }
          ],
          "barpolar": [
           {
            "marker": {
             "line": {
              "color": "#E5ECF6",
              "width": 0.5
             },
             "pattern": {
              "fillmode": "overlay",
              "size": 10,
              "solidity": 0.2
             }
            },
            "type": "barpolar"
           }
          ],
          "carpet": [
           {
            "aaxis": {
             "endlinecolor": "#2a3f5f",
             "gridcolor": "white",
             "linecolor": "white",
             "minorgridcolor": "white",
             "startlinecolor": "#2a3f5f"
            },
            "baxis": {
             "endlinecolor": "#2a3f5f",
             "gridcolor": "white",
             "linecolor": "white",
             "minorgridcolor": "white",
             "startlinecolor": "#2a3f5f"
            },
            "type": "carpet"
           }
          ],
          "choropleth": [
           {
            "colorbar": {
             "outlinewidth": 0,
             "ticks": ""
            },
            "type": "choropleth"
           }
          ],
          "contour": [
           {
            "colorbar": {
             "outlinewidth": 0,
             "ticks": ""
            },
            "colorscale": [
             [
              0,
              "#0d0887"
             ],
             [
              0.1111111111111111,
              "#46039f"
             ],
             [
              0.2222222222222222,
              "#7201a8"
             ],
             [
              0.3333333333333333,
              "#9c179e"
             ],
             [
              0.4444444444444444,
              "#bd3786"
             ],
             [
              0.5555555555555556,
              "#d8576b"
             ],
             [
              0.6666666666666666,
              "#ed7953"
             ],
             [
              0.7777777777777778,
              "#fb9f3a"
             ],
             [
              0.8888888888888888,
              "#fdca26"
             ],
             [
              1,
              "#f0f921"
             ]
            ],
            "type": "contour"
           }
          ],
          "contourcarpet": [
           {
            "colorbar": {
             "outlinewidth": 0,
             "ticks": ""
            },
            "type": "contourcarpet"
           }
          ],
          "heatmap": [
           {
            "colorbar": {
             "outlinewidth": 0,
             "ticks": ""
            },
            "colorscale": [
             [
              0,
              "#0d0887"
             ],
             [
              0.1111111111111111,
              "#46039f"
             ],
             [
              0.2222222222222222,
              "#7201a8"
             ],
             [
              0.3333333333333333,
              "#9c179e"
             ],
             [
              0.4444444444444444,
              "#bd3786"
             ],
             [
              0.5555555555555556,
              "#d8576b"
             ],
             [
              0.6666666666666666,
              "#ed7953"
             ],
             [
              0.7777777777777778,
              "#fb9f3a"
             ],
             [
              0.8888888888888888,
              "#fdca26"
             ],
             [
              1,
              "#f0f921"
             ]
            ],
            "type": "heatmap"
           }
          ],
          "histogram": [
           {
            "marker": {
             "pattern": {
              "fillmode": "overlay",
              "size": 10,
              "solidity": 0.2
             }
            },
            "type": "histogram"
           }
          ],
          "histogram2d": [
           {
            "colorbar": {
             "outlinewidth": 0,
             "ticks": ""
            },
            "colorscale": [
             [
              0,
              "#0d0887"
             ],
             [
              0.1111111111111111,
              "#46039f"
             ],
             [
              0.2222222222222222,
              "#7201a8"
             ],
             [
              0.3333333333333333,
              "#9c179e"
             ],
             [
              0.4444444444444444,
              "#bd3786"
             ],
             [
              0.5555555555555556,
              "#d8576b"
             ],
             [
              0.6666666666666666,
              "#ed7953"
             ],
             [
              0.7777777777777778,
              "#fb9f3a"
             ],
             [
              0.8888888888888888,
              "#fdca26"
             ],
             [
              1,
              "#f0f921"
             ]
            ],
            "type": "histogram2d"
           }
          ],
          "histogram2dcontour": [
           {
            "colorbar": {
             "outlinewidth": 0,
             "ticks": ""
            },
            "colorscale": [
             [
              0,
              "#0d0887"
             ],
             [
              0.1111111111111111,
              "#46039f"
             ],
             [
              0.2222222222222222,
              "#7201a8"
             ],
             [
              0.3333333333333333,
              "#9c179e"
             ],
             [
              0.4444444444444444,
              "#bd3786"
             ],
             [
              0.5555555555555556,
              "#d8576b"
             ],
             [
              0.6666666666666666,
              "#ed7953"
             ],
             [
              0.7777777777777778,
              "#fb9f3a"
             ],
             [
              0.8888888888888888,
              "#fdca26"
             ],
             [
              1,
              "#f0f921"
             ]
            ],
            "type": "histogram2dcontour"
           }
          ],
          "mesh3d": [
           {
            "colorbar": {
             "outlinewidth": 0,
             "ticks": ""
            },
            "type": "mesh3d"
           }
          ],
          "parcoords": [
           {
            "line": {
             "colorbar": {
              "outlinewidth": 0,
              "ticks": ""
             }
            },
            "type": "parcoords"
           }
          ],
          "pie": [
           {
            "automargin": true,
            "type": "pie"
           }
          ],
          "scatter": [
           {
            "fillpattern": {
             "fillmode": "overlay",
             "size": 10,
             "solidity": 0.2
            },
            "type": "scatter"
           }
          ],
          "scatter3d": [
           {
            "line": {
             "colorbar": {
              "outlinewidth": 0,
              "ticks": ""
             }
            },
            "marker": {
             "colorbar": {
              "outlinewidth": 0,
              "ticks": ""
             }
            },
            "type": "scatter3d"
           }
          ],
          "scattercarpet": [
           {
            "marker": {
             "colorbar": {
              "outlinewidth": 0,
              "ticks": ""
             }
            },
            "type": "scattercarpet"
           }
          ],
          "scattergeo": [
           {
            "marker": {
             "colorbar": {
              "outlinewidth": 0,
              "ticks": ""
             }
            },
            "type": "scattergeo"
           }
          ],
          "scattergl": [
           {
            "marker": {
             "colorbar": {
              "outlinewidth": 0,
              "ticks": ""
             }
            },
            "type": "scattergl"
           }
          ],
          "scattermap": [
           {
            "marker": {
             "colorbar": {
              "outlinewidth": 0,
              "ticks": ""
             }
            },
            "type": "scattermap"
           }
          ],
          "scattermapbox": [
           {
            "marker": {
             "colorbar": {
              "outlinewidth": 0,
              "ticks": ""
             }
            },
            "type": "scattermapbox"
           }
          ],
          "scatterpolar": [
           {
            "marker": {
             "colorbar": {
              "outlinewidth": 0,
              "ticks": ""
             }
            },
            "type": "scatterpolar"
           }
          ],
          "scatterpolargl": [
           {
            "marker": {
             "colorbar": {
              "outlinewidth": 0,
              "ticks": ""
             }
            },
            "type": "scatterpolargl"
           }
          ],
          "scatterternary": [
           {
            "marker": {
             "colorbar": {
              "outlinewidth": 0,
              "ticks": ""
             }
            },
            "type": "scatterternary"
           }
          ],
          "surface": [
           {
            "colorbar": {
             "outlinewidth": 0,
             "ticks": ""
            },
            "colorscale": [
             [
              0,
              "#0d0887"
             ],
             [
              0.1111111111111111,
              "#46039f"
             ],
             [
              0.2222222222222222,
              "#7201a8"
             ],
             [
              0.3333333333333333,
              "#9c179e"
             ],
             [
              0.4444444444444444,
              "#bd3786"
             ],
             [
              0.5555555555555556,
              "#d8576b"
             ],
             [
              0.6666666666666666,
              "#ed7953"
             ],
             [
              0.7777777777777778,
              "#fb9f3a"
             ],
             [
              0.8888888888888888,
              "#fdca26"
             ],
             [
              1,
              "#f0f921"
             ]
            ],
            "type": "surface"
           }
          ],
          "table": [
           {
            "cells": {
             "fill": {
              "color": "#EBF0F8"
             },
             "line": {
              "color": "white"
             }
            },
            "header": {
             "fill": {
              "color": "#C8D4E3"
             },
             "line": {
              "color": "white"
             }
            },
            "type": "table"
           }
          ]
         },
         "layout": {
          "annotationdefaults": {
           "arrowcolor": "#2a3f5f",
           "arrowhead": 0,
           "arrowwidth": 1
          },
          "autotypenumbers": "strict",
          "coloraxis": {
           "colorbar": {
            "outlinewidth": 0,
            "ticks": ""
           }
          },
          "colorscale": {
           "diverging": [
            [
             0,
             "#8e0152"
            ],
            [
             0.1,
             "#c51b7d"
            ],
            [
             0.2,
             "#de77ae"
            ],
            [
             0.3,
             "#f1b6da"
            ],
            [
             0.4,
             "#fde0ef"
            ],
            [
             0.5,
             "#f7f7f7"
            ],
            [
             0.6,
             "#e6f5d0"
            ],
            [
             0.7,
             "#b8e186"
            ],
            [
             0.8,
             "#7fbc41"
            ],
            [
             0.9,
             "#4d9221"
            ],
            [
             1,
             "#276419"
            ]
           ],
           "sequential": [
            [
             0,
             "#0d0887"
            ],
            [
             0.1111111111111111,
             "#46039f"
            ],
            [
             0.2222222222222222,
             "#7201a8"
            ],
            [
             0.3333333333333333,
             "#9c179e"
            ],
            [
             0.4444444444444444,
             "#bd3786"
            ],
            [
             0.5555555555555556,
             "#d8576b"
            ],
            [
             0.6666666666666666,
             "#ed7953"
            ],
            [
             0.7777777777777778,
             "#fb9f3a"
            ],
            [
             0.8888888888888888,
             "#fdca26"
            ],
            [
             1,
             "#f0f921"
            ]
           ],
           "sequentialminus": [
            [
             0,
             "#0d0887"
            ],
            [
             0.1111111111111111,
             "#46039f"
            ],
            [
             0.2222222222222222,
             "#7201a8"
            ],
            [
             0.3333333333333333,
             "#9c179e"
            ],
            [
             0.4444444444444444,
             "#bd3786"
            ],
            [
             0.5555555555555556,
             "#d8576b"
            ],
            [
             0.6666666666666666,
             "#ed7953"
            ],
            [
             0.7777777777777778,
             "#fb9f3a"
            ],
            [
             0.8888888888888888,
             "#fdca26"
            ],
            [
             1,
             "#f0f921"
            ]
           ]
          },
          "colorway": [
           "#636efa",
           "#EF553B",
           "#00cc96",
           "#ab63fa",
           "#FFA15A",
           "#19d3f3",
           "#FF6692",
           "#B6E880",
           "#FF97FF",
           "#FECB52"
          ],
          "font": {
           "color": "#2a3f5f"
          },
          "geo": {
           "bgcolor": "white",
           "lakecolor": "white",
           "landcolor": "#E5ECF6",
           "showlakes": true,
           "showland": true,
           "subunitcolor": "white"
          },
          "hoverlabel": {
           "align": "left"
          },
          "hovermode": "closest",
          "mapbox": {
           "style": "light"
          },
          "paper_bgcolor": "white",
          "plot_bgcolor": "#E5ECF6",
          "polar": {
           "angularaxis": {
            "gridcolor": "white",
            "linecolor": "white",
            "ticks": ""
           },
           "bgcolor": "#E5ECF6",
           "radialaxis": {
            "gridcolor": "white",
            "linecolor": "white",
            "ticks": ""
           }
          },
          "scene": {
           "xaxis": {
            "backgroundcolor": "#E5ECF6",
            "gridcolor": "white",
            "gridwidth": 2,
            "linecolor": "white",
            "showbackground": true,
            "ticks": "",
            "zerolinecolor": "white"
           },
           "yaxis": {
            "backgroundcolor": "#E5ECF6",
            "gridcolor": "white",
            "gridwidth": 2,
            "linecolor": "white",
            "showbackground": true,
            "ticks": "",
            "zerolinecolor": "white"
           },
           "zaxis": {
            "backgroundcolor": "#E5ECF6",
            "gridcolor": "white",
            "gridwidth": 2,
            "linecolor": "white",
            "showbackground": true,
            "ticks": "",
            "zerolinecolor": "white"
           }
          },
          "shapedefaults": {
           "line": {
            "color": "#2a3f5f"
           }
          },
          "ternary": {
           "aaxis": {
            "gridcolor": "white",
            "linecolor": "white",
            "ticks": ""
           },
           "baxis": {
            "gridcolor": "white",
            "linecolor": "white",
            "ticks": ""
           },
           "bgcolor": "#E5ECF6",
           "caxis": {
            "gridcolor": "white",
            "linecolor": "white",
            "ticks": ""
           }
          },
          "title": {
           "x": 0.05
          },
          "xaxis": {
           "automargin": true,
           "gridcolor": "white",
           "linecolor": "white",
           "ticks": "",
           "title": {
            "standoff": 15
           },
           "zerolinecolor": "white",
           "zerolinewidth": 2
          },
          "yaxis": {
           "automargin": true,
           "gridcolor": "white",
           "linecolor": "white",
           "ticks": "",
           "title": {
            "standoff": 15
           },
           "zerolinecolor": "white",
           "zerolinewidth": 2
          }
         }
        },
        "title": {
         "text": "Contortion Cantilever (N=21)"
        },
        "updatemenus": [
         {
          "buttons": [
           {
            "args": [
             null,
             {
              "frame": {
               "duration": 50,
               "redraw": true
              },
              "fromcurrent": true
             }
            ],
            "label": "Play",
            "method": "animate"
           },
           {
            "args": [
             [
              null
             ],
             {
              "frame": {
               "duration": 0,
               "redraw": true
              },
              "mode": "immediate"
             }
            ],
            "label": "Pause",
            "method": "animate"
           }
          ],
          "direction": "left",
          "pad": {
           "r": 10,
           "t": 87
          },
          "showactive": false,
          "type": "buttons",
          "x": 0.1,
          "xanchor": "right",
          "y": 0,
          "yanchor": "top"
         }
        ]
       }
      }
     },
     "metadata": {},
     "output_type": "display_data"
    }
   ],
   "source": [
    "# Plot DOF vector on plotly\n",
    "t = np.arange(robot.sim_params.total_time, step=robot.sim_params.dt)\n",
    "options = dismech.AnimationOptions(y_lim=[-0.01, 0.01],\n",
    "                  title='Contortion Cantilever (N=21)',\n",
    "                  camera_view=(0,0))\n",
    "\n",
    "fig = dismech.get_interactive_animation_plotly(robot, t, qs, options)\n",
    "fig.show()"
   ]
  }
 ],
 "metadata": {
  "kernelspec": {
   "display_name": ".venv",
   "language": "python",
   "name": "python3"
  },
  "language_info": {
   "codemirror_mode": {
    "name": "ipython",
    "version": 3
   },
   "file_extension": ".py",
   "mimetype": "text/x-python",
   "name": "python",
   "nbconvert_exporter": "python",
   "pygments_lexer": "ipython3",
   "version": "3.12.1"
  }
 },
 "nbformat": 4,
 "nbformat_minor": 2
}
