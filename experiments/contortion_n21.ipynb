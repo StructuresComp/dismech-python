{
 "cells": [
  {
   "cell_type": "markdown",
   "metadata": {},
   "source": [
    "## Rod Cantilever Example"
   ]
  },
  {
   "cell_type": "code",
   "execution_count": null,
   "metadata": {},
   "outputs": [],
   "source": [
    "import numpy as np\n",
    "\n",
    "import dismech\n",
    "\n",
    "geom = dismech.GeomParams(rod_r0=0.001,\n",
    "                          shell_h=0)\n",
    "\n",
    "material = dismech.Material(density=1200,\n",
    "                            youngs_rod=2e6,\n",
    "                            youngs_shell=0,\n",
    "                            poisson_rod=0.5,\n",
    "                            poisson_shell=0)\n",
    "\n",
    "static_2d_sim = dismech.SimParams(static_sim=False,\n",
    "                                  two_d_sim=False,\n",
    "                                  use_mid_edge=False,\n",
    "                                  use_line_search=False,\n",
    "                                  show_floor=False,\n",
    "                                  log_data=True,\n",
    "                                  log_step=1,\n",
    "                                  dt=1e-2,\n",
    "                                  max_iter=25,\n",
    "                                  total_time=1.0,\n",
    "                                  plot_step=1,\n",
    "                                  tol=1e-4,\n",
    "                                  ftol=1e-4,\n",
    "                                  dtol=1e-2)\n",
    "\n",
    "env = dismech.Environment()\n",
    "env.add_force('gravity', g=np.array([0.0, 0.0, -9.81]))\n",
    "\n",
    "geo = dismech.Geometry.from_txt(\n",
    "    '../tests/resources/rod_cantilever/horizontal_rod_n21.txt')\n",
    "\n",
    "robot = dismech.SoftRobot(geom, material, geo, static_2d_sim, env)"
   ]
  },
  {
   "cell_type": "markdown",
   "metadata": {},
   "source": [
    "### Time Stepping\n",
    "\n",
    "Contortion requires a simple moving boundary which is implemented as a before_step callback."
   ]
  },
  {
   "cell_type": "code",
   "execution_count": null,
   "metadata": {},
   "outputs": [],
   "source": [
    "# Fix first 3 and last 3 nodes\n",
    "start = np.array(\n",
    "    np.where(robot.state.q[robot.node_dof_indices].reshape(-1, 3)[:, 0] <= 0.01)[0])\n",
    "end = np.array(\n",
    "    np.where(robot.state.q[robot.node_dof_indices].reshape(-1, 3)[:, 0] >= 0.09)[0])\n",
    "\n",
    "robot = robot.fix_nodes(np.union1d(start, end))\n",
    "\n",
    "def move_and_twist(robot: dismech.SoftRobot, t: float):\n",
    "    \"\"\" Simple example of a moving boundary condition \"\"\"\n",
    "    u0 = 0.1\n",
    "    w0 = 2\n",
    "\n",
    "    # Does not converge if moved on first time step\n",
    "    if t == robot.sim_params.dt:\n",
    "        return robot\n",
    "\n",
    "    if t < 0.15:\n",
    "        # 0 = x, 1 = y, 2 = z\n",
    "        robot = robot.move_nodes(start, u0 * robot.sim_params.dt, 0)\n",
    "    else:\n",
    "        robot = robot.twist_edges([0,1], w0 * robot.sim_params.dt)\n",
    "    return robot\n",
    "\n",
    "\n",
    "stepper = dismech.ImplicitEulerTimeStepper(robot)\n",
    "stepper.before_step = move_and_twist\n",
    "\n",
    "robots = stepper.simulate()\n",
    "\n",
    "qs = np.stack([robot.state.q for robot in robots])"
   ]
  },
  {
   "cell_type": "code",
   "execution_count": null,
   "metadata": {},
   "outputs": [
    {
     "data": {
      "application/vnd.plotly.v1+json": {
       "config": {
        "plotlyServerURL": "https://plot.ly"
       },
       "data": [
        {
         "marker": {
          "color": "#1f78b4",
          "size": 5
         },
         "mode": "markers",
         "name": "Free Nodes",
         "type": "scatter3d",
         "x": {
          "bdata": "NNQecYW4jj/5w48uyHqUP1N3Uz8ymZk/LIgaH6+3nj8LwhZlK+uhP4SnnEKWeqQ/xA/xHhMKpz+amZmZmZmpP28jQhQgKaw/r4uW8Jy4rj+VOA7nA6SwP4/30tGt67E/xbvECU0zsz+bqPWN53q0PxO/deuIwrU/",
          "dtype": "f8"
         },
         "y": {
          "bdata": "AAAAAAAAAIAAAAAAAAAAgAAAAAAAAAAAAAAAAAAAAAAAAAAAAAAAAAAAAAAAAACAAAAAAAAAAAAAAAAAAAAAAAAAAAAAAAAAAAAAAAAAAAAAAAAAAAAAAAAAAAAAAAAAAAAAAAAAAAAAAAAAAAAAAAAAAAAAAAAA",
          "dtype": "f8"
         },
         "z": {
          "bdata": "hGmV+lo5Gb+wB8+bKHkvv+G8kNIXDjq/ixBFIGfiQb/UEewf0/hFvxNT+d5aBUm/NGOZaCTkSr+IucuUM4VLvzNjmWgk5Eq/EVP53loFSb/REewf0/hFv4gQRSBn4kG/4LyQ0hcOOr+sB8+bKHkvv3hplfpaORm/",
          "dtype": "f8"
         }
        },
        {
         "marker": {
          "color": "#e31a1c",
          "size": 5
         },
         "mode": "markers",
         "name": "Fixed Nodes",
         "type": "scatter3d",
         "x": {
          "bdata": "AAAAAAAAAAB7FK5H4Xp0P3sUrkfheoQ/CtejcD0Ktz9SuB6F61G4P5qZmZmZmbk/",
          "dtype": "f8"
         },
         "y": {
          "bdata": "AAAAAAAAAAAAAAAAAAAAgAAAAAAAAACAAAAAAAAAAAAAAAAAAAAAAAAAAAAAAAAA",
          "dtype": "f8"
         },
         "z": {
          "bdata": "AAAAAAAAAAAAAAAAAAAAgAAAAAAAAACAAAAAAAAAAAAAAAAAAAAAAAAAAAAAAAAA",
          "dtype": "f8"
         }
        },
        {
         "line": {
          "color": "#333333",
          "width": 2
         },
         "mode": "lines",
         "name": "Edges",
         "type": "scatter3d",
         "x": [
          0,
          0.005,
          null,
          0.005,
          0.01,
          null,
          0.01,
          0.015000383867894575,
          null,
          0.015000383867894575,
          0.019999626008885916,
          null,
          0.019999626008885916,
          0.02499845992576095,
          null,
          0.02499845992576095,
          0.029997574113288447,
          null,
          0.029997574113288447,
          0.03499732598300306,
          null,
          0.03499732598300306,
          0.03999776423582005,
          null,
          0.03999776423582005,
          0.04499873879151964,
          null,
          0.04499873879151964,
          0.05,
          null,
          0.05,
          0.05500126120848036,
          null,
          0.05500126120848036,
          0.06000223576417995,
          null,
          0.06000223576417995,
          0.06500267401699696,
          null,
          0.06500267401699696,
          0.07000242588671156,
          null,
          0.07000242588671156,
          0.07500154007423905,
          null,
          0.07500154007423905,
          0.08000037399111408,
          null,
          0.08000037399111408,
          0.08499961613210542,
          null,
          0.08499961613210542,
          0.09,
          null,
          0.09,
          0.095,
          null,
          0.095,
          0.1,
          null
         ],
         "y": [
          0,
          0,
          null,
          0,
          0,
          null,
          0,
          0,
          null,
          0,
          0,
          null,
          0,
          0,
          null,
          0,
          0,
          null,
          0,
          0,
          null,
          0,
          0,
          null,
          0,
          0,
          null,
          0,
          0,
          null,
          0,
          0,
          null,
          0,
          0,
          null,
          0,
          0,
          null,
          0,
          0,
          null,
          0,
          0,
          null,
          0,
          0,
          null,
          0,
          0,
          null,
          0,
          0,
          null,
          0,
          0,
          null,
          0,
          0,
          null
         ],
         "z": [
          0,
          0,
          null,
          0,
          0,
          null,
          0,
          -0.00009622209349428005,
          null,
          -0.00009622209349428005,
          -0.0002401220389441328,
          null,
          -0.0002401220389441328,
          -0.00039756852726475887,
          null,
          -0.00039756852726475887,
          -0.0005457881493744638,
          null,
          -0.0005457881493744638,
          -0.0006705313570312629,
          null,
          -0.0006705313570312629,
          -0.0007635778146758164,
          null,
          -0.0007635778146758164,
          -0.000820653703338703,
          null,
          -0.000820653703338703,
          -0.0008398534642688896,
          null,
          -0.0008398534642688896,
          -0.0008206537033387029,
          null,
          -0.0008206537033387029,
          -0.0007635778146758162,
          null,
          -0.0007635778146758162,
          -0.0006705313570312626,
          null,
          -0.0006705313570312626,
          -0.0005457881493744635,
          null,
          -0.0005457881493744635,
          -0.0003975685272647588,
          null,
          -0.0003975685272647588,
          -0.0002401220389441327,
          null,
          -0.0002401220389441327,
          -0.00009622209349427989,
          null,
          -0.00009622209349427989,
          0,
          null,
          0,
          0,
          null,
          0,
          0,
          null
         ]
        },
        {
         "color": "rgba(166, 206, 227, 0.7)",
         "i": [],
         "j": [],
         "k": [],
         "name": "Faces",
         "opacity": 0.7,
         "showscale": false,
         "type": "mesh3d",
         "x": {
          "bdata": "AAAAAAAAAAB7FK5H4Xp0P3sUrkfheoQ/NNQecYW4jj/5w48uyHqUP1N3Uz8ymZk/LIgaH6+3nj8LwhZlK+uhP4SnnEKWeqQ/xA/xHhMKpz+amZmZmZmpP28jQhQgKaw/r4uW8Jy4rj+VOA7nA6SwP4/30tGt67E/xbvECU0zsz+bqPWN53q0PxO/deuIwrU/CtejcD0Ktz9SuB6F61G4P5qZmZmZmbk/",
          "dtype": "f8"
         },
         "y": {
          "bdata": "AAAAAAAAAAAAAAAAAAAAgAAAAAAAAACAAAAAAAAAAIAAAAAAAAAAgAAAAAAAAAAAAAAAAAAAAAAAAAAAAAAAAAAAAAAAAACAAAAAAAAAAAAAAAAAAAAAAAAAAAAAAAAAAAAAAAAAAAAAAAAAAAAAAAAAAAAAAAAAAAAAAAAAAAAAAAAAAAAAAAAAAAAAAAAAAAAAAAAAAAAAAAAAAAAAAAAAAAAAAAAA",
          "dtype": "f8"
         },
         "z": {
          "bdata": "AAAAAAAAAAAAAAAAAAAAgAAAAAAAAACAhGmV+lo5Gb+wB8+bKHkvv+G8kNIXDjq/ixBFIGfiQb/UEewf0/hFvxNT+d5aBUm/NGOZaCTkSr+IucuUM4VLvzNjmWgk5Eq/EVP53loFSb/REewf0/hFv4gQRSBn4kG/4LyQ0hcOOr+sB8+bKHkvv3hplfpaORm/AAAAAAAAAAAAAAAAAAAAAAAAAAAAAAAA",
          "dtype": "f8"
         }
        }
       ],
       "frames": [
        {
         "data": [
          {
           "name": "Free Nodes",
           "type": "scatter3d",
           "x": {
            "bdata": "NNQecYW4jj/5w48uyHqUP1N3Uz8ymZk/LIgaH6+3nj8LwhZlK+uhP4SnnEKWeqQ/xA/xHhMKpz+amZmZmZmpP28jQhQgKaw/r4uW8Jy4rj+VOA7nA6SwP4/30tGt67E/xbvECU0zsz+bqPWN53q0PxO/deuIwrU/",
            "dtype": "f8"
           },
           "y": {
            "bdata": "AAAAAAAAAIAAAAAAAAAAgAAAAAAAAAAAAAAAAAAAAAAAAAAAAAAAAAAAAAAAAACAAAAAAAAAAAAAAAAAAAAAAAAAAAAAAAAAAAAAAAAAAAAAAAAAAAAAAAAAAAAAAAAAAAAAAAAAAAAAAAAAAAAAAAAAAAAAAAAA",
            "dtype": "f8"
           },
           "z": {
            "bdata": "hGmV+lo5Gb+wB8+bKHkvv+G8kNIXDjq/ixBFIGfiQb/UEewf0/hFvxNT+d5aBUm/NGOZaCTkSr+IucuUM4VLvzNjmWgk5Eq/EVP53loFSb/REewf0/hFv4gQRSBn4kG/4LyQ0hcOOr+sB8+bKHkvv3hplfpaORm/",
            "dtype": "f8"
           }
          },
          {
           "name": "Fixed Nodes",
           "type": "scatter3d",
           "x": {
            "bdata": "AAAAAAAAAAB7FK5H4Xp0P3sUrkfheoQ/CtejcD0Ktz9SuB6F61G4P5qZmZmZmbk/",
            "dtype": "f8"
           },
           "y": {
            "bdata": "AAAAAAAAAAAAAAAAAAAAgAAAAAAAAACAAAAAAAAAAAAAAAAAAAAAAAAAAAAAAAAA",
            "dtype": "f8"
           },
           "z": {
            "bdata": "AAAAAAAAAAAAAAAAAAAAgAAAAAAAAACAAAAAAAAAAAAAAAAAAAAAAAAAAAAAAAAA",
            "dtype": "f8"
           }
          },
          {
           "name": "Edges",
           "type": "scatter3d",
           "x": [
            0,
            0.005,
            null,
            0.005,
            0.01,
            null,
            0.01,
            0.015000383867894575,
            null,
            0.015000383867894575,
            0.019999626008885916,
            null,
            0.019999626008885916,
            0.02499845992576095,
            null,
            0.02499845992576095,
            0.029997574113288447,
            null,
            0.029997574113288447,
            0.03499732598300306,
            null,
            0.03499732598300306,
            0.03999776423582005,
            null,
            0.03999776423582005,
            0.04499873879151964,
            null,
            0.04499873879151964,
            0.05,
            null,
            0.05,
            0.05500126120848036,
            null,
            0.05500126120848036,
            0.06000223576417995,
            null,
            0.06000223576417995,
            0.06500267401699696,
            null,
            0.06500267401699696,
            0.07000242588671156,
            null,
            0.07000242588671156,
            0.07500154007423905,
            null,
            0.07500154007423905,
            0.08000037399111408,
            null,
            0.08000037399111408,
            0.08499961613210542,
            null,
            0.08499961613210542,
            0.09,
            null,
            0.09,
            0.095,
            null,
            0.095,
            0.1,
            null
           ],
           "y": [
            0,
            0,
            null,
            0,
            0,
            null,
            0,
            0,
            null,
            0,
            0,
            null,
            0,
            0,
            null,
            0,
            0,
            null,
            0,
            0,
            null,
            0,
            0,
            null,
            0,
            0,
            null,
            0,
            0,
            null,
            0,
            0,
            null,
            0,
            0,
            null,
            0,
            0,
            null,
            0,
            0,
            null,
            0,
            0,
            null,
            0,
            0,
            null,
            0,
            0,
            null,
            0,
            0,
            null,
            0,
            0,
            null,
            0,
            0,
            null
           ],
           "z": [
            0,
            0,
            null,
            0,
            0,
            null,
            0,
            -0.00009622209349428005,
            null,
            -0.00009622209349428005,
            -0.0002401220389441328,
            null,
            -0.0002401220389441328,
            -0.00039756852726475887,
            null,
            -0.00039756852726475887,
            -0.0005457881493744638,
            null,
            -0.0005457881493744638,
            -0.0006705313570312629,
            null,
            -0.0006705313570312629,
            -0.0007635778146758164,
            null,
            -0.0007635778146758164,
            -0.000820653703338703,
            null,
            -0.000820653703338703,
            -0.0008398534642688896,
            null,
            -0.0008398534642688896,
            -0.0008206537033387029,
            null,
            -0.0008206537033387029,
            -0.0007635778146758162,
            null,
            -0.0007635778146758162,
            -0.0006705313570312626,
            null,
            -0.0006705313570312626,
            -0.0005457881493744635,
            null,
            -0.0005457881493744635,
            -0.0003975685272647588,
            null,
            -0.0003975685272647588,
            -0.0002401220389441327,
            null,
            -0.0002401220389441327,
            -0.00009622209349427989,
            null,
            -0.00009622209349427989,
            0,
            null,
            0,
            0,
            null,
            0,
            0,
            null
           ]
          },
          {
           "i": [],
           "j": [],
           "k": [],
           "name": "Faces",
           "type": "mesh3d",
           "x": {
            "bdata": "AAAAAAAAAAB7FK5H4Xp0P3sUrkfheoQ/NNQecYW4jj/5w48uyHqUP1N3Uz8ymZk/LIgaH6+3nj8LwhZlK+uhP4SnnEKWeqQ/xA/xHhMKpz+amZmZmZmpP28jQhQgKaw/r4uW8Jy4rj+VOA7nA6SwP4/30tGt67E/xbvECU0zsz+bqPWN53q0PxO/deuIwrU/CtejcD0Ktz9SuB6F61G4P5qZmZmZmbk/",
            "dtype": "f8"
           },
           "y": {
            "bdata": "AAAAAAAAAAAAAAAAAAAAgAAAAAAAAACAAAAAAAAAAIAAAAAAAAAAgAAAAAAAAAAAAAAAAAAAAAAAAAAAAAAAAAAAAAAAAACAAAAAAAAAAAAAAAAAAAAAAAAAAAAAAAAAAAAAAAAAAAAAAAAAAAAAAAAAAAAAAAAAAAAAAAAAAAAAAAAAAAAAAAAAAAAAAAAAAAAAAAAAAAAAAAAAAAAAAAAAAAAAAAAA",
            "dtype": "f8"
           },
           "z": {
            "bdata": "AAAAAAAAAAAAAAAAAAAAgAAAAAAAAACAhGmV+lo5Gb+wB8+bKHkvv+G8kNIXDjq/ixBFIGfiQb/UEewf0/hFvxNT+d5aBUm/NGOZaCTkSr+IucuUM4VLvzNjmWgk5Eq/EVP53loFSb/REewf0/hFv4gQRSBn4kG/4LyQ0hcOOr+sB8+bKHkvv3hplfpaORm/AAAAAAAAAAAAAAAAAAAAAAAAAAAAAAAA",
            "dtype": "f8"
           }
          }
         ],
         "layout": {
          "annotations": [
           {
            "showarrow": false,
            "text": "Time: 0.00s (Step: 1/100)",
            "x": 0.05,
            "xref": "paper",
            "y": 0.95,
            "yref": "paper"
           }
          ]
         },
         "name": "0"
        },
        {
         "data": [
          {
           "name": "Free Nodes",
           "type": "scatter3d",
           "x": {
            "bdata": "EJydaXpckD+vWWBhTm6VP8clJFLWdpo/QhHTr/Z4nz+GnM8vzz2iP6WPb5zawqQ/sNkH1eZMpz8jza3ZP9qpPzmK41lCZ6w/fadG4Zjwrj/bGH0cm7qwP48liHdr+7E/0aZDZWo8sz87sC+EEX+0P4h3RfPew7U/",
            "dtype": "f8"
           },
           "y": {
            "bdata": "AAAAAAAAAAAAAAAAAAAAAAAAAAAAAAAAAAAAAAAAAAAAAAAAAAAAAAAAAAAAAAAAAAAAAAAAAAAAAAAAAAAAAAAAAAAAAAAAAAAAAAAAAAAAAAAAAAAAAAAAAAAAAAAAAAAAAAAAAAAAAAAAAAAAAAAAAAAAAAAA",
            "dtype": "f8"
           },
           "z": {
            "bdata": "mCXUGK8zM7/tEUF2ACBNv16o7zCcVVy/yOnjJ1wkZr/TmN+N4AluvwF3calvU3K/q1FSMIN5dL90z+za9iB1vxnUkQHiMXS/cDX7eXDWcb/Z6lozvOFsv7+5DnkkD2W/PRFUxuC0Wr9DWCick0VLv7gy11f96zG/",
            "dtype": "f8"
           }
          },
          {
           "name": "Fixed Nodes",
           "type": "scatter3d",
           "x": {
            "bdata": "/Knx0k1iUD/6fmq8dJN4P7pJDAIrh4Y/CtejcD0Ktz9SuB6F61G4P5qZmZmZmbk/",
            "dtype": "f8"
           },
           "y": {
            "bdata": "AAAAAAAAAAAAAAAAAAAAgAAAAAAAAACAAAAAAAAAAAAAAAAAAAAAAAAAAAAAAAAA",
            "dtype": "f8"
           },
           "z": {
            "bdata": "AAAAAAAAAAAAAAAAAAAAgAAAAAAAAACAAAAAAAAAAAAAAAAAAAAAAAAAAAAAAAAA",
            "dtype": "f8"
           }
          },
          {
           "name": "Edges",
           "type": "scatter3d",
           "x": [
            0.001,
            0.006,
            null,
            0.006,
            0.011,
            null,
            0.011,
            0.015977776237743824,
            null,
            0.015977776237743824,
            0.020928597157842507,
            null,
            0.020928597157842507,
            0.025843952907086434,
            null,
            0.025843952907086434,
            0.03073487709186052,
            null,
            0.03073487709186052,
            0.03562781771307137,
            null,
            0.03562781771307137,
            0.04054911765686534,
            null,
            0.04054911765686534,
            0.04550858831855764,
            null,
            0.04550858831855764,
            0.05049323589528345,
            null,
            0.05049323589528345,
            0.05547530505443316,
            null,
            0.05547530505443316,
            0.060429360866080174,
            null,
            0.060429360866080174,
            0.06534738011859835,
            null,
            0.06534738011859835,
            0.07024261158234978,
            null,
            0.07024261158234978,
            0.07514061901352,
            null,
            0.07514061901352,
            0.08006391026691599,
            null,
            0.08006391026691599,
            0.08502000273935384,
            null,
            0.08502000273935384,
            0.09,
            null,
            0.09,
            0.095,
            null,
            0.095,
            0.1,
            null
           ],
           "y": [
            0,
            0,
            null,
            0,
            0,
            null,
            0,
            0,
            null,
            0,
            0,
            null,
            0,
            0,
            null,
            0,
            0,
            null,
            0,
            0,
            null,
            0,
            0,
            null,
            0,
            0,
            null,
            0,
            0,
            null,
            0,
            0,
            null,
            0,
            0,
            null,
            0,
            0,
            null,
            0,
            0,
            null,
            0,
            0,
            null,
            0,
            0,
            null,
            0,
            0,
            null,
            0,
            0,
            null,
            0,
            0,
            null,
            0,
            0,
            null
           ],
           "z": [
            0,
            0,
            null,
            0,
            0,
            null,
            0,
            -0.0002929975970152542,
            null,
            -0.0002929975970152542,
            -0.0008888246779937249,
            null,
            -0.0008888246779937249,
            -0.001729395418573996,
            null,
            -0.001729395418573996,
            -0.0027028846662890717,
            null,
            -0.0027028846662890717,
            -0.0036668191742022876,
            null,
            -0.0036668191742022876,
            -0.004474102191208252,
            null,
            -0.004474102191208252,
            -0.00499869580848548,
            null,
            -0.00499869580848548,
            -0.005158390310317052,
            null,
            -0.005158390310317052,
            -0.004930384479952665,
            null,
            -0.004930384479952665,
            -0.0043548959362856715,
            null,
            -0.0043548959362856715,
            -0.003525607661541624,
            null,
            -0.003525607661541624,
            -0.0025706970559078164,
            null,
            -0.0025706970559078164,
            -0.0016300387445094676,
            null,
            -0.0016300387445094676,
            -0.000832268786612252,
            null,
            -0.000832268786612252,
            -0.0002734654916281376,
            null,
            -0.0002734654916281376,
            0,
            null,
            0,
            0,
            null,
            0,
            0,
            null
           ]
          },
          {
           "i": [],
           "j": [],
           "k": [],
           "name": "Faces",
           "type": "mesh3d",
           "x": {
            "bdata": "/Knx0k1iUD/6fmq8dJN4P7pJDAIrh4Y/EJydaXpckD+vWWBhTm6VP8clJFLWdpo/QhHTr/Z4nz+GnM8vzz2iP6WPb5zawqQ/sNkH1eZMpz8jza3ZP9qpPzmK41lCZ6w/fadG4Zjwrj/bGH0cm7qwP48liHdr+7E/0aZDZWo8sz87sC+EEX+0P4h3RfPew7U/CtejcD0Ktz9SuB6F61G4P5qZmZmZmbk/",
            "dtype": "f8"
           },
           "y": {
            "bdata": "AAAAAAAAAAAAAAAAAAAAgAAAAAAAAACAAAAAAAAAAAAAAAAAAAAAAAAAAAAAAAAAAAAAAAAAAAAAAAAAAAAAAAAAAAAAAAAAAAAAAAAAAAAAAAAAAAAAAAAAAAAAAAAAAAAAAAAAAAAAAAAAAAAAAAAAAAAAAAAAAAAAAAAAAAAAAAAAAAAAAAAAAAAAAAAAAAAAAAAAAAAAAAAAAAAAAAAAAAAAAAAA",
            "dtype": "f8"
           },
           "z": {
            "bdata": "AAAAAAAAAAAAAAAAAAAAgAAAAAAAAACAmCXUGK8zM7/tEUF2ACBNv16o7zCcVVy/yOnjJ1wkZr/TmN+N4AluvwF3calvU3K/q1FSMIN5dL90z+za9iB1vxnUkQHiMXS/cDX7eXDWcb/Z6lozvOFsv7+5DnkkD2W/PRFUxuC0Wr9DWCick0VLv7gy11f96zG/AAAAAAAAAAAAAAAAAAAAAAAAAAAAAAAA",
            "dtype": "f8"
           }
          }
         ],
         "layout": {
          "annotations": [
           {
            "showarrow": false,
            "text": "Time: 0.01s (Step: 2/100)",
            "x": 0.05,
            "xref": "paper",
            "y": 0.95,
            "yref": "paper"
           }
          ]
         },
         "name": "1"
        },
        {
         "data": [
          {
           "name": "Free Nodes",
           "type": "scatter3d",
           "x": {
            "bdata": "enMs4VdckT/YSoXLf1iWP/+7AjfMQZs/tag1VkYSoD8UmmB+iYeiP+gWoTDABaU/ja56msyNpz/CrQoFDxyqP4un6M4Uqqw/dn1CpZgxrz/Ibv45sdewP5jLuFlXErI/Pn193E9Lsz8HTFmhDoa0P+NuG3hyxbU/",
            "dtype": "f8"
           },
           "y": {
            "bdata": "AAAAAAAAAAAAAAAAAAAAAAAAAAAAAAAAAAAAAAAAAAAAAAAAAAAAAAAAAAAAAAAAAAAAAAAAAAAAAAAAAAAAAAAAAAAAAAAAAAAAAAAAAAAAAAAAAAAAAAAAAAAAAAAAAAAAAAAAAAAAAAAAAAAAAAAAAAAAAAAA",
            "dtype": "f8"
           },
           "z": {
            "bdata": "XS1E4yqkRb+xPLucGFpdvz0TdrV+MGq/BN2B34Iwc79HKo/i9+B4v9uUiZhtfX2/RnSlGzw8gL/HlwWvT7qAv1k6rmDYKYC/MKibvBU8fb/T5fLs7ZB4v+RLCAxs4XK/6xg8vX2vab/5z1Sn1bRcv5Hu67BWHUW/",
            "dtype": "f8"
           }
          },
          {
           "name": "Fixed Nodes",
           "type": "scatter3d",
           "x": {
            "bdata": "/Knx0k1iYD956SYxCKx8P/p+arx0k4g/CtejcD0Ktz9SuB6F61G4P5qZmZmZmbk/",
            "dtype": "f8"
           },
           "y": {
            "bdata": "AAAAAAAAAAAAAAAAAAAAgAAAAAAAAACAAAAAAAAAAAAAAAAAAAAAAAAAAAAAAAAA",
            "dtype": "f8"
           },
           "z": {
            "bdata": "AAAAAAAAAAAAAAAAAAAAgAAAAAAAAACAAAAAAAAAAAAAAAAAAAAAAAAAAAAAAAAA",
            "dtype": "f8"
           }
          },
          {
           "name": "Edges",
           "type": "scatter3d",
           "x": [
            0.002,
            0.007,
            null,
            0.007,
            0.012,
            null,
            0.012,
            0.016953824156292076,
            null,
            0.016953824156292076,
            0.021821972653308958,
            null,
            0.021821972653308958,
            0.02661818586119224,
            null,
            0.02661818586119224,
            0.03138942530024861,
            null,
            0.03138942530024861,
            0.03619031589214586,
            null,
            0.03619031589214586,
            0.04105949967974515,
            null,
            0.04105949967974515,
            0.04600371728642214,
            null,
            0.04600371728642214,
            0.050995320668643554,
            null,
            0.050995320668643554,
            0.05598511720411555,
            null,
            0.05598511720411555,
            0.06092526452379847,
            null,
            0.06092526452379847,
            0.06579120317331466,
            null,
            0.06579120317331466,
            0.07059236469721808,
            null,
            0.07059236469721808,
            0.07536791928349815,
            null,
            0.07536791928349815,
            0.08017054976635062,
            null,
            0.08017054976635062,
            0.08504405433944444,
            null,
            0.08504405433944444,
            0.09,
            null,
            0.09,
            0.095,
            null,
            0.095,
            0.1,
            null
           ],
           "y": [
            0,
            0,
            null,
            0,
            0,
            null,
            0,
            0,
            null,
            0,
            0,
            null,
            0,
            0,
            null,
            0,
            0,
            null,
            0,
            0,
            null,
            0,
            0,
            null,
            0,
            0,
            null,
            0,
            0,
            null,
            0,
            0,
            null,
            0,
            0,
            null,
            0,
            0,
            null,
            0,
            0,
            null,
            0,
            0,
            null,
            0,
            0,
            null,
            0,
            0,
            null,
            0,
            0,
            null,
            0,
            0,
            null,
            0,
            0,
            null
           ],
           "z": [
            0,
            0,
            null,
            0,
            0,
            null,
            0,
            -0.0006604394352804178,
            null,
            -0.0006604394352804178,
            -0.0017915001252964242,
            null,
            -0.0017915001252964242,
            -0.003196952322186779,
            null,
            -0.003196952322186779,
            -0.004684935782385272,
            null,
            -0.004684935782385272,
            -0.006073921490449558,
            null,
            -0.006073921490449558,
            -0.007199695690905029,
            null,
            -0.007199695690905029,
            -0.007927388757417952,
            null,
            -0.007927388757417952,
            -0.008167860535376449,
            null,
            -0.008167860535376449,
            -0.007892313433129393,
            null,
            -0.007892313433129393,
            -0.007137379559688781,
            null,
            -0.007137379559688781,
            -0.005997590443422368,
            null,
            -0.005997590443422368,
            -0.004609510477638221,
            null,
            -0.004609510477638221,
            -0.003135438522693259,
            null,
            -0.003135438522693259,
            -0.0017520986996943917,
            null,
            -0.0017520986996943917,
            -0.0006443665787112131,
            null,
            -0.0006443665787112131,
            0,
            null,
            0,
            0,
            null,
            0,
            0,
            null
           ]
          },
          {
           "i": [],
           "j": [],
           "k": [],
           "name": "Faces",
           "type": "mesh3d",
           "x": {
            "bdata": "/Knx0k1iYD956SYxCKx8P/p+arx0k4g/enMs4VdckT/YSoXLf1iWP/+7AjfMQZs/tag1VkYSoD8UmmB+iYeiP+gWoTDABaU/ja56msyNpz/CrQoFDxyqP4un6M4Uqqw/dn1CpZgxrz/Ibv45sdewP5jLuFlXErI/Pn193E9Lsz8HTFmhDoa0P+NuG3hyxbU/CtejcD0Ktz9SuB6F61G4P5qZmZmZmbk/",
            "dtype": "f8"
           },
           "y": {
            "bdata": "AAAAAAAAAAAAAAAAAAAAgAAAAAAAAACAAAAAAAAAAAAAAAAAAAAAAAAAAAAAAAAAAAAAAAAAAAAAAAAAAAAAAAAAAAAAAAAAAAAAAAAAAAAAAAAAAAAAAAAAAAAAAAAAAAAAAAAAAAAAAAAAAAAAAAAAAAAAAAAAAAAAAAAAAAAAAAAAAAAAAAAAAAAAAAAAAAAAAAAAAAAAAAAAAAAAAAAAAAAAAAAA",
            "dtype": "f8"
           },
           "z": {
            "bdata": "AAAAAAAAAAAAAAAAAAAAgAAAAAAAAACAXS1E4yqkRb+xPLucGFpdvz0TdrV+MGq/BN2B34Iwc79HKo/i9+B4v9uUiZhtfX2/RnSlGzw8gL/HlwWvT7qAv1k6rmDYKYC/MKibvBU8fb/T5fLs7ZB4v+RLCAxs4XK/6xg8vX2vab/5z1Sn1bRcv5Hu67BWHUW/AAAAAAAAAAAAAAAAAAAAAAAAAAAAAAAA",
            "dtype": "f8"
           }
          }
         ],
         "layout": {
          "annotations": [
           {
            "showarrow": false,
            "text": "Time: 0.02s (Step: 3/100)",
            "x": 0.05,
            "xref": "paper",
            "y": 0.95,
            "yref": "paper"
           }
          ]
         },
         "name": "2"
        },
        {
         "data": [
          {
           "name": "Free Nodes",
           "type": "scatter3d",
           "x": {
            "bdata": "xBahNNdbkj8y1fhdOEWXP+nf+4flEpw/h4ufiSdsoD+eJ+IfPdWiP19hw/SqS6U/ty/O6GDQpz9929M8J16qP9a9m5zo66w/cFyMsZJwrz/BVMSlevOwP/wBQ04EKLI/CaLwGWRZsz80VLt+2Yy0PxA/KFI7x7U/",
            "dtype": "f8"
           },
           "y": {
            "bdata": "AAAAAAAAAAAAAAAAAAAAAAAAAAAAAAAAAAAAAAAAAAAAAAAAAAAAAAAAAAAAAAAAAAAAAAAAAAAAAAAAAAAAAAAAAAAAAAAAAAAAAAAAAAAAAAAAAAAAAAAAAAAAAAAAAAAAAAAAAAAAAAAAAAAAAAAAAAAAAAAA",
            "dtype": "f8"
           },
           "z": {
            "bdata": "eXh+5h4lS78AfeYGRUpiv/GOVcTvNXC/gKNU2Baed7+6oxZBpXx+vwNRGgzNBYK/YAYb27rUg794yqai/nSEv+wjr7d204O/+ETVx34Dgr+ocNd4x3Z+v/uwJTIDmHe/UjQZQrcwcL97qlHSOkNivwjhQNQgGUu/",
            "dtype": "f8"
           }
          },
          {
           "name": "Fixed Nodes",
           "type": "scatter3d",
           "x": {
            "bdata": "+n5qvHSTaD/8qfHSTWKAPzq0yHa+n4o/CtejcD0Ktz9SuB6F61G4P5qZmZmZmbk/",
            "dtype": "f8"
           },
           "y": {
            "bdata": "AAAAAAAAAAAAAAAAAAAAgAAAAAAAAACAAAAAAAAAAAAAAAAAAAAAAAAAAAAAAAAA",
            "dtype": "f8"
           },
           "z": {
            "bdata": "AAAAAAAAAAAAAAAAAAAAgAAAAAAAAACAAAAAAAAAAAAAAAAAAAAAAAAAAAAAAAAA",
            "dtype": "f8"
           }
          },
          {
           "name": "Edges",
           "type": "scatter3d",
           "x": [
            0.003,
            0.008,
            null,
            0.008,
            0.013000000000000001,
            null,
            0.013000000000000001,
            0.0179284692642543,
            null,
            0.0179284692642543,
            0.022724991546245472,
            null,
            0.022724991546245472,
            0.02741583483199853,
            null,
            0.02741583483199853,
            0.03207515292139989,
            null,
            0.03207515292139989,
            0.03678313268854015,
            null,
            0.03678313268854015,
            0.04159292447883688,
            null,
            0.04159292447883688,
            0.046511677187566595,
            null,
            0.046511677187566595,
            0.05149958245777151,
            null,
            0.05149958245777151,
            0.056487340085250956,
            null,
            0.056487340085250956,
            0.0614057389959094,
            null,
            0.0614057389959094,
            0.06621519610446837,
            null,
            0.06621519610446837,
            0.0709231082028125,
            null,
            0.0709231082028125,
            0.07558274873066052,
            null,
            0.07558274873066052,
            0.08027419418370202,
            null,
            0.08027419418370202,
            0.08507128482619586,
            null,
            0.08507128482619586,
            0.09,
            null,
            0.09,
            0.095,
            null,
            0.095,
            0.1,
            null
           ],
           "y": [
            0,
            0,
            null,
            0,
            0,
            null,
            0,
            0,
            null,
            0,
            0,
            null,
            0,
            0,
            null,
            0,
            0,
            null,
            0,
            0,
            null,
            0,
            0,
            null,
            0,
            0,
            null,
            0,
            0,
            null,
            0,
            0,
            null,
            0,
            0,
            null,
            0,
            0,
            null,
            0,
            0,
            null,
            0,
            0,
            null,
            0,
            0,
            null,
            0,
            0,
            null,
            0,
            0,
            null,
            0,
            0,
            null,
            0,
            0,
            null
           ],
           "z": [
            0,
            0,
            null,
            0,
            0,
            null,
            0,
            -0.0008283997421931886,
            null,
            -0.0008283997421931886,
            -0.002232680147428945,
            null,
            -0.002232680147428945,
            -0.003957687940189678,
            null,
            -0.003957687940189678,
            -0.0057660000214035945,
            null,
            -0.0057660000214035945,
            -0.007443089985295021,
            null,
            -0.007443089985295021,
            -0.008800126964424232,
            null,
            -0.008800126964424232,
            -0.009683093844958524,
            null,
            -0.009683093844958524,
            -0.009988774622660332,
            null,
            -0.009988774622660332,
            -0.009680678825945997,
            null,
            -0.009680678825945997,
            -0.008795729134961836,
            null,
            -0.008795729134961836,
            -0.007437495410581509,
            null,
            -0.007437495410581509,
            -0.005760204776702911,
            null,
            -0.005760204776702911,
            -0.0039527090571712265,
            null,
            -0.0039527090571712265,
            -0.0022293232782904493,
            null,
            -0.0022293232782904493,
            -0.0008269701288617102,
            null,
            -0.0008269701288617102,
            0,
            null,
            0,
            0,
            null,
            0,
            0,
            null
           ]
          },
          {
           "i": [],
           "j": [],
           "k": [],
           "name": "Faces",
           "type": "mesh3d",
           "x": {
            "bdata": "+n5qvHSTaD/8qfHSTWKAPzq0yHa+n4o/xBahNNdbkj8y1fhdOEWXP+nf+4flEpw/h4ufiSdsoD+eJ+IfPdWiP19hw/SqS6U/ty/O6GDQpz9929M8J16qP9a9m5zo66w/cFyMsZJwrz/BVMSlevOwP/wBQ04EKLI/CaLwGWRZsz80VLt+2Yy0PxA/KFI7x7U/CtejcD0Ktz9SuB6F61G4P5qZmZmZmbk/",
            "dtype": "f8"
           },
           "y": {
            "bdata": "AAAAAAAAAAAAAAAAAAAAgAAAAAAAAACAAAAAAAAAAAAAAAAAAAAAAAAAAAAAAAAAAAAAAAAAAAAAAAAAAAAAAAAAAAAAAAAAAAAAAAAAAAAAAAAAAAAAAAAAAAAAAAAAAAAAAAAAAAAAAAAAAAAAAAAAAAAAAAAAAAAAAAAAAAAAAAAAAAAAAAAAAAAAAAAAAAAAAAAAAAAAAAAAAAAAAAAAAAAAAAAA",
            "dtype": "f8"
           },
           "z": {
            "bdata": "AAAAAAAAAAAAAAAAAAAAgAAAAAAAAACAeXh+5h4lS78AfeYGRUpiv/GOVcTvNXC/gKNU2Baed7+6oxZBpXx+vwNRGgzNBYK/YAYb27rUg794yqai/nSEv+wjr7d204O/+ETVx34Dgr+ocNd4x3Z+v/uwJTIDmHe/UjQZQrcwcL97qlHSOkNivwjhQNQgGUu/AAAAAAAAAAAAAAAAAAAAAAAAAAAAAAAA",
            "dtype": "f8"
           }
          }
         ],
         "layout": {
          "annotations": [
           {
            "showarrow": false,
            "text": "Time: 0.03s (Step: 4/100)",
            "x": 0.05,
            "xref": "paper",
            "y": 0.95,
            "yref": "paper"
           }
          ]
         },
         "name": "3"
        },
        {
         "data": [
          {
           "name": "Free Nodes",
           "type": "scatter3d",
           "x": {
            "bdata": "OkRznWhekz/n4fa0BDuYPyJ553wc8Zw/QNWGFDfMoD9kkd/M3yajP+GMqB8Mk6U/ynWlewcTqD8KSHUh+p+qP8+TQXsDLa0/3NV1wjGtrz/wXm0bwwyxP5fOE1wVOrI/JT5PSs5jsz8CUZuoK5G0P74twTYxyLU/",
            "dtype": "f8"
           },
           "y": {
            "bdata": "AAAAAAAAAAAAAAAAAAAAAAAAAAAAAAAAAAAAAAAAAAAAAAAAAAAAAAAAAAAAAAAAAAAAAAAAAAAAAAAAAAAAAAAAAAAAAAAAAAAAAAAAAAAAAAAAAAAAAAAAAAAAAAAAAAAAAAAAAAAAAAAAAAAAAAAAAAAAAAAA",
            "dtype": "f8"
           },
           "z": {
            "bdata": "WRR+k29YTb8XLVJTwxNkv9mjZnJcBHK/co6Q2ieFer9NOaiNR0OBv7brynjwi4S/QKIuL7e1hr9xODXDvXiHv3WJ7zSLuoa/WVclinmUhL/rb8r+rU2Bv1X0hlqnmXq/e1Je4RgVcr9SM0RyRylkvzKcMo+pe02/",
            "dtype": "f8"
           }
          },
          {
           "name": "Fixed Nodes",
           "type": "scatter3d",
           "x": {
            "bdata": "/Knx0k1icD8830+Nl26CP3rpJjEIrIw/CtejcD0Ktz9SuB6F61G4P5qZmZmZmbk/",
            "dtype": "f8"
           },
           "y": {
            "bdata": "AAAAAAAAAAAAAAAAAAAAgAAAAAAAAACAAAAAAAAAAAAAAAAAAAAAAAAAAAAAAAAA",
            "dtype": "f8"
           },
           "z": {
            "bdata": "AAAAAAAAAAAAAAAAAAAAgAAAAAAAAACAAAAAAAAAAAAAAAAAAAAAAAAAAAAAAAAA",
            "dtype": "f8"
           }
          },
          {
           "name": "Edges",
           "type": "scatter3d",
           "x": [
            0.004,
            0.009000000000000001,
            null,
            0.009000000000000001,
            0.014000000000000002,
            null,
            0.014000000000000002,
            0.018914827928544244,
            null,
            0.018914827928544244,
            0.02366263727683018,
            null,
            0.02366263727683018,
            0.028263516543909913,
            null,
            0.028263516543909913,
            0.03280803800172771,
            null,
            0.03280803800172771,
            0.037405961760472534,
            null,
            0.037405961760472534,
            0.042137507309485185,
            null,
            0.042137507309485185,
            0.0470201815066776,
            null,
            0.0470201815066776,
            0.0520017782061047,
            null,
            0.0520017782061047,
            0.056984051509779136,
            null,
            0.056984051509779136,
            0.06186824320586101,
            null,
            0.06186824320586101,
            0.06660098476038079,
            null,
            0.06660098476038079,
            0.07119878290159885,
            null,
            0.07119878290159885,
            0.07574166597554972,
            null,
            0.07574166597554972,
            0.08034012667059545,
            null,
            0.08034012667059545,
            0.08508594118864374,
            null,
            0.08508594118864374,
            0.09,
            null,
            0.09,
            0.095,
            null,
            0.095,
            0.1,
            null
           ],
           "y": [
            0,
            0,
            null,
            0,
            0,
            null,
            0,
            0,
            null,
            0,
            0,
            null,
            0,
            0,
            null,
            0,
            0,
            null,
            0,
            0,
            null,
            0,
            0,
            null,
            0,
            0,
            null,
            0,
            0,
            null,
            0,
            0,
            null,
            0,
            0,
            null,
            0,
            0,
            null,
            0,
            0,
            null,
            0,
            0,
            null,
            0,
            0,
            null,
            0,
            0,
            null,
            0,
            0,
            null,
            0,
            0,
            null,
            0,
            0,
            null
           ],
           "z": [
            0,
            0,
            null,
            0,
            0,
            null,
            0,
            -0.0008955521397956508,
            null,
            -0.0008955521397956508,
            -0.0024508299780500275,
            null,
            -0.0024508299780500275,
            -0.00439869033872583,
            null,
            -0.00439869033872583,
            -0.006474643400938273,
            null,
            -0.006474643400938273,
            -0.008429106722385749,
            null,
            -0.008429106722385749,
            -0.010032538114833272,
            null,
            -0.010032538114833272,
            -0.011088782431969979,
            null,
            -0.011088782431969979,
            -0.011460764426967725,
            null,
            -0.011460764426967725,
            -0.011097991517037479,
            null,
            -0.011097991517037479,
            -0.010048818138482284,
            null,
            -0.010048818138482284,
            -0.008448943460557209,
            null,
            -0.008448943460557209,
            -0.006494191861233641,
            null,
            -0.006494191861233641,
            -0.0044146510971542164,
            null,
            -0.0044146510971542164,
            -0.0024610896526894655,
            null,
            -0.0024610896526894655,
            -0.0008997514654723925,
            null,
            -0.0008997514654723925,
            0,
            null,
            0,
            0,
            null,
            0,
            0,
            null
           ]
          },
          {
           "i": [],
           "j": [],
           "k": [],
           "name": "Faces",
           "type": "mesh3d",
           "x": {
            "bdata": "/Knx0k1icD8830+Nl26CP3rpJjEIrIw/OkRznWhekz/n4fa0BDuYPyJ553wc8Zw/QNWGFDfMoD9kkd/M3yajP+GMqB8Mk6U/ynWlewcTqD8KSHUh+p+qP8+TQXsDLa0/3NV1wjGtrz/wXm0bwwyxP5fOE1wVOrI/JT5PSs5jsz8CUZuoK5G0P74twTYxyLU/CtejcD0Ktz9SuB6F61G4P5qZmZmZmbk/",
            "dtype": "f8"
           },
           "y": {
            "bdata": "AAAAAAAAAAAAAAAAAAAAgAAAAAAAAACAAAAAAAAAAAAAAAAAAAAAAAAAAAAAAAAAAAAAAAAAAAAAAAAAAAAAAAAAAAAAAAAAAAAAAAAAAAAAAAAAAAAAAAAAAAAAAAAAAAAAAAAAAAAAAAAAAAAAAAAAAAAAAAAAAAAAAAAAAAAAAAAAAAAAAAAAAAAAAAAAAAAAAAAAAAAAAAAAAAAAAAAAAAAAAAAA",
            "dtype": "f8"
           },
           "z": {
            "bdata": "AAAAAAAAAAAAAAAAAAAAgAAAAAAAAACAWRR+k29YTb8XLVJTwxNkv9mjZnJcBHK/co6Q2ieFer9NOaiNR0OBv7brynjwi4S/QKIuL7e1hr9xODXDvXiHv3WJ7zSLuoa/WVclinmUhL/rb8r+rU2Bv1X0hlqnmXq/e1Je4RgVcr9SM0RyRylkvzKcMo+pe02/AAAAAAAAAAAAAAAAAAAAAAAAAAAAAAAA",
            "dtype": "f8"
           }
          }
         ],
         "layout": {
          "annotations": [
           {
            "showarrow": false,
            "text": "Time: 0.04s (Step: 5/100)",
            "x": 0.05,
            "xref": "paper",
            "y": 0.95,
            "yref": "paper"
           }
          ]
         },
         "name": "4"
        },
        {
         "data": [
          {
           "name": "Free Nodes",
           "type": "scatter3d",
           "x": {
            "bdata": "BjSsktFglD+9e9j7QTCZP1ST31eCzp0/V9crvcsroT+VUYCm83ejP7LV27LU2aU/mUlkNy1VqD85BIuueOGqP7XyDozXba0/jelfNFvprz9a2UO4riWxP0dKWEXAS7I/ZfTzC+5tsz/QaexjXJW0P/SqpmYdybU/",
            "dtype": "f8"
           },
           "y": {
            "bdata": "AAAAAAAAAAAAAAAAAAAAAAAAAAAAAAAAAAAAAAAAAAAAAAAAAAAAAAAAAAAAAAAAAAAAAAAAAAAAAAAAAAAAAAAAAAAAAAAAAAAAAAAAAAAAAAAAAAAAAAAAAAAAAAAAAAAAAAAAAAAAAAAAAAAAAAAAAAAAAAAA",
            "dtype": "f8"
           },
           "z": {
            "bdata": "gWnNWi2uT7/7goW+uNZlvxsJPOtguHO/j6dBNTovfb9WgdyJmBaDvzUuwjlGz4a/LBeNaT5Hib8RhuxtGSaKv1AvRgDWSom//tpC05jVhr9LuuonQh6Dv0Y//kpBPn2/2qaonpfEc79xgS42VOZlv05i3y6Ax0+/",
            "dtype": "f8"
           }
          },
          {
           "name": "Fixed Nodes",
           "type": "scatter3d",
           "x": {
            "bdata": "exSuR+F6dD98FK5H4XqEP7oehetRuI4/CtejcD0Ktz9SuB6F61G4P5qZmZmZmbk/",
            "dtype": "f8"
           },
           "y": {
            "bdata": "AAAAAAAAAAAAAAAAAAAAgAAAAAAAAACAAAAAAAAAAAAAAAAAAAAAAAAAAAAAAAAA",
            "dtype": "f8"
           },
           "z": {
            "bdata": "AAAAAAAAAAAAAAAAAAAAgAAAAAAAAACAAAAAAAAAAAAAAAAAAAAAAAAAAAAAAAAA",
            "dtype": "f8"
           }
          },
          {
           "name": "Edges",
           "type": "scatter3d",
           "x": [
            0.005,
            0.010000000000000002,
            null,
            0.010000000000000002,
            0.015000000000000003,
            null,
            0.015000000000000003,
            0.019900583817662486,
            null,
            0.019900583817662486,
            0.024598151203573105,
            null,
            0.024598151203573105,
            0.029108082402575633,
            null,
            0.029108082402575633,
            0.033537260858720934,
            null,
            0.033537260858720934,
            0.03802453429685496,
            null,
            0.03802453429685496,
            0.042677542527523996,
            null,
            0.042677542527523996,
            0.04752484608811187,
            null,
            0.04752484608811187,
            0.052501460367701154,
            null,
            0.052501460367701154,
            0.05747865280816226,
            null,
            0.05747865280816226,
            0.06232724203433113,
            null,
            0.06232724203433113,
            0.06698123930605018,
            null,
            0.06698123930605018,
            0.07146836941709821,
            null,
            0.07146836941709821,
            0.0758961466962816,
            null,
            0.0758961466962816,
            0.08040406646288223,
            null,
            0.08040406646288223,
            0.08510001903657011,
            null,
            0.08510001903657011,
            0.09,
            null,
            0.09,
            0.095,
            null,
            0.095,
            0.1,
            null
           ],
           "y": [
            0,
            0,
            null,
            0,
            0,
            null,
            0,
            0,
            null,
            0,
            0,
            null,
            0,
            0,
            null,
            0,
            0,
            null,
            0,
            0,
            null,
            0,
            0,
            null,
            0,
            0,
            null,
            0,
            0,
            null,
            0,
            0,
            null,
            0,
            0,
            null,
            0,
            0,
            null,
            0,
            0,
            null,
            0,
            0,
            null,
            0,
            0,
            null,
            0,
            0,
            null,
            0,
            0,
            null,
            0,
            0,
            null,
            0,
            0,
            null
           ],
           "z": [
            0,
            0,
            null,
            0,
            0,
            null,
            0,
            -0.000966808458183352,
            null,
            -0.000966808458183352,
            -0.002665863827289503,
            null,
            -0.002665863827289503,
            -0.004814509000200108,
            null,
            -0.004814509000200108,
            -0.007125117659691939,
            null,
            -0.007125117659691939,
            -0.009320441920465921,
            null,
            -0.009320441920465921,
            -0.011137531888628075,
            null,
            -0.011137531888628075,
            -0.01234291801086903,
            null,
            -0.01234291801086903,
            -0.012767981211768949,
            null,
            -0.012767981211768949,
            -0.012349769481054956,
            null,
            -0.012349769481054956,
            -0.011149591395548605,
            null,
            -0.011149591395548605,
            -0.00933505710903861,
            null,
            -0.00933505710903861,
            -0.007139449167780592,
            null,
            -0.007139449167780592,
            -0.004826156868640042,
            null,
            -0.004826156868640042,
            -0.002673305965302735,
            null,
            -0.002673305965302735,
            -0.0009698272604011322,
            null,
            -0.0009698272604011322,
            0,
            null,
            0,
            0,
            null,
            0,
            0,
            null
           ]
          },
          {
           "i": [],
           "j": [],
           "k": [],
           "name": "Faces",
           "type": "mesh3d",
           "x": {
            "bdata": "exSuR+F6dD98FK5H4XqEP7oehetRuI4/BjSsktFglD+9e9j7QTCZP1ST31eCzp0/V9crvcsroT+VUYCm83ejP7LV27LU2aU/mUlkNy1VqD85BIuueOGqP7XyDozXba0/jelfNFvprz9a2UO4riWxP0dKWEXAS7I/ZfTzC+5tsz/QaexjXJW0P/SqpmYdybU/CtejcD0Ktz9SuB6F61G4P5qZmZmZmbk/",
            "dtype": "f8"
           },
           "y": {
            "bdata": "AAAAAAAAAAAAAAAAAAAAgAAAAAAAAACAAAAAAAAAAAAAAAAAAAAAAAAAAAAAAAAAAAAAAAAAAAAAAAAAAAAAAAAAAAAAAAAAAAAAAAAAAAAAAAAAAAAAAAAAAAAAAAAAAAAAAAAAAAAAAAAAAAAAAAAAAAAAAAAAAAAAAAAAAAAAAAAAAAAAAAAAAAAAAAAAAAAAAAAAAAAAAAAAAAAAAAAAAAAAAAAA",
            "dtype": "f8"
           },
           "z": {
            "bdata": "AAAAAAAAAAAAAAAAAAAAgAAAAAAAAACAgWnNWi2uT7/7goW+uNZlvxsJPOtguHO/j6dBNTovfb9WgdyJmBaDvzUuwjlGz4a/LBeNaT5Hib8RhuxtGSaKv1AvRgDWSom//tpC05jVhr9LuuonQh6Dv0Y//kpBPn2/2qaonpfEc79xgS42VOZlv05i3y6Ax0+/AAAAAAAAAAAAAAAAAAAAAAAAAAAAAAAA",
            "dtype": "f8"
           }
          }
         ],
         "layout": {
          "annotations": [
           {
            "showarrow": false,
            "text": "Time: 0.05s (Step: 6/100)",
            "x": 0.05,
            "xref": "paper",
            "y": 0.95,
            "yref": "paper"
           }
          ]
         },
         "name": "5"
        },
        {
         "data": [
          {
           "name": "Free Nodes",
           "type": "scatter3d",
           "x": {
            "bdata": "supVeXdilT+tfMXHHyOaP5uGZgpUqJ4/4aigW5mJoT/SZQ/3xsejPyY7RAv+H6Y/Rmsc3RiXqD9WSaf82yKrP1NAEvGirq0/pJCo+uISsD+edwQ/AT+xPxVN4bsWXrI/okrOB8l4sz8y2CxCD5q0PwogDoU0yrU/",
            "dtype": "f8"
           },
           "y": {
            "bdata": "AAAAAAAAAAAAAAAAAAAAAAAAAAAAAAAAAAAAAAAAAAAAAAAAAAAAAAAAAAAAAAAAAAAAAAAAAAAAAAAAAAAAAAAAAAAAAAAAAAAAAAAAAAAAAAAAAAAAAAAAAAAAAAAAAAAAAAAAAAAAAAAAAAAAAAAAAAAAAAAA",
            "dtype": "f8"
           },
           "z": {
            "bdata": "RXxXcigvUb+aJUUpGblnv9ibVrmHcHW/e7VIbOzBf7+z74N+rcuEvwxGwgS64Yi/KNpMpueZi7+LxgwF3Y6Mv2zKF2iMmou/4Jf4R9fiiL/GINtN/syEvxqxDQhpxH+/XEcbe3Fydb8PZCiFV7tnv7SOzfvJMFG/",
            "dtype": "f8"
           }
          },
          {
           "name": "Fixed Nodes",
           "type": "scatter3d",
           "x": {
            "bdata": "+n5qvHSTeD+8SQwCK4eGP/2p8dJNYpA/CtejcD0Ktz9SuB6F61G4P5qZmZmZmbk/",
            "dtype": "f8"
           },
           "y": {
            "bdata": "AAAAAAAAAAAAAAAAAAAAgAAAAAAAAACAAAAAAAAAAAAAAAAAAAAAAAAAAAAAAAAA",
            "dtype": "f8"
           },
           "z": {
            "bdata": "AAAAAAAAAAAAAAAAAAAAgAAAAAAAAACAAAAAAAAAAAAAAAAAAAAAAAAAAAAAAAAA",
            "dtype": "f8"
           }
          },
          {
           "name": "Edges",
           "type": "scatter3d",
           "x": [
            0.006,
            0.011000000000000003,
            null,
            0.011000000000000003,
            0.016000000000000004,
            null,
            0.016000000000000004,
            0.020883433132875502,
            null,
            0.020883433132875502,
            0.025524612968521754,
            null,
            0.025524612968521754,
            0.02993899644355356,
            null,
            0.02993899644355356,
            0.03425292247296042,
            null,
            0.03425292247296042,
            0.038633554133138084,
            null,
            0.038633554133138084,
            0.04321283233195165,
            null,
            0.04321283233195165,
            0.04802777957066566,
            null,
            0.04802777957066566,
            0.053000330535399584,
            null,
            0.053000330535399584,
            0.05797299568905658,
            null,
            0.05797299568905658,
            0.06278818721381413,
            null,
            0.06278818721381413,
            0.06736762798797577,
            null,
            0.06736762798797577,
            0.07174818121830058,
            null,
            0.07174818121830058,
            0.07606178703853542,
            null,
            0.07606178703853542,
            0.08047576299290496,
            null,
            0.08047576299290496,
            0.08511665581147568,
            null,
            0.08511665581147568,
            0.09,
            null,
            0.09,
            0.095,
            null,
            0.095,
            0.1,
            null
           ],
           "y": [
            0,
            0,
            null,
            0,
            0,
            null,
            0,
            0,
            null,
            0,
            0,
            null,
            0,
            0,
            null,
            0,
            0,
            null,
            0,
            0,
            null,
            0,
            0,
            null,
            0,
            0,
            null,
            0,
            0,
            null,
            0,
            0,
            null,
            0,
            0,
            null,
            0,
            0,
            null,
            0,
            0,
            null,
            0,
            0,
            null,
            0,
            0,
            null,
            0,
            0,
            null,
            0,
            0,
            null,
            0,
            0,
            null,
            0,
            0,
            null
           ],
           "z": [
            0,
            0,
            null,
            0,
            0,
            null,
            0,
            -0.0010488409983435848,
            null,
            -0.0010488409983435848,
            -0.0028958789281758436,
            null,
            -0.0028958789281758436,
            -0.005234270259655248,
            null,
            -0.005234270259655248,
            -0.007753299262316711,
            null,
            -0.007753299262316711,
            -0.010154109404986266,
            null,
            -0.010154109404986266,
            -0.012149289388875516,
            null,
            -0.012149289388875516,
            -0.013477144014911138,
            null,
            -0.013477144014911138,
            -0.01394436523114286,
            null,
            -0.01394436523114286,
            -0.013478371550239752,
            null,
            -0.013478371550239752,
            -0.012151414760477708,
            null,
            -0.012151414760477708,
            -0.010156618834472286,
            null,
            -0.010156618834472286,
            -0.007755670813690574,
            null,
            -0.007755670813690574,
            -0.005236094746310229,
            null,
            -0.005236094746310229,
            -0.0028969487550623073,
            null,
            -0.0028969487550623073,
            -0.0010492298599382001,
            null,
            -0.0010492298599382001,
            0,
            null,
            0,
            0,
            null,
            0,
            0,
            null
           ]
          },
          {
           "i": [],
           "j": [],
           "k": [],
           "name": "Faces",
           "type": "mesh3d",
           "x": {
            "bdata": "+n5qvHSTeD+8SQwCK4eGP/2p8dJNYpA/supVeXdilT+tfMXHHyOaP5uGZgpUqJ4/4aigW5mJoT/SZQ/3xsejPyY7RAv+H6Y/Rmsc3RiXqD9WSaf82yKrP1NAEvGirq0/pJCo+uISsD+edwQ/AT+xPxVN4bsWXrI/okrOB8l4sz8y2CxCD5q0PwogDoU0yrU/CtejcD0Ktz9SuB6F61G4P5qZmZmZmbk/",
            "dtype": "f8"
           },
           "y": {
            "bdata": "AAAAAAAAAAAAAAAAAAAAgAAAAAAAAACAAAAAAAAAAAAAAAAAAAAAAAAAAAAAAAAAAAAAAAAAAAAAAAAAAAAAAAAAAAAAAAAAAAAAAAAAAAAAAAAAAAAAAAAAAAAAAAAAAAAAAAAAAAAAAAAAAAAAAAAAAAAAAAAAAAAAAAAAAAAAAAAAAAAAAAAAAAAAAAAAAAAAAAAAAAAAAAAAAAAAAAAAAAAAAAAA",
            "dtype": "f8"
           },
           "z": {
            "bdata": "AAAAAAAAAAAAAAAAAAAAgAAAAAAAAACARXxXcigvUb+aJUUpGblnv9ibVrmHcHW/e7VIbOzBf7+z74N+rcuEvwxGwgS64Yi/KNpMpueZi7+LxgwF3Y6Mv2zKF2iMmou/4Jf4R9fiiL/GINtN/syEvxqxDQhpxH+/XEcbe3Fydb8PZCiFV7tnv7SOzfvJMFG/AAAAAAAAAAAAAAAAAAAAAAAAAAAAAAAA",
            "dtype": "f8"
           }
          }
         ],
         "layout": {
          "annotations": [
           {
            "showarrow": false,
            "text": "Time: 0.06s (Step: 7/100)",
            "x": 0.05,
            "xref": "paper",
            "y": 0.95,
            "yref": "paper"
           }
          ]
         },
         "name": "6"
        },
        {
         "data": [
          {
           "name": "Free Nodes",
           "type": "scatter3d",
           "x": {
            "bdata": "560rje1jlj9O8zpuaxWbP0F/TR9XgZ8/0MPJSA3noT+GgaKtahekP/2vdEceZqY/6/GeFg3ZqD/MkJ9qS2SrP01ELryC760/qxglxzAxsD96+0vUg1ixP+C+NA2ycLI/jAHZ7umDsz98espR8J60P/Ee3z1ay7U/",
            "dtype": "f8"
           },
           "y": {
            "bdata": "AAAAAAAAAAAAAAAAAAAAAAAAAAAAAAAAAAAAAAAAAAAAAAAAAAAAAAAAAAAAAAAAAAAAAAAAAAAAAAAAAAAAAAAAAAAAAAAAAAAAAAAAAAAAAAAAAAAAAAAAAAAAAAAAAAAAAAAAAAAAAAAAAAAAAAAAAAAAAAAA",
            "dtype": "f8"
           },
           "z": {
            "bdata": "dc81WuV7Ur/kC8aYCINpv3N1jRWGC3e/rOiIPo4Qgb+xcAkmMluGvzAmUZN7xIq/Gj64nFC2jb8ECqLBg7+OvxTCX/Y9tY2/09L41JTCir+wM6sz21iGv5hun2AxDoG/ajG5+3oHd7835Oa4cn1pvze3cP72dlK/",
            "dtype": "f8"
           }
          },
          {
           "name": "Fixed Nodes",
           "type": "scatter3d",
           "x": {
            "bdata": "eekmMQisfD/8fmq8dJOIP53EILByaJE/CtejcD0Ktz9SuB6F61G4P5qZmZmZmbk/",
            "dtype": "f8"
           },
           "y": {
            "bdata": "AAAAAAAAAAAAAAAAAAAAgAAAAAAAAACAAAAAAAAAAAAAAAAAAAAAAAAAAAAAAAAA",
            "dtype": "f8"
           },
           "z": {
            "bdata": "AAAAAAAAAAAAAAAAAAAAgAAAAAAAAACAAAAAAAAAAAAAAAAAAAAAAAAAAAAAAAAA",
            "dtype": "f8"
           }
          },
          {
           "name": "Edges",
           "type": "scatter3d",
           "x": [
            0.007,
            0.012000000000000004,
            null,
            0.012000000000000004,
            0.017000000000000005,
            null,
            0.017000000000000005,
            0.02186556982171153,
            null,
            0.02186556982171153,
            0.02644889698307234,
            null,
            0.02644889698307234,
            0.030766831670347775,
            null,
            0.030766831670347775,
            0.03496591104056501,
            null,
            0.03496591104056501,
            0.03924115533414167,
            null,
            0.03924115533414167,
            0.04374785063041029,
            null,
            0.04374785063041029,
            0.048530968676889184,
            null,
            0.048530968676889184,
            0.05349956203989023,
            null,
            0.05349956203989023,
            0.05846794650199936,
            null,
            0.05846794650199936,
            0.06325058805404875,
            null,
            0.06325058805404875,
            0.06775688107516756,
            null,
            0.06775688107516756,
            0.07203209707654024,
            null,
            0.07203209707654024,
            0.0762315948604792,
            null,
            0.0762315948604792,
            0.08055021283005631,
            null,
            0.08055021283005631,
            0.08513416300331379,
            null,
            0.08513416300331379,
            0.09,
            null,
            0.09,
            0.095,
            null,
            0.095,
            0.1,
            null
           ],
           "y": [
            0,
            0,
            null,
            0,
            0,
            null,
            0,
            0,
            null,
            0,
            0,
            null,
            0,
            0,
            null,
            0,
            0,
            null,
            0,
            0,
            null,
            0,
            0,
            null,
            0,
            0,
            null,
            0,
            0,
            null,
            0,
            0,
            null,
            0,
            0,
            null,
            0,
            0,
            null,
            0,
            0,
            null,
            0,
            0,
            null,
            0,
            0,
            null,
            0,
            0,
            null,
            0,
            0,
            null,
            0,
            0,
            null,
            0,
            0,
            null
           ],
           "z": [
            0,
            0,
            null,
            0,
            0,
            null,
            0,
            -0.0011281718987818632,
            null,
            -0.0011281718987818632,
            -0.003114239492960179,
            null,
            -0.003114239492960179,
            -0.0056262242950116835,
            null,
            -0.0056262242950116835,
            -0.008332358630571989,
            null,
            -0.008332358630571989,
            -0.010916129861634568,
            null,
            -0.010916129861634568,
            -0.013070073540933341,
            null,
            -0.013070073540933341,
            -0.014507894308763137,
            null,
            -0.014507894308763137,
            -0.015013722750386378,
            null,
            -0.015013722750386378,
            -0.014505848008384205,
            null,
            -0.014505848008384205,
            -0.013066447018993987,
            null,
            -0.013066447018993987,
            -0.010911667360596983,
            null,
            -0.010911667360596983,
            -0.008327852021401669,
            null,
            -0.008327852021401669,
            -0.005622368243688983,
            null,
            -0.005622368243688983,
            -0.003111576144160934,
            null,
            -0.003111576144160934,
            -0.001126996235835743,
            null,
            -0.001126996235835743,
            0,
            null,
            0,
            0,
            null,
            0,
            0,
            null
           ]
          },
          {
           "i": [],
           "j": [],
           "k": [],
           "name": "Faces",
           "type": "mesh3d",
           "x": {
            "bdata": "eekmMQisfD/8fmq8dJOIP53EILByaJE/560rje1jlj9O8zpuaxWbP0F/TR9XgZ8/0MPJSA3noT+GgaKtahekP/2vdEceZqY/6/GeFg3ZqD/MkJ9qS2SrP01ELryC760/qxglxzAxsD96+0vUg1ixP+C+NA2ycLI/jAHZ7umDsz98espR8J60P/Ee3z1ay7U/CtejcD0Ktz9SuB6F61G4P5qZmZmZmbk/",
            "dtype": "f8"
           },
           "y": {
            "bdata": "AAAAAAAAAAAAAAAAAAAAgAAAAAAAAACAAAAAAAAAAAAAAAAAAAAAAAAAAAAAAAAAAAAAAAAAAAAAAAAAAAAAAAAAAAAAAAAAAAAAAAAAAAAAAAAAAAAAAAAAAAAAAAAAAAAAAAAAAAAAAAAAAAAAAAAAAAAAAAAAAAAAAAAAAAAAAAAAAAAAAAAAAAAAAAAAAAAAAAAAAAAAAAAAAAAAAAAAAAAAAAAA",
            "dtype": "f8"
           },
           "z": {
            "bdata": "AAAAAAAAAAAAAAAAAAAAgAAAAAAAAACAdc81WuV7Ur/kC8aYCINpv3N1jRWGC3e/rOiIPo4Qgb+xcAkmMluGvzAmUZN7xIq/Gj64nFC2jb8ECqLBg7+OvxTCX/Y9tY2/09L41JTCir+wM6sz21iGv5hun2AxDoG/ajG5+3oHd7835Oa4cn1pvze3cP72dlK/AAAAAAAAAAAAAAAAAAAAAAAAAAAAAAAA",
            "dtype": "f8"
           }
          }
         ],
         "layout": {
          "annotations": [
           {
            "showarrow": false,
            "text": "Time: 0.07s (Step: 8/100)",
            "x": 0.05,
            "xref": "paper",
            "y": 0.95,
            "yref": "paper"
           }
          ]
         },
         "name": "7"
        },
        {
         "data": [
          {
           "name": "Free Nodes",
           "type": "scatter3d",
           "x": {
            "bdata": "8yFR831llz+3YySFDgicP1CMkz57LaA/w+Oi4+BEoj8eLrcTYmekPzGqZmhyrKY/mm8LORsbqT8AQ7OpzqWrP3vBFDJ4MK4/w1BKOYVPsD8/IuHfA3KxP0ye8L1Dg7I/hfnITwCPsz8y6VZfyqO0P/os12J9zLU/",
            "dtype": "f8"
           },
           "y": {
            "bdata": "AAAAAAAAAAAAAAAAAAAAAAAAAAAAAAAAAAAAAAAAAAAAAAAAAAAAAAAAAAAAAAAAAAAAAAAAAAAAAAAAAAAAAAAAAAAAAAAAAAAAAAAAAAAAAAAAAAAAAAAAAAAAAAAAAAAAAAAAAAAAAAAAAAAAAAAAAAAAAAAA",
            "dtype": "f8"
           },
           "z": {
            "bdata": "Huq69zyrU7+oqGW60SNrv6FVwoPUgHi/fCJ/MCwkgr/xeP8EkcaHv+BBdpIkfYy/PhtO+HWlj78rX4PpMmGQvxh4pvYMpI+/+wnXIqZ6jL9YaKqugMOHv4z0OVoTIYK/FacstYB7eL9pNOsFYxxrv1oH8GmZpFO/",
            "dtype": "f8"
           }
          },
          {
           "name": "Fixed Nodes",
           "type": "scatter3d",
           "x": {
            "bdata": "/Knx0k1igD88tMh2vp+KPz3fT42XbpI/CtejcD0Ktz9SuB6F61G4P5qZmZmZmbk/",
            "dtype": "f8"
           },
           "y": {
            "bdata": "AAAAAAAAAAAAAAAAAAAAgAAAAAAAAACAAAAAAAAAAAAAAAAAAAAAAAAAAAAAAAAA",
            "dtype": "f8"
           },
           "z": {
            "bdata": "AAAAAAAAAAAAAAAAAAAAgAAAAAAAAACAAAAAAAAAAAAAAAAAAAAAAAAAAAAAAAAA",
            "dtype": "f8"
           }
          },
          {
           "name": "Edges",
           "type": "scatter3d",
           "x": [
            0.008,
            0.013000000000000005,
            null,
            0.013000000000000005,
            0.018000000000000006,
            null,
            0.018000000000000006,
            0.02284809873188638,
            null,
            0.02284809873188638,
            0.027374483944274632,
            null,
            0.027374483944274632,
            0.031596995724406995,
            null,
            0.031596995724406995,
            0.035681751048691555,
            null,
            0.035681751048691555,
            0.039851250559504545,
            null,
            0.039851250559504545,
            0.04428441547800722,
            null,
            0.04428441547800722,
            0.04903492995592203,
            null,
            0.04903492995592203,
            0.053999384131776296,
            null,
            0.053999384131776296,
            0.05896354304639125,
            null,
            0.05896354304639125,
            0.06371338509262885,
            null,
            0.06371338509262885,
            0.06814598289305084,
            null,
            0.06814598289305084,
            0.07231543910222021,
            null,
            0.07231543910222021,
            0.07640077541234376,
            null,
            0.07640077541234376,
            0.0806242449533883,
            null,
            0.0806242449533883,
            0.08515151656245115,
            null,
            0.08515151656245115,
            0.09,
            null,
            0.09,
            0.095,
            null,
            0.095,
            0.1,
            null
           ],
           "y": [
            0,
            0,
            null,
            0,
            0,
            null,
            0,
            0,
            null,
            0,
            0,
            null,
            0,
            0,
            null,
            0,
            0,
            null,
            0,
            0,
            null,
            0,
            0,
            null,
            0,
            0,
            null,
            0,
            0,
            null,
            0,
            0,
            null,
            0,
            0,
            null,
            0,
            0,
            null,
            0,
            0,
            null,
            0,
            0,
            null,
            0,
            0,
            null,
            0,
            0,
            null,
            0,
            0,
            null,
            0,
            0,
            null,
            0,
            0,
            null
           ],
           "z": [
            0,
            0,
            null,
            0,
            0,
            null,
            0,
            -0.0012004943263678246,
            null,
            -0.0012004943263678246,
            -0.003312978387090732,
            null,
            -0.003312978387090732,
            -0.0059822369913908055,
            null,
            -0.0059822369913908055,
            -0.008858056287764919,
            null,
            -0.008858056287764919,
            -0.011609204258942603,
            null,
            -0.011609204258942603,
            -0.0139105660626066,
            null,
            -0.0139105660626066,
            -0.015452310218973527,
            null,
            -0.015452310218973527,
            -0.015995784285080788,
            null,
            -0.015995784285080788,
            -0.015449620511216053,
            null,
            -0.015449620511216053,
            -0.013905809343559552,
            null,
            -0.013905809343559552,
            -0.011603360491154444,
            null,
            -0.011603360491154444,
            -0.008852149191847646,
            null,
            -0.008852149191847646,
            -0.005977156414511038,
            null,
            -0.005977156414511038,
            -0.00330943432286417,
            null,
            -0.00330943432286417,
            -0.0011989114934753604,
            null,
            -0.0011989114934753604,
            0,
            null,
            0,
            0,
            null,
            0,
            0,
            null
           ]
          },
          {
           "i": [],
           "j": [],
           "k": [],
           "name": "Faces",
           "type": "mesh3d",
           "x": {
            "bdata": "/Knx0k1igD88tMh2vp+KPz3fT42XbpI/8yFR831llz+3YySFDgicP1CMkz57LaA/w+Oi4+BEoj8eLrcTYmekPzGqZmhyrKY/mm8LORsbqT8AQ7OpzqWrP3vBFDJ4MK4/w1BKOYVPsD8/IuHfA3KxP0ye8L1Dg7I/hfnITwCPsz8y6VZfyqO0P/os12J9zLU/CtejcD0Ktz9SuB6F61G4P5qZmZmZmbk/",
            "dtype": "f8"
           },
           "y": {
            "bdata": "AAAAAAAAAAAAAAAAAAAAgAAAAAAAAACAAAAAAAAAAAAAAAAAAAAAAAAAAAAAAAAAAAAAAAAAAAAAAAAAAAAAAAAAAAAAAAAAAAAAAAAAAAAAAAAAAAAAAAAAAAAAAAAAAAAAAAAAAAAAAAAAAAAAAAAAAAAAAAAAAAAAAAAAAAAAAAAAAAAAAAAAAAAAAAAAAAAAAAAAAAAAAAAAAAAAAAAAAAAAAAAA",
            "dtype": "f8"
           },
           "z": {
            "bdata": "AAAAAAAAAAAAAAAAAAAAgAAAAAAAAACAHuq69zyrU7+oqGW60SNrv6FVwoPUgHi/fCJ/MCwkgr/xeP8EkcaHv+BBdpIkfYy/PhtO+HWlj78rX4PpMmGQvxh4pvYMpI+/+wnXIqZ6jL9YaKqugMOHv4z0OVoTIYK/FacstYB7eL9pNOsFYxxrv1oH8GmZpFO/AAAAAAAAAAAAAAAAAAAAAAAAAAAAAAAA",
            "dtype": "f8"
           }
          }
         ],
         "layout": {
          "annotations": [
           {
            "showarrow": false,
            "text": "Time: 0.08s (Step: 9/100)",
            "x": 0.05,
            "xref": "paper",
            "y": 0.95,
            "yref": "paper"
           }
          ]
         },
         "name": "8"
        },
        {
         "data": [
          {
           "name": "Free Nodes",
           "type": "scatter3d",
           "x": {
            "bdata": "0YX/YyFnmD9p39IG8fqcPzMpJUqEmqA/kFRRCfuioj8hGI+blbekP/SbOUTo8qY/bj5VgzZdqT/m/FwaW+erP3xdIG12ca4/+poRoNdtsD9xHBp3d4uxP0VLiAbDlbI/1igsZwaasz9jdt/jmqi0P0qhJ26dzbU/",
            "dtype": "f8"
           },
           "y": {
            "bdata": "AAAAAAAAAAAAAAAAAAAAAAAAAAAAAAAAAAAAAAAAAAAAAAAAAAAAAAAAAAAAAAAAAAAAAAAAAAAAAAAAAAAAAAAAAAAAAAAAAAAAAAAAAAAAAAAAAAAAAAAAAAAAAAAAAAAAAAAAAAAAAAAAAAAAAAAAAAAAAAAA",
            "dtype": "f8"
           },
           "z": {
            "bdata": "YKAPOPrDVL+BDfKXiaRsvyivsWRe2Hm/wIMQvWwhg79EHbaHwRSJv+AvLnSNE46/0QXuFsK3kL+yDp5VvU+Rv64QgiAkt5C/JC9mF1wRjr/pm1V4CRKJv4ySVcehHoO/1k4MpXDTeb9noH+jaJ1sv3kV1ihevVS/",
            "dtype": "f8"
           }
          },
          {
           "name": "Fixed Nodes",
           "type": "scatter3d",
           "x": {
            "bdata": "PN9PjZdugj986SYxCKyMP935fmq8dJM/CtejcD0Ktz9SuB6F61G4P5qZmZmZmbk/",
            "dtype": "f8"
           },
           "y": {
            "bdata": "AAAAAAAAAAAAAAAAAAAAgAAAAAAAAACAAAAAAAAAAAAAAAAAAAAAAAAAAAAAAAAA",
            "dtype": "f8"
           },
           "z": {
            "bdata": "AAAAAAAAAAAAAAAAAAAAgAAAAAAAAACAAAAAAAAAAAAAAAAAAAAAAAAAAAAAAAAA",
            "dtype": "f8"
           }
          },
          {
           "name": "Edges",
           "type": "scatter3d",
           "x": [
            0.009000000000000001,
            0.014000000000000005,
            null,
            0.014000000000000005,
            0.019000000000000006,
            null,
            0.019000000000000006,
            0.023830911377336342,
            null,
            0.023830911377336342,
            0.028301015893446833,
            null,
            0.028301015893446833,
            0.03242886929600033,
            null,
            0.03242886929600033,
            0.03639969338170446,
            null,
            0.03639969338170446,
            0.04046313785470113,
            null,
            0.04046313785470113,
            0.04482198555779596,
            null,
            0.04482198555779596,
            0.04953928330598677,
            null,
            0.04953928330598677,
            0.05449948021714039,
            null,
            0.05449948021714039,
            0.059459400960061054,
            null,
            0.059459400960061054,
            0.06417606027535419,
            null,
            0.06417606027535419,
            0.06853434236301027,
            null,
            0.06853434236301027,
            0.07259768399698625,
            null,
            0.07259768399698625,
            0.0765689851652128,
            null,
            0.0765689851652128,
            0.08069770873358943,
            null,
            0.08069770873358943,
            0.08516868533445635,
            null,
            0.08516868533445635,
            0.09,
            null,
            0.09,
            0.095,
            null,
            0.095,
            0.1,
            null
           ],
           "y": [
            0,
            0,
            null,
            0,
            0,
            null,
            0,
            0,
            null,
            0,
            0,
            null,
            0,
            0,
            null,
            0,
            0,
            null,
            0,
            0,
            null,
            0,
            0,
            null,
            0,
            0,
            null,
            0,
            0,
            null,
            0,
            0,
            null,
            0,
            0,
            null,
            0,
            0,
            null,
            0,
            0,
            null,
            0,
            0,
            null,
            0,
            0,
            null,
            0,
            0,
            null,
            0,
            0,
            null,
            0,
            0,
            null,
            0,
            0,
            null
           ],
           "z": [
            0,
            0,
            null,
            0,
            0,
            null,
            0,
            -0.0012674277825173372,
            null,
            -0.0012674277825173372,
            -0.00349642633187991,
            null,
            -0.00349642633187991,
            -0.006309860919923506,
            null,
            -0.006309860919923506,
            -0.009341096420088735,
            null,
            -0.009341096420088735,
            -0.012246620134432569,
            null,
            -0.012246620134432569,
            -0.014685731037182792,
            null,
            -0.014685731037182792,
            -0.016325981759569622,
            null,
            -0.016325981759569622,
            -0.016905744887039283,
            null,
            -0.016905744887039283,
            -0.016323627933630895,
            null,
            -0.016323627933630895,
            -0.014681548561177822,
            null,
            -0.014681548561177822,
            -0.012241434082808271,
            null,
            -0.012241434082808271,
            -0.009335769553851202,
            null,
            -0.009335769553851202,
            -0.006305160540040785,
            null,
            -0.006305160540040785,
            -0.003493027088541867,
            null,
            -0.003493027088541867,
            -0.0012658519293336763,
            null,
            -0.0012658519293336763,
            0,
            null,
            0,
            0,
            null,
            0,
            0,
            null
           ]
          },
          {
           "i": [],
           "j": [],
           "k": [],
           "name": "Faces",
           "type": "mesh3d",
           "x": {
            "bdata": "PN9PjZdugj986SYxCKyMP935fmq8dJM/0YX/YyFnmD9p39IG8fqcPzMpJUqEmqA/kFRRCfuioj8hGI+blbekP/SbOUTo8qY/bj5VgzZdqT/m/FwaW+erP3xdIG12ca4/+poRoNdtsD9xHBp3d4uxP0VLiAbDlbI/1igsZwaasz9jdt/jmqi0P0qhJ26dzbU/CtejcD0Ktz9SuB6F61G4P5qZmZmZmbk/",
            "dtype": "f8"
           },
           "y": {
            "bdata": "AAAAAAAAAAAAAAAAAAAAgAAAAAAAAACAAAAAAAAAAAAAAAAAAAAAAAAAAAAAAAAAAAAAAAAAAAAAAAAAAAAAAAAAAAAAAAAAAAAAAAAAAAAAAAAAAAAAAAAAAAAAAAAAAAAAAAAAAAAAAAAAAAAAAAAAAAAAAAAAAAAAAAAAAAAAAAAAAAAAAAAAAAAAAAAAAAAAAAAAAAAAAAAAAAAAAAAAAAAAAAAA",
            "dtype": "f8"
           },
           "z": {
            "bdata": "AAAAAAAAAAAAAAAAAAAAgAAAAAAAAACAYKAPOPrDVL+BDfKXiaRsvyivsWRe2Hm/wIMQvWwhg79EHbaHwRSJv+AvLnSNE46/0QXuFsK3kL+yDp5VvU+Rv64QgiAkt5C/JC9mF1wRjr/pm1V4CRKJv4ySVcehHoO/1k4MpXDTeb9noH+jaJ1sv3kV1ihevVS/AAAAAAAAAAAAAAAAAAAAAAAAAAAAAAAA",
            "dtype": "f8"
           }
          }
         ],
         "layout": {
          "annotations": [
           {
            "showarrow": false,
            "text": "Time: 0.09s (Step: 10/100)",
            "x": 0.05,
            "xref": "paper",
            "y": 0.95,
            "yref": "paper"
           }
          ]
         },
         "name": "9"
        },
        {
         "data": [
          {
           "name": "Free Nodes",
           "type": "scatter3d",
           "x": {
            "bdata": "B0o7XcRomT/IW8Kw1O2dP1M+bk+UB6E/mFD4hyQBoz/XA/Xt2AelP+KfeutkOac/BBx5rFCfqT/Ea6zT5SisP1MCoHxxsq4/AMl4eyOMsD/6VTgm36SxP5bh1IE2qLI/60Y1rQWlsz/qG7suaa20P25E6f68zrU/",
            "dtype": "f8"
           },
           "y": {
            "bdata": "AAAAAAAAAAAAAAAAAAAAAAAAAAAAAAAAAAAAAAAAAAAAAAAAAAAAAAAAAAAAAAAAAAAAAAAAAAAAAAAAAAAAAAAAAAAAAAAAAAAAAAAAAAAAAAAAAAAAAAAAAAAAAAAAAAAAAAAAAAAAAAAAAAAAAAAAAAAAAAAA",
            "dtype": "f8"
           },
           "z": {
            "bdata": "DjbWTAvOVb+AVBJZ6A5uvxHBxyztGXu/pMPS6GsNhL/joubIrEuKv/FN9oTzjY+/eFjTGFSNkb/mMrg0Uy6Sv8j8trq7jJG/91+ibtOLj7/hn9EVBEmKv2SF+DamCoS/nBumkOsUe7/KzGhDcAduv7xJEWfmxlW/",
            "dtype": "f8"
           }
          },
          {
           "name": "Fixed Nodes",
           "type": "scatter3d",
           "x": {
            "bdata": "fBSuR+F6hD+8HoXrUbiOP30UrkfhepQ/CtejcD0Ktz9SuB6F61G4P5qZmZmZmbk/",
            "dtype": "f8"
           },
           "y": {
            "bdata": "AAAAAAAAAAAAAAAAAAAAgAAAAAAAAACAAAAAAAAAAAAAAAAAAAAAAAAAAAAAAAAA",
            "dtype": "f8"
           },
           "z": {
            "bdata": "AAAAAAAAAAAAAAAAAAAAgAAAAAAAAACAAAAAAAAAAAAAAAAAAAAAAAAAAAAAAAAA",
            "dtype": "f8"
           }
          },
          {
           "name": "Edges",
           "type": "scatter3d",
           "x": [
            0.010000000000000002,
            0.015000000000000006,
            null,
            0.015000000000000006,
            0.020000000000000007,
            null,
            0.020000000000000007,
            0.024813717070012255,
            null,
            0.024813717070012255,
            0.029227565086866553,
            null,
            0.029227565086866553,
            0.03326095075237547,
            null,
            0.03326095075237547,
            0.03711809310712616,
            null,
            0.03711809310712616,
            0.04107549576520569,
            null,
            0.04107549576520569,
            0.045359758133883835,
            null,
            0.045359758133883835,
            0.050043602994769315,
            null,
            0.050043602994769315,
            0.05499952515511766,
            null,
            0.05499952515511766,
            0.05995516439725592,
            null,
            0.05995516439725592,
            0.06463834537933977,
            null,
            0.06463834537933977,
            0.06892199214083652,
            null,
            0.06892199214083652,
            0.07287922544208522,
            null,
            0.07287922544208522,
            0.0767367885466929,
            null,
            0.0767367885466929,
            0.0807710398758982,
            null,
            0.0807710398758982,
            0.08518582557123164,
            null,
            0.08518582557123164,
            0.09,
            null,
            0.09,
            0.095,
            null,
            0.095,
            0.1,
            null
           ],
           "y": [
            0,
            0,
            null,
            0,
            0,
            null,
            0,
            0,
            null,
            0,
            0,
            null,
            0,
            0,
            null,
            0,
            0,
            null,
            0,
            0,
            null,
            0,
            0,
            null,
            0,
            0,
            null,
            0,
            0,
            null,
            0,
            0,
            null,
            0,
            0,
            null,
            0,
            0,
            null,
            0,
            0,
            null,
            0,
            0,
            null,
            0,
            0,
            null,
            0,
            0,
            null,
            0,
            0,
            null,
            0,
            0,
            null,
            0,
            0,
            null
           ],
           "z": [
            0,
            0,
            null,
            0,
            0,
            null,
            0,
            -0.0013308630326237555,
            null,
            -0.0013308630326237555,
            -0.003669217876970665,
            null,
            -0.003669217876970665,
            -0.0066165222783498715,
            null,
            -0.0066165222783498715,
            -0.009791224520400217,
            null,
            -0.009791224520400217,
            -0.012839650994310009,
            null,
            -0.012839650994310009,
            -0.01540746926801881,
            null,
            -0.01540746926801881,
            -0.01714068795703169,
            null,
            -0.01714068795703169,
            -0.01775484093927817,
            null,
            -0.01775484093927817,
            -0.017138417502562203,
            null,
            -0.017138417502562203,
            -0.015403415502348123,
            null,
            -0.015403415502348123,
            -0.01283457938752969,
            null,
            -0.01283457938752969,
            -0.009785936882567632,
            null,
            -0.009785936882567632,
            -0.0066117479094661945,
            null,
            -0.0066117479094661945,
            -0.00366565634183189,
            null,
            -0.00366565634183189,
            -0.0013291597390617657,
            null,
            -0.0013291597390617657,
            0,
            null,
            0,
            0,
            null,
            0,
            0,
            null
           ]
          },
          {
           "i": [],
           "j": [],
           "k": [],
           "name": "Faces",
           "type": "mesh3d",
           "x": {
            "bdata": "fBSuR+F6hD+8HoXrUbiOP30UrkfhepQ/B0o7XcRomT/IW8Kw1O2dP1M+bk+UB6E/mFD4hyQBoz/XA/Xt2AelP+KfeutkOac/BBx5rFCfqT/Ea6zT5SisP1MCoHxxsq4/AMl4eyOMsD/6VTgm36SxP5bh1IE2qLI/60Y1rQWlsz/qG7suaa20P25E6f68zrU/CtejcD0Ktz9SuB6F61G4P5qZmZmZmbk/",
            "dtype": "f8"
           },
           "y": {
            "bdata": "AAAAAAAAAAAAAAAAAAAAgAAAAAAAAACAAAAAAAAAAAAAAAAAAAAAAAAAAAAAAAAAAAAAAAAAAAAAAAAAAAAAAAAAAAAAAAAAAAAAAAAAAAAAAAAAAAAAAAAAAAAAAAAAAAAAAAAAAAAAAAAAAAAAAAAAAAAAAAAAAAAAAAAAAAAAAAAAAAAAAAAAAAAAAAAAAAAAAAAAAAAAAAAAAAAAAAAAAAAAAAAA",
            "dtype": "f8"
           },
           "z": {
            "bdata": "AAAAAAAAAAAAAAAAAAAAgAAAAAAAAACADjbWTAvOVb+AVBJZ6A5uvxHBxyztGXu/pMPS6GsNhL/joubIrEuKv/FN9oTzjY+/eFjTGFSNkb/mMrg0Uy6Sv8j8trq7jJG/91+ibtOLj7/hn9EVBEmKv2SF+DamCoS/nBumkOsUe7/KzGhDcAduv7xJEWfmxlW/AAAAAAAAAAAAAAAAAAAAAAAAAAAAAAAA",
            "dtype": "f8"
           }
          }
         ],
         "layout": {
          "annotations": [
           {
            "showarrow": false,
            "text": "Time: 0.10s (Step: 11/100)",
            "x": 0.05,
            "xref": "paper",
            "y": 0.95,
            "yref": "paper"
           }
          ]
         },
         "name": "10"
        },
        {
         "data": [
          {
           "name": "Free Nodes",
           "type": "scatter3d",
           "x": {
            "bdata": "fst7JGBqmj8itb5NpOCePwRbTjmadKE/PR/1q0pfoz/t8gv8HFilP9vLNinff6c/r8yuumThqT+qoYLpamqsP/lLN/Vk864/GHu4BmeqsD8r/n3jOr6xPzafZUagurI/WPhBQwGwsz/2w8ezN7K0P22/7Prcz7U/",
            "dtype": "f8"
           },
           "y": {
            "bdata": "AAAAAAAAAAAAAAAAAAAAAAAAAAAAAAAAAAAAAAAAAAAAAAAAAAAAAAAAAAAAAAAAAAAAAAAAAAAAAAAAAAAAAAAAAAAAAAAAAAAAAAAAAAAAAAAAAAAAAAAAAAAAAAAAAAAAAAAAAAAAAAAAAAAAAAAAAAAAAAAA",
            "dtype": "f8"
           },
           "z": {
            "bdata": "RZM6G9vMVr+O4K2VdWdvv+eH6bZ0SXy/vux7qf7qhL9P770/5W6LvwcyBZo3eJC/hf/+L59Vkr8RFNCqJf+SvwULl4nmVJK/Q4bvfO52kL+rJrvTrmuLv9bXnFCk54S/FQ3SeV9DfL8pVvy6T15vvz4UTx8GxFa/",
            "dtype": "f8"
           }
          },
          {
           "name": "Fixed Nodes",
           "type": "scatter3d",
           "x": {
            "bdata": "vEkMAiuHhj/+qfHSTWKQPx0v3SQGgZU/CtejcD0Ktz9SuB6F61G4P5qZmZmZmbk/",
            "dtype": "f8"
           },
           "y": {
            "bdata": "AAAAAAAAAAAAAAAAAAAAgAAAAAAAAACAAAAAAAAAAAAAAAAAAAAAAAAAAAAAAAAA",
            "dtype": "f8"
           },
           "z": {
            "bdata": "AAAAAAAAAAAAAAAAAAAAgAAAAAAAAACAAAAAAAAAAAAAAAAAAAAAAAAAAAAAAAAA",
            "dtype": "f8"
           }
          },
          {
           "name": "Edges",
           "type": "scatter3d",
           "x": [
            0.011000000000000003,
            0.016000000000000007,
            null,
            0.016000000000000007,
            0.021000000000000008,
            null,
            0.021000000000000008,
            0.02579641554525435,
            null,
            0.02579641554525435,
            0.030153815503287558,
            null,
            0.030153815503287558,
            0.03409273099457802,
            null,
            0.03409273099457802,
            0.03783639287081406,
            null,
            0.03783639287081406,
            0.0416878755258717,
            null,
            0.0416878755258717,
            0.04589745882130788,
            null,
            0.04589745882130788,
            0.05054774073450951,
            null,
            0.05054774073450951,
            0.05549940205065991,
            null,
            0.05549940205065991,
            0.060450701650232426,
            null,
            0.060450701650232426,
            0.06510013498380507,
            null,
            0.06510013498380507,
            0.0693089299584179,
            null,
            0.0693089299584179,
            0.07316018789935871,
            null,
            0.07316018789935871,
            0.07690437213929735,
            null,
            0.07690437213929735,
            0.0808443845669585,
            null,
            0.0808443845669585,
            0.08520299078076983,
            null,
            0.08520299078076983,
            0.09,
            null,
            0.09,
            0.095,
            null,
            0.095,
            0.1,
            null
           ],
           "y": [
            0,
            0,
            null,
            0,
            0,
            null,
            0,
            0,
            null,
            0,
            0,
            null,
            0,
            0,
            null,
            0,
            0,
            null,
            0,
            0,
            null,
            0,
            0,
            null,
            0,
            0,
            null,
            0,
            0,
            null,
            0,
            0,
            null,
            0,
            0,
            null,
            0,
            0,
            null,
            0,
            0,
            null,
            0,
            0,
            null,
            0,
            0,
            null,
            0,
            0,
            null,
            0,
            0,
            null,
            0,
            0,
            null,
            0,
            0,
            null
           ],
           "z": [
            0,
            0,
            null,
            0,
            0,
            null,
            0,
            -0.001391614886338392,
            null,
            -0.001391614886338392,
            -0.0038335129333369527,
            null,
            -0.0038335129333369527,
            -0.006905990520495542,
            null,
            -0.006905990520495542,
            -0.010213841960185707,
            null,
            -0.010213841960185707,
            -0.013395110137700476,
            null,
            -0.013395110137700476,
            -0.016083592200901744,
            null,
            -0.016083592200901744,
            -0.01790474634594787,
            null,
            -0.01790474634594787,
            -0.01855143408831245,
            null,
            -0.01855143408831245,
            -0.017901994846179842,
            null,
            -0.017901994846179842,
            -0.016078688025919396,
            null,
            -0.016078688025919396,
            -0.01338898261691964,
            null,
            -0.01338898261691964,
            -0.010207446775535017,
            null,
            -0.010207446775535017,
            -0.006900189354499338,
            null,
            -0.006900189354499338,
            -0.0038291508898378357,
            null,
            -0.0038291508898378357,
            -0.0013895091808404782,
            null,
            -0.0013895091808404782,
            0,
            null,
            0,
            0,
            null,
            0,
            0,
            null
           ]
          },
          {
           "i": [],
           "j": [],
           "k": [],
           "name": "Faces",
           "type": "mesh3d",
           "x": {
            "bdata": "vEkMAiuHhj/+qfHSTWKQPx0v3SQGgZU/fst7JGBqmj8itb5NpOCePwRbTjmadKE/PR/1q0pfoz/t8gv8HFilP9vLNinff6c/r8yuumThqT+qoYLpamqsP/lLN/Vk864/GHu4BmeqsD8r/n3jOr6xPzafZUagurI/WPhBQwGwsz/2w8ezN7K0P22/7Prcz7U/CtejcD0Ktz9SuB6F61G4P5qZmZmZmbk/",
            "dtype": "f8"
           },
           "y": {
            "bdata": "AAAAAAAAAAAAAAAAAAAAgAAAAAAAAACAAAAAAAAAAAAAAAAAAAAAAAAAAAAAAAAAAAAAAAAAAAAAAAAAAAAAAAAAAAAAAAAAAAAAAAAAAAAAAAAAAAAAAAAAAAAAAAAAAAAAAAAAAAAAAAAAAAAAAAAAAAAAAAAAAAAAAAAAAAAAAAAAAAAAAAAAAAAAAAAAAAAAAAAAAAAAAAAAAAAAAAAAAAAAAAAA",
            "dtype": "f8"
           },
           "z": {
            "bdata": "AAAAAAAAAAAAAAAAAAAAgAAAAAAAAACARZM6G9vMVr+O4K2VdWdvv+eH6bZ0SXy/vux7qf7qhL9P770/5W6LvwcyBZo3eJC/hf/+L59Vkr8RFNCqJf+SvwULl4nmVJK/Q4bvfO52kL+rJrvTrmuLv9bXnFCk54S/FQ3SeV9DfL8pVvy6T15vvz4UTx8GxFa/AAAAAAAAAAAAAAAAAAAAAAAAAAAAAAAA",
            "dtype": "f8"
           }
          }
         ],
         "layout": {
          "annotations": [
           {
            "showarrow": false,
            "text": "Time: 0.11s (Step: 12/100)",
            "x": 0.05,
            "xref": "paper",
            "y": 0.95,
            "yref": "paper"
           }
          ]
         },
         "name": "11"
        },
        {
         "data": [
          {
           "name": "Free Nodes",
           "type": "scatter3d",
           "x": {
            "bdata": "yvSJovVrmz9zyMBWY9OfP4xMrjuZ4aE/F0PQenG9oz9qbVaSZailPynFpcVZxqc/ArzmZnQjqj9aJqWg66usP/xjJzFSNK8/4nUHA6PIsD8+4ZFqi9exPxIf4OcAzbI/NG7Gfvm6sz+RX5mTBre0PzkGFmv90LU/",
            "dtype": "f8"
           },
           "y": {
            "bdata": "AAAAAAAAAAAAAAAAAAAAAAAAAAAAAAAAAAAAAAAAAAAAAAAAAAAAAAAAAAAAAAAAAAAAAAAAAAAAAAAAAAAAAAAAAAAAAAAAAAAAAAAAAAAAAAAAAAAAAAAAAAAAAAAAAAAAAAAAAAAAAAAAAAAAAAAAAAAAAAAA",
            "dtype": "f8"
           },
           "z": {
            "bdata": "cXbLWZHBV7/p62yPClhwv/zWT+XpaH2/Z68VFb+7hb88bpilqYCMvwpRf2bnHpG/5u3YXD0Sk7/YUDRb5cOTvxLR9NlLEZO/8mmNCTsdkb8yF3K8gXyMv2Q/i4Jut4W/PBedwBxhfb+mz2uSL1JwvykYqkdCtle/",
            "dtype": "f8"
           }
          },
          {
           "name": "Fixed Nodes",
           "type": "scatter3d",
           "x": {
            "bdata": "/H5qvHSTiD+exCCwcmiRP71JDAIrh5Y/CtejcD0Ktz9SuB6F61G4P5qZmZmZmbk/",
            "dtype": "f8"
           },
           "y": {
            "bdata": "AAAAAAAAAAAAAAAAAAAAgAAAAAAAAACAAAAAAAAAAAAAAAAAAAAAAAAAAAAAAAAA",
            "dtype": "f8"
           },
           "z": {
            "bdata": "AAAAAAAAAAAAAAAAAAAAgAAAAAAAAACAAAAAAAAAAAAAAAAAAAAAAAAAAAAAAAAA",
            "dtype": "f8"
           }
          },
          {
           "name": "Edges",
           "type": "scatter3d",
           "x": [
            0.012000000000000004,
            0.017000000000000008,
            null,
            0.017000000000000008,
            0.02200000000000001,
            null,
            0.02200000000000001,
            0.026779020352923046,
            null,
            0.026779020352923046,
            0.031079818887697685,
            null,
            0.031079818887697685,
            0.03492430547262257,
            null,
            0.03492430547262257,
            0.03855471252621195,
            null,
            0.03855471252621195,
            0.042300390351750775,
            null,
            0.042300390351750775,
            0.046435170533081944,
            null,
            0.046435170533081944,
            0.05105174785727941,
            null,
            0.05105174785727941,
            0.05599914871215779,
            null,
            0.05599914871215779,
            0.060946053028324315,
            null,
            0.060946053028324315,
            0.06556147407487559,
            null,
            0.06556147407487559,
            0.06969519950678646,
            null,
            0.06969519950678646,
            0.07344060574552838,
            null,
            0.07344060574552838,
            0.07707175583930664,
            null,
            0.07707175583930664,
            0.08091775039190298,
            null,
            0.08091775039190298,
            0.08522018303303804,
            null,
            0.08522018303303804,
            0.09,
            null,
            0.09,
            0.095,
            null,
            0.095,
            0.1,
            null
           ],
           "y": [
            0,
            0,
            null,
            0,
            0,
            null,
            0,
            0,
            null,
            0,
            0,
            null,
            0,
            0,
            null,
            0,
            0,
            null,
            0,
            0,
            null,
            0,
            0,
            null,
            0,
            0,
            null,
            0,
            0,
            null,
            0,
            0,
            null,
            0,
            0,
            null,
            0,
            0,
            null,
            0,
            0,
            null,
            0,
            0,
            null,
            0,
            0,
            null,
            0,
            0,
            null,
            0,
            0,
            null,
            0,
            0,
            null,
            0,
            0,
            null
           ],
           "z": [
            0,
            0,
            null,
            0,
            0,
            null,
            0,
            -0.001449958747961413,
            null,
            -0.001449958747961413,
            -0.003990212679862084,
            null,
            -0.003990212679862084,
            -0.007180131583472745,
            null,
            -0.007180131583472745,
            -0.010612004118875707,
            null,
            -0.010612004118875707,
            -0.013917279592582259,
            null,
            -0.013917279592582259,
            -0.016719451552334376,
            null,
            -0.016719451552334376,
            -0.01862426642604289,
            null,
            -0.01862426642604289,
            -0.019301971141502644,
            null,
            -0.019301971141502644,
            -0.01862066762733245,
            null,
            -0.01862066762733245,
            -0.016713068445236297,
            null,
            -0.016713068445236297,
            -0.01390935283985648,
            null,
            -0.01390935283985648,
            -0.01060377441299893,
            null,
            -0.01060377441299893,
            -0.007172691644717063,
            null,
            -0.007172691644717063,
            -0.003984628513297317,
            null,
            -0.003984628513297317,
            -0.0014472625031500908,
            null,
            -0.0014472625031500908,
            0,
            null,
            0,
            0,
            null,
            0,
            0,
            null
           ]
          },
          {
           "i": [],
           "j": [],
           "k": [],
           "name": "Faces",
           "type": "mesh3d",
           "x": {
            "bdata": "/H5qvHSTiD+exCCwcmiRP71JDAIrh5Y/yvSJovVrmz9zyMBWY9OfP4xMrjuZ4aE/F0PQenG9oz9qbVaSZailPynFpcVZxqc/ArzmZnQjqj9aJqWg66usP/xjJzFSNK8/4nUHA6PIsD8+4ZFqi9exPxIf4OcAzbI/NG7Gfvm6sz+RX5mTBre0PzkGFmv90LU/CtejcD0Ktz9SuB6F61G4P5qZmZmZmbk/",
            "dtype": "f8"
           },
           "y": {
            "bdata": "AAAAAAAAAAAAAAAAAAAAgAAAAAAAAACAAAAAAAAAAAAAAAAAAAAAAAAAAAAAAAAAAAAAAAAAAAAAAAAAAAAAAAAAAAAAAAAAAAAAAAAAAAAAAAAAAAAAAAAAAAAAAAAAAAAAAAAAAAAAAAAAAAAAAAAAAAAAAAAAAAAAAAAAAAAAAAAAAAAAAAAAAAAAAAAAAAAAAAAAAAAAAAAAAAAAAAAAAAAAAAAA",
            "dtype": "f8"
           },
           "z": {
            "bdata": "AAAAAAAAAAAAAAAAAAAAgAAAAAAAAACAcXbLWZHBV7/p62yPClhwv/zWT+XpaH2/Z68VFb+7hb88bpilqYCMvwpRf2bnHpG/5u3YXD0Sk7/YUDRb5cOTvxLR9NlLEZO/8mmNCTsdkb8yF3K8gXyMv2Q/i4Jut4W/PBedwBxhfb+mz2uSL1JwvykYqkdCtle/AAAAAAAAAAAAAAAAAAAAAAAAAAAAAAAA",
            "dtype": "f8"
           }
          }
         ],
         "layout": {
          "annotations": [
           {
            "showarrow": false,
            "text": "Time: 0.12s (Step: 13/100)",
            "x": 0.05,
            "xref": "paper",
            "y": 0.95,
            "yref": "paper"
           }
          ]
         },
         "name": "12"
        },
        {
         "data": [
          {
           "name": "Free Nodes",
           "type": "scatter3d",
           "x": {
            "bdata": "g7ZrVIZtnD/2hmOcC2OgP2PQw1GWTqI/3Z7dSp8bpD/0Ds/VuPilP9GcO3PZDKg/Chl5zIJlqj+6HHttau2sP2sZyPo7da8/1OzPHtnmsD8labt80vCxP0h4f+NZ37I/+yDYV+/Fsz/EqCA+1ru0P52iGmse0rU/",
            "dtype": "f8"
           },
           "y": {
            "bdata": "AAAAAAAAAAAAAAAAAAAAAAAAAAAAAAAAAAAAAAAAAAAAAAAAAAAAAAAAAAAAAAAAAAAAAAAAAAAAAAAAAAAAAAAAAAAAAAAAAAAAAAAAAAAAAAAAAAAAAAAAAAAAAAAAAAAAAAAAAAAAAAAAAAAAAAAAAAAAAAAA",
            "dtype": "f8"
           },
           "z": {
            "bdata": "joZKkwKtWL9EuJE1F/Vwv1ScTEDJeX6/OfhY9OiAhr/KvfZ0uIKNv9Z2i14ivJG/C8Gxi3LEk79rcNtu632Uv5CgkYFAw5O/LPyg+AW6kb9r6QyWgX2Nv02RqxeFe4a/39Ae+w9wfr/6MLPHy+1wv9g2jV3nnli/",
            "dtype": "f8"
           }
          },
          {
           "name": "Fixed Nodes",
           "type": "scatter3d",
           "x": {
            "bdata": "PLTIdr6fij8+30+Nl26SP11kO99PjZc/CtejcD0Ktz9SuB6F61G4P5qZmZmZmbk/",
            "dtype": "f8"
           },
           "y": {
            "bdata": "AAAAAAAAAAAAAAAAAAAAgAAAAAAAAACAAAAAAAAAAAAAAAAAAAAAAAAAAAAAAAAA",
            "dtype": "f8"
           },
           "z": {
            "bdata": "AAAAAAAAAAAAAAAAAAAAgAAAAAAAAACAAAAAAAAAAAAAAAAAAAAAAAAAAAAAAAAA",
            "dtype": "f8"
           }
          },
          {
           "name": "Edges",
           "type": "scatter3d",
           "x": [
            0.013000000000000005,
            0.01800000000000001,
            null,
            0.01800000000000001,
            0.02300000000000001,
            null,
            0.02300000000000001,
            0.027761553671487704,
            null,
            0.027761553671487704,
            0.032005656090189946,
            null,
            0.032005656090189946,
            0.035755822640482625,
            null,
            0.035755822640482625,
            0.03927324093711857,
            null,
            0.03927324093711857,
            0.04291322336169215,
            null,
            0.04291322336169215,
            0.046973033253203796,
            null,
            0.046973033253203796,
            0.05155571695336121,
            null,
            0.05155571695336121,
            0.05649883829533438,
            null,
            0.05649883829533438,
            0.0614413016920022,
            null,
            0.0614413016920022,
            0.06602246286631736,
            null,
            0.06602246286631736,
            0.0700809053918517,
            null,
            0.0700809053918517,
            0.07372056774281177,
            null,
            0.07372056774281177,
            0.07723899740824784,
            null,
            0.07723899740824784,
            0.08099116341387275,
            null,
            0.08099116341387275,
            0.08523740877957171,
            null,
            0.08523740877957171,
            0.09,
            null,
            0.09,
            0.095,
            null,
            0.095,
            0.1,
            null
           ],
           "y": [
            0,
            0,
            null,
            0,
            0,
            null,
            0,
            0,
            null,
            0,
            0,
            null,
            0,
            0,
            null,
            0,
            0,
            null,
            0,
            0,
            null,
            0,
            0,
            null,
            0,
            0,
            null,
            0,
            0,
            null,
            0,
            0,
            null,
            0,
            0,
            null,
            0,
            0,
            null,
            0,
            0,
            null,
            0,
            0,
            null,
            0,
            0,
            null,
            0,
            0,
            null,
            0,
            0,
            null,
            0,
            0,
            null,
            0,
            0,
            null
           ],
           "z": [
            0,
            0,
            null,
            0,
            0,
            null,
            0,
            -0.0015060925626716767,
            null,
            -0.0015060925626716767,
            -0.004139986668731114,
            null,
            -0.004139986668731114,
            -0.007440363061312533,
            null,
            -0.007440363061312533,
            -0.010988063771147792,
            null,
            -0.010988063771147792,
            -0.014409485883191037,
            null,
            -0.014409485883191037,
            -0.017319237728648705,
            null,
            -0.017319237728648705,
            -0.019304075027720063,
            null,
            -0.019304075027720063,
            -0.020011595383821062,
            null,
            -0.020011595383821062,
            -0.01929951468301333,
            null,
            -0.01929951468301333,
            -0.017311185169315887,
            null,
            -0.017311185169315887,
            -0.014399540321041035,
            null,
            -0.014399540321041035,
            -0.010977782997948405,
            null,
            -0.010977782997948405,
            -0.0074310898070743805,
            null,
            -0.0074310898070743805,
            -0.004133029952935846,
            null,
            -0.004133029952935846,
            -0.001502729361351587,
            null,
            -0.001502729361351587,
            0,
            null,
            0,
            0,
            null,
            0,
            0,
            null
           ]
          },
          {
           "i": [],
           "j": [],
           "k": [],
           "name": "Faces",
           "type": "mesh3d",
           "x": {
            "bdata": "PLTIdr6fij8+30+Nl26SP11kO99PjZc/g7ZrVIZtnD/2hmOcC2OgP2PQw1GWTqI/3Z7dSp8bpD/0Ds/VuPilP9GcO3PZDKg/Chl5zIJlqj+6HHttau2sP2sZyPo7da8/1OzPHtnmsD8labt80vCxP0h4f+NZ37I/+yDYV+/Fsz/EqCA+1ru0P52iGmse0rU/CtejcD0Ktz9SuB6F61G4P5qZmZmZmbk/",
            "dtype": "f8"
           },
           "y": {
            "bdata": "AAAAAAAAAAAAAAAAAAAAgAAAAAAAAACAAAAAAAAAAAAAAAAAAAAAAAAAAAAAAAAAAAAAAAAAAAAAAAAAAAAAAAAAAAAAAAAAAAAAAAAAAAAAAAAAAAAAAAAAAAAAAAAAAAAAAAAAAAAAAAAAAAAAAAAAAAAAAAAAAAAAAAAAAAAAAAAAAAAAAAAAAAAAAAAAAAAAAAAAAAAAAAAAAAAAAAAAAAAAAAAA",
            "dtype": "f8"
           },
           "z": {
            "bdata": "AAAAAAAAAAAAAAAAAAAAgAAAAAAAAACAjoZKkwKtWL9EuJE1F/Vwv1ScTEDJeX6/OfhY9OiAhr/KvfZ0uIKNv9Z2i14ivJG/C8Gxi3LEk79rcNtu632Uv5CgkYFAw5O/LPyg+AW6kb9r6QyWgX2Nv02RqxeFe4a/39Ae+w9wfr/6MLPHy+1wv9g2jV3nnli/AAAAAAAAAAAAAAAAAAAAAAAAAAAAAAAA",
            "dtype": "f8"
           }
          }
         ],
         "layout": {
          "annotations": [
           {
            "showarrow": false,
            "text": "Time: 0.13s (Step: 14/100)",
            "x": 0.05,
            "xref": "paper",
            "y": 0.95,
            "yref": "paper"
           }
          ]
         },
         "name": "13"
        },
        {
         "data": [
          {
           "name": "Free Nodes",
           "type": "scatter3d",
           "x": {
            "bdata": "uUIRCP9tnD98Jn844GSgP1iuoHugU6I/lizvAQUkpD9Piu4/ygKmP8I/qP87Fqg/5SHwt/5sqj91WqTq4fOsP5nPvKfHfK8/AsqFMtTrsD8vGD3atfaxP3Bk2oYU5bI/WxRH81HKsz9PTa7BOr60P8u13pXN0rU/",
            "dtype": "f8"
           },
           "y": {
            "bdata": "2TDgT43Qwz5bfDXgXbbXPmUoogrUFuI+9+O8HnrM5T5OVRLEqN/lPiZEymik5eE+7/GGb6WO1D5aCP4KS9WJPvjMeRFnLNO+J68PF3594b4X/SRhWcnlvuXwmU5Z8uW+Fh/UKLhU4r4lolVFrRzYvu5FzBahJ8S+",
            "dtype": "f8"
           },
           "z": {
            "bdata": "EDDu3p2lWL/6F6s3luBwv8twfxtRSX6/jGeuuNlbhr8x47l9D1eNv12FMJl6qJG/kJaJgc65k7+tt5RInoGUvwjW4/gS1pO/uckHxP3Xkb/NJ7CFccONv0kRCLzxv4a/SU/lVVrjfr9127hcwTxxv+2G1sdaKlm/",
            "dtype": "f8"
           }
          },
          {
           "name": "Fixed Nodes",
           "type": "scatter3d",
           "x": {
            "bdata": "PLTIdr6fij8+30+Nl26SP11kO99PjZc/CtejcD0Ktz9SuB6F61G4P5qZmZmZmbk/",
            "dtype": "f8"
           },
           "y": {
            "bdata": "AAAAAAAAAAAAAAAAAAAAgAAAAAAAAACAAAAAAAAAAAAAAAAAAAAAAAAAAAAAAAAA",
            "dtype": "f8"
           },
           "z": {
            "bdata": "AAAAAAAAAAAAAAAAAAAAgAAAAAAAAACAAAAAAAAAAAAAAAAAAAAAAAAAAAAAAAAA",
            "dtype": "f8"
           }
          },
          {
           "name": "Edges",
           "type": "scatter3d",
           "x": [
            0.013000000000000005,
            0.01800000000000001,
            null,
            0.01800000000000001,
            0.02300000000000001,
            null,
            0.02300000000000001,
            0.027763352267643458,
            null,
            0.027763352267643458,
            0.03201962175041914,
            null,
            0.03201962175041914,
            0.03579427250982964,
            null,
            0.03579427250982964,
            0.03933730743991608,
            null,
            0.03933730743991608,
            0.042990036300825644,
            null,
            0.042990036300825644,
            0.04704463477912625,
            null,
            0.04704463477912625,
            0.05161281581246494,
            null,
            0.05161281581246494,
            0.05654817570955554,
            null,
            0.05654817570955554,
            0.061498870111250166,
            null,
            0.061498870111250166,
            0.06609846337759254,
            null,
            0.06609846337759254,
            0.07017075136272476,
            null,
            0.07017075136272476,
            0.07380798618614093,
            null,
            0.07380798618614093,
            0.07730591000934466,
            null,
            0.07730591000934466,
            0.08102767208611293,
            null,
            0.08102767208611293,
            0.08524784954962354,
            null,
            0.08524784954962354,
            0.09,
            null,
            0.09,
            0.095,
            null,
            0.095,
            0.1,
            null
           ],
           "y": [
            0,
            0,
            null,
            0,
            0,
            null,
            0,
            0.0000023620910942820597,
            null,
            0.0000023620910942820597,
            0.000005653469546145527,
            null,
            0.000005653469546145527,
            0.000008625589846173764,
            null,
            0.000008625589846173764,
            0.00001039444847316001,
            null,
            0.00001039444847316001,
            0.000010430178124113756,
            null,
            0.000010430178124113756,
            0.00000853397366398958,
            null,
            0.00000853397366398958,
            0.000004901221239025647,
            null,
            0.000004901221239025647,
            1.9247216220477756e-7,
            null,
            1.9247216220477756e-7,
            -0.000004571306156375724,
            null,
            -0.000004571306156375724,
            -0.000008339979759206993,
            null,
            -0.000008339979759206993,
            -0.000010388622318501088,
            null,
            -0.000010388622318501088,
            -0.000010464990242591398,
            null,
            -0.000010464990242591398,
            -0.000008740870976811247,
            null,
            -0.000008740870976811247,
            -0.000005748753286162943,
            null,
            -0.000005748753286162943,
            -0.000002402639600503719,
            null,
            -0.000002402639600503719,
            0,
            null,
            0,
            0,
            null,
            0,
            0,
            null
           ],
           "z": [
            0,
            0,
            null,
            0,
            0,
            null,
            0,
            -0.001504329844212119,
            null,
            -0.001504329844212119,
            -0.004120432650500655,
            null,
            -0.004120432650500655,
            -0.007394139123757702,
            null,
            -0.007394139123757702,
            -0.010917378376507768,
            null,
            -0.010917378376507768,
            -0.014326210998875407,
            null,
            -0.014326210998875407,
            -0.017244258499095156,
            null,
            -0.017244258499095156,
            -0.019263483673418735,
            null,
            -0.019263483673418735,
            -0.02002570455550028,
            null,
            -0.02002570455550028,
            -0.019371315423049068,
            null,
            -0.019371315423049068,
            -0.01742550381636374,
            null,
            -0.01742550381636374,
            -0.0145329350398419,
            null,
            -0.0145329350398419,
            -0.011108292151228343,
            null,
            -0.011108292151228343,
            -0.0075410393458986225,
            null,
            -0.0075410393458986225,
            -0.0042083314142960975,
            null,
            -0.0042083314142960975,
            -0.0015359770326103764,
            null,
            -0.0015359770326103764,
            0,
            null,
            0,
            0,
            null,
            0,
            0,
            null
           ]
          },
          {
           "i": [],
           "j": [],
           "k": [],
           "name": "Faces",
           "type": "mesh3d",
           "x": {
            "bdata": "PLTIdr6fij8+30+Nl26SP11kO99PjZc/uUIRCP9tnD98Jn844GSgP1iuoHugU6I/lizvAQUkpD9Piu4/ygKmP8I/qP87Fqg/5SHwt/5sqj91WqTq4fOsP5nPvKfHfK8/AsqFMtTrsD8vGD3atfaxP3Bk2oYU5bI/WxRH81HKsz9PTa7BOr60P8u13pXN0rU/CtejcD0Ktz9SuB6F61G4P5qZmZmZmbk/",
            "dtype": "f8"
           },
           "y": {
            "bdata": "AAAAAAAAAAAAAAAAAAAAgAAAAAAAAACA2TDgT43Qwz5bfDXgXbbXPmUoogrUFuI+9+O8HnrM5T5OVRLEqN/lPiZEymik5eE+7/GGb6WO1D5aCP4KS9WJPvjMeRFnLNO+J68PF3594b4X/SRhWcnlvuXwmU5Z8uW+Fh/UKLhU4r4lolVFrRzYvu5FzBahJ8S+AAAAAAAAAAAAAAAAAAAAAAAAAAAAAAAA",
            "dtype": "f8"
           },
           "z": {
            "bdata": "AAAAAAAAAAAAAAAAAAAAgAAAAAAAAACAEDDu3p2lWL/6F6s3luBwv8twfxtRSX6/jGeuuNlbhr8x47l9D1eNv12FMJl6qJG/kJaJgc65k7+tt5RInoGUvwjW4/gS1pO/uckHxP3Xkb/NJ7CFccONv0kRCLzxv4a/SU/lVVrjfr9127hcwTxxv+2G1sdaKlm/AAAAAAAAAAAAAAAAAAAAAAAAAAAAAAAA",
            "dtype": "f8"
           }
          }
         ],
         "layout": {
          "annotations": [
           {
            "showarrow": false,
            "text": "Time: 0.14s (Step: 15/100)",
            "x": 0.05,
            "xref": "paper",
            "y": 0.95,
            "yref": "paper"
           }
          ]
         },
         "name": "14"
        },
        {
         "data": [
          {
           "name": "Free Nodes",
           "type": "scatter3d",
           "x": {
            "bdata": "BUpKEeRunD82ptbemGWgP9JQR2qUU6I/XpvIcIoipD+jNcERKwCmP0/2T69RE6g/IxDtI2Zqqj+0zMfKg/GsP0CimCAZeq8//tW3AyXqsD/RwBbpwfSxP3B0Sacm47I/KMAb1MbIsz+WA3+FVL20PxkovpCG0rU/",
            "dtype": "f8"
           },
           "y": {
            "bdata": "AnrvM7v02z7a4SkwzPbwPhQoHDgLKvo+5QcuQwrI/z69TMtmDggAP7FkLhKmUfo+gdnGATVM7j6GjXscBKakPulPpWTU8+u+oELfpthx+b5qw36KGYz/vv+pM8MilP++owTCsYor+r58tHMktA3xvmilAOTyNty+",
            "dtype": "f8"
           },
           "z": {
            "bdata": "ueProe1nWL9hvkoifstwv80D9SrZOX6/aoJXokhZhr/EI7vO31iNvwRDRNHyqZG/pkokA4a5k7/iD0wnsH2Uv9ZfDooOzpO/bcz5QunMkb/juhfWeaqNvxNMz6Vbp4a/OEVlHZq4fr/NEXlJ8h1xv+N1kS0u8Fi/",
            "dtype": "f8"
           }
          },
          {
           "name": "Fixed Nodes",
           "type": "scatter3d",
           "x": {
            "bdata": "PLTIdr6fij8+30+Nl26SP11kO99PjZc/CtejcD0Ktz9SuB6F61G4P5qZmZmZmbk/",
            "dtype": "f8"
           },
           "y": {
            "bdata": "AAAAAAAAAAAAAAAAAAAAgAAAAAAAAACAAAAAAAAAAAAAAAAAAAAAAAAAAAAAAAAA",
            "dtype": "f8"
           },
           "z": {
            "bdata": "AAAAAAAAAAAAAAAAAAAAgAAAAAAAAACAAAAAAAAAAAAAAAAAAAAAAAAAAAAAAAAA",
            "dtype": "f8"
           }
          },
          {
           "name": "Edges",
           "type": "scatter3d",
           "x": [
            0.013000000000000005,
            0.01800000000000001,
            null,
            0.01800000000000001,
            0.02300000000000001,
            null,
            0.02300000000000001,
            0.027766765170392577,
            null,
            0.027766765170392577,
            0.03202512474247181,
            null,
            0.03202512474247181,
            0.03579391286226187,
            null,
            0.03579391286226187,
            0.039326025264293504,
            null,
            0.039326025264293504,
            0.04297003356678466,
            null,
            0.04297003356678466,
            0.047022392893251046,
            null,
            0.047022392893251046,
            0.051593009839536096,
            null,
            0.051593009839536096,
            0.056530111793017396,
            null,
            0.056530111793017396,
            0.0614784099855723,
            null,
            0.0614784099855723,
            0.0660727628781714,
            null,
            0.0660727628781714,
            0.07014095249792553,
            null,
            0.07014095249792553,
            0.07377854904321324,
            null,
            0.07377854904321324,
            0.07728235891750102,
            null,
            0.07728235891750102,
            0.0810139490049678,
            null,
            0.0810139490049678,
            0.08524361642608404,
            null,
            0.08524361642608404,
            0.09,
            null,
            0.09,
            0.095,
            null,
            0.095,
            0.1,
            null
           ],
           "y": [
            0,
            0,
            null,
            0,
            0,
            null,
            0,
            0.000006665225384032502,
            null,
            0.000006665225384032502,
            0.000016178181804412047,
            null,
            0.000016178181804412047,
            0.00002495215767964888,
            null,
            0.00002495215767964888,
            0.00003030911120616838,
            null,
            0.00003030911120616838,
            0.00003057760190974246,
            null,
            0.00003057760190974246,
            0.00002509969739214875,
            null,
            0.00002509969739214875,
            0.000014447061453687307,
            null,
            0.000014447061453687307,
            6.153732607618924e-7,
            null,
            6.153732607618924e-7,
            -0.000013328771406285983,
            null,
            -0.000013328771406285983,
            -0.00002426596841315304,
            null,
            -0.00002426596841315304,
            -0.000030085816120798045,
            null,
            -0.000030085816120798045,
            -0.00003011575263382228,
            null,
            -0.00003011575263382228,
            -0.00002495773797806369,
            null,
            -0.00002495773797806369,
            -0.000016263513569582115,
            null,
            -0.000016263513569582115,
            -0.000006726895264855044,
            null,
            -0.000006726895264855044,
            0,
            null,
            0,
            0,
            null,
            0,
            0,
            null
           ],
           "z": [
            0,
            0,
            null,
            0,
            0,
            null,
            0,
            -0.0014896221761644248,
            null,
            -0.0014896221761644248,
            -0.004100315771821878,
            null,
            -0.004100315771821878,
            -0.007379387199137844,
            null,
            -0.007379387199137844,
            -0.010912482694892495,
            null,
            -0.010912482694892495,
            -0.01432967042582501,
            null,
            -0.01432967042582501,
            -0.0172498645998216,
            null,
            -0.0172498645998216,
            -0.019262403432615337,
            null,
            -0.019262403432615337,
            -0.020010712049966524,
            null,
            -0.020010712049966524,
            -0.01934073178890102,
            null,
            -0.01934073178890102,
            -0.0173832366112489,
            null,
            -0.0173832366112489,
            -0.014485313268747862,
            null,
            -0.014485313268747862,
            -0.011061397550212992,
            null,
            -0.011061397550212992,
            -0.00750026894668681,
            null,
            -0.00750026894668681,
            -0.004178949769599827,
            null,
            -0.004178949769599827,
            -0.0015221072155989716,
            null,
            -0.0015221072155989716,
            0,
            null,
            0,
            0,
            null,
            0,
            0,
            null
           ]
          },
          {
           "i": [],
           "j": [],
           "k": [],
           "name": "Faces",
           "type": "mesh3d",
           "x": {
            "bdata": "PLTIdr6fij8+30+Nl26SP11kO99PjZc/BUpKEeRunD82ptbemGWgP9JQR2qUU6I/XpvIcIoipD+jNcERKwCmP0/2T69RE6g/IxDtI2Zqqj+0zMfKg/GsP0CimCAZeq8//tW3AyXqsD/RwBbpwfSxP3B0Sacm47I/KMAb1MbIsz+WA3+FVL20PxkovpCG0rU/CtejcD0Ktz9SuB6F61G4P5qZmZmZmbk/",
            "dtype": "f8"
           },
           "y": {
            "bdata": "AAAAAAAAAAAAAAAAAAAAgAAAAAAAAACAAnrvM7v02z7a4SkwzPbwPhQoHDgLKvo+5QcuQwrI/z69TMtmDggAP7FkLhKmUfo+gdnGATVM7j6GjXscBKakPulPpWTU8+u+oELfpthx+b5qw36KGYz/vv+pM8MilP++owTCsYor+r58tHMktA3xvmilAOTyNty+AAAAAAAAAAAAAAAAAAAAAAAAAAAAAAAA",
            "dtype": "f8"
           },
           "z": {
            "bdata": "AAAAAAAAAAAAAAAAAAAAgAAAAAAAAACAueProe1nWL9hvkoifstwv80D9SrZOX6/aoJXokhZhr/EI7vO31iNvwRDRNHyqZG/pkokA4a5k7/iD0wnsH2Uv9ZfDooOzpO/bcz5QunMkb/juhfWeaqNvxNMz6Vbp4a/OEVlHZq4fr/NEXlJ8h1xv+N1kS0u8Fi/AAAAAAAAAAAAAAAAAAAAAAAAAAAAAAAA",
            "dtype": "f8"
           }
          }
         ],
         "layout": {
          "annotations": [
           {
            "showarrow": false,
            "text": "Time: 0.15s (Step: 16/100)",
            "x": 0.05,
            "xref": "paper",
            "y": 0.95,
            "yref": "paper"
           }
          ]
         },
         "name": "15"
        },
        {
         "data": [
          {
           "name": "Free Nodes",
           "type": "scatter3d",
           "x": {
            "bdata": "HAkvfVRunD/8JGEcWGSgP/ZPDUvGUKI/tfpAA0AepD/yGo0TMfulP3ZZb3a8Dqg/k7XBnspmqj9k0IdIcu6sP+92NuVydq8/ZpObDqHnsD9EnyklrfGxPzBLPhYX4LI/+PaTBmvGsz/PLF4SDby0P+AZ8msq0rU/",
            "dtype": "f8"
           },
           "y": {
            "bdata": "xqfMn8iN6D6BpYk4POX9PlUcDOs8HQc//utdWu8gDD+6jVN+VWcMPxA6X7ILTgc/Q6l+RkK++j7nY741Y9GvPj6ng3pV2/i+YnWmvId/Br/MfokFzMcLv709YYGZsgu//khKs0HbBr/QB9mnpqb9vrTcpFSqaOi+",
            "dtype": "f8"
           },
           "z": {
            "bdata": "oa6rYfuCWL/GeK1Ort5wvwj2LngaW36/0BQI9sVvhr/AdZkAOXKNv8gj6TF8tZG/lf+vIIjAk7/1UeBzPn2Uv9pviDlhxZO/R6614tG9kb/f3CfD+IWNv2Wm5OgKg4a/Gd3IfiF7fr91etzvFvRwv3xMz1l0p1i/",
            "dtype": "f8"
           }
          },
          {
           "name": "Fixed Nodes",
           "type": "scatter3d",
           "x": {
            "bdata": "PLTIdr6fij8+30+Nl26SP11kO99PjZc/CtejcD0Ktz9SuB6F61G4P5qZmZmZmbk/",
            "dtype": "f8"
           },
           "y": {
            "bdata": "AAAAAAAAAAAAAAAAAAAAgAAAAAAAAACAAAAAAAAAAAAAAAAAAAAAAAAAAAAAAAAA",
            "dtype": "f8"
           },
           "z": {
            "bdata": "AAAAAAAAAAAAAAAAAAAAgAAAAAAAAACAAAAAAAAAAAAAAAAAAAAAAAAAAAAAAAAA",
            "dtype": "f8"
           }
          },
          {
           "name": "Edges",
           "type": "scatter3d",
           "x": [
            0.013000000000000005,
            0.01800000000000001,
            null,
            0.01800000000000001,
            0.02300000000000001,
            null,
            0.02300000000000001,
            0.0277646256834113,
            null,
            0.0277646256834113,
            0.03201556536130032,
            null,
            0.03201556536130032,
            0.035772511159535655,
            null,
            0.035772511159535655,
            0.039293289563365454,
            null,
            0.039293289563365454,
            0.0429320656171991,
            null,
            0.0429320656171991,
            0.04698742814769023,
            null,
            0.04698742814769023,
            0.05156548679301944,
            null,
            0.05156548679301944,
            0.05650670180685394,
            null,
            0.05650670180685394,
            0.06145056770331602,
            null,
            0.06145056770331602,
            0.06603438002237069,
            null,
            0.06603438002237069,
            0.07009393842019757,
            null,
            0.07009393842019757,
            0.07373184483575979,
            null,
            0.07373184483575979,
            0.07724636946292296,
            null,
            0.07724636946292296,
            0.08099443148073536,
            null,
            0.08099443148073536,
            0.08523812423127408,
            null,
            0.08523812423127408,
            0.09,
            null,
            0.09,
            0.095,
            null,
            0.095,
            0.1,
            null
           ],
           "y": [
            0,
            0,
            null,
            0,
            0,
            null,
            0,
            0.000011708184496212511,
            null,
            0.000011708184496212511,
            0.00002851052298283785,
            null,
            0.00002851052298283785,
            0.00004408685834361078,
            null,
            0.00004408685834361078,
            0.000053651146386855795,
            null,
            0.000053651146386855795,
            0.00005417565970746879,
            null,
            0.00005417565970746879,
            0.000044450504261928894,
            null,
            0.000044450504261928894,
            0.000025504301816839087,
            null,
            0.000025504301816839087,
            9.48247911736132e-7,
            null,
            9.48247911736132e-7,
            -0.000023705266046037574,
            null,
            -0.000023705266046037574,
            -0.00004291184412184391,
            null,
            -0.00004291184412184391,
            -0.00005298701643563288,
            null,
            -0.00005298701643563288,
            -0.00005282908402703564,
            null,
            -0.00005282908402703564,
            -0.00004359525920451418,
            null,
            -0.00004359525920451418,
            -0.000028277378524295242,
            null,
            -0.000028277378524295242,
            -0.000011639046210916395,
            null,
            -0.000011639046210916395,
            0,
            null,
            0,
            0,
            null,
            0,
            0,
            null
           ],
           "z": [
            0,
            0,
            null,
            0,
            0,
            null,
            0,
            -0.001496072282573126,
            null,
            -0.001496072282573126,
            -0.004118615043664236,
            null,
            -0.004118615043664236,
            -0.007411101719239983,
            null,
            -0.007411101719239983,
            -0.010955378123080811,
            null,
            -0.010955378123080811,
            -0.014378018694681027,
            null,
            -0.014378018694681027,
            -0.017293873354251393,
            null,
            -0.017293873354251393,
            -0.019289137835584908,
            null,
            -0.019289137835584908,
            -0.020009017775082644,
            null,
            -0.020009017775082644,
            -0.019307631622822764,
            null,
            -0.019307631622822764,
            -0.01732566782213343,
            null,
            -0.01732566782213343,
            -0.014415687041930912,
            null,
            -0.014415687041930912,
            -0.010992131454787566,
            null,
            -0.010992131454787566,
            -0.007441645470456914,
            null,
            -0.007441645470456914,
            -0.004139031980030174,
            null,
            -0.004139031980030174,
            -0.0015047680128546228,
            null,
            -0.0015047680128546228,
            0,
            null,
            0,
            0,
            null,
            0,
            0,
            null
           ]
          },
          {
           "i": [],
           "j": [],
           "k": [],
           "name": "Faces",
           "type": "mesh3d",
           "x": {
            "bdata": "PLTIdr6fij8+30+Nl26SP11kO99PjZc/HAkvfVRunD/8JGEcWGSgP/ZPDUvGUKI/tfpAA0AepD/yGo0TMfulP3ZZb3a8Dqg/k7XBnspmqj9k0IdIcu6sP+92NuVydq8/ZpObDqHnsD9EnyklrfGxPzBLPhYX4LI/+PaTBmvGsz/PLF4SDby0P+AZ8msq0rU/CtejcD0Ktz9SuB6F61G4P5qZmZmZmbk/",
            "dtype": "f8"
           },
           "y": {
            "bdata": "AAAAAAAAAAAAAAAAAAAAgAAAAAAAAACAxqfMn8iN6D6BpYk4POX9PlUcDOs8HQc//utdWu8gDD+6jVN+VWcMPxA6X7ILTgc/Q6l+RkK++j7nY741Y9GvPj6ng3pV2/i+YnWmvId/Br/MfokFzMcLv709YYGZsgu//khKs0HbBr/QB9mnpqb9vrTcpFSqaOi+AAAAAAAAAAAAAAAAAAAAAAAAAAAAAAAA",
            "dtype": "f8"
           },
           "z": {
            "bdata": "AAAAAAAAAAAAAAAAAAAAgAAAAAAAAACAoa6rYfuCWL/GeK1Ort5wvwj2LngaW36/0BQI9sVvhr/AdZkAOXKNv8gj6TF8tZG/lf+vIIjAk7/1UeBzPn2Uv9pviDlhxZO/R6614tG9kb/f3CfD+IWNv2Wm5OgKg4a/Gd3IfiF7fr91etzvFvRwv3xMz1l0p1i/AAAAAAAAAAAAAAAAAAAAAAAAAAAAAAAA",
            "dtype": "f8"
           }
          }
         ],
         "layout": {
          "annotations": [
           {
            "showarrow": false,
            "text": "Time: 0.16s (Step: 17/100)",
            "x": 0.05,
            "xref": "paper",
            "y": 0.95,
            "yref": "paper"
           }
          ]
         },
         "name": "16"
        },
        {
         "data": [
          {
           "name": "Free Nodes",
           "type": "scatter3d",
           "x": {
            "bdata": "RDns7bJtnD8cdyCfMWOgPzFzeKSXTqI/YjauyVMbpD+2yX0gJfilP2fqnKkoDKg/3duWSOBkqj98LjbT1eysPxJQO32EdK8/fINPq1LmsD9ZF+xrIfCxPxembvCc3rI/hb9IXVPFsz9K+5jZe7u0P0QYNFcD0rU/",
            "dtype": "f8"
           },
           "y": {
            "bdata": "TKIu6O1H8T6n+z6PPQwFP/8DMG+/RhA/B2s7tU3OEz8b+mQwKP0TP/tpIU6CYBA/tdTEKNq2Aj9+iwbxyLyxPoZvARXJoQG/0/9GWWbAD78RzIlewI0Tv4ENpSZEdRO/9CYTrGUHEL9SEmNk+8EEvxZHmo4OD/G+",
            "dtype": "f8"
           },
           "z": {
            "bdata": "7fUBfsKiWL9Ac6zJYPFwv4VlBVktd36/QVt+Ar+Ahr8tPIM5uIONvy265Z7qvJG/YzB11eHEk78pr8NHQH2Uv0C3Z6cEwZO/V33WBFS2kb8ON6KRTnSNv6N1JXnzcYa/T2MTlw5ffr+5RqUenOFwv0nJ2vaNiFi/",
            "dtype": "f8"
           }
          },
          {
           "name": "Fixed Nodes",
           "type": "scatter3d",
           "x": {
            "bdata": "PLTIdr6fij8+30+Nl26SP11kO99PjZc/CtejcD0Ktz9SuB6F61G4P5qZmZmZmbk/",
            "dtype": "f8"
           },
           "y": {
            "bdata": "AAAAAAAAAAAAAAAAAAAAgAAAAAAAAACAAAAAAAAAAAAAAAAAAAAAAAAAAAAAAAAA",
            "dtype": "f8"
           },
           "z": {
            "bdata": "AAAAAAAAAAAAAAAAAAAAgAAAAAAAAACAAAAAAAAAAAAAAAAAAAAAAAAAAAAAAAAA",
            "dtype": "f8"
           }
          },
          {
           "name": "Edges",
           "type": "scatter3d",
           "x": [
            0.013000000000000005,
            0.01800000000000001,
            null,
            0.01800000000000001,
            0.02300000000000001,
            null,
            0.02300000000000001,
            0.027762218257572316,
            null,
            0.027762218257572316,
            0.032006788897190414,
            null,
            0.032006788897190414,
            0.035755862071005125,
            null,
            0.035755862071005125,
            0.03927099072380426,
            null,
            0.03927099072380426,
            0.04290882131217037,
            null,
            0.04290882131217037,
            0.046967764572816866,
            null,
            0.046967764572816866,
            0.051550873623845674,
            null,
            0.051550873623845674,
            0.056494409592315414,
            null,
            0.056494409592315414,
            0.06143583325106773,
            null,
            0.06143583325106773,
            0.06601444895160385,
            null,
            0.06601444895160385,
            0.07007035145588016,
            null,
            0.07007035145588016,
            0.07370930547644892,
            null,
            0.07370930547644892,
            0.07722970035024275,
            null,
            0.07722970035024275,
            0.0809857755893805,
            null,
            0.0809857755893805,
            0.08523579482070526,
            null,
            0.08523579482070526,
            0.09,
            null,
            0.09,
            0.095,
            null,
            0.095,
            0.1,
            null
           ],
           "y": [
            0,
            0,
            null,
            0,
            0,
            null,
            0,
            0.000016480420992034166,
            null,
            0.000016480420992034166,
            0.00004014551987507132,
            null,
            0.00004014551987507132,
            0.00006208938047792821,
            null,
            0.00006208938047792821,
            0.00007555341045010706,
            null,
            0.00007555341045010706,
            0.00007625158113897699,
            null,
            0.00007625158113897699,
            0.00006247325248535239,
            null,
            0.00006247325248535239,
            0.000035694630329188687,
            null,
            0.000035694630329188687,
            0.000001057233877423748,
            null,
            0.000001057233877423748,
            -0.000033630322491900183,
            null,
            -0.000033630322491900183,
            -0.00006056129783216205,
            null,
            -0.00006056129783216205,
            -0.00007459150914161684,
            null,
            -0.00007459150914161684,
            -0.00007422665081429325,
            null,
            -0.00007422665081429325,
            -0.0000611453824773919,
            null,
            -0.0000611453824773919,
            -0.000039592251185581324,
            null,
            -0.000039592251185581324,
            -0.00001626855456621838,
            null,
            -0.00001626855456621838,
            0,
            null,
            0,
            0,
            null,
            0,
            0,
            null
           ],
           "z": [
            0,
            0,
            null,
            0,
            0,
            null,
            0,
            -0.0015036486948071207,
            null,
            -0.0015036486948071207,
            -0.004136446072860178,
            null,
            -0.004136446072860178,
            -0.007437874927142989,
            null,
            -0.007437874927142989,
            -0.01098775125846674,
            null,
            -0.01098775125846674,
            -0.014411391501566307,
            null,
            -0.014411391501566307,
            -0.017322221706701214,
            null,
            -0.017322221706701214,
            -0.019305733350208586,
            null,
            -0.019305733350208586,
            -0.020009045009756896,
            null,
            -0.020009045009756896,
            -0.01929099342117202,
            null,
            -0.01929099342117202,
            -0.017297089381483968,
            null,
            -0.017297089381483968,
            -0.014381994075189943,
            null,
            -0.014381994075189943,
            -0.010959531912415004,
            null,
            -0.010959531912415004,
            -0.007414872162564048,
            null,
            -0.007414872162564048,
            -0.004121408312430291,
            null,
            -0.004121408312430291,
            -0.0014974008912927597,
            null,
            -0.0014974008912927597,
            0,
            null,
            0,
            0,
            null,
            0,
            0,
            null
           ]
          },
          {
           "i": [],
           "j": [],
           "k": [],
           "name": "Faces",
           "type": "mesh3d",
           "x": {
            "bdata": "PLTIdr6fij8+30+Nl26SP11kO99PjZc/RDns7bJtnD8cdyCfMWOgPzFzeKSXTqI/YjauyVMbpD+2yX0gJfilP2fqnKkoDKg/3duWSOBkqj98LjbT1eysPxJQO32EdK8/fINPq1LmsD9ZF+xrIfCxPxembvCc3rI/hb9IXVPFsz9K+5jZe7u0P0QYNFcD0rU/CtejcD0Ktz9SuB6F61G4P5qZmZmZmbk/",
            "dtype": "f8"
           },
           "y": {
            "bdata": "AAAAAAAAAAAAAAAAAAAAgAAAAAAAAACATKIu6O1H8T6n+z6PPQwFP/8DMG+/RhA/B2s7tU3OEz8b+mQwKP0TP/tpIU6CYBA/tdTEKNq2Aj9+iwbxyLyxPoZvARXJoQG/0/9GWWbAD78RzIlewI0Tv4ENpSZEdRO/9CYTrGUHEL9SEmNk+8EEvxZHmo4OD/G+AAAAAAAAAAAAAAAAAAAAAAAAAAAAAAAA",
            "dtype": "f8"
           },
           "z": {
            "bdata": "AAAAAAAAAAAAAAAAAAAAgAAAAAAAAACA7fUBfsKiWL9Ac6zJYPFwv4VlBVktd36/QVt+Ar+Ahr8tPIM5uIONvy265Z7qvJG/YzB11eHEk78pr8NHQH2Uv0C3Z6cEwZO/V33WBFS2kb8ON6KRTnSNv6N1JXnzcYa/T2MTlw5ffr+5RqUenOFwv0nJ2vaNiFi/AAAAAAAAAAAAAAAAAAAAAAAAAAAAAAAA",
            "dtype": "f8"
           }
          }
         ],
         "layout": {
          "annotations": [
           {
            "showarrow": false,
            "text": "Time: 0.17s (Step: 18/100)",
            "x": 0.05,
            "xref": "paper",
            "y": 0.95,
            "yref": "paper"
           }
          ]
         },
         "name": "17"
        },
        {
         "data": [
          {
           "name": "Free Nodes",
           "type": "scatter3d",
           "x": {
            "bdata": "LRHGeJNtnD8GNrLd/WKgP/yZCatATqI/cUggxO4apD9OMG8PzPelP+k9+D/qC6g/L6V6brhkqj9LT4jas+ysPzeBDbdadK8/wSN+/TnmsD+ncXyKCvCxP6kjDGGN3rI/8+DQeUzFsz+iMzGperu0P/2tjKgD0rU/",
            "dtype": "f8"
           },
           "y": {
            "bdata": "/jSFR+6v9T4iOOkJl2gKP8E7z9h8ahQ/9SwWbU3VGD/XQfjt8gsZP9VluMHjfhQ/vDLb69dWBz9YCteLFOywPoKBcP7lSwa/UizPJA8AFL/5/3vdD5oYvxCI/xv4dhi/sc/NH/UkFL/jsnEjTBQKv56zAthfbfW+",
            "dtype": "f8"
           },
           "z": {
            "bdata": "BJ5M89qoWL9jRP65q/Rwv/iKYdmwe36/OP679DeDhr+5pVmF/4WNv1HRGTTDvZG/ny8K/UvFk79bQr7QOX2Uv2XypYuvwJO/e1MSwOG1kb+Pqdn4fnONv10t3t9gcYa/ImI7gnRefr9alHYZcuFwv49ZTZqyiFi/",
            "dtype": "f8"
           }
          },
          {
           "name": "Fixed Nodes",
           "type": "scatter3d",
           "x": {
            "bdata": "PLTIdr6fij8+30+Nl26SP11kO99PjZc/CtejcD0Ktz9SuB6F61G4P5qZmZmZmbk/",
            "dtype": "f8"
           },
           "y": {
            "bdata": "AAAAAAAAAAAAAAAAAAAAgAAAAAAAAACAAAAAAAAAAAAAAAAAAAAAAAAAAAAAAAAA",
            "dtype": "f8"
           },
           "z": {
            "bdata": "AAAAAAAAAAAAAAAAAAAAgAAAAAAAAACAAAAAAAAAAAAAAAAAAAAAAAAAAAAAAAAA",
            "dtype": "f8"
           }
          },
          {
           "name": "Edges",
           "type": "scatter3d",
           "x": [
            0.013000000000000005,
            0.01800000000000001,
            null,
            0.01800000000000001,
            0.02300000000000001,
            null,
            0.02300000000000001,
            0.027761749502603173,
            null,
            0.027761749502603173,
            0.032005246460453704,
            null,
            0.032005246460453704,
            0.0357532700334566,
            null,
            0.0357532700334566,
            0.03926798004262445,
            null,
            0.03926798004262445,
            0.04290616691977843,
            null,
            0.04290616691977843,
            0.04696590453033506,
            null,
            0.04696590453033506,
            0.05154968594190234,
            null,
            0.05154968594190234,
            0.05649339716560905,
            null,
            0.05649339716560905,
            0.061434588284785034,
            null,
            0.061434588284785034,
            0.0660129779700034,
            null,
            0.0660129779700034,
            0.0700689876652577,
            null,
            0.0700689876652577,
            0.07370837802240139,
            null,
            0.07370837802240139,
            0.07722928976079739,
            null,
            0.07722928976079739,
            0.08098570471447755,
            null,
            0.08098570471447755,
            0.08523581376055485,
            null,
            0.08523581376055485,
            0.09,
            null,
            0.09,
            0.095,
            null,
            0.095,
            0.1,
            null
           ],
           "y": [
            0,
            0,
            null,
            0,
            0,
            null,
            0,
            0.00002068255386804707,
            null,
            0.00002068255386804707,
            0.000050370320640355745,
            null,
            0.000050370320640355745,
            0.00007788073544577526,
            null,
            0.00007788073544577526,
            0.00009473118850260641,
            null,
            0.00009473118850260641,
            0.00009554548477575614,
            null,
            0.00009554548477575614,
            0.00007818474880884965,
            null,
            0.00007818474880884965,
            0.00004451605262332156,
            null,
            0.00004451605262332156,
            0.0000010086410350140852,
            null,
            0.0000010086410350140852,
            -0.00004252715717023831,
            null,
            -0.00004252715717023831,
            -0.00007629482679687272,
            null,
            -0.00007629482679687272,
            -0.00009384843667348254,
            null,
            -0.00009384843667348254,
            -0.00009332551326182736,
            null,
            -0.00009332551326182736,
            -0.0000768446552237834,
            null,
            -0.0000768446552237834,
            -0.00004974229198570991,
            null,
            -0.00004974229198570991,
            -0.00002043461199778865,
            null,
            -0.00002043461199778865,
            0,
            null,
            0,
            0,
            null,
            0,
            0,
            null
           ],
           "z": [
            0,
            0,
            null,
            0,
            0,
            null,
            0,
            -0.0015051019847279754,
            null,
            -0.0015051019847279754,
            -0.0041395862644018925,
            null,
            -0.0041395862644018925,
            -0.0074421795053207715,
            null,
            -0.0074421795053207715,
            -0.010992467075538234,
            null,
            -0.010992467075538234,
            -0.014415737397217453,
            null,
            -0.014415737397217453,
            -0.017325449042304545,
            null,
            -0.017325449042304545,
            -0.019307315177271907,
            null,
            -0.019307315177271907,
            -0.020008948674844578,
            null,
            -0.020008948674844578,
            -0.019289725206805736,
            null,
            -0.019289725206805736,
            -0.017295386646384508,
            null,
            -0.017295386646384508,
            -0.014380447358423946,
            null,
            -0.014380447358423946,
            -0.010958439666657932,
            null,
            -0.010958439666657932,
            -0.00741429816454134,
            null,
            -0.00741429816454134,
            -0.004121251774823776,
            null,
            -0.004121251774823776,
            -0.0014974350135240377,
            null,
            -0.0014974350135240377,
            0,
            null,
            0,
            0,
            null,
            0,
            0,
            null
           ]
          },
          {
           "i": [],
           "j": [],
           "k": [],
           "name": "Faces",
           "type": "mesh3d",
           "x": {
            "bdata": "PLTIdr6fij8+30+Nl26SP11kO99PjZc/LRHGeJNtnD8GNrLd/WKgP/yZCatATqI/cUggxO4apD9OMG8PzPelP+k9+D/qC6g/L6V6brhkqj9LT4jas+ysPzeBDbdadK8/wSN+/TnmsD+ncXyKCvCxP6kjDGGN3rI/8+DQeUzFsz+iMzGperu0P/2tjKgD0rU/CtejcD0Ktz9SuB6F61G4P5qZmZmZmbk/",
            "dtype": "f8"
           },
           "y": {
            "bdata": "AAAAAAAAAAAAAAAAAAAAgAAAAAAAAACA/jSFR+6v9T4iOOkJl2gKP8E7z9h8ahQ/9SwWbU3VGD/XQfjt8gsZP9VluMHjfhQ/vDLb69dWBz9YCteLFOywPoKBcP7lSwa/UizPJA8AFL/5/3vdD5oYvxCI/xv4dhi/sc/NH/UkFL/jsnEjTBQKv56zAthfbfW+AAAAAAAAAAAAAAAAAAAAAAAAAAAAAAAA",
            "dtype": "f8"
           },
           "z": {
            "bdata": "AAAAAAAAAAAAAAAAAAAAgAAAAAAAAACABJ5M89qoWL9jRP65q/Rwv/iKYdmwe36/OP679DeDhr+5pVmF/4WNv1HRGTTDvZG/ny8K/UvFk79bQr7QOX2Uv2XypYuvwJO/e1MSwOG1kb+Pqdn4fnONv10t3t9gcYa/ImI7gnRefr9alHYZcuFwv49ZTZqyiFi/AAAAAAAAAAAAAAAAAAAAAAAAAAAAAAAA",
            "dtype": "f8"
           }
          }
         ],
         "layout": {
          "annotations": [
           {
            "showarrow": false,
            "text": "Time: 0.18s (Step: 19/100)",
            "x": 0.05,
            "xref": "paper",
            "y": 0.95,
            "yref": "paper"
           }
          ]
         },
         "name": "18"
        },
        {
         "data": [
          {
           "name": "Free Nodes",
           "type": "scatter3d",
           "x": {
            "bdata": "AST/471tnD+W4IZSTmOgP0aCQBHfTqI/NJ0zE8obpD/gvMZit/ilPwe4uBC2DKg/h8VQmFFlqj8hhVTQMu2sP2U1BPDvdK8/pqs4HZ/msD+zH1e8g/CxP/kMevwC37I/NrlB5qTFsz9W6iFkqbu0P9yOqHcQ0rU/",
            "dtype": "f8"
           },
           "y": {
            "bdata": "yYTO67W5+T787hTC0lEPP8NgsA0UNRg/z3VWmc5vHT/bXctNea0dP6/yJ/MaRBg/uJ9MHXaQCz/Xnxv0Y0GuPj4eG4LMowq/oAfYgwPWF79+DVewNU0dv59yS8gzIh2/oJX4xl39F78cL+VJ/A8Pv2GWjJXvhvm+",
            "dtype": "f8"
           },
           "z": {
            "bdata": "fdJoQVKgWL9vhU9Afe9wvzpJ55myc36/AdA+3kV+hr8hAKVZyoCNvxTUjvV/u5G/VjmoQOzDk79R6eM9J32Uv2pOr3n0wZO/3dtj6yK4kb/DxCmk5HiNvzaPp0yodoa/tM+3Xjdnfr/03wfWR+dwvyisNM+Wkli/",
            "dtype": "f8"
           }
          },
          {
           "name": "Fixed Nodes",
           "type": "scatter3d",
           "x": {
            "bdata": "PLTIdr6fij8+30+Nl26SP11kO99PjZc/CtejcD0Ktz9SuB6F61G4P5qZmZmZmbk/",
            "dtype": "f8"
           },
           "y": {
            "bdata": "AAAAAAAAAAAAAAAAAAAAgAAAAAAAAACAAAAAAAAAAAAAAAAAAAAAAAAAAAAAAAAA",
            "dtype": "f8"
           },
           "z": {
            "bdata": "AAAAAAAAAAAAAAAAAAAAgAAAAAAAAACAAAAAAAAAAAAAAAAAAAAAAAAAAAAAAAAA",
            "dtype": "f8"
           }
          },
          {
           "name": "Edges",
           "type": "scatter3d",
           "x": [
            0.013000000000000005,
            0.01800000000000001,
            null,
            0.01800000000000001,
            0.02300000000000001,
            null,
            0.02300000000000001,
            0.027762381592570055,
            null,
            0.027762381592570055,
            0.03200764424713147,
            null,
            0.03200764424713147,
            0.03575799069972567,
            null,
            0.03575799069972567,
            0.03927451595682854,
            null,
            0.03927451595682854,
            0.04291318016782397,
            null,
            0.04291318016782397,
            0.04697197870369512,
            null,
            0.04697197870369512,
            0.05155425056762924,
            null,
            0.05155425056762924,
            0.05649718087284784,
            null,
            0.05649718087284784,
            0.061439035462266735,
            null,
            0.061439035462266735,
            0.06601900542652447,
            null,
            0.06601900542652447,
            0.07007621143486524,
            null,
            0.07007621143486524,
            0.0737153879545537,
            null,
            0.0737153879545537,
            0.07723456021787886,
            null,
            0.07723456021787886,
            0.08098849005356476,
            null,
            0.08098849005356476,
            0.08523657723759065,
            null,
            0.08523657723759065,
            0.09,
            null,
            0.09,
            0.095,
            null,
            0.095,
            0.1,
            null
           ],
           "y": [
            0,
            0,
            null,
            0,
            0,
            null,
            0,
            0.000024533683916087832,
            null,
            0.000024533683916087832,
            0.00005973743851447712,
            null,
            0.00005973743851447712,
            0.00009234366318400509,
            null,
            0.00009234366318400509,
            0.00011229227523875468,
            null,
            0.00011229227523875468,
            0.00011321118240503003,
            null,
            0.00011321118240503003,
            0.00009256758202264946,
            null,
            0.00009256758202264946,
            0.00005257473427483457,
            null,
            0.00005257473427483457,
            9.016821211600993e-7,
            null,
            9.016821211600993e-7,
            -0.00005081146106316853,
            null,
            -0.00005081146106316853,
            -0.00009092709020566562,
            null,
            -0.00009092709020566562,
            -0.0001117767352161649,
            null,
            -0.0001117767352161649,
            -0.00011113587431616855,
            null,
            -0.00011113587431616855,
            -0.00009151348944465851,
            null,
            -0.00009151348944465851,
            -0.00005924690889233376,
            null,
            -0.00005924690889233376,
            -0.000024344533218775814,
            null,
            -0.000024344533218775814,
            0,
            null,
            0,
            0,
            null,
            0,
            0,
            null
           ],
           "z": [
            0,
            0,
            null,
            0,
            0,
            null,
            0,
            -0.0015030673290656043,
            null,
            -0.0015030673290656043,
            -0.004134644758751234,
            null,
            -0.004134644758751234,
            -0.007434556637649964,
            null,
            -0.007434556637649964,
            -0.01098303398598688,
            null,
            -0.01098303398598688,
            -0.014405804501279875,
            null,
            -0.014405804501279875,
            -0.017316817629495843,
            null,
            -0.017316817629495843,
            -0.019302073904378624,
            null,
            -0.019302073904378624,
            -0.02000867190597805,
            null,
            -0.02000867190597805,
            -0.019294567038583933,
            null,
            -0.019294567038583933,
            -0.017303987137861177,
            null,
            -0.017303987137861177,
            -0.014390741596090334,
            null,
            -0.014390741596090334,
            -0.010968508567152573,
            null,
            -0.010968508567152573,
            -0.007422653473884756,
            null,
            -0.007422653473884756,
            -0.004126816377258525,
            null,
            -0.004126816377258525,
            -0.0014997933147451546,
            null,
            -0.0014997933147451546,
            0,
            null,
            0,
            0,
            null,
            0,
            0,
            null
           ]
          },
          {
           "i": [],
           "j": [],
           "k": [],
           "name": "Faces",
           "type": "mesh3d",
           "x": {
            "bdata": "PLTIdr6fij8+30+Nl26SP11kO99PjZc/AST/471tnD+W4IZSTmOgP0aCQBHfTqI/NJ0zE8obpD/gvMZit/ilPwe4uBC2DKg/h8VQmFFlqj8hhVTQMu2sP2U1BPDvdK8/pqs4HZ/msD+zH1e8g/CxP/kMevwC37I/NrlB5qTFsz9W6iFkqbu0P9yOqHcQ0rU/CtejcD0Ktz9SuB6F61G4P5qZmZmZmbk/",
            "dtype": "f8"
           },
           "y": {
            "bdata": "AAAAAAAAAAAAAAAAAAAAgAAAAAAAAACAyYTO67W5+T787hTC0lEPP8NgsA0UNRg/z3VWmc5vHT/bXctNea0dP6/yJ/MaRBg/uJ9MHXaQCz/Xnxv0Y0GuPj4eG4LMowq/oAfYgwPWF79+DVewNU0dv59yS8gzIh2/oJX4xl39F78cL+VJ/A8Pv2GWjJXvhvm+AAAAAAAAAAAAAAAAAAAAAAAAAAAAAAAA",
            "dtype": "f8"
           },
           "z": {
            "bdata": "AAAAAAAAAAAAAAAAAAAAgAAAAAAAAACAfdJoQVKgWL9vhU9Afe9wvzpJ55myc36/AdA+3kV+hr8hAKVZyoCNvxTUjvV/u5G/VjmoQOzDk79R6eM9J32Uv2pOr3n0wZO/3dtj6yK4kb/DxCmk5HiNvzaPp0yodoa/tM+3Xjdnfr/03wfWR+dwvyisNM+Wkli/AAAAAAAAAAAAAAAAAAAAAAAAAAAAAAAA",
            "dtype": "f8"
           }
          }
         ],
         "layout": {
          "annotations": [
           {
            "showarrow": false,
            "text": "Time: 0.19s (Step: 20/100)",
            "x": 0.05,
            "xref": "paper",
            "y": 0.95,
            "yref": "paper"
           }
          ]
         },
         "name": "19"
        },
        {
         "data": [
          {
           "name": "Free Nodes",
           "type": "scatter3d",
           "x": {
            "bdata": "ioW+qOZtnD9BPrPqmWOgP3xaWJhwT6I/RBgLMY8cpD9aE4RthvmlP2uw98llDag/WCtCadNlqj8b6D07ne2sP/8zbJBrda8/Tljoa/HmsD9v2ltx5PCxP+kMqvxe37I/MSb/u+jFsz88Jh6PzLu0P5nKsu0Z0rU/",
            "dtype": "f8"
           },
           "y": {
            "bdata": "oosdn+e4/T5C12x5NxcSP6U/Xakf9hs/qrx2BXn/ID8aOPdl4CEhPzNLM8I0ABw/WLRgcDi/Dz8Bqx9hkR2qPmnmMGgO9g6/VzehBmimG7+Ao8X0x/wgv5FbvzRs4yC/RAFkNYHQG7/lg1sshAISv2KT0tgmm/2+",
            "dtype": "f8"
           },
           "z": {
            "bdata": "XJCT2gWYWL/Nsc5/jOpwv18A7vQ2bH6/0jQXBrl5hr9BB2DSE3yNvxMUaOJ6uZG/iI3XlLLCk7/RHs8iCn2Uv9MHWenxwpO/0VLxJue5kb9fm+UaEn2Nv6NC/Uiueoa/zu3Q9chtfr9sHwXmlOtwv1s24ETAmVi/",
            "dtype": "f8"
           }
          },
          {
           "name": "Fixed Nodes",
           "type": "scatter3d",
           "x": {
            "bdata": "PLTIdr6fij8+30+Nl26SP11kO99PjZc/CtejcD0Ktz9SuB6F61G4P5qZmZmZmbk/",
            "dtype": "f8"
           },
           "y": {
            "bdata": "AAAAAAAAAAAAAAAAAAAAgAAAAAAAAACAAAAAAAAAAAAAAAAAAAAAAAAAAAAAAAAA",
            "dtype": "f8"
           },
           "z": {
            "bdata": "AAAAAAAAAAAAAAAAAAAAgAAAAAAAAACAAAAAAAAAAAAAAAAAAAAAAAAAAAAAAAAA",
            "dtype": "f8"
           }
          },
          {
           "name": "Edges",
           "type": "scatter3d",
           "x": [
            0.013000000000000005,
            0.01800000000000001,
            null,
            0.01800000000000001,
            0.02300000000000001,
            null,
            0.02300000000000001,
            0.02776298909123435,
            null,
            0.02776298909123435,
            0.032009897136614736,
            null,
            0.032009897136614736,
            0.03576232776338359,
            null,
            0.03576232776338359,
            0.039280390488372535,
            null,
            0.039280390488372535,
            0.042919350498812306,
            null,
            0.042919350498812306,
            0.04697721567558307,
            null,
            0.04697721567558307,
            0.051558119391379165,
            null,
            0.051558119391379165,
            0.056500352365176996,
            null,
            0.056500352365176996,
            0.061442719821663154,
            null,
            0.061442719821663154,
            0.06602391132796123,
            null,
            0.06602391132796123,
            0.07008197562741157,
            null,
            0.07008197562741157,
            0.07372087162552855,
            null,
            0.07372087162552855,
            0.07723860349428759,
            null,
            0.07723860349428759,
            0.0809905862244244,
            null,
            0.0809905862244244,
            0.08523714116271676,
            null,
            0.08523714116271676,
            0.09,
            null,
            0.09,
            0.095,
            null,
            0.095,
            0.1,
            null
           ],
           "y": [
            0,
            0,
            null,
            0,
            0,
            null,
            0,
            0.00002834537912778,
            null,
            0.00002834537912778,
            0.00006901050651894356,
            null,
            0.00006901050651894356,
            0.0001066643547720224,
            null,
            0.0001066643547720224,
            0.00012968399344745935,
            null,
            0.00012968399344745935,
            0.00013070930707076504,
            null,
            0.00013070930707076504,
            0.00010681459439191854,
            null,
            0.00010681459439191854,
            0.000060552511101576764,
            null,
            0.000060552511101576764,
            7.78302537305292e-7,
            null,
            7.78302537305292e-7,
            -0.00005905372110999176,
            null,
            -0.00005905372110999176,
            -0.00010547647403421949,
            null,
            -0.00010547647403421949,
            -0.0001296037757001732,
            null,
            -0.0001296037757001732,
            -0.00012884803652354592,
            null,
            -0.00012884803652354592,
            -0.00010610378862808018,
            null,
            -0.00010610378862808018,
            -0.00006870204660060183,
            null,
            -0.00006870204660060183,
            -0.0000282345404697572,
            null,
            -0.0000282345404697572,
            0,
            null,
            0,
            0,
            null,
            0,
            0,
            null
           ],
           "z": [
            0,
            0,
            null,
            0,
            0,
            null,
            0,
            -0.0015010888258126997,
            null,
            -0.0015010888258126997,
            -0.004129933190523305,
            null,
            -0.004129933190523305,
            -0.007427420306044124,
            null,
            -0.007427420306044124,
            -0.01097435521924198,
            null,
            -0.01097435521924198,
            -0.014396815164221645,
            null,
            -0.014396815164221645,
            -0.017309112614402333,
            null,
            -0.017309112614402333,
            -0.019297399839968615,
            null,
            -0.019297399839968615,
            -0.020008238195969256,
            null,
            -0.020008238195969256,
            -0.019298343532007167,
            null,
            -0.019298343532007167,
            -0.01731072592913813,
            null,
            -0.01731072592913813,
            -0.014398709722355183,
            null,
            -0.014398709722355183,
            -0.010976182558495145,
            null,
            -0.010976182558495145,
            -0.007428917885643439,
            null,
            -0.007428917885643439,
            -0.004130918154551338,
            null,
            -0.004130918154551338,
            -0.001501500857105673,
            null,
            -0.001501500857105673,
            0,
            null,
            0,
            0,
            null,
            0,
            0,
            null
           ]
          },
          {
           "i": [],
           "j": [],
           "k": [],
           "name": "Faces",
           "type": "mesh3d",
           "x": {
            "bdata": "PLTIdr6fij8+30+Nl26SP11kO99PjZc/ioW+qOZtnD9BPrPqmWOgP3xaWJhwT6I/RBgLMY8cpD9aE4RthvmlP2uw98llDag/WCtCadNlqj8b6D07ne2sP/8zbJBrda8/Tljoa/HmsD9v2ltx5PCxP+kMqvxe37I/MSb/u+jFsz88Jh6PzLu0P5nKsu0Z0rU/CtejcD0Ktz9SuB6F61G4P5qZmZmZmbk/",
            "dtype": "f8"
           },
           "y": {
            "bdata": "AAAAAAAAAAAAAAAAAAAAgAAAAAAAAACAoosdn+e4/T5C12x5NxcSP6U/Xakf9hs/qrx2BXn/ID8aOPdl4CEhPzNLM8I0ABw/WLRgcDi/Dz8Bqx9hkR2qPmnmMGgO9g6/VzehBmimG7+Ao8X0x/wgv5FbvzRs4yC/RAFkNYHQG7/lg1sshAISv2KT0tgmm/2+AAAAAAAAAAAAAAAAAAAAAAAAAAAAAAAA",
            "dtype": "f8"
           },
           "z": {
            "bdata": "AAAAAAAAAAAAAAAAAAAAgAAAAAAAAACAXJCT2gWYWL/Nsc5/jOpwv18A7vQ2bH6/0jQXBrl5hr9BB2DSE3yNvxMUaOJ6uZG/iI3XlLLCk7/RHs8iCn2Uv9MHWenxwpO/0VLxJue5kb9fm+UaEn2Nv6NC/Uiueoa/zu3Q9chtfr9sHwXmlOtwv1s24ETAmVi/AAAAAAAAAAAAAAAAAAAAAAAAAAAAAAAA",
            "dtype": "f8"
           }
          }
         ],
         "layout": {
          "annotations": [
           {
            "showarrow": false,
            "text": "Time: 0.20s (Step: 21/100)",
            "x": 0.05,
            "xref": "paper",
            "y": 0.95,
            "yref": "paper"
           }
          ]
         },
         "name": "20"
        },
        {
         "data": [
          {
           "name": "Free Nodes",
           "type": "scatter3d",
           "x": {
            "bdata": "JcC61vNtnD9vErlWsmOgP3yJpZufT6I/YkPD7M4cpD8LbO14yfmlPxiCVp+eDag/5s7jj/xlqj+LlLquvO2sP33BoU2Nda8/vq0nRQfnsD/5jlYK/vCxPzAi6Ft337I/i+5Ys/rFsz8N8t7b1bu0P5n7pWwc0rU/",
            "dtype": "f8"
           },
           "y": {
            "bdata": "oAiCQITrAD+h2T9BYZgUP73l+jVC1B8/LHgUJp5YIz8fWifKfX4jP4pfnyYT2B8/lcMRt7UFEj/EEOdu92KlPi0+BGEotBG/cwmMSkmRH78gJA7ZdmIjv//TdB6IRCO/wmdiZQG7H78yJVEog4sUvzmyUjgM4wC/",
            "dtype": "f8"
           },
           "z": {
            "bdata": "hOuVcxiVWL8UU+PJ0ehwv5WoE2edaX6/y/Pe9SZ4hr8IImDRc3qNvykGjITFuJG/YLWo5jrCk7+idWcz53yUv3wx0qYhw5O/MZNR40+6kb8a+vmwEX6Nv9yl6KCje4a/+YUTClRvfr+SWvZrk+xwv7IDrLpgm1i/",
            "dtype": "f8"
           }
          },
          {
           "name": "Fixed Nodes",
           "type": "scatter3d",
           "x": {
            "bdata": "PLTIdr6fij8+30+Nl26SP11kO99PjZc/CtejcD0Ktz9SuB6F61G4P5qZmZmZmbk/",
            "dtype": "f8"
           },
           "y": {
            "bdata": "AAAAAAAAAAAAAAAAAAAAgAAAAAAAAACAAAAAAAAAAAAAAAAAAAAAAAAAAAAAAAAA",
            "dtype": "f8"
           },
           "z": {
            "bdata": "AAAAAAAAAAAAAAAAAAAAgAAAAAAAAACAAAAAAAAAAAAAAAAAAAAAAAAAAAAAAAAA",
            "dtype": "f8"
           }
          },
          {
           "name": "Edges",
           "type": "scatter3d",
           "x": [
            0.013000000000000005,
            0.01800000000000001,
            null,
            0.01800000000000001,
            0.02300000000000001,
            null,
            0.02300000000000001,
            0.027763185483024828,
            null,
            0.027763185483024828,
            0.03201062496785744,
            null,
            0.03201062496785744,
            0.03576372885688081,
            null,
            0.03576372885688081,
            0.039282289888098246,
            null,
            0.039282289888098246,
            0.04292134858288684,
            null,
            0.04292134858288684,
            0.04697890944521904,
            null,
            0.04697890944521904,
            0.051559345783884145,
            null,
            0.051559345783884145,
            0.05650128968162801,
            null,
            0.05650128968162801,
            0.06144372532515072,
            null,
            0.06144372532515072,
            0.06602521360735289,
            null,
            0.06602521360735289,
            0.07008350136180387,
            null,
            0.07008350136180387,
            0.07372232431237857,
            null,
            0.07372232431237857,
            0.07723967436407457,
            null,
            0.07723967436407457,
            0.08099114053670338,
            null,
            0.08099114053670338,
            0.0852372899298487,
            null,
            0.0852372899298487,
            0.09,
            null,
            0.09,
            0.095,
            null,
            0.095,
            0.1,
            null
           ],
           "y": [
            0,
            0,
            null,
            0,
            0,
            null,
            0,
            0.00003227231360460156,
            null,
            0.00003227231360460156,
            0.00007856458279307265,
            null,
            0.00007856458279307265,
            0.00012141851538673746,
            null,
            0.00012141851538673746,
            0.00014759951140147617,
            null,
            0.00014759951140147617,
            0.0001487282325586961,
            null,
            0.0001487282325586961,
            0.00012147538077955495,
            null,
            0.00012147538077955495,
            0.00006874963379900478,
            null,
            0.00006874963379900478,
            6.373699912789014e-7,
            null,
            6.373699912789014e-7,
            -0.00006753441289596906,
            null,
            -0.00006753441289596906,
            -0.00012042054971675934,
            null,
            -0.00012042054971675934,
            -0.00014789295940101452,
            null,
            -0.00014789295940101452,
            -0.00014700090034983068,
            null,
            -0.00014700090034983068,
            -0.00012104221363742811,
            null,
            -0.00012104221363742811,
            -0.000078372841089043,
            null,
            -0.000078372841089043,
            -0.000032209215569654584,
            null,
            -0.000032209215569654584,
            0,
            null,
            0,
            0,
            null,
            0,
            0,
            null
           ],
           "z": [
            0,
            0,
            null,
            0,
            0,
            null,
            0,
            -0.0015003908905259775,
            null,
            -0.0015003908905259775,
            -0.004128283964935493,
            null,
            -0.004128283964935493,
            -0.007424940923764241,
            null,
            -0.007424940923764241,
            -0.010971359613785389,
            null,
            -0.010971359613785389,
            -0.014393715693601386,
            null,
            -0.014393715693601386,
            -0.017306410040879214,
            null,
            -0.017306410040879214,
            -0.019295616463002374,
            null,
            -0.019295616463002374,
            -0.020007717621287953,
            null,
            -0.020007717621287953,
            -0.019299054915380406,
            null,
            -0.019299054915380406,
            -0.01731228661482759,
            null,
            -0.01731228661482759,
            -0.014400613988297773,
            null,
            -0.014400613988297773,
            -0.010978010509535112,
            null,
            -0.010978010509535112,
            -0.00743038967013509,
            null,
            -0.00743038967013509,
            -0.00413186632740427,
            null,
            -0.00413186632740427,
            -0.0015018887158364355,
            null,
            -0.0015018887158364355,
            0,
            null,
            0,
            0,
            null,
            0,
            0,
            null
           ]
          },
          {
           "i": [],
           "j": [],
           "k": [],
           "name": "Faces",
           "type": "mesh3d",
           "x": {
            "bdata": "PLTIdr6fij8+30+Nl26SP11kO99PjZc/JcC61vNtnD9vErlWsmOgP3yJpZufT6I/YkPD7M4cpD8LbO14yfmlPxiCVp+eDag/5s7jj/xlqj+LlLquvO2sP33BoU2Nda8/vq0nRQfnsD/5jlYK/vCxPzAi6Ft337I/i+5Ys/rFsz8N8t7b1bu0P5n7pWwc0rU/CtejcD0Ktz9SuB6F61G4P5qZmZmZmbk/",
            "dtype": "f8"
           },
           "y": {
            "bdata": "AAAAAAAAAAAAAAAAAAAAgAAAAAAAAACAoAiCQITrAD+h2T9BYZgUP73l+jVC1B8/LHgUJp5YIz8fWifKfX4jP4pfnyYT2B8/lcMRt7UFEj/EEOdu92KlPi0+BGEotBG/cwmMSkmRH78gJA7ZdmIjv//TdB6IRCO/wmdiZQG7H78yJVEog4sUvzmyUjgM4wC/AAAAAAAAAAAAAAAAAAAAAAAAAAAAAAAA",
            "dtype": "f8"
           },
           "z": {
            "bdata": "AAAAAAAAAAAAAAAAAAAAgAAAAAAAAACAhOuVcxiVWL8UU+PJ0ehwv5WoE2edaX6/y/Pe9SZ4hr8IImDRc3qNvykGjITFuJG/YLWo5jrCk7+idWcz53yUv3wx0qYhw5O/MZNR40+6kb8a+vmwEX6Nv9yl6KCje4a/+YUTClRvfr+SWvZrk+xwv7IDrLpgm1i/AAAAAAAAAAAAAAAAAAAAAAAAAAAAAAAA",
            "dtype": "f8"
           }
          }
         ],
         "layout": {
          "annotations": [
           {
            "showarrow": false,
            "text": "Time: 0.21s (Step: 22/100)",
            "x": 0.05,
            "xref": "paper",
            "y": 0.95,
            "yref": "paper"
           }
          ]
         },
         "name": "21"
        },
        {
         "data": [
          {
           "name": "Free Nodes",
           "type": "scatter3d",
           "x": {
            "bdata": "l4dcve5tnD8i9x8jqWOgP3ILMW+OT6I/V6WpfrgcpD+6KmbdsvmlP4zgBvOLDag/zshFsu1lqj+luEaurO2sP+jbTRB2da8/e8ZoB/fmsD+3ubVC6/CxP0t1OvVl37I/bHK/L+7Fsz9G5jyEz7u0P/Wp+sAa0rU/",
            "dtype": "f8"
           },
           "y": {
            "bdata": "Ftftw/IIAz9WW+Wb/CoXP4+nT/SV5iE/VBzrmNnBJT8Mjv/z++olP8rkddJx5CE/qgB8uKs4FD8er14g4aWfPmyxYH9V/BO/uPnZ2kPKIb89ykBHRNYlv+BnN0sEsyW/lGr0P0XdIb+TQGSefyEXv3raNKuzAgO/",
            "dtype": "f8"
           },
           "z": {
            "bdata": "hWzn97eVWL9Kp3XIMulwvxG3A2Ezan6/1cnUcIN4hr/uHdYF0XqNv7cqJM3muJG/CXxeBz7Ck781a3vIv3yUvw92E4bPwpO/9n2wet+5kb8JPATnGH2Nv7ALUm+2eoa/Blai8M1tfr+3vX5pketwvwmqW7WumVi/",
            "dtype": "f8"
           }
          },
          {
           "name": "Fixed Nodes",
           "type": "scatter3d",
           "x": {
            "bdata": "PLTIdr6fij8+30+Nl26SP11kO99PjZc/CtejcD0Ktz9SuB6F61G4P5qZmZmZmbk/",
            "dtype": "f8"
           },
           "y": {
            "bdata": "AAAAAAAAAAAAAAAAAAAAgAAAAAAAAACAAAAAAAAAAAAAAAAAAAAAAAAAAAAAAAAA",
            "dtype": "f8"
           },
           "z": {
            "bdata": "AAAAAAAAAAAAAAAAAAAAgAAAAAAAAACAAAAAAAAAAAAAAAAAAAAAAAAAAAAAAAAA",
            "dtype": "f8"
           }
          },
          {
           "name": "Edges",
           "type": "scatter3d",
           "x": [
            0.013000000000000005,
            0.01800000000000001,
            null,
            0.01800000000000001,
            0.02300000000000001,
            null,
            0.02300000000000001,
            0.02776310950060398,
            null,
            0.02776310950060398,
            0.0320103507401497,
            null,
            0.0320103507401497,
            0.03576321704215148,
            null,
            0.03576321704215148,
            0.03928162141967089,
            null,
            0.03928162141967089,
            0.04292067482591251,
            null,
            0.04292067482591251,
            0.0469783529437687,
            null,
            0.0469783529437687,
            0.05155890275172369,
            null,
            0.05155890275172369,
            0.05650081279178324,
            null,
            0.05650081279178324,
            0.061443032732249325,
            null,
            0.061443032732249325,
            0.06602424555674162,
            null,
            0.06602424555674162,
            0.07008238199862303,
            null,
            0.07008238199862303,
            0.07372128712673491,
            null,
            0.07372128712673491,
            0.07723892846792929,
            null,
            0.07723892846792929,
            0.08099076250518875,
            null,
            0.08099076250518875,
            0.08523719035535023,
            null,
            0.08523719035535023,
            0.09,
            null,
            0.09,
            0.095,
            null,
            0.095,
            0.1,
            null
           ],
           "y": [
            0,
            0,
            null,
            0,
            0,
            null,
            0,
            0.00003630629406973903,
            null,
            0.00003630629406973903,
            0.00008837858965669623,
            null,
            0.00008837858965669623,
            0.0001365716981632206,
            null,
            0.0001365716981632206,
            0.0001659944650411494,
            null,
            0.0001659944650411494,
            0.00016722035979831217,
            null,
            0.00016722035979831217,
            0.00013650788717337595,
            null,
            0.00013650788717337595,
            0.00007713840579626438,
            null,
            0.00007713840579626438,
            4.715914488871849e-7,
            null,
            4.715914488871849e-7,
            -0.00007623931728123972,
            null,
            -0.00007623931728123972,
            -0.00013572767550225156,
            null,
            -0.00013572767550225156,
            -0.0001666029307912531,
            null,
            -0.0001666029307912531,
            -0.0001655524007294065,
            null,
            -0.0001655524007294065,
            -0.00013629408201939043,
            null,
            -0.00013629408201939043,
            -0.00008823720381579058,
            null,
            -0.00008823720381579058,
            -0.00003625975423420399,
            null,
            -0.00003625975423420399,
            0,
            null,
            0,
            0,
            null,
            0,
            0,
            null
           ],
           "z": [
            0,
            0,
            null,
            0,
            0,
            null,
            0,
            -0.0015005394521867843,
            null,
            -0.0015005394521867843,
            -0.004128645297308451,
            null,
            -0.004128645297308451,
            -0.00742549962909124,
            null,
            -0.00742549962909124,
            -0.01097204864581595,
            null,
            -0.01097204864581595,
            -0.014394410124409309,
            null,
            -0.014394410124409309,
            -0.017306906004743463,
            null,
            -0.017306906004743463,
            -0.019295663070462186,
            null,
            -0.019295663070462186,
            -0.02000713025231989,
            null,
            -0.02000713025231989,
            -0.019297831114149896,
            null,
            -0.019297831114149896,
            -0.017310611594551127,
            null,
            -0.017310611594551127,
            -0.014398760366502132,
            null,
            -0.014398760366502132,
            -0.010976243278724457,
            null,
            -0.010976243278724457,
            -0.007428936436686856,
            null,
            -0.007428936436686856,
            -0.004130905166604241,
            null,
            -0.004130905166604241,
            -0.0015014845025073129,
            null,
            -0.0015014845025073129,
            0,
            null,
            0,
            0,
            null,
            0,
            0,
            null
           ]
          },
          {
           "i": [],
           "j": [],
           "k": [],
           "name": "Faces",
           "type": "mesh3d",
           "x": {
            "bdata": "PLTIdr6fij8+30+Nl26SP11kO99PjZc/l4dcve5tnD8i9x8jqWOgP3ILMW+OT6I/V6WpfrgcpD+6KmbdsvmlP4zgBvOLDag/zshFsu1lqj+luEaurO2sP+jbTRB2da8/e8ZoB/fmsD+3ubVC6/CxP0t1OvVl37I/bHK/L+7Fsz9G5jyEz7u0P/Wp+sAa0rU/CtejcD0Ktz9SuB6F61G4P5qZmZmZmbk/",
            "dtype": "f8"
           },
           "y": {
            "bdata": "AAAAAAAAAAAAAAAAAAAAgAAAAAAAAACAFtftw/IIAz9WW+Wb/CoXP4+nT/SV5iE/VBzrmNnBJT8Mjv/z++olP8rkddJx5CE/qgB8uKs4FD8er14g4aWfPmyxYH9V/BO/uPnZ2kPKIb89ykBHRNYlv+BnN0sEsyW/lGr0P0XdIb+TQGSefyEXv3raNKuzAgO/AAAAAAAAAAAAAAAAAAAAAAAAAAAAAAAA",
            "dtype": "f8"
           },
           "z": {
            "bdata": "AAAAAAAAAAAAAAAAAAAAgAAAAAAAAACAhWzn97eVWL9Kp3XIMulwvxG3A2Ezan6/1cnUcIN4hr/uHdYF0XqNv7cqJM3muJG/CXxeBz7Ck781a3vIv3yUvw92E4bPwpO/9n2wet+5kb8JPATnGH2Nv7ALUm+2eoa/Blai8M1tfr+3vX5pketwvwmqW7WumVi/AAAAAAAAAAAAAAAAAAAAAAAAAAAAAAAA",
            "dtype": "f8"
           }
          }
         ],
         "layout": {
          "annotations": [
           {
            "showarrow": false,
            "text": "Time: 0.22s (Step: 23/100)",
            "x": 0.05,
            "xref": "paper",
            "y": 0.95,
            "yref": "paper"
           }
          ]
         },
         "name": "22"
        },
        {
         "data": [
          {
           "name": "Free Nodes",
           "type": "scatter3d",
           "x": {
            "bdata": "B27HxOZtnD/8k1e8mmOgP9Y3FoBzT6I/K++2MpUcpD/ZEjQgj/mlP8Q+PWZuDag/vJ5qudZlqj/Suidwle2sP6Lw8LFVda8/KbhMquDmsD/JVhF10fCxPwgLKBJO37I/2J8LCN3Fsz+KycXWxru0P3hxNHkY0rU/",
            "dtype": "f8"
           },
           "y": {
            "bdata": "CBY5N0srBT8sBXO5jcMZP5bRHN2a5yM/hCV/fogwKD/TY6I/y1woP4m+fEHq4CM/PJ5yMWlvFj+eBlUq/ByTPseYl4isSha/5VoD7JrQI7+qCKCSbk8ovwaj47aIJii/QwcBo/ngI7+0k1wqVrwZv9AKuGEoJgW/",
            "dtype": "f8"
           },
           "z": {
            "bdata": "sVQkNNyWWL8jbTTz4elwv//CJZs+a36/NzwTdyZ5hr9gZ9zjdXuNv8xEQ04luZG/LzGE8U/Ck79/0ciRk3yUvwX6qaplwpO/fzYmfEq5kb8XuHRazXuNv3gWGP16eYa/mi0UdMlrfr84j0+DPepwv2Xn2e91l1i/",
            "dtype": "f8"
           }
          },
          {
           "name": "Fixed Nodes",
           "type": "scatter3d",
           "x": {
            "bdata": "PLTIdr6fij8+30+Nl26SP11kO99PjZc/CtejcD0Ktz9SuB6F61G4P5qZmZmZmbk/",
            "dtype": "f8"
           },
           "y": {
            "bdata": "AAAAAAAAAAAAAAAAAAAAgAAAAAAAAACAAAAAAAAAAAAAAAAAAAAAAAAAAAAAAAAA",
            "dtype": "f8"
           },
           "z": {
            "bdata": "AAAAAAAAAAAAAAAAAAAAgAAAAAAAAACAAAAAAAAAAAAAAAAAAAAAAAAAAAAAAAAA",
            "dtype": "f8"
           }
          },
          {
           "name": "Edges",
           "type": "scatter3d",
           "x": [
            0.013000000000000005,
            0.01800000000000001,
            null,
            0.01800000000000001,
            0.02300000000000001,
            null,
            0.02300000000000001,
            0.027762990723074334,
            null,
            0.027762990723074334,
            0.03200992154214785,
            null,
            0.03200992154214785,
            0.035762414346308155,
            null,
            0.035762414346308155,
            0.03928056949686572,
            null,
            0.03928056949686572,
            0.04291960971935333,
            null,
            0.04291960971935333,
            0.046977472286582805,
            null,
            0.046977472286582805,
            0.05155821812996694,
            null,
            0.05155821812996694,
            0.05650012010652507,
            null,
            0.05650012010652507,
            0.06144206807263798,
            null,
            0.06144206807263798,
            0.06602291257578997,
            null,
            0.06602291257578997,
            0.0700808440027131,
            null,
            0.0700808440027131,
            0.07371986335060055,
            null,
            0.07371986335060055,
            0.07723790594502533,
            null,
            0.07723790594502533,
            0.08099024527999724,
            null,
            0.08099024527999724,
            0.08523705443480434,
            null,
            0.08523705443480434,
            0.09,
            null,
            0.09,
            0.095,
            null,
            0.095,
            0.1,
            null
           ],
           "y": [
            0,
            0,
            null,
            0,
            0,
            null,
            0,
            0.00004037688532014186,
            null,
            0.00004037688532014186,
            0.00009828140751990251,
            null,
            0.00009828140751990251,
            0.0001518608610752258,
            null,
            0.0001518608610752258,
            0.00018455187023240169,
            null,
            0.00018455187023240169,
            0.00018587094365754442,
            null,
            0.00018587094365754442,
            0.0001516614872740694,
            null,
            0.0001516614872740694,
            0.00008558349178377443,
            null,
            0.00008558349178377443,
            2.8480921295338055e-7,
            null,
            2.8480921295338055e-7,
            -0.0000850360685472367,
            null,
            -0.0000850360685472367,
            -0.00015117541443628656,
            null,
            -0.00015117541443628656,
            -0.00018547272458141934,
            null,
            -0.00018547272458141934,
            -0.00018425387265288295,
            null,
            -0.00018425387265288295,
            -0.0001516632778493736,
            null,
            -0.0001516632778493736,
            -0.00009817386543582615,
            null,
            -0.00009817386543582615,
            -0.000040338618614318305,
            null,
            -0.000040338618614318305,
            0,
            null,
            0,
            0,
            null,
            0,
            0,
            null
           ],
           "z": [
            0,
            0,
            null,
            0,
            0,
            null,
            0,
            -0.0015008116175228398,
            null,
            -0.0015008116175228398,
            -0.004129297845135302,
            null,
            -0.004129297845135302,
            -0.007426495127547338,
            null,
            -0.007426495127547338,
            -0.01097326327217561,
            null,
            -0.01097326327217561,
            -0.014395638481392303,
            null,
            -0.014395638481392303,
            -0.01730783739259749,
            null,
            -0.01730783739259749,
            -0.019295930019368853,
            null,
            -0.019295930019368853,
            -0.020006471417404633,
            null,
            -0.020006471417404633,
            -0.019296253720762397,
            null,
            -0.019296253720762397,
            -0.017308391406507525,
            null,
            -0.017308391406507525,
            -0.014396290133472473,
            null,
            -0.014396290133472473,
            -0.010973893021410705,
            null,
            -0.010973893021410705,
            -0.00742701237437462,
            null,
            -0.00742701237437462,
            -0.004129638943570595,
            null,
            -0.004129638943570595,
            -0.0015009547927591013,
            null,
            -0.0015009547927591013,
            0,
            null,
            0,
            0,
            null,
            0,
            0,
            null
           ]
          },
          {
           "i": [],
           "j": [],
           "k": [],
           "name": "Faces",
           "type": "mesh3d",
           "x": {
            "bdata": "PLTIdr6fij8+30+Nl26SP11kO99PjZc/B27HxOZtnD/8k1e8mmOgP9Y3FoBzT6I/K++2MpUcpD/ZEjQgj/mlP8Q+PWZuDag/vJ5qudZlqj/Suidwle2sP6Lw8LFVda8/KbhMquDmsD/JVhF10fCxPwgLKBJO37I/2J8LCN3Fsz+KycXWxru0P3hxNHkY0rU/CtejcD0Ktz9SuB6F61G4P5qZmZmZmbk/",
            "dtype": "f8"
           },
           "y": {
            "bdata": "AAAAAAAAAAAAAAAAAAAAgAAAAAAAAACACBY5N0srBT8sBXO5jcMZP5bRHN2a5yM/hCV/fogwKD/TY6I/y1woP4m+fEHq4CM/PJ5yMWlvFj+eBlUq/ByTPseYl4isSha/5VoD7JrQI7+qCKCSbk8ovwaj47aIJii/QwcBo/ngI7+0k1wqVrwZv9AKuGEoJgW/AAAAAAAAAAAAAAAAAAAAAAAAAAAAAAAA",
            "dtype": "f8"
           },
           "z": {
            "bdata": "AAAAAAAAAAAAAAAAAAAAgAAAAAAAAACAsVQkNNyWWL8jbTTz4elwv//CJZs+a36/NzwTdyZ5hr9gZ9zjdXuNv8xEQ04luZG/LzGE8U/Ck79/0ciRk3yUvwX6qaplwpO/fzYmfEq5kb8XuHRazXuNv3gWGP16eYa/mi0UdMlrfr84j0+DPepwv2Xn2e91l1i/AAAAAAAAAAAAAAAAAAAAAAAAAAAAAAAA",
            "dtype": "f8"
           }
          }
         ],
         "layout": {
          "annotations": [
           {
            "showarrow": false,
            "text": "Time: 0.23s (Step: 24/100)",
            "x": 0.05,
            "xref": "paper",
            "y": 0.95,
            "yref": "paper"
           }
          ]
         },
         "name": "23"
        },
        {
         "data": [
          {
           "name": "Free Nodes",
           "type": "scatter3d",
           "x": {
            "bdata": "GK3+XeNtnD8zUXnYlGOgP2qANgdpT6I/awAQTogcpD9NKMkHg/mlP7C6fv9kDag/jjB7o85lqj95YI9Iiu2sP6mHfzlDda8/HXAqjNPmsD9ddP6NwvCxP/6QS5hA37I/v0bClNPFsz+XO2crwru0P1qeXkYX0rU/",
            "dtype": "f8"
           },
           "y": {
            "bdata": "hYPRQ4lLBz9glFAglVkcP5QJ4PWu5iU/3MgGF+GcKj9Sqqe5Q8wqP/IZxB542yU/+qazgtejGD84xZsqaUp4Ptijzc3mlxi/BE+6P9bVJb9XhQs6QMcqv1gKJFbCmCq/+G8fG6rjJb9Ekczu7lUcvxbq7gCoSAe/",
            "dtype": "f8"
           },
           "z": {
            "bdata": "Gak3+w6XWL+IOGwCAepwv9f3Jw5va36/5FgwJkR5hr/LDEk1kHuNv1gIwxEouZG/DD6r/TzCk78Emz+xYnyUv3H6M0YXwpO/YgvLree4kb+uSglH+XqNvzvX6+iyeIa/JlcLmoFqfr+I5KdMZelwvzL4D24Llli/",
            "dtype": "f8"
           }
          },
          {
           "name": "Fixed Nodes",
           "type": "scatter3d",
           "x": {
            "bdata": "PLTIdr6fij8+30+Nl26SP11kO99PjZc/CtejcD0Ktz9SuB6F61G4P5qZmZmZmbk/",
            "dtype": "f8"
           },
           "y": {
            "bdata": "AAAAAAAAAAAAAAAAAAAAgAAAAAAAAACAAAAAAAAAAAAAAAAAAAAAAAAAAAAAAAAA",
            "dtype": "f8"
           },
           "z": {
            "bdata": "AAAAAAAAAAAAAAAAAAAAgAAAAAAAAACAAAAAAAAAAAAAAAAAAAAAAAAAAAAAAAAA",
            "dtype": "f8"
           }
          },
          {
           "name": "Edges",
           "type": "scatter3d",
           "x": [
            0.013000000000000005,
            0.01800000000000001,
            null,
            0.01800000000000001,
            0.02300000000000001,
            null,
            0.02300000000000001,
            0.027762940036763245,
            null,
            0.027762940036763245,
            0.03200974600318531,
            null,
            0.03200974600318531,
            0.03576210225151118,
            null,
            0.03576210225151118,
            0.03928018525039153,
            null,
            0.03928018525039153,
            0.0429192492488971,
            null,
            0.0429192492488971,
            0.046977192104681875,
            null,
            0.046977192104681875,
            0.05155797715778575,
            null,
            0.05155797715778575,
            0.056499787671499165,
            null,
            0.056499787671499165,
            0.061441517609423464,
            null,
            0.061441517609423464,
            0.0660221306993098,
            null,
            0.0660221306993098,
            0.07007995573663224,
            null,
            0.07007995573663224,
            0.07371906011718818,
            null,
            0.07371906011718818,
            0.07723734266098868,
            null,
            0.07723734266098868,
            0.08098996696138126,
            null,
            0.08098996696138126,
            0.08523698299415497,
            null,
            0.08523698299415497,
            0.09,
            null,
            0.09,
            0.095,
            null,
            0.095,
            0.1,
            null
           ],
           "y": [
            0,
            0,
            null,
            0,
            0,
            null,
            0,
            0.00004443180703429028,
            null,
            0.00004443180703429028,
            0.00010814640707275522,
            null,
            0.00010814640707275522,
            0.00016709218738248917,
            null,
            0.00016709218738248917,
            0.00020303962402363248,
            null,
            0.00020303962402363248,
            0.0002044518158322456,
            null,
            0.0002044518158322456,
            0.000166757977588541,
            null,
            0.000166757977588541,
            0.00009399416801483462,
            null,
            0.00009399416801483462,
            9.048978690994815e-8,
            null,
            9.048978690994815e-8,
            -0.00009381624427152958,
            null,
            -0.00009381624427152958,
            -0.00016659012168373382,
            null,
            -0.00016659012168373382,
            -0.0002043023969440598,
            null,
            -0.0002043023969440598,
            -0.0002029168345601569,
            null,
            -0.0002029168345601569,
            -0.0001670022152769899,
            null,
            -0.0001670022152769899,
            -0.0001080920298589016,
            null,
            -0.0001080920298589016,
            -0.00004441034990728205,
            null,
            -0.00004441034990728205,
            0,
            null,
            0,
            0,
            null,
            0,
            0,
            null
           ],
           "z": [
            0,
            0,
            null,
            0,
            0,
            null,
            0,
            -0.001500858907884045,
            null,
            -0.001500858907884045,
            -0.004129413550584833,
            null,
            -0.004129413550584833,
            -0.007426675615077336,
            null,
            -0.007426675615077336,
            -0.010973484435492904,
            null,
            -0.010973484435492904,
            -0.014395834566249729,
            null,
            -0.014395834566249729,
            -0.017307878574463892,
            null,
            -0.017307878574463892,
            -0.0192956476046771,
            null,
            -0.0192956476046771,
            -0.020005743091952702,
            null,
            -0.020005743091952702,
            -0.019295085582593467,
            null,
            -0.019295085582593467,
            -0.017306919081203083,
            null,
            -0.017306919081203083,
            -0.014394710045200067,
            null,
            -0.014394710045200067,
            -0.010972402318184407,
            null,
            -0.010972402318184407,
            -0.007425791031627138,
            null,
            -0.007425791031627138,
            -0.004128833485531953,
            null,
            -0.004128833485531953,
            -0.0015006171818181644,
            null,
            -0.0015006171818181644,
            0,
            null,
            0,
            0,
            null,
            0,
            0,
            null
           ]
          },
          {
           "i": [],
           "j": [],
           "k": [],
           "name": "Faces",
           "type": "mesh3d",
           "x": {
            "bdata": "PLTIdr6fij8+30+Nl26SP11kO99PjZc/GK3+XeNtnD8zUXnYlGOgP2qANgdpT6I/awAQTogcpD9NKMkHg/mlP7C6fv9kDag/jjB7o85lqj95YI9Iiu2sP6mHfzlDda8/HXAqjNPmsD9ddP6NwvCxP/6QS5hA37I/v0bClNPFsz+XO2crwru0P1qeXkYX0rU/CtejcD0Ktz9SuB6F61G4P5qZmZmZmbk/",
            "dtype": "f8"
           },
           "y": {
            "bdata": "AAAAAAAAAAAAAAAAAAAAgAAAAAAAAACAhYPRQ4lLBz9glFAglVkcP5QJ4PWu5iU/3MgGF+GcKj9Sqqe5Q8wqP/IZxB542yU/+qazgtejGD84xZsqaUp4Ptijzc3mlxi/BE+6P9bVJb9XhQs6QMcqv1gKJFbCmCq/+G8fG6rjJb9Ekczu7lUcvxbq7gCoSAe/AAAAAAAAAAAAAAAAAAAAAAAAAAAAAAAA",
            "dtype": "f8"
           },
           "z": {
            "bdata": "AAAAAAAAAAAAAAAAAAAAgAAAAAAAAACAGak3+w6XWL+IOGwCAepwv9f3Jw5va36/5FgwJkR5hr/LDEk1kHuNv1gIwxEouZG/DD6r/TzCk78Emz+xYnyUv3H6M0YXwpO/YgvLree4kb+uSglH+XqNvzvX6+iyeIa/JlcLmoFqfr+I5KdMZelwvzL4D24Llli/AAAAAAAAAAAAAAAAAAAAAAAAAAAAAAAA",
            "dtype": "f8"
           }
          }
         ],
         "layout": {
          "annotations": [
           {
            "showarrow": false,
            "text": "Time: 0.24s (Step: 25/100)",
            "x": 0.05,
            "xref": "paper",
            "y": 0.95,
            "yref": "paper"
           }
          ]
         },
         "name": "24"
        },
        {
         "data": [
          {
           "name": "Free Nodes",
           "type": "scatter3d",
           "x": {
            "bdata": "9B5GUuRtnD94BaMQl2OgP1NguDtuT6I/tz+6vJAcpD9NhQpujfmlPxdT98FuDag/6xb8tNRlqj9xTRWgiu2sP68S9fg9da8/mInSN8/msD9yJ0MBvvCxP2nH3P8837I/AMYlcNHFsz8I6ppMwbu0P2Ie4hkX0rU/",
            "dtype": "f8"
           },
           "y": {
            "bdata": "JrXSvQJoCT99P0skEOseP3zuV1RL4ic/eeDvzhYFLT/Q0+jXrzctP6Kkh6bh0ic/cT1K+B7VGj94svs7KbN5vvDda99B4Rq/9KYuzQHYJ7/WkybHkTstv33iADyzBy2/NqkynMrjJ7+h9XlMY+wev55ss6i1aAm/",
            "dtype": "f8"
           },
           "z": {
            "bdata": "hXVnqVuWWL91G7/Jlulwv6uzdijPan6/rDwk5OJ4hr+XdFKsJnuNv+O3twHyuJG/ECnu/gbCk79MbuFnLXyUv/fC7f/iwZO/WK6qjbS4kb8WLtuhlnqNvyRtyUxYeIa/xNF7ouxpfr+eGzJOAulwv86rmEdklVi/",
            "dtype": "f8"
           }
          },
          {
           "name": "Fixed Nodes",
           "type": "scatter3d",
           "x": {
            "bdata": "PLTIdr6fij8+30+Nl26SP11kO99PjZc/CtejcD0Ktz9SuB6F61G4P5qZmZmZmbk/",
            "dtype": "f8"
           },
           "y": {
            "bdata": "AAAAAAAAAAAAAAAAAAAAgAAAAAAAAACAAAAAAAAAAAAAAAAAAAAAAAAAAAAAAAAA",
            "dtype": "f8"
           },
           "z": {
            "bdata": "AAAAAAAAAAAAAAAAAAAAgAAAAAAAAACAAAAAAAAAAAAAAAAAAAAAAAAAAAAAAAAA",
            "dtype": "f8"
           }
          },
          {
           "name": "Edges",
           "type": "scatter3d",
           "x": [
            0.013000000000000005,
            0.01800000000000001,
            null,
            0.01800000000000001,
            0.02300000000000001,
            null,
            0.02300000000000001,
            0.027762954255677166,
            null,
            0.027762954255677166,
            0.032009812146052974,
            null,
            0.032009812146052974,
            0.03576225737578,
            null,
            0.03576225737578,
            0.03928043655207552,
            null,
            0.03928043655207552,
            0.04291955917620758,
            null,
            0.04291955917620758,
            0.0469774829649962,
            null,
            0.0469774829649962,
            0.05155815800939741,
            null,
            0.05155815800939741,
            0.0564997978605345,
            null,
            0.0564997978605345,
            0.061441361084268,
            null,
            0.061441361084268,
            0.06602187264301163,
            null,
            0.06602187264301163,
            0.07007968455141425,
            null,
            0.07007968455141425,
            0.07371884581223544,
            null,
            0.07371884581223544,
            0.07723721492745739,
            null,
            0.07723721492745739,
            0.0809899150871517,
            null,
            0.0809899150871517,
            0.08523697263637467,
            null,
            0.08523697263637467,
            0.09,
            null,
            0.09,
            0.095,
            null,
            0.095,
            0.1,
            null
           ],
           "y": [
            0,
            0,
            null,
            0,
            0,
            null,
            0,
            0.0000484586559904388,
            null,
            0.0000484586559904388,
            0.00011794363042416478,
            null,
            0.00011794363042416478,
            0.0001822201685824815,
            null,
            0.0001822201685824815,
            0.00022140410825932983,
            null,
            0.00022140410825932983,
            0.00022291204000315793,
            null,
            0.00022291204000315793,
            0.00018176083109658787,
            null,
            0.00018176083109658787,
            0.00010235787892497684,
            null,
            0.00010235787892497684,
            -9.573939418654297e-8,
            null,
            -9.573939418654297e-8,
            -0.00010253872447295981,
            null,
            -0.00010253872447295981,
            -0.00018191358557589183,
            null,
            -0.00018191358557589183,
            -0.00022302774921203913,
            null,
            -0.00022302774921203913,
            -0.00022148192329198352,
            null,
            -0.00022148192329198352,
            -0.0001822647883263446,
            null,
            -0.0001822647883263446,
            -0.0001179633719576496,
            null,
            -0.0001179633719576496,
            -0.000048463863174774374,
            null,
            -0.000048463863174774374,
            0,
            null,
            0,
            0,
            null,
            0,
            0,
            null
           ],
           "z": [
            0,
            0,
            null,
            0,
            0,
            null,
            0,
            -0.0015006919035081845,
            null,
            -0.0015006919035081845,
            -0.004129017845065576,
            null,
            -0.004129017845065576,
            -0.007426079951454871,
            null,
            -0.007426079951454871,
            -0.010972759806945419,
            null,
            -0.010972759806945419,
            -0.014395048269131556,
            null,
            -0.014395048269131556,
            -0.01730707297786428,
            null,
            -0.01730707297786428,
            -0.01929484301539569,
            null,
            -0.01929484301539569,
            -0.020004949059837338,
            null,
            -0.020004949059837338,
            -0.019294306631709692,
            null,
            -0.019294306631709692,
            -0.017306157251978455,
            null,
            -0.017306157251978455,
            -0.01439397508092725,
            null,
            -0.01439397508092725,
            -0.010971727221820667,
            null,
            -0.010971727221820667,
            -0.007425236086181678,
            null,
            -0.007425236086181678,
            -0.004128464704200944,
            null,
            -0.004128464704200944,
            -0.0015004615110096767,
            null,
            -0.0015004615110096767,
            0,
            null,
            0,
            0,
            null,
            0,
            0,
            null
           ]
          },
          {
           "i": [],
           "j": [],
           "k": [],
           "name": "Faces",
           "type": "mesh3d",
           "x": {
            "bdata": "PLTIdr6fij8+30+Nl26SP11kO99PjZc/9B5GUuRtnD94BaMQl2OgP1NguDtuT6I/tz+6vJAcpD9NhQpujfmlPxdT98FuDag/6xb8tNRlqj9xTRWgiu2sP68S9fg9da8/mInSN8/msD9yJ0MBvvCxP2nH3P8837I/AMYlcNHFsz8I6ppMwbu0P2Ie4hkX0rU/CtejcD0Ktz9SuB6F61G4P5qZmZmZmbk/",
            "dtype": "f8"
           },
           "y": {
            "bdata": "AAAAAAAAAAAAAAAAAAAAgAAAAAAAAACAJrXSvQJoCT99P0skEOseP3zuV1RL4ic/eeDvzhYFLT/Q0+jXrzctP6Kkh6bh0ic/cT1K+B7VGj94svs7KbN5vvDda99B4Rq/9KYuzQHYJ7/WkybHkTstv33iADyzBy2/NqkynMrjJ7+h9XlMY+wev55ss6i1aAm/AAAAAAAAAAAAAAAAAAAAAAAAAAAAAAAA",
            "dtype": "f8"
           },
           "z": {
            "bdata": "AAAAAAAAAAAAAAAAAAAAgAAAAAAAAACAhXVnqVuWWL91G7/Jlulwv6uzdijPan6/rDwk5OJ4hr+XdFKsJnuNv+O3twHyuJG/ECnu/gbCk79MbuFnLXyUv/fC7f/iwZO/WK6qjbS4kb8WLtuhlnqNvyRtyUxYeIa/xNF7ouxpfr+eGzJOAulwv86rmEdklVi/AAAAAAAAAAAAAAAAAAAAAAAAAAAAAAAA",
            "dtype": "f8"
           }
          }
         ],
         "layout": {
          "annotations": [
           {
            "showarrow": false,
            "text": "Time: 0.25s (Step: 26/100)",
            "x": 0.05,
            "xref": "paper",
            "y": 0.95,
            "yref": "paper"
           }
          ]
         },
         "name": "25"
        },
        {
         "data": [
          {
           "name": "Free Nodes",
           "type": "scatter3d",
           "x": {
            "bdata": "/y7n0OZtnD9hq04unGOgP1/WnBh5T6I/4w1E86AcpD8LWUAhoPmlPy6dZaV/Dag/tiMl/N9lqj8hrHTzju2sPxXmlf48da8/vJnmr83msD8YzE3JvPCxP31e7qA837I/f5M3ttHFsz92EWezwbu0P92COkYX0rU/",
            "dtype": "f8"
           },
           "y": {
            "bdata": "WXXTLk+CCz/qKioz97wgP/N0Lfnu2yk/C5qZmf1qLz+ZxIZ97qAvP5yIsvm/yCk/63hd9WMFHT/V0yJaEoSRvsthZS4MJx2/HwMpmq7XKb/2qZ8bJ60vv/iEHaYedC+/zC97gfbhKb+mwOyYOMAgv2xxMALjhgu/",
            "dtype": "f8"
           },
           "z": {
            "bdata": "QYrY7E+VWL9kPGLL9+hwv/kapiffaX6/ZuE1yVB4hr9aH3wbinqNv2ik9HaluJG/C4K2AcLBk7+upsm283uUv6gl7+m0wZO/62rGJI+4kb9mev7nVXqNvwn6aLceeIa//o7mqI1pfr9dcuqqwuhwv0szNAj4lFi/",
            "dtype": "f8"
           }
          },
          {
           "name": "Fixed Nodes",
           "type": "scatter3d",
           "x": {
            "bdata": "PLTIdr6fij8+30+Nl26SP11kO99PjZc/CtejcD0Ktz9SuB6F61G4P5qZmZmZmbk/",
            "dtype": "f8"
           },
           "y": {
            "bdata": "AAAAAAAAAAAAAAAAAAAAgAAAAAAAAACAAAAAAAAAAAAAAAAAAAAAAAAAAAAAAAAA",
            "dtype": "f8"
           },
           "z": {
            "bdata": "AAAAAAAAAAAAAAAAAAAAgAAAAAAAAACAAAAAAAAAAAAAAAAAAAAAAAAAAAAAAAAA",
            "dtype": "f8"
           }
          },
          {
           "name": "Edges",
           "type": "scatter3d",
           "x": [
            0.013000000000000005,
            0.01800000000000001,
            null,
            0.01800000000000001,
            0.02300000000000001,
            null,
            0.02300000000000001,
            0.02776299142878624,
            null,
            0.02776299142878624,
            0.03200996461176576,
            null,
            0.03200996461176576,
            0.03576258111426677,
            null,
            0.03576258111426677,
            0.03928091973832772,
            null,
            0.03928091973832772,
            0.042920116480830904,
            null,
            0.042920116480830904,
            0.04697798627858628,
            null,
            0.04697798627858628,
            0.051558494119098894,
            null,
            0.051558494119098894,
            0.05649992677566496,
            null,
            0.05649992677566496,
            0.06144133193715732,
            null,
            0.06144133193715732,
            0.06602178139164655,
            null,
            0.06602178139164655,
            0.07007961191793333,
            null,
            0.07007961191793333,
            0.07371882370932244,
            null,
            0.07371882370932244,
            0.07723723124179392,
            null,
            0.07723723124179392,
            0.08098993902155435,
            null,
            0.08098993902155435,
            0.0852369829613155,
            null,
            0.0852369829613155,
            0.09,
            null,
            0.09,
            0.095,
            null,
            0.095,
            0.1,
            null
           ],
           "y": [
            0,
            0,
            null,
            0,
            0,
            null,
            0,
            0.000052469293089644604,
            null,
            0.000052469293089644604,
            0.00012770192696039763,
            null,
            0.00012770192696039763,
            0.000197289392043588,
            null,
            0.000197289392043588,
            0.0002396997995674641,
            null,
            0.0002396997995674641,
            0.0002413073659801909,
            null,
            0.0002413073659801909,
            0.0001967176766344878,
            null,
            0.0001967176766344878,
            0.00011070654485709527,
            null,
            0.00011070654485709527,
            -2.6100732431903566e-7,
            null,
            -2.6100732431903566e-7,
            -0.0001112080750308504,
            null,
            -0.0001112080750308504,
            -0.0001971626889645467,
            null,
            -0.0001971626889645467,
            -0.0002416715850011711,
            null,
            -0.0002416715850011711,
            -0.00023997186786587472,
            null,
            -0.00023997186786587472,
            -0.00019746908286888268,
            null,
            -0.00019746908286888268,
            -0.00012779894719861412,
            null,
            -0.00012779894719861412,
            -0.000052503397704325685,
            null,
            -0.000052503397704325685,
            0,
            null,
            0,
            0,
            null,
            0,
            0,
            null
           ],
           "z": [
            0,
            0,
            null,
            0,
            0,
            null,
            0,
            -0.0015004425544097452,
            null,
            -0.0015004425544097452,
            -0.004128425547732826,
            null,
            -0.004128425547732826,
            -0.007425185869925904,
            null,
            -0.007425185869925904,
            -0.010971671238380675,
            null,
            -0.010971671238380675,
            -0.014393881763240014,
            null,
            -0.014393881763240014,
            -0.01730593241260117,
            null,
            -0.01730593241260117,
            -0.019293814997242403,
            null,
            -0.019293814997242403,
            -0.020004089385486416,
            null,
            -0.020004089385486416,
            -0.019293619898041264,
            null,
            -0.019293619898041264,
            -0.017305599803516463,
            null,
            -0.017305599803516463,
            -0.014393492834469512,
            null,
            -0.014393492834469512,
            -0.01097129819129085,
            null,
            -0.01097129819129085,
            -0.007424882276982235,
            null,
            -0.007424882276982235,
            -0.004128227634876494,
            null,
            -0.004128227634876494,
            -0.0015003606975511781,
            null,
            -0.0015003606975511781,
            0,
            null,
            0,
            0,
            null,
            0,
            0,
            null
           ]
          },
          {
           "i": [],
           "j": [],
           "k": [],
           "name": "Faces",
           "type": "mesh3d",
           "x": {
            "bdata": "PLTIdr6fij8+30+Nl26SP11kO99PjZc//y7n0OZtnD9hq04unGOgP1/WnBh5T6I/4w1E86AcpD8LWUAhoPmlPy6dZaV/Dag/tiMl/N9lqj8hrHTzju2sPxXmlf48da8/vJnmr83msD8YzE3JvPCxP31e7qA837I/f5M3ttHFsz92EWezwbu0P92COkYX0rU/CtejcD0Ktz9SuB6F61G4P5qZmZmZmbk/",
            "dtype": "f8"
           },
           "y": {
            "bdata": "AAAAAAAAAAAAAAAAAAAAgAAAAAAAAACAWXXTLk+CCz/qKioz97wgP/N0Lfnu2yk/C5qZmf1qLz+ZxIZ97qAvP5yIsvm/yCk/63hd9WMFHT/V0yJaEoSRvsthZS4MJx2/HwMpmq7XKb/2qZ8bJ60vv/iEHaYedC+/zC97gfbhKb+mwOyYOMAgv2xxMALjhgu/AAAAAAAAAAAAAAAAAAAAAAAAAAAAAAAA",
            "dtype": "f8"
           },
           "z": {
            "bdata": "AAAAAAAAAAAAAAAAAAAAgAAAAAAAAACAQYrY7E+VWL9kPGLL9+hwv/kapiffaX6/ZuE1yVB4hr9aH3wbinqNv2ik9HaluJG/C4K2AcLBk7+upsm283uUv6gl7+m0wZO/62rGJI+4kb9mev7nVXqNvwn6aLceeIa//o7mqI1pfr9dcuqqwuhwv0szNAj4lFi/AAAAAAAAAAAAAAAAAAAAAAAAAAAAAAAA",
            "dtype": "f8"
           }
          }
         ],
         "layout": {
          "annotations": [
           {
            "showarrow": false,
            "text": "Time: 0.26s (Step: 27/100)",
            "x": 0.05,
            "xref": "paper",
            "y": 0.95,
            "yref": "paper"
           }
          ]
         },
         "name": "26"
        },
        {
         "data": [
          {
           "name": "Free Nodes",
           "type": "scatter3d",
           "x": {
            "bdata": "FGgz5ehtnD9+ROaQoGOgP/BlTKKCT6I/pLd9fa8cpD+D1HI1sfmlPwvBbz2PDag/iv8UM+plqj+JTrH6ke2sP4vpf/05da8//zfEusrmsD8KaXXwufCxP3EQS8Y637I/n+QP8NDFsz/bILmUwbu0P9pyEVAX0rU/",
            "dtype": "f8"
           },
           "y": {
            "bdata": "LuIzym2cDT/W4fVlTwQiP27BYS171Ss/MhS9lW/oMD9p55FRKAUxP+uReocAvys/0QbYiAo3Hz/s7dPBkZeavrhivQhQah+/KxVE9/bVK7/9hTdYrw4xvzRtkIGs7zC/FlwzcjvfK787BxJqsgkiv5guv20ypA2/",
            "dtype": "f8"
           },
           "z": {
            "bdata": "O6Rw202UWL+7TPihXuhwv+I5XR34aH6/8l7YJsR3hr+apOzK8nmNv4YMT19auJG/3tGM9HvBk79O+bN8tXuUv8eovdx+wZO/ixtEY1+4kb80qPK+/nmNv6gUZ+vPd4a/5xQ98Atpfr+kGCwibOhwvx/9V21llFi/",
            "dtype": "f8"
           }
          },
          {
           "name": "Fixed Nodes",
           "type": "scatter3d",
           "x": {
            "bdata": "PLTIdr6fij8+30+Nl26SP11kO99PjZc/CtejcD0Ktz9SuB6F61G4P5qZmZmZmbk/",
            "dtype": "f8"
           },
           "y": {
            "bdata": "AAAAAAAAAAAAAAAAAAAAgAAAAAAAAACAAAAAAAAAAAAAAAAAAAAAAAAAAAAAAAAA",
            "dtype": "f8"
           },
           "z": {
            "bdata": "AAAAAAAAAAAAAAAAAAAAgAAAAAAAAACAAAAAAAAAAAAAAAAAAAAAAAAAAAAAAAAA",
            "dtype": "f8"
           }
          },
          {
           "name": "Edges",
           "type": "scatter3d",
           "x": [
            0.013000000000000005,
            0.01800000000000001,
            null,
            0.01800000000000001,
            0.02300000000000001,
            null,
            0.02300000000000001,
            0.027763022412592944,
            null,
            0.027763022412592944,
            0.03201009529869568,
            null,
            0.03201009529869568,
            0.03576286536390316,
            null,
            0.03576286536390316,
            0.039281353062377705,
            null,
            0.039281353062377705,
            0.042920625471574624,
            null,
            0.042920625471574624,
            0.04697845101316219,
            null,
            0.04697845101316219,
            0.05155879853782526,
            null,
            0.05155879853782526,
            0.05650001702511271,
            null,
            0.05650001702511271,
            0.06144124240377654,
            null,
            0.06144124240377654,
            0.06602160510757925,
            null,
            0.06602160510757925,
            0.07007944222042198,
            null,
            0.07007944222042198,
            0.07371871319907243,
            null,
            0.07371871319907243,
            0.0772371851052349,
            null,
            0.0772371851052349,
            0.08098993187843766,
            null,
            0.08098993187843766,
            0.08523698525227577,
            null,
            0.08523698525227577,
            0.09,
            null,
            0.09,
            0.095,
            null,
            0.095,
            0.1,
            null
           ],
           "y": [
            0,
            0,
            null,
            0,
            0,
            null,
            0,
            0.00005647859622998453,
            null,
            0.00005647859622998453,
            0.00013745755402873203,
            null,
            0.00013745755402873203,
            0.0002123558867341934,
            null,
            0.0002123558867341934,
            0.0002579948829757899,
            null,
            0.0002579948829757899,
            0.0002597068246995489,
            null,
            0.0002597068246995489,
            0.00021168595752842022,
            null,
            0.00021168595752842022,
            0.0001190757922913358,
            null,
            0.0001190757922913358,
            -3.9625268917462466e-7,
            null,
            -3.9625268917462466e-7,
            -0.00011983979692099355,
            null,
            -0.00011983979692099355,
            -0.00021237029762503334,
            null,
            -0.00021237029762503334,
            -0.00026027470468478737,
            null,
            -0.00026027470468478737,
            -0.0002584262998099496,
            null,
            -0.0002584262998099496,
            -0.00021264649067262502,
            null,
            -0.00021264649067262502,
            -0.00013761809262651824,
            null,
            -0.00013761809262651824,
            -0.00005653647323774802,
            null,
            -0.00005653647323774802,
            0,
            null,
            0,
            0,
            null,
            0,
            0,
            null
           ],
           "z": [
            0,
            0,
            null,
            0,
            0,
            null,
            0,
            -0.0015002022098633677,
            null,
            -0.0015002022098633677,
            -0.004127854975666863,
            null,
            -0.004127854975666863,
            -0.007424325178205101,
            null,
            -0.007424325178205101,
            -0.010970623431645763,
            null,
            -0.010970623431645763,
            -0.014392754380951712,
            null,
            -0.014392754380951712,
            -0.017304813449083876,
            null,
            -0.017304813449083876,
            -0.019292771149780445,
            null,
            -0.019292771149780445,
            -0.02000316213251923,
            null,
            -0.02000316213251923,
            -0.01929281446738498,
            null,
            -0.01929281446738498,
            -0.01730488818523272,
            null,
            -0.01730488818523272,
            -0.01439284343935663,
            null,
            -0.01439284343935663,
            -0.010970711108607326,
            null,
            -0.010970711108607326,
            -0.007424399027347684,
            null,
            -0.007424399027347684,
            -0.004127905270030183,
            null,
            -0.004127905270030183,
            -0.0015002241610771528,
            null,
            -0.0015002241610771528,
            0,
            null,
            0,
            0,
            null,
            0,
            0,
            null
           ]
          },
          {
           "i": [],
           "j": [],
           "k": [],
           "name": "Faces",
           "type": "mesh3d",
           "x": {
            "bdata": "PLTIdr6fij8+30+Nl26SP11kO99PjZc/FGgz5ehtnD9+ROaQoGOgP/BlTKKCT6I/pLd9fa8cpD+D1HI1sfmlPwvBbz2PDag/iv8UM+plqj+JTrH6ke2sP4vpf/05da8//zfEusrmsD8KaXXwufCxP3EQS8Y637I/n+QP8NDFsz/bILmUwbu0P9pyEVAX0rU/CtejcD0Ktz9SuB6F61G4P5qZmZmZmbk/",
            "dtype": "f8"
           },
           "y": {
            "bdata": "AAAAAAAAAAAAAAAAAAAAgAAAAAAAAACALuIzym2cDT/W4fVlTwQiP27BYS171Ss/MhS9lW/oMD9p55FRKAUxP+uReocAvys/0QbYiAo3Hz/s7dPBkZeavrhivQhQah+/KxVE9/bVK7/9hTdYrw4xvzRtkIGs7zC/FlwzcjvfK787BxJqsgkiv5guv20ypA2/AAAAAAAAAAAAAAAAAAAAAAAAAAAAAAAA",
            "dtype": "f8"
           },
           "z": {
            "bdata": "AAAAAAAAAAAAAAAAAAAAgAAAAAAAAACAO6Rw202UWL+7TPihXuhwv+I5XR34aH6/8l7YJsR3hr+apOzK8nmNv4YMT19auJG/3tGM9HvBk79O+bN8tXuUv8eovdx+wZO/ixtEY1+4kb80qPK+/nmNv6gUZ+vPd4a/5xQ98Atpfr+kGCwibOhwvx/9V21llFi/AAAAAAAAAAAAAAAAAAAAAAAAAAAAAAAA",
            "dtype": "f8"
           }
          }
         ],
         "layout": {
          "annotations": [
           {
            "showarrow": false,
            "text": "Time: 0.27s (Step: 28/100)",
            "x": 0.05,
            "xref": "paper",
            "y": 0.95,
            "yref": "paper"
           }
          ]
         },
         "name": "27"
        },
        {
         "data": [
          {
           "name": "Free Nodes",
           "type": "scatter3d",
           "x": {
            "bdata": "fUweKOptnD8SV8V4o2OgP99K22aJT6I/7OhJZbocpD9VrFuavvmlPwWIZMibDag/iLidCfJlqj/yjw+Zku2sP305OKAzda8/4zLCcsXmsD98ro5otPCxP2wB6W4237I/+CINYM7Fsz+UgCOOwLu0P1op4RwX0rU/",
            "dtype": "f8"
           },
           "y": {
            "bdata": "tyw5S1m3Dz8b7dLjKkwjP5rpO9Hgzy0/cFYoF/IbMj9UsIaVgzoyP7o0IK6mti0/A2lR77C1ID8QF1hJbKCgvjG4qX7D1SC/rBTJqGrTLb/ASufCeEYyv/J0tQ0NJTK/cepqsy3cLb/+mYIP/FIjv8J32QQ3wQ+/",
            "dtype": "f8"
           },
           "z": {
            "bdata": "31Syb2mTWL9eXBVH1+dwv/9OmUosaH6/rxehJkh3hr+X7ttRbHmNv/hiqKgVuJG/MWp+sDfBk79oKW6gcnuUv/Pk38o9wZO/eSYkIiC4kb9oaD4VhXmNv2cUq0Vgd4a/0UDBYlRofr8SsxIk8udwv5cjsW2Xk1i/",
            "dtype": "f8"
           }
          },
          {
           "name": "Fixed Nodes",
           "type": "scatter3d",
           "x": {
            "bdata": "PLTIdr6fij8+30+Nl26SP11kO99PjZc/CtejcD0Ktz9SuB6F61G4P5qZmZmZmbk/",
            "dtype": "f8"
           },
           "y": {
            "bdata": "AAAAAAAAAAAAAAAAAAAAgAAAAAAAAACAAAAAAAAAAAAAAAAAAAAAAAAAAAAAAAAA",
            "dtype": "f8"
           },
           "z": {
            "bdata": "AAAAAAAAAAAAAAAAAAAAgAAAAAAAAACAAAAAAAAAAAAAAAAAAAAAAAAAAAAAAAAA",
            "dtype": "f8"
           }
          },
          {
           "name": "Edges",
           "type": "scatter3d",
           "x": [
            0.013000000000000005,
            0.01800000000000001,
            null,
            0.01800000000000001,
            0.02300000000000001,
            null,
            0.02300000000000001,
            0.027763041208868067,
            null,
            0.027763041208868067,
            0.03201018189672146,
            null,
            0.03201018189672146,
            0.03576306706022136,
            null,
            0.03576306706022136,
            0.039281678070396925,
            null,
            0.039281678070396925,
            0.042921024649182606,
            null,
            0.042921024649182606,
            0.04697882481765706,
            null,
            0.04697882481765706,
            0.051559032129135096,
            null,
            0.051559032129135096,
            0.056500035461596,
            null,
            0.056500035461596,
            0.061441052730617486,
            null,
            0.061441052730617486,
            0.06602129031871189,
            null,
            0.06602129031871189,
            0.07007911255521465,
            null,
            0.07007911255521465,
            0.07371845443504349,
            null,
            0.07371845443504349,
            0.07723703236582569,
            null,
            0.07723703236582569,
            0.08098987074072489,
            null,
            0.08098987074072489,
            0.08523697333399607,
            null,
            0.08523697333399607,
            0.09,
            null,
            0.09,
            0.095,
            null,
            0.095,
            0.1,
            null
           ],
           "y": [
            0,
            0,
            null,
            0,
            0,
            null,
            0,
            0.00006049386265923869,
            null,
            0.00006049386265923869,
            0.0001472284656410604,
            null,
            0.0001472284656410604,
            0.0002274476943212145,
            null,
            0.0002274476943212145,
            0.00027632389461138603,
            null,
            0.00027632389461138603,
            0.00027814590932951255,
            null,
            0.00027814590932951255,
            0.00022669586820748216,
            null,
            0.00022669586820748216,
            0.00012748513077804482,
            null,
            0.00012748513077804482,
            -4.955128526946274e-7,
            null,
            -4.955128526946274e-7,
            -0.00012844096575598396,
            null,
            -0.00012844096575598396,
            -0.00022755314820891348,
            null,
            -0.00022755314820891348,
            -0.0002788586452002022,
            null,
            -0.0002788586452002022,
            -0.0002768666142481522,
            null,
            -0.0002768666142481522,
            -0.00022781427261072158,
            null,
            -0.00022781427261072158,
            -0.0001474316302438466,
            null,
            -0.0001474316302438466,
            -0.000060567370934391375,
            null,
            -0.000060567370934391375,
            0,
            null,
            0,
            0,
            null,
            0,
            0,
            null
           ],
           "z": [
            0,
            0,
            null,
            0,
            0,
            null,
            0,
            -0.0014999894763481553,
            null,
            -0.0014999894763481553,
            -0.004127350738904216,
            null,
            -0.004127350738904216,
            -0.007423565877235693,
            null,
            -0.007423565877235693,
            -0.010969699553367322,
            null,
            -0.010969699553367322,
            -0.01439175247968842,
            null,
            -0.01439175247968842,
            -0.017303789538433784,
            null,
            -0.017303789538433784,
            -0.019291753909423007,
            null,
            -0.019291753909423007,
            -0.0200021658343216,
            null,
            -0.0200021658343216,
            -0.01929184485195363,
            null,
            -0.01929184485195363,
            -0.017303945621313297,
            null,
            -0.017303945621313297,
            -0.014391936980065093,
            null,
            -0.014391936980065093,
            -0.010969879270655803,
            null,
            -0.010969879270655803,
            -0.007423715240364185,
            null,
            -0.007423715240364185,
            -0.004127450812273963,
            null,
            -0.004127450812273963,
            -0.0015000323098936835,
            null,
            -0.0015000323098936835,
            0,
            null,
            0,
            0,
            null,
            0,
            0,
            null
           ]
          },
          {
           "i": [],
           "j": [],
           "k": [],
           "name": "Faces",
           "type": "mesh3d",
           "x": {
            "bdata": "PLTIdr6fij8+30+Nl26SP11kO99PjZc/fUweKOptnD8SV8V4o2OgP99K22aJT6I/7OhJZbocpD9VrFuavvmlPwWIZMibDag/iLidCfJlqj/yjw+Zku2sP305OKAzda8/4zLCcsXmsD98ro5otPCxP2wB6W4237I/+CINYM7Fsz+UgCOOwLu0P1op4RwX0rU/CtejcD0Ktz9SuB6F61G4P5qZmZmZmbk/",
            "dtype": "f8"
           },
           "y": {
            "bdata": "AAAAAAAAAAAAAAAAAAAAgAAAAAAAAACAtyw5S1m3Dz8b7dLjKkwjP5rpO9Hgzy0/cFYoF/IbMj9UsIaVgzoyP7o0IK6mti0/A2lR77C1ID8QF1hJbKCgvjG4qX7D1SC/rBTJqGrTLb/ASufCeEYyv/J0tQ0NJTK/cepqsy3cLb/+mYIP/FIjv8J32QQ3wQ+/AAAAAAAAAAAAAAAAAAAAAAAAAAAAAAAA",
            "dtype": "f8"
           },
           "z": {
            "bdata": "AAAAAAAAAAAAAAAAAAAAgAAAAAAAAACA31Syb2mTWL9eXBVH1+dwv/9OmUosaH6/rxehJkh3hr+X7ttRbHmNv/hiqKgVuJG/MWp+sDfBk79oKW6gcnuUv/Pk38o9wZO/eSYkIiC4kb9oaD4VhXmNv2cUq0Vgd4a/0UDBYlRofr8SsxIk8udwv5cjsW2Xk1i/AAAAAAAAAAAAAAAAAAAAAAAAAAAAAAAA",
            "dtype": "f8"
           }
          }
         ],
         "layout": {
          "annotations": [
           {
            "showarrow": false,
            "text": "Time: 0.28s (Step: 29/100)",
            "x": 0.05,
            "xref": "paper",
            "y": 0.95,
            "yref": "paper"
           }
          ]
         },
         "name": "28"
        },
        {
         "data": [
          {
           "name": "Free Nodes",
           "type": "scatter3d",
           "x": {
            "bdata": "58RrBOttnD+x1++rpWOgP858geOOT6I/93DcrsMcpD8oCthtyvmlP/8dTxKnDag/Deb91fhlqj8ioLPtke2sP2EDNTwrda8/W2+1vL7msD9WMUU+rfCxP4Ho4Zkw37I/9ervwcrFsz/Ir9QAv7u0P5+1xMYW0rU/",
            "dtype": "f8"
           },
           "y": {
            "bdata": "V1q76obpED92a4A+iZQkP9g0fdAiyy8/6nb1zQpQMz8EF6ttkXAzPxySSRHLry8/AOUD/lLRIT+g2UnWqqGivvbngcU/9SG/PH5iLvrPL7/DlKPU7H0zvzFZV5kxWjO/IfQ3QdLYL7/WDe21GpwkvzuVCer97hC/",
            "dtype": "f8"
           },
           "z": {
            "bdata": "WQTBmI2SWL8b8tQlVedwvxewwpFoZ36/lRQlIdF2hr/8fgyd6niNv+QXRy/St5G/nOoeM/LAk787AxQeK3uUv84so6z0wJO/Fsh3dda3kb9YtprT9HiNv7SaCj3bdoa/nDbXwHlnfr9Ps67+YOdwv0PRR5Kikli/",
            "dtype": "f8"
           }
          },
          {
           "name": "Fixed Nodes",
           "type": "scatter3d",
           "x": {
            "bdata": "PLTIdr6fij8+30+Nl26SP11kO99PjZc/CtejcD0Ktz9SuB6F61G4P5qZmZmZmbk/",
            "dtype": "f8"
           },
           "y": {
            "bdata": "AAAAAAAAAAAAAAAAAAAAgAAAAAAAAACAAAAAAAAAAAAAAAAAAAAAAAAAAAAAAAAA",
            "dtype": "f8"
           },
           "z": {
            "bdata": "AAAAAAAAAAAAAAAAAAAAgAAAAAAAAACAAAAAAAAAAAAAAAAAAAAAAAAAAAAAAAAA",
            "dtype": "f8"
           }
          },
          {
           "name": "Edges",
           "type": "scatter3d",
           "x": [
            0.013000000000000005,
            0.01800000000000001,
            null,
            0.01800000000000001,
            0.02300000000000001,
            null,
            0.02300000000000001,
            0.02776305403216819,
            null,
            0.02776305403216819,
            0.032010247457875514,
            null,
            0.032010247457875514,
            0.03576323058290996,
            null,
            0.03576323058290996,
            0.03928195485625168,
            null,
            0.03928195485625168,
            0.04292137709491711,
            null,
            0.04292137709491711,
            0.04697916124819911,
            null,
            0.04697916124819911,
            0.05155923473553168,
            null,
            0.05155923473553168,
            0.05650001551276797,
            null,
            0.05650001551276797,
            0.06144080266904584,
            null,
            0.06144080266904584,
            0.06602089030405749,
            null,
            0.06602089030405749,
            0.07007868547697646,
            null,
            0.07007868547697646,
            0.07371810681243753,
            null,
            0.07371810681243753,
            0.07723681673807532,
            null,
            0.07723681673807532,
            0.08098977823527698,
            null,
            0.08098977823527698,
            0.08523695328468371,
            null,
            0.08523695328468371,
            0.09,
            null,
            0.09,
            0.095,
            null,
            0.095,
            0.1,
            null
           ],
           "y": [
            0,
            0,
            null,
            0,
            0,
            null,
            0,
            0.00006451498000657176,
            null,
            0.00006451498000657176,
            0.0001570146116599243,
            null,
            0.0001570146116599243,
            0.00024256515484425453,
            null,
            0.00024256515484425453,
            0.00029468787939444677,
            null,
            0.00029468787939444677,
            0.0002966265725884295,
            null,
            0.0002966265725884295,
            0.0002417502770583204,
            null,
            0.0002417502770583204,
            0.00013593805397941333,
            null,
            0.00013593805397941333,
            -5.552623574951045e-7,
            null,
            -5.552623574951045e-7,
            -0.00013700869999749816,
            null,
            -0.00013700869999749816,
            -0.0002427094361267967,
            null,
            -0.0002427094361267967,
            -0.00029742271421035973,
            null,
            -0.00029742271421035973,
            -0.00029529295838183744,
            null,
            -0.00029529295838183744,
            -0.00024297300898004726,
            null,
            -0.00024297300898004726,
            -0.00015724016244621106,
            null,
            -0.00015724016244621106,
            -0.00006459641236629826,
            null,
            -0.00006459641236629826,
            0,
            null,
            0,
            0,
            null,
            0,
            0,
            null
           ],
           "z": [
            0,
            0,
            null,
            0,
            0,
            null,
            0,
            -0.0014997847347475639,
            null,
            -0.0014997847347475639,
            -0.0041268659672906395,
            null,
            -0.0041268659672906395,
            -0.007422836755875315,
            null,
            -0.007422836755875315,
            -0.01096881277465859,
            null,
            -0.01096881277465859,
            -0.014390786092519196,
            null,
            -0.014390786092519196,
            -0.017302784095384896,
            null,
            -0.017302784095384896,
            -0.019290718431629203,
            null,
            -0.019290718431629203,
            -0.02000110026438338,
            null,
            -0.02000110026438338,
            -0.01929075530715068,
            null,
            -0.01929075530715068,
            -0.017302847785636365,
            null,
            -0.017302847785636365,
            -0.014390862186100126,
            null,
            -0.014390862186100126,
            -0.01096888809236183,
            null,
            -0.01096888809236183,
            -0.007422900770917142,
            null,
            -0.007422900770917142,
            -0.0041269101010755335,
            null,
            -0.0041269101010755335,
            -0.0014998042689714087,
            null,
            -0.0014998042689714087,
            0,
            null,
            0,
            0,
            null,
            0,
            0,
            null
           ]
          },
          {
           "i": [],
           "j": [],
           "k": [],
           "name": "Faces",
           "type": "mesh3d",
           "x": {
            "bdata": "PLTIdr6fij8+30+Nl26SP11kO99PjZc/58RrBOttnD+x1++rpWOgP858geOOT6I/93DcrsMcpD8oCthtyvmlP/8dTxKnDag/Deb91fhlqj8ioLPtke2sP2EDNTwrda8/W2+1vL7msD9WMUU+rfCxP4Ho4Zkw37I/9ervwcrFsz/Ir9QAv7u0P5+1xMYW0rU/CtejcD0Ktz9SuB6F61G4P5qZmZmZmbk/",
            "dtype": "f8"
           },
           "y": {
            "bdata": "AAAAAAAAAAAAAAAAAAAAgAAAAAAAAACAV1q76obpED92a4A+iZQkP9g0fdAiyy8/6nb1zQpQMz8EF6ttkXAzPxySSRHLry8/AOUD/lLRIT+g2UnWqqGivvbngcU/9SG/PH5iLvrPL7/DlKPU7H0zvzFZV5kxWjO/IfQ3QdLYL7/WDe21GpwkvzuVCer97hC/AAAAAAAAAAAAAAAAAAAAAAAAAAAAAAAA",
            "dtype": "f8"
           },
           "z": {
            "bdata": "AAAAAAAAAAAAAAAAAAAAgAAAAAAAAACAWQTBmI2SWL8b8tQlVedwvxewwpFoZ36/lRQlIdF2hr/8fgyd6niNv+QXRy/St5G/nOoeM/LAk787AxQeK3uUv84so6z0wJO/Fsh3dda3kb9YtprT9HiNv7SaCj3bdoa/nDbXwHlnfr9Ps67+YOdwv0PRR5Kikli/AAAAAAAAAAAAAAAAAAAAAAAAAAAAAAAA",
            "dtype": "f8"
           }
          }
         ],
         "layout": {
          "annotations": [
           {
            "showarrow": false,
            "text": "Time: 0.29s (Step: 30/100)",
            "x": 0.05,
            "xref": "paper",
            "y": 0.95,
            "yref": "paper"
           }
          ]
         },
         "name": "29"
        },
        {
         "data": [
          {
           "name": "Free Nodes",
           "type": "scatter3d",
           "x": {
            "bdata": "7UKu7ettnD9zl/0AqGOgPz5Z17WUT6I/r4nVis0cpD9q8Pz81vmlPxpB6A+zDag/WtiIDQBmqj/prCozke2sP/ve70gida8/FkKjlLfmsD/V0L6ZpfCxP2CfpWAq37I/HUMS5cbFsz9oZUFYvbu0P3qKo2oW0rU/",
            "dtype": "f8"
           },
           "y": {
            "bdata": "bgJ41ZD3ET8SNQksK90lP5KHJ9Bw4zA/2GTna4GEND+ZMjKdG6c0P8xuO9EN1TA/kypXykTuIj90jpbYAkWjvoDLiSpoEyO/uBExIqvlML//2qCo37Q0vzivtAXyjjS/LNU+A3bqML8MTiTb6eQlvzGW/r8k/RG/",
            "dtype": "f8"
           },
           "z": {
            "bdata": "5po4rqORWL9hmJSwyuZwv7qKulOYZn6/oEmyf1J2hr9x0E+eYHiNv8Y0NmWKt5G/Pb+hQKjAk79fnYv/3nqUv3mpMdGmwJO/B1d9/Ye3kb8/Nt4pW3iNv6sMzYVNdoa/OVdg2JBmfr8BDoJdxuZwv9E64bOdkVi/",
            "dtype": "f8"
           }
          },
          {
           "name": "Fixed Nodes",
           "type": "scatter3d",
           "x": {
            "bdata": "PLTIdr6fij8+30+Nl26SP11kO99PjZc/CtejcD0Ktz9SuB6F61G4P5qZmZmZmbk/",
            "dtype": "f8"
           },
           "y": {
            "bdata": "AAAAAAAAAAAAAAAAAAAAgAAAAAAAAACAAAAAAAAAAAAAAAAAAAAAAAAAAAAAAAAA",
            "dtype": "f8"
           },
           "z": {
            "bdata": "AAAAAAAAAAAAAAAAAAAAgAAAAAAAAACAAAAAAAAAAAAAAAAAAAAAAAAAAAAAAAAA",
            "dtype": "f8"
           }
          },
          {
           "name": "Edges",
           "type": "scatter3d",
           "x": [
            0.013000000000000005,
            0.01800000000000001,
            null,
            0.01800000000000001,
            0.02300000000000001,
            null,
            0.02300000000000001,
            0.027763067609671777,
            null,
            0.027763067609671777,
            0.03201031696407499,
            null,
            0.03201031696407499,
            0.035763404080784586,
            null,
            0.035763404080784586,
            0.03928224868538465,
            null,
            0.03928224868538465,
            0.04292175138695671,
            null,
            0.04292175138695671,
            0.046979518596460504,
            null,
            0.046979518596460504,
            0.05155944981781664,
            null,
            0.05155944981781664,
            0.05649999379724042,
            null,
            0.05649999379724042,
            0.06144053593010131,
            null,
            0.06144053593010131,
            0.06602046374178658,
            null,
            0.06602046374178658,
            0.07007822993802233,
            null,
            0.07007822993802233,
            0.0737177358583927,
            null,
            0.0737177358583927,
            0.07723658649980476,
            null,
            0.07723658649980476,
            0.08098967938112411,
            null,
            0.08098967938112411,
            0.08523693183409789,
            null,
            0.08523693183409789,
            0.09,
            null,
            0.09,
            0.095,
            null,
            0.095,
            0.1,
            null
           ],
           "y": [
            0,
            0,
            null,
            0,
            0,
            null,
            0,
            0.00006853887077085962,
            null,
            0.00006853887077085962,
            0.00016680862428800812,
            null,
            0.00016680862428800812,
            0.0002576971457114381,
            null,
            0.0002576971457114381,
            0.00031307372765139235,
            null,
            0.00031307372765139235,
            0.00031513618632387493,
            null,
            0.00031513618632387493,
            0.0002568396314310661,
            null,
            0.0002568396314310661,
            0.00014443006254645906,
            null,
            0.00014443006254645906,
            -5.742780768047438e-7,
            null,
            -5.742780768047438e-7,
            -0.0001455368667567479,
            null,
            -0.0001455368667567479,
            -0.000257829933790778,
            null,
            -0.000257829933790778,
            -0.0003159566919096884,
            null,
            -0.0003159566919096884,
            -0.0003136959910132633,
            null,
            -0.0003136959910132633,
            -0.00025811558884510327,
            null,
            -0.00025811558884510327,
            -0.00016703943908479046,
            null,
            -0.00016703943908479046,
            -0.00006862198642795175,
            null,
            -0.00006862198642795175,
            0,
            null,
            0,
            0,
            null,
            0,
            0,
            null
           ],
           "z": [
            0,
            0,
            null,
            0,
            0,
            null,
            0,
            -0.0014995668833621078,
            null,
            -0.0014995668833621078,
            -0.004126350170997468,
            null,
            -0.004126350170997468,
            -0.007422060992811447,
            null,
            -0.007422060992811447,
            -0.010967869302736244,
            null,
            -0.010967869302736244,
            -0.014389757949153844,
            null,
            -0.014389757949153844,
            -0.01730171435115293,
            null,
            -0.01730171435115293,
            -0.01928961653214788,
            null,
            -0.01928961653214788,
            -0.01999996599888953,
            null,
            -0.01999996599888953,
            -0.01928959514445114,
            null,
            -0.01928959514445114,
            -0.01730167851140776,
            null,
            -0.01730167851140776,
            -0.014389717307291437,
            null,
            -0.014389717307291437,
            -0.010967832227498716,
            null,
            -0.010967832227498716,
            -0.007422033120766441,
            null,
            -0.007422033120766441,
            -0.004126334060973403,
            null,
            -0.004126334060973403,
            -0.001499561316012855,
            null,
            -0.001499561316012855,
            0,
            null,
            0,
            0,
            null,
            0,
            0,
            null
           ]
          },
          {
           "i": [],
           "j": [],
           "k": [],
           "name": "Faces",
           "type": "mesh3d",
           "x": {
            "bdata": "PLTIdr6fij8+30+Nl26SP11kO99PjZc/7UKu7ettnD9zl/0AqGOgPz5Z17WUT6I/r4nVis0cpD9q8Pz81vmlPxpB6A+zDag/WtiIDQBmqj/prCozke2sP/ve70gida8/FkKjlLfmsD/V0L6ZpfCxP2CfpWAq37I/HUMS5cbFsz9oZUFYvbu0P3qKo2oW0rU/CtejcD0Ktz9SuB6F61G4P5qZmZmZmbk/",
            "dtype": "f8"
           },
           "y": {
            "bdata": "AAAAAAAAAAAAAAAAAAAAgAAAAAAAAACAbgJ41ZD3ET8SNQksK90lP5KHJ9Bw4zA/2GTna4GEND+ZMjKdG6c0P8xuO9EN1TA/kypXykTuIj90jpbYAkWjvoDLiSpoEyO/uBExIqvlML//2qCo37Q0vzivtAXyjjS/LNU+A3bqML8MTiTb6eQlvzGW/r8k/RG/AAAAAAAAAAAAAAAAAAAAAAAAAAAAAAAA",
            "dtype": "f8"
           },
           "z": {
            "bdata": "AAAAAAAAAAAAAAAAAAAAgAAAAAAAAACA5po4rqORWL9hmJSwyuZwv7qKulOYZn6/oEmyf1J2hr9x0E+eYHiNv8Y0NmWKt5G/Pb+hQKjAk79fnYv/3nqUv3mpMdGmwJO/B1d9/Ye3kb8/Nt4pW3iNv6sMzYVNdoa/OVdg2JBmfr8BDoJdxuZwv9E64bOdkVi/AAAAAAAAAAAAAAAAAAAAAAAAAAAAAAAA",
            "dtype": "f8"
           }
          }
         ],
         "layout": {
          "annotations": [
           {
            "showarrow": false,
            "text": "Time: 0.30s (Step: 31/100)",
            "x": 0.05,
            "xref": "paper",
            "y": 0.95,
            "yref": "paper"
           }
          ]
         },
         "name": "30"
        },
        {
         "data": [
          {
           "name": "Free Nodes",
           "type": "scatter3d",
           "x": {
            "bdata": "oWVhEe1tnD/WG2nMqmOgP+wkuoCbT6I/dPcB1tgcpD9Si9Iv5fmlPwkffobADag/PvWoQwhmqj/zM2HmkO2sP74QT1wZda8/0ilNX7DmsD+evWLxnfCxP3oruTMk37I/JUJeHMPFsz+xrWW/u7u0P3gdDxQW0rU/",
            "dtype": "f8"
           },
           "y": {
            "bdata": "J4bPhp4FEz/B/Ish2yUnP2br6Tdl4TE/CurMiyO5NT+A7Wov7901P/A0cwSi0jE/BY+nP1MMJD9RgOZlhpSivrEvhkUgMCS/Go/fdqPiMb/KPuvhLus1v4nYjusswzW/qvHi4CLoMb8LXs1bSC0nv0VuY/L1ChO/",
            "dtype": "f8"
           },
           "z": {
            "bdata": "wIto1aKQWL8B0f+ZMuZwv1kQM32zZX6/y54xU8d1hr9+CWY3yXeNv9Zw5R08t5G/NAL5l1jAk7+6Dk9QjnqUvz2T1pBVwJO/RTah/ja3kb+HlIJmvXeNv3tX+Dy8dYa/iPd5CqJlfr/XyCzDJ+Zwv49lMAqSkFi/",
            "dtype": "f8"
           }
          },
          {
           "name": "Fixed Nodes",
           "type": "scatter3d",
           "x": {
            "bdata": "PLTIdr6fij8+30+Nl26SP11kO99PjZc/CtejcD0Ktz9SuB6F61G4P5qZmZmZmbk/",
            "dtype": "f8"
           },
           "y": {
            "bdata": "AAAAAAAAAAAAAAAAAAAAgAAAAAAAAACAAAAAAAAAAAAAAAAAAAAAAAAAAAAAAAAA",
            "dtype": "f8"
           },
           "z": {
            "bdata": "AAAAAAAAAAAAAAAAAAAAgAAAAAAAAACAAAAAAAAAAAAAAAAAAAAAAAAAAAAAAAAA",
            "dtype": "f8"
           }
          },
          {
           "name": "Edges",
           "type": "scatter3d",
           "x": [
            0.013000000000000005,
            0.01800000000000001,
            null,
            0.01800000000000001,
            0.02300000000000001,
            null,
            0.02300000000000001,
            0.027763084588831814,
            null,
            0.027763084588831814,
            0.03201040024992323,
            null,
            0.03201040024992323,
            0.03576360651374863,
            null,
            0.03576360651374863,
            0.039282585262283926,
            null,
            0.039282585262283926,
            0.042922174537372584,
            null,
            0.042922174537372584,
            0.04697991983181111,
            null,
            0.04697991983181111,
            0.05155969453742636,
            null,
            0.05155969453742636,
            0.05649998485805687,
            null,
            0.05649998485805687,
            0.06144026996438033,
            null,
            0.06144026996438033,
            0.06602003409094628,
            null,
            0.06602003409094628,
            0.070077773506219,
            null,
            0.070077773506219,
            0.07371736777092322,
            null,
            0.07371736777092322,
            0.07723636095602922,
            null,
            0.07723636095602922,
            0.08098958418638948,
            null,
            0.08098958418638948,
            0.08523691167567005,
            null,
            0.08523691167567005,
            0.09,
            null,
            0.09,
            0.095,
            null,
            0.095,
            0.1,
            null
           ],
           "y": [
            0,
            0,
            null,
            0,
            0,
            null,
            0,
            0.00007256298131565944,
            null,
            0.00007256298131565944,
            0.00017660427035790484,
            null,
            0.00017660427035790484,
            0.0002728340258852296,
            null,
            0.0002728340258852296,
            0.00033146970581624023,
            null,
            0.00033146970581624023,
            0.0003336628864578292,
            null,
            0.0003336628864578292,
            0.0002719541120768795,
            null,
            0.0002719541120768795,
            0.00015295520991209107,
            null,
            0.00015295520991209107,
            -5.537323877653852e-7,
            null,
            -5.537323877653852e-7,
            -0.0001540221590058378,
            null,
            -0.0001540221590058378,
            -0.00027290812329126975,
            null,
            -0.00027290812329126975,
            -0.00033445257751639186,
            null,
            -0.00033445257751639186,
            -0.00033206793483076723,
            null,
            -0.00033206793483076723,
            -0.0002732358124253551,
            null,
            -0.0002732358124253551,
            -0.00017682560237618247,
            null,
            -0.00017682560237618247,
            -0.00007264257564847897,
            null,
            -0.00007264257564847897,
            0,
            null,
            0,
            0,
            null,
            0,
            0,
            null
           ],
           "z": [
            0,
            0,
            null,
            0,
            0,
            null,
            0,
            -0.0014993276760228852,
            null,
            -0.0014993276760228852,
            -0.0041257835982728705,
            null,
            -0.0041257835982728705,
            -0.007421208504812504,
            null,
            -0.007421208504812504,
            -0.010966832376836952,
            null,
            -0.010966832376836952,
            -0.014388629916315617,
            null,
            -0.014388629916315617,
            -0.017300547909471962,
            null,
            -0.017300547909471962,
            -0.01928842952315986,
            null,
            -0.01928842952315986,
            -0.01999876370588425,
            null,
            -0.01999876370588425,
            -0.01928838440439339,
            null,
            -0.01928838440439339,
            -0.017300471583715078,
            null,
            -0.017300471583715078,
            -0.014388541880473461,
            null,
            -0.014388541880473461,
            -0.010966749773654296,
            null,
            -0.010966749773654296,
            -0.007421143505437551,
            null,
            -0.007421143505437551,
            -0.004125743219264253,
            null,
            -0.004125743219264253,
            -0.0014993120355540656,
            null,
            -0.0014993120355540656,
            0,
            null,
            0,
            0,
            null,
            0,
            0,
            null
           ]
          },
          {
           "i": [],
           "j": [],
           "k": [],
           "name": "Faces",
           "type": "mesh3d",
           "x": {
            "bdata": "PLTIdr6fij8+30+Nl26SP11kO99PjZc/oWVhEe1tnD/WG2nMqmOgP+wkuoCbT6I/dPcB1tgcpD9Si9Iv5fmlPwkffobADag/PvWoQwhmqj/zM2HmkO2sP74QT1wZda8/0ilNX7DmsD+evWLxnfCxP3oruTMk37I/JUJeHMPFsz+xrWW/u7u0P3gdDxQW0rU/CtejcD0Ktz9SuB6F61G4P5qZmZmZmbk/",
            "dtype": "f8"
           },
           "y": {
            "bdata": "AAAAAAAAAAAAAAAAAAAAgAAAAAAAAACAJ4bPhp4FEz/B/Ish2yUnP2br6Tdl4TE/CurMiyO5NT+A7Wov7901P/A0cwSi0jE/BY+nP1MMJD9RgOZlhpSivrEvhkUgMCS/Go/fdqPiMb/KPuvhLus1v4nYjusswzW/qvHi4CLoMb8LXs1bSC0nv0VuY/L1ChO/AAAAAAAAAAAAAAAAAAAAAAAAAAAAAAAA",
            "dtype": "f8"
           },
           "z": {
            "bdata": "AAAAAAAAAAAAAAAAAAAAgAAAAAAAAACAwIto1aKQWL8B0f+ZMuZwv1kQM32zZX6/y54xU8d1hr9+CWY3yXeNv9Zw5R08t5G/NAL5l1jAk7+6Dk9QjnqUvz2T1pBVwJO/RTah/ja3kb+HlIJmvXeNv3tX+Dy8dYa/iPd5CqJlfr/XyCzDJ+Zwv49lMAqSkFi/AAAAAAAAAAAAAAAAAAAAAAAAAAAAAAAA",
            "dtype": "f8"
           }
          }
         ],
         "layout": {
          "annotations": [
           {
            "showarrow": false,
            "text": "Time: 0.31s (Step: 32/100)",
            "x": 0.05,
            "xref": "paper",
            "y": 0.95,
            "yref": "paper"
           }
          ]
         },
         "name": "31"
        },
        {
         "data": [
          {
           "name": "Free Nodes",
           "type": "scatter3d",
           "x": {
            "bdata": "74B3Zu5tnD/M/l39rWOgP+DariOjT6I/lfVFZOUcpD89o+XX9PmlP/07jE7PDag/woMiWxFmqj800WPvkO2sP6WtgFoQda8/SWolCqnmsD93OlkvlvCxP9TaTP4d37I/OMl3WL/Fsz9EAkouuru0P/m14sAV0rU/",
            "dtype": "f8"
           },
           "y": {
            "bdata": "RkZkQp4TFD9XBK6Bgm4oP5TDPidc3zI/AoMPCdntNj+cMfIW8RQ3P0Bq0rKH0DI/F7ic+FErJT/8oA++hK6gvuRihQZ2SyW/NYW6peXeMr9u0nri1CA3v5HUBVHa9ja/3xSFD2jlMr+4F1dxK3Uov/O2vjpoGBS/",
            "dtype": "f8"
           },
           "z": {
            "bdata": "v1B24oyPWL/OxWH5jeVwv1t7CLa7ZH6/a3njnTB1hr+hiGB0JXeNv2ZxeMzntpG/DiUefwPAk7+HsskWOXqUv4yjoLIAwJO/adI0E+O2kb8eWNOYGneNvzk7fnomdYa/86bd26tkfr+ZExA3hOVwv2Z5yPZ9j1i/",
            "dtype": "f8"
           }
          },
          {
           "name": "Fixed Nodes",
           "type": "scatter3d",
           "x": {
            "bdata": "PLTIdr6fij8+30+Nl26SP11kO99PjZc/CtejcD0Ktz9SuB6F61G4P5qZmZmZmbk/",
            "dtype": "f8"
           },
           "y": {
            "bdata": "AAAAAAAAAAAAAAAAAAAAgAAAAAAAAACAAAAAAAAAAAAAAAAAAAAAAAAAAAAAAAAA",
            "dtype": "f8"
           },
           "z": {
            "bdata": "AAAAAAAAAAAAAAAAAAAAgAAAAAAAAACAAAAAAAAAAAAAAAAAAAAAAAAAAAAAAAAA",
            "dtype": "f8"
           }
          },
          {
           "name": "Edges",
           "type": "scatter3d",
           "x": [
            0.013000000000000005,
            0.01800000000000001,
            null,
            0.01800000000000001,
            0.02300000000000001,
            null,
            0.02300000000000001,
            0.027763104442670657,
            null,
            0.027763104442670657,
            0.03201049535618736,
            null,
            0.03201049535618736,
            0.03576383410056905,
            null,
            0.03576383410056905,
            0.03928295945204777,
            null,
            0.03928295945204777,
            0.04292264113866515,
            null,
            0.04292264113866515,
            0.046980360353806795,
            null,
            0.046980360353806795,
            0.051559965491157836,
            null,
            0.051559965491157836,
            0.0564999859069836,
            null,
            0.0564999859069836,
            0.06144000153320953,
            null,
            0.06144000153320953,
            0.06601959703167738,
            null,
            0.06601959703167738,
            0.0700773110959093,
            null,
            0.0700773110959093,
            0.0737169977045185,
            null,
            0.0737169977045185,
            0.07723613653050598,
            null,
            0.07723613653050598,
            0.08098949079613599,
            null,
            0.08098949079613599,
            0.08523689231034116,
            null,
            0.08523689231034116,
            0.09,
            null,
            0.09,
            0.095,
            null,
            0.095,
            0.1,
            null
           ],
           "y": [
            0,
            0,
            null,
            0,
            0,
            null,
            0,
            0.00007658627928133166,
            null,
            0.00007658627928133166,
            0.00018639891717600845,
            null,
            0.00018639891717600845,
            0.0002879714950224041,
            null,
            0.0002879714950224041,
            0.0003498701926770016,
            null,
            0.0003498701926770016,
            0.000352200374387457,
            null,
            0.000352200374387457,
            0.0002870875640127758,
            null,
            0.0002870875640127758,
            0.00016150832771572095,
            null,
            0.00016150832771572095,
            -4.971537884675751e-7,
            null,
            -4.971537884675751e-7,
            -0.00016246619930872848,
            null,
            -0.00016246619930872848,
            -0.0002879439032118126,
            null,
            -0.0002879439032118126,
            -0.0003529090631489211,
            null,
            -0.0003529090631489211,
            -0.000350406932759847,
            null,
            -0.000350406932759847,
            -0.00028833189528072555,
            null,
            -0.00028833189528072555,
            -0.0001865973978693572,
            null,
            -0.0001865973978693572,
            -0.00007665764013494915,
            null,
            -0.00007665764013494915,
            0,
            null,
            0,
            0,
            null,
            0,
            0,
            null
           ],
           "z": [
            0,
            0,
            null,
            0,
            0,
            null,
            0,
            -0.0014990688158365432,
            null,
            -0.0014990688158365432,
            -0.004125170313373739,
            null,
            -0.004125170313373739,
            -0.007420285459857147,
            null,
            -0.007420285459857147,
            -0.010965709513069929,
            null,
            -0.010965709513069929,
            -0.014387409795805719,
            null,
            -0.014387409795805719,
            -0.017299291472327914,
            null,
            -0.017299291472327914,
            -0.01928716147771064,
            null,
            -0.01928716147771064,
            -0.019997493759023512,
            null,
            -0.019997493759023512,
            -0.01928711977248869,
            null,
            -0.01928711977248869,
            -0.017299221083890624,
            null,
            -0.017299221083890624,
            -0.014387328900209492,
            null,
            -0.014387328900209492,
            -0.010965633977119903,
            null,
            -0.010965633977119903,
            -0.007420226405750563,
            null,
            -0.007420226405750563,
            -0.004125133958045612,
            null,
            -0.004125133958045612,
            -0.0014990549199250468,
            null,
            -0.0014990549199250468,
            0,
            null,
            0,
            0,
            null,
            0,
            0,
            null
           ]
          },
          {
           "i": [],
           "j": [],
           "k": [],
           "name": "Faces",
           "type": "mesh3d",
           "x": {
            "bdata": "PLTIdr6fij8+30+Nl26SP11kO99PjZc/74B3Zu5tnD/M/l39rWOgP+DariOjT6I/lfVFZOUcpD89o+XX9PmlP/07jE7PDag/woMiWxFmqj800WPvkO2sP6WtgFoQda8/SWolCqnmsD93OlkvlvCxP9TaTP4d37I/OMl3WL/Fsz9EAkouuru0P/m14sAV0rU/CtejcD0Ktz9SuB6F61G4P5qZmZmZmbk/",
            "dtype": "f8"
           },
           "y": {
            "bdata": "AAAAAAAAAAAAAAAAAAAAgAAAAAAAAACARkZkQp4TFD9XBK6Bgm4oP5TDPidc3zI/AoMPCdntNj+cMfIW8RQ3P0Bq0rKH0DI/F7ic+FErJT/8oA++hK6gvuRihQZ2SyW/NYW6peXeMr9u0nri1CA3v5HUBVHa9ja/3xSFD2jlMr+4F1dxK3Uov/O2vjpoGBS/AAAAAAAAAAAAAAAAAAAAAAAAAAAAAAAA",
            "dtype": "f8"
           },
           "z": {
            "bdata": "AAAAAAAAAAAAAAAAAAAAgAAAAAAAAACAv1B24oyPWL/OxWH5jeVwv1t7CLa7ZH6/a3njnTB1hr+hiGB0JXeNv2ZxeMzntpG/DiUefwPAk7+HsskWOXqUv4yjoLIAwJO/adI0E+O2kb8eWNOYGneNvzk7fnomdYa/86bd26tkfr+ZExA3hOVwv2Z5yPZ9j1i/AAAAAAAAAAAAAAAAAAAAAAAAAAAAAAAA",
            "dtype": "f8"
           }
          }
         ],
         "layout": {
          "annotations": [
           {
            "showarrow": false,
            "text": "Time: 0.32s (Step: 33/100)",
            "x": 0.05,
            "xref": "paper",
            "y": 0.95,
            "yref": "paper"
           }
          ]
         },
         "name": "32"
        },
        {
         "data": [
          {
           "name": "Free Nodes",
           "type": "scatter3d",
           "x": {
            "bdata": "Truh1e9tnD9uqYposWOgP9IdI0urT6I/+pU6xPIcpD8XS+p9BfqlP2AxkwLfDag/53tZCBtmqj+h99MOke2sPysLSvgGda8/z/i7YqHmsD9OulEYjvCxPys084cX37I/HZrBb7vFsz+xs1iPuLu0P6TGTmsV0rU/",
            "dtype": "f8"
           },
           "y": {
            "bdata": "C0dpIo4hFT/7H/ONHbcpPyO1JTdR3TM/Exbk2ZkiOD8XvnbHFEw4P/dA6nqtzjM/N6Ml0RVLJj+dCrFH+oWbvtwYF2WZZSa/DYE4VofaM780RUFl41U4v9fu+UMHKji/vw4Q7E3iM7/xfgu4m7wpv6Jo4kmBJRW/",
            "dtype": "f8"
           },
           "z": {
            "bdata": "boC9bWaOWL/u94KO3+Rwv60DKy21Y36/E6qq7ZB0hr/JGtv7d3aNvxWbVpKOtpG/sBgUoKm/k7+rqIJU33mUv9zGl4+nv5O/bwnRHIu2kb/bxgQgcHaNvyc52bWJdIa/8SN/Jqpjfr+Gs1b/2ORwv8pwVOtcjli/",
            "dtype": "f8"
           }
          },
          {
           "name": "Fixed Nodes",
           "type": "scatter3d",
           "x": {
            "bdata": "PLTIdr6fij8+30+Nl26SP11kO99PjZc/CtejcD0Ktz9SuB6F61G4P5qZmZmZmbk/",
            "dtype": "f8"
           },
           "y": {
            "bdata": "AAAAAAAAAAAAAAAAAAAAgAAAAAAAAACAAAAAAAAAAAAAAAAAAAAAAAAAAAAAAAAA",
            "dtype": "f8"
           },
           "z": {
            "bdata": "AAAAAAAAAAAAAAAAAAAAgAAAAAAAAACAAAAAAAAAAAAAAAAAAAAAAAAAAAAAAAAA",
            "dtype": "f8"
           }
          },
          {
           "name": "Edges",
           "type": "scatter3d",
           "x": [
            0.013000000000000005,
            0.01800000000000001,
            null,
            0.01800000000000001,
            0.02300000000000001,
            null,
            0.02300000000000001,
            0.02776312581448375,
            null,
            0.02776312581448375,
            0.032010597239905944,
            null,
            0.032010597239905944,
            0.03576407711221531,
            null,
            0.03576407711221531,
            0.03928335805293766,
            null,
            0.03928335805293766,
            0.04292313730288393,
            null,
            0.04292313730288393,
            0.04698082834656492,
            null,
            0.04698082834656492,
            0.05156025387690715,
            null,
            0.05156025387690715,
            0.05649998956685854,
            null,
            0.05649998956685854,
            0.06143972187876153,
            null,
            0.06143972187876153,
            0.06601914082054637,
            null,
            0.06601914082054637,
            0.07007682889682451,
            null,
            0.07007682889682451,
            0.07371661252109678,
            null,
            0.07371661252109678,
            0.07723590353416694,
            null,
            0.07723590353416694,
            0.08098939418478214,
            null,
            0.08098939418478214,
            0.08523687238519045,
            null,
            0.08523687238519045,
            0.09,
            null,
            0.09,
            0.095,
            null,
            0.095,
            0.1,
            null
           ],
           "y": [
            0,
            0,
            null,
            0,
            0,
            null,
            0,
            0.00008060865420958186,
            null,
            0.00008060865420958186,
            0.00019619212887378432,
            null,
            0.00019619212887378432,
            0.00030310852812117007,
            null,
            0.00030310852812117007,
            0.00036827331668151767,
            null,
            0.00036827331668151767,
            0.00037074572852710666,
            null,
            0.00037074572852710666,
            0.0003022359405031728,
            null,
            0.0003022359405031728,
            0.00017008439369738958,
            null,
            0.00017008439369738958,
            -4.1012987822914244e-7,
            null,
            -4.1012987822914244e-7,
            -0.0001708745717634079,
            null,
            -0.0001708745717634079,
            -0.0003029423153027157,
            null,
            -0.0003029423153027157,
            -0.0003713302769528693,
            null,
            -0.0003713302769528693,
            -0.0003687160242191573,
            null,
            -0.0003687160242191573,
            -0.0003034057845640973,
            null,
            -0.0003034057845640973,
            -0.00019635582795895321,
            null,
            -0.00019635582795895321,
            -0.00008066751112992485,
            null,
            -0.00008066751112992485,
            0,
            null,
            0,
            0,
            null,
            0,
            0,
            null
           ],
           "z": [
            0,
            0,
            null,
            0,
            0,
            null,
            0,
            -0.0014987945823677034,
            null,
            -0.0014987945823677034,
            -0.00412452055769384,
            null,
            -0.00412452055769384,
            -0.007419307442149509,
            null,
            -0.007419307442149509,
            -0.010964519742022316,
            null,
            -0.010964519742022316,
            -0.014386117337733666,
            null,
            -0.014386117337733666,
            -0.017297961885243646,
            null,
            -0.017297961885243646,
            -0.019285822291771282,
            null,
            -0.019285822291771282,
            -0.019996156247238755,
            null,
            -0.019996156247238755,
            -0.019285791529859306,
            null,
            -0.019285791529859306,
            -0.017297910341093677,
            null,
            -0.017297910341093677,
            -0.014386058785564362,
            null,
            -0.014386058785564362,
            -0.010964465963436766,
            null,
            -0.010964465963436766,
            -0.007419266366874831,
            null,
            -0.007419266366874831,
            -0.004124496122511872,
            null,
            -0.004124496122511872,
            -0.001498785726034279,
            null,
            -0.001498785726034279,
            0,
            null,
            0,
            0,
            null,
            0,
            0,
            null
           ]
          },
          {
           "i": [],
           "j": [],
           "k": [],
           "name": "Faces",
           "type": "mesh3d",
           "x": {
            "bdata": "PLTIdr6fij8+30+Nl26SP11kO99PjZc/Truh1e9tnD9uqYposWOgP9IdI0urT6I/+pU6xPIcpD8XS+p9BfqlP2AxkwLfDag/53tZCBtmqj+h99MOke2sPysLSvgGda8/z/i7YqHmsD9OulEYjvCxPys084cX37I/HZrBb7vFsz+xs1iPuLu0P6TGTmsV0rU/CtejcD0Ktz9SuB6F61G4P5qZmZmZmbk/",
            "dtype": "f8"
           },
           "y": {
            "bdata": "AAAAAAAAAAAAAAAAAAAAgAAAAAAAAACAC0dpIo4hFT/7H/ONHbcpPyO1JTdR3TM/Exbk2ZkiOD8XvnbHFEw4P/dA6nqtzjM/N6Ml0RVLJj+dCrFH+oWbvtwYF2WZZSa/DYE4VofaM780RUFl41U4v9fu+UMHKji/vw4Q7E3iM7/xfgu4m7wpv6Jo4kmBJRW/AAAAAAAAAAAAAAAAAAAAAAAAAAAAAAAA",
            "dtype": "f8"
           },
           "z": {
            "bdata": "AAAAAAAAAAAAAAAAAAAAgAAAAAAAAACAboC9bWaOWL/u94KO3+Rwv60DKy21Y36/E6qq7ZB0hr/JGtv7d3aNvxWbVpKOtpG/sBgUoKm/k7+rqIJU33mUv9zGl4+nv5O/bwnRHIu2kb/bxgQgcHaNvyc52bWJdIa/8SN/Jqpjfr+Gs1b/2ORwv8pwVOtcjli/AAAAAAAAAAAAAAAAAAAAAAAAAAAAAAAA",
            "dtype": "f8"
           }
          }
         ],
         "layout": {
          "annotations": [
           {
            "showarrow": false,
            "text": "Time: 0.33s (Step: 34/100)",
            "x": 0.05,
            "xref": "paper",
            "y": 0.95,
            "yref": "paper"
           }
          ]
         },
         "name": "33"
        },
        {
         "data": [
          {
           "name": "Free Nodes",
           "type": "scatter3d",
           "x": {
            "bdata": "744gUfFtnD/dJF/0tGOgP3cRwcWzT6I/Wg7osgAdpD826GfbFvqlP+molmbvDag/zxWQHiVmqj/KzBgfke2sP1DY8Aj9dK8/V+UPS5nmsD8OpAKJhfCxP/vWGK8Q37I/faV2SbfFsz8jD7fVtru0P3jW3A8V0rU/",
            "dtype": "f8"
           },
           "y": {
            "bdata": "6nwrSG0vFj+/u9Cnqf8qP5fitatA2zQ/EuPySV5XOT9EOAwYTYM5Px6QeMP/zDQ/XFt86GprJz9DEXLfzx6UvgJbHPfLfie/rfWyPKjVNL8eWwhEdoo5v0Dckc7JXDm/FYgOtOPeNL+N2fpBqgMrv+ylln9NMha/",
            "dtype": "f8"
           },
           "z": {
            "bdata": "j/8yLTKNWL/GJOv4KORwvzh8Y1uiYn6/rsUbxelzhr8KdRlfwnWNvydTfhoxtpG/JVzfXku/k79ys0EJgXmUvxCcK8NJv5O/zSKqby62kb/yrrRovHWNv5FWFWrkc4a/MC8ebZpifr8a4Rl5JORwv6OESSssjVi/",
            "dtype": "f8"
           }
          },
          {
           "name": "Fixed Nodes",
           "type": "scatter3d",
           "x": {
            "bdata": "PLTIdr6fij8+30+Nl26SP11kO99PjZc/CtejcD0Ktz9SuB6F61G4P5qZmZmZmbk/",
            "dtype": "f8"
           },
           "y": {
            "bdata": "AAAAAAAAAAAAAAAAAAAAgAAAAAAAAACAAAAAAAAAAAAAAAAAAAAAAAAAAAAAAAAA",
            "dtype": "f8"
           },
           "z": {
            "bdata": "AAAAAAAAAAAAAAAAAAAAgAAAAAAAAACAAAAAAAAAAAAAAAAAAAAAAAAAAAAAAAAA",
            "dtype": "f8"
           }
          },
          {
           "name": "Edges",
           "type": "scatter3d",
           "x": [
            0.013000000000000005,
            0.01800000000000001,
            null,
            0.01800000000000001,
            0.02300000000000001,
            null,
            0.02300000000000001,
            0.027763147904024284,
            null,
            0.027763147904024284,
            0.03201070292522854,
            null,
            0.03201070292522854,
            0.03576432980529181,
            null,
            0.03576432980529181,
            0.039283773268860414,
            null,
            0.039283773268860414,
            0.042923654826111976,
            null,
            0.042923654826111976,
            0.04698131682683188,
            null,
            0.04698131682683188,
            0.05156055448609786,
            null,
            0.05156055448609786,
            0.05649999146080516,
            null,
            0.05649999146080516,
            0.061439425794035274,
            null,
            0.061439425794035274,
            0.06601865847178111,
            null,
            0.06601865847178111,
            0.07007631869295514,
            null,
            0.07007631869295514,
            0.07371620440320818,
            null,
            0.07371620440320818,
            0.07723565619985169,
            null,
            0.07723565619985169,
            0.08098929135945503,
            null,
            0.08098929135945503,
            0.08523685109397572,
            null,
            0.08523685109397572,
            0.09,
            null,
            0.09,
            0.095,
            null,
            0.095,
            0.1,
            null
           ],
           "y": [
            0,
            0,
            null,
            0,
            0,
            null,
            0,
            0.0000846300554644301,
            null,
            0.0000846300554644301,
            0.00020598360052434363,
            null,
            0.00020598360052434363,
            0.00031824425578678414,
            null,
            0.00031824425578678414,
            0.0003866772839944836,
            null,
            0.0003866772839944836,
            0.00038929588485892377,
            null,
            0.00038929588485892377,
            0.00031739467837810394,
            null,
            0.00031739467837810394,
            0.00017867736846063464,
            null,
            0.00017867736846063464,
            -2.998167185147124e-7,
            null,
            -2.998167185147124e-7,
            -0.00017925491152289563,
            null,
            -0.00017925491152289563,
            -0.00031791074134076663,
            null,
            -0.00031791074134076663,
            -0.000389722703432781,
            null,
            -0.000389722703432781,
            -0.000387000340715319,
            null,
            -0.000387000340715319,
            -0.000318461028706919,
            null,
            -0.000318461028706919,
            -0.00020610287991980024,
            null,
            -0.00020610287991980024,
            -0.00008467290890359192,
            null,
            -0.00008467290890359192,
            0,
            null,
            0,
            0,
            null,
            0,
            0,
            null
           ],
           "z": [
            0,
            0,
            null,
            0,
            0,
            null,
            0,
            -0.0014985075002158265,
            null,
            -0.0014985075002158265,
            -0.004123840377993909,
            null,
            -0.004123840377993909,
            -0.00741828365991553,
            null,
            -0.00741828365991553,
            -0.010963274314664453,
            null,
            -0.010963274314664453,
            -0.014384764220432906,
            null,
            -0.014384764220432906,
            -0.01729656910136437,
            null,
            -0.01729656910136437,
            -0.01928441778713021,
            null,
            -0.01928441778713021,
            -0.019994751157742248,
            null,
            -0.019994751157742248,
            -0.019284393822911083,
            null,
            -0.019284393822911083,
            -0.017296529355493463,
            null,
            -0.017296529355493463,
            -0.014384719796530974,
            null,
            -0.014384719796530974,
            -0.010963234412581431,
            null,
            -0.010963234412581431,
            -0.007418254115588316,
            null,
            -0.007418254115588316,
            -0.00412382361684418,
            null,
            -0.00412382361684418,
            -0.0014985019053244473,
            null,
            -0.0014985019053244473,
            0,
            null,
            0,
            0,
            null,
            0,
            0,
            null
           ]
          },
          {
           "i": [],
           "j": [],
           "k": [],
           "name": "Faces",
           "type": "mesh3d",
           "x": {
            "bdata": "PLTIdr6fij8+30+Nl26SP11kO99PjZc/744gUfFtnD/dJF/0tGOgP3cRwcWzT6I/Wg7osgAdpD826GfbFvqlP+molmbvDag/zxWQHiVmqj/KzBgfke2sP1DY8Aj9dK8/V+UPS5nmsD8OpAKJhfCxP/vWGK8Q37I/faV2SbfFsz8jD7fVtru0P3jW3A8V0rU/CtejcD0Ktz9SuB6F61G4P5qZmZmZmbk/",
            "dtype": "f8"
           },
           "y": {
            "bdata": "AAAAAAAAAAAAAAAAAAAAgAAAAAAAAACA6nwrSG0vFj+/u9Cnqf8qP5fitatA2zQ/EuPySV5XOT9EOAwYTYM5Px6QeMP/zDQ/XFt86GprJz9DEXLfzx6UvgJbHPfLfie/rfWyPKjVNL8eWwhEdoo5v0Dckc7JXDm/FYgOtOPeNL+N2fpBqgMrv+ylln9NMha/AAAAAAAAAAAAAAAAAAAAAAAAAAAAAAAA",
            "dtype": "f8"
           },
           "z": {
            "bdata": "AAAAAAAAAAAAAAAAAAAAgAAAAAAAAACAj/8yLTKNWL/GJOv4KORwvzh8Y1uiYn6/rsUbxelzhr8KdRlfwnWNvydTfhoxtpG/JVzfXku/k79ys0EJgXmUvxCcK8NJv5O/zSKqby62kb/yrrRovHWNv5FWFWrkc4a/MC8ebZpifr8a4Rl5JORwv6OESSssjVi/AAAAAAAAAAAAAAAAAAAAAAAAAAAAAAAA",
            "dtype": "f8"
           }
          }
         ],
         "layout": {
          "annotations": [
           {
            "showarrow": false,
            "text": "Time: 0.34s (Step: 35/100)",
            "x": 0.05,
            "xref": "paper",
            "y": 0.95,
            "yref": "paper"
           }
          ]
         },
         "name": "34"
        },
        {
         "data": [
          {
           "name": "Free Nodes",
           "type": "scatter3d",
           "x": {
            "bdata": "lmdt1/JtnD+Fmv+duGOgP2R5+Y28T6I/8rSzKA8dpD/H103oKPqlP/RqrHMADqg/q6ScmC9mqj9r7e0bke2sPyxNe4fydK8/1JDNv5DmsD9pIn19fPCxP1vE+G8J37I/NWLJ4rLFsz/Yie3/tLu0P6jIJq4U0rU/",
            "dtype": "f8"
           },
           "y": {
            "bdata": "5if1jzQ9Fz8xuCSAHEgsP64O+cEg2TU/SwSkFxeMOj8gT4bJhLo6PwofY2ljyzU/g30vJRGMKD94/34XK2eHvnAkcGxUlyi/BlIoTWnQNb9rRPXHqb46v6UAtgQ4jzq/2bcolDjbNb9BB5kRaEosvyPr70HZPhe/",
            "dtype": "f8"
           },
           "z": {
            "bdata": "ZQyGdPCLWL88hwBrauNwv+aUzY2DYX6/3Pl2Uztzhr9KrEfPBHWNv88SA3rPtZG/1AsayOi+k79enZw1HnmUv/ty0UHnvpO/AdR398y1kb9fxLVC/3SNvzzjdGg2c4a/g4/rYnxhfr+hyMNxZuNwvwWpzWHri1i/",
            "dtype": "f8"
           }
          },
          {
           "name": "Fixed Nodes",
           "type": "scatter3d",
           "x": {
            "bdata": "PLTIdr6fij8+30+Nl26SP11kO99PjZc/CtejcD0Ktz9SuB6F61G4P5qZmZmZmbk/",
            "dtype": "f8"
           },
           "y": {
            "bdata": "AAAAAAAAAAAAAAAAAAAAgAAAAAAAAACAAAAAAAAAAAAAAAAAAAAAAAAAAAAAAAAA",
            "dtype": "f8"
           },
           "z": {
            "bdata": "AAAAAAAAAAAAAAAAAAAAgAAAAAAAAACAAAAAAAAAAAAAAAAAAAAAAAAAAAAAAAAA",
            "dtype": "f8"
           }
          },
          {
           "name": "Edges",
           "type": "scatter3d",
           "x": [
            0.013000000000000005,
            0.01800000000000001,
            null,
            0.01800000000000001,
            0.02300000000000001,
            null,
            0.02300000000000001,
            0.027763170622484866,
            null,
            0.027763170622484866,
            0.03201081207935367,
            null,
            0.03201081207935367,
            0.03576459153258574,
            null,
            0.03576459153258574,
            0.03928420421457614,
            null,
            0.03928420421457614,
            0.042924192769461515,
            null,
            0.042924192769461515,
            0.04698182498960604,
            null,
            0.04698182498960604,
            0.051560866717701735,
            null,
            0.051560866717701735,
            0.056499991092063016,
            null,
            0.056499991092063016,
            0.06143911269978228,
            null,
            0.06143911269978228,
            0.06601814921083654,
            null,
            0.06601814921083654,
            0.07007577956859169,
            null,
            0.07007577956859169,
            0.0737157724731942,
            null,
            0.0737157724731942,
            0.07723539387496532,
            null,
            0.07723539387496532,
            0.08098918197860117,
            null,
            0.08098918197860117,
            0.08523682834382618,
            null,
            0.08523682834382618,
            0.09,
            null,
            0.09,
            0.095,
            null,
            0.095,
            0.1,
            null
           ],
           "y": [
            0,
            0,
            null,
            0,
            0,
            null,
            0,
            0.00008865006747274493,
            null,
            0.00008865006747274493,
            0.00021577213198881306,
            null,
            0.00021577213198881306,
            0.00033337640522666356,
            null,
            0.00033337640522666356,
            0.0004050785424994415,
            null,
            0.0004050785424994415,
            0.00040784589648378174,
            null,
            0.00040784589648378174,
            0.0003325574592847191,
            null,
            0.0003325574592847191,
            0.00018727978985476007,
            null,
            0.00018727978985476007,
            -1.7436594723467176e-7,
            null,
            -1.7436594723467176e-7,
            -0.00018761544762949415,
            null,
            -0.00018761544762949415,
            -0.0003328568538177038,
            null,
            -0.0003328568538177038,
            -0.0004080929283719117,
            null,
            -0.0004080929283719117,
            -0.0004052650226285071,
            null,
            -0.0004052650226285071,
            -0.00033350116078423097,
            null,
            -0.00033350116078423097,
            -0.00021584053392769735,
            null,
            -0.00021584053392769735,
            -0.00008867455515819112,
            null,
            -0.00008867455515819112,
            0,
            null,
            0,
            0,
            null,
            0,
            0,
            null
           ],
           "z": [
            0,
            0,
            null,
            0,
            0,
            null,
            0,
            -0.001498207873823509,
            null,
            -0.001498207873823509,
            -0.004123130507680813,
            null,
            -0.004123130507680813,
            -0.007417215235226515,
            null,
            -0.007417215235226515,
            -0.01096197460617259,
            null,
            -0.01096197460617259,
            -0.014383351875002632,
            null,
            -0.014383351875002632,
            -0.01729511434747871,
            null,
            -0.01729511434747871,
            -0.019282948697320126,
            null,
            -0.019282948697320126,
            -0.019993278524592532,
            null,
            -0.019993278524592532,
            -0.01928292597982571,
            null,
            -0.01928292597982571,
            -0.01729507694649968,
            null,
            -0.01729507694649968,
            -0.0143833105309758,
            null,
            -0.0143833105309758,
            -0.010961937964212624,
            null,
            -0.010961937964212624,
            -0.007417188534166177,
            null,
            -0.007417188534166177,
            -0.004123115704930098,
            null,
            -0.004123115704930098,
            -0.0014982031491067038,
            null,
            -0.0014982031491067038,
            0,
            null,
            0,
            0,
            null,
            0,
            0,
            null
           ]
          },
          {
           "i": [],
           "j": [],
           "k": [],
           "name": "Faces",
           "type": "mesh3d",
           "x": {
            "bdata": "PLTIdr6fij8+30+Nl26SP11kO99PjZc/lmdt1/JtnD+Fmv+duGOgP2R5+Y28T6I/8rSzKA8dpD/H103oKPqlP/RqrHMADqg/q6ScmC9mqj9r7e0bke2sPyxNe4fydK8/1JDNv5DmsD9pIn19fPCxP1vE+G8J37I/NWLJ4rLFsz/Yie3/tLu0P6jIJq4U0rU/CtejcD0Ktz9SuB6F61G4P5qZmZmZmbk/",
            "dtype": "f8"
           },
           "y": {
            "bdata": "AAAAAAAAAAAAAAAAAAAAgAAAAAAAAACA5if1jzQ9Fz8xuCSAHEgsP64O+cEg2TU/SwSkFxeMOj8gT4bJhLo6PwofY2ljyzU/g30vJRGMKD94/34XK2eHvnAkcGxUlyi/BlIoTWnQNb9rRPXHqb46v6UAtgQ4jzq/2bcolDjbNb9BB5kRaEosvyPr70HZPhe/AAAAAAAAAAAAAAAAAAAAAAAAAAAAAAAA",
            "dtype": "f8"
           },
           "z": {
            "bdata": "AAAAAAAAAAAAAAAAAAAAgAAAAAAAAACAZQyGdPCLWL88hwBrauNwv+aUzY2DYX6/3Pl2Uztzhr9KrEfPBHWNv88SA3rPtZG/1AsayOi+k79enZw1HnmUv/ty0UHnvpO/AdR398y1kb9fxLVC/3SNvzzjdGg2c4a/g4/rYnxhfr+hyMNxZuNwvwWpzWHri1i/AAAAAAAAAAAAAAAAAAAAAAAAAAAAAAAA",
            "dtype": "f8"
           }
          }
         ],
         "layout": {
          "annotations": [
           {
            "showarrow": false,
            "text": "Time: 0.35s (Step: 36/100)",
            "x": 0.05,
            "xref": "paper",
            "y": 0.95,
            "yref": "paper"
           }
          ]
         },
         "name": "35"
        },
        {
         "data": [
          {
           "name": "Free Nodes",
           "type": "scatter3d",
           "x": {
            "bdata": "yaBvbPRtnD+4kKVsvGOgPzsJrbHFT6I/guNbOB4dpD8bjDq4O/qlP+p/dDoSDqg/ivbtgjpmqj+5nvwPke2sP4OM3IDndK8/PzytyYfmsD/P9Pj/cvCxP7ZaP9QB37I/+nLTQq7Fsz8wk6YRs7u0PwcPKEcU0rU/",
            "dtype": "f8"
           },
           "y": {
            "bdata": "1QdqGddKGD92GIu8ZJAtP1BIYzfi1jY/pk4WN67AOz+MeQSTn/E7P3gQlyu3yTY/oUwNBMCsKT/Ys6FfALxmvu9fK214rym/MVRRQ+nKNr+27Y0hl/I7v3jHGtNkwTu/NFWlKVnXNr8cDSr24pAtv8CpEnQuSxi/",
            "dtype": "f8"
           },
           "z": {
            "bdata": "PzROjKCKWL8sXjt3o+Jwvw9h8x1YYH6/t4gmM4Vyhr++MyPjPnSNv6SHX4RptZG/6oiYwoG+k79IorTbtniUv7wB4iiAvpO/Pmi25Ga1kb8ITqMeOXSNvyFWER2Acoa/POPFuFBgfr8b0Y9dn+Jwv2RaFlGbili/",
            "dtype": "f8"
           }
          },
          {
           "name": "Fixed Nodes",
           "type": "scatter3d",
           "x": {
            "bdata": "PLTIdr6fij8+30+Nl26SP11kO99PjZc/CtejcD0Ktz9SuB6F61G4P5qZmZmZmbk/",
            "dtype": "f8"
           },
           "y": {
            "bdata": "AAAAAAAAAAAAAAAAAAAAgAAAAAAAAACAAAAAAAAAAAAAAAAAAAAAAAAAAAAAAAAA",
            "dtype": "f8"
           },
           "z": {
            "bdata": "AAAAAAAAAAAAAAAAAAAAgAAAAAAAAACAAAAAAAAAAAAAAAAAAAAAAAAAAAAAAAAA",
            "dtype": "f8"
           }
          },
          {
           "name": "Edges",
           "type": "scatter3d",
           "x": [
            0.013000000000000005,
            0.01800000000000001,
            null,
            0.01800000000000001,
            0.02300000000000001,
            null,
            0.02300000000000001,
            0.027763194197093086,
            null,
            0.027763194197093086,
            0.03201092554334778,
            null,
            0.03201092554334778,
            0.03576486390967878,
            null,
            0.03576486390967878,
            0.03928465307212205,
            null,
            0.03928465307212205,
            0.042924753416876814,
            null,
            0.042924753416876814,
            0.04698235477030706,
            null,
            0.04698235477030706,
            0.05156119201909089,
            null,
            0.05156119201909089,
            0.056499989701760574,
            null,
            0.056499989701760574,
            0.06143878410355177,
            null,
            0.06143878410355177,
            0.06601761506793567,
            null,
            0.06601761506793567,
            0.07007521390274295,
            null,
            0.07007521390274295,
            0.07371531898329917,
            null,
            0.07371531898329917,
            0.07723511821263776,
            null,
            0.07723511821263776,
            0.08098906689572227,
            null,
            0.08098906689572227,
            0.08523680436342938,
            null,
            0.08523680436342938,
            0.09,
            null,
            0.09,
            0.095,
            null,
            0.095,
            0.1,
            null
           ],
           "y": [
            0,
            0,
            null,
            0,
            0,
            null,
            0,
            0.0000926679407289571,
            null,
            0.0000926679407289571,
            0.00022555570310184612,
            null,
            0.00022555570310184612,
            0.00034850142345733016,
            null,
            0.00034850142345733016,
            0.00042347195911783054,
            null,
            0.00042347195911783054,
            0.0004263891778623289,
            null,
            0.0004263891778623289,
            0.00034771654062760267,
            null,
            0.00034771654062760267,
            0.00019588321631633813,
            null,
            0.00019588321631633813,
            -4.234608393179356e-8,
            null,
            -4.234608393179356e-8,
            -0.00019596428918222618,
            null,
            -0.00019596428918222618,
            -0.0003477878083846835,
            null,
            -0.0003477878083846835,
            -0.00042644681666789295,
            null,
            -0.00042644681666789295,
            -0.0004235144761920366,
            null,
            -0.0004235144761920366,
            -0.00034852911780565714,
            null,
            -0.00034852911780565714,
            -0.00022557039763535728,
            null,
            -0.00022557039763535728,
            -0.0000926730254088631,
            null,
            -0.0000926730254088631,
            0,
            null,
            0,
            0,
            null,
            0,
            0,
            null
           ],
           "z": [
            0,
            0,
            null,
            0,
            0,
            null,
            0,
            -0.001497895035956334,
            null,
            -0.001497895035956334,
            -0.004122389352879046,
            null,
            -0.004122389352879046,
            -0.007416099745761308,
            null,
            -0.007416099745761308,
            -0.010960617660036183,
            null,
            -0.010960617660036183,
            -0.01438187723797479,
            null,
            -0.01438187723797479,
            -0.017293595032135692,
            null,
            -0.017293595032135692,
            -0.019281413557231376,
            null,
            -0.019281413557231376,
            -0.019991738471761417,
            null,
            -0.019991738471761417,
            -0.01928138970879599,
            null,
            -0.01928138970879599,
            -0.01729355593634118,
            null,
            -0.01729355593634118,
            -0.014381834266180796,
            null,
            -0.014381834266180796,
            -0.01096057976443904,
            null,
            -0.01096057976443904,
            -0.007416072196399889,
            null,
            -0.007416072196399889,
            -0.004122374078168424,
            null,
            -0.004122374078168424,
            -0.0014978901639090209,
            null,
            -0.0014978901639090209,
            0,
            null,
            0,
            0,
            null,
            0,
            0,
            null
           ]
          },
          {
           "i": [],
           "j": [],
           "k": [],
           "name": "Faces",
           "type": "mesh3d",
           "x": {
            "bdata": "PLTIdr6fij8+30+Nl26SP11kO99PjZc/yaBvbPRtnD+4kKVsvGOgPzsJrbHFT6I/guNbOB4dpD8bjDq4O/qlP+p/dDoSDqg/ivbtgjpmqj+5nvwPke2sP4OM3IDndK8/PzytyYfmsD/P9Pj/cvCxP7ZaP9QB37I/+nLTQq7Fsz8wk6YRs7u0PwcPKEcU0rU/CtejcD0Ktz9SuB6F61G4P5qZmZmZmbk/",
            "dtype": "f8"
           },
           "y": {
            "bdata": "AAAAAAAAAAAAAAAAAAAAgAAAAAAAAACA1QdqGddKGD92GIu8ZJAtP1BIYzfi1jY/pk4WN67AOz+MeQSTn/E7P3gQlyu3yTY/oUwNBMCsKT/Ys6FfALxmvu9fK214rym/MVRRQ+nKNr+27Y0hl/I7v3jHGtNkwTu/NFWlKVnXNr8cDSr24pAtv8CpEnQuSxi/AAAAAAAAAAAAAAAAAAAAAAAAAAAAAAAA",
            "dtype": "f8"
           },
           "z": {
            "bdata": "AAAAAAAAAAAAAAAAAAAAgAAAAAAAAACAPzROjKCKWL8sXjt3o+Jwvw9h8x1YYH6/t4gmM4Vyhr++MyPjPnSNv6SHX4RptZG/6oiYwoG+k79IorTbtniUv7wB4iiAvpO/Pmi25Ga1kb8ITqMeOXSNvyFWER2Acoa/POPFuFBgfr8b0Y9dn+Jwv2RaFlGbili/AAAAAAAAAAAAAAAAAAAAAAAAAAAAAAAA",
            "dtype": "f8"
           }
          }
         ],
         "layout": {
          "annotations": [
           {
            "showarrow": false,
            "text": "Time: 0.36s (Step: 37/100)",
            "x": 0.05,
            "xref": "paper",
            "y": 0.95,
            "yref": "paper"
           }
          ]
         },
         "name": "36"
        },
        {
         "data": [
          {
           "name": "Free Nodes",
           "type": "scatter3d",
           "x": {
            "bdata": "uYSJE/ZtnD9nxpJmwGOgP4cq3TzPT6I/Ye0R8i0dpD+n9hlcT/qlP5ErQskkDqg/BwFE6EVmqj8qNZwEke2sP4bbkADcdK8/fNhvcH7msD+re4kZafCxP7zcgOT53rI/Pureb6nFsz+CsSAOsbu0P6oLv9sT0rU/",
            "dtype": "f8"
           },
           "y": {
            "bdata": "S/r5CEZYGT+EODeUbtguPxCj+Odz1Dc/HzVdWQv1PD+xder2fig9P7G5JCLYxzc/dbKjry3NKj+UQPT6B5J3Pvvm1SN6xyq/p4CpQkTFN78S5jaNVCY9v+DDGVpg8zy/73Le2U/TN78CNf73Jdcuv/oqM8NUVxm/",
            "dtype": "f8"
           },
           "z": {
            "bdata": "4P5x20GJWL8WtSDC0+Fwvy2ruIAfX36/L381D8dxhr9NdqpCcHONvxlQihT/tJG/u5j4ORa+k7+mtLD+SniUvxow/ZIUvpO/LLWBYvy0kb98SBNganONv+ZkZufBcYa/0y33Chhffr8OG0yjz+Fwv365F6U8iVi/",
            "dtype": "f8"
           }
          },
          {
           "name": "Fixed Nodes",
           "type": "scatter3d",
           "x": {
            "bdata": "PLTIdr6fij8+30+Nl26SP11kO99PjZc/CtejcD0Ktz9SuB6F61G4P5qZmZmZmbk/",
            "dtype": "f8"
           },
           "y": {
            "bdata": "AAAAAAAAAAAAAAAAAAAAgAAAAAAAAACAAAAAAAAAAAAAAAAAAAAAAAAAAAAAAAAA",
            "dtype": "f8"
           },
           "z": {
            "bdata": "AAAAAAAAAAAAAAAAAAAAgAAAAAAAAACAAAAAAAAAAAAAAAAAAAAAAAAAAAAAAAAA",
            "dtype": "f8"
           }
          },
          {
           "name": "Edges",
           "type": "scatter3d",
           "x": [
            0.013000000000000005,
            0.01800000000000001,
            null,
            0.01800000000000001,
            0.02300000000000001,
            null,
            0.02300000000000001,
            0.027763218824820444,
            null,
            0.027763218824820444,
            0.03201104404560056,
            null,
            0.03201104404560056,
            0.03576514833419702,
            null,
            0.03576514833419702,
            0.03928512172657395,
            null,
            0.03928512172657395,
            0.04292533873829756,
            null,
            0.04292533873829756,
            0.04698290783661386,
            null,
            0.04698290783661386,
            0.05156153164171156,
            null,
            0.05156153164171156,
            0.05649998837734878,
            null,
            0.05649998837734878,
            0.06143844134242386,
            null,
            0.06143844134242386,
            0.06601705784837181,
            null,
            0.06601705784837181,
            0.07007462380850764,
            null,
            0.07007462380850764,
            0.07371484593101035,
            null,
            0.07371484593101035,
            0.077234830677221,
            null,
            0.077234830677221,
            0.08098894686617622,
            null,
            0.08098894686617622,
            0.08523677935504162,
            null,
            0.08523677935504162,
            0.09,
            null,
            0.09,
            0.095,
            null,
            0.095,
            0.1,
            null
           ],
           "y": [
            0,
            0,
            null,
            0,
            0,
            null,
            0,
            0.00009668281040296174,
            null,
            0.00009668281040296174,
            0.00023533201065934286,
            null,
            0.00023533201065934286,
            0.00036361531963051506,
            null,
            0.00036361531963051506,
            0.00044185187413321893,
            null,
            0.00044185187413321893,
            0.00044491862983328095,
            null,
            0.00044491862983328095,
            0.0003628637952201265,
            null,
            0.0003628637952201265,
            0.00020447905246303062,
            null,
            0.00020447905246303062,
            8.78067101149039e-8,
            null,
            8.78067101149039e-8,
            -0.0002043091389330383,
            null,
            -0.0002043091389330383,
            -0.00036271015657086475,
            null,
            -0.00036271015657086475,
            -0.0004447895455218241,
            null,
            -0.0004447895455218241,
            -0.00044175245611827,
            null,
            -0.00044175245611827,
            -0.0003635473202566038,
            null,
            -0.0003635473202566038,
            -0.0002352937553919202,
            null,
            -0.0002352937553919202,
            -0.00009666876649131939,
            null,
            -0.00009666876649131939,
            0,
            null,
            0,
            0,
            null,
            0,
            0,
            null
           ],
           "z": [
            0,
            0,
            null,
            0,
            0,
            null,
            0,
            -0.0014975684296415978,
            null,
            -0.0014975684296415978,
            -0.004121615582375135,
            null,
            -0.004121615582375135,
            -0.007414935167200193,
            null,
            -0.007414935167200193,
            -0.01095920100368594,
            null,
            -0.01095920100368594,
            -0.014380337748032402,
            null,
            -0.014380337748032402,
            -0.017292008999518858,
            null,
            -0.017292008999518858,
            -0.01927981118037601,
            null,
            -0.01927981118037601,
            -0.01999013118272743,
            null,
            -0.01999013118272743,
            -0.019279786559579383,
            null,
            -0.019279786559579383,
            -0.017291968834276236,
            null,
            -0.017291968834276236,
            -0.014380293900476675,
            null,
            -0.014380293900476675,
            -0.01095916259218872,
            null,
            -0.01095916259218872,
            -0.007414907376595409,
            null,
            -0.007414907376595409,
            -0.004121600232571477,
            null,
            -0.004121600232571477,
            -0.0014975635752950407,
            null,
            -0.0014975635752950407,
            0,
            null,
            0,
            0,
            null,
            0,
            0,
            null
           ]
          },
          {
           "i": [],
           "j": [],
           "k": [],
           "name": "Faces",
           "type": "mesh3d",
           "x": {
            "bdata": "PLTIdr6fij8+30+Nl26SP11kO99PjZc/uYSJE/ZtnD9nxpJmwGOgP4cq3TzPT6I/Ye0R8i0dpD+n9hlcT/qlP5ErQskkDqg/BwFE6EVmqj8qNZwEke2sP4bbkADcdK8/fNhvcH7msD+re4kZafCxP7zcgOT53rI/Pureb6nFsz+CsSAOsbu0P6oLv9sT0rU/CtejcD0Ktz9SuB6F61G4P5qZmZmZmbk/",
            "dtype": "f8"
           },
           "y": {
            "bdata": "AAAAAAAAAAAAAAAAAAAAgAAAAAAAAACAS/r5CEZYGT+EODeUbtguPxCj+Odz1Dc/HzVdWQv1PD+xder2fig9P7G5JCLYxzc/dbKjry3NKj+UQPT6B5J3Pvvm1SN6xyq/p4CpQkTFN78S5jaNVCY9v+DDGVpg8zy/73Le2U/TN78CNf73Jdcuv/oqM8NUVxm/AAAAAAAAAAAAAAAAAAAAAAAAAAAAAAAA",
            "dtype": "f8"
           },
           "z": {
            "bdata": "AAAAAAAAAAAAAAAAAAAAgAAAAAAAAACA4P5x20GJWL8WtSDC0+Fwvy2ruIAfX36/L381D8dxhr9NdqpCcHONvxlQihT/tJG/u5j4ORa+k7+mtLD+SniUvxow/ZIUvpO/LLWBYvy0kb98SBNganONv+ZkZufBcYa/0y33Chhffr8OG0yjz+Fwv365F6U8iVi/AAAAAAAAAAAAAAAAAAAAAAAAAAAAAAAA",
            "dtype": "f8"
           }
          }
         ],
         "layout": {
          "annotations": [
           {
            "showarrow": false,
            "text": "Time: 0.37s (Step: 38/100)",
            "x": 0.05,
            "xref": "paper",
            "y": 0.95,
            "yref": "paper"
           }
          ]
         },
         "name": "37"
        },
        {
         "data": [
          {
           "name": "Free Nodes",
           "type": "scatter3d",
           "x": {
            "bdata": "7/q8zfdtnD9DhZ6NxGOgPzGwBjPZT6I/vWZ4Wj4dpD/SZq/YY/qlPyorECQ4Dqg/2L+py1Fmqj8Fq6/8kO2sP1RKbQrQdK8/F6e1tnTmsD/rxjrNXvCxP0eSlaPx3rI/HWj7a6TFsz+7EWn2rru0P08KM2wT0rU/",
            "dtype": "f8"
           },
           "y": {
            "bdata": "yh6JsHNlGj97BkrhExAwP4q3z/XF0Tg/Xp5t8hcpPj/2FkSjBl8+P2VWld2lxTg/HXlZoBXtKz+41WG9y/SLPoXOzFuW3yu/iBco55O/OL/qzMkJ9lk+v7BsEuY4JT6/SUqntiXPOL/NXktFnQ4wv+09GaJSYxq/",
            "dtype": "f8"
           },
           "z": {
            "bdata": "h6XoQdSHWL/lhaM4++Bwv5GPOZnZXX6/rHr51QBxhr/JAK7bmHKNv5QMQSOQtJG/jqJdK6a9k7/Tgfah2neUv2DUu4mkvZO/gF+vfo20kb9qgMslk3KNv4A0meT7cIa/5LksidJdfr9B3XFi9+Bwv4uvnZLPh1i/",
            "dtype": "f8"
           }
          },
          {
           "name": "Fixed Nodes",
           "type": "scatter3d",
           "x": {
            "bdata": "PLTIdr6fij8+30+Nl26SP11kO99PjZc/CtejcD0Ktz9SuB6F61G4P5qZmZmZmbk/",
            "dtype": "f8"
           },
           "y": {
            "bdata": "AAAAAAAAAAAAAAAAAAAAgAAAAAAAAACAAAAAAAAAAAAAAAAAAAAAAAAAAAAAAAAA",
            "dtype": "f8"
           },
           "z": {
            "bdata": "AAAAAAAAAAAAAAAAAAAAgAAAAAAAAACAAAAAAAAAAAAAAAAAAAAAAAAAAAAAAAAA",
            "dtype": "f8"
           }
          },
          {
           "name": "Edges",
           "type": "scatter3d",
           "x": [
            0.013000000000000005,
            0.01800000000000001,
            null,
            0.01800000000000001,
            0.02300000000000001,
            null,
            0.02300000000000001,
            0.027763244564307617,
            null,
            0.027763244564307617,
            0.03201116780042892,
            null,
            0.03201116780042892,
            0.035765445212149756,
            null,
            0.035765445212149756,
            0.039285610717525433,
            null,
            0.039285610717525433,
            0.04292594928820183,
            null,
            0.04292594928820183,
            0.04698348465179543,
            null,
            0.04698348465179543,
            0.05156188593980432,
            null,
            0.05156188593980432,
            0.05649998745487576,
            null,
            0.05649998745487576,
            0.06143808486253435,
            null,
            0.06143808486253435,
            0.06601647816355825,
            null,
            0.06601647816355825,
            0.07007400999534823,
            null,
            0.07007400999534823,
            0.07371435397869518,
            null,
            0.07371435397869518,
            0.07723453174858759,
            null,
            0.07723453174858759,
            0.08098882213477669,
            null,
            0.08098882213477669,
            0.0852367533835061,
            null,
            0.0852367533835061,
            0.09,
            null,
            0.09,
            0.095,
            null,
            0.095,
            0.1,
            null
           ],
           "y": [
            0,
            0,
            null,
            0,
            0,
            null,
            0,
            0.0001006938802073878,
            null,
            0.0001006938802073878,
            0.0002450989279979343,
            null,
            0.0002450989279979343,
            0.00037871439945901723,
            null,
            0.00037871439945901723,
            0.00046021303790275646,
            null,
            0.00046021303790275646,
            0.0004634276586020636,
            null,
            0.0004634276586020636,
            0.00037799167110583724,
            null,
            0.00037799167110583724,
            0.00021305932038990445,
            null,
            0.00021305932038990445,
            2.0829017327902092e-7,
            null,
            2.0829017327902092e-7,
            -0.00021265707428029884,
            null,
            -0.00021265707428029884,
            -0.00037762986099242795,
            null,
            -0.00037762986099242795,
            -0.00046312577050074014,
            null,
            -0.00046312577050074014,
            -0.00045998229149697267,
            null,
            -0.00045998229149697267,
            -0.0003785578798246909,
            null,
            -0.0003785578798246909,
            -0.0002450117074608127,
            null,
            -0.0002450117074608127,
            -0.00010066215374959055,
            null,
            -0.00010066215374959055,
            0,
            null,
            0,
            0,
            null,
            0,
            0,
            null
           ],
           "z": [
            0,
            0,
            null,
            0,
            0,
            null,
            0,
            -0.0014972279383392588,
            null,
            -0.0014972279383392588,
            -0.0041208089189423746,
            null,
            -0.0041208089189423746,
            -0.0074137210791355304,
            null,
            -0.0074137210791355304,
            -0.0109577241229862,
            null,
            -0.0109577241229862,
            -0.014378732875912086,
            null,
            -0.014378732875912086,
            -0.017290355827083007,
            null,
            -0.017290355827083007,
            -0.019278141400180852,
            null,
            -0.019278141400180852,
            -0.019988456855232272,
            null,
            -0.019988456855232272,
            -0.019278117090795965,
            null,
            -0.019278117090795965,
            -0.017290316445581322,
            null,
            -0.017290316445581322,
            -0.014378690329465555,
            null,
            -0.014378690329465555,
            -0.010957687295695573,
            null,
            -0.010957687295695573,
            -0.007413694768543231,
            null,
            -0.007413694768543231,
            -0.004120794626138847,
            null,
            -0.004120794626138847,
            -0.001497223575337411,
            null,
            -0.001497223575337411,
            0,
            null,
            0,
            0,
            null,
            0,
            0,
            null
           ]
          },
          {
           "i": [],
           "j": [],
           "k": [],
           "name": "Faces",
           "type": "mesh3d",
           "x": {
            "bdata": "PLTIdr6fij8+30+Nl26SP11kO99PjZc/7/q8zfdtnD9DhZ6NxGOgPzGwBjPZT6I/vWZ4Wj4dpD/SZq/YY/qlPyorECQ4Dqg/2L+py1Fmqj8Fq6/8kO2sP1RKbQrQdK8/F6e1tnTmsD/rxjrNXvCxP0eSlaPx3rI/HWj7a6TFsz+7EWn2rru0P08KM2wT0rU/CtejcD0Ktz9SuB6F61G4P5qZmZmZmbk/",
            "dtype": "f8"
           },
           "y": {
            "bdata": "AAAAAAAAAAAAAAAAAAAAgAAAAAAAAACAyh6JsHNlGj97BkrhExAwP4q3z/XF0Tg/Xp5t8hcpPj/2FkSjBl8+P2VWld2lxTg/HXlZoBXtKz+41WG9y/SLPoXOzFuW3yu/iBco55O/OL/qzMkJ9lk+v7BsEuY4JT6/SUqntiXPOL/NXktFnQ4wv+09GaJSYxq/AAAAAAAAAAAAAAAAAAAAAAAAAAAAAAAA",
            "dtype": "f8"
           },
           "z": {
            "bdata": "AAAAAAAAAAAAAAAAAAAAgAAAAAAAAACAh6XoQdSHWL/lhaM4++Bwv5GPOZnZXX6/rHr51QBxhr/JAK7bmHKNv5QMQSOQtJG/jqJdK6a9k7/Tgfah2neUv2DUu4mkvZO/gF+vfo20kb9qgMslk3KNv4A0meT7cIa/5LksidJdfr9B3XFi9+Bwv4uvnZLPh1i/AAAAAAAAAAAAAAAAAAAAAAAAAAAAAAAA",
            "dtype": "f8"
           }
          }
         ],
         "layout": {
          "annotations": [
           {
            "showarrow": false,
            "text": "Time: 0.38s (Step: 39/100)",
            "x": 0.05,
            "xref": "paper",
            "y": 0.95,
            "yref": "paper"
           }
          ]
         },
         "name": "38"
        },
        {
         "data": [
          {
           "name": "Free Nodes",
           "type": "scatter3d",
           "x": {
            "bdata": "4bh/mvltnD8F97/gyGOgP162GpLjT6I/5imsbk8dpD8GKNUqefqlP0o7HkhMDqg/J7EjK15mqj/Pitz2kO2sP9UgN53DdK8/OnW5m2rmsD97MxsaVPCxPzSGihDp3rI/kqBsNp/Fsz+qnxnKrLu0P3plZ/gS0rU/",
            "dtype": "f8"
           },
           "y": {
            "bdata": "sV7j5lRyGz8jaFakwLMwPyW+uUPLzjk/d78ZO8FcPz/TwRrOHpU/P4xVLN4Ewzk/RkXnMT0MLT/cQUZmfvaUPvWfdOoB+Cy/Z/CUkO65Ob8NX5sfjY0/v/CPJAb7Vj+/+0ldtuLKOb8POsh5lLEwv7SKJK4tbxu/",
            "dtype": "f8"
           },
           "z": {
            "bdata": "S7oz7VeGWL8XcyT2GeBwv7zmRpGGXH6/DLv6oDJwhr/H7tHIuHGNv3WlVLwctJG/EV8CnzG9k7+bcb3IZXeUvysxQQswvZO/9JyfMxq0kb895vRgs3GNv1OU2gUucIa/LM4UG4Bcfr+lwiiLFuBwv8fsVv9Thli/",
            "dtype": "f8"
           }
          },
          {
           "name": "Fixed Nodes",
           "type": "scatter3d",
           "x": {
            "bdata": "PLTIdr6fij8+30+Nl26SP11kO99PjZc/CtejcD0Ktz9SuB6F61G4P5qZmZmZmbk/",
            "dtype": "f8"
           },
           "y": {
            "bdata": "AAAAAAAAAAAAAAAAAAAAgAAAAAAAAACAAAAAAAAAAAAAAAAAAAAAAAAAAAAAAAAA",
            "dtype": "f8"
           },
           "z": {
            "bdata": "AAAAAAAAAAAAAAAAAAAAgAAAAAAAAACAAAAAAAAAAAAAAAAAAAAAAAAAAAAAAAAA",
            "dtype": "f8"
           }
          },
          {
           "name": "Edges",
           "type": "scatter3d",
           "x": [
            0.013000000000000005,
            0.01800000000000001,
            null,
            0.01800000000000001,
            0.02300000000000001,
            null,
            0.02300000000000001,
            0.027763271384110836,
            null,
            0.027763271384110836,
            0.03201129668739892,
            null,
            0.03201129668739892,
            0.035765754303935124,
            null,
            0.035765754303935124,
            0.03928611970885125,
            null,
            0.03928611970885125,
            0.04292658470019721,
            null,
            0.04292658470019721,
            0.046984084895589875,
            null,
            0.046984084895589875,
            0.051562254682581625,
            null,
            0.051562254682581625,
            0.05649998677679024,
            null,
            0.05649998677679024,
            0.06143771452076555,
            null,
            0.06143771452076555,
            0.06601587583414395,
            null,
            0.06601587583414395,
            0.07007337224349712,
            null,
            0.07007337224349712,
            0.07371384290538502,
            null,
            0.07371384290538502,
            0.07723422125548243,
            null,
            0.07723422125548243,
            0.0809886926086835,
            null,
            0.0809886926086835,
            0.08523672642276905,
            null,
            0.08523672642276905,
            0.09,
            null,
            0.09,
            0.095,
            null,
            0.095,
            0.1,
            null
           ],
           "y": [
            0,
            0,
            null,
            0,
            0,
            null,
            0,
            0.00010470050048938074,
            null,
            0.00010470050048938074,
            0.0002548547093624861,
            null,
            0.0002548547093624861,
            0.00039379560960292804,
            null,
            0.00039379560960292804,
            0.0004785510783227235,
            null,
            0.0004785510783227235,
            0.0004819107253793118,
            null,
            0.0004819107253793118,
            0.0003930937656816062,
            null,
            0.0003930937656816062,
            0.0002216171933029731,
            null,
            0.0002216171933029731,
            3.123710483827246e-7,
            null,
            3.123710483827246e-7,
            -0.0002210142458605177,
            null,
            -0.0002210142458605177,
            -0.0003925521310355118,
            null,
            -0.0003925521310355118,
            -0.00048145957371791074,
            null,
            -0.00048145957371791074,
            -0.00047820690646660415,
            null,
            -0.00047820690646660415,
            -0.00039356265039205946,
            null,
            -0.00039356265039205946,
            -0.0002547252168207123,
            null,
            -0.0002547252168207123,
            -0.00010465351400460837,
            null,
            -0.00010465351400460837,
            0,
            null,
            0,
            0,
            null,
            0,
            0,
            null
           ],
           "z": [
            0,
            0,
            null,
            0,
            0,
            null,
            0,
            -0.0014968737275996731,
            null,
            -0.0014968737275996731,
            -0.004119969760975526,
            null,
            -0.004119969760975526,
            -0.00741245809006735,
            null,
            -0.00741245809006735,
            -0.010956187761022494,
            null,
            -0.010956187761022494,
            -0.014377063396970325,
            null,
            -0.014377063396970325,
            -0.017288636202612524,
            null,
            -0.017288636202612524,
            -0.019276404695658892,
            null,
            -0.019276404695658892,
            -0.019986715676496663,
            null,
            -0.019986715676496663,
            -0.01927638119404766,
            null,
            -0.01927638119404766,
            -0.017288598442886063,
            null,
            -0.017288598442886063,
            -0.01437702312124422,
            null,
            -0.01437702312124422,
            -0.01095615344395121,
            null,
            -0.01095615344395121,
            -0.007412434018351937,
            null,
            -0.007412434018351937,
            -0.004119957028294739,
            null,
            -0.004119957028294739,
            -0.0014968700682931756,
            null,
            -0.0014968700682931756,
            0,
            null,
            0,
            0,
            null,
            0,
            0,
            null
           ]
          },
          {
           "i": [],
           "j": [],
           "k": [],
           "name": "Faces",
           "type": "mesh3d",
           "x": {
            "bdata": "PLTIdr6fij8+30+Nl26SP11kO99PjZc/4bh/mvltnD8F97/gyGOgP162GpLjT6I/5imsbk8dpD8GKNUqefqlP0o7HkhMDqg/J7EjK15mqj/Pitz2kO2sP9UgN53DdK8/OnW5m2rmsD97MxsaVPCxPzSGihDp3rI/kqBsNp/Fsz+qnxnKrLu0P3plZ/gS0rU/CtejcD0Ktz9SuB6F61G4P5qZmZmZmbk/",
            "dtype": "f8"
           },
           "y": {
            "bdata": "AAAAAAAAAAAAAAAAAAAAgAAAAAAAAACAsV7j5lRyGz8jaFakwLMwPyW+uUPLzjk/d78ZO8FcPz/TwRrOHpU/P4xVLN4Ewzk/RkXnMT0MLT/cQUZmfvaUPvWfdOoB+Cy/Z/CUkO65Ob8NX5sfjY0/v/CPJAb7Vj+/+0ldtuLKOb8POsh5lLEwv7SKJK4tbxu/AAAAAAAAAAAAAAAAAAAAAAAAAAAAAAAA",
            "dtype": "f8"
           },
           "z": {
            "bdata": "AAAAAAAAAAAAAAAAAAAAgAAAAAAAAACAS7oz7VeGWL8XcyT2GeBwv7zmRpGGXH6/DLv6oDJwhr/H7tHIuHGNv3WlVLwctJG/EV8CnzG9k7+bcb3IZXeUvysxQQswvZO/9JyfMxq0kb895vRgs3GNv1OU2gUucIa/LM4UG4Bcfr+lwiiLFuBwv8fsVv9Thli/AAAAAAAAAAAAAAAAAAAAAAAAAAAAAAAA",
            "dtype": "f8"
           }
          }
         ],
         "layout": {
          "annotations": [
           {
            "showarrow": false,
            "text": "Time: 0.39s (Step: 40/100)",
            "x": 0.05,
            "xref": "paper",
            "y": 0.95,
            "yref": "paper"
           }
          ]
         },
         "name": "39"
        },
        {
         "data": [
          {
           "name": "Free Nodes",
           "type": "scatter3d",
           "x": {
            "bdata": "MVoFefttnD8dS3NezWOgP9rxHFfuT6I/dPGHKmEdpD9N0xJOj/qlP3avizFhDqg/hIDdA2tmqj/yxA3xkO2sP8rb0La2dK8/cTAdHmDmsD9DhYX+SPCxPzAcwing3rI/B3H4zZnFsz+J8IqIqru0P4zXLYAS0rU/",
            "dtype": "f8"
           },
           "y": {
            "bdata": "AeVcF+F+HD+GzrbMN1cxP1OllLF5yzo/13HLU/xHQD/qZOx6WmVAPx8MKKTfvzo/KNbQTnYqLj/4k2gic32aPmiOnLXmEC6/I3grDWa0Or+7pPLlk2BAvxNYb2FYREC/SsBYNI3GOr8Hzl/ke1Qxvwzfk1rqehy/",
            "dtype": "f8"
           },
           "z": {
            "bdata": "iGyyFs2EWL9tyyQdMN9wv3b/k50mW36/tHFtkFxvhr8Gyaor0HCNv4l/hu6ks5G/aC7Hnri8k79MDQt27HaUvxbDpBO3vJO/55ZWeKKzkb/k7uj6ynCNv6rp1jRYb4a/m3AHnCBbfr/VZHUFLd9wv+9qSMPJhFi/",
            "dtype": "f8"
           }
          },
          {
           "name": "Fixed Nodes",
           "type": "scatter3d",
           "x": {
            "bdata": "PLTIdr6fij8+30+Nl26SP11kO99PjZc/CtejcD0Ktz9SuB6F61G4P5qZmZmZmbk/",
            "dtype": "f8"
           },
           "y": {
            "bdata": "AAAAAAAAAAAAAAAAAAAAgAAAAAAAAACAAAAAAAAAAAAAAAAAAAAAAAAAAAAAAAAA",
            "dtype": "f8"
           },
           "z": {
            "bdata": "AAAAAAAAAAAAAAAAAAAAgAAAAAAAAACAAAAAAAAAAAAAAAAAAAAAAAAAAAAAAAAA",
            "dtype": "f8"
           }
          },
          {
           "name": "Edges",
           "type": "scatter3d",
           "x": [
            0.013000000000000005,
            0.01800000000000001,
            null,
            0.01800000000000001,
            0.02300000000000001,
            null,
            0.02300000000000001,
            0.027763299237756726,
            null,
            0.027763299237756726,
            0.03201143053015285,
            null,
            0.03201143053015285,
            0.03576607526199256,
            null,
            0.03576607526199256,
            0.03928664821794117,
            null,
            0.03928664821794117,
            0.04292724445386984,
            null,
            0.04292724445386984,
            0.04698470811658144,
            null,
            0.04698470811658144,
            0.0515626375406564,
            null,
            0.0515626375406564,
            0.0564999861006842,
            null,
            0.0564999861006842,
            0.061437330070866006,
            null,
            0.061437330070866006,
            0.06601525054174019,
            null,
            0.06601525054174019,
            0.07007271016984355,
            null,
            0.07007271016984355,
            0.07371331233490319,
            null,
            0.07371331233490319,
            0.07723389891220132,
            null,
            0.07723389891220132,
            0.08098855813563167,
            null,
            0.08098855813563167,
            0.08523669843074638,
            null,
            0.08523669843074638,
            0.09,
            null,
            0.09,
            0.095,
            null,
            0.095,
            0.1,
            null
           ],
           "y": [
            0,
            0,
            null,
            0,
            0,
            null,
            0,
            0.0001087021717837318,
            null,
            0.0001087021717837318,
            0.0002645980100297391,
            null,
            0.0002645980100297391,
            0.0004088565925309446,
            null,
            0.0004088565925309446,
            0.000496862608624189,
            null,
            0.000496862608624189,
            0.0005003635213568756,
            null,
            0.0005003635213568756,
            0.0004081650733100423,
            null,
            0.0004081650733100423,
            0.00023014730632702038,
            null,
            0.00023014730632702038,
            3.9473232718779256e-7,
            null,
            3.9473232718779256e-7,
            -0.00022938553120709364,
            null,
            -0.00022938553120709364,
            -0.00040748111238808805,
            null,
            -0.00040748111238808805,
            -0.0004997942122787683,
            null,
            -0.0004997942122787683,
            -0.0004964286371158553,
            null,
            -0.0004964286371158553,
            -0.0004085631120203144,
            null,
            -0.0004085631120203144,
            -0.00026443505009796125,
            null,
            -0.00026443505009796125,
            -0.00010864310629077003,
            null,
            -0.00010864310629077003,
            0,
            null,
            0,
            0,
            null,
            0,
            0,
            null
           ],
           "z": [
            0,
            0,
            null,
            0,
            0,
            null,
            0,
            -0.001496506006140293,
            null,
            -0.001496506006140293,
            -0.004119098610589994,
            null,
            -0.004119098610589994,
            -0.0074111469668877075,
            null,
            -0.0074111469668877075,
            -0.01095459285505105,
            null,
            -0.01095459285505105,
            -0.014375330288519905,
            null,
            -0.014375330288519905,
            -0.01728685098498731,
            null,
            -0.01728685098498731,
            -0.01927460164169617,
            null,
            -0.01927460164169617,
            -0.019984907822402406,
            null,
            -0.019984907822402406,
            -0.019274578641844085,
            null,
            -0.019274578641844085,
            -0.017286814303267752,
            null,
            -0.017286814303267752,
            -0.014375291616594628,
            null,
            -0.014375291616594628,
            -0.010954560387166652,
            null,
            -0.010954560387166652,
            -0.0074111245926042025,
            null,
            -0.0074111245926042025,
            -0.00411908709005467,
            null,
            -0.00411908709005467,
            -0.0014965029087138889,
            null,
            -0.0014965029087138889,
            0,
            null,
            0,
            0,
            null,
            0,
            0,
            null
           ]
          },
          {
           "i": [],
           "j": [],
           "k": [],
           "name": "Faces",
           "type": "mesh3d",
           "x": {
            "bdata": "PLTIdr6fij8+30+Nl26SP11kO99PjZc/MVoFefttnD8dS3NezWOgP9rxHFfuT6I/dPGHKmEdpD9N0xJOj/qlP3avizFhDqg/hIDdA2tmqj/yxA3xkO2sP8rb0La2dK8/cTAdHmDmsD9DhYX+SPCxPzAcwing3rI/B3H4zZnFsz+J8IqIqru0P4zXLYAS0rU/CtejcD0Ktz9SuB6F61G4P5qZmZmZmbk/",
            "dtype": "f8"
           },
           "y": {
            "bdata": "AAAAAAAAAAAAAAAAAAAAgAAAAAAAAACAAeVcF+F+HD+GzrbMN1cxP1OllLF5yzo/13HLU/xHQD/qZOx6WmVAPx8MKKTfvzo/KNbQTnYqLj/4k2gic32aPmiOnLXmEC6/I3grDWa0Or+7pPLlk2BAvxNYb2FYREC/SsBYNI3GOr8Hzl/ke1Qxvwzfk1rqehy/AAAAAAAAAAAAAAAAAAAAAAAAAAAAAAAA",
            "dtype": "f8"
           },
           "z": {
            "bdata": "AAAAAAAAAAAAAAAAAAAAgAAAAAAAAACAiGyyFs2EWL9tyyQdMN9wv3b/k50mW36/tHFtkFxvhr8Gyaor0HCNv4l/hu6ks5G/aC7Hnri8k79MDQt27HaUvxbDpBO3vJO/55ZWeKKzkb/k7uj6ynCNv6rp1jRYb4a/m3AHnCBbfr/VZHUFLd9wv+9qSMPJhFi/AAAAAAAAAAAAAAAAAAAAAAAAAAAAAAAA",
            "dtype": "f8"
           }
          }
         ],
         "layout": {
          "annotations": [
           {
            "showarrow": false,
            "text": "Time: 0.40s (Step: 41/100)",
            "x": 0.05,
            "xref": "paper",
            "y": 0.95,
            "yref": "paper"
           }
          ]
         },
         "name": "40"
        },
        {
         "data": [
          {
           "name": "Free Nodes",
           "type": "scatter3d",
           "x": {
            "bdata": "Y93iaP1tnD8TRukF0mOgP3rFbID5T6I/aGy9i3MdpD/ptd4/pvqlP4lbHN52Dqg/1UQ8VHhmqj87sDXqkO2sPzgaVlapdK8/NXFUPVXmsD+2lcp5PfCxP/RfiO7W3rI/37QQMpTFsz+Hom4xqLu0PygGcAMS0rU/",
            "dtype": "f8"
           },
           "y": {
            "bdata": "Tzfz8BGLHT+Z1uoidfoxPyghmOvJxzs/oRG35FnhQD8cy9v53f9AP1doag0nvDs/fb3s3aBHLz+ayGvYY1CePnEJ2zRhKi+/bsDWSgavO78ILqKkZ/pAvyNVYE4w3UC/soSYOCnCO78zBOWNVfcxvxTV6lKLhh2/",
            "dtype": "f8"
           },
           "z": {
            "bdata": "0Wc14zODWL9uTtnDPd5wv0aqG+C5WX6/2KkauX5uhr8jTPwZ32+Nvzlok8Mos5G/p12dMTu8k7/bSeCsbnaUv8dF4qE5vJO/3ELOSCazkb/RW6zo2W+Nv2SGfGZ6boa/nxTI+bNZfr8pEm/FOt5wv4K8lcowg1i/",
            "dtype": "f8"
           }
          },
          {
           "name": "Fixed Nodes",
           "type": "scatter3d",
           "x": {
            "bdata": "PLTIdr6fij8+30+Nl26SP11kO99PjZc/CtejcD0Ktz9SuB6F61G4P5qZmZmZmbk/",
            "dtype": "f8"
           },
           "y": {
            "bdata": "AAAAAAAAAAAAAAAAAAAAgAAAAAAAAACAAAAAAAAAAAAAAAAAAAAAAAAAAAAAAAAA",
            "dtype": "f8"
           },
           "z": {
            "bdata": "AAAAAAAAAAAAAAAAAAAAgAAAAAAAAACAAAAAAAAAAAAAAAAAAAAAAAAAAAAAAAAA",
            "dtype": "f8"
           }
          },
          {
           "name": "Edges",
           "type": "scatter3d",
           "x": [
            0.013000000000000005,
            0.01800000000000001,
            null,
            0.01800000000000001,
            0.02300000000000001,
            null,
            0.02300000000000001,
            0.027763328100914985,
            null,
            0.027763328100914985,
            0.032011569234452385,
            null,
            0.032011569234452385,
            0.03576640789686798,
            null,
            0.03576640789686798,
            0.039287195976350386,
            null,
            0.039287195976350386,
            0.04292792825377118,
            null,
            0.04292792825377118,
            0.04698535405457622,
            null,
            0.04698535405457622,
            0.05156303432716817,
            null,
            0.05156303432716817,
            0.05649998530393004,
            null,
            0.05649998530393004,
            0.061436931408981044,
            null,
            0.061436931408981044,
            0.06601460215864992,
            null,
            0.06601460215864992,
            0.07007202361508899,
            null,
            0.07007202361508899,
            0.0737127621035823,
            null,
            0.0737127621035823,
            0.07723356458946594,
            null,
            0.07723356458946594,
            0.08098841864433313,
            null,
            0.08098841864433313,
            0.08523666938710817,
            null,
            0.08523666938710817,
            0.09,
            null,
            0.09,
            0.095,
            null,
            0.095,
            0.1,
            null
           ],
           "y": [
            0,
            0,
            null,
            0,
            0,
            null,
            0,
            0.0001126985264250067,
            null,
            0.0001126985264250067,
            0.00027432784819878816,
            null,
            0.00027432784819878816,
            0.0004238956422289047,
            null,
            0.0004238956422289047,
            0.0005151452000338627,
            null,
            0.0005151452000338627,
            0.0005187829844700317,
            null,
            0.0005187829844700317,
            0.0004232020705018427,
            null,
            0.0004232020705018427,
            0.00023864592272946828,
            null,
            0.00023864592272946828,
            4.517141509028641e-7,
            null,
            4.517141509028641e-7,
            -0.00023777424433120032,
            null,
            -0.00023777424433120032,
            -0.00042241958257261444,
            null,
            -0.00042241958257261444,
            -0.000518131834966907,
            null,
            -0.000518131834966907,
            -0.000514648997298171,
            null,
            -0.000514648997298171,
            -0.0004235602033038729,
            null,
            -0.0004235602033038729,
            -0.0002741416809791147,
            null,
            -0.0002741416809791147,
            -0.00011263108602118196,
            null,
            -0.00011263108602118196,
            0,
            null,
            0,
            0,
            null,
            0,
            0,
            null
           ],
           "z": [
            0,
            0,
            null,
            0,
            0,
            null,
            0,
            -0.0014961249078937376,
            null,
            -0.0014961249078937376,
            -0.0041181957909263,
            null,
            -0.0041181957909263,
            -0.0074097882040669635,
            null,
            -0.0074097882040669635,
            -0.010952940010004505,
            null,
            -0.010952940010004505,
            -0.014373534183993958,
            null,
            -0.014373534183993958,
            -0.017285000741005006,
            null,
            -0.017285000741005006,
            -0.01927273264240417,
            null,
            -0.01927273264240417,
            -0.01998303346779005,
            null,
            -0.01998303346779005,
            -0.019272709375007382,
            null,
            -0.019272709375007382,
            -0.017284963792522187,
            null,
            -0.017284963792522187,
            -0.014373495495915297,
            null,
            -0.014373495495915297,
            -0.010952907803189756,
            null,
            -0.010952907803189756,
            -0.007409766225923735,
            null,
            -0.007409766225923735,
            -0.00411818463812045,
            null,
            -0.00411818463812045,
            -0.001496122024345487,
            null,
            -0.001496122024345487,
            0,
            null,
            0,
            0,
            null,
            0,
            0,
            null
           ]
          },
          {
           "i": [],
           "j": [],
           "k": [],
           "name": "Faces",
           "type": "mesh3d",
           "x": {
            "bdata": "PLTIdr6fij8+30+Nl26SP11kO99PjZc/Y93iaP1tnD8TRukF0mOgP3rFbID5T6I/aGy9i3MdpD/ptd4/pvqlP4lbHN52Dqg/1UQ8VHhmqj87sDXqkO2sPzgaVlapdK8/NXFUPVXmsD+2lcp5PfCxP/RfiO7W3rI/37QQMpTFsz+Hom4xqLu0PygGcAMS0rU/CtejcD0Ktz9SuB6F61G4P5qZmZmZmbk/",
            "dtype": "f8"
           },
           "y": {
            "bdata": "AAAAAAAAAAAAAAAAAAAAgAAAAAAAAACATzfz8BGLHT+Z1uoidfoxPyghmOvJxzs/oRG35FnhQD8cy9v53f9AP1doag0nvDs/fb3s3aBHLz+ayGvYY1CePnEJ2zRhKi+/bsDWSgavO78ILqKkZ/pAvyNVYE4w3UC/soSYOCnCO78zBOWNVfcxvxTV6lKLhh2/AAAAAAAAAAAAAAAAAAAAAAAAAAAAAAAA",
            "dtype": "f8"
           },
           "z": {
            "bdata": "AAAAAAAAAAAAAAAAAAAAgAAAAAAAAACA0Wc14zODWL9uTtnDPd5wv0aqG+C5WX6/2KkauX5uhr8jTPwZ32+Nvzlok8Mos5G/p12dMTu8k7/bSeCsbnaUv8dF4qE5vJO/3ELOSCazkb/RW6zo2W+Nv2SGfGZ6boa/nxTI+bNZfr8pEm/FOt5wv4K8lcowg1i/AAAAAAAAAAAAAAAAAAAAAAAAAAAAAAAA",
            "dtype": "f8"
           }
          }
         ],
         "layout": {
          "annotations": [
           {
            "showarrow": false,
            "text": "Time: 0.41s (Step: 42/100)",
            "x": 0.05,
            "xref": "paper",
            "y": 0.95,
            "yref": "paper"
           }
          ]
         },
         "name": "41"
        },
        {
         "data": [
          {
           "name": "Free Nodes",
           "type": "scatter3d",
           "x": {
            "bdata": "cdcMav9tnD8ZzgPX1mOgP31dvg0FUKI/CXfLkYYdpD8FB5P/vfqlP9tQL02NDqg/YvvYG4Zmqj+9I03ikO2sPyePHnybdK8/E/ym+UnmsD8R+zOMMfCxPwg8FV/N3rI/fMXUYo7Fsz+5H9DEpbu0P3+4L4IR0rU/",
            "dtype": "f8"
           },
           "y": {
            "bdata": "w5tyNeOWHj/9vVTjdZ0yPwpksUa3wzw/MQdiGHZ6QT+2bKj5FZpBP3z1rnTStzw/T7oqtNUxMD96elMahSegPrFk0oU/IjC/8UKOjtSpPL/m7yOlQ5RBv2EXhXAGdkG/lEfV97e9PL+YnFDwIZoyvy6XiwQRkh6/",
            "dtype": "f8"
           },
           "z": {
            "bdata": "8G0WY4yBWL+ZLDL0Qt1wv/+4I2hAWH6/UM1fJJlthr8tj7yd5W6Nv8BfPECospG/Gy+dW7m7k78sKWFw7HWUv4/aE7i3u5O/5cc/pqWykb+l8JEr4G6Nv9vomZuUbYa/swuNNTpYfr/die7LP91wv/DBqBaJgVi/",
            "dtype": "f8"
           }
          },
          {
           "name": "Fixed Nodes",
           "type": "scatter3d",
           "x": {
            "bdata": "PLTIdr6fij8+30+Nl26SP11kO99PjZc/CtejcD0Ktz9SuB6F61G4P5qZmZmZmbk/",
            "dtype": "f8"
           },
           "y": {
            "bdata": "AAAAAAAAAAAAAAAAAAAAgAAAAAAAAACAAAAAAAAAAAAAAAAAAAAAAAAAAAAAAAAA",
            "dtype": "f8"
           },
           "z": {
            "bdata": "AAAAAAAAAAAAAAAAAAAAgAAAAAAAAACAAAAAAAAAAAAAAAAAAAAAAAAAAAAAAAAA",
            "dtype": "f8"
           }
          },
          {
           "name": "Edges",
           "type": "scatter3d",
           "x": [
            0.013000000000000005,
            0.01800000000000001,
            null,
            0.01800000000000001,
            0.02300000000000001,
            null,
            0.02300000000000001,
            0.027763357970989447,
            null,
            0.027763357970989447,
            0.032011712786609255,
            null,
            0.032011712786609255,
            0.03576675217407919,
            null,
            0.03576675217407919,
            0.03928776292535303,
            null,
            0.03928776292535303,
            0.04292863602451117,
            null,
            0.04292863602451117,
            0.0469860226363907,
            null,
            0.0469860226363907,
            0.051563444995273114,
            null,
            0.051563444995273114,
            0.05649998438327184,
            null,
            0.05649998438327184,
            0.06143651857499171,
            null,
            0.06143651857499171,
            0.06601393075014554,
            null,
            0.06601393075014554,
            0.0700713126461603,
            null,
            0.0700713126461603,
            0.07371219226227776,
            null,
            0.07371219226227776,
            0.07723321831578817,
            null,
            0.07723321831578817,
            0.0809882741451692,
            null,
            0.0809882741451692,
            0.08523663929347157,
            null,
            0.08523663929347157,
            0.09,
            null,
            0.09,
            0.095,
            null,
            0.095,
            0.1,
            null
           ],
           "y": [
            0,
            0,
            null,
            0,
            0,
            null,
            0,
            0.00011668931743945205,
            null,
            0.00011668931743945205,
            0.0002840435802964057,
            null,
            0.0002840435802964057,
            0.0004389116717838376,
            null,
            0.0004389116717838376,
            0.0005333973538343748,
            null,
            0.0005333973538343748,
            0.0005371672917279444,
            null,
            0.0005371672917279444,
            0.00043820274430202816,
            null,
            0.00043820274430202816,
            0.00024711100938193826,
            null,
            0.00024711100938193826,
            4.814378839165691e-7,
            null,
            4.814378839165691e-7,
            -0.00024618197296317606,
            null,
            -0.00024618197296317606,
            -0.00043736876846715763,
            null,
            -0.00043736876846715763,
            -0.0005364733026733653,
            null,
            -0.0005364733026733653,
            -0.0005328685229322,
            null,
            -0.0005328685229322,
            -0.0004385542050232502,
            null,
            -0.0004385542050232502,
            -0.00028384522039676943,
            null,
            -0.00028384522039676943,
            -0.0001166174780667633,
            null,
            -0.0001166174780667633,
            0,
            null,
            0,
            0,
            null,
            0,
            0,
            null
           ],
           "z": [
            0,
            0,
            null,
            0,
            0,
            null,
            0,
            -0.0014957304923431912,
            null,
            -0.0014957304923431912,
            -0.004117261446604869,
            null,
            -0.004117261446604869,
            -0.007408382023852632,
            null,
            -0.007408382023852632,
            -0.010951229498437215,
            null,
            -0.010951229498437215,
            -0.01437167537330416,
            null,
            -0.01437167537330416,
            -0.01728308574737958,
            null,
            -0.01728308574737958,
            -0.019270797936129385,
            null,
            -0.019270797936129385,
            -0.01998109279546971,
            null,
            -0.01998109279546971,
            -0.019270773515894176,
            null,
            -0.019270773515894176,
            -0.01728304698185203,
            null,
            -0.01728304698185203,
            -0.014371634797719255,
            null,
            -0.014371634797719255,
            -0.010951195715496123,
            null,
            -0.010951195715496123,
            -0.007408358935950088,
            null,
            -0.007408358935950088,
            -0.004117249684812721,
            null,
            -0.004117249684812721,
            -0.001495727420330547,
            null,
            -0.001495727420330547,
            0,
            null,
            0,
            0,
            null,
            0,
            0,
            null
           ]
          },
          {
           "i": [],
           "j": [],
           "k": [],
           "name": "Faces",
           "type": "mesh3d",
           "x": {
            "bdata": "PLTIdr6fij8+30+Nl26SP11kO99PjZc/cdcMav9tnD8ZzgPX1mOgP31dvg0FUKI/CXfLkYYdpD8FB5P/vfqlP9tQL02NDqg/YvvYG4Zmqj+9I03ikO2sPyePHnybdK8/E/ym+UnmsD8R+zOMMfCxPwg8FV/N3rI/fMXUYo7Fsz+5H9DEpbu0P3+4L4IR0rU/CtejcD0Ktz9SuB6F61G4P5qZmZmZmbk/",
            "dtype": "f8"
           },
           "y": {
            "bdata": "AAAAAAAAAAAAAAAAAAAAgAAAAAAAAACAw5tyNeOWHj/9vVTjdZ0yPwpksUa3wzw/MQdiGHZ6QT+2bKj5FZpBP3z1rnTStzw/T7oqtNUxMD96elMahSegPrFk0oU/IjC/8UKOjtSpPL/m7yOlQ5RBv2EXhXAGdkG/lEfV97e9PL+YnFDwIZoyvy6XiwQRkh6/AAAAAAAAAAAAAAAAAAAAAAAAAAAAAAAA",
            "dtype": "f8"
           },
           "z": {
            "bdata": "AAAAAAAAAAAAAAAAAAAAgAAAAAAAAACA8G0WY4yBWL+ZLDL0Qt1wv/+4I2hAWH6/UM1fJJlthr8tj7yd5W6Nv8BfPECospG/Gy+dW7m7k78sKWFw7HWUv4/aE7i3u5O/5cc/pqWykb+l8JEr4G6Nv9vomZuUbYa/swuNNTpYfr/die7LP91wv/DBqBaJgVi/AAAAAAAAAAAAAAAAAAAAAAAAAAAAAAAA",
            "dtype": "f8"
           }
          }
         ],
         "layout": {
          "annotations": [
           {
            "showarrow": false,
            "text": "Time: 0.42s (Step: 43/100)",
            "x": 0.05,
            "xref": "paper",
            "y": 0.95,
            "yref": "paper"
           }
          ]
         },
         "name": "42"
        },
        {
         "data": [
          {
           "name": "Free Nodes",
           "type": "scatter3d",
           "x": {
            "bdata": "YQyafAFunD+tz+PR22OgP3KPPv8QUKI/I2PTPJodpD/+mjON1vqlP2Jzs36kDqg/iJC5WpRmqj+4c63ZkO2sP0Xb+SiNdK8/F3WtUz7msD/iqWk2JfCxP+uj+XvD3rI/MTqlYIjFsz8rgdxCo7u0P4+/d/wQ0rU/",
            "dtype": "f8"
           },
           "y": {
            "bdata": "MPU4s1KiHz8knqi5OEAzP3tpS7g/vz0/Ac6UsE8TQj9xOEEzATRCP6h7tqffsj0/Cb44iUm/MD9+e1yR6jugPu1ja3GfrzC/THMXVs+kPb+0Y3LqJi5Cv3H0nMLZDkK/VxQgtTe5Pb82ydHi3zwzv6l6jX15nR+/",
            "dtype": "f8"
           },
           "z": {
            "bdata": "kLHpndZ/WL++VdeyP9xwv1fi2jy6Vn6/AbOp1qtshr+yBNC7422Nv75aKGcjspG/1Ia7HzO7k7+J3eHDZXWUvyAb11kxu5O/dIpdlCCykb/cXLfK3W2Nv51vmdqmbIa/2iW/WbNWfr9MRtIfPNxwv/Q88rLSf1i/",
            "dtype": "f8"
           }
          },
          {
           "name": "Fixed Nodes",
           "type": "scatter3d",
           "x": {
            "bdata": "PLTIdr6fij8+30+Nl26SP11kO99PjZc/CtejcD0Ktz9SuB6F61G4P5qZmZmZmbk/",
            "dtype": "f8"
           },
           "y": {
            "bdata": "AAAAAAAAAAAAAAAAAAAAgAAAAAAAAACAAAAAAAAAAAAAAAAAAAAAAAAAAAAAAAAA",
            "dtype": "f8"
           },
           "z": {
            "bdata": "AAAAAAAAAAAAAAAAAAAAgAAAAAAAAACAAAAAAAAAAAAAAAAAAAAAAAAAAAAAAAAA",
            "dtype": "f8"
           }
          },
          {
           "name": "Edges",
           "type": "scatter3d",
           "x": [
            0.013000000000000005,
            0.01800000000000001,
            null,
            0.01800000000000001,
            0.02300000000000001,
            null,
            0.02300000000000001,
            0.027763388853156438,
            null,
            0.027763388853156438,
            0.03201186120159547,
            null,
            0.03201186120159547,
            0.035767108114014415,
            null,
            0.035767108114014415,
            0.03928834908010106,
            null,
            0.03928834908010106,
            0.04292936776783128,
            null,
            0.04292936776783128,
            0.04698671385424437,
            null,
            0.04698671385424437,
            0.05156386954766484,
            null,
            0.05156386954766484,
            0.056499983379331764,
            null,
            0.056499983379331764,
            0.06143609166331613,
            null,
            0.06143609166331613,
            0.06601323645505307,
            null,
            0.06601323645505307,
            0.07007057741581194,
            null,
            0.07007057741581194,
            0.0737116029428219,
            null,
            0.0737116029428219,
            0.07723286017901711,
            null,
            0.07723286017901711,
            0.0809881246791561,
            null,
            0.0809881246791561,
            0.08523660815967403,
            null,
            0.08523660815967403,
            0.09,
            null,
            0.09,
            0.095,
            null,
            0.095,
            0.1,
            null
           ],
           "y": [
            0,
            0,
            null,
            0,
            0,
            null,
            0,
            0.00012067441712644979,
            null,
            0.00012067441712644979,
            0.00029374489682474,
            null,
            0.00029374489682474,
            0.0004539042059100923,
            null,
            0.0004539042059100923,
            0.0005516184911926182,
            null,
            0.0005516184911926182,
            0.0005555158481998069,
            null,
            0.0005555158481998069,
            0.0004531665833499795,
            null,
            0.0004531665833499795,
            0.0002555422335914497,
            null,
            0.0002555422335914497,
            4.838123312844888e-7,
            null,
            4.838123312844888e-7,
            -0.00025460856106246274,
            null,
            -0.00025460856106246274,
            -0.00045232831879875725,
            null,
            -0.00045232831879875725,
            -0.0005548181551545601,
            null,
            -0.0005548181551545601,
            -0.0005510867388022323,
            null,
            -0.0005510867388022323,
            -0.00045354471251385836,
            null,
            -0.00045354471251385836,
            -0.00029354539839867037,
            null,
            -0.00029354539839867037,
            -0.00012060216921614776,
            null,
            -0.00012060216921614776,
            0,
            null,
            0,
            0,
            null,
            0,
            0,
            null
           ],
           "z": [
            0,
            0,
            null,
            0,
            0,
            null,
            0,
            -0.0014953227870605247,
            null,
            -0.0014953227870605247,
            -0.004116295645379462,
            null,
            -0.004116295645379462,
            -0.007406928530763488,
            null,
            -0.007406928530763488,
            -0.010949461449138111,
            null,
            -0.010949461449138111,
            -0.014369753998837307,
            null,
            -0.014369753998837307,
            -0.01728110615848765,
            null,
            -0.01728110615848765,
            -0.01926879769496888,
            null,
            -0.01926879769496888,
            -0.01997908599920842,
            null,
            -0.01997908599920842,
            -0.019268771274961627,
            null,
            -0.019268771274961627,
            -0.01728106408644199,
            null,
            -0.01728106408644199,
            -0.014369709729108164,
            null,
            -0.014369709729108164,
            -0.010949424310801531,
            null,
            -0.010949424310801531,
            -0.007406902874160315,
            null,
            -0.007406902874160315,
            -0.004116282330089382,
            null,
            -0.004116282330089382,
            -0.0014953191382892058,
            null,
            -0.0014953191382892058,
            0,
            null,
            0,
            0,
            null,
            0,
            0,
            null
           ]
          },
          {
           "i": [],
           "j": [],
           "k": [],
           "name": "Faces",
           "type": "mesh3d",
           "x": {
            "bdata": "PLTIdr6fij8+30+Nl26SP11kO99PjZc/YQyafAFunD+tz+PR22OgP3KPPv8QUKI/I2PTPJodpD/+mjON1vqlP2Jzs36kDqg/iJC5WpRmqj+4c63ZkO2sP0Xb+SiNdK8/F3WtUz7msD/iqWk2JfCxP+uj+XvD3rI/MTqlYIjFsz8rgdxCo7u0P4+/d/wQ0rU/CtejcD0Ktz9SuB6F61G4P5qZmZmZmbk/",
            "dtype": "f8"
           },
           "y": {
            "bdata": "AAAAAAAAAAAAAAAAAAAAgAAAAAAAAACAMPU4s1KiHz8knqi5OEAzP3tpS7g/vz0/Ac6UsE8TQj9xOEEzATRCP6h7tqffsj0/Cb44iUm/MD9+e1yR6jugPu1ja3GfrzC/THMXVs+kPb+0Y3LqJi5Cv3H0nMLZDkK/VxQgtTe5Pb82ydHi3zwzv6l6jX15nR+/AAAAAAAAAAAAAAAAAAAAAAAAAAAAAAAA",
            "dtype": "f8"
           },
           "z": {
            "bdata": "AAAAAAAAAAAAAAAAAAAAgAAAAAAAAACAkLHpndZ/WL++VdeyP9xwv1fi2jy6Vn6/AbOp1qtshr+yBNC7422Nv75aKGcjspG/1Ia7HzO7k7+J3eHDZXWUvyAb11kxu5O/dIpdlCCykb/cXLfK3W2Nv51vmdqmbIa/2iW/WbNWfr9MRtIfPNxwv/Q88rLSf1i/AAAAAAAAAAAAAAAAAAAAAAAAAAAAAAAA",
            "dtype": "f8"
           }
          }
         ],
         "layout": {
          "annotations": [
           {
            "showarrow": false,
            "text": "Time: 0.43s (Step: 44/100)",
            "x": 0.05,
            "xref": "paper",
            "y": 0.95,
            "yref": "paper"
           }
          ]
         },
         "name": "43"
        },
        {
         "data": [
          {
           "name": "Free Nodes",
           "type": "scatter3d",
           "x": {
            "bdata": "CUaXoANunD9tNpf24GOgP6qy9FQdUKI/aoTCjK4dpD9Vdozo7/qlPzC5Z3K8Dqg/manBEKNmqj+hcJfQkO2sP+7rnl1+dK8/q1XwSzLmsD9A/P94GPCxPztNs0W53rI/LyXUK4LFsz+WObmroLu0P9LXUHIQ0rU/",
            "dtype": "f8"
           },
           "y": {
            "bdata": "qEwcILBWID/fJbK6veIzP7oE1sVjuj4/gBahWOerQj/eSiHooM1CP758gppSrT4/MHjvajFMMT+Vls/OHeaePjfPN6xIPTG/EgaPye6fPr+IbyrSDchCv9iLojmnp0K/wZzp9aO0Pr9mmqK2jN8zvyopEEtgVCC/",
            "dtype": "f8"
           },
           "z": {
            "bdata": "a57KmhJ+WL9Jvx8ENNtwv06E52QnVX6/1dIS1LZrhr+fcNV42WyNvzFP7zqasZG/6K75gKi6k7//HOCq2nSUv2X5D4umupO/g8U6F5exkb/hCh/O0myNv9S8yiqxa4a/mWNCch9Vfr/k9evIL9twv+5WbqwNfli/",
            "dtype": "f8"
           }
          },
          {
           "name": "Fixed Nodes",
           "type": "scatter3d",
           "x": {
            "bdata": "PLTIdr6fij8+30+Nl26SP11kO99PjZc/CtejcD0Ktz9SuB6F61G4P5qZmZmZmbk/",
            "dtype": "f8"
           },
           "y": {
            "bdata": "AAAAAAAAAAAAAAAAAAAAgAAAAAAAAACAAAAAAAAAAAAAAAAAAAAAAAAAAAAAAAAA",
            "dtype": "f8"
           },
           "z": {
            "bdata": "AAAAAAAAAAAAAAAAAAAAgAAAAAAAAACAAAAAAAAAAAAAAAAAAAAAAAAAAAAAAAAA",
            "dtype": "f8"
           }
          },
          {
           "name": "Edges",
           "type": "scatter3d",
           "x": [
            0.013000000000000005,
            0.01800000000000001,
            null,
            0.01800000000000001,
            0.02300000000000001,
            null,
            0.02300000000000001,
            0.027763420750323706,
            null,
            0.027763420750323706,
            0.03201201448574129,
            null,
            0.03201201448574129,
            0.035767475720012,
            null,
            0.035767475720012,
            0.039288954432102965,
            null,
            0.039288954432102965,
            0.04293012346009265,
            null,
            0.04293012346009265,
            0.04698742767856101,
            null,
            0.04698742767856101,
            0.05156430797144935,
            null,
            0.05156430797144935,
            0.05649998232158394,
            null,
            0.05649998232158394,
            0.061435650757139956,
            null,
            0.061435650757139956,
            0.06601251939749513,
            null,
            0.06601251939749513,
            0.07006981805896917,
            null,
            0.07006981805896917,
            0.07371099425954679,
            null,
            0.07371099425954679,
            0.07723249025379596,
            null,
            0.07723249025379596,
            0.08098797028035273,
            null,
            0.08098797028035273,
            0.0852365759936611,
            null,
            0.0852365759936611,
            0.09,
            null,
            0.09,
            0.095,
            null,
            0.095,
            0.1,
            null
           ],
           "y": [
            0,
            0,
            null,
            0,
            0,
            null,
            0,
            0.00012465381592416847,
            null,
            0.00012465381592416847,
            0.000303431816697312,
            null,
            0.000303431816697312,
            0.00046887336596774696,
            null,
            0.00046887336596774696,
            0.0005698089237362175,
            null,
            0.0005698089237362175,
            0.0005738292386559781,
            null,
            0.0005738292386559781,
            0.0004680945080596902,
            null,
            0.0004680945080596902,
            0.0002639408730241736,
            null,
            0.0002639408730241736,
            4.604293753470858e-7,
            null,
            4.604293753470858e-7,
            -0.00026305221783150555,
            null,
            -0.00026305221783150555,
            -0.0004672964074040341,
            null,
            -0.0004672964074040341,
            -0.0005731647000461896,
            null,
            -0.0005731647000461896,
            -0.0005693022278773175,
            null,
            -0.0005693022278773175,
            -0.0004685306829856455,
            null,
            -0.0004685306829856455,
            -0.0003032415903682417,
            null,
            -0.0003032415903682417,
            -0.00012458491758622045,
            null,
            -0.00012458491758622045,
            0,
            null,
            0,
            0,
            null,
            0,
            0,
            null
           ],
           "z": [
            0,
            0,
            null,
            0,
            0,
            null,
            0,
            -0.0014949018179012629,
            null,
            -0.0014949018179012629,
            -0.0041152984504007695,
            null,
            -0.0041152984504007695,
            -0.007405427821567901,
            null,
            -0.007405427821567901,
            -0.010947635981531626,
            null,
            -0.010947635981531626,
            -0.014367770195058248,
            null,
            -0.014367770195058248,
            -0.017279062125296455,
            null,
            -0.017279062125296455,
            -0.019266732093838806,
            null,
            -0.019266732093838806,
            -0.01997701328221257,
            null,
            -0.01997701328221257,
            -0.019266702878661408,
            null,
            -0.019266702878661408,
            -0.017279015343495196,
            null,
            -0.017279015343495196,
            -0.014367720523187301,
            null,
            -0.014367720523187301,
            -0.01094759380188607,
            null,
            -0.01094759380188607,
            -0.0074053982135859,
            null,
            -0.0074053982135859,
            -0.004115282687732844,
            null,
            -0.004115282687732844,
            -0.0014948972254606413,
            null,
            -0.0014948972254606413,
            0,
            null,
            0,
            0,
            null,
            0,
            0,
            null
           ]
          },
          {
           "i": [],
           "j": [],
           "k": [],
           "name": "Faces",
           "type": "mesh3d",
           "x": {
            "bdata": "PLTIdr6fij8+30+Nl26SP11kO99PjZc/CUaXoANunD9tNpf24GOgP6qy9FQdUKI/aoTCjK4dpD9Vdozo7/qlPzC5Z3K8Dqg/manBEKNmqj+hcJfQkO2sP+7rnl1+dK8/q1XwSzLmsD9A/P94GPCxPztNs0W53rI/LyXUK4LFsz+WObmroLu0P9LXUHIQ0rU/CtejcD0Ktz9SuB6F61G4P5qZmZmZmbk/",
            "dtype": "f8"
           },
           "y": {
            "bdata": "AAAAAAAAAAAAAAAAAAAAgAAAAAAAAACAqEwcILBWID/fJbK6veIzP7oE1sVjuj4/gBahWOerQj/eSiHooM1CP758gppSrT4/MHjvajFMMT+Vls/OHeaePjfPN6xIPTG/EgaPye6fPr+IbyrSDchCv9iLojmnp0K/wZzp9aO0Pr9mmqK2jN8zvyopEEtgVCC/AAAAAAAAAAAAAAAAAAAAAAAAAAAAAAAA",
            "dtype": "f8"
           },
           "z": {
            "bdata": "AAAAAAAAAAAAAAAAAAAAgAAAAAAAAACAa57KmhJ+WL9Jvx8ENNtwv06E52QnVX6/1dIS1LZrhr+fcNV42WyNvzFP7zqasZG/6K75gKi6k7//HOCq2nSUv2X5D4umupO/g8U6F5exkb/hCh/O0myNv9S8yiqxa4a/mWNCch9Vfr/k9evIL9twv+5WbqwNfli/AAAAAAAAAAAAAAAAAAAAAAAAAAAAAAAA",
            "dtype": "f8"
           }
          }
         ],
         "layout": {
          "annotations": [
           {
            "showarrow": false,
            "text": "Time: 0.44s (Step: 45/100)",
            "x": 0.05,
            "xref": "paper",
            "y": 0.95,
            "yref": "paper"
           }
          ]
         },
         "name": "44"
        },
        {
         "data": [
          {
           "name": "Free Nodes",
           "type": "scatter3d",
           "x": {
            "bdata": "/rX91QVunD/sFAdF5mOgPxBGoA4qUKI/CrgjgcMdpD94GQERCvulP8nJsSfVDqg/pWuTPbJmqj+7ExjHkO2sP+BDihpvdK8/oCXR4iXmsD9MAl1UC/CxP2pqk7yu3rI/WYCSxHvFsz/ad3r/nbu0PzYTv+MP0rU/",
            "dtype": "f8"
           },
           "y": {
            "bdata": "ZyWnyQbcID8RP4JHBoU0P6zrj0wmtT8/OFhYeD9EQz9+ckii+GZDPyWe38A0pz8/DZUG+ZjYMT8pPPiOss6bPiP++2EtyzG/0M6nkCWbP7+wRQBx8mFDv+U1tw1qQEO/c95l5/WvP78Lb45wJII0v7W1tCLw2SC/",
            "dtype": "f8"
           },
           "z": {
            "bdata": "GB8IYkB8WL90mRLtH9pwv8Ny8OeHU36/Aw1UIbpqhr+o8x/axmuNv3hWg74MsZG/6kqeghm6k79JhvcoS3SUvzFfmE8XupO/gYfKMgmxkb/3JoY9v2uNvw6IRJOzaoa/d5agin5Tfr+hCMvOGtpwvy5tnQ86fFi/",
            "dtype": "f8"
           }
          },
          {
           "name": "Fixed Nodes",
           "type": "scatter3d",
           "x": {
            "bdata": "PLTIdr6fij8+30+Nl26SP11kO99PjZc/CtejcD0Ktz9SuB6F61G4P5qZmZmZmbk/",
            "dtype": "f8"
           },
           "y": {
            "bdata": "AAAAAAAAAAAAAAAAAAAAgAAAAAAAAACAAAAAAAAAAAAAAAAAAAAAAAAAAAAAAAAA",
            "dtype": "f8"
           },
           "z": {
            "bdata": "AAAAAAAAAAAAAAAAAAAAgAAAAAAAAACAAAAAAAAAAAAAAAAAAAAAAAAAAAAAAAAA",
            "dtype": "f8"
           }
          },
          {
           "name": "Edges",
           "type": "scatter3d",
           "x": [
            0.013000000000000005,
            0.01800000000000001,
            null,
            0.01800000000000001,
            0.02300000000000001,
            null,
            0.02300000000000001,
            0.027763453660943675,
            null,
            0.027763453660943675,
            0.03201217262862052,
            null,
            0.03201217262862052,
            0.03576785496273882,
            null,
            0.03576785496273882,
            0.03928957892809144,
            null,
            0.03928957892809144,
            0.04293090303012809,
            null,
            0.04293090303012809,
            0.046988164039152354,
            null,
            0.046988164039152354,
            0.05156476022394622,
            null,
            0.05156476022394622,
            0.056499981215928106,
            null,
            0.056499981215928106,
            0.061435195913084106,
            null,
            0.061435195913084106,
            0.06601177966617522,
            null,
            0.06601177966617522,
            0.07006903466845776,
            null,
            0.07006903466845776,
            0.0737103662863007,
            null,
            0.0737103662863007,
            0.07723210858466824,
            null,
            0.07723210858466824,
            0.08098781096711552,
            null,
            0.08098781096711552,
            0.08523654279913448,
            null,
            0.08523654279913448,
            0.09,
            null,
            0.09,
            0.095,
            null,
            0.095,
            0.1,
            null
           ],
           "y": [
            0,
            0,
            null,
            0,
            0,
            null,
            0,
            0.00012862761361835258,
            null,
            0.00012862761361835258,
            0.0003131046610258407,
            null,
            0.0003131046610258407,
            0.00048381981883921055,
            null,
            0.00048381981883921055,
            0.0005879697716320081,
            null,
            0.0005879697716320081,
            0.000592109111099484,
            null,
            0.000592109111099484,
            0.0004829887192258928,
            null,
            0.0004829887192258928,
            0.0002723096340793853,
            null,
            0.0002723096340793853,
            4.1436272987886366e-7,
            null,
            4.1436272987886366e-7,
            -0.0002715097234471128,
            null,
            -0.0002715097234471128,
            -0.0004822699271749111,
            null,
            -0.0004822699271749111,
            -0.0005915101810406911,
            null,
            -0.0005915101810406911,
            -0.000587512763951356,
            null,
            -0.000587512763951356,
            -0.00048351052773607585,
            null,
            -0.00048351052773607585,
            -0.0003129328693434053,
            null,
            -0.0003129328693434053,
            -0.00012856537191778335,
            null,
            -0.00012856537191778335,
            0,
            null,
            0,
            0,
            null,
            0,
            0,
            null
           ],
           "z": [
            0,
            0,
            null,
            0,
            0,
            null,
            0,
            -0.0014944676150907051,
            null,
            -0.0014944676150907051,
            -0.004114269934836979,
            null,
            -0.004114269934836979,
            -0.007403880007612332,
            null,
            -0.007403880007612332,
            -0.01094575323305103,
            null,
            -0.01094575323305103,
            -0.014365724116936665,
            null,
            -0.014365724116936665,
            -0.017276953819268276,
            null,
            -0.017276953819268276,
            -0.019264601323423593,
            null,
            -0.019264601323423593,
            -0.019974874854489042,
            null,
            -0.019974874854489042,
            -0.019264568551164266,
            null,
            -0.019264568551164266,
            -0.01727690098289925,
            null,
            -0.01727690098289925,
            -0.014365667405189948,
            null,
            -0.014365667405189948,
            -0.010945704395059177,
            null,
            -0.010945704395059177,
            -0.007403845122131983,
            null,
            -0.007403845122131983,
            -0.00411425086775999,
            null,
            -0.00411425086775999,
            -0.0014944617273247684,
            null,
            -0.0014944617273247684,
            0,
            null,
            0,
            0,
            null,
            0,
            0,
            null
           ]
          },
          {
           "i": [],
           "j": [],
           "k": [],
           "name": "Faces",
           "type": "mesh3d",
           "x": {
            "bdata": "PLTIdr6fij8+30+Nl26SP11kO99PjZc//rX91QVunD/sFAdF5mOgPxBGoA4qUKI/CrgjgcMdpD94GQERCvulP8nJsSfVDqg/pWuTPbJmqj+7ExjHkO2sP+BDihpvdK8/oCXR4iXmsD9MAl1UC/CxP2pqk7yu3rI/WYCSxHvFsz/ad3r/nbu0PzYTv+MP0rU/CtejcD0Ktz9SuB6F61G4P5qZmZmZmbk/",
            "dtype": "f8"
           },
           "y": {
            "bdata": "AAAAAAAAAAAAAAAAAAAAgAAAAAAAAACAZyWnyQbcID8RP4JHBoU0P6zrj0wmtT8/OFhYeD9EQz9+ckii+GZDPyWe38A0pz8/DZUG+ZjYMT8pPPiOss6bPiP++2EtyzG/0M6nkCWbP7+wRQBx8mFDv+U1tw1qQEO/c95l5/WvP78Lb45wJII0v7W1tCLw2SC/AAAAAAAAAAAAAAAAAAAAAAAAAAAAAAAA",
            "dtype": "f8"
           },
           "z": {
            "bdata": "AAAAAAAAAAAAAAAAAAAAgAAAAAAAAACAGB8IYkB8WL90mRLtH9pwv8Ny8OeHU36/Aw1UIbpqhr+o8x/axmuNv3hWg74MsZG/6kqeghm6k79JhvcoS3SUvzFfmE8XupO/gYfKMgmxkb/3JoY9v2uNvw6IRJOzaoa/d5agin5Tfr+hCMvOGtpwvy5tnQ86fFi/AAAAAAAAAAAAAAAAAAAAAAAAAAAAAAAA",
            "dtype": "f8"
           }
          }
         ],
         "layout": {
          "annotations": [
           {
            "showarrow": false,
            "text": "Time: 0.45s (Step: 46/100)",
            "x": 0.05,
            "xref": "paper",
            "y": 0.95,
            "yref": "paper"
           }
          ]
         },
         "name": "45"
        },
        {
         "data": [
          {
           "name": "Free Nodes",
           "type": "scatter3d",
           "x": {
            "bdata": "Sje8HAhunD9r2wi962OgPz0t2is3UKI/r49MGdkdpD81HLwFJfulP56Jxp3uDqg/nICt4MFmqj81EyG9kO2sPxx5GmBfdK8/SXedGBnmsD8V3M7I/e+xPwf40+Cj3rI/Fef/KnXFsz9bTys+m7u0P/kKxFAP0rU/",
            "dtype": "f8"
           },
           "y": {
            "bdata": "4fba+S5hIT/RsCvVFCc1Px3sUA3GV0A/YAqf5lvcQz/8tJ7MDQBEPyn7+AdKUEA/ZgEk1JBkMj8HlmP6CHuXPl+Egco6WTK/SKJF9DBLQL9urZYIzftDvwsHhBUc2UO/bvIFbpJVQL81KpEPoiQ1v7bflIRoXyG/",
            "dtype": "f8"
           },
           "z": {
            "bdata": "sX5c+196WL+iXVdyA9lwv/NvAM3bUX6/+CfJwrVphr+6b7Hkq2qNv2fuv/R6sJG/pmrwJ4a5k79MrdpBt3OUvy0Id6uDuZO/zftB63awkb+a9Uwho2qNv6owxBuuaYa/zH52r9BRfr+/GKw5/dhwv/RAE+pXeli/",
            "dtype": "f8"
           }
          },
          {
           "name": "Fixed Nodes",
           "type": "scatter3d",
           "x": {
            "bdata": "PLTIdr6fij8+30+Nl26SP11kO99PjZc/CtejcD0Ktz9SuB6F61G4P5qZmZmZmbk/",
            "dtype": "f8"
           },
           "y": {
            "bdata": "AAAAAAAAAAAAAAAAAAAAgAAAAAAAAACAAAAAAAAAAAAAAAAAAAAAAAAAAAAAAAAA",
            "dtype": "f8"
           },
           "z": {
            "bdata": "AAAAAAAAAAAAAAAAAAAAgAAAAAAAAACAAAAAAAAAAAAAAAAAAAAAAAAAAAAAAAAA",
            "dtype": "f8"
           }
          },
          {
           "name": "Edges",
           "type": "scatter3d",
           "x": [
            0.013000000000000005,
            0.01800000000000001,
            null,
            0.01800000000000001,
            0.02300000000000001,
            null,
            0.02300000000000001,
            0.027763487581118164,
            null,
            0.027763487581118164,
            0.03201233561087843,
            null,
            0.03201233561087843,
            0.035768245795305444,
            null,
            0.035768245795305444,
            0.03929022249056346,
            null,
            0.03929022249056346,
            0.04293170638089131,
            null,
            0.04293170638089131,
            0.04698892284365573,
            null,
            0.04698892284365573,
            0.05156522624634016,
            null,
            0.05156522624634016,
            0.056499980055866685,
            null,
            0.056499980055866685,
            0.06143472717416129,
            null,
            0.06143472717416129,
            0.06601101733164429,
            null,
            0.06601101733164429,
            0.0700682273153322,
            null,
            0.0700682273153322,
            0.07370971907582212,
            null,
            0.07370971907582212,
            0.07723171520038037,
            null,
            0.07723171520038037,
            0.08098764674951779,
            null,
            0.08098764674951779,
            0.08523650857754807,
            null,
            0.08523650857754807,
            0.09,
            null,
            0.09,
            0.095,
            null,
            0.095,
            0.1,
            null
           ],
           "y": [
            0,
            0,
            null,
            0,
            0,
            null,
            0,
            0.0001325960010287097,
            null,
            0.0001325960010287097,
            0.0003227640019492053,
            null,
            0.0003227640019492053,
            0.0004987446833476548,
            null,
            0.0004987446833476548,
            0.0006061028227509306,
            null,
            0.0006061028227509306,
            0.0006103579882982542,
            null,
            0.0006103579882982542,
            0.0004978524666013662,
            null,
            0.0004978524666013662,
            0.0002806523881560191,
            null,
            0.0002806523881560191,
            3.4988829113036955e-7,
            null,
            3.4988829113036955e-7,
            -0.00027997670486540853,
            null,
            -0.00027997670486540853,
            -0.0004972447427862925,
            null,
            -0.0004972447427862925,
            -0.0006098509922386872,
            null,
            -0.0006098509922386872,
            -0.0006057154778604535,
            null,
            -0.0006057154778604535,
            -0.0004984822262908536,
            null,
            -0.0004984822262908536,
            -0.00032261807024683574,
            null,
            -0.00032261807024683574,
            -0.0001325430951426545,
            null,
            -0.0001325430951426545,
            0,
            null,
            0,
            0,
            null,
            0,
            0,
            null
           ],
           "z": [
            0,
            0,
            null,
            0,
            0,
            null,
            0,
            -0.001494020206742091,
            null,
            -0.001494020206742091,
            -0.004113210166415556,
            null,
            -0.004113210166415556,
            -0.007402285191371749,
            null,
            -0.007402285191371749,
            -0.010943813330545268,
            null,
            -0.010943813330545268,
            -0.01436361591020573,
            null,
            -0.01436361591020573,
            -0.017274781406725028,
            null,
            -0.017274781406725028,
            -0.01926240557450378,
            null,
            -0.01926240557450378,
            -0.01997267093126469,
            null,
            -0.01997267093126469,
            -0.019262368526831764,
            null,
            -0.019262368526831764,
            -0.01727472124957412,
            null,
            -0.01727472124957412,
            -0.014363550618891097,
            null,
            -0.014363550618891097,
            -0.010943756315576831,
            null,
            -0.010943756315576831,
            -0.007402243783331829,
            null,
            -0.007402243783331829,
            -0.004113186990030992,
            null,
            -0.004113186990030992,
            -0.001494012693275035,
            null,
            -0.001494012693275035,
            0,
            null,
            0,
            0,
            null,
            0,
            0,
            null
           ]
          },
          {
           "i": [],
           "j": [],
           "k": [],
           "name": "Faces",
           "type": "mesh3d",
           "x": {
            "bdata": "PLTIdr6fij8+30+Nl26SP11kO99PjZc/Sje8HAhunD9r2wi962OgPz0t2is3UKI/r49MGdkdpD81HLwFJfulP56Jxp3uDqg/nICt4MFmqj81EyG9kO2sPxx5GmBfdK8/SXedGBnmsD8V3M7I/e+xPwf40+Cj3rI/Fef/KnXFsz9bTys+m7u0P/kKxFAP0rU/CtejcD0Ktz9SuB6F61G4P5qZmZmZmbk/",
            "dtype": "f8"
           },
           "y": {
            "bdata": "AAAAAAAAAAAAAAAAAAAAgAAAAAAAAACA4fba+S5hIT/RsCvVFCc1Px3sUA3GV0A/YAqf5lvcQz/8tJ7MDQBEPyn7+AdKUEA/ZgEk1JBkMj8HlmP6CHuXPl+Egco6WTK/SKJF9DBLQL9urZYIzftDvwsHhBUc2UO/bvIFbpJVQL81KpEPoiQ1v7bflIRoXyG/AAAAAAAAAAAAAAAAAAAAAAAAAAAAAAAA",
            "dtype": "f8"
           },
           "z": {
            "bdata": "AAAAAAAAAAAAAAAAAAAAgAAAAAAAAACAsX5c+196WL+iXVdyA9lwv/NvAM3bUX6/+CfJwrVphr+6b7Hkq2qNv2fuv/R6sJG/pmrwJ4a5k79MrdpBt3OUvy0Id6uDuZO/zftB63awkb+a9Uwho2qNv6owxBuuaYa/zH52r9BRfr+/GKw5/dhwv/RAE+pXeli/AAAAAAAAAAAAAAAAAAAAAAAAAAAAAAAA",
            "dtype": "f8"
           }
          }
         ],
         "layout": {
          "annotations": [
           {
            "showarrow": false,
            "text": "Time: 0.46s (Step: 47/100)",
            "x": 0.05,
            "xref": "paper",
            "y": 0.95,
            "yref": "paper"
           }
          ]
         },
         "name": "46"
        },
        {
         "data": [
          {
           "name": "Free Nodes",
           "type": "scatter3d",
           "x": {
            "bdata": "25bBdApunD/fdXFe8WOgPyeUOaxEUKI/2GGPVO8dpD8f2ePFQPulP4Xp1tMID6g/FHaM+dFmqj+V0qSykO2sP21WsS5PdK8/DRul7QvmsD9306XW7++xP8uOsLKY3rI/Y+E8X27Fsz/4MtdnmLu0P09sYbkO0rU/",
            "dtype": "f8"
           },
           "y": {
            "bdata": "9V/65CrmIT8WwUqg7Mg1P6YRyLLN1EA/H7DRg0F0RD9YG7wt55hEP/DLEN/AzEA/GAJJOS3wMj+gi79+d0OSPjr8No5a5zK/nV0BcsfIQL+03MOMlJVEv4je4Cu2cUS/feSbahPTQL8JJFzZ/8Y1vxrucyrF5CG/",
            "dtype": "f8"
           },
           "z": {
            "bdata": "XI0ybHF4WL9QsC2X3tdwv99s9RgjUH6/G/Z7u6lohr/LHzuciGmNv4w8/N/kr5G/ipr2c+64k79kSVL5HnOUvyTBHqPruJO/L1eEReCvkb/iXXKDfmmNvym6ns2gaIa/Y7n97xVQfr+rNXwT19dwvxMwKUxneFi/",
            "dtype": "f8"
           }
          },
          {
           "name": "Fixed Nodes",
           "type": "scatter3d",
           "x": {
            "bdata": "PLTIdr6fij8+30+Nl26SP11kO99PjZc/CtejcD0Ktz9SuB6F61G4P5qZmZmZmbk/",
            "dtype": "f8"
           },
           "y": {
            "bdata": "AAAAAAAAAAAAAAAAAAAAgAAAAAAAAACAAAAAAAAAAAAAAAAAAAAAAAAAAAAAAAAA",
            "dtype": "f8"
           },
           "z": {
            "bdata": "AAAAAAAAAAAAAAAAAAAAgAAAAAAAAACAAAAAAAAAAAAAAAAAAAAAAAAAAAAAAAAA",
            "dtype": "f8"
           }
          },
          {
           "name": "Edges",
           "type": "scatter3d",
           "x": [
            0.013000000000000005,
            0.01800000000000001,
            null,
            0.01800000000000001,
            0.02300000000000001,
            null,
            0.02300000000000001,
            0.02776352250693646,
            null,
            0.02776352250693646,
            0.03201250341292527,
            null,
            0.03201250341292527,
            0.03576864817004149,
            null,
            0.03576864817004149,
            0.03929088504054662,
            null,
            0.03929088504054662,
            0.042932533413408296,
            null,
            0.042932533413408296,
            0.046989703997911504,
            null,
            0.046989703997911504,
            0.05156570597885604,
            null,
            0.05156570597885604,
            0.05649997883521,
            null,
            0.05649997883521,
            0.061434244584842236,
            null,
            0.061434244584842236,
            0.0660102324664928,
            null,
            0.0660102324664928,
            0.07006739607261446,
            null,
            0.07006739607261446,
            0.0737090526823138,
            null,
            0.0737090526823138,
            0.07723131013051936,
            null,
            0.07723131013051936,
            0.0809874776379721,
            null,
            0.0809874776379721,
            0.0852364733304267,
            null,
            0.0852364733304267,
            0.09,
            null,
            0.09,
            0.095,
            null,
            0.095,
            0.1,
            null
           ],
           "y": [
            0,
            0,
            null,
            0,
            0,
            null,
            0,
            0.0001365592347510877,
            null,
            0.0001365592347510877,
            0.00033241059308421314,
            null,
            0.00033241059308421314,
            0.0005136494051503529,
            null,
            0.0005136494051503529,
            0.0006242103478491002,
            null,
            0.0006242103478491002,
            0.0006285790254601893,
            null,
            0.0006285790254601893,
            0.0005126897577895067,
            null,
            0.0005126897577895067,
            0.00028897384735063333,
            null,
            0.00028897384735063333,
            2.721479848128754e-7,
            null,
            2.721479848128754e-7,
            -0.0002884479601696386,
            null,
            -0.0002884479601696386,
            -0.0005122159818808262,
            null,
            -0.0005122159818808262,
            -0.0006281829205637885,
            null,
            -0.0006281829205637885,
            -0.0006239070423878649,
            null,
            -0.0006239070423878649,
            -0.0005134434515802335,
            null,
            -0.0005134434515802335,
            -0.0003322958594798591,
            null,
            -0.0003322958594798591,
            -0.00013651758965936637,
            null,
            -0.00013651758965936637,
            0,
            null,
            0,
            0,
            null,
            0,
            0,
            null
           ],
           "z": [
            0,
            0,
            null,
            0,
            0,
            null,
            0,
            -0.00149355961256322,
            null,
            -0.00149355961256322,
            -0.004112119192409905,
            null,
            -0.004112119192409905,
            -0.0074006434436697235,
            null,
            -0.0074006434436697235,
            -0.01094181636244245,
            null,
            -0.01094181636244245,
            -0.014361445682325688,
            null,
            -0.014361445682325688,
            -0.0172725450238969,
            null,
            -0.0172725450238969,
            -0.019260145023191323,
            null,
            -0.019260145023191323,
            -0.019970401732800083,
            null,
            -0.019970401732800083,
            -0.019260103064597037,
            null,
            -0.019260103064597037,
            -0.01727247642801116,
            null,
            -0.01727247642801116,
            -0.014361370455204307,
            null,
            -0.014361370455204307,
            -0.010941749835038444,
            null,
            -0.010941749835038444,
            -0.007400594418739056,
            null,
            -0.007400594418739056,
            -0.004112091198988403,
            null,
            -0.004112091198988403,
            -0.001493550182789076,
            null,
            -0.001493550182789076,
            0,
            null,
            0,
            0,
            null,
            0,
            0,
            null
           ]
          },
          {
           "i": [],
           "j": [],
           "k": [],
           "name": "Faces",
           "type": "mesh3d",
           "x": {
            "bdata": "PLTIdr6fij8+30+Nl26SP11kO99PjZc/25bBdApunD/fdXFe8WOgPyeUOaxEUKI/2GGPVO8dpD8f2ePFQPulP4Xp1tMID6g/FHaM+dFmqj+V0qSykO2sP21WsS5PdK8/DRul7QvmsD9306XW7++xP8uOsLKY3rI/Y+E8X27Fsz/4MtdnmLu0P09sYbkO0rU/CtejcD0Ktz9SuB6F61G4P5qZmZmZmbk/",
            "dtype": "f8"
           },
           "y": {
            "bdata": "AAAAAAAAAAAAAAAAAAAAgAAAAAAAAACA9V/65CrmIT8WwUqg7Mg1P6YRyLLN1EA/H7DRg0F0RD9YG7wt55hEP/DLEN/AzEA/GAJJOS3wMj+gi79+d0OSPjr8No5a5zK/nV0BcsfIQL+03MOMlJVEv4je4Cu2cUS/feSbahPTQL8JJFzZ/8Y1vxrucyrF5CG/AAAAAAAAAAAAAAAAAAAAAAAAAAAAAAAA",
            "dtype": "f8"
           },
           "z": {
            "bdata": "AAAAAAAAAAAAAAAAAAAAgAAAAAAAAACAXI0ybHF4WL9QsC2X3tdwv99s9RgjUH6/G/Z7u6lohr/LHzuciGmNv4w8/N/kr5G/ipr2c+64k79kSVL5HnOUvyTBHqPruJO/L1eEReCvkb/iXXKDfmmNvym6ns2gaIa/Y7n97xVQfr+rNXwT19dwvxMwKUxneFi/AAAAAAAAAAAAAAAAAAAAAAAAAAAAAAAA",
            "dtype": "f8"
           }
          }
         ],
         "layout": {
          "annotations": [
           {
            "showarrow": false,
            "text": "Time: 0.47s (Step: 48/100)",
            "x": 0.05,
            "xref": "paper",
            "y": 0.95,
            "yref": "paper"
           }
          ]
         },
         "name": "47"
        },
        {
         "data": [
          {
           "name": "Free Nodes",
           "type": "scatter3d",
           "x": {
            "bdata": "HpwA3gxunD89zxwp92OgP0JxYo9SUKI/yvdOMgYepD8lGK9QXfulP2xxIckjD6g/6dS3h+Jmqj87iqGnkO2sPyRfwYY+dK8/LkBDYv7lsD/bGD9+4e+xPy+WcDKN3rI/7GRyYWfFsz8H1418lbu0PzEDmh0O0rU/",
            "dtype": "f8"
           },
           "y": {
            "bdata": "T4CEEf1qIj+gZitXkWo2P+fXA5itUUE/DFkkyPULRT96WWxTjDFFP7vC8G8ISUE/Y/kzeIR7Mz9wDlG4vxGJPuqdbUp0dTO/ee2Y4kpGQb8W4UgyPy9FvyyRzJswCkW/wigainhQQb/R3l6qN2k2v/l1soIBaiK/",
            "dtype": "f8"
           },
           "z": {
            "bdata": "8+NXt3R2WL8D6D9dsdZwv5/XPM5dTn6/fpb6DJZnhr/xSPACXWiNv5bT9oFKr5G/jl1raVK4k79ZgD9TgnKUv3iMfjtPuJO/RMA7R0Wvkb+og8pvUWiNv8c987OLZ4a/3fFeXk5Ofr+hLhBoqNZwv2r7XElodli/",
            "dtype": "f8"
           }
          },
          {
           "name": "Fixed Nodes",
           "type": "scatter3d",
           "x": {
            "bdata": "PLTIdr6fij8+30+Nl26SP11kO99PjZc/CtejcD0Ktz9SuB6F61G4P5qZmZmZmbk/",
            "dtype": "f8"
           },
           "y": {
            "bdata": "AAAAAAAAAAAAAAAAAAAAgAAAAAAAAACAAAAAAAAAAAAAAAAAAAAAAAAAAAAAAAAA",
            "dtype": "f8"
           },
           "z": {
            "bdata": "AAAAAAAAAAAAAAAAAAAAgAAAAAAAAACAAAAAAAAAAAAAAAAAAAAAAAAAAAAAAAAA",
            "dtype": "f8"
           }
          },
          {
           "name": "Edges",
           "type": "scatter3d",
           "x": [
            0.013000000000000005,
            0.01800000000000001,
            null,
            0.01800000000000001,
            0.02300000000000001,
            null,
            0.02300000000000001,
            0.02776355843539246,
            null,
            0.02776355843539246,
            0.03201267601835276,
            null,
            0.03201267601835276,
            0.03576906204509324,
            null,
            0.03576906204509324,
            0.03929156650654837,
            null,
            0.03929156650654837,
            0.04293338403617523,
            null,
            0.04293338403617523,
            0.04699050741394015,
            null,
            0.04699050741394015,
            0.051566199366712535,
            null,
            0.051566199366712535,
            0.05649997755314869,
            null,
            0.05649997755314869,
            0.061433748197201404,
            null,
            0.061433748197201404,
            0.06600942515365268,
            null,
            0.06600942515365268,
            0.07006654102505953,
            null,
            0.07006654102505953,
            0.07370836717071748,
            null,
            0.07370836717071748,
            0.07723089341233774,
            null,
            0.07723089341233774,
            0.08098730364676153,
            null,
            0.08098730364676153,
            0.08523643706031404,
            null,
            0.08523643706031404,
            0.09,
            null,
            0.09,
            0.095,
            null,
            0.095,
            0.1,
            null
           ],
           "y": [
            0,
            0,
            null,
            0,
            0,
            null,
            0,
            0.0001405176087780923,
            null,
            0.0001405176087780923,
            0.00034204529144475117,
            null,
            0.00034204529144475117,
            0.0005285356164950156,
            null,
            0.0005285356164950156,
            0.0006422948938815966,
            null,
            0.0006422948938815966,
            0.0006467757401392015,
            null,
            0.0006467757401392015,
            0.0005275050351710367,
            null,
            0.0005275050351710367,
            0.0002972792064638489,
            null,
            0.0002972792064638489,
            1.8678107607989005e-7,
            null,
            1.8678107607989005e-7,
            -0.00029691781167292977,
            null,
            -0.00029691781167292977,
            -0.0005271783495070368,
            null,
            -0.0005271783495070368,
            -0.0006465014053622954,
            null,
            -0.0006465014053622954,
            -0.0006420838686591926,
            null,
            -0.0006420838686591926,
            -0.0005283917018499495,
            null,
            -0.0005283917018499495,
            -0.00034196480771296356,
            null,
            -0.00034196480771296356,
            -0.00014048832358508326,
            null,
            -0.00014048832358508326,
            0,
            null,
            0,
            0,
            null,
            0,
            0,
            null
           ],
           "z": [
            0,
            0,
            null,
            0,
            0,
            null,
            0,
            -0.0014930858427517596,
            null,
            -0.0014930858427517596,
            -0.004110997037054534,
            null,
            -0.004110997037054534,
            -0.007398954799830464,
            null,
            -0.007398954799830464,
            -0.010939762374003733,
            null,
            -0.010939762374003733,
            -0.014359213497332908,
            null,
            -0.014359213497332908,
            -0.017270244772322828,
            null,
            -0.017270244772322828,
            -0.019257819828309368,
            null,
            -0.019257819828309368,
            -0.019968067484910843,
            null,
            -0.019968067484910843,
            -0.019257772451635152,
            null,
            -0.019257772451635152,
            -0.01727016684793649,
            null,
            -0.01727016684793649,
            -0.01435912725838924,
            null,
            -0.01435912725838924,
            -0.010939685277121648,
            null,
            -0.010939685277121648,
            -0.007398897292599985,
            null,
            -0.007398897292599985,
            -0.004110963666800111,
            null,
            -0.004110963666800111,
            -0.0014930742667755522,
            null,
            -0.0014930742667755522,
            0,
            null,
            0,
            0,
            null,
            0,
            0,
            null
           ]
          },
          {
           "i": [],
           "j": [],
           "k": [],
           "name": "Faces",
           "type": "mesh3d",
           "x": {
            "bdata": "PLTIdr6fij8+30+Nl26SP11kO99PjZc/HpwA3gxunD89zxwp92OgP0JxYo9SUKI/yvdOMgYepD8lGK9QXfulP2xxIckjD6g/6dS3h+Jmqj87iqGnkO2sPyRfwYY+dK8/LkBDYv7lsD/bGD9+4e+xPy+WcDKN3rI/7GRyYWfFsz8H1418lbu0PzEDmh0O0rU/CtejcD0Ktz9SuB6F61G4P5qZmZmZmbk/",
            "dtype": "f8"
           },
           "y": {
            "bdata": "AAAAAAAAAAAAAAAAAAAAgAAAAAAAAACAT4CEEf1qIj+gZitXkWo2P+fXA5itUUE/DFkkyPULRT96WWxTjDFFP7vC8G8ISUE/Y/kzeIR7Mz9wDlG4vxGJPuqdbUp0dTO/ee2Y4kpGQb8W4UgyPy9FvyyRzJswCkW/wigainhQQb/R3l6qN2k2v/l1soIBaiK/AAAAAAAAAAAAAAAAAAAAAAAAAAAAAAAA",
            "dtype": "f8"
           },
           "z": {
            "bdata": "AAAAAAAAAAAAAAAAAAAAgAAAAAAAAACA8+NXt3R2WL8D6D9dsdZwv5/XPM5dTn6/fpb6DJZnhr/xSPACXWiNv5bT9oFKr5G/jl1raVK4k79ZgD9TgnKUv3iMfjtPuJO/RMA7R0Wvkb+og8pvUWiNv8c987OLZ4a/3fFeXk5Ofr+hLhBoqNZwv2r7XElodli/AAAAAAAAAAAAAAAAAAAAAAAAAAAAAAAA",
            "dtype": "f8"
           }
          }
         ],
         "layout": {
          "annotations": [
           {
            "showarrow": false,
            "text": "Time: 0.48s (Step: 49/100)",
            "x": 0.05,
            "xref": "paper",
            "y": 0.95,
            "yref": "paper"
           }
          ]
         },
         "name": "48"
        },
        {
         "data": [
          {
           "name": "Free Nodes",
           "type": "scatter3d",
           "x": {
            "bdata": "qBdvWA9unD+LGOwc/WOgP1Q7AtVgUKI/Axn6sR0epD8EVmClevulP8Ur7nw/D6g/OA+/ivNmqj+60R6ckO2sP3gmy2gtdK8/esTcdvDlsD9ezgLA0u+xP3JnZWCB3rI/jHLQMWDFsz9Dd2J8kru0P3OHcX0N0rU/",
            "dtype": "f8"
           },
           "y": {
            "bdata": "MoG0GajvIj/8PIbDBgw3P2enNVdpzkE/mK64UH6jRT9Yjw38BMpFP+q5Jn8qxUE/ZOrzYa0GND+sD0ka2rh6PsPGYR5vAzS/pkqcr6/DQb+lSr0Aw8hFv4nguI6DokW/5P0ZV7zNQb+sk0tHQws3v8VT/uoY7yK/",
            "dtype": "f8"
           },
           "z": {
            "bdata": "2k3L3Wl0WL/l/x/Fe9VwvxXhk+2LTH6/mWnMt3pmhr9IAf0ZKWeNv87+BtyrrpG/GRvaCrK3k79XE55T4XGUv5Ab6Xmut5O/q4as9qWukb/yEpHzG2eNv9OKPttuZoa/yw8AD3pMfr9YfrFEcdVwvwKik/dadFi/",
            "dtype": "f8"
           }
          },
          {
           "name": "Fixed Nodes",
           "type": "scatter3d",
           "x": {
            "bdata": "PLTIdr6fij8+30+Nl26SP11kO99PjZc/CtejcD0Ktz9SuB6F61G4P5qZmZmZmbk/",
            "dtype": "f8"
           },
           "y": {
            "bdata": "AAAAAAAAAAAAAAAAAAAAgAAAAAAAAACAAAAAAAAAAAAAAAAAAAAAAAAAAAAAAAAA",
            "dtype": "f8"
           },
           "z": {
            "bdata": "AAAAAAAAAAAAAAAAAAAAgAAAAAAAAACAAAAAAAAAAAAAAAAAAAAAAAAAAAAAAAAA",
            "dtype": "f8"
           }
          },
          {
           "name": "Edges",
           "type": "scatter3d",
           "x": [
            0.013000000000000005,
            0.01800000000000001,
            null,
            0.01800000000000001,
            0.02300000000000001,
            null,
            0.02300000000000001,
            0.027763595364170307,
            null,
            0.027763595364170307,
            0.03201285341315082,
            null,
            0.03201285341315082,
            0.03576948738292765,
            null,
            0.03576948738292765,
            0.039292266822529974,
            null,
            0.039292266822529974,
            0.04293425816301169,
            null,
            0.04293425816301169,
            0.0469913330080867,
            null,
            0.0469913330080867,
            0.0515667063587259,
            null,
            0.0515667063587259,
            0.05649997621313525,
            null,
            0.05649997621313525,
            0.06143323806970796,
            null,
            0.06143323806970796,
            0.0660085954848614,
            null,
            0.0660085954848614,
            0.07006566226737607,
            null,
            0.07006566226737607,
            0.07370766261501929,
            null,
            0.07370766261501929,
            0.07723046508949433,
            null,
            0.07723046508949433,
            0.0809871247933787,
            null,
            0.0809871247933787,
            0.08523639977059165,
            null,
            0.08523639977059165,
            0.09,
            null,
            0.09,
            0.095,
            null,
            0.095,
            0.1,
            null
           ],
           "y": [
            0,
            0,
            null,
            0,
            0,
            null,
            0,
            0.00014447142607655058,
            null,
            0.00014447142607655058,
            0.0003516689789870434,
            null,
            0.0003516689789870434,
            0.0005434049948409404,
            null,
            0.0005434049948409404,
            0.000660359074975375,
            null,
            0.000660359074975375,
            0.0006649517382410859,
            null,
            0.0006649517382410859,
            0.0005423028472273915,
            null,
            0.0005423028472273915,
            0.0003055737779075528,
            null,
            0.0003055737779075528,
            9.954749786387116e-8,
            null,
            9.954749786387116e-8,
            -0.0003053804670179844,
            null,
            -0.0003053804670179844,
            -0.0005421264497463454,
            null,
            -0.0005421264497463454,
            -0.0006648018038311788,
            null,
            -0.0006648018038311788,
            -0.0006602423067709899,
            null,
            -0.0006602423067709899,
            -0.0005433244352416847,
            null,
            -0.0005433244352416847,
            -0.0003516234640257808,
            null,
            -0.0003516234640257808,
            -0.00014445475744353904,
            null,
            -0.00014445475744353904,
            0,
            null,
            0,
            0,
            null,
            0,
            0,
            null
           ],
           "z": [
            0,
            0,
            null,
            0,
            0,
            null,
            0,
            -0.0014925989009285574,
            null,
            -0.0014925989009285574,
            -0.004109843708647508,
            null,
            -0.004109843708647508,
            -0.007397219270608231,
            null,
            -0.007397219270608231,
            -0.010937651380619683,
            null,
            -0.010937651380619683,
            -0.014356919389343262,
            null,
            -0.014356919389343262,
            -0.017267880730058853,
            null,
            -0.017267880730058853,
            -0.019255430137970018,
            null,
            -0.019255430137970018,
            -0.019965668419462314,
            null,
            -0.019965668419462314,
            -0.019255376997786622,
            null,
            -0.019255376997786622,
            -0.0172677928741282,
            null,
            -0.0172677928741282,
            -0.01435682141357961,
            null,
            -0.01435682141357961,
            -0.010937563005261641,
            null,
            -0.010937563005261641,
            -0.0073971527017455225,
            null,
            -0.0073971527017455225,
            -0.004109804586817832,
            null,
            -0.004109804586817832,
            -0.0014925850248862509,
            null,
            -0.0014925850248862509,
            0,
            null,
            0,
            0,
            null,
            0,
            0,
            null
           ]
          },
          {
           "i": [],
           "j": [],
           "k": [],
           "name": "Faces",
           "type": "mesh3d",
           "x": {
            "bdata": "PLTIdr6fij8+30+Nl26SP11kO99PjZc/qBdvWA9unD+LGOwc/WOgP1Q7AtVgUKI/Axn6sR0epD8EVmClevulP8Ur7nw/D6g/OA+/ivNmqj+60R6ckO2sP3gmy2gtdK8/esTcdvDlsD9ezgLA0u+xP3JnZWCB3rI/jHLQMWDFsz9Dd2J8kru0P3OHcX0N0rU/CtejcD0Ktz9SuB6F61G4P5qZmZmZmbk/",
            "dtype": "f8"
           },
           "y": {
            "bdata": "AAAAAAAAAAAAAAAAAAAAgAAAAAAAAACAMoG0GajvIj/8PIbDBgw3P2enNVdpzkE/mK64UH6jRT9Yjw38BMpFP+q5Jn8qxUE/ZOrzYa0GND+sD0ka2rh6PsPGYR5vAzS/pkqcr6/DQb+lSr0Aw8hFv4nguI6DokW/5P0ZV7zNQb+sk0tHQws3v8VT/uoY7yK/AAAAAAAAAAAAAAAAAAAAAAAAAAAAAAAA",
            "dtype": "f8"
           },
           "z": {
            "bdata": "AAAAAAAAAAAAAAAAAAAAgAAAAAAAAACA2k3L3Wl0WL/l/x/Fe9VwvxXhk+2LTH6/mWnMt3pmhr9IAf0ZKWeNv87+BtyrrpG/GRvaCrK3k79XE55T4XGUv5Ab6Xmut5O/q4as9qWukb/yEpHzG2eNv9OKPttuZoa/yw8AD3pMfr9YfrFEcdVwvwKik/dadFi/AAAAAAAAAAAAAAAAAAAAAAAAAAAAAAAA",
            "dtype": "f8"
           }
          }
         ],
         "layout": {
          "annotations": [
           {
            "showarrow": false,
            "text": "Time: 0.49s (Step: 50/100)",
            "x": 0.05,
            "xref": "paper",
            "y": 0.95,
            "yref": "paper"
           }
          ]
         },
         "name": "49"
        },
        {
         "data": [
          {
           "name": "Free Nodes",
           "type": "scatter3d",
           "x": {
            "bdata": "ppgD5BFunD/ykME5A2SgP8vSx3xvUKI/QZkA0zUepD/uPDrDmPulP8bEhO5bD6g/bwsyAgVnqj/YVSeQkO2sP6z2VdUbdK8/G13bK+LlsD8jY16cw++xP9Xy5Dx13rI/TyKK0FjFsz/Rx2lnj7u0P/MN7NgM0rU/",
            "dtype": "f8"
           },
           "y": {
            "bdata": "DisscS50Iz+Sarp5UK03P3BdYFoES0I/r3w5c+A6Rj9FyOqHWGJGP7O1w18wQUI/316jyb2RND8gjQn/6yRRPtUlKikzkTS/Bdy8tepAQr9b1cVfFmJGv3F/h3enOka/LWQPjtlKQr9k+GysHK03vwNJgOkGdCO/",
            "dtype": "f8"
           },
           "z": {
            "bdata": "4mHi31ByWL/UGPnOPdRwv4lOGHetSn6/hT8YvFdlhr97lC/i7GWNv7cjY+8IrpG/8qTHWg23k79rBYX+O3GUv1ye7WMJt5O/2SlwWgKukb+zxcIc3mWNv5XJt1BKZYa/Xjd4F5lKfr+6I3C3MdRwv/PF+W0/cli/",
            "dtype": "f8"
           }
          },
          {
           "name": "Fixed Nodes",
           "type": "scatter3d",
           "x": {
            "bdata": "PLTIdr6fij8+30+Nl26SP11kO99PjZc/CtejcD0Ktz9SuB6F61G4P5qZmZmZmbk/",
            "dtype": "f8"
           },
           "y": {
            "bdata": "AAAAAAAAAAAAAAAAAAAAgAAAAAAAAACAAAAAAAAAAAAAAAAAAAAAAAAAAAAAAAAA",
            "dtype": "f8"
           },
           "z": {
            "bdata": "AAAAAAAAAAAAAAAAAAAAgAAAAAAAAACAAAAAAAAAAAAAAAAAAAAAAAAAAAAAAAAA",
            "dtype": "f8"
           }
          },
          {
           "name": "Edges",
           "type": "scatter3d",
           "x": [
            0.013000000000000005,
            0.01800000000000001,
            null,
            0.01800000000000001,
            0.02300000000000001,
            null,
            0.02300000000000001,
            0.027763633291123434,
            null,
            0.027763633291123434,
            0.03201303558378922,
            null,
            0.03201303558378922,
            0.03576992414665411,
            null,
            0.03576992414665411,
            0.03929298592292919,
            null,
            0.03929298592292919,
            0.042935155707818015,
            null,
            0.042935155707818015,
            0.046992180696528815,
            null,
            0.046992180696528815,
            0.05156722690391901,
            null,
            0.05156722690391901,
            0.05649997482002406,
            null,
            0.05649997482002406,
            0.06143271426388472,
            null,
            0.06143271426388472,
            0.06600774355625953,
            null,
            0.06600774355625953,
            0.07006475989909382,
            null,
            0.07006475989909382,
            0.07370693909337984,
            null,
            0.07370693909337984,
            0.07723002520845877,
            null,
            0.07723002520845877,
            0.08098694109665351,
            null,
            0.08098694109665351,
            0.08523636146497164,
            null,
            0.08523636146497164,
            0.09,
            null,
            0.09,
            0.095,
            null,
            0.095,
            0.1,
            null
           ],
           "y": [
            0,
            0,
            null,
            0,
            0,
            null,
            0,
            0.0001484209720604358,
            null,
            0.0001484209720604358,
            0.0003612824891462775,
            null,
            0.0003612824891462775,
            0.0005582591300052186,
            null,
            0.0005582591300052186,
            0.0006784053752645537,
            null,
            0.0006784053752645537,
            0.0006831104545510577,
            null,
            0.0006831104545510577,
            0.0005570875360071864,
            null,
            0.0005570875360071864,
            0.0003138626431229262,
            null,
            0.0003138626431229262,
            1.5966804713791174e-8,
            null,
            1.5966804713791174e-8,
            -0.00031383036654427976,
            null,
            -0.00031383036654427976,
            -0.0005570550961014892,
            null,
            -0.0005570550961014892,
            -0.0006830796478839817,
            null,
            -0.0006830796478839817,
            -0.0006783788404014346,
            null,
            -0.0006783788404014346,
            -0.0005582392005819607,
            null,
            -0.0005582392005819607,
            -0.0003612704280618938,
            null,
            -0.0003612704280618938,
            -0.00014841637016666667,
            null,
            -0.00014841637016666667,
            0,
            null,
            0,
            0,
            null,
            0,
            0,
            null
           ],
           "z": [
            0,
            0,
            null,
            0,
            0,
            null,
            0,
            -0.001492098788309908,
            null,
            -0.001492098788309908,
            -0.0041086592096403925,
            null,
            -0.0041086592096403925,
            -0.007395436857695289,
            null,
            -0.007395436857695289,
            -0.010935483386702813,
            null,
            -0.010935483386702813,
            -0.01435456338180984,
            null,
            -0.01435456338180984,
            -0.017265452967680974,
            null,
            -0.017265452967680974,
            -0.01925297609878824,
            null,
            -0.01925297609878824,
            -0.019963204774517445,
            null,
            -0.019963204774517445,
            -0.019252917026646763,
            null,
            -0.019252917026646763,
            -0.01726535489073364,
            null,
            -0.01726535489073364,
            -0.014354453327856875,
            null,
            -0.014354453327856875,
            -0.010935383404078883,
            null,
            -0.010935383404078883,
            -0.007395360960357282,
            null,
            -0.007395360960357282,
            -0.004108614163677632,
            null,
            -0.004108614163677632,
            -0.00149208254142896,
            null,
            -0.00149208254142896,
            0,
            null,
            0,
            0,
            null,
            0,
            0,
            null
           ]
          },
          {
           "i": [],
           "j": [],
           "k": [],
           "name": "Faces",
           "type": "mesh3d",
           "x": {
            "bdata": "PLTIdr6fij8+30+Nl26SP11kO99PjZc/ppgD5BFunD/ykME5A2SgP8vSx3xvUKI/QZkA0zUepD/uPDrDmPulP8bEhO5bD6g/bwsyAgVnqj/YVSeQkO2sP6z2VdUbdK8/G13bK+LlsD8jY16cw++xP9Xy5Dx13rI/TyKK0FjFsz/Rx2lnj7u0P/MN7NgM0rU/CtejcD0Ktz9SuB6F61G4P5qZmZmZmbk/",
            "dtype": "f8"
           },
           "y": {
            "bdata": "AAAAAAAAAAAAAAAAAAAAgAAAAAAAAACADisscS50Iz+Sarp5UK03P3BdYFoES0I/r3w5c+A6Rj9FyOqHWGJGP7O1w18wQUI/316jyb2RND8gjQn/6yRRPtUlKikzkTS/Bdy8tepAQr9b1cVfFmJGv3F/h3enOka/LWQPjtlKQr9k+GysHK03vwNJgOkGdCO/AAAAAAAAAAAAAAAAAAAAAAAAAAAAAAAA",
            "dtype": "f8"
           },
           "z": {
            "bdata": "AAAAAAAAAAAAAAAAAAAAgAAAAAAAAACA4mHi31ByWL/UGPnOPdRwv4lOGHetSn6/hT8YvFdlhr97lC/i7GWNv7cjY+8IrpG/8qTHWg23k79rBYX+O3GUv1ye7WMJt5O/2SlwWgKukb+zxcIc3mWNv5XJt1BKZYa/Xjd4F5lKfr+6I3C3MdRwv/PF+W0/cli/AAAAAAAAAAAAAAAAAAAAAAAAAAAAAAAA",
            "dtype": "f8"
           }
          }
         ],
         "layout": {
          "annotations": [
           {
            "showarrow": false,
            "text": "Time: 0.50s (Step: 51/100)",
            "x": 0.05,
            "xref": "paper",
            "y": 0.95,
            "yref": "paper"
           }
          ]
         },
         "name": "50"
        },
        {
         "data": [
          {
           "name": "Free Nodes",
           "type": "scatter3d",
           "x": {
            "bdata": "q/qzgBRunD/G4H1/CWSgP4B2XoZ+UKI/q4vMlE4epD+JfXipt/ulPwNkJh15D6g/FG2c7RZnqj9RwMSDkO2sP5H16swJdK8/PWaqgdPlsD9p4cATtO+xPydBRsho3rI/VQ/TPVHFsz+/nLg9jLu0P8mqDTAM0rU/",
            "dtype": "f8"
           },
           "y": {
            "bdata": "XJhzMZL4Iz/aeFyRcU44P44lnZqBx0I/uuKR3SDSRj8rBDV6jfpGP9vX8lkivUI/C3I+LckcNT+Aq+jDua1vvg+Op+GqHjW/1gTl3vG9Qr9IX++WMPtGv7YAo3OV0ka/XT+tXsvHQr/csu5Vvk44v6XcCWHH+CO/",
            "dtype": "f8"
           },
           "z": {
            "bdata": "gQlMvilwWL8ENCx799Jwvyb2OWvCSH6/Hms3Gi1khr9d1I1cqGSNv5lFXr1hrZG//fbUW2S2k7+W9iVYknCUvzS9M/9ftpO/WJg2eVqtkb+ot4X5l2SNv6VFuyEeZIa/v9SajatIfr/Yn4PO6dJwv+5a/cMVcFi/",
            "dtype": "f8"
           }
          },
          {
           "name": "Fixed Nodes",
           "type": "scatter3d",
           "x": {
            "bdata": "PLTIdr6fij8+30+Nl26SP11kO99PjZc/CtejcD0Ktz9SuB6F61G4P5qZmZmZmbk/",
            "dtype": "f8"
           },
           "y": {
            "bdata": "AAAAAAAAAAAAAAAAAAAAgAAAAAAAAACAAAAAAAAAAAAAAAAAAAAAAAAAAAAAAAAA",
            "dtype": "f8"
           },
           "z": {
            "bdata": "AAAAAAAAAAAAAAAAAAAAgAAAAAAAAACAAAAAAAAAAAAAAAAAAAAAAAAAAAAAAAAA",
            "dtype": "f8"
           }
          },
          {
           "name": "Edges",
           "type": "scatter3d",
           "x": [
            0.013000000000000005,
            0.01800000000000001,
            null,
            0.01800000000000001,
            0.02300000000000001,
            null,
            0.02300000000000001,
            0.02776367221394575,
            null,
            0.02776367221394575,
            0.03201322251601506,
            null,
            0.03201322251601506,
            0.035770372297730724,
            null,
            0.035770372297730724,
            0.03929372373956793,
            null,
            0.03929372373956793,
            0.042936076581322764,
            null,
            0.042936076581322764,
            0.04699305039248005,
            null,
            0.04699305039248005,
            0.0515677609493769,
            null,
            0.0515677609493769,
            0.05649997337820934,
            null,
            0.05649997337820934,
            0.061432176842099236,
            null,
            0.061432176842099236,
            0.06600686946549046,
            null,
            0.06600686946549046,
            0.0700638340212031,
            null,
            0.0700638340212031,
            0.07370619668495647,
            null,
            0.07370619668495647,
            0.07722957381616642,
            null,
            0.07722957381616642,
            0.08098675257552922,
            null,
            0.08098675257552922,
            0.08523632214716338,
            null,
            0.08523632214716338,
            0.09,
            null,
            0.09,
            0.095,
            null,
            0.095,
            0.1,
            null
           ],
           "y": [
            0,
            0,
            null,
            0,
            0,
            null,
            0,
            0.0001523664911708436,
            null,
            0.0001523664911708436,
            0.0003708865418604719,
            null,
            0.0003708865418604719,
            0.0005730994064176308,
            null,
            0.0005730994064176308,
            0.000696435973750096,
            null,
            0.000696435973750096,
            0.0007012549216726163,
            null,
            0.0007012549216726163,
            0.0005718629580744276,
            null,
            0.0005718629580744276,
            0.00032215034047469786,
            null,
            0.00032215034047469786,
            -5.90060200599115e-8,
            null,
            -5.90060200599115e-8,
            -0.0003222624960967654,
            null,
            -0.0003222624960967654,
            -0.0005719595917882635,
            null,
            -0.0005719595917882635,
            -0.0007013308767182891,
            null,
            -0.0007013308767182891,
            -0.0006964902634294587,
            null,
            -0.0006964902634294587,
            -0.0005731337563279305,
            null,
            -0.0005731337563279305,
            -0.0003709044157698524,
            null,
            -0.0003709044157698524,
            -0.00015237268282295327,
            null,
            -0.00015237268282295327,
            0,
            null,
            0,
            0,
            null,
            0,
            0,
            null
           ],
           "z": [
            0,
            0,
            null,
            0,
            0,
            null,
            0,
            -0.0014915855073814601,
            null,
            -0.0014915855073814601,
            -0.004107443545547266,
            null,
            -0.004107443545547266,
            -0.007393607567448812,
            null,
            -0.007393607567448812,
            -0.010933258402408049,
            null,
            -0.010933258402408049,
            -0.014352145504498088,
            null,
            -0.014352145504498088,
            -0.01726296156227178,
            null,
            -0.01726296156227178,
            -0.019250457863782867,
            null,
            -0.019250457863782867,
            -0.0199606767941903,
            null,
            -0.0199606767941903,
            -0.019250392867374802,
            null,
            -0.019250392867374802,
            -0.01726285328700103,
            null,
            -0.01726285328700103,
            -0.014352023413007078,
            null,
            -0.014352023413007078,
            -0.01093314686241593,
            null,
            -0.01093314686241593,
            -0.00739352238604346,
            null,
            -0.00739352238604346,
            -0.0041073926042613715,
            null,
            -0.0041073926042613715,
            -0.0014915669016397032,
            null,
            -0.0014915669016397032,
            0,
            null,
            0,
            0,
            null,
            0,
            0,
            null
           ]
          },
          {
           "i": [],
           "j": [],
           "k": [],
           "name": "Faces",
           "type": "mesh3d",
           "x": {
            "bdata": "PLTIdr6fij8+30+Nl26SP11kO99PjZc/q/qzgBRunD/G4H1/CWSgP4B2XoZ+UKI/q4vMlE4epD+JfXipt/ulPwNkJh15D6g/FG2c7RZnqj9RwMSDkO2sP5H16swJdK8/PWaqgdPlsD9p4cATtO+xPydBRsho3rI/VQ/TPVHFsz+/nLg9jLu0P8mqDTAM0rU/CtejcD0Ktz9SuB6F61G4P5qZmZmZmbk/",
            "dtype": "f8"
           },
           "y": {
            "bdata": "AAAAAAAAAAAAAAAAAAAAgAAAAAAAAACAXJhzMZL4Iz/aeFyRcU44P44lnZqBx0I/uuKR3SDSRj8rBDV6jfpGP9vX8lkivUI/C3I+LckcNT+Aq+jDua1vvg+Op+GqHjW/1gTl3vG9Qr9IX++WMPtGv7YAo3OV0ka/XT+tXsvHQr/csu5Vvk44v6XcCWHH+CO/AAAAAAAAAAAAAAAAAAAAAAAAAAAAAAAA",
            "dtype": "f8"
           },
           "z": {
            "bdata": "AAAAAAAAAAAAAAAAAAAAgAAAAAAAAACAgQlMvilwWL8ENCx799Jwvyb2OWvCSH6/Hms3Gi1khr9d1I1cqGSNv5lFXr1hrZG//fbUW2S2k7+W9iVYknCUvzS9M/9ftpO/WJg2eVqtkb+ot4X5l2SNv6VFuyEeZIa/v9SajatIfr/Yn4PO6dJwv+5a/cMVcFi/AAAAAAAAAAAAAAAAAAAAAAAAAAAAAAAA",
            "dtype": "f8"
           }
          }
         ],
         "layout": {
          "annotations": [
           {
            "showarrow": false,
            "text": "Time: 0.51s (Step: 52/100)",
            "x": 0.05,
            "xref": "paper",
            "y": 0.95,
            "yref": "paper"
           }
          ]
         },
         "name": "51"
        },
        {
         "data": [
          {
           "name": "Free Nodes",
           "type": "scatter3d",
           "x": {
            "bdata": "OBF1LhdunD90h//tD2SgP5y4bPGNUKI/SOTA9mcepD/zX05X1/ulP2VlDAiXD6g/on6ETClnqj/fpP52kO2sP2zVE1D3c68/shC2eMTlsD9TBJompO+xPwqa4AJc3rI/n7beeUnFsz8olGP/iLu0PxRZ2oIL0rU/",
            "dtype": "f8"
           },
           "y": {
            "bdata": "JlhY79R8JD8FjA1qbO84Px3zeWrjQ0M/FzgaRkNpRz9cBqAPqZJHP3AomSsHOUM/Cq51mN+nNT8GXn9sIEaAvpEr8TTEqzW/ktaxorw6Q7+IDWg4CpRHvzt4IZxHake/UPiWoo1EQ7+vU2B8I/A4vw8IzbxWfSS/",
            "dtype": "f8"
           },
           "z": {
            "bdata": "EjXXevRtWL//HcnKqNFwv1WydcvKRn6/G4gn0/pihr/K28eKW2ONvzHDlke2rJG/0CPZELe1k785B8xk5G+Uv+d0X1GytZO/TkGVWa6skb8wZrKXSWONv2vEVFvqYoa/KUa2hrFGfr9Gys2XmdFwv9q6fxDebVi/",
            "dtype": "f8"
           }
          },
          {
           "name": "Fixed Nodes",
           "type": "scatter3d",
           "x": {
            "bdata": "PLTIdr6fij8+30+Nl26SP11kO99PjZc/CtejcD0Ktz9SuB6F61G4P5qZmZmZmbk/",
            "dtype": "f8"
           },
           "y": {
            "bdata": "AAAAAAAAAAAAAAAAAAAAgAAAAAAAAACAAAAAAAAAAAAAAAAAAAAAAAAAAAAAAAAA",
            "dtype": "f8"
           },
           "z": {
            "bdata": "AAAAAAAAAAAAAAAAAAAAgAAAAAAAAACAAAAAAAAAAAAAAAAAAAAAAAAAAAAAAAAA",
            "dtype": "f8"
           }
          },
          {
           "name": "Edges",
           "type": "scatter3d",
           "x": [
            0.013000000000000005,
            0.01800000000000001,
            null,
            0.01800000000000001,
            0.02300000000000001,
            null,
            0.02300000000000001,
            0.027763712130096624,
            null,
            0.027763712130096624,
            0.032013414194593276,
            null,
            0.032013414194593276,
            0.03577083179548987,
            null,
            0.03577083179548987,
            0.0392944802010296,
            null,
            0.0392944802010296,
            0.04293702069043084,
            null,
            0.04293702069043084,
            0.04699394200560895,
            null,
            0.04699394200560895,
            0.0515683084397527,
            null,
            0.0515683084397527,
            0.05649997189113675,
            null,
            0.05649997189113675,
            0.06143162586696857,
            null,
            0.06143162586696857,
            0.06600597331095306,
            null,
            0.06600597331095306,
            0.07006288473532267,
            null,
            0.07006288473532267,
            0.0737054354691297,
            null,
            0.0737054354691297,
            0.07722911095944561,
            null,
            0.07722911095944561,
            0.08098655924875742,
            null,
            0.08098655924875742,
            0.08523628182078752,
            null,
            0.08523628182078752,
            0.09,
            null,
            0.09,
            0.095,
            null,
            0.095,
            0.1,
            null
           ],
           "y": [
            0,
            0,
            null,
            0,
            0,
            null,
            0,
            0.00015630816749084945,
            null,
            0.00015630816749084945,
            0.0003804816897653998,
            null,
            0.0003804816897653998,
            0.0005879269055665024,
            null,
            0.0005879269055665024,
            0.0007144525990996378,
            null,
            0.0007144525990996378,
            0.000719387578328855,
            null,
            0.000719387578328855,
            0.0005866322528132028,
            null,
            0.0005866322528132028,
            0.0003304406058848025,
            null,
            0.0003304406058848025,
            -1.2125024384414137e-7,
            null,
            -1.2125024384414137e-7,
            -0.00033067264752578105,
            null,
            -0.00033067264752578105,
            -0.0005868359634308587,
            null,
            -0.0005868359634308587,
            -0.0007195520309441353,
            null,
            -0.0007195520309441353,
            -0.0007145738275189448,
            null,
            -0.0007145738275189448,
            -0.000588006170054953,
            null,
            -0.000588006170054953,
            -0.0003805243144381865,
            null,
            -0.0003805243144381865,
            -0.00015632327849785007,
            null,
            -0.00015632327849785007,
            0,
            null,
            0,
            0,
            null,
            0,
            0,
            null
           ],
           "z": [
            0,
            0,
            null,
            0,
            0,
            null,
            0,
            -0.0014910590647219707,
            null,
            -0.0014910590647219707,
            -0.004106196731818112,
            null,
            -0.004106196731818112,
            -0.007391731421517796,
            null,
            -0.007391731421517796,
            -0.010930976456567312,
            null,
            -0.010930976456567312,
            -0.014349665806532647,
            null,
            -0.014349665806532647,
            -0.01726040660804812,
            null,
            -0.01726040660804812,
            -0.01924787559827107,
            null,
            -0.01924787559827107,
            -0.01995808472839331,
            null,
            -0.01995808472839331,
            -0.019247804848295493,
            null,
            -0.019247804848295493,
            -0.01726028844615373,
            null,
            -0.01726028844615373,
            -0.01434953207199205,
            null,
            -0.01434953207199205,
            -0.010930853759960798,
            null,
            -0.010930853759960798,
            -0.007391637288848987,
            null,
            -0.007391637288848987,
            -0.004106140110581585,
            null,
            -0.004106140110581585,
            -0.0014910381887564468,
            null,
            -0.0014910381887564468,
            0,
            null,
            0,
            0,
            null,
            0,
            0,
            null
           ]
          },
          {
           "i": [],
           "j": [],
           "k": [],
           "name": "Faces",
           "type": "mesh3d",
           "x": {
            "bdata": "PLTIdr6fij8+30+Nl26SP11kO99PjZc/OBF1LhdunD90h//tD2SgP5y4bPGNUKI/SOTA9mcepD/zX05X1/ulP2VlDAiXD6g/on6ETClnqj/fpP52kO2sP2zVE1D3c68/shC2eMTlsD9TBJompO+xPwqa4AJc3rI/n7beeUnFsz8olGP/iLu0PxRZ2oIL0rU/CtejcD0Ktz9SuB6F61G4P5qZmZmZmbk/",
            "dtype": "f8"
           },
           "y": {
            "bdata": "AAAAAAAAAAAAAAAAAAAAgAAAAAAAAACAJlhY79R8JD8FjA1qbO84Px3zeWrjQ0M/FzgaRkNpRz9cBqAPqZJHP3AomSsHOUM/Cq51mN+nNT8GXn9sIEaAvpEr8TTEqzW/ktaxorw6Q7+IDWg4CpRHvzt4IZxHake/UPiWoo1EQ7+vU2B8I/A4vw8IzbxWfSS/AAAAAAAAAAAAAAAAAAAAAAAAAAAAAAAA",
            "dtype": "f8"
           },
           "z": {
            "bdata": "AAAAAAAAAAAAAAAAAAAAgAAAAAAAAACAEjXXevRtWL//HcnKqNFwv1WydcvKRn6/G4gn0/pihr/K28eKW2ONvzHDlke2rJG/0CPZELe1k785B8xk5G+Uv+d0X1GytZO/TkGVWa6skb8wZrKXSWONv2vEVFvqYoa/KUa2hrFGfr9Gys2XmdFwv9q6fxDebVi/AAAAAAAAAAAAAAAAAAAAAAAAAAAAAAAA",
            "dtype": "f8"
           }
          }
         ],
         "layout": {
          "annotations": [
           {
            "showarrow": false,
            "text": "Time: 0.52s (Step: 53/100)",
            "x": 0.05,
            "xref": "paper",
            "y": 0.95,
            "yref": "paper"
           }
          ]
         },
         "name": "52"
        },
        {
         "data": [
          {
           "name": "Free Nodes",
           "type": "scatter3d",
           "x": {
            "bdata": "KtY67RlunD+VOyOFFmSgP1RFlb2dUKI/UpA6+IEepD857OfL9/ulP01Iaa61D6g/MMZrHjxnqj9t29ppkO2sPxQ7W1/kc68/T7NrEbXlsD/JolrVk++xP8PtC+1O3rI/PcTghEHFsz8RPH+shbu0PyIEVtEK0rU/",
            "dtype": "f8"
           },
           "y": {
            "bdata": "+IrwmvcAJT93cBh/QpA5Py/+vU0rwEM/TWm5L0oASD+CsV3vripIP/Ub3qjjtEM/wNYJzwwzNj88aJuVfIGGvugqvFxxODa/4eeWZkS3Q79ZT9VwnSxIv0OgcEK5AUi/uNBCBh3BQ78+wexBSJE5v8VcBBGyASW/",
            "dtype": "f8"
           },
           "z": {
            "bdata": "0vQQGbFrWL/v2u6/UdBwv5LD6prGRH6/kFHl6MBhhr+BRZNvBmKNv+Y5G5AGrJG/VqD1fAW1k79P4dooMm+Uv3Hg+l8AtZO/JlDgAf6rkb+P4HQE82GNv6dr4QmvYYa/hiz5FqtEfr9d5HYgQdBwv82mMWmYa1i/",
            "dtype": "f8"
           }
          },
          {
           "name": "Fixed Nodes",
           "type": "scatter3d",
           "x": {
            "bdata": "PLTIdr6fij8+30+Nl26SP11kO99PjZc/CtejcD0Ktz9SuB6F61G4P5qZmZmZmbk/",
            "dtype": "f8"
           },
           "y": {
            "bdata": "AAAAAAAAAAAAAAAAAAAAgAAAAAAAAACAAAAAAAAAAAAAAAAAAAAAAAAAAAAAAAAA",
            "dtype": "f8"
           },
           "z": {
            "bdata": "AAAAAAAAAAAAAAAAAAAAgAAAAAAAAACAAAAAAAAAAAAAAAAAAAAAAAAAAAAAAAAA",
            "dtype": "f8"
           }
          },
          {
           "name": "Edges",
           "type": "scatter3d",
           "x": [
            0.013000000000000005,
            0.01800000000000001,
            null,
            0.01800000000000001,
            0.02300000000000001,
            null,
            0.02300000000000001,
            0.027763753036842122,
            null,
            0.027763753036842122,
            0.03201361060347733,
            null,
            0.03201361060347733,
            0.0357713025974912,
            null,
            0.0357713025974912,
            0.039295255233157037,
            null,
            0.039295255233157037,
            0.042937987938750095,
            null,
            0.042937987938750095,
            0.046994855442463825,
            null,
            0.046994855442463825,
            0.051568869317531685,
            null,
            0.051568869317531685,
            0.05649997036146357,
            null,
            0.05649997036146357,
            0.06143106140154067,
            null,
            0.06143106140154067,
            0.06600505519209075,
            null,
            0.06600505519209075,
            0.07006191214407943,
            null,
            0.07006191214407943,
            0.07370465552587917,
            null,
            0.07370465552587917,
            0.07722863668529185,
            null,
            0.07722863668529185,
            0.08098636113503256,
            null,
            0.08098636113503256,
            0.0852362404894085,
            null,
            0.0852362404894085,
            0.09,
            null,
            0.09,
            0.095,
            null,
            0.095,
            0.1,
            null
           ],
           "y": [
            0,
            0,
            null,
            0,
            0,
            null,
            0,
            0.00016024611019912322,
            null,
            0.00016024611019912322,
            0.0003900682778252904,
            null,
            0.0003900682778252904,
            0.0006027423328162691,
            null,
            0.0006027423328162691,
            0.0007324564207451895,
            null,
            0.0007324564207451895,
            0.0007375101256293234,
            null,
            0.0007375101256293234,
            0.0006013976687747601,
            null,
            0.0006013976687747601,
            0.0003387361785266267,
            null,
            0.0003387361785266267,
            -1.6768133086800107e-7,
            null,
            -1.6768133086800107e-7,
            -0.00033905761368717294,
            null,
            -0.00033905761368717294,
            -0.0006016811359394991,
            null,
            -0.0006016811359394991,
            -0.0007377403978048133,
            null,
            -0.0007377403978048133,
            -0.0007326273524812594,
            null,
            -0.0007326273524812594,
            -0.0006028548928243204,
            null,
            -0.0006028548928243204,
            -0.00039012922381955254,
            null,
            -0.00039012922381955254,
            -0.000160267817144377,
            null,
            -0.000160267817144377,
            0,
            null,
            0,
            0,
            null,
            0,
            0,
            null
           ],
           "z": [
            0,
            0,
            null,
            0,
            0,
            null,
            0,
            -0.0014905194732500082,
            null,
            -0.0014905194732500082,
            -0.004104918799319831,
            null,
            -0.004104918799319831,
            -0.007389808465334451,
            null,
            -0.007389808465334451,
            -0.010928637607016595,
            null,
            -0.010928637607016595,
            -0.014347124366767218,
            null,
            -0.014347124366767218,
            -0.017257788224748348,
            null,
            -0.017257788224748348,
            -0.019245229484483005,
            null,
            -0.019245229484483005,
            -0.01995542883261808,
            null,
            -0.01995542883261808,
            -0.019245153291848675,
            null,
            -0.019245153291848675,
            -0.017257660736575663,
            null,
            -0.017257660736575663,
            -0.014346979688170584,
            null,
            -0.014346979688170584,
            -0.010928504456549094,
            null,
            -0.010928504456549094,
            -0.0073897059624626945,
            null,
            -0.0073897059624626945,
            -0.004104856874101418,
            null,
            -0.004104856874101418,
            -0.0014904964816885747,
            null,
            -0.0014904964816885747,
            0,
            null,
            0,
            0,
            null,
            0,
            0,
            null
           ]
          },
          {
           "i": [],
           "j": [],
           "k": [],
           "name": "Faces",
           "type": "mesh3d",
           "x": {
            "bdata": "PLTIdr6fij8+30+Nl26SP11kO99PjZc/KtY67RlunD+VOyOFFmSgP1RFlb2dUKI/UpA6+IEepD857OfL9/ulP01Iaa61D6g/MMZrHjxnqj9t29ppkO2sPxQ7W1/kc68/T7NrEbXlsD/JolrVk++xP8PtC+1O3rI/PcTghEHFsz8RPH+shbu0PyIEVtEK0rU/CtejcD0Ktz9SuB6F61G4P5qZmZmZmbk/",
            "dtype": "f8"
           },
           "y": {
            "bdata": "AAAAAAAAAAAAAAAAAAAAgAAAAAAAAACA+IrwmvcAJT93cBh/QpA5Py/+vU0rwEM/TWm5L0oASD+CsV3vripIP/Ub3qjjtEM/wNYJzwwzNj88aJuVfIGGvugqvFxxODa/4eeWZkS3Q79ZT9VwnSxIv0OgcEK5AUi/uNBCBh3BQ78+wexBSJE5v8VcBBGyASW/AAAAAAAAAAAAAAAAAAAAAAAAAAAAAAAA",
            "dtype": "f8"
           },
           "z": {
            "bdata": "AAAAAAAAAAAAAAAAAAAAgAAAAAAAAACA0vQQGbFrWL/v2u6/UdBwv5LD6prGRH6/kFHl6MBhhr+BRZNvBmKNv+Y5G5AGrJG/VqD1fAW1k79P4dooMm+Uv3Hg+l8AtZO/JlDgAf6rkb+P4HQE82GNv6dr4QmvYYa/hiz5FqtEfr9d5HYgQdBwv82mMWmYa1i/AAAAAAAAAAAAAAAAAAAAAAAAAAAAAAAA",
            "dtype": "f8"
           }
          }
         ],
         "layout": {
          "annotations": [
           {
            "showarrow": false,
            "text": "Time: 0.53s (Step: 54/100)",
            "x": 0.05,
            "xref": "paper",
            "y": 0.95,
            "yref": "paper"
           }
          ]
         },
         "name": "53"
        },
        {
         "data": [
          {
           "name": "Free Nodes",
           "type": "scatter3d",
           "x": {
            "bdata": "spH4vBxunD+6PcREHWSgPwaOd+qtUKI/cGeRmJwepD8V6WoGGfylP3J9aQ/VD6g/n4fPYk9nqj+51F1ckO2sPzEjTfvQc68/Xxo6TKXlsD8aFnUgg++xP/o5IYdB3rI/uFwNXznFsz+qNiBFgru0P1mQhBsK0rU/",
            "dtype": "f8"
           },
           "y": {
            "bdata": "KU6aa/qEJT9QMq5L9DA6P7ZUPuBZPEQ/MtBwxDaXSD/9UrP5oMJIP7chgYC6MEQ/8kxkx1e+Nj/qvYeMdVuKvmLC7mSpxDa/ePauuYQzRL/d6ew45sRIv4an9xXnmEi/cbBKInc9RL/YuU3OKTI6v+muGi/XhSW/",
            "dtype": "f8"
           },
           "z": {
            "bdata": "igHKnl9pWL9ODh1e8s5wvzPi2N61Qn6/oUW5Xn9ghr+YH/gOqWCNv7OpiZlSq5G/rneno0+0k7/gFM6oe26Uv5fCYzBKtJO/F1MKeEmrkb+UlP1LlGCNvzMiwThsYIa/XzXxUJhCfr9aK5p04M5wv+lsCuJEaVi/",
            "dtype": "f8"
           }
          },
          {
           "name": "Fixed Nodes",
           "type": "scatter3d",
           "x": {
            "bdata": "PLTIdr6fij8+30+Nl26SP11kO99PjZc/CtejcD0Ktz9SuB6F61G4P5qZmZmZmbk/",
            "dtype": "f8"
           },
           "y": {
            "bdata": "AAAAAAAAAAAAAAAAAAAAgAAAAAAAAACAAAAAAAAAAAAAAAAAAAAAAAAAAAAAAAAA",
            "dtype": "f8"
           },
           "z": {
            "bdata": "AAAAAAAAAAAAAAAAAAAAgAAAAAAAAACAAAAAAAAAAAAAAAAAAAAAAAAAAAAAAAAA",
            "dtype": "f8"
           }
          },
          {
           "name": "Edges",
           "type": "scatter3d",
           "x": [
            0.013000000000000005,
            0.01800000000000001,
            null,
            0.01800000000000001,
            0.02300000000000001,
            null,
            0.02300000000000001,
            0.027763794931290504,
            null,
            0.027763794931290504,
            0.03201381172595626,
            null,
            0.03201381172595626,
            0.0357717846598256,
            null,
            0.0357717846598256,
            0.039296048759481006,
            null,
            0.039296048759481006,
            0.04293897822704388,
            null,
            0.04293897822704388,
            0.046995790606838464,
            null,
            0.046995790606838464,
            0.05156944352326253,
            null,
            0.05156944352326253,
            0.05649996879120906,
            null,
            0.05649996879120906,
            0.06143048350947423,
            null,
            0.06143048350947423,
            0.06600411520967374,
            null,
            0.06600411520967374,
            0.07006091635147307,
            null,
            0.07006091635147307,
            0.07370385693614159,
            null,
            0.07370385693614159,
            0.07722815104112868,
            null,
            0.07722815104112868,
            0.08098615825312075,
            null,
            0.08098615825312075,
            0.08523619815656626,
            null,
            0.08523619815656626,
            0.09,
            null,
            0.09,
            0.095,
            null,
            0.095,
            0.1,
            null
           ],
           "y": [
            0,
            0,
            null,
            0,
            0,
            null,
            0,
            0.00016418034447395036,
            null,
            0.00016418034447395036,
            0.00039964641808224333,
            null,
            0.00039964641808224333,
            0.0006175459716241314,
            null,
            0.0006175459716241314,
            0.0007504479807551921,
            null,
            0.0007504479807551921,
            0.0007556234371813572,
            null,
            0.0007556234371813572,
            0.0006161604551460563,
            null,
            0.0006161604551460563,
            0.00034703867949410696,
            null,
            0.00034703867949410696,
            -1.9637690785955968e-7,
            null,
            -1.9637690785955968e-7,
            -0.0003474153099274677,
            null,
            -0.0003474153099274677,
            -0.0006164930413132394,
            null,
            -0.0006164930413132394,
            -0.0007558941013948124,
            null,
            -0.0007558941013948124,
            -0.0007506492947275546,
            null,
            -0.0007506492947275546,
            -0.0006176788052321259,
            null,
            -0.0006176788052321259,
            -0.00039971848155220596,
            null,
            -0.00039971848155220596,
            -0.00016420604474853072,
            null,
            -0.00016420604474853072,
            0,
            null,
            0,
            0,
            null,
            0,
            0,
            null
           ],
           "z": [
            0,
            0,
            null,
            0,
            0,
            null,
            0,
            -0.0014899667541215821,
            null,
            -0.0014899667541215821,
            -0.004103609798963582,
            null,
            -0.004103609798963582,
            -0.00738783877528042,
            null,
            -0.00738783877528042,
            -0.010926241949308859,
            null,
            -0.010926241949308859,
            -0.014344521302532873,
            null,
            -0.014344521302532873,
            -0.017255106564712807,
            null,
            -0.017255106564712807,
            -0.019242519725473244,
            null,
            -0.019242519725473244,
            -0.019952709367790145,
            null,
            -0.019952709367790145,
            -0.019242438510391393,
            null,
            -0.019242438510391393,
            -0.01725497050445587,
            null,
            -0.01725497050445587,
            -0.01434436661629438,
            null,
            -0.01434436661629438,
            -0.01092609928322572,
            null,
            -0.01092609928322572,
            -0.007387728676872512,
            null,
            -0.007387728676872512,
            -0.004103543070992222,
            null,
            -0.004103543070992222,
            -0.0014899418530721026,
            null,
            -0.0014899418530721026,
            0,
            null,
            0,
            0,
            null,
            0,
            0,
            null
           ]
          },
          {
           "i": [],
           "j": [],
           "k": [],
           "name": "Faces",
           "type": "mesh3d",
           "x": {
            "bdata": "PLTIdr6fij8+30+Nl26SP11kO99PjZc/spH4vBxunD+6PcREHWSgPwaOd+qtUKI/cGeRmJwepD8V6WoGGfylP3J9aQ/VD6g/n4fPYk9nqj+51F1ckO2sPzEjTfvQc68/Xxo6TKXlsD8aFnUgg++xP/o5IYdB3rI/uFwNXznFsz+qNiBFgru0P1mQhBsK0rU/CtejcD0Ktz9SuB6F61G4P5qZmZmZmbk/",
            "dtype": "f8"
           },
           "y": {
            "bdata": "AAAAAAAAAAAAAAAAAAAAgAAAAAAAAACAKU6aa/qEJT9QMq5L9DA6P7ZUPuBZPEQ/MtBwxDaXSD/9UrP5oMJIP7chgYC6MEQ/8kxkx1e+Nj/qvYeMdVuKvmLC7mSpxDa/ePauuYQzRL/d6ew45sRIv4an9xXnmEi/cbBKInc9RL/YuU3OKTI6v+muGi/XhSW/AAAAAAAAAAAAAAAAAAAAAAAAAAAAAAAA",
            "dtype": "f8"
           },
           "z": {
            "bdata": "AAAAAAAAAAAAAAAAAAAAgAAAAAAAAACAigHKnl9pWL9ODh1e8s5wvzPi2N61Qn6/oUW5Xn9ghr+YH/gOqWCNv7OpiZlSq5G/rneno0+0k7/gFM6oe26Uv5fCYzBKtJO/F1MKeEmrkb+UlP1LlGCNvzMiwThsYIa/XzXxUJhCfr9aK5p04M5wv+lsCuJEaVi/AAAAAAAAAAAAAAAAAAAAAAAAAAAAAAAA",
            "dtype": "f8"
           }
          }
         ],
         "layout": {
          "annotations": [
           {
            "showarrow": false,
            "text": "Time: 0.54s (Step: 55/100)",
            "x": 0.05,
            "xref": "paper",
            "y": 0.95,
            "yref": "paper"
           }
          ]
         },
         "name": "54"
        },
        {
         "data": [
          {
           "name": "Free Nodes",
           "type": "scatter3d",
           "x": {
            "bdata": "o9KgnR9unD/MULwsJGSgP8zDr3e+UKI/uCsY17cepD9G3fYFO/ylPxdgMyr1D6g/e64oGWNnqj80dopOkO2sPwm5diS9c68/IXWRKZXlsD9iK10Icu+xP19+etEz3rI/PBSZCDHFsz99NFvJfru0Pw/ZaWEJ0rU/",
            "dtype": "f8"
           },
           "y": {
            "bdata": "fCOc2NwIJj+Ye6BAgdE6P+i5hcxuuEQ/u+5qxwguST/CYYw1f1pJP6zuliWMrEQ/awrYeMJJNz8g+jEEibuLvmW0QF1oUDe/DIvjanuvRL/xRMFn4lxJvzZa6DHPL0m/hayqhJq5RL9mmfFYxtI6v2N38azECSa/",
            "dtype": "f8"
           },
           "z": {
            "bdata": "CGaCFABnWL/QgXWqis1wvyCVBZ+YQH6/mUJ1OTZfhr+86o5uQ1+Nv7ekKGeaqpG/XkrViJWzk7/0rTjpwG2Uv223vMePs5O/o0mKwZCqkb/V8kF5LV+Nv7vKF/IhX4a/M/8jRXlAfr/5OAOfd81wv8+J2ozjZli/",
            "dtype": "f8"
           }
          },
          {
           "name": "Fixed Nodes",
           "type": "scatter3d",
           "x": {
            "bdata": "PLTIdr6fij8+30+Nl26SP11kO99PjZc/CtejcD0Ktz9SuB6F61G4P5qZmZmZmbk/",
            "dtype": "f8"
           },
           "y": {
            "bdata": "AAAAAAAAAAAAAAAAAAAAgAAAAAAAAACAAAAAAAAAAAAAAAAAAAAAAAAAAAAAAAAA",
            "dtype": "f8"
           },
           "z": {
            "bdata": "AAAAAAAAAAAAAAAAAAAAgAAAAAAAAACAAAAAAAAAAAAAAAAAAAAAAAAAAAAAAAAA",
            "dtype": "f8"
           }
          },
          {
           "name": "Edges",
           "type": "scatter3d",
           "x": [
            0.013000000000000005,
            0.01800000000000001,
            null,
            0.01800000000000001,
            0.02300000000000001,
            null,
            0.02300000000000001,
            0.027763837810385394,
            null,
            0.027763837810385394,
            0.03201401754464114,
            null,
            0.03201401754464114,
            0.03577227793710555,
            null,
            0.03577227793710555,
            0.03929686070122024,
            null,
            0.03929686070122024,
            0.04293999145323339,
            null,
            0.04293999145323339,
            0.04699674739976006,
            null,
            0.04699674739976006,
            0.05157003099551801,
            null,
            0.05157003099551801,
            0.056499967181690286,
            null,
            0.056499967181690286,
            0.061429892254965486,
            null,
            0.061429892254965486,
            0.06600315346573328,
            null,
            0.06600315346573328,
            0.07005989746282418,
            null,
            0.07005989746282418,
            0.07370303978177038,
            null,
            0.07370303978177038,
            0.07722765407477622,
            null,
            0.07722765407477622,
            0.08098595062183907,
            null,
            0.08098595062183907,
            0.0852361548257685,
            null,
            0.0852361548257685,
            0.09,
            null,
            0.09,
            0.095,
            null,
            0.095,
            0.1,
            null
           ],
           "y": [
            0,
            0,
            null,
            0,
            0,
            null,
            0,
            0.00016811080814018917,
            null,
            0.00016811080814018917,
            0.0004092159803138983,
            null,
            0.0004092159803138983,
            0.0006323376665429677,
            null,
            0.0006323376665429677,
            0.0007684271684733271,
            null,
            0.0007684271684733271,
            0.0007737275255719699,
            null,
            0.0007737275255719699,
            0.000630920821258004,
            null,
            0.000630920821258004,
            0.0003553485665578673,
            null,
            0.0003553485665578673,
            -2.0662366937217363e-7,
            null,
            -2.0662366937217363e-7,
            -0.00035574481921935567,
            null,
            -0.00035574481921935567,
            -0.0006312706589393937,
            null,
            -0.0006312706589393937,
            -0.000774012135943773,
            null,
            -0.000774012135943773,
            -0.0007686387724018032,
            null,
            -0.0007686387724018032,
            -0.0006324772342244522,
            null,
            -0.0006324772342244522,
            -0.0004092916723891421,
            null,
            -0.0004092916723891421,
            -0.0001681377966375421,
            null,
            -0.0001681377966375421,
            0,
            null,
            0,
            0,
            null,
            0,
            0,
            null
           ],
           "z": [
            0,
            0,
            null,
            0,
            0,
            null,
            0,
            -0.001489400938260112,
            null,
            -0.001489400938260112,
            -0.004102269805429562,
            null,
            -0.004102269805429562,
            -0.007385822464447217,
            null,
            -0.007385822464447217,
            -0.010923789623718693,
            null,
            -0.010923789623718693,
            -0.014341856776686306,
            null,
            -0.014341856776686306,
            -0.01725236181861042,
            null,
            -0.01725236181861042,
            -0.019239746548303287,
            null,
            -0.019239746548303287,
            -0.019949926600174764,
            null,
            -0.019949926600174764,
            -0.019239660802831283,
            null,
            -0.019239660802831283,
            -0.01725221806788969,
            null,
            -0.01725221806788969,
            -0.014341693175305018,
            null,
            -0.014341693175305018,
            -0.010923638535108684,
            null,
            -0.010923638535108684,
            -0.00738570567250445,
            null,
            -0.00738570567250445,
            -0.0041021988583465,
            null,
            -0.0041021988583465,
            -0.0014893743677154463,
            null,
            -0.0014893743677154463,
            0,
            null,
            0,
            0,
            null,
            0,
            0,
            null
           ]
          },
          {
           "i": [],
           "j": [],
           "k": [],
           "name": "Faces",
           "type": "mesh3d",
           "x": {
            "bdata": "PLTIdr6fij8+30+Nl26SP11kO99PjZc/o9KgnR9unD/MULwsJGSgP8zDr3e+UKI/uCsY17cepD9G3fYFO/ylPxdgMyr1D6g/e64oGWNnqj80dopOkO2sPwm5diS9c68/IXWRKZXlsD9iK10Icu+xP19+etEz3rI/PBSZCDHFsz99NFvJfru0Pw/ZaWEJ0rU/CtejcD0Ktz9SuB6F61G4P5qZmZmZmbk/",
            "dtype": "f8"
           },
           "y": {
            "bdata": "AAAAAAAAAAAAAAAAAAAAgAAAAAAAAACAfCOc2NwIJj+Ye6BAgdE6P+i5hcxuuEQ/u+5qxwguST/CYYw1f1pJP6zuliWMrEQ/awrYeMJJNz8g+jEEibuLvmW0QF1oUDe/DIvjanuvRL/xRMFn4lxJvzZa6DHPL0m/hayqhJq5RL9mmfFYxtI6v2N38azECSa/AAAAAAAAAAAAAAAAAAAAAAAAAAAAAAAA",
            "dtype": "f8"
           },
           "z": {
            "bdata": "AAAAAAAAAAAAAAAAAAAAgAAAAAAAAACACGaCFABnWL/QgXWqis1wvyCVBZ+YQH6/mUJ1OTZfhr+86o5uQ1+Nv7ekKGeaqpG/XkrViJWzk7/0rTjpwG2Uv223vMePs5O/o0mKwZCqkb/V8kF5LV+Nv7vKF/IhX4a/M/8jRXlAfr/5OAOfd81wv8+J2ozjZli/AAAAAAAAAAAAAAAAAAAAAAAAAAAAAAAA",
            "dtype": "f8"
           }
          }
         ],
         "layout": {
          "annotations": [
           {
            "showarrow": false,
            "text": "Time: 0.55s (Step: 56/100)",
            "x": 0.05,
            "xref": "paper",
            "y": 0.95,
            "yref": "paper"
           }
          ]
         },
         "name": "55"
        },
        {
         "data": [
          {
           "name": "Free Nodes",
           "type": "scatter3d",
           "x": {
            "bdata": "+UwljyJunD+cgOM8K2SgP3Zv1mTPUKI/qAIcs9MepD/Sg6TJXfylPzi75v0VEKg/U2frQHdnqj/4tWFAkO2sPxjdZduoc68/kgnjqYTlsD/TzoeNYO+xP1hucswl3rI/ArW4gSjFsz/21UQ5e7u0P/6nCaMI0rU/",
            "dtype": "f8"
           },
           "y": {
            "bdata": "VOEvnp2MJj9BzEvL53E7P4JvBtJoNEU/f4Aanr7EST+Kp2rcR/JJP/ZW4N1WKEU/Mfmc+0nVNz9qj2UktrGKvmeuIzmv2ze/dgJ9eigrRb8RqrKmkfRJvwRBAhRxxkm/MX13qoY1Rb/mmPMhHXM7vxqJvt95jSa/",
            "dtype": "f8"
           },
           "z": {
            "bdata": "HymwhZJkWL9XFuerGsxwv4GF/uVuPn6/rN2cf+Vdhr80RqmV1V2Nv+3f9/zdqZG/tILYMNeyk79b3cTuAW2Uv29V4yrRspO/3nNK49Opkb9qodKVvl2Nv/T0oz7QXYa/kEfLAU4+fr9xJQKpBsxwvx6QA3l0ZFi/",
            "dtype": "f8"
           }
          },
          {
           "name": "Fixed Nodes",
           "type": "scatter3d",
           "x": {
            "bdata": "PLTIdr6fij8+30+Nl26SP11kO99PjZc/CtejcD0Ktz9SuB6F61G4P5qZmZmZmbk/",
            "dtype": "f8"
           },
           "y": {
            "bdata": "AAAAAAAAAAAAAAAAAAAAgAAAAAAAAACAAAAAAAAAAAAAAAAAAAAAAAAAAAAAAAAA",
            "dtype": "f8"
           },
           "z": {
            "bdata": "AAAAAAAAAAAAAAAAAAAAgAAAAAAAAACAAAAAAAAAAAAAAAAAAAAAAAAAAAAAAAAA",
            "dtype": "f8"
           }
          },
          {
           "name": "Edges",
           "type": "scatter3d",
           "x": [
            0.013000000000000005,
            0.01800000000000001,
            null,
            0.01800000000000001,
            0.02300000000000001,
            null,
            0.02300000000000001,
            0.027763881670876043,
            null,
            0.027763881670876043,
            0.032014228041363085,
            null,
            0.032014228041363085,
            0.03577278238228036,
            null,
            0.03577278238228036,
            0.039297690977041555,
            null,
            0.039297690977041555,
            0.04294102751214947,
            null,
            0.04294102751214947,
            0.04699772571927102,
            null,
            0.04699772571927102,
            0.05157063167071265,
            null,
            0.05157063167071265,
            0.05649996553334441,
            null,
            0.05649996553334441,
            0.06142928770253259,
            null,
            0.06142928770253259,
            0.06600217006329093,
            null,
            0.06600217006329093,
            0.07005885558447326,
            null,
            0.07005885558447326,
            0.07370220414525741,
            null,
            0.07370220414525741,
            0.07722714583424664,
            null,
            0.07722714583424664,
            0.08098573825994734,
            null,
            0.08098573825994734,
            0.0852361105004604,
            null,
            0.0852361105004604,
            0.09,
            null,
            0.09,
            0.095,
            null,
            0.095,
            0.1,
            null
           ],
           "y": [
            0,
            0,
            null,
            0,
            0,
            null,
            0,
            0.0001720373539624379,
            null,
            0.0001720373539624379,
            0.00041877659832251576,
            null,
            0.00041877659832251576,
            0.0006471168344890229,
            null,
            0.0006471168344890229,
            0.000786393237110175,
            null,
            0.000786393237110175,
            0.0007918215640831821,
            null,
            0.0007918215640831821,
            0.0006456779626684273,
            null,
            0.0006456779626684273,
            0.00036366516325249664,
            null,
            0.00036366516325249664,
            -1.9888718067871717e-7,
            null,
            -1.9888718067871717e-7,
            -0.00036404636297391327,
            null,
            -0.00036404636297391327,
            -0.0006460139893321299,
            null,
            -0.0006460139893321299,
            -0.0007920943438837776,
            null,
            -0.0007920943438837776,
            -0.0007865955485773239,
            null,
            -0.0007865955485773239,
            -0.0006472499416609099,
            null,
            -0.0006472499416609099,
            -0.00041884862180409236,
            null,
            -0.00041884862180409236,
            -0.00017206299514522448,
            null,
            -0.00017206299514522448,
            0,
            null,
            0,
            0,
            null,
            0,
            0,
            null
           ],
           "z": [
            0,
            0,
            null,
            0,
            0,
            null,
            0,
            -0.0014888220673606246,
            null,
            -0.0014888220673606246,
            -0.004100898919607929,
            null,
            -0.004100898919607929,
            -0.007383759686406478,
            null,
            -0.007383759686406478,
            -0.010921280819828315,
            null,
            -0.010921280819828315,
            -0.014339131002233697,
            null,
            -0.014339131002233697,
            -0.0172495542192052,
            null,
            -0.0172495542192052,
            -0.019236910206134453,
            null,
            -0.019236910206134453,
            -0.01994708080129946,
            null,
            -0.01994708080129946,
            -0.019236820452382227,
            null,
            -0.019236820452382227,
            -0.017249403712970117,
            null,
            -0.017249403712970117,
            -0.014338959643581634,
            null,
            -0.014338959643581634,
            -0.010921122466692947,
            null,
            -0.010921122466692947,
            -0.007383637156367487,
            null,
            -0.007383637156367487,
            -0.00410082437168434,
            null,
            -0.00410082437168434,
            -0.00148879408157488,
            null,
            -0.00148879408157488,
            0,
            null,
            0,
            0,
            null,
            0,
            0,
            null
           ]
          },
          {
           "i": [],
           "j": [],
           "k": [],
           "name": "Faces",
           "type": "mesh3d",
           "x": {
            "bdata": "PLTIdr6fij8+30+Nl26SP11kO99PjZc/+UwljyJunD+cgOM8K2SgP3Zv1mTPUKI/qAIcs9MepD/Sg6TJXfylPzi75v0VEKg/U2frQHdnqj/4tWFAkO2sPxjdZduoc68/kgnjqYTlsD/TzoeNYO+xP1hucswl3rI/ArW4gSjFsz/21UQ5e7u0P/6nCaMI0rU/CtejcD0Ktz9SuB6F61G4P5qZmZmZmbk/",
            "dtype": "f8"
           },
           "y": {
            "bdata": "AAAAAAAAAAAAAAAAAAAAgAAAAAAAAACAVOEvnp2MJj9BzEvL53E7P4JvBtJoNEU/f4Aanr7EST+Kp2rcR/JJP/ZW4N1WKEU/Mfmc+0nVNz9qj2UktrGKvmeuIzmv2ze/dgJ9eigrRb8RqrKmkfRJvwRBAhRxxkm/MX13qoY1Rb/mmPMhHXM7vxqJvt95jSa/AAAAAAAAAAAAAAAAAAAAAAAAAAAAAAAA",
            "dtype": "f8"
           },
           "z": {
            "bdata": "AAAAAAAAAAAAAAAAAAAAgAAAAAAAAACAHymwhZJkWL9XFuerGsxwv4GF/uVuPn6/rN2cf+Vdhr80RqmV1V2Nv+3f9/zdqZG/tILYMNeyk79b3cTuAW2Uv29V4yrRspO/3nNK49Opkb9qodKVvl2Nv/T0oz7QXYa/kEfLAU4+fr9xJQKpBsxwvx6QA3l0ZFi/AAAAAAAAAAAAAAAAAAAAAAAAAAAAAAAA",
            "dtype": "f8"
           }
          }
         ],
         "layout": {
          "annotations": [
           {
            "showarrow": false,
            "text": "Time: 0.56s (Step: 57/100)",
            "x": 0.05,
            "xref": "paper",
            "y": 0.95,
            "yref": "paper"
           }
          ]
         },
         "name": "56"
        },
        {
         "data": [
          {
           "name": "Free Nodes",
           "type": "scatter3d",
           "x": {
            "bdata": "zL52kSVunD9C8g91MmSgP+QZgLHgUKI/9wLkK/AepD+tV4VQgfylPz1nnIk3EKg/XNGG2Ytnqj9mTeIxkO2sP5u/qCCUc68/3/CgzXPlsD/HvmqwTu+xP7IpZHgX3rI/mQuhyh/Fsz/MkPGUd7u0PyKuZ+AH0rU/",
            "dtype": "f8"
           },
           "y": {
            "bdata": "kB/tzToQJz903kBsJRI8P3MridlFsEU/wh18blVbSj/nrSiC94lKPwz9pvEWpEU/BaSc8+ZgOD/qTvuAB3OHvsO6+mSDZji/El5J6o2mRb85AbFJ9YtKv/k+VX7NXEq/ZFdz6zuxRb/92XdbLhM8vxNkpsv2ECe/",
            "dtype": "f8"
           },
           "z": {
            "bdata": "SxTXABdiWL+OLDxrospwvwe3L8E4PH6/Y+hyOY1chr/Bll+NX1yNv1W+tV8dqZG/HVOAoBSyk78voDO+PmyUv1qAbF4OspO/iB6i4RKpkb95l8ypR1yNv+U7sCV3XIa/0uq8khY8fr9A+Vuajcpwv8SJXrP3YVi/",
            "dtype": "f8"
           }
          },
          {
           "name": "Fixed Nodes",
           "type": "scatter3d",
           "x": {
            "bdata": "PLTIdr6fij8+30+Nl26SP11kO99PjZc/CtejcD0Ktz9SuB6F61G4P5qZmZmZmbk/",
            "dtype": "f8"
           },
           "y": {
            "bdata": "AAAAAAAAAAAAAAAAAAAAgAAAAAAAAACAAAAAAAAAAAAAAAAAAAAAAAAAAAAAAAAA",
            "dtype": "f8"
           },
           "z": {
            "bdata": "AAAAAAAAAAAAAAAAAAAAgAAAAAAAAACAAAAAAAAAAAAAAAAAAAAAAAAAAAAAAAAA",
            "dtype": "f8"
           }
          },
          {
           "name": "Edges",
           "type": "scatter3d",
           "x": [
            0.013000000000000005,
            0.01800000000000001,
            null,
            0.01800000000000001,
            0.02300000000000001,
            null,
            0.02300000000000001,
            0.02776392650929331,
            null,
            0.02776392650929331,
            0.032014443197088585,
            null,
            0.032014443197088585,
            0.03577329794648046,
            null,
            0.03577329794648046,
            0.03929853950285705,
            null,
            0.03929853950285705,
            0.0429420862953259,
            null,
            0.0429420862953259,
            0.04699872546025439,
            null,
            0.04699872546025439,
            0.05157124548296352,
            null,
            0.05157124548296352,
            0.056499963845591236,
            null,
            0.056499963845591236,
            0.06142866991683534,
            null,
            0.06142866991683534,
            0.06600116510611852,
            null,
            0.06600116510611852,
            0.07005779082350748,
            null,
            0.07005779082350748,
            0.07370135010947967,
            null,
            0.07370135010947967,
            0.0772266263675604,
            null,
            0.0772266263675604,
            0.08098552118605368,
            null,
            0.08098552118605368,
            0.0852360651839992,
            null,
            0.0852360651839992,
            0.09,
            null,
            0.09,
            0.095,
            null,
            0.095,
            0.1,
            null
           ],
           "y": [
            0,
            0,
            null,
            0,
            0,
            null,
            0,
            0.0001759597571100416,
            null,
            0.0001759597571100416,
            0.00042832769054566085,
            null,
            0.00042832769054566085,
            0.0006618825019101118,
            null,
            0.0006618825019101118,
            0.0008043448587792756,
            null,
            0.0008043448587792756,
            0.0008099039590140884,
            null,
            0.0008099039590140884,
            0.0006604301482226196,
            null,
            0.0006604301482226196,
            0.00037198675601019,
            null,
            0.00037198675601019,
            -1.7471114731900567e-7,
            null,
            -1.7471114731900567e-7,
            -0.00037232120392164894,
            null,
            -0.00037232120392164894,
            -0.0006607239670967677,
            null,
            -0.0006607239670967677,
            -0.00081014134355687,
            null,
            -0.00081014134355687,
            -0.000804519976250944,
            null,
            -0.000804519976250944,
            -0.000661997087173499,
            null,
            -0.000661997087173499,
            -0.0004283893754001565,
            null,
            -0.0004283893754001565,
            -0.00017598164215540442,
            null,
            -0.00017598164215540442,
            0,
            null,
            0,
            0,
            null,
            0,
            0,
            null
           ],
           "z": [
            0,
            0,
            null,
            0,
            0,
            null,
            0,
            -0.0014882301942276295,
            null,
            -0.0014882301942276295,
            -0.004099497269417841,
            null,
            -0.004099497269417841,
            -0.007381650636473009,
            null,
            -0.007381650636473009,
            -0.010918715778064752,
            null,
            -0.010918715778064752,
            -0.01433634424388275,
            null,
            -0.01433634424388275,
            -0.017246684042616717,
            null,
            -0.017246684042616717,
            -0.019234010978908523,
            null,
            -0.019234010978908523,
            -0.01994417224787542,
            null,
            -0.01994417224787542,
            -0.019233917725728446,
            null,
            -0.019233917725728446,
            -0.017246527692377472,
            null,
            -0.017246527692377472,
            -0.014336166257247861,
            null,
            -0.014336166257247861,
            -0.010918551290186993,
            null,
            -0.010918551290186993,
            -0.007381523300689268,
            null,
            -0.007381523300689268,
            -0.0040994197240691865,
            null,
            -0.0040994197240691865,
            -0.001488201041390456,
            null,
            -0.001488201041390456,
            0,
            null,
            0,
            0,
            null,
            0,
            0,
            null
           ]
          },
          {
           "i": [],
           "j": [],
           "k": [],
           "name": "Faces",
           "type": "mesh3d",
           "x": {
            "bdata": "PLTIdr6fij8+30+Nl26SP11kO99PjZc/zL52kSVunD9C8g91MmSgP+QZgLHgUKI/9wLkK/AepD+tV4VQgfylPz1nnIk3EKg/XNGG2Ytnqj9mTeIxkO2sP5u/qCCUc68/3/CgzXPlsD/HvmqwTu+xP7IpZHgX3rI/mQuhyh/Fsz/MkPGUd7u0PyKuZ+AH0rU/CtejcD0Ktz9SuB6F61G4P5qZmZmZmbk/",
            "dtype": "f8"
           },
           "y": {
            "bdata": "AAAAAAAAAAAAAAAAAAAAgAAAAAAAAACAkB/tzToQJz903kBsJRI8P3MridlFsEU/wh18blVbSj/nrSiC94lKPwz9pvEWpEU/BaSc8+ZgOD/qTvuAB3OHvsO6+mSDZji/El5J6o2mRb85AbFJ9YtKv/k+VX7NXEq/ZFdz6zuxRb/92XdbLhM8vxNkpsv2ECe/AAAAAAAAAAAAAAAAAAAAAAAAAAAAAAAA",
            "dtype": "f8"
           },
           "z": {
            "bdata": "AAAAAAAAAAAAAAAAAAAAgAAAAAAAAACASxTXABdiWL+OLDxrospwvwe3L8E4PH6/Y+hyOY1chr/Bll+NX1yNv1W+tV8dqZG/HVOAoBSyk78voDO+PmyUv1qAbF4OspO/iB6i4RKpkb95l8ypR1yNv+U7sCV3XIa/0uq8khY8fr9A+Vuajcpwv8SJXrP3YVi/AAAAAAAAAAAAAAAAAAAAAAAAAAAAAAAA",
            "dtype": "f8"
           }
          }
         ],
         "layout": {
          "annotations": [
           {
            "showarrow": false,
            "text": "Time: 0.57s (Step: 58/100)",
            "x": 0.05,
            "xref": "paper",
            "y": 0.95,
            "yref": "paper"
           }
          ]
         },
         "name": "57"
        },
        {
         "data": [
          {
           "name": "Free Nodes",
           "type": "scatter3d",
           "x": {
            "bdata": "ceuEpChunD9F2xXVOWSgP4c8PV3yUKI/9CKxQA0fpD9YhqOZpfylP+1DZsxZEKg/J/tk4qBnqj9mrQgjkO2sPyrCzfR+c68/k/49lWLlsD+EbnxxPO+xP2giq9UI3rI/HdWG4xbFsz/Dp3Xcc7u0P8qBhxkH0rU/",
            "dtype": "f8"
           },
           "y": {
            "bdata": "dNLY6LGTJz8wZkvbNrI8P9satBUDLEY/M3xOT8nxSj+nFGVUiSFLP69nH/jGH0Y/umnrOo7sOD9QIUf7DFSCvg2uvhvu8Di/Ni5Uca8hRr92++8PECNLv11dKEfm8kq/9WagWbssRr/Pl8UF+7I8v9Jzxwk8lCe/",
            "dtype": "f8"
           },
           "z": {
            "bdata": "BFNul41fWL+5jwrzIclwvz+nykD2OX6/YFDqcC1bhr9AwoFg4VqNv4AH2ZRYqJG/oQQO3U2xk79bZFxcd2uUv4Jkp2ZHsZO/qzhbwE2okb95BOe7yFqNv78jIa0WW4a/PrGBAdM5fr+bY1l5DMlwv3EWVEZtX1i/",
            "dtype": "f8"
           }
          },
          {
           "name": "Fixed Nodes",
           "type": "scatter3d",
           "x": {
            "bdata": "PLTIdr6fij8+30+Nl26SP11kO99PjZc/CtejcD0Ktz9SuB6F61G4P5qZmZmZmbk/",
            "dtype": "f8"
           },
           "y": {
            "bdata": "AAAAAAAAAAAAAAAAAAAAgAAAAAAAAACAAAAAAAAAAAAAAAAAAAAAAAAAAAAAAAAA",
            "dtype": "f8"
           },
           "z": {
            "bdata": "AAAAAAAAAAAAAAAAAAAAgAAAAAAAAACAAAAAAAAAAAAAAAAAAAAAAAAAAAAAAAAA",
            "dtype": "f8"
           }
          },
          {
           "name": "Edges",
           "type": "scatter3d",
           "x": [
            0.013000000000000005,
            0.01800000000000001,
            null,
            0.01800000000000001,
            0.02300000000000001,
            null,
            0.02300000000000001,
            0.027763972321945333,
            null,
            0.027763972321945333,
            0.03201466299190384,
            null,
            0.03201466299190384,
            0.03577382457898986,
            null,
            0.03577382457898986,
            0.03929940619179276,
            null,
            0.03929940619179276,
            0.04294316769097567,
            null,
            0.04294316769097567,
            0.04699974651442305,
            null,
            0.04699974651442305,
            0.051571872364084385,
            null,
            0.051571872364084385,
            0.05649996211681234,
            null,
            0.05649996211681234,
            0.06142803896262124,
            null,
            0.06142803896262124,
            0.06600013869865,
            null,
            0.06600013869865,
            0.07005670328765673,
            null,
            0.07005670328765673,
            0.07370047775760613,
            null,
            0.07370047775760613,
            0.07722609572268309,
            null,
            0.07722609572268309,
            0.08098529941858516,
            null,
            0.08098529941858516,
            0.08523601887964741,
            null,
            0.08523601887964741,
            0.09,
            null,
            0.09,
            0.095,
            null,
            0.095,
            0.1,
            null
           ],
           "y": [
            0,
            0,
            null,
            0,
            0,
            null,
            0,
            0.00017987772700824337,
            null,
            0.00017987772700824337,
            0.0004378684928219882,
            null,
            0.0004378684928219882,
            0.0006766333639525961,
            null,
            0.0006766333639525961,
            0.0008222802122083206,
            null,
            0.0008222802122083206,
            0.0008279724650398682,
            null,
            0.0008279724650398682,
            0.0006751748589934793,
            null,
            0.0006751748589934793,
            0.0003803107492054387,
            null,
            0.0003803107492054387,
            -1.3655664833482997e-7,
            null,
            -1.3655664833482997e-7,
            -0.00038057149117307136,
            null,
            -0.00038057149117307136,
            -0.0006754023221743957,
            null,
            -0.0006754023221743957,
            -0.0008281544140798919,
            null,
            -0.0008281544140798919,
            -0.0008224129108524259,
            null,
            -0.0008224129108524259,
            -0.0006767191691807438,
            null,
            -0.0006767191691807438,
            -0.0004379141662610415,
            null,
            -0.0004379141662610415,
            -0.00017989380729846336,
            null,
            -0.00017989380729846336,
            0,
            null,
            0,
            0,
            null,
            0,
            0,
            null
           ],
           "z": [
            0,
            0,
            null,
            0,
            0,
            null,
            0,
            -0.0014876253824002714,
            null,
            -0.0014876253824002714,
            -0.004098065008893253,
            null,
            -0.004098065008893253,
            -0.007379495550290659,
            null,
            -0.007379495550290659,
            -0.010916094787980224,
            null,
            -0.010916094787980224,
            -0.014333496816307023,
            null,
            -0.014333496816307023,
            -0.017243751606890623,
            null,
            -0.017243751606890623,
            -0.019231049172507956,
            null,
            -0.019231049172507956,
            -0.01994120122171626,
            null,
            -0.01994120122171626,
            -0.019230952873702474,
            null,
            -0.019230952873702474,
            -0.017243590226649157,
            null,
            -0.017243590226649157,
            -0.014333313211752451,
            null,
            -0.014333313211752451,
            -0.010915925177089279,
            null,
            -0.010915925177089279,
            -0.007379364244212204,
            null,
            -0.007379364244212204,
            -0.0040979850069441616,
            null,
            -0.0040979850069441616,
            -0.0014875952850287556,
            null,
            -0.0014875952850287556,
            0,
            null,
            0,
            0,
            null,
            0,
            0,
            null
           ]
          },
          {
           "i": [],
           "j": [],
           "k": [],
           "name": "Faces",
           "type": "mesh3d",
           "x": {
            "bdata": "PLTIdr6fij8+30+Nl26SP11kO99PjZc/ceuEpChunD9F2xXVOWSgP4c8PV3yUKI/9CKxQA0fpD9YhqOZpfylP+1DZsxZEKg/J/tk4qBnqj9mrQgjkO2sPyrCzfR+c68/k/49lWLlsD+EbnxxPO+xP2giq9UI3rI/HdWG4xbFsz/Dp3Xcc7u0P8qBhxkH0rU/CtejcD0Ktz9SuB6F61G4P5qZmZmZmbk/",
            "dtype": "f8"
           },
           "y": {
            "bdata": "AAAAAAAAAAAAAAAAAAAAgAAAAAAAAACAdNLY6LGTJz8wZkvbNrI8P9satBUDLEY/M3xOT8nxSj+nFGVUiSFLP69nH/jGH0Y/umnrOo7sOD9QIUf7DFSCvg2uvhvu8Di/Ni5Uca8hRr92++8PECNLv11dKEfm8kq/9WagWbssRr/Pl8UF+7I8v9Jzxwk8lCe/AAAAAAAAAAAAAAAAAAAAAAAAAAAAAAAA",
            "dtype": "f8"
           },
           "z": {
            "bdata": "AAAAAAAAAAAAAAAAAAAAgAAAAAAAAACABFNul41fWL+5jwrzIclwvz+nykD2OX6/YFDqcC1bhr9AwoFg4VqNv4AH2ZRYqJG/oQQO3U2xk79bZFxcd2uUv4Jkp2ZHsZO/qzhbwE2okb95BOe7yFqNv78jIa0WW4a/PrGBAdM5fr+bY1l5DMlwv3EWVEZtX1i/AAAAAAAAAAAAAAAAAAAAAAAAAAAAAAAA",
            "dtype": "f8"
           }
          }
         ],
         "layout": {
          "annotations": [
           {
            "showarrow": false,
            "text": "Time: 0.58s (Step: 59/100)",
            "x": 0.05,
            "xref": "paper",
            "y": 0.95,
            "yref": "paper"
           }
          ]
         },
         "name": "58"
        },
        {
         "data": [
          {
           "name": "Free Nodes",
           "type": "scatter3d",
           "x": {
            "bdata": "w6s+yCtunD8snsdcQWSgP093mmcEUaI/mIO+8CofpD8wRQKkyvylP6+KT8V8EKg/ZyfrWrZnqj9vMs8TkO2sP62fY1hpc68/ldItAVHlsD/YGDTRKe+xP2gvo+T53bI/Rs+ezA3Fsz+iNOUPcLu0P+ahbE4G0rU/",
            "dtype": "f8"
           },
           "y": {
            "bdata": "KQ3hAAAXKD9UisQ1GFI9P7Gg5Sydp0Y/tPoohhWISz+alTZs97hLPxpF2jlgm0Y/hRyKvTF4OT881YtXeYN3vnU1YYv7ejm/ZomVGZKcRr9SIVrS5blLv0e2CRu+iEu/ZoqFlwaoRr8INB3BhFI9v+I836ZKFyi/",
            "dtype": "f8"
           },
           "z": {
            "bdata": "/w2XXfZcWL+5yYZPmcdwv6BBgXenN36/jB98McZZhr/8yGwbW1mNv1qEf6KPp5G/zwAr7IKwk7/4rizOq2qUv6u5pkd8sJO/yQPDgoSnkb/yVZzRQVmNv3rOndmuWYa/tTGYVYM3fr9f9fFKg8dwvwlqIzrVXFi/",
            "dtype": "f8"
           }
          },
          {
           "name": "Fixed Nodes",
           "type": "scatter3d",
           "x": {
            "bdata": "PLTIdr6fij8+30+Nl26SP11kO99PjZc/CtejcD0Ktz9SuB6F61G4P5qZmZmZmbk/",
            "dtype": "f8"
           },
           "y": {
            "bdata": "AAAAAAAAAAAAAAAAAAAAgAAAAAAAAACAAAAAAAAAAAAAAAAAAAAAAAAAAAAAAAAA",
            "dtype": "f8"
           },
           "z": {
            "bdata": "AAAAAAAAAAAAAAAAAAAAgAAAAAAAAACAAAAAAAAAAAAAAAAAAAAAAAAAAAAAAAAA",
            "dtype": "f8"
           }
          },
          {
           "name": "Edges",
           "type": "scatter3d",
           "x": [
            0.013000000000000005,
            0.01800000000000001,
            null,
            0.01800000000000001,
            0.02300000000000001,
            null,
            0.02300000000000001,
            0.02776401910493199,
            null,
            0.02776401910493199,
            0.0320148874050655,
            null,
            0.0320148874050655,
            0.035774362227341976,
            null,
            0.035774362227341976,
            0.039300290954322026,
            null,
            0.039300290954322026,
            0.04294427158414249,
            null,
            0.04294427158414249,
            0.047000788770465866,
            null,
            0.047000788770465866,
            0.051572512243707895,
            null,
            0.051572512243707895,
            0.05649996034444348,
            null,
            0.05649996034444348,
            0.06142739490479641,
            null,
            0.06142739490479641,
            0.06599909094604535,
            null,
            0.06599909094604535,
            0.0700555930853598,
            null,
            0.0700555930853598,
            0.07369958717316438,
            null,
            0.07369958717316438,
            0.07722555394758243,
            null,
            0.07722555394758243,
            0.08098507297582327,
            null,
            0.08098507297582327,
            0.08523597159058446,
            null,
            0.08523597159058446,
            0.09,
            null,
            0.09,
            0.095,
            null,
            0.095,
            0.1,
            null
           ],
           "y": [
            0,
            0,
            null,
            0,
            0,
            null,
            0,
            0.0001837909225646886,
            null,
            0.0001837909225646886,
            0.0004473981005210005,
            null,
            0.0004473981005210005,
            0.0006913678605942245,
            null,
            0.0006913678605942245,
            0.0008401970956766953,
            null,
            0.0008401970956766953,
            0.0008460243338290097,
            null,
            0.0008460243338290097,
            0.0006899089673472498,
            null,
            0.0006899089673472498,
            0.0003886338650222548,
            null,
            0.0003886338650222548,
            -8.759487525238862e-8,
            null,
            -8.759487525238862e-8,
            -0.0003888000604817734,
            null,
            -0.0003888000604817734,
            -0.0006900514010051261,
            null,
            -0.0006900514010051261,
            -0.000846135347004876,
            null,
            -0.000846135347004876,
            -0.0008402755975802167,
            null,
            -0.0008402755975802167,
            -0.0006914169489785182,
            null,
            -0.0006914169489785182,
            -0.00044742337296527256,
            null,
            -0.00044742337296527256,
            -0.00018379961278334247,
            null,
            -0.00018379961278334247,
            0,
            null,
            0,
            0,
            null,
            0,
            0,
            null
           ],
           "z": [
            0,
            0,
            null,
            0,
            0,
            null,
            0,
            -0.0014870077051093442,
            null,
            -0.0014870077051093442,
            -0.004096602315643621,
            null,
            -0.004096602315643621,
            -0.007377294699907472,
            null,
            -0.007377294699907472,
            -0.010913418183477373,
            null,
            -0.010913418183477373,
            -0.014330589079325488,
            null,
            -0.014330589079325488,
            -0.017240757268045172,
            null,
            -0.017240757268045172,
            -0.019228025116490962,
            null,
            -0.019228025116490962,
            -0.01993816800965839,
            null,
            -0.01993816800965839,
            -0.0192279261333909,
            null,
            -0.0192279261333909,
            -0.01724059150797411,
            null,
            -0.01724059150797411,
            -0.014330400666532992,
            null,
            -0.014330400666532992,
            -0.010913244262815914,
            null,
            -0.010913244262815914,
            -0.0073771600959954735,
            null,
            -0.0073771600959954735,
            -0.004096520292589416,
            null,
            -0.004096520292589416,
            -0.0014869768424917737,
            null,
            -0.0014869768424917737,
            0,
            null,
            0,
            0,
            null,
            0,
            0,
            null
           ]
          },
          {
           "i": [],
           "j": [],
           "k": [],
           "name": "Faces",
           "type": "mesh3d",
           "x": {
            "bdata": "PLTIdr6fij8+30+Nl26SP11kO99PjZc/w6s+yCtunD8snsdcQWSgP093mmcEUaI/mIO+8CofpD8wRQKkyvylP6+KT8V8EKg/ZyfrWrZnqj9vMs8TkO2sP62fY1hpc68/ldItAVHlsD/YGDTRKe+xP2gvo+T53bI/Rs+ezA3Fsz+iNOUPcLu0P+ahbE4G0rU/CtejcD0Ktz9SuB6F61G4P5qZmZmZmbk/",
            "dtype": "f8"
           },
           "y": {
            "bdata": "AAAAAAAAAAAAAAAAAAAAgAAAAAAAAACAKQ3hAAAXKD9UisQ1GFI9P7Gg5Sydp0Y/tPoohhWISz+alTZs97hLPxpF2jlgm0Y/hRyKvTF4OT881YtXeYN3vnU1YYv7ejm/ZomVGZKcRr9SIVrS5blLv0e2CRu+iEu/ZoqFlwaoRr8INB3BhFI9v+I836ZKFyi/AAAAAAAAAAAAAAAAAAAAAAAAAAAAAAAA",
            "dtype": "f8"
           },
           "z": {
            "bdata": "AAAAAAAAAAAAAAAAAAAAgAAAAAAAAACA/w2XXfZcWL+5yYZPmcdwv6BBgXenN36/jB98McZZhr/8yGwbW1mNv1qEf6KPp5G/zwAr7IKwk7/4rizOq2qUv6u5pkd8sJO/yQPDgoSnkb/yVZzRQVmNv3rOndmuWYa/tTGYVYM3fr9f9fFKg8dwvwlqIzrVXFi/AAAAAAAAAAAAAAAAAAAAAAAAAAAAAAAA",
            "dtype": "f8"
           }
          }
         ],
         "layout": {
          "annotations": [
           {
            "showarrow": false,
            "text": "Time: 0.59s (Step: 60/100)",
            "x": 0.05,
            "xref": "paper",
            "y": 0.95,
            "yref": "paper"
           }
          ]
         },
         "name": "59"
        },
        {
         "data": [
          {
           "name": "Free Nodes",
           "type": "scatter3d",
           "x": {
            "bdata": "gQyS/C5unD8W//ULSWSgP7XyINAWUaI/BvZBO0kfpD8DZZ5u8PylP3pZXXOgEKg/fkF6Qsxnqj89hC4EkO2sP0PE+UtTc68/nQflET/lsD8U8gnQFu+xP928qKXq3bI/pN4dhgTFsz9ePlQvbLu0P9R8Gn8F0rU/",
            "dtype": "f8"
           },
           "y": {
            "bdata": "8X093yGaKD+5y7EzxfE9P7hLOmkQI0c/beLBzjQeTD+ktAAsO1BMP3ut2yHbFkc/EjDpdcEDOj8Ih2EgD+VgvljkaNi5BDq/gzf2zjsXR7/8YN0le1BMv93xqDVYHky/KjNDqB8jR78B7buYzfE9v8YNBv0jmii/",
            "dtype": "f8"
           },
           "z": {
            "bdata": "Cy+raVFaWL9zOT+OCMZwv1FaG3pMNX6/WK7mh1dYhr8fWsnLzFeNv+UyU4/CppG/hYzZ07Ovk79IxacY3GmUvzxaTwWtr5O/WTLEK7emkb/mS2rvsleNv/eGz64/WIa/rTrdlCc1fr+5oQ8T8sVwvwkwUZUvWli/",
            "dtype": "f8"
           }
          },
          {
           "name": "Fixed Nodes",
           "type": "scatter3d",
           "x": {
            "bdata": "PLTIdr6fij8+30+Nl26SP11kO99PjZc/CtejcD0Ktz9SuB6F61G4P5qZmZmZmbk/",
            "dtype": "f8"
           },
           "y": {
            "bdata": "AAAAAAAAAAAAAAAAAAAAgAAAAAAAAACAAAAAAAAAAAAAAAAAAAAAAAAAAAAAAAAA",
            "dtype": "f8"
           },
           "z": {
            "bdata": "AAAAAAAAAAAAAAAAAAAAgAAAAAAAAACAAAAAAAAAAAAAAAAAAAAAAAAAAAAAAAAA",
            "dtype": "f8"
           }
          },
          {
           "name": "Edges",
           "type": "scatter3d",
           "x": [
            0.013000000000000005,
            0.01800000000000001,
            null,
            0.01800000000000001,
            0.02300000000000001,
            null,
            0.02300000000000001,
            0.02776406685417188,
            null,
            0.02776406685417188,
            0.032015116415094066,
            null,
            0.032015116415094066,
            0.03577491083749377,
            null,
            0.03577491083749377,
            0.03930119369850264,
            null,
            0.03930119369850264,
            0.04294539785696296,
            null,
            0.04294539785696296,
            0.04700185211429449,
            null,
            0.04700185211429449,
            0.051573165049492595,
            null,
            0.051573165049492595,
            0.056499958525144646,
            null,
            0.056499958525144646,
            0.06142673780858179,
            null,
            0.06142673780858179,
            0.06599802195435563,
            null,
            0.06599802195435563,
            0.07005446032594193,
            null,
            0.07005446032594193,
            0.07369867844021223,
            null,
            0.07369867844021223,
            0.07722500109036418,
            null,
            0.07722500109036418,
            0.08098484187598262,
            null,
            0.08098484187598262,
            0.08523592331993096,
            null,
            0.08523592331993096,
            0.09,
            null,
            0.09,
            0.095,
            null,
            0.095,
            0.1,
            null
           ],
           "y": [
            0,
            0,
            null,
            0,
            0,
            null,
            0,
            0.00018769896962121628,
            null,
            0.00018769896962121628,
            0.0004569155168560563,
            null,
            0.0004569155168560563,
            0.000706084263997978,
            null,
            0.000706084263997978,
            0.0008580930566629126,
            null,
            0.0008580930566629126,
            0.0008640564847205612,
            null,
            0.0008640564847205612,
            0.0007046289426545915,
            null,
            0.0007046289426545915,
            0.0003969523731128809,
            null,
            0.0003969523731128809,
            -3.146894660199425e-8,
            null,
            -3.146894660199425e-8,
            -0.00039701020469668424,
            null,
            -0.00039701020469668424,
            -0.0007046739610119121,
            null,
            -0.0007046739610119121,
            -0.0008640862758780006,
            null,
            -0.0008640862758780006,
            -0.0008581095419866698,
            null,
            -0.0008581095419866698,
            -0.0007060913635768874,
            null,
            -0.0007060913635768874,
            -0.0004569174713961594,
            null,
            -0.0004569174713961594,
            -0.0001876992159958025,
            null,
            -0.0001876992159958025,
            0,
            null,
            0,
            0,
            null,
            0,
            0,
            null
           ],
           "z": [
            0,
            0,
            null,
            0,
            0,
            null,
            0,
            -0.0014863772436681268,
            null,
            -0.0014863772436681268,
            -0.004095109386936679,
            null,
            -0.004095109386936679,
            -0.007375048387720699,
            null,
            -0.007375048387720699,
            -0.010910686335441941,
            null,
            -0.010910686335441941,
            -0.014327621430465119,
            null,
            -0.014327621430465119,
            -0.017237701413978086,
            null,
            -0.017237701413978086,
            -0.01922493916061942,
            null,
            -0.01922493916061942,
            -0.019935072903483758,
            null,
            -0.019935072903483758,
            -0.01922483773145188,
            null,
            -0.01922483773145188,
            -0.0172375317061316,
            null,
            -0.0172375317061316,
            -0.01432742875230093,
            null,
            -0.01432742875230093,
            -0.010910508653924718,
            null,
            -0.010910508653924718,
            -0.007374910941350049,
            null,
            -0.007374910941350049,
            -0.004095025637959209,
            null,
            -0.004095025637959209,
            -0.0014863457374927355,
            null,
            -0.0014863457374927355,
            0,
            null,
            0,
            0,
            null,
            0,
            0,
            null
           ]
          },
          {
           "i": [],
           "j": [],
           "k": [],
           "name": "Faces",
           "type": "mesh3d",
           "x": {
            "bdata": "PLTIdr6fij8+30+Nl26SP11kO99PjZc/gQyS/C5unD8W//ULSWSgP7XyINAWUaI/BvZBO0kfpD8DZZ5u8PylP3pZXXOgEKg/fkF6Qsxnqj89hC4EkO2sP0PE+UtTc68/nQflET/lsD8U8gnQFu+xP928qKXq3bI/pN4dhgTFsz9ePlQvbLu0P9R8Gn8F0rU/CtejcD0Ktz9SuB6F61G4P5qZmZmZmbk/",
            "dtype": "f8"
           },
           "y": {
            "bdata": "AAAAAAAAAAAAAAAAAAAAgAAAAAAAAACA8X093yGaKD+5y7EzxfE9P7hLOmkQI0c/beLBzjQeTD+ktAAsO1BMP3ut2yHbFkc/EjDpdcEDOj8Ih2EgD+VgvljkaNi5BDq/gzf2zjsXR7/8YN0le1BMv93xqDVYHky/KjNDqB8jR78B7buYzfE9v8YNBv0jmii/AAAAAAAAAAAAAAAAAAAAAAAAAAAAAAAA",
            "dtype": "f8"
           },
           "z": {
            "bdata": "AAAAAAAAAAAAAAAAAAAAgAAAAAAAAACACy+raVFaWL9zOT+OCMZwv1FaG3pMNX6/WK7mh1dYhr8fWsnLzFeNv+UyU4/CppG/hYzZ07Ovk79IxacY3GmUvzxaTwWtr5O/WTLEK7emkb/mS2rvsleNv/eGz64/WIa/rTrdlCc1fr+5oQ8T8sVwvwkwUZUvWli/AAAAAAAAAAAAAAAAAAAAAAAAAAAAAAAA",
            "dtype": "f8"
           }
          }
         ],
         "layout": {
          "annotations": [
           {
            "showarrow": false,
            "text": "Time: 0.60s (Step: 61/100)",
            "x": 0.05,
            "xref": "paper",
            "y": 0.95,
            "yref": "paper"
           }
          ]
         },
         "name": "60"
        },
        {
         "data": [
          {
           "name": "Free Nodes",
           "type": "scatter3d",
           "x": {
            "bdata": "W3RsQTJunD84ZXDiUGSgP6bYVpYpUaI/755sH2gfpD+3BW/4Fv2lP9hbj9XEEKg/4mxvmOJnqj8FDx70j+2sP8bAINA8c68/Y3HZxyzlsD/banduA++xPxYMGRnb3bI/3kA5EPvEsz/j1dY6aLu0Pzd5lKsE0rU/",
            "dtype": "f8"
           },
           "y": {
            "bdata": "gbYLLRQdKT9frgFgOZE+P9muaetYnkc/6DdzpiG0TD/tbueiTedMPy6wgLUvkkc/P3yqeCyPOj9wvQ+DOQVePt6FRhI4jjq/R2F+57KRR79D4Q/41OZMvzuhaha4s0y/K2/KvAieR7/o9rjK15A+vzrBJ4vJHCm/",
            "dtype": "f8"
           },
           "z": {
            "bdata": "go+t055XWL8li8S9b8Rwv7tc717lMn6/WE7bgeFWhr/btjiANlaNv5w+aGLxpZG/CG1hmuCuk7+iU+ZACGmUv8jsaqPZrpO/7z8IvuWlkb8nvyMZHFaNv1/Xsi/JVoa/XhERxL8yfr+u5eTUWMRwvxUWNV18V1i/",
            "dtype": "f8"
           }
          },
          {
           "name": "Fixed Nodes",
           "type": "scatter3d",
           "x": {
            "bdata": "PLTIdr6fij8+30+Nl26SP11kO99PjZc/CtejcD0Ktz9SuB6F61G4P5qZmZmZmbk/",
            "dtype": "f8"
           },
           "y": {
            "bdata": "AAAAAAAAAAAAAAAAAAAAgAAAAAAAAACAAAAAAAAAAAAAAAAAAAAAAAAAAAAAAAAA",
            "dtype": "f8"
           },
           "z": {
            "bdata": "AAAAAAAAAAAAAAAAAAAAgAAAAAAAAACAAAAAAAAAAAAAAAAAAAAAAAAAAAAAAAAA",
            "dtype": "f8"
           }
          },
          {
           "name": "Edges",
           "type": "scatter3d",
           "x": [
            0.013000000000000005,
            0.01800000000000001,
            null,
            0.01800000000000001,
            0.02300000000000001,
            null,
            0.02300000000000001,
            0.027764115565436103,
            null,
            0.027764115565436103,
            0.03201534999989025,
            null,
            0.03201534999989025,
            0.03577547035404054,
            null,
            0.03577547035404054,
            0.039302114330267084,
            null,
            0.039302114330267084,
            0.0429465463889857,
            null,
            0.0429465463889857,
            0.047002936429343556,
            null,
            0.047002936429343556,
            0.05157383070737766,
            null,
            0.05157383070737766,
            0.05649995665501532,
            null,
            0.05649995665501532,
            0.0614260677397183,
            null,
            0.0614260677397183,
            0.06599693183074389,
            null,
            0.06599693183074389,
            0.07005330511985212,
            null,
            0.07005330511985212,
            0.07369775164356471,
            null,
            0.07369775164356471,
            0.07722443719945057,
            null,
            0.07722443719945057,
            0.08098460613731322,
            null,
            0.08098460613731322,
            0.08523587407078002,
            null,
            0.08523587407078002,
            0.09,
            null,
            0.09,
            0.095,
            null,
            0.095,
            0.1,
            null
           ],
           "y": [
            0,
            0,
            null,
            0,
            0,
            null,
            0,
            0.0001916014794213668,
            null,
            0.0001916014794213668,
            0.0004664197040315839,
            null,
            0.0004664197040315839,
            0.0007207807710307392,
            null,
            0.0007207807710307392,
            0.0008759655292125386,
            null,
            0.0008759655292125386,
            0.0008820656856260691,
            null,
            0.0008820656856260691,
            0.0007193310693813842,
            null,
            0.0007193310693813842,
            0.00040526233412125143,
            null,
            0.00040526233412125143,
            2.7958684426592458e-8,
            null,
            2.7958684426592458e-8,
            -0.00040520543032060246,
            null,
            -0.00040520543032060246,
            -0.0007192729526535401,
            null,
            -0.0007192729526535401,
            -0.0008820094955117947,
            null,
            -0.0008820094955117947,
            -0.0008759163727818717,
            null,
            -0.0008759163727818717,
            -0.0007207434333227116,
            null,
            -0.0007207434333227116,
            -0.0004663969836860974,
            null,
            -0.0004663969836860974,
            -0.00019159279106829315,
            null,
            -0.00019159279106829315,
            0,
            null,
            0,
            0,
            null,
            0,
            0,
            null
           ],
           "z": [
            0,
            0,
            null,
            0,
            0,
            null,
            0,
            -0.0014857340854285976,
            null,
            -0.0014857340854285976,
            -0.004093586434722939,
            null,
            -0.004093586434722939,
            -0.007372756938784859,
            null,
            -0.007372756938784859,
            -0.01090789964238252,
            null,
            -0.01090789964238252,
            -0.014324594295512074,
            null,
            -0.014324594295512074,
            -0.017234584456729082,
            null,
            -0.017234584456729082,
            -0.01922179167045804,
            null,
            -0.01922179167045804,
            -0.0199319161998407,
            null,
            -0.0199319161998407,
            -0.019221687888358457,
            null,
            -0.019221687888358457,
            -0.017234410976072864,
            null,
            -0.017234410976072864,
            -0.014324397580338278,
            null,
            -0.014324397580338278,
            -0.01090771843733379,
            null,
            -0.01090771843733379,
            -0.007372616849412898,
            null,
            -0.007372616849412898,
            -0.004093501089579217,
            null,
            -0.004093501089579217,
            -0.0014857019894675184,
            null,
            -0.0014857019894675184,
            0,
            null,
            0,
            0,
            null,
            0,
            0,
            null
           ]
          },
          {
           "i": [],
           "j": [],
           "k": [],
           "name": "Faces",
           "type": "mesh3d",
           "x": {
            "bdata": "PLTIdr6fij8+30+Nl26SP11kO99PjZc/W3RsQTJunD84ZXDiUGSgP6bYVpYpUaI/755sH2gfpD+3BW/4Fv2lP9hbj9XEEKg/4mxvmOJnqj8FDx70j+2sP8bAINA8c68/Y3HZxyzlsD/banduA++xPxYMGRnb3bI/3kA5EPvEsz/j1dY6aLu0Pzd5lKsE0rU/CtejcD0Ktz9SuB6F61G4P5qZmZmZmbk/",
            "dtype": "f8"
           },
           "y": {
            "bdata": "AAAAAAAAAAAAAAAAAAAAgAAAAAAAAACAgbYLLRQdKT9frgFgOZE+P9muaetYnkc/6DdzpiG0TD/tbueiTedMPy6wgLUvkkc/P3yqeCyPOj9wvQ+DOQVePt6FRhI4jjq/R2F+57KRR79D4Q/41OZMvzuhaha4s0y/K2/KvAieR7/o9rjK15A+vzrBJ4vJHCm/AAAAAAAAAAAAAAAAAAAAAAAAAAAAAAAA",
            "dtype": "f8"
           },
           "z": {
            "bdata": "AAAAAAAAAAAAAAAAAAAAgAAAAAAAAACAgo+t055XWL8li8S9b8Rwv7tc717lMn6/WE7bgeFWhr/btjiANlaNv5w+aGLxpZG/CG1hmuCuk7+iU+ZACGmUv8jsaqPZrpO/7z8IvuWlkb8nvyMZHFaNv1/Xsi/JVoa/XhERxL8yfr+u5eTUWMRwvxUWNV18V1i/AAAAAAAAAAAAAAAAAAAAAAAAAAAAAAAA",
            "dtype": "f8"
           }
          }
         ],
         "layout": {
          "annotations": [
           {
            "showarrow": false,
            "text": "Time: 0.61s (Step: 62/100)",
            "x": 0.05,
            "xref": "paper",
            "y": 0.95,
            "yref": "paper"
           }
          ]
         },
         "name": "61"
        },
        {
         "data": [
          {
           "name": "Free Nodes",
           "type": "scatter3d",
           "x": {
            "bdata": "Tc66ljVunD9NIwXgWGSgP4fZv7k8UaI/h6lrnIcfpD+VWmZAPv2lP/CD4OrpEKg/YKMkXPlnqj8ji5Tjj+2sP5vNauUlc68/QGOCIxrlsD/He/es7+6xP7F7Uj/L3bI/QsUma/HEsz+FNoEyZLu0P+X/3dMD0rU/",
            "dtype": "f8"
           },
           "y": {
            "bdata": "w8OGm9OfKT+ahEJQcDA/P94kL91yGUg/ue0Zl9ZJTT/hFnDvJ35NPw0vbQtWDUg/RjRD/mEaOz+Y8hSewVB3PnXwxCmFFzu/6Eh3rP0LSL/Z/6Es+HxNv4iqmzXhSE2/LYSDAcQYSL9SsmKQpS8/vxqM3Mw8nym/",
            "dtype": "f8"
           },
           "z": {
            "bdata": "4feltN5UWL9Y5kXtzsJwv9D0Rz1yMH6/WF+gLWRVhr/N4vVHmFSNvyEvFiMcpZG/g9U5Rgmuk7+aCxZMMGiUv6A0vSUCrpO/N4UdPBClkb+PBU5SfVSNvzUn9F5LVYa/i6Zv50swfr8LM0+Tt8Jwvw9+m5a7VFi/",
            "dtype": "f8"
           }
          },
          {
           "name": "Fixed Nodes",
           "type": "scatter3d",
           "x": {
            "bdata": "PLTIdr6fij8+30+Nl26SP11kO99PjZc/CtejcD0Ktz9SuB6F61G4P5qZmZmZmbk/",
            "dtype": "f8"
           },
           "y": {
            "bdata": "AAAAAAAAAAAAAAAAAAAAgAAAAAAAAACAAAAAAAAAAAAAAAAAAAAAAAAAAAAAAAAA",
            "dtype": "f8"
           },
           "z": {
            "bdata": "AAAAAAAAAAAAAAAAAAAAgAAAAAAAAACAAAAAAAAAAAAAAAAAAAAAAAAAAAAAAAAA",
            "dtype": "f8"
           }
          },
          {
           "name": "Edges",
           "type": "scatter3d",
           "x": [
            0.013000000000000005,
            0.01800000000000001,
            null,
            0.01800000000000001,
            0.02300000000000001,
            null,
            0.02300000000000001,
            0.027764165234385896,
            null,
            0.027764165234385896,
            0.03201558813686365,
            null,
            0.03201558813686365,
            0.0357760407204522,
            null,
            0.0357760407204522,
            0.0393030527537404,
            null,
            0.0393030527537404,
            0.04294771705752002,
            null,
            0.04294771705752002,
            0.047004041596899415,
            null,
            0.047004041596899415,
            0.05157450914186401,
            null,
            0.05157450914186401,
            0.05649995472983551,
            null,
            0.05649995472983551,
            0.06142538476469924,
            null,
            0.06142538476469924,
            0.0659958206837361,
            null,
            0.0659958206837361,
            0.07005212757893196,
            null,
            0.07005212757893196,
            0.07369680686905046,
            null,
            0.07369680686905046,
            0.07722386232378134,
            null,
            0.07722386232378134,
            0.08098436577821573,
            null,
            0.08098436577821573,
            0.08523582384623259,
            null,
            0.08523582384623259,
            0.09,
            null,
            0.09,
            0.095,
            null,
            0.095,
            0.1,
            null
           ],
           "y": [
            0,
            0,
            null,
            0,
            0,
            null,
            0,
            0.0001954980668990286,
            null,
            0.0001954980668990286,
            0.00047590963391470344,
            null,
            0.00047590963391470344,
            0.0007354555949571592,
            null,
            0.0007354555949571592,
            0.0008938119701293246,
            null,
            0.0008938119701293246,
            0.0009000487324335138,
            null,
            0.0009000487324335138,
            0.0007340116634195496,
            null,
            0.0007340116634195496,
            0.0004135598412745061,
            null,
            0.0004135598412745061,
            8.685683596395026e-8,
            null,
            8.685683596395026e-8,
            -0.0004133892159818916,
            null,
            -0.0004133892159818916,
            -0.0007338513032044943,
            null,
            -0.0007338513032044943,
            -0.000899907282715158,
            null,
            -0.000899907282715158,
            -0.0008936977057748133,
            null,
            -0.0008936977057748133,
            -0.0007353741703150001,
            null,
            -0.0007353741703150001,
            -0.00047586242761602394,
            null,
            -0.00047586242761602394,
            -0.0001954805106204334,
            null,
            -0.0001954805106204334,
            0,
            null,
            0,
            0,
            null,
            0,
            0,
            null
           ],
           "z": [
            0,
            0,
            null,
            0,
            0,
            null,
            0,
            -0.0014850783214508322,
            null,
            -0.0014850783214508322,
            -0.004092033679961547,
            null,
            -0.004092033679961547,
            -0.007370420692038596,
            null,
            -0.007370420692038596,
            -0.01090505851975336,
            null,
            -0.01090505851975336,
            -0.01432150811773294,
            null,
            -0.01432150811773294,
            -0.017231406823653764,
            null,
            -0.017231406823653764,
            -0.019218583022355695,
            null,
            -0.019218583022355695,
            -0.01992869820015706,
            null,
            -0.01992869820015706,
            -0.019218476823244957,
            null,
            -0.019218476823244957,
            -0.017231229466579037,
            null,
            -0.017231229466579037,
            -0.014321307253115005,
            null,
            -0.014321307253115005,
            -0.010904873690850895,
            null,
            -0.010904873690850895,
            -0.007370277881798902,
            null,
            -0.007370277881798902,
            -0.0040919466891409335,
            null,
            -0.0040919466891409335,
            -0.0014850456158724855,
            null,
            -0.0014850456158724855,
            0,
            null,
            0,
            0,
            null,
            0,
            0,
            null
           ]
          },
          {
           "i": [],
           "j": [],
           "k": [],
           "name": "Faces",
           "type": "mesh3d",
           "x": {
            "bdata": "PLTIdr6fij8+30+Nl26SP11kO99PjZc/Tc66ljVunD9NIwXgWGSgP4fZv7k8UaI/h6lrnIcfpD+VWmZAPv2lP/CD4OrpEKg/YKMkXPlnqj8ji5Tjj+2sP5vNauUlc68/QGOCIxrlsD/He/es7+6xP7F7Uj/L3bI/QsUma/HEsz+FNoEyZLu0P+X/3dMD0rU/CtejcD0Ktz9SuB6F61G4P5qZmZmZmbk/",
            "dtype": "f8"
           },
           "y": {
            "bdata": "AAAAAAAAAAAAAAAAAAAAgAAAAAAAAACAw8OGm9OfKT+ahEJQcDA/P94kL91yGUg/ue0Zl9ZJTT/hFnDvJ35NPw0vbQtWDUg/RjRD/mEaOz+Y8hSewVB3PnXwxCmFFzu/6Eh3rP0LSL/Z/6Es+HxNv4iqmzXhSE2/LYSDAcQYSL9SsmKQpS8/vxqM3Mw8nym/AAAAAAAAAAAAAAAAAAAAAAAAAAAAAAAA",
            "dtype": "f8"
           },
           "z": {
            "bdata": "AAAAAAAAAAAAAAAAAAAAgAAAAAAAAACA4feltN5UWL9Y5kXtzsJwv9D0Rz1yMH6/WF+gLWRVhr/N4vVHmFSNvyEvFiMcpZG/g9U5Rgmuk7+aCxZMMGiUv6A0vSUCrpO/N4UdPBClkb+PBU5SfVSNvzUn9F5LVYa/i6Zv50swfr8LM0+Tt8Jwvw9+m5a7VFi/AAAAAAAAAAAAAAAAAAAAAAAAAAAAAAAA",
            "dtype": "f8"
           }
          }
         ],
         "layout": {
          "annotations": [
           {
            "showarrow": false,
            "text": "Time: 0.62s (Step: 63/100)",
            "x": 0.05,
            "xref": "paper",
            "y": 0.95,
            "yref": "paper"
           }
          ]
         },
         "name": "62"
        },
        {
         "data": [
          {
           "name": "Free Nodes",
           "type": "scatter3d",
           "x": {
            "bdata": "X7Zp/DhunD/Zw4EEYWSgP/C33TlQUaI/HwNpsacfpD/gd3JFZv2lP03MR7IPEag/HlvxjBBoqj8FjIjSj+2sPzpVbIwOc68/LPtYJQflsD/D9QaM2+6xPynUtBi73bI/uggdl+fEsz9Z6GcWYLu0P2SG+vcC0rU/",
            "dtype": "f8"
           },
           "y": {
            "bdata": "jg1pCV0iKj+UGnHYZc8/P9VVLqBalEg/lifCfE7fTT+2dk+bwxROP675RLpGiEg/7+ZQWlKlOz9iSQBHXQODPiT+w/muoDu/sSnA6yGGSL+MGaFB6RJOv9681b7W3U2/Lzp3b1OTSL/9/oHqOM4/v3TeFRV/ISq/",
            "dtype": "f8"
           },
           "z": {
            "bdata": "hxH0JRFSWL8PmCcsJsFwv+QtwSzzLX6/Ei+umd9Thr/AjnEy8lKNvwfszthCpJG/ORXy3S2tk7/6NHk/VGeUv3yIGpAmrZO/q2CfqDakkb+ld4Oe1lKNv0dzUT/GU4a/RDBRA8wtfr/uyT5RDsFwv4secEbtUVi/",
            "dtype": "f8"
           }
          },
          {
           "name": "Fixed Nodes",
           "type": "scatter3d",
           "x": {
            "bdata": "PLTIdr6fij8+30+Nl26SP11kO99PjZc/CtejcD0Ktz9SuB6F61G4P5qZmZmZmbk/",
            "dtype": "f8"
           },
           "y": {
            "bdata": "AAAAAAAAAAAAAAAAAAAAgAAAAAAAAACAAAAAAAAAAAAAAAAAAAAAAAAAAAAAAAAA",
            "dtype": "f8"
           },
           "z": {
            "bdata": "AAAAAAAAAAAAAAAAAAAAgAAAAAAAAACAAAAAAAAAAAAAAAAAAAAAAAAAAAAAAAAA",
            "dtype": "f8"
           }
          },
          {
           "name": "Edges",
           "type": "scatter3d",
           "x": [
            0.013000000000000005,
            0.01800000000000001,
            null,
            0.01800000000000001,
            0.02300000000000001,
            null,
            0.02300000000000001,
            0.02776421585661237,
            null,
            0.02776421585661237,
            0.0320158308030682,
            null,
            0.0320158308030682,
            0.03577662187932151,
            null,
            0.03577662187932151,
            0.039304008871573475,
            null,
            0.039304008871573475,
            0.04294890973800114,
            null,
            0.04294890973800114,
            0.047005167496444324,
            null,
            0.047005167496444324,
            0.05157520027630923,
            null,
            0.05157520027630923,
            0.05649995274531964,
            null,
            0.05649995274531964,
            0.06142468895101634,
            null,
            0.06142468895101634,
            0.06599468862348762,
            null,
            0.06599468862348762,
            0.07005092781670101,
            null,
            0.07005092781670101,
            0.07369584420378374,
            null,
            0.07369584420378374,
            0.07722327651302666,
            null,
            0.07722327651302666,
            0.08098412081736352,
            null,
            0.08098412081736352,
            0.08523577264943466,
            null,
            0.08523577264943466,
            0.09,
            null,
            0.09,
            0.095,
            null,
            0.095,
            0.1,
            null
           ],
           "y": [
            0,
            0,
            null,
            0,
            0,
            null,
            0,
            0.00019938836767794923,
            null,
            0.00019938836767794923,
            0.000485384335153696,
            null,
            0.000485384335153696,
            0.0007501070507369099,
            null,
            0.0007501070507369099,
            0.0009116299857094719,
            null,
            0.0009116299857094719,
            0.0009180026160000218,
            null,
            0.0009180026160000218,
            0.0007486672734911459,
            null,
            0.0007486672734911459,
            0.00042184124533016417,
            null,
            0.00042184124533016417,
            1.416589472396622e-7,
            null,
            1.416589472396622e-7,
            -0.0004215647875440451,
            null,
            -0.0004215647875440451,
            -0.0007484117154501949,
            null,
            -0.0007484117154501949,
            -0.0009177817294208509,
            null,
            -0.0009177817294208509,
            -0.0009114550172578913,
            null,
            -0.0009114550172578913,
            -0.000749984493205796,
            null,
            -0.000749984493205796,
            -0.00048531426956087404,
            null,
            -0.00048531426956087404,
            -0.0001993625287857074,
            null,
            -0.0001993625287857074,
            0,
            null,
            0,
            0,
            null,
            0,
            0,
            null
           ],
           "z": [
            0,
            0,
            null,
            0,
            0,
            null,
            0,
            -0.001484410044043734,
            null,
            -0.001484410044043734,
            -0.004090451346632675,
            null,
            -0.004090451346632675,
            -0.007368039991046047,
            null,
            -0.007368039991046047,
            -0.010902163388685025,
            null,
            -0.010902163388685025,
            -0.01431836334649661,
            null,
            -0.01431836334649661,
            -0.017228168948104663,
            null,
            -0.017228168948104663,
            -0.01921531359814319,
            null,
            -0.01921531359814319,
            -0.019925419210541563,
            null,
            -0.019925419210541563,
            -0.0192152047590146,
            null,
            -0.0192152047590146,
            -0.017227987329392274,
            null,
            -0.017227987329392274,
            -0.014318157875489687,
            null,
            -0.014318157875489687,
            -0.010901974494282774,
            null,
            -0.010901974494282774,
            -0.007367894101729947,
            null,
            -0.007367894101729947,
            -0.004090362479404848,
            null,
            -0.004090362479404848,
            -0.0014843766346092381,
            null,
            -0.0014843766346092381,
            0,
            null,
            0,
            0,
            null,
            0,
            0,
            null
           ]
          },
          {
           "i": [],
           "j": [],
           "k": [],
           "name": "Faces",
           "type": "mesh3d",
           "x": {
            "bdata": "PLTIdr6fij8+30+Nl26SP11kO99PjZc/X7Zp/DhunD/Zw4EEYWSgP/C33TlQUaI/HwNpsacfpD/gd3JFZv2lP03MR7IPEag/HlvxjBBoqj8FjIjSj+2sPzpVbIwOc68/LPtYJQflsD/D9QaM2+6xPynUtBi73bI/uggdl+fEsz9Z6GcWYLu0P2SG+vcC0rU/CtejcD0Ktz9SuB6F61G4P5qZmZmZmbk/",
            "dtype": "f8"
           },
           "y": {
            "bdata": "AAAAAAAAAAAAAAAAAAAAgAAAAAAAAACAjg1pCV0iKj+UGnHYZc8/P9VVLqBalEg/lifCfE7fTT+2dk+bwxROP675RLpGiEg/7+ZQWlKlOz9iSQBHXQODPiT+w/muoDu/sSnA6yGGSL+MGaFB6RJOv9681b7W3U2/Lzp3b1OTSL/9/oHqOM4/v3TeFRV/ISq/AAAAAAAAAAAAAAAAAAAAAAAAAAAAAAAA",
            "dtype": "f8"
           },
           "z": {
            "bdata": "AAAAAAAAAAAAAAAAAAAAgAAAAAAAAACAhxH0JRFSWL8PmCcsJsFwv+QtwSzzLX6/Ei+umd9Thr/AjnEy8lKNvwfszthCpJG/ORXy3S2tk7/6NHk/VGeUv3yIGpAmrZO/q2CfqDakkb+ld4Oe1lKNv0dzUT/GU4a/RDBRA8wtfr/uyT5RDsFwv4secEbtUVi/AAAAAAAAAAAAAAAAAAAAAAAAAAAAAAAA",
            "dtype": "f8"
           }
          }
         ],
         "layout": {
          "annotations": [
           {
            "showarrow": false,
            "text": "Time: 0.63s (Step: 64/100)",
            "x": 0.05,
            "xref": "paper",
            "y": 0.95,
            "yref": "paper"
           }
          ]
         },
         "name": "63"
        },
        {
         "data": [
          {
           "name": "Free Nodes",
           "type": "scatter3d",
           "x": {
            "bdata": "oqZlcjxunD8SVrNPaWSgP6XVMBZkUaI/ZhiMXcgfpD/5IX4Gj/2lP7f6uCo2Eag/Di0rKihoqj8lD/HAj+2sP+N+vMX2cq8/FW3YzfPksD/30iQMx+6xPwWVoaWq3bI/MrJTlN3Esz/E4p/mW7u0P4KZ7RcC0rU/",
            "dtype": "f8"
           },
           "y": {
            "bdata": "sslZo62kKj9XXvcbCzdAPwL8qfYMD0k/j20rwoR0Tj9HmS3rGqtOP7ST5Dj7Akk/8B+Q0u8vPD8M1A1qIGeJPpSuUXDBKTy/xECjlyQASb+becT/q6hOv42hi1Sbck6/Hbmlo7gNSb9M+Tq6STZAvzl3v22Royq/",
            "dtype": "f8"
           },
           "z": {
            "bdata": "Y7akQDZPWL9pLZuJdb9wv+fIp0RoK36/ZC9N1FNShr83WO9ORFGNv/xH9oplo5G/r4saaE6sk79zMWYgdGaUv7vpfeZGrJO/LcFdBlmjkb9Oe9QBKFGNv0aR+tM5Uoa/+GHIHEArfr/aCB0SXb9wv14eZnIRT1i/",
            "dtype": "f8"
           }
          },
          {
           "name": "Fixed Nodes",
           "type": "scatter3d",
           "x": {
            "bdata": "PLTIdr6fij8+30+Nl26SP11kO99PjZc/CtejcD0Ktz9SuB6F61G4P5qZmZmZmbk/",
            "dtype": "f8"
           },
           "y": {
            "bdata": "AAAAAAAAAAAAAAAAAAAAgAAAAAAAAACAAAAAAAAAAAAAAAAAAAAAAAAAAAAAAAAA",
            "dtype": "f8"
           },
           "z": {
            "bdata": "AAAAAAAAAAAAAAAAAAAAgAAAAAAAAACAAAAAAAAAAAAAAAAAAAAAAAAAAAAAAAAA",
            "dtype": "f8"
           }
          },
          {
           "name": "Edges",
           "type": "scatter3d",
           "x": [
            0.013000000000000005,
            0.01800000000000001,
            null,
            0.01800000000000001,
            0.02300000000000001,
            null,
            0.02300000000000001,
            0.027764267427676466,
            null,
            0.027764267427676466,
            0.0320160779753388,
            null,
            0.0320160779753388,
            0.03577721377261448,
            null,
            0.03577721377261448,
            0.03930498258527919,
            null,
            0.03930498258527919,
            0.042950124304358135,
            null,
            0.042950124304358135,
            0.047006314006002574,
            null,
            0.047006314006002574,
            0.051575904033223194,
            null,
            0.051575904033223194,
            0.056499950697370495,
            null,
            0.056499950697370495,
            0.06142398036740617,
            null,
            0.06142398036740617,
            0.06599353576205076,
            null,
            0.06599353576205076,
            0.07004970594864433,
            null,
            0.07004970594864433,
            0.07369486373643859,
            null,
            0.07369486373643859,
            0.07722267981780176,
            null,
            0.07722267981780176,
            0.08098387127382539,
            null,
            0.08098387127382539,
            0.08523572048361497,
            null,
            0.08523572048361497,
            0.09,
            null,
            0.09,
            0.095,
            null,
            0.095,
            0.1,
            null
           ],
           "y": [
            0,
            0,
            null,
            0,
            0,
            null,
            0,
            0.0002032720528180716,
            null,
            0.0002032720528180716,
            0.0004948429340698263,
            null,
            0.0004948429340698263,
            0.0007647336290829145,
            null,
            0.0007647336290829145,
            0.0009294174418203338,
            null,
            0.0009294174418203338,
            0.000935924667243162,
            null,
            0.000935924667243162,
            0.0007632948561747594,
            null,
            0.0007632948561747594,
            0.000430103350084198,
            null,
            0.000430103350084198,
            1.892658945363909e-7,
            null,
            1.892658945363909e-7,
            -0.0004297349226536154,
            null,
            -0.0004297349226536154,
            -0.0007629564927587253,
            null,
            -0.0007629564927587253,
            -0.0009356345977129978,
            null,
            -0.0009356345977129978,
            -0.00092918953404557,
            null,
            -0.00092918953404557,
            -0.000764575153238831,
            null,
            -0.000764575153238831,
            -0.0004947528836607789,
            null,
            -0.0004947528836607789,
            -0.00020323896649093192,
            null,
            -0.00020323896649093192,
            0,
            null,
            0,
            0,
            null,
            0,
            0,
            null
           ],
           "z": [
            0,
            0,
            null,
            0,
            0,
            null,
            0,
            -0.001483729344339401,
            null,
            -0.001483729344339401,
            -0.004088839655831713,
            null,
            -0.004088839655831713,
            -0.0073656151748642045,
            null,
            -0.0073656151748642045,
            -0.010899214664867159,
            null,
            -0.010899214664867159,
            -0.014315160426047508,
            null,
            -0.014315160426047508,
            -0.01722487126023252,
            null,
            -0.01722487126023252,
            -0.019211983779893135,
            null,
            -0.019211983779893135,
            -0.01992207954167342,
            null,
            -0.01992207954167342,
            -0.019211871927362383,
            null,
            -0.019211871927362383,
            -0.01722468472820642,
            null,
            -0.01722468472820642,
            -0.014314949565741888,
            null,
            -0.014314949565741888,
            -0.0108990209403791,
            null,
            -0.0108990209403791,
            -0.007365465583028634,
            null,
            -0.007365465583028634,
            -0.004088748510016249,
            null,
            -0.004088748510016249,
            -0.0014836950664135688,
            null,
            -0.0014836950664135688,
            0,
            null,
            0,
            0,
            null,
            0,
            0,
            null
           ]
          },
          {
           "i": [],
           "j": [],
           "k": [],
           "name": "Faces",
           "type": "mesh3d",
           "x": {
            "bdata": "PLTIdr6fij8+30+Nl26SP11kO99PjZc/oqZlcjxunD8SVrNPaWSgP6XVMBZkUaI/ZhiMXcgfpD/5IX4Gj/2lP7f6uCo2Eag/Di0rKihoqj8lD/HAj+2sP+N+vMX2cq8/FW3YzfPksD/30iQMx+6xPwWVoaWq3bI/MrJTlN3Esz/E4p/mW7u0P4KZ7RcC0rU/CtejcD0Ktz9SuB6F61G4P5qZmZmZmbk/",
            "dtype": "f8"
           },
           "y": {
            "bdata": "AAAAAAAAAAAAAAAAAAAAgAAAAAAAAACAsslZo62kKj9XXvcbCzdAPwL8qfYMD0k/j20rwoR0Tj9HmS3rGqtOP7ST5Dj7Akk/8B+Q0u8vPD8M1A1qIGeJPpSuUXDBKTy/xECjlyQASb+becT/q6hOv42hi1Sbck6/Hbmlo7gNSb9M+Tq6STZAvzl3v22Royq/AAAAAAAAAAAAAAAAAAAAAAAAAAAAAAAA",
            "dtype": "f8"
           },
           "z": {
            "bdata": "AAAAAAAAAAAAAAAAAAAAgAAAAAAAAACAY7akQDZPWL9pLZuJdb9wv+fIp0RoK36/ZC9N1FNShr83WO9ORFGNv/xH9oplo5G/r4saaE6sk79zMWYgdGaUv7vpfeZGrJO/LcFdBlmjkb9Oe9QBKFGNv0aR+tM5Uoa/+GHIHEArfr/aCB0SXb9wv14eZnIRT1i/AAAAAAAAAAAAAAAAAAAAAAAAAAAAAAAA",
            "dtype": "f8"
           }
          }
         ],
         "layout": {
          "annotations": [
           {
            "showarrow": false,
            "text": "Time: 0.64s (Step: 65/100)",
            "x": 0.05,
            "xref": "paper",
            "y": 0.95,
            "yref": "paper"
           }
          ]
         },
         "name": "64"
        },
        {
         "data": [
          {
           "name": "Free Nodes",
           "type": "scatter3d",
           "x": {
            "bdata": "/yGb+D9unD8mt2bBcWSgP0G6OE54UaI/dIr6n+kfpD+Qk3GCuP2lPyNaJVNdEag/y3ImM0Boqj9zAsauj+2sP3aw9ZHecq8/k0l+HeDksD8Og9Itsu6xP8M9fOaZ3bI/wqsDY9PEsz8lrT6jV7u0P0bnujMB0rU/",
            "dtype": "f8"
           },
           "y": {
            "bdata": "7R62/cImKz8aqaMeP4ZAP4PR7SOHiUk/9f/8kHUJTz8X2jUeKUFPP7bnEytufUk/dmI7Si+6PD8odpvny36OPoCoWuPFsjy/ZK0wegl6Sb8cvO06Qz5Pv68n5d8wB0+/SgKqvvSHSb85lD8gW4VAv6F/BH50JSu/",
            "dtype": "f8"
           },
           "z": {
            "bdata": "u67UHE5MWL/Vuj8Uvb1wvxE1ZZvRKH6/tNo768BQhr/1xCqsjk+NvwOyvECEopG/BF8v62qrk78G90b0j2WUv4tHHS1jq5O/jXqBWHeikb+QtyCBcU+Nv9iv6SCmUIa/P+MzOqgofr+jfSrao71wv9WkkiEoTFi/",
            "dtype": "f8"
           }
          },
          {
           "name": "Fixed Nodes",
           "type": "scatter3d",
           "x": {
            "bdata": "PLTIdr6fij8+30+Nl26SP11kO99PjZc/CtejcD0Ktz9SuB6F61G4P5qZmZmZmbk/",
            "dtype": "f8"
           },
           "y": {
            "bdata": "AAAAAAAAAAAAAAAAAAAAgAAAAAAAAACAAAAAAAAAAAAAAAAAAAAAAAAAAAAAAAAA",
            "dtype": "f8"
           },
           "z": {
            "bdata": "AAAAAAAAAAAAAAAAAAAAgAAAAAAAAACAAAAAAAAAAAAAAAAAAAAAAAAAAAAAAAAA",
            "dtype": "f8"
           }
          },
          {
           "name": "Edges",
           "type": "scatter3d",
           "x": [
            0.013000000000000005,
            0.01800000000000001,
            null,
            0.01800000000000001,
            0.02300000000000001,
            null,
            0.02300000000000001,
            0.027764319943146983,
            null,
            0.027764319943146983,
            0.03201632963042149,
            null,
            0.03201632963042149,
            0.03577781634190958,
            null,
            0.03577781634190958,
            0.03930597379555403,
            null,
            0.03930597379555403,
            0.042951360629366,
            null,
            0.042951360629366,
            0.047007481002470784,
            null,
            0.047007481002470784,
            0.05157662033454854,
            null,
            0.05157662033454854,
            0.056499948582318014,
            null,
            0.056499948582318014,
            0.06142325908408079,
            null,
            0.06142325908408079,
            0.06599236221362607,
            null,
            0.06599236221362607,
            0.07004846209248347,
            null,
            0.07004846209248347,
            0.07369386555750794,
            null,
            0.07369386555750794,
            0.07722207228987002,
            null,
            0.07722207228987002,
            0.08098361716718168,
            null,
            0.08098361716718168,
            0.08523566735212026,
            null,
            0.08523566735212026,
            0.09,
            null,
            0.09,
            0.095,
            null,
            0.095,
            0.1,
            null
           ],
           "y": [
            0,
            0,
            null,
            0,
            0,
            null,
            0,
            0.00020714884054150816,
            null,
            0.00020714884054150816,
            0.0005042846871934654,
            null,
            0.0005042846871934654,
            0.0007793340554216741,
            null,
            0.0007793340554216741,
            0.0009471725515837181,
            null,
            0.0009471725515837181,
            0.0009538126727609034,
            null,
            0.0009538126727609034,
            0.0007778919154184303,
            null,
            0.0007778919154184303,
            0.00043834356823205885,
            null,
            0.00043834356823205885,
            2.2720768182761105e-7,
            null,
            2.2720768182761105e-7,
            -0.0004379017949341993,
            null,
            -0.0004379017949341993,
            -0.0007774873996643614,
            null,
            -0.0007774873996643614,
            -0.0009534672043239908,
            null,
            -0.0009534672043239908,
            -0.0009469021459065275,
            null,
            -0.0009469021459065275,
            -0.0007791466753844314,
            null,
            -0.0007791466753844314,
            -0.0005041785193468158,
            null,
            -0.0005041785193468158,
            -0.0002071098997555839,
            null,
            -0.0002071098997555839,
            0,
            null,
            0,
            0,
            null,
            0,
            0,
            null
           ],
           "z": [
            0,
            0,
            null,
            0,
            0,
            null,
            0,
            -0.001483036310058346,
            null,
            -0.001483036310058346,
            -0.0040871988203281156,
            null,
            -0.0040871988203281156,
            -0.007363146569628457,
            null,
            -0.007363146569628457,
            -0.010896212748304414,
            null,
            -0.010896212748304414,
            -0.014311899785158103,
            null,
            -0.014311899785158103,
            -0.017221514178503494,
            null,
            -0.017221514178503494,
            -0.01920859394507969,
            null,
            -0.01920859394507969,
            -0.019918679508683666,
            null,
            -0.019918679508683666,
            -0.019208478573382187,
            null,
            -0.019208478573382187,
            -0.01722132184692753,
            null,
            -0.01722132184692753,
            -0.014311682465713266,
            null,
            -0.014311682465713266,
            -0.010896013144893787,
            null,
            -0.010896013144893787,
            -0.007362992418386948,
            null,
            -0.007362992418386948,
            -0.004087104842852271,
            null,
            -0.004087104842852271,
            -0.0014830009370519388,
            null,
            -0.0014830009370519388,
            0,
            null,
            0,
            0,
            null,
            0,
            0,
            null
           ]
          },
          {
           "i": [],
           "j": [],
           "k": [],
           "name": "Faces",
           "type": "mesh3d",
           "x": {
            "bdata": "PLTIdr6fij8+30+Nl26SP11kO99PjZc//yGb+D9unD8mt2bBcWSgP0G6OE54UaI/dIr6n+kfpD+Qk3GCuP2lPyNaJVNdEag/y3ImM0Boqj9zAsauj+2sP3aw9ZHecq8/k0l+HeDksD8Og9Itsu6xP8M9fOaZ3bI/wqsDY9PEsz8lrT6jV7u0P0bnujMB0rU/CtejcD0Ktz9SuB6F61G4P5qZmZmZmbk/",
            "dtype": "f8"
           },
           "y": {
            "bdata": "AAAAAAAAAAAAAAAAAAAAgAAAAAAAAACA7R62/cImKz8aqaMeP4ZAP4PR7SOHiUk/9f/8kHUJTz8X2jUeKUFPP7bnEytufUk/dmI7Si+6PD8odpvny36OPoCoWuPFsjy/ZK0wegl6Sb8cvO06Qz5Pv68n5d8wB0+/SgKqvvSHSb85lD8gW4VAv6F/BH50JSu/AAAAAAAAAAAAAAAAAAAAAAAAAAAAAAAA",
            "dtype": "f8"
           },
           "z": {
            "bdata": "AAAAAAAAAAAAAAAAAAAAgAAAAAAAAACAu67UHE5MWL/Vuj8Uvb1wvxE1ZZvRKH6/tNo768BQhr/1xCqsjk+NvwOyvECEopG/BF8v62qrk78G90b0j2WUv4tHHS1jq5O/jXqBWHeikb+QtyCBcU+Nv9iv6SCmUIa/P+MzOqgofr+jfSrao71wv9WkkiEoTFi/AAAAAAAAAAAAAAAAAAAAAAAAAAAAAAAA",
            "dtype": "f8"
           }
          }
         ],
         "layout": {
          "annotations": [
           {
            "showarrow": false,
            "text": "Time: 0.65s (Step: 66/100)",
            "x": 0.05,
            "xref": "paper",
            "y": 0.95,
            "yref": "paper"
           }
          ]
         },
         "name": "65"
        },
        {
         "data": [
          {
           "name": "Free Nodes",
           "type": "scatter3d",
           "x": {
            "bdata": "7Nn2jkNunD8y02hZemSgPxCLdOGMUaI/cdDYdwsgpD/OLjO44v2lP5hgfCqFEag/ONI2p1hoqj9kuQCcj+2sP/P9tfHFcq8/hbrKFMzksD/0LJTxnO6xPxiNqtuI3bI/XFRnA8nEsz9Qe1pMU7u0P6ZHZksA0rU/",
            "dtype": "f8"
           },
           "y": {
            "bdata": "NBCJJpuoKz/+uZKvTdVAP5BE8ALHA0o/VFx18x2eTz8Oi4ma6tZPP7J5Lpeb90k/8s71uQhEPT82S+xFgQeRPsoSzpjCOz2/iPai/9LzSb+ElMWlsNNPv3PeHm+Ym0+/TdEkTggCSr9uAm7fUNRAv4//ZHgopyu/",
            "dtype": "f8"
           },
           "z": {
            "bdata": "sswq0VhJWL9mXNDZ/Ltwv4OGAUYvJn6/N/lh6yZPhr9dvAlY0U2Nv5Bo/wCfoZG/9EuGbYOqk7/thpjAp2SUv9Khemh7qpO/lxKropGhkb9cwWIis02Nv45uLisLT4a/Pr65YwQmfr+8ts6u4rtwv1gB8FwxSVi/",
            "dtype": "f8"
           }
          },
          {
           "name": "Fixed Nodes",
           "type": "scatter3d",
           "x": {
            "bdata": "PLTIdr6fij8+30+Nl26SP11kO99PjZc/CtejcD0Ktz9SuB6F61G4P5qZmZmZmbk/",
            "dtype": "f8"
           },
           "y": {
            "bdata": "AAAAAAAAAAAAAAAAAAAAgAAAAAAAAACAAAAAAAAAAAAAAAAAAAAAAAAAAAAAAAAA",
            "dtype": "f8"
           },
           "z": {
            "bdata": "AAAAAAAAAAAAAAAAAAAAgAAAAAAAAACAAAAAAAAAAAAAAAAAAAAAAAAAAAAAAAAA",
            "dtype": "f8"
           }
          },
          {
           "name": "Edges",
           "type": "scatter3d",
           "x": [
            0.013000000000000005,
            0.01800000000000001,
            null,
            0.01800000000000001,
            0.02300000000000001,
            null,
            0.02300000000000001,
            0.027764373398634065,
            null,
            0.027764373398634065,
            0.032016585745088824,
            null,
            0.032016585745088824,
            0.035778429528610656,
            null,
            0.035778429528610656,
            0.039306982402565256,
            null,
            0.039306982402565256,
            0.04295261858496034,
            null,
            0.04295261858496034,
            0.04700866836191259,
            null,
            0.04700866836191259,
            0.05157734910190864,
            null,
            0.05157734910190864,
            0.056499946397127215,
            null,
            0.056499946397127215,
            0.06142252517292581,
            null,
            0.06142252517292581,
            0.06599116809477763,
            null,
            0.06599116809477763,
            0.07004719636841,
            null,
            0.07004719636841,
            0.07369284975952828,
            null,
            0.07369284975952828,
            0.07722145398231944,
            null,
            0.07722145398231944,
            0.08098335851762539,
            null,
            0.08098335851762539,
            0.08523561325844628,
            null,
            0.08523561325844628,
            0.09,
            null,
            0.09,
            0.095,
            null,
            0.095,
            0.1,
            null
           ],
           "y": [
            0,
            0,
            null,
            0,
            0,
            null,
            0,
            0.00021101850440363864,
            null,
            0.00021101850440363864,
            0.0005137090039591394,
            null,
            0.0005137090039591394,
            0.000793907331060011,
            null,
            0.000793907331060011,
            0.000964893936649678,
            null,
            0.000964893936649678,
            0.0009716649556817684,
            null,
            0.0009716649556817684,
            0.000792456600141203,
            null,
            0.000792456600141203,
            0.0004465600304321824,
            null,
            0.0004465600304321824,
            2.5375658723005634e-7,
            null,
            2.5375658723005634e-7,
            -0.00044606686497443134,
            null,
            -0.00044606686497443134,
            -0.0007920055643563942,
            null,
            -0.0007920055643563942,
            -0.0009712803398939239,
            null,
            -0.0009712803398939239,
            -0.0009645933443982027,
            null,
            -0.0009645933443982027,
            -0.0007936993172621781,
            null,
            -0.0007936993172621781,
            -0.0005135912787040517,
            null,
            -0.0005135912787040517,
            -0.00021097535154445928,
            null,
            -0.00021097535154445928,
            0,
            null,
            0,
            0,
            null,
            0,
            0,
            null
           ],
           "z": [
            0,
            0,
            null,
            0,
            0,
            null,
            0,
            -0.0014823310236067697,
            null,
            -0.0014823310236067697,
            -0.004085529039932733,
            null,
            -0.004085529039932733,
            -0.007360634481388242,
            null,
            -0.007360634481388242,
            -0.010893158014593325,
            null,
            -0.010893158014593325,
            -0.014308581828315231,
            null,
            -0.014308581828315231,
            -0.017218098102468604,
            null,
            -0.017218098102468604,
            -0.019205144462443216,
            null,
            -0.019205144462443216,
            -0.019915219431033405,
            null,
            -0.019915219431033405,
            -0.019205024959463142,
            null,
            -0.019205024959463142,
            -0.01721789889667721,
            null,
            -0.01721789889667721,
            -0.014308356749410826,
            null,
            -0.014308356749410826,
            -0.010892951255122154,
            null,
            -0.010892951255122154,
            -0.007360474726382514,
            null,
            -0.007360474726382514,
            -0.00408543155655899,
            null,
            -0.00408543155655899,
            -0.0014822942791853002,
            null,
            -0.0014822942791853002,
            0,
            null,
            0,
            0,
            null,
            0,
            0,
            null
           ]
          },
          {
           "i": [],
           "j": [],
           "k": [],
           "name": "Faces",
           "type": "mesh3d",
           "x": {
            "bdata": "PLTIdr6fij8+30+Nl26SP11kO99PjZc/7Nn2jkNunD8y02hZemSgPxCLdOGMUaI/cdDYdwsgpD/OLjO44v2lP5hgfCqFEag/ONI2p1hoqj9kuQCcj+2sP/P9tfHFcq8/hbrKFMzksD/0LJTxnO6xPxiNqtuI3bI/XFRnA8nEsz9Qe1pMU7u0P6ZHZksA0rU/CtejcD0Ktz9SuB6F61G4P5qZmZmZmbk/",
            "dtype": "f8"
           },
           "y": {
            "bdata": "AAAAAAAAAAAAAAAAAAAAgAAAAAAAAACANBCJJpuoKz/+uZKvTdVAP5BE8ALHA0o/VFx18x2eTz8Oi4ma6tZPP7J5Lpeb90k/8s71uQhEPT82S+xFgQeRPsoSzpjCOz2/iPai/9LzSb+ElMWlsNNPv3PeHm+Ym0+/TdEkTggCSr9uAm7fUNRAv4//ZHgopyu/AAAAAAAAAAAAAAAAAAAAAAAAAAAAAAAA",
            "dtype": "f8"
           },
           "z": {
            "bdata": "AAAAAAAAAAAAAAAAAAAAgAAAAAAAAACAsswq0VhJWL9mXNDZ/Ltwv4OGAUYvJn6/N/lh6yZPhr9dvAlY0U2Nv5Bo/wCfoZG/9EuGbYOqk7/thpjAp2SUv9Khemh7qpO/lxKropGhkb9cwWIis02Nv45uLisLT4a/Pr65YwQmfr+8ts6u4rtwv1gB8FwxSVi/AAAAAAAAAAAAAAAAAAAAAAAAAAAAAAAA",
            "dtype": "f8"
           }
          }
         ],
         "layout": {
          "annotations": [
           {
            "showarrow": false,
            "text": "Time: 0.66s (Step: 67/100)",
            "x": 0.05,
            "xref": "paper",
            "y": 0.95,
            "yref": "paper"
           }
          ]
         },
         "name": "66"
        },
        {
         "data": [
          {
           "name": "Free Nodes",
           "type": "scatter3d",
           "x": {
            "bdata": "osxlNUdunD+n2YYXg2SgP39sY8+hUaI/1btK5C0gpD/dDqimDf6lPzQ3rK+tEag/d66vhXFoqj/MSJyIj+2sP1F+n+Wscq8/yLBAtLfksD/U4PBXh+6xP4CxlIV33bI/Xaa6db7Esz/MQwriTru0P1nD817/0bU/",
            "dtype": "f8"
           },
           "y": {
            "bdata": "+foSrzQqLD/6QsvkNSRBP2fZYRLLfUo/6o4z8z0ZUD9K7IKCLjZQPywd3gKBcUo/LeIIcHfNPT+LSdS5/vuRPnnhbIa6xD2//8ivGYJtSr9Z6AFdejRQv697zRHpF1C/+Zi4QPN7Sr+is0nYKiNBv+57OhGtKCy/",
            "dtype": "f8"
           },
           "z": {
            "bdata": "iIFxclZGWL/r3uXmNLpwv84Nw1eBI36/9u2V4IVNhr8sMmFfDEyNvwQcMNK1oJG/1KhA9Zepk7/tZuqKu2OUv/X9cJ2PqZO/VCMK6aegkb8mn+ns7EuNv5n0JvloTYa/zDWlo1Qjfr918NSWGbpwv+pfwS8tRli/",
            "dtype": "f8"
           }
          },
          {
           "name": "Fixed Nodes",
           "type": "scatter3d",
           "x": {
            "bdata": "PLTIdr6fij8+30+Nl26SP11kO99PjZc/CtejcD0Ktz9SuB6F61G4P5qZmZmZmbk/",
            "dtype": "f8"
           },
           "y": {
            "bdata": "AAAAAAAAAAAAAAAAAAAAgAAAAAAAAACAAAAAAAAAAAAAAAAAAAAAAAAAAAAAAAAA",
            "dtype": "f8"
           },
           "z": {
            "bdata": "AAAAAAAAAAAAAAAAAAAAgAAAAAAAAACAAAAAAAAAAAAAAAAAAAAAAAAAAAAAAAAA",
            "dtype": "f8"
           }
          },
          {
           "name": "Edges",
           "type": "scatter3d",
           "x": [
            0.013000000000000005,
            0.01800000000000001,
            null,
            0.01800000000000001,
            0.02300000000000001,
            null,
            0.02300000000000001,
            0.027764427789816033,
            null,
            0.027764427789816033,
            0.03201684629623296,
            null,
            0.03201684629623296,
            0.03577905327412,
            null,
            0.03577905327412,
            0.039308008306185784,
            null,
            0.039308008306185784,
            0.04295389804249592,
            null,
            0.04295389804249592,
            0.047009875959800246,
            null,
            0.047009875959800246,
            0.05157809025680831,
            null,
            0.05157809025680831,
            0.05649994413956136,
            null,
            0.05649994413956136,
            0.061421778707651094,
            null,
            0.061421778707651094,
            0.06598995352459547,
            null,
            0.06598995352459547,
            0.07004590889926315,
            null,
            0.07004590889926315,
            0.0736918164372522,
            null,
            0.0736918164372522,
            0.07722082494969969,
            null,
            0.07722082494969969,
            0.08098309534604126,
            null,
            0.08098309534604126,
            0.08523555820626195,
            null,
            0.08523555820626195,
            0.09,
            null,
            0.09,
            0.095,
            null,
            0.095,
            0.1,
            null
           ],
           "y": [
            0,
            0,
            null,
            0,
            0,
            null,
            0,
            0.0002148808776265205,
            null,
            0.0002148808776265205,
            0.0005231154587709002,
            null,
            0.0005231154587709002,
            0.000808452755122241,
            null,
            0.000808452755122241,
            0.0009825806599161276,
            null,
            0.0009825806599161276,
            0.0009894804189076894,
            null,
            0.0009894804189076894,
            0.0008069877564914943,
            null,
            0.0008069877564914943,
            0.000454751643733017,
            null,
            0.000454751643733017,
            2.6798778114778015e-7,
            null,
            2.6798778114778015e-7,
            -0.00045423082194730836,
            null,
            -0.00045423082194730836,
            -0.0008065114265021488,
            null,
            -0.0008065114265021488,
            -0.0009890742258265221,
            null,
            -0.0009890742258265221,
            -0.000982263190244952,
            null,
            -0.000982263190244952,
            -0.0008082330472845282,
            null,
            -0.0008082330472845282,
            -0.0005229911044587374,
            null,
            -0.0005229911044587374,
            -0.00021483528745577747,
            null,
            -0.00021483528745577747,
            0,
            null,
            0,
            0,
            null,
            0,
            0,
            null
           ],
           "z": [
            0,
            0,
            null,
            0,
            0,
            null,
            0,
            -0.0014816135606211273,
            null,
            -0.0014816135606211273,
            -0.004083830497954226,
            null,
            -0.004083830497954226,
            -0.007358079190626877,
            null,
            -0.007358079190626877,
            -0.01089005080824899,
            null,
            -0.01089005080824899,
            -0.01430520692897471,
            null,
            -0.01430520692897471,
            -0.017214623407223698,
            null,
            -0.017214623407223698,
            -0.019201635688809685,
            null,
            -0.019201635688809685,
            -0.019911699632394187,
            null,
            -0.019911699632394187,
            -0.01920151136823552,
            null,
            -0.01920151136823552,
            -0.01721441612110948,
            null,
            -0.01721441612110948,
            -0.014304972629545509,
            null,
            -0.014304972629545509,
            -0.01088983545639115,
            null,
            -0.01088983545639115,
            -0.007357912656812581,
            null,
            -0.007357912656812581,
            -0.004083728750000505,
            null,
            -0.004083728750000505,
            -0.0014815751337859903,
            null,
            -0.0014815751337859903,
            0,
            null,
            0,
            0,
            null,
            0,
            0,
            null
           ]
          },
          {
           "i": [],
           "j": [],
           "k": [],
           "name": "Faces",
           "type": "mesh3d",
           "x": {
            "bdata": "PLTIdr6fij8+30+Nl26SP11kO99PjZc/osxlNUdunD+n2YYXg2SgP39sY8+hUaI/1btK5C0gpD/dDqimDf6lPzQ3rK+tEag/d66vhXFoqj/MSJyIj+2sP1F+n+Wscq8/yLBAtLfksD/U4PBXh+6xP4CxlIV33bI/Xaa6db7Esz/MQwriTru0P1nD817/0bU/CtejcD0Ktz9SuB6F61G4P5qZmZmZmbk/",
            "dtype": "f8"
           },
           "y": {
            "bdata": "AAAAAAAAAAAAAAAAAAAAgAAAAAAAAACA+foSrzQqLD/6QsvkNSRBP2fZYRLLfUo/6o4z8z0ZUD9K7IKCLjZQPywd3gKBcUo/LeIIcHfNPT+LSdS5/vuRPnnhbIa6xD2//8ivGYJtSr9Z6AFdejRQv697zRHpF1C/+Zi4QPN7Sr+is0nYKiNBv+57OhGtKCy/AAAAAAAAAAAAAAAAAAAAAAAAAAAAAAAA",
            "dtype": "f8"
           },
           "z": {
            "bdata": "AAAAAAAAAAAAAAAAAAAAgAAAAAAAAACAiIFxclZGWL/r3uXmNLpwv84Nw1eBI36/9u2V4IVNhr8sMmFfDEyNvwQcMNK1oJG/1KhA9Zepk7/tZuqKu2OUv/X9cJ2PqZO/VCMK6aegkb8mn+ns7EuNv5n0JvloTYa/zDWlo1Qjfr918NSWGbpwv+pfwS8tRli/AAAAAAAAAAAAAAAAAAAAAAAAAAAAAAAA",
            "dtype": "f8"
           }
          }
         ],
         "layout": {
          "annotations": [
           {
            "showarrow": false,
            "text": "Time: 0.67s (Step: 68/100)",
            "x": 0.05,
            "xref": "paper",
            "y": 0.95,
            "yref": "paper"
           }
          ]
         },
         "name": "67"
        },
        {
         "data": [
          {
           "name": "Free Nodes",
           "type": "scatter3d",
           "x": {
            "bdata": "8lnV60punD8bYo77i2SgP5XHhBe3UaI/6ddz5FAgpD/tcbRMOf6lPyMdouHWEag/AnjkzYpoqj/nw5V0j+2sP4F/WG6Tcq8/df9l/KLksD9mtnJhce6xP5hnpeRl3bI/M1A7urPEsz9GzmVkSru0P1WYZ27+0bU/",
            "dtype": "f8"
           },
           "y": {
            "bdata": "AkrQrI6rLD8nVMMv93JBPzcJE3aS90o/c4OvLUdjUD8GsxWiv4BQP1/qqnYd60o/S3dqGHpWPj98QeBX5xqSPvlvz0mtTT6/STYCPBbnSr9+EcpaB39QvwzE45fuYVC/btKt5LT1Sr9P/wKT6HFBv5UlvH0Bqiy/",
            "dtype": "f8"
           },
           "z": {
            "bdata": "tq1VE0dDWL+iEs9GZbhwvxX88OHHIH6/8Vh31d1Lhr9CWc/NP0qNvxdfRbrIn5G/cWNCiKiok79rId5Yy2KUv+ZtPNGfqJO/lPtrMLqfkb9P2XzpHkqNv7nCo5K/S4a/yqWhBpkgfr+TJZKaSLhwv1hW0acbQ1i/",
            "dtype": "f8"
           }
          },
          {
           "name": "Fixed Nodes",
           "type": "scatter3d",
           "x": {
            "bdata": "PLTIdr6fij8+30+Nl26SP11kO99PjZc/CtejcD0Ktz9SuB6F61G4P5qZmZmZmbk/",
            "dtype": "f8"
           },
           "y": {
            "bdata": "AAAAAAAAAAAAAAAAAAAAgAAAAAAAAACAAAAAAAAAAAAAAAAAAAAAAAAAAAAAAAAA",
            "dtype": "f8"
           },
           "z": {
            "bdata": "AAAAAAAAAAAAAAAAAAAAgAAAAAAAAACAAAAAAAAAAAAAAAAAAAAAAAAAAAAAAAAA",
            "dtype": "f8"
           }
          },
          {
           "name": "Edges",
           "type": "scatter3d",
           "x": [
            0.013000000000000005,
            0.01800000000000001,
            null,
            0.01800000000000001,
            0.02300000000000001,
            null,
            0.02300000000000001,
            0.02776448311245789,
            null,
            0.02776448311245789,
            0.03201711126093106,
            null,
            0.03201711126093106,
            0.03577968751996178,
            null,
            0.03577968751996178,
            0.03930905140616387,
            null,
            0.03930905140616387,
            0.042955198872934953,
            null,
            0.042955198872934953,
            0.047011103671190456,
            null,
            0.047011103671190456,
            0.05157884372077605,
            null,
            0.05157884372077605,
            0.05649994180829037,
            null,
            0.05649994180829037,
            0.06142101976388315,
            null,
            0.06142101976388315,
            0.06598871862479234,
            null,
            0.06598871862479234,
            0.07004459981063746,
            null,
            0.07004459981063746,
            0.07369076568775623,
            null,
            0.07369076568775623,
            0.07722018524810963,
            null,
            0.07722018524810963,
            0.08098282767405704,
            null,
            0.08098282767405704,
            0.0852355021994254,
            null,
            0.0852355021994254,
            0.09,
            null,
            0.09,
            0.095,
            null,
            0.095,
            0.1,
            null
           ],
           "y": [
            0,
            0,
            null,
            0,
            0,
            null,
            0,
            0.00021873585356553543,
            null,
            0.00021873585356553543,
            0.0005325037923521501,
            null,
            0.0005325037923521501,
            0.0008229699270929984,
            null,
            0.0008229699270929984,
            0.0010002322294370952,
            null,
            0.0010002322294370952,
            0.001007258550397684,
            null,
            0.001007258550397684,
            0.0008214849343269429,
            null,
            0.0008214849343269429,
            0.0004629180988703254,
            null,
            0.0004629180988703254,
            2.6978690204160146e-7,
            null,
            2.6978690204160146e-7,
            -0.0004623935763541361,
            null,
            -0.0004623935763541361,
            -0.000821004730839633,
            null,
            -0.000821004730839633,
            -0.001006848509093577,
            null,
            -0.001006848509093577,
            -0.0009999113095171567,
            null,
            -0.0009999113095171567,
            -0.0008227475421863203,
            null,
            -0.0008227475421863203,
            -0.0005323777786756331,
            null,
            -0.0005323777786756331,
            -0.00021868961527386475,
            null,
            -0.00021868961527386475,
            0,
            null,
            0,
            0,
            null,
            0,
            0,
            null
           ],
           "z": [
            0,
            0,
            null,
            0,
            0,
            null,
            0,
            -0.0014808839890417653,
            null,
            -0.0014808839890417653,
            -0.004082103358943686,
            null,
            -0.004082103358943686,
            -0.007355480948773714,
            null,
            -0.007355480948773714,
            -0.010886891438456977,
            null,
            -0.010886891438456977,
            -0.014301775425263789,
            null,
            -0.014301775425263789,
            -0.017211090439871315,
            null,
            -0.017211090439871315,
            -0.019198067967042435,
            null,
            -0.019198067967042435,
            -0.0199081204405344,
            null,
            -0.0199081204405344,
            -0.019197938104395983,
            null,
            -0.019197938104395983,
            -0.017210873799736584,
            null,
            -0.017210873799736584,
            -0.014301530361632201,
            null,
            -0.014301530361632201,
            -0.010886665976131625,
            null,
            -0.010886665976131625,
            -0.007355306394040759,
            null,
            -0.007355306394040759,
            -0.004081996544422667,
            null,
            -0.004081996544422667,
            -0.0014808435510266418,
            null,
            -0.0014808435510266418,
            0,
            null,
            0,
            0,
            null,
            0,
            0,
            null
           ]
          },
          {
           "i": [],
           "j": [],
           "k": [],
           "name": "Faces",
           "type": "mesh3d",
           "x": {
            "bdata": "PLTIdr6fij8+30+Nl26SP11kO99PjZc/8lnV60punD8bYo77i2SgP5XHhBe3UaI/6ddz5FAgpD/tcbRMOf6lPyMdouHWEag/AnjkzYpoqj/nw5V0j+2sP4F/WG6Tcq8/df9l/KLksD9mtnJhce6xP5hnpeRl3bI/M1A7urPEsz9GzmVkSru0P1WYZ27+0bU/CtejcD0Ktz9SuB6F61G4P5qZmZmZmbk/",
            "dtype": "f8"
           },
           "y": {
            "bdata": "AAAAAAAAAAAAAAAAAAAAgAAAAAAAAACAAkrQrI6rLD8nVMMv93JBPzcJE3aS90o/c4OvLUdjUD8GsxWiv4BQP1/qqnYd60o/S3dqGHpWPj98QeBX5xqSPvlvz0mtTT6/STYCPBbnSr9+EcpaB39QvwzE45fuYVC/btKt5LT1Sr9P/wKT6HFBv5UlvH0Bqiy/AAAAAAAAAAAAAAAAAAAAAAAAAAAAAAAA",
            "dtype": "f8"
           },
           "z": {
            "bdata": "AAAAAAAAAAAAAAAAAAAAgAAAAAAAAACAtq1VE0dDWL+iEs9GZbhwvxX88OHHIH6/8Vh31d1Lhr9CWc/NP0qNvxdfRbrIn5G/cWNCiKiok79rId5Yy2KUv+ZtPNGfqJO/lPtrMLqfkb9P2XzpHkqNv7nCo5K/S4a/yqWhBpkgfr+TJZKaSLhwv1hW0acbQ1i/AAAAAAAAAAAAAAAAAAAAAAAAAAAAAAAA",
            "dtype": "f8"
           }
          }
         ],
         "layout": {
          "annotations": [
           {
            "showarrow": false,
            "text": "Time: 0.68s (Step: 69/100)",
            "x": 0.05,
            "xref": "paper",
            "y": 0.95,
            "yref": "paper"
           }
          ]
         },
         "name": "68"
        },
        {
         "data": [
          {
           "name": "Free Nodes",
           "type": "scatter3d",
           "x": {
            "bdata": "zk0zsk5unD/Af00FlWSgP1JwWLnMUaI/faB3d3QgpD9n9zupZf6lP4ehSr8AEqg/k9gof6Roqj99V+xfj+2sP0WWi4x5cq8/qGLD7Y3ksD991aYOW+6xPy0ESvlT3bI/lb0o0ajEsz93uYXTRbu0P8E7xnn90bU/",
            "dtype": "f8"
           },
           "y": {
            "bdata": "HfV1sqgsLT8vsItYkcFBPwa5Qu4ccUs/f0TllSqtUD8Iw6C3KMtQP2bcsmlxZEs/M/p8jxLfPj+qM/rgdG+RPn7Kr1WX1j6/X0+McI1gS7/3Eb9VfslQv5+UAfLbq1C/KMat8EtvS7+j2lFEicBBv31FDHskKy2/",
            "dtype": "f8"
           },
           "z": {
            "bdata": "7cJNxCpAWL80qYEDjrZwvzL9u/MCHn6/htRg0y5Khr+iKa2ta0iNv06htL7XnpG/8WQuLLWnk783ziYw12GUvxLCfAmsp5O/wcRAfsiekb9zUWkiSUiNvy1+9AAPSoa/YYnPm9Edfr+RpPLDb7Zwvx03iNX8P1i/",
            "dtype": "f8"
           }
          },
          {
           "name": "Fixed Nodes",
           "type": "scatter3d",
           "x": {
            "bdata": "PLTIdr6fij8+30+Nl26SP11kO99PjZc/CtejcD0Ktz9SuB6F61G4P5qZmZmZmbk/",
            "dtype": "f8"
           },
           "y": {
            "bdata": "AAAAAAAAAAAAAAAAAAAAgAAAAAAAAACAAAAAAAAAAAAAAAAAAAAAAAAAAAAAAAAA",
            "dtype": "f8"
           },
           "z": {
            "bdata": "AAAAAAAAAAAAAAAAAAAAgAAAAAAAAACAAAAAAAAAAAAAAAAAAAAAAAAAAAAAAAAA",
            "dtype": "f8"
           }
          },
          {
           "name": "Edges",
           "type": "scatter3d",
           "x": [
            0.013000000000000005,
            0.01800000000000001,
            null,
            0.01800000000000001,
            0.02300000000000001,
            null,
            0.02300000000000001,
            0.027764539362420675,
            null,
            0.027764539362420675,
            0.03201738061647985,
            null,
            0.03201738061647985,
            0.035780332207850166,
            null,
            0.035780332207850166,
            0.03931011160222029,
            null,
            0.03931011160222029,
            0.042956520946957615,
            null,
            0.042956520946957615,
            0.0470123513708272,
            null,
            0.0470123513708272,
            0.05157960941544206,
            null,
            0.05157960941544206,
            0.05649993940293905,
            null,
            0.05649993940293905,
            0.06142024841919328,
            null,
            0.06142024841919328,
            0.06598746351972784,
            null,
            0.06598746351972784,
            0.07004326923091315,
            null,
            0.07004326923091315,
            0.07368969761047657,
            null,
            0.07368969761047657,
            0.07721953493523011,
            null,
            0.07721953493523011,
            0.08098255552406451,
            null,
            0.08098255552406451,
            0.0852354452419908,
            null,
            0.0852354452419908,
            0.09,
            null,
            0.09,
            0.095,
            null,
            0.095,
            0.1,
            null
           ],
           "y": [
            0,
            0,
            null,
            0,
            0,
            null,
            0,
            0.00022258338251993854,
            null,
            0.00022258338251993854,
            0.0005418739029585724,
            null,
            0.0005418739029585724,
            0.0008374587310038546,
            null,
            0.0008374587310038546,
            0.0010178485750496344,
            null,
            0.0010178485750496344,
            0.0010249993924952867,
            null,
            0.0010249993924952867,
            0.0008359483503203146,
            null,
            0.0008359483503203146,
            0.00047105982911324894,
            null,
            0.00047105982911324894,
            2.598073658231844e-7,
            null,
            2.598073658231844e-7,
            -0.00047055430121571,
            null,
            -0.00047055430121571,
            -0.0008354845641371614,
            null,
            -0.0008354845641371614,
            -0.0010246022929872847,
            null,
            -0.0010246022929872847,
            -0.0010175369170835403,
            null,
            -0.0010175369170835403,
            -0.0008372422029038805,
            null,
            -0.0008372422029038805,
            -0.0005417509315879986,
            null,
            -0.0005417509315879986,
            -0.00022253818817622928,
            null,
            -0.00022253818817622928,
            0,
            null,
            0,
            0,
            null,
            0,
            0,
            null
           ],
           "z": [
            0,
            0,
            null,
            0,
            0,
            null,
            0,
            -0.0014801423687595364,
            null,
            -0.0014801423687595364,
            -0.0040803477678344365,
            null,
            -0.0040803477678344365,
            -0.007352839976874125,
            null,
            -0.007352839976874125,
            -0.010883680177452126,
            null,
            -0.010883680177452126,
            -0.014298287618335351,
            null,
            -0.014298287618335351,
            -0.01720749951815153,
            null,
            -0.01720749951815153,
            -0.019194441625221385,
            null,
            -0.019194441625221385,
            -0.01990448218721338,
            null,
            -0.01990448218721338,
            -0.01919430549532037,
            null,
            -0.01919430549532037,
            -0.017207272249099462,
            null,
            -0.017207272249099462,
            -0.0142980302454496,
            null,
            -0.0142980302454496,
            -0.0108834430853327,
            null,
            -0.0108834430853327,
            -0.007352656158192112,
            null,
            -0.007352656158192112,
            -0.004080235084225185,
            null,
            -0.004080235084225185,
            -0.001480099590597423,
            null,
            -0.001480099590597423,
            0,
            null,
            0,
            0,
            null,
            0,
            0,
            null
           ]
          },
          {
           "i": [],
           "j": [],
           "k": [],
           "name": "Faces",
           "type": "mesh3d",
           "x": {
            "bdata": "PLTIdr6fij8+30+Nl26SP11kO99PjZc/zk0zsk5unD/Af00FlWSgP1JwWLnMUaI/faB3d3QgpD9n9zupZf6lP4ehSr8AEqg/k9gof6Roqj99V+xfj+2sP0WWi4x5cq8/qGLD7Y3ksD991aYOW+6xPy0ESvlT3bI/lb0o0ajEsz93uYXTRbu0P8E7xnn90bU/CtejcD0Ktz9SuB6F61G4P5qZmZmZmbk/",
            "dtype": "f8"
           },
           "y": {
            "bdata": "AAAAAAAAAAAAAAAAAAAAgAAAAAAAAACAHfV1sqgsLT8vsItYkcFBPwa5Qu4ccUs/f0TllSqtUD8Iw6C3KMtQP2bcsmlxZEs/M/p8jxLfPj+qM/rgdG+RPn7Kr1WX1j6/X0+McI1gS7/3Eb9VfslQv5+UAfLbq1C/KMat8EtvS7+j2lFEicBBv31FDHskKy2/AAAAAAAAAAAAAAAAAAAAAAAAAAAAAAAA",
            "dtype": "f8"
           },
           "z": {
            "bdata": "AAAAAAAAAAAAAAAAAAAAgAAAAAAAAACA7cJNxCpAWL80qYEDjrZwvzL9u/MCHn6/htRg0y5Khr+iKa2ta0iNv06htL7XnpG/8WQuLLWnk783ziYw12GUvxLCfAmsp5O/wcRAfsiekb9zUWkiSUiNvy1+9AAPSoa/YYnPm9Edfr+RpPLDb7Zwvx03iNX8P1i/AAAAAAAAAAAAAAAAAAAAAAAAAAAAAAAA",
            "dtype": "f8"
           }
          }
         ],
         "layout": {
          "annotations": [
           {
            "showarrow": false,
            "text": "Time: 0.69s (Step: 70/100)",
            "x": 0.05,
            "xref": "paper",
            "y": 0.95,
            "yref": "paper"
           }
          ]
         },
         "name": "69"
        },
        {
         "data": [
          {
           "name": "Free Nodes",
           "type": "scatter3d",
           "x": {
            "bdata": "KeBtiFJunD8aw5I0nmSgPzqsXrTiUaI/zY55nJggpD9KsSG7kv6lP4OzkUcrEqg/FLrQmL5oqj9gQqFKj+2sPw6J50Bfcq8/SnHkiHjksD8XaB1gRO6xP2dp8sNB3bI/2BDEup3Esz8peIMvQbu0PztZFIH80bU/",
            "dtype": "f8"
           },
           "y": {
            "bdata": "77DRwYKtLT9apAx0BBBCP7U8/cVq6ks/+3Rqf+j2UD+9VfpVahVRP/LoPZh+3Us/dZiThUVnPz+2+jQGkhCQPpIyb05yXz+/05r7gOTZS7/hpyjT3RNRvwgZZeSv9VC/yShslbboS7+jpD7XCw9Cv3xVYVwUrC2/",
            "dtype": "f8"
           },
           "z": {
            "bdata": "X4qpkwE9WL8J0aMlr7Rwv7AVTZoyG36/1f1w4nhIhr/FaRcIkEaNv1HHdeTinZG/02Zo5r2mk7/Zo4gW32CUv7raMky0ppO/yRmX2NKdkb9nr3aja0aNvwKE3U5XSIa/EVizdP4afr+d9m4ej7Rwv8zW2cvQPFi/",
            "dtype": "f8"
           }
          },
          {
           "name": "Fixed Nodes",
           "type": "scatter3d",
           "x": {
            "bdata": "PLTIdr6fij8+30+Nl26SP11kO99PjZc/CtejcD0Ktz9SuB6F61G4P5qZmZmZmbk/",
            "dtype": "f8"
           },
           "y": {
            "bdata": "AAAAAAAAAAAAAAAAAAAAgAAAAAAAAACAAAAAAAAAAAAAAAAAAAAAAAAAAAAAAAAA",
            "dtype": "f8"
           },
           "z": {
            "bdata": "AAAAAAAAAAAAAAAAAAAAgAAAAAAAAACAAAAAAAAAAAAAAAAAAAAAAAAAAAAAAAAA",
            "dtype": "f8"
           }
          },
          {
           "name": "Edges",
           "type": "scatter3d",
           "x": [
            0.013000000000000005,
            0.01800000000000001,
            null,
            0.01800000000000001,
            0.02300000000000001,
            null,
            0.02300000000000001,
            0.027764596535661355,
            null,
            0.027764596535661355,
            0.032017654340398674,
            null,
            0.032017654340398674,
            0.035780987279700985,
            null,
            0.035780987279700985,
            0.03931118879407123,
            null,
            0.03931118879407123,
            0.042957864134992876,
            null,
            0.042957864134992876,
            0.04701361893317026,
            null,
            0.04701361893317026,
            0.05158038726255057,
            null,
            0.05158038726255057,
            0.056499936924073735,
            null,
            0.056499936924073735,
            0.061419464753060024,
            null,
            0.061419464753060024,
            0.06598618833635786,
            null,
            0.06598618833635786,
            0.07004191729120667,
            null,
            0.07004191729120667,
            0.0736886123071706,
            null,
            0.0736886123071706,
            0.07721887407030026,
            null,
            0.07721887407030026,
            0.08098227891920885,
            null,
            0.08098227891920885,
            0.08523538733820583,
            null,
            0.08523538733820583,
            0.09,
            null,
            0.09,
            0.095,
            null,
            0.095,
            0.1,
            null
           ],
           "y": [
            0,
            0,
            null,
            0,
            0,
            null,
            0,
            0.00022642346530988381,
            null,
            0.00022642346530988381,
            0.0005512258286205593,
            null,
            0.0005512258286205593,
            0.000851919303366608,
            null,
            0.000851919303366608,
            0.001035430000832448,
            null,
            0.001035430000832448,
            0.0010427034793897138,
            null,
            0.0010427034793897138,
            0.0008503788126142094,
            null,
            0.0008503788126142094,
            0.00047917792615093736,
            null,
            0.00047917792615093736,
            2.393831037456722e-7,
            null,
            2.393831037456722e-7,
            -0.0004787115162201784,
            null,
            -0.0004787115162201784,
            -0.0008499494305994289,
            null,
            -0.0008499494305994289,
            -0.0010423341997332013,
            null,
            -0.0010423341997332013,
            -0.0010351388642262944,
            null,
            -0.0010351388642262944,
            -0.0008517161867030106,
            null,
            -0.0008517161867030106,
            -0.00055111005939525,
            null,
            -0.00055111005939525,
            -0.0002263808111730262,
            null,
            -0.0002263808111730262,
            0,
            null,
            0,
            0,
            null,
            0,
            0,
            null
           ],
           "z": [
            0,
            0,
            null,
            0,
            0,
            null,
            0,
            -0.0014793887518399702,
            null,
            -0.0014793887518399702,
            -0.004078563850488112,
            null,
            -0.004078563850488112,
            -0.007350156466434596,
            null,
            -0.007350156466434596,
            -0.010880417261545464,
            null,
            -0.010880417261545464,
            -0.014294743773395244,
            null,
            -0.014294743773395244,
            -0.01720385093125937,
            null,
            -0.01720385093125937,
            -0.019190756977059586,
            null,
            -0.019190756977059586,
            -0.019900785208083114,
            null,
            -0.019900785208083114,
            -0.019190613890453824,
            null,
            -0.019190613890453824,
            -0.017203611821764917,
            null,
            -0.017203611821764917,
            -0.014294472623838051,
            null,
            -0.014294472623838051,
            -0.010880167097356622,
            null,
            -0.010880167097356622,
            -0.007349962204179065,
            null,
            -0.007349962204179065,
            -0.004078444536330797,
            null,
            -0.004078444536330797,
            -0.0014793433214469907,
            null,
            -0.0014793433214469907,
            0,
            null,
            0,
            0,
            null,
            0,
            0,
            null
           ]
          },
          {
           "i": [],
           "j": [],
           "k": [],
           "name": "Faces",
           "type": "mesh3d",
           "x": {
            "bdata": "PLTIdr6fij8+30+Nl26SP11kO99PjZc/KeBtiFJunD8aw5I0nmSgPzqsXrTiUaI/zY55nJggpD9KsSG7kv6lP4OzkUcrEqg/FLrQmL5oqj9gQqFKj+2sPw6J50Bfcq8/SnHkiHjksD8XaB1gRO6xP2dp8sNB3bI/2BDEup3Esz8peIMvQbu0PztZFIH80bU/CtejcD0Ktz9SuB6F61G4P5qZmZmZmbk/",
            "dtype": "f8"
           },
           "y": {
            "bdata": "AAAAAAAAAAAAAAAAAAAAgAAAAAAAAACA77DRwYKtLT9apAx0BBBCP7U8/cVq6ks/+3Rqf+j2UD+9VfpVahVRP/LoPZh+3Us/dZiThUVnPz+2+jQGkhCQPpIyb05yXz+/05r7gOTZS7/hpyjT3RNRvwgZZeSv9VC/yShslbboS7+jpD7XCw9Cv3xVYVwUrC2/AAAAAAAAAAAAAAAAAAAAAAAAAAAAAAAA",
            "dtype": "f8"
           },
           "z": {
            "bdata": "AAAAAAAAAAAAAAAAAAAAgAAAAAAAAACAX4qpkwE9WL8J0aMlr7Rwv7AVTZoyG36/1f1w4nhIhr/FaRcIkEaNv1HHdeTinZG/02Zo5r2mk7/Zo4gW32CUv7raMky0ppO/yRmX2NKdkb9nr3aja0aNvwKE3U5XSIa/EVizdP4afr+d9m4ej7Rwv8zW2cvQPFi/AAAAAAAAAAAAAAAAAAAAAAAAAAAAAAAA",
            "dtype": "f8"
           }
          }
         ],
         "layout": {
          "annotations": [
           {
            "showarrow": false,
            "text": "Time: 0.70s (Step: 71/100)",
            "x": 0.05,
            "xref": "paper",
            "y": 0.95,
            "yref": "paper"
           }
          ]
         },
         "name": "70"
        },
        {
         "data": [
          {
           "name": "Free Nodes",
           "type": "scatter3d",
           "x": {
            "bdata": "wqpzblZunD+7Ki2Jp2SgP1QaGAj5UaI/Xv6cUr0gpD+LCkiBwP6lPxuKYnlWEqg/TSowGtloqj/0rLc0j+2sP3wXH4xEcq8/xXpXzmLksD/zdmlWLe6xP/TnEEUv3bI/DA1Qd5LEsz/JRXl4PLu0P6PPVoT70bU/",
            "dtype": "f8"
           },
           "y": {
            "bdata": "+/PcNx0uLj8fEDzWUF5CP8dJLrp8Y0w/hKwzkoFAUT+HCNB+hV9RP4eQBclHVkw/w9nM+xnvPz90OtBSdD2MPq26RI016D+/86J5MRdTTL+ipHLsI15Rv3pC4OFoP1G/FGCdlvJhTL/8f/H6bl1Cv2/Y+x7PLC6/",
            "dtype": "f8"
           },
           "z": {
            "bdata": "JzLIjcs5WL+THa20yLJwv8iK+OBWGH6/+WypCbxGhr+s3A3lrESNvyPRDzDqnJG/uOYbvMKlk78Jj9gR41+Uv0bmuJ+4pZO/oZoORtmckb/8usZ5hkSNv9qZd4iYRoa/BmsApR8Yfr8PhOm2prJwv+EZDaCXOVi/",
            "dtype": "f8"
           }
          },
          {
           "name": "Fixed Nodes",
           "type": "scatter3d",
           "x": {
            "bdata": "PLTIdr6fij8+30+Nl26SP11kO99PjZc/CtejcD0Ktz9SuB6F61G4P5qZmZmZmbk/",
            "dtype": "f8"
           },
           "y": {
            "bdata": "AAAAAAAAAAAAAAAAAAAAgAAAAAAAAACAAAAAAAAAAAAAAAAAAAAAAAAAAAAAAAAA",
            "dtype": "f8"
           },
           "z": {
            "bdata": "AAAAAAAAAAAAAAAAAAAAgAAAAAAAAACAAAAAAAAAAAAAAAAAAAAAAAAAAAAAAAAA",
            "dtype": "f8"
           }
          },
          {
           "name": "Edges",
           "type": "scatter3d",
           "x": [
            0.013000000000000005,
            0.01800000000000001,
            null,
            0.01800000000000001,
            0.02300000000000001,
            null,
            0.02300000000000001,
            0.027764654628223757,
            null,
            0.027764654628223757,
            0.03201793241040237,
            null,
            0.03201793241040237,
            0.035781652677589065,
            null,
            0.035781652677589065,
            0.0393122828813801,
            null,
            0.0393122828813801,
            0.04295922830717299,
            null,
            0.04295922830717299,
            0.04701490623235235,
            null,
            0.04701490623235235,
            0.05158117718390951,
            null,
            0.05158117718390951,
            0.05649993437313042,
            null,
            0.05649993437313042,
            0.061418668846768804,
            null,
            0.061418668846768804,
            0.06598489320411279,
            null,
            0.06598489320411279,
            0.07004054412524478,
            null,
            0.07004054412524478,
            0.07368750988180733,
            null,
            0.07368750988180733,
            0.07721820271403973,
            null,
            0.07721820271403973,
            0.08098199788334805,
            null,
            0.08098199788334805,
            0.0852353284925003,
            null,
            0.0852353284925003,
            0.09,
            null,
            0.09,
            0.095,
            null,
            0.095,
            0.1,
            null
           ],
           "y": [
            0,
            0,
            null,
            0,
            0,
            null,
            0,
            0.00023025614421526272,
            null,
            0.00023025614421526272,
            0.0005605597220612635,
            null,
            0.0005605597220612635,
            0.00086635198782608,
            null,
            0.00086635198782608,
            0.0010529771178038614,
            null,
            0.0010529771178038614,
            0.0010603717485087331,
            null,
            0.0010603717485087331,
            0.0008647776140091747,
            null,
            0.0008647776140091747,
            0.0004872740208158555,
            null,
            0.0004872740208158555,
            2.1040481482143744e-7,
            null,
            2.1040481482143744e-7,
            -0.0004868632070324324,
            null,
            -0.0004868632070324324,
            -0.0008643973587370832,
            null,
            -0.0008643973587370832,
            -0.0010600424591678333,
            null,
            -0.0010600424591678333,
            -0.0010527157060133117,
            null,
            -0.0010527157060133117,
            -0.0008661684525845836,
            null,
            -0.0008661684525845836,
            -0.0005604545493831377,
            null,
            -0.0005604545493831377,
            -0.00023021725018396467,
            null,
            -0.00023021725018396467,
            0,
            null,
            0,
            0,
            null,
            0,
            0,
            null
           ],
           "z": [
            0,
            0,
            null,
            0,
            0,
            null,
            0,
            -0.0014786231832914028,
            null,
            -0.0014786231832914028,
            -0.004076751715565224,
            null,
            -0.004076751715565224,
            -0.007347430582316412,
            null,
            -0.007347430582316412,
            -0.01087710289464504,
            null,
            -0.01087710289464504,
            -0.014291144123247022,
            null,
            -0.014291144123247022,
            -0.01720014494272094,
            null,
            -0.01720014494272094,
            -0.019187014323483992,
            null,
            -0.019187014323483992,
            -0.01989702984259537,
            null,
            -0.01989702984259537,
            -0.01918686365954716,
            null,
            -0.01918686365954716,
            -0.0171998929032734,
            null,
            -0.0171998929032734,
            -0.014290857878987755,
            null,
            -0.014290857878987755,
            -0.010876838364265607,
            null,
            -0.010876838364265607,
            -0.007347224818682779,
            null,
            -0.007347224818682779,
            -0.004076625088232268,
            null,
            -0.004076625088232268,
            -0.0014785748209803428,
            null,
            -0.0014785748209803428,
            0,
            null,
            0,
            0,
            null,
            0,
            0,
            null
           ]
          },
          {
           "i": [],
           "j": [],
           "k": [],
           "name": "Faces",
           "type": "mesh3d",
           "x": {
            "bdata": "PLTIdr6fij8+30+Nl26SP11kO99PjZc/wqpzblZunD+7Ki2Jp2SgP1QaGAj5UaI/Xv6cUr0gpD+LCkiBwP6lPxuKYnlWEqg/TSowGtloqj/0rLc0j+2sP3wXH4xEcq8/xXpXzmLksD/zdmlWLe6xP/TnEEUv3bI/DA1Qd5LEsz/JRXl4PLu0P6PPVoT70bU/CtejcD0Ktz9SuB6F61G4P5qZmZmZmbk/",
            "dtype": "f8"
           },
           "y": {
            "bdata": "AAAAAAAAAAAAAAAAAAAAgAAAAAAAAACA+/PcNx0uLj8fEDzWUF5CP8dJLrp8Y0w/hKwzkoFAUT+HCNB+hV9RP4eQBclHVkw/w9nM+xnvPz90OtBSdD2MPq26RI016D+/86J5MRdTTL+ipHLsI15Rv3pC4OFoP1G/FGCdlvJhTL/8f/H6bl1Cv2/Y+x7PLC6/AAAAAAAAAAAAAAAAAAAAAAAAAAAAAAAA",
            "dtype": "f8"
           },
           "z": {
            "bdata": "AAAAAAAAAAAAAAAAAAAAgAAAAAAAAACAJzLIjcs5WL+THa20yLJwv8iK+OBWGH6/+WypCbxGhr+s3A3lrESNvyPRDzDqnJG/uOYbvMKlk78Jj9gR41+Uv0bmuJ+4pZO/oZoORtmckb/8usZ5hkSNv9qZd4iYRoa/BmsApR8Yfr8PhOm2prJwv+EZDaCXOVi/AAAAAAAAAAAAAAAAAAAAAAAAAAAAAAAA",
            "dtype": "f8"
           }
          }
         ],
         "layout": {
          "annotations": [
           {
            "showarrow": false,
            "text": "Time: 0.71s (Step: 72/100)",
            "x": 0.05,
            "xref": "paper",
            "y": 0.95,
            "yref": "paper"
           }
          ]
         },
         "name": "71"
        },
        {
         "data": [
          {
           "name": "Free Nodes",
           "type": "scatter3d",
           "x": {
            "bdata": "2ZUzZFpunD/LBOwCsWSgP/Z/BbQPUqI/GO4EmeIgpD8yh5D67v6lP3Fop1OCEqg/Ph+bAvRoqj9tYzQej+2sP3+i6G4pcq8/yFKtvkzksD/lsiDyFe6xPzsOGn0c3bI/cfIQB4fEsz9eE4KuN7u0P6CrkoP60bU/",
            "dtype": "f8"
           },
           "y": {
            "bdata": "vqGYtHiuLj9OZ2UBd6xCPxdxYdtT3Ew/zpYetPaJUT95DhGFe6lRP7jz2oXQzkw/UBtYUkw7QD+CT9rOx4KHPjpG1F9rOEC/5LQNiCDMTL8HhcdsTqhRv+duUyIFiVG/Nfw9af3aTL/dhW8zsatCv/5FU4JSrS6/",
            "dtype": "f8"
           },
           "z": {
            "bdata": "29VvvYg2WL/k0Bu32rBwv65PkNFvFX6/At0gT/hEhr8kzaVLwkKNv8NqraXtm5G/7ZJHssOkk7/6zPsn416Uv0Estgq5pJO/DprCzdubkb8DYKGzmUKNv5p0/LrSRIa/j2REQjUVfr/Z23ebtrBwv+8NYmlRNli/",
            "dtype": "f8"
           }
          },
          {
           "name": "Fixed Nodes",
           "type": "scatter3d",
           "x": {
            "bdata": "PLTIdr6fij8+30+Nl26SP11kO99PjZc/CtejcD0Ktz9SuB6F61G4P5qZmZmZmbk/",
            "dtype": "f8"
           },
           "y": {
            "bdata": "AAAAAAAAAAAAAAAAAAAAgAAAAAAAAACAAAAAAAAAAAAAAAAAAAAAAAAAAAAAAAAA",
            "dtype": "f8"
           },
           "z": {
            "bdata": "AAAAAAAAAAAAAAAAAAAAgAAAAAAAAACAAAAAAAAAAAAAAAAAAAAAAAAAAAAAAAAA",
            "dtype": "f8"
           }
          },
          {
           "name": "Edges",
           "type": "scatter3d",
           "x": [
            0.013000000000000005,
            0.01800000000000001,
            null,
            0.01800000000000001,
            0.02300000000000001,
            null,
            0.02300000000000001,
            0.027764713636221437,
            null,
            0.027764713636221437,
            0.032018214804347155,
            null,
            0.032018214804347155,
            0.035782328343657285,
            null,
            0.035782328343657285,
            0.03931339376364579,
            null,
            0.03931339376364579,
            0.04296061333322,
            null,
            0.04296061333322,
            0.047016213142072945,
            null,
            0.047016213142072945,
            0.05158197910128458,
            null,
            0.05158197910128458,
            0.05649993175229082,
            null,
            0.05649993175229082,
            0.06141786078325583,
            null,
            0.06141786078325583,
            0.0659835782547119,
            null,
            0.0659835782547119,
            0.07003914986917044,
            null,
            0.07003914986917044,
            0.07368639044039409,
            null,
            0.07368639044039409,
            0.07721752092852242,
            null,
            0.07721752092852242,
            0.08098171244098526,
            null,
            0.08098171244098526,
            0.08523526870946663,
            null,
            0.08523526870946663,
            0.09,
            null,
            0.09,
            0.095,
            null,
            0.095,
            0.1,
            null
           ],
           "y": [
            0,
            0,
            null,
            0,
            0,
            null,
            0,
            0.00023408149199722993,
            null,
            0.00023408149199722993,
            0.0005698758202854288,
            null,
            0.0005698758202854288,
            0.0008807572801390631,
            null,
            0.0008807572801390631,
            0.0010704907622111517,
            null,
            0.0010704907622111517,
            0.001078005432888411,
            null,
            0.001078005432888411,
            0.0008791464021765593,
            null,
            0.0008791464021765593,
            0.0004953501381244983,
            null,
            0.0004953501381244983,
            1.7516956723041574e-7,
            null,
            1.7516956723041574e-7,
            -0.0004950069702848788,
            null,
            -0.0004950069702848788,
            -0.0008788260312095034,
            null,
            -0.0008788260312095034,
            -0.0010777250164369383,
            null,
            -0.0010777250164369383,
            -0.0010702657830767238,
            null,
            -0.0010702657830767238,
            -0.0008805978163620778,
            null,
            -0.0008805978163620778,
            -0.0005697837103719145,
            null,
            -0.0005697837103719145,
            -0.00023404724303204,
            null,
            -0.00023404724303204,
            0,
            null,
            0,
            0,
            null,
            0,
            0,
            null
           ],
           "z": [
            0,
            0,
            null,
            0,
            0,
            null,
            0,
            -0.0014778457023089029,
            null,
            -0.0014778457023089029,
            -0.004074911457554207,
            null,
            -0.004074911457554207,
            -0.007344662467421088,
            null,
            -0.007344662467421088,
            -0.01087373725395802,
            null,
            -0.01087373725395802,
            -0.014287488874038141,
            null,
            -0.014287488874038141,
            -0.017196381795069337,
            null,
            -0.017196381795069337,
            -0.01918321395523297,
            null,
            -0.01918321395523297,
            -0.019893216433911377,
            null,
            -0.019893216433911377,
            -0.019183055189881285,
            null,
            -0.019183055189881285,
            -0.017196115907291136,
            null,
            -0.017196115907291136,
            -0.014287186426528825,
            null,
            -0.014287186426528825,
            -0.010873457270969934,
            null,
            -0.010873457270969934,
            -0.007344444315344436,
            null,
            -0.007344444315344436,
            -0.004074776944881863,
            null,
            -0.004074776944881863,
            -0.0014777941737812402,
            null,
            -0.0014777941737812402,
            0,
            null,
            0,
            0,
            null,
            0,
            0,
            null
           ]
          },
          {
           "i": [],
           "j": [],
           "k": [],
           "name": "Faces",
           "type": "mesh3d",
           "x": {
            "bdata": "PLTIdr6fij8+30+Nl26SP11kO99PjZc/2ZUzZFpunD/LBOwCsWSgP/Z/BbQPUqI/GO4EmeIgpD8yh5D67v6lP3Fop1OCEqg/Ph+bAvRoqj9tYzQej+2sP3+i6G4pcq8/yFKtvkzksD/lsiDyFe6xPzsOGn0c3bI/cfIQB4fEsz9eE4KuN7u0P6CrkoP60bU/CtejcD0Ktz9SuB6F61G4P5qZmZmZmbk/",
            "dtype": "f8"
           },
           "y": {
            "bdata": "AAAAAAAAAAAAAAAAAAAAgAAAAAAAAACAvqGYtHiuLj9OZ2UBd6xCPxdxYdtT3Ew/zpYetPaJUT95DhGFe6lRP7jz2oXQzkw/UBtYUkw7QD+CT9rOx4KHPjpG1F9rOEC/5LQNiCDMTL8HhcdsTqhRv+duUyIFiVG/Nfw9af3aTL/dhW8zsatCv/5FU4JSrS6/AAAAAAAAAAAAAAAAAAAAAAAAAAAAAAAA",
            "dtype": "f8"
           },
           "z": {
            "bdata": "AAAAAAAAAAAAAAAAAAAAgAAAAAAAAACA29VvvYg2WL/k0Bu32rBwv65PkNFvFX6/At0gT/hEhr8kzaVLwkKNv8NqraXtm5G/7ZJHssOkk7/6zPsn416Uv0Estgq5pJO/DprCzdubkb8DYKGzmUKNv5p0/LrSRIa/j2REQjUVfr/Z23ebtrBwv+8NYmlRNli/AAAAAAAAAAAAAAAAAAAAAAAAAAAAAAAA",
            "dtype": "f8"
           }
          }
         ],
         "layout": {
          "annotations": [
           {
            "showarrow": false,
            "text": "Time: 0.72s (Step: 73/100)",
            "x": 0.05,
            "xref": "paper",
            "y": 0.95,
            "yref": "paper"
           }
          ]
         },
         "name": "72"
        },
        {
         "data": [
          {
           "name": "Free Nodes",
           "type": "scatter3d",
           "x": {
            "bdata": "h72caV5unD8rxJ6humSgPzR/p7cmUqI/DaTTbgghpD8GZdslHv+lP8dESdWuEqg/7yFlUQ9pqj86eB0Hj+2sP8i6/ekNcq8/Uw55WjbksD9MLtsz/u2xP8NohGwJ3bI/rk9ManvEsz9PbrnRMru0P0QgzX750bU/",
            "dtype": "f8"
           },
           "y": {
            "bdata": "dodwAJYuLz/SUbmTd/pCP29BYWzxVE0/3AUm8EjTUT+8dkHsTfNRP5ox1MwcR00/0FAKmuV+QD8UowN6TEiCPtb/ukulfEC/tiJ3G/tETb9g1sHxWvJRvxUAfruC0lG/pVf7VNRTTb+7OxDs0PlCvzryuiKcLS+/",
            "dtype": "f8"
           },
           "z": {
            "bdata": "R60/LDkzWL+3Xboy5a5wv0mJz3R9En6/w5hEuC1Dhr9lAUxC0ECNv0/IN0ntmpG/4EPMzcCjk7+fhOde312Uv1ZJD5S1o5O/yH0ud9qakb/bRTFgpUCNv7r2g/QFQ4a/Xnx5Yz8Sfr+7vxvbvq5wv8VYnUD+Mli/",
            "dtype": "f8"
           }
          },
          {
           "name": "Fixed Nodes",
           "type": "scatter3d",
           "x": {
            "bdata": "PLTIdr6fij8+30+Nl26SP11kO99PjZc/CtejcD0Ktz9SuB6F61G4P5qZmZmZmbk/",
            "dtype": "f8"
           },
           "y": {
            "bdata": "AAAAAAAAAAAAAAAAAAAAgAAAAAAAAACAAAAAAAAAAAAAAAAAAAAAAAAAAAAAAAAA",
            "dtype": "f8"
           },
           "z": {
            "bdata": "AAAAAAAAAAAAAAAAAAAAgAAAAAAAAACAAAAAAAAAAAAAAAAAAAAAAAAAAAAAAAAA",
            "dtype": "f8"
           }
          },
          {
           "name": "Edges",
           "type": "scatter3d",
           "x": [
            0.013000000000000005,
            0.01800000000000001,
            null,
            0.01800000000000001,
            0.02300000000000001,
            null,
            0.02300000000000001,
            0.027764773555813995,
            null,
            0.027764773555813995,
            0.03201850150015447,
            null,
            0.03201850150015447,
            0.03578301421998589,
            null,
            0.03578301421998589,
            0.039314521340038856,
            null,
            0.039314521340038856,
            0.04296201908227641,
            null,
            0.04296201908227641,
            0.04701753953544024,
            null,
            0.04701753953544024,
            0.051582792936247894,
            null,
            0.051582792936247894,
            0.05649992906431618,
            null,
            0.05649992906431618,
            0.061417040646906396,
            null,
            0.061417040646906396,
            0.06598224362192555,
            null,
            0.06598224362192555,
            0.0700377346612921,
            null,
            0.0700377346612921,
            0.07368525409075048,
            null,
            0.07368525409075048,
            0.07721682877701028,
            null,
            0.07721682877701028,
            0.08098142261717921,
            null,
            0.08098142261717921,
            0.08523520799383372,
            null,
            0.08523520799383372,
            0.09,
            null,
            0.09,
            0.095,
            null,
            0.095,
            0.1,
            null
           ],
           "y": [
            0,
            0,
            null,
            0,
            0,
            null,
            0,
            0.00023789959979674994,
            null,
            0.00023789959979674994,
            0.0005791744110391023,
            null,
            0.0005791744110391023,
            0.000895135767459405,
            null,
            0.000895135767459405,
            0.0010879719053210534,
            null,
            0.0010879719053210534,
            0.0010956059423032202,
            null,
            0.0010956059423032202,
            0.0008934870362807157,
            null,
            0.0008934870362807157,
            0.0005034085371158573,
            null,
            0.0005034085371158573,
            1.362146209223734e-7,
            null,
            1.362146209223734e-7,
            -0.0005031401737696183,
            null,
            -0.0005031401737696183,
            -0.0008932329282567905,
            null,
            -0.0008932329282567905,
            -0.0010953796509317812,
            null,
            -0.0010953796509317812,
            -0.0010877873118886373,
            null,
            -0.0010877873118886373,
            -0.0008950030114316289,
            null,
            -0.0008950030114316289,
            -0.0005790968062927485,
            null,
            -0.0005790968062927485,
            -0.00023787051155989438,
            null,
            -0.00023787051155989438,
            0,
            null,
            0,
            0,
            null,
            0,
            0,
            null
           ],
           "z": [
            0,
            0,
            null,
            0,
            0,
            null,
            0,
            -0.001477056343896903,
            null,
            -0.001477056343896903,
            -0.0040730431607224815,
            null,
            -0.0040730431607224815,
            -0.007341852248801858,
            null,
            -0.007341852248801858,
            -0.010870320497428648,
            null,
            -0.010870320497428648,
            -0.01428377821275779,
            null,
            -0.01428377821275779,
            -0.0171925617159519,
            null,
            -0.0171925617159519,
            -0.019179356156261096,
            null,
            -0.019179356156261096,
            -0.01988934532881059,
            null,
            -0.01988934532881059,
            -0.019179188882682517,
            null,
            -0.019179188882682517,
            -0.017192281269329063,
            null,
            -0.017192281269329063,
            -0.014283458707867893,
            null,
            -0.014283458707867893,
            -0.010870024227638598,
            null,
            -0.010870024227638598,
            -0.007341621028529392,
            null,
            -0.007341621028529392,
            -0.004072900324658175,
            null,
            -0.004072900324658175,
            -0.001477001469955706,
            null,
            -0.001477001469955706,
            0,
            null,
            0,
            0,
            null,
            0,
            0,
            null
           ]
          },
          {
           "i": [],
           "j": [],
           "k": [],
           "name": "Faces",
           "type": "mesh3d",
           "x": {
            "bdata": "PLTIdr6fij8+30+Nl26SP11kO99PjZc/h72caV5unD8rxJ6humSgPzR/p7cmUqI/DaTTbgghpD8GZdslHv+lP8dESdWuEqg/7yFlUQ9pqj86eB0Hj+2sP8i6/ekNcq8/Uw55WjbksD9MLtsz/u2xP8NohGwJ3bI/rk9ManvEsz9PbrnRMru0P0QgzX750bU/CtejcD0Ktz9SuB6F61G4P5qZmZmZmbk/",
            "dtype": "f8"
           },
           "y": {
            "bdata": "AAAAAAAAAAAAAAAAAAAAgAAAAAAAAACAdodwAJYuLz/SUbmTd/pCP29BYWzxVE0/3AUm8EjTUT+8dkHsTfNRP5ox1MwcR00/0FAKmuV+QD8UowN6TEiCPtb/ukulfEC/tiJ3G/tETb9g1sHxWvJRvxUAfruC0lG/pVf7VNRTTb+7OxDs0PlCvzryuiKcLS+/AAAAAAAAAAAAAAAAAAAAAAAAAAAAAAAA",
            "dtype": "f8"
           },
           "z": {
            "bdata": "AAAAAAAAAAAAAAAAAAAAgAAAAAAAAACAR60/LDkzWL+3Xboy5a5wv0mJz3R9En6/w5hEuC1Dhr9lAUxC0ECNv0/IN0ntmpG/4EPMzcCjk7+fhOde312Uv1ZJD5S1o5O/yH0ud9qakb/bRTFgpUCNv7r2g/QFQ4a/Xnx5Yz8Sfr+7vxvbvq5wv8VYnUD+Mli/AAAAAAAAAAAAAAAAAAAAAAAAAAAAAAAA",
            "dtype": "f8"
           }
          }
         ],
         "layout": {
          "annotations": [
           {
            "showarrow": false,
            "text": "Time: 0.73s (Step: 74/100)",
            "x": 0.05,
            "xref": "paper",
            "y": 0.95,
            "yref": "paper"
           }
          ]
         },
         "name": "73"
        },
        {
         "data": [
          {
           "name": "Free Nodes",
           "type": "scatter3d",
           "x": {
            "bdata": "xFGefmJunD+ezBRlxGSgPy49fhI+UqI/DDwq0y4hpD+YJQcCTv+lP4ZaL/3bEqg/AefgBStpqj9w1Xnvju2sP9acGv7xca8/GLZPoh/ksD8CCzMc5u2xP9Y3yBP23LI/3MpIoW/Esz+WYjviLbu0P2p+C3b40bU/",
            "dtype": "f8"
           },
           "y": {
            "bdata": "6yXx8HWuLz9nlGI0U0hDPyoZ9L9WzU0/9h/rXHkcUj8SXulG/jxSPzy3Tr8wv00/dnIU1V3CQD+k4LfAJc95Ppzb9b/CwEC/Z3QyZKG9Tb91nQENRzxSv9XDebrfG1K/SGd+lnTMTb/6qW2KzEdDv0mEtJSprS+/",
            "dtype": "f8"
           },
           "z": {
            "bdata": "gIk049wvWL/GDfAs6Kxwv/pM19J/D36/IGQkSlxBhr+7QhHP1j6Nv7/TdR7pmZG/jmN+E7qik7/0W6C811yUv1b100KuopO/ZMUNStWZkb+UxTWPqT6Nv37ntkMyQYa/tIGHID4Pfr+4A3GFv6xwv3xMgT+eL1i/",
            "dtype": "f8"
           }
          },
          {
           "name": "Fixed Nodes",
           "type": "scatter3d",
           "x": {
            "bdata": "PLTIdr6fij8+30+Nl26SP11kO99PjZc/CtejcD0Ktz9SuB6F61G4P5qZmZmZmbk/",
            "dtype": "f8"
           },
           "y": {
            "bdata": "AAAAAAAAAAAAAAAAAAAAgAAAAAAAAACAAAAAAAAAAAAAAAAAAAAAAAAAAAAAAAAA",
            "dtype": "f8"
           },
           "z": {
            "bdata": "AAAAAAAAAAAAAAAAAAAAgAAAAAAAAACAAAAAAAAAAAAAAAAAAAAAAAAAAAAAAAAA",
            "dtype": "f8"
           }
          },
          {
           "name": "Edges",
           "type": "scatter3d",
           "x": [
            0.013000000000000005,
            0.01800000000000001,
            null,
            0.01800000000000001,
            0.02300000000000001,
            null,
            0.02300000000000001,
            0.027764834383178685,
            null,
            0.027764834383178685,
            0.03201879247571891,
            null,
            0.03201879247571891,
            0.03578371024843317,
            null,
            0.03578371024843317,
            0.03931566550920004,
            null,
            0.03931566550920004,
            0.042963445422695645,
            null,
            0.042963445422695645,
            0.047018885284775755,
            null,
            0.047018885284775755,
            0.05158361860999428,
            null,
            0.05158361860999428,
            0.05649992631235079,
            null,
            0.05649992631235079,
            0.061416208523320456,
            null,
            0.061416208523320456,
            0.06598088944129932,
            null,
            0.06598088944129932,
            0.0700362986417922,
            null,
            0.0700362986417922,
            0.07368410094224428,
            null,
            0.07368410094224428,
            0.07721612632375802,
            null,
            0.07721612632375802,
            0.0809811284374383,
            null,
            0.0809811284374383,
            0.0852351463504363,
            null,
            0.0852351463504363,
            0.09,
            null,
            0.09,
            0.095,
            null,
            0.095,
            0.1,
            null
           ],
           "y": [
            0,
            0,
            null,
            0,
            0,
            null,
            0,
            0.00024171056472459206,
            null,
            0.00024171056472459206,
            0.0005884557983974027,
            null,
            0.0005884557983974027,
            0.0009094880660150174,
            null,
            0.0009094880660150174,
            0.0011054215607817475,
            null,
            0.0011054215607817475,
            0.0011131747411549137,
            null,
            0.0011131747411549137,
            0.0009078014396572752,
            null,
            0.0009078014396572752,
            0.0005114515462625996,
            null,
            0.0005114515462625996,
            9.61466499123701e-8,
            null,
            9.61466499123701e-8,
            -0.0005112601210573889,
            null,
            -0.0005112601210573889,
            -0.0009076154750747967,
            null,
            -0.0009076154750747967,
            -0.0011130040984655674,
            null,
            -0.0011130040984655674,
            -0.0011052784774643238,
            null,
            -0.0011052784774643238,
            -0.0009093827511492481,
            null,
            -0.0009093827511492481,
            -0.0005883930906354633,
            null,
            -0.0005883930906354633,
            -0.00024168677405448012,
            null,
            -0.00024168677405448012,
            0,
            null,
            0,
            0,
            null,
            0,
            0,
            null
           ],
           "z": [
            0,
            0,
            null,
            0,
            0,
            null,
            0,
            -0.0014762551407519753,
            null,
            -0.0014762551407519753,
            -0.004071146903700867,
            null,
            -0.004071146903700867,
            -0.007339000044754624,
            null,
            -0.007339000044754624,
            -0.010866852772368374,
            null,
            -0.010866852772368374,
            -0.014280012315937332,
            null,
            -0.014280012315937332,
            -0.017188684925219407,
            null,
            -0.017188684925219407,
            -0.01917544120769637,
            null,
            -0.01917544120769637,
            -0.019885416877595888,
            null,
            -0.019885416877595888,
            -0.019175265148978347,
            null,
            -0.019175265148978347,
            -0.017188389439472998,
            null,
            -0.017188389439472998,
            -0.014279675181316155,
            null,
            -0.014279675181316155,
            -0.010866539660913107,
            null,
            -0.010866539660913107,
            -0.007338755306108547,
            null,
            -0.007338755306108547,
            -0.004070995454697739,
            null,
            -0.004070995454697739,
            -0.0014761968032146735,
            null,
            -0.0014761968032146735,
            0,
            null,
            0,
            0,
            null,
            0,
            0,
            null
           ]
          },
          {
           "i": [],
           "j": [],
           "k": [],
           "name": "Faces",
           "type": "mesh3d",
           "x": {
            "bdata": "PLTIdr6fij8+30+Nl26SP11kO99PjZc/xFGefmJunD+ezBRlxGSgPy49fhI+UqI/DDwq0y4hpD+YJQcCTv+lP4ZaL/3bEqg/AefgBStpqj9w1Xnvju2sP9acGv7xca8/GLZPoh/ksD8CCzMc5u2xP9Y3yBP23LI/3MpIoW/Esz+WYjviLbu0P2p+C3b40bU/CtejcD0Ktz9SuB6F61G4P5qZmZmZmbk/",
            "dtype": "f8"
           },
           "y": {
            "bdata": "AAAAAAAAAAAAAAAAAAAAgAAAAAAAAACA6yXx8HWuLz9nlGI0U0hDPyoZ9L9WzU0/9h/rXHkcUj8SXulG/jxSPzy3Tr8wv00/dnIU1V3CQD+k4LfAJc95Ppzb9b/CwEC/Z3QyZKG9Tb91nQENRzxSv9XDebrfG1K/SGd+lnTMTb/6qW2KzEdDv0mEtJSprS+/AAAAAAAAAAAAAAAAAAAAAAAAAAAAAAAA",
            "dtype": "f8"
           },
           "z": {
            "bdata": "AAAAAAAAAAAAAAAAAAAAgAAAAAAAAACAgIk049wvWL/GDfAs6Kxwv/pM19J/D36/IGQkSlxBhr+7QhHP1j6Nv7/TdR7pmZG/jmN+E7qik7/0W6C811yUv1b100KuopO/ZMUNStWZkb+UxTWPqT6Nv37ntkMyQYa/tIGHID4Pfr+4A3GFv6xwv3xMgT+eL1i/AAAAAAAAAAAAAAAAAAAAAAAAAAAAAAAA",
            "dtype": "f8"
           }
          }
         ],
         "layout": {
          "annotations": [
           {
            "showarrow": false,
            "text": "Time: 0.74s (Step: 75/100)",
            "x": 0.05,
            "xref": "paper",
            "y": 0.95,
            "yref": "paper"
           }
          ]
         },
         "name": "74"
        },
        {
         "data": [
          {
           "name": "Free Nodes",
           "type": "scatter3d",
           "x": {
            "bdata": "d3Mno2ZunD/oOR1NzmSgP0T/CMRVUqI/TSooxVUhpD+dC/CNfv+lP6ewPsoJE6g/Rd1fH0dpqj/4xFDXju2sP+Wi/avVca8/6fLHlgjksD+9IcSrze2xP/geX3Pi3LI/4OVNrGPEsz9mWiTgKLu0P0IrU2n30bU/",
            "dtype": "f8"
           },
           "y": {
            "bdata": "/lZEpwwXMD9Y71GBCpZDPxBN4BeFRU4/biovBIllUj/UfD4WjoZSP31b41MQN04/8hqF0rkFQT8IDf0zmdtuPlu6Dia+BEG/RbyMCg42Tr9qV4dkEIZSv7q1RTwaZVK/sSNvgNtETr8vcJ2AopVDv+KSmz+8FjC/",
            "dtype": "f8"
           },
           "z": {
            "bdata": "yF0263MsWL9XKRer46pwv8zis/N2DH6/dZPDCYQ/hr8VHvz31TyNv317LSnhmJG/oIU4iK+hk78rBzpHzFuUv7GMKx6joZO/TuU5TsyYkb/Ek69QpjyNv5NsfLdXP4a/hkS8kTEMfr/p31WquKpwv2vdPYAxLFi/",
            "dtype": "f8"
           }
          },
          {
           "name": "Fixed Nodes",
           "type": "scatter3d",
           "x": {
            "bdata": "PLTIdr6fij8+30+Nl26SP11kO99PjZc/CtejcD0Ktz9SuB6F61G4P5qZmZmZmbk/",
            "dtype": "f8"
           },
           "y": {
            "bdata": "AAAAAAAAAAAAAAAAAAAAgAAAAAAAAACAAAAAAAAAAAAAAAAAAAAAAAAAAAAAAAAA",
            "dtype": "f8"
           },
           "z": {
            "bdata": "AAAAAAAAAAAAAAAAAAAAgAAAAAAAAACAAAAAAAAAAAAAAAAAAAAAAAAAAAAAAAAA",
            "dtype": "f8"
           }
          },
          {
           "name": "Edges",
           "type": "scatter3d",
           "x": [
            0.013000000000000005,
            0.01800000000000001,
            null,
            0.01800000000000001,
            0.02300000000000001,
            null,
            0.02300000000000001,
            0.027764896114479378,
            null,
            0.027764896114479378,
            0.03201908770880718,
            null,
            0.03201908770880718,
            0.035784416370459954,
            null,
            0.035784416370459954,
            0.03931682616901764,
            null,
            0.03931682616901764,
            0.04296489222180997,
            null,
            0.04296489222180997,
            0.04702025026139838,
            null,
            0.04702025026139838,
            0.051584456043139805,
            null,
            0.051584456043139805,
            0.05649992349970917,
            null,
            0.05649992349970917,
            0.0614153644990603,
            null,
            0.0614153644990603,
            0.06597951584985719,
            null,
            0.06597951584985719,
            0.07003484195241234,
            null,
            0.07003484195241234,
            0.07368293110550528,
            null,
            0.07368293110550528,
            0.07721541363380124,
            null,
            0.07721541363380124,
            0.08098082992760566,
            null,
            0.08098082992760566,
            0.08523508378418135,
            null,
            0.08523508378418135,
            0.09,
            null,
            0.09,
            0.095,
            null,
            0.095,
            0.1,
            null
           ],
           "y": [
            0,
            0,
            null,
            0,
            0,
            null,
            0,
            0.0002455144779259648,
            null,
            0.0002455144779259648,
            0.0005977202696523061,
            null,
            0.0005977202696523061,
            0.0009238147611107268,
            null,
            0.0009238147611107268,
            0.0011228406954041609,
            null,
            0.0011228406954041609,
            0.0011307132308287409,
            null,
            0.0011307132308287409,
            0.0009220914578474817,
            null,
            0.0009220914578474817,
            0.0005194814048444503,
            null,
            0.0005194814048444503,
            5.7477143487858494e-8,
            null,
            5.7477143487858494e-8,
            -0.0005193642101540373,
            null,
            -0.0005193642101540373,
            -0.0009219711838336439,
            null,
            -0.0009219711838336439,
            -0.0011305961689820018,
            null,
            -0.0011305961689820018,
            -0.001122737522645563,
            null,
            -0.001122737522645563,
            -0.0009237357888817102,
            null,
            -0.0009237357888817102,
            -0.0005976718395959197,
            null,
            -0.0005976718395959197,
            -0.00024549575719694076,
            null,
            -0.00024549575719694076,
            0,
            null,
            0,
            0,
            null,
            0,
            0,
            null
           ],
           "z": [
            0,
            0,
            null,
            0,
            0,
            null,
            0,
            -0.0014754421252741613,
            null,
            -0.0014754421252741613,
            -0.004069222764380895,
            null,
            -0.004069222764380895,
            -0.007336105972392825,
            null,
            -0.007336105972392825,
            -0.010863334224674873,
            null,
            -0.010863334224674873,
            -0.01427619135894446,
            null,
            -0.01427619135894446,
            -0.017184751642499208,
            null,
            -0.017184751642499208,
            -0.01917146939206804,
            null,
            -0.01917146939206804,
            -0.019881431433993384,
            null,
            -0.019881431433993384,
            -0.019171284405172077,
            null,
            -0.019171284405172077,
            -0.01718444087462006,
            null,
            -0.01718444087462006,
            -0.014275836312615094,
            null,
            -0.014275836312615094,
            -0.010863004004525478,
            null,
            -0.010863004004525478,
            -0.007335847501750986,
            null,
            -0.007335847501750986,
            -0.004069062565910977,
            null,
            -0.004069062565910977,
            -0.0014753802688270655,
            null,
            -0.0014753802688270655,
            0,
            null,
            0,
            0,
            null,
            0,
            0,
            null
           ]
          },
          {
           "i": [],
           "j": [],
           "k": [],
           "name": "Faces",
           "type": "mesh3d",
           "x": {
            "bdata": "PLTIdr6fij8+30+Nl26SP11kO99PjZc/d3Mno2ZunD/oOR1NzmSgP0T/CMRVUqI/TSooxVUhpD+dC/CNfv+lP6ewPsoJE6g/Rd1fH0dpqj/4xFDXju2sP+Wi/avVca8/6fLHlgjksD+9IcSrze2xP/geX3Pi3LI/4OVNrGPEsz9mWiTgKLu0P0IrU2n30bU/CtejcD0Ktz9SuB6F61G4P5qZmZmZmbk/",
            "dtype": "f8"
           },
           "y": {
            "bdata": "AAAAAAAAAAAAAAAAAAAAgAAAAAAAAACA/lZEpwwXMD9Y71GBCpZDPxBN4BeFRU4/biovBIllUj/UfD4WjoZSP31b41MQN04/8hqF0rkFQT8IDf0zmdtuPlu6Dia+BEG/RbyMCg42Tr9qV4dkEIZSv7q1RTwaZVK/sSNvgNtETr8vcJ2AopVDv+KSmz+8FjC/AAAAAAAAAAAAAAAAAAAAAAAAAAAAAAAA",
            "dtype": "f8"
           },
           "z": {
            "bdata": "AAAAAAAAAAAAAAAAAAAAgAAAAAAAAACAyF0263MsWL9XKRer46pwv8zis/N2DH6/dZPDCYQ/hr8VHvz31TyNv317LSnhmJG/oIU4iK+hk78rBzpHzFuUv7GMKx6joZO/TuU5TsyYkb/Ek69QpjyNv5NsfLdXP4a/hkS8kTEMfr/p31WquKpwv2vdPYAxLFi/AAAAAAAAAAAAAAAAAAAAAAAAAAAAAAAA",
            "dtype": "f8"
           }
          }
         ],
         "layout": {
          "annotations": [
           {
            "showarrow": false,
            "text": "Time: 0.75s (Step: 76/100)",
            "x": 0.05,
            "xref": "paper",
            "y": 0.95,
            "yref": "paper"
           }
          ]
         },
         "name": "75"
        },
        {
         "data": [
          {
           "name": "Free Nodes",
           "type": "scatter3d",
           "x": {
            "bdata": "BBEn12punD8RpoZZ2GSgP6/GxcttUqI/6bvqQ30hpD8Alm/Ir/+lPzSeWTs4E6g/57oxnWNpqj+Kd6m+ju2sP0G1ZvS4ca8/Abl5OPHjsD8IqCvjtO2xPwvTw4vO3LI/zMGji1fEsz9Q/ZDLI7u0P8OWqVj20bU/",
            "dtype": "f8"
           },
           "y": {
            "bdata": "NTZwXsBWMD9+jNT+neNDP4soK4d9vU4/YHCxzHiuUj9DA/Ks/s9SP2Lc6g+/rk4/9d+d4f1IQT+A6F8FiCFYPu54QmqSSEG/SIcmLTyuTr95qurPtM9Sv9mh7IMwrlK/YhE9mQa9Tr8vQ59dUeNDv+Uar1mDVjC/",
            "dtype": "f8"
           },
           "z": {
            "bdata": "pEylTf4oWL8b09Ky16hwv3mS4d9iCX6/V9tp/KQ9hr8IW1rDzTqNv2vhRG3Vl5G/1OrtMKGgk7+F0dYEvVqUvwiiQS2UoJO/czWIi7+Xkb8qn420mzqNv9i6p152PYa/mVxEzxkJfr+ngJNZqqhwv6D/4By4KFi/",
            "dtype": "f8"
           }
          },
          {
           "name": "Fixed Nodes",
           "type": "scatter3d",
           "x": {
            "bdata": "PLTIdr6fij8+30+Nl26SP11kO99PjZc/CtejcD0Ktz9SuB6F61G4P5qZmZmZmbk/",
            "dtype": "f8"
           },
           "y": {
            "bdata": "AAAAAAAAAAAAAAAAAAAAgAAAAAAAAACAAAAAAAAAAAAAAAAAAAAAAAAAAAAAAAAA",
            "dtype": "f8"
           },
           "z": {
            "bdata": "AAAAAAAAAAAAAAAAAAAAgAAAAAAAAACAAAAAAAAAAAAAAAAAAAAAAAAAAAAAAAAA",
            "dtype": "f8"
           }
          },
          {
           "name": "Edges",
           "type": "scatter3d",
           "x": [
            0.013000000000000005,
            0.01800000000000001,
            null,
            0.01800000000000001,
            0.02300000000000001,
            null,
            0.02300000000000001,
            0.02776495874583508,
            null,
            0.02776495874583508,
            0.03201938717695552,
            null,
            0.03201938717695552,
            0.03578513252695125,
            null,
            0.03578513252695125,
            0.03931800321640095,
            null,
            0.03931800321640095,
            0.04296635934569437,
            null,
            0.04296635934569437,
            0.04702163433540499,
            null,
            0.04702163433540499,
            0.051585305155517784,
            null,
            0.051585305155517784,
            0.056499920629661096,
            null,
            0.056499920629661096,
            0.06141450866139531,
            null,
            0.06141450866139531,
            0.06597812298580054,
            null,
            0.06597812298580054,
            0.07003336473613342,
            null,
            0.07003336473613342,
            0.07368174469213444,
            null,
            0.07368174469213444,
            0.07721469077274107,
            null,
            0.07721469077274107,
            0.08098052711374248,
            null,
            0.08098052711374248,
            0.0852350203000141,
            null,
            0.0852350203000141,
            0.09,
            null,
            0.09,
            0.095,
            null,
            0.095,
            0.1,
            null
           ],
           "y": [
            0,
            0,
            null,
            0,
            0,
            null,
            0,
            0.0002493114138254233,
            null,
            0.0002493114138254233,
            0.0006069680654586932,
            null,
            0.0006069680654586932,
            0.0009381163530062393,
            null,
            0.0009381163530062393,
            0.0011402301486418617,
            null,
            0.0011402301486418617,
            0.0011482226434795385,
            null,
            0.0011482226434795385,
            0.0009363587303913396,
            null,
            0.0009363587303913396,
            0.0005275001196727291,
            null,
            0.0005275001196727291,
            2.247372806599931e-8,
            null,
            2.247372806599931e-8,
            -0.0005274500768057946,
            null,
            -0.0005274500768057946,
            -0.0009362977819373586,
            null,
            -0.0009362977819373586,
            -0.0011481538528338704,
            null,
            -0.0011481538528338704,
            -0.0011401628286852232,
            null,
            -0.0011401628286852232,
            -0.0009380609721821138,
            null,
            -0.0009380609721821138,
            -0.0006069323819649415,
            null,
            -0.0006069323819649415,
            -0.00024929720683212884,
            null,
            -0.00024929720683212884,
            0,
            null,
            0,
            0,
            null,
            0,
            0,
            null
           ],
           "z": [
            0,
            0,
            null,
            0,
            0,
            null,
            0,
            -0.0014746173315714284,
            null,
            -0.0014746173315714284,
            -0.004067270824795323,
            null,
            -0.004067270824795323,
            -0.007333170155196294,
            null,
            -0.007333170155196294,
            -0.010859765008019258,
            null,
            -0.010859765008019258,
            -0.014272315525244675,
            null,
            -0.014272315525244675,
            -0.017180762094740325,
            null,
            -0.017180762094740325,
            -0.019167440997516064,
            null,
            -0.019167440997516064,
            -0.019877389355046588,
            null,
            -0.019877389355046588,
            -0.019167247068624632,
            null,
            -0.019167247068624632,
            -0.01718043603073256,
            null,
            -0.01718043603073256,
            -0.014271942565485658,
            null,
            -0.014271942565485658,
            -0.01085941768994074,
            null,
            -0.01085941768994074,
            -0.007332897967237483,
            null,
            -0.007332897967237483,
            -0.004067101888011993,
            null,
            -0.004067101888011993,
            -0.0014745519615786198,
            null,
            -0.0014745519615786198,
            0,
            null,
            0,
            0,
            null,
            0,
            0,
            null
           ]
          },
          {
           "i": [],
           "j": [],
           "k": [],
           "name": "Faces",
           "type": "mesh3d",
           "x": {
            "bdata": "PLTIdr6fij8+30+Nl26SP11kO99PjZc/BBEn12punD8RpoZZ2GSgP6/GxcttUqI/6bvqQ30hpD8Alm/Ir/+lPzSeWTs4E6g/57oxnWNpqj+Kd6m+ju2sP0G1ZvS4ca8/Abl5OPHjsD8IqCvjtO2xPwvTw4vO3LI/zMGji1fEsz9Q/ZDLI7u0P8OWqVj20bU/CtejcD0Ktz9SuB6F61G4P5qZmZmZmbk/",
            "dtype": "f8"
           },
           "y": {
            "bdata": "AAAAAAAAAAAAAAAAAAAAgAAAAAAAAACANTZwXsBWMD9+jNT+neNDP4soK4d9vU4/YHCxzHiuUj9DA/Ks/s9SP2Lc6g+/rk4/9d+d4f1IQT+A6F8FiCFYPu54QmqSSEG/SIcmLTyuTr95qurPtM9Sv9mh7IMwrlK/YhE9mQa9Tr8vQ59dUeNDv+Uar1mDVjC/AAAAAAAAAAAAAAAAAAAAAAAAAAAAAAAA",
            "dtype": "f8"
           },
           "z": {
            "bdata": "AAAAAAAAAAAAAAAAAAAAgAAAAAAAAACApEylTf4oWL8b09Ky16hwv3mS4d9iCX6/V9tp/KQ9hr8IW1rDzTqNv2vhRG3Vl5G/1OrtMKGgk7+F0dYEvVqUvwiiQS2UoJO/czWIi7+Xkb8qn420mzqNv9i6p152PYa/mVxEzxkJfr+ngJNZqqhwv6D/4By4KFi/AAAAAAAAAAAAAAAAAAAAAAAAAAAAAAAA",
            "dtype": "f8"
           }
          }
         ],
         "layout": {
          "annotations": [
           {
            "showarrow": false,
            "text": "Time: 0.76s (Step: 77/100)",
            "x": 0.05,
            "xref": "paper",
            "y": 0.95,
            "yref": "paper"
           }
          ]
         },
         "name": "76"
        },
        {
         "data": [
          {
           "name": "Free Nodes",
           "type": "scatter3d",
           "x": {
            "bdata": "y8SLGm9unD/M8h6K4mSgP6HxMCmGUqI/sZ6MTqUhpD8GA1yw4f+lP4VWX09nE6g/uhGkfoBpqj9fkoqlju2sP5PBFtibca8/+Pb9h9njsD8I2gfDm+2xP9jLcV263LI/3OSSP0vEsz/eEJ6kHru0P40yFET10bU/",
            "dtype": "f8"
           },
           "y": {
            "bdata": "pD6NU1aWMD81atsJDjFEP/zFNNlANU8/716oZ0n3Uj9yTL0WURlTP5sOcsw/Jk8/N4DTjy2MQT9A5O5kduk9vsj2hD07jEG/+x4HnCcmT7+5QdJwMhlTv5uSEA0h91K/0u4KtPM0T78Baxrb1zBEv/nWGSApljC/",
            "dtype": "f8"
           },
           "z": {
            "bdata": "8wzdFHwlWL8VA19KxKZwvwFZyKBDBn6/4pfuJ787hr+o3Aw4vjiNv19A4e7FlpG/nbe7Eo+fk7+6IKf7qVmUv/HRM3eBn5O/ZR+qCa+Wkb+fc1/KiTiNvy5Bq0eOO4a/evOs8PYFfr/Ga4yilKZwv2ua0C4yJVi/",
            "dtype": "f8"
           }
          },
          {
           "name": "Fixed Nodes",
           "type": "scatter3d",
           "x": {
            "bdata": "PLTIdr6fij8+30+Nl26SP11kO99PjZc/CtejcD0Ktz9SuB6F61G4P5qZmZmZmbk/",
            "dtype": "f8"
           },
           "y": {
            "bdata": "AAAAAAAAAAAAAAAAAAAAgAAAAAAAAACAAAAAAAAAAAAAAAAAAAAAAAAAAAAAAAAA",
            "dtype": "f8"
           },
           "z": {
            "bdata": "AAAAAAAAAAAAAAAAAAAAgAAAAAAAAACAAAAAAAAAAAAAAAAAAAAAAAAAAAAAAAAA",
            "dtype": "f8"
           }
          },
          {
           "name": "Edges",
           "type": "scatter3d",
           "x": [
            0.013000000000000005,
            0.01800000000000001,
            null,
            0.01800000000000001,
            0.02300000000000001,
            null,
            0.02300000000000001,
            0.02776502227329018,
            null,
            0.02776502227329018,
            0.032019690857372746,
            null,
            0.032019690857372746,
            0.03578585865804774,
            null,
            0.03578585865804774,
            0.039319196547066844,
            null,
            0.039319196547066844,
            0.04296784665894475,
            null,
            0.04296784665894475,
            0.047023037375464795,
            null,
            0.047023037375464795,
            0.05158616586598748,
            null,
            0.05158616586598748,
            0.056499917705228546,
            null,
            0.056499917705228546,
            0.061413641098059156,
            null,
            0.061413641098059156,
            0.06597671098822022,
            null,
            0.06597671098822022,
            0.07003186713686926,
            null,
            0.07003186713686926,
            0.07368054181442518,
            null,
            0.07368054181442518,
            0.077213957806538,
            null,
            0.077213957806538,
            0.08098022002201641,
            null,
            0.08098022002201641,
            0.08523495590288573,
            null,
            0.08523495590288573,
            0.09,
            null,
            0.09,
            0.095,
            null,
            0.095,
            0.1,
            null
           ],
           "y": [
            0,
            0,
            null,
            0,
            0,
            null,
            0,
            0.000253101421141525,
            null,
            0.000253101421141525,
            0.0006161993548759517,
            null,
            0.0006161993548759517,
            0.0009523932116392571,
            null,
            0.0009523932116392571,
            0.0011575905651905435,
            null,
            0.0011575905651905435,
            0.0011657039530817118,
            null,
            0.0011657039530817118,
            0.0009506045834232925,
            null,
            0.0009506045834232925,
            0.0005355093450383268,
            null,
            0.0005355093450383268,
            -6.9644215524185304e-9,
            null,
            -6.9644215524185304e-9,
            -0.0005355157145811801,
            null,
            -0.0005355157145811801,
            -0.0009505933194810795,
            null,
            -0.0009505933194810795,
            -0.001165675409797824,
            null,
            -0.001165675409797824,
            -0.0011575529827122847,
            null,
            -0.0011575529827122847,
            -0.0009523572881202319,
            null,
            -0.0009523572881202319,
            -0.0006161741241215991,
            null,
            -0.0006161741241215991,
            -0.00025309089696833005,
            null,
            -0.00025309089696833005,
            0,
            null,
            0,
            0,
            null,
            0,
            0,
            null
           ],
           "z": [
            0,
            0,
            null,
            0,
            0,
            null,
            0,
            -0.001473780797326904,
            null,
            -0.001473780797326904,
            -0.004065291175664472,
            null,
            -0.004065291175664472,
            -0.007330192730043318,
            null,
            -0.007330192730043318,
            -0.010856145292404255,
            null,
            -0.010856145292404255,
            -0.014268385015027654,
            null,
            -0.014268385015027654,
            -0.017176716523238485,
            null,
            -0.017176716523238485,
            -0.01916335632170495,
            null,
            -0.01916335632170495,
            -0.019873291001005745,
            null,
            -0.019873291001005745,
            -0.019163153553522553,
            null,
            -0.019163153553522553,
            -0.01717637535560303,
            null,
            -0.01717637535560303,
            -0.014267994392804626,
            null,
            -0.014267994392804626,
            -0.010855781137622058,
            null,
            -0.010855781137622058,
            -0.007329907045286238,
            null,
            -0.007329907045286238,
            -0.004065113644879886,
            null,
            -0.004065113644879886,
            -0.0014737119738669434,
            null,
            -0.0014737119738669434,
            0,
            null,
            0,
            0,
            null,
            0,
            0,
            null
           ]
          },
          {
           "i": [],
           "j": [],
           "k": [],
           "name": "Faces",
           "type": "mesh3d",
           "x": {
            "bdata": "PLTIdr6fij8+30+Nl26SP11kO99PjZc/y8SLGm9unD/M8h6K4mSgP6HxMCmGUqI/sZ6MTqUhpD8GA1yw4f+lP4VWX09nE6g/uhGkfoBpqj9fkoqlju2sP5PBFtibca8/+Pb9h9njsD8I2gfDm+2xP9jLcV263LI/3OSSP0vEsz/eEJ6kHru0P40yFET10bU/CtejcD0Ktz9SuB6F61G4P5qZmZmZmbk/",
            "dtype": "f8"
           },
           "y": {
            "bdata": "AAAAAAAAAAAAAAAAAAAAgAAAAAAAAACApD6NU1aWMD81atsJDjFEP/zFNNlANU8/716oZ0n3Uj9yTL0WURlTP5sOcsw/Jk8/N4DTjy2MQT9A5O5kduk9vsj2hD07jEG/+x4HnCcmT7+5QdJwMhlTv5uSEA0h91K/0u4KtPM0T78Baxrb1zBEv/nWGSApljC/AAAAAAAAAAAAAAAAAAAAAAAAAAAAAAAA",
            "dtype": "f8"
           },
           "z": {
            "bdata": "AAAAAAAAAAAAAAAAAAAAgAAAAAAAAACA8wzdFHwlWL8VA19KxKZwvwFZyKBDBn6/4pfuJ787hr+o3Aw4vjiNv19A4e7FlpG/nbe7Eo+fk7+6IKf7qVmUv/HRM3eBn5O/ZR+qCa+Wkb+fc1/KiTiNvy5Bq0eOO4a/evOs8PYFfr/Ga4yilKZwv2ua0C4yJVi/AAAAAAAAAAAAAAAAAAAAAAAAAAAAAAAA",
            "dtype": "f8"
           }
          }
         ],
         "layout": {
          "annotations": [
           {
            "showarrow": false,
            "text": "Time: 0.77s (Step: 78/100)",
            "x": 0.05,
            "xref": "paper",
            "y": 0.95,
            "yref": "paper"
           }
          ]
         },
         "name": "77"
        },
        {
         "data": [
          {
           "name": "Free Nodes",
           "type": "scatter3d",
           "x": {
            "bdata": "wLdDbXNunD+xGbPe7GSgP7LoxNueUqI/E3kl5M0hpD+45IdEFACmP+qFKwWXE6g/L/IBw51pqj/EyvmLju2sP6tAz1d+ca8/yEzuhcHjsD+rrPdLgu2xP3v95Oil3LI/dAZkyD7Esz+UXGhrGbu0P9dpmCv00bU/",
            "dtype": "f8"
           },
           "y": {
            "bdata": "H+Z2mM7VMD/xmKHNWn5EP5h67H7PrE8/aRfBQvs/Uz/7H+QFhmJTP4yCjImUnU8/8drZdkvPQT/AuoTZp5FfvidTeUe1z0G/61VRBc2dT798GXbFh2JTv4LG75nqP1O/EMiBA6GsT7+OZ7znNH5Ev4MWzsCs1TC/",
            "dtype": "f8"
           },
           "z": {
            "bdata": "QG2mTO0hWL/mntV4qaRwv/rIJkEZA36/h9X5ktI5hr/pK8ldpzaNv66XgbKylZG/z8b3Mnmek78d9egxk1iUvwT0AQNrnpO/A4AR0JqVkb+45xGhcDaNv/0HVoCfOYa/qFV2DMkCfr8RwPWTd6Rwv9RQVs6fIVi/",
            "dtype": "f8"
           }
          },
          {
           "name": "Fixed Nodes",
           "type": "scatter3d",
           "x": {
            "bdata": "PLTIdr6fij8+30+Nl26SP11kO99PjZc/CtejcD0Ktz9SuB6F61G4P5qZmZmZmbk/",
            "dtype": "f8"
           },
           "y": {
            "bdata": "AAAAAAAAAAAAAAAAAAAAgAAAAAAAAACAAAAAAAAAAAAAAAAAAAAAAAAAAAAAAAAA",
            "dtype": "f8"
           },
           "z": {
            "bdata": "AAAAAAAAAAAAAAAAAAAAgAAAAAAAAACAAAAAAAAAAAAAAAAAAAAAAAAAAAAAAAAA",
            "dtype": "f8"
           }
          },
          {
           "name": "Edges",
           "type": "scatter3d",
           "x": [
            0.013000000000000005,
            0.01800000000000001,
            null,
            0.01800000000000001,
            0.02300000000000001,
            null,
            0.02300000000000001,
            0.02776508669278832,
            null,
            0.02776508669278832,
            0.032019998726855355,
            null,
            0.032019998726855355,
            0.03578659470299907,
            null,
            0.03578659470299907,
            0.03932040605535483,
            null,
            0.03932040605535483,
            0.04296935402448682,
            null,
            0.04296935402448682,
            0.047024459248642916,
            null,
            0.047024459248642916,
            0.051587038092268826,
            null,
            0.051587038092268826,
            0.05649991472900731,
            null,
            0.05649991472900731,
            0.061412761897032674,
            null,
            0.061412761897032674,
            0.06597527999683728,
            null,
            0.06597527999683728,
            0.0700303492991902,
            null,
            0.0700303492991902,
            0.0736793225851126,
            null,
            0.0736793225851126,
            0.0772132148013272,
            null,
            0.0772132148013272,
            0.08097990867860211,
            null,
            0.08097990867860211,
            0.08523489059772459,
            null,
            0.08523489059772459,
            0.09,
            null,
            0.09,
            0.095,
            null,
            0.095,
            0.1,
            null
           ],
           "y": [
            0,
            0,
            null,
            0,
            0,
            null,
            0,
            0.00025688451611535936,
            null,
            0.00025688451611535936,
            0.0006254142165403026,
            null,
            0.0006254142165403026,
            0.0009666455424371554,
            null,
            0.0009666455424371554,
            0.0011749223440502227,
            null,
            0.0011749223440502227,
            0.0011831578081586958,
            null,
            0.0011831578081586958,
            0.0009648299484049257,
            null,
            0.0009648299484049257,
            0.000543510291847264,
            null,
            0.000543510291847264,
            -2.940089202754651e-8,
            null,
            -2.940089202754651e-8,
            -0.0005435595657653267,
            null,
            -0.0005435595657653267,
            -0.0009648562505712421,
            null,
            -0.0009648562505712421,
            -0.0011831594364096467,
            null,
            -0.0011831594364096467,
            -0.0011749068287340296,
            null,
            -0.0011749068287340296,
            -0.0009666238975241121,
            null,
            -0.0009666238975241121,
            -0.0006253965688955852,
            null,
            -0.0006253965688955852,
            -0.00025687663656302084,
            null,
            -0.00025687663656302084,
            0,
            null,
            0,
            0,
            null,
            0,
            0,
            null
           ],
           "z": [
            0,
            0,
            null,
            0,
            0,
            null,
            0,
            -0.0014729325654119912,
            null,
            -0.0014729325654119912,
            -0.004063283920323823,
            null,
            -0.004063283920323823,
            -0.007327173853285846,
            null,
            -0.007327173853285846,
            -0.010852475271557761,
            null,
            -0.010852475271557761,
            -0.014264400052658348,
            null,
            -0.014264400052658348,
            -0.017172615189700195,
            null,
            -0.017172615189700195,
            -0.019159215675194127,
            null,
            -0.019159215675194127,
            -0.019869136735214277,
            null,
            -0.019869136735214277,
            -0.019159004267283578,
            null,
            -0.019159004267283578,
            -0.017172259282574497,
            null,
            -0.017172259282574497,
            -0.014263992228951014,
            null,
            -0.014263992228951014,
            -0.010852094749456137,
            null,
            -0.010852094749456137,
            -0.007326875063332329,
            null,
            -0.007326875063332329,
            -0.0040630980505369655,
            null,
            -0.0040630980505369655,
            -0.00147286039404997,
            null,
            -0.00147286039404997,
            0,
            null,
            0,
            0,
            null,
            0,
            0,
            null
           ]
          },
          {
           "i": [],
           "j": [],
           "k": [],
           "name": "Faces",
           "type": "mesh3d",
           "x": {
            "bdata": "PLTIdr6fij8+30+Nl26SP11kO99PjZc/wLdDbXNunD+xGbPe7GSgP7LoxNueUqI/E3kl5M0hpD+45IdEFACmP+qFKwWXE6g/L/IBw51pqj/EyvmLju2sP6tAz1d+ca8/yEzuhcHjsD+rrPdLgu2xP3v95Oil3LI/dAZkyD7Esz+UXGhrGbu0P9dpmCv00bU/CtejcD0Ktz9SuB6F61G4P5qZmZmZmbk/",
            "dtype": "f8"
           },
           "y": {
            "bdata": "AAAAAAAAAAAAAAAAAAAAgAAAAAAAAACAH+Z2mM7VMD/xmKHNWn5EP5h67H7PrE8/aRfBQvs/Uz/7H+QFhmJTP4yCjImUnU8/8drZdkvPQT/AuoTZp5FfvidTeUe1z0G/61VRBc2dT798GXbFh2JTv4LG75nqP1O/EMiBA6GsT7+OZ7znNH5Ev4MWzsCs1TC/AAAAAAAAAAAAAAAAAAAAAAAAAAAAAAAA",
            "dtype": "f8"
           },
           "z": {
            "bdata": "AAAAAAAAAAAAAAAAAAAAgAAAAAAAAACAQG2mTO0hWL/mntV4qaRwv/rIJkEZA36/h9X5ktI5hr/pK8ldpzaNv66XgbKylZG/z8b3Mnmek78d9egxk1iUvwT0AQNrnpO/A4AR0JqVkb+45xGhcDaNv/0HVoCfOYa/qFV2DMkCfr8RwPWTd6Rwv9RQVs6fIVi/AAAAAAAAAAAAAAAAAAAAAAAAAAAAAAAA",
            "dtype": "f8"
           }
          }
         ],
         "layout": {
          "annotations": [
           {
            "showarrow": false,
            "text": "Time: 0.78s (Step: 79/100)",
            "x": 0.05,
            "xref": "paper",
            "y": 0.95,
            "yref": "paper"
           }
          ]
         },
         "name": "78"
        },
        {
         "data": [
          {
           "name": "Free Nodes",
           "type": "scatter3d",
           "x": {
            "bdata": "/ok8z3dunD9zBg9X92SgPxLe+eK3UqI/YpnJA/chpD+PzsGDRwCmPxAGllvHE6g/faOTabtpqj+Hlftxju2sP2TRUXRgca8/jc7kMqnjsD9IjJp+aO2xP0idmS6R3LI/4ONfJjLEsz/SkgwgFLu0P8iaOw/z0bU/",
            "dtype": "f8"
           },
           "y": {
            "bdata": "BCCfFikVMT86VB89hMtEP1gVc8EUElA/gQw7f46IUz+maHLHnatTP9cr8ihfClA/oEbTHFkSQj/44Crwm5RnvrLGRkb+EkK/g47dCJUKUL8+UGa0s6tTv+aSTTyMiFO/sojhkgYSUL/urMqtZ8tEv6pf45QNFTG/",
            "dtype": "f8"
           },
           "z": {
            "bdata": "Si2QAlIeWL/jjmRGh6Jwv7yzZc3j/32/cTk3Rd83hr9FwUw9iTSNv9WDE72blJG/5zI8l1+dk7/taOeteFeUv4+TgddQnZO/6Nna5YKUkb/dBrpGUDSNv0QtnxWqN4a/rrS9N5D/fb8UdJ87U6Jwv4vtQxIBHli/",
            "dtype": "f8"
           }
          },
          {
           "name": "Fixed Nodes",
           "type": "scatter3d",
           "x": {
            "bdata": "PLTIdr6fij8+30+Nl26SP11kO99PjZc/CtejcD0Ktz9SuB6F61G4P5qZmZmZmbk/",
            "dtype": "f8"
           },
           "y": {
            "bdata": "AAAAAAAAAAAAAAAAAAAAgAAAAAAAAACAAAAAAAAAAAAAAAAAAAAAAAAAAAAAAAAA",
            "dtype": "f8"
           },
           "z": {
            "bdata": "AAAAAAAAAAAAAAAAAAAAgAAAAAAAAACAAAAAAAAAAAAAAAAAAAAAAAAAAAAAAAAA",
            "dtype": "f8"
           }
          },
          {
           "name": "Edges",
           "type": "scatter3d",
           "x": [
            0.013000000000000005,
            0.01800000000000001,
            null,
            0.01800000000000001,
            0.02300000000000001,
            null,
            0.02300000000000001,
            0.02776515200015161,
            null,
            0.02776515200015161,
            0.032020310761720426,
            null,
            0.032020310761720426,
            0.03578734060004875,
            null,
            0.03578734060004875,
            0.039321631634083656,
            null,
            0.039321631634083656,
            0.042970881303429846,
            null,
            0.042970881303429846,
            0.04702589982026606,
            null,
            0.04702589982026606,
            0.051587921750814815,
            null,
            0.051587921750814815,
            0.05649991170302387,
            null,
            0.05649991170302387,
            0.06141187114636429,
            null,
            0.06141187114636429,
            0.06597383015178533,
            null,
            0.06597383015178533,
            0.0700288113680908,
            null,
            0.0700288113680908,
            0.0736780871171635,
            null,
            0.0736780871171635,
            0.0772124618232648,
            null,
            0.0772124618232648,
            0.08097959310959915,
            null,
            0.08097959310959915,
            0.08523482438941266,
            null,
            0.08523482438941266,
            0.09,
            null,
            0.09,
            0.095,
            null,
            0.095,
            0.1,
            null
           ],
           "y": [
            0,
            0,
            null,
            0,
            0,
            null,
            0,
            0.00026066067823338223,
            null,
            0.00026066067823338223,
            0.0006346126267496928,
            null,
            0.0006346126267496928,
            0.0009808733646406633,
            null,
            0.0009808733646406633,
            0.001192225606175851,
            null,
            0.001192225606175851,
            0.001200584489004211,
            null,
            0.001200584489004211,
            0.0009790353103962168,
            null,
            0.0009790353103962168,
            0.0005515036697493932,
            null,
            0.0005515036697493932,
            -4.392211218812117e-8,
            null,
            -4.392211218812117e-8,
            -0.0005515805792610433,
            null,
            -0.0005515805792610433,
            -0.0009790854851069737,
            null,
            -0.0009790854851069737,
            -0.0012006049088073702,
            null,
            -0.0012006049088073702,
            -0.0011922235000493774,
            null,
            -0.0011922235000493774,
            -0.000980860156709212,
            null,
            -0.000980860156709212,
            -0.0006345993275166642,
            null,
            -0.0006345993275166642,
            -0.0002606542738141602,
            null,
            -0.0002606542738141602,
            0,
            null,
            0,
            0,
            null,
            0,
            0,
            null
           ],
           "z": [
            0,
            0,
            null,
            0,
            0,
            null,
            0,
            -0.001472072685149,
            null,
            -0.001472072685149,
            -0.00406124917779824,
            null,
            -0.00406124917779824,
            -0.007324113705505061,
            null,
            -0.007324113705505061,
            -0.010848755168720388,
            null,
            -0.010848755168720388,
            -0.014260360892507715,
            null,
            -0.014260360892507715,
            -0.01716845838098265,
            null,
            -0.01716845838098265,
            -0.01915501938406097,
            null,
            -0.01915501938406097,
            -0.019864926923994487,
            null,
            -0.019864926923994487,
            -0.01915479960770799,
            null,
            -0.01915479960770799,
            -0.01716808822558305,
            null,
            -0.01716808822558305,
            -0.014259936483770936,
            null,
            -0.014259936483770936,
            -0.010848358902782913,
            null,
            -0.010848358902782913,
            -0.007323802328625435,
            null,
            -0.007323802328625435,
            -0.004061055305979461,
            null,
            -0.004061055305979461,
            -0.0014719973051445536,
            null,
            -0.0014719973051445536,
            0,
            null,
            0,
            0,
            null,
            0,
            0,
            null
           ]
          },
          {
           "i": [],
           "j": [],
           "k": [],
           "name": "Faces",
           "type": "mesh3d",
           "x": {
            "bdata": "PLTIdr6fij8+30+Nl26SP11kO99PjZc//ok8z3dunD9zBg9X92SgPxLe+eK3UqI/YpnJA/chpD+PzsGDRwCmPxAGllvHE6g/faOTabtpqj+Hlftxju2sP2TRUXRgca8/jc7kMqnjsD9IjJp+aO2xP0idmS6R3LI/4ONfJjLEsz/SkgwgFLu0P8iaOw/z0bU/CtejcD0Ktz9SuB6F61G4P5qZmZmZmbk/",
            "dtype": "f8"
           },
           "y": {
            "bdata": "AAAAAAAAAAAAAAAAAAAAgAAAAAAAAACABCCfFikVMT86VB89hMtEP1gVc8EUElA/gQw7f46IUz+maHLHnatTP9cr8ihfClA/oEbTHFkSQj/44Crwm5RnvrLGRkb+EkK/g47dCJUKUL8+UGa0s6tTv+aSTTyMiFO/sojhkgYSUL/urMqtZ8tEv6pf45QNFTG/AAAAAAAAAAAAAAAAAAAAAAAAAAAAAAAA",
            "dtype": "f8"
           },
           "z": {
            "bdata": "AAAAAAAAAAAAAAAAAAAAgAAAAAAAAACASi2QAlIeWL/jjmRGh6Jwv7yzZc3j/32/cTk3Rd83hr9FwUw9iTSNv9WDE72blJG/5zI8l1+dk7/taOeteFeUv4+TgddQnZO/6Nna5YKUkb/dBrpGUDSNv0QtnxWqN4a/rrS9N5D/fb8UdJ87U6Jwv4vtQxIBHli/AAAAAAAAAAAAAAAAAAAAAAAAAAAAAAAA",
            "dtype": "f8"
           }
          }
         ],
         "layout": {
          "annotations": [
           {
            "showarrow": false,
            "text": "Time: 0.79s (Step: 80/100)",
            "x": 0.05,
            "xref": "paper",
            "y": 0.95,
            "yref": "paper"
           }
          ]
         },
         "name": "79"
        },
        {
         "data": [
          {
           "name": "Free Nodes",
           "type": "scatter3d",
           "x": {
            "bdata": "rkJjQHxunD9Zff3yAWWgP8WiRT7RUqI/F8KJrCAipD9DItRsewCmP7ivclH4E6g/v3Wecdlpqj/S7pJXju2sP1/tXy5Cca8/1NV7j5DjsD+vKpBbTu2xPw71Cy983LI/BSDPWSXEsz/eP6fCDru0P7YRA+/x0bU/",
            "dtype": "f8"
           },
           "y": {
            "bdata": "0Vw3jWVUMT8cVnUQihhFP7sXUEKnTVA/jZtb7gLRUz9CKYU+mPRTP1GIpJfeRVA/KKd851ZVQj8Y3rVlKO5qvoCqcBsVVkK//voCuB5GUL/9o0aRtfRTvyU0A1kF0VO/RgSVlJtNUL+9CbyVbxhFvyBScSJLVDG/",
            "dtype": "f8"
           },
           "z": {
            "bdata": "YzsqRqoaWL8wzXG8XaBwv0Tzz1Oj/H2/D/R3R+U1hr9IMn/gYzKNvxwaARSBk5G/pe5uRUKck78SMfp1WlaUv55bVfsynJO/+Ia+UWeTkb8ZGnHIKDKNv+tXghOuNYa/y8kChkz8fb9Ym06mJ6Bwvz1rtQ9WGli/",
            "dtype": "f8"
           }
          },
          {
           "name": "Fixed Nodes",
           "type": "scatter3d",
           "x": {
            "bdata": "PLTIdr6fij8+30+Nl26SP11kO99PjZc/CtejcD0Ktz9SuB6F61G4P5qZmZmZmbk/",
            "dtype": "f8"
           },
           "y": {
            "bdata": "AAAAAAAAAAAAAAAAAAAAgAAAAAAAAACAAAAAAAAAAAAAAAAAAAAAAAAAAAAAAAAA",
            "dtype": "f8"
           },
           "z": {
            "bdata": "AAAAAAAAAAAAAAAAAAAAgAAAAAAAAACAAAAAAAAAAAAAAAAAAAAAAAAAAAAAAAAA",
            "dtype": "f8"
           }
          },
          {
           "name": "Edges",
           "type": "scatter3d",
           "x": [
            0.013000000000000005,
            0.01800000000000001,
            null,
            0.01800000000000001,
            0.02300000000000001,
            null,
            0.02300000000000001,
            0.027765218191066303,
            null,
            0.027765218191066303,
            0.03202062693776026,
            null,
            0.03202062693776026,
            0.035788096286358186,
            null,
            0.035788096286358186,
            0.03932287317445942,
            null,
            0.03932287317445942,
            0.04297242835497574,
            null,
            0.04297242835497574,
            0.047027358953840304,
            null,
            0.047027358953840304,
            0.05158881675672999,
            null,
            0.05158881675672999,
            0.056499908628635645,
            null,
            0.056499908628635645,
            0.061410968934036296,
            null,
            0.061410968934036296,
            0.06597236159344472,
            null,
            0.06597236159344472,
            0.07002725348881243,
            null,
            0.07002725348881243,
            0.07367683552361745,
            null,
            0.07367683552361745,
            0.07721169893841313,
            null,
            0.07721169893841313,
            0.08097927334097174,
            null,
            0.08097927334097174,
            0.08523475728276861,
            null,
            0.08523475728276861,
            0.09,
            null,
            0.09,
            0.095,
            null,
            0.095,
            0.1,
            null
           ],
           "y": [
            0,
            0,
            null,
            0,
            0,
            null,
            0,
            0.00026442984855408214,
            null,
            0.00026442984855408214,
            0.0006437944547694227,
            null,
            0.0006437944547694227,
            0.000995076502705568,
            null,
            0.000995076502705568,
            0.0012095001815681545,
            null,
            0.0012095001815681545,
            0.0012179838905291428,
            null,
            0.0012179838905291428,
            0.0009932206872425196,
            null,
            0.0009932206872425196,
            0.0005594896638047896,
            null,
            0.0005594896638047896,
            -5.016159995268278e-8,
            null,
            -5.016159995268278e-8,
            -0.0005595782339516547,
            null,
            -0.0005595782339516547,
            -0.000993280409644803,
            null,
            -0.000993280409644803,
            -0.0012180111999475767,
            null,
            -0.0012180111999475767,
            -0.0012095024322207406,
            null,
            -0.0012095024322207406,
            -0.0009950656261284037,
            null,
            -0.0009950656261284037,
            -0.0006437821243426217,
            null,
            -0.0006437821243426217,
            -0.00026442369784732307,
            null,
            -0.00026442369784732307,
            0,
            null,
            0,
            0,
            null,
            0,
            0,
            null
           ],
           "z": [
            0,
            0,
            null,
            0,
            0,
            null,
            0,
            -0.0014712012131529943,
            null,
            -0.0014712012131529943,
            -0.004059187084851687,
            null,
            -0.004059187084851687,
            -0.007321012494682592,
            null,
            -0.007321012494682592,
            -0.010844985240504838,
            null,
            -0.010844985240504838,
            -0.0142562678228383,
            null,
            -0.0142562678228383,
            -0.017164246412244663,
            null,
            -0.017164246412244663,
            -0.01915076779162796,
            null,
            -0.01915076779162796,
            -0.019860661936534525,
            null,
            -0.019860661936534525,
            -0.019150539961028216,
            null,
            -0.019150539961028216,
            -0.01716386257579125,
            null,
            -0.01716386257579125,
            -0.014255827538488796,
            null,
            -0.014255827538488796,
            -0.010844573946354038,
            null,
            -0.010844573946354038,
            -0.007320689124912193,
            null,
            -0.007320689124912193,
            -0.004058985597032848,
            null,
            -0.004058985597032848,
            -0.0014711227839458573,
            null,
            -0.0014711227839458573,
            0,
            null,
            0,
            0,
            null,
            0,
            0,
            null
           ]
          },
          {
           "i": [],
           "j": [],
           "k": [],
           "name": "Faces",
           "type": "mesh3d",
           "x": {
            "bdata": "PLTIdr6fij8+30+Nl26SP11kO99PjZc/rkJjQHxunD9Zff3yAWWgP8WiRT7RUqI/F8KJrCAipD9DItRsewCmP7ivclH4E6g/v3Wecdlpqj/S7pJXju2sP1/tXy5Cca8/1NV7j5DjsD+vKpBbTu2xPw71Cy983LI/BSDPWSXEsz/eP6fCDru0P7YRA+/x0bU/CtejcD0Ktz9SuB6F61G4P5qZmZmZmbk/",
            "dtype": "f8"
           },
           "y": {
            "bdata": "AAAAAAAAAAAAAAAAAAAAgAAAAAAAAACA0Vw3jWVUMT8cVnUQihhFP7sXUEKnTVA/jZtb7gLRUz9CKYU+mPRTP1GIpJfeRVA/KKd851ZVQj8Y3rVlKO5qvoCqcBsVVkK//voCuB5GUL/9o0aRtfRTvyU0A1kF0VO/RgSVlJtNUL+9CbyVbxhFvyBScSJLVDG/AAAAAAAAAAAAAAAAAAAAAAAAAAAAAAAA",
            "dtype": "f8"
           },
           "z": {
            "bdata": "AAAAAAAAAAAAAAAAAAAAgAAAAAAAAACAYzsqRqoaWL8wzXG8XaBwv0Tzz1Oj/H2/D/R3R+U1hr9IMn/gYzKNvxwaARSBk5G/pe5uRUKck78SMfp1WlaUv55bVfsynJO/+Ia+UWeTkb8ZGnHIKDKNv+tXghOuNYa/y8kChkz8fb9Ym06mJ6Bwvz1rtQ9WGli/AAAAAAAAAAAAAAAAAAAAAAAAAAAAAAAA",
            "dtype": "f8"
           }
          }
         ],
         "layout": {
          "annotations": [
           {
            "showarrow": false,
            "text": "Time: 0.80s (Step: 81/100)",
            "x": 0.05,
            "xref": "paper",
            "y": 0.95,
            "yref": "paper"
           }
          ]
         },
         "name": "80"
        },
        {
         "data": [
          {
           "name": "Free Nodes",
           "type": "scatter3d",
           "x": {
            "bdata": "LUikwIBunD90D0iyDGWgP4uUG+3qUqI/ahZz3UoipD9q/4T+rwCmPxNNkeUpFKg/AbFk2vdpqj8jPcE8ju2sP7C6uoYjca8/NeNNnHfjsD+UXnjjM+2xP3xGuOpm3LI/Xy/6YhjEsz+4v1RTCbu0P2UG9Mrw0bU/",
            "dtype": "f8"
           },
           "y": {
            "bdata": "rz8mkoOTMT+yijrGa2VFPx+oad0eiVA/GL4dE1gZVD8frnrmdD1UPyjn8xdIgVA/4nX3IUSYQj8gEtqvzOxpvtltEMb5mEK/PePmZ4OBUL+1j6IajT1Uv1ZhVKZVGVS/+WEBRQ+JUL/Xgu9ETGVFv1ewnRtlkzG/",
            "dtype": "f8"
           },
           "z": {
            "bdata": "UnkgKfYWWL8PsavlLJ5wv16jq+RX+X2/NBrCo+Qzhr/7m4FSNzCNv68aN71ikpG/hAzFQyGbk78LIYWQOFWUvxna6HQRm5O/jpgJGkiSkb8cfEMy+i+Nv0/K7oSrM4a/yRAMCf74fb9Jc6vf9J1wv9V689meFli/",
            "dtype": "f8"
           }
          },
          {
           "name": "Fixed Nodes",
           "type": "scatter3d",
           "x": {
            "bdata": "PLTIdr6fij8+30+Nl26SP11kO99PjZc/CtejcD0Ktz9SuB6F61G4P5qZmZmZmbk/",
            "dtype": "f8"
           },
           "y": {
            "bdata": "AAAAAAAAAAAAAAAAAAAAgAAAAAAAAACAAAAAAAAAAAAAAAAAAAAAAAAAAAAAAAAA",
            "dtype": "f8"
           },
           "z": {
            "bdata": "AAAAAAAAAAAAAAAAAAAAgAAAAAAAAACAAAAAAAAAAAAAAAAAAAAAAAAAAAAAAAAA",
            "dtype": "f8"
           }
          },
          {
           "name": "Edges",
           "type": "scatter3d",
           "x": [
            0.013000000000000005,
            0.01800000000000001,
            null,
            0.01800000000000001,
            0.02300000000000001,
            null,
            0.02300000000000001,
            0.027765285261075846,
            null,
            0.027765285261075846,
            0.03202094723022145,
            null,
            0.03202094723022145,
            0.03578886169797454,
            null,
            0.03578886169797454,
            0.039324130566041074,
            null,
            0.039324130566041074,
            0.04297399503638995,
            null,
            0.04297399503638995,
            0.04702883651102687,
            null,
            0.04702883651102687,
            0.051589723023740326,
            null,
            0.051589723023740326,
            0.05649990550647945,
            null,
            0.05649990550647945,
            0.061410055347882575,
            null,
            0.061410055347882575,
            0.06597087446233448,
            null,
            0.06597087446233448,
            0.07002567580672753,
            null,
            0.07002567580672753,
            0.07367556791748514,
            null,
            0.07367556791748514,
            0.07721092621266966,
            null,
            0.07721092621266966,
            0.08097894939851258,
            null,
            0.08097894939851258,
            0.08523468928253804,
            null,
            0.08523468928253804,
            0.09,
            null,
            0.09,
            0.095,
            null,
            0.095,
            0.1,
            null
           ],
           "y": [
            0,
            0,
            null,
            0,
            0,
            null,
            0,
            0.00026819193058091444,
            null,
            0.00026819193058091444,
            0.0006529594652032371,
            null,
            0.0006529594652032371,
            0.0010092545905089412,
            null,
            0.0010092545905089412,
            0.0012267456154083697,
            null,
            0.0012267456154083697,
            0.0012353555302223663,
            null,
            0.0012353555302223663,
            0.0010073856390690559,
            null,
            0.0010073856390690559,
            0.0005674679450142185,
            null,
            0.0005674679450142185,
            -4.828907227992108e-8,
            null,
            -4.828907227992108e-8,
            -0.000567552528198896,
            null,
            -0.000567552528198896,
            -0.0010074408779543042,
            null,
            -0.0010074408779543042,
            -0.0012353780717058009,
            null,
            -0.0012353780717058009,
            -0.0012267433569999784,
            null,
            -0.0012267433569999784,
            -0.0010092400662157204,
            null,
            -0.0010092400662157204,
            -0.0006529447945205724,
            null,
            -0.0006529447945205724,
            -0.00026818483785607167,
            null,
            -0.00026818483785607167,
            0,
            null,
            0,
            0,
            null,
            0,
            0,
            null
           ],
           "z": [
            0,
            0,
            null,
            0,
            0,
            null,
            0,
            -0.0014703182137122029,
            null,
            -0.0014703182137122029,
            -0.004057097796913447,
            null,
            -0.004057097796913447,
            -0.007317870457634294,
            null,
            -0.007317870457634294,
            -0.010841165778640784,
            null,
            -0.010841165778640784,
            -0.0142521211675568,
            null,
            -0.0142521211675568,
            -0.01715997962835541,
            null,
            -0.01715997962835541,
            -0.019146461259208283,
            null,
            -0.019146461259208283,
            -0.0198563421447782,
            null,
            -0.0198563421447782,
            -0.01914622570094524,
            null,
            -0.01914622570094524,
            -0.01715958269996825,
            null,
            -0.01715958269996825,
            -0.014251665743755075,
            null,
            -0.014251665743755075,
            -0.010840740198408442,
            null,
            -0.010840740198408442,
            -0.0073175357108576445,
            null,
            -0.0073175357108576445,
            -0.004056889093331525,
            null,
            -0.004056889093331525,
            -0.001470236900608481,
            null,
            -0.001470236900608481,
            0,
            null,
            0,
            0,
            null,
            0,
            0,
            null
           ]
          },
          {
           "i": [],
           "j": [],
           "k": [],
           "name": "Faces",
           "type": "mesh3d",
           "x": {
            "bdata": "PLTIdr6fij8+30+Nl26SP11kO99PjZc/LUikwIBunD90D0iyDGWgP4uUG+3qUqI/ahZz3UoipD9q/4T+rwCmPxNNkeUpFKg/AbFk2vdpqj8jPcE8ju2sP7C6uoYjca8/NeNNnHfjsD+UXnjjM+2xP3xGuOpm3LI/Xy/6YhjEsz+4v1RTCbu0P2UG9Mrw0bU/CtejcD0Ktz9SuB6F61G4P5qZmZmZmbk/",
            "dtype": "f8"
           },
           "y": {
            "bdata": "AAAAAAAAAAAAAAAAAAAAgAAAAAAAAACArz8mkoOTMT+yijrGa2VFPx+oad0eiVA/GL4dE1gZVD8frnrmdD1UPyjn8xdIgVA/4nX3IUSYQj8gEtqvzOxpvtltEMb5mEK/PePmZ4OBUL+1j6IajT1Uv1ZhVKZVGVS/+WEBRQ+JUL/Xgu9ETGVFv1ewnRtlkzG/AAAAAAAAAAAAAAAAAAAAAAAAAAAAAAAA",
            "dtype": "f8"
           },
           "z": {
            "bdata": "AAAAAAAAAAAAAAAAAAAAgAAAAAAAAACAUnkgKfYWWL8PsavlLJ5wv16jq+RX+X2/NBrCo+Qzhr/7m4FSNzCNv68aN71ikpG/hAzFQyGbk78LIYWQOFWUvxna6HQRm5O/jpgJGkiSkb8cfEMy+i+Nv0/K7oSrM4a/yRAMCf74fb9Jc6vf9J1wv9V689meFli/AAAAAAAAAAAAAAAAAAAAAAAAAAAAAAAA",
            "dtype": "f8"
           }
          }
         ],
         "layout": {
          "annotations": [
           {
            "showarrow": false,
            "text": "Time: 0.81s (Step: 82/100)",
            "x": 0.05,
            "xref": "paper",
            "y": 0.95,
            "yref": "paper"
           }
          ]
         },
         "name": "81"
        },
        {
         "data": [
          {
           "name": "Free Nodes",
           "type": "scatter3d",
           "x": {
            "bdata": "rmDrT4VunD8gHbeUF2WgP0+l7O4EU6I/iSiPlXUipD8tV5Y35QCmP++tvRZcFKg/N6IloxZqqj9NUIYhju2sP2v7In4Eca8/2JD1WV7jsD8MFfMWGe2xP1G/GmJR3LI/xFApQgvEsz8jOzHSA7u0P22bE6Pv0bU/",
            "dtype": "f8"
           },
           "y": {
            "bdata": "/7COlYLSMT8nZ1qoKLJFP5XfHP56xFA/YiyxKI1hVD/6cHvbMoZUP98Wa72avFA/JpKzEx/bQj/I3v6jnetkvkaO70ut20K/V1WCZsO8UL/TfGhxOoZUvxI1dCV9YVS/eu7klGHEUL9tS9KY/bFFv6PWGFtb0jG/",
            "dtype": "f8"
           },
           "z": {
            "bdata": "cV40vzUTWL+hDgXO9JtwvxIpNJIB9n2/oQJNZd0xhr8D56qfAy6Nv9FQI79AkZG/fJ7BmPyZk7+fsvcDE1SUv9OxcErsmZO/84+eRCWRkb/vnTKPxC2NvyZ4yXOiMYa/4j7q0KT1fb9noUPyuptwv9k0d4LbEli/",
            "dtype": "f8"
           }
          },
          {
           "name": "Fixed Nodes",
           "type": "scatter3d",
           "x": {
            "bdata": "PLTIdr6fij8+30+Nl26SP11kO99PjZc/CtejcD0Ktz9SuB6F61G4P5qZmZmZmbk/",
            "dtype": "f8"
           },
           "y": {
            "bdata": "AAAAAAAAAAAAAAAAAAAAgAAAAAAAAACAAAAAAAAAAAAAAAAAAAAAAAAAAAAAAAAA",
            "dtype": "f8"
           },
           "z": {
            "bdata": "AAAAAAAAAAAAAAAAAAAAgAAAAAAAAACAAAAAAAAAAAAAAAAAAAAAAAAAAAAAAAAA",
            "dtype": "f8"
           }
          },
          {
           "name": "Edges",
           "type": "scatter3d",
           "x": [
            0.013000000000000005,
            0.01800000000000001,
            null,
            0.01800000000000001,
            0.02300000000000001,
            null,
            0.02300000000000001,
            0.027765353205581426,
            null,
            0.027765353205581426,
            0.0320212716138093,
            null,
            0.0320212716138093,
            0.03578963676984392,
            null,
            0.03578963676984392,
            0.03932540369676569,
            null,
            0.03932540369676569,
            0.04297558120303644,
            null,
            0.04297558120303644,
            0.047030332351677966,
            null,
            0.047030332351677966,
            0.05159064046421629,
            null,
            0.05159064046421629,
            0.05649990233646971,
            null,
            0.05649990233646971,
            0.06140913047555937,
            null,
            0.06140913047555937,
            0.06596936889906446,
            null,
            0.06596936889906446,
            0.07002407846728803,
            null,
            0.07002407846728803,
            0.07367428441170644,
            null,
            0.07367428441170644,
            0.07721014371174123,
            null,
            0.07721014371174123,
            0.08097862130783233,
            null,
            0.08097862130783233,
            0.08523462039339132,
            null,
            0.08523462039339132,
            0.09,
            null,
            0.09,
            0.095,
            null,
            0.095,
            0.1,
            null
           ],
           "y": [
            0,
            0,
            null,
            0,
            0,
            null,
            0,
            0.00027194679347065926,
            null,
            0.00027194679347065926,
            0.0006621073268491027,
            null,
            0.0006621073268491027,
            0.0010234070873149416,
            null,
            0.0010234070873149416,
            0.0012439611916928097,
            null,
            0.0012439611916928097,
            0.0012526985791999055,
            null,
            0.0012526985791999055,
            0.0010215293056474101,
            null,
            0.0010215293056474101,
            0.0005754377119982542,
            null,
            0.0005754377119982542,
            -3.896723343950047e-8,
            null,
            -3.896723343950047e-8,
            -0.0005755039381906766,
            null,
            -0.0005755039381906766,
            -0.0010215671736991305,
            null,
            -0.0010215671736991305,
            -0.0012527056438854003,
            null,
            -0.0012527056438854003,
            -0.0012439462787512995,
            null,
            -0.0012439462787512995,
            -0.0010233834214678204,
            null,
            -0.0010233834214678204,
            -0.0006620872751617997,
            null,
            -0.0006620872751617997,
            -0.0002719376599061662,
            null,
            -0.0002719376599061662,
            0,
            null,
            0,
            0,
            null,
            0,
            0,
            null
           ],
           "z": [
            0,
            0,
            null,
            0,
            0,
            null,
            0,
            -0.0014694237586975435,
            null,
            -0.0014694237586975435,
            -0.004054981487857796,
            null,
            -0.004054981487857796,
            -0.0073146878596708365,
            null,
            -0.0073146878596708365,
            -0.010837297109561663,
            null,
            -0.010837297109561663,
            -0.01424792128578956,
            null,
            -0.01424792128578956,
            -0.017155658403525124,
            null,
            -0.017155658403525124,
            -0.019142100165849815,
            null,
            -0.019142100165849815,
            -0.01985196792331811,
            null,
            -0.01985196792331811,
            -0.019141857188673072,
            null,
            -0.019141857188673072,
            -0.017155248940653633,
            null,
            -0.017155248940653633,
            -0.014247451419875793,
            null,
            -0.014247451419875793,
            -0.010836857946909428,
            null,
            -0.010836857946909428,
            -0.007314342320242169,
            null,
            -0.007314342320242169,
            -0.0040547659484463155,
            null,
            -0.0040547659484463155,
            -0.0014693397186989392,
            null,
            -0.0014693397186989392,
            0,
            null,
            0,
            0,
            null,
            0,
            0,
            null
           ]
          },
          {
           "i": [],
           "j": [],
           "k": [],
           "name": "Faces",
           "type": "mesh3d",
           "x": {
            "bdata": "PLTIdr6fij8+30+Nl26SP11kO99PjZc/rmDrT4VunD8gHbeUF2WgP0+l7O4EU6I/iSiPlXUipD8tV5Y35QCmP++tvRZcFKg/N6IloxZqqj9NUIYhju2sP2v7In4Eca8/2JD1WV7jsD8MFfMWGe2xP1G/GmJR3LI/xFApQgvEsz8jOzHSA7u0P22bE6Pv0bU/CtejcD0Ktz9SuB6F61G4P5qZmZmZmbk/",
            "dtype": "f8"
           },
           "y": {
            "bdata": "AAAAAAAAAAAAAAAAAAAAgAAAAAAAAACA/7COlYLSMT8nZ1qoKLJFP5XfHP56xFA/YiyxKI1hVD/6cHvbMoZUP98Wa72avFA/JpKzEx/bQj/I3v6jnetkvkaO70ut20K/V1WCZsO8UL/TfGhxOoZUvxI1dCV9YVS/eu7klGHEUL9tS9KY/bFFv6PWGFtb0jG/AAAAAAAAAAAAAAAAAAAAAAAAAAAAAAAA",
            "dtype": "f8"
           },
           "z": {
            "bdata": "AAAAAAAAAAAAAAAAAAAAgAAAAAAAAACAcV40vzUTWL+hDgXO9JtwvxIpNJIB9n2/oQJNZd0xhr8D56qfAy6Nv9FQI79AkZG/fJ7BmPyZk7+fsvcDE1SUv9OxcErsmZO/84+eRCWRkb/vnTKPxC2NvyZ4yXOiMYa/4j7q0KT1fb9noUPyuptwv9k0d4LbEli/AAAAAAAAAAAAAAAAAAAAAAAAAAAAAAAA",
            "dtype": "f8"
           }
          }
         ],
         "layout": {
          "annotations": [
           {
            "showarrow": false,
            "text": "Time: 0.82s (Step: 83/100)",
            "x": 0.05,
            "xref": "paper",
            "y": 0.95,
            "yref": "paper"
           }
          ]
         },
         "name": "82"
        },
        {
         "data": [
          {
           "name": "Free Nodes",
           "type": "scatter3d",
           "x": {
            "bdata": "Hbsj7olunD9F5hGaImWgP257J0MfU6I/Wyjk06AipD8DI8YWGwGmP6jcv+OOFKg/EMUdyzVqqj+Re+AFju2sPzIaWRXlcK8/bJUNyUTjsD+RVKD2/eyxP+h9r5U73LI/mJKk9/3Dsz+Jq1g//rq0P67fZnfu0bU/",
            "dtype": "f8"
           },
           "y": {
            "bdata": "SyKI52ERMj+b/v7Tv/5FP0CZ7ua6/1A/DyoXLaGpVD8J53Ho0M5UP59S3jjV91A/2V0EJuUdQz9g43rOZf9YvuP69ZMxHkO/+WMnZ9/3UL/su/UKvs5Uv6od7Bd8qVS/jT1yoJL/UL+dqfmeg/5Fv2m6aN4tETK/",
            "dtype": "f8"
           },
           "z": {
            "bdata": "SvUWHmkPWL+gE56CtZlwv5VvdnCg8n2/RYJrmM8vhr+HwXHVyCuNv+56qyAbkJG/o2AwS9SYk78FkczW6VKUv4wI74HDmJO/E5X91v6Pkb8OYEnphyuNv31FAemSL4a/vI4Z7EDyfb9lup/neZlwv913DRkMD1i/",
            "dtype": "f8"
           }
          },
          {
           "name": "Fixed Nodes",
           "type": "scatter3d",
           "x": {
            "bdata": "PLTIdr6fij8+30+Nl26SP11kO99PjZc/CtejcD0Ktz9SuB6F61G4P5qZmZmZmbk/",
            "dtype": "f8"
           },
           "y": {
            "bdata": "AAAAAAAAAAAAAAAAAAAAgAAAAAAAAACAAAAAAAAAAAAAAAAAAAAAAAAAAAAAAAAA",
            "dtype": "f8"
           },
           "z": {
            "bdata": "AAAAAAAAAAAAAAAAAAAAgAAAAAAAAACAAAAAAAAAAAAAAAAAAAAAAAAAAAAAAAAA",
            "dtype": "f8"
           }
          },
          {
           "name": "Edges",
           "type": "scatter3d",
           "x": [
            0.013000000000000005,
            0.01800000000000001,
            null,
            0.01800000000000001,
            0.02300000000000001,
            null,
            0.02300000000000001,
            0.027765422019849873,
            null,
            0.027765422019849873,
            0.03202160006271674,
            null,
            0.03202160006271674,
            0.03579042143586873,
            null,
            0.03579042143586873,
            0.03932669245303152,
            null,
            0.03932669245303152,
            0.04297718670847497,
            null,
            0.04297718670847497,
            0.047031846333930816,
            null,
            0.047031846333930816,
            0.051591568989247105,
            null,
            0.051591568989247105,
            0.056499899117844816,
            null,
            0.056499899117844816,
            0.06140819440456759,
            null,
            0.06140819440456759,
            0.06596784504434589,
            null,
            0.06596784504434589,
            0.0700224616160361,
            null,
            0.0700224616160361,
            0.07367298511916653,
            null,
            0.07367298511916653,
            0.07720935150116259,
            null,
            0.07720935150116259,
            0.08097828909437345,
            null,
            0.08097828909437345,
            0.08523455061992877,
            null,
            0.08523455061992877,
            0.09,
            null,
            0.09,
            0.095,
            null,
            0.095,
            0.1,
            null
           ],
           "y": [
            0,
            0,
            null,
            0,
            0,
            null,
            0,
            0.00027569427723553715,
            null,
            0.00027569427723553715,
            0.0006712376270953836,
            null,
            0.0006712376270953836,
            0.001037533303795593,
            null,
            0.001037533303795593,
            0.0012611459718409079,
            null,
            0.0012611459718409079,
            0.0012700119130201768,
            null,
            0.0012700119130201768,
            0.0010356504676326884,
            null,
            0.0010356504676326884,
            0.00058339775935939,
            null,
            0.00058339775935939,
            -2.3280873144850387e-8,
            null,
            -2.3280873144850387e-8,
            -0.000583433349603837,
            null,
            -0.000583433349603837,
            -0.0010356599492438153,
            null,
            -0.0010356599492438153,
            -0.001269994343455978,
            null,
            -0.001269994343455978,
            -0.0012611114358963373,
            null,
            -0.0012611114358963373,
            -0.0010374957944668556,
            null,
            -0.0010374957944668556,
            -0.0006712095909738206,
            null,
            -0.0006712095909738206,
            -0.00027568216174503904,
            null,
            -0.00027568216174503904,
            0,
            null,
            0,
            0,
            null,
            0,
            0,
            null
           ],
           "z": [
            0,
            0,
            null,
            0,
            0,
            null,
            0,
            -0.0014685179270224774,
            null,
            -0.0014685179270224774,
            -0.004052838348688775,
            null,
            -0.004052838348688775,
            -0.007311464992564872,
            null,
            -0.007311464992564872,
            -0.010833379591930323,
            null,
            -0.010833379591930323,
            -0.014243668569378766,
            null,
            -0.014243668569378766,
            -0.017151283139237465,
            null,
            -0.017151283139237465,
            -0.01913768490712243,
            null,
            -0.01913768490712243,
            -0.019847539649291885,
            null,
            -0.019847539649291885,
            -0.019137434773945958,
            null,
            -0.019137434773945958,
            -0.017150861618024992,
            null,
            -0.017150861618024992,
            -0.014243184859125815,
            null,
            -0.014243184859125815,
            -0.01083292745184638,
            null,
            -0.01083292745184638,
            -0.007311109163854187,
            null,
            -0.007311109163854187,
            -0.004052616301108179,
            null,
            -0.004052616301108179,
            -0.0014684312956982839,
            null,
            -0.0014684312956982839,
            0,
            null,
            0,
            0,
            null,
            0,
            0,
            null
           ]
          },
          {
           "i": [],
           "j": [],
           "k": [],
           "name": "Faces",
           "type": "mesh3d",
           "x": {
            "bdata": "PLTIdr6fij8+30+Nl26SP11kO99PjZc/Hbsj7olunD9F5hGaImWgP257J0MfU6I/Wyjk06AipD8DI8YWGwGmP6jcv+OOFKg/EMUdyzVqqj+Re+AFju2sPzIaWRXlcK8/bJUNyUTjsD+RVKD2/eyxP+h9r5U73LI/mJKk9/3Dsz+Jq1g//rq0P67fZnfu0bU/CtejcD0Ktz9SuB6F61G4P5qZmZmZmbk/",
            "dtype": "f8"
           },
           "y": {
            "bdata": "AAAAAAAAAAAAAAAAAAAAgAAAAAAAAACASyKI52ERMj+b/v7Tv/5FP0CZ7ua6/1A/DyoXLaGpVD8J53Ho0M5UP59S3jjV91A/2V0EJuUdQz9g43rOZf9YvuP69ZMxHkO/+WMnZ9/3UL/su/UKvs5Uv6od7Bd8qVS/jT1yoJL/UL+dqfmeg/5Fv2m6aN4tETK/AAAAAAAAAAAAAAAAAAAAAAAAAAAAAAAA",
            "dtype": "f8"
           },
           "z": {
            "bdata": "AAAAAAAAAAAAAAAAAAAAgAAAAAAAAACASvUWHmkPWL+gE56CtZlwv5VvdnCg8n2/RYJrmM8vhr+HwXHVyCuNv+56qyAbkJG/o2AwS9SYk78FkczW6VKUv4wI74HDmJO/E5X91v6Pkb8OYEnphyuNv31FAemSL4a/vI4Z7EDyfb9lup/neZlwv913DRkMD1i/AAAAAAAAAAAAAAAAAAAAAAAAAAAAAAAA",
            "dtype": "f8"
           }
          }
         ],
         "layout": {
          "annotations": [
           {
            "showarrow": false,
            "text": "Time: 0.83s (Step: 84/100)",
            "x": 0.05,
            "xref": "paper",
            "y": 0.95,
            "yref": "paper"
           }
          ]
         },
         "name": "83"
        },
        {
         "data": [
          {
           "name": "Free Nodes",
           "type": "scatter3d",
           "x": {
            "bdata": "e/83m45unD8ppx7CLWWgP2aoOOk5U6I/vi91l8wipD/2us6aUQGmP5hwXEvCFKg/1geHUVVqqj8dyMzpje2sP+1QHU3FcK8/A9Yw6irjsD8IUCCD4uyxP5yk8oUl3LI/UOOzg/DDsz8u5eaa+Lq0P6TR8kft0bU/",
            "dtype": "f8"
           },
           "y": {
            "bdata": "1jSLvyBQMj8DGNpDMEtGP63m2brdOlE/hj717pLxVD/nIkCZTRdVP/Z0YO71MlE/yfcrFZNgQz8AlI7J77Ymvrv7ITWJYEO/67iObNgyUb8DReSeGBdVv+R9zPFS8VS/U3UEpqI6Ub+Sbt2K3kpGv5Muf77cTzK/",
            "dtype": "f8"
           },
           "z": {
            "bdata": "Wa4mXZALWL9d/psRb5dwvzmfEpU0732/wQNmSrsthr9bT0YChymNv5yLHenxjpG/C6QcYqiXk7+iJokPvVGUv5G5OyGXl5O/01hT1tSOkb8xvcBJRCmNv7Nws+x8LYa/RJu9Z9Lufb8j9GnIMZdwv5Z5FqwwC1i/",
            "dtype": "f8"
           }
          },
          {
           "name": "Fixed Nodes",
           "type": "scatter3d",
           "x": {
            "bdata": "PLTIdr6fij8+30+Nl26SP11kO99PjZc/CtejcD0Ktz9SuB6F61G4P5qZmZmZmbk/",
            "dtype": "f8"
           },
           "y": {
            "bdata": "AAAAAAAAAAAAAAAAAAAAgAAAAAAAAACAAAAAAAAAAAAAAAAAAAAAAAAAAAAAAAAA",
            "dtype": "f8"
           },
           "z": {
            "bdata": "AAAAAAAAAAAAAAAAAAAAgAAAAAAAAACAAAAAAAAAAAAAAAAAAAAAAAAAAAAAAAAA",
            "dtype": "f8"
           }
          },
          {
           "name": "Edges",
           "type": "scatter3d",
           "x": [
            0.013000000000000005,
            0.01800000000000001,
            null,
            0.01800000000000001,
            0.02300000000000001,
            null,
            0.02300000000000001,
            0.027765491699028182,
            null,
            0.027765491699028182,
            0.03202193255067549,
            null,
            0.03202193255067549,
            0.03579121562900482,
            null,
            0.03579121562900482,
            0.03932799671983343,
            null,
            0.03932799671983343,
            0.04297881140461428,
            null,
            0.04297881140461428,
            0.04703337831435411,
            null,
            0.04703337831435411,
            0.051592508508761334,
            null,
            0.051592508508761334,
            0.05649989584925683,
            null,
            0.05649989584925683,
            0.06140724722232158,
            null,
            0.06140724722232158,
            0.06596630303905475,
            null,
            0.06596630303905475,
            0.07002082539867172,
            null,
            0.07002082539867172,
            0.07367167015276482,
            null,
            0.07367167015276482,
            0.07720854964635504,
            null,
            0.07720854964635504,
            0.08097795278344641,
            null,
            0.08097795278344641,
            0.08523447996669248,
            null,
            0.08523447996669248,
            0.09,
            null,
            0.09,
            0.095,
            null,
            0.095,
            0.1,
            null
           ],
           "y": [
            0,
            0,
            null,
            0,
            0,
            null,
            0,
            0.00027943419949567666,
            null,
            0.00027943419949567666,
            0.000680349890630039,
            null,
            0.000680349890630039,
            0.0010516324358874993,
            null,
            0.0010516324358874993,
            0.0012782988449834567,
            null,
            0.0012782988449834567,
            0.001287294177929771,
            null,
            0.001287294177929771,
            0.0010497476264455497,
            null,
            0.0010497476264455497,
            0.0005913465668922975,
            null,
            0.0005913465668922975,
            -2.6443270459207816e-9,
            null,
            -2.6443270459207816e-9,
            -0.0005913419684161406,
            null,
            -0.0005913419684161406,
            -0.0010497201458111126,
            null,
            -0.0010497201458111126,
            -0.001287244838355684,
            null,
            -0.001287244838355684,
            -0.0012782392506734902,
            null,
            -0.0012782392506734902,
            -0.0010515774120628165,
            null,
            -0.0010515774120628165,
            -0.0006803118355764462,
            null,
            -0.0006803118355764462,
            -0.00027941836605969403,
            null,
            -0.00027941836605969403,
            0,
            null,
            0,
            0,
            null,
            0,
            0,
            null
           ],
           "z": [
            0,
            0,
            null,
            0,
            0,
            null,
            0,
            -0.0014676008037025816,
            null,
            -0.0014676008037025816,
            -0.004050668585250242,
            null,
            -0.004050668585250242,
            -0.007308202171010519,
            null,
            -0.007308202171010519,
            -0.010829413612329366,
            null,
            -0.010829413612329366,
            -0.014239363438526878,
            null,
            -0.014239363438526878,
            -0.017146854260669295,
            null,
            -0.017146854260669295,
            -0.019133215893052873,
            null,
            -0.019133215893052873,
            -0.019843057702280682,
            null,
            -0.019843057702280682,
            -0.01913295879688232,
            null,
            -0.01913295879688232,
            -0.017146421033282188,
            null,
            -0.017146421033282188,
            -0.014238866329917417,
            null,
            -0.014238866329917417,
            -0.010828948949374561,
            null,
            -0.010828948949374561,
            -0.007307836432892515,
            null,
            -0.007307836432892515,
            -0.004050440277407782,
            null,
            -0.004050440277407782,
            -0.0014675116839054417,
            null,
            -0.0014675116839054417,
            0,
            null,
            0,
            0,
            null,
            0,
            0,
            null
           ]
          },
          {
           "i": [],
           "j": [],
           "k": [],
           "name": "Faces",
           "type": "mesh3d",
           "x": {
            "bdata": "PLTIdr6fij8+30+Nl26SP11kO99PjZc/e/83m45unD8ppx7CLWWgP2aoOOk5U6I/vi91l8wipD/2us6aUQGmP5hwXEvCFKg/1geHUVVqqj8dyMzpje2sP+1QHU3FcK8/A9Yw6irjsD8IUCCD4uyxP5yk8oUl3LI/UOOzg/DDsz8u5eaa+Lq0P6TR8kft0bU/CtejcD0Ktz9SuB6F61G4P5qZmZmZmbk/",
            "dtype": "f8"
           },
           "y": {
            "bdata": "AAAAAAAAAAAAAAAAAAAAgAAAAAAAAACA1jSLvyBQMj8DGNpDMEtGP63m2brdOlE/hj717pLxVD/nIkCZTRdVP/Z0YO71MlE/yfcrFZNgQz8AlI7J77Ymvrv7ITWJYEO/67iObNgyUb8DReSeGBdVv+R9zPFS8VS/U3UEpqI6Ub+Sbt2K3kpGv5Muf77cTzK/AAAAAAAAAAAAAAAAAAAAAAAAAAAAAAAA",
            "dtype": "f8"
           },
           "z": {
            "bdata": "AAAAAAAAAAAAAAAAAAAAgAAAAAAAAACAWa4mXZALWL9d/psRb5dwvzmfEpU0732/wQNmSrsthr9bT0YChymNv5yLHenxjpG/C6QcYqiXk7+iJokPvVGUv5G5OyGXl5O/01hT1tSOkb8xvcBJRCmNv7Nws+x8LYa/RJu9Z9Lufb8j9GnIMZdwv5Z5FqwwC1i/AAAAAAAAAAAAAAAAAAAAAAAAAAAAAAAA",
            "dtype": "f8"
           }
          }
         ],
         "layout": {
          "annotations": [
           {
            "showarrow": false,
            "text": "Time: 0.84s (Step: 85/100)",
            "x": 0.05,
            "xref": "paper",
            "y": 0.95,
            "yref": "paper"
           }
          ]
         },
         "name": "84"
        },
        {
         "data": [
          {
           "name": "Free Nodes",
           "type": "scatter3d",
           "x": {
            "bdata": "YmUSV5NunD+dv6IMOWWgPzvyiuBUU6I/SadC3/gipD9IRmfCiAGmPxr5VEz2FKg/3CSZNXVqqj/HO0fNje2sP0DlLyalcK8/YYT6vRDjsD8YhxO9xuyxP5t5YDMP3LI/Ziuf5uLDsz+npvfk8rq0P01kvBTs0bU/",
            "dtype": "f8"
           },
           "y": {
            "bdata": "EMYCRb6OMj+kxwXceJdGP+9nEYjidVE/YrORHWE5VT94BtJPp19VP/Qprg77bVE/6/YkKSWjQz8Q6d9bduBWPkMmwT23okO//cNur69tUb8+bvsRS19Vv4APs0kCOVW/5VJg+5F1Ub+kavqpDpdGv+BYKydojjK/",
            "dtype": "f8"
           },
           "z": {
            "bdata": "KTEWlasHWL8S0/KJIZVwv0Up6Ba+632/QG5HiaArhr/Eil41PieNv5l6GiDFjZG/vijF5HiWk7/KK720jFCUv4abDy5nlpO/tGmNR6eNkb+7yDG5+SaNv9QwXYZgK4a/FOvyT1nrfb+c3KKc4pRwv3te3EhJB1i/",
            "dtype": "f8"
           }
          },
          {
           "name": "Fixed Nodes",
           "type": "scatter3d",
           "x": {
            "bdata": "PLTIdr6fij8+30+Nl26SP11kO99PjZc/CtejcD0Ktz9SuB6F61G4P5qZmZmZmbk/",
            "dtype": "f8"
           },
           "y": {
            "bdata": "AAAAAAAAAAAAAAAAAAAAgAAAAAAAAACAAAAAAAAAAAAAAAAAAAAAAAAAAAAAAAAA",
            "dtype": "f8"
           },
           "z": {
            "bdata": "AAAAAAAAAAAAAAAAAAAAgAAAAAAAAACAAAAAAAAAAAAAAAAAAAAAAAAAAAAAAAAA",
            "dtype": "f8"
           }
          },
          {
           "name": "Edges",
           "type": "scatter3d",
           "x": [
            0.013000000000000005,
            0.01800000000000001,
            null,
            0.01800000000000001,
            0.02300000000000001,
            null,
            0.02300000000000001,
            0.027765562238163517,
            null,
            0.027765562238163517,
            0.032022269051025655,
            null,
            0.032022269051025655,
            0.03579201928139183,
            null,
            0.03579201928139183,
            0.0393293163809419,
            null,
            0.0393293163809419,
            0.04298045514191223,
            null,
            0.04298045514191223,
            0.0470349281481381,
            null,
            0.0470349281481381,
            0.05159345893168574,
            null,
            0.05159345893168574,
            0.05649989252889714,
            null,
            0.05649989252889714,
            0.061406289016256554,
            null,
            0.061406289016256554,
            0.06596474302433954,
            null,
            0.06596474302433954,
            0.07001916996116753,
            null,
            0.07001916996116753,
            0.07367033962552798,
            null,
            0.07367033962552798,
            0.07720773821271862,
            null,
            0.07720773821271862,
            0.08097761240028466,
            null,
            0.08097761240028466,
            0.08523440843818371,
            null,
            0.08523440843818371,
            0.09,
            null,
            0.09,
            0.095,
            null,
            0.095,
            0.1,
            null
           ],
           "y": [
            0,
            0,
            null,
            0,
            0,
            null,
            0,
            0.0002831663632703882,
            null,
            0.0002831663632703882,
            0.000689443601045382,
            null,
            0.000689443601045382,
            0.0010657036039192177,
            null,
            0.0010657036039192177,
            0.0012954185861204438,
            null,
            0.0012954185861204438,
            0.0013045438675195736,
            null,
            0.0013045438675195736,
            0.0010638190967450197,
            null,
            0.0010638190967450197,
            0.000599282402880622,
            null,
            0.000599282402880622,
            2.1305685875253055e-8,
            null,
            2.1305685875253055e-8,
            -0.000599231217628567,
            null,
            -0.000599231217628567,
            -0.0010637489010429928,
            null,
            -0.0010637489010429928,
            -0.0013044579608764285,
            null,
            -0.0013044579608764285,
            -0.0012953302710209946,
            null,
            -0.0012953302710209946,
            -0.0010656285862797263,
            null,
            -0.0010656285862797263,
            -0.0006893941499187162,
            null,
            -0.0006893941499187162,
            -0.0002831463126943389,
            null,
            -0.0002831463126943389,
            0,
            null,
            0,
            0,
            null,
            0,
            0,
            null
           ],
           "z": [
            0,
            0,
            null,
            0,
            0,
            null,
            0,
            -0.0014666724785881802,
            null,
            -0.0014666724785881802,
            -0.004048472415139741,
            null,
            -0.004048472415139741,
            -0.007304899727851148,
            null,
            -0.007304899727851148,
            -0.010825399579451944,
            null,
            -0.010825399579451944,
            -0.014235006335927898,
            null,
            -0.014235006335927898,
            -0.017142372211874066,
            null,
            -0.017142372211874066,
            -0.0191286935453625,
            null,
            -0.0191286935453625,
            -0.01983852246420862,
            null,
            -0.01983852246420862,
            -0.019128429590547856,
            null,
            -0.019128429590547856,
            -0.017141927473269994,
            null,
            -0.017141927473269994,
            -0.01423449608248394,
            null,
            -0.01423449608248394,
            -0.010824922657456083,
            null,
            -0.010824922657456083,
            -0.00730452430360164,
            null,
            -0.00730452430360164,
            -0.004048237993791972,
            null,
            -0.004048237993791972,
            -0.0014665809316677647,
            null,
            -0.0014665809316677647,
            0,
            null,
            0,
            0,
            null,
            0,
            0,
            null
           ]
          },
          {
           "i": [],
           "j": [],
           "k": [],
           "name": "Faces",
           "type": "mesh3d",
           "x": {
            "bdata": "PLTIdr6fij8+30+Nl26SP11kO99PjZc/YmUSV5NunD+dv6IMOWWgPzvyiuBUU6I/SadC3/gipD9IRmfCiAGmPxr5VEz2FKg/3CSZNXVqqj/HO0fNje2sP0DlLyalcK8/YYT6vRDjsD8YhxO9xuyxP5t5YDMP3LI/Ziuf5uLDsz+npvfk8rq0P01kvBTs0bU/CtejcD0Ktz9SuB6F61G4P5qZmZmZmbk/",
            "dtype": "f8"
           },
           "y": {
            "bdata": "AAAAAAAAAAAAAAAAAAAAgAAAAAAAAACAEMYCRb6OMj+kxwXceJdGP+9nEYjidVE/YrORHWE5VT94BtJPp19VP/Qprg77bVE/6/YkKSWjQz8Q6d9bduBWPkMmwT23okO//cNur69tUb8+bvsRS19Vv4APs0kCOVW/5VJg+5F1Ub+kavqpDpdGv+BYKydojjK/AAAAAAAAAAAAAAAAAAAAAAAAAAAAAAAA",
            "dtype": "f8"
           },
           "z": {
            "bdata": "AAAAAAAAAAAAAAAAAAAAgAAAAAAAAACAKTEWlasHWL8S0/KJIZVwv0Up6Ba+632/QG5HiaArhr/Eil41PieNv5l6GiDFjZG/vijF5HiWk7/KK720jFCUv4abDy5nlpO/tGmNR6eNkb+7yDG5+SaNv9QwXYZgK4a/FOvyT1nrfb+c3KKc4pRwv3te3EhJB1i/AAAAAAAAAAAAAAAAAAAAAAAAAAAAAAAA",
            "dtype": "f8"
           }
          }
         ],
         "layout": {
          "annotations": [
           {
            "showarrow": false,
            "text": "Time: 0.85s (Step: 86/100)",
            "x": 0.05,
            "xref": "paper",
            "y": 0.95,
            "yref": "paper"
           }
          ]
         },
         "name": "85"
        },
        {
         "data": [
          {
           "name": "Free Nodes",
           "type": "scatter3d",
           "x": {
            "bdata": "Nc+cIZhunD/z4WJ5RGWgP8eqhyhwU6I/V71KqiUjpD+QP0SMwAGmP696aOUqFag/4QuKdpVqqj+4Lkuwje2sPzZ1UaGEcK8/k0YGRfbisD+L8BqlquyxPxyQdZ7427I/XG6uINXDsz8xrKYd7bq0PzKFyN3q0bU/",
            "dtype": "f8"
           },
           "y": {
            "bdata": "pUNomDnNMj9jO6h2mONGP4dAc1PIsFE/XAbcWQqBVT/UP5Na3KdVP6WUSLLiqFE/7REzcpflQz8wtHzJfSNpPmri4fa+5EO/twNjg2aoUb94TLxfVqdVvyjJxMeKgFW/hiFCAmGwUb8KHTFXFONGv+1o/03QzDK/",
            "dtype": "f8"
           },
           "z": {
            "bdata": "356C37oDWL9i/CT7zJJwv486sg096H2/1IygY38phr/xDnl+7iSNv8Eqfc2UjJG/psGN2kWVk79kNQLNWE+UvwX8Ea4zlZO/k3NyL3aMkb9+RNE/qCSNv8jUFr09KYa/xhcwsNXnfb93J+BrjJJwvyRj+vtVA1i/",
            "dtype": "f8"
           }
          },
          {
           "name": "Fixed Nodes",
           "type": "scatter3d",
           "x": {
            "bdata": "PLTIdr6fij8+30+Nl26SP11kO99PjZc/CtejcD0Ktz9SuB6F61G4P5qZmZmZmbk/",
            "dtype": "f8"
           },
           "y": {
            "bdata": "AAAAAAAAAAAAAAAAAAAAgAAAAAAAAACAAAAAAAAAAAAAAAAAAAAAAAAAAAAAAAAA",
            "dtype": "f8"
           },
           "z": {
            "bdata": "AAAAAAAAAAAAAAAAAAAAgAAAAAAAAACAAAAAAAAAAAAAAAAAAAAAAAAAAAAAAAAA",
            "dtype": "f8"
           }
          },
          {
           "name": "Edges",
           "type": "scatter3d",
           "x": [
            0.013000000000000005,
            0.01800000000000001,
            null,
            0.01800000000000001,
            0.02300000000000001,
            null,
            0.02300000000000001,
            0.027765633632227355,
            null,
            0.027765633632227355,
            0.03202260953679916,
            null,
            0.03202260953679916,
            0.0357928323245083,
            null,
            0.0357928323245083,
            0.039330651319114444,
            null,
            0.039330651319114444,
            0.04298211776961047,
            null,
            0.04298211776961047,
            0.047036495689316886,
            null,
            0.047036495689316886,
            0.05159442016613248,
            null,
            0.05159442016613248,
            0.0564998891546486,
            null,
            0.0564998891546486,
            0.061405319873964734,
            null,
            0.061405319873964734,
            0.06596316514176186,
            null,
            0.06596316514176186,
            0.07001749544991946,
            null,
            0.07001749544991946,
            0.07366899365075635,
            null,
            0.07366899365075635,
            0.07720691726574941,
            null,
            0.07720691726574941,
            0.0809772679701133,
            null,
            0.0809772679701133,
            0.08523433603888433,
            null,
            0.08523433603888433,
            0.09,
            null,
            0.09,
            0.095,
            null,
            0.095,
            0.1,
            null
           ],
           "y": [
            0,
            0,
            null,
            0,
            0,
            null,
            0,
            0.000286890565264259,
            null,
            0.000286890565264259,
            0.0006985182238298078,
            null,
            0.0006985182238298078,
            0.0010797458942768694,
            null,
            0.0010797458942768694,
            0.0013125039180867026,
            null,
            0.0013125039180867026,
            0.0013217594044370078,
            null,
            0.0013217594044370078,
            0.0010778631050325862,
            null,
            0.0010778631050325862,
            0.0006072034342641787,
            null,
            0.0006072034342641787,
            4.682436233051362e-8,
            null,
            4.682436233051362e-8,
            -0.0006071026271135653,
            null,
            -0.0006071026271135653,
            -0.0010777474504239778,
            null,
            -0.0010777474504239778,
            -0.00132163462598525,
            null,
            -0.00132163462598525,
            -0.0013123851086445735,
            null,
            -0.0013123851086445735,
            -0.0010796496726773477,
            null,
            -0.0010796496726773477,
            -0.0006984566993048235,
            null,
            -0.0006984566993048235,
            -0.00028686605037154985,
            null,
            -0.00028686605037154985,
            0,
            null,
            0,
            0,
            null,
            0,
            0,
            null
           ],
           "z": [
            0,
            0,
            null,
            0,
            0,
            null,
            0,
            -0.0014657330448616874,
            null,
            -0.0014657330448616874,
            -0.004046250064049324,
            null,
            -0.004046250064049324,
            -0.007301558008420485,
            null,
            -0.007301558008420485,
            -0.010821337917212771,
            null,
            -0.010821337917212771,
            -0.014230597719808698,
            null,
            -0.014230597719808698,
            -0.01713783745007436,
            null,
            -0.01713783745007436,
            -0.019124118294202262,
            null,
            -0.019124118294202262,
            -0.01983393431924209,
            null,
            -0.01983393431924209,
            -0.0191238474840212,
            null,
            -0.0191238474840212,
            -0.017137381215991686,
            null,
            -0.017137381215991686,
            -0.014230074355653818,
            null,
            -0.014230074355653818,
            -0.010820848782581285,
            null,
            -0.010820848782581285,
            -0.007301172942794259,
            null,
            -0.007301172942794259,
            -0.004046009560633715,
            null,
            -0.004046009560633715,
            -0.0014656390848470447,
            null,
            -0.0014656390848470447,
            0,
            null,
            0,
            0,
            null,
            0,
            0,
            null
           ]
          },
          {
           "i": [],
           "j": [],
           "k": [],
           "name": "Faces",
           "type": "mesh3d",
           "x": {
            "bdata": "PLTIdr6fij8+30+Nl26SP11kO99PjZc/Nc+cIZhunD/z4WJ5RGWgP8eqhyhwU6I/V71KqiUjpD+QP0SMwAGmP696aOUqFag/4QuKdpVqqj+4Lkuwje2sPzZ1UaGEcK8/k0YGRfbisD+L8BqlquyxPxyQdZ7427I/XG6uINXDsz8xrKYd7bq0PzKFyN3q0bU/CtejcD0Ktz9SuB6F61G4P5qZmZmZmbk/",
            "dtype": "f8"
           },
           "y": {
            "bdata": "AAAAAAAAAAAAAAAAAAAAgAAAAAAAAACApUNomDnNMj9jO6h2mONGP4dAc1PIsFE/XAbcWQqBVT/UP5Na3KdVP6WUSLLiqFE/7REzcpflQz8wtHzJfSNpPmri4fa+5EO/twNjg2aoUb94TLxfVqdVvyjJxMeKgFW/hiFCAmGwUb8KHTFXFONGv+1o/03QzDK/AAAAAAAAAAAAAAAAAAAAAAAAAAAAAAAA",
            "dtype": "f8"
           },
           "z": {
            "bdata": "AAAAAAAAAAAAAAAAAAAAgAAAAAAAAACA356C37oDWL9i/CT7zJJwv486sg096H2/1IygY38phr/xDnl+7iSNv8Eqfc2UjJG/psGN2kWVk79kNQLNWE+UvwX8Ea4zlZO/k3NyL3aMkb9+RNE/qCSNv8jUFr09KYa/xhcwsNXnfb93J+BrjJJwvyRj+vtVA1i/AAAAAAAAAAAAAAAAAAAAAAAAAAAAAAAA",
            "dtype": "f8"
           }
          }
         ],
         "layout": {
          "annotations": [
           {
            "showarrow": false,
            "text": "Time: 0.86s (Step: 87/100)",
            "x": 0.05,
            "xref": "paper",
            "y": 0.95,
            "yref": "paper"
           }
          ]
         },
         "name": "86"
        },
        {
         "data": [
          {
           "name": "Free Nodes",
           "type": "scatter3d",
           "x": {
            "bdata": "C+jA+pxunD+WRiMIUGWgP2APl8CLU6I/+ueJ91IjpD+OBBj3+AGmP+32UxVgFag/0VSOE7Zqqj/wqdOSje2sP5xNQ79jcK8/N2Twf9visD/PKtg7juyxPzr3rsfh27I/IfApMsfDsz91xQ9F57q0PyUjHKPp0bU/",
            "dtype": "f8"
           },
           "y": {
            "bdata": "3AVT3JELMz+ycofwjS9HP04u8COO61E/yHpkR43IVT99adEK6+9VPyoJevSq41E/e4lFBeYnRD8gPLf8rF9zPj6b8qejJkS/7rnoO/7iUb+CVgGEO+9Vv3kNuBTtx1W/9hP4HBDrUb8f2DPu7y5Hv17GQmkVCzO/",
            "dtype": "f8"
           },
           "z": {
            "bdata": "Xo2AVr7/V78tRf10cZBwv4Bum5Gx5H2/eSFG6Fcnhr+TgJrtlyKNv5AcP/lgi5G/6bnvSg+Uk79XQvteIU6Uv8ZX56b8k5O/obG8kkGLkb8Fl7DlTyKNv5U21JcUJ4a/WbWvk0fkfb//IpE9L5Bwv2NOzdFW/1e/",
            "dtype": "f8"
           }
          },
          {
           "name": "Fixed Nodes",
           "type": "scatter3d",
           "x": {
            "bdata": "PLTIdr6fij8+30+Nl26SP11kO99PjZc/CtejcD0Ktz9SuB6F61G4P5qZmZmZmbk/",
            "dtype": "f8"
           },
           "y": {
            "bdata": "AAAAAAAAAAAAAAAAAAAAgAAAAAAAAACAAAAAAAAAAAAAAAAAAAAAAAAAAAAAAAAA",
            "dtype": "f8"
           },
           "z": {
            "bdata": "AAAAAAAAAAAAAAAAAAAAgAAAAAAAAACAAAAAAAAAAAAAAAAAAAAAAAAAAAAAAAAA",
            "dtype": "f8"
           }
          },
          {
           "name": "Edges",
           "type": "scatter3d",
           "x": [
            0.013000000000000005,
            0.01800000000000001,
            null,
            0.01800000000000001,
            0.02300000000000001,
            null,
            0.02300000000000001,
            0.02776570587614206,
            null,
            0.02776570587614206,
            0.03202295398081138,
            null,
            0.03202295398081138,
            0.03579365468934159,
            null,
            0.03579365468934159,
            0.03933200141632649,
            null,
            0.03933200141632649,
            0.04298379913598992,
            null,
            0.04298379913598992,
            0.047038080791009886,
            null,
            0.047038080791009886,
            0.05159539211960296,
            null,
            0.05159539211960296,
            0.05649988572425346,
            null,
            0.05649988572425346,
            0.061404339883348785,
            null,
            0.061404339883348785,
            0.06596156953345732,
            null,
            0.06596156953345732,
            0.07001580201191902,
            null,
            0.07001580201191902,
            0.07366763234219045,
            null,
            0.07366763234219045,
            0.07720608687117238,
            null,
            0.07720608687117238,
            0.08097691951822646,
            null,
            0.08097691951822646,
            0.08523426277328079,
            null,
            0.08523426277328079,
            0.09,
            null,
            0.09,
            0.095,
            null,
            0.095,
            0.1,
            null
           ],
           "y": [
            0,
            0,
            null,
            0,
            0,
            null,
            0,
            0.00029060660410715005,
            null,
            0.00029060660410715005,
            0.0007075732292452701,
            null,
            0.0007075732292452701,
            0.0010937584008868964,
            null,
            0.0010937584008868964,
            0.0013295535732777298,
            null,
            0.0013295535732777298,
            0.0013389392218160206,
            null,
            0.0013389392218160206,
            0.0010918778879448012,
            null,
            0.0010918778879448012,
            0.0006151078364775986,
            null,
            0.0006151078364775986,
            7.217278079968663e-8,
            null,
            7.217278079968663e-8,
            -0.0006149577237878135,
            null,
            -0.0006149577237878135,
            -0.0010917170290088945,
            null,
            -0.0010917170290088945,
            -0.0013387757499193913,
            null,
            -0.0013387757499193913,
            -0.001329404377316516,
            null,
            -0.001329404377316516,
            -0.0010936410288888677,
            null,
            -0.0010936410288888677,
            -0.0007074996505298559,
            null,
            -0.0007074996505298559,
            -0.0002905776284577217,
            null,
            -0.0002905776284577217,
            0,
            null,
            0,
            0,
            null,
            0,
            0,
            null
           ],
           "z": [
            0,
            0,
            null,
            0,
            0,
            null,
            0,
            -0.0014647825974030896,
            null,
            -0.0014647825974030896,
            -0.004044001761785138,
            null,
            -0.004044001761785138,
            -0.007298177364386427,
            null,
            -0.007298177364386427,
            -0.01081722905725323,
            null,
            -0.01081722905725323,
            -0.01422613805635845,
            null,
            -0.01422613805635845,
            -0.017133250439453962,
            null,
            -0.017133250439453962,
            -0.019119490574604745,
            null,
            -0.019119490574604745,
            -0.019829293653687987,
            null,
            -0.019829293653687987,
            -0.019119212805740714,
            null,
            -0.019119212805740714,
            -0.017132782536621986,
            null,
            -0.017132782536621986,
            -0.014225601384235906,
            null,
            -0.014225601384235906,
            -0.010816727527095874,
            null,
            -0.010816727527095874,
            -0.00729778251387122,
            null,
            -0.00729778251387122,
            -0.004043755086123423,
            null,
            -0.004043755086123423,
            -0.0014646861884174626,
            null,
            -0.0014646861884174626,
            0,
            null,
            0,
            0,
            null,
            0,
            0,
            null
           ]
          },
          {
           "i": [],
           "j": [],
           "k": [],
           "name": "Faces",
           "type": "mesh3d",
           "x": {
            "bdata": "PLTIdr6fij8+30+Nl26SP11kO99PjZc/C+jA+pxunD+WRiMIUGWgP2APl8CLU6I/+ueJ91IjpD+OBBj3+AGmP+32UxVgFag/0VSOE7Zqqj/wqdOSje2sP5xNQ79jcK8/N2Twf9visD/PKtg7juyxPzr3rsfh27I/IfApMsfDsz91xQ9F57q0PyUjHKPp0bU/CtejcD0Ktz9SuB6F61G4P5qZmZmZmbk/",
            "dtype": "f8"
           },
           "y": {
            "bdata": "AAAAAAAAAAAAAAAAAAAAgAAAAAAAAACA3AVT3JELMz+ycofwjS9HP04u8COO61E/yHpkR43IVT99adEK6+9VPyoJevSq41E/e4lFBeYnRD8gPLf8rF9zPj6b8qejJkS/7rnoO/7iUb+CVgGEO+9Vv3kNuBTtx1W/9hP4HBDrUb8f2DPu7y5Hv17GQmkVCzO/AAAAAAAAAAAAAAAAAAAAAAAAAAAAAAAA",
            "dtype": "f8"
           },
           "z": {
            "bdata": "AAAAAAAAAAAAAAAAAAAAgAAAAAAAAACAXo2AVr7/V78tRf10cZBwv4Bum5Gx5H2/eSFG6Fcnhr+TgJrtlyKNv5AcP/lgi5G/6bnvSg+Uk79XQvteIU6Uv8ZX56b8k5O/obG8kkGLkb8Fl7DlTyKNv5U21JcUJ4a/WbWvk0fkfb//IpE9L5Bwv2NOzdFW/1e/AAAAAAAAAAAAAAAAAAAAAAAAAAAAAAAA",
            "dtype": "f8"
           }
          }
         ],
         "layout": {
          "annotations": [
           {
            "showarrow": false,
            "text": "Time: 0.87s (Step: 88/100)",
            "x": 0.05,
            "xref": "paper",
            "y": 0.95,
            "yref": "paper"
           }
          ]
         },
         "name": "87"
        },
        {
         "data": [
          {
           "name": "Free Nodes",
           "type": "scatter3d",
           "x": {
            "bdata": "akJo4qFunD8L4ae4W2WgPwmrIKinU6I/NGr7xYAjpD9SaZMBMgKmP3T30tqVFag/FrXZC9dqqj8zyNt0je2sPzfDx4BCcK8/hfVVb8DisD+Bru2BceyxP8hqiq/K27I/1ltaG7nDsz8G7E5b4bq0P0A1vGTo0bU/",
            "dtype": "f8"
           },
           "y": {
            "bdata": "2qHsPcZJMz9rmcc0WHtHP87SMg0zJlI/yHA4nOgPVj9a0qrJ0TdWP5N+nAxSHlI/0sV2NA1qRD/80uDuI7J5Pp0lQ15oaES/uGQZE3gdUr+CwRBm+zZWvxJ4+ckpD1a/buu7o58lUr+/ncm/oXpHv6/Afqc3STO/",
            "dtype": "f8"
           },
           "z": {
            "bdata": "JlUnFLb7V79azEcHD45wv9vqz7ob4X2/0v4NJiolhr+f+cmSOiCNv7K4XKspipG/3/5pPdWSk7+SR1Rx5kyUv59LQB7CkpO/T8Y0dgmKkb+lvP+y8B+NvyEnph3lJIa/89DbBa/gfb+3M0QZy41wvxuS5dZL+1e/",
            "dtype": "f8"
           }
          },
          {
           "name": "Fixed Nodes",
           "type": "scatter3d",
           "x": {
            "bdata": "PLTIdr6fij8+30+Nl26SP11kO99PjZc/CtejcD0Ktz9SuB6F61G4P5qZmZmZmbk/",
            "dtype": "f8"
           },
           "y": {
            "bdata": "AAAAAAAAAAAAAAAAAAAAgAAAAAAAAACAAAAAAAAAAAAAAAAAAAAAAAAAAAAAAAAA",
            "dtype": "f8"
           },
           "z": {
            "bdata": "AAAAAAAAAAAAAAAAAAAAgAAAAAAAAACAAAAAAAAAAAAAAAAAAAAAAAAAAAAAAAAA",
            "dtype": "f8"
           }
          },
          {
           "name": "Edges",
           "type": "scatter3d",
           "x": [
            0.013000000000000005,
            0.01800000000000001,
            null,
            0.01800000000000001,
            0.02300000000000001,
            null,
            0.02300000000000001,
            0.027765778964808176,
            null,
            0.027765778964808176,
            0.03202330235575531,
            null,
            0.03202330235575531,
            0.0357944863065623,
            null,
            0.0357944863065623,
            0.039333366554008015,
            null,
            0.039333366554008015,
            0.042985499088632154,
            null,
            0.042985499088632154,
            0.047039683305668684,
            null,
            0.047039683305668684,
            0.05159637469919624,
            null,
            0.05159637469919624,
            0.05649988223548554,
            null,
            0.05649988223548554,
            0.061403349132780276,
            null,
            0.061403349132780276,
            0.06595995634230263,
            null,
            0.06595995634230263,
            0.07001408979493286,
            null,
            0.07001408979493286,
            0.0736662558141844,
            null,
            0.0736662558141844,
            0.07720524709507912,
            null,
            0.07720524709507912,
            0.08097656707006715,
            null,
            0.08097656707006715,
            0.08523418864588894,
            null,
            0.08523418864588894,
            0.09,
            null,
            0.09,
            0.095,
            null,
            0.095,
            0.1,
            null
           ],
           "y": [
            0,
            0,
            null,
            0,
            0,
            null,
            0,
            0.00029431428804341036,
            null,
            0.00029431428804341036,
            0.0007166081136887164,
            null,
            0.0007166081136887164,
            0.001107740263973134,
            null,
            0.001107740263973134,
            0.0013465663513505966,
            null,
            0.0013465663513505966,
            0.001356081839429943,
            null,
            0.001356081839429943,
            0.0011058617842038306,
            null,
            0.0011058617842038306,
            0.0006229938962204978,
            null,
            0.0006229938962204978,
            9.572454093347712e-8,
            null,
            9.572454093347712e-8,
            -0.0006227979288492728,
            null,
            -0.0006227979288492728,
            -0.0011056587794853589,
            null,
            -0.0011056587794853589,
            -0.0013558821740496667,
            null,
            -0.0013558821740496667,
            -0.001346388635190991,
            null,
            -0.001346388635190991,
            -0.001107602975877166,
            null,
            -0.001107602975877166,
            -0.0007165231505269972,
            null,
            -0.0007165231505269972,
            -0.0002942810892774356,
            null,
            -0.0002942810892774356,
            0,
            null,
            0,
            0,
            null,
            0,
            0,
            null
           ],
           "z": [
            0,
            0,
            null,
            0,
            0,
            null,
            0,
            -0.0014638212311315984,
            null,
            -0.0014638212311315984,
            -0.004041727738228829,
            null,
            -0.004041727738228829,
            -0.007294758147504433,
            null,
            -0.007294758147504433,
            -0.010813073431335782,
            null,
            -0.010813073431335782,
            -0.014221627812045777,
            null,
            -0.014221627812045777,
            -0.017128611644857634,
            null,
            -0.017128611644857634,
            -0.019114810822883462,
            null,
            -0.019114810822883462,
            -0.019824600855890724,
            null,
            -0.019824600855890724,
            -0.019114525886901764,
            null,
            -0.019114525886901764,
            -0.017128131713610547,
            null,
            -0.017128131713610547,
            -0.01422107740651619,
            null,
            -0.01422107740651619,
            -0.01081255909663842,
            null,
            -0.01081255909663842,
            -0.007294353182931912,
            null,
            -0.007294353182931912,
            -0.004041474680218585,
            null,
            -0.004041474680218585,
            -0.0014637222880874493,
            null,
            -0.0014637222880874493,
            0,
            null,
            0,
            0,
            null,
            0,
            0,
            null
           ]
          },
          {
           "i": [],
           "j": [],
           "k": [],
           "name": "Faces",
           "type": "mesh3d",
           "x": {
            "bdata": "PLTIdr6fij8+30+Nl26SP11kO99PjZc/akJo4qFunD8L4ae4W2WgPwmrIKinU6I/NGr7xYAjpD9SaZMBMgKmP3T30tqVFag/FrXZC9dqqj8zyNt0je2sPzfDx4BCcK8/hfVVb8DisD+Bru2BceyxP8hqiq/K27I/1ltaG7nDsz8G7E5b4bq0P0A1vGTo0bU/CtejcD0Ktz9SuB6F61G4P5qZmZmZmbk/",
            "dtype": "f8"
           },
           "y": {
            "bdata": "AAAAAAAAAAAAAAAAAAAAgAAAAAAAAACA2qHsPcZJMz9rmcc0WHtHP87SMg0zJlI/yHA4nOgPVj9a0qrJ0TdWP5N+nAxSHlI/0sV2NA1qRD/80uDuI7J5Pp0lQ15oaES/uGQZE3gdUr+CwRBm+zZWvxJ4+ckpD1a/buu7o58lUr+/ncm/oXpHv6/Afqc3STO/AAAAAAAAAAAAAAAAAAAAAAAAAAAAAAAA",
            "dtype": "f8"
           },
           "z": {
            "bdata": "AAAAAAAAAAAAAAAAAAAAgAAAAAAAAACAJlUnFLb7V79azEcHD45wv9vqz7ob4X2/0v4NJiolhr+f+cmSOiCNv7K4XKspipG/3/5pPdWSk7+SR1Rx5kyUv59LQB7CkpO/T8Y0dgmKkb+lvP+y8B+NvyEnph3lJIa/89DbBa/gfb+3M0QZy41wvxuS5dZL+1e/AAAAAAAAAAAAAAAAAAAAAAAAAAAAAAAA",
            "dtype": "f8"
           }
          }
         ],
         "layout": {
          "annotations": [
           {
            "showarrow": false,
            "text": "Time: 0.88s (Step: 89/100)",
            "x": 0.05,
            "xref": "paper",
            "y": 0.95,
            "yref": "paper"
           }
          ]
         },
         "name": "88"
        },
        {
         "data": [
          {
           "name": "Free Nodes",
           "type": "scatter3d",
           "x": {
            "bdata": "8nV82KZunD8ak7SKZ2WgP0+1i97DU6I/ydSZFK8jpD+fRmaqawKmPzUUoDTMFag/q3CfXvhqqj8TE19Wje2sPxaIouYgcK8/XBDVE6XisD/g/v53VOyxPzeChlaz27I/F+mI3KrDsz8JWYBg27q0P47BrSLn0bU/",
            "dtype": "f8"
           },
           "y": {
            "bdata": "jXVO/NWHMz8KAyhH9sZHP/AH6zi2YFI/gOK6LhtXVj+qwlYqj39WP1SzLmTWWFI/359rwAmsRD/Ee6rPgid/PqjfpbsPqkS/7PyVE9VXUr/hvFTGln5Wv73k02NBVla/BxFo2w9gUr/zs5EHKsZHv5l9ISg3hzO/",
            "dtype": "f8"
           },
           "z": {
            "bdata": "kR8iMqL3V79oeI7BpYtwv0LjFKF73X2/4WqPK/Yihr9txNB91h2Nv0T0uuvuiJG/ZAxyuZeRk7/iusEKqEuUvx7B5xmEkZO/aDjL3s2Ikb9D6Euwih2Nv0iR+FWvIoa/jwm0Egzdfb+00egGYItwv3Oucxg191e/",
            "dtype": "f8"
           }
          },
          {
           "name": "Fixed Nodes",
           "type": "scatter3d",
           "x": {
            "bdata": "PLTIdr6fij8+30+Nl26SP11kO99PjZc/CtejcD0Ktz9SuB6F61G4P5qZmZmZmbk/",
            "dtype": "f8"
           },
           "y": {
            "bdata": "AAAAAAAAAAAAAAAAAAAAgAAAAAAAAACAAAAAAAAAAAAAAAAAAAAAAAAAAAAAAAAA",
            "dtype": "f8"
           },
           "z": {
            "bdata": "AAAAAAAAAAAAAAAAAAAAgAAAAAAAAACAAAAAAAAAAAAAAAAAAAAAAAAAAAAAAAAA",
            "dtype": "f8"
           }
          },
          {
           "name": "Edges",
           "type": "scatter3d",
           "x": [
            0.013000000000000005,
            0.01800000000000001,
            null,
            0.01800000000000001,
            0.02300000000000001,
            null,
            0.02300000000000001,
            0.027765852893130778,
            null,
            0.027765852893130778,
            0.03202365463429242,
            null,
            0.03202365463429242,
            0.03579532710669275,
            null,
            0.03579532710669275,
            0.03933474661327236,
            null,
            0.03933474661327236,
            0.04298721747467237,
            null,
            0.04298721747467237,
            0.047041303085315546,
            null,
            0.047041303085315546,
            0.05159736781180987,
            null,
            0.05159736781180987,
            0.05649987868631547,
            null,
            0.05649987868631547,
            0.061402347711251234,
            null,
            0.061402347711251234,
            0.06595832571207566,
            null,
            0.06595832571207566,
            0.07001235894767488,
            null,
            0.07001235894767488,
            0.07366486418187256,
            null,
            0.07366486418187256,
            0.0772043980040603,
            null,
            0.0772043980040603,
            0.08097621065130424,
            null,
            0.08097621065130424,
            0.08523411366127773,
            null,
            0.08523411366127773,
            0.09,
            null,
            0.09,
            0.095,
            null,
            0.095,
            0.1,
            null
           ],
           "y": [
            0,
            0,
            null,
            0,
            0,
            null,
            0,
            0.00029801344163068387,
            null,
            0.00029801344163068387,
            0.0007256224183152815,
            null,
            0.0007256224183152815,
            0.0011216907038691347,
            null,
            0.0011216907038691347,
            0.001363541169594168,
            null,
            0.001363541169594168,
            0.0013731859302021179,
            null,
            0.0013731859302021179,
            0.00111981331495344,
            null,
            0.00111981331495344,
            0.0006308601012650037,
            null,
            0.0006308601012650037,
            1.160589597017816e-7,
            null,
            1.160589597017816e-7,
            -0.0006306244679725641,
            null,
            -0.0006306244679725641,
            -0.0011195736718432837,
            null,
            -0.0011195736718432837,
            -0.0013729545983769897,
            null,
            -0.0013729545983769897,
            -0.0013633383344411742,
            null,
            -0.0013633383344411742,
            -0.001121535764128602,
            null,
            -0.001121535764128602,
            -0.000725527307748329,
            null,
            -0.000725527307748329,
            -0.00029797646141634934,
            null,
            -0.00029797646141634934,
            0,
            null,
            0,
            0,
            null,
            0,
            0,
            null
           ],
           "z": [
            0,
            0,
            null,
            0,
            0,
            null,
            0,
            -0.0014628490394290353,
            null,
            -0.0014628490394290353,
            -0.004039428219497855,
            null,
            -0.004039428219497855,
            -0.007291300703678174,
            null,
            -0.007291300703678174,
            -0.01080887146411186,
            null,
            -0.01080887146411186,
            -0.014217067446312204,
            null,
            -0.014217067446312204,
            -0.017123921525797905,
            null,
            -0.017123921525797905,
            -0.01911007947320477,
            null,
            -0.01911007947320477,
            -0.019819856316128155,
            null,
            -0.019819856316128155,
            -0.019109787064679577,
            null,
            -0.019109787064679577,
            -0.017123429034477416,
            null,
            -0.017123429034477416,
            -0.014216502671377756,
            null,
            -0.014216502671377756,
            -0.010808343707204529,
            null,
            -0.010808343707204529,
            -0.007290885124577775,
            null,
            -0.007290885124577775,
            -0.004039168458394849,
            null,
            -0.004039168458394849,
            -0.001462747431839964,
            null,
            -0.001462747431839964,
            0,
            null,
            0,
            0,
            null,
            0,
            0,
            null
           ]
          },
          {
           "i": [],
           "j": [],
           "k": [],
           "name": "Faces",
           "type": "mesh3d",
           "x": {
            "bdata": "PLTIdr6fij8+30+Nl26SP11kO99PjZc/8nV82KZunD8ak7SKZ2WgP0+1i97DU6I/ydSZFK8jpD+fRmaqawKmPzUUoDTMFag/q3CfXvhqqj8TE19Wje2sPxaIouYgcK8/XBDVE6XisD/g/v53VOyxPzeChlaz27I/F+mI3KrDsz8JWYBg27q0P47BrSLn0bU/CtejcD0Ktz9SuB6F61G4P5qZmZmZmbk/",
            "dtype": "f8"
           },
           "y": {
            "bdata": "AAAAAAAAAAAAAAAAAAAAgAAAAAAAAACAjXVO/NWHMz8KAyhH9sZHP/AH6zi2YFI/gOK6LhtXVj+qwlYqj39WP1SzLmTWWFI/359rwAmsRD/Ee6rPgid/PqjfpbsPqkS/7PyVE9VXUr/hvFTGln5Wv73k02NBVla/BxFo2w9gUr/zs5EHKsZHv5l9ISg3hzO/AAAAAAAAAAAAAAAAAAAAAAAAAAAAAAAA",
            "dtype": "f8"
           },
           "z": {
            "bdata": "AAAAAAAAAAAAAAAAAAAAgAAAAAAAAACAkR8iMqL3V79oeI7BpYtwv0LjFKF73X2/4WqPK/Yihr9txNB91h2Nv0T0uuvuiJG/ZAxyuZeRk7/iusEKqEuUvx7B5xmEkZO/aDjL3s2Ikb9D6Euwih2Nv0iR+FWvIoa/jwm0Egzdfb+00egGYItwv3Oucxg191e/AAAAAAAAAAAAAAAAAAAAAAAAAAAAAAAA",
            "dtype": "f8"
           }
          }
         ],
         "layout": {
          "annotations": [
           {
            "showarrow": false,
            "text": "Time: 0.89s (Step: 90/100)",
            "x": 0.05,
            "xref": "paper",
            "y": 0.95,
            "yref": "paper"
           }
          ]
         },
         "name": "89"
        },
        {
         "data": [
          {
           "name": "Free Nodes",
           "type": "scatter3d",
           "x": {
            "bdata": "Ezrn3KtunD8cWw1+c2WgP3VoP2PgU6I/mXtf4t0jpD/T+z/wpQKmP/VtdSEDFqg/scASCxprqj8v1lk3je2sP8/2mPH+b68/uO8MbonisD931LAeN+yxPwjaIr2b27I/In3/dZzDsz+DmMBU1bq0Pw/j9dzl0bU/",
            "dtype": "f8"
           },
           "y": {
            "bdata": "FX9lbsDFMz/LFjVMZxJIPw8cQO4Wm1I/qGi+ACSeVj+lnND4IcdWPwrxjag2k1I/van3/9jtRD+Cs88guLiBPvk5y86b60S/pxHNBhaSUr8gNLAvDsZWvzNUVjY0nVa/MUkF7mCaUr/5pdHjiBFIv50XmvUTxTO/",
            "dtype": "f8"
           },
           "z": {
            "bdata": "8nxNyYLzV79ZC92yNYlwvyLna1vR2X2/3q3qBrwghr/BUgG+axuNv2jpD8Kwh5G/roNmxlaQk7+IHQAyZkqUv0xwz59CkJO/6vuu0Y6Hkb+b6bbmHRuNv9ByyUhzIIa/WOInx17Zfb+G6AkP7ohwv1QSqKQS81e/",
            "dtype": "f8"
           }
          },
          {
           "name": "Fixed Nodes",
           "type": "scatter3d",
           "x": {
            "bdata": "PLTIdr6fij8+30+Nl26SP11kO99PjZc/CtejcD0Ktz9SuB6F61G4P5qZmZmZmbk/",
            "dtype": "f8"
           },
           "y": {
            "bdata": "AAAAAAAAAAAAAAAAAAAAgAAAAAAAAACAAAAAAAAAAAAAAAAAAAAAAAAAAAAAAAAA",
            "dtype": "f8"
           },
           "z": {
            "bdata": "AAAAAAAAAAAAAAAAAAAAgAAAAAAAAACAAAAAAAAAAAAAAAAAAAAAAAAAAAAAAAAA",
            "dtype": "f8"
           }
          },
          {
           "name": "Edges",
           "type": "scatter3d",
           "x": [
            0.013000000000000005,
            0.01800000000000001,
            null,
            0.01800000000000001,
            0.02300000000000001,
            null,
            0.02300000000000001,
            0.027765927656043198,
            null,
            0.027765927656043198,
            0.032024010789134943,
            null,
            0.032024010789134943,
            0.03579617702026009,
            null,
            0.03579617702026009,
            0.039336141475124715,
            null,
            0.039336141475124715,
            0.04298895414103012,
            null,
            0.04298895414103012,
            0.047042939981761046,
            null,
            0.047042939981761046,
            0.05159837136432211,
            null,
            0.05159837136432211,
            0.056499875075058596,
            null,
            0.056499875075058596,
            0.0614013357085078,
            null,
            0.0614013357085078,
            0.06595667778759562,
            null,
            0.06595667778759562,
            0.07001060961995785,
            null,
            0.07001060961995785,
            0.07366345756131676,
            null,
            0.07366345756131676,
            0.07720353966532348,
            null,
            0.07720353966532348,
            0.08097585028790104,
            null,
            0.08097585028790104,
            0.08523403782409054,
            null,
            0.08523403782409054,
            0.09,
            null,
            0.09,
            0.095,
            null,
            0.095,
            0.1,
            null
           ],
           "y": [
            0,
            0,
            null,
            0,
            0,
            null,
            0,
            0.0003017039110968384,
            null,
            0.0003017039110968384,
            0.0007346157439449217,
            null,
            0.0007346157439449217,
            0.001135609048107392,
            null,
            0.001135609048107392,
            0.001380477103316605,
            null,
            0.001380477103316605,
            0.0013902503735694707,
            null,
            0.0013902503735694707,
            0.0011337312482445094,
            null,
            0.0011337312482445094,
            0.0006387052125636433,
            null,
            0.0006387052125636433,
            1.3203590790104372e-7,
            null,
            1.3203590790104372e-7,
            -0.0006384382991997942,
            null,
            -0.0006384382991997942,
            -0.0011334624388875476,
            null,
            -0.0011334624388875476,
            -0.0013899935281671619,
            null,
            -0.0013899935281671619,
            -0.0013802537808704884,
            null,
            -0.0013802537808704884,
            -0.001135439546562877,
            null,
            -0.001135439546562877,
            -0.0007345121772576727,
            null,
            -0.0007345121772576727,
            -0.0003016637543641289,
            null,
            -0.0003016637543641289,
            0,
            null,
            0,
            0,
            null,
            0,
            0,
            null
           ],
           "z": [
            0,
            0,
            null,
            0,
            0,
            null,
            0,
            -0.0014618661127412916,
            null,
            -0.0014618661127412916,
            -0.004037103424539301,
            null,
            -0.004037103424539301,
            -0.007287805367690388,
            null,
            -0.007287805367690388,
            -0.010804623566705137,
            null,
            -0.010804623566705137,
            -0.014212457405088032,
            null,
            -0.014212457405088032,
            -0.01711918053113362,
            null,
            -0.01711918053113362,
            -0.0191052969545386,
            null,
            -0.0191052969545386,
            -0.019815060426507297,
            null,
            -0.019815060426507297,
            -0.01910499668507297,
            null,
            -0.01910499668507297,
            -0.017118674800936796,
            null,
            -0.017118674800936796,
            -0.014211877444599,
            null,
            -0.014211877444599,
            -0.01080408159139648,
            null,
            -0.01080408159139648,
            -0.007287378527046494,
            null,
            -0.007287378527046494,
            -0.004036836544964234,
            null,
            -0.004036836544964234,
            -0.0014617616712949881,
            null,
            -0.0014617616712949881,
            0,
            null,
            0,
            0,
            null,
            0,
            0,
            null
           ]
          },
          {
           "i": [],
           "j": [],
           "k": [],
           "name": "Faces",
           "type": "mesh3d",
           "x": {
            "bdata": "PLTIdr6fij8+30+Nl26SP11kO99PjZc/Ezrn3KtunD8cWw1+c2WgP3VoP2PgU6I/mXtf4t0jpD/T+z/wpQKmP/VtdSEDFqg/scASCxprqj8v1lk3je2sP8/2mPH+b68/uO8MbonisD931LAeN+yxPwjaIr2b27I/In3/dZzDsz+DmMBU1bq0Pw/j9dzl0bU/CtejcD0Ktz9SuB6F61G4P5qZmZmZmbk/",
            "dtype": "f8"
           },
           "y": {
            "bdata": "AAAAAAAAAAAAAAAAAAAAgAAAAAAAAACAFX9lbsDFMz/LFjVMZxJIPw8cQO4Wm1I/qGi+ACSeVj+lnND4IcdWPwrxjag2k1I/van3/9jtRD+Cs88guLiBPvk5y86b60S/pxHNBhaSUr8gNLAvDsZWvzNUVjY0nVa/MUkF7mCaUr/5pdHjiBFIv50XmvUTxTO/AAAAAAAAAAAAAAAAAAAAAAAAAAAAAAAA",
            "dtype": "f8"
           },
           "z": {
            "bdata": "AAAAAAAAAAAAAAAAAAAAgAAAAAAAAACA8nxNyYLzV79ZC92yNYlwvyLna1vR2X2/3q3qBrwghr/BUgG+axuNv2jpD8Kwh5G/roNmxlaQk7+IHQAyZkqUv0xwz59CkJO/6vuu0Y6Hkb+b6bbmHRuNv9ByyUhzIIa/WOInx17Zfb+G6AkP7ohwv1QSqKQS81e/AAAAAAAAAAAAAAAAAAAAAAAAAAAAAAAA",
            "dtype": "f8"
           }
          }
         ],
         "layout": {
          "annotations": [
           {
            "showarrow": false,
            "text": "Time: 0.90s (Step: 91/100)",
            "x": 0.05,
            "xref": "paper",
            "y": 0.95,
            "yref": "paper"
           }
          ]
         },
         "name": "90"
        },
        {
         "data": [
          {
           "name": "Free Nodes",
           "type": "scatter3d",
           "x": {
            "bdata": "XXyS77BunD/penaSf2WgP1BKozX9U6I/ctlGLg0kpD/m3c/R4AKmP/AWDaA6Fqg/JypnEDxrqj+4Y8kXje2sPzROcqLcb68/kRKefm3isD+bPql2GeyxP9I04OOD27I/gcUI6I3Dsz8CmSw4z7q0P5vOmZPk0bU/",
            "dtype": "f8"
           },
           "y": {
            "bdata": "gfMWB4UDND84Lw6Pql1IP7ihEZdU1VI/a9NcRwLlVj+uOjdEiQ5XP1oxgddxzVI/Er0t/HgvRT8YXs9VPyyDPuBqMPcNLUW/QQVvaDvMUr+xvB7tYQ1Xv9upe2UC5Fa/WFyJ5ZLUUr9Xua5PvlxIv9uBMwHOAjS/",
            "dtype": "f8"
           },
           "z": {
            "bdata": "eTtn8VfvV78mU5DpvoZwv5Bex/8c1n2/8hWbxXsehr+PwQhi+hiNv12/zzVvhpG/ATGEaxKPk7+ch9PtIEmUv2X0Gbb9jpO/mK1fVEyGkb+PCyRgqhiNvztl1f4wHoa//e1fMafVfb/NH/06dYZwv17DAIvk7le/",
            "dtype": "f8"
           }
          },
          {
           "name": "Fixed Nodes",
           "type": "scatter3d",
           "x": {
            "bdata": "PLTIdr6fij8+30+Nl26SP11kO99PjZc/CtejcD0Ktz9SuB6F61G4P5qZmZmZmbk/",
            "dtype": "f8"
           },
           "y": {
            "bdata": "AAAAAAAAAAAAAAAAAAAAgAAAAAAAAACAAAAAAAAAAAAAAAAAAAAAAAAAAAAAAAAA",
            "dtype": "f8"
           },
           "z": {
            "bdata": "AAAAAAAAAAAAAAAAAAAAgAAAAAAAAACAAAAAAAAAAAAAAAAAAAAAAAAAAAAAAAAA",
            "dtype": "f8"
           }
          },
          {
           "name": "Edges",
           "type": "scatter3d",
           "x": [
            0.013000000000000005,
            0.01800000000000001,
            null,
            0.01800000000000001,
            0.02300000000000001,
            null,
            0.02300000000000001,
            0.02776600324852684,
            null,
            0.02776600324852684,
            0.032024370793114994,
            null,
            0.032024370793114994,
            0.03579703597792572,
            null,
            0.03579703597792572,
            0.03933755102063942,
            null,
            0.03933755102063942,
            0.04299070893460648,
            null,
            0.04299070893460648,
            0.04704459384678994,
            null,
            0.04704459384678994,
            0.051599385263746016,
            null,
            0.051599385263746016,
            0.05649987140049667,
            null,
            0.05649987140049667,
            0.061400313215156294,
            null,
            0.061400313215156294,
            0.06595501271483274,
            null,
            0.06595501271483274,
            0.07000884196281236,
            null,
            0.07000884196281236,
            0.07366203606962365,
            null,
            0.07366203606962365,
            0.07720267214678779,
            null,
            0.07720267214678779,
            0.08097548600617091,
            null,
            0.08097548600617091,
            0.0852339611390626,
            null,
            0.0852339611390626,
            0.09,
            null,
            0.09,
            0.095,
            null,
            0.095,
            0.1,
            null
           ],
           "y": [
            0,
            0,
            null,
            0,
            0,
            null,
            0,
            0.00030538556810793405,
            null,
            0.00030538556810793405,
            0.0007435877615633362,
            null,
            0.0007435877615633362,
            0.001149494750530262,
            null,
            0.001149494750530262,
            0.001397373414375037,
            null,
            0.001397373414375037,
            0.0014072742932175575,
            null,
            0.0014072742932175575,
            0.0011476146446681352,
            null,
            0.0011476146446681352,
            0.0006465283152986853,
            null,
            0.0006465283152986853,
            1.4284880025973368e-7,
            null,
            1.4284880025973368e-7,
            -0.0006462400618859297,
            null,
            -0.0006462400618859297,
            -0.0011473255305961135,
            null,
            -0.0011473255305961135,
            -0.0014069992362058354,
            null,
            -0.0014069992362058354,
            -0.001397135105373529,
            null,
            -0.001397135105373529,
            -0.0011493143594145851,
            null,
            -0.0011493143594145851,
            -0.0007434777502249118,
            null,
            -0.0007434777502249118,
            -0.0003053429547446287,
            null,
            -0.0003053429547446287,
            0,
            null,
            0,
            0,
            null,
            0,
            0,
            null
           ],
           "z": [
            0,
            0,
            null,
            0,
            0,
            null,
            0,
            -0.001460872537439177,
            null,
            -0.001460872537439177,
            -0.0040347535623553085,
            null,
            -0.0040347535623553085,
            -0.007284272458910515,
            null,
            -0.007284272458910515,
            -0.010800330131483602,
            null,
            -0.010800330131483602,
            -0.014207798115507568,
            null,
            -0.014207798115507568,
            -0.01711438909472861,
            null,
            -0.01711438909472861,
            -0.01910046368816243,
            null,
            -0.01910046368816243,
            -0.019810213580860755,
            null,
            -0.019810213580860755,
            -0.019100155105196488,
            null,
            -0.019100155105196488,
            -0.01711386933304268,
            null,
            -0.01711386933304268,
            -0.01420720201395456,
            null,
            -0.01420720201395456,
            -0.010799773003486215,
            null,
            -0.010799773003486215,
            -0.007283833596371189,
            null,
            -0.007283833596371189,
            -0.004034479075762887,
            null,
            -0.004034479075762887,
            -0.0014607650628130834,
            null,
            -0.0014607650628130834,
            0,
            null,
            0,
            0,
            null,
            0,
            0,
            null
           ]
          },
          {
           "i": [],
           "j": [],
           "k": [],
           "name": "Faces",
           "type": "mesh3d",
           "x": {
            "bdata": "PLTIdr6fij8+30+Nl26SP11kO99PjZc/XXyS77BunD/penaSf2WgP1BKozX9U6I/ctlGLg0kpD/m3c/R4AKmP/AWDaA6Fqg/JypnEDxrqj+4Y8kXje2sPzROcqLcb68/kRKefm3isD+bPql2GeyxP9I04OOD27I/gcUI6I3Dsz8CmSw4z7q0P5vOmZPk0bU/CtejcD0Ktz9SuB6F61G4P5qZmZmZmbk/",
            "dtype": "f8"
           },
           "y": {
            "bdata": "AAAAAAAAAAAAAAAAAAAAgAAAAAAAAACAgfMWB4UDND84Lw6Pql1IP7ihEZdU1VI/a9NcRwLlVj+uOjdEiQ5XP1oxgddxzVI/Er0t/HgvRT8YXs9VPyyDPuBqMPcNLUW/QQVvaDvMUr+xvB7tYQ1Xv9upe2UC5Fa/WFyJ5ZLUUr9Xua5PvlxIv9uBMwHOAjS/AAAAAAAAAAAAAAAAAAAAAAAAAAAAAAAA",
            "dtype": "f8"
           },
           "z": {
            "bdata": "AAAAAAAAAAAAAAAAAAAAgAAAAAAAAACAeTtn8VfvV78mU5DpvoZwv5Bex/8c1n2/8hWbxXsehr+PwQhi+hiNv12/zzVvhpG/ATGEaxKPk7+ch9PtIEmUv2X0Gbb9jpO/mK1fVEyGkb+PCyRgqhiNvztl1f4wHoa//e1fMafVfb/NH/06dYZwv17DAIvk7le/AAAAAAAAAAAAAAAAAAAAAAAAAAAAAAAA",
            "dtype": "f8"
           }
          }
         ],
         "layout": {
          "annotations": [
           {
            "showarrow": false,
            "text": "Time: 0.91s (Step: 92/100)",
            "x": 0.05,
            "xref": "paper",
            "y": 0.95,
            "yref": "paper"
           }
          ]
         },
         "name": "91"
        },
        {
         "data": [
          {
           "name": "Free Nodes",
           "type": "scatter3d",
           "x": {
            "bdata": "OXFoELZunD9UlbTHi2WgP0RkH1UaVKI/o91K9zwkpD9njsVNHAOmP/FkIa9yFqg/tMDQbV5rqj9TRqz3jO2sP37Z9/m5b68/vk8qRlHisD9SuY+A++uxP3ORQMtr27I/c0rwMn/Dsz+vtuEKybq0P2PWnkbj0bU/",
            "dtype": "f8"
           },
           "y": {
            "bdata": "UuJ/VyNBND/emYqEv6hIP/1+1sJuD1M/ItpDb7UrVz+ETYBkxFVXP9zzIEaHB1M/BljXf+hwRT/GHRUVF9+DPhHRptVmbkW/HCiFX0UGU78v/P8DklRXv3vO3OCrKle/aRT3qKUOU7/IuAcgyqdIv3Lv0yBlQDS/",
            "dtype": "f8"
           },
           "z": {
            "bdata": "bNTUwCHrV79VGjNzQYRwv81L1KJe0n2/oOxVdDUchr+XbM13ghaNvyjpHk4qhZG/RRXer8qNk79mNQdF2EeUv5vgIWO1jZO/33u6bAaFkb9B6lcnMBaNv7I7t4HoG4a/IMDxYOXRfb99agSV9YNwv496gNyq6le/",
            "dtype": "f8"
           }
          },
          {
           "name": "Fixed Nodes",
           "type": "scatter3d",
           "x": {
            "bdata": "PLTIdr6fij8+30+Nl26SP11kO99PjZc/CtejcD0Ktz9SuB6F61G4P5qZmZmZmbk/",
            "dtype": "f8"
           },
           "y": {
            "bdata": "AAAAAAAAAAAAAAAAAAAAgAAAAAAAAACAAAAAAAAAAAAAAAAAAAAAAAAAAAAAAAAA",
            "dtype": "f8"
           },
           "z": {
            "bdata": "AAAAAAAAAAAAAAAAAAAAgAAAAAAAAACAAAAAAAAAAAAAAAAAAAAAAAAAAAAAAAAA",
            "dtype": "f8"
           }
          },
          {
           "name": "Edges",
           "type": "scatter3d",
           "x": [
            0.013000000000000005,
            0.01800000000000001,
            null,
            0.01800000000000001,
            0.02300000000000001,
            null,
            0.02300000000000001,
            0.02776607966562603,
            null,
            0.02776607966562603,
            0.032024734619236966,
            null,
            0.032024734619236966,
            0.03579790391058471,
            null,
            0.03579790391058471,
            0.03933897513109776,
            null,
            0.03933897513109776,
            0.04299248170243857,
            null,
            0.04299248170243857,
            0.04704626453230699,
            null,
            0.04704626453230699,
            0.05160040941734803,
            null,
            0.05160040941734803,
            0.056499867661966484,
            null,
            0.056499867661966484,
            0.06139928032273455,
            null,
            0.06139928032273455,
            0.06595333064097894,
            null,
            0.06595333064097894,
            0.07000705612856464,
            null,
            0.07000705612856464,
            0.07366059982502353,
            null,
            0.07366059982502353,
            0.07720179551714938,
            null,
            0.07720179551714938,
            0.08097511783281662,
            null,
            0.08097511783281662,
            0.08523388361103339,
            null,
            0.08523388361103339,
            0.09,
            null,
            0.09,
            0.095,
            null,
            0.095,
            0.1,
            null
           ],
           "y": [
            0,
            0,
            null,
            0,
            0,
            null,
            0,
            0.0003090583118133028,
            null,
            0.0003090583118133028,
            0.0007525382180418279,
            null,
            0.0007525382180418279,
            0.0011633474017357919,
            null,
            0.0011633474017357919,
            0.0014142295668172562,
            null,
            0.0014142295668172562,
            0.0014242570778194305,
            null,
            0.0014242570778194305,
            0.0011614628824780848,
            null,
            0.0011614628824780848,
            0.0006543288470151072,
            null,
            0.0006543288470151072,
            1.480538096931763e-7,
            null,
            1.480538096931763e-7,
            -0.000654030048556938,
            null,
            -0.000654030048556938,
            -0.0011611630889825147,
            null,
            -0.0011611630889825147,
            -0.0014239717420421285,
            null,
            -0.0014239717420421285,
            -0.0014139822482776277,
            null,
            -0.0014139822482776277,
            -0.0011631601117738871,
            null,
            -0.0011631601117738871,
            -0.0007524239481975442,
            null,
            -0.0007524239481975442,
            -0.00030901402426741006,
            null,
            -0.00030901402426741006,
            0,
            null,
            0,
            0,
            null,
            0,
            0,
            null
           ],
           "z": [
            0,
            0,
            null,
            0,
            0,
            null,
            0,
            -0.0014598683950002534,
            null,
            -0.0014598683950002534,
            -0.0040323788300101375,
            null,
            -0.0040323788300101375,
            -0.007280702278211271,
            null,
            -0.007280702278211271,
            -0.010795991528303184,
            null,
            -0.010795991528303184,
            -0.014203089982109325,
            null,
            -0.014203089982109325,
            -0.017109547632324112,
            null,
            -0.017109547632324112,
            -0.01909558008585079,
            null,
            -0.01909558008585079,
            -0.019805316174644892,
            null,
            -0.019805316174644892,
            -0.019095262694890463,
            null,
            -0.019095262694890463,
            -0.01710901297212419,
            null,
            -0.01710901297212419,
            -0.0142024766928347,
            null,
            -0.0142024766928347,
            -0.010795418223009754,
            null,
            -0.010795418223009754,
            -0.00728025055933304,
            null,
            -0.00728025055933304,
            -0.00403209620005873,
            null,
            -0.00403209620005873,
            -0.0014597576682785806,
            null,
            -0.0014597576682785806,
            0,
            null,
            0,
            0,
            null,
            0,
            0,
            null
           ]
          },
          {
           "i": [],
           "j": [],
           "k": [],
           "name": "Faces",
           "type": "mesh3d",
           "x": {
            "bdata": "PLTIdr6fij8+30+Nl26SP11kO99PjZc/OXFoELZunD9UlbTHi2WgP0RkH1UaVKI/o91K9zwkpD9njsVNHAOmP/FkIa9yFqg/tMDQbV5rqj9TRqz3jO2sP37Z9/m5b68/vk8qRlHisD9SuY+A++uxP3ORQMtr27I/c0rwMn/Dsz+vtuEKybq0P2PWnkbj0bU/CtejcD0Ktz9SuB6F61G4P5qZmZmZmbk/",
            "dtype": "f8"
           },
           "y": {
            "bdata": "AAAAAAAAAAAAAAAAAAAAgAAAAAAAAACAUuJ/VyNBND/emYqEv6hIP/1+1sJuD1M/ItpDb7UrVz+ETYBkxFVXP9zzIEaHB1M/BljXf+hwRT/GHRUVF9+DPhHRptVmbkW/HCiFX0UGU78v/P8DklRXv3vO3OCrKle/aRT3qKUOU7/IuAcgyqdIv3Lv0yBlQDS/AAAAAAAAAAAAAAAAAAAAAAAAAAAAAAAA",
            "dtype": "f8"
           },
           "z": {
            "bdata": "AAAAAAAAAAAAAAAAAAAAgAAAAAAAAACAbNTUwCHrV79VGjNzQYRwv81L1KJe0n2/oOxVdDUchr+XbM13ghaNvyjpHk4qhZG/RRXer8qNk79mNQdF2EeUv5vgIWO1jZO/33u6bAaFkb9B6lcnMBaNv7I7t4HoG4a/IMDxYOXRfb99agSV9YNwv496gNyq6le/AAAAAAAAAAAAAAAAAAAAAAAAAAAAAAAA",
            "dtype": "f8"
           }
          }
         ],
         "layout": {
          "annotations": [
           {
            "showarrow": false,
            "text": "Time: 0.92s (Step: 93/100)",
            "x": 0.05,
            "xref": "paper",
            "y": 0.95,
            "yref": "paper"
           }
          ]
         },
         "name": "92"
        },
        {
         "data": [
          {
           "name": "Free Nodes",
           "type": "scatter3d",
           "x": {
            "bdata": "L55TP7tunD/6wIwdmGWgP/xnHME3VKI/NCBnPG0kpD8zN9FiWAOmP70pbU2rFqg/uFKEIoFrqj/mXQLXjO2sPyEC9fiWb68/XN1UxTTisD/mNQ093euxP9E0x3NT27I/3ncCV3DDsz8Kwf3Mwrq0P99rCvbh0bU/",
            "dtype": "f8"
           },
           "y": {
            "bdata": "MWpKD5t+ND94mbXLpfNIP0JuEidlSVM/u61qHT1yVz8jAm/70pxXP9QPB6J2QVM/iNEjGieyRT84YzcOo86DPl8Lo0mmr0W/MnNAvTNAU7/fTh8znptXv317+WIwcVe/KWrn+5hIU7/HQ/cCrPJIv29Ipg7ZfTS/",
            "dtype": "f8"
           },
           "z": {
            "bdata": "wiiDTODmV79vgWpcvYFwvwvj21eWzn2/uu73HukZhr/NJlwMBBSNv3tgyhHig5G/RNFYmn+Mk79zF20+jEaUv5h4fa1pjJO/zRgBIb2Dkb8zrglIrxONv98m+duZGYa/YxX8ZhnOfb8wNWAob4FwvwB+zKtl5le/",
            "dtype": "f8"
           }
          },
          {
           "name": "Fixed Nodes",
           "type": "scatter3d",
           "x": {
            "bdata": "PLTIdr6fij8+30+Nl26SP11kO99PjZc/CtejcD0Ktz9SuB6F61G4P5qZmZmZmbk/",
            "dtype": "f8"
           },
           "y": {
            "bdata": "AAAAAAAAAAAAAAAAAAAAgAAAAAAAAACAAAAAAAAAAAAAAAAAAAAAAAAAAAAAAAAA",
            "dtype": "f8"
           },
           "z": {
            "bdata": "AAAAAAAAAAAAAAAAAAAAgAAAAAAAAACAAAAAAAAAAAAAAAAAAAAAAAAAAAAAAAAA",
            "dtype": "f8"
           }
          },
          {
           "name": "Edges",
           "type": "scatter3d",
           "x": [
            0.013000000000000005,
            0.01800000000000001,
            null,
            0.01800000000000001,
            0.02300000000000001,
            null,
            0.02300000000000001,
            0.027766156902457147,
            null,
            0.027766156902457147,
            0.03202510224071094,
            null,
            0.03202510224071094,
            0.035798780749431075,
            null,
            0.035798780749431075,
            0.03934041368808075,
            null,
            0.03934041368808075,
            0.042994272291805656,
            null,
            0.042994272291805656,
            0.04704795189043718,
            null,
            0.04704795189043718,
            0.05160144373272629,
            null,
            0.05160144373272629,
            0.05649986385941101,
            null,
            0.05649986385941101,
            0.0613982371237436,
            null,
            0.0613982371237436,
            0.0659516317144741,
            null,
            0.0659516317144741,
            0.07000525227086704,
            null,
            0.07000525227086704,
            0.07365914894690496,
            null,
            0.07365914894690496,
            0.07720090984591318,
            null,
            0.07720090984591318,
            0.0809747457949507,
            null,
            0.0809747457949507,
            0.08523380524495348,
            null,
            0.08523380524495348,
            0.09,
            null,
            0.09,
            0.095,
            null,
            0.095,
            0.1,
            null
           ],
           "y": [
            0,
            0,
            null,
            0,
            0,
            null,
            0,
            0.0003127220691482606,
            null,
            0.0003127220691482606,
            0.0007614669370184365,
            null,
            0.0007614669370184365,
            0.0011771667307475396,
            null,
            0.0011771667307475396,
            0.0014310452294620097,
            null,
            0.0014310452294620097,
            0.001441198384540717,
            null,
            0.001441198384540717,
            0.0011752756619083276,
            null,
            0.0011752756619083276,
            0.0006621066025034742,
            null,
            0.0006621066025034742,
            1.4757495768351956e-7,
            null,
            1.4757495768351956e-7,
            -0.0006618082000148065,
            null,
            -0.0006618082000148065,
            -0.0011749749437576893,
            null,
            -0.0011749749437576893,
            -0.0014409108084593653,
            null,
            -0.0014409108084593653,
            -0.001430794956739339,
            null,
            -0.001430794956739339,
            -0.0011769765838979351,
            null,
            -0.0011769765838979351,
            -0.0007613506222076066,
            null,
            -0.0007613506222076066,
            -0.00031267689942027823,
            null,
            -0.00031267689942027823,
            0,
            null,
            0,
            0,
            null,
            0,
            0,
            null
           ],
           "z": [
            0,
            0,
            null,
            0,
            0,
            null,
            0,
            -0.001458853761550347,
            null,
            -0.001458853761550347,
            -0.004029979411513159,
            null,
            -0.004029979411513159,
            -0.007277095106240204,
            null,
            -0.007277095106240204,
            -0.010791608102400974,
            null,
            -0.010791608102400974,
            -0.014198333384701023,
            null,
            -0.014198333384701023,
            -0.017104656539772094,
            null,
            -0.017104656539772094,
            -0.019090646548833648,
            null,
            -0.019090646548833648,
            -0.019800368604840423,
            null,
            -0.019800368604840423,
            -0.01909031983756701,
            null,
            -0.01909031983756701,
            -0.017104106082364724,
            null,
            -0.017104106082364724,
            -0.014197701822204234,
            null,
            -0.014197701822204234,
            -0.010791017556715797,
            null,
            -0.010791017556715797,
            -0.007276629665061793,
            null,
            -0.007276629665061793,
            -0.004029688081584923,
            null,
            -0.004029688081584923,
            -0.0014587395555237803,
            null,
            -0.0014587395555237803,
            0,
            null,
            0,
            0,
            null,
            0,
            0,
            null
           ]
          },
          {
           "i": [],
           "j": [],
           "k": [],
           "name": "Faces",
           "type": "mesh3d",
           "x": {
            "bdata": "PLTIdr6fij8+30+Nl26SP11kO99PjZc/L55TP7tunD/6wIwdmGWgP/xnHME3VKI/NCBnPG0kpD8zN9FiWAOmP70pbU2rFqg/uFKEIoFrqj/mXQLXjO2sPyEC9fiWb68/XN1UxTTisD/mNQ093euxP9E0x3NT27I/3ncCV3DDsz8Kwf3Mwrq0P99rCvbh0bU/CtejcD0Ktz9SuB6F61G4P5qZmZmZmbk/",
            "dtype": "f8"
           },
           "y": {
            "bdata": "AAAAAAAAAAAAAAAAAAAAgAAAAAAAAACAMWpKD5t+ND94mbXLpfNIP0JuEidlSVM/u61qHT1yVz8jAm/70pxXP9QPB6J2QVM/iNEjGieyRT84YzcOo86DPl8Lo0mmr0W/MnNAvTNAU7/fTh8znptXv317+WIwcVe/KWrn+5hIU7/HQ/cCrPJIv29Ipg7ZfTS/AAAAAAAAAAAAAAAAAAAAAAAAAAAAAAAA",
            "dtype": "f8"
           },
           "z": {
            "bdata": "AAAAAAAAAAAAAAAAAAAAgAAAAAAAAACAwiiDTODmV79vgWpcvYFwvwvj21eWzn2/uu73HukZhr/NJlwMBBSNv3tgyhHig5G/RNFYmn+Mk79zF20+jEaUv5h4fa1pjJO/zRgBIb2Dkb8zrglIrxONv98m+duZGYa/YxX8ZhnOfb8wNWAob4FwvwB+zKtl5le/AAAAAAAAAAAAAAAAAAAAAAAAAAAAAAAA",
            "dtype": "f8"
           }
          }
         ],
         "layout": {
          "annotations": [
           {
            "showarrow": false,
            "text": "Time: 0.93s (Step: 94/100)",
            "x": 0.05,
            "xref": "paper",
            "y": 0.95,
            "yref": "paper"
           }
          ]
         },
         "name": "93"
        },
        {
         "data": [
          {
           "name": "Free Nodes",
           "type": "scatter3d",
           "x": {
            "bdata": "ed0+fMBunD/Cj8STpGWgP9a/A3lVVKI/c/uX/J0kpD9iqaMPlQOmP4vQq3nkFqg/on23LaRrqj8y5sy1jO2sPyxKN6Bzb68/9krC/BfisD9bFcysvuuxP5Cm+N0627I/SZyMVGHDsz8g+55+vLq0PxEg4qHg0bU/",
            "dtype": "f8"
           },
           "y": {
            "bdata": "wZIx++u7ND9dwcMrXT5JP3+ngJ03g1M/AZRdLJm4Vz+46QjxtONXPyo0De0/e1M/6MAsFTXzRT9o6BxXTQSDPhB8tnrL8EW/PUA5AQZ6U7+cxzz2heJXv5Ob6nOPt1e/vDpdgGyCU78mX9yBYz1Jv3OnlGopuzS/",
            "dtype": "f8"
           },
           "z": {
            "bdata": "ko3gp5PiV7+eXfKwMn9wv7/qvTDEyn2/kdqB0JYXhr/OrOQrfxGNvxMaRoeWgpG/aZWpMTGLk7/ZZd3gPEWUv8vq/psai5O/cHjad3CCkb/nF+XOJxGNv3nLFhlFF4a/g0AqVkPKfb/Gl1EB4n5wvzQ4MA0V4le/",
            "dtype": "f8"
           }
          },
          {
           "name": "Fixed Nodes",
           "type": "scatter3d",
           "x": {
            "bdata": "PLTIdr6fij8+30+Nl26SP11kO99PjZc/CtejcD0Ktz9SuB6F61G4P5qZmZmZmbk/",
            "dtype": "f8"
           },
           "y": {
            "bdata": "AAAAAAAAAAAAAAAAAAAAgAAAAAAAAACAAAAAAAAAAAAAAAAAAAAAAAAAAAAAAAAA",
            "dtype": "f8"
           },
           "z": {
            "bdata": "AAAAAAAAAAAAAAAAAAAAgAAAAAAAAACAAAAAAAAAAAAAAAAAAAAAAAAAAAAAAAAA",
            "dtype": "f8"
           }
          },
          {
           "name": "Edges",
           "type": "scatter3d",
           "x": [
            0.013000000000000005,
            0.01800000000000001,
            null,
            0.01800000000000001,
            0.02300000000000001,
            null,
            0.02300000000000001,
            0.027766234954211797,
            null,
            0.027766234954211797,
            0.03202547363096599,
            null,
            0.03202547363096599,
            0.035799666425986906,
            null,
            0.035799666425986906,
            0.03934186657351448,
            null,
            0.03934186657351448,
            0.042996080550284047,
            null,
            0.042996080550284047,
            0.04704965577357808,
            null,
            0.04704965577357808,
            0.05160248811784675,
            null,
            0.05160248811784675,
            0.05649985999339115,
            null,
            0.05649985999339115,
            0.06139718371163769,
            null,
            0.06139718371163769,
            0.06594991608498532,
            null,
            0.06594991608498532,
            0.07000343054467832,
            null,
            0.07000343054467832,
            0.07365768355580316,
            null,
            0.07365768355580316,
            0.07720001520338927,
            null,
            0.07720001520338927,
            0.08097436992009621,
            null,
            0.08097436992009621,
            0.08523372604588554,
            null,
            0.08523372604588554,
            0.09,
            null,
            0.09,
            0.095,
            null,
            0.095,
            0.1,
            null
           ],
           "y": [
            0,
            0,
            null,
            0,
            0,
            null,
            0,
            0.00031637679348354644,
            null,
            0.00031637679348354644,
            0.0007703738151843377,
            null,
            0.0007703738151843377,
            0.0011909525983448686,
            null,
            0.0011909525983448686,
            0.0014478202660594965,
            null,
            0.0014478202660594965,
            0.0014580981261490388,
            null,
            0.0014580981261490388,
            0.001189052989690307,
            null,
            0.001189052989690307,
            0.0006698617165508377,
            null,
            0.0006698617165508377,
            1.416862392357926e-7,
            null,
            1.416862392357926e-7,
            -0.0006695741225718494,
            null,
            -0.0006695741225718494,
            -0.0011887606277874018,
            null,
            -0.0011887606277874018,
            -0.0014578159543358954,
            null,
            -0.0014578159543358954,
            -0.0014475727945552949,
            null,
            -0.0014475727945552949,
            -0.0011907634338574188,
            null,
            -0.0011907634338574188,
            -0.0007702575564705091,
            null,
            -0.0007702575564705091,
            -0.0003163314928139517,
            null,
            -0.0003163314928139517,
            0,
            null,
            0,
            0,
            null,
            0,
            0,
            null
           ],
           "z": [
            0,
            0,
            null,
            0,
            0,
            null,
            0,
            -0.0014578287077789726,
            null,
            -0.0014578287077789726,
            -0.004027555477612492,
            null,
            -0.004027555477612492,
            -0.007273451203100022,
            null,
            -0.007273451203100022,
            -0.010787180174003626,
            null,
            -0.010787180174003626,
            -0.014193528677955671,
            null,
            -0.014193528677955671,
            -0.017099716192683866,
            null,
            -0.017099716192683866,
            -0.019085663467554612,
            null,
            -0.019085663467554612,
            -0.01979537126985584,
            null,
            -0.01979537126985584,
            -0.019085326930261808,
            null,
            -0.019085326930261808,
            -0.01709914905097104,
            null,
            -0.01709914905097104,
            -0.014192877770835067,
            null,
            -0.014192877770835067,
            -0.010786571338803107,
            null,
            -0.010786571338803107,
            -0.007272971185230517,
            null,
            -0.007272971185230517,
            -0.0040272548986645725,
            null,
            -0.0040272548986645725,
            -0.0014577107983799855,
            null,
            -0.0014577107983799855,
            0,
            null,
            0,
            0,
            null,
            0,
            0,
            null
           ]
          },
          {
           "i": [],
           "j": [],
           "k": [],
           "name": "Faces",
           "type": "mesh3d",
           "x": {
            "bdata": "PLTIdr6fij8+30+Nl26SP11kO99PjZc/ed0+fMBunD/Cj8STpGWgP9a/A3lVVKI/c/uX/J0kpD9iqaMPlQOmP4vQq3nkFqg/on23LaRrqj8y5sy1jO2sPyxKN6Bzb68/9krC/BfisD9bFcysvuuxP5Cm+N0627I/SZyMVGHDsz8g+55+vLq0PxEg4qHg0bU/CtejcD0Ktz9SuB6F61G4P5qZmZmZmbk/",
            "dtype": "f8"
           },
           "y": {
            "bdata": "AAAAAAAAAAAAAAAAAAAAgAAAAAAAAACAwZIx++u7ND9dwcMrXT5JP3+ngJ03g1M/AZRdLJm4Vz+46QjxtONXPyo0De0/e1M/6MAsFTXzRT9o6BxXTQSDPhB8tnrL8EW/PUA5AQZ6U7+cxzz2heJXv5Ob6nOPt1e/vDpdgGyCU78mX9yBYz1Jv3OnlGopuzS/AAAAAAAAAAAAAAAAAAAAAAAAAAAAAAAA",
            "dtype": "f8"
           },
           "z": {
            "bdata": "AAAAAAAAAAAAAAAAAAAAgAAAAAAAAACAko3gp5PiV7+eXfKwMn9wv7/qvTDEyn2/kdqB0JYXhr/OrOQrfxGNvxMaRoeWgpG/aZWpMTGLk7/ZZd3gPEWUv8vq/psai5O/cHjad3CCkb/nF+XOJxGNv3nLFhlFF4a/g0AqVkPKfb/Gl1EB4n5wvzQ4MA0V4le/AAAAAAAAAAAAAAAAAAAAAAAAAAAAAAAA",
            "dtype": "f8"
           }
          }
         ],
         "layout": {
          "annotations": [
           {
            "showarrow": false,
            "text": "Time: 0.94s (Step: 95/100)",
            "x": 0.05,
            "xref": "paper",
            "y": 0.95,
            "yref": "paper"
           }
          ]
         },
         "name": "94"
        },
        {
         "data": [
          {
           "name": "Free Nodes",
           "type": "scatter3d",
           "x": {
            "bdata": "+FoVx8VunD9CCyIqsWWgP16LP3xzVKI/M4vaNs8kpD/tX+5S0gOmP/NgmTIeF6g/06qgjsdrqj+nZw6UjO2sP5kvjvBPb68/rG4Y7frhsD8OFXjQn+uxP82gWgoi27I/8t3cK1LDsz86FuQftrq0Px2iK0rf0bU/",
            "dtype": "f8"
           },
           "y": {
            "bdata": "HALoARb5ND/svMmP5YhJP6etNCDmvFM/osN/psn+Vz+hkgdsaipYPxJHMnTjtFM/wjCjYRM0Rj84hvQxNZSBPkuz3+zUMUa/zN6HYruzU79MLpmNSClYv3EcHm/I/Ve/k5miuh+8U7+dSKEF8IdJv9C6X71V+DS/",
            "dtype": "f8"
           },
           "z": {
            "bdata": "Q3Dw5DveV7+OLKl7oXxwv/03Az7oxn2/vasjkz4Vhr8e6MTh8w6Nv3CIsbRHgZG/lH1YfN+Jk7+KNjYz6kOUv5cksTXIiZO/eYZNeCCBkb/UxH3JmQ6Nv6mzcEXqFIa/J4ifQmPGfb+R+QwtTnxwvwBEhxa53Ve/",
            "dtype": "f8"
           }
          },
          {
           "name": "Fixed Nodes",
           "type": "scatter3d",
           "x": {
            "bdata": "PLTIdr6fij8+30+Nl26SP11kO99PjZc/CtejcD0Ktz9SuB6F61G4P5qZmZmZmbk/",
            "dtype": "f8"
           },
           "y": {
            "bdata": "AAAAAAAAAAAAAAAAAAAAgAAAAAAAAACAAAAAAAAAAAAAAAAAAAAAAAAAAAAAAAAA",
            "dtype": "f8"
           },
           "z": {
            "bdata": "AAAAAAAAAAAAAAAAAAAAgAAAAAAAAACAAAAAAAAAAAAAAAAAAAAAAAAAAAAAAAAA",
            "dtype": "f8"
           }
          },
          {
           "name": "Edges",
           "type": "scatter3d",
           "x": [
            0.013000000000000005,
            0.01800000000000001,
            null,
            0.01800000000000001,
            0.02300000000000001,
            null,
            0.02300000000000001,
            0.027766313816154103,
            null,
            0.027766313816154103,
            0.0320258487636438,
            null,
            0.0320258487636438,
            0.03580056087209614,
            null,
            0.03580056087209614,
            0.03934333366966882,
            null,
            0.03934333366966882,
            0.042997906325751824,
            null,
            0.042997906325751824,
            0.04705137603440503,
            null,
            0.04705137603440503,
            0.05160354248103762,
            null,
            0.05160354248103762,
            0.056499856065058744,
            null,
            0.056499856065058744,
            0.06139612018077329,
            null,
            0.06139612018077329,
            0.06594818390333995,
            null,
            0.06594818390333995,
            0.07000159110619483,
            null,
            0.07000159110619483,
            0.0736562037733421,
            null,
            0.0736562037733421,
            0.0771991116606541,
            null,
            0.0771991116606541,
            0.08097399023616783,
            null,
            0.08097399023616783,
            0.08523364601899926,
            null,
            0.08523364601899926,
            0.09,
            null,
            0.09,
            0.095,
            null,
            0.095,
            0.1,
            null
           ],
           "y": [
            0,
            0,
            null,
            0,
            0,
            null,
            0,
            0.0003200224618069862,
            null,
            0.0003200224618069862,
            0.000779258814487619,
            null,
            0.000779258814487619,
            0.0012047049829771812,
            null,
            0.0012047049829771812,
            0.001464554714399415,
            null,
            0.001464554714399415,
            0.0014749564435245016,
            null,
            0.0014749564435245016,
            0.0012027951459327485,
            null,
            0.0012027951459327485,
            0.0006775946269726096,
            null,
            0.0006775946269726096,
            1.3097328464225422e-7,
            null,
            1.3097328464225422e-7,
            -0.0006773271250018834,
            null,
            -0.0006773271250018834,
            -0.001202519410183389,
            null,
            -0.001202519410183389,
            -0.001474686482100379,
            null,
            -0.001474686482100379,
            -0.0014643151630211705,
            null,
            -0.0014643151630211705,
            -0.0012045202115956485,
            null,
            -0.0012045202115956485,
            -0.0007791444761642456,
            null,
            -0.0007791444761642456,
            -0.00031997769599360643,
            null,
            -0.00031997769599360643,
            0,
            null,
            0,
            0,
            null,
            0,
            0,
            null
           ],
           "z": [
            0,
            0,
            null,
            0,
            0,
            null,
            0,
            -0.0014567932992184541,
            null,
            -0.0014567932992184541,
            -0.004025107186474431,
            null,
            -0.004025107186474431,
            -0.007269770809399387,
            null,
            -0.007269770809399387,
            -0.010782708039604455,
            null,
            -0.010782708039604455,
            -0.014188676192691981,
            null,
            -0.014188676192691981,
            -0.017094726947455674,
            null,
            -0.017094726947455674,
            -0.019080631222207226,
            null,
            -0.019080631222207226,
            -0.01979032456943356,
            null,
            -0.01979032456943356,
            -0.019080284382913062,
            null,
            -0.019080284382913062,
            -0.017094142286970346,
            null,
            -0.017094142286970346,
            -0.01418800493385889,
            null,
            -0.01418800493385889,
            -0.010782079929492943,
            null,
            -0.010782079929492943,
            -0.007269275412882726,
            null,
            -0.007269275412882726,
            -0.004024796843451376,
            null,
            -0.004024796843451376,
            -0.001456671476365523,
            null,
            -0.001456671476365523,
            0,
            null,
            0,
            0,
            null,
            0,
            0,
            null
           ]
          },
          {
           "i": [],
           "j": [],
           "k": [],
           "name": "Faces",
           "type": "mesh3d",
           "x": {
            "bdata": "PLTIdr6fij8+30+Nl26SP11kO99PjZc/+FoVx8VunD9CCyIqsWWgP16LP3xzVKI/M4vaNs8kpD/tX+5S0gOmP/NgmTIeF6g/06qgjsdrqj+nZw6UjO2sP5kvjvBPb68/rG4Y7frhsD8OFXjQn+uxP82gWgoi27I/8t3cK1LDsz86FuQftrq0Px2iK0rf0bU/CtejcD0Ktz9SuB6F61G4P5qZmZmZmbk/",
            "dtype": "f8"
           },
           "y": {
            "bdata": "AAAAAAAAAAAAAAAAAAAAgAAAAAAAAACAHALoARb5ND/svMmP5YhJP6etNCDmvFM/osN/psn+Vz+hkgdsaipYPxJHMnTjtFM/wjCjYRM0Rj84hvQxNZSBPkuz3+zUMUa/zN6HYruzU79MLpmNSClYv3EcHm/I/Ve/k5miuh+8U7+dSKEF8IdJv9C6X71V+DS/AAAAAAAAAAAAAAAAAAAAAAAAAAAAAAAA",
            "dtype": "f8"
           },
           "z": {
            "bdata": "AAAAAAAAAAAAAAAAAAAAgAAAAAAAAACAQ3Dw5DveV7+OLKl7oXxwv/03Az7oxn2/vasjkz4Vhr8e6MTh8w6Nv3CIsbRHgZG/lH1YfN+Jk7+KNjYz6kOUv5cksTXIiZO/eYZNeCCBkb/UxH3JmQ6Nv6mzcEXqFIa/J4ifQmPGfb+R+QwtTnxwvwBEhxa53Ve/AAAAAAAAAAAAAAAAAAAAAAAAAAAAAAAA",
            "dtype": "f8"
           }
          }
         ],
         "layout": {
          "annotations": [
           {
            "showarrow": false,
            "text": "Time: 0.95s (Step: 96/100)",
            "x": 0.05,
            "xref": "paper",
            "y": 0.95,
            "yref": "paper"
           }
          ]
         },
         "name": "95"
        },
        {
         "data": [
          {
           "name": "Free Nodes",
           "type": "scatter3d",
           "x": {
            "bdata": "CYvCH8tunD/spmvgvWWgP1yJOsqRVKI/1ZMs6gAlpD9PaGMrEASmP3xp8nZYF6g/GPd2ROtrqj9HlMpxjO2sP2r6yuorb68/Ykb+lt3hsD9/Lr6ogOuxP/Hzc/kI27I/1SZC3ULDsz97J+ywr7q0P2m87O7d0bU/",
            "dtype": "f8"
           },
           "y": {
            "bdata": "UACsHxk2NT9ZjJsAP9NJP3lkDsRw9lM/MLzNvc5EWD9BzPzG83BYP7P7gcJh7lM/jWaPecN0Rj9slswpkzZ/PkIIyJ3Acka/Gb/a3FLtU79WFc8I5W9Yvz0IkovaQ1i/wqjSFrL1U7/SldncUNJJv9CkCH1dNTW/",
            "dtype": "f8"
           },
           "z": {
            "bdata": "sD92FNnZV7+zM6rGCXpwv0IXBo8Cw32/9i9VcOAShr9eq6E4YgyNv2Gg4Z/1f5G/fAnGgIqIk78mFls8lEKUv8OO0YFyiJO/bV62Kc1/kb8DAzVGBQyNv+RtMm6JEoa/I6LMQXnCfb9fkJ65s3lwv309EN9R2Ve/",
            "dtype": "f8"
           }
          },
          {
           "name": "Fixed Nodes",
           "type": "scatter3d",
           "x": {
            "bdata": "PLTIdr6fij8+30+Nl26SP11kO99PjZc/CtejcD0Ktz9SuB6F61G4P5qZmZmZmbk/",
            "dtype": "f8"
           },
           "y": {
            "bdata": "AAAAAAAAAAAAAAAAAAAAgAAAAAAAAACAAAAAAAAAAAAAAAAAAAAAAAAAAAAAAAAA",
            "dtype": "f8"
           },
           "z": {
            "bdata": "AAAAAAAAAAAAAAAAAAAAgAAAAAAAAACAAAAAAAAAAAAAAAAAAAAAAAAAAAAAAAAA",
            "dtype": "f8"
           }
          },
          {
           "name": "Edges",
           "type": "scatter3d",
           "x": [
            0.013000000000000005,
            0.01800000000000001,
            null,
            0.01800000000000001,
            0.02300000000000001,
            null,
            0.02300000000000001,
            0.02776639348361257,
            null,
            0.02776639348361257,
            0.03202622761257409,
            null,
            0.03202622761257409,
            0.03580146401988557,
            null,
            0.03580146401988557,
            0.03934481485911304,
            null,
            0.03934481485911304,
            0.04299974946634732,
            null,
            0.04299974946634732,
            0.04705311252583308,
            null,
            0.04705311252583308,
            0.05160460673094586,
            null,
            0.05160460673094586,
            0.05649985207609425,
            null,
            0.05649985207609425,
            0.06139504662632052,
            null,
            0.06139504662632052,
            0.06594643532141611,
            null,
            0.06594643532141611,
            0.06999973411273606,
            null,
            0.06999973411273606,
            0.07365470972213452,
            null,
            0.07365470972213452,
            0.07719819928947953,
            null,
            0.07719819928947953,
            0.08097360677143499,
            null,
            0.08097360677143499,
            0.08523356516956117,
            null,
            0.08523356516956117,
            0.09,
            null,
            0.09,
            0.095,
            null,
            0.095,
            0.1,
            null
           ],
           "y": [
            0,
            0,
            null,
            0,
            0,
            null,
            0,
            0.0003236590707018693,
            null,
            0.0003236590707018693,
            0.0007881219509865519,
            null,
            0.0007881219509865519,
            0.0012184239605857168,
            null,
            0.0012184239605857168,
            0.0014812487563309433,
            null,
            0.0014812487563309433,
            0.0014917736661572841,
            null,
            0.0014917736661572841,
            0.0012165026364809705,
            null,
            0.0012165026364809705,
            0.0006853060214055559,
            null,
            0.0006853060214055559,
            1.1627816793850393e-7,
            null,
            1.1627816793850393e-7,
            -0.0006850662717286032,
            null,
            -0.0006850662717286032,
            -0.0012162503439121007,
            null,
            -0.0012162503439121007,
            -0.0014915215171965221,
            null,
            -0.0014915215171965221,
            -0.0014810213308753672,
            null,
            -0.0014810213308753672,
            -0.0012182463790773456,
            null,
            -0.0012182463790773456,
            -0.0007880110585573535,
            null,
            -0.0007880110585573535,
            -0.0003236153834530022,
            null,
            -0.0003236153834530022,
            0,
            null,
            0,
            0,
            null,
            0,
            0,
            null
           ],
           "z": [
            0,
            0,
            null,
            0,
            0,
            null,
            0,
            -0.001455747596853723,
            null,
            -0.001455747596853723,
            -0.004022634685168325,
            null,
            -0.004022634685168325,
            -0.007266054148549918,
            null,
            -0.007266054148549918,
            -0.010778191974758027,
            null,
            -0.010778191974758027,
            -0.014183776238686437,
            null,
            -0.014183776238686437,
            -0.017089689143546475,
            null,
            -0.017089689143546475,
            -0.01907555018397876,
            null,
            -0.01907555018397876,
            -0.01978522890455827,
            null,
            -0.01978522890455827,
            -0.019075192616937253,
            null,
            -0.019075192616937253,
            -0.017089086218759087,
            null,
            -0.017089086218759087,
            -0.014183083729791606,
            null,
            -0.014183083729791606,
            -0.010777543712086897,
            null,
            -0.010777543712086897,
            -0.007265542660015475,
            null,
            -0.007265542660015475,
            -0.004022314120366215,
            null,
            -0.004022314120366215,
            -0.0014556216740436439,
            null,
            -0.0014556216740436439,
            0,
            null,
            0,
            0,
            null,
            0,
            0,
            null
           ]
          },
          {
           "i": [],
           "j": [],
           "k": [],
           "name": "Faces",
           "type": "mesh3d",
           "x": {
            "bdata": "PLTIdr6fij8+30+Nl26SP11kO99PjZc/CYvCH8tunD/spmvgvWWgP1yJOsqRVKI/1ZMs6gAlpD9PaGMrEASmP3xp8nZYF6g/GPd2ROtrqj9HlMpxjO2sP2r6yuorb68/Ykb+lt3hsD9/Lr6ogOuxP/Hzc/kI27I/1SZC3ULDsz97J+ywr7q0P2m87O7d0bU/CtejcD0Ktz9SuB6F61G4P5qZmZmZmbk/",
            "dtype": "f8"
           },
           "y": {
            "bdata": "AAAAAAAAAAAAAAAAAAAAgAAAAAAAAACAUACsHxk2NT9ZjJsAP9NJP3lkDsRw9lM/MLzNvc5EWD9BzPzG83BYP7P7gcJh7lM/jWaPecN0Rj9slswpkzZ/PkIIyJ3Acka/Gb/a3FLtU79WFc8I5W9Yvz0IkovaQ1i/wqjSFrL1U7/SldncUNJJv9CkCH1dNTW/AAAAAAAAAAAAAAAAAAAAAAAAAAAAAAAA",
            "dtype": "f8"
           },
           "z": {
            "bdata": "AAAAAAAAAAAAAAAAAAAAgAAAAAAAAACAsD92FNnZV7+zM6rGCXpwv0IXBo8Cw32/9i9VcOAShr9eq6E4YgyNv2Gg4Z/1f5G/fAnGgIqIk78mFls8lEKUv8OO0YFyiJO/bV62Kc1/kb8DAzVGBQyNv+RtMm6JEoa/I6LMQXnCfb9fkJ65s3lwv309EN9R2Ve/AAAAAAAAAAAAAAAAAAAAAAAAAAAAAAAA",
            "dtype": "f8"
           }
          }
         ],
         "layout": {
          "annotations": [
           {
            "showarrow": false,
            "text": "Time: 0.96s (Step: 97/100)",
            "x": 0.05,
            "xref": "paper",
            "y": 0.95,
            "yref": "paper"
           }
          ]
         },
         "name": "96"
        },
        {
         "data": [
          {
           "name": "Free Nodes",
           "type": "scatter3d",
           "x": {
            "bdata": "MhwyhtBunD99KWi2ymWgPzXyX2KwVKI/qVSMFTMlpD/eNLWXTgSmP1fVc0WTF6g/zQdyTg9sqj+AEwZPjO2sP7d4wI8Hb68/sM4b+7/hsD8lbEw2YeuxP0JgzKvv2rI/6QgMaTPDsz8omdYxqbq0P2dQK5Dc0bU/",
            "dtype": "f8"
           },
           "y": {
            "bdata": "6YLjYPVyNT+I91GdaR1KPxhG87HXL1Q/jEXJwaiKWD+uhQiDUbdYP3uFC5G7J1Q/Bvl7PEe1Rj+40aLN7Hl6PoS7lSiMs0a/Zlx9QMsmVL+jKhpUWrZYv7XO5eXEiVi/BzCe7yIvVL/m8TlDhRxKvwCxMhJAcjW/",
            "dtype": "f8"
           },
           "z": {
            "bdata": "sOMzRmvVV781iHOba3dwv9MiLTITv32/cNT5cHwQhr/9wYo6ygmNv7F+b06gfpG/fzIzRTKHk7+NojQDO0GUv9wvx4cZh5O/xOW2k3Z+kb+pVhRUagmNv8N3LaEiEIa/TsgyaoW+fb9k+8K1Endwv/ELLH/f1Fe/",
            "dtype": "f8"
           }
          },
          {
           "name": "Fixed Nodes",
           "type": "scatter3d",
           "x": {
            "bdata": "PLTIdr6fij8+30+Nl26SP11kO99PjZc/CtejcD0Ktz9SuB6F61G4P5qZmZmZmbk/",
            "dtype": "f8"
           },
           "y": {
            "bdata": "AAAAAAAAAAAAAAAAAAAAgAAAAAAAAACAAAAAAAAAAAAAAAAAAAAAAAAAAAAAAAAA",
            "dtype": "f8"
           },
           "z": {
            "bdata": "AAAAAAAAAAAAAAAAAAAAgAAAAAAAAACAAAAAAAAAAAAAAAAAAAAAAAAAAAAAAAAA",
            "dtype": "f8"
           }
          },
          {
           "name": "Edges",
           "type": "scatter3d",
           "x": [
            0.013000000000000005,
            0.01800000000000001,
            null,
            0.01800000000000001,
            0.02300000000000001,
            null,
            0.02300000000000001,
            0.02776647395196736,
            null,
            0.02776647395196736,
            0.03202661015173456,
            null,
            0.03202661015173456,
            0.03580237580169802,
            null,
            0.03580237580169802,
            0.0393463100246348,
            null,
            0.0393463100246348,
            0.04300160982038802,
            null,
            0.04300160982038802,
            0.04705486510094186,
            null,
            0.04705486510094186,
            0.05160568077646097,
            null,
            0.05160568077646097,
            0.056499848028614075,
            null,
            0.056499848028614075,
            0.06139396314414241,
            null,
            0.06139396314414241,
            0.06594467049199682,
            null,
            0.06594467049199682,
            0.06999785972259127,
            null,
            0.06999785972259127,
            0.07365320152564528,
            null,
            0.07365320152564528,
            0.07719727816223422,
            null,
            0.07719727816223422,
            0.08097321955446957,
            null,
            0.08097321955446957,
            0.08523348350291969,
            null,
            0.08523348350291969,
            0.09,
            null,
            0.09,
            0.095,
            null,
            0.095,
            0.1,
            null
           ],
           "y": [
            0,
            0,
            null,
            0,
            0,
            null,
            0,
            0.00032728663144436385,
            null,
            0.00032728663144436385,
            0.0007969632812458863,
            null,
            0.0007969632812458863,
            0.0012321096799506933,
            null,
            0.0012321096799506933,
            0.0014979026810987032,
            null,
            0.0014979026810987032,
            0.001508550263800461,
            null,
            0.001508550263800461,
            0.0012301761345770701,
            null,
            0.0012301761345770701,
            0.0006929967721303338,
            null,
            0.0006929967721303338,
            9.863179020986047e-8,
            null,
            9.863179020986047e-8,
            -0.0006927904479833023,
            null,
            -0.0006927904479833023,
            -0.001229952324100636,
            null,
            -0.001229952324100636,
            -0.0015083200563902686,
            null,
            -0.0015083200563902686,
            -0.0014976904709244458,
            null,
            -0.0014976904709244458,
            -0.0012319413349102264,
            null,
            -0.0012319413349102264,
            -0.0007968569465926472,
            null,
            -0.0007968569465926472,
            -0.00032724441752908506,
            null,
            -0.00032724441752908506,
            0,
            null,
            0,
            0,
            null,
            0,
            0,
            null
           ],
           "z": [
            0,
            0,
            null,
            0,
            0,
            null,
            0,
            -0.001454691658010026,
            null,
            -0.001454691658010026,
            -0.004020138111828377,
            null,
            -0.004020138111828377,
            -0.007262301430110712,
            null,
            -0.007262301430110712,
            -0.010773632238150394,
            null,
            -0.010773632238150394,
            -0.01417882910877299,
            null,
            -0.01417882910877299,
            -0.01708460310680832,
            null,
            -0.01708460310680832,
            -0.019070420716888577,
            null,
            -0.019070420716888577,
            -0.01978008467736685,
            null,
            -0.01978008467736685,
            -0.019070052063213314,
            null,
            -0.019070052063213314,
            -0.01708398129060186,
            null,
            -0.01708398129060186,
            -0.014178114596272566,
            null,
            -0.014178114596272566,
            -0.010772963088751092,
            null,
            -0.010772963088751092,
            -0.007261773254116545,
            null,
            -0.007261773254116545,
            -0.004019806943857816,
            null,
            -0.004019806943857816,
            -0.0014545614801029195,
            null,
            -0.0014545614801029195,
            0,
            null,
            0,
            0,
            null,
            0,
            0,
            null
           ]
          },
          {
           "i": [],
           "j": [],
           "k": [],
           "name": "Faces",
           "type": "mesh3d",
           "x": {
            "bdata": "PLTIdr6fij8+30+Nl26SP11kO99PjZc/MhwyhtBunD99KWi2ymWgPzXyX2KwVKI/qVSMFTMlpD/eNLWXTgSmP1fVc0WTF6g/zQdyTg9sqj+AEwZPjO2sP7d4wI8Hb68/sM4b+7/hsD8lbEw2YeuxP0JgzKvv2rI/6QgMaTPDsz8omdYxqbq0P2dQK5Dc0bU/CtejcD0Ktz9SuB6F61G4P5qZmZmZmbk/",
            "dtype": "f8"
           },
           "y": {
            "bdata": "AAAAAAAAAAAAAAAAAAAAgAAAAAAAAACA6YLjYPVyNT+I91GdaR1KPxhG87HXL1Q/jEXJwaiKWD+uhQiDUbdYP3uFC5G7J1Q/Bvl7PEe1Rj+40aLN7Hl6PoS7lSiMs0a/Zlx9QMsmVL+jKhpUWrZYv7XO5eXEiVi/BzCe7yIvVL/m8TlDhRxKvwCxMhJAcjW/AAAAAAAAAAAAAAAAAAAAAAAAAAAAAAAA",
            "dtype": "f8"
           },
           "z": {
            "bdata": "AAAAAAAAAAAAAAAAAAAAgAAAAAAAAACAsOMzRmvVV781iHOba3dwv9MiLTITv32/cNT5cHwQhr/9wYo6ygmNv7F+b06gfpG/fzIzRTKHk7+NojQDO0GUv9wvx4cZh5O/xOW2k3Z+kb+pVhRUagmNv8N3LaEiEIa/TsgyaoW+fb9k+8K1Endwv/ELLH/f1Fe/AAAAAAAAAAAAAAAAAAAAAAAAAAAAAAAA",
            "dtype": "f8"
           }
          }
         ],
         "layout": {
          "annotations": [
           {
            "showarrow": false,
            "text": "Time: 0.97s (Step: 98/100)",
            "x": 0.05,
            "xref": "paper",
            "y": 0.95,
            "yref": "paper"
           }
          ]
         },
         "name": "97"
        },
        {
         "data": [
          {
           "name": "Free Nodes",
           "type": "scatter3d",
           "x": {
            "bdata": "x+RP+tVunD+0j96r12WgPy1GG0TPVKI/XEr4t2UlpD8JXpaWjQSmPxSy2pzOF6g//9HJqzNsqj8IQcYrjO2sP/KsQuDibq8/+NEZGqLhsD/RtdF5QeuxP59n7CHW2rI/UpyKzyPDsz+fGMOiorq0P2VR7S3b0bU/",
            "dtype": "f8"
           },
           "y": {
            "bdata": "2ack3KqvNT//hwGTZWdKP/L4Sh8baVQ/Z+BKFFjQWD8c7xc5hP1YP2pJErXxYFQ/JRiox6D1Rj+IbemAH0F1PsPNtu009Ea/DhMlRCNgVL9YKxVHp/xYv0IDhouGz1i/1b3MlXFoVL94N95pjGZKv/OCGN78rjW/",
            "dtype": "f8"
           },
           "z": {
            "bdata": "f/M2ifLQV7/FERUDx3Rwv+P+MzUau32/remMnRIOhr+ziifxKweNv4OLysVHfZG/AXrLz9aFk781JrCO3j+Uv2/XF0+9hZO/jOkjvhx9kb/qdp8CyQaNv0+0q+y1DYa/wuoY04e6fb+L5bYwa3Rwv9hwDhBi0Fe/",
            "dtype": "f8"
           }
          },
          {
           "name": "Fixed Nodes",
           "type": "scatter3d",
           "x": {
            "bdata": "PLTIdr6fij8+30+Nl26SP11kO99PjZc/CtejcD0Ktz9SuB6F61G4P5qZmZmZmbk/",
            "dtype": "f8"
           },
           "y": {
            "bdata": "AAAAAAAAAAAAAAAAAAAAgAAAAAAAAACAAAAAAAAAAAAAAAAAAAAAAAAAAAAAAAAA",
            "dtype": "f8"
           },
           "z": {
            "bdata": "AAAAAAAAAAAAAAAAAAAAgAAAAAAAAACAAAAAAAAAAAAAAAAAAAAAAAAAAAAAAAAA",
            "dtype": "f8"
           }
          },
          {
           "name": "Edges",
           "type": "scatter3d",
           "x": [
            0.013000000000000005,
            0.01800000000000001,
            null,
            0.01800000000000001,
            0.02300000000000001,
            null,
            0.02300000000000001,
            0.027766555216633983,
            null,
            0.027766555216633983,
            0.03202699635519882,
            null,
            0.03202699635519882,
            0.03580329615000397,
            null,
            0.03580329615000397,
            0.03934781904913073,
            null,
            0.03934781904913073,
            0.04300348723625908,
            null,
            0.04300348723625908,
            0.04705663361287207,
            null,
            0.04705663361287207,
            0.05160676452661405,
            null,
            0.05160676452661405,
            0.05649984392505486,
            null,
            0.05649984392505486,
            0.061392869830649746,
            null,
            0.061392869830649746,
            0.06594288956859617,
            null,
            0.06594288956859617,
            0.06999596809483612,
            null,
            0.06999596809483612,
            0.07365167930802706,
            null,
            0.07365167930802706,
            0.0771963483517635,
            null,
            0.0771963483517635,
            0.08097282861408182,
            null,
            0.08097282861408182,
            0.08523340102448669,
            null,
            0.08523340102448669,
            0.09,
            null,
            0.09,
            0.095,
            null,
            0.095,
            0.1,
            null
           ],
           "y": [
            0,
            0,
            null,
            0,
            0,
            null,
            0,
            0.00033090516457667595,
            null,
            0.00033090516457667595,
            0.000805782887266071,
            null,
            0.000805782887266071,
            0.0012457623353579442,
            null,
            0.0012457623353579442,
            0.0015145168446633274,
            null,
            0.0015145168446633274,
            0.0015252867927974595,
            null,
            0.0015252867927974595,
            0.001243816416068267,
            null,
            0.001243816416068267,
            0.0007006678636691839,
            null,
            0.0007006678636691839,
            7.917876152770455e-8,
            null,
            7.917876152770455e-8,
            -0.0007004984321867181,
            null,
            -0.0007004984321867181,
            -0.0012436241527932798,
            null,
            -0.0012436241527932798,
            -0.0015250810214008838,
            null,
            -0.0015250810214008838,
            -0.0015143217006825115,
            null,
            -0.0015143217006825115,
            -0.0012456044416458885,
            null,
            -0.0012456044416458885,
            -0.0008056817639372346,
            null,
            -0.0008056817639372346,
            -0.00033086465382052495,
            null,
            -0.00033086465382052495,
            0,
            null,
            0,
            0,
            null,
            0,
            0,
            null
           ],
           "z": [
            0,
            0,
            null,
            0,
            0,
            null,
            0,
            -0.0014536255374501814,
            null,
            -0.0014536255374501814,
            -0.004017617598325922,
            null,
            -0.004017617598325922,
            -0.0072585128539228464,
            null,
            -0.0072585128539228464,
            -0.010769029076631432,
            null,
            -0.010769029076631432,
            -0.014173835083913877,
            null,
            -0.014173835083913877,
            -0.017079469153610482,
            null,
            -0.017079469153610482,
            -0.019065243180074635,
            null,
            -0.019065243180074635,
            -0.01977489229105896,
            null,
            -0.01977489229105896,
            -0.019064863159619912,
            null,
            -0.019064863159619912,
            -0.017078827958337636,
            null,
            -0.017078827958337636,
            -0.014173097984833533,
            null,
            -0.014173097984833533,
            -0.010768338475339116,
            null,
            -0.010768338475339116,
            -0.007257967533912337,
            null,
            -0.007257967533912337,
            -0.004017275535653462,
            null,
            -0.004017275535653462,
            -0.0014534909862283143,
            null,
            -0.0014534909862283143,
            0,
            null,
            0,
            0,
            null,
            0,
            0,
            null
           ]
          },
          {
           "i": [],
           "j": [],
           "k": [],
           "name": "Faces",
           "type": "mesh3d",
           "x": {
            "bdata": "PLTIdr6fij8+30+Nl26SP11kO99PjZc/x+RP+tVunD+0j96r12WgPy1GG0TPVKI/XEr4t2UlpD8JXpaWjQSmPxSy2pzOF6g//9HJqzNsqj8IQcYrjO2sP/KsQuDibq8/+NEZGqLhsD/RtdF5QeuxP59n7CHW2rI/UpyKzyPDsz+fGMOiorq0P2VR7S3b0bU/CtejcD0Ktz9SuB6F61G4P5qZmZmZmbk/",
            "dtype": "f8"
           },
           "y": {
            "bdata": "AAAAAAAAAAAAAAAAAAAAgAAAAAAAAACA2ack3KqvNT//hwGTZWdKP/L4Sh8baVQ/Z+BKFFjQWD8c7xc5hP1YP2pJErXxYFQ/JRiox6D1Rj+IbemAH0F1PsPNtu009Ea/DhMlRCNgVL9YKxVHp/xYv0IDhouGz1i/1b3MlXFoVL94N95pjGZKv/OCGN78rjW/AAAAAAAAAAAAAAAAAAAAAAAAAAAAAAAA",
            "dtype": "f8"
           },
           "z": {
            "bdata": "AAAAAAAAAAAAAAAAAAAAgAAAAAAAAACAf/M2ifLQV7/FERUDx3Rwv+P+MzUau32/remMnRIOhr+ziifxKweNv4OLysVHfZG/AXrLz9aFk781JrCO3j+Uv2/XF0+9hZO/jOkjvhx9kb/qdp8CyQaNv0+0q+y1DYa/wuoY04e6fb+L5bYwa3Rwv9hwDhBi0Fe/AAAAAAAAAAAAAAAAAAAAAAAAAAAAAAAA",
            "dtype": "f8"
           }
          }
         ],
         "layout": {
          "annotations": [
           {
            "showarrow": false,
            "text": "Time: 0.98s (Step: 99/100)",
            "x": 0.05,
            "xref": "paper",
            "y": 0.95,
            "yref": "paper"
           }
          ]
         },
         "name": "98"
        },
        {
         "data": [
          {
           "name": "Free Nodes",
           "type": "scatter3d",
           "x": {
            "bdata": "/c0HfNtunD+x6pXA5GWgP8cT2G7uVKI//+Zu0JglpD9dWLkmzQSmP+rq43sKGKg/bli2W1hsqj9U4xAIjO2sPyxzJt29bq8/XrKh9IPhsD+Pl/1zIeuxPwQaXVy82rI/slkOERTDsz8SgtEDnLq0P7m+OMjZ0bU/",
            "dtype": "f8"
           },
           "y": {
            "bdata": "cekRrDnsNT+mfTIUM7FKP0FkQUY7olQ/BVr6Hd0VWT80e62KjENZPyMsrQ0FmlQ/F97yTNI1Rz8AYCq7n7pvPsfC8ju4NEe/XlBPl1mZVL/o6+6zykJZv6TrMIYeFVm/AT/4V52hVL/wgM5/ZbBKv51/rUCT6zW/",
            "dtype": "f8"
           },
           "z": {
            "bdata": "Bx0v7G7MV7+jJmUGHHJwv0TAfKUXt32/ky5T/qILhr8C5uhlhwSNvwrLTAvse5G/UjKwJniEk7+UM7/lfj6Uv9IOXN9dhJO/gg7wsL97kb9N9qBhIQSNv+OaPF9DC4a/9jc4lIC2fb8bDwE6vXFwvzxnZavZy1e/",
            "dtype": "f8"
           }
          },
          {
           "name": "Fixed Nodes",
           "type": "scatter3d",
           "x": {
            "bdata": "PLTIdr6fij8+30+Nl26SP11kO99PjZc/CtejcD0Ktz9SuB6F61G4P5qZmZmZmbk/",
            "dtype": "f8"
           },
           "y": {
            "bdata": "AAAAAAAAAAAAAAAAAAAAgAAAAAAAAACAAAAAAAAAAAAAAAAAAAAAAAAAAAAAAAAA",
            "dtype": "f8"
           },
           "z": {
            "bdata": "AAAAAAAAAAAAAAAAAAAAgAAAAAAAAACAAAAAAAAAAAAAAAAAAAAAAAAAAAAAAAAA",
            "dtype": "f8"
           }
          },
          {
           "name": "Edges",
           "type": "scatter3d",
           "x": [
            0.013000000000000005,
            0.01800000000000001,
            null,
            0.01800000000000001,
            0.02300000000000001,
            null,
            0.02300000000000001,
            0.027766637273044726,
            null,
            0.027766637273044726,
            0.032027386197076686,
            null,
            0.032027386197076686,
            0.03580422499729923,
            null,
            0.03580422499729923,
            0.03934934181547866,
            null,
            0.03934934181547866,
            0.04300538156228193,
            null,
            0.04300538156228193,
            0.0470584179147034,
            null,
            0.0470584179147034,
            0.051607857890460504,
            null,
            0.051607857890460504,
            0.056499839768042875,
            null,
            0.056499839768042875,
            0.061391766782639884,
            null,
            0.061391766782639884,
            0.06594109270526746,
            null,
            0.06594109270526746,
            0.06999405938912971,
            null,
            0.06999405938912971,
            0.07365014319393742,
            null,
            0.07365014319393742,
            0.07719540993125554,
            null,
            0.07719540993125554,
            0.08097243397924839,
            null,
            0.08097243397924839,
            0.08523331773971678,
            null,
            0.08523331773971678,
            0.09,
            null,
            0.09,
            0.095,
            null,
            0.095,
            0.1,
            null
           ],
           "y": [
            0,
            0,
            null,
            0,
            0,
            null,
            0,
            0.00033451469432290495,
            null,
            0.00033451469432290495,
            0.0008145808609646879,
            null,
            0.0008145808609646879,
            0.0012593821384341427,
            null,
            0.0012593821384341427,
            0.001531091627759219,
            null,
            0.001531091627759219,
            0.0015419838407166432,
            null,
            0.0015419838407166432,
            0.0012574242925491661,
            null,
            0.0012574242925491661,
            0.0007083203180603984,
            null,
            0.0007083203180603984,
            5.909986757374501e-8,
            null,
            5.909986757374501e-8,
            -0.0007081889706537996,
            null,
            -0.0007081889706537996,
            -0.0012572646057735985,
            null,
            -0.0012572646057735985,
            -0.0015418033142242608,
            null,
            -0.0015418033142242608,
            -0.0015309141242727331,
            null,
            -0.0015309141242727331,
            -0.0012592350539115118,
            null,
            -0.0012592350539115118,
            -0.0008144851304799066,
            null,
            -0.0008144851304799066,
            -0.0003344759467633853,
            null,
            -0.0003344759467633853,
            0,
            null,
            0,
            0,
            null,
            0,
            0,
            null
           ],
           "z": [
            0,
            0,
            null,
            0,
            0,
            null,
            0,
            -0.0014525492886024464,
            null,
            -0.0014525492886024464,
            -0.004015073273259925,
            null,
            -0.004015073273259925,
            -0.0072546886147364965,
            null,
            -0.0072546886147364965,
            -0.010764382730847266,
            null,
            -0.010764382730847266,
            -0.014168794438876201,
            null,
            -0.014168794438876201,
            -0.017074287595458627,
            null,
            -0.017074287595458627,
            -0.019060017930359337,
            null,
            -0.019060017930359337,
            -0.019769652149807707,
            null,
            -0.019769652149807707,
            -0.019059626348293453,
            null,
            -0.019059626348293453,
            -0.01707362668459079,
            null,
            -0.01707362668459079,
            -0.014168034355061776,
            null,
            -0.014168034355061776,
            -0.010763670295614819,
            null,
            -0.010763670295614819,
            -0.007254125844623252,
            null,
            -0.007254125844623252,
            -0.004014720121691596,
            null,
            -0.004014720121691596,
            -0.0014524102858417117,
            null,
            -0.0014524102858417117,
            0,
            null,
            0,
            0,
            null,
            0,
            0,
            null
           ]
          },
          {
           "i": [],
           "j": [],
           "k": [],
           "name": "Faces",
           "type": "mesh3d",
           "x": {
            "bdata": "PLTIdr6fij8+30+Nl26SP11kO99PjZc//c0HfNtunD+x6pXA5GWgP8cT2G7uVKI//+Zu0JglpD9dWLkmzQSmP+rq43sKGKg/bli2W1hsqj9U4xAIjO2sPyxzJt29bq8/XrKh9IPhsD+Pl/1zIeuxPwQaXVy82rI/slkOERTDsz8SgtEDnLq0P7m+OMjZ0bU/CtejcD0Ktz9SuB6F61G4P5qZmZmZmbk/",
            "dtype": "f8"
           },
           "y": {
            "bdata": "AAAAAAAAAAAAAAAAAAAAgAAAAAAAAACAcekRrDnsNT+mfTIUM7FKP0FkQUY7olQ/BVr6Hd0VWT80e62KjENZPyMsrQ0FmlQ/F97yTNI1Rz8AYCq7n7pvPsfC8ju4NEe/XlBPl1mZVL/o6+6zykJZv6TrMIYeFVm/AT/4V52hVL/wgM5/ZbBKv51/rUCT6zW/AAAAAAAAAAAAAAAAAAAAAAAAAAAAAAAA",
            "dtype": "f8"
           },
           "z": {
            "bdata": "AAAAAAAAAAAAAAAAAAAAgAAAAAAAAACABx0v7G7MV7+jJmUGHHJwv0TAfKUXt32/ky5T/qILhr8C5uhlhwSNvwrLTAvse5G/UjKwJniEk7+UM7/lfj6Uv9IOXN9dhJO/gg7wsL97kb9N9qBhIQSNv+OaPF9DC4a/9jc4lIC2fb8bDwE6vXFwvzxnZavZy1e/AAAAAAAAAAAAAAAAAAAAAAAAAAAAAAAA",
            "dtype": "f8"
           }
          }
         ],
         "layout": {
          "annotations": [
           {
            "showarrow": false,
            "text": "Time: 0.99s (Step: 100/100)",
            "x": 0.05,
            "xref": "paper",
            "y": 0.95,
            "yref": "paper"
           }
          ]
         },
         "name": "99"
        }
       ],
       "layout": {
        "scene": {
         "camera": {
          "eye": {
           "x": 2,
           "y": 0,
           "z": 0
          }
         },
         "xaxis": {
          "range": [
           0,
           0.1
          ],
          "title": {
           "text": "X Position"
          }
         },
         "yaxis": {
          "range": [
           -0.01,
           0.01
          ],
          "title": {
           "text": "Y Position"
          }
         },
         "zaxis": {
          "range": [
           -0.02002570455550028,
           0
          ],
          "title": {
           "text": "Z Position"
          }
         }
        },
        "sliders": [
         {
          "currentvalue": {
           "prefix": "Frame: "
          },
          "steps": [
           {
            "args": [
             [
              "0"
             ],
             {
              "frame": {
               "duration": 50,
               "redraw": true
              },
              "mode": "immediate"
             }
            ],
            "label": "0",
            "method": "animate"
           },
           {
            "args": [
             [
              "1"
             ],
             {
              "frame": {
               "duration": 50,
               "redraw": true
              },
              "mode": "immediate"
             }
            ],
            "label": "1",
            "method": "animate"
           },
           {
            "args": [
             [
              "2"
             ],
             {
              "frame": {
               "duration": 50,
               "redraw": true
              },
              "mode": "immediate"
             }
            ],
            "label": "2",
            "method": "animate"
           },
           {
            "args": [
             [
              "3"
             ],
             {
              "frame": {
               "duration": 50,
               "redraw": true
              },
              "mode": "immediate"
             }
            ],
            "label": "3",
            "method": "animate"
           },
           {
            "args": [
             [
              "4"
             ],
             {
              "frame": {
               "duration": 50,
               "redraw": true
              },
              "mode": "immediate"
             }
            ],
            "label": "4",
            "method": "animate"
           },
           {
            "args": [
             [
              "5"
             ],
             {
              "frame": {
               "duration": 50,
               "redraw": true
              },
              "mode": "immediate"
             }
            ],
            "label": "5",
            "method": "animate"
           },
           {
            "args": [
             [
              "6"
             ],
             {
              "frame": {
               "duration": 50,
               "redraw": true
              },
              "mode": "immediate"
             }
            ],
            "label": "6",
            "method": "animate"
           },
           {
            "args": [
             [
              "7"
             ],
             {
              "frame": {
               "duration": 50,
               "redraw": true
              },
              "mode": "immediate"
             }
            ],
            "label": "7",
            "method": "animate"
           },
           {
            "args": [
             [
              "8"
             ],
             {
              "frame": {
               "duration": 50,
               "redraw": true
              },
              "mode": "immediate"
             }
            ],
            "label": "8",
            "method": "animate"
           },
           {
            "args": [
             [
              "9"
             ],
             {
              "frame": {
               "duration": 50,
               "redraw": true
              },
              "mode": "immediate"
             }
            ],
            "label": "9",
            "method": "animate"
           },
           {
            "args": [
             [
              "10"
             ],
             {
              "frame": {
               "duration": 50,
               "redraw": true
              },
              "mode": "immediate"
             }
            ],
            "label": "10",
            "method": "animate"
           },
           {
            "args": [
             [
              "11"
             ],
             {
              "frame": {
               "duration": 50,
               "redraw": true
              },
              "mode": "immediate"
             }
            ],
            "label": "11",
            "method": "animate"
           },
           {
            "args": [
             [
              "12"
             ],
             {
              "frame": {
               "duration": 50,
               "redraw": true
              },
              "mode": "immediate"
             }
            ],
            "label": "12",
            "method": "animate"
           },
           {
            "args": [
             [
              "13"
             ],
             {
              "frame": {
               "duration": 50,
               "redraw": true
              },
              "mode": "immediate"
             }
            ],
            "label": "13",
            "method": "animate"
           },
           {
            "args": [
             [
              "14"
             ],
             {
              "frame": {
               "duration": 50,
               "redraw": true
              },
              "mode": "immediate"
             }
            ],
            "label": "14",
            "method": "animate"
           },
           {
            "args": [
             [
              "15"
             ],
             {
              "frame": {
               "duration": 50,
               "redraw": true
              },
              "mode": "immediate"
             }
            ],
            "label": "15",
            "method": "animate"
           },
           {
            "args": [
             [
              "16"
             ],
             {
              "frame": {
               "duration": 50,
               "redraw": true
              },
              "mode": "immediate"
             }
            ],
            "label": "16",
            "method": "animate"
           },
           {
            "args": [
             [
              "17"
             ],
             {
              "frame": {
               "duration": 50,
               "redraw": true
              },
              "mode": "immediate"
             }
            ],
            "label": "17",
            "method": "animate"
           },
           {
            "args": [
             [
              "18"
             ],
             {
              "frame": {
               "duration": 50,
               "redraw": true
              },
              "mode": "immediate"
             }
            ],
            "label": "18",
            "method": "animate"
           },
           {
            "args": [
             [
              "19"
             ],
             {
              "frame": {
               "duration": 50,
               "redraw": true
              },
              "mode": "immediate"
             }
            ],
            "label": "19",
            "method": "animate"
           },
           {
            "args": [
             [
              "20"
             ],
             {
              "frame": {
               "duration": 50,
               "redraw": true
              },
              "mode": "immediate"
             }
            ],
            "label": "20",
            "method": "animate"
           },
           {
            "args": [
             [
              "21"
             ],
             {
              "frame": {
               "duration": 50,
               "redraw": true
              },
              "mode": "immediate"
             }
            ],
            "label": "21",
            "method": "animate"
           },
           {
            "args": [
             [
              "22"
             ],
             {
              "frame": {
               "duration": 50,
               "redraw": true
              },
              "mode": "immediate"
             }
            ],
            "label": "22",
            "method": "animate"
           },
           {
            "args": [
             [
              "23"
             ],
             {
              "frame": {
               "duration": 50,
               "redraw": true
              },
              "mode": "immediate"
             }
            ],
            "label": "23",
            "method": "animate"
           },
           {
            "args": [
             [
              "24"
             ],
             {
              "frame": {
               "duration": 50,
               "redraw": true
              },
              "mode": "immediate"
             }
            ],
            "label": "24",
            "method": "animate"
           },
           {
            "args": [
             [
              "25"
             ],
             {
              "frame": {
               "duration": 50,
               "redraw": true
              },
              "mode": "immediate"
             }
            ],
            "label": "25",
            "method": "animate"
           },
           {
            "args": [
             [
              "26"
             ],
             {
              "frame": {
               "duration": 50,
               "redraw": true
              },
              "mode": "immediate"
             }
            ],
            "label": "26",
            "method": "animate"
           },
           {
            "args": [
             [
              "27"
             ],
             {
              "frame": {
               "duration": 50,
               "redraw": true
              },
              "mode": "immediate"
             }
            ],
            "label": "27",
            "method": "animate"
           },
           {
            "args": [
             [
              "28"
             ],
             {
              "frame": {
               "duration": 50,
               "redraw": true
              },
              "mode": "immediate"
             }
            ],
            "label": "28",
            "method": "animate"
           },
           {
            "args": [
             [
              "29"
             ],
             {
              "frame": {
               "duration": 50,
               "redraw": true
              },
              "mode": "immediate"
             }
            ],
            "label": "29",
            "method": "animate"
           },
           {
            "args": [
             [
              "30"
             ],
             {
              "frame": {
               "duration": 50,
               "redraw": true
              },
              "mode": "immediate"
             }
            ],
            "label": "30",
            "method": "animate"
           },
           {
            "args": [
             [
              "31"
             ],
             {
              "frame": {
               "duration": 50,
               "redraw": true
              },
              "mode": "immediate"
             }
            ],
            "label": "31",
            "method": "animate"
           },
           {
            "args": [
             [
              "32"
             ],
             {
              "frame": {
               "duration": 50,
               "redraw": true
              },
              "mode": "immediate"
             }
            ],
            "label": "32",
            "method": "animate"
           },
           {
            "args": [
             [
              "33"
             ],
             {
              "frame": {
               "duration": 50,
               "redraw": true
              },
              "mode": "immediate"
             }
            ],
            "label": "33",
            "method": "animate"
           },
           {
            "args": [
             [
              "34"
             ],
             {
              "frame": {
               "duration": 50,
               "redraw": true
              },
              "mode": "immediate"
             }
            ],
            "label": "34",
            "method": "animate"
           },
           {
            "args": [
             [
              "35"
             ],
             {
              "frame": {
               "duration": 50,
               "redraw": true
              },
              "mode": "immediate"
             }
            ],
            "label": "35",
            "method": "animate"
           },
           {
            "args": [
             [
              "36"
             ],
             {
              "frame": {
               "duration": 50,
               "redraw": true
              },
              "mode": "immediate"
             }
            ],
            "label": "36",
            "method": "animate"
           },
           {
            "args": [
             [
              "37"
             ],
             {
              "frame": {
               "duration": 50,
               "redraw": true
              },
              "mode": "immediate"
             }
            ],
            "label": "37",
            "method": "animate"
           },
           {
            "args": [
             [
              "38"
             ],
             {
              "frame": {
               "duration": 50,
               "redraw": true
              },
              "mode": "immediate"
             }
            ],
            "label": "38",
            "method": "animate"
           },
           {
            "args": [
             [
              "39"
             ],
             {
              "frame": {
               "duration": 50,
               "redraw": true
              },
              "mode": "immediate"
             }
            ],
            "label": "39",
            "method": "animate"
           },
           {
            "args": [
             [
              "40"
             ],
             {
              "frame": {
               "duration": 50,
               "redraw": true
              },
              "mode": "immediate"
             }
            ],
            "label": "40",
            "method": "animate"
           },
           {
            "args": [
             [
              "41"
             ],
             {
              "frame": {
               "duration": 50,
               "redraw": true
              },
              "mode": "immediate"
             }
            ],
            "label": "41",
            "method": "animate"
           },
           {
            "args": [
             [
              "42"
             ],
             {
              "frame": {
               "duration": 50,
               "redraw": true
              },
              "mode": "immediate"
             }
            ],
            "label": "42",
            "method": "animate"
           },
           {
            "args": [
             [
              "43"
             ],
             {
              "frame": {
               "duration": 50,
               "redraw": true
              },
              "mode": "immediate"
             }
            ],
            "label": "43",
            "method": "animate"
           },
           {
            "args": [
             [
              "44"
             ],
             {
              "frame": {
               "duration": 50,
               "redraw": true
              },
              "mode": "immediate"
             }
            ],
            "label": "44",
            "method": "animate"
           },
           {
            "args": [
             [
              "45"
             ],
             {
              "frame": {
               "duration": 50,
               "redraw": true
              },
              "mode": "immediate"
             }
            ],
            "label": "45",
            "method": "animate"
           },
           {
            "args": [
             [
              "46"
             ],
             {
              "frame": {
               "duration": 50,
               "redraw": true
              },
              "mode": "immediate"
             }
            ],
            "label": "46",
            "method": "animate"
           },
           {
            "args": [
             [
              "47"
             ],
             {
              "frame": {
               "duration": 50,
               "redraw": true
              },
              "mode": "immediate"
             }
            ],
            "label": "47",
            "method": "animate"
           },
           {
            "args": [
             [
              "48"
             ],
             {
              "frame": {
               "duration": 50,
               "redraw": true
              },
              "mode": "immediate"
             }
            ],
            "label": "48",
            "method": "animate"
           },
           {
            "args": [
             [
              "49"
             ],
             {
              "frame": {
               "duration": 50,
               "redraw": true
              },
              "mode": "immediate"
             }
            ],
            "label": "49",
            "method": "animate"
           },
           {
            "args": [
             [
              "50"
             ],
             {
              "frame": {
               "duration": 50,
               "redraw": true
              },
              "mode": "immediate"
             }
            ],
            "label": "50",
            "method": "animate"
           },
           {
            "args": [
             [
              "51"
             ],
             {
              "frame": {
               "duration": 50,
               "redraw": true
              },
              "mode": "immediate"
             }
            ],
            "label": "51",
            "method": "animate"
           },
           {
            "args": [
             [
              "52"
             ],
             {
              "frame": {
               "duration": 50,
               "redraw": true
              },
              "mode": "immediate"
             }
            ],
            "label": "52",
            "method": "animate"
           },
           {
            "args": [
             [
              "53"
             ],
             {
              "frame": {
               "duration": 50,
               "redraw": true
              },
              "mode": "immediate"
             }
            ],
            "label": "53",
            "method": "animate"
           },
           {
            "args": [
             [
              "54"
             ],
             {
              "frame": {
               "duration": 50,
               "redraw": true
              },
              "mode": "immediate"
             }
            ],
            "label": "54",
            "method": "animate"
           },
           {
            "args": [
             [
              "55"
             ],
             {
              "frame": {
               "duration": 50,
               "redraw": true
              },
              "mode": "immediate"
             }
            ],
            "label": "55",
            "method": "animate"
           },
           {
            "args": [
             [
              "56"
             ],
             {
              "frame": {
               "duration": 50,
               "redraw": true
              },
              "mode": "immediate"
             }
            ],
            "label": "56",
            "method": "animate"
           },
           {
            "args": [
             [
              "57"
             ],
             {
              "frame": {
               "duration": 50,
               "redraw": true
              },
              "mode": "immediate"
             }
            ],
            "label": "57",
            "method": "animate"
           },
           {
            "args": [
             [
              "58"
             ],
             {
              "frame": {
               "duration": 50,
               "redraw": true
              },
              "mode": "immediate"
             }
            ],
            "label": "58",
            "method": "animate"
           },
           {
            "args": [
             [
              "59"
             ],
             {
              "frame": {
               "duration": 50,
               "redraw": true
              },
              "mode": "immediate"
             }
            ],
            "label": "59",
            "method": "animate"
           },
           {
            "args": [
             [
              "60"
             ],
             {
              "frame": {
               "duration": 50,
               "redraw": true
              },
              "mode": "immediate"
             }
            ],
            "label": "60",
            "method": "animate"
           },
           {
            "args": [
             [
              "61"
             ],
             {
              "frame": {
               "duration": 50,
               "redraw": true
              },
              "mode": "immediate"
             }
            ],
            "label": "61",
            "method": "animate"
           },
           {
            "args": [
             [
              "62"
             ],
             {
              "frame": {
               "duration": 50,
               "redraw": true
              },
              "mode": "immediate"
             }
            ],
            "label": "62",
            "method": "animate"
           },
           {
            "args": [
             [
              "63"
             ],
             {
              "frame": {
               "duration": 50,
               "redraw": true
              },
              "mode": "immediate"
             }
            ],
            "label": "63",
            "method": "animate"
           },
           {
            "args": [
             [
              "64"
             ],
             {
              "frame": {
               "duration": 50,
               "redraw": true
              },
              "mode": "immediate"
             }
            ],
            "label": "64",
            "method": "animate"
           },
           {
            "args": [
             [
              "65"
             ],
             {
              "frame": {
               "duration": 50,
               "redraw": true
              },
              "mode": "immediate"
             }
            ],
            "label": "65",
            "method": "animate"
           },
           {
            "args": [
             [
              "66"
             ],
             {
              "frame": {
               "duration": 50,
               "redraw": true
              },
              "mode": "immediate"
             }
            ],
            "label": "66",
            "method": "animate"
           },
           {
            "args": [
             [
              "67"
             ],
             {
              "frame": {
               "duration": 50,
               "redraw": true
              },
              "mode": "immediate"
             }
            ],
            "label": "67",
            "method": "animate"
           },
           {
            "args": [
             [
              "68"
             ],
             {
              "frame": {
               "duration": 50,
               "redraw": true
              },
              "mode": "immediate"
             }
            ],
            "label": "68",
            "method": "animate"
           },
           {
            "args": [
             [
              "69"
             ],
             {
              "frame": {
               "duration": 50,
               "redraw": true
              },
              "mode": "immediate"
             }
            ],
            "label": "69",
            "method": "animate"
           },
           {
            "args": [
             [
              "70"
             ],
             {
              "frame": {
               "duration": 50,
               "redraw": true
              },
              "mode": "immediate"
             }
            ],
            "label": "70",
            "method": "animate"
           },
           {
            "args": [
             [
              "71"
             ],
             {
              "frame": {
               "duration": 50,
               "redraw": true
              },
              "mode": "immediate"
             }
            ],
            "label": "71",
            "method": "animate"
           },
           {
            "args": [
             [
              "72"
             ],
             {
              "frame": {
               "duration": 50,
               "redraw": true
              },
              "mode": "immediate"
             }
            ],
            "label": "72",
            "method": "animate"
           },
           {
            "args": [
             [
              "73"
             ],
             {
              "frame": {
               "duration": 50,
               "redraw": true
              },
              "mode": "immediate"
             }
            ],
            "label": "73",
            "method": "animate"
           },
           {
            "args": [
             [
              "74"
             ],
             {
              "frame": {
               "duration": 50,
               "redraw": true
              },
              "mode": "immediate"
             }
            ],
            "label": "74",
            "method": "animate"
           },
           {
            "args": [
             [
              "75"
             ],
             {
              "frame": {
               "duration": 50,
               "redraw": true
              },
              "mode": "immediate"
             }
            ],
            "label": "75",
            "method": "animate"
           },
           {
            "args": [
             [
              "76"
             ],
             {
              "frame": {
               "duration": 50,
               "redraw": true
              },
              "mode": "immediate"
             }
            ],
            "label": "76",
            "method": "animate"
           },
           {
            "args": [
             [
              "77"
             ],
             {
              "frame": {
               "duration": 50,
               "redraw": true
              },
              "mode": "immediate"
             }
            ],
            "label": "77",
            "method": "animate"
           },
           {
            "args": [
             [
              "78"
             ],
             {
              "frame": {
               "duration": 50,
               "redraw": true
              },
              "mode": "immediate"
             }
            ],
            "label": "78",
            "method": "animate"
           },
           {
            "args": [
             [
              "79"
             ],
             {
              "frame": {
               "duration": 50,
               "redraw": true
              },
              "mode": "immediate"
             }
            ],
            "label": "79",
            "method": "animate"
           },
           {
            "args": [
             [
              "80"
             ],
             {
              "frame": {
               "duration": 50,
               "redraw": true
              },
              "mode": "immediate"
             }
            ],
            "label": "80",
            "method": "animate"
           },
           {
            "args": [
             [
              "81"
             ],
             {
              "frame": {
               "duration": 50,
               "redraw": true
              },
              "mode": "immediate"
             }
            ],
            "label": "81",
            "method": "animate"
           },
           {
            "args": [
             [
              "82"
             ],
             {
              "frame": {
               "duration": 50,
               "redraw": true
              },
              "mode": "immediate"
             }
            ],
            "label": "82",
            "method": "animate"
           },
           {
            "args": [
             [
              "83"
             ],
             {
              "frame": {
               "duration": 50,
               "redraw": true
              },
              "mode": "immediate"
             }
            ],
            "label": "83",
            "method": "animate"
           },
           {
            "args": [
             [
              "84"
             ],
             {
              "frame": {
               "duration": 50,
               "redraw": true
              },
              "mode": "immediate"
             }
            ],
            "label": "84",
            "method": "animate"
           },
           {
            "args": [
             [
              "85"
             ],
             {
              "frame": {
               "duration": 50,
               "redraw": true
              },
              "mode": "immediate"
             }
            ],
            "label": "85",
            "method": "animate"
           },
           {
            "args": [
             [
              "86"
             ],
             {
              "frame": {
               "duration": 50,
               "redraw": true
              },
              "mode": "immediate"
             }
            ],
            "label": "86",
            "method": "animate"
           },
           {
            "args": [
             [
              "87"
             ],
             {
              "frame": {
               "duration": 50,
               "redraw": true
              },
              "mode": "immediate"
             }
            ],
            "label": "87",
            "method": "animate"
           },
           {
            "args": [
             [
              "88"
             ],
             {
              "frame": {
               "duration": 50,
               "redraw": true
              },
              "mode": "immediate"
             }
            ],
            "label": "88",
            "method": "animate"
           },
           {
            "args": [
             [
              "89"
             ],
             {
              "frame": {
               "duration": 50,
               "redraw": true
              },
              "mode": "immediate"
             }
            ],
            "label": "89",
            "method": "animate"
           },
           {
            "args": [
             [
              "90"
             ],
             {
              "frame": {
               "duration": 50,
               "redraw": true
              },
              "mode": "immediate"
             }
            ],
            "label": "90",
            "method": "animate"
           },
           {
            "args": [
             [
              "91"
             ],
             {
              "frame": {
               "duration": 50,
               "redraw": true
              },
              "mode": "immediate"
             }
            ],
            "label": "91",
            "method": "animate"
           },
           {
            "args": [
             [
              "92"
             ],
             {
              "frame": {
               "duration": 50,
               "redraw": true
              },
              "mode": "immediate"
             }
            ],
            "label": "92",
            "method": "animate"
           },
           {
            "args": [
             [
              "93"
             ],
             {
              "frame": {
               "duration": 50,
               "redraw": true
              },
              "mode": "immediate"
             }
            ],
            "label": "93",
            "method": "animate"
           },
           {
            "args": [
             [
              "94"
             ],
             {
              "frame": {
               "duration": 50,
               "redraw": true
              },
              "mode": "immediate"
             }
            ],
            "label": "94",
            "method": "animate"
           },
           {
            "args": [
             [
              "95"
             ],
             {
              "frame": {
               "duration": 50,
               "redraw": true
              },
              "mode": "immediate"
             }
            ],
            "label": "95",
            "method": "animate"
           },
           {
            "args": [
             [
              "96"
             ],
             {
              "frame": {
               "duration": 50,
               "redraw": true
              },
              "mode": "immediate"
             }
            ],
            "label": "96",
            "method": "animate"
           },
           {
            "args": [
             [
              "97"
             ],
             {
              "frame": {
               "duration": 50,
               "redraw": true
              },
              "mode": "immediate"
             }
            ],
            "label": "97",
            "method": "animate"
           },
           {
            "args": [
             [
              "98"
             ],
             {
              "frame": {
               "duration": 50,
               "redraw": true
              },
              "mode": "immediate"
             }
            ],
            "label": "98",
            "method": "animate"
           },
           {
            "args": [
             [
              "99"
             ],
             {
              "frame": {
               "duration": 50,
               "redraw": true
              },
              "mode": "immediate"
             }
            ],
            "label": "99",
            "method": "animate"
           }
          ],
          "transition": {
           "duration": 0
          },
          "x": 0.1,
          "y": 0
         }
        ],
        "template": {
         "data": {
          "bar": [
           {
            "error_x": {
             "color": "#2a3f5f"
            },
            "error_y": {
             "color": "#2a3f5f"
            },
            "marker": {
             "line": {
              "color": "#E5ECF6",
              "width": 0.5
             },
             "pattern": {
              "fillmode": "overlay",
              "size": 10,
              "solidity": 0.2
             }
            },
            "type": "bar"
           }
          ],
          "barpolar": [
           {
            "marker": {
             "line": {
              "color": "#E5ECF6",
              "width": 0.5
             },
             "pattern": {
              "fillmode": "overlay",
              "size": 10,
              "solidity": 0.2
             }
            },
            "type": "barpolar"
           }
          ],
          "carpet": [
           {
            "aaxis": {
             "endlinecolor": "#2a3f5f",
             "gridcolor": "white",
             "linecolor": "white",
             "minorgridcolor": "white",
             "startlinecolor": "#2a3f5f"
            },
            "baxis": {
             "endlinecolor": "#2a3f5f",
             "gridcolor": "white",
             "linecolor": "white",
             "minorgridcolor": "white",
             "startlinecolor": "#2a3f5f"
            },
            "type": "carpet"
           }
          ],
          "choropleth": [
           {
            "colorbar": {
             "outlinewidth": 0,
             "ticks": ""
            },
            "type": "choropleth"
           }
          ],
          "contour": [
           {
            "colorbar": {
             "outlinewidth": 0,
             "ticks": ""
            },
            "colorscale": [
             [
              0,
              "#0d0887"
             ],
             [
              0.1111111111111111,
              "#46039f"
             ],
             [
              0.2222222222222222,
              "#7201a8"
             ],
             [
              0.3333333333333333,
              "#9c179e"
             ],
             [
              0.4444444444444444,
              "#bd3786"
             ],
             [
              0.5555555555555556,
              "#d8576b"
             ],
             [
              0.6666666666666666,
              "#ed7953"
             ],
             [
              0.7777777777777778,
              "#fb9f3a"
             ],
             [
              0.8888888888888888,
              "#fdca26"
             ],
             [
              1,
              "#f0f921"
             ]
            ],
            "type": "contour"
           }
          ],
          "contourcarpet": [
           {
            "colorbar": {
             "outlinewidth": 0,
             "ticks": ""
            },
            "type": "contourcarpet"
           }
          ],
          "heatmap": [
           {
            "colorbar": {
             "outlinewidth": 0,
             "ticks": ""
            },
            "colorscale": [
             [
              0,
              "#0d0887"
             ],
             [
              0.1111111111111111,
              "#46039f"
             ],
             [
              0.2222222222222222,
              "#7201a8"
             ],
             [
              0.3333333333333333,
              "#9c179e"
             ],
             [
              0.4444444444444444,
              "#bd3786"
             ],
             [
              0.5555555555555556,
              "#d8576b"
             ],
             [
              0.6666666666666666,
              "#ed7953"
             ],
             [
              0.7777777777777778,
              "#fb9f3a"
             ],
             [
              0.8888888888888888,
              "#fdca26"
             ],
             [
              1,
              "#f0f921"
             ]
            ],
            "type": "heatmap"
           }
          ],
          "histogram": [
           {
            "marker": {
             "pattern": {
              "fillmode": "overlay",
              "size": 10,
              "solidity": 0.2
             }
            },
            "type": "histogram"
           }
          ],
          "histogram2d": [
           {
            "colorbar": {
             "outlinewidth": 0,
             "ticks": ""
            },
            "colorscale": [
             [
              0,
              "#0d0887"
             ],
             [
              0.1111111111111111,
              "#46039f"
             ],
             [
              0.2222222222222222,
              "#7201a8"
             ],
             [
              0.3333333333333333,
              "#9c179e"
             ],
             [
              0.4444444444444444,
              "#bd3786"
             ],
             [
              0.5555555555555556,
              "#d8576b"
             ],
             [
              0.6666666666666666,
              "#ed7953"
             ],
             [
              0.7777777777777778,
              "#fb9f3a"
             ],
             [
              0.8888888888888888,
              "#fdca26"
             ],
             [
              1,
              "#f0f921"
             ]
            ],
            "type": "histogram2d"
           }
          ],
          "histogram2dcontour": [
           {
            "colorbar": {
             "outlinewidth": 0,
             "ticks": ""
            },
            "colorscale": [
             [
              0,
              "#0d0887"
             ],
             [
              0.1111111111111111,
              "#46039f"
             ],
             [
              0.2222222222222222,
              "#7201a8"
             ],
             [
              0.3333333333333333,
              "#9c179e"
             ],
             [
              0.4444444444444444,
              "#bd3786"
             ],
             [
              0.5555555555555556,
              "#d8576b"
             ],
             [
              0.6666666666666666,
              "#ed7953"
             ],
             [
              0.7777777777777778,
              "#fb9f3a"
             ],
             [
              0.8888888888888888,
              "#fdca26"
             ],
             [
              1,
              "#f0f921"
             ]
            ],
            "type": "histogram2dcontour"
           }
          ],
          "mesh3d": [
           {
            "colorbar": {
             "outlinewidth": 0,
             "ticks": ""
            },
            "type": "mesh3d"
           }
          ],
          "parcoords": [
           {
            "line": {
             "colorbar": {
              "outlinewidth": 0,
              "ticks": ""
             }
            },
            "type": "parcoords"
           }
          ],
          "pie": [
           {
            "automargin": true,
            "type": "pie"
           }
          ],
          "scatter": [
           {
            "fillpattern": {
             "fillmode": "overlay",
             "size": 10,
             "solidity": 0.2
            },
            "type": "scatter"
           }
          ],
          "scatter3d": [
           {
            "line": {
             "colorbar": {
              "outlinewidth": 0,
              "ticks": ""
             }
            },
            "marker": {
             "colorbar": {
              "outlinewidth": 0,
              "ticks": ""
             }
            },
            "type": "scatter3d"
           }
          ],
          "scattercarpet": [
           {
            "marker": {
             "colorbar": {
              "outlinewidth": 0,
              "ticks": ""
             }
            },
            "type": "scattercarpet"
           }
          ],
          "scattergeo": [
           {
            "marker": {
             "colorbar": {
              "outlinewidth": 0,
              "ticks": ""
             }
            },
            "type": "scattergeo"
           }
          ],
          "scattergl": [
           {
            "marker": {
             "colorbar": {
              "outlinewidth": 0,
              "ticks": ""
             }
            },
            "type": "scattergl"
           }
          ],
          "scattermap": [
           {
            "marker": {
             "colorbar": {
              "outlinewidth": 0,
              "ticks": ""
             }
            },
            "type": "scattermap"
           }
          ],
          "scattermapbox": [
           {
            "marker": {
             "colorbar": {
              "outlinewidth": 0,
              "ticks": ""
             }
            },
            "type": "scattermapbox"
           }
          ],
          "scatterpolar": [
           {
            "marker": {
             "colorbar": {
              "outlinewidth": 0,
              "ticks": ""
             }
            },
            "type": "scatterpolar"
           }
          ],
          "scatterpolargl": [
           {
            "marker": {
             "colorbar": {
              "outlinewidth": 0,
              "ticks": ""
             }
            },
            "type": "scatterpolargl"
           }
          ],
          "scatterternary": [
           {
            "marker": {
             "colorbar": {
              "outlinewidth": 0,
              "ticks": ""
             }
            },
            "type": "scatterternary"
           }
          ],
          "surface": [
           {
            "colorbar": {
             "outlinewidth": 0,
             "ticks": ""
            },
            "colorscale": [
             [
              0,
              "#0d0887"
             ],
             [
              0.1111111111111111,
              "#46039f"
             ],
             [
              0.2222222222222222,
              "#7201a8"
             ],
             [
              0.3333333333333333,
              "#9c179e"
             ],
             [
              0.4444444444444444,
              "#bd3786"
             ],
             [
              0.5555555555555556,
              "#d8576b"
             ],
             [
              0.6666666666666666,
              "#ed7953"
             ],
             [
              0.7777777777777778,
              "#fb9f3a"
             ],
             [
              0.8888888888888888,
              "#fdca26"
             ],
             [
              1,
              "#f0f921"
             ]
            ],
            "type": "surface"
           }
          ],
          "table": [
           {
            "cells": {
             "fill": {
              "color": "#EBF0F8"
             },
             "line": {
              "color": "white"
             }
            },
            "header": {
             "fill": {
              "color": "#C8D4E3"
             },
             "line": {
              "color": "white"
             }
            },
            "type": "table"
           }
          ]
         },
         "layout": {
          "annotationdefaults": {
           "arrowcolor": "#2a3f5f",
           "arrowhead": 0,
           "arrowwidth": 1
          },
          "autotypenumbers": "strict",
          "coloraxis": {
           "colorbar": {
            "outlinewidth": 0,
            "ticks": ""
           }
          },
          "colorscale": {
           "diverging": [
            [
             0,
             "#8e0152"
            ],
            [
             0.1,
             "#c51b7d"
            ],
            [
             0.2,
             "#de77ae"
            ],
            [
             0.3,
             "#f1b6da"
            ],
            [
             0.4,
             "#fde0ef"
            ],
            [
             0.5,
             "#f7f7f7"
            ],
            [
             0.6,
             "#e6f5d0"
            ],
            [
             0.7,
             "#b8e186"
            ],
            [
             0.8,
             "#7fbc41"
            ],
            [
             0.9,
             "#4d9221"
            ],
            [
             1,
             "#276419"
            ]
           ],
           "sequential": [
            [
             0,
             "#0d0887"
            ],
            [
             0.1111111111111111,
             "#46039f"
            ],
            [
             0.2222222222222222,
             "#7201a8"
            ],
            [
             0.3333333333333333,
             "#9c179e"
            ],
            [
             0.4444444444444444,
             "#bd3786"
            ],
            [
             0.5555555555555556,
             "#d8576b"
            ],
            [
             0.6666666666666666,
             "#ed7953"
            ],
            [
             0.7777777777777778,
             "#fb9f3a"
            ],
            [
             0.8888888888888888,
             "#fdca26"
            ],
            [
             1,
             "#f0f921"
            ]
           ],
           "sequentialminus": [
            [
             0,
             "#0d0887"
            ],
            [
             0.1111111111111111,
             "#46039f"
            ],
            [
             0.2222222222222222,
             "#7201a8"
            ],
            [
             0.3333333333333333,
             "#9c179e"
            ],
            [
             0.4444444444444444,
             "#bd3786"
            ],
            [
             0.5555555555555556,
             "#d8576b"
            ],
            [
             0.6666666666666666,
             "#ed7953"
            ],
            [
             0.7777777777777778,
             "#fb9f3a"
            ],
            [
             0.8888888888888888,
             "#fdca26"
            ],
            [
             1,
             "#f0f921"
            ]
           ]
          },
          "colorway": [
           "#636efa",
           "#EF553B",
           "#00cc96",
           "#ab63fa",
           "#FFA15A",
           "#19d3f3",
           "#FF6692",
           "#B6E880",
           "#FF97FF",
           "#FECB52"
          ],
          "font": {
           "color": "#2a3f5f"
          },
          "geo": {
           "bgcolor": "white",
           "lakecolor": "white",
           "landcolor": "#E5ECF6",
           "showlakes": true,
           "showland": true,
           "subunitcolor": "white"
          },
          "hoverlabel": {
           "align": "left"
          },
          "hovermode": "closest",
          "mapbox": {
           "style": "light"
          },
          "paper_bgcolor": "white",
          "plot_bgcolor": "#E5ECF6",
          "polar": {
           "angularaxis": {
            "gridcolor": "white",
            "linecolor": "white",
            "ticks": ""
           },
           "bgcolor": "#E5ECF6",
           "radialaxis": {
            "gridcolor": "white",
            "linecolor": "white",
            "ticks": ""
           }
          },
          "scene": {
           "xaxis": {
            "backgroundcolor": "#E5ECF6",
            "gridcolor": "white",
            "gridwidth": 2,
            "linecolor": "white",
            "showbackground": true,
            "ticks": "",
            "zerolinecolor": "white"
           },
           "yaxis": {
            "backgroundcolor": "#E5ECF6",
            "gridcolor": "white",
            "gridwidth": 2,
            "linecolor": "white",
            "showbackground": true,
            "ticks": "",
            "zerolinecolor": "white"
           },
           "zaxis": {
            "backgroundcolor": "#E5ECF6",
            "gridcolor": "white",
            "gridwidth": 2,
            "linecolor": "white",
            "showbackground": true,
            "ticks": "",
            "zerolinecolor": "white"
           }
          },
          "shapedefaults": {
           "line": {
            "color": "#2a3f5f"
           }
          },
          "ternary": {
           "aaxis": {
            "gridcolor": "white",
            "linecolor": "white",
            "ticks": ""
           },
           "baxis": {
            "gridcolor": "white",
            "linecolor": "white",
            "ticks": ""
           },
           "bgcolor": "#E5ECF6",
           "caxis": {
            "gridcolor": "white",
            "linecolor": "white",
            "ticks": ""
           }
          },
          "title": {
           "x": 0.05
          },
          "xaxis": {
           "automargin": true,
           "gridcolor": "white",
           "linecolor": "white",
           "ticks": "",
           "title": {
            "standoff": 15
           },
           "zerolinecolor": "white",
           "zerolinewidth": 2
          },
          "yaxis": {
           "automargin": true,
           "gridcolor": "white",
           "linecolor": "white",
           "ticks": "",
           "title": {
            "standoff": 15
           },
           "zerolinecolor": "white",
           "zerolinewidth": 2
          }
         }
        },
        "title": {
         "text": "Contortion Cantilever (N=21)"
        },
        "updatemenus": [
         {
          "buttons": [
           {
            "args": [
             null,
             {
              "frame": {
               "duration": 50,
               "redraw": true
              },
              "fromcurrent": true
             }
            ],
            "label": "Play",
            "method": "animate"
           },
           {
            "args": [
             [
              null
             ],
             {
              "frame": {
               "duration": 0,
               "redraw": true
              },
              "mode": "immediate"
             }
            ],
            "label": "Pause",
            "method": "animate"
           }
          ],
          "direction": "left",
          "pad": {
           "r": 10,
           "t": 87
          },
          "showactive": false,
          "type": "buttons",
          "x": 0.1,
          "xanchor": "right",
          "y": 0,
          "yanchor": "top"
         }
        ]
       }
      }
     },
     "metadata": {},
     "output_type": "display_data"
    }
   ],
   "source": [
    "# Plot DOF vector on plotly\n",
    "t = np.arange(robot.sim_params.total_time, step=robot.sim_params.dt)\n",
    "options = dismech.AnimationOptions(y_lim=[-0.01, 0.01],\n",
    "                  title='Contortion Cantilever (N=21)',\n",
    "                  camera_view=(0,0))\n",
    "\n",
    "fig = dismech.get_interactive_animation_plotly(robot, t, qs, options)\n",
    "fig.show()"
   ]
  }
 ],
 "metadata": {
  "kernelspec": {
   "display_name": ".venv",
   "language": "python",
   "name": "python3"
  },
  "language_info": {
   "codemirror_mode": {
    "name": "ipython",
    "version": 3
   },
   "file_extension": ".py",
   "mimetype": "text/x-python",
   "name": "python",
   "nbconvert_exporter": "python",
   "pygments_lexer": "ipython3",
   "version": "3.12.1"
  }
 },
 "nbformat": 4,
 "nbformat_minor": 2
}
