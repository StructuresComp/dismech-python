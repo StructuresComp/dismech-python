{
 "cells": [
  {
   "cell_type": "markdown",
   "metadata": {},
   "source": [
    "## Four Corner Shell Bending Example"
   ]
  },
  {
   "cell_type": "code",
   "execution_count": null,
   "metadata": {},
   "outputs": [],
   "source": [
    "import numpy as np\n",
    "\n",
    "import dismech\n",
    "\n",
    "geom = dismech.GeomParams(rod_r0=0,\n",
    "                          shell_h=1e-3)\n",
    "\n",
    "material = dismech.Material(density=1200,\n",
    "                            youngs_rod=0,\n",
    "                            youngs_shell=2e11,  # stainless steel\n",
    "                            poisson_rod=0,\n",
    "                            poisson_shell=0.5)\n",
    "\n",
    "static_3d_sim = dismech.SimParams(static_sim=True,\n",
    "                                  two_d_sim=False,\n",
    "                                  use_mid_edge=False,\n",
    "                                  use_line_search=False,\n",
    "                                  show_floor=False,\n",
    "                                  log_data=True,\n",
    "                                  log_step=1,\n",
    "                                  dt=1e-2,\n",
    "                                  max_iter=25,\n",
    "                                  total_time=1e-2,\n",
    "                                  plot_step=10,\n",
    "                                  tol=1e-4,\n",
    "                                  ftol=1e-4,\n",
    "                                  dtol=1e-2)\n",
    "\n",
    "env = dismech.Environment()\n",
    "env.add_force('gravity', g=np.array([0.0, 0.0, -9.81]))\n",
    "\n",
    "geo = dismech.Geometry.from_txt('four_corner.txt')\n",
    "\n",
    "robot = dismech.SoftRobot(geom, material, geo, static_3d_sim, env)"
   ]
  },
  {
   "cell_type": "markdown",
   "metadata": {},
   "source": [
    "### Energy"
   ]
  },
  {
   "cell_type": "code",
   "execution_count": null,
   "metadata": {},
   "outputs": [],
   "source": [
    "import dismech.elastics\n",
    "\n",
    "# set strain_bar\n",
    "stretch_energy = dismech.elastics.StretchEnergy(robot.stretch_springs, robot.state)\n",
    "# FIXME: Mid-edge breaks for this!!\n",
    "if robot.sim_params.use_mid_edge:\n",
    "    shell_energy = dismech.elastics.TriangleEnergy(robot.triangle_springs, robot.state)\n",
    "else:\n",
    "    shell_energy = dismech.elastics.HingeEnergy(robot.hinge_springs, robot.state)"
   ]
  },
  {
   "cell_type": "markdown",
   "metadata": {},
   "source": [
    "### Static Simulation"
   ]
  },
  {
   "cell_type": "code",
   "execution_count": 6,
   "metadata": {},
   "outputs": [
    {
     "data": {
      "application/vnd.jupyter.widget-view+json": {
       "model_id": "9479f98130bf46c089476c68463bda47",
       "version_major": 2,
       "version_minor": 0
      },
      "text/plain": [
       "  0%|          | 0/1 [00:00<?, ?it/s]"
      ]
     },
     "metadata": {},
     "output_type": "display_data"
    }
   ],
   "source": [
    "robot = robot.fix_nodes([0,1,2])\n",
    "stepper = dismech.ImplicitEulerTimeStepper(robot)\n",
    "robots = stepper.simulate()\n",
    "qs = np.stack([robot.state.q for robot in robots])\n",
    "\n",
    "# Static Sim = 1 output\n",
    "robot_eq = robots[-1]\n",
    "q_eq = robots[-1].state.q"
   ]
  },
  {
   "cell_type": "markdown",
   "metadata": {},
   "source": [
    "### Visualization"
   ]
  },
  {
   "cell_type": "code",
   "execution_count": 7,
   "metadata": {},
   "outputs": [
    {
     "data": {
      "application/vnd.plotly.v1+json": {
       "config": {
        "plotlyServerURL": "https://plot.ly"
       },
       "data": [
        {
         "marker": {
          "color": "#1f78b4",
          "size": 5
         },
         "mode": "markers",
         "name": "Free Nodes",
         "type": "scatter3d",
         "x": {
          "bdata": "pc8kLmb17z8=",
          "dtype": "f8"
         },
         "y": {
          "bdata": "pc8kLmb17z8=",
          "dtype": "f8"
         },
         "z": {
          "bdata": "Vs6qtsIHqr8=",
          "dtype": "f8"
         }
        },
        {
         "marker": {
          "color": "#e31a1c",
          "size": 5
         },
         "mode": "markers",
         "name": "Fixed Nodes",
         "type": "scatter3d",
         "x": {
          "bdata": "AAAAAAAAAAAAAAAAAADwPwAAAAAAAAAA",
          "dtype": "f8"
         },
         "y": {
          "bdata": "AAAAAAAAAAAAAAAAAAAAAAAAAAAAAPA/",
          "dtype": "f8"
         },
         "z": {
          "bdata": "AAAAAAAAAAAAAAAAAAAAAAAAAAAAAAAA",
          "dtype": "f8"
         }
        },
        {
         "line": {
          "color": "#333333",
          "width": 2
         },
         "mode": "lines",
         "name": "Edges",
         "type": "scatter3d",
         "x": [
          1,
          0,
          null,
          0,
          0,
          null,
          0,
          1,
          null,
          0,
          0.9987059499021497,
          null,
          0.9987059499021497,
          1,
          null
         ],
         "y": [
          0,
          1,
          null,
          1,
          0,
          null,
          0,
          0,
          null,
          1,
          0.9987059499021497,
          null,
          0.9987059499021497,
          0,
          null
         ],
         "z": [
          0,
          0,
          null,
          0,
          0,
          null,
          0,
          0,
          null,
          0,
          -0.05084045867752411,
          null,
          -0.05084045867752411,
          0,
          null
         ]
        },
        {
         "color": "rgba(166, 206, 227, 0.7)",
         "i": [
          0,
          1
         ],
         "j": [
          1,
          2
         ],
         "k": [
          2,
          3
         ],
         "name": "Faces",
         "opacity": 0.7,
         "showscale": false,
         "type": "mesh3d",
         "x": {
          "bdata": "AAAAAAAAAAAAAAAAAADwPwAAAAAAAAAApc8kLmb17z8=",
          "dtype": "f8"
         },
         "y": {
          "bdata": "AAAAAAAAAAAAAAAAAAAAAAAAAAAAAPA/pc8kLmb17z8=",
          "dtype": "f8"
         },
         "z": {
          "bdata": "AAAAAAAAAAAAAAAAAAAAAAAAAAAAAAAAVs6qtsIHqr8=",
          "dtype": "f8"
         }
        }
       ],
       "frames": [
        {
         "data": [
          {
           "name": "Free Nodes",
           "type": "scatter3d",
           "x": {
            "bdata": "pc8kLmb17z8=",
            "dtype": "f8"
           },
           "y": {
            "bdata": "pc8kLmb17z8=",
            "dtype": "f8"
           },
           "z": {
            "bdata": "Vs6qtsIHqr8=",
            "dtype": "f8"
           }
          },
          {
           "name": "Fixed Nodes",
           "type": "scatter3d",
           "x": {
            "bdata": "AAAAAAAAAAAAAAAAAADwPwAAAAAAAAAA",
            "dtype": "f8"
           },
           "y": {
            "bdata": "AAAAAAAAAAAAAAAAAAAAAAAAAAAAAPA/",
            "dtype": "f8"
           },
           "z": {
            "bdata": "AAAAAAAAAAAAAAAAAAAAAAAAAAAAAAAA",
            "dtype": "f8"
           }
          },
          {
           "name": "Edges",
           "type": "scatter3d",
           "x": [
            1,
            0,
            null,
            0,
            0,
            null,
            0,
            1,
            null,
            0,
            0.9987059499021497,
            null,
            0.9987059499021497,
            1,
            null
           ],
           "y": [
            0,
            1,
            null,
            1,
            0,
            null,
            0,
            0,
            null,
            1,
            0.9987059499021497,
            null,
            0.9987059499021497,
            0,
            null
           ],
           "z": [
            0,
            0,
            null,
            0,
            0,
            null,
            0,
            0,
            null,
            0,
            -0.05084045867752411,
            null,
            -0.05084045867752411,
            0,
            null
           ]
          },
          {
           "i": [
            0,
            1
           ],
           "j": [
            1,
            2
           ],
           "k": [
            2,
            3
           ],
           "name": "Faces",
           "type": "mesh3d",
           "x": {
            "bdata": "AAAAAAAAAAAAAAAAAADwPwAAAAAAAAAApc8kLmb17z8=",
            "dtype": "f8"
           },
           "y": {
            "bdata": "AAAAAAAAAAAAAAAAAAAAAAAAAAAAAPA/pc8kLmb17z8=",
            "dtype": "f8"
           },
           "z": {
            "bdata": "AAAAAAAAAAAAAAAAAAAAAAAAAAAAAAAAVs6qtsIHqr8=",
            "dtype": "f8"
           }
          }
         ],
         "layout": {
          "annotations": [
           {
            "showarrow": false,
            "text": "Time: 0.00s (Step: 1/1)",
            "x": 0.05,
            "xref": "paper",
            "y": 0.95,
            "yref": "paper"
           }
          ],
          "scene": {
           "camera": {
            "eye": {
             "x": 1.299877257552139,
             "y": 1.299877257552139,
             "z": 1.0613453364170302
            }
           }
          }
         },
         "name": "0"
        }
       ],
       "layout": {
        "scene": {
         "camera": {
          "eye": {
           "x": 1.299877257552139,
           "y": 1.299877257552139,
           "z": 1.0613453364170302
          }
         },
         "xaxis": {
          "range": [
           0,
           1
          ],
          "title": {
           "text": "X Position"
          }
         },
         "yaxis": {
          "range": [
           0,
           1
          ],
          "title": {
           "text": "Y Position"
          }
         },
         "zaxis": {
          "range": [
           -1,
           1
          ],
          "title": {
           "text": "Z Position"
          }
         }
        },
        "sliders": [
         {
          "currentvalue": {
           "prefix": "Frame: "
          },
          "steps": [
           {
            "args": [
             [
              "0"
             ],
             {
              "frame": {
               "duration": 50,
               "redraw": true
              },
              "mode": "immediate"
             }
            ],
            "label": "0",
            "method": "animate"
           }
          ],
          "transition": {
           "duration": 0
          },
          "x": 0.1,
          "y": 0
         }
        ],
        "template": {
         "data": {
          "bar": [
           {
            "error_x": {
             "color": "#2a3f5f"
            },
            "error_y": {
             "color": "#2a3f5f"
            },
            "marker": {
             "line": {
              "color": "#E5ECF6",
              "width": 0.5
             },
             "pattern": {
              "fillmode": "overlay",
              "size": 10,
              "solidity": 0.2
             }
            },
            "type": "bar"
           }
          ],
          "barpolar": [
           {
            "marker": {
             "line": {
              "color": "#E5ECF6",
              "width": 0.5
             },
             "pattern": {
              "fillmode": "overlay",
              "size": 10,
              "solidity": 0.2
             }
            },
            "type": "barpolar"
           }
          ],
          "carpet": [
           {
            "aaxis": {
             "endlinecolor": "#2a3f5f",
             "gridcolor": "white",
             "linecolor": "white",
             "minorgridcolor": "white",
             "startlinecolor": "#2a3f5f"
            },
            "baxis": {
             "endlinecolor": "#2a3f5f",
             "gridcolor": "white",
             "linecolor": "white",
             "minorgridcolor": "white",
             "startlinecolor": "#2a3f5f"
            },
            "type": "carpet"
           }
          ],
          "choropleth": [
           {
            "colorbar": {
             "outlinewidth": 0,
             "ticks": ""
            },
            "type": "choropleth"
           }
          ],
          "contour": [
           {
            "colorbar": {
             "outlinewidth": 0,
             "ticks": ""
            },
            "colorscale": [
             [
              0,
              "#0d0887"
             ],
             [
              0.1111111111111111,
              "#46039f"
             ],
             [
              0.2222222222222222,
              "#7201a8"
             ],
             [
              0.3333333333333333,
              "#9c179e"
             ],
             [
              0.4444444444444444,
              "#bd3786"
             ],
             [
              0.5555555555555556,
              "#d8576b"
             ],
             [
              0.6666666666666666,
              "#ed7953"
             ],
             [
              0.7777777777777778,
              "#fb9f3a"
             ],
             [
              0.8888888888888888,
              "#fdca26"
             ],
             [
              1,
              "#f0f921"
             ]
            ],
            "type": "contour"
           }
          ],
          "contourcarpet": [
           {
            "colorbar": {
             "outlinewidth": 0,
             "ticks": ""
            },
            "type": "contourcarpet"
           }
          ],
          "heatmap": [
           {
            "colorbar": {
             "outlinewidth": 0,
             "ticks": ""
            },
            "colorscale": [
             [
              0,
              "#0d0887"
             ],
             [
              0.1111111111111111,
              "#46039f"
             ],
             [
              0.2222222222222222,
              "#7201a8"
             ],
             [
              0.3333333333333333,
              "#9c179e"
             ],
             [
              0.4444444444444444,
              "#bd3786"
             ],
             [
              0.5555555555555556,
              "#d8576b"
             ],
             [
              0.6666666666666666,
              "#ed7953"
             ],
             [
              0.7777777777777778,
              "#fb9f3a"
             ],
             [
              0.8888888888888888,
              "#fdca26"
             ],
             [
              1,
              "#f0f921"
             ]
            ],
            "type": "heatmap"
           }
          ],
          "histogram": [
           {
            "marker": {
             "pattern": {
              "fillmode": "overlay",
              "size": 10,
              "solidity": 0.2
             }
            },
            "type": "histogram"
           }
          ],
          "histogram2d": [
           {
            "colorbar": {
             "outlinewidth": 0,
             "ticks": ""
            },
            "colorscale": [
             [
              0,
              "#0d0887"
             ],
             [
              0.1111111111111111,
              "#46039f"
             ],
             [
              0.2222222222222222,
              "#7201a8"
             ],
             [
              0.3333333333333333,
              "#9c179e"
             ],
             [
              0.4444444444444444,
              "#bd3786"
             ],
             [
              0.5555555555555556,
              "#d8576b"
             ],
             [
              0.6666666666666666,
              "#ed7953"
             ],
             [
              0.7777777777777778,
              "#fb9f3a"
             ],
             [
              0.8888888888888888,
              "#fdca26"
             ],
             [
              1,
              "#f0f921"
             ]
            ],
            "type": "histogram2d"
           }
          ],
          "histogram2dcontour": [
           {
            "colorbar": {
             "outlinewidth": 0,
             "ticks": ""
            },
            "colorscale": [
             [
              0,
              "#0d0887"
             ],
             [
              0.1111111111111111,
              "#46039f"
             ],
             [
              0.2222222222222222,
              "#7201a8"
             ],
             [
              0.3333333333333333,
              "#9c179e"
             ],
             [
              0.4444444444444444,
              "#bd3786"
             ],
             [
              0.5555555555555556,
              "#d8576b"
             ],
             [
              0.6666666666666666,
              "#ed7953"
             ],
             [
              0.7777777777777778,
              "#fb9f3a"
             ],
             [
              0.8888888888888888,
              "#fdca26"
             ],
             [
              1,
              "#f0f921"
             ]
            ],
            "type": "histogram2dcontour"
           }
          ],
          "mesh3d": [
           {
            "colorbar": {
             "outlinewidth": 0,
             "ticks": ""
            },
            "type": "mesh3d"
           }
          ],
          "parcoords": [
           {
            "line": {
             "colorbar": {
              "outlinewidth": 0,
              "ticks": ""
             }
            },
            "type": "parcoords"
           }
          ],
          "pie": [
           {
            "automargin": true,
            "type": "pie"
           }
          ],
          "scatter": [
           {
            "fillpattern": {
             "fillmode": "overlay",
             "size": 10,
             "solidity": 0.2
            },
            "type": "scatter"
           }
          ],
          "scatter3d": [
           {
            "line": {
             "colorbar": {
              "outlinewidth": 0,
              "ticks": ""
             }
            },
            "marker": {
             "colorbar": {
              "outlinewidth": 0,
              "ticks": ""
             }
            },
            "type": "scatter3d"
           }
          ],
          "scattercarpet": [
           {
            "marker": {
             "colorbar": {
              "outlinewidth": 0,
              "ticks": ""
             }
            },
            "type": "scattercarpet"
           }
          ],
          "scattergeo": [
           {
            "marker": {
             "colorbar": {
              "outlinewidth": 0,
              "ticks": ""
             }
            },
            "type": "scattergeo"
           }
          ],
          "scattergl": [
           {
            "marker": {
             "colorbar": {
              "outlinewidth": 0,
              "ticks": ""
             }
            },
            "type": "scattergl"
           }
          ],
          "scattermap": [
           {
            "marker": {
             "colorbar": {
              "outlinewidth": 0,
              "ticks": ""
             }
            },
            "type": "scattermap"
           }
          ],
          "scattermapbox": [
           {
            "marker": {
             "colorbar": {
              "outlinewidth": 0,
              "ticks": ""
             }
            },
            "type": "scattermapbox"
           }
          ],
          "scatterpolar": [
           {
            "marker": {
             "colorbar": {
              "outlinewidth": 0,
              "ticks": ""
             }
            },
            "type": "scatterpolar"
           }
          ],
          "scatterpolargl": [
           {
            "marker": {
             "colorbar": {
              "outlinewidth": 0,
              "ticks": ""
             }
            },
            "type": "scatterpolargl"
           }
          ],
          "scatterternary": [
           {
            "marker": {
             "colorbar": {
              "outlinewidth": 0,
              "ticks": ""
             }
            },
            "type": "scatterternary"
           }
          ],
          "surface": [
           {
            "colorbar": {
             "outlinewidth": 0,
             "ticks": ""
            },
            "colorscale": [
             [
              0,
              "#0d0887"
             ],
             [
              0.1111111111111111,
              "#46039f"
             ],
             [
              0.2222222222222222,
              "#7201a8"
             ],
             [
              0.3333333333333333,
              "#9c179e"
             ],
             [
              0.4444444444444444,
              "#bd3786"
             ],
             [
              0.5555555555555556,
              "#d8576b"
             ],
             [
              0.6666666666666666,
              "#ed7953"
             ],
             [
              0.7777777777777778,
              "#fb9f3a"
             ],
             [
              0.8888888888888888,
              "#fdca26"
             ],
             [
              1,
              "#f0f921"
             ]
            ],
            "type": "surface"
           }
          ],
          "table": [
           {
            "cells": {
             "fill": {
              "color": "#EBF0F8"
             },
             "line": {
              "color": "white"
             }
            },
            "header": {
             "fill": {
              "color": "#C8D4E3"
             },
             "line": {
              "color": "white"
             }
            },
            "type": "table"
           }
          ]
         },
         "layout": {
          "annotationdefaults": {
           "arrowcolor": "#2a3f5f",
           "arrowhead": 0,
           "arrowwidth": 1
          },
          "autotypenumbers": "strict",
          "coloraxis": {
           "colorbar": {
            "outlinewidth": 0,
            "ticks": ""
           }
          },
          "colorscale": {
           "diverging": [
            [
             0,
             "#8e0152"
            ],
            [
             0.1,
             "#c51b7d"
            ],
            [
             0.2,
             "#de77ae"
            ],
            [
             0.3,
             "#f1b6da"
            ],
            [
             0.4,
             "#fde0ef"
            ],
            [
             0.5,
             "#f7f7f7"
            ],
            [
             0.6,
             "#e6f5d0"
            ],
            [
             0.7,
             "#b8e186"
            ],
            [
             0.8,
             "#7fbc41"
            ],
            [
             0.9,
             "#4d9221"
            ],
            [
             1,
             "#276419"
            ]
           ],
           "sequential": [
            [
             0,
             "#0d0887"
            ],
            [
             0.1111111111111111,
             "#46039f"
            ],
            [
             0.2222222222222222,
             "#7201a8"
            ],
            [
             0.3333333333333333,
             "#9c179e"
            ],
            [
             0.4444444444444444,
             "#bd3786"
            ],
            [
             0.5555555555555556,
             "#d8576b"
            ],
            [
             0.6666666666666666,
             "#ed7953"
            ],
            [
             0.7777777777777778,
             "#fb9f3a"
            ],
            [
             0.8888888888888888,
             "#fdca26"
            ],
            [
             1,
             "#f0f921"
            ]
           ],
           "sequentialminus": [
            [
             0,
             "#0d0887"
            ],
            [
             0.1111111111111111,
             "#46039f"
            ],
            [
             0.2222222222222222,
             "#7201a8"
            ],
            [
             0.3333333333333333,
             "#9c179e"
            ],
            [
             0.4444444444444444,
             "#bd3786"
            ],
            [
             0.5555555555555556,
             "#d8576b"
            ],
            [
             0.6666666666666666,
             "#ed7953"
            ],
            [
             0.7777777777777778,
             "#fb9f3a"
            ],
            [
             0.8888888888888888,
             "#fdca26"
            ],
            [
             1,
             "#f0f921"
            ]
           ]
          },
          "colorway": [
           "#636efa",
           "#EF553B",
           "#00cc96",
           "#ab63fa",
           "#FFA15A",
           "#19d3f3",
           "#FF6692",
           "#B6E880",
           "#FF97FF",
           "#FECB52"
          ],
          "font": {
           "color": "#2a3f5f"
          },
          "geo": {
           "bgcolor": "white",
           "lakecolor": "white",
           "landcolor": "#E5ECF6",
           "showlakes": true,
           "showland": true,
           "subunitcolor": "white"
          },
          "hoverlabel": {
           "align": "left"
          },
          "hovermode": "closest",
          "mapbox": {
           "style": "light"
          },
          "paper_bgcolor": "white",
          "plot_bgcolor": "#E5ECF6",
          "polar": {
           "angularaxis": {
            "gridcolor": "white",
            "linecolor": "white",
            "ticks": ""
           },
           "bgcolor": "#E5ECF6",
           "radialaxis": {
            "gridcolor": "white",
            "linecolor": "white",
            "ticks": ""
           }
          },
          "scene": {
           "xaxis": {
            "backgroundcolor": "#E5ECF6",
            "gridcolor": "white",
            "gridwidth": 2,
            "linecolor": "white",
            "showbackground": true,
            "ticks": "",
            "zerolinecolor": "white"
           },
           "yaxis": {
            "backgroundcolor": "#E5ECF6",
            "gridcolor": "white",
            "gridwidth": 2,
            "linecolor": "white",
            "showbackground": true,
            "ticks": "",
            "zerolinecolor": "white"
           },
           "zaxis": {
            "backgroundcolor": "#E5ECF6",
            "gridcolor": "white",
            "gridwidth": 2,
            "linecolor": "white",
            "showbackground": true,
            "ticks": "",
            "zerolinecolor": "white"
           }
          },
          "shapedefaults": {
           "line": {
            "color": "#2a3f5f"
           }
          },
          "ternary": {
           "aaxis": {
            "gridcolor": "white",
            "linecolor": "white",
            "ticks": ""
           },
           "baxis": {
            "gridcolor": "white",
            "linecolor": "white",
            "ticks": ""
           },
           "bgcolor": "#E5ECF6",
           "caxis": {
            "gridcolor": "white",
            "linecolor": "white",
            "ticks": ""
           }
          },
          "title": {
           "x": 0.05
          },
          "xaxis": {
           "automargin": true,
           "gridcolor": "white",
           "linecolor": "white",
           "ticks": "",
           "title": {
            "standoff": 15
           },
           "zerolinecolor": "white",
           "zerolinewidth": 2
          },
          "yaxis": {
           "automargin": true,
           "gridcolor": "white",
           "linecolor": "white",
           "ticks": "",
           "title": {
            "standoff": 15
           },
           "zerolinecolor": "white",
           "zerolinewidth": 2
          }
         }
        },
        "title": {
         "text": "Four Corners"
        },
        "updatemenus": [
         {
          "buttons": [
           {
            "args": [
             null,
             {
              "frame": {
               "duration": 50,
               "redraw": true
              },
              "fromcurrent": true
             }
            ],
            "label": "Play",
            "method": "animate"
           },
           {
            "args": [
             [
              null
             ],
             {
              "frame": {
               "duration": 0,
               "redraw": true
              },
              "mode": "immediate"
             }
            ],
            "label": "Pause",
            "method": "animate"
           }
          ],
          "direction": "left",
          "pad": {
           "r": 10,
           "t": 87
          },
          "showactive": false,
          "type": "buttons",
          "x": 0.1,
          "xanchor": "right",
          "y": 0,
          "yanchor": "top"
         }
        ]
       }
      }
     },
     "metadata": {},
     "output_type": "display_data"
    }
   ],
   "source": [
    "t = np.arange(robot.sim_params.total_time, step=robot.sim_params.dt)  # (100)\n",
    "options = dismech.AnimationOptions(z_lim=[-1.0, 1.0], x_lim=[0, 1.0], title='Four Corners')\n",
    "fig = dismech.get_interactive_animation_plotly(robot, t, np.array([q_eq]), options)\n",
    "fig.show()"
   ]
  },
  {
   "cell_type": "markdown",
   "metadata": {},
   "source": [
    "### Energy"
   ]
  },
  {
   "cell_type": "code",
   "execution_count": 8,
   "metadata": {},
   "outputs": [
    {
     "data": {
      "image/png": "[encoded data removed]",
      "text/plain": [
       "<Figure size 640x480 with 1 Axes>"
      ]
     },
     "metadata": {},
     "output_type": "display_data"
    },
    {
     "name": "stdout",
     "output_type": "stream",
     "text": [
      "Stretch Energy: 5.96964998571525e-11\n"
     ]
    }
   ],
   "source": [
    "import matplotlib.pyplot as plt\n",
    "\n",
    "plt.bar([\"Hinge Energy\", \"Stretch Energy\"], [shell_energy.get_energy_linear_elastic(robot_eq.state), stretch_energy.get_energy_linear_elastic(robot_eq.state)])\n",
    "plt.title(\"Energy vs Source\")\n",
    "plt.ylabel(\"Energy (J)\")\n",
    "plt.show()\n",
    "\n",
    "print(\"Stretch Energy: {}\".format(stretch_energy.get_energy_linear_elastic(robot_eq.state)))"
   ]
  },
  {
   "cell_type": "markdown",
   "metadata": {},
   "source": [
    "## Dihedral Angle Calculation"
   ]
  },
  {
   "cell_type": "code",
   "execution_count": 9,
   "metadata": {},
   "outputs": [
    {
     "data": {
      "image/png": "[encoded data removed]",
      "text/plain": [
       "<Figure size 640x480 with 1 Axes>"
      ]
     },
     "metadata": {},
     "output_type": "display_data"
    }
   ],
   "source": [
    "# CHATGPT\n",
    "def get_node4_folded_position(theta):\n",
    "    A = np.array([0, 1, 0])\n",
    "    B = np.array([1, 0, 0])\n",
    "\n",
    "    K = B - A\n",
    "    K = K / np.linalg.norm(K)\n",
    "    ref_vector = np.array([1, 1, 0]) - A\n",
    "    M = np.cross(K, ref_vector)\n",
    "    M = M / np.linalg.norm(M)\n",
    "    N = np.cross(M, K)\n",
    "    radius = np.linalg.norm(ref_vector - np.dot(ref_vector, K) * K)\n",
    "    rotated_point = (\n",
    "        A\n",
    "        + np.dot(ref_vector, K) * K\n",
    "        + radius * (np.cos(theta - np.pi) * N + np.sin(theta - np.pi) * M)\n",
    "    )\n",
    "    \n",
    "    return np.array(rotated_point)\n",
    "\n",
    "# Get displaced positions\n",
    "thetas = np.linspace(0 + 1e-4, 2 * np.pi - 1e-4)\n",
    "positions = [get_node4_folded_position(theta) for theta in thetas] \n",
    "\n",
    "plt.plot(thetas, positions, label=['x', 'y', 'z'])\n",
    "plt.title(\"Position vs Dihedral Angle\")\n",
    "plt.xlabel('Angle (radians)')\n",
    "plt.ylabel('Position (m)')\n",
    "plt.legend()\n",
    "plt.show()"
   ]
  },
  {
   "cell_type": "code",
   "execution_count": null,
   "metadata": {},
   "outputs": [],
   "source": [
    "# Create a robot with all fixed nodes (w/o gravity)\n",
    "base_robot = dismech.SoftRobot(geom, material, geo, static_3d_sim, dismech.Environment())\n",
    "base_robot = base_robot.fix_nodes([0,1,2,3])\n",
    "\n",
    "robots = []\n",
    "he = []\n",
    "se = []\n",
    "\n",
    "# For each position, displace the node and evaluate the hinge and stretching energy\n",
    "for pos in positions:\n",
    "    disp_robot = base_robot.move_nodes([3], pos - np.array([1,1,0]))\n",
    "    robots.append(disp_robot)\n",
    "    he.append(shell_energy.get_energy_linear_elastic(disp_robot.state))\n",
    "    se.append(stretch_energy.get_energy_linear_elastic(disp_robot.state))\n",
    "\n",
    "qs = np.stack([robot.state.q for robot in robots])"
   ]
  },
  {
   "cell_type": "markdown",
   "metadata": {},
   "source": [
    "### Visualization"
   ]
  },
  {
   "cell_type": "code",
   "execution_count": 11,
   "metadata": {},
   "outputs": [
    {
     "data": {
      "image/png": "[encoded data removed]",
      "text/plain": [
       "<Figure size 640x480 with 1 Axes>"
      ]
     },
     "metadata": {},
     "output_type": "display_data"
    }
   ],
   "source": [
    "plt.plot(thetas, he, label='Hinge Energy')\n",
    "plt.plot(thetas, se, label='Stretch Energy')\n",
    "plt.title('Energy vs Dihedral Angle')\n",
    "plt.ylabel('Energy (J)')\n",
    "plt.xlabel('Diherdral Angle (radians)')\n",
    "plt.legend()\n",
    "plt.show()"
   ]
  },
  {
   "cell_type": "code",
   "execution_count": 12,
   "metadata": {},
   "outputs": [
    {
     "data": {
      "application/vnd.plotly.v1+json": {
       "config": {
        "plotlyServerURL": "https://plot.ly"
       },
       "data": [
        {
         "marker": {
          "color": "#1f78b4",
          "size": 5
         },
         "mode": "markers",
         "name": "Free Nodes",
         "type": "scatter3d",
         "x": [],
         "y": [],
         "z": []
        },
        {
         "marker": {
          "color": "#e31a1c",
          "size": 5
         },
         "mode": "markers",
         "name": "Fixed Nodes",
         "type": "scatter3d",
         "x": {
          "bdata": "AAAAAAAAAAAAAAAAAADwPwAAAAAAAAAAAAAA0I55JT4=",
          "dtype": "f8"
         },
         "y": {
          "bdata": "AAAAAAAAAAAAAAAAAAAAAAAAAAAAAPA/AAAA8I55JT4=",
          "dtype": "f8"
         },
         "z": {
          "bdata": "AAAAAAAAAAAAAAAAAAAAAAAAAAAAAAAAKyauMlCJEr8=",
          "dtype": "f8"
         }
        },
        {
         "line": {
          "color": "#333333",
          "width": 2
         },
         "mode": "lines",
         "name": "Edges",
         "type": "scatter3d",
         "x": [
          1,
          0,
          null,
          0,
          0,
          null,
          0,
          1,
          null,
          0,
          2.49999987378402e-9,
          null,
          2.49999987378402e-9,
          1,
          null
         ],
         "y": [
          0,
          1,
          null,
          1,
          0,
          null,
          0,
          0,
          null,
          1,
          2.500000095828625e-9,
          null,
          2.500000095828625e-9,
          0,
          null
         ],
         "z": [
          0,
          0,
          null,
          0,
          0,
          null,
          0,
          0,
          null,
          0,
          -0.00007071067800103945,
          null,
          -0.00007071067800103945,
          0,
          null
         ]
        },
        {
         "color": "rgba(166, 206, 227, 0.7)",
         "i": [
          0,
          1
         ],
         "j": [
          1,
          2
         ],
         "k": [
          2,
          3
         ],
         "name": "Faces",
         "opacity": 0.7,
         "showscale": false,
         "type": "mesh3d",
         "x": {
          "bdata": "AAAAAAAAAAAAAAAAAADwPwAAAAAAAAAAAAAA0I55JT4=",
          "dtype": "f8"
         },
         "y": {
          "bdata": "AAAAAAAAAAAAAAAAAAAAAAAAAAAAAPA/AAAA8I55JT4=",
          "dtype": "f8"
         },
         "z": {
          "bdata": "AAAAAAAAAAAAAAAAAAAAAAAAAAAAAAAAKyauMlCJEr8=",
          "dtype": "f8"
         }
        }
       ],
       "frames": [
        {
         "data": [
          {
           "name": "Free Nodes",
           "type": "scatter3d",
           "x": [],
           "y": [],
           "z": []
          },
          {
           "name": "Fixed Nodes",
           "type": "scatter3d",
           "x": {
            "bdata": "AAAAAAAAAAAAAAAAAADwPwAAAAAAAAAAAAAA0I55JT4=",
            "dtype": "f8"
           },
           "y": {
            "bdata": "AAAAAAAAAAAAAAAAAAAAAAAAAAAAAPA/AAAA8I55JT4=",
            "dtype": "f8"
           },
           "z": {
            "bdata": "AAAAAAAAAAAAAAAAAAAAAAAAAAAAAAAAKyauMlCJEr8=",
            "dtype": "f8"
           }
          },
          {
           "name": "Edges",
           "type": "scatter3d",
           "x": [
            1,
            0,
            null,
            0,
            0,
            null,
            0,
            1,
            null,
            0,
            2.49999987378402e-9,
            null,
            2.49999987378402e-9,
            1,
            null
           ],
           "y": [
            0,
            1,
            null,
            1,
            0,
            null,
            0,
            0,
            null,
            1,
            2.500000095828625e-9,
            null,
            2.500000095828625e-9,
            0,
            null
           ],
           "z": [
            0,
            0,
            null,
            0,
            0,
            null,
            0,
            0,
            null,
            0,
            -0.00007071067800103945,
            null,
            -0.00007071067800103945,
            0,
            null
           ]
          },
          {
           "i": [
            0,
            1
           ],
           "j": [
            1,
            2
           ],
           "k": [
            2,
            3
           ],
           "name": "Faces",
           "type": "mesh3d",
           "x": {
            "bdata": "AAAAAAAAAAAAAAAAAADwPwAAAAAAAAAAAAAA0I55JT4=",
            "dtype": "f8"
           },
           "y": {
            "bdata": "AAAAAAAAAAAAAAAAAAAAAAAAAAAAAPA/AAAA8I55JT4=",
            "dtype": "f8"
           },
           "z": {
            "bdata": "AAAAAAAAAAAAAAAAAAAAAAAAAAAAAAAAKyauMlCJEr8=",
            "dtype": "f8"
           }
          }
         ],
         "layout": {
          "annotations": [
           {
            "showarrow": false,
            "text": "Time: 0.00s (Step: 1/50)",
            "x": 0.05,
            "xref": "paper",
            "y": 0.95,
            "yref": "paper"
           }
          ],
          "scene": {
           "camera": {
            "eye": {
             "x": 1.8366469276916615,
             "y": 1.8366469276916615,
             "z": 1.4996159368316537
            }
           }
          }
         },
         "name": "0"
        },
        {
         "data": [
          {
           "name": "Free Nodes",
           "type": "scatter3d",
           "x": [],
           "y": [],
           "z": []
          },
          {
           "name": "Fixed Nodes",
           "type": "scatter3d",
           "x": {
            "bdata": "AAAAAAAAAAAAAAAAAADwPwAAAAAAAAAAADhmltTWcD8=",
            "dtype": "f8"
           },
           "y": {
            "bdata": "AAAAAAAAAAAAAAAAAAAAAAAAAAAAAPA/ADlmltTWcD8=",
            "dtype": "f8"
           },
           "z": {
            "bdata": "AAAAAAAAAAAAAAAAAAAAAAAAAAAAAAAAiAq2ilsqt78=",
            "dtype": "f8"
           }
          },
          {
           "name": "Edges",
           "type": "scatter3d",
           "x": [
            1,
            0,
            null,
            0,
            0,
            null,
            0,
            1,
            null,
            0,
            0.004111128253851959,
            null,
            0.004111128253851959,
            1,
            null
           ],
           "y": [
            0,
            1,
            null,
            1,
            0,
            null,
            0,
            0,
            null,
            1,
            0.004111128253852181,
            null,
            0.004111128253852181,
            0,
            null
           ],
           "z": [
            0,
            0,
            null,
            0,
            0,
            null,
            0,
            0,
            null,
            0,
            -0.09049007545949384,
            null,
            -0.09049007545949384,
            0,
            null
           ]
          },
          {
           "i": [
            0,
            1
           ],
           "j": [
            1,
            2
           ],
           "k": [
            2,
            3
           ],
           "name": "Faces",
           "type": "mesh3d",
           "x": {
            "bdata": "AAAAAAAAAAAAAAAAAADwPwAAAAAAAAAAADhmltTWcD8=",
            "dtype": "f8"
           },
           "y": {
            "bdata": "AAAAAAAAAAAAAAAAAAAAAAAAAAAAAPA/ADlmltTWcD8=",
            "dtype": "f8"
           },
           "z": {
            "bdata": "AAAAAAAAAAAAAAAAAAAAAAAAAAAAAAAAiAq2ilsqt78=",
            "dtype": "f8"
           }
          }
         ],
         "layout": {
          "annotations": [
           {
            "showarrow": false,
            "text": "Time: 0.13s (Step: 2/50)",
            "x": 0.05,
            "xref": "paper",
            "y": 0.95,
            "yref": "paper"
           }
          ],
          "scene": {
           "camera": {
            "eye": {
             "x": 1.8366469276916615,
             "y": 1.8366469276916615,
             "z": 1.4996159368316537
            }
           }
          }
         },
         "name": "1"
        },
        {
         "data": [
          {
           "name": "Free Nodes",
           "type": "scatter3d",
           "x": [],
           "y": [],
           "z": []
          },
          {
           "name": "Fixed Nodes",
           "type": "scatter3d",
           "x": {
            "bdata": "AAAAAAAAAAAAAAAAAADwPwAAAAAAAAAAYDg9E8jBkD8=",
            "dtype": "f8"
           },
           "y": {
            "bdata": "AAAAAAAAAAAAAAAAAAAAAAAAAAAAAPA/oDg9E8jBkD8=",
            "dtype": "f8"
           },
           "z": {
            "bdata": "AAAAAAAAAAAAAAAAAAAAAAAAAAAAAAAAHBWxAFv3xr8=",
            "dtype": "f8"
           }
          },
          {
           "name": "Edges",
           "type": "scatter3d",
           "x": [
            1,
            0,
            null,
            0,
            0,
            null,
            0,
            1,
            null,
            0,
            0.016364217924369817,
            null,
            0.016364217924369817,
            1,
            null
           ],
           "y": [
            0,
            1,
            null,
            1,
            0,
            null,
            0,
            0,
            null,
            1,
            0.01636421792437004,
            null,
            0.01636421792437004,
            0,
            null
           ],
           "z": [
            0,
            0,
            null,
            0,
            0,
            null,
            0,
            0,
            null,
            0,
            -0.17942369016433524,
            null,
            -0.17942369016433524,
            0,
            null
           ]
          },
          {
           "i": [
            0,
            1
           ],
           "j": [
            1,
            2
           ],
           "k": [
            2,
            3
           ],
           "name": "Faces",
           "type": "mesh3d",
           "x": {
            "bdata": "AAAAAAAAAAAAAAAAAADwPwAAAAAAAAAAYDg9E8jBkD8=",
            "dtype": "f8"
           },
           "y": {
            "bdata": "AAAAAAAAAAAAAAAAAAAAAAAAAAAAAPA/oDg9E8jBkD8=",
            "dtype": "f8"
           },
           "z": {
            "bdata": "AAAAAAAAAAAAAAAAAAAAAAAAAAAAAAAAHBWxAFv3xr8=",
            "dtype": "f8"
           }
          }
         ],
         "layout": {
          "annotations": [
           {
            "showarrow": false,
            "text": "Time: 0.26s (Step: 3/50)",
            "x": 0.05,
            "xref": "paper",
            "y": 0.95,
            "yref": "paper"
           }
          ],
          "scene": {
           "camera": {
            "eye": {
             "x": 1.8366469276916615,
             "y": 1.8366469276916615,
             "z": 1.4996159368316537
            }
           }
          }
         },
         "name": "2"
        },
        {
         "data": [
          {
           "name": "Free Nodes",
           "type": "scatter3d",
           "x": [],
           "y": [],
           "z": []
          },
          {
           "name": "Fixed Nodes",
           "type": "scatter3d",
           "x": {
            "bdata": "AAAAAAAAAAAAAAAAAADwPwAAAAAAAAAAAK2I6L23oj8=",
            "dtype": "f8"
           },
           "y": {
            "bdata": "AAAAAAAAAAAAAAAAAAAAAAAAAAAAAPA/IK2I6L23oj8=",
            "dtype": "f8"
           },
           "z": {
            "bdata": "AAAAAAAAAAAAAAAAAAAAAAAAAAAAAAAAmbTw7X/80L8=",
            "dtype": "f8"
           }
          },
          {
           "name": "Edges",
           "type": "scatter3d",
           "x": [
            1,
            0,
            null,
            0,
            0,
            null,
            0,
            1,
            null,
            0,
            0.03655808890865764,
            null,
            0.03655808890865764,
            1,
            null
           ],
           "y": [
            0,
            1,
            null,
            1,
            0,
            null,
            0,
            0,
            null,
            1,
            0.03655808890865786,
            null,
            0.03655808890865786,
            0,
            null
           ],
           "z": [
            0,
            0,
            null,
            0,
            0,
            null,
            0,
            0,
            null,
            0,
            -0.26541136013367744,
            null,
            -0.26541136013367744,
            0,
            null
           ]
          },
          {
           "i": [
            0,
            1
           ],
           "j": [
            1,
            2
           ],
           "k": [
            2,
            3
           ],
           "name": "Faces",
           "type": "mesh3d",
           "x": {
            "bdata": "AAAAAAAAAAAAAAAAAADwPwAAAAAAAAAAAK2I6L23oj8=",
            "dtype": "f8"
           },
           "y": {
            "bdata": "AAAAAAAAAAAAAAAAAAAAAAAAAAAAAPA/IK2I6L23oj8=",
            "dtype": "f8"
           },
           "z": {
            "bdata": "AAAAAAAAAAAAAAAAAAAAAAAAAAAAAAAAmbTw7X/80L8=",
            "dtype": "f8"
           }
          }
         ],
         "layout": {
          "annotations": [
           {
            "showarrow": false,
            "text": "Time: 0.38s (Step: 4/50)",
            "x": 0.05,
            "xref": "paper",
            "y": 0.95,
            "yref": "paper"
           }
          ],
          "scene": {
           "camera": {
            "eye": {
             "x": 1.8366469276916615,
             "y": 1.8366469276916615,
             "z": 1.4996159368316537
            }
           }
          }
         },
         "name": "3"
        },
        {
         "data": [
          {
           "name": "Free Nodes",
           "type": "scatter3d",
           "x": [],
           "y": [],
           "z": []
          },
          {
           "name": "Fixed Nodes",
           "type": "scatter3d",
           "x": {
            "bdata": "AAAAAAAAAAAAAAAAAADwPwAAAAAAAAAAsF4Dafl5sD8=",
            "dtype": "f8"
           },
           "y": {
            "bdata": "AAAAAAAAAAAAAAAAAAAAAAAAAAAAAPA/wF4Dafl5sD8=",
            "dtype": "f8"
           },
           "z": {
            "bdata": "AAAAAAAAAAAAAAAAAAAAAAAAAAAAAAAAe0V6i+w11r8=",
            "dtype": "f8"
           }
          },
          {
           "name": "Edges",
           "type": "scatter3d",
           "x": [
            1,
            0,
            null,
            0,
            0,
            null,
            0,
            1,
            null,
            0,
            0.06436117948339404,
            null,
            0.06436117948339404,
            1,
            null
           ],
           "y": [
            0,
            1,
            null,
            1,
            0,
            null,
            0,
            0,
            null,
            1,
            0.06436117948339426,
            null,
            0.06436117948339426,
            0,
            null
           ],
           "z": [
            0,
            0,
            null,
            0,
            0,
            null,
            0,
            0,
            null,
            0,
            -0.34704125996457663,
            null,
            -0.34704125996457663,
            0,
            null
           ]
          },
          {
           "i": [
            0,
            1
           ],
           "j": [
            1,
            2
           ],
           "k": [
            2,
            3
           ],
           "name": "Faces",
           "type": "mesh3d",
           "x": {
            "bdata": "AAAAAAAAAAAAAAAAAADwPwAAAAAAAAAAsF4Dafl5sD8=",
            "dtype": "f8"
           },
           "y": {
            "bdata": "AAAAAAAAAAAAAAAAAAAAAAAAAAAAAPA/wF4Dafl5sD8=",
            "dtype": "f8"
           },
           "z": {
            "bdata": "AAAAAAAAAAAAAAAAAAAAAAAAAAAAAAAAe0V6i+w11r8=",
            "dtype": "f8"
           }
          }
         ],
         "layout": {
          "annotations": [
           {
            "showarrow": false,
            "text": "Time: 0.51s (Step: 5/50)",
            "x": 0.05,
            "xref": "paper",
            "y": 0.95,
            "yref": "paper"
           }
          ],
          "scene": {
           "camera": {
            "eye": {
             "x": 1.8366469276916615,
             "y": 1.8366469276916615,
             "z": 1.4996159368316537
            }
           }
          }
         },
         "name": "4"
        },
        {
         "data": [
          {
           "name": "Free Nodes",
           "type": "scatter3d",
           "x": [],
           "y": [],
           "z": []
          },
          {
           "name": "Fixed Nodes",
           "type": "scatter3d",
           "x": {
            "bdata": "AAAAAAAAAAAAAAAAAADwPwAAAAAAAAAAoMGNo9ZsuT8=",
            "dtype": "f8"
           },
           "y": {
            "bdata": "AAAAAAAAAAAAAAAAAAAAAAAAAAAAAPA/sMGNo9ZsuT8=",
            "dtype": "f8"
           },
           "z": {
            "bdata": "AAAAAAAAAAAAAAAAAAAAAAAAAAAAAAAA07cc0/0R278=",
            "dtype": "f8"
           }
          },
          {
           "name": "Edges",
           "type": "scatter3d",
           "x": [
            1,
            0,
            null,
            0,
            0,
            null,
            0,
            1,
            null,
            0,
            0.0993169926930535,
            null,
            0.0993169926930535,
            1,
            null
           ],
           "y": [
            0,
            1,
            null,
            1,
            0,
            null,
            0,
            0,
            null,
            1,
            0.09931699269305372,
            null,
            0.09931699269305372,
            0,
            null
           ],
           "z": [
            0,
            0,
            null,
            0,
            0,
            null,
            0,
            0,
            null,
            0,
            -0.42297311417030165,
            null,
            -0.42297311417030165,
            0,
            null
           ]
          },
          {
           "i": [
            0,
            1
           ],
           "j": [
            1,
            2
           ],
           "k": [
            2,
            3
           ],
           "name": "Faces",
           "type": "mesh3d",
           "x": {
            "bdata": "AAAAAAAAAAAAAAAAAADwPwAAAAAAAAAAoMGNo9ZsuT8=",
            "dtype": "f8"
           },
           "y": {
            "bdata": "AAAAAAAAAAAAAAAAAAAAAAAAAAAAAPA/sMGNo9ZsuT8=",
            "dtype": "f8"
           },
           "z": {
            "bdata": "AAAAAAAAAAAAAAAAAAAAAAAAAAAAAAAA07cc0/0R278=",
            "dtype": "f8"
           }
          }
         ],
         "layout": {
          "annotations": [
           {
            "showarrow": false,
            "text": "Time: 0.64s (Step: 6/50)",
            "x": 0.05,
            "xref": "paper",
            "y": 0.95,
            "yref": "paper"
           }
          ],
          "scene": {
           "camera": {
            "eye": {
             "x": 1.8366469276916615,
             "y": 1.8366469276916615,
             "z": 1.4996159368316537
            }
           }
          }
         },
         "name": "5"
        },
        {
         "data": [
          {
           "name": "Free Nodes",
           "type": "scatter3d",
           "x": [],
           "y": [],
           "z": []
          },
          {
           "name": "Fixed Nodes",
           "type": "scatter3d",
           "x": {
            "bdata": "AAAAAAAAAAAAAAAAAADwPwAAAAAAAAAAGOqgyWwHwj8=",
            "dtype": "f8"
           },
           "y": {
            "bdata": "AAAAAAAAAAAAAAAAAAAAAAAAAAAAAPA/IOqgyWwHwj8=",
            "dtype": "f8"
           },
           "z": {
            "bdata": "AAAAAAAAAAAAAAAAAAAAAAAAAAAAAAAAsv3GpUZ8378=",
            "dtype": "f8"
           }
          },
          {
           "name": "Edges",
           "type": "scatter3d",
           "x": [
            1,
            0,
            null,
            0,
            0,
            null,
            0,
            1,
            null,
            0,
            0.14085159154076687,
            null,
            0.14085159154076687,
            1,
            null
           ],
           "y": [
            0,
            1,
            null,
            1,
            0,
            null,
            0,
            0,
            null,
            1,
            0.1408515915407671,
            null,
            0.1408515915407671,
            0,
            null
           ],
           "z": [
            0,
            0,
            null,
            0,
            0,
            null,
            0,
            0,
            null,
            0,
            -0.49196020306768695,
            null,
            -0.49196020306768695,
            0,
            null
           ]
          },
          {
           "i": [
            0,
            1
           ],
           "j": [
            1,
            2
           ],
           "k": [
            2,
            3
           ],
           "name": "Faces",
           "type": "mesh3d",
           "x": {
            "bdata": "AAAAAAAAAAAAAAAAAADwPwAAAAAAAAAAGOqgyWwHwj8=",
            "dtype": "f8"
           },
           "y": {
            "bdata": "AAAAAAAAAAAAAAAAAAAAAAAAAAAAAPA/IOqgyWwHwj8=",
            "dtype": "f8"
           },
           "z": {
            "bdata": "AAAAAAAAAAAAAAAAAAAAAAAAAAAAAAAAsv3GpUZ8378=",
            "dtype": "f8"
           }
          }
         ],
         "layout": {
          "annotations": [
           {
            "showarrow": false,
            "text": "Time: 0.77s (Step: 7/50)",
            "x": 0.05,
            "xref": "paper",
            "y": 0.95,
            "yref": "paper"
           }
          ],
          "scene": {
           "camera": {
            "eye": {
             "x": 1.8366469276916615,
             "y": 1.8366469276916615,
             "z": 1.4996159368316537
            }
           }
          }
         },
         "name": "6"
        },
        {
         "data": [
          {
           "name": "Free Nodes",
           "type": "scatter3d",
           "x": [],
           "y": [],
           "z": []
          },
          {
           "name": "Fixed Nodes",
           "type": "scatter3d",
           "x": {
            "bdata": "AAAAAAAAAAAAAAAAAADwPwAAAAAAAAAA+CbXd6gZyD8=",
            "dtype": "f8"
           },
           "y": {
            "bdata": "AAAAAAAAAAAAAAAAAAAAAAAAAAAAAPA/ACfXd6gZyD8=",
            "dtype": "f8"
           },
           "z": {
            "bdata": "AAAAAAAAAAAAAAAAAAAAAAAAAAAAAAAADtI7Exyx4b8=",
            "dtype": "f8"
           }
          },
          {
           "name": "Edges",
           "type": "scatter3d",
           "x": [
            1,
            0,
            null,
            0,
            0,
            null,
            0,
            1,
            null,
            0,
            0.18828302241882233,
            null,
            0.18828302241882233,
            1,
            null
           ],
           "y": [
            0,
            1,
            null,
            1,
            0,
            null,
            0,
            0,
            null,
            1,
            0.18828302241882255,
            null,
            0.18828302241882255,
            0,
            null
           ],
           "z": [
            0,
            0,
            null,
            0,
            0,
            null,
            0,
            0,
            null,
            0,
            -0.5528698325784391,
            null,
            -0.5528698325784391,
            0,
            null
           ]
          },
          {
           "i": [
            0,
            1
           ],
           "j": [
            1,
            2
           ],
           "k": [
            2,
            3
           ],
           "name": "Faces",
           "type": "mesh3d",
           "x": {
            "bdata": "AAAAAAAAAAAAAAAAAADwPwAAAAAAAAAA+CbXd6gZyD8=",
            "dtype": "f8"
           },
           "y": {
            "bdata": "AAAAAAAAAAAAAAAAAAAAAAAAAAAAAPA/ACfXd6gZyD8=",
            "dtype": "f8"
           },
           "z": {
            "bdata": "AAAAAAAAAAAAAAAAAAAAAAAAAAAAAAAADtI7Exyx4b8=",
            "dtype": "f8"
           }
          }
         ],
         "layout": {
          "annotations": [
           {
            "showarrow": false,
            "text": "Time: 0.90s (Step: 8/50)",
            "x": 0.05,
            "xref": "paper",
            "y": 0.95,
            "yref": "paper"
           }
          ],
          "scene": {
           "camera": {
            "eye": {
             "x": 1.8366469276916615,
             "y": 1.8366469276916615,
             "z": 1.4996159368316537
            }
           }
          }
         },
         "name": "7"
        },
        {
         "data": [
          {
           "name": "Free Nodes",
           "type": "scatter3d",
           "x": [],
           "y": [],
           "z": []
          },
          {
           "name": "Fixed Nodes",
           "type": "scatter3d",
           "x": {
            "bdata": "AAAAAAAAAAAAAAAAAADwPwAAAAAAAAAAQCKMiZnTzj8=",
            "dtype": "f8"
           },
           "y": {
            "bdata": "AAAAAAAAAAAAAAAAAAAAAAAAAAAAAPA/SCKMiZnTzj8=",
            "dtype": "f8"
           },
           "z": {
            "bdata": "AAAAAAAAAAAAAAAAAAAAAAAAAAAAAAAAF0Ok3bdZ478=",
            "dtype": "f8"
           }
          },
          {
           "name": "Edges",
           "type": "scatter3d",
           "x": [
            1,
            0,
            null,
            0,
            0,
            null,
            0,
            1,
            null,
            0,
            0.2408325120561745,
            null,
            0.2408325120561745,
            1,
            null
           ],
           "y": [
            0,
            1,
            null,
            1,
            0,
            null,
            0,
            0,
            null,
            1,
            0.24083251205617473,
            null,
            0.24083251205617473,
            0,
            null
           ],
           "z": [
            0,
            0,
            null,
            0,
            0,
            null,
            0,
            0,
            null,
            0,
            -0.604701931852193,
            null,
            -0.604701931852193,
            0,
            null
           ]
          },
          {
           "i": [
            0,
            1
           ],
           "j": [
            1,
            2
           ],
           "k": [
            2,
            3
           ],
           "name": "Faces",
           "type": "mesh3d",
           "x": {
            "bdata": "AAAAAAAAAAAAAAAAAADwPwAAAAAAAAAAQCKMiZnTzj8=",
            "dtype": "f8"
           },
           "y": {
            "bdata": "AAAAAAAAAAAAAAAAAAAAAAAAAAAAAPA/SCKMiZnTzj8=",
            "dtype": "f8"
           },
           "z": {
            "bdata": "AAAAAAAAAAAAAAAAAAAAAAAAAAAAAAAAF0Ok3bdZ478=",
            "dtype": "f8"
           }
          }
         ],
         "layout": {
          "annotations": [
           {
            "showarrow": false,
            "text": "Time: 1.03s (Step: 9/50)",
            "x": 0.05,
            "xref": "paper",
            "y": 0.95,
            "yref": "paper"
           }
          ],
          "scene": {
           "camera": {
            "eye": {
             "x": 1.8366469276916615,
             "y": 1.8366469276916615,
             "z": 1.4996159368316537
            }
           }
          }
         },
         "name": "8"
        },
        {
         "data": [
          {
           "name": "Free Nodes",
           "type": "scatter3d",
           "x": [],
           "y": [],
           "z": []
          },
          {
           "name": "Fixed Nodes",
           "type": "scatter3d",
           "x": {
            "bdata": "AAAAAAAAAAAAAAAAAADwPwAAAAAAAAAA7tsmIH0M0z8=",
            "dtype": "f8"
           },
           "y": {
            "bdata": "AAAAAAAAAAAAAAAAAAAAAAAAAAAAAPA/8tsmIH0M0z8=",
            "dtype": "f8"
           },
           "z": {
            "bdata": "AAAAAAAAAAAAAAAAAAAAAAAAAAAAAAAAzaAv9v2w5L8=",
            "dtype": "f8"
           }
          },
          {
           "name": "Edges",
           "type": "scatter3d",
           "x": [
            1,
            0,
            null,
            0,
            0,
            null,
            0,
            1,
            null,
            0,
            0.29763725414107867,
            null,
            0.29763725414107867,
            1,
            null
           ],
           "y": [
            0,
            1,
            null,
            1,
            0,
            null,
            0,
            0,
            null,
            1,
            0.2976372541410789,
            null,
            0.2976372541410789,
            0,
            null
           ],
           "z": [
            0,
            0,
            null,
            0,
            0,
            null,
            0,
            0,
            null,
            0,
            -0.6466054733582723,
            null,
            -0.6466054733582723,
            0,
            null
           ]
          },
          {
           "i": [
            0,
            1
           ],
           "j": [
            1,
            2
           ],
           "k": [
            2,
            3
           ],
           "name": "Faces",
           "type": "mesh3d",
           "x": {
            "bdata": "AAAAAAAAAAAAAAAAAADwPwAAAAAAAAAA7tsmIH0M0z8=",
            "dtype": "f8"
           },
           "y": {
            "bdata": "AAAAAAAAAAAAAAAAAAAAAAAAAAAAAPA/8tsmIH0M0z8=",
            "dtype": "f8"
           },
           "z": {
            "bdata": "AAAAAAAAAAAAAAAAAAAAAAAAAAAAAAAAzaAv9v2w5L8=",
            "dtype": "f8"
           }
          }
         ],
         "layout": {
          "annotations": [
           {
            "showarrow": false,
            "text": "Time: 1.15s (Step: 10/50)",
            "x": 0.05,
            "xref": "paper",
            "y": 0.95,
            "yref": "paper"
           }
          ],
          "scene": {
           "camera": {
            "eye": {
             "x": 1.8366469276916615,
             "y": 1.8366469276916615,
             "z": 1.4996159368316537
            }
           }
          }
         },
         "name": "9"
        },
        {
         "data": [
          {
           "name": "Free Nodes",
           "type": "scatter3d",
           "x": [],
           "y": [],
           "z": []
          },
          {
           "name": "Fixed Nodes",
           "type": "scatter3d",
           "x": {
            "bdata": "AAAAAAAAAAAAAAAAAADwPwAAAAAAAAAA1JUMZJ3l1j8=",
            "dtype": "f8"
           },
           "y": {
            "bdata": "AAAAAAAAAAAAAAAAAAAAAAAAAAAAAPA/2JUMZJ3l1j8=",
            "dtype": "f8"
           },
           "z": {
            "bdata": "AAAAAAAAAAAAAAAAAAAAAAAAAAAAAAAAp6Cjf0ux5b8=",
            "dtype": "f8"
           }
          },
          {
           "name": "Edges",
           "type": "scatter3d",
           "x": [
            1,
            0,
            null,
            0,
            0,
            null,
            0,
            1,
            null,
            0,
            0.35776457567621134,
            null,
            0.35776457567621134,
            1,
            null
           ],
           "y": [
            0,
            1,
            null,
            1,
            0,
            null,
            0,
            0,
            null,
            1,
            0.35776457567621156,
            null,
            0.35776457567621156,
            0,
            null
           ],
           "z": [
            0,
            0,
            null,
            0,
            0,
            null,
            0,
            0,
            null,
            0,
            -0.6778924458458463,
            null,
            -0.6778924458458463,
            0,
            null
           ]
          },
          {
           "i": [
            0,
            1
           ],
           "j": [
            1,
            2
           ],
           "k": [
            2,
            3
           ],
           "name": "Faces",
           "type": "mesh3d",
           "x": {
            "bdata": "AAAAAAAAAAAAAAAAAADwPwAAAAAAAAAA1JUMZJ3l1j8=",
            "dtype": "f8"
           },
           "y": {
            "bdata": "AAAAAAAAAAAAAAAAAAAAAAAAAAAAAPA/2JUMZJ3l1j8=",
            "dtype": "f8"
           },
           "z": {
            "bdata": "AAAAAAAAAAAAAAAAAAAAAAAAAAAAAAAAp6Cjf0ux5b8=",
            "dtype": "f8"
           }
          }
         ],
         "layout": {
          "annotations": [
           {
            "showarrow": false,
            "text": "Time: 1.28s (Step: 11/50)",
            "x": 0.05,
            "xref": "paper",
            "y": 0.95,
            "yref": "paper"
           }
          ],
          "scene": {
           "camera": {
            "eye": {
             "x": 1.8366469276916615,
             "y": 1.8366469276916615,
             "z": 1.4996159368316537
            }
           }
          }
         },
         "name": "10"
        },
        {
         "data": [
          {
           "name": "Free Nodes",
           "type": "scatter3d",
           "x": [],
           "y": [],
           "z": []
          },
          {
           "name": "Fixed Nodes",
           "type": "scatter3d",
           "x": {
            "bdata": "AAAAAAAAAAAAAAAAAADwPwAAAAAAAAAAzP9p1gDl2j8=",
            "dtype": "f8"
           },
           "y": {
            "bdata": "AAAAAAAAAAAAAAAAAAAAAAAAAAAAAPA/0P9p1gDl2j8=",
            "dtype": "f8"
           },
           "z": {
            "bdata": "AAAAAAAAAAAAAAAAAAAAAAAAAAAAAAAAHUwvLGtW5r8=",
            "dtype": "f8"
           }
          },
          {
           "name": "Edges",
           "type": "scatter3d",
           "x": [
            1,
            0,
            null,
            0,
            0,
            null,
            0,
            1,
            null,
            0,
            0.42022725046990383,
            null,
            0.42022725046990383,
            1,
            null
           ],
           "y": [
            0,
            1,
            null,
            1,
            0,
            null,
            0,
            0,
            null,
            1,
            0.42022725046990406,
            null,
            0.42022725046990406,
            0,
            null
           ],
           "z": [
            0,
            0,
            null,
            0,
            0,
            null,
            0,
            0,
            null,
            0,
            -0.6980491507514476,
            null,
            -0.6980491507514476,
            0,
            null
           ]
          },
          {
           "i": [
            0,
            1
           ],
           "j": [
            1,
            2
           ],
           "k": [
            2,
            3
           ],
           "name": "Faces",
           "type": "mesh3d",
           "x": {
            "bdata": "AAAAAAAAAAAAAAAAAADwPwAAAAAAAAAAzP9p1gDl2j8=",
            "dtype": "f8"
           },
           "y": {
            "bdata": "AAAAAAAAAAAAAAAAAAAAAAAAAAAAAPA/0P9p1gDl2j8=",
            "dtype": "f8"
           },
           "z": {
            "bdata": "AAAAAAAAAAAAAAAAAAAAAAAAAAAAAAAAHUwvLGtW5r8=",
            "dtype": "f8"
           }
          }
         ],
         "layout": {
          "annotations": [
           {
            "showarrow": false,
            "text": "Time: 1.41s (Step: 12/50)",
            "x": 0.05,
            "xref": "paper",
            "y": 0.95,
            "yref": "paper"
           }
          ],
          "scene": {
           "camera": {
            "eye": {
             "x": 1.8366469276916615,
             "y": 1.8366469276916615,
             "z": 1.4996159368316537
            }
           }
          }
         },
         "name": "11"
        },
        {
         "data": [
          {
           "name": "Free Nodes",
           "type": "scatter3d",
           "x": [],
           "y": [],
           "z": []
          },
          {
           "name": "Fixed Nodes",
           "type": "scatter3d",
           "x": {
            "bdata": "AAAAAAAAAAAAAAAAAADwPwAAAAAAAAAAqOij6dn53j8=",
            "dtype": "f8"
           },
           "y": {
            "bdata": "AAAAAAAAAAAAAAAAAAAAAAAAAAAAAPA/rOij6dn53j8=",
            "dtype": "f8"
           },
           "z": {
            "bdata": "AAAAAAAAAAAAAAAAAAAAAAAAAAAAAAAA3VuX7aad5r8=",
            "dtype": "f8"
           }
          },
          {
           "name": "Edges",
           "type": "scatter3d",
           "x": [
            1,
            0,
            null,
            0,
            0,
            null,
            0,
            1,
            null,
            0,
            0.4839997083323717,
            null,
            0.4839997083323717,
            1,
            null
           ],
           "y": [
            0,
            1,
            null,
            1,
            0,
            null,
            0,
            0,
            null,
            1,
            0.48399970833237194,
            null,
            0.48399970833237194,
            0,
            null
           ],
           "z": [
            0,
            0,
            null,
            0,
            0,
            null,
            0,
            0,
            null,
            0,
            -0.7067446365789426,
            null,
            -0.7067446365789426,
            0,
            null
           ]
          },
          {
           "i": [
            0,
            1
           ],
           "j": [
            1,
            2
           ],
           "k": [
            2,
            3
           ],
           "name": "Faces",
           "type": "mesh3d",
           "x": {
            "bdata": "AAAAAAAAAAAAAAAAAADwPwAAAAAAAAAAqOij6dn53j8=",
            "dtype": "f8"
           },
           "y": {
            "bdata": "AAAAAAAAAAAAAAAAAAAAAAAAAAAAAPA/rOij6dn53j8=",
            "dtype": "f8"
           },
           "z": {
            "bdata": "AAAAAAAAAAAAAAAAAAAAAAAAAAAAAAAA3VuX7aad5r8=",
            "dtype": "f8"
           }
          }
         ],
         "layout": {
          "annotations": [
           {
            "showarrow": false,
            "text": "Time: 1.54s (Step: 13/50)",
            "x": 0.05,
            "xref": "paper",
            "y": 0.95,
            "yref": "paper"
           }
          ],
          "scene": {
           "camera": {
            "eye": {
             "x": 1.8366469276916615,
             "y": 1.8366469276916615,
             "z": 1.4996159368316537
            }
           }
          }
         },
         "name": "12"
        },
        {
         "data": [
          {
           "name": "Free Nodes",
           "type": "scatter3d",
           "x": [],
           "y": [],
           "z": []
          },
          {
           "name": "Fixed Nodes",
           "type": "scatter3d",
           "x": {
            "bdata": "AAAAAAAAAAAAAAAAAADwPwAAAAAAAAAARqKGboCJ4T8=",
            "dtype": "f8"
           },
           "y": {
            "bdata": "AAAAAAAAAAAAAAAAAAAAAAAAAAAAAPA/SKKGboCJ4T8=",
            "dtype": "f8"
           },
           "z": {
            "bdata": "AAAAAAAAAAAAAAAAAAAAAAAAAAAAAAAAn3p/WtOF5r8=",
            "dtype": "f8"
           }
          },
          {
           "name": "Edges",
           "type": "scatter3d",
           "x": [
            1,
            0,
            null,
            0,
            0,
            null,
            0,
            1,
            null,
            0,
            0.5480348738393068,
            null,
            0.5480348738393068,
            1,
            null
           ],
           "y": [
            0,
            1,
            null,
            1,
            0,
            null,
            0,
            0,
            null,
            1,
            0.548034873839307,
            null,
            0.548034873839307,
            0,
            null
           ],
           "z": [
            0,
            0,
            null,
            0,
            0,
            null,
            0,
            0,
            null,
            0,
            -0.703836132768476,
            null,
            -0.703836132768476,
            0,
            null
           ]
          },
          {
           "i": [
            0,
            1
           ],
           "j": [
            1,
            2
           ],
           "k": [
            2,
            3
           ],
           "name": "Faces",
           "type": "mesh3d",
           "x": {
            "bdata": "AAAAAAAAAAAAAAAAAADwPwAAAAAAAAAARqKGboCJ4T8=",
            "dtype": "f8"
           },
           "y": {
            "bdata": "AAAAAAAAAAAAAAAAAAAAAAAAAAAAAPA/SKKGboCJ4T8=",
            "dtype": "f8"
           },
           "z": {
            "bdata": "AAAAAAAAAAAAAAAAAAAAAAAAAAAAAAAAn3p/WtOF5r8=",
            "dtype": "f8"
           }
          }
         ],
         "layout": {
          "annotations": [
           {
            "showarrow": false,
            "text": "Time: 1.67s (Step: 14/50)",
            "x": 0.05,
            "xref": "paper",
            "y": 0.95,
            "yref": "paper"
           }
          ],
          "scene": {
           "camera": {
            "eye": {
             "x": 1.8366469276916615,
             "y": 1.8366469276916615,
             "z": 1.4996159368316537
            }
           }
          }
         },
         "name": "13"
        },
        {
         "data": [
          {
           "name": "Free Nodes",
           "type": "scatter3d",
           "x": [],
           "y": [],
           "z": []
          },
          {
           "name": "Fixed Nodes",
           "type": "scatter3d",
           "x": {
            "bdata": "AAAAAAAAAAAAAAAAAADwPwAAAAAAAAAAcVpC7J2P4z8=",
            "dtype": "f8"
           },
           "y": {
            "bdata": "AAAAAAAAAAAAAAAAAAAAAAAAAAAAAPA/c1pC7J2P4z8=",
            "dtype": "f8"
           },
           "z": {
            "bdata": "AAAAAAAAAAAAAAAAAAAAAAAAAAAAAAAAZ13qmFQP5r8=",
            "dtype": "f8"
           }
          },
          {
           "name": "Edges",
           "type": "scatter3d",
           "x": [
            1,
            0,
            null,
            0,
            0,
            null,
            0,
            1,
            null,
            0,
            0.6112813581883768,
            null,
            0.6112813581883768,
            1,
            null
           ],
           "y": [
            0,
            1,
            null,
            1,
            0,
            null,
            0,
            0,
            null,
            1,
            0.611281358188377,
            null,
            0.611281358188377,
            0,
            null
           ],
           "z": [
            0,
            0,
            null,
            0,
            0,
            null,
            0,
            0,
            null,
            0,
            -0.6893713938360805,
            null,
            -0.6893713938360805,
            0,
            null
           ]
          },
          {
           "i": [
            0,
            1
           ],
           "j": [
            1,
            2
           ],
           "k": [
            2,
            3
           ],
           "name": "Faces",
           "type": "mesh3d",
           "x": {
            "bdata": "AAAAAAAAAAAAAAAAAADwPwAAAAAAAAAAcVpC7J2P4z8=",
            "dtype": "f8"
           },
           "y": {
            "bdata": "AAAAAAAAAAAAAAAAAAAAAAAAAAAAAPA/c1pC7J2P4z8=",
            "dtype": "f8"
           },
           "z": {
            "bdata": "AAAAAAAAAAAAAAAAAAAAAAAAAAAAAAAAZ13qmFQP5r8=",
            "dtype": "f8"
           }
          }
         ],
         "layout": {
          "annotations": [
           {
            "showarrow": false,
            "text": "Time: 1.80s (Step: 15/50)",
            "x": 0.05,
            "xref": "paper",
            "y": 0.95,
            "yref": "paper"
           }
          ],
          "scene": {
           "camera": {
            "eye": {
             "x": 1.8366469276916615,
             "y": 1.8366469276916615,
             "z": 1.4996159368316537
            }
           }
          }
         },
         "name": "14"
        },
        {
         "data": [
          {
           "name": "Free Nodes",
           "type": "scatter3d",
           "x": [],
           "y": [],
           "z": []
          },
          {
           "name": "Fixed Nodes",
           "type": "scatter3d",
           "x": {
            "bdata": "AAAAAAAAAAAAAAAAAADwPwAAAAAAAAAAJZoOqsOG5T8=",
            "dtype": "f8"
           },
           "y": {
            "bdata": "AAAAAAAAAAAAAAAAAAAAAAAAAAAAAPA/J5oOqsOG5T8=",
            "dtype": "f8"
           },
           "z": {
            "bdata": "AAAAAAAAAAAAAAAAAAAAAAAAAAAAAAAACehGuRw85b8=",
            "dtype": "f8"
           }
          },
          {
           "name": "Edges",
           "type": "scatter3d",
           "x": [
            1,
            0,
            null,
            0,
            0,
            null,
            0,
            1,
            null,
            0,
            0.6727007218767694,
            null,
            0.6727007218767694,
            1,
            null
           ],
           "y": [
            0,
            1,
            null,
            1,
            0,
            null,
            0,
            0,
            null,
            1,
            0.6727007218767697,
            null,
            0.6727007218767697,
            0,
            null
           ],
           "z": [
            0,
            0,
            null,
            0,
            0,
            null,
            0,
            0,
            null,
            0,
            -0.6635879152956942,
            null,
            -0.6635879152956942,
            0,
            null
           ]
          },
          {
           "i": [
            0,
            1
           ],
           "j": [
            1,
            2
           ],
           "k": [
            2,
            3
           ],
           "name": "Faces",
           "type": "mesh3d",
           "x": {
            "bdata": "AAAAAAAAAAAAAAAAAADwPwAAAAAAAAAAJZoOqsOG5T8=",
            "dtype": "f8"
           },
           "y": {
            "bdata": "AAAAAAAAAAAAAAAAAAAAAAAAAAAAAPA/J5oOqsOG5T8=",
            "dtype": "f8"
           },
           "z": {
            "bdata": "AAAAAAAAAAAAAAAAAAAAAAAAAAAAAAAACehGuRw85b8=",
            "dtype": "f8"
           }
          }
         ],
         "layout": {
          "annotations": [
           {
            "showarrow": false,
            "text": "Time: 1.92s (Step: 16/50)",
            "x": 0.05,
            "xref": "paper",
            "y": 0.95,
            "yref": "paper"
           }
          ],
          "scene": {
           "camera": {
            "eye": {
             "x": 1.8366469276916615,
             "y": 1.8366469276916615,
             "z": 1.4996159368316537
            }
           }
          }
         },
         "name": "15"
        },
        {
         "data": [
          {
           "name": "Free Nodes",
           "type": "scatter3d",
           "x": [],
           "y": [],
           "z": []
          },
          {
           "name": "Fixed Nodes",
           "type": "scatter3d",
           "x": {
            "bdata": "AAAAAAAAAAAAAAAAAADwPwAAAAAAAAAAgPy9za5m5z8=",
            "dtype": "f8"
           },
           "y": {
            "bdata": "AAAAAAAAAAAAAAAAAAAAAAAAAAAAAPA/gvy9za5m5z8=",
            "dtype": "f8"
           },
           "z": {
            "bdata": "AAAAAAAAAAAAAAAAAAAAAAAAAAAAAAAAoLfziKMP5L8=",
            "dtype": "f8"
           }
          },
          {
           "name": "Edges",
           "type": "scatter3d",
           "x": [
            1,
            0,
            null,
            0,
            0,
            null,
            0,
            1,
            null,
            0,
            0.7312845247651154,
            null,
            0.7312845247651154,
            1,
            null
           ],
           "y": [
            0,
            1,
            null,
            1,
            0,
            null,
            0,
            0,
            null,
            1,
            0.7312845247651156,
            null,
            0.7312845247651156,
            0,
            null
           ],
           "z": [
            0,
            0,
            null,
            0,
            0,
            null,
            0,
            0,
            null,
            0,
            -0.626909034237304,
            null,
            -0.626909034237304,
            0,
            null
           ]
          },
          {
           "i": [
            0,
            1
           ],
           "j": [
            1,
            2
           ],
           "k": [
            2,
            3
           ],
           "name": "Faces",
           "type": "mesh3d",
           "x": {
            "bdata": "AAAAAAAAAAAAAAAAAADwPwAAAAAAAAAAgPy9za5m5z8=",
            "dtype": "f8"
           },
           "y": {
            "bdata": "AAAAAAAAAAAAAAAAAAAAAAAAAAAAAPA/gvy9za5m5z8=",
            "dtype": "f8"
           },
           "z": {
            "bdata": "AAAAAAAAAAAAAAAAAAAAAAAAAAAAAAAAoLfziKMP5L8=",
            "dtype": "f8"
           }
          }
         ],
         "layout": {
          "annotations": [
           {
            "showarrow": false,
            "text": "Time: 2.05s (Step: 17/50)",
            "x": 0.05,
            "xref": "paper",
            "y": 0.95,
            "yref": "paper"
           }
          ],
          "scene": {
           "camera": {
            "eye": {
             "x": 1.8366469276916615,
             "y": 1.8366469276916615,
             "z": 1.4996159368316537
            }
           }
          }
         },
         "name": "16"
        },
        {
         "data": [
          {
           "name": "Free Nodes",
           "type": "scatter3d",
           "x": [],
           "y": [],
           "z": []
          },
          {
           "name": "Fixed Nodes",
           "type": "scatter3d",
           "x": {
            "bdata": "AAAAAAAAAAAAAAAAAADwPwAAAAAAAAAAp5gqIH4n6T8=",
            "dtype": "f8"
           },
           "y": {
            "bdata": "AAAAAAAAAAAAAAAAAAAAAAAAAAAAAPA/qZgqIH4n6T8=",
            "dtype": "f8"
           },
           "z": {
            "bdata": "AAAAAAAAAAAAAAAAAAAAAAAAAAAAAAAAzoKY/teO4r8=",
            "dtype": "f8"
           }
          },
          {
           "name": "Edges",
           "type": "scatter3d",
           "x": [
            1,
            0,
            null,
            0,
            0,
            null,
            0,
            1,
            null,
            0,
            0.7860708835840072,
            null,
            0.7860708835840072,
            1,
            null
           ],
           "y": [
            0,
            1,
            null,
            1,
            0,
            null,
            0,
            0,
            null,
            1,
            0.7860708835840075,
            null,
            0.7860708835840075,
            0,
            null
           ],
           "z": [
            0,
            0,
            null,
            0,
            0,
            null,
            0,
            0,
            null,
            0,
            -0.5799369785855448,
            null,
            -0.5799369785855448,
            0,
            null
           ]
          },
          {
           "i": [
            0,
            1
           ],
           "j": [
            1,
            2
           ],
           "k": [
            2,
            3
           ],
           "name": "Faces",
           "type": "mesh3d",
           "x": {
            "bdata": "AAAAAAAAAAAAAAAAAADwPwAAAAAAAAAAp5gqIH4n6T8=",
            "dtype": "f8"
           },
           "y": {
            "bdata": "AAAAAAAAAAAAAAAAAAAAAAAAAAAAAPA/qZgqIH4n6T8=",
            "dtype": "f8"
           },
           "z": {
            "bdata": "AAAAAAAAAAAAAAAAAAAAAAAAAAAAAAAAzoKY/teO4r8=",
            "dtype": "f8"
           }
          }
         ],
         "layout": {
          "annotations": [
           {
            "showarrow": false,
            "text": "Time: 2.18s (Step: 18/50)",
            "x": 0.05,
            "xref": "paper",
            "y": 0.95,
            "yref": "paper"
           }
          ],
          "scene": {
           "camera": {
            "eye": {
             "x": 1.8366469276916615,
             "y": 1.8366469276916615,
             "z": 1.4996159368316537
            }
           }
          }
         },
         "name": "17"
        },
        {
         "data": [
          {
           "name": "Free Nodes",
           "type": "scatter3d",
           "x": [],
           "y": [],
           "z": []
          },
          {
           "name": "Fixed Nodes",
           "type": "scatter3d",
           "x": {
            "bdata": "AAAAAAAAAAAAAAAAAADwPwAAAAAAAAAATCAQLNPB6j8=",
            "dtype": "f8"
           },
           "y": {
            "bdata": "AAAAAAAAAAAAAAAAAAAAAAAAAAAAAPA/TiAQLNPB6j8=",
            "dtype": "f8"
           },
           "z": {
            "bdata": "AAAAAAAAAAAAAAAAAAAAAAAAAAAAAAAAY1uafQvA4L8=",
            "dtype": "f8"
           }
          },
          {
           "name": "Edges",
           "type": "scatter3d",
           "x": [
            1,
            0,
            null,
            0,
            0,
            null,
            0,
            1,
            null,
            0,
            0.8361602650266007,
            null,
            0.8361602650266007,
            1,
            null
           ],
           "y": [
            0,
            1,
            null,
            1,
            0,
            null,
            0,
            0,
            null,
            1,
            0.8361602650266009,
            null,
            0.8361602650266009,
            0,
            null
           ],
           "z": [
            0,
            0,
            null,
            0,
            0,
            null,
            0,
            0,
            null,
            0,
            -0.5234429791624787,
            null,
            -0.5234429791624787,
            0,
            null
           ]
          },
          {
           "i": [
            0,
            1
           ],
           "j": [
            1,
            2
           ],
           "k": [
            2,
            3
           ],
           "name": "Faces",
           "type": "mesh3d",
           "x": {
            "bdata": "AAAAAAAAAAAAAAAAAADwPwAAAAAAAAAATCAQLNPB6j8=",
            "dtype": "f8"
           },
           "y": {
            "bdata": "AAAAAAAAAAAAAAAAAAAAAAAAAAAAAPA/TiAQLNPB6j8=",
            "dtype": "f8"
           },
           "z": {
            "bdata": "AAAAAAAAAAAAAAAAAAAAAAAAAAAAAAAAY1uafQvA4L8=",
            "dtype": "f8"
           }
          }
         ],
         "layout": {
          "annotations": [
           {
            "showarrow": false,
            "text": "Time: 2.31s (Step: 19/50)",
            "x": 0.05,
            "xref": "paper",
            "y": 0.95,
            "yref": "paper"
           }
          ],
          "scene": {
           "camera": {
            "eye": {
             "x": 1.8366469276916615,
             "y": 1.8366469276916615,
             "z": 1.4996159368316537
            }
           }
          }
         },
         "name": "18"
        },
        {
         "data": [
          {
           "name": "Free Nodes",
           "type": "scatter3d",
           "x": [],
           "y": [],
           "z": []
          },
          {
           "name": "Fixed Nodes",
           "type": "scatter3d",
           "x": {
            "bdata": "AAAAAAAAAAAAAAAAAADwPwAAAAAAAAAAwwtLN/Eu7D8=",
            "dtype": "f8"
           },
           "y": {
            "bdata": "AAAAAAAAAAAAAAAAAAAAAAAAAAAAAPA/xQtLN/Eu7D8=",
            "dtype": "f8"
           },
           "z": {
            "bdata": "AAAAAAAAAAAAAAAAAAAAAAAAAAAAAAAAmeGnj65V3b8=",
            "dtype": "f8"
           }
          },
          {
           "name": "Edges",
           "type": "scatter3d",
           "x": [
            1,
            0,
            null,
            0,
            0,
            null,
            0,
            1,
            null,
            0,
            0.8807302551216413,
            null,
            0.8807302551216413,
            1,
            null
           ],
           "y": [
            0,
            1,
            null,
            1,
            0,
            null,
            0,
            0,
            null,
            1,
            0.8807302551216415,
            null,
            0.8807302551216415,
            0,
            null
           ],
           "z": [
            0,
            0,
            null,
            0,
            0,
            null,
            0,
            0,
            null,
            0,
            -0.45835460690389024,
            null,
            -0.45835460690389024,
            0,
            null
           ]
          },
          {
           "i": [
            0,
            1
           ],
           "j": [
            1,
            2
           ],
           "k": [
            2,
            3
           ],
           "name": "Faces",
           "type": "mesh3d",
           "x": {
            "bdata": "AAAAAAAAAAAAAAAAAADwPwAAAAAAAAAAwwtLN/Eu7D8=",
            "dtype": "f8"
           },
           "y": {
            "bdata": "AAAAAAAAAAAAAAAAAAAAAAAAAAAAAPA/xQtLN/Eu7D8=",
            "dtype": "f8"
           },
           "z": {
            "bdata": "AAAAAAAAAAAAAAAAAAAAAAAAAAAAAAAAmeGnj65V3b8=",
            "dtype": "f8"
           }
          }
         ],
         "layout": {
          "annotations": [
           {
            "showarrow": false,
            "text": "Time: 2.44s (Step: 20/50)",
            "x": 0.05,
            "xref": "paper",
            "y": 0.95,
            "yref": "paper"
           }
          ],
          "scene": {
           "camera": {
            "eye": {
             "x": 1.8366469276916615,
             "y": 1.8366469276916615,
             "z": 1.4996159368316537
            }
           }
          }
         },
         "name": "19"
        },
        {
         "data": [
          {
           "name": "Free Nodes",
           "type": "scatter3d",
           "x": [],
           "y": [],
           "z": []
          },
          {
           "name": "Fixed Nodes",
           "type": "scatter3d",
           "x": {
            "bdata": "AAAAAAAAAAAAAAAAAADwPwAAAAAAAAAAFkFMlNlo7T8=",
            "dtype": "f8"
           },
           "y": {
            "bdata": "AAAAAAAAAAAAAAAAAAAAAAAAAAAAAPA/GEFMlNlo7T8=",
            "dtype": "f8"
           },
           "z": {
            "bdata": "AAAAAAAAAAAAAAAAAAAAAAAAAAAAAAAAylVhGvmv2L8=",
            "dtype": "f8"
           }
          },
          {
           "name": "Edges",
           "type": "scatter3d",
           "x": [
            1,
            0,
            null,
            0,
            0,
            null,
            0,
            1,
            null,
            0,
            0.9190490623896348,
            null,
            0.9190490623896348,
            1,
            null
           ],
           "y": [
            0,
            1,
            null,
            1,
            0,
            null,
            0,
            0,
            null,
            1,
            0.919049062389635,
            null,
            0.919049062389635,
            0,
            null
           ],
           "z": [
            0,
            0,
            null,
            0,
            0,
            null,
            0,
            0,
            null,
            0,
            -0.3857405431384363,
            null,
            -0.3857405431384363,
            0,
            null
           ]
          },
          {
           "i": [
            0,
            1
           ],
           "j": [
            1,
            2
           ],
           "k": [
            2,
            3
           ],
           "name": "Faces",
           "type": "mesh3d",
           "x": {
            "bdata": "AAAAAAAAAAAAAAAAAADwPwAAAAAAAAAAFkFMlNlo7T8=",
            "dtype": "f8"
           },
           "y": {
            "bdata": "AAAAAAAAAAAAAAAAAAAAAAAAAAAAAPA/GEFMlNlo7T8=",
            "dtype": "f8"
           },
           "z": {
            "bdata": "AAAAAAAAAAAAAAAAAAAAAAAAAAAAAAAAylVhGvmv2L8=",
            "dtype": "f8"
           }
          }
         ],
         "layout": {
          "annotations": [
           {
            "showarrow": false,
            "text": "Time: 2.56s (Step: 21/50)",
            "x": 0.05,
            "xref": "paper",
            "y": 0.95,
            "yref": "paper"
           }
          ],
          "scene": {
           "camera": {
            "eye": {
             "x": 1.8366469276916615,
             "y": 1.8366469276916615,
             "z": 1.4996159368316537
            }
           }
          }
         },
         "name": "20"
        },
        {
         "data": [
          {
           "name": "Free Nodes",
           "type": "scatter3d",
           "x": [],
           "y": [],
           "z": []
          },
          {
           "name": "Fixed Nodes",
           "type": "scatter3d",
           "x": {
            "bdata": "AAAAAAAAAAAAAAAAAADwPwAAAAAAAAAABPy51GRq7j8=",
            "dtype": "f8"
           },
           "y": {
            "bdata": "AAAAAAAAAAAAAAAAAAAAAAAAAAAAAPA/Bvy51GRq7j8=",
            "dtype": "f8"
           },
           "z": {
            "bdata": "AAAAAAAAAAAAAAAAAAAAAAAAAAAAAAAApgPUPn+i078=",
            "dtype": "f8"
           }
          },
          {
           "name": "Edges",
           "type": "scatter3d",
           "x": [
            1,
            0,
            null,
            0,
            0,
            null,
            0,
            1,
            null,
            0,
            0.9504875330748068,
            null,
            0.9504875330748068,
            1,
            null
           ],
           "y": [
            0,
            1,
            null,
            1,
            0,
            null,
            0,
            0,
            null,
            1,
            0.950487533074807,
            null,
            0.950487533074807,
            0,
            null
           ],
           "z": [
            0,
            0,
            null,
            0,
            0,
            null,
            0,
            0,
            null,
            0,
            -0.3067930329853489,
            null,
            -0.3067930329853489,
            0,
            null
           ]
          },
          {
           "i": [
            0,
            1
           ],
           "j": [
            1,
            2
           ],
           "k": [
            2,
            3
           ],
           "name": "Faces",
           "type": "mesh3d",
           "x": {
            "bdata": "AAAAAAAAAAAAAAAAAADwPwAAAAAAAAAABPy51GRq7j8=",
            "dtype": "f8"
           },
           "y": {
            "bdata": "AAAAAAAAAAAAAAAAAAAAAAAAAAAAAPA/Bvy51GRq7j8=",
            "dtype": "f8"
           },
           "z": {
            "bdata": "AAAAAAAAAAAAAAAAAAAAAAAAAAAAAAAApgPUPn+i078=",
            "dtype": "f8"
           }
          }
         ],
         "layout": {
          "annotations": [
           {
            "showarrow": false,
            "text": "Time: 2.69s (Step: 22/50)",
            "x": 0.05,
            "xref": "paper",
            "y": 0.95,
            "yref": "paper"
           }
          ],
          "scene": {
           "camera": {
            "eye": {
             "x": 1.8366469276916615,
             "y": 1.8366469276916615,
             "z": 1.4996159368316537
            }
           }
          }
         },
         "name": "21"
        },
        {
         "data": [
          {
           "name": "Free Nodes",
           "type": "scatter3d",
           "x": [],
           "y": [],
           "z": []
          },
          {
           "name": "Fixed Nodes",
           "type": "scatter3d",
           "x": {
            "bdata": "AAAAAAAAAAAAAAAAAADwPwAAAAAAAAAAZmNUc1gv7z8=",
            "dtype": "f8"
           },
           "y": {
            "bdata": "AAAAAAAAAAAAAAAAAAAAAAAAAAAAAPA/aGNUc1gv7z8=",
            "dtype": "f8"
           },
           "z": {
            "bdata": "AAAAAAAAAAAAAAAAAAAAAAAAAAAAAAAAyvhKkvuEzL8=",
            "dtype": "f8"
           }
          },
          {
           "name": "Edges",
           "type": "scatter3d",
           "x": [
            1,
            0,
            null,
            0,
            0,
            null,
            0,
            1,
            null,
            0,
            0.9745294811756195,
            null,
            0.9745294811756195,
            1,
            null
           ],
           "y": [
            0,
            1,
            null,
            1,
            0,
            null,
            0,
            0,
            null,
            1,
            0.9745294811756198,
            null,
            0.9745294811756198,
            0,
            null
           ],
           "z": [
            0,
            0,
            null,
            0,
            0,
            null,
            0,
            0,
            null,
            0,
            -0.22280830996709816,
            null,
            -0.22280830996709816,
            0,
            null
           ]
          },
          {
           "i": [
            0,
            1
           ],
           "j": [
            1,
            2
           ],
           "k": [
            2,
            3
           ],
           "name": "Faces",
           "type": "mesh3d",
           "x": {
            "bdata": "AAAAAAAAAAAAAAAAAADwPwAAAAAAAAAAZmNUc1gv7z8=",
            "dtype": "f8"
           },
           "y": {
            "bdata": "AAAAAAAAAAAAAAAAAAAAAAAAAAAAAPA/aGNUc1gv7z8=",
            "dtype": "f8"
           },
           "z": {
            "bdata": "AAAAAAAAAAAAAAAAAAAAAAAAAAAAAAAAyvhKkvuEzL8=",
            "dtype": "f8"
           }
          }
         ],
         "layout": {
          "annotations": [
           {
            "showarrow": false,
            "text": "Time: 2.82s (Step: 23/50)",
            "x": 0.05,
            "xref": "paper",
            "y": 0.95,
            "yref": "paper"
           }
          ],
          "scene": {
           "camera": {
            "eye": {
             "x": 1.8366469276916615,
             "y": 1.8366469276916615,
             "z": 1.4996159368316537
            }
           }
          }
         },
         "name": "22"
        },
        {
         "data": [
          {
           "name": "Free Nodes",
           "type": "scatter3d",
           "x": [],
           "y": [],
           "z": []
          },
          {
           "name": "Fixed Nodes",
           "type": "scatter3d",
           "x": {
            "bdata": "AAAAAAAAAAAAAAAAAADwPwAAAAAAAAAAuQsPmni07z8=",
            "dtype": "f8"
           },
           "y": {
            "bdata": "AAAAAAAAAAAAAAAAAAAAAAAAAAAAAPA/uwsPmni07z8=",
            "dtype": "f8"
           },
           "z": {
            "bdata": "AAAAAAAAAAAAAAAAAAAAAAAAAAAAAAAAh9P30xhNwb8=",
            "dtype": "f8"
           }
          },
          {
           "name": "Edges",
           "type": "scatter3d",
           "x": [
            1,
            0,
            null,
            0,
            0,
            null,
            0,
            1,
            null,
            0,
            0.9907801636658099,
            null,
            0.9907801636658099,
            1,
            null
           ],
           "y": [
            0,
            1,
            null,
            1,
            0,
            null,
            0,
            0,
            null,
            1,
            0.9907801636658101,
            null,
            0.9907801636658101,
            0,
            null
           ],
           "z": [
            0,
            0,
            null,
            0,
            0,
            null,
            0,
            0,
            null,
            0,
            -0.13516531324389922,
            null,
            -0.13516531324389922,
            0,
            null
           ]
          },
          {
           "i": [
            0,
            1
           ],
           "j": [
            1,
            2
           ],
           "k": [
            2,
            3
           ],
           "name": "Faces",
           "type": "mesh3d",
           "x": {
            "bdata": "AAAAAAAAAAAAAAAAAADwPwAAAAAAAAAAuQsPmni07z8=",
            "dtype": "f8"
           },
           "y": {
            "bdata": "AAAAAAAAAAAAAAAAAAAAAAAAAAAAAPA/uwsPmni07z8=",
            "dtype": "f8"
           },
           "z": {
            "bdata": "AAAAAAAAAAAAAAAAAAAAAAAAAAAAAAAAh9P30xhNwb8=",
            "dtype": "f8"
           }
          }
         ],
         "layout": {
          "annotations": [
           {
            "showarrow": false,
            "text": "Time: 2.95s (Step: 24/50)",
            "x": 0.05,
            "xref": "paper",
            "y": 0.95,
            "yref": "paper"
           }
          ],
          "scene": {
           "camera": {
            "eye": {
             "x": 1.8366469276916615,
             "y": 1.8366469276916615,
             "z": 1.4996159368316537
            }
           }
          }
         },
         "name": "23"
        },
        {
         "data": [
          {
           "name": "Free Nodes",
           "type": "scatter3d",
           "x": [],
           "y": [],
           "z": []
          },
          {
           "name": "Fixed Nodes",
           "type": "scatter3d",
           "x": {
            "bdata": "AAAAAAAAAAAAAAAAAADwPwAAAAAAAAAAIDequZX37z8=",
            "dtype": "f8"
           },
           "y": {
            "bdata": "AAAAAAAAAAAAAAAAAAAAAAAAAAAAAPA/IjequZX37z8=",
            "dtype": "f8"
           },
           "z": {
            "bdata": "AAAAAAAAAAAAAAAAAAAAAAAAAAAAAAAA8wvHAfYxp78=",
            "dtype": "f8"
           }
          },
          {
           "name": "Edges",
           "type": "scatter3d",
           "x": [
            1,
            0,
            null,
            0,
            0,
            null,
            0,
            1,
            null,
            0,
            0.9989727617519044,
            null,
            0.9989727617519044,
            1,
            null
           ],
           "y": [
            0,
            1,
            null,
            1,
            0,
            null,
            0,
            0,
            null,
            1,
            0.9989727617519046,
            null,
            0.9989727617519046,
            0,
            null
           ],
           "z": [
            0,
            0,
            null,
            0,
            0,
            null,
            0,
            0,
            null,
            0,
            -0.045303046910269894,
            null,
            -0.045303046910269894,
            0,
            null
           ]
          },
          {
           "i": [
            0,
            1
           ],
           "j": [
            1,
            2
           ],
           "k": [
            2,
            3
           ],
           "name": "Faces",
           "type": "mesh3d",
           "x": {
            "bdata": "AAAAAAAAAAAAAAAAAADwPwAAAAAAAAAAIDequZX37z8=",
            "dtype": "f8"
           },
           "y": {
            "bdata": "AAAAAAAAAAAAAAAAAAAAAAAAAAAAAPA/IjequZX37z8=",
            "dtype": "f8"
           },
           "z": {
            "bdata": "AAAAAAAAAAAAAAAAAAAAAAAAAAAAAAAA8wvHAfYxp78=",
            "dtype": "f8"
           }
          }
         ],
         "layout": {
          "annotations": [
           {
            "showarrow": false,
            "text": "Time: 3.08s (Step: 25/50)",
            "x": 0.05,
            "xref": "paper",
            "y": 0.95,
            "yref": "paper"
           }
          ],
          "scene": {
           "camera": {
            "eye": {
             "x": 1.8366469276916615,
             "y": 1.8366469276916615,
             "z": 1.4996159368316537
            }
           }
          }
         },
         "name": "24"
        },
        {
         "data": [
          {
           "name": "Free Nodes",
           "type": "scatter3d",
           "x": [],
           "y": [],
           "z": []
          },
          {
           "name": "Fixed Nodes",
           "type": "scatter3d",
           "x": {
            "bdata": "AAAAAAAAAAAAAAAAAADwPwAAAAAAAAAAIDequZX37z8=",
            "dtype": "f8"
           },
           "y": {
            "bdata": "AAAAAAAAAAAAAAAAAAAAAAAAAAAAAPA/IjequZX37z8=",
            "dtype": "f8"
           },
           "z": {
            "bdata": "AAAAAAAAAAAAAAAAAAAAAAAAAAAAAAAAqAzHAfYxpz8=",
            "dtype": "f8"
           }
          },
          {
           "name": "Edges",
           "type": "scatter3d",
           "x": [
            1,
            0,
            null,
            0,
            0,
            null,
            0,
            1,
            null,
            0,
            0.9989727617519044,
            null,
            0.9989727617519044,
            1,
            null
           ],
           "y": [
            0,
            1,
            null,
            1,
            0,
            null,
            0,
            0,
            null,
            1,
            0.9989727617519046,
            null,
            0.9989727617519046,
            0,
            null
           ],
           "z": [
            0,
            0,
            null,
            0,
            0,
            null,
            0,
            0,
            null,
            0,
            0.04530304691027115,
            null,
            0.04530304691027115,
            0,
            null
           ]
          },
          {
           "i": [
            0,
            1
           ],
           "j": [
            1,
            2
           ],
           "k": [
            2,
            3
           ],
           "name": "Faces",
           "type": "mesh3d",
           "x": {
            "bdata": "AAAAAAAAAAAAAAAAAADwPwAAAAAAAAAAIDequZX37z8=",
            "dtype": "f8"
           },
           "y": {
            "bdata": "AAAAAAAAAAAAAAAAAAAAAAAAAAAAAPA/IjequZX37z8=",
            "dtype": "f8"
           },
           "z": {
            "bdata": "AAAAAAAAAAAAAAAAAAAAAAAAAAAAAAAAqAzHAfYxpz8=",
            "dtype": "f8"
           }
          }
         ],
         "layout": {
          "annotations": [
           {
            "showarrow": false,
            "text": "Time: 3.21s (Step: 26/50)",
            "x": 0.05,
            "xref": "paper",
            "y": 0.95,
            "yref": "paper"
           }
          ],
          "scene": {
           "camera": {
            "eye": {
             "x": 1.8366469276916615,
             "y": 1.8366469276916615,
             "z": 1.4996159368316537
            }
           }
          }
         },
         "name": "25"
        },
        {
         "data": [
          {
           "name": "Free Nodes",
           "type": "scatter3d",
           "x": [],
           "y": [],
           "z": []
          },
          {
           "name": "Fixed Nodes",
           "type": "scatter3d",
           "x": {
            "bdata": "AAAAAAAAAAAAAAAAAADwPwAAAAAAAAAAuAsPmni07z8=",
            "dtype": "f8"
           },
           "y": {
            "bdata": "AAAAAAAAAAAAAAAAAAAAAAAAAAAAAPA/ugsPmni07z8=",
            "dtype": "f8"
           },
           "z": {
            "bdata": "AAAAAAAAAAAAAAAAAAAAAAAAAAAAAAAAqNP30xhNwT8=",
            "dtype": "f8"
           }
          },
          {
           "name": "Edges",
           "type": "scatter3d",
           "x": [
            1,
            0,
            null,
            0,
            0,
            null,
            0,
            1,
            null,
            0,
            0.9907801636658098,
            null,
            0.9907801636658098,
            1,
            null
           ],
           "y": [
            0,
            1,
            null,
            1,
            0,
            null,
            0,
            0,
            null,
            1,
            0.99078016366581,
            null,
            0.99078016366581,
            0,
            null
           ],
           "z": [
            0,
            0,
            null,
            0,
            0,
            null,
            0,
            0,
            null,
            0,
            0.13516531324390013,
            null,
            0.13516531324390013,
            0,
            null
           ]
          },
          {
           "i": [
            0,
            1
           ],
           "j": [
            1,
            2
           ],
           "k": [
            2,
            3
           ],
           "name": "Faces",
           "type": "mesh3d",
           "x": {
            "bdata": "AAAAAAAAAAAAAAAAAADwPwAAAAAAAAAAuAsPmni07z8=",
            "dtype": "f8"
           },
           "y": {
            "bdata": "AAAAAAAAAAAAAAAAAAAAAAAAAAAAAPA/ugsPmni07z8=",
            "dtype": "f8"
           },
           "z": {
            "bdata": "AAAAAAAAAAAAAAAAAAAAAAAAAAAAAAAAqNP30xhNwT8=",
            "dtype": "f8"
           }
          }
         ],
         "layout": {
          "annotations": [
           {
            "showarrow": false,
            "text": "Time: 3.33s (Step: 27/50)",
            "x": 0.05,
            "xref": "paper",
            "y": 0.95,
            "yref": "paper"
           }
          ],
          "scene": {
           "camera": {
            "eye": {
             "x": 1.8366469276916615,
             "y": 1.8366469276916615,
             "z": 1.4996159368316537
            }
           }
          }
         },
         "name": "26"
        },
        {
         "data": [
          {
           "name": "Free Nodes",
           "type": "scatter3d",
           "x": [],
           "y": [],
           "z": []
          },
          {
           "name": "Fixed Nodes",
           "type": "scatter3d",
           "x": {
            "bdata": "AAAAAAAAAAAAAAAAAADwPwAAAAAAAAAAZGNUc1gv7z8=",
            "dtype": "f8"
           },
           "y": {
            "bdata": "AAAAAAAAAAAAAAAAAAAAAAAAAAAAAPA/ZmNUc1gv7z8=",
            "dtype": "f8"
           },
           "z": {
            "bdata": "AAAAAAAAAAAAAAAAAAAAAAAAAAAAAAAA6/hKkvuEzD8=",
            "dtype": "f8"
           }
          },
          {
           "name": "Edges",
           "type": "scatter3d",
           "x": [
            1,
            0,
            null,
            0,
            0,
            null,
            0,
            1,
            null,
            0,
            0.9745294811756193,
            null,
            0.9745294811756193,
            1,
            null
           ],
           "y": [
            0,
            1,
            null,
            1,
            0,
            null,
            0,
            0,
            null,
            1,
            0.9745294811756195,
            null,
            0.9745294811756195,
            0,
            null
           ],
           "z": [
            0,
            0,
            null,
            0,
            0,
            null,
            0,
            0,
            null,
            0,
            0.22280830996709908,
            null,
            0.22280830996709908,
            0,
            null
           ]
          },
          {
           "i": [
            0,
            1
           ],
           "j": [
            1,
            2
           ],
           "k": [
            2,
            3
           ],
           "name": "Faces",
           "type": "mesh3d",
           "x": {
            "bdata": "AAAAAAAAAAAAAAAAAADwPwAAAAAAAAAAZGNUc1gv7z8=",
            "dtype": "f8"
           },
           "y": {
            "bdata": "AAAAAAAAAAAAAAAAAAAAAAAAAAAAAPA/ZmNUc1gv7z8=",
            "dtype": "f8"
           },
           "z": {
            "bdata": "AAAAAAAAAAAAAAAAAAAAAAAAAAAAAAAA6/hKkvuEzD8=",
            "dtype": "f8"
           }
          }
         ],
         "layout": {
          "annotations": [
           {
            "showarrow": false,
            "text": "Time: 3.46s (Step: 28/50)",
            "x": 0.05,
            "xref": "paper",
            "y": 0.95,
            "yref": "paper"
           }
          ],
          "scene": {
           "camera": {
            "eye": {
             "x": 1.8366469276916615,
             "y": 1.8366469276916615,
             "z": 1.4996159368316537
            }
           }
          }
         },
         "name": "27"
        },
        {
         "data": [
          {
           "name": "Free Nodes",
           "type": "scatter3d",
           "x": [],
           "y": [],
           "z": []
          },
          {
           "name": "Fixed Nodes",
           "type": "scatter3d",
           "x": {
            "bdata": "AAAAAAAAAAAAAAAAAADwPwAAAAAAAAAAAfy51GRq7j8=",
            "dtype": "f8"
           },
           "y": {
            "bdata": "AAAAAAAAAAAAAAAAAAAAAAAAAAAAAPA/A/y51GRq7j8=",
            "dtype": "f8"
           },
           "z": {
            "bdata": "AAAAAAAAAAAAAAAAAAAAAAAAAAAAAAAAuwPUPn+i0z8=",
            "dtype": "f8"
           }
          },
          {
           "name": "Edges",
           "type": "scatter3d",
           "x": [
            1,
            0,
            null,
            0,
            0,
            null,
            0,
            1,
            null,
            0,
            0.9504875330748065,
            null,
            0.9504875330748065,
            1,
            null
           ],
           "y": [
            0,
            1,
            null,
            1,
            0,
            null,
            0,
            0,
            null,
            1,
            0.9504875330748067,
            null,
            0.9504875330748067,
            0,
            null
           ],
           "z": [
            0,
            0,
            null,
            0,
            0,
            null,
            0,
            0,
            null,
            0,
            0.30679303298535004,
            null,
            0.30679303298535004,
            0,
            null
           ]
          },
          {
           "i": [
            0,
            1
           ],
           "j": [
            1,
            2
           ],
           "k": [
            2,
            3
           ],
           "name": "Faces",
           "type": "mesh3d",
           "x": {
            "bdata": "AAAAAAAAAAAAAAAAAADwPwAAAAAAAAAAAfy51GRq7j8=",
            "dtype": "f8"
           },
           "y": {
            "bdata": "AAAAAAAAAAAAAAAAAAAAAAAAAAAAAPA/A/y51GRq7j8=",
            "dtype": "f8"
           },
           "z": {
            "bdata": "AAAAAAAAAAAAAAAAAAAAAAAAAAAAAAAAuwPUPn+i0z8=",
            "dtype": "f8"
           }
          }
         ],
         "layout": {
          "annotations": [
           {
            "showarrow": false,
            "text": "Time: 3.59s (Step: 29/50)",
            "x": 0.05,
            "xref": "paper",
            "y": 0.95,
            "yref": "paper"
           }
          ],
          "scene": {
           "camera": {
            "eye": {
             "x": 1.8366469276916615,
             "y": 1.8366469276916615,
             "z": 1.4996159368316537
            }
           }
          }
         },
         "name": "28"
        },
        {
         "data": [
          {
           "name": "Free Nodes",
           "type": "scatter3d",
           "x": [],
           "y": [],
           "z": []
          },
          {
           "name": "Fixed Nodes",
           "type": "scatter3d",
           "x": {
            "bdata": "AAAAAAAAAAAAAAAAAADwPwAAAAAAAAAAEkFMlNlo7T8=",
            "dtype": "f8"
           },
           "y": {
            "bdata": "AAAAAAAAAAAAAAAAAAAAAAAAAAAAAPA/FEFMlNlo7T8=",
            "dtype": "f8"
           },
           "z": {
            "bdata": "AAAAAAAAAAAAAAAAAAAAAAAAAAAAAAAA3FVhGvmv2D8=",
            "dtype": "f8"
           }
          },
          {
           "name": "Edges",
           "type": "scatter3d",
           "x": [
            1,
            0,
            null,
            0,
            0,
            null,
            0,
            1,
            null,
            0,
            0.9190490623896344,
            null,
            0.9190490623896344,
            1,
            null
           ],
           "y": [
            0,
            1,
            null,
            1,
            0,
            null,
            0,
            0,
            null,
            1,
            0.9190490623896346,
            null,
            0.9190490623896346,
            0,
            null
           ],
           "z": [
            0,
            0,
            null,
            0,
            0,
            null,
            0,
            0,
            null,
            0,
            0.3857405431384373,
            null,
            0.3857405431384373,
            0,
            null
           ]
          },
          {
           "i": [
            0,
            1
           ],
           "j": [
            1,
            2
           ],
           "k": [
            2,
            3
           ],
           "name": "Faces",
           "type": "mesh3d",
           "x": {
            "bdata": "AAAAAAAAAAAAAAAAAADwPwAAAAAAAAAAEkFMlNlo7T8=",
            "dtype": "f8"
           },
           "y": {
            "bdata": "AAAAAAAAAAAAAAAAAAAAAAAAAAAAAPA/FEFMlNlo7T8=",
            "dtype": "f8"
           },
           "z": {
            "bdata": "AAAAAAAAAAAAAAAAAAAAAAAAAAAAAAAA3FVhGvmv2D8=",
            "dtype": "f8"
           }
          }
         ],
         "layout": {
          "annotations": [
           {
            "showarrow": false,
            "text": "Time: 3.72s (Step: 30/50)",
            "x": 0.05,
            "xref": "paper",
            "y": 0.95,
            "yref": "paper"
           }
          ],
          "scene": {
           "camera": {
            "eye": {
             "x": 1.8366469276916615,
             "y": 1.8366469276916615,
             "z": 1.4996159368316537
            }
           }
          }
         },
         "name": "29"
        },
        {
         "data": [
          {
           "name": "Free Nodes",
           "type": "scatter3d",
           "x": [],
           "y": [],
           "z": []
          },
          {
           "name": "Fixed Nodes",
           "type": "scatter3d",
           "x": {
            "bdata": "AAAAAAAAAAAAAAAAAADwPwAAAAAAAAAAvwtLN/Eu7D8=",
            "dtype": "f8"
           },
           "y": {
            "bdata": "AAAAAAAAAAAAAAAAAAAAAAAAAAAAAPA/wQtLN/Eu7D8=",
            "dtype": "f8"
           },
           "z": {
            "bdata": "AAAAAAAAAAAAAAAAAAAAAAAAAAAAAAAAp+Gnj65V3T8=",
            "dtype": "f8"
           }
          },
          {
           "name": "Edges",
           "type": "scatter3d",
           "x": [
            1,
            0,
            null,
            0,
            0,
            null,
            0,
            1,
            null,
            0,
            0.8807302551216408,
            null,
            0.8807302551216408,
            1,
            null
           ],
           "y": [
            0,
            1,
            null,
            1,
            0,
            null,
            0,
            0,
            null,
            1,
            0.880730255121641,
            null,
            0.880730255121641,
            0,
            null
           ],
           "z": [
            0,
            0,
            null,
            0,
            0,
            null,
            0,
            0,
            null,
            0,
            0.458354606903891,
            null,
            0.458354606903891,
            0,
            null
           ]
          },
          {
           "i": [
            0,
            1
           ],
           "j": [
            1,
            2
           ],
           "k": [
            2,
            3
           ],
           "name": "Faces",
           "type": "mesh3d",
           "x": {
            "bdata": "AAAAAAAAAAAAAAAAAADwPwAAAAAAAAAAvwtLN/Eu7D8=",
            "dtype": "f8"
           },
           "y": {
            "bdata": "AAAAAAAAAAAAAAAAAAAAAAAAAAAAAPA/wQtLN/Eu7D8=",
            "dtype": "f8"
           },
           "z": {
            "bdata": "AAAAAAAAAAAAAAAAAAAAAAAAAAAAAAAAp+Gnj65V3T8=",
            "dtype": "f8"
           }
          }
         ],
         "layout": {
          "annotations": [
           {
            "showarrow": false,
            "text": "Time: 3.85s (Step: 31/50)",
            "x": 0.05,
            "xref": "paper",
            "y": 0.95,
            "yref": "paper"
           }
          ],
          "scene": {
           "camera": {
            "eye": {
             "x": 1.8366469276916615,
             "y": 1.8366469276916615,
             "z": 1.4996159368316537
            }
           }
          }
         },
         "name": "30"
        },
        {
         "data": [
          {
           "name": "Free Nodes",
           "type": "scatter3d",
           "x": [],
           "y": [],
           "z": []
          },
          {
           "name": "Fixed Nodes",
           "type": "scatter3d",
           "x": {
            "bdata": "AAAAAAAAAAAAAAAAAADwPwAAAAAAAAAARyAQLNPB6j8=",
            "dtype": "f8"
           },
           "y": {
            "bdata": "AAAAAAAAAAAAAAAAAAAAAAAAAAAAAPA/SSAQLNPB6j8=",
            "dtype": "f8"
           },
           "z": {
            "bdata": "AAAAAAAAAAAAAAAAAAAAAAAAAAAAAAAAaVuafQvA4D8=",
            "dtype": "f8"
           }
          },
          {
           "name": "Edges",
           "type": "scatter3d",
           "x": [
            1,
            0,
            null,
            0,
            0,
            null,
            0,
            1,
            null,
            0,
            0.8361602650266001,
            null,
            0.8361602650266001,
            1,
            null
           ],
           "y": [
            0,
            1,
            null,
            1,
            0,
            null,
            0,
            0,
            null,
            1,
            0.8361602650266003,
            null,
            0.8361602650266003,
            0,
            null
           ],
           "z": [
            0,
            0,
            null,
            0,
            0,
            null,
            0,
            0,
            null,
            0,
            0.5234429791624794,
            null,
            0.5234429791624794,
            0,
            null
           ]
          },
          {
           "i": [
            0,
            1
           ],
           "j": [
            1,
            2
           ],
           "k": [
            2,
            3
           ],
           "name": "Faces",
           "type": "mesh3d",
           "x": {
            "bdata": "AAAAAAAAAAAAAAAAAADwPwAAAAAAAAAARyAQLNPB6j8=",
            "dtype": "f8"
           },
           "y": {
            "bdata": "AAAAAAAAAAAAAAAAAAAAAAAAAAAAAPA/SSAQLNPB6j8=",
            "dtype": "f8"
           },
           "z": {
            "bdata": "AAAAAAAAAAAAAAAAAAAAAAAAAAAAAAAAaVuafQvA4D8=",
            "dtype": "f8"
           }
          }
         ],
         "layout": {
          "annotations": [
           {
            "showarrow": false,
            "text": "Time: 3.98s (Step: 32/50)",
            "x": 0.05,
            "xref": "paper",
            "y": 0.95,
            "yref": "paper"
           }
          ],
          "scene": {
           "camera": {
            "eye": {
             "x": 1.8366469276916615,
             "y": 1.8366469276916615,
             "z": 1.4996159368316537
            }
           }
          }
         },
         "name": "31"
        },
        {
         "data": [
          {
           "name": "Free Nodes",
           "type": "scatter3d",
           "x": [],
           "y": [],
           "z": []
          },
          {
           "name": "Fixed Nodes",
           "type": "scatter3d",
           "x": {
            "bdata": "AAAAAAAAAAAAAAAAAADwPwAAAAAAAAAAopgqIH4n6T8=",
            "dtype": "f8"
           },
           "y": {
            "bdata": "AAAAAAAAAAAAAAAAAAAAAAAAAAAAAPA/pJgqIH4n6T8=",
            "dtype": "f8"
           },
           "z": {
            "bdata": "AAAAAAAAAAAAAAAAAAAAAAAAAAAAAAAA04KY/teO4j8=",
            "dtype": "f8"
           }
          },
          {
           "name": "Edges",
           "type": "scatter3d",
           "x": [
            1,
            0,
            null,
            0,
            0,
            null,
            0,
            1,
            null,
            0,
            0.7860708835840067,
            null,
            0.7860708835840067,
            1,
            null
           ],
           "y": [
            0,
            1,
            null,
            1,
            0,
            null,
            0,
            0,
            null,
            1,
            0.7860708835840069,
            null,
            0.7860708835840069,
            0,
            null
           ],
           "z": [
            0,
            0,
            null,
            0,
            0,
            null,
            0,
            0,
            null,
            0,
            0.5799369785855454,
            null,
            0.5799369785855454,
            0,
            null
           ]
          },
          {
           "i": [
            0,
            1
           ],
           "j": [
            1,
            2
           ],
           "k": [
            2,
            3
           ],
           "name": "Faces",
           "type": "mesh3d",
           "x": {
            "bdata": "AAAAAAAAAAAAAAAAAADwPwAAAAAAAAAAopgqIH4n6T8=",
            "dtype": "f8"
           },
           "y": {
            "bdata": "AAAAAAAAAAAAAAAAAAAAAAAAAAAAAPA/pJgqIH4n6T8=",
            "dtype": "f8"
           },
           "z": {
            "bdata": "AAAAAAAAAAAAAAAAAAAAAAAAAAAAAAAA04KY/teO4j8=",
            "dtype": "f8"
           }
          }
         ],
         "layout": {
          "annotations": [
           {
            "showarrow": false,
            "text": "Time: 4.10s (Step: 33/50)",
            "x": 0.05,
            "xref": "paper",
            "y": 0.95,
            "yref": "paper"
           }
          ],
          "scene": {
           "camera": {
            "eye": {
             "x": 1.8366469276916615,
             "y": 1.8366469276916615,
             "z": 1.4996159368316537
            }
           }
          }
         },
         "name": "32"
        },
        {
         "data": [
          {
           "name": "Free Nodes",
           "type": "scatter3d",
           "x": [],
           "y": [],
           "z": []
          },
          {
           "name": "Fixed Nodes",
           "type": "scatter3d",
           "x": {
            "bdata": "AAAAAAAAAAAAAAAAAADwPwAAAAAAAAAAe/y9za5m5z8=",
            "dtype": "f8"
           },
           "y": {
            "bdata": "AAAAAAAAAAAAAAAAAAAAAAAAAAAAAPA/ffy9za5m5z8=",
            "dtype": "f8"
           },
           "z": {
            "bdata": "AAAAAAAAAAAAAAAAAAAAAAAAAAAAAAAApLfziKMP5D8=",
            "dtype": "f8"
           }
          },
          {
           "name": "Edges",
           "type": "scatter3d",
           "x": [
            1,
            0,
            null,
            0,
            0,
            null,
            0,
            1,
            null,
            0,
            0.7312845247651149,
            null,
            0.7312845247651149,
            1,
            null
           ],
           "y": [
            0,
            1,
            null,
            1,
            0,
            null,
            0,
            0,
            null,
            1,
            0.7312845247651151,
            null,
            0.7312845247651151,
            0,
            null
           ],
           "z": [
            0,
            0,
            null,
            0,
            0,
            null,
            0,
            0,
            null,
            0,
            0.6269090342373045,
            null,
            0.6269090342373045,
            0,
            null
           ]
          },
          {
           "i": [
            0,
            1
           ],
           "j": [
            1,
            2
           ],
           "k": [
            2,
            3
           ],
           "name": "Faces",
           "type": "mesh3d",
           "x": {
            "bdata": "AAAAAAAAAAAAAAAAAADwPwAAAAAAAAAAe/y9za5m5z8=",
            "dtype": "f8"
           },
           "y": {
            "bdata": "AAAAAAAAAAAAAAAAAAAAAAAAAAAAAPA/ffy9za5m5z8=",
            "dtype": "f8"
           },
           "z": {
            "bdata": "AAAAAAAAAAAAAAAAAAAAAAAAAAAAAAAApLfziKMP5D8=",
            "dtype": "f8"
           }
          }
         ],
         "layout": {
          "annotations": [
           {
            "showarrow": false,
            "text": "Time: 4.23s (Step: 34/50)",
            "x": 0.05,
            "xref": "paper",
            "y": 0.95,
            "yref": "paper"
           }
          ],
          "scene": {
           "camera": {
            "eye": {
             "x": 1.8366469276916615,
             "y": 1.8366469276916615,
             "z": 1.4996159368316537
            }
           }
          }
         },
         "name": "33"
        },
        {
         "data": [
          {
           "name": "Free Nodes",
           "type": "scatter3d",
           "x": [],
           "y": [],
           "z": []
          },
          {
           "name": "Fixed Nodes",
           "type": "scatter3d",
           "x": {
            "bdata": "AAAAAAAAAAAAAAAAAADwPwAAAAAAAAAAIJoOqsOG5T8=",
            "dtype": "f8"
           },
           "y": {
            "bdata": "AAAAAAAAAAAAAAAAAAAAAAAAAAAAAPA/IpoOqsOG5T8=",
            "dtype": "f8"
           },
           "z": {
            "bdata": "AAAAAAAAAAAAAAAAAAAAAAAAAAAAAAAADOhGuRw85T8=",
            "dtype": "f8"
           }
          },
          {
           "name": "Edges",
           "type": "scatter3d",
           "x": [
            1,
            0,
            null,
            0,
            0,
            null,
            0,
            1,
            null,
            0,
            0.6727007218767689,
            null,
            0.6727007218767689,
            1,
            null
           ],
           "y": [
            0,
            1,
            null,
            1,
            0,
            null,
            0,
            0,
            null,
            1,
            0.6727007218767691,
            null,
            0.6727007218767691,
            0,
            null
           ],
           "z": [
            0,
            0,
            null,
            0,
            0,
            null,
            0,
            0,
            null,
            0,
            0.6635879152956945,
            null,
            0.6635879152956945,
            0,
            null
           ]
          },
          {
           "i": [
            0,
            1
           ],
           "j": [
            1,
            2
           ],
           "k": [
            2,
            3
           ],
           "name": "Faces",
           "type": "mesh3d",
           "x": {
            "bdata": "AAAAAAAAAAAAAAAAAADwPwAAAAAAAAAAIJoOqsOG5T8=",
            "dtype": "f8"
           },
           "y": {
            "bdata": "AAAAAAAAAAAAAAAAAAAAAAAAAAAAAPA/IpoOqsOG5T8=",
            "dtype": "f8"
           },
           "z": {
            "bdata": "AAAAAAAAAAAAAAAAAAAAAAAAAAAAAAAADOhGuRw85T8=",
            "dtype": "f8"
           }
          }
         ],
         "layout": {
          "annotations": [
           {
            "showarrow": false,
            "text": "Time: 4.36s (Step: 35/50)",
            "x": 0.05,
            "xref": "paper",
            "y": 0.95,
            "yref": "paper"
           }
          ],
          "scene": {
           "camera": {
            "eye": {
             "x": 1.8366469276916615,
             "y": 1.8366469276916615,
             "z": 1.4996159368316537
            }
           }
          }
         },
         "name": "34"
        },
        {
         "data": [
          {
           "name": "Free Nodes",
           "type": "scatter3d",
           "x": [],
           "y": [],
           "z": []
          },
          {
           "name": "Fixed Nodes",
           "type": "scatter3d",
           "x": {
            "bdata": "AAAAAAAAAAAAAAAAAADwPwAAAAAAAAAAblpC7J2P4z8=",
            "dtype": "f8"
           },
           "y": {
            "bdata": "AAAAAAAAAAAAAAAAAAAAAAAAAAAAAPA/cFpC7J2P4z8=",
            "dtype": "f8"
           },
           "z": {
            "bdata": "AAAAAAAAAAAAAAAAAAAAAAAAAAAAAAAAaF3qmFQP5j8=",
            "dtype": "f8"
           }
          },
          {
           "name": "Edges",
           "type": "scatter3d",
           "x": [
            1,
            0,
            null,
            0,
            0,
            null,
            0,
            1,
            null,
            0,
            0.6112813581883765,
            null,
            0.6112813581883765,
            1,
            null
           ],
           "y": [
            0,
            1,
            null,
            1,
            0,
            null,
            0,
            0,
            null,
            1,
            0.6112813581883767,
            null,
            0.6112813581883767,
            0,
            null
           ],
           "z": [
            0,
            0,
            null,
            0,
            0,
            null,
            0,
            0,
            null,
            0,
            0.6893713938360806,
            null,
            0.6893713938360806,
            0,
            null
           ]
          },
          {
           "i": [
            0,
            1
           ],
           "j": [
            1,
            2
           ],
           "k": [
            2,
            3
           ],
           "name": "Faces",
           "type": "mesh3d",
           "x": {
            "bdata": "AAAAAAAAAAAAAAAAAADwPwAAAAAAAAAAblpC7J2P4z8=",
            "dtype": "f8"
           },
           "y": {
            "bdata": "AAAAAAAAAAAAAAAAAAAAAAAAAAAAAPA/cFpC7J2P4z8=",
            "dtype": "f8"
           },
           "z": {
            "bdata": "AAAAAAAAAAAAAAAAAAAAAAAAAAAAAAAAaF3qmFQP5j8=",
            "dtype": "f8"
           }
          }
         ],
         "layout": {
          "annotations": [
           {
            "showarrow": false,
            "text": "Time: 4.49s (Step: 36/50)",
            "x": 0.05,
            "xref": "paper",
            "y": 0.95,
            "yref": "paper"
           }
          ],
          "scene": {
           "camera": {
            "eye": {
             "x": 1.8366469276916615,
             "y": 1.8366469276916615,
             "z": 1.4996159368316537
            }
           }
          }
         },
         "name": "35"
        },
        {
         "data": [
          {
           "name": "Free Nodes",
           "type": "scatter3d",
           "x": [],
           "y": [],
           "z": []
          },
          {
           "name": "Fixed Nodes",
           "type": "scatter3d",
           "x": {
            "bdata": "AAAAAAAAAAAAAAAAAADwPwAAAAAAAAAAQqKGboCJ4T8=",
            "dtype": "f8"
           },
           "y": {
            "bdata": "AAAAAAAAAAAAAAAAAAAAAAAAAAAAAPA/RKKGboCJ4T8=",
            "dtype": "f8"
           },
           "z": {
            "bdata": "AAAAAAAAAAAAAAAAAAAAAAAAAAAAAAAAoHp/WtOF5j8=",
            "dtype": "f8"
           }
          },
          {
           "name": "Edges",
           "type": "scatter3d",
           "x": [
            1,
            0,
            null,
            0,
            0,
            null,
            0,
            1,
            null,
            0,
            0.5480348738393064,
            null,
            0.5480348738393064,
            1,
            null
           ],
           "y": [
            0,
            1,
            null,
            1,
            0,
            null,
            0,
            0,
            null,
            1,
            0.5480348738393066,
            null,
            0.5480348738393066,
            0,
            null
           ],
           "z": [
            0,
            0,
            null,
            0,
            0,
            null,
            0,
            0,
            null,
            0,
            0.7038361327684761,
            null,
            0.7038361327684761,
            0,
            null
           ]
          },
          {
           "i": [
            0,
            1
           ],
           "j": [
            1,
            2
           ],
           "k": [
            2,
            3
           ],
           "name": "Faces",
           "type": "mesh3d",
           "x": {
            "bdata": "AAAAAAAAAAAAAAAAAADwPwAAAAAAAAAAQqKGboCJ4T8=",
            "dtype": "f8"
           },
           "y": {
            "bdata": "AAAAAAAAAAAAAAAAAAAAAAAAAAAAAPA/RKKGboCJ4T8=",
            "dtype": "f8"
           },
           "z": {
            "bdata": "AAAAAAAAAAAAAAAAAAAAAAAAAAAAAAAAoHp/WtOF5j8=",
            "dtype": "f8"
           }
          }
         ],
         "layout": {
          "annotations": [
           {
            "showarrow": false,
            "text": "Time: 4.62s (Step: 37/50)",
            "x": 0.05,
            "xref": "paper",
            "y": 0.95,
            "yref": "paper"
           }
          ],
          "scene": {
           "camera": {
            "eye": {
             "x": 1.8366469276916615,
             "y": 1.8366469276916615,
             "z": 1.4996159368316537
            }
           }
          }
         },
         "name": "36"
        },
        {
         "data": [
          {
           "name": "Free Nodes",
           "type": "scatter3d",
           "x": [],
           "y": [],
           "z": []
          },
          {
           "name": "Fixed Nodes",
           "type": "scatter3d",
           "x": {
            "bdata": "AAAAAAAAAAAAAAAAAADwPwAAAAAAAAAAnOij6dn53j8=",
            "dtype": "f8"
           },
           "y": {
            "bdata": "AAAAAAAAAAAAAAAAAAAAAAAAAAAAAPA/oOij6dn53j8=",
            "dtype": "f8"
           },
           "z": {
            "bdata": "AAAAAAAAAAAAAAAAAAAAAAAAAAAAAAAA3VuX7aad5j8=",
            "dtype": "f8"
           }
          },
          {
           "name": "Edges",
           "type": "scatter3d",
           "x": [
            1,
            0,
            null,
            0,
            0,
            null,
            0,
            1,
            null,
            0,
            0.48399970833237105,
            null,
            0.48399970833237105,
            1,
            null
           ],
           "y": [
            0,
            1,
            null,
            1,
            0,
            null,
            0,
            0,
            null,
            1,
            0.48399970833237127,
            null,
            0.48399970833237127,
            0,
            null
           ],
           "z": [
            0,
            0,
            null,
            0,
            0,
            null,
            0,
            0,
            null,
            0,
            0.7067446365789426,
            null,
            0.7067446365789426,
            0,
            null
           ]
          },
          {
           "i": [
            0,
            1
           ],
           "j": [
            1,
            2
           ],
           "k": [
            2,
            3
           ],
           "name": "Faces",
           "type": "mesh3d",
           "x": {
            "bdata": "AAAAAAAAAAAAAAAAAADwPwAAAAAAAAAAnOij6dn53j8=",
            "dtype": "f8"
           },
           "y": {
            "bdata": "AAAAAAAAAAAAAAAAAAAAAAAAAAAAAPA/oOij6dn53j8=",
            "dtype": "f8"
           },
           "z": {
            "bdata": "AAAAAAAAAAAAAAAAAAAAAAAAAAAAAAAA3VuX7aad5j8=",
            "dtype": "f8"
           }
          }
         ],
         "layout": {
          "annotations": [
           {
            "showarrow": false,
            "text": "Time: 4.74s (Step: 38/50)",
            "x": 0.05,
            "xref": "paper",
            "y": 0.95,
            "yref": "paper"
           }
          ],
          "scene": {
           "camera": {
            "eye": {
             "x": 1.8366469276916615,
             "y": 1.8366469276916615,
             "z": 1.4996159368316537
            }
           }
          }
         },
         "name": "37"
        },
        {
         "data": [
          {
           "name": "Free Nodes",
           "type": "scatter3d",
           "x": [],
           "y": [],
           "z": []
          },
          {
           "name": "Fixed Nodes",
           "type": "scatter3d",
           "x": {
            "bdata": "AAAAAAAAAAAAAAAAAADwPwAAAAAAAAAAyP9p1gDl2j8=",
            "dtype": "f8"
           },
           "y": {
            "bdata": "AAAAAAAAAAAAAAAAAAAAAAAAAAAAAPA/zP9p1gDl2j8=",
            "dtype": "f8"
           },
           "z": {
            "bdata": "AAAAAAAAAAAAAAAAAAAAAAAAAAAAAAAAHEwvLGtW5j8=",
            "dtype": "f8"
           }
          },
          {
           "name": "Edges",
           "type": "scatter3d",
           "x": [
            1,
            0,
            null,
            0,
            0,
            null,
            0,
            1,
            null,
            0,
            0.4202272504699036,
            null,
            0.4202272504699036,
            1,
            null
           ],
           "y": [
            0,
            1,
            null,
            1,
            0,
            null,
            0,
            0,
            null,
            1,
            0.42022725046990383,
            null,
            0.42022725046990383,
            0,
            null
           ],
           "z": [
            0,
            0,
            null,
            0,
            0,
            null,
            0,
            0,
            null,
            0,
            0.6980491507514475,
            null,
            0.6980491507514475,
            0,
            null
           ]
          },
          {
           "i": [
            0,
            1
           ],
           "j": [
            1,
            2
           ],
           "k": [
            2,
            3
           ],
           "name": "Faces",
           "type": "mesh3d",
           "x": {
            "bdata": "AAAAAAAAAAAAAAAAAADwPwAAAAAAAAAAyP9p1gDl2j8=",
            "dtype": "f8"
           },
           "y": {
            "bdata": "AAAAAAAAAAAAAAAAAAAAAAAAAAAAAPA/zP9p1gDl2j8=",
            "dtype": "f8"
           },
           "z": {
            "bdata": "AAAAAAAAAAAAAAAAAAAAAAAAAAAAAAAAHEwvLGtW5j8=",
            "dtype": "f8"
           }
          }
         ],
         "layout": {
          "annotations": [
           {
            "showarrow": false,
            "text": "Time: 4.87s (Step: 39/50)",
            "x": 0.05,
            "xref": "paper",
            "y": 0.95,
            "yref": "paper"
           }
          ],
          "scene": {
           "camera": {
            "eye": {
             "x": 1.8366469276916615,
             "y": 1.8366469276916615,
             "z": 1.4996159368316537
            }
           }
          }
         },
         "name": "38"
        },
        {
         "data": [
          {
           "name": "Free Nodes",
           "type": "scatter3d",
           "x": [],
           "y": [],
           "z": []
          },
          {
           "name": "Fixed Nodes",
           "type": "scatter3d",
           "x": {
            "bdata": "AAAAAAAAAAAAAAAAAADwPwAAAAAAAAAAzpUMZJ3l1j8=",
            "dtype": "f8"
           },
           "y": {
            "bdata": "AAAAAAAAAAAAAAAAAAAAAAAAAAAAAPA/0pUMZJ3l1j8=",
            "dtype": "f8"
           },
           "z": {
            "bdata": "AAAAAAAAAAAAAAAAAAAAAAAAAAAAAAAApqCjf0ux5T8=",
            "dtype": "f8"
           }
          },
          {
           "name": "Edges",
           "type": "scatter3d",
           "x": [
            1,
            0,
            null,
            0,
            0,
            null,
            0,
            1,
            null,
            0,
            0.357764575676211,
            null,
            0.357764575676211,
            1,
            null
           ],
           "y": [
            0,
            1,
            null,
            1,
            0,
            null,
            0,
            0,
            null,
            1,
            0.3577645756762112,
            null,
            0.3577645756762112,
            0,
            null
           ],
           "z": [
            0,
            0,
            null,
            0,
            0,
            null,
            0,
            0,
            null,
            0,
            0.6778924458458462,
            null,
            0.6778924458458462,
            0,
            null
           ]
          },
          {
           "i": [
            0,
            1
           ],
           "j": [
            1,
            2
           ],
           "k": [
            2,
            3
           ],
           "name": "Faces",
           "type": "mesh3d",
           "x": {
            "bdata": "AAAAAAAAAAAAAAAAAADwPwAAAAAAAAAAzpUMZJ3l1j8=",
            "dtype": "f8"
           },
           "y": {
            "bdata": "AAAAAAAAAAAAAAAAAAAAAAAAAAAAAPA/0pUMZJ3l1j8=",
            "dtype": "f8"
           },
           "z": {
            "bdata": "AAAAAAAAAAAAAAAAAAAAAAAAAAAAAAAApqCjf0ux5T8=",
            "dtype": "f8"
           }
          }
         ],
         "layout": {
          "annotations": [
           {
            "showarrow": false,
            "text": "Time: 5.00s (Step: 40/50)",
            "x": 0.05,
            "xref": "paper",
            "y": 0.95,
            "yref": "paper"
           }
          ],
          "scene": {
           "camera": {
            "eye": {
             "x": 1.8366469276916615,
             "y": 1.8366469276916615,
             "z": 1.4996159368316537
            }
           }
          }
         },
         "name": "39"
        },
        {
         "data": [
          {
           "name": "Free Nodes",
           "type": "scatter3d",
           "x": [],
           "y": [],
           "z": []
          },
          {
           "name": "Fixed Nodes",
           "type": "scatter3d",
           "x": {
            "bdata": "AAAAAAAAAAAAAAAAAADwPwAAAAAAAAAA6NsmIH0M0z8=",
            "dtype": "f8"
           },
           "y": {
            "bdata": "AAAAAAAAAAAAAAAAAAAAAAAAAAAAAPA/7NsmIH0M0z8=",
            "dtype": "f8"
           },
           "z": {
            "bdata": "AAAAAAAAAAAAAAAAAAAAAAAAAAAAAAAAy6Av9v2w5D8=",
            "dtype": "f8"
           }
          },
          {
           "name": "Edges",
           "type": "scatter3d",
           "x": [
            1,
            0,
            null,
            0,
            0,
            null,
            0,
            1,
            null,
            0,
            0.29763725414107833,
            null,
            0.29763725414107833,
            1,
            null
           ],
           "y": [
            0,
            1,
            null,
            1,
            0,
            null,
            0,
            0,
            null,
            1,
            0.29763725414107856,
            null,
            0.29763725414107856,
            0,
            null
           ],
           "z": [
            0,
            0,
            null,
            0,
            0,
            null,
            0,
            0,
            null,
            0,
            0.6466054733582721,
            null,
            0.6466054733582721,
            0,
            null
           ]
          },
          {
           "i": [
            0,
            1
           ],
           "j": [
            1,
            2
           ],
           "k": [
            2,
            3
           ],
           "name": "Faces",
           "type": "mesh3d",
           "x": {
            "bdata": "AAAAAAAAAAAAAAAAAADwPwAAAAAAAAAA6NsmIH0M0z8=",
            "dtype": "f8"
           },
           "y": {
            "bdata": "AAAAAAAAAAAAAAAAAAAAAAAAAAAAAPA/7NsmIH0M0z8=",
            "dtype": "f8"
           },
           "z": {
            "bdata": "AAAAAAAAAAAAAAAAAAAAAAAAAAAAAAAAy6Av9v2w5D8=",
            "dtype": "f8"
           }
          }
         ],
         "layout": {
          "annotations": [
           {
            "showarrow": false,
            "text": "Time: 5.13s (Step: 41/50)",
            "x": 0.05,
            "xref": "paper",
            "y": 0.95,
            "yref": "paper"
           }
          ],
          "scene": {
           "camera": {
            "eye": {
             "x": 1.8366469276916615,
             "y": 1.8366469276916615,
             "z": 1.4996159368316537
            }
           }
          }
         },
         "name": "40"
        },
        {
         "data": [
          {
           "name": "Free Nodes",
           "type": "scatter3d",
           "x": [],
           "y": [],
           "z": []
          },
          {
           "name": "Fixed Nodes",
           "type": "scatter3d",
           "x": {
            "bdata": "AAAAAAAAAAAAAAAAAADwPwAAAAAAAAAAMCKMiZnTzj8=",
            "dtype": "f8"
           },
           "y": {
            "bdata": "AAAAAAAAAAAAAAAAAAAAAAAAAAAAAPA/OCKMiZnTzj8=",
            "dtype": "f8"
           },
           "z": {
            "bdata": "AAAAAAAAAAAAAAAAAAAAAAAAAAAAAAAAFEOk3bdZ4z8=",
            "dtype": "f8"
           }
          },
          {
           "name": "Edges",
           "type": "scatter3d",
           "x": [
            1,
            0,
            null,
            0,
            0,
            null,
            0,
            1,
            null,
            0,
            0.24083251205617406,
            null,
            0.24083251205617406,
            1,
            null
           ],
           "y": [
            0,
            1,
            null,
            1,
            0,
            null,
            0,
            0,
            null,
            1,
            0.24083251205617429,
            null,
            0.24083251205617429,
            0,
            null
           ],
           "z": [
            0,
            0,
            null,
            0,
            0,
            null,
            0,
            0,
            null,
            0,
            0.6047019318521927,
            null,
            0.6047019318521927,
            0,
            null
           ]
          },
          {
           "i": [
            0,
            1
           ],
           "j": [
            1,
            2
           ],
           "k": [
            2,
            3
           ],
           "name": "Faces",
           "type": "mesh3d",
           "x": {
            "bdata": "AAAAAAAAAAAAAAAAAADwPwAAAAAAAAAAMCKMiZnTzj8=",
            "dtype": "f8"
           },
           "y": {
            "bdata": "AAAAAAAAAAAAAAAAAAAAAAAAAAAAAPA/OCKMiZnTzj8=",
            "dtype": "f8"
           },
           "z": {
            "bdata": "AAAAAAAAAAAAAAAAAAAAAAAAAAAAAAAAFEOk3bdZ4z8=",
            "dtype": "f8"
           }
          }
         ],
         "layout": {
          "annotations": [
           {
            "showarrow": false,
            "text": "Time: 5.26s (Step: 42/50)",
            "x": 0.05,
            "xref": "paper",
            "y": 0.95,
            "yref": "paper"
           }
          ],
          "scene": {
           "camera": {
            "eye": {
             "x": 1.8366469276916615,
             "y": 1.8366469276916615,
             "z": 1.4996159368316537
            }
           }
          }
         },
         "name": "41"
        },
        {
         "data": [
          {
           "name": "Free Nodes",
           "type": "scatter3d",
           "x": [],
           "y": [],
           "z": []
          },
          {
           "name": "Fixed Nodes",
           "type": "scatter3d",
           "x": {
            "bdata": "AAAAAAAAAAAAAAAAAADwPwAAAAAAAAAA6CbXd6gZyD8=",
            "dtype": "f8"
           },
           "y": {
            "bdata": "AAAAAAAAAAAAAAAAAAAAAAAAAAAAAPA/8CbXd6gZyD8=",
            "dtype": "f8"
           },
           "z": {
            "bdata": "AAAAAAAAAAAAAAAAAAAAAAAAAAAAAAAACdI7Exyx4T8=",
            "dtype": "f8"
           }
          },
          {
           "name": "Edges",
           "type": "scatter3d",
           "x": [
            1,
            0,
            null,
            0,
            0,
            null,
            0,
            1,
            null,
            0,
            0.1882830224188219,
            null,
            0.1882830224188219,
            1,
            null
           ],
           "y": [
            0,
            1,
            null,
            1,
            0,
            null,
            0,
            0,
            null,
            1,
            0.1882830224188221,
            null,
            0.1882830224188221,
            0,
            null
           ],
           "z": [
            0,
            0,
            null,
            0,
            0,
            null,
            0,
            0,
            null,
            0,
            0.5528698325784386,
            null,
            0.5528698325784386,
            0,
            null
           ]
          },
          {
           "i": [
            0,
            1
           ],
           "j": [
            1,
            2
           ],
           "k": [
            2,
            3
           ],
           "name": "Faces",
           "type": "mesh3d",
           "x": {
            "bdata": "AAAAAAAAAAAAAAAAAADwPwAAAAAAAAAA6CbXd6gZyD8=",
            "dtype": "f8"
           },
           "y": {
            "bdata": "AAAAAAAAAAAAAAAAAAAAAAAAAAAAAPA/8CbXd6gZyD8=",
            "dtype": "f8"
           },
           "z": {
            "bdata": "AAAAAAAAAAAAAAAAAAAAAAAAAAAAAAAACdI7Exyx4T8=",
            "dtype": "f8"
           }
          }
         ],
         "layout": {
          "annotations": [
           {
            "showarrow": false,
            "text": "Time: 5.39s (Step: 43/50)",
            "x": 0.05,
            "xref": "paper",
            "y": 0.95,
            "yref": "paper"
           }
          ],
          "scene": {
           "camera": {
            "eye": {
             "x": 1.8366469276916615,
             "y": 1.8366469276916615,
             "z": 1.4996159368316537
            }
           }
          }
         },
         "name": "42"
        },
        {
         "data": [
          {
           "name": "Free Nodes",
           "type": "scatter3d",
           "x": [],
           "y": [],
           "z": []
          },
          {
           "name": "Fixed Nodes",
           "type": "scatter3d",
           "x": {
            "bdata": "AAAAAAAAAAAAAAAAAADwPwAAAAAAAAAACOqgyWwHwj8=",
            "dtype": "f8"
           },
           "y": {
            "bdata": "AAAAAAAAAAAAAAAAAAAAAAAAAAAAAPA/EOqgyWwHwj8=",
            "dtype": "f8"
           },
           "z": {
            "bdata": "AAAAAAAAAAAAAAAAAAAAAAAAAAAAAAAAqf3GpUZ83z8=",
            "dtype": "f8"
           }
          },
          {
           "name": "Edges",
           "type": "scatter3d",
           "x": [
            1,
            0,
            null,
            0,
            0,
            null,
            0,
            1,
            null,
            0,
            0.14085159154076643,
            null,
            0.14085159154076643,
            1,
            null
           ],
           "y": [
            0,
            1,
            null,
            1,
            0,
            null,
            0,
            0,
            null,
            1,
            0.14085159154076665,
            null,
            0.14085159154076665,
            0,
            null
           ],
           "z": [
            0,
            0,
            null,
            0,
            0,
            null,
            0,
            0,
            null,
            0,
            0.49196020306768645,
            null,
            0.49196020306768645,
            0,
            null
           ]
          },
          {
           "i": [
            0,
            1
           ],
           "j": [
            1,
            2
           ],
           "k": [
            2,
            3
           ],
           "name": "Faces",
           "type": "mesh3d",
           "x": {
            "bdata": "AAAAAAAAAAAAAAAAAADwPwAAAAAAAAAACOqgyWwHwj8=",
            "dtype": "f8"
           },
           "y": {
            "bdata": "AAAAAAAAAAAAAAAAAAAAAAAAAAAAAPA/EOqgyWwHwj8=",
            "dtype": "f8"
           },
           "z": {
            "bdata": "AAAAAAAAAAAAAAAAAAAAAAAAAAAAAAAAqf3GpUZ83z8=",
            "dtype": "f8"
           }
          }
         ],
         "layout": {
          "annotations": [
           {
            "showarrow": false,
            "text": "Time: 5.51s (Step: 44/50)",
            "x": 0.05,
            "xref": "paper",
            "y": 0.95,
            "yref": "paper"
           }
          ],
          "scene": {
           "camera": {
            "eye": {
             "x": 1.8366469276916615,
             "y": 1.8366469276916615,
             "z": 1.4996159368316537
            }
           }
          }
         },
         "name": "43"
        },
        {
         "data": [
          {
           "name": "Free Nodes",
           "type": "scatter3d",
           "x": [],
           "y": [],
           "z": []
          },
          {
           "name": "Fixed Nodes",
           "type": "scatter3d",
           "x": {
            "bdata": "AAAAAAAAAAAAAAAAAADwPwAAAAAAAAAAkMGNo9ZsuT8=",
            "dtype": "f8"
           },
           "y": {
            "bdata": "AAAAAAAAAAAAAAAAAAAAAAAAAAAAAPA/oMGNo9ZsuT8=",
            "dtype": "f8"
           },
           "z": {
            "bdata": "AAAAAAAAAAAAAAAAAAAAAAAAAAAAAAAAyrcc0/0R2z8=",
            "dtype": "f8"
           }
          },
          {
           "name": "Edges",
           "type": "scatter3d",
           "x": [
            1,
            0,
            null,
            0,
            0,
            null,
            0,
            1,
            null,
            0,
            0.09931699269305327,
            null,
            0.09931699269305327,
            1,
            null
           ],
           "y": [
            0,
            1,
            null,
            1,
            0,
            null,
            0,
            0,
            null,
            1,
            0.0993169926930535,
            null,
            0.0993169926930535,
            0,
            null
           ],
           "z": [
            0,
            0,
            null,
            0,
            0,
            null,
            0,
            0,
            null,
            0,
            0.42297311417030115,
            null,
            0.42297311417030115,
            0,
            null
           ]
          },
          {
           "i": [
            0,
            1
           ],
           "j": [
            1,
            2
           ],
           "k": [
            2,
            3
           ],
           "name": "Faces",
           "type": "mesh3d",
           "x": {
            "bdata": "AAAAAAAAAAAAAAAAAADwPwAAAAAAAAAAkMGNo9ZsuT8=",
            "dtype": "f8"
           },
           "y": {
            "bdata": "AAAAAAAAAAAAAAAAAAAAAAAAAAAAAPA/oMGNo9ZsuT8=",
            "dtype": "f8"
           },
           "z": {
            "bdata": "AAAAAAAAAAAAAAAAAAAAAAAAAAAAAAAAyrcc0/0R2z8=",
            "dtype": "f8"
           }
          }
         ],
         "layout": {
          "annotations": [
           {
            "showarrow": false,
            "text": "Time: 5.64s (Step: 45/50)",
            "x": 0.05,
            "xref": "paper",
            "y": 0.95,
            "yref": "paper"
           }
          ],
          "scene": {
           "camera": {
            "eye": {
             "x": 1.8366469276916615,
             "y": 1.8366469276916615,
             "z": 1.4996159368316537
            }
           }
          }
         },
         "name": "44"
        },
        {
         "data": [
          {
           "name": "Free Nodes",
           "type": "scatter3d",
           "x": [],
           "y": [],
           "z": []
          },
          {
           "name": "Fixed Nodes",
           "type": "scatter3d",
           "x": {
            "bdata": "AAAAAAAAAAAAAAAAAADwPwAAAAAAAAAAoF4Dafl5sD8=",
            "dtype": "f8"
           },
           "y": {
            "bdata": "AAAAAAAAAAAAAAAAAAAAAAAAAAAAAPA/sF4Dafl5sD8=",
            "dtype": "f8"
           },
           "z": {
            "bdata": "AAAAAAAAAAAAAAAAAAAAAAAAAAAAAAAAcUV6i+w11j8=",
            "dtype": "f8"
           }
          },
          {
           "name": "Edges",
           "type": "scatter3d",
           "x": [
            1,
            0,
            null,
            0,
            0,
            null,
            0,
            1,
            null,
            0,
            0.06436117948339382,
            null,
            0.06436117948339382,
            1,
            null
           ],
           "y": [
            0,
            1,
            null,
            1,
            0,
            null,
            0,
            0,
            null,
            1,
            0.06436117948339404,
            null,
            0.06436117948339404,
            0,
            null
           ],
           "z": [
            0,
            0,
            null,
            0,
            0,
            null,
            0,
            0,
            null,
            0,
            0.3470412599645761,
            null,
            0.3470412599645761,
            0,
            null
           ]
          },
          {
           "i": [
            0,
            1
           ],
           "j": [
            1,
            2
           ],
           "k": [
            2,
            3
           ],
           "name": "Faces",
           "type": "mesh3d",
           "x": {
            "bdata": "AAAAAAAAAAAAAAAAAADwPwAAAAAAAAAAoF4Dafl5sD8=",
            "dtype": "f8"
           },
           "y": {
            "bdata": "AAAAAAAAAAAAAAAAAAAAAAAAAAAAAPA/sF4Dafl5sD8=",
            "dtype": "f8"
           },
           "z": {
            "bdata": "AAAAAAAAAAAAAAAAAAAAAAAAAAAAAAAAcUV6i+w11j8=",
            "dtype": "f8"
           }
          }
         ],
         "layout": {
          "annotations": [
           {
            "showarrow": false,
            "text": "Time: 5.77s (Step: 46/50)",
            "x": 0.05,
            "xref": "paper",
            "y": 0.95,
            "yref": "paper"
           }
          ],
          "scene": {
           "camera": {
            "eye": {
             "x": 1.8366469276916615,
             "y": 1.8366469276916615,
             "z": 1.4996159368316537
            }
           }
          }
         },
         "name": "45"
        },
        {
         "data": [
          {
           "name": "Free Nodes",
           "type": "scatter3d",
           "x": [],
           "y": [],
           "z": []
          },
          {
           "name": "Fixed Nodes",
           "type": "scatter3d",
           "x": {
            "bdata": "AAAAAAAAAAAAAAAAAADwPwAAAAAAAAAA4KyI6L23oj8=",
            "dtype": "f8"
           },
           "y": {
            "bdata": "AAAAAAAAAAAAAAAAAAAAAAAAAAAAAPA/AK2I6L23oj8=",
            "dtype": "f8"
           },
           "z": {
            "bdata": "AAAAAAAAAAAAAAAAAAAAAAAAAAAAAAAAlLTw7X/80D8=",
            "dtype": "f8"
           }
          },
          {
           "name": "Edges",
           "type": "scatter3d",
           "x": [
            1,
            0,
            null,
            0,
            0,
            null,
            0,
            1,
            null,
            0,
            0.036558088908657416,
            null,
            0.036558088908657416,
            1,
            null
           ],
           "y": [
            0,
            1,
            null,
            1,
            0,
            null,
            0,
            0,
            null,
            1,
            0.03655808890865764,
            null,
            0.03655808890865764,
            0,
            null
           ],
           "z": [
            0,
            0,
            null,
            0,
            0,
            null,
            0,
            0,
            null,
            0,
            0.26541136013367717,
            null,
            0.26541136013367717,
            0,
            null
           ]
          },
          {
           "i": [
            0,
            1
           ],
           "j": [
            1,
            2
           ],
           "k": [
            2,
            3
           ],
           "name": "Faces",
           "type": "mesh3d",
           "x": {
            "bdata": "AAAAAAAAAAAAAAAAAADwPwAAAAAAAAAA4KyI6L23oj8=",
            "dtype": "f8"
           },
           "y": {
            "bdata": "AAAAAAAAAAAAAAAAAAAAAAAAAAAAAPA/AK2I6L23oj8=",
            "dtype": "f8"
           },
           "z": {
            "bdata": "AAAAAAAAAAAAAAAAAAAAAAAAAAAAAAAAlLTw7X/80D8=",
            "dtype": "f8"
           }
          }
         ],
         "layout": {
          "annotations": [
           {
            "showarrow": false,
            "text": "Time: 5.90s (Step: 47/50)",
            "x": 0.05,
            "xref": "paper",
            "y": 0.95,
            "yref": "paper"
           }
          ],
          "scene": {
           "camera": {
            "eye": {
             "x": 1.8366469276916615,
             "y": 1.8366469276916615,
             "z": 1.4996159368316537
            }
           }
          }
         },
         "name": "46"
        },
        {
         "data": [
          {
           "name": "Free Nodes",
           "type": "scatter3d",
           "x": [],
           "y": [],
           "z": []
          },
          {
           "name": "Fixed Nodes",
           "type": "scatter3d",
           "x": {
            "bdata": "AAAAAAAAAAAAAAAAAADwPwAAAAAAAAAAQDg9E8jBkD8=",
            "dtype": "f8"
           },
           "y": {
            "bdata": "AAAAAAAAAAAAAAAAAAAAAAAAAAAAAPA/gDg9E8jBkD8=",
            "dtype": "f8"
           },
           "z": {
            "bdata": "AAAAAAAAAAAAAAAAAAAAAAAAAAAAAAAABRWxAFv3xj8=",
            "dtype": "f8"
           }
          },
          {
           "name": "Edges",
           "type": "scatter3d",
           "x": [
            1,
            0,
            null,
            0,
            0,
            null,
            0,
            1,
            null,
            0,
            0.016364217924369706,
            null,
            0.016364217924369706,
            1,
            null
           ],
           "y": [
            0,
            1,
            null,
            1,
            0,
            null,
            0,
            0,
            null,
            1,
            0.016364217924369928,
            null,
            0.016364217924369928,
            0,
            null
           ],
           "z": [
            0,
            0,
            null,
            0,
            0,
            null,
            0,
            0,
            null,
            0,
            0.1794236901643346,
            null,
            0.1794236901643346,
            0,
            null
           ]
          },
          {
           "i": [
            0,
            1
           ],
           "j": [
            1,
            2
           ],
           "k": [
            2,
            3
           ],
           "name": "Faces",
           "type": "mesh3d",
           "x": {
            "bdata": "AAAAAAAAAAAAAAAAAADwPwAAAAAAAAAAQDg9E8jBkD8=",
            "dtype": "f8"
           },
           "y": {
            "bdata": "AAAAAAAAAAAAAAAAAAAAAAAAAAAAAPA/gDg9E8jBkD8=",
            "dtype": "f8"
           },
           "z": {
            "bdata": "AAAAAAAAAAAAAAAAAAAAAAAAAAAAAAAABRWxAFv3xj8=",
            "dtype": "f8"
           }
          }
         ],
         "layout": {
          "annotations": [
           {
            "showarrow": false,
            "text": "Time: 6.03s (Step: 48/50)",
            "x": 0.05,
            "xref": "paper",
            "y": 0.95,
            "yref": "paper"
           }
          ],
          "scene": {
           "camera": {
            "eye": {
             "x": 1.8366469276916615,
             "y": 1.8366469276916615,
             "z": 1.4996159368316537
            }
           }
          }
         },
         "name": "47"
        },
        {
         "data": [
          {
           "name": "Free Nodes",
           "type": "scatter3d",
           "x": [],
           "y": [],
           "z": []
          },
          {
           "name": "Fixed Nodes",
           "type": "scatter3d",
           "x": {
            "bdata": "AAAAAAAAAAAAAAAAAADwPwAAAAAAAAAAADhmltTWcD8=",
            "dtype": "f8"
           },
           "y": {
            "bdata": "AAAAAAAAAAAAAAAAAAAAAAAAAAAAAPA/ADlmltTWcD8=",
            "dtype": "f8"
           },
           "z": {
            "bdata": "AAAAAAAAAAAAAAAAAAAAAAAAAAAAAAAAWgq2ilsqtz8=",
            "dtype": "f8"
           }
          },
          {
           "name": "Edges",
           "type": "scatter3d",
           "x": [
            1,
            0,
            null,
            0,
            0,
            null,
            0,
            1,
            null,
            0,
            0.004111128253851959,
            null,
            0.004111128253851959,
            1,
            null
           ],
           "y": [
            0,
            1,
            null,
            1,
            0,
            null,
            0,
            0,
            null,
            1,
            0.004111128253852181,
            null,
            0.004111128253852181,
            0,
            null
           ],
           "z": [
            0,
            0,
            null,
            0,
            0,
            null,
            0,
            0,
            null,
            0,
            0.0904900754594932,
            null,
            0.0904900754594932,
            0,
            null
           ]
          },
          {
           "i": [
            0,
            1
           ],
           "j": [
            1,
            2
           ],
           "k": [
            2,
            3
           ],
           "name": "Faces",
           "type": "mesh3d",
           "x": {
            "bdata": "AAAAAAAAAAAAAAAAAADwPwAAAAAAAAAAADhmltTWcD8=",
            "dtype": "f8"
           },
           "y": {
            "bdata": "AAAAAAAAAAAAAAAAAAAAAAAAAAAAAPA/ADlmltTWcD8=",
            "dtype": "f8"
           },
           "z": {
            "bdata": "AAAAAAAAAAAAAAAAAAAAAAAAAAAAAAAAWgq2ilsqtz8=",
            "dtype": "f8"
           }
          }
         ],
         "layout": {
          "annotations": [
           {
            "showarrow": false,
            "text": "Time: 6.15s (Step: 49/50)",
            "x": 0.05,
            "xref": "paper",
            "y": 0.95,
            "yref": "paper"
           }
          ],
          "scene": {
           "camera": {
            "eye": {
             "x": 1.8366469276916615,
             "y": 1.8366469276916615,
             "z": 1.4996159368316537
            }
           }
          }
         },
         "name": "48"
        },
        {
         "data": [
          {
           "name": "Free Nodes",
           "type": "scatter3d",
           "x": [],
           "y": [],
           "z": []
          },
          {
           "name": "Fixed Nodes",
           "type": "scatter3d",
           "x": {
            "bdata": "AAAAAAAAAAAAAAAAAADwPwAAAAAAAAAAAAAA0I55JT4=",
            "dtype": "f8"
           },
           "y": {
            "bdata": "AAAAAAAAAAAAAAAAAAAAAAAAAAAAAPA/AAAA8I55JT4=",
            "dtype": "f8"
           },
           "z": {
            "bdata": "AAAAAAAAAAAAAAAAAAAAAAAAAAAAAAAAqcutMlCJEj8=",
            "dtype": "f8"
           }
          },
          {
           "name": "Edges",
           "type": "scatter3d",
           "x": [
            1,
            0,
            null,
            0,
            0,
            null,
            0,
            1,
            null,
            0,
            2.49999987378402e-9,
            null,
            2.49999987378402e-9,
            1,
            null
           ],
           "y": [
            0,
            1,
            null,
            1,
            0,
            null,
            0,
            0,
            null,
            1,
            2.500000095828625e-9,
            null,
            2.500000095828625e-9,
            0,
            null
           ],
           "z": [
            0,
            0,
            null,
            0,
            0,
            null,
            0,
            0,
            null,
            0,
            0.00007071067800072543,
            null,
            0.00007071067800072543,
            0,
            null
           ]
          },
          {
           "i": [
            0,
            1
           ],
           "j": [
            1,
            2
           ],
           "k": [
            2,
            3
           ],
           "name": "Faces",
           "type": "mesh3d",
           "x": {
            "bdata": "AAAAAAAAAAAAAAAAAADwPwAAAAAAAAAAAAAA0I55JT4=",
            "dtype": "f8"
           },
           "y": {
            "bdata": "AAAAAAAAAAAAAAAAAAAAAAAAAAAAAPA/AAAA8I55JT4=",
            "dtype": "f8"
           },
           "z": {
            "bdata": "AAAAAAAAAAAAAAAAAAAAAAAAAAAAAAAAqcutMlCJEj8=",
            "dtype": "f8"
           }
          }
         ],
         "layout": {
          "annotations": [
           {
            "showarrow": false,
            "text": "Time: 6.28s (Step: 50/50)",
            "x": 0.05,
            "xref": "paper",
            "y": 0.95,
            "yref": "paper"
           }
          ],
          "scene": {
           "camera": {
            "eye": {
             "x": 1.8366469276916615,
             "y": 1.8366469276916615,
             "z": 1.4996159368316537
            }
           }
          }
         },
         "name": "49"
        }
       ],
       "layout": {
        "scene": {
         "camera": {
          "eye": {
           "x": 1.8366469276916615,
           "y": 1.8366469276916615,
           "z": 1.4996159368316537
          }
         },
         "xaxis": {
          "range": [
           0,
           1
          ],
          "title": {
           "text": "X Position"
          }
         },
         "yaxis": {
          "range": [
           0,
           1
          ],
          "title": {
           "text": "Y Position"
          }
         },
         "zaxis": {
          "range": [
           -1,
           1
          ],
          "title": {
           "text": "Z Position"
          }
         }
        },
        "sliders": [
         {
          "currentvalue": {
           "prefix": "Frame: "
          },
          "steps": [
           {
            "args": [
             [
              "0"
             ],
             {
              "frame": {
               "duration": 50,
               "redraw": true
              },
              "mode": "immediate"
             }
            ],
            "label": "0",
            "method": "animate"
           },
           {
            "args": [
             [
              "1"
             ],
             {
              "frame": {
               "duration": 50,
               "redraw": true
              },
              "mode": "immediate"
             }
            ],
            "label": "1",
            "method": "animate"
           },
           {
            "args": [
             [
              "2"
             ],
             {
              "frame": {
               "duration": 50,
               "redraw": true
              },
              "mode": "immediate"
             }
            ],
            "label": "2",
            "method": "animate"
           },
           {
            "args": [
             [
              "3"
             ],
             {
              "frame": {
               "duration": 50,
               "redraw": true
              },
              "mode": "immediate"
             }
            ],
            "label": "3",
            "method": "animate"
           },
           {
            "args": [
             [
              "4"
             ],
             {
              "frame": {
               "duration": 50,
               "redraw": true
              },
              "mode": "immediate"
             }
            ],
            "label": "4",
            "method": "animate"
           },
           {
            "args": [
             [
              "5"
             ],
             {
              "frame": {
               "duration": 50,
               "redraw": true
              },
              "mode": "immediate"
             }
            ],
            "label": "5",
            "method": "animate"
           },
           {
            "args": [
             [
              "6"
             ],
             {
              "frame": {
               "duration": 50,
               "redraw": true
              },
              "mode": "immediate"
             }
            ],
            "label": "6",
            "method": "animate"
           },
           {
            "args": [
             [
              "7"
             ],
             {
              "frame": {
               "duration": 50,
               "redraw": true
              },
              "mode": "immediate"
             }
            ],
            "label": "7",
            "method": "animate"
           },
           {
            "args": [
             [
              "8"
             ],
             {
              "frame": {
               "duration": 50,
               "redraw": true
              },
              "mode": "immediate"
             }
            ],
            "label": "8",
            "method": "animate"
           },
           {
            "args": [
             [
              "9"
             ],
             {
              "frame": {
               "duration": 50,
               "redraw": true
              },
              "mode": "immediate"
             }
            ],
            "label": "9",
            "method": "animate"
           },
           {
            "args": [
             [
              "10"
             ],
             {
              "frame": {
               "duration": 50,
               "redraw": true
              },
              "mode": "immediate"
             }
            ],
            "label": "10",
            "method": "animate"
           },
           {
            "args": [
             [
              "11"
             ],
             {
              "frame": {
               "duration": 50,
               "redraw": true
              },
              "mode": "immediate"
             }
            ],
            "label": "11",
            "method": "animate"
           },
           {
            "args": [
             [
              "12"
             ],
             {
              "frame": {
               "duration": 50,
               "redraw": true
              },
              "mode": "immediate"
             }
            ],
            "label": "12",
            "method": "animate"
           },
           {
            "args": [
             [
              "13"
             ],
             {
              "frame": {
               "duration": 50,
               "redraw": true
              },
              "mode": "immediate"
             }
            ],
            "label": "13",
            "method": "animate"
           },
           {
            "args": [
             [
              "14"
             ],
             {
              "frame": {
               "duration": 50,
               "redraw": true
              },
              "mode": "immediate"
             }
            ],
            "label": "14",
            "method": "animate"
           },
           {
            "args": [
             [
              "15"
             ],
             {
              "frame": {
               "duration": 50,
               "redraw": true
              },
              "mode": "immediate"
             }
            ],
            "label": "15",
            "method": "animate"
           },
           {
            "args": [
             [
              "16"
             ],
             {
              "frame": {
               "duration": 50,
               "redraw": true
              },
              "mode": "immediate"
             }
            ],
            "label": "16",
            "method": "animate"
           },
           {
            "args": [
             [
              "17"
             ],
             {
              "frame": {
               "duration": 50,
               "redraw": true
              },
              "mode": "immediate"
             }
            ],
            "label": "17",
            "method": "animate"
           },
           {
            "args": [
             [
              "18"
             ],
             {
              "frame": {
               "duration": 50,
               "redraw": true
              },
              "mode": "immediate"
             }
            ],
            "label": "18",
            "method": "animate"
           },
           {
            "args": [
             [
              "19"
             ],
             {
              "frame": {
               "duration": 50,
               "redraw": true
              },
              "mode": "immediate"
             }
            ],
            "label": "19",
            "method": "animate"
           },
           {
            "args": [
             [
              "20"
             ],
             {
              "frame": {
               "duration": 50,
               "redraw": true
              },
              "mode": "immediate"
             }
            ],
            "label": "20",
            "method": "animate"
           },
           {
            "args": [
             [
              "21"
             ],
             {
              "frame": {
               "duration": 50,
               "redraw": true
              },
              "mode": "immediate"
             }
            ],
            "label": "21",
            "method": "animate"
           },
           {
            "args": [
             [
              "22"
             ],
             {
              "frame": {
               "duration": 50,
               "redraw": true
              },
              "mode": "immediate"
             }
            ],
            "label": "22",
            "method": "animate"
           },
           {
            "args": [
             [
              "23"
             ],
             {
              "frame": {
               "duration": 50,
               "redraw": true
              },
              "mode": "immediate"
             }
            ],
            "label": "23",
            "method": "animate"
           },
           {
            "args": [
             [
              "24"
             ],
             {
              "frame": {
               "duration": 50,
               "redraw": true
              },
              "mode": "immediate"
             }
            ],
            "label": "24",
            "method": "animate"
           },
           {
            "args": [
             [
              "25"
             ],
             {
              "frame": {
               "duration": 50,
               "redraw": true
              },
              "mode": "immediate"
             }
            ],
            "label": "25",
            "method": "animate"
           },
           {
            "args": [
             [
              "26"
             ],
             {
              "frame": {
               "duration": 50,
               "redraw": true
              },
              "mode": "immediate"
             }
            ],
            "label": "26",
            "method": "animate"
           },
           {
            "args": [
             [
              "27"
             ],
             {
              "frame": {
               "duration": 50,
               "redraw": true
              },
              "mode": "immediate"
             }
            ],
            "label": "27",
            "method": "animate"
           },
           {
            "args": [
             [
              "28"
             ],
             {
              "frame": {
               "duration": 50,
               "redraw": true
              },
              "mode": "immediate"
             }
            ],
            "label": "28",
            "method": "animate"
           },
           {
            "args": [
             [
              "29"
             ],
             {
              "frame": {
               "duration": 50,
               "redraw": true
              },
              "mode": "immediate"
             }
            ],
            "label": "29",
            "method": "animate"
           },
           {
            "args": [
             [
              "30"
             ],
             {
              "frame": {
               "duration": 50,
               "redraw": true
              },
              "mode": "immediate"
             }
            ],
            "label": "30",
            "method": "animate"
           },
           {
            "args": [
             [
              "31"
             ],
             {
              "frame": {
               "duration": 50,
               "redraw": true
              },
              "mode": "immediate"
             }
            ],
            "label": "31",
            "method": "animate"
           },
           {
            "args": [
             [
              "32"
             ],
             {
              "frame": {
               "duration": 50,
               "redraw": true
              },
              "mode": "immediate"
             }
            ],
            "label": "32",
            "method": "animate"
           },
           {
            "args": [
             [
              "33"
             ],
             {
              "frame": {
               "duration": 50,
               "redraw": true
              },
              "mode": "immediate"
             }
            ],
            "label": "33",
            "method": "animate"
           },
           {
            "args": [
             [
              "34"
             ],
             {
              "frame": {
               "duration": 50,
               "redraw": true
              },
              "mode": "immediate"
             }
            ],
            "label": "34",
            "method": "animate"
           },
           {
            "args": [
             [
              "35"
             ],
             {
              "frame": {
               "duration": 50,
               "redraw": true
              },
              "mode": "immediate"
             }
            ],
            "label": "35",
            "method": "animate"
           },
           {
            "args": [
             [
              "36"
             ],
             {
              "frame": {
               "duration": 50,
               "redraw": true
              },
              "mode": "immediate"
             }
            ],
            "label": "36",
            "method": "animate"
           },
           {
            "args": [
             [
              "37"
             ],
             {
              "frame": {
               "duration": 50,
               "redraw": true
              },
              "mode": "immediate"
             }
            ],
            "label": "37",
            "method": "animate"
           },
           {
            "args": [
             [
              "38"
             ],
             {
              "frame": {
               "duration": 50,
               "redraw": true
              },
              "mode": "immediate"
             }
            ],
            "label": "38",
            "method": "animate"
           },
           {
            "args": [
             [
              "39"
             ],
             {
              "frame": {
               "duration": 50,
               "redraw": true
              },
              "mode": "immediate"
             }
            ],
            "label": "39",
            "method": "animate"
           },
           {
            "args": [
             [
              "40"
             ],
             {
              "frame": {
               "duration": 50,
               "redraw": true
              },
              "mode": "immediate"
             }
            ],
            "label": "40",
            "method": "animate"
           },
           {
            "args": [
             [
              "41"
             ],
             {
              "frame": {
               "duration": 50,
               "redraw": true
              },
              "mode": "immediate"
             }
            ],
            "label": "41",
            "method": "animate"
           },
           {
            "args": [
             [
              "42"
             ],
             {
              "frame": {
               "duration": 50,
               "redraw": true
              },
              "mode": "immediate"
             }
            ],
            "label": "42",
            "method": "animate"
           },
           {
            "args": [
             [
              "43"
             ],
             {
              "frame": {
               "duration": 50,
               "redraw": true
              },
              "mode": "immediate"
             }
            ],
            "label": "43",
            "method": "animate"
           },
           {
            "args": [
             [
              "44"
             ],
             {
              "frame": {
               "duration": 50,
               "redraw": true
              },
              "mode": "immediate"
             }
            ],
            "label": "44",
            "method": "animate"
           },
           {
            "args": [
             [
              "45"
             ],
             {
              "frame": {
               "duration": 50,
               "redraw": true
              },
              "mode": "immediate"
             }
            ],
            "label": "45",
            "method": "animate"
           },
           {
            "args": [
             [
              "46"
             ],
             {
              "frame": {
               "duration": 50,
               "redraw": true
              },
              "mode": "immediate"
             }
            ],
            "label": "46",
            "method": "animate"
           },
           {
            "args": [
             [
              "47"
             ],
             {
              "frame": {
               "duration": 50,
               "redraw": true
              },
              "mode": "immediate"
             }
            ],
            "label": "47",
            "method": "animate"
           },
           {
            "args": [
             [
              "48"
             ],
             {
              "frame": {
               "duration": 50,
               "redraw": true
              },
              "mode": "immediate"
             }
            ],
            "label": "48",
            "method": "animate"
           },
           {
            "args": [
             [
              "49"
             ],
             {
              "frame": {
               "duration": 50,
               "redraw": true
              },
              "mode": "immediate"
             }
            ],
            "label": "49",
            "method": "animate"
           }
          ],
          "transition": {
           "duration": 0
          },
          "x": 0.1,
          "y": 0
         }
        ],
        "template": {
         "data": {
          "bar": [
           {
            "error_x": {
             "color": "#2a3f5f"
            },
            "error_y": {
             "color": "#2a3f5f"
            },
            "marker": {
             "line": {
              "color": "#E5ECF6",
              "width": 0.5
             },
             "pattern": {
              "fillmode": "overlay",
              "size": 10,
              "solidity": 0.2
             }
            },
            "type": "bar"
           }
          ],
          "barpolar": [
           {
            "marker": {
             "line": {
              "color": "#E5ECF6",
              "width": 0.5
             },
             "pattern": {
              "fillmode": "overlay",
              "size": 10,
              "solidity": 0.2
             }
            },
            "type": "barpolar"
           }
          ],
          "carpet": [
           {
            "aaxis": {
             "endlinecolor": "#2a3f5f",
             "gridcolor": "white",
             "linecolor": "white",
             "minorgridcolor": "white",
             "startlinecolor": "#2a3f5f"
            },
            "baxis": {
             "endlinecolor": "#2a3f5f",
             "gridcolor": "white",
             "linecolor": "white",
             "minorgridcolor": "white",
             "startlinecolor": "#2a3f5f"
            },
            "type": "carpet"
           }
          ],
          "choropleth": [
           {
            "colorbar": {
             "outlinewidth": 0,
             "ticks": ""
            },
            "type": "choropleth"
           }
          ],
          "contour": [
           {
            "colorbar": {
             "outlinewidth": 0,
             "ticks": ""
            },
            "colorscale": [
             [
              0,
              "#0d0887"
             ],
             [
              0.1111111111111111,
              "#46039f"
             ],
             [
              0.2222222222222222,
              "#7201a8"
             ],
             [
              0.3333333333333333,
              "#9c179e"
             ],
             [
              0.4444444444444444,
              "#bd3786"
             ],
             [
              0.5555555555555556,
              "#d8576b"
             ],
             [
              0.6666666666666666,
              "#ed7953"
             ],
             [
              0.7777777777777778,
              "#fb9f3a"
             ],
             [
              0.8888888888888888,
              "#fdca26"
             ],
             [
              1,
              "#f0f921"
             ]
            ],
            "type": "contour"
           }
          ],
          "contourcarpet": [
           {
            "colorbar": {
             "outlinewidth": 0,
             "ticks": ""
            },
            "type": "contourcarpet"
           }
          ],
          "heatmap": [
           {
            "colorbar": {
             "outlinewidth": 0,
             "ticks": ""
            },
            "colorscale": [
             [
              0,
              "#0d0887"
             ],
             [
              0.1111111111111111,
              "#46039f"
             ],
             [
              0.2222222222222222,
              "#7201a8"
             ],
             [
              0.3333333333333333,
              "#9c179e"
             ],
             [
              0.4444444444444444,
              "#bd3786"
             ],
             [
              0.5555555555555556,
              "#d8576b"
             ],
             [
              0.6666666666666666,
              "#ed7953"
             ],
             [
              0.7777777777777778,
              "#fb9f3a"
             ],
             [
              0.8888888888888888,
              "#fdca26"
             ],
             [
              1,
              "#f0f921"
             ]
            ],
            "type": "heatmap"
           }
          ],
          "histogram": [
           {
            "marker": {
             "pattern": {
              "fillmode": "overlay",
              "size": 10,
              "solidity": 0.2
             }
            },
            "type": "histogram"
           }
          ],
          "histogram2d": [
           {
            "colorbar": {
             "outlinewidth": 0,
             "ticks": ""
            },
            "colorscale": [
             [
              0,
              "#0d0887"
             ],
             [
              0.1111111111111111,
              "#46039f"
             ],
             [
              0.2222222222222222,
              "#7201a8"
             ],
             [
              0.3333333333333333,
              "#9c179e"
             ],
             [
              0.4444444444444444,
              "#bd3786"
             ],
             [
              0.5555555555555556,
              "#d8576b"
             ],
             [
              0.6666666666666666,
              "#ed7953"
             ],
             [
              0.7777777777777778,
              "#fb9f3a"
             ],
             [
              0.8888888888888888,
              "#fdca26"
             ],
             [
              1,
              "#f0f921"
             ]
            ],
            "type": "histogram2d"
           }
          ],
          "histogram2dcontour": [
           {
            "colorbar": {
             "outlinewidth": 0,
             "ticks": ""
            },
            "colorscale": [
             [
              0,
              "#0d0887"
             ],
             [
              0.1111111111111111,
              "#46039f"
             ],
             [
              0.2222222222222222,
              "#7201a8"
             ],
             [
              0.3333333333333333,
              "#9c179e"
             ],
             [
              0.4444444444444444,
              "#bd3786"
             ],
             [
              0.5555555555555556,
              "#d8576b"
             ],
             [
              0.6666666666666666,
              "#ed7953"
             ],
             [
              0.7777777777777778,
              "#fb9f3a"
             ],
             [
              0.8888888888888888,
              "#fdca26"
             ],
             [
              1,
              "#f0f921"
             ]
            ],
            "type": "histogram2dcontour"
           }
          ],
          "mesh3d": [
           {
            "colorbar": {
             "outlinewidth": 0,
             "ticks": ""
            },
            "type": "mesh3d"
           }
          ],
          "parcoords": [
           {
            "line": {
             "colorbar": {
              "outlinewidth": 0,
              "ticks": ""
             }
            },
            "type": "parcoords"
           }
          ],
          "pie": [
           {
            "automargin": true,
            "type": "pie"
           }
          ],
          "scatter": [
           {
            "fillpattern": {
             "fillmode": "overlay",
             "size": 10,
             "solidity": 0.2
            },
            "type": "scatter"
           }
          ],
          "scatter3d": [
           {
            "line": {
             "colorbar": {
              "outlinewidth": 0,
              "ticks": ""
             }
            },
            "marker": {
             "colorbar": {
              "outlinewidth": 0,
              "ticks": ""
             }
            },
            "type": "scatter3d"
           }
          ],
          "scattercarpet": [
           {
            "marker": {
             "colorbar": {
              "outlinewidth": 0,
              "ticks": ""
             }
            },
            "type": "scattercarpet"
           }
          ],
          "scattergeo": [
           {
            "marker": {
             "colorbar": {
              "outlinewidth": 0,
              "ticks": ""
             }
            },
            "type": "scattergeo"
           }
          ],
          "scattergl": [
           {
            "marker": {
             "colorbar": {
              "outlinewidth": 0,
              "ticks": ""
             }
            },
            "type": "scattergl"
           }
          ],
          "scattermap": [
           {
            "marker": {
             "colorbar": {
              "outlinewidth": 0,
              "ticks": ""
             }
            },
            "type": "scattermap"
           }
          ],
          "scattermapbox": [
           {
            "marker": {
             "colorbar": {
              "outlinewidth": 0,
              "ticks": ""
             }
            },
            "type": "scattermapbox"
           }
          ],
          "scatterpolar": [
           {
            "marker": {
             "colorbar": {
              "outlinewidth": 0,
              "ticks": ""
             }
            },
            "type": "scatterpolar"
           }
          ],
          "scatterpolargl": [
           {
            "marker": {
             "colorbar": {
              "outlinewidth": 0,
              "ticks": ""
             }
            },
            "type": "scatterpolargl"
           }
          ],
          "scatterternary": [
           {
            "marker": {
             "colorbar": {
              "outlinewidth": 0,
              "ticks": ""
             }
            },
            "type": "scatterternary"
           }
          ],
          "surface": [
           {
            "colorbar": {
             "outlinewidth": 0,
             "ticks": ""
            },
            "colorscale": [
             [
              0,
              "#0d0887"
             ],
             [
              0.1111111111111111,
              "#46039f"
             ],
             [
              0.2222222222222222,
              "#7201a8"
             ],
             [
              0.3333333333333333,
              "#9c179e"
             ],
             [
              0.4444444444444444,
              "#bd3786"
             ],
             [
              0.5555555555555556,
              "#d8576b"
             ],
             [
              0.6666666666666666,
              "#ed7953"
             ],
             [
              0.7777777777777778,
              "#fb9f3a"
             ],
             [
              0.8888888888888888,
              "#fdca26"
             ],
             [
              1,
              "#f0f921"
             ]
            ],
            "type": "surface"
           }
          ],
          "table": [
           {
            "cells": {
             "fill": {
              "color": "#EBF0F8"
             },
             "line": {
              "color": "white"
             }
            },
            "header": {
             "fill": {
              "color": "#C8D4E3"
             },
             "line": {
              "color": "white"
             }
            },
            "type": "table"
           }
          ]
         },
         "layout": {
          "annotationdefaults": {
           "arrowcolor": "#2a3f5f",
           "arrowhead": 0,
           "arrowwidth": 1
          },
          "autotypenumbers": "strict",
          "coloraxis": {
           "colorbar": {
            "outlinewidth": 0,
            "ticks": ""
           }
          },
          "colorscale": {
           "diverging": [
            [
             0,
             "#8e0152"
            ],
            [
             0.1,
             "#c51b7d"
            ],
            [
             0.2,
             "#de77ae"
            ],
            [
             0.3,
             "#f1b6da"
            ],
            [
             0.4,
             "#fde0ef"
            ],
            [
             0.5,
             "#f7f7f7"
            ],
            [
             0.6,
             "#e6f5d0"
            ],
            [
             0.7,
             "#b8e186"
            ],
            [
             0.8,
             "#7fbc41"
            ],
            [
             0.9,
             "#4d9221"
            ],
            [
             1,
             "#276419"
            ]
           ],
           "sequential": [
            [
             0,
             "#0d0887"
            ],
            [
             0.1111111111111111,
             "#46039f"
            ],
            [
             0.2222222222222222,
             "#7201a8"
            ],
            [
             0.3333333333333333,
             "#9c179e"
            ],
            [
             0.4444444444444444,
             "#bd3786"
            ],
            [
             0.5555555555555556,
             "#d8576b"
            ],
            [
             0.6666666666666666,
             "#ed7953"
            ],
            [
             0.7777777777777778,
             "#fb9f3a"
            ],
            [
             0.8888888888888888,
             "#fdca26"
            ],
            [
             1,
             "#f0f921"
            ]
           ],
           "sequentialminus": [
            [
             0,
             "#0d0887"
            ],
            [
             0.1111111111111111,
             "#46039f"
            ],
            [
             0.2222222222222222,
             "#7201a8"
            ],
            [
             0.3333333333333333,
             "#9c179e"
            ],
            [
             0.4444444444444444,
             "#bd3786"
            ],
            [
             0.5555555555555556,
             "#d8576b"
            ],
            [
             0.6666666666666666,
             "#ed7953"
            ],
            [
             0.7777777777777778,
             "#fb9f3a"
            ],
            [
             0.8888888888888888,
             "#fdca26"
            ],
            [
             1,
             "#f0f921"
            ]
           ]
          },
          "colorway": [
           "#636efa",
           "#EF553B",
           "#00cc96",
           "#ab63fa",
           "#FFA15A",
           "#19d3f3",
           "#FF6692",
           "#B6E880",
           "#FF97FF",
           "#FECB52"
          ],
          "font": {
           "color": "#2a3f5f"
          },
          "geo": {
           "bgcolor": "white",
           "lakecolor": "white",
           "landcolor": "#E5ECF6",
           "showlakes": true,
           "showland": true,
           "subunitcolor": "white"
          },
          "hoverlabel": {
           "align": "left"
          },
          "hovermode": "closest",
          "mapbox": {
           "style": "light"
          },
          "paper_bgcolor": "white",
          "plot_bgcolor": "#E5ECF6",
          "polar": {
           "angularaxis": {
            "gridcolor": "white",
            "linecolor": "white",
            "ticks": ""
           },
           "bgcolor": "#E5ECF6",
           "radialaxis": {
            "gridcolor": "white",
            "linecolor": "white",
            "ticks": ""
           }
          },
          "scene": {
           "xaxis": {
            "backgroundcolor": "#E5ECF6",
            "gridcolor": "white",
            "gridwidth": 2,
            "linecolor": "white",
            "showbackground": true,
            "ticks": "",
            "zerolinecolor": "white"
           },
           "yaxis": {
            "backgroundcolor": "#E5ECF6",
            "gridcolor": "white",
            "gridwidth": 2,
            "linecolor": "white",
            "showbackground": true,
            "ticks": "",
            "zerolinecolor": "white"
           },
           "zaxis": {
            "backgroundcolor": "#E5ECF6",
            "gridcolor": "white",
            "gridwidth": 2,
            "linecolor": "white",
            "showbackground": true,
            "ticks": "",
            "zerolinecolor": "white"
           }
          },
          "shapedefaults": {
           "line": {
            "color": "#2a3f5f"
           }
          },
          "ternary": {
           "aaxis": {
            "gridcolor": "white",
            "linecolor": "white",
            "ticks": ""
           },
           "baxis": {
            "gridcolor": "white",
            "linecolor": "white",
            "ticks": ""
           },
           "bgcolor": "#E5ECF6",
           "caxis": {
            "gridcolor": "white",
            "linecolor": "white",
            "ticks": ""
           }
          },
          "title": {
           "x": 0.05
          },
          "xaxis": {
           "automargin": true,
           "gridcolor": "white",
           "linecolor": "white",
           "ticks": "",
           "title": {
            "standoff": 15
           },
           "zerolinecolor": "white",
           "zerolinewidth": 2
          },
          "yaxis": {
           "automargin": true,
           "gridcolor": "white",
           "linecolor": "white",
           "ticks": "",
           "title": {
            "standoff": 15
           },
           "zerolinecolor": "white",
           "zerolinewidth": 2
          }
         }
        },
        "title": {
         "text": "Four Corners"
        },
        "updatemenus": [
         {
          "buttons": [
           {
            "args": [
             null,
             {
              "frame": {
               "duration": 50,
               "redraw": true
              },
              "fromcurrent": true
             }
            ],
            "label": "Play",
            "method": "animate"
           },
           {
            "args": [
             [
              null
             ],
             {
              "frame": {
               "duration": 0,
               "redraw": true
              },
              "mode": "immediate"
             }
            ],
            "label": "Pause",
            "method": "animate"
           }
          ],
          "direction": "left",
          "pad": {
           "r": 10,
           "t": 87
          },
          "showactive": false,
          "type": "buttons",
          "x": 0.1,
          "xanchor": "right",
          "y": 0,
          "yanchor": "top"
         }
        ]
       }
      }
     },
     "metadata": {},
     "output_type": "display_data"
    }
   ],
   "source": [
    "options = dismech.AnimationOptions(z_lim=[-1.0, 1.0], x_lim=[0, 1.0], title='Four Corners')\n",
    "fig = dismech.get_interactive_animation_plotly(base_robot, thetas, qs, options)\n",
    "fig.show()"
   ]
  }
 ],
 "metadata": {
  "kernelspec": {
   "display_name": ".venv",
   "language": "python",
   "name": "python3"
  },
  "language_info": {
   "codemirror_mode": {
    "name": "ipython",
    "version": 3
   },
   "file_extension": ".py",
   "mimetype": "text/x-python",
   "name": "python",
   "nbconvert_exporter": "python",
   "pygments_lexer": "ipython3",
   "version": "3.12.1"
  }
 },
 "nbformat": 4,
 "nbformat_minor": 2
}
