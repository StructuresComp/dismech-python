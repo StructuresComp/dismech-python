{
 "cells": [
  {
   "cell_type": "markdown",
   "metadata": {},
   "source": [
    "## Rod Cantilever Example"
   ]
  },
  {
   "cell_type": "code",
   "execution_count": 75,
   "metadata": {},
   "outputs": [],
   "source": [
    "import numpy as np\n",
    "import time\n",
    "import dismech\n",
    "\n",
    "geom = dismech.GeomParams(\n",
    "    rod_r0=2e-2,\n",
    "    shell_h=0.0,\n",
    ")\n",
    "\n",
    "material = dismech.Material(density=1000,\n",
    "                            youngs_rod=1e7,\n",
    "                            youngs_shell=0,\n",
    "                            poisson_rod=0.5,\n",
    "                            poisson_shell=0)\n",
    "\n",
    "static_2d_sim = dismech.SimParams(static_sim=False,\n",
    "                                  two_d_sim=True,   # no twisting\n",
    "                                  use_mid_edge=False,\n",
    "                                  use_line_search=False,\n",
    "                                  show_floor=False,\n",
    "                                  log_data=True,\n",
    "                                  log_step=1,\n",
    "                                  dt=1e-2,\n",
    "                                  max_iter=25,\n",
    "                                  total_time=10.0,\n",
    "                                  plot_step=1,\n",
    "                                  tol=1e-4,\n",
    "                                  ftol=1e-4,\n",
    "                                  dtol=1e-2)\n",
    "\n",
    "env = dismech.Environment()\n",
    "env.add_force('gravity', g=np.array([0.0, 0.0, -9.81]))\n",
    "env.add_force('viscous', eta=5e-2)\n",
    "\n",
    "geo = dismech.Geometry.from_txt(\n",
    "    '../tests/resources/rod_cantilever/horizontal_rod_n51.txt')\n",
    "\n",
    "robot = dismech.SoftRobot(geom, material, geo, static_2d_sim, env)"
   ]
  },
  {
   "cell_type": "code",
   "execution_count": 76,
   "metadata": {},
   "outputs": [
    {
     "name": "stdout",
     "output_type": "stream",
     "text": [
      "[ 0.01 -0.   -0.  ]\n"
     ]
    }
   ],
   "source": [
    "print(robot.q0[robot.map_node_to_dof(5)])"
   ]
  },
  {
   "cell_type": "markdown",
   "metadata": {},
   "source": [
    "### Time Stepping\n",
    "\n",
    "As we are performing a static simulation, we must change gravity for each time step."
   ]
  },
  {
   "cell_type": "code",
   "execution_count": 77,
   "metadata": {},
   "outputs": [],
   "source": [
    "fixed_points = np.array([0, 1])\n",
    "\n",
    "robot = robot.fix_nodes(fixed_points)\n",
    "stepper = dismech.NewmarkBetaTimeStepper(robot)\n",
    "\n",
    "start = time.time()\n",
    "robots = stepper.simulate()\n",
    "end = time.time()\n",
    "\n",
    "qs = np.stack([robot.state.q for robot in robots])"
   ]
  },
  {
   "cell_type": "code",
   "execution_count": 78,
   "metadata": {},
   "outputs": [
    {
     "name": "stdout",
     "output_type": "stream",
     "text": [
      "6.006873846054077\n"
     ]
    }
   ],
   "source": [
    "print(end-start)"
   ]
  },
  {
   "cell_type": "code",
   "execution_count": 82,
   "metadata": {},
   "outputs": [
    {
     "data": {
      "image/png": "[encoded data removed]",
      "text/plain": [
       "<Figure size 640x480 with 1 Axes>"
      ]
     },
     "metadata": {},
     "output_type": "display_data"
    }
   ],
   "source": [
    "import matplotlib.pyplot as plt\n",
    "if material.youngs_rod == 1e5:\n",
    "    file = 'cantilever_E=1e5_dt=9e-5.npz'\n",
    "if material.youngs_rod == 1e6:\n",
    "    file = 'cantilever_E=1e6_dt=3e-5.npz'\n",
    "if material.youngs_rod == 1e7:\n",
    "    file = 'cantilever_E=1e7_dt=9e-6.npz'\n",
    "elastica = np.load(file)\n",
    "t = np.arange(0, robot.sim_params.total_time, robot.sim_params.dt)\n",
    "plt.plot(t, qs[:, robot.end_node_dof_index - 1], label='dismech')\n",
    "#plt.plot(elastica['time'], elastica['position'][:, 2, -1], label='elastica')\n",
    "plt.title(\"PyDismech vs PyElastica Cantilever with Damping (E={:.2E})\".format(material.youngs_rod))\n",
    "plt.legend()\n",
    "plt.show()"
   ]
  },
  {
   "cell_type": "code",
   "execution_count": 80,
   "metadata": {},
   "outputs": [],
   "source": [
    "import numpy as np\n",
    "\n",
    "# Constants and parameters\n",
    "Y = material.youngs_rod  # Young's modulus in Pascals\n",
    "L = 0.1 - 0.1/100  # Length in meters\n",
    "r = 2e-2  # Radius in meters\n",
    "rho = 1000  # Density in kg/m^3\n",
    "\n",
    "A = np.pi * r**2  # Cross-sectional area\n",
    "mass = rho * L * A\n",
    "mperL = rho * A  # Mass per unit length\n",
    "g = -9.81  # Gravitational acceleration in m/s^2\n",
    "\n",
    "I = (np.pi * r**4) / 4  # Moment of inertia for a solid cylinder\n",
    "alpha1 = 1.875**2\n",
    "\n",
    "omega_n = alpha1 * np.sqrt(Y * I / (mperL * L**4))  # Natural frequency in rad/s\n",
    "f = omega_n / (2 * np.pi)  # Frequency in Hz\n",
    "Time_period = 1 / f  # Time period in seconds\n",
    "\n",
    "mean_disp_tip = mass * g * L**3 / (8 * Y * I)  # Mean displacement at the tip in meters\n"
   ]
  },
  {
   "cell_type": "code",
   "execution_count": 81,
   "metadata": {},
   "outputs": [
    {
     "name": "stdout",
     "output_type": "stream",
     "text": [
      "Dismech: -1.1777e-04\n",
      "Elastica: -1.3045e-04\n",
      "Analytical: -1.1779e-04\n"
     ]
    }
   ],
   "source": [
    "print('Dismech: {:.4e}'.format(qs[-1, robot.end_node_dof_index-1]))\n",
    "print('Elastica: {:.4e}'.format(elastica['position'][-1, 2, -1]))\n",
    "print(f\"Analytical: {mean_disp_tip:.4e}\")\n"
   ]
  }
 ],
 "metadata": {
  "kernelspec": {
   "display_name": ".venv",
   "language": "python",
   "name": "python3"
  },
  "language_info": {
   "codemirror_mode": {
    "name": "ipython",
    "version": 3
   },
   "file_extension": ".py",
   "mimetype": "text/x-python",
   "name": "python",
   "nbconvert_exporter": "python",
   "pygments_lexer": "ipython3",
   "version": "3.12.1"
  }
 },
 "nbformat": 4,
 "nbformat_minor": 2
}
