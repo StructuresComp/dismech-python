{
 "cells": [
  {
   "cell_type": "code",
   "execution_count": 36,
   "id": "0931af5b",
   "metadata": {},
   "outputs": [],
   "source": [
    "import numpy as np\n",
    "\n",
    "import dismech\n",
    "\n",
    "b = 0.02\n",
    "h = 0.001\n",
    "\n",
    "geom = dismech.GeomParams(rod_r0=0.001,\n",
    "                          shell_h=0,\n",
    "                          axs=b*h,\n",
    "                          ixs1=b*h**3/12,\n",
    "                          ixs2=h*b**3/12,\n",
    "                          jxs=b*h**3/6)\n",
    "\n",
    "material = dismech.Material(density=1200,\n",
    "                            youngs_rod=2e6,\n",
    "                            youngs_shell=0,\n",
    "                            poisson_rod=0.5,\n",
    "                            poisson_shell=0)\n",
    "\n",
    "static_2d_sim = dismech.SimParams(static_sim=False,\n",
    "                                  two_d_sim=True,   # no twisting\n",
    "                                  use_mid_edge=False,\n",
    "                                  use_line_search=True,\n",
    "                                  show_floor=False,\n",
    "                                  log_data=True,\n",
    "                                  log_step=1,\n",
    "                                  dt=1e-2,\n",
    "                                  max_iter=25,\n",
    "                                  total_time=1.0,\n",
    "                                  plot_step=1,\n",
    "                                  tol=1e-4,\n",
    "                                  ftol=1e-4,\n",
    "                                  dtol=1e-2)\n",
    "\n",
    "env = dismech.Environment()\n",
    "#env.add_force('gravity', g=np.array([0.0, 0.0, -9.81]))\n",
    "#env.add_force('floorContact', ground_z=1e-3, stiffness=1e3, delta=2e-3, h=1e-3)\n",
    "#env.add_force('floorFriction', mu=0.25, vel_tol=1e-2)\n",
    "\n",
    "#geo = dismech.Geometry.from_txt(\n",
    "#    '../tests/resources/rod_cantilever/horizontal_rod_n51.txt')\n",
    "geo = dismech.Geometry.from_txt(\"../input.txt\")\n",
    "\n",
    "robot = dismech.SoftRobot(geom, material, geo, static_2d_sim, env)"
   ]
  },
  {
   "cell_type": "code",
   "execution_count": 37,
   "id": "b7aa0c79",
   "metadata": {},
   "outputs": [
    {
     "name": "stdout",
     "output_type": "stream",
     "text": [
      "[0. 0.]\n",
      "[[0. 0.]]\n"
     ]
    }
   ],
   "source": [
    "print(robot.stretch_springs.inc_strain)\n",
    "print(robot.bend_springs.inc_strain)"
   ]
  },
  {
   "cell_type": "code",
   "execution_count": null,
   "id": "45b8878b",
   "metadata": {},
   "outputs": [],
   "source": [
    "stepper = dismech.ImplicitEulerTimeStepper(robot)\n",
    "\n",
    "def actuate_spring(robot: dismech.SoftRobot, t: float):\n",
    "    p1 = 0.2\n",
    "    p2 = 0.4\n",
    "    p3 = 0.6\n",
    "    if t < p1:\n",
    "        robot.bend_springs.inc_strain[0,0] = -1e-1\n",
    "        robot.stretch_springs.inc_strain[0] -= 1e-2\n",
    "    if t < p2:\n",
    "        robot.bend_springs.inc_strain[0,0] = -1e-1\n",
    "        robot.stretch_springs.inc_strain[0] += 1e-2\n",
    "        robot.stretch_springs.inc_strain[1] -= 1e-2\n",
    "    if t < p3:\n",
    "        robot.bend_springs.inc_strain[0,0] = -1e-1\n",
    "        robot.stretch_springs.inc_strain[0] += 1e-2\n",
    "        robot.stretch_springs.inc_strain[1] -= 1e-2\n",
    "    return robot\n",
    "\n",
    "\n",
    "stepper.before_step = actuate_spring\n",
    "\n",
    "robots = stepper.simulate()\n",
    "\n",
    "qs = np.stack([robot.state.q for robot in robots])"
   ]
  },
  {
   "cell_type": "code",
   "execution_count": 39,
   "id": "afe77c78",
   "metadata": {},
   "outputs": [
    {
     "data": {
      "application/vnd.plotly.v1+json": {
       "config": {
        "plotlyServerURL": "https://plot.ly"
       },
       "data": [
        {
         "marker": {
          "color": "#1f78b4",
          "size": 5
         },
         "mode": "markers",
         "name": "Free Nodes",
         "type": "scatter3d",
         "x": {
          "bdata": "6unAw+tXLz/9eFHrvam5P/3J8Eyfgck/",
          "dtype": "f8"
         },
         "y": {
          "bdata": "AAAAAAAAAAAAAAAAAAAAAAAAAAAAAAAA",
          "dtype": "f8"
         },
         "z": {
          "bdata": "5iYDS3xcYD/jF7SxJmhgP0RRW51tXGA/",
          "dtype": "f8"
         }
        },
        {
         "marker": {
          "color": "#e31a1c",
          "size": 5
         },
         "mode": "markers",
         "name": "Fixed Nodes",
         "type": "scatter3d",
         "x": [],
         "y": [],
         "z": []
        },
        {
         "line": {
          "color": "#333333",
          "width": 2
         },
         "mode": "lines",
         "name": "Edges",
         "type": "scatter3d",
         "x": [
          0.00023913147913552586,
          0.10024630541872522,
          null,
          0.10024630541872522,
          0.19926825768341408,
          null
         ],
         "y": [
          0,
          0,
          null,
          0,
          0,
          null
         ],
         "z": [
          0.001997225532339597,
          0.002002788137931853,
          null,
          0.002002788137931853,
          0.001997198191796697,
          null
         ]
        },
        {
         "color": "rgba(166, 206, 227, 0.7)",
         "i": [],
         "j": [],
         "k": [],
         "name": "Faces",
         "opacity": 0.7,
         "showscale": false,
         "type": "mesh3d",
         "x": {
          "bdata": "6unAw+tXLz/9eFHrvam5P/3J8Eyfgck/",
          "dtype": "f8"
         },
         "y": {
          "bdata": "AAAAAAAAAAAAAAAAAAAAAAAAAAAAAAAA",
          "dtype": "f8"
         },
         "z": {
          "bdata": "5iYDS3xcYD/jF7SxJmhgP0RRW51tXGA/",
          "dtype": "f8"
         }
        }
       ],
       "frames": [
        {
         "data": [
          {
           "name": "Free Nodes",
           "type": "scatter3d",
           "x": {
            "bdata": "6unAw+tXLz/9eFHrvam5P/3J8Eyfgck/",
            "dtype": "f8"
           },
           "y": {
            "bdata": "AAAAAAAAAAAAAAAAAAAAAAAAAAAAAAAA",
            "dtype": "f8"
           },
           "z": {
            "bdata": "5iYDS3xcYD/jF7SxJmhgP0RRW51tXGA/",
            "dtype": "f8"
           }
          },
          {
           "name": "Fixed Nodes",
           "type": "scatter3d",
           "x": [],
           "y": [],
           "z": []
          },
          {
           "name": "Edges",
           "type": "scatter3d",
           "x": [
            0.00023913147913552586,
            0.10024630541872522,
            null,
            0.10024630541872522,
            0.19926825768341408,
            null
           ],
           "y": [
            0,
            0,
            null,
            0,
            0,
            null
           ],
           "z": [
            0.001997225532339597,
            0.002002788137931853,
            null,
            0.002002788137931853,
            0.001997198191796697,
            null
           ]
          },
          {
           "i": [],
           "j": [],
           "k": [],
           "name": "Faces",
           "type": "mesh3d",
           "x": {
            "bdata": "6unAw+tXLz/9eFHrvam5P/3J8Eyfgck/",
            "dtype": "f8"
           },
           "y": {
            "bdata": "AAAAAAAAAAAAAAAAAAAAAAAAAAAAAAAA",
            "dtype": "f8"
           },
           "z": {
            "bdata": "5iYDS3xcYD/jF7SxJmhgP0RRW51tXGA/",
            "dtype": "f8"
           }
          }
         ],
         "layout": {
          "annotations": [
           {
            "showarrow": false,
            "text": "Time: 0.00s (Step: 1/100)",
            "x": 0.05,
            "xref": "paper",
            "y": 0.95,
            "yref": "paper"
           }
          ]
         },
         "name": "0"
        },
        {
         "data": [
          {
           "name": "Free Nodes",
           "type": "scatter3d",
           "x": {
            "bdata": "Sasu9htcQD+t4hlgXLq5P9whI7d6aMk/",
            "dtype": "f8"
           },
           "y": {
            "bdata": "AAAAAAAAAAAAAAAAAAAAAAAAAAAAAAAA",
            "dtype": "f8"
           },
           "z": {
            "bdata": "zEwl7+hQYD8TJQaTKXFgP/8QlTb7VWA/",
            "dtype": "f8"
           }
          },
          {
           "name": "Fixed Nodes",
           "type": "scatter3d",
           "x": [],
           "y": [],
           "z": []
          },
          {
           "name": "Edges",
           "type": "scatter3d",
           "x": [
            0.0004992615252964262,
            0.10049989076822881,
            null,
            0.10049989076822881,
            0.198500956938246,
            null
           ],
           "y": [
            0,
            0,
            null,
            0,
            0,
            null
           ],
           "z": [
            0.001991705846344871,
            0.002007085037068487,
            null,
            0.002007085037068487,
            0.0019941240795181554,
            null
           ]
          },
          {
           "i": [],
           "j": [],
           "k": [],
           "name": "Faces",
           "type": "mesh3d",
           "x": {
            "bdata": "Sasu9htcQD+t4hlgXLq5P9whI7d6aMk/",
            "dtype": "f8"
           },
           "y": {
            "bdata": "AAAAAAAAAAAAAAAAAAAAAAAAAAAAAAAA",
            "dtype": "f8"
           },
           "z": {
            "bdata": "zEwl7+hQYD8TJQaTKXFgP/8QlTb7VWA/",
            "dtype": "f8"
           }
          }
         ],
         "layout": {
          "annotations": [
           {
            "showarrow": false,
            "text": "Time: 0.01s (Step: 2/100)",
            "x": 0.05,
            "xref": "paper",
            "y": 0.95,
            "yref": "paper"
           }
          ]
         },
         "name": "1"
        },
        {
         "data": [
          {
           "name": "Free Nodes",
           "type": "scatter3d",
           "x": {
            "bdata": "nD1jjjGWSD/qeUtewcq5Pw1WWaPbT8k/",
            "dtype": "f8"
           },
           "y": {
            "bdata": "AAAAAAAAAAAAAAAAAAAAAAAAAAAAAAAA",
            "dtype": "f8"
           },
           "z": {
            "bdata": "6WgLv4o/YD9pFASv83xgPzcWsy7FT2A/",
            "dtype": "f8"
           }
          },
          {
           "name": "Fixed Nodes",
           "type": "scatter3d",
           "x": [],
           "y": [],
           "z": []
          },
          {
           "name": "Edges",
           "type": "scatter3d",
           "x": [
            0.0007503263448373379,
            0.10075005104179238,
            null,
            0.10075005104179238,
            0.19774957157157794,
            null
           ],
           "y": [
            0,
            0,
            null,
            0,
            0,
            null
           ],
           "z": [
            0.0019834241760295812,
            0.002012706703796986,
            null,
            0.002012706703796986,
            0.001991162416376448,
            null
           ]
          },
          {
           "i": [],
           "j": [],
           "k": [],
           "name": "Faces",
           "type": "mesh3d",
           "x": {
            "bdata": "nD1jjjGWSD/qeUtewcq5Pw1WWaPbT8k/",
            "dtype": "f8"
           },
           "y": {
            "bdata": "AAAAAAAAAAAAAAAAAAAAAAAAAAAAAAAA",
            "dtype": "f8"
           },
           "z": {
            "bdata": "6WgLv4o/YD9pFASv83xgPzcWsy7FT2A/",
            "dtype": "f8"
           }
          }
         ],
         "layout": {
          "annotations": [
           {
            "showarrow": false,
            "text": "Time: 0.02s (Step: 3/100)",
            "x": 0.05,
            "xref": "paper",
            "y": 0.95,
            "yref": "paper"
           }
          ]
         },
         "name": "2"
        },
        {
         "data": [
          {
           "name": "Free Nodes",
           "type": "scatter3d",
           "x": {
            "bdata": "eqPFoodiUD8QiazYItu5P94eQUtLN8k/",
            "dtype": "f8"
           },
           "y": {
            "bdata": "AAAAAAAAAAAAAAAAAAAAAAAAAAAAAAAA",
            "dtype": "f8"
           },
           "z": {
            "bdata": "AG+bu2UoYD8Bc8pro45gP/BSlriKQ2A/",
            "dtype": "f8"
           }
          },
          {
           "name": "Fixed Nodes",
           "type": "scatter3d",
           "x": [],
           "y": [],
           "z": []
          },
          {
           "name": "Edges",
           "type": "scatter3d",
           "x": [
            0.0010000538414607061,
            0.10100000181094893,
            null,
            0.10100000181094893,
            0.1969999425366415,
            null
           ],
           "y": [
            0,
            0,
            null,
            0,
            0,
            null
           ],
           "z": [
            0.0019723879785099596,
            0.0020211402719055864,
            null,
            0.0020211402719055864,
            0.0019853314776788686,
            null
           ]
          },
          {
           "i": [],
           "j": [],
           "k": [],
           "name": "Faces",
           "type": "mesh3d",
           "x": {
            "bdata": "eqPFoodiUD8QiazYItu5P94eQUtLN8k/",
            "dtype": "f8"
           },
           "y": {
            "bdata": "AAAAAAAAAAAAAAAAAAAAAAAAAAAAAAAA",
            "dtype": "f8"
           },
           "z": {
            "bdata": "AG+bu2UoYD8Bc8pro45gP/BSlriKQ2A/",
            "dtype": "f8"
           }
          }
         ],
         "layout": {
          "annotations": [
           {
            "showarrow": false,
            "text": "Time: 0.03s (Step: 4/100)",
            "x": 0.05,
            "xref": "paper",
            "y": 0.95,
            "yref": "paper"
           }
          ]
         },
         "name": "3"
        },
        {
         "data": [
          {
           "name": "Free Nodes",
           "type": "scatter3d",
           "x": {
            "bdata": "qF1fRfN6VD/8t/wPheu5P368qzy4Hsk/",
            "dtype": "f8"
           },
           "y": {
            "bdata": "AAAAAAAAAAAAAAAAAAAAAAAAAAAAAAAA",
            "dtype": "f8"
           },
           "z": {
            "bdata": "3ucIQ4ELYD88AilWOaZgP5u7a1xDMWA/",
            "dtype": "f8"
           }
          },
          {
           "name": "Fixed Nodes",
           "type": "scatter3d",
           "x": [],
           "y": [],
           "z": []
          },
          {
           "name": "Edges",
           "type": "scatter3d",
           "x": [
            0.00125001675541179,
            0.10124999656974859,
            null,
            0.10124999656974859,
            0.1962499901050911,
            null
           ],
           "y": [
            0,
            0,
            null,
            0,
            0,
            null
           ],
           "z": [
            0.0019586109777067614,
            0.002032386765933118,
            null,
            0.002032386765933118,
            0.0019766154904270034,
            null
           ]
          },
          {
           "i": [],
           "j": [],
           "k": [],
           "name": "Faces",
           "type": "mesh3d",
           "x": {
            "bdata": "qF1fRfN6VD/8t/wPheu5P368qzy4Hsk/",
            "dtype": "f8"
           },
           "y": {
            "bdata": "AAAAAAAAAAAAAAAAAAAAAAAAAAAAAAAA",
            "dtype": "f8"
           },
           "z": {
            "bdata": "3ucIQ4ELYD88AilWOaZgP5u7a1xDMWA/",
            "dtype": "f8"
           }
          }
         ],
         "layout": {
          "annotations": [
           {
            "showarrow": false,
            "text": "Time: 0.04s (Step: 5/100)",
            "x": 0.05,
            "xref": "paper",
            "y": 0.95,
            "yref": "paper"
           }
          ]
         },
         "name": "4"
        },
        {
         "data": [
          {
           "name": "Free Nodes",
           "type": "scatter3d",
           "x": {
            "bdata": "ULLuuqeTWD+Gp1BX5/u5P0uubIwkBsk/",
            "dtype": "f8"
           },
           "y": {
            "bdata": "AAAAAAAAAAAAAAAAAAAAAAAAAAAAAAAA",
            "dtype": "f8"
           },
           "z": {
            "bdata": "tpauAMzRXz8HoY26tMNgP4gaVNbnGGA/",
            "dtype": "f8"
           }
          },
          {
           "name": "Fixed Nodes",
           "type": "scatter3d",
           "x": [],
           "y": [],
           "z": []
          },
          {
           "name": "Edges",
           "type": "scatter3d",
           "x": [
            0.0015000474920540303,
            0.10149999505725135,
            null,
            0.10149999505725135,
            0.19549996239344333,
            null
           ],
           "y": [
            0,
            0,
            null,
            0,
            0,
            null
           ],
           "z": [
            0.001942109319068503,
            0.002046444879329926,
            null,
            0.002046444879329926,
            0.001965000922271646,
            null
           ]
          },
          {
           "i": [],
           "j": [],
           "k": [],
           "name": "Faces",
           "type": "mesh3d",
           "x": {
            "bdata": "ULLuuqeTWD+Gp1BX5/u5P0uubIwkBsk/",
            "dtype": "f8"
           },
           "y": {
            "bdata": "AAAAAAAAAAAAAAAAAAAAAAAAAAAAAAAA",
            "dtype": "f8"
           },
           "z": {
            "bdata": "tpauAMzRXz8HoY26tMNgP4gaVNbnGGA/",
            "dtype": "f8"
           }
          }
         ],
         "layout": {
          "annotations": [
           {
            "showarrow": false,
            "text": "Time: 0.05s (Step: 6/100)",
            "x": 0.05,
            "xref": "paper",
            "y": 0.95,
            "yref": "paper"
           }
          ]
         },
         "name": "5"
        },
        {
         "data": [
          {
           "name": "Free Nodes",
           "type": "scatter3d",
           "x": {
            "bdata": "SrhYc2msXD+2YHGZSQy6PxAh28aQ7cg/",
            "dtype": "f8"
           },
           "y": {
            "bdata": "AAAAAAAAAAAAAAAAAAAAAAAAAAAAAAAA",
            "dtype": "f8"
           },
           "z": {
            "bdata": "PseP8jyBXz9yPEwLE+dgP9uWzHfl9F8/",
            "dtype": "f8"
           }
          },
          {
           "name": "Fixed Nodes",
           "type": "scatter3d",
           "x": [],
           "y": [],
           "z": []
          },
          {
           "name": "Edges",
           "type": "scatter3d",
           "x": [
            0.0017500905791041515,
            0.10174999233402357,
            null,
            0.10174999233402357,
            0.1947499247528488,
            null
           ],
           "y": [
            0,
            0,
            null,
            0,
            0,
            null
           ],
           "z": [
            0.0019229026022426622,
            0.0020633098560050517,
            null,
            0.0020633098560050517,
            0.0019504776857472348,
            null
           ]
          },
          {
           "i": [],
           "j": [],
           "k": [],
           "name": "Faces",
           "type": "mesh3d",
           "x": {
            "bdata": "SrhYc2msXD+2YHGZSQy6PxAh28aQ7cg/",
            "dtype": "f8"
           },
           "y": {
            "bdata": "AAAAAAAAAAAAAAAAAAAAAAAAAAAAAAAA",
            "dtype": "f8"
           },
           "z": {
            "bdata": "PseP8jyBXz9yPEwLE+dgP9uWzHfl9F8/",
            "dtype": "f8"
           }
          }
         ],
         "layout": {
          "annotations": [
           {
            "showarrow": false,
            "text": "Time: 0.06s (Step: 7/100)",
            "x": 0.05,
            "xref": "paper",
            "y": 0.95,
            "yref": "paper"
           }
          ]
         },
         "name": "6"
        },
        {
         "data": [
          {
           "name": "Free Nodes",
           "type": "scatter3d",
           "x": {
            "bdata": "goFQd6BiYD/GvrjYqxy6P2syndj81Mg/",
            "dtype": "f8"
           },
           "y": {
            "bdata": "AAAAAAAAAAAAAAAAAAAAAAAAAAAAAAAA",
            "dtype": "f8"
           },
           "z": {
            "bdata": "vlVLMW4lXz8X/gTQTxBhP8cBLibBq18/",
            "dtype": "f8"
           }
          },
          {
           "name": "Fixed Nodes",
           "type": "scatter3d",
           "x": [],
           "y": [],
           "z": []
          },
          {
           "name": "Edges",
           "type": "scatter3d",
           "x": [
            0.0020001539328548543,
            0.10199998894745041,
            null,
            0.10199998894745041,
            0.19399986817224443,
            null
           ],
           "y": [
            0,
            0,
            null,
            0,
            0,
            null
           ],
           "z": [
            0.0019010139559915008,
            0.0020829733695391195,
            null,
            0.0020829733695391195,
            0.0019330393049302606,
            null
           ]
          },
          {
           "i": [],
           "j": [],
           "k": [],
           "name": "Faces",
           "type": "mesh3d",
           "x": {
            "bdata": "goFQd6BiYD/GvrjYqxy6P2syndj81Mg/",
            "dtype": "f8"
           },
           "y": {
            "bdata": "AAAAAAAAAAAAAAAAAAAAAAAAAAAAAAAA",
            "dtype": "f8"
           },
           "z": {
            "bdata": "vlVLMW4lXz8X/gTQTxBhP8cBLibBq18/",
            "dtype": "f8"
           }
          }
         ],
         "layout": {
          "annotations": [
           {
            "showarrow": false,
            "text": "Time: 0.07s (Step: 8/100)",
            "x": 0.05,
            "xref": "paper",
            "y": 0.95,
            "yref": "paper"
           }
          ]
         },
         "name": "7"
        },
        {
         "data": [
          {
           "name": "Free Nodes",
           "type": "scatter3d",
           "x": {
            "bdata": "ktT+4BtvYj8eLXwWDi26P8cKM61ovMg/",
            "dtype": "f8"
           },
           "y": {
            "bdata": "AAAAAAAAAAAAAAAAAAAAAAAAAAAAAAAA",
            "dtype": "f8"
           },
           "z": {
            "bdata": "pNkLWXy+Xj+RGO+eZD9hP/oTxcJfVl8/",
            "dtype": "f8"
           }
          },
          {
           "name": "Fixed Nodes",
           "type": "scatter3d",
           "x": [],
           "y": [],
           "z": []
          },
          {
           "name": "Edges",
           "type": "scatter3d",
           "x": [
            0.002250246478036796,
            0.10224998520805115,
            null,
            0.10224998520805115,
            0.19324978310586102,
            null
           ],
           "y": [
            0,
            0,
            null,
            0,
            0,
            null
           ],
           "z": [
            0.001876470025477064,
            0.002105423474378539,
            null,
            0.002105423474378539,
            0.0019126830257658587,
            null
           ]
          },
          {
           "i": [],
           "j": [],
           "k": [],
           "name": "Faces",
           "type": "mesh3d",
           "x": {
            "bdata": "ktT+4BtvYj8eLXwWDi26P8cKM61ovMg/",
            "dtype": "f8"
           },
           "y": {
            "bdata": "AAAAAAAAAAAAAAAAAAAAAAAAAAAAAAAA",
            "dtype": "f8"
           },
           "z": {
            "bdata": "pNkLWXy+Xj+RGO+eZD9hP/oTxcJfVl8/",
            "dtype": "f8"
           }
          }
         ],
         "layout": {
          "annotations": [
           {
            "showarrow": false,
            "text": "Time: 0.08s (Step: 9/100)",
            "x": 0.05,
            "xref": "paper",
            "y": 0.95,
            "yref": "paper"
           }
          ]
         },
         "name": "8"
        },
        {
         "data": [
          {
           "name": "Free Nodes",
           "type": "scatter3d",
           "x": {
            "bdata": "4A3pPat7ZD8heE9UcD26P98W7DHUo8g/",
            "dtype": "f8"
           },
           "y": {
            "bdata": "AAAAAAAAAAAAAAAAAAAAAAAAAAAAAAAA",
            "dtype": "f8"
           },
           "z": {
            "bdata": "dFgR2YdMXj+zx5MNSXRhP6PYLIjC9F4/",
            "dtype": "f8"
           }
          },
          {
           "name": "Fixed Nodes",
           "type": "scatter3d",
           "x": [],
           "y": [],
           "z": []
          },
          {
           "name": "Edges",
           "type": "scatter3d",
           "x": [
            0.002500376183236716,
            0.10249998148307828,
            null,
            0.10249998148307828,
            0.19249966085060685,
            null
           ],
           "y": [
            0,
            0,
            null,
            0,
            0,
            null
           ],
           "z": [
            0.0018493010177471876,
            0.0021306444947350677,
            null,
            0.0021306444947350677,
            0.0018894099927826778,
            null
           ]
          },
          {
           "i": [],
           "j": [],
           "k": [],
           "name": "Faces",
           "type": "mesh3d",
           "x": {
            "bdata": "4A3pPat7ZD8heE9UcD26P98W7DHUo8g/",
            "dtype": "f8"
           },
           "y": {
            "bdata": "AAAAAAAAAAAAAAAAAAAAAAAAAAAAAAAA",
            "dtype": "f8"
           },
           "z": {
            "bdata": "dFgR2YdMXj+zx5MNSXRhP6PYLIjC9F4/",
            "dtype": "f8"
           }
          }
         ],
         "layout": {
          "annotations": [
           {
            "showarrow": false,
            "text": "Time: 0.09s (Step: 10/100)",
            "x": 0.05,
            "xref": "paper",
            "y": 0.95,
            "yref": "paper"
           }
          ]
         },
         "name": "9"
        },
        {
         "data": [
          {
           "name": "Free Nodes",
           "type": "scatter3d",
           "x": {
            "bdata": "WL2QRVOIZj9o1IOU0k26P9obmVE/i8g/",
            "dtype": "f8"
           },
           "y": {
            "bdata": "AAAAAAAAAAAAAAAAAAAAAAAAAAAAAAAA",
            "dtype": "f8"
           },
           "z": {
            "bdata": "kLUDArXPXT91Ox+g8q5hP36sDBXvhl4/",
            "dtype": "f8"
           }
          },
          {
           "name": "Fixed Nodes",
           "type": "scatter3d",
           "x": [],
           "y": [],
           "z": []
          },
          {
           "name": "Edges",
           "type": "scatter3d",
           "x": [
            0.002750551834217834,
            0.10274997831204902,
            null,
            0.10274997831204902,
            0.19174949154168425,
            null
           ],
           "y": [
            0,
            0,
            null,
            0,
            0,
            null
           ],
           "z": [
            0.0018195407538386978,
            0.00215861690319435,
            null,
            0.00215861690319435,
            0.001863225439772603,
            null
           ]
          },
          {
           "i": [],
           "j": [],
           "k": [],
           "name": "Faces",
           "type": "mesh3d",
           "x": {
            "bdata": "WL2QRVOIZj9o1IOU0k26P9obmVE/i8g/",
            "dtype": "f8"
           },
           "y": {
            "bdata": "AAAAAAAAAAAAAAAAAAAAAAAAAAAAAAAA",
            "dtype": "f8"
           },
           "z": {
            "bdata": "kLUDArXPXT91Ox+g8q5hP36sDBXvhl4/",
            "dtype": "f8"
           }
          }
         ],
         "layout": {
          "annotations": [
           {
            "showarrow": false,
            "text": "Time: 0.10s (Step: 11/100)",
            "x": 0.05,
            "xref": "paper",
            "y": 0.95,
            "yref": "paper"
           }
          ]
         },
         "name": "10"
        },
        {
         "data": [
          {
           "name": "Free Nodes",
           "type": "scatter3d",
           "x": {
            "bdata": "Zoc0MhmVaD+Blz/aNF66P5nJKvSpcsg/",
            "dtype": "f8"
           },
           "y": {
            "bdata": "AAAAAAAAAAAAAAAAAAAAAAAAAAAAAAAA",
            "dtype": "f8"
           },
           "z": {
            "bdata": "lDQQEyxIXT/h27S4VO9hP8mrqaHvDF4/",
            "dtype": "f8"
           }
          },
          {
           "name": "Fixed Nodes",
           "type": "scatter3d",
           "x": [],
           "y": [],
           "z": []
          },
          {
           "name": "Edges",
           "type": "scatter3d",
           "x": [
            0.0030007831679918382,
            0.10299997642832005,
            null,
            0.10299997642832005,
            0.19099926397536818,
            null
           ],
           "y": [
            0,
            0,
            null,
            0,
            0,
            null
           ],
           "z": [
            0.0017872267164904853,
            0.0021893171994196024,
            null,
            0.0021893171994196024,
            0.0018341388846703102,
            null
           ]
          },
          {
           "i": [],
           "j": [],
           "k": [],
           "name": "Faces",
           "type": "mesh3d",
           "x": {
            "bdata": "Zoc0MhmVaD+Blz/aNF66P5nJKvSpcsg/",
            "dtype": "f8"
           },
           "y": {
            "bdata": "AAAAAAAAAAAAAAAAAAAAAAAAAAAAAAAA",
            "dtype": "f8"
           },
           "z": {
            "bdata": "lDQQEyxIXT/h27S4VO9hP8mrqaHvDF4/",
            "dtype": "f8"
           }
          }
         ],
         "layout": {
          "annotations": [
           {
            "showarrow": false,
            "text": "Time: 0.11s (Step: 12/100)",
            "x": 0.05,
            "xref": "paper",
            "y": 0.95,
            "yref": "paper"
           }
          ]
         },
         "name": "11"
        },
        {
         "data": [
          {
           "name": "Free Nodes",
           "type": "scatter3d",
           "x": {
            "bdata": "ckNLtgKiaj+o05Upl266P4IyxP4TWsg/",
            "dtype": "f8"
           },
           "y": {
            "bdata": "AAAAAAAAAAAAAAAAAAAAAAAAAAAAAAAA",
            "dtype": "f8"
           },
           "z": {
            "bdata": "63VaRhm2XD/3mnuGYDViPxduRDfThl0/",
            "dtype": "f8"
           }
          },
          {
           "name": "Fixed Nodes",
           "type": "scatter3d",
           "x": [],
           "y": [],
           "z": []
          },
          {
           "name": "Edges",
           "type": "scatter3d",
           "x": [
            0.0032510807962826066,
            0.10324997678055914,
            null,
            0.10324997678055914,
            0.19024896564259924,
            null
           ],
           "y": [
            0,
            0,
            null,
            0,
            0,
            null
           ],
           "z": [
            0.001752400095404889,
            0.002222717786810487,
            null,
            0.002222717786810487,
            0.001802164330974137,
            null
           ]
          },
          {
           "i": [],
           "j": [],
           "k": [],
           "name": "Faces",
           "type": "mesh3d",
           "x": {
            "bdata": "ckNLtgKiaj+o05Upl266P4IyxP4TWsg/",
            "dtype": "f8"
           },
           "y": {
            "bdata": "AAAAAAAAAAAAAAAAAAAAAAAAAAAAAAAA",
            "dtype": "f8"
           },
           "z": {
            "bdata": "63VaRhm2XD/3mnuGYDViPxduRDfThl0/",
            "dtype": "f8"
           }
          }
         ],
         "layout": {
          "annotations": [
           {
            "showarrow": false,
            "text": "Time: 0.12s (Step: 13/100)",
            "x": 0.05,
            "xref": "paper",
            "y": 0.95,
            "yref": "paper"
           }
          ]
         },
         "name": "12"
        },
        {
         "data": [
          {
           "name": "Free Nodes",
           "type": "scatter3d",
           "x": {
            "bdata": "VtIv9hWvbD++Sp+H+X66PzEpu1N9Qcg/",
            "dtype": "f8"
           },
           "y": {
            "bdata": "AAAAAAAAAAAAAAAAAAAAAAAAAAAAAAAA",
            "dtype": "f8"
           },
           "z": {
            "bdata": "n07i3KwZXD/I0Er0BIFiPxu+f+mt9Fw/",
            "dtype": "f8"
           }
          },
          {
           "name": "Fixed Nodes",
           "type": "scatter3d",
           "x": [],
           "y": [],
           "z": []
          },
          {
           "name": "Edges",
           "type": "scatter3d",
           "x": [
            0.003501456159478426,
            0.10349998055543616,
            null,
            0.10349998055543616,
            0.1894985827296494,
            null
           ],
           "y": [
            0,
            0,
            null,
            0,
            0,
            null
           ],
           "z": [
            0.001715105830531728,
            0.0022587868464488438,
            null,
            0.0022587868464488438,
            0.0017673204765705833,
            null
           ]
          },
          {
           "i": [],
           "j": [],
           "k": [],
           "name": "Faces",
           "type": "mesh3d",
           "x": {
            "bdata": "VtIv9hWvbD++Sp+H+X66PzEpu1N9Qcg/",
            "dtype": "f8"
           },
           "y": {
            "bdata": "AAAAAAAAAAAAAAAAAAAAAAAAAAAAAAAA",
            "dtype": "f8"
           },
           "z": {
            "bdata": "n07i3KwZXD/I0Er0BIFiPxu+f+mt9Fw/",
            "dtype": "f8"
           }
          }
         ],
         "layout": {
          "annotations": [
           {
            "showarrow": false,
            "text": "Time: 0.13s (Step: 14/100)",
            "x": 0.05,
            "xref": "paper",
            "y": 0.95,
            "yref": "paper"
           }
          ]
         },
         "name": "13"
        },
        {
         "data": [
          {
           "name": "Free Nodes",
           "type": "scatter3d",
           "x": {
            "bdata": "e/r9gVm8bj8U/JL6W4+6Pzs/mNLlKMg/",
            "dtype": "f8"
           },
           "y": {
            "bdata": "AAAAAAAAAAAAAAAAAAAAAAAAAAAAAAAA",
            "dtype": "f8"
           },
           "z": {
            "bdata": "rXDNKRtzWz9/w/iWLtJiPy3R3BGZVlw/",
            "dtype": "f8"
           }
          },
          {
           "name": "Fixed Nodes",
           "type": "scatter3d",
           "x": [],
           "y": [],
           "z": []
          },
          {
           "name": "Edges",
           "type": "scatter3d",
           "x": [
            0.0037519214819775027,
            0.10374998919995476,
            null,
            0.10374998919995476,
            0.18874810011811313,
            null
           ],
           "y": [
            0,
            0,
            null,
            0,
            0,
            null
           ],
           "z": [
            0.0016753926531328054,
            0.0022974882083634514,
            null,
            0.0022974882083634514,
            0.0017296309301402899,
            null
           ]
          },
          {
           "i": [],
           "j": [],
           "k": [],
           "name": "Faces",
           "type": "mesh3d",
           "x": {
            "bdata": "e/r9gVm8bj8U/JL6W4+6Pzs/mNLlKMg/",
            "dtype": "f8"
           },
           "y": {
            "bdata": "AAAAAAAAAAAAAAAAAAAAAAAAAAAAAAAA",
            "dtype": "f8"
           },
           "z": {
            "bdata": "rXDNKRtzWz9/w/iWLtJiPy3R3BGZVlw/",
            "dtype": "f8"
           }
          }
         ],
         "layout": {
          "annotations": [
           {
            "showarrow": false,
            "text": "Time: 0.14s (Step: 15/100)",
            "x": 0.05,
            "xref": "paper",
            "y": 0.95,
            "yref": "paper"
           }
          ]
         },
         "name": "14"
        },
        {
         "data": [
          {
           "name": "Free Nodes",
           "type": "scatter3d",
           "x": {
            "bdata": "DuExJ+pkcD/n8t2Jvp+6P0qxG1hNEMg/",
            "dtype": "f8"
           },
           "y": {
            "bdata": "AAAAAAAAAAAAAAAAAAAAAAAAAAAAAAAA",
            "dtype": "f8"
           },
           "z": {
            "bdata": "LKcEnZzCWj/WakubxyhjP0/9Wo2zrFs/",
            "dtype": "f8"
           }
          },
          {
           "name": "Fixed Nodes",
           "type": "scatter3d",
           "x": [],
           "y": [],
           "z": []
          },
          {
           "name": "Edges",
           "type": "scatter3d",
           "x": [
            0.004002489719930459,
            0.1040000044431043,
            null,
            0.1040000044431043,
            0.18799750139386112,
            null
           ],
           "y": [
            0,
            0,
            null,
            0,
            0,
            null
           ],
           "z": [
            0.0016333131243961392,
            0.0023387812201297415,
            null,
            0.0023387812201297415,
            0.001689124435344375,
            null
           ]
          },
          {
           "i": [],
           "j": [],
           "k": [],
           "name": "Faces",
           "type": "mesh3d",
           "x": {
            "bdata": "DuExJ+pkcD/n8t2Jvp+6P0qxG1hNEMg/",
            "dtype": "f8"
           },
           "y": {
            "bdata": "AAAAAAAAAAAAAAAAAAAAAAAAAAAAAAAA",
            "dtype": "f8"
           },
           "z": {
            "bdata": "LKcEnZzCWj/WakubxyhjP0/9Wo2zrFs/",
            "dtype": "f8"
           }
          }
         ],
         "layout": {
          "annotations": [
           {
            "showarrow": false,
            "text": "Time: 0.15s (Step: 16/100)",
            "x": 0.05,
            "xref": "paper",
            "y": 0.95,
            "yref": "paper"
           }
          ]
         },
         "name": "15"
        },
        {
         "data": [
          {
           "name": "Free Nodes",
           "type": "scatter3d",
           "x": {
            "bdata": "muc11sZrcT8vCzo+IbC6P854R76z98c/",
            "dtype": "f8"
           },
           "y": {
            "bdata": "AAAAAAAAAAAAAAAAAAAAAAAAAAAAAAAA",
            "dtype": "f8"
           },
           "z": {
            "bdata": "OJsVzW0IWj94Qouzt4RjP7mqSvwh91o/",
            "dtype": "f8"
           }
          },
          {
           "name": "Fixed Nodes",
           "type": "scatter3d",
           "x": [],
           "y": [],
           "z": []
          },
          {
           "name": "Edges",
           "type": "scatter3d",
           "x": [
            0.00425317450150855,
            0.10425002831656792,
            null,
            0.10425002831656792,
            0.1872467688653558,
            null
           ],
           "y": [
            0,
            0,
            null,
            0,
            0,
            null
           ],
           "z": [
            0.0015889236713861454,
            0.002382620612799532,
            null,
            0.002382620612799532,
            0.001645835103014788,
            null
           ]
          },
          {
           "i": [],
           "j": [],
           "k": [],
           "name": "Faces",
           "type": "mesh3d",
           "x": {
            "bdata": "muc11sZrcT8vCzo+IbC6P854R76z98c/",
            "dtype": "f8"
           },
           "y": {
            "bdata": "AAAAAAAAAAAAAAAAAAAAAAAAAAAAAAAA",
            "dtype": "f8"
           },
           "z": {
            "bdata": "OJsVzW0IWj94Qouzt4RjP7mqSvwh91o/",
            "dtype": "f8"
           }
          }
         ],
         "layout": {
          "annotations": [
           {
            "showarrow": false,
            "text": "Time: 0.16s (Step: 17/100)",
            "x": 0.05,
            "xref": "paper",
            "y": 0.95,
            "yref": "paper"
           }
          ]
         },
         "name": "16"
        },
        {
         "data": [
          {
           "name": "Free Nodes",
           "type": "scatter3d",
           "x": {
            "bdata": "TJMhoMZycj9fVsMhhMC6P0DQbtwY38c/",
            "dtype": "f8"
           },
           "y": {
            "bdata": "AAAAAAAAAAAAAAAAAAAAAAAAAAAAAAAA",
            "dtype": "f8"
           },
           "z": {
            "bdata": "EQdJgM9EWT+IbLgE5OVjP5+WYgQPNlo/",
            "dtype": "f8"
           }
          },
          {
           "name": "Fixed Nodes",
           "type": "scatter3d",
           "x": [],
           "y": [],
           "z": []
          },
          {
           "name": "Edges",
           "type": "scatter3d",
           "x": [
            0.004503990059764384,
            0.10450006317417991,
            null,
            0.10450006317417991,
            0.18649588359187597,
            null
           ],
           "y": [
            0,
            0,
            null,
            0,
            0,
            null
           ],
           "z": [
            0.0015422846201009236,
            0.0024289563641680147,
            null,
            0.0024289563641680147,
            0.0015998026515630437,
            null
           ]
          },
          {
           "i": [],
           "j": [],
           "k": [],
           "name": "Faces",
           "type": "mesh3d",
           "x": {
            "bdata": "TJMhoMZycj9fVsMhhMC6P0DQbtwY38c/",
            "dtype": "f8"
           },
           "y": {
            "bdata": "AAAAAAAAAAAAAAAAAAAAAAAAAAAAAAAA",
            "dtype": "f8"
           },
           "z": {
            "bdata": "EQdJgM9EWT+IbLgE5OVjP5+WYgQPNlo/",
            "dtype": "f8"
           }
          }
         ],
         "layout": {
          "annotations": [
           {
            "showarrow": false,
            "text": "Time: 0.17s (Step: 18/100)",
            "x": 0.05,
            "xref": "paper",
            "y": 0.95,
            "yref": "paper"
           }
          ]
         },
         "name": "17"
        },
        {
         "data": [
          {
           "name": "Free Nodes",
           "type": "scatter3d",
           "x": {
            "bdata": "O7R5e+15cz/YwQtA59C6P7+jS4d8xsc/",
            "dtype": "f8"
           },
           "y": {
            "bdata": "AAAAAAAAAAAAAAAAAAAAAAAAAAAAAAAA",
            "dtype": "f8"
           },
           "z": {
            "bdata": "p/bbtAZ4WD+O+WITL0xkP/ByJZWraVk/",
            "dtype": "f8"
           }
          },
          {
           "name": "Fixed Nodes",
           "type": "scatter3d",
           "x": [],
           "y": [],
           "z": []
          },
          {
           "name": "Edges",
           "type": "scatter3d",
           "x": [
            0.004754951157889538,
            0.10475011170979742,
            null,
            0.10475011170979742,
            0.18574482542251577,
            null
           ],
           "y": [
            0,
            0,
            null,
            0,
            0,
            null
           ],
           "z": [
            0.0014934602253896896,
            0.0024777335594016797,
            null,
            0.0024777335594016797,
            0.0015510726558069475,
            null
           ]
          },
          {
           "i": [],
           "j": [],
           "k": [],
           "name": "Faces",
           "type": "mesh3d",
           "x": {
            "bdata": "O7R5e+15cz/YwQtA59C6P7+jS4d8xsc/",
            "dtype": "f8"
           },
           "y": {
            "bdata": "AAAAAAAAAAAAAAAAAAAAAAAAAAAAAAAA",
            "dtype": "f8"
           },
           "z": {
            "bdata": "p/bbtAZ4WD+O+WITL0xkP/ByJZWraVk/",
            "dtype": "f8"
           }
          }
         ],
         "layout": {
          "annotations": [
           {
            "showarrow": false,
            "text": "Time: 0.18s (Step: 19/100)",
            "x": 0.05,
            "xref": "paper",
            "y": 0.95,
            "yref": "paper"
           }
          ]
         },
         "name": "18"
        },
        {
         "data": [
          {
           "name": "Free Nodes",
           "type": "scatter3d",
           "x": {
            "bdata": "B5bu82iCcT+9u1HGavG6P8sCQiW1tcc/",
            "dtype": "f8"
           },
           "y": {
            "bdata": "AAAAAAAAAAAAAAAAAAAAAAAAAAAAAAAA",
            "dtype": "f8"
           },
           "z": {
            "bdata": "SBkCiX+VVj8gpRWtf9VkPwaiNFrwJlk/",
            "dtype": "f8"
           }
          },
          {
           "name": "Fixed Nodes",
           "type": "scatter3d",
           "x": [],
           "y": [],
           "z": []
          },
          {
           "name": "Edges",
           "type": "scatter3d",
           "x": [
            0.0042747592660012995,
            0.10524623243121219,
            null,
            0.10524623243121219,
            0.18523277587157447,
            null
           ],
           "y": [
            0,
            0,
            null,
            0,
            0,
            null
           ],
           "z": [
            0.0013784165821860307,
            0.0025432103799870737,
            null,
            0.0025432103799870737,
            0.0015351626578398183,
            null
           ]
          },
          {
           "i": [],
           "j": [],
           "k": [],
           "name": "Faces",
           "type": "mesh3d",
           "x": {
            "bdata": "B5bu82iCcT+9u1HGavG6P8sCQiW1tcc/",
            "dtype": "f8"
           },
           "y": {
            "bdata": "AAAAAAAAAAAAAAAAAAAAAAAAAAAAAAAA",
            "dtype": "f8"
           },
           "z": {
            "bdata": "SBkCiX+VVj8gpRWtf9VkPwaiNFrwJlk/",
            "dtype": "f8"
           }
          }
         ],
         "layout": {
          "annotations": [
           {
            "showarrow": false,
            "text": "Time: 0.19s (Step: 20/100)",
            "x": 0.05,
            "xref": "paper",
            "y": 0.95,
            "yref": "paper"
           }
          ]
         },
         "name": "19"
        },
        {
         "data": [
          {
           "name": "Free Nodes",
           "type": "scatter3d",
           "x": {
            "bdata": "DFeg7zHMbj/xEm1/ZxK7P+qeB+yapcc/",
            "dtype": "f8"
           },
           "y": {
            "bdata": "AAAAAAAAAAAAAAAAAAAAAAAAAAAAAAAA",
            "dtype": "f8"
           },
           "z": {
            "bdata": "YhdJMpqoVD/14SfUZGRlP5iwpBRB2Fg/",
            "dtype": "f8"
           }
          },
          {
           "name": "Fixed Nodes",
           "type": "scatter3d",
           "x": [],
           "y": [],
           "z": []
          },
          {
           "name": "Edges",
           "type": "scatter3d",
           "x": [
            0.0037594771683967573,
            0.10574957715023083,
            null,
            0.10574957715023083,
            0.1847413685311417,
            null
           ],
           "y": [
            0,
            0,
            null,
            0,
            0,
            null
           ],
           "z": [
            0.001260901052903184,
            0.0026113480864717827,
            null,
            0.0026113480864717827,
            0.0015164027741532467,
            null
           ]
          },
          {
           "i": [],
           "j": [],
           "k": [],
           "name": "Faces",
           "type": "mesh3d",
           "x": {
            "bdata": "DFeg7zHMbj/xEm1/ZxK7P+qeB+yapcc/",
            "dtype": "f8"
           },
           "y": {
            "bdata": "AAAAAAAAAAAAAAAAAAAAAAAAAAAAAAAA",
            "dtype": "f8"
           },
           "z": {
            "bdata": "YhdJMpqoVD/14SfUZGRlP5iwpBRB2Fg/",
            "dtype": "f8"
           }
          }
         ],
         "layout": {
          "annotations": [
           {
            "showarrow": false,
            "text": "Time: 0.20s (Step: 21/100)",
            "x": 0.05,
            "xref": "paper",
            "y": 0.95,
            "yref": "paper"
           }
          ]
         },
         "name": "20"
        },
        {
         "data": [
          {
           "name": "Free Nodes",
           "type": "scatter3d",
           "x": {
            "bdata": "iqBS5om1aj/SrYr5KTO7P+I6DxIzlcc/",
            "dtype": "f8"
           },
           "y": {
            "bdata": "AAAAAAAAAAAAAAAAAAAAAAAAAAAAAAAA",
            "dtype": "f8"
           },
           "z": {
            "bdata": "yJ/6bb20Uj8Ol+zVffdlP85T4NG5f1g/",
            "dtype": "f8"
           }
          },
          {
           "name": "Fixed Nodes",
           "type": "scatter3d",
           "x": [],
           "y": [],
           "z": []
          },
          {
           "name": "Edges",
           "type": "scatter3d",
           "x": [
            0.003260392508838865,
            0.10624945013358136,
            null,
            0.10624945013358136,
            0.1842407072239985,
            null
           ],
           "y": [
            0,
            0,
            null,
            0,
            0,
            null
           ],
           "z": [
            0.0011417245768061569,
            0.0026814897277230914,
            null,
            0.0026814897277230914,
            0.0014952959677476565,
            null
           ]
          },
          {
           "i": [],
           "j": [],
           "k": [],
           "name": "Faces",
           "type": "mesh3d",
           "x": {
            "bdata": "iqBS5om1aj/SrYr5KTO7P+I6DxIzlcc/",
            "dtype": "f8"
           },
           "y": {
            "bdata": "AAAAAAAAAAAAAAAAAAAAAAAAAAAAAAAA",
            "dtype": "f8"
           },
           "z": {
            "bdata": "yJ/6bb20Uj8Ol+zVffdlP85T4NG5f1g/",
            "dtype": "f8"
           }
          }
         ],
         "layout": {
          "annotations": [
           {
            "showarrow": false,
            "text": "Time: 0.21s (Step: 22/100)",
            "x": 0.05,
            "xref": "paper",
            "y": 0.95,
            "yref": "paper"
           }
          ]
         },
         "name": "21"
        },
        {
         "data": [
          {
           "name": "Free Nodes",
           "type": "scatter3d",
           "x": {
            "bdata": "tlXLljqjZj98avlj6FO7P2Kb3uS9hMc/",
            "dtype": "f8"
           },
           "y": {
            "bdata": "AAAAAAAAAAAAAAAAAAAAAAAAAAAAAAAA",
            "dtype": "f8"
           },
           "z": {
            "bdata": "qN8sFnm5UD8RFkyI745mP+EXMGA3HVg/",
            "dtype": "f8"
           }
          },
          {
           "name": "Fixed Nodes",
           "type": "scatter3d",
           "x": [],
           "y": [],
           "z": []
          },
          {
           "name": "Edges",
           "type": "scatter3d",
           "x": [
            0.0027633804623785297,
            0.1067490810468516,
            null,
            0.1067490810468516,
            0.1837384574439183,
            null
           ],
           "y": [
            0,
            0,
            null,
            0,
            0,
            null
           ],
           "z": [
            0.0010207827078385443,
            0.0027537039153482453,
            null,
            0.0027537039153482453,
            0.0014718094614649612,
            null
           ]
          },
          {
           "i": [],
           "j": [],
           "k": [],
           "name": "Faces",
           "type": "mesh3d",
           "x": {
            "bdata": "tlXLljqjZj98avlj6FO7P2Kb3uS9hMc/",
            "dtype": "f8"
           },
           "y": {
            "bdata": "AAAAAAAAAAAAAAAAAAAAAAAAAAAAAAAA",
            "dtype": "f8"
           },
           "z": {
            "bdata": "qN8sFnm5UD8RFkyI745mP+EXMGA3HVg/",
            "dtype": "f8"
           }
          }
         ],
         "layout": {
          "annotations": [
           {
            "showarrow": false,
            "text": "Time: 0.22s (Step: 23/100)",
            "x": 0.05,
            "xref": "paper",
            "y": 0.95,
            "yref": "paper"
           }
          ]
         },
         "name": "22"
        },
        {
         "data": [
          {
           "name": "Free Nodes",
           "type": "scatter3d",
           "x": {
            "bdata": "6frYFfWQYj/anlQIp3S7P24wh1ZIdMc/",
            "dtype": "f8"
           },
           "y": {
            "bdata": "AAAAAAAAAAAAAAAAAAAAAAAAAAAAAAAA",
            "dtype": "f8"
           },
           "z": {
            "bdata": "0UKyjy9uTT8j50i5lipnP9eRkOr7sFc/",
            "dtype": "f8"
           }
          },
          {
           "name": "Fixed Nodes",
           "type": "scatter3d",
           "x": [],
           "y": [],
           "z": []
          },
          {
           "name": "Edges",
           "type": "scatter3d",
           "x": [
            0.0022663866828048673,
            0.10724872544653455,
            null,
            0.10724872544653455,
            0.18323616242412605,
            null
           ],
           "y": [
            0,
            0,
            null,
            0,
            0,
            null
           ],
           "z": [
            0.0008981449349381947,
            0.002827925093041099,
            null,
            0.002827925093041099,
            0.0014460048789796032,
            null
           ]
          },
          {
           "i": [],
           "j": [],
           "k": [],
           "name": "Faces",
           "type": "mesh3d",
           "x": {
            "bdata": "6frYFfWQYj/anlQIp3S7P24wh1ZIdMc/",
            "dtype": "f8"
           },
           "y": {
            "bdata": "AAAAAAAAAAAAAAAAAAAAAAAAAAAAAAAA",
            "dtype": "f8"
           },
           "z": {
            "bdata": "0UKyjy9uTT8j50i5lipnP9eRkOr7sFc/",
            "dtype": "f8"
           }
          }
         ],
         "layout": {
          "annotations": [
           {
            "showarrow": false,
            "text": "Time: 0.23s (Step: 24/100)",
            "x": 0.05,
            "xref": "paper",
            "y": 0.95,
            "yref": "paper"
           }
          ]
         },
         "name": "23"
        },
        {
         "data": [
          {
           "name": "Free Nodes",
           "type": "scatter3d",
           "x": {
            "bdata": "TX7nbo3+XD9VeTJLZZW7P+HqIs3QY8c/",
            "dtype": "f8"
           },
           "y": {
            "bdata": "AAAAAAAAAAAAAAAAAAAAAAAAAAAAAAAA",
            "dtype": "f8"
           },
           "z": {
            "bdata": "/n1jhh5cST9b8Z3sO8pnP2DL46FvO1c/",
            "dtype": "f8"
           }
          },
          {
           "name": "Fixed Nodes",
           "type": "scatter3d",
           "x": [],
           "y": [],
           "z": []
          },
          {
           "name": "Edges",
           "type": "scatter3d",
           "x": [
            0.001769674414042205,
            0.10774834714763888,
            null,
            0.10774834714763888,
            0.18273363129068002,
            null
           ],
           "y": [
            0,
            0,
            null,
            0,
            0,
            null
           ],
           "z": [
            0.0007739209220538055,
            0.002904049911135837,
            null,
            0.002904049911135837,
            0.001417979255674516,
            null
           ]
          },
          {
           "i": [],
           "j": [],
           "k": [],
           "name": "Faces",
           "type": "mesh3d",
           "x": {
            "bdata": "TX7nbo3+XD9VeTJLZZW7P+HqIs3QY8c/",
            "dtype": "f8"
           },
           "y": {
            "bdata": "AAAAAAAAAAAAAAAAAAAAAAAAAAAAAAAA",
            "dtype": "f8"
           },
           "z": {
            "bdata": "/n1jhh5cST9b8Z3sO8pnP2DL46FvO1c/",
            "dtype": "f8"
           }
          }
         ],
         "layout": {
          "annotations": [
           {
            "showarrow": false,
            "text": "Time: 0.24s (Step: 25/100)",
            "x": 0.05,
            "xref": "paper",
            "y": 0.95,
            "yref": "paper"
           }
          ]
         },
         "name": "24"
        },
        {
         "data": [
          {
           "name": "Free Nodes",
           "type": "scatter3d",
           "x": {
            "bdata": "DDF9P7TcVD/T7zEsI7a7P/xIgp5WU8c/",
            "dtype": "f8"
           },
           "y": {
            "bdata": "AAAAAAAAAAAAAAAAAAAAAAAAAAAAAAAA",
            "dtype": "f8"
           },
           "z": {
            "bdata": "IN82J6U9RT8xjeMkp21oP3irY3D/vFY/",
            "dtype": "f8"
           }
          },
          {
           "name": "Fixed Nodes",
           "type": "scatter3d",
           "x": [],
           "y": [],
           "z": []
          },
          {
           "name": "Edges",
           "type": "scatter3d",
           "x": [
            0.0012733230814375189,
            0.10824794606190773,
            null,
            0.10824794606190773,
            0.18223078479474697,
            null
           ],
           "y": [
            0,
            0,
            null,
            0,
            0,
            null
           ],
           "z": [
            0.0006482178127304762,
            0.0029819740803859397,
            null,
            0.0029819740803859397,
            0.0013878340264976401,
            null
           ]
          },
          {
           "i": [],
           "j": [],
           "k": [],
           "name": "Faces",
           "type": "mesh3d",
           "x": {
            "bdata": "DDF9P7TcVD/T7zEsI7a7P/xIgp5WU8c/",
            "dtype": "f8"
           },
           "y": {
            "bdata": "AAAAAAAAAAAAAAAAAAAAAAAAAAAAAAAA",
            "dtype": "f8"
           },
           "z": {
            "bdata": "IN82J6U9RT8xjeMkp21oP3irY3D/vFY/",
            "dtype": "f8"
           }
          }
         ],
         "layout": {
          "annotations": [
           {
            "showarrow": false,
            "text": "Time: 0.25s (Step: 26/100)",
            "x": 0.05,
            "xref": "paper",
            "y": 0.95,
            "yref": "paper"
           }
          ]
         },
         "name": "25"
        },
        {
         "data": [
          {
           "name": "Free Nodes",
           "type": "scatter3d",
           "x": {
            "bdata": "BoeeFcl4ST9CqybE4Na7P2bp9qXZQsc/",
            "dtype": "f8"
           },
           "y": {
            "bdata": "AAAAAAAAAAAAAAAAAAAAAAAAAAAAAAAA",
            "dtype": "f8"
           },
           "z": {
            "bdata": "sHyci6cTQT+DYEs9nxRpP2iPkdwdNlY/",
            "dtype": "f8"
           }
          },
          {
           "name": "Fixed Nodes",
           "type": "scatter3d",
           "x": [],
           "y": [],
           "z": []
          },
          {
           "name": "Edges",
           "type": "scatter3d",
           "x": [
            0.0007773382051150253,
            0.10874752796978007,
            null,
            0.10874752796978007,
            0.18172760585532471,
            null
           ],
           "y": [
            0,
            0,
            null,
            0,
            0,
            null
           ],
           "z": [
            0.0005211418240128798,
            0.003061591162218548,
            null,
            0.003061591162218548,
            0.0013556758515500204,
            null
           ]
          },
          {
           "i": [],
           "j": [],
           "k": [],
           "name": "Faces",
           "type": "mesh3d",
           "x": {
            "bdata": "BoeeFcl4ST9CqybE4Na7P2bp9qXZQsc/",
            "dtype": "f8"
           },
           "y": {
            "bdata": "AAAAAAAAAAAAAAAAAAAAAAAAAAAAAAAA",
            "dtype": "f8"
           },
           "z": {
            "bdata": "sHyci6cTQT+DYEs9nxRpP2iPkdwdNlY/",
            "dtype": "f8"
           }
          }
         ],
         "layout": {
          "annotations": [
           {
            "showarrow": false,
            "text": "Time: 0.26s (Step: 27/100)",
            "x": 0.05,
            "xref": "paper",
            "y": 0.95,
            "yref": "paper"
           }
          ]
         },
         "name": "26"
        },
        {
         "data": [
          {
           "name": "Free Nodes",
           "type": "scatter3d",
           "x": {
            "bdata": "lWe2jo92Mj/vNFosnve7PwqjEb9ZMsc/",
            "dtype": "f8"
           },
           "y": {
            "bdata": "AAAAAAAAAAAAAAAAAAAAAAAAAAAAAAAA",
            "dtype": "f8"
           },
           "z": {
            "bdata": "YzyGzBW+OT9OxrQh6b5pP32nmJ1Ep1U/",
            "dtype": "f8"
           }
          },
          {
           "name": "Fixed Nodes",
           "type": "scatter3d",
           "x": [],
           "y": [],
           "z": []
          },
          {
           "name": "Edges",
           "type": "scatter3d",
           "x": [
            0.00028172497578681763,
            0.10924709875890291,
            null,
            0.10924709875890291,
            0.18122407750640718,
            null
           ],
           "y": [
            0,
            0,
            null,
            0,
            0,
            null
           ],
           "z": [
            0.0003927996845271618,
            0.0031427911141228898,
            null,
            0.0031427911141228898,
            0.0013216180872270549,
            null
           ]
          },
          {
           "i": [],
           "j": [],
           "k": [],
           "name": "Faces",
           "type": "mesh3d",
           "x": {
            "bdata": "lWe2jo92Mj/vNFosnve7PwqjEb9ZMsc/",
            "dtype": "f8"
           },
           "y": {
            "bdata": "AAAAAAAAAAAAAAAAAAAAAAAAAAAAAAAA",
            "dtype": "f8"
           },
           "z": {
            "bdata": "YzyGzBW+OT9OxrQh6b5pP32nmJ1Ep1U/",
            "dtype": "f8"
           }
          }
         ],
         "layout": {
          "annotations": [
           {
            "showarrow": false,
            "text": "Time: 0.27s (Step: 28/100)",
            "x": 0.05,
            "xref": "paper",
            "y": 0.95,
            "yref": "paper"
           }
          ]
         },
         "name": "27"
        },
        {
         "data": [
          {
           "name": "Free Nodes",
           "type": "scatter3d",
           "x": {
            "bdata": "uno+BTn8K79SbJt/Wxi8P3cW2cHWIcc/",
            "dtype": "f8"
           },
           "y": {
            "bdata": "AAAAAAAAAAAAAAAAAAAAAAAAAAAAAAAA",
            "dtype": "f8"
           },
           "z": {
            "bdata": "odlA/2pBMT+qNGu6R2xqP79GEO70EFU/",
            "dtype": "f8"
           }
          },
          {
           "name": "Fixed Nodes",
           "type": "scatter3d",
           "x": [],
           "y": [],
           "z": []
          },
          {
           "name": "Edges",
           "type": "scatter3d",
           "x": [
            -0.00021351047564351582,
            0.10974666467102281,
            null,
            0.10974666467102281,
            0.18072018113359764,
            null
           ],
           "y": [
            0,
            0,
            null,
            0,
            0,
            null
           ],
           "z": [
            0.00026329862817267054,
            0.003225460142266619,
            null,
            0.003225460142266619,
            0.0012857810872940881,
            null
           ]
          },
          {
           "i": [],
           "j": [],
           "k": [],
           "name": "Faces",
           "type": "mesh3d",
           "x": {
            "bdata": "uno+BTn8K79SbJt/Wxi8P3cW2cHWIcc/",
            "dtype": "f8"
           },
           "y": {
            "bdata": "AAAAAAAAAAAAAAAAAAAAAAAAAAAAAAAA",
            "dtype": "f8"
           },
           "z": {
            "bdata": "odlA/2pBMT+qNGu6R2xqP79GEO70EFU/",
            "dtype": "f8"
           }
          }
         ],
         "layout": {
          "annotations": [
           {
            "showarrow": false,
            "text": "Time: 0.28s (Step: 29/100)",
            "x": 0.05,
            "xref": "paper",
            "y": 0.95,
            "yref": "paper"
           }
          ]
         },
         "name": "28"
        },
        {
         "data": [
          {
           "name": "Free Nodes",
           "type": "scatter3d",
           "x": {
            "bdata": "GzB9OC42R78/DHbaGDm8Pxmk9YZQEcc/",
            "dtype": "f8"
           },
           "y": {
            "bdata": "AAAAAAAAAAAAAAAAAAAAAAAAAAAAAAAA",
            "dtype": "f8"
           },
           "z": {
            "bdata": "IrHUCzpmIT9wfHvjexxrP+7HJMi3c1Q/",
            "dtype": "f8"
           }
          },
          {
           "name": "Fixed Nodes",
           "type": "scatter3d",
           "x": [],
           "y": [],
           "z": []
          },
          {
           "name": "Edges",
           "type": "scatter3d",
           "x": [
            -0.0007083631216828786,
            0.11024623235248131,
            null,
            0.11024623235248131,
            0.18021589841671995,
            null
           ],
           "y": [
            0,
            0,
            null,
            0,
            0,
            null
           ],
           "z": [
            0.0001327463013834985,
            0.003309480638435107,
            null,
            0.003309480638435107,
            0.0012482924217462848,
            null
           ]
          },
          {
           "i": [],
           "j": [],
           "k": [],
           "name": "Faces",
           "type": "mesh3d",
           "x": {
            "bdata": "GzB9OC42R78/DHbaGDm8Pxmk9YZQEcc/",
            "dtype": "f8"
           },
           "y": {
            "bdata": "AAAAAAAAAAAAAAAAAAAAAAAAAAAAAAAA",
            "dtype": "f8"
           },
           "z": {
            "bdata": "IrHUCzpmIT9wfHvjexxrP+7HJMi3c1Q/",
            "dtype": "f8"
           }
          }
         ],
         "layout": {
          "annotations": [
           {
            "showarrow": false,
            "text": "Time: 0.29s (Step: 30/100)",
            "x": 0.05,
            "xref": "paper",
            "y": 0.95,
            "yref": "paper"
           }
          ]
         },
         "name": "29"
        },
        {
         "data": [
          {
           "name": "Free Nodes",
           "type": "scatter3d",
           "x": {
            "bdata": "zWI8Fgi1U7+QQfta1lm8P1xqZOjGAMc/",
            "dtype": "f8"
           },
           "y": {
            "bdata": "AAAAAAAAAAAAAAAAAAAAAAAAAAAAAAAA",
            "dtype": "f8"
           },
           "z": {
            "bdata": "AI3wp8P7tD4TTfldRM9rP2Yfvi4e0FM/",
            "dtype": "f8"
           }
          },
          {
           "name": "Fixed Nodes",
           "type": "scatter3d",
           "x": [],
           "y": [],
           "z": []
          },
          {
           "name": "Edges",
           "type": "scatter3d",
           "x": [
            -0.0012028292630416493,
            0.11074580880381846,
            null,
            0.11074580880381846,
            0.17971121165540438,
            null
           ],
           "y": [
            0,
            0,
            null,
            0,
            0,
            null
           ],
           "z": [
            0.0000012507113351732766,
            0.0033947310728678153,
            null,
            0.0033947310728678153,
            0.001209287142929194,
            null
           ]
          },
          {
           "i": [],
           "j": [],
           "k": [],
           "name": "Faces",
           "type": "mesh3d",
           "x": {
            "bdata": "zWI8Fgi1U7+QQfta1lm8P1xqZOjGAMc/",
            "dtype": "f8"
           },
           "y": {
            "bdata": "AAAAAAAAAAAAAAAAAAAAAAAAAAAAAAAA",
            "dtype": "f8"
           },
           "z": {
            "bdata": "AI3wp8P7tD4TTfldRM9rP2Yfvi4e0FM/",
            "dtype": "f8"
           }
          }
         ],
         "layout": {
          "annotations": [
           {
            "showarrow": false,
            "text": "Time: 0.30s (Step: 31/100)",
            "x": 0.05,
            "xref": "paper",
            "y": 0.95,
            "yref": "paper"
           }
          ]
         },
         "name": "30"
        },
        {
         "data": [
          {
           "name": "Free Nodes",
           "type": "scatter3d",
           "x": {
            "bdata": "xhrwiVfNW78CeYMglHq8P1iaw8E58MY/",
            "dtype": "f8"
           },
           "y": {
            "bdata": "AAAAAAAAAAAAAAAAAAAAAAAAAAAAAAAA",
            "dtype": "f8"
           },
           "z": {
            "bdata": "TskeGE8uIb/QMuW/XYRsP8Jd/HrBJlM/",
            "dtype": "f8"
           }
          },
          {
           "name": "Fixed Nodes",
           "type": "scatter3d",
           "x": [],
           "y": [],
           "z": []
          },
          {
           "name": "Edges",
           "type": "scatter3d",
           "x": [
            -0.0016969065543449998,
            0.11124540132320607,
            null,
            0.11124540132320607,
            0.17920610390793246,
            null
           ],
           "y": [
            0,
            0,
            null,
            0,
            0,
            null
           ],
           "z": [
            -0.00013107982164013227,
            0.003481085877103808,
            null,
            0.003481085877103808,
            0.0011689080674325146,
            null
           ]
          },
          {
           "i": [],
           "j": [],
           "k": [],
           "name": "Faces",
           "type": "mesh3d",
           "x": {
            "bdata": "xhrwiVfNW78CeYMglHq8P1iaw8E58MY/",
            "dtype": "f8"
           },
           "y": {
            "bdata": "AAAAAAAAAAAAAAAAAAAAAAAAAAAAAAAA",
            "dtype": "f8"
           },
           "z": {
            "bdata": "TskeGE8uIb/QMuW/XYRsP8Jd/HrBJlM/",
            "dtype": "f8"
           }
          }
         ],
         "layout": {
          "annotations": [
           {
            "showarrow": false,
            "text": "Time: 0.31s (Step: 32/100)",
            "x": 0.05,
            "xref": "paper",
            "y": 0.95,
            "yref": "paper"
           }
          ]
         },
         "name": "31"
        },
        {
         "data": [
          {
           "name": "Free Nodes",
           "type": "scatter3d",
           "x": {
            "bdata": "rrDfPALyYb/0Z2pLUpu8P/JJvPCo38Y/",
            "dtype": "f8"
           },
           "y": {
            "bdata": "AAAAAAAAAAAAAAAAAAAAAAAAAAAAAAAA",
            "dtype": "f8"
           },
           "z": {
            "bdata": "XuWnjHpPMb9i3J5jgjttP6rXO6xDeFI/",
            "dtype": "f8"
           }
          },
          {
           "name": "Fixed Nodes",
           "type": "scatter3d",
           "x": [],
           "y": [],
           "z": []
          },
          {
           "name": "Edges",
           "type": "scatter3d",
           "x": [
            -0.002190594072990568,
            0.11174501744463311,
            null,
            0.11174501744463311,
            0.1787005591837239,
            null
           ],
           "y": [
            0,
            0,
            null,
            0,
            0,
            null
           ],
           "z": [
            -0.0002641367142640262,
            0.0035684153235382857,
            null,
            0.0035684153235382857,
            0.0011273060671874537,
            null
           ]
          },
          {
           "i": [],
           "j": [],
           "k": [],
           "name": "Faces",
           "type": "mesh3d",
           "x": {
            "bdata": "rrDfPALyYb/0Z2pLUpu8P/JJvPCo38Y/",
            "dtype": "f8"
           },
           "y": {
            "bdata": "AAAAAAAAAAAAAAAAAAAAAAAAAAAAAAAA",
            "dtype": "f8"
           },
           "z": {
            "bdata": "XuWnjHpPMb9i3J5jgjttP6rXO6xDeFI/",
            "dtype": "f8"
           }
          }
         ],
         "layout": {
          "annotations": [
           {
            "showarrow": false,
            "text": "Time: 0.32s (Step: 33/100)",
            "x": 0.05,
            "xref": "paper",
            "y": 0.95,
            "yref": "paper"
           }
          ]
         },
         "name": "32"
        },
        {
         "data": [
          {
           "name": "Free Nodes",
           "type": "scatter3d",
           "x": {
            "bdata": "BYOjwof8Zb+DZ8P8ELy8P6tZelUUz8Y/",
            "dtype": "f8"
           },
           "y": {
            "bdata": "AAAAAAAAAAAAAAAAAAAAAAAAAAAAAAAA",
            "dtype": "f8"
           },
           "z": {
            "bdata": "PRMe+ikSOr/xmdRWavRtP+hswrpPxVE/",
            "dtype": "f8"
           }
          },
          {
           "name": "Fixed Nodes",
           "type": "scatter3d",
           "x": [],
           "y": [],
           "z": []
          },
          {
           "name": "Edges",
           "type": "scatter3d",
           "x": [
            -0.0026838923996453956,
            0.11224466486910782,
            null,
            0.11224466486910782,
            0.17819456266142927,
            null
           ],
           "y": [
            0,
            0,
            null,
            0,
            0,
            null
           ],
           "z": [
            -0.0003978111727678707,
            0.003656585401262229,
            null,
            0.003656585401262229,
            0.0010846403702434119,
            null
           ]
          },
          {
           "i": [],
           "j": [],
           "k": [],
           "name": "Faces",
           "type": "mesh3d",
           "x": {
            "bdata": "BYOjwof8Zb+DZ8P8ELy8P6tZelUUz8Y/",
            "dtype": "f8"
           },
           "y": {
            "bdata": "AAAAAAAAAAAAAAAAAAAAAAAAAAAAAAAA",
            "dtype": "f8"
           },
           "z": {
            "bdata": "PRMe+ikSOr/xmdRWavRtP+hswrpPxVE/",
            "dtype": "f8"
           }
          }
         ],
         "layout": {
          "annotations": [
           {
            "showarrow": false,
            "text": "Time: 0.33s (Step: 34/100)",
            "x": 0.05,
            "xref": "paper",
            "y": 0.95,
            "yref": "paper"
           }
          ]
         },
         "name": "33"
        },
        {
         "data": [
          {
           "name": "Free Nodes",
           "type": "scatter3d",
           "x": {
            "bdata": "69EpgD0Gar89rwVW0Ny8PywrLtN7vsY/",
            "dtype": "f8"
           },
           "y": {
            "bdata": "AAAAAAAAAAAAAAAAAAAAAAAAAAAAAAAA",
            "dtype": "f8"
           },
           "z": {
            "bdata": "IEOq8rBuQb/TV/RIy65uPyESEe2ZDlE/",
            "dtype": "f8"
           }
          },
          {
           "name": "Fixed Nodes",
           "type": "scatter3d",
           "x": [],
           "y": [],
           "z": []
          },
          {
           "name": "Edges",
           "type": "scatter3d",
           "x": [
            -0.003176803701814492,
            0.11274435138846868,
            null,
            0.11274435138846868,
            0.17768810092487664,
            null
           ],
           "y": [
            0,
            0,
            null,
            0,
            0,
            null
           ],
           "z": [
            -0.0005319942477673735,
            0.0037454576883062334,
            null,
            0.0037454576883062334,
            0.0010410788711549062,
            null
           ]
          },
          {
           "i": [],
           "j": [],
           "k": [],
           "name": "Faces",
           "type": "mesh3d",
           "x": {
            "bdata": "69EpgD0Gar89rwVW0Ny8PywrLtN7vsY/",
            "dtype": "f8"
           },
           "y": {
            "bdata": "AAAAAAAAAAAAAAAAAAAAAAAAAAAAAAAA",
            "dtype": "f8"
           },
           "z": {
            "bdata": "IEOq8rBuQb/TV/RIy65uPyESEe2ZDlE/",
            "dtype": "f8"
           }
          }
         ],
         "layout": {
          "annotations": [
           {
            "showarrow": false,
            "text": "Time: 0.34s (Step: 35/100)",
            "x": 0.05,
            "xref": "paper",
            "y": 0.95,
            "yref": "paper"
           }
          ]
         },
         "name": "34"
        },
        {
         "data": [
          {
           "name": "Free Nodes",
           "type": "scatter3d",
           "x": {
            "bdata": "mkhvhSUPbr9wErB4kP28P9PdmFDfrcY/",
            "dtype": "f8"
           },
           "y": {
            "bdata": "AAAAAAAAAAAAAAAAAAAAAAAAAAAAAAAA",
            "dtype": "f8"
           },
           "z": {
            "bdata": "Yj7L+abXRb9obC55WGpvP209uS/gVFA/",
            "dtype": "f8"
           }
          },
          {
           "name": "Fixed Nodes",
           "type": "scatter3d",
           "x": [],
           "y": [],
           "z": []
          },
          {
           "name": "Edges",
           "type": "scatter3d",
           "x": [
            -0.0036693318211088012,
            0.11324408480147397,
            null,
            0.11324408480147397,
            0.17718116221816035,
            null
           ],
           "y": [
            0,
            0,
            null,
            0,
            0,
            null
           ],
           "z": [
            -0.0006665768920246058,
            0.003834889220752969,
            null,
            0.003834889220752969,
            0.000996798450518667,
            null
           ]
          },
          {
           "i": [],
           "j": [],
           "k": [],
           "name": "Faces",
           "type": "mesh3d",
           "x": {
            "bdata": "mkhvhSUPbr9wErB4kP28P9PdmFDfrcY/",
            "dtype": "f8"
           },
           "y": {
            "bdata": "AAAAAAAAAAAAAAAAAAAAAAAAAAAAAAAA",
            "dtype": "f8"
           },
           "z": {
            "bdata": "Yj7L+abXRb9obC55WGpvP209uS/gVFA/",
            "dtype": "f8"
           }
          }
         ],
         "layout": {
          "annotations": [
           {
            "showarrow": false,
            "text": "Time: 0.35s (Step: 36/100)",
            "x": 0.05,
            "xref": "paper",
            "y": 0.95,
            "yref": "paper"
           }
          ]
         },
         "name": "35"
        },
        {
         "data": [
          {
           "name": "Free Nodes",
           "type": "scatter3d",
           "x": {
            "bdata": "yjKMaqELcb/w3+OFUR69P8a0o7g+ncY/",
            "dtype": "f8"
           },
           "y": {
            "bdata": "AAAAAAAAAAAAAAAAAAAAAAAAAAAAAAAA",
            "dtype": "f8"
           },
           "z": {
            "bdata": "h87p0AxDSr+HyA5SYRNwP8jlF9/UMU8/",
            "dtype": "f8"
           }
          },
          {
           "name": "Fixed Nodes",
           "type": "scatter3d",
           "x": [],
           "y": [],
           "z": []
          },
          {
           "name": "Edges",
           "type": "scatter3d",
           "x": [
            -0.004161482364690891,
            0.1137438728218283,
            null,
            0.1137438728218283,
            0.17667373672103376,
            null
           ],
           "y": [
            0,
            0,
            null,
            0,
            0,
            null
           ],
           "z": [
            -0.0008014500215964428,
            0.003924732359268052,
            null,
            0.003924732359268052,
            0.000951985303060337,
            null
           ]
          },
          {
           "i": [],
           "j": [],
           "k": [],
           "name": "Faces",
           "type": "mesh3d",
           "x": {
            "bdata": "yjKMaqELcb/w3+OFUR69P8a0o7g+ncY/",
            "dtype": "f8"
           },
           "y": {
            "bdata": "AAAAAAAAAAAAAAAAAAAAAAAAAAAAAAAA",
            "dtype": "f8"
           },
           "z": {
            "bdata": "h87p0AxDSr+HyA5SYRNwP8jlF9/UMU8/",
            "dtype": "f8"
           }
          }
         ],
         "layout": {
          "annotations": [
           {
            "showarrow": false,
            "text": "Time: 0.36s (Step: 37/100)",
            "x": 0.05,
            "xref": "paper",
            "y": 0.95,
            "yref": "paper"
           }
          ]
         },
         "name": "36"
        },
        {
         "data": [
          {
           "name": "Free Nodes",
           "type": "scatter3d",
           "x": {
            "bdata": "gdXNuEwPc7/ch/adEz+9P+4ZA/uZjMY/",
            "dtype": "f8"
           },
           "y": {
            "bdata": "AAAAAAAAAAAAAAAAAAAAAAAAAAAAAAAA",
            "dtype": "f8"
           },
           "z": {
            "bdata": "qk0URvivTr+zQJX423FwPyfi2usVt00/",
            "dtype": "f8"
           }
          },
          {
           "name": "Fixed Nodes",
           "type": "scatter3d",
           "x": [],
           "y": [],
           "z": []
          },
          {
           "name": "Edges",
           "type": "scatter3d",
           "x": [
            -0.004653262801061487,
            0.11424372297781765,
            null,
            0.11424372297781765,
            0.1761658168454256,
            null
           ],
           "y": [
            0,
            0,
            null,
            0,
            0,
            null
           ],
           "z": [
            -0.0009365045808941614,
            0.004014834653688282,
            null,
            0.004014834653688282,
            0.0009068352735175964,
            null
           ]
          },
          {
           "i": [],
           "j": [],
           "k": [],
           "name": "Faces",
           "type": "mesh3d",
           "x": {
            "bdata": "gdXNuEwPc7/ch/adEz+9P+4ZA/uZjMY/",
            "dtype": "f8"
           },
           "y": {
            "bdata": "AAAAAAAAAAAAAAAAAAAAAAAAAAAAAAAA",
            "dtype": "f8"
           },
           "z": {
            "bdata": "qk0URvivTr+zQJX423FwPyfi2usVt00/",
            "dtype": "f8"
           }
          }
         ],
         "layout": {
          "annotations": [
           {
            "showarrow": false,
            "text": "Time: 0.37s (Step: 38/100)",
            "x": 0.05,
            "xref": "paper",
            "y": 0.95,
            "yref": "paper"
           }
          ]
         },
         "name": "37"
        },
        {
         "data": [
          {
           "name": "Free Nodes",
           "type": "scatter3d",
           "x": {
            "bdata": "n/uDNZcSdb+gsfnf1l+9P1mh5Qzxe8Y/",
            "dtype": "f8"
           },
           "y": {
            "bdata": "AAAAAAAAAAAAAAAAAAAAAAAAAAAAAAAA",
            "dtype": "f8"
           },
           "z": {
            "bdata": "xMWUrr+OUb8u2OLvcdBwP1GoFo49O0w/",
            "dtype": "f8"
           }
          },
          {
           "name": "Fixed Nodes",
           "type": "scatter3d",
           "x": [],
           "y": [],
           "z": []
          },
          {
           "name": "Edges",
           "type": "scatter3d",
           "x": [
            -0.005144682560284246,
            0.1147436425032482,
            null,
            0.1147436425032482,
            0.1756573975537872,
            null
           ],
           "y": [
            0,
            0,
            null,
            0,
            0,
            null
           ],
           "z": [
            -0.0010716316122166706,
            0.00410503870641858,
            null,
            0.00410503870641858,
            0.0008615541993795083,
            null
           ]
          },
          {
           "i": [],
           "j": [],
           "k": [],
           "name": "Faces",
           "type": "mesh3d",
           "x": {
            "bdata": "n/uDNZcSdb+gsfnf1l+9P1mh5Qzxe8Y/",
            "dtype": "f8"
           },
           "y": {
            "bdata": "AAAAAAAAAAAAAAAAAAAAAAAAAAAAAAAA",
            "dtype": "f8"
           },
           "z": {
            "bdata": "xMWUrr+OUb8u2OLvcdBwP1GoFo49O0w/",
            "dtype": "f8"
           }
          }
         ],
         "layout": {
          "annotations": [
           {
            "showarrow": false,
            "text": "Time: 0.38s (Step: 39/100)",
            "x": 0.05,
            "xref": "paper",
            "y": 0.95,
            "yref": "paper"
           }
          ]
         },
         "name": "38"
        },
        {
         "data": [
          {
           "name": "Free Nodes",
           "type": "scatter3d",
           "x": {
            "bdata": "870W3AQRdb/N+2ltUmC9Pzztqexoe8Y/",
            "dtype": "f8"
           },
           "y": {
            "bdata": "AAAAAAAAAAAAAAAAAAAAAAAAAAAAAAAA",
            "dtype": "f8"
           },
           "z": {
            "bdata": "hsjahiVsU7/HF54ZlDFxP0a07qLm40k/",
            "dtype": "f8"
           }
          },
          {
           "name": "Fixed Nodes",
           "type": "scatter3d",
           "x": [],
           "y": [],
           "z": []
          },
          {
           "name": "Edges",
           "type": "scatter3d",
           "x": [
            -0.005143183692254183,
            0.11475100680580326,
            null,
            0.11475100680580326,
            0.17564117008064695,
            null
           ],
           "y": [
            0,
            0,
            null,
            0,
            0,
            null
           ],
           "z": [
            -0.0011854521248264873,
            0.004197672382252499,
            null,
            0.004197672382252499,
            0.0007901073603214868,
            null
           ]
          },
          {
           "i": [],
           "j": [],
           "k": [],
           "name": "Faces",
           "type": "mesh3d",
           "x": {
            "bdata": "870W3AQRdb/N+2ltUmC9Pzztqexoe8Y/",
            "dtype": "f8"
           },
           "y": {
            "bdata": "AAAAAAAAAAAAAAAAAAAAAAAAAAAAAAAA",
            "dtype": "f8"
           },
           "z": {
            "bdata": "hsjahiVsU7/HF54ZlDFxP0a07qLm40k/",
            "dtype": "f8"
           }
          }
         ],
         "layout": {
          "annotations": [
           {
            "showarrow": false,
            "text": "Time: 0.39s (Step: 40/100)",
            "x": 0.05,
            "xref": "paper",
            "y": 0.95,
            "yref": "paper"
           }
          ]
         },
         "name": "39"
        },
        {
         "data": [
          {
           "name": "Free Nodes",
           "type": "scatter3d",
           "x": {
            "bdata": "cjDYu6D/dL/v2e5s2l+9P6waI8xVe8Y/",
            "dtype": "f8"
           },
           "y": {
            "bdata": "AAAAAAAAAAAAAAAAAAAAAAAAAAAAAAAA",
            "dtype": "f8"
           },
           "z": {
            "bdata": "KLqoyJhCVb8qm3cc0ZJxP2Fh8vj8fEc/",
            "dtype": "f8"
           }
          },
          {
           "name": "Fixed Nodes",
           "type": "scatter3d",
           "x": [],
           "y": [],
           "z": []
          },
          {
           "name": "Edges",
           "type": "scatter3d",
           "x": [
            -0.005126598230628431,
            0.11474385413644204,
            null,
            0.11474385413644204,
            0.17563888995774357,
            null
           ],
           "y": [
            0,
            0,
            null,
            0,
            0,
            null
           ],
           "z": [
            -0.0012976161984955634,
            0.004290406075120138,
            null,
            0.004290406075120138,
            0.0007168040482552867,
            null
           ]
          },
          {
           "i": [],
           "j": [],
           "k": [],
           "name": "Faces",
           "type": "mesh3d",
           "x": {
            "bdata": "cjDYu6D/dL/v2e5s2l+9P6waI8xVe8Y/",
            "dtype": "f8"
           },
           "y": {
            "bdata": "AAAAAAAAAAAAAAAAAAAAAAAAAAAAAAAA",
            "dtype": "f8"
           },
           "z": {
            "bdata": "KLqoyJhCVb8qm3cc0ZJxP2Fh8vj8fEc/",
            "dtype": "f8"
           }
          }
         ],
         "layout": {
          "annotations": [
           {
            "showarrow": false,
            "text": "Time: 0.40s (Step: 41/100)",
            "x": 0.05,
            "xref": "paper",
            "y": 0.95,
            "yref": "paper"
           }
          ]
         },
         "name": "40"
        },
        {
         "data": [
          {
           "name": "Free Nodes",
           "type": "scatter3d",
           "x": {
            "bdata": "rjnTrw31dL9i1z7I1V+9P4H1ctgFe8Y/",
            "dtype": "f8"
           },
           "y": {
            "bdata": "AAAAAAAAAAAAAAAAAAAAAAAAAAAAAAAA",
            "dtype": "f8"
           },
           "z": {
            "bdata": "uKuUUTgZV7/fcgg6ofNxPzvJvDE6HUU/",
            "dtype": "f8"
           }
          },
          {
           "name": "Fixed Nodes",
           "type": "scatter3d",
           "x": [],
           "y": [],
           "z": []
          },
          {
           "name": "Edges",
           "type": "scatter3d",
           "x": [
            -0.005116513694885345,
            0.11474357737355725,
            null,
            0.11474357737355725,
            0.17562935894777001,
            null
           ],
           "y": [
            0,
            0,
            null,
            0,
            0,
            null
           ],
           "z": [
            -0.0014098215090807397,
            0.004382734100116108,
            null,
            0.004382734100116108,
            0.0006443533088485229,
            null
           ]
          },
          {
           "i": [],
           "j": [],
           "k": [],
           "name": "Faces",
           "type": "mesh3d",
           "x": {
            "bdata": "rjnTrw31dL9i1z7I1V+9P4H1ctgFe8Y/",
            "dtype": "f8"
           },
           "y": {
            "bdata": "AAAAAAAAAAAAAAAAAAAAAAAAAAAAAAAA",
            "dtype": "f8"
           },
           "z": {
            "bdata": "uKuUUTgZV7/fcgg6ofNxPzvJvDE6HUU/",
            "dtype": "f8"
           }
          }
         ],
         "layout": {
          "annotations": [
           {
            "showarrow": false,
            "text": "Time: 0.41s (Step: 42/100)",
            "x": 0.05,
            "xref": "paper",
            "y": 0.95,
            "yref": "paper"
           }
          ]
         },
         "name": "41"
        },
        {
         "data": [
          {
           "name": "Free Nodes",
           "type": "scatter3d",
           "x": {
            "bdata": "AGxfV2XqdL+XrEGj2F+9P92BrLqtesY/",
            "dtype": "f8"
           },
           "y": {
            "bdata": "AAAAAAAAAAAAAAAAAAAAAAAAAAAAAAAA",
            "dtype": "f8"
           },
           "z": {
            "bdata": "Ld23+3LuWL+Wg1+V5VNyP70gktBpw0I/",
            "dtype": "f8"
           }
          },
          {
           "name": "Fixed Nodes",
           "type": "scatter3d",
           "x": [],
           "y": [],
           "z": []
          },
          {
           "name": "Edges",
           "type": "scatter3d",
           "x": [
            -0.005106349815799938,
            0.11474374757533422,
            null,
            0.11474374757533422,
            0.17561885466513064,
            null
           ],
           "y": [
            0,
            0,
            null,
            0,
            0,
            null
           ],
           "z": [
            -0.0015216944583452228,
            0.004474541483404778,
            null,
            0.004474541483404778,
            0.0005726114915356667,
            null
           ]
          },
          {
           "i": [],
           "j": [],
           "k": [],
           "name": "Faces",
           "type": "mesh3d",
           "x": {
            "bdata": "AGxfV2XqdL+XrEGj2F+9P92BrLqtesY/",
            "dtype": "f8"
           },
           "y": {
            "bdata": "AAAAAAAAAAAAAAAAAAAAAAAAAAAAAAAA",
            "dtype": "f8"
           },
           "z": {
            "bdata": "Ld23+3LuWL+Wg1+V5VNyP70gktBpw0I/",
            "dtype": "f8"
           }
          }
         ],
         "layout": {
          "annotations": [
           {
            "showarrow": false,
            "text": "Time: 0.42s (Step: 43/100)",
            "x": 0.05,
            "xref": "paper",
            "y": 0.95,
            "yref": "paper"
           }
          ]
         },
         "name": "42"
        },
        {
         "data": [
          {
           "name": "Free Nodes",
           "type": "scatter3d",
           "x": {
            "bdata": "RQwHlIHfdL+espoD2l+9P9a4ODxVesY/",
            "dtype": "f8"
           },
           "y": {
            "bdata": "AAAAAAAAAAAAAAAAAAAAAAAAAAAAAAAA",
            "dtype": "f8"
           },
           "z": {
            "bdata": "w6+5i9PBWr9SdBudfLNyPy661nS6cEA/",
            "dtype": "f8"
           }
          },
          {
           "name": "Fixed Nodes",
           "type": "scatter3d",
           "x": [],
           "y": [],
           "z": []
          },
          {
           "name": "Edges",
           "type": "scatter3d",
           "x": [
            -0.0050959645890911775,
            0.11474382961268723,
            null,
            0.11474382961268723,
            0.1756083053637158,
            null
           ],
           "y": [
            0,
            0,
            null,
            0,
            0,
            null
           ],
           "z": [
            -0.0016331258656476645,
            0.0045657031748450195,
            null,
            0.0045657031748450195,
            0.0005017195159576265,
            null
           ]
          },
          {
           "i": [],
           "j": [],
           "k": [],
           "name": "Faces",
           "type": "mesh3d",
           "x": {
            "bdata": "RQwHlIHfdL+espoD2l+9P9a4ODxVesY/",
            "dtype": "f8"
           },
           "y": {
            "bdata": "AAAAAAAAAAAAAAAAAAAAAAAAAAAAAAAA",
            "dtype": "f8"
           },
           "z": {
            "bdata": "w6+5i9PBWr9SdBudfLNyPy661nS6cEA/",
            "dtype": "f8"
           }
          }
         ],
         "layout": {
          "annotations": [
           {
            "showarrow": false,
            "text": "Time: 0.43s (Step: 44/100)",
            "x": 0.05,
            "xref": "paper",
            "y": 0.95,
            "yref": "paper"
           }
          ]
         },
         "name": "43"
        },
        {
         "data": [
          {
           "name": "Free Nodes",
           "type": "scatter3d",
           "x": {
            "bdata": "Bh9UnFTUdL+2221e21+9P1H4p3n6ecY/",
            "dtype": "f8"
           },
           "y": {
            "bdata": "AAAAAAAAAAAAAAAAAAAAAAAAAAAAAAAA",
            "dtype": "f8"
           },
           "z": {
            "bdata": "txDhY+qSXL9kW3yXOxJzPwQWLv7wTTw/",
            "dtype": "f8"
           }
          },
          {
           "name": "Fixed Nodes",
           "type": "scatter3d",
           "x": [],
           "y": [],
           "z": []
          },
          {
           "name": "Edges",
           "type": "scatter3d",
           "x": [
            -0.005085306654343707,
            0.1147439103641393,
            null,
            0.1147439103641393,
            0.17559748592606408,
            null
           ],
           "y": [
            0,
            0,
            null,
            0,
            0,
            null
           ],
           "z": [
            -0.0017440117803895602,
            0.004656060009230998,
            null,
            0.004656060009230998,
            0.0004318917619275666,
            null
           ]
          },
          {
           "i": [],
           "j": [],
           "k": [],
           "name": "Faces",
           "type": "mesh3d",
           "x": {
            "bdata": "Bh9UnFTUdL+2221e21+9P1H4p3n6ecY/",
            "dtype": "f8"
           },
           "y": {
            "bdata": "AAAAAAAAAAAAAAAAAAAAAAAAAAAAAAAA",
            "dtype": "f8"
           },
           "z": {
            "bdata": "txDhY+qSXL9kW3yXOxJzPwQWLv7wTTw/",
            "dtype": "f8"
           }
          }
         ],
         "layout": {
          "annotations": [
           {
            "showarrow": false,
            "text": "Time: 0.44s (Step: 45/100)",
            "x": 0.05,
            "xref": "paper",
            "y": 0.95,
            "yref": "paper"
           }
          ]
         },
         "name": "44"
        },
        {
         "data": [
          {
           "name": "Free Nodes",
           "type": "scatter3d",
           "x": {
            "bdata": "IAgLiuLIdL8bp7bM3F+9PzLkzHqdecY/",
            "dtype": "f8"
           },
           "y": {
            "bdata": "AAAAAAAAAAAAAAAAAAAAAAAAAAAAAAAA",
            "dtype": "f8"
           },
           "z": {
            "bdata": "xx4/yExhXr/t2ie6+m9zPzVdNjqWzzc/",
            "dtype": "f8"
           }
          },
          {
           "name": "Fixed Nodes",
           "type": "scatter3d",
           "x": [],
           "y": [],
           "z": []
          },
          {
           "name": "Edges",
           "type": "scatter3d",
           "x": [
            -0.005074391287680086,
            0.1147439956463611,
            null,
            0.1147439956463611,
            0.1755863999949568,
            null
           ],
           "y": [
            0,
            0,
            null,
            0,
            0,
            null
           ],
           "z": [
            -0.001854252798681276,
            0.004745463755617446,
            null,
            0.004745463755617446,
            0.0003633252874463867,
            null
           ]
          },
          {
           "i": [],
           "j": [],
           "k": [],
           "name": "Faces",
           "type": "mesh3d",
           "x": {
            "bdata": "IAgLiuLIdL8bp7bM3F+9PzLkzHqdecY/",
            "dtype": "f8"
           },
           "y": {
            "bdata": "AAAAAAAAAAAAAAAAAAAAAAAAAAAAAAAA",
            "dtype": "f8"
           },
           "z": {
            "bdata": "xx4/yExhXr/t2ie6+m9zPzVdNjqWzzc/",
            "dtype": "f8"
           }
          }
         ],
         "layout": {
          "annotations": [
           {
            "showarrow": false,
            "text": "Time: 0.45s (Step: 46/100)",
            "x": 0.05,
            "xref": "paper",
            "y": 0.95,
            "yref": "paper"
           }
          ]
         },
         "name": "45"
        },
        {
         "data": [
          {
           "name": "Free Nodes",
           "type": "scatter3d",
           "x": {
            "bdata": "/F69QTO9dL/1GOsz3l+9PwwFVpk+ecY/",
            "dtype": "f8"
           },
           "y": {
            "bdata": "AAAAAAAAAAAAAAAAAAAAAAAAAAAAAAAA",
            "dtype": "f8"
           },
           "z": {
            "bdata": "nab6G0kWYL+0Qys2k8xzPy7+oXicaTM/",
            "dtype": "f8"
           }
          },
          {
           "name": "Fixed Nodes",
           "type": "scatter3d",
           "x": [],
           "y": [],
           "z": []
          },
          {
           "name": "Edges",
           "type": "scatter3d",
           "x": [
            -0.00506324789224499,
            0.11474407928026038,
            null,
            0.11474407928026038,
            0.17557508933172306,
            null
           ],
           "y": [
            0,
            0,
            null,
            0,
            0,
            null
           ],
           "z": [
            -0.0019637515941511433,
            0.004833769841483471,
            null,
            0.004833769841483471,
            0.0002962119111842046,
            null
           ]
          },
          {
           "i": [],
           "j": [],
           "k": [],
           "name": "Faces",
           "type": "mesh3d",
           "x": {
            "bdata": "/F69QTO9dL/1GOsz3l+9PwwFVpk+ecY/",
            "dtype": "f8"
           },
           "y": {
            "bdata": "AAAAAAAAAAAAAAAAAAAAAAAAAAAAAAAA",
            "dtype": "f8"
           },
           "z": {
            "bdata": "nab6G0kWYL+0Qys2k8xzPy7+oXicaTM/",
            "dtype": "f8"
           }
          }
         ],
         "layout": {
          "annotations": [
           {
            "showarrow": false,
            "text": "Time: 0.46s (Step: 47/100)",
            "x": 0.05,
            "xref": "paper",
            "y": 0.95,
            "yref": "paper"
           }
          ]
         },
         "name": "46"
        },
        {
         "data": [
          {
           "name": "Free Nodes",
           "type": "scatter3d",
           "x": {
            "bdata": "hXlYkk6xdL+ExZV731+9P08xMCzeeMY/",
            "dtype": "f8"
           },
           "y": {
            "bdata": "AAAAAAAAAAAAAAAAAAAAAAAAAAAAAAAA",
            "dtype": "f8"
           },
           "z": {
            "bdata": "vNg75Cn6YL+5kMLQ3id0Py7dg89ePi4/",
            "dtype": "f8"
           }
          },
          {
           "name": "Fixed Nodes",
           "type": "scatter3d",
           "x": [],
           "y": [],
           "z": []
          },
          {
           "name": "Edges",
           "type": "scatter3d",
           "x": [
            -0.005051905556256013,
            0.11474415557110801,
            null,
            0.11474415557110801,
            0.17556359441403876,
            null
           ],
           "y": [
            0,
            0,
            null,
            0,
            0,
            null
           ],
           "z": [
            -0.002072412318621179,
            0.004920835850644228,
            null,
            0.004920835850644228,
            0.00023074061733272796,
            null
           ]
          },
          {
           "i": [],
           "j": [],
           "k": [],
           "name": "Faces",
           "type": "mesh3d",
           "x": {
            "bdata": "hXlYkk6xdL+ExZV731+9P08xMCzeeMY/",
            "dtype": "f8"
           },
           "y": {
            "bdata": "AAAAAAAAAAAAAAAAAAAAAAAAAAAAAAAA",
            "dtype": "f8"
           },
           "z": {
            "bdata": "vNg75Cn6YL+5kMLQ3id0Py7dg89ePi4/",
            "dtype": "f8"
           }
          }
         ],
         "layout": {
          "annotations": [
           {
            "showarrow": false,
            "text": "Time: 0.47s (Step: 48/100)",
            "x": 0.05,
            "xref": "paper",
            "y": 0.95,
            "yref": "paper"
           }
          ]
         },
         "name": "47"
        },
        {
         "data": [
          {
           "name": "Free Nodes",
           "type": "scatter3d",
           "x": {
            "bdata": "Rd9ShjyldL+OQrWK4F+9P3GHsIx8eMY/",
            "dtype": "f8"
           },
           "y": {
            "bdata": "AAAAAAAAAAAAAAAAAAAAAAAAAAAAAAAA",
            "dtype": "f8"
           },
           "z": {
            "bdata": "yG7cMxbcYb8wI2n9t4F0Pzug6J/Y5iU/",
            "dtype": "f8"
           }
          },
          {
           "name": "Fixed Nodes",
           "type": "scatter3d",
           "x": [],
           "y": [],
           "z": []
          },
          {
           "name": "Edges",
           "type": "scatter3d",
           "x": [
            -0.005040394234292316,
            0.114744218696851,
            null,
            0.114744218696851,
            0.17555195684058902,
            null
           ],
           "y": [
            0,
            0,
            null,
            0,
            0,
            null
           ],
           "z": [
            -0.002180140842836884,
            0.00500652190255195,
            null,
            0.00500652190255195,
            0.00016709703773298994,
            null
           ]
          },
          {
           "i": [],
           "j": [],
           "k": [],
           "name": "Faces",
           "type": "mesh3d",
           "x": {
            "bdata": "Rd9ShjyldL+OQrWK4F+9P3GHsIx8eMY/",
            "dtype": "f8"
           },
           "y": {
            "bdata": "AAAAAAAAAAAAAAAAAAAAAAAAAAAAAAAA",
            "dtype": "f8"
           },
           "z": {
            "bdata": "yG7cMxbcYb8wI2n9t4F0Pzug6J/Y5iU/",
            "dtype": "f8"
           }
          }
         ],
         "layout": {
          "annotations": [
           {
            "showarrow": false,
            "text": "Time: 0.48s (Step: 49/100)",
            "x": 0.05,
            "xref": "paper",
            "y": 0.95,
            "yref": "paper"
           }
          ]
         },
         "name": "48"
        },
        {
         "data": [
          {
           "name": "Free Nodes",
           "type": "scatter3d",
           "x": {
            "bdata": "tKq/iAWZdL9l5A1H4V+9P/NLaxgaeMY/",
            "dtype": "f8"
           },
           "y": {
            "bdata": "AAAAAAAAAAAAAAAAAAAAAAAAAAAAAAAA",
            "dtype": "f8"
           },
           "z": {
            "bdata": "m5Buity7Yr9u4wTz+dl0P+lbNUSBpRs/",
            "dtype": "f8"
           }
          },
          {
           "name": "Fixed Nodes",
           "type": "scatter3d",
           "x": [],
           "y": [],
           "z": []
          },
          {
           "name": "Edges",
           "type": "scatter3d",
           "x": [
            -0.005028745286817116,
            0.11474426254962251,
            null,
            0.11474426254962251,
            0.17554022018757073,
            null
           ],
           "y": [
            0,
            0,
            null,
            0,
            0,
            null
           ],
           "z": [
            -0.0022868449627414084,
            0.005090690960337747,
            null,
            0.005090690960337747,
            0.00010546304206591996,
            null
           ]
          },
          {
           "i": [],
           "j": [],
           "k": [],
           "name": "Faces",
           "type": "mesh3d",
           "x": {
            "bdata": "tKq/iAWZdL9l5A1H4V+9P/NLaxgaeMY/",
            "dtype": "f8"
           },
           "y": {
            "bdata": "AAAAAAAAAAAAAAAAAAAAAAAAAAAAAAAA",
            "dtype": "f8"
           },
           "z": {
            "bdata": "m5Buity7Yr9u4wTz+dl0P+lbNUSBpRs/",
            "dtype": "f8"
           }
          }
         ],
         "layout": {
          "annotations": [
           {
            "showarrow": false,
            "text": "Time: 0.49s (Step: 50/100)",
            "x": 0.05,
            "xref": "paper",
            "y": 0.95,
            "yref": "paper"
           }
          ]
         },
         "name": "49"
        },
        {
         "data": [
          {
           "name": "Free Nodes",
           "type": "scatter3d",
           "x": {
            "bdata": "srpZWrKMdL+sl2KV4V+9PyppozC3d8Y/",
            "dtype": "f8"
           },
           "y": {
            "bdata": "AAAAAAAAAAAAAAAAAAAAAAAAAAAAAAAA",
            "dtype": "f8"
           },
           "z": {
            "bdata": "Wr51hkyZY78H1ma8gDB1P0iOQyg4IAg/",
            "dtype": "f8"
           }
          },
          {
           "name": "Fixed Nodes",
           "type": "scatter3d",
           "x": [],
           "y": [],
           "z": []
          },
          {
           "name": "Edges",
           "type": "scatter3d",
           "x": [
            -0.005016991320742891,
            0.1147442807874472,
            null,
            0.1147442807874472,
            0.1755284297458471,
            null
           ],
           "y": [
            0,
            0,
            null,
            0,
            0,
            null
           ],
           "z": [
            -0.0023924345620612133,
            0.005173209070951318,
            null,
            0.005173209070951318,
            0.000046016420158581444,
            null
           ]
          },
          {
           "i": [],
           "j": [],
           "k": [],
           "name": "Faces",
           "type": "mesh3d",
           "x": {
            "bdata": "srpZWrKMdL+sl2KV4V+9PyppozC3d8Y/",
            "dtype": "f8"
           },
           "y": {
            "bdata": "AAAAAAAAAAAAAAAAAAAAAAAAAAAAAAAA",
            "dtype": "f8"
           },
           "z": {
            "bdata": "Wr51hkyZY78H1ma8gDB1P0iOQyg4IAg/",
            "dtype": "f8"
           }
          }
         ],
         "layout": {
          "annotations": [
           {
            "showarrow": false,
            "text": "Time: 0.50s (Step: 51/100)",
            "x": 0.05,
            "xref": "paper",
            "y": 0.95,
            "yref": "paper"
           }
          ]
         },
         "name": "50"
        },
        {
         "data": [
          {
           "name": "Free Nodes",
           "type": "scatter3d",
           "x": {
            "bdata": "xI6BBEyAdL8hVrBZ4V+9P1PppjlUd8Y/",
            "dtype": "f8"
           },
           "y": {
            "bdata": "AAAAAAAAAAAAAAAAAAAAAAAAAAAAAAAA",
            "dtype": "f8"
           },
           "z": {
            "bdata": "eE3j+jZ0ZL/P1SlIKYV1P+fJYf3ZNue+",
            "dtype": "f8"
           }
          },
          {
           "name": "Fixed Nodes",
           "type": "scatter3d",
           "x": [],
           "y": [],
           "z": []
          },
          {
           "name": "Edges",
           "type": "scatter3d",
           "x": [
            -0.005005166000134845,
            0.11474426688831631,
            null,
            0.11474426688831631,
            0.17551663222350075,
            null
           ],
           "y": [
            0,
            0,
            null,
            0,
            0,
            null
           ],
           "z": [
            -0.0024968217686393533,
            0.00525394559610022,
            null,
            0.00525394559610022,
            -0.000011069423561081835,
            null
           ]
          },
          {
           "i": [],
           "j": [],
           "k": [],
           "name": "Faces",
           "type": "mesh3d",
           "x": {
            "bdata": "xI6BBEyAdL8hVrBZ4V+9P1PppjlUd8Y/",
            "dtype": "f8"
           },
           "y": {
            "bdata": "AAAAAAAAAAAAAAAAAAAAAAAAAAAAAAAA",
            "dtype": "f8"
           },
           "z": {
            "bdata": "eE3j+jZ0ZL/P1SlIKYV1P+fJYf3ZNue+",
            "dtype": "f8"
           }
          }
         ],
         "layout": {
          "annotations": [
           {
            "showarrow": false,
            "text": "Time: 0.51s (Step: 52/100)",
            "x": 0.05,
            "xref": "paper",
            "y": 0.95,
            "yref": "paper"
           }
          ]
         },
         "name": "51"
        },
        {
         "data": [
          {
           "name": "Free Nodes",
           "type": "scatter3d",
           "x": {
            "bdata": "LjozzdtzdL/q+mh34F+9P+LRM5rxdsY/",
            "dtype": "f8"
           },
           "y": {
            "bdata": "AAAAAAAAAAAAAAAAAAAAAAAAAAAAAAAA",
            "dtype": "f8"
           },
           "z": {
            "bdata": "Xk4LBG5MZb86kSN40dd1P1fSiRcSNBG/",
            "dtype": "f8"
           }
          },
          {
           "name": "Fixed Nodes",
           "type": "scatter3d",
           "x": [],
           "y": [],
           "z": []
          },
          {
           "name": "Edges",
           "type": "scatter3d",
           "x": [
            -0.004993303871016637,
            0.11474421420369266,
            null,
            0.11474421420369266,
            0.17550487546362975,
            null
           ],
           "y": [
            0,
            0,
            null,
            0,
            0,
            null
           ],
           "z": [
            -0.0025999211069150227,
            0.005332773436951316,
            null,
            0.005332773436951316,
            -0.00006562576698760626,
            null
           ]
          },
          {
           "i": [],
           "j": [],
           "k": [],
           "name": "Faces",
           "type": "mesh3d",
           "x": {
            "bdata": "LjozzdtzdL/q+mh34F+9P+LRM5rxdsY/",
            "dtype": "f8"
           },
           "y": {
            "bdata": "AAAAAAAAAAAAAAAAAAAAAAAAAAAAAAAA",
            "dtype": "f8"
           },
           "z": {
            "bdata": "Xk4LBG5MZb86kSN40dd1P1fSiRcSNBG/",
            "dtype": "f8"
           }
          }
         ],
         "layout": {
          "annotations": [
           {
            "showarrow": false,
            "text": "Time: 0.52s (Step: 53/100)",
            "x": 0.05,
            "xref": "paper",
            "y": 0.95,
            "yref": "paper"
           }
          ]
         },
         "name": "52"
        },
        {
         "data": [
          {
           "name": "Free Nodes",
           "type": "scatter3d",
           "x": {
            "bdata": "9Q+tKmtndL8USLDR3l+9P2NT2LqPdsY/",
            "dtype": "f8"
           },
           "y": {
            "bdata": "AAAAAAAAAAAAAAAAAAAAAAAAAAAAAAAA",
            "dtype": "f8"
           },
           "z": {
            "bdata": "gojfG8UhZr/ta0UwWCh2P7bn7y2LzB6/",
            "dtype": "f8"
           }
          },
          {
           "name": "Fixed Nodes",
           "type": "scatter3d",
           "x": [],
           "y": [],
           "z": []
          },
          {
           "name": "Edges",
           "type": "scatter3d",
           "x": [
            -0.004981440181669673,
            0.1147441160140093,
            null,
            0.1147441160140093,
            0.1754932081536494,
            null
           ],
           "y": [
            0,
            0,
            null,
            0,
            0,
            null
           ],
           "z": [
            -0.002701649645119154,
            0.005409569250640606,
            null,
            0.005409569250640606,
            -0.00011748885616205584,
            null
           ]
          },
          {
           "i": [],
           "j": [],
           "k": [],
           "name": "Faces",
           "type": "mesh3d",
           "x": {
            "bdata": "9Q+tKmtndL8USLDR3l+9P2NT2LqPdsY/",
            "dtype": "f8"
           },
           "y": {
            "bdata": "AAAAAAAAAAAAAAAAAAAAAAAAAAAAAAAA",
            "dtype": "f8"
           },
           "z": {
            "bdata": "gojfG8UhZr/ta0UwWCh2P7bn7y2LzB6/",
            "dtype": "f8"
           }
          }
         ],
         "layout": {
          "annotations": [
           {
            "showarrow": false,
            "text": "Time: 0.53s (Step: 54/100)",
            "x": 0.05,
            "xref": "paper",
            "y": 0.95,
            "yref": "paper"
           }
          ]
         },
         "name": "53"
        },
        {
         "data": [
          {
           "name": "Free Nodes",
           "type": "scatter3d",
           "x": {
            "bdata": "ZuuvtgNbdL9GxJpL3F+9PwnuTQUvdsY/",
            "dtype": "f8"
           },
           "y": {
            "bdata": "AAAAAAAAAAAAAAAAAAAAAAAAAAAAAAAA",
            "dtype": "f8"
           },
           "z": {
            "bdata": "R4RiLRH0Zr/MPuRknXZ2P2bvfKbR0iW/",
            "dtype": "f8"
           }
          },
          {
           "name": "Fixed Nodes",
           "type": "scatter3d",
           "x": [],
           "y": [],
           "z": []
          },
          {
           "name": "Edges",
           "type": "scatter3d",
           "x": [
            -0.004969610697112303,
            0.11474396558584585,
            null,
            0.11474396558584585,
            0.17548167952541885,
            null
           ],
           "y": [
            0,
            0,
            null,
            0,
            0,
            null
           ],
           "z": [
            -0.0028019271367872053,
            0.005484213658078562,
            null,
            0.005484213658078562,
            -0.0001665001793699175,
            null
           ]
          },
          {
           "i": [],
           "j": [],
           "k": [],
           "name": "Faces",
           "type": "mesh3d",
           "x": {
            "bdata": "ZuuvtgNbdL9GxJpL3F+9PwnuTQUvdsY/",
            "dtype": "f8"
           },
           "y": {
            "bdata": "AAAAAAAAAAAAAAAAAAAAAAAAAAAAAAAA",
            "dtype": "f8"
           },
           "z": {
            "bdata": "R4RiLRH0Zr/MPuRknXZ2P2bvfKbR0iW/",
            "dtype": "f8"
           }
          }
         ],
         "layout": {
          "annotations": [
           {
            "showarrow": false,
            "text": "Time: 0.54s (Step: 55/100)",
            "x": 0.05,
            "xref": "paper",
            "y": 0.95,
            "yref": "paper"
           }
          ]
         },
         "name": "54"
        },
        {
         "data": [
          {
           "name": "Free Nodes",
           "type": "scatter3d",
           "x": {
            "bdata": "T09nYs5OdL/qPgXQ2F+9P4EuQdbQdcY/",
            "dtype": "f8"
           },
           "y": {
            "bdata": "AAAAAAAAAAAAAAAAAAAAAAAAAAAAAAAA",
            "dtype": "f8"
           },
           "z": {
            "bdata": "Istj+SzDZ7843cGlhMJ2P9oc0B3l2iu/",
            "dtype": "f8"
           }
          },
          {
           "name": "Fixed Nodes",
           "type": "scatter3d",
           "x": [],
           "y": [],
           "z": []
          },
          {
           "name": "Edges",
           "type": "scatter3d",
           "x": [
            -0.004957967938441345,
            0.11474375799775385,
            null,
            0.11474375799775385,
            0.1754704519429318,
            null
           ],
           "y": [
            0,
            0,
            null,
            0,
            0,
            null
           ],
           "z": [
            -0.002900684204285923,
            0.005556600717788122,
            null,
            0.005556600717788122,
            -0.00021251723129032154,
            null
           ]
          },
          {
           "i": [],
           "j": [],
           "k": [],
           "name": "Faces",
           "type": "mesh3d",
           "x": {
            "bdata": "T09nYs5OdL/qPgXQ2F+9P4EuQdbQdcY/",
            "dtype": "f8"
           },
           "y": {
            "bdata": "AAAAAAAAAAAAAAAAAAAAAAAAAAAAAAAA",
            "dtype": "f8"
           },
           "z": {
            "bdata": "Istj+SzDZ7843cGlhMJ2P9oc0B3l2iu/",
            "dtype": "f8"
           }
          }
         ],
         "layout": {
          "annotations": [
           {
            "showarrow": false,
            "text": "Time: 0.55s (Step: 56/100)",
            "x": 0.05,
            "xref": "paper",
            "y": 0.95,
            "yref": "paper"
           }
          ]
         },
         "name": "55"
        },
        {
         "data": [
          {
           "name": "Free Nodes",
           "type": "scatter3d",
           "x": {
            "bdata": "5VayrZZCdL9Xq2041F+9P00aM7BzdcY/",
            "dtype": "f8"
           },
           "y": {
            "bdata": "AAAAAAAAAAAAAAAAAAAAAAAAAAAAAAAA",
            "dtype": "f8"
           },
           "z": {
            "bdata": "5n0w1eSOaL9y1h136Qt3P5afAdxNvDC/",
            "dtype": "f8"
           }
          },
          {
           "name": "Fixed Nodes",
           "type": "scatter3d",
           "x": [],
           "y": [],
           "z": []
          },
          {
           "name": "Edges",
           "type": "scatter3d",
           "x": [
            -0.004946316326046339,
            0.11474348428388957,
            null,
            0.11474348428388957,
            0.17545934775826524,
            null
           ],
           "y": [
            0,
            0,
            null,
            0,
            0,
            null
           ],
           "z": [
            -0.00299782461071606,
            0.005626594518493998,
            null,
            0.005626594518493998,
            -0.0002553644262719366,
            null
           ]
          },
          {
           "i": [],
           "j": [],
           "k": [],
           "name": "Faces",
           "type": "mesh3d",
           "x": {
            "bdata": "5VayrZZCdL9Xq2041F+9P00aM7BzdcY/",
            "dtype": "f8"
           },
           "y": {
            "bdata": "AAAAAAAAAAAAAAAAAAAAAAAAAAAAAAAA",
            "dtype": "f8"
           },
           "z": {
            "bdata": "5n0w1eSOaL9y1h136Qt3P5afAdxNvDC/",
            "dtype": "f8"
           }
          }
         ],
         "layout": {
          "annotations": [
           {
            "showarrow": false,
            "text": "Time: 0.56s (Step: 57/100)",
            "x": 0.05,
            "xref": "paper",
            "y": 0.95,
            "yref": "paper"
           }
          ]
         },
         "name": "56"
        },
        {
         "data": [
          {
           "name": "Free Nodes",
           "type": "scatter3d",
           "x": {
            "bdata": "oHFX0oI2dL8zCRRrzl+9P0Plsd4YdcY/",
            "dtype": "f8"
           },
           "y": {
            "bdata": "AAAAAAAAAAAAAAAAAAAAAAAAAAAAAAAA",
            "dtype": "f8"
           },
           "z": {
            "bdata": "3FDMfRZXab8dc7q+sVJ3P0mdtorJUzO/",
            "dtype": "f8"
           }
          },
          {
           "name": "Fixed Nodes",
           "type": "scatter3d",
           "x": [],
           "y": [],
           "z": []
          },
          {
           "name": "Edges",
           "type": "scatter3d",
           "x": [
            -0.004934798261697543,
            0.11474313844886268,
            null,
            0.11474313844886268,
            0.17544852136397013,
            null
           ],
           "y": [
            0,
            0,
            null,
            0,
            0,
            null
           ],
           "z": [
            -0.0030932845387586626,
            0.00569409782079047,
            null,
            0.00569409782079047,
            -0.00029491110282227735,
            null
           ]
          },
          {
           "i": [],
           "j": [],
           "k": [],
           "name": "Faces",
           "type": "mesh3d",
           "x": {
            "bdata": "oHFX0oI2dL8zCRRrzl+9P0Plsd4YdcY/",
            "dtype": "f8"
           },
           "y": {
            "bdata": "AAAAAAAAAAAAAAAAAAAAAAAAAAAAAAAA",
            "dtype": "f8"
           },
           "z": {
            "bdata": "3FDMfRZXab8dc7q+sVJ3P0mdtorJUzO/",
            "dtype": "f8"
           }
          }
         ],
         "layout": {
          "annotations": [
           {
            "showarrow": false,
            "text": "Time: 0.57s (Step: 58/100)",
            "x": 0.05,
            "xref": "paper",
            "y": 0.95,
            "yref": "paper"
           }
          ]
         },
         "name": "57"
        },
        {
         "data": [
          {
           "name": "Free Nodes",
           "type": "scatter3d",
           "x": {
            "bdata": "v0cs4p8qdL+B4pdNx1+9P6KyrOTAdMY/",
            "dtype": "f8"
           },
           "y": {
            "bdata": "AAAAAAAAAAAAAAAAAAAAAAAAAAAAAAAA",
            "dtype": "f8"
           },
           "z": {
            "bdata": "eru6IJ4bar9HVCW6wpZ3P51tn+CrsTW/",
            "dtype": "f8"
           }
          },
          {
           "name": "Fixed Nodes",
           "type": "scatter3d",
           "x": [],
           "y": [],
           "z": []
          },
          {
           "name": "Edges",
           "type": "scatter3d",
           "x": [
            -0.004923462433696401,
            0.11474271435134577,
            null,
            0.11474271435134577,
            0.1754380337310027,
            null
           ],
           "y": [
            0,
            0,
            null,
            0,
            0,
            null
           ],
           "z": [
            -0.0031869972643429586,
            0.005759010937556991,
            null,
            0.005759010937556991,
            -0.0003310246107710248,
            null
           ]
          },
          {
           "i": [],
           "j": [],
           "k": [],
           "name": "Faces",
           "type": "mesh3d",
           "x": {
            "bdata": "v0cs4p8qdL+B4pdNx1+9P6KyrOTAdMY/",
            "dtype": "f8"
           },
           "y": {
            "bdata": "AAAAAAAAAAAAAAAAAAAAAAAAAAAAAAAA",
            "dtype": "f8"
           },
           "z": {
            "bdata": "eru6IJ4bar9HVCW6wpZ3P51tn+CrsTW/",
            "dtype": "f8"
           }
          }
         ],
         "layout": {
          "annotations": [
           {
            "showarrow": false,
            "text": "Time: 0.58s (Step: 59/100)",
            "x": 0.05,
            "xref": "paper",
            "y": 0.95,
            "yref": "paper"
           }
          ]
         },
         "name": "58"
        },
        {
         "data": [
          {
           "name": "Free Nodes",
           "type": "scatter3d",
           "x": {
            "bdata": "MjmqwPYedL8H6YnGvl+9P6SbriJsdMY/",
            "dtype": "f8"
           },
           "y": {
            "bdata": "AAAAAAAAAAAAAAAAAAAAAAAAAAAAAAAA",
            "dtype": "f8"
           },
           "z": {
            "bdata": "d+y3CFncar+YlySRAth3P+NPnoDP0ze/",
            "dtype": "f8"
           }
          },
          {
           "name": "Fixed Nodes",
           "type": "scatter3d",
           "x": [],
           "y": [],
           "z": []
          },
          {
           "name": "Edges",
           "type": "scatter3d",
           "x": [
            -0.004912341954549414,
            0.11474220606934092,
            null,
            0.11474220606934092,
            0.1754279298158653,
            null
           ],
           "y": [
            0,
            0,
            null,
            0,
            0,
            null
           ],
           "z": [
            -0.0032788981386580557,
            0.005821237590032079,
            null,
            0.005821237590032079,
            -0.000363577041406103,
            null
           ]
          },
          {
           "i": [],
           "j": [],
           "k": [],
           "name": "Faces",
           "type": "mesh3d",
           "x": {
            "bdata": "MjmqwPYedL8H6YnGvl+9P6SbriJsdMY/",
            "dtype": "f8"
           },
           "y": {
            "bdata": "AAAAAAAAAAAAAAAAAAAAAAAAAAAAAAAA",
            "dtype": "f8"
           },
           "z": {
            "bdata": "d+y3CFncar+YlySRAth3P+NPnoDP0ze/",
            "dtype": "f8"
           }
          }
         ],
         "layout": {
          "annotations": [
           {
            "showarrow": false,
            "text": "Time: 0.59s (Step: 60/100)",
            "x": 0.05,
            "xref": "paper",
            "y": 0.95,
            "yref": "paper"
           }
          ]
         },
         "name": "59"
        },
        {
         "data": [
          {
           "name": "Free Nodes",
           "type": "scatter3d",
           "x": {
            "bdata": "eqvQopATdL8KSfO9tF+9PzBvVvoadMY/",
            "dtype": "f8"
           },
           "y": {
            "bdata": "AAAAAAAAAAAAAAAAAAAAAAAAAAAAAAAA",
            "dtype": "f8"
           },
           "z": {
            "bdata": "Wd9qYyaZa78D1erKWBZ4Pz9mzuMruDm/",
            "dtype": "f8"
           }
          },
          {
           "name": "Fixed Nodes",
           "type": "scatter3d",
           "x": [],
           "y": [],
           "z": []
          },
          {
           "name": "Edges",
           "type": "scatter3d",
           "x": [
            -0.004901471123086471,
            0.11474160802325542,
            null,
            0.11474160802325542,
            0.17541825507657327,
            null
           ],
           "y": [
            0,
            0,
            null,
            0,
            0,
            null
           ],
           "z": [
            -0.0033689260265780505,
            0.005880686613342736,
            null,
            0.005880686613342736,
            -0.00039244720010742426,
            null
           ]
          },
          {
           "i": [],
           "j": [],
           "k": [],
           "name": "Faces",
           "type": "mesh3d",
           "x": {
            "bdata": "eqvQopATdL8KSfO9tF+9PzBvVvoadMY/",
            "dtype": "f8"
           },
           "y": {
            "bdata": "AAAAAAAAAAAAAAAAAAAAAAAAAAAAAAAA",
            "dtype": "f8"
           },
           "z": {
            "bdata": "Wd9qYyaZa78D1erKWBZ4Pz9mzuMruDm/",
            "dtype": "f8"
           }
          }
         ],
         "layout": {
          "annotations": [
           {
            "showarrow": false,
            "text": "Time: 0.60s (Step: 61/100)",
            "x": 0.05,
            "xref": "paper",
            "y": 0.95,
            "yref": "paper"
           }
          ]
         },
         "name": "60"
        },
        {
         "data": [
          {
           "name": "Free Nodes",
           "type": "scatter3d",
           "x": {
            "bdata": "0bDfqXYIdL9kB48dqV+9P/0o88rNc8Y/",
            "dtype": "f8"
           },
           "y": {
            "bdata": "AAAAAAAAAAAAAAAAAAAAAAAAAAAAAAAA",
            "dtype": "f8"
           },
           "z": {
            "bdata": "B1GwROdRbL9i6sdRrlF4P72ERbXVXDu/",
            "dtype": "f8"
           }
          },
          {
           "name": "Fixed Nodes",
           "type": "scatter3d",
           "x": [],
           "y": [],
           "z": []
          },
          {
           "name": "Edges",
           "type": "scatter3d",
           "x": [
            -0.004890883950775486,
            0.1147409150280772,
            null,
            0.1147409150280772,
            0.1754090538946186,
            null
           ],
           "y": [
            0,
            0,
            null,
            0,
            0,
            null
           ],
           "z": [
            -0.00345702333062026,
            0.005937272010209856,
            null,
            0.005937272010209856,
            -0.0004175206897994546,
            null
           ]
          },
          {
           "i": [],
           "j": [],
           "k": [],
           "name": "Faces",
           "type": "mesh3d",
           "x": {
            "bdata": "0bDfqXYIdL9kB48dqV+9P/0o88rNc8Y/",
            "dtype": "f8"
           },
           "y": {
            "bdata": "AAAAAAAAAAAAAAAAAAAAAAAAAAAAAAAA",
            "dtype": "f8"
           },
           "z": {
            "bdata": "B1GwROdRbL9i6sdRrlF4P72ERbXVXDu/",
            "dtype": "f8"
           }
          }
         ],
         "layout": {
          "annotations": [
           {
            "showarrow": false,
            "text": "Time: 0.61s (Step: 62/100)",
            "x": 0.05,
            "xref": "paper",
            "y": 0.95,
            "yref": "paper"
           }
          ]
         },
         "name": "61"
        },
        {
         "data": [
          {
           "name": "Free Nodes",
           "type": "scatter3d",
           "x": {
            "bdata": "4tQisLH9c79K3ALRm1+9PzNtse+Ec8Y/",
            "dtype": "f8"
           },
           "y": {
            "bdata": "AAAAAAAAAAAAAAAAAAAAAAAAAAAAAAAA",
            "dtype": "f8"
           },
           "z": {
            "bdata": "9q+RrH4Gbb8Tz2147Yl4P20j90r/vzy/",
            "dtype": "f8"
           }
          },
          {
           "name": "Fixed Nodes",
           "type": "scatter3d",
           "x": [],
           "y": [],
           "z": []
          },
          {
           "name": "Edges",
           "type": "scatter3d",
           "x": [
            -0.004880613416550635,
            0.11474012234508382,
            null,
            0.11474012234508382,
            0.1754003687263804,
            null
           ],
           "y": [
            0,
            0,
            null,
            0,
            0,
            null
           ],
           "z": [
            -0.003543136034343415,
            0.0059909130276201315,
            null,
            0.0059909130276201315,
            -0.0004386900208968512,
            null
           ]
          },
          {
           "i": [],
           "j": [],
           "k": [],
           "name": "Faces",
           "type": "mesh3d",
           "x": {
            "bdata": "4tQisLH9c79K3ALRm1+9PzNtse+Ec8Y/",
            "dtype": "f8"
           },
           "y": {
            "bdata": "AAAAAAAAAAAAAAAAAAAAAAAAAAAAAAAA",
            "dtype": "f8"
           },
           "z": {
            "bdata": "9q+RrH4Gbb8Tz2147Yl4P20j90r/vzy/",
            "dtype": "f8"
           }
          }
         ],
         "layout": {
          "annotations": [
           {
            "showarrow": false,
            "text": "Time: 0.62s (Step: 63/100)",
            "x": 0.05,
            "xref": "paper",
            "y": 0.95,
            "yref": "paper"
           }
          ]
         },
         "name": "62"
        },
        {
         "data": [
          {
           "name": "Free Nodes",
           "type": "scatter3d",
           "x": {
            "bdata": "0zcvPUrzc79L4xbGjF+9P0XJBb9Ac8Y/",
            "dtype": "f8"
           },
           "y": {
            "bdata": "AAAAAAAAAAAAAAAAAAAAAAAAAAAAAAAA",
            "dtype": "f8"
           },
           "z": {
            "bdata": "UCVOktG2bb95FhoCAr94P3VlnFL53z2/",
            "dtype": "f8"
           }
          },
          {
           "name": "Fixed Nodes",
           "type": "scatter3d",
           "x": [],
           "y": [],
           "z": []
          },
          {
           "name": "Edges",
           "type": "scatter3d",
           "x": [
            -0.00487069129571967,
            0.11473922573248989,
            null,
            0.11473922573248989,
            0.17539223983073718,
            null
           ],
           "y": [
            0,
            0,
            null,
            0,
            0,
            null
           ],
           "z": [
            -0.0036272137826400055,
            0.00604153427560094,
            null,
            0.00604153427560094,
            -0.0004558547685618788,
            null
           ]
          },
          {
           "i": [],
           "j": [],
           "k": [],
           "name": "Faces",
           "type": "mesh3d",
           "x": {
            "bdata": "0zcvPUrzc79L4xbGjF+9P0XJBb9Ac8Y/",
            "dtype": "f8"
           },
           "y": {
            "bdata": "AAAAAAAAAAAAAAAAAAAAAAAAAAAAAAAA",
            "dtype": "f8"
           },
           "z": {
            "bdata": "UCVOktG2bb95FhoCAr94P3VlnFL53z2/",
            "dtype": "f8"
           }
          }
         ],
         "layout": {
          "annotations": [
           {
            "showarrow": false,
            "text": "Time: 0.63s (Step: 64/100)",
            "x": 0.05,
            "xref": "paper",
            "y": 0.95,
            "yref": "paper"
           }
          ]
         },
         "name": "63"
        },
        {
         "data": [
          {
           "name": "Free Nodes",
           "type": "scatter3d",
           "x": {
            "bdata": "atZne0jpc7/CLOrse1+9P75EJIoBc8Y/",
            "dtype": "f8"
           },
           "y": {
            "bdata": "AAAAAAAAAAAAAAAAAAAAAAAAAAAAAAAA",
            "dtype": "f8"
           },
           "z": {
            "bdata": "IpKz7sZibr/vZUcq2fB4P8PtGnUzuz6/",
            "dtype": "f8"
           }
          },
          {
           "name": "Fixed Nodes",
           "type": "scatter3d",
           "x": [],
           "y": [],
           "z": []
          },
          {
           "name": "Edges",
           "type": "scatter3d",
           "x": [
            -0.0048611480074122,
            0.11473822149325755,
            null,
            0.11473822149325755,
            0.17538470502089426,
            null
           ],
           "y": [
            0,
            0,
            null,
            0,
            0,
            null
           ],
           "z": [
            -0.003709209957025076,
            0.006089065839171222,
            null,
            0.006089065839171222,
            -0.00046892172131737466,
            null
           ]
          },
          {
           "i": [],
           "j": [],
           "k": [],
           "name": "Faces",
           "type": "mesh3d",
           "x": {
            "bdata": "atZne0jpc7/CLOrse1+9P75EJIoBc8Y/",
            "dtype": "f8"
           },
           "y": {
            "bdata": "AAAAAAAAAAAAAAAAAAAAAAAAAAAAAAAA",
            "dtype": "f8"
           },
           "z": {
            "bdata": "IpKz7sZibr/vZUcq2fB4P8PtGnUzuz6/",
            "dtype": "f8"
           }
          }
         ],
         "layout": {
          "annotations": [
           {
            "showarrow": false,
            "text": "Time: 0.64s (Step: 65/100)",
            "x": 0.05,
            "xref": "paper",
            "y": 0.95,
            "yref": "paper"
           }
          ]
         },
         "name": "64"
        },
        {
         "data": [
          {
           "name": "Free Nodes",
           "type": "scatter3d",
           "x": {
            "bdata": "xe31LLTfc7/6sCM4aV+9Pzwxd5zHcsY/",
            "dtype": "f8"
           },
           "y": {
            "bdata": "AAAAAAAAAAAAAAAAAAAAAAAAAAAAAAAA",
            "dtype": "f8"
           },
           "z": {
            "bdata": "5H1gxUcKb79y/ayrYR95PzCAZuw8UD+/",
            "dtype": "f8"
           }
          },
          {
           "name": "Fixed Nodes",
           "type": "scatter3d",
           "x": [],
           "y": [],
           "z": []
          },
          {
           "name": "Edges",
           "type": "scatter3d",
           "x": [
            -0.00485201245407602,
            0.11473710651961602,
            null,
            0.11473710651961602,
            0.175377799414841,
            null
           ],
           "y": [
            0,
            0,
            null,
            0,
            0,
            null
           ],
           "z": [
            -0.0037890817429937374,
            0.006133443380178393,
            null,
            0.006133443380178393,
            -0.00047780501736305585,
            null
           ]
          },
          {
           "i": [],
           "j": [],
           "k": [],
           "name": "Faces",
           "type": "mesh3d",
           "x": {
            "bdata": "xe31LLTfc7/6sCM4aV+9Pzwxd5zHcsY/",
            "dtype": "f8"
           },
           "y": {
            "bdata": "AAAAAAAAAAAAAAAAAAAAAAAAAAAAAAAA",
            "dtype": "f8"
           },
           "z": {
            "bdata": "5H1gxUcKb79y/ayrYR95PzCAZuw8UD+/",
            "dtype": "f8"
           }
          }
         ],
         "layout": {
          "annotations": [
           {
            "showarrow": false,
            "text": "Time: 0.65s (Step: 66/100)",
            "x": 0.05,
            "xref": "paper",
            "y": 0.95,
            "yref": "paper"
           }
          ]
         },
         "name": "65"
        },
        {
         "data": [
          {
           "name": "Free Nodes",
           "type": "scatter3d",
           "x": {
            "bdata": "xq5FoZTWc7/CQx+dVF+9P3gcHjuTcsY/",
            "dtype": "f8"
           },
           "y": {
            "bdata": "AAAAAAAAAAAAAAAAAAAAAAAAAAAAAAAA",
            "dtype": "f8"
           },
           "z": {
            "bdata": "wjgULT+tb7+W+KLGi0p5P+8NiA3FnT+/",
            "dtype": "f8"
           }
          },
          {
           "name": "Fixed Nodes",
           "type": "scatter3d",
           "x": [],
           "y": [],
           "z": []
          },
          {
           "name": "Edges",
           "type": "scatter3d",
           "x": [
            -0.004843311868494465,
            0.11473587833394475,
            null,
            0.11473587833394475,
            0.17537155520060188,
            null
           ],
           "y": [
            0,
            0,
            null,
            0,
            0,
            null
           ],
           "z": [
            -0.0038667901905063704,
            0.006174608230308595,
            null,
            0.006174608230308595,
            -0.0004824262701108297,
            null
           ]
          },
          {
           "i": [],
           "j": [],
           "k": [],
           "name": "Faces",
           "type": "mesh3d",
           "x": {
            "bdata": "xq5FoZTWc7/CQx+dVF+9P3gcHjuTcsY/",
            "dtype": "f8"
           },
           "y": {
            "bdata": "AAAAAAAAAAAAAAAAAAAAAAAAAAAAAAAA",
            "dtype": "f8"
           },
           "z": {
            "bdata": "wjgULT+tb7+W+KLGi0p5P+8NiA3FnT+/",
            "dtype": "f8"
           }
          }
         ],
         "layout": {
          "annotations": [
           {
            "showarrow": false,
            "text": "Time: 0.66s (Step: 67/100)",
            "x": 0.05,
            "xref": "paper",
            "y": 0.95,
            "yref": "paper"
           }
          ]
         },
         "name": "66"
        },
        {
         "data": [
          {
           "name": "Free Nodes",
           "type": "scatter3d",
           "x": {
            "bdata": "rBw0q/DNc7+tJhYUPl+9P/isdqRkcsY/",
            "dtype": "f8"
           },
           "y": {
            "bdata": "AAAAAAAAAAAAAAAAAAAAAAAAAAAAAAAA",
            "dtype": "f8"
           },
           "z": {
            "bdata": "ReuIK80lcL9Rb+5GSXJ5Pzn3Cceboj+/",
            "dtype": "f8"
           }
          },
          {
           "name": "Fixed Nodes",
           "type": "scatter3d",
           "x": [],
           "y": [],
           "z": []
          },
          {
           "name": "Edges",
           "type": "scatter3d",
           "x": [
            -0.00483507167087464,
            0.11473453512567273,
            null,
            0.11473453512567273,
            0.17536600141952596,
            null
           ],
           "y": [
            0,
            0,
            null,
            0,
            0,
            null
           ],
           "z": [
            -0.003942300267733516,
            0.006212507475449617,
            null,
            0.006212507475449617,
            -0.0004827146831657306,
            null
           ]
          },
          {
           "i": [],
           "j": [],
           "k": [],
           "name": "Faces",
           "type": "mesh3d",
           "x": {
            "bdata": "rBw0q/DNc7+tJhYUPl+9P/isdqRkcsY/",
            "dtype": "f8"
           },
           "y": {
            "bdata": "AAAAAAAAAAAAAAAAAAAAAAAAAAAAAAAA",
            "dtype": "f8"
           },
           "z": {
            "bdata": "ReuIK80lcL9Rb+5GSXJ5Pzn3Cceboj+/",
            "dtype": "f8"
           }
          }
         ],
         "layout": {
          "annotations": [
           {
            "showarrow": false,
            "text": "Time: 0.67s (Step: 68/100)",
            "x": 0.05,
            "xref": "paper",
            "y": 0.95,
            "yref": "paper"
           }
          ]
         },
         "name": "67"
        },
        {
         "data": [
          {
           "name": "Free Nodes",
           "type": "scatter3d",
           "x": {
            "bdata": "un/3l87Fc7+d3kKYJV+9PxwQsA88csY/",
            "dtype": "f8"
           },
           "y": {
            "bdata": "AAAAAAAAAAAAAAAAAAAAAAAAAAAAAAAA",
            "dtype": "f8"
           },
           "z": {
            "bdata": "DHTKSqRycL/Z+PSIjZZ5P+SbwhOyXT+/",
            "dtype": "f8"
           }
          },
          {
           "name": "Fixed Nodes",
           "type": "scatter3d",
           "x": [],
           "y": [],
           "z": []
          },
          {
           "name": "Edges",
           "type": "scatter3d",
           "x": [
            -0.004827315336541399,
            0.11473307578386956,
            null,
            0.11473307578386956,
            0.17536116376879896,
            null
           ],
           "y": [
            0,
            0,
            null,
            0,
            0,
            null
           ],
           "z": [
            -0.004015580908029125,
            0.006247094031378541,
            null,
            0.006247094031378541,
            -0.0004786071547279709,
            null
           ]
          },
          {
           "i": [],
           "j": [],
           "k": [],
           "name": "Faces",
           "type": "mesh3d",
           "x": {
            "bdata": "un/3l87Fc7+d3kKYJV+9PxwQsA88csY/",
            "dtype": "f8"
           },
           "y": {
            "bdata": "AAAAAAAAAAAAAAAAAAAAAAAAAAAAAAAA",
            "dtype": "f8"
           },
           "z": {
            "bdata": "DHTKSqRycL/Z+PSIjZZ5P+SbwhOyXT+/",
            "dtype": "f8"
           }
          }
         ],
         "layout": {
          "annotations": [
           {
            "showarrow": false,
            "text": "Time: 0.68s (Step: 69/100)",
            "x": 0.05,
            "xref": "paper",
            "y": 0.95,
            "yref": "paper"
           }
          ]
         },
         "name": "68"
        },
        {
         "data": [
          {
           "name": "Free Nodes",
           "type": "scatter3d",
           "x": {
            "bdata": "tirPJjS+c7/B+P8nC1+9P0yzaawZcsY/",
            "dtype": "f8"
           },
           "y": {
            "bdata": "AAAAAAAAAAAAAAAAAAAAAAAAAAAAAAAA",
            "dtype": "f8"
           },
           "z": {
            "bdata": "Rt2rsB29cL+LPld+Tbd5P4++9GEazj6/",
            "dtype": "f8"
           }
          },
          {
           "name": "Fixed Nodes",
           "type": "scatter3d",
           "x": [],
           "y": [],
           "z": []
          },
          {
           "name": "Edges",
           "type": "scatter3d",
           "x": [
            -0.004820064274961558,
            0.11473149992523003,
            null,
            0.11473149992523003,
            0.17535706442449805,
            null
           ],
           "y": [
            0,
            0,
            null,
            0,
            0,
            null
           ],
           "z": [
            -0.004086605050125874,
            0.006278326710755909,
            null,
            0.006278326710755909,
            -0.0004700483713859582,
            null
           ]
          },
          {
           "i": [],
           "j": [],
           "k": [],
           "name": "Faces",
           "type": "mesh3d",
           "x": {
            "bdata": "tirPJjS+c7/B+P8nC1+9P0yzaawZcsY/",
            "dtype": "f8"
           },
           "y": {
            "bdata": "AAAAAAAAAAAAAAAAAAAAAAAAAAAAAAAA",
            "dtype": "f8"
           },
           "z": {
            "bdata": "Rt2rsB29cL+LPld+Tbd5P4++9GEazj6/",
            "dtype": "f8"
           }
          }
         ],
         "layout": {
          "annotations": [
           {
            "showarrow": false,
            "text": "Time: 0.69s (Step: 70/100)",
            "x": 0.05,
            "xref": "paper",
            "y": 0.95,
            "yref": "paper"
           }
          ]
         },
         "name": "69"
        },
        {
         "data": [
          {
           "name": "Free Nodes",
           "type": "scatter3d",
           "x": {
            "bdata": "0FeHgSa3c7/Zc+HE7l69P5n5XaL9ccY/",
            "dtype": "f8"
           },
           "y": {
            "bdata": "AAAAAAAAAAAAAAAAAAAAAAAAAAAAAAAA",
            "dtype": "f8"
           },
           "z": {
            "bdata": "3asVLzMFcb/CMfKxf9R5P/87tu4I8z2/",
            "dtype": "f8"
           }
          },
          {
           "name": "Fixed Nodes",
           "type": "scatter3d",
           "x": [],
           "y": [],
           "z": []
          },
          {
           "name": "Edges",
           "type": "scatter3d",
           "x": [
            -0.00481333772082411,
            0.11472980791718558,
            null,
            0.11472980791718558,
            0.1753537218864494,
            null
           ],
           "y": [
            0,
            0,
            null,
            0,
            0,
            null
           ],
           "z": [
            -0.004155349671559142,
            0.006306170281402181,
            null,
            0.006306170281402181,
            -0.0004569908912452347,
            null
           ]
          },
          {
           "i": [],
           "j": [],
           "k": [],
           "name": "Faces",
           "type": "mesh3d",
           "x": {
            "bdata": "0FeHgSa3c7/Zc+HE7l69P5n5XaL9ccY/",
            "dtype": "f8"
           },
           "y": {
            "bdata": "AAAAAAAAAAAAAAAAAAAAAAAAAAAAAAAA",
            "dtype": "f8"
           },
           "z": {
            "bdata": "3asVLzMFcb/CMfKxf9R5P/87tu4I8z2/",
            "dtype": "f8"
           }
          }
         ],
         "layout": {
          "annotations": [
           {
            "showarrow": false,
            "text": "Time: 0.70s (Step: 71/100)",
            "x": 0.05,
            "xref": "paper",
            "y": 0.95,
            "yref": "paper"
           }
          ]
         },
         "name": "70"
        },
        {
         "data": [
          {
           "name": "Free Nodes",
           "type": "scatter3d",
           "x": {
            "bdata": "hHLcNaqwc79wi8hz0F69P9SKGRHoccY/",
            "dtype": "f8"
           },
           "y": {
            "bdata": "AAAAAAAAAAAAAAAAAAAAAAAAAAAAAAAA",
            "dtype": "f8"
           },
           "z": {
            "bdata": "TNtQr99Kcb8kNkZLHO55P0rRgxXUyzy/",
            "dtype": "f8"
           }
          },
          {
           "name": "Fixed Nodes",
           "type": "scatter3d",
           "x": [],
           "y": [],
           "z": []
          },
          {
           "name": "Edges",
           "type": "scatter3d",
           "x": [
            -0.004807152637820725,
            0.11472800089590662,
            null,
            0.11472800089590662,
            0.17535115084600383,
            null
           ],
           "y": [
            0,
            0,
            null,
            0,
            0,
            null
           ],
           "z": [
            -0.004221795815331952,
            0.0063305955158177475,
            null,
            0.0063305955158177475,
            -0.0004393952163035576,
            null
           ]
          },
          {
           "i": [],
           "j": [],
           "k": [],
           "name": "Faces",
           "type": "mesh3d",
           "x": {
            "bdata": "hHLcNaqwc79wi8hz0F69P9SKGRHoccY/",
            "dtype": "f8"
           },
           "y": {
            "bdata": "AAAAAAAAAAAAAAAAAAAAAAAAAAAAAAAA",
            "dtype": "f8"
           },
           "z": {
            "bdata": "TNtQr99Kcb8kNkZLHO55P0rRgxXUyzy/",
            "dtype": "f8"
           }
          }
         ],
         "layout": {
          "annotations": [
           {
            "showarrow": false,
            "text": "Time: 0.71s (Step: 72/100)",
            "x": 0.05,
            "xref": "paper",
            "y": 0.95,
            "yref": "paper"
           }
          ]
         },
         "name": "71"
        },
        {
         "data": [
          {
           "name": "Free Nodes",
           "type": "scatter3d",
           "x": {
            "bdata": "WbPHL8Oqc79SrPE8sF69P/XDvw/ZccY/",
            "dtype": "f8"
           },
           "y": {
            "bdata": "AAAAAAAAAAAAAAAAAAAAAAAAAAAAAAAA",
            "dtype": "f8"
           },
           "z": {
            "bdata": "yF1lMx+Ocb/iTkMRHQR6P03B3pP0Vzu/",
            "dtype": "f8"
           }
          },
          {
           "name": "Fixed Nodes",
           "type": "scatter3d",
           "x": [],
           "y": [],
           "z": []
          },
          {
           "name": "Edges",
           "type": "scatter3d",
           "x": [
            -0.004801523635688942,
            0.11472608077899452,
            null,
            0.11472608077899452,
            0.17534936207769616,
            null
           ],
           "y": [
            0,
            0,
            null,
            0,
            0,
            null
           ],
           "z": [
            -0.004285928609838625,
            0.006351579231892864,
            null,
            0.006351579231892864,
            -0.0004172298539471167,
            null
           ]
          },
          {
           "i": [],
           "j": [],
           "k": [],
           "name": "Faces",
           "type": "mesh3d",
           "x": {
            "bdata": "WbPHL8Oqc79SrPE8sF69P/XDvw/ZccY/",
            "dtype": "f8"
           },
           "y": {
            "bdata": "AAAAAAAAAAAAAAAAAAAAAAAAAAAAAAAA",
            "dtype": "f8"
           },
           "z": {
            "bdata": "yF1lMx+Ocb/iTkMRHQR6P03B3pP0Vzu/",
            "dtype": "f8"
           }
          }
         ],
         "layout": {
          "annotations": [
           {
            "showarrow": false,
            "text": "Time: 0.72s (Step: 73/100)",
            "x": 0.05,
            "xref": "paper",
            "y": 0.95,
            "yref": "paper"
           }
          ]
         },
         "name": "72"
        },
        {
         "data": [
          {
           "name": "Free Nodes",
           "type": "scatter3d",
           "x": {
            "bdata": "uXa9tHSlc7+3Y/wrjl69P6e63KzQccY/",
            "dtype": "f8"
           },
           "y": {
            "bdata": "AAAAAAAAAAAAAAAAAAAAAAAAAAAAAAAA",
            "dtype": "f8"
           },
           "z": {
            "bdata": "eWsC1+7Ocb+iGnlsfRZ6Pz5ex8AFlzm/",
            "dtype": "f8"
           }
          },
          {
           "name": "Fixed Nodes",
           "type": "scatter3d",
           "x": [],
           "y": [],
           "z": []
          },
          {
           "name": "Edges",
           "type": "scatter3d",
           "x": [
            -0.004796462900996162,
            0.1147240502726977,
            null,
            0.1147240502726977,
            0.1753483623555969,
            null
           ],
           "y": [
            0,
            0,
            null,
            0,
            0,
            null
           ],
           "z": [
            -0.004347737282070046,
            0.006369104324739057,
            null,
            0.006369104324739057,
            -0.0003904713674080829,
            null
           ]
          },
          {
           "i": [],
           "j": [],
           "k": [],
           "name": "Faces",
           "type": "mesh3d",
           "x": {
            "bdata": "uXa9tHSlc7+3Y/wrjl69P6e63KzQccY/",
            "dtype": "f8"
           },
           "y": {
            "bdata": "AAAAAAAAAAAAAAAAAAAAAAAAAAAAAAAA",
            "dtype": "f8"
           },
           "z": {
            "bdata": "eWsC1+7Ocb+iGnlsfRZ6Pz5ex8AFlzm/",
            "dtype": "f8"
           }
          }
         ],
         "layout": {
          "annotations": [
           {
            "showarrow": false,
            "text": "Time: 0.73s (Step: 74/100)",
            "x": 0.05,
            "xref": "paper",
            "y": 0.95,
            "yref": "paper"
           }
          ]
         },
         "name": "73"
        },
        {
         "data": [
          {
           "name": "Free Nodes",
           "type": "scatter3d",
           "x": {
            "bdata": "HzDkX8Ggc78SJe1Pal69PxMvRe7OccY/",
            "dtype": "f8"
           },
           "y": {
            "bdata": "AAAAAAAAAAAAAAAAAAAAAAAAAAAAAAAA",
            "dtype": "f8"
           },
           "z": {
            "bdata": "qh3xz0wNcr8xKaloOiV6PxoN3rfFiDe/",
            "dtype": "f8"
           }
          },
          {
           "name": "Fixed Nodes",
           "type": "scatter3d",
           "x": [],
           "y": [],
           "z": []
          },
          {
           "name": "Edges",
           "type": "scatter3d",
           "x": [
            -0.004791980142055534,
            0.11472191287352398,
            null,
            0.11472191287352398,
            0.1753481543950036,
            null
           ],
           "y": [
            0,
            0,
            null,
            0,
            0,
            null
           ],
           "z": [
            -0.004407215164128267,
            0.00638315978955921,
            null,
            0.00638315978955921,
            -0.0003591044149901676,
            null
           ]
          },
          {
           "i": [],
           "j": [],
           "k": [],
           "name": "Faces",
           "type": "mesh3d",
           "x": {
            "bdata": "HzDkX8Ggc78SJe1Pal69PxMvRe7OccY/",
            "dtype": "f8"
           },
           "y": {
            "bdata": "AAAAAAAAAAAAAAAAAAAAAAAAAAAAAAAA",
            "dtype": "f8"
           },
           "z": {
            "bdata": "qh3xz0wNcr8xKaloOiV6PxoN3rfFiDe/",
            "dtype": "f8"
           }
          }
         ],
         "layout": {
          "annotations": [
           {
            "showarrow": false,
            "text": "Time: 0.74s (Step: 75/100)",
            "x": 0.05,
            "xref": "paper",
            "y": 0.95,
            "yref": "paper"
           }
          ]
         },
         "name": "74"
        },
        {
         "data": [
          {
           "name": "Free Nodes",
           "type": "scatter3d",
           "x": {
            "bdata": "VkRJH6ucc7+RzSi7RF69PzKvBNHTccY/",
            "dtype": "f8"
           },
           "y": {
            "bdata": "AAAAAAAAAAAAAAAAAAAAAAAAAAAAAAAA",
            "dtype": "f8"
           },
           "z": {
            "bdata": "KecRbjhJcr//+Lm1UjB6P/pu63cVLTW/",
            "dtype": "f8"
           }
          },
          {
           "name": "Fixed Nodes",
           "type": "scatter3d",
           "x": [],
           "y": [],
           "z": []
          },
          {
           "name": "Edges",
           "type": "scatter3d",
           "x": [
            -0.004788082548274527,
            0.1147196728641602,
            null,
            0.1147196728641602,
            0.17534873681995006,
            null
           ],
           "y": [
            0,
            0,
            null,
            0,
            0,
            null
           ],
           "z": [
            -0.004464359693082711,
            0.006393740735459951,
            null,
            0.006393740735459951,
            -0.00032312177783720664,
            null
           ]
          },
          {
           "i": [],
           "j": [],
           "k": [],
           "name": "Faces",
           "type": "mesh3d",
           "x": {
            "bdata": "VkRJH6ucc7+RzSi7RF69PzKvBNHTccY/",
            "dtype": "f8"
           },
           "y": {
            "bdata": "AAAAAAAAAAAAAAAAAAAAAAAAAAAAAAAA",
            "dtype": "f8"
           },
           "z": {
            "bdata": "KecRbjhJcr//+Lm1UjB6P/pu63cVLTW/",
            "dtype": "f8"
           }
          }
         ],
         "layout": {
          "annotations": [
           {
            "showarrow": false,
            "text": "Time: 0.75s (Step: 76/100)",
            "x": 0.05,
            "xref": "paper",
            "y": 0.95,
            "yref": "paper"
           }
          ]
         },
         "name": "75"
        },
        {
         "data": [
          {
           "name": "Free Nodes",
           "type": "scatter3d",
           "x": {
            "bdata": "K3kXMjOZc7+n12mDHV69P78WWknfccY/",
            "dtype": "f8"
           },
           "y": {
            "bdata": "AAAAAAAAAAAAAAAAAAAAAAAAAAAAAAAA",
            "dtype": "f8"
           },
           "z": {
            "bdata": "5I7lGrKCcr/tswioxjd6PwtRiPT4gzK/",
            "dtype": "f8"
           }
          },
          {
           "name": "Fixed Nodes",
           "type": "scatter3d",
           "x": [],
           "y": [],
           "z": []
          },
          {
           "name": "Edges",
           "type": "scatter3d",
           "x": [
            -0.0047847747641454426,
            0.1147173353036509,
            null,
            0.1147173353036509,
            0.17535010415683946,
            null
           ],
           "y": [
            0,
            0,
            null,
            0,
            0,
            null
           ],
           "z": [
            -0.004519172404204606,
            0.0064008483900978965,
            null,
            0.0064008483900978965,
            -0.0002825243759912033,
            null
           ]
          },
          {
           "i": [],
           "j": [],
           "k": [],
           "name": "Faces",
           "type": "mesh3d",
           "x": {
            "bdata": "K3kXMjOZc7+n12mDHV69P78WWknfccY/",
            "dtype": "f8"
           },
           "y": {
            "bdata": "AAAAAAAAAAAAAAAAAAAAAAAAAAAAAAAA",
            "dtype": "f8"
           },
           "z": {
            "bdata": "5I7lGrKCcr/tswioxjd6PwtRiPT4gzK/",
            "dtype": "f8"
           }
          }
         ],
         "layout": {
          "annotations": [
           {
            "showarrow": false,
            "text": "Time: 0.76s (Step: 77/100)",
            "x": 0.05,
            "xref": "paper",
            "y": 0.95,
            "yref": "paper"
           }
          ]
         },
         "name": "76"
        },
        {
         "data": [
          {
           "name": "Free Nodes",
           "type": "scatter3d",
           "x": {
            "bdata": "m/7QJ1qWc7+rPK/B9F29P+N9wkLxccY/",
            "dtype": "f8"
           },
           "y": {
            "bdata": "AAAAAAAAAAAAAAAAAAAAAAAAAAAAAAAA",
            "dtype": "f8"
           },
           "z": {
            "bdata": "XmSiWLu5cr/Pkxc4mDt6P2jrLTUuGy+/",
            "dtype": "f8"
           }
          },
          {
           "name": "Fixed Nodes",
           "type": "scatter3d",
           "x": [],
           "y": [],
           "z": []
          },
          {
           "name": "Edges",
           "type": "scatter3d",
           "x": [
            -0.004782058877992458,
            0.11471490601182903,
            null,
            0.11471490601182903,
            0.17535224685433012,
            null
           ],
           "y": [
            0,
            0,
            null,
            0,
            0,
            null
           ],
           "z": [
            -0.004571658917620429,
            0.0064044900950408065,
            null,
            0.0064044900950408065,
            -0.00023732127246120093,
            null
           ]
          },
          {
           "i": [],
           "j": [],
           "k": [],
           "name": "Faces",
           "type": "mesh3d",
           "x": {
            "bdata": "m/7QJ1qWc7+rPK/B9F29P+N9wkLxccY/",
            "dtype": "f8"
           },
           "y": {
            "bdata": "AAAAAAAAAAAAAAAAAAAAAAAAAAAAAAAA",
            "dtype": "f8"
           },
           "z": {
            "bdata": "XmSiWLu5cr/Pkxc4mDt6P2jrLTUuGy+/",
            "dtype": "f8"
           }
          }
         ],
         "layout": {
          "annotations": [
           {
            "showarrow": false,
            "text": "Time: 0.77s (Step: 78/100)",
            "x": 0.05,
            "xref": "paper",
            "y": 0.95,
            "yref": "paper"
           }
          ]
         },
         "name": "77"
        },
        {
         "data": [
          {
           "name": "Free Nodes",
           "type": "scatter3d",
           "x": {
            "bdata": "nWmN4B+Uc79nDiWSyl29P3yPEqAJcsY/",
            "dtype": "f8"
           },
           "y": {
            "bdata": "AAAAAAAAAAAAAAAAAAAAAAAAAAAAAAAA",
            "dtype": "f8"
           },
           "z": {
            "bdata": "KXjWwFbucr9FspYByzt6P7MPc45zlCi/",
            "dtype": "f8"
           }
          },
          {
           "name": "Fixed Nodes",
           "type": "scatter3d",
           "x": [],
           "y": [],
           "z": []
          },
          {
           "name": "Edges",
           "type": "scatter3d",
           "x": [
            -0.004779934425494761,
            0.11471239154803357,
            null,
            0.11471239154803357,
            0.17535515132942325,
            null
           ],
           "y": [
            0,
            0,
            null,
            0,
            0,
            null
           ],
           "z": [
            -0.004621828918429252,
            0.006404679291716568,
            null,
            0.006404679291716568,
            -0.0001875296650039028,
            null
           ]
          },
          {
           "i": [],
           "j": [],
           "k": [],
           "name": "Faces",
           "type": "mesh3d",
           "x": {
            "bdata": "nWmN4B+Uc79nDiWSyl29P3yPEqAJcsY/",
            "dtype": "f8"
           },
           "y": {
            "bdata": "AAAAAAAAAAAAAAAAAAAAAAAAAAAAAAAA",
            "dtype": "f8"
           },
           "z": {
            "bdata": "KXjWwFbucr9FspYByzt6P7MPc45zlCi/",
            "dtype": "f8"
           }
          }
         ],
         "layout": {
          "annotations": [
           {
            "showarrow": false,
            "text": "Time: 0.78s (Step: 79/100)",
            "x": 0.05,
            "xref": "paper",
            "y": 0.95,
            "yref": "paper"
           }
          ]
         },
         "name": "78"
        },
        {
         "data": [
          {
           "name": "Free Nodes",
           "type": "scatter3d",
           "x": {
            "bdata": "kUg6joOSc79l3gYUn129P3MmnjsocsY/",
            "dtype": "f8"
           },
           "y": {
            "bdata": "AAAAAAAAAAAAAAAAAAAAAAAAAAAAAAAA",
            "dtype": "f8"
           },
           "z": {
            "bdata": "/LSXAoggc79K7sRBZDh6P8F22mGbdCG/",
            "dtype": "f8"
           }
          },
          {
           "name": "Fixed Nodes",
           "type": "scatter3d",
           "x": [],
           "y": [],
           "z": []
          },
          {
           "name": "Edges",
           "type": "scatter3d",
           "x": [
            -0.004778398407909405,
            0.11470979918419173,
            null,
            0.11470979918419173,
            0.1753588000395215,
            null
           ],
           "y": [
            0,
            0,
            null,
            0,
            0,
            null
           ],
           "z": [
            -0.004669696130332964,
            0.006401435497817307,
            null,
            0.006401435497817307,
            -0.00013317486530166868,
            null
           ]
          },
          {
           "i": [],
           "j": [],
           "k": [],
           "name": "Faces",
           "type": "mesh3d",
           "x": {
            "bdata": "kUg6joOSc79l3gYUn129P3MmnjsocsY/",
            "dtype": "f8"
           },
           "y": {
            "bdata": "AAAAAAAAAAAAAAAAAAAAAAAAAAAAAAAA",
            "dtype": "f8"
           },
           "z": {
            "bdata": "/LSXAoggc79K7sRBZDh6P8F22mGbdCG/",
            "dtype": "f8"
           }
          }
         ],
         "layout": {
          "annotations": [
           {
            "showarrow": false,
            "text": "Time: 0.79s (Step: 80/100)",
            "x": 0.05,
            "xref": "paper",
            "y": 0.95,
            "yref": "paper"
           }
          ]
         },
         "name": "79"
        },
        {
         "data": [
          {
           "name": "Free Nodes",
           "type": "scatter3d",
           "x": {
            "bdata": "TUnbtoORc7/cFHxpcl29P//3bedMcsY/",
            "dtype": "f8"
           },
           "y": {
            "bdata": "AAAAAAAAAAAAAAAAAAAAAAAAAAAAAAAA",
            "dtype": "f8"
           },
           "z": {
            "bdata": "o8hC4FNQc7/PhSbVajF6P1zGuwmJeRO/",
            "dtype": "f8"
           }
          },
          {
           "name": "Fixed Nodes",
           "type": "scatter3d",
           "x": [],
           "y": [],
           "z": []
          },
          {
           "name": "Edges",
           "type": "scatter3d",
           "x": [
            -0.004777445324821561,
            0.11470713687238593,
            null,
            0.11470713687238593,
            0.1753631715800452,
            null
           ],
           "y": [
            0,
            0,
            null,
            0,
            0,
            null
           ],
           "z": [
            -0.0047152782828324994,
            0.006394784274023248,
            null,
            0.006394784274023248,
            -0.00007429026521401635,
            null
           ]
          },
          {
           "i": [],
           "j": [],
           "k": [],
           "name": "Faces",
           "type": "mesh3d",
           "x": {
            "bdata": "TUnbtoORc7/cFHxpcl29P//3bedMcsY/",
            "dtype": "f8"
           },
           "y": {
            "bdata": "AAAAAAAAAAAAAAAAAAAAAAAAAAAAAAAA",
            "dtype": "f8"
           },
           "z": {
            "bdata": "o8hC4FNQc7/PhSbVajF6P1zGuwmJeRO/",
            "dtype": "f8"
           }
          }
         ],
         "layout": {
          "annotations": [
           {
            "showarrow": false,
            "text": "Time: 0.80s (Step: 81/100)",
            "x": 0.05,
            "xref": "paper",
            "y": 0.95,
            "yref": "paper"
           }
          ]
         },
         "name": "80"
        },
        {
         "data": [
          {
           "name": "Free Nodes",
           "type": "scatter3d",
           "x": {
            "bdata": "yzfFNx6Rc7/xZG63RF29P1v3gm13csY/",
            "dtype": "f8"
           },
           "y": {
            "bdata": "AAAAAAAAAAAAAAAAAAAAAAAAAAAAAAAA",
            "dtype": "f8"
           },
           "z": {
            "bdata": "3N7JLMB9c785BI805yZ6PxBoq+Es5ea+",
            "dtype": "f8"
           }
          },
          {
           "name": "Fixed Nodes",
           "type": "scatter3d",
           "x": [],
           "y": [],
           "z": []
          },
          {
           "name": "Edges",
           "type": "scatter3d",
           "x": [
            -0.00477706722115374,
            0.11470441320706805,
            null,
            0.11470441320706805,
            0.17536824080701305,
            null
           ],
           "y": [
            0,
            0,
            null,
            0,
            0,
            null
           ],
           "z": [
            -0.004758597072047368,
            0.006384757180911521,
            null,
            0.006384757180911521,
            -0.000010917289775692229,
            null
           ]
          },
          {
           "i": [],
           "j": [],
           "k": [],
           "name": "Faces",
           "type": "mesh3d",
           "x": {
            "bdata": "yzfFNx6Rc7/xZG63RF29P1v3gm13csY/",
            "dtype": "f8"
           },
           "y": {
            "bdata": "AAAAAAAAAAAAAAAAAAAAAAAAAAAAAAAA",
            "dtype": "f8"
           },
           "z": {
            "bdata": "3N7JLMB9c785BI805yZ6PxBoq+Es5ea+",
            "dtype": "f8"
           }
          }
         ],
         "layout": {
          "annotations": [
           {
            "showarrow": false,
            "text": "Time: 0.81s (Step: 82/100)",
            "x": 0.05,
            "xref": "paper",
            "y": 0.95,
            "yref": "paper"
           }
          ]
         },
         "name": "81"
        },
        {
         "data": [
          {
           "name": "Free Nodes",
           "type": "scatter3d",
           "x": {
            "bdata": "v3bNSVCRc7/Yl1olFl29P2kGJ5CncsY/",
            "dtype": "f8"
           },
           "y": {
            "bdata": "AAAAAAAAAAAAAAAAAAAAAAAAAAAAAAAA",
            "dtype": "f8"
           },
           "z": {
            "bdata": "YESUyNOoc782OXxx4xh6P7Lrkr9F1A0/",
            "dtype": "f8"
           }
          },
          {
           "name": "Fixed Nodes",
           "type": "scatter3d",
           "x": [],
           "y": [],
           "z": []
          },
          {
           "name": "Edges",
           "type": "scatter3d",
           "x": [
            -0.004777253748071863,
            0.11470163738212535,
            null,
            0.11470163738212535,
            0.1753739789838165,
            null
           ],
           "y": [
            0,
            0,
            null,
            0,
            0,
            null
           ],
           "z": [
            -0.004799678115220279,
            0.006371391725919209,
            null,
            0.006371391725919209,
            0.00005689466338184376,
            null
           ]
          },
          {
           "i": [],
           "j": [],
           "k": [],
           "name": "Faces",
           "type": "mesh3d",
           "x": {
            "bdata": "v3bNSVCRc7/Yl1olFl29P2kGJ5CncsY/",
            "dtype": "f8"
           },
           "y": {
            "bdata": "AAAAAAAAAAAAAAAAAAAAAAAAAAAAAAAA",
            "dtype": "f8"
           },
           "z": {
            "bdata": "YESUyNOoc782OXxx4xh6P7Lrkr9F1A0/",
            "dtype": "f8"
           }
          }
         ],
         "layout": {
          "annotations": [
           {
            "showarrow": false,
            "text": "Time: 0.82s (Step: 83/100)",
            "x": 0.05,
            "xref": "paper",
            "y": 0.95,
            "yref": "paper"
           }
          ]
         },
         "name": "82"
        },
        {
         "data": [
          {
           "name": "Free Nodes",
           "type": "scatter3d",
           "x": {
            "bdata": "eO9lhhaSc7/W8xvd5ly9Py5uSgrdcsY/",
            "dtype": "f8"
           },
           "y": {
            "bdata": "AAAAAAAAAAAAAAAAAAAAAAAAAAAAAAAA",
            "dtype": "f8"
           },
           "z": {
            "bdata": "+hzwnZbRc79NDsAxawd6P6KIagp86yA/",
            "dtype": "f8"
           }
          },
          {
           "name": "Fixed Nodes",
           "type": "scatter3d",
           "x": [],
           "y": [],
           "z": []
          },
          {
           "name": "Edges",
           "type": "scatter3d",
           "x": [
            -0.004777992237332877,
            0.11469881914304322,
            null,
            0.11469881914304322,
            0.17538035395124169,
            null
           ],
           "y": [
            0,
            0,
            null,
            0,
            0,
            null
           ],
           "z": [
            -0.004838550898973221,
            0.006354731300237737,
            null,
            0.006354731300237737,
            0.00012908829849773035,
            null
           ]
          },
          {
           "i": [],
           "j": [],
           "k": [],
           "name": "Faces",
           "type": "mesh3d",
           "x": {
            "bdata": "eO9lhhaSc7/W8xvd5ly9Py5uSgrdcsY/",
            "dtype": "f8"
           },
           "y": {
            "bdata": "AAAAAAAAAAAAAAAAAAAAAAAAAAAAAAAA",
            "dtype": "f8"
           },
           "z": {
            "bdata": "+hzwnZbRc79NDsAxawd6P6KIagp86yA/",
            "dtype": "f8"
           }
          }
         ],
         "layout": {
          "annotations": [
           {
            "showarrow": false,
            "text": "Time: 0.83s (Step: 84/100)",
            "x": 0.05,
            "xref": "paper",
            "y": 0.95,
            "yref": "paper"
           }
          ]
         },
         "name": "83"
        },
        {
         "data": [
          {
           "name": "Free Nodes",
           "type": "scatter3d",
           "x": {
            "bdata": "6eCb7WyTc78zj7IKt1y9P1qC7Y8Xc8Y/",
            "dtype": "f8"
           },
           "y": {
            "bdata": "AAAAAAAAAAAAAAAAAAAAAAAAAAAAAAAA",
            "dtype": "f8"
           },
           "z": {
            "bdata": "rW0XnRH4c78fRneqi/J5P8KqhsG98io/",
            "dtype": "f8"
           }
          },
          {
           "name": "Fixed Nodes",
           "type": "scatter3d",
           "x": [],
           "y": [],
           "z": []
          },
          {
           "name": "Edges",
           "type": "scatter3d",
           "x": [
            -0.004779267788528532,
            0.11469596873444914,
            null,
            0.11469596873444914,
            0.17538733031962545,
            null
           ],
           "y": [
            0,
            0,
            null,
            0,
            0,
            null
           ],
           "z": [
            -0.004875248721386266,
            0.006334825105527324,
            null,
            0.006334825105527324,
            0.00020559851033160296,
            null
           ]
          },
          {
           "i": [],
           "j": [],
           "k": [],
           "name": "Faces",
           "type": "mesh3d",
           "x": {
            "bdata": "6eCb7WyTc78zj7IKt1y9P1qC7Y8Xc8Y/",
            "dtype": "f8"
           },
           "y": {
            "bdata": "AAAAAAAAAAAAAAAAAAAAAAAAAAAAAAAA",
            "dtype": "f8"
           },
           "z": {
            "bdata": "rW0XnRH4c78fRneqi/J5P8KqhsG98io/",
            "dtype": "f8"
           }
          }
         ],
         "layout": {
          "annotations": [
           {
            "showarrow": false,
            "text": "Time: 0.84s (Step: 85/100)",
            "x": 0.05,
            "xref": "paper",
            "y": 0.95,
            "yref": "paper"
           }
          ]
         },
         "name": "84"
        },
        {
         "data": [
          {
           "name": "Free Nodes",
           "type": "scatter3d",
           "x": {
            "bdata": "y2/u7E6Vc7/06QTchly9Pw28lc5Wc8Y/",
            "dtype": "f8"
           },
           "y": {
            "bdata": "AAAAAAAAAAAAAAAAAAAAAAAAAAAAAAAA",
            "dtype": "f8"
           },
           "z": {
            "bdata": "0tPJt04cdL+XdkuaU9p5P+aoY5EyxDI/",
            "dtype": "f8"
           }
          },
          {
           "name": "Fixed Nodes",
           "type": "scatter3d",
           "x": [],
           "y": [],
           "z": []
          },
          {
           "name": "Edges",
           "type": "scatter3d",
           "x": [
            -0.004781063368593362,
            0.11469309684336065,
            null,
            0.11469309684336065,
            0.17539486968186715,
            null
           ],
           "y": [
            0,
            0,
            null,
            0,
            0,
            null
           ],
           "z": [
            -0.004909808627975703,
            0.006311728070355869,
            null,
            0.006311728070355869,
            0.0002863524872639536,
            null
           ]
          },
          {
           "i": [],
           "j": [],
           "k": [],
           "name": "Faces",
           "type": "mesh3d",
           "x": {
            "bdata": "y2/u7E6Vc7/06QTchly9Pw28lc5Wc8Y/",
            "dtype": "f8"
           },
           "y": {
            "bdata": "AAAAAAAAAAAAAAAAAAAAAAAAAAAAAAAA",
            "dtype": "f8"
           },
           "z": {
            "bdata": "0tPJt04cdL+XdkuaU9p5P+aoY5EyxDI/",
            "dtype": "f8"
           }
          }
         ],
         "layout": {
          "annotations": [
           {
            "showarrow": false,
            "text": "Time: 0.85s (Step: 86/100)",
            "x": 0.05,
            "xref": "paper",
            "y": 0.95,
            "yref": "paper"
           }
          ]
         },
         "name": "85"
        },
        {
         "data": [
          {
           "name": "Free Nodes",
           "type": "scatter3d",
           "x": {
            "bdata": "aWLwZreXc78XM52AVly9P3uCzW2ac8Y/",
            "dtype": "f8"
           },
           "y": {
            "bdata": "AAAAAAAAAAAAAAAAAAAAAAAAAAAAAAAA",
            "dtype": "f8"
           },
           "z": {
            "bdata": "TVt83Fg+dL915/5C0755P/8EHsbfVDg/",
            "dtype": "f8"
           }
          },
          {
           "name": "Fixed Nodes",
           "type": "scatter3d",
           "x": [],
           "y": [],
           "z": []
          },
          {
           "name": "Edges",
           "type": "scatter3d",
           "x": [
            -0.0047833599228615875,
            0.11469021453849525,
            null,
            0.11469021453849525,
            0.17540293084586608,
            null
           ],
           "y": [
            0,
            0,
            null,
            0,
            0,
            null
           ],
           "z": [
            -0.004942271341653659,
            0.00628550075628619,
            null,
            0.00628550075628619,
            0.0003712698290812693,
            null
           ]
          },
          {
           "i": [],
           "j": [],
           "k": [],
           "name": "Faces",
           "type": "mesh3d",
           "x": {
            "bdata": "aWLwZreXc78XM52AVly9P3uCzW2ac8Y/",
            "dtype": "f8"
           },
           "y": {
            "bdata": "AAAAAAAAAAAAAAAAAAAAAAAAAAAAAAAA",
            "dtype": "f8"
           },
           "z": {
            "bdata": "TVt83Fg+dL915/5C0755P/8EHsbfVDg/",
            "dtype": "f8"
           }
          }
         ],
         "layout": {
          "annotations": [
           {
            "showarrow": false,
            "text": "Time: 0.86s (Step: 87/100)",
            "x": 0.05,
            "xref": "paper",
            "y": 0.95,
            "yref": "paper"
           }
          ]
         },
         "name": "86"
        },
        {
         "data": [
          {
           "name": "Free Nodes",
           "type": "scatter3d",
           "x": {
            "bdata": "QxCnu6Cac7+Kp2IpJly9P3PDrQ/ic8Y/",
            "dtype": "f8"
           },
           "y": {
            "bdata": "AAAAAAAAAAAAAAAAAAAAAAAAAAAAAAAA",
            "dtype": "f8"
           },
           "z": {
            "bdata": "OwEh8TtedL82aEFiHKB5P9dLGCjtKT4/",
            "dtype": "f8"
           }
          },
          {
           "name": "Fixed Nodes",
           "type": "scatter3d",
           "x": [],
           "y": [],
           "z": []
          },
          {
           "name": "Edges",
           "type": "scatter3d",
           "x": [
            -0.004786136496878926,
            0.11468733320603355,
            null,
            0.11468733320603355,
            0.1754114700848067,
            null
           ],
           "y": [
            0,
            0,
            null,
            0,
            0,
            null
           ],
           "z": [
            -0.004972681186757473,
            0.006256209253559011,
            null,
            0.006256209253559011,
            0.00046026267963944267,
            null
           ]
          },
          {
           "i": [],
           "j": [],
           "k": [],
           "name": "Faces",
           "type": "mesh3d",
           "x": {
            "bdata": "QxCnu6Cac7+Kp2IpJly9P3PDrQ/ic8Y/",
            "dtype": "f8"
           },
           "y": {
            "bdata": "AAAAAAAAAAAAAAAAAAAAAAAAAAAAAAAA",
            "dtype": "f8"
           },
           "z": {
            "bdata": "OwEh8TtedL82aEFiHKB5P9dLGCjtKT4/",
            "dtype": "f8"
           }
          }
         ],
         "layout": {
          "annotations": [
           {
            "showarrow": false,
            "text": "Time: 0.87s (Step: 88/100)",
            "x": 0.05,
            "xref": "paper",
            "y": 0.95,
            "yref": "paper"
           }
          ]
         },
         "name": "87"
        },
        {
         "data": [
          {
           "name": "Free Nodes",
           "type": "scatter3d",
           "x": {
            "bdata": "U0eX0QSec7+SgU8I9lu9PyBrcFEtdMY/",
            "dtype": "f8"
           },
           "y": {
            "bdata": "AAAAAAAAAAAAAAAAAAAAAAAAAAAAAAAA",
            "dtype": "f8"
           },
           "z": {
            "bdata": "PY6HzQR8dL+Rq80pQn55P1lYfP7gIEI/",
            "dtype": "f8"
           }
          },
          {
           "name": "Fixed Nodes",
           "type": "scatter3d",
           "x": [],
           "y": [],
           "z": []
          },
          {
           "name": "Edges",
           "type": "scatter3d",
           "x": [
            -0.0047893703681028575,
            0.1146844644822578,
            null,
            0.1146844644822578,
            0.17542044140358204,
            null
           ],
           "y": [
            0,
            0,
            null,
            0,
            0,
            null
           ],
           "z": [
            -0.0050010860072436355,
            0.006223925066346407,
            null,
            0.006223925066346407,
            0.0005532358745508156,
            null
           ]
          },
          {
           "i": [],
           "j": [],
           "k": [],
           "name": "Faces",
           "type": "mesh3d",
           "x": {
            "bdata": "U0eX0QSec7+SgU8I9lu9PyBrcFEtdMY/",
            "dtype": "f8"
           },
           "y": {
            "bdata": "AAAAAAAAAAAAAAAAAAAAAAAAAAAAAAAA",
            "dtype": "f8"
           },
           "z": {
            "bdata": "PY6HzQR8dL+Rq80pQn55P1lYfP7gIEI/",
            "dtype": "f8"
           }
          }
         ],
         "layout": {
          "annotations": [
           {
            "showarrow": false,
            "text": "Time: 0.88s (Step: 89/100)",
            "x": 0.05,
            "xref": "paper",
            "y": 0.95,
            "yref": "paper"
           }
          ]
         },
         "name": "88"
        },
        {
         "data": [
          {
           "name": "Free Nodes",
           "type": "scatter3d",
           "x": {
            "bdata": "ZLVvH92hc78k9yNQxlu9P/u4Csx7dMY/",
            "dtype": "f8"
           },
           "y": {
            "bdata": "AAAAAAAAAAAAAAAAAAAAAAAAAAAAAAAA",
            "dtype": "f8"
           },
           "z": {
            "bdata": "tJJZNcGXdL+LQc82WVl5P3gc82xTTUU/",
            "dtype": "f8"
           }
          },
          {
           "name": "Fixed Nodes",
           "type": "scatter3d",
           "x": [],
           "y": [],
           "z": []
          },
          {
           "name": "Edges",
           "type": "scatter3d",
           "x": [
            -0.004793037186556635,
            0.11468162018351485,
            null,
            0.11468162018351485,
            0.17542979681952162,
            null
           ],
           "y": [
            0,
            0,
            null,
            0,
            0,
            null
           ],
           "z": [
            -0.005027537079148093,
            0.006188724987581283,
            null,
            0.006188724987581283,
            0.0006500871039855213,
            null
           ]
          },
          {
           "i": [],
           "j": [],
           "k": [],
           "name": "Faces",
           "type": "mesh3d",
           "x": {
            "bdata": "ZLVvH92hc78k9yNQxlu9P/u4Csx7dMY/",
            "dtype": "f8"
           },
           "y": {
            "bdata": "AAAAAAAAAAAAAAAAAAAAAAAAAAAAAAAA",
            "dtype": "f8"
           },
           "z": {
            "bdata": "tJJZNcGXdL+LQc82WVl5P3gc82xTTUU/",
            "dtype": "f8"
           }
          }
         ],
         "layout": {
          "annotations": [
           {
            "showarrow": false,
            "text": "Time: 0.89s (Step: 90/100)",
            "x": 0.05,
            "xref": "paper",
            "y": 0.95,
            "yref": "paper"
           }
          ]
         },
         "name": "89"
        },
        {
         "data": [
          {
           "name": "Free Nodes",
           "type": "scatter3d",
           "x": {
            "bdata": "GYtszximc7/VOlzal1u9P/RbUh/MdMY/",
            "dtype": "f8"
           },
           "y": {
            "bdata": "AAAAAAAAAAAAAAAAAAAAAAAAAAAAAAAA",
            "dtype": "f8"
           },
           "z": {
            "bdata": "PChb436xdL/9fjA8dDF5P5vx64aQmUg/",
            "dtype": "f8"
           }
          },
          {
           "name": "Fixed Nodes",
           "type": "scatter3d",
           "x": [],
           "y": [],
           "z": []
          },
          {
           "name": "Edges",
           "type": "scatter3d",
           "x": [
            -0.004797074236907028,
            0.11467885094701143,
            null,
            0.11467885094701143,
            0.17543937234287876,
            null
           ],
           "y": [
            0,
            0,
            null,
            0,
            0,
            null
           ],
           "z": [
            -0.005052085549047954,
            0.006150678676050123,
            null,
            0.006150678676050123,
            0.0007507281969477032,
            null
           ]
          },
          {
           "i": [],
           "j": [],
           "k": [],
           "name": "Faces",
           "type": "mesh3d",
           "x": {
            "bdata": "GYtszximc7/VOlzal1u9P/RbUh/MdMY/",
            "dtype": "f8"
           },
           "y": {
            "bdata": "AAAAAAAAAAAAAAAAAAAAAAAAAAAAAAAA",
            "dtype": "f8"
           },
           "z": {
            "bdata": "PChb436xdL/9fjA8dDF5P5vx64aQmUg/",
            "dtype": "f8"
           }
          }
         ],
         "layout": {
          "annotations": [
           {
            "showarrow": false,
            "text": "Time: 0.90s (Step: 91/100)",
            "x": 0.05,
            "xref": "paper",
            "y": 0.95,
            "yref": "paper"
           }
          ]
         },
         "name": "90"
        },
        {
         "data": [
          {
           "name": "Free Nodes",
           "type": "scatter3d",
           "x": {
            "bdata": "ckY64sKqc79pbNifaVu9PzeYbKofdcY/",
            "dtype": "f8"
           },
           "y": {
            "bdata": "AAAAAAAAAAAAAAAAAAAAAAAAAAAAAAAA",
            "dtype": "f8"
           },
           "z": {
            "bdata": "oPzwFk/JdL9wsJi7rQZ5P5B9Fy16BEw/",
            "dtype": "f8"
           }
          },
          {
           "name": "Fixed Nodes",
           "type": "scatter3d",
           "x": [],
           "y": [],
           "z": []
          },
          {
           "name": "Edges",
           "type": "scatter3d",
           "x": [
            -0.004801522507152366,
            0.11467609550929726,
            null,
            0.11467609550929726,
            0.17544933148855232,
            null
           ],
           "y": [
            0,
            0,
            null,
            0,
            0,
            null
           ],
           "z": [
            -0.005074795669371884,
            0.006109884876007596,
            null,
            0.006109884876007596,
            0.0008550259173566877,
            null
           ]
          },
          {
           "i": [],
           "j": [],
           "k": [],
           "name": "Faces",
           "type": "mesh3d",
           "x": {
            "bdata": "ckY64sKqc79pbNifaVu9PzeYbKofdcY/",
            "dtype": "f8"
           },
           "y": {
            "bdata": "AAAAAAAAAAAAAAAAAAAAAAAAAAAAAAAA",
            "dtype": "f8"
           },
           "z": {
            "bdata": "oPzwFk/JdL9wsJi7rQZ5P5B9Fy16BEw/",
            "dtype": "f8"
           }
          }
         ],
         "layout": {
          "annotations": [
           {
            "showarrow": false,
            "text": "Time: 0.91s (Step: 92/100)",
            "x": 0.05,
            "xref": "paper",
            "y": 0.95,
            "yref": "paper"
           }
          ]
         },
         "name": "91"
        },
        {
         "data": [
          {
           "name": "Free Nodes",
           "type": "scatter3d",
           "x": {
            "bdata": "vsMtucyvc7/XTxVgPFu9P7BQ5zh1dcY/",
            "dtype": "f8"
           },
           "y": {
            "bdata": "AAAAAAAAAAAAAAAAAAAAAAAAAAAAAAAA",
            "dtype": "f8"
           },
           "z": {
            "bdata": "C56BiEHfdL+yYIm6HNl4P86EkcodjU8/",
            "dtype": "f8"
           }
          },
          {
           "name": "Fixed Nodes",
           "type": "scatter3d",
           "x": [],
           "y": [],
           "z": []
          },
          {
           "name": "Edges",
           "type": "scatter3d",
           "x": [
            -0.004806327534297715,
            0.11467339845449885,
            null,
            0.11467339845449885,
            0.1754595306252944,
            null
           ],
           "y": [
            0,
            0,
            null,
            0,
            0,
            null
           ],
           "z": [
            -0.0050957260028563585,
            0.006066429349253765,
            null,
            0.006066429349253765,
            0.0009628673043488246,
            null
           ]
          },
          {
           "i": [],
           "j": [],
           "k": [],
           "name": "Faces",
           "type": "mesh3d",
           "x": {
            "bdata": "vsMtucyvc7/XTxVgPFu9P7BQ5zh1dcY/",
            "dtype": "f8"
           },
           "y": {
            "bdata": "AAAAAAAAAAAAAAAAAAAAAAAAAAAAAAAA",
            "dtype": "f8"
           },
           "z": {
            "bdata": "C56BiEHfdL+yYIm6HNl4P86EkcodjU8/",
            "dtype": "f8"
           }
          }
         ],
         "layout": {
          "annotations": [
           {
            "showarrow": false,
            "text": "Time: 0.92s (Step: 93/100)",
            "x": 0.05,
            "xref": "paper",
            "y": 0.95,
            "yref": "paper"
           }
          ]
         },
         "name": "92"
        },
        {
         "data": [
          {
           "name": "Free Nodes",
           "type": "scatter3d",
           "x": {
            "bdata": "IinBBy21c79vdYtWEFu9P0DG5UTMdcY/",
            "dtype": "f8"
           },
           "y": {
            "bdata": "AAAAAAAAAAAAAAAAAAAAAAAAAAAAAAAA",
            "dtype": "f8"
           },
           "z": {
            "bdata": "9EwaR2fzdL9gFvG22qh4P6DQbfw1mVE/",
            "dtype": "f8"
           }
          },
          {
           "name": "Fixed Nodes",
           "type": "scatter3d",
           "x": [],
           "y": [],
           "z": []
          },
          {
           "name": "Edges",
           "type": "scatter3d",
           "x": [
            -0.004811454677176282,
            0.11467077362927623,
            null,
            0.11467077362927623,
            0.17546990741861812,
            null
           ],
           "y": [
            0,
            0,
            null,
            0,
            0,
            null
           ],
           "z": [
            -0.0051149400984684575,
            0.0060204070605941185,
            null,
            0.0060204070605941185,
            0.0010741259772802172,
            null
           ]
          },
          {
           "i": [],
           "j": [],
           "k": [],
           "name": "Faces",
           "type": "mesh3d",
           "x": {
            "bdata": "IinBBy21c79vdYtWEFu9P0DG5UTMdcY/",
            "dtype": "f8"
           },
           "y": {
            "bdata": "AAAAAAAAAAAAAAAAAAAAAAAAAAAAAAAA",
            "dtype": "f8"
           },
           "z": {
            "bdata": "9EwaR2fzdL9gFvG22qh4P6DQbfw1mVE/",
            "dtype": "f8"
           }
          }
         ],
         "layout": {
          "annotations": [
           {
            "showarrow": false,
            "text": "Time: 0.93s (Step: 94/100)",
            "x": 0.05,
            "xref": "paper",
            "y": 0.95,
            "yref": "paper"
           }
          ]
         },
         "name": "93"
        },
        {
         "data": [
          {
           "name": "Free Nodes",
           "type": "scatter3d",
           "x": {
            "bdata": "k/+Q99u6c7+/OT+z5Vq9P6GAsF8kdsY/",
            "dtype": "f8"
           },
           "y": {
            "bdata": "AAAAAAAAAAAAAAAAAAAAAAAAAAAAAAAA",
            "dtype": "f8"
           },
           "z": {
            "bdata": "7tDMUtIFdb8Pvl+XAnZ4PxmjwiejeVM/",
            "dtype": "f8"
           }
          },
          {
           "name": "Fixed Nodes",
           "type": "scatter3d",
           "x": [],
           "y": [],
           "z": []
          },
          {
           "name": "Edges",
           "type": "scatter3d",
           "x": [
            -0.004816874738992188,
            0.1146682322134671,
            null,
            0.1146682322134671,
            0.17548041031205222,
            null
           ],
           "y": [
            0,
            0,
            null,
            0,
            0,
            null
           ],
           "z": [
            -0.005132505012444206,
            0.00597191822269806,
            null,
            0.00597191822269806,
            0.0011886685670480844,
            null
           ]
          },
          {
           "i": [],
           "j": [],
           "k": [],
           "name": "Faces",
           "type": "mesh3d",
           "x": {
            "bdata": "k/+Q99u6c7+/OT+z5Vq9P6GAsF8kdsY/",
            "dtype": "f8"
           },
           "y": {
            "bdata": "AAAAAAAAAAAAAAAAAAAAAAAAAAAAAAAA",
            "dtype": "f8"
           },
           "z": {
            "bdata": "7tDMUtIFdb8Pvl+XAnZ4PxmjwiejeVM/",
            "dtype": "f8"
           }
          }
         ],
         "layout": {
          "annotations": [
           {
            "showarrow": false,
            "text": "Time: 0.94s (Step: 95/100)",
            "x": 0.05,
            "xref": "paper",
            "y": 0.95,
            "yref": "paper"
           }
          ]
         },
         "name": "94"
        },
        {
         "data": [
          {
           "name": "Free Nodes",
           "type": "scatter3d",
           "x": {
            "bdata": "jiBCW9HAc79bx7qmvFq9Pwt8Uhd9dsY/",
            "dtype": "f8"
           },
           "y": {
            "bdata": "AAAAAAAAAAAAAAAAAAAAAAAAAAAAAAAA",
            "dtype": "f8"
           },
           "z": {
            "bdata": "bH5naJUWdb+UK9pksEB4P/TsWRJBZ1U/",
            "dtype": "f8"
           }
          },
          {
           "name": "Fixed Nodes",
           "type": "scatter3d",
           "x": [],
           "y": [],
           "z": []
          },
          {
           "name": "Edges",
           "type": "scatter3d",
           "x": [
            -0.0048225572574055586,
            0.11466578550860389,
            null,
            0.11466578550860389,
            0.17549098624019197,
            null
           ],
           "y": [
            0,
            0,
            null,
            0,
            0,
            null
           ],
           "z": [
            -0.0051484905474975355,
            0.005921067274935594,
            null,
            0.005921067274935594,
            0.001306355997626349,
            null
           ]
          },
          {
           "i": [],
           "j": [],
           "k": [],
           "name": "Faces",
           "type": "mesh3d",
           "x": {
            "bdata": "jiBCW9HAc79bx7qmvFq9Pwt8Uhd9dsY/",
            "dtype": "f8"
           },
           "y": {
            "bdata": "AAAAAAAAAAAAAAAAAAAAAAAAAAAAAAAA",
            "dtype": "f8"
           },
           "z": {
            "bdata": "bH5naJUWdb+UK9pksEB4P/TsWRJBZ1U/",
            "dtype": "f8"
           }
          }
         ],
         "layout": {
          "annotations": [
           {
            "showarrow": false,
            "text": "Time: 0.95s (Step: 96/100)",
            "x": 0.05,
            "xref": "paper",
            "y": 0.95,
            "yref": "paper"
           }
          ]
         },
         "name": "95"
        },
        {
         "data": [
          {
           "name": "Free Nodes",
           "type": "scatter3d",
           "x": {
            "bdata": "Go540QTHc78K+k5glVq9P8f8b/nVdsY/",
            "dtype": "f8"
           },
           "y": {
            "bdata": "AAAAAAAAAAAAAAAAAAAAAAAAAAAAAAAA",
            "dtype": "f8"
           },
           "z": {
            "bdata": "MWMt+8Mldb+YbilCAQl4P/ln93J0YVc/",
            "dtype": "f8"
           }
          },
          {
           "name": "Fixed Nodes",
           "type": "scatter3d",
           "x": [],
           "y": [],
           "z": []
          },
          {
           "name": "Edges",
           "type": "scatter3d",
           "x": [
            -0.0048284710133290835,
            0.11466344453126723,
            null,
            0.11466344453126723,
            0.17550158195078877,
            null
           ],
           "y": [
            0,
            0,
            null,
            0,
            0,
            null
           ],
           "z": [
            -0.005162969161425932,
            0.005867962756919497,
            null,
            0.005867962756919497,
            0.0014270436475869437,
            null
           ]
          },
          {
           "i": [],
           "j": [],
           "k": [],
           "name": "Faces",
           "type": "mesh3d",
           "x": {
            "bdata": "Go540QTHc78K+k5glVq9P8f8b/nVdsY/",
            "dtype": "f8"
           },
           "y": {
            "bdata": "AAAAAAAAAAAAAAAAAAAAAAAAAAAAAAAA",
            "dtype": "f8"
           },
           "z": {
            "bdata": "MWMt+8Mldb+YbilCAQl4P/ln93J0YVc/",
            "dtype": "f8"
           }
          }
         ],
         "layout": {
          "annotations": [
           {
            "showarrow": false,
            "text": "Time: 0.96s (Step: 97/100)",
            "x": 0.05,
            "xref": "paper",
            "y": 0.95,
            "yref": "paper"
           }
          ]
         },
         "name": "96"
        },
        {
         "data": [
          {
           "name": "Free Nodes",
           "type": "scatter3d",
           "x": {
            "bdata": "RFMD423Nc7/w9YkNcFq9PwlXwZQud8Y/",
            "dtype": "f8"
           },
           "y": {
            "bdata": "AAAAAAAAAAAAAAAAAAAAAAAAAAAAAAAA",
            "dtype": "f8"
           },
           "z": {
            "bdata": "VB/ILXIzdb8Xw3VgE893P6G0/0qcZ1k/",
            "dtype": "f8"
           }
          },
          {
           "name": "Fixed Nodes",
           "type": "scatter3d",
           "x": [],
           "y": [],
           "z": []
          },
          {
           "name": "Edges",
           "type": "scatter3d",
           "x": [
            -0.004834584469979589,
            0.11466121988811273,
            null,
            0.11466121988811273,
            0.17551214469374823,
            null
           ],
           "y": [
            0,
            0,
            null,
            0,
            0,
            null
           ],
           "z": [
            -0.005176015864442569,
            0.005812717142689625,
            null,
            0.005812717142689625,
            0.0015505815790633275,
            null
           ]
          },
          {
           "i": [],
           "j": [],
           "k": [],
           "name": "Faces",
           "type": "mesh3d",
           "x": {
            "bdata": "RFMD423Nc7/w9YkNcFq9PwlXwZQud8Y/",
            "dtype": "f8"
           },
           "y": {
            "bdata": "AAAAAAAAAAAAAAAAAAAAAAAAAAAAAAAA",
            "dtype": "f8"
           },
           "z": {
            "bdata": "VB/ILXIzdb8Xw3VgE893P6G0/0qcZ1k/",
            "dtype": "f8"
           }
          }
         ],
         "layout": {
          "annotations": [
           {
            "showarrow": false,
            "text": "Time: 0.97s (Step: 98/100)",
            "x": 0.05,
            "xref": "paper",
            "y": 0.95,
            "yref": "paper"
           }
          ]
         },
         "name": "97"
        },
        {
         "data": [
          {
           "name": "Free Nodes",
           "type": "scatter3d",
           "x": {
            "bdata": "69m1DgTUc7+5Fe3ZTFq9P3TLu3mGd8Y/",
            "dtype": "f8"
           },
           "y": {
            "bdata": "AAAAAAAAAAAAAAAAAAAAAAAAAAAAAAAA",
            "dtype": "f8"
           },
           "z": {
            "bdata": "+Xw7ybQ/db/AEHbxBZN3PwS+yjASeVs/",
            "dtype": "f8"
           }
          },
          {
           "name": "Fixed Nodes",
           "type": "scatter3d",
           "x": [],
           "y": [],
           "z": []
          },
          {
           "name": "Edges",
           "type": "scatter3d",
           "x": [
            -0.004840865945303178,
            0.11465912170850502,
            null,
            0.11465912170850502,
            0.1755226225282872,
            null
           ],
           "y": [
            0,
            0,
            null,
            0,
            0,
            null
           ],
           "z": [
            -0.005187708087503789,
            0.005755446639686024,
            null,
            0.005755446639686024,
            0.0016768148081317555,
            null
           ]
          },
          {
           "i": [],
           "j": [],
           "k": [],
           "name": "Faces",
           "type": "mesh3d",
           "x": {
            "bdata": "69m1DgTUc7+5Fe3ZTFq9P3TLu3mGd8Y/",
            "dtype": "f8"
           },
           "y": {
            "bdata": "AAAAAAAAAAAAAAAAAAAAAAAAAAAAAAAA",
            "dtype": "f8"
           },
           "z": {
            "bdata": "+Xw7ybQ/db/AEHbxBZN3PwS+yjASeVs/",
            "dtype": "f8"
           }
          }
         ],
         "layout": {
          "annotations": [
           {
            "showarrow": false,
            "text": "Time: 0.98s (Step: 99/100)",
            "x": 0.05,
            "xref": "paper",
            "y": 0.95,
            "yref": "paper"
           }
          ]
         },
         "name": "98"
        },
        {
         "data": [
          {
           "name": "Free Nodes",
           "type": "scatter3d",
           "x": {
            "bdata": "Z01a1L7ac7+XlKLuK1q9PzFwMzvdd8Y/",
            "dtype": "f8"
           },
           "y": {
            "bdata": "AAAAAAAAAAAAAAAAAAAAAAAAAAAAAAAA",
            "dtype": "f8"
           },
           "z": {
            "bdata": "t3d+M6FKdb+8yAoZ+VR3PzfpMJ0qlV0/",
            "dtype": "f8"
           }
          },
          {
           "name": "Fixed Nodes",
           "type": "scatter3d",
           "x": [],
           "y": [],
           "z": []
          },
          {
           "name": "Edges",
           "type": "scatter3d",
           "x": [
            -0.004847283771272393,
            0.11465715957690957,
            null,
            0.11465715957690957,
            0.1755329646174473,
            null
           ],
           "y": [
            0,
            0,
            null,
            0,
            0,
            null
           ],
           "z": [
            -0.005198125545488644,
            0.005696270979273329,
            null,
            0.005696270979273329,
            0.0018055835869420064,
            null
           ]
          },
          {
           "i": [],
           "j": [],
           "k": [],
           "name": "Faces",
           "type": "mesh3d",
           "x": {
            "bdata": "Z01a1L7ac7+XlKLuK1q9PzFwMzvdd8Y/",
            "dtype": "f8"
           },
           "y": {
            "bdata": "AAAAAAAAAAAAAAAAAAAAAAAAAAAAAAAA",
            "dtype": "f8"
           },
           "z": {
            "bdata": "t3d+M6FKdb+8yAoZ+VR3PzfpMJ0qlV0/",
            "dtype": "f8"
           }
          }
         ],
         "layout": {
          "annotations": [
           {
            "showarrow": false,
            "text": "Time: 0.99s (Step: 100/100)",
            "x": 0.05,
            "xref": "paper",
            "y": 0.95,
            "yref": "paper"
           }
          ]
         },
         "name": "99"
        }
       ],
       "layout": {
        "scene": {
         "camera": {
          "eye": {
           "x": 1.2247448713915892,
           "y": 1.2247448713915892,
           "z": 0.9999999999999999
          }
         },
         "xaxis": {
          "range": [
           -0.005144682560284246,
           0.19926825768341408
          ],
          "title": {
           "text": "X Position"
          }
         },
         "yaxis": {
          "range": [
           -0.1,
           0.1
          ],
          "title": {
           "text": "Y Position"
          }
         },
         "zaxis": {
          "range": [
           -0.1,
           0.1
          ],
          "title": {
           "text": "Z Position"
          }
         }
        },
        "sliders": [
         {
          "currentvalue": {
           "prefix": "Frame: "
          },
          "steps": [
           {
            "args": [
             [
              "0"
             ],
             {
              "frame": {
               "duration": 50,
               "redraw": true
              },
              "mode": "immediate"
             }
            ],
            "label": "0",
            "method": "animate"
           },
           {
            "args": [
             [
              "1"
             ],
             {
              "frame": {
               "duration": 50,
               "redraw": true
              },
              "mode": "immediate"
             }
            ],
            "label": "1",
            "method": "animate"
           },
           {
            "args": [
             [
              "2"
             ],
             {
              "frame": {
               "duration": 50,
               "redraw": true
              },
              "mode": "immediate"
             }
            ],
            "label": "2",
            "method": "animate"
           },
           {
            "args": [
             [
              "3"
             ],
             {
              "frame": {
               "duration": 50,
               "redraw": true
              },
              "mode": "immediate"
             }
            ],
            "label": "3",
            "method": "animate"
           },
           {
            "args": [
             [
              "4"
             ],
             {
              "frame": {
               "duration": 50,
               "redraw": true
              },
              "mode": "immediate"
             }
            ],
            "label": "4",
            "method": "animate"
           },
           {
            "args": [
             [
              "5"
             ],
             {
              "frame": {
               "duration": 50,
               "redraw": true
              },
              "mode": "immediate"
             }
            ],
            "label": "5",
            "method": "animate"
           },
           {
            "args": [
             [
              "6"
             ],
             {
              "frame": {
               "duration": 50,
               "redraw": true
              },
              "mode": "immediate"
             }
            ],
            "label": "6",
            "method": "animate"
           },
           {
            "args": [
             [
              "7"
             ],
             {
              "frame": {
               "duration": 50,
               "redraw": true
              },
              "mode": "immediate"
             }
            ],
            "label": "7",
            "method": "animate"
           },
           {
            "args": [
             [
              "8"
             ],
             {
              "frame": {
               "duration": 50,
               "redraw": true
              },
              "mode": "immediate"
             }
            ],
            "label": "8",
            "method": "animate"
           },
           {
            "args": [
             [
              "9"
             ],
             {
              "frame": {
               "duration": 50,
               "redraw": true
              },
              "mode": "immediate"
             }
            ],
            "label": "9",
            "method": "animate"
           },
           {
            "args": [
             [
              "10"
             ],
             {
              "frame": {
               "duration": 50,
               "redraw": true
              },
              "mode": "immediate"
             }
            ],
            "label": "10",
            "method": "animate"
           },
           {
            "args": [
             [
              "11"
             ],
             {
              "frame": {
               "duration": 50,
               "redraw": true
              },
              "mode": "immediate"
             }
            ],
            "label": "11",
            "method": "animate"
           },
           {
            "args": [
             [
              "12"
             ],
             {
              "frame": {
               "duration": 50,
               "redraw": true
              },
              "mode": "immediate"
             }
            ],
            "label": "12",
            "method": "animate"
           },
           {
            "args": [
             [
              "13"
             ],
             {
              "frame": {
               "duration": 50,
               "redraw": true
              },
              "mode": "immediate"
             }
            ],
            "label": "13",
            "method": "animate"
           },
           {
            "args": [
             [
              "14"
             ],
             {
              "frame": {
               "duration": 50,
               "redraw": true
              },
              "mode": "immediate"
             }
            ],
            "label": "14",
            "method": "animate"
           },
           {
            "args": [
             [
              "15"
             ],
             {
              "frame": {
               "duration": 50,
               "redraw": true
              },
              "mode": "immediate"
             }
            ],
            "label": "15",
            "method": "animate"
           },
           {
            "args": [
             [
              "16"
             ],
             {
              "frame": {
               "duration": 50,
               "redraw": true
              },
              "mode": "immediate"
             }
            ],
            "label": "16",
            "method": "animate"
           },
           {
            "args": [
             [
              "17"
             ],
             {
              "frame": {
               "duration": 50,
               "redraw": true
              },
              "mode": "immediate"
             }
            ],
            "label": "17",
            "method": "animate"
           },
           {
            "args": [
             [
              "18"
             ],
             {
              "frame": {
               "duration": 50,
               "redraw": true
              },
              "mode": "immediate"
             }
            ],
            "label": "18",
            "method": "animate"
           },
           {
            "args": [
             [
              "19"
             ],
             {
              "frame": {
               "duration": 50,
               "redraw": true
              },
              "mode": "immediate"
             }
            ],
            "label": "19",
            "method": "animate"
           },
           {
            "args": [
             [
              "20"
             ],
             {
              "frame": {
               "duration": 50,
               "redraw": true
              },
              "mode": "immediate"
             }
            ],
            "label": "20",
            "method": "animate"
           },
           {
            "args": [
             [
              "21"
             ],
             {
              "frame": {
               "duration": 50,
               "redraw": true
              },
              "mode": "immediate"
             }
            ],
            "label": "21",
            "method": "animate"
           },
           {
            "args": [
             [
              "22"
             ],
             {
              "frame": {
               "duration": 50,
               "redraw": true
              },
              "mode": "immediate"
             }
            ],
            "label": "22",
            "method": "animate"
           },
           {
            "args": [
             [
              "23"
             ],
             {
              "frame": {
               "duration": 50,
               "redraw": true
              },
              "mode": "immediate"
             }
            ],
            "label": "23",
            "method": "animate"
           },
           {
            "args": [
             [
              "24"
             ],
             {
              "frame": {
               "duration": 50,
               "redraw": true
              },
              "mode": "immediate"
             }
            ],
            "label": "24",
            "method": "animate"
           },
           {
            "args": [
             [
              "25"
             ],
             {
              "frame": {
               "duration": 50,
               "redraw": true
              },
              "mode": "immediate"
             }
            ],
            "label": "25",
            "method": "animate"
           },
           {
            "args": [
             [
              "26"
             ],
             {
              "frame": {
               "duration": 50,
               "redraw": true
              },
              "mode": "immediate"
             }
            ],
            "label": "26",
            "method": "animate"
           },
           {
            "args": [
             [
              "27"
             ],
             {
              "frame": {
               "duration": 50,
               "redraw": true
              },
              "mode": "immediate"
             }
            ],
            "label": "27",
            "method": "animate"
           },
           {
            "args": [
             [
              "28"
             ],
             {
              "frame": {
               "duration": 50,
               "redraw": true
              },
              "mode": "immediate"
             }
            ],
            "label": "28",
            "method": "animate"
           },
           {
            "args": [
             [
              "29"
             ],
             {
              "frame": {
               "duration": 50,
               "redraw": true
              },
              "mode": "immediate"
             }
            ],
            "label": "29",
            "method": "animate"
           },
           {
            "args": [
             [
              "30"
             ],
             {
              "frame": {
               "duration": 50,
               "redraw": true
              },
              "mode": "immediate"
             }
            ],
            "label": "30",
            "method": "animate"
           },
           {
            "args": [
             [
              "31"
             ],
             {
              "frame": {
               "duration": 50,
               "redraw": true
              },
              "mode": "immediate"
             }
            ],
            "label": "31",
            "method": "animate"
           },
           {
            "args": [
             [
              "32"
             ],
             {
              "frame": {
               "duration": 50,
               "redraw": true
              },
              "mode": "immediate"
             }
            ],
            "label": "32",
            "method": "animate"
           },
           {
            "args": [
             [
              "33"
             ],
             {
              "frame": {
               "duration": 50,
               "redraw": true
              },
              "mode": "immediate"
             }
            ],
            "label": "33",
            "method": "animate"
           },
           {
            "args": [
             [
              "34"
             ],
             {
              "frame": {
               "duration": 50,
               "redraw": true
              },
              "mode": "immediate"
             }
            ],
            "label": "34",
            "method": "animate"
           },
           {
            "args": [
             [
              "35"
             ],
             {
              "frame": {
               "duration": 50,
               "redraw": true
              },
              "mode": "immediate"
             }
            ],
            "label": "35",
            "method": "animate"
           },
           {
            "args": [
             [
              "36"
             ],
             {
              "frame": {
               "duration": 50,
               "redraw": true
              },
              "mode": "immediate"
             }
            ],
            "label": "36",
            "method": "animate"
           },
           {
            "args": [
             [
              "37"
             ],
             {
              "frame": {
               "duration": 50,
               "redraw": true
              },
              "mode": "immediate"
             }
            ],
            "label": "37",
            "method": "animate"
           },
           {
            "args": [
             [
              "38"
             ],
             {
              "frame": {
               "duration": 50,
               "redraw": true
              },
              "mode": "immediate"
             }
            ],
            "label": "38",
            "method": "animate"
           },
           {
            "args": [
             [
              "39"
             ],
             {
              "frame": {
               "duration": 50,
               "redraw": true
              },
              "mode": "immediate"
             }
            ],
            "label": "39",
            "method": "animate"
           },
           {
            "args": [
             [
              "40"
             ],
             {
              "frame": {
               "duration": 50,
               "redraw": true
              },
              "mode": "immediate"
             }
            ],
            "label": "40",
            "method": "animate"
           },
           {
            "args": [
             [
              "41"
             ],
             {
              "frame": {
               "duration": 50,
               "redraw": true
              },
              "mode": "immediate"
             }
            ],
            "label": "41",
            "method": "animate"
           },
           {
            "args": [
             [
              "42"
             ],
             {
              "frame": {
               "duration": 50,
               "redraw": true
              },
              "mode": "immediate"
             }
            ],
            "label": "42",
            "method": "animate"
           },
           {
            "args": [
             [
              "43"
             ],
             {
              "frame": {
               "duration": 50,
               "redraw": true
              },
              "mode": "immediate"
             }
            ],
            "label": "43",
            "method": "animate"
           },
           {
            "args": [
             [
              "44"
             ],
             {
              "frame": {
               "duration": 50,
               "redraw": true
              },
              "mode": "immediate"
             }
            ],
            "label": "44",
            "method": "animate"
           },
           {
            "args": [
             [
              "45"
             ],
             {
              "frame": {
               "duration": 50,
               "redraw": true
              },
              "mode": "immediate"
             }
            ],
            "label": "45",
            "method": "animate"
           },
           {
            "args": [
             [
              "46"
             ],
             {
              "frame": {
               "duration": 50,
               "redraw": true
              },
              "mode": "immediate"
             }
            ],
            "label": "46",
            "method": "animate"
           },
           {
            "args": [
             [
              "47"
             ],
             {
              "frame": {
               "duration": 50,
               "redraw": true
              },
              "mode": "immediate"
             }
            ],
            "label": "47",
            "method": "animate"
           },
           {
            "args": [
             [
              "48"
             ],
             {
              "frame": {
               "duration": 50,
               "redraw": true
              },
              "mode": "immediate"
             }
            ],
            "label": "48",
            "method": "animate"
           },
           {
            "args": [
             [
              "49"
             ],
             {
              "frame": {
               "duration": 50,
               "redraw": true
              },
              "mode": "immediate"
             }
            ],
            "label": "49",
            "method": "animate"
           },
           {
            "args": [
             [
              "50"
             ],
             {
              "frame": {
               "duration": 50,
               "redraw": true
              },
              "mode": "immediate"
             }
            ],
            "label": "50",
            "method": "animate"
           },
           {
            "args": [
             [
              "51"
             ],
             {
              "frame": {
               "duration": 50,
               "redraw": true
              },
              "mode": "immediate"
             }
            ],
            "label": "51",
            "method": "animate"
           },
           {
            "args": [
             [
              "52"
             ],
             {
              "frame": {
               "duration": 50,
               "redraw": true
              },
              "mode": "immediate"
             }
            ],
            "label": "52",
            "method": "animate"
           },
           {
            "args": [
             [
              "53"
             ],
             {
              "frame": {
               "duration": 50,
               "redraw": true
              },
              "mode": "immediate"
             }
            ],
            "label": "53",
            "method": "animate"
           },
           {
            "args": [
             [
              "54"
             ],
             {
              "frame": {
               "duration": 50,
               "redraw": true
              },
              "mode": "immediate"
             }
            ],
            "label": "54",
            "method": "animate"
           },
           {
            "args": [
             [
              "55"
             ],
             {
              "frame": {
               "duration": 50,
               "redraw": true
              },
              "mode": "immediate"
             }
            ],
            "label": "55",
            "method": "animate"
           },
           {
            "args": [
             [
              "56"
             ],
             {
              "frame": {
               "duration": 50,
               "redraw": true
              },
              "mode": "immediate"
             }
            ],
            "label": "56",
            "method": "animate"
           },
           {
            "args": [
             [
              "57"
             ],
             {
              "frame": {
               "duration": 50,
               "redraw": true
              },
              "mode": "immediate"
             }
            ],
            "label": "57",
            "method": "animate"
           },
           {
            "args": [
             [
              "58"
             ],
             {
              "frame": {
               "duration": 50,
               "redraw": true
              },
              "mode": "immediate"
             }
            ],
            "label": "58",
            "method": "animate"
           },
           {
            "args": [
             [
              "59"
             ],
             {
              "frame": {
               "duration": 50,
               "redraw": true
              },
              "mode": "immediate"
             }
            ],
            "label": "59",
            "method": "animate"
           },
           {
            "args": [
             [
              "60"
             ],
             {
              "frame": {
               "duration": 50,
               "redraw": true
              },
              "mode": "immediate"
             }
            ],
            "label": "60",
            "method": "animate"
           },
           {
            "args": [
             [
              "61"
             ],
             {
              "frame": {
               "duration": 50,
               "redraw": true
              },
              "mode": "immediate"
             }
            ],
            "label": "61",
            "method": "animate"
           },
           {
            "args": [
             [
              "62"
             ],
             {
              "frame": {
               "duration": 50,
               "redraw": true
              },
              "mode": "immediate"
             }
            ],
            "label": "62",
            "method": "animate"
           },
           {
            "args": [
             [
              "63"
             ],
             {
              "frame": {
               "duration": 50,
               "redraw": true
              },
              "mode": "immediate"
             }
            ],
            "label": "63",
            "method": "animate"
           },
           {
            "args": [
             [
              "64"
             ],
             {
              "frame": {
               "duration": 50,
               "redraw": true
              },
              "mode": "immediate"
             }
            ],
            "label": "64",
            "method": "animate"
           },
           {
            "args": [
             [
              "65"
             ],
             {
              "frame": {
               "duration": 50,
               "redraw": true
              },
              "mode": "immediate"
             }
            ],
            "label": "65",
            "method": "animate"
           },
           {
            "args": [
             [
              "66"
             ],
             {
              "frame": {
               "duration": 50,
               "redraw": true
              },
              "mode": "immediate"
             }
            ],
            "label": "66",
            "method": "animate"
           },
           {
            "args": [
             [
              "67"
             ],
             {
              "frame": {
               "duration": 50,
               "redraw": true
              },
              "mode": "immediate"
             }
            ],
            "label": "67",
            "method": "animate"
           },
           {
            "args": [
             [
              "68"
             ],
             {
              "frame": {
               "duration": 50,
               "redraw": true
              },
              "mode": "immediate"
             }
            ],
            "label": "68",
            "method": "animate"
           },
           {
            "args": [
             [
              "69"
             ],
             {
              "frame": {
               "duration": 50,
               "redraw": true
              },
              "mode": "immediate"
             }
            ],
            "label": "69",
            "method": "animate"
           },
           {
            "args": [
             [
              "70"
             ],
             {
              "frame": {
               "duration": 50,
               "redraw": true
              },
              "mode": "immediate"
             }
            ],
            "label": "70",
            "method": "animate"
           },
           {
            "args": [
             [
              "71"
             ],
             {
              "frame": {
               "duration": 50,
               "redraw": true
              },
              "mode": "immediate"
             }
            ],
            "label": "71",
            "method": "animate"
           },
           {
            "args": [
             [
              "72"
             ],
             {
              "frame": {
               "duration": 50,
               "redraw": true
              },
              "mode": "immediate"
             }
            ],
            "label": "72",
            "method": "animate"
           },
           {
            "args": [
             [
              "73"
             ],
             {
              "frame": {
               "duration": 50,
               "redraw": true
              },
              "mode": "immediate"
             }
            ],
            "label": "73",
            "method": "animate"
           },
           {
            "args": [
             [
              "74"
             ],
             {
              "frame": {
               "duration": 50,
               "redraw": true
              },
              "mode": "immediate"
             }
            ],
            "label": "74",
            "method": "animate"
           },
           {
            "args": [
             [
              "75"
             ],
             {
              "frame": {
               "duration": 50,
               "redraw": true
              },
              "mode": "immediate"
             }
            ],
            "label": "75",
            "method": "animate"
           },
           {
            "args": [
             [
              "76"
             ],
             {
              "frame": {
               "duration": 50,
               "redraw": true
              },
              "mode": "immediate"
             }
            ],
            "label": "76",
            "method": "animate"
           },
           {
            "args": [
             [
              "77"
             ],
             {
              "frame": {
               "duration": 50,
               "redraw": true
              },
              "mode": "immediate"
             }
            ],
            "label": "77",
            "method": "animate"
           },
           {
            "args": [
             [
              "78"
             ],
             {
              "frame": {
               "duration": 50,
               "redraw": true
              },
              "mode": "immediate"
             }
            ],
            "label": "78",
            "method": "animate"
           },
           {
            "args": [
             [
              "79"
             ],
             {
              "frame": {
               "duration": 50,
               "redraw": true
              },
              "mode": "immediate"
             }
            ],
            "label": "79",
            "method": "animate"
           },
           {
            "args": [
             [
              "80"
             ],
             {
              "frame": {
               "duration": 50,
               "redraw": true
              },
              "mode": "immediate"
             }
            ],
            "label": "80",
            "method": "animate"
           },
           {
            "args": [
             [
              "81"
             ],
             {
              "frame": {
               "duration": 50,
               "redraw": true
              },
              "mode": "immediate"
             }
            ],
            "label": "81",
            "method": "animate"
           },
           {
            "args": [
             [
              "82"
             ],
             {
              "frame": {
               "duration": 50,
               "redraw": true
              },
              "mode": "immediate"
             }
            ],
            "label": "82",
            "method": "animate"
           },
           {
            "args": [
             [
              "83"
             ],
             {
              "frame": {
               "duration": 50,
               "redraw": true
              },
              "mode": "immediate"
             }
            ],
            "label": "83",
            "method": "animate"
           },
           {
            "args": [
             [
              "84"
             ],
             {
              "frame": {
               "duration": 50,
               "redraw": true
              },
              "mode": "immediate"
             }
            ],
            "label": "84",
            "method": "animate"
           },
           {
            "args": [
             [
              "85"
             ],
             {
              "frame": {
               "duration": 50,
               "redraw": true
              },
              "mode": "immediate"
             }
            ],
            "label": "85",
            "method": "animate"
           },
           {
            "args": [
             [
              "86"
             ],
             {
              "frame": {
               "duration": 50,
               "redraw": true
              },
              "mode": "immediate"
             }
            ],
            "label": "86",
            "method": "animate"
           },
           {
            "args": [
             [
              "87"
             ],
             {
              "frame": {
               "duration": 50,
               "redraw": true
              },
              "mode": "immediate"
             }
            ],
            "label": "87",
            "method": "animate"
           },
           {
            "args": [
             [
              "88"
             ],
             {
              "frame": {
               "duration": 50,
               "redraw": true
              },
              "mode": "immediate"
             }
            ],
            "label": "88",
            "method": "animate"
           },
           {
            "args": [
             [
              "89"
             ],
             {
              "frame": {
               "duration": 50,
               "redraw": true
              },
              "mode": "immediate"
             }
            ],
            "label": "89",
            "method": "animate"
           },
           {
            "args": [
             [
              "90"
             ],
             {
              "frame": {
               "duration": 50,
               "redraw": true
              },
              "mode": "immediate"
             }
            ],
            "label": "90",
            "method": "animate"
           },
           {
            "args": [
             [
              "91"
             ],
             {
              "frame": {
               "duration": 50,
               "redraw": true
              },
              "mode": "immediate"
             }
            ],
            "label": "91",
            "method": "animate"
           },
           {
            "args": [
             [
              "92"
             ],
             {
              "frame": {
               "duration": 50,
               "redraw": true
              },
              "mode": "immediate"
             }
            ],
            "label": "92",
            "method": "animate"
           },
           {
            "args": [
             [
              "93"
             ],
             {
              "frame": {
               "duration": 50,
               "redraw": true
              },
              "mode": "immediate"
             }
            ],
            "label": "93",
            "method": "animate"
           },
           {
            "args": [
             [
              "94"
             ],
             {
              "frame": {
               "duration": 50,
               "redraw": true
              },
              "mode": "immediate"
             }
            ],
            "label": "94",
            "method": "animate"
           },
           {
            "args": [
             [
              "95"
             ],
             {
              "frame": {
               "duration": 50,
               "redraw": true
              },
              "mode": "immediate"
             }
            ],
            "label": "95",
            "method": "animate"
           },
           {
            "args": [
             [
              "96"
             ],
             {
              "frame": {
               "duration": 50,
               "redraw": true
              },
              "mode": "immediate"
             }
            ],
            "label": "96",
            "method": "animate"
           },
           {
            "args": [
             [
              "97"
             ],
             {
              "frame": {
               "duration": 50,
               "redraw": true
              },
              "mode": "immediate"
             }
            ],
            "label": "97",
            "method": "animate"
           },
           {
            "args": [
             [
              "98"
             ],
             {
              "frame": {
               "duration": 50,
               "redraw": true
              },
              "mode": "immediate"
             }
            ],
            "label": "98",
            "method": "animate"
           },
           {
            "args": [
             [
              "99"
             ],
             {
              "frame": {
               "duration": 50,
               "redraw": true
              },
              "mode": "immediate"
             }
            ],
            "label": "99",
            "method": "animate"
           }
          ],
          "transition": {
           "duration": 0
          },
          "x": 0.1,
          "y": 0
         }
        ],
        "template": {
         "data": {
          "bar": [
           {
            "error_x": {
             "color": "#2a3f5f"
            },
            "error_y": {
             "color": "#2a3f5f"
            },
            "marker": {
             "line": {
              "color": "#E5ECF6",
              "width": 0.5
             },
             "pattern": {
              "fillmode": "overlay",
              "size": 10,
              "solidity": 0.2
             }
            },
            "type": "bar"
           }
          ],
          "barpolar": [
           {
            "marker": {
             "line": {
              "color": "#E5ECF6",
              "width": 0.5
             },
             "pattern": {
              "fillmode": "overlay",
              "size": 10,
              "solidity": 0.2
             }
            },
            "type": "barpolar"
           }
          ],
          "carpet": [
           {
            "aaxis": {
             "endlinecolor": "#2a3f5f",
             "gridcolor": "white",
             "linecolor": "white",
             "minorgridcolor": "white",
             "startlinecolor": "#2a3f5f"
            },
            "baxis": {
             "endlinecolor": "#2a3f5f",
             "gridcolor": "white",
             "linecolor": "white",
             "minorgridcolor": "white",
             "startlinecolor": "#2a3f5f"
            },
            "type": "carpet"
           }
          ],
          "choropleth": [
           {
            "colorbar": {
             "outlinewidth": 0,
             "ticks": ""
            },
            "type": "choropleth"
           }
          ],
          "contour": [
           {
            "colorbar": {
             "outlinewidth": 0,
             "ticks": ""
            },
            "colorscale": [
             [
              0,
              "#0d0887"
             ],
             [
              0.1111111111111111,
              "#46039f"
             ],
             [
              0.2222222222222222,
              "#7201a8"
             ],
             [
              0.3333333333333333,
              "#9c179e"
             ],
             [
              0.4444444444444444,
              "#bd3786"
             ],
             [
              0.5555555555555556,
              "#d8576b"
             ],
             [
              0.6666666666666666,
              "#ed7953"
             ],
             [
              0.7777777777777778,
              "#fb9f3a"
             ],
             [
              0.8888888888888888,
              "#fdca26"
             ],
             [
              1,
              "#f0f921"
             ]
            ],
            "type": "contour"
           }
          ],
          "contourcarpet": [
           {
            "colorbar": {
             "outlinewidth": 0,
             "ticks": ""
            },
            "type": "contourcarpet"
           }
          ],
          "heatmap": [
           {
            "colorbar": {
             "outlinewidth": 0,
             "ticks": ""
            },
            "colorscale": [
             [
              0,
              "#0d0887"
             ],
             [
              0.1111111111111111,
              "#46039f"
             ],
             [
              0.2222222222222222,
              "#7201a8"
             ],
             [
              0.3333333333333333,
              "#9c179e"
             ],
             [
              0.4444444444444444,
              "#bd3786"
             ],
             [
              0.5555555555555556,
              "#d8576b"
             ],
             [
              0.6666666666666666,
              "#ed7953"
             ],
             [
              0.7777777777777778,
              "#fb9f3a"
             ],
             [
              0.8888888888888888,
              "#fdca26"
             ],
             [
              1,
              "#f0f921"
             ]
            ],
            "type": "heatmap"
           }
          ],
          "histogram": [
           {
            "marker": {
             "pattern": {
              "fillmode": "overlay",
              "size": 10,
              "solidity": 0.2
             }
            },
            "type": "histogram"
           }
          ],
          "histogram2d": [
           {
            "colorbar": {
             "outlinewidth": 0,
             "ticks": ""
            },
            "colorscale": [
             [
              0,
              "#0d0887"
             ],
             [
              0.1111111111111111,
              "#46039f"
             ],
             [
              0.2222222222222222,
              "#7201a8"
             ],
             [
              0.3333333333333333,
              "#9c179e"
             ],
             [
              0.4444444444444444,
              "#bd3786"
             ],
             [
              0.5555555555555556,
              "#d8576b"
             ],
             [
              0.6666666666666666,
              "#ed7953"
             ],
             [
              0.7777777777777778,
              "#fb9f3a"
             ],
             [
              0.8888888888888888,
              "#fdca26"
             ],
             [
              1,
              "#f0f921"
             ]
            ],
            "type": "histogram2d"
           }
          ],
          "histogram2dcontour": [
           {
            "colorbar": {
             "outlinewidth": 0,
             "ticks": ""
            },
            "colorscale": [
             [
              0,
              "#0d0887"
             ],
             [
              0.1111111111111111,
              "#46039f"
             ],
             [
              0.2222222222222222,
              "#7201a8"
             ],
             [
              0.3333333333333333,
              "#9c179e"
             ],
             [
              0.4444444444444444,
              "#bd3786"
             ],
             [
              0.5555555555555556,
              "#d8576b"
             ],
             [
              0.6666666666666666,
              "#ed7953"
             ],
             [
              0.7777777777777778,
              "#fb9f3a"
             ],
             [
              0.8888888888888888,
              "#fdca26"
             ],
             [
              1,
              "#f0f921"
             ]
            ],
            "type": "histogram2dcontour"
           }
          ],
          "mesh3d": [
           {
            "colorbar": {
             "outlinewidth": 0,
             "ticks": ""
            },
            "type": "mesh3d"
           }
          ],
          "parcoords": [
           {
            "line": {
             "colorbar": {
              "outlinewidth": 0,
              "ticks": ""
             }
            },
            "type": "parcoords"
           }
          ],
          "pie": [
           {
            "automargin": true,
            "type": "pie"
           }
          ],
          "scatter": [
           {
            "fillpattern": {
             "fillmode": "overlay",
             "size": 10,
             "solidity": 0.2
            },
            "type": "scatter"
           }
          ],
          "scatter3d": [
           {
            "line": {
             "colorbar": {
              "outlinewidth": 0,
              "ticks": ""
             }
            },
            "marker": {
             "colorbar": {
              "outlinewidth": 0,
              "ticks": ""
             }
            },
            "type": "scatter3d"
           }
          ],
          "scattercarpet": [
           {
            "marker": {
             "colorbar": {
              "outlinewidth": 0,
              "ticks": ""
             }
            },
            "type": "scattercarpet"
           }
          ],
          "scattergeo": [
           {
            "marker": {
             "colorbar": {
              "outlinewidth": 0,
              "ticks": ""
             }
            },
            "type": "scattergeo"
           }
          ],
          "scattergl": [
           {
            "marker": {
             "colorbar": {
              "outlinewidth": 0,
              "ticks": ""
             }
            },
            "type": "scattergl"
           }
          ],
          "scattermap": [
           {
            "marker": {
             "colorbar": {
              "outlinewidth": 0,
              "ticks": ""
             }
            },
            "type": "scattermap"
           }
          ],
          "scattermapbox": [
           {
            "marker": {
             "colorbar": {
              "outlinewidth": 0,
              "ticks": ""
             }
            },
            "type": "scattermapbox"
           }
          ],
          "scatterpolar": [
           {
            "marker": {
             "colorbar": {
              "outlinewidth": 0,
              "ticks": ""
             }
            },
            "type": "scatterpolar"
           }
          ],
          "scatterpolargl": [
           {
            "marker": {
             "colorbar": {
              "outlinewidth": 0,
              "ticks": ""
             }
            },
            "type": "scatterpolargl"
           }
          ],
          "scatterternary": [
           {
            "marker": {
             "colorbar": {
              "outlinewidth": 0,
              "ticks": ""
             }
            },
            "type": "scatterternary"
           }
          ],
          "surface": [
           {
            "colorbar": {
             "outlinewidth": 0,
             "ticks": ""
            },
            "colorscale": [
             [
              0,
              "#0d0887"
             ],
             [
              0.1111111111111111,
              "#46039f"
             ],
             [
              0.2222222222222222,
              "#7201a8"
             ],
             [
              0.3333333333333333,
              "#9c179e"
             ],
             [
              0.4444444444444444,
              "#bd3786"
             ],
             [
              0.5555555555555556,
              "#d8576b"
             ],
             [
              0.6666666666666666,
              "#ed7953"
             ],
             [
              0.7777777777777778,
              "#fb9f3a"
             ],
             [
              0.8888888888888888,
              "#fdca26"
             ],
             [
              1,
              "#f0f921"
             ]
            ],
            "type": "surface"
           }
          ],
          "table": [
           {
            "cells": {
             "fill": {
              "color": "#EBF0F8"
             },
             "line": {
              "color": "white"
             }
            },
            "header": {
             "fill": {
              "color": "#C8D4E3"
             },
             "line": {
              "color": "white"
             }
            },
            "type": "table"
           }
          ]
         },
         "layout": {
          "annotationdefaults": {
           "arrowcolor": "#2a3f5f",
           "arrowhead": 0,
           "arrowwidth": 1
          },
          "autotypenumbers": "strict",
          "coloraxis": {
           "colorbar": {
            "outlinewidth": 0,
            "ticks": ""
           }
          },
          "colorscale": {
           "diverging": [
            [
             0,
             "#8e0152"
            ],
            [
             0.1,
             "#c51b7d"
            ],
            [
             0.2,
             "#de77ae"
            ],
            [
             0.3,
             "#f1b6da"
            ],
            [
             0.4,
             "#fde0ef"
            ],
            [
             0.5,
             "#f7f7f7"
            ],
            [
             0.6,
             "#e6f5d0"
            ],
            [
             0.7,
             "#b8e186"
            ],
            [
             0.8,
             "#7fbc41"
            ],
            [
             0.9,
             "#4d9221"
            ],
            [
             1,
             "#276419"
            ]
           ],
           "sequential": [
            [
             0,
             "#0d0887"
            ],
            [
             0.1111111111111111,
             "#46039f"
            ],
            [
             0.2222222222222222,
             "#7201a8"
            ],
            [
             0.3333333333333333,
             "#9c179e"
            ],
            [
             0.4444444444444444,
             "#bd3786"
            ],
            [
             0.5555555555555556,
             "#d8576b"
            ],
            [
             0.6666666666666666,
             "#ed7953"
            ],
            [
             0.7777777777777778,
             "#fb9f3a"
            ],
            [
             0.8888888888888888,
             "#fdca26"
            ],
            [
             1,
             "#f0f921"
            ]
           ],
           "sequentialminus": [
            [
             0,
             "#0d0887"
            ],
            [
             0.1111111111111111,
             "#46039f"
            ],
            [
             0.2222222222222222,
             "#7201a8"
            ],
            [
             0.3333333333333333,
             "#9c179e"
            ],
            [
             0.4444444444444444,
             "#bd3786"
            ],
            [
             0.5555555555555556,
             "#d8576b"
            ],
            [
             0.6666666666666666,
             "#ed7953"
            ],
            [
             0.7777777777777778,
             "#fb9f3a"
            ],
            [
             0.8888888888888888,
             "#fdca26"
            ],
            [
             1,
             "#f0f921"
            ]
           ]
          },
          "colorway": [
           "#636efa",
           "#EF553B",
           "#00cc96",
           "#ab63fa",
           "#FFA15A",
           "#19d3f3",
           "#FF6692",
           "#B6E880",
           "#FF97FF",
           "#FECB52"
          ],
          "font": {
           "color": "#2a3f5f"
          },
          "geo": {
           "bgcolor": "white",
           "lakecolor": "white",
           "landcolor": "#E5ECF6",
           "showlakes": true,
           "showland": true,
           "subunitcolor": "white"
          },
          "hoverlabel": {
           "align": "left"
          },
          "hovermode": "closest",
          "mapbox": {
           "style": "light"
          },
          "paper_bgcolor": "white",
          "plot_bgcolor": "#E5ECF6",
          "polar": {
           "angularaxis": {
            "gridcolor": "white",
            "linecolor": "white",
            "ticks": ""
           },
           "bgcolor": "#E5ECF6",
           "radialaxis": {
            "gridcolor": "white",
            "linecolor": "white",
            "ticks": ""
           }
          },
          "scene": {
           "xaxis": {
            "backgroundcolor": "#E5ECF6",
            "gridcolor": "white",
            "gridwidth": 2,
            "linecolor": "white",
            "showbackground": true,
            "ticks": "",
            "zerolinecolor": "white"
           },
           "yaxis": {
            "backgroundcolor": "#E5ECF6",
            "gridcolor": "white",
            "gridwidth": 2,
            "linecolor": "white",
            "showbackground": true,
            "ticks": "",
            "zerolinecolor": "white"
           },
           "zaxis": {
            "backgroundcolor": "#E5ECF6",
            "gridcolor": "white",
            "gridwidth": 2,
            "linecolor": "white",
            "showbackground": true,
            "ticks": "",
            "zerolinecolor": "white"
           }
          },
          "shapedefaults": {
           "line": {
            "color": "#2a3f5f"
           }
          },
          "ternary": {
           "aaxis": {
            "gridcolor": "white",
            "linecolor": "white",
            "ticks": ""
           },
           "baxis": {
            "gridcolor": "white",
            "linecolor": "white",
            "ticks": ""
           },
           "bgcolor": "#E5ECF6",
           "caxis": {
            "gridcolor": "white",
            "linecolor": "white",
            "ticks": ""
           }
          },
          "title": {
           "x": 0.05
          },
          "xaxis": {
           "automargin": true,
           "gridcolor": "white",
           "linecolor": "white",
           "ticks": "",
           "title": {
            "standoff": 15
           },
           "zerolinecolor": "white",
           "zerolinewidth": 2
          },
          "yaxis": {
           "automargin": true,
           "gridcolor": "white",
           "linecolor": "white",
           "ticks": "",
           "title": {
            "standoff": 15
           },
           "zerolinecolor": "white",
           "zerolinewidth": 2
          }
         }
        },
        "title": {
         "text": "Rod Cantilever (N=51)"
        },
        "updatemenus": [
         {
          "buttons": [
           {
            "args": [
             null,
             {
              "frame": {
               "duration": 50,
               "redraw": true
              },
              "fromcurrent": true
             }
            ],
            "label": "Play",
            "method": "animate"
           },
           {
            "args": [
             [
              null
             ],
             {
              "frame": {
               "duration": 0,
               "redraw": true
              },
              "mode": "immediate"
             }
            ],
            "label": "Pause",
            "method": "animate"
           }
          ],
          "direction": "left",
          "pad": {
           "r": 10,
           "t": 87
          },
          "showactive": false,
          "type": "buttons",
          "x": 0.1,
          "xanchor": "right",
          "y": 0,
          "yanchor": "top"
         }
        ]
       }
      }
     },
     "metadata": {},
     "output_type": "display_data"
    }
   ],
   "source": [
    "t = np.arange(robot.sim_params.total_time, step=robot.sim_params.dt)\n",
    "options = dismech.AnimationOptions(title='Rod Cantilever (N=51)', y_lim=(-0.1, 0.1), z_lim=(-0.1, 0.1))\n",
    "\n",
    "fig = dismech.get_interactive_animation_plotly(robot, t, qs, options)\n",
    "fig.show()"
   ]
  }
 ],
 "metadata": {
  "kernelspec": {
   "display_name": ".venv",
   "language": "python",
   "name": "python3"
  },
  "language_info": {
   "codemirror_mode": {
    "name": "ipython",
    "version": 3
   },
   "file_extension": ".py",
   "mimetype": "text/x-python",
   "name": "python",
   "nbconvert_exporter": "python",
   "pygments_lexer": "ipython3",
   "version": "3.12.1"
  }
 },
 "nbformat": 4,
 "nbformat_minor": 5
}
