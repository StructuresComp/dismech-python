{
 "cells": [
  {
   "cell_type": "markdown",
   "metadata": {},
   "source": [
    "## Four Corner Shell Bending Example"
   ]
  },
  {
   "cell_type": "code",
   "execution_count": 1,
   "metadata": {},
   "outputs": [],
   "source": [
    "import numpy as np\n",
    "\n",
    "import dismech\n",
    "\n",
    "geom = dismech.GeomParams(rod_r0=0,\n",
    "                          shell_h=1e-3)\n",
    "\n",
    "material = dismech.Material(density=1200,\n",
    "                            youngs_rod=0,\n",
    "                            youngs_shell=2e8,  # stainless steel\n",
    "                            poisson_rod=0,\n",
    "                            poisson_shell=0.5)\n",
    "\n",
    "static_3d_sim = dismech.SimParams(static_sim=True,\n",
    "                                  two_d_sim=False,\n",
    "                                  use_mid_edge=False,\n",
    "                                  use_line_search=False,\n",
    "                                  show_floor=False,\n",
    "                                  log_data=True,\n",
    "                                  log_step=1,\n",
    "                                  dt=1e-2,\n",
    "                                  max_iter=25,\n",
    "                                  total_time=1e-2,\n",
    "                                  plot_step=10,\n",
    "                                  tol=1e-4,\n",
    "                                  ftol=1e-4,\n",
    "                                  dtol=1e-2)\n",
    "\n",
    "env = dismech.Environment()\n",
    "env.add_force('gravity', g=np.array([0.0, 0.0, -9.81]))\n",
    "\n",
    "geo = dismech.Geometry.from_txt('three_corner.txt')\n",
    "\n",
    "robot = dismech.SoftRobot(geom, material, geo, static_3d_sim, env)"
   ]
  },
  {
   "cell_type": "markdown",
   "metadata": {},
   "source": [
    "### Energy"
   ]
  },
  {
   "cell_type": "code",
   "execution_count": 2,
   "metadata": {},
   "outputs": [],
   "source": [
    "# set strain_bar\n",
    "stretch_energy = dismech.StretchEnergy(robot.stretch_springs, robot.state)"
   ]
  },
  {
   "cell_type": "markdown",
   "metadata": {},
   "source": [
    "### Static Simulation"
   ]
  },
  {
   "cell_type": "code",
   "execution_count": 3,
   "metadata": {},
   "outputs": [
    {
     "data": {
      "application/vnd.jupyter.widget-view+json": {
       "model_id": "1f40f1dc99f2435d9f3454b90837a80d",
       "version_major": 2,
       "version_minor": 0
      },
      "text/plain": [
       "  0%|          | 0/1 [00:00<?, ?it/s]"
      ]
     },
     "metadata": {},
     "output_type": "display_data"
    }
   ],
   "source": [
    "robot = robot.fix_nodes([0,1])\n",
    "robot = robot.fix_nodes([2], 0) # fix z axis\n",
    "stepper = dismech.ImplicitEulerTimeStepper(robot)\n",
    "robots = stepper.simulate()\n",
    "qs = np.stack([robot.state.q for robot in robots])\n",
    "\n",
    "# Static Sim = 1 output\n",
    "robot_eq = robots[-1]\n",
    "q_eq = robots[-1].state.q"
   ]
  },
  {
   "cell_type": "markdown",
   "metadata": {},
   "source": [
    "### Visualization"
   ]
  },
  {
   "cell_type": "code",
   "execution_count": 4,
   "metadata": {},
   "outputs": [
    {
     "data": {
      "application/vnd.plotly.v1+json": {
       "config": {
        "plotlyServerURL": "https://plot.ly"
       },
       "data": [
        {
         "marker": {
          "color": "#1f78b4",
          "size": 5
         },
         "mode": "markers",
         "name": "Free Nodes",
         "type": "scatter3d",
         "x": {
          "bdata": "AAAAAAAA8D8=",
          "dtype": "f8"
         },
         "y": {
          "bdata": "yTZr2j7MAL8=",
          "dtype": "f8"
         },
         "z": {
          "bdata": "U5YEz7z/7z8=",
          "dtype": "f8"
         }
        },
        {
         "marker": {
          "color": "#e31a1c",
          "size": 5
         },
         "mode": "markers",
         "name": "Fixed Nodes",
         "type": "scatter3d",
         "x": {
          "bdata": "AAAAAAAAAAAAAAAAAAAAAA==",
          "dtype": "f8"
         },
         "y": {
          "bdata": "AAAAAAAAAAAAAAAAAADwPw==",
          "dtype": "f8"
         },
         "z": {
          "bdata": "AAAAAAAAAAAAAAAAAAAAAA==",
          "dtype": "f8"
         }
        },
        {
         "line": {
          "color": "#333333",
          "width": 2
         },
         "mode": "lines",
         "name": "Edges",
         "type": "scatter3d",
         "x": [
          0,
          1,
          null,
          1,
          0,
          null,
          0,
          0,
          null
         ],
         "y": [
          1,
          -0.000032039325835603984,
          null,
          -0.000032039325835603984,
          0,
          null,
          0,
          1,
          null
         ],
         "z": [
          0,
          0.9999679606741644,
          null,
          0.9999679606741644,
          0,
          null,
          0,
          0,
          null
         ]
        },
        {
         "color": "rgba(166, 206, 227, 0.7)",
         "i": [
          0
         ],
         "j": [
          1
         ],
         "k": [
          2
         ],
         "name": "Faces",
         "opacity": 0.7,
         "showscale": false,
         "type": "mesh3d",
         "x": {
          "bdata": "AAAAAAAAAAAAAAAAAAAAAAAAAAAAAPA/",
          "dtype": "f8"
         },
         "y": {
          "bdata": "AAAAAAAAAAAAAAAAAADwP8k2a9o+zAC/",
          "dtype": "f8"
         },
         "z": {
          "bdata": "AAAAAAAAAAAAAAAAAAAAAFOWBM+8/+8/",
          "dtype": "f8"
         }
        }
       ],
       "frames": [
        {
         "data": [
          {
           "name": "Free Nodes",
           "type": "scatter3d",
           "x": {
            "bdata": "AAAAAAAA8D8=",
            "dtype": "f8"
           },
           "y": {
            "bdata": "yTZr2j7MAL8=",
            "dtype": "f8"
           },
           "z": {
            "bdata": "U5YEz7z/7z8=",
            "dtype": "f8"
           }
          },
          {
           "name": "Fixed Nodes",
           "type": "scatter3d",
           "x": {
            "bdata": "AAAAAAAAAAAAAAAAAAAAAA==",
            "dtype": "f8"
           },
           "y": {
            "bdata": "AAAAAAAAAAAAAAAAAADwPw==",
            "dtype": "f8"
           },
           "z": {
            "bdata": "AAAAAAAAAAAAAAAAAAAAAA==",
            "dtype": "f8"
           }
          },
          {
           "name": "Edges",
           "type": "scatter3d",
           "x": [
            0,
            1,
            null,
            1,
            0,
            null,
            0,
            0,
            null
           ],
           "y": [
            1,
            -0.000032039325835603984,
            null,
            -0.000032039325835603984,
            0,
            null,
            0,
            1,
            null
           ],
           "z": [
            0,
            0.9999679606741644,
            null,
            0.9999679606741644,
            0,
            null,
            0,
            0,
            null
           ]
          },
          {
           "i": [
            0
           ],
           "j": [
            1
           ],
           "k": [
            2
           ],
           "name": "Faces",
           "type": "mesh3d",
           "x": {
            "bdata": "AAAAAAAAAAAAAAAAAAAAAAAAAAAAAPA/",
            "dtype": "f8"
           },
           "y": {
            "bdata": "AAAAAAAAAAAAAAAAAADwP8k2a9o+zAC/",
            "dtype": "f8"
           },
           "z": {
            "bdata": "AAAAAAAAAAAAAAAAAAAAAFOWBM+8/+8/",
            "dtype": "f8"
           }
          }
         ],
         "layout": {
          "annotations": [
           {
            "showarrow": false,
            "text": "Time: 0.00s (Step: 1/1)",
            "x": 0.05,
            "xref": "paper",
            "y": 0.95,
            "yref": "paper"
           }
          ],
          "scene": {
           "camera": {
            "eye": {
             "x": 1.5909902582141258,
             "y": 1.5909902582141258,
             "z": 1.2990381061211533
            }
           }
          }
         },
         "name": "0"
        }
       ],
       "layout": {
        "scene": {
         "camera": {
          "eye": {
           "x": 1.5909902582141258,
           "y": 1.5909902582141258,
           "z": 1.2990381061211533
          }
         },
         "xaxis": {
          "range": [
           0,
           1
          ],
          "title": {
           "text": "X Position"
          }
         },
         "yaxis": {
          "range": [
           -0.000032039325835603984,
           1
          ],
          "title": {
           "text": "Y Position"
          }
         },
         "zaxis": {
          "range": [
           -1,
           1
          ],
          "title": {
           "text": "Z Position"
          }
         }
        },
        "sliders": [
         {
          "currentvalue": {
           "prefix": "Frame: "
          },
          "steps": [
           {
            "args": [
             [
              "0"
             ],
             {
              "frame": {
               "duration": 50,
               "redraw": true
              },
              "mode": "immediate"
             }
            ],
            "label": "0",
            "method": "animate"
           }
          ],
          "transition": {
           "duration": 0
          },
          "x": 0.1,
          "y": 0
         }
        ],
        "template": {
         "data": {
          "bar": [
           {
            "error_x": {
             "color": "#2a3f5f"
            },
            "error_y": {
             "color": "#2a3f5f"
            },
            "marker": {
             "line": {
              "color": "#E5ECF6",
              "width": 0.5
             },
             "pattern": {
              "fillmode": "overlay",
              "size": 10,
              "solidity": 0.2
             }
            },
            "type": "bar"
           }
          ],
          "barpolar": [
           {
            "marker": {
             "line": {
              "color": "#E5ECF6",
              "width": 0.5
             },
             "pattern": {
              "fillmode": "overlay",
              "size": 10,
              "solidity": 0.2
             }
            },
            "type": "barpolar"
           }
          ],
          "carpet": [
           {
            "aaxis": {
             "endlinecolor": "#2a3f5f",
             "gridcolor": "white",
             "linecolor": "white",
             "minorgridcolor": "white",
             "startlinecolor": "#2a3f5f"
            },
            "baxis": {
             "endlinecolor": "#2a3f5f",
             "gridcolor": "white",
             "linecolor": "white",
             "minorgridcolor": "white",
             "startlinecolor": "#2a3f5f"
            },
            "type": "carpet"
           }
          ],
          "choropleth": [
           {
            "colorbar": {
             "outlinewidth": 0,
             "ticks": ""
            },
            "type": "choropleth"
           }
          ],
          "contour": [
           {
            "colorbar": {
             "outlinewidth": 0,
             "ticks": ""
            },
            "colorscale": [
             [
              0,
              "#0d0887"
             ],
             [
              0.1111111111111111,
              "#46039f"
             ],
             [
              0.2222222222222222,
              "#7201a8"
             ],
             [
              0.3333333333333333,
              "#9c179e"
             ],
             [
              0.4444444444444444,
              "#bd3786"
             ],
             [
              0.5555555555555556,
              "#d8576b"
             ],
             [
              0.6666666666666666,
              "#ed7953"
             ],
             [
              0.7777777777777778,
              "#fb9f3a"
             ],
             [
              0.8888888888888888,
              "#fdca26"
             ],
             [
              1,
              "#f0f921"
             ]
            ],
            "type": "contour"
           }
          ],
          "contourcarpet": [
           {
            "colorbar": {
             "outlinewidth": 0,
             "ticks": ""
            },
            "type": "contourcarpet"
           }
          ],
          "heatmap": [
           {
            "colorbar": {
             "outlinewidth": 0,
             "ticks": ""
            },
            "colorscale": [
             [
              0,
              "#0d0887"
             ],
             [
              0.1111111111111111,
              "#46039f"
             ],
             [
              0.2222222222222222,
              "#7201a8"
             ],
             [
              0.3333333333333333,
              "#9c179e"
             ],
             [
              0.4444444444444444,
              "#bd3786"
             ],
             [
              0.5555555555555556,
              "#d8576b"
             ],
             [
              0.6666666666666666,
              "#ed7953"
             ],
             [
              0.7777777777777778,
              "#fb9f3a"
             ],
             [
              0.8888888888888888,
              "#fdca26"
             ],
             [
              1,
              "#f0f921"
             ]
            ],
            "type": "heatmap"
           }
          ],
          "histogram": [
           {
            "marker": {
             "pattern": {
              "fillmode": "overlay",
              "size": 10,
              "solidity": 0.2
             }
            },
            "type": "histogram"
           }
          ],
          "histogram2d": [
           {
            "colorbar": {
             "outlinewidth": 0,
             "ticks": ""
            },
            "colorscale": [
             [
              0,
              "#0d0887"
             ],
             [
              0.1111111111111111,
              "#46039f"
             ],
             [
              0.2222222222222222,
              "#7201a8"
             ],
             [
              0.3333333333333333,
              "#9c179e"
             ],
             [
              0.4444444444444444,
              "#bd3786"
             ],
             [
              0.5555555555555556,
              "#d8576b"
             ],
             [
              0.6666666666666666,
              "#ed7953"
             ],
             [
              0.7777777777777778,
              "#fb9f3a"
             ],
             [
              0.8888888888888888,
              "#fdca26"
             ],
             [
              1,
              "#f0f921"
             ]
            ],
            "type": "histogram2d"
           }
          ],
          "histogram2dcontour": [
           {
            "colorbar": {
             "outlinewidth": 0,
             "ticks": ""
            },
            "colorscale": [
             [
              0,
              "#0d0887"
             ],
             [
              0.1111111111111111,
              "#46039f"
             ],
             [
              0.2222222222222222,
              "#7201a8"
             ],
             [
              0.3333333333333333,
              "#9c179e"
             ],
             [
              0.4444444444444444,
              "#bd3786"
             ],
             [
              0.5555555555555556,
              "#d8576b"
             ],
             [
              0.6666666666666666,
              "#ed7953"
             ],
             [
              0.7777777777777778,
              "#fb9f3a"
             ],
             [
              0.8888888888888888,
              "#fdca26"
             ],
             [
              1,
              "#f0f921"
             ]
            ],
            "type": "histogram2dcontour"
           }
          ],
          "mesh3d": [
           {
            "colorbar": {
             "outlinewidth": 0,
             "ticks": ""
            },
            "type": "mesh3d"
           }
          ],
          "parcoords": [
           {
            "line": {
             "colorbar": {
              "outlinewidth": 0,
              "ticks": ""
             }
            },
            "type": "parcoords"
           }
          ],
          "pie": [
           {
            "automargin": true,
            "type": "pie"
           }
          ],
          "scatter": [
           {
            "fillpattern": {
             "fillmode": "overlay",
             "size": 10,
             "solidity": 0.2
            },
            "type": "scatter"
           }
          ],
          "scatter3d": [
           {
            "line": {
             "colorbar": {
              "outlinewidth": 0,
              "ticks": ""
             }
            },
            "marker": {
             "colorbar": {
              "outlinewidth": 0,
              "ticks": ""
             }
            },
            "type": "scatter3d"
           }
          ],
          "scattercarpet": [
           {
            "marker": {
             "colorbar": {
              "outlinewidth": 0,
              "ticks": ""
             }
            },
            "type": "scattercarpet"
           }
          ],
          "scattergeo": [
           {
            "marker": {
             "colorbar": {
              "outlinewidth": 0,
              "ticks": ""
             }
            },
            "type": "scattergeo"
           }
          ],
          "scattergl": [
           {
            "marker": {
             "colorbar": {
              "outlinewidth": 0,
              "ticks": ""
             }
            },
            "type": "scattergl"
           }
          ],
          "scattermap": [
           {
            "marker": {
             "colorbar": {
              "outlinewidth": 0,
              "ticks": ""
             }
            },
            "type": "scattermap"
           }
          ],
          "scattermapbox": [
           {
            "marker": {
             "colorbar": {
              "outlinewidth": 0,
              "ticks": ""
             }
            },
            "type": "scattermapbox"
           }
          ],
          "scatterpolar": [
           {
            "marker": {
             "colorbar": {
              "outlinewidth": 0,
              "ticks": ""
             }
            },
            "type": "scatterpolar"
           }
          ],
          "scatterpolargl": [
           {
            "marker": {
             "colorbar": {
              "outlinewidth": 0,
              "ticks": ""
             }
            },
            "type": "scatterpolargl"
           }
          ],
          "scatterternary": [
           {
            "marker": {
             "colorbar": {
              "outlinewidth": 0,
              "ticks": ""
             }
            },
            "type": "scatterternary"
           }
          ],
          "surface": [
           {
            "colorbar": {
             "outlinewidth": 0,
             "ticks": ""
            },
            "colorscale": [
             [
              0,
              "#0d0887"
             ],
             [
              0.1111111111111111,
              "#46039f"
             ],
             [
              0.2222222222222222,
              "#7201a8"
             ],
             [
              0.3333333333333333,
              "#9c179e"
             ],
             [
              0.4444444444444444,
              "#bd3786"
             ],
             [
              0.5555555555555556,
              "#d8576b"
             ],
             [
              0.6666666666666666,
              "#ed7953"
             ],
             [
              0.7777777777777778,
              "#fb9f3a"
             ],
             [
              0.8888888888888888,
              "#fdca26"
             ],
             [
              1,
              "#f0f921"
             ]
            ],
            "type": "surface"
           }
          ],
          "table": [
           {
            "cells": {
             "fill": {
              "color": "#EBF0F8"
             },
             "line": {
              "color": "white"
             }
            },
            "header": {
             "fill": {
              "color": "#C8D4E3"
             },
             "line": {
              "color": "white"
             }
            },
            "type": "table"
           }
          ]
         },
         "layout": {
          "annotationdefaults": {
           "arrowcolor": "#2a3f5f",
           "arrowhead": 0,
           "arrowwidth": 1
          },
          "autotypenumbers": "strict",
          "coloraxis": {
           "colorbar": {
            "outlinewidth": 0,
            "ticks": ""
           }
          },
          "colorscale": {
           "diverging": [
            [
             0,
             "#8e0152"
            ],
            [
             0.1,
             "#c51b7d"
            ],
            [
             0.2,
             "#de77ae"
            ],
            [
             0.3,
             "#f1b6da"
            ],
            [
             0.4,
             "#fde0ef"
            ],
            [
             0.5,
             "#f7f7f7"
            ],
            [
             0.6,
             "#e6f5d0"
            ],
            [
             0.7,
             "#b8e186"
            ],
            [
             0.8,
             "#7fbc41"
            ],
            [
             0.9,
             "#4d9221"
            ],
            [
             1,
             "#276419"
            ]
           ],
           "sequential": [
            [
             0,
             "#0d0887"
            ],
            [
             0.1111111111111111,
             "#46039f"
            ],
            [
             0.2222222222222222,
             "#7201a8"
            ],
            [
             0.3333333333333333,
             "#9c179e"
            ],
            [
             0.4444444444444444,
             "#bd3786"
            ],
            [
             0.5555555555555556,
             "#d8576b"
            ],
            [
             0.6666666666666666,
             "#ed7953"
            ],
            [
             0.7777777777777778,
             "#fb9f3a"
            ],
            [
             0.8888888888888888,
             "#fdca26"
            ],
            [
             1,
             "#f0f921"
            ]
           ],
           "sequentialminus": [
            [
             0,
             "#0d0887"
            ],
            [
             0.1111111111111111,
             "#46039f"
            ],
            [
             0.2222222222222222,
             "#7201a8"
            ],
            [
             0.3333333333333333,
             "#9c179e"
            ],
            [
             0.4444444444444444,
             "#bd3786"
            ],
            [
             0.5555555555555556,
             "#d8576b"
            ],
            [
             0.6666666666666666,
             "#ed7953"
            ],
            [
             0.7777777777777778,
             "#fb9f3a"
            ],
            [
             0.8888888888888888,
             "#fdca26"
            ],
            [
             1,
             "#f0f921"
            ]
           ]
          },
          "colorway": [
           "#636efa",
           "#EF553B",
           "#00cc96",
           "#ab63fa",
           "#FFA15A",
           "#19d3f3",
           "#FF6692",
           "#B6E880",
           "#FF97FF",
           "#FECB52"
          ],
          "font": {
           "color": "#2a3f5f"
          },
          "geo": {
           "bgcolor": "white",
           "lakecolor": "white",
           "landcolor": "#E5ECF6",
           "showlakes": true,
           "showland": true,
           "subunitcolor": "white"
          },
          "hoverlabel": {
           "align": "left"
          },
          "hovermode": "closest",
          "mapbox": {
           "style": "light"
          },
          "paper_bgcolor": "white",
          "plot_bgcolor": "#E5ECF6",
          "polar": {
           "angularaxis": {
            "gridcolor": "white",
            "linecolor": "white",
            "ticks": ""
           },
           "bgcolor": "#E5ECF6",
           "radialaxis": {
            "gridcolor": "white",
            "linecolor": "white",
            "ticks": ""
           }
          },
          "scene": {
           "xaxis": {
            "backgroundcolor": "#E5ECF6",
            "gridcolor": "white",
            "gridwidth": 2,
            "linecolor": "white",
            "showbackground": true,
            "ticks": "",
            "zerolinecolor": "white"
           },
           "yaxis": {
            "backgroundcolor": "#E5ECF6",
            "gridcolor": "white",
            "gridwidth": 2,
            "linecolor": "white",
            "showbackground": true,
            "ticks": "",
            "zerolinecolor": "white"
           },
           "zaxis": {
            "backgroundcolor": "#E5ECF6",
            "gridcolor": "white",
            "gridwidth": 2,
            "linecolor": "white",
            "showbackground": true,
            "ticks": "",
            "zerolinecolor": "white"
           }
          },
          "shapedefaults": {
           "line": {
            "color": "#2a3f5f"
           }
          },
          "ternary": {
           "aaxis": {
            "gridcolor": "white",
            "linecolor": "white",
            "ticks": ""
           },
           "baxis": {
            "gridcolor": "white",
            "linecolor": "white",
            "ticks": ""
           },
           "bgcolor": "#E5ECF6",
           "caxis": {
            "gridcolor": "white",
            "linecolor": "white",
            "ticks": ""
           }
          },
          "title": {
           "x": 0.05
          },
          "xaxis": {
           "automargin": true,
           "gridcolor": "white",
           "linecolor": "white",
           "ticks": "",
           "title": {
            "standoff": 15
           },
           "zerolinecolor": "white",
           "zerolinewidth": 2
          },
          "yaxis": {
           "automargin": true,
           "gridcolor": "white",
           "linecolor": "white",
           "ticks": "",
           "title": {
            "standoff": 15
           },
           "zerolinecolor": "white",
           "zerolinewidth": 2
          }
         }
        },
        "title": {
         "text": "Four Corners"
        },
        "updatemenus": [
         {
          "buttons": [
           {
            "args": [
             null,
             {
              "frame": {
               "duration": 50,
               "redraw": true
              },
              "fromcurrent": true
             }
            ],
            "label": "Play",
            "method": "animate"
           },
           {
            "args": [
             [
              null
             ],
             {
              "frame": {
               "duration": 0,
               "redraw": true
              },
              "mode": "immediate"
             }
            ],
            "label": "Pause",
            "method": "animate"
           }
          ],
          "direction": "left",
          "pad": {
           "r": 10,
           "t": 87
          },
          "showactive": false,
          "type": "buttons",
          "x": 0.1,
          "xanchor": "right",
          "y": 0,
          "yanchor": "top"
         }
        ]
       }
      }
     },
     "metadata": {},
     "output_type": "display_data"
    }
   ],
   "source": [
    "t = np.arange(robot.sim_params.total_time, step=robot.sim_params.dt)  # (100)\n",
    "options = dismech.AnimationOptions(z_lim=[-1.0, 1.0], x_lim=[0, 1.0], title='Four Corners')\n",
    "fig = dismech.get_interactive_animation_plotly(robot, t, np.array([q_eq]), options)\n",
    "fig.show()"
   ]
  },
  {
   "cell_type": "code",
   "execution_count": 5,
   "metadata": {},
   "outputs": [
    {
     "name": "stdout",
     "output_type": "stream",
     "text": [
      "[0. 0. 0. 0. 1. 0. 1. 0. 1.]\n",
      "[ 0.00000000e+00  0.00000000e+00  0.00000000e+00  0.00000000e+00\n",
      "  1.00000000e+00  0.00000000e+00  1.00000000e+00 -3.20393258e-05\n",
      "  9.99967961e-01]\n"
     ]
    }
   ],
   "source": [
    "# Very slight deviation\n",
    "print(robot.state.q)\n",
    "print(robot_eq.state.q)"
   ]
  },
  {
   "cell_type": "markdown",
   "metadata": {},
   "source": [
    "### Energy"
   ]
  },
  {
   "cell_type": "code",
   "execution_count": 6,
   "metadata": {},
   "outputs": [
    {
     "name": "stdout",
     "output_type": "stream",
     "text": [
      "Stretch Energy: 4.444741441403827e-05\n"
     ]
    }
   ],
   "source": [
    "print(\"Stretch Energy: {}\".format(stretch_energy.get_energy_linear_elastic(robot_eq.state)))"
   ]
  },
  {
   "cell_type": "markdown",
   "metadata": {},
   "source": [
    "## Sample Manipulation Calculation"
   ]
  },
  {
   "cell_type": "code",
   "execution_count": 7,
   "metadata": {},
   "outputs": [
    {
     "data": {
      "image/png": "[encoded data removed]",
      "text/plain": [
       "<Figure size 800x600 with 1 Axes>"
      ]
     },
     "metadata": {},
     "output_type": "display_data"
    }
   ],
   "source": [
    "import matplotlib.pyplot as plt\n",
    "\n",
    "# GPT\n",
    "def sweep_node(radius=1.0, num_steps=20, z_height=0.0):\n",
    "    \"\"\"\n",
    "    Sweep the third node around a half-circle in the XY plane.\n",
    "\n",
    "    Args:\n",
    "        radius (float): Distance from the center of the circle.\n",
    "        num_steps (int): Number of steps to sample along the half-circle.\n",
    "        z_height (float): Z-coordinate for the third node (for 3D positioning).\n",
    "\n",
    "    Returns:\n",
    "        List of node positions: [[(x0, y0, z0), (x1, y1, z1), (x2, y2, z2)], ...]\n",
    "    \"\"\"\n",
    "    nodes_list = []\n",
    "\n",
    "    # Fixed nodes\n",
    "    node0 = np.array([0.0, 0.0, 0.0])\n",
    "    node1 = np.array([1.0, 0.0, 0.0])\n",
    "\n",
    "    # Center of the half-circle: midway between node0 and node1\n",
    "    center = np.array([0.5, 0.0])\n",
    "\n",
    "    # Sweep angles from 0 to pi (half circle)\n",
    "    angles = np.linspace(0, np.pi, num_steps)\n",
    "\n",
    "    for theta in angles:\n",
    "        x = center[0] + radius * np.cos(theta)\n",
    "        y = center[1] + radius * np.sin(theta)\n",
    "        z = z_height  # You can vary this if you want 3D motion!\n",
    "\n",
    "        node2 = np.array([x, y, z])\n",
    "\n",
    "        # Append the triangle nodes\n",
    "        nodes_list.append([node0, node1, node2])\n",
    "\n",
    "    return nodes_list\n",
    "\n",
    "def plot_sweep(nodes_list):\n",
    "    plt.figure(figsize=(8, 6))\n",
    "    for nodes in nodes_list:\n",
    "        node0, node1, node2 = nodes\n",
    "        x = [node0[0], node1[0], node2[0], node0[0]]\n",
    "        y = [node0[1], node1[1], node2[1], node0[1]]\n",
    "        plt.plot(x, y, 'o-', alpha=0.3)\n",
    "\n",
    "    plt.plot([0.0, 1.0], [0.0, 0.0], 'ro')  # fixed nodes\n",
    "    plt.title('Sweep of Node 2 along Half Circle')\n",
    "    plt.xlabel('X')\n",
    "    plt.ylabel('Y')\n",
    "    plt.axis('equal')\n",
    "    plt.grid(True)\n",
    "    plt.show()\n",
    "\n",
    "# Example usage:\n",
    "nodes_list = sweep_node(radius=1.0, num_steps=20, z_height=0.0)\n",
    "plot_sweep(nodes_list)"
   ]
  },
  {
   "cell_type": "code",
   "execution_count": 8,
   "metadata": {},
   "outputs": [],
   "source": [
    "# Create a robot with all fixed nodes (w/o gravity)\n",
    "coplaner_geo = dismech.Geometry.from_txt('three_corner_coplaner.txt')   # can be coplaner for energy\n",
    "base_robot = dismech.SoftRobot(geom, material, coplaner_geo, static_3d_sim, dismech.Environment())\n",
    "base_robot = base_robot.fix_nodes([0,1,2,3])\n",
    "stretch_energy = dismech.StretchEnergy(base_robot.stretch_springs, base_robot.state)\n",
    "\n",
    "robots = []\n",
    "se = []\n",
    "\n",
    "# For each position, displace the node and evaluate the hinge and stretching energy\n",
    "for _, _, pos in nodes_list:\n",
    "    disp_robot = base_robot.move_nodes([2], pos - np.array([0.5, 0.5, 0]))\n",
    "    robots.append(disp_robot)\n",
    "    se.append(stretch_energy.get_energy_linear_elastic(disp_robot.state))\n",
    "\n",
    "qs = np.stack([robot.state.q for robot in robots])"
   ]
  },
  {
   "cell_type": "markdown",
   "metadata": {},
   "source": [
    "### Visualization"
   ]
  },
  {
   "cell_type": "code",
   "execution_count": 9,
   "metadata": {},
   "outputs": [
    {
     "data": {
      "image/png": "[encoded data removed]",
      "text/plain": [
       "<Figure size 640x480 with 1 Axes>"
      ]
     },
     "metadata": {},
     "output_type": "display_data"
    }
   ],
   "source": [
    "plt.plot(np.linspace(0, np.pi, 20), se, label='Stretch Energy')\n",
    "plt.title('Energy vs Displacement')\n",
    "plt.ylabel('Energy (J)')\n",
    "plt.xlabel('Angle (radians)')\n",
    "plt.legend()\n",
    "plt.show()"
   ]
  },
  {
   "cell_type": "code",
   "execution_count": 10,
   "metadata": {},
   "outputs": [
    {
     "data": {
      "application/vnd.plotly.v1+json": {
       "config": {
        "plotlyServerURL": "https://plot.ly"
       },
       "data": [
        {
         "marker": {
          "color": "#1f78b4",
          "size": 5
         },
         "mode": "markers",
         "name": "Free Nodes",
         "type": "scatter3d",
         "x": [],
         "y": [],
         "z": []
        },
        {
         "marker": {
          "color": "#e31a1c",
          "size": 5
         },
         "mode": "markers",
         "name": "Fixed Nodes",
         "type": "scatter3d",
         "x": {
          "bdata": "AAAAAAAAAAAAAAAAAADwPwAAAAAAAPg/",
          "dtype": "f8"
         },
         "y": {
          "bdata": "AAAAAAAAAAAAAAAAAAAAAAAAAAAAAAAA",
          "dtype": "f8"
         },
         "z": {
          "bdata": "AAAAAAAAAAAAAAAAAAAAAAAAAAAAAAAA",
          "dtype": "f8"
         }
        },
        {
         "line": {
          "color": "#333333",
          "width": 2
         },
         "mode": "lines",
         "name": "Edges",
         "type": "scatter3d",
         "x": [
          1,
          1.5,
          null,
          1.5,
          0,
          null,
          0,
          1,
          null
         ],
         "y": [
          0,
          0,
          null,
          0,
          0,
          null,
          0,
          0,
          null
         ],
         "z": [
          0,
          0,
          null,
          0,
          0,
          null,
          0,
          0,
          null
         ]
        },
        {
         "color": "rgba(166, 206, 227, 0.7)",
         "i": [
          0
         ],
         "j": [
          1
         ],
         "k": [
          2
         ],
         "name": "Faces",
         "opacity": 0.7,
         "showscale": false,
         "type": "mesh3d",
         "x": {
          "bdata": "AAAAAAAAAAAAAAAAAADwPwAAAAAAAPg/",
          "dtype": "f8"
         },
         "y": {
          "bdata": "AAAAAAAAAAAAAAAAAAAAAAAAAAAAAAAA",
          "dtype": "f8"
         },
         "z": {
          "bdata": "AAAAAAAAAAAAAAAAAAAAAAAAAAAAAAAA",
          "dtype": "f8"
         }
        }
       ],
       "frames": [
        {
         "data": [
          {
           "name": "Free Nodes",
           "type": "scatter3d",
           "x": [],
           "y": [],
           "z": []
          },
          {
           "name": "Fixed Nodes",
           "type": "scatter3d",
           "x": {
            "bdata": "AAAAAAAAAAAAAAAAAADwPwAAAAAAAPg/",
            "dtype": "f8"
           },
           "y": {
            "bdata": "AAAAAAAAAAAAAAAAAAAAAAAAAAAAAAAA",
            "dtype": "f8"
           },
           "z": {
            "bdata": "AAAAAAAAAAAAAAAAAAAAAAAAAAAAAAAA",
            "dtype": "f8"
           }
          },
          {
           "name": "Edges",
           "type": "scatter3d",
           "x": [
            1,
            1.5,
            null,
            1.5,
            0,
            null,
            0,
            1,
            null
           ],
           "y": [
            0,
            0,
            null,
            0,
            0,
            null,
            0,
            0,
            null
           ],
           "z": [
            0,
            0,
            null,
            0,
            0,
            null,
            0,
            0,
            null
           ]
          },
          {
           "i": [
            0
           ],
           "j": [
            1
           ],
           "k": [
            2
           ],
           "name": "Faces",
           "type": "mesh3d",
           "x": {
            "bdata": "AAAAAAAAAAAAAAAAAADwPwAAAAAAAPg/",
            "dtype": "f8"
           },
           "y": {
            "bdata": "AAAAAAAAAAAAAAAAAAAAAAAAAAAAAAAA",
            "dtype": "f8"
           },
           "z": {
            "bdata": "AAAAAAAAAAAAAAAAAAAAAAAAAAAAAAAA",
            "dtype": "f8"
           }
          }
         ],
         "layout": {
          "annotations": [
           {
            "showarrow": false,
            "text": "Time: 0.00s (Step: 1/20)",
            "x": 0.05,
            "xref": "paper",
            "y": 0.95,
            "yref": "paper"
           }
          ],
          "scene": {
           "camera": {
            "eye": {
             "x": 2.0525584461527577,
             "y": 2.0525584461527577,
             "z": 1.6759069534380524
            }
           }
          }
         },
         "name": "0"
        },
        {
         "data": [
          {
           "name": "Free Nodes",
           "type": "scatter3d",
           "x": [],
           "y": [],
           "z": []
          },
          {
           "name": "Fixed Nodes",
           "type": "scatter3d",
           "x": {
            "bdata": "AAAAAAAAAAAAAAAAAADwP1l5QsoiyPc/",
            "dtype": "f8"
           },
           "y": {
            "bdata": "AAAAAAAAAAAAAAAAAAAAAMRYLX9vEcU/",
            "dtype": "f8"
           },
           "z": {
            "bdata": "AAAAAAAAAAAAAAAAAAAAAAAAAAAAAAAA",
            "dtype": "f8"
           }
          },
          {
           "name": "Edges",
           "type": "scatter3d",
           "x": [
            1,
            1.4863613034027223,
            null,
            1.4863613034027223,
            0,
            null,
            0,
            1,
            null
           ],
           "y": [
            0,
            0.16459459028073387,
            null,
            0.16459459028073387,
            0,
            null,
            0,
            0,
            null
           ],
           "z": [
            0,
            0,
            null,
            0,
            0,
            null,
            0,
            0,
            null
           ]
          },
          {
           "i": [
            0
           ],
           "j": [
            1
           ],
           "k": [
            2
           ],
           "name": "Faces",
           "type": "mesh3d",
           "x": {
            "bdata": "AAAAAAAAAAAAAAAAAADwP1l5QsoiyPc/",
            "dtype": "f8"
           },
           "y": {
            "bdata": "AAAAAAAAAAAAAAAAAAAAAMRYLX9vEcU/",
            "dtype": "f8"
           },
           "z": {
            "bdata": "AAAAAAAAAAAAAAAAAAAAAAAAAAAAAAAA",
            "dtype": "f8"
           }
          }
         ],
         "layout": {
          "annotations": [
           {
            "showarrow": false,
            "text": "Time: 1.00s (Step: 2/20)",
            "x": 0.05,
            "xref": "paper",
            "y": 0.95,
            "yref": "paper"
           }
          ],
          "scene": {
           "camera": {
            "eye": {
             "x": 2.0525584461527577,
             "y": 2.0525584461527577,
             "z": 1.6759069534380524
            }
           }
          }
         },
         "name": "1"
        },
        {
         "data": [
          {
           "name": "Free Nodes",
           "type": "scatter3d",
           "x": [],
           "y": [],
           "z": []
          },
          {
           "name": "Fixed Nodes",
           "type": "scatter3d",
           "x": {
            "bdata": "AAAAAAAAAAAAAAAAAADwP/CNkUIRIvc/",
            "dtype": "f8"
           },
           "y": {
            "bdata": "AAAAAAAAAAAAAAAAAAAAAKnPUEjgx9Q/",
            "dtype": "f8"
           },
           "z": {
            "bdata": "AAAAAAAAAAAAAAAAAAAAAAAAAAAAAAAA",
            "dtype": "f8"
           }
          },
          {
           "name": "Edges",
           "type": "scatter3d",
           "x": [
            1,
            1.4458172417006345,
            null,
            1.4458172417006345,
            0,
            null,
            0,
            1,
            null
           ],
           "y": [
            0,
            0.32469946920468346,
            null,
            0.32469946920468346,
            0,
            null,
            0,
            0,
            null
           ],
           "z": [
            0,
            0,
            null,
            0,
            0,
            null,
            0,
            0,
            null
           ]
          },
          {
           "i": [
            0
           ],
           "j": [
            1
           ],
           "k": [
            2
           ],
           "name": "Faces",
           "type": "mesh3d",
           "x": {
            "bdata": "AAAAAAAAAAAAAAAAAADwP/CNkUIRIvc/",
            "dtype": "f8"
           },
           "y": {
            "bdata": "AAAAAAAAAAAAAAAAAAAAAKnPUEjgx9Q/",
            "dtype": "f8"
           },
           "z": {
            "bdata": "AAAAAAAAAAAAAAAAAAAAAAAAAAAAAAAA",
            "dtype": "f8"
           }
          }
         ],
         "layout": {
          "annotations": [
           {
            "showarrow": false,
            "text": "Time: 2.00s (Step: 3/20)",
            "x": 0.05,
            "xref": "paper",
            "y": 0.95,
            "yref": "paper"
           }
          ],
          "scene": {
           "camera": {
            "eye": {
             "x": 2.0525584461527577,
             "y": 2.0525584461527577,
             "z": 1.6759069534380524
            }
           }
          }
         },
         "name": "2"
        },
        {
         "data": [
          {
           "name": "Free Nodes",
           "type": "scatter3d",
           "x": [],
           "y": [],
           "z": []
          },
          {
           "name": "Fixed Nodes",
           "type": "scatter3d",
           "x": {
            "bdata": "AAAAAAAAAAAAAAAAAADwP/z0cRFTEvY/",
            "dtype": "f8"
           },
           "y": {
            "bdata": "AAAAAAAAAAAAAAAAAAAAAO177Q3sdd4/",
            "dtype": "f8"
           },
           "z": {
            "bdata": "AAAAAAAAAAAAAAAAAAAAAAAAAAAAAAAA",
            "dtype": "f8"
           }
          },
          {
           "name": "Edges",
           "type": "scatter3d",
           "x": [
            1,
            1.379473751206489,
            null,
            1.379473751206489,
            0,
            null,
            0,
            1,
            null
           ],
           "y": [
            0,
            0.4759473930370735,
            null,
            0.4759473930370735,
            0,
            null,
            0,
            0,
            null
           ],
           "z": [
            0,
            0,
            null,
            0,
            0,
            null,
            0,
            0,
            null
           ]
          },
          {
           "i": [
            0
           ],
           "j": [
            1
           ],
           "k": [
            2
           ],
           "name": "Faces",
           "type": "mesh3d",
           "x": {
            "bdata": "AAAAAAAAAAAAAAAAAADwP/z0cRFTEvY/",
            "dtype": "f8"
           },
           "y": {
            "bdata": "AAAAAAAAAAAAAAAAAAAAAO177Q3sdd4/",
            "dtype": "f8"
           },
           "z": {
            "bdata": "AAAAAAAAAAAAAAAAAAAAAAAAAAAAAAAA",
            "dtype": "f8"
           }
          }
         ],
         "layout": {
          "annotations": [
           {
            "showarrow": false,
            "text": "Time: 3.00s (Step: 4/20)",
            "x": 0.05,
            "xref": "paper",
            "y": 0.95,
            "yref": "paper"
           }
          ],
          "scene": {
           "camera": {
            "eye": {
             "x": 2.0525584461527577,
             "y": 2.0525584461527577,
             "z": 1.6759069534380524
            }
           }
          }
         },
         "name": "3"
        },
        {
         "data": [
          {
           "name": "Free Nodes",
           "type": "scatter3d",
           "x": [],
           "y": [],
           "z": []
          },
          {
           "name": "Fixed Nodes",
           "type": "scatter3d",
           "x": {
            "bdata": "AAAAAAAAAAAAAAAAAADwP5LmfMxRoPQ/",
            "dtype": "f8"
           },
           "y": {
            "bdata": "AAAAAAAAAAAAAAAAAAAAACNEOWuhp+M/",
            "dtype": "f8"
           },
           "z": {
            "bdata": "AAAAAAAAAAAAAAAAAAAAAAAAAAAAAAAA",
            "dtype": "f8"
           }
          },
          {
           "name": "Edges",
           "type": "scatter3d",
           "x": [
            1,
            1.2891405093963937,
            null,
            1.2891405093963937,
            0,
            null,
            0,
            1,
            null
           ],
           "y": [
            0,
            0.6142127126896678,
            null,
            0.6142127126896678,
            0,
            null,
            0,
            0,
            null
           ],
           "z": [
            0,
            0,
            null,
            0,
            0,
            null,
            0,
            0,
            null
           ]
          },
          {
           "i": [
            0
           ],
           "j": [
            1
           ],
           "k": [
            2
           ],
           "name": "Faces",
           "type": "mesh3d",
           "x": {
            "bdata": "AAAAAAAAAAAAAAAAAADwP5LmfMxRoPQ/",
            "dtype": "f8"
           },
           "y": {
            "bdata": "AAAAAAAAAAAAAAAAAAAAACNEOWuhp+M/",
            "dtype": "f8"
           },
           "z": {
            "bdata": "AAAAAAAAAAAAAAAAAAAAAAAAAAAAAAAA",
            "dtype": "f8"
           }
          }
         ],
         "layout": {
          "annotations": [
           {
            "showarrow": false,
            "text": "Time: 4.00s (Step: 5/20)",
            "x": 0.05,
            "xref": "paper",
            "y": 0.95,
            "yref": "paper"
           }
          ],
          "scene": {
           "camera": {
            "eye": {
             "x": 2.0525584461527577,
             "y": 2.0525584461527577,
             "z": 1.6759069534380524
            }
           }
          }
         },
         "name": "4"
        },
        {
         "data": [
          {
           "name": "Free Nodes",
           "type": "scatter3d",
           "x": [],
           "y": [],
           "z": []
          },
          {
           "name": "Fixed Nodes",
           "type": "scatter3d",
           "x": {
            "bdata": "AAAAAAAAAAAAAAAAAADwP4AOhTMl1vI/",
            "dtype": "f8"
           },
           "y": {
            "bdata": "AAAAAAAAAAAAAAAAAAAAAA8+594Mi+c/",
            "dtype": "f8"
           },
           "z": {
            "bdata": "AAAAAAAAAAAAAAAAAAAAAAAAAAAAAAAA",
            "dtype": "f8"
           }
          },
          {
           "name": "Edges",
           "type": "scatter3d",
           "x": [
            1,
            1.1772815716257412,
            null,
            1.1772815716257412,
            0,
            null,
            0,
            1,
            null
           ],
           "y": [
            0,
            0.7357239106731316,
            null,
            0.7357239106731316,
            0,
            null,
            0,
            0,
            null
           ],
           "z": [
            0,
            0,
            null,
            0,
            0,
            null,
            0,
            0,
            null
           ]
          },
          {
           "i": [
            0
           ],
           "j": [
            1
           ],
           "k": [
            2
           ],
           "name": "Faces",
           "type": "mesh3d",
           "x": {
            "bdata": "AAAAAAAAAAAAAAAAAADwP4AOhTMl1vI/",
            "dtype": "f8"
           },
           "y": {
            "bdata": "AAAAAAAAAAAAAAAAAAAAAA8+594Mi+c/",
            "dtype": "f8"
           },
           "z": {
            "bdata": "AAAAAAAAAAAAAAAAAAAAAAAAAAAAAAAA",
            "dtype": "f8"
           }
          }
         ],
         "layout": {
          "annotations": [
           {
            "showarrow": false,
            "text": "Time: 5.00s (Step: 6/20)",
            "x": 0.05,
            "xref": "paper",
            "y": 0.95,
            "yref": "paper"
           }
          ],
          "scene": {
           "camera": {
            "eye": {
             "x": 2.0525584461527577,
             "y": 2.0525584461527577,
             "z": 1.6759069534380524
            }
           }
          }
         },
         "name": "5"
        },
        {
         "data": [
          {
           "name": "Free Nodes",
           "type": "scatter3d",
           "x": [],
           "y": [],
           "z": []
          },
          {
           "name": "Fixed Nodes",
           "type": "scatter3d",
           "x": {
            "bdata": "AAAAAAAAAAAAAAAAAADwP2XkO7ZMwPA/",
            "dtype": "f8"
           },
           "y": {
            "bdata": "AAAAAAAAAAAAAAAAAAAAAOQ9rloRyuo/",
            "dtype": "f8"
           },
           "z": {
            "bdata": "AAAAAAAAAAAAAAAAAAAAAAAAAAAAAAAA",
            "dtype": "f8"
           }
          },
          {
           "name": "Edges",
           "type": "scatter3d",
           "x": [
            1,
            1.046948158122427,
            null,
            1.046948158122427,
            0,
            null,
            0,
            1,
            null
           ],
           "y": [
            0,
            0.8371664782625285,
            null,
            0.8371664782625285,
            0,
            null,
            0,
            0,
            null
           ],
           "z": [
            0,
            0,
            null,
            0,
            0,
            null,
            0,
            0,
            null
           ]
          },
          {
           "i": [
            0
           ],
           "j": [
            1
           ],
           "k": [
            2
           ],
           "name": "Faces",
           "type": "mesh3d",
           "x": {
            "bdata": "AAAAAAAAAAAAAAAAAADwP2XkO7ZMwPA/",
            "dtype": "f8"
           },
           "y": {
            "bdata": "AAAAAAAAAAAAAAAAAAAAAOQ9rloRyuo/",
            "dtype": "f8"
           },
           "z": {
            "bdata": "AAAAAAAAAAAAAAAAAAAAAAAAAAAAAAAA",
            "dtype": "f8"
           }
          }
         ],
         "layout": {
          "annotations": [
           {
            "showarrow": false,
            "text": "Time: 6.00s (Step: 7/20)",
            "x": 0.05,
            "xref": "paper",
            "y": 0.95,
            "yref": "paper"
           }
          ],
          "scene": {
           "camera": {
            "eye": {
             "x": 2.0525584461527577,
             "y": 2.0525584461527577,
             "z": 1.6759069534380524
            }
           }
          }
         },
         "name": "6"
        },
        {
         "data": [
          {
           "name": "Free Nodes",
           "type": "scatter3d",
           "x": [],
           "y": [],
           "z": []
          },
          {
           "name": "Fixed Nodes",
           "type": "scatter3d",
           "x": {
            "bdata": "AAAAAAAAAAAAAAAAAADwP3bL+lyw2uw/",
            "dtype": "f8"
           },
           "y": {
            "bdata": "AAAAAAAAAAAAAAAAAAAAAAgLEd0DTu0/",
            "dtype": "f8"
           },
           "z": {
            "bdata": "AAAAAAAAAAAAAAAAAAAAAAAAAAAAAAAA",
            "dtype": "f8"
           }
          },
          {
           "name": "Edges",
           "type": "scatter3d",
           "x": [
            1,
            0.9016954246529696,
            null,
            0.9016954246529696,
            0,
            null,
            0,
            1,
            null
           ],
           "y": [
            0,
            0.9157733266550574,
            null,
            0.9157733266550574,
            0,
            null,
            0,
            0,
            null
           ],
           "z": [
            0,
            0,
            null,
            0,
            0,
            null,
            0,
            0,
            null
           ]
          },
          {
           "i": [
            0
           ],
           "j": [
            1
           ],
           "k": [
            2
           ],
           "name": "Faces",
           "type": "mesh3d",
           "x": {
            "bdata": "AAAAAAAAAAAAAAAAAADwP3bL+lyw2uw/",
            "dtype": "f8"
           },
           "y": {
            "bdata": "AAAAAAAAAAAAAAAAAAAAAAgLEd0DTu0/",
            "dtype": "f8"
           },
           "z": {
            "bdata": "AAAAAAAAAAAAAAAAAAAAAAAAAAAAAAAA",
            "dtype": "f8"
           }
          }
         ],
         "layout": {
          "annotations": [
           {
            "showarrow": false,
            "text": "Time: 7.00s (Step: 8/20)",
            "x": 0.05,
            "xref": "paper",
            "y": 0.95,
            "yref": "paper"
           }
          ],
          "scene": {
           "camera": {
            "eye": {
             "x": 2.0525584461527577,
             "y": 2.0525584461527577,
             "z": 1.6759069534380524
            }
           }
          }
         },
         "name": "7"
        },
        {
         "data": [
          {
           "name": "Free Nodes",
           "type": "scatter3d",
           "x": [],
           "y": [],
           "z": []
          },
          {
           "name": "Fixed Nodes",
           "type": "scatter3d",
           "x": {
            "bdata": "AAAAAAAAAAAAAAAAAADwPxAyXWEE2+c/",
            "dtype": "f8"
           },
           "y": {
            "bdata": "AAAAAAAAAAAAAAAAAAAAABgu3rRTBe8/",
            "dtype": "f8"
           },
           "z": {
            "bdata": "AAAAAAAAAAAAAAAAAAAAAAAAAAAAAAAA",
            "dtype": "f8"
           }
          },
          {
           "name": "Edges",
           "type": "scatter3d",
           "x": [
            1,
            0.7454854871407992,
            null,
            0.7454854871407992,
            0,
            null,
            0,
            1,
            null
           ],
           "y": [
            0,
            0.9694002659393304,
            null,
            0.9694002659393304,
            0,
            null,
            0,
            0,
            null
           ],
           "z": [
            0,
            0,
            null,
            0,
            0,
            null,
            0,
            0,
            null
           ]
          },
          {
           "i": [
            0
           ],
           "j": [
            1
           ],
           "k": [
            2
           ],
           "name": "Faces",
           "type": "mesh3d",
           "x": {
            "bdata": "AAAAAAAAAAAAAAAAAADwPxAyXWEE2+c/",
            "dtype": "f8"
           },
           "y": {
            "bdata": "AAAAAAAAAAAAAAAAAAAAABgu3rRTBe8/",
            "dtype": "f8"
           },
           "z": {
            "bdata": "AAAAAAAAAAAAAAAAAAAAAAAAAAAAAAAA",
            "dtype": "f8"
           }
          }
         ],
         "layout": {
          "annotations": [
           {
            "showarrow": false,
            "text": "Time: 8.00s (Step: 9/20)",
            "x": 0.05,
            "xref": "paper",
            "y": 0.95,
            "yref": "paper"
           }
          ],
          "scene": {
           "camera": {
            "eye": {
             "x": 2.0525584461527577,
             "y": 2.0525584461527577,
             "z": 1.6759069534380524
            }
           }
          }
         },
         "name": "8"
        },
        {
         "data": [
          {
           "name": "Free Nodes",
           "type": "scatter3d",
           "x": [],
           "y": [],
           "z": []
          },
          {
           "name": "Fixed Nodes",
           "type": "scatter3d",
           "x": {
            "bdata": "AAAAAAAAAAAAAAAAAADwP78ehHB9pOI/",
            "dtype": "f8"
           },
           "y": {
            "bdata": "AAAAAAAAAAAAAAAAAAAAAKpCpSkF5O8/",
            "dtype": "f8"
           },
           "z": {
            "bdata": "AAAAAAAAAAAAAAAAAAAAAAAAAAAAAAAA",
            "dtype": "f8"
           }
          },
          {
           "name": "Edges",
           "type": "scatter3d",
           "x": [
            1,
            0.5825793454723324,
            null,
            0.5825793454723324,
            0,
            null,
            0,
            1,
            null
           ],
           "y": [
            0,
            0.9965844930066698,
            null,
            0.9965844930066698,
            0,
            null,
            0,
            0,
            null
           ],
           "z": [
            0,
            0,
            null,
            0,
            0,
            null,
            0,
            0,
            null
           ]
          },
          {
           "i": [
            0
           ],
           "j": [
            1
           ],
           "k": [
            2
           ],
           "name": "Faces",
           "type": "mesh3d",
           "x": {
            "bdata": "AAAAAAAAAAAAAAAAAADwP78ehHB9pOI/",
            "dtype": "f8"
           },
           "y": {
            "bdata": "AAAAAAAAAAAAAAAAAAAAAKpCpSkF5O8/",
            "dtype": "f8"
           },
           "z": {
            "bdata": "AAAAAAAAAAAAAAAAAAAAAAAAAAAAAAAA",
            "dtype": "f8"
           }
          }
         ],
         "layout": {
          "annotations": [
           {
            "showarrow": false,
            "text": "Time: 9.00s (Step: 10/20)",
            "x": 0.05,
            "xref": "paper",
            "y": 0.95,
            "yref": "paper"
           }
          ],
          "scene": {
           "camera": {
            "eye": {
             "x": 2.0525584461527577,
             "y": 2.0525584461527577,
             "z": 1.6759069534380524
            }
           }
          }
         },
         "name": "9"
        },
        {
         "data": [
          {
           "name": "Free Nodes",
           "type": "scatter3d",
           "x": [],
           "y": [],
           "z": []
          },
          {
           "name": "Fixed Nodes",
           "type": "scatter3d",
           "x": {
            "bdata": "AAAAAAAAAAAAAAAAAADwP4TC9x4Ft9o/",
            "dtype": "f8"
           },
           "y": {
            "bdata": "AAAAAAAAAAAAAAAAAAAAAKpCpSkF5O8/",
            "dtype": "f8"
           },
           "z": {
            "bdata": "AAAAAAAAAAAAAAAAAAAAAAAAAAAAAAAA",
            "dtype": "f8"
           }
          },
          {
           "name": "Edges",
           "type": "scatter3d",
           "x": [
            1,
            0.41742065452766774,
            null,
            0.41742065452766774,
            0,
            null,
            0,
            1,
            null
           ],
           "y": [
            0,
            0.9965844930066698,
            null,
            0.9965844930066698,
            0,
            null,
            0,
            0,
            null
           ],
           "z": [
            0,
            0,
            null,
            0,
            0,
            null,
            0,
            0,
            null
           ]
          },
          {
           "i": [
            0
           ],
           "j": [
            1
           ],
           "k": [
            2
           ],
           "name": "Faces",
           "type": "mesh3d",
           "x": {
            "bdata": "AAAAAAAAAAAAAAAAAADwP4TC9x4Ft9o/",
            "dtype": "f8"
           },
           "y": {
            "bdata": "AAAAAAAAAAAAAAAAAAAAAKpCpSkF5O8/",
            "dtype": "f8"
           },
           "z": {
            "bdata": "AAAAAAAAAAAAAAAAAAAAAAAAAAAAAAAA",
            "dtype": "f8"
           }
          }
         ],
         "layout": {
          "annotations": [
           {
            "showarrow": false,
            "text": "Time: 10.00s (Step: 11/20)",
            "x": 0.05,
            "xref": "paper",
            "y": 0.95,
            "yref": "paper"
           }
          ],
          "scene": {
           "camera": {
            "eye": {
             "x": 2.0525584461527577,
             "y": 2.0525584461527577,
             "z": 1.6759069534380524
            }
           }
          }
         },
         "name": "10"
        },
        {
         "data": [
          {
           "name": "Free Nodes",
           "type": "scatter3d",
           "x": [],
           "y": [],
           "z": []
          },
          {
           "name": "Fixed Nodes",
           "type": "scatter3d",
           "x": {
            "bdata": "AAAAAAAAAAAAAAAAAADwP+KbRT33SdA/",
            "dtype": "f8"
           },
           "y": {
            "bdata": "AAAAAAAAAAAAAAAAAAAAABgu3rRTBe8/",
            "dtype": "f8"
           },
           "z": {
            "bdata": "AAAAAAAAAAAAAAAAAAAAAAAAAAAAAAAA",
            "dtype": "f8"
           }
          },
          {
           "name": "Edges",
           "type": "scatter3d",
           "x": [
            1,
            0.2545145128592009,
            null,
            0.2545145128592009,
            0,
            null,
            0,
            1,
            null
           ],
           "y": [
            0,
            0.9694002659393304,
            null,
            0.9694002659393304,
            0,
            null,
            0,
            0,
            null
           ],
           "z": [
            0,
            0,
            null,
            0,
            0,
            null,
            0,
            0,
            null
           ]
          },
          {
           "i": [
            0
           ],
           "j": [
            1
           ],
           "k": [
            2
           ],
           "name": "Faces",
           "type": "mesh3d",
           "x": {
            "bdata": "AAAAAAAAAAAAAAAAAADwP+KbRT33SdA/",
            "dtype": "f8"
           },
           "y": {
            "bdata": "AAAAAAAAAAAAAAAAAAAAABgu3rRTBe8/",
            "dtype": "f8"
           },
           "z": {
            "bdata": "AAAAAAAAAAAAAAAAAAAAAAAAAAAAAAAA",
            "dtype": "f8"
           }
          }
         ],
         "layout": {
          "annotations": [
           {
            "showarrow": false,
            "text": "Time: 11.00s (Step: 12/20)",
            "x": 0.05,
            "xref": "paper",
            "y": 0.95,
            "yref": "paper"
           }
          ],
          "scene": {
           "camera": {
            "eye": {
             "x": 2.0525584461527577,
             "y": 2.0525584461527577,
             "z": 1.6759069534380524
            }
           }
          }
         },
         "name": "11"
        },
        {
         "data": [
          {
           "name": "Free Nodes",
           "type": "scatter3d",
           "x": [],
           "y": [],
           "z": []
          },
          {
           "name": "Fixed Nodes",
           "type": "scatter3d",
           "x": {
            "bdata": "AAAAAAAAAAAAAAAAAADwP2ikKRh9Krk/",
            "dtype": "f8"
           },
           "y": {
            "bdata": "AAAAAAAAAAAAAAAAAAAAAAkLEd0DTu0/",
            "dtype": "f8"
           },
           "z": {
            "bdata": "AAAAAAAAAAAAAAAAAAAAAAAAAAAAAAAA",
            "dtype": "f8"
           }
          },
          {
           "name": "Edges",
           "type": "scatter3d",
           "x": [
            1,
            0.09830457534703074,
            null,
            0.09830457534703074,
            0,
            null,
            0,
            1,
            null
           ],
           "y": [
            0,
            0.9157733266550575,
            null,
            0.9157733266550575,
            0,
            null,
            0,
            0,
            null
           ],
           "z": [
            0,
            0,
            null,
            0,
            0,
            null,
            0,
            0,
            null
           ]
          },
          {
           "i": [
            0
           ],
           "j": [
            1
           ],
           "k": [
            2
           ],
           "name": "Faces",
           "type": "mesh3d",
           "x": {
            "bdata": "AAAAAAAAAAAAAAAAAADwP2ikKRh9Krk/",
            "dtype": "f8"
           },
           "y": {
            "bdata": "AAAAAAAAAAAAAAAAAAAAAAkLEd0DTu0/",
            "dtype": "f8"
           },
           "z": {
            "bdata": "AAAAAAAAAAAAAAAAAAAAAAAAAAAAAAAA",
            "dtype": "f8"
           }
          }
         ],
         "layout": {
          "annotations": [
           {
            "showarrow": false,
            "text": "Time: 12.00s (Step: 13/20)",
            "x": 0.05,
            "xref": "paper",
            "y": 0.95,
            "yref": "paper"
           }
          ],
          "scene": {
           "camera": {
            "eye": {
             "x": 2.0525584461527577,
             "y": 2.0525584461527577,
             "z": 1.6759069534380524
            }
           }
          }
         },
         "name": "12"
        },
        {
         "data": [
          {
           "name": "Free Nodes",
           "type": "scatter3d",
           "x": [],
           "y": [],
           "z": []
          },
          {
           "name": "Fixed Nodes",
           "type": "scatter3d",
           "x": {
            "bdata": "AAAAAAAAAAAAAAAAAADwP4CMfMeWCai/",
            "dtype": "f8"
           },
           "y": {
            "bdata": "AAAAAAAAAAAAAAAAAAAAAOU9rloRyuo/",
            "dtype": "f8"
           },
           "z": {
            "bdata": "AAAAAAAAAAAAAAAAAAAAAAAAAAAAAAAA",
            "dtype": "f8"
           }
          },
          {
           "name": "Edges",
           "type": "scatter3d",
           "x": [
            1,
            -0.0469481581224267,
            null,
            -0.0469481581224267,
            0,
            null,
            0,
            1,
            null
           ],
           "y": [
            0,
            0.8371664782625287,
            null,
            0.8371664782625287,
            0,
            null,
            0,
            0,
            null
           ],
           "z": [
            0,
            0,
            null,
            0,
            0,
            null,
            0,
            0,
            null
           ]
          },
          {
           "i": [
            0
           ],
           "j": [
            1
           ],
           "k": [
            2
           ],
           "name": "Faces",
           "type": "mesh3d",
           "x": {
            "bdata": "AAAAAAAAAAAAAAAAAADwP4CMfMeWCai/",
            "dtype": "f8"
           },
           "y": {
            "bdata": "AAAAAAAAAAAAAAAAAAAAAOU9rloRyuo/",
            "dtype": "f8"
           },
           "z": {
            "bdata": "AAAAAAAAAAAAAAAAAAAAAAAAAAAAAAAA",
            "dtype": "f8"
           }
          }
         ],
         "layout": {
          "annotations": [
           {
            "showarrow": false,
            "text": "Time: 13.00s (Step: 14/20)",
            "x": 0.05,
            "xref": "paper",
            "y": 0.95,
            "yref": "paper"
           }
          ],
          "scene": {
           "camera": {
            "eye": {
             "x": 2.0525584461527577,
             "y": 2.0525584461527577,
             "z": 1.6759069534380524
            }
           }
          }
         },
         "name": "13"
        },
        {
         "data": [
          {
           "name": "Free Nodes",
           "type": "scatter3d",
           "x": [],
           "y": [],
           "z": []
          },
          {
           "name": "Fixed Nodes",
           "type": "scatter3d",
           "x": {
            "bdata": "AAAAAAAAAAAAAAAAAADwP/RzKJwpsca/",
            "dtype": "f8"
           },
           "y": {
            "bdata": "AAAAAAAAAAAAAAAAAAAAABA+594Mi+c/",
            "dtype": "f8"
           },
           "z": {
            "bdata": "AAAAAAAAAAAAAAAAAAAAAAAAAAAAAAAA",
            "dtype": "f8"
           }
          },
          {
           "name": "Edges",
           "type": "scatter3d",
           "x": [
            1,
            -0.17728157162574087,
            null,
            -0.17728157162574087,
            0,
            null,
            0,
            1,
            null
           ],
           "y": [
            0,
            0.7357239106731317,
            null,
            0.7357239106731317,
            0,
            null,
            0,
            0,
            null
           ],
           "z": [
            0,
            0,
            null,
            0,
            0,
            null,
            0,
            0,
            null
           ]
          },
          {
           "i": [
            0
           ],
           "j": [
            1
           ],
           "k": [
            2
           ],
           "name": "Faces",
           "type": "mesh3d",
           "x": {
            "bdata": "AAAAAAAAAAAAAAAAAADwP/RzKJwpsca/",
            "dtype": "f8"
           },
           "y": {
            "bdata": "AAAAAAAAAAAAAAAAAAAAABA+594Mi+c/",
            "dtype": "f8"
           },
           "z": {
            "bdata": "AAAAAAAAAAAAAAAAAAAAAAAAAAAAAAAA",
            "dtype": "f8"
           }
          }
         ],
         "layout": {
          "annotations": [
           {
            "showarrow": false,
            "text": "Time: 14.00s (Step: 15/20)",
            "x": 0.05,
            "xref": "paper",
            "y": 0.95,
            "yref": "paper"
           }
          ],
          "scene": {
           "camera": {
            "eye": {
             "x": 2.0525584461527577,
             "y": 2.0525584461527577,
             "z": 1.6759069534380524
            }
           }
          }
         },
         "name": "14"
        },
        {
         "data": [
          {
           "name": "Free Nodes",
           "type": "scatter3d",
           "x": [],
           "y": [],
           "z": []
          },
          {
           "name": "Fixed Nodes",
           "type": "scatter3d",
           "x": {
            "bdata": "AAAAAAAAAAAAAAAAAADwP0Sa8zFHgdK/",
            "dtype": "f8"
           },
           "y": {
            "bdata": "AAAAAAAAAAAAAAAAAAAAACREOWuhp+M/",
            "dtype": "f8"
           },
           "z": {
            "bdata": "AAAAAAAAAAAAAAAAAAAAAAAAAAAAAAAA",
            "dtype": "f8"
           }
          },
          {
           "name": "Edges",
           "type": "scatter3d",
           "x": [
            1,
            -0.28914050939639346,
            null,
            -0.28914050939639346,
            0,
            null,
            0,
            1,
            null
           ],
           "y": [
            0,
            0.6142127126896679,
            null,
            0.6142127126896679,
            0,
            null,
            0,
            0,
            null
           ],
           "z": [
            0,
            0,
            null,
            0,
            0,
            null,
            0,
            0,
            null
           ]
          },
          {
           "i": [
            0
           ],
           "j": [
            1
           ],
           "k": [
            2
           ],
           "name": "Faces",
           "type": "mesh3d",
           "x": {
            "bdata": "AAAAAAAAAAAAAAAAAADwP0Sa8zFHgdK/",
            "dtype": "f8"
           },
           "y": {
            "bdata": "AAAAAAAAAAAAAAAAAAAAACREOWuhp+M/",
            "dtype": "f8"
           },
           "z": {
            "bdata": "AAAAAAAAAAAAAAAAAAAAAAAAAAAAAAAA",
            "dtype": "f8"
           }
          }
         ],
         "layout": {
          "annotations": [
           {
            "showarrow": false,
            "text": "Time: 15.00s (Step: 16/20)",
            "x": 0.05,
            "xref": "paper",
            "y": 0.95,
            "yref": "paper"
           }
          ],
          "scene": {
           "camera": {
            "eye": {
             "x": 2.0525584461527577,
             "y": 2.0525584461527577,
             "z": 1.6759069534380524
            }
           }
          }
         },
         "name": "15"
        },
        {
         "data": [
          {
           "name": "Free Nodes",
           "type": "scatter3d",
           "x": [],
           "y": [],
           "z": []
          },
          {
           "name": "Fixed Nodes",
           "type": "scatter3d",
           "x": {
            "bdata": "AAAAAAAAAAAAAAAAAADwP/DTx0VMSdi/",
            "dtype": "f8"
           },
           "y": {
            "bdata": "AAAAAAAAAAAAAAAAAAAAAPB77Q3sdd4/",
            "dtype": "f8"
           },
           "z": {
            "bdata": "AAAAAAAAAAAAAAAAAAAAAAAAAAAAAAAA",
            "dtype": "f8"
           }
          },
          {
           "name": "Edges",
           "type": "scatter3d",
           "x": [
            1,
            -0.37947375120648896,
            null,
            -0.37947375120648896,
            0,
            null,
            0,
            1,
            null
           ],
           "y": [
            0,
            0.4759473930370737,
            null,
            0.4759473930370737,
            0,
            null,
            0,
            0,
            null
           ],
           "z": [
            0,
            0,
            null,
            0,
            0,
            null,
            0,
            0,
            null
           ]
          },
          {
           "i": [
            0
           ],
           "j": [
            1
           ],
           "k": [
            2
           ],
           "name": "Faces",
           "type": "mesh3d",
           "x": {
            "bdata": "AAAAAAAAAAAAAAAAAADwP/DTx0VMSdi/",
            "dtype": "f8"
           },
           "y": {
            "bdata": "AAAAAAAAAAAAAAAAAAAAAPB77Q3sdd4/",
            "dtype": "f8"
           },
           "z": {
            "bdata": "AAAAAAAAAAAAAAAAAAAAAAAAAAAAAAAA",
            "dtype": "f8"
           }
          }
         ],
         "layout": {
          "annotations": [
           {
            "showarrow": false,
            "text": "Time: 16.00s (Step: 17/20)",
            "x": 0.05,
            "xref": "paper",
            "y": 0.95,
            "yref": "paper"
           }
          ],
          "scene": {
           "camera": {
            "eye": {
             "x": 2.0525584461527577,
             "y": 2.0525584461527577,
             "z": 1.6759069534380524
            }
           }
          }
         },
         "name": "16"
        },
        {
         "data": [
          {
           "name": "Free Nodes",
           "type": "scatter3d",
           "x": [],
           "y": [],
           "z": []
          },
          {
           "name": "Fixed Nodes",
           "type": "scatter3d",
           "x": {
            "bdata": "AAAAAAAAAAAAAAAAAADwP8I3RgpFiNy/",
            "dtype": "f8"
           },
           "y": {
            "bdata": "AAAAAAAAAAAAAAAAAAAAAKzPUEjgx9Q/",
            "dtype": "f8"
           },
           "z": {
            "bdata": "AAAAAAAAAAAAAAAAAAAAAAAAAAAAAAAA",
            "dtype": "f8"
           }
          },
          {
           "name": "Edges",
           "type": "scatter3d",
           "x": [
            1,
            -0.44581724170063464,
            null,
            -0.44581724170063464,
            0,
            null,
            0,
            1,
            null
           ],
           "y": [
            0,
            0.3246994692046836,
            null,
            0.3246994692046836,
            0,
            null,
            0,
            0,
            null
           ],
           "z": [
            0,
            0,
            null,
            0,
            0,
            null,
            0,
            0,
            null
           ]
          },
          {
           "i": [
            0
           ],
           "j": [
            1
           ],
           "k": [
            2
           ],
           "name": "Faces",
           "type": "mesh3d",
           "x": {
            "bdata": "AAAAAAAAAAAAAAAAAADwP8I3RgpFiNy/",
            "dtype": "f8"
           },
           "y": {
            "bdata": "AAAAAAAAAAAAAAAAAAAAAKzPUEjgx9Q/",
            "dtype": "f8"
           },
           "z": {
            "bdata": "AAAAAAAAAAAAAAAAAAAAAAAAAAAAAAAA",
            "dtype": "f8"
           }
          }
         ],
         "layout": {
          "annotations": [
           {
            "showarrow": false,
            "text": "Time: 17.00s (Step: 18/20)",
            "x": 0.05,
            "xref": "paper",
            "y": 0.95,
            "yref": "paper"
           }
          ],
          "scene": {
           "camera": {
            "eye": {
             "x": 2.0525584461527577,
             "y": 2.0525584461527577,
             "z": 1.6759069534380524
            }
           }
          }
         },
         "name": "17"
        },
        {
         "data": [
          {
           "name": "Free Nodes",
           "type": "scatter3d",
           "x": [],
           "y": [],
           "z": []
          },
          {
           "name": "Fixed Nodes",
           "type": "scatter3d",
           "x": {
            "bdata": "AAAAAAAAAAAAAAAAAADwP2TlCSmLIN+/",
            "dtype": "f8"
           },
           "y": {
            "bdata": "AAAAAAAAAAAAAAAAAAAAAMpYLX9vEcU/",
            "dtype": "f8"
           },
           "z": {
            "bdata": "AAAAAAAAAAAAAAAAAAAAAAAAAAAAAAAA",
            "dtype": "f8"
           }
          },
          {
           "name": "Edges",
           "type": "scatter3d",
           "x": [
            1,
            -0.4863613034027223,
            null,
            -0.4863613034027223,
            0,
            null,
            0,
            1,
            null
           ],
           "y": [
            0,
            0.16459459028073403,
            null,
            0.16459459028073403,
            0,
            null,
            0,
            0,
            null
           ],
           "z": [
            0,
            0,
            null,
            0,
            0,
            null,
            0,
            0,
            null
           ]
          },
          {
           "i": [
            0
           ],
           "j": [
            1
           ],
           "k": [
            2
           ],
           "name": "Faces",
           "type": "mesh3d",
           "x": {
            "bdata": "AAAAAAAAAAAAAAAAAADwP2TlCSmLIN+/",
            "dtype": "f8"
           },
           "y": {
            "bdata": "AAAAAAAAAAAAAAAAAAAAAMpYLX9vEcU/",
            "dtype": "f8"
           },
           "z": {
            "bdata": "AAAAAAAAAAAAAAAAAAAAAAAAAAAAAAAA",
            "dtype": "f8"
           }
          }
         ],
         "layout": {
          "annotations": [
           {
            "showarrow": false,
            "text": "Time: 18.00s (Step: 19/20)",
            "x": 0.05,
            "xref": "paper",
            "y": 0.95,
            "yref": "paper"
           }
          ],
          "scene": {
           "camera": {
            "eye": {
             "x": 2.0525584461527577,
             "y": 2.0525584461527577,
             "z": 1.6759069534380524
            }
           }
          }
         },
         "name": "18"
        },
        {
         "data": [
          {
           "name": "Free Nodes",
           "type": "scatter3d",
           "x": [],
           "y": [],
           "z": []
          },
          {
           "name": "Fixed Nodes",
           "type": "scatter3d",
           "x": {
            "bdata": "AAAAAAAAAAAAAAAAAADwPwAAAAAAAOC/",
            "dtype": "f8"
           },
           "y": {
            "bdata": "AAAAAAAAAAAAAAAAAAAAAAAAAAAAAKA8",
            "dtype": "f8"
           },
           "z": {
            "bdata": "AAAAAAAAAAAAAAAAAAAAAAAAAAAAAAAA",
            "dtype": "f8"
           }
          },
          {
           "name": "Edges",
           "type": "scatter3d",
           "x": [
            1,
            -0.5,
            null,
            -0.5,
            0,
            null,
            0,
            1,
            null
           ],
           "y": [
            0,
            1.1102230246251565e-16,
            null,
            1.1102230246251565e-16,
            0,
            null,
            0,
            0,
            null
           ],
           "z": [
            0,
            0,
            null,
            0,
            0,
            null,
            0,
            0,
            null
           ]
          },
          {
           "i": [
            0
           ],
           "j": [
            1
           ],
           "k": [
            2
           ],
           "name": "Faces",
           "type": "mesh3d",
           "x": {
            "bdata": "AAAAAAAAAAAAAAAAAADwPwAAAAAAAOC/",
            "dtype": "f8"
           },
           "y": {
            "bdata": "AAAAAAAAAAAAAAAAAAAAAAAAAAAAAKA8",
            "dtype": "f8"
           },
           "z": {
            "bdata": "AAAAAAAAAAAAAAAAAAAAAAAAAAAAAAAA",
            "dtype": "f8"
           }
          }
         ],
         "layout": {
          "annotations": [
           {
            "showarrow": false,
            "text": "Time: 19.00s (Step: 20/20)",
            "x": 0.05,
            "xref": "paper",
            "y": 0.95,
            "yref": "paper"
           }
          ],
          "scene": {
           "camera": {
            "eye": {
             "x": 2.0525584461527577,
             "y": 2.0525584461527577,
             "z": 1.6759069534380524
            }
           }
          }
         },
         "name": "19"
        }
       ],
       "layout": {
        "scene": {
         "camera": {
          "eye": {
           "x": 2.0525584461527577,
           "y": 2.0525584461527577,
           "z": 1.6759069534380524
          }
         },
         "xaxis": {
          "range": [
           -0.5,
           1.5
          ],
          "title": {
           "text": "X Position"
          }
         },
         "yaxis": {
          "range": [
           0,
           0.9965844930066698
          ],
          "title": {
           "text": "Y Position"
          }
         },
         "zaxis": {
          "range": [
           -1,
           1
          ],
          "title": {
           "text": "Z Position"
          }
         }
        },
        "sliders": [
         {
          "currentvalue": {
           "prefix": "Frame: "
          },
          "steps": [
           {
            "args": [
             [
              "0"
             ],
             {
              "frame": {
               "duration": 50,
               "redraw": true
              },
              "mode": "immediate"
             }
            ],
            "label": "0",
            "method": "animate"
           },
           {
            "args": [
             [
              "1"
             ],
             {
              "frame": {
               "duration": 50,
               "redraw": true
              },
              "mode": "immediate"
             }
            ],
            "label": "1",
            "method": "animate"
           },
           {
            "args": [
             [
              "2"
             ],
             {
              "frame": {
               "duration": 50,
               "redraw": true
              },
              "mode": "immediate"
             }
            ],
            "label": "2",
            "method": "animate"
           },
           {
            "args": [
             [
              "3"
             ],
             {
              "frame": {
               "duration": 50,
               "redraw": true
              },
              "mode": "immediate"
             }
            ],
            "label": "3",
            "method": "animate"
           },
           {
            "args": [
             [
              "4"
             ],
             {
              "frame": {
               "duration": 50,
               "redraw": true
              },
              "mode": "immediate"
             }
            ],
            "label": "4",
            "method": "animate"
           },
           {
            "args": [
             [
              "5"
             ],
             {
              "frame": {
               "duration": 50,
               "redraw": true
              },
              "mode": "immediate"
             }
            ],
            "label": "5",
            "method": "animate"
           },
           {
            "args": [
             [
              "6"
             ],
             {
              "frame": {
               "duration": 50,
               "redraw": true
              },
              "mode": "immediate"
             }
            ],
            "label": "6",
            "method": "animate"
           },
           {
            "args": [
             [
              "7"
             ],
             {
              "frame": {
               "duration": 50,
               "redraw": true
              },
              "mode": "immediate"
             }
            ],
            "label": "7",
            "method": "animate"
           },
           {
            "args": [
             [
              "8"
             ],
             {
              "frame": {
               "duration": 50,
               "redraw": true
              },
              "mode": "immediate"
             }
            ],
            "label": "8",
            "method": "animate"
           },
           {
            "args": [
             [
              "9"
             ],
             {
              "frame": {
               "duration": 50,
               "redraw": true
              },
              "mode": "immediate"
             }
            ],
            "label": "9",
            "method": "animate"
           },
           {
            "args": [
             [
              "10"
             ],
             {
              "frame": {
               "duration": 50,
               "redraw": true
              },
              "mode": "immediate"
             }
            ],
            "label": "10",
            "method": "animate"
           },
           {
            "args": [
             [
              "11"
             ],
             {
              "frame": {
               "duration": 50,
               "redraw": true
              },
              "mode": "immediate"
             }
            ],
            "label": "11",
            "method": "animate"
           },
           {
            "args": [
             [
              "12"
             ],
             {
              "frame": {
               "duration": 50,
               "redraw": true
              },
              "mode": "immediate"
             }
            ],
            "label": "12",
            "method": "animate"
           },
           {
            "args": [
             [
              "13"
             ],
             {
              "frame": {
               "duration": 50,
               "redraw": true
              },
              "mode": "immediate"
             }
            ],
            "label": "13",
            "method": "animate"
           },
           {
            "args": [
             [
              "14"
             ],
             {
              "frame": {
               "duration": 50,
               "redraw": true
              },
              "mode": "immediate"
             }
            ],
            "label": "14",
            "method": "animate"
           },
           {
            "args": [
             [
              "15"
             ],
             {
              "frame": {
               "duration": 50,
               "redraw": true
              },
              "mode": "immediate"
             }
            ],
            "label": "15",
            "method": "animate"
           },
           {
            "args": [
             [
              "16"
             ],
             {
              "frame": {
               "duration": 50,
               "redraw": true
              },
              "mode": "immediate"
             }
            ],
            "label": "16",
            "method": "animate"
           },
           {
            "args": [
             [
              "17"
             ],
             {
              "frame": {
               "duration": 50,
               "redraw": true
              },
              "mode": "immediate"
             }
            ],
            "label": "17",
            "method": "animate"
           },
           {
            "args": [
             [
              "18"
             ],
             {
              "frame": {
               "duration": 50,
               "redraw": true
              },
              "mode": "immediate"
             }
            ],
            "label": "18",
            "method": "animate"
           },
           {
            "args": [
             [
              "19"
             ],
             {
              "frame": {
               "duration": 50,
               "redraw": true
              },
              "mode": "immediate"
             }
            ],
            "label": "19",
            "method": "animate"
           }
          ],
          "transition": {
           "duration": 0
          },
          "x": 0.1,
          "y": 0
         }
        ],
        "template": {
         "data": {
          "bar": [
           {
            "error_x": {
             "color": "#2a3f5f"
            },
            "error_y": {
             "color": "#2a3f5f"
            },
            "marker": {
             "line": {
              "color": "#E5ECF6",
              "width": 0.5
             },
             "pattern": {
              "fillmode": "overlay",
              "size": 10,
              "solidity": 0.2
             }
            },
            "type": "bar"
           }
          ],
          "barpolar": [
           {
            "marker": {
             "line": {
              "color": "#E5ECF6",
              "width": 0.5
             },
             "pattern": {
              "fillmode": "overlay",
              "size": 10,
              "solidity": 0.2
             }
            },
            "type": "barpolar"
           }
          ],
          "carpet": [
           {
            "aaxis": {
             "endlinecolor": "#2a3f5f",
             "gridcolor": "white",
             "linecolor": "white",
             "minorgridcolor": "white",
             "startlinecolor": "#2a3f5f"
            },
            "baxis": {
             "endlinecolor": "#2a3f5f",
             "gridcolor": "white",
             "linecolor": "white",
             "minorgridcolor": "white",
             "startlinecolor": "#2a3f5f"
            },
            "type": "carpet"
           }
          ],
          "choropleth": [
           {
            "colorbar": {
             "outlinewidth": 0,
             "ticks": ""
            },
            "type": "choropleth"
           }
          ],
          "contour": [
           {
            "colorbar": {
             "outlinewidth": 0,
             "ticks": ""
            },
            "colorscale": [
             [
              0,
              "#0d0887"
             ],
             [
              0.1111111111111111,
              "#46039f"
             ],
             [
              0.2222222222222222,
              "#7201a8"
             ],
             [
              0.3333333333333333,
              "#9c179e"
             ],
             [
              0.4444444444444444,
              "#bd3786"
             ],
             [
              0.5555555555555556,
              "#d8576b"
             ],
             [
              0.6666666666666666,
              "#ed7953"
             ],
             [
              0.7777777777777778,
              "#fb9f3a"
             ],
             [
              0.8888888888888888,
              "#fdca26"
             ],
             [
              1,
              "#f0f921"
             ]
            ],
            "type": "contour"
           }
          ],
          "contourcarpet": [
           {
            "colorbar": {
             "outlinewidth": 0,
             "ticks": ""
            },
            "type": "contourcarpet"
           }
          ],
          "heatmap": [
           {
            "colorbar": {
             "outlinewidth": 0,
             "ticks": ""
            },
            "colorscale": [
             [
              0,
              "#0d0887"
             ],
             [
              0.1111111111111111,
              "#46039f"
             ],
             [
              0.2222222222222222,
              "#7201a8"
             ],
             [
              0.3333333333333333,
              "#9c179e"
             ],
             [
              0.4444444444444444,
              "#bd3786"
             ],
             [
              0.5555555555555556,
              "#d8576b"
             ],
             [
              0.6666666666666666,
              "#ed7953"
             ],
             [
              0.7777777777777778,
              "#fb9f3a"
             ],
             [
              0.8888888888888888,
              "#fdca26"
             ],
             [
              1,
              "#f0f921"
             ]
            ],
            "type": "heatmap"
           }
          ],
          "histogram": [
           {
            "marker": {
             "pattern": {
              "fillmode": "overlay",
              "size": 10,
              "solidity": 0.2
             }
            },
            "type": "histogram"
           }
          ],
          "histogram2d": [
           {
            "colorbar": {
             "outlinewidth": 0,
             "ticks": ""
            },
            "colorscale": [
             [
              0,
              "#0d0887"
             ],
             [
              0.1111111111111111,
              "#46039f"
             ],
             [
              0.2222222222222222,
              "#7201a8"
             ],
             [
              0.3333333333333333,
              "#9c179e"
             ],
             [
              0.4444444444444444,
              "#bd3786"
             ],
             [
              0.5555555555555556,
              "#d8576b"
             ],
             [
              0.6666666666666666,
              "#ed7953"
             ],
             [
              0.7777777777777778,
              "#fb9f3a"
             ],
             [
              0.8888888888888888,
              "#fdca26"
             ],
             [
              1,
              "#f0f921"
             ]
            ],
            "type": "histogram2d"
           }
          ],
          "histogram2dcontour": [
           {
            "colorbar": {
             "outlinewidth": 0,
             "ticks": ""
            },
            "colorscale": [
             [
              0,
              "#0d0887"
             ],
             [
              0.1111111111111111,
              "#46039f"
             ],
             [
              0.2222222222222222,
              "#7201a8"
             ],
             [
              0.3333333333333333,
              "#9c179e"
             ],
             [
              0.4444444444444444,
              "#bd3786"
             ],
             [
              0.5555555555555556,
              "#d8576b"
             ],
             [
              0.6666666666666666,
              "#ed7953"
             ],
             [
              0.7777777777777778,
              "#fb9f3a"
             ],
             [
              0.8888888888888888,
              "#fdca26"
             ],
             [
              1,
              "#f0f921"
             ]
            ],
            "type": "histogram2dcontour"
           }
          ],
          "mesh3d": [
           {
            "colorbar": {
             "outlinewidth": 0,
             "ticks": ""
            },
            "type": "mesh3d"
           }
          ],
          "parcoords": [
           {
            "line": {
             "colorbar": {
              "outlinewidth": 0,
              "ticks": ""
             }
            },
            "type": "parcoords"
           }
          ],
          "pie": [
           {
            "automargin": true,
            "type": "pie"
           }
          ],
          "scatter": [
           {
            "fillpattern": {
             "fillmode": "overlay",
             "size": 10,
             "solidity": 0.2
            },
            "type": "scatter"
           }
          ],
          "scatter3d": [
           {
            "line": {
             "colorbar": {
              "outlinewidth": 0,
              "ticks": ""
             }
            },
            "marker": {
             "colorbar": {
              "outlinewidth": 0,
              "ticks": ""
             }
            },
            "type": "scatter3d"
           }
          ],
          "scattercarpet": [
           {
            "marker": {
             "colorbar": {
              "outlinewidth": 0,
              "ticks": ""
             }
            },
            "type": "scattercarpet"
           }
          ],
          "scattergeo": [
           {
            "marker": {
             "colorbar": {
              "outlinewidth": 0,
              "ticks": ""
             }
            },
            "type": "scattergeo"
           }
          ],
          "scattergl": [
           {
            "marker": {
             "colorbar": {
              "outlinewidth": 0,
              "ticks": ""
             }
            },
            "type": "scattergl"
           }
          ],
          "scattermap": [
           {
            "marker": {
             "colorbar": {
              "outlinewidth": 0,
              "ticks": ""
             }
            },
            "type": "scattermap"
           }
          ],
          "scattermapbox": [
           {
            "marker": {
             "colorbar": {
              "outlinewidth": 0,
              "ticks": ""
             }
            },
            "type": "scattermapbox"
           }
          ],
          "scatterpolar": [
           {
            "marker": {
             "colorbar": {
              "outlinewidth": 0,
              "ticks": ""
             }
            },
            "type": "scatterpolar"
           }
          ],
          "scatterpolargl": [
           {
            "marker": {
             "colorbar": {
              "outlinewidth": 0,
              "ticks": ""
             }
            },
            "type": "scatterpolargl"
           }
          ],
          "scatterternary": [
           {
            "marker": {
             "colorbar": {
              "outlinewidth": 0,
              "ticks": ""
             }
            },
            "type": "scatterternary"
           }
          ],
          "surface": [
           {
            "colorbar": {
             "outlinewidth": 0,
             "ticks": ""
            },
            "colorscale": [
             [
              0,
              "#0d0887"
             ],
             [
              0.1111111111111111,
              "#46039f"
             ],
             [
              0.2222222222222222,
              "#7201a8"
             ],
             [
              0.3333333333333333,
              "#9c179e"
             ],
             [
              0.4444444444444444,
              "#bd3786"
             ],
             [
              0.5555555555555556,
              "#d8576b"
             ],
             [
              0.6666666666666666,
              "#ed7953"
             ],
             [
              0.7777777777777778,
              "#fb9f3a"
             ],
             [
              0.8888888888888888,
              "#fdca26"
             ],
             [
              1,
              "#f0f921"
             ]
            ],
            "type": "surface"
           }
          ],
          "table": [
           {
            "cells": {
             "fill": {
              "color": "#EBF0F8"
             },
             "line": {
              "color": "white"
             }
            },
            "header": {
             "fill": {
              "color": "#C8D4E3"
             },
             "line": {
              "color": "white"
             }
            },
            "type": "table"
           }
          ]
         },
         "layout": {
          "annotationdefaults": {
           "arrowcolor": "#2a3f5f",
           "arrowhead": 0,
           "arrowwidth": 1
          },
          "autotypenumbers": "strict",
          "coloraxis": {
           "colorbar": {
            "outlinewidth": 0,
            "ticks": ""
           }
          },
          "colorscale": {
           "diverging": [
            [
             0,
             "#8e0152"
            ],
            [
             0.1,
             "#c51b7d"
            ],
            [
             0.2,
             "#de77ae"
            ],
            [
             0.3,
             "#f1b6da"
            ],
            [
             0.4,
             "#fde0ef"
            ],
            [
             0.5,
             "#f7f7f7"
            ],
            [
             0.6,
             "#e6f5d0"
            ],
            [
             0.7,
             "#b8e186"
            ],
            [
             0.8,
             "#7fbc41"
            ],
            [
             0.9,
             "#4d9221"
            ],
            [
             1,
             "#276419"
            ]
           ],
           "sequential": [
            [
             0,
             "#0d0887"
            ],
            [
             0.1111111111111111,
             "#46039f"
            ],
            [
             0.2222222222222222,
             "#7201a8"
            ],
            [
             0.3333333333333333,
             "#9c179e"
            ],
            [
             0.4444444444444444,
             "#bd3786"
            ],
            [
             0.5555555555555556,
             "#d8576b"
            ],
            [
             0.6666666666666666,
             "#ed7953"
            ],
            [
             0.7777777777777778,
             "#fb9f3a"
            ],
            [
             0.8888888888888888,
             "#fdca26"
            ],
            [
             1,
             "#f0f921"
            ]
           ],
           "sequentialminus": [
            [
             0,
             "#0d0887"
            ],
            [
             0.1111111111111111,
             "#46039f"
            ],
            [
             0.2222222222222222,
             "#7201a8"
            ],
            [
             0.3333333333333333,
             "#9c179e"
            ],
            [
             0.4444444444444444,
             "#bd3786"
            ],
            [
             0.5555555555555556,
             "#d8576b"
            ],
            [
             0.6666666666666666,
             "#ed7953"
            ],
            [
             0.7777777777777778,
             "#fb9f3a"
            ],
            [
             0.8888888888888888,
             "#fdca26"
            ],
            [
             1,
             "#f0f921"
            ]
           ]
          },
          "colorway": [
           "#636efa",
           "#EF553B",
           "#00cc96",
           "#ab63fa",
           "#FFA15A",
           "#19d3f3",
           "#FF6692",
           "#B6E880",
           "#FF97FF",
           "#FECB52"
          ],
          "font": {
           "color": "#2a3f5f"
          },
          "geo": {
           "bgcolor": "white",
           "lakecolor": "white",
           "landcolor": "#E5ECF6",
           "showlakes": true,
           "showland": true,
           "subunitcolor": "white"
          },
          "hoverlabel": {
           "align": "left"
          },
          "hovermode": "closest",
          "mapbox": {
           "style": "light"
          },
          "paper_bgcolor": "white",
          "plot_bgcolor": "#E5ECF6",
          "polar": {
           "angularaxis": {
            "gridcolor": "white",
            "linecolor": "white",
            "ticks": ""
           },
           "bgcolor": "#E5ECF6",
           "radialaxis": {
            "gridcolor": "white",
            "linecolor": "white",
            "ticks": ""
           }
          },
          "scene": {
           "xaxis": {
            "backgroundcolor": "#E5ECF6",
            "gridcolor": "white",
            "gridwidth": 2,
            "linecolor": "white",
            "showbackground": true,
            "ticks": "",
            "zerolinecolor": "white"
           },
           "yaxis": {
            "backgroundcolor": "#E5ECF6",
            "gridcolor": "white",
            "gridwidth": 2,
            "linecolor": "white",
            "showbackground": true,
            "ticks": "",
            "zerolinecolor": "white"
           },
           "zaxis": {
            "backgroundcolor": "#E5ECF6",
            "gridcolor": "white",
            "gridwidth": 2,
            "linecolor": "white",
            "showbackground": true,
            "ticks": "",
            "zerolinecolor": "white"
           }
          },
          "shapedefaults": {
           "line": {
            "color": "#2a3f5f"
           }
          },
          "ternary": {
           "aaxis": {
            "gridcolor": "white",
            "linecolor": "white",
            "ticks": ""
           },
           "baxis": {
            "gridcolor": "white",
            "linecolor": "white",
            "ticks": ""
           },
           "bgcolor": "#E5ECF6",
           "caxis": {
            "gridcolor": "white",
            "linecolor": "white",
            "ticks": ""
           }
          },
          "title": {
           "x": 0.05
          },
          "xaxis": {
           "automargin": true,
           "gridcolor": "white",
           "linecolor": "white",
           "ticks": "",
           "title": {
            "standoff": 15
           },
           "zerolinecolor": "white",
           "zerolinewidth": 2
          },
          "yaxis": {
           "automargin": true,
           "gridcolor": "white",
           "linecolor": "white",
           "ticks": "",
           "title": {
            "standoff": 15
           },
           "zerolinecolor": "white",
           "zerolinewidth": 2
          }
         }
        },
        "title": {
         "text": "Three Corners"
        },
        "updatemenus": [
         {
          "buttons": [
           {
            "args": [
             null,
             {
              "frame": {
               "duration": 50,
               "redraw": true
              },
              "fromcurrent": true
             }
            ],
            "label": "Play",
            "method": "animate"
           },
           {
            "args": [
             [
              null
             ],
             {
              "frame": {
               "duration": 0,
               "redraw": true
              },
              "mode": "immediate"
             }
            ],
            "label": "Pause",
            "method": "animate"
           }
          ],
          "direction": "left",
          "pad": {
           "r": 10,
           "t": 87
          },
          "showactive": false,
          "type": "buttons",
          "x": 0.1,
          "xanchor": "right",
          "y": 0,
          "yanchor": "top"
         }
        ]
       }
      }
     },
     "metadata": {},
     "output_type": "display_data"
    }
   ],
   "source": [
    "options = dismech.AnimationOptions(z_lim=[-1.0, 1.0], title='Three Corners')\n",
    "fig = dismech.get_interactive_animation_plotly(base_robot, np.arange(len(nodes_list)), qs, options)\n",
    "fig.show()"
   ]
  }
 ],
 "metadata": {
  "kernelspec": {
   "display_name": ".venv",
   "language": "python",
   "name": "python3"
  },
  "language_info": {
   "codemirror_mode": {
    "name": "ipython",
    "version": 3
   },
   "file_extension": ".py",
   "mimetype": "text/x-python",
   "name": "python",
   "nbconvert_exporter": "python",
   "pygments_lexer": "ipython3",
   "version": "3.12.1"
  }
 },
 "nbformat": 4,
 "nbformat_minor": 2
}
