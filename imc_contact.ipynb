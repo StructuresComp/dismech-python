{
 "cells": [
  {
   "cell_type": "markdown",
   "metadata": {},
   "source": [
    "## Rod Cantilever Example"
   ]
  },
  {
   "cell_type": "code",
   "execution_count": 23,
   "metadata": {},
   "outputs": [],
   "source": [
    "import numpy as np\n",
    "\n",
    "import dismech\n",
    "\n",
    "b = 0.02\n",
    "h = 0.001\n",
    "\n",
    "geom = dismech.GeomParams(rod_r0=0.001,\n",
    "                          shell_h=0)\n",
    "\n",
    "material = dismech.Material(density=1200,\n",
    "                            youngs_rod=2e6,\n",
    "                            youngs_shell=0,\n",
    "                            poisson_rod=0.5,\n",
    "                            poisson_shell=0)\n",
    "\n",
    "static_2d_sim = dismech.SimParams(static_sim=False,\n",
    "                                  two_d_sim=True,   # no twisting\n",
    "                                  use_mid_edge=False,\n",
    "                                  use_line_search=False,\n",
    "                                  show_floor=False,\n",
    "                                  log_data=True,\n",
    "                                  log_step=1,\n",
    "                                  dt=1e-2,\n",
    "                                  max_iter=50,\n",
    "                                  total_time=1.0,\n",
    "                                  plot_step=1,\n",
    "                                  tol=1e-4,\n",
    "                                  ftol=1e-4,\n",
    "                                  dtol=1e-2)\n",
    "\n",
    "env = dismech.Environment()\n",
    "#env.add_force('gravity', g=np.array([0.0, 0.0, -9.81]))\n",
    "env.add_force('selfContact', delta=1e-4, h=2e-3, kc=1e6)\n",
    "#env.set_static()   \n",
    "\n",
    "geo = dismech.Geometry.from_txt('input.txt')\n",
    "\n",
    "robot = dismech.SoftRobot(geom, material, geo, static_2d_sim, env)\n",
    "\n",
    "u = robot.state.u\n",
    "u[8] = -0.1\n",
    "u[11] = -0.1"
   ]
  },
  {
   "cell_type": "markdown",
   "metadata": {},
   "source": [
    "### Time Stepping\n",
    "\n",
    "As we are performing a static simulation, we must change gravity for each time step."
   ]
  },
  {
   "cell_type": "code",
   "execution_count": 24,
   "metadata": {},
   "outputs": [
    {
     "name": "stdout",
     "output_type": "stream",
     "text": [
      "delta: 0.05\n",
      "h: 1.0\n",
      "K1: 300.0\n",
      "scale:  500.0\n",
      "kc:  1000000.0\n",
      "upper limit for quadratic: 1.95\n",
      "upper limit for smooth: 2.05\n",
      "0.02665729762895019\n",
      "2.219665920145957e-17\n",
      "0.026657297628950215\n",
      "0.0\n",
      "0.026657297628950215\n",
      "0.0\n",
      "0.026657297628950215\n",
      "0.0\n",
      "0.026657297628950215\n",
      "0.0\n",
      "0.026657297628950215\n",
      "0.0\n",
      "0.026657297628950215\n",
      "0.0\n",
      "0.026657297628950215\n",
      "0.0\n",
      "0.026657297628950215\n",
      "0.0\n",
      "0.026657297628950215\n",
      "0.0\n",
      "0.026657297628950215\n",
      "0.0\n",
      "0.026657297628950215\n",
      "0.0\n",
      "0.026657297628950215\n",
      "0.0\n",
      "0.026657297628950215\n",
      "0.0\n",
      "0.026657297628950215\n",
      "0.0\n",
      "0.026657297628950215\n",
      "0.0\n",
      "0.026657297628950215\n",
      "0.0\n",
      "0.026657297628950215\n",
      "0.0\n",
      "0.026657297628950215\n",
      "0.0\n",
      "0.026657297628950215\n",
      "0.0\n",
      "0.026657297628950215\n",
      "0.0\n",
      "0.026657297628950215\n",
      "0.0\n",
      "0.026657297628950215\n",
      "0.0\n",
      "0.026657297628950215\n",
      "0.0\n",
      "0.026657297628950215\n",
      "0.0\n",
      "0.026657297628950215\n",
      "0.0\n",
      "0.026657297628950215\n",
      "0.0\n",
      "0.026657297628950215\n",
      "0.0\n",
      "0.026657297628950215\n",
      "0.0\n",
      "0.026657297628950215\n",
      "0.0\n",
      "0.026657297628950215\n",
      "0.0\n",
      "0.026657297628950215\n",
      "0.0\n",
      "0.026657297628950215\n",
      "0.0\n",
      "0.026657297628950215\n",
      "0.0\n",
      "0.026657297628950215\n",
      "0.0\n",
      "0.026657297628950215\n",
      "0.0\n",
      "0.026657297628950215\n",
      "0.0\n",
      "0.026657297628950215\n",
      "0.0\n",
      "0.026657297628950215\n",
      "0.0\n",
      "0.026657297628950215\n",
      "0.0\n",
      "0.026657297628950215\n",
      "0.0\n",
      "0.026657297628950215\n",
      "0.0\n",
      "0.026657297628950215\n",
      "0.0\n",
      "0.026657297628950215\n",
      "0.0\n",
      "0.026657297628950215\n",
      "0.0\n",
      "0.026657297628950215\n",
      "0.0\n",
      "0.026657297628950215\n",
      "0.0\n",
      "0.026657297628950215\n",
      "0.0\n",
      "0.026657297628950215\n",
      "0.0\n",
      "0.026657297628950215\n",
      "0.0\n",
      "0.026657297628950215\n",
      "0.0\n",
      "0.026657297628950215\n",
      "0.0\n",
      "0.026657297628950215\n",
      "0.0\n",
      "0.026657297628950215\n",
      "0.0\n",
      "0.026657297628950215\n",
      "0.0\n",
      "0.026657297628950215\n",
      "0.0\n",
      "0.026657297628950215\n",
      "0.0\n",
      "0.026657297628950215\n",
      "0.0\n",
      "0.026657297628950215\n",
      "0.0\n",
      "0.026657297628950215\n",
      "0.0\n",
      "0.026657297628950215\n",
      "0.0\n",
      "0.026657297628950215\n",
      "0.0\n",
      "0.026657297628950215\n",
      "0.0\n",
      "0.026657297628950215\n",
      "0.0\n",
      "0.026657297628950215\n",
      "0.0\n",
      "0.026657297628950215\n",
      "0.0\n",
      "0.026657297628950215\n",
      "0.0\n",
      "0.026657297628950215\n",
      "0.0\n",
      "0.026657297628950215\n",
      "0.0\n",
      "0.026657297628950215\n",
      "0.0\n",
      "0.026657297628950215\n",
      "0.0\n",
      "0.026657297628950215\n",
      "0.0\n",
      "0.026657297628950215\n",
      "0.0\n",
      "0.026657297628950215\n",
      "0.0\n",
      "0.026657297628950215\n",
      "0.0\n",
      "0.026657297628950215\n",
      "0.0\n",
      "0.026657297628950215\n",
      "0.0\n",
      "0.026657297628950215\n",
      "0.0\n",
      "0.026657297628950215\n",
      "0.0\n",
      "0.026657297628950215\n",
      "0.0\n",
      "0.026657297628950215\n",
      "0.0\n",
      "0.026657297628950215\n",
      "0.0\n",
      "0.026657297628950215\n",
      "0.0\n",
      "0.026657297628950215\n",
      "0.0\n",
      "0.026657297628950215\n",
      "0.0\n",
      "0.026657297628950215\n",
      "0.0\n",
      "0.026657297628950215\n",
      "0.0\n",
      "0.026657297628950215\n",
      "0.0\n",
      "0.026657297628950215\n",
      "0.0\n",
      "0.026657297628950215\n",
      "0.0\n",
      "0.026657297628950215\n",
      "0.0\n",
      "0.026657297628950215\n",
      "0.0\n",
      "0.026657297628950215\n",
      "0.0\n",
      "0.026657297628950215\n",
      "0.0\n",
      "0.026657297628950215\n",
      "0.0\n",
      "0.026657297628950215\n",
      "346573590.28504795\n",
      "1214539717.180914\n",
      "346573609.2781688\n",
      "1214539627.3899\n",
      "346573590.2800008\n",
      "1214539717.2049456\n",
      "346573609.2781969\n",
      "1214539627.3897667\n",
      "346573590.2799727\n",
      "1493085745.4845717\n",
      "283686291.64206856\n",
      "76878985.03500085\n",
      "7929115862.815092\n",
      "855.8608409961544\n",
      "0.16969940787934568\n",
      "2.3910282273996664e-15\n",
      "0.16969940787934568\n",
      "1.6382900509067308e-15\n",
      "0.16969940787934568\n",
      "3.000670226886258e-15\n"
     ]
    }
   ],
   "source": [
    "stepper = dismech.ImplicitEulerTimeStepper(robot)\n",
    "\n",
    "robots = stepper.simulate()\n",
    "\n",
    "qs = np.stack([robot.state.q for robot in robots])"
   ]
  },
  {
   "cell_type": "code",
   "execution_count": 25,
   "metadata": {},
   "outputs": [
    {
     "data": {
      "application/vnd.plotly.v1+json": {
       "config": {
        "plotlyServerURL": "https://plot.ly"
       },
       "data": [
        {
         "marker": {
          "color": "#1f78b4",
          "size": 5
         },
         "mode": "markers",
         "name": "Free Nodes",
         "type": "scatter3d",
         "x": {
          "bdata": "AAAAAAAAAAAAAAAAAADwPwAAAAAAAOA/AAAAAAAA4D8=",
          "dtype": "f8"
         },
         "y": {
          "bdata": "AAAAAAAA4D8AAAAAAADgPwAAAAAAAAAAAAAAAAAA8D8=",
          "dtype": "f8"
         },
         "z": {
          "bdata": "AAAAAAAAAAAAAAAAAAAAAPLSTWIQWLk/8tJNYhBYuT8=",
          "dtype": "f8"
         }
        },
        {
         "marker": {
          "color": "#e31a1c",
          "size": 5
         },
         "mode": "markers",
         "name": "Fixed Nodes",
         "type": "scatter3d",
         "x": [],
         "y": [],
         "z": []
        },
        {
         "line": {
          "color": "#333333",
          "width": 2
         },
         "mode": "lines",
         "name": "Edges",
         "type": "scatter3d",
         "x": [
          0,
          1,
          null,
          0.5,
          0.5,
          null
         ],
         "y": [
          0.5,
          0.5,
          null,
          0,
          1,
          null
         ],
         "z": [
          0,
          0,
          null,
          0.099,
          0.099,
          null
         ]
        },
        {
         "color": "rgba(166, 206, 227, 0.7)",
         "i": [],
         "j": [],
         "k": [],
         "name": "Faces",
         "opacity": 0.7,
         "showscale": false,
         "type": "mesh3d",
         "x": {
          "bdata": "AAAAAAAAAAAAAAAAAADwPwAAAAAAAOA/AAAAAAAA4D8=",
          "dtype": "f8"
         },
         "y": {
          "bdata": "AAAAAAAA4D8AAAAAAADgPwAAAAAAAAAAAAAAAAAA8D8=",
          "dtype": "f8"
         },
         "z": {
          "bdata": "AAAAAAAAAAAAAAAAAAAAAPLSTWIQWLk/8tJNYhBYuT8=",
          "dtype": "f8"
         }
        }
       ],
       "frames": [
        {
         "data": [
          {
           "name": "Free Nodes",
           "type": "scatter3d",
           "x": {
            "bdata": "AAAAAAAAAAAAAAAAAADwPwAAAAAAAOA/AAAAAAAA4D8=",
            "dtype": "f8"
           },
           "y": {
            "bdata": "AAAAAAAA4D8AAAAAAADgPwAAAAAAAAAAAAAAAAAA8D8=",
            "dtype": "f8"
           },
           "z": {
            "bdata": "AAAAAAAAAAAAAAAAAAAAAPLSTWIQWLk/8tJNYhBYuT8=",
            "dtype": "f8"
           }
          },
          {
           "name": "Fixed Nodes",
           "type": "scatter3d",
           "x": [],
           "y": [],
           "z": []
          },
          {
           "name": "Edges",
           "type": "scatter3d",
           "x": [
            0,
            1,
            null,
            0.5,
            0.5,
            null
           ],
           "y": [
            0.5,
            0.5,
            null,
            0,
            1,
            null
           ],
           "z": [
            0,
            0,
            null,
            0.099,
            0.099,
            null
           ]
          },
          {
           "i": [],
           "j": [],
           "k": [],
           "name": "Faces",
           "type": "mesh3d",
           "x": {
            "bdata": "AAAAAAAAAAAAAAAAAADwPwAAAAAAAOA/AAAAAAAA4D8=",
            "dtype": "f8"
           },
           "y": {
            "bdata": "AAAAAAAA4D8AAAAAAADgPwAAAAAAAAAAAAAAAAAA8D8=",
            "dtype": "f8"
           },
           "z": {
            "bdata": "AAAAAAAAAAAAAAAAAAAAAPLSTWIQWLk/8tJNYhBYuT8=",
            "dtype": "f8"
           }
          }
         ],
         "layout": {
          "annotations": [
           {
            "showarrow": false,
            "text": "Time: 0.00s (Step: 1/100)",
            "x": 0.05,
            "xref": "paper",
            "y": 0.95,
            "yref": "paper"
           }
          ]
         },
         "name": "0"
        },
        {
         "data": [
          {
           "name": "Free Nodes",
           "type": "scatter3d",
           "x": {
            "bdata": "AAAAAAAAAAAAAAAAAADwPwAAAAAAAOA/AAAAAAAA4D8=",
            "dtype": "f8"
           },
           "y": {
            "bdata": "AAAAAAAA4D8AAAAAAADgPwAAAAAAAAAAAAAAAAAA8D8=",
            "dtype": "f8"
           },
           "z": {
            "bdata": "AAAAAAAAAAAAAAAAAAAAAEoMAiuHFrk/SgwCK4cWuT8=",
            "dtype": "f8"
           }
          },
          {
           "name": "Fixed Nodes",
           "type": "scatter3d",
           "x": [],
           "y": [],
           "z": []
          },
          {
           "name": "Edges",
           "type": "scatter3d",
           "x": [
            0,
            1,
            null,
            0.5,
            0.5,
            null
           ],
           "y": [
            0.5,
            0.5,
            null,
            0,
            1,
            null
           ],
           "z": [
            0,
            0,
            null,
            0.098,
            0.098,
            null
           ]
          },
          {
           "i": [],
           "j": [],
           "k": [],
           "name": "Faces",
           "type": "mesh3d",
           "x": {
            "bdata": "AAAAAAAAAAAAAAAAAADwPwAAAAAAAOA/AAAAAAAA4D8=",
            "dtype": "f8"
           },
           "y": {
            "bdata": "AAAAAAAA4D8AAAAAAADgPwAAAAAAAAAAAAAAAAAA8D8=",
            "dtype": "f8"
           },
           "z": {
            "bdata": "AAAAAAAAAAAAAAAAAAAAAEoMAiuHFrk/SgwCK4cWuT8=",
            "dtype": "f8"
           }
          }
         ],
         "layout": {
          "annotations": [
           {
            "showarrow": false,
            "text": "Time: 0.01s (Step: 2/100)",
            "x": 0.05,
            "xref": "paper",
            "y": 0.95,
            "yref": "paper"
           }
          ]
         },
         "name": "1"
        },
        {
         "data": [
          {
           "name": "Free Nodes",
           "type": "scatter3d",
           "x": {
            "bdata": "AAAAAAAAAAAAAAAAAADwPwAAAAAAAOA/AAAAAAAA4D8=",
            "dtype": "f8"
           },
           "y": {
            "bdata": "AAAAAAAA4D8AAAAAAADgPwAAAAAAAAAAAAAAAAAA8D8=",
            "dtype": "f8"
           },
           "z": {
            "bdata": "AAAAAAAAAAAAAAAAAAAAAKJFtvP91Lg/okW28/3UuD8=",
            "dtype": "f8"
           }
          },
          {
           "name": "Fixed Nodes",
           "type": "scatter3d",
           "x": [],
           "y": [],
           "z": []
          },
          {
           "name": "Edges",
           "type": "scatter3d",
           "x": [
            0,
            1,
            null,
            0.5,
            0.5,
            null
           ],
           "y": [
            0.5,
            0.5,
            null,
            0,
            1,
            null
           ],
           "z": [
            0,
            0,
            null,
            0.097,
            0.097,
            null
           ]
          },
          {
           "i": [],
           "j": [],
           "k": [],
           "name": "Faces",
           "type": "mesh3d",
           "x": {
            "bdata": "AAAAAAAAAAAAAAAAAADwPwAAAAAAAOA/AAAAAAAA4D8=",
            "dtype": "f8"
           },
           "y": {
            "bdata": "AAAAAAAA4D8AAAAAAADgPwAAAAAAAAAAAAAAAAAA8D8=",
            "dtype": "f8"
           },
           "z": {
            "bdata": "AAAAAAAAAAAAAAAAAAAAAKJFtvP91Lg/okW28/3UuD8=",
            "dtype": "f8"
           }
          }
         ],
         "layout": {
          "annotations": [
           {
            "showarrow": false,
            "text": "Time: 0.02s (Step: 3/100)",
            "x": 0.05,
            "xref": "paper",
            "y": 0.95,
            "yref": "paper"
           }
          ]
         },
         "name": "2"
        },
        {
         "data": [
          {
           "name": "Free Nodes",
           "type": "scatter3d",
           "x": {
            "bdata": "AAAAAAAAAAAAAAAAAADwPwAAAAAAAOA/AAAAAAAA4D8=",
            "dtype": "f8"
           },
           "y": {
            "bdata": "AAAAAAAA4D8AAAAAAADgPwAAAAAAAAAAAAAAAAAA8D8=",
            "dtype": "f8"
           },
           "z": {
            "bdata": "AAAAAAAAAAAAAAAAAAAAAPp+arx0k7g/+n5qvHSTuD8=",
            "dtype": "f8"
           }
          },
          {
           "name": "Fixed Nodes",
           "type": "scatter3d",
           "x": [],
           "y": [],
           "z": []
          },
          {
           "name": "Edges",
           "type": "scatter3d",
           "x": [
            0,
            1,
            null,
            0.5,
            0.5,
            null
           ],
           "y": [
            0.5,
            0.5,
            null,
            0,
            1,
            null
           ],
           "z": [
            0,
            0,
            null,
            0.096,
            0.096,
            null
           ]
          },
          {
           "i": [],
           "j": [],
           "k": [],
           "name": "Faces",
           "type": "mesh3d",
           "x": {
            "bdata": "AAAAAAAAAAAAAAAAAADwPwAAAAAAAOA/AAAAAAAA4D8=",
            "dtype": "f8"
           },
           "y": {
            "bdata": "AAAAAAAA4D8AAAAAAADgPwAAAAAAAAAAAAAAAAAA8D8=",
            "dtype": "f8"
           },
           "z": {
            "bdata": "AAAAAAAAAAAAAAAAAAAAAPp+arx0k7g/+n5qvHSTuD8=",
            "dtype": "f8"
           }
          }
         ],
         "layout": {
          "annotations": [
           {
            "showarrow": false,
            "text": "Time: 0.03s (Step: 4/100)",
            "x": 0.05,
            "xref": "paper",
            "y": 0.95,
            "yref": "paper"
           }
          ]
         },
         "name": "3"
        },
        {
         "data": [
          {
           "name": "Free Nodes",
           "type": "scatter3d",
           "x": {
            "bdata": "AAAAAAAAAAAAAAAAAADwPwAAAAAAAOA/AAAAAAAA4D8=",
            "dtype": "f8"
           },
           "y": {
            "bdata": "AAAAAAAA4D8AAAAAAADgPwAAAAAAAAAAAAAAAAAA8D8=",
            "dtype": "f8"
           },
           "z": {
            "bdata": "AAAAAAAAAAAAAAAAAAAAAFK4HoXrUbg/UrgehetRuD8=",
            "dtype": "f8"
           }
          },
          {
           "name": "Fixed Nodes",
           "type": "scatter3d",
           "x": [],
           "y": [],
           "z": []
          },
          {
           "name": "Edges",
           "type": "scatter3d",
           "x": [
            0,
            1,
            null,
            0.5,
            0.5,
            null
           ],
           "y": [
            0.5,
            0.5,
            null,
            0,
            1,
            null
           ],
           "z": [
            0,
            0,
            null,
            0.095,
            0.095,
            null
           ]
          },
          {
           "i": [],
           "j": [],
           "k": [],
           "name": "Faces",
           "type": "mesh3d",
           "x": {
            "bdata": "AAAAAAAAAAAAAAAAAADwPwAAAAAAAOA/AAAAAAAA4D8=",
            "dtype": "f8"
           },
           "y": {
            "bdata": "AAAAAAAA4D8AAAAAAADgPwAAAAAAAAAAAAAAAAAA8D8=",
            "dtype": "f8"
           },
           "z": {
            "bdata": "AAAAAAAAAAAAAAAAAAAAAFK4HoXrUbg/UrgehetRuD8=",
            "dtype": "f8"
           }
          }
         ],
         "layout": {
          "annotations": [
           {
            "showarrow": false,
            "text": "Time: 0.04s (Step: 5/100)",
            "x": 0.05,
            "xref": "paper",
            "y": 0.95,
            "yref": "paper"
           }
          ]
         },
         "name": "4"
        },
        {
         "data": [
          {
           "name": "Free Nodes",
           "type": "scatter3d",
           "x": {
            "bdata": "AAAAAAAAAAAAAAAAAADwPwAAAAAAAOA/AAAAAAAA4D8=",
            "dtype": "f8"
           },
           "y": {
            "bdata": "AAAAAAAA4D8AAAAAAADgPwAAAAAAAAAAAAAAAAAA8D8=",
            "dtype": "f8"
           },
           "z": {
            "bdata": "AAAAAAAAAAAAAAAAAAAAAKrx0k1iELg/qvHSTWIQuD8=",
            "dtype": "f8"
           }
          },
          {
           "name": "Fixed Nodes",
           "type": "scatter3d",
           "x": [],
           "y": [],
           "z": []
          },
          {
           "name": "Edges",
           "type": "scatter3d",
           "x": [
            0,
            1,
            null,
            0.5,
            0.5,
            null
           ],
           "y": [
            0.5,
            0.5,
            null,
            0,
            1,
            null
           ],
           "z": [
            0,
            0,
            null,
            0.094,
            0.094,
            null
           ]
          },
          {
           "i": [],
           "j": [],
           "k": [],
           "name": "Faces",
           "type": "mesh3d",
           "x": {
            "bdata": "AAAAAAAAAAAAAAAAAADwPwAAAAAAAOA/AAAAAAAA4D8=",
            "dtype": "f8"
           },
           "y": {
            "bdata": "AAAAAAAA4D8AAAAAAADgPwAAAAAAAAAAAAAAAAAA8D8=",
            "dtype": "f8"
           },
           "z": {
            "bdata": "AAAAAAAAAAAAAAAAAAAAAKrx0k1iELg/qvHSTWIQuD8=",
            "dtype": "f8"
           }
          }
         ],
         "layout": {
          "annotations": [
           {
            "showarrow": false,
            "text": "Time: 0.05s (Step: 6/100)",
            "x": 0.05,
            "xref": "paper",
            "y": 0.95,
            "yref": "paper"
           }
          ]
         },
         "name": "5"
        },
        {
         "data": [
          {
           "name": "Free Nodes",
           "type": "scatter3d",
           "x": {
            "bdata": "AAAAAAAAAAAAAAAAAADwPwAAAAAAAOA/AAAAAAAA4D8=",
            "dtype": "f8"
           },
           "y": {
            "bdata": "AAAAAAAA4D8AAAAAAADgPwAAAAAAAAAAAAAAAAAA8D8=",
            "dtype": "f8"
           },
           "z": {
            "bdata": "AAAAAAAAAAAAAAAAAAAAAAIrhxbZzrc/AiuHFtnOtz8=",
            "dtype": "f8"
           }
          },
          {
           "name": "Fixed Nodes",
           "type": "scatter3d",
           "x": [],
           "y": [],
           "z": []
          },
          {
           "name": "Edges",
           "type": "scatter3d",
           "x": [
            0,
            1,
            null,
            0.5,
            0.5,
            null
           ],
           "y": [
            0.5,
            0.5,
            null,
            0,
            1,
            null
           ],
           "z": [
            0,
            0,
            null,
            0.093,
            0.093,
            null
           ]
          },
          {
           "i": [],
           "j": [],
           "k": [],
           "name": "Faces",
           "type": "mesh3d",
           "x": {
            "bdata": "AAAAAAAAAAAAAAAAAADwPwAAAAAAAOA/AAAAAAAA4D8=",
            "dtype": "f8"
           },
           "y": {
            "bdata": "AAAAAAAA4D8AAAAAAADgPwAAAAAAAAAAAAAAAAAA8D8=",
            "dtype": "f8"
           },
           "z": {
            "bdata": "AAAAAAAAAAAAAAAAAAAAAAIrhxbZzrc/AiuHFtnOtz8=",
            "dtype": "f8"
           }
          }
         ],
         "layout": {
          "annotations": [
           {
            "showarrow": false,
            "text": "Time: 0.06s (Step: 7/100)",
            "x": 0.05,
            "xref": "paper",
            "y": 0.95,
            "yref": "paper"
           }
          ]
         },
         "name": "6"
        },
        {
         "data": [
          {
           "name": "Free Nodes",
           "type": "scatter3d",
           "x": {
            "bdata": "AAAAAAAAAAAAAAAAAADwPwAAAAAAAOA/AAAAAAAA4D8=",
            "dtype": "f8"
           },
           "y": {
            "bdata": "AAAAAAAA4D8AAAAAAADgPwAAAAAAAAAAAAAAAAAA8D8=",
            "dtype": "f8"
           },
           "z": {
            "bdata": "AAAAAAAAAAAAAAAAAAAAAFpkO99Pjbc/WmQ730+Ntz8=",
            "dtype": "f8"
           }
          },
          {
           "name": "Fixed Nodes",
           "type": "scatter3d",
           "x": [],
           "y": [],
           "z": []
          },
          {
           "name": "Edges",
           "type": "scatter3d",
           "x": [
            0,
            1,
            null,
            0.5,
            0.5,
            null
           ],
           "y": [
            0.5,
            0.5,
            null,
            0,
            1,
            null
           ],
           "z": [
            0,
            0,
            null,
            0.092,
            0.092,
            null
           ]
          },
          {
           "i": [],
           "j": [],
           "k": [],
           "name": "Faces",
           "type": "mesh3d",
           "x": {
            "bdata": "AAAAAAAAAAAAAAAAAADwPwAAAAAAAOA/AAAAAAAA4D8=",
            "dtype": "f8"
           },
           "y": {
            "bdata": "AAAAAAAA4D8AAAAAAADgPwAAAAAAAAAAAAAAAAAA8D8=",
            "dtype": "f8"
           },
           "z": {
            "bdata": "AAAAAAAAAAAAAAAAAAAAAFpkO99Pjbc/WmQ730+Ntz8=",
            "dtype": "f8"
           }
          }
         ],
         "layout": {
          "annotations": [
           {
            "showarrow": false,
            "text": "Time: 0.07s (Step: 8/100)",
            "x": 0.05,
            "xref": "paper",
            "y": 0.95,
            "yref": "paper"
           }
          ]
         },
         "name": "7"
        },
        {
         "data": [
          {
           "name": "Free Nodes",
           "type": "scatter3d",
           "x": {
            "bdata": "AAAAAAAAAAAAAAAAAADwPwAAAAAAAOA/AAAAAAAA4D8=",
            "dtype": "f8"
           },
           "y": {
            "bdata": "AAAAAAAA4D8AAAAAAADgPwAAAAAAAAAAAAAAAAAA8D8=",
            "dtype": "f8"
           },
           "z": {
            "bdata": "AAAAAAAAAAAAAAAAAAAAALKd76fGS7c/sp3vp8ZLtz8=",
            "dtype": "f8"
           }
          },
          {
           "name": "Fixed Nodes",
           "type": "scatter3d",
           "x": [],
           "y": [],
           "z": []
          },
          {
           "name": "Edges",
           "type": "scatter3d",
           "x": [
            0,
            1,
            null,
            0.5,
            0.5,
            null
           ],
           "y": [
            0.5,
            0.5,
            null,
            0,
            1,
            null
           ],
           "z": [
            0,
            0,
            null,
            0.091,
            0.091,
            null
           ]
          },
          {
           "i": [],
           "j": [],
           "k": [],
           "name": "Faces",
           "type": "mesh3d",
           "x": {
            "bdata": "AAAAAAAAAAAAAAAAAADwPwAAAAAAAOA/AAAAAAAA4D8=",
            "dtype": "f8"
           },
           "y": {
            "bdata": "AAAAAAAA4D8AAAAAAADgPwAAAAAAAAAAAAAAAAAA8D8=",
            "dtype": "f8"
           },
           "z": {
            "bdata": "AAAAAAAAAAAAAAAAAAAAALKd76fGS7c/sp3vp8ZLtz8=",
            "dtype": "f8"
           }
          }
         ],
         "layout": {
          "annotations": [
           {
            "showarrow": false,
            "text": "Time: 0.08s (Step: 9/100)",
            "x": 0.05,
            "xref": "paper",
            "y": 0.95,
            "yref": "paper"
           }
          ]
         },
         "name": "8"
        },
        {
         "data": [
          {
           "name": "Free Nodes",
           "type": "scatter3d",
           "x": {
            "bdata": "AAAAAAAAAAAAAAAAAADwPwAAAAAAAOA/AAAAAAAA4D8=",
            "dtype": "f8"
           },
           "y": {
            "bdata": "AAAAAAAA4D8AAAAAAADgPwAAAAAAAAAAAAAAAAAA8D8=",
            "dtype": "f8"
           },
           "z": {
            "bdata": "AAAAAAAAAAAAAAAAAAAAAArXo3A9Crc/CtejcD0Ktz8=",
            "dtype": "f8"
           }
          },
          {
           "name": "Fixed Nodes",
           "type": "scatter3d",
           "x": [],
           "y": [],
           "z": []
          },
          {
           "name": "Edges",
           "type": "scatter3d",
           "x": [
            0,
            1,
            null,
            0.5,
            0.5,
            null
           ],
           "y": [
            0.5,
            0.5,
            null,
            0,
            1,
            null
           ],
           "z": [
            0,
            0,
            null,
            0.09,
            0.09,
            null
           ]
          },
          {
           "i": [],
           "j": [],
           "k": [],
           "name": "Faces",
           "type": "mesh3d",
           "x": {
            "bdata": "AAAAAAAAAAAAAAAAAADwPwAAAAAAAOA/AAAAAAAA4D8=",
            "dtype": "f8"
           },
           "y": {
            "bdata": "AAAAAAAA4D8AAAAAAADgPwAAAAAAAAAAAAAAAAAA8D8=",
            "dtype": "f8"
           },
           "z": {
            "bdata": "AAAAAAAAAAAAAAAAAAAAAArXo3A9Crc/CtejcD0Ktz8=",
            "dtype": "f8"
           }
          }
         ],
         "layout": {
          "annotations": [
           {
            "showarrow": false,
            "text": "Time: 0.09s (Step: 10/100)",
            "x": 0.05,
            "xref": "paper",
            "y": 0.95,
            "yref": "paper"
           }
          ]
         },
         "name": "9"
        },
        {
         "data": [
          {
           "name": "Free Nodes",
           "type": "scatter3d",
           "x": {
            "bdata": "AAAAAAAAAAAAAAAAAADwPwAAAAAAAOA/AAAAAAAA4D8=",
            "dtype": "f8"
           },
           "y": {
            "bdata": "AAAAAAAA4D8AAAAAAADgPwAAAAAAAAAAAAAAAAAA8D8=",
            "dtype": "f8"
           },
           "z": {
            "bdata": "AAAAAAAAAAAAAAAAAAAAAGIQWDm0yLY/YhBYObTItj8=",
            "dtype": "f8"
           }
          },
          {
           "name": "Fixed Nodes",
           "type": "scatter3d",
           "x": [],
           "y": [],
           "z": []
          },
          {
           "name": "Edges",
           "type": "scatter3d",
           "x": [
            0,
            1,
            null,
            0.5,
            0.5,
            null
           ],
           "y": [
            0.5,
            0.5,
            null,
            0,
            1,
            null
           ],
           "z": [
            0,
            0,
            null,
            0.089,
            0.089,
            null
           ]
          },
          {
           "i": [],
           "j": [],
           "k": [],
           "name": "Faces",
           "type": "mesh3d",
           "x": {
            "bdata": "AAAAAAAAAAAAAAAAAADwPwAAAAAAAOA/AAAAAAAA4D8=",
            "dtype": "f8"
           },
           "y": {
            "bdata": "AAAAAAAA4D8AAAAAAADgPwAAAAAAAAAAAAAAAAAA8D8=",
            "dtype": "f8"
           },
           "z": {
            "bdata": "AAAAAAAAAAAAAAAAAAAAAGIQWDm0yLY/YhBYObTItj8=",
            "dtype": "f8"
           }
          }
         ],
         "layout": {
          "annotations": [
           {
            "showarrow": false,
            "text": "Time: 0.10s (Step: 11/100)",
            "x": 0.05,
            "xref": "paper",
            "y": 0.95,
            "yref": "paper"
           }
          ]
         },
         "name": "10"
        },
        {
         "data": [
          {
           "name": "Free Nodes",
           "type": "scatter3d",
           "x": {
            "bdata": "AAAAAAAAAAAAAAAAAADwPwAAAAAAAOA/AAAAAAAA4D8=",
            "dtype": "f8"
           },
           "y": {
            "bdata": "AAAAAAAA4D8AAAAAAADgPwAAAAAAAAAAAAAAAAAA8D8=",
            "dtype": "f8"
           },
           "z": {
            "bdata": "AAAAAAAAAAAAAAAAAAAAALpJDAIrh7Y/ukkMAiuHtj8=",
            "dtype": "f8"
           }
          },
          {
           "name": "Fixed Nodes",
           "type": "scatter3d",
           "x": [],
           "y": [],
           "z": []
          },
          {
           "name": "Edges",
           "type": "scatter3d",
           "x": [
            0,
            1,
            null,
            0.5,
            0.5,
            null
           ],
           "y": [
            0.5,
            0.5,
            null,
            0,
            1,
            null
           ],
           "z": [
            0,
            0,
            null,
            0.088,
            0.088,
            null
           ]
          },
          {
           "i": [],
           "j": [],
           "k": [],
           "name": "Faces",
           "type": "mesh3d",
           "x": {
            "bdata": "AAAAAAAAAAAAAAAAAADwPwAAAAAAAOA/AAAAAAAA4D8=",
            "dtype": "f8"
           },
           "y": {
            "bdata": "AAAAAAAA4D8AAAAAAADgPwAAAAAAAAAAAAAAAAAA8D8=",
            "dtype": "f8"
           },
           "z": {
            "bdata": "AAAAAAAAAAAAAAAAAAAAALpJDAIrh7Y/ukkMAiuHtj8=",
            "dtype": "f8"
           }
          }
         ],
         "layout": {
          "annotations": [
           {
            "showarrow": false,
            "text": "Time: 0.11s (Step: 12/100)",
            "x": 0.05,
            "xref": "paper",
            "y": 0.95,
            "yref": "paper"
           }
          ]
         },
         "name": "11"
        },
        {
         "data": [
          {
           "name": "Free Nodes",
           "type": "scatter3d",
           "x": {
            "bdata": "AAAAAAAAAAAAAAAAAADwPwAAAAAAAOA/AAAAAAAA4D8=",
            "dtype": "f8"
           },
           "y": {
            "bdata": "AAAAAAAA4D8AAAAAAADgPwAAAAAAAAAAAAAAAAAA8D8=",
            "dtype": "f8"
           },
           "z": {
            "bdata": "AAAAAAAAAAAAAAAAAAAAABKDwMqhRbY/EoPAyqFFtj8=",
            "dtype": "f8"
           }
          },
          {
           "name": "Fixed Nodes",
           "type": "scatter3d",
           "x": [],
           "y": [],
           "z": []
          },
          {
           "name": "Edges",
           "type": "scatter3d",
           "x": [
            0,
            1,
            null,
            0.5,
            0.5,
            null
           ],
           "y": [
            0.5,
            0.5,
            null,
            0,
            1,
            null
           ],
           "z": [
            0,
            0,
            null,
            0.087,
            0.087,
            null
           ]
          },
          {
           "i": [],
           "j": [],
           "k": [],
           "name": "Faces",
           "type": "mesh3d",
           "x": {
            "bdata": "AAAAAAAAAAAAAAAAAADwPwAAAAAAAOA/AAAAAAAA4D8=",
            "dtype": "f8"
           },
           "y": {
            "bdata": "AAAAAAAA4D8AAAAAAADgPwAAAAAAAAAAAAAAAAAA8D8=",
            "dtype": "f8"
           },
           "z": {
            "bdata": "AAAAAAAAAAAAAAAAAAAAABKDwMqhRbY/EoPAyqFFtj8=",
            "dtype": "f8"
           }
          }
         ],
         "layout": {
          "annotations": [
           {
            "showarrow": false,
            "text": "Time: 0.12s (Step: 13/100)",
            "x": 0.05,
            "xref": "paper",
            "y": 0.95,
            "yref": "paper"
           }
          ]
         },
         "name": "12"
        },
        {
         "data": [
          {
           "name": "Free Nodes",
           "type": "scatter3d",
           "x": {
            "bdata": "AAAAAAAAAAAAAAAAAADwPwAAAAAAAOA/AAAAAAAA4D8=",
            "dtype": "f8"
           },
           "y": {
            "bdata": "AAAAAAAA4D8AAAAAAADgPwAAAAAAAAAAAAAAAAAA8D8=",
            "dtype": "f8"
           },
           "z": {
            "bdata": "AAAAAAAAAAAAAAAAAAAAAGq8dJMYBLY/arx0kxgEtj8=",
            "dtype": "f8"
           }
          },
          {
           "name": "Fixed Nodes",
           "type": "scatter3d",
           "x": [],
           "y": [],
           "z": []
          },
          {
           "name": "Edges",
           "type": "scatter3d",
           "x": [
            0,
            1,
            null,
            0.5,
            0.5,
            null
           ],
           "y": [
            0.5,
            0.5,
            null,
            0,
            1,
            null
           ],
           "z": [
            0,
            0,
            null,
            0.086,
            0.086,
            null
           ]
          },
          {
           "i": [],
           "j": [],
           "k": [],
           "name": "Faces",
           "type": "mesh3d",
           "x": {
            "bdata": "AAAAAAAAAAAAAAAAAADwPwAAAAAAAOA/AAAAAAAA4D8=",
            "dtype": "f8"
           },
           "y": {
            "bdata": "AAAAAAAA4D8AAAAAAADgPwAAAAAAAAAAAAAAAAAA8D8=",
            "dtype": "f8"
           },
           "z": {
            "bdata": "AAAAAAAAAAAAAAAAAAAAAGq8dJMYBLY/arx0kxgEtj8=",
            "dtype": "f8"
           }
          }
         ],
         "layout": {
          "annotations": [
           {
            "showarrow": false,
            "text": "Time: 0.13s (Step: 14/100)",
            "x": 0.05,
            "xref": "paper",
            "y": 0.95,
            "yref": "paper"
           }
          ]
         },
         "name": "13"
        },
        {
         "data": [
          {
           "name": "Free Nodes",
           "type": "scatter3d",
           "x": {
            "bdata": "AAAAAAAAAAAAAAAAAADwPwAAAAAAAOA/AAAAAAAA4D8=",
            "dtype": "f8"
           },
           "y": {
            "bdata": "AAAAAAAA4D8AAAAAAADgPwAAAAAAAAAAAAAAAAAA8D8=",
            "dtype": "f8"
           },
           "z": {
            "bdata": "AAAAAAAAAAAAAAAAAAAAAML1KFyPwrU/wvUoXI/CtT8=",
            "dtype": "f8"
           }
          },
          {
           "name": "Fixed Nodes",
           "type": "scatter3d",
           "x": [],
           "y": [],
           "z": []
          },
          {
           "name": "Edges",
           "type": "scatter3d",
           "x": [
            0,
            1,
            null,
            0.5,
            0.5,
            null
           ],
           "y": [
            0.5,
            0.5,
            null,
            0,
            1,
            null
           ],
           "z": [
            0,
            0,
            null,
            0.08499999999999999,
            0.08499999999999999,
            null
           ]
          },
          {
           "i": [],
           "j": [],
           "k": [],
           "name": "Faces",
           "type": "mesh3d",
           "x": {
            "bdata": "AAAAAAAAAAAAAAAAAADwPwAAAAAAAOA/AAAAAAAA4D8=",
            "dtype": "f8"
           },
           "y": {
            "bdata": "AAAAAAAA4D8AAAAAAADgPwAAAAAAAAAAAAAAAAAA8D8=",
            "dtype": "f8"
           },
           "z": {
            "bdata": "AAAAAAAAAAAAAAAAAAAAAML1KFyPwrU/wvUoXI/CtT8=",
            "dtype": "f8"
           }
          }
         ],
         "layout": {
          "annotations": [
           {
            "showarrow": false,
            "text": "Time: 0.14s (Step: 15/100)",
            "x": 0.05,
            "xref": "paper",
            "y": 0.95,
            "yref": "paper"
           }
          ]
         },
         "name": "14"
        },
        {
         "data": [
          {
           "name": "Free Nodes",
           "type": "scatter3d",
           "x": {
            "bdata": "AAAAAAAAAAAAAAAAAADwPwAAAAAAAOA/AAAAAAAA4D8=",
            "dtype": "f8"
           },
           "y": {
            "bdata": "AAAAAAAA4D8AAAAAAADgPwAAAAAAAAAAAAAAAAAA8D8=",
            "dtype": "f8"
           },
           "z": {
            "bdata": "AAAAAAAAAAAAAAAAAAAAABov3SQGgbU/Gi/dJAaBtT8=",
            "dtype": "f8"
           }
          },
          {
           "name": "Fixed Nodes",
           "type": "scatter3d",
           "x": [],
           "y": [],
           "z": []
          },
          {
           "name": "Edges",
           "type": "scatter3d",
           "x": [
            0,
            1,
            null,
            0.5,
            0.5,
            null
           ],
           "y": [
            0.5,
            0.5,
            null,
            0,
            1,
            null
           ],
           "z": [
            0,
            0,
            null,
            0.08399999999999999,
            0.08399999999999999,
            null
           ]
          },
          {
           "i": [],
           "j": [],
           "k": [],
           "name": "Faces",
           "type": "mesh3d",
           "x": {
            "bdata": "AAAAAAAAAAAAAAAAAADwPwAAAAAAAOA/AAAAAAAA4D8=",
            "dtype": "f8"
           },
           "y": {
            "bdata": "AAAAAAAA4D8AAAAAAADgPwAAAAAAAAAAAAAAAAAA8D8=",
            "dtype": "f8"
           },
           "z": {
            "bdata": "AAAAAAAAAAAAAAAAAAAAABov3SQGgbU/Gi/dJAaBtT8=",
            "dtype": "f8"
           }
          }
         ],
         "layout": {
          "annotations": [
           {
            "showarrow": false,
            "text": "Time: 0.15s (Step: 16/100)",
            "x": 0.05,
            "xref": "paper",
            "y": 0.95,
            "yref": "paper"
           }
          ]
         },
         "name": "15"
        },
        {
         "data": [
          {
           "name": "Free Nodes",
           "type": "scatter3d",
           "x": {
            "bdata": "AAAAAAAAAAAAAAAAAADwPwAAAAAAAOA/AAAAAAAA4D8=",
            "dtype": "f8"
           },
           "y": {
            "bdata": "AAAAAAAA4D8AAAAAAADgPwAAAAAAAAAAAAAAAAAA8D8=",
            "dtype": "f8"
           },
           "z": {
            "bdata": "AAAAAAAAAAAAAAAAAAAAAHJoke18P7U/cmiR7Xw/tT8=",
            "dtype": "f8"
           }
          },
          {
           "name": "Fixed Nodes",
           "type": "scatter3d",
           "x": [],
           "y": [],
           "z": []
          },
          {
           "name": "Edges",
           "type": "scatter3d",
           "x": [
            0,
            1,
            null,
            0.5,
            0.5,
            null
           ],
           "y": [
            0.5,
            0.5,
            null,
            0,
            1,
            null
           ],
           "z": [
            0,
            0,
            null,
            0.08299999999999999,
            0.08299999999999999,
            null
           ]
          },
          {
           "i": [],
           "j": [],
           "k": [],
           "name": "Faces",
           "type": "mesh3d",
           "x": {
            "bdata": "AAAAAAAAAAAAAAAAAADwPwAAAAAAAOA/AAAAAAAA4D8=",
            "dtype": "f8"
           },
           "y": {
            "bdata": "AAAAAAAA4D8AAAAAAADgPwAAAAAAAAAAAAAAAAAA8D8=",
            "dtype": "f8"
           },
           "z": {
            "bdata": "AAAAAAAAAAAAAAAAAAAAAHJoke18P7U/cmiR7Xw/tT8=",
            "dtype": "f8"
           }
          }
         ],
         "layout": {
          "annotations": [
           {
            "showarrow": false,
            "text": "Time: 0.16s (Step: 17/100)",
            "x": 0.05,
            "xref": "paper",
            "y": 0.95,
            "yref": "paper"
           }
          ]
         },
         "name": "16"
        },
        {
         "data": [
          {
           "name": "Free Nodes",
           "type": "scatter3d",
           "x": {
            "bdata": "AAAAAAAAAAAAAAAAAADwPwAAAAAAAOA/AAAAAAAA4D8=",
            "dtype": "f8"
           },
           "y": {
            "bdata": "AAAAAAAA4D8AAAAAAADgPwAAAAAAAAAAAAAAAAAA8D8=",
            "dtype": "f8"
           },
           "z": {
            "bdata": "AAAAAAAAAAAAAAAAAAAAAMqhRbbz/bQ/yqFFtvP9tD8=",
            "dtype": "f8"
           }
          },
          {
           "name": "Fixed Nodes",
           "type": "scatter3d",
           "x": [],
           "y": [],
           "z": []
          },
          {
           "name": "Edges",
           "type": "scatter3d",
           "x": [
            0,
            1,
            null,
            0.5,
            0.5,
            null
           ],
           "y": [
            0.5,
            0.5,
            null,
            0,
            1,
            null
           ],
           "z": [
            0,
            0,
            null,
            0.08199999999999999,
            0.08199999999999999,
            null
           ]
          },
          {
           "i": [],
           "j": [],
           "k": [],
           "name": "Faces",
           "type": "mesh3d",
           "x": {
            "bdata": "AAAAAAAAAAAAAAAAAADwPwAAAAAAAOA/AAAAAAAA4D8=",
            "dtype": "f8"
           },
           "y": {
            "bdata": "AAAAAAAA4D8AAAAAAADgPwAAAAAAAAAAAAAAAAAA8D8=",
            "dtype": "f8"
           },
           "z": {
            "bdata": "AAAAAAAAAAAAAAAAAAAAAMqhRbbz/bQ/yqFFtvP9tD8=",
            "dtype": "f8"
           }
          }
         ],
         "layout": {
          "annotations": [
           {
            "showarrow": false,
            "text": "Time: 0.17s (Step: 18/100)",
            "x": 0.05,
            "xref": "paper",
            "y": 0.95,
            "yref": "paper"
           }
          ]
         },
         "name": "17"
        },
        {
         "data": [
          {
           "name": "Free Nodes",
           "type": "scatter3d",
           "x": {
            "bdata": "AAAAAAAAAAAAAAAAAADwPwAAAAAAAOA/AAAAAAAA4D8=",
            "dtype": "f8"
           },
           "y": {
            "bdata": "AAAAAAAA4D8AAAAAAADgPwAAAAAAAAAAAAAAAAAA8D8=",
            "dtype": "f8"
           },
           "z": {
            "bdata": "AAAAAAAAAAAAAAAAAAAAACLb+X5qvLQ/Itv5fmq8tD8=",
            "dtype": "f8"
           }
          },
          {
           "name": "Fixed Nodes",
           "type": "scatter3d",
           "x": [],
           "y": [],
           "z": []
          },
          {
           "name": "Edges",
           "type": "scatter3d",
           "x": [
            0,
            1,
            null,
            0.5,
            0.5,
            null
           ],
           "y": [
            0.5,
            0.5,
            null,
            0,
            1,
            null
           ],
           "z": [
            0,
            0,
            null,
            0.08099999999999999,
            0.08099999999999999,
            null
           ]
          },
          {
           "i": [],
           "j": [],
           "k": [],
           "name": "Faces",
           "type": "mesh3d",
           "x": {
            "bdata": "AAAAAAAAAAAAAAAAAADwPwAAAAAAAOA/AAAAAAAA4D8=",
            "dtype": "f8"
           },
           "y": {
            "bdata": "AAAAAAAA4D8AAAAAAADgPwAAAAAAAAAAAAAAAAAA8D8=",
            "dtype": "f8"
           },
           "z": {
            "bdata": "AAAAAAAAAAAAAAAAAAAAACLb+X5qvLQ/Itv5fmq8tD8=",
            "dtype": "f8"
           }
          }
         ],
         "layout": {
          "annotations": [
           {
            "showarrow": false,
            "text": "Time: 0.18s (Step: 19/100)",
            "x": 0.05,
            "xref": "paper",
            "y": 0.95,
            "yref": "paper"
           }
          ]
         },
         "name": "18"
        },
        {
         "data": [
          {
           "name": "Free Nodes",
           "type": "scatter3d",
           "x": {
            "bdata": "AAAAAAAAAAAAAAAAAADwPwAAAAAAAOA/AAAAAAAA4D8=",
            "dtype": "f8"
           },
           "y": {
            "bdata": "AAAAAAAA4D8AAAAAAADgPwAAAAAAAAAAAAAAAAAA8D8=",
            "dtype": "f8"
           },
           "z": {
            "bdata": "AAAAAAAAAAAAAAAAAAAAAHoUrkfherQ/ehSuR+F6tD8=",
            "dtype": "f8"
           }
          },
          {
           "name": "Fixed Nodes",
           "type": "scatter3d",
           "x": [],
           "y": [],
           "z": []
          },
          {
           "name": "Edges",
           "type": "scatter3d",
           "x": [
            0,
            1,
            null,
            0.5,
            0.5,
            null
           ],
           "y": [
            0.5,
            0.5,
            null,
            0,
            1,
            null
           ],
           "z": [
            0,
            0,
            null,
            0.07999999999999999,
            0.07999999999999999,
            null
           ]
          },
          {
           "i": [],
           "j": [],
           "k": [],
           "name": "Faces",
           "type": "mesh3d",
           "x": {
            "bdata": "AAAAAAAAAAAAAAAAAADwPwAAAAAAAOA/AAAAAAAA4D8=",
            "dtype": "f8"
           },
           "y": {
            "bdata": "AAAAAAAA4D8AAAAAAADgPwAAAAAAAAAAAAAAAAAA8D8=",
            "dtype": "f8"
           },
           "z": {
            "bdata": "AAAAAAAAAAAAAAAAAAAAAHoUrkfherQ/ehSuR+F6tD8=",
            "dtype": "f8"
           }
          }
         ],
         "layout": {
          "annotations": [
           {
            "showarrow": false,
            "text": "Time: 0.19s (Step: 20/100)",
            "x": 0.05,
            "xref": "paper",
            "y": 0.95,
            "yref": "paper"
           }
          ]
         },
         "name": "19"
        },
        {
         "data": [
          {
           "name": "Free Nodes",
           "type": "scatter3d",
           "x": {
            "bdata": "AAAAAAAAAAAAAAAAAADwPwAAAAAAAOA/AAAAAAAA4D8=",
            "dtype": "f8"
           },
           "y": {
            "bdata": "AAAAAAAA4D8AAAAAAADgPwAAAAAAAAAAAAAAAAAA8D8=",
            "dtype": "f8"
           },
           "z": {
            "bdata": "AAAAAAAAAAAAAAAAAAAAANJNYhBYObQ/0k1iEFg5tD8=",
            "dtype": "f8"
           }
          },
          {
           "name": "Fixed Nodes",
           "type": "scatter3d",
           "x": [],
           "y": [],
           "z": []
          },
          {
           "name": "Edges",
           "type": "scatter3d",
           "x": [
            0,
            1,
            null,
            0.5,
            0.5,
            null
           ],
           "y": [
            0.5,
            0.5,
            null,
            0,
            1,
            null
           ],
           "z": [
            0,
            0,
            null,
            0.07899999999999999,
            0.07899999999999999,
            null
           ]
          },
          {
           "i": [],
           "j": [],
           "k": [],
           "name": "Faces",
           "type": "mesh3d",
           "x": {
            "bdata": "AAAAAAAAAAAAAAAAAADwPwAAAAAAAOA/AAAAAAAA4D8=",
            "dtype": "f8"
           },
           "y": {
            "bdata": "AAAAAAAA4D8AAAAAAADgPwAAAAAAAAAAAAAAAAAA8D8=",
            "dtype": "f8"
           },
           "z": {
            "bdata": "AAAAAAAAAAAAAAAAAAAAANJNYhBYObQ/0k1iEFg5tD8=",
            "dtype": "f8"
           }
          }
         ],
         "layout": {
          "annotations": [
           {
            "showarrow": false,
            "text": "Time: 0.20s (Step: 21/100)",
            "x": 0.05,
            "xref": "paper",
            "y": 0.95,
            "yref": "paper"
           }
          ]
         },
         "name": "20"
        },
        {
         "data": [
          {
           "name": "Free Nodes",
           "type": "scatter3d",
           "x": {
            "bdata": "AAAAAAAAAAAAAAAAAADwPwAAAAAAAOA/AAAAAAAA4D8=",
            "dtype": "f8"
           },
           "y": {
            "bdata": "AAAAAAAA4D8AAAAAAADgPwAAAAAAAAAAAAAAAAAA8D8=",
            "dtype": "f8"
           },
           "z": {
            "bdata": "AAAAAAAAAAAAAAAAAAAAACqHFtnO97M/KocW2c73sz8=",
            "dtype": "f8"
           }
          },
          {
           "name": "Fixed Nodes",
           "type": "scatter3d",
           "x": [],
           "y": [],
           "z": []
          },
          {
           "name": "Edges",
           "type": "scatter3d",
           "x": [
            0,
            1,
            null,
            0.5,
            0.5,
            null
           ],
           "y": [
            0.5,
            0.5,
            null,
            0,
            1,
            null
           ],
           "z": [
            0,
            0,
            null,
            0.07799999999999999,
            0.07799999999999999,
            null
           ]
          },
          {
           "i": [],
           "j": [],
           "k": [],
           "name": "Faces",
           "type": "mesh3d",
           "x": {
            "bdata": "AAAAAAAAAAAAAAAAAADwPwAAAAAAAOA/AAAAAAAA4D8=",
            "dtype": "f8"
           },
           "y": {
            "bdata": "AAAAAAAA4D8AAAAAAADgPwAAAAAAAAAAAAAAAAAA8D8=",
            "dtype": "f8"
           },
           "z": {
            "bdata": "AAAAAAAAAAAAAAAAAAAAACqHFtnO97M/KocW2c73sz8=",
            "dtype": "f8"
           }
          }
         ],
         "layout": {
          "annotations": [
           {
            "showarrow": false,
            "text": "Time: 0.21s (Step: 22/100)",
            "x": 0.05,
            "xref": "paper",
            "y": 0.95,
            "yref": "paper"
           }
          ]
         },
         "name": "21"
        },
        {
         "data": [
          {
           "name": "Free Nodes",
           "type": "scatter3d",
           "x": {
            "bdata": "AAAAAAAAAAAAAAAAAADwPwAAAAAAAOA/AAAAAAAA4D8=",
            "dtype": "f8"
           },
           "y": {
            "bdata": "AAAAAAAA4D8AAAAAAADgPwAAAAAAAAAAAAAAAAAA8D8=",
            "dtype": "f8"
           },
           "z": {
            "bdata": "AAAAAAAAAAAAAAAAAAAAAILAyqFFtrM/gsDKoUW2sz8=",
            "dtype": "f8"
           }
          },
          {
           "name": "Fixed Nodes",
           "type": "scatter3d",
           "x": [],
           "y": [],
           "z": []
          },
          {
           "name": "Edges",
           "type": "scatter3d",
           "x": [
            0,
            1,
            null,
            0.5,
            0.5,
            null
           ],
           "y": [
            0.5,
            0.5,
            null,
            0,
            1,
            null
           ],
           "z": [
            0,
            0,
            null,
            0.07699999999999999,
            0.07699999999999999,
            null
           ]
          },
          {
           "i": [],
           "j": [],
           "k": [],
           "name": "Faces",
           "type": "mesh3d",
           "x": {
            "bdata": "AAAAAAAAAAAAAAAAAADwPwAAAAAAAOA/AAAAAAAA4D8=",
            "dtype": "f8"
           },
           "y": {
            "bdata": "AAAAAAAA4D8AAAAAAADgPwAAAAAAAAAAAAAAAAAA8D8=",
            "dtype": "f8"
           },
           "z": {
            "bdata": "AAAAAAAAAAAAAAAAAAAAAILAyqFFtrM/gsDKoUW2sz8=",
            "dtype": "f8"
           }
          }
         ],
         "layout": {
          "annotations": [
           {
            "showarrow": false,
            "text": "Time: 0.22s (Step: 23/100)",
            "x": 0.05,
            "xref": "paper",
            "y": 0.95,
            "yref": "paper"
           }
          ]
         },
         "name": "22"
        },
        {
         "data": [
          {
           "name": "Free Nodes",
           "type": "scatter3d",
           "x": {
            "bdata": "AAAAAAAAAAAAAAAAAADwPwAAAAAAAOA/AAAAAAAA4D8=",
            "dtype": "f8"
           },
           "y": {
            "bdata": "AAAAAAAA4D8AAAAAAADgPwAAAAAAAAAAAAAAAAAA8D8=",
            "dtype": "f8"
           },
           "z": {
            "bdata": "AAAAAAAAAAAAAAAAAAAAANr5fmq8dLM/2vl+arx0sz8=",
            "dtype": "f8"
           }
          },
          {
           "name": "Fixed Nodes",
           "type": "scatter3d",
           "x": [],
           "y": [],
           "z": []
          },
          {
           "name": "Edges",
           "type": "scatter3d",
           "x": [
            0,
            1,
            null,
            0.5,
            0.5,
            null
           ],
           "y": [
            0.5,
            0.5,
            null,
            0,
            1,
            null
           ],
           "z": [
            0,
            0,
            null,
            0.07599999999999998,
            0.07599999999999998,
            null
           ]
          },
          {
           "i": [],
           "j": [],
           "k": [],
           "name": "Faces",
           "type": "mesh3d",
           "x": {
            "bdata": "AAAAAAAAAAAAAAAAAADwPwAAAAAAAOA/AAAAAAAA4D8=",
            "dtype": "f8"
           },
           "y": {
            "bdata": "AAAAAAAA4D8AAAAAAADgPwAAAAAAAAAAAAAAAAAA8D8=",
            "dtype": "f8"
           },
           "z": {
            "bdata": "AAAAAAAAAAAAAAAAAAAAANr5fmq8dLM/2vl+arx0sz8=",
            "dtype": "f8"
           }
          }
         ],
         "layout": {
          "annotations": [
           {
            "showarrow": false,
            "text": "Time: 0.23s (Step: 24/100)",
            "x": 0.05,
            "xref": "paper",
            "y": 0.95,
            "yref": "paper"
           }
          ]
         },
         "name": "23"
        },
        {
         "data": [
          {
           "name": "Free Nodes",
           "type": "scatter3d",
           "x": {
            "bdata": "AAAAAAAAAAAAAAAAAADwPwAAAAAAAOA/AAAAAAAA4D8=",
            "dtype": "f8"
           },
           "y": {
            "bdata": "AAAAAAAA4D8AAAAAAADgPwAAAAAAAAAAAAAAAAAA8D8=",
            "dtype": "f8"
           },
           "z": {
            "bdata": "AAAAAAAAAAAAAAAAAAAAADIzMzMzM7M/MjMzMzMzsz8=",
            "dtype": "f8"
           }
          },
          {
           "name": "Fixed Nodes",
           "type": "scatter3d",
           "x": [],
           "y": [],
           "z": []
          },
          {
           "name": "Edges",
           "type": "scatter3d",
           "x": [
            0,
            1,
            null,
            0.5,
            0.5,
            null
           ],
           "y": [
            0.5,
            0.5,
            null,
            0,
            1,
            null
           ],
           "z": [
            0,
            0,
            null,
            0.07499999999999998,
            0.07499999999999998,
            null
           ]
          },
          {
           "i": [],
           "j": [],
           "k": [],
           "name": "Faces",
           "type": "mesh3d",
           "x": {
            "bdata": "AAAAAAAAAAAAAAAAAADwPwAAAAAAAOA/AAAAAAAA4D8=",
            "dtype": "f8"
           },
           "y": {
            "bdata": "AAAAAAAA4D8AAAAAAADgPwAAAAAAAAAAAAAAAAAA8D8=",
            "dtype": "f8"
           },
           "z": {
            "bdata": "AAAAAAAAAAAAAAAAAAAAADIzMzMzM7M/MjMzMzMzsz8=",
            "dtype": "f8"
           }
          }
         ],
         "layout": {
          "annotations": [
           {
            "showarrow": false,
            "text": "Time: 0.24s (Step: 25/100)",
            "x": 0.05,
            "xref": "paper",
            "y": 0.95,
            "yref": "paper"
           }
          ]
         },
         "name": "24"
        },
        {
         "data": [
          {
           "name": "Free Nodes",
           "type": "scatter3d",
           "x": {
            "bdata": "AAAAAAAAAAAAAAAAAADwPwAAAAAAAOA/AAAAAAAA4D8=",
            "dtype": "f8"
           },
           "y": {
            "bdata": "AAAAAAAA4D8AAAAAAADgPwAAAAAAAAAAAAAAAAAA8D8=",
            "dtype": "f8"
           },
           "z": {
            "bdata": "AAAAAAAAAAAAAAAAAAAAAIps5/up8bI/imzn+6nxsj8=",
            "dtype": "f8"
           }
          },
          {
           "name": "Fixed Nodes",
           "type": "scatter3d",
           "x": [],
           "y": [],
           "z": []
          },
          {
           "name": "Edges",
           "type": "scatter3d",
           "x": [
            0,
            1,
            null,
            0.5,
            0.5,
            null
           ],
           "y": [
            0.5,
            0.5,
            null,
            0,
            1,
            null
           ],
           "z": [
            0,
            0,
            null,
            0.07399999999999998,
            0.07399999999999998,
            null
           ]
          },
          {
           "i": [],
           "j": [],
           "k": [],
           "name": "Faces",
           "type": "mesh3d",
           "x": {
            "bdata": "AAAAAAAAAAAAAAAAAADwPwAAAAAAAOA/AAAAAAAA4D8=",
            "dtype": "f8"
           },
           "y": {
            "bdata": "AAAAAAAA4D8AAAAAAADgPwAAAAAAAAAAAAAAAAAA8D8=",
            "dtype": "f8"
           },
           "z": {
            "bdata": "AAAAAAAAAAAAAAAAAAAAAIps5/up8bI/imzn+6nxsj8=",
            "dtype": "f8"
           }
          }
         ],
         "layout": {
          "annotations": [
           {
            "showarrow": false,
            "text": "Time: 0.25s (Step: 26/100)",
            "x": 0.05,
            "xref": "paper",
            "y": 0.95,
            "yref": "paper"
           }
          ]
         },
         "name": "25"
        },
        {
         "data": [
          {
           "name": "Free Nodes",
           "type": "scatter3d",
           "x": {
            "bdata": "AAAAAAAAAAAAAAAAAADwPwAAAAAAAOA/AAAAAAAA4D8=",
            "dtype": "f8"
           },
           "y": {
            "bdata": "AAAAAAAA4D8AAAAAAADgPwAAAAAAAAAAAAAAAAAA8D8=",
            "dtype": "f8"
           },
           "z": {
            "bdata": "AAAAAAAAAAAAAAAAAAAAAOKlm8QgsLI/4qWbxCCwsj8=",
            "dtype": "f8"
           }
          },
          {
           "name": "Fixed Nodes",
           "type": "scatter3d",
           "x": [],
           "y": [],
           "z": []
          },
          {
           "name": "Edges",
           "type": "scatter3d",
           "x": [
            0,
            1,
            null,
            0.5,
            0.5,
            null
           ],
           "y": [
            0.5,
            0.5,
            null,
            0,
            1,
            null
           ],
           "z": [
            0,
            0,
            null,
            0.07299999999999998,
            0.07299999999999998,
            null
           ]
          },
          {
           "i": [],
           "j": [],
           "k": [],
           "name": "Faces",
           "type": "mesh3d",
           "x": {
            "bdata": "AAAAAAAAAAAAAAAAAADwPwAAAAAAAOA/AAAAAAAA4D8=",
            "dtype": "f8"
           },
           "y": {
            "bdata": "AAAAAAAA4D8AAAAAAADgPwAAAAAAAAAAAAAAAAAA8D8=",
            "dtype": "f8"
           },
           "z": {
            "bdata": "AAAAAAAAAAAAAAAAAAAAAOKlm8QgsLI/4qWbxCCwsj8=",
            "dtype": "f8"
           }
          }
         ],
         "layout": {
          "annotations": [
           {
            "showarrow": false,
            "text": "Time: 0.26s (Step: 27/100)",
            "x": 0.05,
            "xref": "paper",
            "y": 0.95,
            "yref": "paper"
           }
          ]
         },
         "name": "26"
        },
        {
         "data": [
          {
           "name": "Free Nodes",
           "type": "scatter3d",
           "x": {
            "bdata": "AAAAAAAAAAAAAAAAAADwPwAAAAAAAOA/AAAAAAAA4D8=",
            "dtype": "f8"
           },
           "y": {
            "bdata": "AAAAAAAA4D8AAAAAAADgPwAAAAAAAAAAAAAAAAAA8D8=",
            "dtype": "f8"
           },
           "z": {
            "bdata": "AAAAAAAAAAAAAAAAAAAAADrfT42XbrI/Ot9PjZdusj8=",
            "dtype": "f8"
           }
          },
          {
           "name": "Fixed Nodes",
           "type": "scatter3d",
           "x": [],
           "y": [],
           "z": []
          },
          {
           "name": "Edges",
           "type": "scatter3d",
           "x": [
            0,
            1,
            null,
            0.5,
            0.5,
            null
           ],
           "y": [
            0.5,
            0.5,
            null,
            0,
            1,
            null
           ],
           "z": [
            0,
            0,
            null,
            0.07199999999999998,
            0.07199999999999998,
            null
           ]
          },
          {
           "i": [],
           "j": [],
           "k": [],
           "name": "Faces",
           "type": "mesh3d",
           "x": {
            "bdata": "AAAAAAAAAAAAAAAAAADwPwAAAAAAAOA/AAAAAAAA4D8=",
            "dtype": "f8"
           },
           "y": {
            "bdata": "AAAAAAAA4D8AAAAAAADgPwAAAAAAAAAAAAAAAAAA8D8=",
            "dtype": "f8"
           },
           "z": {
            "bdata": "AAAAAAAAAAAAAAAAAAAAADrfT42XbrI/Ot9PjZdusj8=",
            "dtype": "f8"
           }
          }
         ],
         "layout": {
          "annotations": [
           {
            "showarrow": false,
            "text": "Time: 0.27s (Step: 28/100)",
            "x": 0.05,
            "xref": "paper",
            "y": 0.95,
            "yref": "paper"
           }
          ]
         },
         "name": "27"
        },
        {
         "data": [
          {
           "name": "Free Nodes",
           "type": "scatter3d",
           "x": {
            "bdata": "AAAAAAAAAAAAAAAAAADwPwAAAAAAAOA/AAAAAAAA4D8=",
            "dtype": "f8"
           },
           "y": {
            "bdata": "AAAAAAAA4D8AAAAAAADgPwAAAAAAAAAAAAAAAAAA8D8=",
            "dtype": "f8"
           },
           "z": {
            "bdata": "AAAAAAAAAAAAAAAAAAAAAJIYBFYOLbI/khgEVg4tsj8=",
            "dtype": "f8"
           }
          },
          {
           "name": "Fixed Nodes",
           "type": "scatter3d",
           "x": [],
           "y": [],
           "z": []
          },
          {
           "name": "Edges",
           "type": "scatter3d",
           "x": [
            0,
            1,
            null,
            0.5,
            0.5,
            null
           ],
           "y": [
            0.5,
            0.5,
            null,
            0,
            1,
            null
           ],
           "z": [
            0,
            0,
            null,
            0.07099999999999998,
            0.07099999999999998,
            null
           ]
          },
          {
           "i": [],
           "j": [],
           "k": [],
           "name": "Faces",
           "type": "mesh3d",
           "x": {
            "bdata": "AAAAAAAAAAAAAAAAAADwPwAAAAAAAOA/AAAAAAAA4D8=",
            "dtype": "f8"
           },
           "y": {
            "bdata": "AAAAAAAA4D8AAAAAAADgPwAAAAAAAAAAAAAAAAAA8D8=",
            "dtype": "f8"
           },
           "z": {
            "bdata": "AAAAAAAAAAAAAAAAAAAAAJIYBFYOLbI/khgEVg4tsj8=",
            "dtype": "f8"
           }
          }
         ],
         "layout": {
          "annotations": [
           {
            "showarrow": false,
            "text": "Time: 0.28s (Step: 29/100)",
            "x": 0.05,
            "xref": "paper",
            "y": 0.95,
            "yref": "paper"
           }
          ]
         },
         "name": "28"
        },
        {
         "data": [
          {
           "name": "Free Nodes",
           "type": "scatter3d",
           "x": {
            "bdata": "AAAAAAAAAAAAAAAAAADwPwAAAAAAAOA/AAAAAAAA4D8=",
            "dtype": "f8"
           },
           "y": {
            "bdata": "AAAAAAAA4D8AAAAAAADgPwAAAAAAAAAAAAAAAAAA8D8=",
            "dtype": "f8"
           },
           "z": {
            "bdata": "AAAAAAAAAAAAAAAAAAAAAOpRuB6F67E/6lG4HoXrsT8=",
            "dtype": "f8"
           }
          },
          {
           "name": "Fixed Nodes",
           "type": "scatter3d",
           "x": [],
           "y": [],
           "z": []
          },
          {
           "name": "Edges",
           "type": "scatter3d",
           "x": [
            0,
            1,
            null,
            0.5,
            0.5,
            null
           ],
           "y": [
            0.5,
            0.5,
            null,
            0,
            1,
            null
           ],
           "z": [
            0,
            0,
            null,
            0.06999999999999998,
            0.06999999999999998,
            null
           ]
          },
          {
           "i": [],
           "j": [],
           "k": [],
           "name": "Faces",
           "type": "mesh3d",
           "x": {
            "bdata": "AAAAAAAAAAAAAAAAAADwPwAAAAAAAOA/AAAAAAAA4D8=",
            "dtype": "f8"
           },
           "y": {
            "bdata": "AAAAAAAA4D8AAAAAAADgPwAAAAAAAAAAAAAAAAAA8D8=",
            "dtype": "f8"
           },
           "z": {
            "bdata": "AAAAAAAAAAAAAAAAAAAAAOpRuB6F67E/6lG4HoXrsT8=",
            "dtype": "f8"
           }
          }
         ],
         "layout": {
          "annotations": [
           {
            "showarrow": false,
            "text": "Time: 0.29s (Step: 30/100)",
            "x": 0.05,
            "xref": "paper",
            "y": 0.95,
            "yref": "paper"
           }
          ]
         },
         "name": "29"
        },
        {
         "data": [
          {
           "name": "Free Nodes",
           "type": "scatter3d",
           "x": {
            "bdata": "AAAAAAAAAAAAAAAAAADwPwAAAAAAAOA/AAAAAAAA4D8=",
            "dtype": "f8"
           },
           "y": {
            "bdata": "AAAAAAAA4D8AAAAAAADgPwAAAAAAAAAAAAAAAAAA8D8=",
            "dtype": "f8"
           },
           "z": {
            "bdata": "AAAAAAAAAAAAAAAAAAAAAEKLbOf7qbE/Qots5/upsT8=",
            "dtype": "f8"
           }
          },
          {
           "name": "Fixed Nodes",
           "type": "scatter3d",
           "x": [],
           "y": [],
           "z": []
          },
          {
           "name": "Edges",
           "type": "scatter3d",
           "x": [
            0,
            1,
            null,
            0.5,
            0.5,
            null
           ],
           "y": [
            0.5,
            0.5,
            null,
            0,
            1,
            null
           ],
           "z": [
            0,
            0,
            null,
            0.06899999999999998,
            0.06899999999999998,
            null
           ]
          },
          {
           "i": [],
           "j": [],
           "k": [],
           "name": "Faces",
           "type": "mesh3d",
           "x": {
            "bdata": "AAAAAAAAAAAAAAAAAADwPwAAAAAAAOA/AAAAAAAA4D8=",
            "dtype": "f8"
           },
           "y": {
            "bdata": "AAAAAAAA4D8AAAAAAADgPwAAAAAAAAAAAAAAAAAA8D8=",
            "dtype": "f8"
           },
           "z": {
            "bdata": "AAAAAAAAAAAAAAAAAAAAAEKLbOf7qbE/Qots5/upsT8=",
            "dtype": "f8"
           }
          }
         ],
         "layout": {
          "annotations": [
           {
            "showarrow": false,
            "text": "Time: 0.30s (Step: 31/100)",
            "x": 0.05,
            "xref": "paper",
            "y": 0.95,
            "yref": "paper"
           }
          ]
         },
         "name": "30"
        },
        {
         "data": [
          {
           "name": "Free Nodes",
           "type": "scatter3d",
           "x": {
            "bdata": "AAAAAAAAAAAAAAAAAADwPwAAAAAAAOA/AAAAAAAA4D8=",
            "dtype": "f8"
           },
           "y": {
            "bdata": "AAAAAAAA4D8AAAAAAADgPwAAAAAAAAAAAAAAAAAA8D8=",
            "dtype": "f8"
           },
           "z": {
            "bdata": "AAAAAAAAAAAAAAAAAAAAAJrEILByaLE/msQgsHJosT8=",
            "dtype": "f8"
           }
          },
          {
           "name": "Fixed Nodes",
           "type": "scatter3d",
           "x": [],
           "y": [],
           "z": []
          },
          {
           "name": "Edges",
           "type": "scatter3d",
           "x": [
            0,
            1,
            null,
            0.5,
            0.5,
            null
           ],
           "y": [
            0.5,
            0.5,
            null,
            0,
            1,
            null
           ],
           "z": [
            0,
            0,
            null,
            0.06799999999999998,
            0.06799999999999998,
            null
           ]
          },
          {
           "i": [],
           "j": [],
           "k": [],
           "name": "Faces",
           "type": "mesh3d",
           "x": {
            "bdata": "AAAAAAAAAAAAAAAAAADwPwAAAAAAAOA/AAAAAAAA4D8=",
            "dtype": "f8"
           },
           "y": {
            "bdata": "AAAAAAAA4D8AAAAAAADgPwAAAAAAAAAAAAAAAAAA8D8=",
            "dtype": "f8"
           },
           "z": {
            "bdata": "AAAAAAAAAAAAAAAAAAAAAJrEILByaLE/msQgsHJosT8=",
            "dtype": "f8"
           }
          }
         ],
         "layout": {
          "annotations": [
           {
            "showarrow": false,
            "text": "Time: 0.31s (Step: 32/100)",
            "x": 0.05,
            "xref": "paper",
            "y": 0.95,
            "yref": "paper"
           }
          ]
         },
         "name": "31"
        },
        {
         "data": [
          {
           "name": "Free Nodes",
           "type": "scatter3d",
           "x": {
            "bdata": "AAAAAAAAAAAAAAAAAADwPwAAAAAAAOA/AAAAAAAA4D8=",
            "dtype": "f8"
           },
           "y": {
            "bdata": "AAAAAAAA4D8AAAAAAADgPwAAAAAAAAAAAAAAAAAA8D8=",
            "dtype": "f8"
           },
           "z": {
            "bdata": "AAAAAAAAAAAAAAAAAAAAAPL91HjpJrE/8v3UeOkmsT8=",
            "dtype": "f8"
           }
          },
          {
           "name": "Fixed Nodes",
           "type": "scatter3d",
           "x": [],
           "y": [],
           "z": []
          },
          {
           "name": "Edges",
           "type": "scatter3d",
           "x": [
            0,
            1,
            null,
            0.5,
            0.5,
            null
           ],
           "y": [
            0.5,
            0.5,
            null,
            0,
            1,
            null
           ],
           "z": [
            0,
            0,
            null,
            0.06699999999999998,
            0.06699999999999998,
            null
           ]
          },
          {
           "i": [],
           "j": [],
           "k": [],
           "name": "Faces",
           "type": "mesh3d",
           "x": {
            "bdata": "AAAAAAAAAAAAAAAAAADwPwAAAAAAAOA/AAAAAAAA4D8=",
            "dtype": "f8"
           },
           "y": {
            "bdata": "AAAAAAAA4D8AAAAAAADgPwAAAAAAAAAAAAAAAAAA8D8=",
            "dtype": "f8"
           },
           "z": {
            "bdata": "AAAAAAAAAAAAAAAAAAAAAPL91HjpJrE/8v3UeOkmsT8=",
            "dtype": "f8"
           }
          }
         ],
         "layout": {
          "annotations": [
           {
            "showarrow": false,
            "text": "Time: 0.32s (Step: 33/100)",
            "x": 0.05,
            "xref": "paper",
            "y": 0.95,
            "yref": "paper"
           }
          ]
         },
         "name": "32"
        },
        {
         "data": [
          {
           "name": "Free Nodes",
           "type": "scatter3d",
           "x": {
            "bdata": "AAAAAAAAAAAAAAAAAADwPwAAAAAAAOA/AAAAAAAA4D8=",
            "dtype": "f8"
           },
           "y": {
            "bdata": "AAAAAAAA4D8AAAAAAADgPwAAAAAAAAAAAAAAAAAA8D8=",
            "dtype": "f8"
           },
           "z": {
            "bdata": "AAAAAAAAAAAAAAAAAAAAAEo3iUFg5bA/SjeJQWDlsD8=",
            "dtype": "f8"
           }
          },
          {
           "name": "Fixed Nodes",
           "type": "scatter3d",
           "x": [],
           "y": [],
           "z": []
          },
          {
           "name": "Edges",
           "type": "scatter3d",
           "x": [
            0,
            1,
            null,
            0.5,
            0.5,
            null
           ],
           "y": [
            0.5,
            0.5,
            null,
            0,
            1,
            null
           ],
           "z": [
            0,
            0,
            null,
            0.06599999999999998,
            0.06599999999999998,
            null
           ]
          },
          {
           "i": [],
           "j": [],
           "k": [],
           "name": "Faces",
           "type": "mesh3d",
           "x": {
            "bdata": "AAAAAAAAAAAAAAAAAADwPwAAAAAAAOA/AAAAAAAA4D8=",
            "dtype": "f8"
           },
           "y": {
            "bdata": "AAAAAAAA4D8AAAAAAADgPwAAAAAAAAAAAAAAAAAA8D8=",
            "dtype": "f8"
           },
           "z": {
            "bdata": "AAAAAAAAAAAAAAAAAAAAAEo3iUFg5bA/SjeJQWDlsD8=",
            "dtype": "f8"
           }
          }
         ],
         "layout": {
          "annotations": [
           {
            "showarrow": false,
            "text": "Time: 0.33s (Step: 34/100)",
            "x": 0.05,
            "xref": "paper",
            "y": 0.95,
            "yref": "paper"
           }
          ]
         },
         "name": "33"
        },
        {
         "data": [
          {
           "name": "Free Nodes",
           "type": "scatter3d",
           "x": {
            "bdata": "AAAAAAAAAAAAAAAAAADwPwAAAAAAAOA/AAAAAAAA4D8=",
            "dtype": "f8"
           },
           "y": {
            "bdata": "AAAAAAAA4D8AAAAAAADgPwAAAAAAAAAAAAAAAAAA8D8=",
            "dtype": "f8"
           },
           "z": {
            "bdata": "AAAAAAAAAAAAAAAAAAAAAKJwPQrXo7A/onA9CtejsD8=",
            "dtype": "f8"
           }
          },
          {
           "name": "Fixed Nodes",
           "type": "scatter3d",
           "x": [],
           "y": [],
           "z": []
          },
          {
           "name": "Edges",
           "type": "scatter3d",
           "x": [
            0,
            1,
            null,
            0.5,
            0.5,
            null
           ],
           "y": [
            0.5,
            0.5,
            null,
            0,
            1,
            null
           ],
           "z": [
            0,
            0,
            null,
            0.06499999999999997,
            0.06499999999999997,
            null
           ]
          },
          {
           "i": [],
           "j": [],
           "k": [],
           "name": "Faces",
           "type": "mesh3d",
           "x": {
            "bdata": "AAAAAAAAAAAAAAAAAADwPwAAAAAAAOA/AAAAAAAA4D8=",
            "dtype": "f8"
           },
           "y": {
            "bdata": "AAAAAAAA4D8AAAAAAADgPwAAAAAAAAAAAAAAAAAA8D8=",
            "dtype": "f8"
           },
           "z": {
            "bdata": "AAAAAAAAAAAAAAAAAAAAAKJwPQrXo7A/onA9CtejsD8=",
            "dtype": "f8"
           }
          }
         ],
         "layout": {
          "annotations": [
           {
            "showarrow": false,
            "text": "Time: 0.34s (Step: 35/100)",
            "x": 0.05,
            "xref": "paper",
            "y": 0.95,
            "yref": "paper"
           }
          ]
         },
         "name": "34"
        },
        {
         "data": [
          {
           "name": "Free Nodes",
           "type": "scatter3d",
           "x": {
            "bdata": "AAAAAAAAAAAAAAAAAADwPwAAAAAAAOA/AAAAAAAA4D8=",
            "dtype": "f8"
           },
           "y": {
            "bdata": "AAAAAAAA4D8AAAAAAADgPwAAAAAAAAAAAAAAAAAA8D8=",
            "dtype": "f8"
           },
           "z": {
            "bdata": "AAAAAAAAAAAAAAAAAAAAAPqp8dJNYrA/+qnx0k1isD8=",
            "dtype": "f8"
           }
          },
          {
           "name": "Fixed Nodes",
           "type": "scatter3d",
           "x": [],
           "y": [],
           "z": []
          },
          {
           "name": "Edges",
           "type": "scatter3d",
           "x": [
            0,
            1,
            null,
            0.5,
            0.5,
            null
           ],
           "y": [
            0.5,
            0.5,
            null,
            0,
            1,
            null
           ],
           "z": [
            0,
            0,
            null,
            0.06399999999999997,
            0.06399999999999997,
            null
           ]
          },
          {
           "i": [],
           "j": [],
           "k": [],
           "name": "Faces",
           "type": "mesh3d",
           "x": {
            "bdata": "AAAAAAAAAAAAAAAAAADwPwAAAAAAAOA/AAAAAAAA4D8=",
            "dtype": "f8"
           },
           "y": {
            "bdata": "AAAAAAAA4D8AAAAAAADgPwAAAAAAAAAAAAAAAAAA8D8=",
            "dtype": "f8"
           },
           "z": {
            "bdata": "AAAAAAAAAAAAAAAAAAAAAPqp8dJNYrA/+qnx0k1isD8=",
            "dtype": "f8"
           }
          }
         ],
         "layout": {
          "annotations": [
           {
            "showarrow": false,
            "text": "Time: 0.35s (Step: 36/100)",
            "x": 0.05,
            "xref": "paper",
            "y": 0.95,
            "yref": "paper"
           }
          ]
         },
         "name": "35"
        },
        {
         "data": [
          {
           "name": "Free Nodes",
           "type": "scatter3d",
           "x": {
            "bdata": "AAAAAAAAAAAAAAAAAADwPwAAAAAAAOA/AAAAAAAA4D8=",
            "dtype": "f8"
           },
           "y": {
            "bdata": "AAAAAAAA4D8AAAAAAADgPwAAAAAAAAAAAAAAAAAA8D8=",
            "dtype": "f8"
           },
           "z": {
            "bdata": "AAAAAAAAAAAAAAAAAAAAAFLjpZvEILA/UuOlm8QgsD8=",
            "dtype": "f8"
           }
          },
          {
           "name": "Fixed Nodes",
           "type": "scatter3d",
           "x": [],
           "y": [],
           "z": []
          },
          {
           "name": "Edges",
           "type": "scatter3d",
           "x": [
            0,
            1,
            null,
            0.5,
            0.5,
            null
           ],
           "y": [
            0.5,
            0.5,
            null,
            0,
            1,
            null
           ],
           "z": [
            0,
            0,
            null,
            0.06299999999999997,
            0.06299999999999997,
            null
           ]
          },
          {
           "i": [],
           "j": [],
           "k": [],
           "name": "Faces",
           "type": "mesh3d",
           "x": {
            "bdata": "AAAAAAAAAAAAAAAAAADwPwAAAAAAAOA/AAAAAAAA4D8=",
            "dtype": "f8"
           },
           "y": {
            "bdata": "AAAAAAAA4D8AAAAAAADgPwAAAAAAAAAAAAAAAAAA8D8=",
            "dtype": "f8"
           },
           "z": {
            "bdata": "AAAAAAAAAAAAAAAAAAAAAFLjpZvEILA/UuOlm8QgsD8=",
            "dtype": "f8"
           }
          }
         ],
         "layout": {
          "annotations": [
           {
            "showarrow": false,
            "text": "Time: 0.36s (Step: 37/100)",
            "x": 0.05,
            "xref": "paper",
            "y": 0.95,
            "yref": "paper"
           }
          ]
         },
         "name": "36"
        },
        {
         "data": [
          {
           "name": "Free Nodes",
           "type": "scatter3d",
           "x": {
            "bdata": "AAAAAAAAAAAAAAAAAADwPwAAAAAAAOA/AAAAAAAA4D8=",
            "dtype": "f8"
           },
           "y": {
            "bdata": "AAAAAAAA4D8AAAAAAADgPwAAAAAAAAAAAAAAAAAA8D8=",
            "dtype": "f8"
           },
           "z": {
            "bdata": "AAAAAAAAAAAAAAAAAAAAAFQ5tMh2vq8/VDm0yHa+rz8=",
            "dtype": "f8"
           }
          },
          {
           "name": "Fixed Nodes",
           "type": "scatter3d",
           "x": [],
           "y": [],
           "z": []
          },
          {
           "name": "Edges",
           "type": "scatter3d",
           "x": [
            0,
            1,
            null,
            0.5,
            0.5,
            null
           ],
           "y": [
            0.5,
            0.5,
            null,
            0,
            1,
            null
           ],
           "z": [
            0,
            0,
            null,
            0.06199999999999997,
            0.06199999999999997,
            null
           ]
          },
          {
           "i": [],
           "j": [],
           "k": [],
           "name": "Faces",
           "type": "mesh3d",
           "x": {
            "bdata": "AAAAAAAAAAAAAAAAAADwPwAAAAAAAOA/AAAAAAAA4D8=",
            "dtype": "f8"
           },
           "y": {
            "bdata": "AAAAAAAA4D8AAAAAAADgPwAAAAAAAAAAAAAAAAAA8D8=",
            "dtype": "f8"
           },
           "z": {
            "bdata": "AAAAAAAAAAAAAAAAAAAAAFQ5tMh2vq8/VDm0yHa+rz8=",
            "dtype": "f8"
           }
          }
         ],
         "layout": {
          "annotations": [
           {
            "showarrow": false,
            "text": "Time: 0.37s (Step: 38/100)",
            "x": 0.05,
            "xref": "paper",
            "y": 0.95,
            "yref": "paper"
           }
          ]
         },
         "name": "37"
        },
        {
         "data": [
          {
           "name": "Free Nodes",
           "type": "scatter3d",
           "x": {
            "bdata": "AAAAAAAAAAAAAAAAAADwPwAAAAAAAOA/AAAAAAAA4D8=",
            "dtype": "f8"
           },
           "y": {
            "bdata": "AAAAAAAA4D8AAAAAAADgPwAAAAAAAAAAAAAAAAAA8D8=",
            "dtype": "f8"
           },
           "z": {
            "bdata": "AAAAAAAAAAAAAAAAAAAAAASsHFpkO68/BKwcWmQ7rz8=",
            "dtype": "f8"
           }
          },
          {
           "name": "Fixed Nodes",
           "type": "scatter3d",
           "x": [],
           "y": [],
           "z": []
          },
          {
           "name": "Edges",
           "type": "scatter3d",
           "x": [
            0,
            1,
            null,
            0.5,
            0.5,
            null
           ],
           "y": [
            0.5,
            0.5,
            null,
            0,
            1,
            null
           ],
           "z": [
            0,
            0,
            null,
            0.06099999999999997,
            0.06099999999999997,
            null
           ]
          },
          {
           "i": [],
           "j": [],
           "k": [],
           "name": "Faces",
           "type": "mesh3d",
           "x": {
            "bdata": "AAAAAAAAAAAAAAAAAADwPwAAAAAAAOA/AAAAAAAA4D8=",
            "dtype": "f8"
           },
           "y": {
            "bdata": "AAAAAAAA4D8AAAAAAADgPwAAAAAAAAAAAAAAAAAA8D8=",
            "dtype": "f8"
           },
           "z": {
            "bdata": "AAAAAAAAAAAAAAAAAAAAAASsHFpkO68/BKwcWmQ7rz8=",
            "dtype": "f8"
           }
          }
         ],
         "layout": {
          "annotations": [
           {
            "showarrow": false,
            "text": "Time: 0.38s (Step: 39/100)",
            "x": 0.05,
            "xref": "paper",
            "y": 0.95,
            "yref": "paper"
           }
          ]
         },
         "name": "38"
        },
        {
         "data": [
          {
           "name": "Free Nodes",
           "type": "scatter3d",
           "x": {
            "bdata": "AAAAAAAAAAAAAAAAAADwPwAAAAAAAOA/AAAAAAAA4D8=",
            "dtype": "f8"
           },
           "y": {
            "bdata": "AAAAAAAA4D8AAAAAAADgPwAAAAAAAAAAAAAAAAAA8D8=",
            "dtype": "f8"
           },
           "z": {
            "bdata": "AAAAAAAAAAAAAAAAAAAAALQehetRuK4/tB6F61G4rj8=",
            "dtype": "f8"
           }
          },
          {
           "name": "Fixed Nodes",
           "type": "scatter3d",
           "x": [],
           "y": [],
           "z": []
          },
          {
           "name": "Edges",
           "type": "scatter3d",
           "x": [
            0,
            1,
            null,
            0.5,
            0.5,
            null
           ],
           "y": [
            0.5,
            0.5,
            null,
            0,
            1,
            null
           ],
           "z": [
            0,
            0,
            null,
            0.05999999999999997,
            0.05999999999999997,
            null
           ]
          },
          {
           "i": [],
           "j": [],
           "k": [],
           "name": "Faces",
           "type": "mesh3d",
           "x": {
            "bdata": "AAAAAAAAAAAAAAAAAADwPwAAAAAAAOA/AAAAAAAA4D8=",
            "dtype": "f8"
           },
           "y": {
            "bdata": "AAAAAAAA4D8AAAAAAADgPwAAAAAAAAAAAAAAAAAA8D8=",
            "dtype": "f8"
           },
           "z": {
            "bdata": "AAAAAAAAAAAAAAAAAAAAALQehetRuK4/tB6F61G4rj8=",
            "dtype": "f8"
           }
          }
         ],
         "layout": {
          "annotations": [
           {
            "showarrow": false,
            "text": "Time: 0.39s (Step: 40/100)",
            "x": 0.05,
            "xref": "paper",
            "y": 0.95,
            "yref": "paper"
           }
          ]
         },
         "name": "39"
        },
        {
         "data": [
          {
           "name": "Free Nodes",
           "type": "scatter3d",
           "x": {
            "bdata": "AAAAAAAAAAAAAAAAAADwPwAAAAAAAOA/AAAAAAAA4D8=",
            "dtype": "f8"
           },
           "y": {
            "bdata": "AAAAAAAA4D8AAAAAAADgPwAAAAAAAAAAAAAAAAAA8D8=",
            "dtype": "f8"
           },
           "z": {
            "bdata": "AAAAAAAAAAAAAAAAAAAAAGSR7Xw/Na4/ZJHtfD81rj8=",
            "dtype": "f8"
           }
          },
          {
           "name": "Fixed Nodes",
           "type": "scatter3d",
           "x": [],
           "y": [],
           "z": []
          },
          {
           "name": "Edges",
           "type": "scatter3d",
           "x": [
            0,
            1,
            null,
            0.5,
            0.5,
            null
           ],
           "y": [
            0.5,
            0.5,
            null,
            0,
            1,
            null
           ],
           "z": [
            0,
            0,
            null,
            0.05899999999999997,
            0.05899999999999997,
            null
           ]
          },
          {
           "i": [],
           "j": [],
           "k": [],
           "name": "Faces",
           "type": "mesh3d",
           "x": {
            "bdata": "AAAAAAAAAAAAAAAAAADwPwAAAAAAAOA/AAAAAAAA4D8=",
            "dtype": "f8"
           },
           "y": {
            "bdata": "AAAAAAAA4D8AAAAAAADgPwAAAAAAAAAAAAAAAAAA8D8=",
            "dtype": "f8"
           },
           "z": {
            "bdata": "AAAAAAAAAAAAAAAAAAAAAGSR7Xw/Na4/ZJHtfD81rj8=",
            "dtype": "f8"
           }
          }
         ],
         "layout": {
          "annotations": [
           {
            "showarrow": false,
            "text": "Time: 0.40s (Step: 41/100)",
            "x": 0.05,
            "xref": "paper",
            "y": 0.95,
            "yref": "paper"
           }
          ]
         },
         "name": "40"
        },
        {
         "data": [
          {
           "name": "Free Nodes",
           "type": "scatter3d",
           "x": {
            "bdata": "AAAAAAAAAAAAAAAAAADwPwAAAAAAAOA/AAAAAAAA4D8=",
            "dtype": "f8"
           },
           "y": {
            "bdata": "AAAAAAAA4D8AAAAAAADgPwAAAAAAAAAAAAAAAAAA8D8=",
            "dtype": "f8"
           },
           "z": {
            "bdata": "AAAAAAAAAAAAAAAAAAAAABQEVg4tsq0/FARWDi2yrT8=",
            "dtype": "f8"
           }
          },
          {
           "name": "Fixed Nodes",
           "type": "scatter3d",
           "x": [],
           "y": [],
           "z": []
          },
          {
           "name": "Edges",
           "type": "scatter3d",
           "x": [
            0,
            1,
            null,
            0.5,
            0.5,
            null
           ],
           "y": [
            0.5,
            0.5,
            null,
            0,
            1,
            null
           ],
           "z": [
            0,
            0,
            null,
            0.05799999999999997,
            0.05799999999999997,
            null
           ]
          },
          {
           "i": [],
           "j": [],
           "k": [],
           "name": "Faces",
           "type": "mesh3d",
           "x": {
            "bdata": "AAAAAAAAAAAAAAAAAADwPwAAAAAAAOA/AAAAAAAA4D8=",
            "dtype": "f8"
           },
           "y": {
            "bdata": "AAAAAAAA4D8AAAAAAADgPwAAAAAAAAAAAAAAAAAA8D8=",
            "dtype": "f8"
           },
           "z": {
            "bdata": "AAAAAAAAAAAAAAAAAAAAABQEVg4tsq0/FARWDi2yrT8=",
            "dtype": "f8"
           }
          }
         ],
         "layout": {
          "annotations": [
           {
            "showarrow": false,
            "text": "Time: 0.41s (Step: 42/100)",
            "x": 0.05,
            "xref": "paper",
            "y": 0.95,
            "yref": "paper"
           }
          ]
         },
         "name": "41"
        },
        {
         "data": [
          {
           "name": "Free Nodes",
           "type": "scatter3d",
           "x": {
            "bdata": "AAAAAAAAAAAAAAAAAADwPwAAAAAAAOA/AAAAAAAA4D8=",
            "dtype": "f8"
           },
           "y": {
            "bdata": "AAAAAAAA4D8AAAAAAADgPwAAAAAAAAAAAAAAAAAA8D8=",
            "dtype": "f8"
           },
           "z": {
            "bdata": "AAAAAAAAAAAAAAAAAAAAAMR2vp8aL60/xHa+nxovrT8=",
            "dtype": "f8"
           }
          },
          {
           "name": "Fixed Nodes",
           "type": "scatter3d",
           "x": [],
           "y": [],
           "z": []
          },
          {
           "name": "Edges",
           "type": "scatter3d",
           "x": [
            0,
            1,
            null,
            0.5,
            0.5,
            null
           ],
           "y": [
            0.5,
            0.5,
            null,
            0,
            1,
            null
           ],
           "z": [
            0,
            0,
            null,
            0.05699999999999997,
            0.05699999999999997,
            null
           ]
          },
          {
           "i": [],
           "j": [],
           "k": [],
           "name": "Faces",
           "type": "mesh3d",
           "x": {
            "bdata": "AAAAAAAAAAAAAAAAAADwPwAAAAAAAOA/AAAAAAAA4D8=",
            "dtype": "f8"
           },
           "y": {
            "bdata": "AAAAAAAA4D8AAAAAAADgPwAAAAAAAAAAAAAAAAAA8D8=",
            "dtype": "f8"
           },
           "z": {
            "bdata": "AAAAAAAAAAAAAAAAAAAAAMR2vp8aL60/xHa+nxovrT8=",
            "dtype": "f8"
           }
          }
         ],
         "layout": {
          "annotations": [
           {
            "showarrow": false,
            "text": "Time: 0.42s (Step: 43/100)",
            "x": 0.05,
            "xref": "paper",
            "y": 0.95,
            "yref": "paper"
           }
          ]
         },
         "name": "42"
        },
        {
         "data": [
          {
           "name": "Free Nodes",
           "type": "scatter3d",
           "x": {
            "bdata": "AAAAAAAAAAAAAAAAAADwPwAAAAAAAOA/AAAAAAAA4D8=",
            "dtype": "f8"
           },
           "y": {
            "bdata": "AAAAAAAA4D8AAAAAAADgPwAAAAAAAAAAAAAAAAAA8D8=",
            "dtype": "f8"
           },
           "z": {
            "bdata": "AAAAAAAAAAAAAAAAAAAAAHTpJjEIrKw/dOkmMQisrD8=",
            "dtype": "f8"
           }
          },
          {
           "name": "Fixed Nodes",
           "type": "scatter3d",
           "x": [],
           "y": [],
           "z": []
          },
          {
           "name": "Edges",
           "type": "scatter3d",
           "x": [
            0,
            1,
            null,
            0.5,
            0.5,
            null
           ],
           "y": [
            0.5,
            0.5,
            null,
            0,
            1,
            null
           ],
           "z": [
            0,
            0,
            null,
            0.055999999999999966,
            0.055999999999999966,
            null
           ]
          },
          {
           "i": [],
           "j": [],
           "k": [],
           "name": "Faces",
           "type": "mesh3d",
           "x": {
            "bdata": "AAAAAAAAAAAAAAAAAADwPwAAAAAAAOA/AAAAAAAA4D8=",
            "dtype": "f8"
           },
           "y": {
            "bdata": "AAAAAAAA4D8AAAAAAADgPwAAAAAAAAAAAAAAAAAA8D8=",
            "dtype": "f8"
           },
           "z": {
            "bdata": "AAAAAAAAAAAAAAAAAAAAAHTpJjEIrKw/dOkmMQisrD8=",
            "dtype": "f8"
           }
          }
         ],
         "layout": {
          "annotations": [
           {
            "showarrow": false,
            "text": "Time: 0.43s (Step: 44/100)",
            "x": 0.05,
            "xref": "paper",
            "y": 0.95,
            "yref": "paper"
           }
          ]
         },
         "name": "43"
        },
        {
         "data": [
          {
           "name": "Free Nodes",
           "type": "scatter3d",
           "x": {
            "bdata": "AAAAAAAAAAAAAAAAAADwPwAAAAAAAOA/AAAAAAAA4D8=",
            "dtype": "f8"
           },
           "y": {
            "bdata": "AAAAAAAA4D8AAAAAAADgPwAAAAAAAAAAAAAAAAAA8D8=",
            "dtype": "f8"
           },
           "z": {
            "bdata": "AAAAAAAAAAAAAAAAAAAAACRcj8L1KKw/JFyPwvUorD8=",
            "dtype": "f8"
           }
          },
          {
           "name": "Fixed Nodes",
           "type": "scatter3d",
           "x": [],
           "y": [],
           "z": []
          },
          {
           "name": "Edges",
           "type": "scatter3d",
           "x": [
            0,
            1,
            null,
            0.5,
            0.5,
            null
           ],
           "y": [
            0.5,
            0.5,
            null,
            0,
            1,
            null
           ],
           "z": [
            0,
            0,
            null,
            0.054999999999999966,
            0.054999999999999966,
            null
           ]
          },
          {
           "i": [],
           "j": [],
           "k": [],
           "name": "Faces",
           "type": "mesh3d",
           "x": {
            "bdata": "AAAAAAAAAAAAAAAAAADwPwAAAAAAAOA/AAAAAAAA4D8=",
            "dtype": "f8"
           },
           "y": {
            "bdata": "AAAAAAAA4D8AAAAAAADgPwAAAAAAAAAAAAAAAAAA8D8=",
            "dtype": "f8"
           },
           "z": {
            "bdata": "AAAAAAAAAAAAAAAAAAAAACRcj8L1KKw/JFyPwvUorD8=",
            "dtype": "f8"
           }
          }
         ],
         "layout": {
          "annotations": [
           {
            "showarrow": false,
            "text": "Time: 0.44s (Step: 45/100)",
            "x": 0.05,
            "xref": "paper",
            "y": 0.95,
            "yref": "paper"
           }
          ]
         },
         "name": "44"
        },
        {
         "data": [
          {
           "name": "Free Nodes",
           "type": "scatter3d",
           "x": {
            "bdata": "AAAAAAAAAAAAAAAAAADwPwAAAAAAAOA/AAAAAAAA4D8=",
            "dtype": "f8"
           },
           "y": {
            "bdata": "AAAAAAAA4D8AAAAAAADgPwAAAAAAAAAAAAAAAAAA8D8=",
            "dtype": "f8"
           },
           "z": {
            "bdata": "AAAAAAAAAAAAAAAAAAAAANTO91Pjpas/1M73U+Olqz8=",
            "dtype": "f8"
           }
          },
          {
           "name": "Fixed Nodes",
           "type": "scatter3d",
           "x": [],
           "y": [],
           "z": []
          },
          {
           "name": "Edges",
           "type": "scatter3d",
           "x": [
            0,
            1,
            null,
            0.5,
            0.5,
            null
           ],
           "y": [
            0.5,
            0.5,
            null,
            0,
            1,
            null
           ],
           "z": [
            0,
            0,
            null,
            0.053999999999999965,
            0.053999999999999965,
            null
           ]
          },
          {
           "i": [],
           "j": [],
           "k": [],
           "name": "Faces",
           "type": "mesh3d",
           "x": {
            "bdata": "AAAAAAAAAAAAAAAAAADwPwAAAAAAAOA/AAAAAAAA4D8=",
            "dtype": "f8"
           },
           "y": {
            "bdata": "AAAAAAAA4D8AAAAAAADgPwAAAAAAAAAAAAAAAAAA8D8=",
            "dtype": "f8"
           },
           "z": {
            "bdata": "AAAAAAAAAAAAAAAAAAAAANTO91Pjpas/1M73U+Olqz8=",
            "dtype": "f8"
           }
          }
         ],
         "layout": {
          "annotations": [
           {
            "showarrow": false,
            "text": "Time: 0.45s (Step: 46/100)",
            "x": 0.05,
            "xref": "paper",
            "y": 0.95,
            "yref": "paper"
           }
          ]
         },
         "name": "45"
        },
        {
         "data": [
          {
           "name": "Free Nodes",
           "type": "scatter3d",
           "x": {
            "bdata": "AAAAAAAAAAAAAAAAAADwPwAAAAAAAOA/AAAAAAAA4D8=",
            "dtype": "f8"
           },
           "y": {
            "bdata": "AAAAAAAA4D8AAAAAAADgPwAAAAAAAAAAAAAAAAAA8D8=",
            "dtype": "f8"
           },
           "z": {
            "bdata": "AAAAAAAAAAAAAAAAAAAAAIRBYOXQIqs/hEFg5dAiqz8=",
            "dtype": "f8"
           }
          },
          {
           "name": "Fixed Nodes",
           "type": "scatter3d",
           "x": [],
           "y": [],
           "z": []
          },
          {
           "name": "Edges",
           "type": "scatter3d",
           "x": [
            0,
            1,
            null,
            0.5,
            0.5,
            null
           ],
           "y": [
            0.5,
            0.5,
            null,
            0,
            1,
            null
           ],
           "z": [
            0,
            0,
            null,
            0.052999999999999964,
            0.052999999999999964,
            null
           ]
          },
          {
           "i": [],
           "j": [],
           "k": [],
           "name": "Faces",
           "type": "mesh3d",
           "x": {
            "bdata": "AAAAAAAAAAAAAAAAAADwPwAAAAAAAOA/AAAAAAAA4D8=",
            "dtype": "f8"
           },
           "y": {
            "bdata": "AAAAAAAA4D8AAAAAAADgPwAAAAAAAAAAAAAAAAAA8D8=",
            "dtype": "f8"
           },
           "z": {
            "bdata": "AAAAAAAAAAAAAAAAAAAAAIRBYOXQIqs/hEFg5dAiqz8=",
            "dtype": "f8"
           }
          }
         ],
         "layout": {
          "annotations": [
           {
            "showarrow": false,
            "text": "Time: 0.46s (Step: 47/100)",
            "x": 0.05,
            "xref": "paper",
            "y": 0.95,
            "yref": "paper"
           }
          ]
         },
         "name": "46"
        },
        {
         "data": [
          {
           "name": "Free Nodes",
           "type": "scatter3d",
           "x": {
            "bdata": "AAAAAAAAAAAAAAAAAADwPwAAAAAAAOA/AAAAAAAA4D8=",
            "dtype": "f8"
           },
           "y": {
            "bdata": "AAAAAAAA4D8AAAAAAADgPwAAAAAAAAAAAAAAAAAA8D8=",
            "dtype": "f8"
           },
           "z": {
            "bdata": "AAAAAAAAAAAAAAAAAAAAADS0yHa+n6o/NLTIdr6fqj8=",
            "dtype": "f8"
           }
          },
          {
           "name": "Fixed Nodes",
           "type": "scatter3d",
           "x": [],
           "y": [],
           "z": []
          },
          {
           "name": "Edges",
           "type": "scatter3d",
           "x": [
            0,
            1,
            null,
            0.5,
            0.5,
            null
           ],
           "y": [
            0.5,
            0.5,
            null,
            0,
            1,
            null
           ],
           "z": [
            0,
            0,
            null,
            0.05199999999999996,
            0.05199999999999996,
            null
           ]
          },
          {
           "i": [],
           "j": [],
           "k": [],
           "name": "Faces",
           "type": "mesh3d",
           "x": {
            "bdata": "AAAAAAAAAAAAAAAAAADwPwAAAAAAAOA/AAAAAAAA4D8=",
            "dtype": "f8"
           },
           "y": {
            "bdata": "AAAAAAAA4D8AAAAAAADgPwAAAAAAAAAAAAAAAAAA8D8=",
            "dtype": "f8"
           },
           "z": {
            "bdata": "AAAAAAAAAAAAAAAAAAAAADS0yHa+n6o/NLTIdr6fqj8=",
            "dtype": "f8"
           }
          }
         ],
         "layout": {
          "annotations": [
           {
            "showarrow": false,
            "text": "Time: 0.47s (Step: 48/100)",
            "x": 0.05,
            "xref": "paper",
            "y": 0.95,
            "yref": "paper"
           }
          ]
         },
         "name": "47"
        },
        {
         "data": [
          {
           "name": "Free Nodes",
           "type": "scatter3d",
           "x": {
            "bdata": "AAAAAAAAAAAAAAAAAADwPwAAAAAAAOA/AAAAAAAA4D8=",
            "dtype": "f8"
           },
           "y": {
            "bdata": "AAAAAAAA4D8AAAAAAADgPwAAAAAAAAAAAAAAAAAA8D8=",
            "dtype": "f8"
           },
           "z": {
            "bdata": "AAAAAAAAAAAAAAAAAAAAAOQmMQisHKo/5CYxCKwcqj8=",
            "dtype": "f8"
           }
          },
          {
           "name": "Fixed Nodes",
           "type": "scatter3d",
           "x": [],
           "y": [],
           "z": []
          },
          {
           "name": "Edges",
           "type": "scatter3d",
           "x": [
            0,
            1,
            null,
            0.5,
            0.5,
            null
           ],
           "y": [
            0.5,
            0.5,
            null,
            0,
            1,
            null
           ],
           "z": [
            0,
            0,
            null,
            0.05099999999999996,
            0.05099999999999996,
            null
           ]
          },
          {
           "i": [],
           "j": [],
           "k": [],
           "name": "Faces",
           "type": "mesh3d",
           "x": {
            "bdata": "AAAAAAAAAAAAAAAAAADwPwAAAAAAAOA/AAAAAAAA4D8=",
            "dtype": "f8"
           },
           "y": {
            "bdata": "AAAAAAAA4D8AAAAAAADgPwAAAAAAAAAAAAAAAAAA8D8=",
            "dtype": "f8"
           },
           "z": {
            "bdata": "AAAAAAAAAAAAAAAAAAAAAOQmMQisHKo/5CYxCKwcqj8=",
            "dtype": "f8"
           }
          }
         ],
         "layout": {
          "annotations": [
           {
            "showarrow": false,
            "text": "Time: 0.48s (Step: 49/100)",
            "x": 0.05,
            "xref": "paper",
            "y": 0.95,
            "yref": "paper"
           }
          ]
         },
         "name": "48"
        },
        {
         "data": [
          {
           "name": "Free Nodes",
           "type": "scatter3d",
           "x": {
            "bdata": "AAAAAAAAAAAAAAAAAADwPwAAAAAAAOA/AAAAAAAA4D8=",
            "dtype": "f8"
           },
           "y": {
            "bdata": "AAAAAAAA4D8AAAAAAADgPwAAAAAAAAAAAAAAAAAA8D8=",
            "dtype": "f8"
           },
           "z": {
            "bdata": "AAAAAAAAAAAAAAAAAAAAAJSZmZmZmak/lJmZmZmZqT8=",
            "dtype": "f8"
           }
          },
          {
           "name": "Fixed Nodes",
           "type": "scatter3d",
           "x": [],
           "y": [],
           "z": []
          },
          {
           "name": "Edges",
           "type": "scatter3d",
           "x": [
            0,
            1,
            null,
            0.5,
            0.5,
            null
           ],
           "y": [
            0.5,
            0.5,
            null,
            0,
            1,
            null
           ],
           "z": [
            0,
            0,
            null,
            0.04999999999999996,
            0.04999999999999996,
            null
           ]
          },
          {
           "i": [],
           "j": [],
           "k": [],
           "name": "Faces",
           "type": "mesh3d",
           "x": {
            "bdata": "AAAAAAAAAAAAAAAAAADwPwAAAAAAAOA/AAAAAAAA4D8=",
            "dtype": "f8"
           },
           "y": {
            "bdata": "AAAAAAAA4D8AAAAAAADgPwAAAAAAAAAAAAAAAAAA8D8=",
            "dtype": "f8"
           },
           "z": {
            "bdata": "AAAAAAAAAAAAAAAAAAAAAJSZmZmZmak/lJmZmZmZqT8=",
            "dtype": "f8"
           }
          }
         ],
         "layout": {
          "annotations": [
           {
            "showarrow": false,
            "text": "Time: 0.49s (Step: 50/100)",
            "x": 0.05,
            "xref": "paper",
            "y": 0.95,
            "yref": "paper"
           }
          ]
         },
         "name": "49"
        },
        {
         "data": [
          {
           "name": "Free Nodes",
           "type": "scatter3d",
           "x": {
            "bdata": "AAAAAAAAAAAAAAAAAADwPwAAAAAAAOA/AAAAAAAA4D8=",
            "dtype": "f8"
           },
           "y": {
            "bdata": "AAAAAAAA4D8AAAAAAADgPwAAAAAAAAAAAAAAAAAA8D8=",
            "dtype": "f8"
           },
           "z": {
            "bdata": "AAAAAAAAAAAAAAAAAAAAAEQMAiuHFqk/RAwCK4cWqT8=",
            "dtype": "f8"
           }
          },
          {
           "name": "Fixed Nodes",
           "type": "scatter3d",
           "x": [],
           "y": [],
           "z": []
          },
          {
           "name": "Edges",
           "type": "scatter3d",
           "x": [
            0,
            1,
            null,
            0.5,
            0.5,
            null
           ],
           "y": [
            0.5,
            0.5,
            null,
            0,
            1,
            null
           ],
           "z": [
            0,
            0,
            null,
            0.04899999999999996,
            0.04899999999999996,
            null
           ]
          },
          {
           "i": [],
           "j": [],
           "k": [],
           "name": "Faces",
           "type": "mesh3d",
           "x": {
            "bdata": "AAAAAAAAAAAAAAAAAADwPwAAAAAAAOA/AAAAAAAA4D8=",
            "dtype": "f8"
           },
           "y": {
            "bdata": "AAAAAAAA4D8AAAAAAADgPwAAAAAAAAAAAAAAAAAA8D8=",
            "dtype": "f8"
           },
           "z": {
            "bdata": "AAAAAAAAAAAAAAAAAAAAAEQMAiuHFqk/RAwCK4cWqT8=",
            "dtype": "f8"
           }
          }
         ],
         "layout": {
          "annotations": [
           {
            "showarrow": false,
            "text": "Time: 0.50s (Step: 51/100)",
            "x": 0.05,
            "xref": "paper",
            "y": 0.95,
            "yref": "paper"
           }
          ]
         },
         "name": "50"
        },
        {
         "data": [
          {
           "name": "Free Nodes",
           "type": "scatter3d",
           "x": {
            "bdata": "AAAAAAAAAAAAAAAAAADwPwAAAAAAAOA/AAAAAAAA4D8=",
            "dtype": "f8"
           },
           "y": {
            "bdata": "AAAAAAAA4D8AAAAAAADgPwAAAAAAAAAAAAAAAAAA8D8=",
            "dtype": "f8"
           },
           "z": {
            "bdata": "AAAAAAAAAAAAAAAAAAAAAPR+arx0k6g/9H5qvHSTqD8=",
            "dtype": "f8"
           }
          },
          {
           "name": "Fixed Nodes",
           "type": "scatter3d",
           "x": [],
           "y": [],
           "z": []
          },
          {
           "name": "Edges",
           "type": "scatter3d",
           "x": [
            0,
            1,
            null,
            0.5,
            0.5,
            null
           ],
           "y": [
            0.5,
            0.5,
            null,
            0,
            1,
            null
           ],
           "z": [
            0,
            0,
            null,
            0.04799999999999996,
            0.04799999999999996,
            null
           ]
          },
          {
           "i": [],
           "j": [],
           "k": [],
           "name": "Faces",
           "type": "mesh3d",
           "x": {
            "bdata": "AAAAAAAAAAAAAAAAAADwPwAAAAAAAOA/AAAAAAAA4D8=",
            "dtype": "f8"
           },
           "y": {
            "bdata": "AAAAAAAA4D8AAAAAAADgPwAAAAAAAAAAAAAAAAAA8D8=",
            "dtype": "f8"
           },
           "z": {
            "bdata": "AAAAAAAAAAAAAAAAAAAAAPR+arx0k6g/9H5qvHSTqD8=",
            "dtype": "f8"
           }
          }
         ],
         "layout": {
          "annotations": [
           {
            "showarrow": false,
            "text": "Time: 0.51s (Step: 52/100)",
            "x": 0.05,
            "xref": "paper",
            "y": 0.95,
            "yref": "paper"
           }
          ]
         },
         "name": "51"
        },
        {
         "data": [
          {
           "name": "Free Nodes",
           "type": "scatter3d",
           "x": {
            "bdata": "AAAAAAAAAAAAAAAAAADwPwAAAAAAAOA/AAAAAAAA4D8=",
            "dtype": "f8"
           },
           "y": {
            "bdata": "AAAAAAAA4D8AAAAAAADgPwAAAAAAAAAAAAAAAAAA8D8=",
            "dtype": "f8"
           },
           "z": {
            "bdata": "AAAAAAAAAAAAAAAAAAAAAKTx0k1iEKg/pPHSTWIQqD8=",
            "dtype": "f8"
           }
          },
          {
           "name": "Fixed Nodes",
           "type": "scatter3d",
           "x": [],
           "y": [],
           "z": []
          },
          {
           "name": "Edges",
           "type": "scatter3d",
           "x": [
            0,
            1,
            null,
            0.5,
            0.5,
            null
           ],
           "y": [
            0.5,
            0.5,
            null,
            0,
            1,
            null
           ],
           "z": [
            0,
            0,
            null,
            0.04699999999999996,
            0.04699999999999996,
            null
           ]
          },
          {
           "i": [],
           "j": [],
           "k": [],
           "name": "Faces",
           "type": "mesh3d",
           "x": {
            "bdata": "AAAAAAAAAAAAAAAAAADwPwAAAAAAAOA/AAAAAAAA4D8=",
            "dtype": "f8"
           },
           "y": {
            "bdata": "AAAAAAAA4D8AAAAAAADgPwAAAAAAAAAAAAAAAAAA8D8=",
            "dtype": "f8"
           },
           "z": {
            "bdata": "AAAAAAAAAAAAAAAAAAAAAKTx0k1iEKg/pPHSTWIQqD8=",
            "dtype": "f8"
           }
          }
         ],
         "layout": {
          "annotations": [
           {
            "showarrow": false,
            "text": "Time: 0.52s (Step: 53/100)",
            "x": 0.05,
            "xref": "paper",
            "y": 0.95,
            "yref": "paper"
           }
          ]
         },
         "name": "52"
        },
        {
         "data": [
          {
           "name": "Free Nodes",
           "type": "scatter3d",
           "x": {
            "bdata": "AAAAAAAAAAAAAAAAAADwPwAAAAAAAOA/AAAAAAAA4D8=",
            "dtype": "f8"
           },
           "y": {
            "bdata": "AAAAAAAA4D8AAAAAAADgPwAAAAAAAAAAAAAAAAAA8D8=",
            "dtype": "f8"
           },
           "z": {
            "bdata": "AAAAAAAAAAAAAAAAAAAAAFRkO99Pjac/VGQ730+Npz8=",
            "dtype": "f8"
           }
          },
          {
           "name": "Fixed Nodes",
           "type": "scatter3d",
           "x": [],
           "y": [],
           "z": []
          },
          {
           "name": "Edges",
           "type": "scatter3d",
           "x": [
            0,
            1,
            null,
            0.5,
            0.5,
            null
           ],
           "y": [
            0.5,
            0.5,
            null,
            0,
            1,
            null
           ],
           "z": [
            0,
            0,
            null,
            0.04599999999999996,
            0.04599999999999996,
            null
           ]
          },
          {
           "i": [],
           "j": [],
           "k": [],
           "name": "Faces",
           "type": "mesh3d",
           "x": {
            "bdata": "AAAAAAAAAAAAAAAAAADwPwAAAAAAAOA/AAAAAAAA4D8=",
            "dtype": "f8"
           },
           "y": {
            "bdata": "AAAAAAAA4D8AAAAAAADgPwAAAAAAAAAAAAAAAAAA8D8=",
            "dtype": "f8"
           },
           "z": {
            "bdata": "AAAAAAAAAAAAAAAAAAAAAFRkO99Pjac/VGQ730+Npz8=",
            "dtype": "f8"
           }
          }
         ],
         "layout": {
          "annotations": [
           {
            "showarrow": false,
            "text": "Time: 0.53s (Step: 54/100)",
            "x": 0.05,
            "xref": "paper",
            "y": 0.95,
            "yref": "paper"
           }
          ]
         },
         "name": "53"
        },
        {
         "data": [
          {
           "name": "Free Nodes",
           "type": "scatter3d",
           "x": {
            "bdata": "AAAAAAAAAAAAAAAAAADwPwAAAAAAAOA/AAAAAAAA4D8=",
            "dtype": "f8"
           },
           "y": {
            "bdata": "AAAAAAAA4D8AAAAAAADgPwAAAAAAAAAAAAAAAAAA8D8=",
            "dtype": "f8"
           },
           "z": {
            "bdata": "AAAAAAAAAAAAAAAAAAAAAATXo3A9Cqc/BNejcD0Kpz8=",
            "dtype": "f8"
           }
          },
          {
           "name": "Fixed Nodes",
           "type": "scatter3d",
           "x": [],
           "y": [],
           "z": []
          },
          {
           "name": "Edges",
           "type": "scatter3d",
           "x": [
            0,
            1,
            null,
            0.5,
            0.5,
            null
           ],
           "y": [
            0.5,
            0.5,
            null,
            0,
            1,
            null
           ],
           "z": [
            0,
            0,
            null,
            0.04499999999999996,
            0.04499999999999996,
            null
           ]
          },
          {
           "i": [],
           "j": [],
           "k": [],
           "name": "Faces",
           "type": "mesh3d",
           "x": {
            "bdata": "AAAAAAAAAAAAAAAAAADwPwAAAAAAAOA/AAAAAAAA4D8=",
            "dtype": "f8"
           },
           "y": {
            "bdata": "AAAAAAAA4D8AAAAAAADgPwAAAAAAAAAAAAAAAAAA8D8=",
            "dtype": "f8"
           },
           "z": {
            "bdata": "AAAAAAAAAAAAAAAAAAAAAATXo3A9Cqc/BNejcD0Kpz8=",
            "dtype": "f8"
           }
          }
         ],
         "layout": {
          "annotations": [
           {
            "showarrow": false,
            "text": "Time: 0.54s (Step: 55/100)",
            "x": 0.05,
            "xref": "paper",
            "y": 0.95,
            "yref": "paper"
           }
          ]
         },
         "name": "54"
        },
        {
         "data": [
          {
           "name": "Free Nodes",
           "type": "scatter3d",
           "x": {
            "bdata": "AAAAAAAAAAAAAAAAAADwPwAAAAAAAOA/AAAAAAAA4D8=",
            "dtype": "f8"
           },
           "y": {
            "bdata": "AAAAAAAA4D8AAAAAAADgPwAAAAAAAAAAAAAAAAAA8D8=",
            "dtype": "f8"
           },
           "z": {
            "bdata": "AAAAAAAAAAAAAAAAAAAAALRJDAIrh6Y/tEkMAiuHpj8=",
            "dtype": "f8"
           }
          },
          {
           "name": "Fixed Nodes",
           "type": "scatter3d",
           "x": [],
           "y": [],
           "z": []
          },
          {
           "name": "Edges",
           "type": "scatter3d",
           "x": [
            0,
            1,
            null,
            0.5,
            0.5,
            null
           ],
           "y": [
            0.5,
            0.5,
            null,
            0,
            1,
            null
           ],
           "z": [
            0,
            0,
            null,
            0.043999999999999956,
            0.043999999999999956,
            null
           ]
          },
          {
           "i": [],
           "j": [],
           "k": [],
           "name": "Faces",
           "type": "mesh3d",
           "x": {
            "bdata": "AAAAAAAAAAAAAAAAAADwPwAAAAAAAOA/AAAAAAAA4D8=",
            "dtype": "f8"
           },
           "y": {
            "bdata": "AAAAAAAA4D8AAAAAAADgPwAAAAAAAAAAAAAAAAAA8D8=",
            "dtype": "f8"
           },
           "z": {
            "bdata": "AAAAAAAAAAAAAAAAAAAAALRJDAIrh6Y/tEkMAiuHpj8=",
            "dtype": "f8"
           }
          }
         ],
         "layout": {
          "annotations": [
           {
            "showarrow": false,
            "text": "Time: 0.55s (Step: 56/100)",
            "x": 0.05,
            "xref": "paper",
            "y": 0.95,
            "yref": "paper"
           }
          ]
         },
         "name": "55"
        },
        {
         "data": [
          {
           "name": "Free Nodes",
           "type": "scatter3d",
           "x": {
            "bdata": "AAAAAAAAAAAAAAAAAADwPwAAAAAAAOA/AAAAAAAA4D8=",
            "dtype": "f8"
           },
           "y": {
            "bdata": "AAAAAAAA4D8AAAAAAADgPwAAAAAAAAAAAAAAAAAA8D8=",
            "dtype": "f8"
           },
           "z": {
            "bdata": "AAAAAAAAAAAAAAAAAAAAAGS8dJMYBKY/ZLx0kxgEpj8=",
            "dtype": "f8"
           }
          },
          {
           "name": "Fixed Nodes",
           "type": "scatter3d",
           "x": [],
           "y": [],
           "z": []
          },
          {
           "name": "Edges",
           "type": "scatter3d",
           "x": [
            0,
            1,
            null,
            0.5,
            0.5,
            null
           ],
           "y": [
            0.5,
            0.5,
            null,
            0,
            1,
            null
           ],
           "z": [
            0,
            0,
            null,
            0.042999999999999955,
            0.042999999999999955,
            null
           ]
          },
          {
           "i": [],
           "j": [],
           "k": [],
           "name": "Faces",
           "type": "mesh3d",
           "x": {
            "bdata": "AAAAAAAAAAAAAAAAAADwPwAAAAAAAOA/AAAAAAAA4D8=",
            "dtype": "f8"
           },
           "y": {
            "bdata": "AAAAAAAA4D8AAAAAAADgPwAAAAAAAAAAAAAAAAAA8D8=",
            "dtype": "f8"
           },
           "z": {
            "bdata": "AAAAAAAAAAAAAAAAAAAAAGS8dJMYBKY/ZLx0kxgEpj8=",
            "dtype": "f8"
           }
          }
         ],
         "layout": {
          "annotations": [
           {
            "showarrow": false,
            "text": "Time: 0.56s (Step: 57/100)",
            "x": 0.05,
            "xref": "paper",
            "y": 0.95,
            "yref": "paper"
           }
          ]
         },
         "name": "56"
        },
        {
         "data": [
          {
           "name": "Free Nodes",
           "type": "scatter3d",
           "x": {
            "bdata": "AAAAAAAAAAAAAAAAAADwPwAAAAAAAOA/AAAAAAAA4D8=",
            "dtype": "f8"
           },
           "y": {
            "bdata": "AAAAAAAA4D8AAAAAAADgPwAAAAAAAAAAAAAAAAAA8D8=",
            "dtype": "f8"
           },
           "z": {
            "bdata": "AAAAAAAAAAAAAAAAAAAAABQv3SQGgaU/FC/dJAaBpT8=",
            "dtype": "f8"
           }
          },
          {
           "name": "Fixed Nodes",
           "type": "scatter3d",
           "x": [],
           "y": [],
           "z": []
          },
          {
           "name": "Edges",
           "type": "scatter3d",
           "x": [
            0,
            1,
            null,
            0.5,
            0.5,
            null
           ],
           "y": [
            0.5,
            0.5,
            null,
            0,
            1,
            null
           ],
           "z": [
            0,
            0,
            null,
            0.041999999999999954,
            0.041999999999999954,
            null
           ]
          },
          {
           "i": [],
           "j": [],
           "k": [],
           "name": "Faces",
           "type": "mesh3d",
           "x": {
            "bdata": "AAAAAAAAAAAAAAAAAADwPwAAAAAAAOA/AAAAAAAA4D8=",
            "dtype": "f8"
           },
           "y": {
            "bdata": "AAAAAAAA4D8AAAAAAADgPwAAAAAAAAAAAAAAAAAA8D8=",
            "dtype": "f8"
           },
           "z": {
            "bdata": "AAAAAAAAAAAAAAAAAAAAABQv3SQGgaU/FC/dJAaBpT8=",
            "dtype": "f8"
           }
          }
         ],
         "layout": {
          "annotations": [
           {
            "showarrow": false,
            "text": "Time: 0.57s (Step: 58/100)",
            "x": 0.05,
            "xref": "paper",
            "y": 0.95,
            "yref": "paper"
           }
          ]
         },
         "name": "57"
        },
        {
         "data": [
          {
           "name": "Free Nodes",
           "type": "scatter3d",
           "x": {
            "bdata": "AAAAAAAAAAAAAAAAAADwPwAAAAAAAOA/AAAAAAAA4D8=",
            "dtype": "f8"
           },
           "y": {
            "bdata": "AAAAAAAA4D8AAAAAAADgPwAAAAAAAAAAAAAAAAAA8D8=",
            "dtype": "f8"
           },
           "z": {
            "bdata": "AAAAAAAAAAAAAAAAAAAAAMShRbbz/aQ/xKFFtvP9pD8=",
            "dtype": "f8"
           }
          },
          {
           "name": "Fixed Nodes",
           "type": "scatter3d",
           "x": [],
           "y": [],
           "z": []
          },
          {
           "name": "Edges",
           "type": "scatter3d",
           "x": [
            0,
            1,
            null,
            0.5,
            0.5,
            null
           ],
           "y": [
            0.5,
            0.5,
            null,
            0,
            1,
            null
           ],
           "z": [
            0,
            0,
            null,
            0.04099999999999995,
            0.04099999999999995,
            null
           ]
          },
          {
           "i": [],
           "j": [],
           "k": [],
           "name": "Faces",
           "type": "mesh3d",
           "x": {
            "bdata": "AAAAAAAAAAAAAAAAAADwPwAAAAAAAOA/AAAAAAAA4D8=",
            "dtype": "f8"
           },
           "y": {
            "bdata": "AAAAAAAA4D8AAAAAAADgPwAAAAAAAAAAAAAAAAAA8D8=",
            "dtype": "f8"
           },
           "z": {
            "bdata": "AAAAAAAAAAAAAAAAAAAAAMShRbbz/aQ/xKFFtvP9pD8=",
            "dtype": "f8"
           }
          }
         ],
         "layout": {
          "annotations": [
           {
            "showarrow": false,
            "text": "Time: 0.58s (Step: 59/100)",
            "x": 0.05,
            "xref": "paper",
            "y": 0.95,
            "yref": "paper"
           }
          ]
         },
         "name": "58"
        },
        {
         "data": [
          {
           "name": "Free Nodes",
           "type": "scatter3d",
           "x": {
            "bdata": "AAAAAAAAAAAAAAAAAADwPwAAAAAAAOA/AAAAAAAA4D8=",
            "dtype": "f8"
           },
           "y": {
            "bdata": "AAAAAAAA4D8AAAAAAADgPwAAAAAAAAAAAAAAAAAA8D8=",
            "dtype": "f8"
           },
           "z": {
            "bdata": "AAAAAAAAAAAAAAAAAAAAAHQUrkfheqQ/dBSuR+F6pD8=",
            "dtype": "f8"
           }
          },
          {
           "name": "Fixed Nodes",
           "type": "scatter3d",
           "x": [],
           "y": [],
           "z": []
          },
          {
           "name": "Edges",
           "type": "scatter3d",
           "x": [
            0,
            1,
            null,
            0.5,
            0.5,
            null
           ],
           "y": [
            0.5,
            0.5,
            null,
            0,
            1,
            null
           ],
           "z": [
            0,
            0,
            null,
            0.03999999999999995,
            0.03999999999999995,
            null
           ]
          },
          {
           "i": [],
           "j": [],
           "k": [],
           "name": "Faces",
           "type": "mesh3d",
           "x": {
            "bdata": "AAAAAAAAAAAAAAAAAADwPwAAAAAAAOA/AAAAAAAA4D8=",
            "dtype": "f8"
           },
           "y": {
            "bdata": "AAAAAAAA4D8AAAAAAADgPwAAAAAAAAAAAAAAAAAA8D8=",
            "dtype": "f8"
           },
           "z": {
            "bdata": "AAAAAAAAAAAAAAAAAAAAAHQUrkfheqQ/dBSuR+F6pD8=",
            "dtype": "f8"
           }
          }
         ],
         "layout": {
          "annotations": [
           {
            "showarrow": false,
            "text": "Time: 0.59s (Step: 60/100)",
            "x": 0.05,
            "xref": "paper",
            "y": 0.95,
            "yref": "paper"
           }
          ]
         },
         "name": "59"
        },
        {
         "data": [
          {
           "name": "Free Nodes",
           "type": "scatter3d",
           "x": {
            "bdata": "AAAAAAAAAAAAAAAAAADwPwAAAAAAAOA/AAAAAAAA4D8=",
            "dtype": "f8"
           },
           "y": {
            "bdata": "AAAAAAAA4D8AAAAAAADgPwAAAAAAAAAAAAAAAAAA8D8=",
            "dtype": "f8"
           },
           "z": {
            "bdata": "AAAAAAAAAAAAAAAAAAAAACSHFtnO96M/JIcW2c73oz8=",
            "dtype": "f8"
           }
          },
          {
           "name": "Fixed Nodes",
           "type": "scatter3d",
           "x": [],
           "y": [],
           "z": []
          },
          {
           "name": "Edges",
           "type": "scatter3d",
           "x": [
            0,
            1,
            null,
            0.5,
            0.5,
            null
           ],
           "y": [
            0.5,
            0.5,
            null,
            0,
            1,
            null
           ],
           "z": [
            0,
            0,
            null,
            0.03899999999999995,
            0.03899999999999995,
            null
           ]
          },
          {
           "i": [],
           "j": [],
           "k": [],
           "name": "Faces",
           "type": "mesh3d",
           "x": {
            "bdata": "AAAAAAAAAAAAAAAAAADwPwAAAAAAAOA/AAAAAAAA4D8=",
            "dtype": "f8"
           },
           "y": {
            "bdata": "AAAAAAAA4D8AAAAAAADgPwAAAAAAAAAAAAAAAAAA8D8=",
            "dtype": "f8"
           },
           "z": {
            "bdata": "AAAAAAAAAAAAAAAAAAAAACSHFtnO96M/JIcW2c73oz8=",
            "dtype": "f8"
           }
          }
         ],
         "layout": {
          "annotations": [
           {
            "showarrow": false,
            "text": "Time: 0.60s (Step: 61/100)",
            "x": 0.05,
            "xref": "paper",
            "y": 0.95,
            "yref": "paper"
           }
          ]
         },
         "name": "60"
        },
        {
         "data": [
          {
           "name": "Free Nodes",
           "type": "scatter3d",
           "x": {
            "bdata": "AAAAAAAAAAAAAAAAAADwPwAAAAAAAOA/AAAAAAAA4D8=",
            "dtype": "f8"
           },
           "y": {
            "bdata": "AAAAAAAA4D8AAAAAAADgPwAAAAAAAAAAAAAAAAAA8D8=",
            "dtype": "f8"
           },
           "z": {
            "bdata": "AAAAAAAAAAAAAAAAAAAAANT5fmq8dKM/1Pl+arx0oz8=",
            "dtype": "f8"
           }
          },
          {
           "name": "Fixed Nodes",
           "type": "scatter3d",
           "x": [],
           "y": [],
           "z": []
          },
          {
           "name": "Edges",
           "type": "scatter3d",
           "x": [
            0,
            1,
            null,
            0.5,
            0.5,
            null
           ],
           "y": [
            0.5,
            0.5,
            null,
            0,
            1,
            null
           ],
           "z": [
            0,
            0,
            null,
            0.03799999999999995,
            0.03799999999999995,
            null
           ]
          },
          {
           "i": [],
           "j": [],
           "k": [],
           "name": "Faces",
           "type": "mesh3d",
           "x": {
            "bdata": "AAAAAAAAAAAAAAAAAADwPwAAAAAAAOA/AAAAAAAA4D8=",
            "dtype": "f8"
           },
           "y": {
            "bdata": "AAAAAAAA4D8AAAAAAADgPwAAAAAAAAAAAAAAAAAA8D8=",
            "dtype": "f8"
           },
           "z": {
            "bdata": "AAAAAAAAAAAAAAAAAAAAANT5fmq8dKM/1Pl+arx0oz8=",
            "dtype": "f8"
           }
          }
         ],
         "layout": {
          "annotations": [
           {
            "showarrow": false,
            "text": "Time: 0.61s (Step: 62/100)",
            "x": 0.05,
            "xref": "paper",
            "y": 0.95,
            "yref": "paper"
           }
          ]
         },
         "name": "61"
        },
        {
         "data": [
          {
           "name": "Free Nodes",
           "type": "scatter3d",
           "x": {
            "bdata": "AAAAAAAAAAAAAAAAAADwPwAAAAAAAOA/AAAAAAAA4D8=",
            "dtype": "f8"
           },
           "y": {
            "bdata": "AAAAAAAA4D8AAAAAAADgPwAAAAAAAAAAAAAAAAAA8D8=",
            "dtype": "f8"
           },
           "z": {
            "bdata": "AAAAAAAAAAAAAAAAAAAAAIRs5/up8aI/hGzn+6nxoj8=",
            "dtype": "f8"
           }
          },
          {
           "name": "Fixed Nodes",
           "type": "scatter3d",
           "x": [],
           "y": [],
           "z": []
          },
          {
           "name": "Edges",
           "type": "scatter3d",
           "x": [
            0,
            1,
            null,
            0.5,
            0.5,
            null
           ],
           "y": [
            0.5,
            0.5,
            null,
            0,
            1,
            null
           ],
           "z": [
            0,
            0,
            null,
            0.03699999999999995,
            0.03699999999999995,
            null
           ]
          },
          {
           "i": [],
           "j": [],
           "k": [],
           "name": "Faces",
           "type": "mesh3d",
           "x": {
            "bdata": "AAAAAAAAAAAAAAAAAADwPwAAAAAAAOA/AAAAAAAA4D8=",
            "dtype": "f8"
           },
           "y": {
            "bdata": "AAAAAAAA4D8AAAAAAADgPwAAAAAAAAAAAAAAAAAA8D8=",
            "dtype": "f8"
           },
           "z": {
            "bdata": "AAAAAAAAAAAAAAAAAAAAAIRs5/up8aI/hGzn+6nxoj8=",
            "dtype": "f8"
           }
          }
         ],
         "layout": {
          "annotations": [
           {
            "showarrow": false,
            "text": "Time: 0.62s (Step: 63/100)",
            "x": 0.05,
            "xref": "paper",
            "y": 0.95,
            "yref": "paper"
           }
          ]
         },
         "name": "62"
        },
        {
         "data": [
          {
           "name": "Free Nodes",
           "type": "scatter3d",
           "x": {
            "bdata": "AAAAAAAAAAAAAAAAAADwPwAAAAAAAOA/AAAAAAAA4D8=",
            "dtype": "f8"
           },
           "y": {
            "bdata": "AAAAAAAA4D8AAAAAAADgPwAAAAAAAAAAAAAAAAAA8D8=",
            "dtype": "f8"
           },
           "z": {
            "bdata": "AAAAAAAAAAAAAAAAAAAAADTfT42XbqI/NN9PjZduoj8=",
            "dtype": "f8"
           }
          },
          {
           "name": "Fixed Nodes",
           "type": "scatter3d",
           "x": [],
           "y": [],
           "z": []
          },
          {
           "name": "Edges",
           "type": "scatter3d",
           "x": [
            0,
            1,
            null,
            0.5,
            0.5,
            null
           ],
           "y": [
            0.5,
            0.5,
            null,
            0,
            1,
            null
           ],
           "z": [
            0,
            0,
            null,
            0.03599999999999995,
            0.03599999999999995,
            null
           ]
          },
          {
           "i": [],
           "j": [],
           "k": [],
           "name": "Faces",
           "type": "mesh3d",
           "x": {
            "bdata": "AAAAAAAAAAAAAAAAAADwPwAAAAAAAOA/AAAAAAAA4D8=",
            "dtype": "f8"
           },
           "y": {
            "bdata": "AAAAAAAA4D8AAAAAAADgPwAAAAAAAAAAAAAAAAAA8D8=",
            "dtype": "f8"
           },
           "z": {
            "bdata": "AAAAAAAAAAAAAAAAAAAAADTfT42XbqI/NN9PjZduoj8=",
            "dtype": "f8"
           }
          }
         ],
         "layout": {
          "annotations": [
           {
            "showarrow": false,
            "text": "Time: 0.63s (Step: 64/100)",
            "x": 0.05,
            "xref": "paper",
            "y": 0.95,
            "yref": "paper"
           }
          ]
         },
         "name": "63"
        },
        {
         "data": [
          {
           "name": "Free Nodes",
           "type": "scatter3d",
           "x": {
            "bdata": "AAAAAAAAAAAAAAAAAADwPwAAAAAAAOA/AAAAAAAA4D8=",
            "dtype": "f8"
           },
           "y": {
            "bdata": "AAAAAAAA4D8AAAAAAADgPwAAAAAAAAAAAAAAAAAA8D8=",
            "dtype": "f8"
           },
           "z": {
            "bdata": "AAAAAAAAAAAAAAAAAAAAAORRuB6F66E/5FG4HoXroT8=",
            "dtype": "f8"
           }
          },
          {
           "name": "Fixed Nodes",
           "type": "scatter3d",
           "x": [],
           "y": [],
           "z": []
          },
          {
           "name": "Edges",
           "type": "scatter3d",
           "x": [
            0,
            1,
            null,
            0.5,
            0.5,
            null
           ],
           "y": [
            0.5,
            0.5,
            null,
            0,
            1,
            null
           ],
           "z": [
            0,
            0,
            null,
            0.03499999999999995,
            0.03499999999999995,
            null
           ]
          },
          {
           "i": [],
           "j": [],
           "k": [],
           "name": "Faces",
           "type": "mesh3d",
           "x": {
            "bdata": "AAAAAAAAAAAAAAAAAADwPwAAAAAAAOA/AAAAAAAA4D8=",
            "dtype": "f8"
           },
           "y": {
            "bdata": "AAAAAAAA4D8AAAAAAADgPwAAAAAAAAAAAAAAAAAA8D8=",
            "dtype": "f8"
           },
           "z": {
            "bdata": "AAAAAAAAAAAAAAAAAAAAAORRuB6F66E/5FG4HoXroT8=",
            "dtype": "f8"
           }
          }
         ],
         "layout": {
          "annotations": [
           {
            "showarrow": false,
            "text": "Time: 0.64s (Step: 65/100)",
            "x": 0.05,
            "xref": "paper",
            "y": 0.95,
            "yref": "paper"
           }
          ]
         },
         "name": "64"
        },
        {
         "data": [
          {
           "name": "Free Nodes",
           "type": "scatter3d",
           "x": {
            "bdata": "AAAAAAAAAAAAAAAAAADwPwAAAAAAAOA/AAAAAAAA4D8=",
            "dtype": "f8"
           },
           "y": {
            "bdata": "AAAAAAAA4D8AAAAAAADgPwAAAAAAAAAAAAAAAAAA8D8=",
            "dtype": "f8"
           },
           "z": {
            "bdata": "AAAAAAAAAAAAAAAAAAAAAJTEILByaKE/lMQgsHJooT8=",
            "dtype": "f8"
           }
          },
          {
           "name": "Fixed Nodes",
           "type": "scatter3d",
           "x": [],
           "y": [],
           "z": []
          },
          {
           "name": "Edges",
           "type": "scatter3d",
           "x": [
            0,
            1,
            null,
            0.5,
            0.5,
            null
           ],
           "y": [
            0.5,
            0.5,
            null,
            0,
            1,
            null
           ],
           "z": [
            0,
            0,
            null,
            0.03399999999999995,
            0.03399999999999995,
            null
           ]
          },
          {
           "i": [],
           "j": [],
           "k": [],
           "name": "Faces",
           "type": "mesh3d",
           "x": {
            "bdata": "AAAAAAAAAAAAAAAAAADwPwAAAAAAAOA/AAAAAAAA4D8=",
            "dtype": "f8"
           },
           "y": {
            "bdata": "AAAAAAAA4D8AAAAAAADgPwAAAAAAAAAAAAAAAAAA8D8=",
            "dtype": "f8"
           },
           "z": {
            "bdata": "AAAAAAAAAAAAAAAAAAAAAJTEILByaKE/lMQgsHJooT8=",
            "dtype": "f8"
           }
          }
         ],
         "layout": {
          "annotations": [
           {
            "showarrow": false,
            "text": "Time: 0.65s (Step: 66/100)",
            "x": 0.05,
            "xref": "paper",
            "y": 0.95,
            "yref": "paper"
           }
          ]
         },
         "name": "65"
        },
        {
         "data": [
          {
           "name": "Free Nodes",
           "type": "scatter3d",
           "x": {
            "bdata": "AAAAAAAAAAAAAAAAAADwPwAAAAAAAOA/AAAAAAAA4D8=",
            "dtype": "f8"
           },
           "y": {
            "bdata": "AAAAAAAA4D8AAAAAAADgPwAAAAAAAAAAAAAAAAAA8D8=",
            "dtype": "f8"
           },
           "z": {
            "bdata": "AAAAAAAAAAAAAAAAAAAAAEQ3iUFg5aA/RDeJQWDloD8=",
            "dtype": "f8"
           }
          },
          {
           "name": "Fixed Nodes",
           "type": "scatter3d",
           "x": [],
           "y": [],
           "z": []
          },
          {
           "name": "Edges",
           "type": "scatter3d",
           "x": [
            0,
            1,
            null,
            0.5,
            0.5,
            null
           ],
           "y": [
            0.5,
            0.5,
            null,
            0,
            1,
            null
           ],
           "z": [
            0,
            0,
            null,
            0.032999999999999946,
            0.032999999999999946,
            null
           ]
          },
          {
           "i": [],
           "j": [],
           "k": [],
           "name": "Faces",
           "type": "mesh3d",
           "x": {
            "bdata": "AAAAAAAAAAAAAAAAAADwPwAAAAAAAOA/AAAAAAAA4D8=",
            "dtype": "f8"
           },
           "y": {
            "bdata": "AAAAAAAA4D8AAAAAAADgPwAAAAAAAAAAAAAAAAAA8D8=",
            "dtype": "f8"
           },
           "z": {
            "bdata": "AAAAAAAAAAAAAAAAAAAAAEQ3iUFg5aA/RDeJQWDloD8=",
            "dtype": "f8"
           }
          }
         ],
         "layout": {
          "annotations": [
           {
            "showarrow": false,
            "text": "Time: 0.66s (Step: 67/100)",
            "x": 0.05,
            "xref": "paper",
            "y": 0.95,
            "yref": "paper"
           }
          ]
         },
         "name": "66"
        },
        {
         "data": [
          {
           "name": "Free Nodes",
           "type": "scatter3d",
           "x": {
            "bdata": "AAAAAAAAAAAAAAAAAADwPwAAAAAAAOA/AAAAAAAA4D8=",
            "dtype": "f8"
           },
           "y": {
            "bdata": "AAAAAAAA4D8AAAAAAADgPwAAAAAAAAAAAAAAAAAA8D8=",
            "dtype": "f8"
           },
           "z": {
            "bdata": "AAAAAAAAAAAAAAAAAAAAAPSp8dJNYqA/9Knx0k1ioD8=",
            "dtype": "f8"
           }
          },
          {
           "name": "Fixed Nodes",
           "type": "scatter3d",
           "x": [],
           "y": [],
           "z": []
          },
          {
           "name": "Edges",
           "type": "scatter3d",
           "x": [
            0,
            1,
            null,
            0.5,
            0.5,
            null
           ],
           "y": [
            0.5,
            0.5,
            null,
            0,
            1,
            null
           ],
           "z": [
            0,
            0,
            null,
            0.031999999999999945,
            0.031999999999999945,
            null
           ]
          },
          {
           "i": [],
           "j": [],
           "k": [],
           "name": "Faces",
           "type": "mesh3d",
           "x": {
            "bdata": "AAAAAAAAAAAAAAAAAADwPwAAAAAAAOA/AAAAAAAA4D8=",
            "dtype": "f8"
           },
           "y": {
            "bdata": "AAAAAAAA4D8AAAAAAADgPwAAAAAAAAAAAAAAAAAA8D8=",
            "dtype": "f8"
           },
           "z": {
            "bdata": "AAAAAAAAAAAAAAAAAAAAAPSp8dJNYqA/9Knx0k1ioD8=",
            "dtype": "f8"
           }
          }
         ],
         "layout": {
          "annotations": [
           {
            "showarrow": false,
            "text": "Time: 0.67s (Step: 68/100)",
            "x": 0.05,
            "xref": "paper",
            "y": 0.95,
            "yref": "paper"
           }
          ]
         },
         "name": "67"
        },
        {
         "data": [
          {
           "name": "Free Nodes",
           "type": "scatter3d",
           "x": {
            "bdata": "AAAAAAAAAAAAAAAAAADwPwAAAAAAAOA/AAAAAAAA4D8=",
            "dtype": "f8"
           },
           "y": {
            "bdata": "AAAAAAAA4D8AAAAAAADgPwAAAAAAAAAAAAAAAAAA8D8=",
            "dtype": "f8"
           },
           "z": {
            "bdata": "AAAAAAAAAAAAAAAAAAAAAEg5tMh2vp8/SDm0yHa+nz8=",
            "dtype": "f8"
           }
          },
          {
           "name": "Fixed Nodes",
           "type": "scatter3d",
           "x": [],
           "y": [],
           "z": []
          },
          {
           "name": "Edges",
           "type": "scatter3d",
           "x": [
            0,
            1,
            null,
            0.5,
            0.5,
            null
           ],
           "y": [
            0.5,
            0.5,
            null,
            0,
            1,
            null
           ],
           "z": [
            0,
            0,
            null,
            0.030999999999999944,
            0.030999999999999944,
            null
           ]
          },
          {
           "i": [],
           "j": [],
           "k": [],
           "name": "Faces",
           "type": "mesh3d",
           "x": {
            "bdata": "AAAAAAAAAAAAAAAAAADwPwAAAAAAAOA/AAAAAAAA4D8=",
            "dtype": "f8"
           },
           "y": {
            "bdata": "AAAAAAAA4D8AAAAAAADgPwAAAAAAAAAAAAAAAAAA8D8=",
            "dtype": "f8"
           },
           "z": {
            "bdata": "AAAAAAAAAAAAAAAAAAAAAEg5tMh2vp8/SDm0yHa+nz8=",
            "dtype": "f8"
           }
          }
         ],
         "layout": {
          "annotations": [
           {
            "showarrow": false,
            "text": "Time: 0.68s (Step: 69/100)",
            "x": 0.05,
            "xref": "paper",
            "y": 0.95,
            "yref": "paper"
           }
          ]
         },
         "name": "68"
        },
        {
         "data": [
          {
           "name": "Free Nodes",
           "type": "scatter3d",
           "x": {
            "bdata": "AAAAAAAAAAAAAAAAAADwPwAAAAAAAOA/AAAAAAAA4D8=",
            "dtype": "f8"
           },
           "y": {
            "bdata": "AAAAAAAA4D8AAAAAAADgPwAAAAAAAAAAAAAAAAAA8D8=",
            "dtype": "f8"
           },
           "z": {
            "bdata": "AAAAAAAAAAAAAAAAAAAAAKgehetRuJ4/qB6F61G4nj8=",
            "dtype": "f8"
           }
          },
          {
           "name": "Fixed Nodes",
           "type": "scatter3d",
           "x": [],
           "y": [],
           "z": []
          },
          {
           "name": "Edges",
           "type": "scatter3d",
           "x": [
            0,
            1,
            null,
            0.5,
            0.5,
            null
           ],
           "y": [
            0.5,
            0.5,
            null,
            0,
            1,
            null
           ],
           "z": [
            0,
            0,
            null,
            0.029999999999999943,
            0.029999999999999943,
            null
           ]
          },
          {
           "i": [],
           "j": [],
           "k": [],
           "name": "Faces",
           "type": "mesh3d",
           "x": {
            "bdata": "AAAAAAAAAAAAAAAAAADwPwAAAAAAAOA/AAAAAAAA4D8=",
            "dtype": "f8"
           },
           "y": {
            "bdata": "AAAAAAAA4D8AAAAAAADgPwAAAAAAAAAAAAAAAAAA8D8=",
            "dtype": "f8"
           },
           "z": {
            "bdata": "AAAAAAAAAAAAAAAAAAAAAKgehetRuJ4/qB6F61G4nj8=",
            "dtype": "f8"
           }
          }
         ],
         "layout": {
          "annotations": [
           {
            "showarrow": false,
            "text": "Time: 0.69s (Step: 70/100)",
            "x": 0.05,
            "xref": "paper",
            "y": 0.95,
            "yref": "paper"
           }
          ]
         },
         "name": "69"
        },
        {
         "data": [
          {
           "name": "Free Nodes",
           "type": "scatter3d",
           "x": {
            "bdata": "AAAAAAAAAAAAAAAAAADwPwAAAAAAAOA/AAAAAAAA4D8=",
            "dtype": "f8"
           },
           "y": {
            "bdata": "AAAAAAAA4D8AAAAAAADgPwAAAAAAAAAAAAAAAAAA8D8=",
            "dtype": "f8"
           },
           "z": {
            "bdata": "AAAAAAAAAAAAAAAAAAAAAAgEVg4tsp0/CARWDi2ynT8=",
            "dtype": "f8"
           }
          },
          {
           "name": "Fixed Nodes",
           "type": "scatter3d",
           "x": [],
           "y": [],
           "z": []
          },
          {
           "name": "Edges",
           "type": "scatter3d",
           "x": [
            0,
            1,
            null,
            0.5,
            0.5,
            null
           ],
           "y": [
            0.5,
            0.5,
            null,
            0,
            1,
            null
           ],
           "z": [
            0,
            0,
            null,
            0.028999999999999942,
            0.028999999999999942,
            null
           ]
          },
          {
           "i": [],
           "j": [],
           "k": [],
           "name": "Faces",
           "type": "mesh3d",
           "x": {
            "bdata": "AAAAAAAAAAAAAAAAAADwPwAAAAAAAOA/AAAAAAAA4D8=",
            "dtype": "f8"
           },
           "y": {
            "bdata": "AAAAAAAA4D8AAAAAAADgPwAAAAAAAAAAAAAAAAAA8D8=",
            "dtype": "f8"
           },
           "z": {
            "bdata": "AAAAAAAAAAAAAAAAAAAAAAgEVg4tsp0/CARWDi2ynT8=",
            "dtype": "f8"
           }
          }
         ],
         "layout": {
          "annotations": [
           {
            "showarrow": false,
            "text": "Time: 0.70s (Step: 71/100)",
            "x": 0.05,
            "xref": "paper",
            "y": 0.95,
            "yref": "paper"
           }
          ]
         },
         "name": "70"
        },
        {
         "data": [
          {
           "name": "Free Nodes",
           "type": "scatter3d",
           "x": {
            "bdata": "AAAAAAAAAAAAAAAAAADwPwAAAAAAAOA/AAAAAAAA4D8=",
            "dtype": "f8"
           },
           "y": {
            "bdata": "AAAAAAAA4D8AAAAAAADgPwAAAAAAAAAAAAAAAAAA8D8=",
            "dtype": "f8"
           },
           "z": {
            "bdata": "AAAAAAAAAAAAAAAAAAAAAGjpJjEIrJw/aOkmMQisnD8=",
            "dtype": "f8"
           }
          },
          {
           "name": "Fixed Nodes",
           "type": "scatter3d",
           "x": [],
           "y": [],
           "z": []
          },
          {
           "name": "Edges",
           "type": "scatter3d",
           "x": [
            0,
            1,
            null,
            0.5,
            0.5,
            null
           ],
           "y": [
            0.5,
            0.5,
            null,
            0,
            1,
            null
           ],
           "z": [
            0,
            0,
            null,
            0.02799999999999994,
            0.02799999999999994,
            null
           ]
          },
          {
           "i": [],
           "j": [],
           "k": [],
           "name": "Faces",
           "type": "mesh3d",
           "x": {
            "bdata": "AAAAAAAAAAAAAAAAAADwPwAAAAAAAOA/AAAAAAAA4D8=",
            "dtype": "f8"
           },
           "y": {
            "bdata": "AAAAAAAA4D8AAAAAAADgPwAAAAAAAAAAAAAAAAAA8D8=",
            "dtype": "f8"
           },
           "z": {
            "bdata": "AAAAAAAAAAAAAAAAAAAAAGjpJjEIrJw/aOkmMQisnD8=",
            "dtype": "f8"
           }
          }
         ],
         "layout": {
          "annotations": [
           {
            "showarrow": false,
            "text": "Time: 0.71s (Step: 72/100)",
            "x": 0.05,
            "xref": "paper",
            "y": 0.95,
            "yref": "paper"
           }
          ]
         },
         "name": "71"
        },
        {
         "data": [
          {
           "name": "Free Nodes",
           "type": "scatter3d",
           "x": {
            "bdata": "AAAAAAAAAAAAAAAAAADwPwAAAAAAAOA/AAAAAAAA4D8=",
            "dtype": "f8"
           },
           "y": {
            "bdata": "AAAAAAAA4D8AAAAAAADgPwAAAAAAAAAAAAAAAAAA8D8=",
            "dtype": "f8"
           },
           "z": {
            "bdata": "AAAAAAAAAAAAAAAAAAAAAMjO91PjpZs/yM73U+Olmz8=",
            "dtype": "f8"
           }
          },
          {
           "name": "Fixed Nodes",
           "type": "scatter3d",
           "x": [],
           "y": [],
           "z": []
          },
          {
           "name": "Edges",
           "type": "scatter3d",
           "x": [
            0,
            1,
            null,
            0.5,
            0.5,
            null
           ],
           "y": [
            0.5,
            0.5,
            null,
            0,
            1,
            null
           ],
           "z": [
            0,
            0,
            null,
            0.02699999999999994,
            0.02699999999999994,
            null
           ]
          },
          {
           "i": [],
           "j": [],
           "k": [],
           "name": "Faces",
           "type": "mesh3d",
           "x": {
            "bdata": "AAAAAAAAAAAAAAAAAADwPwAAAAAAAOA/AAAAAAAA4D8=",
            "dtype": "f8"
           },
           "y": {
            "bdata": "AAAAAAAA4D8AAAAAAADgPwAAAAAAAAAAAAAAAAAA8D8=",
            "dtype": "f8"
           },
           "z": {
            "bdata": "AAAAAAAAAAAAAAAAAAAAAMjO91PjpZs/yM73U+Olmz8=",
            "dtype": "f8"
           }
          }
         ],
         "layout": {
          "annotations": [
           {
            "showarrow": false,
            "text": "Time: 0.72s (Step: 73/100)",
            "x": 0.05,
            "xref": "paper",
            "y": 0.95,
            "yref": "paper"
           }
          ]
         },
         "name": "72"
        },
        {
         "data": [
          {
           "name": "Free Nodes",
           "type": "scatter3d",
           "x": {
            "bdata": "AAAAAAAAAAAAAAAAAADwPwAAAAAAAOA/AAAAAAAA4D8=",
            "dtype": "f8"
           },
           "y": {
            "bdata": "AAAAAAAA4D8AAAAAAADgPwAAAAAAAAAAAAAAAAAA8D8=",
            "dtype": "f8"
           },
           "z": {
            "bdata": "AAAAAAAAAAAAAAAAAAAAACi0yHa+n5o/KLTIdr6fmj8=",
            "dtype": "f8"
           }
          },
          {
           "name": "Fixed Nodes",
           "type": "scatter3d",
           "x": [],
           "y": [],
           "z": []
          },
          {
           "name": "Edges",
           "type": "scatter3d",
           "x": [
            0,
            1,
            null,
            0.5,
            0.5,
            null
           ],
           "y": [
            0.5,
            0.5,
            null,
            0,
            1,
            null
           ],
           "z": [
            0,
            0,
            null,
            0.02599999999999994,
            0.02599999999999994,
            null
           ]
          },
          {
           "i": [],
           "j": [],
           "k": [],
           "name": "Faces",
           "type": "mesh3d",
           "x": {
            "bdata": "AAAAAAAAAAAAAAAAAADwPwAAAAAAAOA/AAAAAAAA4D8=",
            "dtype": "f8"
           },
           "y": {
            "bdata": "AAAAAAAA4D8AAAAAAADgPwAAAAAAAAAAAAAAAAAA8D8=",
            "dtype": "f8"
           },
           "z": {
            "bdata": "AAAAAAAAAAAAAAAAAAAAACi0yHa+n5o/KLTIdr6fmj8=",
            "dtype": "f8"
           }
          }
         ],
         "layout": {
          "annotations": [
           {
            "showarrow": false,
            "text": "Time: 0.73s (Step: 74/100)",
            "x": 0.05,
            "xref": "paper",
            "y": 0.95,
            "yref": "paper"
           }
          ]
         },
         "name": "73"
        },
        {
         "data": [
          {
           "name": "Free Nodes",
           "type": "scatter3d",
           "x": {
            "bdata": "AAAAAAAAAAAAAAAAAADwPwAAAAAAAOA/AAAAAAAA4D8=",
            "dtype": "f8"
           },
           "y": {
            "bdata": "AAAAAAAA4D8AAAAAAADgPwAAAAAAAAAAAAAAAAAA8D8=",
            "dtype": "f8"
           },
           "z": {
            "bdata": "AAAAAAAAAAAAAAAAAAAAAIiZmZmZmZk/iJmZmZmZmT8=",
            "dtype": "f8"
           }
          },
          {
           "name": "Fixed Nodes",
           "type": "scatter3d",
           "x": [],
           "y": [],
           "z": []
          },
          {
           "name": "Edges",
           "type": "scatter3d",
           "x": [
            0,
            1,
            null,
            0.5,
            0.5,
            null
           ],
           "y": [
            0.5,
            0.5,
            null,
            0,
            1,
            null
           ],
           "z": [
            0,
            0,
            null,
            0.02499999999999994,
            0.02499999999999994,
            null
           ]
          },
          {
           "i": [],
           "j": [],
           "k": [],
           "name": "Faces",
           "type": "mesh3d",
           "x": {
            "bdata": "AAAAAAAAAAAAAAAAAADwPwAAAAAAAOA/AAAAAAAA4D8=",
            "dtype": "f8"
           },
           "y": {
            "bdata": "AAAAAAAA4D8AAAAAAADgPwAAAAAAAAAAAAAAAAAA8D8=",
            "dtype": "f8"
           },
           "z": {
            "bdata": "AAAAAAAAAAAAAAAAAAAAAIiZmZmZmZk/iJmZmZmZmT8=",
            "dtype": "f8"
           }
          }
         ],
         "layout": {
          "annotations": [
           {
            "showarrow": false,
            "text": "Time: 0.74s (Step: 75/100)",
            "x": 0.05,
            "xref": "paper",
            "y": 0.95,
            "yref": "paper"
           }
          ]
         },
         "name": "74"
        },
        {
         "data": [
          {
           "name": "Free Nodes",
           "type": "scatter3d",
           "x": {
            "bdata": "AAAAAAAAAAAAAAAAAADwPwAAAAAAAOA/AAAAAAAA4D8=",
            "dtype": "f8"
           },
           "y": {
            "bdata": "AAAAAAAA4D8AAAAAAADgPwAAAAAAAAAAAAAAAAAA8D8=",
            "dtype": "f8"
           },
           "z": {
            "bdata": "AAAAAAAAAAAAAAAAAAAAAOh+arx0k5g/6H5qvHSTmD8=",
            "dtype": "f8"
           }
          },
          {
           "name": "Fixed Nodes",
           "type": "scatter3d",
           "x": [],
           "y": [],
           "z": []
          },
          {
           "name": "Edges",
           "type": "scatter3d",
           "x": [
            0,
            1,
            null,
            0.5,
            0.5,
            null
           ],
           "y": [
            0.5,
            0.5,
            null,
            0,
            1,
            null
           ],
           "z": [
            0,
            0,
            null,
            0.023999999999999938,
            0.023999999999999938,
            null
           ]
          },
          {
           "i": [],
           "j": [],
           "k": [],
           "name": "Faces",
           "type": "mesh3d",
           "x": {
            "bdata": "AAAAAAAAAAAAAAAAAADwPwAAAAAAAOA/AAAAAAAA4D8=",
            "dtype": "f8"
           },
           "y": {
            "bdata": "AAAAAAAA4D8AAAAAAADgPwAAAAAAAAAAAAAAAAAA8D8=",
            "dtype": "f8"
           },
           "z": {
            "bdata": "AAAAAAAAAAAAAAAAAAAAAOh+arx0k5g/6H5qvHSTmD8=",
            "dtype": "f8"
           }
          }
         ],
         "layout": {
          "annotations": [
           {
            "showarrow": false,
            "text": "Time: 0.75s (Step: 76/100)",
            "x": 0.05,
            "xref": "paper",
            "y": 0.95,
            "yref": "paper"
           }
          ]
         },
         "name": "75"
        },
        {
         "data": [
          {
           "name": "Free Nodes",
           "type": "scatter3d",
           "x": {
            "bdata": "AAAAAAAAAAAAAAAAAADwPwAAAAAAAOA/AAAAAAAA4D8=",
            "dtype": "f8"
           },
           "y": {
            "bdata": "AAAAAAAA4D8AAAAAAADgPwAAAAAAAAAAAAAAAAAA8D8=",
            "dtype": "f8"
           },
           "z": {
            "bdata": "AAAAAAAAAAAAAAAAAAAAAEhkO99PjZc/SGQ730+Nlz8=",
            "dtype": "f8"
           }
          },
          {
           "name": "Fixed Nodes",
           "type": "scatter3d",
           "x": [],
           "y": [],
           "z": []
          },
          {
           "name": "Edges",
           "type": "scatter3d",
           "x": [
            0,
            1,
            null,
            0.5,
            0.5,
            null
           ],
           "y": [
            0.5,
            0.5,
            null,
            0,
            1,
            null
           ],
           "z": [
            0,
            0,
            null,
            0.022999999999999937,
            0.022999999999999937,
            null
           ]
          },
          {
           "i": [],
           "j": [],
           "k": [],
           "name": "Faces",
           "type": "mesh3d",
           "x": {
            "bdata": "AAAAAAAAAAAAAAAAAADwPwAAAAAAAOA/AAAAAAAA4D8=",
            "dtype": "f8"
           },
           "y": {
            "bdata": "AAAAAAAA4D8AAAAAAADgPwAAAAAAAAAAAAAAAAAA8D8=",
            "dtype": "f8"
           },
           "z": {
            "bdata": "AAAAAAAAAAAAAAAAAAAAAEhkO99PjZc/SGQ730+Nlz8=",
            "dtype": "f8"
           }
          }
         ],
         "layout": {
          "annotations": [
           {
            "showarrow": false,
            "text": "Time: 0.76s (Step: 77/100)",
            "x": 0.05,
            "xref": "paper",
            "y": 0.95,
            "yref": "paper"
           }
          ]
         },
         "name": "76"
        },
        {
         "data": [
          {
           "name": "Free Nodes",
           "type": "scatter3d",
           "x": {
            "bdata": "AAAAAAAAAAAAAAAAAADwPwAAAAAAAOA/AAAAAAAA4D8=",
            "dtype": "f8"
           },
           "y": {
            "bdata": "AAAAAAAA4D8AAAAAAADgPwAAAAAAAAAAAAAAAAAA8D8=",
            "dtype": "f8"
           },
           "z": {
            "bdata": "AAAAAAAAAAAAAAAAAAAAAKhJDAIrh5Y/qEkMAiuHlj8=",
            "dtype": "f8"
           }
          },
          {
           "name": "Fixed Nodes",
           "type": "scatter3d",
           "x": [],
           "y": [],
           "z": []
          },
          {
           "name": "Edges",
           "type": "scatter3d",
           "x": [
            0,
            1,
            null,
            0.5,
            0.5,
            null
           ],
           "y": [
            0.5,
            0.5,
            null,
            0,
            1,
            null
           ],
           "z": [
            0,
            0,
            null,
            0.021999999999999936,
            0.021999999999999936,
            null
           ]
          },
          {
           "i": [],
           "j": [],
           "k": [],
           "name": "Faces",
           "type": "mesh3d",
           "x": {
            "bdata": "AAAAAAAAAAAAAAAAAADwPwAAAAAAAOA/AAAAAAAA4D8=",
            "dtype": "f8"
           },
           "y": {
            "bdata": "AAAAAAAA4D8AAAAAAADgPwAAAAAAAAAAAAAAAAAA8D8=",
            "dtype": "f8"
           },
           "z": {
            "bdata": "AAAAAAAAAAAAAAAAAAAAAKhJDAIrh5Y/qEkMAiuHlj8=",
            "dtype": "f8"
           }
          }
         ],
         "layout": {
          "annotations": [
           {
            "showarrow": false,
            "text": "Time: 0.77s (Step: 78/100)",
            "x": 0.05,
            "xref": "paper",
            "y": 0.95,
            "yref": "paper"
           }
          ]
         },
         "name": "77"
        },
        {
         "data": [
          {
           "name": "Free Nodes",
           "type": "scatter3d",
           "x": {
            "bdata": "AAAAAAAAAAAAAAAAAADwPwAAAAAAAOA/AAAAAAAA4D8=",
            "dtype": "f8"
           },
           "y": {
            "bdata": "AAAAAAAA4D8AAAAAAADgPwAAAAAAAAAAAAAAAAAA8D8=",
            "dtype": "f8"
           },
           "z": {
            "bdata": "AAAAAAAAAAAAAAAAAAAAAAgv3SQGgZU/CC/dJAaBlT8=",
            "dtype": "f8"
           }
          },
          {
           "name": "Fixed Nodes",
           "type": "scatter3d",
           "x": [],
           "y": [],
           "z": []
          },
          {
           "name": "Edges",
           "type": "scatter3d",
           "x": [
            0,
            1,
            null,
            0.5,
            0.5,
            null
           ],
           "y": [
            0.5,
            0.5,
            null,
            0,
            1,
            null
           ],
           "z": [
            0,
            0,
            null,
            0.020999999999999935,
            0.020999999999999935,
            null
           ]
          },
          {
           "i": [],
           "j": [],
           "k": [],
           "name": "Faces",
           "type": "mesh3d",
           "x": {
            "bdata": "AAAAAAAAAAAAAAAAAADwPwAAAAAAAOA/AAAAAAAA4D8=",
            "dtype": "f8"
           },
           "y": {
            "bdata": "AAAAAAAA4D8AAAAAAADgPwAAAAAAAAAAAAAAAAAA8D8=",
            "dtype": "f8"
           },
           "z": {
            "bdata": "AAAAAAAAAAAAAAAAAAAAAAgv3SQGgZU/CC/dJAaBlT8=",
            "dtype": "f8"
           }
          }
         ],
         "layout": {
          "annotations": [
           {
            "showarrow": false,
            "text": "Time: 0.78s (Step: 79/100)",
            "x": 0.05,
            "xref": "paper",
            "y": 0.95,
            "yref": "paper"
           }
          ]
         },
         "name": "78"
        },
        {
         "data": [
          {
           "name": "Free Nodes",
           "type": "scatter3d",
           "x": {
            "bdata": "AAAAAAAAAAAAAAAAAADwPwAAAAAAAOA/AAAAAAAA4D8=",
            "dtype": "f8"
           },
           "y": {
            "bdata": "AAAAAAAA4D8AAAAAAADgPwAAAAAAAAAAAAAAAAAA8D8=",
            "dtype": "f8"
           },
           "z": {
            "bdata": "AAAAAAAAAAAAAAAAAAAAAGgUrkfhepQ/aBSuR+F6lD8=",
            "dtype": "f8"
           }
          },
          {
           "name": "Fixed Nodes",
           "type": "scatter3d",
           "x": [],
           "y": [],
           "z": []
          },
          {
           "name": "Edges",
           "type": "scatter3d",
           "x": [
            0,
            1,
            null,
            0.5,
            0.5,
            null
           ],
           "y": [
            0.5,
            0.5,
            null,
            0,
            1,
            null
           ],
           "z": [
            0,
            0,
            null,
            0.019999999999999934,
            0.019999999999999934,
            null
           ]
          },
          {
           "i": [],
           "j": [],
           "k": [],
           "name": "Faces",
           "type": "mesh3d",
           "x": {
            "bdata": "AAAAAAAAAAAAAAAAAADwPwAAAAAAAOA/AAAAAAAA4D8=",
            "dtype": "f8"
           },
           "y": {
            "bdata": "AAAAAAAA4D8AAAAAAADgPwAAAAAAAAAAAAAAAAAA8D8=",
            "dtype": "f8"
           },
           "z": {
            "bdata": "AAAAAAAAAAAAAAAAAAAAAGgUrkfhepQ/aBSuR+F6lD8=",
            "dtype": "f8"
           }
          }
         ],
         "layout": {
          "annotations": [
           {
            "showarrow": false,
            "text": "Time: 0.79s (Step: 80/100)",
            "x": 0.05,
            "xref": "paper",
            "y": 0.95,
            "yref": "paper"
           }
          ]
         },
         "name": "79"
        },
        {
         "data": [
          {
           "name": "Free Nodes",
           "type": "scatter3d",
           "x": {
            "bdata": "AAAAAAAAAAAAAAAAAADwPwAAAAAAAOA/AAAAAAAA4D8=",
            "dtype": "f8"
           },
           "y": {
            "bdata": "AAAAAAAA4D8AAAAAAADgPwAAAAAAAAAAAAAAAAAA8D8=",
            "dtype": "f8"
           },
           "z": {
            "bdata": "AAAAAAAAAAAAAAAAAAAAAMj5fmq8dJM/yPl+arx0kz8=",
            "dtype": "f8"
           }
          },
          {
           "name": "Fixed Nodes",
           "type": "scatter3d",
           "x": [],
           "y": [],
           "z": []
          },
          {
           "name": "Edges",
           "type": "scatter3d",
           "x": [
            0,
            1,
            null,
            0.5,
            0.5,
            null
           ],
           "y": [
            0.5,
            0.5,
            null,
            0,
            1,
            null
           ],
           "z": [
            0,
            0,
            null,
            0.018999999999999934,
            0.018999999999999934,
            null
           ]
          },
          {
           "i": [],
           "j": [],
           "k": [],
           "name": "Faces",
           "type": "mesh3d",
           "x": {
            "bdata": "AAAAAAAAAAAAAAAAAADwPwAAAAAAAOA/AAAAAAAA4D8=",
            "dtype": "f8"
           },
           "y": {
            "bdata": "AAAAAAAA4D8AAAAAAADgPwAAAAAAAAAAAAAAAAAA8D8=",
            "dtype": "f8"
           },
           "z": {
            "bdata": "AAAAAAAAAAAAAAAAAAAAAMj5fmq8dJM/yPl+arx0kz8=",
            "dtype": "f8"
           }
          }
         ],
         "layout": {
          "annotations": [
           {
            "showarrow": false,
            "text": "Time: 0.80s (Step: 81/100)",
            "x": 0.05,
            "xref": "paper",
            "y": 0.95,
            "yref": "paper"
           }
          ]
         },
         "name": "80"
        },
        {
         "data": [
          {
           "name": "Free Nodes",
           "type": "scatter3d",
           "x": {
            "bdata": "AAAAAAAAAAAAAAAAAADwPwAAAAAAAOA/AAAAAAAA4D8=",
            "dtype": "f8"
           },
           "y": {
            "bdata": "AAAAAAAA4D8AAAAAAADgPwAAAAAAAAAAAAAAAAAA8D8=",
            "dtype": "f8"
           },
           "z": {
            "bdata": "AAAAAAAAAAAAAAAAAAAAACjfT42XbpI/KN9PjZdukj8=",
            "dtype": "f8"
           }
          },
          {
           "name": "Fixed Nodes",
           "type": "scatter3d",
           "x": [],
           "y": [],
           "z": []
          },
          {
           "name": "Edges",
           "type": "scatter3d",
           "x": [
            0,
            1,
            null,
            0.5,
            0.5,
            null
           ],
           "y": [
            0.5,
            0.5,
            null,
            0,
            1,
            null
           ],
           "z": [
            0,
            0,
            null,
            0.017999999999999933,
            0.017999999999999933,
            null
           ]
          },
          {
           "i": [],
           "j": [],
           "k": [],
           "name": "Faces",
           "type": "mesh3d",
           "x": {
            "bdata": "AAAAAAAAAAAAAAAAAADwPwAAAAAAAOA/AAAAAAAA4D8=",
            "dtype": "f8"
           },
           "y": {
            "bdata": "AAAAAAAA4D8AAAAAAADgPwAAAAAAAAAAAAAAAAAA8D8=",
            "dtype": "f8"
           },
           "z": {
            "bdata": "AAAAAAAAAAAAAAAAAAAAACjfT42XbpI/KN9PjZdukj8=",
            "dtype": "f8"
           }
          }
         ],
         "layout": {
          "annotations": [
           {
            "showarrow": false,
            "text": "Time: 0.81s (Step: 82/100)",
            "x": 0.05,
            "xref": "paper",
            "y": 0.95,
            "yref": "paper"
           }
          ]
         },
         "name": "81"
        },
        {
         "data": [
          {
           "name": "Free Nodes",
           "type": "scatter3d",
           "x": {
            "bdata": "AAAAAAAAAAAAAAAAAADwPwAAAAAAAOA/AAAAAAAA4D8=",
            "dtype": "f8"
           },
           "y": {
            "bdata": "AAAAAAAA4D8AAAAAAADgPwAAAAAAAAAAAAAAAAAA8D8=",
            "dtype": "f8"
           },
           "z": {
            "bdata": "AAAAAAAAAAAAAAAAAAAAAIjEILByaJE/iMQgsHJokT8=",
            "dtype": "f8"
           }
          },
          {
           "name": "Fixed Nodes",
           "type": "scatter3d",
           "x": [],
           "y": [],
           "z": []
          },
          {
           "name": "Edges",
           "type": "scatter3d",
           "x": [
            0,
            1,
            null,
            0.5,
            0.5,
            null
           ],
           "y": [
            0.5,
            0.5,
            null,
            0,
            1,
            null
           ],
           "z": [
            0,
            0,
            null,
            0.016999999999999932,
            0.016999999999999932,
            null
           ]
          },
          {
           "i": [],
           "j": [],
           "k": [],
           "name": "Faces",
           "type": "mesh3d",
           "x": {
            "bdata": "AAAAAAAAAAAAAAAAAADwPwAAAAAAAOA/AAAAAAAA4D8=",
            "dtype": "f8"
           },
           "y": {
            "bdata": "AAAAAAAA4D8AAAAAAADgPwAAAAAAAAAAAAAAAAAA8D8=",
            "dtype": "f8"
           },
           "z": {
            "bdata": "AAAAAAAAAAAAAAAAAAAAAIjEILByaJE/iMQgsHJokT8=",
            "dtype": "f8"
           }
          }
         ],
         "layout": {
          "annotations": [
           {
            "showarrow": false,
            "text": "Time: 0.82s (Step: 83/100)",
            "x": 0.05,
            "xref": "paper",
            "y": 0.95,
            "yref": "paper"
           }
          ]
         },
         "name": "82"
        },
        {
         "data": [
          {
           "name": "Free Nodes",
           "type": "scatter3d",
           "x": {
            "bdata": "AAAAAAAAAAAAAAAAAADwPwAAAAAAAOA/AAAAAAAA4D8=",
            "dtype": "f8"
           },
           "y": {
            "bdata": "AAAAAAAA4D8AAAAAAADgPwAAAAAAAAAAAAAAAAAA8D8=",
            "dtype": "f8"
           },
           "z": {
            "bdata": "AAAAAAAAAAAAAAAAAAAAAOip8dJNYpA/6Knx0k1ikD8=",
            "dtype": "f8"
           }
          },
          {
           "name": "Fixed Nodes",
           "type": "scatter3d",
           "x": [],
           "y": [],
           "z": []
          },
          {
           "name": "Edges",
           "type": "scatter3d",
           "x": [
            0,
            1,
            null,
            0.5,
            0.5,
            null
           ],
           "y": [
            0.5,
            0.5,
            null,
            0,
            1,
            null
           ],
           "z": [
            0,
            0,
            null,
            0.01599999999999993,
            0.01599999999999993,
            null
           ]
          },
          {
           "i": [],
           "j": [],
           "k": [],
           "name": "Faces",
           "type": "mesh3d",
           "x": {
            "bdata": "AAAAAAAAAAAAAAAAAADwPwAAAAAAAOA/AAAAAAAA4D8=",
            "dtype": "f8"
           },
           "y": {
            "bdata": "AAAAAAAA4D8AAAAAAADgPwAAAAAAAAAAAAAAAAAA8D8=",
            "dtype": "f8"
           },
           "z": {
            "bdata": "AAAAAAAAAAAAAAAAAAAAAOip8dJNYpA/6Knx0k1ikD8=",
            "dtype": "f8"
           }
          }
         ],
         "layout": {
          "annotations": [
           {
            "showarrow": false,
            "text": "Time: 0.83s (Step: 84/100)",
            "x": 0.05,
            "xref": "paper",
            "y": 0.95,
            "yref": "paper"
           }
          ]
         },
         "name": "83"
        },
        {
         "data": [
          {
           "name": "Free Nodes",
           "type": "scatter3d",
           "x": {
            "bdata": "AAAAAAAAAAAAAAAAAADwPwAAAAAAAOA/AAAAAAAA4D8=",
            "dtype": "f8"
           },
           "y": {
            "bdata": "AAAAAAAA4D8AAAAAAADgPwAAAAAAAAAAAAAAAAAA8D8=",
            "dtype": "f8"
           },
           "z": {
            "bdata": "AAAAAAAAAAAAAAAAAAAAAJAehetRuI4/kB6F61G4jj8=",
            "dtype": "f8"
           }
          },
          {
           "name": "Fixed Nodes",
           "type": "scatter3d",
           "x": [],
           "y": [],
           "z": []
          },
          {
           "name": "Edges",
           "type": "scatter3d",
           "x": [
            0,
            1,
            null,
            0.5,
            0.5,
            null
           ],
           "y": [
            0.5,
            0.5,
            null,
            0,
            1,
            null
           ],
           "z": [
            0,
            0,
            null,
            0.01499999999999993,
            0.01499999999999993,
            null
           ]
          },
          {
           "i": [],
           "j": [],
           "k": [],
           "name": "Faces",
           "type": "mesh3d",
           "x": {
            "bdata": "AAAAAAAAAAAAAAAAAADwPwAAAAAAAOA/AAAAAAAA4D8=",
            "dtype": "f8"
           },
           "y": {
            "bdata": "AAAAAAAA4D8AAAAAAADgPwAAAAAAAAAAAAAAAAAA8D8=",
            "dtype": "f8"
           },
           "z": {
            "bdata": "AAAAAAAAAAAAAAAAAAAAAJAehetRuI4/kB6F61G4jj8=",
            "dtype": "f8"
           }
          }
         ],
         "layout": {
          "annotations": [
           {
            "showarrow": false,
            "text": "Time: 0.84s (Step: 85/100)",
            "x": 0.05,
            "xref": "paper",
            "y": 0.95,
            "yref": "paper"
           }
          ]
         },
         "name": "84"
        },
        {
         "data": [
          {
           "name": "Free Nodes",
           "type": "scatter3d",
           "x": {
            "bdata": "AAAAAAAAAAAAAAAAAADwPwAAAAAAAOA/AAAAAAAA4D8=",
            "dtype": "f8"
           },
           "y": {
            "bdata": "AAAAAAAA4D8AAAAAAADgPwAAAAAAAAAAAAAAAAAA8D8=",
            "dtype": "f8"
           },
           "z": {
            "bdata": "AAAAAAAAAAAAAAAAAAAAAFDpJjEIrIw/UOkmMQisjD8=",
            "dtype": "f8"
           }
          },
          {
           "name": "Fixed Nodes",
           "type": "scatter3d",
           "x": [],
           "y": [],
           "z": []
          },
          {
           "name": "Edges",
           "type": "scatter3d",
           "x": [
            0,
            1,
            null,
            0.5,
            0.5,
            null
           ],
           "y": [
            0.5,
            0.5,
            null,
            0,
            1,
            null
           ],
           "z": [
            0,
            0,
            null,
            0.01399999999999993,
            0.01399999999999993,
            null
           ]
          },
          {
           "i": [],
           "j": [],
           "k": [],
           "name": "Faces",
           "type": "mesh3d",
           "x": {
            "bdata": "AAAAAAAAAAAAAAAAAADwPwAAAAAAAOA/AAAAAAAA4D8=",
            "dtype": "f8"
           },
           "y": {
            "bdata": "AAAAAAAA4D8AAAAAAADgPwAAAAAAAAAAAAAAAAAA8D8=",
            "dtype": "f8"
           },
           "z": {
            "bdata": "AAAAAAAAAAAAAAAAAAAAAFDpJjEIrIw/UOkmMQisjD8=",
            "dtype": "f8"
           }
          }
         ],
         "layout": {
          "annotations": [
           {
            "showarrow": false,
            "text": "Time: 0.85s (Step: 86/100)",
            "x": 0.05,
            "xref": "paper",
            "y": 0.95,
            "yref": "paper"
           }
          ]
         },
         "name": "85"
        },
        {
         "data": [
          {
           "name": "Free Nodes",
           "type": "scatter3d",
           "x": {
            "bdata": "AAAAAAAAAAAAAAAAAADwPwAAAAAAAOA/AAAAAAAA4D8=",
            "dtype": "f8"
           },
           "y": {
            "bdata": "AAAAAAAA4D8AAAAAAADgPwAAAAAAAAAAAAAAAAAA8D8=",
            "dtype": "f8"
           },
           "z": {
            "bdata": "AAAAAAAAAAAAAAAAAAAAABC0yHa+n4o/ELTIdr6fij8=",
            "dtype": "f8"
           }
          },
          {
           "name": "Fixed Nodes",
           "type": "scatter3d",
           "x": [],
           "y": [],
           "z": []
          },
          {
           "name": "Edges",
           "type": "scatter3d",
           "x": [
            0,
            1,
            null,
            0.5,
            0.5,
            null
           ],
           "y": [
            0.5,
            0.5,
            null,
            0,
            1,
            null
           ],
           "z": [
            0,
            0,
            null,
            0.012999999999999928,
            0.012999999999999928,
            null
           ]
          },
          {
           "i": [],
           "j": [],
           "k": [],
           "name": "Faces",
           "type": "mesh3d",
           "x": {
            "bdata": "AAAAAAAAAAAAAAAAAADwPwAAAAAAAOA/AAAAAAAA4D8=",
            "dtype": "f8"
           },
           "y": {
            "bdata": "AAAAAAAA4D8AAAAAAADgPwAAAAAAAAAAAAAAAAAA8D8=",
            "dtype": "f8"
           },
           "z": {
            "bdata": "AAAAAAAAAAAAAAAAAAAAABC0yHa+n4o/ELTIdr6fij8=",
            "dtype": "f8"
           }
          }
         ],
         "layout": {
          "annotations": [
           {
            "showarrow": false,
            "text": "Time: 0.86s (Step: 87/100)",
            "x": 0.05,
            "xref": "paper",
            "y": 0.95,
            "yref": "paper"
           }
          ]
         },
         "name": "86"
        },
        {
         "data": [
          {
           "name": "Free Nodes",
           "type": "scatter3d",
           "x": {
            "bdata": "AAAAAAAAAAAAAAAAAADwPwAAAAAAAOA/AAAAAAAA4D8=",
            "dtype": "f8"
           },
           "y": {
            "bdata": "AAAAAAAA4D8AAAAAAADgPwAAAAAAAAAAAAAAAAAA8D8=",
            "dtype": "f8"
           },
           "z": {
            "bdata": "AAAAAAAAAAAAAAAAAAAAANB+arx0k4g/0H5qvHSTiD8=",
            "dtype": "f8"
           }
          },
          {
           "name": "Fixed Nodes",
           "type": "scatter3d",
           "x": [],
           "y": [],
           "z": []
          },
          {
           "name": "Edges",
           "type": "scatter3d",
           "x": [
            0,
            1,
            null,
            0.5,
            0.5,
            null
           ],
           "y": [
            0.5,
            0.5,
            null,
            0,
            1,
            null
           ],
           "z": [
            0,
            0,
            null,
            0.011999999999999927,
            0.011999999999999927,
            null
           ]
          },
          {
           "i": [],
           "j": [],
           "k": [],
           "name": "Faces",
           "type": "mesh3d",
           "x": {
            "bdata": "AAAAAAAAAAAAAAAAAADwPwAAAAAAAOA/AAAAAAAA4D8=",
            "dtype": "f8"
           },
           "y": {
            "bdata": "AAAAAAAA4D8AAAAAAADgPwAAAAAAAAAAAAAAAAAA8D8=",
            "dtype": "f8"
           },
           "z": {
            "bdata": "AAAAAAAAAAAAAAAAAAAAANB+arx0k4g/0H5qvHSTiD8=",
            "dtype": "f8"
           }
          }
         ],
         "layout": {
          "annotations": [
           {
            "showarrow": false,
            "text": "Time: 0.87s (Step: 88/100)",
            "x": 0.05,
            "xref": "paper",
            "y": 0.95,
            "yref": "paper"
           }
          ]
         },
         "name": "87"
        },
        {
         "data": [
          {
           "name": "Free Nodes",
           "type": "scatter3d",
           "x": {
            "bdata": "AAAAAAAAAAAAAAAAAADwPwAAAAAAAOA/AAAAAAAA4D8=",
            "dtype": "f8"
           },
           "y": {
            "bdata": "AAAAAAAA4D8AAAAAAADgPwAAAAAAAAAAAAAAAAAA8D8=",
            "dtype": "f8"
           },
           "z": {
            "bdata": "AAAAAAAAAAAAAAAAAAAAAJBJDAIrh4Y/kEkMAiuHhj8=",
            "dtype": "f8"
           }
          },
          {
           "name": "Fixed Nodes",
           "type": "scatter3d",
           "x": [],
           "y": [],
           "z": []
          },
          {
           "name": "Edges",
           "type": "scatter3d",
           "x": [
            0,
            1,
            null,
            0.5,
            0.5,
            null
           ],
           "y": [
            0.5,
            0.5,
            null,
            0,
            1,
            null
           ],
           "z": [
            0,
            0,
            null,
            0.010999999999999927,
            0.010999999999999927,
            null
           ]
          },
          {
           "i": [],
           "j": [],
           "k": [],
           "name": "Faces",
           "type": "mesh3d",
           "x": {
            "bdata": "AAAAAAAAAAAAAAAAAADwPwAAAAAAAOA/AAAAAAAA4D8=",
            "dtype": "f8"
           },
           "y": {
            "bdata": "AAAAAAAA4D8AAAAAAADgPwAAAAAAAAAAAAAAAAAA8D8=",
            "dtype": "f8"
           },
           "z": {
            "bdata": "AAAAAAAAAAAAAAAAAAAAAJBJDAIrh4Y/kEkMAiuHhj8=",
            "dtype": "f8"
           }
          }
         ],
         "layout": {
          "annotations": [
           {
            "showarrow": false,
            "text": "Time: 0.88s (Step: 89/100)",
            "x": 0.05,
            "xref": "paper",
            "y": 0.95,
            "yref": "paper"
           }
          ]
         },
         "name": "88"
        },
        {
         "data": [
          {
           "name": "Free Nodes",
           "type": "scatter3d",
           "x": {
            "bdata": "AAAAAAAAAAAAAAAAAADwPwAAAAAAAOA/AAAAAAAA4D8=",
            "dtype": "f8"
           },
           "y": {
            "bdata": "AAAAAAAA4D8AAAAAAADgPwAAAAAAAAAAAAAAAAAA8D8=",
            "dtype": "f8"
           },
           "z": {
            "bdata": "AAAAAAAAAAAAAAAAAAAAAFAUrkfheoQ/UBSuR+F6hD8=",
            "dtype": "f8"
           }
          },
          {
           "name": "Fixed Nodes",
           "type": "scatter3d",
           "x": [],
           "y": [],
           "z": []
          },
          {
           "name": "Edges",
           "type": "scatter3d",
           "x": [
            0,
            1,
            null,
            0.5,
            0.5,
            null
           ],
           "y": [
            0.5,
            0.5,
            null,
            0,
            1,
            null
           ],
           "z": [
            0,
            0,
            null,
            0.009999999999999926,
            0.009999999999999926,
            null
           ]
          },
          {
           "i": [],
           "j": [],
           "k": [],
           "name": "Faces",
           "type": "mesh3d",
           "x": {
            "bdata": "AAAAAAAAAAAAAAAAAADwPwAAAAAAAOA/AAAAAAAA4D8=",
            "dtype": "f8"
           },
           "y": {
            "bdata": "AAAAAAAA4D8AAAAAAADgPwAAAAAAAAAAAAAAAAAA8D8=",
            "dtype": "f8"
           },
           "z": {
            "bdata": "AAAAAAAAAAAAAAAAAAAAAFAUrkfheoQ/UBSuR+F6hD8=",
            "dtype": "f8"
           }
          }
         ],
         "layout": {
          "annotations": [
           {
            "showarrow": false,
            "text": "Time: 0.89s (Step: 90/100)",
            "x": 0.05,
            "xref": "paper",
            "y": 0.95,
            "yref": "paper"
           }
          ]
         },
         "name": "89"
        },
        {
         "data": [
          {
           "name": "Free Nodes",
           "type": "scatter3d",
           "x": {
            "bdata": "AAAAAAAAAAAAAAAAAADwPwAAAAAAAOA/AAAAAAAA4D8=",
            "dtype": "f8"
           },
           "y": {
            "bdata": "AAAAAAAA4D8AAAAAAADgPwAAAAAAAAAAAAAAAAAA8D8=",
            "dtype": "f8"
           },
           "z": {
            "bdata": "AAAAAAAAAAAAAAAAAAAAABDfT42XboI/EN9PjZdugj8=",
            "dtype": "f8"
           }
          },
          {
           "name": "Fixed Nodes",
           "type": "scatter3d",
           "x": [],
           "y": [],
           "z": []
          },
          {
           "name": "Edges",
           "type": "scatter3d",
           "x": [
            0,
            1,
            null,
            0.5,
            0.5,
            null
           ],
           "y": [
            0.5,
            0.5,
            null,
            0,
            1,
            null
           ],
           "z": [
            0,
            0,
            null,
            0.008999999999999925,
            0.008999999999999925,
            null
           ]
          },
          {
           "i": [],
           "j": [],
           "k": [],
           "name": "Faces",
           "type": "mesh3d",
           "x": {
            "bdata": "AAAAAAAAAAAAAAAAAADwPwAAAAAAAOA/AAAAAAAA4D8=",
            "dtype": "f8"
           },
           "y": {
            "bdata": "AAAAAAAA4D8AAAAAAADgPwAAAAAAAAAAAAAAAAAA8D8=",
            "dtype": "f8"
           },
           "z": {
            "bdata": "AAAAAAAAAAAAAAAAAAAAABDfT42XboI/EN9PjZdugj8=",
            "dtype": "f8"
           }
          }
         ],
         "layout": {
          "annotations": [
           {
            "showarrow": false,
            "text": "Time: 0.90s (Step: 91/100)",
            "x": 0.05,
            "xref": "paper",
            "y": 0.95,
            "yref": "paper"
           }
          ]
         },
         "name": "90"
        },
        {
         "data": [
          {
           "name": "Free Nodes",
           "type": "scatter3d",
           "x": {
            "bdata": "AAAAAAAAAAAAAAAAAADwPwAAAAAAAOA/AAAAAAAA4D8=",
            "dtype": "f8"
           },
           "y": {
            "bdata": "AAAAAAAA4D8AAAAAAADgPwAAAAAAAAAAAAAAAAAA8D8=",
            "dtype": "f8"
           },
           "z": {
            "bdata": "AAAAAAAAAAAAAAAAAAAAANCp8dJNYoA/0Knx0k1igD8=",
            "dtype": "f8"
           }
          },
          {
           "name": "Fixed Nodes",
           "type": "scatter3d",
           "x": [],
           "y": [],
           "z": []
          },
          {
           "name": "Edges",
           "type": "scatter3d",
           "x": [
            0,
            1,
            null,
            0.5,
            0.5,
            null
           ],
           "y": [
            0.5,
            0.5,
            null,
            0,
            1,
            null
           ],
           "z": [
            0,
            0,
            null,
            0.007999999999999924,
            0.007999999999999924,
            null
           ]
          },
          {
           "i": [],
           "j": [],
           "k": [],
           "name": "Faces",
           "type": "mesh3d",
           "x": {
            "bdata": "AAAAAAAAAAAAAAAAAADwPwAAAAAAAOA/AAAAAAAA4D8=",
            "dtype": "f8"
           },
           "y": {
            "bdata": "AAAAAAAA4D8AAAAAAADgPwAAAAAAAAAAAAAAAAAA8D8=",
            "dtype": "f8"
           },
           "z": {
            "bdata": "AAAAAAAAAAAAAAAAAAAAANCp8dJNYoA/0Knx0k1igD8=",
            "dtype": "f8"
           }
          }
         ],
         "layout": {
          "annotations": [
           {
            "showarrow": false,
            "text": "Time: 0.91s (Step: 92/100)",
            "x": 0.05,
            "xref": "paper",
            "y": 0.95,
            "yref": "paper"
           }
          ]
         },
         "name": "91"
        },
        {
         "data": [
          {
           "name": "Free Nodes",
           "type": "scatter3d",
           "x": {
            "bdata": "AAAAAAAAAAAAAAAAAADwPwAAAAAAAOA/AAAAAAAA4D8=",
            "dtype": "f8"
           },
           "y": {
            "bdata": "AAAAAAAA4D8AAAAAAADgPwAAAAAAAAAAAAAAAAAA8D8=",
            "dtype": "f8"
           },
           "z": {
            "bdata": "AAAAAAAAAAAAAAAAAAAAACDpJjEIrHw/IOkmMQisfD8=",
            "dtype": "f8"
           }
          },
          {
           "name": "Fixed Nodes",
           "type": "scatter3d",
           "x": [],
           "y": [],
           "z": []
          },
          {
           "name": "Edges",
           "type": "scatter3d",
           "x": [
            0,
            1,
            null,
            0.5,
            0.5,
            null
           ],
           "y": [
            0.5,
            0.5,
            null,
            0,
            1,
            null
           ],
           "z": [
            0,
            0,
            null,
            0.006999999999999923,
            0.006999999999999923,
            null
           ]
          },
          {
           "i": [],
           "j": [],
           "k": [],
           "name": "Faces",
           "type": "mesh3d",
           "x": {
            "bdata": "AAAAAAAAAAAAAAAAAADwPwAAAAAAAOA/AAAAAAAA4D8=",
            "dtype": "f8"
           },
           "y": {
            "bdata": "AAAAAAAA4D8AAAAAAADgPwAAAAAAAAAAAAAAAAAA8D8=",
            "dtype": "f8"
           },
           "z": {
            "bdata": "AAAAAAAAAAAAAAAAAAAAACDpJjEIrHw/IOkmMQisfD8=",
            "dtype": "f8"
           }
          }
         ],
         "layout": {
          "annotations": [
           {
            "showarrow": false,
            "text": "Time: 0.92s (Step: 93/100)",
            "x": 0.05,
            "xref": "paper",
            "y": 0.95,
            "yref": "paper"
           }
          ]
         },
         "name": "92"
        },
        {
         "data": [
          {
           "name": "Free Nodes",
           "type": "scatter3d",
           "x": {
            "bdata": "AAAAAAAAAAAAAAAAAADwPwAAAAAAAOA/AAAAAAAA4D8=",
            "dtype": "f8"
           },
           "y": {
            "bdata": "AAAAAAAA4D8AAAAAAADgPwAAAAAAAAAAAAAAAAAA8D8=",
            "dtype": "f8"
           },
           "z": {
            "bdata": "AAAAAAAAAAAAAAAAAAAAAKB+arx0k3g/oH5qvHSTeD8=",
            "dtype": "f8"
           }
          },
          {
           "name": "Fixed Nodes",
           "type": "scatter3d",
           "x": [],
           "y": [],
           "z": []
          },
          {
           "name": "Edges",
           "type": "scatter3d",
           "x": [
            0,
            1,
            null,
            0.5,
            0.5,
            null
           ],
           "y": [
            0.5,
            0.5,
            null,
            0,
            1,
            null
           ],
           "z": [
            0,
            0,
            null,
            0.005999999999999922,
            0.005999999999999922,
            null
           ]
          },
          {
           "i": [],
           "j": [],
           "k": [],
           "name": "Faces",
           "type": "mesh3d",
           "x": {
            "bdata": "AAAAAAAAAAAAAAAAAADwPwAAAAAAAOA/AAAAAAAA4D8=",
            "dtype": "f8"
           },
           "y": {
            "bdata": "AAAAAAAA4D8AAAAAAADgPwAAAAAAAAAAAAAAAAAA8D8=",
            "dtype": "f8"
           },
           "z": {
            "bdata": "AAAAAAAAAAAAAAAAAAAAAKB+arx0k3g/oH5qvHSTeD8=",
            "dtype": "f8"
           }
          }
         ],
         "layout": {
          "annotations": [
           {
            "showarrow": false,
            "text": "Time: 0.93s (Step: 94/100)",
            "x": 0.05,
            "xref": "paper",
            "y": 0.95,
            "yref": "paper"
           }
          ]
         },
         "name": "93"
        },
        {
         "data": [
          {
           "name": "Free Nodes",
           "type": "scatter3d",
           "x": {
            "bdata": "AAAAAAAAAAAAAAAAAADwPwAAAAAAAOA/AAAAAAAA4D8=",
            "dtype": "f8"
           },
           "y": {
            "bdata": "AAAAAAAA4D8AAAAAAADgPwAAAAAAAAAAAAAAAAAA8D8=",
            "dtype": "f8"
           },
           "z": {
            "bdata": "AAAAAAAAAAAAAAAAAAAAACAUrkfhenQ/IBSuR+F6dD8=",
            "dtype": "f8"
           }
          },
          {
           "name": "Fixed Nodes",
           "type": "scatter3d",
           "x": [],
           "y": [],
           "z": []
          },
          {
           "name": "Edges",
           "type": "scatter3d",
           "x": [
            0,
            1,
            null,
            0.5,
            0.5,
            null
           ],
           "y": [
            0.5,
            0.5,
            null,
            0,
            1,
            null
           ],
           "z": [
            0,
            0,
            null,
            0.004999999999999921,
            0.004999999999999921,
            null
           ]
          },
          {
           "i": [],
           "j": [],
           "k": [],
           "name": "Faces",
           "type": "mesh3d",
           "x": {
            "bdata": "AAAAAAAAAAAAAAAAAADwPwAAAAAAAOA/AAAAAAAA4D8=",
            "dtype": "f8"
           },
           "y": {
            "bdata": "AAAAAAAA4D8AAAAAAADgPwAAAAAAAAAAAAAAAAAA8D8=",
            "dtype": "f8"
           },
           "z": {
            "bdata": "AAAAAAAAAAAAAAAAAAAAACAUrkfhenQ/IBSuR+F6dD8=",
            "dtype": "f8"
           }
          }
         ],
         "layout": {
          "annotations": [
           {
            "showarrow": false,
            "text": "Time: 0.94s (Step: 95/100)",
            "x": 0.05,
            "xref": "paper",
            "y": 0.95,
            "yref": "paper"
           }
          ]
         },
         "name": "94"
        },
        {
         "data": [
          {
           "name": "Free Nodes",
           "type": "scatter3d",
           "x": {
            "bdata": "YluhzQgZaj1r7//////vPzqn/////98/5TUAAAAA4D8=",
            "dtype": "f8"
           },
           "y": {
            "bdata": "NEEAAAAA4D+CzP/////fPzgQ+/vAKHE9kAIAAAAA8D8=",
            "dtype": "f8"
           },
           "z": {
            "bdata": "CCc+mJRGcD8PJz6YlEZwP/zCVTzuuPs+OMRVPO64+z4=",
            "dtype": "f8"
           }
          },
          {
           "name": "Fixed Nodes",
           "type": "scatter3d",
           "x": [],
           "y": [],
           "z": []
          },
          {
           "name": "Edges",
           "type": "scatter3d",
           "x": [
            7.417438205502982e-13,
            0.9999999999995287,
            null,
            0.49999999999873845,
            0.5000000000015318,
            null
           ],
           "y": [
            0.5000000000018532,
            0.49999999999926825,
            null,
            9.753872920283062e-13,
            1.0000000000001457,
            null
           ],
           "z": [
            0.003973560760536683,
            0.003973560760536689,
            null,
            0.00002643812674335814,
            0.00002643812674335921,
            null
           ]
          },
          {
           "i": [],
           "j": [],
           "k": [],
           "name": "Faces",
           "type": "mesh3d",
           "x": {
            "bdata": "YluhzQgZaj1r7//////vPzqn/////98/5TUAAAAA4D8=",
            "dtype": "f8"
           },
           "y": {
            "bdata": "NEEAAAAA4D+CzP/////fPzgQ+/vAKHE9kAIAAAAA8D8=",
            "dtype": "f8"
           },
           "z": {
            "bdata": "CCc+mJRGcD8PJz6YlEZwP/zCVTzuuPs+OMRVPO64+z4=",
            "dtype": "f8"
           }
          }
         ],
         "layout": {
          "annotations": [
           {
            "showarrow": false,
            "text": "Time: 0.95s (Step: 96/100)",
            "x": 0.05,
            "xref": "paper",
            "y": 0.95,
            "yref": "paper"
           }
          ]
         },
         "name": "95"
        },
        {
         "data": [
          {
           "name": "Free Nodes",
           "type": "scatter3d",
           "x": {
            "bdata": "AADUoAJRcT1m8P/////vP6WQ/////98/sUoAAAAA4D8=",
            "dtype": "f8"
           },
           "y": {
            "bdata": "8n8AAAAA4D/wnf/////fPwAAAJMzKno9Rw0AAAAA8D8=",
            "dtype": "f8"
           },
           "z": {
            "bdata": "ACg+mJRGgD8AID6YlEaAPwCANWtvQ3S/AHA1a29DdL8=",
            "dtype": "f8"
           }
          },
          {
           "name": "Fixed Nodes",
           "type": "scatter3d",
           "x": [],
           "y": [],
           "z": []
          },
          {
           "name": "Edges",
           "type": "scatter3d",
           "x": [
            9.843260132630226e-13,
            0.9999999999995566,
            null,
            0.49999999999841754,
            0.5000000000021229,
            null
           ],
           "y": [
            0.5000000000036364,
            0.49999999999860645,
            null,
            1.48729949729187e-12,
            1.0000000000007547,
            null
           ],
           "z": [
            0.007947121521073797,
            0.007947121521070244,
            null,
            -0.0049471237465184,
            -0.004947123746514848,
            null
           ]
          },
          {
           "i": [],
           "j": [],
           "k": [],
           "name": "Faces",
           "type": "mesh3d",
           "x": {
            "bdata": "AADUoAJRcT1m8P/////vP6WQ/////98/sUoAAAAA4D8=",
            "dtype": "f8"
           },
           "y": {
            "bdata": "8n8AAAAA4D/wnf/////fPwAAAJMzKno9Rw0AAAAA8D8=",
            "dtype": "f8"
           },
           "z": {
            "bdata": "ACg+mJRGgD8AID6YlEaAPwCANWtvQ3S/AHA1a29DdL8=",
            "dtype": "f8"
           }
          }
         ],
         "layout": {
          "annotations": [
           {
            "showarrow": false,
            "text": "Time: 0.96s (Step: 97/100)",
            "x": 0.05,
            "xref": "paper",
            "y": 0.95,
            "yref": "paper"
           }
          ]
         },
         "name": "96"
        },
        {
         "data": [
          {
           "name": "Free Nodes",
           "type": "scatter3d",
           "x": {
            "bdata": "c3x6njWcbz3w/P/////vPxB6/////98/fV8AAAAA4D8=",
            "dtype": "f8"
           },
           "y": {
            "bdata": "sL4AAAAA4D9eb//////fP3Nm6AWud4A9OhoAAAAA8D8=",
            "dtype": "f8"
           },
           "z": {
            "bdata": "fDxd5N5piD94LF3k3mmIP+KqU+JLUYS/4ppT4ktRhL8=",
            "dtype": "f8"
           }
          },
          {
           "name": "Fixed Nodes",
           "type": "scatter3d",
           "x": [],
           "y": [],
           "z": []
          },
          {
           "name": "Edges",
           "type": "scatter3d",
           "x": [
            8.984157250856899e-13,
            0.999999999999913,
            null,
            0.49999999999809663,
            0.5000000000027139,
            null
           ],
           "y": [
            0.5000000000054197,
            0.49999999999794464,
            null,
            1.8721379014357337e-12,
            1.0000000000014908,
            null
           ],
           "z": [
            0.01192068228161091,
            0.011920682281603798,
            null,
            -0.00992068561978016,
            -0.009920685619773054,
            null
           ]
          },
          {
           "i": [],
           "j": [],
           "k": [],
           "name": "Faces",
           "type": "mesh3d",
           "x": {
            "bdata": "c3x6njWcbz3w/P/////vPxB6/////98/fV8AAAAA4D8=",
            "dtype": "f8"
           },
           "y": {
            "bdata": "sL4AAAAA4D9eb//////fP3Nm6AWud4A9OhoAAAAA8D8=",
            "dtype": "f8"
           },
           "z": {
            "bdata": "fDxd5N5piD94LF3k3mmIP+KqU+JLUYS/4ppT4ktRhL8=",
            "dtype": "f8"
           }
          }
         ],
         "layout": {
          "annotations": [
           {
            "showarrow": false,
            "text": "Time: 0.97s (Step: 98/100)",
            "x": 0.05,
            "xref": "paper",
            "y": 0.95,
            "yref": "paper"
           }
          ]
         },
         "name": "97"
        },
        {
         "data": [
          {
           "name": "Free Nodes",
           "type": "scatter3d",
           "x": {
            "bdata": "BAe96PXDaD2mBgAAAADwP3tj/////98/SXQAAAAA4D8=",
            "dtype": "f8"
           },
           "y": {
            "bdata": "bv0AAAAA4D/MQP/////fP/Qmb2mxzIM9SCcAAAAA8D8=",
            "dtype": "f8"
           },
           "z": {
            "bdata": "fCg+mJRGkD94HD6YlEaQP8SVDA/ggI6/xH0MD+CAjr8=",
            "dtype": "f8"
           }
          },
          {
           "name": "Fixed Nodes",
           "type": "scatter3d",
           "x": [],
           "y": [],
           "z": []
          },
          {
           "name": "Edges",
           "type": "scatter3d",
           "x": [
            7.038770213969563e-13,
            1.000000000000378,
            null,
            0.4999999999977757,
            0.500000000003305,
            null
           ],
           "y": [
            0.5000000000072029,
            0.49999999999728284,
            null,
            2.250951876025214e-12,
            1.0000000000022329,
            null
           ],
           "z": [
            0.015894243042148024,
            0.01589424304213735,
            null,
            -0.01489424749304192,
            -0.014894247493031261,
            null
           ]
          },
          {
           "i": [],
           "j": [],
           "k": [],
           "name": "Faces",
           "type": "mesh3d",
           "x": {
            "bdata": "BAe96PXDaD2mBgAAAADwP3tj/////98/SXQAAAAA4D8=",
            "dtype": "f8"
           },
           "y": {
            "bdata": "bv0AAAAA4D/MQP/////fP/Qmb2mxzIM9SCcAAAAA8D8=",
            "dtype": "f8"
           },
           "z": {
            "bdata": "fCg+mJRGkD94HD6YlEaQP8SVDA/ggI6/xH0MD+CAjr8=",
            "dtype": "f8"
           }
          }
         ],
         "layout": {
          "annotations": [
           {
            "showarrow": false,
            "text": "Time: 0.98s (Step: 99/100)",
            "x": 0.05,
            "xref": "paper",
            "y": 0.95,
            "yref": "paper"
           }
          ]
         },
         "name": "98"
        },
        {
         "data": [
          {
           "name": "Free Nodes",
           "type": "scatter3d",
           "x": {
            "bdata": "Isu/vY9EZD2oDQAAAADwP+ZM/////98/FYkAAAAA4D8=",
            "dtype": "f8"
           },
           "y": {
            "bdata": "LDwBAAAA4D86Ev/////fP7bKp1InvYc9HzMAAAAA8D8=",
            "dtype": "f8"
           },
           "z": {
            "bdata": "urJNvjlYlD+0ok2+OViUP1PA4h06WJS/U7DiHTpYlL8=",
            "dtype": "f8"
           }
          },
          {
           "name": "Fixed Nodes",
           "type": "scatter3d",
           "x": [],
           "y": [],
           "z": []
          },
          {
           "name": "Edges",
           "type": "scatter3d",
           "x": [
            5.760460429874343e-13,
            1.0000000000007763,
            null,
            0.4999999999974548,
            0.5000000000038961,
            null
           ],
           "y": [
            0.5000000000089861,
            0.49999999999662104,
            null,
            2.69879834256942e-12,
            1.000000000002906,
            null
           ],
           "z": [
            0.019867803802685137,
            0.019867803802670905,
            null,
            -0.01986780936630368,
            -0.019867809366289468,
            null
           ]
          },
          {
           "i": [],
           "j": [],
           "k": [],
           "name": "Faces",
           "type": "mesh3d",
           "x": {
            "bdata": "Isu/vY9EZD2oDQAAAADwP+ZM/////98/FYkAAAAA4D8=",
            "dtype": "f8"
           },
           "y": {
            "bdata": "LDwBAAAA4D86Ev/////fP7bKp1InvYc9HzMAAAAA8D8=",
            "dtype": "f8"
           },
           "z": {
            "bdata": "urJNvjlYlD+0ok2+OViUP1PA4h06WJS/U7DiHTpYlL8=",
            "dtype": "f8"
           }
          }
         ],
         "layout": {
          "annotations": [
           {
            "showarrow": false,
            "text": "Time: 0.99s (Step: 100/100)",
            "x": 0.05,
            "xref": "paper",
            "y": 0.95,
            "yref": "paper"
           }
          ]
         },
         "name": "99"
        }
       ],
       "layout": {
        "scene": {
         "camera": {
          "eye": {
           "x": 1.2247448713915892,
           "y": 1.2247448713915892,
           "z": 0.9999999999999999
          }
         },
         "xaxis": {
          "range": [
           0,
           1.0000000000007763
          ],
          "title": {
           "text": "X Position"
          }
         },
         "yaxis": {
          "range": [
           0,
           1.000000000002906
          ],
          "title": {
           "text": "Y Position"
          }
         },
         "zaxis": {
          "range": [
           -0.01986780936630368,
           0.099
          ],
          "title": {
           "text": "Z Position"
          }
         }
        },
        "sliders": [
         {
          "currentvalue": {
           "prefix": "Frame: "
          },
          "steps": [
           {
            "args": [
             [
              "0"
             ],
             {
              "frame": {
               "duration": 50,
               "redraw": true
              },
              "mode": "immediate"
             }
            ],
            "label": "0",
            "method": "animate"
           },
           {
            "args": [
             [
              "1"
             ],
             {
              "frame": {
               "duration": 50,
               "redraw": true
              },
              "mode": "immediate"
             }
            ],
            "label": "1",
            "method": "animate"
           },
           {
            "args": [
             [
              "2"
             ],
             {
              "frame": {
               "duration": 50,
               "redraw": true
              },
              "mode": "immediate"
             }
            ],
            "label": "2",
            "method": "animate"
           },
           {
            "args": [
             [
              "3"
             ],
             {
              "frame": {
               "duration": 50,
               "redraw": true
              },
              "mode": "immediate"
             }
            ],
            "label": "3",
            "method": "animate"
           },
           {
            "args": [
             [
              "4"
             ],
             {
              "frame": {
               "duration": 50,
               "redraw": true
              },
              "mode": "immediate"
             }
            ],
            "label": "4",
            "method": "animate"
           },
           {
            "args": [
             [
              "5"
             ],
             {
              "frame": {
               "duration": 50,
               "redraw": true
              },
              "mode": "immediate"
             }
            ],
            "label": "5",
            "method": "animate"
           },
           {
            "args": [
             [
              "6"
             ],
             {
              "frame": {
               "duration": 50,
               "redraw": true
              },
              "mode": "immediate"
             }
            ],
            "label": "6",
            "method": "animate"
           },
           {
            "args": [
             [
              "7"
             ],
             {
              "frame": {
               "duration": 50,
               "redraw": true
              },
              "mode": "immediate"
             }
            ],
            "label": "7",
            "method": "animate"
           },
           {
            "args": [
             [
              "8"
             ],
             {
              "frame": {
               "duration": 50,
               "redraw": true
              },
              "mode": "immediate"
             }
            ],
            "label": "8",
            "method": "animate"
           },
           {
            "args": [
             [
              "9"
             ],
             {
              "frame": {
               "duration": 50,
               "redraw": true
              },
              "mode": "immediate"
             }
            ],
            "label": "9",
            "method": "animate"
           },
           {
            "args": [
             [
              "10"
             ],
             {
              "frame": {
               "duration": 50,
               "redraw": true
              },
              "mode": "immediate"
             }
            ],
            "label": "10",
            "method": "animate"
           },
           {
            "args": [
             [
              "11"
             ],
             {
              "frame": {
               "duration": 50,
               "redraw": true
              },
              "mode": "immediate"
             }
            ],
            "label": "11",
            "method": "animate"
           },
           {
            "args": [
             [
              "12"
             ],
             {
              "frame": {
               "duration": 50,
               "redraw": true
              },
              "mode": "immediate"
             }
            ],
            "label": "12",
            "method": "animate"
           },
           {
            "args": [
             [
              "13"
             ],
             {
              "frame": {
               "duration": 50,
               "redraw": true
              },
              "mode": "immediate"
             }
            ],
            "label": "13",
            "method": "animate"
           },
           {
            "args": [
             [
              "14"
             ],
             {
              "frame": {
               "duration": 50,
               "redraw": true
              },
              "mode": "immediate"
             }
            ],
            "label": "14",
            "method": "animate"
           },
           {
            "args": [
             [
              "15"
             ],
             {
              "frame": {
               "duration": 50,
               "redraw": true
              },
              "mode": "immediate"
             }
            ],
            "label": "15",
            "method": "animate"
           },
           {
            "args": [
             [
              "16"
             ],
             {
              "frame": {
               "duration": 50,
               "redraw": true
              },
              "mode": "immediate"
             }
            ],
            "label": "16",
            "method": "animate"
           },
           {
            "args": [
             [
              "17"
             ],
             {
              "frame": {
               "duration": 50,
               "redraw": true
              },
              "mode": "immediate"
             }
            ],
            "label": "17",
            "method": "animate"
           },
           {
            "args": [
             [
              "18"
             ],
             {
              "frame": {
               "duration": 50,
               "redraw": true
              },
              "mode": "immediate"
             }
            ],
            "label": "18",
            "method": "animate"
           },
           {
            "args": [
             [
              "19"
             ],
             {
              "frame": {
               "duration": 50,
               "redraw": true
              },
              "mode": "immediate"
             }
            ],
            "label": "19",
            "method": "animate"
           },
           {
            "args": [
             [
              "20"
             ],
             {
              "frame": {
               "duration": 50,
               "redraw": true
              },
              "mode": "immediate"
             }
            ],
            "label": "20",
            "method": "animate"
           },
           {
            "args": [
             [
              "21"
             ],
             {
              "frame": {
               "duration": 50,
               "redraw": true
              },
              "mode": "immediate"
             }
            ],
            "label": "21",
            "method": "animate"
           },
           {
            "args": [
             [
              "22"
             ],
             {
              "frame": {
               "duration": 50,
               "redraw": true
              },
              "mode": "immediate"
             }
            ],
            "label": "22",
            "method": "animate"
           },
           {
            "args": [
             [
              "23"
             ],
             {
              "frame": {
               "duration": 50,
               "redraw": true
              },
              "mode": "immediate"
             }
            ],
            "label": "23",
            "method": "animate"
           },
           {
            "args": [
             [
              "24"
             ],
             {
              "frame": {
               "duration": 50,
               "redraw": true
              },
              "mode": "immediate"
             }
            ],
            "label": "24",
            "method": "animate"
           },
           {
            "args": [
             [
              "25"
             ],
             {
              "frame": {
               "duration": 50,
               "redraw": true
              },
              "mode": "immediate"
             }
            ],
            "label": "25",
            "method": "animate"
           },
           {
            "args": [
             [
              "26"
             ],
             {
              "frame": {
               "duration": 50,
               "redraw": true
              },
              "mode": "immediate"
             }
            ],
            "label": "26",
            "method": "animate"
           },
           {
            "args": [
             [
              "27"
             ],
             {
              "frame": {
               "duration": 50,
               "redraw": true
              },
              "mode": "immediate"
             }
            ],
            "label": "27",
            "method": "animate"
           },
           {
            "args": [
             [
              "28"
             ],
             {
              "frame": {
               "duration": 50,
               "redraw": true
              },
              "mode": "immediate"
             }
            ],
            "label": "28",
            "method": "animate"
           },
           {
            "args": [
             [
              "29"
             ],
             {
              "frame": {
               "duration": 50,
               "redraw": true
              },
              "mode": "immediate"
             }
            ],
            "label": "29",
            "method": "animate"
           },
           {
            "args": [
             [
              "30"
             ],
             {
              "frame": {
               "duration": 50,
               "redraw": true
              },
              "mode": "immediate"
             }
            ],
            "label": "30",
            "method": "animate"
           },
           {
            "args": [
             [
              "31"
             ],
             {
              "frame": {
               "duration": 50,
               "redraw": true
              },
              "mode": "immediate"
             }
            ],
            "label": "31",
            "method": "animate"
           },
           {
            "args": [
             [
              "32"
             ],
             {
              "frame": {
               "duration": 50,
               "redraw": true
              },
              "mode": "immediate"
             }
            ],
            "label": "32",
            "method": "animate"
           },
           {
            "args": [
             [
              "33"
             ],
             {
              "frame": {
               "duration": 50,
               "redraw": true
              },
              "mode": "immediate"
             }
            ],
            "label": "33",
            "method": "animate"
           },
           {
            "args": [
             [
              "34"
             ],
             {
              "frame": {
               "duration": 50,
               "redraw": true
              },
              "mode": "immediate"
             }
            ],
            "label": "34",
            "method": "animate"
           },
           {
            "args": [
             [
              "35"
             ],
             {
              "frame": {
               "duration": 50,
               "redraw": true
              },
              "mode": "immediate"
             }
            ],
            "label": "35",
            "method": "animate"
           },
           {
            "args": [
             [
              "36"
             ],
             {
              "frame": {
               "duration": 50,
               "redraw": true
              },
              "mode": "immediate"
             }
            ],
            "label": "36",
            "method": "animate"
           },
           {
            "args": [
             [
              "37"
             ],
             {
              "frame": {
               "duration": 50,
               "redraw": true
              },
              "mode": "immediate"
             }
            ],
            "label": "37",
            "method": "animate"
           },
           {
            "args": [
             [
              "38"
             ],
             {
              "frame": {
               "duration": 50,
               "redraw": true
              },
              "mode": "immediate"
             }
            ],
            "label": "38",
            "method": "animate"
           },
           {
            "args": [
             [
              "39"
             ],
             {
              "frame": {
               "duration": 50,
               "redraw": true
              },
              "mode": "immediate"
             }
            ],
            "label": "39",
            "method": "animate"
           },
           {
            "args": [
             [
              "40"
             ],
             {
              "frame": {
               "duration": 50,
               "redraw": true
              },
              "mode": "immediate"
             }
            ],
            "label": "40",
            "method": "animate"
           },
           {
            "args": [
             [
              "41"
             ],
             {
              "frame": {
               "duration": 50,
               "redraw": true
              },
              "mode": "immediate"
             }
            ],
            "label": "41",
            "method": "animate"
           },
           {
            "args": [
             [
              "42"
             ],
             {
              "frame": {
               "duration": 50,
               "redraw": true
              },
              "mode": "immediate"
             }
            ],
            "label": "42",
            "method": "animate"
           },
           {
            "args": [
             [
              "43"
             ],
             {
              "frame": {
               "duration": 50,
               "redraw": true
              },
              "mode": "immediate"
             }
            ],
            "label": "43",
            "method": "animate"
           },
           {
            "args": [
             [
              "44"
             ],
             {
              "frame": {
               "duration": 50,
               "redraw": true
              },
              "mode": "immediate"
             }
            ],
            "label": "44",
            "method": "animate"
           },
           {
            "args": [
             [
              "45"
             ],
             {
              "frame": {
               "duration": 50,
               "redraw": true
              },
              "mode": "immediate"
             }
            ],
            "label": "45",
            "method": "animate"
           },
           {
            "args": [
             [
              "46"
             ],
             {
              "frame": {
               "duration": 50,
               "redraw": true
              },
              "mode": "immediate"
             }
            ],
            "label": "46",
            "method": "animate"
           },
           {
            "args": [
             [
              "47"
             ],
             {
              "frame": {
               "duration": 50,
               "redraw": true
              },
              "mode": "immediate"
             }
            ],
            "label": "47",
            "method": "animate"
           },
           {
            "args": [
             [
              "48"
             ],
             {
              "frame": {
               "duration": 50,
               "redraw": true
              },
              "mode": "immediate"
             }
            ],
            "label": "48",
            "method": "animate"
           },
           {
            "args": [
             [
              "49"
             ],
             {
              "frame": {
               "duration": 50,
               "redraw": true
              },
              "mode": "immediate"
             }
            ],
            "label": "49",
            "method": "animate"
           },
           {
            "args": [
             [
              "50"
             ],
             {
              "frame": {
               "duration": 50,
               "redraw": true
              },
              "mode": "immediate"
             }
            ],
            "label": "50",
            "method": "animate"
           },
           {
            "args": [
             [
              "51"
             ],
             {
              "frame": {
               "duration": 50,
               "redraw": true
              },
              "mode": "immediate"
             }
            ],
            "label": "51",
            "method": "animate"
           },
           {
            "args": [
             [
              "52"
             ],
             {
              "frame": {
               "duration": 50,
               "redraw": true
              },
              "mode": "immediate"
             }
            ],
            "label": "52",
            "method": "animate"
           },
           {
            "args": [
             [
              "53"
             ],
             {
              "frame": {
               "duration": 50,
               "redraw": true
              },
              "mode": "immediate"
             }
            ],
            "label": "53",
            "method": "animate"
           },
           {
            "args": [
             [
              "54"
             ],
             {
              "frame": {
               "duration": 50,
               "redraw": true
              },
              "mode": "immediate"
             }
            ],
            "label": "54",
            "method": "animate"
           },
           {
            "args": [
             [
              "55"
             ],
             {
              "frame": {
               "duration": 50,
               "redraw": true
              },
              "mode": "immediate"
             }
            ],
            "label": "55",
            "method": "animate"
           },
           {
            "args": [
             [
              "56"
             ],
             {
              "frame": {
               "duration": 50,
               "redraw": true
              },
              "mode": "immediate"
             }
            ],
            "label": "56",
            "method": "animate"
           },
           {
            "args": [
             [
              "57"
             ],
             {
              "frame": {
               "duration": 50,
               "redraw": true
              },
              "mode": "immediate"
             }
            ],
            "label": "57",
            "method": "animate"
           },
           {
            "args": [
             [
              "58"
             ],
             {
              "frame": {
               "duration": 50,
               "redraw": true
              },
              "mode": "immediate"
             }
            ],
            "label": "58",
            "method": "animate"
           },
           {
            "args": [
             [
              "59"
             ],
             {
              "frame": {
               "duration": 50,
               "redraw": true
              },
              "mode": "immediate"
             }
            ],
            "label": "59",
            "method": "animate"
           },
           {
            "args": [
             [
              "60"
             ],
             {
              "frame": {
               "duration": 50,
               "redraw": true
              },
              "mode": "immediate"
             }
            ],
            "label": "60",
            "method": "animate"
           },
           {
            "args": [
             [
              "61"
             ],
             {
              "frame": {
               "duration": 50,
               "redraw": true
              },
              "mode": "immediate"
             }
            ],
            "label": "61",
            "method": "animate"
           },
           {
            "args": [
             [
              "62"
             ],
             {
              "frame": {
               "duration": 50,
               "redraw": true
              },
              "mode": "immediate"
             }
            ],
            "label": "62",
            "method": "animate"
           },
           {
            "args": [
             [
              "63"
             ],
             {
              "frame": {
               "duration": 50,
               "redraw": true
              },
              "mode": "immediate"
             }
            ],
            "label": "63",
            "method": "animate"
           },
           {
            "args": [
             [
              "64"
             ],
             {
              "frame": {
               "duration": 50,
               "redraw": true
              },
              "mode": "immediate"
             }
            ],
            "label": "64",
            "method": "animate"
           },
           {
            "args": [
             [
              "65"
             ],
             {
              "frame": {
               "duration": 50,
               "redraw": true
              },
              "mode": "immediate"
             }
            ],
            "label": "65",
            "method": "animate"
           },
           {
            "args": [
             [
              "66"
             ],
             {
              "frame": {
               "duration": 50,
               "redraw": true
              },
              "mode": "immediate"
             }
            ],
            "label": "66",
            "method": "animate"
           },
           {
            "args": [
             [
              "67"
             ],
             {
              "frame": {
               "duration": 50,
               "redraw": true
              },
              "mode": "immediate"
             }
            ],
            "label": "67",
            "method": "animate"
           },
           {
            "args": [
             [
              "68"
             ],
             {
              "frame": {
               "duration": 50,
               "redraw": true
              },
              "mode": "immediate"
             }
            ],
            "label": "68",
            "method": "animate"
           },
           {
            "args": [
             [
              "69"
             ],
             {
              "frame": {
               "duration": 50,
               "redraw": true
              },
              "mode": "immediate"
             }
            ],
            "label": "69",
            "method": "animate"
           },
           {
            "args": [
             [
              "70"
             ],
             {
              "frame": {
               "duration": 50,
               "redraw": true
              },
              "mode": "immediate"
             }
            ],
            "label": "70",
            "method": "animate"
           },
           {
            "args": [
             [
              "71"
             ],
             {
              "frame": {
               "duration": 50,
               "redraw": true
              },
              "mode": "immediate"
             }
            ],
            "label": "71",
            "method": "animate"
           },
           {
            "args": [
             [
              "72"
             ],
             {
              "frame": {
               "duration": 50,
               "redraw": true
              },
              "mode": "immediate"
             }
            ],
            "label": "72",
            "method": "animate"
           },
           {
            "args": [
             [
              "73"
             ],
             {
              "frame": {
               "duration": 50,
               "redraw": true
              },
              "mode": "immediate"
             }
            ],
            "label": "73",
            "method": "animate"
           },
           {
            "args": [
             [
              "74"
             ],
             {
              "frame": {
               "duration": 50,
               "redraw": true
              },
              "mode": "immediate"
             }
            ],
            "label": "74",
            "method": "animate"
           },
           {
            "args": [
             [
              "75"
             ],
             {
              "frame": {
               "duration": 50,
               "redraw": true
              },
              "mode": "immediate"
             }
            ],
            "label": "75",
            "method": "animate"
           },
           {
            "args": [
             [
              "76"
             ],
             {
              "frame": {
               "duration": 50,
               "redraw": true
              },
              "mode": "immediate"
             }
            ],
            "label": "76",
            "method": "animate"
           },
           {
            "args": [
             [
              "77"
             ],
             {
              "frame": {
               "duration": 50,
               "redraw": true
              },
              "mode": "immediate"
             }
            ],
            "label": "77",
            "method": "animate"
           },
           {
            "args": [
             [
              "78"
             ],
             {
              "frame": {
               "duration": 50,
               "redraw": true
              },
              "mode": "immediate"
             }
            ],
            "label": "78",
            "method": "animate"
           },
           {
            "args": [
             [
              "79"
             ],
             {
              "frame": {
               "duration": 50,
               "redraw": true
              },
              "mode": "immediate"
             }
            ],
            "label": "79",
            "method": "animate"
           },
           {
            "args": [
             [
              "80"
             ],
             {
              "frame": {
               "duration": 50,
               "redraw": true
              },
              "mode": "immediate"
             }
            ],
            "label": "80",
            "method": "animate"
           },
           {
            "args": [
             [
              "81"
             ],
             {
              "frame": {
               "duration": 50,
               "redraw": true
              },
              "mode": "immediate"
             }
            ],
            "label": "81",
            "method": "animate"
           },
           {
            "args": [
             [
              "82"
             ],
             {
              "frame": {
               "duration": 50,
               "redraw": true
              },
              "mode": "immediate"
             }
            ],
            "label": "82",
            "method": "animate"
           },
           {
            "args": [
             [
              "83"
             ],
             {
              "frame": {
               "duration": 50,
               "redraw": true
              },
              "mode": "immediate"
             }
            ],
            "label": "83",
            "method": "animate"
           },
           {
            "args": [
             [
              "84"
             ],
             {
              "frame": {
               "duration": 50,
               "redraw": true
              },
              "mode": "immediate"
             }
            ],
            "label": "84",
            "method": "animate"
           },
           {
            "args": [
             [
              "85"
             ],
             {
              "frame": {
               "duration": 50,
               "redraw": true
              },
              "mode": "immediate"
             }
            ],
            "label": "85",
            "method": "animate"
           },
           {
            "args": [
             [
              "86"
             ],
             {
              "frame": {
               "duration": 50,
               "redraw": true
              },
              "mode": "immediate"
             }
            ],
            "label": "86",
            "method": "animate"
           },
           {
            "args": [
             [
              "87"
             ],
             {
              "frame": {
               "duration": 50,
               "redraw": true
              },
              "mode": "immediate"
             }
            ],
            "label": "87",
            "method": "animate"
           },
           {
            "args": [
             [
              "88"
             ],
             {
              "frame": {
               "duration": 50,
               "redraw": true
              },
              "mode": "immediate"
             }
            ],
            "label": "88",
            "method": "animate"
           },
           {
            "args": [
             [
              "89"
             ],
             {
              "frame": {
               "duration": 50,
               "redraw": true
              },
              "mode": "immediate"
             }
            ],
            "label": "89",
            "method": "animate"
           },
           {
            "args": [
             [
              "90"
             ],
             {
              "frame": {
               "duration": 50,
               "redraw": true
              },
              "mode": "immediate"
             }
            ],
            "label": "90",
            "method": "animate"
           },
           {
            "args": [
             [
              "91"
             ],
             {
              "frame": {
               "duration": 50,
               "redraw": true
              },
              "mode": "immediate"
             }
            ],
            "label": "91",
            "method": "animate"
           },
           {
            "args": [
             [
              "92"
             ],
             {
              "frame": {
               "duration": 50,
               "redraw": true
              },
              "mode": "immediate"
             }
            ],
            "label": "92",
            "method": "animate"
           },
           {
            "args": [
             [
              "93"
             ],
             {
              "frame": {
               "duration": 50,
               "redraw": true
              },
              "mode": "immediate"
             }
            ],
            "label": "93",
            "method": "animate"
           },
           {
            "args": [
             [
              "94"
             ],
             {
              "frame": {
               "duration": 50,
               "redraw": true
              },
              "mode": "immediate"
             }
            ],
            "label": "94",
            "method": "animate"
           },
           {
            "args": [
             [
              "95"
             ],
             {
              "frame": {
               "duration": 50,
               "redraw": true
              },
              "mode": "immediate"
             }
            ],
            "label": "95",
            "method": "animate"
           },
           {
            "args": [
             [
              "96"
             ],
             {
              "frame": {
               "duration": 50,
               "redraw": true
              },
              "mode": "immediate"
             }
            ],
            "label": "96",
            "method": "animate"
           },
           {
            "args": [
             [
              "97"
             ],
             {
              "frame": {
               "duration": 50,
               "redraw": true
              },
              "mode": "immediate"
             }
            ],
            "label": "97",
            "method": "animate"
           },
           {
            "args": [
             [
              "98"
             ],
             {
              "frame": {
               "duration": 50,
               "redraw": true
              },
              "mode": "immediate"
             }
            ],
            "label": "98",
            "method": "animate"
           },
           {
            "args": [
             [
              "99"
             ],
             {
              "frame": {
               "duration": 50,
               "redraw": true
              },
              "mode": "immediate"
             }
            ],
            "label": "99",
            "method": "animate"
           }
          ],
          "transition": {
           "duration": 0
          },
          "x": 0.1,
          "y": 0
         }
        ],
        "template": {
         "data": {
          "bar": [
           {
            "error_x": {
             "color": "#2a3f5f"
            },
            "error_y": {
             "color": "#2a3f5f"
            },
            "marker": {
             "line": {
              "color": "#E5ECF6",
              "width": 0.5
             },
             "pattern": {
              "fillmode": "overlay",
              "size": 10,
              "solidity": 0.2
             }
            },
            "type": "bar"
           }
          ],
          "barpolar": [
           {
            "marker": {
             "line": {
              "color": "#E5ECF6",
              "width": 0.5
             },
             "pattern": {
              "fillmode": "overlay",
              "size": 10,
              "solidity": 0.2
             }
            },
            "type": "barpolar"
           }
          ],
          "carpet": [
           {
            "aaxis": {
             "endlinecolor": "#2a3f5f",
             "gridcolor": "white",
             "linecolor": "white",
             "minorgridcolor": "white",
             "startlinecolor": "#2a3f5f"
            },
            "baxis": {
             "endlinecolor": "#2a3f5f",
             "gridcolor": "white",
             "linecolor": "white",
             "minorgridcolor": "white",
             "startlinecolor": "#2a3f5f"
            },
            "type": "carpet"
           }
          ],
          "choropleth": [
           {
            "colorbar": {
             "outlinewidth": 0,
             "ticks": ""
            },
            "type": "choropleth"
           }
          ],
          "contour": [
           {
            "colorbar": {
             "outlinewidth": 0,
             "ticks": ""
            },
            "colorscale": [
             [
              0,
              "#0d0887"
             ],
             [
              0.1111111111111111,
              "#46039f"
             ],
             [
              0.2222222222222222,
              "#7201a8"
             ],
             [
              0.3333333333333333,
              "#9c179e"
             ],
             [
              0.4444444444444444,
              "#bd3786"
             ],
             [
              0.5555555555555556,
              "#d8576b"
             ],
             [
              0.6666666666666666,
              "#ed7953"
             ],
             [
              0.7777777777777778,
              "#fb9f3a"
             ],
             [
              0.8888888888888888,
              "#fdca26"
             ],
             [
              1,
              "#f0f921"
             ]
            ],
            "type": "contour"
           }
          ],
          "contourcarpet": [
           {
            "colorbar": {
             "outlinewidth": 0,
             "ticks": ""
            },
            "type": "contourcarpet"
           }
          ],
          "heatmap": [
           {
            "colorbar": {
             "outlinewidth": 0,
             "ticks": ""
            },
            "colorscale": [
             [
              0,
              "#0d0887"
             ],
             [
              0.1111111111111111,
              "#46039f"
             ],
             [
              0.2222222222222222,
              "#7201a8"
             ],
             [
              0.3333333333333333,
              "#9c179e"
             ],
             [
              0.4444444444444444,
              "#bd3786"
             ],
             [
              0.5555555555555556,
              "#d8576b"
             ],
             [
              0.6666666666666666,
              "#ed7953"
             ],
             [
              0.7777777777777778,
              "#fb9f3a"
             ],
             [
              0.8888888888888888,
              "#fdca26"
             ],
             [
              1,
              "#f0f921"
             ]
            ],
            "type": "heatmap"
           }
          ],
          "histogram": [
           {
            "marker": {
             "pattern": {
              "fillmode": "overlay",
              "size": 10,
              "solidity": 0.2
             }
            },
            "type": "histogram"
           }
          ],
          "histogram2d": [
           {
            "colorbar": {
             "outlinewidth": 0,
             "ticks": ""
            },
            "colorscale": [
             [
              0,
              "#0d0887"
             ],
             [
              0.1111111111111111,
              "#46039f"
             ],
             [
              0.2222222222222222,
              "#7201a8"
             ],
             [
              0.3333333333333333,
              "#9c179e"
             ],
             [
              0.4444444444444444,
              "#bd3786"
             ],
             [
              0.5555555555555556,
              "#d8576b"
             ],
             [
              0.6666666666666666,
              "#ed7953"
             ],
             [
              0.7777777777777778,
              "#fb9f3a"
             ],
             [
              0.8888888888888888,
              "#fdca26"
             ],
             [
              1,
              "#f0f921"
             ]
            ],
            "type": "histogram2d"
           }
          ],
          "histogram2dcontour": [
           {
            "colorbar": {
             "outlinewidth": 0,
             "ticks": ""
            },
            "colorscale": [
             [
              0,
              "#0d0887"
             ],
             [
              0.1111111111111111,
              "#46039f"
             ],
             [
              0.2222222222222222,
              "#7201a8"
             ],
             [
              0.3333333333333333,
              "#9c179e"
             ],
             [
              0.4444444444444444,
              "#bd3786"
             ],
             [
              0.5555555555555556,
              "#d8576b"
             ],
             [
              0.6666666666666666,
              "#ed7953"
             ],
             [
              0.7777777777777778,
              "#fb9f3a"
             ],
             [
              0.8888888888888888,
              "#fdca26"
             ],
             [
              1,
              "#f0f921"
             ]
            ],
            "type": "histogram2dcontour"
           }
          ],
          "mesh3d": [
           {
            "colorbar": {
             "outlinewidth": 0,
             "ticks": ""
            },
            "type": "mesh3d"
           }
          ],
          "parcoords": [
           {
            "line": {
             "colorbar": {
              "outlinewidth": 0,
              "ticks": ""
             }
            },
            "type": "parcoords"
           }
          ],
          "pie": [
           {
            "automargin": true,
            "type": "pie"
           }
          ],
          "scatter": [
           {
            "fillpattern": {
             "fillmode": "overlay",
             "size": 10,
             "solidity": 0.2
            },
            "type": "scatter"
           }
          ],
          "scatter3d": [
           {
            "line": {
             "colorbar": {
              "outlinewidth": 0,
              "ticks": ""
             }
            },
            "marker": {
             "colorbar": {
              "outlinewidth": 0,
              "ticks": ""
             }
            },
            "type": "scatter3d"
           }
          ],
          "scattercarpet": [
           {
            "marker": {
             "colorbar": {
              "outlinewidth": 0,
              "ticks": ""
             }
            },
            "type": "scattercarpet"
           }
          ],
          "scattergeo": [
           {
            "marker": {
             "colorbar": {
              "outlinewidth": 0,
              "ticks": ""
             }
            },
            "type": "scattergeo"
           }
          ],
          "scattergl": [
           {
            "marker": {
             "colorbar": {
              "outlinewidth": 0,
              "ticks": ""
             }
            },
            "type": "scattergl"
           }
          ],
          "scattermap": [
           {
            "marker": {
             "colorbar": {
              "outlinewidth": 0,
              "ticks": ""
             }
            },
            "type": "scattermap"
           }
          ],
          "scattermapbox": [
           {
            "marker": {
             "colorbar": {
              "outlinewidth": 0,
              "ticks": ""
             }
            },
            "type": "scattermapbox"
           }
          ],
          "scatterpolar": [
           {
            "marker": {
             "colorbar": {
              "outlinewidth": 0,
              "ticks": ""
             }
            },
            "type": "scatterpolar"
           }
          ],
          "scatterpolargl": [
           {
            "marker": {
             "colorbar": {
              "outlinewidth": 0,
              "ticks": ""
             }
            },
            "type": "scatterpolargl"
           }
          ],
          "scatterternary": [
           {
            "marker": {
             "colorbar": {
              "outlinewidth": 0,
              "ticks": ""
             }
            },
            "type": "scatterternary"
           }
          ],
          "surface": [
           {
            "colorbar": {
             "outlinewidth": 0,
             "ticks": ""
            },
            "colorscale": [
             [
              0,
              "#0d0887"
             ],
             [
              0.1111111111111111,
              "#46039f"
             ],
             [
              0.2222222222222222,
              "#7201a8"
             ],
             [
              0.3333333333333333,
              "#9c179e"
             ],
             [
              0.4444444444444444,
              "#bd3786"
             ],
             [
              0.5555555555555556,
              "#d8576b"
             ],
             [
              0.6666666666666666,
              "#ed7953"
             ],
             [
              0.7777777777777778,
              "#fb9f3a"
             ],
             [
              0.8888888888888888,
              "#fdca26"
             ],
             [
              1,
              "#f0f921"
             ]
            ],
            "type": "surface"
           }
          ],
          "table": [
           {
            "cells": {
             "fill": {
              "color": "#EBF0F8"
             },
             "line": {
              "color": "white"
             }
            },
            "header": {
             "fill": {
              "color": "#C8D4E3"
             },
             "line": {
              "color": "white"
             }
            },
            "type": "table"
           }
          ]
         },
         "layout": {
          "annotationdefaults": {
           "arrowcolor": "#2a3f5f",
           "arrowhead": 0,
           "arrowwidth": 1
          },
          "autotypenumbers": "strict",
          "coloraxis": {
           "colorbar": {
            "outlinewidth": 0,
            "ticks": ""
           }
          },
          "colorscale": {
           "diverging": [
            [
             0,
             "#8e0152"
            ],
            [
             0.1,
             "#c51b7d"
            ],
            [
             0.2,
             "#de77ae"
            ],
            [
             0.3,
             "#f1b6da"
            ],
            [
             0.4,
             "#fde0ef"
            ],
            [
             0.5,
             "#f7f7f7"
            ],
            [
             0.6,
             "#e6f5d0"
            ],
            [
             0.7,
             "#b8e186"
            ],
            [
             0.8,
             "#7fbc41"
            ],
            [
             0.9,
             "#4d9221"
            ],
            [
             1,
             "#276419"
            ]
           ],
           "sequential": [
            [
             0,
             "#0d0887"
            ],
            [
             0.1111111111111111,
             "#46039f"
            ],
            [
             0.2222222222222222,
             "#7201a8"
            ],
            [
             0.3333333333333333,
             "#9c179e"
            ],
            [
             0.4444444444444444,
             "#bd3786"
            ],
            [
             0.5555555555555556,
             "#d8576b"
            ],
            [
             0.6666666666666666,
             "#ed7953"
            ],
            [
             0.7777777777777778,
             "#fb9f3a"
            ],
            [
             0.8888888888888888,
             "#fdca26"
            ],
            [
             1,
             "#f0f921"
            ]
           ],
           "sequentialminus": [
            [
             0,
             "#0d0887"
            ],
            [
             0.1111111111111111,
             "#46039f"
            ],
            [
             0.2222222222222222,
             "#7201a8"
            ],
            [
             0.3333333333333333,
             "#9c179e"
            ],
            [
             0.4444444444444444,
             "#bd3786"
            ],
            [
             0.5555555555555556,
             "#d8576b"
            ],
            [
             0.6666666666666666,
             "#ed7953"
            ],
            [
             0.7777777777777778,
             "#fb9f3a"
            ],
            [
             0.8888888888888888,
             "#fdca26"
            ],
            [
             1,
             "#f0f921"
            ]
           ]
          },
          "colorway": [
           "#636efa",
           "#EF553B",
           "#00cc96",
           "#ab63fa",
           "#FFA15A",
           "#19d3f3",
           "#FF6692",
           "#B6E880",
           "#FF97FF",
           "#FECB52"
          ],
          "font": {
           "color": "#2a3f5f"
          },
          "geo": {
           "bgcolor": "white",
           "lakecolor": "white",
           "landcolor": "#E5ECF6",
           "showlakes": true,
           "showland": true,
           "subunitcolor": "white"
          },
          "hoverlabel": {
           "align": "left"
          },
          "hovermode": "closest",
          "mapbox": {
           "style": "light"
          },
          "paper_bgcolor": "white",
          "plot_bgcolor": "#E5ECF6",
          "polar": {
           "angularaxis": {
            "gridcolor": "white",
            "linecolor": "white",
            "ticks": ""
           },
           "bgcolor": "#E5ECF6",
           "radialaxis": {
            "gridcolor": "white",
            "linecolor": "white",
            "ticks": ""
           }
          },
          "scene": {
           "xaxis": {
            "backgroundcolor": "#E5ECF6",
            "gridcolor": "white",
            "gridwidth": 2,
            "linecolor": "white",
            "showbackground": true,
            "ticks": "",
            "zerolinecolor": "white"
           },
           "yaxis": {
            "backgroundcolor": "#E5ECF6",
            "gridcolor": "white",
            "gridwidth": 2,
            "linecolor": "white",
            "showbackground": true,
            "ticks": "",
            "zerolinecolor": "white"
           },
           "zaxis": {
            "backgroundcolor": "#E5ECF6",
            "gridcolor": "white",
            "gridwidth": 2,
            "linecolor": "white",
            "showbackground": true,
            "ticks": "",
            "zerolinecolor": "white"
           }
          },
          "shapedefaults": {
           "line": {
            "color": "#2a3f5f"
           }
          },
          "ternary": {
           "aaxis": {
            "gridcolor": "white",
            "linecolor": "white",
            "ticks": ""
           },
           "baxis": {
            "gridcolor": "white",
            "linecolor": "white",
            "ticks": ""
           },
           "bgcolor": "#E5ECF6",
           "caxis": {
            "gridcolor": "white",
            "linecolor": "white",
            "ticks": ""
           }
          },
          "title": {
           "x": 0.05
          },
          "xaxis": {
           "automargin": true,
           "gridcolor": "white",
           "linecolor": "white",
           "ticks": "",
           "title": {
            "standoff": 15
           },
           "zerolinecolor": "white",
           "zerolinewidth": 2
          },
          "yaxis": {
           "automargin": true,
           "gridcolor": "white",
           "linecolor": "white",
           "ticks": "",
           "title": {
            "standoff": 15
           },
           "zerolinecolor": "white",
           "zerolinewidth": 2
          }
         }
        },
        "title": {
         "text": "Rod Cantilever (N=51)"
        },
        "updatemenus": [
         {
          "buttons": [
           {
            "args": [
             null,
             {
              "frame": {
               "duration": 50,
               "redraw": true
              },
              "fromcurrent": true
             }
            ],
            "label": "Play",
            "method": "animate"
           },
           {
            "args": [
             [
              null
             ],
             {
              "frame": {
               "duration": 0,
               "redraw": true
              },
              "mode": "immediate"
             }
            ],
            "label": "Pause",
            "method": "animate"
           }
          ],
          "direction": "left",
          "pad": {
           "r": 10,
           "t": 87
          },
          "showactive": false,
          "type": "buttons",
          "x": 0.1,
          "xanchor": "right",
          "y": 0,
          "yanchor": "top"
         }
        ]
       }
      }
     },
     "metadata": {},
     "output_type": "display_data"
    }
   ],
   "source": [
    "t = np.arange(robot.sim_params.total_time, step=robot.sim_params.dt)\n",
    "options = dismech.AnimationOptions(title='Rod Cantilever (N=51)')\n",
    "\n",
    "fig = dismech.get_interactive_animation_plotly(robot, t, qs, options)\n",
    "fig.show()"
   ]
  },
  {
   "cell_type": "code",
   "execution_count": 26,
   "metadata": {},
   "outputs": [],
   "source": [
    "#ani = dismech.get_animation(robot, t, qs, options)\n",
    "#ani.save('working_contact.gif')"
   ]
  }
 ],
 "metadata": {
  "kernelspec": {
   "display_name": ".venv",
   "language": "python",
   "name": "python3"
  },
  "language_info": {
   "codemirror_mode": {
    "name": "ipython",
    "version": 3
   },
   "file_extension": ".py",
   "mimetype": "text/x-python",
   "name": "python",
   "nbconvert_exporter": "python",
   "pygments_lexer": "ipython3",
   "version": "3.12.1"
  }
 },
 "nbformat": 4,
 "nbformat_minor": 2
}
