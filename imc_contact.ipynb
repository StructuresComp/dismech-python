{
 "cells": [
  {
   "cell_type": "markdown",
   "metadata": {},
   "source": [
    "## Rod Cantilever Example"
   ]
  },
  {
   "cell_type": "code",
   "execution_count": 14,
   "metadata": {},
   "outputs": [],
   "source": [
    "import numpy as np\n",
    "\n",
    "import dismech\n",
    "\n",
    "b = 0.02\n",
    "h = 0.001\n",
    "\n",
    "geom = dismech.GeomParams(rod_r0=0.001,\n",
    "                          shell_h=0,\n",
    "                          axs=b*h,\n",
    "                          ixs1=b*h**3/12,\n",
    "                          ixs2=h*b**3/12,\n",
    "                          jxs=b*h**3/6)\n",
    "\n",
    "material = dismech.Material(density=1200,\n",
    "                            youngs_rod=2e6,\n",
    "                            youngs_shell=0,\n",
    "                            poisson_rod=0.5,\n",
    "                            poisson_shell=0)\n",
    "\n",
    "static_2d_sim = dismech.SimParams(static_sim=False,\n",
    "                                  two_d_sim=True,   # no twisting\n",
    "                                  use_mid_edge=False,\n",
    "                                  use_line_search=False,\n",
    "                                  show_floor=False,\n",
    "                                  log_data=True,\n",
    "                                  log_step=1,\n",
    "                                  dt=1e-2,\n",
    "                                  max_iter=50,\n",
    "                                  total_time=1.0,\n",
    "                                  plot_step=1,\n",
    "                                  tol=1e-4,\n",
    "                                  ftol=1e-4,\n",
    "                                  dtol=1e-2)\n",
    "\n",
    "env = dismech.Environment()\n",
    "#env.add_force('gravity', g=np.array([0.0, 0.0, -9.81]))\n",
    "env.add_force('selfContact', delta=1e-5, h=2e-3)\n",
    "#env.set_static()   \n",
    "\n",
    "geo = dismech.Geometry.from_txt('input.txt')\n",
    "\n",
    "robot = dismech.SoftRobot(geom, material, geo, static_2d_sim, env)\n",
    "\n",
    "u = robot.state.u\n",
    "u[8] = -0.1\n",
    "u[11] = -0.1"
   ]
  },
  {
   "cell_type": "markdown",
   "metadata": {},
   "source": [
    "### Time Stepping\n",
    "\n",
    "As we are performing a static simulation, we must change gravity for each time step."
   ]
  },
  {
   "cell_type": "code",
   "execution_count": 15,
   "metadata": {},
   "outputs": [
    {
     "name": "stdout",
     "output_type": "stream",
     "text": [
      "delta: 0.005\n",
      "h: 1.0\n",
      "K1: 2999.9999999999995\n",
      "scale:  500.0\n",
      "upper limit for quadratic: 1.995\n",
      "upper limit for smooth: 2.005\n",
      "(1, 4, 3)\n",
      "12000.0\n",
      "current_time:  0.01\n",
      "(1, 4, 3)\n",
      "12000.000000000011\n",
      "current_time:  0.02\n",
      "(1, 4, 3)\n",
      "12000.000000000011\n",
      "current_time:  0.03\n",
      "(1, 4, 3)\n",
      "12000.000000000011\n",
      "current_time:  0.04\n",
      "(1, 4, 3)\n",
      "12000.000000000011\n",
      "current_time:  0.05\n",
      "(1, 4, 3)\n",
      "12000.000000000011\n",
      "current_time:  0.06\n",
      "(1, 4, 3)\n",
      "12000.000000000011\n",
      "current_time:  0.07\n",
      "(1, 4, 3)\n",
      "12000.000000000011\n",
      "current_time:  0.08\n",
      "(1, 4, 3)\n",
      "12000.000000000011\n",
      "current_time:  0.09\n",
      "(1, 4, 3)\n",
      "12000.000000000011\n",
      "current_time:  0.1\n",
      "(1, 4, 3)\n",
      "12000.000000000011\n",
      "current_time:  0.11\n",
      "(1, 4, 3)\n",
      "12000.000000000011\n",
      "current_time:  0.12\n",
      "(1, 4, 3)\n",
      "12000.000000000011\n",
      "current_time:  0.13\n",
      "(1, 4, 3)\n",
      "12000.000000000011\n",
      "current_time:  0.14\n",
      "(1, 4, 3)\n",
      "12000.000000000011\n",
      "current_time:  0.15\n",
      "(1, 4, 3)\n",
      "12000.000000000011\n",
      "current_time:  0.16\n",
      "(1, 4, 3)\n",
      "12000.000000000011\n",
      "current_time:  0.17\n",
      "(1, 4, 3)\n",
      "12000.000000000011\n",
      "current_time:  0.18\n",
      "(1, 4, 3)\n",
      "12000.000000000011\n",
      "current_time:  0.19\n",
      "(1, 4, 3)\n",
      "12000.000000000011\n",
      "current_time:  0.2\n",
      "(1, 4, 3)\n",
      "12000.000000000011\n",
      "current_time:  0.21\n",
      "(1, 4, 3)\n",
      "12000.000000000011\n",
      "current_time:  0.22\n",
      "(1, 4, 3)\n",
      "12000.000000000011\n",
      "current_time:  0.23\n",
      "(1, 4, 3)\n",
      "12000.000000000011\n",
      "current_time:  0.24\n",
      "(1, 4, 3)\n",
      "12000.000000000011\n",
      "current_time:  0.25\n",
      "(1, 4, 3)\n",
      "12000.000000000011\n",
      "current_time:  0.26\n",
      "(1, 4, 3)\n",
      "12000.000000000011\n",
      "current_time:  0.27\n",
      "(1, 4, 3)\n",
      "12000.000000000011\n",
      "current_time:  0.28\n",
      "(1, 4, 3)\n",
      "12000.000000000011\n",
      "current_time:  0.29\n",
      "(1, 4, 3)\n",
      "12000.000000000011\n",
      "current_time:  0.3\n",
      "(1, 4, 3)\n",
      "12000.000000000011\n",
      "current_time:  0.31\n",
      "(1, 4, 3)\n",
      "12000.000000000011\n",
      "current_time:  0.32\n",
      "(1, 4, 3)\n",
      "12000.000000000011\n",
      "current_time:  0.33\n",
      "(1, 4, 3)\n",
      "12000.000000000011\n",
      "current_time:  0.34\n",
      "(1, 4, 3)\n",
      "12000.000000000011\n",
      "current_time:  0.35000000000000003\n",
      "(1, 4, 3)\n",
      "12000.000000000011\n",
      "current_time:  0.36\n",
      "(1, 4, 3)\n",
      "12000.000000000011\n",
      "current_time:  0.37\n",
      "(1, 4, 3)\n",
      "12000.000000000011\n",
      "current_time:  0.38\n",
      "(1, 4, 3)\n",
      "12000.000000000011\n",
      "current_time:  0.39\n",
      "(1, 4, 3)\n",
      "12000.000000000011\n",
      "current_time:  0.4\n",
      "(1, 4, 3)\n",
      "12000.000000000011\n",
      "current_time:  0.41000000000000003\n",
      "(1, 4, 3)\n",
      "12000.000000000011\n",
      "current_time:  0.42\n",
      "(1, 4, 3)\n",
      "12000.000000000011\n",
      "current_time:  0.43\n",
      "(1, 4, 3)\n",
      "12000.000000000011\n",
      "current_time:  0.44\n",
      "(1, 4, 3)\n",
      "12000.000000000011\n",
      "current_time:  0.45\n",
      "(1, 4, 3)\n",
      "12000.000000000011\n",
      "current_time:  0.46\n",
      "(1, 4, 3)\n",
      "59680.51852773679\n",
      "current_time:  0.47000000000000003\n",
      "(1, 4, 3)\n",
      "53361.01694674617\n",
      "current_time:  0.48\n",
      "(1, 4, 3)\n",
      "53360.99714872226\n",
      "current_time:  0.49\n",
      "(1, 4, 3)\n",
      "53360.99737298132\n",
      "current_time:  0.5\n",
      "(1, 4, 3)\n",
      "53360.99745779033\n",
      "current_time:  0.51\n",
      "(1, 4, 3)\n",
      "53360.9974836212\n",
      "current_time:  0.52\n",
      "(1, 4, 3)\n",
      "53360.99751595924\n",
      "current_time:  0.53\n",
      "(1, 4, 3)\n",
      "53360.9974852338\n",
      "current_time:  0.54\n",
      "(1, 4, 3)\n",
      "53360.997504202045\n",
      "current_time:  0.55\n",
      "(1, 4, 3)\n",
      "53360.997540817254\n",
      "current_time:  0.56\n",
      "(1, 4, 3)\n",
      "53360.9975312216\n",
      "current_time:  0.5700000000000001\n",
      "(1, 4, 3)\n",
      "53360.99754383598\n",
      "current_time:  0.58\n",
      "(1, 4, 3)\n",
      "53360.99753890072\n",
      "current_time:  0.59\n",
      "(1, 4, 3)\n",
      "53360.99756718844\n",
      "current_time:  0.6\n",
      "(1, 4, 3)\n",
      "53360.997558706404\n",
      "current_time:  0.61\n",
      "(1, 4, 3)\n",
      "53360.99755102717\n",
      "current_time:  0.62\n",
      "(1, 4, 3)\n",
      "53360.997593202665\n",
      "current_time:  0.63\n",
      "(1, 4, 3)\n",
      "53360.99755581804\n",
      "current_time:  0.64\n",
      "(1, 4, 3)\n",
      "53360.997630928156\n",
      "current_time:  0.65\n",
      "(1, 4, 3)\n",
      "53360.99763412915\n",
      "current_time:  0.66\n",
      "(1, 4, 3)\n",
      "53360.99767158114\n",
      "current_time:  0.67\n",
      "(1, 4, 3)\n",
      "53360.99764422448\n",
      "current_time:  0.68\n",
      "(1, 4, 3)\n",
      "53360.99766268756\n",
      "current_time:  0.6900000000000001\n",
      "(1, 4, 3)\n",
      "53360.99765832736\n",
      "current_time:  0.7000000000000001\n",
      "(1, 4, 3)\n",
      "53360.997702702094\n",
      "current_time:  0.71\n",
      "(1, 4, 3)\n",
      "53360.997723735956\n",
      "current_time:  0.72\n",
      "(1, 4, 3)\n",
      "53360.99769350589\n",
      "current_time:  0.73\n",
      "(1, 4, 3)\n",
      "53360.997744005675\n",
      "current_time:  0.74\n",
      "(1, 4, 3)\n",
      "53360.9977568568\n",
      "current_time:  0.75\n",
      "(1, 4, 3)\n",
      "53360.99776017808\n",
      "current_time:  0.76\n",
      "(1, 4, 3)\n",
      "53360.997702590874\n",
      "current_time:  0.77\n",
      "(1, 4, 3)\n",
      "53360.99765773381\n",
      "current_time:  0.78\n",
      "(1, 4, 3)\n",
      "53360.997701923116\n",
      "current_time:  0.79\n",
      "(1, 4, 3)\n",
      "53360.99768317145\n",
      "current_time:  0.8\n",
      "(1, 4, 3)\n",
      "53360.99770058786\n",
      "current_time:  0.81\n",
      "(1, 4, 3)\n",
      "53360.99768053173\n",
      "current_time:  0.8200000000000001\n",
      "(1, 4, 3)\n",
      "53360.9977082527\n",
      "current_time:  0.8300000000000001\n",
      "(1, 4, 3)\n",
      "53360.99768818923\n",
      "current_time:  0.84\n",
      "(1, 4, 3)\n",
      "53360.997662086185\n",
      "current_time:  0.85\n",
      "(1, 4, 3)\n",
      "53360.99768007127\n",
      "current_time:  0.86\n",
      "(1, 4, 3)\n",
      "53360.99768578848\n",
      "current_time:  0.87\n",
      "(1, 4, 3)\n",
      "53360.997736017525\n",
      "current_time:  0.88\n",
      "(1, 4, 3)\n",
      "53360.99775000297\n",
      "current_time:  0.89\n",
      "(1, 4, 3)\n",
      "53360.99774330257\n",
      "current_time:  0.9\n",
      "(1, 4, 3)\n",
      "53360.99771819511\n",
      "current_time:  0.91\n",
      "(1, 4, 3)\n",
      "53360.99773921543\n",
      "current_time:  0.92\n",
      "(1, 4, 3)\n",
      "53360.9976724694\n",
      "current_time:  0.93\n",
      "(1, 4, 3)\n",
      "53360.99770293707\n",
      "current_time:  0.9400000000000001\n",
      "(1, 4, 3)\n",
      "53360.99767794302\n",
      "current_time:  0.9500000000000001\n",
      "(1, 4, 3)\n",
      "53360.99770079524\n",
      "current_time:  0.96\n",
      "(1, 4, 3)\n",
      "53360.997714856705\n",
      "current_time:  0.97\n",
      "(1, 4, 3)\n",
      "53360.99771925473\n",
      "current_time:  0.98\n",
      "(1, 4, 3)\n",
      "53360.99771147658\n",
      "current_time:  0.99\n",
      "(1, 4, 3)\n",
      "53360.99772484446\n",
      "current_time:  1.0\n"
     ]
    }
   ],
   "source": [
    "stepper = dismech.ImplicitEulerTimeStepper(robot)\n",
    "\n",
    "robots = stepper.simulate()\n",
    "\n",
    "qs = np.stack([robot.state.q for robot in robots])"
   ]
  },
  {
   "cell_type": "code",
   "execution_count": 16,
   "metadata": {},
   "outputs": [
    {
     "data": {
      "application/vnd.plotly.v1+json": {
       "config": {
        "plotlyServerURL": "https://plot.ly"
       },
       "data": [
        {
         "marker": {
          "color": "#1f78b4",
          "size": 5
         },
         "mode": "markers",
         "name": "Free Nodes",
         "type": "scatter3d",
         "x": {
          "bdata": "AAAAAAAAAAAAAAAAAADwPwAAAAAAAOA/AAAAAAAA4D8=",
          "dtype": "f8"
         },
         "y": {
          "bdata": "AAAAAAAA4D8AAAAAAADgPwAAAAAAAAAAAAAAAAAA8D8=",
          "dtype": "f8"
         },
         "z": {
          "bdata": "AAAAAAAAAAAAAAAAAAAAAEoMAiuHFqk/SgwCK4cWqT8=",
          "dtype": "f8"
         }
        },
        {
         "marker": {
          "color": "#e31a1c",
          "size": 5
         },
         "mode": "markers",
         "name": "Fixed Nodes",
         "type": "scatter3d",
         "x": [],
         "y": [],
         "z": []
        },
        {
         "line": {
          "color": "#333333",
          "width": 2
         },
         "mode": "lines",
         "name": "Edges",
         "type": "scatter3d",
         "x": [
          0,
          1,
          null,
          0.5,
          0.5,
          null
         ],
         "y": [
          0.5,
          0.5,
          null,
          0,
          1,
          null
         ],
         "z": [
          0,
          0,
          null,
          0.049,
          0.049,
          null
         ]
        },
        {
         "color": "rgba(166, 206, 227, 0.7)",
         "i": [],
         "j": [],
         "k": [],
         "name": "Faces",
         "opacity": 0.7,
         "showscale": false,
         "type": "mesh3d",
         "x": {
          "bdata": "AAAAAAAAAAAAAAAAAADwPwAAAAAAAOA/AAAAAAAA4D8=",
          "dtype": "f8"
         },
         "y": {
          "bdata": "AAAAAAAA4D8AAAAAAADgPwAAAAAAAAAAAAAAAAAA8D8=",
          "dtype": "f8"
         },
         "z": {
          "bdata": "AAAAAAAAAAAAAAAAAAAAAEoMAiuHFqk/SgwCK4cWqT8=",
          "dtype": "f8"
         }
        }
       ],
       "frames": [
        {
         "data": [
          {
           "name": "Free Nodes",
           "type": "scatter3d",
           "x": {
            "bdata": "AAAAAAAAAAAAAAAAAADwPwAAAAAAAOA/AAAAAAAA4D8=",
            "dtype": "f8"
           },
           "y": {
            "bdata": "AAAAAAAA4D8AAAAAAADgPwAAAAAAAAAAAAAAAAAA8D8=",
            "dtype": "f8"
           },
           "z": {
            "bdata": "AAAAAAAAAAAAAAAAAAAAAEoMAiuHFqk/SgwCK4cWqT8=",
            "dtype": "f8"
           }
          },
          {
           "name": "Fixed Nodes",
           "type": "scatter3d",
           "x": [],
           "y": [],
           "z": []
          },
          {
           "name": "Edges",
           "type": "scatter3d",
           "x": [
            0,
            1,
            null,
            0.5,
            0.5,
            null
           ],
           "y": [
            0.5,
            0.5,
            null,
            0,
            1,
            null
           ],
           "z": [
            0,
            0,
            null,
            0.049,
            0.049,
            null
           ]
          },
          {
           "i": [],
           "j": [],
           "k": [],
           "name": "Faces",
           "type": "mesh3d",
           "x": {
            "bdata": "AAAAAAAAAAAAAAAAAADwPwAAAAAAAOA/AAAAAAAA4D8=",
            "dtype": "f8"
           },
           "y": {
            "bdata": "AAAAAAAA4D8AAAAAAADgPwAAAAAAAAAAAAAAAAAA8D8=",
            "dtype": "f8"
           },
           "z": {
            "bdata": "AAAAAAAAAAAAAAAAAAAAAEoMAiuHFqk/SgwCK4cWqT8=",
            "dtype": "f8"
           }
          }
         ],
         "layout": {
          "annotations": [
           {
            "showarrow": false,
            "text": "Time: 0.00s (Step: 1/100)",
            "x": 0.05,
            "xref": "paper",
            "y": 0.95,
            "yref": "paper"
           }
          ]
         },
         "name": "0"
        },
        {
         "data": [
          {
           "name": "Free Nodes",
           "type": "scatter3d",
           "x": {
            "bdata": "AAAAAAAAAAAAAAAAAADwPwAAAAAAAOA/AAAAAAAA4D8=",
            "dtype": "f8"
           },
           "y": {
            "bdata": "AAAAAAAA4D8AAAAAAADgPwAAAAAAAAAAAAAAAAAA8D8=",
            "dtype": "f8"
           },
           "z": {
            "bdata": "AAAAAAAAAAAAAAAAAAAAAPp+arx0k6g/+n5qvHSTqD8=",
            "dtype": "f8"
           }
          },
          {
           "name": "Fixed Nodes",
           "type": "scatter3d",
           "x": [],
           "y": [],
           "z": []
          },
          {
           "name": "Edges",
           "type": "scatter3d",
           "x": [
            0,
            1,
            null,
            0.5,
            0.5,
            null
           ],
           "y": [
            0.5,
            0.5,
            null,
            0,
            1,
            null
           ],
           "z": [
            0,
            0,
            null,
            0.048,
            0.048,
            null
           ]
          },
          {
           "i": [],
           "j": [],
           "k": [],
           "name": "Faces",
           "type": "mesh3d",
           "x": {
            "bdata": "AAAAAAAAAAAAAAAAAADwPwAAAAAAAOA/AAAAAAAA4D8=",
            "dtype": "f8"
           },
           "y": {
            "bdata": "AAAAAAAA4D8AAAAAAADgPwAAAAAAAAAAAAAAAAAA8D8=",
            "dtype": "f8"
           },
           "z": {
            "bdata": "AAAAAAAAAAAAAAAAAAAAAPp+arx0k6g/+n5qvHSTqD8=",
            "dtype": "f8"
           }
          }
         ],
         "layout": {
          "annotations": [
           {
            "showarrow": false,
            "text": "Time: 0.01s (Step: 2/100)",
            "x": 0.05,
            "xref": "paper",
            "y": 0.95,
            "yref": "paper"
           }
          ]
         },
         "name": "1"
        },
        {
         "data": [
          {
           "name": "Free Nodes",
           "type": "scatter3d",
           "x": {
            "bdata": "AAAAAAAAAAAAAAAAAADwPwAAAAAAAOA/AAAAAAAA4D8=",
            "dtype": "f8"
           },
           "y": {
            "bdata": "AAAAAAAA4D8AAAAAAADgPwAAAAAAAAAAAAAAAAAA8D8=",
            "dtype": "f8"
           },
           "z": {
            "bdata": "AAAAAAAAAAAAAAAAAAAAAKrx0k1iEKg/qvHSTWIQqD8=",
            "dtype": "f8"
           }
          },
          {
           "name": "Fixed Nodes",
           "type": "scatter3d",
           "x": [],
           "y": [],
           "z": []
          },
          {
           "name": "Edges",
           "type": "scatter3d",
           "x": [
            0,
            1,
            null,
            0.5,
            0.5,
            null
           ],
           "y": [
            0.5,
            0.5,
            null,
            0,
            1,
            null
           ],
           "z": [
            0,
            0,
            null,
            0.047,
            0.047,
            null
           ]
          },
          {
           "i": [],
           "j": [],
           "k": [],
           "name": "Faces",
           "type": "mesh3d",
           "x": {
            "bdata": "AAAAAAAAAAAAAAAAAADwPwAAAAAAAOA/AAAAAAAA4D8=",
            "dtype": "f8"
           },
           "y": {
            "bdata": "AAAAAAAA4D8AAAAAAADgPwAAAAAAAAAAAAAAAAAA8D8=",
            "dtype": "f8"
           },
           "z": {
            "bdata": "AAAAAAAAAAAAAAAAAAAAAKrx0k1iEKg/qvHSTWIQqD8=",
            "dtype": "f8"
           }
          }
         ],
         "layout": {
          "annotations": [
           {
            "showarrow": false,
            "text": "Time: 0.02s (Step: 3/100)",
            "x": 0.05,
            "xref": "paper",
            "y": 0.95,
            "yref": "paper"
           }
          ]
         },
         "name": "2"
        },
        {
         "data": [
          {
           "name": "Free Nodes",
           "type": "scatter3d",
           "x": {
            "bdata": "AAAAAAAAAAAAAAAAAADwPwAAAAAAAOA/AAAAAAAA4D8=",
            "dtype": "f8"
           },
           "y": {
            "bdata": "AAAAAAAA4D8AAAAAAADgPwAAAAAAAAAAAAAAAAAA8D8=",
            "dtype": "f8"
           },
           "z": {
            "bdata": "AAAAAAAAAAAAAAAAAAAAAFpkO99Pjac/WmQ730+Npz8=",
            "dtype": "f8"
           }
          },
          {
           "name": "Fixed Nodes",
           "type": "scatter3d",
           "x": [],
           "y": [],
           "z": []
          },
          {
           "name": "Edges",
           "type": "scatter3d",
           "x": [
            0,
            1,
            null,
            0.5,
            0.5,
            null
           ],
           "y": [
            0.5,
            0.5,
            null,
            0,
            1,
            null
           ],
           "z": [
            0,
            0,
            null,
            0.046,
            0.046,
            null
           ]
          },
          {
           "i": [],
           "j": [],
           "k": [],
           "name": "Faces",
           "type": "mesh3d",
           "x": {
            "bdata": "AAAAAAAAAAAAAAAAAADwPwAAAAAAAOA/AAAAAAAA4D8=",
            "dtype": "f8"
           },
           "y": {
            "bdata": "AAAAAAAA4D8AAAAAAADgPwAAAAAAAAAAAAAAAAAA8D8=",
            "dtype": "f8"
           },
           "z": {
            "bdata": "AAAAAAAAAAAAAAAAAAAAAFpkO99Pjac/WmQ730+Npz8=",
            "dtype": "f8"
           }
          }
         ],
         "layout": {
          "annotations": [
           {
            "showarrow": false,
            "text": "Time: 0.03s (Step: 4/100)",
            "x": 0.05,
            "xref": "paper",
            "y": 0.95,
            "yref": "paper"
           }
          ]
         },
         "name": "3"
        },
        {
         "data": [
          {
           "name": "Free Nodes",
           "type": "scatter3d",
           "x": {
            "bdata": "AAAAAAAAAAAAAAAAAADwPwAAAAAAAOA/AAAAAAAA4D8=",
            "dtype": "f8"
           },
           "y": {
            "bdata": "AAAAAAAA4D8AAAAAAADgPwAAAAAAAAAAAAAAAAAA8D8=",
            "dtype": "f8"
           },
           "z": {
            "bdata": "AAAAAAAAAAAAAAAAAAAAAArXo3A9Cqc/CtejcD0Kpz8=",
            "dtype": "f8"
           }
          },
          {
           "name": "Fixed Nodes",
           "type": "scatter3d",
           "x": [],
           "y": [],
           "z": []
          },
          {
           "name": "Edges",
           "type": "scatter3d",
           "x": [
            0,
            1,
            null,
            0.5,
            0.5,
            null
           ],
           "y": [
            0.5,
            0.5,
            null,
            0,
            1,
            null
           ],
           "z": [
            0,
            0,
            null,
            0.045,
            0.045,
            null
           ]
          },
          {
           "i": [],
           "j": [],
           "k": [],
           "name": "Faces",
           "type": "mesh3d",
           "x": {
            "bdata": "AAAAAAAAAAAAAAAAAADwPwAAAAAAAOA/AAAAAAAA4D8=",
            "dtype": "f8"
           },
           "y": {
            "bdata": "AAAAAAAA4D8AAAAAAADgPwAAAAAAAAAAAAAAAAAA8D8=",
            "dtype": "f8"
           },
           "z": {
            "bdata": "AAAAAAAAAAAAAAAAAAAAAArXo3A9Cqc/CtejcD0Kpz8=",
            "dtype": "f8"
           }
          }
         ],
         "layout": {
          "annotations": [
           {
            "showarrow": false,
            "text": "Time: 0.04s (Step: 5/100)",
            "x": 0.05,
            "xref": "paper",
            "y": 0.95,
            "yref": "paper"
           }
          ]
         },
         "name": "4"
        },
        {
         "data": [
          {
           "name": "Free Nodes",
           "type": "scatter3d",
           "x": {
            "bdata": "AAAAAAAAAAAAAAAAAADwPwAAAAAAAOA/AAAAAAAA4D8=",
            "dtype": "f8"
           },
           "y": {
            "bdata": "AAAAAAAA4D8AAAAAAADgPwAAAAAAAAAAAAAAAAAA8D8=",
            "dtype": "f8"
           },
           "z": {
            "bdata": "AAAAAAAAAAAAAAAAAAAAALpJDAIrh6Y/ukkMAiuHpj8=",
            "dtype": "f8"
           }
          },
          {
           "name": "Fixed Nodes",
           "type": "scatter3d",
           "x": [],
           "y": [],
           "z": []
          },
          {
           "name": "Edges",
           "type": "scatter3d",
           "x": [
            0,
            1,
            null,
            0.5,
            0.5,
            null
           ],
           "y": [
            0.5,
            0.5,
            null,
            0,
            1,
            null
           ],
           "z": [
            0,
            0,
            null,
            0.044,
            0.044,
            null
           ]
          },
          {
           "i": [],
           "j": [],
           "k": [],
           "name": "Faces",
           "type": "mesh3d",
           "x": {
            "bdata": "AAAAAAAAAAAAAAAAAADwPwAAAAAAAOA/AAAAAAAA4D8=",
            "dtype": "f8"
           },
           "y": {
            "bdata": "AAAAAAAA4D8AAAAAAADgPwAAAAAAAAAAAAAAAAAA8D8=",
            "dtype": "f8"
           },
           "z": {
            "bdata": "AAAAAAAAAAAAAAAAAAAAALpJDAIrh6Y/ukkMAiuHpj8=",
            "dtype": "f8"
           }
          }
         ],
         "layout": {
          "annotations": [
           {
            "showarrow": false,
            "text": "Time: 0.05s (Step: 6/100)",
            "x": 0.05,
            "xref": "paper",
            "y": 0.95,
            "yref": "paper"
           }
          ]
         },
         "name": "5"
        },
        {
         "data": [
          {
           "name": "Free Nodes",
           "type": "scatter3d",
           "x": {
            "bdata": "AAAAAAAAAAAAAAAAAADwPwAAAAAAAOA/AAAAAAAA4D8=",
            "dtype": "f8"
           },
           "y": {
            "bdata": "AAAAAAAA4D8AAAAAAADgPwAAAAAAAAAAAAAAAAAA8D8=",
            "dtype": "f8"
           },
           "z": {
            "bdata": "AAAAAAAAAAAAAAAAAAAAAGq8dJMYBKY/arx0kxgEpj8=",
            "dtype": "f8"
           }
          },
          {
           "name": "Fixed Nodes",
           "type": "scatter3d",
           "x": [],
           "y": [],
           "z": []
          },
          {
           "name": "Edges",
           "type": "scatter3d",
           "x": [
            0,
            1,
            null,
            0.5,
            0.5,
            null
           ],
           "y": [
            0.5,
            0.5,
            null,
            0,
            1,
            null
           ],
           "z": [
            0,
            0,
            null,
            0.043,
            0.043,
            null
           ]
          },
          {
           "i": [],
           "j": [],
           "k": [],
           "name": "Faces",
           "type": "mesh3d",
           "x": {
            "bdata": "AAAAAAAAAAAAAAAAAADwPwAAAAAAAOA/AAAAAAAA4D8=",
            "dtype": "f8"
           },
           "y": {
            "bdata": "AAAAAAAA4D8AAAAAAADgPwAAAAAAAAAAAAAAAAAA8D8=",
            "dtype": "f8"
           },
           "z": {
            "bdata": "AAAAAAAAAAAAAAAAAAAAAGq8dJMYBKY/arx0kxgEpj8=",
            "dtype": "f8"
           }
          }
         ],
         "layout": {
          "annotations": [
           {
            "showarrow": false,
            "text": "Time: 0.06s (Step: 7/100)",
            "x": 0.05,
            "xref": "paper",
            "y": 0.95,
            "yref": "paper"
           }
          ]
         },
         "name": "6"
        },
        {
         "data": [
          {
           "name": "Free Nodes",
           "type": "scatter3d",
           "x": {
            "bdata": "AAAAAAAAAAAAAAAAAADwPwAAAAAAAOA/AAAAAAAA4D8=",
            "dtype": "f8"
           },
           "y": {
            "bdata": "AAAAAAAA4D8AAAAAAADgPwAAAAAAAAAAAAAAAAAA8D8=",
            "dtype": "f8"
           },
           "z": {
            "bdata": "AAAAAAAAAAAAAAAAAAAAABov3SQGgaU/Gi/dJAaBpT8=",
            "dtype": "f8"
           }
          },
          {
           "name": "Fixed Nodes",
           "type": "scatter3d",
           "x": [],
           "y": [],
           "z": []
          },
          {
           "name": "Edges",
           "type": "scatter3d",
           "x": [
            0,
            1,
            null,
            0.5,
            0.5,
            null
           ],
           "y": [
            0.5,
            0.5,
            null,
            0,
            1,
            null
           ],
           "z": [
            0,
            0,
            null,
            0.041999999999999996,
            0.041999999999999996,
            null
           ]
          },
          {
           "i": [],
           "j": [],
           "k": [],
           "name": "Faces",
           "type": "mesh3d",
           "x": {
            "bdata": "AAAAAAAAAAAAAAAAAADwPwAAAAAAAOA/AAAAAAAA4D8=",
            "dtype": "f8"
           },
           "y": {
            "bdata": "AAAAAAAA4D8AAAAAAADgPwAAAAAAAAAAAAAAAAAA8D8=",
            "dtype": "f8"
           },
           "z": {
            "bdata": "AAAAAAAAAAAAAAAAAAAAABov3SQGgaU/Gi/dJAaBpT8=",
            "dtype": "f8"
           }
          }
         ],
         "layout": {
          "annotations": [
           {
            "showarrow": false,
            "text": "Time: 0.07s (Step: 8/100)",
            "x": 0.05,
            "xref": "paper",
            "y": 0.95,
            "yref": "paper"
           }
          ]
         },
         "name": "7"
        },
        {
         "data": [
          {
           "name": "Free Nodes",
           "type": "scatter3d",
           "x": {
            "bdata": "AAAAAAAAAAAAAAAAAADwPwAAAAAAAOA/AAAAAAAA4D8=",
            "dtype": "f8"
           },
           "y": {
            "bdata": "AAAAAAAA4D8AAAAAAADgPwAAAAAAAAAAAAAAAAAA8D8=",
            "dtype": "f8"
           },
           "z": {
            "bdata": "AAAAAAAAAAAAAAAAAAAAAMqhRbbz/aQ/yqFFtvP9pD8=",
            "dtype": "f8"
           }
          },
          {
           "name": "Fixed Nodes",
           "type": "scatter3d",
           "x": [],
           "y": [],
           "z": []
          },
          {
           "name": "Edges",
           "type": "scatter3d",
           "x": [
            0,
            1,
            null,
            0.5,
            0.5,
            null
           ],
           "y": [
            0.5,
            0.5,
            null,
            0,
            1,
            null
           ],
           "z": [
            0,
            0,
            null,
            0.040999999999999995,
            0.040999999999999995,
            null
           ]
          },
          {
           "i": [],
           "j": [],
           "k": [],
           "name": "Faces",
           "type": "mesh3d",
           "x": {
            "bdata": "AAAAAAAAAAAAAAAAAADwPwAAAAAAAOA/AAAAAAAA4D8=",
            "dtype": "f8"
           },
           "y": {
            "bdata": "AAAAAAAA4D8AAAAAAADgPwAAAAAAAAAAAAAAAAAA8D8=",
            "dtype": "f8"
           },
           "z": {
            "bdata": "AAAAAAAAAAAAAAAAAAAAAMqhRbbz/aQ/yqFFtvP9pD8=",
            "dtype": "f8"
           }
          }
         ],
         "layout": {
          "annotations": [
           {
            "showarrow": false,
            "text": "Time: 0.08s (Step: 9/100)",
            "x": 0.05,
            "xref": "paper",
            "y": 0.95,
            "yref": "paper"
           }
          ]
         },
         "name": "8"
        },
        {
         "data": [
          {
           "name": "Free Nodes",
           "type": "scatter3d",
           "x": {
            "bdata": "AAAAAAAAAAAAAAAAAADwPwAAAAAAAOA/AAAAAAAA4D8=",
            "dtype": "f8"
           },
           "y": {
            "bdata": "AAAAAAAA4D8AAAAAAADgPwAAAAAAAAAAAAAAAAAA8D8=",
            "dtype": "f8"
           },
           "z": {
            "bdata": "AAAAAAAAAAAAAAAAAAAAAHoUrkfheqQ/ehSuR+F6pD8=",
            "dtype": "f8"
           }
          },
          {
           "name": "Fixed Nodes",
           "type": "scatter3d",
           "x": [],
           "y": [],
           "z": []
          },
          {
           "name": "Edges",
           "type": "scatter3d",
           "x": [
            0,
            1,
            null,
            0.5,
            0.5,
            null
           ],
           "y": [
            0.5,
            0.5,
            null,
            0,
            1,
            null
           ],
           "z": [
            0,
            0,
            null,
            0.039999999999999994,
            0.039999999999999994,
            null
           ]
          },
          {
           "i": [],
           "j": [],
           "k": [],
           "name": "Faces",
           "type": "mesh3d",
           "x": {
            "bdata": "AAAAAAAAAAAAAAAAAADwPwAAAAAAAOA/AAAAAAAA4D8=",
            "dtype": "f8"
           },
           "y": {
            "bdata": "AAAAAAAA4D8AAAAAAADgPwAAAAAAAAAAAAAAAAAA8D8=",
            "dtype": "f8"
           },
           "z": {
            "bdata": "AAAAAAAAAAAAAAAAAAAAAHoUrkfheqQ/ehSuR+F6pD8=",
            "dtype": "f8"
           }
          }
         ],
         "layout": {
          "annotations": [
           {
            "showarrow": false,
            "text": "Time: 0.09s (Step: 10/100)",
            "x": 0.05,
            "xref": "paper",
            "y": 0.95,
            "yref": "paper"
           }
          ]
         },
         "name": "9"
        },
        {
         "data": [
          {
           "name": "Free Nodes",
           "type": "scatter3d",
           "x": {
            "bdata": "AAAAAAAAAAAAAAAAAADwPwAAAAAAAOA/AAAAAAAA4D8=",
            "dtype": "f8"
           },
           "y": {
            "bdata": "AAAAAAAA4D8AAAAAAADgPwAAAAAAAAAAAAAAAAAA8D8=",
            "dtype": "f8"
           },
           "z": {
            "bdata": "AAAAAAAAAAAAAAAAAAAAACqHFtnO96M/KocW2c73oz8=",
            "dtype": "f8"
           }
          },
          {
           "name": "Fixed Nodes",
           "type": "scatter3d",
           "x": [],
           "y": [],
           "z": []
          },
          {
           "name": "Edges",
           "type": "scatter3d",
           "x": [
            0,
            1,
            null,
            0.5,
            0.5,
            null
           ],
           "y": [
            0.5,
            0.5,
            null,
            0,
            1,
            null
           ],
           "z": [
            0,
            0,
            null,
            0.03899999999999999,
            0.03899999999999999,
            null
           ]
          },
          {
           "i": [],
           "j": [],
           "k": [],
           "name": "Faces",
           "type": "mesh3d",
           "x": {
            "bdata": "AAAAAAAAAAAAAAAAAADwPwAAAAAAAOA/AAAAAAAA4D8=",
            "dtype": "f8"
           },
           "y": {
            "bdata": "AAAAAAAA4D8AAAAAAADgPwAAAAAAAAAAAAAAAAAA8D8=",
            "dtype": "f8"
           },
           "z": {
            "bdata": "AAAAAAAAAAAAAAAAAAAAACqHFtnO96M/KocW2c73oz8=",
            "dtype": "f8"
           }
          }
         ],
         "layout": {
          "annotations": [
           {
            "showarrow": false,
            "text": "Time: 0.10s (Step: 11/100)",
            "x": 0.05,
            "xref": "paper",
            "y": 0.95,
            "yref": "paper"
           }
          ]
         },
         "name": "10"
        },
        {
         "data": [
          {
           "name": "Free Nodes",
           "type": "scatter3d",
           "x": {
            "bdata": "AAAAAAAAAAAAAAAAAADwPwAAAAAAAOA/AAAAAAAA4D8=",
            "dtype": "f8"
           },
           "y": {
            "bdata": "AAAAAAAA4D8AAAAAAADgPwAAAAAAAAAAAAAAAAAA8D8=",
            "dtype": "f8"
           },
           "z": {
            "bdata": "AAAAAAAAAAAAAAAAAAAAANr5fmq8dKM/2vl+arx0oz8=",
            "dtype": "f8"
           }
          },
          {
           "name": "Fixed Nodes",
           "type": "scatter3d",
           "x": [],
           "y": [],
           "z": []
          },
          {
           "name": "Edges",
           "type": "scatter3d",
           "x": [
            0,
            1,
            null,
            0.5,
            0.5,
            null
           ],
           "y": [
            0.5,
            0.5,
            null,
            0,
            1,
            null
           ],
           "z": [
            0,
            0,
            null,
            0.03799999999999999,
            0.03799999999999999,
            null
           ]
          },
          {
           "i": [],
           "j": [],
           "k": [],
           "name": "Faces",
           "type": "mesh3d",
           "x": {
            "bdata": "AAAAAAAAAAAAAAAAAADwPwAAAAAAAOA/AAAAAAAA4D8=",
            "dtype": "f8"
           },
           "y": {
            "bdata": "AAAAAAAA4D8AAAAAAADgPwAAAAAAAAAAAAAAAAAA8D8=",
            "dtype": "f8"
           },
           "z": {
            "bdata": "AAAAAAAAAAAAAAAAAAAAANr5fmq8dKM/2vl+arx0oz8=",
            "dtype": "f8"
           }
          }
         ],
         "layout": {
          "annotations": [
           {
            "showarrow": false,
            "text": "Time: 0.11s (Step: 12/100)",
            "x": 0.05,
            "xref": "paper",
            "y": 0.95,
            "yref": "paper"
           }
          ]
         },
         "name": "11"
        },
        {
         "data": [
          {
           "name": "Free Nodes",
           "type": "scatter3d",
           "x": {
            "bdata": "AAAAAAAAAAAAAAAAAADwPwAAAAAAAOA/AAAAAAAA4D8=",
            "dtype": "f8"
           },
           "y": {
            "bdata": "AAAAAAAA4D8AAAAAAADgPwAAAAAAAAAAAAAAAAAA8D8=",
            "dtype": "f8"
           },
           "z": {
            "bdata": "AAAAAAAAAAAAAAAAAAAAAIps5/up8aI/imzn+6nxoj8=",
            "dtype": "f8"
           }
          },
          {
           "name": "Fixed Nodes",
           "type": "scatter3d",
           "x": [],
           "y": [],
           "z": []
          },
          {
           "name": "Edges",
           "type": "scatter3d",
           "x": [
            0,
            1,
            null,
            0.5,
            0.5,
            null
           ],
           "y": [
            0.5,
            0.5,
            null,
            0,
            1,
            null
           ],
           "z": [
            0,
            0,
            null,
            0.03699999999999999,
            0.03699999999999999,
            null
           ]
          },
          {
           "i": [],
           "j": [],
           "k": [],
           "name": "Faces",
           "type": "mesh3d",
           "x": {
            "bdata": "AAAAAAAAAAAAAAAAAADwPwAAAAAAAOA/AAAAAAAA4D8=",
            "dtype": "f8"
           },
           "y": {
            "bdata": "AAAAAAAA4D8AAAAAAADgPwAAAAAAAAAAAAAAAAAA8D8=",
            "dtype": "f8"
           },
           "z": {
            "bdata": "AAAAAAAAAAAAAAAAAAAAAIps5/up8aI/imzn+6nxoj8=",
            "dtype": "f8"
           }
          }
         ],
         "layout": {
          "annotations": [
           {
            "showarrow": false,
            "text": "Time: 0.12s (Step: 13/100)",
            "x": 0.05,
            "xref": "paper",
            "y": 0.95,
            "yref": "paper"
           }
          ]
         },
         "name": "12"
        },
        {
         "data": [
          {
           "name": "Free Nodes",
           "type": "scatter3d",
           "x": {
            "bdata": "AAAAAAAAAAAAAAAAAADwPwAAAAAAAOA/AAAAAAAA4D8=",
            "dtype": "f8"
           },
           "y": {
            "bdata": "AAAAAAAA4D8AAAAAAADgPwAAAAAAAAAAAAAAAAAA8D8=",
            "dtype": "f8"
           },
           "z": {
            "bdata": "AAAAAAAAAAAAAAAAAAAAADrfT42XbqI/Ot9PjZduoj8=",
            "dtype": "f8"
           }
          },
          {
           "name": "Fixed Nodes",
           "type": "scatter3d",
           "x": [],
           "y": [],
           "z": []
          },
          {
           "name": "Edges",
           "type": "scatter3d",
           "x": [
            0,
            1,
            null,
            0.5,
            0.5,
            null
           ],
           "y": [
            0.5,
            0.5,
            null,
            0,
            1,
            null
           ],
           "z": [
            0,
            0,
            null,
            0.03599999999999999,
            0.03599999999999999,
            null
           ]
          },
          {
           "i": [],
           "j": [],
           "k": [],
           "name": "Faces",
           "type": "mesh3d",
           "x": {
            "bdata": "AAAAAAAAAAAAAAAAAADwPwAAAAAAAOA/AAAAAAAA4D8=",
            "dtype": "f8"
           },
           "y": {
            "bdata": "AAAAAAAA4D8AAAAAAADgPwAAAAAAAAAAAAAAAAAA8D8=",
            "dtype": "f8"
           },
           "z": {
            "bdata": "AAAAAAAAAAAAAAAAAAAAADrfT42XbqI/Ot9PjZduoj8=",
            "dtype": "f8"
           }
          }
         ],
         "layout": {
          "annotations": [
           {
            "showarrow": false,
            "text": "Time: 0.13s (Step: 14/100)",
            "x": 0.05,
            "xref": "paper",
            "y": 0.95,
            "yref": "paper"
           }
          ]
         },
         "name": "13"
        },
        {
         "data": [
          {
           "name": "Free Nodes",
           "type": "scatter3d",
           "x": {
            "bdata": "AAAAAAAAAAAAAAAAAADwPwAAAAAAAOA/AAAAAAAA4D8=",
            "dtype": "f8"
           },
           "y": {
            "bdata": "AAAAAAAA4D8AAAAAAADgPwAAAAAAAAAAAAAAAAAA8D8=",
            "dtype": "f8"
           },
           "z": {
            "bdata": "AAAAAAAAAAAAAAAAAAAAAOpRuB6F66E/6lG4HoXroT8=",
            "dtype": "f8"
           }
          },
          {
           "name": "Fixed Nodes",
           "type": "scatter3d",
           "x": [],
           "y": [],
           "z": []
          },
          {
           "name": "Edges",
           "type": "scatter3d",
           "x": [
            0,
            1,
            null,
            0.5,
            0.5,
            null
           ],
           "y": [
            0.5,
            0.5,
            null,
            0,
            1,
            null
           ],
           "z": [
            0,
            0,
            null,
            0.03499999999999999,
            0.03499999999999999,
            null
           ]
          },
          {
           "i": [],
           "j": [],
           "k": [],
           "name": "Faces",
           "type": "mesh3d",
           "x": {
            "bdata": "AAAAAAAAAAAAAAAAAADwPwAAAAAAAOA/AAAAAAAA4D8=",
            "dtype": "f8"
           },
           "y": {
            "bdata": "AAAAAAAA4D8AAAAAAADgPwAAAAAAAAAAAAAAAAAA8D8=",
            "dtype": "f8"
           },
           "z": {
            "bdata": "AAAAAAAAAAAAAAAAAAAAAOpRuB6F66E/6lG4HoXroT8=",
            "dtype": "f8"
           }
          }
         ],
         "layout": {
          "annotations": [
           {
            "showarrow": false,
            "text": "Time: 0.14s (Step: 15/100)",
            "x": 0.05,
            "xref": "paper",
            "y": 0.95,
            "yref": "paper"
           }
          ]
         },
         "name": "14"
        },
        {
         "data": [
          {
           "name": "Free Nodes",
           "type": "scatter3d",
           "x": {
            "bdata": "AAAAAAAAAAAAAAAAAADwPwAAAAAAAOA/AAAAAAAA4D8=",
            "dtype": "f8"
           },
           "y": {
            "bdata": "AAAAAAAA4D8AAAAAAADgPwAAAAAAAAAAAAAAAAAA8D8=",
            "dtype": "f8"
           },
           "z": {
            "bdata": "AAAAAAAAAAAAAAAAAAAAAJrEILByaKE/msQgsHJooT8=",
            "dtype": "f8"
           }
          },
          {
           "name": "Fixed Nodes",
           "type": "scatter3d",
           "x": [],
           "y": [],
           "z": []
          },
          {
           "name": "Edges",
           "type": "scatter3d",
           "x": [
            0,
            1,
            null,
            0.5,
            0.5,
            null
           ],
           "y": [
            0.5,
            0.5,
            null,
            0,
            1,
            null
           ],
           "z": [
            0,
            0,
            null,
            0.03399999999999999,
            0.03399999999999999,
            null
           ]
          },
          {
           "i": [],
           "j": [],
           "k": [],
           "name": "Faces",
           "type": "mesh3d",
           "x": {
            "bdata": "AAAAAAAAAAAAAAAAAADwPwAAAAAAAOA/AAAAAAAA4D8=",
            "dtype": "f8"
           },
           "y": {
            "bdata": "AAAAAAAA4D8AAAAAAADgPwAAAAAAAAAAAAAAAAAA8D8=",
            "dtype": "f8"
           },
           "z": {
            "bdata": "AAAAAAAAAAAAAAAAAAAAAJrEILByaKE/msQgsHJooT8=",
            "dtype": "f8"
           }
          }
         ],
         "layout": {
          "annotations": [
           {
            "showarrow": false,
            "text": "Time: 0.15s (Step: 16/100)",
            "x": 0.05,
            "xref": "paper",
            "y": 0.95,
            "yref": "paper"
           }
          ]
         },
         "name": "15"
        },
        {
         "data": [
          {
           "name": "Free Nodes",
           "type": "scatter3d",
           "x": {
            "bdata": "AAAAAAAAAAAAAAAAAADwPwAAAAAAAOA/AAAAAAAA4D8=",
            "dtype": "f8"
           },
           "y": {
            "bdata": "AAAAAAAA4D8AAAAAAADgPwAAAAAAAAAAAAAAAAAA8D8=",
            "dtype": "f8"
           },
           "z": {
            "bdata": "AAAAAAAAAAAAAAAAAAAAAEo3iUFg5aA/SjeJQWDloD8=",
            "dtype": "f8"
           }
          },
          {
           "name": "Fixed Nodes",
           "type": "scatter3d",
           "x": [],
           "y": [],
           "z": []
          },
          {
           "name": "Edges",
           "type": "scatter3d",
           "x": [
            0,
            1,
            null,
            0.5,
            0.5,
            null
           ],
           "y": [
            0.5,
            0.5,
            null,
            0,
            1,
            null
           ],
           "z": [
            0,
            0,
            null,
            0.03299999999999999,
            0.03299999999999999,
            null
           ]
          },
          {
           "i": [],
           "j": [],
           "k": [],
           "name": "Faces",
           "type": "mesh3d",
           "x": {
            "bdata": "AAAAAAAAAAAAAAAAAADwPwAAAAAAAOA/AAAAAAAA4D8=",
            "dtype": "f8"
           },
           "y": {
            "bdata": "AAAAAAAA4D8AAAAAAADgPwAAAAAAAAAAAAAAAAAA8D8=",
            "dtype": "f8"
           },
           "z": {
            "bdata": "AAAAAAAAAAAAAAAAAAAAAEo3iUFg5aA/SjeJQWDloD8=",
            "dtype": "f8"
           }
          }
         ],
         "layout": {
          "annotations": [
           {
            "showarrow": false,
            "text": "Time: 0.16s (Step: 17/100)",
            "x": 0.05,
            "xref": "paper",
            "y": 0.95,
            "yref": "paper"
           }
          ]
         },
         "name": "16"
        },
        {
         "data": [
          {
           "name": "Free Nodes",
           "type": "scatter3d",
           "x": {
            "bdata": "AAAAAAAAAAAAAAAAAADwPwAAAAAAAOA/AAAAAAAA4D8=",
            "dtype": "f8"
           },
           "y": {
            "bdata": "AAAAAAAA4D8AAAAAAADgPwAAAAAAAAAAAAAAAAAA8D8=",
            "dtype": "f8"
           },
           "z": {
            "bdata": "AAAAAAAAAAAAAAAAAAAAAPqp8dJNYqA/+qnx0k1ioD8=",
            "dtype": "f8"
           }
          },
          {
           "name": "Fixed Nodes",
           "type": "scatter3d",
           "x": [],
           "y": [],
           "z": []
          },
          {
           "name": "Edges",
           "type": "scatter3d",
           "x": [
            0,
            1,
            null,
            0.5,
            0.5,
            null
           ],
           "y": [
            0.5,
            0.5,
            null,
            0,
            1,
            null
           ],
           "z": [
            0,
            0,
            null,
            0.03199999999999999,
            0.03199999999999999,
            null
           ]
          },
          {
           "i": [],
           "j": [],
           "k": [],
           "name": "Faces",
           "type": "mesh3d",
           "x": {
            "bdata": "AAAAAAAAAAAAAAAAAADwPwAAAAAAAOA/AAAAAAAA4D8=",
            "dtype": "f8"
           },
           "y": {
            "bdata": "AAAAAAAA4D8AAAAAAADgPwAAAAAAAAAAAAAAAAAA8D8=",
            "dtype": "f8"
           },
           "z": {
            "bdata": "AAAAAAAAAAAAAAAAAAAAAPqp8dJNYqA/+qnx0k1ioD8=",
            "dtype": "f8"
           }
          }
         ],
         "layout": {
          "annotations": [
           {
            "showarrow": false,
            "text": "Time: 0.17s (Step: 18/100)",
            "x": 0.05,
            "xref": "paper",
            "y": 0.95,
            "yref": "paper"
           }
          ]
         },
         "name": "17"
        },
        {
         "data": [
          {
           "name": "Free Nodes",
           "type": "scatter3d",
           "x": {
            "bdata": "AAAAAAAAAAAAAAAAAADwPwAAAAAAAOA/AAAAAAAA4D8=",
            "dtype": "f8"
           },
           "y": {
            "bdata": "AAAAAAAA4D8AAAAAAADgPwAAAAAAAAAAAAAAAAAA8D8=",
            "dtype": "f8"
           },
           "z": {
            "bdata": "AAAAAAAAAAAAAAAAAAAAAFQ5tMh2vp8/VDm0yHa+nz8=",
            "dtype": "f8"
           }
          },
          {
           "name": "Fixed Nodes",
           "type": "scatter3d",
           "x": [],
           "y": [],
           "z": []
          },
          {
           "name": "Edges",
           "type": "scatter3d",
           "x": [
            0,
            1,
            null,
            0.5,
            0.5,
            null
           ],
           "y": [
            0.5,
            0.5,
            null,
            0,
            1,
            null
           ],
           "z": [
            0,
            0,
            null,
            0.030999999999999986,
            0.030999999999999986,
            null
           ]
          },
          {
           "i": [],
           "j": [],
           "k": [],
           "name": "Faces",
           "type": "mesh3d",
           "x": {
            "bdata": "AAAAAAAAAAAAAAAAAADwPwAAAAAAAOA/AAAAAAAA4D8=",
            "dtype": "f8"
           },
           "y": {
            "bdata": "AAAAAAAA4D8AAAAAAADgPwAAAAAAAAAAAAAAAAAA8D8=",
            "dtype": "f8"
           },
           "z": {
            "bdata": "AAAAAAAAAAAAAAAAAAAAAFQ5tMh2vp8/VDm0yHa+nz8=",
            "dtype": "f8"
           }
          }
         ],
         "layout": {
          "annotations": [
           {
            "showarrow": false,
            "text": "Time: 0.18s (Step: 19/100)",
            "x": 0.05,
            "xref": "paper",
            "y": 0.95,
            "yref": "paper"
           }
          ]
         },
         "name": "18"
        },
        {
         "data": [
          {
           "name": "Free Nodes",
           "type": "scatter3d",
           "x": {
            "bdata": "AAAAAAAAAAAAAAAAAADwPwAAAAAAAOA/AAAAAAAA4D8=",
            "dtype": "f8"
           },
           "y": {
            "bdata": "AAAAAAAA4D8AAAAAAADgPwAAAAAAAAAAAAAAAAAA8D8=",
            "dtype": "f8"
           },
           "z": {
            "bdata": "AAAAAAAAAAAAAAAAAAAAALQehetRuJ4/tB6F61G4nj8=",
            "dtype": "f8"
           }
          },
          {
           "name": "Fixed Nodes",
           "type": "scatter3d",
           "x": [],
           "y": [],
           "z": []
          },
          {
           "name": "Edges",
           "type": "scatter3d",
           "x": [
            0,
            1,
            null,
            0.5,
            0.5,
            null
           ],
           "y": [
            0.5,
            0.5,
            null,
            0,
            1,
            null
           ],
           "z": [
            0,
            0,
            null,
            0.029999999999999985,
            0.029999999999999985,
            null
           ]
          },
          {
           "i": [],
           "j": [],
           "k": [],
           "name": "Faces",
           "type": "mesh3d",
           "x": {
            "bdata": "AAAAAAAAAAAAAAAAAADwPwAAAAAAAOA/AAAAAAAA4D8=",
            "dtype": "f8"
           },
           "y": {
            "bdata": "AAAAAAAA4D8AAAAAAADgPwAAAAAAAAAAAAAAAAAA8D8=",
            "dtype": "f8"
           },
           "z": {
            "bdata": "AAAAAAAAAAAAAAAAAAAAALQehetRuJ4/tB6F61G4nj8=",
            "dtype": "f8"
           }
          }
         ],
         "layout": {
          "annotations": [
           {
            "showarrow": false,
            "text": "Time: 0.19s (Step: 20/100)",
            "x": 0.05,
            "xref": "paper",
            "y": 0.95,
            "yref": "paper"
           }
          ]
         },
         "name": "19"
        },
        {
         "data": [
          {
           "name": "Free Nodes",
           "type": "scatter3d",
           "x": {
            "bdata": "AAAAAAAAAAAAAAAAAADwPwAAAAAAAOA/AAAAAAAA4D8=",
            "dtype": "f8"
           },
           "y": {
            "bdata": "AAAAAAAA4D8AAAAAAADgPwAAAAAAAAAAAAAAAAAA8D8=",
            "dtype": "f8"
           },
           "z": {
            "bdata": "AAAAAAAAAAAAAAAAAAAAABQEVg4tsp0/FARWDi2ynT8=",
            "dtype": "f8"
           }
          },
          {
           "name": "Fixed Nodes",
           "type": "scatter3d",
           "x": [],
           "y": [],
           "z": []
          },
          {
           "name": "Edges",
           "type": "scatter3d",
           "x": [
            0,
            1,
            null,
            0.5,
            0.5,
            null
           ],
           "y": [
            0.5,
            0.5,
            null,
            0,
            1,
            null
           ],
           "z": [
            0,
            0,
            null,
            0.028999999999999984,
            0.028999999999999984,
            null
           ]
          },
          {
           "i": [],
           "j": [],
           "k": [],
           "name": "Faces",
           "type": "mesh3d",
           "x": {
            "bdata": "AAAAAAAAAAAAAAAAAADwPwAAAAAAAOA/AAAAAAAA4D8=",
            "dtype": "f8"
           },
           "y": {
            "bdata": "AAAAAAAA4D8AAAAAAADgPwAAAAAAAAAAAAAAAAAA8D8=",
            "dtype": "f8"
           },
           "z": {
            "bdata": "AAAAAAAAAAAAAAAAAAAAABQEVg4tsp0/FARWDi2ynT8=",
            "dtype": "f8"
           }
          }
         ],
         "layout": {
          "annotations": [
           {
            "showarrow": false,
            "text": "Time: 0.20s (Step: 21/100)",
            "x": 0.05,
            "xref": "paper",
            "y": 0.95,
            "yref": "paper"
           }
          ]
         },
         "name": "20"
        },
        {
         "data": [
          {
           "name": "Free Nodes",
           "type": "scatter3d",
           "x": {
            "bdata": "AAAAAAAAAAAAAAAAAADwPwAAAAAAAOA/AAAAAAAA4D8=",
            "dtype": "f8"
           },
           "y": {
            "bdata": "AAAAAAAA4D8AAAAAAADgPwAAAAAAAAAAAAAAAAAA8D8=",
            "dtype": "f8"
           },
           "z": {
            "bdata": "AAAAAAAAAAAAAAAAAAAAAHTpJjEIrJw/dOkmMQisnD8=",
            "dtype": "f8"
           }
          },
          {
           "name": "Fixed Nodes",
           "type": "scatter3d",
           "x": [],
           "y": [],
           "z": []
          },
          {
           "name": "Edges",
           "type": "scatter3d",
           "x": [
            0,
            1,
            null,
            0.5,
            0.5,
            null
           ],
           "y": [
            0.5,
            0.5,
            null,
            0,
            1,
            null
           ],
           "z": [
            0,
            0,
            null,
            0.027999999999999983,
            0.027999999999999983,
            null
           ]
          },
          {
           "i": [],
           "j": [],
           "k": [],
           "name": "Faces",
           "type": "mesh3d",
           "x": {
            "bdata": "AAAAAAAAAAAAAAAAAADwPwAAAAAAAOA/AAAAAAAA4D8=",
            "dtype": "f8"
           },
           "y": {
            "bdata": "AAAAAAAA4D8AAAAAAADgPwAAAAAAAAAAAAAAAAAA8D8=",
            "dtype": "f8"
           },
           "z": {
            "bdata": "AAAAAAAAAAAAAAAAAAAAAHTpJjEIrJw/dOkmMQisnD8=",
            "dtype": "f8"
           }
          }
         ],
         "layout": {
          "annotations": [
           {
            "showarrow": false,
            "text": "Time: 0.21s (Step: 22/100)",
            "x": 0.05,
            "xref": "paper",
            "y": 0.95,
            "yref": "paper"
           }
          ]
         },
         "name": "21"
        },
        {
         "data": [
          {
           "name": "Free Nodes",
           "type": "scatter3d",
           "x": {
            "bdata": "AAAAAAAAAAAAAAAAAADwPwAAAAAAAOA/AAAAAAAA4D8=",
            "dtype": "f8"
           },
           "y": {
            "bdata": "AAAAAAAA4D8AAAAAAADgPwAAAAAAAAAAAAAAAAAA8D8=",
            "dtype": "f8"
           },
           "z": {
            "bdata": "AAAAAAAAAAAAAAAAAAAAANTO91PjpZs/1M73U+Olmz8=",
            "dtype": "f8"
           }
          },
          {
           "name": "Fixed Nodes",
           "type": "scatter3d",
           "x": [],
           "y": [],
           "z": []
          },
          {
           "name": "Edges",
           "type": "scatter3d",
           "x": [
            0,
            1,
            null,
            0.5,
            0.5,
            null
           ],
           "y": [
            0.5,
            0.5,
            null,
            0,
            1,
            null
           ],
           "z": [
            0,
            0,
            null,
            0.026999999999999982,
            0.026999999999999982,
            null
           ]
          },
          {
           "i": [],
           "j": [],
           "k": [],
           "name": "Faces",
           "type": "mesh3d",
           "x": {
            "bdata": "AAAAAAAAAAAAAAAAAADwPwAAAAAAAOA/AAAAAAAA4D8=",
            "dtype": "f8"
           },
           "y": {
            "bdata": "AAAAAAAA4D8AAAAAAADgPwAAAAAAAAAAAAAAAAAA8D8=",
            "dtype": "f8"
           },
           "z": {
            "bdata": "AAAAAAAAAAAAAAAAAAAAANTO91PjpZs/1M73U+Olmz8=",
            "dtype": "f8"
           }
          }
         ],
         "layout": {
          "annotations": [
           {
            "showarrow": false,
            "text": "Time: 0.22s (Step: 23/100)",
            "x": 0.05,
            "xref": "paper",
            "y": 0.95,
            "yref": "paper"
           }
          ]
         },
         "name": "22"
        },
        {
         "data": [
          {
           "name": "Free Nodes",
           "type": "scatter3d",
           "x": {
            "bdata": "AAAAAAAAAAAAAAAAAADwPwAAAAAAAOA/AAAAAAAA4D8=",
            "dtype": "f8"
           },
           "y": {
            "bdata": "AAAAAAAA4D8AAAAAAADgPwAAAAAAAAAAAAAAAAAA8D8=",
            "dtype": "f8"
           },
           "z": {
            "bdata": "AAAAAAAAAAAAAAAAAAAAADS0yHa+n5o/NLTIdr6fmj8=",
            "dtype": "f8"
           }
          },
          {
           "name": "Fixed Nodes",
           "type": "scatter3d",
           "x": [],
           "y": [],
           "z": []
          },
          {
           "name": "Edges",
           "type": "scatter3d",
           "x": [
            0,
            1,
            null,
            0.5,
            0.5,
            null
           ],
           "y": [
            0.5,
            0.5,
            null,
            0,
            1,
            null
           ],
           "z": [
            0,
            0,
            null,
            0.02599999999999998,
            0.02599999999999998,
            null
           ]
          },
          {
           "i": [],
           "j": [],
           "k": [],
           "name": "Faces",
           "type": "mesh3d",
           "x": {
            "bdata": "AAAAAAAAAAAAAAAAAADwPwAAAAAAAOA/AAAAAAAA4D8=",
            "dtype": "f8"
           },
           "y": {
            "bdata": "AAAAAAAA4D8AAAAAAADgPwAAAAAAAAAAAAAAAAAA8D8=",
            "dtype": "f8"
           },
           "z": {
            "bdata": "AAAAAAAAAAAAAAAAAAAAADS0yHa+n5o/NLTIdr6fmj8=",
            "dtype": "f8"
           }
          }
         ],
         "layout": {
          "annotations": [
           {
            "showarrow": false,
            "text": "Time: 0.23s (Step: 24/100)",
            "x": 0.05,
            "xref": "paper",
            "y": 0.95,
            "yref": "paper"
           }
          ]
         },
         "name": "23"
        },
        {
         "data": [
          {
           "name": "Free Nodes",
           "type": "scatter3d",
           "x": {
            "bdata": "AAAAAAAAAAAAAAAAAADwPwAAAAAAAOA/AAAAAAAA4D8=",
            "dtype": "f8"
           },
           "y": {
            "bdata": "AAAAAAAA4D8AAAAAAADgPwAAAAAAAAAAAAAAAAAA8D8=",
            "dtype": "f8"
           },
           "z": {
            "bdata": "AAAAAAAAAAAAAAAAAAAAAJSZmZmZmZk/lJmZmZmZmT8=",
            "dtype": "f8"
           }
          },
          {
           "name": "Fixed Nodes",
           "type": "scatter3d",
           "x": [],
           "y": [],
           "z": []
          },
          {
           "name": "Edges",
           "type": "scatter3d",
           "x": [
            0,
            1,
            null,
            0.5,
            0.5,
            null
           ],
           "y": [
            0.5,
            0.5,
            null,
            0,
            1,
            null
           ],
           "z": [
            0,
            0,
            null,
            0.02499999999999998,
            0.02499999999999998,
            null
           ]
          },
          {
           "i": [],
           "j": [],
           "k": [],
           "name": "Faces",
           "type": "mesh3d",
           "x": {
            "bdata": "AAAAAAAAAAAAAAAAAADwPwAAAAAAAOA/AAAAAAAA4D8=",
            "dtype": "f8"
           },
           "y": {
            "bdata": "AAAAAAAA4D8AAAAAAADgPwAAAAAAAAAAAAAAAAAA8D8=",
            "dtype": "f8"
           },
           "z": {
            "bdata": "AAAAAAAAAAAAAAAAAAAAAJSZmZmZmZk/lJmZmZmZmT8=",
            "dtype": "f8"
           }
          }
         ],
         "layout": {
          "annotations": [
           {
            "showarrow": false,
            "text": "Time: 0.24s (Step: 25/100)",
            "x": 0.05,
            "xref": "paper",
            "y": 0.95,
            "yref": "paper"
           }
          ]
         },
         "name": "24"
        },
        {
         "data": [
          {
           "name": "Free Nodes",
           "type": "scatter3d",
           "x": {
            "bdata": "AAAAAAAAAAAAAAAAAADwPwAAAAAAAOA/AAAAAAAA4D8=",
            "dtype": "f8"
           },
           "y": {
            "bdata": "AAAAAAAA4D8AAAAAAADgPwAAAAAAAAAAAAAAAAAA8D8=",
            "dtype": "f8"
           },
           "z": {
            "bdata": "AAAAAAAAAAAAAAAAAAAAAPR+arx0k5g/9H5qvHSTmD8=",
            "dtype": "f8"
           }
          },
          {
           "name": "Fixed Nodes",
           "type": "scatter3d",
           "x": [],
           "y": [],
           "z": []
          },
          {
           "name": "Edges",
           "type": "scatter3d",
           "x": [
            0,
            1,
            null,
            0.5,
            0.5,
            null
           ],
           "y": [
            0.5,
            0.5,
            null,
            0,
            1,
            null
           ],
           "z": [
            0,
            0,
            null,
            0.02399999999999998,
            0.02399999999999998,
            null
           ]
          },
          {
           "i": [],
           "j": [],
           "k": [],
           "name": "Faces",
           "type": "mesh3d",
           "x": {
            "bdata": "AAAAAAAAAAAAAAAAAADwPwAAAAAAAOA/AAAAAAAA4D8=",
            "dtype": "f8"
           },
           "y": {
            "bdata": "AAAAAAAA4D8AAAAAAADgPwAAAAAAAAAAAAAAAAAA8D8=",
            "dtype": "f8"
           },
           "z": {
            "bdata": "AAAAAAAAAAAAAAAAAAAAAPR+arx0k5g/9H5qvHSTmD8=",
            "dtype": "f8"
           }
          }
         ],
         "layout": {
          "annotations": [
           {
            "showarrow": false,
            "text": "Time: 0.25s (Step: 26/100)",
            "x": 0.05,
            "xref": "paper",
            "y": 0.95,
            "yref": "paper"
           }
          ]
         },
         "name": "25"
        },
        {
         "data": [
          {
           "name": "Free Nodes",
           "type": "scatter3d",
           "x": {
            "bdata": "AAAAAAAAAAAAAAAAAADwPwAAAAAAAOA/AAAAAAAA4D8=",
            "dtype": "f8"
           },
           "y": {
            "bdata": "AAAAAAAA4D8AAAAAAADgPwAAAAAAAAAAAAAAAAAA8D8=",
            "dtype": "f8"
           },
           "z": {
            "bdata": "AAAAAAAAAAAAAAAAAAAAAFRkO99PjZc/VGQ730+Nlz8=",
            "dtype": "f8"
           }
          },
          {
           "name": "Fixed Nodes",
           "type": "scatter3d",
           "x": [],
           "y": [],
           "z": []
          },
          {
           "name": "Edges",
           "type": "scatter3d",
           "x": [
            0,
            1,
            null,
            0.5,
            0.5,
            null
           ],
           "y": [
            0.5,
            0.5,
            null,
            0,
            1,
            null
           ],
           "z": [
            0,
            0,
            null,
            0.02299999999999998,
            0.02299999999999998,
            null
           ]
          },
          {
           "i": [],
           "j": [],
           "k": [],
           "name": "Faces",
           "type": "mesh3d",
           "x": {
            "bdata": "AAAAAAAAAAAAAAAAAADwPwAAAAAAAOA/AAAAAAAA4D8=",
            "dtype": "f8"
           },
           "y": {
            "bdata": "AAAAAAAA4D8AAAAAAADgPwAAAAAAAAAAAAAAAAAA8D8=",
            "dtype": "f8"
           },
           "z": {
            "bdata": "AAAAAAAAAAAAAAAAAAAAAFRkO99PjZc/VGQ730+Nlz8=",
            "dtype": "f8"
           }
          }
         ],
         "layout": {
          "annotations": [
           {
            "showarrow": false,
            "text": "Time: 0.26s (Step: 27/100)",
            "x": 0.05,
            "xref": "paper",
            "y": 0.95,
            "yref": "paper"
           }
          ]
         },
         "name": "26"
        },
        {
         "data": [
          {
           "name": "Free Nodes",
           "type": "scatter3d",
           "x": {
            "bdata": "AAAAAAAAAAAAAAAAAADwPwAAAAAAAOA/AAAAAAAA4D8=",
            "dtype": "f8"
           },
           "y": {
            "bdata": "AAAAAAAA4D8AAAAAAADgPwAAAAAAAAAAAAAAAAAA8D8=",
            "dtype": "f8"
           },
           "z": {
            "bdata": "AAAAAAAAAAAAAAAAAAAAALRJDAIrh5Y/tEkMAiuHlj8=",
            "dtype": "f8"
           }
          },
          {
           "name": "Fixed Nodes",
           "type": "scatter3d",
           "x": [],
           "y": [],
           "z": []
          },
          {
           "name": "Edges",
           "type": "scatter3d",
           "x": [
            0,
            1,
            null,
            0.5,
            0.5,
            null
           ],
           "y": [
            0.5,
            0.5,
            null,
            0,
            1,
            null
           ],
           "z": [
            0,
            0,
            null,
            0.021999999999999978,
            0.021999999999999978,
            null
           ]
          },
          {
           "i": [],
           "j": [],
           "k": [],
           "name": "Faces",
           "type": "mesh3d",
           "x": {
            "bdata": "AAAAAAAAAAAAAAAAAADwPwAAAAAAAOA/AAAAAAAA4D8=",
            "dtype": "f8"
           },
           "y": {
            "bdata": "AAAAAAAA4D8AAAAAAADgPwAAAAAAAAAAAAAAAAAA8D8=",
            "dtype": "f8"
           },
           "z": {
            "bdata": "AAAAAAAAAAAAAAAAAAAAALRJDAIrh5Y/tEkMAiuHlj8=",
            "dtype": "f8"
           }
          }
         ],
         "layout": {
          "annotations": [
           {
            "showarrow": false,
            "text": "Time: 0.27s (Step: 28/100)",
            "x": 0.05,
            "xref": "paper",
            "y": 0.95,
            "yref": "paper"
           }
          ]
         },
         "name": "27"
        },
        {
         "data": [
          {
           "name": "Free Nodes",
           "type": "scatter3d",
           "x": {
            "bdata": "AAAAAAAAAAAAAAAAAADwPwAAAAAAAOA/AAAAAAAA4D8=",
            "dtype": "f8"
           },
           "y": {
            "bdata": "AAAAAAAA4D8AAAAAAADgPwAAAAAAAAAAAAAAAAAA8D8=",
            "dtype": "f8"
           },
           "z": {
            "bdata": "AAAAAAAAAAAAAAAAAAAAABQv3SQGgZU/FC/dJAaBlT8=",
            "dtype": "f8"
           }
          },
          {
           "name": "Fixed Nodes",
           "type": "scatter3d",
           "x": [],
           "y": [],
           "z": []
          },
          {
           "name": "Edges",
           "type": "scatter3d",
           "x": [
            0,
            1,
            null,
            0.5,
            0.5,
            null
           ],
           "y": [
            0.5,
            0.5,
            null,
            0,
            1,
            null
           ],
           "z": [
            0,
            0,
            null,
            0.020999999999999977,
            0.020999999999999977,
            null
           ]
          },
          {
           "i": [],
           "j": [],
           "k": [],
           "name": "Faces",
           "type": "mesh3d",
           "x": {
            "bdata": "AAAAAAAAAAAAAAAAAADwPwAAAAAAAOA/AAAAAAAA4D8=",
            "dtype": "f8"
           },
           "y": {
            "bdata": "AAAAAAAA4D8AAAAAAADgPwAAAAAAAAAAAAAAAAAA8D8=",
            "dtype": "f8"
           },
           "z": {
            "bdata": "AAAAAAAAAAAAAAAAAAAAABQv3SQGgZU/FC/dJAaBlT8=",
            "dtype": "f8"
           }
          }
         ],
         "layout": {
          "annotations": [
           {
            "showarrow": false,
            "text": "Time: 0.28s (Step: 29/100)",
            "x": 0.05,
            "xref": "paper",
            "y": 0.95,
            "yref": "paper"
           }
          ]
         },
         "name": "28"
        },
        {
         "data": [
          {
           "name": "Free Nodes",
           "type": "scatter3d",
           "x": {
            "bdata": "AAAAAAAAAAAAAAAAAADwPwAAAAAAAOA/AAAAAAAA4D8=",
            "dtype": "f8"
           },
           "y": {
            "bdata": "AAAAAAAA4D8AAAAAAADgPwAAAAAAAAAAAAAAAAAA8D8=",
            "dtype": "f8"
           },
           "z": {
            "bdata": "AAAAAAAAAAAAAAAAAAAAAHQUrkfhepQ/dBSuR+F6lD8=",
            "dtype": "f8"
           }
          },
          {
           "name": "Fixed Nodes",
           "type": "scatter3d",
           "x": [],
           "y": [],
           "z": []
          },
          {
           "name": "Edges",
           "type": "scatter3d",
           "x": [
            0,
            1,
            null,
            0.5,
            0.5,
            null
           ],
           "y": [
            0.5,
            0.5,
            null,
            0,
            1,
            null
           ],
           "z": [
            0,
            0,
            null,
            0.019999999999999976,
            0.019999999999999976,
            null
           ]
          },
          {
           "i": [],
           "j": [],
           "k": [],
           "name": "Faces",
           "type": "mesh3d",
           "x": {
            "bdata": "AAAAAAAAAAAAAAAAAADwPwAAAAAAAOA/AAAAAAAA4D8=",
            "dtype": "f8"
           },
           "y": {
            "bdata": "AAAAAAAA4D8AAAAAAADgPwAAAAAAAAAAAAAAAAAA8D8=",
            "dtype": "f8"
           },
           "z": {
            "bdata": "AAAAAAAAAAAAAAAAAAAAAHQUrkfhepQ/dBSuR+F6lD8=",
            "dtype": "f8"
           }
          }
         ],
         "layout": {
          "annotations": [
           {
            "showarrow": false,
            "text": "Time: 0.29s (Step: 30/100)",
            "x": 0.05,
            "xref": "paper",
            "y": 0.95,
            "yref": "paper"
           }
          ]
         },
         "name": "29"
        },
        {
         "data": [
          {
           "name": "Free Nodes",
           "type": "scatter3d",
           "x": {
            "bdata": "AAAAAAAAAAAAAAAAAADwPwAAAAAAAOA/AAAAAAAA4D8=",
            "dtype": "f8"
           },
           "y": {
            "bdata": "AAAAAAAA4D8AAAAAAADgPwAAAAAAAAAAAAAAAAAA8D8=",
            "dtype": "f8"
           },
           "z": {
            "bdata": "AAAAAAAAAAAAAAAAAAAAANT5fmq8dJM/1Pl+arx0kz8=",
            "dtype": "f8"
           }
          },
          {
           "name": "Fixed Nodes",
           "type": "scatter3d",
           "x": [],
           "y": [],
           "z": []
          },
          {
           "name": "Edges",
           "type": "scatter3d",
           "x": [
            0,
            1,
            null,
            0.5,
            0.5,
            null
           ],
           "y": [
            0.5,
            0.5,
            null,
            0,
            1,
            null
           ],
           "z": [
            0,
            0,
            null,
            0.018999999999999975,
            0.018999999999999975,
            null
           ]
          },
          {
           "i": [],
           "j": [],
           "k": [],
           "name": "Faces",
           "type": "mesh3d",
           "x": {
            "bdata": "AAAAAAAAAAAAAAAAAADwPwAAAAAAAOA/AAAAAAAA4D8=",
            "dtype": "f8"
           },
           "y": {
            "bdata": "AAAAAAAA4D8AAAAAAADgPwAAAAAAAAAAAAAAAAAA8D8=",
            "dtype": "f8"
           },
           "z": {
            "bdata": "AAAAAAAAAAAAAAAAAAAAANT5fmq8dJM/1Pl+arx0kz8=",
            "dtype": "f8"
           }
          }
         ],
         "layout": {
          "annotations": [
           {
            "showarrow": false,
            "text": "Time: 0.30s (Step: 31/100)",
            "x": 0.05,
            "xref": "paper",
            "y": 0.95,
            "yref": "paper"
           }
          ]
         },
         "name": "30"
        },
        {
         "data": [
          {
           "name": "Free Nodes",
           "type": "scatter3d",
           "x": {
            "bdata": "AAAAAAAAAAAAAAAAAADwPwAAAAAAAOA/AAAAAAAA4D8=",
            "dtype": "f8"
           },
           "y": {
            "bdata": "AAAAAAAA4D8AAAAAAADgPwAAAAAAAAAAAAAAAAAA8D8=",
            "dtype": "f8"
           },
           "z": {
            "bdata": "AAAAAAAAAAAAAAAAAAAAADTfT42XbpI/NN9PjZdukj8=",
            "dtype": "f8"
           }
          },
          {
           "name": "Fixed Nodes",
           "type": "scatter3d",
           "x": [],
           "y": [],
           "z": []
          },
          {
           "name": "Edges",
           "type": "scatter3d",
           "x": [
            0,
            1,
            null,
            0.5,
            0.5,
            null
           ],
           "y": [
            0.5,
            0.5,
            null,
            0,
            1,
            null
           ],
           "z": [
            0,
            0,
            null,
            0.017999999999999974,
            0.017999999999999974,
            null
           ]
          },
          {
           "i": [],
           "j": [],
           "k": [],
           "name": "Faces",
           "type": "mesh3d",
           "x": {
            "bdata": "AAAAAAAAAAAAAAAAAADwPwAAAAAAAOA/AAAAAAAA4D8=",
            "dtype": "f8"
           },
           "y": {
            "bdata": "AAAAAAAA4D8AAAAAAADgPwAAAAAAAAAAAAAAAAAA8D8=",
            "dtype": "f8"
           },
           "z": {
            "bdata": "AAAAAAAAAAAAAAAAAAAAADTfT42XbpI/NN9PjZdukj8=",
            "dtype": "f8"
           }
          }
         ],
         "layout": {
          "annotations": [
           {
            "showarrow": false,
            "text": "Time: 0.31s (Step: 32/100)",
            "x": 0.05,
            "xref": "paper",
            "y": 0.95,
            "yref": "paper"
           }
          ]
         },
         "name": "31"
        },
        {
         "data": [
          {
           "name": "Free Nodes",
           "type": "scatter3d",
           "x": {
            "bdata": "AAAAAAAAAAAAAAAAAADwPwAAAAAAAOA/AAAAAAAA4D8=",
            "dtype": "f8"
           },
           "y": {
            "bdata": "AAAAAAAA4D8AAAAAAADgPwAAAAAAAAAAAAAAAAAA8D8=",
            "dtype": "f8"
           },
           "z": {
            "bdata": "AAAAAAAAAAAAAAAAAAAAAJTEILByaJE/lMQgsHJokT8=",
            "dtype": "f8"
           }
          },
          {
           "name": "Fixed Nodes",
           "type": "scatter3d",
           "x": [],
           "y": [],
           "z": []
          },
          {
           "name": "Edges",
           "type": "scatter3d",
           "x": [
            0,
            1,
            null,
            0.5,
            0.5,
            null
           ],
           "y": [
            0.5,
            0.5,
            null,
            0,
            1,
            null
           ],
           "z": [
            0,
            0,
            null,
            0.016999999999999973,
            0.016999999999999973,
            null
           ]
          },
          {
           "i": [],
           "j": [],
           "k": [],
           "name": "Faces",
           "type": "mesh3d",
           "x": {
            "bdata": "AAAAAAAAAAAAAAAAAADwPwAAAAAAAOA/AAAAAAAA4D8=",
            "dtype": "f8"
           },
           "y": {
            "bdata": "AAAAAAAA4D8AAAAAAADgPwAAAAAAAAAAAAAAAAAA8D8=",
            "dtype": "f8"
           },
           "z": {
            "bdata": "AAAAAAAAAAAAAAAAAAAAAJTEILByaJE/lMQgsHJokT8=",
            "dtype": "f8"
           }
          }
         ],
         "layout": {
          "annotations": [
           {
            "showarrow": false,
            "text": "Time: 0.32s (Step: 33/100)",
            "x": 0.05,
            "xref": "paper",
            "y": 0.95,
            "yref": "paper"
           }
          ]
         },
         "name": "32"
        },
        {
         "data": [
          {
           "name": "Free Nodes",
           "type": "scatter3d",
           "x": {
            "bdata": "AAAAAAAAAAAAAAAAAADwPwAAAAAAAOA/AAAAAAAA4D8=",
            "dtype": "f8"
           },
           "y": {
            "bdata": "AAAAAAAA4D8AAAAAAADgPwAAAAAAAAAAAAAAAAAA8D8=",
            "dtype": "f8"
           },
           "z": {
            "bdata": "AAAAAAAAAAAAAAAAAAAAAPSp8dJNYpA/9Knx0k1ikD8=",
            "dtype": "f8"
           }
          },
          {
           "name": "Fixed Nodes",
           "type": "scatter3d",
           "x": [],
           "y": [],
           "z": []
          },
          {
           "name": "Edges",
           "type": "scatter3d",
           "x": [
            0,
            1,
            null,
            0.5,
            0.5,
            null
           ],
           "y": [
            0.5,
            0.5,
            null,
            0,
            1,
            null
           ],
           "z": [
            0,
            0,
            null,
            0.015999999999999973,
            0.015999999999999973,
            null
           ]
          },
          {
           "i": [],
           "j": [],
           "k": [],
           "name": "Faces",
           "type": "mesh3d",
           "x": {
            "bdata": "AAAAAAAAAAAAAAAAAADwPwAAAAAAAOA/AAAAAAAA4D8=",
            "dtype": "f8"
           },
           "y": {
            "bdata": "AAAAAAAA4D8AAAAAAADgPwAAAAAAAAAAAAAAAAAA8D8=",
            "dtype": "f8"
           },
           "z": {
            "bdata": "AAAAAAAAAAAAAAAAAAAAAPSp8dJNYpA/9Knx0k1ikD8=",
            "dtype": "f8"
           }
          }
         ],
         "layout": {
          "annotations": [
           {
            "showarrow": false,
            "text": "Time: 0.33s (Step: 34/100)",
            "x": 0.05,
            "xref": "paper",
            "y": 0.95,
            "yref": "paper"
           }
          ]
         },
         "name": "33"
        },
        {
         "data": [
          {
           "name": "Free Nodes",
           "type": "scatter3d",
           "x": {
            "bdata": "AAAAAAAAAAAAAAAAAADwPwAAAAAAAOA/AAAAAAAA4D8=",
            "dtype": "f8"
           },
           "y": {
            "bdata": "AAAAAAAA4D8AAAAAAADgPwAAAAAAAAAAAAAAAAAA8D8=",
            "dtype": "f8"
           },
           "z": {
            "bdata": "AAAAAAAAAAAAAAAAAAAAAKgehetRuI4/qB6F61G4jj8=",
            "dtype": "f8"
           }
          },
          {
           "name": "Fixed Nodes",
           "type": "scatter3d",
           "x": [],
           "y": [],
           "z": []
          },
          {
           "name": "Edges",
           "type": "scatter3d",
           "x": [
            0,
            1,
            null,
            0.5,
            0.5,
            null
           ],
           "y": [
            0.5,
            0.5,
            null,
            0,
            1,
            null
           ],
           "z": [
            0,
            0,
            null,
            0.014999999999999972,
            0.014999999999999972,
            null
           ]
          },
          {
           "i": [],
           "j": [],
           "k": [],
           "name": "Faces",
           "type": "mesh3d",
           "x": {
            "bdata": "AAAAAAAAAAAAAAAAAADwPwAAAAAAAOA/AAAAAAAA4D8=",
            "dtype": "f8"
           },
           "y": {
            "bdata": "AAAAAAAA4D8AAAAAAADgPwAAAAAAAAAAAAAAAAAA8D8=",
            "dtype": "f8"
           },
           "z": {
            "bdata": "AAAAAAAAAAAAAAAAAAAAAKgehetRuI4/qB6F61G4jj8=",
            "dtype": "f8"
           }
          }
         ],
         "layout": {
          "annotations": [
           {
            "showarrow": false,
            "text": "Time: 0.34s (Step: 35/100)",
            "x": 0.05,
            "xref": "paper",
            "y": 0.95,
            "yref": "paper"
           }
          ]
         },
         "name": "34"
        },
        {
         "data": [
          {
           "name": "Free Nodes",
           "type": "scatter3d",
           "x": {
            "bdata": "AAAAAAAAAAAAAAAAAADwPwAAAAAAAOA/AAAAAAAA4D8=",
            "dtype": "f8"
           },
           "y": {
            "bdata": "AAAAAAAA4D8AAAAAAADgPwAAAAAAAAAAAAAAAAAA8D8=",
            "dtype": "f8"
           },
           "z": {
            "bdata": "AAAAAAAAAAAAAAAAAAAAAGjpJjEIrIw/aOkmMQisjD8=",
            "dtype": "f8"
           }
          },
          {
           "name": "Fixed Nodes",
           "type": "scatter3d",
           "x": [],
           "y": [],
           "z": []
          },
          {
           "name": "Edges",
           "type": "scatter3d",
           "x": [
            0,
            1,
            null,
            0.5,
            0.5,
            null
           ],
           "y": [
            0.5,
            0.5,
            null,
            0,
            1,
            null
           ],
           "z": [
            0,
            0,
            null,
            0.01399999999999997,
            0.01399999999999997,
            null
           ]
          },
          {
           "i": [],
           "j": [],
           "k": [],
           "name": "Faces",
           "type": "mesh3d",
           "x": {
            "bdata": "AAAAAAAAAAAAAAAAAADwPwAAAAAAAOA/AAAAAAAA4D8=",
            "dtype": "f8"
           },
           "y": {
            "bdata": "AAAAAAAA4D8AAAAAAADgPwAAAAAAAAAAAAAAAAAA8D8=",
            "dtype": "f8"
           },
           "z": {
            "bdata": "AAAAAAAAAAAAAAAAAAAAAGjpJjEIrIw/aOkmMQisjD8=",
            "dtype": "f8"
           }
          }
         ],
         "layout": {
          "annotations": [
           {
            "showarrow": false,
            "text": "Time: 0.35s (Step: 36/100)",
            "x": 0.05,
            "xref": "paper",
            "y": 0.95,
            "yref": "paper"
           }
          ]
         },
         "name": "35"
        },
        {
         "data": [
          {
           "name": "Free Nodes",
           "type": "scatter3d",
           "x": {
            "bdata": "AAAAAAAAAAAAAAAAAADwPwAAAAAAAOA/AAAAAAAA4D8=",
            "dtype": "f8"
           },
           "y": {
            "bdata": "AAAAAAAA4D8AAAAAAADgPwAAAAAAAAAAAAAAAAAA8D8=",
            "dtype": "f8"
           },
           "z": {
            "bdata": "AAAAAAAAAAAAAAAAAAAAACi0yHa+n4o/KLTIdr6fij8=",
            "dtype": "f8"
           }
          },
          {
           "name": "Fixed Nodes",
           "type": "scatter3d",
           "x": [],
           "y": [],
           "z": []
          },
          {
           "name": "Edges",
           "type": "scatter3d",
           "x": [
            0,
            1,
            null,
            0.5,
            0.5,
            null
           ],
           "y": [
            0.5,
            0.5,
            null,
            0,
            1,
            null
           ],
           "z": [
            0,
            0,
            null,
            0.01299999999999997,
            0.01299999999999997,
            null
           ]
          },
          {
           "i": [],
           "j": [],
           "k": [],
           "name": "Faces",
           "type": "mesh3d",
           "x": {
            "bdata": "AAAAAAAAAAAAAAAAAADwPwAAAAAAAOA/AAAAAAAA4D8=",
            "dtype": "f8"
           },
           "y": {
            "bdata": "AAAAAAAA4D8AAAAAAADgPwAAAAAAAAAAAAAAAAAA8D8=",
            "dtype": "f8"
           },
           "z": {
            "bdata": "AAAAAAAAAAAAAAAAAAAAACi0yHa+n4o/KLTIdr6fij8=",
            "dtype": "f8"
           }
          }
         ],
         "layout": {
          "annotations": [
           {
            "showarrow": false,
            "text": "Time: 0.36s (Step: 37/100)",
            "x": 0.05,
            "xref": "paper",
            "y": 0.95,
            "yref": "paper"
           }
          ]
         },
         "name": "36"
        },
        {
         "data": [
          {
           "name": "Free Nodes",
           "type": "scatter3d",
           "x": {
            "bdata": "AAAAAAAAAAAAAAAAAADwPwAAAAAAAOA/AAAAAAAA4D8=",
            "dtype": "f8"
           },
           "y": {
            "bdata": "AAAAAAAA4D8AAAAAAADgPwAAAAAAAAAAAAAAAAAA8D8=",
            "dtype": "f8"
           },
           "z": {
            "bdata": "AAAAAAAAAAAAAAAAAAAAAOh+arx0k4g/6H5qvHSTiD8=",
            "dtype": "f8"
           }
          },
          {
           "name": "Fixed Nodes",
           "type": "scatter3d",
           "x": [],
           "y": [],
           "z": []
          },
          {
           "name": "Edges",
           "type": "scatter3d",
           "x": [
            0,
            1,
            null,
            0.5,
            0.5,
            null
           ],
           "y": [
            0.5,
            0.5,
            null,
            0,
            1,
            null
           ],
           "z": [
            0,
            0,
            null,
            0.011999999999999969,
            0.011999999999999969,
            null
           ]
          },
          {
           "i": [],
           "j": [],
           "k": [],
           "name": "Faces",
           "type": "mesh3d",
           "x": {
            "bdata": "AAAAAAAAAAAAAAAAAADwPwAAAAAAAOA/AAAAAAAA4D8=",
            "dtype": "f8"
           },
           "y": {
            "bdata": "AAAAAAAA4D8AAAAAAADgPwAAAAAAAAAAAAAAAAAA8D8=",
            "dtype": "f8"
           },
           "z": {
            "bdata": "AAAAAAAAAAAAAAAAAAAAAOh+arx0k4g/6H5qvHSTiD8=",
            "dtype": "f8"
           }
          }
         ],
         "layout": {
          "annotations": [
           {
            "showarrow": false,
            "text": "Time: 0.37s (Step: 38/100)",
            "x": 0.05,
            "xref": "paper",
            "y": 0.95,
            "yref": "paper"
           }
          ]
         },
         "name": "37"
        },
        {
         "data": [
          {
           "name": "Free Nodes",
           "type": "scatter3d",
           "x": {
            "bdata": "AAAAAAAAAAAAAAAAAADwPwAAAAAAAOA/AAAAAAAA4D8=",
            "dtype": "f8"
           },
           "y": {
            "bdata": "AAAAAAAA4D8AAAAAAADgPwAAAAAAAAAAAAAAAAAA8D8=",
            "dtype": "f8"
           },
           "z": {
            "bdata": "AAAAAAAAAAAAAAAAAAAAAKhJDAIrh4Y/qEkMAiuHhj8=",
            "dtype": "f8"
           }
          },
          {
           "name": "Fixed Nodes",
           "type": "scatter3d",
           "x": [],
           "y": [],
           "z": []
          },
          {
           "name": "Edges",
           "type": "scatter3d",
           "x": [
            0,
            1,
            null,
            0.5,
            0.5,
            null
           ],
           "y": [
            0.5,
            0.5,
            null,
            0,
            1,
            null
           ],
           "z": [
            0,
            0,
            null,
            0.010999999999999968,
            0.010999999999999968,
            null
           ]
          },
          {
           "i": [],
           "j": [],
           "k": [],
           "name": "Faces",
           "type": "mesh3d",
           "x": {
            "bdata": "AAAAAAAAAAAAAAAAAADwPwAAAAAAAOA/AAAAAAAA4D8=",
            "dtype": "f8"
           },
           "y": {
            "bdata": "AAAAAAAA4D8AAAAAAADgPwAAAAAAAAAAAAAAAAAA8D8=",
            "dtype": "f8"
           },
           "z": {
            "bdata": "AAAAAAAAAAAAAAAAAAAAAKhJDAIrh4Y/qEkMAiuHhj8=",
            "dtype": "f8"
           }
          }
         ],
         "layout": {
          "annotations": [
           {
            "showarrow": false,
            "text": "Time: 0.38s (Step: 39/100)",
            "x": 0.05,
            "xref": "paper",
            "y": 0.95,
            "yref": "paper"
           }
          ]
         },
         "name": "38"
        },
        {
         "data": [
          {
           "name": "Free Nodes",
           "type": "scatter3d",
           "x": {
            "bdata": "AAAAAAAAAAAAAAAAAADwPwAAAAAAAOA/AAAAAAAA4D8=",
            "dtype": "f8"
           },
           "y": {
            "bdata": "AAAAAAAA4D8AAAAAAADgPwAAAAAAAAAAAAAAAAAA8D8=",
            "dtype": "f8"
           },
           "z": {
            "bdata": "AAAAAAAAAAAAAAAAAAAAAGgUrkfheoQ/aBSuR+F6hD8=",
            "dtype": "f8"
           }
          },
          {
           "name": "Fixed Nodes",
           "type": "scatter3d",
           "x": [],
           "y": [],
           "z": []
          },
          {
           "name": "Edges",
           "type": "scatter3d",
           "x": [
            0,
            1,
            null,
            0.5,
            0.5,
            null
           ],
           "y": [
            0.5,
            0.5,
            null,
            0,
            1,
            null
           ],
           "z": [
            0,
            0,
            null,
            0.009999999999999967,
            0.009999999999999967,
            null
           ]
          },
          {
           "i": [],
           "j": [],
           "k": [],
           "name": "Faces",
           "type": "mesh3d",
           "x": {
            "bdata": "AAAAAAAAAAAAAAAAAADwPwAAAAAAAOA/AAAAAAAA4D8=",
            "dtype": "f8"
           },
           "y": {
            "bdata": "AAAAAAAA4D8AAAAAAADgPwAAAAAAAAAAAAAAAAAA8D8=",
            "dtype": "f8"
           },
           "z": {
            "bdata": "AAAAAAAAAAAAAAAAAAAAAGgUrkfheoQ/aBSuR+F6hD8=",
            "dtype": "f8"
           }
          }
         ],
         "layout": {
          "annotations": [
           {
            "showarrow": false,
            "text": "Time: 0.39s (Step: 40/100)",
            "x": 0.05,
            "xref": "paper",
            "y": 0.95,
            "yref": "paper"
           }
          ]
         },
         "name": "39"
        },
        {
         "data": [
          {
           "name": "Free Nodes",
           "type": "scatter3d",
           "x": {
            "bdata": "AAAAAAAAAAAAAAAAAADwPwAAAAAAAOA/AAAAAAAA4D8=",
            "dtype": "f8"
           },
           "y": {
            "bdata": "AAAAAAAA4D8AAAAAAADgPwAAAAAAAAAAAAAAAAAA8D8=",
            "dtype": "f8"
           },
           "z": {
            "bdata": "AAAAAAAAAAAAAAAAAAAAACjfT42XboI/KN9PjZdugj8=",
            "dtype": "f8"
           }
          },
          {
           "name": "Fixed Nodes",
           "type": "scatter3d",
           "x": [],
           "y": [],
           "z": []
          },
          {
           "name": "Edges",
           "type": "scatter3d",
           "x": [
            0,
            1,
            null,
            0.5,
            0.5,
            null
           ],
           "y": [
            0.5,
            0.5,
            null,
            0,
            1,
            null
           ],
           "z": [
            0,
            0,
            null,
            0.008999999999999966,
            0.008999999999999966,
            null
           ]
          },
          {
           "i": [],
           "j": [],
           "k": [],
           "name": "Faces",
           "type": "mesh3d",
           "x": {
            "bdata": "AAAAAAAAAAAAAAAAAADwPwAAAAAAAOA/AAAAAAAA4D8=",
            "dtype": "f8"
           },
           "y": {
            "bdata": "AAAAAAAA4D8AAAAAAADgPwAAAAAAAAAAAAAAAAAA8D8=",
            "dtype": "f8"
           },
           "z": {
            "bdata": "AAAAAAAAAAAAAAAAAAAAACjfT42XboI/KN9PjZdugj8=",
            "dtype": "f8"
           }
          }
         ],
         "layout": {
          "annotations": [
           {
            "showarrow": false,
            "text": "Time: 0.40s (Step: 41/100)",
            "x": 0.05,
            "xref": "paper",
            "y": 0.95,
            "yref": "paper"
           }
          ]
         },
         "name": "40"
        },
        {
         "data": [
          {
           "name": "Free Nodes",
           "type": "scatter3d",
           "x": {
            "bdata": "AAAAAAAAAAAAAAAAAADwPwAAAAAAAOA/AAAAAAAA4D8=",
            "dtype": "f8"
           },
           "y": {
            "bdata": "AAAAAAAA4D8AAAAAAADgPwAAAAAAAAAAAAAAAAAA8D8=",
            "dtype": "f8"
           },
           "z": {
            "bdata": "AAAAAAAAAAAAAAAAAAAAAOip8dJNYoA/6Knx0k1igD8=",
            "dtype": "f8"
           }
          },
          {
           "name": "Fixed Nodes",
           "type": "scatter3d",
           "x": [],
           "y": [],
           "z": []
          },
          {
           "name": "Edges",
           "type": "scatter3d",
           "x": [
            0,
            1,
            null,
            0.5,
            0.5,
            null
           ],
           "y": [
            0.5,
            0.5,
            null,
            0,
            1,
            null
           ],
           "z": [
            0,
            0,
            null,
            0.007999999999999965,
            0.007999999999999965,
            null
           ]
          },
          {
           "i": [],
           "j": [],
           "k": [],
           "name": "Faces",
           "type": "mesh3d",
           "x": {
            "bdata": "AAAAAAAAAAAAAAAAAADwPwAAAAAAAOA/AAAAAAAA4D8=",
            "dtype": "f8"
           },
           "y": {
            "bdata": "AAAAAAAA4D8AAAAAAADgPwAAAAAAAAAAAAAAAAAA8D8=",
            "dtype": "f8"
           },
           "z": {
            "bdata": "AAAAAAAAAAAAAAAAAAAAAOip8dJNYoA/6Knx0k1igD8=",
            "dtype": "f8"
           }
          }
         ],
         "layout": {
          "annotations": [
           {
            "showarrow": false,
            "text": "Time: 0.41s (Step: 42/100)",
            "x": 0.05,
            "xref": "paper",
            "y": 0.95,
            "yref": "paper"
           }
          ]
         },
         "name": "41"
        },
        {
         "data": [
          {
           "name": "Free Nodes",
           "type": "scatter3d",
           "x": {
            "bdata": "AAAAAAAAAAAAAAAAAADwPwAAAAAAAOA/AAAAAAAA4D8=",
            "dtype": "f8"
           },
           "y": {
            "bdata": "AAAAAAAA4D8AAAAAAADgPwAAAAAAAAAAAAAAAAAA8D8=",
            "dtype": "f8"
           },
           "z": {
            "bdata": "AAAAAAAAAAAAAAAAAAAAAFDpJjEIrHw/UOkmMQisfD8=",
            "dtype": "f8"
           }
          },
          {
           "name": "Fixed Nodes",
           "type": "scatter3d",
           "x": [],
           "y": [],
           "z": []
          },
          {
           "name": "Edges",
           "type": "scatter3d",
           "x": [
            0,
            1,
            null,
            0.5,
            0.5,
            null
           ],
           "y": [
            0.5,
            0.5,
            null,
            0,
            1,
            null
           ],
           "z": [
            0,
            0,
            null,
            0.006999999999999965,
            0.006999999999999965,
            null
           ]
          },
          {
           "i": [],
           "j": [],
           "k": [],
           "name": "Faces",
           "type": "mesh3d",
           "x": {
            "bdata": "AAAAAAAAAAAAAAAAAADwPwAAAAAAAOA/AAAAAAAA4D8=",
            "dtype": "f8"
           },
           "y": {
            "bdata": "AAAAAAAA4D8AAAAAAADgPwAAAAAAAAAAAAAAAAAA8D8=",
            "dtype": "f8"
           },
           "z": {
            "bdata": "AAAAAAAAAAAAAAAAAAAAAFDpJjEIrHw/UOkmMQisfD8=",
            "dtype": "f8"
           }
          }
         ],
         "layout": {
          "annotations": [
           {
            "showarrow": false,
            "text": "Time: 0.42s (Step: 43/100)",
            "x": 0.05,
            "xref": "paper",
            "y": 0.95,
            "yref": "paper"
           }
          ]
         },
         "name": "42"
        },
        {
         "data": [
          {
           "name": "Free Nodes",
           "type": "scatter3d",
           "x": {
            "bdata": "AAAAAAAAAAAAAAAAAADwPwAAAAAAAOA/AAAAAAAA4D8=",
            "dtype": "f8"
           },
           "y": {
            "bdata": "AAAAAAAA4D8AAAAAAADgPwAAAAAAAAAAAAAAAAAA8D8=",
            "dtype": "f8"
           },
           "z": {
            "bdata": "AAAAAAAAAAAAAAAAAAAAANB+arx0k3g/0H5qvHSTeD8=",
            "dtype": "f8"
           }
          },
          {
           "name": "Fixed Nodes",
           "type": "scatter3d",
           "x": [],
           "y": [],
           "z": []
          },
          {
           "name": "Edges",
           "type": "scatter3d",
           "x": [
            0,
            1,
            null,
            0.5,
            0.5,
            null
           ],
           "y": [
            0.5,
            0.5,
            null,
            0,
            1,
            null
           ],
           "z": [
            0,
            0,
            null,
            0.005999999999999964,
            0.005999999999999964,
            null
           ]
          },
          {
           "i": [],
           "j": [],
           "k": [],
           "name": "Faces",
           "type": "mesh3d",
           "x": {
            "bdata": "AAAAAAAAAAAAAAAAAADwPwAAAAAAAOA/AAAAAAAA4D8=",
            "dtype": "f8"
           },
           "y": {
            "bdata": "AAAAAAAA4D8AAAAAAADgPwAAAAAAAAAAAAAAAAAA8D8=",
            "dtype": "f8"
           },
           "z": {
            "bdata": "AAAAAAAAAAAAAAAAAAAAANB+arx0k3g/0H5qvHSTeD8=",
            "dtype": "f8"
           }
          }
         ],
         "layout": {
          "annotations": [
           {
            "showarrow": false,
            "text": "Time: 0.43s (Step: 44/100)",
            "x": 0.05,
            "xref": "paper",
            "y": 0.95,
            "yref": "paper"
           }
          ]
         },
         "name": "43"
        },
        {
         "data": [
          {
           "name": "Free Nodes",
           "type": "scatter3d",
           "x": {
            "bdata": "AAAAAAAAAAAAAAAAAADwPwAAAAAAAOA/AAAAAAAA4D8=",
            "dtype": "f8"
           },
           "y": {
            "bdata": "AAAAAAAA4D8AAAAAAADgPwAAAAAAAAAAAAAAAAAA8D8=",
            "dtype": "f8"
           },
           "z": {
            "bdata": "AAAAAAAAAAAAAAAAAAAAAFAUrkfhenQ/UBSuR+F6dD8=",
            "dtype": "f8"
           }
          },
          {
           "name": "Fixed Nodes",
           "type": "scatter3d",
           "x": [],
           "y": [],
           "z": []
          },
          {
           "name": "Edges",
           "type": "scatter3d",
           "x": [
            0,
            1,
            null,
            0.5,
            0.5,
            null
           ],
           "y": [
            0.5,
            0.5,
            null,
            0,
            1,
            null
           ],
           "z": [
            0,
            0,
            null,
            0.004999999999999963,
            0.004999999999999963,
            null
           ]
          },
          {
           "i": [],
           "j": [],
           "k": [],
           "name": "Faces",
           "type": "mesh3d",
           "x": {
            "bdata": "AAAAAAAAAAAAAAAAAADwPwAAAAAAAOA/AAAAAAAA4D8=",
            "dtype": "f8"
           },
           "y": {
            "bdata": "AAAAAAAA4D8AAAAAAADgPwAAAAAAAAAAAAAAAAAA8D8=",
            "dtype": "f8"
           },
           "z": {
            "bdata": "AAAAAAAAAAAAAAAAAAAAAFAUrkfhenQ/UBSuR+F6dD8=",
            "dtype": "f8"
           }
          }
         ],
         "layout": {
          "annotations": [
           {
            "showarrow": false,
            "text": "Time: 0.44s (Step: 45/100)",
            "x": 0.05,
            "xref": "paper",
            "y": 0.95,
            "yref": "paper"
           }
          ]
         },
         "name": "44"
        },
        {
         "data": [
          {
           "name": "Free Nodes",
           "type": "scatter3d",
           "x": {
            "bdata": "eOBs1VNR5Dys///////vP6H//////98/2v//////3z8=",
            "dtype": "f8"
           },
           "y": {
            "bdata": "7///////3z/6///////fP6zKug9AatK8+v//////7z8=",
            "dtype": "f8"
           },
           "z": {
            "bdata": "NFLkJGNGcD83UuQkY0ZwP76Ge/et6vs+8Ih7963q+z4=",
            "dtype": "f8"
           }
          },
          {
           "name": "Fixed Nodes",
           "type": "scatter3d",
           "x": [],
           "y": [],
           "z": []
          },
          {
           "name": "Edges",
           "type": "scatter3d",
           "x": [
            2.2557162194382515e-15,
            0.9999999999999907,
            null,
            0.4999999999999947,
            0.4999999999999979,
            null
           ],
           "y": [
            0.49999999999999906,
            0.49999999999999967,
            null,
            -1.0222400703730206e-15,
            0.9999999999999993,
            null
           ],
           "z": [
            0.003973376542735486,
            0.003973376542735488,
            null,
            0.00002662345602189616,
            0.000026623456021898065,
            null
           ]
          },
          {
           "i": [],
           "j": [],
           "k": [],
           "name": "Faces",
           "type": "mesh3d",
           "x": {
            "bdata": "eOBs1VNR5Dys///////vP6H//////98/2v//////3z8=",
            "dtype": "f8"
           },
           "y": {
            "bdata": "7///////3z/6///////fP6zKug9AatK8+v//////7z8=",
            "dtype": "f8"
           },
           "z": {
            "bdata": "NFLkJGNGcD83UuQkY0ZwP76Ge/et6vs+8Ih7963q+z4=",
            "dtype": "f8"
           }
          }
         ],
         "layout": {
          "annotations": [
           {
            "showarrow": false,
            "text": "Time: 0.45s (Step: 46/100)",
            "x": 0.05,
            "xref": "paper",
            "y": 0.95,
            "yref": "paper"
           }
          ]
         },
         "name": "45"
        },
        {
         "data": [
          {
           "name": "Free Nodes",
           "type": "scatter3d",
           "x": {
            "bdata": "eMkSlYTQ9zwsAAAAAADwP8v//////98/jwAAAAAA4D8=",
            "dtype": "f8"
           },
           "y": {
            "bdata": "pP7/////3z8pAAAAAADgP36JR3wn5gK9u///////7z8=",
            "dtype": "f8"
           },
           "z": {
            "bdata": "xQ1OlekFP78fDU6V6QU/v6HgUfAxdGw/p+BR8DF0bD8=",
            "dtype": "f8"
           }
          },
          {
           "name": "Fixed Nodes",
           "type": "scatter3d",
           "x": [],
           "y": [],
           "z": []
          },
          {
           "name": "Edges",
           "type": "scatter3d",
           "x": [
            5.287886361143303e-15,
            1.0000000000000098,
            null,
            0.49999999999999706,
            0.5000000000000159,
            null
           ],
           "y": [
            0.4999999999999807,
            0.5000000000000046,
            null,
            -8.392859740704767e-15,
            0.9999999999999923,
            null
           ],
           "z": [
            -0.0004733748694933616,
            -0.00047337486949335263,
            null,
            0.0034733748785207995,
            0.003473374878520802,
            null
           ]
          },
          {
           "i": [],
           "j": [],
           "k": [],
           "name": "Faces",
           "type": "mesh3d",
           "x": {
            "bdata": "eMkSlYTQ9zwsAAAAAADwP8v//////98/jwAAAAAA4D8=",
            "dtype": "f8"
           },
           "y": {
            "bdata": "pP7/////3z8pAAAAAADgP36JR3wn5gK9u///////7z8=",
            "dtype": "f8"
           },
           "z": {
            "bdata": "xQ1OlekFP78fDU6V6QU/v6HgUfAxdGw/p+BR8DF0bD8=",
            "dtype": "f8"
           }
          }
         ],
         "layout": {
          "annotations": [
           {
            "showarrow": false,
            "text": "Time: 0.46s (Step: 47/100)",
            "x": 0.05,
            "xref": "paper",
            "y": 0.95,
            "yref": "paper"
           }
          ]
         },
         "name": "46"
        },
        {
         "data": [
          {
           "name": "Free Nodes",
           "type": "scatter3d",
           "x": {
            "bdata": "qCgpFhQ/CT3yAAAAAADwPwsAAAAAAOA/KQIAAAAA4D8=",
            "dtype": "f8"
           },
           "y": {
            "bdata": "HP7/////3z8kAAAAAADgP6up21AxdiC9GAAAAAAA8D8=",
            "dtype": "f8"
           },
           "z": {
            "bdata": "EKnLf55baD8fqct/nltoP+5ngKVC5U+/0meApULlT78=",
            "dtype": "f8"
           }
          },
          {
           "name": "Fixed Nodes",
           "type": "scatter3d",
           "x": [],
           "y": [],
           "z": []
          },
          {
           "name": "Edges",
           "type": "scatter3d",
           "x": [
            1.1211653937100538e-14,
            1.0000000000000537,
            null,
            0.5000000000000012,
            0.5000000000000614,
            null
           ],
           "y": [
            0.49999999999997313,
            0.500000000000004,
            null,
            -2.924183561990622e-14,
            1.0000000000000053,
            null
           ],
           "z": [
            0.0029733749091650566,
            0.002973374909165063,
            null,
            -0.0009733748838727221,
            -0.0009733748838727191,
            null
           ]
          },
          {
           "i": [],
           "j": [],
           "k": [],
           "name": "Faces",
           "type": "mesh3d",
           "x": {
            "bdata": "qCgpFhQ/CT3yAAAAAADwPwsAAAAAAOA/KQIAAAAA4D8=",
            "dtype": "f8"
           },
           "y": {
            "bdata": "HP7/////3z8kAAAAAADgP6up21AxdiC9GAAAAAAA8D8=",
            "dtype": "f8"
           },
           "z": {
            "bdata": "EKnLf55baD8fqct/nltoP+5ngKVC5U+/0meApULlT78=",
            "dtype": "f8"
           }
          }
         ],
         "layout": {
          "annotations": [
           {
            "showarrow": false,
            "text": "Time: 0.47s (Step: 48/100)",
            "x": 0.05,
            "xref": "paper",
            "y": 0.95,
            "yref": "paper"
           }
          ]
         },
         "name": "47"
        },
        {
         "data": [
          {
           "name": "Free Nodes",
           "type": "scatter3d",
           "x": {
            "bdata": "/pPuAkU5LD1xAQAAAADwP3QAAAAAAOA/GgQAAAAA4D8=",
            "dtype": "f8"
           },
           "y": {
            "bdata": "y/3/////3z8FAAAAAADgP0LZltQJmCa9IgAAAAAA8D8=",
            "dtype": "f8"
           },
           "z": {
            "bdata": "w7TvOMgjWL+rtO84yCNYv1zpswwLQ2Q/ZumzDAtDZD8=",
            "dtype": "f8"
           }
          },
          {
           "name": "Fixed Nodes",
           "type": "scatter3d",
           "x": [],
           "y": [],
           "z": []
          },
          {
           "name": "Edges",
           "type": "scatter3d",
           "x": [
            5.0135379014909087e-14,
            1.000000000000082,
            null,
            0.5000000000000129,
            0.5000000000001166,
            null
           ],
           "y": [
            0.49999999999996864,
            0.5000000000000006,
            null,
            -4.0134828794450865e-14,
            1.0000000000000075,
            null
           ],
           "z": [
            -0.0014733748719167195,
            -0.0014733748719167143,
            null,
            0.0024733749211211364,
            0.0024733749211211407,
            null
           ]
          },
          {
           "i": [],
           "j": [],
           "k": [],
           "name": "Faces",
           "type": "mesh3d",
           "x": {
            "bdata": "/pPuAkU5LD1xAQAAAADwP3QAAAAAAOA/GgQAAAAA4D8=",
            "dtype": "f8"
           },
           "y": {
            "bdata": "y/3/////3z8FAAAAAADgP0LZltQJmCa9IgAAAAAA8D8=",
            "dtype": "f8"
           },
           "z": {
            "bdata": "w7TvOMgjWL+rtO84yCNYv1zpswwLQ2Q/ZumzDAtDZD8=",
            "dtype": "f8"
           }
          }
         ],
         "layout": {
          "annotations": [
           {
            "showarrow": false,
            "text": "Time: 0.48s (Step: 49/100)",
            "x": 0.05,
            "xref": "paper",
            "y": 0.95,
            "yref": "paper"
           }
          ]
         },
         "name": "48"
        },
        {
         "data": [
          {
           "name": "Free Nodes",
           "type": "scatter3d",
           "x": {
            "bdata": "5PwjTzG3QT1xAQAAAADwP1QBAAAAAOA/2wUAAAAA4D8=",
            "dtype": "f8"
           },
           "y": {
            "bdata": "iP7/////3z+n///////fP+FpMH3ooh29AgAAAAAA8D8=",
            "dtype": "f8"
           },
           "z": {
            "bdata": "/n+jmHcqYD8QgKOYdypgP7pDiJB3KmC/r0OIkHcqYL8=",
            "dtype": "f8"
           }
          },
          {
           "name": "Fixed Nodes",
           "type": "scatter3d",
           "x": [],
           "y": [],
           "z": []
          },
          {
           "name": "Edges",
           "type": "scatter3d",
           "x": [
            1.2587688152486063e-13,
            1.000000000000082,
            null,
            0.5000000000000377,
            0.5000000000001664,
            null
           ],
           "y": [
            0.49999999999997913,
            0.49999999999999506,
            null,
            -2.632237539127692e-14,
            1.0000000000000004,
            null
           ],
           "z": [
            0.0019733749260097957,
            0.0019733749260098035,
            null,
            -0.001973374867028058,
            -0.001973374867028053,
            null
           ]
          },
          {
           "i": [],
           "j": [],
           "k": [],
           "name": "Faces",
           "type": "mesh3d",
           "x": {
            "bdata": "5PwjTzG3QT1xAQAAAADwP1QBAAAAAOA/2wUAAAAA4D8=",
            "dtype": "f8"
           },
           "y": {
            "bdata": "iP7/////3z+n///////fP+FpMH3ooh29AgAAAAAA8D8=",
            "dtype": "f8"
           },
           "z": {
            "bdata": "/n+jmHcqYD8QgKOYdypgP7pDiJB3KmC/r0OIkHcqYL8=",
            "dtype": "f8"
           }
          }
         ],
         "layout": {
          "annotations": [
           {
            "showarrow": false,
            "text": "Time: 0.49s (Step: 50/100)",
            "x": 0.05,
            "xref": "paper",
            "y": 0.95,
            "yref": "paper"
           }
          ]
         },
         "name": "49"
        },
        {
         "data": [
          {
           "name": "Free Nodes",
           "type": "scatter3d",
           "x": {
            "bdata": "r9orcGA8TD0EAgAAAADwP+YCAAAAAOA/AwgAAAAA4D8=",
            "dtype": "f8"
           },
           "y": {
            "bdata": "qf7/////3z/T/v/////fP7rAphR0eyy9QwAAAAAA8D8=",
            "dtype": "f8"
           },
           "z": {
            "bdata": "umnkBAtDZL+raeQEC0Nkv461jkjII1g/qLWOSMgjWD8=",
            "dtype": "f8"
           }
          },
          {
           "name": "Fixed Nodes",
           "type": "scatter3d",
           "x": [],
           "y": [],
           "z": []
          },
          {
           "name": "Edges",
           "type": "scatter3d",
           "x": [
            2.0062775639701744e-13,
            1.0000000000001146,
            null,
            0.5000000000000824,
            0.5000000000002277,
            null
           ],
           "y": [
            0.49999999999998096,
            0.4999999999999833,
            null,
            -5.0594621826237536e-14,
            1.0000000000000149,
            null
           ],
           "z": [
            -0.002473374864291969,
            -0.0024733748642919626,
            null,
            0.0014733749287459716,
            0.0014733749287459772,
            null
           ]
          },
          {
           "i": [],
           "j": [],
           "k": [],
           "name": "Faces",
           "type": "mesh3d",
           "x": {
            "bdata": "r9orcGA8TD0EAgAAAADwP+YCAAAAAOA/AwgAAAAA4D8=",
            "dtype": "f8"
           },
           "y": {
            "bdata": "qf7/////3z/T/v/////fP7rAphR0eyy9QwAAAAAA8D8=",
            "dtype": "f8"
           },
           "z": {
            "bdata": "umnkBAtDZL+raeQEC0Nkv461jkjII1g/qLWOSMgjWD8=",
            "dtype": "f8"
           }
          }
         ],
         "layout": {
          "annotations": [
           {
            "showarrow": false,
            "text": "Time: 0.50s (Step: 51/100)",
            "x": 0.05,
            "xref": "paper",
            "y": 0.95,
            "yref": "paper"
           }
          ]
         },
         "name": "50"
        },
        {
         "data": [
          {
           "name": "Free Nodes",
           "type": "scatter3d",
           "x": {
            "bdata": "J/0zEx9VUj2LAgAAAADwP5MEAAAAAOA/gAkAAAAA4D8=",
            "dtype": "f8"
           },
           "y": {
            "bdata": "vf7/////3z8j/v/////fP+bFPPw1TTC9OQAAAAAA8D8=",
            "dtype": "f8"
           },
           "z": {
            "bdata": "do8xvkLlTz+PjzG+QuVPP+Rfn3meW2i/1F+feZ5baL8=",
            "dtype": "f8"
           }
          },
          {
           "name": "Fixed Nodes",
           "type": "scatter3d",
           "x": [],
           "y": [],
           "z": []
          },
          {
           "name": "Edges",
           "type": "scatter3d",
           "x": [
            2.6052057104740515e-13,
            1.0000000000001446,
            null,
            0.50000000000013,
            0.50000000000027,
            null
           ],
           "y": [
            0.49999999999998207,
            0.4999999999999735,
            null,
            -5.791493507111277e-14,
            1.0000000000000127,
            null
           ],
           "z": [
            0.0009733749287872257,
            0.0009733749287872284,
            null,
            -0.002973374864250632,
            -0.002973374864250625,
            null
           ]
          },
          {
           "i": [],
           "j": [],
           "k": [],
           "name": "Faces",
           "type": "mesh3d",
           "x": {
            "bdata": "J/0zEx9VUj2LAgAAAADwP5MEAAAAAOA/gAkAAAAA4D8=",
            "dtype": "f8"
           },
           "y": {
            "bdata": "vf7/////3z8j/v/////fP+bFPPw1TTC9OQAAAAAA8D8=",
            "dtype": "f8"
           },
           "z": {
            "bdata": "do8xvkLlTz+PjzG+QuVPP+Rfn3meW2i/1F+feZ5baL8=",
            "dtype": "f8"
           }
          }
         ],
         "layout": {
          "annotations": [
           {
            "showarrow": false,
            "text": "Time: 0.51s (Step: 52/100)",
            "x": 0.05,
            "xref": "paper",
            "y": 0.95,
            "yref": "paper"
           }
          ]
         },
         "name": "51"
        },
        {
         "data": [
          {
           "name": "Free Nodes",
           "type": "scatter3d",
           "x": {
            "bdata": "P1RyatYnVT1sAwAAAADwP3UGAAAAAOA/0goAAAAA4D8=",
            "dtype": "f8"
           },
           "y": {
            "bdata": "Mv3/////3z9o/v/////fPzwZbQn56DG9BwAAAAAA8D8=",
            "dtype": "f8"
           },
           "z": {
            "bdata": "RUAA7jF0bL9FQADuMXRsv5AhXNnpBT8/JCJc2ekFPz8=",
            "dtype": "f8"
           }
          },
          {
           "name": "Fixed Nodes",
           "type": "scatter3d",
           "x": [],
           "y": [],
           "z": []
          },
          {
           "name": "Edges",
           "type": "scatter3d",
           "x": [
            3.0063937793401914e-13,
            1.0000000000001945,
            null,
            0.5000000000001835,
            0.5000000000003075,
            null
           ],
           "y": [
            0.49999999999996014,
            0.49999999999997735,
            null,
            -6.362927962413727e-14,
            1.0000000000000016,
            null
           ],
           "z": [
            -0.0034733748616489223,
            -0.0034733748616489223,
            null,
            0.000473374931389014,
            0.00047337493138902204,
            null
           ]
          },
          {
           "i": [],
           "j": [],
           "k": [],
           "name": "Faces",
           "type": "mesh3d",
           "x": {
            "bdata": "P1RyatYnVT1sAwAAAADwP3UGAAAAAOA/0goAAAAA4D8=",
            "dtype": "f8"
           },
           "y": {
            "bdata": "Mv3/////3z9o/v/////fPzwZbQn56DG9BwAAAAAA8D8=",
            "dtype": "f8"
           },
           "z": {
            "bdata": "RUAA7jF0bL9FQADuMXRsv5AhXNnpBT8/JCJc2ekFPz8=",
            "dtype": "f8"
           }
          }
         ],
         "layout": {
          "annotations": [
           {
            "showarrow": false,
            "text": "Time: 0.52s (Step: 53/100)",
            "x": 0.05,
            "xref": "paper",
            "y": 0.95,
            "yref": "paper"
           }
          ]
         },
         "name": "52"
        },
        {
         "data": [
          {
           "name": "Free Nodes",
           "type": "scatter3d",
           "x": {
            "bdata": "evzPNmfaVj0qBAAAAADwPy0IAAAAAOA/hQsAAAAA4D8=",
            "dtype": "f8"
           },
           "y": {
            "bdata": "VPv/////3z8Q///////fP5XlUoiAWya9i/7/////7z8=",
            "dtype": "f8"
           },
           "z": {
            "bdata": "qt18thzr+74I43y2HOv7vsNeTLFiRnC/ul5MsWJGcL8=",
            "dtype": "f8"
           }
          },
          {
           "name": "Fixed Nodes",
           "type": "scatter3d",
           "x": [],
           "y": [],
           "z": []
          },
          {
           "name": "Edges",
           "type": "scatter3d",
           "x": [
            3.2476261569555937e-13,
            1.0000000000002367,
            null,
            0.5000000000002324,
            0.5000000000003274,
            null
           ],
           "y": [
            0.4999999999999336,
            0.4999999999999867,
            null,
            -3.971477369285844e-14,
            0.9999999999999586,
            null
           ],
           "z": [
            -0.00002662506758996172,
            -0.000026625067589966376,
            null,
            -0.003973374860627823,
            -0.0039733748606278155,
            null
           ]
          },
          {
           "i": [],
           "j": [],
           "k": [],
           "name": "Faces",
           "type": "mesh3d",
           "x": {
            "bdata": "evzPNmfaVj0qBAAAAADwPy0IAAAAAOA/hQsAAAAA4D8=",
            "dtype": "f8"
           },
           "y": {
            "bdata": "VPv/////3z8Q///////fP5XlUoiAWya9i/7/////7z8=",
            "dtype": "f8"
           },
           "z": {
            "bdata": "qt18thzr+74I43y2HOv7vsNeTLFiRnC/ul5MsWJGcL8=",
            "dtype": "f8"
           }
          }
         ],
         "layout": {
          "annotations": [
           {
            "showarrow": false,
            "text": "Time: 0.53s (Step: 54/100)",
            "x": 0.05,
            "xref": "paper",
            "y": 0.95,
            "yref": "paper"
           }
          ]
         },
         "name": "53"
        },
        {
         "data": [
          {
           "name": "Free Nodes",
           "type": "scatter3d",
           "x": {
            "bdata": "ij/UfXzPVj3UBAAAAADwP00JAAAAAOA/tAsAAAAA4D8=",
            "dtype": "f8"
           },
           "y": {
            "bdata": "Q/r/////3z8L///////fP1vVLStN2hS9P/3/////7z8=",
            "dtype": "f8"
           },
           "z": {
            "bdata": "akvOa6xScr9oS85rrFJyv2tJw7mmQUG/IUnDuaZBQb8=",
            "dtype": "f8"
           }
          },
          {
           "name": "Fixed Nodes",
           "type": "scatter3d",
           "x": [],
           "y": [],
           "z": []
          },
          {
           "name": "Edges",
           "type": "scatter3d",
           "x": [
            3.241566068345809e-13,
            1.0000000000002744,
            null,
            0.5000000000002643,
            0.5000000000003326,
            null
           ],
           "y": [
            0.49999999999991845,
            0.4999999999999864,
            null,
            -1.8520953659998585e-14,
            0.9999999999999217,
            null
           ],
           "z": [
            -0.004473374862658067,
            -0.004473374862658065,
            null,
            -0.0005266250696201296,
            -0.0005266250696201216,
            null
           ]
          },
          {
           "i": [],
           "j": [],
           "k": [],
           "name": "Faces",
           "type": "mesh3d",
           "x": {
            "bdata": "ij/UfXzPVj3UBAAAAADwP00JAAAAAOA/tAsAAAAA4D8=",
            "dtype": "f8"
           },
           "y": {
            "bdata": "Q/r/////3z8L///////fP1vVLStN2hS9P/3/////7z8=",
            "dtype": "f8"
           },
           "z": {
            "bdata": "akvOa6xScr9oS85rrFJyv2tJw7mmQUG/IUnDuaZBQb8=",
            "dtype": "f8"
           }
          }
         ],
         "layout": {
          "annotations": [
           {
            "showarrow": false,
            "text": "Time: 0.54s (Step: 55/100)",
            "x": 0.05,
            "xref": "paper",
            "y": 0.95,
            "yref": "paper"
           }
          ]
         },
         "name": "54"
        },
        {
         "data": [
          {
           "name": "Free Nodes",
           "type": "scatter3d",
           "x": {
            "bdata": "tRoklqsYWD2WBQAAAADwP+QKAAAAAOA/UwwAAAAA4D8=",
            "dtype": "f8"
           },
           "y": {
            "bdata": "c/n/////3z9r///////fP4+T1OyBBiW9uP3/////7z8=",
            "dtype": "f8"
           },
           "z": {
            "bdata": "yxCxRvrRUL/XELFG+tFQv3kmQib2XnS/byZCJvZedL8=",
            "dtype": "f8"
           }
          },
          {
           "name": "Fixed Nodes",
           "type": "scatter3d",
           "x": [],
           "y": [],
           "z": []
          },
          {
           "name": "Edges",
           "type": "scatter3d",
           "x": [
            3.4242998768309856e-13,
            1.0000000000003175,
            null,
            0.5000000000003095,
            0.5000000000003503,
            null
           ],
           "y": [
            0.4999999999999069,
            0.49999999999999173,
            null,
            -3.734864861822645e-14,
            0.9999999999999352,
            null
           ],
           "z": [
            -0.0010266250708506504,
            -0.001026625070850653,
            null,
            -0.004973374863888596,
            -0.004973374863888587,
            null
           ]
          },
          {
           "i": [],
           "j": [],
           "k": [],
           "name": "Faces",
           "type": "mesh3d",
           "x": {
            "bdata": "tRoklqsYWD2WBQAAAADwP+QKAAAAAOA/UwwAAAAA4D8=",
            "dtype": "f8"
           },
           "y": {
            "bdata": "c/n/////3z9r///////fP4+T1OyBBiW9uP3/////7z8=",
            "dtype": "f8"
           },
           "z": {
            "bdata": "yxCxRvrRUL/XELFG+tFQv3kmQib2XnS/byZCJvZedL8=",
            "dtype": "f8"
           }
          }
         ],
         "layout": {
          "annotations": [
           {
            "showarrow": false,
            "text": "Time: 0.55s (Step: 56/100)",
            "x": 0.05,
            "xref": "paper",
            "y": 0.95,
            "yref": "paper"
           }
          ]
         },
         "name": "55"
        },
        {
         "data": [
          {
           "name": "Free Nodes",
           "type": "scatter3d",
           "x": {
            "bdata": "wp4oguaKVz1vBgAAAADwP9cLAAAAAOA/vwwAAAAA4D8=",
            "dtype": "f8"
           },
           "y": {
            "bdata": "mvj/////3z+S///////fP1XdFbzogzG9Tf7/////7z8=",
            "dtype": "f8"
           },
           "z": {
            "bdata": "qX/I4D9rdr+wf8jgP2t2v0B0yjAhA1m/EXTKMCEDWb8=",
            "dtype": "f8"
           }
          },
          {
           "name": "Fixed Nodes",
           "type": "scatter3d",
           "x": [],
           "y": [],
           "z": []
          },
          {
           "name": "Edges",
           "type": "scatter3d",
           "x": [
            3.3456018086817794e-13,
            1.0000000000003657,
            null,
            0.5000000000003365,
            0.5000000000003623,
            null
           ],
           "y": [
            0.49999999999989486,
            0.4999999999999939,
            null,
            -6.222673931626752e-14,
            0.9999999999999517,
            null
           ],
           "z": [
            -0.005473374866170313,
            -0.005473374866170319,
            null,
            -0.0015266250731322956,
            -0.0015266250731322854,
            null
           ]
          },
          {
           "i": [],
           "j": [],
           "k": [],
           "name": "Faces",
           "type": "mesh3d",
           "x": {
            "bdata": "wp4oguaKVz1vBgAAAADwP9cLAAAAAOA/vwwAAAAA4D8=",
            "dtype": "f8"
           },
           "y": {
            "bdata": "mvj/////3z+S///////fP1XdFbzogzG9Tf7/////7z8=",
            "dtype": "f8"
           },
           "z": {
            "bdata": "qX/I4D9rdr+wf8jgP2t2v0B0yjAhA1m/EXTKMCEDWb8=",
            "dtype": "f8"
           }
          }
         ],
         "layout": {
          "annotations": [
           {
            "showarrow": false,
            "text": "Time: 0.56s (Step: 57/100)",
            "x": 0.05,
            "xref": "paper",
            "y": 0.95,
            "yref": "paper"
           }
          ]
         },
         "name": "56"
        },
        {
         "data": [
          {
           "name": "Free Nodes",
           "type": "scatter3d",
           "x": {
            "bdata": "bBsP/2tYVT1ABwAAAADwP1oMAAAAAOA/tgwAAAAA4D8=",
            "dtype": "f8"
           },
           "y": {
            "bdata": "kfj/////3z+a///////fP2Q+QGDlXDS9j/7/////7z8=",
            "dtype": "f8"
           },
           "z": {
            "bdata": "FnRjDSSaYL8mdGMNJJpgv1acR5uJd3i/SJxHm4l3eL8=",
            "dtype": "f8"
           }
          },
          {
           "name": "Fixed Nodes",
           "type": "scatter3d",
           "x": [],
           "y": [],
           "z": []
          },
          {
           "name": "Edges",
           "type": "scatter3d",
           "x": [
            3.0333634829747076e-13,
            1.0000000000004121,
            null,
            0.500000000000351,
            0.5000000000003613,
            null
           ],
           "y": [
            0.49999999999989436,
            0.49999999999999434,
            null,
            -7.23434645511358e-14,
            0.999999999999959,
            null
           ],
           "z": [
            -0.00202662507500274,
            -0.002026625075002747,
            null,
            -0.00597337486804069,
            -0.005973374868040678,
            null
           ]
          },
          {
           "i": [],
           "j": [],
           "k": [],
           "name": "Faces",
           "type": "mesh3d",
           "x": {
            "bdata": "bBsP/2tYVT1ABwAAAADwP1oMAAAAAOA/tgwAAAAA4D8=",
            "dtype": "f8"
           },
           "y": {
            "bdata": "kfj/////3z+a///////fP2Q+QGDlXDS9j/7/////7z8=",
            "dtype": "f8"
           },
           "z": {
            "bdata": "FnRjDSSaYL8mdGMNJJpgv1acR5uJd3i/SJxHm4l3eL8=",
            "dtype": "f8"
           }
          }
         ],
         "layout": {
          "annotations": [
           {
            "showarrow": false,
            "text": "Time: 0.57s (Step: 58/100)",
            "x": 0.05,
            "xref": "paper",
            "y": 0.95,
            "yref": "paper"
           }
          ]
         },
         "name": "57"
        },
        {
         "data": [
          {
           "name": "Free Nodes",
           "type": "scatter3d",
           "x": {
            "bdata": "Js3bPfgPUz3hBwAAAADwP8cMAAAAAOA/ZQwAAAAA4D8=",
            "dtype": "f8"
           },
           "y": {
            "bdata": "dfn/////3z94///////fP9+wQP8EPzS92P7/////7z8=",
            "dtype": "f8"
           },
           "z": {
            "bdata": "sjHwVdODer+5MfBV04N6v7+ftIK3smS/n5+0greyZL8=",
            "dtype": "f8"
           }
          },
          {
           "name": "Fixed Nodes",
           "type": "scatter3d",
           "x": [],
           "y": [],
           "z": []
          },
          {
           "name": "Edges",
           "type": "scatter3d",
           "x": [
            2.708927356813337e-13,
            1.0000000000004479,
            null,
            0.5000000000003632,
            0.5000000000003523,
            null
           ],
           "y": [
            0.499999999999907,
            0.49999999999999245,
            null,
            -7.192884510019827e-14,
            0.9999999999999671,
            null
           ],
           "z": [
            -0.006473374872268444,
            -0.00647337487226845,
            null,
            -0.0025266250792305984,
            -0.0025266250792305846,
            null
           ]
          },
          {
           "i": [],
           "j": [],
           "k": [],
           "name": "Faces",
           "type": "mesh3d",
           "x": {
            "bdata": "Js3bPfgPUz3hBwAAAADwP8cMAAAAAOA/ZQwAAAAA4D8=",
            "dtype": "f8"
           },
           "y": {
            "bdata": "dfn/////3z94///////fP9+wQP8EPzS92P7/////7z8=",
            "dtype": "f8"
           },
           "z": {
            "bdata": "sjHwVdODer+5MfBV04N6v7+ftIK3smS/n5+0greyZL8=",
            "dtype": "f8"
           }
          }
         ],
         "layout": {
          "annotations": [
           {
            "showarrow": false,
            "text": "Time: 0.58s (Step: 59/100)",
            "x": 0.05,
            "xref": "paper",
            "y": 0.95,
            "yref": "paper"
           }
          ]
         },
         "name": "58"
        },
        {
         "data": [
          {
           "name": "Free Nodes",
           "type": "scatter3d",
           "x": {
            "bdata": "t9eJgT1wVj01BwAAAADwP7cNAAAAAOA/0gsAAAAA4D8=",
            "dtype": "f8"
           },
           "y": {
            "bdata": "Ofv/////3z/M/v/////fP+1pseBFrzC9/v7/////7z8=",
            "dtype": "f8"
           },
           "z": {
            "bdata": "Wu3s90rLaL9w7ez3SstovzhYjBAdkHy/JliMEB2QfL8=",
            "dtype": "f8"
           }
          },
          {
           "name": "Fixed Nodes",
           "type": "scatter3d",
           "x": [],
           "y": [],
           "z": []
          },
          {
           "name": "Edges",
           "type": "scatter3d",
           "x": [
            3.188693896621825e-13,
            1.0000000000004097,
            null,
            0.5000000000003898,
            0.500000000000336,
            null
           ],
           "y": [
            0.4999999999999321,
            0.4999999999999829,
            null,
            -5.92758198052689e-14,
            0.9999999999999714,
            null
           ],
           "z": [
            -0.003026625082751683,
            -0.0030266250827516925,
            null,
            -0.006973374875789466,
            -0.006973374875789451,
            null
           ]
          },
          {
           "i": [],
           "j": [],
           "k": [],
           "name": "Faces",
           "type": "mesh3d",
           "x": {
            "bdata": "t9eJgT1wVj01BwAAAADwP7cNAAAAAOA/0gsAAAAA4D8=",
            "dtype": "f8"
           },
           "y": {
            "bdata": "Ofv/////3z/M/v/////fP+1pseBFrzC9/v7/////7z8=",
            "dtype": "f8"
           },
           "z": {
            "bdata": "Wu3s90rLaL9w7ez3SstovzhYjBAdkHy/JliMEB2QfL8=",
            "dtype": "f8"
           }
          }
         ],
         "layout": {
          "annotations": [
           {
            "showarrow": false,
            "text": "Time: 0.59s (Step: 60/100)",
            "x": 0.05,
            "xref": "paper",
            "y": 0.95,
            "yref": "paper"
           }
          ]
         },
         "name": "59"
        },
        {
         "data": [
          {
           "name": "Free Nodes",
           "type": "scatter3d",
           "x": {
            "bdata": "2Yk+7yewWD3mBgAAAADwP9oOAAAAAOA/NAsAAAAA4D8=",
            "dtype": "f8"
           },
           "y": {
            "bdata": "zvz/////3z+b/v/////fP44FUbyRASi9F///////7z8=",
            "dtype": "f8"
           },
           "z": {
            "bdata": "AD0dy2acfr8JPR3LZpx+v122Dm3e42y/ObYObd7jbL8=",
            "dtype": "f8"
           }
          },
          {
           "name": "Fixed Nodes",
           "type": "scatter3d",
           "x": [],
           "y": [],
           "z": []
          },
          {
           "name": "Edges",
           "type": "scatter3d",
           "x": [
            3.508391352062917e-13,
            1.0000000000003921,
            null,
            0.5000000000004221,
            0.5000000000003184,
            null
           ],
           "y": [
            0.4999999999999546,
            0.4999999999999802,
            null,
            -4.264345321116923e-14,
            0.9999999999999741,
            null
           ],
           "z": [
            -0.007473374878670613,
            -0.007473374878670621,
            null,
            -0.003526625085632769,
            -0.0035266250856327533,
            null
           ]
          },
          {
           "i": [],
           "j": [],
           "k": [],
           "name": "Faces",
           "type": "mesh3d",
           "x": {
            "bdata": "2Yk+7yewWD3mBgAAAADwP9oOAAAAAOA/NAsAAAAA4D8=",
            "dtype": "f8"
           },
           "y": {
            "bdata": "zvz/////3z+b/v/////fP44FUbyRASi9F///////7z8=",
            "dtype": "f8"
           },
           "z": {
            "bdata": "AD0dy2acfr8JPR3LZpx+v122Dm3e42y/ObYObd7jbL8=",
            "dtype": "f8"
           }
          }
         ],
         "layout": {
          "annotations": [
           {
            "showarrow": false,
            "text": "Time: 0.60s (Step: 61/100)",
            "x": 0.05,
            "xref": "paper",
            "y": 0.95,
            "yref": "paper"
           }
          ]
         },
         "name": "60"
        },
        {
         "data": [
          {
           "name": "Free Nodes",
           "type": "scatter3d",
           "x": {
            "bdata": "BhOkN24DWz3SBgAAAADwPxIRAAAAAOA/9AkAAAAA4D8=",
            "dtype": "f8"
           },
           "y": {
            "bdata": "Kv7/////3z9l/v/////fP4zQHuvF8AK9cP7/////7z8=",
            "dtype": "f8"
           },
           "z": {
            "bdata": "DRRW8Th+cL8TFFbxOH5wv/v69UJYVIC/8/r1QlhUgL8=",
            "dtype": "f8"
           }
          },
          {
           "name": "Fixed Nodes",
           "type": "scatter3d",
           "x": [],
           "y": [],
           "z": []
          },
          {
           "name": "Edges",
           "type": "scatter3d",
           "x": [
            3.83883510341631e-13,
            1.0000000000003877,
            null,
            0.5000000000004852,
            0.5000000000002829,
            null
           ],
           "y": [
            0.4999999999999739,
            0.4999999999999772,
            null,
            -8.411280559044799e-15,
            0.9999999999999556,
            null
           ],
           "z": [
            -0.004026625092028458,
            -0.004026625092028463,
            null,
            -0.007973374885066322,
            -0.007973374885066309,
            null
           ]
          },
          {
           "i": [],
           "j": [],
           "k": [],
           "name": "Faces",
           "type": "mesh3d",
           "x": {
            "bdata": "BhOkN24DWz3SBgAAAADwPxIRAAAAAOA/9AkAAAAA4D8=",
            "dtype": "f8"
           },
           "y": {
            "bdata": "Kv7/////3z9l/v/////fP4zQHuvF8AK9cP7/////7z8=",
            "dtype": "f8"
           },
           "z": {
            "bdata": "DRRW8Th+cL8TFFbxOH5wv/v69UJYVIC/8/r1QlhUgL8=",
            "dtype": "f8"
           }
          }
         ],
         "layout": {
          "annotations": [
           {
            "showarrow": false,
            "text": "Time: 0.61s (Step: 62/100)",
            "x": 0.05,
            "xref": "paper",
            "y": 0.95,
            "yref": "paper"
           }
          ]
         },
         "name": "61"
        },
        {
         "data": [
          {
           "name": "Free Nodes",
           "type": "scatter3d",
           "x": {
            "bdata": "3BzKtkZkXD2NBgAAAADwP/sSAAAAAOA/VggAAAAA4D8=",
            "dtype": "f8"
           },
           "y": {
            "bdata": "GQAAAAAA4D/C/f/////fP+BiACZnYb88rP7/////7z8=",
            "dtype": "f8"
           },
           "z": {
            "bdata": "MPBBIH1agb818EEgfVqBv8r97auCinK/uv3tq4KKcr8=",
            "dtype": "f8"
           }
          },
          {
           "name": "Fixed Nodes",
           "type": "scatter3d",
           "x": [],
           "y": [],
           "z": []
          },
          {
           "name": "Edges",
           "type": "scatter3d",
           "x": [
            4.03470380807928e-13,
            1.0000000000003724,
            null,
            0.5000000000005395,
            0.5000000000002369,
            null
           ],
           "y": [
            0.5000000000000028,
            0.49999999999996814,
            null,
            4.354916451113059e-16,
            0.9999999999999623,
            null
           ],
           "z": [
            -0.008473374888346624,
            -0.008473374888346633,
            null,
            -0.004526625095308609,
            -0.0045266250953085955,
            null
           ]
          },
          {
           "i": [],
           "j": [],
           "k": [],
           "name": "Faces",
           "type": "mesh3d",
           "x": {
            "bdata": "3BzKtkZkXD2NBgAAAADwP/sSAAAAAOA/VggAAAAA4D8=",
            "dtype": "f8"
           },
           "y": {
            "bdata": "GQAAAAAA4D/C/f/////fP+BiACZnYb88rP7/////7z8=",
            "dtype": "f8"
           },
           "z": {
            "bdata": "MPBBIH1agb818EEgfVqBv8r97auCinK/uv3tq4KKcr8=",
            "dtype": "f8"
           }
          }
         ],
         "layout": {
          "annotations": [
           {
            "showarrow": false,
            "text": "Time: 0.62s (Step: 63/100)",
            "x": 0.05,
            "xref": "paper",
            "y": 0.95,
            "yref": "paper"
           }
          ]
         },
         "name": "62"
        },
        {
         "data": [
          {
           "name": "Free Nodes",
           "type": "scatter3d",
           "x": {
            "bdata": "6Xwm2gwJXT2HBgAAAADwP5wVAAAAAOA/CAYAAAAA4D8=",
            "dtype": "f8"
           },
           "y": {
            "bdata": "pgAAAAAA4D9E/f/////fP6QuVBe3ySC9DAAAAAAA8D8=",
            "dtype": "f8"
           },
           "z": {
            "bdata": "owT0ZsyWdL+xBPRmzJZ0v3nzxP2hYIK/cvPE/aFggr8=",
            "dtype": "f8"
           }
          },
          {
           "name": "Fixed Nodes",
           "type": "scatter3d",
           "x": [],
           "y": [],
           "z": []
          },
          {
           "name": "Edges",
           "type": "scatter3d",
           "x": [
            4.1261717396768177e-13,
            1.000000000000371,
            null,
            0.5000000000006142,
            0.5000000000001714,
            null
           ],
           "y": [
            0.5000000000000184,
            0.49999999999996114,
            null,
            -2.982138980006514e-14,
            1.0000000000000027,
            null
           ],
           "z": [
            -0.005026625104848001,
            -0.005026625104848013,
            null,
            -0.008973374897885954,
            -0.008973374897885942,
            null
           ]
          },
          {
           "i": [],
           "j": [],
           "k": [],
           "name": "Faces",
           "type": "mesh3d",
           "x": {
            "bdata": "6Xwm2gwJXT2HBgAAAADwP5wVAAAAAOA/CAYAAAAA4D8=",
            "dtype": "f8"
           },
           "y": {
            "bdata": "pgAAAAAA4D9E/f/////fP6QuVBe3ySC9DAAAAAAA8D8=",
            "dtype": "f8"
           },
           "z": {
            "bdata": "owT0ZsyWdL+xBPRmzJZ0v3nzxP2hYIK/cvPE/aFggr8=",
            "dtype": "f8"
           }
          }
         ],
         "layout": {
          "annotations": [
           {
            "showarrow": false,
            "text": "Time: 0.63s (Step: 64/100)",
            "x": 0.05,
            "xref": "paper",
            "y": 0.95,
            "yref": "paper"
           }
          ]
         },
         "name": "63"
        },
        {
         "data": [
          {
           "name": "Free Nodes",
           "type": "scatter3d",
           "x": {
            "bdata": "LLv6KpYHXT2fBgAAAADwP4AXAAAAAOA/TAQAAAAA4D8=",
            "dtype": "f8"
           },
           "y": {
            "bdata": "NwEAAAAA4D8n/f/////fP5KYFD1+zx29RwAAAAAA8D8=",
            "dtype": "f8"
           },
           "z": {
            "bdata": "kU9K28Zmg7+RT0rbxmaDv0m9/iEWo3a/Pb3+IRajdr8=",
            "dtype": "f8"
           }
          },
          {
           "name": "Fixed Nodes",
           "type": "scatter3d",
           "x": [],
           "y": [],
           "z": []
          },
          {
           "name": "Edges",
           "type": "scatter3d",
           "x": [
            4.12535927269635e-13,
            1.0000000000003764,
            null,
            0.5000000000006679,
            0.5000000000001221,
            null
           ],
           "y": [
            0.5000000000000345,
            0.49999999999995953,
            null,
            -2.6477060542351954e-14,
            1.0000000000000158,
            null
           ],
           "z": [
            -0.009473374907692097,
            -0.009473374907692097,
            null,
            -0.005526625114654246,
            -0.005526625114654235,
            null
           ]
          },
          {
           "i": [],
           "j": [],
           "k": [],
           "name": "Faces",
           "type": "mesh3d",
           "x": {
            "bdata": "LLv6KpYHXT2fBgAAAADwP4AXAAAAAOA/TAQAAAAA4D8=",
            "dtype": "f8"
           },
           "y": {
            "bdata": "NwEAAAAA4D8n/f/////fP5KYFD1+zx29RwAAAAAA8D8=",
            "dtype": "f8"
           },
           "z": {
            "bdata": "kU9K28Zmg7+RT0rbxmaDv0m9/iEWo3a/Pb3+IRajdr8=",
            "dtype": "f8"
           }
          }
         ],
         "layout": {
          "annotations": [
           {
            "showarrow": false,
            "text": "Time: 0.64s (Step: 65/100)",
            "x": 0.05,
            "xref": "paper",
            "y": 0.95,
            "yref": "paper"
           }
          ]
         },
         "name": "64"
        },
        {
         "data": [
          {
           "name": "Free Nodes",
           "type": "scatter3d",
           "x": {
            "bdata": "TXxS/Pq5XT1xBgAAAADwP1AZAAAAAOA/iQIAAAAA4D8=",
            "dtype": "f8"
           },
           "y": {
            "bdata": "3wEAAAAA4D9P/f/////fP6go+PxNaAg97v//////7z8=",
            "dtype": "f8"
           },
           "z": {
            "bdata": "2VxA3V+veL/cXEDdX694v8Ef67jrbIS/vB/ruOtshL8=",
            "dtype": "f8"
           }
          },
          {
           "name": "Fixed Nodes",
           "type": "scatter3d",
           "x": [],
           "y": [],
           "z": []
          },
          {
           "name": "Edges",
           "type": "scatter3d",
           "x": [
            4.224387735524896e-13,
            1.0000000000003662,
            null,
            0.5000000000007194,
            0.500000000000072,
            null
           ],
           "y": [
            0.5000000000000532,
            0.49999999999996175,
            null,
            1.0839080746242079e-14,
            0.999999999999998,
            null
           ],
           "z": [
            -0.006026625127581308,
            -0.006026625127581311,
            null,
            -0.00997337492061934,
            -0.009973374920619331,
            null
           ]
          },
          {
           "i": [],
           "j": [],
           "k": [],
           "name": "Faces",
           "type": "mesh3d",
           "x": {
            "bdata": "TXxS/Pq5XT1xBgAAAADwP1AZAAAAAOA/iQIAAAAA4D8=",
            "dtype": "f8"
           },
           "y": {
            "bdata": "3wEAAAAA4D9P/f/////fP6go+PxNaAg97v//////7z8=",
            "dtype": "f8"
           },
           "z": {
            "bdata": "2VxA3V+veL/cXEDdX694v8Ef67jrbIS/vB/ruOtshL8=",
            "dtype": "f8"
           }
          }
         ],
         "layout": {
          "annotations": [
           {
            "showarrow": false,
            "text": "Time: 0.65s (Step: 66/100)",
            "x": 0.05,
            "xref": "paper",
            "y": 0.95,
            "yref": "paper"
           }
          ]
         },
         "name": "65"
        },
        {
         "data": [
          {
           "name": "Free Nodes",
           "type": "scatter3d",
           "x": {
            "bdata": "SAlfPXuBXD20BgAAAADwP2sbAAAAAOA/UAAAAAAA4D8=",
            "dtype": "f8"
           },
           "y": {
            "bdata": "7AEAAAAA4D+F/v/////fPypPk8lUsRQ9NwAAAAAA8D8=",
            "dtype": "f8"
           },
           "z": {
            "bdata": "EOJ3lhBzhb8N4neWEHOFv+LhWZipu3q/2OFZmKm7er8=",
            "dtype": "f8"
           }
          },
          {
           "name": "Fixed Nodes",
           "type": "scatter3d",
           "x": [],
           "y": [],
           "z": []
          },
          {
           "name": "Edges",
           "type": "scatter3d",
           "x": [
            4.050915938913899e-13,
            1.000000000000381,
            null,
            0.5000000000007793,
            0.5000000000000089,
            null
           ],
           "y": [
            0.5000000000000546,
            0.49999999999997896,
            null,
            1.837880958809364e-14,
            1.0000000000000122,
            null
           ],
           "z": [
            -0.010473374931266682,
            -0.010473374931266677,
            null,
            -0.006526625138228744,
            -0.006526625138228735,
            null
           ]
          },
          {
           "i": [],
           "j": [],
           "k": [],
           "name": "Faces",
           "type": "mesh3d",
           "x": {
            "bdata": "SAlfPXuBXD20BgAAAADwP2sbAAAAAOA/UAAAAAAA4D8=",
            "dtype": "f8"
           },
           "y": {
            "bdata": "7AEAAAAA4D+F/v/////fPypPk8lUsRQ9NwAAAAAA8D8=",
            "dtype": "f8"
           },
           "z": {
            "bdata": "EOJ3lhBzhb8N4neWEHOFv+LhWZipu3q/2OFZmKm7er8=",
            "dtype": "f8"
           }
          }
         ],
         "layout": {
          "annotations": [
           {
            "showarrow": false,
            "text": "Time: 0.66s (Step: 67/100)",
            "x": 0.05,
            "xref": "paper",
            "y": 0.95,
            "yref": "paper"
           }
          ]
         },
         "name": "66"
        },
        {
         "data": [
          {
           "name": "Free Nodes",
           "type": "scatter3d",
           "x": {
            "bdata": "I6uiDDh/Wz3sBgAAAADwP+8dAAAAAOA/d/v/////3z8=",
            "dtype": "f8"
           },
           "y": {
            "bdata": "LAIAAAAA4D+o///////fPy9zFLthexo9hwAAAAAA8D8=",
            "dtype": "f8"
           },
           "z": {
            "bdata": "3HiOU/PHfL/SeI5T88d8vystEnQ1eYa/KC0SdDV5hr8=",
            "dtype": "f8"
           }
          },
          {
           "name": "Fixed Nodes",
           "type": "scatter3d",
           "x": [],
           "y": [],
           "z": []
          },
          {
           "name": "Edges",
           "type": "scatter3d",
           "x": [
            3.90755147283776e-13,
            1.0000000000003935,
            null,
            0.5000000000008508,
            0.49999999999993555,
            null
           ],
           "y": [
            0.5000000000000617,
            0.4999999999999951,
            null,
            2.3520705386354208e-14,
            1.00000000000003,
            null
           ],
           "z": [
            -0.007026625150414936,
            -0.007026625150414927,
            null,
            -0.010973374943452704,
            -0.010973374943452699,
            null
           ]
          },
          {
           "i": [],
           "j": [],
           "k": [],
           "name": "Faces",
           "type": "mesh3d",
           "x": {
            "bdata": "I6uiDDh/Wz3sBgAAAADwP+8dAAAAAOA/d/v/////3z8=",
            "dtype": "f8"
           },
           "y": {
            "bdata": "LAIAAAAA4D+o///////fPy9zFLthexo9hwAAAAAA8D8=",
            "dtype": "f8"
           },
           "z": {
            "bdata": "3HiOU/PHfL/SeI5T88d8vystEnQ1eYa/KC0SdDV5hr8=",
            "dtype": "f8"
           }
          }
         ],
         "layout": {
          "annotations": [
           {
            "showarrow": false,
            "text": "Time: 0.67s (Step: 68/100)",
            "x": 0.05,
            "xref": "paper",
            "y": 0.95,
            "yref": "paper"
           }
          ]
         },
         "name": "67"
        },
        {
         "data": [
          {
           "name": "Free Nodes",
           "type": "scatter3d",
           "x": {
            "bdata": "Sg3ovSqpWj0BBwAAAADwP/UfAAAAAOA/6/b/////3z8=",
            "dtype": "f8"
           },
           "y": {
            "bdata": "MgIAAAAA4D+kAAAAAADgP4iRxU1/XiI90AAAAAAA8D8=",
            "dtype": "f8"
           },
           "z": {
            "bdata": "dkapUVp/h790RqlRWn+Hv6yqvA491H6/pqq8Dj3Ufr8=",
            "dtype": "f8"
           }
          },
          {
           "name": "Fixed Nodes",
           "type": "scatter3d",
           "x": [],
           "y": [],
           "z": []
          },
          {
           "name": "Edges",
           "type": "scatter3d",
           "x": [
            3.7887287530860594e-13,
            1.0000000000003981,
            null,
            0.5000000000009083,
            0.49999999999987094,
            null
           ],
           "y": [
            0.5000000000000624,
            0.5000000000000182,
            null,
            3.2630129712473955e-14,
            1.0000000000000462,
            null
           ],
           "z": [
            -0.011473374955275544,
            -0.01147337495527554,
            null,
            -0.007526625162237604,
            -0.007526625162237599,
            null
           ]
          },
          {
           "i": [],
           "j": [],
           "k": [],
           "name": "Faces",
           "type": "mesh3d",
           "x": {
            "bdata": "Sg3ovSqpWj0BBwAAAADwP/UfAAAAAOA/6/b/////3z8=",
            "dtype": "f8"
           },
           "y": {
            "bdata": "MgIAAAAA4D+kAAAAAADgP4iRxU1/XiI90AAAAAAA8D8=",
            "dtype": "f8"
           },
           "z": {
            "bdata": "dkapUVp/h790RqlRWn+Hv6yqvA491H6/pqq8Dj3Ufr8=",
            "dtype": "f8"
           }
          }
         ],
         "layout": {
          "annotations": [
           {
            "showarrow": false,
            "text": "Time: 0.68s (Step: 69/100)",
            "x": 0.05,
            "xref": "paper",
            "y": 0.95,
            "yref": "paper"
           }
          ]
         },
         "name": "68"
        },
        {
         "data": [
          {
           "name": "Free Nodes",
           "type": "scatter3d",
           "x": {
            "bdata": "FzTESl7FWT0QBwAAAADwP90hAAAAAOA/fPL/////3z8=",
            "dtype": "f8"
           },
           "y": {
            "bdata": "KAIAAAAA4D/jAQAAAADgP8S1LwXdRi09EQEAAAAA8D8=",
            "dtype": "f8"
           },
           "z": {
            "bdata": "KvUVZUNwgL8o9RVlQ3CAv0rmYC9/hYi/SeZgL3+FiL8=",
            "dtype": "f8"
           }
          },
          {
           "name": "Fixed Nodes",
           "type": "scatter3d",
           "x": [],
           "y": [],
           "z": []
          },
          {
           "name": "Edges",
           "type": "scatter3d",
           "x": [
            3.6622751100307155e-13,
            1.0000000000004015,
            null,
            0.5000000000009625,
            0.49999999999980793,
            null
           ],
           "y": [
            0.5000000000000613,
            0.5000000000000536,
            null,
            5.2006061682011747e-14,
            1.0000000000000606,
            null
           ],
           "z": [
            -0.008026625177758168,
            -0.008026625177758165,
            null,
            -0.011973374970796109,
            -0.011973374970796107,
            null
           ]
          },
          {
           "i": [],
           "j": [],
           "k": [],
           "name": "Faces",
           "type": "mesh3d",
           "x": {
            "bdata": "FzTESl7FWT0QBwAAAADwP90hAAAAAOA/fPL/////3z8=",
            "dtype": "f8"
           },
           "y": {
            "bdata": "KAIAAAAA4D/jAQAAAADgP8S1LwXdRi09EQEAAAAA8D8=",
            "dtype": "f8"
           },
           "z": {
            "bdata": "KvUVZUNwgL8o9RVlQ3CAv0rmYC9/hYi/SeZgL3+FiL8=",
            "dtype": "f8"
           }
          }
         ],
         "layout": {
          "annotations": [
           {
            "showarrow": false,
            "text": "Time: 0.69s (Step: 70/100)",
            "x": 0.05,
            "xref": "paper",
            "y": 0.95,
            "yref": "paper"
           }
          ]
         },
         "name": "69"
        },
        {
         "data": [
          {
           "name": "Free Nodes",
           "type": "scatter3d",
           "x": {
            "bdata": "PhPg52uoWz2hBgAAAADwP/MjAAAAAOA/f+7/////3z8=",
            "dtype": "f8"
           },
           "y": {
            "bdata": "CgIAAAAA4D9VAwAAAADgPy1X6ES7Pjk9DAEAAAAA8D8=",
            "dtype": "f8"
           },
           "z": {
            "bdata": "IfEnDaSLib8f8ScNpIuJv53/3EJodoG/n//cQmh2gb8=",
            "dtype": "f8"
           }
          },
          {
           "name": "Fixed Nodes",
           "type": "scatter3d",
           "x": [],
           "y": [],
           "z": []
          },
          {
           "name": "Edges",
           "type": "scatter3d",
           "x": [
            3.9304234904980995e-13,
            1.0000000000003768,
            null,
            0.5000000000010217,
            0.49999999999975125,
            null
           ],
           "y": [
            0.500000000000058,
            0.5000000000000947,
            null,
            8.968841669615744e-14,
            1.0000000000000595,
            null
           ],
           "z": [
            -0.012473374988069498,
            -0.012473374988069495,
            null,
            -0.008526625195031385,
            -0.008526625195031388,
            null
           ]
          },
          {
           "i": [],
           "j": [],
           "k": [],
           "name": "Faces",
           "type": "mesh3d",
           "x": {
            "bdata": "PhPg52uoWz2hBgAAAADwP/MjAAAAAOA/f+7/////3z8=",
            "dtype": "f8"
           },
           "y": {
            "bdata": "CgIAAAAA4D9VAwAAAADgPy1X6ES7Pjk9DAEAAAAA8D8=",
            "dtype": "f8"
           },
           "z": {
            "bdata": "IfEnDaSLib8f8ScNpIuJv53/3EJodoG/n//cQmh2gb8=",
            "dtype": "f8"
           }
          }
         ],
         "layout": {
          "annotations": [
           {
            "showarrow": false,
            "text": "Time: 0.70s (Step: 71/100)",
            "x": 0.05,
            "xref": "paper",
            "y": 0.95,
            "yref": "paper"
           }
          ]
         },
         "name": "70"
        },
        {
         "data": [
          {
           "name": "Free Nodes",
           "type": "scatter3d",
           "x": {
            "bdata": "nE0ozcS8Xj0/BgAAAADwP0EmAAAAAOA/g+v/////3z8=",
            "dtype": "f8"
           },
           "y": {
            "bdata": "9AEAAAAA4D8vBAAAAADgP/0DZxniBkA9+QAAAAAA8D8=",
            "dtype": "f8"
           },
           "z": {
            "bdata": "LOKNII18gr8o4o0gjXyCv+jS2OrIkYq/6tLY6siRir8=",
            "dtype": "f8"
           }
          },
          {
           "name": "Fixed Nodes",
           "type": "scatter3d",
           "x": [],
           "y": [],
           "z": []
          },
          {
           "name": "Edges",
           "type": "scatter3d",
           "x": [
            4.368044123878042e-13,
            1.000000000000355,
            null,
            0.5000000000010872,
            0.49999999999970884,
            null
           ],
           "y": [
            0.5000000000000555,
            0.5000000000001189,
            null,
            1.138778849027448e-13,
            1.0000000000000553,
            null
           ],
           "z": [
            -0.009026625209785775,
            -0.009026625209785769,
            null,
            -0.012973375002823542,
            -0.012973375002823546,
            null
           ]
          },
          {
           "i": [],
           "j": [],
           "k": [],
           "name": "Faces",
           "type": "mesh3d",
           "x": {
            "bdata": "nE0ozcS8Xj0/BgAAAADwP0EmAAAAAOA/g+v/////3z8=",
            "dtype": "f8"
           },
           "y": {
            "bdata": "9AEAAAAA4D8vBAAAAADgP/0DZxniBkA9+QAAAAAA8D8=",
            "dtype": "f8"
           },
           "z": {
            "bdata": "LOKNII18gr8o4o0gjXyCv+jS2OrIkYq/6tLY6siRir8=",
            "dtype": "f8"
           }
          }
         ],
         "layout": {
          "annotations": [
           {
            "showarrow": false,
            "text": "Time: 0.71s (Step: 72/100)",
            "x": 0.05,
            "xref": "paper",
            "y": 0.95,
            "yref": "paper"
           }
          ]
         },
         "name": "71"
        },
        {
         "data": [
          {
           "name": "Free Nodes",
           "type": "scatter3d",
           "x": {
            "bdata": "sCBjZ2YlYD2NBgAAAADwP1MoAAAAAOA/Her/////3z8=",
            "dtype": "f8"
           },
           "y": {
            "bdata": "kgEAAAAA4D9IBQAAAADgP6cQKYOjKEA9UgEAAAAA8D8=",
            "dtype": "f8"
           },
           "z": {
            "bdata": "wLmuyO2Xi7+7ua7I7ZeLv5zIY/6xgoO/nshj/rGCg78=",
            "dtype": "f8"
           }
          },
          {
           "name": "Fixed Nodes",
           "type": "scatter3d",
           "x": [],
           "y": [],
           "z": []
          },
          {
           "name": "Edges",
           "type": "scatter3d",
           "x": [
            4.588995866709737e-13,
            1.0000000000003724,
            null,
            0.5000000000011461,
            0.49999999999968897,
            null
           ],
           "y": [
            0.5000000000000446,
            0.5000000000001501,
            null,
            1.1481478879024717e-13,
            1.000000000000075,
            null
           ],
           "z": [
            -0.013473375021786249,
            -0.01347337502178624,
            null,
            -0.009526625228748302,
            -0.009526625228748305,
            null
           ]
          },
          {
           "i": [],
           "j": [],
           "k": [],
           "name": "Faces",
           "type": "mesh3d",
           "x": {
            "bdata": "sCBjZ2YlYD2NBgAAAADwP1MoAAAAAOA/Her/////3z8=",
            "dtype": "f8"
           },
           "y": {
            "bdata": "kgEAAAAA4D9IBQAAAADgP6cQKYOjKEA9UgEAAAAA8D8=",
            "dtype": "f8"
           },
           "z": {
            "bdata": "wLmuyO2Xi7+7ua7I7ZeLv5zIY/6xgoO/nshj/rGCg78=",
            "dtype": "f8"
           }
          }
         ],
         "layout": {
          "annotations": [
           {
            "showarrow": false,
            "text": "Time: 0.72s (Step: 73/100)",
            "x": 0.05,
            "xref": "paper",
            "y": 0.95,
            "yref": "paper"
           }
          ]
         },
         "name": "72"
        },
        {
         "data": [
          {
           "name": "Free Nodes",
           "type": "scatter3d",
           "x": {
            "bdata": "6Nr7aMEyYD3JBgAAAADwP2UqAAAAAOA/POf/////3z8=",
            "dtype": "f8"
           },
           "y": {
            "bdata": "+wAAAAAA4D8ZBwAAAADgP6WXMFG9t0E9tQEAAAAA8D8=",
            "dtype": "f8"
           },
           "z": {
            "bdata": "NxpD3NaIhL8tGkPc1oiEv7MLjqYSnoy/tQuOphKejL8=",
            "dtype": "f8"
           }
          },
          {
           "name": "Fixed Nodes",
           "type": "scatter3d",
           "x": [],
           "y": [],
           "z": []
          },
          {
           "name": "Edges",
           "type": "scatter3d",
           "x": [
            4.603823442667961e-13,
            1.0000000000003857,
            null,
            0.5000000000012049,
            0.49999999999964806,
            null
           ],
           "y": [
            0.5000000000000279,
            0.5000000000002017,
            null,
            1.2589206122316078e-13,
            1.000000000000097,
            null
           ],
           "z": [
            -0.010026625248781602,
            -0.010026625248781585,
            null,
            -0.013973375041819702,
            -0.013973375041819705,
            null
           ]
          },
          {
           "i": [],
           "j": [],
           "k": [],
           "name": "Faces",
           "type": "mesh3d",
           "x": {
            "bdata": "6Nr7aMEyYD3JBgAAAADwP2UqAAAAAOA/POf/////3z8=",
            "dtype": "f8"
           },
           "y": {
            "bdata": "+wAAAAAA4D8ZBwAAAADgP6WXMFG9t0E9tQEAAAAA8D8=",
            "dtype": "f8"
           },
           "z": {
            "bdata": "NxpD3NaIhL8tGkPc1oiEv7MLjqYSnoy/tQuOphKejL8=",
            "dtype": "f8"
           }
          }
         ],
         "layout": {
          "annotations": [
           {
            "showarrow": false,
            "text": "Time: 0.73s (Step: 74/100)",
            "x": 0.05,
            "xref": "paper",
            "y": 0.95,
            "yref": "paper"
           }
          ]
         },
         "name": "73"
        },
        {
         "data": [
          {
           "name": "Free Nodes",
           "type": "scatter3d",
           "x": {
            "bdata": "jh9JhLwRXz3ZBgAAAADwPxQsAAAAAOA/2+L/////3z8=",
            "dtype": "f8"
           },
           "y": {
            "bdata": "wQAAAAAA4D+wCAAAAADgP9OhXHwKKkE9egIAAAAA8D8=",
            "dtype": "f8"
           },
           "z": {
            "bdata": "icxvhDekjb+BzG+EN6SNv2TbJLr7joW/ZtskuvuOhb8=",
            "dtype": "f8"
           }
          },
          {
           "name": "Fixed Nodes",
           "type": "scatter3d",
           "x": [],
           "y": [],
           "z": []
          },
          {
           "name": "Edges",
           "type": "scatter3d",
           "x": [
            4.4152106379417256e-13,
            1.0000000000003892,
            null,
            0.5000000000012528,
            0.49999999999958583,
            null
           ],
           "y": [
            0.5000000000000214,
            0.5000000000002469,
            null,
            1.2195913612653566e-13,
            1.0000000000001408,
            null
           ],
           "z": [
            -0.014473375062129772,
            -0.014473375062129758,
            null,
            -0.010526625269091823,
            -0.010526625269091826,
            null
           ]
          },
          {
           "i": [],
           "j": [],
           "k": [],
           "name": "Faces",
           "type": "mesh3d",
           "x": {
            "bdata": "jh9JhLwRXz3ZBgAAAADwPxQsAAAAAOA/2+L/////3z8=",
            "dtype": "f8"
           },
           "y": {
            "bdata": "wQAAAAAA4D+wCAAAAADgP9OhXHwKKkE9egIAAAAA8D8=",
            "dtype": "f8"
           },
           "z": {
            "bdata": "icxvhDekjb+BzG+EN6SNv2TbJLr7joW/ZtskuvuOhb8=",
            "dtype": "f8"
           }
          }
         ],
         "layout": {
          "annotations": [
           {
            "showarrow": false,
            "text": "Time: 0.74s (Step: 75/100)",
            "x": 0.05,
            "xref": "paper",
            "y": 0.95,
            "yref": "paper"
           }
          ]
         },
         "name": "74"
        },
        {
         "data": [
          {
           "name": "Free Nodes",
           "type": "scatter3d",
           "x": {
            "bdata": "RT2t3Mw3XT3TBgAAAADwPzctAAAAAOA/t97/////3z8=",
            "dtype": "f8"
           },
           "y": {
            "bdata": "hQAAAAAA4D/KCgAAAADgP4W7UcdjskE9UQMAAAAA8D8=",
            "dtype": "f8"
           },
           "z": {
            "bdata": "X2bclyCVhr9YZtyXIJWGv3tXJ2Jcqo6/fVcnYlyqjr8=",
            "dtype": "f8"
           }
          },
          {
           "name": "Fixed Nodes",
           "type": "scatter3d",
           "x": [],
           "y": [],
           "z": []
          },
          {
           "name": "Edges",
           "type": "scatter3d",
           "x": [
            4.1521232242766397e-13,
            1.000000000000388,
            null,
            0.5000000000012851,
            0.499999999999527,
            null
           ],
           "y": [
            0.5000000000000148,
            0.5000000000003066,
            null,
            1.257435755552999e-13,
            1.0000000000001885,
            null
           ],
           "z": [
            -0.01102662528460313,
            -0.011026625284603117,
            null,
            -0.014973375077641063,
            -0.014973375077641066,
            null
           ]
          },
          {
           "i": [],
           "j": [],
           "k": [],
           "name": "Faces",
           "type": "mesh3d",
           "x": {
            "bdata": "RT2t3Mw3XT3TBgAAAADwPzctAAAAAOA/t97/////3z8=",
            "dtype": "f8"
           },
           "y": {
            "bdata": "hQAAAAAA4D/KCgAAAADgP4W7UcdjskE9UQMAAAAA8D8=",
            "dtype": "f8"
           },
           "z": {
            "bdata": "X2bclyCVhr9YZtyXIJWGv3tXJ2Jcqo6/fVcnYlyqjr8=",
            "dtype": "f8"
           }
          }
         ],
         "layout": {
          "annotations": [
           {
            "showarrow": false,
            "text": "Time: 0.75s (Step: 76/100)",
            "x": 0.05,
            "xref": "paper",
            "y": 0.95,
            "yref": "paper"
           }
          ]
         },
         "name": "75"
        },
        {
         "data": [
          {
           "name": "Free Nodes",
           "type": "scatter3d",
           "x": {
            "bdata": "PNtGKenKWz0pBwAAAADwP10uAAAAAOA/Rdz/////3z8=",
            "dtype": "f8"
           },
           "y": {
            "bdata": "FgAAAAAA4D87DQAAAADgPwV9gDUHFEM9HwQAAAAA8D8=",
            "dtype": "f8"
           },
           "z": {
            "bdata": "BwG+P4Gwj78CAb4/gbCPv7EPc3VFm4e/tA9zdUWbh78=",
            "dtype": "f8"
           }
          },
          {
           "name": "Fixed Nodes",
           "type": "scatter3d",
           "x": [],
           "y": [],
           "z": []
          },
          {
           "name": "Edges",
           "type": "scatter3d",
           "x": [
            3.9495688864320095e-13,
            1.000000000000407,
            null,
            0.5000000000013177,
            0.49999999999949224,
            null
           ],
           "y": [
            0.5000000000000024,
            0.500000000000376,
            null,
            1.355590129071916e-13,
            1.0000000000002343,
            null
           ],
           "z": [
            -0.015473375089414277,
            -0.015473375089414269,
            null,
            -0.011526625296376243,
            -0.011526625296376249,
            null
           ]
          },
          {
           "i": [],
           "j": [],
           "k": [],
           "name": "Faces",
           "type": "mesh3d",
           "x": {
            "bdata": "PNtGKenKWz0pBwAAAADwP10uAAAAAOA/Rdz/////3z8=",
            "dtype": "f8"
           },
           "y": {
            "bdata": "FgAAAAAA4D87DQAAAADgPwV9gDUHFEM9HwQAAAAA8D8=",
            "dtype": "f8"
           },
           "z": {
            "bdata": "BwG+P4Gwj78CAb4/gbCPv7EPc3VFm4e/tA9zdUWbh78=",
            "dtype": "f8"
           }
          }
         ],
         "layout": {
          "annotations": [
           {
            "showarrow": false,
            "text": "Time: 0.76s (Step: 77/100)",
            "x": 0.05,
            "xref": "paper",
            "y": 0.95,
            "yref": "paper"
           }
          ]
         },
         "name": "76"
        },
        {
         "data": [
          {
           "name": "Free Nodes",
           "type": "scatter3d",
           "x": {
            "bdata": "hLsiDriEWz2WBwAAAADwP0svAAAAAOA/29v/////3z8=",
            "dtype": "f8"
           },
           "y": {
            "bdata": "Xf//////3z8BDwAAAADgP6vnVVc+YUU9kQQAAAAA8D8=",
            "dtype": "f8"
           },
           "z": {
            "bdata": "+xwqU2qhiL/1HCpTaqGIvz2Hug5TW5C/Poe6DlNbkL8=",
            "dtype": "f8"
           }
          },
          {
           "name": "Fixed Nodes",
           "type": "scatter3d",
           "x": [],
           "y": [],
           "z": []
          },
          {
           "name": "Edges",
           "type": "scatter3d",
           "x": [
            3.91060459886309e-13,
            1.0000000000004312,
            null,
            0.5000000000013441,
            0.49999999999948636,
            null
           ],
           "y": [
            0.49999999999999095,
            0.5000000000004264,
            null,
            1.5191302438585748e-13,
            1.0000000000002596,
            null
           ],
           "z": [
            -0.012026625311831731,
            -0.012026625311831721,
            null,
            -0.015973375104869836,
            -0.01597337510486984,
            null
           ]
          },
          {
           "i": [],
           "j": [],
           "k": [],
           "name": "Faces",
           "type": "mesh3d",
           "x": {
            "bdata": "hLsiDriEWz2WBwAAAADwP0svAAAAAOA/29v/////3z8=",
            "dtype": "f8"
           },
           "y": {
            "bdata": "Xf//////3z8BDwAAAADgP6vnVVc+YUU9kQQAAAAA8D8=",
            "dtype": "f8"
           },
           "z": {
            "bdata": "+xwqU2qhiL/1HCpTaqGIvz2Hug5TW5C/Poe6DlNbkL8=",
            "dtype": "f8"
           }
          }
         ],
         "layout": {
          "annotations": [
           {
            "showarrow": false,
            "text": "Time: 0.77s (Step: 78/100)",
            "x": 0.05,
            "xref": "paper",
            "y": 0.95,
            "yref": "paper"
           }
          ]
         },
         "name": "77"
        },
        {
         "data": [
          {
           "name": "Free Nodes",
           "type": "scatter3d",
           "x": {
            "bdata": "8YqGZaPoWz0FBwAAAADwP0QvAAAAAOA/C9r/////3z8=",
            "dtype": "f8"
           },
           "y": {
            "bdata": "0/3/////3z/aEAAAAADgP4mMHGmpEko9fwQAAAAA8D8=",
            "dtype": "f8"
           },
           "z": {
            "bdata": "gS6PfWXekL9/Lo99Zd6Qv0Bs0zCPp4m/RGzTMI+nib8=",
            "dtype": "f8"
           }
          },
          {
           "name": "Fixed Nodes",
           "type": "scatter3d",
           "x": [],
           "y": [],
           "z": []
          },
          {
           "name": "Edges",
           "type": "scatter3d",
           "x": [
            3.966070953824212e-13,
            1.000000000000399,
            null,
            0.5000000000013434,
            0.4999999999994606,
            null
           ],
           "y": [
            0.4999999999999691,
            0.500000000000479,
            null,
            1.852590791918824e-13,
            1.0000000000002556,
            null
           ],
           "z": [
            -0.016473375118762682,
            -0.016473375118762675,
            null,
            -0.012526625325724905,
            -0.012526625325724912,
            null
           ]
          },
          {
           "i": [],
           "j": [],
           "k": [],
           "name": "Faces",
           "type": "mesh3d",
           "x": {
            "bdata": "8YqGZaPoWz0FBwAAAADwP0QvAAAAAOA/C9r/////3z8=",
            "dtype": "f8"
           },
           "y": {
            "bdata": "0/3/////3z/aEAAAAADgP4mMHGmpEko9fwQAAAAA8D8=",
            "dtype": "f8"
           },
           "z": {
            "bdata": "gS6PfWXekL9/Lo99Zd6Qv0Bs0zCPp4m/RGzTMI+nib8=",
            "dtype": "f8"
           }
          }
         ],
         "layout": {
          "annotations": [
           {
            "showarrow": false,
            "text": "Time: 0.78s (Step: 79/100)",
            "x": 0.05,
            "xref": "paper",
            "y": 0.95,
            "yref": "paper"
           }
          ]
         },
         "name": "78"
        },
        {
         "data": [
          {
           "name": "Free Nodes",
           "type": "scatter3d",
           "x": {
            "bdata": "xvbD2u2GXj0TBwAAAADwP20wAAAAAOA/h9r/////3z8=",
            "dtype": "f8"
           },
           "y": {
            "bdata": "vP3/////3z8WEgAAAADgP76aBc+9IU49pAQAAAAA8D8=",
            "dtype": "f8"
           },
           "z": {
            "bdata": "LX+JDrStir8nf4kOtK2Kvzw4aux3YZG/Pzhq7Hdhkb8=",
            "dtype": "f8"
           }
          },
          {
           "name": "Fixed Nodes",
           "type": "scatter3d",
           "x": [],
           "y": [],
           "z": []
          },
          {
           "name": "Edges",
           "type": "scatter3d",
           "x": [
            4.338157122055973e-13,
            1.0000000000004021,
            null,
            0.5000000000013763,
            0.4999999999994675,
            null
           ],
           "y": [
            0.4999999999999678,
            0.500000000000514,
            null,
            2.1409933382158763e-13,
            1.0000000000002638,
            null
           ],
           "z": [
            -0.01302662534106921,
            -0.013026625341069199,
            null,
            -0.016973375134107224,
            -0.016973375134107235,
            null
           ]
          },
          {
           "i": [],
           "j": [],
           "k": [],
           "name": "Faces",
           "type": "mesh3d",
           "x": {
            "bdata": "xvbD2u2GXj0TBwAAAADwP20wAAAAAOA/h9r/////3z8=",
            "dtype": "f8"
           },
           "y": {
            "bdata": "vP3/////3z8WEgAAAADgP76aBc+9IU49pAQAAAAA8D8=",
            "dtype": "f8"
           },
           "z": {
            "bdata": "LX+JDrStir8nf4kOtK2Kvzw4aux3YZG/Pzhq7Hdhkb8=",
            "dtype": "f8"
           }
          }
         ],
         "layout": {
          "annotations": [
           {
            "showarrow": false,
            "text": "Time: 0.79s (Step: 80/100)",
            "x": 0.05,
            "xref": "paper",
            "y": 0.95,
            "yref": "paper"
           }
          ]
         },
         "name": "79"
        },
        {
         "data": [
          {
           "name": "Free Nodes",
           "type": "scatter3d",
           "x": {
            "bdata": "D6oql15bYD1cBwAAAADwPx0yAAAAAOA/htr/////3z8=",
            "dtype": "f8"
           },
           "y": {
            "bdata": "D/7/////3z9pEwAAAADgPy+WBaipLlI9ogQAAAAA8D8=",
            "dtype": "f8"
           },
           "z": {
            "bdata": "7+c9W4rkkb/r5z1biuSRv0rfMOzYs4u/UN8w7Nizi78=",
            "dtype": "f8"
           }
          },
          {
           "name": "Fixed Nodes",
           "type": "scatter3d",
           "x": [],
           "y": [],
           "z": []
          },
          {
           "name": "Edges",
           "type": "scatter3d",
           "x": [
            4.648914024985172e-13,
            1.0000000000004183,
            null,
            0.5000000000014243,
            0.4999999999994674,
            null
           ],
           "y": [
            0.4999999999999724,
            0.5000000000005517,
            null,
            2.5838568618372377e-13,
            1.0000000000002633,
            null
           ],
           "z": [
            -0.017473375147780187,
            -0.017473375147780173,
            null,
            -0.01352662535474249,
            -0.0135266253547425,
            null
           ]
          },
          {
           "i": [],
           "j": [],
           "k": [],
           "name": "Faces",
           "type": "mesh3d",
           "x": {
            "bdata": "D6oql15bYD1cBwAAAADwPx0yAAAAAOA/htr/////3z8=",
            "dtype": "f8"
           },
           "y": {
            "bdata": "D/7/////3z9pEwAAAADgPy+WBaipLlI9ogQAAAAA8D8=",
            "dtype": "f8"
           },
           "z": {
            "bdata": "7+c9W4rkkb/r5z1biuSRv0rfMOzYs4u/UN8w7Nizi78=",
            "dtype": "f8"
           }
          }
         ],
         "layout": {
          "annotations": [
           {
            "showarrow": false,
            "text": "Time: 0.80s (Step: 81/100)",
            "x": 0.05,
            "xref": "paper",
            "y": 0.95,
            "yref": "paper"
           }
          ]
         },
         "name": "80"
        },
        {
         "data": [
          {
           "name": "Free Nodes",
           "type": "scatter3d",
           "x": {
            "bdata": "OTW8KZM/YT3SBwAAAADwP6wzAAAAAOA/Cdv/////3z8=",
            "dtype": "f8"
           },
           "y": {
            "bdata": "yP3/////3z/bFAAAAADgP2taLudSmlU9bwQAAAAA8D8=",
            "dtype": "f8"
           },
           "z": {
            "bdata": "VpDsyf25jL9NkOzJ/bmMv+nAG8qcZ5K/68Abypxnkr8=",
            "dtype": "f8"
           }
          },
          {
           "name": "Fixed Nodes",
           "type": "scatter3d",
           "x": [],
           "y": [],
           "z": []
          },
          {
           "name": "Edges",
           "type": "scatter3d",
           "x": [
            4.902272871619058e-13,
            1.0000000000004445,
            null,
            0.5000000000014686,
            0.4999999999994747,
            null
           ],
           "y": [
            0.49999999999996847,
            0.5000000000005927,
            null,
            3.069946430424652e-13,
            1.000000000000252,
            null
           ],
           "z": [
            -0.014026625370725448,
            -0.014026625370725432,
            null,
            -0.017973375163763548,
            -0.017973375163763555,
            null
           ]
          },
          {
           "i": [],
           "j": [],
           "k": [],
           "name": "Faces",
           "type": "mesh3d",
           "x": {
            "bdata": "OTW8KZM/YT3SBwAAAADwP6wzAAAAAOA/Cdv/////3z8=",
            "dtype": "f8"
           },
           "y": {
            "bdata": "yP3/////3z/bFAAAAADgP2taLudSmlU9bwQAAAAA8D8=",
            "dtype": "f8"
           },
           "z": {
            "bdata": "VpDsyf25jL9NkOzJ/bmMv+nAG8qcZ5K/68Abypxnkr8=",
            "dtype": "f8"
           }
          }
         ],
         "layout": {
          "annotations": [
           {
            "showarrow": false,
            "text": "Time: 0.81s (Step: 82/100)",
            "x": 0.05,
            "xref": "paper",
            "y": 0.95,
            "yref": "paper"
           }
          ]
         },
         "name": "81"
        },
        {
         "data": [
          {
           "name": "Free Nodes",
           "type": "scatter3d",
           "x": {
            "bdata": "ZFc51KQBYT1eCAAAAADwP000AAAAAOA/dtv/////3z8=",
            "dtype": "f8"
           },
           "y": {
            "bdata": "6/3/////3z86FgAAAADgPxBRF7zoelY97gQAAAAA8D8=",
            "dtype": "f8"
           },
           "z": {
            "bdata": "+D7yOK/qkr/2PvI4r+qSv4+NmaciwI2/k42ZpyLAjb8=",
            "dtype": "f8"
           }
          },
          {
           "name": "Fixed Nodes",
           "type": "scatter3d",
           "x": [],
           "y": [],
           "z": []
          },
          {
           "name": "Edges",
           "type": "scatter3d",
           "x": [
            4.833515658032687e-13,
            1.0000000000004756,
            null,
            0.5000000000014865,
            0.49999999999948075,
            null
           ],
           "y": [
            0.4999999999999704,
            0.5000000000006317,
            null,
            3.1946163048480327e-13,
            1.0000000000002802,
            null
           ],
           "z": [
            -0.01847337517807454,
            -0.018473375178074534,
            null,
            -0.014526625385036933,
            -0.01452662538503694,
            null
           ]
          },
          {
           "i": [],
           "j": [],
           "k": [],
           "name": "Faces",
           "type": "mesh3d",
           "x": {
            "bdata": "ZFc51KQBYT1eCAAAAADwP000AAAAAOA/dtv/////3z8=",
            "dtype": "f8"
           },
           "y": {
            "bdata": "6/3/////3z86FgAAAADgPxBRF7zoelY97gQAAAAA8D8=",
            "dtype": "f8"
           },
           "z": {
            "bdata": "+D7yOK/qkr/2PvI4r+qSv4+NmaciwI2/k42ZpyLAjb8=",
            "dtype": "f8"
           }
          }
         ],
         "layout": {
          "annotations": [
           {
            "showarrow": false,
            "text": "Time: 0.82s (Step: 83/100)",
            "x": 0.05,
            "xref": "paper",
            "y": 0.95,
            "yref": "paper"
           }
          ]
         },
         "name": "82"
        },
        {
         "data": [
          {
           "name": "Free Nodes",
           "type": "scatter3d",
           "x": {
            "bdata": "NcjjKbKjYT0oCQAAAADwPyw1AAAAAOA/EN7/////3z8=",
            "dtype": "f8"
           },
           "y": {
            "bdata": "Qv7/////3z/xFgAAAADgP1OP9+l4+VQ9wQUAAAAA8D8=",
            "dtype": "f8"
           },
           "z": {
            "bdata": "QWczhUfGjr8/ZzOFR8aOv3ksv6fBbZO/eyy/p8Ftk78=",
            "dtype": "f8"
           }
          },
          {
           "name": "Fixed Nodes",
           "type": "scatter3d",
           "x": [],
           "y": [],
           "z": []
          },
          {
           "name": "Edges",
           "type": "scatter3d",
           "x": [
            5.01342961776976e-13,
            1.0000000000005205,
            null,
            0.5000000000015112,
            0.4999999999995177,
            null
           ],
           "y": [
            0.49999999999997524,
            0.500000000000652,
            null,
            2.980655899905465e-13,
            1.000000000000327,
            null
           ],
           "z": [
            -0.01502662539717259,
            -0.015026625397172587,
            null,
            -0.018973375190210782,
            -0.01897337519021079,
            null
           ]
          },
          {
           "i": [],
           "j": [],
           "k": [],
           "name": "Faces",
           "type": "mesh3d",
           "x": {
            "bdata": "NcjjKbKjYT0oCQAAAADwPyw1AAAAAOA/EN7/////3z8=",
            "dtype": "f8"
           },
           "y": {
            "bdata": "Qv7/////3z/xFgAAAADgP1OP9+l4+VQ9wQUAAAAA8D8=",
            "dtype": "f8"
           },
           "z": {
            "bdata": "QWczhUfGjr8/ZzOFR8aOv3ksv6fBbZO/eyy/p8Ftk78=",
            "dtype": "f8"
           }
          }
         ],
         "layout": {
          "annotations": [
           {
            "showarrow": false,
            "text": "Time: 0.83s (Step: 84/100)",
            "x": 0.05,
            "xref": "paper",
            "y": 0.95,
            "yref": "paper"
           }
          ]
         },
         "name": "83"
        },
        {
         "data": [
          {
           "name": "Free Nodes",
           "type": "scatter3d",
           "x": {
            "bdata": "ppjSPmCNYj2ECQAAAADwP8Y1AAAAAOA/3N//////3z8=",
            "dtype": "f8"
           },
           "y": {
            "bdata": "sf7/////3z92FwAAAADgP1hR4UVfe1U9AwYAAAAA8D8=",
            "dtype": "f8"
           },
           "z": {
            "bdata": "xbCSFtTwk7/DsJIW1PCTvzVw2mJszI+/OXDaYmzMj78=",
            "dtype": "f8"
           }
          },
          {
           "name": "Fixed Nodes",
           "type": "scatter3d",
           "x": [],
           "y": [],
           "z": []
          },
          {
           "name": "Edges",
           "type": "scatter3d",
           "x": [
            5.27286654183605e-13,
            1.000000000000541,
            null,
            0.5000000000015283,
            0.49999999999954325,
            null
           ],
           "y": [
            0.4999999999999814,
            0.5000000000006668,
            null,
            3.0527647965275127e-13,
            1.0000000000003417,
            null
           ],
           "z": [
            -0.019473375203845195,
            -0.01947337520384519,
            null,
            -0.015526625410807163,
            -0.01552662541080717,
            null
           ]
          },
          {
           "i": [],
           "j": [],
           "k": [],
           "name": "Faces",
           "type": "mesh3d",
           "x": {
            "bdata": "ppjSPmCNYj2ECQAAAADwP8Y1AAAAAOA/3N//////3z8=",
            "dtype": "f8"
           },
           "y": {
            "bdata": "sf7/////3z92FwAAAADgP1hR4UVfe1U9AwYAAAAA8D8=",
            "dtype": "f8"
           },
           "z": {
            "bdata": "xbCSFtTwk7/DsJIW1PCTvzVw2mJszI+/OXDaYmzMj78=",
            "dtype": "f8"
           }
          }
         ],
         "layout": {
          "annotations": [
           {
            "showarrow": false,
            "text": "Time: 0.84s (Step: 85/100)",
            "x": 0.05,
            "xref": "paper",
            "y": 0.95,
            "yref": "paper"
           }
          ]
         },
         "name": "84"
        },
        {
         "data": [
          {
           "name": "Free Nodes",
           "type": "scatter3d",
           "x": {
            "bdata": "w4Pviq/NZD0GCQAAAADwP9Y1AAAAAOA/IOL/////3z8=",
            "dtype": "f8"
           },
           "y": {
            "bdata": "jP//////3z8GGAAAAADgP3Z6enB3dVc9+gUAAAAA8D8=",
            "dtype": "f8"
           },
           "z": {
            "bdata": "TNVCoEhpkL9K1UKgSGmQv6pNaIXmc5S/rE1oheZzlL8=",
            "dtype": "f8"
           }
          },
          {
           "name": "Fixed Nodes",
           "type": "scatter3d",
           "x": [],
           "y": [],
           "z": []
          },
          {
           "name": "Edges",
           "type": "scatter3d",
           "x": [
            5.912698901310386e-13,
            1.000000000000513,
            null,
            0.5000000000015301,
            0.49999999999957545,
            null
           ],
           "y": [
            0.49999999999999356,
            0.5000000000006828,
            null,
            3.333703624283454e-13,
            1.0000000000003397,
            null
           ],
           "z": [
            -0.016026625424918436,
            -0.01602662542491843,
            null,
            -0.019973375217956203,
            -0.01997337521795621,
            null
           ]
          },
          {
           "i": [],
           "j": [],
           "k": [],
           "name": "Faces",
           "type": "mesh3d",
           "x": {
            "bdata": "w4Pviq/NZD0GCQAAAADwP9Y1AAAAAOA/IOL/////3z8=",
            "dtype": "f8"
           },
           "y": {
            "bdata": "jP//////3z8GGAAAAADgP3Z6enB3dVc9+gUAAAAA8D8=",
            "dtype": "f8"
           },
           "z": {
            "bdata": "TNVCoEhpkL9K1UKgSGmQv6pNaIXmc5S/rE1oheZzlL8=",
            "dtype": "f8"
           }
          }
         ],
         "layout": {
          "annotations": [
           {
            "showarrow": false,
            "text": "Time: 0.85s (Step: 86/100)",
            "x": 0.05,
            "xref": "paper",
            "y": 0.95,
            "yref": "paper"
           }
          ]
         },
         "name": "85"
        },
        {
         "data": [
          {
           "name": "Free Nodes",
           "type": "scatter3d",
           "x": {
            "bdata": "id8bPk2vZD0ECQAAAADwP581AAAAAOA/YuL/////3z8=",
            "dtype": "f8"
           },
           "y": {
            "bdata": "mAAAAAAA4D9AGAAAAADgP/gz7yB2UVk9DwYAAAAA8D8=",
            "dtype": "f8"
           },
           "z": {
            "bdata": "mVNQ9Pj2lL+UU1D0+PaUvzfbKg9b7JC/ONsqD1vskL8=",
            "dtype": "f8"
           }
          },
          {
           "name": "Fixed Nodes",
           "type": "scatter3d",
           "x": [],
           "y": [],
           "z": []
          },
          {
           "name": "Edges",
           "type": "scatter3d",
           "x": [
            5.878965901824677e-13,
            1.0000000000005125,
            null,
            0.500000000001524,
            0.4999999999995791,
            null
           ],
           "y": [
            0.5000000000000169,
            0.5000000000006892,
            null,
            3.597933861975633e-13,
            1.0000000000003444,
            null
           ],
           "z": [
            -0.02047337523625323,
            -0.020473375236253213,
            null,
            -0.01652662544321545,
            -0.016526625443215454,
            null
           ]
          },
          {
           "i": [],
           "j": [],
           "k": [],
           "name": "Faces",
           "type": "mesh3d",
           "x": {
            "bdata": "id8bPk2vZD0ECQAAAADwP581AAAAAOA/YuL/////3z8=",
            "dtype": "f8"
           },
           "y": {
            "bdata": "mAAAAAAA4D9AGAAAAADgP/gz7yB2UVk9DwYAAAAA8D8=",
            "dtype": "f8"
           },
           "z": {
            "bdata": "mVNQ9Pj2lL+UU1D0+PaUvzfbKg9b7JC/ONsqD1vskL8=",
            "dtype": "f8"
           }
          }
         ],
         "layout": {
          "annotations": [
           {
            "showarrow": false,
            "text": "Time: 0.86s (Step: 87/100)",
            "x": 0.05,
            "xref": "paper",
            "y": 0.95,
            "yref": "paper"
           }
          ]
         },
         "name": "86"
        },
        {
         "data": [
          {
           "name": "Free Nodes",
           "type": "scatter3d",
           "x": {
            "bdata": "LieyNtKgZD1CCQAAAADwPyg1AAAAAOA/M+T/////3z8=",
            "dtype": "f8"
           },
           "y": {
            "bdata": "CwEAAAAA4D8BGQAAAADgPzZ9wvo/sls9EQYAAAAA8D8=",
            "dtype": "f8"
           },
           "z": {
            "bdata": "9gAYfm1vkb/vABh+bW+Rv7N5PWMLepW/tHk9Ywt6lb8=",
            "dtype": "f8"
           }
          },
          {
           "name": "Fixed Nodes",
           "type": "scatter3d",
           "x": [],
           "y": [],
           "z": []
          },
          {
           "name": "Edges",
           "type": "scatter3d",
           "x": [
            5.862889226430477e-13,
            1.0000000000005262,
            null,
            0.5000000000015108,
            0.4999999999996049,
            null
           ],
           "y": [
            0.5000000000000296,
            0.5000000000007107,
            null,
            3.935879355787386e-13,
            1.0000000000003448,
            null
           ],
           "z": [
            -0.0170266254626776,
            -0.017026625462677577,
            null,
            -0.020973375255715698,
            -0.0209733752557157,
            null
           ]
          },
          {
           "i": [],
           "j": [],
           "k": [],
           "name": "Faces",
           "type": "mesh3d",
           "x": {
            "bdata": "LieyNtKgZD1CCQAAAADwPyg1AAAAAOA/M+T/////3z8=",
            "dtype": "f8"
           },
           "y": {
            "bdata": "CwEAAAAA4D8BGQAAAADgPzZ9wvo/sls9EQYAAAAA8D8=",
            "dtype": "f8"
           },
           "z": {
            "bdata": "9gAYfm1vkb/vABh+bW+Rv7N5PWMLepW/tHk9Ywt6lb8=",
            "dtype": "f8"
           }
          }
         ],
         "layout": {
          "annotations": [
           {
            "showarrow": false,
            "text": "Time: 0.87s (Step: 88/100)",
            "x": 0.05,
            "xref": "paper",
            "y": 0.95,
            "yref": "paper"
           }
          ]
         },
         "name": "87"
        },
        {
         "data": [
          {
           "name": "Free Nodes",
           "type": "scatter3d",
           "x": {
            "bdata": "l8IkaCZKZD2zCQAAAADwP5A0AAAAAOA/a+b/////3z8=",
            "dtype": "f8"
           },
           "y": {
            "bdata": "JAEAAAAA4D/5GQAAAADgP8Y+XtxGTVw9cAYAAAAA8D8=",
            "dtype": "f8"
           },
           "z": {
            "bdata": "yCoo0h39lb/BKijSHf2VvwKyAu1/8pG/BLIC7X/ykb8=",
            "dtype": "f8"
           }
          },
          {
           "name": "Fixed Nodes",
           "type": "scatter3d",
           "x": [],
           "y": [],
           "z": []
          },
          {
           "name": "Edges",
           "type": "scatter3d",
           "x": [
            5.766664952894392e-13,
            1.0000000000005513,
            null,
            0.5000000000014939,
            0.49999999999963646,
            null
           ],
           "y": [
            0.5000000000000324,
            0.5000000000007382,
            null,
            4.021936561599574e-13,
            1.000000000000366,
            null
           ],
           "z": [
            -0.021473375274619483,
            -0.02147337527461946,
            null,
            -0.017526625481581355,
            -0.017526625481581362,
            null
           ]
          },
          {
           "i": [],
           "j": [],
           "k": [],
           "name": "Faces",
           "type": "mesh3d",
           "x": {
            "bdata": "l8IkaCZKZD2zCQAAAADwP5A0AAAAAOA/a+b/////3z8=",
            "dtype": "f8"
           },
           "y": {
            "bdata": "JAEAAAAA4D/5GQAAAADgP8Y+XtxGTVw9cAYAAAAA8D8=",
            "dtype": "f8"
           },
           "z": {
            "bdata": "yCoo0h39lb/BKijSHf2VvwKyAu1/8pG/BLIC7X/ykb8=",
            "dtype": "f8"
           }
          }
         ],
         "layout": {
          "annotations": [
           {
            "showarrow": false,
            "text": "Time: 0.88s (Step: 89/100)",
            "x": 0.05,
            "xref": "paper",
            "y": 0.95,
            "yref": "paper"
           }
          ]
         },
         "name": "88"
        },
        {
         "data": [
          {
           "name": "Free Nodes",
           "type": "scatter3d",
           "x": {
            "bdata": "waepoKnMZD3gCQAAAADwP/wzAAAAAOA/Wen/////3z8=",
            "dtype": "f8"
           },
           "y": {
            "bdata": "lwEAAAAA4D9IGgAAAADgP4CDvcYu5lw9pAYAAAAA8D8=",
            "dtype": "f8"
           },
           "z": {
            "bdata": "qy/kW5J1kr+lL+RbknWSvx+oCUEwgJa/IagJQTCAlr8=",
            "dtype": "f8"
           }
          },
          {
           "name": "Fixed Nodes",
           "type": "scatter3d",
           "x": [],
           "y": [],
           "z": []
          },
          {
           "name": "Edges",
           "type": "scatter3d",
           "x": [
            5.91156302550521e-13,
            1.0000000000005613,
            null,
            0.5000000000014775,
            0.4999999999996781,
            null
           ],
           "y": [
            0.5000000000000452,
            0.500000000000747,
            null,
            4.1068163980840397e-13,
            1.0000000000003775,
            null
           ],
           "z": [
            -0.018026625498393106,
            -0.018026625498393085,
            null,
            -0.02197337529143095,
            -0.021973375291430956,
            null
           ]
          },
          {
           "i": [],
           "j": [],
           "k": [],
           "name": "Faces",
           "type": "mesh3d",
           "x": {
            "bdata": "waepoKnMZD3gCQAAAADwP/wzAAAAAOA/Wen/////3z8=",
            "dtype": "f8"
           },
           "y": {
            "bdata": "lwEAAAAA4D9IGgAAAADgP4CDvcYu5lw9pAYAAAAA8D8=",
            "dtype": "f8"
           },
           "z": {
            "bdata": "qy/kW5J1kr+lL+RbknWSvx+oCUEwgJa/IagJQTCAlr8=",
            "dtype": "f8"
           }
          }
         ],
         "layout": {
          "annotations": [
           {
            "showarrow": false,
            "text": "Time: 0.89s (Step: 90/100)",
            "x": 0.05,
            "xref": "paper",
            "y": 0.95,
            "yref": "paper"
           }
          ]
         },
         "name": "89"
        },
        {
         "data": [
          {
           "name": "Free Nodes",
           "type": "scatter3d",
           "x": {
            "bdata": "9WwqZMq+ZT3aCQAAAADwPzozAAAAAOA/uOz/////3z8=",
            "dtype": "f8"
           },
           "y": {
            "bdata": "twEAAAAA4D+tGgAAAADgP9ZeEF1Qc109ywYAAAAA8D8=",
            "dtype": "f8"
           },
           "z": {
            "bdata": "A9ryr0IDl7/92fKvQgOXv1Zhzcqk+JK/WGHNyqT4kr8=",
            "dtype": "f8"
           }
          },
          {
           "name": "Fixed Nodes",
           "type": "scatter3d",
           "x": [],
           "y": [],
           "z": []
          },
          {
           "name": "Edges",
           "type": "scatter3d",
           "x": [
            6.180379087292376e-13,
            1.00000000000056,
            null,
            0.500000000001456,
            0.499999999999726,
            null
           ],
           "y": [
            0.5000000000000487,
            0.5000000000007582,
            null,
            4.185159951954419e-13,
            1.0000000000003861,
            null
           ],
           "z": [
            -0.02247337530999439,
            -0.02247337530999437,
            null,
            -0.01852662551695635,
            -0.018526625516956358,
            null
           ]
          },
          {
           "i": [],
           "j": [],
           "k": [],
           "name": "Faces",
           "type": "mesh3d",
           "x": {
            "bdata": "9WwqZMq+ZT3aCQAAAADwPzozAAAAAOA/uOz/////3z8=",
            "dtype": "f8"
           },
           "y": {
            "bdata": "twEAAAAA4D+tGgAAAADgP9ZeEF1Qc109ywYAAAAA8D8=",
            "dtype": "f8"
           },
           "z": {
            "bdata": "A9ryr0IDl7/92fKvQgOXv1Zhzcqk+JK/WGHNyqT4kr8=",
            "dtype": "f8"
           }
          }
         ],
         "layout": {
          "annotations": [
           {
            "showarrow": false,
            "text": "Time: 0.90s (Step: 91/100)",
            "x": 0.05,
            "xref": "paper",
            "y": 0.95,
            "yref": "paper"
           }
          ]
         },
         "name": "90"
        },
        {
         "data": [
          {
           "name": "Free Nodes",
           "type": "scatter3d",
           "x": {
            "bdata": "YaHYfEgKZj3aCQAAAADwPz0yAAAAAOA/UO//////3z8=",
            "dtype": "f8"
           },
           "y": {
            "bdata": "2QEAAAAA4D/qGgAAAADgP0jojh6/d1w9PgcAAAAA8D8=",
            "dtype": "f8"
           },
           "z": {
            "bdata": "lxyeObd7k7+RHJ45t3uTvzyVwx5Vhpe/PpXDHlWGl78=",
            "dtype": "f8"
           }
          },
          {
           "name": "Fixed Nodes",
           "type": "scatter3d",
           "x": [],
           "y": [],
           "z": []
          },
          {
           "name": "Edges",
           "type": "scatter3d",
           "x": [
            6.264192670137915e-13,
            1.00000000000056,
            null,
            0.5000000000014279,
            0.49999999999976286,
            null
           ],
           "y": [
            0.5000000000000525,
            0.5000000000007649,
            null,
            4.045512014289939e-13,
            1.0000000000004117,
            null
           ],
           "z": [
            -0.019026625529957455,
            -0.019026625529957434,
            null,
            -0.022973375322995468,
            -0.022973375322995475,
            null
           ]
          },
          {
           "i": [],
           "j": [],
           "k": [],
           "name": "Faces",
           "type": "mesh3d",
           "x": {
            "bdata": "YaHYfEgKZj3aCQAAAADwPz0yAAAAAOA/UO//////3z8=",
            "dtype": "f8"
           },
           "y": {
            "bdata": "2QEAAAAA4D/qGgAAAADgP0jojh6/d1w9PgcAAAAA8D8=",
            "dtype": "f8"
           },
           "z": {
            "bdata": "lxyeObd7k7+RHJ45t3uTvzyVwx5Vhpe/PpXDHlWGl78=",
            "dtype": "f8"
           }
          }
         ],
         "layout": {
          "annotations": [
           {
            "showarrow": false,
            "text": "Time: 0.91s (Step: 92/100)",
            "x": 0.05,
            "xref": "paper",
            "y": 0.95,
            "yref": "paper"
           }
          ]
         },
         "name": "91"
        },
        {
         "data": [
          {
           "name": "Free Nodes",
           "type": "scatter3d",
           "x": {
            "bdata": "iWQHYl39ZT3hCQAAAADwP6MwAAAAAOA/nfL/////3z8=",
            "dtype": "f8"
           },
           "y": {
            "bdata": "BQIAAAAA4D+nGwAAAADgP2zA73IRfl49LgcAAAAA8D8=",
            "dtype": "f8"
           },
           "z": {
            "bdata": "HnufjWcJmL8Ye5+NZwmYv7sCeqjJ/pO/vQJ6qMn+k78=",
            "dtype": "f8"
           }
          },
          {
           "name": "Fixed Nodes",
           "type": "scatter3d",
           "x": [],
           "y": [],
           "z": []
          },
          {
           "name": "Edges",
           "type": "scatter3d",
           "x": [
            6.249850389496956e-13,
            1.0000000000005616,
            null,
            0.5000000000013823,
            0.49999999999980976,
            null
           ],
           "y": [
            0.5000000000000574,
            0.5000000000007859,
            null,
            4.333238301536127e-13,
            1.0000000000004081,
            null
           ],
           "z": [
            -0.023473375338535545,
            -0.023473375338535524,
            null,
            -0.01952662554549776,
            -0.019526625545497767,
            null
           ]
          },
          {
           "i": [],
           "j": [],
           "k": [],
           "name": "Faces",
           "type": "mesh3d",
           "x": {
            "bdata": "iWQHYl39ZT3hCQAAAADwP6MwAAAAAOA/nfL/////3z8=",
            "dtype": "f8"
           },
           "y": {
            "bdata": "BQIAAAAA4D+nGwAAAADgP2zA73IRfl49LgcAAAAA8D8=",
            "dtype": "f8"
           },
           "z": {
            "bdata": "HnufjWcJmL8Ye5+NZwmYv7sCeqjJ/pO/vQJ6qMn+k78=",
            "dtype": "f8"
           }
          }
         ],
         "layout": {
          "annotations": [
           {
            "showarrow": false,
            "text": "Time: 0.92s (Step: 93/100)",
            "x": 0.05,
            "xref": "paper",
            "y": 0.95,
            "yref": "paper"
           }
          ]
         },
         "name": "92"
        },
        {
         "data": [
          {
           "name": "Free Nodes",
           "type": "scatter3d",
           "x": {
            "bdata": "QG4B7AtfZT2/CgAAAADwP/0vAAAAAOA/CPb/////3z8=",
            "dtype": "f8"
           },
           "y": {
            "bdata": "TAIAAAAA4D+wGwAAAADgP7D2rMWn1109ewcAAAAA8D8=",
            "dtype": "f8"
           },
           "z": {
            "bdata": "179MF9yBlL/Qv0wX3IGUvzE4cvx5jJi/Mzhy/HmMmL8=",
            "dtype": "f8"
           }
          },
          {
           "name": "Fixed Nodes",
           "type": "scatter3d",
           "x": [],
           "y": [],
           "z": []
          },
          {
           "name": "Edges",
           "type": "scatter3d",
           "x": [
            6.074081870710005e-13,
            1.0000000000006108,
            null,
            0.5000000000013639,
            0.49999999999985834,
            null
           ],
           "y": [
            0.5000000000000653,
            0.5000000000007869,
            null,
            4.240860640459188e-13,
            1.0000000000004252,
            null
           ],
           "z": [
            -0.02002662555895526,
            -0.020026625558955236,
            null,
            -0.023973375351993013,
            -0.02397337535199302,
            null
           ]
          },
          {
           "i": [],
           "j": [],
           "k": [],
           "name": "Faces",
           "type": "mesh3d",
           "x": {
            "bdata": "QG4B7AtfZT2/CgAAAADwP/0vAAAAAOA/CPb/////3z8=",
            "dtype": "f8"
           },
           "y": {
            "bdata": "TAIAAAAA4D+wGwAAAADgP7D2rMWn1109ewcAAAAA8D8=",
            "dtype": "f8"
           },
           "z": {
            "bdata": "179MF9yBlL/Qv0wX3IGUvzE4cvx5jJi/Mzhy/HmMmL8=",
            "dtype": "f8"
           }
          }
         ],
         "layout": {
          "annotations": [
           {
            "showarrow": false,
            "text": "Time: 0.93s (Step: 94/100)",
            "x": 0.05,
            "xref": "paper",
            "y": 0.95,
            "yref": "paper"
           }
          ]
         },
         "name": "93"
        },
        {
         "data": [
          {
           "name": "Free Nodes",
           "type": "scatter3d",
           "x": {
            "bdata": "qlRfOSolZD2RCwAAAADwP7QuAAAAAOA/bPn/////3z8=",
            "dtype": "f8"
           },
           "y": {
            "bdata": "kwIAAAAA4D+9GwAAAADgPyRAOdbFS149gQcAAAAA8D8=",
            "dtype": "f8"
           },
           "z": {
            "bdata": "aVVNa4wPmb9hVU1rjA+Zv9TcJ4buBJW/1twnhu4Elb8=",
            "dtype": "f8"
           }
          },
          {
           "name": "Fixed Nodes",
           "type": "scatter3d",
           "x": [],
           "y": [],
           "z": []
          },
          {
           "name": "Edges",
           "type": "scatter3d",
           "x": [
            5.725603255882928e-13,
            1.0000000000006575,
            null,
            0.5000000000013274,
            0.4999999999999065,
            null
           ],
           "y": [
            0.5000000000000732,
            0.5000000000007884,
            null,
            4.3053187681847727e-13,
            1.0000000000004265,
            null
           ],
           "z": [
            -0.024473375367354864,
            -0.024473375367354836,
            null,
            -0.020526625574316906,
            -0.020526625574316913,
            null
           ]
          },
          {
           "i": [],
           "j": [],
           "k": [],
           "name": "Faces",
           "type": "mesh3d",
           "x": {
            "bdata": "qlRfOSolZD2RCwAAAADwP7QuAAAAAOA/bPn/////3z8=",
            "dtype": "f8"
           },
           "y": {
            "bdata": "kwIAAAAA4D+9GwAAAADgPyRAOdbFS149gQcAAAAA8D8=",
            "dtype": "f8"
           },
           "z": {
            "bdata": "aVVNa4wPmb9hVU1rjA+Zv9TcJ4buBJW/1twnhu4Elb8=",
            "dtype": "f8"
           }
          }
         ],
         "layout": {
          "annotations": [
           {
            "showarrow": false,
            "text": "Time: 0.94s (Step: 95/100)",
            "x": 0.05,
            "xref": "paper",
            "y": 0.95,
            "yref": "paper"
           }
          ]
         },
         "name": "94"
        },
        {
         "data": [
          {
           "name": "Free Nodes",
           "type": "scatter3d",
           "x": {
            "bdata": "Kmg3tS9kYz2GCwAAAADwP5wsAAAAAOA/9vv/////3z8=",
            "dtype": "f8"
           },
           "y": {
            "bdata": "IwMAAAAA4D9HHAAAAADgP2r3MUJ4M1892gcAAAAA8D8=",
            "dtype": "f8"
           },
           "z": {
            "bdata": "KyEI9QCIlb8jIQj1AIiVv7WZLdqekpm/uZkt2p6Smb8=",
            "dtype": "f8"
           }
          },
          {
           "name": "Fixed Nodes",
           "type": "scatter3d",
           "x": [],
           "y": [],
           "z": []
          },
          {
           "name": "Edges",
           "type": "scatter3d",
           "x": [
            5.511353994173494e-13,
            1.000000000000655,
            null,
            0.5000000000012679,
            0.4999999999999426,
            null
           ],
           "y": [
            0.5000000000000892,
            0.5000000000008037,
            null,
            4.433936418056956e-13,
            1.0000000000004463,
            null
           ],
           "z": [
            -0.021026625590850372,
            -0.021026625590850345,
            null,
            -0.02497337538388829,
            -0.024973375383888306,
            null
           ]
          },
          {
           "i": [],
           "j": [],
           "k": [],
           "name": "Faces",
           "type": "mesh3d",
           "x": {
            "bdata": "Kmg3tS9kYz2GCwAAAADwP5wsAAAAAOA/9vv/////3z8=",
            "dtype": "f8"
           },
           "y": {
            "bdata": "IwMAAAAA4D9HHAAAAADgP2r3MUJ4M1892gcAAAAA8D8=",
            "dtype": "f8"
           },
           "z": {
            "bdata": "KyEI9QCIlb8jIQj1AIiVv7WZLdqekpm/uZkt2p6Smb8=",
            "dtype": "f8"
           }
          }
         ],
         "layout": {
          "annotations": [
           {
            "showarrow": false,
            "text": "Time: 0.95s (Step: 96/100)",
            "x": 0.05,
            "xref": "paper",
            "y": 0.95,
            "yref": "paper"
           }
          ]
         },
         "name": "95"
        },
        {
         "data": [
          {
           "name": "Free Nodes",
           "type": "scatter3d",
           "x": {
            "bdata": "tjL+AFIGZD2DCwAAAADwP+8qAAAAAOA/OQAAAAAA4D8=",
            "dtype": "f8"
           },
           "y": {
            "bdata": "YAMAAAAA4D9/HQAAAADgP+opgSbCv2A9BAgAAAAA8D8=",
            "dtype": "f8"
           },
           "z": {
            "bdata": "sXoPSbEVmr+reg9JsRWav00C6mMTC5a/UALqYxMLlr8=",
            "dtype": "f8"
           }
          },
          {
           "name": "Fixed Nodes",
           "type": "scatter3d",
           "x": [],
           "y": [],
           "z": []
          },
          {
           "name": "Edges",
           "type": "scatter3d",
           "x": [
            5.691358859362546e-13,
            1.0000000000006544,
            null,
            0.5000000000012202,
            0.5000000000000063,
            null
           ],
           "y": [
            0.5000000000000959,
            0.5000000000008383,
            null,
            4.760368099746273e-13,
            1.0000000000004556,
            null
           ],
           "z": [
            -0.02547337540078826,
            -0.02547337540078824,
            null,
            -0.021526625607750472,
            -0.021526625607750483,
            null
           ]
          },
          {
           "i": [],
           "j": [],
           "k": [],
           "name": "Faces",
           "type": "mesh3d",
           "x": {
            "bdata": "tjL+AFIGZD2DCwAAAADwP+8qAAAAAOA/OQAAAAAA4D8=",
            "dtype": "f8"
           },
           "y": {
            "bdata": "YAMAAAAA4D9/HQAAAADgP+opgSbCv2A9BAgAAAAA8D8=",
            "dtype": "f8"
           },
           "z": {
            "bdata": "sXoPSbEVmr+reg9JsRWav00C6mMTC5a/UALqYxMLlr8=",
            "dtype": "f8"
           }
          }
         ],
         "layout": {
          "annotations": [
           {
            "showarrow": false,
            "text": "Time: 0.96s (Step: 97/100)",
            "x": 0.05,
            "xref": "paper",
            "y": 0.95,
            "yref": "paper"
           }
          ]
         },
         "name": "96"
        },
        {
         "data": [
          {
           "name": "Free Nodes",
           "type": "scatter3d",
           "x": {
            "bdata": "+LuBYiewZT1dCwAAAADwP6YpAAAAAOA/3QIAAAAA4D8=",
            "dtype": "f8"
           },
           "y": {
            "bdata": "1gMAAAAA4D9YHgAAAADgP3K1oS1nPWE9awgAAAAA8D8=",
            "dtype": "f8"
           },
           "z": {
            "bdata": "gAnJ0iWOlr97CcnSJY6WvwyC7rfDmJq/D4Lut8OYmr8=",
            "dtype": "f8"
           }
          },
          {
           "name": "Fixed Nodes",
           "type": "scatter3d",
           "x": [],
           "y": [],
           "z": []
          },
          {
           "name": "Edges",
           "type": "scatter3d",
           "x": [
            6.164129037027446e-13,
            1.000000000000646,
            null,
            0.5000000000011837,
            0.5000000000000814,
            null
           ],
           "y": [
            0.500000000000109,
            0.5000000000008624,
            null,
            4.899861671996521e-13,
            1.0000000000004785,
            null
           ],
           "z": [
            -0.02202662562400226,
            -0.022026625624002243,
            null,
            -0.025973375417040187,
            -0.025973375417040197,
            null
           ]
          },
          {
           "i": [],
           "j": [],
           "k": [],
           "name": "Faces",
           "type": "mesh3d",
           "x": {
            "bdata": "+LuBYiewZT1dCwAAAADwP6YpAAAAAOA/3QIAAAAA4D8=",
            "dtype": "f8"
           },
           "y": {
            "bdata": "1gMAAAAA4D9YHgAAAADgP3K1oS1nPWE9awgAAAAA8D8=",
            "dtype": "f8"
           },
           "z": {
            "bdata": "gAnJ0iWOlr97CcnSJY6WvwyC7rfDmJq/D4Lut8OYmr8=",
            "dtype": "f8"
           }
          }
         ],
         "layout": {
          "annotations": [
           {
            "showarrow": false,
            "text": "Time: 0.97s (Step: 98/100)",
            "x": 0.05,
            "xref": "paper",
            "y": 0.95,
            "yref": "paper"
           }
          ]
         },
         "name": "97"
        },
        {
         "data": [
          {
           "name": "Free Nodes",
           "type": "scatter3d",
           "x": {
            "bdata": "D16dcxtaaD1HCgAAAADwP6coAAAAAOA/UwQAAAAA4D8=",
            "dtype": "f8"
           },
           "y": {
            "bdata": "KgQAAAAA4D+xHwAAAADgP0GYRZ6kg2M9HggAAAAA8D8=",
            "dtype": "f8"
           },
           "z": {
            "bdata": "fW/SJtYbm794b9Im1hubvzL3rEE4EZe/NfesQTgRl78=",
            "dtype": "f8"
           }
          },
          {
           "name": "Fixed Nodes",
           "type": "scatter3d",
           "x": [],
           "y": [],
           "z": []
          },
          {
           "name": "Edges",
           "type": "scatter3d",
           "x": [
            6.921249387937335e-13,
            1.0000000000005842,
            null,
            0.5000000000011554,
            0.5000000000001229,
            null
           ],
           "y": [
            0.5000000000001183,
            0.5000000000009007,
            null,
            5.546277925857314e-13,
            1.0000000000004614,
            null
           ],
           "z": [
            -0.026473375434405966,
            -0.02647337543440595,
            null,
            -0.022526625641368266,
            -0.022526625641368276,
            null
           ]
          },
          {
           "i": [],
           "j": [],
           "k": [],
           "name": "Faces",
           "type": "mesh3d",
           "x": {
            "bdata": "D16dcxtaaD1HCgAAAADwP6coAAAAAOA/UwQAAAAA4D8=",
            "dtype": "f8"
           },
           "y": {
            "bdata": "KgQAAAAA4D+xHwAAAADgP0GYRZ6kg2M9HggAAAAA8D8=",
            "dtype": "f8"
           },
           "z": {
            "bdata": "fW/SJtYbm794b9Im1hubvzL3rEE4EZe/NfesQTgRl78=",
            "dtype": "f8"
           }
          }
         ],
         "layout": {
          "annotations": [
           {
            "showarrow": false,
            "text": "Time: 0.98s (Step: 99/100)",
            "x": 0.05,
            "xref": "paper",
            "y": 0.95,
            "yref": "paper"
           }
          ]
         },
         "name": "98"
        },
        {
         "data": [
          {
           "name": "Free Nodes",
           "type": "scatter3d",
           "x": {
            "bdata": "ydrWpNP2aD3yCQAAAADwP30nAAAAAOA/dwUAAAAA4D8=",
            "dtype": "f8"
           },
           "y": {
            "bdata": "uAQAAAAA4D9fIQAAAADgPyqC63M1rWQ9pwgAAAAA8D8=",
            "dtype": "f8"
           },
           "z": {
            "bdata": "92eYsEqUl7/yZ5iwSpSXv+XgvZXonpu/6eC9leiem78=",
            "dtype": "f8"
           }
          },
          {
           "name": "Fixed Nodes",
           "type": "scatter3d",
           "x": [],
           "y": [],
           "z": []
          },
          {
           "name": "Edges",
           "type": "scatter3d",
           "x": [
            7.095242986474282e-13,
            1.0000000000005653,
            null,
            0.5000000000011223,
            0.5000000000001553,
            null
           ],
           "y": [
            0.5000000000001341,
            0.5000000000009485,
            null,
            5.876642283961941e-13,
            1.0000000000004918,
            null
           ],
           "z": [
            -0.023026625660442303,
            -0.023026625660442286,
            null,
            -0.02697337545348057,
            -0.026973375453480584,
            null
           ]
          },
          {
           "i": [],
           "j": [],
           "k": [],
           "name": "Faces",
           "type": "mesh3d",
           "x": {
            "bdata": "ydrWpNP2aD3yCQAAAADwP30nAAAAAOA/dwUAAAAA4D8=",
            "dtype": "f8"
           },
           "y": {
            "bdata": "uAQAAAAA4D9fIQAAAADgPyqC63M1rWQ9pwgAAAAA8D8=",
            "dtype": "f8"
           },
           "z": {
            "bdata": "92eYsEqUl7/yZ5iwSpSXv+XgvZXonpu/6eC9leiem78=",
            "dtype": "f8"
           }
          }
         ],
         "layout": {
          "annotations": [
           {
            "showarrow": false,
            "text": "Time: 0.99s (Step: 100/100)",
            "x": 0.05,
            "xref": "paper",
            "y": 0.95,
            "yref": "paper"
           }
          ]
         },
         "name": "99"
        }
       ],
       "layout": {
        "scene": {
         "camera": {
          "eye": {
           "x": 1.2247448713915892,
           "y": 1.2247448713915892,
           "z": 0.9999999999999999
          }
         },
         "xaxis": {
          "range": [
           0,
           1.0000000000006575
          ],
          "title": {
           "text": "X Position"
          }
         },
         "yaxis": {
          "range": [
           -7.23434645511358e-14,
           1.0000000000004918
          ],
          "title": {
           "text": "Y Position"
          }
         },
         "zaxis": {
          "range": [
           -0.026973375453480584,
           0.049
          ],
          "title": {
           "text": "Z Position"
          }
         }
        },
        "sliders": [
         {
          "currentvalue": {
           "prefix": "Frame: "
          },
          "steps": [
           {
            "args": [
             [
              "0"
             ],
             {
              "frame": {
               "duration": 50,
               "redraw": true
              },
              "mode": "immediate"
             }
            ],
            "label": "0",
            "method": "animate"
           },
           {
            "args": [
             [
              "1"
             ],
             {
              "frame": {
               "duration": 50,
               "redraw": true
              },
              "mode": "immediate"
             }
            ],
            "label": "1",
            "method": "animate"
           },
           {
            "args": [
             [
              "2"
             ],
             {
              "frame": {
               "duration": 50,
               "redraw": true
              },
              "mode": "immediate"
             }
            ],
            "label": "2",
            "method": "animate"
           },
           {
            "args": [
             [
              "3"
             ],
             {
              "frame": {
               "duration": 50,
               "redraw": true
              },
              "mode": "immediate"
             }
            ],
            "label": "3",
            "method": "animate"
           },
           {
            "args": [
             [
              "4"
             ],
             {
              "frame": {
               "duration": 50,
               "redraw": true
              },
              "mode": "immediate"
             }
            ],
            "label": "4",
            "method": "animate"
           },
           {
            "args": [
             [
              "5"
             ],
             {
              "frame": {
               "duration": 50,
               "redraw": true
              },
              "mode": "immediate"
             }
            ],
            "label": "5",
            "method": "animate"
           },
           {
            "args": [
             [
              "6"
             ],
             {
              "frame": {
               "duration": 50,
               "redraw": true
              },
              "mode": "immediate"
             }
            ],
            "label": "6",
            "method": "animate"
           },
           {
            "args": [
             [
              "7"
             ],
             {
              "frame": {
               "duration": 50,
               "redraw": true
              },
              "mode": "immediate"
             }
            ],
            "label": "7",
            "method": "animate"
           },
           {
            "args": [
             [
              "8"
             ],
             {
              "frame": {
               "duration": 50,
               "redraw": true
              },
              "mode": "immediate"
             }
            ],
            "label": "8",
            "method": "animate"
           },
           {
            "args": [
             [
              "9"
             ],
             {
              "frame": {
               "duration": 50,
               "redraw": true
              },
              "mode": "immediate"
             }
            ],
            "label": "9",
            "method": "animate"
           },
           {
            "args": [
             [
              "10"
             ],
             {
              "frame": {
               "duration": 50,
               "redraw": true
              },
              "mode": "immediate"
             }
            ],
            "label": "10",
            "method": "animate"
           },
           {
            "args": [
             [
              "11"
             ],
             {
              "frame": {
               "duration": 50,
               "redraw": true
              },
              "mode": "immediate"
             }
            ],
            "label": "11",
            "method": "animate"
           },
           {
            "args": [
             [
              "12"
             ],
             {
              "frame": {
               "duration": 50,
               "redraw": true
              },
              "mode": "immediate"
             }
            ],
            "label": "12",
            "method": "animate"
           },
           {
            "args": [
             [
              "13"
             ],
             {
              "frame": {
               "duration": 50,
               "redraw": true
              },
              "mode": "immediate"
             }
            ],
            "label": "13",
            "method": "animate"
           },
           {
            "args": [
             [
              "14"
             ],
             {
              "frame": {
               "duration": 50,
               "redraw": true
              },
              "mode": "immediate"
             }
            ],
            "label": "14",
            "method": "animate"
           },
           {
            "args": [
             [
              "15"
             ],
             {
              "frame": {
               "duration": 50,
               "redraw": true
              },
              "mode": "immediate"
             }
            ],
            "label": "15",
            "method": "animate"
           },
           {
            "args": [
             [
              "16"
             ],
             {
              "frame": {
               "duration": 50,
               "redraw": true
              },
              "mode": "immediate"
             }
            ],
            "label": "16",
            "method": "animate"
           },
           {
            "args": [
             [
              "17"
             ],
             {
              "frame": {
               "duration": 50,
               "redraw": true
              },
              "mode": "immediate"
             }
            ],
            "label": "17",
            "method": "animate"
           },
           {
            "args": [
             [
              "18"
             ],
             {
              "frame": {
               "duration": 50,
               "redraw": true
              },
              "mode": "immediate"
             }
            ],
            "label": "18",
            "method": "animate"
           },
           {
            "args": [
             [
              "19"
             ],
             {
              "frame": {
               "duration": 50,
               "redraw": true
              },
              "mode": "immediate"
             }
            ],
            "label": "19",
            "method": "animate"
           },
           {
            "args": [
             [
              "20"
             ],
             {
              "frame": {
               "duration": 50,
               "redraw": true
              },
              "mode": "immediate"
             }
            ],
            "label": "20",
            "method": "animate"
           },
           {
            "args": [
             [
              "21"
             ],
             {
              "frame": {
               "duration": 50,
               "redraw": true
              },
              "mode": "immediate"
             }
            ],
            "label": "21",
            "method": "animate"
           },
           {
            "args": [
             [
              "22"
             ],
             {
              "frame": {
               "duration": 50,
               "redraw": true
              },
              "mode": "immediate"
             }
            ],
            "label": "22",
            "method": "animate"
           },
           {
            "args": [
             [
              "23"
             ],
             {
              "frame": {
               "duration": 50,
               "redraw": true
              },
              "mode": "immediate"
             }
            ],
            "label": "23",
            "method": "animate"
           },
           {
            "args": [
             [
              "24"
             ],
             {
              "frame": {
               "duration": 50,
               "redraw": true
              },
              "mode": "immediate"
             }
            ],
            "label": "24",
            "method": "animate"
           },
           {
            "args": [
             [
              "25"
             ],
             {
              "frame": {
               "duration": 50,
               "redraw": true
              },
              "mode": "immediate"
             }
            ],
            "label": "25",
            "method": "animate"
           },
           {
            "args": [
             [
              "26"
             ],
             {
              "frame": {
               "duration": 50,
               "redraw": true
              },
              "mode": "immediate"
             }
            ],
            "label": "26",
            "method": "animate"
           },
           {
            "args": [
             [
              "27"
             ],
             {
              "frame": {
               "duration": 50,
               "redraw": true
              },
              "mode": "immediate"
             }
            ],
            "label": "27",
            "method": "animate"
           },
           {
            "args": [
             [
              "28"
             ],
             {
              "frame": {
               "duration": 50,
               "redraw": true
              },
              "mode": "immediate"
             }
            ],
            "label": "28",
            "method": "animate"
           },
           {
            "args": [
             [
              "29"
             ],
             {
              "frame": {
               "duration": 50,
               "redraw": true
              },
              "mode": "immediate"
             }
            ],
            "label": "29",
            "method": "animate"
           },
           {
            "args": [
             [
              "30"
             ],
             {
              "frame": {
               "duration": 50,
               "redraw": true
              },
              "mode": "immediate"
             }
            ],
            "label": "30",
            "method": "animate"
           },
           {
            "args": [
             [
              "31"
             ],
             {
              "frame": {
               "duration": 50,
               "redraw": true
              },
              "mode": "immediate"
             }
            ],
            "label": "31",
            "method": "animate"
           },
           {
            "args": [
             [
              "32"
             ],
             {
              "frame": {
               "duration": 50,
               "redraw": true
              },
              "mode": "immediate"
             }
            ],
            "label": "32",
            "method": "animate"
           },
           {
            "args": [
             [
              "33"
             ],
             {
              "frame": {
               "duration": 50,
               "redraw": true
              },
              "mode": "immediate"
             }
            ],
            "label": "33",
            "method": "animate"
           },
           {
            "args": [
             [
              "34"
             ],
             {
              "frame": {
               "duration": 50,
               "redraw": true
              },
              "mode": "immediate"
             }
            ],
            "label": "34",
            "method": "animate"
           },
           {
            "args": [
             [
              "35"
             ],
             {
              "frame": {
               "duration": 50,
               "redraw": true
              },
              "mode": "immediate"
             }
            ],
            "label": "35",
            "method": "animate"
           },
           {
            "args": [
             [
              "36"
             ],
             {
              "frame": {
               "duration": 50,
               "redraw": true
              },
              "mode": "immediate"
             }
            ],
            "label": "36",
            "method": "animate"
           },
           {
            "args": [
             [
              "37"
             ],
             {
              "frame": {
               "duration": 50,
               "redraw": true
              },
              "mode": "immediate"
             }
            ],
            "label": "37",
            "method": "animate"
           },
           {
            "args": [
             [
              "38"
             ],
             {
              "frame": {
               "duration": 50,
               "redraw": true
              },
              "mode": "immediate"
             }
            ],
            "label": "38",
            "method": "animate"
           },
           {
            "args": [
             [
              "39"
             ],
             {
              "frame": {
               "duration": 50,
               "redraw": true
              },
              "mode": "immediate"
             }
            ],
            "label": "39",
            "method": "animate"
           },
           {
            "args": [
             [
              "40"
             ],
             {
              "frame": {
               "duration": 50,
               "redraw": true
              },
              "mode": "immediate"
             }
            ],
            "label": "40",
            "method": "animate"
           },
           {
            "args": [
             [
              "41"
             ],
             {
              "frame": {
               "duration": 50,
               "redraw": true
              },
              "mode": "immediate"
             }
            ],
            "label": "41",
            "method": "animate"
           },
           {
            "args": [
             [
              "42"
             ],
             {
              "frame": {
               "duration": 50,
               "redraw": true
              },
              "mode": "immediate"
             }
            ],
            "label": "42",
            "method": "animate"
           },
           {
            "args": [
             [
              "43"
             ],
             {
              "frame": {
               "duration": 50,
               "redraw": true
              },
              "mode": "immediate"
             }
            ],
            "label": "43",
            "method": "animate"
           },
           {
            "args": [
             [
              "44"
             ],
             {
              "frame": {
               "duration": 50,
               "redraw": true
              },
              "mode": "immediate"
             }
            ],
            "label": "44",
            "method": "animate"
           },
           {
            "args": [
             [
              "45"
             ],
             {
              "frame": {
               "duration": 50,
               "redraw": true
              },
              "mode": "immediate"
             }
            ],
            "label": "45",
            "method": "animate"
           },
           {
            "args": [
             [
              "46"
             ],
             {
              "frame": {
               "duration": 50,
               "redraw": true
              },
              "mode": "immediate"
             }
            ],
            "label": "46",
            "method": "animate"
           },
           {
            "args": [
             [
              "47"
             ],
             {
              "frame": {
               "duration": 50,
               "redraw": true
              },
              "mode": "immediate"
             }
            ],
            "label": "47",
            "method": "animate"
           },
           {
            "args": [
             [
              "48"
             ],
             {
              "frame": {
               "duration": 50,
               "redraw": true
              },
              "mode": "immediate"
             }
            ],
            "label": "48",
            "method": "animate"
           },
           {
            "args": [
             [
              "49"
             ],
             {
              "frame": {
               "duration": 50,
               "redraw": true
              },
              "mode": "immediate"
             }
            ],
            "label": "49",
            "method": "animate"
           },
           {
            "args": [
             [
              "50"
             ],
             {
              "frame": {
               "duration": 50,
               "redraw": true
              },
              "mode": "immediate"
             }
            ],
            "label": "50",
            "method": "animate"
           },
           {
            "args": [
             [
              "51"
             ],
             {
              "frame": {
               "duration": 50,
               "redraw": true
              },
              "mode": "immediate"
             }
            ],
            "label": "51",
            "method": "animate"
           },
           {
            "args": [
             [
              "52"
             ],
             {
              "frame": {
               "duration": 50,
               "redraw": true
              },
              "mode": "immediate"
             }
            ],
            "label": "52",
            "method": "animate"
           },
           {
            "args": [
             [
              "53"
             ],
             {
              "frame": {
               "duration": 50,
               "redraw": true
              },
              "mode": "immediate"
             }
            ],
            "label": "53",
            "method": "animate"
           },
           {
            "args": [
             [
              "54"
             ],
             {
              "frame": {
               "duration": 50,
               "redraw": true
              },
              "mode": "immediate"
             }
            ],
            "label": "54",
            "method": "animate"
           },
           {
            "args": [
             [
              "55"
             ],
             {
              "frame": {
               "duration": 50,
               "redraw": true
              },
              "mode": "immediate"
             }
            ],
            "label": "55",
            "method": "animate"
           },
           {
            "args": [
             [
              "56"
             ],
             {
              "frame": {
               "duration": 50,
               "redraw": true
              },
              "mode": "immediate"
             }
            ],
            "label": "56",
            "method": "animate"
           },
           {
            "args": [
             [
              "57"
             ],
             {
              "frame": {
               "duration": 50,
               "redraw": true
              },
              "mode": "immediate"
             }
            ],
            "label": "57",
            "method": "animate"
           },
           {
            "args": [
             [
              "58"
             ],
             {
              "frame": {
               "duration": 50,
               "redraw": true
              },
              "mode": "immediate"
             }
            ],
            "label": "58",
            "method": "animate"
           },
           {
            "args": [
             [
              "59"
             ],
             {
              "frame": {
               "duration": 50,
               "redraw": true
              },
              "mode": "immediate"
             }
            ],
            "label": "59",
            "method": "animate"
           },
           {
            "args": [
             [
              "60"
             ],
             {
              "frame": {
               "duration": 50,
               "redraw": true
              },
              "mode": "immediate"
             }
            ],
            "label": "60",
            "method": "animate"
           },
           {
            "args": [
             [
              "61"
             ],
             {
              "frame": {
               "duration": 50,
               "redraw": true
              },
              "mode": "immediate"
             }
            ],
            "label": "61",
            "method": "animate"
           },
           {
            "args": [
             [
              "62"
             ],
             {
              "frame": {
               "duration": 50,
               "redraw": true
              },
              "mode": "immediate"
             }
            ],
            "label": "62",
            "method": "animate"
           },
           {
            "args": [
             [
              "63"
             ],
             {
              "frame": {
               "duration": 50,
               "redraw": true
              },
              "mode": "immediate"
             }
            ],
            "label": "63",
            "method": "animate"
           },
           {
            "args": [
             [
              "64"
             ],
             {
              "frame": {
               "duration": 50,
               "redraw": true
              },
              "mode": "immediate"
             }
            ],
            "label": "64",
            "method": "animate"
           },
           {
            "args": [
             [
              "65"
             ],
             {
              "frame": {
               "duration": 50,
               "redraw": true
              },
              "mode": "immediate"
             }
            ],
            "label": "65",
            "method": "animate"
           },
           {
            "args": [
             [
              "66"
             ],
             {
              "frame": {
               "duration": 50,
               "redraw": true
              },
              "mode": "immediate"
             }
            ],
            "label": "66",
            "method": "animate"
           },
           {
            "args": [
             [
              "67"
             ],
             {
              "frame": {
               "duration": 50,
               "redraw": true
              },
              "mode": "immediate"
             }
            ],
            "label": "67",
            "method": "animate"
           },
           {
            "args": [
             [
              "68"
             ],
             {
              "frame": {
               "duration": 50,
               "redraw": true
              },
              "mode": "immediate"
             }
            ],
            "label": "68",
            "method": "animate"
           },
           {
            "args": [
             [
              "69"
             ],
             {
              "frame": {
               "duration": 50,
               "redraw": true
              },
              "mode": "immediate"
             }
            ],
            "label": "69",
            "method": "animate"
           },
           {
            "args": [
             [
              "70"
             ],
             {
              "frame": {
               "duration": 50,
               "redraw": true
              },
              "mode": "immediate"
             }
            ],
            "label": "70",
            "method": "animate"
           },
           {
            "args": [
             [
              "71"
             ],
             {
              "frame": {
               "duration": 50,
               "redraw": true
              },
              "mode": "immediate"
             }
            ],
            "label": "71",
            "method": "animate"
           },
           {
            "args": [
             [
              "72"
             ],
             {
              "frame": {
               "duration": 50,
               "redraw": true
              },
              "mode": "immediate"
             }
            ],
            "label": "72",
            "method": "animate"
           },
           {
            "args": [
             [
              "73"
             ],
             {
              "frame": {
               "duration": 50,
               "redraw": true
              },
              "mode": "immediate"
             }
            ],
            "label": "73",
            "method": "animate"
           },
           {
            "args": [
             [
              "74"
             ],
             {
              "frame": {
               "duration": 50,
               "redraw": true
              },
              "mode": "immediate"
             }
            ],
            "label": "74",
            "method": "animate"
           },
           {
            "args": [
             [
              "75"
             ],
             {
              "frame": {
               "duration": 50,
               "redraw": true
              },
              "mode": "immediate"
             }
            ],
            "label": "75",
            "method": "animate"
           },
           {
            "args": [
             [
              "76"
             ],
             {
              "frame": {
               "duration": 50,
               "redraw": true
              },
              "mode": "immediate"
             }
            ],
            "label": "76",
            "method": "animate"
           },
           {
            "args": [
             [
              "77"
             ],
             {
              "frame": {
               "duration": 50,
               "redraw": true
              },
              "mode": "immediate"
             }
            ],
            "label": "77",
            "method": "animate"
           },
           {
            "args": [
             [
              "78"
             ],
             {
              "frame": {
               "duration": 50,
               "redraw": true
              },
              "mode": "immediate"
             }
            ],
            "label": "78",
            "method": "animate"
           },
           {
            "args": [
             [
              "79"
             ],
             {
              "frame": {
               "duration": 50,
               "redraw": true
              },
              "mode": "immediate"
             }
            ],
            "label": "79",
            "method": "animate"
           },
           {
            "args": [
             [
              "80"
             ],
             {
              "frame": {
               "duration": 50,
               "redraw": true
              },
              "mode": "immediate"
             }
            ],
            "label": "80",
            "method": "animate"
           },
           {
            "args": [
             [
              "81"
             ],
             {
              "frame": {
               "duration": 50,
               "redraw": true
              },
              "mode": "immediate"
             }
            ],
            "label": "81",
            "method": "animate"
           },
           {
            "args": [
             [
              "82"
             ],
             {
              "frame": {
               "duration": 50,
               "redraw": true
              },
              "mode": "immediate"
             }
            ],
            "label": "82",
            "method": "animate"
           },
           {
            "args": [
             [
              "83"
             ],
             {
              "frame": {
               "duration": 50,
               "redraw": true
              },
              "mode": "immediate"
             }
            ],
            "label": "83",
            "method": "animate"
           },
           {
            "args": [
             [
              "84"
             ],
             {
              "frame": {
               "duration": 50,
               "redraw": true
              },
              "mode": "immediate"
             }
            ],
            "label": "84",
            "method": "animate"
           },
           {
            "args": [
             [
              "85"
             ],
             {
              "frame": {
               "duration": 50,
               "redraw": true
              },
              "mode": "immediate"
             }
            ],
            "label": "85",
            "method": "animate"
           },
           {
            "args": [
             [
              "86"
             ],
             {
              "frame": {
               "duration": 50,
               "redraw": true
              },
              "mode": "immediate"
             }
            ],
            "label": "86",
            "method": "animate"
           },
           {
            "args": [
             [
              "87"
             ],
             {
              "frame": {
               "duration": 50,
               "redraw": true
              },
              "mode": "immediate"
             }
            ],
            "label": "87",
            "method": "animate"
           },
           {
            "args": [
             [
              "88"
             ],
             {
              "frame": {
               "duration": 50,
               "redraw": true
              },
              "mode": "immediate"
             }
            ],
            "label": "88",
            "method": "animate"
           },
           {
            "args": [
             [
              "89"
             ],
             {
              "frame": {
               "duration": 50,
               "redraw": true
              },
              "mode": "immediate"
             }
            ],
            "label": "89",
            "method": "animate"
           },
           {
            "args": [
             [
              "90"
             ],
             {
              "frame": {
               "duration": 50,
               "redraw": true
              },
              "mode": "immediate"
             }
            ],
            "label": "90",
            "method": "animate"
           },
           {
            "args": [
             [
              "91"
             ],
             {
              "frame": {
               "duration": 50,
               "redraw": true
              },
              "mode": "immediate"
             }
            ],
            "label": "91",
            "method": "animate"
           },
           {
            "args": [
             [
              "92"
             ],
             {
              "frame": {
               "duration": 50,
               "redraw": true
              },
              "mode": "immediate"
             }
            ],
            "label": "92",
            "method": "animate"
           },
           {
            "args": [
             [
              "93"
             ],
             {
              "frame": {
               "duration": 50,
               "redraw": true
              },
              "mode": "immediate"
             }
            ],
            "label": "93",
            "method": "animate"
           },
           {
            "args": [
             [
              "94"
             ],
             {
              "frame": {
               "duration": 50,
               "redraw": true
              },
              "mode": "immediate"
             }
            ],
            "label": "94",
            "method": "animate"
           },
           {
            "args": [
             [
              "95"
             ],
             {
              "frame": {
               "duration": 50,
               "redraw": true
              },
              "mode": "immediate"
             }
            ],
            "label": "95",
            "method": "animate"
           },
           {
            "args": [
             [
              "96"
             ],
             {
              "frame": {
               "duration": 50,
               "redraw": true
              },
              "mode": "immediate"
             }
            ],
            "label": "96",
            "method": "animate"
           },
           {
            "args": [
             [
              "97"
             ],
             {
              "frame": {
               "duration": 50,
               "redraw": true
              },
              "mode": "immediate"
             }
            ],
            "label": "97",
            "method": "animate"
           },
           {
            "args": [
             [
              "98"
             ],
             {
              "frame": {
               "duration": 50,
               "redraw": true
              },
              "mode": "immediate"
             }
            ],
            "label": "98",
            "method": "animate"
           },
           {
            "args": [
             [
              "99"
             ],
             {
              "frame": {
               "duration": 50,
               "redraw": true
              },
              "mode": "immediate"
             }
            ],
            "label": "99",
            "method": "animate"
           }
          ],
          "transition": {
           "duration": 0
          },
          "x": 0.1,
          "y": 0
         }
        ],
        "template": {
         "data": {
          "bar": [
           {
            "error_x": {
             "color": "#2a3f5f"
            },
            "error_y": {
             "color": "#2a3f5f"
            },
            "marker": {
             "line": {
              "color": "#E5ECF6",
              "width": 0.5
             },
             "pattern": {
              "fillmode": "overlay",
              "size": 10,
              "solidity": 0.2
             }
            },
            "type": "bar"
           }
          ],
          "barpolar": [
           {
            "marker": {
             "line": {
              "color": "#E5ECF6",
              "width": 0.5
             },
             "pattern": {
              "fillmode": "overlay",
              "size": 10,
              "solidity": 0.2
             }
            },
            "type": "barpolar"
           }
          ],
          "carpet": [
           {
            "aaxis": {
             "endlinecolor": "#2a3f5f",
             "gridcolor": "white",
             "linecolor": "white",
             "minorgridcolor": "white",
             "startlinecolor": "#2a3f5f"
            },
            "baxis": {
             "endlinecolor": "#2a3f5f",
             "gridcolor": "white",
             "linecolor": "white",
             "minorgridcolor": "white",
             "startlinecolor": "#2a3f5f"
            },
            "type": "carpet"
           }
          ],
          "choropleth": [
           {
            "colorbar": {
             "outlinewidth": 0,
             "ticks": ""
            },
            "type": "choropleth"
           }
          ],
          "contour": [
           {
            "colorbar": {
             "outlinewidth": 0,
             "ticks": ""
            },
            "colorscale": [
             [
              0,
              "#0d0887"
             ],
             [
              0.1111111111111111,
              "#46039f"
             ],
             [
              0.2222222222222222,
              "#7201a8"
             ],
             [
              0.3333333333333333,
              "#9c179e"
             ],
             [
              0.4444444444444444,
              "#bd3786"
             ],
             [
              0.5555555555555556,
              "#d8576b"
             ],
             [
              0.6666666666666666,
              "#ed7953"
             ],
             [
              0.7777777777777778,
              "#fb9f3a"
             ],
             [
              0.8888888888888888,
              "#fdca26"
             ],
             [
              1,
              "#f0f921"
             ]
            ],
            "type": "contour"
           }
          ],
          "contourcarpet": [
           {
            "colorbar": {
             "outlinewidth": 0,
             "ticks": ""
            },
            "type": "contourcarpet"
           }
          ],
          "heatmap": [
           {
            "colorbar": {
             "outlinewidth": 0,
             "ticks": ""
            },
            "colorscale": [
             [
              0,
              "#0d0887"
             ],
             [
              0.1111111111111111,
              "#46039f"
             ],
             [
              0.2222222222222222,
              "#7201a8"
             ],
             [
              0.3333333333333333,
              "#9c179e"
             ],
             [
              0.4444444444444444,
              "#bd3786"
             ],
             [
              0.5555555555555556,
              "#d8576b"
             ],
             [
              0.6666666666666666,
              "#ed7953"
             ],
             [
              0.7777777777777778,
              "#fb9f3a"
             ],
             [
              0.8888888888888888,
              "#fdca26"
             ],
             [
              1,
              "#f0f921"
             ]
            ],
            "type": "heatmap"
           }
          ],
          "histogram": [
           {
            "marker": {
             "pattern": {
              "fillmode": "overlay",
              "size": 10,
              "solidity": 0.2
             }
            },
            "type": "histogram"
           }
          ],
          "histogram2d": [
           {
            "colorbar": {
             "outlinewidth": 0,
             "ticks": ""
            },
            "colorscale": [
             [
              0,
              "#0d0887"
             ],
             [
              0.1111111111111111,
              "#46039f"
             ],
             [
              0.2222222222222222,
              "#7201a8"
             ],
             [
              0.3333333333333333,
              "#9c179e"
             ],
             [
              0.4444444444444444,
              "#bd3786"
             ],
             [
              0.5555555555555556,
              "#d8576b"
             ],
             [
              0.6666666666666666,
              "#ed7953"
             ],
             [
              0.7777777777777778,
              "#fb9f3a"
             ],
             [
              0.8888888888888888,
              "#fdca26"
             ],
             [
              1,
              "#f0f921"
             ]
            ],
            "type": "histogram2d"
           }
          ],
          "histogram2dcontour": [
           {
            "colorbar": {
             "outlinewidth": 0,
             "ticks": ""
            },
            "colorscale": [
             [
              0,
              "#0d0887"
             ],
             [
              0.1111111111111111,
              "#46039f"
             ],
             [
              0.2222222222222222,
              "#7201a8"
             ],
             [
              0.3333333333333333,
              "#9c179e"
             ],
             [
              0.4444444444444444,
              "#bd3786"
             ],
             [
              0.5555555555555556,
              "#d8576b"
             ],
             [
              0.6666666666666666,
              "#ed7953"
             ],
             [
              0.7777777777777778,
              "#fb9f3a"
             ],
             [
              0.8888888888888888,
              "#fdca26"
             ],
             [
              1,
              "#f0f921"
             ]
            ],
            "type": "histogram2dcontour"
           }
          ],
          "mesh3d": [
           {
            "colorbar": {
             "outlinewidth": 0,
             "ticks": ""
            },
            "type": "mesh3d"
           }
          ],
          "parcoords": [
           {
            "line": {
             "colorbar": {
              "outlinewidth": 0,
              "ticks": ""
             }
            },
            "type": "parcoords"
           }
          ],
          "pie": [
           {
            "automargin": true,
            "type": "pie"
           }
          ],
          "scatter": [
           {
            "fillpattern": {
             "fillmode": "overlay",
             "size": 10,
             "solidity": 0.2
            },
            "type": "scatter"
           }
          ],
          "scatter3d": [
           {
            "line": {
             "colorbar": {
              "outlinewidth": 0,
              "ticks": ""
             }
            },
            "marker": {
             "colorbar": {
              "outlinewidth": 0,
              "ticks": ""
             }
            },
            "type": "scatter3d"
           }
          ],
          "scattercarpet": [
           {
            "marker": {
             "colorbar": {
              "outlinewidth": 0,
              "ticks": ""
             }
            },
            "type": "scattercarpet"
           }
          ],
          "scattergeo": [
           {
            "marker": {
             "colorbar": {
              "outlinewidth": 0,
              "ticks": ""
             }
            },
            "type": "scattergeo"
           }
          ],
          "scattergl": [
           {
            "marker": {
             "colorbar": {
              "outlinewidth": 0,
              "ticks": ""
             }
            },
            "type": "scattergl"
           }
          ],
          "scattermap": [
           {
            "marker": {
             "colorbar": {
              "outlinewidth": 0,
              "ticks": ""
             }
            },
            "type": "scattermap"
           }
          ],
          "scattermapbox": [
           {
            "marker": {
             "colorbar": {
              "outlinewidth": 0,
              "ticks": ""
             }
            },
            "type": "scattermapbox"
           }
          ],
          "scatterpolar": [
           {
            "marker": {
             "colorbar": {
              "outlinewidth": 0,
              "ticks": ""
             }
            },
            "type": "scatterpolar"
           }
          ],
          "scatterpolargl": [
           {
            "marker": {
             "colorbar": {
              "outlinewidth": 0,
              "ticks": ""
             }
            },
            "type": "scatterpolargl"
           }
          ],
          "scatterternary": [
           {
            "marker": {
             "colorbar": {
              "outlinewidth": 0,
              "ticks": ""
             }
            },
            "type": "scatterternary"
           }
          ],
          "surface": [
           {
            "colorbar": {
             "outlinewidth": 0,
             "ticks": ""
            },
            "colorscale": [
             [
              0,
              "#0d0887"
             ],
             [
              0.1111111111111111,
              "#46039f"
             ],
             [
              0.2222222222222222,
              "#7201a8"
             ],
             [
              0.3333333333333333,
              "#9c179e"
             ],
             [
              0.4444444444444444,
              "#bd3786"
             ],
             [
              0.5555555555555556,
              "#d8576b"
             ],
             [
              0.6666666666666666,
              "#ed7953"
             ],
             [
              0.7777777777777778,
              "#fb9f3a"
             ],
             [
              0.8888888888888888,
              "#fdca26"
             ],
             [
              1,
              "#f0f921"
             ]
            ],
            "type": "surface"
           }
          ],
          "table": [
           {
            "cells": {
             "fill": {
              "color": "#EBF0F8"
             },
             "line": {
              "color": "white"
             }
            },
            "header": {
             "fill": {
              "color": "#C8D4E3"
             },
             "line": {
              "color": "white"
             }
            },
            "type": "table"
           }
          ]
         },
         "layout": {
          "annotationdefaults": {
           "arrowcolor": "#2a3f5f",
           "arrowhead": 0,
           "arrowwidth": 1
          },
          "autotypenumbers": "strict",
          "coloraxis": {
           "colorbar": {
            "outlinewidth": 0,
            "ticks": ""
           }
          },
          "colorscale": {
           "diverging": [
            [
             0,
             "#8e0152"
            ],
            [
             0.1,
             "#c51b7d"
            ],
            [
             0.2,
             "#de77ae"
            ],
            [
             0.3,
             "#f1b6da"
            ],
            [
             0.4,
             "#fde0ef"
            ],
            [
             0.5,
             "#f7f7f7"
            ],
            [
             0.6,
             "#e6f5d0"
            ],
            [
             0.7,
             "#b8e186"
            ],
            [
             0.8,
             "#7fbc41"
            ],
            [
             0.9,
             "#4d9221"
            ],
            [
             1,
             "#276419"
            ]
           ],
           "sequential": [
            [
             0,
             "#0d0887"
            ],
            [
             0.1111111111111111,
             "#46039f"
            ],
            [
             0.2222222222222222,
             "#7201a8"
            ],
            [
             0.3333333333333333,
             "#9c179e"
            ],
            [
             0.4444444444444444,
             "#bd3786"
            ],
            [
             0.5555555555555556,
             "#d8576b"
            ],
            [
             0.6666666666666666,
             "#ed7953"
            ],
            [
             0.7777777777777778,
             "#fb9f3a"
            ],
            [
             0.8888888888888888,
             "#fdca26"
            ],
            [
             1,
             "#f0f921"
            ]
           ],
           "sequentialminus": [
            [
             0,
             "#0d0887"
            ],
            [
             0.1111111111111111,
             "#46039f"
            ],
            [
             0.2222222222222222,
             "#7201a8"
            ],
            [
             0.3333333333333333,
             "#9c179e"
            ],
            [
             0.4444444444444444,
             "#bd3786"
            ],
            [
             0.5555555555555556,
             "#d8576b"
            ],
            [
             0.6666666666666666,
             "#ed7953"
            ],
            [
             0.7777777777777778,
             "#fb9f3a"
            ],
            [
             0.8888888888888888,
             "#fdca26"
            ],
            [
             1,
             "#f0f921"
            ]
           ]
          },
          "colorway": [
           "#636efa",
           "#EF553B",
           "#00cc96",
           "#ab63fa",
           "#FFA15A",
           "#19d3f3",
           "#FF6692",
           "#B6E880",
           "#FF97FF",
           "#FECB52"
          ],
          "font": {
           "color": "#2a3f5f"
          },
          "geo": {
           "bgcolor": "white",
           "lakecolor": "white",
           "landcolor": "#E5ECF6",
           "showlakes": true,
           "showland": true,
           "subunitcolor": "white"
          },
          "hoverlabel": {
           "align": "left"
          },
          "hovermode": "closest",
          "mapbox": {
           "style": "light"
          },
          "paper_bgcolor": "white",
          "plot_bgcolor": "#E5ECF6",
          "polar": {
           "angularaxis": {
            "gridcolor": "white",
            "linecolor": "white",
            "ticks": ""
           },
           "bgcolor": "#E5ECF6",
           "radialaxis": {
            "gridcolor": "white",
            "linecolor": "white",
            "ticks": ""
           }
          },
          "scene": {
           "xaxis": {
            "backgroundcolor": "#E5ECF6",
            "gridcolor": "white",
            "gridwidth": 2,
            "linecolor": "white",
            "showbackground": true,
            "ticks": "",
            "zerolinecolor": "white"
           },
           "yaxis": {
            "backgroundcolor": "#E5ECF6",
            "gridcolor": "white",
            "gridwidth": 2,
            "linecolor": "white",
            "showbackground": true,
            "ticks": "",
            "zerolinecolor": "white"
           },
           "zaxis": {
            "backgroundcolor": "#E5ECF6",
            "gridcolor": "white",
            "gridwidth": 2,
            "linecolor": "white",
            "showbackground": true,
            "ticks": "",
            "zerolinecolor": "white"
           }
          },
          "shapedefaults": {
           "line": {
            "color": "#2a3f5f"
           }
          },
          "ternary": {
           "aaxis": {
            "gridcolor": "white",
            "linecolor": "white",
            "ticks": ""
           },
           "baxis": {
            "gridcolor": "white",
            "linecolor": "white",
            "ticks": ""
           },
           "bgcolor": "#E5ECF6",
           "caxis": {
            "gridcolor": "white",
            "linecolor": "white",
            "ticks": ""
           }
          },
          "title": {
           "x": 0.05
          },
          "xaxis": {
           "automargin": true,
           "gridcolor": "white",
           "linecolor": "white",
           "ticks": "",
           "title": {
            "standoff": 15
           },
           "zerolinecolor": "white",
           "zerolinewidth": 2
          },
          "yaxis": {
           "automargin": true,
           "gridcolor": "white",
           "linecolor": "white",
           "ticks": "",
           "title": {
            "standoff": 15
           },
           "zerolinecolor": "white",
           "zerolinewidth": 2
          }
         }
        },
        "title": {
         "text": "Rod Cantilever (N=51)"
        },
        "updatemenus": [
         {
          "buttons": [
           {
            "args": [
             null,
             {
              "frame": {
               "duration": 50,
               "redraw": true
              },
              "fromcurrent": true
             }
            ],
            "label": "Play",
            "method": "animate"
           },
           {
            "args": [
             [
              null
             ],
             {
              "frame": {
               "duration": 0,
               "redraw": true
              },
              "mode": "immediate"
             }
            ],
            "label": "Pause",
            "method": "animate"
           }
          ],
          "direction": "left",
          "pad": {
           "r": 10,
           "t": 87
          },
          "showactive": false,
          "type": "buttons",
          "x": 0.1,
          "xanchor": "right",
          "y": 0,
          "yanchor": "top"
         }
        ]
       }
      }
     },
     "metadata": {},
     "output_type": "display_data"
    }
   ],
   "source": [
    "t = np.arange(robot.sim_params.total_time, step=robot.sim_params.dt)\n",
    "options = dismech.AnimationOptions(title='Rod Cantilever (N=51)')\n",
    "\n",
    "fig = dismech.get_interactive_animation_plotly(robot, t, qs, options)\n",
    "fig.show()"
   ]
  },
  {
   "cell_type": "code",
   "execution_count": 17,
   "metadata": {},
   "outputs": [
    {
     "name": "stdout",
     "output_type": "stream",
     "text": [
      "100\n"
     ]
    },
    {
     "data": {
      "image/png": "[encoded data removed]",
      "text/plain": [
       "<Figure size 640x480 with 1 Axes>"
      ]
     },
     "metadata": {},
     "output_type": "display_data"
    }
   ],
   "source": [
    "ani = dismech.get_animation(robot, t, qs, options)\n",
    "ani.save('1e-5.gif')"
   ]
  }
 ],
 "metadata": {
  "kernelspec": {
   "display_name": ".venv",
   "language": "python",
   "name": "python3"
  },
  "language_info": {
   "codemirror_mode": {
    "name": "ipython",
    "version": 3
   },
   "file_extension": ".py",
   "mimetype": "text/x-python",
   "name": "python",
   "nbconvert_exporter": "python",
   "pygments_lexer": "ipython3",
   "version": "3.12.1"
  }
 },
 "nbformat": 4,
 "nbformat_minor": 2
}
