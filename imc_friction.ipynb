{
 "cells": [
  {
   "cell_type": "code",
   "execution_count": 10,
   "id": "fb3add12",
   "metadata": {},
   "outputs": [
    {
     "name": "stdout",
     "output_type": "stream",
     "text": [
      "The autoreload extension is already loaded. To reload it, use:\n",
      "  %reload_ext autoreload\n"
     ]
    }
   ],
   "source": [
    "%load_ext autoreload\n",
    "%autoreload 2"
   ]
  },
  {
   "cell_type": "code",
   "execution_count": 13,
   "id": "1689966a",
   "metadata": {},
   "outputs": [],
   "source": [
    "import numpy as np\n",
    "\n",
    "import dismech\n",
    "\n",
    "b = 0.02\n",
    "h = 0.001\n",
    "\n",
    "geom = dismech.GeomParams(rod_r0=0.001,\n",
    "                          shell_h=0,\n",
    "                          axs=b*h,\n",
    "                          ixs1=b*h**3/12,\n",
    "                          ixs2=h*b**3/12,\n",
    "                          jxs=b*h**3/6)\n",
    "\n",
    "material = dismech.Material(density=1200,\n",
    "                            youngs_rod=2e6,\n",
    "                            youngs_shell=0,\n",
    "                            poisson_rod=0.5,\n",
    "                            poisson_shell=0)\n",
    "\n",
    "static_2d_sim = dismech.SimParams(static_sim=False,\n",
    "                                  two_d_sim=True,   # no twisting\n",
    "                                  use_mid_edge=False,\n",
    "                                  use_line_search=False,\n",
    "                                  show_floor=False,\n",
    "                                  log_data=True,\n",
    "                                  log_step=1,\n",
    "                                  dt=1e-2,\n",
    "                                  max_iter=25,\n",
    "                                  total_time=1.0,\n",
    "                                  plot_step=1,\n",
    "                                  tol=1e-4,\n",
    "                                  ftol=1e-4,\n",
    "                                  dtol=1e-2)\n",
    "\n",
    "env = dismech.Environment()\n",
    "#env.add_force('gravity', g=np.array([0.0, 0.0, -9.81]))\n",
    "env.add_force('selfContact', delta=5e-4, h=2e-3)\n",
    "#env.set_static()   \n",
    "\n",
    "geo = dismech.Geometry.from_txt('input.txt')\n",
    "\n",
    "robot = dismech.SoftRobot(geom, material, geo, static_2d_sim, env)\n",
    "\n",
    "u = robot.state.u\n",
    "u[8] = -0.1\n",
    "u[11] = -0.1"
   ]
  },
  {
   "cell_type": "code",
   "execution_count": 33,
   "id": "3d904562",
   "metadata": {},
   "outputs": [],
   "source": [
    "import dismech\n",
    "import numpy as np\n",
    "\n",
    "pairs = [dismech.ContactPair(np.arange(12), lambda x: x, 1)]\n",
    "a = dismech.IMCFrictionEnergy(pairs, 1e-3, 2e-3, 1e-2, 1e-4)"
   ]
  },
  {
   "cell_type": "code",
   "execution_count": 44,
   "id": "f328352c",
   "metadata": {},
   "outputs": [
    {
     "name": "stdout",
     "output_type": "stream",
     "text": [
      "[0. 0. 0. 0. 0. 0. 0. 0. 0. 0. 0. 0.]\n"
     ]
    },
    {
     "data": {
      "text/plain": [
       "(None, None)"
      ]
     },
     "execution_count": 44,
     "metadata": {},
     "output_type": "execute_result"
    }
   ],
   "source": [
    "a.grad_hess_energy(robot.state)"
   ]
  }
 ],
 "metadata": {
  "kernelspec": {
   "display_name": ".venv",
   "language": "python",
   "name": "python3"
  },
  "language_info": {
   "codemirror_mode": {
    "name": "ipython",
    "version": 3
   },
   "file_extension": ".py",
   "mimetype": "text/x-python",
   "name": "python",
   "nbconvert_exporter": "python",
   "pygments_lexer": "ipython3",
   "version": "3.12.1"
  }
 },
 "nbformat": 4,
 "nbformat_minor": 5
}
