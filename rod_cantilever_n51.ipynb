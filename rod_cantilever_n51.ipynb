{
 "cells": [
  {
   "cell_type": "markdown",
   "metadata": {},
   "source": [
    "## Rod Cantilever Example"
   ]
  },
  {
   "cell_type": "code",
   "execution_count": 36,
   "metadata": {},
   "outputs": [
    {
     "name": "stdout",
     "output_type": "stream",
     "text": [
      "The autoreload extension is already loaded. To reload it, use:\n",
      "  %reload_ext autoreload\n"
     ]
    }
   ],
   "source": [
    "%load_ext autoreload\n",
    "%autoreload 2"
   ]
  },
  {
   "cell_type": "code",
   "execution_count": 37,
   "metadata": {},
   "outputs": [],
   "source": [
    "import numpy as np\n",
    "\n",
    "import dismech\n",
    "\n",
    "b = 0.02\n",
    "h = 0.001\n",
    "\n",
    "geom = dismech.GeomParams(rod_r0=0.001,\n",
    "                          shell_h=0,\n",
    "                          axs=b*h,\n",
    "                          ixs1=b*h**3/12,\n",
    "                          ixs2=h*b**3/12,\n",
    "                          jxs=b*h**3/6)\n",
    "\n",
    "material = dismech.Material(density=1200,\n",
    "                            youngs_rod=2e6,\n",
    "                            youngs_shell=0,\n",
    "                            poisson_rod=0.5,\n",
    "                            poisson_shell=0)\n",
    "\n",
    "static_2d_sim = dismech.SimParams(static_sim=False,\n",
    "                                  two_d_sim=True,   # no twisting\n",
    "                                  use_mid_edge=False,\n",
    "                                  use_line_search=False,\n",
    "                                  show_floor=False,\n",
    "                                  log_data=True,\n",
    "                                  log_step=1,\n",
    "                                  dt=1e-2,\n",
    "                                  max_iter=25,\n",
    "                                  total_time=1.0,\n",
    "                                  plot_step=1,\n",
    "                                  tol=1e-4,\n",
    "                                  ftol=1e-4,\n",
    "                                  dtol=1e-2)\n",
    "\n",
    "env = dismech.Environment()\n",
    "#env.add_force('gravity', g=np.array([0.0, 0.0, -9.81]))\n",
    "env.add_force('selfContact', delta=0.005, h=0.02)\n",
    "#env.set_static()\n",
    "\n",
    "geo = dismech.Geometry.from_txt('input2.txt')\n",
    "\n",
    "robot = dismech.SoftRobot(geom, material, geo, static_2d_sim, env)\n",
    "\n",
    "u = robot.state.u\n",
    "u[8] = -0.1\n",
    "u[11] = -0.1"
   ]
  },
  {
   "cell_type": "markdown",
   "metadata": {},
   "source": [
    "### Time Stepping\n",
    "\n",
    "As we are performing a static simulation, we must change gravity for each time step."
   ]
  },
  {
   "cell_type": "code",
   "execution_count": 38,
   "metadata": {},
   "outputs": [],
   "source": [
    "stepper = dismech.ImplicitEulerTimeStepper(robot)\n",
    "\n",
    "robots = stepper.simulate()\n",
    "\n",
    "qs = np.stack([robot.state.q for robot in robots])"
   ]
  },
  {
   "cell_type": "code",
   "execution_count": 39,
   "metadata": {},
   "outputs": [
    {
     "data": {
      "application/vnd.plotly.v1+json": {
       "config": {
        "plotlyServerURL": "https://plot.ly"
       },
       "data": [
        {
         "marker": {
          "color": "#1f78b4",
          "size": 5
         },
         "mode": "markers",
         "name": "Free Nodes",
         "type": "scatter3d",
         "x": {
          "bdata": "AAAAAAAAAAAAAAAAAADwPwAAAAAAAOA/AAAAAAAA4D8=",
          "dtype": "f8"
         },
         "y": {
          "bdata": "AAAAAAAAAAAAAAAAAAAAAAAAAAAAAAAAAAAAAAAA8D8=",
          "dtype": "f8"
         },
         "z": {
          "bdata": "AAAAAAAAAAAAAAAAAAAAAPLSTWIQWLk/8tJNYhBYuT8=",
          "dtype": "f8"
         }
        },
        {
         "marker": {
          "color": "#e31a1c",
          "size": 5
         },
         "mode": "markers",
         "name": "Fixed Nodes",
         "type": "scatter3d",
         "x": [],
         "y": [],
         "z": []
        },
        {
         "line": {
          "color": "#333333",
          "width": 2
         },
         "mode": "lines",
         "name": "Edges",
         "type": "scatter3d",
         "x": [
          0,
          1,
          null,
          0.5,
          0.5,
          null
         ],
         "y": [
          0,
          0,
          null,
          0,
          1,
          null
         ],
         "z": [
          0,
          0,
          null,
          0.099,
          0.099,
          null
         ]
        },
        {
         "color": "rgba(166, 206, 227, 0.7)",
         "i": [],
         "j": [],
         "k": [],
         "name": "Faces",
         "opacity": 0.7,
         "showscale": false,
         "type": "mesh3d",
         "x": {
          "bdata": "AAAAAAAAAAAAAAAAAADwPwAAAAAAAOA/AAAAAAAA4D8=",
          "dtype": "f8"
         },
         "y": {
          "bdata": "AAAAAAAAAAAAAAAAAAAAAAAAAAAAAAAAAAAAAAAA8D8=",
          "dtype": "f8"
         },
         "z": {
          "bdata": "AAAAAAAAAAAAAAAAAAAAAPLSTWIQWLk/8tJNYhBYuT8=",
          "dtype": "f8"
         }
        }
       ],
       "frames": [
        {
         "data": [
          {
           "name": "Free Nodes",
           "type": "scatter3d",
           "x": {
            "bdata": "AAAAAAAAAAAAAAAAAADwPwAAAAAAAOA/AAAAAAAA4D8=",
            "dtype": "f8"
           },
           "y": {
            "bdata": "AAAAAAAAAAAAAAAAAAAAAAAAAAAAAAAAAAAAAAAA8D8=",
            "dtype": "f8"
           },
           "z": {
            "bdata": "AAAAAAAAAAAAAAAAAAAAAPLSTWIQWLk/8tJNYhBYuT8=",
            "dtype": "f8"
           }
          },
          {
           "name": "Fixed Nodes",
           "type": "scatter3d",
           "x": [],
           "y": [],
           "z": []
          },
          {
           "name": "Edges",
           "type": "scatter3d",
           "x": [
            0,
            1,
            null,
            0.5,
            0.5,
            null
           ],
           "y": [
            0,
            0,
            null,
            0,
            1,
            null
           ],
           "z": [
            0,
            0,
            null,
            0.099,
            0.099,
            null
           ]
          },
          {
           "i": [],
           "j": [],
           "k": [],
           "name": "Faces",
           "type": "mesh3d",
           "x": {
            "bdata": "AAAAAAAAAAAAAAAAAADwPwAAAAAAAOA/AAAAAAAA4D8=",
            "dtype": "f8"
           },
           "y": {
            "bdata": "AAAAAAAAAAAAAAAAAAAAAAAAAAAAAAAAAAAAAAAA8D8=",
            "dtype": "f8"
           },
           "z": {
            "bdata": "AAAAAAAAAAAAAAAAAAAAAPLSTWIQWLk/8tJNYhBYuT8=",
            "dtype": "f8"
           }
          }
         ],
         "layout": {
          "annotations": [
           {
            "showarrow": false,
            "text": "Time: 0.00s (Step: 1/100)",
            "x": 0.05,
            "xref": "paper",
            "y": 0.95,
            "yref": "paper"
           }
          ]
         },
         "name": "0"
        },
        {
         "data": [
          {
           "name": "Free Nodes",
           "type": "scatter3d",
           "x": {
            "bdata": "AAAAAAAAAAAAAAAAAADwPwAAAAAAAOA/AAAAAAAA4D8=",
            "dtype": "f8"
           },
           "y": {
            "bdata": "AAAAAAAAAAAAAAAAAAAAAAAAAAAAAAAAAAAAAAAA8D8=",
            "dtype": "f8"
           },
           "z": {
            "bdata": "AAAAAAAAAAAAAAAAAAAAAEoMAiuHFrk/SgwCK4cWuT8=",
            "dtype": "f8"
           }
          },
          {
           "name": "Fixed Nodes",
           "type": "scatter3d",
           "x": [],
           "y": [],
           "z": []
          },
          {
           "name": "Edges",
           "type": "scatter3d",
           "x": [
            0,
            1,
            null,
            0.5,
            0.5,
            null
           ],
           "y": [
            0,
            0,
            null,
            0,
            1,
            null
           ],
           "z": [
            0,
            0,
            null,
            0.098,
            0.098,
            null
           ]
          },
          {
           "i": [],
           "j": [],
           "k": [],
           "name": "Faces",
           "type": "mesh3d",
           "x": {
            "bdata": "AAAAAAAAAAAAAAAAAADwPwAAAAAAAOA/AAAAAAAA4D8=",
            "dtype": "f8"
           },
           "y": {
            "bdata": "AAAAAAAAAAAAAAAAAAAAAAAAAAAAAAAAAAAAAAAA8D8=",
            "dtype": "f8"
           },
           "z": {
            "bdata": "AAAAAAAAAAAAAAAAAAAAAEoMAiuHFrk/SgwCK4cWuT8=",
            "dtype": "f8"
           }
          }
         ],
         "layout": {
          "annotations": [
           {
            "showarrow": false,
            "text": "Time: 0.01s (Step: 2/100)",
            "x": 0.05,
            "xref": "paper",
            "y": 0.95,
            "yref": "paper"
           }
          ]
         },
         "name": "1"
        },
        {
         "data": [
          {
           "name": "Free Nodes",
           "type": "scatter3d",
           "x": {
            "bdata": "AAAAAAAAAAAAAAAAAADwPwAAAAAAAOA/AAAAAAAA4D8=",
            "dtype": "f8"
           },
           "y": {
            "bdata": "AAAAAAAAAAAAAAAAAAAAAAAAAAAAAAAAAAAAAAAA8D8=",
            "dtype": "f8"
           },
           "z": {
            "bdata": "AAAAAAAAAAAAAAAAAAAAAKJFtvP91Lg/okW28/3UuD8=",
            "dtype": "f8"
           }
          },
          {
           "name": "Fixed Nodes",
           "type": "scatter3d",
           "x": [],
           "y": [],
           "z": []
          },
          {
           "name": "Edges",
           "type": "scatter3d",
           "x": [
            0,
            1,
            null,
            0.5,
            0.5,
            null
           ],
           "y": [
            0,
            0,
            null,
            0,
            1,
            null
           ],
           "z": [
            0,
            0,
            null,
            0.097,
            0.097,
            null
           ]
          },
          {
           "i": [],
           "j": [],
           "k": [],
           "name": "Faces",
           "type": "mesh3d",
           "x": {
            "bdata": "AAAAAAAAAAAAAAAAAADwPwAAAAAAAOA/AAAAAAAA4D8=",
            "dtype": "f8"
           },
           "y": {
            "bdata": "AAAAAAAAAAAAAAAAAAAAAAAAAAAAAAAAAAAAAAAA8D8=",
            "dtype": "f8"
           },
           "z": {
            "bdata": "AAAAAAAAAAAAAAAAAAAAAKJFtvP91Lg/okW28/3UuD8=",
            "dtype": "f8"
           }
          }
         ],
         "layout": {
          "annotations": [
           {
            "showarrow": false,
            "text": "Time: 0.02s (Step: 3/100)",
            "x": 0.05,
            "xref": "paper",
            "y": 0.95,
            "yref": "paper"
           }
          ]
         },
         "name": "2"
        },
        {
         "data": [
          {
           "name": "Free Nodes",
           "type": "scatter3d",
           "x": {
            "bdata": "AAAAAAAAAAAAAAAAAADwPwAAAAAAAOA/AAAAAAAA4D8=",
            "dtype": "f8"
           },
           "y": {
            "bdata": "AAAAAAAAAAAAAAAAAAAAAAAAAAAAAAAAAAAAAAAA8D8=",
            "dtype": "f8"
           },
           "z": {
            "bdata": "AAAAAAAAAAAAAAAAAAAAAPp+arx0k7g/+n5qvHSTuD8=",
            "dtype": "f8"
           }
          },
          {
           "name": "Fixed Nodes",
           "type": "scatter3d",
           "x": [],
           "y": [],
           "z": []
          },
          {
           "name": "Edges",
           "type": "scatter3d",
           "x": [
            0,
            1,
            null,
            0.5,
            0.5,
            null
           ],
           "y": [
            0,
            0,
            null,
            0,
            1,
            null
           ],
           "z": [
            0,
            0,
            null,
            0.096,
            0.096,
            null
           ]
          },
          {
           "i": [],
           "j": [],
           "k": [],
           "name": "Faces",
           "type": "mesh3d",
           "x": {
            "bdata": "AAAAAAAAAAAAAAAAAADwPwAAAAAAAOA/AAAAAAAA4D8=",
            "dtype": "f8"
           },
           "y": {
            "bdata": "AAAAAAAAAAAAAAAAAAAAAAAAAAAAAAAAAAAAAAAA8D8=",
            "dtype": "f8"
           },
           "z": {
            "bdata": "AAAAAAAAAAAAAAAAAAAAAPp+arx0k7g/+n5qvHSTuD8=",
            "dtype": "f8"
           }
          }
         ],
         "layout": {
          "annotations": [
           {
            "showarrow": false,
            "text": "Time: 0.03s (Step: 4/100)",
            "x": 0.05,
            "xref": "paper",
            "y": 0.95,
            "yref": "paper"
           }
          ]
         },
         "name": "3"
        },
        {
         "data": [
          {
           "name": "Free Nodes",
           "type": "scatter3d",
           "x": {
            "bdata": "AAAAAAAAAAAAAAAAAADwPwAAAAAAAOA/AAAAAAAA4D8=",
            "dtype": "f8"
           },
           "y": {
            "bdata": "AAAAAAAAAAAAAAAAAAAAAAAAAAAAAAAAAAAAAAAA8D8=",
            "dtype": "f8"
           },
           "z": {
            "bdata": "AAAAAAAAAAAAAAAAAAAAAFK4HoXrUbg/UrgehetRuD8=",
            "dtype": "f8"
           }
          },
          {
           "name": "Fixed Nodes",
           "type": "scatter3d",
           "x": [],
           "y": [],
           "z": []
          },
          {
           "name": "Edges",
           "type": "scatter3d",
           "x": [
            0,
            1,
            null,
            0.5,
            0.5,
            null
           ],
           "y": [
            0,
            0,
            null,
            0,
            1,
            null
           ],
           "z": [
            0,
            0,
            null,
            0.095,
            0.095,
            null
           ]
          },
          {
           "i": [],
           "j": [],
           "k": [],
           "name": "Faces",
           "type": "mesh3d",
           "x": {
            "bdata": "AAAAAAAAAAAAAAAAAADwPwAAAAAAAOA/AAAAAAAA4D8=",
            "dtype": "f8"
           },
           "y": {
            "bdata": "AAAAAAAAAAAAAAAAAAAAAAAAAAAAAAAAAAAAAAAA8D8=",
            "dtype": "f8"
           },
           "z": {
            "bdata": "AAAAAAAAAAAAAAAAAAAAAFK4HoXrUbg/UrgehetRuD8=",
            "dtype": "f8"
           }
          }
         ],
         "layout": {
          "annotations": [
           {
            "showarrow": false,
            "text": "Time: 0.04s (Step: 5/100)",
            "x": 0.05,
            "xref": "paper",
            "y": 0.95,
            "yref": "paper"
           }
          ]
         },
         "name": "4"
        },
        {
         "data": [
          {
           "name": "Free Nodes",
           "type": "scatter3d",
           "x": {
            "bdata": "AAAAAAAAAAAAAAAAAADwPwAAAAAAAOA/AAAAAAAA4D8=",
            "dtype": "f8"
           },
           "y": {
            "bdata": "AAAAAAAAAAAAAAAAAAAAAAAAAAAAAAAAAAAAAAAA8D8=",
            "dtype": "f8"
           },
           "z": {
            "bdata": "AAAAAAAAAAAAAAAAAAAAAKrx0k1iELg/qvHSTWIQuD8=",
            "dtype": "f8"
           }
          },
          {
           "name": "Fixed Nodes",
           "type": "scatter3d",
           "x": [],
           "y": [],
           "z": []
          },
          {
           "name": "Edges",
           "type": "scatter3d",
           "x": [
            0,
            1,
            null,
            0.5,
            0.5,
            null
           ],
           "y": [
            0,
            0,
            null,
            0,
            1,
            null
           ],
           "z": [
            0,
            0,
            null,
            0.094,
            0.094,
            null
           ]
          },
          {
           "i": [],
           "j": [],
           "k": [],
           "name": "Faces",
           "type": "mesh3d",
           "x": {
            "bdata": "AAAAAAAAAAAAAAAAAADwPwAAAAAAAOA/AAAAAAAA4D8=",
            "dtype": "f8"
           },
           "y": {
            "bdata": "AAAAAAAAAAAAAAAAAAAAAAAAAAAAAAAAAAAAAAAA8D8=",
            "dtype": "f8"
           },
           "z": {
            "bdata": "AAAAAAAAAAAAAAAAAAAAAKrx0k1iELg/qvHSTWIQuD8=",
            "dtype": "f8"
           }
          }
         ],
         "layout": {
          "annotations": [
           {
            "showarrow": false,
            "text": "Time: 0.05s (Step: 6/100)",
            "x": 0.05,
            "xref": "paper",
            "y": 0.95,
            "yref": "paper"
           }
          ]
         },
         "name": "5"
        },
        {
         "data": [
          {
           "name": "Free Nodes",
           "type": "scatter3d",
           "x": {
            "bdata": "AAAAAAAAAAAAAAAAAADwPwAAAAAAAOA/AAAAAAAA4D8=",
            "dtype": "f8"
           },
           "y": {
            "bdata": "AAAAAAAAAAAAAAAAAAAAAAAAAAAAAAAAAAAAAAAA8D8=",
            "dtype": "f8"
           },
           "z": {
            "bdata": "AAAAAAAAAAAAAAAAAAAAAAIrhxbZzrc/AiuHFtnOtz8=",
            "dtype": "f8"
           }
          },
          {
           "name": "Fixed Nodes",
           "type": "scatter3d",
           "x": [],
           "y": [],
           "z": []
          },
          {
           "name": "Edges",
           "type": "scatter3d",
           "x": [
            0,
            1,
            null,
            0.5,
            0.5,
            null
           ],
           "y": [
            0,
            0,
            null,
            0,
            1,
            null
           ],
           "z": [
            0,
            0,
            null,
            0.093,
            0.093,
            null
           ]
          },
          {
           "i": [],
           "j": [],
           "k": [],
           "name": "Faces",
           "type": "mesh3d",
           "x": {
            "bdata": "AAAAAAAAAAAAAAAAAADwPwAAAAAAAOA/AAAAAAAA4D8=",
            "dtype": "f8"
           },
           "y": {
            "bdata": "AAAAAAAAAAAAAAAAAAAAAAAAAAAAAAAAAAAAAAAA8D8=",
            "dtype": "f8"
           },
           "z": {
            "bdata": "AAAAAAAAAAAAAAAAAAAAAAIrhxbZzrc/AiuHFtnOtz8=",
            "dtype": "f8"
           }
          }
         ],
         "layout": {
          "annotations": [
           {
            "showarrow": false,
            "text": "Time: 0.06s (Step: 7/100)",
            "x": 0.05,
            "xref": "paper",
            "y": 0.95,
            "yref": "paper"
           }
          ]
         },
         "name": "6"
        },
        {
         "data": [
          {
           "name": "Free Nodes",
           "type": "scatter3d",
           "x": {
            "bdata": "AAAAAAAAAAAAAAAAAADwPwAAAAAAAOA/AAAAAAAA4D8=",
            "dtype": "f8"
           },
           "y": {
            "bdata": "AAAAAAAAAAAAAAAAAAAAAAAAAAAAAAAAAAAAAAAA8D8=",
            "dtype": "f8"
           },
           "z": {
            "bdata": "AAAAAAAAAAAAAAAAAAAAAFpkO99Pjbc/WmQ730+Ntz8=",
            "dtype": "f8"
           }
          },
          {
           "name": "Fixed Nodes",
           "type": "scatter3d",
           "x": [],
           "y": [],
           "z": []
          },
          {
           "name": "Edges",
           "type": "scatter3d",
           "x": [
            0,
            1,
            null,
            0.5,
            0.5,
            null
           ],
           "y": [
            0,
            0,
            null,
            0,
            1,
            null
           ],
           "z": [
            0,
            0,
            null,
            0.092,
            0.092,
            null
           ]
          },
          {
           "i": [],
           "j": [],
           "k": [],
           "name": "Faces",
           "type": "mesh3d",
           "x": {
            "bdata": "AAAAAAAAAAAAAAAAAADwPwAAAAAAAOA/AAAAAAAA4D8=",
            "dtype": "f8"
           },
           "y": {
            "bdata": "AAAAAAAAAAAAAAAAAAAAAAAAAAAAAAAAAAAAAAAA8D8=",
            "dtype": "f8"
           },
           "z": {
            "bdata": "AAAAAAAAAAAAAAAAAAAAAFpkO99Pjbc/WmQ730+Ntz8=",
            "dtype": "f8"
           }
          }
         ],
         "layout": {
          "annotations": [
           {
            "showarrow": false,
            "text": "Time: 0.07s (Step: 8/100)",
            "x": 0.05,
            "xref": "paper",
            "y": 0.95,
            "yref": "paper"
           }
          ]
         },
         "name": "7"
        },
        {
         "data": [
          {
           "name": "Free Nodes",
           "type": "scatter3d",
           "x": {
            "bdata": "AAAAAAAAAAAAAAAAAADwPwAAAAAAAOA/AAAAAAAA4D8=",
            "dtype": "f8"
           },
           "y": {
            "bdata": "AAAAAAAAAAAAAAAAAAAAAAAAAAAAAAAAAAAAAAAA8D8=",
            "dtype": "f8"
           },
           "z": {
            "bdata": "AAAAAAAAAAAAAAAAAAAAALKd76fGS7c/sp3vp8ZLtz8=",
            "dtype": "f8"
           }
          },
          {
           "name": "Fixed Nodes",
           "type": "scatter3d",
           "x": [],
           "y": [],
           "z": []
          },
          {
           "name": "Edges",
           "type": "scatter3d",
           "x": [
            0,
            1,
            null,
            0.5,
            0.5,
            null
           ],
           "y": [
            0,
            0,
            null,
            0,
            1,
            null
           ],
           "z": [
            0,
            0,
            null,
            0.091,
            0.091,
            null
           ]
          },
          {
           "i": [],
           "j": [],
           "k": [],
           "name": "Faces",
           "type": "mesh3d",
           "x": {
            "bdata": "AAAAAAAAAAAAAAAAAADwPwAAAAAAAOA/AAAAAAAA4D8=",
            "dtype": "f8"
           },
           "y": {
            "bdata": "AAAAAAAAAAAAAAAAAAAAAAAAAAAAAAAAAAAAAAAA8D8=",
            "dtype": "f8"
           },
           "z": {
            "bdata": "AAAAAAAAAAAAAAAAAAAAALKd76fGS7c/sp3vp8ZLtz8=",
            "dtype": "f8"
           }
          }
         ],
         "layout": {
          "annotations": [
           {
            "showarrow": false,
            "text": "Time: 0.08s (Step: 9/100)",
            "x": 0.05,
            "xref": "paper",
            "y": 0.95,
            "yref": "paper"
           }
          ]
         },
         "name": "8"
        },
        {
         "data": [
          {
           "name": "Free Nodes",
           "type": "scatter3d",
           "x": {
            "bdata": "AAAAAAAAAAAAAAAAAADwPwAAAAAAAOA/AAAAAAAA4D8=",
            "dtype": "f8"
           },
           "y": {
            "bdata": "AAAAAAAAAAAAAAAAAAAAAAAAAAAAAAAAAAAAAAAA8D8=",
            "dtype": "f8"
           },
           "z": {
            "bdata": "AAAAAAAAAAAAAAAAAAAAAArXo3A9Crc/CtejcD0Ktz8=",
            "dtype": "f8"
           }
          },
          {
           "name": "Fixed Nodes",
           "type": "scatter3d",
           "x": [],
           "y": [],
           "z": []
          },
          {
           "name": "Edges",
           "type": "scatter3d",
           "x": [
            0,
            1,
            null,
            0.5,
            0.5,
            null
           ],
           "y": [
            0,
            0,
            null,
            0,
            1,
            null
           ],
           "z": [
            0,
            0,
            null,
            0.09,
            0.09,
            null
           ]
          },
          {
           "i": [],
           "j": [],
           "k": [],
           "name": "Faces",
           "type": "mesh3d",
           "x": {
            "bdata": "AAAAAAAAAAAAAAAAAADwPwAAAAAAAOA/AAAAAAAA4D8=",
            "dtype": "f8"
           },
           "y": {
            "bdata": "AAAAAAAAAAAAAAAAAAAAAAAAAAAAAAAAAAAAAAAA8D8=",
            "dtype": "f8"
           },
           "z": {
            "bdata": "AAAAAAAAAAAAAAAAAAAAAArXo3A9Crc/CtejcD0Ktz8=",
            "dtype": "f8"
           }
          }
         ],
         "layout": {
          "annotations": [
           {
            "showarrow": false,
            "text": "Time: 0.09s (Step: 10/100)",
            "x": 0.05,
            "xref": "paper",
            "y": 0.95,
            "yref": "paper"
           }
          ]
         },
         "name": "9"
        },
        {
         "data": [
          {
           "name": "Free Nodes",
           "type": "scatter3d",
           "x": {
            "bdata": "AAAAAAAAAAAAAAAAAADwPwAAAAAAAOA/AAAAAAAA4D8=",
            "dtype": "f8"
           },
           "y": {
            "bdata": "AAAAAAAAAAAAAAAAAAAAAAAAAAAAAAAAAAAAAAAA8D8=",
            "dtype": "f8"
           },
           "z": {
            "bdata": "AAAAAAAAAAAAAAAAAAAAAGIQWDm0yLY/YhBYObTItj8=",
            "dtype": "f8"
           }
          },
          {
           "name": "Fixed Nodes",
           "type": "scatter3d",
           "x": [],
           "y": [],
           "z": []
          },
          {
           "name": "Edges",
           "type": "scatter3d",
           "x": [
            0,
            1,
            null,
            0.5,
            0.5,
            null
           ],
           "y": [
            0,
            0,
            null,
            0,
            1,
            null
           ],
           "z": [
            0,
            0,
            null,
            0.089,
            0.089,
            null
           ]
          },
          {
           "i": [],
           "j": [],
           "k": [],
           "name": "Faces",
           "type": "mesh3d",
           "x": {
            "bdata": "AAAAAAAAAAAAAAAAAADwPwAAAAAAAOA/AAAAAAAA4D8=",
            "dtype": "f8"
           },
           "y": {
            "bdata": "AAAAAAAAAAAAAAAAAAAAAAAAAAAAAAAAAAAAAAAA8D8=",
            "dtype": "f8"
           },
           "z": {
            "bdata": "AAAAAAAAAAAAAAAAAAAAAGIQWDm0yLY/YhBYObTItj8=",
            "dtype": "f8"
           }
          }
         ],
         "layout": {
          "annotations": [
           {
            "showarrow": false,
            "text": "Time: 0.10s (Step: 11/100)",
            "x": 0.05,
            "xref": "paper",
            "y": 0.95,
            "yref": "paper"
           }
          ]
         },
         "name": "10"
        },
        {
         "data": [
          {
           "name": "Free Nodes",
           "type": "scatter3d",
           "x": {
            "bdata": "AAAAAAAAAAAAAAAAAADwPwAAAAAAAOA/AAAAAAAA4D8=",
            "dtype": "f8"
           },
           "y": {
            "bdata": "AAAAAAAAAAAAAAAAAAAAAAAAAAAAAAAAAAAAAAAA8D8=",
            "dtype": "f8"
           },
           "z": {
            "bdata": "AAAAAAAAAAAAAAAAAAAAALpJDAIrh7Y/ukkMAiuHtj8=",
            "dtype": "f8"
           }
          },
          {
           "name": "Fixed Nodes",
           "type": "scatter3d",
           "x": [],
           "y": [],
           "z": []
          },
          {
           "name": "Edges",
           "type": "scatter3d",
           "x": [
            0,
            1,
            null,
            0.5,
            0.5,
            null
           ],
           "y": [
            0,
            0,
            null,
            0,
            1,
            null
           ],
           "z": [
            0,
            0,
            null,
            0.088,
            0.088,
            null
           ]
          },
          {
           "i": [],
           "j": [],
           "k": [],
           "name": "Faces",
           "type": "mesh3d",
           "x": {
            "bdata": "AAAAAAAAAAAAAAAAAADwPwAAAAAAAOA/AAAAAAAA4D8=",
            "dtype": "f8"
           },
           "y": {
            "bdata": "AAAAAAAAAAAAAAAAAAAAAAAAAAAAAAAAAAAAAAAA8D8=",
            "dtype": "f8"
           },
           "z": {
            "bdata": "AAAAAAAAAAAAAAAAAAAAALpJDAIrh7Y/ukkMAiuHtj8=",
            "dtype": "f8"
           }
          }
         ],
         "layout": {
          "annotations": [
           {
            "showarrow": false,
            "text": "Time: 0.11s (Step: 12/100)",
            "x": 0.05,
            "xref": "paper",
            "y": 0.95,
            "yref": "paper"
           }
          ]
         },
         "name": "11"
        },
        {
         "data": [
          {
           "name": "Free Nodes",
           "type": "scatter3d",
           "x": {
            "bdata": "AAAAAAAAAAAAAAAAAADwPwAAAAAAAOA/AAAAAAAA4D8=",
            "dtype": "f8"
           },
           "y": {
            "bdata": "AAAAAAAAAAAAAAAAAAAAAAAAAAAAAAAAAAAAAAAA8D8=",
            "dtype": "f8"
           },
           "z": {
            "bdata": "AAAAAAAAAAAAAAAAAAAAABKDwMqhRbY/EoPAyqFFtj8=",
            "dtype": "f8"
           }
          },
          {
           "name": "Fixed Nodes",
           "type": "scatter3d",
           "x": [],
           "y": [],
           "z": []
          },
          {
           "name": "Edges",
           "type": "scatter3d",
           "x": [
            0,
            1,
            null,
            0.5,
            0.5,
            null
           ],
           "y": [
            0,
            0,
            null,
            0,
            1,
            null
           ],
           "z": [
            0,
            0,
            null,
            0.087,
            0.087,
            null
           ]
          },
          {
           "i": [],
           "j": [],
           "k": [],
           "name": "Faces",
           "type": "mesh3d",
           "x": {
            "bdata": "AAAAAAAAAAAAAAAAAADwPwAAAAAAAOA/AAAAAAAA4D8=",
            "dtype": "f8"
           },
           "y": {
            "bdata": "AAAAAAAAAAAAAAAAAAAAAAAAAAAAAAAAAAAAAAAA8D8=",
            "dtype": "f8"
           },
           "z": {
            "bdata": "AAAAAAAAAAAAAAAAAAAAABKDwMqhRbY/EoPAyqFFtj8=",
            "dtype": "f8"
           }
          }
         ],
         "layout": {
          "annotations": [
           {
            "showarrow": false,
            "text": "Time: 0.12s (Step: 13/100)",
            "x": 0.05,
            "xref": "paper",
            "y": 0.95,
            "yref": "paper"
           }
          ]
         },
         "name": "12"
        },
        {
         "data": [
          {
           "name": "Free Nodes",
           "type": "scatter3d",
           "x": {
            "bdata": "AAAAAAAAAAAAAAAAAADwPwAAAAAAAOA/AAAAAAAA4D8=",
            "dtype": "f8"
           },
           "y": {
            "bdata": "AAAAAAAAAAAAAAAAAAAAAAAAAAAAAAAAAAAAAAAA8D8=",
            "dtype": "f8"
           },
           "z": {
            "bdata": "AAAAAAAAAAAAAAAAAAAAAGq8dJMYBLY/arx0kxgEtj8=",
            "dtype": "f8"
           }
          },
          {
           "name": "Fixed Nodes",
           "type": "scatter3d",
           "x": [],
           "y": [],
           "z": []
          },
          {
           "name": "Edges",
           "type": "scatter3d",
           "x": [
            0,
            1,
            null,
            0.5,
            0.5,
            null
           ],
           "y": [
            0,
            0,
            null,
            0,
            1,
            null
           ],
           "z": [
            0,
            0,
            null,
            0.086,
            0.086,
            null
           ]
          },
          {
           "i": [],
           "j": [],
           "k": [],
           "name": "Faces",
           "type": "mesh3d",
           "x": {
            "bdata": "AAAAAAAAAAAAAAAAAADwPwAAAAAAAOA/AAAAAAAA4D8=",
            "dtype": "f8"
           },
           "y": {
            "bdata": "AAAAAAAAAAAAAAAAAAAAAAAAAAAAAAAAAAAAAAAA8D8=",
            "dtype": "f8"
           },
           "z": {
            "bdata": "AAAAAAAAAAAAAAAAAAAAAGq8dJMYBLY/arx0kxgEtj8=",
            "dtype": "f8"
           }
          }
         ],
         "layout": {
          "annotations": [
           {
            "showarrow": false,
            "text": "Time: 0.13s (Step: 14/100)",
            "x": 0.05,
            "xref": "paper",
            "y": 0.95,
            "yref": "paper"
           }
          ]
         },
         "name": "13"
        },
        {
         "data": [
          {
           "name": "Free Nodes",
           "type": "scatter3d",
           "x": {
            "bdata": "AAAAAAAAAAAAAAAAAADwPwAAAAAAAOA/AAAAAAAA4D8=",
            "dtype": "f8"
           },
           "y": {
            "bdata": "AAAAAAAAAAAAAAAAAAAAAAAAAAAAAAAAAAAAAAAA8D8=",
            "dtype": "f8"
           },
           "z": {
            "bdata": "AAAAAAAAAAAAAAAAAAAAAML1KFyPwrU/wvUoXI/CtT8=",
            "dtype": "f8"
           }
          },
          {
           "name": "Fixed Nodes",
           "type": "scatter3d",
           "x": [],
           "y": [],
           "z": []
          },
          {
           "name": "Edges",
           "type": "scatter3d",
           "x": [
            0,
            1,
            null,
            0.5,
            0.5,
            null
           ],
           "y": [
            0,
            0,
            null,
            0,
            1,
            null
           ],
           "z": [
            0,
            0,
            null,
            0.08499999999999999,
            0.08499999999999999,
            null
           ]
          },
          {
           "i": [],
           "j": [],
           "k": [],
           "name": "Faces",
           "type": "mesh3d",
           "x": {
            "bdata": "AAAAAAAAAAAAAAAAAADwPwAAAAAAAOA/AAAAAAAA4D8=",
            "dtype": "f8"
           },
           "y": {
            "bdata": "AAAAAAAAAAAAAAAAAAAAAAAAAAAAAAAAAAAAAAAA8D8=",
            "dtype": "f8"
           },
           "z": {
            "bdata": "AAAAAAAAAAAAAAAAAAAAAML1KFyPwrU/wvUoXI/CtT8=",
            "dtype": "f8"
           }
          }
         ],
         "layout": {
          "annotations": [
           {
            "showarrow": false,
            "text": "Time: 0.14s (Step: 15/100)",
            "x": 0.05,
            "xref": "paper",
            "y": 0.95,
            "yref": "paper"
           }
          ]
         },
         "name": "14"
        },
        {
         "data": [
          {
           "name": "Free Nodes",
           "type": "scatter3d",
           "x": {
            "bdata": "AAAAAAAAAAAAAAAAAADwPwAAAAAAAOA/AAAAAAAA4D8=",
            "dtype": "f8"
           },
           "y": {
            "bdata": "AAAAAAAAAAAAAAAAAAAAAAAAAAAAAAAAAAAAAAAA8D8=",
            "dtype": "f8"
           },
           "z": {
            "bdata": "AAAAAAAAAAAAAAAAAAAAABov3SQGgbU/Gi/dJAaBtT8=",
            "dtype": "f8"
           }
          },
          {
           "name": "Fixed Nodes",
           "type": "scatter3d",
           "x": [],
           "y": [],
           "z": []
          },
          {
           "name": "Edges",
           "type": "scatter3d",
           "x": [
            0,
            1,
            null,
            0.5,
            0.5,
            null
           ],
           "y": [
            0,
            0,
            null,
            0,
            1,
            null
           ],
           "z": [
            0,
            0,
            null,
            0.08399999999999999,
            0.08399999999999999,
            null
           ]
          },
          {
           "i": [],
           "j": [],
           "k": [],
           "name": "Faces",
           "type": "mesh3d",
           "x": {
            "bdata": "AAAAAAAAAAAAAAAAAADwPwAAAAAAAOA/AAAAAAAA4D8=",
            "dtype": "f8"
           },
           "y": {
            "bdata": "AAAAAAAAAAAAAAAAAAAAAAAAAAAAAAAAAAAAAAAA8D8=",
            "dtype": "f8"
           },
           "z": {
            "bdata": "AAAAAAAAAAAAAAAAAAAAABov3SQGgbU/Gi/dJAaBtT8=",
            "dtype": "f8"
           }
          }
         ],
         "layout": {
          "annotations": [
           {
            "showarrow": false,
            "text": "Time: 0.15s (Step: 16/100)",
            "x": 0.05,
            "xref": "paper",
            "y": 0.95,
            "yref": "paper"
           }
          ]
         },
         "name": "15"
        },
        {
         "data": [
          {
           "name": "Free Nodes",
           "type": "scatter3d",
           "x": {
            "bdata": "AAAAAAAAAAAAAAAAAADwPwAAAAAAAOA/AAAAAAAA4D8=",
            "dtype": "f8"
           },
           "y": {
            "bdata": "AAAAAAAAAAAAAAAAAAAAAAAAAAAAAAAAAAAAAAAA8D8=",
            "dtype": "f8"
           },
           "z": {
            "bdata": "AAAAAAAAAAAAAAAAAAAAAHJoke18P7U/cmiR7Xw/tT8=",
            "dtype": "f8"
           }
          },
          {
           "name": "Fixed Nodes",
           "type": "scatter3d",
           "x": [],
           "y": [],
           "z": []
          },
          {
           "name": "Edges",
           "type": "scatter3d",
           "x": [
            0,
            1,
            null,
            0.5,
            0.5,
            null
           ],
           "y": [
            0,
            0,
            null,
            0,
            1,
            null
           ],
           "z": [
            0,
            0,
            null,
            0.08299999999999999,
            0.08299999999999999,
            null
           ]
          },
          {
           "i": [],
           "j": [],
           "k": [],
           "name": "Faces",
           "type": "mesh3d",
           "x": {
            "bdata": "AAAAAAAAAAAAAAAAAADwPwAAAAAAAOA/AAAAAAAA4D8=",
            "dtype": "f8"
           },
           "y": {
            "bdata": "AAAAAAAAAAAAAAAAAAAAAAAAAAAAAAAAAAAAAAAA8D8=",
            "dtype": "f8"
           },
           "z": {
            "bdata": "AAAAAAAAAAAAAAAAAAAAAHJoke18P7U/cmiR7Xw/tT8=",
            "dtype": "f8"
           }
          }
         ],
         "layout": {
          "annotations": [
           {
            "showarrow": false,
            "text": "Time: 0.16s (Step: 17/100)",
            "x": 0.05,
            "xref": "paper",
            "y": 0.95,
            "yref": "paper"
           }
          ]
         },
         "name": "16"
        },
        {
         "data": [
          {
           "name": "Free Nodes",
           "type": "scatter3d",
           "x": {
            "bdata": "AAAAAAAAAAAAAAAAAADwPwAAAAAAAOA/AAAAAAAA4D8=",
            "dtype": "f8"
           },
           "y": {
            "bdata": "AAAAAAAAAAAAAAAAAAAAAAAAAAAAAAAAAAAAAAAA8D8=",
            "dtype": "f8"
           },
           "z": {
            "bdata": "AAAAAAAAAAAAAAAAAAAAAMqhRbbz/bQ/yqFFtvP9tD8=",
            "dtype": "f8"
           }
          },
          {
           "name": "Fixed Nodes",
           "type": "scatter3d",
           "x": [],
           "y": [],
           "z": []
          },
          {
           "name": "Edges",
           "type": "scatter3d",
           "x": [
            0,
            1,
            null,
            0.5,
            0.5,
            null
           ],
           "y": [
            0,
            0,
            null,
            0,
            1,
            null
           ],
           "z": [
            0,
            0,
            null,
            0.08199999999999999,
            0.08199999999999999,
            null
           ]
          },
          {
           "i": [],
           "j": [],
           "k": [],
           "name": "Faces",
           "type": "mesh3d",
           "x": {
            "bdata": "AAAAAAAAAAAAAAAAAADwPwAAAAAAAOA/AAAAAAAA4D8=",
            "dtype": "f8"
           },
           "y": {
            "bdata": "AAAAAAAAAAAAAAAAAAAAAAAAAAAAAAAAAAAAAAAA8D8=",
            "dtype": "f8"
           },
           "z": {
            "bdata": "AAAAAAAAAAAAAAAAAAAAAMqhRbbz/bQ/yqFFtvP9tD8=",
            "dtype": "f8"
           }
          }
         ],
         "layout": {
          "annotations": [
           {
            "showarrow": false,
            "text": "Time: 0.17s (Step: 18/100)",
            "x": 0.05,
            "xref": "paper",
            "y": 0.95,
            "yref": "paper"
           }
          ]
         },
         "name": "17"
        },
        {
         "data": [
          {
           "name": "Free Nodes",
           "type": "scatter3d",
           "x": {
            "bdata": "AAAAAAAAAAAAAAAAAADwPwAAAAAAAOA/AAAAAAAA4D8=",
            "dtype": "f8"
           },
           "y": {
            "bdata": "AAAAAAAAAAAAAAAAAAAAAAAAAAAAAAAAAAAAAAAA8D8=",
            "dtype": "f8"
           },
           "z": {
            "bdata": "AAAAAAAAAAAAAAAAAAAAACLb+X5qvLQ/Itv5fmq8tD8=",
            "dtype": "f8"
           }
          },
          {
           "name": "Fixed Nodes",
           "type": "scatter3d",
           "x": [],
           "y": [],
           "z": []
          },
          {
           "name": "Edges",
           "type": "scatter3d",
           "x": [
            0,
            1,
            null,
            0.5,
            0.5,
            null
           ],
           "y": [
            0,
            0,
            null,
            0,
            1,
            null
           ],
           "z": [
            0,
            0,
            null,
            0.08099999999999999,
            0.08099999999999999,
            null
           ]
          },
          {
           "i": [],
           "j": [],
           "k": [],
           "name": "Faces",
           "type": "mesh3d",
           "x": {
            "bdata": "AAAAAAAAAAAAAAAAAADwPwAAAAAAAOA/AAAAAAAA4D8=",
            "dtype": "f8"
           },
           "y": {
            "bdata": "AAAAAAAAAAAAAAAAAAAAAAAAAAAAAAAAAAAAAAAA8D8=",
            "dtype": "f8"
           },
           "z": {
            "bdata": "AAAAAAAAAAAAAAAAAAAAACLb+X5qvLQ/Itv5fmq8tD8=",
            "dtype": "f8"
           }
          }
         ],
         "layout": {
          "annotations": [
           {
            "showarrow": false,
            "text": "Time: 0.18s (Step: 19/100)",
            "x": 0.05,
            "xref": "paper",
            "y": 0.95,
            "yref": "paper"
           }
          ]
         },
         "name": "18"
        },
        {
         "data": [
          {
           "name": "Free Nodes",
           "type": "scatter3d",
           "x": {
            "bdata": "AAAAAAAAAAAAAAAAAADwPwAAAAAAAOA/AAAAAAAA4D8=",
            "dtype": "f8"
           },
           "y": {
            "bdata": "AAAAAAAAAAAAAAAAAAAAAAAAAAAAAAAAAAAAAAAA8D8=",
            "dtype": "f8"
           },
           "z": {
            "bdata": "AAAAAAAAAAAAAAAAAAAAAHoUrkfherQ/ehSuR+F6tD8=",
            "dtype": "f8"
           }
          },
          {
           "name": "Fixed Nodes",
           "type": "scatter3d",
           "x": [],
           "y": [],
           "z": []
          },
          {
           "name": "Edges",
           "type": "scatter3d",
           "x": [
            0,
            1,
            null,
            0.5,
            0.5,
            null
           ],
           "y": [
            0,
            0,
            null,
            0,
            1,
            null
           ],
           "z": [
            0,
            0,
            null,
            0.07999999999999999,
            0.07999999999999999,
            null
           ]
          },
          {
           "i": [],
           "j": [],
           "k": [],
           "name": "Faces",
           "type": "mesh3d",
           "x": {
            "bdata": "AAAAAAAAAAAAAAAAAADwPwAAAAAAAOA/AAAAAAAA4D8=",
            "dtype": "f8"
           },
           "y": {
            "bdata": "AAAAAAAAAAAAAAAAAAAAAAAAAAAAAAAAAAAAAAAA8D8=",
            "dtype": "f8"
           },
           "z": {
            "bdata": "AAAAAAAAAAAAAAAAAAAAAHoUrkfherQ/ehSuR+F6tD8=",
            "dtype": "f8"
           }
          }
         ],
         "layout": {
          "annotations": [
           {
            "showarrow": false,
            "text": "Time: 0.19s (Step: 20/100)",
            "x": 0.05,
            "xref": "paper",
            "y": 0.95,
            "yref": "paper"
           }
          ]
         },
         "name": "19"
        },
        {
         "data": [
          {
           "name": "Free Nodes",
           "type": "scatter3d",
           "x": {
            "bdata": "AAAAAAAAAAAAAAAAAADwPwAAAAAAAOA/AAAAAAAA4D8=",
            "dtype": "f8"
           },
           "y": {
            "bdata": "AAAAAAAAAAAAAAAAAAAAAAAAAAAAAAAAAAAAAAAA8D8=",
            "dtype": "f8"
           },
           "z": {
            "bdata": "AAAAAAAAAAAAAAAAAAAAANJNYhBYObQ/0k1iEFg5tD8=",
            "dtype": "f8"
           }
          },
          {
           "name": "Fixed Nodes",
           "type": "scatter3d",
           "x": [],
           "y": [],
           "z": []
          },
          {
           "name": "Edges",
           "type": "scatter3d",
           "x": [
            0,
            1,
            null,
            0.5,
            0.5,
            null
           ],
           "y": [
            0,
            0,
            null,
            0,
            1,
            null
           ],
           "z": [
            0,
            0,
            null,
            0.07899999999999999,
            0.07899999999999999,
            null
           ]
          },
          {
           "i": [],
           "j": [],
           "k": [],
           "name": "Faces",
           "type": "mesh3d",
           "x": {
            "bdata": "AAAAAAAAAAAAAAAAAADwPwAAAAAAAOA/AAAAAAAA4D8=",
            "dtype": "f8"
           },
           "y": {
            "bdata": "AAAAAAAAAAAAAAAAAAAAAAAAAAAAAAAAAAAAAAAA8D8=",
            "dtype": "f8"
           },
           "z": {
            "bdata": "AAAAAAAAAAAAAAAAAAAAANJNYhBYObQ/0k1iEFg5tD8=",
            "dtype": "f8"
           }
          }
         ],
         "layout": {
          "annotations": [
           {
            "showarrow": false,
            "text": "Time: 0.20s (Step: 21/100)",
            "x": 0.05,
            "xref": "paper",
            "y": 0.95,
            "yref": "paper"
           }
          ]
         },
         "name": "20"
        },
        {
         "data": [
          {
           "name": "Free Nodes",
           "type": "scatter3d",
           "x": {
            "bdata": "AAAAAAAAAAAAAAAAAADwPwAAAAAAAOA/AAAAAAAA4D8=",
            "dtype": "f8"
           },
           "y": {
            "bdata": "AAAAAAAAAAAAAAAAAAAAAAAAAAAAAAAAAAAAAAAA8D8=",
            "dtype": "f8"
           },
           "z": {
            "bdata": "AAAAAAAAAAAAAAAAAAAAACqHFtnO97M/KocW2c73sz8=",
            "dtype": "f8"
           }
          },
          {
           "name": "Fixed Nodes",
           "type": "scatter3d",
           "x": [],
           "y": [],
           "z": []
          },
          {
           "name": "Edges",
           "type": "scatter3d",
           "x": [
            0,
            1,
            null,
            0.5,
            0.5,
            null
           ],
           "y": [
            0,
            0,
            null,
            0,
            1,
            null
           ],
           "z": [
            0,
            0,
            null,
            0.07799999999999999,
            0.07799999999999999,
            null
           ]
          },
          {
           "i": [],
           "j": [],
           "k": [],
           "name": "Faces",
           "type": "mesh3d",
           "x": {
            "bdata": "AAAAAAAAAAAAAAAAAADwPwAAAAAAAOA/AAAAAAAA4D8=",
            "dtype": "f8"
           },
           "y": {
            "bdata": "AAAAAAAAAAAAAAAAAAAAAAAAAAAAAAAAAAAAAAAA8D8=",
            "dtype": "f8"
           },
           "z": {
            "bdata": "AAAAAAAAAAAAAAAAAAAAACqHFtnO97M/KocW2c73sz8=",
            "dtype": "f8"
           }
          }
         ],
         "layout": {
          "annotations": [
           {
            "showarrow": false,
            "text": "Time: 0.21s (Step: 22/100)",
            "x": 0.05,
            "xref": "paper",
            "y": 0.95,
            "yref": "paper"
           }
          ]
         },
         "name": "21"
        },
        {
         "data": [
          {
           "name": "Free Nodes",
           "type": "scatter3d",
           "x": {
            "bdata": "AAAAAAAAAAAAAAAAAADwPwAAAAAAAOA/AAAAAAAA4D8=",
            "dtype": "f8"
           },
           "y": {
            "bdata": "AAAAAAAAAAAAAAAAAAAAAAAAAAAAAAAAAAAAAAAA8D8=",
            "dtype": "f8"
           },
           "z": {
            "bdata": "AAAAAAAAAAAAAAAAAAAAAILAyqFFtrM/gsDKoUW2sz8=",
            "dtype": "f8"
           }
          },
          {
           "name": "Fixed Nodes",
           "type": "scatter3d",
           "x": [],
           "y": [],
           "z": []
          },
          {
           "name": "Edges",
           "type": "scatter3d",
           "x": [
            0,
            1,
            null,
            0.5,
            0.5,
            null
           ],
           "y": [
            0,
            0,
            null,
            0,
            1,
            null
           ],
           "z": [
            0,
            0,
            null,
            0.07699999999999999,
            0.07699999999999999,
            null
           ]
          },
          {
           "i": [],
           "j": [],
           "k": [],
           "name": "Faces",
           "type": "mesh3d",
           "x": {
            "bdata": "AAAAAAAAAAAAAAAAAADwPwAAAAAAAOA/AAAAAAAA4D8=",
            "dtype": "f8"
           },
           "y": {
            "bdata": "AAAAAAAAAAAAAAAAAAAAAAAAAAAAAAAAAAAAAAAA8D8=",
            "dtype": "f8"
           },
           "z": {
            "bdata": "AAAAAAAAAAAAAAAAAAAAAILAyqFFtrM/gsDKoUW2sz8=",
            "dtype": "f8"
           }
          }
         ],
         "layout": {
          "annotations": [
           {
            "showarrow": false,
            "text": "Time: 0.22s (Step: 23/100)",
            "x": 0.05,
            "xref": "paper",
            "y": 0.95,
            "yref": "paper"
           }
          ]
         },
         "name": "22"
        },
        {
         "data": [
          {
           "name": "Free Nodes",
           "type": "scatter3d",
           "x": {
            "bdata": "AAAAAAAAAAAAAAAAAADwPwAAAAAAAOA/AAAAAAAA4D8=",
            "dtype": "f8"
           },
           "y": {
            "bdata": "AAAAAAAAAAAAAAAAAAAAAAAAAAAAAAAAAAAAAAAA8D8=",
            "dtype": "f8"
           },
           "z": {
            "bdata": "AAAAAAAAAAAAAAAAAAAAANr5fmq8dLM/2vl+arx0sz8=",
            "dtype": "f8"
           }
          },
          {
           "name": "Fixed Nodes",
           "type": "scatter3d",
           "x": [],
           "y": [],
           "z": []
          },
          {
           "name": "Edges",
           "type": "scatter3d",
           "x": [
            0,
            1,
            null,
            0.5,
            0.5,
            null
           ],
           "y": [
            0,
            0,
            null,
            0,
            1,
            null
           ],
           "z": [
            0,
            0,
            null,
            0.07599999999999998,
            0.07599999999999998,
            null
           ]
          },
          {
           "i": [],
           "j": [],
           "k": [],
           "name": "Faces",
           "type": "mesh3d",
           "x": {
            "bdata": "AAAAAAAAAAAAAAAAAADwPwAAAAAAAOA/AAAAAAAA4D8=",
            "dtype": "f8"
           },
           "y": {
            "bdata": "AAAAAAAAAAAAAAAAAAAAAAAAAAAAAAAAAAAAAAAA8D8=",
            "dtype": "f8"
           },
           "z": {
            "bdata": "AAAAAAAAAAAAAAAAAAAAANr5fmq8dLM/2vl+arx0sz8=",
            "dtype": "f8"
           }
          }
         ],
         "layout": {
          "annotations": [
           {
            "showarrow": false,
            "text": "Time: 0.23s (Step: 24/100)",
            "x": 0.05,
            "xref": "paper",
            "y": 0.95,
            "yref": "paper"
           }
          ]
         },
         "name": "23"
        },
        {
         "data": [
          {
           "name": "Free Nodes",
           "type": "scatter3d",
           "x": {
            "bdata": "AAAAAAAAAAAAAAAAAADwPwAAAAAAAOA/AAAAAAAA4D8=",
            "dtype": "f8"
           },
           "y": {
            "bdata": "AAAAAAAAAAAAAAAAAAAAAAAAAAAAAAAAAAAAAAAA8D8=",
            "dtype": "f8"
           },
           "z": {
            "bdata": "AAAAAAAAAAAAAAAAAAAAADIzMzMzM7M/MjMzMzMzsz8=",
            "dtype": "f8"
           }
          },
          {
           "name": "Fixed Nodes",
           "type": "scatter3d",
           "x": [],
           "y": [],
           "z": []
          },
          {
           "name": "Edges",
           "type": "scatter3d",
           "x": [
            0,
            1,
            null,
            0.5,
            0.5,
            null
           ],
           "y": [
            0,
            0,
            null,
            0,
            1,
            null
           ],
           "z": [
            0,
            0,
            null,
            0.07499999999999998,
            0.07499999999999998,
            null
           ]
          },
          {
           "i": [],
           "j": [],
           "k": [],
           "name": "Faces",
           "type": "mesh3d",
           "x": {
            "bdata": "AAAAAAAAAAAAAAAAAADwPwAAAAAAAOA/AAAAAAAA4D8=",
            "dtype": "f8"
           },
           "y": {
            "bdata": "AAAAAAAAAAAAAAAAAAAAAAAAAAAAAAAAAAAAAAAA8D8=",
            "dtype": "f8"
           },
           "z": {
            "bdata": "AAAAAAAAAAAAAAAAAAAAADIzMzMzM7M/MjMzMzMzsz8=",
            "dtype": "f8"
           }
          }
         ],
         "layout": {
          "annotations": [
           {
            "showarrow": false,
            "text": "Time: 0.24s (Step: 25/100)",
            "x": 0.05,
            "xref": "paper",
            "y": 0.95,
            "yref": "paper"
           }
          ]
         },
         "name": "24"
        },
        {
         "data": [
          {
           "name": "Free Nodes",
           "type": "scatter3d",
           "x": {
            "bdata": "AAAAAAAAAAAAAAAAAADwPwAAAAAAAOA/AAAAAAAA4D8=",
            "dtype": "f8"
           },
           "y": {
            "bdata": "AAAAAAAAAAAAAAAAAAAAAAAAAAAAAAAAAAAAAAAA8D8=",
            "dtype": "f8"
           },
           "z": {
            "bdata": "AAAAAAAAAAAAAAAAAAAAAIps5/up8bI/imzn+6nxsj8=",
            "dtype": "f8"
           }
          },
          {
           "name": "Fixed Nodes",
           "type": "scatter3d",
           "x": [],
           "y": [],
           "z": []
          },
          {
           "name": "Edges",
           "type": "scatter3d",
           "x": [
            0,
            1,
            null,
            0.5,
            0.5,
            null
           ],
           "y": [
            0,
            0,
            null,
            0,
            1,
            null
           ],
           "z": [
            0,
            0,
            null,
            0.07399999999999998,
            0.07399999999999998,
            null
           ]
          },
          {
           "i": [],
           "j": [],
           "k": [],
           "name": "Faces",
           "type": "mesh3d",
           "x": {
            "bdata": "AAAAAAAAAAAAAAAAAADwPwAAAAAAAOA/AAAAAAAA4D8=",
            "dtype": "f8"
           },
           "y": {
            "bdata": "AAAAAAAAAAAAAAAAAAAAAAAAAAAAAAAAAAAAAAAA8D8=",
            "dtype": "f8"
           },
           "z": {
            "bdata": "AAAAAAAAAAAAAAAAAAAAAIps5/up8bI/imzn+6nxsj8=",
            "dtype": "f8"
           }
          }
         ],
         "layout": {
          "annotations": [
           {
            "showarrow": false,
            "text": "Time: 0.25s (Step: 26/100)",
            "x": 0.05,
            "xref": "paper",
            "y": 0.95,
            "yref": "paper"
           }
          ]
         },
         "name": "25"
        },
        {
         "data": [
          {
           "name": "Free Nodes",
           "type": "scatter3d",
           "x": {
            "bdata": "AAAAAAAAAAAAAAAAAADwPwAAAAAAAOA/AAAAAAAA4D8=",
            "dtype": "f8"
           },
           "y": {
            "bdata": "AAAAAAAAAAAAAAAAAAAAAAAAAAAAAAAAAAAAAAAA8D8=",
            "dtype": "f8"
           },
           "z": {
            "bdata": "AAAAAAAAAAAAAAAAAAAAAOKlm8QgsLI/4qWbxCCwsj8=",
            "dtype": "f8"
           }
          },
          {
           "name": "Fixed Nodes",
           "type": "scatter3d",
           "x": [],
           "y": [],
           "z": []
          },
          {
           "name": "Edges",
           "type": "scatter3d",
           "x": [
            0,
            1,
            null,
            0.5,
            0.5,
            null
           ],
           "y": [
            0,
            0,
            null,
            0,
            1,
            null
           ],
           "z": [
            0,
            0,
            null,
            0.07299999999999998,
            0.07299999999999998,
            null
           ]
          },
          {
           "i": [],
           "j": [],
           "k": [],
           "name": "Faces",
           "type": "mesh3d",
           "x": {
            "bdata": "AAAAAAAAAAAAAAAAAADwPwAAAAAAAOA/AAAAAAAA4D8=",
            "dtype": "f8"
           },
           "y": {
            "bdata": "AAAAAAAAAAAAAAAAAAAAAAAAAAAAAAAAAAAAAAAA8D8=",
            "dtype": "f8"
           },
           "z": {
            "bdata": "AAAAAAAAAAAAAAAAAAAAAOKlm8QgsLI/4qWbxCCwsj8=",
            "dtype": "f8"
           }
          }
         ],
         "layout": {
          "annotations": [
           {
            "showarrow": false,
            "text": "Time: 0.26s (Step: 27/100)",
            "x": 0.05,
            "xref": "paper",
            "y": 0.95,
            "yref": "paper"
           }
          ]
         },
         "name": "26"
        },
        {
         "data": [
          {
           "name": "Free Nodes",
           "type": "scatter3d",
           "x": {
            "bdata": "AAAAAAAAAAAAAAAAAADwPwAAAAAAAOA/AAAAAAAA4D8=",
            "dtype": "f8"
           },
           "y": {
            "bdata": "AAAAAAAAAAAAAAAAAAAAAAAAAAAAAAAAAAAAAAAA8D8=",
            "dtype": "f8"
           },
           "z": {
            "bdata": "AAAAAAAAAAAAAAAAAAAAADrfT42XbrI/Ot9PjZdusj8=",
            "dtype": "f8"
           }
          },
          {
           "name": "Fixed Nodes",
           "type": "scatter3d",
           "x": [],
           "y": [],
           "z": []
          },
          {
           "name": "Edges",
           "type": "scatter3d",
           "x": [
            0,
            1,
            null,
            0.5,
            0.5,
            null
           ],
           "y": [
            0,
            0,
            null,
            0,
            1,
            null
           ],
           "z": [
            0,
            0,
            null,
            0.07199999999999998,
            0.07199999999999998,
            null
           ]
          },
          {
           "i": [],
           "j": [],
           "k": [],
           "name": "Faces",
           "type": "mesh3d",
           "x": {
            "bdata": "AAAAAAAAAAAAAAAAAADwPwAAAAAAAOA/AAAAAAAA4D8=",
            "dtype": "f8"
           },
           "y": {
            "bdata": "AAAAAAAAAAAAAAAAAAAAAAAAAAAAAAAAAAAAAAAA8D8=",
            "dtype": "f8"
           },
           "z": {
            "bdata": "AAAAAAAAAAAAAAAAAAAAADrfT42XbrI/Ot9PjZdusj8=",
            "dtype": "f8"
           }
          }
         ],
         "layout": {
          "annotations": [
           {
            "showarrow": false,
            "text": "Time: 0.27s (Step: 28/100)",
            "x": 0.05,
            "xref": "paper",
            "y": 0.95,
            "yref": "paper"
           }
          ]
         },
         "name": "27"
        },
        {
         "data": [
          {
           "name": "Free Nodes",
           "type": "scatter3d",
           "x": {
            "bdata": "AAAAAAAAAAAAAAAAAADwPwAAAAAAAOA/AAAAAAAA4D8=",
            "dtype": "f8"
           },
           "y": {
            "bdata": "AAAAAAAAAAAAAAAAAAAAAAAAAAAAAAAAAAAAAAAA8D8=",
            "dtype": "f8"
           },
           "z": {
            "bdata": "AAAAAAAAAAAAAAAAAAAAAJIYBFYOLbI/khgEVg4tsj8=",
            "dtype": "f8"
           }
          },
          {
           "name": "Fixed Nodes",
           "type": "scatter3d",
           "x": [],
           "y": [],
           "z": []
          },
          {
           "name": "Edges",
           "type": "scatter3d",
           "x": [
            0,
            1,
            null,
            0.5,
            0.5,
            null
           ],
           "y": [
            0,
            0,
            null,
            0,
            1,
            null
           ],
           "z": [
            0,
            0,
            null,
            0.07099999999999998,
            0.07099999999999998,
            null
           ]
          },
          {
           "i": [],
           "j": [],
           "k": [],
           "name": "Faces",
           "type": "mesh3d",
           "x": {
            "bdata": "AAAAAAAAAAAAAAAAAADwPwAAAAAAAOA/AAAAAAAA4D8=",
            "dtype": "f8"
           },
           "y": {
            "bdata": "AAAAAAAAAAAAAAAAAAAAAAAAAAAAAAAAAAAAAAAA8D8=",
            "dtype": "f8"
           },
           "z": {
            "bdata": "AAAAAAAAAAAAAAAAAAAAAJIYBFYOLbI/khgEVg4tsj8=",
            "dtype": "f8"
           }
          }
         ],
         "layout": {
          "annotations": [
           {
            "showarrow": false,
            "text": "Time: 0.28s (Step: 29/100)",
            "x": 0.05,
            "xref": "paper",
            "y": 0.95,
            "yref": "paper"
           }
          ]
         },
         "name": "28"
        },
        {
         "data": [
          {
           "name": "Free Nodes",
           "type": "scatter3d",
           "x": {
            "bdata": "AAAAAAAAAAAAAAAAAADwPwAAAAAAAOA/AAAAAAAA4D8=",
            "dtype": "f8"
           },
           "y": {
            "bdata": "AAAAAAAAAAAAAAAAAAAAAAAAAAAAAAAAAAAAAAAA8D8=",
            "dtype": "f8"
           },
           "z": {
            "bdata": "AAAAAAAAAAAAAAAAAAAAAOpRuB6F67E/6lG4HoXrsT8=",
            "dtype": "f8"
           }
          },
          {
           "name": "Fixed Nodes",
           "type": "scatter3d",
           "x": [],
           "y": [],
           "z": []
          },
          {
           "name": "Edges",
           "type": "scatter3d",
           "x": [
            0,
            1,
            null,
            0.5,
            0.5,
            null
           ],
           "y": [
            0,
            0,
            null,
            0,
            1,
            null
           ],
           "z": [
            0,
            0,
            null,
            0.06999999999999998,
            0.06999999999999998,
            null
           ]
          },
          {
           "i": [],
           "j": [],
           "k": [],
           "name": "Faces",
           "type": "mesh3d",
           "x": {
            "bdata": "AAAAAAAAAAAAAAAAAADwPwAAAAAAAOA/AAAAAAAA4D8=",
            "dtype": "f8"
           },
           "y": {
            "bdata": "AAAAAAAAAAAAAAAAAAAAAAAAAAAAAAAAAAAAAAAA8D8=",
            "dtype": "f8"
           },
           "z": {
            "bdata": "AAAAAAAAAAAAAAAAAAAAAOpRuB6F67E/6lG4HoXrsT8=",
            "dtype": "f8"
           }
          }
         ],
         "layout": {
          "annotations": [
           {
            "showarrow": false,
            "text": "Time: 0.29s (Step: 30/100)",
            "x": 0.05,
            "xref": "paper",
            "y": 0.95,
            "yref": "paper"
           }
          ]
         },
         "name": "29"
        },
        {
         "data": [
          {
           "name": "Free Nodes",
           "type": "scatter3d",
           "x": {
            "bdata": "AAAAAAAAAAAAAAAAAADwPwAAAAAAAOA/AAAAAAAA4D8=",
            "dtype": "f8"
           },
           "y": {
            "bdata": "AAAAAAAAAAAAAAAAAAAAAAAAAAAAAAAAAAAAAAAA8D8=",
            "dtype": "f8"
           },
           "z": {
            "bdata": "AAAAAAAAAAAAAAAAAAAAAEKLbOf7qbE/Qots5/upsT8=",
            "dtype": "f8"
           }
          },
          {
           "name": "Fixed Nodes",
           "type": "scatter3d",
           "x": [],
           "y": [],
           "z": []
          },
          {
           "name": "Edges",
           "type": "scatter3d",
           "x": [
            0,
            1,
            null,
            0.5,
            0.5,
            null
           ],
           "y": [
            0,
            0,
            null,
            0,
            1,
            null
           ],
           "z": [
            0,
            0,
            null,
            0.06899999999999998,
            0.06899999999999998,
            null
           ]
          },
          {
           "i": [],
           "j": [],
           "k": [],
           "name": "Faces",
           "type": "mesh3d",
           "x": {
            "bdata": "AAAAAAAAAAAAAAAAAADwPwAAAAAAAOA/AAAAAAAA4D8=",
            "dtype": "f8"
           },
           "y": {
            "bdata": "AAAAAAAAAAAAAAAAAAAAAAAAAAAAAAAAAAAAAAAA8D8=",
            "dtype": "f8"
           },
           "z": {
            "bdata": "AAAAAAAAAAAAAAAAAAAAAEKLbOf7qbE/Qots5/upsT8=",
            "dtype": "f8"
           }
          }
         ],
         "layout": {
          "annotations": [
           {
            "showarrow": false,
            "text": "Time: 0.30s (Step: 31/100)",
            "x": 0.05,
            "xref": "paper",
            "y": 0.95,
            "yref": "paper"
           }
          ]
         },
         "name": "30"
        },
        {
         "data": [
          {
           "name": "Free Nodes",
           "type": "scatter3d",
           "x": {
            "bdata": "AAAAAAAAAAAAAAAAAADwPwAAAAAAAOA/AAAAAAAA4D8=",
            "dtype": "f8"
           },
           "y": {
            "bdata": "AAAAAAAAAAAAAAAAAAAAAAAAAAAAAAAAAAAAAAAA8D8=",
            "dtype": "f8"
           },
           "z": {
            "bdata": "AAAAAAAAAAAAAAAAAAAAAJrEILByaLE/msQgsHJosT8=",
            "dtype": "f8"
           }
          },
          {
           "name": "Fixed Nodes",
           "type": "scatter3d",
           "x": [],
           "y": [],
           "z": []
          },
          {
           "name": "Edges",
           "type": "scatter3d",
           "x": [
            0,
            1,
            null,
            0.5,
            0.5,
            null
           ],
           "y": [
            0,
            0,
            null,
            0,
            1,
            null
           ],
           "z": [
            0,
            0,
            null,
            0.06799999999999998,
            0.06799999999999998,
            null
           ]
          },
          {
           "i": [],
           "j": [],
           "k": [],
           "name": "Faces",
           "type": "mesh3d",
           "x": {
            "bdata": "AAAAAAAAAAAAAAAAAADwPwAAAAAAAOA/AAAAAAAA4D8=",
            "dtype": "f8"
           },
           "y": {
            "bdata": "AAAAAAAAAAAAAAAAAAAAAAAAAAAAAAAAAAAAAAAA8D8=",
            "dtype": "f8"
           },
           "z": {
            "bdata": "AAAAAAAAAAAAAAAAAAAAAJrEILByaLE/msQgsHJosT8=",
            "dtype": "f8"
           }
          }
         ],
         "layout": {
          "annotations": [
           {
            "showarrow": false,
            "text": "Time: 0.31s (Step: 32/100)",
            "x": 0.05,
            "xref": "paper",
            "y": 0.95,
            "yref": "paper"
           }
          ]
         },
         "name": "31"
        },
        {
         "data": [
          {
           "name": "Free Nodes",
           "type": "scatter3d",
           "x": {
            "bdata": "AAAAAAAAAAAAAAAAAADwPwAAAAAAAOA/AAAAAAAA4D8=",
            "dtype": "f8"
           },
           "y": {
            "bdata": "AAAAAAAAAAAAAAAAAAAAAAAAAAAAAAAAAAAAAAAA8D8=",
            "dtype": "f8"
           },
           "z": {
            "bdata": "AAAAAAAAAAAAAAAAAAAAAPL91HjpJrE/8v3UeOkmsT8=",
            "dtype": "f8"
           }
          },
          {
           "name": "Fixed Nodes",
           "type": "scatter3d",
           "x": [],
           "y": [],
           "z": []
          },
          {
           "name": "Edges",
           "type": "scatter3d",
           "x": [
            0,
            1,
            null,
            0.5,
            0.5,
            null
           ],
           "y": [
            0,
            0,
            null,
            0,
            1,
            null
           ],
           "z": [
            0,
            0,
            null,
            0.06699999999999998,
            0.06699999999999998,
            null
           ]
          },
          {
           "i": [],
           "j": [],
           "k": [],
           "name": "Faces",
           "type": "mesh3d",
           "x": {
            "bdata": "AAAAAAAAAAAAAAAAAADwPwAAAAAAAOA/AAAAAAAA4D8=",
            "dtype": "f8"
           },
           "y": {
            "bdata": "AAAAAAAAAAAAAAAAAAAAAAAAAAAAAAAAAAAAAAAA8D8=",
            "dtype": "f8"
           },
           "z": {
            "bdata": "AAAAAAAAAAAAAAAAAAAAAPL91HjpJrE/8v3UeOkmsT8=",
            "dtype": "f8"
           }
          }
         ],
         "layout": {
          "annotations": [
           {
            "showarrow": false,
            "text": "Time: 0.32s (Step: 33/100)",
            "x": 0.05,
            "xref": "paper",
            "y": 0.95,
            "yref": "paper"
           }
          ]
         },
         "name": "32"
        },
        {
         "data": [
          {
           "name": "Free Nodes",
           "type": "scatter3d",
           "x": {
            "bdata": "AAAAAAAAAAAAAAAAAADwPwAAAAAAAOA/AAAAAAAA4D8=",
            "dtype": "f8"
           },
           "y": {
            "bdata": "AAAAAAAAAAAAAAAAAAAAAAAAAAAAAAAAAAAAAAAA8D8=",
            "dtype": "f8"
           },
           "z": {
            "bdata": "AAAAAAAAAAAAAAAAAAAAAEo3iUFg5bA/SjeJQWDlsD8=",
            "dtype": "f8"
           }
          },
          {
           "name": "Fixed Nodes",
           "type": "scatter3d",
           "x": [],
           "y": [],
           "z": []
          },
          {
           "name": "Edges",
           "type": "scatter3d",
           "x": [
            0,
            1,
            null,
            0.5,
            0.5,
            null
           ],
           "y": [
            0,
            0,
            null,
            0,
            1,
            null
           ],
           "z": [
            0,
            0,
            null,
            0.06599999999999998,
            0.06599999999999998,
            null
           ]
          },
          {
           "i": [],
           "j": [],
           "k": [],
           "name": "Faces",
           "type": "mesh3d",
           "x": {
            "bdata": "AAAAAAAAAAAAAAAAAADwPwAAAAAAAOA/AAAAAAAA4D8=",
            "dtype": "f8"
           },
           "y": {
            "bdata": "AAAAAAAAAAAAAAAAAAAAAAAAAAAAAAAAAAAAAAAA8D8=",
            "dtype": "f8"
           },
           "z": {
            "bdata": "AAAAAAAAAAAAAAAAAAAAAEo3iUFg5bA/SjeJQWDlsD8=",
            "dtype": "f8"
           }
          }
         ],
         "layout": {
          "annotations": [
           {
            "showarrow": false,
            "text": "Time: 0.33s (Step: 34/100)",
            "x": 0.05,
            "xref": "paper",
            "y": 0.95,
            "yref": "paper"
           }
          ]
         },
         "name": "33"
        },
        {
         "data": [
          {
           "name": "Free Nodes",
           "type": "scatter3d",
           "x": {
            "bdata": "AAAAAAAAAAAAAAAAAADwPwAAAAAAAOA/AAAAAAAA4D8=",
            "dtype": "f8"
           },
           "y": {
            "bdata": "AAAAAAAAAAAAAAAAAAAAAAAAAAAAAAAAAAAAAAAA8D8=",
            "dtype": "f8"
           },
           "z": {
            "bdata": "AAAAAAAAAAAAAAAAAAAAAKJwPQrXo7A/onA9CtejsD8=",
            "dtype": "f8"
           }
          },
          {
           "name": "Fixed Nodes",
           "type": "scatter3d",
           "x": [],
           "y": [],
           "z": []
          },
          {
           "name": "Edges",
           "type": "scatter3d",
           "x": [
            0,
            1,
            null,
            0.5,
            0.5,
            null
           ],
           "y": [
            0,
            0,
            null,
            0,
            1,
            null
           ],
           "z": [
            0,
            0,
            null,
            0.06499999999999997,
            0.06499999999999997,
            null
           ]
          },
          {
           "i": [],
           "j": [],
           "k": [],
           "name": "Faces",
           "type": "mesh3d",
           "x": {
            "bdata": "AAAAAAAAAAAAAAAAAADwPwAAAAAAAOA/AAAAAAAA4D8=",
            "dtype": "f8"
           },
           "y": {
            "bdata": "AAAAAAAAAAAAAAAAAAAAAAAAAAAAAAAAAAAAAAAA8D8=",
            "dtype": "f8"
           },
           "z": {
            "bdata": "AAAAAAAAAAAAAAAAAAAAAKJwPQrXo7A/onA9CtejsD8=",
            "dtype": "f8"
           }
          }
         ],
         "layout": {
          "annotations": [
           {
            "showarrow": false,
            "text": "Time: 0.34s (Step: 35/100)",
            "x": 0.05,
            "xref": "paper",
            "y": 0.95,
            "yref": "paper"
           }
          ]
         },
         "name": "34"
        },
        {
         "data": [
          {
           "name": "Free Nodes",
           "type": "scatter3d",
           "x": {
            "bdata": "AAAAAAAAAAAAAAAAAADwPwAAAAAAAOA/AAAAAAAA4D8=",
            "dtype": "f8"
           },
           "y": {
            "bdata": "AAAAAAAAAAAAAAAAAAAAAAAAAAAAAAAAAAAAAAAA8D8=",
            "dtype": "f8"
           },
           "z": {
            "bdata": "AAAAAAAAAAAAAAAAAAAAAPqp8dJNYrA/+qnx0k1isD8=",
            "dtype": "f8"
           }
          },
          {
           "name": "Fixed Nodes",
           "type": "scatter3d",
           "x": [],
           "y": [],
           "z": []
          },
          {
           "name": "Edges",
           "type": "scatter3d",
           "x": [
            0,
            1,
            null,
            0.5,
            0.5,
            null
           ],
           "y": [
            0,
            0,
            null,
            0,
            1,
            null
           ],
           "z": [
            0,
            0,
            null,
            0.06399999999999997,
            0.06399999999999997,
            null
           ]
          },
          {
           "i": [],
           "j": [],
           "k": [],
           "name": "Faces",
           "type": "mesh3d",
           "x": {
            "bdata": "AAAAAAAAAAAAAAAAAADwPwAAAAAAAOA/AAAAAAAA4D8=",
            "dtype": "f8"
           },
           "y": {
            "bdata": "AAAAAAAAAAAAAAAAAAAAAAAAAAAAAAAAAAAAAAAA8D8=",
            "dtype": "f8"
           },
           "z": {
            "bdata": "AAAAAAAAAAAAAAAAAAAAAPqp8dJNYrA/+qnx0k1isD8=",
            "dtype": "f8"
           }
          }
         ],
         "layout": {
          "annotations": [
           {
            "showarrow": false,
            "text": "Time: 0.35s (Step: 36/100)",
            "x": 0.05,
            "xref": "paper",
            "y": 0.95,
            "yref": "paper"
           }
          ]
         },
         "name": "35"
        },
        {
         "data": [
          {
           "name": "Free Nodes",
           "type": "scatter3d",
           "x": {
            "bdata": "AAAAAAAAAAAAAAAAAADwPwAAAAAAAOA/AAAAAAAA4D8=",
            "dtype": "f8"
           },
           "y": {
            "bdata": "AAAAAAAAAAAAAAAAAAAAAAAAAAAAAAAAAAAAAAAA8D8=",
            "dtype": "f8"
           },
           "z": {
            "bdata": "AAAAAAAAAAAAAAAAAAAAAFLjpZvEILA/UuOlm8QgsD8=",
            "dtype": "f8"
           }
          },
          {
           "name": "Fixed Nodes",
           "type": "scatter3d",
           "x": [],
           "y": [],
           "z": []
          },
          {
           "name": "Edges",
           "type": "scatter3d",
           "x": [
            0,
            1,
            null,
            0.5,
            0.5,
            null
           ],
           "y": [
            0,
            0,
            null,
            0,
            1,
            null
           ],
           "z": [
            0,
            0,
            null,
            0.06299999999999997,
            0.06299999999999997,
            null
           ]
          },
          {
           "i": [],
           "j": [],
           "k": [],
           "name": "Faces",
           "type": "mesh3d",
           "x": {
            "bdata": "AAAAAAAAAAAAAAAAAADwPwAAAAAAAOA/AAAAAAAA4D8=",
            "dtype": "f8"
           },
           "y": {
            "bdata": "AAAAAAAAAAAAAAAAAAAAAAAAAAAAAAAAAAAAAAAA8D8=",
            "dtype": "f8"
           },
           "z": {
            "bdata": "AAAAAAAAAAAAAAAAAAAAAFLjpZvEILA/UuOlm8QgsD8=",
            "dtype": "f8"
           }
          }
         ],
         "layout": {
          "annotations": [
           {
            "showarrow": false,
            "text": "Time: 0.36s (Step: 37/100)",
            "x": 0.05,
            "xref": "paper",
            "y": 0.95,
            "yref": "paper"
           }
          ]
         },
         "name": "36"
        },
        {
         "data": [
          {
           "name": "Free Nodes",
           "type": "scatter3d",
           "x": {
            "bdata": "AAAAAAAAAAAAAAAAAADwPwAAAAAAAOA/AAAAAAAA4D8=",
            "dtype": "f8"
           },
           "y": {
            "bdata": "AAAAAAAAAAAAAAAAAAAAAAAAAAAAAAAAAAAAAAAA8D8=",
            "dtype": "f8"
           },
           "z": {
            "bdata": "AAAAAAAAAAAAAAAAAAAAAFQ5tMh2vq8/VDm0yHa+rz8=",
            "dtype": "f8"
           }
          },
          {
           "name": "Fixed Nodes",
           "type": "scatter3d",
           "x": [],
           "y": [],
           "z": []
          },
          {
           "name": "Edges",
           "type": "scatter3d",
           "x": [
            0,
            1,
            null,
            0.5,
            0.5,
            null
           ],
           "y": [
            0,
            0,
            null,
            0,
            1,
            null
           ],
           "z": [
            0,
            0,
            null,
            0.06199999999999997,
            0.06199999999999997,
            null
           ]
          },
          {
           "i": [],
           "j": [],
           "k": [],
           "name": "Faces",
           "type": "mesh3d",
           "x": {
            "bdata": "AAAAAAAAAAAAAAAAAADwPwAAAAAAAOA/AAAAAAAA4D8=",
            "dtype": "f8"
           },
           "y": {
            "bdata": "AAAAAAAAAAAAAAAAAAAAAAAAAAAAAAAAAAAAAAAA8D8=",
            "dtype": "f8"
           },
           "z": {
            "bdata": "AAAAAAAAAAAAAAAAAAAAAFQ5tMh2vq8/VDm0yHa+rz8=",
            "dtype": "f8"
           }
          }
         ],
         "layout": {
          "annotations": [
           {
            "showarrow": false,
            "text": "Time: 0.37s (Step: 38/100)",
            "x": 0.05,
            "xref": "paper",
            "y": 0.95,
            "yref": "paper"
           }
          ]
         },
         "name": "37"
        },
        {
         "data": [
          {
           "name": "Free Nodes",
           "type": "scatter3d",
           "x": {
            "bdata": "AAAAAAAAAAAAAAAAAADwPwAAAAAAAOA/AAAAAAAA4D8=",
            "dtype": "f8"
           },
           "y": {
            "bdata": "AAAAAAAAAAAAAAAAAAAAAAAAAAAAAAAAAAAAAAAA8D8=",
            "dtype": "f8"
           },
           "z": {
            "bdata": "AAAAAAAAAAAAAAAAAAAAAASsHFpkO68/BKwcWmQ7rz8=",
            "dtype": "f8"
           }
          },
          {
           "name": "Fixed Nodes",
           "type": "scatter3d",
           "x": [],
           "y": [],
           "z": []
          },
          {
           "name": "Edges",
           "type": "scatter3d",
           "x": [
            0,
            1,
            null,
            0.5,
            0.5,
            null
           ],
           "y": [
            0,
            0,
            null,
            0,
            1,
            null
           ],
           "z": [
            0,
            0,
            null,
            0.06099999999999997,
            0.06099999999999997,
            null
           ]
          },
          {
           "i": [],
           "j": [],
           "k": [],
           "name": "Faces",
           "type": "mesh3d",
           "x": {
            "bdata": "AAAAAAAAAAAAAAAAAADwPwAAAAAAAOA/AAAAAAAA4D8=",
            "dtype": "f8"
           },
           "y": {
            "bdata": "AAAAAAAAAAAAAAAAAAAAAAAAAAAAAAAAAAAAAAAA8D8=",
            "dtype": "f8"
           },
           "z": {
            "bdata": "AAAAAAAAAAAAAAAAAAAAAASsHFpkO68/BKwcWmQ7rz8=",
            "dtype": "f8"
           }
          }
         ],
         "layout": {
          "annotations": [
           {
            "showarrow": false,
            "text": "Time: 0.38s (Step: 39/100)",
            "x": 0.05,
            "xref": "paper",
            "y": 0.95,
            "yref": "paper"
           }
          ]
         },
         "name": "38"
        },
        {
         "data": [
          {
           "name": "Free Nodes",
           "type": "scatter3d",
           "x": {
            "bdata": "AAAAAAAAAAAAAAAAAADwPwAAAAAAAOA/AAAAAAAA4D8=",
            "dtype": "f8"
           },
           "y": {
            "bdata": "AAAAAAAAAAAAAAAAAAAAAAAAAAAAAAAAAAAAAAAA8D8=",
            "dtype": "f8"
           },
           "z": {
            "bdata": "AAAAAAAAAAAAAAAAAAAAALQehetRuK4/tB6F61G4rj8=",
            "dtype": "f8"
           }
          },
          {
           "name": "Fixed Nodes",
           "type": "scatter3d",
           "x": [],
           "y": [],
           "z": []
          },
          {
           "name": "Edges",
           "type": "scatter3d",
           "x": [
            0,
            1,
            null,
            0.5,
            0.5,
            null
           ],
           "y": [
            0,
            0,
            null,
            0,
            1,
            null
           ],
           "z": [
            0,
            0,
            null,
            0.05999999999999997,
            0.05999999999999997,
            null
           ]
          },
          {
           "i": [],
           "j": [],
           "k": [],
           "name": "Faces",
           "type": "mesh3d",
           "x": {
            "bdata": "AAAAAAAAAAAAAAAAAADwPwAAAAAAAOA/AAAAAAAA4D8=",
            "dtype": "f8"
           },
           "y": {
            "bdata": "AAAAAAAAAAAAAAAAAAAAAAAAAAAAAAAAAAAAAAAA8D8=",
            "dtype": "f8"
           },
           "z": {
            "bdata": "AAAAAAAAAAAAAAAAAAAAALQehetRuK4/tB6F61G4rj8=",
            "dtype": "f8"
           }
          }
         ],
         "layout": {
          "annotations": [
           {
            "showarrow": false,
            "text": "Time: 0.39s (Step: 40/100)",
            "x": 0.05,
            "xref": "paper",
            "y": 0.95,
            "yref": "paper"
           }
          ]
         },
         "name": "39"
        },
        {
         "data": [
          {
           "name": "Free Nodes",
           "type": "scatter3d",
           "x": {
            "bdata": "AAAAAAAAAAAAAAAAAADwPwAAAAAAAOA/AAAAAAAA4D8=",
            "dtype": "f8"
           },
           "y": {
            "bdata": "AAAAAAAAAAAAAAAAAAAAAAAAAAAAAAAAAAAAAAAA8D8=",
            "dtype": "f8"
           },
           "z": {
            "bdata": "AAAAAAAAAAAAAAAAAAAAAGSR7Xw/Na4/ZJHtfD81rj8=",
            "dtype": "f8"
           }
          },
          {
           "name": "Fixed Nodes",
           "type": "scatter3d",
           "x": [],
           "y": [],
           "z": []
          },
          {
           "name": "Edges",
           "type": "scatter3d",
           "x": [
            0,
            1,
            null,
            0.5,
            0.5,
            null
           ],
           "y": [
            0,
            0,
            null,
            0,
            1,
            null
           ],
           "z": [
            0,
            0,
            null,
            0.05899999999999997,
            0.05899999999999997,
            null
           ]
          },
          {
           "i": [],
           "j": [],
           "k": [],
           "name": "Faces",
           "type": "mesh3d",
           "x": {
            "bdata": "AAAAAAAAAAAAAAAAAADwPwAAAAAAAOA/AAAAAAAA4D8=",
            "dtype": "f8"
           },
           "y": {
            "bdata": "AAAAAAAAAAAAAAAAAAAAAAAAAAAAAAAAAAAAAAAA8D8=",
            "dtype": "f8"
           },
           "z": {
            "bdata": "AAAAAAAAAAAAAAAAAAAAAGSR7Xw/Na4/ZJHtfD81rj8=",
            "dtype": "f8"
           }
          }
         ],
         "layout": {
          "annotations": [
           {
            "showarrow": false,
            "text": "Time: 0.40s (Step: 41/100)",
            "x": 0.05,
            "xref": "paper",
            "y": 0.95,
            "yref": "paper"
           }
          ]
         },
         "name": "40"
        },
        {
         "data": [
          {
           "name": "Free Nodes",
           "type": "scatter3d",
           "x": {
            "bdata": "AAAAAAAAAAAAAAAAAADwPwAAAAAAAOA/AAAAAAAA4D8=",
            "dtype": "f8"
           },
           "y": {
            "bdata": "AAAAAAAAAAAAAAAAAAAAAAAAAAAAAAAAAAAAAAAA8D8=",
            "dtype": "f8"
           },
           "z": {
            "bdata": "AAAAAAAAAAAAAAAAAAAAABQEVg4tsq0/FARWDi2yrT8=",
            "dtype": "f8"
           }
          },
          {
           "name": "Fixed Nodes",
           "type": "scatter3d",
           "x": [],
           "y": [],
           "z": []
          },
          {
           "name": "Edges",
           "type": "scatter3d",
           "x": [
            0,
            1,
            null,
            0.5,
            0.5,
            null
           ],
           "y": [
            0,
            0,
            null,
            0,
            1,
            null
           ],
           "z": [
            0,
            0,
            null,
            0.05799999999999997,
            0.05799999999999997,
            null
           ]
          },
          {
           "i": [],
           "j": [],
           "k": [],
           "name": "Faces",
           "type": "mesh3d",
           "x": {
            "bdata": "AAAAAAAAAAAAAAAAAADwPwAAAAAAAOA/AAAAAAAA4D8=",
            "dtype": "f8"
           },
           "y": {
            "bdata": "AAAAAAAAAAAAAAAAAAAAAAAAAAAAAAAAAAAAAAAA8D8=",
            "dtype": "f8"
           },
           "z": {
            "bdata": "AAAAAAAAAAAAAAAAAAAAABQEVg4tsq0/FARWDi2yrT8=",
            "dtype": "f8"
           }
          }
         ],
         "layout": {
          "annotations": [
           {
            "showarrow": false,
            "text": "Time: 0.41s (Step: 42/100)",
            "x": 0.05,
            "xref": "paper",
            "y": 0.95,
            "yref": "paper"
           }
          ]
         },
         "name": "41"
        },
        {
         "data": [
          {
           "name": "Free Nodes",
           "type": "scatter3d",
           "x": {
            "bdata": "AAAAAAAAAAAAAAAAAADwPwAAAAAAAOA/AAAAAAAA4D8=",
            "dtype": "f8"
           },
           "y": {
            "bdata": "AAAAAAAAAAAAAAAAAAAAAAAAAAAAAAAAAAAAAAAA8D8=",
            "dtype": "f8"
           },
           "z": {
            "bdata": "AAAAAAAAAAAAAAAAAAAAAMR2vp8aL60/xHa+nxovrT8=",
            "dtype": "f8"
           }
          },
          {
           "name": "Fixed Nodes",
           "type": "scatter3d",
           "x": [],
           "y": [],
           "z": []
          },
          {
           "name": "Edges",
           "type": "scatter3d",
           "x": [
            0,
            1,
            null,
            0.5,
            0.5,
            null
           ],
           "y": [
            0,
            0,
            null,
            0,
            1,
            null
           ],
           "z": [
            0,
            0,
            null,
            0.05699999999999997,
            0.05699999999999997,
            null
           ]
          },
          {
           "i": [],
           "j": [],
           "k": [],
           "name": "Faces",
           "type": "mesh3d",
           "x": {
            "bdata": "AAAAAAAAAAAAAAAAAADwPwAAAAAAAOA/AAAAAAAA4D8=",
            "dtype": "f8"
           },
           "y": {
            "bdata": "AAAAAAAAAAAAAAAAAAAAAAAAAAAAAAAAAAAAAAAA8D8=",
            "dtype": "f8"
           },
           "z": {
            "bdata": "AAAAAAAAAAAAAAAAAAAAAMR2vp8aL60/xHa+nxovrT8=",
            "dtype": "f8"
           }
          }
         ],
         "layout": {
          "annotations": [
           {
            "showarrow": false,
            "text": "Time: 0.42s (Step: 43/100)",
            "x": 0.05,
            "xref": "paper",
            "y": 0.95,
            "yref": "paper"
           }
          ]
         },
         "name": "42"
        },
        {
         "data": [
          {
           "name": "Free Nodes",
           "type": "scatter3d",
           "x": {
            "bdata": "AAAAAAAAAAAAAAAAAADwPwAAAAAAAOA/AAAAAAAA4D8=",
            "dtype": "f8"
           },
           "y": {
            "bdata": "AAAAAAAAAAAAAAAAAAAAAAAAAAAAAAAAAAAAAAAA8D8=",
            "dtype": "f8"
           },
           "z": {
            "bdata": "AAAAAAAAAAAAAAAAAAAAAHTpJjEIrKw/dOkmMQisrD8=",
            "dtype": "f8"
           }
          },
          {
           "name": "Fixed Nodes",
           "type": "scatter3d",
           "x": [],
           "y": [],
           "z": []
          },
          {
           "name": "Edges",
           "type": "scatter3d",
           "x": [
            0,
            1,
            null,
            0.5,
            0.5,
            null
           ],
           "y": [
            0,
            0,
            null,
            0,
            1,
            null
           ],
           "z": [
            0,
            0,
            null,
            0.055999999999999966,
            0.055999999999999966,
            null
           ]
          },
          {
           "i": [],
           "j": [],
           "k": [],
           "name": "Faces",
           "type": "mesh3d",
           "x": {
            "bdata": "AAAAAAAAAAAAAAAAAADwPwAAAAAAAOA/AAAAAAAA4D8=",
            "dtype": "f8"
           },
           "y": {
            "bdata": "AAAAAAAAAAAAAAAAAAAAAAAAAAAAAAAAAAAAAAAA8D8=",
            "dtype": "f8"
           },
           "z": {
            "bdata": "AAAAAAAAAAAAAAAAAAAAAHTpJjEIrKw/dOkmMQisrD8=",
            "dtype": "f8"
           }
          }
         ],
         "layout": {
          "annotations": [
           {
            "showarrow": false,
            "text": "Time: 0.43s (Step: 44/100)",
            "x": 0.05,
            "xref": "paper",
            "y": 0.95,
            "yref": "paper"
           }
          ]
         },
         "name": "43"
        },
        {
         "data": [
          {
           "name": "Free Nodes",
           "type": "scatter3d",
           "x": {
            "bdata": "AAAAAAAAAAAAAAAAAADwPwAAAAAAAOA/AAAAAAAA4D8=",
            "dtype": "f8"
           },
           "y": {
            "bdata": "AAAAAAAAAAAAAAAAAAAAAAAAAAAAAAAAAAAAAAAA8D8=",
            "dtype": "f8"
           },
           "z": {
            "bdata": "AAAAAAAAAAAAAAAAAAAAACRcj8L1KKw/JFyPwvUorD8=",
            "dtype": "f8"
           }
          },
          {
           "name": "Fixed Nodes",
           "type": "scatter3d",
           "x": [],
           "y": [],
           "z": []
          },
          {
           "name": "Edges",
           "type": "scatter3d",
           "x": [
            0,
            1,
            null,
            0.5,
            0.5,
            null
           ],
           "y": [
            0,
            0,
            null,
            0,
            1,
            null
           ],
           "z": [
            0,
            0,
            null,
            0.054999999999999966,
            0.054999999999999966,
            null
           ]
          },
          {
           "i": [],
           "j": [],
           "k": [],
           "name": "Faces",
           "type": "mesh3d",
           "x": {
            "bdata": "AAAAAAAAAAAAAAAAAADwPwAAAAAAAOA/AAAAAAAA4D8=",
            "dtype": "f8"
           },
           "y": {
            "bdata": "AAAAAAAAAAAAAAAAAAAAAAAAAAAAAAAAAAAAAAAA8D8=",
            "dtype": "f8"
           },
           "z": {
            "bdata": "AAAAAAAAAAAAAAAAAAAAACRcj8L1KKw/JFyPwvUorD8=",
            "dtype": "f8"
           }
          }
         ],
         "layout": {
          "annotations": [
           {
            "showarrow": false,
            "text": "Time: 0.44s (Step: 45/100)",
            "x": 0.05,
            "xref": "paper",
            "y": 0.95,
            "yref": "paper"
           }
          ]
         },
         "name": "44"
        },
        {
         "data": [
          {
           "name": "Free Nodes",
           "type": "scatter3d",
           "x": {
            "bdata": "AAAAAAAAAAAAAAAAAADwPwAAAAAAAOA/AAAAAAAA4D8=",
            "dtype": "f8"
           },
           "y": {
            "bdata": "AAAAAAAAAAAAAAAAAAAAAAAAAAAAAAAAAAAAAAAA8D8=",
            "dtype": "f8"
           },
           "z": {
            "bdata": "AAAAAAAAAAAAAAAAAAAAANTO91Pjpas/1M73U+Olqz8=",
            "dtype": "f8"
           }
          },
          {
           "name": "Fixed Nodes",
           "type": "scatter3d",
           "x": [],
           "y": [],
           "z": []
          },
          {
           "name": "Edges",
           "type": "scatter3d",
           "x": [
            0,
            1,
            null,
            0.5,
            0.5,
            null
           ],
           "y": [
            0,
            0,
            null,
            0,
            1,
            null
           ],
           "z": [
            0,
            0,
            null,
            0.053999999999999965,
            0.053999999999999965,
            null
           ]
          },
          {
           "i": [],
           "j": [],
           "k": [],
           "name": "Faces",
           "type": "mesh3d",
           "x": {
            "bdata": "AAAAAAAAAAAAAAAAAADwPwAAAAAAAOA/AAAAAAAA4D8=",
            "dtype": "f8"
           },
           "y": {
            "bdata": "AAAAAAAAAAAAAAAAAAAAAAAAAAAAAAAAAAAAAAAA8D8=",
            "dtype": "f8"
           },
           "z": {
            "bdata": "AAAAAAAAAAAAAAAAAAAAANTO91Pjpas/1M73U+Olqz8=",
            "dtype": "f8"
           }
          }
         ],
         "layout": {
          "annotations": [
           {
            "showarrow": false,
            "text": "Time: 0.45s (Step: 46/100)",
            "x": 0.05,
            "xref": "paper",
            "y": 0.95,
            "yref": "paper"
           }
          ]
         },
         "name": "45"
        },
        {
         "data": [
          {
           "name": "Free Nodes",
           "type": "scatter3d",
           "x": {
            "bdata": "AAAAAAAAAAAAAAAAAADwPwAAAAAAAOA/AAAAAAAA4D8=",
            "dtype": "f8"
           },
           "y": {
            "bdata": "AAAAAAAAAAAAAAAAAAAAAAAAAAAAAAAAAAAAAAAA8D8=",
            "dtype": "f8"
           },
           "z": {
            "bdata": "AAAAAAAAAAAAAAAAAAAAAIRBYOXQIqs/hEFg5dAiqz8=",
            "dtype": "f8"
           }
          },
          {
           "name": "Fixed Nodes",
           "type": "scatter3d",
           "x": [],
           "y": [],
           "z": []
          },
          {
           "name": "Edges",
           "type": "scatter3d",
           "x": [
            0,
            1,
            null,
            0.5,
            0.5,
            null
           ],
           "y": [
            0,
            0,
            null,
            0,
            1,
            null
           ],
           "z": [
            0,
            0,
            null,
            0.052999999999999964,
            0.052999999999999964,
            null
           ]
          },
          {
           "i": [],
           "j": [],
           "k": [],
           "name": "Faces",
           "type": "mesh3d",
           "x": {
            "bdata": "AAAAAAAAAAAAAAAAAADwPwAAAAAAAOA/AAAAAAAA4D8=",
            "dtype": "f8"
           },
           "y": {
            "bdata": "AAAAAAAAAAAAAAAAAAAAAAAAAAAAAAAAAAAAAAAA8D8=",
            "dtype": "f8"
           },
           "z": {
            "bdata": "AAAAAAAAAAAAAAAAAAAAAIRBYOXQIqs/hEFg5dAiqz8=",
            "dtype": "f8"
           }
          }
         ],
         "layout": {
          "annotations": [
           {
            "showarrow": false,
            "text": "Time: 0.46s (Step: 47/100)",
            "x": 0.05,
            "xref": "paper",
            "y": 0.95,
            "yref": "paper"
           }
          ]
         },
         "name": "46"
        },
        {
         "data": [
          {
           "name": "Free Nodes",
           "type": "scatter3d",
           "x": {
            "bdata": "AAAAAAAAAAAAAAAAAADwPwAAAAAAAOA/AAAAAAAA4D8=",
            "dtype": "f8"
           },
           "y": {
            "bdata": "AAAAAAAAAAAAAAAAAAAAAAAAAAAAAAAAAAAAAAAA8D8=",
            "dtype": "f8"
           },
           "z": {
            "bdata": "AAAAAAAAAAAAAAAAAAAAADS0yHa+n6o/NLTIdr6fqj8=",
            "dtype": "f8"
           }
          },
          {
           "name": "Fixed Nodes",
           "type": "scatter3d",
           "x": [],
           "y": [],
           "z": []
          },
          {
           "name": "Edges",
           "type": "scatter3d",
           "x": [
            0,
            1,
            null,
            0.5,
            0.5,
            null
           ],
           "y": [
            0,
            0,
            null,
            0,
            1,
            null
           ],
           "z": [
            0,
            0,
            null,
            0.05199999999999996,
            0.05199999999999996,
            null
           ]
          },
          {
           "i": [],
           "j": [],
           "k": [],
           "name": "Faces",
           "type": "mesh3d",
           "x": {
            "bdata": "AAAAAAAAAAAAAAAAAADwPwAAAAAAAOA/AAAAAAAA4D8=",
            "dtype": "f8"
           },
           "y": {
            "bdata": "AAAAAAAAAAAAAAAAAAAAAAAAAAAAAAAAAAAAAAAA8D8=",
            "dtype": "f8"
           },
           "z": {
            "bdata": "AAAAAAAAAAAAAAAAAAAAADS0yHa+n6o/NLTIdr6fqj8=",
            "dtype": "f8"
           }
          }
         ],
         "layout": {
          "annotations": [
           {
            "showarrow": false,
            "text": "Time: 0.47s (Step: 48/100)",
            "x": 0.05,
            "xref": "paper",
            "y": 0.95,
            "yref": "paper"
           }
          ]
         },
         "name": "47"
        },
        {
         "data": [
          {
           "name": "Free Nodes",
           "type": "scatter3d",
           "x": {
            "bdata": "AAAAAAAAAAAAAAAAAADwPwAAAAAAAOA/AAAAAAAA4D8=",
            "dtype": "f8"
           },
           "y": {
            "bdata": "AAAAAAAAAAAAAAAAAAAAAAAAAAAAAAAAAAAAAAAA8D8=",
            "dtype": "f8"
           },
           "z": {
            "bdata": "AAAAAAAAAAAAAAAAAAAAAOQmMQisHKo/5CYxCKwcqj8=",
            "dtype": "f8"
           }
          },
          {
           "name": "Fixed Nodes",
           "type": "scatter3d",
           "x": [],
           "y": [],
           "z": []
          },
          {
           "name": "Edges",
           "type": "scatter3d",
           "x": [
            0,
            1,
            null,
            0.5,
            0.5,
            null
           ],
           "y": [
            0,
            0,
            null,
            0,
            1,
            null
           ],
           "z": [
            0,
            0,
            null,
            0.05099999999999996,
            0.05099999999999996,
            null
           ]
          },
          {
           "i": [],
           "j": [],
           "k": [],
           "name": "Faces",
           "type": "mesh3d",
           "x": {
            "bdata": "AAAAAAAAAAAAAAAAAADwPwAAAAAAAOA/AAAAAAAA4D8=",
            "dtype": "f8"
           },
           "y": {
            "bdata": "AAAAAAAAAAAAAAAAAAAAAAAAAAAAAAAAAAAAAAAA8D8=",
            "dtype": "f8"
           },
           "z": {
            "bdata": "AAAAAAAAAAAAAAAAAAAAAOQmMQisHKo/5CYxCKwcqj8=",
            "dtype": "f8"
           }
          }
         ],
         "layout": {
          "annotations": [
           {
            "showarrow": false,
            "text": "Time: 0.48s (Step: 49/100)",
            "x": 0.05,
            "xref": "paper",
            "y": 0.95,
            "yref": "paper"
           }
          ]
         },
         "name": "48"
        },
        {
         "data": [
          {
           "name": "Free Nodes",
           "type": "scatter3d",
           "x": {
            "bdata": "AAAAAAAAAAAAAAAAAADwPwAAAAAAAOA/AAAAAAAA4D8=",
            "dtype": "f8"
           },
           "y": {
            "bdata": "AAAAAAAAAAAAAAAAAAAAAAAAAAAAAAAAAAAAAAAA8D8=",
            "dtype": "f8"
           },
           "z": {
            "bdata": "AAAAAAAAAAAAAAAAAAAAAJSZmZmZmak/lJmZmZmZqT8=",
            "dtype": "f8"
           }
          },
          {
           "name": "Fixed Nodes",
           "type": "scatter3d",
           "x": [],
           "y": [],
           "z": []
          },
          {
           "name": "Edges",
           "type": "scatter3d",
           "x": [
            0,
            1,
            null,
            0.5,
            0.5,
            null
           ],
           "y": [
            0,
            0,
            null,
            0,
            1,
            null
           ],
           "z": [
            0,
            0,
            null,
            0.04999999999999996,
            0.04999999999999996,
            null
           ]
          },
          {
           "i": [],
           "j": [],
           "k": [],
           "name": "Faces",
           "type": "mesh3d",
           "x": {
            "bdata": "AAAAAAAAAAAAAAAAAADwPwAAAAAAAOA/AAAAAAAA4D8=",
            "dtype": "f8"
           },
           "y": {
            "bdata": "AAAAAAAAAAAAAAAAAAAAAAAAAAAAAAAAAAAAAAAA8D8=",
            "dtype": "f8"
           },
           "z": {
            "bdata": "AAAAAAAAAAAAAAAAAAAAAJSZmZmZmak/lJmZmZmZqT8=",
            "dtype": "f8"
           }
          }
         ],
         "layout": {
          "annotations": [
           {
            "showarrow": false,
            "text": "Time: 0.49s (Step: 50/100)",
            "x": 0.05,
            "xref": "paper",
            "y": 0.95,
            "yref": "paper"
           }
          ]
         },
         "name": "49"
        },
        {
         "data": [
          {
           "name": "Free Nodes",
           "type": "scatter3d",
           "x": {
            "bdata": "AAAAAAAAAAAAAAAAAADwPwAAAAAAAOA/AAAAAAAA4D8=",
            "dtype": "f8"
           },
           "y": {
            "bdata": "AAAAAAAAAAAAAAAAAAAAAAAAAAAAAAAAAAAAAAAA8D8=",
            "dtype": "f8"
           },
           "z": {
            "bdata": "AAAAAAAAAAAAAAAAAAAAAEQMAiuHFqk/RAwCK4cWqT8=",
            "dtype": "f8"
           }
          },
          {
           "name": "Fixed Nodes",
           "type": "scatter3d",
           "x": [],
           "y": [],
           "z": []
          },
          {
           "name": "Edges",
           "type": "scatter3d",
           "x": [
            0,
            1,
            null,
            0.5,
            0.5,
            null
           ],
           "y": [
            0,
            0,
            null,
            0,
            1,
            null
           ],
           "z": [
            0,
            0,
            null,
            0.04899999999999996,
            0.04899999999999996,
            null
           ]
          },
          {
           "i": [],
           "j": [],
           "k": [],
           "name": "Faces",
           "type": "mesh3d",
           "x": {
            "bdata": "AAAAAAAAAAAAAAAAAADwPwAAAAAAAOA/AAAAAAAA4D8=",
            "dtype": "f8"
           },
           "y": {
            "bdata": "AAAAAAAAAAAAAAAAAAAAAAAAAAAAAAAAAAAAAAAA8D8=",
            "dtype": "f8"
           },
           "z": {
            "bdata": "AAAAAAAAAAAAAAAAAAAAAEQMAiuHFqk/RAwCK4cWqT8=",
            "dtype": "f8"
           }
          }
         ],
         "layout": {
          "annotations": [
           {
            "showarrow": false,
            "text": "Time: 0.50s (Step: 51/100)",
            "x": 0.05,
            "xref": "paper",
            "y": 0.95,
            "yref": "paper"
           }
          ]
         },
         "name": "50"
        },
        {
         "data": [
          {
           "name": "Free Nodes",
           "type": "scatter3d",
           "x": {
            "bdata": "AAAAAAAAAAAAAAAAAADwPwAAAAAAAOA/AAAAAAAA4D8=",
            "dtype": "f8"
           },
           "y": {
            "bdata": "AAAAAAAAAAAAAAAAAAAAAAAAAAAAAAAAAAAAAAAA8D8=",
            "dtype": "f8"
           },
           "z": {
            "bdata": "AAAAAAAAAAAAAAAAAAAAAPR+arx0k6g/9H5qvHSTqD8=",
            "dtype": "f8"
           }
          },
          {
           "name": "Fixed Nodes",
           "type": "scatter3d",
           "x": [],
           "y": [],
           "z": []
          },
          {
           "name": "Edges",
           "type": "scatter3d",
           "x": [
            0,
            1,
            null,
            0.5,
            0.5,
            null
           ],
           "y": [
            0,
            0,
            null,
            0,
            1,
            null
           ],
           "z": [
            0,
            0,
            null,
            0.04799999999999996,
            0.04799999999999996,
            null
           ]
          },
          {
           "i": [],
           "j": [],
           "k": [],
           "name": "Faces",
           "type": "mesh3d",
           "x": {
            "bdata": "AAAAAAAAAAAAAAAAAADwPwAAAAAAAOA/AAAAAAAA4D8=",
            "dtype": "f8"
           },
           "y": {
            "bdata": "AAAAAAAAAAAAAAAAAAAAAAAAAAAAAAAAAAAAAAAA8D8=",
            "dtype": "f8"
           },
           "z": {
            "bdata": "AAAAAAAAAAAAAAAAAAAAAPR+arx0k6g/9H5qvHSTqD8=",
            "dtype": "f8"
           }
          }
         ],
         "layout": {
          "annotations": [
           {
            "showarrow": false,
            "text": "Time: 0.51s (Step: 52/100)",
            "x": 0.05,
            "xref": "paper",
            "y": 0.95,
            "yref": "paper"
           }
          ]
         },
         "name": "51"
        },
        {
         "data": [
          {
           "name": "Free Nodes",
           "type": "scatter3d",
           "x": {
            "bdata": "AAAAAAAAAAAAAAAAAADwPwAAAAAAAOA/AAAAAAAA4D8=",
            "dtype": "f8"
           },
           "y": {
            "bdata": "AAAAAAAAAAAAAAAAAAAAAAAAAAAAAAAAAAAAAAAA8D8=",
            "dtype": "f8"
           },
           "z": {
            "bdata": "AAAAAAAAAAAAAAAAAAAAAKTx0k1iEKg/pPHSTWIQqD8=",
            "dtype": "f8"
           }
          },
          {
           "name": "Fixed Nodes",
           "type": "scatter3d",
           "x": [],
           "y": [],
           "z": []
          },
          {
           "name": "Edges",
           "type": "scatter3d",
           "x": [
            0,
            1,
            null,
            0.5,
            0.5,
            null
           ],
           "y": [
            0,
            0,
            null,
            0,
            1,
            null
           ],
           "z": [
            0,
            0,
            null,
            0.04699999999999996,
            0.04699999999999996,
            null
           ]
          },
          {
           "i": [],
           "j": [],
           "k": [],
           "name": "Faces",
           "type": "mesh3d",
           "x": {
            "bdata": "AAAAAAAAAAAAAAAAAADwPwAAAAAAAOA/AAAAAAAA4D8=",
            "dtype": "f8"
           },
           "y": {
            "bdata": "AAAAAAAAAAAAAAAAAAAAAAAAAAAAAAAAAAAAAAAA8D8=",
            "dtype": "f8"
           },
           "z": {
            "bdata": "AAAAAAAAAAAAAAAAAAAAAKTx0k1iEKg/pPHSTWIQqD8=",
            "dtype": "f8"
           }
          }
         ],
         "layout": {
          "annotations": [
           {
            "showarrow": false,
            "text": "Time: 0.52s (Step: 53/100)",
            "x": 0.05,
            "xref": "paper",
            "y": 0.95,
            "yref": "paper"
           }
          ]
         },
         "name": "52"
        },
        {
         "data": [
          {
           "name": "Free Nodes",
           "type": "scatter3d",
           "x": {
            "bdata": "AAAAAAAAAAAAAAAAAADwPwAAAAAAAOA/AAAAAAAA4D8=",
            "dtype": "f8"
           },
           "y": {
            "bdata": "AAAAAAAAAAAAAAAAAAAAAAAAAAAAAAAAAAAAAAAA8D8=",
            "dtype": "f8"
           },
           "z": {
            "bdata": "AAAAAAAAAAAAAAAAAAAAAFRkO99Pjac/VGQ730+Npz8=",
            "dtype": "f8"
           }
          },
          {
           "name": "Fixed Nodes",
           "type": "scatter3d",
           "x": [],
           "y": [],
           "z": []
          },
          {
           "name": "Edges",
           "type": "scatter3d",
           "x": [
            0,
            1,
            null,
            0.5,
            0.5,
            null
           ],
           "y": [
            0,
            0,
            null,
            0,
            1,
            null
           ],
           "z": [
            0,
            0,
            null,
            0.04599999999999996,
            0.04599999999999996,
            null
           ]
          },
          {
           "i": [],
           "j": [],
           "k": [],
           "name": "Faces",
           "type": "mesh3d",
           "x": {
            "bdata": "AAAAAAAAAAAAAAAAAADwPwAAAAAAAOA/AAAAAAAA4D8=",
            "dtype": "f8"
           },
           "y": {
            "bdata": "AAAAAAAAAAAAAAAAAAAAAAAAAAAAAAAAAAAAAAAA8D8=",
            "dtype": "f8"
           },
           "z": {
            "bdata": "AAAAAAAAAAAAAAAAAAAAAFRkO99Pjac/VGQ730+Npz8=",
            "dtype": "f8"
           }
          }
         ],
         "layout": {
          "annotations": [
           {
            "showarrow": false,
            "text": "Time: 0.53s (Step: 54/100)",
            "x": 0.05,
            "xref": "paper",
            "y": 0.95,
            "yref": "paper"
           }
          ]
         },
         "name": "53"
        },
        {
         "data": [
          {
           "name": "Free Nodes",
           "type": "scatter3d",
           "x": {
            "bdata": "AAAAAAAAAAAAAAAAAADwPwAAAAAAAOA/AAAAAAAA4D8=",
            "dtype": "f8"
           },
           "y": {
            "bdata": "AAAAAAAAAAAAAAAAAAAAAAAAAAAAAAAAAAAAAAAA8D8=",
            "dtype": "f8"
           },
           "z": {
            "bdata": "AAAAAAAAAAAAAAAAAAAAAATXo3A9Cqc/BNejcD0Kpz8=",
            "dtype": "f8"
           }
          },
          {
           "name": "Fixed Nodes",
           "type": "scatter3d",
           "x": [],
           "y": [],
           "z": []
          },
          {
           "name": "Edges",
           "type": "scatter3d",
           "x": [
            0,
            1,
            null,
            0.5,
            0.5,
            null
           ],
           "y": [
            0,
            0,
            null,
            0,
            1,
            null
           ],
           "z": [
            0,
            0,
            null,
            0.04499999999999996,
            0.04499999999999996,
            null
           ]
          },
          {
           "i": [],
           "j": [],
           "k": [],
           "name": "Faces",
           "type": "mesh3d",
           "x": {
            "bdata": "AAAAAAAAAAAAAAAAAADwPwAAAAAAAOA/AAAAAAAA4D8=",
            "dtype": "f8"
           },
           "y": {
            "bdata": "AAAAAAAAAAAAAAAAAAAAAAAAAAAAAAAAAAAAAAAA8D8=",
            "dtype": "f8"
           },
           "z": {
            "bdata": "AAAAAAAAAAAAAAAAAAAAAATXo3A9Cqc/BNejcD0Kpz8=",
            "dtype": "f8"
           }
          }
         ],
         "layout": {
          "annotations": [
           {
            "showarrow": false,
            "text": "Time: 0.54s (Step: 55/100)",
            "x": 0.05,
            "xref": "paper",
            "y": 0.95,
            "yref": "paper"
           }
          ]
         },
         "name": "54"
        },
        {
         "data": [
          {
           "name": "Free Nodes",
           "type": "scatter3d",
           "x": {
            "bdata": "AAAAAAAAAAAAAAAAAADwPwAAAAAAAOA/AAAAAAAA4D8=",
            "dtype": "f8"
           },
           "y": {
            "bdata": "AAAAAAAAAAAAAAAAAAAAAAAAAAAAAAAAAAAAAAAA8D8=",
            "dtype": "f8"
           },
           "z": {
            "bdata": "wxEiS4P5R7wAAAAAAAAAALRJDAIrh6Y/tEkMAiuHpj8=",
            "dtype": "f8"
           }
          },
          {
           "name": "Fixed Nodes",
           "type": "scatter3d",
           "x": [],
           "y": [],
           "z": []
          },
          {
           "name": "Edges",
           "type": "scatter3d",
           "x": [
            0,
            1,
            null,
            0.5,
            0.5,
            null
           ],
           "y": [
            0,
            0,
            null,
            0,
            1,
            null
           ],
           "z": [
            -2.5993378055064818e-18,
            0,
            null,
            0.043999999999999956,
            0.043999999999999956,
            null
           ]
          },
          {
           "i": [],
           "j": [],
           "k": [],
           "name": "Faces",
           "type": "mesh3d",
           "x": {
            "bdata": "AAAAAAAAAAAAAAAAAADwPwAAAAAAAOA/AAAAAAAA4D8=",
            "dtype": "f8"
           },
           "y": {
            "bdata": "AAAAAAAAAAAAAAAAAAAAAAAAAAAAAAAAAAAAAAAA8D8=",
            "dtype": "f8"
           },
           "z": {
            "bdata": "wxEiS4P5R7wAAAAAAAAAALRJDAIrh6Y/tEkMAiuHpj8=",
            "dtype": "f8"
           }
          }
         ],
         "layout": {
          "annotations": [
           {
            "showarrow": false,
            "text": "Time: 0.55s (Step: 56/100)",
            "x": 0.05,
            "xref": "paper",
            "y": 0.95,
            "yref": "paper"
           }
          ]
         },
         "name": "55"
        },
        {
         "data": [
          {
           "name": "Free Nodes",
           "type": "scatter3d",
           "x": {
            "bdata": "peHfWENLLDkAAAAAAADwPwAAAAAAAOA/AAAAAAAA4D8=",
            "dtype": "f8"
           },
           "y": {
            "bdata": "AAAAAAAAAAAAAAAAAAAAAAAAAAAAAAAAAAAAAAAA8D8=",
            "dtype": "f8"
           },
           "z": {
            "bdata": "lQrz3vD70rwAAAAAAAAAALC8dJMYBKY/sLx0kxgEpj8=",
            "dtype": "f8"
           }
          },
          {
           "name": "Fixed Nodes",
           "type": "scatter3d",
           "x": [],
           "y": [],
           "z": []
          },
          {
           "name": "Edges",
           "type": "scatter3d",
           "x": [
            2.7246127443285705e-33,
            1,
            null,
            0.5,
            0.5,
            null
           ],
           "y": [
            0,
            0,
            null,
            0,
            1,
            null
           ],
           "z": [
            -1.0538316968063738e-15,
            0,
            null,
            0.04300000000000048,
            0.04300000000000048,
            null
           ]
          },
          {
           "i": [],
           "j": [],
           "k": [],
           "name": "Faces",
           "type": "mesh3d",
           "x": {
            "bdata": "peHfWENLLDkAAAAAAADwPwAAAAAAAOA/AAAAAAAA4D8=",
            "dtype": "f8"
           },
           "y": {
            "bdata": "AAAAAAAAAAAAAAAAAAAAAAAAAAAAAAAAAAAAAAAA8D8=",
            "dtype": "f8"
           },
           "z": {
            "bdata": "lQrz3vD70rwAAAAAAAAAALC8dJMYBKY/sLx0kxgEpj8=",
            "dtype": "f8"
           }
          }
         ],
         "layout": {
          "annotations": [
           {
            "showarrow": false,
            "text": "Time: 0.56s (Step: 57/100)",
            "x": 0.05,
            "xref": "paper",
            "y": 0.95,
            "yref": "paper"
           }
          ]
         },
         "name": "56"
        },
        {
         "data": [
          {
           "name": "Free Nodes",
           "type": "scatter3d",
           "x": {
            "bdata": "W0am2iaqQToAAAAAAADwPwAAAAAAAOA/AAAAAAAA4D8=",
            "dtype": "f8"
           },
           "y": {
            "bdata": "AAAAAAAAAAAAAAAAAAAAAAAAAAAAAAAAAAAAAAAA8D8=",
            "dtype": "f8"
           },
           "z": {
            "bdata": "BNKb9L7oXb1VVVVVVVV1trem3SQGgaU/t6bdJAaBpT8=",
            "dtype": "f8"
           }
          },
          {
           "name": "Fixed Nodes",
           "type": "scatter3d",
           "x": [],
           "y": [],
           "z": []
          },
          {
           "name": "Edges",
           "type": "scatter3d",
           "x": [
            4.459185927309735e-28,
            1,
            null,
            0.5,
            0.5,
            null
           ],
           "y": [
            0,
            0,
            null,
            0,
            1,
            null
           ],
           "z": [
            -4.2503478070066987e-13,
            -2.3354974405413617e-46,
            null,
            0.04200000000021247,
            0.04200000000021247,
            null
           ]
          },
          {
           "i": [],
           "j": [],
           "k": [],
           "name": "Faces",
           "type": "mesh3d",
           "x": {
            "bdata": "W0am2iaqQToAAAAAAADwPwAAAAAAAOA/AAAAAAAA4D8=",
            "dtype": "f8"
           },
           "y": {
            "bdata": "AAAAAAAAAAAAAAAAAAAAAAAAAAAAAAAAAAAAAAAA8D8=",
            "dtype": "f8"
           },
           "z": {
            "bdata": "BNKb9L7oXb1VVVVVVVV1trem3SQGgaU/t6bdJAaBpT8=",
            "dtype": "f8"
           }
          }
         ],
         "layout": {
          "annotations": [
           {
            "showarrow": false,
            "text": "Time: 0.57s (Step: 58/100)",
            "x": 0.05,
            "xref": "paper",
            "y": 0.95,
            "yref": "paper"
           }
          ]
         },
         "name": "57"
        },
        {
         "data": [
          {
           "name": "Free Nodes",
           "type": "scatter3d",
           "x": {
            "bdata": "TfDWjREvRLwAAAAAAADwPwAAAAAAAOA/AAAAAAAA4D8=",
            "dtype": "f8"
           },
           "y": {
            "bdata": "AAAAAAAAAAAAAAAAAAAAAAAAAAAAAAAAAAAAAAAA8D8=",
            "dtype": "f8"
           },
           "z": {
            "bdata": "SsPKcYR8Sz5U1QOsovWzOeCYTH/z/aQ/4JhMf/P9pD8=",
            "dtype": "f8"
           }
          },
          {
           "name": "Fixed Nodes",
           "type": "scatter3d",
           "x": [],
           "y": [],
           "z": []
          },
          {
           "name": "Edges",
           "type": "scatter3d",
           "x": [
            -2.1883386599892702e-18,
            1,
            null,
            0.5,
            0.5,
            null
           ],
           "y": [
            0,
            0,
            null,
            0,
            1,
            null
           ],
           "z": [
            1.2799350518123486e-8,
            9.840799893483072e-31,
            null,
            0.04099999360032469,
            0.04099999360032469,
            null
           ]
          },
          {
           "i": [],
           "j": [],
           "k": [],
           "name": "Faces",
           "type": "mesh3d",
           "x": {
            "bdata": "TfDWjREvRLwAAAAAAADwPwAAAAAAAOA/AAAAAAAA4D8=",
            "dtype": "f8"
           },
           "y": {
            "bdata": "AAAAAAAAAAAAAAAAAAAAAAAAAAAAAAAAAAAAAAAA8D8=",
            "dtype": "f8"
           },
           "z": {
            "bdata": "SsPKcYR8Sz5U1QOsovWzOeCYTH/z/aQ/4JhMf/P9pD8=",
            "dtype": "f8"
           }
          }
         ],
         "layout": {
          "annotations": [
           {
            "showarrow": false,
            "text": "Time: 0.58s (Step: 59/100)",
            "x": 0.05,
            "xref": "paper",
            "y": 0.95,
            "yref": "paper"
           }
          ]
         },
         "name": "58"
        },
        {
         "data": [
          {
           "name": "Free Nodes",
           "type": "scatter3d",
           "x": {
            "bdata": "uFuc1HqBHL0i///////vP8IBAAAAAOA/AAAAAAAA4D8=",
            "dtype": "f8"
           },
           "y": {
            "bdata": "yMZ9VBQigL3UOAlWFCKAvdvlbIgg0Ik96AwAAAAA8D8=",
            "dtype": "f8"
           },
           "z": {
            "bdata": "T64T59obr77xx6f3v/evvgAqO8kge6Q/ot272eB6pD8=",
            "dtype": "f8"
           }
          },
          {
           "name": "Fixed Nodes",
           "type": "scatter3d",
           "x": [],
           "y": [],
           "z": []
          },
          {
           "name": "Edges",
           "type": "scatter3d",
           "x": [
            -2.5318219072239248e-14,
            0.9999999999999754,
            null,
            0.50000000000005,
            0.5,
            null
           ],
           "y": [
            -1.8341237036856946e-12,
            -1.8341237141530498e-12,
            null,
            2.9345979342947943e-12,
            1.0000000000007336,
            null
           ],
           "z": [
            -9.271147531053687e-7,
            -9.527138751781809e-7,
            null,
            0.040001892628044544,
            0.039999987200583634,
            null
           ]
          },
          {
           "i": [],
           "j": [],
           "k": [],
           "name": "Faces",
           "type": "mesh3d",
           "x": {
            "bdata": "uFuc1HqBHL0i///////vP8IBAAAAAOA/AAAAAAAA4D8=",
            "dtype": "f8"
           },
           "y": {
            "bdata": "yMZ9VBQigL3UOAlWFCKAvdvlbIgg0Ik96AwAAAAA8D8=",
            "dtype": "f8"
           },
           "z": {
            "bdata": "T64T59obr77xx6f3v/evvgAqO8kge6Q/ot272eB6pD8=",
            "dtype": "f8"
           }
          }
         ],
         "layout": {
          "annotations": [
           {
            "showarrow": false,
            "text": "Time: 0.59s (Step: 60/100)",
            "x": 0.05,
            "xref": "paper",
            "y": 0.95,
            "yref": "paper"
           }
          ]
         },
         "name": "59"
        },
        {
         "data": [
          {
           "name": "Free Nodes",
           "type": "scatter3d",
           "x": {
            "bdata": "RMxybU6lWL2y8//////vP6EYAAAAAOA/AAAAAAAA4D8=",
            "dtype": "f8"
           },
           "y": {
            "bdata": "h05jz8d15b02eVTNx3XlvejNQFsSYvM9tRMCAAAA8D8=",
            "dtype": "f8"
           },
           "z": {
            "bdata": "mR9deQBN5L48nK34nWHkvgrlzmda+qM/6ElFNM73oz8=",
            "dtype": "f8"
           }
          },
          {
           "name": "Fixed Nodes",
           "type": "scatter3d",
           "x": [],
           "y": [],
           "z": []
          },
          {
           "name": "Edges",
           "type": "scatter3d",
           "x": [
            -3.502368593783221e-13,
            0.9999999999996503,
            null,
            0.5000000000007,
            0.5,
            null
           ],
           "y": [
            -1.561426332795713e-10,
            -1.5614263238708104e-10,
            null,
            2.8206112033970176e-10,
            1.000000000030224,
            null
           ],
           "z": [
            -0.000009680170289918902,
            -0.000009718569136741883,
            null,
            0.03901941792669035,
            0.0389999808127362,
            null
           ]
          },
          {
           "i": [],
           "j": [],
           "k": [],
           "name": "Faces",
           "type": "mesh3d",
           "x": {
            "bdata": "RMxybU6lWL2y8//////vP6EYAAAAAOA/AAAAAAAA4D8=",
            "dtype": "f8"
           },
           "y": {
            "bdata": "h05jz8d15b02eVTNx3XlvejNQFsSYvM9tRMCAAAA8D8=",
            "dtype": "f8"
           },
           "z": {
            "bdata": "mR9deQBN5L48nK34nWHkvgrlzmda+qM/6ElFNM73oz8=",
            "dtype": "f8"
           }
          }
         ],
         "layout": {
          "annotations": [
           {
            "showarrow": false,
            "text": "Time: 0.60s (Step: 61/100)",
            "x": 0.05,
            "xref": "paper",
            "y": 0.95,
            "yref": "paper"
           }
          ]
         },
         "name": "60"
        },
        {
         "data": [
          {
           "name": "Free Nodes",
           "type": "scatter3d",
           "x": {
            "bdata": "WYk1kpcSer3Yy//////vP05oAAAAAOA/AAAAAAAA4D8=",
            "dtype": "f8"
           },
           "y": {
            "bdata": "rFpJXJ7jF77JaFhZnuMXvm3EqYqa1SY+HnAIAAAA8D8=",
            "dtype": "f8"
           },
           "z": {
            "bdata": "RUMAFkbuAb9Ax1FAJfUBvxgdUCC2faM/EWuDj7t0oz8=",
            "dtype": "f8"
           }
          },
          {
           "name": "Fixed Nodes",
           "type": "scatter3d",
           "x": [],
           "y": [],
           "z": []
          },
          {
           "name": "Edges",
           "type": "scatter3d",
           "x": [
            -1.4820571602678863e-12,
            0.9999999999985176,
            null,
            0.5000000000029645,
            0.5,
            null
           ],
           "y": [
            -1.3905306777089309e-9,
            -1.390530667504625e-9,
            null,
            2.6582727870535607e-9,
            1.0000000001227884,
            null
           ],
           "z": [
            -0.000034200204709239466,
            -0.00003425140315806022,
            null,
            0.03806847710080258,
            0.03799997450706461,
            null
           ]
          },
          {
           "i": [],
           "j": [],
           "k": [],
           "name": "Faces",
           "type": "mesh3d",
           "x": {
            "bdata": "WYk1kpcSer3Yy//////vP05oAAAAAOA/AAAAAAAA4D8=",
            "dtype": "f8"
           },
           "y": {
            "bdata": "rFpJXJ7jF77JaFhZnuMXvm3EqYqa1SY+HnAIAAAA8D8=",
            "dtype": "f8"
           },
           "z": {
            "bdata": "RUMAFkbuAb9Ax1FAJfUBvxgdUCC2faM/EWuDj7t0oz8=",
            "dtype": "f8"
           }
          }
         ],
         "layout": {
          "annotations": [
           {
            "showarrow": false,
            "text": "Time: 0.61s (Step: 62/100)",
            "x": 0.05,
            "xref": "paper",
            "y": 0.95,
            "yref": "paper"
           }
          ]
         },
         "name": "61"
        },
        {
         "data": [
          {
           "name": "Free Nodes",
           "type": "scatter3d",
           "x": {
            "bdata": "YTlltZn0kb1OcP/////vP1gfAQAAAOA/AAAAAAAA4D8=",
            "dtype": "f8"
           },
           "y": {
            "bdata": "5jGQMXtjO75Prpcte2M7vjEzM8o9X0s+rIcAAAAA8D8=",
            "dtype": "f8"
           },
           "z": {
            "bdata": "HY06ZO1oFb8h46zdOG0Vv7CCyR0WB6M/D0om7ajxoj8=",
            "dtype": "f8"
           }
          },
          {
           "name": "Fixed Nodes",
           "type": "scatter3d",
           "x": [],
           "y": [],
           "z": []
          },
          {
           "name": "Edges",
           "type": "scatter3d",
           "x": [
            -4.082601300691601e-12,
            0.9999999999959159,
            null,
            0.5000000000081668,
            0.5,
            null
           ],
           "y": [
            -6.376905025740917e-9,
            -6.376904970635581e-9,
            null,
            1.2746097793892016e-8,
            1.000000000007712,
            null
           ],
           "z": [
            -0.00008167218134729313,
            -0.00008173617918040252,
            null,
            0.03716343988049198,
            0.03699996848003561,
            null
           ]
          },
          {
           "i": [],
           "j": [],
           "k": [],
           "name": "Faces",
           "type": "mesh3d",
           "x": {
            "bdata": "YTlltZn0kb1OcP/////vP1gfAQAAAOA/AAAAAAAA4D8=",
            "dtype": "f8"
           },
           "y": {
            "bdata": "5jGQMXtjO75Prpcte2M7vjEzM8o9X0s+rIcAAAAA8D8=",
            "dtype": "f8"
           },
           "z": {
            "bdata": "HY06ZO1oFb8h46zdOG0Vv7CCyR0WB6M/D0om7ajxoj8=",
            "dtype": "f8"
           }
          }
         ],
         "layout": {
          "annotations": [
           {
            "showarrow": false,
            "text": "Time: 0.62s (Step: 63/100)",
            "x": 0.05,
            "xref": "paper",
            "y": 0.95,
            "yref": "paper"
           }
          ]
         },
         "name": "62"
        },
        {
         "data": [
          {
           "name": "Free Nodes",
           "type": "scatter3d",
           "x": {
            "bdata": "VB6m2O2no71oxf7////vPxd1AgAAAOA/AAAAAAAA4D8=",
            "dtype": "f8"
           },
           "y": {
            "bdata": "18p+PgE0Vr5n3dQ6ATRWvmpXvSyvMmc+DlIB////7z8=",
            "dtype": "f8"
           },
           "z": {
            "bdata": "QnjCDs7GJL8n8+i8Yckkv/700vkomKI/1XSYUJZuoj8=",
            "dtype": "f8"
           }
          },
          {
           "name": "Fixed Nodes",
           "type": "scatter3d",
           "x": [],
           "y": [],
           "z": []
          },
          {
           "name": "Edges",
           "type": "scatter3d",
           "x": [
            -8.938501649158095e-12,
            0.9999999999910587,
            null,
            0.5000000000178798,
            0.5,
            null
           ],
           "y": [
            -2.0678289219549095e-8,
            -2.067828901616849e-8,
            null,
            4.320961507926658e-8,
            0.9999999981469629,
            null
           ],
           "z": [
            -0.00015851273872597062,
            -0.00015858953561744793,
            null,
            0.03631713914499278,
            0.03599996312935053,
            null
           ]
          },
          {
           "i": [],
           "j": [],
           "k": [],
           "name": "Faces",
           "type": "mesh3d",
           "x": {
            "bdata": "VB6m2O2no71oxf7////vPxd1AgAAAOA/AAAAAAAA4D8=",
            "dtype": "f8"
           },
           "y": {
            "bdata": "18p+PgE0Vr5n3dQ6ATRWvmpXvSyvMmc+DlIB////7z8=",
            "dtype": "f8"
           },
           "z": {
            "bdata": "QnjCDs7GJL8n8+i8Yckkv/700vkomKI/1XSYUJZuoj8=",
            "dtype": "f8"
           }
          }
         ],
         "layout": {
          "annotations": [
           {
            "showarrow": false,
            "text": "Time: 0.63s (Step: 64/100)",
            "x": 0.05,
            "xref": "paper",
            "y": 0.95,
            "yref": "paper"
           }
          ]
         },
         "name": "63"
        },
        {
         "data": [
          {
           "name": "Free Nodes",
           "type": "scatter3d",
           "x": {
            "bdata": "6EqowCSbsr13rP3////vP+ymBAAAAOA/AQAAAAAA4D8=",
            "dtype": "f8"
           },
           "y": {
            "bdata": "Gm6Ke7fpbL5G1jl2t+lsvmDIAcx9k38+V3Os+v//7z8=",
            "dtype": "f8"
           },
           "z": {
            "bdata": "t1je8D22Mb/xISzAvrcxv9RHPndiMqI/6nCUv4ProT8=",
            "dtype": "f8"
           }
          },
          {
           "name": "Fixed Nodes",
           "type": "scatter3d",
           "x": [],
           "y": [],
           "z": []
          },
          {
           "name": "Edges",
           "type": "scatter3d",
           "x": [
            -1.6922085296466068e-11,
            0.9999999999830739,
            null,
            0.500000000033848,
            0.5000000000000001,
            null
           ],
           "y": [
            -5.385457719117498e-8,
            -5.385457660111179e-8,
            null,
            1.1763028151689253e-7,
            0.999999990078872,
            null
           ],
           "z": [
            -0.000270261881149546,
            -0.0002703514766584639,
            null,
            0.03554065423590172,
            0.03499995912190619,
            null
           ]
          },
          {
           "i": [],
           "j": [],
           "k": [],
           "name": "Faces",
           "type": "mesh3d",
           "x": {
            "bdata": "6EqowCSbsr13rP3////vP+ymBAAAAOA/AQAAAAAA4D8=",
            "dtype": "f8"
           },
           "y": {
            "bdata": "Gm6Ke7fpbL5G1jl2t+lsvmDIAcx9k38+V3Os+v//7z8=",
            "dtype": "f8"
           },
           "z": {
            "bdata": "t1je8D22Mb/xISzAvrcxv9RHPndiMqI/6nCUv4ProT8=",
            "dtype": "f8"
           }
          }
         ],
         "layout": {
          "annotations": [
           {
            "showarrow": false,
            "text": "Time: 0.64s (Step: 65/100)",
            "x": 0.05,
            "xref": "paper",
            "y": 0.95,
            "yref": "paper"
           }
          ]
         },
         "name": "64"
        },
        {
         "data": [
          {
           "name": "Free Nodes",
           "type": "scatter3d",
           "x": {
            "bdata": "Cd/BPqnTv71cBfz////vPxT1BwAAAOA/BAAAAAAA4D8=",
            "dtype": "f8"
           },
           "y": {
            "bdata": "J1pu0o0lgL4+8CzPjSWAvh9LGWGGaZI+ejvg7f//7z8=",
            "dtype": "f8"
           },
           "z": {
            "bdata": "vCpQMCOfO79h7Tv32qA7v5k4/xn01qE/wWiRQnFooT8=",
            "dtype": "f8"
           }
          },
          {
           "name": "Fixed Nodes",
           "type": "scatter3d",
           "x": [],
           "y": [],
           "z": []
          },
          {
           "name": "Edges",
           "type": "scatter3d",
           "x": [
            -2.8946307089407766e-11,
            0.9999999999710485,
            null,
            0.5000000000578972,
            0.5000000000000004,
            null
           ],
           "y": [
            -1.203022545719637e-7,
            -1.2030225312622136e-7,
            null,
            2.7436326019874225e-7,
            0.9999999662412471,
            null
           ],
           "z": [
            -0.00042147263621987083,
            -0.0004215750297899748,
            null,
            0.034843090222794255,
            0.033999957443215496,
            null
           ]
          },
          {
           "i": [],
           "j": [],
           "k": [],
           "name": "Faces",
           "type": "mesh3d",
           "x": {
            "bdata": "Cd/BPqnTv71cBfz////vPxT1BwAAAOA/BAAAAAAA4D8=",
            "dtype": "f8"
           },
           "y": {
            "bdata": "J1pu0o0lgL4+8CzPjSWAvh9LGWGGaZI+ejvg7f//7z8=",
            "dtype": "f8"
           },
           "z": {
            "bdata": "vCpQMCOfO79h7Tv32qA7v5k4/xn01qE/wWiRQnFooT8=",
            "dtype": "f8"
           }
          }
         ],
         "layout": {
          "annotations": [
           {
            "showarrow": false,
            "text": "Time: 0.65s (Step: 66/100)",
            "x": 0.05,
            "xref": "paper",
            "y": 0.95,
            "yref": "paper"
           }
          ]
         },
         "name": "65"
        },
        {
         "data": [
          {
           "name": "Free Nodes",
           "type": "scatter3d",
           "x": {
            "bdata": "YaAAdTo+yb03sPn////vP0ufDAAAAOA/CwAAAAAA4D8=",
            "dtype": "f8"
           },
           "y": {
            "bdata": "OY8VL84UkL575ZErzhSQvnpQFPjlHKM+T4N+z///7z8=",
            "dtype": "f8"
           },
           "z": {
            "bdata": "1RxpkzssRL9zRlDyMi1Evy7KMljHhqE/6on25F7loD8=",
            "dtype": "f8"
           }
          },
          {
           "name": "Fixed Nodes",
           "type": "scatter3d",
           "x": [],
           "y": [],
           "z": []
          },
          {
           "name": "Edges",
           "type": "scatter3d",
           "x": [
            -4.591689409363412e-11,
            0.9999999999540766,
            null,
            0.5000000000918389,
            0.5000000000000012,
            null
           ],
           "y": [
            -2.396296131161583e-7,
            -2.3962960999482505e-7,
            null,
            5.696083321981735e-7,
            0.9999999096508904,
            null
           ],
           "z": [
            -0.000615624513394498,
            -0.0006157397043599757,
            null,
            0.03423140479698748,
            0.0329999594207669,
            null
           ]
          },
          {
           "i": [],
           "j": [],
           "k": [],
           "name": "Faces",
           "type": "mesh3d",
           "x": {
            "bdata": "YaAAdTo+yb03sPn////vP0ufDAAAAOA/CwAAAAAA4D8=",
            "dtype": "f8"
           },
           "y": {
            "bdata": "OY8VL84UkL575ZErzhSQvnpQFPjlHKM+T4N+z///7z8=",
            "dtype": "f8"
           },
           "z": {
            "bdata": "1RxpkzssRL9zRlDyMi1Evy7KMljHhqE/6on25F7loD8=",
            "dtype": "f8"
           }
          }
         ],
         "layout": {
          "annotations": [
           {
            "showarrow": false,
            "text": "Time: 0.66s (Step: 67/100)",
            "x": 0.05,
            "xref": "paper",
            "y": 0.95,
            "yref": "paper"
           }
          ]
         },
         "name": "66"
        },
        {
         "data": [
          {
           "name": "Free Nodes",
           "type": "scatter3d",
           "x": {
            "bdata": "ocap4DDh0r0gj/b////vP17hEgAAAOA/GAAAAAAA4D8=",
            "dtype": "f8"
           },
           "y": {
            "bdata": "gx+s5I1Jnb571czdjUmdvs+uxfEGGrI+1f9Xkf//7z8=",
            "dtype": "f8"
           },
           "z": {
            "bdata": "b2Jm380ETL9AS1O54AVMv5WcOqt5QqE/Dp4LtUxioD8=",
            "dtype": "f8"
           }
          },
          {
           "name": "Fixed Nodes",
           "type": "scatter3d",
           "x": [],
           "y": [],
           "z": []
          },
          {
           "name": "Edges",
           "type": "scatter3d",
           "x": [
            -6.868377408989349e-11,
            0.9999999999313083,
            null,
            0.5000000001373726,
            0.5000000000000027,
            null
           ],
           "y": [
            -4.364150966583543e-7,
            -4.364150905545938e-7,
            null,
            0.0000010789435186076397,
            0.9999997938866679,
            null
           ],
           "z": [
            -0.0008550648915842239,
            -0.0008551928791809896,
            null,
            0.033710291053744935,
            0.0319999667170202,
            null
           ]
          },
          {
           "i": [],
           "j": [],
           "k": [],
           "name": "Faces",
           "type": "mesh3d",
           "x": {
            "bdata": "ocap4DDh0r0gj/b////vP17hEgAAAOA/GAAAAAAA4D8=",
            "dtype": "f8"
           },
           "y": {
            "bdata": "gx+s5I1Jnb571czdjUmdvs+uxfEGGrI+1f9Xkf//7z8=",
            "dtype": "f8"
           },
           "z": {
            "bdata": "b2Jm380ETL9AS1O54AVMv5WcOqt5QqE/Dp4LtUxioD8=",
            "dtype": "f8"
           }
          }
         ],
         "layout": {
          "annotations": [
           {
            "showarrow": false,
            "text": "Time: 0.67s (Step: 68/100)",
            "x": 0.05,
            "xref": "paper",
            "y": 0.95,
            "yref": "paper"
           }
          ]
         },
         "name": "67"
        },
        {
         "data": [
          {
           "name": "Free Nodes",
           "type": "scatter3d",
           "x": {
            "bdata": "roQStavv2r3Uh/L////vP9DvGgAAAOA/LgAAAAAA4D8=",
            "dtype": "f8"
           },
           "y": {
            "bdata": "hsKctTTOqL4V+2ivNM6oviebf+560r8+eTh3H///7z8=",
            "dtype": "f8"
           },
           "z": {
            "bdata": "KUF/WZ2xUr+lCL2DNLJSv86b+5NaCqE/nP9Eh3W+nz8=",
            "dtype": "f8"
           }
          },
          {
           "name": "Fixed Nodes",
           "type": "scatter3d",
           "x": [],
           "y": [],
           "z": []
          },
          {
           "name": "Edges",
           "type": "scatter3d",
           "x": [
            -9.79933749319826e-11,
            0.9999999999019971,
            null,
            0.5000000001959908,
            0.5000000000000051,
            null
           ],
           "y": [
            -7.392612630716101e-7,
            -7.392612520541796e-7,
            null,
            0.0000018967502288747837,
            0.9999995817722854,
            null
           ],
           "z": [
            -0.0011409794442337007,
            -0.0011411202276155133,
            null,
            0.03328211838179805,
            0.03099998129005109,
            null
           ]
          },
          {
           "i": [],
           "j": [],
           "k": [],
           "name": "Faces",
           "type": "mesh3d",
           "x": {
            "bdata": "roQStavv2r3Uh/L////vP9DvGgAAAOA/LgAAAAAA4D8=",
            "dtype": "f8"
           },
           "y": {
            "bdata": "hsKctTTOqL4V+2ivNM6oviebf+560r8+eTh3H///7z8=",
            "dtype": "f8"
           },
           "z": {
            "bdata": "KUF/WZ2xUr+lCL2DNLJSv86b+5NaCqE/nP9Eh3W+nz8=",
            "dtype": "f8"
           }
          }
         ],
         "layout": {
          "annotations": [
           {
            "showarrow": false,
            "text": "Time: 0.68s (Step: 69/100)",
            "x": 0.05,
            "xref": "paper",
            "y": 0.95,
            "yref": "paper"
           }
          ]
         },
         "name": "68"
        },
        {
         "data": [
          {
           "name": "Free Nodes",
           "type": "scatter3d",
           "x": {
            "bdata": "pVgtGFN64r1Hhe3////vP7b0JAAAAOA/UQAAAAAA4D8=",
            "dtype": "f8"
           },
           "y": {
            "bdata": "cbnhalbIs75K66RlVsizvtyRKjOVSMo+PU3wX/7/7z8=",
            "dtype": "f8"
           },
           "z": {
            "bdata": "1Z/qL9ojWL9R0i8XfyRYv8zQRZJr3qA/6ELwRlK4nj8=",
            "dtype": "f8"
           }
          },
          {
           "name": "Fixed Nodes",
           "type": "scatter3d",
           "x": [],
           "y": [],
           "z": []
          },
          {
           "name": "Edges",
           "type": "scatter3d",
           "x": [
            -1.3444391094207577e-10,
            0.9999999998655448,
            null,
            0.5000000002688896,
            0.500000000000009,
            null
           ],
           "y": [
            -0.0000011791329757277533,
            -0.000001179132957120342,
            null,
            0.0000031332405339859416,
            0.9999992250253978,
            null
           ],
           "z": [
            -0.0014733916029090373,
            -0.00147354518116773,
            null,
            0.032946931462818435,
            0.030000005321258266,
            null
           ]
          },
          {
           "i": [],
           "j": [],
           "k": [],
           "name": "Faces",
           "type": "mesh3d",
           "x": {
            "bdata": "pVgtGFN64r1Hhe3////vP7b0JAAAAOA/UQAAAAAA4D8=",
            "dtype": "f8"
           },
           "y": {
            "bdata": "cbnhalbIs75K66RlVsizvtyRKjOVSMo+PU3wX/7/7z8=",
            "dtype": "f8"
           },
           "z": {
            "bdata": "1Z/qL9ojWL9R0i8XfyRYv8zQRZJr3qA/6ELwRlK4nj8=",
            "dtype": "f8"
           }
          }
         ],
         "layout": {
          "annotations": [
           {
            "showarrow": false,
            "text": "Time: 0.69s (Step: 70/100)",
            "x": 0.05,
            "xref": "paper",
            "y": 0.95,
            "yref": "paper"
           }
          ]
         },
         "name": "69"
        },
        {
         "data": [
          {
           "name": "Free Nodes",
           "type": "scatter3d",
           "x": {
            "bdata": "Gi1KGn2G6L0Leef////vP+cMMQAAAOA/hQAAAAAA4D8=",
            "dtype": "f8"
           },
           "y": {
            "bdata": "xnK2MlD7vb7fNloqUPu9vu3sbrwel9Q+YK1EM/3/7z8=",
            "dtype": "f8"
           },
           "z": {
            "bdata": "NM0ui3RUXr930DgvJ1Vev1Zc2wNivqA/T8mb0C+ynT8=",
            "dtype": "f8"
           }
          },
          {
           "name": "Fixed Nodes",
           "type": "scatter3d",
           "x": [],
           "y": [],
           "z": []
          },
          {
           "name": "Edges",
           "type": "scatter3d",
           "x": [
            -1.784453809932461e-10,
            0.9999999998215413,
            null,
            0.5000000003568886,
            0.5000000000000148,
            null
           ],
           "y": [
            -0.0000017870481297872544,
            -0.0000017870481000855412,
            null,
            0.000004909113107960688,
            0.9999986649831207,
            null
           ],
           "z": [
            -0.0018511903879073312,
            -0.0018513567600964267,
            null,
            0.03270250603753115,
            0.02900004111047255,
            null
           ]
          },
          {
           "i": [],
           "j": [],
           "k": [],
           "name": "Faces",
           "type": "mesh3d",
           "x": {
            "bdata": "Gi1KGn2G6L0Leef////vP+cMMQAAAOA/hQAAAAAA4D8=",
            "dtype": "f8"
           },
           "y": {
            "bdata": "xnK2MlD7vb7fNloqUPu9vu3sbrwel9Q+YK1EM/3/7z8=",
            "dtype": "f8"
           },
           "z": {
            "bdata": "NM0ui3RUXr930DgvJ1Vev1Zc2wNivqA/T8mb0C+ynT8=",
            "dtype": "f8"
           }
          }
         ],
         "layout": {
          "annotations": [
           {
            "showarrow": false,
            "text": "Time: 0.70s (Step: 71/100)",
            "x": 0.05,
            "xref": "paper",
            "y": 0.95,
            "yref": "paper"
           }
          ]
         },
         "name": "70"
        },
        {
         "data": [
          {
           "name": "Free Nodes",
           "type": "scatter3d",
           "x": {
            "bdata": "vRUns/Ki772BXOD////vP5xFPwAAAOA/zwAAAAAA4D8=",
            "dtype": "f8"
           },
           "y": {
            "bdata": "YMKIarK8xb6M/i1ksrzFvuEqO0gG0t4+hA9Wdfv/7z8=",
            "dtype": "f8"
           },
           "z": {
            "bdata": "HXOwKB6dYr/NI/ZYfp1iv/Qgg9OqqaA/2WN8Sw6snD8=",
            "dtype": "f8"
           }
          },
          {
           "name": "Fixed Nodes",
           "type": "scatter3d",
           "x": [],
           "y": [],
           "z": []
          },
          {
           "name": "Edges",
           "type": "scatter3d",
           "x": [
            -2.3018594805969555e-10,
            0.9999999997697985,
            null,
            0.5000000004603637,
            0.500000000000023,
            null
           ],
           "y": [
            -0.0000025912639396652248,
            -0.000002591263894513427,
            null,
            0.000007348157968054963,
            0.9999978343698648,
            null
           ],
           "z": [
            -0.002272185234245673,
            -0.002272364399406679,
            null,
            0.0325444586938505,
            0.0280000909398018,
            null
           ]
          },
          {
           "i": [],
           "j": [],
           "k": [],
           "name": "Faces",
           "type": "mesh3d",
           "x": {
            "bdata": "vRUns/Ki772BXOD////vP5xFPwAAAOA/zwAAAAAA4D8=",
            "dtype": "f8"
           },
           "y": {
            "bdata": "YMKIarK8xb6M/i1ksrzFvuEqO0gG0t4+hA9Wdfv/7z8=",
            "dtype": "f8"
           },
           "z": {
            "bdata": "HXOwKB6dYr/NI/ZYfp1iv/Qgg9OqqaA/2WN8Sw6snD8=",
            "dtype": "f8"
           }
          }
         ],
         "layout": {
          "annotations": [
           {
            "showarrow": false,
            "text": "Time: 0.71s (Step: 72/100)",
            "x": 0.05,
            "xref": "paper",
            "y": 0.95,
            "yref": "paper"
           }
          ]
         },
         "name": "71"
        },
        {
         "data": [
          {
           "name": "Free Nodes",
           "type": "scatter3d",
           "x": {
            "bdata": "Eqhfdczm873EMdj////vP5qaTwAAAOA/MwEAAAAA4D8=",
            "dtype": "f8"
           },
           "y": {
            "bdata": "5XShrltRzr4je2ClW1HOvnrXEzjZKeY+35zU/vj/7z8=",
            "dtype": "f8"
           },
           "z": {
            "bdata": "Zxdi8+djZr+FUMcBT2Rmvy69d9Vvn6A/SFCl2+2lmz8=",
            "dtype": "f8"
           }
          },
          {
           "name": "Fixed Nodes",
           "type": "scatter3d",
           "x": [],
           "y": [],
           "z": []
          },
          {
           "name": "Edges",
           "type": "scatter3d",
           "x": [
            -2.89605774581781e-10,
            0.9999999997103761,
            null,
            0.5000000005791947,
            0.5000000000000341,
            null
           ],
           "y": [
            -0.0000036141640196567687,
            -0.000003614163953904487,
            null,
            0.000010568366408208097,
            0.9999966599615638,
            null
           ],
           "z": [
            -0.0027331857955372077,
            -0.002733377752727919,
            null,
            0.03246640663916832,
            0.027000156909096767,
            null
           ]
          },
          {
           "i": [],
           "j": [],
           "k": [],
           "name": "Faces",
           "type": "mesh3d",
           "x": {
            "bdata": "Eqhfdczm873EMdj////vP5qaTwAAAOA/MwEAAAAA4D8=",
            "dtype": "f8"
           },
           "y": {
            "bdata": "5XShrltRzr4je2ClW1HOvnrXEzjZKeY+35zU/vj/7z8=",
            "dtype": "f8"
           },
           "z": {
            "bdata": "Zxdi8+djZr+FUMcBT2Rmvy69d9Vvn6A/SFCl2+2lmz8=",
            "dtype": "f8"
           }
          }
         ],
         "layout": {
          "annotations": [
           {
            "showarrow": false,
            "text": "Time: 0.72s (Step: 73/100)",
            "x": 0.05,
            "xref": "paper",
            "y": 0.95,
            "yref": "paper"
           }
          ]
         },
         "name": "72"
        },
        {
         "data": [
          {
           "name": "Free Nodes",
           "type": "scatter3d",
           "x": {
            "bdata": "3NqcUH99+L1HBM/////vP/n0YQAAAOA/tgEAAAAA4D8=",
            "dtype": "f8"
           },
           "y": {
            "bdata": "9UdawCZs1L7TYt65JmzUvqhkd/Ucxe4+lscJp/X/7z8=",
            "dtype": "f8"
           },
           "z": {
            "bdata": "kSGB+wR2ar9IWubncnZqvxeql6WenqA/tgPPns6fmj8=",
            "dtype": "f8"
           }
          },
          {
           "name": "Fixed Nodes",
           "type": "scatter3d",
           "x": [],
           "y": [],
           "z": []
          },
          {
           "name": "Edges",
           "type": "scatter3d",
           "x": [
            -3.563796624236151e-10,
            0.9999999996435996,
            null,
            0.5000000007127304,
            0.5000000000000486,
            null
           ],
           "y": [
            -0.000004869095396780103,
            -0.000004869095304637418,
            null,
            0.000014672266543879563,
            0.9999950659241559,
            null
           ],
           "z": [
            -0.003230104190184054,
            -0.0032303089385082064,
            null,
            0.03246017238037185,
            0.02600024074832038,
            null
           ]
          },
          {
           "i": [],
           "j": [],
           "k": [],
           "name": "Faces",
           "type": "mesh3d",
           "x": {
            "bdata": "3NqcUH99+L1HBM/////vP/n0YQAAAOA/tgEAAAAA4D8=",
            "dtype": "f8"
           },
           "y": {
            "bdata": "9UdawCZs1L7TYt65JmzUvqhkd/Ucxe4+lscJp/X/7z8=",
            "dtype": "f8"
           },
           "z": {
            "bdata": "kSGB+wR2ar9IWubncnZqvxeql6WenqA/tgPPns6fmj8=",
            "dtype": "f8"
           }
          }
         ],
         "layout": {
          "annotations": [
           {
            "showarrow": false,
            "text": "Time: 0.73s (Step: 74/100)",
            "x": 0.05,
            "xref": "paper",
            "y": 0.95,
            "yref": "paper"
           }
          ]
         },
         "name": "73"
        },
        {
         "data": [
          {
           "name": "Free Nodes",
           "type": "scatter3d",
           "x": {
            "bdata": "q3a2lgmL/b0a6cT////vP5UqdgAAAOA/WwIAAAAA4D8=",
            "dtype": "f8"
           },
           "y": {
            "bdata": "Jkg8aTuq2r4C9nVgO6ravgjd3DcwsvQ+D/XaRfH/7z8=",
            "dtype": "f8"
           },
           "z": {
            "bdata": "TNJR7kHJbr8EMZq4tsluv1jCmc/wpaA/5S7dqLCZmT8=",
            "dtype": "f8"
           }
          },
          {
           "name": "Fixed Nodes",
           "type": "scatter3d",
           "x": [],
           "y": [],
           "z": []
          },
          {
           "name": "Edges",
           "type": "scatter3d",
           "x": [
            -4.299089059682066e-10,
            0.9999999995700677,
            null,
            0.5000000008597733,
            0.500000000000067,
            null
           ],
           "y": [
            -0.000006357424030560934,
            -0.0000063574239058650766,
            null,
            0.000019737289668611747,
            0.999992977558266,
            null
           ],
           "z": [
            -0.0037580764497369464,
            -0.0037582939883745742,
            null,
            0.032516026822922484,
            0.02500034361518901,
            null
           ]
          },
          {
           "i": [],
           "j": [],
           "k": [],
           "name": "Faces",
           "type": "mesh3d",
           "x": {
            "bdata": "q3a2lgmL/b0a6cT////vP5UqdgAAAOA/WwIAAAAA4D8=",
            "dtype": "f8"
           },
           "y": {
            "bdata": "Jkg8aTuq2r4C9nVgO6ravgjd3DcwsvQ+D/XaRfH/7z8=",
            "dtype": "f8"
           },
           "z": {
            "bdata": "TNJR7kHJbr8EMZq4tsluv1jCmc/wpaA/5S7dqLCZmT8=",
            "dtype": "f8"
           }
          }
         ],
         "layout": {
          "annotations": [
           {
            "showarrow": false,
            "text": "Time: 0.74s (Step: 75/100)",
            "x": 0.05,
            "xref": "paper",
            "y": 0.95,
            "yref": "paper"
           }
          ]
         },
         "name": "74"
        },
        {
         "data": [
          {
           "name": "Free Nodes",
           "type": "scatter3d",
           "x": {
            "bdata": "2+OTbg2AAb7e/rn////vPyv+iwAAAOA/IwMAAAAA4D8=",
            "dtype": "f8"
           },
           "y": {
            "bdata": "fqg+tm/q4L6K436wb+rgvgGo26OBD/s+9B7ctev/7z8=",
            "dtype": "f8"
           },
           "z": {
            "bdata": "E+uL/wmpcb9BIZXTR6lxvyVGo/b0s6A/uLRWAJSTmD8=",
            "dtype": "f8"
           }
          },
          {
           "name": "Fixed Nodes",
           "type": "scatter3d",
           "x": [],
           "y": [],
           "z": []
          },
          {
           "name": "Edges",
           "type": "scatter3d",
           "x": [
            -5.093229979742923e-10,
            0.9999999994906508,
            null,
            0.500000001018582,
            0.5000000000000892,
            null
           ],
           "y": [
            -0.00000806606630717279,
            -0.000008066066143773568,
            null,
            0.0000258069724087609,
            0.9999903251600402,
            null
           ],
           "z": [
            -0.004311598830777158,
            -0.0043118291590150135,
            null,
            0.03262296210017394,
            0.02400046588961821,
            null
           ]
          },
          {
           "i": [],
           "j": [],
           "k": [],
           "name": "Faces",
           "type": "mesh3d",
           "x": {
            "bdata": "2+OTbg2AAb7e/rn////vPyv+iwAAAOA/IwMAAAAA4D8=",
            "dtype": "f8"
           },
           "y": {
            "bdata": "fqg+tm/q4L6K436wb+rgvgGo26OBD/s+9B7ctev/7z8=",
            "dtype": "f8"
           },
           "z": {
            "bdata": "E+uL/wmpcb9BIZXTR6lxvyVGo/b0s6A/uLRWAJSTmD8=",
            "dtype": "f8"
           }
          }
         ],
         "layout": {
          "annotations": [
           {
            "showarrow": false,
            "text": "Time: 0.75s (Step: 76/100)",
            "x": 0.05,
            "xref": "paper",
            "y": 0.95,
            "yref": "paper"
           }
          ]
         },
         "name": "75"
        },
        {
         "data": [
          {
           "name": "Free Nodes",
           "type": "scatter3d",
           "x": {
            "bdata": "EiOyZWNkBL5rba7////vPwsgowAAAOA/DgQAAAAA4D8=",
            "dtype": "f8"
           },
           "y": {
            "bdata": "AbdY+kbm5L5NmwnzRubkvtqyZeKQPQE/t2NK1uT/7z8=",
            "dtype": "f8"
           },
           "z": {
            "bdata": "sJJqXvIBdL8qq06hMwJ0vys5slEYx6A/z6UAm3iNlz8=",
            "dtype": "f8"
           }
          },
          {
           "name": "Fixed Nodes",
           "type": "scatter3d",
           "x": [],
           "y": [],
           "z": []
          },
          {
           "name": "Edges",
           "type": "scatter3d",
           "x": [
            -5.934894341527851e-10,
            0.9999999994064813,
            null,
            0.5000000011868918,
            0.5000000000001152,
            null
           ],
           "y": [
            -0.000009965667980695298,
            -0.000009965667772960556,
            null,
            0.000032883628864199216,
            0.9999870477068872,
            null
           ],
           "z": [
            -0.004884669068506639,
            -0.0048849121857681786,
            null,
            0.0327689742781437,
            0.023000606976131096,
            null
           ]
          },
          {
           "i": [],
           "j": [],
           "k": [],
           "name": "Faces",
           "type": "mesh3d",
           "x": {
            "bdata": "EiOyZWNkBL5rba7////vPwsgowAAAOA/DgQAAAAA4D8=",
            "dtype": "f8"
           },
           "y": {
            "bdata": "AbdY+kbm5L5NmwnzRubkvtqyZeKQPQE/t2NK1uT/7z8=",
            "dtype": "f8"
           },
           "z": {
            "bdata": "sJJqXvIBdL8qq06hMwJ0vys5slEYx6A/z6UAm3iNlz8=",
            "dtype": "f8"
           }
          }
         ],
         "layout": {
          "annotations": [
           {
            "showarrow": false,
            "text": "Time: 0.76s (Step: 77/100)",
            "x": 0.05,
            "xref": "paper",
            "y": 0.95,
            "yref": "paper"
           }
          ]
         },
         "name": "76"
        },
        {
         "data": [
          {
           "name": "Free Nodes",
           "type": "scatter3d",
           "x": {
            "bdata": "1bxUXVZmB76DZaL////vP7YuuwAAAOA/GAUAAAAA4D8=",
            "dtype": "f8"
           },
           "y": {
            "bdata": "8DHCi2Uv6b7xXbuCZS/pvl1bClKAdAU/PcbJjNz/7z8=",
            "dtype": "f8"
           },
           "z": {
            "bdata": "goAsS6Zodr/oReT86mh2v90F1f2t3aA/UblyWl6Hlj8=",
            "dtype": "f8"
           }
          },
          {
           "name": "Fixed Nodes",
           "type": "scatter3d",
           "x": [],
           "y": [],
           "z": []
          },
          {
           "name": "Edges",
           "type": "scatter3d",
           "x": [
            -6.810225115280149e-10,
            0.9999999993189451,
            null,
            0.5000000013619317,
            0.5000000000001448,
            null
           ],
           "y": [
            -0.000012009212120988607,
            -0.00001200921186443515,
            null,
            0.0000409223232555242,
            0.9999830961007273,
            null
           ],
           "z": [
            -0.005470895371019082,
            -0.0054711512768945494,
            null,
            0.032941281543127345,
            0.022000765104786272,
            null
           ]
          },
          {
           "i": [],
           "j": [],
           "k": [],
           "name": "Faces",
           "type": "mesh3d",
           "x": {
            "bdata": "1bxUXVZmB76DZaL////vP7YuuwAAAOA/GAUAAAAA4D8=",
            "dtype": "f8"
           },
           "y": {
            "bdata": "8DHCi2Uv6b7xXbuCZS/pvl1bClKAdAU/PcbJjNz/7z8=",
            "dtype": "f8"
           },
           "z": {
            "bdata": "goAsS6Zodr/oReT86mh2v90F1f2t3aA/UblyWl6Hlj8=",
            "dtype": "f8"
           }
          }
         ],
         "layout": {
          "annotations": [
           {
            "showarrow": false,
            "text": "Time: 0.77s (Step: 78/100)",
            "x": 0.05,
            "xref": "paper",
            "y": 0.95,
            "yref": "paper"
           }
          ]
         },
         "name": "77"
        },
        {
         "data": [
          {
           "name": "Free Nodes",
           "type": "scatter3d",
           "x": {
            "bdata": "1zT68H53Cr7CIJb////vP/m20wAAAOA/OQYAAAAA4D8=",
            "dtype": "f8"
           },
           "y": {
            "bdata": "0EfVEWqi7b6gn/8GaqLtvvSEBAOCHwo/qQzMxtL/7z8=",
            "dtype": "f8"
           },
           "z": {
            "bdata": "DYg7yRnWeL+IQcPpYdZ4vwcb/hbz9aA/itp9CEWBlT8=",
            "dtype": "f8"
           }
          },
          {
           "name": "Fixed Nodes",
           "type": "scatter3d",
           "x": [],
           "y": [],
           "z": []
          },
          {
           "name": "Edges",
           "type": "scatter3d",
           "x": [
            -7.702846988334885e-10,
            0.9999999992296795,
            null,
            0.5000000015404275,
            0.5000000000001769,
            null
           ],
           "y": [
            -0.000014130797860421098,
            -0.000014130797552483314,
            null,
            0.00004982581629265652,
            0.9999784357791174,
            null
           ],
           "z": [
            -0.006063557364287331,
            -0.006063826058565154,
            null,
            0.03312644630118738,
            0.0210009371216651,
            null
           ]
          },
          {
           "i": [],
           "j": [],
           "k": [],
           "name": "Faces",
           "type": "mesh3d",
           "x": {
            "bdata": "1zT68H53Cr7CIJb////vP/m20wAAAOA/OQYAAAAA4D8=",
            "dtype": "f8"
           },
           "y": {
            "bdata": "0EfVEWqi7b6gn/8GaqLtvvSEBAOCHwo/qQzMxtL/7z8=",
            "dtype": "f8"
           },
           "z": {
            "bdata": "DYg7yRnWeL+IQcPpYdZ4vwcb/hbz9aA/itp9CEWBlT8=",
            "dtype": "f8"
           }
          }
         ],
         "layout": {
          "annotations": [
           {
            "showarrow": false,
            "text": "Time: 0.78s (Step: 79/100)",
            "x": 0.05,
            "xref": "paper",
            "y": 0.95,
            "yref": "paper"
           }
          ]
         },
         "name": "78"
        },
        {
         "data": [
          {
           "name": "Free Nodes",
           "type": "scatter3d",
           "x": {
            "bdata": "5EE1d1KLDb5U0Yn////vP4dU7AAAAOA/aAcAAAAA4D8=",
            "dtype": "f8"
           },
           "y": {
            "bdata": "1aI6U5EO8b7hJuZMkQ7xvgHHZP3qLw8/kkqZesf/7z8=",
            "dtype": "f8"
           },
           "z": {
            "bdata": "uzzJk65Ee7/0QSAj+kR7v6hvsyeADqE/UamvbSx7lD8=",
            "dtype": "f8"
           }
          },
          {
           "name": "Fixed Nodes",
           "type": "scatter3d",
           "x": [],
           "y": [],
           "z": []
          },
          {
           "name": "Edges",
           "type": "scatter3d",
           "x": [
            -8.598501757967695e-10,
            0.9999999991401105,
            null,
            0.5000000017195284,
            0.5000000000002105,
            null
           ],
           "y": [
            -0.000016266732201816417,
            -0.000016266731841996645,
            null,
            0.00005948482400909388,
            0.9999730486400316,
            null
           ],
           "z": [
            -0.006657297079598108,
            -0.006657578562240907,
            null,
            0.03331375584249879,
            0.02000111979934022,
            null
           ]
          },
          {
           "i": [],
           "j": [],
           "k": [],
           "name": "Faces",
           "type": "mesh3d",
           "x": {
            "bdata": "5EE1d1KLDb5U0Yn////vP4dU7AAAAOA/aAcAAAAA4D8=",
            "dtype": "f8"
           },
           "y": {
            "bdata": "1aI6U5EO8b7hJuZMkQ7xvgHHZP3qLw8/kkqZesf/7z8=",
            "dtype": "f8"
           },
           "z": {
            "bdata": "uzzJk65Ee7/0QSAj+kR7v6hvsyeADqE/UamvbSx7lD8=",
            "dtype": "f8"
           }
          }
         ],
         "layout": {
          "annotations": [
           {
            "showarrow": false,
            "text": "Time: 0.79s (Step: 80/100)",
            "x": 0.05,
            "xref": "paper",
            "y": 0.95,
            "yref": "paper"
           }
          ]
         },
         "name": "79"
        },
        {
         "data": [
          {
           "name": "Free Nodes",
           "type": "scatter3d",
           "x": {
            "bdata": "9gqyuptPEL6fgX3////vP5byBAEAAOA/pAgAAAAA4D8=",
            "dtype": "f8"
           },
           "y": {
            "bdata": "RN0oJghM874sqeoeCEzzvjohYuAfURI/94Yhp7r/7z8=",
            "dtype": "f8"
           },
           "z": {
            "bdata": "QLIRhEqzfb/U/jeCmbN9v3t206YOJ6E/B3PpiBR1kz8=",
            "dtype": "f8"
           }
          },
          {
           "name": "Fixed Nodes",
           "type": "scatter3d",
           "x": [],
           "y": [],
           "z": []
          },
          {
           "name": "Edges",
           "type": "scatter3d",
           "x": [
            -9.494234103606105e-10,
            0.9999999990505336,
            null,
            0.5000000018986437,
            0.5000000000002456,
            null
           ],
           "y": [
            -0.0000184030526588473,
            -0.00001840305224713142,
            null,
            0.00006987340029430004,
            0.9999669327046082,
            null
           ],
           "z": [
            -0.007251063420977533,
            -0.007251357691984334,
            null,
            0.033501108040337756,
            0.019001313072624117,
            null
           ]
          },
          {
           "i": [],
           "j": [],
           "k": [],
           "name": "Faces",
           "type": "mesh3d",
           "x": {
            "bdata": "9gqyuptPEL6fgX3////vP5byBAEAAOA/pAgAAAAA4D8=",
            "dtype": "f8"
           },
           "y": {
            "bdata": "RN0oJghM874sqeoeCEzzvjohYuAfURI/94Yhp7r/7z8=",
            "dtype": "f8"
           },
           "z": {
            "bdata": "QLIRhEqzfb/U/jeCmbN9v3t206YOJ6E/B3PpiBR1kz8=",
            "dtype": "f8"
           }
          }
         ],
         "layout": {
          "annotations": [
           {
            "showarrow": false,
            "text": "Time: 0.80s (Step: 81/100)",
            "x": 0.05,
            "xref": "paper",
            "y": 0.95,
            "yref": "paper"
           }
          ]
         },
         "name": "80"
        },
        {
         "data": [
          {
           "name": "Free Nodes",
           "type": "scatter3d",
           "x": {
            "bdata": "nFvKNI7ZEb7oMXH////vP5mQHQEAAOA/7QkAAAAA4D8=",
            "dtype": "f8"
           },
           "y": {
            "bdata": "NrL1Rn+J9b7Ixc0+f4n1vjC67OKhOhU/APTtUKz/7z8=",
            "dtype": "f8"
           },
           "z": {
            "bdata": "7cPeQ/MQgL/ejVl6HBGAv5aNt8mcP6E/NcxMZv1ukj8=",
            "dtype": "f8"
           }
          },
          {
           "name": "Fixed Nodes",
           "type": "scatter3d",
           "x": [],
           "y": [],
           "z": []
          },
          {
           "name": "Edges",
           "type": "scatter3d",
           "x": [
            -1.0389966275894264e-9,
            0.9999999989609565,
            null,
            0.5000000020777576,
            0.5000000000002821,
            null
           ],
           "y": [
            -0.000020539377542249357,
            -0.000020539377078637196,
            null,
            0.00008098233295748196,
            0.9999600964216597,
            null
           ],
           "z": [
            -0.00784483004449218,
            -0.007845137103862972,
            null,
            0.03368844950071119,
            0.018001517647643978,
            null
           ]
          },
          {
           "i": [],
           "j": [],
           "k": [],
           "name": "Faces",
           "type": "mesh3d",
           "x": {
            "bdata": "nFvKNI7ZEb7oMXH////vP5mQHQEAAOA/7QkAAAAA4D8=",
            "dtype": "f8"
           },
           "y": {
            "bdata": "NrL1Rn+J9b7Ixc0+f4n1vjC67OKhOhU/APTtUKz/7z8=",
            "dtype": "f8"
           },
           "z": {
            "bdata": "7cPeQ/MQgL/ejVl6HBGAv5aNt8mcP6E/NcxMZv1ukj8=",
            "dtype": "f8"
           }
          }
         ],
         "layout": {
          "annotations": [
           {
            "showarrow": false,
            "text": "Time: 0.81s (Step: 82/100)",
            "x": 0.05,
            "xref": "paper",
            "y": 0.95,
            "yref": "paper"
           }
          ]
         },
         "name": "81"
        },
        {
         "data": [
          {
           "name": "Free Nodes",
           "type": "scatter3d",
           "x": {
            "bdata": "c3JSmoBjE74w4mT////vP44uNgEAAOA/RAsAAAAA4D8=",
            "dtype": "f8"
           },
           "y": {
            "bdata": "6pWLaPbG974m8Xlf9sb3vrugGMK4Uxg/I38Tfpz/7z8=",
            "dtype": "f8"
           },
           "z": {
            "bdata": "fvPLRUFIgb8WYa4zbEiBvy1p3oUqWKE/MOFBEedokT8=",
            "dtype": "f8"
           }
          },
          {
           "name": "Fixed Nodes",
           "type": "scatter3d",
           "x": [],
           "y": [],
           "z": []
          },
          {
           "name": "Edges",
           "type": "scatter3d",
           "x": [
            -1.128569773474679e-9,
            0.9999999988713792,
            null,
            0.50000000225687,
            0.5000000000003202,
            null
           ],
           "y": [
            -0.00002267570247029518,
            -0.00002267570195478674,
            null,
            0.0000928002850960644,
            0.9999525511193251,
            null
           ],
           "z": [
            -0.008438596670652162,
            -0.008438916518386946,
            null,
            0.03387577900066883,
            0.01700173418837031,
            null
           ]
          },
          {
           "i": [],
           "j": [],
           "k": [],
           "name": "Faces",
           "type": "mesh3d",
           "x": {
            "bdata": "c3JSmoBjE74w4mT////vP44uNgEAAOA/RAsAAAAA4D8=",
            "dtype": "f8"
           },
           "y": {
            "bdata": "6pWLaPbG974m8Xlf9sb3vrugGMK4Uxg/I38Tfpz/7z8=",
            "dtype": "f8"
           },
           "z": {
            "bdata": "fvPLRUFIgb8WYa4zbEiBvy1p3oUqWKE/MOFBEedokT8=",
            "dtype": "f8"
           }
          }
         ],
         "layout": {
          "annotations": [
           {
            "showarrow": false,
            "text": "Time: 0.82s (Step: 83/100)",
            "x": 0.05,
            "xref": "paper",
            "y": 0.95,
            "yref": "paper"
           }
          ]
         },
         "name": "82"
        },
        {
         "data": [
          {
           "name": "Free Nodes",
           "type": "scatter3d",
           "x": {
            "bdata": "1oZM8HLtFL54klj////vP3TMTgEAAOA/qgwAAAAA4D8=",
            "dtype": "f8"
           },
           "y": {
            "bdata": "AHgjim0E+r7mGiiAbQT6vsp0JfXRmxs/R2smM4v/7z8=",
            "dtype": "f8"
           },
           "z": {
            "bdata": "Plq5R49/gr99awPtu3+CvxGjU9W3cKE/v3CaldFikD8=",
            "dtype": "f8"
           }
          },
          {
           "name": "Fixed Nodes",
           "type": "scatter3d",
           "x": [],
           "y": [],
           "z": []
          },
          {
           "name": "Edges",
           "type": "scatter3d",
           "x": [
            -1.2181428653936386e-9,
            0.999999998781802,
            null,
            0.5000000024359808,
            0.5000000000003599,
            null
           ],
           "y": [
            -0.000024812027398783687,
            -0.00002481202683137897,
            null,
            0.00010531872729787058,
            0.9999443053269282,
            null
           ],
           "z": [
            -0.00903236329683665,
            -0.009032695932935425,
            null,
            0.03406309584699419,
            0.016001963382777925,
            null
           ]
          },
          {
           "i": [],
           "j": [],
           "k": [],
           "name": "Faces",
           "type": "mesh3d",
           "x": {
            "bdata": "1oZM8HLtFL54klj////vP3TMTgEAAOA/qgwAAAAA4D8=",
            "dtype": "f8"
           },
           "y": {
            "bdata": "AHgjim0E+r7mGiiAbQT6vsp0JfXRmxs/R2smM4v/7z8=",
            "dtype": "f8"
           },
           "z": {
            "bdata": "Plq5R49/gr99awPtu3+CvxGjU9W3cKE/v3CaldFikD8=",
            "dtype": "f8"
           }
          }
         ],
         "layout": {
          "annotations": [
           {
            "showarrow": false,
            "text": "Time: 0.83s (Step: 84/100)",
            "x": 0.05,
            "xref": "paper",
            "y": 0.95,
            "yref": "paper"
           }
          ]
         },
         "name": "83"
        },
        {
         "data": [
          {
           "name": "Free Nodes",
           "type": "scatter3d",
           "x": {
            "bdata": "qzI7L2V3Fr6/Qkz////vP0pqZwEAAOA/IA4AAAAA4D8=",
            "dtype": "f8"
           },
           "y": {
            "bdata": "H1+7q+RB/L6vSdag5EH8vsFbO0uyEh8/Ij8Acnj/7z8=",
            "dtype": "f8"
           },
           "z": {
            "bdata": "gcGmSd22g79ndlimC7eDv619g7FEiaE/w377AHq5jj8=",
            "dtype": "f8"
           }
          },
          {
           "name": "Fixed Nodes",
           "type": "scatter3d",
           "x": [],
           "y": [],
           "z": []
          },
          {
           "name": "Edges",
           "type": "scatter3d",
           "x": [
            -1.3077158773607055e-9,
            0.9999999986922247,
            null,
            0.5000000026150897,
            0.5000000000004015,
            null
           ],
           "y": [
            -0.000026948352327276563,
            -0.000026948351707975566,
            null,
            0.00011853421420525338,
            0.9999353624898257,
            null
           ],
           "z": [
            -0.009626129923021367,
            -0.009626475347484132,
            null,
            0.034250399274010725,
            0.015002205996494827,
            null
           ]
          },
          {
           "i": [],
           "j": [],
           "k": [],
           "name": "Faces",
           "type": "mesh3d",
           "x": {
            "bdata": "qzI7L2V3Fr6/Qkz////vP0pqZwEAAOA/IA4AAAAA4D8=",
            "dtype": "f8"
           },
           "y": {
            "bdata": "H1+7q+RB/L6vSdag5EH8vsFbO0uyEh8/Ij8Acnj/7z8=",
            "dtype": "f8"
           },
           "z": {
            "bdata": "gcGmSd22g79ndlimC7eDv619g7FEiaE/w377AHq5jj8=",
            "dtype": "f8"
           }
          }
         ],
         "layout": {
          "annotations": [
           {
            "showarrow": false,
            "text": "Time: 0.84s (Step: 85/100)",
            "x": 0.05,
            "xref": "paper",
            "y": 0.95,
            "yref": "paper"
           }
          ]
         },
         "name": "84"
        },
        {
         "data": [
          {
           "name": "Free Nodes",
           "type": "scatter3d",
           "x": {
            "bdata": "LZ1lYFcBGL4G8z/////vPw4IgAEAAOA/qA8AAAAA4D8=",
            "dtype": "f8"
           },
           "y": {
            "bdata": "S0ZTzVt//r6FeITBW3/+vtFimUM1XCE/8eMaOmT/7z8=",
            "dtype": "f8"
           },
           "z": {
            "bdata": "xSiUSyvuhL9Sga1fW+6Ev4yLJRPRoaE//E75wFKtjD8=",
            "dtype": "f8"
           }
          },
          {
           "name": "Fixed Nodes",
           "type": "scatter3d",
           "x": [],
           "y": [],
           "z": []
          },
          {
           "name": "Edges",
           "type": "scatter3d",
           "x": [
            -1.3972888415652084e-9,
            0.9999999986026473,
            null,
            0.5000000027941967,
            0.500000000000445,
            null
           ],
           "y": [
            -0.000029084677255769483,
            -0.000029084676584572206,
            null,
            0.00013244772144351558,
            0.9999257216323924,
            null
           ],
           "z": [
            -0.010219896549206084,
            -0.010220254762032841,
            null,
            0.03443768843387493,
            0.014002462877364057,
            null
           ]
          },
          {
           "i": [],
           "j": [],
           "k": [],
           "name": "Faces",
           "type": "mesh3d",
           "x": {
            "bdata": "LZ1lYFcBGL4G8z/////vPw4IgAEAAOA/qA8AAAAA4D8=",
            "dtype": "f8"
           },
           "y": {
            "bdata": "S0ZTzVt//r6FeITBW3/+vtFimUM1XCE/8eMaOmT/7z8=",
            "dtype": "f8"
           },
           "z": {
            "bdata": "xSiUSyvuhL9Sga1fW+6Ev4yLJRPRoaE//E75wFKtjD8=",
            "dtype": "f8"
           }
          }
         ],
         "layout": {
          "annotations": [
           {
            "showarrow": false,
            "text": "Time: 0.85s (Step: 86/100)",
            "x": 0.05,
            "xref": "paper",
            "y": 0.95,
            "yref": "paper"
           }
          ]
         },
         "name": "85"
        },
        {
         "data": [
          {
           "name": "Free Nodes",
           "type": "scatter3d",
           "x": {
            "bdata": "ZH+zbEmLGb5MozP////vP7+lmAEAAOA/QxEAAAAA4D8=",
            "dtype": "f8"
           },
           "y": {
            "bdata": "vJZ1d2leAL+uUxlxaV4Av4M5ZROZRiM/vmu6iU7/7z8=",
            "dtype": "f8"
           },
           "z": {
            "bdata": "CZCBTXklhr89jAIZqyWGv4D5gPJcuqE/354Rii2hij8=",
            "dtype": "f8"
           }
          },
          {
           "name": "Fixed Nodes",
           "type": "scatter3d",
           "x": [],
           "y": [],
           "z": []
          },
          {
           "name": "Edges",
           "type": "scatter3d",
           "x": [
            -1.4868616778808497e-9,
            0.9999999985130699,
            null,
            0.5000000029733015,
            0.5000000000004906,
            null
           ],
           "y": [
            -0.000031221002184262406,
            -0.00003122100146116885,
            null,
            0.00014706247902513897,
            0.9999153795246156,
            null
           ],
           "z": [
            -0.010813663175390802,
            -0.01081403417658155,
            null,
            0.03462496242763091,
            0.013002734924341506,
            null
           ]
          },
          {
           "i": [],
           "j": [],
           "k": [],
           "name": "Faces",
           "type": "mesh3d",
           "x": {
            "bdata": "ZH+zbEmLGb5MozP////vP7+lmAEAAOA/QxEAAAAA4D8=",
            "dtype": "f8"
           },
           "y": {
            "bdata": "vJZ1d2leAL+uUxlxaV4Av4M5ZROZRiM/vmu6iU7/7z8=",
            "dtype": "f8"
           },
           "z": {
            "bdata": "CZCBTXklhr89jAIZqyWGv4D5gPJcuqE/354Rii2hij8=",
            "dtype": "f8"
           }
          }
         ],
         "layout": {
          "annotations": [
           {
            "showarrow": false,
            "text": "Time: 0.86s (Step: 87/100)",
            "x": 0.05,
            "xref": "paper",
            "y": 0.95,
            "yref": "paper"
           }
          ]
         },
         "name": "86"
        },
        {
         "data": [
          {
           "name": "Free Nodes",
           "type": "scatter3d",
           "x": {
            "bdata": "QxnQYTsVG76RUyf////vP1xDsQEAAOA/8hIAAAAA4D8=",
            "dtype": "f8"
           },
           "y": {
            "bdata": "UopBCCV9Ab8Za3ABJX0Bv+db7cagSCU/xrcbXzf/7z8=",
            "dtype": "f8"
           },
           "z": {
            "bdata": "TfduT8dch78ol1fS+lyHv0hdyUfo0qE/chd2ewqViD8=",
            "dtype": "f8"
           }
          },
          {
           "name": "Fixed Nodes",
           "type": "scatter3d",
           "x": [],
           "y": [],
           "z": []
          },
          {
           "name": "Edges",
           "type": "scatter3d",
           "x": [
            -1.5764344337313075e-9,
            0.9999999984234923,
            null,
            0.5000000031524041,
            0.5000000000005385,
            null
           ],
           "y": [
            -0.000033357327112755326,
            -0.00003335732633776549,
            null,
            0.00016238176928126612,
            0.9999043328841644,
            null
           ],
           "z": [
            -0.01140742980157552,
            -0.011407813591130259,
            null,
            0.03481222034741421,
            0.012003023045291637,
            null
           ]
          },
          {
           "i": [],
           "j": [],
           "k": [],
           "name": "Faces",
           "type": "mesh3d",
           "x": {
            "bdata": "QxnQYTsVG76RUyf////vP1xDsQEAAOA/8hIAAAAA4D8=",
            "dtype": "f8"
           },
           "y": {
            "bdata": "UopBCCV9Ab8Za3ABJX0Bv+db7cagSCU/xrcbXzf/7z8=",
            "dtype": "f8"
           },
           "z": {
            "bdata": "TfduT8dch78ol1fS+lyHv0hdyUfo0qE/chd2ewqViD8=",
            "dtype": "f8"
           }
          }
         ],
         "layout": {
          "annotations": [
           {
            "showarrow": false,
            "text": "Time: 0.87s (Step: 88/100)",
            "x": 0.05,
            "xref": "paper",
            "y": 0.95,
            "yref": "paper"
           }
          ]
         },
         "name": "87"
        },
        {
         "data": [
          {
           "name": "Free Nodes",
           "type": "scatter3d",
           "x": {
            "bdata": "nOUNQC2fHL7VAxv////vP+TgyQEAAOA/thQAAAAA4D8=",
            "dtype": "f8"
           },
           "y": {
            "bdata": "6H0NmeCbAr+EgseR4JsCvzQM93pdYic/tfssuR7/7z8=",
            "dtype": "f8"
           },
           "z": {
            "bdata": "kV5cURWUiL8ToqyLSpSIv4cnZQtz66E/KPaMs+mIhj8=",
            "dtype": "f8"
           }
          },
          {
           "name": "Fixed Nodes",
           "type": "scatter3d",
           "x": [],
           "y": [],
           "z": []
          },
          {
           "name": "Edges",
           "type": "scatter3d",
           "x": [
            -1.666007110234391e-9,
            0.9999999983339146,
            null,
            0.5000000033315044,
            0.5000000000005886,
            null
           ],
           "y": [
            -0.000035493652041248245,
            -0.00003549365121436213,
            null,
            0.00017840758435569567,
            0.9998925797188948,
            null
           ],
           "z": [
            -0.012001196427760237,
            -0.012001593005678967,
            null,
            0.03499946130848657,
            0.011003328124952708,
            null
           ]
          },
          {
           "i": [],
           "j": [],
           "k": [],
           "name": "Faces",
           "type": "mesh3d",
           "x": {
            "bdata": "nOUNQC2fHL7VAxv////vP+TgyQEAAOA/thQAAAAA4D8=",
            "dtype": "f8"
           },
           "y": {
            "bdata": "6H0NmeCbAr+EgseR4JsCvzQM93pdYic/tfssuR7/7z8=",
            "dtype": "f8"
           },
           "z": {
            "bdata": "kV5cURWUiL8ToqyLSpSIv4cnZQtz66E/KPaMs+mIhj8=",
            "dtype": "f8"
           }
          }
         ],
         "layout": {
          "annotations": [
           {
            "showarrow": false,
            "text": "Time: 0.88s (Step: 89/100)",
            "x": 0.05,
            "xref": "paper",
            "y": 0.95,
            "yref": "paper"
           }
          ]
         },
         "name": "88"
        },
        {
         "data": [
          {
           "name": "Free Nodes",
           "type": "scatter3d",
           "x": {
            "bdata": "qRK8Bx8pHr4YtA7////vP1Z+4gEAAOA/kBYAAAAA4D8=",
            "dtype": "f8"
           },
           "y": {
            "bdata": "fnHZKZy6A7/vmR4inLoDv78/5rnSkyk/TJG1lwT/7z8=",
            "dtype": "f8"
           },
           "z": {
            "bdata": "1cVJU2PLib/+rAFFmsuJvwLMBzb9A6I/72uIT8t8hD8=",
            "dtype": "f8"
           }
          },
          {
           "name": "Fixed Nodes",
           "type": "scatter3d",
           "x": [],
           "y": [],
           "z": []
          },
          {
           "name": "Edges",
           "type": "scatter3d",
           "x": [
            -1.755579708463197e-9,
            0.9999999982443368,
            null,
            0.5000000035106023,
            0.5000000000006413,
            null
           ],
           "y": [
            -0.000037629976969741165,
            -0.000037629976090958774,
            null,
            0.00019514033642708918,
            0.9998801196166283,
            null
           ],
           "z": [
            -0.012594963053944955,
            -0.012595372420227676,
            null,
            0.03518668446113084,
            0.010003651013041874,
            null
           ]
          },
          {
           "i": [],
           "j": [],
           "k": [],
           "name": "Faces",
           "type": "mesh3d",
           "x": {
            "bdata": "qRK8Bx8pHr4YtA7////vP1Z+4gEAAOA/kBYAAAAA4D8=",
            "dtype": "f8"
           },
           "y": {
            "bdata": "fnHZKZy6A7/vmR4inLoDv78/5rnSkyk/TJG1lwT/7z8=",
            "dtype": "f8"
           },
           "z": {
            "bdata": "1cVJU2PLib/+rAFFmsuJvwLMBzb9A6I/72uIT8t8hD8=",
            "dtype": "f8"
           }
          }
         ],
         "layout": {
          "annotations": [
           {
            "showarrow": false,
            "text": "Time: 0.89s (Step: 90/100)",
            "x": 0.05,
            "xref": "paper",
            "y": 0.95,
            "yref": "paper"
           }
          ]
         },
         "name": "89"
        },
        {
         "data": [
          {
           "name": "Free Nodes",
           "type": "scatter3d",
           "x": {
            "bdata": "bz3AshCzH75aZAL////vP7Eb+wEAAOA/gRgAAAAA4D8=",
            "dtype": "f8"
           },
           "y": {
            "bdata": "FGWlulfZBL9asXWyV9kEv4REU2r63Cs/Bg8X++j+7z8=",
            "dtype": "f8"
           },
           "z": {
            "bdata": "GS03VbECi7/pt1b+6QKLv6WUo8CGHKI/FlGfa69wgj8=",
            "dtype": "f8"
           }
          },
          {
           "name": "Fixed Nodes",
           "type": "scatter3d",
           "x": [],
           "y": [],
           "z": []
          },
          {
           "name": "Edges",
           "type": "scatter3d",
           "x": [
            -1.8451522072434383e-9,
            0.9999999981547589,
            null,
            0.5000000036896975,
            0.5000000000006964,
            null
           ],
           "y": [
            -0.000039766301898234085,
            -0.000039766300967555414,
            null,
            0.00021257931545063194,
            0.9998669532874096,
            null
           ],
           "z": [
            -0.013188729680129673,
            -0.013189151834776385,
            null,
            0.035373888984204606,
            0.009003992530701537,
            null
           ]
          },
          {
           "i": [],
           "j": [],
           "k": [],
           "name": "Faces",
           "type": "mesh3d",
           "x": {
            "bdata": "bz3AshCzH75aZAL////vP7Eb+wEAAOA/gRgAAAAA4D8=",
            "dtype": "f8"
           },
           "y": {
            "bdata": "FGWlulfZBL9asXWyV9kEv4REU2r63Cs/Bg8X++j+7z8=",
            "dtype": "f8"
           },
           "z": {
            "bdata": "GS03VbECi7/pt1b+6QKLv6WUo8CGHKI/FlGfa69wgj8=",
            "dtype": "f8"
           }
          }
         ],
         "layout": {
          "annotations": [
           {
            "showarrow": false,
            "text": "Time: 0.90s (Step: 91/100)",
            "x": 0.05,
            "xref": "paper",
            "y": 0.95,
            "yref": "paper"
           }
          ]
         },
         "name": "90"
        },
        {
         "data": [
          {
           "name": "Free Nodes",
           "type": "scatter3d",
           "x": {
            "bdata": "fto4J4GeIL6cFPb+///vP/O4EwIAAOA/ixoAAAAA4D8=",
            "dtype": "f8"
           },
           "y": {
            "bdata": "qlhxSxP4Bb/FyMxCE/gFv6O8OAXLPS4/OeXp48v+7z8=",
            "dtype": "f8"
           },
           "z": {
            "bdata": "XZQkV/85jL/Uwqu3OTqMv7yVRqQPNaI/bFSZI5ZkgD8=",
            "dtype": "f8"
           }
          },
          {
           "name": "Fixed Nodes",
           "type": "scatter3d",
           "x": [],
           "y": [],
           "z": []
          },
          {
           "name": "Edges",
           "type": "scatter3d",
           "x": [
            -1.93472465286118e-9,
            0.999999998065181,
            null,
            0.5000000038687901,
            0.5000000000007544,
            null
           ],
           "y": [
            -0.000041902626826727005,
            -0.000041902625844152055,
            null,
            0.00023072341228800195,
            0.9998530818403771,
            null
           ],
           "z": [
            -0.01378249630631439,
            -0.013782931249325094,
            null,
            0.03556107406920314,
            0.008004353486436432,
            null
           ]
          },
          {
           "i": [],
           "j": [],
           "k": [],
           "name": "Faces",
           "type": "mesh3d",
           "x": {
            "bdata": "fto4J4GeIL6cFPb+///vP/O4EwIAAOA/ixoAAAAA4D8=",
            "dtype": "f8"
           },
           "y": {
            "bdata": "qlhxSxP4Bb/FyMxCE/gFv6O8OAXLPS4/OeXp48v+7z8=",
            "dtype": "f8"
           },
           "z": {
            "bdata": "XZQkV/85jL/Uwqu3OTqMv7yVRqQPNaI/bFSZI5ZkgD8=",
            "dtype": "f8"
           }
          }
         ],
         "layout": {
          "annotations": [
           {
            "showarrow": false,
            "text": "Time: 0.91s (Step: 92/100)",
            "x": 0.05,
            "xref": "paper",
            "y": 0.95,
            "yref": "paper"
           }
          ]
         },
         "name": "91"
        },
        {
         "data": [
          {
           "name": "Free Nodes",
           "type": "scatter3d",
           "x": {
            "bdata": "KiWS6XljIb7dxOn+///vPxtWLAIAAOA/rxwAAAAA4D8=",
            "dtype": "f8"
           },
           "y": {
            "bdata": "QEw93M4WB78w4CPTzhYHvyKKF1ceWzA/XtqrUq3+7z8=",
            "dtype": "f8"
           },
           "z": {
            "bdata": "ofsRWU1xjb+/zQBxiXGNv6JM+NmXTaI/DwGxJv+wfD8=",
            "dtype": "f8"
           }
          },
          {
           "name": "Fixed Nodes",
           "type": "scatter3d",
           "x": [],
           "y": [],
           "z": []
          },
          {
           "name": "Edges",
           "type": "scatter3d",
           "x": [
            -2.0242970186967717e-9,
            0.999999997975603,
            null,
            0.5000000040478797,
            0.5000000000008152,
            null
           ],
           "y": [
            -0.000044038951755219925,
            -0.000044038950720748696,
            null,
            0.0002495717118035386,
            0.9998385061906665,
            null
           ],
           "z": [
            -0.014376262932499108,
            -0.014376710663873802,
            null,
            0.0357482389046251,
            0.007004734691747907,
            null
           ]
          },
          {
           "i": [],
           "j": [],
           "k": [],
           "name": "Faces",
           "type": "mesh3d",
           "x": {
            "bdata": "KiWS6XljIb7dxOn+///vPxtWLAIAAOA/rxwAAAAA4D8=",
            "dtype": "f8"
           },
           "y": {
            "bdata": "QEw93M4WB78w4CPTzhYHvyKKF1ceWzA/XtqrUq3+7z8=",
            "dtype": "f8"
           },
           "z": {
            "bdata": "ofsRWU1xjb+/zQBxiXGNv6JM+NmXTaI/DwGxJv+wfD8=",
            "dtype": "f8"
           }
          }
         ],
         "layout": {
          "annotations": [
           {
            "showarrow": false,
            "text": "Time: 0.92s (Step: 93/100)",
            "x": 0.05,
            "xref": "paper",
            "y": 0.95,
            "yref": "paper"
           }
          ]
         },
         "name": "92"
        },
        {
         "data": [
          {
           "name": "Free Nodes",
           "type": "scatter3d",
           "x": {
            "bdata": "GjqUoHIoIr4ddd3+///vPyjzRAIAAOA/7h4AAAAA4D8=",
            "dtype": "f8"
           },
           "y": {
            "bdata": "1j8JbYo1CL+b93pjijUIv6thMsslozE/jtuZR43+7z8=",
            "dtype": "f8"
           },
           "z": {
            "bdata": "5WL/Wpuojr+q2FUq2aiOv8/NpVofZqI/EgdRrteYeD8=",
            "dtype": "f8"
           }
          },
          {
           "name": "Fixed Nodes",
           "type": "scatter3d",
           "x": [],
           "y": [],
           "z": []
          },
          {
           "name": "Edges",
           "type": "scatter3d",
           "x": [
            -2.1138693058407013e-9,
            0.9999999978860249,
            null,
            0.5000000042269663,
            0.5000000000008791,
            null
           ],
           "y": [
            -0.000046175276683712844,
            -0.00004617527559734534,
            null,
            0.0002691237707011194,
            0.9998232267815739,
            null
           ],
           "z": [
            -0.014970029558683826,
            -0.014970490078422511,
            null,
            0.035935382666959385,
            0.006005136970147056,
            null
           ]
          },
          {
           "i": [],
           "j": [],
           "k": [],
           "name": "Faces",
           "type": "mesh3d",
           "x": {
            "bdata": "GjqUoHIoIr4ddd3+///vPyjzRAIAAOA/7h4AAAAA4D8=",
            "dtype": "f8"
           },
           "y": {
            "bdata": "1j8JbYo1CL+b93pjijUIv6thMsslozE/jtuZR43+7z8=",
            "dtype": "f8"
           },
           "z": {
            "bdata": "5WL/Wpuojr+q2FUq2aiOv8/NpVofZqI/EgdRrteYeD8=",
            "dtype": "f8"
           }
          }
         ],
         "layout": {
          "annotations": [
           {
            "showarrow": false,
            "text": "Time: 0.93s (Step: 94/100)",
            "x": 0.05,
            "xref": "paper",
            "y": 0.95,
            "yref": "paper"
           }
          ]
         },
         "name": "93"
        },
        {
         "data": [
          {
           "name": "Free Nodes",
           "type": "scatter3d",
           "x": {
            "bdata": "5uuYT2vtIr5dJdH+///vPxmQXQIAAOA/SSEAAAAA4D8=",
            "dtype": "f8"
           },
           "y": {
            "bdata": "bDPV/UVUCb8GD9LzRVQJv4GfoeX79jI/MRKzwmv+7z8=",
            "dtype": "f8"
           },
           "z": {
            "bdata": "KcrsXOnfj7+V46rjKOCPvwmaHx+mfqI/r7SOF7aAdD8=",
            "dtype": "f8"
           }
          },
          {
           "name": "Fixed Nodes",
           "type": "scatter3d",
           "x": [],
           "y": [],
           "z": []
          },
          {
           "name": "Edges",
           "type": "scatter3d",
           "x": [
            -2.203441537544298e-9,
            0.9999999977964468,
            null,
            0.5000000044060499,
            0.500000000000946,
            null
           ],
           "y": [
            -0.000048311601612205764,
            -0.00004831160047394198,
            null,
            0.0002893795950797904,
            0.9998072436070001,
            null
           ],
           "z": [
            -0.015563796184868544,
            -0.01556426949297122,
            null,
            0.03612250451969962,
            0.005005561158140256,
            null
           ]
          },
          {
           "i": [],
           "j": [],
           "k": [],
           "name": "Faces",
           "type": "mesh3d",
           "x": {
            "bdata": "5uuYT2vtIr5dJdH+///vPxmQXQIAAOA/SSEAAAAA4D8=",
            "dtype": "f8"
           },
           "y": {
            "bdata": "bDPV/UVUCb8GD9LzRVQJv4GfoeX79jI/MRKzwmv+7z8=",
            "dtype": "f8"
           },
           "z": {
            "bdata": "KcrsXOnfj7+V46rjKOCPvwmaHx+mfqI/r7SOF7aAdD8=",
            "dtype": "f8"
           }
          }
         ],
         "layout": {
          "annotations": [
           {
            "showarrow": false,
            "text": "Time: 0.94s (Step: 95/100)",
            "x": 0.05,
            "xref": "paper",
            "y": 0.95,
            "yref": "paper"
           }
          ]
         },
         "name": "94"
        },
        {
         "data": [
          {
           "name": "Free Nodes",
           "type": "scatter3d",
           "x": {
            "bdata": "m3/N8mOyI76c1cT+///vP+0sdgIAAOA/wSMAAAAA4D8=",
            "dtype": "f8"
           },
           "y": {
            "bdata": "AiehjgFzCr9xJimEAXMKv6QmU8ahVjQ/i4DTw0j+7z8=",
            "dtype": "f8"
           },
           "z": {
            "bdata": "txhtr5uLkL9A939OvIuQvxfaIyAsl6I/rMN4nJpocD8=",
            "dtype": "f8"
           }
          },
          {
           "name": "Fixed Nodes",
           "type": "scatter3d",
           "x": [],
           "y": [],
           "z": []
          },
          {
           "name": "Edges",
           "type": "scatter3d",
           "x": [
            -2.2930136872790243e-9,
            0.9999999977068685,
            null,
            0.5000000045851302,
            0.5000000000010162,
            null
           ],
           "y": [
            -0.000050447926540698684,
            -0.00005044792535053862,
            null,
            0.0003103394468096743,
            0.9997905564050752,
            null
           ],
           "z": [
            -0.016157562811053263,
            -0.01615804890751993,
            null,
            0.03630960361799767,
            0.004006008100575647,
            null
           ]
          },
          {
           "i": [],
           "j": [],
           "k": [],
           "name": "Faces",
           "type": "mesh3d",
           "x": {
            "bdata": "m3/N8mOyI76c1cT+///vP+0sdgIAAOA/wSMAAAAA4D8=",
            "dtype": "f8"
           },
           "y": {
            "bdata": "AiehjgFzCr9xJimEAXMKv6QmU8ahVjQ/i4DTw0j+7z8=",
            "dtype": "f8"
           },
           "z": {
            "bdata": "txhtr5uLkL9A939OvIuQvxfaIyAsl6I/rMN4nJpocD8=",
            "dtype": "f8"
           }
          }
         ],
         "layout": {
          "annotations": [
           {
            "showarrow": false,
            "text": "Time: 0.95s (Step: 96/100)",
            "x": 0.05,
            "xref": "paper",
            "y": 0.95,
            "yref": "paper"
           }
          ]
         },
         "name": "95"
        },
        {
         "data": [
          {
           "name": "Free Nodes",
           "type": "scatter3d",
           "x": {
            "bdata": "TwT3g1x3JL7ahbj+///vP6PJjgIAAOA/VyYAAAAA4D8=",
            "dtype": "f8"
           },
           "y": {
            "bdata": "mBptH72RC7/cPYAUvZELvyqOxrUYwjU/qRbSSiT+7z8=",
            "dtype": "f8"
           },
           "z": {
            "bdata": "WsxjsEInkb+1fCorZCeRv9N8bFaxr6I/a3p/7gqhaD8=",
            "dtype": "f8"
           }
          },
          {
           "name": "Fixed Nodes",
           "type": "scatter3d",
           "x": [],
           "y": [],
           "z": []
          },
          {
           "name": "Edges",
           "type": "scatter3d",
           "x": [
            -2.3825857118139164e-9,
            0.9999999976172902,
            null,
            0.5000000047642071,
            0.5000000000010897,
            null
           ],
           "y": [
            -0.000052584251469191604,
            -0.00005258425022713526,
            null,
            0.0003320036246583247,
            0.9997731648770315,
            null
           ],
           "z": [
            -0.016751329437237984,
            -0.016751828322068636,
            null,
            0.036496679115083495,
            0.003006478644223256,
            null
           ]
          },
          {
           "i": [],
           "j": [],
           "k": [],
           "name": "Faces",
           "type": "mesh3d",
           "x": {
            "bdata": "TwT3g1x3JL7ahbj+///vP6PJjgIAAOA/VyYAAAAA4D8=",
            "dtype": "f8"
           },
           "y": {
            "bdata": "mBptH72RC7/cPYAUvZELvyqOxrUYwjU/qRbSSiT+7z8=",
            "dtype": "f8"
           },
           "z": {
            "bdata": "WsxjsEInkb+1fCorZCeRv9N8bFaxr6I/a3p/7gqhaD8=",
            "dtype": "f8"
           }
          }
         ],
         "layout": {
          "annotations": [
           {
            "showarrow": false,
            "text": "Time: 0.96s (Step: 97/100)",
            "x": 0.05,
            "xref": "paper",
            "y": 0.95,
            "yref": "paper"
           }
          ]
         },
         "name": "96"
        },
        {
         "data": [
          {
           "name": "Free Nodes",
           "type": "scatter3d",
           "x": {
            "bdata": "FyLnCVU8Jb4XNqz+///vPzpmpwIAAOA/DCkAAAAA4D8=",
            "dtype": "f8"
           },
           "y": {
            "bdata": "Lg45sHiwDL9HVdekeLAMv+wkAYRhOTc/4dOUV/797z8=",
            "dtype": "f8"
           },
           "z": {
            "bdata": "/X9asenCkb8qAtUHDMORv78Yuro1yKI/eNq9w+1wYD8=",
            "dtype": "f8"
           }
          },
          {
           "name": "Fixed Nodes",
           "type": "scatter3d",
           "x": [],
           "y": [],
           "z": []
          },
          {
           "name": "Edges",
           "type": "scatter3d",
           "x": [
            -2.47215765846509e-9,
            0.9999999975277117,
            null,
            0.5000000049432807,
            0.5000000000011666,
            null
           ],
           "y": [
            -0.000054720576397684524,
            -0.0000547205751037319,
            null,
            0.00035437231781949743,
            0.9997550688336753,
            null
           ],
           "z": [
            -0.017345096063422705,
            -0.017345607736617343,
            null,
            0.03668373016721337,
            0.0020069736328268105,
            null
           ]
          },
          {
           "i": [],
           "j": [],
           "k": [],
           "name": "Faces",
           "type": "mesh3d",
           "x": {
            "bdata": "FyLnCVU8Jb4XNqz+///vPzpmpwIAAOA/DCkAAAAA4D8=",
            "dtype": "f8"
           },
           "y": {
            "bdata": "Lg45sHiwDL9HVdekeLAMv+wkAYRhOTc/4dOUV/797z8=",
            "dtype": "f8"
           },
           "z": {
            "bdata": "/X9asenCkb8qAtUHDMORv78Yuro1yKI/eNq9w+1wYD8=",
            "dtype": "f8"
           }
          }
         ],
         "layout": {
          "annotations": [
           {
            "showarrow": false,
            "text": "Time: 0.97s (Step: 98/100)",
            "x": 0.05,
            "xref": "paper",
            "y": 0.95,
            "yref": "paper"
           }
          ]
         },
         "name": "97"
        },
        {
         "data": [
          {
           "name": "Free Nodes",
           "type": "scatter3d",
           "x": {
            "bdata": "6ROQgU0BJr5T5p/+///vP7ACwAIAAOA/4isAAAAA4D8=",
            "dtype": "f8"
           },
           "y": {
            "bdata": "xAEFQTTPDb+ybC41NM8NvwxhsFd8vDg/hOIW6tb97z8=",
            "dtype": "f8"
           },
           "z": {
            "bdata": "oDNRspBekr+fh3/ks16Sv3VI2EW54KI/w/vlV7yBUD8=",
            "dtype": "f8"
           }
          },
          {
           "name": "Fixed Nodes",
           "type": "scatter3d",
           "x": [],
           "y": [],
           "z": []
          },
          {
           "name": "Edges",
           "type": "scatter3d",
           "x": [
            -2.5617295060426357e-9,
            0.9999999974381332,
            null,
            0.5000000051223505,
            0.5000000000012472,
            null
           ],
           "y": [
            -0.000056856901326177443,
            -0.00005685689998032854,
            null,
            0.00037744556147025,
            0.9997362682398294,
            null
           ],
           "z": [
            -0.017938862689607427,
            -0.01793938715116605,
            null,
            0.03687075593565307,
            0.0010074939051205468,
            null
           ]
          },
          {
           "i": [],
           "j": [],
           "k": [],
           "name": "Faces",
           "type": "mesh3d",
           "x": {
            "bdata": "6ROQgU0BJr5T5p/+///vP7ACwAIAAOA/4isAAAAA4D8=",
            "dtype": "f8"
           },
           "y": {
            "bdata": "xAEFQTTPDb+ybC41NM8NvwxhsFd8vDg/hOIW6tb97z8=",
            "dtype": "f8"
           },
           "z": {
            "bdata": "oDNRspBekr+fh3/ks16Sv3VI2EW54KI/w/vlV7yBUD8=",
            "dtype": "f8"
           }
          }
         ],
         "layout": {
          "annotations": [
           {
            "showarrow": false,
            "text": "Time: 0.98s (Step: 99/100)",
            "x": 0.05,
            "xref": "paper",
            "y": 0.95,
            "yref": "paper"
           }
          ]
         },
         "name": "98"
        },
        {
         "data": [
          {
           "name": "Free Nodes",
           "type": "scatter3d",
           "x": {
            "bdata": "p/Oc8UXGJr6PlpP+///vPwSf2AIAAOA/2i4AAAAA4D8=",
            "dtype": "f8"
           },
           "y": {
            "bdata": "WvXQ0e/tDr8dhIXF7+0Ov+PsJdRoSzo/XdhjAq797z8=",
            "dtype": "f8"
           },
           "z": {
            "bdata": "Q+dHszf6kr8UDSrBW/qSv3kNnPA7+aI/aW/Mzpnc4D4=",
            "dtype": "f8"
           }
          },
          {
           "name": "Fixed Nodes",
           "type": "scatter3d",
           "x": [],
           "y": [],
           "z": []
          },
          {
           "name": "Edges",
           "type": "scatter3d",
           "x": [
            -2.6513013008176214e-9,
            0.9999999973485546,
            null,
            0.5000000053014166,
            0.5000000000013316,
            null
           ],
           "y": [
            -0.00005899322625467036,
            -0.00005899322485692518,
            null,
            0.00040122327131770894,
            0.9997167631797869,
            null
           ],
           "z": [
            -0.018532629315792148,
            -0.018533166565714757,
            null,
            0.03705775558594388,
            0.00000804029556316479,
            null
           ]
          },
          {
           "i": [],
           "j": [],
           "k": [],
           "name": "Faces",
           "type": "mesh3d",
           "x": {
            "bdata": "p/Oc8UXGJr6PlpP+///vPwSf2AIAAOA/2i4AAAAA4D8=",
            "dtype": "f8"
           },
           "y": {
            "bdata": "WvXQ0e/tDr8dhIXF7+0Ov+PsJdRoSzo/XdhjAq797z8=",
            "dtype": "f8"
           },
           "z": {
            "bdata": "Q+dHszf6kr8UDSrBW/qSv3kNnPA7+aI/aW/Mzpnc4D4=",
            "dtype": "f8"
           }
          }
         ],
         "layout": {
          "annotations": [
           {
            "showarrow": false,
            "text": "Time: 0.99s (Step: 100/100)",
            "x": 0.05,
            "xref": "paper",
            "y": 0.95,
            "yref": "paper"
           }
          ]
         },
         "name": "99"
        }
       ],
       "layout": {
        "scene": {
         "camera": {
          "eye": {
           "x": 1.2247448713915892,
           "y": 1.2247448713915892,
           "z": 0.9999999999999999
          }
         },
         "xaxis": {
          "range": [
           -2.6513013008176214e-9,
           1
          ],
          "title": {
           "text": "X Position"
          }
         },
         "yaxis": {
          "range": [
           -0.00005899322625467036,
           1.0000000001227884
          ],
          "title": {
           "text": "Y Position"
          }
         },
         "zaxis": {
          "range": [
           -0.018533166565714757,
           0.099
          ],
          "title": {
           "text": "Z Position"
          }
         }
        },
        "sliders": [
         {
          "currentvalue": {
           "prefix": "Frame: "
          },
          "steps": [
           {
            "args": [
             [
              "0"
             ],
             {
              "frame": {
               "duration": 50,
               "redraw": true
              },
              "mode": "immediate"
             }
            ],
            "label": "0",
            "method": "animate"
           },
           {
            "args": [
             [
              "1"
             ],
             {
              "frame": {
               "duration": 50,
               "redraw": true
              },
              "mode": "immediate"
             }
            ],
            "label": "1",
            "method": "animate"
           },
           {
            "args": [
             [
              "2"
             ],
             {
              "frame": {
               "duration": 50,
               "redraw": true
              },
              "mode": "immediate"
             }
            ],
            "label": "2",
            "method": "animate"
           },
           {
            "args": [
             [
              "3"
             ],
             {
              "frame": {
               "duration": 50,
               "redraw": true
              },
              "mode": "immediate"
             }
            ],
            "label": "3",
            "method": "animate"
           },
           {
            "args": [
             [
              "4"
             ],
             {
              "frame": {
               "duration": 50,
               "redraw": true
              },
              "mode": "immediate"
             }
            ],
            "label": "4",
            "method": "animate"
           },
           {
            "args": [
             [
              "5"
             ],
             {
              "frame": {
               "duration": 50,
               "redraw": true
              },
              "mode": "immediate"
             }
            ],
            "label": "5",
            "method": "animate"
           },
           {
            "args": [
             [
              "6"
             ],
             {
              "frame": {
               "duration": 50,
               "redraw": true
              },
              "mode": "immediate"
             }
            ],
            "label": "6",
            "method": "animate"
           },
           {
            "args": [
             [
              "7"
             ],
             {
              "frame": {
               "duration": 50,
               "redraw": true
              },
              "mode": "immediate"
             }
            ],
            "label": "7",
            "method": "animate"
           },
           {
            "args": [
             [
              "8"
             ],
             {
              "frame": {
               "duration": 50,
               "redraw": true
              },
              "mode": "immediate"
             }
            ],
            "label": "8",
            "method": "animate"
           },
           {
            "args": [
             [
              "9"
             ],
             {
              "frame": {
               "duration": 50,
               "redraw": true
              },
              "mode": "immediate"
             }
            ],
            "label": "9",
            "method": "animate"
           },
           {
            "args": [
             [
              "10"
             ],
             {
              "frame": {
               "duration": 50,
               "redraw": true
              },
              "mode": "immediate"
             }
            ],
            "label": "10",
            "method": "animate"
           },
           {
            "args": [
             [
              "11"
             ],
             {
              "frame": {
               "duration": 50,
               "redraw": true
              },
              "mode": "immediate"
             }
            ],
            "label": "11",
            "method": "animate"
           },
           {
            "args": [
             [
              "12"
             ],
             {
              "frame": {
               "duration": 50,
               "redraw": true
              },
              "mode": "immediate"
             }
            ],
            "label": "12",
            "method": "animate"
           },
           {
            "args": [
             [
              "13"
             ],
             {
              "frame": {
               "duration": 50,
               "redraw": true
              },
              "mode": "immediate"
             }
            ],
            "label": "13",
            "method": "animate"
           },
           {
            "args": [
             [
              "14"
             ],
             {
              "frame": {
               "duration": 50,
               "redraw": true
              },
              "mode": "immediate"
             }
            ],
            "label": "14",
            "method": "animate"
           },
           {
            "args": [
             [
              "15"
             ],
             {
              "frame": {
               "duration": 50,
               "redraw": true
              },
              "mode": "immediate"
             }
            ],
            "label": "15",
            "method": "animate"
           },
           {
            "args": [
             [
              "16"
             ],
             {
              "frame": {
               "duration": 50,
               "redraw": true
              },
              "mode": "immediate"
             }
            ],
            "label": "16",
            "method": "animate"
           },
           {
            "args": [
             [
              "17"
             ],
             {
              "frame": {
               "duration": 50,
               "redraw": true
              },
              "mode": "immediate"
             }
            ],
            "label": "17",
            "method": "animate"
           },
           {
            "args": [
             [
              "18"
             ],
             {
              "frame": {
               "duration": 50,
               "redraw": true
              },
              "mode": "immediate"
             }
            ],
            "label": "18",
            "method": "animate"
           },
           {
            "args": [
             [
              "19"
             ],
             {
              "frame": {
               "duration": 50,
               "redraw": true
              },
              "mode": "immediate"
             }
            ],
            "label": "19",
            "method": "animate"
           },
           {
            "args": [
             [
              "20"
             ],
             {
              "frame": {
               "duration": 50,
               "redraw": true
              },
              "mode": "immediate"
             }
            ],
            "label": "20",
            "method": "animate"
           },
           {
            "args": [
             [
              "21"
             ],
             {
              "frame": {
               "duration": 50,
               "redraw": true
              },
              "mode": "immediate"
             }
            ],
            "label": "21",
            "method": "animate"
           },
           {
            "args": [
             [
              "22"
             ],
             {
              "frame": {
               "duration": 50,
               "redraw": true
              },
              "mode": "immediate"
             }
            ],
            "label": "22",
            "method": "animate"
           },
           {
            "args": [
             [
              "23"
             ],
             {
              "frame": {
               "duration": 50,
               "redraw": true
              },
              "mode": "immediate"
             }
            ],
            "label": "23",
            "method": "animate"
           },
           {
            "args": [
             [
              "24"
             ],
             {
              "frame": {
               "duration": 50,
               "redraw": true
              },
              "mode": "immediate"
             }
            ],
            "label": "24",
            "method": "animate"
           },
           {
            "args": [
             [
              "25"
             ],
             {
              "frame": {
               "duration": 50,
               "redraw": true
              },
              "mode": "immediate"
             }
            ],
            "label": "25",
            "method": "animate"
           },
           {
            "args": [
             [
              "26"
             ],
             {
              "frame": {
               "duration": 50,
               "redraw": true
              },
              "mode": "immediate"
             }
            ],
            "label": "26",
            "method": "animate"
           },
           {
            "args": [
             [
              "27"
             ],
             {
              "frame": {
               "duration": 50,
               "redraw": true
              },
              "mode": "immediate"
             }
            ],
            "label": "27",
            "method": "animate"
           },
           {
            "args": [
             [
              "28"
             ],
             {
              "frame": {
               "duration": 50,
               "redraw": true
              },
              "mode": "immediate"
             }
            ],
            "label": "28",
            "method": "animate"
           },
           {
            "args": [
             [
              "29"
             ],
             {
              "frame": {
               "duration": 50,
               "redraw": true
              },
              "mode": "immediate"
             }
            ],
            "label": "29",
            "method": "animate"
           },
           {
            "args": [
             [
              "30"
             ],
             {
              "frame": {
               "duration": 50,
               "redraw": true
              },
              "mode": "immediate"
             }
            ],
            "label": "30",
            "method": "animate"
           },
           {
            "args": [
             [
              "31"
             ],
             {
              "frame": {
               "duration": 50,
               "redraw": true
              },
              "mode": "immediate"
             }
            ],
            "label": "31",
            "method": "animate"
           },
           {
            "args": [
             [
              "32"
             ],
             {
              "frame": {
               "duration": 50,
               "redraw": true
              },
              "mode": "immediate"
             }
            ],
            "label": "32",
            "method": "animate"
           },
           {
            "args": [
             [
              "33"
             ],
             {
              "frame": {
               "duration": 50,
               "redraw": true
              },
              "mode": "immediate"
             }
            ],
            "label": "33",
            "method": "animate"
           },
           {
            "args": [
             [
              "34"
             ],
             {
              "frame": {
               "duration": 50,
               "redraw": true
              },
              "mode": "immediate"
             }
            ],
            "label": "34",
            "method": "animate"
           },
           {
            "args": [
             [
              "35"
             ],
             {
              "frame": {
               "duration": 50,
               "redraw": true
              },
              "mode": "immediate"
             }
            ],
            "label": "35",
            "method": "animate"
           },
           {
            "args": [
             [
              "36"
             ],
             {
              "frame": {
               "duration": 50,
               "redraw": true
              },
              "mode": "immediate"
             }
            ],
            "label": "36",
            "method": "animate"
           },
           {
            "args": [
             [
              "37"
             ],
             {
              "frame": {
               "duration": 50,
               "redraw": true
              },
              "mode": "immediate"
             }
            ],
            "label": "37",
            "method": "animate"
           },
           {
            "args": [
             [
              "38"
             ],
             {
              "frame": {
               "duration": 50,
               "redraw": true
              },
              "mode": "immediate"
             }
            ],
            "label": "38",
            "method": "animate"
           },
           {
            "args": [
             [
              "39"
             ],
             {
              "frame": {
               "duration": 50,
               "redraw": true
              },
              "mode": "immediate"
             }
            ],
            "label": "39",
            "method": "animate"
           },
           {
            "args": [
             [
              "40"
             ],
             {
              "frame": {
               "duration": 50,
               "redraw": true
              },
              "mode": "immediate"
             }
            ],
            "label": "40",
            "method": "animate"
           },
           {
            "args": [
             [
              "41"
             ],
             {
              "frame": {
               "duration": 50,
               "redraw": true
              },
              "mode": "immediate"
             }
            ],
            "label": "41",
            "method": "animate"
           },
           {
            "args": [
             [
              "42"
             ],
             {
              "frame": {
               "duration": 50,
               "redraw": true
              },
              "mode": "immediate"
             }
            ],
            "label": "42",
            "method": "animate"
           },
           {
            "args": [
             [
              "43"
             ],
             {
              "frame": {
               "duration": 50,
               "redraw": true
              },
              "mode": "immediate"
             }
            ],
            "label": "43",
            "method": "animate"
           },
           {
            "args": [
             [
              "44"
             ],
             {
              "frame": {
               "duration": 50,
               "redraw": true
              },
              "mode": "immediate"
             }
            ],
            "label": "44",
            "method": "animate"
           },
           {
            "args": [
             [
              "45"
             ],
             {
              "frame": {
               "duration": 50,
               "redraw": true
              },
              "mode": "immediate"
             }
            ],
            "label": "45",
            "method": "animate"
           },
           {
            "args": [
             [
              "46"
             ],
             {
              "frame": {
               "duration": 50,
               "redraw": true
              },
              "mode": "immediate"
             }
            ],
            "label": "46",
            "method": "animate"
           },
           {
            "args": [
             [
              "47"
             ],
             {
              "frame": {
               "duration": 50,
               "redraw": true
              },
              "mode": "immediate"
             }
            ],
            "label": "47",
            "method": "animate"
           },
           {
            "args": [
             [
              "48"
             ],
             {
              "frame": {
               "duration": 50,
               "redraw": true
              },
              "mode": "immediate"
             }
            ],
            "label": "48",
            "method": "animate"
           },
           {
            "args": [
             [
              "49"
             ],
             {
              "frame": {
               "duration": 50,
               "redraw": true
              },
              "mode": "immediate"
             }
            ],
            "label": "49",
            "method": "animate"
           },
           {
            "args": [
             [
              "50"
             ],
             {
              "frame": {
               "duration": 50,
               "redraw": true
              },
              "mode": "immediate"
             }
            ],
            "label": "50",
            "method": "animate"
           },
           {
            "args": [
             [
              "51"
             ],
             {
              "frame": {
               "duration": 50,
               "redraw": true
              },
              "mode": "immediate"
             }
            ],
            "label": "51",
            "method": "animate"
           },
           {
            "args": [
             [
              "52"
             ],
             {
              "frame": {
               "duration": 50,
               "redraw": true
              },
              "mode": "immediate"
             }
            ],
            "label": "52",
            "method": "animate"
           },
           {
            "args": [
             [
              "53"
             ],
             {
              "frame": {
               "duration": 50,
               "redraw": true
              },
              "mode": "immediate"
             }
            ],
            "label": "53",
            "method": "animate"
           },
           {
            "args": [
             [
              "54"
             ],
             {
              "frame": {
               "duration": 50,
               "redraw": true
              },
              "mode": "immediate"
             }
            ],
            "label": "54",
            "method": "animate"
           },
           {
            "args": [
             [
              "55"
             ],
             {
              "frame": {
               "duration": 50,
               "redraw": true
              },
              "mode": "immediate"
             }
            ],
            "label": "55",
            "method": "animate"
           },
           {
            "args": [
             [
              "56"
             ],
             {
              "frame": {
               "duration": 50,
               "redraw": true
              },
              "mode": "immediate"
             }
            ],
            "label": "56",
            "method": "animate"
           },
           {
            "args": [
             [
              "57"
             ],
             {
              "frame": {
               "duration": 50,
               "redraw": true
              },
              "mode": "immediate"
             }
            ],
            "label": "57",
            "method": "animate"
           },
           {
            "args": [
             [
              "58"
             ],
             {
              "frame": {
               "duration": 50,
               "redraw": true
              },
              "mode": "immediate"
             }
            ],
            "label": "58",
            "method": "animate"
           },
           {
            "args": [
             [
              "59"
             ],
             {
              "frame": {
               "duration": 50,
               "redraw": true
              },
              "mode": "immediate"
             }
            ],
            "label": "59",
            "method": "animate"
           },
           {
            "args": [
             [
              "60"
             ],
             {
              "frame": {
               "duration": 50,
               "redraw": true
              },
              "mode": "immediate"
             }
            ],
            "label": "60",
            "method": "animate"
           },
           {
            "args": [
             [
              "61"
             ],
             {
              "frame": {
               "duration": 50,
               "redraw": true
              },
              "mode": "immediate"
             }
            ],
            "label": "61",
            "method": "animate"
           },
           {
            "args": [
             [
              "62"
             ],
             {
              "frame": {
               "duration": 50,
               "redraw": true
              },
              "mode": "immediate"
             }
            ],
            "label": "62",
            "method": "animate"
           },
           {
            "args": [
             [
              "63"
             ],
             {
              "frame": {
               "duration": 50,
               "redraw": true
              },
              "mode": "immediate"
             }
            ],
            "label": "63",
            "method": "animate"
           },
           {
            "args": [
             [
              "64"
             ],
             {
              "frame": {
               "duration": 50,
               "redraw": true
              },
              "mode": "immediate"
             }
            ],
            "label": "64",
            "method": "animate"
           },
           {
            "args": [
             [
              "65"
             ],
             {
              "frame": {
               "duration": 50,
               "redraw": true
              },
              "mode": "immediate"
             }
            ],
            "label": "65",
            "method": "animate"
           },
           {
            "args": [
             [
              "66"
             ],
             {
              "frame": {
               "duration": 50,
               "redraw": true
              },
              "mode": "immediate"
             }
            ],
            "label": "66",
            "method": "animate"
           },
           {
            "args": [
             [
              "67"
             ],
             {
              "frame": {
               "duration": 50,
               "redraw": true
              },
              "mode": "immediate"
             }
            ],
            "label": "67",
            "method": "animate"
           },
           {
            "args": [
             [
              "68"
             ],
             {
              "frame": {
               "duration": 50,
               "redraw": true
              },
              "mode": "immediate"
             }
            ],
            "label": "68",
            "method": "animate"
           },
           {
            "args": [
             [
              "69"
             ],
             {
              "frame": {
               "duration": 50,
               "redraw": true
              },
              "mode": "immediate"
             }
            ],
            "label": "69",
            "method": "animate"
           },
           {
            "args": [
             [
              "70"
             ],
             {
              "frame": {
               "duration": 50,
               "redraw": true
              },
              "mode": "immediate"
             }
            ],
            "label": "70",
            "method": "animate"
           },
           {
            "args": [
             [
              "71"
             ],
             {
              "frame": {
               "duration": 50,
               "redraw": true
              },
              "mode": "immediate"
             }
            ],
            "label": "71",
            "method": "animate"
           },
           {
            "args": [
             [
              "72"
             ],
             {
              "frame": {
               "duration": 50,
               "redraw": true
              },
              "mode": "immediate"
             }
            ],
            "label": "72",
            "method": "animate"
           },
           {
            "args": [
             [
              "73"
             ],
             {
              "frame": {
               "duration": 50,
               "redraw": true
              },
              "mode": "immediate"
             }
            ],
            "label": "73",
            "method": "animate"
           },
           {
            "args": [
             [
              "74"
             ],
             {
              "frame": {
               "duration": 50,
               "redraw": true
              },
              "mode": "immediate"
             }
            ],
            "label": "74",
            "method": "animate"
           },
           {
            "args": [
             [
              "75"
             ],
             {
              "frame": {
               "duration": 50,
               "redraw": true
              },
              "mode": "immediate"
             }
            ],
            "label": "75",
            "method": "animate"
           },
           {
            "args": [
             [
              "76"
             ],
             {
              "frame": {
               "duration": 50,
               "redraw": true
              },
              "mode": "immediate"
             }
            ],
            "label": "76",
            "method": "animate"
           },
           {
            "args": [
             [
              "77"
             ],
             {
              "frame": {
               "duration": 50,
               "redraw": true
              },
              "mode": "immediate"
             }
            ],
            "label": "77",
            "method": "animate"
           },
           {
            "args": [
             [
              "78"
             ],
             {
              "frame": {
               "duration": 50,
               "redraw": true
              },
              "mode": "immediate"
             }
            ],
            "label": "78",
            "method": "animate"
           },
           {
            "args": [
             [
              "79"
             ],
             {
              "frame": {
               "duration": 50,
               "redraw": true
              },
              "mode": "immediate"
             }
            ],
            "label": "79",
            "method": "animate"
           },
           {
            "args": [
             [
              "80"
             ],
             {
              "frame": {
               "duration": 50,
               "redraw": true
              },
              "mode": "immediate"
             }
            ],
            "label": "80",
            "method": "animate"
           },
           {
            "args": [
             [
              "81"
             ],
             {
              "frame": {
               "duration": 50,
               "redraw": true
              },
              "mode": "immediate"
             }
            ],
            "label": "81",
            "method": "animate"
           },
           {
            "args": [
             [
              "82"
             ],
             {
              "frame": {
               "duration": 50,
               "redraw": true
              },
              "mode": "immediate"
             }
            ],
            "label": "82",
            "method": "animate"
           },
           {
            "args": [
             [
              "83"
             ],
             {
              "frame": {
               "duration": 50,
               "redraw": true
              },
              "mode": "immediate"
             }
            ],
            "label": "83",
            "method": "animate"
           },
           {
            "args": [
             [
              "84"
             ],
             {
              "frame": {
               "duration": 50,
               "redraw": true
              },
              "mode": "immediate"
             }
            ],
            "label": "84",
            "method": "animate"
           },
           {
            "args": [
             [
              "85"
             ],
             {
              "frame": {
               "duration": 50,
               "redraw": true
              },
              "mode": "immediate"
             }
            ],
            "label": "85",
            "method": "animate"
           },
           {
            "args": [
             [
              "86"
             ],
             {
              "frame": {
               "duration": 50,
               "redraw": true
              },
              "mode": "immediate"
             }
            ],
            "label": "86",
            "method": "animate"
           },
           {
            "args": [
             [
              "87"
             ],
             {
              "frame": {
               "duration": 50,
               "redraw": true
              },
              "mode": "immediate"
             }
            ],
            "label": "87",
            "method": "animate"
           },
           {
            "args": [
             [
              "88"
             ],
             {
              "frame": {
               "duration": 50,
               "redraw": true
              },
              "mode": "immediate"
             }
            ],
            "label": "88",
            "method": "animate"
           },
           {
            "args": [
             [
              "89"
             ],
             {
              "frame": {
               "duration": 50,
               "redraw": true
              },
              "mode": "immediate"
             }
            ],
            "label": "89",
            "method": "animate"
           },
           {
            "args": [
             [
              "90"
             ],
             {
              "frame": {
               "duration": 50,
               "redraw": true
              },
              "mode": "immediate"
             }
            ],
            "label": "90",
            "method": "animate"
           },
           {
            "args": [
             [
              "91"
             ],
             {
              "frame": {
               "duration": 50,
               "redraw": true
              },
              "mode": "immediate"
             }
            ],
            "label": "91",
            "method": "animate"
           },
           {
            "args": [
             [
              "92"
             ],
             {
              "frame": {
               "duration": 50,
               "redraw": true
              },
              "mode": "immediate"
             }
            ],
            "label": "92",
            "method": "animate"
           },
           {
            "args": [
             [
              "93"
             ],
             {
              "frame": {
               "duration": 50,
               "redraw": true
              },
              "mode": "immediate"
             }
            ],
            "label": "93",
            "method": "animate"
           },
           {
            "args": [
             [
              "94"
             ],
             {
              "frame": {
               "duration": 50,
               "redraw": true
              },
              "mode": "immediate"
             }
            ],
            "label": "94",
            "method": "animate"
           },
           {
            "args": [
             [
              "95"
             ],
             {
              "frame": {
               "duration": 50,
               "redraw": true
              },
              "mode": "immediate"
             }
            ],
            "label": "95",
            "method": "animate"
           },
           {
            "args": [
             [
              "96"
             ],
             {
              "frame": {
               "duration": 50,
               "redraw": true
              },
              "mode": "immediate"
             }
            ],
            "label": "96",
            "method": "animate"
           },
           {
            "args": [
             [
              "97"
             ],
             {
              "frame": {
               "duration": 50,
               "redraw": true
              },
              "mode": "immediate"
             }
            ],
            "label": "97",
            "method": "animate"
           },
           {
            "args": [
             [
              "98"
             ],
             {
              "frame": {
               "duration": 50,
               "redraw": true
              },
              "mode": "immediate"
             }
            ],
            "label": "98",
            "method": "animate"
           },
           {
            "args": [
             [
              "99"
             ],
             {
              "frame": {
               "duration": 50,
               "redraw": true
              },
              "mode": "immediate"
             }
            ],
            "label": "99",
            "method": "animate"
           }
          ],
          "transition": {
           "duration": 0
          },
          "x": 0.1,
          "y": 0
         }
        ],
        "template": {
         "data": {
          "bar": [
           {
            "error_x": {
             "color": "#2a3f5f"
            },
            "error_y": {
             "color": "#2a3f5f"
            },
            "marker": {
             "line": {
              "color": "#E5ECF6",
              "width": 0.5
             },
             "pattern": {
              "fillmode": "overlay",
              "size": 10,
              "solidity": 0.2
             }
            },
            "type": "bar"
           }
          ],
          "barpolar": [
           {
            "marker": {
             "line": {
              "color": "#E5ECF6",
              "width": 0.5
             },
             "pattern": {
              "fillmode": "overlay",
              "size": 10,
              "solidity": 0.2
             }
            },
            "type": "barpolar"
           }
          ],
          "carpet": [
           {
            "aaxis": {
             "endlinecolor": "#2a3f5f",
             "gridcolor": "white",
             "linecolor": "white",
             "minorgridcolor": "white",
             "startlinecolor": "#2a3f5f"
            },
            "baxis": {
             "endlinecolor": "#2a3f5f",
             "gridcolor": "white",
             "linecolor": "white",
             "minorgridcolor": "white",
             "startlinecolor": "#2a3f5f"
            },
            "type": "carpet"
           }
          ],
          "choropleth": [
           {
            "colorbar": {
             "outlinewidth": 0,
             "ticks": ""
            },
            "type": "choropleth"
           }
          ],
          "contour": [
           {
            "colorbar": {
             "outlinewidth": 0,
             "ticks": ""
            },
            "colorscale": [
             [
              0,
              "#0d0887"
             ],
             [
              0.1111111111111111,
              "#46039f"
             ],
             [
              0.2222222222222222,
              "#7201a8"
             ],
             [
              0.3333333333333333,
              "#9c179e"
             ],
             [
              0.4444444444444444,
              "#bd3786"
             ],
             [
              0.5555555555555556,
              "#d8576b"
             ],
             [
              0.6666666666666666,
              "#ed7953"
             ],
             [
              0.7777777777777778,
              "#fb9f3a"
             ],
             [
              0.8888888888888888,
              "#fdca26"
             ],
             [
              1,
              "#f0f921"
             ]
            ],
            "type": "contour"
           }
          ],
          "contourcarpet": [
           {
            "colorbar": {
             "outlinewidth": 0,
             "ticks": ""
            },
            "type": "contourcarpet"
           }
          ],
          "heatmap": [
           {
            "colorbar": {
             "outlinewidth": 0,
             "ticks": ""
            },
            "colorscale": [
             [
              0,
              "#0d0887"
             ],
             [
              0.1111111111111111,
              "#46039f"
             ],
             [
              0.2222222222222222,
              "#7201a8"
             ],
             [
              0.3333333333333333,
              "#9c179e"
             ],
             [
              0.4444444444444444,
              "#bd3786"
             ],
             [
              0.5555555555555556,
              "#d8576b"
             ],
             [
              0.6666666666666666,
              "#ed7953"
             ],
             [
              0.7777777777777778,
              "#fb9f3a"
             ],
             [
              0.8888888888888888,
              "#fdca26"
             ],
             [
              1,
              "#f0f921"
             ]
            ],
            "type": "heatmap"
           }
          ],
          "histogram": [
           {
            "marker": {
             "pattern": {
              "fillmode": "overlay",
              "size": 10,
              "solidity": 0.2
             }
            },
            "type": "histogram"
           }
          ],
          "histogram2d": [
           {
            "colorbar": {
             "outlinewidth": 0,
             "ticks": ""
            },
            "colorscale": [
             [
              0,
              "#0d0887"
             ],
             [
              0.1111111111111111,
              "#46039f"
             ],
             [
              0.2222222222222222,
              "#7201a8"
             ],
             [
              0.3333333333333333,
              "#9c179e"
             ],
             [
              0.4444444444444444,
              "#bd3786"
             ],
             [
              0.5555555555555556,
              "#d8576b"
             ],
             [
              0.6666666666666666,
              "#ed7953"
             ],
             [
              0.7777777777777778,
              "#fb9f3a"
             ],
             [
              0.8888888888888888,
              "#fdca26"
             ],
             [
              1,
              "#f0f921"
             ]
            ],
            "type": "histogram2d"
           }
          ],
          "histogram2dcontour": [
           {
            "colorbar": {
             "outlinewidth": 0,
             "ticks": ""
            },
            "colorscale": [
             [
              0,
              "#0d0887"
             ],
             [
              0.1111111111111111,
              "#46039f"
             ],
             [
              0.2222222222222222,
              "#7201a8"
             ],
             [
              0.3333333333333333,
              "#9c179e"
             ],
             [
              0.4444444444444444,
              "#bd3786"
             ],
             [
              0.5555555555555556,
              "#d8576b"
             ],
             [
              0.6666666666666666,
              "#ed7953"
             ],
             [
              0.7777777777777778,
              "#fb9f3a"
             ],
             [
              0.8888888888888888,
              "#fdca26"
             ],
             [
              1,
              "#f0f921"
             ]
            ],
            "type": "histogram2dcontour"
           }
          ],
          "mesh3d": [
           {
            "colorbar": {
             "outlinewidth": 0,
             "ticks": ""
            },
            "type": "mesh3d"
           }
          ],
          "parcoords": [
           {
            "line": {
             "colorbar": {
              "outlinewidth": 0,
              "ticks": ""
             }
            },
            "type": "parcoords"
           }
          ],
          "pie": [
           {
            "automargin": true,
            "type": "pie"
           }
          ],
          "scatter": [
           {
            "fillpattern": {
             "fillmode": "overlay",
             "size": 10,
             "solidity": 0.2
            },
            "type": "scatter"
           }
          ],
          "scatter3d": [
           {
            "line": {
             "colorbar": {
              "outlinewidth": 0,
              "ticks": ""
             }
            },
            "marker": {
             "colorbar": {
              "outlinewidth": 0,
              "ticks": ""
             }
            },
            "type": "scatter3d"
           }
          ],
          "scattercarpet": [
           {
            "marker": {
             "colorbar": {
              "outlinewidth": 0,
              "ticks": ""
             }
            },
            "type": "scattercarpet"
           }
          ],
          "scattergeo": [
           {
            "marker": {
             "colorbar": {
              "outlinewidth": 0,
              "ticks": ""
             }
            },
            "type": "scattergeo"
           }
          ],
          "scattergl": [
           {
            "marker": {
             "colorbar": {
              "outlinewidth": 0,
              "ticks": ""
             }
            },
            "type": "scattergl"
           }
          ],
          "scattermap": [
           {
            "marker": {
             "colorbar": {
              "outlinewidth": 0,
              "ticks": ""
             }
            },
            "type": "scattermap"
           }
          ],
          "scattermapbox": [
           {
            "marker": {
             "colorbar": {
              "outlinewidth": 0,
              "ticks": ""
             }
            },
            "type": "scattermapbox"
           }
          ],
          "scatterpolar": [
           {
            "marker": {
             "colorbar": {
              "outlinewidth": 0,
              "ticks": ""
             }
            },
            "type": "scatterpolar"
           }
          ],
          "scatterpolargl": [
           {
            "marker": {
             "colorbar": {
              "outlinewidth": 0,
              "ticks": ""
             }
            },
            "type": "scatterpolargl"
           }
          ],
          "scatterternary": [
           {
            "marker": {
             "colorbar": {
              "outlinewidth": 0,
              "ticks": ""
             }
            },
            "type": "scatterternary"
           }
          ],
          "surface": [
           {
            "colorbar": {
             "outlinewidth": 0,
             "ticks": ""
            },
            "colorscale": [
             [
              0,
              "#0d0887"
             ],
             [
              0.1111111111111111,
              "#46039f"
             ],
             [
              0.2222222222222222,
              "#7201a8"
             ],
             [
              0.3333333333333333,
              "#9c179e"
             ],
             [
              0.4444444444444444,
              "#bd3786"
             ],
             [
              0.5555555555555556,
              "#d8576b"
             ],
             [
              0.6666666666666666,
              "#ed7953"
             ],
             [
              0.7777777777777778,
              "#fb9f3a"
             ],
             [
              0.8888888888888888,
              "#fdca26"
             ],
             [
              1,
              "#f0f921"
             ]
            ],
            "type": "surface"
           }
          ],
          "table": [
           {
            "cells": {
             "fill": {
              "color": "#EBF0F8"
             },
             "line": {
              "color": "white"
             }
            },
            "header": {
             "fill": {
              "color": "#C8D4E3"
             },
             "line": {
              "color": "white"
             }
            },
            "type": "table"
           }
          ]
         },
         "layout": {
          "annotationdefaults": {
           "arrowcolor": "#2a3f5f",
           "arrowhead": 0,
           "arrowwidth": 1
          },
          "autotypenumbers": "strict",
          "coloraxis": {
           "colorbar": {
            "outlinewidth": 0,
            "ticks": ""
           }
          },
          "colorscale": {
           "diverging": [
            [
             0,
             "#8e0152"
            ],
            [
             0.1,
             "#c51b7d"
            ],
            [
             0.2,
             "#de77ae"
            ],
            [
             0.3,
             "#f1b6da"
            ],
            [
             0.4,
             "#fde0ef"
            ],
            [
             0.5,
             "#f7f7f7"
            ],
            [
             0.6,
             "#e6f5d0"
            ],
            [
             0.7,
             "#b8e186"
            ],
            [
             0.8,
             "#7fbc41"
            ],
            [
             0.9,
             "#4d9221"
            ],
            [
             1,
             "#276419"
            ]
           ],
           "sequential": [
            [
             0,
             "#0d0887"
            ],
            [
             0.1111111111111111,
             "#46039f"
            ],
            [
             0.2222222222222222,
             "#7201a8"
            ],
            [
             0.3333333333333333,
             "#9c179e"
            ],
            [
             0.4444444444444444,
             "#bd3786"
            ],
            [
             0.5555555555555556,
             "#d8576b"
            ],
            [
             0.6666666666666666,
             "#ed7953"
            ],
            [
             0.7777777777777778,
             "#fb9f3a"
            ],
            [
             0.8888888888888888,
             "#fdca26"
            ],
            [
             1,
             "#f0f921"
            ]
           ],
           "sequentialminus": [
            [
             0,
             "#0d0887"
            ],
            [
             0.1111111111111111,
             "#46039f"
            ],
            [
             0.2222222222222222,
             "#7201a8"
            ],
            [
             0.3333333333333333,
             "#9c179e"
            ],
            [
             0.4444444444444444,
             "#bd3786"
            ],
            [
             0.5555555555555556,
             "#d8576b"
            ],
            [
             0.6666666666666666,
             "#ed7953"
            ],
            [
             0.7777777777777778,
             "#fb9f3a"
            ],
            [
             0.8888888888888888,
             "#fdca26"
            ],
            [
             1,
             "#f0f921"
            ]
           ]
          },
          "colorway": [
           "#636efa",
           "#EF553B",
           "#00cc96",
           "#ab63fa",
           "#FFA15A",
           "#19d3f3",
           "#FF6692",
           "#B6E880",
           "#FF97FF",
           "#FECB52"
          ],
          "font": {
           "color": "#2a3f5f"
          },
          "geo": {
           "bgcolor": "white",
           "lakecolor": "white",
           "landcolor": "#E5ECF6",
           "showlakes": true,
           "showland": true,
           "subunitcolor": "white"
          },
          "hoverlabel": {
           "align": "left"
          },
          "hovermode": "closest",
          "mapbox": {
           "style": "light"
          },
          "paper_bgcolor": "white",
          "plot_bgcolor": "#E5ECF6",
          "polar": {
           "angularaxis": {
            "gridcolor": "white",
            "linecolor": "white",
            "ticks": ""
           },
           "bgcolor": "#E5ECF6",
           "radialaxis": {
            "gridcolor": "white",
            "linecolor": "white",
            "ticks": ""
           }
          },
          "scene": {
           "xaxis": {
            "backgroundcolor": "#E5ECF6",
            "gridcolor": "white",
            "gridwidth": 2,
            "linecolor": "white",
            "showbackground": true,
            "ticks": "",
            "zerolinecolor": "white"
           },
           "yaxis": {
            "backgroundcolor": "#E5ECF6",
            "gridcolor": "white",
            "gridwidth": 2,
            "linecolor": "white",
            "showbackground": true,
            "ticks": "",
            "zerolinecolor": "white"
           },
           "zaxis": {
            "backgroundcolor": "#E5ECF6",
            "gridcolor": "white",
            "gridwidth": 2,
            "linecolor": "white",
            "showbackground": true,
            "ticks": "",
            "zerolinecolor": "white"
           }
          },
          "shapedefaults": {
           "line": {
            "color": "#2a3f5f"
           }
          },
          "ternary": {
           "aaxis": {
            "gridcolor": "white",
            "linecolor": "white",
            "ticks": ""
           },
           "baxis": {
            "gridcolor": "white",
            "linecolor": "white",
            "ticks": ""
           },
           "bgcolor": "#E5ECF6",
           "caxis": {
            "gridcolor": "white",
            "linecolor": "white",
            "ticks": ""
           }
          },
          "title": {
           "x": 0.05
          },
          "xaxis": {
           "automargin": true,
           "gridcolor": "white",
           "linecolor": "white",
           "ticks": "",
           "title": {
            "standoff": 15
           },
           "zerolinecolor": "white",
           "zerolinewidth": 2
          },
          "yaxis": {
           "automargin": true,
           "gridcolor": "white",
           "linecolor": "white",
           "ticks": "",
           "title": {
            "standoff": 15
           },
           "zerolinecolor": "white",
           "zerolinewidth": 2
          }
         }
        },
        "title": {
         "text": "Rod Cantilever (N=51)"
        },
        "updatemenus": [
         {
          "buttons": [
           {
            "args": [
             null,
             {
              "frame": {
               "duration": 50,
               "redraw": true
              },
              "fromcurrent": true
             }
            ],
            "label": "Play",
            "method": "animate"
           },
           {
            "args": [
             [
              null
             ],
             {
              "frame": {
               "duration": 0,
               "redraw": true
              },
              "mode": "immediate"
             }
            ],
            "label": "Pause",
            "method": "animate"
           }
          ],
          "direction": "left",
          "pad": {
           "r": 10,
           "t": 87
          },
          "showactive": false,
          "type": "buttons",
          "x": 0.1,
          "xanchor": "right",
          "y": 0,
          "yanchor": "top"
         }
        ]
       }
      }
     },
     "metadata": {},
     "output_type": "display_data"
    }
   ],
   "source": [
    "t = np.arange(robot.sim_params.total_time, step=robot.sim_params.dt)\n",
    "options = dismech.AnimationOptions(title='Rod Cantilever (N=51)')\n",
    "\n",
    "fig = dismech.get_interactive_animation_plotly(robot, t, qs, options)\n",
    "fig.show()"
   ]
  },
  {
   "cell_type": "code",
   "execution_count": 40,
   "metadata": {},
   "outputs": [
    {
     "name": "stderr",
     "output_type": "stream",
     "text": [
      "MovieWriter ffmpeg unavailable; using Pillow instead.\n"
     ]
    },
    {
     "data": {
      "image/png": "[encoded data removed]",
      "text/plain": [
       "<Figure size 640x480 with 1 Axes>"
      ]
     },
     "metadata": {},
     "output_type": "display_data"
    }
   ],
   "source": [
    "ani = dismech.get_animation(robot, t, qs, options)\n",
    "ani.save('contact.gif')"
   ]
  }
 ],
 "metadata": {
  "kernelspec": {
   "display_name": ".venv",
   "language": "python",
   "name": "python3"
  },
  "language_info": {
   "codemirror_mode": {
    "name": "ipython",
    "version": 3
   },
   "file_extension": ".py",
   "mimetype": "text/x-python",
   "name": "python",
   "nbconvert_exporter": "python",
   "pygments_lexer": "ipython3",
   "version": "3.12.1"
  }
 },
 "nbformat": 4,
 "nbformat_minor": 2
}
