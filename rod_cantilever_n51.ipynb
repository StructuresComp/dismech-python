{
 "cells": [
  {
   "cell_type": "markdown",
   "metadata": {},
   "source": [
    "## Rod Cantilever Example"
   ]
  },
  {
   "cell_type": "code",
   "execution_count": 10,
   "metadata": {},
   "outputs": [],
   "source": [
    "import numpy as np\n",
    "\n",
    "import dismech\n",
    "\n",
    "b = 0.02\n",
    "h = 0.001\n",
    "\n",
    "geom = dismech.GeomParams(rod_r0=0.001,\n",
    "                          shell_h=0,\n",
    "                          axs=b*h,\n",
    "                          ixs1=b*h**3/12,\n",
    "                          ixs2=h*b**3/12,\n",
    "                          jxs=b*h**3/6)\n",
    "\n",
    "material = dismech.Material(density=1200,\n",
    "                            youngs_rod=2e6,\n",
    "                            youngs_shell=0,\n",
    "                            poisson_rod=0.5,\n",
    "                            poisson_shell=0)\n",
    "\n",
    "static_2d_sim = dismech.SimParams(static_sim=False,\n",
    "                                  two_d_sim=True,   # no twisting\n",
    "                                  use_mid_edge=False,\n",
    "                                  use_line_search=False,\n",
    "                                  show_floor=False,\n",
    "                                  log_data=True,\n",
    "                                  log_step=1,\n",
    "                                  dt=1e-2,\n",
    "                                  max_iter=25,\n",
    "                                  total_time=1.0,\n",
    "                                  plot_step=1,\n",
    "                                  tol=1e-4,\n",
    "                                  ftol=1e-4,\n",
    "                                  dtol=1e-2)\n",
    "\n",
    "env = dismech.Environment()\n",
    "#env.add_force('gravity', g=np.array([0.0, 0.0, -9.81]))\n",
    "env.add_force('selfContact', delta=5e-4, h=2e-3)\n",
    "#env.set_static()   \n",
    "\n",
    "geo = dismech.Geometry.from_txt('input4.txt')\n",
    "\n",
    "robot = dismech.SoftRobot(geom, material, geo, static_2d_sim, env)\n",
    "\n",
    "u = robot.state.u\n",
    "u[8] = -0.1\n",
    "u[11] = -0.1"
   ]
  },
  {
   "cell_type": "markdown",
   "metadata": {},
   "source": [
    "### Time Stepping\n",
    "\n",
    "As we are performing a static simulation, we must change gravity for each time step."
   ]
  },
  {
   "cell_type": "code",
   "execution_count": 11,
   "metadata": {},
   "outputs": [
    {
     "name": "stdout",
     "output_type": "stream",
     "text": [
      "0.0005 0.002 30000.0\n"
     ]
    }
   ],
   "source": [
    "stepper = dismech.ImplicitEulerTimeStepper(robot)\n",
    "\n",
    "robots = stepper.simulate()\n",
    "\n",
    "qs = np.stack([robot.state.q for robot in robots])"
   ]
  },
  {
   "cell_type": "code",
   "execution_count": 12,
   "metadata": {},
   "outputs": [
    {
     "data": {
      "application/vnd.plotly.v1+json": {
       "config": {
        "plotlyServerURL": "https://plot.ly"
       },
       "data": [
        {
         "marker": {
          "color": "#1f78b4",
          "size": 5
         },
         "mode": "markers",
         "name": "Free Nodes",
         "type": "scatter3d",
         "x": {
          "bdata": "AAAAAAAAAAAAAAAAAAAAAAAAAAAAAAAAAAAAAAAAAAA=",
          "dtype": "f8"
         },
         "y": {
          "bdata": "AAAAAAAAAAAAAAAAAAAAAAAAAAAAAAAAAAAAAAAAAAA=",
          "dtype": "f8"
         },
         "z": {
          "bdata": "AAAAAAAAAACamZmZmZmpv0oMAiuHFqk/8tJNYhBYuT8=",
          "dtype": "f8"
         }
        },
        {
         "marker": {
          "color": "#e31a1c",
          "size": 5
         },
         "mode": "markers",
         "name": "Fixed Nodes",
         "type": "scatter3d",
         "x": [],
         "y": [],
         "z": []
        },
        {
         "line": {
          "color": "#333333",
          "width": 2
         },
         "mode": "lines",
         "name": "Edges",
         "type": "scatter3d",
         "x": [
          0,
          0,
          null,
          0,
          0,
          null
         ],
         "y": [
          0,
          0,
          null,
          0,
          0,
          null
         ],
         "z": [
          0,
          -0.05,
          null,
          0.049,
          0.099,
          null
         ]
        },
        {
         "color": "rgba(166, 206, 227, 0.7)",
         "i": [],
         "j": [],
         "k": [],
         "name": "Faces",
         "opacity": 0.7,
         "showscale": false,
         "type": "mesh3d",
         "x": {
          "bdata": "AAAAAAAAAAAAAAAAAAAAAAAAAAAAAAAAAAAAAAAAAAA=",
          "dtype": "f8"
         },
         "y": {
          "bdata": "AAAAAAAAAAAAAAAAAAAAAAAAAAAAAAAAAAAAAAAAAAA=",
          "dtype": "f8"
         },
         "z": {
          "bdata": "AAAAAAAAAACamZmZmZmpv0oMAiuHFqk/8tJNYhBYuT8=",
          "dtype": "f8"
         }
        }
       ],
       "frames": [
        {
         "data": [
          {
           "name": "Free Nodes",
           "type": "scatter3d",
           "x": {
            "bdata": "AAAAAAAAAAAAAAAAAAAAAAAAAAAAAAAAAAAAAAAAAAA=",
            "dtype": "f8"
           },
           "y": {
            "bdata": "AAAAAAAAAAAAAAAAAAAAAAAAAAAAAAAAAAAAAAAAAAA=",
            "dtype": "f8"
           },
           "z": {
            "bdata": "AAAAAAAAAACamZmZmZmpv0oMAiuHFqk/8tJNYhBYuT8=",
            "dtype": "f8"
           }
          },
          {
           "name": "Fixed Nodes",
           "type": "scatter3d",
           "x": [],
           "y": [],
           "z": []
          },
          {
           "name": "Edges",
           "type": "scatter3d",
           "x": [
            0,
            0,
            null,
            0,
            0,
            null
           ],
           "y": [
            0,
            0,
            null,
            0,
            0,
            null
           ],
           "z": [
            0,
            -0.05,
            null,
            0.049,
            0.099,
            null
           ]
          },
          {
           "i": [],
           "j": [],
           "k": [],
           "name": "Faces",
           "type": "mesh3d",
           "x": {
            "bdata": "AAAAAAAAAAAAAAAAAAAAAAAAAAAAAAAAAAAAAAAAAAA=",
            "dtype": "f8"
           },
           "y": {
            "bdata": "AAAAAAAAAAAAAAAAAAAAAAAAAAAAAAAAAAAAAAAAAAA=",
            "dtype": "f8"
           },
           "z": {
            "bdata": "AAAAAAAAAACamZmZmZmpv0oMAiuHFqk/8tJNYhBYuT8=",
            "dtype": "f8"
           }
          }
         ],
         "layout": {
          "annotations": [
           {
            "showarrow": false,
            "text": "Time: 0.00s (Step: 1/100)",
            "x": 0.05,
            "xref": "paper",
            "y": 0.95,
            "yref": "paper"
           }
          ]
         },
         "name": "0"
        },
        {
         "data": [
          {
           "name": "Free Nodes",
           "type": "scatter3d",
           "x": {
            "bdata": "AAAAAAAAAAAAAAAAAAAAAAAAAAAAAAAAAAAAAAAAAAA=",
            "dtype": "f8"
           },
           "y": {
            "bdata": "AAAAAAAAAAAAAAAAAAAAAAAAAAAAAAAAAAAAAAAAAAA=",
            "dtype": "f8"
           },
           "z": {
            "bdata": "AAAAAAAAAACamZmZmZmpv/l+arx0k6g/SgwCK4cWuT8=",
            "dtype": "f8"
           }
          },
          {
           "name": "Fixed Nodes",
           "type": "scatter3d",
           "x": [],
           "y": [],
           "z": []
          },
          {
           "name": "Edges",
           "type": "scatter3d",
           "x": [
            0,
            0,
            null,
            0,
            0,
            null
           ],
           "y": [
            0,
            0,
            null,
            0,
            0,
            null
           ],
           "z": [
            0,
            -0.05,
            null,
            0.047999999999999994,
            0.098,
            null
           ]
          },
          {
           "i": [],
           "j": [],
           "k": [],
           "name": "Faces",
           "type": "mesh3d",
           "x": {
            "bdata": "AAAAAAAAAAAAAAAAAAAAAAAAAAAAAAAAAAAAAAAAAAA=",
            "dtype": "f8"
           },
           "y": {
            "bdata": "AAAAAAAAAAAAAAAAAAAAAAAAAAAAAAAAAAAAAAAAAAA=",
            "dtype": "f8"
           },
           "z": {
            "bdata": "AAAAAAAAAACamZmZmZmpv/l+arx0k6g/SgwCK4cWuT8=",
            "dtype": "f8"
           }
          }
         ],
         "layout": {
          "annotations": [
           {
            "showarrow": false,
            "text": "Time: 0.01s (Step: 2/100)",
            "x": 0.05,
            "xref": "paper",
            "y": 0.95,
            "yref": "paper"
           }
          ]
         },
         "name": "1"
        },
        {
         "data": [
          {
           "name": "Free Nodes",
           "type": "scatter3d",
           "x": {
            "bdata": "AAAAAAAAAAAAAAAAAAAAAAAAAAAAAAAAAAAAAAAAAAA=",
            "dtype": "f8"
           },
           "y": {
            "bdata": "AAAAAAAAAAAAAAAAAAAAAAAAAAAAAAAAAAAAAAAAAAA=",
            "dtype": "f8"
           },
           "z": {
            "bdata": "AAAAAAAAAACamZmZmZmpv6nx0k1iEKg/oUW28/3UuD8=",
            "dtype": "f8"
           }
          },
          {
           "name": "Fixed Nodes",
           "type": "scatter3d",
           "x": [],
           "y": [],
           "z": []
          },
          {
           "name": "Edges",
           "type": "scatter3d",
           "x": [
            0,
            0,
            null,
            0,
            0,
            null
           ],
           "y": [
            0,
            0,
            null,
            0,
            0,
            null
           ],
           "z": [
            0,
            -0.05,
            null,
            0.04699999999999999,
            0.09699999999999999,
            null
           ]
          },
          {
           "i": [],
           "j": [],
           "k": [],
           "name": "Faces",
           "type": "mesh3d",
           "x": {
            "bdata": "AAAAAAAAAAAAAAAAAAAAAAAAAAAAAAAAAAAAAAAAAAA=",
            "dtype": "f8"
           },
           "y": {
            "bdata": "AAAAAAAAAAAAAAAAAAAAAAAAAAAAAAAAAAAAAAAAAAA=",
            "dtype": "f8"
           },
           "z": {
            "bdata": "AAAAAAAAAACamZmZmZmpv6nx0k1iEKg/oUW28/3UuD8=",
            "dtype": "f8"
           }
          }
         ],
         "layout": {
          "annotations": [
           {
            "showarrow": false,
            "text": "Time: 0.02s (Step: 3/100)",
            "x": 0.05,
            "xref": "paper",
            "y": 0.95,
            "yref": "paper"
           }
          ]
         },
         "name": "2"
        },
        {
         "data": [
          {
           "name": "Free Nodes",
           "type": "scatter3d",
           "x": {
            "bdata": "AAAAAAAAAAAAAAAAAAAAAAAAAAAAAAAAAAAAAAAAAAA=",
            "dtype": "f8"
           },
           "y": {
            "bdata": "AAAAAAAAAAAAAAAAAAAAAAAAAAAAAAAAAAAAAAAAAAA=",
            "dtype": "f8"
           },
           "z": {
            "bdata": "AAAAAAAAAACamZmZmZmpv1dkO99Pjac/+H5qvHSTuD8=",
            "dtype": "f8"
           }
          },
          {
           "name": "Fixed Nodes",
           "type": "scatter3d",
           "x": [],
           "y": [],
           "z": []
          },
          {
           "name": "Edges",
           "type": "scatter3d",
           "x": [
            0,
            0,
            null,
            0,
            0,
            null
           ],
           "y": [
            0,
            0,
            null,
            0,
            0,
            null
           ],
           "z": [
            0,
            -0.05,
            null,
            0.04599999999999998,
            0.09599999999999997,
            null
           ]
          },
          {
           "i": [],
           "j": [],
           "k": [],
           "name": "Faces",
           "type": "mesh3d",
           "x": {
            "bdata": "AAAAAAAAAAAAAAAAAAAAAAAAAAAAAAAAAAAAAAAAAAA=",
            "dtype": "f8"
           },
           "y": {
            "bdata": "AAAAAAAAAAAAAAAAAAAAAAAAAAAAAAAAAAAAAAAAAAA=",
            "dtype": "f8"
           },
           "z": {
            "bdata": "AAAAAAAAAACamZmZmZmpv1dkO99Pjac/+H5qvHSTuD8=",
            "dtype": "f8"
           }
          }
         ],
         "layout": {
          "annotations": [
           {
            "showarrow": false,
            "text": "Time: 0.03s (Step: 4/100)",
            "x": 0.05,
            "xref": "paper",
            "y": 0.95,
            "yref": "paper"
           }
          ]
         },
         "name": "3"
        },
        {
         "data": [
          {
           "name": "Free Nodes",
           "type": "scatter3d",
           "x": {
            "bdata": "AAAAAAAAAAAAAAAAAAAAAAAAAAAAAAAAAAAAAAAAAAA=",
            "dtype": "f8"
           },
           "y": {
            "bdata": "AAAAAAAAAAAAAAAAAAAAAAAAAAAAAAAAAAAAAAAAAAA=",
            "dtype": "f8"
           },
           "z": {
            "bdata": "AAAAAAAAAACamZmZmZmpvwTXo3A9Cqc/T7gehetRuD8=",
            "dtype": "f8"
           }
          },
          {
           "name": "Fixed Nodes",
           "type": "scatter3d",
           "x": [],
           "y": [],
           "z": []
          },
          {
           "name": "Edges",
           "type": "scatter3d",
           "x": [
            0,
            0,
            null,
            0,
            0,
            null
           ],
           "y": [
            0,
            0,
            null,
            0,
            0,
            null
           ],
           "z": [
            0,
            -0.05,
            null,
            0.04499999999999996,
            0.09499999999999996,
            null
           ]
          },
          {
           "i": [],
           "j": [],
           "k": [],
           "name": "Faces",
           "type": "mesh3d",
           "x": {
            "bdata": "AAAAAAAAAAAAAAAAAAAAAAAAAAAAAAAAAAAAAAAAAAA=",
            "dtype": "f8"
           },
           "y": {
            "bdata": "AAAAAAAAAAAAAAAAAAAAAAAAAAAAAAAAAAAAAAAAAAA=",
            "dtype": "f8"
           },
           "z": {
            "bdata": "AAAAAAAAAACamZmZmZmpvwTXo3A9Cqc/T7gehetRuD8=",
            "dtype": "f8"
           }
          }
         ],
         "layout": {
          "annotations": [
           {
            "showarrow": false,
            "text": "Time: 0.04s (Step: 5/100)",
            "x": 0.05,
            "xref": "paper",
            "y": 0.95,
            "yref": "paper"
           }
          ]
         },
         "name": "4"
        },
        {
         "data": [
          {
           "name": "Free Nodes",
           "type": "scatter3d",
           "x": {
            "bdata": "AAAAAAAAAAAAAAAAAAAAAAAAAAAAAAAAAAAAAAAAAAA=",
            "dtype": "f8"
           },
           "y": {
            "bdata": "AAAAAAAAAAAAAAAAAAAAAAAAAAAAAAAAAAAAAAAAAAA=",
            "dtype": "f8"
           },
           "z": {
            "bdata": "AAAAAAAAAACamZmZmZmpv7FJDAIrh6Y/pfHSTWIQuD8=",
            "dtype": "f8"
           }
          },
          {
           "name": "Fixed Nodes",
           "type": "scatter3d",
           "x": [],
           "y": [],
           "z": []
          },
          {
           "name": "Edges",
           "type": "scatter3d",
           "x": [
            0,
            0,
            null,
            0,
            0,
            null
           ],
           "y": [
            0,
            0,
            null,
            0,
            0,
            null
           ],
           "z": [
            0,
            -0.05,
            null,
            0.043999999999999935,
            0.09399999999999993,
            null
           ]
          },
          {
           "i": [],
           "j": [],
           "k": [],
           "name": "Faces",
           "type": "mesh3d",
           "x": {
            "bdata": "AAAAAAAAAAAAAAAAAAAAAAAAAAAAAAAAAAAAAAAAAAA=",
            "dtype": "f8"
           },
           "y": {
            "bdata": "AAAAAAAAAAAAAAAAAAAAAAAAAAAAAAAAAAAAAAAAAAA=",
            "dtype": "f8"
           },
           "z": {
            "bdata": "AAAAAAAAAACamZmZmZmpv7FJDAIrh6Y/pfHSTWIQuD8=",
            "dtype": "f8"
           }
          }
         ],
         "layout": {
          "annotations": [
           {
            "showarrow": false,
            "text": "Time: 0.05s (Step: 6/100)",
            "x": 0.05,
            "xref": "paper",
            "y": 0.95,
            "yref": "paper"
           }
          ]
         },
         "name": "5"
        },
        {
         "data": [
          {
           "name": "Free Nodes",
           "type": "scatter3d",
           "x": {
            "bdata": "AAAAAAAAAAAAAAAAAAAAAAAAAAAAAAAAAAAAAAAAAAA=",
            "dtype": "f8"
           },
           "y": {
            "bdata": "AAAAAAAAAAAAAAAAAAAAAAAAAAAAAAAAAAAAAAAAAAA=",
            "dtype": "f8"
           },
           "z": {
            "bdata": "AAAAAAAAAACamZmZmZmpv128dJMYBKY/+yqHFtnOtz8=",
            "dtype": "f8"
           }
          },
          {
           "name": "Fixed Nodes",
           "type": "scatter3d",
           "x": [],
           "y": [],
           "z": []
          },
          {
           "name": "Edges",
           "type": "scatter3d",
           "x": [
            0,
            0,
            null,
            0,
            0,
            null
           ],
           "y": [
            0,
            0,
            null,
            0,
            0,
            null
           ],
           "z": [
            0,
            -0.05,
            null,
            0.042999999999999906,
            0.0929999999999999,
            null
           ]
          },
          {
           "i": [],
           "j": [],
           "k": [],
           "name": "Faces",
           "type": "mesh3d",
           "x": {
            "bdata": "AAAAAAAAAAAAAAAAAAAAAAAAAAAAAAAAAAAAAAAAAAA=",
            "dtype": "f8"
           },
           "y": {
            "bdata": "AAAAAAAAAAAAAAAAAAAAAAAAAAAAAAAAAAAAAAAAAAA=",
            "dtype": "f8"
           },
           "z": {
            "bdata": "AAAAAAAAAACamZmZmZmpv128dJMYBKY/+yqHFtnOtz8=",
            "dtype": "f8"
           }
          }
         ],
         "layout": {
          "annotations": [
           {
            "showarrow": false,
            "text": "Time: 0.06s (Step: 7/100)",
            "x": 0.05,
            "xref": "paper",
            "y": 0.95,
            "yref": "paper"
           }
          ]
         },
         "name": "6"
        },
        {
         "data": [
          {
           "name": "Free Nodes",
           "type": "scatter3d",
           "x": {
            "bdata": "AAAAAAAAAAAAAAAAAAAAAAAAAAAAAAAAAAAAAAAAAAA=",
            "dtype": "f8"
           },
           "y": {
            "bdata": "AAAAAAAAAAAAAAAAAAAAAAAAAAAAAAAAAAAAAAAAAAA=",
            "dtype": "f8"
           },
           "z": {
            "bdata": "AAAAAAAAAACamZmZmZmpvwgv3SQGgaU/UWQ730+Ntz8=",
            "dtype": "f8"
           }
          },
          {
           "name": "Fixed Nodes",
           "type": "scatter3d",
           "x": [],
           "y": [],
           "z": []
          },
          {
           "name": "Edges",
           "type": "scatter3d",
           "x": [
            0,
            0,
            null,
            0,
            0,
            null
           ],
           "y": [
            0,
            0,
            null,
            0,
            0,
            null
           ],
           "z": [
            0,
            -0.05,
            null,
            0.04199999999999987,
            0.09199999999999987,
            null
           ]
          },
          {
           "i": [],
           "j": [],
           "k": [],
           "name": "Faces",
           "type": "mesh3d",
           "x": {
            "bdata": "AAAAAAAAAAAAAAAAAAAAAAAAAAAAAAAAAAAAAAAAAAA=",
            "dtype": "f8"
           },
           "y": {
            "bdata": "AAAAAAAAAAAAAAAAAAAAAAAAAAAAAAAAAAAAAAAAAAA=",
            "dtype": "f8"
           },
           "z": {
            "bdata": "AAAAAAAAAACamZmZmZmpvwgv3SQGgaU/UWQ730+Ntz8=",
            "dtype": "f8"
           }
          }
         ],
         "layout": {
          "annotations": [
           {
            "showarrow": false,
            "text": "Time: 0.07s (Step: 8/100)",
            "x": 0.05,
            "xref": "paper",
            "y": 0.95,
            "yref": "paper"
           }
          ]
         },
         "name": "7"
        },
        {
         "data": [
          {
           "name": "Free Nodes",
           "type": "scatter3d",
           "x": {
            "bdata": "AAAAAAAAAAAAAAAAAAAAAAAAAAAAAAAAAAAAAAAAAAA=",
            "dtype": "f8"
           },
           "y": {
            "bdata": "AAAAAAAAAAAAAAAAAAAAAAAAAAAAAAAAAAAAAAAAAAA=",
            "dtype": "f8"
           },
           "z": {
            "bdata": "AAAAAAAAAACamZmZmZmpv7OhRbbz/aQ/pp3vp8ZLtz8=",
            "dtype": "f8"
           }
          },
          {
           "name": "Fixed Nodes",
           "type": "scatter3d",
           "x": [],
           "y": [],
           "z": []
          },
          {
           "name": "Edges",
           "type": "scatter3d",
           "x": [
            0,
            0,
            null,
            0,
            0,
            null
           ],
           "y": [
            0,
            0,
            null,
            0,
            0,
            null
           ],
           "z": [
            0,
            -0.05,
            null,
            0.040999999999999835,
            0.09099999999999983,
            null
           ]
          },
          {
           "i": [],
           "j": [],
           "k": [],
           "name": "Faces",
           "type": "mesh3d",
           "x": {
            "bdata": "AAAAAAAAAAAAAAAAAAAAAAAAAAAAAAAAAAAAAAAAAAA=",
            "dtype": "f8"
           },
           "y": {
            "bdata": "AAAAAAAAAAAAAAAAAAAAAAAAAAAAAAAAAAAAAAAAAAA=",
            "dtype": "f8"
           },
           "z": {
            "bdata": "AAAAAAAAAACamZmZmZmpv7OhRbbz/aQ/pp3vp8ZLtz8=",
            "dtype": "f8"
           }
          }
         ],
         "layout": {
          "annotations": [
           {
            "showarrow": false,
            "text": "Time: 0.08s (Step: 9/100)",
            "x": 0.05,
            "xref": "paper",
            "y": 0.95,
            "yref": "paper"
           }
          ]
         },
         "name": "8"
        },
        {
         "data": [
          {
           "name": "Free Nodes",
           "type": "scatter3d",
           "x": {
            "bdata": "AAAAAAAAAAAAAAAAAAAAAAAAAAAAAAAAAAAAAAAAAAA=",
            "dtype": "f8"
           },
           "y": {
            "bdata": "AAAAAAAAAAAAAAAAAAAAAAAAAAAAAAAAAAAAAAAAAAA=",
            "dtype": "f8"
           },
           "z": {
            "bdata": "AAAAAAAAAACamZmZmZmpv10UrkfheqQ/+9ajcD0Ktz8=",
            "dtype": "f8"
           }
          },
          {
           "name": "Fixed Nodes",
           "type": "scatter3d",
           "x": [],
           "y": [],
           "z": []
          },
          {
           "name": "Edges",
           "type": "scatter3d",
           "x": [
            0,
            0,
            null,
            0,
            0,
            null
           ],
           "y": [
            0,
            0,
            null,
            0,
            0,
            null
           ],
           "z": [
            0,
            -0.05,
            null,
            0.03999999999999979,
            0.08999999999999979,
            null
           ]
          },
          {
           "i": [],
           "j": [],
           "k": [],
           "name": "Faces",
           "type": "mesh3d",
           "x": {
            "bdata": "AAAAAAAAAAAAAAAAAAAAAAAAAAAAAAAAAAAAAAAAAAA=",
            "dtype": "f8"
           },
           "y": {
            "bdata": "AAAAAAAAAAAAAAAAAAAAAAAAAAAAAAAAAAAAAAAAAAA=",
            "dtype": "f8"
           },
           "z": {
            "bdata": "AAAAAAAAAACamZmZmZmpv10UrkfheqQ/+9ajcD0Ktz8=",
            "dtype": "f8"
           }
          }
         ],
         "layout": {
          "annotations": [
           {
            "showarrow": false,
            "text": "Time: 0.09s (Step: 10/100)",
            "x": 0.05,
            "xref": "paper",
            "y": 0.95,
            "yref": "paper"
           }
          ]
         },
         "name": "9"
        },
        {
         "data": [
          {
           "name": "Free Nodes",
           "type": "scatter3d",
           "x": {
            "bdata": "AAAAAAAAAAAAAAAAAAAAAAAAAAAAAAAAAAAAAAAAAAA=",
            "dtype": "f8"
           },
           "y": {
            "bdata": "AAAAAAAAAAAAAAAAAAAAAAAAAAAAAAAAAAAAAAAAAAA=",
            "dtype": "f8"
           },
           "z": {
            "bdata": "AAAAAAAAAACamZmZmZmpvwaHFtnO96M/UBBYObTItj8=",
            "dtype": "f8"
           }
          },
          {
           "name": "Fixed Nodes",
           "type": "scatter3d",
           "x": [],
           "y": [],
           "z": []
          },
          {
           "name": "Edges",
           "type": "scatter3d",
           "x": [
            0,
            0,
            null,
            0,
            0,
            null
           ],
           "y": [
            0,
            0,
            null,
            0,
            0,
            null
           ],
           "z": [
            0,
            -0.05,
            null,
            0.03899999999999974,
            0.08899999999999975,
            null
           ]
          },
          {
           "i": [],
           "j": [],
           "k": [],
           "name": "Faces",
           "type": "mesh3d",
           "x": {
            "bdata": "AAAAAAAAAAAAAAAAAAAAAAAAAAAAAAAAAAAAAAAAAAA=",
            "dtype": "f8"
           },
           "y": {
            "bdata": "AAAAAAAAAAAAAAAAAAAAAAAAAAAAAAAAAAAAAAAAAAA=",
            "dtype": "f8"
           },
           "z": {
            "bdata": "AAAAAAAAAACamZmZmZmpvwaHFtnO96M/UBBYObTItj8=",
            "dtype": "f8"
           }
          }
         ],
         "layout": {
          "annotations": [
           {
            "showarrow": false,
            "text": "Time: 0.10s (Step: 11/100)",
            "x": 0.05,
            "xref": "paper",
            "y": 0.95,
            "yref": "paper"
           }
          ]
         },
         "name": "10"
        },
        {
         "data": [
          {
           "name": "Free Nodes",
           "type": "scatter3d",
           "x": {
            "bdata": "AAAAAAAAAAAAAAAAAAAAAAAAAAAAAAAAAAAAAAAAAAA=",
            "dtype": "f8"
           },
           "y": {
            "bdata": "AAAAAAAAAAAAAAAAAAAAAAAAAAAAAAAAAAAAAAAAAAA=",
            "dtype": "f8"
           },
           "z": {
            "bdata": "AAAAAAAAAACamZmZmZmpv6/5fmq8dKM/pEkMAiuHtj8=",
            "dtype": "f8"
           }
          },
          {
           "name": "Fixed Nodes",
           "type": "scatter3d",
           "x": [],
           "y": [],
           "z": []
          },
          {
           "name": "Edges",
           "type": "scatter3d",
           "x": [
            0,
            0,
            null,
            0,
            0,
            null
           ],
           "y": [
            0,
            0,
            null,
            0,
            0,
            null
           ],
           "z": [
            0,
            -0.05,
            null,
            0.037999999999999694,
            0.08799999999999969,
            null
           ]
          },
          {
           "i": [],
           "j": [],
           "k": [],
           "name": "Faces",
           "type": "mesh3d",
           "x": {
            "bdata": "AAAAAAAAAAAAAAAAAAAAAAAAAAAAAAAAAAAAAAAAAAA=",
            "dtype": "f8"
           },
           "y": {
            "bdata": "AAAAAAAAAAAAAAAAAAAAAAAAAAAAAAAAAAAAAAAAAAA=",
            "dtype": "f8"
           },
           "z": {
            "bdata": "AAAAAAAAAACamZmZmZmpv6/5fmq8dKM/pEkMAiuHtj8=",
            "dtype": "f8"
           }
          }
         ],
         "layout": {
          "annotations": [
           {
            "showarrow": false,
            "text": "Time: 0.11s (Step: 12/100)",
            "x": 0.05,
            "xref": "paper",
            "y": 0.95,
            "yref": "paper"
           }
          ]
         },
         "name": "11"
        },
        {
         "data": [
          {
           "name": "Free Nodes",
           "type": "scatter3d",
           "x": {
            "bdata": "AAAAAAAAAAAAAAAAAAAAAAAAAAAAAAAAAAAAAAAAAAA=",
            "dtype": "f8"
           },
           "y": {
            "bdata": "AAAAAAAAAAAAAAAAAAAAAAAAAAAAAAAAAAAAAAAAAAA=",
            "dtype": "f8"
           },
           "z": {
            "bdata": "AAAAAAAAAACamZmZmZmpv1ds5/up8aI/+ILAyqFFtj8=",
            "dtype": "f8"
           }
          },
          {
           "name": "Fixed Nodes",
           "type": "scatter3d",
           "x": [],
           "y": [],
           "z": []
          },
          {
           "name": "Edges",
           "type": "scatter3d",
           "x": [
            0,
            0,
            null,
            0,
            0,
            null
           ],
           "y": [
            0,
            0,
            null,
            0,
            0,
            null
           ],
           "z": [
            0,
            -0.05,
            null,
            0.03699999999999964,
            0.08699999999999963,
            null
           ]
          },
          {
           "i": [],
           "j": [],
           "k": [],
           "name": "Faces",
           "type": "mesh3d",
           "x": {
            "bdata": "AAAAAAAAAAAAAAAAAAAAAAAAAAAAAAAAAAAAAAAAAAA=",
            "dtype": "f8"
           },
           "y": {
            "bdata": "AAAAAAAAAAAAAAAAAAAAAAAAAAAAAAAAAAAAAAAAAAA=",
            "dtype": "f8"
           },
           "z": {
            "bdata": "AAAAAAAAAACamZmZmZmpv1ds5/up8aI/+ILAyqFFtj8=",
            "dtype": "f8"
           }
          }
         ],
         "layout": {
          "annotations": [
           {
            "showarrow": false,
            "text": "Time: 0.12s (Step: 13/100)",
            "x": 0.05,
            "xref": "paper",
            "y": 0.95,
            "yref": "paper"
           }
          ]
         },
         "name": "12"
        },
        {
         "data": [
          {
           "name": "Free Nodes",
           "type": "scatter3d",
           "x": {
            "bdata": "AAAAAAAAAAAAAAAAAAAAAAAAAAAAAAAAAAAAAAAAAAA=",
            "dtype": "f8"
           },
           "y": {
            "bdata": "AAAAAAAAAAAAAAAAAAAAAAAAAAAAAAAAAAAAAAAAAAA=",
            "dtype": "f8"
           },
           "z": {
            "bdata": "AAAAAAAAAACamZmZmZmpv/7eT42XbqI/TLx0kxgEtj8=",
            "dtype": "f8"
           }
          },
          {
           "name": "Fixed Nodes",
           "type": "scatter3d",
           "x": [],
           "y": [],
           "z": []
          },
          {
           "name": "Edges",
           "type": "scatter3d",
           "x": [
            0,
            0,
            null,
            0,
            0,
            null
           ],
           "y": [
            0,
            0,
            null,
            0,
            0,
            null
           ],
           "z": [
            0,
            -0.05,
            null,
            0.035999999999999574,
            0.08599999999999958,
            null
           ]
          },
          {
           "i": [],
           "j": [],
           "k": [],
           "name": "Faces",
           "type": "mesh3d",
           "x": {
            "bdata": "AAAAAAAAAAAAAAAAAAAAAAAAAAAAAAAAAAAAAAAAAAA=",
            "dtype": "f8"
           },
           "y": {
            "bdata": "AAAAAAAAAAAAAAAAAAAAAAAAAAAAAAAAAAAAAAAAAAA=",
            "dtype": "f8"
           },
           "z": {
            "bdata": "AAAAAAAAAACamZmZmZmpv/7eT42XbqI/TLx0kxgEtj8=",
            "dtype": "f8"
           }
          }
         ],
         "layout": {
          "annotations": [
           {
            "showarrow": false,
            "text": "Time: 0.13s (Step: 14/100)",
            "x": 0.05,
            "xref": "paper",
            "y": 0.95,
            "yref": "paper"
           }
          ]
         },
         "name": "13"
        },
        {
         "data": [
          {
           "name": "Free Nodes",
           "type": "scatter3d",
           "x": {
            "bdata": "AAAAAAAAAAAAAAAAAAAAAAAAAAAAAAAAAAAAAAAAAAA=",
            "dtype": "f8"
           },
           "y": {
            "bdata": "AAAAAAAAAAAAAAAAAAAAAAAAAAAAAAAAAAAAAAAAAAA=",
            "dtype": "f8"
           },
           "z": {
            "bdata": "AAAAAAAAAACamZmZmZmpv6VRuB6F66E/n/UoXI/CtT8=",
            "dtype": "f8"
           }
          },
          {
           "name": "Fixed Nodes",
           "type": "scatter3d",
           "x": [],
           "y": [],
           "z": []
          },
          {
           "name": "Edges",
           "type": "scatter3d",
           "x": [
            0,
            0,
            null,
            0,
            0,
            null
           ],
           "y": [
            0,
            0,
            null,
            0,
            0,
            null
           ],
           "z": [
            0,
            -0.05,
            null,
            0.03499999999999951,
            0.0849999999999995,
            null
           ]
          },
          {
           "i": [],
           "j": [],
           "k": [],
           "name": "Faces",
           "type": "mesh3d",
           "x": {
            "bdata": "AAAAAAAAAAAAAAAAAAAAAAAAAAAAAAAAAAAAAAAAAAA=",
            "dtype": "f8"
           },
           "y": {
            "bdata": "AAAAAAAAAAAAAAAAAAAAAAAAAAAAAAAAAAAAAAAAAAA=",
            "dtype": "f8"
           },
           "z": {
            "bdata": "AAAAAAAAAACamZmZmZmpv6VRuB6F66E/n/UoXI/CtT8=",
            "dtype": "f8"
           }
          }
         ],
         "layout": {
          "annotations": [
           {
            "showarrow": false,
            "text": "Time: 0.14s (Step: 15/100)",
            "x": 0.05,
            "xref": "paper",
            "y": 0.95,
            "yref": "paper"
           }
          ]
         },
         "name": "14"
        },
        {
         "data": [
          {
           "name": "Free Nodes",
           "type": "scatter3d",
           "x": {
            "bdata": "AAAAAAAAAAAAAAAAAAAAAAAAAAAAAAAAAAAAAAAAAAA=",
            "dtype": "f8"
           },
           "y": {
            "bdata": "AAAAAAAAAAAAAAAAAAAAAAAAAAAAAAAAAAAAAAAAAAA=",
            "dtype": "f8"
           },
           "z": {
            "bdata": "AAAAAAAAAACamZmZmZmpv0vEILByaKE/8i7dJAaBtT8=",
            "dtype": "f8"
           }
          },
          {
           "name": "Fixed Nodes",
           "type": "scatter3d",
           "x": [],
           "y": [],
           "z": []
          },
          {
           "name": "Edges",
           "type": "scatter3d",
           "x": [
            0,
            0,
            null,
            0,
            0,
            null
           ],
           "y": [
            0,
            0,
            null,
            0,
            0,
            null
           ],
           "z": [
            0,
            -0.05,
            null,
            0.03399999999999944,
            0.08399999999999944,
            null
           ]
          },
          {
           "i": [],
           "j": [],
           "k": [],
           "name": "Faces",
           "type": "mesh3d",
           "x": {
            "bdata": "AAAAAAAAAAAAAAAAAAAAAAAAAAAAAAAAAAAAAAAAAAA=",
            "dtype": "f8"
           },
           "y": {
            "bdata": "AAAAAAAAAAAAAAAAAAAAAAAAAAAAAAAAAAAAAAAAAAA=",
            "dtype": "f8"
           },
           "z": {
            "bdata": "AAAAAAAAAACamZmZmZmpv0vEILByaKE/8i7dJAaBtT8=",
            "dtype": "f8"
           }
          }
         ],
         "layout": {
          "annotations": [
           {
            "showarrow": false,
            "text": "Time: 0.15s (Step: 16/100)",
            "x": 0.05,
            "xref": "paper",
            "y": 0.95,
            "yref": "paper"
           }
          ]
         },
         "name": "15"
        },
        {
         "data": [
          {
           "name": "Free Nodes",
           "type": "scatter3d",
           "x": {
            "bdata": "AAAAAAAAAAAAAAAAAAAAAAAAAAAAAAAAAAAAAAAAAAA=",
            "dtype": "f8"
           },
           "y": {
            "bdata": "AAAAAAAAAAAAAAAAAAAAAAAAAAAAAAAAAAAAAAAAAAA=",
            "dtype": "f8"
           },
           "z": {
            "bdata": "AAAAAAAAAACamZmZmZmpv/A2iUFg5aA/RWiR7Xw/tT8=",
            "dtype": "f8"
           }
          },
          {
           "name": "Fixed Nodes",
           "type": "scatter3d",
           "x": [],
           "y": [],
           "z": []
          },
          {
           "name": "Edges",
           "type": "scatter3d",
           "x": [
            0,
            0,
            null,
            0,
            0,
            null
           ],
           "y": [
            0,
            0,
            null,
            0,
            0,
            null
           ],
           "z": [
            0,
            -0.05,
            null,
            0.03299999999999936,
            0.08299999999999937,
            null
           ]
          },
          {
           "i": [],
           "j": [],
           "k": [],
           "name": "Faces",
           "type": "mesh3d",
           "x": {
            "bdata": "AAAAAAAAAAAAAAAAAAAAAAAAAAAAAAAAAAAAAAAAAAA=",
            "dtype": "f8"
           },
           "y": {
            "bdata": "AAAAAAAAAAAAAAAAAAAAAAAAAAAAAAAAAAAAAAAAAAA=",
            "dtype": "f8"
           },
           "z": {
            "bdata": "AAAAAAAAAACamZmZmZmpv/A2iUFg5aA/RWiR7Xw/tT8=",
            "dtype": "f8"
           }
          }
         ],
         "layout": {
          "annotations": [
           {
            "showarrow": false,
            "text": "Time: 0.16s (Step: 17/100)",
            "x": 0.05,
            "xref": "paper",
            "y": 0.95,
            "yref": "paper"
           }
          ]
         },
         "name": "16"
        },
        {
         "data": [
          {
           "name": "Free Nodes",
           "type": "scatter3d",
           "x": {
            "bdata": "AAAAAAAAAAAAAAAAAAAAAAAAAAAAAAAAAAAAAAAAAAA=",
            "dtype": "f8"
           },
           "y": {
            "bdata": "AAAAAAAAAAAAAAAAAAAAAAAAAAAAAAAAAAAAAAAAAAA=",
            "dtype": "f8"
           },
           "z": {
            "bdata": "AAAAAAAAAACamZmZmZmpv5Wp8dJNYqA/l6FFtvP9tD8=",
            "dtype": "f8"
           }
          },
          {
           "name": "Fixed Nodes",
           "type": "scatter3d",
           "x": [],
           "y": [],
           "z": []
          },
          {
           "name": "Edges",
           "type": "scatter3d",
           "x": [
            0,
            0,
            null,
            0,
            0,
            null
           ],
           "y": [
            0,
            0,
            null,
            0,
            0,
            null
           ],
           "z": [
            0,
            -0.05,
            null,
            0.031999999999999286,
            0.08199999999999928,
            null
           ]
          },
          {
           "i": [],
           "j": [],
           "k": [],
           "name": "Faces",
           "type": "mesh3d",
           "x": {
            "bdata": "AAAAAAAAAAAAAAAAAAAAAAAAAAAAAAAAAAAAAAAAAAA=",
            "dtype": "f8"
           },
           "y": {
            "bdata": "AAAAAAAAAAAAAAAAAAAAAAAAAAAAAAAAAAAAAAAAAAA=",
            "dtype": "f8"
           },
           "z": {
            "bdata": "AAAAAAAAAACamZmZmZmpv5Wp8dJNYqA/l6FFtvP9tD8=",
            "dtype": "f8"
           }
          }
         ],
         "layout": {
          "annotations": [
           {
            "showarrow": false,
            "text": "Time: 0.17s (Step: 18/100)",
            "x": 0.05,
            "xref": "paper",
            "y": 0.95,
            "yref": "paper"
           }
          ]
         },
         "name": "17"
        },
        {
         "data": [
          {
           "name": "Free Nodes",
           "type": "scatter3d",
           "x": {
            "bdata": "AAAAAAAAAAAAAAAAAAAAAAAAAAAAAAAAAAAAAAAAAAA=",
            "dtype": "f8"
           },
           "y": {
            "bdata": "AAAAAAAAAAAAAAAAAAAAAAAAAAAAAAAAAAAAAAAAAAA=",
            "dtype": "f8"
           },
           "z": {
            "bdata": "AAAAAAAAAACamZmZmZmpv3E4tMh2vp8/6dr5fmq8tD8=",
            "dtype": "f8"
           }
          },
          {
           "name": "Fixed Nodes",
           "type": "scatter3d",
           "x": [],
           "y": [],
           "z": []
          },
          {
           "name": "Edges",
           "type": "scatter3d",
           "x": [
            0,
            0,
            null,
            0,
            0,
            null
           ],
           "y": [
            0,
            0,
            null,
            0,
            0,
            null
           ],
           "z": [
            0,
            -0.05,
            null,
            0.0309999999999992,
            0.0809999999999992,
            null
           ]
          },
          {
           "i": [],
           "j": [],
           "k": [],
           "name": "Faces",
           "type": "mesh3d",
           "x": {
            "bdata": "AAAAAAAAAAAAAAAAAAAAAAAAAAAAAAAAAAAAAAAAAAA=",
            "dtype": "f8"
           },
           "y": {
            "bdata": "AAAAAAAAAAAAAAAAAAAAAAAAAAAAAAAAAAAAAAAAAAA=",
            "dtype": "f8"
           },
           "z": {
            "bdata": "AAAAAAAAAACamZmZmZmpv3E4tMh2vp8/6dr5fmq8tD8=",
            "dtype": "f8"
           }
          }
         ],
         "layout": {
          "annotations": [
           {
            "showarrow": false,
            "text": "Time: 0.18s (Step: 19/100)",
            "x": 0.05,
            "xref": "paper",
            "y": 0.95,
            "yref": "paper"
           }
          ]
         },
         "name": "18"
        },
        {
         "data": [
          {
           "name": "Free Nodes",
           "type": "scatter3d",
           "x": {
            "bdata": "AAAAAAAAAAAAAAAAAAAAAAAAAAAAAAAAAAAAAAAAAAA=",
            "dtype": "f8"
           },
           "y": {
            "bdata": "AAAAAAAAAAAAAAAAAAAAAAAAAAAAAAAAAAAAAAAAAAA=",
            "dtype": "f8"
           },
           "z": {
            "bdata": "AAAAAAAAAACamZmZmZmpv7cdhetRuJ4/OxSuR+F6tD8=",
            "dtype": "f8"
           }
          },
          {
           "name": "Fixed Nodes",
           "type": "scatter3d",
           "x": [],
           "y": [],
           "z": []
          },
          {
           "name": "Edges",
           "type": "scatter3d",
           "x": [
            0,
            0,
            null,
            0,
            0,
            null
           ],
           "y": [
            0,
            0,
            null,
            0,
            0,
            null
           ],
           "z": [
            0,
            -0.05,
            null,
            0.029999999999999107,
            0.07999999999999911,
            null
           ]
          },
          {
           "i": [],
           "j": [],
           "k": [],
           "name": "Faces",
           "type": "mesh3d",
           "x": {
            "bdata": "AAAAAAAAAAAAAAAAAAAAAAAAAAAAAAAAAAAAAAAAAAA=",
            "dtype": "f8"
           },
           "y": {
            "bdata": "AAAAAAAAAAAAAAAAAAAAAAAAAAAAAAAAAAAAAAAAAAA=",
            "dtype": "f8"
           },
           "z": {
            "bdata": "AAAAAAAAAACamZmZmZmpv7cdhetRuJ4/OxSuR+F6tD8=",
            "dtype": "f8"
           }
          }
         ],
         "layout": {
          "annotations": [
           {
            "showarrow": false,
            "text": "Time: 0.19s (Step: 20/100)",
            "x": 0.05,
            "xref": "paper",
            "y": 0.95,
            "yref": "paper"
           }
          ]
         },
         "name": "19"
        },
        {
         "data": [
          {
           "name": "Free Nodes",
           "type": "scatter3d",
           "x": {
            "bdata": "AAAAAAAAAAAAAAAAAAAAAAAAAAAAAAAAAAAAAAAAAAA=",
            "dtype": "f8"
           },
           "y": {
            "bdata": "AAAAAAAAAAAAAAAAAAAAAAAAAAAAAAAAAAAAAAAAAAA=",
            "dtype": "f8"
           },
           "z": {
            "bdata": "AAAAAAAAAACamZmZmZmpv/0CVg4tsp0/jE1iEFg5tD8=",
            "dtype": "f8"
           }
          },
          {
           "name": "Fixed Nodes",
           "type": "scatter3d",
           "x": [],
           "y": [],
           "z": []
          },
          {
           "name": "Edges",
           "type": "scatter3d",
           "x": [
            0,
            0,
            null,
            0,
            0,
            null
           ],
           "y": [
            0,
            0,
            null,
            0,
            0,
            null
           ],
           "z": [
            0,
            -0.05,
            null,
            0.028999999999999016,
            0.07899999999999902,
            null
           ]
          },
          {
           "i": [],
           "j": [],
           "k": [],
           "name": "Faces",
           "type": "mesh3d",
           "x": {
            "bdata": "AAAAAAAAAAAAAAAAAAAAAAAAAAAAAAAAAAAAAAAAAAA=",
            "dtype": "f8"
           },
           "y": {
            "bdata": "AAAAAAAAAAAAAAAAAAAAAAAAAAAAAAAAAAAAAAAAAAA=",
            "dtype": "f8"
           },
           "z": {
            "bdata": "AAAAAAAAAACamZmZmZmpv/0CVg4tsp0/jE1iEFg5tD8=",
            "dtype": "f8"
           }
          }
         ],
         "layout": {
          "annotations": [
           {
            "showarrow": false,
            "text": "Time: 0.20s (Step: 21/100)",
            "x": 0.05,
            "xref": "paper",
            "y": 0.95,
            "yref": "paper"
           }
          ]
         },
         "name": "20"
        },
        {
         "data": [
          {
           "name": "Free Nodes",
           "type": "scatter3d",
           "x": {
            "bdata": "AAAAAAAAAAAAAAAAAAAAAAAAAAAAAAAAAAAAAAAAAAA=",
            "dtype": "f8"
           },
           "y": {
            "bdata": "AAAAAAAAAAAAAAAAAAAAAAAAAAAAAAAAAAAAAAAAAAA=",
            "dtype": "f8"
           },
           "z": {
            "bdata": "AAAAAAAAAACamZmZmZmpv0HoJjEIrJw/3YYW2c73sz8=",
            "dtype": "f8"
           }
          },
          {
           "name": "Fixed Nodes",
           "type": "scatter3d",
           "x": [],
           "y": [],
           "z": []
          },
          {
           "name": "Edges",
           "type": "scatter3d",
           "x": [
            0,
            0,
            null,
            0,
            0,
            null
           ],
           "y": [
            0,
            0,
            null,
            0,
            0,
            null
           ],
           "z": [
            0,
            -0.05,
            null,
            0.027999999999998918,
            0.07799999999999892,
            null
           ]
          },
          {
           "i": [],
           "j": [],
           "k": [],
           "name": "Faces",
           "type": "mesh3d",
           "x": {
            "bdata": "AAAAAAAAAAAAAAAAAAAAAAAAAAAAAAAAAAAAAAAAAAA=",
            "dtype": "f8"
           },
           "y": {
            "bdata": "AAAAAAAAAAAAAAAAAAAAAAAAAAAAAAAAAAAAAAAAAAA=",
            "dtype": "f8"
           },
           "z": {
            "bdata": "AAAAAAAAAACamZmZmZmpv0HoJjEIrJw/3YYW2c73sz8=",
            "dtype": "f8"
           }
          }
         ],
         "layout": {
          "annotations": [
           {
            "showarrow": false,
            "text": "Time: 0.21s (Step: 22/100)",
            "x": 0.05,
            "xref": "paper",
            "y": 0.95,
            "yref": "paper"
           }
          ]
         },
         "name": "21"
        },
        {
         "data": [
          {
           "name": "Free Nodes",
           "type": "scatter3d",
           "x": {
            "bdata": "AAAAAAAAAAAAAAAAAAAAAAAAAAAAAAAAAAAAAAAAAAA=",
            "dtype": "f8"
           },
           "y": {
            "bdata": "AAAAAAAAAAAAAAAAAAAAAAAAAAAAAAAAAAAAAAAAAAA=",
            "dtype": "f8"
           },
           "z": {
            "bdata": "AAAAAAAAAACamZmZmZmpv4TN91PjpZs/LsDKoUW2sz8=",
            "dtype": "f8"
           }
          },
          {
           "name": "Fixed Nodes",
           "type": "scatter3d",
           "x": [],
           "y": [],
           "z": []
          },
          {
           "name": "Edges",
           "type": "scatter3d",
           "x": [
            0,
            0,
            null,
            0,
            0,
            null
           ],
           "y": [
            0,
            0,
            null,
            0,
            0,
            null
           ],
           "z": [
            0,
            -0.05,
            null,
            0.026999999999998817,
            0.07699999999999882,
            null
           ]
          },
          {
           "i": [],
           "j": [],
           "k": [],
           "name": "Faces",
           "type": "mesh3d",
           "x": {
            "bdata": "AAAAAAAAAAAAAAAAAAAAAAAAAAAAAAAAAAAAAAAAAAA=",
            "dtype": "f8"
           },
           "y": {
            "bdata": "AAAAAAAAAAAAAAAAAAAAAAAAAAAAAAAAAAAAAAAAAAA=",
            "dtype": "f8"
           },
           "z": {
            "bdata": "AAAAAAAAAACamZmZmZmpv4TN91PjpZs/LsDKoUW2sz8=",
            "dtype": "f8"
           }
          }
         ],
         "layout": {
          "annotations": [
           {
            "showarrow": false,
            "text": "Time: 0.22s (Step: 23/100)",
            "x": 0.05,
            "xref": "paper",
            "y": 0.95,
            "yref": "paper"
           }
          ]
         },
         "name": "22"
        },
        {
         "data": [
          {
           "name": "Free Nodes",
           "type": "scatter3d",
           "x": {
            "bdata": "AAAAAAAAAAAAAAAAAAAAAAAAAAAAAAAAAAAAAAAAAAA=",
            "dtype": "f8"
           },
           "y": {
            "bdata": "AAAAAAAAAAAAAAAAAAAAAAAAAAAAAAAAAAAAAAAAAAA=",
            "dtype": "f8"
           },
           "z": {
            "bdata": "AAAAAAAAAACamZmZmZmpv8ayyHa+n5o/f/l+arx0sz8=",
            "dtype": "f8"
           }
          },
          {
           "name": "Fixed Nodes",
           "type": "scatter3d",
           "x": [],
           "y": [],
           "z": []
          },
          {
           "name": "Edges",
           "type": "scatter3d",
           "x": [
            0,
            0,
            null,
            0,
            0,
            null
           ],
           "y": [
            0,
            0,
            null,
            0,
            0,
            null
           ],
           "z": [
            0,
            -0.05,
            null,
            0.02599999999999871,
            0.07599999999999872,
            null
           ]
          },
          {
           "i": [],
           "j": [],
           "k": [],
           "name": "Faces",
           "type": "mesh3d",
           "x": {
            "bdata": "AAAAAAAAAAAAAAAAAAAAAAAAAAAAAAAAAAAAAAAAAAA=",
            "dtype": "f8"
           },
           "y": {
            "bdata": "AAAAAAAAAAAAAAAAAAAAAAAAAAAAAAAAAAAAAAAAAAA=",
            "dtype": "f8"
           },
           "z": {
            "bdata": "AAAAAAAAAACamZmZmZmpv8ayyHa+n5o/f/l+arx0sz8=",
            "dtype": "f8"
           }
          }
         ],
         "layout": {
          "annotations": [
           {
            "showarrow": false,
            "text": "Time: 0.23s (Step: 24/100)",
            "x": 0.05,
            "xref": "paper",
            "y": 0.95,
            "yref": "paper"
           }
          ]
         },
         "name": "23"
        },
        {
         "data": [
          {
           "name": "Free Nodes",
           "type": "scatter3d",
           "x": {
            "bdata": "AAAAAAAAAAAAAAAAAAAAAAAAAAAAAAAAAAAAAAAAAAA=",
            "dtype": "f8"
           },
           "y": {
            "bdata": "AAAAAAAAAAAAAAAAAAAAAAAAAAAAAAAAAAAAAAAAAAA=",
            "dtype": "f8"
           },
           "z": {
            "bdata": "AAAAAAAAAACamZmZmZmpvwmYmZmZmZk/zzIzMzMzsz8=",
            "dtype": "f8"
           }
          },
          {
           "name": "Fixed Nodes",
           "type": "scatter3d",
           "x": [],
           "y": [],
           "z": []
          },
          {
           "name": "Edges",
           "type": "scatter3d",
           "x": [
            0,
            0,
            null,
            0,
            0,
            null
           ],
           "y": [
            0,
            0,
            null,
            0,
            0,
            null
           ],
           "z": [
            0,
            -0.05,
            null,
            0.02499999999999861,
            0.07499999999999861,
            null
           ]
          },
          {
           "i": [],
           "j": [],
           "k": [],
           "name": "Faces",
           "type": "mesh3d",
           "x": {
            "bdata": "AAAAAAAAAAAAAAAAAAAAAAAAAAAAAAAAAAAAAAAAAAA=",
            "dtype": "f8"
           },
           "y": {
            "bdata": "AAAAAAAAAAAAAAAAAAAAAAAAAAAAAAAAAAAAAAAAAAA=",
            "dtype": "f8"
           },
           "z": {
            "bdata": "AAAAAAAAAACamZmZmZmpvwmYmZmZmZk/zzIzMzMzsz8=",
            "dtype": "f8"
           }
          }
         ],
         "layout": {
          "annotations": [
           {
            "showarrow": false,
            "text": "Time: 0.24s (Step: 25/100)",
            "x": 0.05,
            "xref": "paper",
            "y": 0.95,
            "yref": "paper"
           }
          ]
         },
         "name": "24"
        },
        {
         "data": [
          {
           "name": "Free Nodes",
           "type": "scatter3d",
           "x": {
            "bdata": "AAAAAAAAAAAAAAAAAAAAAAAAAAAAAAAAAAAAAAAAAAA=",
            "dtype": "f8"
           },
           "y": {
            "bdata": "AAAAAAAAAAAAAAAAAAAAAAAAAAAAAAAAAAAAAAAAAAA=",
            "dtype": "f8"
           },
           "z": {
            "bdata": "AAAAAAAAAACamZmZmZmpv0l9arx0k5g/H2zn+6nxsj8=",
            "dtype": "f8"
           }
          },
          {
           "name": "Fixed Nodes",
           "type": "scatter3d",
           "x": [],
           "y": [],
           "z": []
          },
          {
           "name": "Edges",
           "type": "scatter3d",
           "x": [
            0,
            0,
            null,
            0,
            0,
            null
           ],
           "y": [
            0,
            0,
            null,
            0,
            0,
            null
           ],
           "z": [
            0,
            -0.05,
            null,
            0.023999999999998498,
            0.0739999999999985,
            null
           ]
          },
          {
           "i": [],
           "j": [],
           "k": [],
           "name": "Faces",
           "type": "mesh3d",
           "x": {
            "bdata": "AAAAAAAAAAAAAAAAAAAAAAAAAAAAAAAAAAAAAAAAAAA=",
            "dtype": "f8"
           },
           "y": {
            "bdata": "AAAAAAAAAAAAAAAAAAAAAAAAAAAAAAAAAAAAAAAAAAA=",
            "dtype": "f8"
           },
           "z": {
            "bdata": "AAAAAAAAAACamZmZmZmpv0l9arx0k5g/H2zn+6nxsj8=",
            "dtype": "f8"
           }
          }
         ],
         "layout": {
          "annotations": [
           {
            "showarrow": false,
            "text": "Time: 0.25s (Step: 26/100)",
            "x": 0.05,
            "xref": "paper",
            "y": 0.95,
            "yref": "paper"
           }
          ]
         },
         "name": "25"
        },
        {
         "data": [
          {
           "name": "Free Nodes",
           "type": "scatter3d",
           "x": {
            "bdata": "AAAAAAAAAAAAAAAAAAAAAAAAAAAAAAAAAAAAAAAAAAA=",
            "dtype": "f8"
           },
           "y": {
            "bdata": "AAAAAAAAAAAAAAAAAAAAAAAAAAAAAAAAAAAAAAAAAAA=",
            "dtype": "f8"
           },
           "z": {
            "bdata": "AAAAAAAAAACamZmZmZmpv4hiO99PjZc/b6WbxCCwsj8=",
            "dtype": "f8"
           }
          },
          {
           "name": "Fixed Nodes",
           "type": "scatter3d",
           "x": [],
           "y": [],
           "z": []
          },
          {
           "name": "Edges",
           "type": "scatter3d",
           "x": [
            0,
            0,
            null,
            0,
            0,
            null
           ],
           "y": [
            0,
            0,
            null,
            0,
            0,
            null
           ],
           "z": [
            0,
            -0.05,
            null,
            0.022999999999998383,
            0.07299999999999839,
            null
           ]
          },
          {
           "i": [],
           "j": [],
           "k": [],
           "name": "Faces",
           "type": "mesh3d",
           "x": {
            "bdata": "AAAAAAAAAAAAAAAAAAAAAAAAAAAAAAAAAAAAAAAAAAA=",
            "dtype": "f8"
           },
           "y": {
            "bdata": "AAAAAAAAAAAAAAAAAAAAAAAAAAAAAAAAAAAAAAAAAAA=",
            "dtype": "f8"
           },
           "z": {
            "bdata": "AAAAAAAAAACamZmZmZmpv4hiO99PjZc/b6WbxCCwsj8=",
            "dtype": "f8"
           }
          }
         ],
         "layout": {
          "annotations": [
           {
            "showarrow": false,
            "text": "Time: 0.26s (Step: 27/100)",
            "x": 0.05,
            "xref": "paper",
            "y": 0.95,
            "yref": "paper"
           }
          ]
         },
         "name": "26"
        },
        {
         "data": [
          {
           "name": "Free Nodes",
           "type": "scatter3d",
           "x": {
            "bdata": "AAAAAAAAAAAAAAAAAAAAAAAAAAAAAAAAAAAAAAAAAAA=",
            "dtype": "f8"
           },
           "y": {
            "bdata": "AAAAAAAAAAAAAAAAAAAAAAAAAAAAAAAAAAAAAAAAAAA=",
            "dtype": "f8"
           },
           "z": {
            "bdata": "AAAAAAAAAACamZmZmZmpv8ZHDAIrh5Y/v95PjZdusj8=",
            "dtype": "f8"
           }
          },
          {
           "name": "Fixed Nodes",
           "type": "scatter3d",
           "x": [],
           "y": [],
           "z": []
          },
          {
           "name": "Edges",
           "type": "scatter3d",
           "x": [
            0,
            0,
            null,
            0,
            0,
            null
           ],
           "y": [
            0,
            0,
            null,
            0,
            0,
            null
           ],
           "z": [
            0,
            -0.05,
            null,
            0.021999999999998264,
            0.07199999999999827,
            null
           ]
          },
          {
           "i": [],
           "j": [],
           "k": [],
           "name": "Faces",
           "type": "mesh3d",
           "x": {
            "bdata": "AAAAAAAAAAAAAAAAAAAAAAAAAAAAAAAAAAAAAAAAAAA=",
            "dtype": "f8"
           },
           "y": {
            "bdata": "AAAAAAAAAAAAAAAAAAAAAAAAAAAAAAAAAAAAAAAAAAA=",
            "dtype": "f8"
           },
           "z": {
            "bdata": "AAAAAAAAAACamZmZmZmpv8ZHDAIrh5Y/v95PjZdusj8=",
            "dtype": "f8"
           }
          }
         ],
         "layout": {
          "annotations": [
           {
            "showarrow": false,
            "text": "Time: 0.27s (Step: 28/100)",
            "x": 0.05,
            "xref": "paper",
            "y": 0.95,
            "yref": "paper"
           }
          ]
         },
         "name": "27"
        },
        {
         "data": [
          {
           "name": "Free Nodes",
           "type": "scatter3d",
           "x": {
            "bdata": "AAAAAAAAAAAAAAAAAAAAAAAAAAAAAAAAAAAAAAAAAAA=",
            "dtype": "f8"
           },
           "y": {
            "bdata": "AAAAAAAAAAAAAAAAAAAAAAAAAAAAAAAAAAAAAAAAAAA=",
            "dtype": "f8"
           },
           "z": {
            "bdata": "AAAAAAAAAACamZmZmZmpvwUt3SQGgZU/DhgEVg4tsj8=",
            "dtype": "f8"
           }
          },
          {
           "name": "Fixed Nodes",
           "type": "scatter3d",
           "x": [],
           "y": [],
           "z": []
          },
          {
           "name": "Edges",
           "type": "scatter3d",
           "x": [
            0,
            0,
            null,
            0,
            0,
            null
           ],
           "y": [
            0,
            0,
            null,
            0,
            0,
            null
           ],
           "z": [
            0,
            -0.05,
            null,
            0.02099999999999815,
            0.07099999999999815,
            null
           ]
          },
          {
           "i": [],
           "j": [],
           "k": [],
           "name": "Faces",
           "type": "mesh3d",
           "x": {
            "bdata": "AAAAAAAAAAAAAAAAAAAAAAAAAAAAAAAAAAAAAAAAAAA=",
            "dtype": "f8"
           },
           "y": {
            "bdata": "AAAAAAAAAAAAAAAAAAAAAAAAAAAAAAAAAAAAAAAAAAA=",
            "dtype": "f8"
           },
           "z": {
            "bdata": "AAAAAAAAAACamZmZmZmpvwUt3SQGgZU/DhgEVg4tsj8=",
            "dtype": "f8"
           }
          }
         ],
         "layout": {
          "annotations": [
           {
            "showarrow": false,
            "text": "Time: 0.28s (Step: 29/100)",
            "x": 0.05,
            "xref": "paper",
            "y": 0.95,
            "yref": "paper"
           }
          ]
         },
         "name": "28"
        },
        {
         "data": [
          {
           "name": "Free Nodes",
           "type": "scatter3d",
           "x": {
            "bdata": "AAAAAAAAAAAAAAAAAAAAAAAAAAAAAAAAAAAAAAAAAAA=",
            "dtype": "f8"
           },
           "y": {
            "bdata": "AAAAAAAAAAAAAAAAAAAAAAAAAAAAAAAAAAAAAAAAAAA=",
            "dtype": "f8"
           },
           "z": {
            "bdata": "AAAAAAAAAACamZmZmZmpv0ESrkfhepQ/XVG4HoXrsT8=",
            "dtype": "f8"
           }
          },
          {
           "name": "Fixed Nodes",
           "type": "scatter3d",
           "x": [],
           "y": [],
           "z": []
          },
          {
           "name": "Edges",
           "type": "scatter3d",
           "x": [
            0,
            0,
            null,
            0,
            0,
            null
           ],
           "y": [
            0,
            0,
            null,
            0,
            0,
            null
           ],
           "z": [
            0,
            -0.05,
            null,
            0.019999999999998023,
            0.06999999999999802,
            null
           ]
          },
          {
           "i": [],
           "j": [],
           "k": [],
           "name": "Faces",
           "type": "mesh3d",
           "x": {
            "bdata": "AAAAAAAAAAAAAAAAAAAAAAAAAAAAAAAAAAAAAAAAAAA=",
            "dtype": "f8"
           },
           "y": {
            "bdata": "AAAAAAAAAAAAAAAAAAAAAAAAAAAAAAAAAAAAAAAAAAA=",
            "dtype": "f8"
           },
           "z": {
            "bdata": "AAAAAAAAAACamZmZmZmpv0ESrkfhepQ/XVG4HoXrsT8=",
            "dtype": "f8"
           }
          }
         ],
         "layout": {
          "annotations": [
           {
            "showarrow": false,
            "text": "Time: 0.29s (Step: 30/100)",
            "x": 0.05,
            "xref": "paper",
            "y": 0.95,
            "yref": "paper"
           }
          ]
         },
         "name": "29"
        },
        {
         "data": [
          {
           "name": "Free Nodes",
           "type": "scatter3d",
           "x": {
            "bdata": "AAAAAAAAAAAAAAAAAAAAAAAAAAAAAAAAAAAAAAAAAAA=",
            "dtype": "f8"
           },
           "y": {
            "bdata": "AAAAAAAAAAAAAAAAAAAAAAAAAAAAAAAAAAAAAAAAAAA=",
            "dtype": "f8"
           },
           "z": {
            "bdata": "AAAAAAAAAACamZmZmZmpv3z3fmq8dJM/rIps5/upsT8=",
            "dtype": "f8"
           }
          },
          {
           "name": "Fixed Nodes",
           "type": "scatter3d",
           "x": [],
           "y": [],
           "z": []
          },
          {
           "name": "Edges",
           "type": "scatter3d",
           "x": [
            0,
            0,
            null,
            0,
            0,
            null
           ],
           "y": [
            0,
            0,
            null,
            0,
            0,
            null
           ],
           "z": [
            0,
            -0.05,
            null,
            0.018999999999997894,
            0.0689999999999979,
            null
           ]
          },
          {
           "i": [],
           "j": [],
           "k": [],
           "name": "Faces",
           "type": "mesh3d",
           "x": {
            "bdata": "AAAAAAAAAAAAAAAAAAAAAAAAAAAAAAAAAAAAAAAAAAA=",
            "dtype": "f8"
           },
           "y": {
            "bdata": "AAAAAAAAAAAAAAAAAAAAAAAAAAAAAAAAAAAAAAAAAAA=",
            "dtype": "f8"
           },
           "z": {
            "bdata": "AAAAAAAAAACamZmZmZmpv3z3fmq8dJM/rIps5/upsT8=",
            "dtype": "f8"
           }
          }
         ],
         "layout": {
          "annotations": [
           {
            "showarrow": false,
            "text": "Time: 0.30s (Step: 31/100)",
            "x": 0.05,
            "xref": "paper",
            "y": 0.95,
            "yref": "paper"
           }
          ]
         },
         "name": "30"
        },
        {
         "data": [
          {
           "name": "Free Nodes",
           "type": "scatter3d",
           "x": {
            "bdata": "AAAAAAAAAAAAAAAAAAAAAAAAAAAAAAAAAAAAAAAAAAA=",
            "dtype": "f8"
           },
           "y": {
            "bdata": "AAAAAAAAAAAAAAAAAAAAAAAAAAAAAAAAAAAAAAAAAAA=",
            "dtype": "f8"
           },
           "z": {
            "bdata": "AAAAAAAAAACamZmZmZmpv7bcT42XbpI/+8MgsHJosT8=",
            "dtype": "f8"
           }
          },
          {
           "name": "Fixed Nodes",
           "type": "scatter3d",
           "x": [],
           "y": [],
           "z": []
          },
          {
           "name": "Edges",
           "type": "scatter3d",
           "x": [
            0,
            0,
            null,
            0,
            0,
            null
           ],
           "y": [
            0,
            0,
            null,
            0,
            0,
            null
           ],
           "z": [
            0,
            -0.05,
            null,
            0.01799999999999776,
            0.06799999999999777,
            null
           ]
          },
          {
           "i": [],
           "j": [],
           "k": [],
           "name": "Faces",
           "type": "mesh3d",
           "x": {
            "bdata": "AAAAAAAAAAAAAAAAAAAAAAAAAAAAAAAAAAAAAAAAAAA=",
            "dtype": "f8"
           },
           "y": {
            "bdata": "AAAAAAAAAAAAAAAAAAAAAAAAAAAAAAAAAAAAAAAAAAA=",
            "dtype": "f8"
           },
           "z": {
            "bdata": "AAAAAAAAAACamZmZmZmpv7bcT42XbpI/+8MgsHJosT8=",
            "dtype": "f8"
           }
          }
         ],
         "layout": {
          "annotations": [
           {
            "showarrow": false,
            "text": "Time: 0.31s (Step: 32/100)",
            "x": 0.05,
            "xref": "paper",
            "y": 0.95,
            "yref": "paper"
           }
          ]
         },
         "name": "31"
        },
        {
         "data": [
          {
           "name": "Free Nodes",
           "type": "scatter3d",
           "x": {
            "bdata": "AAAAAAAAAAAAAAAAAAAAAAAAAAAAAAAAAAAAAAAAAAA=",
            "dtype": "f8"
           },
           "y": {
            "bdata": "AAAAAAAAAAAAAAAAAAAAAAAAAAAAAAAAAAAAAAAAAAA=",
            "dtype": "f8"
           },
           "z": {
            "bdata": "AAAAAAAAAACamZmZmZmpv/HBILByaJE/Sf3UeOkmsT8=",
            "dtype": "f8"
           }
          },
          {
           "name": "Fixed Nodes",
           "type": "scatter3d",
           "x": [],
           "y": [],
           "z": []
          },
          {
           "name": "Edges",
           "type": "scatter3d",
           "x": [
            0,
            0,
            null,
            0,
            0,
            null
           ],
           "y": [
            0,
            0,
            null,
            0,
            0,
            null
           ],
           "z": [
            0,
            -0.05,
            null,
            0.01699999999999763,
            0.06699999999999763,
            null
           ]
          },
          {
           "i": [],
           "j": [],
           "k": [],
           "name": "Faces",
           "type": "mesh3d",
           "x": {
            "bdata": "AAAAAAAAAAAAAAAAAAAAAAAAAAAAAAAAAAAAAAAAAAA=",
            "dtype": "f8"
           },
           "y": {
            "bdata": "AAAAAAAAAAAAAAAAAAAAAAAAAAAAAAAAAAAAAAAAAAA=",
            "dtype": "f8"
           },
           "z": {
            "bdata": "AAAAAAAAAACamZmZmZmpv/HBILByaJE/Sf3UeOkmsT8=",
            "dtype": "f8"
           }
          }
         ],
         "layout": {
          "annotations": [
           {
            "showarrow": false,
            "text": "Time: 0.32s (Step: 33/100)",
            "x": 0.05,
            "xref": "paper",
            "y": 0.95,
            "yref": "paper"
           }
          ]
         },
         "name": "32"
        },
        {
         "data": [
          {
           "name": "Free Nodes",
           "type": "scatter3d",
           "x": {
            "bdata": "AAAAAAAAAAAAAAAAAAAAAAAAAAAAAAAAAAAAAAAAAAA=",
            "dtype": "f8"
           },
           "y": {
            "bdata": "AAAAAAAAAAAAAAAAAAAAAAAAAAAAAAAAAAAAAAAAAAA=",
            "dtype": "f8"
           },
           "z": {
            "bdata": "AAAAAAAAAACamZmZmZmpvymn8dJNYpA/lzaJQWDlsD8=",
            "dtype": "f8"
           }
          },
          {
           "name": "Fixed Nodes",
           "type": "scatter3d",
           "x": [],
           "y": [],
           "z": []
          },
          {
           "name": "Edges",
           "type": "scatter3d",
           "x": [
            0,
            0,
            null,
            0,
            0,
            null
           ],
           "y": [
            0,
            0,
            null,
            0,
            0,
            null
           ],
           "z": [
            0,
            -0.05,
            null,
            0.015999999999997492,
            0.06599999999999749,
            null
           ]
          },
          {
           "i": [],
           "j": [],
           "k": [],
           "name": "Faces",
           "type": "mesh3d",
           "x": {
            "bdata": "AAAAAAAAAAAAAAAAAAAAAAAAAAAAAAAAAAAAAAAAAAA=",
            "dtype": "f8"
           },
           "y": {
            "bdata": "AAAAAAAAAAAAAAAAAAAAAAAAAAAAAAAAAAAAAAAAAAA=",
            "dtype": "f8"
           },
           "z": {
            "bdata": "AAAAAAAAAACamZmZmZmpvymn8dJNYpA/lzaJQWDlsD8=",
            "dtype": "f8"
           }
          }
         ],
         "layout": {
          "annotations": [
           {
            "showarrow": false,
            "text": "Time: 0.33s (Step: 34/100)",
            "x": 0.05,
            "xref": "paper",
            "y": 0.95,
            "yref": "paper"
           }
          ]
         },
         "name": "33"
        },
        {
         "data": [
          {
           "name": "Free Nodes",
           "type": "scatter3d",
           "x": {
            "bdata": "AAAAAAAAAAAAAAAAAAAAAAAAAAAAAAAAAAAAAAAAAAA=",
            "dtype": "f8"
           },
           "y": {
            "bdata": "AAAAAAAAAAAAAAAAAAAAAAAAAAAAAAAAAAAAAAAAAAA=",
            "dtype": "f8"
           },
           "z": {
            "bdata": "AAAAAAAAAACamZmZmZmpv8AYhetRuI4/5W89CtejsD8=",
            "dtype": "f8"
           }
          },
          {
           "name": "Fixed Nodes",
           "type": "scatter3d",
           "x": [],
           "y": [],
           "z": []
          },
          {
           "name": "Edges",
           "type": "scatter3d",
           "x": [
            0,
            0,
            null,
            0,
            0,
            null
           ],
           "y": [
            0,
            0,
            null,
            0,
            0,
            null
           ],
           "z": [
            0,
            -0.05,
            null,
            0.014999999999997349,
            0.06499999999999735,
            null
           ]
          },
          {
           "i": [],
           "j": [],
           "k": [],
           "name": "Faces",
           "type": "mesh3d",
           "x": {
            "bdata": "AAAAAAAAAAAAAAAAAAAAAAAAAAAAAAAAAAAAAAAAAAA=",
            "dtype": "f8"
           },
           "y": {
            "bdata": "AAAAAAAAAAAAAAAAAAAAAAAAAAAAAAAAAAAAAAAAAAA=",
            "dtype": "f8"
           },
           "z": {
            "bdata": "AAAAAAAAAACamZmZmZmpv8AYhetRuI4/5W89CtejsD8=",
            "dtype": "f8"
           }
          }
         ],
         "layout": {
          "annotations": [
           {
            "showarrow": false,
            "text": "Time: 0.34s (Step: 35/100)",
            "x": 0.05,
            "xref": "paper",
            "y": 0.95,
            "yref": "paper"
           }
          ]
         },
         "name": "34"
        },
        {
         "data": [
          {
           "name": "Free Nodes",
           "type": "scatter3d",
           "x": {
            "bdata": "AAAAAAAAAAAAAAAAAAAAAAAAAAAAAAAAAAAAAAAAAAA=",
            "dtype": "f8"
           },
           "y": {
            "bdata": "AAAAAAAAAAAAAAAAAAAAAAAAAAAAAAAAAAAAAAAAAAA=",
            "dtype": "f8"
           },
           "z": {
            "bdata": "AAAAAAAAAACamZmZmZmpvy3jJjEIrIw/M6nx0k1isD8=",
            "dtype": "f8"
           }
          },
          {
           "name": "Fixed Nodes",
           "type": "scatter3d",
           "x": [],
           "y": [],
           "z": []
          },
          {
           "name": "Edges",
           "type": "scatter3d",
           "x": [
            0,
            0,
            null,
            0,
            0,
            null
           ],
           "y": [
            0,
            0,
            null,
            0,
            0,
            null
           ],
           "z": [
            0,
            -0.05,
            null,
            0.013999999999997204,
            0.06399999999999721,
            null
           ]
          },
          {
           "i": [],
           "j": [],
           "k": [],
           "name": "Faces",
           "type": "mesh3d",
           "x": {
            "bdata": "AAAAAAAAAAAAAAAAAAAAAAAAAAAAAAAAAAAAAAAAAAA=",
            "dtype": "f8"
           },
           "y": {
            "bdata": "AAAAAAAAAAAAAAAAAAAAAAAAAAAAAAAAAAAAAAAAAAA=",
            "dtype": "f8"
           },
           "z": {
            "bdata": "AAAAAAAAAACamZmZmZmpvy3jJjEIrIw/M6nx0k1isD8=",
            "dtype": "f8"
           }
          }
         ],
         "layout": {
          "annotations": [
           {
            "showarrow": false,
            "text": "Time: 0.35s (Step: 36/100)",
            "x": 0.05,
            "xref": "paper",
            "y": 0.95,
            "yref": "paper"
           }
          ]
         },
         "name": "35"
        },
        {
         "data": [
          {
           "name": "Free Nodes",
           "type": "scatter3d",
           "x": {
            "bdata": "AAAAAAAAAAAAAAAAAAAAAAAAAAAAAAAAAAAAAAAAAAA=",
            "dtype": "f8"
           },
           "y": {
            "bdata": "AAAAAAAAAAAAAAAAAAAAAAAAAAAAAAAAAAAAAAAAAAA=",
            "dtype": "f8"
           },
           "z": {
            "bdata": "AAAAAAAAAACamZmZmZmpv5ytyHa+n4o/gOKlm8QgsD8=",
            "dtype": "f8"
           }
          },
          {
           "name": "Fixed Nodes",
           "type": "scatter3d",
           "x": [],
           "y": [],
           "z": []
          },
          {
           "name": "Edges",
           "type": "scatter3d",
           "x": [
            0,
            0,
            null,
            0,
            0,
            null
           ],
           "y": [
            0,
            0,
            null,
            0,
            0,
            null
           ],
           "z": [
            0,
            -0.05,
            null,
            0.012999999999997063,
            0.06299999999999706,
            null
           ]
          },
          {
           "i": [],
           "j": [],
           "k": [],
           "name": "Faces",
           "type": "mesh3d",
           "x": {
            "bdata": "AAAAAAAAAAAAAAAAAAAAAAAAAAAAAAAAAAAAAAAAAAA=",
            "dtype": "f8"
           },
           "y": {
            "bdata": "AAAAAAAAAAAAAAAAAAAAAAAAAAAAAAAAAAAAAAAAAAA=",
            "dtype": "f8"
           },
           "z": {
            "bdata": "AAAAAAAAAACamZmZmZmpv5ytyHa+n4o/gOKlm8QgsD8=",
            "dtype": "f8"
           }
          }
         ],
         "layout": {
          "annotations": [
           {
            "showarrow": false,
            "text": "Time: 0.36s (Step: 37/100)",
            "x": 0.05,
            "xref": "paper",
            "y": 0.95,
            "yref": "paper"
           }
          ]
         },
         "name": "36"
        },
        {
         "data": [
          {
           "name": "Free Nodes",
           "type": "scatter3d",
           "x": {
            "bdata": "AAAAAAAAAAAAAAAAAAAAAAAAAAAAAAAAAAAAAAAAAAA=",
            "dtype": "f8"
           },
           "y": {
            "bdata": "AAAAAAAAAAAAAAAAAAAAAAAAAAAAAAAAAAAAAAAAAAA=",
            "dtype": "f8"
           },
           "z": {
            "bdata": "AAAAAAAAAACamZmZmZmpvwR4arx0k4g/mze0yHa+rz8=",
            "dtype": "f8"
           }
          },
          {
           "name": "Fixed Nodes",
           "type": "scatter3d",
           "x": [],
           "y": [],
           "z": []
          },
          {
           "name": "Edges",
           "type": "scatter3d",
           "x": [
            0,
            0,
            null,
            0,
            0,
            null
           ],
           "y": [
            0,
            0,
            null,
            0,
            0,
            null
           ],
           "z": [
            0,
            -0.05,
            null,
            0.011999999999996909,
            0.06199999999999691,
            null
           ]
          },
          {
           "i": [],
           "j": [],
           "k": [],
           "name": "Faces",
           "type": "mesh3d",
           "x": {
            "bdata": "AAAAAAAAAAAAAAAAAAAAAAAAAAAAAAAAAAAAAAAAAAA=",
            "dtype": "f8"
           },
           "y": {
            "bdata": "AAAAAAAAAAAAAAAAAAAAAAAAAAAAAAAAAAAAAAAAAAA=",
            "dtype": "f8"
           },
           "z": {
            "bdata": "AAAAAAAAAACamZmZmZmpvwR4arx0k4g/mze0yHa+rz8=",
            "dtype": "f8"
           }
          }
         ],
         "layout": {
          "annotations": [
           {
            "showarrow": false,
            "text": "Time: 0.37s (Step: 38/100)",
            "x": 0.05,
            "xref": "paper",
            "y": 0.95,
            "yref": "paper"
           }
          ]
         },
         "name": "37"
        },
        {
         "data": [
          {
           "name": "Free Nodes",
           "type": "scatter3d",
           "x": {
            "bdata": "AAAAAAAAAAAAAAAAAAAAAAAAAAAAAAAAAAAAAAAAAAA=",
            "dtype": "f8"
           },
           "y": {
            "bdata": "AAAAAAAAAAAAAAAAAAAAAAAAAAAAAAAAAAAAAAAAAAA=",
            "dtype": "f8"
           },
           "z": {
            "bdata": "AAAAAAAAAACamZmZmZmpv2xCDAIrh4Y/NaocWmQ7rz8=",
            "dtype": "f8"
           }
          },
          {
           "name": "Fixed Nodes",
           "type": "scatter3d",
           "x": [],
           "y": [],
           "z": []
          },
          {
           "name": "Edges",
           "type": "scatter3d",
           "x": [
            0,
            0,
            null,
            0,
            0,
            null
           ],
           "y": [
            0,
            0,
            null,
            0,
            0,
            null
           ],
           "z": [
            0,
            -0.05,
            null,
            0.010999999999996755,
            0.06099999999999676,
            null
           ]
          },
          {
           "i": [],
           "j": [],
           "k": [],
           "name": "Faces",
           "type": "mesh3d",
           "x": {
            "bdata": "AAAAAAAAAAAAAAAAAAAAAAAAAAAAAAAAAAAAAAAAAAA=",
            "dtype": "f8"
           },
           "y": {
            "bdata": "AAAAAAAAAAAAAAAAAAAAAAAAAAAAAAAAAAAAAAAAAAA=",
            "dtype": "f8"
           },
           "z": {
            "bdata": "AAAAAAAAAACamZmZmZmpv2xCDAIrh4Y/NaocWmQ7rz8=",
            "dtype": "f8"
           }
          }
         ],
         "layout": {
          "annotations": [
           {
            "showarrow": false,
            "text": "Time: 0.38s (Step: 39/100)",
            "x": 0.05,
            "xref": "paper",
            "y": 0.95,
            "yref": "paper"
           }
          ]
         },
         "name": "38"
        },
        {
         "data": [
          {
           "name": "Free Nodes",
           "type": "scatter3d",
           "x": {
            "bdata": "AAAAAAAAAAAAAAAAAAAAAAAAAAAAAAAAAAAAAAAAAAA=",
            "dtype": "f8"
           },
           "y": {
            "bdata": "AAAAAAAAAAAAAAAAAAAAAAAAAAAAAAAAAAAAAAAAAAA=",
            "dtype": "f8"
           },
           "z": {
            "bdata": "AAAAAAAAAACamZmZmZmpv9IMrkfheoQ/zhyF61G4rj8=",
            "dtype": "f8"
           }
          },
          {
           "name": "Fixed Nodes",
           "type": "scatter3d",
           "x": [],
           "y": [],
           "z": []
          },
          {
           "name": "Edges",
           "type": "scatter3d",
           "x": [
            0,
            0,
            null,
            0,
            0,
            null
           ],
           "y": [
            0,
            0,
            null,
            0,
            0,
            null
           ],
           "z": [
            0,
            -0.05,
            null,
            0.009999999999996598,
            0.0599999999999966,
            null
           ]
          },
          {
           "i": [],
           "j": [],
           "k": [],
           "name": "Faces",
           "type": "mesh3d",
           "x": {
            "bdata": "AAAAAAAAAAAAAAAAAAAAAAAAAAAAAAAAAAAAAAAAAAA=",
            "dtype": "f8"
           },
           "y": {
            "bdata": "AAAAAAAAAAAAAAAAAAAAAAAAAAAAAAAAAAAAAAAAAAA=",
            "dtype": "f8"
           },
           "z": {
            "bdata": "AAAAAAAAAACamZmZmZmpv9IMrkfheoQ/zhyF61G4rj8=",
            "dtype": "f8"
           }
          }
         ],
         "layout": {
          "annotations": [
           {
            "showarrow": false,
            "text": "Time: 0.39s (Step: 40/100)",
            "x": 0.05,
            "xref": "paper",
            "y": 0.95,
            "yref": "paper"
           }
          ]
         },
         "name": "39"
        },
        {
         "data": [
          {
           "name": "Free Nodes",
           "type": "scatter3d",
           "x": {
            "bdata": "AAAAAAAAAAAAAAAAAAAAAAAAAAAAAAAAAAAAAAAAAAA=",
            "dtype": "f8"
           },
           "y": {
            "bdata": "AAAAAAAAAAAAAAAAAAAAAAAAAAAAAAAAAAAAAAAAAAA=",
            "dtype": "f8"
           },
           "z": {
            "bdata": "AAAAAAAAAACamZmZmZmpvzXXT42XboI/Z4/tfD81rj8=",
            "dtype": "f8"
           }
          },
          {
           "name": "Fixed Nodes",
           "type": "scatter3d",
           "x": [],
           "y": [],
           "z": []
          },
          {
           "name": "Edges",
           "type": "scatter3d",
           "x": [
            0,
            0,
            null,
            0,
            0,
            null
           ],
           "y": [
            0,
            0,
            null,
            0,
            0,
            null
           ],
           "z": [
            0,
            -0.05,
            null,
            0.008999999999996436,
            0.05899999999999644,
            null
           ]
          },
          {
           "i": [],
           "j": [],
           "k": [],
           "name": "Faces",
           "type": "mesh3d",
           "x": {
            "bdata": "AAAAAAAAAAAAAAAAAAAAAAAAAAAAAAAAAAAAAAAAAAA=",
            "dtype": "f8"
           },
           "y": {
            "bdata": "AAAAAAAAAAAAAAAAAAAAAAAAAAAAAAAAAAAAAAAAAAA=",
            "dtype": "f8"
           },
           "z": {
            "bdata": "AAAAAAAAAACamZmZmZmpvzXXT42XboI/Z4/tfD81rj8=",
            "dtype": "f8"
           }
          }
         ],
         "layout": {
          "annotations": [
           {
            "showarrow": false,
            "text": "Time: 0.40s (Step: 41/100)",
            "x": 0.05,
            "xref": "paper",
            "y": 0.95,
            "yref": "paper"
           }
          ]
         },
         "name": "40"
        },
        {
         "data": [
          {
           "name": "Free Nodes",
           "type": "scatter3d",
           "x": {
            "bdata": "AAAAAAAAAAAAAAAAAAAAAAAAAAAAAAAAAAAAAAAAAAA=",
            "dtype": "f8"
           },
           "y": {
            "bdata": "AAAAAAAAAAAAAAAAAAAAAAAAAAAAAAAAAAAAAAAAAAA=",
            "dtype": "f8"
           },
           "z": {
            "bdata": "AAAAAAAAAACamZmZmZmpv5ah8dJNYoA//wFWDi2yrT8=",
            "dtype": "f8"
           }
          },
          {
           "name": "Fixed Nodes",
           "type": "scatter3d",
           "x": [],
           "y": [],
           "z": []
          },
          {
           "name": "Edges",
           "type": "scatter3d",
           "x": [
            0,
            0,
            null,
            0,
            0,
            null
           ],
           "y": [
            0,
            0,
            null,
            0,
            0,
            null
           ],
           "z": [
            0,
            -0.05,
            null,
            0.00799999999999627,
            0.05799999999999627,
            null
           ]
          },
          {
           "i": [],
           "j": [],
           "k": [],
           "name": "Faces",
           "type": "mesh3d",
           "x": {
            "bdata": "AAAAAAAAAAAAAAAAAAAAAAAAAAAAAAAAAAAAAAAAAAA=",
            "dtype": "f8"
           },
           "y": {
            "bdata": "AAAAAAAAAAAAAAAAAAAAAAAAAAAAAAAAAAAAAAAAAAA=",
            "dtype": "f8"
           },
           "z": {
            "bdata": "AAAAAAAAAACamZmZmZmpv5ah8dJNYoA//wFWDi2yrT8=",
            "dtype": "f8"
           }
          }
         ],
         "layout": {
          "annotations": [
           {
            "showarrow": false,
            "text": "Time: 0.41s (Step: 42/100)",
            "x": 0.05,
            "xref": "paper",
            "y": 0.95,
            "yref": "paper"
           }
          ]
         },
         "name": "41"
        },
        {
         "data": [
          {
           "name": "Free Nodes",
           "type": "scatter3d",
           "x": {
            "bdata": "AAAAAAAAAAAAAAAAAAAAAAAAAAAAAAAAAAAAAAAAAAA=",
            "dtype": "f8"
           },
           "y": {
            "bdata": "AAAAAAAAAAAAAAAAAAAAAAAAAAAAAAAAAAAAAAAAAAA=",
            "dtype": "f8"
           },
           "z": {
            "bdata": "AAAAAAAAAACamZmZmZmpv+jXJjEIrHw/l3S+nxovrT8=",
            "dtype": "f8"
           }
          },
          {
           "name": "Fixed Nodes",
           "type": "scatter3d",
           "x": [],
           "y": [],
           "z": []
          },
          {
           "name": "Edges",
           "type": "scatter3d",
           "x": [
            0,
            0,
            null,
            0,
            0,
            null
           ],
           "y": [
            0,
            0,
            null,
            0,
            0,
            null
           ],
           "z": [
            0,
            -0.05,
            null,
            0.0069999999999961,
            0.0569999999999961,
            null
           ]
          },
          {
           "i": [],
           "j": [],
           "k": [],
           "name": "Faces",
           "type": "mesh3d",
           "x": {
            "bdata": "AAAAAAAAAAAAAAAAAAAAAAAAAAAAAAAAAAAAAAAAAAA=",
            "dtype": "f8"
           },
           "y": {
            "bdata": "AAAAAAAAAAAAAAAAAAAAAAAAAAAAAAAAAAAAAAAAAAA=",
            "dtype": "f8"
           },
           "z": {
            "bdata": "AAAAAAAAAACamZmZmZmpv+jXJjEIrHw/l3S+nxovrT8=",
            "dtype": "f8"
           }
          }
         ],
         "layout": {
          "annotations": [
           {
            "showarrow": false,
            "text": "Time: 0.42s (Step: 43/100)",
            "x": 0.05,
            "xref": "paper",
            "y": 0.95,
            "yref": "paper"
           }
          ]
         },
         "name": "42"
        },
        {
         "data": [
          {
           "name": "Free Nodes",
           "type": "scatter3d",
           "x": {
            "bdata": "AAAAAAAAAAAAAAAAAAAAAAAAAAAAAAAAAAAAAAAAAAA=",
            "dtype": "f8"
           },
           "y": {
            "bdata": "AAAAAAAAAAAAAAAAAAAAAAAAAAAAAAAAAAAAAAAAAAA=",
            "dtype": "f8"
           },
           "z": {
            "bdata": "AAAAAAAAAACamZmZmZmpv6Fsarx0k3g/LucmMQisrD8=",
            "dtype": "f8"
           }
          },
          {
           "name": "Fixed Nodes",
           "type": "scatter3d",
           "x": [],
           "y": [],
           "z": []
          },
          {
           "name": "Edges",
           "type": "scatter3d",
           "x": [
            0,
            0,
            null,
            0,
            0,
            null
           ],
           "y": [
            0,
            0,
            null,
            0,
            0,
            null
           ],
           "z": [
            0,
            -0.05,
            null,
            0.005999999999995926,
            0.05599999999999593,
            null
           ]
          },
          {
           "i": [],
           "j": [],
           "k": [],
           "name": "Faces",
           "type": "mesh3d",
           "x": {
            "bdata": "AAAAAAAAAAAAAAAAAAAAAAAAAAAAAAAAAAAAAAAAAAA=",
            "dtype": "f8"
           },
           "y": {
            "bdata": "AAAAAAAAAAAAAAAAAAAAAAAAAAAAAAAAAAAAAAAAAAA=",
            "dtype": "f8"
           },
           "z": {
            "bdata": "AAAAAAAAAACamZmZmZmpv6Fsarx0k3g/LucmMQisrD8=",
            "dtype": "f8"
           }
          }
         ],
         "layout": {
          "annotations": [
           {
            "showarrow": false,
            "text": "Time: 0.43s (Step: 44/100)",
            "x": 0.05,
            "xref": "paper",
            "y": 0.95,
            "yref": "paper"
           }
          ]
         },
         "name": "43"
        },
        {
         "data": [
          {
           "name": "Free Nodes",
           "type": "scatter3d",
           "x": {
            "bdata": "AAAAAAAAAAAAAAAAAAAAAAAAAAAAAAAAAAAAAAAAAAA=",
            "dtype": "f8"
           },
           "y": {
            "bdata": "AAAAAAAAAAAAAAAAAAAAAAAAAAAAAAAAAAAAAAAAAAA=",
            "dtype": "f8"
           },
           "z": {
            "bdata": "AAAAAAAAAACamZmZmZmpv1UBrkfhenQ/xFmPwvUorD8=",
            "dtype": "f8"
           }
          },
          {
           "name": "Fixed Nodes",
           "type": "scatter3d",
           "x": [],
           "y": [],
           "z": []
          },
          {
           "name": "Edges",
           "type": "scatter3d",
           "x": [
            0,
            0,
            null,
            0,
            0,
            null
           ],
           "y": [
            0,
            0,
            null,
            0,
            0,
            null
           ],
           "z": [
            0,
            -0.05,
            null,
            0.004999999999995748,
            0.05499999999999575,
            null
           ]
          },
          {
           "i": [],
           "j": [],
           "k": [],
           "name": "Faces",
           "type": "mesh3d",
           "x": {
            "bdata": "AAAAAAAAAAAAAAAAAAAAAAAAAAAAAAAAAAAAAAAAAAA=",
            "dtype": "f8"
           },
           "y": {
            "bdata": "AAAAAAAAAAAAAAAAAAAAAAAAAAAAAAAAAAAAAAAAAAA=",
            "dtype": "f8"
           },
           "z": {
            "bdata": "AAAAAAAAAACamZmZmZmpv1UBrkfhenQ/xFmPwvUorD8=",
            "dtype": "f8"
           }
          }
         ],
         "layout": {
          "annotations": [
           {
            "showarrow": false,
            "text": "Time: 0.44s (Step: 45/100)",
            "x": 0.05,
            "xref": "paper",
            "y": 0.95,
            "yref": "paper"
           }
          ]
         },
         "name": "44"
        },
        {
         "data": [
          {
           "name": "Free Nodes",
           "type": "scatter3d",
           "x": {
            "bdata": "AAAAAAAAAAAAAAAAAAAAAAAAAAAAAAAAAAAAAAAAAAA=",
            "dtype": "f8"
           },
           "y": {
            "bdata": "AAAAAAAAAAAAAAAAAAAAAAAAAAAAAAAAAAAAAAAAAAA=",
            "dtype": "f8"
           },
           "z": {
            "bdata": "uI9V0ACe7L43JhMRYJupv9TAWdOccHA/+Vhxy6mnqz8=",
            "dtype": "f8"
           }
          },
          {
           "name": "Fixed Nodes",
           "type": "scatter3d",
           "x": [],
           "y": [],
           "z": []
          },
          {
           "name": "Edges",
           "type": "scatter3d",
           "x": [
            0,
            0,
            null,
            0,
            0,
            null
           ],
           "y": [
            0,
            0,
            null,
            0,
            0,
            null
           ],
           "z": [
            -0.000013645744284480777,
            -0.05001354416306152,
            null,
            0.004013645744280054,
            0.0540135441630571,
            null
           ]
          },
          {
           "i": [],
           "j": [],
           "k": [],
           "name": "Faces",
           "type": "mesh3d",
           "x": {
            "bdata": "AAAAAAAAAAAAAAAAAAAAAAAAAAAAAAAAAAAAAAAAAAA=",
            "dtype": "f8"
           },
           "y": {
            "bdata": "AAAAAAAAAAAAAAAAAAAAAAAAAAAAAAAAAAAAAAAAAAA=",
            "dtype": "f8"
           },
           "z": {
            "bdata": "uI9V0ACe7L43JhMRYJupv9TAWdOccHA/+Vhxy6mnqz8=",
            "dtype": "f8"
           }
          }
         ],
         "layout": {
          "annotations": [
           {
            "showarrow": false,
            "text": "Time: 0.45s (Step: 46/100)",
            "x": 0.05,
            "xref": "paper",
            "y": 0.95,
            "yref": "paper"
           }
          ]
         },
         "name": "45"
        },
        {
         "data": [
          {
           "name": "Free Nodes",
           "type": "scatter3d",
           "x": {
            "bdata": "AAAAAAAAAAAAAAAAAAAAAAAAAAAAAAAAAAAAAAAAAAA=",
            "dtype": "f8"
           },
           "y": {
            "bdata": "AAAAAAAAAAAAAAAAAAAAAAAAAAAAAAAAAAAAAAAAAAA=",
            "dtype": "f8"
           },
           "z": {
            "bdata": "k9oDeHWAQb+xiN3JHN+pv0JMaxqS82w/Cy6kFVRoqz8=",
            "dtype": "f8"
           }
          },
          {
           "name": "Fixed Nodes",
           "type": "scatter3d",
           "x": [],
           "y": [],
           "z": []
          },
          {
           "name": "Edges",
           "type": "scatter3d",
           "x": [
            0,
            0,
            null,
            0,
            0,
            null
           ],
           "y": [
            0,
            0,
            null,
            0,
            0,
            null
           ],
           "z": [
            -0.0005341123178642264,
            -0.05053033794571727,
            null,
            0.0035341123178596343,
            0.05353033794571268,
            null
           ]
          },
          {
           "i": [],
           "j": [],
           "k": [],
           "name": "Faces",
           "type": "mesh3d",
           "x": {
            "bdata": "AAAAAAAAAAAAAAAAAAAAAAAAAAAAAAAAAAAAAAAAAAA=",
            "dtype": "f8"
           },
           "y": {
            "bdata": "AAAAAAAAAAAAAAAAAAAAAAAAAAAAAAAAAAAAAAAAAAA=",
            "dtype": "f8"
           },
           "z": {
            "bdata": "k9oDeHWAQb+xiN3JHN+pv0JMaxqS82w/Cy6kFVRoqz8=",
            "dtype": "f8"
           }
          }
         ],
         "layout": {
          "annotations": [
           {
            "showarrow": false,
            "text": "Time: 0.46s (Step: 47/100)",
            "x": 0.05,
            "xref": "paper",
            "y": 0.95,
            "yref": "paper"
           }
          ]
         },
         "name": "46"
        },
        {
         "data": [
          {
           "name": "Free Nodes",
           "type": "scatter3d",
           "x": {
            "bdata": "AAAAAAAAAAAAAAAAAAAAAAAAAAAAAAAAAAAAAAAAAAA=",
            "dtype": "f8"
           },
           "y": {
            "bdata": "AAAAAAAAAAAAAAAAAAAAAAAAAAAAAAAAAAAAAAAAAAA=",
            "dtype": "f8"
           },
           "z": {
            "bdata": "5mxIsIc8Ub+5tfGdfCOqv5W1FauRAGk/q80ge6Epqz8=",
            "dtype": "f8"
           }
          },
          {
           "name": "Fixed Nodes",
           "type": "scatter3d",
           "x": [],
           "y": [],
           "z": []
          },
          {
           "name": "Edges",
           "type": "scatter3d",
           "x": [
            0,
            0,
            null,
            0,
            0,
            null
           ],
           "y": [
            0,
            0,
            null,
            0,
            0,
            null
           ],
           "z": [
            -0.0010520291408571635,
            -0.05105199268369227,
            null,
            0.003052029140852406,
            0.05305199268368751,
            null
           ]
          },
          {
           "i": [],
           "j": [],
           "k": [],
           "name": "Faces",
           "type": "mesh3d",
           "x": {
            "bdata": "AAAAAAAAAAAAAAAAAAAAAAAAAAAAAAAAAAAAAAAAAAA=",
            "dtype": "f8"
           },
           "y": {
            "bdata": "AAAAAAAAAAAAAAAAAAAAAAAAAAAAAAAAAAAAAAAAAAA=",
            "dtype": "f8"
           },
           "z": {
            "bdata": "5mxIsIc8Ub+5tfGdfCOqv5W1FauRAGk/q80ge6Epqz8=",
            "dtype": "f8"
           }
          }
         ],
         "layout": {
          "annotations": [
           {
            "showarrow": false,
            "text": "Time: 0.47s (Step: 48/100)",
            "x": 0.05,
            "xref": "paper",
            "y": 0.95,
            "yref": "paper"
           }
          ]
         },
         "name": "47"
        },
        {
         "data": [
          {
           "name": "Free Nodes",
           "type": "scatter3d",
           "x": {
            "bdata": "AAAAAAAAAAAAAAAAAAAAAAAAAAAAAAAAAAAAAAAAAAA=",
            "dtype": "f8"
           },
           "y": {
            "bdata": "AAAAAAAAAAAAAAAAAAAAAAAAAAAAAAAAAAAAAAAAAAA=",
            "dtype": "f8"
           },
           "z": {
            "bdata": "ziah8Ky1Wb+JF+kdSGeqvww8yWH9C2U/E6KAjFrqqj8=",
            "dtype": "f8"
           }
          },
          {
           "name": "Fixed Nodes",
           "type": "scatter3d",
           "x": [],
           "y": [],
           "z": []
          },
          {
           "name": "Edges",
           "type": "scatter3d",
           "x": [
            0,
            0,
            null,
            0,
            0,
            null
           ],
           "y": [
            0,
            0,
            null,
            0,
            0,
            null
           ],
           "z": [
            -0.001569193731955232,
            -0.05156922688597294,
            null,
            0.0025691937319503085,
            0.05256922688596801,
            null
           ]
          },
          {
           "i": [],
           "j": [],
           "k": [],
           "name": "Faces",
           "type": "mesh3d",
           "x": {
            "bdata": "AAAAAAAAAAAAAAAAAAAAAAAAAAAAAAAAAAAAAAAAAAA=",
            "dtype": "f8"
           },
           "y": {
            "bdata": "AAAAAAAAAAAAAAAAAAAAAAAAAAAAAAAAAAAAAAAAAAA=",
            "dtype": "f8"
           },
           "z": {
            "bdata": "ziah8Ky1Wb+JF+kdSGeqvww8yWH9C2U/E6KAjFrqqj8=",
            "dtype": "f8"
           }
          }
         ],
         "layout": {
          "annotations": [
           {
            "showarrow": false,
            "text": "Time: 0.48s (Step: 49/100)",
            "x": 0.05,
            "xref": "paper",
            "y": 0.95,
            "yref": "paper"
           }
          ]
         },
         "name": "48"
        },
        {
         "data": [
          {
           "name": "Free Nodes",
           "type": "scatter3d",
           "x": {
            "bdata": "AAAAAAAAAAAAAAAAAAAAAAAAAAAAAAAAAAAAAAAAAAA=",
            "dtype": "f8"
           },
           "y": {
            "bdata": "AAAAAAAAAAAAAAAAAAAAAAAAAAAAAAAAAAAAAAAAAAA=",
            "dtype": "f8"
           },
           "z": {
            "bdata": "jluJCCsXYb9pzRhYDKuqv6UtiQgrF2E/jMoYWAyrqj8=",
            "dtype": "f8"
           }
          },
          {
           "name": "Fixed Nodes",
           "type": "scatter3d",
           "x": [],
           "y": [],
           "z": []
          },
          {
           "name": "Edges",
           "type": "scatter3d",
           "x": [
            0,
            0,
            null,
            0,
            0,
            null
           ],
           "y": [
            0,
            0,
            null,
            0,
            0,
            null
           ],
           "z": [
            -0.0020862427229916885,
            -0.05208624434853954,
            null,
            0.0020862427229865915,
            0.052086244348534455,
            null
           ]
          },
          {
           "i": [],
           "j": [],
           "k": [],
           "name": "Faces",
           "type": "mesh3d",
           "x": {
            "bdata": "AAAAAAAAAAAAAAAAAAAAAAAAAAAAAAAAAAAAAAAAAAA=",
            "dtype": "f8"
           },
           "y": {
            "bdata": "AAAAAAAAAAAAAAAAAAAAAAAAAAAAAAAAAAAAAAAAAAA=",
            "dtype": "f8"
           },
           "z": {
            "bdata": "jluJCCsXYb9pzRhYDKuqv6UtiQgrF2E/jMoYWAyrqj8=",
            "dtype": "f8"
           }
          }
         ],
         "layout": {
          "annotations": [
           {
            "showarrow": false,
            "text": "Time: 0.49s (Step: 50/100)",
            "x": 0.05,
            "xref": "paper",
            "y": 0.95,
            "yref": "paper"
           }
          ]
         },
         "name": "49"
        },
        {
         "data": [
          {
           "name": "Free Nodes",
           "type": "scatter3d",
           "x": {
            "bdata": "AAAAAAAAAAAAAAAAAAAAAAAAAAAAAAAAAAAAAAAAAAA=",
            "dtype": "f8"
           },
           "y": {
            "bdata": "AAAAAAAAAAAAAAAAAAAAAAAAAAAAAAAAAAAAAAAAAAA=",
            "dtype": "f8"
           },
           "z": {
            "bdata": "F4ah39tUZb+wxC4s5+6qv2EDUexpR1o/azSXvdRrqj8=",
            "dtype": "f8"
           }
          },
          {
           "name": "Fixed Nodes",
           "type": "scatter3d",
           "x": [],
           "y": [],
           "z": []
          },
          {
           "name": "Edges",
           "type": "scatter3d",
           "x": [
            0,
            0,
            null,
            0,
            0,
            null
           ],
           "y": [
            0,
            0,
            null,
            0,
            0,
            null
           ],
           "z": [
            -0.0026039404302060742,
            -0.05260393537845098,
            null,
            0.0016039404302008108,
            0.05160393537844573,
            null
           ]
          },
          {
           "i": [],
           "j": [],
           "k": [],
           "name": "Faces",
           "type": "mesh3d",
           "x": {
            "bdata": "AAAAAAAAAAAAAAAAAAAAAAAAAAAAAAAAAAAAAAAAAAA=",
            "dtype": "f8"
           },
           "y": {
            "bdata": "AAAAAAAAAAAAAAAAAAAAAAAAAAAAAAAAAAAAAAAAAAA=",
            "dtype": "f8"
           },
           "z": {
            "bdata": "F4ah39tUZb+wxC4s5+6qv2EDUexpR1o/azSXvdRrqj8=",
            "dtype": "f8"
           }
          }
         ],
         "layout": {
          "annotations": [
           {
            "showarrow": false,
            "text": "Time: 0.50s (Step: 51/100)",
            "x": 0.05,
            "xref": "paper",
            "y": 0.95,
            "yref": "paper"
           }
          ]
         },
         "name": "50"
        },
        {
         "data": [
          {
           "name": "Free Nodes",
           "type": "scatter3d",
           "x": {
            "bdata": "AAAAAAAAAAAAAAAAAAAAAAAAAAAAAAAAAAAAAAAAAAA=",
            "dtype": "f8"
           },
           "y": {
            "bdata": "AAAAAAAAAAAAAAAAAAAAAAAAAAAAAAAAAAAAAAAAAAA=",
            "dtype": "f8"
           },
           "z": {
            "bdata": "Z+F8r5STab9tjmDE0jKrvwMNFrmNYlI/wHAx560sqj8=",
            "dtype": "f8"
           }
          },
          {
           "name": "Fixed Nodes",
           "type": "scatter3d",
           "x": [],
           "y": [],
           "z": []
          },
          {
           "name": "Edges",
           "type": "scatter3d",
           "x": [
            0,
            0,
            null,
            0,
            0,
            null
           ],
           "y": [
            0,
            0,
            null,
            0,
            0,
            null
           ],
           "z": [
            -0.0031221298230798447,
            -0.05312212607557574,
            null,
            0.0011221298230744143,
            0.05112212607557032,
            null
           ]
          },
          {
           "i": [],
           "j": [],
           "k": [],
           "name": "Faces",
           "type": "mesh3d",
           "x": {
            "bdata": "AAAAAAAAAAAAAAAAAAAAAAAAAAAAAAAAAAAAAAAAAAA=",
            "dtype": "f8"
           },
           "y": {
            "bdata": "AAAAAAAAAAAAAAAAAAAAAAAAAAAAAAAAAAAAAAAAAAA=",
            "dtype": "f8"
           },
           "z": {
            "bdata": "Z+F8r5STab9tjmDE0jKrvwMNFrmNYlI/wHAx560sqj8=",
            "dtype": "f8"
           }
          }
         ],
         "layout": {
          "annotations": [
           {
            "showarrow": false,
            "text": "Time: 0.51s (Step: 52/100)",
            "x": 0.05,
            "xref": "paper",
            "y": 0.95,
            "yref": "paper"
           }
          ]
         },
         "name": "51"
        },
        {
         "data": [
          {
           "name": "Free Nodes",
           "type": "scatter3d",
           "x": {
            "bdata": "AAAAAAAAAAAAAAAAAAAAAAAAAAAAAAAAAAAAAAAAAAA=",
            "dtype": "f8"
           },
           "y": {
            "bdata": "AAAAAAAAAAAAAAAAAAAAAAAAAAAAAAAAAAAAAAAAAAA=",
            "dtype": "f8"
           },
           "z": {
            "bdata": "c25f0nDSbb/Ce2KiwHarv1X00lfw+0Q/rNCbVontqT8=",
            "dtype": "f8"
           }
          },
          {
           "name": "Fixed Nodes",
           "type": "scatter3d",
           "x": [],
           "y": [],
           "z": []
          },
          {
           "name": "Edges",
           "type": "scatter3d",
           "x": [
            0,
            0,
            null,
            0,
            0,
            null
           ],
           "y": [
            0,
            0,
            null,
            0,
            0,
            null
           ],
           "z": [
            -0.003640385012642794,
            -0.05364038450465315,
            null,
            0.0006403850126371994,
            0.050640384504647556,
            null
           ]
          },
          {
           "i": [],
           "j": [],
           "k": [],
           "name": "Faces",
           "type": "mesh3d",
           "x": {
            "bdata": "AAAAAAAAAAAAAAAAAAAAAAAAAAAAAAAAAAAAAAAAAAA=",
            "dtype": "f8"
           },
           "y": {
            "bdata": "AAAAAAAAAAAAAAAAAAAAAAAAAAAAAAAAAAAAAAAAAAA=",
            "dtype": "f8"
           },
           "z": {
            "bdata": "c25f0nDSbb/Ce2KiwHarv1X00lfw+0Q/rNCbVontqT8=",
            "dtype": "f8"
           }
          }
         ],
         "layout": {
          "annotations": [
           {
            "showarrow": false,
            "text": "Time: 0.52s (Step: 53/100)",
            "x": 0.05,
            "xref": "paper",
            "y": 0.95,
            "yref": "paper"
           }
          ]
         },
         "name": "52"
        },
        {
         "data": [
          {
           "name": "Free Nodes",
           "type": "scatter3d",
           "x": {
            "bdata": "AAAAAAAAAAAAAAAAAAAAAAAAAAAAAAAAAAAAAAAAAAA=",
            "dtype": "f8"
           },
           "y": {
            "bdata": "AAAAAAAAAAAAAAAAAAAAAAAAAAAAAAAAAAAAAAAAAAA=",
            "dtype": "f8"
           },
           "z": {
            "bdata": "WhHX3KgIcb931s+0rrqrv+ysqTxhyyQ/+Z1x+mSuqT8=",
            "dtype": "f8"
           }
          },
          {
           "name": "Fixed Nodes",
           "type": "scatter3d",
           "x": [],
           "y": [],
           "z": []
          },
          {
           "name": "Edges",
           "type": "scatter3d",
           "x": [
            0,
            0,
            null,
            0,
            0,
            null
           ],
           "y": [
            0,
            0,
            null,
            0,
            0,
            null
           ],
           "z": [
            -0.00415864908194793,
            -0.054158649036179556,
            null,
            0.0001586490819421646,
            0.05015864903617379,
            null
           ]
          },
          {
           "i": [],
           "j": [],
           "k": [],
           "name": "Faces",
           "type": "mesh3d",
           "x": {
            "bdata": "AAAAAAAAAAAAAAAAAAAAAAAAAAAAAAAAAAAAAAAAAAA=",
            "dtype": "f8"
           },
           "y": {
            "bdata": "AAAAAAAAAAAAAAAAAAAAAAAAAAAAAAAAAAAAAAAAAAA=",
            "dtype": "f8"
           },
           "z": {
            "bdata": "WhHX3KgIcb931s+0rrqrv+ysqTxhyyQ/+Z1x+mSuqT8=",
            "dtype": "f8"
           }
          }
         ],
         "layout": {
          "annotations": [
           {
            "showarrow": false,
            "text": "Time: 0.53s (Step: 54/100)",
            "x": 0.05,
            "xref": "paper",
            "y": 0.95,
            "yref": "paper"
           }
          ]
         },
         "name": "53"
        },
        {
         "data": [
          {
           "name": "Free Nodes",
           "type": "scatter3d",
           "x": {
            "bdata": "AAAAAAAAAAAAAAAAAAAAAAAAAAAAAAAAAAAAAAAAAAA=",
            "dtype": "f8"
           },
           "y": {
            "bdata": "AAAAAAAAAAAAAAAAAAAAAAAAAAAAAAAAAAAAAAAAAAA=",
            "dtype": "f8"
           },
           "z": {
            "bdata": "9/d6mBkoc7/mo57MnP6rv3ZzM/N6LDW//92oo0BvqT8=",
            "dtype": "f8"
           }
          },
          {
           "name": "Fixed Nodes",
           "type": "scatter3d",
           "x": [],
           "y": [],
           "z": []
          },
          {
           "name": "Edges",
           "type": "scatter3d",
           "x": [
            0,
            0,
            null,
            0,
            0,
            null
           ],
           "y": [
            0,
            0,
            null,
            0,
            0,
            null
           ],
           "z": [
            -0.004676914198794783,
            -0.05467691419409686,
            null,
            -0.00032308580121114623,
            0.04967691419409092,
            null
           ]
          },
          {
           "i": [],
           "j": [],
           "k": [],
           "name": "Faces",
           "type": "mesh3d",
           "x": {
            "bdata": "AAAAAAAAAAAAAAAAAAAAAAAAAAAAAAAAAAAAAAAAAAA=",
            "dtype": "f8"
           },
           "y": {
            "bdata": "AAAAAAAAAAAAAAAAAAAAAAAAAAAAAAAAAAAAAAAAAAA=",
            "dtype": "f8"
           },
           "z": {
            "bdata": "9/d6mBkoc7/mo57MnP6rv3ZzM/N6LDW//92oo0BvqT8=",
            "dtype": "f8"
           }
          }
         ],
         "layout": {
          "annotations": [
           {
            "showarrow": false,
            "text": "Time: 0.54s (Step: 55/100)",
            "x": 0.05,
            "xref": "paper",
            "y": 0.95,
            "yref": "paper"
           }
          ]
         },
         "name": "54"
        },
        {
         "data": [
          {
           "name": "Free Nodes",
           "type": "scatter3d",
           "x": {
            "bdata": "AAAAAAAAAAAAAAAAAAAAAAAAAAAAAAAAAAAAAAAAAAA=",
            "dtype": "f8"
           },
           "y": {
            "bdata": "AAAAAAAAAAAAAAAAAAAAAAAAAAAAAAAAAAAAAAAAAAA=",
            "dtype": "f8"
           },
           "z": {
            "bdata": "eqjQW4pHdb/bcRLlikKsv9uPzwRTX0q/jB6FTRwwqT8=",
            "dtype": "f8"
           }
          },
          {
           "name": "Fixed Nodes",
           "type": "scatter3d",
           "x": [],
           "y": [],
           "z": []
          },
          {
           "name": "Edges",
           "type": "scatter3d",
           "x": [
            0,
            0,
            null,
            0,
            0,
            null
           ],
           "y": [
            0,
            0,
            null,
            0,
            0,
            null
           ],
           "z": [
            -0.005195179427611158,
            -0.0551951794270484,
            null,
            -0.0008048205723949446,
            0.049195179427042296,
            null
           ]
          },
          {
           "i": [],
           "j": [],
           "k": [],
           "name": "Faces",
           "type": "mesh3d",
           "x": {
            "bdata": "AAAAAAAAAAAAAAAAAAAAAAAAAAAAAAAAAAAAAAAAAAA=",
            "dtype": "f8"
           },
           "y": {
            "bdata": "AAAAAAAAAAAAAAAAAAAAAAAAAAAAAAAAAAAAAAAAAAA=",
            "dtype": "f8"
           },
           "z": {
            "bdata": "eqjQW4pHdb/bcRLlikKsv9uPzwRTX0q/jB6FTRwwqT8=",
            "dtype": "f8"
           }
          }
         ],
         "layout": {
          "annotations": [
           {
            "showarrow": false,
            "text": "Time: 0.55s (Step: 56/100)",
            "x": 0.05,
            "xref": "paper",
            "y": 0.95,
            "yref": "paper"
           }
          ]
         },
         "name": "55"
        },
        {
         "data": [
          {
           "name": "Free Nodes",
           "type": "scatter3d",
           "x": {
            "bdata": "AAAAAAAAAAAAAAAAAAAAAAAAAAAAAAAAAAAAAAAAAAA=",
            "dtype": "f8"
           },
           "y": {
            "bdata": "AAAAAAAAAAAAAAAAAAAAAAAAAAAAAAAAAAAAAAAAAAA=",
            "dtype": "f8"
           },
           "z": {
            "bdata": "9u6VF/tmd7+4M478eIasvw1bRGY0FFW/AlNp9vfwqD8=",
            "dtype": "f8"
           }
          },
          {
           "name": "Fixed Nodes",
           "type": "scatter3d",
           "x": [],
           "y": [],
           "z": []
          },
          {
           "name": "Edges",
           "type": "scatter3d",
           "x": [
            0,
            0,
            null,
            0,
            0,
            null
           ],
           "y": [
            0,
            0,
            null,
            0,
            0,
            null
           ],
           "z": [
            -0.005713444546355131,
            -0.05571344454720112,
            null,
            -0.001286555453651142,
            0.048713444547194854,
            null
           ]
          },
          {
           "i": [],
           "j": [],
           "k": [],
           "name": "Faces",
           "type": "mesh3d",
           "x": {
            "bdata": "AAAAAAAAAAAAAAAAAAAAAAAAAAAAAAAAAAAAAAAAAAA=",
            "dtype": "f8"
           },
           "y": {
            "bdata": "AAAAAAAAAAAAAAAAAAAAAAAAAAAAAAAAAAAAAAAAAAA=",
            "dtype": "f8"
           },
           "z": {
            "bdata": "9u6VF/tmd7+4M478eIasvw1bRGY0FFW/AlNp9vfwqD8=",
            "dtype": "f8"
           }
          }
         ],
         "layout": {
          "annotations": [
           {
            "showarrow": false,
            "text": "Time: 0.56s (Step: 57/100)",
            "x": 0.05,
            "xref": "paper",
            "y": 0.95,
            "yref": "paper"
           }
          ]
         },
         "name": "56"
        },
        {
         "data": [
          {
           "name": "Free Nodes",
           "type": "scatter3d",
           "x": {
            "bdata": "AAAAAAAAAAAAAAAAAAAAAAAAAAAAAAAAAAAAAAAAAAA=",
            "dtype": "f8"
           },
           "y": {
            "bdata": "AAAAAAAAAAAAAAAAAAAAAAAAAAAAAAAAAAAAAAAAAAA=",
            "dtype": "f8"
           },
           "z": {
            "bdata": "hiST0muGeb9GN+wTZ8qsv8gxQU2/+Fy/KMkvn9OxqD8=",
            "dtype": "f8"
           }
          },
          {
           "name": "Fixed Nodes",
           "type": "scatter3d",
           "x": [],
           "y": [],
           "z": []
          },
          {
           "name": "Edges",
           "type": "scatter3d",
           "x": [
            0,
            0,
            null,
            0,
            0,
            null
           ],
           "y": [
            0,
            0,
            null,
            0,
            0,
            null
           ],
           "z": [
            -0.006231709653726663,
            -0.05623170965382811,
            null,
            -0.0017682903462797762,
            0.048231709653821675,
            null
           ]
          },
          {
           "i": [],
           "j": [],
           "k": [],
           "name": "Faces",
           "type": "mesh3d",
           "x": {
            "bdata": "AAAAAAAAAAAAAAAAAAAAAAAAAAAAAAAAAAAAAAAAAAA=",
            "dtype": "f8"
           },
           "y": {
            "bdata": "AAAAAAAAAAAAAAAAAAAAAAAAAAAAAAAAAAAAAAAAAAA=",
            "dtype": "f8"
           },
           "z": {
            "bdata": "hiST0muGeb9GN+wTZ8qsv8gxQU2/+Fy/KMkvn9OxqD8=",
            "dtype": "f8"
           }
          }
         ],
         "layout": {
          "annotations": [
           {
            "showarrow": false,
            "text": "Time: 0.57s (Step: 58/100)",
            "x": 0.05,
            "xref": "paper",
            "y": 0.95,
            "yref": "paper"
           }
          ]
         },
         "name": "57"
        },
        {
         "data": [
          {
           "name": "Free Nodes",
           "type": "scatter3d",
           "x": {
            "bdata": "AAAAAAAAAAAAAAAAAAAAAAAAAAAAAAAAAAAAAAAAAAA=",
            "dtype": "f8"
           },
           "y": {
            "bdata": "AAAAAAAAAAAAAAAAAAAAAAAAAAAAAAAAAAAAAAAAAAA=",
            "dtype": "f8"
           },
           "z": {
            "bdata": "oChyjdyle78t40crVQ6tvzVnWxqlbmK/pefzR69yqD8=",
            "dtype": "f8"
           }
          },
          {
           "name": "Fixed Nodes",
           "type": "scatter3d",
           "x": [],
           "y": [],
           "z": []
          },
          {
           "name": "Edges",
           "type": "scatter3d",
           "x": [
            0,
            0,
            null,
            0,
            0,
            null
           ],
           "y": [
            0,
            0,
            null,
            0,
            0,
            null
           ],
           "z": [
            -0.00674997475938191,
            -0.0567499747593899,
            null,
            -0.0022500252406246987,
            0.047749974759383286,
            null
           ]
          },
          {
           "i": [],
           "j": [],
           "k": [],
           "name": "Faces",
           "type": "mesh3d",
           "x": {
            "bdata": "AAAAAAAAAAAAAAAAAAAAAAAAAAAAAAAAAAAAAAAAAAA=",
            "dtype": "f8"
           },
           "y": {
            "bdata": "AAAAAAAAAAAAAAAAAAAAAAAAAAAAAAAAAAAAAAAAAAA=",
            "dtype": "f8"
           },
           "z": {
            "bdata": "oChyjdyle78t40crVQ6tvzVnWxqlbmK/pefzR69yqD8=",
            "dtype": "f8"
           }
          }
         ],
         "layout": {
          "annotations": [
           {
            "showarrow": false,
            "text": "Time: 0.58s (Step: 59/100)",
            "x": 0.05,
            "xref": "paper",
            "y": 0.95,
            "yref": "paper"
           }
          ]
         },
         "name": "58"
        },
        {
         "data": [
          {
           "name": "Free Nodes",
           "type": "scatter3d",
           "x": {
            "bdata": "AAAAAAAAAAAAAAAAAAAAAAAAAAAAAAAAAAAAAAAAAAA=",
            "dtype": "f8"
           },
           "y": {
            "bdata": "AAAAAAAAAAAAAAAAAAAAAAAAAAAAAAAAAAAAAAAAAAA=",
            "dtype": "f8"
           },
           "z": {
            "bdata": "rq5NSE3Ffb/oT6NCQ1Ktv7QxHY7qYGa/+Ma38IozqD8=",
            "dtype": "f8"
           }
          },
          {
           "name": "Fixed Nodes",
           "type": "scatter3d",
           "x": [],
           "y": [],
           "z": []
          },
          {
           "name": "Edges",
           "type": "scatter3d",
           "x": [
            0,
            0,
            null,
            0,
            0,
            null
           ],
           "y": [
            0,
            0,
            null,
            0,
            0,
            null
           ],
           "z": [
            -0.007268239864838639,
            -0.057268239864839476,
            null,
            -0.002731760135168149,
            0.047268239864832695,
            null
           ]
          },
          {
           "i": [],
           "j": [],
           "k": [],
           "name": "Faces",
           "type": "mesh3d",
           "x": {
            "bdata": "AAAAAAAAAAAAAAAAAAAAAAAAAAAAAAAAAAAAAAAAAAA=",
            "dtype": "f8"
           },
           "y": {
            "bdata": "AAAAAAAAAAAAAAAAAAAAAAAAAAAAAAAAAAAAAAAAAAA=",
            "dtype": "f8"
           },
           "z": {
            "bdata": "rq5NSE3Ffb/oT6NCQ1Ktv7QxHY7qYGa/+Ma38IozqD8=",
            "dtype": "f8"
           }
          }
         ],
         "layout": {
          "annotations": [
           {
            "showarrow": false,
            "text": "Time: 0.59s (Step: 60/100)",
            "x": 0.05,
            "xref": "paper",
            "y": 0.95,
            "yref": "paper"
           }
          ]
         },
         "name": "59"
        },
        {
         "data": [
          {
           "name": "Free Nodes",
           "type": "scatter3d",
           "x": {
            "bdata": "AAAAAAAAAAAAAAAAAAAAAAAAAAAAAAAAAAAAAAAAAAA=",
            "dtype": "f8"
           },
           "y": {
            "bdata": "AAAAAAAAAAAAAAAAAAAAAAAAAAAAAAAAAAAAAAAAAAA=",
            "dtype": "f8"
           },
           "z": {
            "bdata": "kSYpA77kf79pvv5ZMZatv3gY3wEwU2q/D6h7mWb0pz8=",
            "dtype": "f8"
           }
          },
          {
           "name": "Fixed Nodes",
           "type": "scatter3d",
           "x": [],
           "y": [],
           "z": []
          },
          {
           "name": "Edges",
           "type": "scatter3d",
           "x": [
            0,
            0,
            null,
            0,
            0,
            null
           ],
           "y": [
            0,
            0,
            null,
            0,
            0,
            null
           ],
           "z": [
            -0.007786504970292222,
            -0.0577865049702922,
            null,
            -0.003213495029714738,
            0.04678650497028524,
            null
           ]
          },
          {
           "i": [],
           "j": [],
           "k": [],
           "name": "Faces",
           "type": "mesh3d",
           "x": {
            "bdata": "AAAAAAAAAAAAAAAAAAAAAAAAAAAAAAAAAAAAAAAAAAA=",
            "dtype": "f8"
           },
           "y": {
            "bdata": "AAAAAAAAAAAAAAAAAAAAAAAAAAAAAAAAAAAAAAAAAAA=",
            "dtype": "f8"
           },
           "z": {
            "bdata": "kSYpA77kf79pvv5ZMZatv3gY3wEwU2q/D6h7mWb0pz8=",
            "dtype": "f8"
           }
          }
         ],
         "layout": {
          "annotations": [
           {
            "showarrow": false,
            "text": "Time: 0.60s (Step: 61/100)",
            "x": 0.05,
            "xref": "paper",
            "y": 0.95,
            "yref": "paper"
           }
          ]
         },
         "name": "60"
        },
        {
         "data": [
          {
           "name": "Free Nodes",
           "type": "scatter3d",
           "x": {
            "bdata": "AAAAAAAAAAAAAAAAAAAAAAAAAAAAAAAAAAAAAAAAAAA=",
            "dtype": "f8"
           },
           "y": {
            "bdata": "AAAAAAAAAAAAAAAAAAAAAAAAAAAAAAAAAAAAAAAAAAA=",
            "dtype": "f8"
           },
           "z": {
            "bdata": "QU4CXxcCgb8pLVpxH9qtvzwDoXV1RW6/ZYk/QkK1pz8=",
            "dtype": "f8"
           }
          },
          {
           "name": "Fixed Nodes",
           "type": "scatter3d",
           "x": [],
           "y": [],
           "z": []
          },
          {
           "name": "Edges",
           "type": "scatter3d",
           "x": [
            0,
            0,
            null,
            0,
            0,
            null
           ],
           "y": [
            0,
            0,
            null,
            0,
            0,
            null
           ],
           "z": [
            -0.008304770075745373,
            -0.05830477007574537,
            null,
            -0.003695229924261771,
            0.04630477007573822,
            null
           ]
          },
          {
           "i": [],
           "j": [],
           "k": [],
           "name": "Faces",
           "type": "mesh3d",
           "x": {
            "bdata": "AAAAAAAAAAAAAAAAAAAAAAAAAAAAAAAAAAAAAAAAAAA=",
            "dtype": "f8"
           },
           "y": {
            "bdata": "AAAAAAAAAAAAAAAAAAAAAAAAAAAAAAAAAAAAAAAAAAA=",
            "dtype": "f8"
           },
           "z": {
            "bdata": "QU4CXxcCgb8pLVpxH9qtvzwDoXV1RW6/ZYk/QkK1pz8=",
            "dtype": "f8"
           }
          }
         ],
         "layout": {
          "annotations": [
           {
            "showarrow": false,
            "text": "Time: 0.61s (Step: 62/100)",
            "x": 0.05,
            "xref": "paper",
            "y": 0.95,
            "yref": "paper"
           }
          ]
         },
         "name": "61"
        },
        {
         "data": [
          {
           "name": "Free Nodes",
           "type": "scatter3d",
           "x": {
            "bdata": "AAAAAAAAAAAAAAAAAAAAAAAAAAAAAAAAAAAAAAAAAAA=",
            "dtype": "f8"
           },
           "y": {
            "bdata": "AAAAAAAAAAAAAAAAAAAAAAAAAAAAAAAAAAAAAAAAAAA=",
            "dtype": "f8"
           },
           "z": {
            "bdata": "PQlwvM8Rgr/pm7WIDR6uv/x2sXTdG3G/umoD6x12pz8=",
            "dtype": "f8"
           }
          },
          {
           "name": "Fixed Nodes",
           "type": "scatter3d",
           "x": [],
           "y": [],
           "z": []
          },
          {
           "name": "Edges",
           "type": "scatter3d",
           "x": [
            0,
            0,
            null,
            0,
            0,
            null
           ],
           "y": [
            0,
            0,
            null,
            0,
            0,
            null
           ],
           "z": [
            -0.00882303518119853,
            -0.05882303518119853,
            null,
            -0.0041769648188088,
            0.0458230351811912,
            null
           ]
          },
          {
           "i": [],
           "j": [],
           "k": [],
           "name": "Faces",
           "type": "mesh3d",
           "x": {
            "bdata": "AAAAAAAAAAAAAAAAAAAAAAAAAAAAAAAAAAAAAAAAAAA=",
            "dtype": "f8"
           },
           "y": {
            "bdata": "AAAAAAAAAAAAAAAAAAAAAAAAAAAAAAAAAAAAAAAAAAA=",
            "dtype": "f8"
           },
           "z": {
            "bdata": "PQlwvM8Rgr/pm7WIDR6uv/x2sXTdG3G/umoD6x12pz8=",
            "dtype": "f8"
           }
          }
         ],
         "layout": {
          "annotations": [
           {
            "showarrow": false,
            "text": "Time: 0.62s (Step: 63/100)",
            "x": 0.05,
            "xref": "paper",
            "y": 0.95,
            "yref": "paper"
           }
          ]
         },
         "name": "62"
        },
        {
         "data": [
          {
           "name": "Free Nodes",
           "type": "scatter3d",
           "x": {
            "bdata": "AAAAAAAAAAAAAAAAAAAAAAAAAAAAAAAAAAAAAAAAAAA=",
            "dtype": "f8"
           },
           "y": {
            "bdata": "AAAAAAAAAAAAAAAAAAAAAAAAAAAAAAAAAAAAAAAAAAA=",
            "dtype": "f8"
           },
           "z": {
            "bdata": "PMTdGYghg7+pChGg+2Guv1lski4AFXO/DkzHk/k2pz8=",
            "dtype": "f8"
           }
          },
          {
           "name": "Fixed Nodes",
           "type": "scatter3d",
           "x": [],
           "y": [],
           "z": []
          },
          {
           "name": "Edges",
           "type": "scatter3d",
           "x": [
            0,
            0,
            null,
            0,
            0,
            null
           ],
           "y": [
            0,
            0,
            null,
            0,
            0,
            null
           ],
           "z": [
            -0.009341300286651692,
            -0.059341300286651695,
            null,
            -0.004658699713355829,
            0.04534130028664417,
            null
           ]
          },
          {
           "i": [],
           "j": [],
           "k": [],
           "name": "Faces",
           "type": "mesh3d",
           "x": {
            "bdata": "AAAAAAAAAAAAAAAAAAAAAAAAAAAAAAAAAAAAAAAAAAA=",
            "dtype": "f8"
           },
           "y": {
            "bdata": "AAAAAAAAAAAAAAAAAAAAAAAAAAAAAAAAAAAAAAAAAAA=",
            "dtype": "f8"
           },
           "z": {
            "bdata": "PMTdGYghg7+pChGg+2Guv1lski4AFXO/DkzHk/k2pz8=",
            "dtype": "f8"
           }
          }
         ],
         "layout": {
          "annotations": [
           {
            "showarrow": false,
            "text": "Time: 0.63s (Step: 64/100)",
            "x": 0.05,
            "xref": "paper",
            "y": 0.95,
            "yref": "paper"
           }
          ]
         },
         "name": "63"
        },
        {
         "data": [
          {
           "name": "Free Nodes",
           "type": "scatter3d",
           "x": {
            "bdata": "AAAAAAAAAAAAAAAAAAAAAAAAAAAAAAAAAAAAAAAAAAA=",
            "dtype": "f8"
           },
           "y": {
            "bdata": "AAAAAAAAAAAAAAAAAAAAAAAAAAAAAAAAAAAAAAAAAAA=",
            "dtype": "f8"
           },
           "z": {
            "bdata": "PX9Ld0AxhL9peWy36aWuv71hc+giDnW/Yi2LPNX3pj8=",
            "dtype": "f8"
           }
          },
          {
           "name": "Fixed Nodes",
           "type": "scatter3d",
           "x": [],
           "y": [],
           "z": []
          },
          {
           "name": "Edges",
           "type": "scatter3d",
           "x": [
            0,
            0,
            null,
            0,
            0,
            null
           ],
           "y": [
            0,
            0,
            null,
            0,
            0,
            null
           ],
           "z": [
            -0.009859565392104858,
            -0.05985956539210486,
            null,
            -0.005140434607902864,
            0.04485956539209714,
            null
           ]
          },
          {
           "i": [],
           "j": [],
           "k": [],
           "name": "Faces",
           "type": "mesh3d",
           "x": {
            "bdata": "AAAAAAAAAAAAAAAAAAAAAAAAAAAAAAAAAAAAAAAAAAA=",
            "dtype": "f8"
           },
           "y": {
            "bdata": "AAAAAAAAAAAAAAAAAAAAAAAAAAAAAAAAAAAAAAAAAAA=",
            "dtype": "f8"
           },
           "z": {
            "bdata": "PX9Ld0AxhL9peWy36aWuv71hc+giDnW/Yi2LPNX3pj8=",
            "dtype": "f8"
           }
          }
         ],
         "layout": {
          "annotations": [
           {
            "showarrow": false,
            "text": "Time: 0.64s (Step: 65/100)",
            "x": 0.05,
            "xref": "paper",
            "y": 0.95,
            "yref": "paper"
           }
          ]
         },
         "name": "64"
        },
        {
         "data": [
          {
           "name": "Free Nodes",
           "type": "scatter3d",
           "x": {
            "bdata": "AAAAAAAAAAAAAAAAAAAAAAAAAAAAAAAAAAAAAAAAAAA=",
            "dtype": "f8"
           },
           "y": {
            "bdata": "AAAAAAAAAAAAAAAAAAAAAAAAAAAAAAAAAAAAAAAAAAA=",
            "dtype": "f8"
           },
           "z": {
            "bdata": "Pzq51PhAhb8p6MfO1+muvyFXVKJFB3e/tQ5P5bC4pj8=",
            "dtype": "f8"
           }
          },
          {
           "name": "Fixed Nodes",
           "type": "scatter3d",
           "x": [],
           "y": [],
           "z": []
          },
          {
           "name": "Edges",
           "type": "scatter3d",
           "x": [
            0,
            0,
            null,
            0,
            0,
            null
           ],
           "y": [
            0,
            0,
            null,
            0,
            0,
            null
           ],
           "z": [
            -0.010377830497558025,
            -0.06037783049755802,
            null,
            -0.005622169502449898,
            0.0443778304975501,
            null
           ]
          },
          {
           "i": [],
           "j": [],
           "k": [],
           "name": "Faces",
           "type": "mesh3d",
           "x": {
            "bdata": "AAAAAAAAAAAAAAAAAAAAAAAAAAAAAAAAAAAAAAAAAAA=",
            "dtype": "f8"
           },
           "y": {
            "bdata": "AAAAAAAAAAAAAAAAAAAAAAAAAAAAAAAAAAAAAAAAAAA=",
            "dtype": "f8"
           },
           "z": {
            "bdata": "Pzq51PhAhb8p6MfO1+muvyFXVKJFB3e/tQ5P5bC4pj8=",
            "dtype": "f8"
           }
          }
         ],
         "layout": {
          "annotations": [
           {
            "showarrow": false,
            "text": "Time: 0.65s (Step: 66/100)",
            "x": 0.05,
            "xref": "paper",
            "y": 0.95,
            "yref": "paper"
           }
          ]
         },
         "name": "65"
        },
        {
         "data": [
          {
           "name": "Free Nodes",
           "type": "scatter3d",
           "x": {
            "bdata": "AAAAAAAAAAAAAAAAAAAAAAAAAAAAAAAAAAAAAAAAAAA=",
            "dtype": "f8"
           },
           "y": {
            "bdata": "AAAAAAAAAAAAAAAAAAAAAAAAAAAAAAAAAAAAAAAAAAA=",
            "dtype": "f8"
           },
           "z": {
            "bdata": "QPUmMrFQhr/qViPmxS2vv4xMNVxoAHm/CPASjox5pj8=",
            "dtype": "f8"
           }
          },
          {
           "name": "Fixed Nodes",
           "type": "scatter3d",
           "x": [],
           "y": [],
           "z": []
          },
          {
           "name": "Edges",
           "type": "scatter3d",
           "x": [
            0,
            0,
            null,
            0,
            0,
            null
           ],
           "y": [
            0,
            0,
            null,
            0,
            0,
            null
           ],
           "z": [
            -0.010896095603011191,
            -0.060896095603011194,
            null,
            -0.006103904396996939,
            0.04389609560300306,
            null
           ]
          },
          {
           "i": [],
           "j": [],
           "k": [],
           "name": "Faces",
           "type": "mesh3d",
           "x": {
            "bdata": "AAAAAAAAAAAAAAAAAAAAAAAAAAAAAAAAAAAAAAAAAAA=",
            "dtype": "f8"
           },
           "y": {
            "bdata": "AAAAAAAAAAAAAAAAAAAAAAAAAAAAAAAAAAAAAAAAAAA=",
            "dtype": "f8"
           },
           "z": {
            "bdata": "QPUmMrFQhr/qViPmxS2vv4xMNVxoAHm/CPASjox5pj8=",
            "dtype": "f8"
           }
          }
         ],
         "layout": {
          "annotations": [
           {
            "showarrow": false,
            "text": "Time: 0.66s (Step: 67/100)",
            "x": 0.05,
            "xref": "paper",
            "y": 0.95,
            "yref": "paper"
           }
          ]
         },
         "name": "66"
        },
        {
         "data": [
          {
           "name": "Free Nodes",
           "type": "scatter3d",
           "x": {
            "bdata": "AAAAAAAAAAAAAAAAAAAAAAAAAAAAAAAAAAAAAAAAAAA=",
            "dtype": "f8"
           },
           "y": {
            "bdata": "AAAAAAAAAAAAAAAAAAAAAAAAAAAAAAAAAAAAAAAAAAA=",
            "dtype": "f8"
           },
           "z": {
            "bdata": "RLCUj2lgh7+rxX79s3Gvv/hBFhaL+Xq/W9HWNmg6pj8=",
            "dtype": "f8"
           }
          },
          {
           "name": "Fixed Nodes",
           "type": "scatter3d",
           "x": [],
           "y": [],
           "z": []
          },
          {
           "name": "Edges",
           "type": "scatter3d",
           "x": [
            0,
            0,
            null,
            0,
            0,
            null
           ],
           "y": [
            0,
            0,
            null,
            0,
            0,
            null
           ],
           "z": [
            -0.011414360708464362,
            -0.061414360708464365,
            null,
            -0.006585639291543981,
            0.04341436070845602,
            null
           ]
          },
          {
           "i": [],
           "j": [],
           "k": [],
           "name": "Faces",
           "type": "mesh3d",
           "x": {
            "bdata": "AAAAAAAAAAAAAAAAAAAAAAAAAAAAAAAAAAAAAAAAAAA=",
            "dtype": "f8"
           },
           "y": {
            "bdata": "AAAAAAAAAAAAAAAAAAAAAAAAAAAAAAAAAAAAAAAAAAA=",
            "dtype": "f8"
           },
           "z": {
            "bdata": "RLCUj2lgh7+rxX79s3Gvv/hBFhaL+Xq/W9HWNmg6pj8=",
            "dtype": "f8"
           }
          }
         ],
         "layout": {
          "annotations": [
           {
            "showarrow": false,
            "text": "Time: 0.67s (Step: 68/100)",
            "x": 0.05,
            "xref": "paper",
            "y": 0.95,
            "yref": "paper"
           }
          ]
         },
         "name": "67"
        },
        {
         "data": [
          {
           "name": "Free Nodes",
           "type": "scatter3d",
           "x": {
            "bdata": "AAAAAAAAAAAAAAAAAAAAAAAAAAAAAAAAAAAAAAAAAAA=",
            "dtype": "f8"
           },
           "y": {
            "bdata": "AAAAAAAAAAAAAAAAAAAAAAAAAAAAAAAAAAAAAAAAAAA=",
            "dtype": "f8"
           },
           "z": {
            "bdata": "SWsC7SFwiL9sNNoUorWvv2Q398+t8ny/rbKa30P7pT8=",
            "dtype": "f8"
           }
          },
          {
           "name": "Fixed Nodes",
           "type": "scatter3d",
           "x": [],
           "y": [],
           "z": []
          },
          {
           "name": "Edges",
           "type": "scatter3d",
           "x": [
            0,
            0,
            null,
            0,
            0,
            null
           ],
           "y": [
            0,
            0,
            null,
            0,
            0,
            null
           ],
           "z": [
            -0.011932625813917535,
            -0.061932625813917536,
            null,
            -0.007067374186091022,
            0.04293262581390898,
            null
           ]
          },
          {
           "i": [],
           "j": [],
           "k": [],
           "name": "Faces",
           "type": "mesh3d",
           "x": {
            "bdata": "AAAAAAAAAAAAAAAAAAAAAAAAAAAAAAAAAAAAAAAAAAA=",
            "dtype": "f8"
           },
           "y": {
            "bdata": "AAAAAAAAAAAAAAAAAAAAAAAAAAAAAAAAAAAAAAAAAAA=",
            "dtype": "f8"
           },
           "z": {
            "bdata": "SWsC7SFwiL9sNNoUorWvv2Q398+t8ny/rbKa30P7pT8=",
            "dtype": "f8"
           }
          }
         ],
         "layout": {
          "annotations": [
           {
            "showarrow": false,
            "text": "Time: 0.68s (Step: 69/100)",
            "x": 0.05,
            "xref": "paper",
            "y": 0.95,
            "yref": "paper"
           }
          ]
         },
         "name": "68"
        },
        {
         "data": [
          {
           "name": "Free Nodes",
           "type": "scatter3d",
           "x": {
            "bdata": "AAAAAAAAAAAAAAAAAAAAAAAAAAAAAAAAAAAAAAAAAAA=",
            "dtype": "f8"
           },
           "y": {
            "bdata": "AAAAAAAAAAAAAAAAAAAAAAAAAAAAAAAAAAAAAAAAAAA=",
            "dtype": "f8"
           },
           "z": {
            "bdata": "TyZwStp/ib8tozUskPmvv9Qs2InQ636//5NeiB+8pT8=",
            "dtype": "f8"
           }
          },
          {
           "name": "Fixed Nodes",
           "type": "scatter3d",
           "x": [],
           "y": [],
           "z": []
          },
          {
           "name": "Edges",
           "type": "scatter3d",
           "x": [
            0,
            0,
            null,
            0,
            0,
            null
           ],
           "y": [
            0,
            0,
            null,
            0,
            0,
            null
           ],
           "z": [
            -0.012450890919370709,
            -0.062450890919370707,
            null,
            -0.007549109080638067,
            0.04245089091936193,
            null
           ]
          },
          {
           "i": [],
           "j": [],
           "k": [],
           "name": "Faces",
           "type": "mesh3d",
           "x": {
            "bdata": "AAAAAAAAAAAAAAAAAAAAAAAAAAAAAAAAAAAAAAAAAAA=",
            "dtype": "f8"
           },
           "y": {
            "bdata": "AAAAAAAAAAAAAAAAAAAAAAAAAAAAAAAAAAAAAAAAAAA=",
            "dtype": "f8"
           },
           "z": {
            "bdata": "TyZwStp/ib8tozUskPmvv9Qs2InQ636//5NeiB+8pT8=",
            "dtype": "f8"
           }
          }
         ],
         "layout": {
          "annotations": [
           {
            "showarrow": false,
            "text": "Time: 0.69s (Step: 70/100)",
            "x": 0.05,
            "xref": "paper",
            "y": 0.95,
            "yref": "paper"
           }
          ]
         },
         "name": "69"
        },
        {
         "data": [
          {
           "name": "Free Nodes",
           "type": "scatter3d",
           "x": {
            "bdata": "AAAAAAAAAAAAAAAAAAAAAAAAAAAAAAAAAAAAAAAAAAA=",
            "dtype": "f8"
           },
           "y": {
            "bdata": "AAAAAAAAAAAAAAAAAAAAAAAAAAAAAAAAAAAAAAAAAAA=",
            "dtype": "f8"
           },
           "z": {
            "bdata": "VOHdp5KPir/3iMghvx6wvyOR3KF5coC/UXUiMft8pT8=",
            "dtype": "f8"
           }
          },
          {
           "name": "Fixed Nodes",
           "type": "scatter3d",
           "x": [],
           "y": [],
           "z": []
          },
          {
           "name": "Edges",
           "type": "scatter3d",
           "x": [
            0,
            0,
            null,
            0,
            0,
            null
           ],
           "y": [
            0,
            0,
            null,
            0,
            0,
            null
           ],
           "z": [
            -0.012969156024823882,
            -0.06296915602482388,
            null,
            -0.008030843975185114,
            0.04196915602481489,
            null
           ]
          },
          {
           "i": [],
           "j": [],
           "k": [],
           "name": "Faces",
           "type": "mesh3d",
           "x": {
            "bdata": "AAAAAAAAAAAAAAAAAAAAAAAAAAAAAAAAAAAAAAAAAAA=",
            "dtype": "f8"
           },
           "y": {
            "bdata": "AAAAAAAAAAAAAAAAAAAAAAAAAAAAAAAAAAAAAAAAAAA=",
            "dtype": "f8"
           },
           "z": {
            "bdata": "VOHdp5KPir/3iMghvx6wvyOR3KF5coC/UXUiMft8pT8=",
            "dtype": "f8"
           }
          }
         ],
         "layout": {
          "annotations": [
           {
            "showarrow": false,
            "text": "Time: 0.70s (Step: 71/100)",
            "x": 0.05,
            "xref": "paper",
            "y": 0.95,
            "yref": "paper"
           }
          ]
         },
         "name": "70"
        },
        {
         "data": [
          {
           "name": "Free Nodes",
           "type": "scatter3d",
           "x": {
            "bdata": "AAAAAAAAAAAAAAAAAAAAAAAAAAAAAAAAAAAAAAAAAAA=",
            "dtype": "f8"
           },
           "y": {
            "bdata": "AAAAAAAAAAAAAAAAAAAAAAAAAAAAAAAAAAAAAAAAAAA=",
            "dtype": "f8"
           },
           "z": {
            "bdata": "WJxLBUufi79YQHYttkCwv90Lzf4Kb4G/o1bm2dY9pT8=",
            "dtype": "f8"
           }
          },
          {
           "name": "Fixed Nodes",
           "type": "scatter3d",
           "x": [],
           "y": [],
           "z": []
          },
          {
           "name": "Edges",
           "type": "scatter3d",
           "x": [
            0,
            0,
            null,
            0,
            0,
            null
           ],
           "y": [
            0,
            0,
            null,
            0,
            0,
            null
           ],
           "z": [
            -0.013487421130277052,
            -0.06348742113027706,
            null,
            -0.008512578869732163,
            0.04148742113026784,
            null
           ]
          },
          {
           "i": [],
           "j": [],
           "k": [],
           "name": "Faces",
           "type": "mesh3d",
           "x": {
            "bdata": "AAAAAAAAAAAAAAAAAAAAAAAAAAAAAAAAAAAAAAAAAAA=",
            "dtype": "f8"
           },
           "y": {
            "bdata": "AAAAAAAAAAAAAAAAAAAAAAAAAAAAAAAAAAAAAAAAAAA=",
            "dtype": "f8"
           },
           "z": {
            "bdata": "WJxLBUufi79YQHYttkCwv90Lzf4Kb4G/o1bm2dY9pT8=",
            "dtype": "f8"
           }
          }
         ],
         "layout": {
          "annotations": [
           {
            "showarrow": false,
            "text": "Time: 0.71s (Step: 72/100)",
            "x": 0.05,
            "xref": "paper",
            "y": 0.95,
            "yref": "paper"
           }
          ]
         },
         "name": "71"
        },
        {
         "data": [
          {
           "name": "Free Nodes",
           "type": "scatter3d",
           "x": {
            "bdata": "AAAAAAAAAAAAAAAAAAAAAAAAAAAAAAAAAAAAAAAAAAA=",
            "dtype": "f8"
           },
           "y": {
            "bdata": "AAAAAAAAAAAAAAAAAAAAAAAAAAAAAAAAAAAAAAAAAAA=",
            "dtype": "f8"
           },
           "z": {
            "bdata": "X1e5YgOvjL+59yM5rWKwv5eGvVuca4K/9DeqgrL+pD8=",
            "dtype": "f8"
           }
          },
          {
           "name": "Fixed Nodes",
           "type": "scatter3d",
           "x": [],
           "y": [],
           "z": []
          },
          {
           "name": "Edges",
           "type": "scatter3d",
           "x": [
            0,
            0,
            null,
            0,
            0,
            null
           ],
           "y": [
            0,
            0,
            null,
            0,
            0,
            null
           ],
           "z": [
            -0.014005686235730229,
            -0.06400568623573023,
            null,
            -0.008994313764279211,
            0.04100568623572079,
            null
           ]
          },
          {
           "i": [],
           "j": [],
           "k": [],
           "name": "Faces",
           "type": "mesh3d",
           "x": {
            "bdata": "AAAAAAAAAAAAAAAAAAAAAAAAAAAAAAAAAAAAAAAAAAA=",
            "dtype": "f8"
           },
           "y": {
            "bdata": "AAAAAAAAAAAAAAAAAAAAAAAAAAAAAAAAAAAAAAAAAAA=",
            "dtype": "f8"
           },
           "z": {
            "bdata": "X1e5YgOvjL+59yM5rWKwv5eGvVuca4K/9DeqgrL+pD8=",
            "dtype": "f8"
           }
          }
         ],
         "layout": {
          "annotations": [
           {
            "showarrow": false,
            "text": "Time: 0.72s (Step: 73/100)",
            "x": 0.05,
            "xref": "paper",
            "y": 0.95,
            "yref": "paper"
           }
          ]
         },
         "name": "72"
        },
        {
         "data": [
          {
           "name": "Free Nodes",
           "type": "scatter3d",
           "x": {
            "bdata": "AAAAAAAAAAAAAAAAAAAAAAAAAAAAAAAAAAAAAAAAAAA=",
            "dtype": "f8"
           },
           "y": {
            "bdata": "AAAAAAAAAAAAAAAAAAAAAAAAAAAAAAAAAAAAAAAAAAA=",
            "dtype": "f8"
           },
           "z": {
            "bdata": "aBInwLu+jb8ar9FEpISwv1MBrrgtaIO/RRluK46/pD8=",
            "dtype": "f8"
           }
          },
          {
           "name": "Fixed Nodes",
           "type": "scatter3d",
           "x": [],
           "y": [],
           "z": []
          },
          {
           "name": "Edges",
           "type": "scatter3d",
           "x": [
            0,
            0,
            null,
            0,
            0,
            null
           ],
           "y": [
            0,
            0,
            null,
            0,
            0,
            null
           ],
           "z": [
            -0.014523951341183408,
            -0.06452395134118341,
            null,
            -0.009476048658826263,
            0.04052395134117374,
            null
           ]
          },
          {
           "i": [],
           "j": [],
           "k": [],
           "name": "Faces",
           "type": "mesh3d",
           "x": {
            "bdata": "AAAAAAAAAAAAAAAAAAAAAAAAAAAAAAAAAAAAAAAAAAA=",
            "dtype": "f8"
           },
           "y": {
            "bdata": "AAAAAAAAAAAAAAAAAAAAAAAAAAAAAAAAAAAAAAAAAAA=",
            "dtype": "f8"
           },
           "z": {
            "bdata": "aBInwLu+jb8ar9FEpISwv1MBrrgtaIO/RRluK46/pD8=",
            "dtype": "f8"
           }
          }
         ],
         "layout": {
          "annotations": [
           {
            "showarrow": false,
            "text": "Time: 0.73s (Step: 74/100)",
            "x": 0.05,
            "xref": "paper",
            "y": 0.95,
            "yref": "paper"
           }
          ]
         },
         "name": "73"
        },
        {
         "data": [
          {
           "name": "Free Nodes",
           "type": "scatter3d",
           "x": {
            "bdata": "AAAAAAAAAAAAAAAAAAAAAAAAAAAAAAAAAAAAAAAAAAA=",
            "dtype": "f8"
           },
           "y": {
            "bdata": "AAAAAAAAAAAAAAAAAAAAAAAAAAAAAAAAAAAAAAAAAAA=",
            "dtype": "f8"
           },
           "z": {
            "bdata": "cs2UHXTOjr97Zn9Qm6awvxB8nhW/ZIS/lvox1GmApD8=",
            "dtype": "f8"
           }
          },
          {
           "name": "Fixed Nodes",
           "type": "scatter3d",
           "x": [],
           "y": [],
           "z": []
          },
          {
           "name": "Edges",
           "type": "scatter3d",
           "x": [
            0,
            0,
            null,
            0,
            0,
            null
           ],
           "y": [
            0,
            0,
            null,
            0,
            0,
            null
           ],
           "z": [
            -0.01504221644663659,
            -0.06504221644663659,
            null,
            -0.009957783553373317,
            0.040042216446626686,
            null
           ]
          },
          {
           "i": [],
           "j": [],
           "k": [],
           "name": "Faces",
           "type": "mesh3d",
           "x": {
            "bdata": "AAAAAAAAAAAAAAAAAAAAAAAAAAAAAAAAAAAAAAAAAAA=",
            "dtype": "f8"
           },
           "y": {
            "bdata": "AAAAAAAAAAAAAAAAAAAAAAAAAAAAAAAAAAAAAAAAAAA=",
            "dtype": "f8"
           },
           "z": {
            "bdata": "cs2UHXTOjr97Zn9Qm6awvxB8nhW/ZIS/lvox1GmApD8=",
            "dtype": "f8"
           }
          }
         ],
         "layout": {
          "annotations": [
           {
            "showarrow": false,
            "text": "Time: 0.74s (Step: 75/100)",
            "x": 0.05,
            "xref": "paper",
            "y": 0.95,
            "yref": "paper"
           }
          ]
         },
         "name": "74"
        },
        {
         "data": [
          {
           "name": "Free Nodes",
           "type": "scatter3d",
           "x": {
            "bdata": "AAAAAAAAAAAAAAAAAAAAAAAAAAAAAAAAAAAAAAAAAAA=",
            "dtype": "f8"
           },
           "y": {
            "bdata": "AAAAAAAAAAAAAAAAAAAAAAAAAAAAAAAAAAAAAAAAAAA=",
            "dtype": "f8"
           },
           "z": {
            "bdata": "fIgCeyzej7/cHS1cksiwv872jnJQYYW/59v1fEVBpD8=",
            "dtype": "f8"
           }
          },
          {
           "name": "Fixed Nodes",
           "type": "scatter3d",
           "x": [],
           "y": [],
           "z": []
          },
          {
           "name": "Edges",
           "type": "scatter3d",
           "x": [
            0,
            0,
            null,
            0,
            0,
            null
           ],
           "y": [
            0,
            0,
            null,
            0,
            0,
            null
           ],
           "z": [
            -0.01556048155208977,
            -0.06556048155208977,
            null,
            -0.010439518447920373,
            0.039560481552079634,
            null
           ]
          },
          {
           "i": [],
           "j": [],
           "k": [],
           "name": "Faces",
           "type": "mesh3d",
           "x": {
            "bdata": "AAAAAAAAAAAAAAAAAAAAAAAAAAAAAAAAAAAAAAAAAAA=",
            "dtype": "f8"
           },
           "y": {
            "bdata": "AAAAAAAAAAAAAAAAAAAAAAAAAAAAAAAAAAAAAAAAAAA=",
            "dtype": "f8"
           },
           "z": {
            "bdata": "fIgCeyzej7/cHS1cksiwv872jnJQYYW/59v1fEVBpD8=",
            "dtype": "f8"
           }
          }
         ],
         "layout": {
          "annotations": [
           {
            "showarrow": false,
            "text": "Time: 0.75s (Step: 76/100)",
            "x": 0.05,
            "xref": "paper",
            "y": 0.95,
            "yref": "paper"
           }
          ]
         },
         "name": "75"
        },
        {
         "data": [
          {
           "name": "Free Nodes",
           "type": "scatter3d",
           "x": {
            "bdata": "AAAAAAAAAAAAAAAAAAAAAAAAAAAAAAAAAAAAAAAAAAA=",
            "dtype": "f8"
           },
           "y": {
            "bdata": "AAAAAAAAAAAAAAAAAAAAAAAAAAAAAAAAAAAAAAAAAAA=",
            "dtype": "f8"
           },
           "z": {
            "bdata": "wiE4bPJ2kL891dpnieqwv4xxf8/hXYa/N725JSECpD8=",
            "dtype": "f8"
           }
          },
          {
           "name": "Fixed Nodes",
           "type": "scatter3d",
           "x": [],
           "y": [],
           "z": []
          },
          {
           "name": "Edges",
           "type": "scatter3d",
           "x": [
            0,
            0,
            null,
            0,
            0,
            null
           ],
           "y": [
            0,
            0,
            null,
            0,
            0,
            null
           ],
           "z": [
            -0.01607874665754295,
            -0.06607874665754294,
            null,
            -0.010921253342467428,
            0.039078746657532575,
            null
           ]
          },
          {
           "i": [],
           "j": [],
           "k": [],
           "name": "Faces",
           "type": "mesh3d",
           "x": {
            "bdata": "AAAAAAAAAAAAAAAAAAAAAAAAAAAAAAAAAAAAAAAAAAA=",
            "dtype": "f8"
           },
           "y": {
            "bdata": "AAAAAAAAAAAAAAAAAAAAAAAAAAAAAAAAAAAAAAAAAAA=",
            "dtype": "f8"
           },
           "z": {
            "bdata": "wiE4bPJ2kL891dpnieqwv4xxf8/hXYa/N725JSECpD8=",
            "dtype": "f8"
           }
          }
         ],
         "layout": {
          "annotations": [
           {
            "showarrow": false,
            "text": "Time: 0.76s (Step: 77/100)",
            "x": 0.05,
            "xref": "paper",
            "y": 0.95,
            "yref": "paper"
           }
          ]
         },
         "name": "76"
        },
        {
         "data": [
          {
           "name": "Free Nodes",
           "type": "scatter3d",
           "x": {
            "bdata": "AAAAAAAAAAAAAAAAAAAAAAAAAAAAAAAAAAAAAAAAAAA=",
            "dtype": "f8"
           },
           "y": {
            "bdata": "AAAAAAAAAAAAAAAAAAAAAAAAAAAAAAAAAAAAAAAAAAA=",
            "dtype": "f8"
           },
           "z": {
            "bdata": "Rv/ums7+kL+ejIhzgAyxv0zsbyxzWoe/h559zvzCoz8=",
            "dtype": "f8"
           }
          },
          {
           "name": "Fixed Nodes",
           "type": "scatter3d",
           "x": [],
           "y": [],
           "z": []
          },
          {
           "name": "Edges",
           "type": "scatter3d",
           "x": [
            0,
            0,
            null,
            0,
            0,
            null
           ],
           "y": [
            0,
            0,
            null,
            0,
            0,
            null
           ],
           "z": [
            -0.016597011762996126,
            -0.06659701176299612,
            null,
            -0.011402988237014487,
            0.038597011762985516,
            null
           ]
          },
          {
           "i": [],
           "j": [],
           "k": [],
           "name": "Faces",
           "type": "mesh3d",
           "x": {
            "bdata": "AAAAAAAAAAAAAAAAAAAAAAAAAAAAAAAAAAAAAAAAAAA=",
            "dtype": "f8"
           },
           "y": {
            "bdata": "AAAAAAAAAAAAAAAAAAAAAAAAAAAAAAAAAAAAAAAAAAA=",
            "dtype": "f8"
           },
           "z": {
            "bdata": "Rv/ums7+kL+ejIhzgAyxv0zsbyxzWoe/h559zvzCoz8=",
            "dtype": "f8"
           }
          }
         ],
         "layout": {
          "annotations": [
           {
            "showarrow": false,
            "text": "Time: 0.77s (Step: 78/100)",
            "x": 0.05,
            "xref": "paper",
            "y": 0.95,
            "yref": "paper"
           }
          ]
         },
         "name": "77"
        },
        {
         "data": [
          {
           "name": "Free Nodes",
           "type": "scatter3d",
           "x": {
            "bdata": "AAAAAAAAAAAAAAAAAAAAAAAAAAAAAAAAAAAAAAAAAAA=",
            "dtype": "f8"
           },
           "y": {
            "bdata": "AAAAAAAAAAAAAAAAAAAAAAAAAAAAAAAAAAAAAAAAAAA=",
            "dtype": "f8"
           },
           "z": {
            "bdata": "ytylyaqGkb//QzZ/dy6xvw1nYIkEV4i/139Bd9iDoz8=",
            "dtype": "f8"
           }
          },
          {
           "name": "Fixed Nodes",
           "type": "scatter3d",
           "x": [],
           "y": [],
           "z": []
          },
          {
           "name": "Edges",
           "type": "scatter3d",
           "x": [
            0,
            0,
            null,
            0,
            0,
            null
           ],
           "y": [
            0,
            0,
            null,
            0,
            0,
            null
           ],
           "z": [
            -0.017115276868449304,
            -0.0671152768684493,
            null,
            -0.011884723131561548,
            0.03811527686843846,
            null
           ]
          },
          {
           "i": [],
           "j": [],
           "k": [],
           "name": "Faces",
           "type": "mesh3d",
           "x": {
            "bdata": "AAAAAAAAAAAAAAAAAAAAAAAAAAAAAAAAAAAAAAAAAAA=",
            "dtype": "f8"
           },
           "y": {
            "bdata": "AAAAAAAAAAAAAAAAAAAAAAAAAAAAAAAAAAAAAAAAAAA=",
            "dtype": "f8"
           },
           "z": {
            "bdata": "ytylyaqGkb//QzZ/dy6xvw1nYIkEV4i/139Bd9iDoz8=",
            "dtype": "f8"
           }
          }
         ],
         "layout": {
          "annotations": [
           {
            "showarrow": false,
            "text": "Time: 0.78s (Step: 79/100)",
            "x": 0.05,
            "xref": "paper",
            "y": 0.95,
            "yref": "paper"
           }
          ]
         },
         "name": "78"
        },
        {
         "data": [
          {
           "name": "Free Nodes",
           "type": "scatter3d",
           "x": {
            "bdata": "AAAAAAAAAAAAAAAAAAAAAAAAAAAAAAAAAAAAAAAAAAA=",
            "dtype": "f8"
           },
           "y": {
            "bdata": "AAAAAAAAAAAAAAAAAAAAAAAAAAAAAAAAAAAAAAAAAAA=",
            "dtype": "f8"
           },
           "z": {
            "bdata": "Trpc+IYOkr9g++OKblCxv8/hUOaVU4m/J2EFILREoz8=",
            "dtype": "f8"
           }
          },
          {
           "name": "Fixed Nodes",
           "type": "scatter3d",
           "x": [],
           "y": [],
           "z": []
          },
          {
           "name": "Edges",
           "type": "scatter3d",
           "x": [
            0,
            0,
            null,
            0,
            0,
            null
           ],
           "y": [
            0,
            0,
            null,
            0,
            0,
            null
           ],
           "z": [
            -0.017633541973902482,
            -0.06763354197390248,
            null,
            -0.01236645802610861,
            0.0376335419738914,
            null
           ]
          },
          {
           "i": [],
           "j": [],
           "k": [],
           "name": "Faces",
           "type": "mesh3d",
           "x": {
            "bdata": "AAAAAAAAAAAAAAAAAAAAAAAAAAAAAAAAAAAAAAAAAAA=",
            "dtype": "f8"
           },
           "y": {
            "bdata": "AAAAAAAAAAAAAAAAAAAAAAAAAAAAAAAAAAAAAAAAAAA=",
            "dtype": "f8"
           },
           "z": {
            "bdata": "Trpc+IYOkr9g++OKblCxv8/hUOaVU4m/J2EFILREoz8=",
            "dtype": "f8"
           }
          }
         ],
         "layout": {
          "annotations": [
           {
            "showarrow": false,
            "text": "Time: 0.79s (Step: 80/100)",
            "x": 0.05,
            "xref": "paper",
            "y": 0.95,
            "yref": "paper"
           }
          ]
         },
         "name": "79"
        },
        {
         "data": [
          {
           "name": "Free Nodes",
           "type": "scatter3d",
           "x": {
            "bdata": "AAAAAAAAAAAAAAAAAAAAAAAAAAAAAAAAAAAAAAAAAAA=",
            "dtype": "f8"
           },
           "y": {
            "bdata": "AAAAAAAAAAAAAAAAAAAAAAAAAAAAAAAAAAAAAAAAAAA=",
            "dtype": "f8"
           },
           "z": {
            "bdata": "0pcTJ2OWkr/BspGWZXKxv45cQUMnUIq/dkLJyI8Foz8=",
            "dtype": "f8"
           }
          },
          {
           "name": "Fixed Nodes",
           "type": "scatter3d",
           "x": [],
           "y": [],
           "z": []
          },
          {
           "name": "Edges",
           "type": "scatter3d",
           "x": [
            0,
            0,
            null,
            0,
            0,
            null
           ],
           "y": [
            0,
            0,
            null,
            0,
            0,
            null
           ],
           "z": [
            -0.01815180707935566,
            -0.06815180707935566,
            null,
            -0.012848192920655668,
            0.03715180707934433,
            null
           ]
          },
          {
           "i": [],
           "j": [],
           "k": [],
           "name": "Faces",
           "type": "mesh3d",
           "x": {
            "bdata": "AAAAAAAAAAAAAAAAAAAAAAAAAAAAAAAAAAAAAAAAAAA=",
            "dtype": "f8"
           },
           "y": {
            "bdata": "AAAAAAAAAAAAAAAAAAAAAAAAAAAAAAAAAAAAAAAAAAA=",
            "dtype": "f8"
           },
           "z": {
            "bdata": "0pcTJ2OWkr/BspGWZXKxv45cQUMnUIq/dkLJyI8Foz8=",
            "dtype": "f8"
           }
          }
         ],
         "layout": {
          "annotations": [
           {
            "showarrow": false,
            "text": "Time: 0.80s (Step: 81/100)",
            "x": 0.05,
            "xref": "paper",
            "y": 0.95,
            "yref": "paper"
           }
          ]
         },
         "name": "80"
        },
        {
         "data": [
          {
           "name": "Free Nodes",
           "type": "scatter3d",
           "x": {
            "bdata": "AAAAAAAAAAAAAAAAAAAAAAAAAAAAAAAAAAAAAAAAAAA=",
            "dtype": "f8"
           },
           "y": {
            "bdata": "AAAAAAAAAAAAAAAAAAAAAAAAAAAAAAAAAAAAAAAAAAA=",
            "dtype": "f8"
           },
           "z": {
            "bdata": "VnXKVT8ek78iaj+iXJSxv1HXMaC4TIu/xSONcWvGoj8=",
            "dtype": "f8"
           }
          },
          {
           "name": "Fixed Nodes",
           "type": "scatter3d",
           "x": [],
           "y": [],
           "z": []
          },
          {
           "name": "Edges",
           "type": "scatter3d",
           "x": [
            0,
            0,
            null,
            0,
            0,
            null
           ],
           "y": [
            0,
            0,
            null,
            0,
            0,
            null
           ],
           "z": [
            -0.018670072184808838,
            -0.06867007218480883,
            null,
            -0.013329927815202732,
            0.036670072184797266,
            null
           ]
          },
          {
           "i": [],
           "j": [],
           "k": [],
           "name": "Faces",
           "type": "mesh3d",
           "x": {
            "bdata": "AAAAAAAAAAAAAAAAAAAAAAAAAAAAAAAAAAAAAAAAAAA=",
            "dtype": "f8"
           },
           "y": {
            "bdata": "AAAAAAAAAAAAAAAAAAAAAAAAAAAAAAAAAAAAAAAAAAA=",
            "dtype": "f8"
           },
           "z": {
            "bdata": "VnXKVT8ek78iaj+iXJSxv1HXMaC4TIu/xSONcWvGoj8=",
            "dtype": "f8"
           }
          }
         ],
         "layout": {
          "annotations": [
           {
            "showarrow": false,
            "text": "Time: 0.81s (Step: 82/100)",
            "x": 0.05,
            "xref": "paper",
            "y": 0.95,
            "yref": "paper"
           }
          ]
         },
         "name": "81"
        },
        {
         "data": [
          {
           "name": "Free Nodes",
           "type": "scatter3d",
           "x": {
            "bdata": "AAAAAAAAAAAAAAAAAAAAAAAAAAAAAAAAAAAAAAAAAAA=",
            "dtype": "f8"
           },
           "y": {
            "bdata": "AAAAAAAAAAAAAAAAAAAAAAAAAAAAAAAAAAAAAAAAAAA=",
            "dtype": "f8"
           },
           "z": {
            "bdata": "2lKBhBumk7+DIe2tU7axvxdSIv1JSYy/FAVRGkeHoj8=",
            "dtype": "f8"
           }
          },
          {
           "name": "Fixed Nodes",
           "type": "scatter3d",
           "x": [],
           "y": [],
           "z": []
          },
          {
           "name": "Edges",
           "type": "scatter3d",
           "x": [
            0,
            0,
            null,
            0,
            0,
            null
           ],
           "y": [
            0,
            0,
            null,
            0,
            0,
            null
           ],
           "z": [
            -0.019188337290262016,
            -0.06918833729026201,
            null,
            -0.013811662709749801,
            0.0361883372902502,
            null
           ]
          },
          {
           "i": [],
           "j": [],
           "k": [],
           "name": "Faces",
           "type": "mesh3d",
           "x": {
            "bdata": "AAAAAAAAAAAAAAAAAAAAAAAAAAAAAAAAAAAAAAAAAAA=",
            "dtype": "f8"
           },
           "y": {
            "bdata": "AAAAAAAAAAAAAAAAAAAAAAAAAAAAAAAAAAAAAAAAAAA=",
            "dtype": "f8"
           },
           "z": {
            "bdata": "2lKBhBumk7+DIe2tU7axvxdSIv1JSYy/FAVRGkeHoj8=",
            "dtype": "f8"
           }
          }
         ],
         "layout": {
          "annotations": [
           {
            "showarrow": false,
            "text": "Time: 0.82s (Step: 83/100)",
            "x": 0.05,
            "xref": "paper",
            "y": 0.95,
            "yref": "paper"
           }
          ]
         },
         "name": "82"
        },
        {
         "data": [
          {
           "name": "Free Nodes",
           "type": "scatter3d",
           "x": {
            "bdata": "AAAAAAAAAAAAAAAAAAAAAAAAAAAAAAAAAAAAAAAAAAA=",
            "dtype": "f8"
           },
           "y": {
            "bdata": "AAAAAAAAAAAAAAAAAAAAAAAAAAAAAAAAAAAAAAAAAAA=",
            "dtype": "f8"
           },
           "z": {
            "bdata": "XjA4s/ctlL/k2Jq5Stixv93MElrbRY2/YuYUwyJIoj8=",
            "dtype": "f8"
           }
          },
          {
           "name": "Fixed Nodes",
           "type": "scatter3d",
           "x": [],
           "y": [],
           "z": []
          },
          {
           "name": "Edges",
           "type": "scatter3d",
           "x": [
            0,
            0,
            null,
            0,
            0,
            null
           ],
           "y": [
            0,
            0,
            null,
            0,
            0,
            null
           ],
           "z": [
            -0.019706602395715193,
            -0.06970660239571519,
            null,
            -0.01429339760429687,
            0.03570660239570313,
            null
           ]
          },
          {
           "i": [],
           "j": [],
           "k": [],
           "name": "Faces",
           "type": "mesh3d",
           "x": {
            "bdata": "AAAAAAAAAAAAAAAAAAAAAAAAAAAAAAAAAAAAAAAAAAA=",
            "dtype": "f8"
           },
           "y": {
            "bdata": "AAAAAAAAAAAAAAAAAAAAAAAAAAAAAAAAAAAAAAAAAAA=",
            "dtype": "f8"
           },
           "z": {
            "bdata": "XjA4s/ctlL/k2Jq5Stixv93MElrbRY2/YuYUwyJIoj8=",
            "dtype": "f8"
           }
          }
         ],
         "layout": {
          "annotations": [
           {
            "showarrow": false,
            "text": "Time: 0.83s (Step: 84/100)",
            "x": 0.05,
            "xref": "paper",
            "y": 0.95,
            "yref": "paper"
           }
          ]
         },
         "name": "83"
        },
        {
         "data": [
          {
           "name": "Free Nodes",
           "type": "scatter3d",
           "x": {
            "bdata": "AAAAAAAAAAAAAAAAAAAAAAAAAAAAAAAAAAAAAAAAAAA=",
            "dtype": "f8"
           },
           "y": {
            "bdata": "AAAAAAAAAAAAAAAAAAAAAAAAAAAAAAAAAAAAAAAAAAA=",
            "dtype": "f8"
           },
           "z": {
            "bdata": "4g3v4dO1lL9FkEjFQfqxv6dHA7dsQo6/sMfYa/4Ioj8=",
            "dtype": "f8"
           }
          },
          {
           "name": "Fixed Nodes",
           "type": "scatter3d",
           "x": [],
           "y": [],
           "z": []
          },
          {
           "name": "Edges",
           "type": "scatter3d",
           "x": [
            0,
            0,
            null,
            0,
            0,
            null
           ],
           "y": [
            0,
            0,
            null,
            0,
            0,
            null
           ],
           "z": [
            -0.02022486750116837,
            -0.07022486750116837,
            null,
            -0.014775132498843947,
            0.035224867501156054,
            null
           ]
          },
          {
           "i": [],
           "j": [],
           "k": [],
           "name": "Faces",
           "type": "mesh3d",
           "x": {
            "bdata": "AAAAAAAAAAAAAAAAAAAAAAAAAAAAAAAAAAAAAAAAAAA=",
            "dtype": "f8"
           },
           "y": {
            "bdata": "AAAAAAAAAAAAAAAAAAAAAAAAAAAAAAAAAAAAAAAAAAA=",
            "dtype": "f8"
           },
           "z": {
            "bdata": "4g3v4dO1lL9FkEjFQfqxv6dHA7dsQo6/sMfYa/4Ioj8=",
            "dtype": "f8"
           }
          }
         ],
         "layout": {
          "annotations": [
           {
            "showarrow": false,
            "text": "Time: 0.84s (Step: 85/100)",
            "x": 0.05,
            "xref": "paper",
            "y": 0.95,
            "yref": "paper"
           }
          ]
         },
         "name": "84"
        },
        {
         "data": [
          {
           "name": "Free Nodes",
           "type": "scatter3d",
           "x": {
            "bdata": "AAAAAAAAAAAAAAAAAAAAAAAAAAAAAAAAAAAAAAAAAAA=",
            "dtype": "f8"
           },
           "y": {
            "bdata": "AAAAAAAAAAAAAAAAAAAAAAAAAAAAAAAAAAAAAAAAAAA=",
            "dtype": "f8"
           },
           "z": {
            "bdata": "ZuulELA9lb+mR/bQOByyv3HC8xP+Po+//aicFNrJoT8=",
            "dtype": "f8"
           }
          },
          {
           "name": "Fixed Nodes",
           "type": "scatter3d",
           "x": [],
           "y": [],
           "z": []
          },
          {
           "name": "Edges",
           "type": "scatter3d",
           "x": [
            0,
            0,
            null,
            0,
            0,
            null
           ],
           "y": [
            0,
            0,
            null,
            0,
            0,
            null
           ],
           "z": [
            -0.02074313260662155,
            -0.07074313260662154,
            null,
            -0.015256867393391023,
            0.034743132606608974,
            null
           ]
          },
          {
           "i": [],
           "j": [],
           "k": [],
           "name": "Faces",
           "type": "mesh3d",
           "x": {
            "bdata": "AAAAAAAAAAAAAAAAAAAAAAAAAAAAAAAAAAAAAAAAAAA=",
            "dtype": "f8"
           },
           "y": {
            "bdata": "AAAAAAAAAAAAAAAAAAAAAAAAAAAAAAAAAAAAAAAAAAA=",
            "dtype": "f8"
           },
           "z": {
            "bdata": "ZuulELA9lb+mR/bQOByyv3HC8xP+Po+//aicFNrJoT8=",
            "dtype": "f8"
           }
          }
         ],
         "layout": {
          "annotations": [
           {
            "showarrow": false,
            "text": "Time: 0.85s (Step: 86/100)",
            "x": 0.05,
            "xref": "paper",
            "y": 0.95,
            "yref": "paper"
           }
          ]
         },
         "name": "85"
        },
        {
         "data": [
          {
           "name": "Free Nodes",
           "type": "scatter3d",
           "x": {
            "bdata": "AAAAAAAAAAAAAAAAAAAAAAAAAAAAAAAAAAAAAAAAAAA=",
            "dtype": "f8"
           },
           "y": {
            "bdata": "AAAAAAAAAAAAAAAAAAAAAAAAAAAAAAAAAAAAAAAAAAA=",
            "dtype": "f8"
           },
           "z": {
            "bdata": "6shcP4zFlb8H/6PcLz6yv58ecrjHHZC/SopgvbWKoT8=",
            "dtype": "f8"
           }
          },
          {
           "name": "Fixed Nodes",
           "type": "scatter3d",
           "x": [],
           "y": [],
           "z": []
          },
          {
           "name": "Edges",
           "type": "scatter3d",
           "x": [
            0,
            0,
            null,
            0,
            0,
            null
           ],
           "y": [
            0,
            0,
            null,
            0,
            0,
            null
           ],
           "z": [
            -0.021261397712074727,
            -0.07126139771207472,
            null,
            -0.015738602287938105,
            0.034261397712061895,
            null
           ]
          },
          {
           "i": [],
           "j": [],
           "k": [],
           "name": "Faces",
           "type": "mesh3d",
           "x": {
            "bdata": "AAAAAAAAAAAAAAAAAAAAAAAAAAAAAAAAAAAAAAAAAAA=",
            "dtype": "f8"
           },
           "y": {
            "bdata": "AAAAAAAAAAAAAAAAAAAAAAAAAAAAAAAAAAAAAAAAAAA=",
            "dtype": "f8"
           },
           "z": {
            "bdata": "6shcP4zFlb8H/6PcLz6yv58ecrjHHZC/SopgvbWKoT8=",
            "dtype": "f8"
           }
          }
         ],
         "layout": {
          "annotations": [
           {
            "showarrow": false,
            "text": "Time: 0.86s (Step: 87/100)",
            "x": 0.05,
            "xref": "paper",
            "y": 0.95,
            "yref": "paper"
           }
          ]
         },
         "name": "86"
        },
        {
         "data": [
          {
           "name": "Free Nodes",
           "type": "scatter3d",
           "x": {
            "bdata": "AAAAAAAAAAAAAAAAAAAAAAAAAAAAAAAAAAAAAAAAAAA=",
            "dtype": "f8"
           },
           "y": {
            "bdata": "AAAAAAAAAAAAAAAAAAAAAAAAAAAAAAAAAAAAAAAAAAA=",
            "dtype": "f8"
           },
           "z": {
            "bdata": "bqYTbmhNlr9otlHoJmCyvwZc6mYQnJC/l2skZpFLoT8=",
            "dtype": "f8"
           }
          },
          {
           "name": "Fixed Nodes",
           "type": "scatter3d",
           "x": [],
           "y": [],
           "z": []
          },
          {
           "name": "Edges",
           "type": "scatter3d",
           "x": [
            0,
            0,
            null,
            0,
            0,
            null
           ],
           "y": [
            0,
            0,
            null,
            0,
            0,
            null
           ],
           "z": [
            -0.021779662817527905,
            -0.0717796628175279,
            null,
            -0.016220337182485188,
            0.033779662817514815,
            null
           ]
          },
          {
           "i": [],
           "j": [],
           "k": [],
           "name": "Faces",
           "type": "mesh3d",
           "x": {
            "bdata": "AAAAAAAAAAAAAAAAAAAAAAAAAAAAAAAAAAAAAAAAAAA=",
            "dtype": "f8"
           },
           "y": {
            "bdata": "AAAAAAAAAAAAAAAAAAAAAAAAAAAAAAAAAAAAAAAAAAA=",
            "dtype": "f8"
           },
           "z": {
            "bdata": "bqYTbmhNlr9otlHoJmCyvwZc6mYQnJC/l2skZpFLoT8=",
            "dtype": "f8"
           }
          }
         ],
         "layout": {
          "annotations": [
           {
            "showarrow": false,
            "text": "Time: 0.87s (Step: 88/100)",
            "x": 0.05,
            "xref": "paper",
            "y": 0.95,
            "yref": "paper"
           }
          ]
         },
         "name": "87"
        },
        {
         "data": [
          {
           "name": "Free Nodes",
           "type": "scatter3d",
           "x": {
            "bdata": "AAAAAAAAAAAAAAAAAAAAAAAAAAAAAAAAAAAAAAAAAAA=",
            "dtype": "f8"
           },
           "y": {
            "bdata": "AAAAAAAAAAAAAAAAAAAAAAAAAAAAAAAAAAAAAAAAAAA=",
            "dtype": "f8"
           },
           "z": {
            "bdata": "8oPKnETVlr/Jbf/zHYKyv22ZYhVZGpG/40zoDm0MoT8=",
            "dtype": "f8"
           }
          },
          {
           "name": "Fixed Nodes",
           "type": "scatter3d",
           "x": [],
           "y": [],
           "z": []
          },
          {
           "name": "Edges",
           "type": "scatter3d",
           "x": [
            0,
            0,
            null,
            0,
            0,
            null
           ],
           "y": [
            0,
            0,
            null,
            0,
            0,
            null
           ],
           "z": [
            -0.022297927922981083,
            -0.07229792792298108,
            null,
            -0.01670207207703227,
            0.03329792792296773,
            null
           ]
          },
          {
           "i": [],
           "j": [],
           "k": [],
           "name": "Faces",
           "type": "mesh3d",
           "x": {
            "bdata": "AAAAAAAAAAAAAAAAAAAAAAAAAAAAAAAAAAAAAAAAAAA=",
            "dtype": "f8"
           },
           "y": {
            "bdata": "AAAAAAAAAAAAAAAAAAAAAAAAAAAAAAAAAAAAAAAAAAA=",
            "dtype": "f8"
           },
           "z": {
            "bdata": "8oPKnETVlr/Jbf/zHYKyv22ZYhVZGpG/40zoDm0MoT8=",
            "dtype": "f8"
           }
          }
         ],
         "layout": {
          "annotations": [
           {
            "showarrow": false,
            "text": "Time: 0.88s (Step: 89/100)",
            "x": 0.05,
            "xref": "paper",
            "y": 0.95,
            "yref": "paper"
           }
          ]
         },
         "name": "88"
        },
        {
         "data": [
          {
           "name": "Free Nodes",
           "type": "scatter3d",
           "x": {
            "bdata": "AAAAAAAAAAAAAAAAAAAAAAAAAAAAAAAAAAAAAAAAAAA=",
            "dtype": "f8"
           },
           "y": {
            "bdata": "AAAAAAAAAAAAAAAAAAAAAAAAAAAAAAAAAAAAAAAAAAA=",
            "dtype": "f8"
           },
           "z": {
            "bdata": "dmGByyBdl78qJa3/FKSyv9XW2sOhmJG/Ly6st0jNoD8=",
            "dtype": "f8"
           }
          },
          {
           "name": "Fixed Nodes",
           "type": "scatter3d",
           "x": [],
           "y": [],
           "z": []
          },
          {
           "name": "Edges",
           "type": "scatter3d",
           "x": [
            0,
            0,
            null,
            0,
            0,
            null
           ],
           "y": [
            0,
            0,
            null,
            0,
            0,
            null
           ],
           "z": [
            -0.02281619302843426,
            -0.07281619302843426,
            null,
            -0.017183806971579358,
            0.03281619302842064,
            null
           ]
          },
          {
           "i": [],
           "j": [],
           "k": [],
           "name": "Faces",
           "type": "mesh3d",
           "x": {
            "bdata": "AAAAAAAAAAAAAAAAAAAAAAAAAAAAAAAAAAAAAAAAAAA=",
            "dtype": "f8"
           },
           "y": {
            "bdata": "AAAAAAAAAAAAAAAAAAAAAAAAAAAAAAAAAAAAAAAAAAA=",
            "dtype": "f8"
           },
           "z": {
            "bdata": "dmGByyBdl78qJa3/FKSyv9XW2sOhmJG/Ly6st0jNoD8=",
            "dtype": "f8"
           }
          }
         ],
         "layout": {
          "annotations": [
           {
            "showarrow": false,
            "text": "Time: 0.89s (Step: 90/100)",
            "x": 0.05,
            "xref": "paper",
            "y": 0.95,
            "yref": "paper"
           }
          ]
         },
         "name": "89"
        },
        {
         "data": [
          {
           "name": "Free Nodes",
           "type": "scatter3d",
           "x": {
            "bdata": "AAAAAAAAAAAAAAAAAAAAAAAAAAAAAAAAAAAAAAAAAAA=",
            "dtype": "f8"
           },
           "y": {
            "bdata": "AAAAAAAAAAAAAAAAAAAAAAAAAAAAAAAAAAAAAAAAAAA=",
            "dtype": "f8"
           },
           "z": {
            "bdata": "+j44+vzkl7+L3FoLDMayvz4UU3LqFpK/ew9wYCSOoD8=",
            "dtype": "f8"
           }
          },
          {
           "name": "Fixed Nodes",
           "type": "scatter3d",
           "x": [],
           "y": [],
           "z": []
          },
          {
           "name": "Edges",
           "type": "scatter3d",
           "x": [
            0,
            0,
            null,
            0,
            0,
            null
           ],
           "y": [
            0,
            0,
            null,
            0,
            0,
            null
           ],
           "z": [
            -0.023334458133887438,
            -0.07333445813388743,
            null,
            -0.017665541866126448,
            0.032334458133873555,
            null
           ]
          },
          {
           "i": [],
           "j": [],
           "k": [],
           "name": "Faces",
           "type": "mesh3d",
           "x": {
            "bdata": "AAAAAAAAAAAAAAAAAAAAAAAAAAAAAAAAAAAAAAAAAAA=",
            "dtype": "f8"
           },
           "y": {
            "bdata": "AAAAAAAAAAAAAAAAAAAAAAAAAAAAAAAAAAAAAAAAAAA=",
            "dtype": "f8"
           },
           "z": {
            "bdata": "+j44+vzkl7+L3FoLDMayvz4UU3LqFpK/ew9wYCSOoD8=",
            "dtype": "f8"
           }
          }
         ],
         "layout": {
          "annotations": [
           {
            "showarrow": false,
            "text": "Time: 0.90s (Step: 91/100)",
            "x": 0.05,
            "xref": "paper",
            "y": 0.95,
            "yref": "paper"
           }
          ]
         },
         "name": "90"
        },
        {
         "data": [
          {
           "name": "Free Nodes",
           "type": "scatter3d",
           "x": {
            "bdata": "AAAAAAAAAAAAAAAAAAAAAAAAAAAAAAAAAAAAAAAAAAA=",
            "dtype": "f8"
           },
           "y": {
            "bdata": "AAAAAAAAAAAAAAAAAAAAAAAAAAAAAAAAAAAAAAAAAAA=",
            "dtype": "f8"
           },
           "z": {
            "bdata": "fhzvKNlsmL/skwgXA+iyv6dRyyAzlZK/xvAzCQBPoD8=",
            "dtype": "f8"
           }
          },
          {
           "name": "Fixed Nodes",
           "type": "scatter3d",
           "x": [],
           "y": [],
           "z": []
          },
          {
           "name": "Edges",
           "type": "scatter3d",
           "x": [
            0,
            0,
            null,
            0,
            0,
            null
           ],
           "y": [
            0,
            0,
            null,
            0,
            0,
            null
           ],
           "z": [
            -0.023852723239340616,
            -0.07385272323934061,
            null,
            -0.01814727676067354,
            0.03185272323932646,
            null
           ]
          },
          {
           "i": [],
           "j": [],
           "k": [],
           "name": "Faces",
           "type": "mesh3d",
           "x": {
            "bdata": "AAAAAAAAAAAAAAAAAAAAAAAAAAAAAAAAAAAAAAAAAAA=",
            "dtype": "f8"
           },
           "y": {
            "bdata": "AAAAAAAAAAAAAAAAAAAAAAAAAAAAAAAAAAAAAAAAAAA=",
            "dtype": "f8"
           },
           "z": {
            "bdata": "fhzvKNlsmL/skwgXA+iyv6dRyyAzlZK/xvAzCQBPoD8=",
            "dtype": "f8"
           }
          }
         ],
         "layout": {
          "annotations": [
           {
            "showarrow": false,
            "text": "Time: 0.91s (Step: 92/100)",
            "x": 0.05,
            "xref": "paper",
            "y": 0.95,
            "yref": "paper"
           }
          ]
         },
         "name": "91"
        },
        {
         "data": [
          {
           "name": "Free Nodes",
           "type": "scatter3d",
           "x": {
            "bdata": "AAAAAAAAAAAAAAAAAAAAAAAAAAAAAAAAAAAAAAAAAAA=",
            "dtype": "f8"
           },
           "y": {
            "bdata": "AAAAAAAAAAAAAAAAAAAAAAAAAAAAAAAAAAAAAAAAAAA=",
            "dtype": "f8"
           },
           "z": {
            "bdata": "AvqlV7X0mL9NS7Yi+gmzvxGPQ897E5O/EdL3sdsPoD8=",
            "dtype": "f8"
           }
          },
          {
           "name": "Fixed Nodes",
           "type": "scatter3d",
           "x": [],
           "y": [],
           "z": []
          },
          {
           "name": "Edges",
           "type": "scatter3d",
           "x": [
            0,
            0,
            null,
            0,
            0,
            null
           ],
           "y": [
            0,
            0,
            null,
            0,
            0,
            null
           ],
           "z": [
            -0.024370988344793794,
            -0.07437098834479379,
            null,
            -0.018629011655220632,
            0.03137098834477937,
            null
           ]
          },
          {
           "i": [],
           "j": [],
           "k": [],
           "name": "Faces",
           "type": "mesh3d",
           "x": {
            "bdata": "AAAAAAAAAAAAAAAAAAAAAAAAAAAAAAAAAAAAAAAAAAA=",
            "dtype": "f8"
           },
           "y": {
            "bdata": "AAAAAAAAAAAAAAAAAAAAAAAAAAAAAAAAAAAAAAAAAAA=",
            "dtype": "f8"
           },
           "z": {
            "bdata": "AvqlV7X0mL9NS7Yi+gmzvxGPQ897E5O/EdL3sdsPoD8=",
            "dtype": "f8"
           }
          }
         ],
         "layout": {
          "annotations": [
           {
            "showarrow": false,
            "text": "Time: 0.92s (Step: 93/100)",
            "x": 0.05,
            "xref": "paper",
            "y": 0.95,
            "yref": "paper"
           }
          ]
         },
         "name": "92"
        },
        {
         "data": [
          {
           "name": "Free Nodes",
           "type": "scatter3d",
           "x": {
            "bdata": "AAAAAAAAAAAAAAAAAAAAAAAAAAAAAAAAAAAAAAAAAAA=",
            "dtype": "f8"
           },
           "y": {
            "bdata": "AAAAAAAAAAAAAAAAAAAAAAAAAAAAAAAAAAAAAAAAAAA=",
            "dtype": "f8"
           },
           "z": {
            "bdata": "htdchpF8mb+uAmQu8Suzv3zMu33EkZO/t2Z3tW6hnz8=",
            "dtype": "f8"
           }
          },
          {
           "name": "Fixed Nodes",
           "type": "scatter3d",
           "x": [],
           "y": [],
           "z": []
          },
          {
           "name": "Edges",
           "type": "scatter3d",
           "x": [
            0,
            0,
            null,
            0,
            0,
            null
           ],
           "y": [
            0,
            0,
            null,
            0,
            0,
            null
           ],
           "z": [
            -0.02488925345024697,
            -0.07488925345024697,
            null,
            -0.01911074654976773,
            0.03088925345023227,
            null
           ]
          },
          {
           "i": [],
           "j": [],
           "k": [],
           "name": "Faces",
           "type": "mesh3d",
           "x": {
            "bdata": "AAAAAAAAAAAAAAAAAAAAAAAAAAAAAAAAAAAAAAAAAAA=",
            "dtype": "f8"
           },
           "y": {
            "bdata": "AAAAAAAAAAAAAAAAAAAAAAAAAAAAAAAAAAAAAAAAAAA=",
            "dtype": "f8"
           },
           "z": {
            "bdata": "htdchpF8mb+uAmQu8Suzv3zMu33EkZO/t2Z3tW6hnz8=",
            "dtype": "f8"
           }
          }
         ],
         "layout": {
          "annotations": [
           {
            "showarrow": false,
            "text": "Time: 0.93s (Step: 94/100)",
            "x": 0.05,
            "xref": "paper",
            "y": 0.95,
            "yref": "paper"
           }
          ]
         },
         "name": "93"
        },
        {
         "data": [
          {
           "name": "Free Nodes",
           "type": "scatter3d",
           "x": {
            "bdata": "AAAAAAAAAAAAAAAAAAAAAAAAAAAAAAAAAAAAAAAAAAA=",
            "dtype": "f8"
           },
           "y": {
            "bdata": "AAAAAAAAAAAAAAAAAAAAAAAAAAAAAAAAAAAAAAAAAAA=",
            "dtype": "f8"
           },
           "z": {
            "bdata": "CrUTtW0Emr8PuhE66E2zv+gJNCwNEJS/Syn/BiYjnz8=",
            "dtype": "f8"
           }
          },
          {
           "name": "Fixed Nodes",
           "type": "scatter3d",
           "x": [],
           "y": [],
           "z": []
          },
          {
           "name": "Edges",
           "type": "scatter3d",
           "x": [
            0,
            0,
            null,
            0,
            0,
            null
           ],
           "y": [
            0,
            0,
            null,
            0,
            0,
            null
           ],
           "z": [
            -0.02540751855570015,
            -0.07540751855570015,
            null,
            -0.01959248144431483,
            0.03040751855568517,
            null
           ]
          },
          {
           "i": [],
           "j": [],
           "k": [],
           "name": "Faces",
           "type": "mesh3d",
           "x": {
            "bdata": "AAAAAAAAAAAAAAAAAAAAAAAAAAAAAAAAAAAAAAAAAAA=",
            "dtype": "f8"
           },
           "y": {
            "bdata": "AAAAAAAAAAAAAAAAAAAAAAAAAAAAAAAAAAAAAAAAAAA=",
            "dtype": "f8"
           },
           "z": {
            "bdata": "CrUTtW0Emr8PuhE66E2zv+gJNCwNEJS/Syn/BiYjnz8=",
            "dtype": "f8"
           }
          }
         ],
         "layout": {
          "annotations": [
           {
            "showarrow": false,
            "text": "Time: 0.94s (Step: 95/100)",
            "x": 0.05,
            "xref": "paper",
            "y": 0.95,
            "yref": "paper"
           }
          ]
         },
         "name": "94"
        },
        {
         "data": [
          {
           "name": "Free Nodes",
           "type": "scatter3d",
           "x": {
            "bdata": "AAAAAAAAAAAAAAAAAAAAAAAAAAAAAAAAAAAAAAAAAAA=",
            "dtype": "f8"
           },
           "y": {
            "bdata": "AAAAAAAAAAAAAAAAAAAAAAAAAAAAAAAAAAAAAAAAAAA=",
            "dtype": "f8"
           },
           "z": {
            "bdata": "jpLK40mMmr9wcb9F32+zv1VHrNpVjpS/3uuGWN2knj8=",
            "dtype": "f8"
           }
          },
          {
           "name": "Fixed Nodes",
           "type": "scatter3d",
           "x": [],
           "y": [],
           "z": []
          },
          {
           "name": "Edges",
           "type": "scatter3d",
           "x": [
            0,
            0,
            null,
            0,
            0,
            null
           ],
           "y": [
            0,
            0,
            null,
            0,
            0,
            null
           ],
           "z": [
            -0.025925783661153327,
            -0.07592578366115332,
            null,
            -0.020074216338861934,
            0.029925783661138065,
            null
           ]
          },
          {
           "i": [],
           "j": [],
           "k": [],
           "name": "Faces",
           "type": "mesh3d",
           "x": {
            "bdata": "AAAAAAAAAAAAAAAAAAAAAAAAAAAAAAAAAAAAAAAAAAA=",
            "dtype": "f8"
           },
           "y": {
            "bdata": "AAAAAAAAAAAAAAAAAAAAAAAAAAAAAAAAAAAAAAAAAAA=",
            "dtype": "f8"
           },
           "z": {
            "bdata": "jpLK40mMmr9wcb9F32+zv1VHrNpVjpS/3uuGWN2knj8=",
            "dtype": "f8"
           }
          }
         ],
         "layout": {
          "annotations": [
           {
            "showarrow": false,
            "text": "Time: 0.95s (Step: 96/100)",
            "x": 0.05,
            "xref": "paper",
            "y": 0.95,
            "yref": "paper"
           }
          ]
         },
         "name": "95"
        },
        {
         "data": [
          {
           "name": "Free Nodes",
           "type": "scatter3d",
           "x": {
            "bdata": "AAAAAAAAAAAAAAAAAAAAAAAAAAAAAAAAAAAAAAAAAAA=",
            "dtype": "f8"
           },
           "y": {
            "bdata": "AAAAAAAAAAAAAAAAAAAAAAAAAAAAAAAAAAAAAAAAAAA=",
            "dtype": "f8"
           },
           "z": {
            "bdata": "EnCBEiYUm7/RKG1R1pGzv8OEJImeDJW/cK4OqpQmnj8=",
            "dtype": "f8"
           }
          },
          {
           "name": "Fixed Nodes",
           "type": "scatter3d",
           "x": [],
           "y": [],
           "z": []
          },
          {
           "name": "Edges",
           "type": "scatter3d",
           "x": [
            0,
            0,
            null,
            0,
            0,
            null
           ],
           "y": [
            0,
            0,
            null,
            0,
            0,
            null
           ],
           "z": [
            -0.026444048766606505,
            -0.0764440487666065,
            null,
            -0.02055595123340904,
            0.029444048766590958,
            null
           ]
          },
          {
           "i": [],
           "j": [],
           "k": [],
           "name": "Faces",
           "type": "mesh3d",
           "x": {
            "bdata": "AAAAAAAAAAAAAAAAAAAAAAAAAAAAAAAAAAAAAAAAAAA=",
            "dtype": "f8"
           },
           "y": {
            "bdata": "AAAAAAAAAAAAAAAAAAAAAAAAAAAAAAAAAAAAAAAAAAA=",
            "dtype": "f8"
           },
           "z": {
            "bdata": "EnCBEiYUm7/RKG1R1pGzv8OEJImeDJW/cK4OqpQmnj8=",
            "dtype": "f8"
           }
          }
         ],
         "layout": {
          "annotations": [
           {
            "showarrow": false,
            "text": "Time: 0.96s (Step: 97/100)",
            "x": 0.05,
            "xref": "paper",
            "y": 0.95,
            "yref": "paper"
           }
          ]
         },
         "name": "96"
        },
        {
         "data": [
          {
           "name": "Free Nodes",
           "type": "scatter3d",
           "x": {
            "bdata": "AAAAAAAAAAAAAAAAAAAAAAAAAAAAAAAAAAAAAAAAAAA=",
            "dtype": "f8"
           },
           "y": {
            "bdata": "AAAAAAAAAAAAAAAAAAAAAAAAAAAAAAAAAAAAAAAAAAA=",
            "dtype": "f8"
           },
           "z": {
            "bdata": "lk04QQKcm78y4BpdzbOzvzLCnDfnipW/AXGW+0uonT8=",
            "dtype": "f8"
           }
          },
          {
           "name": "Fixed Nodes",
           "type": "scatter3d",
           "x": [],
           "y": [],
           "z": []
          },
          {
           "name": "Edges",
           "type": "scatter3d",
           "x": [
            0,
            0,
            null,
            0,
            0,
            null
           ],
           "y": [
            0,
            0,
            null,
            0,
            0,
            null
           ],
           "z": [
            -0.026962313872059683,
            -0.07696231387205968,
            null,
            -0.021037686127956153,
            0.028962313872043847,
            null
           ]
          },
          {
           "i": [],
           "j": [],
           "k": [],
           "name": "Faces",
           "type": "mesh3d",
           "x": {
            "bdata": "AAAAAAAAAAAAAAAAAAAAAAAAAAAAAAAAAAAAAAAAAAA=",
            "dtype": "f8"
           },
           "y": {
            "bdata": "AAAAAAAAAAAAAAAAAAAAAAAAAAAAAAAAAAAAAAAAAAA=",
            "dtype": "f8"
           },
           "z": {
            "bdata": "lk04QQKcm78y4BpdzbOzvzLCnDfnipW/AXGW+0uonT8=",
            "dtype": "f8"
           }
          }
         ],
         "layout": {
          "annotations": [
           {
            "showarrow": false,
            "text": "Time: 0.97s (Step: 98/100)",
            "x": 0.05,
            "xref": "paper",
            "y": 0.95,
            "yref": "paper"
           }
          ]
         },
         "name": "97"
        },
        {
         "data": [
          {
           "name": "Free Nodes",
           "type": "scatter3d",
           "x": {
            "bdata": "AAAAAAAAAAAAAAAAAAAAAAAAAAAAAAAAAAAAAAAAAAA=",
            "dtype": "f8"
           },
           "y": {
            "bdata": "AAAAAAAAAAAAAAAAAAAAAAAAAAAAAAAAAAAAAAAAAAA=",
            "dtype": "f8"
           },
           "z": {
            "bdata": "Givvb94jnL+Tl8hoxNWzv6L/FOYvCZa/kTMeTQMqnT8=",
            "dtype": "f8"
           }
          },
          {
           "name": "Fixed Nodes",
           "type": "scatter3d",
           "x": [],
           "y": [],
           "z": []
          },
          {
           "name": "Edges",
           "type": "scatter3d",
           "x": [
            0,
            0,
            null,
            0,
            0,
            null
           ],
           "y": [
            0,
            0,
            null,
            0,
            0,
            null
           ],
           "z": [
            -0.02748057897751286,
            -0.07748057897751286,
            null,
            -0.021519421022503267,
            0.028480578977496732,
            null
           ]
          },
          {
           "i": [],
           "j": [],
           "k": [],
           "name": "Faces",
           "type": "mesh3d",
           "x": {
            "bdata": "AAAAAAAAAAAAAAAAAAAAAAAAAAAAAAAAAAAAAAAAAAA=",
            "dtype": "f8"
           },
           "y": {
            "bdata": "AAAAAAAAAAAAAAAAAAAAAAAAAAAAAAAAAAAAAAAAAAA=",
            "dtype": "f8"
           },
           "z": {
            "bdata": "Givvb94jnL+Tl8hoxNWzv6L/FOYvCZa/kTMeTQMqnT8=",
            "dtype": "f8"
           }
          }
         ],
         "layout": {
          "annotations": [
           {
            "showarrow": false,
            "text": "Time: 0.98s (Step: 99/100)",
            "x": 0.05,
            "xref": "paper",
            "y": 0.95,
            "yref": "paper"
           }
          ]
         },
         "name": "98"
        },
        {
         "data": [
          {
           "name": "Free Nodes",
           "type": "scatter3d",
           "x": {
            "bdata": "AAAAAAAAAAAAAAAAAAAAAAAAAAAAAAAAAAAAAAAAAAA=",
            "dtype": "f8"
           },
           "y": {
            "bdata": "AAAAAAAAAAAAAAAAAAAAAAAAAAAAAAAAAAAAAAAAAAA=",
            "dtype": "f8"
           },
           "z": {
            "bdata": "ngimnrqrnL/0TnZ0u/ezvxM9jZR4h5a/IPalnrqrnD8=",
            "dtype": "f8"
           }
          },
          {
           "name": "Fixed Nodes",
           "type": "scatter3d",
           "x": [],
           "y": [],
           "z": []
          },
          {
           "name": "Edges",
           "type": "scatter3d",
           "x": [
            0,
            0,
            null,
            0,
            0,
            null
           ],
           "y": [
            0,
            0,
            null,
            0,
            0,
            null
           ],
           "z": [
            -0.02799884408296604,
            -0.07799884408296603,
            null,
            -0.022001155917050385,
            0.027998844082949614,
            null
           ]
          },
          {
           "i": [],
           "j": [],
           "k": [],
           "name": "Faces",
           "type": "mesh3d",
           "x": {
            "bdata": "AAAAAAAAAAAAAAAAAAAAAAAAAAAAAAAAAAAAAAAAAAA=",
            "dtype": "f8"
           },
           "y": {
            "bdata": "AAAAAAAAAAAAAAAAAAAAAAAAAAAAAAAAAAAAAAAAAAA=",
            "dtype": "f8"
           },
           "z": {
            "bdata": "ngimnrqrnL/0TnZ0u/ezvxM9jZR4h5a/IPalnrqrnD8=",
            "dtype": "f8"
           }
          }
         ],
         "layout": {
          "annotations": [
           {
            "showarrow": false,
            "text": "Time: 0.99s (Step: 100/100)",
            "x": 0.05,
            "xref": "paper",
            "y": 0.95,
            "yref": "paper"
           }
          ]
         },
         "name": "99"
        }
       ],
       "layout": {
        "scene": {
         "camera": {
          "eye": {
           "x": 1.2247448713915892,
           "y": 1.2247448713915892,
           "z": 0.9999999999999999
          }
         },
         "xaxis": {
          "range": [
           0,
           0
          ],
          "title": {
           "text": "X Position"
          }
         },
         "yaxis": {
          "range": [
           0,
           0
          ],
          "title": {
           "text": "Y Position"
          }
         },
         "zaxis": {
          "range": [
           -0.07799884408296603,
           0.099
          ],
          "title": {
           "text": "Z Position"
          }
         }
        },
        "sliders": [
         {
          "currentvalue": {
           "prefix": "Frame: "
          },
          "steps": [
           {
            "args": [
             [
              "0"
             ],
             {
              "frame": {
               "duration": 50,
               "redraw": true
              },
              "mode": "immediate"
             }
            ],
            "label": "0",
            "method": "animate"
           },
           {
            "args": [
             [
              "1"
             ],
             {
              "frame": {
               "duration": 50,
               "redraw": true
              },
              "mode": "immediate"
             }
            ],
            "label": "1",
            "method": "animate"
           },
           {
            "args": [
             [
              "2"
             ],
             {
              "frame": {
               "duration": 50,
               "redraw": true
              },
              "mode": "immediate"
             }
            ],
            "label": "2",
            "method": "animate"
           },
           {
            "args": [
             [
              "3"
             ],
             {
              "frame": {
               "duration": 50,
               "redraw": true
              },
              "mode": "immediate"
             }
            ],
            "label": "3",
            "method": "animate"
           },
           {
            "args": [
             [
              "4"
             ],
             {
              "frame": {
               "duration": 50,
               "redraw": true
              },
              "mode": "immediate"
             }
            ],
            "label": "4",
            "method": "animate"
           },
           {
            "args": [
             [
              "5"
             ],
             {
              "frame": {
               "duration": 50,
               "redraw": true
              },
              "mode": "immediate"
             }
            ],
            "label": "5",
            "method": "animate"
           },
           {
            "args": [
             [
              "6"
             ],
             {
              "frame": {
               "duration": 50,
               "redraw": true
              },
              "mode": "immediate"
             }
            ],
            "label": "6",
            "method": "animate"
           },
           {
            "args": [
             [
              "7"
             ],
             {
              "frame": {
               "duration": 50,
               "redraw": true
              },
              "mode": "immediate"
             }
            ],
            "label": "7",
            "method": "animate"
           },
           {
            "args": [
             [
              "8"
             ],
             {
              "frame": {
               "duration": 50,
               "redraw": true
              },
              "mode": "immediate"
             }
            ],
            "label": "8",
            "method": "animate"
           },
           {
            "args": [
             [
              "9"
             ],
             {
              "frame": {
               "duration": 50,
               "redraw": true
              },
              "mode": "immediate"
             }
            ],
            "label": "9",
            "method": "animate"
           },
           {
            "args": [
             [
              "10"
             ],
             {
              "frame": {
               "duration": 50,
               "redraw": true
              },
              "mode": "immediate"
             }
            ],
            "label": "10",
            "method": "animate"
           },
           {
            "args": [
             [
              "11"
             ],
             {
              "frame": {
               "duration": 50,
               "redraw": true
              },
              "mode": "immediate"
             }
            ],
            "label": "11",
            "method": "animate"
           },
           {
            "args": [
             [
              "12"
             ],
             {
              "frame": {
               "duration": 50,
               "redraw": true
              },
              "mode": "immediate"
             }
            ],
            "label": "12",
            "method": "animate"
           },
           {
            "args": [
             [
              "13"
             ],
             {
              "frame": {
               "duration": 50,
               "redraw": true
              },
              "mode": "immediate"
             }
            ],
            "label": "13",
            "method": "animate"
           },
           {
            "args": [
             [
              "14"
             ],
             {
              "frame": {
               "duration": 50,
               "redraw": true
              },
              "mode": "immediate"
             }
            ],
            "label": "14",
            "method": "animate"
           },
           {
            "args": [
             [
              "15"
             ],
             {
              "frame": {
               "duration": 50,
               "redraw": true
              },
              "mode": "immediate"
             }
            ],
            "label": "15",
            "method": "animate"
           },
           {
            "args": [
             [
              "16"
             ],
             {
              "frame": {
               "duration": 50,
               "redraw": true
              },
              "mode": "immediate"
             }
            ],
            "label": "16",
            "method": "animate"
           },
           {
            "args": [
             [
              "17"
             ],
             {
              "frame": {
               "duration": 50,
               "redraw": true
              },
              "mode": "immediate"
             }
            ],
            "label": "17",
            "method": "animate"
           },
           {
            "args": [
             [
              "18"
             ],
             {
              "frame": {
               "duration": 50,
               "redraw": true
              },
              "mode": "immediate"
             }
            ],
            "label": "18",
            "method": "animate"
           },
           {
            "args": [
             [
              "19"
             ],
             {
              "frame": {
               "duration": 50,
               "redraw": true
              },
              "mode": "immediate"
             }
            ],
            "label": "19",
            "method": "animate"
           },
           {
            "args": [
             [
              "20"
             ],
             {
              "frame": {
               "duration": 50,
               "redraw": true
              },
              "mode": "immediate"
             }
            ],
            "label": "20",
            "method": "animate"
           },
           {
            "args": [
             [
              "21"
             ],
             {
              "frame": {
               "duration": 50,
               "redraw": true
              },
              "mode": "immediate"
             }
            ],
            "label": "21",
            "method": "animate"
           },
           {
            "args": [
             [
              "22"
             ],
             {
              "frame": {
               "duration": 50,
               "redraw": true
              },
              "mode": "immediate"
             }
            ],
            "label": "22",
            "method": "animate"
           },
           {
            "args": [
             [
              "23"
             ],
             {
              "frame": {
               "duration": 50,
               "redraw": true
              },
              "mode": "immediate"
             }
            ],
            "label": "23",
            "method": "animate"
           },
           {
            "args": [
             [
              "24"
             ],
             {
              "frame": {
               "duration": 50,
               "redraw": true
              },
              "mode": "immediate"
             }
            ],
            "label": "24",
            "method": "animate"
           },
           {
            "args": [
             [
              "25"
             ],
             {
              "frame": {
               "duration": 50,
               "redraw": true
              },
              "mode": "immediate"
             }
            ],
            "label": "25",
            "method": "animate"
           },
           {
            "args": [
             [
              "26"
             ],
             {
              "frame": {
               "duration": 50,
               "redraw": true
              },
              "mode": "immediate"
             }
            ],
            "label": "26",
            "method": "animate"
           },
           {
            "args": [
             [
              "27"
             ],
             {
              "frame": {
               "duration": 50,
               "redraw": true
              },
              "mode": "immediate"
             }
            ],
            "label": "27",
            "method": "animate"
           },
           {
            "args": [
             [
              "28"
             ],
             {
              "frame": {
               "duration": 50,
               "redraw": true
              },
              "mode": "immediate"
             }
            ],
            "label": "28",
            "method": "animate"
           },
           {
            "args": [
             [
              "29"
             ],
             {
              "frame": {
               "duration": 50,
               "redraw": true
              },
              "mode": "immediate"
             }
            ],
            "label": "29",
            "method": "animate"
           },
           {
            "args": [
             [
              "30"
             ],
             {
              "frame": {
               "duration": 50,
               "redraw": true
              },
              "mode": "immediate"
             }
            ],
            "label": "30",
            "method": "animate"
           },
           {
            "args": [
             [
              "31"
             ],
             {
              "frame": {
               "duration": 50,
               "redraw": true
              },
              "mode": "immediate"
             }
            ],
            "label": "31",
            "method": "animate"
           },
           {
            "args": [
             [
              "32"
             ],
             {
              "frame": {
               "duration": 50,
               "redraw": true
              },
              "mode": "immediate"
             }
            ],
            "label": "32",
            "method": "animate"
           },
           {
            "args": [
             [
              "33"
             ],
             {
              "frame": {
               "duration": 50,
               "redraw": true
              },
              "mode": "immediate"
             }
            ],
            "label": "33",
            "method": "animate"
           },
           {
            "args": [
             [
              "34"
             ],
             {
              "frame": {
               "duration": 50,
               "redraw": true
              },
              "mode": "immediate"
             }
            ],
            "label": "34",
            "method": "animate"
           },
           {
            "args": [
             [
              "35"
             ],
             {
              "frame": {
               "duration": 50,
               "redraw": true
              },
              "mode": "immediate"
             }
            ],
            "label": "35",
            "method": "animate"
           },
           {
            "args": [
             [
              "36"
             ],
             {
              "frame": {
               "duration": 50,
               "redraw": true
              },
              "mode": "immediate"
             }
            ],
            "label": "36",
            "method": "animate"
           },
           {
            "args": [
             [
              "37"
             ],
             {
              "frame": {
               "duration": 50,
               "redraw": true
              },
              "mode": "immediate"
             }
            ],
            "label": "37",
            "method": "animate"
           },
           {
            "args": [
             [
              "38"
             ],
             {
              "frame": {
               "duration": 50,
               "redraw": true
              },
              "mode": "immediate"
             }
            ],
            "label": "38",
            "method": "animate"
           },
           {
            "args": [
             [
              "39"
             ],
             {
              "frame": {
               "duration": 50,
               "redraw": true
              },
              "mode": "immediate"
             }
            ],
            "label": "39",
            "method": "animate"
           },
           {
            "args": [
             [
              "40"
             ],
             {
              "frame": {
               "duration": 50,
               "redraw": true
              },
              "mode": "immediate"
             }
            ],
            "label": "40",
            "method": "animate"
           },
           {
            "args": [
             [
              "41"
             ],
             {
              "frame": {
               "duration": 50,
               "redraw": true
              },
              "mode": "immediate"
             }
            ],
            "label": "41",
            "method": "animate"
           },
           {
            "args": [
             [
              "42"
             ],
             {
              "frame": {
               "duration": 50,
               "redraw": true
              },
              "mode": "immediate"
             }
            ],
            "label": "42",
            "method": "animate"
           },
           {
            "args": [
             [
              "43"
             ],
             {
              "frame": {
               "duration": 50,
               "redraw": true
              },
              "mode": "immediate"
             }
            ],
            "label": "43",
            "method": "animate"
           },
           {
            "args": [
             [
              "44"
             ],
             {
              "frame": {
               "duration": 50,
               "redraw": true
              },
              "mode": "immediate"
             }
            ],
            "label": "44",
            "method": "animate"
           },
           {
            "args": [
             [
              "45"
             ],
             {
              "frame": {
               "duration": 50,
               "redraw": true
              },
              "mode": "immediate"
             }
            ],
            "label": "45",
            "method": "animate"
           },
           {
            "args": [
             [
              "46"
             ],
             {
              "frame": {
               "duration": 50,
               "redraw": true
              },
              "mode": "immediate"
             }
            ],
            "label": "46",
            "method": "animate"
           },
           {
            "args": [
             [
              "47"
             ],
             {
              "frame": {
               "duration": 50,
               "redraw": true
              },
              "mode": "immediate"
             }
            ],
            "label": "47",
            "method": "animate"
           },
           {
            "args": [
             [
              "48"
             ],
             {
              "frame": {
               "duration": 50,
               "redraw": true
              },
              "mode": "immediate"
             }
            ],
            "label": "48",
            "method": "animate"
           },
           {
            "args": [
             [
              "49"
             ],
             {
              "frame": {
               "duration": 50,
               "redraw": true
              },
              "mode": "immediate"
             }
            ],
            "label": "49",
            "method": "animate"
           },
           {
            "args": [
             [
              "50"
             ],
             {
              "frame": {
               "duration": 50,
               "redraw": true
              },
              "mode": "immediate"
             }
            ],
            "label": "50",
            "method": "animate"
           },
           {
            "args": [
             [
              "51"
             ],
             {
              "frame": {
               "duration": 50,
               "redraw": true
              },
              "mode": "immediate"
             }
            ],
            "label": "51",
            "method": "animate"
           },
           {
            "args": [
             [
              "52"
             ],
             {
              "frame": {
               "duration": 50,
               "redraw": true
              },
              "mode": "immediate"
             }
            ],
            "label": "52",
            "method": "animate"
           },
           {
            "args": [
             [
              "53"
             ],
             {
              "frame": {
               "duration": 50,
               "redraw": true
              },
              "mode": "immediate"
             }
            ],
            "label": "53",
            "method": "animate"
           },
           {
            "args": [
             [
              "54"
             ],
             {
              "frame": {
               "duration": 50,
               "redraw": true
              },
              "mode": "immediate"
             }
            ],
            "label": "54",
            "method": "animate"
           },
           {
            "args": [
             [
              "55"
             ],
             {
              "frame": {
               "duration": 50,
               "redraw": true
              },
              "mode": "immediate"
             }
            ],
            "label": "55",
            "method": "animate"
           },
           {
            "args": [
             [
              "56"
             ],
             {
              "frame": {
               "duration": 50,
               "redraw": true
              },
              "mode": "immediate"
             }
            ],
            "label": "56",
            "method": "animate"
           },
           {
            "args": [
             [
              "57"
             ],
             {
              "frame": {
               "duration": 50,
               "redraw": true
              },
              "mode": "immediate"
             }
            ],
            "label": "57",
            "method": "animate"
           },
           {
            "args": [
             [
              "58"
             ],
             {
              "frame": {
               "duration": 50,
               "redraw": true
              },
              "mode": "immediate"
             }
            ],
            "label": "58",
            "method": "animate"
           },
           {
            "args": [
             [
              "59"
             ],
             {
              "frame": {
               "duration": 50,
               "redraw": true
              },
              "mode": "immediate"
             }
            ],
            "label": "59",
            "method": "animate"
           },
           {
            "args": [
             [
              "60"
             ],
             {
              "frame": {
               "duration": 50,
               "redraw": true
              },
              "mode": "immediate"
             }
            ],
            "label": "60",
            "method": "animate"
           },
           {
            "args": [
             [
              "61"
             ],
             {
              "frame": {
               "duration": 50,
               "redraw": true
              },
              "mode": "immediate"
             }
            ],
            "label": "61",
            "method": "animate"
           },
           {
            "args": [
             [
              "62"
             ],
             {
              "frame": {
               "duration": 50,
               "redraw": true
              },
              "mode": "immediate"
             }
            ],
            "label": "62",
            "method": "animate"
           },
           {
            "args": [
             [
              "63"
             ],
             {
              "frame": {
               "duration": 50,
               "redraw": true
              },
              "mode": "immediate"
             }
            ],
            "label": "63",
            "method": "animate"
           },
           {
            "args": [
             [
              "64"
             ],
             {
              "frame": {
               "duration": 50,
               "redraw": true
              },
              "mode": "immediate"
             }
            ],
            "label": "64",
            "method": "animate"
           },
           {
            "args": [
             [
              "65"
             ],
             {
              "frame": {
               "duration": 50,
               "redraw": true
              },
              "mode": "immediate"
             }
            ],
            "label": "65",
            "method": "animate"
           },
           {
            "args": [
             [
              "66"
             ],
             {
              "frame": {
               "duration": 50,
               "redraw": true
              },
              "mode": "immediate"
             }
            ],
            "label": "66",
            "method": "animate"
           },
           {
            "args": [
             [
              "67"
             ],
             {
              "frame": {
               "duration": 50,
               "redraw": true
              },
              "mode": "immediate"
             }
            ],
            "label": "67",
            "method": "animate"
           },
           {
            "args": [
             [
              "68"
             ],
             {
              "frame": {
               "duration": 50,
               "redraw": true
              },
              "mode": "immediate"
             }
            ],
            "label": "68",
            "method": "animate"
           },
           {
            "args": [
             [
              "69"
             ],
             {
              "frame": {
               "duration": 50,
               "redraw": true
              },
              "mode": "immediate"
             }
            ],
            "label": "69",
            "method": "animate"
           },
           {
            "args": [
             [
              "70"
             ],
             {
              "frame": {
               "duration": 50,
               "redraw": true
              },
              "mode": "immediate"
             }
            ],
            "label": "70",
            "method": "animate"
           },
           {
            "args": [
             [
              "71"
             ],
             {
              "frame": {
               "duration": 50,
               "redraw": true
              },
              "mode": "immediate"
             }
            ],
            "label": "71",
            "method": "animate"
           },
           {
            "args": [
             [
              "72"
             ],
             {
              "frame": {
               "duration": 50,
               "redraw": true
              },
              "mode": "immediate"
             }
            ],
            "label": "72",
            "method": "animate"
           },
           {
            "args": [
             [
              "73"
             ],
             {
              "frame": {
               "duration": 50,
               "redraw": true
              },
              "mode": "immediate"
             }
            ],
            "label": "73",
            "method": "animate"
           },
           {
            "args": [
             [
              "74"
             ],
             {
              "frame": {
               "duration": 50,
               "redraw": true
              },
              "mode": "immediate"
             }
            ],
            "label": "74",
            "method": "animate"
           },
           {
            "args": [
             [
              "75"
             ],
             {
              "frame": {
               "duration": 50,
               "redraw": true
              },
              "mode": "immediate"
             }
            ],
            "label": "75",
            "method": "animate"
           },
           {
            "args": [
             [
              "76"
             ],
             {
              "frame": {
               "duration": 50,
               "redraw": true
              },
              "mode": "immediate"
             }
            ],
            "label": "76",
            "method": "animate"
           },
           {
            "args": [
             [
              "77"
             ],
             {
              "frame": {
               "duration": 50,
               "redraw": true
              },
              "mode": "immediate"
             }
            ],
            "label": "77",
            "method": "animate"
           },
           {
            "args": [
             [
              "78"
             ],
             {
              "frame": {
               "duration": 50,
               "redraw": true
              },
              "mode": "immediate"
             }
            ],
            "label": "78",
            "method": "animate"
           },
           {
            "args": [
             [
              "79"
             ],
             {
              "frame": {
               "duration": 50,
               "redraw": true
              },
              "mode": "immediate"
             }
            ],
            "label": "79",
            "method": "animate"
           },
           {
            "args": [
             [
              "80"
             ],
             {
              "frame": {
               "duration": 50,
               "redraw": true
              },
              "mode": "immediate"
             }
            ],
            "label": "80",
            "method": "animate"
           },
           {
            "args": [
             [
              "81"
             ],
             {
              "frame": {
               "duration": 50,
               "redraw": true
              },
              "mode": "immediate"
             }
            ],
            "label": "81",
            "method": "animate"
           },
           {
            "args": [
             [
              "82"
             ],
             {
              "frame": {
               "duration": 50,
               "redraw": true
              },
              "mode": "immediate"
             }
            ],
            "label": "82",
            "method": "animate"
           },
           {
            "args": [
             [
              "83"
             ],
             {
              "frame": {
               "duration": 50,
               "redraw": true
              },
              "mode": "immediate"
             }
            ],
            "label": "83",
            "method": "animate"
           },
           {
            "args": [
             [
              "84"
             ],
             {
              "frame": {
               "duration": 50,
               "redraw": true
              },
              "mode": "immediate"
             }
            ],
            "label": "84",
            "method": "animate"
           },
           {
            "args": [
             [
              "85"
             ],
             {
              "frame": {
               "duration": 50,
               "redraw": true
              },
              "mode": "immediate"
             }
            ],
            "label": "85",
            "method": "animate"
           },
           {
            "args": [
             [
              "86"
             ],
             {
              "frame": {
               "duration": 50,
               "redraw": true
              },
              "mode": "immediate"
             }
            ],
            "label": "86",
            "method": "animate"
           },
           {
            "args": [
             [
              "87"
             ],
             {
              "frame": {
               "duration": 50,
               "redraw": true
              },
              "mode": "immediate"
             }
            ],
            "label": "87",
            "method": "animate"
           },
           {
            "args": [
             [
              "88"
             ],
             {
              "frame": {
               "duration": 50,
               "redraw": true
              },
              "mode": "immediate"
             }
            ],
            "label": "88",
            "method": "animate"
           },
           {
            "args": [
             [
              "89"
             ],
             {
              "frame": {
               "duration": 50,
               "redraw": true
              },
              "mode": "immediate"
             }
            ],
            "label": "89",
            "method": "animate"
           },
           {
            "args": [
             [
              "90"
             ],
             {
              "frame": {
               "duration": 50,
               "redraw": true
              },
              "mode": "immediate"
             }
            ],
            "label": "90",
            "method": "animate"
           },
           {
            "args": [
             [
              "91"
             ],
             {
              "frame": {
               "duration": 50,
               "redraw": true
              },
              "mode": "immediate"
             }
            ],
            "label": "91",
            "method": "animate"
           },
           {
            "args": [
             [
              "92"
             ],
             {
              "frame": {
               "duration": 50,
               "redraw": true
              },
              "mode": "immediate"
             }
            ],
            "label": "92",
            "method": "animate"
           },
           {
            "args": [
             [
              "93"
             ],
             {
              "frame": {
               "duration": 50,
               "redraw": true
              },
              "mode": "immediate"
             }
            ],
            "label": "93",
            "method": "animate"
           },
           {
            "args": [
             [
              "94"
             ],
             {
              "frame": {
               "duration": 50,
               "redraw": true
              },
              "mode": "immediate"
             }
            ],
            "label": "94",
            "method": "animate"
           },
           {
            "args": [
             [
              "95"
             ],
             {
              "frame": {
               "duration": 50,
               "redraw": true
              },
              "mode": "immediate"
             }
            ],
            "label": "95",
            "method": "animate"
           },
           {
            "args": [
             [
              "96"
             ],
             {
              "frame": {
               "duration": 50,
               "redraw": true
              },
              "mode": "immediate"
             }
            ],
            "label": "96",
            "method": "animate"
           },
           {
            "args": [
             [
              "97"
             ],
             {
              "frame": {
               "duration": 50,
               "redraw": true
              },
              "mode": "immediate"
             }
            ],
            "label": "97",
            "method": "animate"
           },
           {
            "args": [
             [
              "98"
             ],
             {
              "frame": {
               "duration": 50,
               "redraw": true
              },
              "mode": "immediate"
             }
            ],
            "label": "98",
            "method": "animate"
           },
           {
            "args": [
             [
              "99"
             ],
             {
              "frame": {
               "duration": 50,
               "redraw": true
              },
              "mode": "immediate"
             }
            ],
            "label": "99",
            "method": "animate"
           }
          ],
          "transition": {
           "duration": 0
          },
          "x": 0.1,
          "y": 0
         }
        ],
        "template": {
         "data": {
          "bar": [
           {
            "error_x": {
             "color": "#2a3f5f"
            },
            "error_y": {
             "color": "#2a3f5f"
            },
            "marker": {
             "line": {
              "color": "#E5ECF6",
              "width": 0.5
             },
             "pattern": {
              "fillmode": "overlay",
              "size": 10,
              "solidity": 0.2
             }
            },
            "type": "bar"
           }
          ],
          "barpolar": [
           {
            "marker": {
             "line": {
              "color": "#E5ECF6",
              "width": 0.5
             },
             "pattern": {
              "fillmode": "overlay",
              "size": 10,
              "solidity": 0.2
             }
            },
            "type": "barpolar"
           }
          ],
          "carpet": [
           {
            "aaxis": {
             "endlinecolor": "#2a3f5f",
             "gridcolor": "white",
             "linecolor": "white",
             "minorgridcolor": "white",
             "startlinecolor": "#2a3f5f"
            },
            "baxis": {
             "endlinecolor": "#2a3f5f",
             "gridcolor": "white",
             "linecolor": "white",
             "minorgridcolor": "white",
             "startlinecolor": "#2a3f5f"
            },
            "type": "carpet"
           }
          ],
          "choropleth": [
           {
            "colorbar": {
             "outlinewidth": 0,
             "ticks": ""
            },
            "type": "choropleth"
           }
          ],
          "contour": [
           {
            "colorbar": {
             "outlinewidth": 0,
             "ticks": ""
            },
            "colorscale": [
             [
              0,
              "#0d0887"
             ],
             [
              0.1111111111111111,
              "#46039f"
             ],
             [
              0.2222222222222222,
              "#7201a8"
             ],
             [
              0.3333333333333333,
              "#9c179e"
             ],
             [
              0.4444444444444444,
              "#bd3786"
             ],
             [
              0.5555555555555556,
              "#d8576b"
             ],
             [
              0.6666666666666666,
              "#ed7953"
             ],
             [
              0.7777777777777778,
              "#fb9f3a"
             ],
             [
              0.8888888888888888,
              "#fdca26"
             ],
             [
              1,
              "#f0f921"
             ]
            ],
            "type": "contour"
           }
          ],
          "contourcarpet": [
           {
            "colorbar": {
             "outlinewidth": 0,
             "ticks": ""
            },
            "type": "contourcarpet"
           }
          ],
          "heatmap": [
           {
            "colorbar": {
             "outlinewidth": 0,
             "ticks": ""
            },
            "colorscale": [
             [
              0,
              "#0d0887"
             ],
             [
              0.1111111111111111,
              "#46039f"
             ],
             [
              0.2222222222222222,
              "#7201a8"
             ],
             [
              0.3333333333333333,
              "#9c179e"
             ],
             [
              0.4444444444444444,
              "#bd3786"
             ],
             [
              0.5555555555555556,
              "#d8576b"
             ],
             [
              0.6666666666666666,
              "#ed7953"
             ],
             [
              0.7777777777777778,
              "#fb9f3a"
             ],
             [
              0.8888888888888888,
              "#fdca26"
             ],
             [
              1,
              "#f0f921"
             ]
            ],
            "type": "heatmap"
           }
          ],
          "histogram": [
           {
            "marker": {
             "pattern": {
              "fillmode": "overlay",
              "size": 10,
              "solidity": 0.2
             }
            },
            "type": "histogram"
           }
          ],
          "histogram2d": [
           {
            "colorbar": {
             "outlinewidth": 0,
             "ticks": ""
            },
            "colorscale": [
             [
              0,
              "#0d0887"
             ],
             [
              0.1111111111111111,
              "#46039f"
             ],
             [
              0.2222222222222222,
              "#7201a8"
             ],
             [
              0.3333333333333333,
              "#9c179e"
             ],
             [
              0.4444444444444444,
              "#bd3786"
             ],
             [
              0.5555555555555556,
              "#d8576b"
             ],
             [
              0.6666666666666666,
              "#ed7953"
             ],
             [
              0.7777777777777778,
              "#fb9f3a"
             ],
             [
              0.8888888888888888,
              "#fdca26"
             ],
             [
              1,
              "#f0f921"
             ]
            ],
            "type": "histogram2d"
           }
          ],
          "histogram2dcontour": [
           {
            "colorbar": {
             "outlinewidth": 0,
             "ticks": ""
            },
            "colorscale": [
             [
              0,
              "#0d0887"
             ],
             [
              0.1111111111111111,
              "#46039f"
             ],
             [
              0.2222222222222222,
              "#7201a8"
             ],
             [
              0.3333333333333333,
              "#9c179e"
             ],
             [
              0.4444444444444444,
              "#bd3786"
             ],
             [
              0.5555555555555556,
              "#d8576b"
             ],
             [
              0.6666666666666666,
              "#ed7953"
             ],
             [
              0.7777777777777778,
              "#fb9f3a"
             ],
             [
              0.8888888888888888,
              "#fdca26"
             ],
             [
              1,
              "#f0f921"
             ]
            ],
            "type": "histogram2dcontour"
           }
          ],
          "mesh3d": [
           {
            "colorbar": {
             "outlinewidth": 0,
             "ticks": ""
            },
            "type": "mesh3d"
           }
          ],
          "parcoords": [
           {
            "line": {
             "colorbar": {
              "outlinewidth": 0,
              "ticks": ""
             }
            },
            "type": "parcoords"
           }
          ],
          "pie": [
           {
            "automargin": true,
            "type": "pie"
           }
          ],
          "scatter": [
           {
            "fillpattern": {
             "fillmode": "overlay",
             "size": 10,
             "solidity": 0.2
            },
            "type": "scatter"
           }
          ],
          "scatter3d": [
           {
            "line": {
             "colorbar": {
              "outlinewidth": 0,
              "ticks": ""
             }
            },
            "marker": {
             "colorbar": {
              "outlinewidth": 0,
              "ticks": ""
             }
            },
            "type": "scatter3d"
           }
          ],
          "scattercarpet": [
           {
            "marker": {
             "colorbar": {
              "outlinewidth": 0,
              "ticks": ""
             }
            },
            "type": "scattercarpet"
           }
          ],
          "scattergeo": [
           {
            "marker": {
             "colorbar": {
              "outlinewidth": 0,
              "ticks": ""
             }
            },
            "type": "scattergeo"
           }
          ],
          "scattergl": [
           {
            "marker": {
             "colorbar": {
              "outlinewidth": 0,
              "ticks": ""
             }
            },
            "type": "scattergl"
           }
          ],
          "scattermap": [
           {
            "marker": {
             "colorbar": {
              "outlinewidth": 0,
              "ticks": ""
             }
            },
            "type": "scattermap"
           }
          ],
          "scattermapbox": [
           {
            "marker": {
             "colorbar": {
              "outlinewidth": 0,
              "ticks": ""
             }
            },
            "type": "scattermapbox"
           }
          ],
          "scatterpolar": [
           {
            "marker": {
             "colorbar": {
              "outlinewidth": 0,
              "ticks": ""
             }
            },
            "type": "scatterpolar"
           }
          ],
          "scatterpolargl": [
           {
            "marker": {
             "colorbar": {
              "outlinewidth": 0,
              "ticks": ""
             }
            },
            "type": "scatterpolargl"
           }
          ],
          "scatterternary": [
           {
            "marker": {
             "colorbar": {
              "outlinewidth": 0,
              "ticks": ""
             }
            },
            "type": "scatterternary"
           }
          ],
          "surface": [
           {
            "colorbar": {
             "outlinewidth": 0,
             "ticks": ""
            },
            "colorscale": [
             [
              0,
              "#0d0887"
             ],
             [
              0.1111111111111111,
              "#46039f"
             ],
             [
              0.2222222222222222,
              "#7201a8"
             ],
             [
              0.3333333333333333,
              "#9c179e"
             ],
             [
              0.4444444444444444,
              "#bd3786"
             ],
             [
              0.5555555555555556,
              "#d8576b"
             ],
             [
              0.6666666666666666,
              "#ed7953"
             ],
             [
              0.7777777777777778,
              "#fb9f3a"
             ],
             [
              0.8888888888888888,
              "#fdca26"
             ],
             [
              1,
              "#f0f921"
             ]
            ],
            "type": "surface"
           }
          ],
          "table": [
           {
            "cells": {
             "fill": {
              "color": "#EBF0F8"
             },
             "line": {
              "color": "white"
             }
            },
            "header": {
             "fill": {
              "color": "#C8D4E3"
             },
             "line": {
              "color": "white"
             }
            },
            "type": "table"
           }
          ]
         },
         "layout": {
          "annotationdefaults": {
           "arrowcolor": "#2a3f5f",
           "arrowhead": 0,
           "arrowwidth": 1
          },
          "autotypenumbers": "strict",
          "coloraxis": {
           "colorbar": {
            "outlinewidth": 0,
            "ticks": ""
           }
          },
          "colorscale": {
           "diverging": [
            [
             0,
             "#8e0152"
            ],
            [
             0.1,
             "#c51b7d"
            ],
            [
             0.2,
             "#de77ae"
            ],
            [
             0.3,
             "#f1b6da"
            ],
            [
             0.4,
             "#fde0ef"
            ],
            [
             0.5,
             "#f7f7f7"
            ],
            [
             0.6,
             "#e6f5d0"
            ],
            [
             0.7,
             "#b8e186"
            ],
            [
             0.8,
             "#7fbc41"
            ],
            [
             0.9,
             "#4d9221"
            ],
            [
             1,
             "#276419"
            ]
           ],
           "sequential": [
            [
             0,
             "#0d0887"
            ],
            [
             0.1111111111111111,
             "#46039f"
            ],
            [
             0.2222222222222222,
             "#7201a8"
            ],
            [
             0.3333333333333333,
             "#9c179e"
            ],
            [
             0.4444444444444444,
             "#bd3786"
            ],
            [
             0.5555555555555556,
             "#d8576b"
            ],
            [
             0.6666666666666666,
             "#ed7953"
            ],
            [
             0.7777777777777778,
             "#fb9f3a"
            ],
            [
             0.8888888888888888,
             "#fdca26"
            ],
            [
             1,
             "#f0f921"
            ]
           ],
           "sequentialminus": [
            [
             0,
             "#0d0887"
            ],
            [
             0.1111111111111111,
             "#46039f"
            ],
            [
             0.2222222222222222,
             "#7201a8"
            ],
            [
             0.3333333333333333,
             "#9c179e"
            ],
            [
             0.4444444444444444,
             "#bd3786"
            ],
            [
             0.5555555555555556,
             "#d8576b"
            ],
            [
             0.6666666666666666,
             "#ed7953"
            ],
            [
             0.7777777777777778,
             "#fb9f3a"
            ],
            [
             0.8888888888888888,
             "#fdca26"
            ],
            [
             1,
             "#f0f921"
            ]
           ]
          },
          "colorway": [
           "#636efa",
           "#EF553B",
           "#00cc96",
           "#ab63fa",
           "#FFA15A",
           "#19d3f3",
           "#FF6692",
           "#B6E880",
           "#FF97FF",
           "#FECB52"
          ],
          "font": {
           "color": "#2a3f5f"
          },
          "geo": {
           "bgcolor": "white",
           "lakecolor": "white",
           "landcolor": "#E5ECF6",
           "showlakes": true,
           "showland": true,
           "subunitcolor": "white"
          },
          "hoverlabel": {
           "align": "left"
          },
          "hovermode": "closest",
          "mapbox": {
           "style": "light"
          },
          "paper_bgcolor": "white",
          "plot_bgcolor": "#E5ECF6",
          "polar": {
           "angularaxis": {
            "gridcolor": "white",
            "linecolor": "white",
            "ticks": ""
           },
           "bgcolor": "#E5ECF6",
           "radialaxis": {
            "gridcolor": "white",
            "linecolor": "white",
            "ticks": ""
           }
          },
          "scene": {
           "xaxis": {
            "backgroundcolor": "#E5ECF6",
            "gridcolor": "white",
            "gridwidth": 2,
            "linecolor": "white",
            "showbackground": true,
            "ticks": "",
            "zerolinecolor": "white"
           },
           "yaxis": {
            "backgroundcolor": "#E5ECF6",
            "gridcolor": "white",
            "gridwidth": 2,
            "linecolor": "white",
            "showbackground": true,
            "ticks": "",
            "zerolinecolor": "white"
           },
           "zaxis": {
            "backgroundcolor": "#E5ECF6",
            "gridcolor": "white",
            "gridwidth": 2,
            "linecolor": "white",
            "showbackground": true,
            "ticks": "",
            "zerolinecolor": "white"
           }
          },
          "shapedefaults": {
           "line": {
            "color": "#2a3f5f"
           }
          },
          "ternary": {
           "aaxis": {
            "gridcolor": "white",
            "linecolor": "white",
            "ticks": ""
           },
           "baxis": {
            "gridcolor": "white",
            "linecolor": "white",
            "ticks": ""
           },
           "bgcolor": "#E5ECF6",
           "caxis": {
            "gridcolor": "white",
            "linecolor": "white",
            "ticks": ""
           }
          },
          "title": {
           "x": 0.05
          },
          "xaxis": {
           "automargin": true,
           "gridcolor": "white",
           "linecolor": "white",
           "ticks": "",
           "title": {
            "standoff": 15
           },
           "zerolinecolor": "white",
           "zerolinewidth": 2
          },
          "yaxis": {
           "automargin": true,
           "gridcolor": "white",
           "linecolor": "white",
           "ticks": "",
           "title": {
            "standoff": 15
           },
           "zerolinecolor": "white",
           "zerolinewidth": 2
          }
         }
        },
        "title": {
         "text": "Rod Cantilever (N=51)"
        },
        "updatemenus": [
         {
          "buttons": [
           {
            "args": [
             null,
             {
              "frame": {
               "duration": 50,
               "redraw": true
              },
              "fromcurrent": true
             }
            ],
            "label": "Play",
            "method": "animate"
           },
           {
            "args": [
             [
              null
             ],
             {
              "frame": {
               "duration": 0,
               "redraw": true
              },
              "mode": "immediate"
             }
            ],
            "label": "Pause",
            "method": "animate"
           }
          ],
          "direction": "left",
          "pad": {
           "r": 10,
           "t": 87
          },
          "showactive": false,
          "type": "buttons",
          "x": 0.1,
          "xanchor": "right",
          "y": 0,
          "yanchor": "top"
         }
        ]
       }
      }
     },
     "metadata": {},
     "output_type": "display_data"
    }
   ],
   "source": [
    "t = np.arange(robot.sim_params.total_time, step=robot.sim_params.dt)\n",
    "options = dismech.AnimationOptions(title='Rod Cantilever (N=51)')\n",
    "\n",
    "fig = dismech.get_interactive_animation_plotly(robot, t, qs, options)\n",
    "fig.show()"
   ]
  },
  {
   "cell_type": "code",
   "execution_count": 13,
   "metadata": {},
   "outputs": [],
   "source": [
    "#ani = dismech.get_animation(robot, t, qs, options)\n",
    "#ani.save('e2e_off_center.gif')"
   ]
  }
 ],
 "metadata": {
  "kernelspec": {
   "display_name": ".venv",
   "language": "python",
   "name": "python3"
  },
  "language_info": {
   "codemirror_mode": {
    "name": "ipython",
    "version": 3
   },
   "file_extension": ".py",
   "mimetype": "text/x-python",
   "name": "python",
   "nbconvert_exporter": "python",
   "pygments_lexer": "ipython3",
   "version": "3.12.1"
  }
 },
 "nbformat": 4,
 "nbformat_minor": 2
}
