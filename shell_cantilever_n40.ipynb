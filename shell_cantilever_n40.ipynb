{
 "cells": [
  {
   "cell_type": "code",
   "execution_count": 1,
   "metadata": {},
   "outputs": [],
   "source": [
    "%load_ext autoreload\n",
    "%autoreload 2"
   ]
  },
  {
   "cell_type": "code",
   "execution_count": null,
   "metadata": {},
   "outputs": [],
   "source": [
    "import os\n",
    "os.environ[\"MKL_THREADING_LAYER\"] = \"GNU\" # for pardiso: if the kernel crashes, try changing \"GNU\" to \"INTEL\""
   ]
  },
  {
   "cell_type": "markdown",
   "metadata": {},
   "source": [
    "## Shell Cantilever Example"
   ]
  },
  {
   "cell_type": "code",
   "execution_count": 3,
   "metadata": {},
   "outputs": [],
   "source": [
    "import numpy as np\n",
    "\n",
    "import dismech\n",
    "\n",
    "geom = dismech.GeomParams(rod_r0=0,\n",
    "                          shell_h=1e-3)\n",
    "\n",
    "material = dismech.Material(density=1200,\n",
    "                            youngs_rod=0,\n",
    "                            youngs_shell=2e8,\n",
    "                            poisson_rod=0,\n",
    "                            poisson_shell=0.5)\n",
    "\n",
    "dynamic_3d_sim = dismech.SimParams(static_sim=False,\n",
    "                                   two_d_sim=False,\n",
    "                                   use_mid_edge=False,\n",
    "                                   use_line_search=False,\n",
    "                                   show_floor=False,\n",
    "                                   log_data=True,\n",
    "                                   log_step=1,\n",
    "                                   dt=1e-2,\n",
    "                                   max_iter=25,\n",
    "                                   total_time=1.0,\n",
    "                                   plot_step=10,\n",
    "                                   tol=1e-4,\n",
    "                                   ftol=1e-4,\n",
    "                                   dtol=1e-2)\n",
    "\n",
    "env = dismech.Environment()\n",
    "env.add_force('gravity', g=np.array([0.0, 0.0, -9.81]))\n",
    "\n",
    "geo = dismech.Geometry.from_txt(\n",
    "    'tests/resources/shell_cantilever/equilateral_mesh_40.txt')\n",
    "\n",
    "robot = dismech.SoftRobot(geom, material, geo, dynamic_3d_sim, env)"
   ]
  },
  {
   "cell_type": "markdown",
   "metadata": {},
   "source": [
    "### Time Stepping\n",
    "\n",
    "As we are performing a static simulation, we must change gravity for each time step."
   ]
  },
  {
   "cell_type": "code",
   "execution_count": 4,
   "metadata": {},
   "outputs": [
    {
     "data": {
      "application/vnd.jupyter.widget-view+json": {
       "model_id": "187070f6268040d28e937b9d66a7150a",
       "version_major": 2,
       "version_minor": 0
      },
      "text/plain": [
       "  0%|          | 0/100 [00:00<?, ?it/s]"
      ]
     },
     "metadata": {},
     "output_type": "display_data"
    }
   ],
   "source": [
    "from tqdm.notebook import tqdm\n",
    "import cProfile\n",
    "\n",
    "fixed_points = np.array(np.where(robot.q.reshape(-1, 3)[:, 0] <= 0.01)[0])\n",
    "stepper = dismech.TimeStepper(robot, fixed_points)\n",
    "robot = stepper.robot   # update robot\n",
    "\n",
    "qs = []\n",
    "steps = int(robot.sim_params.total_time / robot.sim_params.dt) + 1\n",
    "for i in tqdm(range(1, steps)):\n",
    "    new_robot = stepper.step()\n",
    "    qs.append(new_robot.q)\n",
    "qs = np.stack(qs)"
   ]
  },
  {
   "cell_type": "code",
   "execution_count": null,
   "metadata": {},
   "outputs": [],
   "source": [
    "import numpy as np\n",
    "import matplotlib.pyplot as plt\n",
    "from matplotlib.animation import FuncAnimation\n",
    "from mpl_toolkits.mplot3d.art3d import Line3DCollection, Poly3DCollection\n",
    "\n",
    "from dataclasses import dataclass\n",
    "\n",
    "@dataclass\n",
    "class Options:\n",
    "    free_node_color: str = '#1f78b4'\n",
    "    fixed_node_color: str = '#e31a1c'\n",
    "    edge_color: str = '#333333'\n",
    "    face_color: tuple = (166/255, 206/255, 227/255, 0.4)\n",
    "    title: str = \"Dismech Simulation\"\n",
    "    x_lim: tuple = None\n",
    "    y_lim: tuple = None\n",
    "    z_lim: tuple = None\n",
    "    camera_view: tuple = (30, 45)  # (elevation, azimuth) angles in degrees\n",
    "    follow_data: bool = False  # New option to follow the data dynamically\n",
    "\n",
    "def get_animation(robot, t, qs, options: Options):\n",
    "    n_frames = qs.shape[0]\n",
    "    n_nodes = len(robot.node_dof_indices)\n",
    "\n",
    "    # Precompute mapping from node index to its dof indices.\n",
    "    node_dof_list = [robot.map_node_to_dof(i) for i in range(n_nodes)]\n",
    "\n",
    "    # Pre-compute node positions for each frame; shape (n_frames, n_nodes, 3)\n",
    "    nodes_all = np.array([[q[dofs] for dofs in node_dof_list] for q in qs])\n",
    "\n",
    "    # Determine which nodes are fixed\n",
    "    fixed_set = set(robot.fixed_dof)\n",
    "    node_is_fixed = np.array([all(d in fixed_set for d in dofs) for dofs in node_dof_list])\n",
    "\n",
    "    # Create figure and 3D axis.\n",
    "    fig = plt.figure()\n",
    "    ax = fig.add_subplot(111, projection='3d')\n",
    "\n",
    "    ax.set_xlabel('X Position')\n",
    "    ax.set_ylabel('Y Position')\n",
    "    ax.set_zlabel('Z Position')\n",
    "    ax.set_title(options.title)\n",
    "\n",
    "    ax.view_init(*options.camera_view)\n",
    "\n",
    "    scatter_free = ax.scatter([], [], [], color=options.free_node_color, s=15)\n",
    "    scatter_fixed = ax.scatter([], [], [], color=options.fixed_node_color, s=15)\n",
    "\n",
    "\n",
    "    edge_collection = Line3DCollection([[(0, 0, 0), (0, 0, 0)]], colors=options.edge_color, linewidths=1.5)\n",
    "    ax.add_collection3d(edge_collection)\n",
    "    face_collection = Poly3DCollection([[(0, 0, 0), (0, 0, 0), (0, 0, 0)]], facecolors=options.face_color, edgecolors='none')\n",
    "    ax.add_collection3d(face_collection)\n",
    "\n",
    "    time_text = ax.text2D(0.05, 0.95, \"\", transform=ax.transAxes)\n",
    "\n",
    "    if not options.follow_data:\n",
    "        ax.set_xlim(*((options.x_lim or (nodes_all[:, :, 0].min(), nodes_all[:, :, 0].max()))))\n",
    "        ax.set_ylim(*((options.y_lim or (nodes_all[:, :, 1].min(), nodes_all[:, :, 1].max()))))\n",
    "        ax.set_zlim(*((options.z_lim or (nodes_all[:, :, 2].min(), nodes_all[:, :, 2].max()))))\n",
    "\n",
    "    def init():\n",
    "        scatter_free._offsets3d = ([], [], [])\n",
    "        scatter_fixed._offsets3d = ([], [], [])\n",
    "        edge_collection.set_segments([])\n",
    "        face_collection.set_verts([])\n",
    "        time_text.set_text(\"\")\n",
    "        return scatter_free, scatter_fixed, edge_collection, face_collection, time_text\n",
    "\n",
    "    def update(frame):\n",
    "        nodes = nodes_all[frame]\n",
    "        scatter_free._offsets3d = (nodes[~node_is_fixed, 0], nodes[~node_is_fixed, 1], nodes[~node_is_fixed, 2])\n",
    "        scatter_fixed._offsets3d = (nodes[node_is_fixed, 0], nodes[node_is_fixed, 1], nodes[node_is_fixed, 2])\n",
    "\n",
    "        edge_collection.set_segments([[nodes[i], nodes[j]] for i, j in robot.edges])\n",
    "        face_collection.set_verts([[nodes[i], nodes[j], nodes[k]] for i, j, k in robot.face_nodes_shell])\n",
    "\n",
    "        if options.follow_data:\n",
    "            ax.set_xlim(nodes[:, 0].min(), nodes[:, 0].max())\n",
    "            ax.set_ylim(nodes[:, 1].min(), nodes[:, 1].max())\n",
    "            ax.set_zlim(nodes[:, 2].min(), nodes[:, 2].max())\n",
    "\n",
    "        time_text.set_text(f\"Time: {t[frame]:.2f}s (Step: {frame+1}/{n_frames})\")\n",
    "        return scatter_free, scatter_fixed, edge_collection, face_collection, time_text\n",
    "\n",
    "    ani = FuncAnimation(fig, update, frames=n_frames, init_func=init, interval=50, blit=False)\n",
    "    return ani\n"
   ]
  },
  {
   "cell_type": "code",
   "execution_count": null,
   "metadata": {},
   "outputs": [],
   "source": [
    "%matplotlib notebook\n",
    "from IPython.display import HTML\n",
    "t = np.arange(robot.sim_params.total_time, step=robot.sim_params.dt)  # (100)\n",
    "options = Options(z_lim=[-0.01, 0.01],\n",
    "                  title='Shell Cantilever (N=40)')\n",
    "\n",
    "ani = get_animation(robot, t, qs, options)\n",
    "#ani.save('cantilever.gif', 'pillow')\n",
    "HTML(ani.to_jshtml())"
   ]
  }
 ],
 "metadata": {
  "kernelspec": {
   "display_name": ".venv",
   "language": "python",
   "name": "python3"
  },
  "language_info": {
   "codemirror_mode": {
    "name": "ipython",
    "version": 3
   },
   "file_extension": ".py",
   "mimetype": "text/x-python",
   "name": "python",
   "nbconvert_exporter": "python",
   "pygments_lexer": "ipython3",
   "version": "3.12.1"
  }
 },
 "nbformat": 4,
 "nbformat_minor": 2
}
