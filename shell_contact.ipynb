{
 "cells": [
  {
   "cell_type": "markdown",
   "metadata": {},
   "source": [
    "## Shell Contact Example"
   ]
  },
  {
   "cell_type": "code",
   "execution_count": 1,
   "metadata": {},
   "outputs": [],
   "source": [
    "# !pip install debugpy"
   ]
  },
  {
   "cell_type": "code",
   "execution_count": 2,
   "metadata": {},
   "outputs": [],
   "source": [
    "import numpy as np\n",
    "\n",
    "import dismech\n",
    "\n",
    "\n",
    "geom = dismech.GeomParams(rod_r0=0.005,\n",
    "                          shell_h=0.005)\n",
    "\n",
    "material = dismech.Material(density=1200,\n",
    "                            youngs_rod=0,\n",
    "                            youngs_shell=2e8,\n",
    "                            poisson_rod=0,\n",
    "                            poisson_shell=0.5)\n",
    "\n",
    "shell_contact_sim = dismech.SimParams(static_sim=False,\n",
    "                                  two_d_sim=False,   # no twisting\n",
    "                                  use_mid_edge=False,\n",
    "                                  use_line_search=False,\n",
    "                                  show_floor=False,\n",
    "                                  log_data=True,\n",
    "                                  log_step=1,\n",
    "                                  dt=1e-2,\n",
    "                                  max_iter=120,\n",
    "                                  total_time=1.0,\n",
    "                                  plot_step=1,\n",
    "                                  tol=1e-4,\n",
    "                                  ftol=1e-4,\n",
    "                                  dtol=1e-2)\n",
    "\n",
    "env = dismech.Environment()\n",
    "#env.add_force('gravity', g=np.array([0.0, 0.0, -9.81]))\n",
    "# env.add_force('selfContact', delta=0.01*2*5e-3, h=5e-3)\n",
    "env.add_force('selfContact', delta=1e-4, h=5e-3, kc=1)\n",
    "#env.set_static()   \n",
    "\n",
    "geo = dismech.Geometry.from_txt('input_twoTriangleContact_p2t.txt')\n",
    "\n",
    "robot = dismech.SoftRobot(geom, material, geo, shell_contact_sim, env)\n",
    "\n",
    "u = robot.state.u\n",
    "u[11] = -0.5\n",
    "u[14] = -0.5\n",
    "u[17] = -0.5"
   ]
  },
  {
   "cell_type": "markdown",
   "metadata": {},
   "source": [
    "### Time Stepping\n",
    "\n",
    "As we are performing a static simulation, we must change gravity for each time step."
   ]
  },
  {
   "cell_type": "code",
   "execution_count": 3,
   "metadata": {},
   "outputs": [
    {
     "name": "stdout",
     "output_type": "stream",
     "text": [
      "delta: 0.02\n",
      "h: 1.0\n",
      "K1: 750.0\n",
      "scale:  200.0\n",
      "kc:  1\n",
      "upper limit for quadratic: 1.98\n",
      "upper limit for smooth: 2.02\n",
      "87.46427842267951\n",
      "7.768388458966725e-14\n",
      "current_time:  0.01\n",
      "87.46427842267958\n",
      "0.0\n",
      "current_time:  0.02\n",
      "87.46427842267958\n",
      "0.0\n",
      "current_time:  0.03\n",
      "87.46427842267958\n",
      "0.0\n",
      "current_time:  0.04\n",
      "87.46427842267958\n",
      "0.0\n",
      "current_time:  0.05\n",
      "87.46427842267958\n",
      "0.0\n",
      "current_time:  0.06\n",
      "87.46427842267958\n",
      "0.0\n",
      "current_time:  0.07\n",
      "87.46427842267958\n",
      "0.0\n",
      "current_time:  0.08\n",
      "87.46427842267958\n",
      "0.0\n",
      "current_time:  0.09\n",
      "87.46427842267958\n",
      "0.0\n",
      "current_time:  0.1\n",
      "87.46427842267958\n",
      "0.0\n",
      "current_time:  0.11\n",
      "87.46427842267958\n",
      "0.0\n",
      "current_time:  0.12\n",
      "87.46427842267958\n",
      "0.0\n",
      "current_time:  0.13\n",
      "87.46427842267958\n",
      "0.0\n",
      "current_time:  0.14\n",
      "87.46427842267958\n",
      "0.0\n",
      "current_time:  0.15\n",
      "87.46427842267958\n",
      "0.0\n",
      "current_time:  0.16\n",
      "87.46427842267958\n",
      "2.2425405839770103e-14\n",
      "current_time:  0.17\n",
      "87.46427842267957\n",
      "0.21674323064103004\n",
      "current_time:  0.18\n",
      "84.63584950507061\n",
      "403.35519759626317\n",
      "7.288488136923189\n",
      "current_time:  0.19\n",
      "84.71188060100772\n",
      "13.144676207855442\n",
      "current_time:  0.2\n",
      "76.66200981814457\n",
      "18.107327579212097\n",
      "0.28783460097086744\n",
      "current_time:  0.21\n",
      "76.08254561557405\n",
      "13.07226049504502\n",
      "current_time:  0.22\n",
      "76.08211342257846\n",
      "13.071539091131728\n",
      "current_time:  0.23\n",
      "76.0817034998922\n",
      "13.070799839489723\n",
      "current_time:  0.24\n",
      "76.08130201406145\n",
      "13.07002848888671\n",
      "current_time:  0.25\n",
      "76.08090052823312\n",
      "13.06925671703201\n",
      "current_time:  0.26\n",
      "76.08049900096727\n",
      "13.068485370443462\n",
      "current_time:  0.27\n",
      "76.08009751755448\n",
      "13.067714130010776\n",
      "current_time:  0.28\n",
      "76.0796960803695\n",
      "13.06694297650457\n",
      "current_time:  0.29\n",
      "76.07929468850907\n",
      "13.066171915152282\n",
      "current_time:  0.3\n",
      "76.07889334191617\n",
      "13.065400944259222\n",
      "current_time:  0.31\n",
      "76.07849204059241\n",
      "13.06463006572903\n",
      "current_time:  0.32\n",
      "76.0780907845319\n",
      "13.063859278313824\n",
      "current_time:  0.33\n",
      "76.07768957372518\n",
      "13.063088582296535\n",
      "current_time:  0.34\n",
      "76.07728840816567\n",
      "13.062317978566833\n",
      "current_time:  0.35000000000000003\n",
      "76.07688728784493\n",
      "13.061547465816998\n",
      "current_time:  0.36\n",
      "76.0764862127564\n",
      "13.060777043919348\n",
      "current_time:  0.37\n",
      "76.07608518289177\n",
      "13.060006713656623\n",
      "current_time:  0.38\n",
      "76.07568419824261\n",
      "13.059236475598508\n",
      "current_time:  0.39\n",
      "76.07528325880185\n",
      "13.058466328677833\n",
      "current_time:  0.4\n",
      "76.0748823645621\n",
      "13.05769627270851\n",
      "current_time:  0.41000000000000003\n",
      "76.07448151551513\n",
      "13.056926308943911\n",
      "current_time:  0.42\n",
      "76.07408071165382\n",
      "161.18304493443867\n",
      "73.0092093669786\n",
      "73.01464043081097\n",
      "73.00581678979583\n",
      "73.00581308776643\n",
      "73.00581532541847\n",
      "73.00581532610084\n",
      "73.00581532555759\n",
      "73.00581532555063\n",
      "73.00581532555832\n",
      "73.00581532555061\n",
      "73.00581532554577\n",
      "73.00581532556473\n",
      "73.00581532556254\n",
      "73.0058153255555\n",
      "73.00581532555005\n",
      "73.00581532556166\n",
      "73.00581532554966\n",
      "73.0058153255615\n",
      "73.00581532555695\n",
      "65.70578473282572\n",
      "60.517274994457466\n",
      "56.59815288005826\n",
      "53.532381666443655\n",
      "51.07319638033412\n",
      "49.06356903229617\n",
      "47.39713633936962\n",
      "45.99907481749401\n",
      "44.814870877525\n",
      "43.803818193018856\n",
      "42.93480363554928\n",
      "42.18362778418412\n",
      "41.531148222245\n",
      "current_time:  0.43\n",
      "85.39837464928773\n",
      "42.68867506775988\n",
      "62.53564384635747\n",
      "38.73253604948814\n",
      "62.56344518307525\n",
      "38.73254590002129\n",
      "62.56344202479766\n",
      "38.73254589918032\n",
      "62.563442025195364\n",
      "38.73254589917809\n",
      "62.56344202519931\n",
      "38.7325458991823\n",
      "62.56344202519185\n",
      "38.732545899182355\n",
      "62.563442025196466\n",
      "38.732545899171534\n",
      "62.563442025200175\n",
      "38.73254589917799\n",
      "62.56344202519953\n",
      "38.732545899177346\n",
      "62.563442025195656\n",
      "34.859539084985045\n",
      "51.86432159675339\n",
      "30.02799641496822\n",
      "45.880367779043226\n",
      "27.09682388892883\n",
      "42.05119605822976\n",
      "25.146550863383748\n",
      "39.425083057850145\n",
      "24.151612790175506\n",
      "current_time:  0.44\n",
      "81.33264355157607\n",
      "18.12646044665507\n",
      "current_time:  0.45\n",
      "73.01647559901912\n",
      "19.018649562814517\n",
      "0.0410117842114615\n",
      "current_time:  0.46\n",
      "72.83858025603624\n",
      "18.161022850556222\n",
      "current_time:  0.47000000000000003\n",
      "72.83777045305337\n",
      "18.159522940268083\n",
      "current_time:  0.48\n",
      "72.83696055689111\n",
      "18.158024803299437\n",
      "current_time:  0.49\n",
      "72.8361508974673\n",
      "18.156526453874978\n",
      "current_time:  0.5\n",
      "72.83534136497153\n",
      "18.15502825461537\n",
      "current_time:  0.51\n",
      "72.83453195598932\n",
      "18.153530227154004\n",
      "current_time:  0.52\n",
      "72.83372267163529\n",
      "18.15203236750397\n",
      "current_time:  0.53\n",
      "72.8329135119335\n",
      "18.150534674425188\n",
      "current_time:  0.54\n",
      "72.8321044768437\n",
      "18.149037148847853\n",
      "current_time:  0.55\n",
      "72.83129556633577\n",
      "18.147539790457042\n",
      "current_time:  0.56\n",
      "72.83048678038139\n",
      "18.14604259948393\n",
      "current_time:  0.5700000000000001\n",
      "72.82967811894967\n",
      "18.144545576427777\n",
      "current_time:  0.58\n",
      "72.82886958201468\n",
      "18.143048719900808\n",
      "current_time:  0.59\n",
      "72.8280611695448\n",
      "18.14155203130173\n",
      "current_time:  0.6\n",
      "72.8272528815132\n",
      "18.140055510209983\n",
      "current_time:  0.61\n",
      "72.82644471788873\n",
      "18.138559156801605\n",
      "current_time:  0.62\n",
      "72.82563667864416\n",
      "18.137062970953227\n",
      "current_time:  0.63\n",
      "72.82482876375049\n",
      "18.135566952267837\n",
      "current_time:  0.64\n",
      "72.82402097317812\n",
      "18.134071101819266\n",
      "current_time:  0.65\n",
      "72.82321330689888\n",
      "18.132575419129942\n",
      "current_time:  0.66\n",
      "72.82240576488202\n",
      "18.13107990509018\n",
      "current_time:  0.67\n",
      "72.82159834710082\n",
      "18.12958455864858\n",
      "current_time:  0.68\n",
      "72.82079105352608\n",
      "18.128089379947323\n",
      "current_time:  0.6900000000000001\n",
      "72.81998388412835\n",
      "18.126594370270737\n",
      "current_time:  0.7000000000000001\n",
      "72.81917683887792\n",
      "18.12509952892878\n",
      "current_time:  0.71\n",
      "72.81836991774635\n",
      "18.123604856146045\n",
      "current_time:  0.72\n",
      "72.81756312070675\n",
      "18.122110351882867\n",
      "current_time:  0.73\n",
      "72.8167564477275\n",
      "18.120616016928142\n",
      "current_time:  0.74\n",
      "72.81594989878135\n",
      "18.119121849899898\n",
      "current_time:  0.75\n",
      "72.81514347383921\n",
      "18.117627852812895\n",
      "current_time:  0.76\n",
      "72.81433717287248\n",
      "18.11613402422447\n",
      "current_time:  0.77\n",
      "72.813530995851\n",
      "18.114640366393786\n",
      "current_time:  0.78\n",
      "72.81272494274695\n",
      "18.11314687709756\n",
      "current_time:  0.79\n",
      "72.81191901353263\n",
      "18.11165355839623\n",
      "current_time:  0.8\n",
      "72.81111320817655\n",
      "18.110160408882617\n",
      "current_time:  0.81\n",
      "72.81030752665208\n",
      "18.108667429754348\n",
      "current_time:  0.8200000000000001\n",
      "72.80950196893001\n",
      "18.107174621158308\n",
      "current_time:  0.8300000000000001\n",
      "72.80869653498043\n",
      "18.10568198338446\n",
      "current_time:  0.84\n",
      "72.80789122477564\n",
      "18.104189515766887\n",
      "current_time:  0.85\n",
      "72.80708603828666\n",
      "18.102697219496843\n",
      "current_time:  0.86\n",
      "72.80628097548454\n",
      "18.10120509433725\n",
      "current_time:  0.87\n",
      "72.80547603634106\n",
      "18.099713140506196\n",
      "current_time:  0.88\n",
      "72.80467122082578\n",
      "18.098221358856915\n",
      "current_time:  0.89\n",
      "72.80386652891136\n",
      "18.096729748544274\n",
      "current_time:  0.9\n",
      "72.80306196056969\n",
      "18.095238310351984\n",
      "current_time:  0.91\n",
      "72.8022575157704\n",
      "18.093747044809103\n",
      "current_time:  0.92\n",
      "72.80145319448552\n",
      "18.092255951252156\n",
      "current_time:  0.93\n",
      "72.80064899668638\n",
      "18.09076503157186\n",
      "current_time:  0.9400000000000001\n",
      "72.79984492234409\n",
      "18.08927428408007\n",
      "current_time:  0.9500000000000001\n",
      "72.79904097143016\n",
      "18.087783710200544\n",
      "current_time:  0.96\n",
      "72.79823714391492\n",
      "18.086293310466573\n",
      "current_time:  0.97\n",
      "72.79743343977101\n",
      "18.08480308409722\n",
      "current_time:  0.98\n",
      "72.796629858969\n",
      "18.083313032597395\n",
      "current_time:  0.99\n",
      "72.79582640147953\n",
      "18.081823155891158\n",
      "current_time:  1.0\n"
     ]
    }
   ],
   "source": [
    "stepper = dismech.ImplicitEulerTimeStepper(robot)\n",
    "\n",
    "robots = stepper.simulate()\n",
    "\n",
    "qs = np.stack([robot.state.q for robot in robots])"
   ]
  },
  {
   "cell_type": "code",
   "execution_count": 6,
   "metadata": {},
   "outputs": [
    {
     "data": {
      "application/vnd.plotly.v1+json": {
       "config": {
        "plotlyServerURL": "https://plot.ly"
       },
       "data": [
        {
         "marker": {
          "color": "#1f78b4",
          "size": 5
         },
         "mode": "markers",
         "name": "Free Nodes",
         "type": "scatter3d",
         "x": {
          "bdata": "AAAAAAAAAAAAAAAAAADwPwAAAAAAAAAAAAAAAAAA0D8AAAAAAAD0PwAAAAAAANA/",
          "dtype": "f8"
         },
         "y": {
          "bdata": "AAAAAAAAAAAAAAAAAAAAAAAAAAAAAPA/AAAAAAAA0D8AAAAAAADQPwAAAAAAAPQ/",
          "dtype": "f8"
         },
         "z": {
          "bdata": "AAAAAAAAAAAAAAAAAAAAAAAAAAAAAAAAUrgehetRuD/2KFyPwvXIP/YoXI/C9cg/",
          "dtype": "f8"
         }
        },
        {
         "marker": {
          "color": "#e31a1c",
          "size": 5
         },
         "mode": "markers",
         "name": "Fixed Nodes",
         "type": "scatter3d",
         "x": [],
         "y": [],
         "z": []
        },
        {
         "line": {
          "color": "#333333",
          "width": 2
         },
         "mode": "lines",
         "name": "Edges",
         "type": "scatter3d",
         "x": [
          1,
          0,
          null,
          0,
          0,
          null,
          0,
          1,
          null,
          1.25,
          0.25,
          null,
          0.25,
          0.25,
          null,
          0.25,
          1.25,
          null
         ],
         "y": [
          0,
          1,
          null,
          1,
          0,
          null,
          0,
          0,
          null,
          0.25,
          1.25,
          null,
          1.25,
          0.25,
          null,
          0.25,
          0.25,
          null
         ],
         "z": [
          0,
          0,
          null,
          0,
          0,
          null,
          0,
          0,
          null,
          0.195,
          0.195,
          null,
          0.195,
          0.095,
          null,
          0.095,
          0.195,
          null
         ]
        },
        {
         "color": "rgba(166, 206, 227, 0.7)",
         "i": [
          0,
          3
         ],
         "j": [
          1,
          4
         ],
         "k": [
          2,
          5
         ],
         "name": "Faces",
         "opacity": 0.7,
         "showscale": false,
         "type": "mesh3d",
         "x": {
          "bdata": "AAAAAAAAAAAAAAAAAADwPwAAAAAAAAAAAAAAAAAA0D8AAAAAAAD0PwAAAAAAANA/",
          "dtype": "f8"
         },
         "y": {
          "bdata": "AAAAAAAAAAAAAAAAAAAAAAAAAAAAAPA/AAAAAAAA0D8AAAAAAADQPwAAAAAAAPQ/",
          "dtype": "f8"
         },
         "z": {
          "bdata": "AAAAAAAAAAAAAAAAAAAAAAAAAAAAAAAAUrgehetRuD/2KFyPwvXIP/YoXI/C9cg/",
          "dtype": "f8"
         }
        }
       ],
       "frames": [
        {
         "data": [
          {
           "name": "Free Nodes",
           "type": "scatter3d",
           "x": {
            "bdata": "AAAAAAAAAAAAAAAAAADwPwAAAAAAAAAAAAAAAAAA0D8AAAAAAAD0PwAAAAAAANA/",
            "dtype": "f8"
           },
           "y": {
            "bdata": "AAAAAAAAAAAAAAAAAAAAAAAAAAAAAPA/AAAAAAAA0D8AAAAAAADQPwAAAAAAAPQ/",
            "dtype": "f8"
           },
           "z": {
            "bdata": "AAAAAAAAAAAAAAAAAAAAAAAAAAAAAAAAUrgehetRuD/2KFyPwvXIP/YoXI/C9cg/",
            "dtype": "f8"
           }
          },
          {
           "name": "Fixed Nodes",
           "type": "scatter3d",
           "x": [],
           "y": [],
           "z": []
          },
          {
           "name": "Edges",
           "type": "scatter3d",
           "x": [
            1,
            0,
            null,
            0,
            0,
            null,
            0,
            1,
            null,
            1.25,
            0.25,
            null,
            0.25,
            0.25,
            null,
            0.25,
            1.25,
            null
           ],
           "y": [
            0,
            1,
            null,
            1,
            0,
            null,
            0,
            0,
            null,
            0.25,
            1.25,
            null,
            1.25,
            0.25,
            null,
            0.25,
            0.25,
            null
           ],
           "z": [
            0,
            0,
            null,
            0,
            0,
            null,
            0,
            0,
            null,
            0.195,
            0.195,
            null,
            0.195,
            0.095,
            null,
            0.095,
            0.195,
            null
           ]
          },
          {
           "i": [
            0,
            3
           ],
           "j": [
            1,
            4
           ],
           "k": [
            2,
            5
           ],
           "name": "Faces",
           "type": "mesh3d",
           "x": {
            "bdata": "AAAAAAAAAAAAAAAAAADwPwAAAAAAAAAAAAAAAAAA0D8AAAAAAAD0PwAAAAAAANA/",
            "dtype": "f8"
           },
           "y": {
            "bdata": "AAAAAAAAAAAAAAAAAAAAAAAAAAAAAPA/AAAAAAAA0D8AAAAAAADQPwAAAAAAAPQ/",
            "dtype": "f8"
           },
           "z": {
            "bdata": "AAAAAAAAAAAAAAAAAAAAAAAAAAAAAAAAUrgehetRuD/2KFyPwvXIP/YoXI/C9cg/",
            "dtype": "f8"
           }
          }
         ],
         "layout": {
          "annotations": [
           {
            "showarrow": false,
            "text": "Time: 0.00s (Step: 1/100)",
            "x": 0.05,
            "xref": "paper",
            "y": 0.95,
            "yref": "paper"
           }
          ]
         },
         "name": "0"
        },
        {
         "data": [
          {
           "name": "Free Nodes",
           "type": "scatter3d",
           "x": {
            "bdata": "AAAAAAAAAAAAAAAAAADwPwAAAAAAAAAAAAAAAAAA0D8AAAAAAAD0PwAAAAAAANA/",
            "dtype": "f8"
           },
           "y": {
            "bdata": "AAAAAAAAAAAAAAAAAAAAAAAAAAAAAPA/AAAAAAAA0D8AAAAAAADQPwAAAAAAAPQ/",
            "dtype": "f8"
           },
           "z": {
            "bdata": "AAAAAAAAAAAAAAAAAAAAAAAAAAAAAAAACtejcD0Ktz9SuB6F61HIP1K4HoXrUcg/",
            "dtype": "f8"
           }
          },
          {
           "name": "Fixed Nodes",
           "type": "scatter3d",
           "x": [],
           "y": [],
           "z": []
          },
          {
           "name": "Edges",
           "type": "scatter3d",
           "x": [
            1,
            0,
            null,
            0,
            0,
            null,
            0,
            1,
            null,
            1.25,
            0.25,
            null,
            0.25,
            0.25,
            null,
            0.25,
            1.25,
            null
           ],
           "y": [
            0,
            1,
            null,
            1,
            0,
            null,
            0,
            0,
            null,
            0.25,
            1.25,
            null,
            1.25,
            0.25,
            null,
            0.25,
            0.25,
            null
           ],
           "z": [
            0,
            0,
            null,
            0,
            0,
            null,
            0,
            0,
            null,
            0.19,
            0.19,
            null,
            0.19,
            0.09,
            null,
            0.09,
            0.19,
            null
           ]
          },
          {
           "i": [
            0,
            3
           ],
           "j": [
            1,
            4
           ],
           "k": [
            2,
            5
           ],
           "name": "Faces",
           "type": "mesh3d",
           "x": {
            "bdata": "AAAAAAAAAAAAAAAAAADwPwAAAAAAAAAAAAAAAAAA0D8AAAAAAAD0PwAAAAAAANA/",
            "dtype": "f8"
           },
           "y": {
            "bdata": "AAAAAAAAAAAAAAAAAAAAAAAAAAAAAPA/AAAAAAAA0D8AAAAAAADQPwAAAAAAAPQ/",
            "dtype": "f8"
           },
           "z": {
            "bdata": "AAAAAAAAAAAAAAAAAAAAAAAAAAAAAAAACtejcD0Ktz9SuB6F61HIP1K4HoXrUcg/",
            "dtype": "f8"
           }
          }
         ],
         "layout": {
          "annotations": [
           {
            "showarrow": false,
            "text": "Time: 0.01s (Step: 2/100)",
            "x": 0.05,
            "xref": "paper",
            "y": 0.95,
            "yref": "paper"
           }
          ]
         },
         "name": "1"
        },
        {
         "data": [
          {
           "name": "Free Nodes",
           "type": "scatter3d",
           "x": {
            "bdata": "AAAAAAAAAAAAAAAAAADwPwAAAAAAAAAAAAAAAAAA0D8AAAAAAAD0PwAAAAAAANA/",
            "dtype": "f8"
           },
           "y": {
            "bdata": "AAAAAAAAAAAAAAAAAAAAAAAAAAAAAPA/AAAAAAAA0D8AAAAAAADQPwAAAAAAAPQ/",
            "dtype": "f8"
           },
           "z": {
            "bdata": "AAAAAAAAAAAAAAAAAAAAAAAAAAAAAAAAwvUoXI/CtT+uR+F6FK7HP65H4XoUrsc/",
            "dtype": "f8"
           }
          },
          {
           "name": "Fixed Nodes",
           "type": "scatter3d",
           "x": [],
           "y": [],
           "z": []
          },
          {
           "name": "Edges",
           "type": "scatter3d",
           "x": [
            1,
            0,
            null,
            0,
            0,
            null,
            0,
            1,
            null,
            1.25,
            0.25,
            null,
            0.25,
            0.25,
            null,
            0.25,
            1.25,
            null
           ],
           "y": [
            0,
            1,
            null,
            1,
            0,
            null,
            0,
            0,
            null,
            0.25,
            1.25,
            null,
            1.25,
            0.25,
            null,
            0.25,
            0.25,
            null
           ],
           "z": [
            0,
            0,
            null,
            0,
            0,
            null,
            0,
            0,
            null,
            0.185,
            0.185,
            null,
            0.185,
            0.08499999999999999,
            null,
            0.08499999999999999,
            0.185,
            null
           ]
          },
          {
           "i": [
            0,
            3
           ],
           "j": [
            1,
            4
           ],
           "k": [
            2,
            5
           ],
           "name": "Faces",
           "type": "mesh3d",
           "x": {
            "bdata": "AAAAAAAAAAAAAAAAAADwPwAAAAAAAAAAAAAAAAAA0D8AAAAAAAD0PwAAAAAAANA/",
            "dtype": "f8"
           },
           "y": {
            "bdata": "AAAAAAAAAAAAAAAAAAAAAAAAAAAAAPA/AAAAAAAA0D8AAAAAAADQPwAAAAAAAPQ/",
            "dtype": "f8"
           },
           "z": {
            "bdata": "AAAAAAAAAAAAAAAAAAAAAAAAAAAAAAAAwvUoXI/CtT+uR+F6FK7HP65H4XoUrsc/",
            "dtype": "f8"
           }
          }
         ],
         "layout": {
          "annotations": [
           {
            "showarrow": false,
            "text": "Time: 0.02s (Step: 3/100)",
            "x": 0.05,
            "xref": "paper",
            "y": 0.95,
            "yref": "paper"
           }
          ]
         },
         "name": "2"
        },
        {
         "data": [
          {
           "name": "Free Nodes",
           "type": "scatter3d",
           "x": {
            "bdata": "AAAAAAAAAAAAAAAAAADwPwAAAAAAAAAAAAAAAAAA0D8AAAAAAAD0PwAAAAAAANA/",
            "dtype": "f8"
           },
           "y": {
            "bdata": "AAAAAAAAAAAAAAAAAAAAAAAAAAAAAPA/AAAAAAAA0D8AAAAAAADQPwAAAAAAAPQ/",
            "dtype": "f8"
           },
           "z": {
            "bdata": "AAAAAAAAAAAAAAAAAAAAAAAAAAAAAAAAehSuR+F6tD8K16NwPQrHPwrXo3A9Csc/",
            "dtype": "f8"
           }
          },
          {
           "name": "Fixed Nodes",
           "type": "scatter3d",
           "x": [],
           "y": [],
           "z": []
          },
          {
           "name": "Edges",
           "type": "scatter3d",
           "x": [
            1,
            0,
            null,
            0,
            0,
            null,
            0,
            1,
            null,
            1.25,
            0.25,
            null,
            0.25,
            0.25,
            null,
            0.25,
            1.25,
            null
           ],
           "y": [
            0,
            1,
            null,
            1,
            0,
            null,
            0,
            0,
            null,
            0.25,
            1.25,
            null,
            1.25,
            0.25,
            null,
            0.25,
            0.25,
            null
           ],
           "z": [
            0,
            0,
            null,
            0,
            0,
            null,
            0,
            0,
            null,
            0.18,
            0.18,
            null,
            0.18,
            0.07999999999999999,
            null,
            0.07999999999999999,
            0.18,
            null
           ]
          },
          {
           "i": [
            0,
            3
           ],
           "j": [
            1,
            4
           ],
           "k": [
            2,
            5
           ],
           "name": "Faces",
           "type": "mesh3d",
           "x": {
            "bdata": "AAAAAAAAAAAAAAAAAADwPwAAAAAAAAAAAAAAAAAA0D8AAAAAAAD0PwAAAAAAANA/",
            "dtype": "f8"
           },
           "y": {
            "bdata": "AAAAAAAAAAAAAAAAAAAAAAAAAAAAAPA/AAAAAAAA0D8AAAAAAADQPwAAAAAAAPQ/",
            "dtype": "f8"
           },
           "z": {
            "bdata": "AAAAAAAAAAAAAAAAAAAAAAAAAAAAAAAAehSuR+F6tD8K16NwPQrHPwrXo3A9Csc/",
            "dtype": "f8"
           }
          }
         ],
         "layout": {
          "annotations": [
           {
            "showarrow": false,
            "text": "Time: 0.03s (Step: 4/100)",
            "x": 0.05,
            "xref": "paper",
            "y": 0.95,
            "yref": "paper"
           }
          ]
         },
         "name": "3"
        },
        {
         "data": [
          {
           "name": "Free Nodes",
           "type": "scatter3d",
           "x": {
            "bdata": "AAAAAAAAAAAAAAAAAADwPwAAAAAAAAAAAAAAAAAA0D8AAAAAAAD0PwAAAAAAANA/",
            "dtype": "f8"
           },
           "y": {
            "bdata": "AAAAAAAAAAAAAAAAAAAAAAAAAAAAAPA/AAAAAAAA0D8AAAAAAADQPwAAAAAAAPQ/",
            "dtype": "f8"
           },
           "z": {
            "bdata": "AAAAAAAAAAAAAAAAAAAAAAAAAAAAAAAAMjMzMzMzsz9mZmZmZmbGP2ZmZmZmZsY/",
            "dtype": "f8"
           }
          },
          {
           "name": "Fixed Nodes",
           "type": "scatter3d",
           "x": [],
           "y": [],
           "z": []
          },
          {
           "name": "Edges",
           "type": "scatter3d",
           "x": [
            1,
            0,
            null,
            0,
            0,
            null,
            0,
            1,
            null,
            1.25,
            0.25,
            null,
            0.25,
            0.25,
            null,
            0.25,
            1.25,
            null
           ],
           "y": [
            0,
            1,
            null,
            1,
            0,
            null,
            0,
            0,
            null,
            0.25,
            1.25,
            null,
            1.25,
            0.25,
            null,
            0.25,
            0.25,
            null
           ],
           "z": [
            0,
            0,
            null,
            0,
            0,
            null,
            0,
            0,
            null,
            0.175,
            0.175,
            null,
            0.175,
            0.07499999999999998,
            null,
            0.07499999999999998,
            0.175,
            null
           ]
          },
          {
           "i": [
            0,
            3
           ],
           "j": [
            1,
            4
           ],
           "k": [
            2,
            5
           ],
           "name": "Faces",
           "type": "mesh3d",
           "x": {
            "bdata": "AAAAAAAAAAAAAAAAAADwPwAAAAAAAAAAAAAAAAAA0D8AAAAAAAD0PwAAAAAAANA/",
            "dtype": "f8"
           },
           "y": {
            "bdata": "AAAAAAAAAAAAAAAAAAAAAAAAAAAAAPA/AAAAAAAA0D8AAAAAAADQPwAAAAAAAPQ/",
            "dtype": "f8"
           },
           "z": {
            "bdata": "AAAAAAAAAAAAAAAAAAAAAAAAAAAAAAAAMjMzMzMzsz9mZmZmZmbGP2ZmZmZmZsY/",
            "dtype": "f8"
           }
          }
         ],
         "layout": {
          "annotations": [
           {
            "showarrow": false,
            "text": "Time: 0.04s (Step: 5/100)",
            "x": 0.05,
            "xref": "paper",
            "y": 0.95,
            "yref": "paper"
           }
          ]
         },
         "name": "4"
        },
        {
         "data": [
          {
           "name": "Free Nodes",
           "type": "scatter3d",
           "x": {
            "bdata": "AAAAAAAAAAAAAAAAAADwPwAAAAAAAAAAAAAAAAAA0D8AAAAAAAD0PwAAAAAAANA/",
            "dtype": "f8"
           },
           "y": {
            "bdata": "AAAAAAAAAAAAAAAAAAAAAAAAAAAAAPA/AAAAAAAA0D8AAAAAAADQPwAAAAAAAPQ/",
            "dtype": "f8"
           },
           "z": {
            "bdata": "AAAAAAAAAAAAAAAAAAAAAAAAAAAAAAAA6lG4HoXrsT/C9Shcj8LFP8L1KFyPwsU/",
            "dtype": "f8"
           }
          },
          {
           "name": "Fixed Nodes",
           "type": "scatter3d",
           "x": [],
           "y": [],
           "z": []
          },
          {
           "name": "Edges",
           "type": "scatter3d",
           "x": [
            1,
            0,
            null,
            0,
            0,
            null,
            0,
            1,
            null,
            1.25,
            0.25,
            null,
            0.25,
            0.25,
            null,
            0.25,
            1.25,
            null
           ],
           "y": [
            0,
            1,
            null,
            1,
            0,
            null,
            0,
            0,
            null,
            0.25,
            1.25,
            null,
            1.25,
            0.25,
            null,
            0.25,
            0.25,
            null
           ],
           "z": [
            0,
            0,
            null,
            0,
            0,
            null,
            0,
            0,
            null,
            0.16999999999999998,
            0.16999999999999998,
            null,
            0.16999999999999998,
            0.06999999999999998,
            null,
            0.06999999999999998,
            0.16999999999999998,
            null
           ]
          },
          {
           "i": [
            0,
            3
           ],
           "j": [
            1,
            4
           ],
           "k": [
            2,
            5
           ],
           "name": "Faces",
           "type": "mesh3d",
           "x": {
            "bdata": "AAAAAAAAAAAAAAAAAADwPwAAAAAAAAAAAAAAAAAA0D8AAAAAAAD0PwAAAAAAANA/",
            "dtype": "f8"
           },
           "y": {
            "bdata": "AAAAAAAAAAAAAAAAAAAAAAAAAAAAAPA/AAAAAAAA0D8AAAAAAADQPwAAAAAAAPQ/",
            "dtype": "f8"
           },
           "z": {
            "bdata": "AAAAAAAAAAAAAAAAAAAAAAAAAAAAAAAA6lG4HoXrsT/C9Shcj8LFP8L1KFyPwsU/",
            "dtype": "f8"
           }
          }
         ],
         "layout": {
          "annotations": [
           {
            "showarrow": false,
            "text": "Time: 0.05s (Step: 6/100)",
            "x": 0.05,
            "xref": "paper",
            "y": 0.95,
            "yref": "paper"
           }
          ]
         },
         "name": "5"
        },
        {
         "data": [
          {
           "name": "Free Nodes",
           "type": "scatter3d",
           "x": {
            "bdata": "AAAAAAAAAAAAAAAAAADwPwAAAAAAAAAAAAAAAAAA0D8AAAAAAAD0PwAAAAAAANA/",
            "dtype": "f8"
           },
           "y": {
            "bdata": "AAAAAAAAAAAAAAAAAAAAAAAAAAAAAPA/AAAAAAAA0D8AAAAAAADQPwAAAAAAAPQ/",
            "dtype": "f8"
           },
           "z": {
            "bdata": "AAAAAAAAAAAAAAAAAAAAAAAAAAAAAAAAonA9CtejsD8ehetRuB7FPx6F61G4HsU/",
            "dtype": "f8"
           }
          },
          {
           "name": "Fixed Nodes",
           "type": "scatter3d",
           "x": [],
           "y": [],
           "z": []
          },
          {
           "name": "Edges",
           "type": "scatter3d",
           "x": [
            1,
            0,
            null,
            0,
            0,
            null,
            0,
            1,
            null,
            1.25,
            0.25,
            null,
            0.25,
            0.25,
            null,
            0.25,
            1.25,
            null
           ],
           "y": [
            0,
            1,
            null,
            1,
            0,
            null,
            0,
            0,
            null,
            0.25,
            1.25,
            null,
            1.25,
            0.25,
            null,
            0.25,
            0.25,
            null
           ],
           "z": [
            0,
            0,
            null,
            0,
            0,
            null,
            0,
            0,
            null,
            0.16499999999999998,
            0.16499999999999998,
            null,
            0.16499999999999998,
            0.06499999999999997,
            null,
            0.06499999999999997,
            0.16499999999999998,
            null
           ]
          },
          {
           "i": [
            0,
            3
           ],
           "j": [
            1,
            4
           ],
           "k": [
            2,
            5
           ],
           "name": "Faces",
           "type": "mesh3d",
           "x": {
            "bdata": "AAAAAAAAAAAAAAAAAADwPwAAAAAAAAAAAAAAAAAA0D8AAAAAAAD0PwAAAAAAANA/",
            "dtype": "f8"
           },
           "y": {
            "bdata": "AAAAAAAAAAAAAAAAAAAAAAAAAAAAAPA/AAAAAAAA0D8AAAAAAADQPwAAAAAAAPQ/",
            "dtype": "f8"
           },
           "z": {
            "bdata": "AAAAAAAAAAAAAAAAAAAAAAAAAAAAAAAAonA9CtejsD8ehetRuB7FPx6F61G4HsU/",
            "dtype": "f8"
           }
          }
         ],
         "layout": {
          "annotations": [
           {
            "showarrow": false,
            "text": "Time: 0.06s (Step: 7/100)",
            "x": 0.05,
            "xref": "paper",
            "y": 0.95,
            "yref": "paper"
           }
          ]
         },
         "name": "6"
        },
        {
         "data": [
          {
           "name": "Free Nodes",
           "type": "scatter3d",
           "x": {
            "bdata": "AAAAAAAAAAAAAAAAAADwPwAAAAAAAAAAAAAAAAAA0D8AAAAAAAD0PwAAAAAAANA/",
            "dtype": "f8"
           },
           "y": {
            "bdata": "AAAAAAAAAAAAAAAAAAAAAAAAAAAAAPA/AAAAAAAA0D8AAAAAAADQPwAAAAAAAPQ/",
            "dtype": "f8"
           },
           "z": {
            "bdata": "AAAAAAAAAAAAAAAAAAAAAAAAAAAAAAAAtB6F61G4rj96FK5H4XrEP3oUrkfhesQ/",
            "dtype": "f8"
           }
          },
          {
           "name": "Fixed Nodes",
           "type": "scatter3d",
           "x": [],
           "y": [],
           "z": []
          },
          {
           "name": "Edges",
           "type": "scatter3d",
           "x": [
            1,
            0,
            null,
            0,
            0,
            null,
            0,
            1,
            null,
            1.25,
            0.25,
            null,
            0.25,
            0.25,
            null,
            0.25,
            1.25,
            null
           ],
           "y": [
            0,
            1,
            null,
            1,
            0,
            null,
            0,
            0,
            null,
            0.25,
            1.25,
            null,
            1.25,
            0.25,
            null,
            0.25,
            0.25,
            null
           ],
           "z": [
            0,
            0,
            null,
            0,
            0,
            null,
            0,
            0,
            null,
            0.15999999999999998,
            0.15999999999999998,
            null,
            0.15999999999999998,
            0.05999999999999997,
            null,
            0.05999999999999997,
            0.15999999999999998,
            null
           ]
          },
          {
           "i": [
            0,
            3
           ],
           "j": [
            1,
            4
           ],
           "k": [
            2,
            5
           ],
           "name": "Faces",
           "type": "mesh3d",
           "x": {
            "bdata": "AAAAAAAAAAAAAAAAAADwPwAAAAAAAAAAAAAAAAAA0D8AAAAAAAD0PwAAAAAAANA/",
            "dtype": "f8"
           },
           "y": {
            "bdata": "AAAAAAAAAAAAAAAAAAAAAAAAAAAAAPA/AAAAAAAA0D8AAAAAAADQPwAAAAAAAPQ/",
            "dtype": "f8"
           },
           "z": {
            "bdata": "AAAAAAAAAAAAAAAAAAAAAAAAAAAAAAAAtB6F61G4rj96FK5H4XrEP3oUrkfhesQ/",
            "dtype": "f8"
           }
          }
         ],
         "layout": {
          "annotations": [
           {
            "showarrow": false,
            "text": "Time: 0.07s (Step: 8/100)",
            "x": 0.05,
            "xref": "paper",
            "y": 0.95,
            "yref": "paper"
           }
          ]
         },
         "name": "7"
        },
        {
         "data": [
          {
           "name": "Free Nodes",
           "type": "scatter3d",
           "x": {
            "bdata": "AAAAAAAAAAAAAAAAAADwPwAAAAAAAAAAAAAAAAAA0D8AAAAAAAD0PwAAAAAAANA/",
            "dtype": "f8"
           },
           "y": {
            "bdata": "AAAAAAAAAAAAAAAAAAAAAAAAAAAAAPA/AAAAAAAA0D8AAAAAAADQPwAAAAAAAPQ/",
            "dtype": "f8"
           },
           "z": {
            "bdata": "AAAAAAAAAAAAAAAAAAAAAAAAAAAAAAAAJFyPwvUorD/Wo3A9CtfDP9ajcD0K18M/",
            "dtype": "f8"
           }
          },
          {
           "name": "Fixed Nodes",
           "type": "scatter3d",
           "x": [],
           "y": [],
           "z": []
          },
          {
           "name": "Edges",
           "type": "scatter3d",
           "x": [
            1,
            0,
            null,
            0,
            0,
            null,
            0,
            1,
            null,
            1.25,
            0.25,
            null,
            0.25,
            0.25,
            null,
            0.25,
            1.25,
            null
           ],
           "y": [
            0,
            1,
            null,
            1,
            0,
            null,
            0,
            0,
            null,
            0.25,
            1.25,
            null,
            1.25,
            0.25,
            null,
            0.25,
            0.25,
            null
           ],
           "z": [
            0,
            0,
            null,
            0,
            0,
            null,
            0,
            0,
            null,
            0.15499999999999997,
            0.15499999999999997,
            null,
            0.15499999999999997,
            0.054999999999999966,
            null,
            0.054999999999999966,
            0.15499999999999997,
            null
           ]
          },
          {
           "i": [
            0,
            3
           ],
           "j": [
            1,
            4
           ],
           "k": [
            2,
            5
           ],
           "name": "Faces",
           "type": "mesh3d",
           "x": {
            "bdata": "AAAAAAAAAAAAAAAAAADwPwAAAAAAAAAAAAAAAAAA0D8AAAAAAAD0PwAAAAAAANA/",
            "dtype": "f8"
           },
           "y": {
            "bdata": "AAAAAAAAAAAAAAAAAAAAAAAAAAAAAPA/AAAAAAAA0D8AAAAAAADQPwAAAAAAAPQ/",
            "dtype": "f8"
           },
           "z": {
            "bdata": "AAAAAAAAAAAAAAAAAAAAAAAAAAAAAAAAJFyPwvUorD/Wo3A9CtfDP9ajcD0K18M/",
            "dtype": "f8"
           }
          }
         ],
         "layout": {
          "annotations": [
           {
            "showarrow": false,
            "text": "Time: 0.08s (Step: 9/100)",
            "x": 0.05,
            "xref": "paper",
            "y": 0.95,
            "yref": "paper"
           }
          ]
         },
         "name": "8"
        },
        {
         "data": [
          {
           "name": "Free Nodes",
           "type": "scatter3d",
           "x": {
            "bdata": "AAAAAAAAAAAAAAAAAADwPwAAAAAAAAAAAAAAAAAA0D8AAAAAAAD0PwAAAAAAANA/",
            "dtype": "f8"
           },
           "y": {
            "bdata": "AAAAAAAAAAAAAAAAAAAAAAAAAAAAAPA/AAAAAAAA0D8AAAAAAADQPwAAAAAAAPQ/",
            "dtype": "f8"
           },
           "z": {
            "bdata": "AAAAAAAAAAAAAAAAAAAAAAAAAAAAAAAAlJmZmZmZqT8yMzMzMzPDPzIzMzMzM8M/",
            "dtype": "f8"
           }
          },
          {
           "name": "Fixed Nodes",
           "type": "scatter3d",
           "x": [],
           "y": [],
           "z": []
          },
          {
           "name": "Edges",
           "type": "scatter3d",
           "x": [
            1,
            0,
            null,
            0,
            0,
            null,
            0,
            1,
            null,
            1.25,
            0.25,
            null,
            0.25,
            0.25,
            null,
            0.25,
            1.25,
            null
           ],
           "y": [
            0,
            1,
            null,
            1,
            0,
            null,
            0,
            0,
            null,
            0.25,
            1.25,
            null,
            1.25,
            0.25,
            null,
            0.25,
            0.25,
            null
           ],
           "z": [
            0,
            0,
            null,
            0,
            0,
            null,
            0,
            0,
            null,
            0.14999999999999997,
            0.14999999999999997,
            null,
            0.14999999999999997,
            0.04999999999999996,
            null,
            0.04999999999999996,
            0.14999999999999997,
            null
           ]
          },
          {
           "i": [
            0,
            3
           ],
           "j": [
            1,
            4
           ],
           "k": [
            2,
            5
           ],
           "name": "Faces",
           "type": "mesh3d",
           "x": {
            "bdata": "AAAAAAAAAAAAAAAAAADwPwAAAAAAAAAAAAAAAAAA0D8AAAAAAAD0PwAAAAAAANA/",
            "dtype": "f8"
           },
           "y": {
            "bdata": "AAAAAAAAAAAAAAAAAAAAAAAAAAAAAPA/AAAAAAAA0D8AAAAAAADQPwAAAAAAAPQ/",
            "dtype": "f8"
           },
           "z": {
            "bdata": "AAAAAAAAAAAAAAAAAAAAAAAAAAAAAAAAlJmZmZmZqT8yMzMzMzPDPzIzMzMzM8M/",
            "dtype": "f8"
           }
          }
         ],
         "layout": {
          "annotations": [
           {
            "showarrow": false,
            "text": "Time: 0.09s (Step: 10/100)",
            "x": 0.05,
            "xref": "paper",
            "y": 0.95,
            "yref": "paper"
           }
          ]
         },
         "name": "9"
        },
        {
         "data": [
          {
           "name": "Free Nodes",
           "type": "scatter3d",
           "x": {
            "bdata": "AAAAAAAAAAAAAAAAAADwPwAAAAAAAAAAAAAAAAAA0D8AAAAAAAD0PwAAAAAAANA/",
            "dtype": "f8"
           },
           "y": {
            "bdata": "AAAAAAAAAAAAAAAAAAAAAAAAAAAAAPA/AAAAAAAA0D8AAAAAAADQPwAAAAAAAPQ/",
            "dtype": "f8"
           },
           "z": {
            "bdata": "AAAAAAAAAAAAAAAAAAAAAAAAAAAAAAAABNejcD0Kpz+OwvUoXI/CP47C9Shcj8I/",
            "dtype": "f8"
           }
          },
          {
           "name": "Fixed Nodes",
           "type": "scatter3d",
           "x": [],
           "y": [],
           "z": []
          },
          {
           "name": "Edges",
           "type": "scatter3d",
           "x": [
            1,
            0,
            null,
            0,
            0,
            null,
            0,
            1,
            null,
            1.25,
            0.25,
            null,
            0.25,
            0.25,
            null,
            0.25,
            1.25,
            null
           ],
           "y": [
            0,
            1,
            null,
            1,
            0,
            null,
            0,
            0,
            null,
            0.25,
            1.25,
            null,
            1.25,
            0.25,
            null,
            0.25,
            0.25,
            null
           ],
           "z": [
            0,
            0,
            null,
            0,
            0,
            null,
            0,
            0,
            null,
            0.14499999999999996,
            0.14499999999999996,
            null,
            0.14499999999999996,
            0.04499999999999996,
            null,
            0.04499999999999996,
            0.14499999999999996,
            null
           ]
          },
          {
           "i": [
            0,
            3
           ],
           "j": [
            1,
            4
           ],
           "k": [
            2,
            5
           ],
           "name": "Faces",
           "type": "mesh3d",
           "x": {
            "bdata": "AAAAAAAAAAAAAAAAAADwPwAAAAAAAAAAAAAAAAAA0D8AAAAAAAD0PwAAAAAAANA/",
            "dtype": "f8"
           },
           "y": {
            "bdata": "AAAAAAAAAAAAAAAAAAAAAAAAAAAAAPA/AAAAAAAA0D8AAAAAAADQPwAAAAAAAPQ/",
            "dtype": "f8"
           },
           "z": {
            "bdata": "AAAAAAAAAAAAAAAAAAAAAAAAAAAAAAAABNejcD0Kpz+OwvUoXI/CP47C9Shcj8I/",
            "dtype": "f8"
           }
          }
         ],
         "layout": {
          "annotations": [
           {
            "showarrow": false,
            "text": "Time: 0.10s (Step: 11/100)",
            "x": 0.05,
            "xref": "paper",
            "y": 0.95,
            "yref": "paper"
           }
          ]
         },
         "name": "10"
        },
        {
         "data": [
          {
           "name": "Free Nodes",
           "type": "scatter3d",
           "x": {
            "bdata": "AAAAAAAAAAAAAAAAAADwPwAAAAAAAAAAAAAAAAAA0D8AAAAAAAD0PwAAAAAAANA/",
            "dtype": "f8"
           },
           "y": {
            "bdata": "AAAAAAAAAAAAAAAAAAAAAAAAAAAAAPA/AAAAAAAA0D8AAAAAAADQPwAAAAAAAPQ/",
            "dtype": "f8"
           },
           "z": {
            "bdata": "AAAAAAAAAAAAAAAAAAAAAAAAAAAAAAAAdBSuR+F6pD/qUbgehevBP+pRuB6F68E/",
            "dtype": "f8"
           }
          },
          {
           "name": "Fixed Nodes",
           "type": "scatter3d",
           "x": [],
           "y": [],
           "z": []
          },
          {
           "name": "Edges",
           "type": "scatter3d",
           "x": [
            1,
            0,
            null,
            0,
            0,
            null,
            0,
            1,
            null,
            1.25,
            0.25,
            null,
            0.25,
            0.25,
            null,
            0.25,
            1.25,
            null
           ],
           "y": [
            0,
            1,
            null,
            1,
            0,
            null,
            0,
            0,
            null,
            0.25,
            1.25,
            null,
            1.25,
            0.25,
            null,
            0.25,
            0.25,
            null
           ],
           "z": [
            0,
            0,
            null,
            0,
            0,
            null,
            0,
            0,
            null,
            0.13999999999999996,
            0.13999999999999996,
            null,
            0.13999999999999996,
            0.03999999999999995,
            null,
            0.03999999999999995,
            0.13999999999999996,
            null
           ]
          },
          {
           "i": [
            0,
            3
           ],
           "j": [
            1,
            4
           ],
           "k": [
            2,
            5
           ],
           "name": "Faces",
           "type": "mesh3d",
           "x": {
            "bdata": "AAAAAAAAAAAAAAAAAADwPwAAAAAAAAAAAAAAAAAA0D8AAAAAAAD0PwAAAAAAANA/",
            "dtype": "f8"
           },
           "y": {
            "bdata": "AAAAAAAAAAAAAAAAAAAAAAAAAAAAAPA/AAAAAAAA0D8AAAAAAADQPwAAAAAAAPQ/",
            "dtype": "f8"
           },
           "z": {
            "bdata": "AAAAAAAAAAAAAAAAAAAAAAAAAAAAAAAAdBSuR+F6pD/qUbgehevBP+pRuB6F68E/",
            "dtype": "f8"
           }
          }
         ],
         "layout": {
          "annotations": [
           {
            "showarrow": false,
            "text": "Time: 0.11s (Step: 12/100)",
            "x": 0.05,
            "xref": "paper",
            "y": 0.95,
            "yref": "paper"
           }
          ]
         },
         "name": "11"
        },
        {
         "data": [
          {
           "name": "Free Nodes",
           "type": "scatter3d",
           "x": {
            "bdata": "AAAAAAAAAAAAAAAAAADwPwAAAAAAAAAAAAAAAAAA0D8AAAAAAAD0PwAAAAAAANA/",
            "dtype": "f8"
           },
           "y": {
            "bdata": "AAAAAAAAAAAAAAAAAAAAAAAAAAAAAPA/AAAAAAAA0D8AAAAAAADQPwAAAAAAAPQ/",
            "dtype": "f8"
           },
           "z": {
            "bdata": "AAAAAAAAAAAAAAAAAAAAAAAAAAAAAAAA5FG4HoXroT9G4XoUrkfBP0bhehSuR8E/",
            "dtype": "f8"
           }
          },
          {
           "name": "Fixed Nodes",
           "type": "scatter3d",
           "x": [],
           "y": [],
           "z": []
          },
          {
           "name": "Edges",
           "type": "scatter3d",
           "x": [
            1,
            0,
            null,
            0,
            0,
            null,
            0,
            1,
            null,
            1.25,
            0.25,
            null,
            0.25,
            0.25,
            null,
            0.25,
            1.25,
            null
           ],
           "y": [
            0,
            1,
            null,
            1,
            0,
            null,
            0,
            0,
            null,
            0.25,
            1.25,
            null,
            1.25,
            0.25,
            null,
            0.25,
            0.25,
            null
           ],
           "z": [
            0,
            0,
            null,
            0,
            0,
            null,
            0,
            0,
            null,
            0.13499999999999995,
            0.13499999999999995,
            null,
            0.13499999999999995,
            0.03499999999999995,
            null,
            0.03499999999999995,
            0.13499999999999995,
            null
           ]
          },
          {
           "i": [
            0,
            3
           ],
           "j": [
            1,
            4
           ],
           "k": [
            2,
            5
           ],
           "name": "Faces",
           "type": "mesh3d",
           "x": {
            "bdata": "AAAAAAAAAAAAAAAAAADwPwAAAAAAAAAAAAAAAAAA0D8AAAAAAAD0PwAAAAAAANA/",
            "dtype": "f8"
           },
           "y": {
            "bdata": "AAAAAAAAAAAAAAAAAAAAAAAAAAAAAPA/AAAAAAAA0D8AAAAAAADQPwAAAAAAAPQ/",
            "dtype": "f8"
           },
           "z": {
            "bdata": "AAAAAAAAAAAAAAAAAAAAAAAAAAAAAAAA5FG4HoXroT9G4XoUrkfBP0bhehSuR8E/",
            "dtype": "f8"
           }
          }
         ],
         "layout": {
          "annotations": [
           {
            "showarrow": false,
            "text": "Time: 0.12s (Step: 13/100)",
            "x": 0.05,
            "xref": "paper",
            "y": 0.95,
            "yref": "paper"
           }
          ]
         },
         "name": "12"
        },
        {
         "data": [
          {
           "name": "Free Nodes",
           "type": "scatter3d",
           "x": {
            "bdata": "AAAAAAAAAAAAAAAAAADwPwAAAAAAAAAAAAAAAAAA0D8AAAAAAAD0PwAAAAAAANA/",
            "dtype": "f8"
           },
           "y": {
            "bdata": "AAAAAAAAAAAAAAAAAAAAAAAAAAAAAPA/AAAAAAAA0D8AAAAAAADQPwAAAAAAAPQ/",
            "dtype": "f8"
           },
           "z": {
            "bdata": "AAAAAAAAAAAAAAAAAAAAAAAAAAAAAAAAqB6F61G4nj+icD0K16PAP6JwPQrXo8A/",
            "dtype": "f8"
           }
          },
          {
           "name": "Fixed Nodes",
           "type": "scatter3d",
           "x": [],
           "y": [],
           "z": []
          },
          {
           "name": "Edges",
           "type": "scatter3d",
           "x": [
            1,
            0,
            null,
            0,
            0,
            null,
            0,
            1,
            null,
            1.25,
            0.25,
            null,
            0.25,
            0.25,
            null,
            0.25,
            1.25,
            null
           ],
           "y": [
            0,
            1,
            null,
            1,
            0,
            null,
            0,
            0,
            null,
            0.25,
            1.25,
            null,
            1.25,
            0.25,
            null,
            0.25,
            0.25,
            null
           ],
           "z": [
            0,
            0,
            null,
            0,
            0,
            null,
            0,
            0,
            null,
            0.12999999999999995,
            0.12999999999999995,
            null,
            0.12999999999999995,
            0.029999999999999943,
            null,
            0.029999999999999943,
            0.12999999999999995,
            null
           ]
          },
          {
           "i": [
            0,
            3
           ],
           "j": [
            1,
            4
           ],
           "k": [
            2,
            5
           ],
           "name": "Faces",
           "type": "mesh3d",
           "x": {
            "bdata": "AAAAAAAAAAAAAAAAAADwPwAAAAAAAAAAAAAAAAAA0D8AAAAAAAD0PwAAAAAAANA/",
            "dtype": "f8"
           },
           "y": {
            "bdata": "AAAAAAAAAAAAAAAAAAAAAAAAAAAAAPA/AAAAAAAA0D8AAAAAAADQPwAAAAAAAPQ/",
            "dtype": "f8"
           },
           "z": {
            "bdata": "AAAAAAAAAAAAAAAAAAAAAAAAAAAAAAAAqB6F61G4nj+icD0K16PAP6JwPQrXo8A/",
            "dtype": "f8"
           }
          }
         ],
         "layout": {
          "annotations": [
           {
            "showarrow": false,
            "text": "Time: 0.13s (Step: 14/100)",
            "x": 0.05,
            "xref": "paper",
            "y": 0.95,
            "yref": "paper"
           }
          ]
         },
         "name": "13"
        },
        {
         "data": [
          {
           "name": "Free Nodes",
           "type": "scatter3d",
           "x": {
            "bdata": "AAAAAAAAAAAAAAAAAADwPwAAAAAAAAAAAAAAAAAA0D8AAAAAAAD0PwAAAAAAANA/",
            "dtype": "f8"
           },
           "y": {
            "bdata": "AAAAAAAAAAAAAAAAAAAAAAAAAAAAAPA/AAAAAAAA0D8AAAAAAADQPwAAAAAAAPQ/",
            "dtype": "f8"
           },
           "z": {
            "bdata": "AAAAAAAAAAAAAAAAAAAAAAAAAAAAAAAAiJmZmZmZmT/8//////+/P/z//////78/",
            "dtype": "f8"
           }
          },
          {
           "name": "Fixed Nodes",
           "type": "scatter3d",
           "x": [],
           "y": [],
           "z": []
          },
          {
           "name": "Edges",
           "type": "scatter3d",
           "x": [
            1,
            0,
            null,
            0,
            0,
            null,
            0,
            1,
            null,
            1.25,
            0.25,
            null,
            0.25,
            0.25,
            null,
            0.25,
            1.25,
            null
           ],
           "y": [
            0,
            1,
            null,
            1,
            0,
            null,
            0,
            0,
            null,
            0.25,
            1.25,
            null,
            1.25,
            0.25,
            null,
            0.25,
            0.25,
            null
           ],
           "z": [
            0,
            0,
            null,
            0,
            0,
            null,
            0,
            0,
            null,
            0.12499999999999994,
            0.12499999999999994,
            null,
            0.12499999999999994,
            0.02499999999999994,
            null,
            0.02499999999999994,
            0.12499999999999994,
            null
           ]
          },
          {
           "i": [
            0,
            3
           ],
           "j": [
            1,
            4
           ],
           "k": [
            2,
            5
           ],
           "name": "Faces",
           "type": "mesh3d",
           "x": {
            "bdata": "AAAAAAAAAAAAAAAAAADwPwAAAAAAAAAAAAAAAAAA0D8AAAAAAAD0PwAAAAAAANA/",
            "dtype": "f8"
           },
           "y": {
            "bdata": "AAAAAAAAAAAAAAAAAAAAAAAAAAAAAPA/AAAAAAAA0D8AAAAAAADQPwAAAAAAAPQ/",
            "dtype": "f8"
           },
           "z": {
            "bdata": "AAAAAAAAAAAAAAAAAAAAAAAAAAAAAAAAiJmZmZmZmT/8//////+/P/z//////78/",
            "dtype": "f8"
           }
          }
         ],
         "layout": {
          "annotations": [
           {
            "showarrow": false,
            "text": "Time: 0.14s (Step: 15/100)",
            "x": 0.05,
            "xref": "paper",
            "y": 0.95,
            "yref": "paper"
           }
          ]
         },
         "name": "14"
        },
        {
         "data": [
          {
           "name": "Free Nodes",
           "type": "scatter3d",
           "x": {
            "bdata": "AAAAAAAAAAAAAAAAAADwPwAAAAAAAAAAAAAAAAAA0D8AAAAAAAD0PwAAAAAAANA/",
            "dtype": "f8"
           },
           "y": {
            "bdata": "AAAAAAAAAAAAAAAAAAAAAAAAAAAAAPA/AAAAAAAA0D8AAAAAAADQPwAAAAAAAPQ/",
            "dtype": "f8"
           },
           "z": {
            "bdata": "AAAAAAAAAAAAAAAAAAAAAAAAAAAAAAAAaBSuR+F6lD+0HoXrUbi+P7QehetRuL4/",
            "dtype": "f8"
           }
          },
          {
           "name": "Fixed Nodes",
           "type": "scatter3d",
           "x": [],
           "y": [],
           "z": []
          },
          {
           "name": "Edges",
           "type": "scatter3d",
           "x": [
            1,
            0,
            null,
            0,
            0,
            null,
            0,
            1,
            null,
            1.25,
            0.25,
            null,
            0.25,
            0.25,
            null,
            0.25,
            1.25,
            null
           ],
           "y": [
            0,
            1,
            null,
            1,
            0,
            null,
            0,
            0,
            null,
            0.25,
            1.25,
            null,
            1.25,
            0.25,
            null,
            0.25,
            0.25,
            null
           ],
           "z": [
            0,
            0,
            null,
            0,
            0,
            null,
            0,
            0,
            null,
            0.11999999999999994,
            0.11999999999999994,
            null,
            0.11999999999999994,
            0.019999999999999934,
            null,
            0.019999999999999934,
            0.11999999999999994,
            null
           ]
          },
          {
           "i": [
            0,
            3
           ],
           "j": [
            1,
            4
           ],
           "k": [
            2,
            5
           ],
           "name": "Faces",
           "type": "mesh3d",
           "x": {
            "bdata": "AAAAAAAAAAAAAAAAAADwPwAAAAAAAAAAAAAAAAAA0D8AAAAAAAD0PwAAAAAAANA/",
            "dtype": "f8"
           },
           "y": {
            "bdata": "AAAAAAAAAAAAAAAAAAAAAAAAAAAAAPA/AAAAAAAA0D8AAAAAAADQPwAAAAAAAPQ/",
            "dtype": "f8"
           },
           "z": {
            "bdata": "AAAAAAAAAAAAAAAAAAAAAAAAAAAAAAAAaBSuR+F6lD+0HoXrUbi+P7QehetRuL4/",
            "dtype": "f8"
           }
          }
         ],
         "layout": {
          "annotations": [
           {
            "showarrow": false,
            "text": "Time: 0.15s (Step: 16/100)",
            "x": 0.05,
            "xref": "paper",
            "y": 0.95,
            "yref": "paper"
           }
          ]
         },
         "name": "15"
        },
        {
         "data": [
          {
           "name": "Free Nodes",
           "type": "scatter3d",
           "x": {
            "bdata": "AAAAAAAAAAAAAAAAAADwPwAAAAAAAAAAAAAAAAAA0D8AAAAAAAD0PwAAAAAAANA/",
            "dtype": "f8"
           },
           "y": {
            "bdata": "AAAAAAAAAAAAAAAAAAAAAAAAAAAAAPA/AAAAAAAA0D8AAAAAAADQPwAAAAAAAPQ/",
            "dtype": "f8"
           },
           "z": {
            "bdata": "AAAAAAAAAAAAAAAAAAAAAAAAAAAAAAAAkR6F61G4jj9sPQrXo3C9P2w9CtejcL0/",
            "dtype": "f8"
           }
          },
          {
           "name": "Fixed Nodes",
           "type": "scatter3d",
           "x": [],
           "y": [],
           "z": []
          },
          {
           "name": "Edges",
           "type": "scatter3d",
           "x": [
            1,
            0,
            null,
            0,
            0,
            null,
            0,
            1,
            null,
            1.25,
            0.25,
            null,
            0.25,
            0.25,
            null,
            0.25,
            1.25,
            null
           ],
           "y": [
            0,
            1,
            null,
            1,
            0,
            null,
            0,
            0,
            null,
            0.25,
            1.25,
            null,
            1.25,
            0.25,
            null,
            0.25,
            0.25,
            null
           ],
           "z": [
            0,
            0,
            null,
            0,
            0,
            null,
            0,
            0,
            null,
            0.11499999999999994,
            0.11499999999999994,
            null,
            0.11499999999999994,
            0.014999999999999932,
            null,
            0.014999999999999932,
            0.11499999999999994,
            null
           ]
          },
          {
           "i": [
            0,
            3
           ],
           "j": [
            1,
            4
           ],
           "k": [
            2,
            5
           ],
           "name": "Faces",
           "type": "mesh3d",
           "x": {
            "bdata": "AAAAAAAAAAAAAAAAAADwPwAAAAAAAAAAAAAAAAAA0D8AAAAAAAD0PwAAAAAAANA/",
            "dtype": "f8"
           },
           "y": {
            "bdata": "AAAAAAAAAAAAAAAAAAAAAAAAAAAAAPA/AAAAAAAA0D8AAAAAAADQPwAAAAAAAPQ/",
            "dtype": "f8"
           },
           "z": {
            "bdata": "AAAAAAAAAAAAAAAAAAAAAAAAAAAAAAAAkR6F61G4jj9sPQrXo3C9P2w9CtejcL0/",
            "dtype": "f8"
           }
          }
         ],
         "layout": {
          "annotations": [
           {
            "showarrow": false,
            "text": "Time: 0.16s (Step: 17/100)",
            "x": 0.05,
            "xref": "paper",
            "y": 0.95,
            "yref": "paper"
           }
          ]
         },
         "name": "16"
        },
        {
         "data": [
          {
           "name": "Free Nodes",
           "type": "scatter3d",
           "x": {
            "bdata": "zcZFaGR61r0u0/T////vP9eDridcSda97Lu7NA4A0D//Pc42/v/zP2uAm+Dx/88/",
            "dtype": "f8"
           },
           "y": {
            "bdata": "yMZFaGR61r3Ig64nXEnWvS7T9P///+8/7Lu7NA4A0D9rgJvg8f/PP/89zjb+//M/",
            "dtype": "f8"
           },
           "z": {
            "bdata": "2GunA7Oz+z4SpvV5orPrPhGm9Xmis+s+27wsZc5fhD+ecvgT8Ci8P55y+BPwKLw/",
            "dtype": "f8"
           }
          },
          {
           "name": "Fixed Nodes",
           "type": "scatter3d",
           "x": [],
           "y": [],
           "z": []
          },
          {
           "name": "Edges",
           "type": "scatter3d",
           "x": [
            0.9999999999186906,
            -8.107804178073761e-11,
            null,
            -8.107804178073761e-11,
            -8.177483175690369e-11,
            null,
            -8.177483175690369e-11,
            0.9999999999186906,
            null,
            1.249998296818262,
            0.24999831645164092,
            null,
            0.24999831645164092,
            0.25000338697185387,
            null,
            0.25000338697185387,
            1.249998296818262,
            null
           ],
           "y": [
            -8.107804178073741e-11,
            0.9999999999186906,
            null,
            0.9999999999186906,
            -8.177483175690363e-11,
            null,
            -8.177483175690363e-11,
            -8.107804178073741e-11,
            null,
            0.24999831645164092,
            1.249998296818262,
            null,
            1.249998296818262,
            0.25000338697185387,
            null,
            0.25000338697185387,
            0.24999831645164092,
            null
           ],
           "z": [
            0.00001320919892462954,
            0.000013209198924629539,
            null,
            0.000013209198924629539,
            0.000026418638506924555,
            null,
            0.000026418638506924555,
            0.00001320919892462954,
            null,
            0.10999966132699021,
            0.10999966132699021,
            null,
            0.10999966132699021,
            0.00994836088429312,
            null,
            0.00994836088429312,
            0.10999966132699021,
            null
           ]
          },
          {
           "i": [
            0,
            3
           ],
           "j": [
            1,
            4
           ],
           "k": [
            2,
            5
           ],
           "name": "Faces",
           "type": "mesh3d",
           "x": {
            "bdata": "zcZFaGR61r0u0/T////vP9eDridcSda97Lu7NA4A0D//Pc42/v/zP2uAm+Dx/88/",
            "dtype": "f8"
           },
           "y": {
            "bdata": "yMZFaGR61r3Ig64nXEnWvS7T9P///+8/7Lu7NA4A0D9rgJvg8f/PP/89zjb+//M/",
            "dtype": "f8"
           },
           "z": {
            "bdata": "2GunA7Oz+z4SpvV5orPrPhGm9Xmis+s+27wsZc5fhD+ecvgT8Ci8P55y+BPwKLw/",
            "dtype": "f8"
           }
          }
         ],
         "layout": {
          "annotations": [
           {
            "showarrow": false,
            "text": "Time: 0.17s (Step: 18/100)",
            "x": 0.05,
            "xref": "paper",
            "y": 0.95,
            "yref": "paper"
           }
          ]
         },
         "name": "17"
        },
        {
         "data": [
          {
           "name": "Free Nodes",
           "type": "scatter3d",
           "x": {
            "bdata": "iJK69P97tD4CuBHnAADwP/CBfQnY1aw+cD4kk/74zz8qWic5bwD0P27R65q3AdA/",
            "dtype": "f8"
           },
           "y": {
            "bdata": "CJK69P97tD7wgX0J2NWsPgK4EecAAPA/cj4kk/74zz9u0euatwHQPypaJzlvAPQ/",
            "dtype": "f8"
           },
           "z": {
            "bdata": "d3yN+XmoW79pjnNRZpxLv2qOc1FmnEu/2KSjPkb/gD+5YZRHneK6P7hhlEed4ro/",
            "dtype": "f8"
           }
          },
          {
           "name": "Fixed Nodes",
           "type": "scatter3d",
           "x": [],
           "y": [],
           "z": []
          },
          {
           "name": "Edges",
           "type": "scatter3d",
           "x": [
            1.0000008607999011,
            8.593597326904926e-7,
            null,
            8.593597326904926e-7,
            0.0000012209638552775402,
            null,
            0.0000012209638552775402,
            1.0000008607999011,
            null,
            1.250106070763318,
            0.25010481003780327,
            null,
            0.25010481003780327,
            0.2497862070526824,
            null,
            0.2497862070526824,
            1.250106070763318,
            null
           ],
           "y": [
            8.593597326904926e-7,
            1.0000008607999011,
            null,
            1.0000008607999011,
            0.000001220963855277513,
            null,
            0.000001220963855277513,
            8.593597326904926e-7,
            null,
            0.25010481003780327,
            1.250106070763318,
            null,
            1.250106070763318,
            0.24978620705268245,
            null,
            0.24978620705268245,
            0.25010481003780327,
            null
           ],
           "z": [
            -0.0008426189041554458,
            -0.0008426189041554459,
            null,
            -0.0008426189041554459,
            -0.0016881171379379536,
            null,
            -0.0016881171379379536,
            -0.0008426189041554458,
            null,
            0.10502036092328283,
            0.10502036092328282,
            null,
            0.10502036092328282,
            0.00829939726505062,
            null,
            0.00829939726505062,
            0.10502036092328283,
            null
           ]
          },
          {
           "i": [
            0,
            3
           ],
           "j": [
            1,
            4
           ],
           "k": [
            2,
            5
           ],
           "name": "Faces",
           "type": "mesh3d",
           "x": {
            "bdata": "iJK69P97tD4CuBHnAADwP/CBfQnY1aw+cD4kk/74zz8qWic5bwD0P27R65q3AdA/",
            "dtype": "f8"
           },
           "y": {
            "bdata": "CJK69P97tD7wgX0J2NWsPgK4EecAAPA/cj4kk/74zz9u0euatwHQPypaJzlvAPQ/",
            "dtype": "f8"
           },
           "z": {
            "bdata": "d3yN+XmoW79pjnNRZpxLv2qOc1FmnEu/2KSjPkb/gD+5YZRHneK6P7hhlEed4ro/",
            "dtype": "f8"
           }
          }
         ],
         "layout": {
          "annotations": [
           {
            "showarrow": false,
            "text": "Time: 0.18s (Step: 19/100)",
            "x": 0.05,
            "xref": "paper",
            "y": 0.95,
            "yref": "paper"
           }
          ]
         },
         "name": "18"
        },
        {
         "data": [
          {
           "name": "Free Nodes",
           "type": "scatter3d",
           "x": {
            "bdata": "+zFMdyGbzD6R1T3PAQDwPx5rTOyJ/7w+Cfk8lezwzz9B5Ua+7QD0PyBCeTq2A9A/",
            "dtype": "f8"
           },
           "y": {
            "bdata": "qDFMdyGbzD7/akzsif+8PpHVPc8BAPA/Cfk8lezwzz8gQnk6tgPQP0HlRr7tAPQ/",
            "dtype": "f8"
           },
           "z": {
            "bdata": "dJuxjNMQbr9Lksi5wwJev0uSyLnDAl6/+Jkwh3VifT9sZBMvdpy5P2pkEy92nLk/",
            "dtype": "f8"
           }
          },
          {
           "name": "Fixed Nodes",
           "type": "scatter3d",
           "x": [],
           "y": [],
           "z": []
          },
          {
           "name": "Edges",
           "type": "scatter3d",
           "x": [
            1.0000017257092149,
            0.000001728427308117764,
            null,
            0.000001728427308117764,
            0.00000341009848126559,
            null,
            0.00000341009848126559,
            1.0000017257092149,
            null,
            1.2502267296498106,
            0.25022655210799094,
            null,
            0.25022655210799094,
            0.24953992163677466,
            null,
            0.24953992163677466,
            1.2502267296498106,
            null
           ],
           "y": [
            0.0000017284273081177575,
            1.0000017257092149,
            null,
            1.0000017257092149,
            0.0000034100984812655546,
            null,
            0.0000034100984812655546,
            0.0000017284273081177575,
            null,
            0.25022655210799094,
            1.2502267296498106,
            null,
            1.2502267296498106,
            0.24953992163677466,
            null,
            0.24953992163677466,
            0.25022655210799094,
            null
           ],
           "z": [
            -0.0018317138084366243,
            -0.0018317138084366243,
            null,
            -0.0018317138084366243,
            -0.003670132811339705,
            null,
            -0.003670132811339705,
            -0.0018317138084366243,
            null,
            0.10004366540251092,
            0.10004366540251089,
            null,
            0.10004366540251089,
            0.00717397603424396,
            null,
            0.00717397603424396,
            0.10004366540251092,
            null
           ]
          },
          {
           "i": [
            0,
            3
           ],
           "j": [
            1,
            4
           ],
           "k": [
            2,
            5
           ],
           "name": "Faces",
           "type": "mesh3d",
           "x": {
            "bdata": "+zFMdyGbzD6R1T3PAQDwPx5rTOyJ/7w+Cfk8lezwzz9B5Ua+7QD0PyBCeTq2A9A/",
            "dtype": "f8"
           },
           "y": {
            "bdata": "qDFMdyGbzD7/akzsif+8PpHVPc8BAPA/Cfk8lezwzz8gQnk6tgPQP0HlRr7tAPQ/",
            "dtype": "f8"
           },
           "z": {
            "bdata": "dJuxjNMQbr9Lksi5wwJev0uSyLnDAl6/+Jkwh3VifT9sZBMvdpy5P2pkEy92nLk/",
            "dtype": "f8"
           }
          }
         ],
         "layout": {
          "annotations": [
           {
            "showarrow": false,
            "text": "Time: 0.19s (Step: 20/100)",
            "x": 0.05,
            "xref": "paper",
            "y": 0.95,
            "yref": "paper"
           }
          ]
         },
         "name": "19"
        },
        {
         "data": [
          {
           "name": "Free Nodes",
           "type": "scatter3d",
           "x": {
            "bdata": "wAFLyk1D2j6/r+xeAgDwPwL7mGSl/8I+YxEwkTnpzz9Vd9fDZgH0P/9nVVubBdA/",
            "dtype": "f8"
           },
           "y": {
            "bdata": "hgFLyk1D2j7j+phkpf/CPr+v7F4CAPA/YREwkTnpzz//Z1VbmwXQP1V318NmAfQ/",
            "dtype": "f8"
           },
           "z": {
            "bdata": "F+qRDLQmd7/vACgnqxtnv+8AKCerG2e/jK25iHrIeD8FadU2Pla4PwJp1TY+Vrg/",
            "dtype": "f8"
           }
          },
          {
           "name": "Fixed Nodes",
           "type": "scatter3d",
           "x": [],
           "y": [],
           "z": []
          },
          {
           "name": "Edges",
           "type": "scatter3d",
           "x": [
            1.0000022609701629,
            0.0000022648116882179187,
            null,
            0.0000022648116882179187,
            0.000006261564668264376,
            null,
            0.000006261564668264376,
            1.0000022609701629,
            null,
            1.2503421449723267,
            0.2503422157220711,
            null,
            0.2503422157220711,
            0.24930495824095109,
            null,
            0.24930495824095109,
            1.2503421449723267,
            null
           ],
           "y": [
            0.0000022648116882179055,
            1.0000022609701629,
            null,
            1.0000022609701629,
            0.000006261564668264327,
            null,
            0.000006261564668264327,
            0.0000022648116882179055,
            null,
            0.2503422157220711,
            1.2503421449723267,
            null,
            1.2503421449723267,
            0.24930495824095103,
            null,
            0.24930495824095103,
            0.2503422157220711,
            null
           ],
           "z": [
            -0.002820810587991322,
            -0.002820810587991322,
            null,
            -0.002820810587991322,
            -0.0056521447341944175,
            null,
            -0.0056521447341944175,
            -0.002820810587991322,
            null,
            0.09506596411430131,
            0.09506596411430127,
            null,
            0.09506596411430127,
            0.006050566338312701,
            null,
            0.006050566338312701,
            0.09506596411430131,
            null
           ]
          },
          {
           "i": [
            0,
            3
           ],
           "j": [
            1,
            4
           ],
           "k": [
            2,
            5
           ],
           "name": "Faces",
           "type": "mesh3d",
           "x": {
            "bdata": "wAFLyk1D2j6/r+xeAgDwPwL7mGSl/8I+YxEwkTnpzz9Vd9fDZgH0P/9nVVubBdA/",
            "dtype": "f8"
           },
           "y": {
            "bdata": "hgFLyk1D2j7j+phkpf/CPr+v7F4CAPA/YREwkTnpzz//Z1VbmwXQP1V318NmAfQ/",
            "dtype": "f8"
           },
           "z": {
            "bdata": "F+qRDLQmd7/vACgnqxtnv+8AKCerG2e/jK25iHrIeD8FadU2Pla4PwJp1TY+Vrg/",
            "dtype": "f8"
           }
          }
         ],
         "layout": {
          "annotations": [
           {
            "showarrow": false,
            "text": "Time: 0.20s (Step: 21/100)",
            "x": 0.05,
            "xref": "paper",
            "y": 0.95,
            "yref": "paper"
           }
          ]
         },
         "name": "20"
        },
        {
         "data": [
          {
           "name": "Free Nodes",
           "type": "scatter3d",
           "x": {
            "bdata": "DkYRvF1+5D7ZEU2WAgDwP7NFSlWYusQ+ljsT5tzhzz+YFm2G2gH0PzdQpVtqB9A/",
            "dtype": "f8"
           },
           "y": {
            "bdata": "5EURvF1+5D6FRUpVmLrEPtkRTZYCAPA/lzsT5tzhzz83UKVbagfQP5cWbYbaAfQ/",
            "dtype": "f8"
           },
           "z": {
            "bdata": "e7Jd+PxEf7+xDNnL9TVvv7EM2cv1NW+/L6SE1VQwdD+GXj2U9w+3P4FePZT3D7c/",
            "dtype": "f8"
           }
          },
          {
           "name": "Fixed Nodes",
           "type": "scatter3d",
           "x": [],
           "y": [],
           "z": []
          },
          {
           "name": "Edges",
           "type": "scatter3d",
           "x": [
            1.0000024672636896,
            0.0000024710758828669983,
            null,
            0.0000024710758828669983,
            0.000009772118462122853,
            null,
            0.000009772118462122853,
            1.0000024672636896,
            null,
            1.2504525424023196,
            0.2504526038148955,
            null,
            0.2504526038148955,
            0.24908028825890643,
            null,
            0.24908028825890643,
            1.2504525424023196,
            null
           ],
           "y": [
            0.0000024710758828669788,
            1.0000024672636896,
            null,
            1.0000024672636896,
            0.000009772118462122782,
            null,
            0.000009772118462122782,
            0.0000024710758828669788,
            null,
            0.2504526038148955,
            1.2504525424023194,
            null,
            1.2504525424023194,
            0.24908028825890646,
            null,
            0.24908028825890646,
            0.2504526038148955,
            null
           ],
           "z": [
            -0.003809909888134643,
            -0.003809909888134643,
            null,
            -0.003809909888134643,
            -0.007634151615871883,
            null,
            -0.007634151615871883,
            -0.003809909888134643,
            null,
            0.09008738869794727,
            0.0900873886979472,
            null,
            0.0900873886979472,
            0.004928904898670302,
            null,
            0.004928904898670302,
            0.09008738869794727,
            null
           ]
          },
          {
           "i": [
            0,
            3
           ],
           "j": [
            1,
            4
           ],
           "k": [
            2,
            5
           ],
           "name": "Faces",
           "type": "mesh3d",
           "x": {
            "bdata": "DkYRvF1+5D7ZEU2WAgDwP7NFSlWYusQ+ljsT5tzhzz+YFm2G2gH0PzdQpVtqB9A/",
            "dtype": "f8"
           },
           "y": {
            "bdata": "5EURvF1+5D6FRUpVmLrEPtkRTZYCAPA/lzsT5tzhzz83UKVbagfQP5cWbYbaAfQ/",
            "dtype": "f8"
           },
           "z": {
            "bdata": "e7Jd+PxEf7+xDNnL9TVvv7EM2cv1NW+/L6SE1VQwdD+GXj2U9w+3P4FePZT3D7c/",
            "dtype": "f8"
           }
          }
         ],
         "layout": {
          "annotations": [
           {
            "showarrow": false,
            "text": "Time: 0.21s (Step: 22/100)",
            "x": 0.05,
            "xref": "paper",
            "y": 0.95,
            "yref": "paper"
           }
          ]
         },
         "name": "21"
        },
        {
         "data": [
          {
           "name": "Free Nodes",
           "type": "scatter3d",
           "x": {
            "bdata": "OX+9Se077T6P3XZ1AgDwPxqzGR7ds8M+xHfEPtPazz/TWgoYSQL0P5Ob750kCdA/",
            "dtype": "f8"
           },
           "y": {
            "bdata": "An+9Se077T7fshke3bPDPo/ddnUCAPA/wnfEPtPazz+Tm++dJAnQP9FaChhJAvQ/",
            "dtype": "f8"
           },
           "z": {
            "bdata": "mJaCGKKxg78RM9cRIahzvxEz1xEhqHO/34Q1MLszbz/K+vZ9o8m1P8T69n2jybU/",
            "dtype": "f8"
           }
          },
          {
           "name": "Fixed Nodes",
           "type": "scatter3d",
           "x": [],
           "y": [],
           "z": []
          },
          {
           "name": "Edges",
           "type": "scatter3d",
           "x": [
            1.0000023449373179,
            0.000002348732082427241,
            null,
            0.000002348732082427241,
            0.00001393990014947299,
            null,
            0.00001393990014947299,
            1.0000023449373179,
            null,
            1.2505579890327467,
            0.25055804656442965,
            null,
            0.25055804656442965,
            0.24886551441971794,
            null,
            0.24886551441971794,
            1.2505579890327467,
            null
           ],
           "y": [
            0.000002348732082427216,
            1.0000023449373179,
            null,
            1.0000023449373179,
            0.000013939900149472897,
            null,
            0.000013939900149472897,
            0.000002348732082427216,
            null,
            0.25055804656442965,
            1.2505579890327463,
            null,
            1.2505579890327463,
            0.24886551441971788,
            null,
            0.24886551441971788,
            0.25055804656442965,
            null
           ],
           "z": [
            -0.004799012354351332,
            -0.004799012354351332,
            null,
            -0.004799012354351332,
            -0.009616152165402611,
            null,
            -0.009616152165402611,
            -0.004799012354351332,
            null,
            0.08510801148711802,
            0.08510801148711794,
            null,
            0.08510801148711794,
            0.0038088470479783333,
            null,
            0.0038088470479783333,
            0.08510801148711802,
            null
           ]
          },
          {
           "i": [
            0,
            3
           ],
           "j": [
            1,
            4
           ],
           "k": [
            2,
            5
           ],
           "name": "Faces",
           "type": "mesh3d",
           "x": {
            "bdata": "OX+9Se077T6P3XZ1AgDwPxqzGR7ds8M+xHfEPtPazz/TWgoYSQL0P5Ob750kCdA/",
            "dtype": "f8"
           },
           "y": {
            "bdata": "An+9Se077T7fshke3bPDPo/ddnUCAPA/wnfEPtPazz+Tm++dJAnQP9FaChhJAvQ/",
            "dtype": "f8"
           },
           "z": {
            "bdata": "mJaCGKKxg78RM9cRIahzvxEz1xEhqHO/34Q1MLszbz/K+vZ9o8m1P8T69n2jybU/",
            "dtype": "f8"
           }
          }
         ],
         "layout": {
          "annotations": [
           {
            "showarrow": false,
            "text": "Time: 0.22s (Step: 23/100)",
            "x": 0.05,
            "xref": "paper",
            "y": 0.95,
            "yref": "paper"
           }
          ]
         },
         "name": "22"
        },
        {
         "data": [
          {
           "name": "Free Nodes",
           "type": "scatter3d",
           "x": {
            "bdata": "D7ECvSmt8z4BaGr8AQDwP+8BLs3y1r8++r+vqxzUzz/VAt53sgL0P89RQx3KCtA/",
            "dtype": "f8"
           },
           "y": {
            "bdata": "/rACvSmt8z5oAS7N8ta/PgFoavwBAPA/7b+vqxzUzz/PUUMdygrQP9MC3neyAvQ/",
            "dtype": "f8"
           },
           "z": {
            "bdata": "0etsrsTAh7/rRytESLV3v+tHK0RItXe/l2kw3wAKZj9tXAmXQoO0P2dcCZdCg7Q/",
            "dtype": "f8"
           }
          },
          {
           "name": "Fixed Nodes",
           "type": "scatter3d",
           "x": [],
           "y": [],
           "z": []
          },
          {
           "name": "Edges",
           "type": "scatter3d",
           "x": [
            1.0000018939958866,
            0.0000018977905724416537,
            null,
            0.0000018977905724416537,
            0.000018764894605880852,
            null,
            0.000018764894605880852,
            1.0000018939958866,
            null,
            1.250658481818552,
            0.25065853936874033,
            null,
            0.25065853936874033,
            0.24866064437037477,
            null,
            0.24866064437037477,
            1.250658481818552,
            null
           ],
           "y": [
            0.0000018977905724416252,
            1.0000018939958866,
            null,
            1.0000018939958866,
            0.000018764894605880794,
            null,
            0.000018764894605880794,
            0.0000018977905724416252,
            null,
            0.25065853936874033,
            1.2506584818185515,
            null,
            1.2506584818185515,
            0.2486606443703744,
            null,
            0.2486606443703744,
            0.25065853936874033,
            null
           ],
           "z": [
            -0.005788118639161492,
            -0.005788118639161492,
            null,
            -0.005788118639161492,
            -0.011598145077746399,
            null,
            -0.011598145077746399,
            -0.005788118639161492,
            null,
            0.08012787043968368,
            0.0801278704396836,
            null,
            0.0801278704396836,
            0.002690316870496544,
            null,
            0.002690316870496544,
            0.08012787043968368,
            null
           ]
          },
          {
           "i": [
            0,
            3
           ],
           "j": [
            1,
            4
           ],
           "k": [
            2,
            5
           ],
           "name": "Faces",
           "type": "mesh3d",
           "x": {
            "bdata": "D7ECvSmt8z4BaGr8AQDwP+8BLs3y1r8++r+vqxzUzz/VAt53sgL0P89RQx3KCtA/",
            "dtype": "f8"
           },
           "y": {
            "bdata": "/rACvSmt8z5oAS7N8ta/PgFoavwBAPA/7b+vqxzUzz/PUUMdygrQP9MC3neyAvQ/",
            "dtype": "f8"
           },
           "z": {
            "bdata": "0etsrsTAh7/rRytESLV3v+tHK0RItXe/l2kw3wAKZj9tXAmXQoO0P2dcCZdCg7Q/",
            "dtype": "f8"
           }
          }
         ],
         "layout": {
          "annotations": [
           {
            "showarrow": false,
            "text": "Time: 0.23s (Step: 24/100)",
            "x": 0.05,
            "xref": "paper",
            "y": 0.95,
            "yref": "paper"
           }
          ]
         },
         "name": "23"
        },
        {
         "data": [
          {
           "name": "Free Nodes",
           "type": "scatter3d",
           "x": {
            "bdata": "3Iy2wshs+T49+ScrAQDwP9KEgxjMwrI+arFIQbnNzz/L6iWlFgP0P50zb9JaDNA/",
            "dtype": "f8"
           },
           "y": {
            "bdata": "z4y2wshs+T46hIMYzMKyPj35JysBAPA/V7FIQbnNzz+dM2/SWgzQP8jqJaUWA/Q/",
            "dtype": "f8"
           },
           "z": {
            "bdata": "SgAUEebPi7+FncKpcMJ7v4Wdwqlwwnu/5HVbL6TGWT9etPWB1TyzP1e09YHVPLM/",
            "dtype": "f8"
           }
          },
          {
           "name": "Fixed Nodes",
           "type": "scatter3d",
           "x": [],
           "y": [],
           "z": []
          },
          {
           "name": "Edges",
           "type": "scatter3d",
           "x": [
            1.0000011144434915,
            0.0000011182383748353623,
            null,
            0.0000011182383748353623,
            0.000024247110713593363,
            null,
            0.000024247110713593363,
            1.0000011144434915,
            null,
            1.2507540179346275,
            0.2507540755294089,
            null,
            0.2507540755294089,
            0.2484656876344034,
            null,
            0.2484656876344034,
            1.2507540179346275,
            null
           ],
           "y": [
            0.0000011182383748353301,
            1.0000011144434915,
            null,
            1.0000011144434915,
            0.00002424711071359332,
            null,
            0.00002424711071359332,
            0.0000011182383748353301,
            null,
            0.2507540755294089,
            1.2507540179346268,
            null,
            1.2507540179346268,
            0.24846568763440288,
            null,
            0.24846568763440288,
            0.2507540755294089,
            null
           ],
           "z": [
            -0.0067772293952325134,
            -0.0067772293952325134,
            null,
            -0.0067772293952325134,
            -0.013580129047568463,
            null,
            -0.013580129047568463,
            -0.0067772293952325134,
            null,
            0.07514700339170718,
            0.07514700339170709,
            null,
            0.07514700339170709,
            0.0015732386940990823,
            null,
            0.0015732386940990823,
            0.07514700339170718,
            null
           ]
          },
          {
           "i": [
            0,
            3
           ],
           "j": [
            1,
            4
           ],
           "k": [
            2,
            5
           ],
           "name": "Faces",
           "type": "mesh3d",
           "x": {
            "bdata": "3Iy2wshs+T49+ScrAQDwP9KEgxjMwrI+arFIQbnNzz/L6iWlFgP0P50zb9JaDNA/",
            "dtype": "f8"
           },
           "y": {
            "bdata": "z4y2wshs+T46hIMYzMKyPj35JysBAPA/V7FIQbnNzz+dM2/SWgzQP8jqJaUWA/Q/",
            "dtype": "f8"
           },
           "z": {
            "bdata": "SgAUEebPi7+FncKpcMJ7v4Wdwqlwwnu/5HVbL6TGWT9etPWB1TyzP1e09YHVPLM/",
            "dtype": "f8"
           }
          }
         ],
         "layout": {
          "annotations": [
           {
            "showarrow": false,
            "text": "Time: 0.24s (Step: 25/100)",
            "x": 0.05,
            "xref": "paper",
            "y": 0.95,
            "yref": "paper"
           }
          ]
         },
         "name": "24"
        },
        {
         "data": [
          {
           "name": "Free Nodes",
           "type": "scatter3d",
           "x": {
            "bdata": "vlel6dLc/z6t+68BAADwP1CmuXEepkU+YBojCqnHzz8NWjufdQP0P3c8xLrWDdA/",
            "dtype": "f8"
           },
           "y": {
            "bdata": "tlel6dLc/z7AUblxHqZFPq37rwEAAPA/QRojCqnHzz93PMS61g3QPwpaO591A/Q/",
            "dtype": "f8"
           },
           "z": {
            "bdata": "+jGgEwbfj7/o1XRvms9/v+jVdG+az3+/zP7fzC78PT+ASLziXPaxP3lIvOJc9rE/",
            "dtype": "f8"
           }
          },
          {
           "name": "Fixed Nodes",
           "type": "scatter3d",
           "x": [],
           "y": [],
           "z": []
          },
          {
           "name": "Edges",
           "type": "scatter3d",
           "x": [
            1.0000000062861816,
            1.0081055593780085e-8,
            null,
            1.0081055593780085e-8,
            0.000030386536857683387,
            null,
            0.000030386536857683387,
            1.0000000062861816,
            null,
            1.2508445949548588,
            0.2508446525470797,
            null,
            0.2508446525470797,
            0.248280649137274,
            null,
            0.248280649137274,
            1.2508445949548588,
            null
           ],
           "y": [
            1.0081055593744272e-8,
            1.0000000062861816,
            null,
            1.0000000062861816,
            0.00003038653685768336,
            null,
            0.00003038653685768336,
            1.0081055593744272e-8,
            null,
            0.2508446525470797,
            1.2508445949548581,
            null,
            1.2508445949548581,
            0.24828064913727313,
            null,
            0.24828064913727313,
            0.2508446525470797,
            null
           ],
           "z": [
            -0.0077663452751059806,
            -0.0077663452751059806,
            null,
            -0.0077663452751059806,
            -0.015562102769785636,
            null,
            -0.015562102769785636,
            -0.0077663452751059806,
            null,
            0.07016544852766238,
            0.07016544852766228,
            null,
            0.07016544852766228,
            0.00045753614983821684,
            null,
            0.00045753614983821684,
            0.07016544852766238,
            null
           ]
          },
          {
           "i": [
            0,
            3
           ],
           "j": [
            1,
            4
           ],
           "k": [
            2,
            5
           ],
           "name": "Faces",
           "type": "mesh3d",
           "x": {
            "bdata": "vlel6dLc/z6t+68BAADwP1CmuXEepkU+YBojCqnHzz8NWjufdQP0P3c8xLrWDdA/",
            "dtype": "f8"
           },
           "y": {
            "bdata": "tlel6dLc/z7AUblxHqZFPq37rwEAAPA/QRojCqnHzz93PMS61g3QPwpaO591A/Q/",
            "dtype": "f8"
           },
           "z": {
            "bdata": "+jGgEwbfj7/o1XRvms9/v+jVdG+az3+/zP7fzC78PT+ASLziXPaxP3lIvOJc9rE/",
            "dtype": "f8"
           }
          }
         ],
         "layout": {
          "annotations": [
           {
            "showarrow": false,
            "text": "Time: 0.25s (Step: 26/100)",
            "x": 0.05,
            "xref": "paper",
            "y": 0.95,
            "yref": "paper"
           }
          ]
         },
         "name": "25"
        },
        {
         "data": [
          {
           "name": "Free Nodes",
           "type": "scatter3d",
           "x": {
            "bdata": "AEwSoaN+Az/OygUA/f/vPwTwYCyF77e+qF/uD+zBzz/Tx4FlzwP0Pxjd3NM9D9A/",
            "dtype": "f8"
           },
           "y": {
            "bdata": "AkwSoaN+Az+98GAshe+3vs7KBQD9/+8/hl/uD+zBzz8Y3dzTPQ/QP8/HgWXPA/Q/",
            "dtype": "f8"
           },
           "z": {
            "bdata": "hSCdRBL3kb92mAzhYu6Bv3aYDOFi7oG/lzLVhTOGRb/o2nZd2a+wP+Dadl3Zr7A/",
            "dtype": "f8"
           }
          },
          {
           "name": "Fixed Nodes",
           "type": "scatter3d",
           "x": [],
           "y": [],
           "z": []
          },
          {
           "name": "Edges",
           "type": "scatter3d",
           "x": [
            0.9999985695306692,
            -0.0000014266744741272758,
            null,
            -0.0000014266744741272758,
            0.00003718315941472067,
            null,
            0.00003718315941472067,
            0.9999985695306692,
            null,
            1.250930210601372,
            0.2509302681896357,
            null,
            0.2509302681896357,
            0.24810553338897745,
            null,
            0.24810553338897745,
            1.250930210601372,
            null
           ],
           "y": [
            -0.000001426674474127315,
            0.9999985695306692,
            null,
            0.9999985695306692,
            0.00003718315941472068,
            null,
            0.00003718315941472068,
            -0.000001426674474127315,
            null,
            0.2509302681896357,
            1.250930210601371,
            null,
            1.250930210601371,
            0.2481055333889765,
            null,
            0.2481055333889765,
            0.2509302681896357,
            null
           ],
           "z": [
            -0.008755466931301675,
            -0.008755466931301675,
            null,
            -0.008755466931301675,
            -0.017544064939358357,
            null,
            -0.017544064939358357,
            -0.008755466931301675,
            null,
            0.0651832440552017,
            0.0651832440552016,
            null,
            0.0651832440552016,
            -0.0006568671775909082,
            null,
            -0.0006568671775909082,
            0.0651832440552017,
            null
           ]
          },
          {
           "i": [
            0,
            3
           ],
           "j": [
            1,
            4
           ],
           "k": [
            2,
            5
           ],
           "name": "Faces",
           "type": "mesh3d",
           "x": {
            "bdata": "AEwSoaN+Az/OygUA/f/vPwTwYCyF77e+qF/uD+zBzz/Tx4FlzwP0Pxjd3NM9D9A/",
            "dtype": "f8"
           },
           "y": {
            "bdata": "AkwSoaN+Az+98GAshe+3vs7KBQD9/+8/hl/uD+zBzz8Y3dzTPQ/QP8/HgWXPA/Q/",
            "dtype": "f8"
           },
           "z": {
            "bdata": "hSCdRBL3kb92mAzhYu6Bv3aYDOFi7oG/lzLVhTOGRb/o2nZd2a+wP+Dadl3Zr7A/",
            "dtype": "f8"
           }
          }
         ],
         "layout": {
          "annotations": [
           {
            "showarrow": false,
            "text": "Time: 0.26s (Step: 27/100)",
            "x": 0.05,
            "xref": "paper",
            "y": 0.95,
            "yref": "paper"
           }
          ]
         },
         "name": "26"
        },
        {
         "data": [
          {
           "name": "Free Nodes",
           "type": "scatter3d",
           "x": {
            "bdata": "xx+eZBJnBz+gb0JM+f/vPz0UDAXQxsq+XADRW4K8zz9Ru2b3IwT0PyS5bxuQENA/",
            "dtype": "f8"
           },
           "y": {
            "bdata": "2R+eZBJnBz+lFAwF0MbKvqBvQkz5/+8/NgDRW4K8zz8kuW8bkBDQP0y7ZvcjBPQ/",
            "dtype": "f8"
           },
           "z": {
            "bdata": "g5uFoqD+k7+CUkNn+fSDv4JSQ2f59IO/7e6lRR4AXb+SPZUsl9KuP4E9lSyX0q4/",
            "dtype": "f8"
           }
          },
          {
           "name": "Fixed Nodes",
           "type": "scatter3d",
           "x": [],
           "y": [],
           "z": []
          },
          {
           "name": "Edges",
           "type": "scatter3d",
           "x": [
            0.9999968041843097,
            -0.0000031920208488655803,
            null,
            -0.0000031920208488655803,
            0.00004463696366402387,
            null,
            0.00004463696366402387,
            0.9999968041843097,
            null,
            1.251010862742721,
            0.2510109203275468,
            null,
            0.2510109203275468,
            0.24794034465049009,
            null,
            0.24794034465049009,
            1.251010862742721,
            null
           ],
           "y": [
            -0.0000031920208488656244,
            0.9999968041843097,
            null,
            0.9999968041843097,
            0.00004463696366402399,
            null,
            0.00004463696366402399,
            -0.0000031920208488656244,
            null,
            0.2510109203275468,
            1.2510108627427199,
            null,
            1.2510108627427199,
            0.24794034465048903,
            null,
            0.24794034465048903,
            0.2510109203275468,
            null
           ],
           "z": [
            -0.00974459501632308,
            -0.00974459501632308,
            null,
            -0.00974459501632308,
            -0.019526014251279655,
            null,
            -0.019526014251279655,
            -0.00974459501632308,
            null,
            0.06020042819238393,
            0.06020042819238381,
            null,
            0.06020042819238381,
            -0.0017700477243058302,
            null,
            -0.0017700477243058302,
            0.06020042819238393,
            null
           ]
          },
          {
           "i": [
            0,
            3
           ],
           "j": [
            1,
            4
           ],
           "k": [
            2,
            5
           ],
           "name": "Faces",
           "type": "mesh3d",
           "x": {
            "bdata": "xx+eZBJnBz+gb0JM+f/vPz0UDAXQxsq+XADRW4K8zz9Ru2b3IwT0PyS5bxuQENA/",
            "dtype": "f8"
           },
           "y": {
            "bdata": "2R+eZBJnBz+lFAwF0MbKvqBvQkz5/+8/NgDRW4K8zz8kuW8bkBDQP0y7ZvcjBPQ/",
            "dtype": "f8"
           },
           "z": {
            "bdata": "g5uFoqD+k7+CUkNn+fSDv4JSQ2f59IO/7e6lRR4AXb+SPZUsl9KuP4E9lSyX0q4/",
            "dtype": "f8"
           }
          }
         ],
         "layout": {
          "annotations": [
           {
            "showarrow": false,
            "text": "Time: 0.27s (Step: 28/100)",
            "x": 0.05,
            "xref": "paper",
            "y": 0.95,
            "yref": "paper"
           }
          ]
         },
         "name": "27"
        },
        {
         "data": [
          {
           "name": "Free Nodes",
           "type": "scatter3d",
           "x": {
            "bdata": "icCwMrWnCz9j/xbo9P/vPyHeC+S+K9a+hu9Q9mu3zz+o2WFUcwT0P5NCW4/NEdA/",
            "dtype": "f8"
           },
           "y": {
            "bdata": "q8CwMrWnCz9c3gvkvivWvmP/Fuj0/+8/Xe9Q9mu3zz+TQluPzRHQP6HZYVRzBPQ/",
            "dtype": "f8"
           },
           "z": {
            "bdata": "gzkeDS4Glr+M6cngkPuFv4zpyeCQ+4W/pP0p9ymcZ78vkNRiaEWsPx2Q1GJoRaw/",
            "dtype": "f8"
           }
          },
          {
           "name": "Fixed Nodes",
           "type": "scatter3d",
           "x": [],
           "y": [],
           "z": []
          },
          {
           "name": "Edges",
           "type": "scatter3d",
           "x": [
            0.9999947102551058,
            -0.000005285950067649852,
            null,
            -0.000005285950067649852,
            0.00005274793360177203,
            null,
            0.00005274793360177203,
            0.9999947102551058,
            null,
            1.25108654939468,
            0.25108660697609614,
            null,
            0.25108660697609614,
            0.24778508689075468,
            null,
            0.24778508689075468,
            1.25108654939468,
            null
           ],
           "y": [
            -0.000005285950067649902,
            0.9999947102551058,
            null,
            0.9999947102551058,
            0.00005274793360177226,
            null,
            0.00005274793360177226,
            -0.000005285950067649902,
            null,
            0.25108660697609614,
            1.2510865493946783,
            null,
            1.2510865493946783,
            0.24778508689075354,
            null,
            0.24778508689075354,
            0.25108660697609614,
            null
           ],
           "z": [
            -0.010733730182654687,
            -0.010733730182654687,
            null,
            -0.010733730182654687,
            -0.02150794940058055,
            null,
            -0.02150794940058055,
            -0.010733730182654687,
            null,
            0.05521703916954867,
            0.055217039169548544,
            null,
            0.055217039169548544,
            -0.0028820819509857865,
            null,
            -0.0028820819509857865,
            0.05521703916954867,
            null
           ]
          },
          {
           "i": [
            0,
            3
           ],
           "j": [
            1,
            4
           ],
           "k": [
            2,
            5
           ],
           "name": "Faces",
           "type": "mesh3d",
           "x": {
            "bdata": "icCwMrWnCz9j/xbo9P/vPyHeC+S+K9a+hu9Q9mu3zz+o2WFUcwT0P5NCW4/NEdA/",
            "dtype": "f8"
           },
           "y": {
            "bdata": "q8CwMrWnCz9c3gvkvivWvmP/Fuj0/+8/Xe9Q9mu3zz+TQluPzRHQP6HZYVRzBPQ/",
            "dtype": "f8"
           },
           "z": {
            "bdata": "gzkeDS4Glr+M6cngkPuFv4zpyeCQ+4W/pP0p9ymcZ78vkNRiaEWsPx2Q1GJoRaw/",
            "dtype": "f8"
           }
          }
         ],
         "layout": {
          "annotations": [
           {
            "showarrow": false,
            "text": "Time: 0.28s (Step: 29/100)",
            "x": 0.05,
            "xref": "paper",
            "y": 0.95,
            "yref": "paper"
           }
          ]
         },
         "name": "28"
        },
        {
         "data": [
          {
           "name": "Free Nodes",
           "type": "scatter3d",
           "x": {
            "bdata": "lSONuUUgED95qoTT7//vP40Zd8dxKuC+e/lR56iyzz9d5vR7vQT0PyOFpi32EtA/",
            "dtype": "f8"
           },
           "y": {
            "bdata": "riONuUUgED+tGXfHcSrgvnmqhNPv/+8/QPlR56iyzz8jhaYt9hLQP1bm9Hu9BPQ/",
            "dtype": "f8"
           },
           "z": {
            "bdata": "DNj7bboNmL8NgAtkKQKIvw2AC2QpAoi/+0QiNwNbcL/8/immJ7ipP+z+KaYnuKk/",
            "dtype": "f8"
           }
          },
          {
           "name": "Fixed Nodes",
           "type": "scatter3d",
           "x": [],
           "y": [],
           "z": []
          },
          {
           "name": "Edges",
           "type": "scatter3d",
           "x": [
            0.9999922877517086,
            -0.000007708453479871014,
            null,
            -0.000007708453479871014,
            0.00006151605192629272,
            null,
            0.00006151605192629272,
            0.9999922877517086,
            null,
            1.2511572687202694,
            0.2511573262982713,
            null,
            0.2511573262982713,
            0.2476397637837627,
            null,
            0.2476397637837627,
            1.2511572687202694,
            null
           ],
           "y": [
            -0.000007708453479871069,
            0.9999922877517086,
            null,
            0.9999922877517086,
            0.00006151605192629306,
            null,
            0.00006151605192629306,
            -0.000007708453479871069,
            null,
            0.2511573262982713,
            1.251157268720268,
            null,
            1.251157268720268,
            0.24763976378376107,
            null,
            0.24763976378376107,
            0.2511573262982713,
            null
           ],
           "z": [
            -0.011722873082760566,
            -0.011722873082760566,
            null,
            -0.011722873082760566,
            -0.0234898690823329,
            null,
            -0.0234898690823329,
            -0.011722873082760566,
            null,
            0.05023311522836413,
            0.05023311522836402,
            null,
            0.05023311522836402,
            -0.003993046340967195,
            null,
            -0.003993046340967195,
            0.05023311522836413,
            null
           ]
          },
          {
           "i": [
            0,
            3
           ],
           "j": [
            1,
            4
           ],
           "k": [
            2,
            5
           ],
           "name": "Faces",
           "type": "mesh3d",
           "x": {
            "bdata": "lSONuUUgED95qoTT7//vP40Zd8dxKuC+e/lR56iyzz9d5vR7vQT0PyOFpi32EtA/",
            "dtype": "f8"
           },
           "y": {
            "bdata": "riONuUUgED+tGXfHcSrgvnmqhNPv/+8/QPlR56iyzz8jhaYt9hLQP1bm9Hu9BPQ/",
            "dtype": "f8"
           },
           "z": {
            "bdata": "DNj7bboNmL8NgAtkKQKIvw2AC2QpAoi/+0QiNwNbcL/8/immJ7ipP+z+KaYnuKk/",
            "dtype": "f8"
           }
          }
         ],
         "layout": {
          "annotations": [
           {
            "showarrow": false,
            "text": "Time: 0.29s (Step: 30/100)",
            "x": 0.05,
            "xref": "paper",
            "y": 0.95,
            "yref": "paper"
           }
          ]
         },
         "name": "29"
        },
        {
         "data": [
          {
           "name": "Free Nodes",
           "type": "scatter3d",
           "x": {
            "bdata": "DkgjQcqYEj8JuIwO6v/vP5Ipbbpp7+W+/vcVNjmuzz/Kw6ttAgX0P4wKgfQJFNA/",
            "dtype": "f8"
           },
           "y": {
            "bdata": "KUgjQcqYEj+1KW26ae/lvgm4jA7q/+8/vfcVNjmuzz+MCoH0CRTQP8LDq20CBfQ/",
            "dtype": "f8"
           },
           "z": {
            "bdata": "c4WzrkUVmr+wB3MHwwiKv7AHcwfDCIq/TCdczebmdL+NNyo/1iqnP3w3Kj/WKqc/",
            "dtype": "f8"
           }
          },
          {
           "name": "Fixed Nodes",
           "type": "scatter3d",
           "x": [],
           "y": [],
           "z": []
          },
          {
           "name": "Edges",
           "type": "scatter3d",
           "x": [
            0.9999895366834163,
            -0.000010459521787038726,
            null,
            -0.000010459521787038726,
            0.0000709413000408445,
            null,
            0.0000709413000408445,
            0.9999895366834163,
            null,
            1.2512230190297822,
            0.25122307660436927,
            null,
            0.25122307660436927,
            0.24750437870892478,
            null,
            0.24750437870892478,
            1.2512230190297822,
            null
           ],
           "y": [
            -0.000010459521787038786,
            0.9999895366834163,
            null,
            0.9999895366834163,
            0.00007094130004084487,
            null,
            0.00007094130004084487,
            -0.000010459521787038786,
            null,
            0.25122307660436927,
            1.2512230190297804,
            null,
            1.2512230190297804,
            0.24750437870892297,
            null,
            0.24750437870892297,
            0.25122307660436927,
            null
           ],
           "z": [
            -0.012712024369083114,
            -0.012712024369083114,
            null,
            -0.012712024369083114,
            -0.025471771991651914,
            null,
            -0.025471771991651914,
            -0.012712024369083114,
            null,
            0.04524869462066681,
            0.04524869462066669,
            null,
            0.04524869462066669,
            -0.005103017397923026,
            null,
            -0.005103017397923026,
            0.04524869462066681,
            null
           ]
          },
          {
           "i": [
            0,
            3
           ],
           "j": [
            1,
            4
           ],
           "k": [
            2,
            5
           ],
           "name": "Faces",
           "type": "mesh3d",
           "x": {
            "bdata": "DkgjQcqYEj8JuIwO6v/vP5Ipbbpp7+W+/vcVNjmuzz/Kw6ttAgX0P4wKgfQJFNA/",
            "dtype": "f8"
           },
           "y": {
            "bdata": "KUgjQcqYEj+1KW26ae/lvgm4jA7q/+8/vfcVNjmuzz+MCoH0CRTQP8LDq20CBfQ/",
            "dtype": "f8"
           },
           "z": {
            "bdata": "c4WzrkUVmr+wB3MHwwiKv7AHcwfDCIq/TCdczebmdL+NNyo/1iqnP3w3Kj/WKqc/",
            "dtype": "f8"
           }
          }
         ],
         "layout": {
          "annotations": [
           {
            "showarrow": false,
            "text": "Time: 0.30s (Step: 31/100)",
            "x": 0.05,
            "xref": "paper",
            "y": 0.95,
            "yref": "paper"
           }
          ]
         },
         "name": "30"
        },
        {
         "data": [
          {
           "name": "Free Nodes",
           "type": "scatter3d",
           "x": {
            "bdata": "9VGd2Gc9FT8KhjCZ4//vP5dM8+zFZOy+E9M86Ryqzz9scxwpQgX0P9jYQuIIFdA/",
            "dtype": "f8"
           },
           "y": {
            "bdata": "CFKd2Gc9FT+8TPPsxWTsvgqGMJnj/+8/y9I86Ryqzz/Y2ELiCBXQP2NzHClCBfQ/",
            "dtype": "f8"
           },
           "z": {
            "bdata": "y4PauM8cnL9iPmvhXQ+Mv2I+a+FdD4y/8UXLSNRxeb/jw312dZ2kP9HDfXZ1naQ/",
            "dtype": "f8"
           }
          },
          {
           "name": "Fixed Nodes",
           "type": "scatter3d",
           "x": [],
           "y": [],
           "z": []
          },
          {
           "name": "Edges",
           "type": "scatter3d",
           "x": [
            0.9999864570601755,
            -0.00001353914504279565,
            null,
            -0.00001353914504279565,
            0.00008102365805246605,
            null,
            0.00008102365805246605,
            0.9999864570601755,
            null,
            1.2512837987807996,
            0.2512838563519728,
            null,
            0.2512838563519728,
            0.2473789347510765,
            null,
            0.2473789347510765,
            1.2512837987807996,
            null
           ],
           "y": [
            -0.000013539145042795713,
            0.9999864570601755,
            null,
            0.9999864570601755,
            0.0000810236580524663,
            null,
            0.0000810236580524663,
            -0.000013539145042795713,
            null,
            0.2512838563519728,
            1.2512837987807977,
            null,
            1.2512837987807977,
            0.2473789347510745,
            null,
            0.2473789347510745,
            0.2512838563519728,
            null
           ],
           "z": [
            -0.01370118469404175,
            -0.01370118469404175,
            null,
            -0.01370118469404175,
            -0.02745365682369875,
            null,
            -0.02745365682369875,
            -0.01370118469404175,
            null,
            0.04026381560732497,
            0.040263815607324845,
            null,
            0.040263815607324845,
            -0.006212071643589821,
            null,
            -0.006212071643589821,
            0.04026381560732497,
            null
           ]
          },
          {
           "i": [
            0,
            3
           ],
           "j": [
            1,
            4
           ],
           "k": [
            2,
            5
           ],
           "name": "Faces",
           "type": "mesh3d",
           "x": {
            "bdata": "9VGd2Gc9FT8KhjCZ4//vP5dM8+zFZOy+E9M86Ryqzz9scxwpQgX0P9jYQuIIFdA/",
            "dtype": "f8"
           },
           "y": {
            "bdata": "CFKd2Gc9FT+8TPPsxWTsvgqGMJnj/+8/y9I86Ryqzz/Y2ELiCBXQP2NzHClCBfQ/",
            "dtype": "f8"
           },
           "z": {
            "bdata": "y4PauM8cnL9iPmvhXQ+Mv2I+a+FdD4y/8UXLSNRxeb/jw312dZ2kP9HDfXZ1naQ/",
            "dtype": "f8"
           }
          }
         ],
         "layout": {
          "annotations": [
           {
            "showarrow": false,
            "text": "Time: 0.31s (Step: 32/100)",
            "x": 0.05,
            "xref": "paper",
            "y": 0.95,
            "yref": "paper"
           }
          ]
         },
         "name": "31"
        },
        {
         "data": [
          {
           "name": "Free Nodes",
           "type": "scatter3d",
           "x": {
            "bdata": "bwvMIh4OGD84iXFz3P/vPxYHJnVCxfG+G3zEBlSmzz8uFuetfAX0P6pzbPXyFdA/",
            "dtype": "f8"
           },
           "y": {
            "bdata": "hgvMIh4OGD8qByZ1QsXxvjiJcXPc/+8/y3vEBlSmzz+qc2z18hXQPyQW5618BfQ/",
            "dtype": "f8"
           },
           "z": {
            "bdata": "vksGdlgknr95q14I+hWOv3mrXgj6FY6/+yMONeD7fb8vjN6UBhCiPxyM3pQGEKI/",
            "dtype": "f8"
           }
          },
          {
           "name": "Fixed Nodes",
           "type": "scatter3d",
           "x": [],
           "y": [],
           "z": []
          },
          {
           "name": "Edges",
           "type": "scatter3d",
           "x": [
            0.99998304889258,
            -0.000016947312653232167,
            null,
            -0.000016947312653232167,
            0.0000917631047734743,
            null,
            0.0000917631047734743,
            0.99998304889258,
            null,
            1.2513396065782092,
            0.25133966414596876,
            null,
            0.25133966414596876,
            0.24726343470044373,
            null,
            0.24726343470044373,
            1.2513396065782092,
            null
           ],
           "y": [
            -0.000016947312653232235,
            0.99998304889258,
            null,
            0.99998304889258,
            0.00009176310477347461,
            null,
            0.00009176310477347461,
            -0.000016947312653232235,
            null,
            0.25133966414596876,
            1.251339606578207,
            null,
            1.251339606578207,
            0.24726343470044151,
            null,
            0.24726343470044151,
            0.25133966414596876,
            null
           ],
           "z": [
            -0.014690354710031649,
            -0.014690354710031649,
            null,
            -0.014690354710031649,
            -0.02943552227368306,
            null,
            -0.02943552227368306,
            -0.014690354710031649,
            null,
            0.035278516457104885,
            0.03527851645710475,
            null,
            0.03527851645710475,
            -0.0073202856155001285,
            null,
            -0.0073202856155001285,
            0.035278516457104885,
            null
           ]
          },
          {
           "i": [
            0,
            3
           ],
           "j": [
            1,
            4
           ],
           "k": [
            2,
            5
           ],
           "name": "Faces",
           "type": "mesh3d",
           "x": {
            "bdata": "bwvMIh4OGD84iXFz3P/vPxYHJnVCxfG+G3zEBlSmzz8uFuetfAX0P6pzbPXyFdA/",
            "dtype": "f8"
           },
           "y": {
            "bdata": "hgvMIh4OGD8qByZ1QsXxvjiJcXPc/+8/y3vEBlSmzz+qc2z18hXQPyQW5618BfQ/",
            "dtype": "f8"
           },
           "z": {
            "bdata": "vksGdlgknr95q14I+hWOv3mrXgj6FY6/+yMONeD7fb8vjN6UBhCiPxyM3pQGEKI/",
            "dtype": "f8"
           }
          }
         ],
         "layout": {
          "annotations": [
           {
            "showarrow": false,
            "text": "Time: 0.32s (Step: 33/100)",
            "x": 0.05,
            "xref": "paper",
            "y": 0.95,
            "yref": "paper"
           }
          ]
         },
         "name": "32"
        },
        {
         "data": [
          {
           "name": "Free Nodes",
           "type": "scatter3d",
           "x": {
            "bdata": "lhDNvOwKGz8dTVGd1P/vP2Mjd5NSsPW+nOoIlN6izz+Y7LX7sQX0PyDdpizIFtA/",
            "dtype": "f8"
           },
           "y": {
            "bdata": "sBDNvOwKGz95I3eTUrD1vh1NUZ3U/+8/RuoIlN6izz8g3aYsyBbQP4zstfuxBfQ/",
            "dtype": "f8"
           },
           "z": {
            "bdata": "v0fm5+8VoL9hzlvJSw6Qv2HOW8lLDpC/PqFYj49Cgb8FsSrGFQWfP92wKsYVBZ8/",
            "dtype": "f8"
           }
          },
          {
           "name": "Fixed Nodes",
           "type": "scatter3d",
           "x": [],
           "y": [],
           "z": []
          },
          {
           "name": "Edges",
           "type": "scatter3d",
           "x": [
            0.9999793121918717,
            -0.000020684013376545847,
            null,
            -0.000020684013376545847,
            0.00010315961772017416,
            null,
            0.00010315961772017416,
            0.9999793121918717,
            null,
            1.2513904411742143,
            0.25139049873856045,
            null,
            0.25139049873856045,
            0.2471578810526197,
            null,
            0.2471578810526197,
            1.2513904411742143,
            null
           ],
           "y": [
            -0.00002068401337654592,
            0.9999793121918717,
            null,
            0.9999793121918717,
            0.00010315961772017451,
            null,
            0.00010315961772017451,
            -0.00002068401337654592,
            null,
            0.25139049873856045,
            1.2513904411742116,
            null,
            1.2513904411742116,
            0.24715788105261732,
            null,
            0.24715788105261732,
            0.25139049873856045,
            null
           ],
           "z": [
            -0.015679535069422438,
            -0.015679535069422438,
            null,
            -0.015679535069422438,
            -0.03141736703686559,
            null,
            -0.03141736703686559,
            -0.015679535069422438,
            null,
            0.030292835445536976,
            0.030292835445536837,
            null,
            0.030292835445536837,
            -0.008427735864714788,
            null,
            -0.008427735864714788,
            0.030292835445536976,
            null
           ]
          },
          {
           "i": [
            0,
            3
           ],
           "j": [
            1,
            4
           ],
           "k": [
            2,
            5
           ],
           "name": "Faces",
           "type": "mesh3d",
           "x": {
            "bdata": "lhDNvOwKGz8dTVGd1P/vP2Mjd5NSsPW+nOoIlN6izz+Y7LX7sQX0PyDdpizIFtA/",
            "dtype": "f8"
           },
           "y": {
            "bdata": "sBDNvOwKGz95I3eTUrD1vh1NUZ3U/+8/RuoIlN6izz8g3aYsyBbQP4zstfuxBfQ/",
            "dtype": "f8"
           },
           "z": {
            "bdata": "v0fm5+8VoL9hzlvJSw6Qv2HOW8lLDpC/PqFYj49Cgb8FsSrGFQWfP92wKsYVBZ8/",
            "dtype": "f8"
           }
          }
         ],
         "layout": {
          "annotations": [
           {
            "showarrow": false,
            "text": "Time: 0.33s (Step: 34/100)",
            "x": 0.05,
            "xref": "paper",
            "y": 0.95,
            "yref": "paper"
           }
          ]
         },
         "name": "33"
        },
        {
         "data": [
          {
           "name": "Free Nodes",
           "type": "scatter3d",
           "x": {
            "bdata": "FlgMPtMzHj8JdNEWzP/vP0yZRICS8/m+sBrElbyfzz/oVj0S4gX0PzWWw4aIF9A/",
            "dtype": "f8"
           },
           "y": {
            "bdata": "OVgMPtMzHj9kmUSAkvP5vgl00RbM/+8/SBrElbyfzz81lsOGiBfQP9tWPRLiBfQ/",
            "dtype": "f8"
           },
           "z": {
            "bdata": "0J7h17IZob/UEXBLmxGRv9QRcEubEZG/vJ2DydKGg7/6pO5TB+qZP9Ok7lMH6pk/",
            "dtype": "f8"
           }
          },
          {
           "name": "Fixed Nodes",
           "type": "scatter3d",
           "x": [],
           "y": [],
           "z": []
          },
          {
           "name": "Edges",
           "type": "scatter3d",
           "x": [
            0.9999752469699398,
            -0.000024749235323495448,
            null,
            -0.000024749235323495448,
            0.0001152131731142206,
            null,
            0.0001152131731142206,
            0.9999752469699398,
            null,
            1.25143630146834,
            0.25143635902927325,
            null,
            0.25143635902927325,
            0.2470622760085539,
            null,
            0.2470622760085539,
            1.25143630146834,
            null
           ],
           "y": [
            -0.00002474923532349553,
            0.9999752469699398,
            null,
            0.9999752469699398,
            0.00011521317311422107,
            null,
            0.00011521317311422107,
            -0.00002474923532349553,
            null,
            0.25143635902927325,
            1.2514363014683372,
            null,
            1.2514363014683372,
            0.24706227600855102,
            null,
            0.24706227600855102,
            0.25143635902927325,
            null
           ],
           "z": [
            -0.016668726424556926,
            -0.016668726424556926,
            null,
            -0.016668726424556926,
            -0.033399189808560714,
            null,
            -0.033399189808560714,
            -0.016668726424556926,
            null,
            0.025306810853781926,
            0.02530681085378179,
            null,
            0.02530681085378179,
            -0.009534498953555175,
            null,
            -0.009534498953555175,
            0.025306810853781926,
            null
           ]
          },
          {
           "i": [
            0,
            3
           ],
           "j": [
            1,
            4
           ],
           "k": [
            2,
            5
           ],
           "name": "Faces",
           "type": "mesh3d",
           "x": {
            "bdata": "FlgMPtMzHj8JdNEWzP/vP0yZRICS8/m+sBrElbyfzz/oVj0S4gX0PzWWw4aIF9A/",
            "dtype": "f8"
           },
           "y": {
            "bdata": "OVgMPtMzHj9kmUSAkvP5vgl00RbM/+8/SBrElbyfzz81lsOGiBfQP9tWPRLiBfQ/",
            "dtype": "f8"
           },
           "z": {
            "bdata": "0J7h17IZob/UEXBLmxGRv9QRcEubEZG/vJ2DydKGg7/6pO5TB+qZP9Ok7lMH6pk/",
            "dtype": "f8"
           }
          }
         ],
         "layout": {
          "annotations": [
           {
            "showarrow": false,
            "text": "Time: 0.34s (Step: 35/100)",
            "x": 0.05,
            "xref": "paper",
            "y": 0.95,
            "yref": "paper"
           }
          ]
         },
         "name": "34"
        },
        {
         "data": [
          {
           "name": "Free Nodes",
           "type": "scatter3d",
           "x": {
            "bdata": "wmUhnGjEID8Yt/Pfwv/vPwULAF8Bj/6+IwwOEO6czz8h1TvxDAb0P/eevAI0GNA/",
            "dtype": "f8"
           },
           "y": {
            "bdata": "1mUhnGjEID8fCwBfAY/+vhi389/C/+8/rAsOEO6czz/3nrwCNBjQPxLVO/EMBvQ/",
            "dtype": "f8"
           },
           "z": {
            "bdata": "BkLA/3Qdor8iCaGV6xSSvyIJoZXrFJK/g28AEMTKhb9CDsdk5M6UPxsOx2TkzpQ/",
            "dtype": "f8"
           }
          },
          {
           "name": "Fixed Nodes",
           "type": "scatter3d",
           "x": [],
           "y": [],
           "z": []
          },
          {
           "name": "Edges",
           "type": "scatter3d",
           "x": [
            0.9999708532393212,
            -0.000029142965956917132,
            null,
            -0.000029142965956917132,
            0.00012792374588137088,
            null,
            0.00012792374588137088,
            0.9999708532393212,
            null,
            1.2514771865074368,
            0.2514772440649575,
            null,
            0.2514772440649575,
            0.24697662147454577,
            null,
            0.24697662147454577,
            1.2514771865074368,
            null
           ],
           "y": [
            -0.00002914296595691722,
            0.9999708532393212,
            null,
            0.9999708532393212,
            0.00012792374588137143,
            null,
            0.00012792374588137143,
            -0.00002914296595691722,
            null,
            0.2514772440649575,
            1.2514771865074334,
            null,
            1.2514771865074334,
            0.24697662147454247,
            null,
            0.24697662147454247,
            0.2514772440649575,
            null
           ],
           "z": [
            -0.017657929427749804,
            -0.017657929427749804,
            null,
            -0.017657929427749804,
            -0.03538098928413906,
            null,
            -0.03538098928413906,
            -0.017657929427749804,
            null,
            0.020320480967497064,
            0.020320480967496928,
            null,
            0.020320480967496928,
            -0.01064065145333593,
            null,
            -0.01064065145333593,
            0.020320480967497064,
            null
           ]
          },
          {
           "i": [
            0,
            3
           ],
           "j": [
            1,
            4
           ],
           "k": [
            2,
            5
           ],
           "name": "Faces",
           "type": "mesh3d",
           "x": {
            "bdata": "wmUhnGjEID8Yt/Pfwv/vPwULAF8Bj/6+IwwOEO6czz8h1TvxDAb0P/eevAI0GNA/",
            "dtype": "f8"
           },
           "y": {
            "bdata": "1mUhnGjEID8fCwBfAY/+vhi389/C/+8/rAsOEO6czz/3nrwCNBjQPxLVO/EMBvQ/",
            "dtype": "f8"
           },
           "z": {
            "bdata": "BkLA/3Qdor8iCaGV6xSSvyIJoZXrFJK/g28AEMTKhb9CDsdk5M6UPxsOx2TkzpQ/",
            "dtype": "f8"
           }
          }
         ],
         "layout": {
          "annotations": [
           {
            "showarrow": false,
            "text": "Time: 0.35s (Step: 36/100)",
            "x": 0.05,
            "xref": "paper",
            "y": 0.95,
            "yref": "paper"
           }
          ]
         },
         "name": "35"
        },
        {
         "data": [
          {
           "name": "Free Nodes",
           "type": "scatter3d",
           "x": {
            "bdata": "e+y7G/OEIj8t5rn4uP/vP0B+3CNPwQG/aMNcBnOazz/8BnqYMgb0P0Z2tJ/KGNA/",
            "dtype": "f8"
           },
           "y": {
            "bdata": "k+y7G/OEIj9OftwjT8EBvy3mufi4/+8/4sJcBnOazz9GdrSfyhjQP+sGepgyBvQ/",
            "dtype": "f8"
           },
           "z": {
            "bdata": "a2lNVDYho79BfCOzPBiTv0F8I7M8GJO/hKgCqm0OiL+xogEVX2ePP2OiARVfZ48/",
            "dtype": "f8"
           }
          },
          {
           "name": "Fixed Nodes",
           "type": "scatter3d",
           "x": [],
           "y": [],
           "z": []
          },
          {
           "name": "Edges",
           "type": "scatter3d",
           "x": [
            0.9999661310132005,
            -0.000033865192092582836,
            null,
            -0.000033865192092582836,
            0.00014129130965287784,
            null,
            0.00014129130965287784,
            0.9999661310132005,
            null,
            1.2515130954856764,
            0.25151315303978483,
            null,
            0.25151315303978483,
            0.24690091906225153,
            null,
            0.24690091906225153,
            1.2515130954856764,
            null
           ],
           "y": [
            -0.00003386519209258293,
            0.9999661310132005,
            null,
            0.9999661310132005,
            0.0001412913096528785,
            null,
            0.0001412913096528785,
            -0.00003386519209258293,
            null,
            0.25151315303978483,
            1.2515130954856726,
            null,
            1.2515130954856726,
            0.24690091906224781,
            null,
            0.24690091906224781,
            0.25151315303978483,
            null
           ],
           "z": [
            -0.018647144731286373,
            -0.018647144731286373,
            null,
            -0.018647144731286373,
            -0.037362764159030025,
            null,
            -0.037362764159030025,
            -0.018647144731286373,
            null,
            0.015333884075702771,
            0.015333884075702636,
            null,
            0.015333884075702636,
            -0.011746269942097827,
            null,
            -0.011746269942097827,
            0.015333884075702771,
            null
           ]
          },
          {
           "i": [
            0,
            3
           ],
           "j": [
            1,
            4
           ],
           "k": [
            2,
            5
           ],
           "name": "Faces",
           "type": "mesh3d",
           "x": {
            "bdata": "e+y7G/OEIj8t5rn4uP/vP0B+3CNPwQG/aMNcBnOazz/8BnqYMgb0P0Z2tJ/KGNA/",
            "dtype": "f8"
           },
           "y": {
            "bdata": "k+y7G/OEIj9OftwjT8EBvy3mufi4/+8/4sJcBnOazz9GdrSfyhjQP+sGepgyBvQ/",
            "dtype": "f8"
           },
           "z": {
            "bdata": "a2lNVDYho79BfCOzPBiTv0F8I7M8GJO/hKgCqm0OiL+xogEVX2ePP2OiARVfZ48/",
            "dtype": "f8"
           }
          }
         ],
         "layout": {
          "annotations": [
           {
            "showarrow": false,
            "text": "Time: 0.36s (Step: 37/100)",
            "x": 0.05,
            "xref": "paper",
            "y": 0.95,
            "yref": "paper"
           }
          ]
         },
         "name": "36"
        },
        {
         "data": [
          {
           "name": "Free Nodes",
           "type": "scatter3d",
           "x": {
            "bdata": "CSwA4YhbJD/05yVhrv/vPwlLjCM0ZwS/YEuEe0uYzz/Lq8oHUwb0P2wZ9lxMGdA/",
            "dtype": "f8"
           },
           "y": {
            "bdata": "JCwA4YhbJD8YS4wjNGcEv/TnJWGu/+8/y0qEe0uYzz9sGfZcTBnQP7irygdTBvQ/",
            "dtype": "f8"
           },
           "z": {
            "bdata": "l29UyvYkpL+ZECyvjhuUv5kQLK+OG5S/phTl3tlRir9vQuWt1jCFPyFC5a3WMIU/",
            "dtype": "f8"
           }
          },
          {
           "name": "Fixed Nodes",
           "type": "scatter3d",
           "x": [],
           "y": [],
           "z": []
          },
          {
           "name": "Edges",
           "type": "scatter3d",
           "x": [
            0.9999610803054098,
            -0.00003891589989825888,
            null,
            -0.00003891589989825888,
            0.00015531583676450824,
            null,
            0.00015531583676450824,
            0.9999610803054098,
            null,
            1.251544027744546,
            0.25154408529524264,
            null,
            0.25154408529524264,
            0.24683517008869682,
            null,
            0.24683517008869682,
            1.251544027744546,
            null
           ],
           "y": [
            -0.00003891589989825898,
            0.9999610803054098,
            null,
            0.9999610803054098,
            0.00015531583676450897,
            null,
            0.00015531583676450897,
            -0.00003891589989825898,
            null,
            0.25154408529524264,
            1.2515440277445418,
            null,
            1.2515440277445418,
            0.24683517008869268,
            null,
            0.24683517008869268,
            0.25154408529524264,
            null
           ],
           "z": [
            -0.019636372987421245,
            -0.019636372987421245,
            null,
            -0.019636372987421245,
            -0.03934451312872438,
            null,
            -0.03934451312872438,
            -0.019636372987421245,
            null,
            0.010347058469649199,
            0.010347058469649064,
            null,
            0.010347058469649064,
            -0.012851431002341162,
            null,
            -0.012851431002341162,
            0.010347058469649199,
            null
           ]
          },
          {
           "i": [
            0,
            3
           ],
           "j": [
            1,
            4
           ],
           "k": [
            2,
            5
           ],
           "name": "Faces",
           "type": "mesh3d",
           "x": {
            "bdata": "CSwA4YhbJD/05yVhrv/vPwlLjCM0ZwS/YEuEe0uYzz/Lq8oHUwb0P2wZ9lxMGdA/",
            "dtype": "f8"
           },
           "y": {
            "bdata": "JCwA4YhbJD8YS4wjNGcEv/TnJWGu/+8/y0qEe0uYzz9sGfZcTBnQP7irygdTBvQ/",
            "dtype": "f8"
           },
           "z": {
            "bdata": "l29UyvYkpL+ZECyvjhuUv5kQLK+OG5S/phTl3tlRir9vQuWt1jCFPyFC5a3WMIU/",
            "dtype": "f8"
           }
          }
         ],
         "layout": {
          "annotations": [
           {
            "showarrow": false,
            "text": "Time: 0.37s (Step: 38/100)",
            "x": 0.05,
            "xref": "paper",
            "y": 0.95,
            "yref": "paper"
           }
          ]
         },
         "name": "37"
        },
        {
         "data": [
          {
           "name": "Free Nodes",
           "type": "scatter3d",
           "x": {
            "bdata": "pH0/rClIJj/juTkZo//vP6JIMi8vOQe/abi2cXeWzz9Iogo/bgb0P1ID9Tm5GdA/",
            "dtype": "f8"
           },
           "y": {
            "bdata": "u30/rClIJj+xSDIvLzkHv+O5ORmj/+8/xLe2cXeWzz9SA/U5uRnQPzOiCj9uBvQ/",
            "dtype": "f8"
           },
           "z": {
            "bdata": "INOgVrYopb+UR++U4R6Vv5RH75ThHpW/4MoV9hKVjL9xDuBvafR1P9YN4G9p9HU/",
            "dtype": "f8"
           }
          },
          {
           "name": "Fixed Nodes",
           "type": "scatter3d",
           "x": [],
           "y": [],
           "z": []
          },
          {
           "name": "Edges",
           "type": "scatter3d",
           "x": [
            0.9999557011304286,
            -0.000044295074894355456,
            null,
            -0.000044295074894355456,
            0.0001699972982569356,
            null,
            0.0001699972982569356,
            0.9999557011304286,
            null,
            1.2515699827728373,
            0.25157004032012253,
            null,
            0.25157004032012253,
            0.2467793755762984,
            null,
            0.2467793755762984,
            1.2515699827728373,
            null
           ],
           "y": [
            -0.00004429507489435556,
            0.9999557011304286,
            null,
            0.9999557011304286,
            0.00016999729825693623,
            null,
            0.00016999729825693623,
            -0.00004429507489435556,
            null,
            0.25157004032012253,
            1.2515699827728326,
            null,
            1.2515699827728326,
            0.2467793755762938,
            null,
            0.2467793755762938,
            0.25157004032012253,
            null
           ],
           "z": [
            -0.020625614848377063,
            -0.020625614848377063,
            null,
            -0.020625614848377063,
            -0.04132623488877685,
            null,
            -0.04132623488877685,
            -0.020625614848377063,
            null,
            0.005360042441683186,
            0.005360042441683052,
            null,
            0.005360042441683052,
            -0.013956211218759618,
            null,
            -0.013956211218759618,
            0.005360042441683186,
            null
           ]
          },
          {
           "i": [
            0,
            3
           ],
           "j": [
            1,
            4
           ],
           "k": [
            2,
            5
           ],
           "name": "Faces",
           "type": "mesh3d",
           "x": {
            "bdata": "pH0/rClIJj/juTkZo//vP6JIMi8vOQe/abi2cXeWzz9Iogo/bgb0P1ID9Tm5GdA/",
            "dtype": "f8"
           },
           "y": {
            "bdata": "u30/rClIJj+xSDIvLzkHv+O5ORmj/+8/xLe2cXeWzz9SA/U5uRnQPzOiCj9uBvQ/",
            "dtype": "f8"
           },
           "z": {
            "bdata": "INOgVrYopb+UR++U4R6Vv5RH75ThHpW/4MoV9hKVjL9xDuBvafR1P9YN4G9p9HU/",
            "dtype": "f8"
           }
          }
         ],
         "layout": {
          "annotations": [
           {
            "showarrow": false,
            "text": "Time: 0.38s (Step: 39/100)",
            "x": 0.05,
            "xref": "paper",
            "y": 0.95,
            "yref": "paper"
           }
          ]
         },
         "name": "38"
        },
        {
         "data": [
          {
           "name": "Free Nodes",
           "type": "scatter3d",
           "x": {
            "bdata": "ul/yOtVKKD82cPcgl//vP5CHv8E/Nwq/wyyE6vaUzz9P6CA+hAb0P2krTTYRGtA/",
            "dtype": "f8"
           },
           "y": {
            "bdata": "zl/yOtVKKD+fh7/BPzcKvzZw9yCX/+8/DCyE6vaUzz9pK002ERrQPzjoID6EBvQ/",
            "dtype": "f8"
           },
           "z": {
            "bdata": "DDj+7XQspr8sfaFvNSKWvyx9oW81Ipa/cD8CNyPYjr+UZRXbym84PwJcFdvKbzg/",
            "dtype": "f8"
           }
          },
          {
           "name": "Fixed Nodes",
           "type": "scatter3d",
           "x": [],
           "y": [],
           "z": []
          },
          {
           "name": "Edges",
           "type": "scatter3d",
           "x": [
            0.9999499935033842,
            -0.00005000270195389047,
            null,
            -0.00005000270195389047,
            0.00018533566387612753,
            null,
            0.00018533566387612753,
            0.9999499935033842,
            null,
            1.2515909602066306,
            0.251591017750505,
            null,
            0.251591017750505,
            0.24673353625289537,
            null,
            0.24673353625289537,
            1.2515909602066306,
            null
           ],
           "y": [
            -0.00005000270195389057,
            0.9999499935033842,
            null,
            0.9999499935033842,
            0.00018533566387612808,
            null,
            0.00018533566387612808,
            -0.00005000270195389057,
            null,
            0.251591017750505,
            1.2515909602066255,
            null,
            1.2515909602066255,
            0.2467335362528903,
            null,
            0.2467335362528903,
            0.251591017750505,
            null
           ],
           "z": [
            -0.021614870966343222,
            -0.021614870966343222,
            null,
            -0.021614870966343222,
            -0.04330792813480863,
            null,
            -0.04330792813480863,
            -0.021614870966343222,
            null,
            0.0003728742841154428,
            0.00037287428411531,
            null,
            0.00037287428411531,
            -0.015060687175974613,
            null,
            -0.015060687175974613,
            0.0003728742841154428,
            null
           ]
          },
          {
           "i": [
            0,
            3
           ],
           "j": [
            1,
            4
           ],
           "k": [
            2,
            5
           ],
           "name": "Faces",
           "type": "mesh3d",
           "x": {
            "bdata": "ul/yOtVKKD82cPcgl//vP5CHv8E/Nwq/wyyE6vaUzz9P6CA+hAb0P2krTTYRGtA/",
            "dtype": "f8"
           },
           "y": {
            "bdata": "zl/yOtVKKD+fh7/BPzcKvzZw9yCX/+8/DCyE6vaUzz9pK002ERrQPzjoID6EBvQ/",
            "dtype": "f8"
           },
           "z": {
            "bdata": "DDj+7XQspr8sfaFvNSKWvyx9oW81Ipa/cD8CNyPYjr+UZRXbym84PwJcFdvKbzg/",
            "dtype": "f8"
           }
          }
         ],
         "layout": {
          "annotations": [
           {
            "showarrow": false,
            "text": "Time: 0.39s (Step: 40/100)",
            "x": 0.05,
            "xref": "paper",
            "y": 0.95,
            "yref": "paper"
           }
          ]
         },
         "name": "39"
        },
        {
         "data": [
          {
           "name": "Free Nodes",
           "type": "scatter3d",
           "x": {
            "bdata": "dVi4R4tjKj/wNWF4iv/vP+rQclBlYQ2/H97a5smTzz+Fmv4ElQb0P0IEw1FUGtA/",
            "dtype": "f8"
           },
           "y": {
            "bdata": "i1i4R4tjKj/50HJQZWENv/A1YXiK/+8/VN3a5smTzz9CBMNRVBrQP22a/gSVBvQ/",
            "dtype": "f8"
           },
           "z": {
            "bdata": "RGk4hTIwp7945nZKiiWXv3jmdkqKJZe/v6uBdIqNkL9BvmijjuZyv9i+aKOO5nK/",
            "dtype": "f8"
           }
          },
          {
           "name": "Fixed Nodes",
           "type": "scatter3d",
           "x": [],
           "y": [],
           "z": []
          },
          {
           "name": "Edges",
           "type": "scatter3d",
           "x": [
            0.9999439574400508,
            -0.00005603876530227584,
            null,
            -0.00005603876530227584,
            0.00020133090207314115,
            null,
            0.00020133090207314115,
            0.9999439574400508,
            null,
            1.2516069598292756,
            0.25160701736973945,
            null,
            0.25160701736973945,
            0.24669765255178874,
            null,
            0.24669765255178874,
            1.2516069598292756,
            null
           ],
           "y": [
            -0.00005603876530227594,
            0.9999439574400508,
            null,
            0.9999439574400508,
            0.00020133090207314174,
            null,
            0.00020133090207314174,
            -0.00005603876530227594,
            null,
            0.25160701736973945,
            1.2516069598292703,
            null,
            1.2516069598292703,
            0.2466976525517831,
            null,
            0.2466976525517831,
            0.25160701736973945,
            null
           ],
           "z": [
            -0.022604141993474575,
            -0.022604141993474575,
            null,
            -0.022604141993474575,
            -0.04528959156251003,
            null,
            -0.04528959156251003,
            -0.022604141993474575,
            null,
            -0.004614407711911962,
            -0.004614407711912093,
            null,
            -0.004614407711912093,
            -0.016164935456270287,
            null,
            -0.016164935456270287,
            -0.004614407711911962,
            null
           ]
          },
          {
           "i": [
            0,
            3
           ],
           "j": [
            1,
            4
           ],
           "k": [
            2,
            5
           ],
           "name": "Faces",
           "type": "mesh3d",
           "x": {
            "bdata": "dVi4R4tjKj/wNWF4iv/vP+rQclBlYQ2/H97a5smTzz+Fmv4ElQb0P0IEw1FUGtA/",
            "dtype": "f8"
           },
           "y": {
            "bdata": "i1i4R4tjKj/50HJQZWENv/A1YXiK/+8/VN3a5smTzz9CBMNRVBrQP22a/gSVBvQ/",
            "dtype": "f8"
           },
           "z": {
            "bdata": "RGk4hTIwp7945nZKiiWXv3jmdkqKJZe/v6uBdIqNkL9BvmijjuZyv9i+aKOO5nK/",
            "dtype": "f8"
           }
          }
         ],
         "layout": {
          "annotations": [
           {
            "showarrow": false,
            "text": "Time: 0.40s (Step: 41/100)",
            "x": 0.05,
            "xref": "paper",
            "y": 0.95,
            "yref": "paper"
           }
          ]
         },
         "name": "40"
        },
        {
         "data": [
          {
           "name": "Free Nodes",
           "type": "scatter3d",
           "x": {
            "bdata": "tsdXikuSLD/eTHkfff/vP8psbKXPWxC/WBwHZ/CSzz/s856ToAb0P+h5Q4yCGtA/",
            "dtype": "f8"
           },
           "y": {
            "bdata": "z8dXikuSLD/SbGylz1sQv95MeR99/+8/hhsHZ/CSzz/oeUOMghrQP9LznpOgBvQ/",
            "dtype": "f8"
           },
           "z": {
            "bdata": "CVobEe8zqL83kKMw4CiYvzeQozDgKJi/I7+kKfmukb8Q4h4eF6qDv1ziHh4XqoO/",
            "dtype": "f8"
           }
          },
          {
           "name": "Fixed Nodes",
           "type": "scatter3d",
           "x": [],
           "y": [],
           "z": []
          },
          {
           "name": "Edges",
           "type": "scatter3d",
           "x": [
            0.9999375929568506,
            -0.00006240324851740638,
            null,
            -0.00006240324851740638,
            0.00021798298000380378,
            null,
            0.00021798298000380378,
            0.9999375929568506,
            null,
            1.2516179815713668,
            0.2516180391084206,
            null,
            0.2516180391084206,
            0.2466717246117891,
            null,
            0.2466717246117891,
            1.2516179815713668,
            null
           ],
           "y": [
            -0.00006240324851740649,
            0.9999375929568506,
            null,
            0.9999375929568506,
            0.00021798298000380445,
            null,
            0.00021798298000380445,
            -0.00006240324851740649,
            null,
            0.2516180391084206,
            1.251617981571361,
            null,
            1.251617981571361,
            0.24667172461178327,
            null,
            0.24667172461178327,
            0.2516180391084206,
            null
           ],
           "z": [
            -0.023593428581890143,
            -0.023593428581890143,
            null,
            -0.023593428581890143,
            -0.04727122386764299,
            null,
            -0.04727122386764299,
            -0.023593428581890143,
            null,
            -0.009601765257557765,
            -0.009601765257557897,
            null,
            -0.009601765257557897,
            -0.017269032637329162,
            null,
            -0.017269032637329162,
            -0.009601765257557765,
            null
           ]
          },
          {
           "i": [
            0,
            3
           ],
           "j": [
            1,
            4
           ],
           "k": [
            2,
            5
           ],
           "name": "Faces",
           "type": "mesh3d",
           "x": {
            "bdata": "tsdXikuSLD/eTHkfff/vP8psbKXPWxC/WBwHZ/CSzz/s856ToAb0P+h5Q4yCGtA/",
            "dtype": "f8"
           },
           "y": {
            "bdata": "z8dXikuSLD/SbGylz1sQv95MeR99/+8/hhsHZ/CSzz/oeUOMghrQP9LznpOgBvQ/",
            "dtype": "f8"
           },
           "z": {
            "bdata": "CVobEe8zqL83kKMw4CiYvzeQozDgKJi/I7+kKfmukb8Q4h4eF6qDv1ziHh4XqoO/",
            "dtype": "f8"
           }
          }
         ],
         "layout": {
          "annotations": [
           {
            "showarrow": false,
            "text": "Time: 0.41s (Step: 42/100)",
            "x": 0.05,
            "xref": "paper",
            "y": 0.95,
            "yref": "paper"
           }
          ]
         },
         "name": "41"
        },
        {
         "data": [
          {
           "name": "Free Nodes",
           "type": "scatter3d",
           "x": {
            "bdata": "bEEDEDa4LT/xX6Fdgf/vP3JYt9scKw+/BD5ENkiSzz/1VUs8pAb0Py4ukfWOGtA/",
            "dtype": "f8"
           },
           "y": {
            "bdata": "za8qzzmYLT+DimJVipgPv2jsuQSE/+8/DD9+wEiSzz8WfUDSkRrQP7D6s/mjBvQ/",
            "dtype": "f8"
           },
           "z": {
            "bdata": "CN09GLk3qb/xUZ4oE+eZvyndvteB/5m/1epRl80Lkr9Ff1TfXDONv4KB4Pn2Ao2/",
            "dtype": "f8"
           }
          },
          {
           "name": "Fixed Nodes",
           "type": "scatter3d",
           "x": [],
           "y": [],
           "z": []
          },
          {
           "name": "Edges",
           "type": "scatter3d",
           "x": [
            0.9999396160810631,
            -0.00005944902246894723,
            null,
            -0.00005944902246894723,
            0.00022674236243470523,
            null,
            0.00022674236243470523,
            0.9999396160810631,
            null,
            1.2516214709515883,
            0.2516209982029264,
            null,
            0.2516209982029264,
            0.2466516747449391,
            null,
            0.2466516747449391,
            1.2516214709515883,
            null
           ],
           "y": [
            -0.00006026432190366518,
            0.9999408809957346,
            null,
            0.9999408809957346,
            0.0002257891242910523,
            null,
            0.0002257891242910523,
            -0.00006026432190366518,
            null,
            0.2516216805688186,
            1.2516212228799013,
            null,
            1.2516212228799013,
            0.24665173911170546,
            null,
            0.24665173911170546,
            0.2516216805688186,
            null
           ],
           "z": [
            -0.025295543054726314,
            -0.025388745110572906,
            null,
            -0.025388745110572906,
            -0.049253257950960416,
            null,
            -0.049253257950960416,
            -0.025295543054726314,
            null,
            -0.01425812298344876,
            -0.014165811062469617,
            null,
            -0.014165811062469617,
            -0.017623150215949252,
            null,
            -0.017623150215949252,
            -0.01425812298344876,
            null
           ]
          },
          {
           "i": [
            0,
            3
           ],
           "j": [
            1,
            4
           ],
           "k": [
            2,
            5
           ],
           "name": "Faces",
           "type": "mesh3d",
           "x": {
            "bdata": "bEEDEDa4LT/xX6Fdgf/vP3JYt9scKw+/BD5ENkiSzz/1VUs8pAb0Py4ukfWOGtA/",
            "dtype": "f8"
           },
           "y": {
            "bdata": "za8qzzmYLT+DimJVipgPv2jsuQSE/+8/DD9+wEiSzz8WfUDSkRrQP7D6s/mjBvQ/",
            "dtype": "f8"
           },
           "z": {
            "bdata": "CN09GLk3qb/xUZ4oE+eZvyndvteB/5m/1epRl80Lkr9Ff1TfXDONv4KB4Pn2Ao2/",
            "dtype": "f8"
           }
          }
         ],
         "layout": {
          "annotations": [
           {
            "showarrow": false,
            "text": "Time: 0.42s (Step: 43/100)",
            "x": 0.05,
            "xref": "paper",
            "y": 0.95,
            "yref": "paper"
           }
          ]
         },
         "name": "42"
        },
        {
         "data": [
          {
           "name": "Free Nodes",
           "type": "scatter3d",
           "x": {
            "bdata": "GzcqxOOELT8sBTW1kv/vP+Bwp8ymUgu/1785tQWSzz88NxA5oQb0P/LzWc+BGtA/",
            "dtype": "f8"
           },
           "y": {
            "bdata": "8gZrLujBLT9b2h5z7tcLv4iCOPuQ/+8/8QL2DQKSzz+Pp8zshRrQP7C3B6agBvQ/",
            "dtype": "f8"
           },
           "z": {
            "bdata": "6JMog5A7qr/ccFwJPFucv8+ALRGLPZy/v+65R8Tbkb89EqaWhPCSvxn5NKTtDZO/",
            "dtype": "f8"
           }
          },
          {
           "name": "Fixed Nodes",
           "type": "scatter3d",
           "x": [],
           "y": [],
           "z": []
          },
          {
           "name": "Edges",
           "type": "scatter3d",
           "x": [
            0.9999478854371424,
            -0.00005211421519721467,
            null,
            -0.00005211421519721467,
            0.00022521286344495063,
            null,
            0.00022521286344495063,
            0.9999478854371424,
            null,
            1.2516185978924588,
            0.25161786317022383,
            null,
            0.25161786317022383,
            0.24664374684243626,
            null,
            0.24664374684243626,
            1.2516185978924588,
            null
           ],
           "y": [
            -0.000053107227713612626,
            0.9999470621733773,
            null,
            0.9999470621733773,
            0.00022703131909023556,
            null,
            0.00022703131909023556,
            -0.000053107227713612626,
            null,
            0.25161884427017694,
            1.2516180501511194,
            null,
            1.2516180501511194,
            0.24664331132591813,
            null,
            0.24664331132591813,
            0.25161884427017694,
            null
           ],
           "z": [
            -0.02769178206573107,
            -0.027578518794485526,
            null,
            -0.027578518794485526,
            -0.051235691080627366,
            null,
            -0.051235691080627366,
            -0.02769178206573107,
            null,
            -0.018495628065936954,
            -0.01860781969775713,
            null,
            -0.01860781969775713,
            -0.017439906003785973,
            null,
            -0.017439906003785973,
            -0.018495628065936954,
            null
           ]
          },
          {
           "i": [
            0,
            3
           ],
           "j": [
            1,
            4
           ],
           "k": [
            2,
            5
           ],
           "name": "Faces",
           "type": "mesh3d",
           "x": {
            "bdata": "GzcqxOOELT8sBTW1kv/vP+Bwp8ymUgu/1785tQWSzz88NxA5oQb0P/LzWc+BGtA/",
            "dtype": "f8"
           },
           "y": {
            "bdata": "8gZrLujBLT9b2h5z7tcLv4iCOPuQ/+8/8QL2DQKSzz+Pp8zshRrQP7C3B6agBvQ/",
            "dtype": "f8"
           },
           "z": {
            "bdata": "6JMog5A7qr/ccFwJPFucv8+ALRGLPZy/v+65R8Tbkb89EqaWhPCSvxn5NKTtDZO/",
            "dtype": "f8"
           }
          }
         ],
         "layout": {
          "annotations": [
           {
            "showarrow": false,
            "text": "Time: 0.43s (Step: 44/100)",
            "x": 0.05,
            "xref": "paper",
            "y": 0.95,
            "yref": "paper"
           }
          ]
         },
         "name": "43"
        },
        {
         "data": [
          {
           "name": "Free Nodes",
           "type": "scatter3d",
           "x": {
            "bdata": "AlQOh+8eLT+vIJfMo//vP6dDGY2saAe/eTpfoTaSzz/9Um6glwb0P5eKzIBbGtA/",
            "dtype": "f8"
           },
           "y": {
            "bdata": "QwyUF3N6LT+MDliVN58Hv5UTcRmg/+8/WhYSlDaSzz8Lap+6XRrQP03FqH+WBvQ/",
            "dtype": "f8"
           },
           "z": {
            "bdata": "qBdPu2s/q78fdnfz49+evyu967JOrZ6/nvp9rhWLkb87gR7KVUeXv9Q9IhhweZe/",
            "dtype": "f8"
           }
          },
          {
           "name": "Fixed Nodes",
           "type": "scatter3d",
           "x": [],
           "y": [],
           "z": []
          },
          {
           "name": "Edges",
           "type": "scatter3d",
           "x": [
            0.9999560352234961,
            -0.000044648900836669843,
            null,
            -0.000044648900836669843,
            0.00022217439575614178,
            null,
            0.00022217439575614178,
            0.9999560352234961,
            null,
            1.251609446223653,
            0.25160873010660495,
            null,
            0.25160873010660495,
            0.24664957885257247,
            null,
            0.24664957885257247,
            1.251609446223653,
            null
           ],
           "y": [
            -0.000045055278558717415,
            0.999954271021681,
            null,
            0.999954271021681,
            0.0002249017232217339,
            null,
            0.0002249017232217339,
            -0.000045055278558717415,
            null,
            0.2516092607963009,
            1.2516083704652659,
            null,
            1.2516083704652659,
            0.2466495726586569,
            null,
            0.2466495726586569,
            0.2516092607963009,
            null
           ],
           "z": [
            -0.03015094922544936,
            -0.029957990332090716,
            null,
            -0.029957990332090716,
            -0.05321823750959648,
            null,
            -0.05321823750959648,
            -0.03015094922544936,
            null,
            -0.022733059369444347,
            -0.022924186203963817,
            null,
            -0.022924186203963817,
            -0.017132128501084247,
            null,
            -0.017132128501084247,
            -0.022733059369444347,
            null
           ]
          },
          {
           "i": [
            0,
            3
           ],
           "j": [
            1,
            4
           ],
           "k": [
            2,
            5
           ],
           "name": "Faces",
           "type": "mesh3d",
           "x": {
            "bdata": "AlQOh+8eLT+vIJfMo//vP6dDGY2saAe/eTpfoTaSzz/9Um6glwb0P5eKzIBbGtA/",
            "dtype": "f8"
           },
           "y": {
            "bdata": "QwyUF3N6LT+MDliVN58Hv5UTcRmg/+8/WhYSlDaSzz8Lap+6XRrQP03FqH+WBvQ/",
            "dtype": "f8"
           },
           "z": {
            "bdata": "qBdPu2s/q78fdnfz49+evyu967JOrZ6/nvp9rhWLkb87gR7KVUeXv9Q9IhhweZe/",
            "dtype": "f8"
           }
          }
         ],
         "layout": {
          "annotations": [
           {
            "showarrow": false,
            "text": "Time: 0.44s (Step: 45/100)",
            "x": 0.05,
            "xref": "paper",
            "y": 0.95,
            "yref": "paper"
           }
          ]
         },
         "name": "44"
        },
        {
         "data": [
          {
           "name": "Free Nodes",
           "type": "scatter3d",
           "x": {
            "bdata": "KFxSrH+/LD/ruc60tP/vP4nteDb5jAO/1xkiedqSzz+JZxP4hgb0P7OLVPsXGtA/",
            "dtype": "f8"
           },
           "y": {
            "bdata": "L9nXjBs3LT8VgJb2xnQDvwrf6S6v/+8/iLwZGeGSzz/MWn5TGBrQPwBVqeaEBvQ/",
            "dtype": "f8"
           },
           "z": {
            "bdata": "m1umtUZDrL/orb0URrKgv1nML0KJjqC/KrlUDno6kb+poFShHZ6bv3IfP+/o5Ju/",
            "dtype": "f8"
           }
          },
          {
           "name": "Fixed Nodes",
           "type": "scatter3d",
           "x": [],
           "y": [],
           "z": []
          },
          {
           "name": "Edges",
           "type": "scatter3d",
           "x": [
            0.9999640971562348,
            -0.00003728995835358256,
            null,
            -0.00003728995835358256,
            0.0002193301535597669,
            null,
            0.0002193301535597669,
            0.9999640971562348,
            null,
            1.2515935602627641,
            0.25159263175936103,
            null,
            0.25159263175936103,
            0.24666911043841708,
            null,
            0.24666911043841708,
            1.2515935602627641,
            null
           ],
           "y": [
            -0.000037109681964908745,
            0.9999614635734997,
            null,
            0.9999614635734997,
            0.00022289477639931543,
            null,
            0.00022289477639931543,
            -0.000037109681964908745,
            null,
            0.25159271386784776,
            1.2515915880406396,
            null,
            1.2515915880406396,
            0.24666990018474544,
            null,
            0.24666990018474544,
            0.25159271386784776,
            null
           ],
           "z": [
            -0.032610120803692244,
            -0.032337464646751975,
            null,
            -0.032337464646751975,
            -0.055200776742984924,
            null,
            -0.055200776742984924,
            -0.032610120803692244,
            null,
            -0.026970351192318862,
            -0.0272404094719429,
            null,
            -0.0272404094719429,
            -0.016824633717243,
            null,
            -0.016824633717243,
            -0.026970351192318862,
            null
           ]
          },
          {
           "i": [
            0,
            3
           ],
           "j": [
            1,
            4
           ],
           "k": [
            2,
            5
           ],
           "name": "Faces",
           "type": "mesh3d",
           "x": {
            "bdata": "KFxSrH+/LD/ruc60tP/vP4nteDb5jAO/1xkiedqSzz+JZxP4hgb0P7OLVPsXGtA/",
            "dtype": "f8"
           },
           "y": {
            "bdata": "L9nXjBs3LT8VgJb2xnQDvwrf6S6v/+8/iLwZGeGSzz/MWn5TGBrQPwBVqeaEBvQ/",
            "dtype": "f8"
           },
           "z": {
            "bdata": "m1umtUZDrL/orb0URrKgv1nML0KJjqC/KrlUDno6kb+poFShHZ6bv3IfP+/o5Ju/",
            "dtype": "f8"
           }
          }
         ],
         "layout": {
          "annotations": [
           {
            "showarrow": false,
            "text": "Time: 0.45s (Step: 46/100)",
            "x": 0.05,
            "xref": "paper",
            "y": 0.95,
            "yref": "paper"
           }
          ]
         },
         "name": "45"
        },
        {
         "data": [
          {
           "name": "Free Nodes",
           "type": "scatter3d",
           "x": {
            "bdata": "kJtgS5llLD/FLNtwxf/vPwgb0vrBeP++x0nZNPGTzz+G9ZA5bwb0P8J+gFy3GdA/",
            "dtype": "f8"
           },
           "y": {
            "bdata": "ByXo1Xj4LD8xwT1s4qr+vt/mgCW+/+8/TXH+fwGUzz/jF8LUtRnQP8sPVddrBvQ/",
            "dtype": "f8"
           },
           "z": {
            "bdata": "LimMdSFHrb+KAFxPmvShv7PQvkVrxqG/7YPp2/npkL/GZzfv1/Sfv5Wm+PApKKC/",
            "dtype": "f8"
           }
          },
          {
           "name": "Fixed Nodes",
           "type": "scatter3d",
           "x": [],
           "y": [],
           "z": []
          },
          {
           "name": "Edges",
           "type": "scatter3d",
           "x": [
            0.9999720768186299,
            -0.000030013761421555783,
            null,
            -0.000030013761421555783,
            0.00021665092725805775,
            null,
            0.00021665092725805775,
            0.9999720768186299,
            null,
            1.2515709160501003,
            0.2515695956553651,
            null,
            0.2515695956553651,
            0.2467023380327886,
            null,
            0.2467023380327886,
            1.2515709160501003,
            null
           ],
           "y": [
            -0.00002924682372856916,
            0.9999685986033134,
            null,
            0.9999685986033134,
            0.00022102808993932512,
            null,
            0.00022102808993932512,
            -0.00002924682372856916,
            null,
            0.25156923081556054,
            1.2515676890770802,
            null,
            1.2515676890770802,
            0.2467042803736014,
            null,
            0.2467042803736014,
            0.25156923081556054,
            null
           ],
           "z": [
            -0.03506929606192084,
            -0.03471694208511291,
            null,
            -0.03471694208511291,
            -0.05718330917268798,
            null,
            -0.05718330917268798,
            -0.03506929606192084,
            null,
            -0.031207441306697857,
            -0.031556425729218386,
            null,
            -0.031556425729218386,
            -0.016517547652600873,
            null,
            -0.016517547652600873,
            -0.031207441306697857,
            null
           ]
          },
          {
           "i": [
            0,
            3
           ],
           "j": [
            1,
            4
           ],
           "k": [
            2,
            5
           ],
           "name": "Faces",
           "type": "mesh3d",
           "x": {
            "bdata": "kJtgS5llLD/FLNtwxf/vPwgb0vrBeP++x0nZNPGTzz+G9ZA5bwb0P8J+gFy3GdA/",
            "dtype": "f8"
           },
           "y": {
            "bdata": "ByXo1Xj4LD8xwT1s4qr+vt/mgCW+/+8/TXH+fwGUzz/jF8LUtRnQP8sPVddrBvQ/",
            "dtype": "f8"
           },
           "z": {
            "bdata": "LimMdSFHrb+KAFxPmvShv7PQvkVrxqG/7YPp2/npkL/GZzfv1/Sfv5Wm+PApKKC/",
            "dtype": "f8"
           }
          }
         ],
         "layout": {
          "annotations": [
           {
            "showarrow": false,
            "text": "Time: 0.46s (Step: 47/100)",
            "x": 0.05,
            "xref": "paper",
            "y": 0.95,
            "yref": "paper"
           }
          ]
         },
         "name": "46"
        },
        {
         "data": [
          {
           "name": "Free Nodes",
           "type": "scatter3d",
           "x": {
            "bdata": "Kk6Sco0QLD9w7JUA1v/vP8d8NvA86Pe+Z/wywnqVzz+uruJlUAb0P86Diqk5GdA/",
            "dtype": "f8"
           },
           "y": {
            "bdata": "yEUlS4i9LD9hHbmw4Xz2vry2SgLN/+8/8jZEvZeVzz+VAqtDNhnQPxNdy1FLBvQ/",
            "dtype": "f8"
           },
           "z": {
            "bdata": "8d+nBfxKrr9XyBql7jajv7J2911N/qK/0/v7h52ZkL86fv5EwCWivxeAoVTWXaK/",
            "dtype": "f8"
           }
          },
          {
           "name": "Fixed Nodes",
           "type": "scatter3d",
           "x": [],
           "y": [],
           "z": []
          },
          {
           "name": "Edges",
           "type": "scatter3d",
           "x": [
            0.9999799739301931,
            -0.00002279966339601978,
            null,
            -0.00002279966339601978,
            0.0002141163506946692,
            null,
            0.0002141163506946692,
            0.9999799739301931,
            null,
            1.2515415172482949,
            0.25153962666268803,
            null,
            0.25153962666268803,
            0.24674925310498283,
            null,
            0.24674925310498283,
            1.2515415172482949,
            null
           ],
           "y": [
            -0.000021446055184418613,
            0.9999756855738364,
            null,
            0.9999756855738364,
            0.0002192715524623036,
            null,
            0.0002192715524623036,
            -0.000021446055184418613,
            null,
            0.25153881653026505,
            1.251536674031574,
            null,
            1.251536674031574,
            0.24675270787741216,
            null,
            0.24675270787741216,
            0.25153881653026505,
            null
           ],
           "z": [
            -0.03752847447812318,
            -0.03709642192891972,
            null,
            -0.03709642192891972,
            -0.059165836038971416,
            null,
            -0.059165836038971416,
            -0.03752847447812318,
            null,
            -0.03544426767552662,
            -0.03587217124072611,
            null,
            -0.03587217124072611,
            -0.01621099607927674,
            null,
            -0.01621099607927674,
            -0.03544426767552662,
            null
           ]
          },
          {
           "i": [
            0,
            3
           ],
           "j": [
            1,
            4
           ],
           "k": [
            2,
            5
           ],
           "name": "Faces",
           "type": "mesh3d",
           "x": {
            "bdata": "Kk6Sco0QLD9w7JUA1v/vP8d8NvA86Pe+Z/wywnqVzz+uruJlUAb0P86Diqk5GdA/",
            "dtype": "f8"
           },
           "y": {
            "bdata": "yEUlS4i9LD9hHbmw4Xz2vry2SgLN/+8/8jZEvZeVzz+VAqtDNhnQPxNdy1FLBvQ/",
            "dtype": "f8"
           },
           "z": {
            "bdata": "8d+nBfxKrr9XyBql7jajv7J2911N/qK/0/v7h52ZkL86fv5EwCWivxeAoVTWXaK/",
            "dtype": "f8"
           }
          }
         ],
         "layout": {
          "annotations": [
           {
            "showarrow": false,
            "text": "Time: 0.47s (Step: 48/100)",
            "x": 0.05,
            "xref": "paper",
            "y": 0.95,
            "yref": "paper"
           }
          ]
         },
         "name": "47"
        },
        {
         "data": [
          {
           "name": "Free Nodes",
           "type": "scatter3d",
           "x": {
            "bdata": "7WSOSVrAKz+x0/Jj5v/vPwUwuXdOaPC+XiPJGHeXzz8o05J9Kgb0P2WhfOSeGNA/",
            "dtype": "f8"
           },
           "y": {
            "bdata": "Jl/YzUSGLD9zPFDP7b7sviGUb8Xb/+8/QqZwyKOXzz/UFEWimRjQP0KLmFYjBvQ/",
            "dtype": "f8"
           },
           "z": {
            "bdata": "xggYZ9ZOr79Bw2IVQ3mkv4F3UoovNqS/lGw+hG1JkL+4tnujCVGkvwXvF393k6S/",
            "dtype": "f8"
           }
          },
          {
           "name": "Fixed Nodes",
           "type": "scatter3d",
           "x": [],
           "y": [],
           "z": []
          },
          {
           "name": "Edges",
           "type": "scatter3d",
           "x": [
            0.9999877884025549,
            -0.0000156473611084146,
            null,
            -0.0000156473611084146,
            0.00021172620907065152,
            null,
            0.00021172620907065152,
            0.9999877884025549,
            null,
            1.2515053658691588,
            0.251502726680448,
            null,
            0.251502726680448,
            0.2468098517440706,
            null,
            0.2468098517440706,
            1.2515053658691588,
            null
           ],
           "y": [
            -0.000013707073302197795,
            0.9999827247780823,
            null,
            0.9999827247780823,
            0.00021762456792439564,
            null,
            0.00021762456792439564,
            -0.000013707073302197795,
            null,
            0.25150147291817615,
            1.251498544945847,
            null,
            1.251498544945847,
            0.24681517874823738,
            null,
            0.24681517874823738,
            0.25150147291817615,
            null
           ],
           "z": [
            -0.039987655983515065,
            -0.0394759041166557,
            null,
            -0.0394759041166557,
            -0.061148357472136136,
            null,
            -0.061148357472136136,
            -0.039987655983515065,
            null,
            -0.039680768209888695,
            -0.04018758226808753,
            null,
            -0.04018758226808753,
            -0.0159051048245656,
            null,
            -0.0159051048245656,
            -0.039680768209888695,
            null
           ]
          },
          {
           "i": [
            0,
            3
           ],
           "j": [
            1,
            4
           ],
           "k": [
            2,
            5
           ],
           "name": "Faces",
           "type": "mesh3d",
           "x": {
            "bdata": "7WSOSVrAKz+x0/Jj5v/vPwUwuXdOaPC+XiPJGHeXzz8o05J9Kgb0P2WhfOSeGNA/",
            "dtype": "f8"
           },
           "y": {
            "bdata": "Jl/YzUSGLD9zPFDP7b7sviGUb8Xb/+8/QqZwyKOXzz/UFEWimRjQP0KLmFYjBvQ/",
            "dtype": "f8"
           },
           "z": {
            "bdata": "xggYZ9ZOr79Bw2IVQ3mkv4F3UoovNqS/lGw+hG1JkL+4tnujCVGkvwXvF393k6S/",
            "dtype": "f8"
           }
          }
         ],
         "layout": {
          "annotations": [
           {
            "showarrow": false,
            "text": "Time: 0.48s (Step: 49/100)",
            "x": 0.05,
            "xref": "paper",
            "y": 0.95,
            "yref": "paper"
           }
          ]
         },
         "name": "48"
        },
        {
         "data": [
          {
           "name": "Free Nodes",
           "type": "scatter3d",
           "x": {
            "bdata": "oSjD3QF1Kz/q6PKa9v/vP738+v8O8uG+OEVgL+aZzz8mpzOB/QX0P3qDqw/nF9A/",
            "dtype": "f8"
           },
           "y": {
            "bdata": "j6+P27BSLD/7czIPzErZvq6L6W7q/+8/9B/olyWazz+AwOby3xfQP8pxWubzBfQ/",
            "dtype": "f8"
           },
           "z": {
            "bdata": "TcddTVgpsL90ZrKfl7ulvwhzcsoRbqW/oMcfg+Tyj79EXu39RXymv6hrEk0Lyaa/",
            "dtype": "f8"
           }
          },
          {
           "name": "Fixed Nodes",
           "type": "scatter3d",
           "x": [],
           "y": [],
           "z": []
          },
          {
           "name": "Edges",
           "type": "scatter3d",
           "x": [
            0.9999955202431725,
            -0.000008557100954374703,
            null,
            -0.000008557100954374703,
            0.00020948074132426823,
            null,
            0.00020948074132426823,
            0.9999955202431725,
            null,
            1.2514624640411482,
            0.25145889787932385,
            null,
            0.25145889787932385,
            0.246884129650917,
            null,
            0.246884129650917,
            1.2514624640411482,
            null
           ],
           "y": [
            -0.000006030124711700782,
            0.999989716172754,
            null,
            0.999989716172754,
            0.0002160874262523396,
            null,
            0.0002160874262523396,
            -0.000006030124711700782,
            null,
            0.2514572021564234,
            1.251453304116796,
            null,
            1.251453304116796,
            0.24689168851205034,
            null,
            0.24689168851205034,
            0.2514572021564234,
            null
           ],
           "z": [
            -0.042446840519187484,
            -0.041855388605858634,
            null,
            -0.041855388605858634,
            -0.06313087357355336,
            null,
            -0.06313087357355336,
            -0.042446840519187484,
            null,
            -0.043916880843138745,
            -0.044502595098683984,
            null,
            -0.044502595098683984,
            -0.015599999667731457,
            null,
            -0.015599999667731457,
            -0.043916880843138745,
            null
           ]
          },
          {
           "i": [
            0,
            3
           ],
           "j": [
            1,
            4
           ],
           "k": [
            2,
            5
           ],
           "name": "Faces",
           "type": "mesh3d",
           "x": {
            "bdata": "oSjD3QF1Kz/q6PKa9v/vP738+v8O8uG+OEVgL+aZzz8mpzOB/QX0P3qDqw/nF9A/",
            "dtype": "f8"
           },
           "y": {
            "bdata": "j6+P27BSLD/7czIPzErZvq6L6W7q/+8/9B/olyWazz+AwOby3xfQP8pxWubzBfQ/",
            "dtype": "f8"
           },
           "z": {
            "bdata": "TcddTVgpsL90ZrKfl7ulvwhzcsoRbqW/oMcfg+Tyj79EXu39RXymv6hrEk0Lyaa/",
            "dtype": "f8"
           }
          }
         ],
         "layout": {
          "annotations": [
           {
            "showarrow": false,
            "text": "Time: 0.49s (Step: 50/100)",
            "x": 0.05,
            "xref": "paper",
            "y": 0.95,
            "yref": "paper"
           }
          ]
         },
         "name": "49"
        },
        {
         "data": [
          {
           "name": "Free Nodes",
           "type": "scatter3d",
           "x": {
            "bdata": "eljQR4QuKz+5CstSAwDwPyKvxSqMprm+yx1w+8eczz9j4WpxyQX0PzhxxC0SF9A/",
            "dtype": "f8"
           },
           "y": {
            "bdata": "+Y/MkcwiLD/peorTk5a6Po5AuP74/+8/+JS/IB2dzz/WET84CRfQP32vwgG9BfQ/",
            "dtype": "f8"
           },
           "z": {
            "bdata": "qpfEUEWrsL8BRX1D7P2mv1AY7R30paa/ik+OX2hTj79KnW4/c6eov3RqipuP/qi/",
            "dtype": "f8"
           }
          },
          {
           "name": "Fixed Nodes",
           "type": "scatter3d",
           "x": [],
           "y": [],
           "z": []
          },
          {
           "name": "Edges",
           "type": "scatter3d",
           "x": [
            1.000003169451402,
            -0.0000015288934874469489,
            null,
            -0.0000015288934874469489,
            0.0002073799586532232,
            null,
            0.0002073799586532232,
            1.000003169451402,
            null,
            1.2514128141757161,
            0.25140814275234247,
            null,
            0.25140814275234247,
            0.24697208192104222,
            null,
            0.24697208192104222,
            1.2514128141757161,
            null
           ],
           "y": [
            0.0000015847798079737812,
            0.9999966597552132,
            null,
            0.9999966597552132,
            0.00021466014086357602,
            null,
            0.00021466014086357602,
            0.0000015847798079737812,
            null,
            0.2514060067444722,
            1.251400954129138,
            null,
            1.251400954129138,
            0.24698223208466863,
            null,
            0.24698223208466863,
            0.2514060067444722,
            null
           ],
           "z": [
            -0.0449060280212823,
            -0.04423487534818149,
            null,
            -0.04423487534818149,
            -0.06511338445542827,
            null,
            -0.06511338445542827,
            -0.0449060280212823,
            null,
            -0.04815254353826022,
            -0.04881714605035806,
            null,
            -0.04881714605035806,
            -0.015295806327948264,
            null,
            -0.015295806327948264,
            -0.04815254353826022,
            null
           ]
          },
          {
           "i": [
            0,
            3
           ],
           "j": [
            1,
            4
           ],
           "k": [
            2,
            5
           ],
           "name": "Faces",
           "type": "mesh3d",
           "x": {
            "bdata": "eljQR4QuKz+5CstSAwDwPyKvxSqMprm+yx1w+8eczz9j4WpxyQX0PzhxxC0SF9A/",
            "dtype": "f8"
           },
           "y": {
            "bdata": "+Y/MkcwiLD/peorTk5a6Po5AuP74/+8/+JS/IB2dzz/WET84CRfQP32vwgG9BfQ/",
            "dtype": "f8"
           },
           "z": {
            "bdata": "qpfEUEWrsL8BRX1D7P2mv1AY7R30paa/ik+OX2hTj79KnW4/c6eov3RqipuP/qi/",
            "dtype": "f8"
           }
          }
         ],
         "layout": {
          "annotations": [
           {
            "showarrow": false,
            "text": "Time: 0.50s (Step: 51/100)",
            "x": 0.05,
            "xref": "paper",
            "y": 0.95,
            "yref": "paper"
           }
          ]
         },
         "name": "50"
        },
        {
         "data": [
          {
           "name": "Free Nodes",
           "type": "scatter3d",
           "x": {
            "bdata": "NoNah+HsKj9yEe5BCwDwP8i2IHk3ztY+Ah08cRygzz/kF/FOjgX0P5Vaw0EgFtA/",
            "dtype": "f8"
           },
           "y": {
            "bdata": "xBpw7pf2Kz+5HADruynjPkDQbboDAPA/QQLMVoqgzz/lt0t1FRbQP/k4l6l+BfQ/",
            "dtype": "f8"
           },
           "z": {
            "bdata": "Wms8PjItsb+vajYAQUCov9JvV4TW3ae/LZtGe3e0jr94/l5Tj9KqvyrWwEcCNKu/",
            "dtype": "f8"
           }
          },
          {
           "name": "Fixed Nodes",
           "type": "scatter3d",
           "x": [],
           "y": [],
           "z": []
          },
          {
           "name": "Edges",
           "type": "scatter3d",
           "x": [
            1.0000107360256973,
            0.000005437263000768965,
            null,
            0.000005437263000768965,
            0.0002054238608950821,
            null,
            0.0002054238608950821,
            1.0000107360256973,
            null,
            1.2513564189589426,
            0.2513504640786917,
            null,
            0.2513504640786917,
            0.24707370308917836,
            null,
            0.24707370308917836,
            1.2513564189589426,
            null
           ],
           "y": [
            0.000009137641740165869,
            1.0000035555249411,
            null,
            1.0000035555249411,
            0.00021334271079372611,
            null,
            0.00021334271079372611,
            0.000009137641740165869,
            null,
            0.25134788946786407,
            1.2513414978635053,
            null,
            1.2513414978635053,
            0.24708680379991857,
            null,
            0.24708680379991857,
            0.25134788946786407,
            null
           ],
           "z": [
            -0.047365218425701065,
            -0.04661436429498135,
            null,
            -0.04661436429498135,
            -0.06709589023050225,
            null,
            -0.06709589023050225,
            -0.047365218425701065,
            null,
            -0.05238769428933393,
            -0.05313117147344955,
            null,
            -0.05313117147344955,
            -0.01499265046079542,
            null,
            -0.01499265046079542,
            -0.05238769428933393,
            null
           ]
          },
          {
           "i": [
            0,
            3
           ],
           "j": [
            1,
            4
           ],
           "k": [
            2,
            5
           ],
           "name": "Faces",
           "type": "mesh3d",
           "x": {
            "bdata": "NoNah+HsKj9yEe5BCwDwP8i2IHk3ztY+Ah08cRygzz/kF/FOjgX0P5Vaw0EgFtA/",
            "dtype": "f8"
           },
           "y": {
            "bdata": "xBpw7pf2Kz+5HADruynjPkDQbboDAPA/QQLMVoqgzz/lt0t1FRbQP/k4l6l+BfQ/",
            "dtype": "f8"
           },
           "z": {
            "bdata": "Wms8PjItsb+vajYAQUCov9JvV4TW3ae/LZtGe3e0jr94/l5Tj9KqvyrWwEcCNKu/",
            "dtype": "f8"
           }
          }
         ],
         "layout": {
          "annotations": [
           {
            "showarrow": false,
            "text": "Time: 0.51s (Step: 52/100)",
            "x": 0.05,
            "xref": "paper",
            "y": 0.95,
            "yref": "paper"
           }
          ]
         },
         "name": "51"
        },
        {
         "data": [
          {
           "name": "Free Nodes",
           "type": "scatter3d",
           "x": {
            "bdata": "Y/suoRmwKj8vb+IaEwDwP23oy6u44ek+ZBHVg+Ojzz+BrZEaTAX0P+5M8k4RFdA/",
            "dtype": "f8"
           },
           "y": {
            "bdata": "g8EZ9RLOKz/TuBkUq2/xPrbJqegKAPA/t5WjLG2kzz81eVitBBXQP99Wst44BfQ/",
            "dtype": "f8"
           },
           "z": {
            "bdata": "XRtBFh+vsb/4/lDVlYKpvxSgRv24Fam/EERrsSIWjr8NvWclmP2svynNQy9haa2/",
            "dtype": "f8"
           }
          },
          {
           "name": "Fixed Nodes",
           "type": "scatter3d",
           "x": [],
           "y": [],
           "z": []
          },
          {
           "name": "Edges",
           "type": "scatter3d",
           "x": [
            1.0000182199646124,
            0.000012341367772606739,
            null,
            0.000012341367772606739,
            0.0002036124502335603,
            null,
            0.0002036124502335603,
            1.0000182199646124,
            null,
            1.251293281350485,
            0.25128586492173965,
            null,
            0.25128586492173965,
            0.24718898713229998,
            null,
            0.24718898713229998,
            1.251293281350485,
            null
           ],
           "y": [
            0.000016628460122119375,
            1.000010403481253,
            null,
            1.000010403481253,
            0.00021213513769026076,
            null,
            0.00021213513769026076,
            0.000016628460122119375,
            null,
            0.2512828533962364,
            1.251274938496344,
            null,
            1.251274938496344,
            0.24720539741171674,
            null,
            0.24720539741171674,
            0.2512828533962364,
            null
           ],
           "z": [
            -0.04982441166839452,
            -0.04899385539766868,
            null,
            -0.04899385539766868,
            -0.06907839101141407,
            null,
            -0.06907839101141407,
            -0.04982441166839452,
            null,
            -0.056622271123950886,
            -0.05744460775340549,
            null,
            -0.05744460775340549,
            -0.014690657653234879,
            null,
            -0.014690657653234879,
            -0.056622271123950886,
            null
           ]
          },
          {
           "i": [
            0,
            3
           ],
           "j": [
            1,
            4
           ],
           "k": [
            2,
            5
           ],
           "name": "Faces",
           "type": "mesh3d",
           "x": {
            "bdata": "Y/suoRmwKj8vb+IaEwDwP23oy6u44ek+ZBHVg+Ojzz+BrZEaTAX0P+5M8k4RFdA/",
            "dtype": "f8"
           },
           "y": {
            "bdata": "g8EZ9RLOKz/TuBkUq2/xPrbJqegKAPA/t5WjLG2kzz81eVitBBXQP99Wst44BfQ/",
            "dtype": "f8"
           },
           "z": {
            "bdata": "XRtBFh+vsb/4/lDVlYKpvxSgRv24Fam/EERrsSIWjr8NvWclmP2svynNQy9haa2/",
            "dtype": "f8"
           }
          }
         ],
         "layout": {
          "annotations": [
           {
            "showarrow": false,
            "text": "Time: 0.52s (Step: 53/100)",
            "x": 0.05,
            "xref": "paper",
            "y": 0.95,
            "yref": "paper"
           }
          ]
         },
         "name": "52"
        },
        {
         "data": [
          {
           "name": "Free Nodes",
           "type": "scatter3d",
           "x": {
            "bdata": "pkBmmix4Kj9BC6jdGgDwP20MGJSCHfQ+YCgZJR2ozz8YzyrVAgX0PxF+6VjlE9A/",
            "dtype": "f8"
           },
           "y": {
            "bdata": "5Z3KqT2pKz+Q9vqE0Dn5PqsAEAoSAPA/u7ydk8Wozz89P//j1hPQPyWhAqLrBPQ/",
            "dtype": "f8"
           },
           "z": {
            "bdata": "435O2Qsxsr/gKkDC6sSqv7HRT4ibTaq/sc2V2np4jb9IR4Ghiyivv1OA9C+qnq+/",
            "dtype": "f8"
           }
          },
          {
           "name": "Fixed Nodes",
           "type": "scatter3d",
           "x": [],
           "y": [],
           "z": []
          },
          {
           "name": "Edges",
           "type": "scatter3d",
           "x": [
            1.000025621266744,
            0.000019183419913925923,
            null,
            0.000019183419913925923,
            0.00020194572898591285,
            null,
            0.00020194572898591285,
            1.000025621266744,
            null,
            1.2512234045834187,
            0.2512143486291914,
            null,
            0.2512143486291914,
            0.24731792746962622,
            null,
            0.24731792746962622,
            1.2512234045834187,
            null
           ],
           "y": [
            0.00002405723381459238,
            1.000017203623467,
            null,
            1.000017203623467,
            0.00021103742337412395,
            null,
            0.00021103742337412395,
            0.00002405723381459238,
            null,
            0.25121090188348544,
            1.2512012794996477,
            null,
            1.2512012794996477,
            0.24733800609417309,
            null,
            0.24733800609417309,
            0.25121090188348544,
            null
           ],
           "z": [
            -0.05228360768531615,
            -0.05137334860765764,
            null,
            -0.05137334860765764,
            -0.07106088691079608,
            null,
            -0.07106088691079608,
            -0.05228360768531615,
            null,
            -0.06085621210571773,
            -0.06175739131344984,
            null,
            -0.06175739131344984,
            -0.014389953418436048,
            null,
            -0.014389953418436048,
            -0.06085621210571773,
            null
           ]
          },
          {
           "i": [
            0,
            3
           ],
           "j": [
            1,
            4
           ],
           "k": [
            2,
            5
           ],
           "name": "Faces",
           "type": "mesh3d",
           "x": {
            "bdata": "pkBmmix4Kj9BC6jdGgDwP20MGJSCHfQ+YCgZJR2ozz8YzyrVAgX0PxF+6VjlE9A/",
            "dtype": "f8"
           },
           "y": {
            "bdata": "5Z3KqT2pKz+Q9vqE0Dn5PqsAEAoSAPA/u7ydk8Wozz89P//j1hPQPyWhAqLrBPQ/",
            "dtype": "f8"
           },
           "z": {
            "bdata": "435O2Qsxsr/gKkDC6sSqv7HRT4ibTaq/sc2V2np4jb9IR4Ghiyivv1OA9C+qnq+/",
            "dtype": "f8"
           }
          }
         ],
         "layout": {
          "annotations": [
           {
            "showarrow": false,
            "text": "Time: 0.53s (Step: 54/100)",
            "x": 0.05,
            "xref": "paper",
            "y": 0.95,
            "yref": "paper"
           }
          ]
         },
         "name": "53"
        },
        {
         "data": [
          {
           "name": "Free Nodes",
           "type": "scatter3d",
           "x": {
            "bdata": "pXLqdxpFKj+TzT6KIgDwPx9ooomAOfs+Gia0Rcmszz/6b61/sgT0P6g+j2OcEtA/",
            "dtype": "f8"
           },
           "y": {
            "bdata": "9CFgEBiIKz9w9Hgap3kAP2VpoB4ZAPA/eF/Te5Otzz9CCSgdjBLQP/T6ivSWBPQ/",
            "dtype": "f8"
           },
           "z": {
            "bdata": "1m3gh/iysr+BFnfGPwesv7ssCCV+hau/9lmpzJDbjL96XPzZs6mwv7GFBpTt6bC/",
            "dtype": "f8"
           }
          },
          {
           "name": "Fixed Nodes",
           "type": "scatter3d",
           "x": [],
           "y": [],
           "z": []
          },
          {
           "name": "Edges",
           "type": "scatter3d",
           "x": [
            1.0000329399307233,
            0.00002596341855874023,
            null,
            0.00002596341855874023,
            0.00020042369938701624,
            null,
            0.00020042369938701624,
            1.0000329399307233,
            null,
            1.2511467921640347,
            0.2511359188328961,
            null,
            0.2511359188328961,
            0.24746051696301735,
            null,
            0.24746051696301735,
            1.2511467921640347,
            null
           ],
           "y": [
            0.000031423961726486575,
            1.0000239559509165,
            null,
            1.0000239559509165,
            0.00021004956960292388,
            null,
            0.00021004956960292388,
            0.000031423961726486575,
            null,
            0.2511320385675796,
            1.251120524640723,
            null,
            1.251120524640723,
            0.24748462244201241,
            null,
            0.24748462244201241,
            0.2511320385675796,
            null
           ],
           "z": [
            -0.054742806412417806,
            -0.05375284387636144,
            null,
            -0.05375284387636144,
            -0.07304337804128322,
            null,
            -0.07304337804128322,
            -0.054742806412417806,
            null,
            -0.06508945533674818,
            -0.06606945861724146,
            null,
            -0.06606945861724146,
            -0.014090663190626334,
            null,
            -0.014090663190626334,
            -0.06508945533674818,
            null
           ]
          },
          {
           "i": [
            0,
            3
           ],
           "j": [
            1,
            4
           ],
           "k": [
            2,
            5
           ],
           "name": "Faces",
           "type": "mesh3d",
           "x": {
            "bdata": "pXLqdxpFKj+TzT6KIgDwPx9ooomAOfs+Gia0Rcmszz/6b61/sgT0P6g+j2OcEtA/",
            "dtype": "f8"
           },
           "y": {
            "bdata": "9CFgEBiIKz9w9Hgap3kAP2VpoB4ZAPA/eF/Te5Otzz9CCSgdjBLQP/T6ivSWBPQ/",
            "dtype": "f8"
           },
           "z": {
            "bdata": "1m3gh/iysr+BFnfGPwesv7ssCCV+hau/9lmpzJDbjL96XPzZs6mwv7GFBpTt6bC/",
            "dtype": "f8"
           }
          }
         ],
         "layout": {
          "annotations": [
           {
            "showarrow": false,
            "text": "Time: 0.54s (Step: 55/100)",
            "x": 0.05,
            "xref": "paper",
            "y": 0.95,
            "yref": "paper"
           }
          ]
         },
         "name": "54"
        },
        {
         "data": [
          {
           "name": "Free Nodes",
           "type": "scatter3d",
           "x": {
            "bdata": "YJKDPuMWKj+tnqYgKgDwP9rl3hNrIgE/26Uf1eexzz8RRh0bWwT0P2npF3M2EdA/",
            "dtype": "f8"
           },
           "y": {
            "bdata": "RKygLKJqKz8hvKAIEk4EP274WiYgAPA/4yMf1Nayzz8J3AhdJBHQP12OYtc6BPQ/",
            "dtype": "f8"
           },
           "z": {
            "bdata": "l8ByIuU0s79N6WjhlEmtv/7YBNNgvay/Zm+lWnU/jL/dqbokFb+xv4YlE/t4BLK/",
            "dtype": "f8"
           }
          },
          {
           "name": "Fixed Nodes",
           "type": "scatter3d",
           "x": [],
           "y": [],
           "z": []
          },
          {
           "name": "Edges",
           "type": "scatter3d",
           "x": [
            1.0000401759552162,
            0.00003268136286700323,
            null,
            0.00003268136286700323,
            0.0001990463636111382,
            null,
            0.0001990463636111382,
            1.0000401759552162,
            null,
            1.2510634478716194,
            0.25105057944860804,
            null,
            0.25105057944860804,
            0.24761674791743257,
            null,
            0.24761674791743257,
            1.2510634478716194,
            null
           ],
           "y": [
            0.00003872864279263361,
            1.0000306604629503,
            null,
            1.0000306604629503,
            0.00020917157809327753,
            null,
            0.00020917157809327753,
            0.00003872864279263361,
            null,
            0.2510462673703278,
            1.2510326779819458,
            null,
            1.2510326779819458,
            0.24764523847105044,
            null,
            0.24764523847105044,
            0.2510462673703278,
            null
           ],
           "z": [
            -0.05720200778565019,
            -0.05613234115519282,
            null,
            -0.05613234115519282,
            -0.07502586451551206,
            null,
            -0.07502586451551206,
            -0.05720200778565019,
            null,
            -0.06932193896015044,
            -0.07038074617152831,
            null,
            -0.07038074617152831,
            -0.013792912319949568,
            null,
            -0.013792912319949568,
            -0.06932193896015044,
            null
           ]
          },
          {
           "i": [
            0,
            3
           ],
           "j": [
            1,
            4
           ],
           "k": [
            2,
            5
           ],
           "name": "Faces",
           "type": "mesh3d",
           "x": {
            "bdata": "YJKDPuMWKj+tnqYgKgDwP9rl3hNrIgE/26Uf1eexzz8RRh0bWwT0P2npF3M2EdA/",
            "dtype": "f8"
           },
           "y": {
            "bdata": "RKygLKJqKz8hvKAIEk4EP274WiYgAPA/4yMf1Nayzz8J3AhdJBHQP12OYtc6BPQ/",
            "dtype": "f8"
           },
           "z": {
            "bdata": "l8ByIuU0s79N6WjhlEmtv/7YBNNgvay/Zm+lWnU/jL/dqbokFb+xv4YlE/t4BLK/",
            "dtype": "f8"
           }
          }
         ],
         "layout": {
          "annotations": [
           {
            "showarrow": false,
            "text": "Time: 0.55s (Step: 56/100)",
            "x": 0.05,
            "xref": "paper",
            "y": 0.95,
            "yref": "paper"
           }
          ]
         },
         "name": "55"
        },
        {
         "data": [
          {
           "name": "Free Nodes",
           "type": "scatter3d",
           "x": {
            "bdata": "PQDZ8obtKT+zZ9+gMQDwP9VlBbDBnwQ/H12jwXi3zz/UxZCo/AP0P7fRBYyzD9A/",
            "dtype": "f8"
           },
           "y": {
            "bdata": "jCw9AtxQKz8oKcoDKRoIP5SiPyEnAPA/rbMdio+4zz8GsSWonw/QP83HtEvXA/Q/",
            "dtype": "f8"
           },
           "z": {
            "bdata": "9E+BqdG2s78ayogS6ouuvwj+2pFD9a2/2Mp4VDmki78M+36naNSyv8/Ynjz2HrO/",
            "dtype": "f8"
           }
          },
          {
           "name": "Fixed Nodes",
           "type": "scatter3d",
           "x": [],
           "y": [],
           "z": []
          },
          {
           "name": "Edges",
           "type": "scatter3d",
           "x": [
            1.0000473293389234,
            0.000039337252021719574,
            null,
            0.000039337252021719574,
            0.0001978137237745886,
            null,
            0.0001978137237745886,
            1.0000473293389234,
            null,
            1.2509733757582255,
            0.25095833467573975,
            null,
            0.25095833467573975,
            0.24778661208140648,
            null,
            0.24778661208140648,
            1.2509733757582255,
            null
           ],
           "y": [
            0.000045971275970906674,
            1.0000373171589318,
            null,
            1.0000373171589318,
            0.00020840345052372913,
            null,
            0.00020840345052372913,
            0.000045971275970906674,
            null,
            0.25095359249714055,
            1.2509377438805018,
            null,
            1.2509377438805018,
            0.24781984561869078,
            null,
            0.24781984561869078,
            0.25095359249714055,
            null
           ],
           "z": [
            -0.05966121174096291,
            -0.05851184039556406,
            null,
            -0.05851184039556406,
            -0.0770083464461207,
            null,
            -0.0770083464461207,
            -0.05966121174096291,
            null,
            -0.07355360116251236,
            -0.07469119052879879,
            null,
            -0.07469119052879879,
            -0.013496826067329534,
            null,
            -0.013496826067329534,
            -0.07355360116251236,
            null
           ]
          },
          {
           "i": [
            0,
            3
           ],
           "j": [
            1,
            4
           ],
           "k": [
            2,
            5
           ],
           "name": "Faces",
           "type": "mesh3d",
           "x": {
            "bdata": "PQDZ8obtKT+zZ9+gMQDwP9VlBbDBnwQ/H12jwXi3zz/UxZCo/AP0P7fRBYyzD9A/",
            "dtype": "f8"
           },
           "y": {
            "bdata": "jCw9AtxQKz8oKcoDKRoIP5SiPyEnAPA/rbMdio+4zz8GsSWonw/QP83HtEvXA/Q/",
            "dtype": "f8"
           },
           "z": {
            "bdata": "9E+BqdG2s78ayogS6ouuvwj+2pFD9a2/2Mp4VDmki78M+36naNSyv8/Ynjz2HrO/",
            "dtype": "f8"
           }
          }
         ],
         "layout": {
          "annotations": [
           {
            "showarrow": false,
            "text": "Time: 0.56s (Step: 57/100)",
            "x": 0.05,
            "xref": "paper",
            "y": 0.95,
            "yref": "paper"
           }
          ]
         },
         "name": "56"
        },
        {
         "data": [
          {
           "name": "Free Nodes",
           "type": "scatter3d",
           "x": {
            "bdata": "YshwmQXJKT9qEukKOQDwP4MZShLEFAg/w2FV+Hu9zz8UHjEplwP0P2IxKbMTDtA/",
            "dtype": "f8"
           },
           "y": {
            "bdata": "GvzQlMU6Kz86qP8C7N0LP+dcTg8uAPA/gAUuir2+zz+3ZFAD/g3QP09RwVJsA/Q/",
            "dtype": "f8"
           },
           "z": {
            "bdata": "JvWHHb44tL8j30lZP86vvyvDH2EmLa+/kT3Uhu0Ji79zSP9Yremzv/eMXUhkObS/",
            "dtype": "f8"
           }
          },
          {
           "name": "Fixed Nodes",
           "type": "scatter3d",
           "x": [],
           "y": [],
           "z": []
          },
          {
           "name": "Edges",
           "type": "scatter3d",
           "x": [
            1.000054400080581,
            0.00004593108522947793,
            null,
            0.00004593108522947793,
            0.00019672578193447298,
            null,
            0.00019672578193447298,
            1.000054400080581,
            null,
            1.2508765801484332,
            0.2508591889971027,
            null,
            0.2508591889971027,
            0.24797010064754774,
            null,
            0.24797010064754774,
            1.2508765801484332,
            null
           ],
           "y": [
            0.000053151860242753706,
            1.0000439260382394,
            null,
            1.0000439260382394,
            0.0002077451885344757,
            null,
            0.0002077451885344757,
            0.000053151860242753706,
            null,
            0.25085401843677907,
            1.2508357269881178,
            null,
            1.2508357269881178,
            0.24800843474444534,
            null,
            0.24800843474444534,
            0.25085401843677907,
            null
           ],
           "z": [
            -0.062120418214304494,
            -0.060891341548887055,
            null,
            -0.060891341548887055,
            -0.07899082394574872,
            null,
            -0.07899082394574872,
            -0.062120418214304494,
            null,
            -0.07778438017638382,
            -0.0790007282899302,
            null,
            -0.0790007282899302,
            -0.013202529599339015,
            null,
            -0.013202529599339015,
            -0.07778438017638382,
            null
           ]
          },
          {
           "i": [
            0,
            3
           ],
           "j": [
            1,
            4
           ],
           "k": [
            2,
            5
           ],
           "name": "Faces",
           "type": "mesh3d",
           "x": {
            "bdata": "YshwmQXJKT9qEukKOQDwP4MZShLEFAg/w2FV+Hu9zz8UHjEplwP0P2IxKbMTDtA/",
            "dtype": "f8"
           },
           "y": {
            "bdata": "GvzQlMU6Kz86qP8C7N0LP+dcTg8uAPA/gAUuir2+zz+3ZFAD/g3QP09RwVJsA/Q/",
            "dtype": "f8"
           },
           "z": {
            "bdata": "JvWHHb44tL8j30lZP86vvyvDH2EmLa+/kT3Uhu0Ji79zSP9Yremzv/eMXUhkObS/",
            "dtype": "f8"
           }
          }
         ],
         "layout": {
          "annotations": [
           {
            "showarrow": false,
            "text": "Time: 0.57s (Step: 58/100)",
            "x": 0.05,
            "xref": "paper",
            "y": 0.95,
            "yref": "paper"
           }
          ]
         },
         "name": "57"
        },
        {
         "data": [
          {
           "name": "Free Nodes",
           "type": "scatter3d",
           "x": {
            "bdata": "KMuwNl+pKT8vicNeQADwP1Sp5jNygQs/n3MaZfHDzz+NMzqeKgP0P40VoO1WDNA/",
            "dtype": "f8"
           },
           "y": {
            "bdata": "Bdvh514oKz8H5H/9WpkPP7wch/A0APA/l6lxv2DFzz81pKhzPwzQP5UN3O35AvQ/",
            "dtype": "f8"
           },
           "z": {
            "bdata": "zIkCf6q6tL8Jp49aSoiwv8AnNKCEMrC/uJj9uqJwir+izSYw4v60v0pMOw7CU7W/",
            "dtype": "f8"
           }
          },
          {
           "name": "Fixed Nodes",
           "type": "scatter3d",
           "x": [],
           "y": [],
           "z": []
          },
          {
           "name": "Edges",
           "type": "scatter3d",
           "x": [
            1.0000613881789595,
            0.00005246286172007572,
            null,
            0.00005246286172007572,
            0.0001957825400907495,
            null,
            0.0001957825400907495,
            1.0000613881789595,
            null,
            1.2507730656390976,
            0.2507531471786358,
            null,
            0.2507531471786358,
            0.24816720425306202,
            null,
            0.24816720425306202,
            1.2507730656390976,
            null
           ],
           "y": [
            0.00006027039461282279,
            1.0000504871002667,
            null,
            1.0000504871002667,
            0.00020719679372734764,
            null,
            0.00020719679372734764,
            0.00006027039461282279,
            null,
            0.25074754996109344,
            1.2507266322507793,
            null,
            1.2507266322507793,
            0.24821099613047856,
            null,
            0.24821099613047856,
            0.25074754996109344,
            null
           ],
           "z": [
            -0.06457962714162248,
            -0.06327084456657328,
            null,
            -0.06327084456657328,
            -0.0809732971270371,
            null,
            -0.0809732971270371,
            -0.06457962714162248,
            null,
            -0.08201421428275649,
            -0.08330929610683416,
            null,
            -0.08330929610683416,
            -0.012910147983074757,
            null,
            -0.012910147983074757,
            -0.08201421428275649,
            null
           ]
          },
          {
           "i": [
            0,
            3
           ],
           "j": [
            1,
            4
           ],
           "k": [
            2,
            5
           ],
           "name": "Faces",
           "type": "mesh3d",
           "x": {
            "bdata": "KMuwNl+pKT8vicNeQADwP1Sp5jNygQs/n3MaZfHDzz+NMzqeKgP0P40VoO1WDNA/",
            "dtype": "f8"
           },
           "y": {
            "bdata": "Bdvh514oKz8H5H/9WpkPP7wch/A0APA/l6lxv2DFzz81pKhzPwzQP5UN3O35AvQ/",
            "dtype": "f8"
           },
           "z": {
            "bdata": "zIkCf6q6tL8Jp49aSoiwv8AnNKCEMrC/uJj9uqJwir+izSYw4v60v0pMOw7CU7W/",
            "dtype": "f8"
           }
          }
         ],
         "layout": {
          "annotations": [
           {
            "showarrow": false,
            "text": "Time: 0.58s (Step: 59/100)",
            "x": 0.05,
            "xref": "paper",
            "y": 0.95,
            "yref": "paper"
           }
          ]
         },
         "name": "58"
        },
        {
         "data": [
          {
           "name": "Free Nodes",
           "type": "scatter3d",
           "x": {
            "bdata": "dm3dzpOOKT8Ct26cRwDwP67ZSQ7M5Q4/50im8tjKzz9QnPoItwL0P9tK1kB9CtA/",
            "dtype": "f8"
           },
           "y": {
            "bdata": "dxrg/qcZKz8fT1/1OqYRP6nX6cQ7APA/fxnNE3nMzz8Y2pv+YwrQP8gSbR6AAvQ/",
            "dtype": "f8"
           },
           "z": {
            "bdata": "6+dszpY8tb//Hb4SdSmxv/PkpBd2zrC/qaWitmnYib+DwhgkBhS2v7IlX34Obra/",
            "dtype": "f8"
           }
          },
          {
           "name": "Fixed Nodes",
           "type": "scatter3d",
           "x": [],
           "y": [],
           "z": []
          },
          {
           "name": "Edges",
           "type": "scatter3d",
           "x": [
            1.0000682936328649,
            0.000058932580746895585,
            null,
            0.000058932580746895585,
            0.00019498400018389998,
            null,
            0.00019498400018389998,
            1.0000682936328649,
            null,
            1.2506628370990889,
            0.2506402142691237,
            null,
            0.2506402142691237,
            0.24837791298029474,
            null,
            0.24837791298029474,
            1.2506628370990889,
            null
           ],
           "y": [
            0.00006732687810933863,
            1.0000570003444216,
            null,
            1.0000570003444216,
            0.00020675826766610217,
            null,
            0.00020675826766610217,
            0.00006732687810933863,
            null,
            0.250634192124751,
            1.2506104649084353,
            null,
            1.2506104649084353,
            0.2484275194821741,
            null,
            0.2484275194821741,
            0.250634192124751,
            null
           ],
           "z": [
            -0.06703883845886337,
            -0.06565034940003382,
            null,
            -0.06565034940003382,
            -0.08295576610262827,
            null,
            -0.08295576610262827,
            -0.06703883845886337,
            null,
            -0.08624304181354074,
            -0.08761683068509887,
            null,
            -0.08761683068509887,
            -0.012619806181038156,
            null,
            -0.012619806181038156,
            -0.08624304181354074,
            null
           ]
          },
          {
           "i": [
            0,
            3
           ],
           "j": [
            1,
            4
           ],
           "k": [
            2,
            5
           ],
           "name": "Faces",
           "type": "mesh3d",
           "x": {
            "bdata": "dm3dzpOOKT8Ct26cRwDwP67ZSQ7M5Q4/50im8tjKzz9QnPoItwL0P9tK1kB9CtA/",
            "dtype": "f8"
           },
           "y": {
            "bdata": "dxrg/qcZKz8fT1/1OqYRP6nX6cQ7APA/fxnNE3nMzz8Y2pv+YwrQP8gSbR6AAvQ/",
            "dtype": "f8"
           },
           "z": {
            "bdata": "6+dszpY8tb//Hb4SdSmxv/PkpBd2zrC/qaWitmnYib+DwhgkBhS2v7IlX34Obra/",
            "dtype": "f8"
           }
          }
         ],
         "layout": {
          "annotations": [
           {
            "showarrow": false,
            "text": "Time: 0.59s (Step: 60/100)",
            "x": 0.05,
            "xref": "paper",
            "y": 0.95,
            "yref": "paper"
           }
          ]
         },
         "name": "59"
        },
        {
         "data": [
          {
           "name": "Free Nodes",
           "type": "scatter3d",
           "x": {
            "bdata": "7c0aZqN4KT98h+rDTgDwPxlhi83oIBE/Ft57ijLSzz/6mtNqPAL0P5tIhbKGCNA/",
            "dtype": "f8"
           },
           "y": {
            "bdata": "wFMm3aAOKz+h8zFhnnsTP4mDdoxCAPA/lgvobwbUzz9pGuWpawjQPxql8OX+AfQ/",
            "dtype": "f8"
           },
           "z": {
            "bdata": "6OlCDIO+tb+55unUn8qxv4SsrJZnarG/IC2sO1NBib+1EzMsGCm3v3kTLolIiLe/",
            "dtype": "f8"
           }
          },
          {
           "name": "Fixed Nodes",
           "type": "scatter3d",
           "x": [],
           "y": [],
           "z": []
          },
          {
           "name": "Edges",
           "type": "scatter3d",
           "x": [
            1.0000751164411374,
            0.00006534024158655719,
            null,
            0.00006534024158655719,
            0.0001943301640970752,
            null,
            0.0001943301640970752,
            1.0000751164411374,
            null,
            1.2505458996690195,
            0.25052039559990086,
            null,
            0.25052039559990086,
            0.2486022163572989,
            null,
            0.2486022163572989,
            1.2505458996690195,
            null
           ],
           "y": [
            0.00007432130978375511,
            1.0000634657701275,
            null,
            1.0000634657701275,
            0.00020642961187591728,
            null,
            0.00020642961187591728,
            0.00007432130978375511,
            null,
            0.25051395026495143,
            1.2504872304946901,
            null,
            1.2504872304946901,
            0.24865799392872806,
            null,
            0.24865799392872806,
            0.25051395026495143,
            null
           ],
           "z": [
            -0.0694980521019727,
            -0.0680298560006794,
            null,
            -0.0680298560006794,
            -0.08493823098516595,
            null,
            -0.08493823098516595,
            -0.0694980521019727,
            null,
            -0.09047080115403967,
            -0.09192326878662795,
            null,
            -0.09192326878662795,
            -0.01233162904602253,
            null,
            -0.01233162904602253,
            -0.09047080115403967,
            null
           ]
          },
          {
           "i": [
            0,
            3
           ],
           "j": [
            1,
            4
           ],
           "k": [
            2,
            5
           ],
           "name": "Faces",
           "type": "mesh3d",
           "x": {
            "bdata": "7c0aZqN4KT98h+rDTgDwPxlhi83oIBE/Ft57ijLSzz/6mtNqPAL0P5tIhbKGCNA/",
            "dtype": "f8"
           },
           "y": {
            "bdata": "wFMm3aAOKz+h8zFhnnsTP4mDdoxCAPA/lgvobwbUzz9pGuWpawjQPxql8OX+AfQ/",
            "dtype": "f8"
           },
           "z": {
            "bdata": "6OlCDIO+tb+55unUn8qxv4SsrJZnarG/IC2sO1NBib+1EzMsGCm3v3kTLolIiLe/",
            "dtype": "f8"
           }
          }
         ],
         "layout": {
          "annotations": [
           {
            "showarrow": false,
            "text": "Time: 0.60s (Step: 61/100)",
            "x": 0.05,
            "xref": "paper",
            "y": 0.95,
            "yref": "paper"
           }
          ]
         },
         "name": "60"
        },
        {
         "data": [
          {
           "name": "Free Nodes",
           "type": "scatter3d",
           "x": {
            "bdata": "pddrAI5nKT/U5jbVVQDwP2X4EmrByhI/3sjtFP7Zzz+3GTnFugH0P0QbtEhzBtA/",
            "dtype": "f8"
           },
           "y": {
            "bdata": "1Jb5hUkHKz+joCa+10wVP3kWLUdJAPA/Lcktuwjczz/tDY17VgbQPy8x90V2AfQ/",
            "dtype": "f8"
           },
           "z": {
            "bdata": "hmoAOW9Atr85k8ygymuyv64RFh1ZBrK/1wsRCHCriL8RGhFAFz64vy7hTR9vori/",
            "dtype": "f8"
           }
          },
          {
           "name": "Fixed Nodes",
           "type": "scatter3d",
           "x": [],
           "y": [],
           "z": []
          },
          {
           "name": "Edges",
           "type": "scatter3d",
           "x": [
            1.0000818566026526,
            0.00007168584353942213,
            null,
            0.00007168584353942213,
            0.00019382103365444856,
            null,
            0.00019382103365444856,
            1.0000818566026526,
            null,
            1.2504222587609612,
            0.2503936967845457,
            null,
            0.2503936967845457,
            0.24884010335842438,
            null,
            0.24884010335842438,
            1.2504222587609612,
            null
           ],
           "y": [
            0.00008125368871126025,
            1.0000698833768225,
            null,
            1.0000698833768225,
            0.00020621082784371433,
            null,
            0.00020621082784371433,
            0.00008125368871126025,
            null,
            0.2503868300011323,
            1.2503569348364854,
            null,
            1.2503569348364854,
            0.2489024080237611,
            null,
            0.2489024080237611,
            0.2503868300011323,
            null
           ],
           "z": [
            -0.07195726800689507,
            -0.07040936431992037,
            null,
            -0.07040936431992037,
            -0.0869206918872952,
            null,
            -0.0869206918872952,
            -0.07195726800689507,
            null,
            -0.09469743074542004,
            -0.09622854723227611,
            null,
            -0.09622854723227611,
            -0.01204574131600637,
            null,
            -0.01204574131600637,
            -0.09469743074542004,
            null
           ]
          },
          {
           "i": [
            0,
            3
           ],
           "j": [
            1,
            4
           ],
           "k": [
            2,
            5
           ],
           "name": "Faces",
           "type": "mesh3d",
           "x": {
            "bdata": "pddrAI5nKT/U5jbVVQDwP2X4EmrByhI/3sjtFP7Zzz+3GTnFugH0P0QbtEhzBtA/",
            "dtype": "f8"
           },
           "y": {
            "bdata": "1Jb5hUkHKz+joCa+10wVP3kWLUdJAPA/Lcktuwjczz/tDY17VgbQPy8x90V2AfQ/",
            "dtype": "f8"
           },
           "z": {
            "bdata": "hmoAOW9Atr85k8ygymuyv64RFh1ZBrK/1wsRCHCriL8RGhFAFz64vy7hTR9vori/",
            "dtype": "f8"
           }
          }
         ],
         "layout": {
          "annotations": [
           {
            "showarrow": false,
            "text": "Time: 0.61s (Step: 62/100)",
            "x": 0.05,
            "xref": "paper",
            "y": 0.95,
            "yref": "paper"
           }
          ]
         },
         "name": "61"
        },
        {
         "data": [
          {
           "name": "Free Nodes",
           "type": "scatter3d",
           "x": {
            "bdata": "UrCyoVNbKT/gwVPQXADwP2PowdlvcBQ/I44eeTvizz8fpbEZMgH0PwROtwlDBNA/",
            "dtype": "f8"
           },
           "y": {
            "bdata": "h4CJ/KEDKz/VA0YI5xkXP9mGDfVPAPA/sIjN23/kzz+V3Ol5JATQPz5GJUDmAPQ/",
            "dtype": "f8"
           },
           "z": {
            "bdata": "40QhVVvCtr8+tR929Qyzv5Snq6pKorK/wVap1dAWiL9XUY5XAlO5v3IQqDGBvLm/",
            "dtype": "f8"
           }
          },
          {
           "name": "Fixed Nodes",
           "type": "scatter3d",
           "x": [],
           "y": [],
           "z": []
          },
          {
           "name": "Edges",
           "type": "scatter3d",
           "x": [
            1.000088514116321,
            0.00007796938592888459,
            null,
            0.00007796938592888459,
            0.0001934566106219804,
            null,
            0.0001934566106219804,
            1.000088514116321,
            null,
            1.2502919200581528,
            0.25026012371856177,
            null,
            0.25026012371856177,
            0.24909156240492888,
            null,
            0.24909156240492888,
            1.2502919200581528,
            null
           ],
           "y": [
            0.00008812401399006739,
            1.0000762531639593,
            null,
            1.0000762531639593,
            0.00020610191701831237,
            null,
            0.00020610191701831237,
            0.00008812401399006739,
            null,
            0.2502528372346629,
            1.2502195840537662,
            null,
            1.2502195840537662,
            0.24916074974595892,
            null,
            0.24916074974595892,
            0.2502528372346629,
            null
           ],
           "z": [
            -0.07441648610957416,
            -0.07278887430916675,
            null,
            -0.07278887430916675,
            -0.08890314892166233,
            null,
            -0.08890314892166233,
            -0.07441648610957416,
            null,
            -0.09892286908718027,
            -0.1005326029044811,
            null,
            -0.1005326029044811,
            -0.011762267609053524,
            null,
            -0.011762267609053524,
            -0.09892286908718027,
            null
           ]
          },
          {
           "i": [
            0,
            3
           ],
           "j": [
            1,
            4
           ],
           "k": [
            2,
            5
           ],
           "name": "Faces",
           "type": "mesh3d",
           "x": {
            "bdata": "UrCyoVNbKT/gwVPQXADwP2PowdlvcBQ/I44eeTvizz8fpbEZMgH0PwROtwlDBNA/",
            "dtype": "f8"
           },
           "y": {
            "bdata": "h4CJ/KEDKz/VA0YI5xkXP9mGDfVPAPA/sIjN23/kzz+V3Ol5JATQPz5GJUDmAPQ/",
            "dtype": "f8"
           },
           "z": {
            "bdata": "40QhVVvCtr8+tR929Qyzv5Snq6pKorK/wVap1dAWiL9XUY5XAlO5v3IQqDGBvLm/",
            "dtype": "f8"
           }
          }
         ],
         "layout": {
          "annotations": [
           {
            "showarrow": false,
            "text": "Time: 0.62s (Step: 63/100)",
            "x": 0.05,
            "xref": "paper",
            "y": 0.95,
            "yref": "paper"
           }
          ]
         },
         "name": "62"
        },
        {
         "data": [
          {
           "name": "Free Nodes",
           "type": "scatter3d",
           "x": {
            "bdata": "tdGwTfRTKT8TBkG1YwDwP7eMuBn0ERY/bfsAnerqzz/YZtZpogD0P37TMPz1AdA/",
            "dtype": "f8"
           },
           "y": {
            "bdata": "2gHwQ6oDKz/l7rI7zOIYP07LF5ZWAPA/qsq6tmvtzz8oF5+r1QHQPwOQM9ZOAPQ/",
            "dtype": "f8"
           },
           "z": {
            "bdata": "dVQhYUdEt79I3pxUIK6zv0ABOD88PrO/eo4BWoaDh7/nDclq2Ge6v9K8bLF91rq/",
            "dtype": "f8"
           }
          },
          {
           "name": "Fixed Nodes",
           "type": "scatter3d",
           "x": [],
           "y": [],
           "z": []
          },
          {
           "name": "Edges",
           "type": "scatter3d",
           "x": [
            1.000095088981088,
            0.00008419086810156321,
            null,
            0.00008419086810156321,
            0.00019323689670759444,
            null,
            0.00019323689670759444,
            1.000095088981088,
            null,
            1.250154889514695,
            0.25011968257904715,
            null,
            0.25011968257904715,
            0.24935658136561348,
            null,
            0.24935658136561348,
            1.250154889514695,
            null
           ],
           "y": [
            0.00009493228474160736,
            1.0000825751310063,
            null,
            1.0000825751310063,
            0.00020610288081003466,
            null,
            0.00020610288081003466,
            0.00009493228474160736,
            null,
            0.2501119781485266,
            1.2500751845591374,
            null,
            1.2500751845591374,
            0.24943300649973327,
            null,
            0.24943300649973327,
            0.2501119781485266,
            null
           ],
           "z": [
            -0.07687570634595275,
            -0.07516838591982822,
            null,
            -0.07516838591982822,
            -0.09088560220091486,
            null,
            -0.09088560220091486,
            -0.07687570634595275,
            null,
            -0.10314705473961504,
            -0.1048353727498921,
            null,
            -0.1048353727498921,
            -0.011481332418220126,
            null,
            -0.011481332418220126,
            -0.10314705473961504,
            null
           ]
          },
          {
           "i": [
            0,
            3
           ],
           "j": [
            1,
            4
           ],
           "k": [
            2,
            5
           ],
           "name": "Faces",
           "type": "mesh3d",
           "x": {
            "bdata": "tdGwTfRTKT8TBkG1YwDwP7eMuBn0ERY/bfsAnerqzz/YZtZpogD0P37TMPz1AdA/",
            "dtype": "f8"
           },
           "y": {
            "bdata": "2gHwQ6oDKz/l7rI7zOIYP07LF5ZWAPA/qsq6tmvtzz8oF5+r1QHQPwOQM9ZOAPQ/",
            "dtype": "f8"
           },
           "z": {
            "bdata": "dVQhYUdEt79I3pxUIK6zv0ABOD88PrO/eo4BWoaDh7/nDclq2Ge6v9K8bLF91rq/",
            "dtype": "f8"
           }
          }
         ],
         "layout": {
          "annotations": [
           {
            "showarrow": false,
            "text": "Time: 0.63s (Step: 64/100)",
            "x": 0.05,
            "xref": "paper",
            "y": 0.95,
            "yref": "paper"
           }
          ]
         },
         "name": "63"
        },
        {
         "data": [
          {
           "name": "Free Nodes",
           "type": "scatter3d",
           "x": {
            "bdata": "pMwGCHBRKT97of6DagDwP8czMidOrxc/I4NYZQv0zz8QIFO3CwD0P43bH04Y/88/",
            "dtype": "f8"
           },
           "y": {
            "bdata": "Q2wxX2IHKz9ZJKtUh6caP7/aSypdAPA/KLqtL8z2zz91QDsv1P7PP3jQ7gmw//M/",
            "dtype": "f8"
           },
           "z": {
            "bdata": "B3V8XTPGt7+Zn/07S0+0v6Wxhdot2rO/GuItRqHxhr+eMSVymHy7v45+FZBj8Lu/",
            "dtype": "f8"
           }
          },
          {
           "name": "Fixed Nodes",
           "type": "scatter3d",
           "x": [],
           "y": [],
           "z": []
          },
          {
           "name": "Edges",
           "type": "scatter3d",
           "x": [
            1.0001015811959337,
            0.00009035028942801149,
            null,
            0.00009035028942801149,
            0.00019316189356075486,
            null,
            0.00019316189356075486,
            1.0001015811959337,
            null,
            1.2500111733552366,
            0.2499723798243533,
            null,
            0.2499723798243533,
            0.24963514755747793,
            null,
            0.24963514755747793,
            1.2500111733552366,
            null
           ],
           "y": [
            0.00010167850011123923,
            1.0000888492774462,
            null,
            1.0000888492774462,
            0.00020621372059079394,
            null,
            0.00020621372059079394,
            0.00010167850011123923,
            null,
            0.24996425920699364,
            1.249923743057506,
            null,
            1.249923743057506,
            0.24971916511590675,
            null,
            0.24971916511590675,
            0.24996425920699364,
            null
           ],
           "z": [
            -0.0793349286519728,
            -0.07754789910331412,
            null,
            -0.07754789910331412,
            -0.09286805183770151,
            null,
            -0.09286805183770151,
            -0.0793349286519728,
            null,
            -0.10736992632627682,
            -0.10913679378199445,
            null,
            -0.10913679378199445,
            -0.011203060106468366,
            null,
            -0.011203060106468366,
            -0.10736992632627682,
            null
           ]
          },
          {
           "i": [
            0,
            3
           ],
           "j": [
            1,
            4
           ],
           "k": [
            2,
            5
           ],
           "name": "Faces",
           "type": "mesh3d",
           "x": {
            "bdata": "pMwGCHBRKT97of6DagDwP8czMidOrxc/I4NYZQv0zz8QIFO3CwD0P43bH04Y/88/",
            "dtype": "f8"
           },
           "y": {
            "bdata": "Q2wxX2IHKz9ZJKtUh6caP7/aSypdAPA/KLqtL8z2zz91QDsv1P7PP3jQ7gmw//M/",
            "dtype": "f8"
           },
           "z": {
            "bdata": "B3V8XTPGt7+Zn/07S0+0v6Wxhdot2rO/GuItRqHxhr+eMSVymHy7v45+FZBj8Lu/",
            "dtype": "f8"
           }
          }
         ],
         "layout": {
          "annotations": [
           {
            "showarrow": false,
            "text": "Time: 0.64s (Step: 65/100)",
            "x": 0.05,
            "xref": "paper",
            "y": 0.95,
            "yref": "paper"
           }
          ]
         },
         "name": "64"
        },
        {
         "data": [
          {
           "name": "Free Nodes",
           "type": "scatter3d",
           "x": {
            "bdata": "1zU01MZTKT/Ggow8cQDwP75QhP99SBk/VZy5tZ39zz/FI+YDbv/zP7cqIiML+s8/",
            "dtype": "f8"
           },
           "y": {
            "bdata": "dY08UcoOKz+piYZPGGgcP1asqbFjAPA/TciRlFAA0D9aKEeKw/nPP1bZN90J//M/",
            "dtype": "f8"
           },
           "z": {
            "bdata": "toKuSh9IuL83ivsrdvC0v6BLX3wfdrS/PIOdRjJhhr+q305mQZG8v0VMaL8xCr2/",
            "dtype": "f8"
           }
          },
          {
           "name": "Fixed Nodes",
           "type": "scatter3d",
           "x": [],
           "y": [],
           "z": []
          },
          {
           "name": "Edges",
           "type": "scatter3d",
           "x": [
            1.0001079907598736,
            0.00009644764930200313,
            null,
            0.00009644764930200313,
            0.00019323160277233298,
            null,
            0.00019323160277233298,
            1.0001079907598736,
            null,
            1.2498607780746493,
            0.24981822219372926,
            null,
            0.24981822219372926,
            0.24992724774640132,
            null,
            0.24992724774640132,
            1.2498607780746493,
            null
           ],
           "y": [
            0.00010836265926753595,
            1.0000950756027769,
            null,
            1.0000950756027769,
            0.00020643443769428516,
            null,
            0.00020643443769428516,
            0.00010836265926753595,
            null,
            0.24980968715528,
            1.249765266545713,
            null,
            1.249765266545713,
            0.25001921185242254,
            null,
            0.25001921185242254,
            0.24980968715528,
            null
           ],
           "z": [
            -0.08179415296357538,
            -0.07992741381103352,
            null,
            -0.07992741381103352,
            -0.09485049794467212,
            null,
            -0.09485049794467212,
            -0.08179415296357538,
            null,
            -0.11159142253643375,
            -0.11343680308373034,
            null,
            -0.11343680308373034,
            -0.010927574901587904,
            null,
            -0.010927574901587904,
            -0.11159142253643375,
            null
           ]
          },
          {
           "i": [
            0,
            3
           ],
           "j": [
            1,
            4
           ],
           "k": [
            2,
            5
           ],
           "name": "Faces",
           "type": "mesh3d",
           "x": {
            "bdata": "1zU01MZTKT/Ggow8cQDwP75QhP99SBk/VZy5tZ39zz/FI+YDbv/zP7cqIiML+s8/",
            "dtype": "f8"
           },
           "y": {
            "bdata": "dY08UcoOKz+piYZPGGgcP1asqbFjAPA/TciRlFAA0D9aKEeKw/nPP1bZN90J//M/",
            "dtype": "f8"
           },
           "z": {
            "bdata": "toKuSh9IuL83ivsrdvC0v6BLX3wfdrS/PIOdRjJhhr+q305mQZG8v0VMaL8xCr2/",
            "dtype": "f8"
           }
          }
         ],
         "layout": {
          "annotations": [
           {
            "showarrow": false,
            "text": "Time: 0.65s (Step: 66/100)",
            "x": 0.05,
            "xref": "paper",
            "y": 0.95,
            "yref": "paper"
           }
          ]
         },
         "name": "65"
        },
        {
         "data": [
          {
           "name": "Free Nodes",
           "type": "scatter3d",
           "x": {
            "bdata": "ugeYtfhaKT8+meredwDwP+RbHqCD3Ro/lhJFuNAD0D/dUGBRyf7zPyK/e4bE9M8/",
            "dtype": "f8"
           },
           "y": {
            "bdata": "5c3qHOIZKz+0B7cofyQeP4A3MSxqAPA/UH4vQnUF0D9XYXh3efTPP16FA1Jc/vM/",
            "dtype": "f8"
           },
           "z": {
            "bdata": "7VkzKQvKuL/uLlAkoZG1v/phjyQRErW/YAnuAkrShb9/Lz1A0qW9v5NbejHnI76/",
            "dtype": "f8"
           }
          },
          {
           "name": "Fixed Nodes",
           "type": "scatter3d",
           "x": [],
           "y": [],
           "z": []
          },
          {
           "name": "Edges",
           "type": "scatter3d",
           "x": [
            1.0001143176719576,
            0.00010248294714042223,
            null,
            0.00010248294714042223,
            0.00019344602587528602,
            null,
            0.00019344602587528602,
            1.0001143176719576,
            null,
            1.2497037104376922,
            0.24965721670695823,
            null,
            0.24965721670695823,
            0.2502328681478415,
            null,
            0.2502328681478415,
            1.2497037104376922,
            null
           ],
           "y": [
            0.00011498476140217492,
            1.0001012541065109,
            null,
            1.0001012541065109,
            0.00020676503341619728,
            null,
            0.00020676503341619728,
            0.00011498476140217492,
            null,
            0.2496482690191992,
            1.2495997623121506,
            null,
            1.2495997623121506,
            0.2503331323950748,
            null,
            0.2503331323950748,
            0.2496482690191992,
            null
           ],
           "z": [
            -0.08425337921670081,
            -0.08230692999439518,
            null,
            -0.08230692999439518,
            -0.09683294063447763,
            null,
            -0.09683294063447763,
            -0.08425337921670081,
            null,
            -0.11581148212752444,
            -0.11773533781011584,
            null,
            -0.11773533781011584,
            -0.010655000891124089,
            null,
            -0.010655000891124089,
            -0.11581148212752444,
            null
           ]
          },
          {
           "i": [
            0,
            3
           ],
           "j": [
            1,
            4
           ],
           "k": [
            2,
            5
           ],
           "name": "Faces",
           "type": "mesh3d",
           "x": {
            "bdata": "ugeYtfhaKT8+meredwDwP+RbHqCD3Ro/lhJFuNAD0D/dUGBRyf7zPyK/e4bE9M8/",
            "dtype": "f8"
           },
           "y": {
            "bdata": "5c3qHOIZKz+0B7cofyQeP4A3MSxqAPA/UH4vQnUF0D9XYXh3efTPP16FA1Jc/vM/",
            "dtype": "f8"
           },
           "z": {
            "bdata": "7VkzKQvKuL/uLlAkoZG1v/phjyQRErW/YAnuAkrShb9/Lz1A0qW9v5NbejHnI76/",
            "dtype": "f8"
           }
          }
         ],
         "layout": {
          "annotations": [
           {
            "showarrow": false,
            "text": "Time: 0.66s (Step: 67/100)",
            "x": 0.05,
            "xref": "paper",
            "y": 0.95,
            "yref": "paper"
           }
          ]
         },
         "name": "66"
        },
        {
         "data": [
          {
           "name": "Free Nodes",
           "type": "scatter3d",
           "x": {
            "bdata": "ECZwrwVnKT/L1BhrfgDwP06pigZfbhw/ieSAOwsJ0D8ODKWhHf7zP7PH2YdE788/",
            "dtype": "f8"
           },
           "y": {
            "bdata": "7LD/xKkoKz+GYcncu9wfP+1z4plwAPA/RUa0ENQK0D8wdn8G9u7PP26xWmqn/fM/",
            "dtype": "f8"
           },
           "z": {
            "bdata": "ZNeG+fZLub9SHrUkzDK2v2eH4NICrrW/L+i+HflEhb+r3jT5Sbq+v3UAs9iCPb+/",
            "dtype": "f8"
           }
          },
          {
           "name": "Fixed Nodes",
           "type": "scatter3d",
           "x": [],
           "y": [],
           "z": []
          },
          {
           "name": "Edges",
           "type": "scatter3d",
           "x": [
            1.000120561931271,
            0.00010845618238400809,
            null,
            0.00010845618238400809,
            0.00019380516434379423,
            null,
            0.00019380516434379423,
            1.000120561931271,
            null,
            1.249539977478665,
            0.2494893706639779,
            null,
            0.2494893706639779,
            0.250551994427561,
            null,
            0.250551994427561,
            1.249539977478665,
            null
           ],
           "y": [
            0.00012154480573068312,
            1.0001073847881756,
            null,
            1.0001073847881756,
            0.00020720550901332597,
            null,
            0.00020720550901332597,
            0.00012154480573068312,
            null,
            0.24948001210479864,
            1.2494272379363696,
            null,
            1.2494272379363696,
            0.2506609118582655,
            null,
            0.2506609118582655,
            0.24948001210479864,
            null
           ],
           "z": [
            -0.08671260734728861,
            -0.08468644760480758,
            null,
            -0.08468644760480758,
            -0.09881538001977003,
            null,
            -0.09881538001977003,
            -0.08671260734728861,
            null,
            -0.12003004392760867,
            -0.1220323351908535,
            null,
            -0.1220323351908535,
            -0.010385462017314577,
            null,
            -0.010385462017314577,
            -0.12003004392760867,
            null
           ]
          },
          {
           "i": [
            0,
            3
           ],
           "j": [
            1,
            4
           ],
           "k": [
            2,
            5
           ],
           "name": "Faces",
           "type": "mesh3d",
           "x": {
            "bdata": "ECZwrwVnKT/L1BhrfgDwP06pigZfbhw/ieSAOwsJ0D8ODKWhHf7zP7PH2YdE788/",
            "dtype": "f8"
           },
           "y": {
            "bdata": "7LD/xKkoKz+GYcncu9wfP+1z4plwAPA/RUa0ENQK0D8wdn8G9u7PP26xWmqn/fM/",
            "dtype": "f8"
           },
           "z": {
            "bdata": "ZNeG+fZLub9SHrUkzDK2v2eH4NICrrW/L+i+HflEhb+r3jT5Sbq+v3UAs9iCPb+/",
            "dtype": "f8"
           }
          }
         ],
         "layout": {
          "annotations": [
           {
            "showarrow": false,
            "text": "Time: 0.67s (Step: 68/100)",
            "x": 0.05,
            "xref": "paper",
            "y": 0.95,
            "yref": "paper"
           }
          ]
         },
         "name": "67"
        },
        {
         "data": [
          {
           "name": "Free Nodes",
           "type": "scatter3d",
           "x": {
            "bdata": "BAPaxO13KT/xJRfhhADwP5osbTAQ+x0/rDSVVH4O0D+bOar2av3zPwFBgzeL6c8/",
            "dtype": "f8"
           },
           "y": {
            "bdata": "k18pTCE7Kz8X/DE0Z8ggP5NZvfp2APA/8Y2H72wQ0D/mzKZHOenPP1U1Wijr/PM/",
            "dtype": "f8"
           },
           "z": {
            "bdata": "G9gkvOLNub/D6OMs99O2v4hOHYf0Sba/8fWENFC5hL/GAcuKp86/v8VF59OBK8C/",
            "dtype": "f8"
           }
          },
          {
           "name": "Fixed Nodes",
           "type": "scatter3d",
           "x": [],
           "y": [],
           "z": []
          },
          {
           "name": "Edges",
           "type": "scatter3d",
           "x": [
            1.0001267235369335,
            0.00011436735449625799,
            null,
            0.00011436735449625799,
            0.00019430901959440622,
            null,
            0.00019430901959440622,
            1.0001267235369335,
            null,
            1.2493695865010526,
            0.24931469164449285,
            null,
            0.24931469164449285,
            0.2508846117023704,
            null,
            0.2508846117023704,
            1.2493695865010526,
            null
           ],
           "y": [
            0.0001280427914913402,
            1.0001134676473142,
            null,
            1.0001134676473142,
            0.0002077558657045368,
            null,
            0.0002077558657045368,
            0.0001280427914913402,
            null,
            0.24930492399798893,
            1.2492477012886714,
            null,
            1.2492477012886714,
            0.25100253478578255,
            null,
            0.25100253478578255,
            0.24930492399798893,
            null
           ],
           "z": [
            -0.08917183729127758,
            -0.08706596659367893,
            null,
            -0.08706596659367893,
            -0.10079781621320232,
            null,
            -0.10079781621320232,
            -0.08917183729127758,
            null,
            -0.12424704683781504,
            -0.12632773253294097,
            null,
            -0.12632773253294097,
            -0.010119082072033133,
            null,
            -0.010119082072033133,
            -0.12424704683781504,
            null
           ]
          },
          {
           "i": [
            0,
            3
           ],
           "j": [
            1,
            4
           ],
           "k": [
            2,
            5
           ],
           "name": "Faces",
           "type": "mesh3d",
           "x": {
            "bdata": "BAPaxO13KT/xJRfhhADwP5osbTAQ+x0/rDSVVH4O0D+bOar2av3zPwFBgzeL6c8/",
            "dtype": "f8"
           },
           "y": {
            "bdata": "k18pTCE7Kz8X/DE0Z8ggP5NZvfp2APA/8Y2H72wQ0D/mzKZHOenPP1U1Wijr/PM/",
            "dtype": "f8"
           },
           "z": {
            "bdata": "G9gkvOLNub/D6OMs99O2v4hOHYf0Sba/8fWENFC5hL/GAcuKp86/v8VF59OBK8C/",
            "dtype": "f8"
           }
          }
         ],
         "layout": {
          "annotations": [
           {
            "showarrow": false,
            "text": "Time: 0.68s (Step: 69/100)",
            "x": 0.05,
            "xref": "paper",
            "y": 0.95,
            "yref": "paper"
           }
          ]
         },
         "name": "68"
        },
        {
         "data": [
          {
           "name": "Free Nodes",
           "type": "scatter3d",
           "x": {
            "bdata": "aKjR+LCNKT/TfeVAiwDwP3k0hRuXgx8/1kTw8ikU0D/YNnhSsfzzP8K8WKaY488/",
            "dtype": "f8"
           },
           "y": {
            "bdata": "mVQAtUhRKz8rQyRkW6AhP6fgwU59APA/GSJ0zT8W0D+acNJLQ+PPP33cMo4n/PM/",
            "dtype": "f8"
           },
           "z": {
            "bdata": "WDmJcc5Pur9rHpY8InW3v+xJEEHm5ba/NgVe318vhL8X2nP3dHHAv5GT8Eg0uMC/",
            "dtype": "f8"
           }
          },
          {
           "name": "Fixed Nodes",
           "type": "scatter3d",
           "x": [],
           "y": [],
           "z": []
          },
          {
           "name": "Edges",
           "type": "scatter3d",
           "x": [
            1.0001328024881004,
            0.000120216462964966,
            null,
            0.000120216462964966,
            0.00019495759298432673,
            null,
            0.00019495759298432673,
            1.0001328024881004,
            null,
            1.2491925450771557,
            0.24913318750757268,
            null,
            0.24913318750757268,
            0.25123070454089935,
            null,
            0.25123070454089935,
            1.2491925450771557,
            null
           ],
           "y": [
            0.0001344787179467175,
            1.0001195026834837,
            null,
            1.0001195026834837,
            0.00020841610467018238,
            null,
            0.00020841610467018238,
            0.0001344787179467175,
            null,
            0.2491230125641593,
            1.2490611605296913,
            null,
            1.2490611605296913,
            0.2513579851516013,
            null,
            0.2513579851516013,
            0.2491230125641593,
            null
           ],
           "z": [
            -0.09163106898460575,
            -0.08944548691241722,
            null,
            -0.08944548691241722,
            -0.10278024932742846,
            null,
            -0.10278024932742846,
            -0.09163106898460575,
            null,
            -0.12846242983478426,
            -0.1306214672232753,
            null,
            -0.1306214672232753,
            -0.009855984691741964,
            null,
            -0.009855984691741964,
            -0.12846242983478426,
            null
           ]
          },
          {
           "i": [
            0,
            3
           ],
           "j": [
            1,
            4
           ],
           "k": [
            2,
            5
           ],
           "name": "Faces",
           "type": "mesh3d",
           "x": {
            "bdata": "aKjR+LCNKT/TfeVAiwDwP3k0hRuXgx8/1kTw8ikU0D/YNnhSsfzzP8K8WKaY488/",
            "dtype": "f8"
           },
           "y": {
            "bdata": "mVQAtUhRKz8rQyRkW6AhP6fgwU59APA/GSJ0zT8W0D+acNJLQ+PPP33cMo4n/PM/",
            "dtype": "f8"
           },
           "z": {
            "bdata": "WDmJcc5Pur9rHpY8InW3v+xJEEHm5ba/NgVe318vhL8X2nP3dHHAv5GT8Eg0uMC/",
            "dtype": "f8"
           }
          }
         ],
         "layout": {
          "annotations": [
           {
            "showarrow": false,
            "text": "Time: 0.69s (Step: 70/100)",
            "x": 0.05,
            "xref": "paper",
            "y": 0.95,
            "yref": "paper"
           }
          ]
         },
         "name": "69"
        },
        {
         "data": [
          {
           "name": "Free Nodes",
           "type": "scatter3d",
           "x": {
            "bdata": "9ssyTk+oKT8wzoOKkQDwP8HI1eL5gyA/g99pBQ4a0D+M0ym38PvzP8En1OVs3c8/",
            "dtype": "f8"
           },
           "y": {
            "bdata": "8o0HAiBrKz+dI6l8OnYiP6QB8JWDAPA/lmiomEwc0D8T2n8kFN3PP1deKZ5c+/M/",
            "dtype": "f8"
           },
           "z": {
            "bdata": "otgvGrrRur9ET4VTTRa4vxIMhADYgbe/LZDksDing79pY+QPiPvAv4PZLEXYRMG/",
            "dtype": "f8"
           }
          },
          {
           "name": "Fixed Nodes",
           "type": "scatter3d",
           "x": [],
           "y": [],
           "z": []
          },
          {
           "name": "Edges",
           "type": "scatter3d",
           "x": [
            1.0001387987839614,
            0.0001260035073005813,
            null,
            0.0001260035073005813,
            0.00019575088581333361,
            null,
            0.00019575088581333361,
            1.0001387987839614,
            null,
            1.2490088610477157,
            0.2489448663912395,
            null,
            0.2489448663912395,
            0.25159025696438436,
            null,
            0.25159025696438436,
            1.2490088610477157,
            null
           ],
           "y": [
            0.00014085258438203694,
            1.0001254898962566,
            null,
            1.0001254898962566,
            0.000209186227052446,
            null,
            0.000209186227052446,
            0.00014085258438203694,
            null,
            0.24893428594778352,
            1.2488676241099677,
            null,
            1.2488676241099677,
            0.25172724636070976,
            null,
            0.25172724636070976,
            0.24893428594778352,
            null
           ],
           "z": [
            -0.09409030236321053,
            -0.09182500851243017,
            null,
            -0.09182500851243017,
            -0.10476267947510334,
            null,
            -0.10476267947510334,
            -0.09409030236321053,
            null,
            -0.13267613197310915,
            -0.13491347673125284,
            null,
            -0.13491347673125284,
            -0.009596293352451902,
            null,
            -0.009596293352451902,
            -0.13267613197310915,
            null
           ]
          },
          {
           "i": [
            0,
            3
           ],
           "j": [
            1,
            4
           ],
           "k": [
            2,
            5
           ],
           "name": "Faces",
           "type": "mesh3d",
           "x": {
            "bdata": "9ssyTk+oKT8wzoOKkQDwP8HI1eL5gyA/g99pBQ4a0D+M0ym38PvzP8En1OVs3c8/",
            "dtype": "f8"
           },
           "y": {
            "bdata": "8o0HAiBrKz+dI6l8OnYiP6QB8JWDAPA/lmiomEwc0D8T2n8kFN3PP1deKZ5c+/M/",
            "dtype": "f8"
           },
           "z": {
            "bdata": "otgvGrrRur9ET4VTTRa4vxIMhADYgbe/LZDksDing79pY+QPiPvAv4PZLEXYRMG/",
            "dtype": "f8"
           }
          }
         ],
         "layout": {
          "annotations": [
           {
            "showarrow": false,
            "text": "Time: 0.70s (Step: 71/100)",
            "x": 0.05,
            "xref": "paper",
            "y": 0.95,
            "yref": "paper"
           }
          ]
         },
         "name": "70"
        },
        {
         "data": [
          {
           "name": "Free Nodes",
           "type": "scatter3d",
           "x": {
            "bdata": "Fgq4x8jHKT9kCfK9lwDwP273aRYTRCE/EZFDeiog0D8YS+wmKfvzPzmOCAgI188/",
            "dtype": "f8"
           },
           "y": {
            "bdata": "hGqsNaeIKz+upzt8BEojP0e1R9CJAPA/AZy2PpMi0D/EtsXjq9bPP49WllqK+vM/",
            "dtype": "f8"
           },
           "z": {
            "bdata": "wZOUtqVTu78YC2txeLe4v2gnQ8XJHbi/qXcDNusgg7/lNgKMjIXBv4NPgkJt0cG/",
            "dtype": "f8"
           }
          },
          {
           "name": "Fixed Nodes",
           "type": "scatter3d",
           "x": [],
           "y": [],
           "z": []
          },
          {
           "name": "Edges",
           "type": "scatter3d",
           "x": [
            1.000144712423741,
            0.00013172848703740407,
            null,
            0.00013172848703740407,
            0.00019668889932240922,
            null,
            0.00019668889932240922,
            1.000144712423741,
            null,
            1.2488185425215246,
            0.24874973671204417,
            null,
            0.24874973671204417,
            0.25196325244748247,
            null,
            0.25196325244748247,
            1.2488185425215246,
            null
           ],
           "y": [
            0.00014716439010636684,
            1.0001314292852201,
            null,
            1.0001314292852201,
            0.00021006623395510373,
            null,
            0.00021006623395510373,
            0.00014716439010636684,
            null,
            0.24873875257201494,
            1.2486671007694985,
            null,
            1.2486671007694985,
            0.25211030124995665,
            null,
            0.25211030124995665,
            0.24873875257201494,
            null
           ],
           "z": [
            -0.09654953736302863,
            -0.0942045313451253,
            null,
            -0.0942045313451253,
            -0.10674510676888273,
            null,
            -0.10674510676888273,
            -0.09654953736302863,
            null,
            -0.13688809238777036,
            -0.13920369861136458,
            null,
            -0.13920369861136458,
            -0.009340131364691322,
            null,
            -0.009340131364691322,
            -0.13688809238777036,
            null
           ]
          },
          {
           "i": [
            0,
            3
           ],
           "j": [
            1,
            4
           ],
           "k": [
            2,
            5
           ],
           "name": "Faces",
           "type": "mesh3d",
           "x": {
            "bdata": "Fgq4x8jHKT9kCfK9lwDwP273aRYTRCE/EZFDeiog0D8YS+wmKfvzPzmOCAgI188/",
            "dtype": "f8"
           },
           "y": {
            "bdata": "hGqsNaeIKz+upzt8BEojP0e1R9CJAPA/AZy2PpMi0D/EtsXjq9bPP49WllqK+vM/",
            "dtype": "f8"
           },
           "z": {
            "bdata": "wZOUtqVTu78YC2txeLe4v2gnQ8XJHbi/qXcDNusgg7/lNgKMjIXBv4NPgkJt0cG/",
            "dtype": "f8"
           }
          }
         ],
         "layout": {
          "annotations": [
           {
            "showarrow": false,
            "text": "Time: 0.71s (Step: 72/100)",
            "x": 0.05,
            "xref": "paper",
            "y": 0.95,
            "yref": "paper"
           }
          ]
         },
         "name": "71"
        },
        {
         "data": [
          {
           "name": "Free Nodes",
           "type": "scatter3d",
           "x": {
            "bdata": "t0T7Zx3sKT9qIjDbnQDwP+ndhScXAiI/fuIoP38m0D92Pf+jWvrzP2TeoR9q0M8/",
            "dtype": "f8"
           },
           "y": {
            "bdata": "wdxGUt6pKz8au2NhuRskP5H0yP2PAPA/EQmVrBMp0D8brlOcCtDPPwk95sWw+fM/",
            "dtype": "f8"
           },
           "z": {
            "bdata": "uEgzR5HVu7+E4QCWo1i5v04uGI+7ubi/wtXJ9Yecgr9o9kXpgQ/CvxJiB7vyXcK/",
            "dtype": "f8"
           }
          },
          {
           "name": "Fixed Nodes",
           "type": "scatter3d",
           "x": [],
           "y": [],
           "z": []
          },
          {
           "name": "Edges",
           "type": "scatter3d",
           "x": [
            1.0001505434066993,
            0.00013739140173261937,
            null,
            0.00013739140173261937,
            0.0001977716346943986,
            null,
            0.0001977716346943986,
            1.0001505434066993,
            null,
            1.2486215978750272,
            0.24854780716462976,
            null,
            0.24854780716462976,
            0.2523496739191059,
            null,
            0.2523496739191059,
            1.2486215978750272,
            null
           ],
           "y": [
            0.0001534141344516564,
            1.0001373208499766,
            null,
            1.0001373208499766,
            0.00021105612644387563,
            null,
            0.00021105612644387563,
            0.0001534141344516564,
            null,
            0.24853642113826954,
            1.2484595995372862,
            null,
            1.2484595995372862,
            0.25250713208892345,
            null,
            0.25250713208892345,
            0.24853642113826954,
            null
           ],
           "z": [
            -0.09900877391999613,
            -0.09658405536190992,
            null,
            -0.09658405536190992,
            -0.10872753132142321,
            null,
            -0.10872753132142321,
            -0.09900877391999613,
            null,
            -0.14109825029656808,
            -0.14349207050578677,
            null,
            -0.14349207050578677,
            -0.009087621868483779,
            null,
            -0.009087621868483779,
            -0.14109825029656808,
            null
           ]
          },
          {
           "i": [
            0,
            3
           ],
           "j": [
            1,
            4
           ],
           "k": [
            2,
            5
           ],
           "name": "Faces",
           "type": "mesh3d",
           "x": {
            "bdata": "t0T7Zx3sKT9qIjDbnQDwP+ndhScXAiI/fuIoP38m0D92Pf+jWvrzP2TeoR9q0M8/",
            "dtype": "f8"
           },
           "y": {
            "bdata": "wdxGUt6pKz8au2NhuRskP5H0yP2PAPA/EQmVrBMp0D8brlOcCtDPPwk95sWw+fM/",
            "dtype": "f8"
           },
           "z": {
            "bdata": "uEgzR5HVu7+E4QCWo1i5v04uGI+7ubi/wtXJ9Yecgr9o9kXpgQ/CvxJiB7vyXcK/",
            "dtype": "f8"
           }
          }
         ],
         "layout": {
          "annotations": [
           {
            "showarrow": false,
            "text": "Time: 0.72s (Step: 73/100)",
            "x": 0.05,
            "xref": "paper",
            "y": 0.95,
            "yref": "paper"
           }
          ]
         },
         "name": "72"
        },
        {
         "data": [
          {
           "name": "Free Nodes",
           "type": "scatter3d",
           "x": {
            "bdata": "CW11MU0VKj/aDD7iowDwP3ehPRUGviI/p5UvQQwt0D8HqLQwhfnzP4Gp5D+Tyc8/",
            "dtype": "f8"
           },
           "y": {
            "bdata": "FQsZWsXOKz+vtrYqWeskP8a4cx6WAPA/fk2ezs0v0D9kJXJhMMnPP61dmeLP+PM/",
            "dtype": "f8"
           },
           "z": {
            "bdata": "xdWHzHxXvL/5YQDBzvm5vxWzzV2tVbm/zuM+cR8agr9LIVelZ5nCv0IeBClo6sK/",
            "dtype": "f8"
           }
          },
          {
           "name": "Fixed Nodes",
           "type": "scatter3d",
           "x": [],
           "y": [],
           "z": []
          },
          {
           "name": "Edges",
           "type": "scatter3d",
           "x": [
            1.000156291732131,
            0.0001429922509672656,
            null,
            0.0001429922509672656,
            0.0001989990930536328,
            null,
            0.0001989990930536328,
            1.000156291732131,
            null,
            1.2484180357519123,
            0.24833908672128405,
            null,
            0.24833908672128405,
            0.25274950376327826,
            null,
            0.25274950376327826,
            1.2484180357519123,
            null
           ],
           "y": [
            0.0001596018167737043,
            1.0001431645901433,
            null,
            1.0001431645901433,
            0.00021215590554576254,
            null,
            0.00021215590554576254,
            0.0001596018167737043,
            null,
            0.24832730062579877,
            1.2482451297308714,
            null,
            1.2482451297308714,
            0.2529177205808181,
            null,
            0.2529177205808181,
            0.24832730062579877,
            null
           ],
           "z": [
            -0.10146801197004852,
            -0.09896358051419114,
            null,
            -0.09896358051419114,
            -0.1107099532453822,
            null,
            -0.1107099532453822,
            -0.10146801197004852,
            null,
            -0.14530654500254978,
            -0.147778530146967,
            null,
            -0.147778530146967,
            -0.00883888782833422,
            null,
            -0.00883888782833422,
            -0.14530654500254978,
            null
           ]
          },
          {
           "i": [
            0,
            3
           ],
           "j": [
            1,
            4
           ],
           "k": [
            2,
            5
           ],
           "name": "Faces",
           "type": "mesh3d",
           "x": {
            "bdata": "CW11MU0VKj/aDD7iowDwP3ehPRUGviI/p5UvQQwt0D8HqLQwhfnzP4Gp5D+Tyc8/",
            "dtype": "f8"
           },
           "y": {
            "bdata": "FQsZWsXOKz+vtrYqWeskP8a4cx6WAPA/fk2ezs0v0D9kJXJhMMnPP61dmeLP+PM/",
            "dtype": "f8"
           },
           "z": {
            "bdata": "xdWHzHxXvL/5YQDBzvm5vxWzzV2tVbm/zuM+cR8agr9LIVelZ5nCv0IeBClo6sK/",
            "dtype": "f8"
           }
          }
         ],
         "layout": {
          "annotations": [
           {
            "showarrow": false,
            "text": "Time: 0.73s (Step: 74/100)",
            "x": 0.05,
            "xref": "paper",
            "y": 0.95,
            "yref": "paper"
           }
          ]
         },
         "name": "73"
        },
        {
         "data": [
          {
           "name": "Free Nodes",
           "type": "scatter3d",
           "x": {
            "bdata": "SaZ+JlhDKj/nvBvTqQDwP0Gnst7fdyM/HOPXbNEz0D8w3nDPqPjzP0XjrXyDws8/",
            "dtype": "f8"
           },
           "y": {
            "bdata": "WqNPT1z3Kz+bMtfW47glP2z7RzKcAPA/h5iRkME20D8xAgJHHcLPP/rPQ7Pn9/M/",
            "dtype": "f8"
           },
           "z": {
            "bdata": "WxkOR2jZvL+/GyPy+Zq6vwFILjGf8bm/9PQ1I8KZgb92aQ0+PSPDv/ic8wbNdsO/",
            "dtype": "f8"
           }
          },
          {
           "name": "Fixed Nodes",
           "type": "scatter3d",
           "x": [],
           "y": [],
           "z": []
          },
          {
           "name": "Edges",
           "type": "scatter3d",
           "x": [
            1.0001619573993652,
            0.00014853103434591712,
            null,
            0.00014853103434591712,
            0.0002003712754661705,
            null,
            0.0002003712754661705,
            1.0001619573993652,
            null,
            1.2482078650626924,
            0.2481235846314808,
            null,
            0.2481235846314808,
            0.25316272382001315,
            null,
            0.25316272382001315,
            1.2482078650626924,
            null
           ],
           "y": [
            0.0001657274364518416,
            1.000148960505352,
            null,
            1.000148960505352,
            0.0002133655722496252,
            null,
            0.0002133655722496252,
            0.0001657274364518416,
            null,
            0.24811140029125192,
            1.2480237009558537,
            null,
            1.2480237009558537,
            0.2533420478633918,
            null,
            0.2533420478633918,
            0.24811140029125192,
            null
           ],
           "z": [
            -0.10392725144912072,
            -0.10134310675337589,
            null,
            -0.10134310675337589,
            -0.11269237265341785,
            null,
            -0.11269237265341785,
            -0.10392725144912072,
            null,
            -0.14951291589643362,
            -0.1520630153602054,
            null,
            -0.1520630153602054,
            -0.008594052028224365,
            null,
            -0.008594052028224365,
            -0.14951291589643362,
            null
           ]
          },
          {
           "i": [
            0,
            3
           ],
           "j": [
            1,
            4
           ],
           "k": [
            2,
            5
           ],
           "name": "Faces",
           "type": "mesh3d",
           "x": {
            "bdata": "SaZ+JlhDKj/nvBvTqQDwP0Gnst7fdyM/HOPXbNEz0D8w3nDPqPjzP0XjrXyDws8/",
            "dtype": "f8"
           },
           "y": {
            "bdata": "WqNPT1z3Kz+bMtfW47glP2z7RzKcAPA/h5iRkME20D8xAgJHHcLPP/rPQ7Pn9/M/",
            "dtype": "f8"
           },
           "z": {
            "bdata": "WxkOR2jZvL+/GyPy+Zq6vwFILjGf8bm/9PQ1I8KZgb92aQ0+PSPDv/ic8wbNdsO/",
            "dtype": "f8"
           }
          }
         ],
         "layout": {
          "annotations": [
           {
            "showarrow": false,
            "text": "Time: 0.74s (Step: 75/100)",
            "x": 0.05,
            "xref": "paper",
            "y": 0.95,
            "yref": "paper"
           }
          ]
         },
         "name": "74"
        },
        {
         "data": [
          {
           "name": "Free Nodes",
           "type": "scatter3d",
           "x": {
            "bdata": "CWJOST52Kj9kJ8mtrwDwP/4pE4OkLyQ/frkMrs460D/NgaqCxffzP4yfcuo6u88/",
            "dtype": "f8"
           },
           "y": {
            "bdata": "4MsBNKMjLD8inHRkWYQmP062RTmiAPA/Oe2S3e490D8Ya3xh0brPP1pujTr49vM/",
            "dtype": "f8"
           },
           "z": {
            "bdata": "IfJBt1Nbvb/3nSIpJTy7v0t/BAmRjbq/PIYigIAbgb/XB3IxAq3Dv3Zthc8gA8S/",
            "dtype": "f8"
           }
          },
          {
           "name": "Fixed Nodes",
           "type": "scatter3d",
           "x": [],
           "y": [],
           "z": []
          },
          {
           "name": "Edges",
           "type": "scatter3d",
           "x": [
            1.0001675404077668,
            0.00015400775149594642,
            null,
            0.00015400775149594642,
            0.00020188818293999402,
            null,
            0.00020188818293999402,
            1.0001675404077668,
            null,
            1.2479910949842747,
            0.24790131042140862,
            null,
            0.24790131042140862,
            0.25358931538621465,
            null,
            0.25358931538621465,
            1.2479910949842747,
            null
           ],
           "y": [
            0.00017179099288819425,
            1.0001547085952498,
            null,
            1.0001547085952498,
            0.0002146851275060804,
            null,
            0.0002146851275060804,
            0.00017179099288819425,
            null,
            0.24788872966822662,
            1.2477953231053989,
            null,
            1.2477953231053989,
            0.2537800945098812,
            null,
            0.2537800945098812,
            0.24788872966822662,
            null
           ],
           "z": [
            -0.1063864922931471,
            -0.10372263403087094,
            null,
            -0.10372263403087094,
            -0.11467478965818902,
            null,
            -0.11467478965818902,
            -0.1063864922931471,
            null,
            -0.15371730245902768,
            -0.15634546406623046,
            null,
            -0.15634546406623046,
            -0.008353237066617607,
            null,
            -0.008353237066617607,
            -0.15371730245902768,
            null
           ]
          },
          {
           "i": [
            0,
            3
           ],
           "j": [
            1,
            4
           ],
           "k": [
            2,
            5
           ],
           "name": "Faces",
           "type": "mesh3d",
           "x": {
            "bdata": "CWJOST52Kj9kJ8mtrwDwP/4pE4OkLyQ/frkMrs460D/NgaqCxffzP4yfcuo6u88/",
            "dtype": "f8"
           },
           "y": {
            "bdata": "4MsBNKMjLD8inHRkWYQmP062RTmiAPA/Oe2S3e490D8Ya3xh0brPP1pujTr49vM/",
            "dtype": "f8"
           },
           "z": {
            "bdata": "IfJBt1Nbvb/3nSIpJTy7v0t/BAmRjbq/PIYigIAbgb/XB3IxAq3Dv3Zthc8gA8S/",
            "dtype": "f8"
           }
          }
         ],
         "layout": {
          "annotations": [
           {
            "showarrow": false,
            "text": "Time: 0.75s (Step: 76/100)",
            "x": 0.05,
            "xref": "paper",
            "y": 0.95,
            "yref": "paper"
           }
          ]
         },
         "name": "75"
        },
        {
         "data": [
          {
           "name": "Free Nodes",
           "type": "scatter3d",
           "x": {
            "bdata": "FQb7m/+tKj/BQUZytQDwPx2+mgFU5SQ/dP4j8ANC0D9we+pM2/bzP3rOP565s88/",
            "dtype": "f8"
           },
           "y": {
            "bdata": "hxAxCppTLD/PuUvSuU0nP3njbDOoAPA/G2YroFVF0D/8hvLFTLPPP07NMXsB9vM/",
            "dtype": "f8"
           },
           "z": {
            "bdata": "7j6fHT/dvb+dd7hlUN27vyDrGuWCKbu/IGPs9WqfgL83EMH9tTbEvzz/nv1ij8S/",
            "dtype": "f8"
           }
          },
          {
           "name": "Fixed Nodes",
           "type": "scatter3d",
           "x": [],
           "y": [],
           "z": []
          },
          {
           "name": "Edges",
           "type": "scatter3d",
           "x": [
            1.0001730407567353,
            0.00015942240206844117,
            null,
            0.00015942240206844117,
            0.00020354981642438431,
            null,
            0.00020354981642438431,
            1.0001730407567353,
            null,
            1.2477677349595204,
            0.24767227389348873,
            null,
            0.24767227389348873,
            0.25402925921660047,
            null,
            0.25402925921660047,
            1.2477677349595204,
            null
           ],
           "y": [
            0.00017779248550860028,
            1.0001604088594986,
            null,
            1.0001604088594986,
            0.00021611457222736973,
            null,
            0.00021611457222736973,
            0.00017779248550860028,
            null,
            0.24765929856680902,
            1.2475600063597372,
            null,
            1.2475600063597372,
            0.25423184052996967,
            null,
            0.25423184052996967,
            0.24765929856680902,
            null
           ],
           "z": [
            -0.10884573443806152,
            -0.10610216229808289,
            null,
            -0.10610216229808289,
            -0.11665720437235524,
            null,
            -0.11665720437235524,
            -0.10884573443806152,
            null,
            -0.15791964426364455,
            -0.16062581428377054,
            null,
            -0.16062581428377054,
            -0.008116565351473037,
            null,
            -0.008116565351473037,
            -0.15791964426364455,
            null
           ]
          },
          {
           "i": [
            0,
            3
           ],
           "j": [
            1,
            4
           ],
           "k": [
            2,
            5
           ],
           "name": "Faces",
           "type": "mesh3d",
           "x": {
            "bdata": "FQb7m/+tKj/BQUZytQDwPx2+mgFU5SQ/dP4j8ANC0D9we+pM2/bzP3rOP565s88/",
            "dtype": "f8"
           },
           "y": {
            "bdata": "hxAxCppTLD/PuUvSuU0nP3njbDOoAPA/G2YroFVF0D/8hvLFTLPPP07NMXsB9vM/",
            "dtype": "f8"
           },
           "z": {
            "bdata": "7j6fHT/dvb+dd7hlUN27vyDrGuWCKbu/IGPs9WqfgL83EMH9tTbEvzz/nv1ij8S/",
            "dtype": "f8"
           }
          }
         ],
         "layout": {
          "annotations": [
           {
            "showarrow": false,
            "text": "Time: 0.76s (Step: 77/100)",
            "x": 0.05,
            "xref": "paper",
            "y": 0.95,
            "yref": "paper"
           }
          ]
         },
         "name": "76"
        },
        {
         "data": [
          {
           "name": "Free Nodes",
           "type": "scatter3d",
           "x": {
            "bdata": "8UJ6IJzqKj8KApMguwDwP/1IklnumCU/BtHeHXFJ0D928ssw6vXzPxj3ua3/q88/",
            "dtype": "f8"
           },
           "y": {
            "bdata": "mk/J00CHLD+4oiYfBRUoPz59vSCuAPA/o3pJwvVM0D/qOg2Kj6vPP1cyAHgD9fM/",
            "dtype": "f8"
           },
           "z": {
            "bdata": "xd6heipfvr+KN56ne368v6QdPMV0xbu/DuDD65ElgL93xGohWMDEvyELXQyTG8W/",
            "dtype": "f8"
           }
          },
          {
           "name": "Fixed Nodes",
           "type": "scatter3d",
           "x": [],
           "y": [],
           "z": []
          },
          {
           "name": "Edges",
           "type": "scatter3d",
           "x": [
            1.000178458445705,
            0.00016477498573814328,
            null,
            0.00016477498573814328,
            0.00020535617681052097,
            null,
            0.00020535617681052097,
            1.000178458445705,
            null,
            1.2475377946967945,
            0.2474364851258819,
            null,
            0.2474364851258819,
            0.25448253552464484,
            null,
            0.25448253552464484,
            1.2475377946967945,
            null
           ],
           "y": [
            0.00018373191376254926,
            1.0001660612977754,
            null,
            1.0001660612977754,
            0.0002176539072872269,
            null,
            0.0002176539072872269,
            0.00018373191376254926,
            null,
            0.24742311707310388,
            1.2473177611856465,
            null,
            1.2473177611856465,
            0.2546972653707746,
            null,
            0.2546972653707746,
            0.24742311707310388,
            null
           ],
           "z": [
            -0.11130497781979734,
            -0.10848169150641823,
            null,
            -0.10848169150641823,
            -0.11863961690857668,
            null,
            -0.11863961690857668,
            -0.11130497781979734,
            null,
            -0.1621198809785118,
            -0.1649040041321195,
            null,
            -0.1649040041321195,
            -0.007884159095269207,
            null,
            -0.007884159095269207,
            -0.1621198809785118,
            null
           ]
          },
          {
           "i": [
            0,
            3
           ],
           "j": [
            1,
            4
           ],
           "k": [
            2,
            5
           ],
           "name": "Faces",
           "type": "mesh3d",
           "x": {
            "bdata": "8UJ6IJzqKj8KApMguwDwP/1IklnumCU/BtHeHXFJ0D928ssw6vXzPxj3ua3/q88/",
            "dtype": "f8"
           },
           "y": {
            "bdata": "mk/J00CHLD+4oiYfBRUoPz59vSCuAPA/o3pJwvVM0D/qOg2Kj6vPP1cyAHgD9fM/",
            "dtype": "f8"
           },
           "z": {
            "bdata": "xd6heipfvr+KN56ne368v6QdPMV0xbu/DuDD65ElgL93xGohWMDEvyELXQyTG8W/",
            "dtype": "f8"
           }
          }
         ],
         "layout": {
          "annotations": [
           {
            "showarrow": false,
            "text": "Time: 0.77s (Step: 78/100)",
            "x": 0.05,
            "xref": "paper",
            "y": 0.95,
            "yref": "paper"
           }
          ]
         },
         "name": "77"
        },
        {
         "data": [
          {
           "name": "Free Nodes",
           "type": "scatter3d",
           "x": {
            "bdata": "i/+g2BMsKz/oXq+4wADwPxKsT4pzSiY/tc1pIRZR0D/rRPww8vTzPwPwHC8NpM8/",
            "dtype": "f8"
           },
           "y": {
            "bdata": "xAShkpe+LD+radxJO9ooPzB+NwG0APA/K0ZBLc9U0D8h5gzEmaPPP7eK2zP+8/M/",
            "dtype": "f8"
           },
           "z": {
            "bdata": "1LDFzhXhvr91bI3uph+9v/KoMqlmYby/Olfsgwtcf78c5xQb6EnFv7f7FHewp8W/",
            "dtype": "f8"
           }
          },
          {
           "name": "Fixed Nodes",
           "type": "scatter3d",
           "x": [],
           "y": [],
           "z": []
          },
          {
           "name": "Edges",
           "type": "scatter3d",
           "x": [
            1.0001837934741449,
            0.00017006550220286014,
            null,
            0.00017006550220286014,
            0.00020730726493134138,
            null,
            0.00020730726493134138,
            1.0001837934741449,
            null,
            1.2473012841695048,
            0.24719395447198175,
            null,
            0.24719395447198175,
            0.25494912398354624,
            null,
            0.25494912398354624,
            1.2473012841695048,
            null
           ],
           "y": [
            0.0001896092771225937,
            1.0001716659097717,
            null,
            1.0001716659097717,
            0.00021930313352139773,
            null,
            0.00021930313352139773,
            0.0001896092771225937,
            null,
            0.24718019554875162,
            1.2470685983359269,
            null,
            1.2470685983359269,
            0.25517634791785565,
            null,
            0.25517634791785565,
            0.24718019554875162,
            null
           ],
           "z": [
            -0.11376422237428747,
            -0.11086122160728332,
            null,
            -0.11086122160728332,
            -0.12062202737951405,
            null,
            -0.12062202737951405,
            -0.11376422237428747,
            null,
            -0.16631795236917746,
            -0.16917997183369746,
            null,
            -0.16917997183369746,
            -0.007656140310037968,
            null,
            -0.007656140310037968,
            -0.16631795236917746,
            null
           ]
          },
          {
           "i": [
            0,
            3
           ],
           "j": [
            1,
            4
           ],
           "k": [
            2,
            5
           ],
           "name": "Faces",
           "type": "mesh3d",
           "x": {
            "bdata": "i/+g2BMsKz/oXq+4wADwPxKsT4pzSiY/tc1pIRZR0D/rRPww8vTzPwPwHC8NpM8/",
            "dtype": "f8"
           },
           "y": {
            "bdata": "xAShkpe+LD+radxJO9ooPzB+NwG0APA/K0ZBLc9U0D8h5gzEmaPPP7eK2zP+8/M/",
            "dtype": "f8"
           },
           "z": {
            "bdata": "1LDFzhXhvr91bI3uph+9v/KoMqlmYby/Olfsgwtcf78c5xQb6EnFv7f7FHewp8W/",
            "dtype": "f8"
           }
          }
         ],
         "layout": {
          "annotations": [
           {
            "showarrow": false,
            "text": "Time: 0.78s (Step: 79/100)",
            "x": 0.05,
            "xref": "paper",
            "y": 0.95,
            "yref": "paper"
           }
          ]
         },
         "name": "78"
        },
        {
         "data": [
          {
           "name": "Free Nodes",
           "type": "scatter3d",
           "x": {
            "bdata": "nS8jxmZyKz+kT5s6xgDwPz3kNZPj+SY/7VNd5PJY0D8//zpQ8/PzP+eWOznim88/",
            "dtype": "f8"
           },
           "y": {
            "bdata": "Bxh5SJ75LD+RPFFRXJ0pPyfh2tS5APA/o9DMyeFc0D/8HMmKa5vPP+ZhurHx8vM/",
            "dtype": "f8"
           },
           "z": {
            "bdata": "cJSGGgFjv7/3pD860sC9vxwfyZBY/by/h2yDo61xfr89DZxpZdPFv99UVrm6M8a/",
            "dtype": "f8"
           }
          },
          {
           "name": "Fixed Nodes",
           "type": "scatter3d",
           "x": [],
           "y": [],
           "z": []
          },
          {
           "name": "Edges",
           "type": "scatter3d",
           "x": [
            1.0001890458415597,
            0.00017529395118368206,
            null,
            0.00017529395118368206,
            0.00020940308156125196,
            null,
            0.00020940308156125196,
            1.0001890458415597,
            null,
            1.2470582136156307,
            0.24694469255989945,
            null,
            0.24694469255989945,
            0.2554290037272143,
            null,
            0.2554290037272143,
            1.2470582136156307,
            null
           ],
           "y": [
            0.00019542457508456683,
            1.0001772226951944,
            null,
            1.0001772226951944,
            0.00022106225172729995,
            null,
            0.00022106225172729995,
            0.00019542457508456683,
            null,
            0.2469305446304374,
            1.2468125288488578,
            null,
            1.2468125288488578,
            0.25566906649624793,
            null,
            0.25566906649624793,
            0.2469305446304374,
            null
           ],
           "z": [
            -0.1162234680374644,
            -0.11324075255208438,
            null,
            -0.11324075255208438,
            -0.12260443589782866,
            null,
            -0.12260443589782866,
            -0.1162234680374644,
            null,
            -0.1705137983009112,
            -0.17345365571660573,
            null,
            -0.17345365571660573,
            -0.007432630802408308,
            null,
            -0.007432630802408308,
            -0.1705137983009112,
            null
           ]
          },
          {
           "i": [
            0,
            3
           ],
           "j": [
            1,
            4
           ],
           "k": [
            2,
            5
           ],
           "name": "Faces",
           "type": "mesh3d",
           "x": {
            "bdata": "nS8jxmZyKz+kT5s6xgDwPz3kNZPj+SY/7VNd5PJY0D8//zpQ8/PzP+eWOznim88/",
            "dtype": "f8"
           },
           "y": {
            "bdata": "Bxh5SJ75LD+RPFFRXJ0pPyfh2tS5APA/o9DMyeFc0D/8HMmKa5vPP+ZhurHx8vM/",
            "dtype": "f8"
           },
           "z": {
            "bdata": "cJSGGgFjv7/3pD860sC9vxwfyZBY/by/h2yDo61xfr89DZxpZdPFv99UVrm6M8a/",
            "dtype": "f8"
           }
          }
         ],
         "layout": {
          "annotations": [
           {
            "showarrow": false,
            "text": "Time: 0.79s (Step: 80/100)",
            "x": 0.05,
            "xref": "paper",
            "y": 0.95,
            "yref": "paper"
           }
          ]
         },
         "name": "79"
        },
        {
         "data": [
          {
           "name": "Free Nodes",
           "type": "scatter3d",
           "x": {
            "bdata": "zMeT6pS9Kz8hzFamywDwP5OGtXM+pyc/Es29Twdh0D/N01mR7fLzPx6Gf+N+k88/",
            "dtype": "f8"
           },
           "y": {
            "bdata": "VaT89lQ4LT864XY0aF4qPzyhp5u/APA/k1gMgC1l0D8dYrD1BJPPP+7XpvTd8fM/",
            "dtype": "f8"
           },
           "z": {
            "bdata": "EmlgXuzkv7+Lb26K/WG+vy4SyntKmb2/6l9V2iqMfb/C7xSMz1zGv7Ia7E6xv8a/",
            "dtype": "f8"
           }
          },
          {
           "name": "Fixed Nodes",
           "type": "scatter3d",
           "x": [],
           "y": [],
           "z": []
          },
          {
           "name": "Edges",
           "type": "scatter3d",
           "x": [
            1.000194215547488,
            0.00018046033242584812,
            null,
            0.00018046033242584812,
            0.00021164362741604573,
            null,
            0.00021164362741604573,
            1.000194215547488,
            null,
            1.2468085935372415,
            0.24668871029193523,
            null,
            0.24668871029193523,
            0.2559221533512793,
            null,
            0.2559221533512793,
            1.2468085935372415,
            null
           ],
           "y": [
            0.00020117780716844854,
            1.0001827316537648,
            null,
            1.0001827316537648,
            0.00022293126266362492,
            null,
            0.00022293126266362492,
            0.00020117780716844854,
            null,
            0.24667417522938787,
            1.2465495640476507,
            null,
            1.2465495640476507,
            0.2561753988715136,
            null,
            0.2561753988715136,
            0.24667417522938787,
            null
           ],
           "z": [
            -0.1186827147452602,
            -0.11562028429222757,
            null,
            -0.11562028429222757,
            -0.12458684257618227,
            null,
            -0.12458684257618227,
            -0.1186827147452602,
            null,
            -0.1747073587411006,
            -0.17772499421717708,
            null,
            -0.17772499421717708,
            -0.007213752168659918,
            null,
            -0.007213752168659918,
            -0.1747073587411006,
            null
           ]
          },
          {
           "i": [
            0,
            3
           ],
           "j": [
            1,
            4
           ],
           "k": [
            2,
            5
           ],
           "name": "Faces",
           "type": "mesh3d",
           "x": {
            "bdata": "zMeT6pS9Kz8hzFamywDwP5OGtXM+pyc/Es29Twdh0D/N01mR7fLzPx6Gf+N+k88/",
            "dtype": "f8"
           },
           "y": {
            "bdata": "VaT89lQ4LT864XY0aF4qPzyhp5u/APA/k1gMgC1l0D8dYrD1BJPPP+7XpvTd8fM/",
            "dtype": "f8"
           },
           "z": {
            "bdata": "EmlgXuzkv7+Lb26K/WG+vy4SyntKmb2/6l9V2iqMfb/C7xSMz1zGv7Ia7E6xv8a/",
            "dtype": "f8"
           }
          }
         ],
         "layout": {
          "annotations": [
           {
            "showarrow": false,
            "text": "Time: 0.80s (Step: 81/100)",
            "x": 0.05,
            "xref": "paper",
            "y": 0.95,
            "yref": "paper"
           }
          ]
         },
         "name": "80"
        },
        {
         "data": [
          {
           "name": "Free Nodes",
           "type": "scatter3d",
           "x": {
            "bdata": "DC5lR54NLD/izOH70ADwP33RSyuEUig/FfX7S1Np0D86kjz34PHzP5/I6EXjis8/",
            "dtype": "f8"
           },
           "y": {
            "bdata": "cXXBn7t6LT+KxkvyXh0rP825nVXFAPA/JJ+GN7Jt0D/73cccZorPP3aXvv/C8PM/",
            "dtype": "f8"
           },
           "z": {
            "bdata": "KodnzWszwL+SWtPeKAO/vy4UAGo8Nb6/oT+fvaOrfL/yu80BJubGv3c33rOTS8e/",
            "dtype": "f8"
           }
          },
          {
           "name": "Fixed Nodes",
           "type": "scatter3d",
           "x": [],
           "y": [],
           "z": []
          },
          {
           "name": "Edges",
           "type": "scatter3d",
           "x": [
            1.0001993025915046,
            0.00018556464569708864,
            null,
            0.00018556464569708864,
            0.00021402890315368216,
            null,
            0.00021402890315368216,
            1.0001993025915046,
            null,
            1.2465524347000057,
            0.2464260188440379,
            null,
            0.2464260188440379,
            0.25642855091412403,
            null,
            0.25642855091412403,
            1.2465524347000057,
            null
           ],
           "y": [
            0.00020686897291670821,
            1.0001881927852196,
            null,
            1.0001881927852196,
            0.00022491016705121104,
            null,
            0.00022491016705121104,
            0.00020686897291670821,
            null,
            0.24641109853085638,
            1.2462797155398824,
            null,
            1.2462797155398824,
            0.25669532225082237,
            null,
            0.25669532225082237,
            0.24641109853085638,
            null
           ],
           "z": [
            -0.12114196243360656,
            -0.11799981677911894,
            null,
            -0.11799981677911894,
            -0.12656924752723714,
            null,
            -0.12656924752723714,
            -0.12114196243360656,
            null,
            -0.17889857376164248,
            -0.18199392588251914,
            null,
            -0.18199392588251914,
            -0.006999625789788328,
            null,
            -0.006999625789788328,
            -0.17889857376164248,
            null
           ]
          },
          {
           "i": [
            0,
            3
           ],
           "j": [
            1,
            4
           ],
           "k": [
            2,
            5
           ],
           "name": "Faces",
           "type": "mesh3d",
           "x": {
            "bdata": "DC5lR54NLD/izOH70ADwP33RSyuEUig/FfX7S1Np0D86kjz34PHzP5/I6EXjis8/",
            "dtype": "f8"
           },
           "y": {
            "bdata": "cXXBn7t6LT+KxkvyXh0rP825nVXFAPA/JJ+GN7Jt0D/73cccZorPP3aXvv/C8PM/",
            "dtype": "f8"
           },
           "z": {
            "bdata": "KodnzWszwL+SWtPeKAO/vy4UAGo8Nb6/oT+fvaOrfL/yu80BJubGv3c33rOTS8e/",
            "dtype": "f8"
           }
          }
         ],
         "layout": {
          "annotations": [
           {
            "showarrow": false,
            "text": "Time: 0.81s (Step: 82/100)",
            "x": 0.05,
            "xref": "paper",
            "y": 0.95,
            "yref": "paper"
           }
          ]
         },
         "name": "81"
        },
        {
         "data": [
          {
           "name": "Free Nodes",
           "type": "scatter3d",
           "x": {
            "bdata": "N/no3YJiLD8HSzw71gDwP7VDg7m0+yg/jyT1wNZx0D+ZHtmEzfDzP6KMDXkPgs8/",
            "dtype": "f8"
           },
           "y": {
            "bdata": "vrFHRNLALT97m9uJQNorP3smvQLLAPA/VDUp12920D9BFasYj4HPP6nLMtag7/M/",
            "dtype": "f8"
           },
           "z": {
            "bdata": "9jEnaGF0wL9V9Cc3VKS/vxy3NVsu0b6/1yJ80zjQe79QY09KaG/Hv/LgcmRh18e/",
            "dtype": "f8"
           }
          },
          {
           "name": "Fixed Nodes",
           "type": "scatter3d",
           "x": [],
           "y": [],
           "z": []
          },
          {
           "name": "Edges",
           "type": "scatter3d",
           "x": [
            1.0002043069732183,
            0.00019060689078867284,
            null,
            0.00019060689078867284,
            0.00021655890937384025,
            null,
            0.00021655890937384025,
            1.0002043069732183,
            null,
            1.2462897481326876,
            0.24615662966525514,
            null,
            0.24615662966525514,
            0.2569481739379364,
            null,
            0.2569481739379364,
            1.2462897481326876,
            null
           ],
           "y": [
            0.00021249807189535258,
            1.0001936060893104,
            null,
            1.0001936060893104,
            0.00022699896557244569,
            null,
            0.00022699896557244569,
            0.00021249807189535258,
            null,
            0.24614132599359986,
            1.2460029952169214,
            null,
            1.2460029952169214,
            0.2572288132840488,
            null,
            0.2572288132840488,
            0.24614132599359986,
            null
           ],
           "z": [
            -0.12360121103843487,
            -0.1203793499641645,
            null,
            -0.1203793499641645,
            -0.1285516508636559,
            null,
            -0.1285516508636559,
            -0.12360121103843487,
            null,
            -0.18308738354132936,
            -0.18626038937305328,
            null,
            -0.18626038937305328,
            -0.006790372826579647,
            null,
            -0.006790372826579647,
            -0.18308738354132936,
            null
           ]
          },
          {
           "i": [
            0,
            3
           ],
           "j": [
            1,
            4
           ],
           "k": [
            2,
            5
           ],
           "name": "Faces",
           "type": "mesh3d",
           "x": {
            "bdata": "N/no3YJiLD8HSzw71gDwP7VDg7m0+yg/jyT1wNZx0D+ZHtmEzfDzP6KMDXkPgs8/",
            "dtype": "f8"
           },
           "y": {
            "bdata": "vrFHRNLALT97m9uJQNorP3smvQLLAPA/VDUp12920D9BFasYj4HPP6nLMtag7/M/",
            "dtype": "f8"
           },
           "z": {
            "bdata": "9jEnaGF0wL9V9Cc3VKS/vxy3NVsu0b6/1yJ80zjQe79QY09KaG/Hv/LgcmRh18e/",
            "dtype": "f8"
           }
          }
         ],
         "layout": {
          "annotations": [
           {
            "showarrow": false,
            "text": "Time: 0.82s (Step: 83/100)",
            "x": 0.05,
            "xref": "paper",
            "y": 0.95,
            "yref": "paper"
           }
          ]
         },
         "name": "82"
        },
        {
         "data": [
          {
           "name": "Free Nodes",
           "type": "scatter3d",
           "x": {
            "bdata": "k7RPr0K8LD9KQGZk2wDwP44D9B3Qoik/UJzzlZF60D9uaDc9s+/zP2jUGZYDec8/",
            "dtype": "f8"
           },
           "y": {
            "bdata": "X7355ZgKLj9vtj/6DJUsPyjjBaPQAPA/+spIRWZ/0D9lnYsCgHjPP+MVSHt37vM/",
            "dtype": "f8"
           },
           "z": {
            "bdata": "1iSt/1a1wL+C5ZLJvyLAv/WMNU8gbb+/8baOkgr6er/I6l7llfjHv8z8L90ZY8i/",
            "dtype": "f8"
           }
          },
          {
           "name": "Fixed Nodes",
           "type": "scatter3d",
           "x": [],
           "y": [],
           "z": []
          },
          {
           "name": "Edges",
           "type": "scatter3d",
           "x": [
            1.0002092286922726,
            0.00019558706751612555,
            null,
            0.00019558706751612555,
            0.00021923364661749888,
            null,
            0.00021923364661749888,
            1.0002092286922726,
            null,
            1.2460205451266364,
            0.24588055447717072,
            null,
            0.24588055447717072,
            0.25748099940978353,
            null,
            0.25748099940978353,
            1.2460205451266364,
            null
           ],
           "y": [
            0.00021806510369464261,
            1.000198971565803,
            null,
            1.000198971565803,
            0.00022919765887106488,
            null,
            0.00022919765887106488,
            0.00021806510369464261,
            null,
            0.24586486934934296,
            1.245719415253341,
            null,
            1.245719415253341,
            0.25777584806489495,
            null,
            0.25777584806489495,
            0.24586486934934296,
            null
           ],
           "z": [
            -0.12606046049567615,
            -0.12275888379877016,
            null,
            -0.12275888379877016,
            -0.13053405269810153,
            null,
            -0.13053405269810153,
            -0.12606046049567615,
            null,
            -0.18727372836823108,
            -0.190524323465047,
            null,
            -0.190524323465047,
            -0.006586114214696557,
            null,
            -0.006586114214696557,
            -0.18727372836823108,
            null
           ]
          },
          {
           "i": [
            0,
            3
           ],
           "j": [
            1,
            4
           ],
           "k": [
            2,
            5
           ],
           "name": "Faces",
           "type": "mesh3d",
           "x": {
            "bdata": "k7RPr0K8LD9KQGZk2wDwP44D9B3Qoik/UJzzlZF60D9uaDc9s+/zP2jUGZYDec8/",
            "dtype": "f8"
           },
           "y": {
            "bdata": "X7355ZgKLj9vtj/6DJUsPyjjBaPQAPA/+spIRWZ/0D9lnYsCgHjPP+MVSHt37vM/",
            "dtype": "f8"
           },
           "z": {
            "bdata": "1iSt/1a1wL+C5ZLJvyLAv/WMNU8gbb+/8baOkgr6er/I6l7llfjHv8z8L90ZY8i/",
            "dtype": "f8"
           }
          }
         ],
         "layout": {
          "annotations": [
           {
            "showarrow": false,
            "text": "Time: 0.83s (Step: 84/100)",
            "x": 0.05,
            "xref": "paper",
            "y": 0.95,
            "yref": "paper"
           }
          ]
         },
         "name": "83"
        },
        {
         "data": [
          {
           "name": "Free Nodes",
           "type": "scatter3d",
           "x": {
            "bdata": "viipvN0aLT8Hp1934ADwP8vFQljWRyo/iNKusYOD0D96YXEjku7zP4clz7a/b88/",
            "dtype": "f8"
           },
           "y": {
            "bdata": "VKoshg9YLj8N/J1CxE0tP/3rdzbWAPA/W3+hZ5WI0D/czzD0OG/PPySDVvJG7fM/",
            "dtype": "f8"
           },
           "z": {
            "bdata": "v083lEz2wL9eNkN5VXPAv9kT5SKJBMC/k/+qYTkper8buf5SroHIvyeE3Jq87si/",
            "dtype": "f8"
           }
          },
          {
           "name": "Fixed Nodes",
           "type": "scatter3d",
           "x": [],
           "y": [],
           "z": []
          },
          {
           "name": "Edges",
           "type": "scatter3d",
           "x": [
            1.0002140677483469,
            0.00020050517571727623,
            null,
            0.00020050517571727623,
            0.0002220531153674428,
            null,
            0.0002220531153674428,
            1.0002140677483469,
            null,
            1.245744837235263,
            0.24559780527333094,
            null,
            0.24559780527333094,
            0.25802700378270815,
            null,
            0.25802700378270815,
            1.245744837235263,
            null
           ],
           "y": [
            0.00022357006792714275,
            1.0002042892144793,
            null,
            1.0002042892144793,
            0.0002315062475529312,
            null,
            0.0002315062475529312,
            0.00022357006792714275,
            null,
            0.24558174060223237,
            1.2454289881063199,
            null,
            1.2454289881063199,
            0.25833640213203574,
            null,
            0.25833640213203574,
            0.24558174060223237,
            null
           ],
           "z": [
            -0.12851971074126117,
            -0.12513841823434182,
            null,
            -0.12513841823434182,
            -0.13251645314323743,
            null,
            -0.13251645314323743,
            -0.12851971074126117,
            null,
            -0.19145754864207096,
            -0.19478566705314046,
            null,
            -0.19478566705314046,
            -0.006386970659775576,
            null,
            -0.006386970659775576,
            -0.19145754864207096,
            null
           ]
          },
          {
           "i": [
            0,
            3
           ],
           "j": [
            1,
            4
           ],
           "k": [
            2,
            5
           ],
           "name": "Faces",
           "type": "mesh3d",
           "x": {
            "bdata": "viipvN0aLT8Hp1934ADwP8vFQljWRyo/iNKusYOD0D96YXEjku7zP4clz7a/b88/",
            "dtype": "f8"
           },
           "y": {
            "bdata": "VKoshg9YLj8N/J1CxE0tP/3rdzbWAPA/W3+hZ5WI0D/czzD0OG/PPySDVvJG7fM/",
            "dtype": "f8"
           },
           "z": {
            "bdata": "v083lEz2wL9eNkN5VXPAv9kT5SKJBMC/k/+qYTkper8buf5SroHIvyeE3Jq87si/",
            "dtype": "f8"
           }
          }
         ],
         "layout": {
          "annotations": [
           {
            "showarrow": false,
            "text": "Time: 0.84s (Step: 85/100)",
            "x": 0.05,
            "xref": "paper",
            "y": 0.95,
            "yref": "paper"
           }
          ]
         },
         "name": "84"
        },
        {
         "data": [
          {
           "name": "Free Nodes",
           "type": "scatter3d",
           "x": {
            "bdata": "OzjkBlR+LT81eih05QDwPw7KIWjH6io/XMFL+qyM0D9h9LI6au3zP5I2hPVDZs8/",
            "dtype": "f8"
           },
           "y": {
            "bdata": "q9MfJjapLj+52yliZgQuP2M9E73bAPA/TTNXI/2R0D/De/cHumXPP1OByT4P7PM/",
            "dtype": "f8"
           },
           "z": {
            "bdata": "sKIDJkI3wb/Es4Eq68PAv6YMXx+CUsC/8EeAl+Vdeb+a5G8TsQrJv1nmgRpJesm/",
            "dtype": "f8"
           }
          },
          {
           "name": "Fixed Nodes",
           "type": "scatter3d",
           "x": [],
           "y": [],
           "z": []
          },
          {
           "name": "Edges",
           "type": "scatter3d",
           "x": [
            1.000218824141155,
            0.00020536121525401057,
            null,
            0.00020536121525401057,
            0.00022501731604801671,
            null,
            0.00022501731604801671,
            1.000218824141155,
            null,
            1.2454626362735086,
            0.24530839431865964,
            null,
            0.24530839431865964,
            0.25858616297684534,
            null,
            0.25858616297684534,
            1.2454626362735086,
            null
           ],
           "y": [
            0.00022901296422947278,
            1.0002095590351352,
            null,
            1.0002095590351352,
            0.0002339247321853343,
            null,
            0.0002339247321853343,
            0.00022901296422947278,
            null,
            0.24529195202828022,
            1.2451317265150308,
            null,
            1.2451317265150308,
            0.258910450470286,
            null,
            0.258910450470286,
            0.24529195202828022,
            null
           ],
           "z": [
            -0.13097896171112045,
            -0.12751795322228537,
            null,
            -0.12751795322228537,
            -0.1344988523117272,
            null,
            -0.1344988523117272,
            -0.13097896171112045,
            null,
            -0.19563878487659708,
            -0.19904435915286703,
            null,
            -0.19904435915286703,
            -0.0061930626325352595,
            null,
            -0.0061930626325352595,
            -0.19563878487659708,
            null
           ]
          },
          {
           "i": [
            0,
            3
           ],
           "j": [
            1,
            4
           ],
           "k": [
            2,
            5
           ],
           "name": "Faces",
           "type": "mesh3d",
           "x": {
            "bdata": "OzjkBlR+LT81eih05QDwPw7KIWjH6io/XMFL+qyM0D9h9LI6au3zP5I2hPVDZs8/",
            "dtype": "f8"
           },
           "y": {
            "bdata": "q9MfJjapLj+52yliZgQuP2M9E73bAPA/TTNXI/2R0D/De/cHumXPP1OByT4P7PM/",
            "dtype": "f8"
           },
           "z": {
            "bdata": "sKIDJkI3wb/Es4Eq68PAv6YMXx+CUsC/8EeAl+Vdeb+a5G8TsQrJv1nmgRpJesm/",
            "dtype": "f8"
           }
          }
         ],
         "layout": {
          "annotations": [
           {
            "showarrow": false,
            "text": "Time: 0.85s (Step: 86/100)",
            "x": 0.05,
            "xref": "paper",
            "y": 0.95,
            "yref": "paper"
           }
          ]
         },
         "name": "85"
        },
        {
         "data": [
          {
           "name": "Free Nodes",
           "type": "scatter3d",
           "x": {
            "bdata": "Yw3PjqXmLT9otcBa6gDwP+JyUE2jiys/GzddVQ2W0D8a+zmGO+zzPzqbJG2QXM8/",
            "dtype": "f8"
           },
           "y": {
            "bdata": "rQn9xgz+Lj+m5yNY87guPwfU1zbhAPA/29z1XJ2b0D8XltFYA1zPP03UH2TQ6vM/",
            "dtype": "f8"
           },
           "z": {
            "bdata": "sQ1QtTd4wb+wJCvdgBTBv9357Rx7oMC/M0hDei+YeL8UgDOnnZPJv9Fqbdm+Bcq/",
            "dtype": "f8"
           }
          },
          {
           "name": "Fixed Nodes",
           "type": "scatter3d",
           "x": [],
           "y": [],
           "z": []
          },
          {
           "name": "Edges",
           "type": "scatter3d",
           "x": [
            1.0002234978704454,
            0.00021015518601154916,
            null,
            0.00021015518601154916,
            0.00022812624902544395,
            null,
            0.00022812624902544395,
            1.0002234978704454,
            null,
            1.2451739543173006,
            0.2450123341488622,
            null,
            0.2450123341488622,
            0.2591584523805623,
            null,
            0.2591584523805623,
            1.2451739543173006,
            null
           ],
           "y": [
            0.00023439379226158663,
            1.0002147810275817,
            null,
            1.0002147810275817,
            0.00023645311329729743,
            null,
            0.00023645311329729743,
            0.00023439379226158663,
            null,
            0.24499551617479717,
            1.2448276435000196,
            null,
            1.2448276435000196,
            0.25949796751178916,
            null,
            0.25949796751178916,
            0.24499551617479717,
            null
           ],
           "z": [
            -0.13343821334118422,
            -0.12989748871400666,
            null,
            -0.12989748871400666,
            -0.13648125031623473,
            null,
            -0.13648125031623473,
            -0.13343821334118422,
            null,
            -0.19981737770194796,
            -0.20330033890316782,
            null,
            -0.20330033890316782,
            -0.006004510363895976,
            null,
            -0.006004510363895976,
            -0.19981737770194796,
            null
           ]
          },
          {
           "i": [
            0,
            3
           ],
           "j": [
            1,
            4
           ],
           "k": [
            2,
            5
           ],
           "name": "Faces",
           "type": "mesh3d",
           "x": {
            "bdata": "Yw3PjqXmLT9otcBa6gDwP+JyUE2jiys/GzddVQ2W0D8a+zmGO+zzPzqbJG2QXM8/",
            "dtype": "f8"
           },
           "y": {
            "bdata": "rQn9xgz+Lj+m5yNY87guPwfU1zbhAPA/29z1XJ2b0D8XltFYA1zPP03UH2TQ6vM/",
            "dtype": "f8"
           },
           "z": {
            "bdata": "sQ1QtTd4wb+wJCvdgBTBv9357Rx7oMC/M0hDei+YeL8UgDOnnZPJv9Fqbdm+Bcq/",
            "dtype": "f8"
           }
          }
         ],
         "layout": {
          "annotations": [
           {
            "showarrow": false,
            "text": "Time: 0.86s (Step: 87/100)",
            "x": 0.05,
            "xref": "paper",
            "y": 0.95,
            "yref": "paper"
           }
          ]
         },
         "name": "86"
        },
        {
         "data": [
          {
           "name": "Free Nodes",
           "type": "scatter3d",
           "x": {
            "bdata": "8RcXVdJTLj/SVCgr7wDwPxMPmwdqKiw/0Sfkp6Sf0D84NVYJBuvzP81uMDmlUs8/",
            "dtype": "f8"
           },
           "y": {
            "bdata": "9K3YaZNWLz81ntkja2svP9qsxaPmAPA/otxx+HWl0D9f6EUCFVLPP7qK62WK6fM/",
            "dtype": "f8"
           },
           "z": {
            "bdata": "0YBaQi25wb8YUByRFmXBv3kkdxt07sC/tH9YPzfYd78Q5wuPcxzKvw6SMVUdkcq/",
            "dtype": "f8"
           }
          },
          {
           "name": "Fixed Nodes",
           "type": "scatter3d",
           "x": [],
           "y": [],
           "z": []
          },
          {
           "name": "Edges",
           "type": "scatter3d",
           "x": [
            1.000228088936002,
            0.00021488708789806822,
            null,
            0.00021488708789806822,
            0.00023137991460780953,
            null,
            0.00023137991460780953,
            1.000228088936002,
            null,
            1.244878803703001,
            0.24470963756981803,
            null,
            0.24470963756981803,
            0.2597438468516176,
            null,
            0.2597438468516176,
            1.244878803703001,
            null
           ],
           "y": [
            0.00023971255170639338,
            1.0002199551916449,
            null,
            1.0002199551916449,
            0.00023909139137977232,
            null,
            0.00023909139137977232,
            0.00023971255170639338,
            null,
            0.2446924458598145,
            1.24451675236257,
            null,
            1.24451675236257,
            0.2600989271372304,
            null,
            0.2600989271372304,
            0.2446924458598145,
            null
           ],
           "z": [
            -0.13589746556738258,
            -0.13227702466091154,
            null,
            -0.13227702466091154,
            -0.1384636472694241,
            null,
            -0.1384636472694241,
            -0.13589746556738258,
            null,
            -0.2039932678670131,
            -0.20755354556889966,
            null,
            -0.20755354556889966,
            -0.0058214338401114014,
            null,
            -0.0058214338401114014,
            -0.2039932678670131,
            null
           ]
          },
          {
           "i": [
            0,
            3
           ],
           "j": [
            1,
            4
           ],
           "k": [
            2,
            5
           ],
           "name": "Faces",
           "type": "mesh3d",
           "x": {
            "bdata": "8RcXVdJTLj/SVCgr7wDwPxMPmwdqKiw/0Sfkp6Sf0D84NVYJBuvzP81uMDmlUs8/",
            "dtype": "f8"
           },
           "y": {
            "bdata": "9K3YaZNWLz81ntkja2svP9qsxaPmAPA/otxx+HWl0D9f6EUCFVLPP7qK62WK6fM/",
            "dtype": "f8"
           },
           "z": {
            "bdata": "0YBaQi25wb8YUByRFmXBv3kkdxt07sC/tH9YPzfYd78Q5wuPcxzKvw6SMVUdkcq/",
            "dtype": "f8"
           }
          }
         ],
         "layout": {
          "annotations": [
           {
            "showarrow": false,
            "text": "Time: 0.87s (Step: 88/100)",
            "x": 0.05,
            "xref": "paper",
            "y": 0.95,
            "yref": "paper"
           }
          ]
         },
         "name": "87"
        },
        {
         "data": [
          {
           "name": "Free Nodes",
           "type": "scatter3d",
           "x": {
            "bdata": "wJpIWtrFLj9CVV/l8wDwP3Nm25Ybxyw/ZgBQ1nKp0D8CPmnHyenzP0D9u3WCSM8/",
            "dtype": "f8"
           },
           "y": {
            "bdata": "FkixD8qyLz9f+1Li5g0wPxDF3APsAPA/llQo2Yav0D/8vW8g70fPP7Hy0Uc96PM/",
            "dtype": "f8"
           },
           "z": {
            "bdata": "JexgzSL6wb/r/DFGrLXBv3bV3xptPMG/7ML+Ch0ed789Cf5LMqXKv7x1pwtkHMu/",
            "dtype": "f8"
           }
          },
          {
           "name": "Fixed Nodes",
           "type": "scatter3d",
           "x": [],
           "y": [],
           "z": []
          },
          {
           "name": "Edges",
           "type": "scatter3d",
           "x": [
            1.0002325973376434,
            0.00021955692084567636,
            null,
            0.00021955692084567636,
            0.00023477831304426731,
            null,
            0.00023477831304426731,
            1.0002325973376434,
            null,
            1.2445771970268429,
            0.24440031765696268,
            null,
            0.24440031765696268,
            0.2603423207183425,
            null,
            0.2603423207183425,
            1.2445771970268429,
            null
           ],
           "y": [
            0.00024496924227073407,
            1.0002250815271658,
            null,
            1.0002250815271658,
            0.00024183956688489443,
            null,
            0.00024183956688489443,
            0.00024496924227073407,
            null,
            0.24438275417149657,
            1.2441990666840577,
            null,
            1.2441990666840577,
            0.2607133026770695,
            null,
            0.2607133026770695,
            0.24438275417149657,
            null
           ],
           "z": [
            -0.13835671832564542,
            -0.13465656101440587,
            null,
            -0.13465656101440587,
            -0.14044604328395952,
            null,
            -0.14044604328395952,
            -0.13835671832564542,
            null,
            -0.20816639624178804,
            -0.21180391854333702,
            null,
            -0.21180391854333702,
            -0.005643952797911505,
            null,
            -0.005643952797911505,
            -0.20816639624178804,
            null
           ]
          },
          {
           "i": [
            0,
            3
           ],
           "j": [
            1,
            4
           ],
           "k": [
            2,
            5
           ],
           "name": "Faces",
           "type": "mesh3d",
           "x": {
            "bdata": "wJpIWtrFLj9CVV/l8wDwP3Nm25Ybxyw/ZgBQ1nKp0D8CPmnHyenzP0D9u3WCSM8/",
            "dtype": "f8"
           },
           "y": {
            "bdata": "FkixD8qyLz9f+1Li5g0wPxDF3APsAPA/llQo2Yav0D/8vW8g70fPP7Hy0Uc96PM/",
            "dtype": "f8"
           },
           "z": {
            "bdata": "JexgzSL6wb/r/DFGrLXBv3bV3xptPMG/7ML+Ch0ed789Cf5LMqXKv7x1pwtkHMu/",
            "dtype": "f8"
           }
          }
         ],
         "layout": {
          "annotations": [
           {
            "showarrow": false,
            "text": "Time: 0.88s (Step: 89/100)",
            "x": 0.05,
            "xref": "paper",
            "y": 0.95,
            "yref": "paper"
           }
          ]
         },
         "name": "88"
        },
        {
         "data": [
          {
           "name": "Free Nodes",
           "type": "scatter3d",
           "x": {
            "bdata": "gifPnr08Lz8ltGWJ+ADwP+ZQ+Pq3YS0/RPt+xHez0D9igubDhujzP3Fqbz8oPs8/",
            "dtype": "f8"
           },
           "y": {
            "bdata": "YwO4XFgJMD9UfPicDWUwPyAaHVfxAPA/dYDf4c+50D/Fj/7PkT3PPyiOiw3p5vM/",
            "dtype": "f8"
           },
           "z": {
            "bdata": "xj+hVhg7wr8T8kj8QQbCv9FVDRtmisG/rAH67wBqdr8XtVJf2S3Lv+En8HqSp8u/",
            "dtype": "f8"
           }
          },
          {
           "name": "Fixed Nodes",
           "type": "scatter3d",
           "x": [],
           "y": [],
           "z": []
          },
          {
           "name": "Edges",
           "type": "scatter3d",
           "x": [
            1.000237023075223,
            0.00022416468480968634,
            null,
            0.00022416468480968634,
            0.00023832144452589846,
            null,
            0.00023832144452589846,
            1.000237023075223,
            null,
            1.2442691471443585,
            0.24408438775465727,
            null,
            0.24408438775465727,
            0.26095384778084374,
            null,
            0.26095384778084374,
            1.2442691471443585,
            null
           ],
           "y": [
            0.0002501638636846538,
            1.0002301600340004,
            null,
            1.0002301600340004,
            0.00024469764022687894,
            null,
            0.00024469764022687894,
            0.0002501638636846538,
            null,
            0.2440664544675412,
            1.2438746003252934,
            null,
            1.2438746003252934,
            0.26134106691279807,
            null,
            0.26134106691279807,
            0.2440664544675412,
            null
           ],
           "z": [
            -0.14081597155190248,
            -0.13703609772589556,
            null,
            -0.13703609772589556,
            -0.14242843847250536,
            null,
            -0.14242843847250536,
            -0.14081597155190248,
            null,
            -0.21233670381972367,
            -0.21605139735066728,
            null,
            -0.21605139735066728,
            -0.005472186719658028,
            null,
            -0.005472186719658028,
            -0.21233670381972367,
            null
           ]
          },
          {
           "i": [
            0,
            3
           ],
           "j": [
            1,
            4
           ],
           "k": [
            2,
            5
           ],
           "name": "Faces",
           "type": "mesh3d",
           "x": {
            "bdata": "gifPnr08Lz8ltGWJ+ADwP+ZQ+Pq3YS0/RPt+xHez0D9igubDhujzP3Fqbz8oPs8/",
            "dtype": "f8"
           },
           "y": {
            "bdata": "YwO4XFgJMD9UfPicDWUwPyAaHVfxAPA/dYDf4c+50D/Fj/7PkT3PPyiOiw3p5vM/",
            "dtype": "f8"
           },
           "z": {
            "bdata": "xj+hVhg7wr8T8kj8QQbCv9FVDRtmisG/rAH67wBqdr8XtVJf2S3Lv+En8HqSp8u/",
            "dtype": "f8"
           }
          }
         ],
         "layout": {
          "annotations": [
           {
            "showarrow": false,
            "text": "Time: 0.89s (Step: 90/100)",
            "x": 0.05,
            "xref": "paper",
            "y": 0.95,
            "yref": "paper"
           }
          ]
         },
         "name": "89"
        },
        {
         "data": [
          {
           "name": "Free Nodes",
           "type": "scatter3d",
           "x": {
            "bdata": "9Ib1Iny4Lz+FbzsX/QDwP57L5TM/+i0/fXa+VbO90D+eNlMCPefzPw5YhrOWM88/",
            "dtype": "f8"
           },
           "y": {
            "bdata": "LEb0syM7MD9T6JfBKbswP8Ophp32APA/vw/H9FDE0D9frjUu/TLPPyoH5LqN5fM/",
            "dtype": "f8"
           },
           "z": {
            "bdata": "z2tZ3g18wr929j2z11bCv4nu5Btf2MG/50M+7wK8db+/4ZdKaLbLvxwRdiGoMsy/",
            "dtype": "f8"
           }
          },
          {
           "name": "Fixed Nodes",
           "type": "scatter3d",
           "x": [],
           "y": [],
           "z": []
          },
          {
           "name": "Edges",
           "type": "scatter3d",
           "x": [
            1.0002413661486298,
            0.00022871037976876241,
            null,
            0.00022871037976876241,
            0.00024200930918554626,
            null,
            0.00024200930918554626,
            1.0002413661486298,
            null,
            1.243954667169795,
            0.2437618614755483,
            null,
            0.2437618614755483,
            0.2615784013122278,
            null,
            0.2615784013122278,
            1.243954667169795,
            null
           ],
           "y": [
            0.0002552964157015492,
            1.0002351907120193,
            null,
            1.0002351907120193,
            0.0002476656117816635,
            null,
            0.0002476656117816635,
            0.0002552964157015492,
            null,
            0.24374356037457098,
            1.2435433674258527,
            null,
            1.2435433674258527,
            0.2619821920782179,
            null,
            0.2619821920782179,
            0.24374356037457098,
            null
           ],
           "z": [
            -0.1432752251820834,
            -0.13941563474678656,
            null,
            -0.13941563474678656,
            -0.14441083294772603,
            null,
            -0.14441083294772603,
            -0.1432752251820834,
            null,
            -0.21650413172006996,
            -0.22029592164847933,
            null,
            -0.22029592164847933,
            -0.005306254828512081,
            null,
            -0.005306254828512081,
            -0.21650413172006996,
            null
           ]
          },
          {
           "i": [
            0,
            3
           ],
           "j": [
            1,
            4
           ],
           "k": [
            2,
            5
           ],
           "name": "Faces",
           "type": "mesh3d",
           "x": {
            "bdata": "9Ib1Iny4Lz+FbzsX/QDwP57L5TM/+i0/fXa+VbO90D+eNlMCPefzPw5YhrOWM88/",
            "dtype": "f8"
           },
           "y": {
            "bdata": "LEb0syM7MD9T6JfBKbswP8Ophp32APA/vw/H9FDE0D9frjUu/TLPPyoH5LqN5fM/",
            "dtype": "f8"
           },
           "z": {
            "bdata": "z2tZ3g18wr929j2z11bCv4nu5Btf2MG/50M+7wK8db+/4ZdKaLbLvxwRdiGoMsy/",
            "dtype": "f8"
           }
          }
         ],
         "layout": {
          "annotations": [
           {
            "showarrow": false,
            "text": "Time: 0.90s (Step: 91/100)",
            "x": 0.05,
            "xref": "paper",
            "y": 0.95,
            "yref": "paper"
           }
          ]
         },
         "name": "90"
        },
        {
         "data": [
          {
           "name": "Free Nodes",
           "type": "scatter3d",
           "x": {
            "bdata": "6s5y84ocMD8IhuCOAQHwP8IppUGxkC4/WUvLbCXI0D/vS0aG7OXzP8CJz+/NKM8/",
            "dtype": "f8"
           },
           "y": {
            "bdata": "cFfsDcduMD+zgPJPOxAxP/ZxGdf7APA/MYF48wnP0D/w6utYMSjPP+MjulMr5PM/",
            "dtype": "f8"
           },
           "z": {
            "bdata": "XWDHZAO9wr/30O1qbafCv57oSx1YJsK/7tya90IUdb8K+KGP3j7Mv/1N7n2kvcy/",
            "dtype": "f8"
           }
          },
          {
           "name": "Fixed Nodes",
           "type": "scatter3d",
           "x": [],
           "y": [],
           "z": []
          },
          {
           "name": "Edges",
           "type": "scatter3d",
           "x": [
            1.0002456265577866,
            0.00023319400572525793,
            null,
            0.00023319400572525793,
            0.00024584190709762857,
            null,
            0.00024584190709762857,
            1.0002456265577866,
            null,
            1.2436337704755223,
            0.24343275269991516,
            null,
            0.24343275269991516,
            0.26221595405984527,
            null,
            0.26221595405984527,
            1.2436337704755223,
            null
           ],
           "y": [
            0.00026036689809850604,
            1.000240173561108,
            null,
            1.000240173561108,
            0.0002507434818864651,
            null,
            0.0002507434818864651,
            0.00026036689809850604,
            null,
            0.2434140857875131,
            1.2432053824033964,
            null,
            1.2432053824033964,
            0.2626366498607409,
            null,
            0.2626366498607409,
            0.2434140857875131,
            null
           ],
           "z": [
            -0.14573447915211776,
            -0.14179517202848485,
            null,
            -0.14179517202848485,
            -0.14639322682228598,
            null,
            -0.14639322682228598,
            -0.14573447915211776,
            null,
            -0.22066862119021408,
            -0.22453743123024586,
            null,
            -0.22453743123024586,
            -0.005146276083613828,
            null,
            -0.005146276083613828,
            -0.22066862119021408,
            null
           ]
          },
          {
           "i": [
            0,
            3
           ],
           "j": [
            1,
            4
           ],
           "k": [
            2,
            5
           ],
           "name": "Faces",
           "type": "mesh3d",
           "x": {
            "bdata": "6s5y84ocMD8IhuCOAQHwP8IppUGxkC4/WUvLbCXI0D/vS0aG7OXzP8CJz+/NKM8/",
            "dtype": "f8"
           },
           "y": {
            "bdata": "cFfsDcduMD+zgPJPOxAxP/ZxGdf7APA/MYF48wnP0D/w6utYMSjPP+MjulMr5PM/",
            "dtype": "f8"
           },
           "z": {
            "bdata": "XWDHZAO9wr/30O1qbafCv57oSx1YJsK/7tya90IUdb8K+KGP3j7Mv/1N7n2kvcy/",
            "dtype": "f8"
           }
          }
         ],
         "layout": {
          "annotations": [
           {
            "showarrow": false,
            "text": "Time: 0.91s (Step: 92/100)",
            "x": 0.05,
            "xref": "paper",
            "y": 0.95,
            "yref": "paper"
           }
          ]
         },
         "name": "91"
        },
        {
         "data": [
          {
           "name": "Free Nodes",
           "type": "scatter3d",
           "x": {
            "bdata": "bkpUdUVfMD/09lTwBQHwP+yMRCQOJS8/YifS683S0D/iZWhTleTzPwyIrBLOHc8/",
            "dtype": "f8"
           },
           "y": {
            "bdata": "2Wn0akKkMD8M7s9HQmQxP/xw1QMBAfA/0X/3vvrZ0D+bPotuLh3PP226/9vB4vM/",
            "dtype": "f8"
           },
           "z": {
            "bdata": "jA0p6vj9wr93SDUjA/jCvxONJx9RdMK/q9dl5eBydL/CGo2wO8fMv2MLWg+HSM2/",
            "dtype": "f8"
           }
          },
          {
           "name": "Fixed Nodes",
           "type": "scatter3d",
           "x": [],
           "y": [],
           "z": []
          },
          {
           "name": "Edges",
           "type": "scatter3d",
           "x": [
            1.0002498043026522,
            0.00023761556270427504,
            null,
            0.00023761556270427504,
            0.0002498192382784152,
            null,
            0.0002498192382784152,
            1.0002498043026522,
            null,
            1.2433064706914299,
            0.24309707557500848,
            null,
            0.24309707557500848,
            0.26286647824655607,
            null,
            0.26286647824655607,
            1.2433064706914299,
            null
           ],
           "y": [
            0.00026537531067535934,
            1.0002451085811677,
            null,
            1.0002451085811677,
            0.0002539312508404147,
            null,
            0.0002539312508404147,
            0.00026537531067535934,
            null,
            0.2430780448689703,
            1.2428606599529772,
            null,
            1.2428606599529772,
            0.2633044114027117,
            null,
            0.2633044114027117,
            0.2430780448689703,
            null
           ],
           "z": [
            -0.14819373339793504,
            -0.1441747095223965,
            null,
            -0.1441747095223965,
            -0.14837562020884965,
            null,
            -0.14837562020884965,
            -0.14819373339793504,
            null,
            -0.2248301136080127,
            -0.22877586602779862,
            null,
            -0.22877586602779862,
            -0.0049923691752748285,
            null,
            -0.0049923691752748285,
            -0.2248301136080127,
            null
           ]
          },
          {
           "i": [
            0,
            3
           ],
           "j": [
            1,
            4
           ],
           "k": [
            2,
            5
           ],
           "name": "Faces",
           "type": "mesh3d",
           "x": {
            "bdata": "bkpUdUVfMD/09lTwBQHwP+yMRCQOJS8/YifS683S0D/iZWhTleTzPwyIrBLOHc8/",
            "dtype": "f8"
           },
           "y": {
            "bdata": "2Wn0akKkMD8M7s9HQmQxP/xw1QMBAfA/0X/3vvrZ0D+bPotuLh3PP226/9vB4vM/",
            "dtype": "f8"
           },
           "z": {
            "bdata": "jA0p6vj9wr93SDUjA/jCvxONJx9RdMK/q9dl5eBydL/CGo2wO8fMv2MLWg+HSM2/",
            "dtype": "f8"
           }
          }
         ],
         "layout": {
          "annotations": [
           {
            "showarrow": false,
            "text": "Time: 0.92s (Step: 93/100)",
            "x": 0.05,
            "xref": "paper",
            "y": 0.95,
            "yref": "paper"
           }
          ]
         },
         "name": "92"
        },
        {
         "data": [
          {
           "name": "Free Nodes",
           "type": "scatter3d",
           "x": {
            "bdata": "b2ITl22kMD8pwpg7CgHwP4CY39tVty8/CudvtKzd0D+Sz3NtN+PzPy1BETuXEs8/",
            "dtype": "f8"
           },
           "y": {
            "bdata": "W/1Vy5XbMD/jmf6oPrcxP1aluiMGAfA/qUGyNyPl0D8NcBCO9BHPP3CkuVdR4fM/",
            "dtype": "f8"
           },
           "z": {
            "bdata": "dmO8bu4+w7/WI/HbmEjDv+4kXSFKwsK/YaAngvzXc7//bb4vf0/Nv9ThB1VP082/",
            "dtype": "f8"
           }
          },
          {
           "name": "Fixed Nodes",
           "type": "scatter3d",
           "x": [],
           "y": [],
           "z": []
          },
          {
           "name": "Edges",
           "type": "scatter3d",
           "x": [
            1.0002538993832195,
            0.00024197505075490913,
            null,
            0.00024197505075490913,
            0.0002539413026858899,
            null,
            0.0002539413026858899,
            1.0002538993832195,
            null,
            1.2429727817043141,
            0.24275484451437404,
            null,
            0.24275484451437404,
            0.2635299455720178,
            null,
            0.2635299455720178,
            1.2429727817043141,
            null
           ],
           "y": [
            0.0002703216532559378,
            1.0002499957721134,
            null,
            1.0002499957721134,
            0.0002572289189046361,
            null,
            0.0002572289189046361,
            0.0002703216532559378,
            null,
            0.2427354520485782,
            1.2425092150463364,
            null,
            1.2425092150463364,
            0.2639854473027535,
            null,
            0.2639854473027535,
            0.2427354520485782,
            null
           ],
           "z": [
            -0.15065298785546472,
            -0.14655424717992765,
            null,
            -0.14655424717992765,
            -0.1503580132200814,
            null,
            -0.1503580132200814,
            -0.15065298785546472,
            null,
            -0.228988550484118,
            -0.23301116611379646,
            null,
            -0.23301116611379646,
            -0.0048446525201840404,
            null,
            -0.0048446525201840404,
            -0.228988550484118,
            null
           ]
          },
          {
           "i": [
            0,
            3
           ],
           "j": [
            1,
            4
           ],
           "k": [
            2,
            5
           ],
           "name": "Faces",
           "type": "mesh3d",
           "x": {
            "bdata": "b2ITl22kMD8pwpg7CgHwP4CY39tVty8/CudvtKzd0D+Sz3NtN+PzPy1BETuXEs8/",
            "dtype": "f8"
           },
           "y": {
            "bdata": "W/1Vy5XbMD/jmf6oPrcxP1aluiMGAfA/qUGyNyPl0D8NcBCO9BHPP3CkuVdR4fM/",
            "dtype": "f8"
           },
           "z": {
            "bdata": "dmO8bu4+w7/WI/HbmEjDv+4kXSFKwsK/YaAngvzXc7//bb4vf0/Nv9ThB1VP082/",
            "dtype": "f8"
           }
          }
         ],
         "layout": {
          "annotations": [
           {
            "showarrow": false,
            "text": "Time: 0.93s (Step: 94/100)",
            "x": 0.05,
            "xref": "paper",
            "y": 0.95,
            "yref": "paper"
           }
          ]
         },
         "name": "93"
        },
        {
         "data": [
          {
           "name": "Free Nodes",
           "type": "scatter3d",
           "x": {
            "bdata": "MauTWAPsMD8o6KtwDgHwP49+TzTEIzA/nPGxp8Ho0D+zcDTY0uHzP/Kog4gpB88/",
            "dtype": "f8"
           },
           "y": {
            "bdata": "45ZPL8EUMT9odFNzMAkyP80NyTYLAfA/xOeBPYPw0D8juArXgwbPP46y/8rZ3/M/",
            "dtype": "f8"
           },
           "z": {
            "bdata": "MlK/8uN/w7/zKf6ULpnDvzn50SNDEMO/JuJGhLVDc7/AXeWPqNfNv/kvlc78Xc6/",
            "dtype": "f8"
           }
          },
          {
           "name": "Fixed Nodes",
           "type": "scatter3d",
           "x": [],
           "y": [],
           "z": []
          },
          {
           "name": "Edges",
           "type": "scatter3d",
           "x": [
            1.0002579117995172,
            0.00024627246994944006,
            null,
            0.00024627246994944006,
            0.0002582081002190816,
            null,
            0.0002582081002190816,
            1.0002579117995172,
            null,
            1.2426327176572556,
            0.2424060741971697,
            null,
            0.2424060741971697,
            0.2642063272139923,
            null,
            0.2642063272139923,
            1.2426327176572556,
            null
           ],
           "y": [
            0.0002752059256872553,
            1.000254835133876,
            null,
            1.000254835133876,
            0.00026063648630124235,
            null,
            0.00026063648630124235,
            0.0002752059256872553,
            null,
            0.2423863220223562,
            1.2421510629311885,
            null,
            1.2421510629311885,
            0.2646797276171322,
            null,
            0.2646797276171322,
            0.2423863220223562,
            null
           ],
           "z": [
            -0.15311224246063623,
            -0.14893378495248458,
            null,
            -0.14893378495248458,
            -0.15234040596864556,
            null,
            -0.15234040596864556,
            -0.15311224246063623,
            null,
            -0.23314387346429832,
            -0.23724327170418727,
            null,
            -0.23724327170418727,
            -0.004703244256625305,
            null,
            -0.004703244256625305,
            -0.23314387346429832,
            null
           ]
          },
          {
           "i": [
            0,
            3
           ],
           "j": [
            1,
            4
           ],
           "k": [
            2,
            5
           ],
           "name": "Faces",
           "type": "mesh3d",
           "x": {
            "bdata": "MauTWAPsMD8o6KtwDgHwP49+TzTEIzA/nPGxp8Ho0D+zcDTY0uHzP/Kog4gpB88/",
            "dtype": "f8"
           },
           "y": {
            "bdata": "45ZPL8EUMT9odFNzMAkyP80NyTYLAfA/xOeBPYPw0D8juArXgwbPP46y/8rZ3/M/",
            "dtype": "f8"
           },
           "z": {
            "bdata": "MlK/8uN/w7/zKf6ULpnDvzn50SNDEMO/JuJGhLVDc7/AXeWPqNfNv/kvlc78Xc6/",
            "dtype": "f8"
           }
          }
         ],
         "layout": {
          "annotations": [
           {
            "showarrow": false,
            "text": "Time: 0.94s (Step: 95/100)",
            "x": 0.05,
            "xref": "paper",
            "y": 0.95,
            "yref": "paper"
           }
          ]
         },
         "name": "94"
        },
        {
         "data": [
          {
           "name": "Free Nodes",
           "type": "scatter3d",
           "x": {
            "bdata": "34eouQY2MT8Mao6PEgHwP1hGXOXSajA/xpYWpgz00D9vwoeXZ+DzP6xWGxuF+84/",
            "dtype": "f8"
           },
           "y": {
            "bdata": "HikVl8RPMT9+/qmmF1oyP2mpAD0QAfA/AuCqrxr80D+1ZJtp3PrOP5Sf/Dlb3vM/",
            "dtype": "f8"
           },
           "z": {
            "bdata": "0slvdtnAw7+vITlOxOnDvwFTayY8XsO/U6a0jiu2cr+W4/xTt1/Ov/Zz7/uO6M6/",
            "dtype": "f8"
           }
          },
          {
           "name": "Fixed Nodes",
           "type": "scatter3d",
           "x": [],
           "y": [],
           "z": []
          },
          {
           "name": "Edges",
           "type": "scatter3d",
           "x": [
            1.000261841551608,
            0.0002505078203834713,
            null,
            0.0002505078203834713,
            0.00026261963071949433,
            null,
            0.00026261963071949433,
            1.000261841551608,
            null,
            1.2422862929489857,
            0.24205077956746857,
            null,
            0.24205077956746857,
            0.26489559382967476,
            null,
            0.26489559382967476,
            1.2422862929489857,
            null
           ],
           "y": [
            0.0002800281278396501,
            1.0002596266664006,
            null,
            1.0002596266664006,
            0.0002641539532147896,
            null,
            0.0002641539532147896,
            0.0002800281278396501,
            null,
            0.24203066975204526,
            1.2417862191304936,
            null,
            1.2417862191304936,
            0.26538722186114694,
            null,
            0.26538722186114694,
            0.24203066975204526,
            null
           ],
           "z": [
            -0.1555714971493791,
            -0.1513133227914736,
            null,
            -0.1513133227914736,
            -0.15432279856720627,
            null,
            -0.15432279856720627,
            -0.1555714971493791,
            null,
            -0.23729602433175206,
            -0.24147212316066174,
            null,
            -0.24147212316066174,
            -0.004568262239709481,
            null,
            -0.004568262239709481,
            -0.23729602433175206,
            null
           ]
          },
          {
           "i": [
            0,
            3
           ],
           "j": [
            1,
            4
           ],
           "k": [
            2,
            5
           ],
           "name": "Faces",
           "type": "mesh3d",
           "x": {
            "bdata": "34eouQY2MT8Mao6PEgHwP1hGXOXSajA/xpYWpgz00D9vwoeXZ+DzP6xWGxuF+84/",
            "dtype": "f8"
           },
           "y": {
            "bdata": "HikVl8RPMT9+/qmmF1oyP2mpAD0QAfA/AuCqrxr80D+1ZJtp3PrOP5Sf/Dlb3vM/",
            "dtype": "f8"
           },
           "z": {
            "bdata": "0slvdtnAw7+vITlOxOnDvwFTayY8XsO/U6a0jiu2cr+W4/xTt1/Ov/Zz7/uO6M6/",
            "dtype": "f8"
           }
          }
         ],
         "layout": {
          "annotations": [
           {
            "showarrow": false,
            "text": "Time: 0.95s (Step: 96/100)",
            "x": 0.05,
            "xref": "paper",
            "y": 0.95,
            "yref": "paper"
           }
          ]
         },
         "name": "95"
        },
        {
         "data": [
          {
           "name": "Free Nodes",
           "type": "scatter3d",
           "x": {
            "bdata": "2r0UuneCMT+QSUCYFgHwP2qyNwHXsDA/j22Nj43/0D8ZxFyv9d7zP7khgROq784/",
            "dtype": "f8"
           },
           "y": {
            "bdata": "JaXPAqCMMT/yXuRC9KkyP3l3YTYVAfA/LEjdbOkH0T8TenVm/u7OP4YD7qjV3PM/",
            "dtype": "f8"
           },
           "z": {
            "bdata": "YboL+s4BxL/t0X4HWjrEv1l7Dik1rMO/CquYMH4vcr95y0z/qufOv+GjVV0Fc8+/",
            "dtype": "f8"
           }
          },
          {
           "name": "Fixed Nodes",
           "type": "scatter3d",
           "x": [],
           "y": [],
           "z": []
          },
          {
           "name": "Edges",
           "type": "scatter3d",
           "x": [
            1.0002656886395904,
            0.0002546811021762243,
            null,
            0.0002546811021762243,
            0.0002671758939695991,
            null,
            0.0002671758939695991,
            1.0002656886395904,
            null,
            1.2419335222332448,
            0.24168897583355234,
            null,
            0.24168897583355234,
            0.2655977155570434,
            null,
            0.2655977155570434,
            1.2419335222332448,
            null
           ],
           "y": [
            0.0002847882596070792,
            1.0002643703696477,
            null,
            1.0002643703696477,
            0.0002677813197907323,
            null,
            0.0002677813197907323,
            0.0002847882596070792,
            null,
            0.24166851046443635,
            1.2414146994417208,
            null,
            1.2414146994417208,
            0.26610789901053766,
            null,
            0.26610789901053766,
            0.24166851046443635,
            null
           ],
           "z": [
            -0.15803075185762286,
            -0.15369286064830126,
            null,
            -0.15369286064830126,
            -0.15630519112842747,
            null,
            -0.15630519112842747,
            -0.15803075185762286,
            null,
            -0.24144494500941585,
            -0.245697660993101,
            null,
            -0.245697660993101,
            -0.004439824036618809,
            null,
            -0.004439824036618809,
            -0.24144494500941585,
            null
           ]
          },
          {
           "i": [
            0,
            3
           ],
           "j": [
            1,
            4
           ],
           "k": [
            2,
            5
           ],
           "name": "Faces",
           "type": "mesh3d",
           "x": {
            "bdata": "2r0UuneCMT+QSUCYFgHwP2qyNwHXsDA/j22Nj43/0D8ZxFyv9d7zP7khgROq784/",
            "dtype": "f8"
           },
           "y": {
            "bdata": "JaXPAqCMMT/yXuRC9KkyP3l3YTYVAfA/LEjdbOkH0T8TenVm/u7OP4YD7qjV3PM/",
            "dtype": "f8"
           },
           "z": {
            "bdata": "YboL+s4BxL/t0X4HWjrEv1l7Dik1rMO/CquYMH4vcr95y0z/qufOv+GjVV0Fc8+/",
            "dtype": "f8"
           }
          }
         ],
         "layout": {
          "annotations": [
           {
            "showarrow": false,
            "text": "Time: 0.96s (Step: 97/100)",
            "x": 0.05,
            "xref": "paper",
            "y": 0.95,
            "yref": "paper"
           }
          ]
         },
         "name": "96"
        },
        {
         "data": [
          {
           "name": "Free Nodes",
           "type": "scatter3d",
           "x": {
            "bdata": "hdGKWVbRMT8KicGKGgHwP13oCYjQ9TA/u7R3Q0QL0T+y77Mjfd3zP4q87pKY484/",
            "dtype": "f8"
           },
           "y": {
            "bdata": "HWWdclPLMT9vU+tHxvgyP4x36yIaAfA/zlI1U+8T0T8QU93u6eLOP2ZGJBxJ2/M/",
            "dtype": "f8"
           },
           "z": {
            "bdata": "4hPRfcRCxL+SAazA74rEv1i7oCsu+sO/dfr95Myvcb+992oVg2/PvxWFWXNf/c+/",
            "dtype": "f8"
           }
          },
          {
           "name": "Fixed Nodes",
           "type": "scatter3d",
           "x": [],
           "y": [],
           "z": []
          },
          {
           "name": "Edges",
           "type": "scatter3d",
           "x": [
            1.0002694530635972,
            0.00025879231547032926,
            null,
            0.00025879231547032926,
            0.0002718768896941215,
            null,
            0.0002718768896941215,
            1.0002694530635972,
            null,
            1.2415744204181292,
            0.2413206784671938,
            null,
            0.2413206784671938,
            0.2663126620162292,
            null,
            0.2663126620162292,
            1.2415744204181292,
            null
           ],
           "y": [
            0.00028948632090690976,
            1.0002690662435922,
            null,
            1.0002690662435922,
            0.00027151858613690285,
            null,
            0.00027151858613690285,
            0.00028948632090690976,
            null,
            0.24129985965068856,
            1.2410365199360966,
            null,
            1.2410365199360966,
            0.26684172750291857,
            null,
            0.26684172750291857,
            0.24129985965068856,
            null
           ],
           "z": [
            -0.16049000652129713,
            -0.15607239847437415,
            null,
            -0.15607239847437415,
            -0.15828758376497293,
            null,
            -0.15828758376497293,
            -0.16049000652129713,
            null,
            -0.24559057756226635,
            -0.24991982586201603,
            null,
            -0.24991982586201603,
            -0.00431804692186565,
            null,
            -0.00431804692186565,
            -0.24559057756226635,
            null
           ]
          },
          {
           "i": [
            0,
            3
           ],
           "j": [
            1,
            4
           ],
           "k": [
            2,
            5
           ],
           "name": "Faces",
           "type": "mesh3d",
           "x": {
            "bdata": "hdGKWVbRMT8KicGKGgHwP13oCYjQ9TA/u7R3Q0QL0T+y77Mjfd3zP4q87pKY484/",
            "dtype": "f8"
           },
           "y": {
            "bdata": "HWWdclPLMT9vU+tHxvgyP4x36yIaAfA/zlI1U+8T0T8QU93u6eLOP2ZGJBxJ2/M/",
            "dtype": "f8"
           },
           "z": {
            "bdata": "4hPRfcRCxL+SAazA74rEv1i7oCsu+sO/dfr95Myvcb+992oVg2/PvxWFWXNf/c+/",
            "dtype": "f8"
           }
          }
         ],
         "layout": {
          "annotations": [
           {
            "showarrow": false,
            "text": "Time: 0.97s (Step: 98/100)",
            "x": 0.05,
            "xref": "paper",
            "y": 0.95,
            "yref": "paper"
           }
          ]
         },
         "name": "97"
        },
        {
         "data": [
          {
           "name": "Free Nodes",
           "type": "scatter3d",
           "x": {
            "bdata": "Lcqsl6IiMj9vKxJnHgHwPxSOAXq/OTE/sLSooDAX0T9CLp/4/dvzPw9OLrtQ184/",
            "dtype": "f8"
           },
           "y": {
            "bdata": "wOKR5t4LMj8AGq61jUYzP3apngIfAfA/bq07QCwg0T+KP6gkn9bOP9eSApi12fM/",
            "dtype": "f8"
           },
           "z": {
            "bdata": "Tsb9AbqDxL+Id515hdvEvxpcBy4nSMS/5r1/Ejc3cb8epDwaP/fPv0aBcF/OQ9C/",
            "dtype": "f8"
           }
          },
          {
           "name": "Fixed Nodes",
           "type": "scatter3d",
           "x": [],
           "y": [],
           "z": []
          },
          {
           "name": "Edges",
           "type": "scatter3d",
           "x": [
            1.0002731348237963,
            0.0002628414604315132,
            null,
            0.0002628414604315132,
            0.0002767226175592077,
            null,
            0.0002767226175592077,
            1.0002731348237963,
            null,
            1.2412090026654288,
            0.24094590320292794,
            null,
            0.24094590320292794,
            0.267040402310907,
            null,
            0.267040402310907,
            1.2412090026654288,
            null
           ],
           "y": [
            0.00029412231167960656,
            1.0002737142882245,
            null,
            1.0002737142882245,
            0.00027536575232249214,
            null,
            0.00027536575232249214,
            0.00029412231167960656,
            null,
            0.2409247330656366,
            1.2406516969578456,
            null,
            1.2406516969578456,
            0.2675886752392306,
            null,
            0.2675886752392306,
            0.2409247330656366,
            null
           ],
           "z": [
            -0.16294926107633168,
            -0.15845193622109904,
            null,
            -0.15845193622109904,
            -0.1602699765895061,
            null,
            -0.1602699765895061,
            -0.16294926107633168,
            null,
            -0.24973286419961566,
            -0.2541385585809802,
            null,
            -0.2541385585809802,
            -0.004203047872564513,
            null,
            -0.004203047872564513,
            -0.24973286419961566,
            null
           ]
          },
          {
           "i": [
            0,
            3
           ],
           "j": [
            1,
            4
           ],
           "k": [
            2,
            5
           ],
           "name": "Faces",
           "type": "mesh3d",
           "x": {
            "bdata": "Lcqsl6IiMj9vKxJnHgHwPxSOAXq/OTE/sLSooDAX0T9CLp/4/dvzPw9OLrtQ184/",
            "dtype": "f8"
           },
           "y": {
            "bdata": "wOKR5t4LMj8AGq61jUYzP3apngIfAfA/bq07QCwg0T+KP6gkn9bOP9eSApi12fM/",
            "dtype": "f8"
           },
           "z": {
            "bdata": "Tsb9AbqDxL+Id515hdvEvxpcBy4nSMS/5r1/Ejc3cb8epDwaP/fPv0aBcF/OQ9C/",
            "dtype": "f8"
           }
          }
         ],
         "layout": {
          "annotations": [
           {
            "showarrow": false,
            "text": "Time: 0.98s (Step: 99/100)",
            "x": 0.05,
            "xref": "paper",
            "y": 0.95,
            "yref": "paper"
           }
          ]
         },
         "name": "98"
        },
        {
         "data": [
          {
           "name": "Free Nodes",
           "type": "scatter3d",
           "x": {
            "bdata": "zUgMdFx2Mj9RNDItIgHwPxziU9ejfDE/wCJmhVIj0T8JzEEyeNrzP6YJmq7Sys4/",
            "dtype": "f8"
           },
           "y": {
            "bdata": "48+1XkJOMj9yiSKMSpMzP04Ne9UjAfA/VOjlEKAs0T+IITwqHsrOP4bI/iAb2PM/",
            "dtype": "f8"
           },
           "z": {
            "bdata": "lMHPhq/ExL+++i8yGyzFv8KmJzAglsS/HlD2CtzFcL/00/tIbz/QvxLBk2DeiNC/",
            "dtype": "f8"
           }
          },
          {
           "name": "Fixed Nodes",
           "type": "scatter3d",
           "x": [],
           "y": [],
           "z": []
          },
          {
           "name": "Edges",
           "type": "scatter3d",
           "x": [
            1.0002767339203908,
            0.00026682853724893803,
            null,
            0.00026682853724893803,
            0.00028171307717274053,
            null,
            0.00028171307717274053,
            1.0002767339203908,
            null,
            1.2408372843899562,
            0.24056466603731258,
            null,
            0.24056466603731258,
            0.2677809050297064,
            null,
            0.2677809050297064,
            1.2408372843899562,
            null
           ],
           "y": [
            0.00029869623188907076,
            1.0002783145035496,
            null,
            1.0002783145035496,
            0.0002793228183783898,
            null,
            0.0002793228183783898,
            0.00029869623188907076,
            null,
            0.2405431467270882,
            1.2402602471234174,
            null,
            1.2402602471234174,
            0.26834870958521617,
            null,
            0.26834870958521617,
            0.2405431467270882,
            null
           ],
           "z": [
            -0.16540851545865637,
            -0.1608314738398829,
            null,
            -0.1608314738398829,
            -0.16225236971469015,
            null,
            -0.16225236971469015,
            -0.16540851545865637,
            null,
            -0.25387174727740036,
            -0.2583538001190543,
            null,
            -0.2583538001190543,
            -0.004094943563718116,
            null,
            -0.004094943563718116,
            -0.25387174727740036,
            null
           ]
          },
          {
           "i": [
            0,
            3
           ],
           "j": [
            1,
            4
           ],
           "k": [
            2,
            5
           ],
           "name": "Faces",
           "type": "mesh3d",
           "x": {
            "bdata": "zUgMdFx2Mj9RNDItIgHwPxziU9ejfDE/wCJmhVIj0T8JzEEyeNrzP6YJmq7Sys4/",
            "dtype": "f8"
           },
           "y": {
            "bdata": "48+1XkJOMj9yiSKMSpMzP04Ne9UjAfA/VOjlEKAs0T+IITwqHsrOP4bI/iAb2PM/",
            "dtype": "f8"
           },
           "z": {
            "bdata": "lMHPhq/ExL+++i8yGyzFv8KmJzAglsS/HlD2CtzFcL/00/tIbz/QvxLBk2DeiNC/",
            "dtype": "f8"
           }
          }
         ],
         "layout": {
          "annotations": [
           {
            "showarrow": false,
            "text": "Time: 0.99s (Step: 100/100)",
            "x": 0.05,
            "xref": "paper",
            "y": 0.95,
            "yref": "paper"
           }
          ]
         },
         "name": "99"
        }
       ],
       "layout": {
        "scene": {
         "camera": {
          "eye": {
           "x": 1.2247448713915892,
           "y": 1.224744871391589,
           "z": 0.9999999999999999
          }
         },
         "xaxis": {
          "range": [
           -0.00006240324851740638,
           1.2516214709515883
          ],
          "title": {
           "text": "X Position"
          }
         },
         "yaxis": {
          "range": [
           -0.00006240324851740649,
           1.2516212228799013
          ],
          "title": {
           "text": "Y Position"
          }
         },
         "zaxis": {
          "range": [
           -0.2583538001190543,
           0.195
          ],
          "title": {
           "text": "Z Position"
          }
         }
        },
        "sliders": [
         {
          "currentvalue": {
           "prefix": "Frame: "
          },
          "steps": [
           {
            "args": [
             [
              "0"
             ],
             {
              "frame": {
               "duration": 50,
               "redraw": true
              },
              "mode": "immediate"
             }
            ],
            "label": "0",
            "method": "animate"
           },
           {
            "args": [
             [
              "1"
             ],
             {
              "frame": {
               "duration": 50,
               "redraw": true
              },
              "mode": "immediate"
             }
            ],
            "label": "1",
            "method": "animate"
           },
           {
            "args": [
             [
              "2"
             ],
             {
              "frame": {
               "duration": 50,
               "redraw": true
              },
              "mode": "immediate"
             }
            ],
            "label": "2",
            "method": "animate"
           },
           {
            "args": [
             [
              "3"
             ],
             {
              "frame": {
               "duration": 50,
               "redraw": true
              },
              "mode": "immediate"
             }
            ],
            "label": "3",
            "method": "animate"
           },
           {
            "args": [
             [
              "4"
             ],
             {
              "frame": {
               "duration": 50,
               "redraw": true
              },
              "mode": "immediate"
             }
            ],
            "label": "4",
            "method": "animate"
           },
           {
            "args": [
             [
              "5"
             ],
             {
              "frame": {
               "duration": 50,
               "redraw": true
              },
              "mode": "immediate"
             }
            ],
            "label": "5",
            "method": "animate"
           },
           {
            "args": [
             [
              "6"
             ],
             {
              "frame": {
               "duration": 50,
               "redraw": true
              },
              "mode": "immediate"
             }
            ],
            "label": "6",
            "method": "animate"
           },
           {
            "args": [
             [
              "7"
             ],
             {
              "frame": {
               "duration": 50,
               "redraw": true
              },
              "mode": "immediate"
             }
            ],
            "label": "7",
            "method": "animate"
           },
           {
            "args": [
             [
              "8"
             ],
             {
              "frame": {
               "duration": 50,
               "redraw": true
              },
              "mode": "immediate"
             }
            ],
            "label": "8",
            "method": "animate"
           },
           {
            "args": [
             [
              "9"
             ],
             {
              "frame": {
               "duration": 50,
               "redraw": true
              },
              "mode": "immediate"
             }
            ],
            "label": "9",
            "method": "animate"
           },
           {
            "args": [
             [
              "10"
             ],
             {
              "frame": {
               "duration": 50,
               "redraw": true
              },
              "mode": "immediate"
             }
            ],
            "label": "10",
            "method": "animate"
           },
           {
            "args": [
             [
              "11"
             ],
             {
              "frame": {
               "duration": 50,
               "redraw": true
              },
              "mode": "immediate"
             }
            ],
            "label": "11",
            "method": "animate"
           },
           {
            "args": [
             [
              "12"
             ],
             {
              "frame": {
               "duration": 50,
               "redraw": true
              },
              "mode": "immediate"
             }
            ],
            "label": "12",
            "method": "animate"
           },
           {
            "args": [
             [
              "13"
             ],
             {
              "frame": {
               "duration": 50,
               "redraw": true
              },
              "mode": "immediate"
             }
            ],
            "label": "13",
            "method": "animate"
           },
           {
            "args": [
             [
              "14"
             ],
             {
              "frame": {
               "duration": 50,
               "redraw": true
              },
              "mode": "immediate"
             }
            ],
            "label": "14",
            "method": "animate"
           },
           {
            "args": [
             [
              "15"
             ],
             {
              "frame": {
               "duration": 50,
               "redraw": true
              },
              "mode": "immediate"
             }
            ],
            "label": "15",
            "method": "animate"
           },
           {
            "args": [
             [
              "16"
             ],
             {
              "frame": {
               "duration": 50,
               "redraw": true
              },
              "mode": "immediate"
             }
            ],
            "label": "16",
            "method": "animate"
           },
           {
            "args": [
             [
              "17"
             ],
             {
              "frame": {
               "duration": 50,
               "redraw": true
              },
              "mode": "immediate"
             }
            ],
            "label": "17",
            "method": "animate"
           },
           {
            "args": [
             [
              "18"
             ],
             {
              "frame": {
               "duration": 50,
               "redraw": true
              },
              "mode": "immediate"
             }
            ],
            "label": "18",
            "method": "animate"
           },
           {
            "args": [
             [
              "19"
             ],
             {
              "frame": {
               "duration": 50,
               "redraw": true
              },
              "mode": "immediate"
             }
            ],
            "label": "19",
            "method": "animate"
           },
           {
            "args": [
             [
              "20"
             ],
             {
              "frame": {
               "duration": 50,
               "redraw": true
              },
              "mode": "immediate"
             }
            ],
            "label": "20",
            "method": "animate"
           },
           {
            "args": [
             [
              "21"
             ],
             {
              "frame": {
               "duration": 50,
               "redraw": true
              },
              "mode": "immediate"
             }
            ],
            "label": "21",
            "method": "animate"
           },
           {
            "args": [
             [
              "22"
             ],
             {
              "frame": {
               "duration": 50,
               "redraw": true
              },
              "mode": "immediate"
             }
            ],
            "label": "22",
            "method": "animate"
           },
           {
            "args": [
             [
              "23"
             ],
             {
              "frame": {
               "duration": 50,
               "redraw": true
              },
              "mode": "immediate"
             }
            ],
            "label": "23",
            "method": "animate"
           },
           {
            "args": [
             [
              "24"
             ],
             {
              "frame": {
               "duration": 50,
               "redraw": true
              },
              "mode": "immediate"
             }
            ],
            "label": "24",
            "method": "animate"
           },
           {
            "args": [
             [
              "25"
             ],
             {
              "frame": {
               "duration": 50,
               "redraw": true
              },
              "mode": "immediate"
             }
            ],
            "label": "25",
            "method": "animate"
           },
           {
            "args": [
             [
              "26"
             ],
             {
              "frame": {
               "duration": 50,
               "redraw": true
              },
              "mode": "immediate"
             }
            ],
            "label": "26",
            "method": "animate"
           },
           {
            "args": [
             [
              "27"
             ],
             {
              "frame": {
               "duration": 50,
               "redraw": true
              },
              "mode": "immediate"
             }
            ],
            "label": "27",
            "method": "animate"
           },
           {
            "args": [
             [
              "28"
             ],
             {
              "frame": {
               "duration": 50,
               "redraw": true
              },
              "mode": "immediate"
             }
            ],
            "label": "28",
            "method": "animate"
           },
           {
            "args": [
             [
              "29"
             ],
             {
              "frame": {
               "duration": 50,
               "redraw": true
              },
              "mode": "immediate"
             }
            ],
            "label": "29",
            "method": "animate"
           },
           {
            "args": [
             [
              "30"
             ],
             {
              "frame": {
               "duration": 50,
               "redraw": true
              },
              "mode": "immediate"
             }
            ],
            "label": "30",
            "method": "animate"
           },
           {
            "args": [
             [
              "31"
             ],
             {
              "frame": {
               "duration": 50,
               "redraw": true
              },
              "mode": "immediate"
             }
            ],
            "label": "31",
            "method": "animate"
           },
           {
            "args": [
             [
              "32"
             ],
             {
              "frame": {
               "duration": 50,
               "redraw": true
              },
              "mode": "immediate"
             }
            ],
            "label": "32",
            "method": "animate"
           },
           {
            "args": [
             [
              "33"
             ],
             {
              "frame": {
               "duration": 50,
               "redraw": true
              },
              "mode": "immediate"
             }
            ],
            "label": "33",
            "method": "animate"
           },
           {
            "args": [
             [
              "34"
             ],
             {
              "frame": {
               "duration": 50,
               "redraw": true
              },
              "mode": "immediate"
             }
            ],
            "label": "34",
            "method": "animate"
           },
           {
            "args": [
             [
              "35"
             ],
             {
              "frame": {
               "duration": 50,
               "redraw": true
              },
              "mode": "immediate"
             }
            ],
            "label": "35",
            "method": "animate"
           },
           {
            "args": [
             [
              "36"
             ],
             {
              "frame": {
               "duration": 50,
               "redraw": true
              },
              "mode": "immediate"
             }
            ],
            "label": "36",
            "method": "animate"
           },
           {
            "args": [
             [
              "37"
             ],
             {
              "frame": {
               "duration": 50,
               "redraw": true
              },
              "mode": "immediate"
             }
            ],
            "label": "37",
            "method": "animate"
           },
           {
            "args": [
             [
              "38"
             ],
             {
              "frame": {
               "duration": 50,
               "redraw": true
              },
              "mode": "immediate"
             }
            ],
            "label": "38",
            "method": "animate"
           },
           {
            "args": [
             [
              "39"
             ],
             {
              "frame": {
               "duration": 50,
               "redraw": true
              },
              "mode": "immediate"
             }
            ],
            "label": "39",
            "method": "animate"
           },
           {
            "args": [
             [
              "40"
             ],
             {
              "frame": {
               "duration": 50,
               "redraw": true
              },
              "mode": "immediate"
             }
            ],
            "label": "40",
            "method": "animate"
           },
           {
            "args": [
             [
              "41"
             ],
             {
              "frame": {
               "duration": 50,
               "redraw": true
              },
              "mode": "immediate"
             }
            ],
            "label": "41",
            "method": "animate"
           },
           {
            "args": [
             [
              "42"
             ],
             {
              "frame": {
               "duration": 50,
               "redraw": true
              },
              "mode": "immediate"
             }
            ],
            "label": "42",
            "method": "animate"
           },
           {
            "args": [
             [
              "43"
             ],
             {
              "frame": {
               "duration": 50,
               "redraw": true
              },
              "mode": "immediate"
             }
            ],
            "label": "43",
            "method": "animate"
           },
           {
            "args": [
             [
              "44"
             ],
             {
              "frame": {
               "duration": 50,
               "redraw": true
              },
              "mode": "immediate"
             }
            ],
            "label": "44",
            "method": "animate"
           },
           {
            "args": [
             [
              "45"
             ],
             {
              "frame": {
               "duration": 50,
               "redraw": true
              },
              "mode": "immediate"
             }
            ],
            "label": "45",
            "method": "animate"
           },
           {
            "args": [
             [
              "46"
             ],
             {
              "frame": {
               "duration": 50,
               "redraw": true
              },
              "mode": "immediate"
             }
            ],
            "label": "46",
            "method": "animate"
           },
           {
            "args": [
             [
              "47"
             ],
             {
              "frame": {
               "duration": 50,
               "redraw": true
              },
              "mode": "immediate"
             }
            ],
            "label": "47",
            "method": "animate"
           },
           {
            "args": [
             [
              "48"
             ],
             {
              "frame": {
               "duration": 50,
               "redraw": true
              },
              "mode": "immediate"
             }
            ],
            "label": "48",
            "method": "animate"
           },
           {
            "args": [
             [
              "49"
             ],
             {
              "frame": {
               "duration": 50,
               "redraw": true
              },
              "mode": "immediate"
             }
            ],
            "label": "49",
            "method": "animate"
           },
           {
            "args": [
             [
              "50"
             ],
             {
              "frame": {
               "duration": 50,
               "redraw": true
              },
              "mode": "immediate"
             }
            ],
            "label": "50",
            "method": "animate"
           },
           {
            "args": [
             [
              "51"
             ],
             {
              "frame": {
               "duration": 50,
               "redraw": true
              },
              "mode": "immediate"
             }
            ],
            "label": "51",
            "method": "animate"
           },
           {
            "args": [
             [
              "52"
             ],
             {
              "frame": {
               "duration": 50,
               "redraw": true
              },
              "mode": "immediate"
             }
            ],
            "label": "52",
            "method": "animate"
           },
           {
            "args": [
             [
              "53"
             ],
             {
              "frame": {
               "duration": 50,
               "redraw": true
              },
              "mode": "immediate"
             }
            ],
            "label": "53",
            "method": "animate"
           },
           {
            "args": [
             [
              "54"
             ],
             {
              "frame": {
               "duration": 50,
               "redraw": true
              },
              "mode": "immediate"
             }
            ],
            "label": "54",
            "method": "animate"
           },
           {
            "args": [
             [
              "55"
             ],
             {
              "frame": {
               "duration": 50,
               "redraw": true
              },
              "mode": "immediate"
             }
            ],
            "label": "55",
            "method": "animate"
           },
           {
            "args": [
             [
              "56"
             ],
             {
              "frame": {
               "duration": 50,
               "redraw": true
              },
              "mode": "immediate"
             }
            ],
            "label": "56",
            "method": "animate"
           },
           {
            "args": [
             [
              "57"
             ],
             {
              "frame": {
               "duration": 50,
               "redraw": true
              },
              "mode": "immediate"
             }
            ],
            "label": "57",
            "method": "animate"
           },
           {
            "args": [
             [
              "58"
             ],
             {
              "frame": {
               "duration": 50,
               "redraw": true
              },
              "mode": "immediate"
             }
            ],
            "label": "58",
            "method": "animate"
           },
           {
            "args": [
             [
              "59"
             ],
             {
              "frame": {
               "duration": 50,
               "redraw": true
              },
              "mode": "immediate"
             }
            ],
            "label": "59",
            "method": "animate"
           },
           {
            "args": [
             [
              "60"
             ],
             {
              "frame": {
               "duration": 50,
               "redraw": true
              },
              "mode": "immediate"
             }
            ],
            "label": "60",
            "method": "animate"
           },
           {
            "args": [
             [
              "61"
             ],
             {
              "frame": {
               "duration": 50,
               "redraw": true
              },
              "mode": "immediate"
             }
            ],
            "label": "61",
            "method": "animate"
           },
           {
            "args": [
             [
              "62"
             ],
             {
              "frame": {
               "duration": 50,
               "redraw": true
              },
              "mode": "immediate"
             }
            ],
            "label": "62",
            "method": "animate"
           },
           {
            "args": [
             [
              "63"
             ],
             {
              "frame": {
               "duration": 50,
               "redraw": true
              },
              "mode": "immediate"
             }
            ],
            "label": "63",
            "method": "animate"
           },
           {
            "args": [
             [
              "64"
             ],
             {
              "frame": {
               "duration": 50,
               "redraw": true
              },
              "mode": "immediate"
             }
            ],
            "label": "64",
            "method": "animate"
           },
           {
            "args": [
             [
              "65"
             ],
             {
              "frame": {
               "duration": 50,
               "redraw": true
              },
              "mode": "immediate"
             }
            ],
            "label": "65",
            "method": "animate"
           },
           {
            "args": [
             [
              "66"
             ],
             {
              "frame": {
               "duration": 50,
               "redraw": true
              },
              "mode": "immediate"
             }
            ],
            "label": "66",
            "method": "animate"
           },
           {
            "args": [
             [
              "67"
             ],
             {
              "frame": {
               "duration": 50,
               "redraw": true
              },
              "mode": "immediate"
             }
            ],
            "label": "67",
            "method": "animate"
           },
           {
            "args": [
             [
              "68"
             ],
             {
              "frame": {
               "duration": 50,
               "redraw": true
              },
              "mode": "immediate"
             }
            ],
            "label": "68",
            "method": "animate"
           },
           {
            "args": [
             [
              "69"
             ],
             {
              "frame": {
               "duration": 50,
               "redraw": true
              },
              "mode": "immediate"
             }
            ],
            "label": "69",
            "method": "animate"
           },
           {
            "args": [
             [
              "70"
             ],
             {
              "frame": {
               "duration": 50,
               "redraw": true
              },
              "mode": "immediate"
             }
            ],
            "label": "70",
            "method": "animate"
           },
           {
            "args": [
             [
              "71"
             ],
             {
              "frame": {
               "duration": 50,
               "redraw": true
              },
              "mode": "immediate"
             }
            ],
            "label": "71",
            "method": "animate"
           },
           {
            "args": [
             [
              "72"
             ],
             {
              "frame": {
               "duration": 50,
               "redraw": true
              },
              "mode": "immediate"
             }
            ],
            "label": "72",
            "method": "animate"
           },
           {
            "args": [
             [
              "73"
             ],
             {
              "frame": {
               "duration": 50,
               "redraw": true
              },
              "mode": "immediate"
             }
            ],
            "label": "73",
            "method": "animate"
           },
           {
            "args": [
             [
              "74"
             ],
             {
              "frame": {
               "duration": 50,
               "redraw": true
              },
              "mode": "immediate"
             }
            ],
            "label": "74",
            "method": "animate"
           },
           {
            "args": [
             [
              "75"
             ],
             {
              "frame": {
               "duration": 50,
               "redraw": true
              },
              "mode": "immediate"
             }
            ],
            "label": "75",
            "method": "animate"
           },
           {
            "args": [
             [
              "76"
             ],
             {
              "frame": {
               "duration": 50,
               "redraw": true
              },
              "mode": "immediate"
             }
            ],
            "label": "76",
            "method": "animate"
           },
           {
            "args": [
             [
              "77"
             ],
             {
              "frame": {
               "duration": 50,
               "redraw": true
              },
              "mode": "immediate"
             }
            ],
            "label": "77",
            "method": "animate"
           },
           {
            "args": [
             [
              "78"
             ],
             {
              "frame": {
               "duration": 50,
               "redraw": true
              },
              "mode": "immediate"
             }
            ],
            "label": "78",
            "method": "animate"
           },
           {
            "args": [
             [
              "79"
             ],
             {
              "frame": {
               "duration": 50,
               "redraw": true
              },
              "mode": "immediate"
             }
            ],
            "label": "79",
            "method": "animate"
           },
           {
            "args": [
             [
              "80"
             ],
             {
              "frame": {
               "duration": 50,
               "redraw": true
              },
              "mode": "immediate"
             }
            ],
            "label": "80",
            "method": "animate"
           },
           {
            "args": [
             [
              "81"
             ],
             {
              "frame": {
               "duration": 50,
               "redraw": true
              },
              "mode": "immediate"
             }
            ],
            "label": "81",
            "method": "animate"
           },
           {
            "args": [
             [
              "82"
             ],
             {
              "frame": {
               "duration": 50,
               "redraw": true
              },
              "mode": "immediate"
             }
            ],
            "label": "82",
            "method": "animate"
           },
           {
            "args": [
             [
              "83"
             ],
             {
              "frame": {
               "duration": 50,
               "redraw": true
              },
              "mode": "immediate"
             }
            ],
            "label": "83",
            "method": "animate"
           },
           {
            "args": [
             [
              "84"
             ],
             {
              "frame": {
               "duration": 50,
               "redraw": true
              },
              "mode": "immediate"
             }
            ],
            "label": "84",
            "method": "animate"
           },
           {
            "args": [
             [
              "85"
             ],
             {
              "frame": {
               "duration": 50,
               "redraw": true
              },
              "mode": "immediate"
             }
            ],
            "label": "85",
            "method": "animate"
           },
           {
            "args": [
             [
              "86"
             ],
             {
              "frame": {
               "duration": 50,
               "redraw": true
              },
              "mode": "immediate"
             }
            ],
            "label": "86",
            "method": "animate"
           },
           {
            "args": [
             [
              "87"
             ],
             {
              "frame": {
               "duration": 50,
               "redraw": true
              },
              "mode": "immediate"
             }
            ],
            "label": "87",
            "method": "animate"
           },
           {
            "args": [
             [
              "88"
             ],
             {
              "frame": {
               "duration": 50,
               "redraw": true
              },
              "mode": "immediate"
             }
            ],
            "label": "88",
            "method": "animate"
           },
           {
            "args": [
             [
              "89"
             ],
             {
              "frame": {
               "duration": 50,
               "redraw": true
              },
              "mode": "immediate"
             }
            ],
            "label": "89",
            "method": "animate"
           },
           {
            "args": [
             [
              "90"
             ],
             {
              "frame": {
               "duration": 50,
               "redraw": true
              },
              "mode": "immediate"
             }
            ],
            "label": "90",
            "method": "animate"
           },
           {
            "args": [
             [
              "91"
             ],
             {
              "frame": {
               "duration": 50,
               "redraw": true
              },
              "mode": "immediate"
             }
            ],
            "label": "91",
            "method": "animate"
           },
           {
            "args": [
             [
              "92"
             ],
             {
              "frame": {
               "duration": 50,
               "redraw": true
              },
              "mode": "immediate"
             }
            ],
            "label": "92",
            "method": "animate"
           },
           {
            "args": [
             [
              "93"
             ],
             {
              "frame": {
               "duration": 50,
               "redraw": true
              },
              "mode": "immediate"
             }
            ],
            "label": "93",
            "method": "animate"
           },
           {
            "args": [
             [
              "94"
             ],
             {
              "frame": {
               "duration": 50,
               "redraw": true
              },
              "mode": "immediate"
             }
            ],
            "label": "94",
            "method": "animate"
           },
           {
            "args": [
             [
              "95"
             ],
             {
              "frame": {
               "duration": 50,
               "redraw": true
              },
              "mode": "immediate"
             }
            ],
            "label": "95",
            "method": "animate"
           },
           {
            "args": [
             [
              "96"
             ],
             {
              "frame": {
               "duration": 50,
               "redraw": true
              },
              "mode": "immediate"
             }
            ],
            "label": "96",
            "method": "animate"
           },
           {
            "args": [
             [
              "97"
             ],
             {
              "frame": {
               "duration": 50,
               "redraw": true
              },
              "mode": "immediate"
             }
            ],
            "label": "97",
            "method": "animate"
           },
           {
            "args": [
             [
              "98"
             ],
             {
              "frame": {
               "duration": 50,
               "redraw": true
              },
              "mode": "immediate"
             }
            ],
            "label": "98",
            "method": "animate"
           },
           {
            "args": [
             [
              "99"
             ],
             {
              "frame": {
               "duration": 50,
               "redraw": true
              },
              "mode": "immediate"
             }
            ],
            "label": "99",
            "method": "animate"
           }
          ],
          "transition": {
           "duration": 0
          },
          "x": 0.1,
          "y": 0
         }
        ],
        "template": {
         "data": {
          "bar": [
           {
            "error_x": {
             "color": "#2a3f5f"
            },
            "error_y": {
             "color": "#2a3f5f"
            },
            "marker": {
             "line": {
              "color": "#E5ECF6",
              "width": 0.5
             },
             "pattern": {
              "fillmode": "overlay",
              "size": 10,
              "solidity": 0.2
             }
            },
            "type": "bar"
           }
          ],
          "barpolar": [
           {
            "marker": {
             "line": {
              "color": "#E5ECF6",
              "width": 0.5
             },
             "pattern": {
              "fillmode": "overlay",
              "size": 10,
              "solidity": 0.2
             }
            },
            "type": "barpolar"
           }
          ],
          "carpet": [
           {
            "aaxis": {
             "endlinecolor": "#2a3f5f",
             "gridcolor": "white",
             "linecolor": "white",
             "minorgridcolor": "white",
             "startlinecolor": "#2a3f5f"
            },
            "baxis": {
             "endlinecolor": "#2a3f5f",
             "gridcolor": "white",
             "linecolor": "white",
             "minorgridcolor": "white",
             "startlinecolor": "#2a3f5f"
            },
            "type": "carpet"
           }
          ],
          "choropleth": [
           {
            "colorbar": {
             "outlinewidth": 0,
             "ticks": ""
            },
            "type": "choropleth"
           }
          ],
          "contour": [
           {
            "colorbar": {
             "outlinewidth": 0,
             "ticks": ""
            },
            "colorscale": [
             [
              0,
              "#0d0887"
             ],
             [
              0.1111111111111111,
              "#46039f"
             ],
             [
              0.2222222222222222,
              "#7201a8"
             ],
             [
              0.3333333333333333,
              "#9c179e"
             ],
             [
              0.4444444444444444,
              "#bd3786"
             ],
             [
              0.5555555555555556,
              "#d8576b"
             ],
             [
              0.6666666666666666,
              "#ed7953"
             ],
             [
              0.7777777777777778,
              "#fb9f3a"
             ],
             [
              0.8888888888888888,
              "#fdca26"
             ],
             [
              1,
              "#f0f921"
             ]
            ],
            "type": "contour"
           }
          ],
          "contourcarpet": [
           {
            "colorbar": {
             "outlinewidth": 0,
             "ticks": ""
            },
            "type": "contourcarpet"
           }
          ],
          "heatmap": [
           {
            "colorbar": {
             "outlinewidth": 0,
             "ticks": ""
            },
            "colorscale": [
             [
              0,
              "#0d0887"
             ],
             [
              0.1111111111111111,
              "#46039f"
             ],
             [
              0.2222222222222222,
              "#7201a8"
             ],
             [
              0.3333333333333333,
              "#9c179e"
             ],
             [
              0.4444444444444444,
              "#bd3786"
             ],
             [
              0.5555555555555556,
              "#d8576b"
             ],
             [
              0.6666666666666666,
              "#ed7953"
             ],
             [
              0.7777777777777778,
              "#fb9f3a"
             ],
             [
              0.8888888888888888,
              "#fdca26"
             ],
             [
              1,
              "#f0f921"
             ]
            ],
            "type": "heatmap"
           }
          ],
          "histogram": [
           {
            "marker": {
             "pattern": {
              "fillmode": "overlay",
              "size": 10,
              "solidity": 0.2
             }
            },
            "type": "histogram"
           }
          ],
          "histogram2d": [
           {
            "colorbar": {
             "outlinewidth": 0,
             "ticks": ""
            },
            "colorscale": [
             [
              0,
              "#0d0887"
             ],
             [
              0.1111111111111111,
              "#46039f"
             ],
             [
              0.2222222222222222,
              "#7201a8"
             ],
             [
              0.3333333333333333,
              "#9c179e"
             ],
             [
              0.4444444444444444,
              "#bd3786"
             ],
             [
              0.5555555555555556,
              "#d8576b"
             ],
             [
              0.6666666666666666,
              "#ed7953"
             ],
             [
              0.7777777777777778,
              "#fb9f3a"
             ],
             [
              0.8888888888888888,
              "#fdca26"
             ],
             [
              1,
              "#f0f921"
             ]
            ],
            "type": "histogram2d"
           }
          ],
          "histogram2dcontour": [
           {
            "colorbar": {
             "outlinewidth": 0,
             "ticks": ""
            },
            "colorscale": [
             [
              0,
              "#0d0887"
             ],
             [
              0.1111111111111111,
              "#46039f"
             ],
             [
              0.2222222222222222,
              "#7201a8"
             ],
             [
              0.3333333333333333,
              "#9c179e"
             ],
             [
              0.4444444444444444,
              "#bd3786"
             ],
             [
              0.5555555555555556,
              "#d8576b"
             ],
             [
              0.6666666666666666,
              "#ed7953"
             ],
             [
              0.7777777777777778,
              "#fb9f3a"
             ],
             [
              0.8888888888888888,
              "#fdca26"
             ],
             [
              1,
              "#f0f921"
             ]
            ],
            "type": "histogram2dcontour"
           }
          ],
          "mesh3d": [
           {
            "colorbar": {
             "outlinewidth": 0,
             "ticks": ""
            },
            "type": "mesh3d"
           }
          ],
          "parcoords": [
           {
            "line": {
             "colorbar": {
              "outlinewidth": 0,
              "ticks": ""
             }
            },
            "type": "parcoords"
           }
          ],
          "pie": [
           {
            "automargin": true,
            "type": "pie"
           }
          ],
          "scatter": [
           {
            "fillpattern": {
             "fillmode": "overlay",
             "size": 10,
             "solidity": 0.2
            },
            "type": "scatter"
           }
          ],
          "scatter3d": [
           {
            "line": {
             "colorbar": {
              "outlinewidth": 0,
              "ticks": ""
             }
            },
            "marker": {
             "colorbar": {
              "outlinewidth": 0,
              "ticks": ""
             }
            },
            "type": "scatter3d"
           }
          ],
          "scattercarpet": [
           {
            "marker": {
             "colorbar": {
              "outlinewidth": 0,
              "ticks": ""
             }
            },
            "type": "scattercarpet"
           }
          ],
          "scattergeo": [
           {
            "marker": {
             "colorbar": {
              "outlinewidth": 0,
              "ticks": ""
             }
            },
            "type": "scattergeo"
           }
          ],
          "scattergl": [
           {
            "marker": {
             "colorbar": {
              "outlinewidth": 0,
              "ticks": ""
             }
            },
            "type": "scattergl"
           }
          ],
          "scattermap": [
           {
            "marker": {
             "colorbar": {
              "outlinewidth": 0,
              "ticks": ""
             }
            },
            "type": "scattermap"
           }
          ],
          "scattermapbox": [
           {
            "marker": {
             "colorbar": {
              "outlinewidth": 0,
              "ticks": ""
             }
            },
            "type": "scattermapbox"
           }
          ],
          "scatterpolar": [
           {
            "marker": {
             "colorbar": {
              "outlinewidth": 0,
              "ticks": ""
             }
            },
            "type": "scatterpolar"
           }
          ],
          "scatterpolargl": [
           {
            "marker": {
             "colorbar": {
              "outlinewidth": 0,
              "ticks": ""
             }
            },
            "type": "scatterpolargl"
           }
          ],
          "scatterternary": [
           {
            "marker": {
             "colorbar": {
              "outlinewidth": 0,
              "ticks": ""
             }
            },
            "type": "scatterternary"
           }
          ],
          "surface": [
           {
            "colorbar": {
             "outlinewidth": 0,
             "ticks": ""
            },
            "colorscale": [
             [
              0,
              "#0d0887"
             ],
             [
              0.1111111111111111,
              "#46039f"
             ],
             [
              0.2222222222222222,
              "#7201a8"
             ],
             [
              0.3333333333333333,
              "#9c179e"
             ],
             [
              0.4444444444444444,
              "#bd3786"
             ],
             [
              0.5555555555555556,
              "#d8576b"
             ],
             [
              0.6666666666666666,
              "#ed7953"
             ],
             [
              0.7777777777777778,
              "#fb9f3a"
             ],
             [
              0.8888888888888888,
              "#fdca26"
             ],
             [
              1,
              "#f0f921"
             ]
            ],
            "type": "surface"
           }
          ],
          "table": [
           {
            "cells": {
             "fill": {
              "color": "#EBF0F8"
             },
             "line": {
              "color": "white"
             }
            },
            "header": {
             "fill": {
              "color": "#C8D4E3"
             },
             "line": {
              "color": "white"
             }
            },
            "type": "table"
           }
          ]
         },
         "layout": {
          "annotationdefaults": {
           "arrowcolor": "#2a3f5f",
           "arrowhead": 0,
           "arrowwidth": 1
          },
          "autotypenumbers": "strict",
          "coloraxis": {
           "colorbar": {
            "outlinewidth": 0,
            "ticks": ""
           }
          },
          "colorscale": {
           "diverging": [
            [
             0,
             "#8e0152"
            ],
            [
             0.1,
             "#c51b7d"
            ],
            [
             0.2,
             "#de77ae"
            ],
            [
             0.3,
             "#f1b6da"
            ],
            [
             0.4,
             "#fde0ef"
            ],
            [
             0.5,
             "#f7f7f7"
            ],
            [
             0.6,
             "#e6f5d0"
            ],
            [
             0.7,
             "#b8e186"
            ],
            [
             0.8,
             "#7fbc41"
            ],
            [
             0.9,
             "#4d9221"
            ],
            [
             1,
             "#276419"
            ]
           ],
           "sequential": [
            [
             0,
             "#0d0887"
            ],
            [
             0.1111111111111111,
             "#46039f"
            ],
            [
             0.2222222222222222,
             "#7201a8"
            ],
            [
             0.3333333333333333,
             "#9c179e"
            ],
            [
             0.4444444444444444,
             "#bd3786"
            ],
            [
             0.5555555555555556,
             "#d8576b"
            ],
            [
             0.6666666666666666,
             "#ed7953"
            ],
            [
             0.7777777777777778,
             "#fb9f3a"
            ],
            [
             0.8888888888888888,
             "#fdca26"
            ],
            [
             1,
             "#f0f921"
            ]
           ],
           "sequentialminus": [
            [
             0,
             "#0d0887"
            ],
            [
             0.1111111111111111,
             "#46039f"
            ],
            [
             0.2222222222222222,
             "#7201a8"
            ],
            [
             0.3333333333333333,
             "#9c179e"
            ],
            [
             0.4444444444444444,
             "#bd3786"
            ],
            [
             0.5555555555555556,
             "#d8576b"
            ],
            [
             0.6666666666666666,
             "#ed7953"
            ],
            [
             0.7777777777777778,
             "#fb9f3a"
            ],
            [
             0.8888888888888888,
             "#fdca26"
            ],
            [
             1,
             "#f0f921"
            ]
           ]
          },
          "colorway": [
           "#636efa",
           "#EF553B",
           "#00cc96",
           "#ab63fa",
           "#FFA15A",
           "#19d3f3",
           "#FF6692",
           "#B6E880",
           "#FF97FF",
           "#FECB52"
          ],
          "font": {
           "color": "#2a3f5f"
          },
          "geo": {
           "bgcolor": "white",
           "lakecolor": "white",
           "landcolor": "#E5ECF6",
           "showlakes": true,
           "showland": true,
           "subunitcolor": "white"
          },
          "hoverlabel": {
           "align": "left"
          },
          "hovermode": "closest",
          "mapbox": {
           "style": "light"
          },
          "paper_bgcolor": "white",
          "plot_bgcolor": "#E5ECF6",
          "polar": {
           "angularaxis": {
            "gridcolor": "white",
            "linecolor": "white",
            "ticks": ""
           },
           "bgcolor": "#E5ECF6",
           "radialaxis": {
            "gridcolor": "white",
            "linecolor": "white",
            "ticks": ""
           }
          },
          "scene": {
           "xaxis": {
            "backgroundcolor": "#E5ECF6",
            "gridcolor": "white",
            "gridwidth": 2,
            "linecolor": "white",
            "showbackground": true,
            "ticks": "",
            "zerolinecolor": "white"
           },
           "yaxis": {
            "backgroundcolor": "#E5ECF6",
            "gridcolor": "white",
            "gridwidth": 2,
            "linecolor": "white",
            "showbackground": true,
            "ticks": "",
            "zerolinecolor": "white"
           },
           "zaxis": {
            "backgroundcolor": "#E5ECF6",
            "gridcolor": "white",
            "gridwidth": 2,
            "linecolor": "white",
            "showbackground": true,
            "ticks": "",
            "zerolinecolor": "white"
           }
          },
          "shapedefaults": {
           "line": {
            "color": "#2a3f5f"
           }
          },
          "ternary": {
           "aaxis": {
            "gridcolor": "white",
            "linecolor": "white",
            "ticks": ""
           },
           "baxis": {
            "gridcolor": "white",
            "linecolor": "white",
            "ticks": ""
           },
           "bgcolor": "#E5ECF6",
           "caxis": {
            "gridcolor": "white",
            "linecolor": "white",
            "ticks": ""
           }
          },
          "title": {
           "x": 0.05
          },
          "xaxis": {
           "automargin": true,
           "gridcolor": "white",
           "linecolor": "white",
           "ticks": "",
           "title": {
            "standoff": 15
           },
           "zerolinecolor": "white",
           "zerolinewidth": 2
          },
          "yaxis": {
           "automargin": true,
           "gridcolor": "white",
           "linecolor": "white",
           "ticks": "",
           "title": {
            "standoff": 15
           },
           "zerolinecolor": "white",
           "zerolinewidth": 2
          }
         }
        },
        "title": {
         "text": "Shell contact p2p"
        },
        "updatemenus": [
         {
          "buttons": [
           {
            "args": [
             null,
             {
              "frame": {
               "duration": 50,
               "redraw": true
              },
              "fromcurrent": true
             }
            ],
            "label": "Play",
            "method": "animate"
           },
           {
            "args": [
             [
              null
             ],
             {
              "frame": {
               "duration": 0,
               "redraw": true
              },
              "mode": "immediate"
             }
            ],
            "label": "Pause",
            "method": "animate"
           }
          ],
          "direction": "left",
          "pad": {
           "r": 10,
           "t": 87
          },
          "showactive": false,
          "type": "buttons",
          "x": 0.1,
          "xanchor": "right",
          "y": 0,
          "yanchor": "top"
         }
        ]
       }
      }
     },
     "metadata": {},
     "output_type": "display_data"
    }
   ],
   "source": [
    "t = np.arange(robot.sim_params.total_time, step=robot.sim_params.dt)\n",
    "options = dismech.AnimationOptions(title='Shell contact p2p', plot_step=1)\n",
    "\n",
    "fig = dismech.get_interactive_animation_plotly(robot, t, qs, options)\n",
    "fig.show()"
   ]
  },
  {
   "cell_type": "code",
   "execution_count": 5,
   "metadata": {},
   "outputs": [],
   "source": [
    "#ani = dismech.get_animation(robot, t, qs, options)\n",
    "#ani.save('5e-5.gif')"
   ]
  }
 ],
 "metadata": {
  "kernelspec": {
   "display_name": ".venv",
   "language": "python",
   "name": "python3"
  },
  "language_info": {
   "codemirror_mode": {
    "name": "ipython",
    "version": 3
   },
   "file_extension": ".py",
   "mimetype": "text/x-python",
   "name": "python",
   "nbconvert_exporter": "python",
   "pygments_lexer": "ipython3",
   "version": "3.10.12"
  }
 },
 "nbformat": 4,
 "nbformat_minor": 2
}
