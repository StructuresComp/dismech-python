{
 "cells": [
  {
   "cell_type": "markdown",
   "metadata": {},
   "source": [
    "## Shell Contact Example"
   ]
  },
  {
   "cell_type": "code",
   "execution_count": 1,
   "metadata": {},
   "outputs": [],
   "source": [
    "import numpy as np\n",
    "\n",
    "import dismech\n",
    "\n",
    "\n",
    "geom = dismech.GeomParams(rod_r0=0.001,\n",
    "                          shell_h=0.001)\n",
    "\n",
    "material = dismech.Material(density=1200,\n",
    "                            youngs_rod=0,\n",
    "                            youngs_shell=2e8,\n",
    "                            poisson_rod=0.5,\n",
    "                            poisson_shell=0)\n",
    "\n",
    "shell_contact_sim = dismech.SimParams(static_sim=False,\n",
    "                                  two_d_sim=False,   # no twisting\n",
    "                                  use_mid_edge=False,\n",
    "                                  use_line_search=False,\n",
    "                                  show_floor=False,\n",
    "                                  log_data=True,\n",
    "                                  log_step=1,\n",
    "                                  dt=1e-2,\n",
    "                                  max_iter=25,\n",
    "                                  total_time=1.0,\n",
    "                                  plot_step=1,\n",
    "                                  tol=1e-4,\n",
    "                                  ftol=1e-4,\n",
    "                                  dtol=1e-2)\n",
    "\n",
    "env = dismech.Environment()\n",
    "#env.add_force('gravity', g=np.array([0.0, 0.0, -9.81]))\n",
    "env.add_force('selfContact', delta=5e-4, h=2e-3)\n",
    "#env.set_static()   \n",
    "\n",
    "geo = dismech.Geometry.from_txt('input_twoTriangleContact_e2e.txt')\n",
    "\n",
    "robot = dismech.SoftRobot(geom, material, geo, shell_contact_sim, env)\n",
    "\n",
    "u = robot.state.u\n",
    "u[11] = -0.5\n",
    "u[14] = -0.5\n",
    "u[17] = -0.5"
   ]
  },
  {
   "cell_type": "markdown",
   "metadata": {},
   "source": [
    "### Time Stepping\n",
    "\n",
    "As we are performing a static simulation, we must change gravity for each time step."
   ]
  },
  {
   "cell_type": "code",
   "execution_count": 2,
   "metadata": {},
   "outputs": [
    {
     "name": "stdout",
     "output_type": "stream",
     "text": [
      "{'edge1': (array([500.,   0., 250.]), array([  0., 500., 250.])), 'edge2': (array([500., 500., 300.]), array([  0.,   0., 300.]))}\n",
      "min distance is:  [50.]\n",
      "contact type is: ['EdgeToEdge']\n",
      "mask: [[ 3  4  5  6  7  8  0  1  2 15 16 17  9 10 11 12 13 14]]\n",
      "{'edge1': (array([500.,   0., 250.]), array([  0., 500., 250.])), 'edge2': (array([500., 500., 300.]), array([  0.,   0., 300.]))}\n",
      "min distance is:  [50.]\n",
      "contact type is: ['EdgeToEdge']\n",
      "mask: [[ 3  4  5  6  7  8  0  1  2 15 16 17  9 10 11 12 13 14]]\n",
      "{'edge1': (array([500.,   0., 250.]), array([  0., 500., 250.])), 'edge2': (array([500., 500., 300.]), array([  0.,   0., 300.]))}\n",
      "min distance is:  [50.]\n",
      "contact type is: ['EdgeToEdge']\n",
      "mask: [[ 3  4  5  6  7  8  0  1  2 15 16 17  9 10 11 12 13 14]]\n",
      "Delta: [50.]\n",
      "upper limit for quadratic: 1.75\n",
      "upper limit for smooth: 2.25\n",
      "{'edge1': (array([500.,   0., 250.]), array([  0., 500., 250.])), 'edge2': (array([500. , 500. , 297.5]), array([-1.11289660e-15, -1.01321895e-15,  2.97500000e+02]))}\n",
      "min distance is:  [47.5]\n",
      "contact type is: ['EdgeToEdge']\n",
      "mask: [[ 3  4  5  6  7  8  0  1  2 15 16 17  9 10 11 12 13 14]]\n",
      "{'edge1': (array([500.,   0., 250.]), array([  0., 500., 250.])), 'edge2': (array([500. , 500. , 297.5]), array([-1.11289660e-15, -1.01321895e-15,  2.97500000e+02]))}\n",
      "min distance is:  [47.5]\n",
      "contact type is: ['EdgeToEdge']\n",
      "mask: [[ 3  4  5  6  7  8  0  1  2 15 16 17  9 10 11 12 13 14]]\n",
      "{'edge1': (array([500.,   0., 250.]), array([  0., 500., 250.])), 'edge2': (array([500. , 500. , 297.5]), array([-1.11289660e-15, -1.01321895e-15,  2.97500000e+02]))}\n",
      "min distance is:  [47.5]\n",
      "contact type is: ['EdgeToEdge']\n",
      "mask: [[ 3  4  5  6  7  8  0  1  2 15 16 17  9 10 11 12 13 14]]\n",
      "Delta: [47.5]\n",
      "upper limit for quadratic: 1.75\n",
      "upper limit for smooth: 2.25\n",
      "{'edge1': (array([500.,   0., 250.]), array([  0., 500., 250.])), 'edge2': (array([500. , 500. , 297.5]), array([-1.11289660e-15, -1.01321895e-15,  2.97500000e+02]))}\n",
      "min distance is:  [47.5]\n",
      "contact type is: ['EdgeToEdge']\n",
      "mask: [[ 3  4  5  6  7  8  0  1  2 15 16 17  9 10 11 12 13 14]]\n",
      "{'edge1': (array([500.,   0., 250.]), array([  0., 500., 250.])), 'edge2': (array([500. , 500. , 297.5]), array([-1.11289660e-15, -1.01321895e-15,  2.97500000e+02]))}\n",
      "min distance is:  [47.5]\n",
      "contact type is: ['EdgeToEdge']\n",
      "mask: [[ 3  4  5  6  7  8  0  1  2 15 16 17  9 10 11 12 13 14]]\n",
      "{'edge1': (array([500.,   0., 250.]), array([  0., 500., 250.])), 'edge2': (array([500. , 500. , 297.5]), array([-1.11289660e-15, -1.01321895e-15,  2.97500000e+02]))}\n",
      "min distance is:  [47.5]\n",
      "contact type is: ['EdgeToEdge']\n",
      "mask: [[ 3  4  5  6  7  8  0  1  2 15 16 17  9 10 11 12 13 14]]\n",
      "Delta: [47.5]\n",
      "upper limit for quadratic: 1.75\n",
      "upper limit for smooth: 2.25\n",
      "{'edge1': (array([500.,   0., 250.]), array([  0., 500., 250.])), 'edge2': (array([500., 500., 295.]), array([-9.14799725e-15,  3.03965685e-15,  2.95000000e+02]))}\n",
      "min distance is:  [45.]\n",
      "contact type is: ['EdgeToEdge']\n",
      "mask: [[ 3  4  5  6  7  8  0  1  2 15 16 17  9 10 11 12 13 14]]\n",
      "{'edge1': (array([500.,   0., 250.]), array([  0., 500., 250.])), 'edge2': (array([500., 500., 295.]), array([-9.14799725e-15,  3.03965685e-15,  2.95000000e+02]))}\n",
      "min distance is:  [45.]\n",
      "contact type is: ['EdgeToEdge']\n",
      "mask: [[ 3  4  5  6  7  8  0  1  2 15 16 17  9 10 11 12 13 14]]\n",
      "{'edge1': (array([500.,   0., 250.]), array([  0., 500., 250.])), 'edge2': (array([500., 500., 295.]), array([-9.14799725e-15,  3.03965685e-15,  2.95000000e+02]))}\n",
      "min distance is:  [45.]\n",
      "contact type is: ['EdgeToEdge']\n",
      "mask: [[ 3  4  5  6  7  8  0  1  2 15 16 17  9 10 11 12 13 14]]\n",
      "Delta: [45.]\n",
      "upper limit for quadratic: 1.75\n",
      "upper limit for smooth: 2.25\n",
      "{'edge1': (array([500.,   0., 250.]), array([  0., 500., 250.])), 'edge2': (array([500., 500., 295.]), array([-9.14799725e-15,  3.03965685e-15,  2.95000000e+02]))}\n",
      "min distance is:  [45.]\n",
      "contact type is: ['EdgeToEdge']\n",
      "mask: [[ 3  4  5  6  7  8  0  1  2 15 16 17  9 10 11 12 13 14]]\n",
      "{'edge1': (array([500.,   0., 250.]), array([  0., 500., 250.])), 'edge2': (array([500., 500., 295.]), array([-9.14799725e-15,  3.03965685e-15,  2.95000000e+02]))}\n",
      "min distance is:  [45.]\n",
      "contact type is: ['EdgeToEdge']\n",
      "mask: [[ 3  4  5  6  7  8  0  1  2 15 16 17  9 10 11 12 13 14]]\n",
      "{'edge1': (array([500.,   0., 250.]), array([  0., 500., 250.])), 'edge2': (array([500., 500., 295.]), array([-9.14799725e-15,  3.03965685e-15,  2.95000000e+02]))}\n",
      "min distance is:  [45.]\n",
      "contact type is: ['EdgeToEdge']\n",
      "mask: [[ 3  4  5  6  7  8  0  1  2 15 16 17  9 10 11 12 13 14]]\n",
      "Delta: [45.]\n",
      "upper limit for quadratic: 1.75\n",
      "upper limit for smooth: 2.25\n",
      "{'edge1': (array([500.,   0., 250.]), array([  0., 500., 250.])), 'edge2': (array([500. , 500. , 292.5]), array([-2.02477888e-14,  7.59914212e-15,  2.92500000e+02]))}\n",
      "min distance is:  [42.5]\n",
      "contact type is: ['EdgeToEdge']\n",
      "mask: [[ 3  4  5  6  7  8  0  1  2 15 16 17  9 10 11 12 13 14]]\n",
      "{'edge1': (array([500.,   0., 250.]), array([  0., 500., 250.])), 'edge2': (array([500. , 500. , 292.5]), array([-2.02477888e-14,  7.59914212e-15,  2.92500000e+02]))}\n",
      "min distance is:  [42.5]\n",
      "contact type is: ['EdgeToEdge']\n",
      "mask: [[ 3  4  5  6  7  8  0  1  2 15 16 17  9 10 11 12 13 14]]\n",
      "{'edge1': (array([500.,   0., 250.]), array([  0., 500., 250.])), 'edge2': (array([500. , 500. , 292.5]), array([-2.02477888e-14,  7.59914212e-15,  2.92500000e+02]))}\n",
      "min distance is:  [42.5]\n",
      "contact type is: ['EdgeToEdge']\n",
      "mask: [[ 3  4  5  6  7  8  0  1  2 15 16 17  9 10 11 12 13 14]]\n",
      "Delta: [42.5]\n",
      "upper limit for quadratic: 1.75\n",
      "upper limit for smooth: 2.25\n",
      "{'edge1': (array([500.,   0., 250.]), array([  0., 500., 250.])), 'edge2': (array([500. , 500. , 292.5]), array([-2.02477888e-14,  7.59914212e-15,  2.92500000e+02]))}\n",
      "min distance is:  [42.5]\n",
      "contact type is: ['EdgeToEdge']\n",
      "mask: [[ 3  4  5  6  7  8  0  1  2 15 16 17  9 10 11 12 13 14]]\n",
      "{'edge1': (array([500.,   0., 250.]), array([  0., 500., 250.])), 'edge2': (array([500. , 500. , 292.5]), array([-2.02477888e-14,  7.59914212e-15,  2.92500000e+02]))}\n",
      "min distance is:  [42.5]\n",
      "contact type is: ['EdgeToEdge']\n",
      "mask: [[ 3  4  5  6  7  8  0  1  2 15 16 17  9 10 11 12 13 14]]\n",
      "{'edge1': (array([500.,   0., 250.]), array([  0., 500., 250.])), 'edge2': (array([500. , 500. , 292.5]), array([-2.02477888e-14,  7.59914212e-15,  2.92500000e+02]))}\n",
      "min distance is:  [42.5]\n",
      "contact type is: ['EdgeToEdge']\n",
      "mask: [[ 3  4  5  6  7  8  0  1  2 15 16 17  9 10 11 12 13 14]]\n",
      "Delta: [42.5]\n",
      "upper limit for quadratic: 1.75\n",
      "upper limit for smooth: 2.25\n",
      "{'edge1': (array([500.,   0., 250.]), array([  0., 500., 250.])), 'edge2': (array([500., 500., 290.]), array([-6.54499986e-14,  4.53415480e-14,  2.90000000e+02]))}\n",
      "min distance is:  [40.]\n",
      "contact type is: ['EdgeToEdge']\n",
      "mask: [[ 3  4  5  6  7  8  0  1  2 15 16 17  9 10 11 12 13 14]]\n",
      "{'edge1': (array([500.,   0., 250.]), array([  0., 500., 250.])), 'edge2': (array([500., 500., 290.]), array([-6.54499986e-14,  4.53415480e-14,  2.90000000e+02]))}\n",
      "min distance is:  [40.]\n",
      "contact type is: ['EdgeToEdge']\n",
      "mask: [[ 3  4  5  6  7  8  0  1  2 15 16 17  9 10 11 12 13 14]]\n",
      "{'edge1': (array([500.,   0., 250.]), array([  0., 500., 250.])), 'edge2': (array([500., 500., 290.]), array([-6.54499986e-14,  4.53415480e-14,  2.90000000e+02]))}\n",
      "min distance is:  [40.]\n",
      "contact type is: ['EdgeToEdge']\n",
      "mask: [[ 3  4  5  6  7  8  0  1  2 15 16 17  9 10 11 12 13 14]]\n",
      "Delta: [40.]\n",
      "upper limit for quadratic: 1.75\n",
      "upper limit for smooth: 2.25\n",
      "{'edge1': (array([500.,   0., 250.]), array([  0., 500., 250.])), 'edge2': (array([500., 500., 290.]), array([-6.54499986e-14,  4.53415480e-14,  2.90000000e+02]))}\n",
      "min distance is:  [40.]\n",
      "contact type is: ['EdgeToEdge']\n",
      "mask: [[ 3  4  5  6  7  8  0  1  2 15 16 17  9 10 11 12 13 14]]\n",
      "{'edge1': (array([500.,   0., 250.]), array([  0., 500., 250.])), 'edge2': (array([500., 500., 290.]), array([-6.54499986e-14,  4.53415480e-14,  2.90000000e+02]))}\n",
      "min distance is:  [40.]\n",
      "contact type is: ['EdgeToEdge']\n",
      "mask: [[ 3  4  5  6  7  8  0  1  2 15 16 17  9 10 11 12 13 14]]\n",
      "{'edge1': (array([500.,   0., 250.]), array([  0., 500., 250.])), 'edge2': (array([500., 500., 290.]), array([-6.54499986e-14,  4.53415480e-14,  2.90000000e+02]))}\n",
      "min distance is:  [40.]\n",
      "contact type is: ['EdgeToEdge']\n",
      "mask: [[ 3  4  5  6  7  8  0  1  2 15 16 17  9 10 11 12 13 14]]\n",
      "Delta: [40.]\n",
      "upper limit for quadratic: 1.75\n",
      "upper limit for smooth: 2.25\n",
      "{'edge1': (array([500.,   0., 250.]), array([  0., 500., 250.])), 'edge2': (array([500. , 500. , 287.5]), array([-3.04322248e-14, -8.73901344e-14,  2.87500000e+02]))}\n",
      "min distance is:  [37.5]\n",
      "contact type is: ['EdgeToEdge']\n",
      "mask: [[ 3  4  5  6  7  8  0  1  2 15 16 17  9 10 11 12 13 14]]\n",
      "{'edge1': (array([500.,   0., 250.]), array([  0., 500., 250.])), 'edge2': (array([500. , 500. , 287.5]), array([-3.04322248e-14, -8.73901344e-14,  2.87500000e+02]))}\n",
      "min distance is:  [37.5]\n",
      "contact type is: ['EdgeToEdge']\n",
      "mask: [[ 3  4  5  6  7  8  0  1  2 15 16 17  9 10 11 12 13 14]]\n",
      "{'edge1': (array([500.,   0., 250.]), array([  0., 500., 250.])), 'edge2': (array([500. , 500. , 287.5]), array([-3.04322248e-14, -8.73901344e-14,  2.87500000e+02]))}\n",
      "min distance is:  [37.5]\n",
      "contact type is: ['EdgeToEdge']\n",
      "mask: [[ 3  4  5  6  7  8  0  1  2 15 16 17  9 10 11 12 13 14]]\n",
      "Delta: [37.5]\n",
      "upper limit for quadratic: 1.75\n",
      "upper limit for smooth: 2.25\n",
      "{'edge1': (array([500.,   0., 250.]), array([  0., 500., 250.])), 'edge2': (array([500. , 500. , 287.5]), array([-3.04322248e-14, -8.73901344e-14,  2.87500000e+02]))}\n",
      "min distance is:  [37.5]\n",
      "contact type is: ['EdgeToEdge']\n",
      "mask: [[ 3  4  5  6  7  8  0  1  2 15 16 17  9 10 11 12 13 14]]\n",
      "{'edge1': (array([500.,   0., 250.]), array([  0., 500., 250.])), 'edge2': (array([500. , 500. , 287.5]), array([-3.04322248e-14, -8.73901344e-14,  2.87500000e+02]))}\n",
      "min distance is:  [37.5]\n",
      "contact type is: ['EdgeToEdge']\n",
      "mask: [[ 3  4  5  6  7  8  0  1  2 15 16 17  9 10 11 12 13 14]]\n",
      "{'edge1': (array([500.,   0., 250.]), array([  0., 500., 250.])), 'edge2': (array([500. , 500. , 287.5]), array([-3.04322248e-14, -8.73901344e-14,  2.87500000e+02]))}\n",
      "min distance is:  [37.5]\n",
      "contact type is: ['EdgeToEdge']\n",
      "mask: [[ 3  4  5  6  7  8  0  1  2 15 16 17  9 10 11 12 13 14]]\n",
      "Delta: [37.5]\n",
      "upper limit for quadratic: 1.75\n",
      "upper limit for smooth: 2.25\n",
      "{'edge1': (array([500.,   0., 250.]), array([  0., 500., 250.])), 'edge2': (array([500., 500., 285.]), array([-1.97581400e-14, -1.46916748e-14,  2.85000000e+02]))}\n",
      "min distance is:  [35.]\n",
      "contact type is: ['EdgeToEdge']\n",
      "mask: [[ 3  4  5  6  7  8  0  1  2 15 16 17  9 10 11 12 13 14]]\n",
      "{'edge1': (array([500.,   0., 250.]), array([  0., 500., 250.])), 'edge2': (array([500., 500., 285.]), array([-1.97581400e-14, -1.46916748e-14,  2.85000000e+02]))}\n",
      "min distance is:  [35.]\n",
      "contact type is: ['EdgeToEdge']\n",
      "mask: [[ 3  4  5  6  7  8  0  1  2 15 16 17  9 10 11 12 13 14]]\n",
      "{'edge1': (array([500.,   0., 250.]), array([  0., 500., 250.])), 'edge2': (array([500., 500., 285.]), array([-1.97581400e-14, -1.46916748e-14,  2.85000000e+02]))}\n",
      "min distance is:  [35.]\n",
      "contact type is: ['EdgeToEdge']\n",
      "mask: [[ 3  4  5  6  7  8  0  1  2 15 16 17  9 10 11 12 13 14]]\n",
      "Delta: [35.]\n",
      "upper limit for quadratic: 1.75\n",
      "upper limit for smooth: 2.25\n",
      "{'edge1': (array([500.,   0., 250.]), array([  0., 500., 250.])), 'edge2': (array([500., 500., 285.]), array([-1.97581400e-14, -1.46916748e-14,  2.85000000e+02]))}\n",
      "min distance is:  [35.]\n",
      "contact type is: ['EdgeToEdge']\n",
      "mask: [[ 3  4  5  6  7  8  0  1  2 15 16 17  9 10 11 12 13 14]]\n",
      "{'edge1': (array([500.,   0., 250.]), array([  0., 500., 250.])), 'edge2': (array([500., 500., 285.]), array([-1.97581400e-14, -1.46916748e-14,  2.85000000e+02]))}\n",
      "min distance is:  [35.]\n",
      "contact type is: ['EdgeToEdge']\n",
      "mask: [[ 3  4  5  6  7  8  0  1  2 15 16 17  9 10 11 12 13 14]]\n",
      "{'edge1': (array([500.,   0., 250.]), array([  0., 500., 250.])), 'edge2': (array([500., 500., 285.]), array([-1.97581400e-14, -1.46916748e-14,  2.85000000e+02]))}\n",
      "min distance is:  [35.]\n",
      "contact type is: ['EdgeToEdge']\n",
      "mask: [[ 3  4  5  6  7  8  0  1  2 15 16 17  9 10 11 12 13 14]]\n",
      "Delta: [35.]\n",
      "upper limit for quadratic: 1.75\n",
      "upper limit for smooth: 2.25\n",
      "{'edge1': (array([500.,   0., 250.]), array([  0., 500., 250.])), 'edge2': (array([500. , 500. , 282.5]), array([-2.61443771e-15, -2.10242932e-14,  2.82500000e+02]))}\n",
      "min distance is:  [32.5]\n",
      "contact type is: ['EdgeToEdge']\n",
      "mask: [[ 3  4  5  6  7  8  0  1  2 15 16 17  9 10 11 12 13 14]]\n",
      "{'edge1': (array([500.,   0., 250.]), array([  0., 500., 250.])), 'edge2': (array([500. , 500. , 282.5]), array([-2.61443771e-15, -2.10242932e-14,  2.82500000e+02]))}\n",
      "min distance is:  [32.5]\n",
      "contact type is: ['EdgeToEdge']\n",
      "mask: [[ 3  4  5  6  7  8  0  1  2 15 16 17  9 10 11 12 13 14]]\n",
      "{'edge1': (array([500.,   0., 250.]), array([  0., 500., 250.])), 'edge2': (array([500. , 500. , 282.5]), array([-2.61443771e-15, -2.10242932e-14,  2.82500000e+02]))}\n",
      "min distance is:  [32.5]\n",
      "contact type is: ['EdgeToEdge']\n",
      "mask: [[ 3  4  5  6  7  8  0  1  2 15 16 17  9 10 11 12 13 14]]\n",
      "Delta: [32.5]\n",
      "upper limit for quadratic: 1.75\n",
      "upper limit for smooth: 2.25\n",
      "{'edge1': (array([500.,   0., 250.]), array([  0., 500., 250.])), 'edge2': (array([500. , 500. , 282.5]), array([-2.61443771e-15, -2.10242932e-14,  2.82500000e+02]))}\n",
      "min distance is:  [32.5]\n",
      "contact type is: ['EdgeToEdge']\n",
      "mask: [[ 3  4  5  6  7  8  0  1  2 15 16 17  9 10 11 12 13 14]]\n",
      "{'edge1': (array([500.,   0., 250.]), array([  0., 500., 250.])), 'edge2': (array([500. , 500. , 282.5]), array([-2.61443771e-15, -2.10242932e-14,  2.82500000e+02]))}\n",
      "min distance is:  [32.5]\n",
      "contact type is: ['EdgeToEdge']\n",
      "mask: [[ 3  4  5  6  7  8  0  1  2 15 16 17  9 10 11 12 13 14]]\n",
      "{'edge1': (array([500.,   0., 250.]), array([  0., 500., 250.])), 'edge2': (array([500. , 500. , 282.5]), array([-2.61443771e-15, -2.10242932e-14,  2.82500000e+02]))}\n",
      "min distance is:  [32.5]\n",
      "contact type is: ['EdgeToEdge']\n",
      "mask: [[ 3  4  5  6  7  8  0  1  2 15 16 17  9 10 11 12 13 14]]\n",
      "Delta: [32.5]\n",
      "upper limit for quadratic: 1.75\n",
      "upper limit for smooth: 2.25\n",
      "{'edge1': (array([500.,   0., 250.]), array([  0., 500., 250.])), 'edge2': (array([500., 500., 280.]), array([ 7.20946625e-14, -3.62225774e-14,  2.80000000e+02]))}\n",
      "min distance is:  [30.]\n",
      "contact type is: ['EdgeToEdge']\n",
      "mask: [[ 3  4  5  6  7  8  0  1  2 15 16 17  9 10 11 12 13 14]]\n",
      "{'edge1': (array([500.,   0., 250.]), array([  0., 500., 250.])), 'edge2': (array([500., 500., 280.]), array([ 7.20946625e-14, -3.62225774e-14,  2.80000000e+02]))}\n",
      "min distance is:  [30.]\n",
      "contact type is: ['EdgeToEdge']\n",
      "mask: [[ 3  4  5  6  7  8  0  1  2 15 16 17  9 10 11 12 13 14]]\n",
      "{'edge1': (array([500.,   0., 250.]), array([  0., 500., 250.])), 'edge2': (array([500., 500., 280.]), array([ 7.20946625e-14, -3.62225774e-14,  2.80000000e+02]))}\n",
      "min distance is:  [30.]\n",
      "contact type is: ['EdgeToEdge']\n",
      "mask: [[ 3  4  5  6  7  8  0  1  2 15 16 17  9 10 11 12 13 14]]\n",
      "Delta: [30.]\n",
      "upper limit for quadratic: 1.75\n",
      "upper limit for smooth: 2.25\n",
      "{'edge1': (array([500.,   0., 250.]), array([  0., 500., 250.])), 'edge2': (array([500., 500., 280.]), array([ 7.20946625e-14, -3.62225774e-14,  2.80000000e+02]))}\n",
      "min distance is:  [30.]\n",
      "contact type is: ['EdgeToEdge']\n",
      "mask: [[ 3  4  5  6  7  8  0  1  2 15 16 17  9 10 11 12 13 14]]\n",
      "{'edge1': (array([500.,   0., 250.]), array([  0., 500., 250.])), 'edge2': (array([500., 500., 280.]), array([ 7.20946625e-14, -3.62225774e-14,  2.80000000e+02]))}\n",
      "min distance is:  [30.]\n",
      "contact type is: ['EdgeToEdge']\n",
      "mask: [[ 3  4  5  6  7  8  0  1  2 15 16 17  9 10 11 12 13 14]]\n",
      "{'edge1': (array([500.,   0., 250.]), array([  0., 500., 250.])), 'edge2': (array([500., 500., 280.]), array([ 7.20946625e-14, -3.62225774e-14,  2.80000000e+02]))}\n",
      "min distance is:  [30.]\n",
      "contact type is: ['EdgeToEdge']\n",
      "mask: [[ 3  4  5  6  7  8  0  1  2 15 16 17  9 10 11 12 13 14]]\n",
      "Delta: [30.]\n",
      "upper limit for quadratic: 1.75\n",
      "upper limit for smooth: 2.25\n",
      "{'edge1': (array([500.,   0., 250.]), array([  0., 500., 250.])), 'edge2': (array([500. , 500. , 277.5]), array([ 1.04162270e-13, -6.30728796e-14,  2.77500000e+02]))}\n",
      "min distance is:  [27.5]\n",
      "contact type is: ['EdgeToEdge']\n",
      "mask: [[ 3  4  5  6  7  8  0  1  2 15 16 17  9 10 11 12 13 14]]\n",
      "{'edge1': (array([500.,   0., 250.]), array([  0., 500., 250.])), 'edge2': (array([500. , 500. , 277.5]), array([ 1.04162270e-13, -6.30728796e-14,  2.77500000e+02]))}\n",
      "min distance is:  [27.5]\n",
      "contact type is: ['EdgeToEdge']\n",
      "mask: [[ 3  4  5  6  7  8  0  1  2 15 16 17  9 10 11 12 13 14]]\n",
      "{'edge1': (array([500.,   0., 250.]), array([  0., 500., 250.])), 'edge2': (array([500. , 500. , 277.5]), array([ 1.04162270e-13, -6.30728796e-14,  2.77500000e+02]))}\n",
      "min distance is:  [27.5]\n",
      "contact type is: ['EdgeToEdge']\n",
      "mask: [[ 3  4  5  6  7  8  0  1  2 15 16 17  9 10 11 12 13 14]]\n",
      "Delta: [27.5]\n",
      "upper limit for quadratic: 1.75\n",
      "upper limit for smooth: 2.25\n",
      "{'edge1': (array([500.,   0., 250.]), array([  0., 500., 250.])), 'edge2': (array([500. , 500. , 277.5]), array([ 1.04162270e-13, -6.30728796e-14,  2.77500000e+02]))}\n",
      "min distance is:  [27.5]\n",
      "contact type is: ['EdgeToEdge']\n",
      "mask: [[ 3  4  5  6  7  8  0  1  2 15 16 17  9 10 11 12 13 14]]\n",
      "{'edge1': (array([500.,   0., 250.]), array([  0., 500., 250.])), 'edge2': (array([500. , 500. , 277.5]), array([ 1.04162270e-13, -6.30728796e-14,  2.77500000e+02]))}\n",
      "min distance is:  [27.5]\n",
      "contact type is: ['EdgeToEdge']\n",
      "mask: [[ 3  4  5  6  7  8  0  1  2 15 16 17  9 10 11 12 13 14]]\n",
      "{'edge1': (array([500.,   0., 250.]), array([  0., 500., 250.])), 'edge2': (array([500. , 500. , 277.5]), array([ 1.04162270e-13, -6.30728796e-14,  2.77500000e+02]))}\n",
      "min distance is:  [27.5]\n",
      "contact type is: ['EdgeToEdge']\n",
      "mask: [[ 3  4  5  6  7  8  0  1  2 15 16 17  9 10 11 12 13 14]]\n",
      "Delta: [27.5]\n",
      "upper limit for quadratic: 1.75\n",
      "upper limit for smooth: 2.25\n",
      "{'edge1': (array([500.,   0., 250.]), array([  0., 500., 250.])), 'edge2': (array([500., 500., 275.]), array([ 1.58643621e-13, -6.38327938e-14,  2.75000000e+02]))}\n",
      "min distance is:  [25.]\n",
      "contact type is: ['EdgeToEdge']\n",
      "mask: [[ 3  4  5  6  7  8  0  1  2 15 16 17  9 10 11 12 13 14]]\n",
      "{'edge1': (array([500.,   0., 250.]), array([  0., 500., 250.])), 'edge2': (array([500., 500., 275.]), array([ 1.58643621e-13, -6.38327938e-14,  2.75000000e+02]))}\n",
      "min distance is:  [25.]\n",
      "contact type is: ['EdgeToEdge']\n",
      "mask: [[ 3  4  5  6  7  8  0  1  2 15 16 17  9 10 11 12 13 14]]\n",
      "{'edge1': (array([500.,   0., 250.]), array([  0., 500., 250.])), 'edge2': (array([500., 500., 275.]), array([ 1.58643621e-13, -6.38327938e-14,  2.75000000e+02]))}\n",
      "min distance is:  [25.]\n",
      "contact type is: ['EdgeToEdge']\n",
      "mask: [[ 3  4  5  6  7  8  0  1  2 15 16 17  9 10 11 12 13 14]]\n",
      "Delta: [25.]\n",
      "upper limit for quadratic: 1.75\n",
      "upper limit for smooth: 2.25\n",
      "{'edge1': (array([500.,   0., 250.]), array([  0., 500., 250.])), 'edge2': (array([500., 500., 275.]), array([ 1.58643621e-13, -6.38327938e-14,  2.75000000e+02]))}\n",
      "min distance is:  [25.]\n",
      "contact type is: ['EdgeToEdge']\n",
      "mask: [[ 3  4  5  6  7  8  0  1  2 15 16 17  9 10 11 12 13 14]]\n",
      "{'edge1': (array([500.,   0., 250.]), array([  0., 500., 250.])), 'edge2': (array([500., 500., 275.]), array([ 1.58643621e-13, -6.38327938e-14,  2.75000000e+02]))}\n",
      "min distance is:  [25.]\n",
      "contact type is: ['EdgeToEdge']\n",
      "mask: [[ 3  4  5  6  7  8  0  1  2 15 16 17  9 10 11 12 13 14]]\n",
      "{'edge1': (array([500.,   0., 250.]), array([  0., 500., 250.])), 'edge2': (array([500., 500., 275.]), array([ 1.58643621e-13, -6.38327938e-14,  2.75000000e+02]))}\n",
      "min distance is:  [25.]\n",
      "contact type is: ['EdgeToEdge']\n",
      "mask: [[ 3  4  5  6  7  8  0  1  2 15 16 17  9 10 11 12 13 14]]\n",
      "Delta: [25.]\n",
      "upper limit for quadratic: 1.75\n",
      "upper limit for smooth: 2.25\n",
      "{'edge1': (array([500.,   0., 250.]), array([  0., 500., 250.])), 'edge2': (array([500. , 500. , 272.5]), array([ 1.83551966e-13, -9.54958860e-14,  2.72500000e+02]))}\n",
      "min distance is:  [22.5]\n",
      "contact type is: ['EdgeToEdge']\n",
      "mask: [[ 3  4  5  6  7  8  0  1  2 15 16 17  9 10 11 12 13 14]]\n",
      "{'edge1': (array([500.,   0., 250.]), array([  0., 500., 250.])), 'edge2': (array([500. , 500. , 272.5]), array([ 1.83551966e-13, -9.54958860e-14,  2.72500000e+02]))}\n",
      "min distance is:  [22.5]\n",
      "contact type is: ['EdgeToEdge']\n",
      "mask: [[ 3  4  5  6  7  8  0  1  2 15 16 17  9 10 11 12 13 14]]\n",
      "{'edge1': (array([500.,   0., 250.]), array([  0., 500., 250.])), 'edge2': (array([500. , 500. , 272.5]), array([ 1.83551966e-13, -9.54958860e-14,  2.72500000e+02]))}\n",
      "min distance is:  [22.5]\n",
      "contact type is: ['EdgeToEdge']\n",
      "mask: [[ 3  4  5  6  7  8  0  1  2 15 16 17  9 10 11 12 13 14]]\n",
      "Delta: [22.5]\n",
      "upper limit for quadratic: 1.75\n",
      "upper limit for smooth: 2.25\n",
      "{'edge1': (array([500.,   0., 250.]), array([  0., 500., 250.])), 'edge2': (array([500. , 500. , 272.5]), array([ 1.83551966e-13, -9.54958860e-14,  2.72500000e+02]))}\n",
      "min distance is:  [22.5]\n",
      "contact type is: ['EdgeToEdge']\n",
      "mask: [[ 3  4  5  6  7  8  0  1  2 15 16 17  9 10 11 12 13 14]]\n",
      "{'edge1': (array([500.,   0., 250.]), array([  0., 500., 250.])), 'edge2': (array([500. , 500. , 272.5]), array([ 1.83551966e-13, -9.54958860e-14,  2.72500000e+02]))}\n",
      "min distance is:  [22.5]\n",
      "contact type is: ['EdgeToEdge']\n",
      "mask: [[ 3  4  5  6  7  8  0  1  2 15 16 17  9 10 11 12 13 14]]\n",
      "{'edge1': (array([500.,   0., 250.]), array([  0., 500., 250.])), 'edge2': (array([500. , 500. , 272.5]), array([ 1.83551966e-13, -9.54958860e-14,  2.72500000e+02]))}\n",
      "min distance is:  [22.5]\n",
      "contact type is: ['EdgeToEdge']\n",
      "mask: [[ 3  4  5  6  7  8  0  1  2 15 16 17  9 10 11 12 13 14]]\n",
      "Delta: [22.5]\n",
      "upper limit for quadratic: 1.75\n",
      "upper limit for smooth: 2.25\n",
      "{'edge1': (array([500.,   0., 250.]), array([  0., 500., 250.])), 'edge2': (array([500., 500., 270.]), array([ 2.30593377e-13, -1.06894599e-13,  2.70000000e+02]))}\n",
      "min distance is:  [20.]\n",
      "contact type is: ['EdgeToEdge']\n",
      "mask: [[ 3  4  5  6  7  8  0  1  2 15 16 17  9 10 11 12 13 14]]\n",
      "{'edge1': (array([500.,   0., 250.]), array([  0., 500., 250.])), 'edge2': (array([500., 500., 270.]), array([ 2.30593377e-13, -1.06894599e-13,  2.70000000e+02]))}\n",
      "min distance is:  [20.]\n",
      "contact type is: ['EdgeToEdge']\n",
      "mask: [[ 3  4  5  6  7  8  0  1  2 15 16 17  9 10 11 12 13 14]]\n",
      "{'edge1': (array([500.,   0., 250.]), array([  0., 500., 250.])), 'edge2': (array([500., 500., 270.]), array([ 2.30593377e-13, -1.06894599e-13,  2.70000000e+02]))}\n",
      "min distance is:  [20.]\n",
      "contact type is: ['EdgeToEdge']\n",
      "mask: [[ 3  4  5  6  7  8  0  1  2 15 16 17  9 10 11 12 13 14]]\n",
      "Delta: [20.]\n",
      "upper limit for quadratic: 1.75\n",
      "upper limit for smooth: 2.25\n",
      "{'edge1': (array([500.,   0., 250.]), array([  0., 500., 250.])), 'edge2': (array([500., 500., 270.]), array([ 2.30593377e-13, -1.06894599e-13,  2.70000000e+02]))}\n",
      "min distance is:  [20.]\n",
      "contact type is: ['EdgeToEdge']\n",
      "mask: [[ 3  4  5  6  7  8  0  1  2 15 16 17  9 10 11 12 13 14]]\n",
      "{'edge1': (array([500.,   0., 250.]), array([  0., 500., 250.])), 'edge2': (array([500., 500., 270.]), array([ 2.30593377e-13, -1.06894599e-13,  2.70000000e+02]))}\n",
      "min distance is:  [20.]\n",
      "contact type is: ['EdgeToEdge']\n",
      "mask: [[ 3  4  5  6  7  8  0  1  2 15 16 17  9 10 11 12 13 14]]\n",
      "{'edge1': (array([500.,   0., 250.]), array([  0., 500., 250.])), 'edge2': (array([500., 500., 270.]), array([ 2.30593377e-13, -1.06894599e-13,  2.70000000e+02]))}\n",
      "min distance is:  [20.]\n",
      "contact type is: ['EdgeToEdge']\n",
      "mask: [[ 3  4  5  6  7  8  0  1  2 15 16 17  9 10 11 12 13 14]]\n",
      "Delta: [20.]\n",
      "upper limit for quadratic: 1.75\n",
      "upper limit for smooth: 2.25\n",
      "{'edge1': (array([500.,   0., 250.]), array([  0., 500., 250.])), 'edge2': (array([500. , 500. , 267.5]), array([ 2.53418381e-13, -1.39317606e-13,  2.67500000e+02]))}\n",
      "min distance is:  [17.5]\n",
      "contact type is: ['EdgeToEdge']\n",
      "mask: [[ 3  4  5  6  7  8  0  1  2 15 16 17  9 10 11 12 13 14]]\n",
      "{'edge1': (array([500.,   0., 250.]), array([  0., 500., 250.])), 'edge2': (array([500. , 500. , 267.5]), array([ 2.53418381e-13, -1.39317606e-13,  2.67500000e+02]))}\n",
      "min distance is:  [17.5]\n",
      "contact type is: ['EdgeToEdge']\n",
      "mask: [[ 3  4  5  6  7  8  0  1  2 15 16 17  9 10 11 12 13 14]]\n",
      "{'edge1': (array([500.,   0., 250.]), array([  0., 500., 250.])), 'edge2': (array([500. , 500. , 267.5]), array([ 2.53418381e-13, -1.39317606e-13,  2.67500000e+02]))}\n",
      "min distance is:  [17.5]\n",
      "contact type is: ['EdgeToEdge']\n",
      "mask: [[ 3  4  5  6  7  8  0  1  2 15 16 17  9 10 11 12 13 14]]\n",
      "Delta: [17.5]\n",
      "upper limit for quadratic: 1.75\n",
      "upper limit for smooth: 2.25\n",
      "{'edge1': (array([500.,   0., 250.]), array([  0., 500., 250.])), 'edge2': (array([500. , 500. , 267.5]), array([ 2.53418381e-13, -1.39317606e-13,  2.67500000e+02]))}\n",
      "min distance is:  [17.5]\n",
      "contact type is: ['EdgeToEdge']\n",
      "mask: [[ 3  4  5  6  7  8  0  1  2 15 16 17  9 10 11 12 13 14]]\n",
      "{'edge1': (array([500.,   0., 250.]), array([  0., 500., 250.])), 'edge2': (array([500. , 500. , 267.5]), array([ 2.53418381e-13, -1.39317606e-13,  2.67500000e+02]))}\n",
      "min distance is:  [17.5]\n",
      "contact type is: ['EdgeToEdge']\n",
      "mask: [[ 3  4  5  6  7  8  0  1  2 15 16 17  9 10 11 12 13 14]]\n",
      "{'edge1': (array([500.,   0., 250.]), array([  0., 500., 250.])), 'edge2': (array([500. , 500. , 267.5]), array([ 2.53418381e-13, -1.39317606e-13,  2.67500000e+02]))}\n",
      "min distance is:  [17.5]\n",
      "contact type is: ['EdgeToEdge']\n",
      "mask: [[ 3  4  5  6  7  8  0  1  2 15 16 17  9 10 11 12 13 14]]\n",
      "Delta: [17.5]\n",
      "upper limit for quadratic: 1.75\n",
      "upper limit for smooth: 2.25\n",
      "{'edge1': (array([500.,   0., 250.]), array([  0., 500., 250.])), 'edge2': (array([500., 500., 265.]), array([ 2.5337476e-13, -1.3526473e-13,  2.6500000e+02]))}\n",
      "min distance is:  [15.]\n",
      "contact type is: ['EdgeToEdge']\n",
      "mask: [[ 3  4  5  6  7  8  0  1  2 15 16 17  9 10 11 12 13 14]]\n",
      "{'edge1': (array([500.,   0., 250.]), array([  0., 500., 250.])), 'edge2': (array([500., 500., 265.]), array([ 2.5337476e-13, -1.3526473e-13,  2.6500000e+02]))}\n",
      "min distance is:  [15.]\n",
      "contact type is: ['EdgeToEdge']\n",
      "mask: [[ 3  4  5  6  7  8  0  1  2 15 16 17  9 10 11 12 13 14]]\n",
      "{'edge1': (array([500.,   0., 250.]), array([  0., 500., 250.])), 'edge2': (array([500., 500., 265.]), array([ 2.5337476e-13, -1.3526473e-13,  2.6500000e+02]))}\n",
      "min distance is:  [15.]\n",
      "contact type is: ['EdgeToEdge']\n",
      "mask: [[ 3  4  5  6  7  8  0  1  2 15 16 17  9 10 11 12 13 14]]\n",
      "Delta: [15.]\n",
      "upper limit for quadratic: 1.75\n",
      "upper limit for smooth: 2.25\n",
      "{'edge1': (array([500.,   0., 250.]), array([  0., 500., 250.])), 'edge2': (array([500., 500., 265.]), array([ 2.5337476e-13, -1.3526473e-13,  2.6500000e+02]))}\n",
      "min distance is:  [15.]\n",
      "contact type is: ['EdgeToEdge']\n",
      "mask: [[ 3  4  5  6  7  8  0  1  2 15 16 17  9 10 11 12 13 14]]\n",
      "{'edge1': (array([500.,   0., 250.]), array([  0., 500., 250.])), 'edge2': (array([500., 500., 265.]), array([ 2.5337476e-13, -1.3526473e-13,  2.6500000e+02]))}\n",
      "min distance is:  [15.]\n",
      "contact type is: ['EdgeToEdge']\n",
      "mask: [[ 3  4  5  6  7  8  0  1  2 15 16 17  9 10 11 12 13 14]]\n",
      "{'edge1': (array([500.,   0., 250.]), array([  0., 500., 250.])), 'edge2': (array([500., 500., 265.]), array([ 2.5337476e-13, -1.3526473e-13,  2.6500000e+02]))}\n",
      "min distance is:  [15.]\n",
      "contact type is: ['EdgeToEdge']\n",
      "mask: [[ 3  4  5  6  7  8  0  1  2 15 16 17  9 10 11 12 13 14]]\n",
      "Delta: [15.]\n",
      "upper limit for quadratic: 1.75\n",
      "upper limit for smooth: 2.25\n",
      "{'edge1': (array([500.,   0., 250.]), array([  0., 500., 250.])), 'edge2': (array([500. , 500. , 262.5]), array([ 3.55150797e-13, -1.65154689e-13,  2.62500000e+02]))}\n",
      "min distance is:  [12.5]\n",
      "contact type is: ['EdgeToEdge']\n",
      "mask: [[ 3  4  5  6  7  8  0  1  2 15 16 17  9 10 11 12 13 14]]\n",
      "{'edge1': (array([500.,   0., 250.]), array([  0., 500., 250.])), 'edge2': (array([500. , 500. , 262.5]), array([ 3.55150797e-13, -1.65154689e-13,  2.62500000e+02]))}\n",
      "min distance is:  [12.5]\n",
      "contact type is: ['EdgeToEdge']\n",
      "mask: [[ 3  4  5  6  7  8  0  1  2 15 16 17  9 10 11 12 13 14]]\n",
      "{'edge1': (array([500.,   0., 250.]), array([  0., 500., 250.])), 'edge2': (array([500. , 500. , 262.5]), array([ 3.55150797e-13, -1.65154689e-13,  2.62500000e+02]))}\n",
      "min distance is:  [12.5]\n",
      "contact type is: ['EdgeToEdge']\n",
      "mask: [[ 3  4  5  6  7  8  0  1  2 15 16 17  9 10 11 12 13 14]]\n",
      "Delta: [12.5]\n",
      "upper limit for quadratic: 1.75\n",
      "upper limit for smooth: 2.25\n",
      "{'edge1': (array([500.,   0., 250.]), array([  0., 500., 250.])), 'edge2': (array([500. , 500. , 262.5]), array([ 3.55150797e-13, -1.65154689e-13,  2.62500000e+02]))}\n",
      "min distance is:  [12.5]\n",
      "contact type is: ['EdgeToEdge']\n",
      "mask: [[ 3  4  5  6  7  8  0  1  2 15 16 17  9 10 11 12 13 14]]\n",
      "{'edge1': (array([500.,   0., 250.]), array([  0., 500., 250.])), 'edge2': (array([500. , 500. , 262.5]), array([ 3.55150797e-13, -1.65154689e-13,  2.62500000e+02]))}\n",
      "min distance is:  [12.5]\n",
      "contact type is: ['EdgeToEdge']\n",
      "mask: [[ 3  4  5  6  7  8  0  1  2 15 16 17  9 10 11 12 13 14]]\n",
      "{'edge1': (array([500.,   0., 250.]), array([  0., 500., 250.])), 'edge2': (array([500. , 500. , 262.5]), array([ 3.55150797e-13, -1.65154689e-13,  2.62500000e+02]))}\n",
      "min distance is:  [12.5]\n",
      "contact type is: ['EdgeToEdge']\n",
      "mask: [[ 3  4  5  6  7  8  0  1  2 15 16 17  9 10 11 12 13 14]]\n",
      "Delta: [12.5]\n",
      "upper limit for quadratic: 1.75\n",
      "upper limit for smooth: 2.25\n",
      "{'edge1': (array([500.,   0., 250.]), array([  0., 500., 250.])), 'edge2': (array([500., 500., 260.]), array([ 4.05051872e-13, -2.04416923e-13,  2.60000000e+02]))}\n",
      "min distance is:  [10.]\n",
      "contact type is: ['EdgeToEdge']\n",
      "mask: [[ 3  4  5  6  7  8  0  1  2 15 16 17  9 10 11 12 13 14]]\n",
      "{'edge1': (array([500.,   0., 250.]), array([  0., 500., 250.])), 'edge2': (array([500., 500., 260.]), array([ 4.05051872e-13, -2.04416923e-13,  2.60000000e+02]))}\n",
      "min distance is:  [10.]\n",
      "contact type is: ['EdgeToEdge']\n",
      "mask: [[ 3  4  5  6  7  8  0  1  2 15 16 17  9 10 11 12 13 14]]\n",
      "{'edge1': (array([500.,   0., 250.]), array([  0., 500., 250.])), 'edge2': (array([500., 500., 260.]), array([ 4.05051872e-13, -2.04416923e-13,  2.60000000e+02]))}\n",
      "min distance is:  [10.]\n",
      "contact type is: ['EdgeToEdge']\n",
      "mask: [[ 3  4  5  6  7  8  0  1  2 15 16 17  9 10 11 12 13 14]]\n",
      "Delta: [10.]\n",
      "upper limit for quadratic: 1.75\n",
      "upper limit for smooth: 2.25\n",
      "{'edge1': (array([500.,   0., 250.]), array([  0., 500., 250.])), 'edge2': (array([500., 500., 260.]), array([ 4.05051872e-13, -2.04416923e-13,  2.60000000e+02]))}\n",
      "min distance is:  [10.]\n",
      "contact type is: ['EdgeToEdge']\n",
      "mask: [[ 3  4  5  6  7  8  0  1  2 15 16 17  9 10 11 12 13 14]]\n",
      "{'edge1': (array([500.,   0., 250.]), array([  0., 500., 250.])), 'edge2': (array([500., 500., 260.]), array([ 4.05051872e-13, -2.04416923e-13,  2.60000000e+02]))}\n",
      "min distance is:  [10.]\n",
      "contact type is: ['EdgeToEdge']\n",
      "mask: [[ 3  4  5  6  7  8  0  1  2 15 16 17  9 10 11 12 13 14]]\n",
      "{'edge1': (array([500.,   0., 250.]), array([  0., 500., 250.])), 'edge2': (array([500., 500., 260.]), array([ 4.05051872e-13, -2.04416923e-13,  2.60000000e+02]))}\n",
      "min distance is:  [10.]\n",
      "contact type is: ['EdgeToEdge']\n",
      "mask: [[ 3  4  5  6  7  8  0  1  2 15 16 17  9 10 11 12 13 14]]\n",
      "Delta: [10.]\n",
      "upper limit for quadratic: 1.75\n",
      "upper limit for smooth: 2.25\n",
      "{'edge1': (array([500.,   0., 250.]), array([  0., 500., 250.])), 'edge2': (array([500. , 500. , 257.5]), array([ 4.62113577e-13, -2.09989627e-13,  2.57500000e+02]))}\n",
      "min distance is:  [7.5]\n",
      "contact type is: ['EdgeToEdge']\n",
      "mask: [[ 3  4  5  6  7  8  0  1  2 15 16 17  9 10 11 12 13 14]]\n",
      "{'edge1': (array([500.,   0., 250.]), array([  0., 500., 250.])), 'edge2': (array([500. , 500. , 257.5]), array([ 4.62113577e-13, -2.09989627e-13,  2.57500000e+02]))}\n",
      "min distance is:  [7.5]\n",
      "contact type is: ['EdgeToEdge']\n",
      "mask: [[ 3  4  5  6  7  8  0  1  2 15 16 17  9 10 11 12 13 14]]\n",
      "{'edge1': (array([500.,   0., 250.]), array([  0., 500., 250.])), 'edge2': (array([500. , 500. , 257.5]), array([ 4.62113577e-13, -2.09989627e-13,  2.57500000e+02]))}\n",
      "min distance is:  [7.5]\n",
      "contact type is: ['EdgeToEdge']\n",
      "mask: [[ 3  4  5  6  7  8  0  1  2 15 16 17  9 10 11 12 13 14]]\n",
      "Delta: [7.5]\n",
      "upper limit for quadratic: 1.75\n",
      "upper limit for smooth: 2.25\n",
      "{'edge1': (array([500.,   0., 250.]), array([  0., 500., 250.])), 'edge2': (array([500. , 500. , 257.5]), array([ 4.62113577e-13, -2.09989627e-13,  2.57500000e+02]))}\n",
      "min distance is:  [7.5]\n",
      "contact type is: ['EdgeToEdge']\n",
      "mask: [[ 3  4  5  6  7  8  0  1  2 15 16 17  9 10 11 12 13 14]]\n",
      "{'edge1': (array([500.,   0., 250.]), array([  0., 500., 250.])), 'edge2': (array([500. , 500. , 257.5]), array([ 4.62113577e-13, -2.09989627e-13,  2.57500000e+02]))}\n",
      "min distance is:  [7.5]\n",
      "contact type is: ['EdgeToEdge']\n",
      "mask: [[ 3  4  5  6  7  8  0  1  2 15 16 17  9 10 11 12 13 14]]\n",
      "{'edge1': (array([500.,   0., 250.]), array([  0., 500., 250.])), 'edge2': (array([500. , 500. , 257.5]), array([ 4.62113577e-13, -2.09989627e-13,  2.57500000e+02]))}\n",
      "min distance is:  [7.5]\n",
      "contact type is: ['EdgeToEdge']\n",
      "mask: [[ 3  4  5  6  7  8  0  1  2 15 16 17  9 10 11 12 13 14]]\n",
      "Delta: [7.5]\n",
      "upper limit for quadratic: 1.75\n",
      "upper limit for smooth: 2.25\n",
      "{'edge1': (array([500.,   0., 250.]), array([  0., 500., 250.])), 'edge2': (array([500., 500., 255.]), array([ 4.98770997e-13, -2.28227568e-13,  2.55000000e+02]))}\n",
      "min distance is:  [5.]\n",
      "contact type is: ['EdgeToEdge']\n",
      "mask: [[ 3  4  5  6  7  8  0  1  2 15 16 17  9 10 11 12 13 14]]\n",
      "{'edge1': (array([500.,   0., 250.]), array([  0., 500., 250.])), 'edge2': (array([500., 500., 255.]), array([ 4.98770997e-13, -2.28227568e-13,  2.55000000e+02]))}\n",
      "min distance is:  [5.]\n",
      "contact type is: ['EdgeToEdge']\n",
      "mask: [[ 3  4  5  6  7  8  0  1  2 15 16 17  9 10 11 12 13 14]]\n",
      "{'edge1': (array([500.,   0., 250.]), array([  0., 500., 250.])), 'edge2': (array([500., 500., 255.]), array([ 4.98770997e-13, -2.28227568e-13,  2.55000000e+02]))}\n",
      "min distance is:  [5.]\n",
      "contact type is: ['EdgeToEdge']\n",
      "mask: [[ 3  4  5  6  7  8  0  1  2 15 16 17  9 10 11 12 13 14]]\n",
      "Delta: [5.]\n",
      "upper limit for quadratic: 1.75\n",
      "upper limit for smooth: 2.25\n",
      "{'edge1': (array([500.,   0., 250.]), array([  0., 500., 250.])), 'edge2': (array([500., 500., 255.]), array([ 4.98770997e-13, -2.28227568e-13,  2.55000000e+02]))}\n",
      "min distance is:  [5.]\n",
      "contact type is: ['EdgeToEdge']\n",
      "mask: [[ 3  4  5  6  7  8  0  1  2 15 16 17  9 10 11 12 13 14]]\n",
      "{'edge1': (array([500.,   0., 250.]), array([  0., 500., 250.])), 'edge2': (array([500., 500., 255.]), array([ 4.98770997e-13, -2.28227568e-13,  2.55000000e+02]))}\n",
      "min distance is:  [5.]\n",
      "contact type is: ['EdgeToEdge']\n",
      "mask: [[ 3  4  5  6  7  8  0  1  2 15 16 17  9 10 11 12 13 14]]\n",
      "{'edge1': (array([500.,   0., 250.]), array([  0., 500., 250.])), 'edge2': (array([500., 500., 255.]), array([ 4.98770997e-13, -2.28227568e-13,  2.55000000e+02]))}\n",
      "min distance is:  [5.]\n",
      "contact type is: ['EdgeToEdge']\n",
      "mask: [[ 3  4  5  6  7  8  0  1  2 15 16 17  9 10 11 12 13 14]]\n",
      "Delta: [5.]\n",
      "upper limit for quadratic: 1.75\n",
      "upper limit for smooth: 2.25\n",
      "{'edge1': (array([500.,   0., 250.]), array([  0., 500., 250.])), 'edge2': (array([500. , 500. , 252.5]), array([ 5.05254538e-13, -1.98337609e-13,  2.52500000e+02]))}\n",
      "min distance is:  [2.5]\n",
      "contact type is: ['EdgeToEdge']\n",
      "mask: [[ 3  4  5  6  7  8  0  1  2 15 16 17  9 10 11 12 13 14]]\n",
      "{'edge1': (array([500.,   0., 250.]), array([  0., 500., 250.])), 'edge2': (array([500. , 500. , 252.5]), array([ 5.05254538e-13, -1.98337609e-13,  2.52500000e+02]))}\n",
      "min distance is:  [2.5]\n",
      "contact type is: ['EdgeToEdge']\n",
      "mask: [[ 3  4  5  6  7  8  0  1  2 15 16 17  9 10 11 12 13 14]]\n",
      "{'edge1': (array([500.,   0., 250.]), array([  0., 500., 250.])), 'edge2': (array([500. , 500. , 252.5]), array([ 5.05254538e-13, -1.98337609e-13,  2.52500000e+02]))}\n",
      "min distance is:  [2.5]\n",
      "contact type is: ['EdgeToEdge']\n",
      "mask: [[ 3  4  5  6  7  8  0  1  2 15 16 17  9 10 11 12 13 14]]\n",
      "Delta: [2.5]\n",
      "upper limit for quadratic: 1.75\n",
      "upper limit for smooth: 2.25\n",
      "{'edge1': (array([500.,   0., 250.]), array([  0., 500., 250.])), 'edge2': (array([500. , 500. , 252.5]), array([ 5.05254538e-13, -1.98337609e-13,  2.52500000e+02]))}\n",
      "min distance is:  [2.5]\n",
      "contact type is: ['EdgeToEdge']\n",
      "mask: [[ 3  4  5  6  7  8  0  1  2 15 16 17  9 10 11 12 13 14]]\n",
      "{'edge1': (array([500.,   0., 250.]), array([  0., 500., 250.])), 'edge2': (array([500. , 500. , 252.5]), array([ 5.05254538e-13, -1.98337609e-13,  2.52500000e+02]))}\n",
      "min distance is:  [2.5]\n",
      "contact type is: ['EdgeToEdge']\n",
      "mask: [[ 3  4  5  6  7  8  0  1  2 15 16 17  9 10 11 12 13 14]]\n",
      "{'edge1': (array([500.,   0., 250.]), array([  0., 500., 250.])), 'edge2': (array([500. , 500. , 252.5]), array([ 5.05254538e-13, -1.98337609e-13,  2.52500000e+02]))}\n",
      "min distance is:  [2.5]\n",
      "contact type is: ['EdgeToEdge']\n",
      "mask: [[ 3  4  5  6  7  8  0  1  2 15 16 17  9 10 11 12 13 14]]\n",
      "Delta: [2.5]\n",
      "upper limit for quadratic: 1.75\n",
      "upper limit for smooth: 2.25\n",
      "{'edge1': (array([500.,   0., 250.]), array([  0., 500., 250.])), 'edge2': (array([500., 500., 250.]), array([ 5.99331363e-13, -2.08976408e-13,  2.50000000e+02]))}\n",
      "min distance is:  [1.1718571e-13]\n",
      "contact type is: ['EdgeToEdge']\n",
      "mask: [[ 3  4  5  6  7  8  0  1  2 15 16 17  9 10 11 12 13 14]]\n",
      "{'edge1': (array([500.,   0., 250.]), array([  0., 500., 250.])), 'edge2': (array([500., 500., 250.]), array([ 5.99331363e-13, -2.08976408e-13,  2.50000000e+02]))}\n",
      "min distance is:  [1.1718571e-13]\n",
      "contact type is: ['EdgeToEdge']\n",
      "mask: [[ 3  4  5  6  7  8  0  1  2 15 16 17  9 10 11 12 13 14]]\n",
      "{'edge1': (array([500.,   0., 250.]), array([  0., 500., 250.])), 'edge2': (array([500., 500., 250.]), array([ 5.99331363e-13, -2.08976408e-13,  2.50000000e+02]))}\n",
      "min distance is:  [1.1718571e-13]\n",
      "contact type is: ['EdgeToEdge']\n",
      "mask: [[ 3  4  5  6  7  8  0  1  2 15 16 17  9 10 11 12 13 14]]\n",
      "Delta: [1.13686838e-13]\n",
      "upper limit for quadratic: 1.75\n",
      "upper limit for smooth: 2.25\n",
      "Branch 1 (quadratic): [1.13686838e-13]\n",
      "gradE is: [[-0.00000000e+00 -0.00000000e+00 -0.00000000e+00  7.95807864e-13\n",
      "   7.95807864e-13  1.00000000e+03  7.95807864e-13  7.95807864e-13\n",
      "   1.00000000e+03 -7.95807864e-13 -7.95807864e-13 -1.00000000e+03\n",
      "  -0.00000000e+00 -0.00000000e+00 -0.00000000e+00 -7.95807864e-13\n",
      "  -7.95807864e-13 -1.00000000e+03]]\n",
      "hessE is: [[[ 0.00000000e+00  0.00000000e+00  0.00000000e+00  0.00000000e+00\n",
      "    0.00000000e+00  0.00000000e+00  0.00000000e+00  0.00000000e+00\n",
      "    0.00000000e+00  0.00000000e+00  0.00000000e+00  0.00000000e+00\n",
      "    0.00000000e+00  0.00000000e+00  0.00000000e+00  0.00000000e+00\n",
      "    0.00000000e+00  0.00000000e+00]\n",
      "  [ 0.00000000e+00  0.00000000e+00  0.00000000e+00  0.00000000e+00\n",
      "    0.00000000e+00  0.00000000e+00  0.00000000e+00  0.00000000e+00\n",
      "    0.00000000e+00  0.00000000e+00  0.00000000e+00  0.00000000e+00\n",
      "    0.00000000e+00  0.00000000e+00  0.00000000e+00  0.00000000e+00\n",
      "    0.00000000e+00  0.00000000e+00]\n",
      "  [ 0.00000000e+00  0.00000000e+00  0.00000000e+00  0.00000000e+00\n",
      "    0.00000000e+00  0.00000000e+00  0.00000000e+00  0.00000000e+00\n",
      "    0.00000000e+00  0.00000000e+00  0.00000000e+00  0.00000000e+00\n",
      "    0.00000000e+00  0.00000000e+00  0.00000000e+00  0.00000000e+00\n",
      "    0.00000000e+00  0.00000000e+00]\n",
      "  [ 0.00000000e+00  0.00000000e+00  0.00000000e+00 -7.95807864e-13\n",
      "    8.07526618e-26 -5.00000000e+02  8.19563680e-26  7.95807864e-13\n",
      "    5.00000000e+02  7.95807864e-13 -7.88267318e-26  5.00000000e+02\n",
      "    0.00000000e+00  0.00000000e+00  0.00000000e+00 -8.15711820e-26\n",
      "   -7.95807864e-13 -5.00000000e+02]\n",
      "  [ 0.00000000e+00  0.00000000e+00  0.00000000e+00  8.08008100e-26\n",
      "    7.95807864e-13  5.00000000e+02 -7.95807864e-13  7.62748746e-26\n",
      "   -5.00000000e+02  7.95807864e-13 -7.89711766e-26  5.00000000e+02\n",
      "    0.00000000e+00  0.00000000e+00  0.00000000e+00 -8.15711820e-26\n",
      "   -7.95807864e-13 -5.00000000e+02]\n",
      "  [ 0.00000000e+00  0.00000000e+00  0.00000000e+00 -5.00000000e+02\n",
      "    5.00000000e+02  1.25000000e+05 -5.00000000e+02  5.00000000e+02\n",
      "    1.25000000e+05  5.00000000e+02 -5.00000000e+02 -1.25000000e+05\n",
      "    0.00000000e+00  0.00000000e+00  0.00000000e+00  5.00000000e+02\n",
      "   -5.00000000e+02 -1.25000000e+05]\n",
      "  [ 0.00000000e+00  0.00000000e+00  0.00000000e+00  8.20526645e-26\n",
      "   -7.95807864e-13 -5.00000000e+02  7.95807864e-13  7.78156186e-26\n",
      "    5.00000000e+02 -8.01748828e-26  7.95807864e-13  5.00000000e+02\n",
      "    0.00000000e+00  0.00000000e+00  0.00000000e+00 -7.95807864e-13\n",
      "   -7.72378396e-26 -5.00000000e+02]\n",
      "  [ 0.00000000e+00  0.00000000e+00  0.00000000e+00  7.95807864e-13\n",
      "    7.63711711e-26  5.00000000e+02  7.78156186e-26 -7.95807864e-13\n",
      "   -5.00000000e+02 -7.99341415e-26  7.95807864e-13  5.00000000e+02\n",
      "    0.00000000e+00  0.00000000e+00  0.00000000e+00 -7.95807864e-13\n",
      "   -7.73822844e-26 -5.00000000e+02]\n",
      "  [ 0.00000000e+00  0.00000000e+00  0.00000000e+00  5.00000000e+02\n",
      "   -5.00000000e+02  1.25000000e+05  5.00000000e+02 -5.00000000e+02\n",
      "    1.25000000e+05 -5.00000000e+02  5.00000000e+02 -1.25000000e+05\n",
      "    0.00000000e+00  0.00000000e+00  0.00000000e+00 -5.00000000e+02\n",
      "    5.00000000e+02 -1.25000000e+05]\n",
      "  [ 0.00000000e+00  0.00000000e+00  0.00000000e+00  7.95807864e-13\n",
      "    7.95807864e-13  5.00000000e+02 -8.01267345e-26 -7.99341415e-26\n",
      "   -5.00000000e+02 -7.95807864e-13 -7.95807864e-13 -5.00000000e+02\n",
      "    0.00000000e+00  0.00000000e+00  0.00000000e+00  8.00304380e-26\n",
      "    8.01267345e-26  5.00000000e+02]\n",
      "  [ 0.00000000e+00  0.00000000e+00  0.00000000e+00 -7.88748801e-26\n",
      "   -7.90674731e-26 -5.00000000e+02  7.95807864e-13  7.95807864e-13\n",
      "    5.00000000e+02 -7.95807864e-13 -7.95807864e-13 -5.00000000e+02\n",
      "    0.00000000e+00  0.00000000e+00  0.00000000e+00  8.00667322e-26\n",
      "    8.00304380e-26  5.00000000e+02]\n",
      "  [ 0.00000000e+00  0.00000000e+00  0.00000000e+00  5.00000000e+02\n",
      "    5.00000000e+02 -1.25000000e+05  5.00000000e+02  5.00000000e+02\n",
      "   -1.25000000e+05 -5.00000000e+02 -5.00000000e+02  1.25000000e+05\n",
      "    0.00000000e+00  0.00000000e+00  0.00000000e+00 -5.00000000e+02\n",
      "   -5.00000000e+02  1.25000000e+05]\n",
      "  [ 0.00000000e+00  0.00000000e+00  0.00000000e+00  0.00000000e+00\n",
      "    0.00000000e+00  0.00000000e+00  0.00000000e+00  0.00000000e+00\n",
      "    0.00000000e+00  0.00000000e+00  0.00000000e+00  0.00000000e+00\n",
      "    0.00000000e+00  0.00000000e+00  0.00000000e+00  0.00000000e+00\n",
      "    0.00000000e+00  0.00000000e+00]\n",
      "  [ 0.00000000e+00  0.00000000e+00  0.00000000e+00  0.00000000e+00\n",
      "    0.00000000e+00  0.00000000e+00  0.00000000e+00  0.00000000e+00\n",
      "    0.00000000e+00  0.00000000e+00  0.00000000e+00  0.00000000e+00\n",
      "    0.00000000e+00  0.00000000e+00  0.00000000e+00  0.00000000e+00\n",
      "    0.00000000e+00  0.00000000e+00]\n",
      "  [ 0.00000000e+00  0.00000000e+00  0.00000000e+00  0.00000000e+00\n",
      "    0.00000000e+00  0.00000000e+00  0.00000000e+00  0.00000000e+00\n",
      "    0.00000000e+00  0.00000000e+00  0.00000000e+00  0.00000000e+00\n",
      "    0.00000000e+00  0.00000000e+00  0.00000000e+00  0.00000000e+00\n",
      "    0.00000000e+00  0.00000000e+00]\n",
      "  [ 0.00000000e+00  0.00000000e+00  0.00000000e+00 -8.15711820e-26\n",
      "   -8.16674785e-26  5.00000000e+02 -7.95807864e-13 -7.95807864e-13\n",
      "   -5.00000000e+02  8.00785863e-26  8.00785863e-26 -5.00000000e+02\n",
      "    0.00000000e+00  0.00000000e+00  0.00000000e+00  7.95807864e-13\n",
      "    7.95807864e-13  5.00000000e+02]\n",
      "  [ 0.00000000e+00  0.00000000e+00  0.00000000e+00 -7.95807864e-13\n",
      "   -7.95807864e-13 -5.00000000e+02 -7.71415431e-26 -7.73341361e-26\n",
      "    5.00000000e+02  8.01748828e-26  8.00304380e-26 -5.00000000e+02\n",
      "    0.00000000e+00  0.00000000e+00  0.00000000e+00  7.95807864e-13\n",
      "    7.95807864e-13  5.00000000e+02]\n",
      "  [ 0.00000000e+00  0.00000000e+00  0.00000000e+00 -5.00000000e+02\n",
      "   -5.00000000e+02 -1.25000000e+05 -5.00000000e+02 -5.00000000e+02\n",
      "   -1.25000000e+05  5.00000000e+02  5.00000000e+02  1.25000000e+05\n",
      "    0.00000000e+00  0.00000000e+00  0.00000000e+00  5.00000000e+02\n",
      "    5.00000000e+02  1.25000000e+05]]]\n",
      "{'edge1': (array([5.00156119e+02, 1.09941050e-01, 2.49127220e+02]), array([2.09394806e-01, 5.00166326e+02, 2.48883609e+02])), 'edge2': (array([499.79060519, 500.16632602, 251.11639062]), array([-1.56119434e-01,  1.09941050e-01,  2.50872780e+02]))}\n",
      "min distance is:  [1.98934815]\n",
      "contact type is: ['EdgeToEdge']\n",
      "mask: [[ 3  4  5  6  7  8  0  1  2 15 16 17  9 10 11 12 13 14]]\n",
      "{'edge1': (array([5.00156119e+02, 1.09941050e-01, 2.49127220e+02]), array([2.09394806e-01, 5.00166326e+02, 2.48883609e+02])), 'edge2': (array([499.79060519, 500.16632602, 251.11639062]), array([-1.56119434e-01,  1.09941050e-01,  2.50872780e+02]))}\n",
      "min distance is:  [1.98934815]\n",
      "contact type is: ['EdgeToEdge']\n",
      "mask: [[ 3  4  5  6  7  8  0  1  2 15 16 17  9 10 11 12 13 14]]\n",
      "{'edge1': (array([5.00156119e+02, 1.09941050e-01, 2.49127220e+02]), array([2.09394806e-01, 5.00166326e+02, 2.48883609e+02])), 'edge2': (array([499.79060519, 500.16632602, 251.11639062]), array([-1.56119434e-01,  1.09941050e-01,  2.50872780e+02]))}\n",
      "min distance is:  [1.98934815]\n",
      "contact type is: ['EdgeToEdge']\n",
      "mask: [[ 3  4  5  6  7  8  0  1  2 15 16 17  9 10 11 12 13 14]]\n",
      "Delta: [1.98934815]\n",
      "upper limit for quadratic: 1.75\n",
      "upper limit for smooth: 2.25\n",
      "Branch 2 (smooth): [1.98934815]\n",
      "gradE is: [[-0.00000000e+00 -0.00000000e+00 -0.00000000e+00 -2.82304502e-03\n",
      "   4.45203479e-15  5.79354948e+00 -2.82716497e-03  4.45063689e-15\n",
      "   5.80200458e+00  2.82304502e-03 -4.44543317e-15 -5.79354948e+00\n",
      "  -0.00000000e+00 -0.00000000e+00 -0.00000000e+00  2.82716497e-03\n",
      "  -4.45706356e-15 -5.80200458e+00]]\n",
      "hessE is: [[[ 0.00000000e+00  0.00000000e+00  0.00000000e+00  0.00000000e+00\n",
      "    0.00000000e+00  0.00000000e+00  0.00000000e+00  0.00000000e+00\n",
      "    0.00000000e+00  0.00000000e+00  0.00000000e+00  0.00000000e+00\n",
      "    0.00000000e+00  0.00000000e+00  0.00000000e+00  0.00000000e+00\n",
      "    0.00000000e+00  0.00000000e+00]\n",
      "  [ 0.00000000e+00  0.00000000e+00  0.00000000e+00  0.00000000e+00\n",
      "    0.00000000e+00  0.00000000e+00  0.00000000e+00  0.00000000e+00\n",
      "    0.00000000e+00  0.00000000e+00  0.00000000e+00  0.00000000e+00\n",
      "    0.00000000e+00  0.00000000e+00  0.00000000e+00  0.00000000e+00\n",
      "    0.00000000e+00  0.00000000e+00]\n",
      "  [ 0.00000000e+00  0.00000000e+00  0.00000000e+00  0.00000000e+00\n",
      "    0.00000000e+00  0.00000000e+00  0.00000000e+00  0.00000000e+00\n",
      "    0.00000000e+00  0.00000000e+00  0.00000000e+00  0.00000000e+00\n",
      "    0.00000000e+00  0.00000000e+00  0.00000000e+00  0.00000000e+00\n",
      "    0.00000000e+00  0.00000000e+00]\n",
      "  [ 0.00000000e+00  0.00000000e+00  0.00000000e+00  2.26433972e-02\n",
      "   -1.41136335e-03 -4.35724703e+01  1.98510266e-02 -1.41342309e-03\n",
      "   -3.78376439e+01 -2.26433917e-02  1.41136335e-03  4.35724590e+01\n",
      "    0.00000000e+00  0.00000000e+00  0.00000000e+00 -1.98510321e-02\n",
      "    1.41342309e-03  3.78376551e+01]\n",
      "  [ 0.00000000e+00  0.00000000e+00  0.00000000e+00 -1.41136335e-03\n",
      "    4.44928332e-15  2.89644811e+00  1.41136335e-03  1.47327263e-17\n",
      "   -2.89644811e+00 -1.41136335e-03 -9.82181754e-18  2.89644811e+00\n",
      "    0.00000000e+00  0.00000000e+00  0.00000000e+00  1.41136335e-03\n",
      "   -4.44437242e-15 -2.89644811e+00]\n",
      "  [ 0.00000000e+00  0.00000000e+00  0.00000000e+00 -4.35724703e+01\n",
      "    2.89644811e+00  8.34754190e+04 -4.36360388e+01  2.90067518e+00\n",
      "    8.35971996e+04  4.35724590e+01 -2.89644811e+00 -8.34753960e+04\n",
      "    0.00000000e+00  0.00000000e+00  0.00000000e+00  4.36360500e+01\n",
      "   -2.90067518e+00 -8.35972227e+04]\n",
      "  [ 0.00000000e+00  0.00000000e+00  0.00000000e+00  1.98510266e-02\n",
      "    1.41136335e-03 -4.36360388e+01  1.70504794e-02  1.41342309e-03\n",
      "   -3.78928880e+01 -1.98510321e-02 -1.41136335e-03  4.36360500e+01\n",
      "    0.00000000e+00  0.00000000e+00  0.00000000e+00 -1.70504739e-02\n",
      "   -1.41342309e-03  3.78928768e+01]\n",
      "  [ 0.00000000e+00  0.00000000e+00  0.00000000e+00 -1.41342309e-03\n",
      "    9.82181754e-18  2.90067518e+00  1.41342309e-03 -4.45419423e-15\n",
      "   -2.90067518e+00 -1.41342309e-03  4.45910514e-15  2.90067518e+00\n",
      "    0.00000000e+00  0.00000000e+00  0.00000000e+00  1.41342309e-03\n",
      "   -4.91090880e-18 -2.90067518e+00]\n",
      "  [ 0.00000000e+00  0.00000000e+00  0.00000000e+00 -3.78376439e+01\n",
      "   -2.89644811e+00  8.35971996e+04 -3.78928880e+01 -2.90067518e+00\n",
      "    8.37192503e+04  3.78376551e+01  2.89644811e+00 -8.35972227e+04\n",
      "    0.00000000e+00  0.00000000e+00  0.00000000e+00  3.78928768e+01\n",
      "    2.90067518e+00 -8.37192272e+04]\n",
      "  [ 0.00000000e+00  0.00000000e+00  0.00000000e+00 -2.26433917e-02\n",
      "   -1.41136335e-03  4.35724590e+01 -1.98510321e-02 -1.41342309e-03\n",
      "    3.78376551e+01  2.26433972e-02  1.41136335e-03 -4.35724703e+01\n",
      "    0.00000000e+00  0.00000000e+00  0.00000000e+00  1.98510266e-02\n",
      "    1.41342309e-03 -3.78376439e+01]\n",
      "  [ 0.00000000e+00  0.00000000e+00  0.00000000e+00  1.41136335e-03\n",
      "   -4.92200099e-26 -2.89644811e+00 -1.41136335e-03  4.44928332e-15\n",
      "    2.89644811e+00  1.41136335e-03 -4.44437242e-15 -2.89644811e+00\n",
      "    0.00000000e+00  0.00000000e+00  0.00000000e+00 -1.41136335e-03\n",
      "   -4.91090870e-18  2.89644811e+00]\n",
      "  [ 0.00000000e+00  0.00000000e+00  0.00000000e+00  4.35724590e+01\n",
      "    2.89644811e+00 -8.34753960e+04  4.36360500e+01  2.90067518e+00\n",
      "   -8.35972227e+04 -4.35724703e+01 -2.89644811e+00  8.34754190e+04\n",
      "    0.00000000e+00  0.00000000e+00  0.00000000e+00 -4.36360388e+01\n",
      "   -2.90067518e+00  8.35971996e+04]\n",
      "  [ 0.00000000e+00  0.00000000e+00  0.00000000e+00  0.00000000e+00\n",
      "    0.00000000e+00  0.00000000e+00  0.00000000e+00  0.00000000e+00\n",
      "    0.00000000e+00  0.00000000e+00  0.00000000e+00  0.00000000e+00\n",
      "    0.00000000e+00  0.00000000e+00  0.00000000e+00  0.00000000e+00\n",
      "    0.00000000e+00  0.00000000e+00]\n",
      "  [ 0.00000000e+00  0.00000000e+00  0.00000000e+00  0.00000000e+00\n",
      "    0.00000000e+00  0.00000000e+00  0.00000000e+00  0.00000000e+00\n",
      "    0.00000000e+00  0.00000000e+00  0.00000000e+00  0.00000000e+00\n",
      "    0.00000000e+00  0.00000000e+00  0.00000000e+00  0.00000000e+00\n",
      "    0.00000000e+00  0.00000000e+00]\n",
      "  [ 0.00000000e+00  0.00000000e+00  0.00000000e+00  0.00000000e+00\n",
      "    0.00000000e+00  0.00000000e+00  0.00000000e+00  0.00000000e+00\n",
      "    0.00000000e+00  0.00000000e+00  0.00000000e+00  0.00000000e+00\n",
      "    0.00000000e+00  0.00000000e+00  0.00000000e+00  0.00000000e+00\n",
      "    0.00000000e+00  0.00000000e+00]\n",
      "  [ 0.00000000e+00  0.00000000e+00  0.00000000e+00 -1.98510321e-02\n",
      "    1.41136335e-03  4.36360500e+01 -1.70504739e-02  1.41342309e-03\n",
      "    3.78928768e+01  1.98510266e-02 -1.41136335e-03 -4.36360388e+01\n",
      "    0.00000000e+00  0.00000000e+00  0.00000000e+00  1.70504794e-02\n",
      "   -1.41342309e-03 -3.78928880e+01]\n",
      "  [ 0.00000000e+00  0.00000000e+00  0.00000000e+00  1.41342309e-03\n",
      "   -4.45910514e-15 -2.90067518e+00 -1.41342309e-03  4.91090870e-18\n",
      "    2.90067518e+00  1.41342309e-03 -4.91090870e-18 -2.90067518e+00\n",
      "    0.00000000e+00  0.00000000e+00  0.00000000e+00 -1.41342309e-03\n",
      "    4.45299408e-15  2.90067518e+00]\n",
      "  [ 0.00000000e+00  0.00000000e+00  0.00000000e+00  3.78376551e+01\n",
      "   -2.89644811e+00 -8.35972227e+04  3.78928768e+01 -2.90067518e+00\n",
      "   -8.37192272e+04 -3.78376439e+01  2.89644811e+00  8.35971996e+04\n",
      "    0.00000000e+00  0.00000000e+00  0.00000000e+00 -3.78928880e+01\n",
      "    2.90067518e+00  8.37192503e+04]]]\n",
      "{'edge1': (array([5.00123761e+02, 1.22152411e-01, 2.49005307e+02]), array([1.22116643e-01, 5.00124023e+02, 2.49004324e+02])), 'edge2': (array([499.87788336, 500.12402271, 250.99567608]), array([-1.23760920e-01,  1.22152411e-01,  2.50994693e+02]))}\n",
      "min distance is:  [1.99036995]\n",
      "contact type is: ['EdgeToEdge']\n",
      "mask: [[ 3  4  5  6  7  8  0  1  2 15 16 17  9 10 11 12 13 14]]\n",
      "{'edge1': (array([5.00123761e+02, 1.22152411e-01, 2.49005307e+02]), array([1.22116643e-01, 5.00124023e+02, 2.49004324e+02])), 'edge2': (array([499.87788336, 500.12402271, 250.99567608]), array([-1.23760920e-01,  1.22152411e-01,  2.50994693e+02]))}\n",
      "min distance is:  [1.99036995]\n",
      "contact type is: ['EdgeToEdge']\n",
      "mask: [[ 3  4  5  6  7  8  0  1  2 15 16 17  9 10 11 12 13 14]]\n",
      "{'edge1': (array([5.00123761e+02, 1.22152411e-01, 2.49005307e+02]), array([1.22116643e-01, 5.00124023e+02, 2.49004324e+02])), 'edge2': (array([499.87788336, 500.12402271, 250.99567608]), array([-1.23760920e-01,  1.22152411e-01,  2.50994693e+02]))}\n",
      "min distance is:  [1.99036995]\n",
      "contact type is: ['EdgeToEdge']\n",
      "mask: [[ 3  4  5  6  7  8  0  1  2 15 16 17  9 10 11 12 13 14]]\n",
      "Delta: [1.99036995]\n",
      "upper limit for quadratic: 1.75\n",
      "upper limit for smooth: 2.25\n",
      "Branch 2 (smooth): [1.99036995]\n",
      "gradE is: [[-0.00000000e+00 -0.00000000e+00 -0.00000000e+00 -1.07293636e-05\n",
      "   4.33954533e-15  5.45923745e+00 -1.07399210e-05  4.35186624e-15\n",
      "   5.46460920e+00  1.07293636e-05 -4.34899132e-15 -5.45923745e+00\n",
      "  -0.00000000e+00 -0.00000000e+00 -0.00000000e+00  1.07399210e-05\n",
      "  -4.34428280e-15 -5.46460920e+00]]\n",
      "hessE is: [[[ 0.00000000e+00  0.00000000e+00  0.00000000e+00  0.00000000e+00\n",
      "    0.00000000e+00  0.00000000e+00  0.00000000e+00  0.00000000e+00\n",
      "    0.00000000e+00  0.00000000e+00  0.00000000e+00  0.00000000e+00\n",
      "    0.00000000e+00  0.00000000e+00  0.00000000e+00  0.00000000e+00\n",
      "    0.00000000e+00  0.00000000e+00]\n",
      "  [ 0.00000000e+00  0.00000000e+00  0.00000000e+00  0.00000000e+00\n",
      "    0.00000000e+00  0.00000000e+00  0.00000000e+00  0.00000000e+00\n",
      "    0.00000000e+00  0.00000000e+00  0.00000000e+00  0.00000000e+00\n",
      "    0.00000000e+00  0.00000000e+00  0.00000000e+00  0.00000000e+00\n",
      "    0.00000000e+00  0.00000000e+00]\n",
      "  [ 0.00000000e+00  0.00000000e+00  0.00000000e+00  0.00000000e+00\n",
      "    0.00000000e+00  0.00000000e+00  0.00000000e+00  0.00000000e+00\n",
      "    0.00000000e+00  0.00000000e+00  0.00000000e+00  0.00000000e+00\n",
      "    0.00000000e+00  0.00000000e+00  0.00000000e+00  0.00000000e+00\n",
      "    0.00000000e+00  0.00000000e+00]\n",
      "  [ 0.00000000e+00  0.00000000e+00  0.00000000e+00  1.10408845e-05\n",
      "   -5.36466173e-06 -2.88813350e+00  3.17141231e-07 -5.36994042e-06\n",
      "    2.57093010e+00 -1.10408844e-05  5.36466173e-06  2.88813345e+00\n",
      "    0.00000000e+00  0.00000000e+00  0.00000000e+00 -3.17141315e-07\n",
      "    5.36994042e-06 -2.57093006e+00]\n",
      "  [ 0.00000000e+00  0.00000000e+00  0.00000000e+00 -5.36466173e-06\n",
      "    4.33959041e-15  2.72960851e+00  5.36466173e-06  4.62642906e-18\n",
      "   -2.72960851e+00 -5.36466173e-06 -5.10764894e-26  2.72960851e+00\n",
      "    0.00000000e+00  0.00000000e+00  0.00000000e+00  5.36466173e-06\n",
      "   -4.34421684e-15 -2.72960851e+00]\n",
      "  [ 0.00000000e+00  0.00000000e+00  0.00000000e+00 -2.88813350e+00\n",
      "    2.72960851e+00  8.06589111e+04 -2.89097526e+00  2.73229438e+00\n",
      "    8.07382340e+04  2.88813345e+00 -2.72960851e+00 -8.06588894e+04\n",
      "    0.00000000e+00  0.00000000e+00  0.00000000e+00  2.89097530e+00\n",
      "   -2.73229438e+00 -8.07382558e+04]\n",
      "  [ 0.00000000e+00  0.00000000e+00  0.00000000e+00  3.17141231e-07\n",
      "    5.36466173e-06 -2.89097526e+00 -1.04277161e-05  5.36994043e-06\n",
      "    2.57345975e+00 -3.17141315e-07 -5.36466173e-06  2.89097530e+00\n",
      "    0.00000000e+00  0.00000000e+00  0.00000000e+00  1.04277162e-05\n",
      "   -5.36994043e-06 -2.57345979e+00]\n",
      "  [ 0.00000000e+00  0.00000000e+00  0.00000000e+00 -5.36994042e-06\n",
      "    4.62642906e-18  2.73229438e+00  5.36994043e-06 -4.35346970e-15\n",
      "   -2.73229438e+00 -5.36994043e-06  4.34884327e-15  2.73229438e+00\n",
      "    0.00000000e+00  0.00000000e+00  0.00000000e+00  5.36994042e-06\n",
      "   -4.62642906e-18 -2.73229438e+00]\n",
      "  [ 0.00000000e+00  0.00000000e+00  0.00000000e+00  2.57093010e+00\n",
      "   -2.72960851e+00  8.07382340e+04  2.57345975e+00 -2.73229438e+00\n",
      "    8.08177220e+04 -2.57093006e+00  2.72960851e+00 -8.07382558e+04\n",
      "    0.00000000e+00  0.00000000e+00  0.00000000e+00 -2.57345979e+00\n",
      "    2.73229438e+00 -8.08177002e+04]\n",
      "  [ 0.00000000e+00  0.00000000e+00  0.00000000e+00 -1.10408844e-05\n",
      "   -5.36466173e-06  2.88813345e+00 -3.17141315e-07 -5.36994043e-06\n",
      "   -2.57093006e+00  1.10408845e-05  5.36466173e-06 -2.88813350e+00\n",
      "    0.00000000e+00  0.00000000e+00  0.00000000e+00  3.17141231e-07\n",
      "    5.36994043e-06  2.57093010e+00]\n",
      "  [ 0.00000000e+00  0.00000000e+00  0.00000000e+00  5.36466173e-06\n",
      "   -5.10764894e-26 -2.72960851e+00 -5.36466173e-06  4.34884327e-15\n",
      "    2.72960851e+00  5.36466173e-06 -4.34884327e-15 -2.72960851e+00\n",
      "    0.00000000e+00  0.00000000e+00  0.00000000e+00 -5.36466173e-06\n",
      "   -4.62642896e-18  2.72960851e+00]\n",
      "  [ 0.00000000e+00  0.00000000e+00  0.00000000e+00  2.88813345e+00\n",
      "    2.72960851e+00 -8.06588894e+04  2.89097530e+00  2.73229438e+00\n",
      "   -8.07382558e+04 -2.88813350e+00 -2.72960851e+00  8.06589111e+04\n",
      "    0.00000000e+00  0.00000000e+00  0.00000000e+00 -2.89097526e+00\n",
      "   -2.73229438e+00  8.07382340e+04]\n",
      "  [ 0.00000000e+00  0.00000000e+00  0.00000000e+00  0.00000000e+00\n",
      "    0.00000000e+00  0.00000000e+00  0.00000000e+00  0.00000000e+00\n",
      "    0.00000000e+00  0.00000000e+00  0.00000000e+00  0.00000000e+00\n",
      "    0.00000000e+00  0.00000000e+00  0.00000000e+00  0.00000000e+00\n",
      "    0.00000000e+00  0.00000000e+00]\n",
      "  [ 0.00000000e+00  0.00000000e+00  0.00000000e+00  0.00000000e+00\n",
      "    0.00000000e+00  0.00000000e+00  0.00000000e+00  0.00000000e+00\n",
      "    0.00000000e+00  0.00000000e+00  0.00000000e+00  0.00000000e+00\n",
      "    0.00000000e+00  0.00000000e+00  0.00000000e+00  0.00000000e+00\n",
      "    0.00000000e+00  0.00000000e+00]\n",
      "  [ 0.00000000e+00  0.00000000e+00  0.00000000e+00  0.00000000e+00\n",
      "    0.00000000e+00  0.00000000e+00  0.00000000e+00  0.00000000e+00\n",
      "    0.00000000e+00  0.00000000e+00  0.00000000e+00  0.00000000e+00\n",
      "    0.00000000e+00  0.00000000e+00  0.00000000e+00  0.00000000e+00\n",
      "    0.00000000e+00  0.00000000e+00]\n",
      "  [ 0.00000000e+00  0.00000000e+00  0.00000000e+00 -3.17141315e-07\n",
      "    5.36466173e-06  2.89097530e+00  1.04277162e-05  5.36994042e-06\n",
      "   -2.57345979e+00  3.17141231e-07 -5.36466173e-06 -2.89097526e+00\n",
      "    0.00000000e+00  0.00000000e+00  0.00000000e+00 -1.04277161e-05\n",
      "   -5.36994042e-06  2.57345975e+00]\n",
      "  [ 0.00000000e+00  0.00000000e+00  0.00000000e+00  5.36994042e-06\n",
      "   -4.34884327e-15 -2.73229438e+00 -5.36994043e-06 -5.11660506e-26\n",
      "    2.73229438e+00  5.36994043e-06 -4.62642896e-18 -2.73229438e+00\n",
      "    0.00000000e+00  0.00000000e+00  0.00000000e+00 -5.36994042e-06\n",
      "    4.34431324e-15  2.73229438e+00]\n",
      "  [ 0.00000000e+00  0.00000000e+00  0.00000000e+00 -2.57093006e+00\n",
      "   -2.72960851e+00 -8.07382558e+04 -2.57345979e+00 -2.73229438e+00\n",
      "   -8.08177002e+04  2.57093010e+00  2.72960851e+00  8.07382340e+04\n",
      "    0.00000000e+00  0.00000000e+00  0.00000000e+00  2.57345975e+00\n",
      "    2.73229438e+00  8.08177220e+04]]]\n",
      "{'edge1': (array([5.00123766e+02, 1.22160000e-01, 2.49005325e+02]), array([1.22162189e-01, 5.00124006e+02, 2.49004347e+02])), 'edge2': (array([499.87783781, 500.12400643, 250.99565335]), array([-1.23765847e-01,  1.22160000e-01,  2.50994675e+02]))}\n",
      "min distance is:  [1.9903286]\n",
      "contact type is: ['EdgeToEdge']\n",
      "mask: [[ 3  4  5  6  7  8  0  1  2 15 16 17  9 10 11 12 13 14]]\n",
      "{'edge1': (array([5.00123766e+02, 1.22160000e-01, 2.49005325e+02]), array([1.22162189e-01, 5.00124006e+02, 2.49004347e+02])), 'edge2': (array([499.87783781, 500.12400643, 250.99565335]), array([-1.23765847e-01,  1.22160000e-01,  2.50994675e+02]))}\n",
      "min distance is:  [1.9903286]\n",
      "contact type is: ['EdgeToEdge']\n",
      "mask: [[ 3  4  5  6  7  8  0  1  2 15 16 17  9 10 11 12 13 14]]\n",
      "{'edge1': (array([5.00123766e+02, 1.22160000e-01, 2.49005325e+02]), array([1.22162189e-01, 5.00124006e+02, 2.49004347e+02])), 'edge2': (array([499.87783781, 500.12400643, 250.99565335]), array([-1.23765847e-01,  1.22160000e-01,  2.50994675e+02]))}\n",
      "min distance is:  [1.9903286]\n",
      "contact type is: ['EdgeToEdge']\n",
      "mask: [[ 3  4  5  6  7  8  0  1  2 15 16 17  9 10 11 12 13 14]]\n",
      "Delta: [1.9903286]\n",
      "upper limit for quadratic: 1.75\n",
      "upper limit for smooth: 2.25\n",
      "Branch 2 (smooth): [1.9903286]\n",
      "gradE is: [[-0.00000000e+00 -0.00000000e+00 -0.00000000e+00 -1.07106262e-05\n",
      "   4.51417640e-15  5.47259544e+00 -1.07211674e-05  4.51280617e-15\n",
      "   5.47798145e+00  1.07106262e-05 -4.50685386e-15 -5.47259544e+00\n",
      "  -0.00000000e+00 -0.00000000e+00 -0.00000000e+00  1.07211674e-05\n",
      "  -4.51892546e-15 -5.47798145e+00]]\n",
      "hessE is: [[[ 0.00000000e+00  0.00000000e+00  0.00000000e+00  0.00000000e+00\n",
      "    0.00000000e+00  0.00000000e+00  0.00000000e+00  0.00000000e+00\n",
      "    0.00000000e+00  0.00000000e+00  0.00000000e+00  0.00000000e+00\n",
      "    0.00000000e+00  0.00000000e+00  0.00000000e+00  0.00000000e+00\n",
      "    0.00000000e+00  0.00000000e+00]\n",
      "  [ 0.00000000e+00  0.00000000e+00  0.00000000e+00  0.00000000e+00\n",
      "    0.00000000e+00  0.00000000e+00  0.00000000e+00  0.00000000e+00\n",
      "    0.00000000e+00  0.00000000e+00  0.00000000e+00  0.00000000e+00\n",
      "    0.00000000e+00  0.00000000e+00  0.00000000e+00  0.00000000e+00\n",
      "    0.00000000e+00  0.00000000e+00]\n",
      "  [ 0.00000000e+00  0.00000000e+00  0.00000000e+00  0.00000000e+00\n",
      "    0.00000000e+00  0.00000000e+00  0.00000000e+00  0.00000000e+00\n",
      "    0.00000000e+00  0.00000000e+00  0.00000000e+00  0.00000000e+00\n",
      "    0.00000000e+00  0.00000000e+00  0.00000000e+00  0.00000000e+00\n",
      "    0.00000000e+00  0.00000000e+00]\n",
      "  [ 0.00000000e+00  0.00000000e+00  0.00000000e+00  1.10199933e-05\n",
      "   -5.35529334e-06 -2.89437764e+00  3.14976337e-07 -5.36056390e-06\n",
      "    2.57804475e+00 -1.10199932e-05  5.35529334e-06  2.89437759e+00\n",
      "    0.00000000e+00  0.00000000e+00  0.00000000e+00 -3.14976420e-07\n",
      "    5.36056390e-06 -2.57804471e+00]\n",
      "  [ 0.00000000e+00  0.00000000e+00  0.00000000e+00 -5.35529334e-06\n",
      "    4.51253047e-15  2.73628762e+00  5.35529334e-06  5.49436728e-26\n",
      "   -2.73628762e+00 -5.35529334e-06  4.63774965e-18  2.73628762e+00\n",
      "    0.00000000e+00  0.00000000e+00  0.00000000e+00  5.35529334e-06\n",
      "   -4.51253047e-15 -2.73628762e+00]\n",
      "  [ 0.00000000e+00  0.00000000e+00  0.00000000e+00 -2.89437764e+00\n",
      "    2.73628762e+00  8.07754313e+04 -2.89722613e+00  2.73898061e+00\n",
      "    8.08548851e+04  2.89437759e+00 -2.73628762e+00 -8.07754095e+04\n",
      "    0.00000000e+00  0.00000000e+00  0.00000000e+00  2.89722617e+00\n",
      "   -2.73898061e+00 -8.08549069e+04]\n",
      "  [ 0.00000000e+00  0.00000000e+00  0.00000000e+00  3.14976337e-07\n",
      "    5.35529334e-06 -2.89722613e+00 -1.04111223e-05  5.36056390e-06\n",
      "    2.58058192e+00 -3.14976420e-07 -5.35529334e-06  2.89722617e+00\n",
      "    0.00000000e+00  0.00000000e+00  0.00000000e+00  1.04111223e-05\n",
      "   -5.36056390e-06 -2.58058196e+00]\n",
      "  [ 0.00000000e+00  0.00000000e+00  0.00000000e+00 -5.36056390e-06\n",
      "    4.63774976e-18  2.73898061e+00  5.36056390e-06 -4.51253047e-15\n",
      "   -2.73898061e+00 -5.36056390e-06  4.50789272e-15  2.73898061e+00\n",
      "    0.00000000e+00  0.00000000e+00  0.00000000e+00  5.36056390e-06\n",
      "   -5.50014752e-26 -2.73898061e+00]\n",
      "  [ 0.00000000e+00  0.00000000e+00  0.00000000e+00  2.57804475e+00\n",
      "   -2.73628762e+00  8.08548851e+04  2.58058192e+00 -2.73898061e+00\n",
      "    8.09345043e+04 -2.57804471e+00  2.73628762e+00 -8.08549069e+04\n",
      "    0.00000000e+00  0.00000000e+00  0.00000000e+00 -2.58058196e+00\n",
      "    2.73898061e+00 -8.09344825e+04]\n",
      "  [ 0.00000000e+00  0.00000000e+00  0.00000000e+00 -1.10199932e-05\n",
      "   -5.35529334e-06  2.89437759e+00 -3.14976420e-07 -5.36056390e-06\n",
      "   -2.57804471e+00  1.10199933e-05  5.35529334e-06 -2.89437764e+00\n",
      "    0.00000000e+00  0.00000000e+00  0.00000000e+00  3.14976337e-07\n",
      "    5.36056390e-06  2.57804475e+00]\n",
      "  [ 0.00000000e+00  0.00000000e+00  0.00000000e+00  5.35529334e-06\n",
      "    4.63774965e-18 -2.73628762e+00 -5.35529334e-06  4.50789272e-15\n",
      "    2.73628762e+00  5.35529334e-06 -4.50789272e-15 -2.73628762e+00\n",
      "    0.00000000e+00  0.00000000e+00  0.00000000e+00 -5.35529334e-06\n",
      "   -4.63774965e-18  2.73628762e+00]\n",
      "  [ 0.00000000e+00  0.00000000e+00  0.00000000e+00  2.89437759e+00\n",
      "    2.73628762e+00 -8.07754095e+04  2.89722617e+00  2.73898061e+00\n",
      "   -8.08549069e+04 -2.89437764e+00 -2.73628762e+00  8.07754313e+04\n",
      "    0.00000000e+00  0.00000000e+00  0.00000000e+00 -2.89722613e+00\n",
      "   -2.73898061e+00  8.08548851e+04]\n",
      "  [ 0.00000000e+00  0.00000000e+00  0.00000000e+00  0.00000000e+00\n",
      "    0.00000000e+00  0.00000000e+00  0.00000000e+00  0.00000000e+00\n",
      "    0.00000000e+00  0.00000000e+00  0.00000000e+00  0.00000000e+00\n",
      "    0.00000000e+00  0.00000000e+00  0.00000000e+00  0.00000000e+00\n",
      "    0.00000000e+00  0.00000000e+00]\n",
      "  [ 0.00000000e+00  0.00000000e+00  0.00000000e+00  0.00000000e+00\n",
      "    0.00000000e+00  0.00000000e+00  0.00000000e+00  0.00000000e+00\n",
      "    0.00000000e+00  0.00000000e+00  0.00000000e+00  0.00000000e+00\n",
      "    0.00000000e+00  0.00000000e+00  0.00000000e+00  0.00000000e+00\n",
      "    0.00000000e+00  0.00000000e+00]\n",
      "  [ 0.00000000e+00  0.00000000e+00  0.00000000e+00  0.00000000e+00\n",
      "    0.00000000e+00  0.00000000e+00  0.00000000e+00  0.00000000e+00\n",
      "    0.00000000e+00  0.00000000e+00  0.00000000e+00  0.00000000e+00\n",
      "    0.00000000e+00  0.00000000e+00  0.00000000e+00  0.00000000e+00\n",
      "    0.00000000e+00  0.00000000e+00]\n",
      "  [ 0.00000000e+00  0.00000000e+00  0.00000000e+00 -3.14976420e-07\n",
      "    5.35529334e-06  2.89722617e+00  1.04111223e-05  5.36056390e-06\n",
      "   -2.58058196e+00  3.14976337e-07 -5.35529334e-06 -2.89722613e+00\n",
      "    0.00000000e+00  0.00000000e+00  0.00000000e+00 -1.04111223e-05\n",
      "   -5.36056390e-06  2.58058192e+00]\n",
      "  [ 0.00000000e+00  0.00000000e+00  0.00000000e+00  5.36056390e-06\n",
      "   -4.51253047e-15 -2.73898061e+00 -5.36056390e-06 -5.50014752e-26\n",
      "    2.73898061e+00  5.36056390e-06 -4.63774965e-18 -2.73898061e+00\n",
      "    0.00000000e+00  0.00000000e+00  0.00000000e+00 -5.36056390e-06\n",
      "    4.51513951e-15  2.73898061e+00]\n",
      "  [ 0.00000000e+00  0.00000000e+00  0.00000000e+00 -2.57804471e+00\n",
      "   -2.73628762e+00 -8.08549069e+04 -2.58058196e+00 -2.73898061e+00\n",
      "   -8.09344825e+04  2.57804475e+00  2.73628762e+00  8.08548851e+04\n",
      "    0.00000000e+00  0.00000000e+00  0.00000000e+00  2.58058192e+00\n",
      "    2.73898061e+00  8.09345043e+04]]]\n",
      "{'edge1': (array([5.00280637e+02, 2.80550643e-01, 2.47750340e+02]), array([2.80561173e-01, 5.00281492e+02, 2.47746872e+02])), 'edge2': (array([499.71943883, 500.28149155, 249.75312799]), array([ -0.28063699,   0.28055064, 249.74965953]))}\n",
      "min distance is:  [2.00279142]\n",
      "contact type is: ['EdgeToEdge']\n",
      "mask: [[ 3  4  5  6  7  8  0  1  2 15 16 17  9 10 11 12 13 14]]\n",
      "{'edge1': (array([5.00280637e+02, 2.80550643e-01, 2.47750340e+02]), array([2.80561173e-01, 5.00281492e+02, 2.47746872e+02])), 'edge2': (array([499.71943883, 500.28149155, 249.75312799]), array([ -0.28063699,   0.28055064, 249.74965953]))}\n",
      "min distance is:  [2.00279142]\n",
      "contact type is: ['EdgeToEdge']\n",
      "mask: [[ 3  4  5  6  7  8  0  1  2 15 16 17  9 10 11 12 13 14]]\n",
      "{'edge1': (array([5.00280637e+02, 2.80550643e-01, 2.47750340e+02]), array([2.80561173e-01, 5.00281492e+02, 2.47746872e+02])), 'edge2': (array([499.71943883, 500.28149155, 249.75312799]), array([ -0.28063699,   0.28055064, 249.74965953]))}\n",
      "min distance is:  [2.00279142]\n",
      "contact type is: ['EdgeToEdge']\n",
      "mask: [[ 3  4  5  6  7  8  0  1  2 15 16 17  9 10 11 12 13 14]]\n",
      "Delta: [2.00279142]\n",
      "upper limit for quadratic: 1.75\n",
      "upper limit for smooth: 2.25\n",
      "Branch 2 (smooth): [2.00279142]\n",
      "gradE is: [[-0.00000000e+00 -0.00000000e+00 -0.00000000e+00 -1.62171000e-05\n",
      "   1.99566884e-15  2.33779120e+00 -1.62535441e-05  1.99556361e-15\n",
      "   2.34304482e+00  1.62171000e-05 -1.99141924e-15 -2.33779120e+00\n",
      "  -0.00000000e+00 -0.00000000e+00 -0.00000000e+00  1.62535441e-05\n",
      "  -1.99972882e-15 -2.34304482e+00]]\n",
      "hessE is: [[[ 0.00000000e+00  0.00000000e+00  0.00000000e+00  0.00000000e+00\n",
      "    0.00000000e+00  0.00000000e+00  0.00000000e+00  0.00000000e+00\n",
      "    0.00000000e+00  0.00000000e+00  0.00000000e+00  0.00000000e+00\n",
      "    0.00000000e+00  0.00000000e+00  0.00000000e+00  0.00000000e+00\n",
      "    0.00000000e+00  0.00000000e+00]\n",
      "  [ 0.00000000e+00  0.00000000e+00  0.00000000e+00  0.00000000e+00\n",
      "    0.00000000e+00  0.00000000e+00  0.00000000e+00  0.00000000e+00\n",
      "    0.00000000e+00  0.00000000e+00  0.00000000e+00  0.00000000e+00\n",
      "    0.00000000e+00  0.00000000e+00  0.00000000e+00  0.00000000e+00\n",
      "    0.00000000e+00  0.00000000e+00]\n",
      "  [ 0.00000000e+00  0.00000000e+00  0.00000000e+00  0.00000000e+00\n",
      "    0.00000000e+00  0.00000000e+00  0.00000000e+00  0.00000000e+00\n",
      "    0.00000000e+00  0.00000000e+00  0.00000000e+00  0.00000000e+00\n",
      "    0.00000000e+00  0.00000000e+00  0.00000000e+00  0.00000000e+00\n",
      "    0.00000000e+00  0.00000000e+00]\n",
      "  [ 0.00000000e+00  0.00000000e+00  0.00000000e+00  1.83904616e-05\n",
      "   -8.10853476e-06 -1.48219875e+00  2.19646926e-06 -8.12675674e-06\n",
      "    8.54888156e-01 -1.83904612e-05  8.10853476e-06  1.48219868e+00\n",
      "    0.00000000e+00  0.00000000e+00  0.00000000e+00 -2.19646972e-06\n",
      "    8.12675674e-06 -8.54888091e-01]\n",
      "  [ 0.00000000e+00  0.00000000e+00  0.00000000e+00 -8.10853476e-06\n",
      "    1.98835840e-15  1.16889340e+00  8.10853476e-06  3.96482237e-18\n",
      "   -1.16889340e+00 -8.10853476e-06 -1.98241120e-18  1.16889340e+00\n",
      "    0.00000000e+00  0.00000000e+00  0.00000000e+00  8.10853476e-06\n",
      "   -1.99430563e-15 -1.16889340e+00]\n",
      "  [ 0.00000000e+00  0.00000000e+00  0.00000000e+00 -1.48219875e+00\n",
      "    1.16889340e+00  4.51645333e+04 -1.48552950e+00  1.17152021e+00\n",
      "    4.52660109e+04  1.48219868e+00 -1.16889340e+00 -4.51645239e+04\n",
      "    0.00000000e+00  0.00000000e+00  0.00000000e+00  1.48552957e+00\n",
      "   -1.17152021e+00 -4.52660203e+04]\n",
      "  [ 0.00000000e+00  0.00000000e+00  0.00000000e+00  2.19646926e-06\n",
      "    8.10853476e-06 -1.48552950e+00 -1.40703983e-05  8.12675674e-06\n",
      "    8.56809181e-01 -2.19646972e-06 -8.10853476e-06  1.48552957e+00\n",
      "    0.00000000e+00  0.00000000e+00  0.00000000e+00  1.40703988e-05\n",
      "   -8.12675674e-06 -8.56809246e-01]\n",
      "  [ 0.00000000e+00  0.00000000e+00  0.00000000e+00 -8.12675674e-06\n",
      "    5.94723353e-18  1.17152021e+00  8.12675674e-06 -2.00223528e-15\n",
      "   -1.17152021e+00 -8.12675674e-06  1.99827046e-15  1.17152021e+00\n",
      "    0.00000000e+00  0.00000000e+00  0.00000000e+00  8.12675674e-06\n",
      "   -1.98241120e-18 -1.17152021e+00]\n",
      "  [ 0.00000000e+00  0.00000000e+00  0.00000000e+00  8.54888156e-01\n",
      "   -1.16889340e+00  4.52660109e+04  8.56809181e-01 -1.17152021e+00\n",
      "    4.53677542e+04 -8.54888091e-01  1.16889340e+00 -4.52660203e+04\n",
      "    0.00000000e+00  0.00000000e+00  0.00000000e+00 -8.56809246e-01\n",
      "    1.17152021e+00 -4.53677448e+04]\n",
      "  [ 0.00000000e+00  0.00000000e+00  0.00000000e+00 -1.83904612e-05\n",
      "   -8.10853476e-06  1.48219868e+00 -2.19646972e-06 -8.12675674e-06\n",
      "   -8.54888091e-01  1.83904616e-05  8.10853476e-06 -1.48219875e+00\n",
      "    0.00000000e+00  0.00000000e+00  0.00000000e+00  2.19646926e-06\n",
      "    8.12675674e-06  8.54888156e-01]\n",
      "  [ 0.00000000e+00  0.00000000e+00  0.00000000e+00  8.10853476e-06\n",
      "   -3.96482237e-18 -1.16889340e+00 -8.10853476e-06  1.99827046e-15\n",
      "    1.16889340e+00  8.10853476e-06 -1.99430563e-15 -1.16889340e+00\n",
      "    0.00000000e+00  0.00000000e+00  0.00000000e+00 -8.10853476e-06\n",
      "   -1.98241113e-18  1.16889340e+00]\n",
      "  [ 0.00000000e+00  0.00000000e+00  0.00000000e+00  1.48219868e+00\n",
      "    1.16889340e+00 -4.51645239e+04  1.48552957e+00  1.17152021e+00\n",
      "   -4.52660203e+04 -1.48219875e+00 -1.16889340e+00  4.51645333e+04\n",
      "    0.00000000e+00  0.00000000e+00  0.00000000e+00 -1.48552950e+00\n",
      "   -1.17152021e+00  4.52660109e+04]\n",
      "  [ 0.00000000e+00  0.00000000e+00  0.00000000e+00  0.00000000e+00\n",
      "    0.00000000e+00  0.00000000e+00  0.00000000e+00  0.00000000e+00\n",
      "    0.00000000e+00  0.00000000e+00  0.00000000e+00  0.00000000e+00\n",
      "    0.00000000e+00  0.00000000e+00  0.00000000e+00  0.00000000e+00\n",
      "    0.00000000e+00  0.00000000e+00]\n",
      "  [ 0.00000000e+00  0.00000000e+00  0.00000000e+00  0.00000000e+00\n",
      "    0.00000000e+00  0.00000000e+00  0.00000000e+00  0.00000000e+00\n",
      "    0.00000000e+00  0.00000000e+00  0.00000000e+00  0.00000000e+00\n",
      "    0.00000000e+00  0.00000000e+00  0.00000000e+00  0.00000000e+00\n",
      "    0.00000000e+00  0.00000000e+00]\n",
      "  [ 0.00000000e+00  0.00000000e+00  0.00000000e+00  0.00000000e+00\n",
      "    0.00000000e+00  0.00000000e+00  0.00000000e+00  0.00000000e+00\n",
      "    0.00000000e+00  0.00000000e+00  0.00000000e+00  0.00000000e+00\n",
      "    0.00000000e+00  0.00000000e+00  0.00000000e+00  0.00000000e+00\n",
      "    0.00000000e+00  0.00000000e+00]\n",
      "  [ 0.00000000e+00  0.00000000e+00  0.00000000e+00 -2.19646972e-06\n",
      "    8.10853476e-06  1.48552957e+00  1.40703988e-05  8.12675674e-06\n",
      "   -8.56809246e-01  2.19646926e-06 -8.10853476e-06 -1.48552950e+00\n",
      "    0.00000000e+00  0.00000000e+00  0.00000000e+00 -1.40703983e-05\n",
      "   -8.12675674e-06  8.56809181e-01]\n",
      "  [ 0.00000000e+00  0.00000000e+00  0.00000000e+00  8.12675674e-06\n",
      "   -1.99430563e-15 -1.17152021e+00 -8.12675674e-06 -1.98241120e-18\n",
      "    1.17152021e+00  8.12675674e-06 -1.98241113e-18 -1.17152021e+00\n",
      "    0.00000000e+00  0.00000000e+00  0.00000000e+00 -8.12675674e-06\n",
      "    1.99728551e-15  1.17152021e+00]\n",
      "  [ 0.00000000e+00  0.00000000e+00  0.00000000e+00 -8.54888091e-01\n",
      "   -1.16889340e+00 -4.52660203e+04 -8.56809246e-01 -1.17152021e+00\n",
      "   -4.53677448e+04  8.54888156e-01  1.16889340e+00  4.52660109e+04\n",
      "    0.00000000e+00  0.00000000e+00  0.00000000e+00  8.56809181e-01\n",
      "    1.17152021e+00  4.53677542e+04]]]\n",
      "{'edge1': (array([5.00280591e+02, 2.80394627e-01, 2.47747447e+02]), array([2.80400280e-01, 5.00281220e+02, 2.47744895e+02])), 'edge2': (array([499.71959972, 500.28122046, 249.75510486]), array([ -0.2805915 ,   0.28039463, 249.75255336]))}\n",
      "min distance is:  [2.00766108]\n",
      "contact type is: ['EdgeToEdge']\n",
      "mask: [[ 3  4  5  6  7  8  0  1  2 15 16 17  9 10 11 12 13 14]]\n",
      "{'edge1': (array([5.00280591e+02, 2.80394627e-01, 2.47747447e+02]), array([2.80400280e-01, 5.00281220e+02, 2.47744895e+02])), 'edge2': (array([499.71959972, 500.28122046, 249.75510486]), array([ -0.2805915 ,   0.28039463, 249.75255336]))}\n",
      "min distance is:  [2.00766108]\n",
      "contact type is: ['EdgeToEdge']\n",
      "mask: [[ 3  4  5  6  7  8  0  1  2 15 16 17  9 10 11 12 13 14]]\n",
      "{'edge1': (array([5.00280591e+02, 2.80394627e-01, 2.47747447e+02]), array([2.80400280e-01, 5.00281220e+02, 2.47744895e+02])), 'edge2': (array([499.71959972, 500.28122046, 249.75510486]), array([ -0.2805915 ,   0.28039463, 249.75255336]))}\n",
      "min distance is:  [2.00766108]\n",
      "contact type is: ['EdgeToEdge']\n",
      "mask: [[ 3  4  5  6  7  8  0  1  2 15 16 17  9 10 11 12 13 14]]\n",
      "Delta: [2.00766108]\n",
      "upper limit for quadratic: 1.75\n",
      "upper limit for smooth: 2.25\n",
      "Branch 2 (smooth): [2.00766108]\n",
      "gradE is: [[-0.00000000e+00 -0.00000000e+00 -0.00000000e+00 -8.04804956e-06\n",
      "   1.25446092e-15  1.57712288e+00 -8.06612907e-06  1.25807010e-15\n",
      "   1.58066580e+00  8.04804956e-06 -1.25580632e-15 -1.57712288e+00\n",
      "  -0.00000000e+00 -0.00000000e+00 -0.00000000e+00  8.06612907e-06\n",
      "  -1.25719987e-15 -1.58066580e+00]]\n",
      "hessE is: [[[ 0.00000000e+00  0.00000000e+00  0.00000000e+00  0.00000000e+00\n",
      "    0.00000000e+00  0.00000000e+00  0.00000000e+00  0.00000000e+00\n",
      "    0.00000000e+00  0.00000000e+00  0.00000000e+00  0.00000000e+00\n",
      "    0.00000000e+00  0.00000000e+00  0.00000000e+00  0.00000000e+00\n",
      "    0.00000000e+00  0.00000000e+00]\n",
      "  [ 0.00000000e+00  0.00000000e+00  0.00000000e+00  0.00000000e+00\n",
      "    0.00000000e+00  0.00000000e+00  0.00000000e+00  0.00000000e+00\n",
      "    0.00000000e+00  0.00000000e+00  0.00000000e+00  0.00000000e+00\n",
      "    0.00000000e+00  0.00000000e+00  0.00000000e+00  0.00000000e+00\n",
      "    0.00000000e+00  0.00000000e+00]\n",
      "  [ 0.00000000e+00  0.00000000e+00  0.00000000e+00  0.00000000e+00\n",
      "    0.00000000e+00  0.00000000e+00  0.00000000e+00  0.00000000e+00\n",
      "    0.00000000e+00  0.00000000e+00  0.00000000e+00  0.00000000e+00\n",
      "    0.00000000e+00  0.00000000e+00  0.00000000e+00  0.00000000e+00\n",
      "    0.00000000e+00  0.00000000e+00]\n",
      "  [ 0.00000000e+00  0.00000000e+00  0.00000000e+00  8.91179307e-06\n",
      "   -4.02401814e-06 -9.57823826e-01  8.74726366e-07 -4.03305787e-06\n",
      "    6.18918275e-01 -8.91179291e-06  4.02401814e-06  9.57823794e-01\n",
      "    0.00000000e+00  0.00000000e+00  0.00000000e+00 -8.74726531e-07\n",
      "    4.03305787e-06 -6.18918243e-01]\n",
      "  [ 0.00000000e+00  0.00000000e+00  0.00000000e+00 -4.02401814e-06\n",
      "    1.25445824e-15  7.88560137e-01  4.02401813e-06  1.33737555e-18\n",
      "   -7.88560137e-01 -4.02401813e-06  2.67475103e-18  7.88560137e-01\n",
      "    0.00000000e+00  0.00000000e+00  0.00000000e+00  4.02401814e-06\n",
      "   -1.25980775e-15 -7.88560137e-01]\n",
      "  [ 0.00000000e+00  0.00000000e+00  0.00000000e+00 -9.57823826e-01\n",
      "    7.88560137e-01  3.31692861e+04 -9.59975461e-01  7.90331595e-01\n",
      "    3.32437864e+04  9.57823794e-01 -7.88560137e-01 -3.31692797e+04\n",
      "    0.00000000e+00  0.00000000e+00  0.00000000e+00  9.59975493e-01\n",
      "   -7.90331595e-01 -3.32437927e+04]\n",
      "  [ 0.00000000e+00  0.00000000e+00  0.00000000e+00  8.74726366e-07\n",
      "    4.02401813e-06 -9.59975461e-01 -7.19849432e-06  4.03305787e-06\n",
      "    6.20308577e-01 -8.74726531e-07 -4.02401813e-06  9.59975493e-01\n",
      "    0.00000000e+00  0.00000000e+00  0.00000000e+00  7.19849449e-06\n",
      "   -4.03305787e-06 -6.20308609e-01]\n",
      "  [ 0.00000000e+00  0.00000000e+00  0.00000000e+00 -4.03305787e-06\n",
      "    2.10458735e-26  7.90331595e-01  4.03305787e-06 -1.25847037e-15\n",
      "   -7.90331595e-01 -4.03305787e-06  1.25445824e-15  7.90331595e-01\n",
      "    0.00000000e+00  0.00000000e+00  0.00000000e+00  4.03305787e-06\n",
      "    2.67475103e-18 -7.90331595e-01]\n",
      "  [ 0.00000000e+00  0.00000000e+00  0.00000000e+00  6.18918275e-01\n",
      "   -7.88560137e-01  3.32437864e+04  6.20308577e-01 -7.90331595e-01\n",
      "    3.33184794e+04 -6.18918243e-01  7.88560137e-01 -3.32437927e+04\n",
      "    0.00000000e+00  0.00000000e+00  0.00000000e+00 -6.20308609e-01\n",
      "    7.90331595e-01 -3.33184731e+04]\n",
      "  [ 0.00000000e+00  0.00000000e+00  0.00000000e+00 -8.91179291e-06\n",
      "   -4.02401813e-06  9.57823794e-01 -8.74726531e-07 -4.03305787e-06\n",
      "   -6.18918243e-01  8.91179307e-06  4.02401813e-06 -9.57823826e-01\n",
      "    0.00000000e+00  0.00000000e+00  0.00000000e+00  8.74726366e-07\n",
      "    4.03305787e-06  6.18918275e-01]\n",
      "  [ 0.00000000e+00  0.00000000e+00  0.00000000e+00  4.02401814e-06\n",
      "    4.01212656e-18 -7.88560137e-01 -4.02401813e-06  1.25445824e-15\n",
      "    7.88560137e-01  4.02401813e-06 -1.25312087e-15 -7.88560137e-01\n",
      "    0.00000000e+00  0.00000000e+00  0.00000000e+00 -4.02401814e-06\n",
      "   -1.33737551e-18  7.88560137e-01]\n",
      "  [ 0.00000000e+00  0.00000000e+00  0.00000000e+00  9.57823794e-01\n",
      "    7.88560137e-01 -3.31692797e+04  9.59975493e-01  7.90331595e-01\n",
      "   -3.32437927e+04 -9.57823826e-01 -7.88560137e-01  3.31692861e+04\n",
      "    0.00000000e+00  0.00000000e+00  0.00000000e+00 -9.59975461e-01\n",
      "   -7.90331595e-01  3.32437864e+04]\n",
      "  [ 0.00000000e+00  0.00000000e+00  0.00000000e+00  0.00000000e+00\n",
      "    0.00000000e+00  0.00000000e+00  0.00000000e+00  0.00000000e+00\n",
      "    0.00000000e+00  0.00000000e+00  0.00000000e+00  0.00000000e+00\n",
      "    0.00000000e+00  0.00000000e+00  0.00000000e+00  0.00000000e+00\n",
      "    0.00000000e+00  0.00000000e+00]\n",
      "  [ 0.00000000e+00  0.00000000e+00  0.00000000e+00  0.00000000e+00\n",
      "    0.00000000e+00  0.00000000e+00  0.00000000e+00  0.00000000e+00\n",
      "    0.00000000e+00  0.00000000e+00  0.00000000e+00  0.00000000e+00\n",
      "    0.00000000e+00  0.00000000e+00  0.00000000e+00  0.00000000e+00\n",
      "    0.00000000e+00  0.00000000e+00]\n",
      "  [ 0.00000000e+00  0.00000000e+00  0.00000000e+00  0.00000000e+00\n",
      "    0.00000000e+00  0.00000000e+00  0.00000000e+00  0.00000000e+00\n",
      "    0.00000000e+00  0.00000000e+00  0.00000000e+00  0.00000000e+00\n",
      "    0.00000000e+00  0.00000000e+00  0.00000000e+00  0.00000000e+00\n",
      "    0.00000000e+00  0.00000000e+00]\n",
      "  [ 0.00000000e+00  0.00000000e+00  0.00000000e+00 -8.74726531e-07\n",
      "    4.02401814e-06  9.59975493e-01  7.19849449e-06  4.03305787e-06\n",
      "   -6.20308609e-01  8.74726366e-07 -4.02401814e-06 -9.59975461e-01\n",
      "    0.00000000e+00  0.00000000e+00  0.00000000e+00 -7.19849432e-06\n",
      "   -4.03305787e-06  6.20308577e-01]\n",
      "  [ 0.00000000e+00  0.00000000e+00  0.00000000e+00  4.03305787e-06\n",
      "   -1.26114512e-15 -7.90331595e-01 -4.03305787e-06  2.67475103e-18\n",
      "    7.90331595e-01  4.03305787e-06 -1.33737551e-18 -7.90331595e-01\n",
      "    0.00000000e+00  0.00000000e+00  0.00000000e+00 -4.03305787e-06\n",
      "    1.25958717e-15  7.90331595e-01]\n",
      "  [ 0.00000000e+00  0.00000000e+00  0.00000000e+00 -6.18918243e-01\n",
      "   -7.88560137e-01 -3.32437927e+04 -6.20308609e-01 -7.90331595e-01\n",
      "   -3.33184731e+04  6.18918275e-01  7.88560137e-01  3.32437864e+04\n",
      "    0.00000000e+00  0.00000000e+00  0.00000000e+00  6.20308577e-01\n",
      "    7.90331595e-01  3.33184794e+04]]]\n",
      "{'edge1': (array([5.00436548e+02, 4.37116572e-01, 2.46492400e+02]), array([4.37127100e-01, 5.00437651e+02, 2.46487924e+02])), 'edge2': (array([499.5628729 , 500.43765066, 248.51207599]), array([ -0.43654849,   0.43711657, 248.50759974]))}\n",
      "min distance is:  [2.01968355]\n",
      "contact type is: ['EdgeToEdge']\n",
      "mask: [[ 3  4  5  6  7  8  0  1  2 15 16 17  9 10 11 12 13 14]]\n",
      "{'edge1': (array([5.00436548e+02, 4.37116572e-01, 2.46492400e+02]), array([4.37127100e-01, 5.00437651e+02, 2.46487924e+02])), 'edge2': (array([499.5628729 , 500.43765066, 248.51207599]), array([ -0.43654849,   0.43711657, 248.50759974]))}\n",
      "min distance is:  [2.01968355]\n",
      "contact type is: ['EdgeToEdge']\n",
      "mask: [[ 3  4  5  6  7  8  0  1  2 15 16 17  9 10 11 12 13 14]]\n",
      "{'edge1': (array([5.00436548e+02, 4.37116572e-01, 2.46492400e+02]), array([4.37127100e-01, 5.00437651e+02, 2.46487924e+02])), 'edge2': (array([499.5628729 , 500.43765066, 248.51207599]), array([ -0.43654849,   0.43711657, 248.50759974]))}\n",
      "min distance is:  [2.01968355]\n",
      "contact type is: ['EdgeToEdge']\n",
      "mask: [[ 3  4  5  6  7  8  0  1  2 15 16 17  9 10 11 12 13 14]]\n",
      "Delta: [2.01968355]\n",
      "upper limit for quadratic: 1.75\n",
      "upper limit for smooth: 2.25\n",
      "Branch 2 (smooth): [2.01968355]\n",
      "gradE is: [[-0.00000000e+00 -0.00000000e+00 -0.00000000e+00 -4.68268991e-06\n",
      "   4.45433713e-16  5.23059164e-01 -4.69908284e-06  4.48105560e-16\n",
      "   5.24890264e-01  4.68268991e-06 -4.46295057e-16 -5.23059164e-01\n",
      "  -0.00000000e+00 -0.00000000e+00 -0.00000000e+00  4.69908284e-06\n",
      "  -4.47251615e-16 -5.24890264e-01]]\n",
      "hessE is: [[[ 0.00000000e+00  0.00000000e+00  0.00000000e+00  0.00000000e+00\n",
      "    0.00000000e+00  0.00000000e+00  0.00000000e+00  0.00000000e+00\n",
      "    0.00000000e+00  0.00000000e+00  0.00000000e+00  0.00000000e+00\n",
      "    0.00000000e+00  0.00000000e+00  0.00000000e+00  0.00000000e+00\n",
      "    0.00000000e+00  0.00000000e+00]\n",
      "  [ 0.00000000e+00  0.00000000e+00  0.00000000e+00  0.00000000e+00\n",
      "    0.00000000e+00  0.00000000e+00  0.00000000e+00  0.00000000e+00\n",
      "    0.00000000e+00  0.00000000e+00  0.00000000e+00  0.00000000e+00\n",
      "    0.00000000e+00  0.00000000e+00  0.00000000e+00  0.00000000e+00\n",
      "    0.00000000e+00  0.00000000e+00]\n",
      "  [ 0.00000000e+00  0.00000000e+00  0.00000000e+00  0.00000000e+00\n",
      "    0.00000000e+00  0.00000000e+00  0.00000000e+00  0.00000000e+00\n",
      "    0.00000000e+00  0.00000000e+00  0.00000000e+00  0.00000000e+00\n",
      "    0.00000000e+00  0.00000000e+00  0.00000000e+00  0.00000000e+00\n",
      "    0.00000000e+00  0.00000000e+00]\n",
      "  [ 0.00000000e+00  0.00000000e+00  0.00000000e+00  5.71371506e-06\n",
      "   -2.34134245e-06 -3.76695384e-01  1.04282521e-06 -2.34953891e-06\n",
      "    1.45961258e-01 -5.71371489e-06  2.34134245e-06  3.76695365e-01\n",
      "    0.00000000e+00  0.00000000e+00  0.00000000e+00 -1.04282538e-06\n",
      "    2.34953891e-06 -1.45961239e-01]\n",
      "  [ 0.00000000e+00  0.00000000e+00  0.00000000e+00 -2.34134245e-06\n",
      "    4.45599141e-16  2.61529303e-01  2.34134245e-06  8.87647701e-19\n",
      "   -2.61529302e-01 -2.34134245e-06 -9.34719426e-27  2.61529302e-01\n",
      "    0.00000000e+00  0.00000000e+00  0.00000000e+00  2.34134245e-06\n",
      "   -4.46486789e-16 -2.61529303e-01]\n",
      "  [ 0.00000000e+00  0.00000000e+00  0.00000000e+00 -3.76695384e-01\n",
      "    2.61529303e-01  1.28640527e+04 -3.78014062e-01  2.62444851e-01\n",
      "    1.29090823e+04  3.76695365e-01 -2.61529303e-01 -1.28640506e+04\n",
      "    0.00000000e+00  0.00000000e+00  0.00000000e+00  3.78014081e-01\n",
      "   -2.62444851e-01 -1.29090844e+04]\n",
      "  [ 0.00000000e+00  0.00000000e+00  0.00000000e+00  1.04282521e-06\n",
      "    2.34134245e-06 -3.78014062e-01 -3.66083722e-06  2.34953891e-06\n",
      "    1.46472194e-01 -1.04282538e-06 -2.34134245e-06  3.78014081e-01\n",
      "    0.00000000e+00  0.00000000e+00  0.00000000e+00  3.66083739e-06\n",
      "   -2.34953891e-06 -1.46472213e-01]\n",
      "  [ 0.00000000e+00  0.00000000e+00  0.00000000e+00 -2.34953891e-06\n",
      "    8.87647701e-19  2.62444851e-01  2.34953891e-06 -4.47818261e-16\n",
      "   -2.62444851e-01 -2.34953891e-06  4.46930613e-16  2.62444851e-01\n",
      "    0.00000000e+00  0.00000000e+00  0.00000000e+00  2.34953891e-06\n",
      "   -4.43823855e-19 -2.62444851e-01]\n",
      "  [ 0.00000000e+00  0.00000000e+00  0.00000000e+00  1.45961258e-01\n",
      "   -2.61529302e-01  1.29090823e+04  1.46472194e-01 -2.62444851e-01\n",
      "    1.29542780e+04 -1.45961239e-01  2.61529302e-01 -1.29090844e+04\n",
      "    0.00000000e+00  0.00000000e+00  0.00000000e+00 -1.46472213e-01\n",
      "    2.62444851e-01 -1.29542759e+04]\n",
      "  [ 0.00000000e+00  0.00000000e+00  0.00000000e+00 -5.71371489e-06\n",
      "   -2.34134245e-06  3.76695365e-01 -1.04282538e-06 -2.34953891e-06\n",
      "   -1.45961239e-01  5.71371506e-06  2.34134245e-06 -3.76695384e-01\n",
      "    0.00000000e+00  0.00000000e+00  0.00000000e+00  1.04282521e-06\n",
      "    2.34953891e-06  1.45961258e-01]\n",
      "  [ 0.00000000e+00  0.00000000e+00  0.00000000e+00  2.34134245e-06\n",
      "   -4.43823855e-19 -2.61529303e-01 -2.34134245e-06  4.47818261e-16\n",
      "    2.61529302e-01  2.34134245e-06 -4.46486789e-16 -2.61529302e-01\n",
      "    0.00000000e+00  0.00000000e+00  0.00000000e+00 -2.34134245e-06\n",
      "   -8.87647683e-19  2.61529303e-01]\n",
      "  [ 0.00000000e+00  0.00000000e+00  0.00000000e+00  3.76695365e-01\n",
      "    2.61529302e-01 -1.28640506e+04  3.78014081e-01  2.62444851e-01\n",
      "   -1.29090844e+04 -3.76695384e-01 -2.61529302e-01  1.28640527e+04\n",
      "    0.00000000e+00  0.00000000e+00  0.00000000e+00 -3.78014062e-01\n",
      "   -2.62444851e-01  1.29090823e+04]\n",
      "  [ 0.00000000e+00  0.00000000e+00  0.00000000e+00  0.00000000e+00\n",
      "    0.00000000e+00  0.00000000e+00  0.00000000e+00  0.00000000e+00\n",
      "    0.00000000e+00  0.00000000e+00  0.00000000e+00  0.00000000e+00\n",
      "    0.00000000e+00  0.00000000e+00  0.00000000e+00  0.00000000e+00\n",
      "    0.00000000e+00  0.00000000e+00]\n",
      "  [ 0.00000000e+00  0.00000000e+00  0.00000000e+00  0.00000000e+00\n",
      "    0.00000000e+00  0.00000000e+00  0.00000000e+00  0.00000000e+00\n",
      "    0.00000000e+00  0.00000000e+00  0.00000000e+00  0.00000000e+00\n",
      "    0.00000000e+00  0.00000000e+00  0.00000000e+00  0.00000000e+00\n",
      "    0.00000000e+00  0.00000000e+00]\n",
      "  [ 0.00000000e+00  0.00000000e+00  0.00000000e+00  0.00000000e+00\n",
      "    0.00000000e+00  0.00000000e+00  0.00000000e+00  0.00000000e+00\n",
      "    0.00000000e+00  0.00000000e+00  0.00000000e+00  0.00000000e+00\n",
      "    0.00000000e+00  0.00000000e+00  0.00000000e+00  0.00000000e+00\n",
      "    0.00000000e+00  0.00000000e+00]\n",
      "  [ 0.00000000e+00  0.00000000e+00  0.00000000e+00 -1.04282538e-06\n",
      "    2.34134245e-06  3.78014081e-01  3.66083739e-06  2.34953891e-06\n",
      "   -1.46472213e-01  1.04282521e-06 -2.34134245e-06 -3.78014062e-01\n",
      "    0.00000000e+00  0.00000000e+00  0.00000000e+00 -3.66083722e-06\n",
      "   -2.34953891e-06  1.46472194e-01]\n",
      "  [ 0.00000000e+00  0.00000000e+00  0.00000000e+00  2.34953891e-06\n",
      "   -4.46042965e-16 -2.62444851e-01 -2.34953891e-06 -1.33147155e-18\n",
      "    2.62444851e-01  2.34953891e-06 -8.87647683e-19 -2.62444851e-01\n",
      "    0.00000000e+00  0.00000000e+00  0.00000000e+00 -2.34953891e-06\n",
      "    4.47126076e-16  2.62444851e-01]\n",
      "  [ 0.00000000e+00  0.00000000e+00  0.00000000e+00 -1.45961239e-01\n",
      "   -2.61529303e-01 -1.29090844e+04 -1.46472213e-01 -2.62444851e-01\n",
      "   -1.29542759e+04  1.45961258e-01  2.61529303e-01  1.29090823e+04\n",
      "    0.00000000e+00  0.00000000e+00  0.00000000e+00  1.46472194e-01\n",
      "    2.62444851e-01  1.29542780e+04]]]\n",
      "{'edge1': (array([5.00436826e+02, 4.37347885e-01, 2.46487221e+02]), array([4.37356930e-01, 5.00437842e+02, 2.46483091e+02])), 'edge2': (array([499.56264307, 500.43784234, 248.51690927]), array([ -0.43682636,   0.43734788, 248.51277886]))}\n",
      "min distance is:  [2.02969535]\n",
      "contact type is: ['EdgeToEdge']\n",
      "mask: [[ 3  4  5  6  7  8  0  1  2 15 16 17  9 10 11 12 13 14]]\n",
      "{'edge1': (array([5.00436826e+02, 4.37347885e-01, 2.46487221e+02]), array([4.37356930e-01, 5.00437842e+02, 2.46483091e+02])), 'edge2': (array([499.56264307, 500.43784234, 248.51690927]), array([ -0.43682636,   0.43734788, 248.51277886]))}\n",
      "min distance is:  [2.02969535]\n",
      "contact type is: ['EdgeToEdge']\n",
      "mask: [[ 3  4  5  6  7  8  0  1  2 15 16 17  9 10 11 12 13 14]]\n",
      "{'edge1': (array([5.00436826e+02, 4.37347885e-01, 2.46487221e+02]), array([4.37356930e-01, 5.00437842e+02, 2.46483091e+02])), 'edge2': (array([499.56264307, 500.43784234, 248.51690927]), array([ -0.43682636,   0.43734788, 248.51277886]))}\n",
      "min distance is:  [2.02969535]\n",
      "contact type is: ['EdgeToEdge']\n",
      "mask: [[ 3  4  5  6  7  8  0  1  2 15 16 17  9 10 11 12 13 14]]\n",
      "Delta: [2.02969535]\n",
      "upper limit for quadratic: 1.75\n",
      "upper limit for smooth: 2.25\n",
      "Branch 2 (smooth): [2.02969535]\n",
      "gradE is: [[-0.00000000e+00 -0.00000000e+00 -0.00000000e+00 -1.54064226e-06\n",
      "   1.58821404e-16  1.86500095e-01 -1.54603881e-06  1.59720608e-16\n",
      "   1.87153366e-01  1.54064226e-06 -1.58967477e-16 -1.86500095e-01\n",
      "  -0.00000000e+00 -0.00000000e+00 -0.00000000e+00  1.54603881e-06\n",
      "  -1.59631636e-16 -1.87153366e-01]]\n",
      "hessE is: [[[ 0.00000000e+00  0.00000000e+00  0.00000000e+00  0.00000000e+00\n",
      "    0.00000000e+00  0.00000000e+00  0.00000000e+00  0.00000000e+00\n",
      "    0.00000000e+00  0.00000000e+00  0.00000000e+00  0.00000000e+00\n",
      "    0.00000000e+00  0.00000000e+00  0.00000000e+00  0.00000000e+00\n",
      "    0.00000000e+00  0.00000000e+00]\n",
      "  [ 0.00000000e+00  0.00000000e+00  0.00000000e+00  0.00000000e+00\n",
      "    0.00000000e+00  0.00000000e+00  0.00000000e+00  0.00000000e+00\n",
      "    0.00000000e+00  0.00000000e+00  0.00000000e+00  0.00000000e+00\n",
      "    0.00000000e+00  0.00000000e+00  0.00000000e+00  0.00000000e+00\n",
      "    0.00000000e+00  0.00000000e+00]\n",
      "  [ 0.00000000e+00  0.00000000e+00  0.00000000e+00  0.00000000e+00\n",
      "    0.00000000e+00  0.00000000e+00  0.00000000e+00  0.00000000e+00\n",
      "    0.00000000e+00  0.00000000e+00  0.00000000e+00  0.00000000e+00\n",
      "    0.00000000e+00  0.00000000e+00  0.00000000e+00  0.00000000e+00\n",
      "    0.00000000e+00  0.00000000e+00]\n",
      "  [ 0.00000000e+00  0.00000000e+00  0.00000000e+00  1.88024003e-06\n",
      "   -7.70320366e-07 -1.34359438e-01  3.43483847e-07 -7.73018639e-07\n",
      "    5.19968700e-02 -1.88023998e-06  7.70320366e-07  1.34359432e-01\n",
      "    0.00000000e+00  0.00000000e+00  0.00000000e+00 -3.43483899e-07\n",
      "    7.73018639e-07 -5.19968637e-02]\n",
      "  [ 0.00000000e+00  0.00000000e+00  0.00000000e+00 -7.70320366e-07\n",
      "    1.59197887e-16  9.32499552e-02  7.70320366e-07  3.62935165e-27\n",
      "   -9.32499552e-02 -7.70320366e-07  4.74745185e-19  9.32499552e-02\n",
      "    0.00000000e+00  0.00000000e+00  0.00000000e+00  7.70320366e-07\n",
      "   -1.59672632e-16 -9.32499552e-02]\n",
      "  [ 0.00000000e+00  0.00000000e+00  0.00000000e+00 -1.34359438e-01\n",
      "    9.32499552e-02  4.97642249e+03 -1.34830059e-01  9.35765906e-02\n",
      "    4.99385236e+03  1.34359432e-01 -9.32499552e-02 -4.97642173e+03\n",
      "    0.00000000e+00  0.00000000e+00  0.00000000e+00  1.34830065e-01\n",
      "   -9.35765906e-02 -4.99385312e+03]\n",
      "  [ 0.00000000e+00  0.00000000e+00  0.00000000e+00  3.43483847e-07\n",
      "    7.70320366e-07 -1.34830059e-01 -1.20406107e-06  7.73018640e-07\n",
      "    5.21789918e-02 -3.43483899e-07 -7.70320366e-07  1.34830065e-01\n",
      "    0.00000000e+00  0.00000000e+00  0.00000000e+00  1.20406113e-06\n",
      "   -7.73018640e-07 -5.21789980e-02]\n",
      "  [ 0.00000000e+00  0.00000000e+00  0.00000000e+00 -7.73018639e-07\n",
      "    3.62935165e-27  9.35765906e-02  7.73018640e-07 -1.59356135e-16\n",
      "   -9.35765906e-02 -7.73018640e-07  1.58881390e-16  9.35765906e-02\n",
      "    0.00000000e+00  0.00000000e+00  0.00000000e+00  7.73018639e-07\n",
      "    3.16496789e-19 -9.35765906e-02]\n",
      "  [ 0.00000000e+00  0.00000000e+00  0.00000000e+00  5.19968700e-02\n",
      "   -9.32499552e-02  4.99385236e+03  5.21789918e-02 -9.35765906e-02\n",
      "    5.01134631e+03 -5.19968637e-02  9.32499552e-02 -4.99385312e+03\n",
      "    0.00000000e+00  0.00000000e+00  0.00000000e+00 -5.21789980e-02\n",
      "    9.35765906e-02 -5.01134555e+03]\n",
      "  [ 0.00000000e+00  0.00000000e+00  0.00000000e+00 -1.88023998e-06\n",
      "   -7.70320366e-07  1.34359432e-01 -3.43483899e-07 -7.73018640e-07\n",
      "   -5.19968637e-02  1.88024003e-06  7.70320366e-07 -1.34359438e-01\n",
      "    0.00000000e+00  0.00000000e+00  0.00000000e+00  3.43483847e-07\n",
      "    7.73018640e-07  5.19968700e-02]\n",
      "  [ 0.00000000e+00  0.00000000e+00  0.00000000e+00  7.70320366e-07\n",
      "    3.16496789e-19 -9.32499552e-02 -7.70320366e-07  1.58881390e-16\n",
      "    9.32499552e-02  7.70320366e-07 -1.58723141e-16 -9.32499552e-02\n",
      "    0.00000000e+00  0.00000000e+00  0.00000000e+00 -7.70320366e-07\n",
      "   -6.32993581e-19  9.32499552e-02]\n",
      "  [ 0.00000000e+00  0.00000000e+00  0.00000000e+00  1.34359432e-01\n",
      "    9.32499552e-02 -4.97642173e+03  1.34830065e-01  9.35765906e-02\n",
      "   -4.99385312e+03 -1.34359438e-01 -9.32499552e-02  4.97642249e+03\n",
      "    0.00000000e+00  0.00000000e+00  0.00000000e+00 -1.34830059e-01\n",
      "   -9.35765906e-02  4.99385236e+03]\n",
      "  [ 0.00000000e+00  0.00000000e+00  0.00000000e+00  0.00000000e+00\n",
      "    0.00000000e+00  0.00000000e+00  0.00000000e+00  0.00000000e+00\n",
      "    0.00000000e+00  0.00000000e+00  0.00000000e+00  0.00000000e+00\n",
      "    0.00000000e+00  0.00000000e+00  0.00000000e+00  0.00000000e+00\n",
      "    0.00000000e+00  0.00000000e+00]\n",
      "  [ 0.00000000e+00  0.00000000e+00  0.00000000e+00  0.00000000e+00\n",
      "    0.00000000e+00  0.00000000e+00  0.00000000e+00  0.00000000e+00\n",
      "    0.00000000e+00  0.00000000e+00  0.00000000e+00  0.00000000e+00\n",
      "    0.00000000e+00  0.00000000e+00  0.00000000e+00  0.00000000e+00\n",
      "    0.00000000e+00  0.00000000e+00]\n",
      "  [ 0.00000000e+00  0.00000000e+00  0.00000000e+00  0.00000000e+00\n",
      "    0.00000000e+00  0.00000000e+00  0.00000000e+00  0.00000000e+00\n",
      "    0.00000000e+00  0.00000000e+00  0.00000000e+00  0.00000000e+00\n",
      "    0.00000000e+00  0.00000000e+00  0.00000000e+00  0.00000000e+00\n",
      "    0.00000000e+00  0.00000000e+00]\n",
      "  [ 0.00000000e+00  0.00000000e+00  0.00000000e+00 -3.43483899e-07\n",
      "    7.70320366e-07  1.34830065e-01  1.20406113e-06  7.73018639e-07\n",
      "   -5.21789980e-02  3.43483847e-07 -7.70320366e-07 -1.34830059e-01\n",
      "    0.00000000e+00  0.00000000e+00  0.00000000e+00 -1.20406107e-06\n",
      "   -7.73018639e-07  5.21789918e-02]\n",
      "  [ 0.00000000e+00  0.00000000e+00  0.00000000e+00  7.73018639e-07\n",
      "   -1.59514383e-16 -9.35765906e-02 -7.73018640e-07  3.16496789e-19\n",
      "    9.35765906e-02  7.73018640e-07 -6.32993581e-19 -9.35765906e-02\n",
      "    0.00000000e+00  0.00000000e+00  0.00000000e+00 -7.73018639e-07\n",
      "    1.59871179e-16  9.35765906e-02]\n",
      "  [ 0.00000000e+00  0.00000000e+00  0.00000000e+00 -5.19968637e-02\n",
      "   -9.32499552e-02 -4.99385312e+03 -5.21789980e-02 -9.35765906e-02\n",
      "   -5.01134555e+03  5.19968700e-02  9.32499552e-02  4.99385236e+03\n",
      "    0.00000000e+00  0.00000000e+00  0.00000000e+00  5.21789918e-02\n",
      "    9.35765906e-02  5.01134631e+03]]]\n",
      "{'edge1': (array([500.5919256 ,   0.59264536, 245.23250585]), array([  0.59265788, 500.59333103, 245.22677443])), 'edge2': (array([499.40734212, 500.59333103, 247.27322557]), array([ -0.5919256 ,   0.59264536, 247.26749415]))}\n",
      "min distance is:  [2.0407333]\n",
      "contact type is: ['EdgeToEdge']\n",
      "mask: [[ 3  4  5  6  7  8  0  1  2 15 16 17  9 10 11 12 13 14]]\n",
      "{'edge1': (array([500.5919256 ,   0.59264536, 245.23250585]), array([  0.59265788, 500.59333103, 245.22677443])), 'edge2': (array([499.40734212, 500.59333103, 247.27322557]), array([ -0.5919256 ,   0.59264536, 247.26749415]))}\n",
      "min distance is:  [2.0407333]\n",
      "contact type is: ['EdgeToEdge']\n",
      "mask: [[ 3  4  5  6  7  8  0  1  2 15 16 17  9 10 11 12 13 14]]\n",
      "{'edge1': (array([500.5919256 ,   0.59264536, 245.23250585]), array([  0.59265788, 500.59333103, 245.22677443])), 'edge2': (array([499.40734212, 500.59333103, 247.27322557]), array([ -0.5919256 ,   0.59264536, 247.26749415]))}\n",
      "min distance is:  [2.0407333]\n",
      "contact type is: ['EdgeToEdge']\n",
      "mask: [[ 3  4  5  6  7  8  0  1  2 15 16 17  9 10 11 12 13 14]]\n",
      "Delta: [2.0407333]\n",
      "upper limit for quadratic: 1.75\n",
      "upper limit for smooth: 2.25\n",
      "Branch 2 (smooth): [2.0407333]\n",
      "gradE is: [[-0.00000000e+00 -0.00000000e+00 -0.00000000e+00 -6.33714911e-07\n",
      "   4.71091335e-17  5.52842386e-02 -6.36724739e-07  4.73759396e-17\n",
      "   5.55468111e-02  6.33714911e-07 -4.72001304e-17 -5.52842386e-02\n",
      "  -0.00000000e+00 -0.00000000e+00 -0.00000000e+00  6.36724739e-07\n",
      "  -4.73013948e-17 -5.55468111e-02]]\n",
      "hessE is: [[[ 0.00000000e+00  0.00000000e+00  0.00000000e+00  0.00000000e+00\n",
      "    0.00000000e+00  0.00000000e+00  0.00000000e+00  0.00000000e+00\n",
      "    0.00000000e+00  0.00000000e+00  0.00000000e+00  0.00000000e+00\n",
      "    0.00000000e+00  0.00000000e+00  0.00000000e+00  0.00000000e+00\n",
      "    0.00000000e+00  0.00000000e+00]\n",
      "  [ 0.00000000e+00  0.00000000e+00  0.00000000e+00  0.00000000e+00\n",
      "    0.00000000e+00  0.00000000e+00  0.00000000e+00  0.00000000e+00\n",
      "    0.00000000e+00  0.00000000e+00  0.00000000e+00  0.00000000e+00\n",
      "    0.00000000e+00  0.00000000e+00  0.00000000e+00  0.00000000e+00\n",
      "    0.00000000e+00  0.00000000e+00]\n",
      "  [ 0.00000000e+00  0.00000000e+00  0.00000000e+00  0.00000000e+00\n",
      "    0.00000000e+00  0.00000000e+00  0.00000000e+00  0.00000000e+00\n",
      "    0.00000000e+00  0.00000000e+00  0.00000000e+00  0.00000000e+00\n",
      "    0.00000000e+00  0.00000000e+00  0.00000000e+00  0.00000000e+00\n",
      "    0.00000000e+00  0.00000000e+00]\n",
      "  [ 0.00000000e+00  0.00000000e+00  0.00000000e+00  8.38039959e-07\n",
      "   -3.16857021e-07 -4.54670574e-02  2.06799415e-07 -3.18361933e-07\n",
      "    9.73260800e-03 -8.38039929e-07  3.16857021e-07  4.54670548e-02\n",
      "    0.00000000e+00  0.00000000e+00  0.00000000e+00 -2.06799444e-07\n",
      "    3.18361933e-07 -9.73260540e-03]\n",
      "  [ 0.00000000e+00  0.00000000e+00  0.00000000e+00 -3.16857021e-07\n",
      "    4.70326529e-17  2.76420814e-02  3.16857021e-07  1.40816327e-19\n",
      "   -2.76420814e-02 -3.16857021e-07 -1.13130586e-27  2.76420814e-02\n",
      "    0.00000000e+00  0.00000000e+00  0.00000000e+00  3.16857021e-07\n",
      "   -4.72673468e-17 -2.76420814e-02]\n",
      "  [ 0.00000000e+00  0.00000000e+00  0.00000000e+00 -4.54670574e-02\n",
      "    2.76420814e-02  1.55501453e+03 -4.56829980e-02  2.77733675e-02\n",
      "    1.56239962e+03  4.54670548e-02 -2.76420814e-02 -1.55501430e+03\n",
      "    0.00000000e+00  0.00000000e+00  0.00000000e+00  4.56830006e-02\n",
      "   -2.77733675e-02 -1.56239984e+03]\n",
      "  [ 0.00000000e+00  0.00000000e+00  0.00000000e+00  2.06799415e-07\n",
      "    3.16857021e-07 -4.56829980e-02 -4.30456068e-07  3.18361933e-07\n",
      "    9.77882781e-03 -2.06799444e-07 -3.16857021e-07  4.56830006e-02\n",
      "    0.00000000e+00  0.00000000e+00  0.00000000e+00  4.30456098e-07\n",
      "   -3.18361933e-07 -9.77883040e-03]\n",
      "  [ 0.00000000e+00  0.00000000e+00  0.00000000e+00 -3.18361933e-07\n",
      "    1.40816327e-19  2.77733675e-02  3.18361933e-07 -4.74551019e-17\n",
      "   -2.77733674e-02 -3.18361933e-07  4.72673468e-17  2.77733674e-02\n",
      "    0.00000000e+00  0.00000000e+00  0.00000000e+00  3.18361933e-07\n",
      "   -1.14015398e-27 -2.77733675e-02]\n",
      "  [ 0.00000000e+00  0.00000000e+00  0.00000000e+00  9.73260800e-03\n",
      "   -2.76420814e-02  1.56239962e+03  9.77882781e-03 -2.77733674e-02\n",
      "    1.56982069e+03 -9.73260540e-03  2.76420814e-02 -1.56239984e+03\n",
      "    0.00000000e+00  0.00000000e+00  0.00000000e+00 -9.77883040e-03\n",
      "    2.77733674e-02 -1.56982046e+03]\n",
      "  [ 0.00000000e+00  0.00000000e+00  0.00000000e+00 -8.38039929e-07\n",
      "   -3.16857021e-07  4.54670548e-02 -2.06799444e-07 -3.18361933e-07\n",
      "   -9.73260540e-03  8.38039959e-07  3.16857021e-07 -4.54670574e-02\n",
      "    0.00000000e+00  0.00000000e+00  0.00000000e+00  2.06799415e-07\n",
      "    3.18361933e-07  9.73260800e-03]\n",
      "  [ 0.00000000e+00  0.00000000e+00  0.00000000e+00  3.16857021e-07\n",
      "   -1.13130586e-27 -2.76420814e-02 -3.16857021e-07  4.72204080e-17\n",
      "    2.76420814e-02  3.16857021e-07 -4.71734692e-17 -2.76420814e-02\n",
      "    0.00000000e+00  0.00000000e+00  0.00000000e+00 -3.16857021e-07\n",
      "   -4.69387742e-20  2.76420814e-02]\n",
      "  [ 0.00000000e+00  0.00000000e+00  0.00000000e+00  4.54670548e-02\n",
      "    2.76420814e-02 -1.55501430e+03  4.56830006e-02  2.77733674e-02\n",
      "   -1.56239984e+03 -4.54670574e-02 -2.76420814e-02  1.55501453e+03\n",
      "    0.00000000e+00  0.00000000e+00  0.00000000e+00 -4.56829980e-02\n",
      "   -2.77733674e-02  1.56239962e+03]\n",
      "  [ 0.00000000e+00  0.00000000e+00  0.00000000e+00  0.00000000e+00\n",
      "    0.00000000e+00  0.00000000e+00  0.00000000e+00  0.00000000e+00\n",
      "    0.00000000e+00  0.00000000e+00  0.00000000e+00  0.00000000e+00\n",
      "    0.00000000e+00  0.00000000e+00  0.00000000e+00  0.00000000e+00\n",
      "    0.00000000e+00  0.00000000e+00]\n",
      "  [ 0.00000000e+00  0.00000000e+00  0.00000000e+00  0.00000000e+00\n",
      "    0.00000000e+00  0.00000000e+00  0.00000000e+00  0.00000000e+00\n",
      "    0.00000000e+00  0.00000000e+00  0.00000000e+00  0.00000000e+00\n",
      "    0.00000000e+00  0.00000000e+00  0.00000000e+00  0.00000000e+00\n",
      "    0.00000000e+00  0.00000000e+00]\n",
      "  [ 0.00000000e+00  0.00000000e+00  0.00000000e+00  0.00000000e+00\n",
      "    0.00000000e+00  0.00000000e+00  0.00000000e+00  0.00000000e+00\n",
      "    0.00000000e+00  0.00000000e+00  0.00000000e+00  0.00000000e+00\n",
      "    0.00000000e+00  0.00000000e+00  0.00000000e+00  0.00000000e+00\n",
      "    0.00000000e+00  0.00000000e+00]\n",
      "  [ 0.00000000e+00  0.00000000e+00  0.00000000e+00 -2.06799444e-07\n",
      "    3.16857021e-07  4.56830006e-02  4.30456098e-07  3.18361933e-07\n",
      "   -9.77883040e-03  2.06799415e-07 -3.16857021e-07 -4.56829980e-02\n",
      "    0.00000000e+00  0.00000000e+00  0.00000000e+00 -4.30456068e-07\n",
      "   -3.18361933e-07  9.77882781e-03]\n",
      "  [ 0.00000000e+00  0.00000000e+00  0.00000000e+00  3.18361933e-07\n",
      "   -4.72673468e-17 -2.77733675e-02 -3.18361933e-07 -1.14015398e-27\n",
      "    2.77733674e-02  3.18361933e-07 -4.69387742e-20 -2.77733674e-02\n",
      "    0.00000000e+00  0.00000000e+00  0.00000000e+00 -3.18361933e-07\n",
      "    4.72963838e-17  2.77733675e-02]\n",
      "  [ 0.00000000e+00  0.00000000e+00  0.00000000e+00 -9.73260540e-03\n",
      "   -2.76420814e-02 -1.56239984e+03 -9.77883040e-03 -2.77733675e-02\n",
      "   -1.56982046e+03  9.73260800e-03  2.76420814e-02  1.56239962e+03\n",
      "    0.00000000e+00  0.00000000e+00  0.00000000e+00  9.77882781e-03\n",
      "    2.77733675e-02  1.56982069e+03]]]\n",
      "{'edge1': (array([500.59221709,   0.59292883, 245.22745342]), array([  0.59294124, 500.59361436, 245.22174857])), 'edge2': (array([499.40705876, 500.59361436, 247.27825143]), array([ -0.59221709,   0.59292883, 247.27254658]))}\n",
      "min distance is:  [2.05081154]\n",
      "contact type is: ['EdgeToEdge']\n",
      "mask: [[ 3  4  5  6  7  8  0  1  2 15 16 17  9 10 11 12 13 14]]\n",
      "{'edge1': (array([500.59221709,   0.59292883, 245.22745342]), array([  0.59294124, 500.59361436, 245.22174857])), 'edge2': (array([499.40705876, 500.59361436, 247.27825143]), array([ -0.59221709,   0.59292883, 247.27254658]))}\n",
      "min distance is:  [2.05081154]\n",
      "contact type is: ['EdgeToEdge']\n",
      "mask: [[ 3  4  5  6  7  8  0  1  2 15 16 17  9 10 11 12 13 14]]\n",
      "{'edge1': (array([500.59221709,   0.59292883, 245.22745342]), array([  0.59294124, 500.59361436, 245.22174857])), 'edge2': (array([499.40705876, 500.59361436, 247.27825143]), array([ -0.59221709,   0.59292883, 247.27254658]))}\n",
      "min distance is:  [2.05081154]\n",
      "contact type is: ['EdgeToEdge']\n",
      "mask: [[ 3  4  5  6  7  8  0  1  2 15 16 17  9 10 11 12 13 14]]\n",
      "Delta: [2.05081154]\n",
      "upper limit for quadratic: 1.75\n",
      "upper limit for smooth: 2.25\n",
      "Branch 2 (smooth): [2.05081154]\n",
      "gradE is: [[-0.00000000e+00 -0.00000000e+00 -0.00000000e+00 -1.98967210e-07\n",
      "   1.33799385e-17  1.74384194e-02 -1.99912664e-07  1.34548270e-17\n",
      "   1.75212835e-02  1.98967210e-07 -1.34026372e-17 -1.74384194e-02\n",
      "  -0.00000000e+00 -0.00000000e+00 -0.00000000e+00  1.99912664e-07\n",
      "  -1.34254226e-17 -1.75212835e-02]]\n",
      "hessE is: [[[ 0.00000000e+00  0.00000000e+00  0.00000000e+00  0.00000000e+00\n",
      "    0.00000000e+00  0.00000000e+00  0.00000000e+00  0.00000000e+00\n",
      "    0.00000000e+00  0.00000000e+00  0.00000000e+00  0.00000000e+00\n",
      "    0.00000000e+00  0.00000000e+00  0.00000000e+00  0.00000000e+00\n",
      "    0.00000000e+00  0.00000000e+00]\n",
      "  [ 0.00000000e+00  0.00000000e+00  0.00000000e+00  0.00000000e+00\n",
      "    0.00000000e+00  0.00000000e+00  0.00000000e+00  0.00000000e+00\n",
      "    0.00000000e+00  0.00000000e+00  0.00000000e+00  0.00000000e+00\n",
      "    0.00000000e+00  0.00000000e+00  0.00000000e+00  0.00000000e+00\n",
      "    0.00000000e+00  0.00000000e+00]\n",
      "  [ 0.00000000e+00  0.00000000e+00  0.00000000e+00  0.00000000e+00\n",
      "    0.00000000e+00  0.00000000e+00  0.00000000e+00  0.00000000e+00\n",
      "    0.00000000e+00  0.00000000e+00  0.00000000e+00  0.00000000e+00\n",
      "    0.00000000e+00  0.00000000e+00  0.00000000e+00  0.00000000e+00\n",
      "    0.00000000e+00  0.00000000e+00]\n",
      "  [ 0.00000000e+00  0.00000000e+00  0.00000000e+00  2.64597806e-07\n",
      "   -9.94834684e-08 -1.44713704e-02  6.64148806e-08 -9.99561949e-08\n",
      "    2.93974279e-03 -2.64597797e-07  9.94834684e-08  1.44713696e-02\n",
      "    0.00000000e+00  0.00000000e+00  0.00000000e+00 -6.64148899e-08\n",
      "    9.99561949e-08 -2.93974198e-03]\n",
      "  [ 0.00000000e+00  0.00000000e+00  0.00000000e+00 -9.94834684e-08\n",
      "    1.33994391e-17  8.71919775e-03  9.94834683e-08  1.48060104e-20\n",
      "   -8.71919775e-03 -9.94834683e-08  1.48060098e-20  8.71919775e-03\n",
      "    0.00000000e+00  0.00000000e+00  0.00000000e+00  9.94834684e-08\n",
      "   -1.34290511e-17 -8.71919775e-03]\n",
      "  [ 0.00000000e+00  0.00000000e+00  0.00000000e+00 -1.44713704e-02\n",
      "    8.71919775e-03  5.04145235e+02 -1.45401340e-02  8.76062972e-03\n",
      "    5.06540693e+02  1.44713696e-02 -8.71919775e-03 -5.04145163e+02\n",
      "    0.00000000e+00  0.00000000e+00  0.00000000e+00  1.45401348e-02\n",
      "   -8.76062972e-03 -5.06540765e+02]\n",
      "  [ 0.00000000e+00  0.00000000e+00  0.00000000e+00  6.64148806e-08\n",
      "    9.94834683e-08 -1.45401340e-02 -1.33657437e-07  9.99561949e-08\n",
      "    2.95371025e-03 -6.64148899e-08 -9.94834683e-08  1.45401348e-02\n",
      "    0.00000000e+00  0.00000000e+00  0.00000000e+00  1.33657447e-07\n",
      "   -9.99561949e-08 -2.95371107e-03]\n",
      "  [ 0.00000000e+00  0.00000000e+00  0.00000000e+00 -9.99561949e-08\n",
      "    1.48060104e-20  8.76062972e-03  9.99561949e-08 -1.34290511e-17\n",
      "   -8.76062972e-03 -9.99561949e-08  1.33994391e-17  8.76062972e-03\n",
      "    0.00000000e+00  0.00000000e+00  0.00000000e+00  9.99561949e-08\n",
      "    1.48060098e-20 -8.76062972e-03]\n",
      "  [ 0.00000000e+00  0.00000000e+00  0.00000000e+00  2.93974279e-03\n",
      "   -8.71919775e-03  5.06540693e+02  2.95371025e-03 -8.76062972e-03\n",
      "    5.08947822e+02 -2.93974198e-03  8.71919775e-03 -5.06540765e+02\n",
      "    0.00000000e+00  0.00000000e+00  0.00000000e+00 -2.95371107e-03\n",
      "    8.76062972e-03 -5.08947751e+02]\n",
      "  [ 0.00000000e+00  0.00000000e+00  0.00000000e+00 -2.64597797e-07\n",
      "   -9.94834683e-08  1.44713696e-02 -6.64148899e-08 -9.99561949e-08\n",
      "   -2.93974198e-03  2.64597806e-07  9.94834683e-08 -1.44713704e-02\n",
      "    0.00000000e+00  0.00000000e+00  0.00000000e+00  6.64148806e-08\n",
      "    9.99561949e-08  2.93974279e-03]\n",
      "  [ 0.00000000e+00  0.00000000e+00  0.00000000e+00  9.94834684e-08\n",
      "    1.48060098e-20 -8.71919775e-03 -9.94834683e-08  1.33994391e-17\n",
      "    8.71919775e-03  9.94834683e-08 -1.33698271e-17 -8.71919775e-03\n",
      "    0.00000000e+00  0.00000000e+00  0.00000000e+00 -9.94834684e-08\n",
      "   -2.96120199e-20  8.71919775e-03]\n",
      "  [ 0.00000000e+00  0.00000000e+00  0.00000000e+00  1.44713696e-02\n",
      "    8.71919775e-03 -5.04145163e+02  1.45401348e-02  8.76062972e-03\n",
      "   -5.06540765e+02 -1.44713704e-02 -8.71919775e-03  5.04145235e+02\n",
      "    0.00000000e+00  0.00000000e+00  0.00000000e+00 -1.45401340e-02\n",
      "   -8.76062972e-03  5.06540693e+02]\n",
      "  [ 0.00000000e+00  0.00000000e+00  0.00000000e+00  0.00000000e+00\n",
      "    0.00000000e+00  0.00000000e+00  0.00000000e+00  0.00000000e+00\n",
      "    0.00000000e+00  0.00000000e+00  0.00000000e+00  0.00000000e+00\n",
      "    0.00000000e+00  0.00000000e+00  0.00000000e+00  0.00000000e+00\n",
      "    0.00000000e+00  0.00000000e+00]\n",
      "  [ 0.00000000e+00  0.00000000e+00  0.00000000e+00  0.00000000e+00\n",
      "    0.00000000e+00  0.00000000e+00  0.00000000e+00  0.00000000e+00\n",
      "    0.00000000e+00  0.00000000e+00  0.00000000e+00  0.00000000e+00\n",
      "    0.00000000e+00  0.00000000e+00  0.00000000e+00  0.00000000e+00\n",
      "    0.00000000e+00  0.00000000e+00]\n",
      "  [ 0.00000000e+00  0.00000000e+00  0.00000000e+00  0.00000000e+00\n",
      "    0.00000000e+00  0.00000000e+00  0.00000000e+00  0.00000000e+00\n",
      "    0.00000000e+00  0.00000000e+00  0.00000000e+00  0.00000000e+00\n",
      "    0.00000000e+00  0.00000000e+00  0.00000000e+00  0.00000000e+00\n",
      "    0.00000000e+00  0.00000000e+00]\n",
      "  [ 0.00000000e+00  0.00000000e+00  0.00000000e+00 -6.64148899e-08\n",
      "    9.94834684e-08  1.45401348e-02  1.33657447e-07  9.99561949e-08\n",
      "   -2.95371107e-03  6.64148806e-08 -9.94834684e-08 -1.45401340e-02\n",
      "    0.00000000e+00  0.00000000e+00  0.00000000e+00 -1.33657437e-07\n",
      "   -9.99561949e-08  2.95371025e-03]\n",
      "  [ 0.00000000e+00  0.00000000e+00  0.00000000e+00  9.99561949e-08\n",
      "   -1.34290511e-17 -8.76062972e-03 -9.99561949e-08  1.48060098e-20\n",
      "    8.76062972e-03  9.99561949e-08 -2.96120199e-20 -8.76062972e-03\n",
      "    0.00000000e+00  0.00000000e+00  0.00000000e+00 -9.99561949e-08\n",
      "    1.34486078e-17  8.76062972e-03]\n",
      "  [ 0.00000000e+00  0.00000000e+00  0.00000000e+00 -2.93974198e-03\n",
      "   -8.71919775e-03 -5.06540765e+02 -2.95371107e-03 -8.76062972e-03\n",
      "   -5.08947751e+02  2.93974279e-03  8.71919775e-03  5.06540693e+02\n",
      "    0.00000000e+00  0.00000000e+00  0.00000000e+00  2.95371025e-03\n",
      "    8.76062972e-03  5.08947822e+02]]]\n",
      "{'edge1': (array([500.74696379,   0.74785252, 243.97016304]), array([  0.74786825, 500.74873853, 243.96289223])), 'edge2': (array([499.25213175, 500.74873853, 246.03710777]), array([ -0.74696379,   0.74785252, 246.02983696]))}\n",
      "min distance is:  [2.06696647]\n",
      "contact type is: ['EdgeToEdge']\n",
      "mask: [[ 3  4  5  6  7  8  0  1  2 15 16 17  9 10 11 12 13 14]]\n",
      "{'edge1': (array([500.74696379,   0.74785252, 243.97016304]), array([  0.74786825, 500.74873853, 243.96289223])), 'edge2': (array([499.25213175, 500.74873853, 246.03710777]), array([ -0.74696379,   0.74785252, 246.02983696]))}\n",
      "min distance is:  [2.06696647]\n",
      "contact type is: ['EdgeToEdge']\n",
      "mask: [[ 3  4  5  6  7  8  0  1  2 15 16 17  9 10 11 12 13 14]]\n",
      "{'edge1': (array([500.74696379,   0.74785252, 243.97016304]), array([  0.74786825, 500.74873853, 243.96289223])), 'edge2': (array([499.25213175, 500.74873853, 246.03710777]), array([ -0.74696379,   0.74785252, 246.02983696]))}\n",
      "min distance is:  [2.06696647]\n",
      "contact type is: ['EdgeToEdge']\n",
      "mask: [[ 3  4  5  6  7  8  0  1  2 15 16 17  9 10 11 12 13 14]]\n",
      "Delta: [2.06696647]\n",
      "upper limit for quadratic: 1.75\n",
      "upper limit for smooth: 2.25\n",
      "Branch 2 (smooth): [2.06696647]\n",
      "gradE is: [[-0.00000000e+00 -0.00000000e+00 -0.00000000e+00 -3.80655004e-08\n",
      "   2.07927843e-18  2.61768855e-03 -3.82937849e-08  2.09934189e-18\n",
      "   2.63338722e-03  3.80655004e-08 -2.08372136e-18 -2.61768855e-03\n",
      "  -0.00000000e+00 -0.00000000e+00 -0.00000000e+00  3.82937849e-08\n",
      "  -2.09521946e-18 -2.63338722e-03]]\n",
      "hessE is: [[[ 0.00000000e+00  0.00000000e+00  0.00000000e+00  0.00000000e+00\n",
      "    0.00000000e+00  0.00000000e+00  0.00000000e+00  0.00000000e+00\n",
      "    0.00000000e+00  0.00000000e+00  0.00000000e+00  0.00000000e+00\n",
      "    0.00000000e+00  0.00000000e+00  0.00000000e+00  0.00000000e+00\n",
      "    0.00000000e+00  0.00000000e+00]\n",
      "  [ 0.00000000e+00  0.00000000e+00  0.00000000e+00  0.00000000e+00\n",
      "    0.00000000e+00  0.00000000e+00  0.00000000e+00  0.00000000e+00\n",
      "    0.00000000e+00  0.00000000e+00  0.00000000e+00  0.00000000e+00\n",
      "    0.00000000e+00  0.00000000e+00  0.00000000e+00  0.00000000e+00\n",
      "    0.00000000e+00  0.00000000e+00]\n",
      "  [ 0.00000000e+00  0.00000000e+00  0.00000000e+00  0.00000000e+00\n",
      "    0.00000000e+00  0.00000000e+00  0.00000000e+00  0.00000000e+00\n",
      "    0.00000000e+00  0.00000000e+00  0.00000000e+00  0.00000000e+00\n",
      "    0.00000000e+00  0.00000000e+00  0.00000000e+00  0.00000000e+00\n",
      "    0.00000000e+00  0.00000000e+00]\n",
      "  [ 0.00000000e+00  0.00000000e+00  0.00000000e+00  5.44023306e-08\n",
      "   -1.90327165e-08 -2.43229314e-03  1.65488731e-08 -1.91468585e-08\n",
      "    1.78662990e-04 -5.44023283e-08  1.90327165e-08  2.43229298e-03\n",
      "    0.00000000e+00  0.00000000e+00  0.00000000e+00 -1.65488754e-08\n",
      "    1.91468585e-08 -1.78662832e-04]\n",
      "  [ 0.00000000e+00  0.00000000e+00  0.00000000e+00 -1.90327165e-08\n",
      "    2.08158640e-18  1.30884196e-03  1.90327165e-08  8.89566842e-21\n",
      "   -1.30884196e-03 -1.90327165e-08 -4.88489357e-29  1.30884196e-03\n",
      "    0.00000000e+00  0.00000000e+00  0.00000000e+00  1.90327165e-08\n",
      "   -2.08825815e-18 -1.30884196e-03]\n",
      "  [ 0.00000000e+00  0.00000000e+00  0.00000000e+00 -2.43229314e-03\n",
      "    1.30884196e-03  7.72571749e+01 -2.44687964e-03  1.31669127e-03\n",
      "    7.77204759e+01  2.43229298e-03 -1.30884196e-03 -7.72571641e+01\n",
      "    0.00000000e+00  0.00000000e+00  0.00000000e+00  2.44687980e-03\n",
      "   -1.31669127e-03 -7.77204867e+01]\n",
      "  [ 0.00000000e+00  0.00000000e+00  0.00000000e+00  1.65488731e-08\n",
      "    1.90327165e-08 -2.44687964e-03 -2.17605573e-08  1.91468585e-08\n",
      "    1.79734141e-04 -1.65488754e-08 -1.90327165e-08  2.44687980e-03\n",
      "    0.00000000e+00  0.00000000e+00  0.00000000e+00  2.17605596e-08\n",
      "   -1.91468585e-08 -1.79734299e-04]\n",
      "  [ 0.00000000e+00  0.00000000e+00  0.00000000e+00 -1.91468585e-08\n",
      "    6.67175132e-21  1.31669127e-03  1.91468585e-08 -2.09715382e-18\n",
      "   -1.31669127e-03 -1.91468585e-08  2.09048207e-18  1.31669127e-03\n",
      "    0.00000000e+00  0.00000000e+00  0.00000000e+00  1.91468585e-08\n",
      "   -2.22391714e-21 -1.31669127e-03]\n",
      "  [ 0.00000000e+00  0.00000000e+00  0.00000000e+00  1.78662990e-04\n",
      "   -1.30884196e-03  7.77204759e+01  1.79734141e-04 -1.31669127e-03\n",
      "    7.81865989e+01 -1.78662832e-04  1.30884196e-03 -7.77204867e+01\n",
      "    0.00000000e+00  0.00000000e+00  0.00000000e+00 -1.79734299e-04\n",
      "    1.31669127e-03 -7.81865880e+01]\n",
      "  [ 0.00000000e+00  0.00000000e+00  0.00000000e+00 -5.44023283e-08\n",
      "   -1.90327165e-08  2.43229298e-03 -1.65488754e-08 -1.91468585e-08\n",
      "   -1.78662832e-04  5.44023306e-08  1.90327165e-08 -2.43229314e-03\n",
      "    0.00000000e+00  0.00000000e+00  0.00000000e+00  1.65488731e-08\n",
      "    1.91468585e-08  1.78662990e-04]\n",
      "  [ 0.00000000e+00  0.00000000e+00  0.00000000e+00  1.90327165e-08\n",
      "    4.44783413e-21 -1.30884196e-03 -1.90327165e-08  2.08603423e-18\n",
      "    1.30884196e-03  1.90327165e-08 -2.08381031e-18 -1.30884196e-03\n",
      "    0.00000000e+00  0.00000000e+00  0.00000000e+00 -1.90327165e-08\n",
      "   -6.67175123e-21  1.30884196e-03]\n",
      "  [ 0.00000000e+00  0.00000000e+00  0.00000000e+00  2.43229298e-03\n",
      "    1.30884196e-03 -7.72571641e+01  2.44687980e-03  1.31669127e-03\n",
      "   -7.77204867e+01 -2.43229314e-03 -1.30884196e-03  7.72571749e+01\n",
      "    0.00000000e+00  0.00000000e+00  0.00000000e+00 -2.44687964e-03\n",
      "   -1.31669127e-03  7.77204759e+01]\n",
      "  [ 0.00000000e+00  0.00000000e+00  0.00000000e+00  0.00000000e+00\n",
      "    0.00000000e+00  0.00000000e+00  0.00000000e+00  0.00000000e+00\n",
      "    0.00000000e+00  0.00000000e+00  0.00000000e+00  0.00000000e+00\n",
      "    0.00000000e+00  0.00000000e+00  0.00000000e+00  0.00000000e+00\n",
      "    0.00000000e+00  0.00000000e+00]\n",
      "  [ 0.00000000e+00  0.00000000e+00  0.00000000e+00  0.00000000e+00\n",
      "    0.00000000e+00  0.00000000e+00  0.00000000e+00  0.00000000e+00\n",
      "    0.00000000e+00  0.00000000e+00  0.00000000e+00  0.00000000e+00\n",
      "    0.00000000e+00  0.00000000e+00  0.00000000e+00  0.00000000e+00\n",
      "    0.00000000e+00  0.00000000e+00]\n",
      "  [ 0.00000000e+00  0.00000000e+00  0.00000000e+00  0.00000000e+00\n",
      "    0.00000000e+00  0.00000000e+00  0.00000000e+00  0.00000000e+00\n",
      "    0.00000000e+00  0.00000000e+00  0.00000000e+00  0.00000000e+00\n",
      "    0.00000000e+00  0.00000000e+00  0.00000000e+00  0.00000000e+00\n",
      "    0.00000000e+00  0.00000000e+00]\n",
      "  [ 0.00000000e+00  0.00000000e+00  0.00000000e+00 -1.65488754e-08\n",
      "    1.90327165e-08  2.44687980e-03  2.17605596e-08  1.91468585e-08\n",
      "   -1.79734299e-04  1.65488731e-08 -1.90327165e-08 -2.44687964e-03\n",
      "    0.00000000e+00  0.00000000e+00  0.00000000e+00 -2.17605573e-08\n",
      "   -1.91468585e-08  1.79734141e-04]\n",
      "  [ 0.00000000e+00  0.00000000e+00  0.00000000e+00  1.91468585e-08\n",
      "   -2.09270598e-18 -1.31669127e-03 -1.91468585e-08 -4.95924435e-29\n",
      "    1.31669127e-03  1.91468585e-08 -6.67175123e-21 -1.31669127e-03\n",
      "    0.00000000e+00  0.00000000e+00  0.00000000e+00 -1.91468585e-08\n",
      "    2.09713787e-18  1.31669127e-03]\n",
      "  [ 0.00000000e+00  0.00000000e+00  0.00000000e+00 -1.78662832e-04\n",
      "   -1.30884196e-03 -7.77204867e+01 -1.79734299e-04 -1.31669127e-03\n",
      "   -7.81865880e+01  1.78662990e-04  1.30884196e-03  7.77204759e+01\n",
      "    0.00000000e+00  0.00000000e+00  0.00000000e+00  1.79734141e-04\n",
      "    1.31669127e-03  7.81865989e+01]]]\n",
      "{'edge1': (array([500.74702178,   0.74791016, 243.96697861]), array([  0.74792592, 500.74879744, 243.95969714])), 'edge2': (array([499.25207408, 500.74879744, 246.04030286]), array([ -0.74702178,   0.74791016, 246.03302139]))}\n",
      "min distance is:  [2.07334602]\n",
      "contact type is: ['EdgeToEdge']\n",
      "mask: [[ 3  4  5  6  7  8  0  1  2 15 16 17  9 10 11 12 13 14]]\n",
      "{'edge1': (array([500.74702178,   0.74791016, 243.96697861]), array([  0.74792592, 500.74879744, 243.95969714])), 'edge2': (array([499.25207408, 500.74879744, 246.04030286]), array([ -0.74702178,   0.74791016, 246.03302139]))}\n",
      "min distance is:  [2.07334602]\n",
      "contact type is: ['EdgeToEdge']\n",
      "mask: [[ 3  4  5  6  7  8  0  1  2 15 16 17  9 10 11 12 13 14]]\n",
      "{'edge1': (array([500.74702178,   0.74791016, 243.96697861]), array([  0.74792592, 500.74879744, 243.95969714])), 'edge2': (array([499.25207408, 500.74879744, 246.04030286]), array([ -0.74702178,   0.74791016, 246.03302139]))}\n",
      "min distance is:  [2.07334602]\n",
      "contact type is: ['EdgeToEdge']\n",
      "mask: [[ 3  4  5  6  7  8  0  1  2 15 16 17  9 10 11 12 13 14]]\n",
      "Delta: [2.07334602]\n",
      "upper limit for quadratic: 1.75\n",
      "upper limit for smooth: 2.25\n",
      "Branch 2 (smooth): [2.07334602]\n",
      "gradE is: [[-0.00000000e+00 -0.00000000e+00 -0.00000000e+00 -1.78801053e-08\n",
      "   9.77381166e-19  1.22777815e-03 -1.79873432e-08  9.82390585e-19\n",
      "   1.23514189e-03  1.78801053e-08 -9.78399114e-19 -1.22777815e-03\n",
      "  -0.00000000e+00 -0.00000000e+00 -0.00000000e+00  1.79873432e-08\n",
      "  -9.81653651e-19 -1.23514189e-03]]\n",
      "hessE is: [[[ 0.00000000e+00  0.00000000e+00  0.00000000e+00  0.00000000e+00\n",
      "    0.00000000e+00  0.00000000e+00  0.00000000e+00  0.00000000e+00\n",
      "    0.00000000e+00  0.00000000e+00  0.00000000e+00  0.00000000e+00\n",
      "    0.00000000e+00  0.00000000e+00  0.00000000e+00  0.00000000e+00\n",
      "    0.00000000e+00  0.00000000e+00]\n",
      "  [ 0.00000000e+00  0.00000000e+00  0.00000000e+00  0.00000000e+00\n",
      "    0.00000000e+00  0.00000000e+00  0.00000000e+00  0.00000000e+00\n",
      "    0.00000000e+00  0.00000000e+00  0.00000000e+00  0.00000000e+00\n",
      "    0.00000000e+00  0.00000000e+00  0.00000000e+00  0.00000000e+00\n",
      "    0.00000000e+00  0.00000000e+00]\n",
      "  [ 0.00000000e+00  0.00000000e+00  0.00000000e+00  0.00000000e+00\n",
      "    0.00000000e+00  0.00000000e+00  0.00000000e+00  0.00000000e+00\n",
      "    0.00000000e+00  0.00000000e+00  0.00000000e+00  0.00000000e+00\n",
      "    0.00000000e+00  0.00000000e+00  0.00000000e+00  0.00000000e+00\n",
      "    0.00000000e+00  0.00000000e+00]\n",
      "  [ 0.00000000e+00  0.00000000e+00  0.00000000e+00  2.55975707e-08\n",
      "   -8.94003676e-09 -1.14382531e-03  7.81733624e-09 -8.99365564e-09\n",
      "    8.07768636e-05 -2.55975697e-08  8.94003676e-09  1.14382524e-03\n",
      "    0.00000000e+00  0.00000000e+00  0.00000000e+00 -7.81733732e-09\n",
      "    8.99365564e-09 -8.07767893e-05]\n",
      "  [ 0.00000000e+00  0.00000000e+00  0.00000000e+00 -8.94003676e-09\n",
      "    9.81545065e-19  6.13887986e-04  8.94003676e-09  2.31782601e-29\n",
      "   -6.13887986e-04 -8.94003676e-09  2.08617440e-21  6.13887986e-04\n",
      "    0.00000000e+00  0.00000000e+00  0.00000000e+00  8.94003676e-09\n",
      "   -9.82588152e-19 -6.13887986e-04]\n",
      "  [ 0.00000000e+00  0.00000000e+00  0.00000000e+00 -1.14382531e-03\n",
      "    6.13887986e-04  3.63892023e+01 -1.15068538e-03  6.17569848e-04\n",
      "    3.66074405e+01  1.14382524e-03 -6.13887986e-04 -3.63891972e+01\n",
      "    0.00000000e+00  0.00000000e+00  0.00000000e+00  1.15068546e-03\n",
      "   -6.17569848e-04 -3.66074456e+01]\n",
      "  [ 0.00000000e+00  0.00000000e+00  0.00000000e+00  7.81733624e-09\n",
      "    8.94003676e-09 -1.15068538e-03 -1.01770926e-08  8.99365564e-09\n",
      "    8.12611825e-05 -7.81733732e-09 -8.94003676e-09  1.15068546e-03\n",
      "    0.00000000e+00  0.00000000e+00  0.00000000e+00  1.01770937e-08\n",
      "   -8.99365564e-09 -8.12612569e-05]\n",
      "  [ 0.00000000e+00  0.00000000e+00  0.00000000e+00 -8.99365564e-09\n",
      "   -1.04308719e-21  6.17569848e-04  8.99365564e-09 -9.78415803e-19\n",
      "   -6.17569848e-04 -8.99365564e-09  9.78415803e-19  6.17569848e-04\n",
      "    0.00000000e+00  0.00000000e+00  0.00000000e+00  8.99365564e-09\n",
      "    2.08617440e-21 -6.17569848e-04]\n",
      "  [ 0.00000000e+00  0.00000000e+00  0.00000000e+00  8.07768636e-05\n",
      "   -6.13887986e-04  3.66074405e+01  8.12611825e-05 -6.17569848e-04\n",
      "    3.68270080e+01 -8.07767893e-05  6.13887986e-04 -3.66074456e+01\n",
      "    0.00000000e+00  0.00000000e+00  0.00000000e+00 -8.12612569e-05\n",
      "    6.17569848e-04 -3.68270029e+01]\n",
      "  [ 0.00000000e+00  0.00000000e+00  0.00000000e+00 -2.55975697e-08\n",
      "   -8.94003676e-09  1.14382524e-03 -7.81733732e-09 -8.99365564e-09\n",
      "   -8.07767893e-05  2.55975707e-08  8.94003676e-09 -1.14382531e-03\n",
      "    0.00000000e+00  0.00000000e+00  0.00000000e+00  7.81733624e-09\n",
      "    8.99365564e-09  8.07768636e-05]\n",
      "  [ 0.00000000e+00  0.00000000e+00  0.00000000e+00  8.94003676e-09\n",
      "    3.12926161e-21 -6.13887986e-04 -8.94003676e-09  9.78415803e-19\n",
      "    6.13887986e-04  8.94003676e-09 -9.75286541e-19 -6.13887986e-04\n",
      "    0.00000000e+00  0.00000000e+00  0.00000000e+00 -8.94003676e-09\n",
      "   -5.21543603e-21  6.13887986e-04]\n",
      "  [ 0.00000000e+00  0.00000000e+00  0.00000000e+00  1.14382524e-03\n",
      "    6.13887986e-04 -3.63891972e+01  1.15068546e-03  6.17569848e-04\n",
      "   -3.66074456e+01 -1.14382531e-03 -6.13887986e-04  3.63892023e+01\n",
      "    0.00000000e+00  0.00000000e+00  0.00000000e+00 -1.15068538e-03\n",
      "   -6.17569848e-04  3.66074405e+01]\n",
      "  [ 0.00000000e+00  0.00000000e+00  0.00000000e+00  0.00000000e+00\n",
      "    0.00000000e+00  0.00000000e+00  0.00000000e+00  0.00000000e+00\n",
      "    0.00000000e+00  0.00000000e+00  0.00000000e+00  0.00000000e+00\n",
      "    0.00000000e+00  0.00000000e+00  0.00000000e+00  0.00000000e+00\n",
      "    0.00000000e+00  0.00000000e+00]\n",
      "  [ 0.00000000e+00  0.00000000e+00  0.00000000e+00  0.00000000e+00\n",
      "    0.00000000e+00  0.00000000e+00  0.00000000e+00  0.00000000e+00\n",
      "    0.00000000e+00  0.00000000e+00  0.00000000e+00  0.00000000e+00\n",
      "    0.00000000e+00  0.00000000e+00  0.00000000e+00  0.00000000e+00\n",
      "    0.00000000e+00  0.00000000e+00]\n",
      "  [ 0.00000000e+00  0.00000000e+00  0.00000000e+00  0.00000000e+00\n",
      "    0.00000000e+00  0.00000000e+00  0.00000000e+00  0.00000000e+00\n",
      "    0.00000000e+00  0.00000000e+00  0.00000000e+00  0.00000000e+00\n",
      "    0.00000000e+00  0.00000000e+00  0.00000000e+00  0.00000000e+00\n",
      "    0.00000000e+00  0.00000000e+00]\n",
      "  [ 0.00000000e+00  0.00000000e+00  0.00000000e+00 -7.81733732e-09\n",
      "    8.94003676e-09  1.15068546e-03  1.01770937e-08  8.99365564e-09\n",
      "   -8.12612569e-05  7.81733624e-09 -8.94003676e-09 -1.15068538e-03\n",
      "    0.00000000e+00  0.00000000e+00  0.00000000e+00 -1.01770926e-08\n",
      "   -8.99365564e-09  8.12611825e-05]\n",
      "  [ 0.00000000e+00  0.00000000e+00  0.00000000e+00  8.99365564e-09\n",
      "   -9.83631239e-19 -6.17569848e-04 -8.99365564e-09  2.08617440e-21\n",
      "    6.17569848e-04  8.99365564e-09 -5.21543603e-21 -6.17569848e-04\n",
      "    0.00000000e+00  0.00000000e+00  0.00000000e+00 -8.99365564e-09\n",
      "    9.83776475e-19  6.17569848e-04]\n",
      "  [ 0.00000000e+00  0.00000000e+00  0.00000000e+00 -8.07767893e-05\n",
      "   -6.13887986e-04 -3.66074456e+01 -8.12612569e-05 -6.17569848e-04\n",
      "   -3.68270029e+01  8.07768636e-05  6.13887986e-04  3.66074405e+01\n",
      "    0.00000000e+00  0.00000000e+00  0.00000000e+00  8.12611825e-05\n",
      "    6.17569848e-04  3.68270080e+01]]]\n",
      "{'edge1': (array([500.90147917,   0.90255046, 242.70658826]), array([  0.90256957, 500.90363126, 242.69773138])), 'edge2': (array([499.09743043, 500.90363126, 244.80226862]), array([ -0.90147917,   0.90255046, 244.79341174]))}\n",
      "min distance is:  [2.09571231]\n",
      "contact type is: ['EdgeToEdge']\n",
      "mask: [[ 3  4  5  6  7  8  0  1  2 15 16 17  9 10 11 12 13 14]]\n",
      "{'edge1': (array([500.90147917,   0.90255046, 242.70658826]), array([  0.90256957, 500.90363126, 242.69773138])), 'edge2': (array([499.09743043, 500.90363126, 244.80226862]), array([ -0.90147917,   0.90255046, 244.79341174]))}\n",
      "min distance is:  [2.09571231]\n",
      "contact type is: ['EdgeToEdge']\n",
      "mask: [[ 3  4  5  6  7  8  0  1  2 15 16 17  9 10 11 12 13 14]]\n",
      "{'edge1': (array([500.90147917,   0.90255046, 242.70658826]), array([  0.90256957, 500.90363126, 242.69773138])), 'edge2': (array([499.09743043, 500.90363126, 244.80226862]), array([ -0.90147917,   0.90255046, 244.79341174]))}\n",
      "min distance is:  [2.09571231]\n",
      "contact type is: ['EdgeToEdge']\n",
      "mask: [[ 3  4  5  6  7  8  0  1  2 15 16 17  9 10 11 12 13 14]]\n",
      "Delta: [2.09571231]\n",
      "upper limit for quadratic: 1.75\n",
      "upper limit for smooth: 2.25\n",
      "Branch 2 (smooth): [2.09571231]\n",
      "gradE is: [[-0.00000000e+00 -0.00000000e+00 -0.00000000e+00 -1.50451234e-09\n",
      "   7.49460595e-20  8.49345184e-05 -1.51540830e-09  7.52895093e-20\n",
      "   8.55496305e-05  1.50451234e-09 -7.48229424e-20 -8.49345184e-05\n",
      "  -0.00000000e+00 -0.00000000e+00 -0.00000000e+00  1.51540830e-09\n",
      "  -7.53896738e-20 -8.55496305e-05]]\n",
      "hessE is: [[[ 0.00000000e+00  0.00000000e+00  0.00000000e+00  0.00000000e+00\n",
      "    0.00000000e+00  0.00000000e+00  0.00000000e+00  0.00000000e+00\n",
      "    0.00000000e+00  0.00000000e+00  0.00000000e+00  0.00000000e+00\n",
      "    0.00000000e+00  0.00000000e+00  0.00000000e+00  0.00000000e+00\n",
      "    0.00000000e+00  0.00000000e+00]\n",
      "  [ 0.00000000e+00  0.00000000e+00  0.00000000e+00  0.00000000e+00\n",
      "    0.00000000e+00  0.00000000e+00  0.00000000e+00  0.00000000e+00\n",
      "    0.00000000e+00  0.00000000e+00  0.00000000e+00  0.00000000e+00\n",
      "    0.00000000e+00  0.00000000e+00  0.00000000e+00  0.00000000e+00\n",
      "    0.00000000e+00  0.00000000e+00]\n",
      "  [ 0.00000000e+00  0.00000000e+00  0.00000000e+00  0.00000000e+00\n",
      "    0.00000000e+00  0.00000000e+00  0.00000000e+00  0.00000000e+00\n",
      "    0.00000000e+00  0.00000000e+00  0.00000000e+00  0.00000000e+00\n",
      "    0.00000000e+00  0.00000000e+00  0.00000000e+00  0.00000000e+00\n",
      "    0.00000000e+00  0.00000000e+00]\n",
      "  [ 0.00000000e+00  0.00000000e+00  0.00000000e+00  2.29923986e-09\n",
      "   -7.52254542e-10 -8.73320691e-05  8.05927558e-10 -7.57702514e-10\n",
      "   -2.72227175e-06 -2.29923975e-09  7.52254542e-10  8.73320628e-05\n",
      "    0.00000000e+00  0.00000000e+00  0.00000000e+00 -8.05927670e-10\n",
      "    7.57702514e-10  2.72227808e-06]\n",
      "  [ 0.00000000e+00  0.00000000e+00  0.00000000e+00 -7.52254542e-10\n",
      "    7.48021480e-20  4.24671674e-05  7.52254542e-10  4.33217075e-22\n",
      "   -4.24671674e-05 -7.52254542e-10 -1.44405693e-22  4.24671674e-05\n",
      "    0.00000000e+00  0.00000000e+00  0.00000000e+00  7.52254542e-10\n",
      "   -7.49465537e-20 -4.24671674e-05]\n",
      "  [ 0.00000000e+00  0.00000000e+00  0.00000000e+00 -8.73320691e-05\n",
      "    4.24671674e-05  2.53275634e+00 -8.79645321e-05  4.27747228e-05\n",
      "    2.55109833e+00  8.73320628e-05 -4.24671674e-05 -2.53275598e+00\n",
      "    0.00000000e+00  0.00000000e+00  0.00000000e+00  8.79645384e-05\n",
      "   -4.27747228e-05 -2.55109869e+00]\n",
      "  [ 0.00000000e+00  0.00000000e+00  0.00000000e+00  8.05927558e-10\n",
      "    7.52254542e-10 -8.79645321e-05 -7.09134594e-10  7.57702514e-10\n",
      "   -2.74199970e-06 -8.05927670e-10 -7.52254542e-10  8.79645384e-05\n",
      "    0.00000000e+00  0.00000000e+00  0.00000000e+00  7.09134706e-10\n",
      "   -7.57702514e-10  2.74199337e-06]\n",
      "  [ 0.00000000e+00  0.00000000e+00  0.00000000e+00 -7.57702514e-10\n",
      "    3.61014230e-22  4.27747228e-05  7.57702514e-10 -7.53797708e-20\n",
      "   -4.27747228e-05 -7.57702514e-10  7.52353651e-20  4.27747228e-05\n",
      "    0.00000000e+00  0.00000000e+00  0.00000000e+00  7.57702514e-10\n",
      "   -1.44405693e-22 -4.27747228e-05]\n",
      "  [ 0.00000000e+00  0.00000000e+00  0.00000000e+00 -2.72227175e-06\n",
      "   -4.24671674e-05  2.55109833e+00 -2.74199970e-06 -4.27747228e-05\n",
      "    2.56957460e+00  2.72227808e-06  4.24671674e-05 -2.55109869e+00\n",
      "    0.00000000e+00  0.00000000e+00  0.00000000e+00  2.74199337e-06\n",
      "    4.27747228e-05 -2.56957424e+00]\n",
      "  [ 0.00000000e+00  0.00000000e+00  0.00000000e+00 -2.29923975e-09\n",
      "   -7.52254542e-10  8.73320628e-05 -8.05927670e-10 -7.57702514e-10\n",
      "    2.72227808e-06  2.29923986e-09  7.52254542e-10 -8.73320691e-05\n",
      "    0.00000000e+00  0.00000000e+00  0.00000000e+00  8.05927558e-10\n",
      "    7.57702514e-10 -2.72227175e-06]\n",
      "  [ 0.00000000e+00  0.00000000e+00  0.00000000e+00  7.52254542e-10\n",
      "   -1.44405693e-22 -4.24671674e-05 -7.52254542e-10  7.52353651e-20\n",
      "    4.24671674e-05  7.52254542e-10 -7.50187565e-20 -4.24671674e-05\n",
      "    0.00000000e+00  0.00000000e+00  0.00000000e+00 -7.52254542e-10\n",
      "   -7.22028436e-23  4.24671674e-05]\n",
      "  [ 0.00000000e+00  0.00000000e+00  0.00000000e+00  8.73320628e-05\n",
      "    4.24671674e-05 -2.53275598e+00  8.79645384e-05  4.27747228e-05\n",
      "   -2.55109869e+00 -8.73320691e-05 -4.24671674e-05  2.53275634e+00\n",
      "    0.00000000e+00  0.00000000e+00  0.00000000e+00 -8.79645321e-05\n",
      "   -4.27747228e-05  2.55109833e+00]\n",
      "  [ 0.00000000e+00  0.00000000e+00  0.00000000e+00  0.00000000e+00\n",
      "    0.00000000e+00  0.00000000e+00  0.00000000e+00  0.00000000e+00\n",
      "    0.00000000e+00  0.00000000e+00  0.00000000e+00  0.00000000e+00\n",
      "    0.00000000e+00  0.00000000e+00  0.00000000e+00  0.00000000e+00\n",
      "    0.00000000e+00  0.00000000e+00]\n",
      "  [ 0.00000000e+00  0.00000000e+00  0.00000000e+00  0.00000000e+00\n",
      "    0.00000000e+00  0.00000000e+00  0.00000000e+00  0.00000000e+00\n",
      "    0.00000000e+00  0.00000000e+00  0.00000000e+00  0.00000000e+00\n",
      "    0.00000000e+00  0.00000000e+00  0.00000000e+00  0.00000000e+00\n",
      "    0.00000000e+00  0.00000000e+00]\n",
      "  [ 0.00000000e+00  0.00000000e+00  0.00000000e+00  0.00000000e+00\n",
      "    0.00000000e+00  0.00000000e+00  0.00000000e+00  0.00000000e+00\n",
      "    0.00000000e+00  0.00000000e+00  0.00000000e+00  0.00000000e+00\n",
      "    0.00000000e+00  0.00000000e+00  0.00000000e+00  0.00000000e+00\n",
      "    0.00000000e+00  0.00000000e+00]\n",
      "  [ 0.00000000e+00  0.00000000e+00  0.00000000e+00 -8.05927670e-10\n",
      "    7.52254542e-10  8.79645384e-05  7.09134706e-10  7.57702514e-10\n",
      "    2.74199337e-06  8.05927558e-10 -7.52254542e-10 -8.79645321e-05\n",
      "    0.00000000e+00  0.00000000e+00  0.00000000e+00 -7.09134594e-10\n",
      "   -7.57702514e-10 -2.74199970e-06]\n",
      "  [ 0.00000000e+00  0.00000000e+00  0.00000000e+00  7.57702514e-10\n",
      "   -7.49465537e-20 -4.27747228e-05 -7.57702514e-10 -1.44405693e-22\n",
      "    4.27747228e-05  7.57702514e-10 -7.22028436e-23 -4.27747228e-05\n",
      "    0.00000000e+00  0.00000000e+00  0.00000000e+00 -7.57702514e-10\n",
      "    7.52382417e-20  4.27747228e-05]\n",
      "  [ 0.00000000e+00  0.00000000e+00  0.00000000e+00  2.72227808e-06\n",
      "   -4.24671674e-05 -2.55109869e+00  2.74199337e-06 -4.27747228e-05\n",
      "   -2.56957424e+00 -2.72227175e-06  4.24671674e-05  2.55109833e+00\n",
      "    0.00000000e+00  0.00000000e+00  0.00000000e+00 -2.74199970e-06\n",
      "    4.27747228e-05  2.56957460e+00]]]\n",
      "{'edge1': (array([500.90122721,   0.90230149, 242.70591403]), array([  0.9023206 , 500.90337829, 242.69705439])), 'edge2': (array([499.0976794 , 500.90337829, 244.80294561]), array([ -0.90122721,   0.90230149, 244.79408597]))}\n",
      "min distance is:  [2.09706354]\n",
      "contact type is: ['EdgeToEdge']\n",
      "mask: [[ 3  4  5  6  7  8  0  1  2 15 16 17  9 10 11 12 13 14]]\n",
      "{'edge1': (array([500.90122721,   0.90230149, 242.70591403]), array([  0.9023206 , 500.90337829, 242.69705439])), 'edge2': (array([499.0976794 , 500.90337829, 244.80294561]), array([ -0.90122721,   0.90230149, 244.79408597]))}\n",
      "min distance is:  [2.09706354]\n",
      "contact type is: ['EdgeToEdge']\n",
      "mask: [[ 3  4  5  6  7  8  0  1  2 15 16 17  9 10 11 12 13 14]]\n",
      "{'edge1': (array([500.90122721,   0.90230149, 242.70591403]), array([  0.9023206 , 500.90337829, 242.69705439])), 'edge2': (array([499.0976794 , 500.90337829, 244.80294561]), array([ -0.90122721,   0.90230149, 244.79408597]))}\n",
      "min distance is:  [2.09706354]\n",
      "contact type is: ['EdgeToEdge']\n",
      "mask: [[ 3  4  5  6  7  8  0  1  2 15 16 17  9 10 11 12 13 14]]\n",
      "Delta: [2.09706354]\n",
      "upper limit for quadratic: 1.75\n",
      "upper limit for smooth: 2.25\n",
      "Branch 2 (smooth): [2.09706354]\n",
      "gradE is: [[-0.00000000e+00 -0.00000000e+00 -0.00000000e+00 -1.28019072e-09\n",
      "   6.36255947e-20  7.22482261e-05 -1.28945953e-09  6.41410712e-20\n",
      "   7.27713158e-05  1.28019072e-09 -6.37097996e-20 -7.22482261e-05\n",
      "  -0.00000000e+00 -0.00000000e+00 -0.00000000e+00  1.28945953e-09\n",
      "  -6.40658401e-20 -7.27713158e-05]]\n",
      "hessE is: [[[ 0.00000000e+00  0.00000000e+00  0.00000000e+00  0.00000000e+00\n",
      "    0.00000000e+00  0.00000000e+00  0.00000000e+00  0.00000000e+00\n",
      "    0.00000000e+00  0.00000000e+00  0.00000000e+00  0.00000000e+00\n",
      "    0.00000000e+00  0.00000000e+00  0.00000000e+00  0.00000000e+00\n",
      "    0.00000000e+00  0.00000000e+00]\n",
      "  [ 0.00000000e+00  0.00000000e+00  0.00000000e+00  0.00000000e+00\n",
      "    0.00000000e+00  0.00000000e+00  0.00000000e+00  0.00000000e+00\n",
      "    0.00000000e+00  0.00000000e+00  0.00000000e+00  0.00000000e+00\n",
      "    0.00000000e+00  0.00000000e+00  0.00000000e+00  0.00000000e+00\n",
      "    0.00000000e+00  0.00000000e+00]\n",
      "  [ 0.00000000e+00  0.00000000e+00  0.00000000e+00  0.00000000e+00\n",
      "    0.00000000e+00  0.00000000e+00  0.00000000e+00  0.00000000e+00\n",
      "    0.00000000e+00  0.00000000e+00  0.00000000e+00  0.00000000e+00\n",
      "    0.00000000e+00  0.00000000e+00  0.00000000e+00  0.00000000e+00\n",
      "    0.00000000e+00  0.00000000e+00]\n",
      "  [ 0.00000000e+00  0.00000000e+00  0.00000000e+00  1.95676365e-09\n",
      "   -6.40093984e-10 -7.43067774e-05  6.86102835e-10 -6.44728375e-10\n",
      "   -2.33483111e-06 -1.95676356e-09  6.40093984e-10  7.43067720e-05\n",
      "    0.00000000e+00  0.00000000e+00  0.00000000e+00 -6.86102930e-10\n",
      "    6.44728375e-10  2.33483650e-06]\n",
      "  [ 0.00000000e+00  0.00000000e+00  0.00000000e+00 -6.40093984e-10\n",
      "    6.36906371e-20  3.61240353e-05  6.40093984e-10  1.84254497e-22\n",
      "   -3.61240353e-05 -6.40093984e-10 -1.67340668e-30  3.61240353e-05\n",
      "    0.00000000e+00  0.00000000e+00  0.00000000e+00  6.40093984e-10\n",
      "   -6.38748916e-20 -3.61240353e-05]\n",
      "  [ 0.00000000e+00  0.00000000e+00  0.00000000e+00 -7.43067774e-05\n",
      "    3.61240353e-05  2.15485397e+00 -7.48447606e-05  3.63855796e-05\n",
      "    2.17045488e+00  7.43067720e-05 -3.61240353e-05 -2.15485366e+00\n",
      "    0.00000000e+00  0.00000000e+00  0.00000000e+00  7.48447660e-05\n",
      "   -3.63855796e-05 -2.17045518e+00]\n",
      "  [ 0.00000000e+00  0.00000000e+00  0.00000000e+00  6.86102835e-10\n",
      "    6.40093984e-10 -7.48447606e-05 -6.03059782e-10  6.44728375e-10\n",
      "   -2.35174654e-06 -6.86102930e-10 -6.40093984e-10  7.48447660e-05\n",
      "    0.00000000e+00  0.00000000e+00  0.00000000e+00  6.03059878e-10\n",
      "   -6.44728375e-10  2.35174115e-06]\n",
      "  [ 0.00000000e+00  0.00000000e+00  0.00000000e+00 -6.44728375e-10\n",
      "    2.45672662e-22  3.63855796e-05  6.44728375e-10 -6.40591461e-20\n",
      "   -3.63855795e-05 -6.44728375e-10  6.38748916e-20  3.63855795e-05\n",
      "    0.00000000e+00  0.00000000e+00  0.00000000e+00  6.44728375e-10\n",
      "   -1.69639171e-30 -3.63855796e-05]\n",
      "  [ 0.00000000e+00  0.00000000e+00  0.00000000e+00 -2.33483111e-06\n",
      "   -3.61240353e-05  2.17045488e+00 -2.35174654e-06 -3.63855795e-05\n",
      "    2.18616996e+00  2.33483650e-06  3.61240353e-05 -2.17045518e+00\n",
      "    0.00000000e+00  0.00000000e+00  0.00000000e+00  2.35174115e-06\n",
      "    3.63855795e-05 -2.18616966e+00]\n",
      "  [ 0.00000000e+00  0.00000000e+00  0.00000000e+00 -1.95676356e-09\n",
      "   -6.40093984e-10  7.43067720e-05 -6.86102930e-10 -6.44728375e-10\n",
      "    2.33483650e-06  1.95676365e-09  6.40093984e-10 -7.43067774e-05\n",
      "    0.00000000e+00  0.00000000e+00  0.00000000e+00  6.86102835e-10\n",
      "    6.44728375e-10 -2.33483111e-06]\n",
      "  [ 0.00000000e+00  0.00000000e+00  0.00000000e+00  6.40093984e-10\n",
      "   -1.67340668e-30 -3.61240353e-05 -6.40093984e-10  6.38134734e-20\n",
      "    3.61240353e-05  6.40093984e-10 -6.36906371e-20 -3.61240353e-05\n",
      "    0.00000000e+00  0.00000000e+00  0.00000000e+00 -6.40093984e-10\n",
      "   -1.84254493e-22  3.61240353e-05]\n",
      "  [ 0.00000000e+00  0.00000000e+00  0.00000000e+00  7.43067720e-05\n",
      "    3.61240353e-05 -2.15485366e+00  7.48447660e-05  3.63855795e-05\n",
      "   -2.17045518e+00 -7.43067774e-05 -3.61240353e-05  2.15485397e+00\n",
      "    0.00000000e+00  0.00000000e+00  0.00000000e+00 -7.48447606e-05\n",
      "   -3.63855795e-05  2.17045488e+00]\n",
      "  [ 0.00000000e+00  0.00000000e+00  0.00000000e+00  0.00000000e+00\n",
      "    0.00000000e+00  0.00000000e+00  0.00000000e+00  0.00000000e+00\n",
      "    0.00000000e+00  0.00000000e+00  0.00000000e+00  0.00000000e+00\n",
      "    0.00000000e+00  0.00000000e+00  0.00000000e+00  0.00000000e+00\n",
      "    0.00000000e+00  0.00000000e+00]\n",
      "  [ 0.00000000e+00  0.00000000e+00  0.00000000e+00  0.00000000e+00\n",
      "    0.00000000e+00  0.00000000e+00  0.00000000e+00  0.00000000e+00\n",
      "    0.00000000e+00  0.00000000e+00  0.00000000e+00  0.00000000e+00\n",
      "    0.00000000e+00  0.00000000e+00  0.00000000e+00  0.00000000e+00\n",
      "    0.00000000e+00  0.00000000e+00]\n",
      "  [ 0.00000000e+00  0.00000000e+00  0.00000000e+00  0.00000000e+00\n",
      "    0.00000000e+00  0.00000000e+00  0.00000000e+00  0.00000000e+00\n",
      "    0.00000000e+00  0.00000000e+00  0.00000000e+00  0.00000000e+00\n",
      "    0.00000000e+00  0.00000000e+00  0.00000000e+00  0.00000000e+00\n",
      "    0.00000000e+00  0.00000000e+00]\n",
      "  [ 0.00000000e+00  0.00000000e+00  0.00000000e+00 -6.86102930e-10\n",
      "    6.40093984e-10  7.48447660e-05  6.03059878e-10  6.44728375e-10\n",
      "    2.35174115e-06  6.86102835e-10 -6.40093984e-10 -7.48447606e-05\n",
      "    0.00000000e+00  0.00000000e+00  0.00000000e+00 -6.03059782e-10\n",
      "   -6.44728375e-10 -2.35174654e-06]\n",
      "  [ 0.00000000e+00  0.00000000e+00  0.00000000e+00  6.44728375e-10\n",
      "   -6.38748916e-20 -3.63855796e-05 -6.44728375e-10  6.14181633e-23\n",
      "    3.63855795e-05  6.44728375e-10 -1.84254493e-22 -3.63855795e-05\n",
      "    0.00000000e+00  0.00000000e+00  0.00000000e+00 -6.44728375e-10\n",
      "    6.40670848e-20  3.63855796e-05]\n",
      "  [ 0.00000000e+00  0.00000000e+00  0.00000000e+00  2.33483650e-06\n",
      "   -3.61240353e-05 -2.17045518e+00  2.35174115e-06 -3.63855796e-05\n",
      "   -2.18616966e+00 -2.33483111e-06  3.61240353e-05  2.17045488e+00\n",
      "    0.00000000e+00  0.00000000e+00  0.00000000e+00 -2.35174654e-06\n",
      "    3.63855796e-05  2.18616996e+00]]]\n",
      "{'edge1': (array([501.0551273 ,   1.05638293, 241.44458322]), array([  1.05640538, 501.05765225, 241.43414483])), 'edge2': (array([498.94359462, 501.05765225, 243.56585517]), array([ -1.0551273 ,   1.05638293, 243.55541678]))}\n",
      "min distance is:  [2.12131603]\n",
      "contact type is: ['EdgeToEdge']\n",
      "mask: [[ 3  4  5  6  7  8  0  1  2 15 16 17  9 10 11 12 13 14]]\n",
      "{'edge1': (array([501.0551273 ,   1.05638293, 241.44458322]), array([  1.05640538, 501.05765225, 241.43414483])), 'edge2': (array([498.94359462, 501.05765225, 243.56585517]), array([ -1.0551273 ,   1.05638293, 243.55541678]))}\n",
      "min distance is:  [2.12131603]\n",
      "contact type is: ['EdgeToEdge']\n",
      "mask: [[ 3  4  5  6  7  8  0  1  2 15 16 17  9 10 11 12 13 14]]\n",
      "{'edge1': (array([501.0551273 ,   1.05638293, 241.44458322]), array([  1.05640538, 501.05765225, 241.43414483])), 'edge2': (array([498.94359462, 501.05765225, 243.56585517]), array([ -1.0551273 ,   1.05638293, 243.55541678]))}\n",
      "min distance is:  [2.12131603]\n",
      "contact type is: ['EdgeToEdge']\n",
      "mask: [[ 3  4  5  6  7  8  0  1  2 15 16 17  9 10 11 12 13 14]]\n",
      "Delta: [2.12131603]\n",
      "upper limit for quadratic: 1.75\n",
      "upper limit for smooth: 2.25\n",
      "Branch 2 (smooth): [2.12131603]\n",
      "gradE is: [[-0.00000000e+00 -0.00000000e+00 -0.00000000e+00 -8.23702307e-11\n",
      "   3.24979331e-21  3.94553335e-06 -8.30688780e-11  3.28263240e-21\n",
      "   3.97899855e-06  8.23702307e-11 -3.25457183e-21 -3.94553335e-06\n",
      "  -0.00000000e+00 -0.00000000e+00 -0.00000000e+00  8.30688780e-11\n",
      "  -3.27728705e-21 -3.97899855e-06]]\n",
      "hessE is: [[[ 0.00000000e+00  0.00000000e+00  0.00000000e+00  0.00000000e+00\n",
      "    0.00000000e+00  0.00000000e+00  0.00000000e+00  0.00000000e+00\n",
      "    0.00000000e+00  0.00000000e+00  0.00000000e+00  0.00000000e+00\n",
      "    0.00000000e+00  0.00000000e+00  0.00000000e+00  0.00000000e+00\n",
      "    0.00000000e+00  0.00000000e+00]\n",
      "  [ 0.00000000e+00  0.00000000e+00  0.00000000e+00  0.00000000e+00\n",
      "    0.00000000e+00  0.00000000e+00  0.00000000e+00  0.00000000e+00\n",
      "    0.00000000e+00  0.00000000e+00  0.00000000e+00  0.00000000e+00\n",
      "    0.00000000e+00  0.00000000e+00  0.00000000e+00  0.00000000e+00\n",
      "    0.00000000e+00  0.00000000e+00]\n",
      "  [ 0.00000000e+00  0.00000000e+00  0.00000000e+00  0.00000000e+00\n",
      "    0.00000000e+00  0.00000000e+00  0.00000000e+00  0.00000000e+00\n",
      "    0.00000000e+00  0.00000000e+00  0.00000000e+00  0.00000000e+00\n",
      "    0.00000000e+00  0.00000000e+00  0.00000000e+00  0.00000000e+00\n",
      "    0.00000000e+00  0.00000000e+00]\n",
      "  [ 0.00000000e+00  0.00000000e+00  0.00000000e+00  1.33714906e-10\n",
      "   -4.11850108e-11 -4.43217115e-06  5.21292680e-11 -4.15343336e-11\n",
      "   -5.07487130e-07 -1.33714899e-10  4.11850108e-11  4.43217079e-06\n",
      "    0.00000000e+00  0.00000000e+00  0.00000000e+00 -5.21292753e-11\n",
      "    4.15343336e-11  5.07487481e-07]\n",
      "  [ 0.00000000e+00  0.00000000e+00  0.00000000e+00 -4.11850108e-11\n",
      "    3.24877237e-21  1.97276166e-06  4.11850108e-11  1.67808491e-23\n",
      "   -1.97276166e-06 -4.11850108e-11 -3.35616988e-24  1.97276166e-06\n",
      "    0.00000000e+00  0.00000000e+00  0.00000000e+00  4.11850108e-11\n",
      "   -3.26555322e-21 -1.97276166e-06]\n",
      "  [ 0.00000000e+00  0.00000000e+00  0.00000000e+00 -4.43217115e-06\n",
      "    1.97276166e-06  1.17805212e-01 -4.46976320e-06  1.98949422e-06\n",
      "    1.18804377e-01  4.43217079e-06 -1.97276166e-06 -1.17805195e-01\n",
      "    0.00000000e+00  0.00000000e+00  0.00000000e+00  4.46976355e-06\n",
      "   -1.98949422e-06 -1.18804394e-01]\n",
      "  [ 0.00000000e+00  0.00000000e+00  0.00000000e+00  5.21292680e-11\n",
      "    4.11850108e-11 -4.46976320e-06 -3.08499454e-11  4.15343336e-11\n",
      "   -5.11792238e-07 -5.21292753e-11 -4.11850108e-11  4.46976355e-06\n",
      "    0.00000000e+00  0.00000000e+00  0.00000000e+00  3.08499527e-11\n",
      "   -4.15343336e-11  5.11791887e-07]\n",
      "  [ 0.00000000e+00  0.00000000e+00  0.00000000e+00 -4.15343336e-11\n",
      "    1.67808491e-23  1.98949422e-06  4.15343336e-11 -3.28233407e-21\n",
      "   -1.98949422e-06 -4.15343336e-11  3.26890939e-21  1.98949422e-06\n",
      "    0.00000000e+00  0.00000000e+00  0.00000000e+00  4.15343336e-11\n",
      "   -8.14122467e-32 -1.98949422e-06]\n",
      "  [ 0.00000000e+00  0.00000000e+00  0.00000000e+00 -5.07487130e-07\n",
      "   -1.97276166e-06  1.18804377e-01 -5.11792238e-07 -1.98949422e-06\n",
      "    1.19812086e-01  5.07487481e-07  1.97276166e-06 -1.18804394e-01\n",
      "    0.00000000e+00  0.00000000e+00  0.00000000e+00  5.11791887e-07\n",
      "    1.98949422e-06 -1.19812069e-01]\n",
      "  [ 0.00000000e+00  0.00000000e+00  0.00000000e+00 -1.33714899e-10\n",
      "   -4.11850108e-11  4.43217079e-06 -5.21292753e-11 -4.15343336e-11\n",
      "    5.07487481e-07  1.33714906e-10  4.11850108e-11 -4.43217115e-06\n",
      "    0.00000000e+00  0.00000000e+00  0.00000000e+00  5.21292680e-11\n",
      "    4.15343336e-11 -5.07487130e-07]\n",
      "  [ 0.00000000e+00  0.00000000e+00  0.00000000e+00  4.11850108e-11\n",
      "   -8.00391757e-32 -1.97276166e-06 -4.11850108e-11  3.26890939e-21\n",
      "    1.97276166e-06  4.11850108e-11 -3.25548471e-21 -1.97276166e-06\n",
      "    0.00000000e+00  0.00000000e+00  0.00000000e+00 -4.11850108e-11\n",
      "   -1.00685093e-23  1.97276166e-06]\n",
      "  [ 0.00000000e+00  0.00000000e+00  0.00000000e+00  4.43217079e-06\n",
      "    1.97276166e-06 -1.17805195e-01  4.46976355e-06  1.98949422e-06\n",
      "   -1.18804394e-01 -4.43217115e-06 -1.97276166e-06  1.17805212e-01\n",
      "    0.00000000e+00  0.00000000e+00  0.00000000e+00 -4.46976320e-06\n",
      "   -1.98949422e-06  1.18804377e-01]\n",
      "  [ 0.00000000e+00  0.00000000e+00  0.00000000e+00  0.00000000e+00\n",
      "    0.00000000e+00  0.00000000e+00  0.00000000e+00  0.00000000e+00\n",
      "    0.00000000e+00  0.00000000e+00  0.00000000e+00  0.00000000e+00\n",
      "    0.00000000e+00  0.00000000e+00  0.00000000e+00  0.00000000e+00\n",
      "    0.00000000e+00  0.00000000e+00]\n",
      "  [ 0.00000000e+00  0.00000000e+00  0.00000000e+00  0.00000000e+00\n",
      "    0.00000000e+00  0.00000000e+00  0.00000000e+00  0.00000000e+00\n",
      "    0.00000000e+00  0.00000000e+00  0.00000000e+00  0.00000000e+00\n",
      "    0.00000000e+00  0.00000000e+00  0.00000000e+00  0.00000000e+00\n",
      "    0.00000000e+00  0.00000000e+00]\n",
      "  [ 0.00000000e+00  0.00000000e+00  0.00000000e+00  0.00000000e+00\n",
      "    0.00000000e+00  0.00000000e+00  0.00000000e+00  0.00000000e+00\n",
      "    0.00000000e+00  0.00000000e+00  0.00000000e+00  0.00000000e+00\n",
      "    0.00000000e+00  0.00000000e+00  0.00000000e+00  0.00000000e+00\n",
      "    0.00000000e+00  0.00000000e+00]\n",
      "  [ 0.00000000e+00  0.00000000e+00  0.00000000e+00 -5.21292753e-11\n",
      "    4.11850108e-11  4.46976355e-06  3.08499527e-11  4.15343336e-11\n",
      "    5.11791887e-07  5.21292680e-11 -4.11850108e-11 -4.46976320e-06\n",
      "    0.00000000e+00  0.00000000e+00  0.00000000e+00 -3.08499454e-11\n",
      "   -4.15343336e-11 -5.11792238e-07]\n",
      "  [ 0.00000000e+00  0.00000000e+00  0.00000000e+00  4.15343336e-11\n",
      "   -3.26890939e-21 -1.98949422e-06 -4.15343336e-11 -8.14122467e-32\n",
      "    1.98949422e-06  4.15343336e-11 -1.00685093e-23 -1.98949422e-06\n",
      "    0.00000000e+00  0.00000000e+00  0.00000000e+00 -4.15343336e-11\n",
      "    3.27456729e-21  1.98949422e-06]\n",
      "  [ 0.00000000e+00  0.00000000e+00  0.00000000e+00  5.07487481e-07\n",
      "   -1.97276166e-06 -1.18804394e-01  5.11791887e-07 -1.98949422e-06\n",
      "   -1.19812069e-01 -5.07487130e-07  1.97276166e-06  1.18804377e-01\n",
      "    0.00000000e+00  0.00000000e+00  0.00000000e+00 -5.11792238e-07\n",
      "    1.98949422e-06  1.19812086e-01]]]\n",
      "{'edge1': (array([501.0548308,   1.0560898, 241.4442692]), array([  1.05611225, 501.05735429, 241.43382991])), 'edge2': (array([498.94388775, 501.05735429, 243.56617009]), array([ -1.0548308,   1.0560898, 243.5557308]))}\n",
      "min distance is:  [2.12194496]\n",
      "contact type is: ['EdgeToEdge']\n",
      "mask: [[ 3  4  5  6  7  8  0  1  2 15 16 17  9 10 11 12 13 14]]\n",
      "{'edge1': (array([501.0548308,   1.0560898, 241.4442692]), array([  1.05611225, 501.05735429, 241.43382991])), 'edge2': (array([498.94388775, 501.05735429, 243.56617009]), array([ -1.0548308,   1.0560898, 243.5557308]))}\n",
      "min distance is:  [2.12194496]\n",
      "contact type is: ['EdgeToEdge']\n",
      "mask: [[ 3  4  5  6  7  8  0  1  2 15 16 17  9 10 11 12 13 14]]\n",
      "{'edge1': (array([501.0548308,   1.0560898, 241.4442692]), array([  1.05611225, 501.05735429, 241.43382991])), 'edge2': (array([498.94388775, 501.05735429, 243.56617009]), array([ -1.0548308,   1.0560898, 243.5557308]))}\n",
      "min distance is:  [2.12194496]\n",
      "contact type is: ['EdgeToEdge']\n",
      "mask: [[ 3  4  5  6  7  8  0  1  2 15 16 17  9 10 11 12 13 14]]\n",
      "Delta: [2.12194496]\n",
      "upper limit for quadratic: 1.75\n",
      "upper limit for smooth: 2.25\n",
      "Branch 2 (smooth): [2.12194496]\n",
      "gradE is: [[-0.00000000e+00 -0.00000000e+00 -0.00000000e+00 -7.63919678e-11\n",
      "   3.22425262e-21  3.65886006e-06 -7.70397271e-11  3.25153448e-21\n",
      "   3.68988506e-06  7.63919678e-11 -3.22525429e-21 -3.65886006e-06\n",
      "  -0.00000000e+00 -0.00000000e+00 -0.00000000e+00  7.70397271e-11\n",
      "  -3.24974870e-21 -3.68988506e-06]]\n",
      "hessE is: [[[ 0.00000000e+00  0.00000000e+00  0.00000000e+00  0.00000000e+00\n",
      "    0.00000000e+00  0.00000000e+00  0.00000000e+00  0.00000000e+00\n",
      "    0.00000000e+00  0.00000000e+00  0.00000000e+00  0.00000000e+00\n",
      "    0.00000000e+00  0.00000000e+00  0.00000000e+00  0.00000000e+00\n",
      "    0.00000000e+00  0.00000000e+00]\n",
      "  [ 0.00000000e+00  0.00000000e+00  0.00000000e+00  0.00000000e+00\n",
      "    0.00000000e+00  0.00000000e+00  0.00000000e+00  0.00000000e+00\n",
      "    0.00000000e+00  0.00000000e+00  0.00000000e+00  0.00000000e+00\n",
      "    0.00000000e+00  0.00000000e+00  0.00000000e+00  0.00000000e+00\n",
      "    0.00000000e+00  0.00000000e+00]\n",
      "  [ 0.00000000e+00  0.00000000e+00  0.00000000e+00  0.00000000e+00\n",
      "    0.00000000e+00  0.00000000e+00  0.00000000e+00  0.00000000e+00\n",
      "    0.00000000e+00  0.00000000e+00  0.00000000e+00  0.00000000e+00\n",
      "    0.00000000e+00  0.00000000e+00  0.00000000e+00  0.00000000e+00\n",
      "    0.00000000e+00  0.00000000e+00]\n",
      "  [ 0.00000000e+00  0.00000000e+00  0.00000000e+00  1.24015214e-10\n",
      "   -3.81958873e-11 -4.11038234e-06  4.83507329e-11 -3.85197661e-11\n",
      "   -4.70853352e-07 -1.24015207e-10  3.81958873e-11  4.11038202e-06\n",
      "    0.00000000e+00  0.00000000e+00  0.00000000e+00 -4.83507397e-11\n",
      "    3.85197661e-11  4.70853678e-07]\n",
      "  [ 0.00000000e+00  0.00000000e+00  0.00000000e+00 -3.81958873e-11\n",
      "    3.22435795e-21  1.82942541e-06  3.81958873e-11  1.55615732e-23\n",
      "   -1.82942541e-06 -3.81958873e-11 -6.22462933e-24  1.82942541e-06\n",
      "    0.00000000e+00  0.00000000e+00  0.00000000e+00  3.81958873e-11\n",
      "   -3.23058258e-21 -1.82942541e-06]\n",
      "  [ 0.00000000e+00  0.00000000e+00  0.00000000e+00 -4.11038234e-06\n",
      "    1.82942541e-06  1.09247980e-01 -4.14523533e-06  1.84493786e-06\n",
      "    1.10174308e-01  4.11038202e-06 -1.82942541e-06 -1.09247964e-01\n",
      "    0.00000000e+00  0.00000000e+00  0.00000000e+00  4.14523566e-06\n",
      "   -1.84493786e-06 -1.10174323e-01]\n",
      "  [ 0.00000000e+00  0.00000000e+00  0.00000000e+00  4.83507329e-11\n",
      "    3.81958873e-11 -4.14523533e-06 -2.86058187e-11  3.85197661e-11\n",
      "   -4.74846569e-07 -4.83507397e-11 -3.81958873e-11  4.14523566e-06\n",
      "    0.00000000e+00  0.00000000e+00  0.00000000e+00  2.86058255e-11\n",
      "   -3.85197661e-11  4.74846243e-07]\n",
      "  [ 0.00000000e+00  0.00000000e+00  0.00000000e+00 -3.85197661e-11\n",
      "    1.55615732e-23  1.84493786e-06  3.85197661e-11 -3.24925646e-21\n",
      "   -1.84493786e-06 -3.85197661e-11  3.24303183e-21  1.84493786e-06\n",
      "    0.00000000e+00  0.00000000e+00  0.00000000e+00  3.85197661e-11\n",
      "   -6.22462933e-24 -1.84493786e-06]\n",
      "  [ 0.00000000e+00  0.00000000e+00  0.00000000e+00 -4.70853352e-07\n",
      "   -1.82942541e-06  1.10174308e-01 -4.74846569e-07 -1.84493786e-06\n",
      "    1.11108553e-01  4.70853678e-07  1.82942541e-06 -1.10174323e-01\n",
      "    0.00000000e+00  0.00000000e+00  0.00000000e+00  4.74846243e-07\n",
      "    1.84493786e-06 -1.11108537e-01]\n",
      "  [ 0.00000000e+00  0.00000000e+00  0.00000000e+00 -1.24015207e-10\n",
      "   -3.81958873e-11  4.11038202e-06 -4.83507397e-11 -3.85197661e-11\n",
      "    4.70853678e-07  1.24015214e-10  3.81958873e-11 -4.11038234e-06\n",
      "    0.00000000e+00  0.00000000e+00  0.00000000e+00  4.83507329e-11\n",
      "    3.85197661e-11 -4.70853352e-07]\n",
      "  [ 0.00000000e+00  0.00000000e+00  0.00000000e+00  3.81958873e-11\n",
      "   -9.33694395e-24 -1.82942541e-06 -3.81958873e-11  3.24614415e-21\n",
      "    1.82942541e-06  3.81958873e-11 -3.23369489e-21 -1.82942541e-06\n",
      "    0.00000000e+00  0.00000000e+00  0.00000000e+00 -3.81958873e-11\n",
      "   -3.11231453e-24  1.82942541e-06]\n",
      "  [ 0.00000000e+00  0.00000000e+00  0.00000000e+00  4.11038202e-06\n",
      "    1.82942541e-06 -1.09247964e-01  4.14523566e-06  1.84493786e-06\n",
      "   -1.10174323e-01 -4.11038234e-06 -1.82942541e-06  1.09247980e-01\n",
      "    0.00000000e+00  0.00000000e+00  0.00000000e+00 -4.14523533e-06\n",
      "   -1.84493786e-06  1.10174308e-01]\n",
      "  [ 0.00000000e+00  0.00000000e+00  0.00000000e+00  0.00000000e+00\n",
      "    0.00000000e+00  0.00000000e+00  0.00000000e+00  0.00000000e+00\n",
      "    0.00000000e+00  0.00000000e+00  0.00000000e+00  0.00000000e+00\n",
      "    0.00000000e+00  0.00000000e+00  0.00000000e+00  0.00000000e+00\n",
      "    0.00000000e+00  0.00000000e+00]\n",
      "  [ 0.00000000e+00  0.00000000e+00  0.00000000e+00  0.00000000e+00\n",
      "    0.00000000e+00  0.00000000e+00  0.00000000e+00  0.00000000e+00\n",
      "    0.00000000e+00  0.00000000e+00  0.00000000e+00  0.00000000e+00\n",
      "    0.00000000e+00  0.00000000e+00  0.00000000e+00  0.00000000e+00\n",
      "    0.00000000e+00  0.00000000e+00]\n",
      "  [ 0.00000000e+00  0.00000000e+00  0.00000000e+00  0.00000000e+00\n",
      "    0.00000000e+00  0.00000000e+00  0.00000000e+00  0.00000000e+00\n",
      "    0.00000000e+00  0.00000000e+00  0.00000000e+00  0.00000000e+00\n",
      "    0.00000000e+00  0.00000000e+00  0.00000000e+00  0.00000000e+00\n",
      "    0.00000000e+00  0.00000000e+00]\n",
      "  [ 0.00000000e+00  0.00000000e+00  0.00000000e+00 -4.83507397e-11\n",
      "    3.81958873e-11  4.14523566e-06  2.86058255e-11  3.85197661e-11\n",
      "    4.74846243e-07  4.83507329e-11 -3.81958873e-11 -4.14523533e-06\n",
      "    0.00000000e+00  0.00000000e+00  0.00000000e+00 -2.86058187e-11\n",
      "   -3.85197661e-11 -4.74846569e-07]\n",
      "  [ 0.00000000e+00  0.00000000e+00  0.00000000e+00  3.85197661e-11\n",
      "   -3.22747026e-21 -1.84493786e-06 -3.85197661e-11 -9.33694395e-24\n",
      "    1.84493786e-06  3.85197661e-11 -3.11231453e-24 -1.84493786e-06\n",
      "    0.00000000e+00  0.00000000e+00  0.00000000e+00 -3.85197661e-11\n",
      "    3.24268554e-21  1.84493786e-06]\n",
      "  [ 0.00000000e+00  0.00000000e+00  0.00000000e+00  4.70853678e-07\n",
      "   -1.82942541e-06 -1.10174323e-01  4.74846243e-07 -1.84493786e-06\n",
      "   -1.11108537e-01 -4.70853352e-07  1.82942541e-06  1.10174308e-01\n",
      "    0.00000000e+00  0.00000000e+00  0.00000000e+00 -4.74846569e-07\n",
      "    1.84493786e-06  1.11108553e-01]]]\n",
      "{'edge1': (array([501.20813149,   1.20957014, 240.18233541]), array([  1.20959593, 501.21102586, 240.17031577])), 'edge2': (array([498.79040407, 501.21102586, 242.32968423]), array([ -1.20813149,   1.20957014, 242.31766459]))}\n",
      "min distance is:  [2.14740694]\n",
      "contact type is: ['EdgeToEdge']\n",
      "mask: [[ 3  4  5  6  7  8  0  1  2 15 16 17  9 10 11 12 13 14]]\n",
      "{'edge1': (array([501.20813149,   1.20957014, 240.18233541]), array([  1.20959593, 501.21102586, 240.17031577])), 'edge2': (array([498.79040407, 501.21102586, 242.32968423]), array([ -1.20813149,   1.20957014, 242.31766459]))}\n",
      "min distance is:  [2.14740694]\n",
      "contact type is: ['EdgeToEdge']\n",
      "mask: [[ 3  4  5  6  7  8  0  1  2 15 16 17  9 10 11 12 13 14]]\n",
      "{'edge1': (array([501.20813149,   1.20957014, 240.18233541]), array([  1.20959593, 501.21102586, 240.17031577])), 'edge2': (array([498.79040407, 501.21102586, 242.32968423]), array([ -1.20813149,   1.20957014, 242.31766459]))}\n",
      "min distance is:  [2.14740694]\n",
      "contact type is: ['EdgeToEdge']\n",
      "mask: [[ 3  4  5  6  7  8  0  1  2 15 16 17  9 10 11 12 13 14]]\n",
      "Delta: [2.14740694]\n",
      "upper limit for quadratic: 1.75\n",
      "upper limit for smooth: 2.25\n",
      "Branch 2 (smooth): [2.14740694]\n",
      "gradE is: [[-0.00000000e+00 -0.00000000e+00 -0.00000000e+00 -4.14361879e-12\n",
      "   1.51990005e-22  1.72368170e-07 -4.18388531e-12  1.53273474e-22\n",
      "   1.74043196e-07  4.14361879e-12 -1.51734302e-22 -1.72368170e-07\n",
      "  -0.00000000e+00 -0.00000000e+00 -0.00000000e+00  4.18388531e-12\n",
      "  -1.53492324e-22 -1.74043196e-07]]\n",
      "hessE is: [[[ 0.00000000e+00  0.00000000e+00  0.00000000e+00  0.00000000e+00\n",
      "    0.00000000e+00  0.00000000e+00  0.00000000e+00  0.00000000e+00\n",
      "    0.00000000e+00  0.00000000e+00  0.00000000e+00  0.00000000e+00\n",
      "    0.00000000e+00  0.00000000e+00  0.00000000e+00  0.00000000e+00\n",
      "    0.00000000e+00  0.00000000e+00]\n",
      "  [ 0.00000000e+00  0.00000000e+00  0.00000000e+00  0.00000000e+00\n",
      "    0.00000000e+00  0.00000000e+00  0.00000000e+00  0.00000000e+00\n",
      "    0.00000000e+00  0.00000000e+00  0.00000000e+00  0.00000000e+00\n",
      "    0.00000000e+00  0.00000000e+00  0.00000000e+00  0.00000000e+00\n",
      "    0.00000000e+00  0.00000000e+00]\n",
      "  [ 0.00000000e+00  0.00000000e+00  0.00000000e+00  0.00000000e+00\n",
      "    0.00000000e+00  0.00000000e+00  0.00000000e+00  0.00000000e+00\n",
      "    0.00000000e+00  0.00000000e+00  0.00000000e+00  0.00000000e+00\n",
      "    0.00000000e+00  0.00000000e+00  0.00000000e+00  0.00000000e+00\n",
      "    0.00000000e+00  0.00000000e+00]\n",
      "  [ 0.00000000e+00  0.00000000e+00  0.00000000e+00  7.11715737e-12\n",
      "   -2.07180336e-12 -2.09878466e-07  3.02255481e-12 -2.09193657e-12\n",
      "   -3.87117798e-08 -7.11715694e-12  2.07180336e-12  2.09878448e-07\n",
      "    0.00000000e+00  0.00000000e+00  0.00000000e+00 -3.02255524e-12\n",
      "    2.09193657e-12  3.87117977e-08]\n",
      "  [ 0.00000000e+00  0.00000000e+00  0.00000000e+00 -2.07180336e-12\n",
      "    1.51699092e-22  8.61838342e-08  2.07180336e-12  8.80265526e-25\n",
      "   -8.61838342e-08 -2.07180336e-12 -1.46710924e-25  8.61838342e-08\n",
      "    0.00000000e+00  0.00000000e+00  0.00000000e+00  2.07180336e-12\n",
      "   -1.52432646e-22 -8.61838342e-08]\n",
      "  [ 0.00000000e+00  0.00000000e+00  0.00000000e+00 -2.09878466e-07\n",
      "    8.61838342e-08  5.14548554e-03 -2.11917970e-07  8.70213446e-08\n",
      "    5.19548644e-03  2.09878448e-07 -8.61838342e-08 -5.14548480e-03\n",
      "    0.00000000e+00  0.00000000e+00  0.00000000e+00  2.11917988e-07\n",
      "   -8.70213446e-08 -5.19548718e-03]\n",
      "  [ 0.00000000e+00  0.00000000e+00  0.00000000e+00  3.02255481e-12\n",
      "    2.07180336e-12 -2.11917970e-07 -1.15229852e-12  2.09193657e-12\n",
      "   -3.90880061e-08 -3.02255524e-12 -2.07180336e-12  2.11917988e-07\n",
      "    0.00000000e+00  0.00000000e+00  0.00000000e+00  1.15229895e-12\n",
      "   -2.09193657e-12  3.90879882e-08]\n",
      "  [ 0.00000000e+00  0.00000000e+00  0.00000000e+00 -2.09193657e-12\n",
      "    8.80265526e-25  8.70213446e-08  2.09193657e-12 -1.53459623e-22\n",
      "   -8.70213446e-08 -2.09193657e-12  1.52726068e-22  8.70213446e-08\n",
      "    0.00000000e+00  0.00000000e+00  0.00000000e+00  2.09193657e-12\n",
      "   -1.46710924e-25 -8.70213446e-08]\n",
      "  [ 0.00000000e+00  0.00000000e+00  0.00000000e+00 -3.87117798e-08\n",
      "   -8.61838342e-08  5.19548644e-03 -3.90880061e-08 -8.70213446e-08\n",
      "    5.24597622e-03  3.87117977e-08  8.61838342e-08 -5.19548718e-03\n",
      "    0.00000000e+00  0.00000000e+00  0.00000000e+00  3.90879882e-08\n",
      "    8.70213446e-08 -5.24597548e-03]\n",
      "  [ 0.00000000e+00  0.00000000e+00  0.00000000e+00 -7.11715694e-12\n",
      "   -2.07180336e-12  2.09878448e-07 -3.02255524e-12 -2.09193657e-12\n",
      "    3.87117977e-08  7.11715737e-12  2.07180336e-12 -2.09878466e-07\n",
      "    0.00000000e+00  0.00000000e+00  0.00000000e+00  3.02255481e-12\n",
      "    2.09193657e-12 -3.87117798e-08]\n",
      "  [ 0.00000000e+00  0.00000000e+00  0.00000000e+00  2.07180336e-12\n",
      "   -3.99402664e-33 -8.61838342e-08 -2.07180336e-12  1.52432646e-22\n",
      "    8.61838342e-08  2.07180336e-12 -1.51699092e-22 -8.61838342e-08\n",
      "    0.00000000e+00  0.00000000e+00  0.00000000e+00 -2.07180336e-12\n",
      "   -8.80265517e-25  8.61838342e-08]\n",
      "  [ 0.00000000e+00  0.00000000e+00  0.00000000e+00  2.09878448e-07\n",
      "    8.61838342e-08 -5.14548480e-03  2.11917988e-07  8.70213446e-08\n",
      "   -5.19548718e-03 -2.09878466e-07 -8.61838342e-08  5.14548554e-03\n",
      "    0.00000000e+00  0.00000000e+00  0.00000000e+00 -2.11917970e-07\n",
      "   -8.70213446e-08  5.19548644e-03]\n",
      "  [ 0.00000000e+00  0.00000000e+00  0.00000000e+00  0.00000000e+00\n",
      "    0.00000000e+00  0.00000000e+00  0.00000000e+00  0.00000000e+00\n",
      "    0.00000000e+00  0.00000000e+00  0.00000000e+00  0.00000000e+00\n",
      "    0.00000000e+00  0.00000000e+00  0.00000000e+00  0.00000000e+00\n",
      "    0.00000000e+00  0.00000000e+00]\n",
      "  [ 0.00000000e+00  0.00000000e+00  0.00000000e+00  0.00000000e+00\n",
      "    0.00000000e+00  0.00000000e+00  0.00000000e+00  0.00000000e+00\n",
      "    0.00000000e+00  0.00000000e+00  0.00000000e+00  0.00000000e+00\n",
      "    0.00000000e+00  0.00000000e+00  0.00000000e+00  0.00000000e+00\n",
      "    0.00000000e+00  0.00000000e+00]\n",
      "  [ 0.00000000e+00  0.00000000e+00  0.00000000e+00  0.00000000e+00\n",
      "    0.00000000e+00  0.00000000e+00  0.00000000e+00  0.00000000e+00\n",
      "    0.00000000e+00  0.00000000e+00  0.00000000e+00  0.00000000e+00\n",
      "    0.00000000e+00  0.00000000e+00  0.00000000e+00  0.00000000e+00\n",
      "    0.00000000e+00  0.00000000e+00]\n",
      "  [ 0.00000000e+00  0.00000000e+00  0.00000000e+00 -3.02255524e-12\n",
      "    2.07180336e-12  2.11917988e-07  1.15229895e-12  2.09193657e-12\n",
      "    3.90879882e-08  3.02255481e-12 -2.07180336e-12 -2.11917970e-07\n",
      "    0.00000000e+00  0.00000000e+00  0.00000000e+00 -1.15229852e-12\n",
      "   -2.09193657e-12 -3.90880061e-08]\n",
      "  [ 0.00000000e+00  0.00000000e+00  0.00000000e+00  2.09193657e-12\n",
      "   -1.52579357e-22 -8.70213446e-08 -2.09193657e-12  1.46710916e-25\n",
      "    8.70213446e-08  2.09193657e-12 -8.80265517e-25 -8.70213446e-08\n",
      "    0.00000000e+00  0.00000000e+00  0.00000000e+00 -2.09193657e-12\n",
      "    1.53452284e-22  8.70213446e-08]\n",
      "  [ 0.00000000e+00  0.00000000e+00  0.00000000e+00  3.87117977e-08\n",
      "   -8.61838342e-08 -5.19548718e-03  3.90879882e-08 -8.70213446e-08\n",
      "   -5.24597548e-03 -3.87117798e-08  8.61838342e-08  5.19548644e-03\n",
      "    0.00000000e+00  0.00000000e+00  0.00000000e+00 -3.90880061e-08\n",
      "    8.70213446e-08  5.24597622e-03]]]\n",
      "{'edge1': (array([501.20783148,   1.20927354, 240.18204688]), array([  1.20929931, 501.21072436, 240.17002651])), 'edge2': (array([498.79070069, 501.21072436, 242.32997349]), array([ -1.20783148,   1.20927354, 242.31795312]))}\n",
      "min distance is:  [2.14798472]\n",
      "contact type is: ['EdgeToEdge']\n",
      "mask: [[ 3  4  5  6  7  8  0  1  2 15 16 17  9 10 11 12 13 14]]\n",
      "{'edge1': (array([501.20783148,   1.20927354, 240.18204688]), array([  1.20929931, 501.21072436, 240.17002651])), 'edge2': (array([498.79070069, 501.21072436, 242.32997349]), array([ -1.20783148,   1.20927354, 242.31795312]))}\n",
      "min distance is:  [2.14798472]\n",
      "contact type is: ['EdgeToEdge']\n",
      "mask: [[ 3  4  5  6  7  8  0  1  2 15 16 17  9 10 11 12 13 14]]\n",
      "{'edge1': (array([501.20783148,   1.20927354, 240.18204688]), array([  1.20929931, 501.21072436, 240.17002651])), 'edge2': (array([498.79070069, 501.21072436, 242.32997349]), array([ -1.20783148,   1.20927354, 242.31795312]))}\n",
      "min distance is:  [2.14798472]\n",
      "contact type is: ['EdgeToEdge']\n",
      "mask: [[ 3  4  5  6  7  8  0  1  2 15 16 17  9 10 11 12 13 14]]\n",
      "Delta: [2.14798472]\n",
      "upper limit for quadratic: 1.75\n",
      "upper limit for smooth: 2.25\n",
      "Branch 2 (smooth): [2.14798472]\n",
      "gradE is: [[-0.00000000e+00 -0.00000000e+00 -0.00000000e+00 -3.86633083e-12\n",
      "   1.46370094e-22  1.60823578e-07 -3.90389344e-12  1.47578563e-22\n",
      "   1.62386029e-07  3.86633083e-12 -1.46337295e-22 -1.60823578e-07\n",
      "  -0.00000000e+00 -0.00000000e+00 -0.00000000e+00  3.90389344e-12\n",
      "  -1.47631622e-22 -1.62386029e-07]]\n",
      "hessE is: [[[ 0.00000000e+00  0.00000000e+00  0.00000000e+00  0.00000000e+00\n",
      "    0.00000000e+00  0.00000000e+00  0.00000000e+00  0.00000000e+00\n",
      "    0.00000000e+00  0.00000000e+00  0.00000000e+00  0.00000000e+00\n",
      "    0.00000000e+00  0.00000000e+00  0.00000000e+00  0.00000000e+00\n",
      "    0.00000000e+00  0.00000000e+00]\n",
      "  [ 0.00000000e+00  0.00000000e+00  0.00000000e+00  0.00000000e+00\n",
      "    0.00000000e+00  0.00000000e+00  0.00000000e+00  0.00000000e+00\n",
      "    0.00000000e+00  0.00000000e+00  0.00000000e+00  0.00000000e+00\n",
      "    0.00000000e+00  0.00000000e+00  0.00000000e+00  0.00000000e+00\n",
      "    0.00000000e+00  0.00000000e+00]\n",
      "  [ 0.00000000e+00  0.00000000e+00  0.00000000e+00  0.00000000e+00\n",
      "    0.00000000e+00  0.00000000e+00  0.00000000e+00  0.00000000e+00\n",
      "    0.00000000e+00  0.00000000e+00  0.00000000e+00  0.00000000e+00\n",
      "    0.00000000e+00  0.00000000e+00  0.00000000e+00  0.00000000e+00\n",
      "    0.00000000e+00  0.00000000e+00]\n",
      "  [ 0.00000000e+00  0.00000000e+00  0.00000000e+00  6.64106571e-12\n",
      "   -1.93315981e-12 -1.95829196e-07  2.82046139e-12 -1.95194105e-12\n",
      "   -3.61264260e-08 -6.64106531e-12  1.93315981e-12  1.95829179e-07\n",
      "    0.00000000e+00  0.00000000e+00  0.00000000e+00 -2.82046179e-12\n",
      "    1.95194105e-12  3.61264427e-08]\n",
      "  [ 0.00000000e+00  0.00000000e+00  0.00000000e+00 -1.93315981e-12\n",
      "    1.46603399e-22  8.04115556e-08  1.93315981e-12  4.10653783e-25\n",
      "   -8.04115556e-08 -1.93315981e-12  1.36884589e-25  8.04115556e-08\n",
      "    0.00000000e+00  0.00000000e+00  0.00000000e+00  1.93315981e-12\n",
      "   -1.47150937e-22 -8.04115556e-08]\n",
      "  [ 0.00000000e+00  0.00000000e+00  0.00000000e+00 -1.95829196e-07\n",
      "    8.04115556e-08  4.80088310e-03 -1.97731704e-07  8.11927788e-08\n",
      "    4.84752378e-03  1.95829179e-07 -8.04115556e-08 -4.80088240e-03\n",
      "    0.00000000e+00  0.00000000e+00  0.00000000e+00  1.97731720e-07\n",
      "   -8.11927788e-08 -4.84752447e-03]\n",
      "  [ 0.00000000e+00  0.00000000e+00  0.00000000e+00  2.82046139e-12\n",
      "    1.93315981e-12 -1.97731704e-07 -1.07500487e-12  1.95194105e-12\n",
      "   -3.64774391e-08 -2.82046179e-12 -1.93315981e-12  1.97731720e-07\n",
      "    0.00000000e+00  0.00000000e+00  0.00000000e+00  1.07500527e-12\n",
      "   -1.95194105e-12  3.64774224e-08]\n",
      "  [ 0.00000000e+00  0.00000000e+00  0.00000000e+00 -1.95194105e-12\n",
      "    4.10653783e-25  8.11927788e-08  1.95194105e-12 -1.47424707e-22\n",
      "   -8.11927788e-08 -1.95194105e-12  1.46877168e-22  8.11927788e-08\n",
      "    0.00000000e+00  0.00000000e+00  0.00000000e+00  1.95194105e-12\n",
      "    1.36884589e-25 -8.11927788e-08]\n",
      "  [ 0.00000000e+00  0.00000000e+00  0.00000000e+00 -3.61264260e-08\n",
      "   -8.04115556e-08  4.84752378e-03 -3.64774391e-08 -8.11927788e-08\n",
      "    4.89462038e-03  3.61264427e-08  8.04115556e-08 -4.84752447e-03\n",
      "    0.00000000e+00  0.00000000e+00  0.00000000e+00  3.64774224e-08\n",
      "    8.11927788e-08 -4.89461968e-03]\n",
      "  [ 0.00000000e+00  0.00000000e+00  0.00000000e+00 -6.64106531e-12\n",
      "   -1.93315981e-12  1.95829179e-07 -2.82046179e-12 -1.95194105e-12\n",
      "    3.61264427e-08  6.64106571e-12  1.93315981e-12 -1.95829196e-07\n",
      "    0.00000000e+00  0.00000000e+00  0.00000000e+00  2.82046139e-12\n",
      "    1.95194105e-12 -3.61264260e-08]\n",
      "  [ 0.00000000e+00  0.00000000e+00  0.00000000e+00  1.93315981e-12\n",
      "    2.73769182e-25 -8.04115556e-08 -1.93315981e-12  1.46877168e-22\n",
      "    8.04115556e-08  1.93315981e-12 -1.46055861e-22 -8.04115556e-08\n",
      "    0.00000000e+00  0.00000000e+00  0.00000000e+00 -1.93315981e-12\n",
      "   -9.58192146e-25  8.04115556e-08]\n",
      "  [ 0.00000000e+00  0.00000000e+00  0.00000000e+00  1.95829179e-07\n",
      "    8.04115556e-08 -4.80088240e-03  1.97731720e-07  8.11927788e-08\n",
      "   -4.84752447e-03 -1.95829196e-07 -8.04115556e-08  4.80088310e-03\n",
      "    0.00000000e+00  0.00000000e+00  0.00000000e+00 -1.97731704e-07\n",
      "   -8.11927788e-08  4.84752378e-03]\n",
      "  [ 0.00000000e+00  0.00000000e+00  0.00000000e+00  0.00000000e+00\n",
      "    0.00000000e+00  0.00000000e+00  0.00000000e+00  0.00000000e+00\n",
      "    0.00000000e+00  0.00000000e+00  0.00000000e+00  0.00000000e+00\n",
      "    0.00000000e+00  0.00000000e+00  0.00000000e+00  0.00000000e+00\n",
      "    0.00000000e+00  0.00000000e+00]\n",
      "  [ 0.00000000e+00  0.00000000e+00  0.00000000e+00  0.00000000e+00\n",
      "    0.00000000e+00  0.00000000e+00  0.00000000e+00  0.00000000e+00\n",
      "    0.00000000e+00  0.00000000e+00  0.00000000e+00  0.00000000e+00\n",
      "    0.00000000e+00  0.00000000e+00  0.00000000e+00  0.00000000e+00\n",
      "    0.00000000e+00  0.00000000e+00]\n",
      "  [ 0.00000000e+00  0.00000000e+00  0.00000000e+00  0.00000000e+00\n",
      "    0.00000000e+00  0.00000000e+00  0.00000000e+00  0.00000000e+00\n",
      "    0.00000000e+00  0.00000000e+00  0.00000000e+00  0.00000000e+00\n",
      "    0.00000000e+00  0.00000000e+00  0.00000000e+00  0.00000000e+00\n",
      "    0.00000000e+00  0.00000000e+00]\n",
      "  [ 0.00000000e+00  0.00000000e+00  0.00000000e+00 -2.82046179e-12\n",
      "    1.93315981e-12  1.97731720e-07  1.07500527e-12  1.95194105e-12\n",
      "    3.64774224e-08  2.82046139e-12 -1.93315981e-12 -1.97731704e-07\n",
      "    0.00000000e+00  0.00000000e+00  0.00000000e+00 -1.07500487e-12\n",
      "   -1.95194105e-12 -3.64774391e-08]\n",
      "  [ 0.00000000e+00  0.00000000e+00  0.00000000e+00  1.95194105e-12\n",
      "   -1.47287822e-22 -8.11927788e-08 -1.95194105e-12  1.36884589e-25\n",
      "    8.11927788e-08  1.95194105e-12 -9.58192146e-25 -8.11927788e-08\n",
      "    0.00000000e+00  0.00000000e+00  0.00000000e+00 -1.95194105e-12\n",
      "    1.48042398e-22  8.11927788e-08]\n",
      "  [ 0.00000000e+00  0.00000000e+00  0.00000000e+00  3.61264427e-08\n",
      "   -8.04115556e-08 -4.84752447e-03  3.64774224e-08 -8.11927788e-08\n",
      "   -4.89461968e-03 -3.61264260e-08  8.04115556e-08  4.84752378e-03\n",
      "    0.00000000e+00  0.00000000e+00  0.00000000e+00 -3.64774391e-08\n",
      "    8.11927788e-08  4.89462038e-03]]]\n",
      "{'edge1': (array([501.36052887,   1.36214906, 238.91953552]), array([  1.36217816, 501.3637896 , 238.90593333])), 'edge2': (array([498.63782184, 501.3637896 , 241.09406667]), array([ -1.36052887,   1.36214906, 241.08046448]))}\n",
      "min distance is:  [2.17460521]\n",
      "contact type is: ['EdgeToEdge']\n",
      "mask: [[ 3  4  5  6  7  8  0  1  2 15 16 17  9 10 11 12 13 14]]\n",
      "{'edge1': (array([501.36052887,   1.36214906, 238.91953552]), array([  1.36217816, 501.3637896 , 238.90593333])), 'edge2': (array([498.63782184, 501.3637896 , 241.09406667]), array([ -1.36052887,   1.36214906, 241.08046448]))}\n",
      "min distance is:  [2.17460521]\n",
      "contact type is: ['EdgeToEdge']\n",
      "mask: [[ 3  4  5  6  7  8  0  1  2 15 16 17  9 10 11 12 13 14]]\n",
      "{'edge1': (array([501.36052887,   1.36214906, 238.91953552]), array([  1.36217816, 501.3637896 , 238.90593333])), 'edge2': (array([498.63782184, 501.3637896 , 241.09406667]), array([ -1.36052887,   1.36214906, 241.08046448]))}\n",
      "min distance is:  [2.17460521]\n",
      "contact type is: ['EdgeToEdge']\n",
      "mask: [[ 3  4  5  6  7  8  0  1  2 15 16 17  9 10 11 12 13 14]]\n",
      "Delta: [2.17460521]\n",
      "upper limit for quadratic: 1.75\n",
      "upper limit for smooth: 2.25\n",
      "Branch 2 (smooth): [2.17460521]\n",
      "gradE is: [[-0.00000000e+00 -0.00000000e+00 -0.00000000e+00 -1.79250284e-13\n",
      "   5.98909923e-24  6.58900107e-09 -1.81213120e-13  6.06036205e-24\n",
      "   6.66115231e-09  1.79250284e-13 -5.99343057e-24 -6.58900107e-09\n",
      "  -0.00000000e+00 -0.00000000e+00 -0.00000000e+00  1.81213120e-13\n",
      "  -6.05805529e-24 -6.66115231e-09]]\n",
      "hessE is: [[[ 0.00000000e+00  0.00000000e+00  0.00000000e+00  0.00000000e+00\n",
      "    0.00000000e+00  0.00000000e+00  0.00000000e+00  0.00000000e+00\n",
      "    0.00000000e+00  0.00000000e+00  0.00000000e+00  0.00000000e+00\n",
      "    0.00000000e+00  0.00000000e+00  0.00000000e+00  0.00000000e+00\n",
      "    0.00000000e+00  0.00000000e+00]\n",
      "  [ 0.00000000e+00  0.00000000e+00  0.00000000e+00  0.00000000e+00\n",
      "    0.00000000e+00  0.00000000e+00  0.00000000e+00  0.00000000e+00\n",
      "    0.00000000e+00  0.00000000e+00  0.00000000e+00  0.00000000e+00\n",
      "    0.00000000e+00  0.00000000e+00  0.00000000e+00  0.00000000e+00\n",
      "    0.00000000e+00  0.00000000e+00]\n",
      "  [ 0.00000000e+00  0.00000000e+00  0.00000000e+00  0.00000000e+00\n",
      "    0.00000000e+00  0.00000000e+00  0.00000000e+00  0.00000000e+00\n",
      "    0.00000000e+00  0.00000000e+00  0.00000000e+00  0.00000000e+00\n",
      "    0.00000000e+00  0.00000000e+00  0.00000000e+00  0.00000000e+00\n",
      "    0.00000000e+00  0.00000000e+00]\n",
      "  [ 0.00000000e+00  0.00000000e+00  0.00000000e+00  3.24743483e-13\n",
      "   -8.96248478e-14 -8.64262537e-09  1.48067167e-13 -9.06062628e-14\n",
      "   -2.11216421e-09 -3.24743461e-13  8.96248478e-14  8.64262459e-09\n",
      "    0.00000000e+00  0.00000000e+00  0.00000000e+00 -1.48067189e-13\n",
      "    9.06062628e-14  2.11216499e-09]\n",
      "  [ 0.00000000e+00  0.00000000e+00  0.00000000e+00 -8.96248478e-14\n",
      "    5.99325100e-24  3.29448973e-09  8.96248478e-14  3.92816078e-26\n",
      "   -3.29448973e-09 -8.96248478e-14  1.12233163e-26  3.29448973e-09\n",
      "    0.00000000e+00  0.00000000e+00  0.00000000e+00  8.96248478e-14\n",
      "   -6.03814426e-24 -3.29448973e-09]\n",
      "  [ 0.00000000e+00  0.00000000e+00  0.00000000e+00 -8.64262537e-09\n",
      "    3.29448973e-09  1.96589528e-04 -8.73726275e-09  3.33056523e-09\n",
      "    1.98742176e-04  8.64262459e-09 -3.29448973e-09 -1.96589499e-04\n",
      "    0.00000000e+00  0.00000000e+00  0.00000000e+00  8.73726354e-09\n",
      "   -3.33056523e-09 -1.98742205e-04]\n",
      "  [ 0.00000000e+00  0.00000000e+00  0.00000000e+00  1.48067167e-13\n",
      "    8.96248478e-14 -8.73726275e-09 -3.25173024e-14  9.06062628e-14\n",
      "   -2.13529453e-09 -1.48067189e-13 -8.96248478e-14  8.73726354e-09\n",
      "    0.00000000e+00  0.00000000e+00  0.00000000e+00  3.25173237e-14\n",
      "   -9.06062628e-14  2.13529374e-09]\n",
      "  [ 0.00000000e+00  0.00000000e+00  0.00000000e+00 -9.06062628e-14\n",
      "    3.92816078e-26  3.33056523e-09  9.06062628e-14 -6.06059090e-24\n",
      "   -3.33056523e-09 -9.06062628e-14  6.01569763e-24  3.33056523e-09\n",
      "    0.00000000e+00  0.00000000e+00  0.00000000e+00  9.06062628e-14\n",
      "    1.12233163e-26 -3.33056523e-09]\n",
      "  [ 0.00000000e+00  0.00000000e+00  0.00000000e+00 -2.11216421e-09\n",
      "   -3.29448973e-09  1.98742176e-04 -2.13529453e-09 -3.33056523e-09\n",
      "    2.00918511e-04  2.11216499e-09  3.29448973e-09 -1.98742205e-04\n",
      "    0.00000000e+00  0.00000000e+00  0.00000000e+00  2.13529374e-09\n",
      "    3.33056523e-09 -2.00918483e-04]\n",
      "  [ 0.00000000e+00  0.00000000e+00  0.00000000e+00 -3.24743461e-13\n",
      "   -8.96248478e-14  8.64262459e-09 -1.48067189e-13 -9.06062628e-14\n",
      "    2.11216499e-09  3.24743483e-13  8.96248478e-14 -8.64262537e-09\n",
      "    0.00000000e+00  0.00000000e+00  0.00000000e+00  1.48067167e-13\n",
      "    9.06062628e-14 -2.11216421e-09]\n",
      "  [ 0.00000000e+00  0.00000000e+00  0.00000000e+00  8.96248478e-14\n",
      "    1.12233163e-26 -3.29448973e-09 -8.96248478e-14  6.01569763e-24\n",
      "    3.29448973e-09  8.96248478e-14 -5.98763934e-24 -3.29448973e-09\n",
      "    0.00000000e+00  0.00000000e+00  0.00000000e+00 -8.96248478e-14\n",
      "   -3.92816075e-26  3.29448973e-09]\n",
      "  [ 0.00000000e+00  0.00000000e+00  0.00000000e+00  8.64262459e-09\n",
      "    3.29448973e-09 -1.96589499e-04  8.73726354e-09  3.33056523e-09\n",
      "   -1.98742205e-04 -8.64262537e-09 -3.29448973e-09  1.96589528e-04\n",
      "    0.00000000e+00  0.00000000e+00  0.00000000e+00 -8.73726275e-09\n",
      "   -3.33056523e-09  1.98742176e-04]\n",
      "  [ 0.00000000e+00  0.00000000e+00  0.00000000e+00  0.00000000e+00\n",
      "    0.00000000e+00  0.00000000e+00  0.00000000e+00  0.00000000e+00\n",
      "    0.00000000e+00  0.00000000e+00  0.00000000e+00  0.00000000e+00\n",
      "    0.00000000e+00  0.00000000e+00  0.00000000e+00  0.00000000e+00\n",
      "    0.00000000e+00  0.00000000e+00]\n",
      "  [ 0.00000000e+00  0.00000000e+00  0.00000000e+00  0.00000000e+00\n",
      "    0.00000000e+00  0.00000000e+00  0.00000000e+00  0.00000000e+00\n",
      "    0.00000000e+00  0.00000000e+00  0.00000000e+00  0.00000000e+00\n",
      "    0.00000000e+00  0.00000000e+00  0.00000000e+00  0.00000000e+00\n",
      "    0.00000000e+00  0.00000000e+00]\n",
      "  [ 0.00000000e+00  0.00000000e+00  0.00000000e+00  0.00000000e+00\n",
      "    0.00000000e+00  0.00000000e+00  0.00000000e+00  0.00000000e+00\n",
      "    0.00000000e+00  0.00000000e+00  0.00000000e+00  0.00000000e+00\n",
      "    0.00000000e+00  0.00000000e+00  0.00000000e+00  0.00000000e+00\n",
      "    0.00000000e+00  0.00000000e+00]\n",
      "  [ 0.00000000e+00  0.00000000e+00  0.00000000e+00 -1.48067189e-13\n",
      "    8.96248478e-14  8.73726354e-09  3.25173237e-14  9.06062628e-14\n",
      "    2.13529374e-09  1.48067167e-13 -8.96248478e-14 -8.73726275e-09\n",
      "    0.00000000e+00  0.00000000e+00  0.00000000e+00 -3.25173024e-14\n",
      "   -9.06062628e-14 -2.13529453e-09]\n",
      "  [ 0.00000000e+00  0.00000000e+00  0.00000000e+00  9.06062628e-14\n",
      "   -6.03814426e-24 -3.33056523e-09 -9.06062628e-14  1.12233163e-26\n",
      "    3.33056523e-09  9.06062628e-14 -3.92816075e-26 -3.33056523e-09\n",
      "    0.00000000e+00  0.00000000e+00  0.00000000e+00 -9.06062628e-14\n",
      "    6.06842698e-24  3.33056523e-09]\n",
      "  [ 0.00000000e+00  0.00000000e+00  0.00000000e+00  2.11216499e-09\n",
      "   -3.29448973e-09 -1.98742205e-04  2.13529374e-09 -3.33056523e-09\n",
      "   -2.00918483e-04 -2.11216421e-09  3.29448973e-09  1.98742176e-04\n",
      "    0.00000000e+00  0.00000000e+00  0.00000000e+00 -2.13529453e-09\n",
      "    3.33056523e-09  2.00918511e-04]]]\n",
      "{'edge1': (array([501.36022816,   1.36185175, 238.91924947]), array([  1.36188084, 501.36348739, 238.90564656])), 'edge2': (array([498.63811916, 501.36348739, 241.09435344]), array([ -1.36022816,   1.36185175, 241.08075053]))}\n",
      "min distance is:  [2.17517803]\n",
      "contact type is: ['EdgeToEdge']\n",
      "mask: [[ 3  4  5  6  7  8  0  1  2 15 16 17  9 10 11 12 13 14]]\n",
      "{'edge1': (array([501.36022816,   1.36185175, 238.91924947]), array([  1.36188084, 501.36348739, 238.90564656])), 'edge2': (array([498.63811916, 501.36348739, 241.09435344]), array([ -1.36022816,   1.36185175, 241.08075053]))}\n",
      "min distance is:  [2.17517803]\n",
      "contact type is: ['EdgeToEdge']\n",
      "mask: [[ 3  4  5  6  7  8  0  1  2 15 16 17  9 10 11 12 13 14]]\n",
      "{'edge1': (array([501.36022816,   1.36185175, 238.91924947]), array([  1.36188084, 501.36348739, 238.90564656])), 'edge2': (array([498.63811916, 501.36348739, 241.09435344]), array([ -1.36022816,   1.36185175, 241.08075053]))}\n",
      "min distance is:  [2.17517803]\n",
      "contact type is: ['EdgeToEdge']\n",
      "mask: [[ 3  4  5  6  7  8  0  1  2 15 16 17  9 10 11 12 13 14]]\n",
      "Delta: [2.17517803]\n",
      "upper limit for quadratic: 1.75\n",
      "upper limit for smooth: 2.25\n",
      "Branch 2 (smooth): [2.17517803]\n",
      "gradE is: [[-0.00000000e+00 -0.00000000e+00 -0.00000000e+00 -1.67352133e-13\n",
      "   5.77646188e-24  6.15131401e-09 -1.69184277e-13  5.82566319e-24\n",
      "   6.21865759e-09  1.67352133e-13 -5.76160192e-24 -6.15131401e-09\n",
      "  -0.00000000e+00 -0.00000000e+00 -0.00000000e+00  1.69184277e-13\n",
      "  -5.84083732e-24 -6.21865759e-09]]\n",
      "hessE is: [[[ 0.00000000e+00  0.00000000e+00  0.00000000e+00  0.00000000e+00\n",
      "    0.00000000e+00  0.00000000e+00  0.00000000e+00  0.00000000e+00\n",
      "    0.00000000e+00  0.00000000e+00  0.00000000e+00  0.00000000e+00\n",
      "    0.00000000e+00  0.00000000e+00  0.00000000e+00  0.00000000e+00\n",
      "    0.00000000e+00  0.00000000e+00]\n",
      "  [ 0.00000000e+00  0.00000000e+00  0.00000000e+00  0.00000000e+00\n",
      "    0.00000000e+00  0.00000000e+00  0.00000000e+00  0.00000000e+00\n",
      "    0.00000000e+00  0.00000000e+00  0.00000000e+00  0.00000000e+00\n",
      "    0.00000000e+00  0.00000000e+00  0.00000000e+00  0.00000000e+00\n",
      "    0.00000000e+00  0.00000000e+00]\n",
      "  [ 0.00000000e+00  0.00000000e+00  0.00000000e+00  0.00000000e+00\n",
      "    0.00000000e+00  0.00000000e+00  0.00000000e+00  0.00000000e+00\n",
      "    0.00000000e+00  0.00000000e+00  0.00000000e+00  0.00000000e+00\n",
      "    0.00000000e+00  0.00000000e+00  0.00000000e+00  0.00000000e+00\n",
      "    0.00000000e+00  0.00000000e+00]\n",
      "  [ 0.00000000e+00  0.00000000e+00  0.00000000e+00  3.03195367e-13\n",
      "   -8.36757929e-14 -8.06879733e-09  1.38245899e-13 -8.45918618e-14\n",
      "   -1.97212549e-09 -3.03195347e-13  8.36757929e-14  8.06879660e-09\n",
      "    0.00000000e+00  0.00000000e+00  0.00000000e+00 -1.38245919e-13\n",
      "    8.45918618e-14  1.97212622e-09]\n",
      "  [ 0.00000000e+00  0.00000000e+00  0.00000000e+00 -8.36757929e-14\n",
      "    5.78896986e-24  3.07564694e-09  8.36757929e-14  1.57166604e-26\n",
      "   -3.07564694e-09 -8.36757929e-14  1.57166601e-26  3.07564694e-09\n",
      "    0.00000000e+00  0.00000000e+00  0.00000000e+00  8.36757929e-14\n",
      "   -5.82040318e-24 -3.07564694e-09]\n",
      "  [ 0.00000000e+00  0.00000000e+00  0.00000000e+00 -8.06879733e-09\n",
      "    3.07564694e-09  1.83531043e-04 -8.15713174e-09  3.10931862e-09\n",
      "    1.85540257e-04  8.06879660e-09 -3.07564694e-09 -1.83531016e-04\n",
      "    0.00000000e+00  0.00000000e+00  0.00000000e+00  8.15713247e-09\n",
      "   -3.10931862e-09 -1.85540283e-04]\n",
      "  [ 0.00000000e+00  0.00000000e+00  0.00000000e+00  1.38245899e-13\n",
      "    8.36757929e-14 -8.15713174e-09 -3.03515076e-14  8.45918618e-14\n",
      "   -1.99371748e-09 -1.38245919e-13 -8.36757929e-14  8.15713247e-09\n",
      "    0.00000000e+00  0.00000000e+00  0.00000000e+00  3.03515275e-14\n",
      "   -8.45918618e-14  1.99371674e-09]\n",
      "  [ 0.00000000e+00  0.00000000e+00  0.00000000e+00 -8.45918618e-14\n",
      "    1.57166604e-26  3.10931862e-09  8.45918618e-14 -5.81516430e-24\n",
      "   -3.10931862e-09 -8.45918618e-14  5.78373097e-24  3.10931862e-09\n",
      "    0.00000000e+00  0.00000000e+00  0.00000000e+00  8.45918618e-14\n",
      "    2.09555468e-26 -3.10931862e-09]\n",
      "  [ 0.00000000e+00  0.00000000e+00  0.00000000e+00 -1.97212549e-09\n",
      "   -3.07564694e-09  1.85540257e-04 -1.99371748e-09 -3.10931862e-09\n",
      "    1.87571575e-04  1.97212622e-09  3.07564694e-09 -1.85540283e-04\n",
      "    0.00000000e+00  0.00000000e+00  0.00000000e+00  1.99371674e-09\n",
      "    3.10931862e-09 -1.87571548e-04]\n",
      "  [ 0.00000000e+00  0.00000000e+00  0.00000000e+00 -3.03195347e-13\n",
      "   -8.36757929e-14  8.06879660e-09 -1.38245919e-13 -8.45918618e-14\n",
      "    1.97212622e-09  3.03195367e-13  8.36757929e-14 -8.06879733e-09\n",
      "    0.00000000e+00  0.00000000e+00  0.00000000e+00  1.38245899e-13\n",
      "    8.45918618e-14 -1.97212549e-09]\n",
      "  [ 0.00000000e+00  0.00000000e+00  0.00000000e+00  8.36757929e-14\n",
      "    1.04777733e-26 -3.07564694e-09 -8.36757929e-14  5.78896986e-24\n",
      "    3.07564694e-09  8.36757929e-14 -5.76277543e-24 -3.07564694e-09\n",
      "    0.00000000e+00  0.00000000e+00  0.00000000e+00 -8.36757929e-14\n",
      "   -3.14333204e-26  3.07564694e-09]\n",
      "  [ 0.00000000e+00  0.00000000e+00  0.00000000e+00  8.06879660e-09\n",
      "    3.07564694e-09 -1.83531016e-04  8.15713247e-09  3.10931862e-09\n",
      "   -1.85540283e-04 -8.06879733e-09 -3.07564694e-09  1.83531043e-04\n",
      "    0.00000000e+00  0.00000000e+00  0.00000000e+00 -8.15713174e-09\n",
      "   -3.10931862e-09  1.85540257e-04]\n",
      "  [ 0.00000000e+00  0.00000000e+00  0.00000000e+00  0.00000000e+00\n",
      "    0.00000000e+00  0.00000000e+00  0.00000000e+00  0.00000000e+00\n",
      "    0.00000000e+00  0.00000000e+00  0.00000000e+00  0.00000000e+00\n",
      "    0.00000000e+00  0.00000000e+00  0.00000000e+00  0.00000000e+00\n",
      "    0.00000000e+00  0.00000000e+00]\n",
      "  [ 0.00000000e+00  0.00000000e+00  0.00000000e+00  0.00000000e+00\n",
      "    0.00000000e+00  0.00000000e+00  0.00000000e+00  0.00000000e+00\n",
      "    0.00000000e+00  0.00000000e+00  0.00000000e+00  0.00000000e+00\n",
      "    0.00000000e+00  0.00000000e+00  0.00000000e+00  0.00000000e+00\n",
      "    0.00000000e+00  0.00000000e+00]\n",
      "  [ 0.00000000e+00  0.00000000e+00  0.00000000e+00  0.00000000e+00\n",
      "    0.00000000e+00  0.00000000e+00  0.00000000e+00  0.00000000e+00\n",
      "    0.00000000e+00  0.00000000e+00  0.00000000e+00  0.00000000e+00\n",
      "    0.00000000e+00  0.00000000e+00  0.00000000e+00  0.00000000e+00\n",
      "    0.00000000e+00  0.00000000e+00]\n",
      "  [ 0.00000000e+00  0.00000000e+00  0.00000000e+00 -1.38245919e-13\n",
      "    8.36757929e-14  8.15713247e-09  3.03515275e-14  8.45918618e-14\n",
      "    1.99371674e-09  1.38245899e-13 -8.36757929e-14 -8.15713174e-09\n",
      "    0.00000000e+00  0.00000000e+00  0.00000000e+00 -3.03515076e-14\n",
      "   -8.45918618e-14 -1.99371748e-09]\n",
      "  [ 0.00000000e+00  0.00000000e+00  0.00000000e+00  8.45918618e-14\n",
      "   -5.81516430e-24 -3.10931862e-09 -8.45918618e-14  1.57166601e-26\n",
      "    3.10931862e-09  8.45918618e-14 -3.14333204e-26 -3.10931862e-09\n",
      "    0.00000000e+00  0.00000000e+00  0.00000000e+00 -8.45918618e-14\n",
      "    5.84083481e-24  3.10931862e-09]\n",
      "  [ 0.00000000e+00  0.00000000e+00  0.00000000e+00  1.97212622e-09\n",
      "   -3.07564694e-09 -1.85540283e-04  1.99371674e-09 -3.10931862e-09\n",
      "   -1.87571548e-04 -1.97212549e-09  3.07564694e-09  1.85540257e-04\n",
      "    0.00000000e+00  0.00000000e+00  0.00000000e+00 -1.99371748e-09\n",
      "    3.10931862e-09  1.87571575e-04]]]\n",
      "{'edge1': (array([501.51232101,   1.51412123, 237.65616412]), array([  1.51415363, 501.51594505, 237.64097795])), 'edge2': (array([498.48584637, 501.51594505, 239.85902205]), array([ -1.51232101,   1.51412123, 239.84383588]))}\n",
      "min distance is:  [2.20294985]\n",
      "contact type is: ['EdgeToEdge']\n",
      "mask: [[ 3  4  5  6  7  8  0  1  2 15 16 17  9 10 11 12 13 14]]\n",
      "{'edge1': (array([501.51232101,   1.51412123, 237.65616412]), array([  1.51415363, 501.51594505, 237.64097795])), 'edge2': (array([498.48584637, 501.51594505, 239.85902205]), array([ -1.51232101,   1.51412123, 239.84383588]))}\n",
      "min distance is:  [2.20294985]\n",
      "contact type is: ['EdgeToEdge']\n",
      "mask: [[ 3  4  5  6  7  8  0  1  2 15 16 17  9 10 11 12 13 14]]\n",
      "{'edge1': (array([501.51232101,   1.51412123, 237.65616412]), array([  1.51415363, 501.51594505, 237.64097795])), 'edge2': (array([498.48584637, 501.51594505, 239.85902205]), array([ -1.51232101,   1.51412123, 239.84383588]))}\n",
      "min distance is:  [2.20294985]\n",
      "contact type is: ['EdgeToEdge']\n",
      "mask: [[ 3  4  5  6  7  8  0  1  2 15 16 17  9 10 11 12 13 14]]\n",
      "Delta: [2.20294985]\n",
      "upper limit for quadratic: 1.75\n",
      "upper limit for smooth: 2.25\n",
      "Branch 2 (smooth): [2.20294985]\n",
      "gradE is: [[-0.00000000e+00 -0.00000000e+00 -0.00000000e+00 -6.66589505e-15\n",
      "   2.05654530e-25  2.19471672e-10 -6.74708162e-15  2.08514308e-25\n",
      "   2.22144705e-10  6.66589505e-15 -2.05884617e-25 -2.19471672e-10\n",
      "  -0.00000000e+00 -0.00000000e+00 -0.00000000e+00  6.74708162e-15\n",
      "  -2.08335818e-25 -2.22144705e-10]]\n",
      "hessE is: [[[ 0.00000000e+00  0.00000000e+00  0.00000000e+00  0.00000000e+00\n",
      "    0.00000000e+00  0.00000000e+00  0.00000000e+00  0.00000000e+00\n",
      "    0.00000000e+00  0.00000000e+00  0.00000000e+00  0.00000000e+00\n",
      "    0.00000000e+00  0.00000000e+00  0.00000000e+00  0.00000000e+00\n",
      "    0.00000000e+00  0.00000000e+00]\n",
      "  [ 0.00000000e+00  0.00000000e+00  0.00000000e+00  0.00000000e+00\n",
      "    0.00000000e+00  0.00000000e+00  0.00000000e+00  0.00000000e+00\n",
      "    0.00000000e+00  0.00000000e+00  0.00000000e+00  0.00000000e+00\n",
      "    0.00000000e+00  0.00000000e+00  0.00000000e+00  0.00000000e+00\n",
      "    0.00000000e+00  0.00000000e+00]\n",
      "  [ 0.00000000e+00  0.00000000e+00  0.00000000e+00  0.00000000e+00\n",
      "    0.00000000e+00  0.00000000e+00  0.00000000e+00  0.00000000e+00\n",
      "    0.00000000e+00  0.00000000e+00  0.00000000e+00  0.00000000e+00\n",
      "    0.00000000e+00  0.00000000e+00  0.00000000e+00  0.00000000e+00\n",
      "    0.00000000e+00  0.00000000e+00]\n",
      "  [ 0.00000000e+00  0.00000000e+00  0.00000000e+00  1.27029227e-14\n",
      "   -3.33293537e-15 -3.08501924e-10  6.15112195e-15 -3.37352851e-15\n",
      "   -9.14502342e-11 -1.27029218e-14  3.33293537e-15  3.08501895e-10\n",
      "    0.00000000e+00  0.00000000e+00  0.00000000e+00 -6.15112284e-15\n",
      "    3.37352851e-15  9.14502637e-11]\n",
      "  [ 0.00000000e+00  0.00000000e+00  0.00000000e+00 -3.33293537e-15\n",
      "    2.06109056e-25  1.09735436e-10  3.33293537e-15  1.49625449e-27\n",
      "   -1.09735436e-10 -3.33293537e-15 -1.87031817e-28  1.09735436e-10\n",
      "    0.00000000e+00  0.00000000e+00  0.00000000e+00  3.33293537e-15\n",
      "   -2.06857183e-25 -1.09735436e-10]\n",
      "  [ 0.00000000e+00  0.00000000e+00  0.00000000e+00 -3.08501924e-10\n",
      "    1.09735436e-10  6.54427308e-06 -3.12259232e-10  1.11071947e-10\n",
      "    6.62397642e-06  3.08501895e-10 -1.09735436e-10 -6.54427211e-06\n",
      "    0.00000000e+00  0.00000000e+00  0.00000000e+00  3.12259262e-10\n",
      "   -1.11071947e-10 -6.62397739e-06]\n",
      "  [ 0.00000000e+00  0.00000000e+00  0.00000000e+00  6.15112195e-15\n",
      "    3.33293537e-15 -3.12259232e-10 -5.62153486e-16  3.37352851e-15\n",
      "   -9.25641024e-11 -6.15112284e-15 -3.33293537e-15  3.12259262e-10\n",
      "    0.00000000e+00  0.00000000e+00  0.00000000e+00  5.62154383e-16\n",
      "   -3.37352851e-15  9.25640728e-11]\n",
      "  [ 0.00000000e+00  0.00000000e+00  0.00000000e+00 -3.37352851e-15\n",
      "    1.49625449e-27  1.11071947e-10  3.37352851e-15 -2.08166405e-25\n",
      "   -1.11071947e-10 -3.37352851e-15  2.07231246e-25  1.11071947e-10\n",
      "    0.00000000e+00  0.00000000e+00  0.00000000e+00  3.37352851e-15\n",
      "   -1.87031817e-28 -1.11071947e-10]\n",
      "  [ 0.00000000e+00  0.00000000e+00  0.00000000e+00 -9.14502342e-11\n",
      "   -1.09735436e-10  6.62397642e-06 -9.25641024e-11 -1.11071947e-10\n",
      "    6.70465441e-06  9.14502637e-11  1.09735436e-10 -6.62397739e-06\n",
      "    0.00000000e+00  0.00000000e+00  0.00000000e+00  9.25640728e-11\n",
      "    1.11071947e-10 -6.70465344e-06]\n",
      "  [ 0.00000000e+00  0.00000000e+00  0.00000000e+00 -1.27029218e-14\n",
      "   -3.33293537e-15  3.08501895e-10 -6.15112284e-15 -3.37352851e-15\n",
      "    9.14502637e-11  1.27029227e-14  3.33293537e-15 -3.08501924e-10\n",
      "    0.00000000e+00  0.00000000e+00  0.00000000e+00  6.15112195e-15\n",
      "    3.37352851e-15 -9.14502342e-11]\n",
      "  [ 0.00000000e+00  0.00000000e+00  0.00000000e+00  3.33293537e-15\n",
      "   -1.87031817e-28 -1.09735436e-10 -3.33293537e-15  2.07231246e-25\n",
      "    1.09735436e-10  3.33293537e-15 -2.05922024e-25 -1.09735436e-10\n",
      "    0.00000000e+00  0.00000000e+00  0.00000000e+00 -3.33293537e-15\n",
      "   -1.12219086e-27  1.09735436e-10]\n",
      "  [ 0.00000000e+00  0.00000000e+00  0.00000000e+00  3.08501895e-10\n",
      "    1.09735436e-10 -6.54427211e-06  3.12259262e-10  1.11071947e-10\n",
      "   -6.62397739e-06 -3.08501924e-10 -1.09735436e-10  6.54427308e-06\n",
      "    0.00000000e+00  0.00000000e+00  0.00000000e+00 -3.12259232e-10\n",
      "   -1.11071947e-10  6.62397642e-06]\n",
      "  [ 0.00000000e+00  0.00000000e+00  0.00000000e+00  0.00000000e+00\n",
      "    0.00000000e+00  0.00000000e+00  0.00000000e+00  0.00000000e+00\n",
      "    0.00000000e+00  0.00000000e+00  0.00000000e+00  0.00000000e+00\n",
      "    0.00000000e+00  0.00000000e+00  0.00000000e+00  0.00000000e+00\n",
      "    0.00000000e+00  0.00000000e+00]\n",
      "  [ 0.00000000e+00  0.00000000e+00  0.00000000e+00  0.00000000e+00\n",
      "    0.00000000e+00  0.00000000e+00  0.00000000e+00  0.00000000e+00\n",
      "    0.00000000e+00  0.00000000e+00  0.00000000e+00  0.00000000e+00\n",
      "    0.00000000e+00  0.00000000e+00  0.00000000e+00  0.00000000e+00\n",
      "    0.00000000e+00  0.00000000e+00]\n",
      "  [ 0.00000000e+00  0.00000000e+00  0.00000000e+00  0.00000000e+00\n",
      "    0.00000000e+00  0.00000000e+00  0.00000000e+00  0.00000000e+00\n",
      "    0.00000000e+00  0.00000000e+00  0.00000000e+00  0.00000000e+00\n",
      "    0.00000000e+00  0.00000000e+00  0.00000000e+00  0.00000000e+00\n",
      "    0.00000000e+00  0.00000000e+00]\n",
      "  [ 0.00000000e+00  0.00000000e+00  0.00000000e+00 -6.15112284e-15\n",
      "    3.33293537e-15  3.12259262e-10  5.62154383e-16  3.37352851e-15\n",
      "    9.25640728e-11  6.15112195e-15 -3.33293537e-15 -3.12259232e-10\n",
      "    0.00000000e+00  0.00000000e+00  0.00000000e+00 -5.62153486e-16\n",
      "   -3.37352851e-15 -9.25641024e-11]\n",
      "  [ 0.00000000e+00  0.00000000e+00  0.00000000e+00  3.37352851e-15\n",
      "   -2.07044215e-25 -1.11071947e-10 -3.37352851e-15 -1.87031817e-28\n",
      "    1.11071947e-10  3.37352851e-15 -1.12219086e-27 -1.11071947e-10\n",
      "    0.00000000e+00  0.00000000e+00  0.00000000e+00 -3.37352851e-15\n",
      "    2.08193620e-25  1.11071947e-10]\n",
      "  [ 0.00000000e+00  0.00000000e+00  0.00000000e+00  9.14502637e-11\n",
      "   -1.09735436e-10 -6.62397739e-06  9.25640728e-11 -1.11071947e-10\n",
      "   -6.70465344e-06 -9.14502342e-11  1.09735436e-10  6.62397642e-06\n",
      "    0.00000000e+00  0.00000000e+00  0.00000000e+00 -9.25641024e-11\n",
      "    1.11071947e-10  6.70465441e-06]]]\n",
      "{'edge1': (array([501.51201976,   1.51382338, 237.65587926]), array([  1.51385577, 501.5156423 , 237.64069237])), 'edge2': (array([498.48614423, 501.5156423 , 239.85930763]), array([ -1.51201976,   1.51382338, 239.84412074]))}\n",
      "min distance is:  [2.20352027]\n",
      "contact type is: ['EdgeToEdge']\n",
      "mask: [[ 3  4  5  6  7  8  0  1  2 15 16 17  9 10 11 12 13 14]]\n",
      "{'edge1': (array([501.51201976,   1.51382338, 237.65587926]), array([  1.51385577, 501.5156423 , 237.64069237])), 'edge2': (array([498.48614423, 501.5156423 , 239.85930763]), array([ -1.51201976,   1.51382338, 239.84412074]))}\n",
      "min distance is:  [2.20352027]\n",
      "contact type is: ['EdgeToEdge']\n",
      "mask: [[ 3  4  5  6  7  8  0  1  2 15 16 17  9 10 11 12 13 14]]\n",
      "{'edge1': (array([501.51201976,   1.51382338, 237.65587926]), array([  1.51385577, 501.5156423 , 237.64069237])), 'edge2': (array([498.48614423, 501.5156423 , 239.85930763]), array([ -1.51201976,   1.51382338, 239.84412074]))}\n",
      "min distance is:  [2.20352027]\n",
      "contact type is: ['EdgeToEdge']\n",
      "mask: [[ 3  4  5  6  7  8  0  1  2 15 16 17  9 10 11 12 13 14]]\n",
      "Delta: [2.20352027]\n",
      "upper limit for quadratic: 1.75\n",
      "upper limit for smooth: 2.25\n",
      "Branch 2 (smooth): [2.20352027]\n",
      "gradE is: [[-0.00000000e+00 -0.00000000e+00 -0.00000000e+00 -6.22518293e-15\n",
      "   1.80410353e-25  2.04951697e-10 -6.30098679e-15  1.82981386e-25\n",
      "   2.07447387e-10  6.22518293e-15 -1.80816939e-25 -2.04951697e-10\n",
      "  -0.00000000e+00 -0.00000000e+00 -0.00000000e+00  6.30098679e-15\n",
      "  -1.82556548e-25 -2.07447387e-10]]\n",
      "hessE is: [[[ 0.00000000e+00  0.00000000e+00  0.00000000e+00  0.00000000e+00\n",
      "    0.00000000e+00  0.00000000e+00  0.00000000e+00  0.00000000e+00\n",
      "    0.00000000e+00  0.00000000e+00  0.00000000e+00  0.00000000e+00\n",
      "    0.00000000e+00  0.00000000e+00  0.00000000e+00  0.00000000e+00\n",
      "    0.00000000e+00  0.00000000e+00]\n",
      "  [ 0.00000000e+00  0.00000000e+00  0.00000000e+00  0.00000000e+00\n",
      "    0.00000000e+00  0.00000000e+00  0.00000000e+00  0.00000000e+00\n",
      "    0.00000000e+00  0.00000000e+00  0.00000000e+00  0.00000000e+00\n",
      "    0.00000000e+00  0.00000000e+00  0.00000000e+00  0.00000000e+00\n",
      "    0.00000000e+00  0.00000000e+00]\n",
      "  [ 0.00000000e+00  0.00000000e+00  0.00000000e+00  0.00000000e+00\n",
      "    0.00000000e+00  0.00000000e+00  0.00000000e+00  0.00000000e+00\n",
      "    0.00000000e+00  0.00000000e+00  0.00000000e+00  0.00000000e+00\n",
      "    0.00000000e+00  0.00000000e+00  0.00000000e+00  0.00000000e+00\n",
      "    0.00000000e+00  0.00000000e+00]\n",
      "  [ 0.00000000e+00  0.00000000e+00  0.00000000e+00  1.18633507e-14\n",
      "   -3.11258014e-15 -2.88100871e-10  5.74470087e-15 -3.15048193e-15\n",
      "   -8.54087114e-11 -1.18633499e-14  3.11258014e-15  2.88100843e-10\n",
      "    0.00000000e+00  0.00000000e+00  0.00000000e+00 -5.74470170e-15\n",
      "    3.15048193e-15  8.54087390e-11]\n",
      "  [ 0.00000000e+00  0.00000000e+00  0.00000000e+00 -3.11258014e-15\n",
      "    1.80072198e-25  1.02475476e-10  3.11258014e-15  1.57192026e-27\n",
      "   -1.02475476e-10 -3.11258014e-15 -3.49315617e-28  1.02475476e-10\n",
      "    0.00000000e+00  0.00000000e+00  0.00000000e+00  3.11258014e-15\n",
      "   -1.81294803e-25 -1.02475476e-10]\n",
      "  [ 0.00000000e+00  0.00000000e+00  0.00000000e+00 -2.88100871e-10\n",
      "    1.02475476e-10  6.11132019e-06 -2.91609011e-10  1.03723316e-10\n",
      "    6.18573573e-06  2.88100843e-10 -1.02475476e-10 -6.11131928e-06\n",
      "    0.00000000e+00  0.00000000e+00  0.00000000e+00  2.91609038e-10\n",
      "   -1.03723316e-10 -6.18573664e-06]\n",
      "  [ 0.00000000e+00  0.00000000e+00  0.00000000e+00  5.74470087e-15\n",
      "    3.11258014e-15 -2.91609011e-10 -5.24717927e-16  3.15048193e-15\n",
      "   -8.64487864e-11 -5.74470170e-15 -3.11258014e-15  2.91609038e-10\n",
      "    0.00000000e+00  0.00000000e+00  0.00000000e+00  5.24718765e-16\n",
      "   -3.15048193e-15  8.64487588e-11]\n",
      "  [ 0.00000000e+00  0.00000000e+00  0.00000000e+00 -3.15048193e-15\n",
      "    1.57192026e-27  1.03723316e-10  3.15048193e-15 -1.83216038e-25\n",
      "   -1.03723316e-10 -3.15048193e-15  1.81993434e-25  1.03723316e-10\n",
      "    0.00000000e+00  0.00000000e+00  0.00000000e+00  3.15048193e-15\n",
      "   -3.49315617e-28 -1.03723316e-10]\n",
      "  [ 0.00000000e+00  0.00000000e+00  0.00000000e+00 -8.54087114e-11\n",
      "   -1.02475476e-10  6.18573573e-06 -8.64487864e-11 -1.03723316e-10\n",
      "    6.26106108e-06  8.54087390e-11  1.02475476e-10 -6.18573664e-06\n",
      "    0.00000000e+00  0.00000000e+00  0.00000000e+00  8.64487588e-11\n",
      "    1.03723316e-10 -6.26106017e-06]\n",
      "  [ 0.00000000e+00  0.00000000e+00  0.00000000e+00 -1.18633499e-14\n",
      "   -3.11258014e-15  2.88100843e-10 -5.74470170e-15 -3.15048193e-15\n",
      "    8.54087390e-11  1.18633507e-14  3.11258014e-15 -2.88100871e-10\n",
      "    0.00000000e+00  0.00000000e+00  0.00000000e+00  5.74470087e-15\n",
      "    3.15048193e-15 -8.54087114e-11]\n",
      "  [ 0.00000000e+00  0.00000000e+00  0.00000000e+00  3.11258014e-15\n",
      "   -3.49315617e-28 -1.02475476e-10 -3.11258014e-15  1.81993434e-25\n",
      "    1.02475476e-10  3.11258014e-15 -1.80770829e-25 -1.02475476e-10\n",
      "    0.00000000e+00  0.00000000e+00  0.00000000e+00 -3.11258014e-15\n",
      "   -8.73289025e-28  1.02475476e-10]\n",
      "  [ 0.00000000e+00  0.00000000e+00  0.00000000e+00  2.88100843e-10\n",
      "    1.02475476e-10 -6.11131928e-06  2.91609038e-10  1.03723316e-10\n",
      "   -6.18573664e-06 -2.88100871e-10 -1.02475476e-10  6.11132019e-06\n",
      "    0.00000000e+00  0.00000000e+00  0.00000000e+00 -2.91609011e-10\n",
      "   -1.03723316e-10  6.18573573e-06]\n",
      "  [ 0.00000000e+00  0.00000000e+00  0.00000000e+00  0.00000000e+00\n",
      "    0.00000000e+00  0.00000000e+00  0.00000000e+00  0.00000000e+00\n",
      "    0.00000000e+00  0.00000000e+00  0.00000000e+00  0.00000000e+00\n",
      "    0.00000000e+00  0.00000000e+00  0.00000000e+00  0.00000000e+00\n",
      "    0.00000000e+00  0.00000000e+00]\n",
      "  [ 0.00000000e+00  0.00000000e+00  0.00000000e+00  0.00000000e+00\n",
      "    0.00000000e+00  0.00000000e+00  0.00000000e+00  0.00000000e+00\n",
      "    0.00000000e+00  0.00000000e+00  0.00000000e+00  0.00000000e+00\n",
      "    0.00000000e+00  0.00000000e+00  0.00000000e+00  0.00000000e+00\n",
      "    0.00000000e+00  0.00000000e+00]\n",
      "  [ 0.00000000e+00  0.00000000e+00  0.00000000e+00  0.00000000e+00\n",
      "    0.00000000e+00  0.00000000e+00  0.00000000e+00  0.00000000e+00\n",
      "    0.00000000e+00  0.00000000e+00  0.00000000e+00  0.00000000e+00\n",
      "    0.00000000e+00  0.00000000e+00  0.00000000e+00  0.00000000e+00\n",
      "    0.00000000e+00  0.00000000e+00]\n",
      "  [ 0.00000000e+00  0.00000000e+00  0.00000000e+00 -5.74470170e-15\n",
      "    3.11258014e-15  2.91609038e-10  5.24718765e-16  3.15048193e-15\n",
      "    8.64487588e-11  5.74470087e-15 -3.11258014e-15 -2.91609011e-10\n",
      "    0.00000000e+00  0.00000000e+00  0.00000000e+00 -5.24717927e-16\n",
      "   -3.15048193e-15 -8.64487864e-11]\n",
      "  [ 0.00000000e+00  0.00000000e+00  0.00000000e+00  3.15048193e-15\n",
      "   -1.81294803e-25 -1.03723316e-10 -3.15048193e-15 -3.49315617e-28\n",
      "    1.03723316e-10  3.15048193e-15 -8.73289025e-28 -1.03723316e-10\n",
      "    0.00000000e+00  0.00000000e+00  0.00000000e+00 -3.15048193e-15\n",
      "    1.82529373e-25  1.03723316e-10]\n",
      "  [ 0.00000000e+00  0.00000000e+00  0.00000000e+00  8.54087390e-11\n",
      "   -1.02475476e-10 -6.18573664e-06  8.64487588e-11 -1.03723316e-10\n",
      "   -6.26106017e-06 -8.54087114e-11  1.02475476e-10  6.18573573e-06\n",
      "    0.00000000e+00  0.00000000e+00  0.00000000e+00 -8.64487864e-11\n",
      "    1.03723316e-10  6.26106108e-06]]]\n",
      "{'edge1': (array([501.663507  ,   1.66548573, 236.39222228]), array([  1.66552142, 501.6674913 , 236.37545068])), 'edge2': (array([498.33447858, 501.6674913 , 238.62454932]), array([ -1.663507  ,   1.66548573, 238.60777772]))}\n",
      "min distance is:  [2.2324387]\n",
      "contact type is: ['EdgeToEdge']\n",
      "mask: [[ 3  4  5  6  7  8  0  1  2 15 16 17  9 10 11 12 13 14]]\n",
      "{'edge1': (array([501.663507  ,   1.66548573, 236.39222228]), array([  1.66552142, 501.6674913 , 236.37545068])), 'edge2': (array([498.33447858, 501.6674913 , 238.62454932]), array([ -1.663507  ,   1.66548573, 238.60777772]))}\n",
      "min distance is:  [2.2324387]\n",
      "contact type is: ['EdgeToEdge']\n",
      "mask: [[ 3  4  5  6  7  8  0  1  2 15 16 17  9 10 11 12 13 14]]\n",
      "{'edge1': (array([501.663507  ,   1.66548573, 236.39222228]), array([  1.66552142, 501.6674913 , 236.37545068])), 'edge2': (array([498.33447858, 501.6674913 , 238.62454932]), array([ -1.663507  ,   1.66548573, 238.60777772]))}\n",
      "min distance is:  [2.2324387]\n",
      "contact type is: ['EdgeToEdge']\n",
      "mask: [[ 3  4  5  6  7  8  0  1  2 15 16 17  9 10 11 12 13 14]]\n",
      "Delta: [2.2324387]\n",
      "upper limit for quadratic: 1.75\n",
      "upper limit for smooth: 2.25\n",
      "Branch 2 (smooth): [2.2324387]\n",
      "gradE is: [[-0.00000000e+00 -0.00000000e+00 -0.00000000e+00 -2.13747970e-16\n",
      "   5.43176436e-27  6.37229311e-12 -2.16613287e-16  5.51042178e-27\n",
      "   6.45771445e-12  2.13747970e-16 -5.43058974e-27 -6.37229311e-12\n",
      "  -0.00000000e+00 -0.00000000e+00 -0.00000000e+00  2.16613287e-16\n",
      "  -5.50966216e-27 -6.45771445e-12]]\n",
      "hessE is: [[[ 0.00000000e+00  0.00000000e+00  0.00000000e+00  0.00000000e+00\n",
      "    0.00000000e+00  0.00000000e+00  0.00000000e+00  0.00000000e+00\n",
      "    0.00000000e+00  0.00000000e+00  0.00000000e+00  0.00000000e+00\n",
      "    0.00000000e+00  0.00000000e+00  0.00000000e+00  0.00000000e+00\n",
      "    0.00000000e+00  0.00000000e+00]\n",
      "  [ 0.00000000e+00  0.00000000e+00  0.00000000e+00  0.00000000e+00\n",
      "    0.00000000e+00  0.00000000e+00  0.00000000e+00  0.00000000e+00\n",
      "    0.00000000e+00  0.00000000e+00  0.00000000e+00  0.00000000e+00\n",
      "    0.00000000e+00  0.00000000e+00  0.00000000e+00  0.00000000e+00\n",
      "    0.00000000e+00  0.00000000e+00]\n",
      "  [ 0.00000000e+00  0.00000000e+00  0.00000000e+00  0.00000000e+00\n",
      "    0.00000000e+00  0.00000000e+00  0.00000000e+00  0.00000000e+00\n",
      "    0.00000000e+00  0.00000000e+00  0.00000000e+00  0.00000000e+00\n",
      "    0.00000000e+00  0.00000000e+00  0.00000000e+00  0.00000000e+00\n",
      "    0.00000000e+00  0.00000000e+00]\n",
      "  [ 0.00000000e+00  0.00000000e+00  0.00000000e+00  4.27411237e-16\n",
      "   -1.06873556e-16 -9.55590165e-12  2.17959175e-16 -1.08306209e-16\n",
      "   -3.26896809e-12 -4.27411205e-16  1.06873556e-16  9.55590069e-12\n",
      "    0.00000000e+00  0.00000000e+00  0.00000000e+00 -2.17959207e-16\n",
      "    1.08306209e-16  3.26896905e-12]\n",
      "  [ 0.00000000e+00  0.00000000e+00  0.00000000e+00 -1.06873556e-16\n",
      "    5.43371956e-27  3.18613378e-12  1.06873556e-16  2.71685980e-29\n",
      "   -3.18613377e-12 -1.06873556e-16 -1.37946907e-37  3.18613377e-12\n",
      "    0.00000000e+00  0.00000000e+00  0.00000000e+00  1.06873556e-16\n",
      "   -5.47175560e-27 -3.18613378e-12]\n",
      "  [ 0.00000000e+00  0.00000000e+00  0.00000000e+00 -9.55590165e-12\n",
      "    3.18613378e-12  1.89895907e-07 -9.68399772e-12  3.22884427e-12\n",
      "    1.92441427e-07  9.55590069e-12 -3.18613378e-12 -1.89895879e-07\n",
      "    0.00000000e+00  0.00000000e+00  0.00000000e+00  9.68399868e-12\n",
      "   -3.22884427e-12 -1.92441456e-07]\n",
      "  [ 0.00000000e+00  0.00000000e+00  0.00000000e+00  2.17959175e-16\n",
      "    1.06873556e-16 -9.68399772e-12  2.81498023e-18  1.08306209e-16\n",
      "   -3.31279093e-12 -2.17959207e-16 -1.06873556e-16  9.68399868e-12\n",
      "    0.00000000e+00  0.00000000e+00  0.00000000e+00 -2.81494800e-18\n",
      "   -1.08306209e-16  3.31278997e-12]\n",
      "  [ 0.00000000e+00  0.00000000e+00  0.00000000e+00 -1.08306209e-16\n",
      "    3.26023175e-29  3.22884427e-12  1.08306209e-16 -5.50435792e-27\n",
      "   -3.22884427e-12 -1.08306209e-16  5.47175560e-27  3.22884427e-12\n",
      "    0.00000000e+00  0.00000000e+00  0.00000000e+00  1.08306209e-16\n",
      "   -1.41982188e-37 -3.22884427e-12]\n",
      "  [ 0.00000000e+00  0.00000000e+00  0.00000000e+00 -3.26896809e-12\n",
      "   -3.18613377e-12  1.92441427e-07 -3.31279093e-12 -3.22884427e-12\n",
      "    1.95021185e-07  3.26896905e-12  3.18613377e-12 -1.92441456e-07\n",
      "    0.00000000e+00  0.00000000e+00  0.00000000e+00  3.31278997e-12\n",
      "    3.22884427e-12 -1.95021156e-07]\n",
      "  [ 0.00000000e+00  0.00000000e+00  0.00000000e+00 -4.27411205e-16\n",
      "   -1.06873556e-16  9.55590069e-12 -2.17959207e-16 -1.08306209e-16\n",
      "    3.26896905e-12  4.27411237e-16  1.06873556e-16 -9.55590165e-12\n",
      "    0.00000000e+00  0.00000000e+00  0.00000000e+00  2.17959175e-16\n",
      "    1.08306209e-16 -3.26896809e-12]\n",
      "  [ 0.00000000e+00  0.00000000e+00  0.00000000e+00  1.06873556e-16\n",
      "    5.43371942e-30 -3.18613378e-12 -1.06873556e-16  5.46088816e-27\n",
      "    3.18613377e-12  1.06873556e-16 -5.42285212e-27 -3.18613377e-12\n",
      "    0.00000000e+00  0.00000000e+00  0.00000000e+00 -1.06873556e-16\n",
      "   -4.34697564e-29  3.18613378e-12]\n",
      "  [ 0.00000000e+00  0.00000000e+00  0.00000000e+00  9.55590069e-12\n",
      "    3.18613377e-12 -1.89895879e-07  9.68399868e-12  3.22884427e-12\n",
      "   -1.92441456e-07 -9.55590165e-12 -3.18613377e-12  1.89895907e-07\n",
      "    0.00000000e+00  0.00000000e+00  0.00000000e+00 -9.68399772e-12\n",
      "   -3.22884427e-12  1.92441427e-07]\n",
      "  [ 0.00000000e+00  0.00000000e+00  0.00000000e+00  0.00000000e+00\n",
      "    0.00000000e+00  0.00000000e+00  0.00000000e+00  0.00000000e+00\n",
      "    0.00000000e+00  0.00000000e+00  0.00000000e+00  0.00000000e+00\n",
      "    0.00000000e+00  0.00000000e+00  0.00000000e+00  0.00000000e+00\n",
      "    0.00000000e+00  0.00000000e+00]\n",
      "  [ 0.00000000e+00  0.00000000e+00  0.00000000e+00  0.00000000e+00\n",
      "    0.00000000e+00  0.00000000e+00  0.00000000e+00  0.00000000e+00\n",
      "    0.00000000e+00  0.00000000e+00  0.00000000e+00  0.00000000e+00\n",
      "    0.00000000e+00  0.00000000e+00  0.00000000e+00  0.00000000e+00\n",
      "    0.00000000e+00  0.00000000e+00]\n",
      "  [ 0.00000000e+00  0.00000000e+00  0.00000000e+00  0.00000000e+00\n",
      "    0.00000000e+00  0.00000000e+00  0.00000000e+00  0.00000000e+00\n",
      "    0.00000000e+00  0.00000000e+00  0.00000000e+00  0.00000000e+00\n",
      "    0.00000000e+00  0.00000000e+00  0.00000000e+00  0.00000000e+00\n",
      "    0.00000000e+00  0.00000000e+00]\n",
      "  [ 0.00000000e+00  0.00000000e+00  0.00000000e+00 -2.17959207e-16\n",
      "    1.06873556e-16  9.68399868e-12 -2.81494800e-18  1.08306209e-16\n",
      "    3.31278997e-12  2.17959175e-16 -1.06873556e-16 -9.68399772e-12\n",
      "    0.00000000e+00  0.00000000e+00  0.00000000e+00  2.81498023e-18\n",
      "   -1.08306209e-16 -3.31279093e-12]\n",
      "  [ 0.00000000e+00  0.00000000e+00  0.00000000e+00  1.08306209e-16\n",
      "   -5.47718932e-27 -3.22884427e-12 -1.08306209e-16  5.43371942e-30\n",
      "    3.22884427e-12  1.08306209e-16 -4.34697564e-29 -3.22884427e-12\n",
      "    0.00000000e+00  0.00000000e+00  0.00000000e+00 -1.08306209e-16\n",
      "    5.51361106e-27  3.22884427e-12]\n",
      "  [ 0.00000000e+00  0.00000000e+00  0.00000000e+00  3.26896905e-12\n",
      "   -3.18613378e-12 -1.92441456e-07  3.31278997e-12 -3.22884427e-12\n",
      "   -1.95021156e-07 -3.26896809e-12  3.18613378e-12  1.92441427e-07\n",
      "    0.00000000e+00  0.00000000e+00  0.00000000e+00 -3.31279093e-12\n",
      "    3.22884427e-12  1.95021185e-07]]]\n",
      "{'edge1': (array([501.66320522,   1.66518735, 236.39193857]), array([  1.66522303, 501.66718801, 236.37516625])), 'edge2': (array([498.33477697, 501.66718801, 238.62483375]), array([ -1.66320522,   1.66518735, 238.60806143]))}\n",
      "min distance is:  [2.23300683]\n",
      "contact type is: ['EdgeToEdge']\n",
      "mask: [[ 3  4  5  6  7  8  0  1  2 15 16 17  9 10 11 12 13 14]]\n",
      "{'edge1': (array([501.66320522,   1.66518735, 236.39193857]), array([  1.66522303, 501.66718801, 236.37516625])), 'edge2': (array([498.33477697, 501.66718801, 238.62483375]), array([ -1.66320522,   1.66518735, 238.60806143]))}\n",
      "min distance is:  [2.23300683]\n",
      "contact type is: ['EdgeToEdge']\n",
      "mask: [[ 3  4  5  6  7  8  0  1  2 15 16 17  9 10 11 12 13 14]]\n",
      "{'edge1': (array([501.66320522,   1.66518735, 236.39193857]), array([  1.66522303, 501.66718801, 236.37516625])), 'edge2': (array([498.33477697, 501.66718801, 238.62483375]), array([ -1.66320522,   1.66518735, 238.60806143]))}\n",
      "min distance is:  [2.23300683]\n",
      "contact type is: ['EdgeToEdge']\n",
      "mask: [[ 3  4  5  6  7  8  0  1  2 15 16 17  9 10 11 12 13 14]]\n",
      "Delta: [2.23300683]\n",
      "upper limit for quadratic: 1.75\n",
      "upper limit for smooth: 2.25\n",
      "Branch 2 (smooth): [2.23300683]\n",
      "gradE is: [[-0.00000000e+00 -0.00000000e+00 -0.00000000e+00 -1.99669919e-16\n",
      "   5.24285063e-27  5.95234077e-12 -2.02346032e-16  5.31897759e-27\n",
      "   6.03211812e-12  1.99669919e-16 -5.24420743e-27 -5.95234077e-12\n",
      "  -0.00000000e+00 -0.00000000e+00 -0.00000000e+00  2.02346032e-16\n",
      "  -5.31561466e-27 -6.03211812e-12]]\n",
      "hessE is: [[[ 0.00000000e+00  0.00000000e+00  0.00000000e+00  0.00000000e+00\n",
      "    0.00000000e+00  0.00000000e+00  0.00000000e+00  0.00000000e+00\n",
      "    0.00000000e+00  0.00000000e+00  0.00000000e+00  0.00000000e+00\n",
      "    0.00000000e+00  0.00000000e+00  0.00000000e+00  0.00000000e+00\n",
      "    0.00000000e+00  0.00000000e+00]\n",
      "  [ 0.00000000e+00  0.00000000e+00  0.00000000e+00  0.00000000e+00\n",
      "    0.00000000e+00  0.00000000e+00  0.00000000e+00  0.00000000e+00\n",
      "    0.00000000e+00  0.00000000e+00  0.00000000e+00  0.00000000e+00\n",
      "    0.00000000e+00  0.00000000e+00  0.00000000e+00  0.00000000e+00\n",
      "    0.00000000e+00  0.00000000e+00]\n",
      "  [ 0.00000000e+00  0.00000000e+00  0.00000000e+00  0.00000000e+00\n",
      "    0.00000000e+00  0.00000000e+00  0.00000000e+00  0.00000000e+00\n",
      "    0.00000000e+00  0.00000000e+00  0.00000000e+00  0.00000000e+00\n",
      "    0.00000000e+00  0.00000000e+00  0.00000000e+00  0.00000000e+00\n",
      "    0.00000000e+00  0.00000000e+00]\n",
      "  [ 0.00000000e+00  0.00000000e+00  0.00000000e+00  3.99269510e-16\n",
      "   -9.98345602e-17 -8.92640260e-12  2.03611946e-16 -1.01172611e-16\n",
      "   -3.05378493e-12 -3.99269480e-16  9.98345602e-17  8.92640170e-12\n",
      "    0.00000000e+00  0.00000000e+00  0.00000000e+00 -2.03611976e-16\n",
      "    1.01172611e-16  3.05378582e-12]\n",
      "  [ 0.00000000e+00  0.00000000e+00  0.00000000e+00 -9.98345602e-17\n",
      "    5.24818671e-27  2.97615848e-12  9.98345601e-17  3.55293106e-29\n",
      "   -2.97615848e-12 -9.98345601e-17 -5.07561591e-30  2.97615848e-12\n",
      "    0.00000000e+00  0.00000000e+00  0.00000000e+00  9.98345602e-17\n",
      "   -5.27356479e-27 -2.97615848e-12]\n",
      "  [ 0.00000000e+00  0.00000000e+00  0.00000000e+00 -8.92640260e-12\n",
      "    2.97615848e-12  1.77381442e-07 -9.04603856e-12  3.01604699e-12\n",
      "    1.79758776e-07  8.92640170e-12 -2.97615848e-12 -1.77381416e-07\n",
      "    0.00000000e+00  0.00000000e+00  0.00000000e+00  9.04603946e-12\n",
      "   -3.01604699e-12 -1.79758803e-07]\n",
      "  [ 0.00000000e+00  0.00000000e+00  0.00000000e+00  2.03611946e-16\n",
      "    9.98345601e-17 -9.04603856e-12  2.63810936e-18  1.01172611e-16\n",
      "   -3.09471566e-12 -2.03611976e-16 -9.98345601e-17  9.04603946e-12\n",
      "    0.00000000e+00  0.00000000e+00  0.00000000e+00 -2.63807925e-18\n",
      "   -1.01172611e-16  3.09471476e-12]\n",
      "  [ 0.00000000e+00  0.00000000e+00  0.00000000e+00 -1.01172611e-16\n",
      "    3.04536948e-29  3.01604699e-12  1.01172611e-16 -5.30909410e-27\n",
      "   -3.01604699e-12 -1.01172611e-16  5.28371602e-27  3.01604699e-12\n",
      "    0.00000000e+00  0.00000000e+00  0.00000000e+00  1.01172611e-16\n",
      "   -5.07561592e-30 -3.01604699e-12]\n",
      "  [ 0.00000000e+00  0.00000000e+00  0.00000000e+00 -3.05378493e-12\n",
      "   -2.97615848e-12  1.79758776e-07 -3.09471566e-12 -3.01604699e-12\n",
      "    1.82168081e-07  3.05378582e-12  2.97615848e-12 -1.79758803e-07\n",
      "    0.00000000e+00  0.00000000e+00  0.00000000e+00  3.09471476e-12\n",
      "    3.01604699e-12 -1.82168054e-07]\n",
      "  [ 0.00000000e+00  0.00000000e+00  0.00000000e+00 -3.99269480e-16\n",
      "   -9.98345601e-17  8.92640170e-12 -2.03611976e-16 -1.01172611e-16\n",
      "    3.05378582e-12  3.99269510e-16  9.98345601e-17 -8.92640260e-12\n",
      "    0.00000000e+00  0.00000000e+00  0.00000000e+00  2.03611946e-16\n",
      "    1.01172611e-16 -3.05378493e-12]\n",
      "  [ 0.00000000e+00  0.00000000e+00  0.00000000e+00  9.98345602e-17\n",
      "   -5.07561591e-30 -2.97615848e-12 -9.98345601e-17  5.28371602e-27\n",
      "    2.97615848e-12  9.98345601e-17 -5.24311109e-27 -2.97615848e-12\n",
      "    0.00000000e+00  0.00000000e+00  0.00000000e+00 -9.98345602e-17\n",
      "   -3.55293103e-29  2.97615848e-12]\n",
      "  [ 0.00000000e+00  0.00000000e+00  0.00000000e+00  8.92640170e-12\n",
      "    2.97615848e-12 -1.77381416e-07  9.04603946e-12  3.01604699e-12\n",
      "   -1.79758803e-07 -8.92640260e-12 -2.97615848e-12  1.77381442e-07\n",
      "    0.00000000e+00  0.00000000e+00  0.00000000e+00 -9.04603856e-12\n",
      "   -3.01604699e-12  1.79758776e-07]\n",
      "  [ 0.00000000e+00  0.00000000e+00  0.00000000e+00  0.00000000e+00\n",
      "    0.00000000e+00  0.00000000e+00  0.00000000e+00  0.00000000e+00\n",
      "    0.00000000e+00  0.00000000e+00  0.00000000e+00  0.00000000e+00\n",
      "    0.00000000e+00  0.00000000e+00  0.00000000e+00  0.00000000e+00\n",
      "    0.00000000e+00  0.00000000e+00]\n",
      "  [ 0.00000000e+00  0.00000000e+00  0.00000000e+00  0.00000000e+00\n",
      "    0.00000000e+00  0.00000000e+00  0.00000000e+00  0.00000000e+00\n",
      "    0.00000000e+00  0.00000000e+00  0.00000000e+00  0.00000000e+00\n",
      "    0.00000000e+00  0.00000000e+00  0.00000000e+00  0.00000000e+00\n",
      "    0.00000000e+00  0.00000000e+00]\n",
      "  [ 0.00000000e+00  0.00000000e+00  0.00000000e+00  0.00000000e+00\n",
      "    0.00000000e+00  0.00000000e+00  0.00000000e+00  0.00000000e+00\n",
      "    0.00000000e+00  0.00000000e+00  0.00000000e+00  0.00000000e+00\n",
      "    0.00000000e+00  0.00000000e+00  0.00000000e+00  0.00000000e+00\n",
      "    0.00000000e+00  0.00000000e+00]\n",
      "  [ 0.00000000e+00  0.00000000e+00  0.00000000e+00 -2.03611976e-16\n",
      "    9.98345602e-17  9.04603946e-12 -2.63807925e-18  1.01172611e-16\n",
      "    3.09471476e-12  2.03611946e-16 -9.98345602e-17 -9.04603856e-12\n",
      "    0.00000000e+00  0.00000000e+00  0.00000000e+00  2.63810936e-18\n",
      "   -1.01172611e-16 -3.09471566e-12]\n",
      "  [ 0.00000000e+00  0.00000000e+00  0.00000000e+00  1.01172611e-16\n",
      "   -5.27356479e-27 -3.01604699e-12 -1.01172611e-16 -5.07561592e-30\n",
      "    3.01604699e-12  1.01172611e-16 -3.55293103e-29 -3.01604699e-12\n",
      "    0.00000000e+00  0.00000000e+00  0.00000000e+00 -1.01172611e-16\n",
      "    5.31389927e-27  3.01604699e-12]\n",
      "  [ 0.00000000e+00  0.00000000e+00  0.00000000e+00  3.05378582e-12\n",
      "   -2.97615848e-12 -1.79758803e-07  3.09471476e-12 -3.01604699e-12\n",
      "   -1.82168054e-07 -3.05378493e-12  2.97615848e-12  1.79758776e-07\n",
      "    0.00000000e+00  0.00000000e+00  0.00000000e+00 -3.09471566e-12\n",
      "    3.01604699e-12  1.82168081e-07]]]\n",
      "{'edge1': (array([501.81408577,   1.8162415 , 235.12771226]), array([  1.81628045, 501.81842728, 235.1093538 ])), 'edge2': (array([498.18371955, 501.81842728, 237.3906462 ]), array([ -1.81408577,   1.8162415 , 237.37228774]))}\n",
      "min distance is:  [2.26306723]\n",
      "contact type is: ['EdgeToEdge']\n",
      "mask: [[ 3  4  5  6  7  8  0  1  2 15 16 17  9 10 11 12 13 14]]\n",
      "{'edge1': (array([501.81408577,   1.8162415 , 235.12771226]), array([  1.81628045, 501.81842728, 235.1093538 ])), 'edge2': (array([498.18371955, 501.81842728, 237.3906462 ]), array([ -1.81408577,   1.8162415 , 237.37228774]))}\n",
      "min distance is:  [2.26306723]\n",
      "contact type is: ['EdgeToEdge']\n",
      "mask: [[ 3  4  5  6  7  8  0  1  2 15 16 17  9 10 11 12 13 14]]\n",
      "{'edge1': (array([501.81408577,   1.8162415 , 235.12771226]), array([  1.81628045, 501.81842728, 235.1093538 ])), 'edge2': (array([498.18371955, 501.81842728, 237.3906462 ]), array([ -1.81408577,   1.8162415 , 237.37228774]))}\n",
      "min distance is:  [2.26306723]\n",
      "contact type is: ['EdgeToEdge']\n",
      "mask: [[ 3  4  5  6  7  8  0  1  2 15 16 17  9 10 11 12 13 14]]\n",
      "Delta: [2.26306723]\n",
      "upper limit for quadratic: 1.75\n",
      "upper limit for smooth: 2.25\n",
      "{'edge1': (array([501.81378346,   1.81594258, 235.12742969]), array([  1.81598153, 501.81812345, 235.10907051])), 'edge2': (array([498.18401847, 501.81812345, 237.39092949]), array([ -1.81378346,   1.81594258, 237.37257031]))}\n",
      "min distance is:  [2.26363308]\n",
      "contact type is: ['EdgeToEdge']\n",
      "mask: [[ 3  4  5  6  7  8  0  1  2 15 16 17  9 10 11 12 13 14]]\n",
      "{'edge1': (array([501.81378346,   1.81594258, 235.12742969]), array([  1.81598153, 501.81812345, 235.10907051])), 'edge2': (array([498.18401847, 501.81812345, 237.39092949]), array([ -1.81378346,   1.81594258, 237.37257031]))}\n",
      "min distance is:  [2.26363308]\n",
      "contact type is: ['EdgeToEdge']\n",
      "mask: [[ 3  4  5  6  7  8  0  1  2 15 16 17  9 10 11 12 13 14]]\n",
      "{'edge1': (array([501.81378346,   1.81594258, 235.12742969]), array([  1.81598153, 501.81812345, 235.10907051])), 'edge2': (array([498.18401847, 501.81812345, 237.39092949]), array([ -1.81378346,   1.81594258, 237.37257031]))}\n",
      "min distance is:  [2.26363308]\n",
      "contact type is: ['EdgeToEdge']\n",
      "mask: [[ 3  4  5  6  7  8  0  1  2 15 16 17  9 10 11 12 13 14]]\n",
      "Delta: [2.26363308]\n",
      "upper limit for quadratic: 1.75\n",
      "upper limit for smooth: 2.25\n",
      "{'edge1': (array([501.96405627,   1.96638747, 233.86263636]), array([  1.96642968, 501.96875191, 233.84268961])), 'edge2': (array([498.03357032, 501.96875191, 236.15731039]), array([ -1.96405627,   1.96638747, 236.13736364]))}\n",
      "min distance is:  [2.29483083]\n",
      "contact type is: ['EdgeToEdge']\n",
      "mask: [[ 3  4  5  6  7  8  0  1  2 15 16 17  9 10 11 12 13 14]]\n",
      "{'edge1': (array([501.96405627,   1.96638747, 233.86263636]), array([  1.96642968, 501.96875191, 233.84268961])), 'edge2': (array([498.03357032, 501.96875191, 236.15731039]), array([ -1.96405627,   1.96638747, 236.13736364]))}\n",
      "min distance is:  [2.29483083]\n",
      "contact type is: ['EdgeToEdge']\n",
      "mask: [[ 3  4  5  6  7  8  0  1  2 15 16 17  9 10 11 12 13 14]]\n",
      "{'edge1': (array([501.96405627,   1.96638747, 233.86263636]), array([  1.96642968, 501.96875191, 233.84268961])), 'edge2': (array([498.03357032, 501.96875191, 236.15731039]), array([ -1.96405627,   1.96638747, 236.13736364]))}\n",
      "min distance is:  [2.29483083]\n",
      "contact type is: ['EdgeToEdge']\n",
      "mask: [[ 3  4  5  6  7  8  0  1  2 15 16 17  9 10 11 12 13 14]]\n",
      "Delta: [2.29483083]\n",
      "upper limit for quadratic: 1.75\n",
      "upper limit for smooth: 2.25\n",
      "{'edge1': (array([501.96375343,   1.96608803, 233.86235493]), array([  1.96613023, 501.96844756, 233.84240746])), 'edge2': (array([498.03386977, 501.96844756, 236.15759254]), array([ -1.96375343,   1.96608803, 236.13764507]))}\n",
      "min distance is:  [2.29539439]\n",
      "contact type is: ['EdgeToEdge']\n",
      "mask: [[ 3  4  5  6  7  8  0  1  2 15 16 17  9 10 11 12 13 14]]\n",
      "{'edge1': (array([501.96375343,   1.96608803, 233.86235493]), array([  1.96613023, 501.96844756, 233.84240746])), 'edge2': (array([498.03386977, 501.96844756, 236.15759254]), array([ -1.96375343,   1.96608803, 236.13764507]))}\n",
      "min distance is:  [2.29539439]\n",
      "contact type is: ['EdgeToEdge']\n",
      "mask: [[ 3  4  5  6  7  8  0  1  2 15 16 17  9 10 11 12 13 14]]\n",
      "{'edge1': (array([501.96375343,   1.96608803, 233.86235493]), array([  1.96613023, 501.96844756, 233.84240746])), 'edge2': (array([498.03386977, 501.96844756, 236.15759254]), array([ -1.96375343,   1.96608803, 236.13764507]))}\n",
      "min distance is:  [2.29539439]\n",
      "contact type is: ['EdgeToEdge']\n",
      "mask: [[ 3  4  5  6  7  8  0  1  2 15 16 17  9 10 11 12 13 14]]\n",
      "Delta: [2.29539439]\n",
      "upper limit for quadratic: 1.75\n",
      "upper limit for smooth: 2.25\n",
      "{'edge1': (array([502.11341743,   2.11592259, 232.5969969 ]), array([  2.11596803, 502.11846415, 232.57546042])), 'edge2': (array([497.88403197, 502.11846415, 234.92453958]), array([ -2.11341743,   2.11592259, 234.9030031 ]))}\n",
      "min distance is:  [2.32772485]\n",
      "contact type is: ['EdgeToEdge']\n",
      "mask: [[ 3  4  5  6  7  8  0  1  2 15 16 17  9 10 11 12 13 14]]\n",
      "{'edge1': (array([502.11341743,   2.11592259, 232.5969969 ]), array([  2.11596803, 502.11846415, 232.57546042])), 'edge2': (array([497.88403197, 502.11846415, 234.92453958]), array([ -2.11341743,   2.11592259, 234.9030031 ]))}\n",
      "min distance is:  [2.32772485]\n",
      "contact type is: ['EdgeToEdge']\n",
      "mask: [[ 3  4  5  6  7  8  0  1  2 15 16 17  9 10 11 12 13 14]]\n",
      "{'edge1': (array([502.11341743,   2.11592259, 232.5969969 ]), array([  2.11596803, 502.11846415, 232.57546042])), 'edge2': (array([497.88403197, 502.11846415, 234.92453958]), array([ -2.11341743,   2.11592259, 234.9030031 ]))}\n",
      "min distance is:  [2.32772485]\n",
      "contact type is: ['EdgeToEdge']\n",
      "mask: [[ 3  4  5  6  7  8  0  1  2 15 16 17  9 10 11 12 13 14]]\n",
      "Delta: [2.32772485]\n",
      "upper limit for quadratic: 1.75\n",
      "upper limit for smooth: 2.25\n",
      "{'edge1': (array([502.11311407,   2.11562262, 232.59671661]), array([  2.11566805, 502.11815926, 232.57517942])), 'edge2': (array([497.88433195, 502.11815926, 234.92482058]), array([ -2.11311407,   2.11562262, 234.90328339]))}\n",
      "min distance is:  [2.32828612]\n",
      "contact type is: ['EdgeToEdge']\n",
      "mask: [[ 3  4  5  6  7  8  0  1  2 15 16 17  9 10 11 12 13 14]]\n",
      "{'edge1': (array([502.11311407,   2.11562262, 232.59671661]), array([  2.11566805, 502.11815926, 232.57517942])), 'edge2': (array([497.88433195, 502.11815926, 234.92482058]), array([ -2.11311407,   2.11562262, 234.90328339]))}\n",
      "min distance is:  [2.32828612]\n",
      "contact type is: ['EdgeToEdge']\n",
      "mask: [[ 3  4  5  6  7  8  0  1  2 15 16 17  9 10 11 12 13 14]]\n",
      "{'edge1': (array([502.11311407,   2.11562262, 232.59671661]), array([  2.11566805, 502.11815926, 232.57517942])), 'edge2': (array([497.88433195, 502.11815926, 234.92482058]), array([ -2.11311407,   2.11562262, 234.90328339]))}\n",
      "min distance is:  [2.32828612]\n",
      "contact type is: ['EdgeToEdge']\n",
      "mask: [[ 3  4  5  6  7  8  0  1  2 15 16 17  9 10 11 12 13 14]]\n",
      "Delta: [2.32828612]\n",
      "upper limit for quadratic: 1.75\n",
      "upper limit for smooth: 2.25\n",
      "{'edge1': (array([502.26216822,   2.2648458 , 231.33079619]), array([  2.26489444, 502.26756292, 231.30766857])), 'edge2': (array([497.73510556, 502.26756292, 233.69233143]), array([ -2.26216822,   2.2648458 , 233.66920381]))}\n",
      "min distance is:  [2.36174464]\n",
      "contact type is: ['EdgeToEdge']\n",
      "mask: [[ 3  4  5  6  7  8  0  1  2 15 16 17  9 10 11 12 13 14]]\n",
      "{'edge1': (array([502.26216822,   2.2648458 , 231.33079619]), array([  2.26489444, 502.26756292, 231.30766857])), 'edge2': (array([497.73510556, 502.26756292, 233.69233143]), array([ -2.26216822,   2.2648458 , 233.66920381]))}\n",
      "min distance is:  [2.36174464]\n",
      "contact type is: ['EdgeToEdge']\n",
      "mask: [[ 3  4  5  6  7  8  0  1  2 15 16 17  9 10 11 12 13 14]]\n",
      "{'edge1': (array([502.26216822,   2.2648458 , 231.33079619]), array([  2.26489444, 502.26756292, 231.30766857])), 'edge2': (array([497.73510556, 502.26756292, 233.69233143]), array([ -2.26216822,   2.2648458 , 233.66920381]))}\n",
      "min distance is:  [2.36174464]\n",
      "contact type is: ['EdgeToEdge']\n",
      "mask: [[ 3  4  5  6  7  8  0  1  2 15 16 17  9 10 11 12 13 14]]\n",
      "Delta: [2.36174464]\n",
      "upper limit for quadratic: 1.75\n",
      "upper limit for smooth: 2.25\n",
      "{'edge1': (array([502.26186433,   2.2645453 , 231.33051705]), array([  2.26459394, 502.26725751, 231.30738872])), 'edge2': (array([497.73540606, 502.26725751, 233.69261128]), array([ -2.26186433,   2.2645453 , 233.66948295]))}\n",
      "min distance is:  [2.36230361]\n",
      "contact type is: ['EdgeToEdge']\n",
      "mask: [[ 3  4  5  6  7  8  0  1  2 15 16 17  9 10 11 12 13 14]]\n",
      "{'edge1': (array([502.26186433,   2.2645453 , 231.33051705]), array([  2.26459394, 502.26725751, 231.30738872])), 'edge2': (array([497.73540606, 502.26725751, 233.69261128]), array([ -2.26186433,   2.2645453 , 233.66948295]))}\n",
      "min distance is:  [2.36230361]\n",
      "contact type is: ['EdgeToEdge']\n",
      "mask: [[ 3  4  5  6  7  8  0  1  2 15 16 17  9 10 11 12 13 14]]\n",
      "{'edge1': (array([502.26186433,   2.2645453 , 231.33051705]), array([  2.26459394, 502.26725751, 231.30738872])), 'edge2': (array([497.73540606, 502.26725751, 233.69261128]), array([ -2.26186433,   2.2645453 , 233.66948295]))}\n",
      "min distance is:  [2.36230361]\n",
      "contact type is: ['EdgeToEdge']\n",
      "mask: [[ 3  4  5  6  7  8  0  1  2 15 16 17  9 10 11 12 13 14]]\n",
      "Delta: [2.36230361]\n",
      "upper limit for quadratic: 1.75\n",
      "upper limit for smooth: 2.25\n",
      "{'edge1': (array([502.41030757,   2.41315605, 230.06403656]), array([  2.41320788, 502.41604717, 230.03931637])), 'edge2': (array([497.58679212, 502.41604717, 232.46068363]), array([ -2.41030757,   2.41315605, 232.43596344]))}\n",
      "min distance is:  [2.39688554]\n",
      "contact type is: ['EdgeToEdge']\n",
      "mask: [[ 3  4  5  6  7  8  0  1  2 15 16 17  9 10 11 12 13 14]]\n",
      "{'edge1': (array([502.41030757,   2.41315605, 230.06403656]), array([  2.41320788, 502.41604717, 230.03931637])), 'edge2': (array([497.58679212, 502.41604717, 232.46068363]), array([ -2.41030757,   2.41315605, 232.43596344]))}\n",
      "min distance is:  [2.39688554]\n",
      "contact type is: ['EdgeToEdge']\n",
      "mask: [[ 3  4  5  6  7  8  0  1  2 15 16 17  9 10 11 12 13 14]]\n",
      "{'edge1': (array([502.41030757,   2.41315605, 230.06403656]), array([  2.41320788, 502.41604717, 230.03931637])), 'edge2': (array([497.58679212, 502.41604717, 232.46068363]), array([ -2.41030757,   2.41315605, 232.43596344]))}\n",
      "min distance is:  [2.39688554]\n",
      "contact type is: ['EdgeToEdge']\n",
      "mask: [[ 3  4  5  6  7  8  0  1  2 15 16 17  9 10 11 12 13 14]]\n",
      "Delta: [2.39688554]\n",
      "upper limit for quadratic: 1.75\n",
      "upper limit for smooth: 2.25\n",
      "{'edge1': (array([502.41000316,   2.41285503, 230.06375857]), array([  2.41290685, 502.41574123, 230.03903767])), 'edge2': (array([497.58709315, 502.41574123, 232.46096233]), array([ -2.41000316,   2.41285503, 232.43624143]))}\n",
      "min distance is:  [2.39744222]\n",
      "contact type is: ['EdgeToEdge']\n",
      "mask: [[ 3  4  5  6  7  8  0  1  2 15 16 17  9 10 11 12 13 14]]\n",
      "{'edge1': (array([502.41000316,   2.41285503, 230.06375857]), array([  2.41290685, 502.41574123, 230.03903767])), 'edge2': (array([497.58709315, 502.41574123, 232.46096233]), array([ -2.41000316,   2.41285503, 232.43624143]))}\n",
      "min distance is:  [2.39744222]\n",
      "contact type is: ['EdgeToEdge']\n",
      "mask: [[ 3  4  5  6  7  8  0  1  2 15 16 17  9 10 11 12 13 14]]\n",
      "{'edge1': (array([502.41000316,   2.41285503, 230.06375857]), array([  2.41290685, 502.41574123, 230.03903767])), 'edge2': (array([497.58709315, 502.41574123, 232.46096233]), array([ -2.41000316,   2.41285503, 232.43624143]))}\n",
      "min distance is:  [2.39744222]\n",
      "contact type is: ['EdgeToEdge']\n",
      "mask: [[ 3  4  5  6  7  8  0  1  2 15 16 17  9 10 11 12 13 14]]\n",
      "Delta: [2.39744222]\n",
      "upper limit for quadratic: 1.75\n",
      "upper limit for smooth: 2.25\n",
      "{'edge1': (array([502.55783444,   2.56085229, 228.79672033]), array([  2.56090728, 502.56391585, 228.77040616])), 'edge2': (array([497.43909272, 502.56391585, 231.22959384]), array([ -2.55783444,   2.56085229, 231.20327967]))}\n",
      "min distance is:  [2.4331429]\n",
      "contact type is: ['EdgeToEdge']\n",
      "mask: [[ 3  4  5  6  7  8  0  1  2 15 16 17  9 10 11 12 13 14]]\n",
      "{'edge1': (array([502.55783444,   2.56085229, 228.79672033]), array([  2.56090728, 502.56391585, 228.77040616])), 'edge2': (array([497.43909272, 502.56391585, 231.22959384]), array([ -2.55783444,   2.56085229, 231.20327967]))}\n",
      "min distance is:  [2.4331429]\n",
      "contact type is: ['EdgeToEdge']\n",
      "mask: [[ 3  4  5  6  7  8  0  1  2 15 16 17  9 10 11 12 13 14]]\n",
      "{'edge1': (array([502.55783444,   2.56085229, 228.79672033]), array([  2.56090728, 502.56391585, 228.77040616])), 'edge2': (array([497.43909272, 502.56391585, 231.22959384]), array([ -2.55783444,   2.56085229, 231.20327967]))}\n",
      "min distance is:  [2.4331429]\n",
      "contact type is: ['EdgeToEdge']\n",
      "mask: [[ 3  4  5  6  7  8  0  1  2 15 16 17  9 10 11 12 13 14]]\n",
      "Delta: [2.4331429]\n",
      "upper limit for quadratic: 1.75\n",
      "upper limit for smooth: 2.25\n",
      "{'edge1': (array([502.55752952,   2.56055075, 228.79644349]), array([  2.56060573, 502.56360939, 228.77012861])), 'edge2': (array([497.43939427, 502.56360939, 231.22987139]), array([ -2.55752952,   2.56055075, 231.20355651]))}\n",
      "min distance is:  [2.43369727]\n",
      "contact type is: ['EdgeToEdge']\n",
      "mask: [[ 3  4  5  6  7  8  0  1  2 15 16 17  9 10 11 12 13 14]]\n",
      "{'edge1': (array([502.55752952,   2.56055075, 228.79644349]), array([  2.56060573, 502.56360939, 228.77012861])), 'edge2': (array([497.43939427, 502.56360939, 231.22987139]), array([ -2.55752952,   2.56055075, 231.20355651]))}\n",
      "min distance is:  [2.43369727]\n",
      "contact type is: ['EdgeToEdge']\n",
      "mask: [[ 3  4  5  6  7  8  0  1  2 15 16 17  9 10 11 12 13 14]]\n",
      "{'edge1': (array([502.55752952,   2.56055075, 228.79644349]), array([  2.56060573, 502.56360939, 228.77012861])), 'edge2': (array([497.43939427, 502.56360939, 231.22987139]), array([ -2.55752952,   2.56055075, 231.20355651]))}\n",
      "min distance is:  [2.43369727]\n",
      "contact type is: ['EdgeToEdge']\n",
      "mask: [[ 3  4  5  6  7  8  0  1  2 15 16 17  9 10 11 12 13 14]]\n",
      "Delta: [2.43369727]\n",
      "upper limit for quadratic: 1.75\n",
      "upper limit for smooth: 2.25\n",
      "{'edge1': (array([502.70474781,   2.70793348, 227.52884983]), array([  2.70799161, 502.71116792, 227.50094026])), 'edge2': (array([497.29200839, 502.71116792, 229.99905974]), array([ -2.70474781,   2.70793348, 229.97115017]))}\n",
      "min distance is:  [2.47051204]\n",
      "contact type is: ['EdgeToEdge']\n",
      "mask: [[ 3  4  5  6  7  8  0  1  2 15 16 17  9 10 11 12 13 14]]\n",
      "{'edge1': (array([502.70474781,   2.70793348, 227.52884983]), array([  2.70799161, 502.71116792, 227.50094026])), 'edge2': (array([497.29200839, 502.71116792, 229.99905974]), array([ -2.70474781,   2.70793348, 229.97115017]))}\n",
      "min distance is:  [2.47051204]\n",
      "contact type is: ['EdgeToEdge']\n",
      "mask: [[ 3  4  5  6  7  8  0  1  2 15 16 17  9 10 11 12 13 14]]\n",
      "{'edge1': (array([502.70474781,   2.70793348, 227.52884983]), array([  2.70799161, 502.71116792, 227.50094026])), 'edge2': (array([497.29200839, 502.71116792, 229.99905974]), array([ -2.70474781,   2.70793348, 229.97115017]))}\n",
      "min distance is:  [2.47051204]\n",
      "contact type is: ['EdgeToEdge']\n",
      "mask: [[ 3  4  5  6  7  8  0  1  2 15 16 17  9 10 11 12 13 14]]\n",
      "Delta: [2.47051204]\n",
      "upper limit for quadratic: 1.75\n",
      "upper limit for smooth: 2.25\n",
      "{'edge1': (array([502.70444237,   2.70763142, 227.52857414]), array([  2.70768954, 502.71086094, 227.50066387])), 'edge2': (array([497.29231046, 502.71086094, 229.99933613]), array([ -2.70444237,   2.70763142, 229.97142586]))}\n",
      "min distance is:  [2.4710641]\n",
      "contact type is: ['EdgeToEdge']\n",
      "mask: [[ 3  4  5  6  7  8  0  1  2 15 16 17  9 10 11 12 13 14]]\n",
      "{'edge1': (array([502.70444237,   2.70763142, 227.52857414]), array([  2.70768954, 502.71086094, 227.50066387])), 'edge2': (array([497.29231046, 502.71086094, 229.99933613]), array([ -2.70444237,   2.70763142, 229.97142586]))}\n",
      "min distance is:  [2.4710641]\n",
      "contact type is: ['EdgeToEdge']\n",
      "mask: [[ 3  4  5  6  7  8  0  1  2 15 16 17  9 10 11 12 13 14]]\n",
      "{'edge1': (array([502.70444237,   2.70763142, 227.52857414]), array([  2.70768954, 502.71086094, 227.50066387])), 'edge2': (array([497.29231046, 502.71086094, 229.99933613]), array([ -2.70444237,   2.70763142, 229.97142586]))}\n",
      "min distance is:  [2.4710641]\n",
      "contact type is: ['EdgeToEdge']\n",
      "mask: [[ 3  4  5  6  7  8  0  1  2 15 16 17  9 10 11 12 13 14]]\n",
      "Delta: [2.4710641]\n",
      "upper limit for quadratic: 1.75\n",
      "upper limit for smooth: 2.25\n",
      "{'edge1': (array([502.85104662,   2.85439858, 226.2604274 ]), array([  2.85445982, 502.85780233, 226.23092103])), 'edge2': (array([497.14554018, 502.85780233, 228.76907897]), array([ -2.85104662,   2.85439858, 228.7395726 ]))}\n",
      "min distance is:  [2.50898827]\n",
      "contact type is: ['EdgeToEdge']\n",
      "mask: [[ 3  4  5  6  7  8  0  1  2 15 16 17  9 10 11 12 13 14]]\n",
      "{'edge1': (array([502.85104662,   2.85439858, 226.2604274 ]), array([  2.85445982, 502.85780233, 226.23092103])), 'edge2': (array([497.14554018, 502.85780233, 228.76907897]), array([ -2.85104662,   2.85439858, 228.7395726 ]))}\n",
      "min distance is:  [2.50898827]\n",
      "contact type is: ['EdgeToEdge']\n",
      "mask: [[ 3  4  5  6  7  8  0  1  2 15 16 17  9 10 11 12 13 14]]\n",
      "{'edge1': (array([502.85104662,   2.85439858, 226.2604274 ]), array([  2.85445982, 502.85780233, 226.23092103])), 'edge2': (array([497.14554018, 502.85780233, 228.76907897]), array([ -2.85104662,   2.85439858, 228.7395726 ]))}\n",
      "min distance is:  [2.50898827]\n",
      "contact type is: ['EdgeToEdge']\n",
      "mask: [[ 3  4  5  6  7  8  0  1  2 15 16 17  9 10 11 12 13 14]]\n",
      "Delta: [2.50898827]\n",
      "upper limit for quadratic: 1.75\n",
      "upper limit for smooth: 2.25\n",
      "{'edge1': (array([502.85074067,   2.85409601, 226.26015286]), array([  2.85415723, 502.85749483, 226.23064579])), 'edge2': (array([497.14584277, 502.85749483, 228.76935421]), array([ -2.85074067,   2.85409601, 228.73984714]))}\n",
      "min distance is:  [2.50953802]\n",
      "contact type is: ['EdgeToEdge']\n",
      "mask: [[ 3  4  5  6  7  8  0  1  2 15 16 17  9 10 11 12 13 14]]\n",
      "{'edge1': (array([502.85074067,   2.85409601, 226.26015286]), array([  2.85415723, 502.85749483, 226.23064579])), 'edge2': (array([497.14584277, 502.85749483, 228.76935421]), array([ -2.85074067,   2.85409601, 228.73984714]))}\n",
      "min distance is:  [2.50953802]\n",
      "contact type is: ['EdgeToEdge']\n",
      "mask: [[ 3  4  5  6  7  8  0  1  2 15 16 17  9 10 11 12 13 14]]\n",
      "{'edge1': (array([502.85074067,   2.85409601, 226.26015286]), array([  2.85415723, 502.85749483, 226.23064579])), 'edge2': (array([497.14584277, 502.85749483, 228.76935421]), array([ -2.85074067,   2.85409601, 228.73984714]))}\n",
      "min distance is:  [2.50953802]\n",
      "contact type is: ['EdgeToEdge']\n",
      "mask: [[ 3  4  5  6  7  8  0  1  2 15 16 17  9 10 11 12 13 14]]\n",
      "Delta: [2.50953802]\n",
      "upper limit for quadratic: 1.75\n",
      "upper limit for smooth: 2.25\n",
      "{'edge1': (array([502.99672986,   3.00024657, 224.99145536]), array([  3.00031088, 503.00381804, 224.96035079])), 'edge2': (array([496.99968912, 503.00381804, 227.53964921]), array([ -2.99672986,   3.00024657, 227.50854464]))}\n",
      "min distance is:  [2.54856691]\n",
      "contact type is: ['EdgeToEdge']\n",
      "mask: [[ 3  4  5  6  7  8  0  1  2 15 16 17  9 10 11 12 13 14]]\n",
      "{'edge1': (array([502.99672986,   3.00024657, 224.99145536]), array([  3.00031088, 503.00381804, 224.96035079])), 'edge2': (array([496.99968912, 503.00381804, 227.53964921]), array([ -2.99672986,   3.00024657, 227.50854464]))}\n",
      "min distance is:  [2.54856691]\n",
      "contact type is: ['EdgeToEdge']\n",
      "mask: [[ 3  4  5  6  7  8  0  1  2 15 16 17  9 10 11 12 13 14]]\n",
      "{'edge1': (array([502.99672986,   3.00024657, 224.99145536]), array([  3.00031088, 503.00381804, 224.96035079])), 'edge2': (array([496.99968912, 503.00381804, 227.53964921]), array([ -2.99672986,   3.00024657, 227.50854464]))}\n",
      "min distance is:  [2.54856691]\n",
      "contact type is: ['EdgeToEdge']\n",
      "mask: [[ 3  4  5  6  7  8  0  1  2 15 16 17  9 10 11 12 13 14]]\n",
      "Delta: [2.54856691]\n",
      "upper limit for quadratic: 1.75\n",
      "upper limit for smooth: 2.25\n",
      "{'edge1': (array([502.99642339,   2.99994348, 224.99118198]), array([  3.00000778, 503.00351002, 224.96007671])), 'edge2': (array([496.99999222, 503.00351002, 227.53992329]), array([ -2.99642339,   2.99994348, 227.50881802]))}\n",
      "min distance is:  [2.54911435]\n",
      "contact type is: ['EdgeToEdge']\n",
      "mask: [[ 3  4  5  6  7  8  0  1  2 15 16 17  9 10 11 12 13 14]]\n",
      "{'edge1': (array([502.99642339,   2.99994348, 224.99118198]), array([  3.00000778, 503.00351002, 224.96007671])), 'edge2': (array([496.99999222, 503.00351002, 227.53992329]), array([ -2.99642339,   2.99994348, 227.50881802]))}\n",
      "min distance is:  [2.54911435]\n",
      "contact type is: ['EdgeToEdge']\n",
      "mask: [[ 3  4  5  6  7  8  0  1  2 15 16 17  9 10 11 12 13 14]]\n",
      "{'edge1': (array([502.99642339,   2.99994348, 224.99118198]), array([  3.00000778, 503.00351002, 224.96007671])), 'edge2': (array([496.99999222, 503.00351002, 227.53992329]), array([ -2.99642339,   2.99994348, 227.50881802]))}\n",
      "min distance is:  [2.54911435]\n",
      "contact type is: ['EdgeToEdge']\n",
      "mask: [[ 3  4  5  6  7  8  0  1  2 15 16 17  9 10 11 12 13 14]]\n",
      "Delta: [2.54911435]\n",
      "upper limit for quadratic: 1.75\n",
      "upper limit for smooth: 2.25\n",
      "{'edge1': (array([503.14179649,   3.14547641, 223.72193607]), array([  3.14554377, 503.14921402, 223.6892319 ])), 'edge2': (array([496.85445623, 503.14921402, 226.3107681 ]), array([ -3.14179649,   3.14547641, 226.27806393]))}\n",
      "min distance is:  [2.58924327]\n",
      "contact type is: ['EdgeToEdge']\n",
      "mask: [[ 3  4  5  6  7  8  0  1  2 15 16 17  9 10 11 12 13 14]]\n",
      "{'edge1': (array([503.14179649,   3.14547641, 223.72193607]), array([  3.14554377, 503.14921402, 223.6892319 ])), 'edge2': (array([496.85445623, 503.14921402, 226.3107681 ]), array([ -3.14179649,   3.14547641, 226.27806393]))}\n",
      "min distance is:  [2.58924327]\n",
      "contact type is: ['EdgeToEdge']\n",
      "mask: [[ 3  4  5  6  7  8  0  1  2 15 16 17  9 10 11 12 13 14]]\n",
      "{'edge1': (array([503.14179649,   3.14547641, 223.72193607]), array([  3.14554377, 503.14921402, 223.6892319 ])), 'edge2': (array([496.85445623, 503.14921402, 226.3107681 ]), array([ -3.14179649,   3.14547641, 226.27806393]))}\n",
      "min distance is:  [2.58924327]\n",
      "contact type is: ['EdgeToEdge']\n",
      "mask: [[ 3  4  5  6  7  8  0  1  2 15 16 17  9 10 11 12 13 14]]\n",
      "Delta: [2.58924327]\n",
      "upper limit for quadratic: 1.75\n",
      "upper limit for smooth: 2.25\n",
      "{'edge1': (array([503.14148952,   3.14517281, 223.72166385]), array([  3.14524015, 503.14890549, 223.68895898])), 'edge2': (array([496.85475985, 503.14890549, 226.31104102]), array([ -3.14148952,   3.14517281, 226.27833615]))}\n",
      "min distance is:  [2.58978839]\n",
      "contact type is: ['EdgeToEdge']\n",
      "mask: [[ 3  4  5  6  7  8  0  1  2 15 16 17  9 10 11 12 13 14]]\n",
      "{'edge1': (array([503.14148952,   3.14517281, 223.72166385]), array([  3.14524015, 503.14890549, 223.68895898])), 'edge2': (array([496.85475985, 503.14890549, 226.31104102]), array([ -3.14148952,   3.14517281, 226.27833615]))}\n",
      "min distance is:  [2.58978839]\n",
      "contact type is: ['EdgeToEdge']\n",
      "mask: [[ 3  4  5  6  7  8  0  1  2 15 16 17  9 10 11 12 13 14]]\n",
      "{'edge1': (array([503.14148952,   3.14517281, 223.72166385]), array([  3.14524015, 503.14890549, 223.68895898])), 'edge2': (array([496.85475985, 503.14890549, 226.31104102]), array([ -3.14148952,   3.14517281, 226.27833615]))}\n",
      "min distance is:  [2.58978839]\n",
      "contact type is: ['EdgeToEdge']\n",
      "mask: [[ 3  4  5  6  7  8  0  1  2 15 16 17  9 10 11 12 13 14]]\n",
      "Delta: [2.58978839]\n",
      "upper limit for quadratic: 1.75\n",
      "upper limit for smooth: 2.25\n",
      "{'edge1': (array([503.2862455 ,   3.29008707, 222.45187187]), array([  3.29015745, 503.29398925, 222.4175667 ])), 'edge2': (array([496.70984255, 503.29398925, 225.0824333 ]), array([ -3.2862455 ,   3.29008707, 225.04812813]))}\n",
      "min distance is:  [2.63101264]\n",
      "contact type is: ['EdgeToEdge']\n",
      "mask: [[ 3  4  5  6  7  8  0  1  2 15 16 17  9 10 11 12 13 14]]\n",
      "{'edge1': (array([503.2862455 ,   3.29008707, 222.45187187]), array([  3.29015745, 503.29398925, 222.4175667 ])), 'edge2': (array([496.70984255, 503.29398925, 225.0824333 ]), array([ -3.2862455 ,   3.29008707, 225.04812813]))}\n",
      "min distance is:  [2.63101264]\n",
      "contact type is: ['EdgeToEdge']\n",
      "mask: [[ 3  4  5  6  7  8  0  1  2 15 16 17  9 10 11 12 13 14]]\n",
      "{'edge1': (array([503.2862455 ,   3.29008707, 222.45187187]), array([  3.29015745, 503.29398925, 222.4175667 ])), 'edge2': (array([496.70984255, 503.29398925, 225.0824333 ]), array([ -3.2862455 ,   3.29008707, 225.04812813]))}\n",
      "min distance is:  [2.63101264]\n",
      "contact type is: ['EdgeToEdge']\n",
      "mask: [[ 3  4  5  6  7  8  0  1  2 15 16 17  9 10 11 12 13 14]]\n",
      "Delta: [2.63101264]\n",
      "upper limit for quadratic: 1.75\n",
      "upper limit for smooth: 2.25\n",
      "{'edge1': (array([503.28593802,   3.28978296, 222.4516008 ]), array([  3.28985332, 503.29368021, 222.41729494])), 'edge2': (array([496.71014668, 503.29368021, 225.08270506]), array([ -3.28593802,   3.28978296, 225.0483992 ]))}\n",
      "min distance is:  [2.63155543]\n",
      "contact type is: ['EdgeToEdge']\n",
      "mask: [[ 3  4  5  6  7  8  0  1  2 15 16 17  9 10 11 12 13 14]]\n",
      "{'edge1': (array([503.28593802,   3.28978296, 222.4516008 ]), array([  3.28985332, 503.29368021, 222.41729494])), 'edge2': (array([496.71014668, 503.29368021, 225.08270506]), array([ -3.28593802,   3.28978296, 225.0483992 ]))}\n",
      "min distance is:  [2.63155543]\n",
      "contact type is: ['EdgeToEdge']\n",
      "mask: [[ 3  4  5  6  7  8  0  1  2 15 16 17  9 10 11 12 13 14]]\n",
      "{'edge1': (array([503.28593802,   3.28978296, 222.4516008 ]), array([  3.28985332, 503.29368021, 222.41729494])), 'edge2': (array([496.71014668, 503.29368021, 225.08270506]), array([ -3.28593802,   3.28978296, 225.0483992 ]))}\n",
      "min distance is:  [2.63155543]\n",
      "contact type is: ['EdgeToEdge']\n",
      "mask: [[ 3  4  5  6  7  8  0  1  2 15 16 17  9 10 11 12 13 14]]\n",
      "Delta: [2.63155543]\n",
      "upper limit for quadratic: 1.75\n",
      "upper limit for smooth: 2.25\n",
      "{'edge1': (array([503.43007587,   3.43407754, 221.1812651 ]), array([  3.4341509 , 503.43814269, 221.14535754])), 'edge2': (array([496.5658491 , 503.43814269, 223.85464246]), array([ -3.43007587,   3.43407754, 223.8187349 ]))}\n",
      "min distance is:  [2.6738703]\n",
      "contact type is: ['EdgeToEdge']\n",
      "mask: [[ 3  4  5  6  7  8  0  1  2 15 16 17  9 10 11 12 13 14]]\n",
      "{'edge1': (array([503.43007587,   3.43407754, 221.1812651 ]), array([  3.4341509 , 503.43814269, 221.14535754])), 'edge2': (array([496.5658491 , 503.43814269, 223.85464246]), array([ -3.43007587,   3.43407754, 223.8187349 ]))}\n",
      "min distance is:  [2.6738703]\n",
      "contact type is: ['EdgeToEdge']\n",
      "mask: [[ 3  4  5  6  7  8  0  1  2 15 16 17  9 10 11 12 13 14]]\n",
      "{'edge1': (array([503.43007587,   3.43407754, 221.1812651 ]), array([  3.4341509 , 503.43814269, 221.14535754])), 'edge2': (array([496.5658491 , 503.43814269, 223.85464246]), array([ -3.43007587,   3.43407754, 223.8187349 ]))}\n",
      "min distance is:  [2.6738703]\n",
      "contact type is: ['EdgeToEdge']\n",
      "mask: [[ 3  4  5  6  7  8  0  1  2 15 16 17  9 10 11 12 13 14]]\n",
      "Delta: [2.6738703]\n",
      "upper limit for quadratic: 1.75\n",
      "upper limit for smooth: 2.25\n",
      "{'edge1': (array([503.42976788,   3.43377293, 221.1809952 ]), array([  3.43384627, 503.43783314, 221.14508695])), 'edge2': (array([496.56615373, 503.43783314, 223.85491305]), array([ -3.42976788,   3.43377293, 223.8190048 ]))}\n",
      "min distance is:  [2.67441077]\n",
      "contact type is: ['EdgeToEdge']\n",
      "mask: [[ 3  4  5  6  7  8  0  1  2 15 16 17  9 10 11 12 13 14]]\n",
      "{'edge1': (array([503.42976788,   3.43377293, 221.1809952 ]), array([  3.43384627, 503.43783314, 221.14508695])), 'edge2': (array([496.56615373, 503.43783314, 223.85491305]), array([ -3.42976788,   3.43377293, 223.8190048 ]))}\n",
      "min distance is:  [2.67441077]\n",
      "contact type is: ['EdgeToEdge']\n",
      "mask: [[ 3  4  5  6  7  8  0  1  2 15 16 17  9 10 11 12 13 14]]\n",
      "{'edge1': (array([503.42976788,   3.43377293, 221.1809952 ]), array([  3.43384627, 503.43783314, 221.14508695])), 'edge2': (array([496.56615373, 503.43783314, 223.85491305]), array([ -3.42976788,   3.43377293, 223.8190048 ]))}\n",
      "min distance is:  [2.67441077]\n",
      "contact type is: ['EdgeToEdge']\n",
      "mask: [[ 3  4  5  6  7  8  0  1  2 15 16 17  9 10 11 12 13 14]]\n",
      "Delta: [2.67441077]\n",
      "upper limit for quadratic: 1.75\n",
      "upper limit for smooth: 2.25\n",
      "{'edge1': (array([503.57328658,   3.57744681, 219.91011812]), array([  3.57752311, 503.58167334, 219.87260679])), 'edge2': (array([496.42247689, 503.58167334, 222.62739321]), array([ -3.57328658,   3.57744681, 222.58988188]))}\n",
      "min distance is:  [2.71781155]\n",
      "contact type is: ['EdgeToEdge']\n",
      "mask: [[ 3  4  5  6  7  8  0  1  2 15 16 17  9 10 11 12 13 14]]\n",
      "{'edge1': (array([503.57328658,   3.57744681, 219.91011812]), array([  3.57752311, 503.58167334, 219.87260679])), 'edge2': (array([496.42247689, 503.58167334, 222.62739321]), array([ -3.57328658,   3.57744681, 222.58988188]))}\n",
      "min distance is:  [2.71781155]\n",
      "contact type is: ['EdgeToEdge']\n",
      "mask: [[ 3  4  5  6  7  8  0  1  2 15 16 17  9 10 11 12 13 14]]\n",
      "{'edge1': (array([503.57328658,   3.57744681, 219.91011812]), array([  3.57752311, 503.58167334, 219.87260679])), 'edge2': (array([496.42247689, 503.58167334, 222.62739321]), array([ -3.57328658,   3.57744681, 222.58988188]))}\n",
      "min distance is:  [2.71781155]\n",
      "contact type is: ['EdgeToEdge']\n",
      "mask: [[ 3  4  5  6  7  8  0  1  2 15 16 17  9 10 11 12 13 14]]\n",
      "Delta: [2.71781155]\n",
      "upper limit for quadratic: 1.75\n",
      "upper limit for smooth: 2.25\n",
      "{'edge1': (array([503.57297809,   3.57714169, 219.90984938]), array([  3.57721798, 503.58136328, 219.87233736])), 'edge2': (array([496.42278202, 503.58136328, 222.62766264]), array([ -3.57297809,   3.57714169, 222.59015062]))}\n",
      "min distance is:  [2.71834969]\n",
      "contact type is: ['EdgeToEdge']\n",
      "mask: [[ 3  4  5  6  7  8  0  1  2 15 16 17  9 10 11 12 13 14]]\n",
      "{'edge1': (array([503.57297809,   3.57714169, 219.90984938]), array([  3.57721798, 503.58136328, 219.87233736])), 'edge2': (array([496.42278202, 503.58136328, 222.62766264]), array([ -3.57297809,   3.57714169, 222.59015062]))}\n",
      "min distance is:  [2.71834969]\n",
      "contact type is: ['EdgeToEdge']\n",
      "mask: [[ 3  4  5  6  7  8  0  1  2 15 16 17  9 10 11 12 13 14]]\n",
      "{'edge1': (array([503.57297809,   3.57714169, 219.90984938]), array([  3.57721798, 503.58136328, 219.87233736])), 'edge2': (array([496.42278202, 503.58136328, 222.62766264]), array([ -3.57297809,   3.57714169, 222.59015062]))}\n",
      "min distance is:  [2.71834969]\n",
      "contact type is: ['EdgeToEdge']\n",
      "mask: [[ 3  4  5  6  7  8  0  1  2 15 16 17  9 10 11 12 13 14]]\n",
      "Delta: [2.71834969]\n",
      "upper limit for quadratic: 1.75\n",
      "upper limit for smooth: 2.25\n",
      "{'edge1': (array([503.71587664,   3.72019386, 218.63843329]), array([  3.72027307, 503.72458017, 218.59931681])), 'edge2': (array([496.27972693, 503.72458017, 221.40068319]), array([ -3.71587664,   3.72019386, 221.36156671]))}\n",
      "min distance is:  [2.76283165]\n",
      "contact type is: ['EdgeToEdge']\n",
      "mask: [[ 3  4  5  6  7  8  0  1  2 15 16 17  9 10 11 12 13 14]]\n",
      "{'edge1': (array([503.71587664,   3.72019386, 218.63843329]), array([  3.72027307, 503.72458017, 218.59931681])), 'edge2': (array([496.27972693, 503.72458017, 221.40068319]), array([ -3.71587664,   3.72019386, 221.36156671]))}\n",
      "min distance is:  [2.76283165]\n",
      "contact type is: ['EdgeToEdge']\n",
      "mask: [[ 3  4  5  6  7  8  0  1  2 15 16 17  9 10 11 12 13 14]]\n",
      "{'edge1': (array([503.71587664,   3.72019386, 218.63843329]), array([  3.72027307, 503.72458017, 218.59931681])), 'edge2': (array([496.27972693, 503.72458017, 221.40068319]), array([ -3.71587664,   3.72019386, 221.36156671]))}\n",
      "min distance is:  [2.76283165]\n",
      "contact type is: ['EdgeToEdge']\n",
      "mask: [[ 3  4  5  6  7  8  0  1  2 15 16 17  9 10 11 12 13 14]]\n",
      "Delta: [2.76283165]\n",
      "upper limit for quadratic: 1.75\n",
      "upper limit for smooth: 2.25\n",
      "{'edge1': (array([503.71556764,   3.71988824, 218.63816571]), array([  3.71996743, 503.72426961, 218.59904854])), 'edge2': (array([496.28003257, 503.72426961, 221.40095146]), array([ -3.71556764,   3.71988824, 221.36183429]))}\n",
      "min distance is:  [2.76336745]\n",
      "contact type is: ['EdgeToEdge']\n",
      "mask: [[ 3  4  5  6  7  8  0  1  2 15 16 17  9 10 11 12 13 14]]\n",
      "{'edge1': (array([503.71556764,   3.71988824, 218.63816571]), array([  3.71996743, 503.72426961, 218.59904854])), 'edge2': (array([496.28003257, 503.72426961, 221.40095146]), array([ -3.71556764,   3.71988824, 221.36183429]))}\n",
      "min distance is:  [2.76336745]\n",
      "contact type is: ['EdgeToEdge']\n",
      "mask: [[ 3  4  5  6  7  8  0  1  2 15 16 17  9 10 11 12 13 14]]\n",
      "{'edge1': (array([503.71556764,   3.71988824, 218.63816571]), array([  3.71996743, 503.72426961, 218.59904854])), 'edge2': (array([496.28003257, 503.72426961, 221.40095146]), array([ -3.71556764,   3.71988824, 221.36183429]))}\n",
      "min distance is:  [2.76336745]\n",
      "contact type is: ['EdgeToEdge']\n",
      "mask: [[ 3  4  5  6  7  8  0  1  2 15 16 17  9 10 11 12 13 14]]\n",
      "Delta: [2.76336745]\n",
      "upper limit for quadratic: 1.75\n",
      "upper limit for smooth: 2.25\n",
      "{'edge1': (array([503.85784503,   3.86231768, 217.36621296]), array([  3.86239977, 503.86686217, 217.32548995])), 'edge2': (array([496.13760023, 503.86686217, 220.17451005]), array([ -3.85784503,   3.86231768, 220.13378704]))}\n",
      "min distance is:  [2.80892587]\n",
      "contact type is: ['EdgeToEdge']\n",
      "mask: [[ 3  4  5  6  7  8  0  1  2 15 16 17  9 10 11 12 13 14]]\n",
      "{'edge1': (array([503.85784503,   3.86231768, 217.36621296]), array([  3.86239977, 503.86686217, 217.32548995])), 'edge2': (array([496.13760023, 503.86686217, 220.17451005]), array([ -3.85784503,   3.86231768, 220.13378704]))}\n",
      "min distance is:  [2.80892587]\n",
      "contact type is: ['EdgeToEdge']\n",
      "mask: [[ 3  4  5  6  7  8  0  1  2 15 16 17  9 10 11 12 13 14]]\n",
      "{'edge1': (array([503.85784503,   3.86231768, 217.36621296]), array([  3.86239977, 503.86686217, 217.32548995])), 'edge2': (array([496.13760023, 503.86686217, 220.17451005]), array([ -3.85784503,   3.86231768, 220.13378704]))}\n",
      "min distance is:  [2.80892587]\n",
      "contact type is: ['EdgeToEdge']\n",
      "mask: [[ 3  4  5  6  7  8  0  1  2 15 16 17  9 10 11 12 13 14]]\n",
      "Delta: [2.80892587]\n",
      "upper limit for quadratic: 1.75\n",
      "upper limit for smooth: 2.25\n",
      "{'edge1': (array([503.85753553,   3.86201156, 217.36594655]), array([  3.86209363, 503.86655111, 217.32522285])), 'edge2': (array([496.13790637, 503.86655111, 220.17477715]), array([ -3.85753553,   3.86201156, 220.13405345]))}\n",
      "min distance is:  [2.80945933]\n",
      "contact type is: ['EdgeToEdge']\n",
      "mask: [[ 3  4  5  6  7  8  0  1  2 15 16 17  9 10 11 12 13 14]]\n",
      "{'edge1': (array([503.85753553,   3.86201156, 217.36594655]), array([  3.86209363, 503.86655111, 217.32522285])), 'edge2': (array([496.13790637, 503.86655111, 220.17477715]), array([ -3.85753553,   3.86201156, 220.13405345]))}\n",
      "min distance is:  [2.80945933]\n",
      "contact type is: ['EdgeToEdge']\n",
      "mask: [[ 3  4  5  6  7  8  0  1  2 15 16 17  9 10 11 12 13 14]]\n",
      "{'edge1': (array([503.85753553,   3.86201156, 217.36594655]), array([  3.86209363, 503.86655111, 217.32522285])), 'edge2': (array([496.13790637, 503.86655111, 220.17477715]), array([ -3.85753553,   3.86201156, 220.13405345]))}\n",
      "min distance is:  [2.80945933]\n",
      "contact type is: ['EdgeToEdge']\n",
      "mask: [[ 3  4  5  6  7  8  0  1  2 15 16 17  9 10 11 12 13 14]]\n",
      "Delta: [2.80945933]\n",
      "upper limit for quadratic: 1.75\n",
      "upper limit for smooth: 2.25\n",
      "{'edge1': (array([503.99919075,   4.00381729, 216.0934595 ]), array([  4.0039022 , 504.00851834, 216.05112859])), 'edge2': (array([495.9960978 , 504.00851834, 218.94887141]), array([ -3.99919075,   4.00381729, 218.9065405 ]))}\n",
      "min distance is:  [2.85608946]\n",
      "contact type is: ['EdgeToEdge']\n",
      "mask: [[ 3  4  5  6  7  8  0  1  2 15 16 17  9 10 11 12 13 14]]\n",
      "{'edge1': (array([503.99919075,   4.00381729, 216.0934595 ]), array([  4.0039022 , 504.00851834, 216.05112859])), 'edge2': (array([495.9960978 , 504.00851834, 218.94887141]), array([ -3.99919075,   4.00381729, 218.9065405 ]))}\n",
      "min distance is:  [2.85608946]\n",
      "contact type is: ['EdgeToEdge']\n",
      "mask: [[ 3  4  5  6  7  8  0  1  2 15 16 17  9 10 11 12 13 14]]\n",
      "{'edge1': (array([503.99919075,   4.00381729, 216.0934595 ]), array([  4.0039022 , 504.00851834, 216.05112859])), 'edge2': (array([495.9960978 , 504.00851834, 218.94887141]), array([ -3.99919075,   4.00381729, 218.9065405 ]))}\n",
      "min distance is:  [2.85608946]\n",
      "contact type is: ['EdgeToEdge']\n",
      "mask: [[ 3  4  5  6  7  8  0  1  2 15 16 17  9 10 11 12 13 14]]\n",
      "Delta: [2.85608946]\n",
      "upper limit for quadratic: 1.75\n",
      "upper limit for smooth: 2.25\n",
      "{'edge1': (array([503.99888076,   4.00351066, 216.09319426]), array([  4.00359556, 504.00820678, 216.05086266])), 'edge2': (array([495.99640444, 504.00820678, 218.94913734]), array([ -3.99888076,   4.00351066, 218.90680574]))}\n",
      "min distance is:  [2.85662059]\n",
      "contact type is: ['EdgeToEdge']\n",
      "mask: [[ 3  4  5  6  7  8  0  1  2 15 16 17  9 10 11 12 13 14]]\n",
      "{'edge1': (array([503.99888076,   4.00351066, 216.09319426]), array([  4.00359556, 504.00820678, 216.05086266])), 'edge2': (array([495.99640444, 504.00820678, 218.94913734]), array([ -3.99888076,   4.00351066, 218.90680574]))}\n",
      "min distance is:  [2.85662059]\n",
      "contact type is: ['EdgeToEdge']\n",
      "mask: [[ 3  4  5  6  7  8  0  1  2 15 16 17  9 10 11 12 13 14]]\n",
      "{'edge1': (array([503.99888076,   4.00351066, 216.09319426]), array([  4.00359556, 504.00820678, 216.05086266])), 'edge2': (array([495.99640444, 504.00820678, 218.94913734]), array([ -3.99888076,   4.00351066, 218.90680574]))}\n",
      "min distance is:  [2.85662059]\n",
      "contact type is: ['EdgeToEdge']\n",
      "mask: [[ 3  4  5  6  7  8  0  1  2 15 16 17  9 10 11 12 13 14]]\n",
      "Delta: [2.85662059]\n",
      "upper limit for quadratic: 1.75\n",
      "upper limit for smooth: 2.25\n",
      "{'edge1': (array([504.13991282,   4.14469166, 214.82017528]), array([  4.14477937, 504.14954767, 214.77623509])), 'edge2': (array([495.85522063, 504.14954767, 217.72376491]), array([ -4.13991282,   4.14469166, 217.67982472]))}\n",
      "min distance is:  [2.90431769]\n",
      "contact type is: ['EdgeToEdge']\n",
      "mask: [[ 3  4  5  6  7  8  0  1  2 15 16 17  9 10 11 12 13 14]]\n",
      "{'edge1': (array([504.13991282,   4.14469166, 214.82017528]), array([  4.14477937, 504.14954767, 214.77623509])), 'edge2': (array([495.85522063, 504.14954767, 217.72376491]), array([ -4.13991282,   4.14469166, 217.67982472]))}\n",
      "min distance is:  [2.90431769]\n",
      "contact type is: ['EdgeToEdge']\n",
      "mask: [[ 3  4  5  6  7  8  0  1  2 15 16 17  9 10 11 12 13 14]]\n",
      "{'edge1': (array([504.13991282,   4.14469166, 214.82017528]), array([  4.14477937, 504.14954767, 214.77623509])), 'edge2': (array([495.85522063, 504.14954767, 217.72376491]), array([ -4.13991282,   4.14469166, 217.67982472]))}\n",
      "min distance is:  [2.90431769]\n",
      "contact type is: ['EdgeToEdge']\n",
      "mask: [[ 3  4  5  6  7  8  0  1  2 15 16 17  9 10 11 12 13 14]]\n",
      "Delta: [2.90431769]\n",
      "upper limit for quadratic: 1.75\n",
      "upper limit for smooth: 2.25\n",
      "{'edge1': (array([504.13960233,   4.14438454, 214.81991121]), array([  4.14447223, 504.14923561, 214.77597034])), 'edge2': (array([495.85552777, 504.14923561, 217.72402966]), array([ -4.13960233,   4.14438454, 217.68008879]))}\n",
      "min distance is:  [2.90484646]\n",
      "contact type is: ['EdgeToEdge']\n",
      "mask: [[ 3  4  5  6  7  8  0  1  2 15 16 17  9 10 11 12 13 14]]\n",
      "{'edge1': (array([504.13960233,   4.14438454, 214.81991121]), array([  4.14447223, 504.14923561, 214.77597034])), 'edge2': (array([495.85552777, 504.14923561, 217.72402966]), array([ -4.13960233,   4.14438454, 217.68008879]))}\n",
      "min distance is:  [2.90484646]\n",
      "contact type is: ['EdgeToEdge']\n",
      "mask: [[ 3  4  5  6  7  8  0  1  2 15 16 17  9 10 11 12 13 14]]\n",
      "{'edge1': (array([504.13960233,   4.14438454, 214.81991121]), array([  4.14447223, 504.14923561, 214.77597034])), 'edge2': (array([495.85552777, 504.14923561, 217.72402966]), array([ -4.13960233,   4.14438454, 217.68008879]))}\n",
      "min distance is:  [2.90484646]\n",
      "contact type is: ['EdgeToEdge']\n",
      "mask: [[ 3  4  5  6  7  8  0  1  2 15 16 17  9 10 11 12 13 14]]\n",
      "Delta: [2.90484646]\n",
      "upper limit for quadratic: 1.75\n",
      "upper limit for smooth: 2.25\n",
      "{'edge1': (array([504.28001024,   4.28493982, 213.54636266]), array([  4.28503027, 504.28994918, 213.50081184])), 'edge2': (array([495.71496973, 504.28994918, 216.49918816]), array([ -4.28001024,   4.28493982, 216.45363734]))}\n",
      "min distance is:  [2.95360578]\n",
      "contact type is: ['EdgeToEdge']\n",
      "mask: [[ 3  4  5  6  7  8  0  1  2 15 16 17  9 10 11 12 13 14]]\n",
      "{'edge1': (array([504.28001024,   4.28493982, 213.54636266]), array([  4.28503027, 504.28994918, 213.50081184])), 'edge2': (array([495.71496973, 504.28994918, 216.49918816]), array([ -4.28001024,   4.28493982, 216.45363734]))}\n",
      "min distance is:  [2.95360578]\n",
      "contact type is: ['EdgeToEdge']\n",
      "mask: [[ 3  4  5  6  7  8  0  1  2 15 16 17  9 10 11 12 13 14]]\n",
      "{'edge1': (array([504.28001024,   4.28493982, 213.54636266]), array([  4.28503027, 504.28994918, 213.50081184])), 'edge2': (array([495.71496973, 504.28994918, 216.49918816]), array([ -4.28001024,   4.28493982, 216.45363734]))}\n",
      "min distance is:  [2.95360578]\n",
      "contact type is: ['EdgeToEdge']\n",
      "mask: [[ 3  4  5  6  7  8  0  1  2 15 16 17  9 10 11 12 13 14]]\n",
      "Delta: [2.95360578]\n",
      "upper limit for quadratic: 1.75\n",
      "upper limit for smooth: 2.25\n",
      "{'edge1': (array([504.27969926,   4.28463221, 213.54609977]), array([  4.28472264, 504.28963662, 213.50054827])), 'edge2': (array([495.71527736, 504.28963662, 216.49945173]), array([ -4.27969926,   4.28463221, 216.45390023]))}\n",
      "min distance is:  [2.95413221]\n",
      "contact type is: ['EdgeToEdge']\n",
      "mask: [[ 3  4  5  6  7  8  0  1  2 15 16 17  9 10 11 12 13 14]]\n",
      "{'edge1': (array([504.27969926,   4.28463221, 213.54609977]), array([  4.28472264, 504.28963662, 213.50054827])), 'edge2': (array([495.71527736, 504.28963662, 216.49945173]), array([ -4.27969926,   4.28463221, 216.45390023]))}\n",
      "min distance is:  [2.95413221]\n",
      "contact type is: ['EdgeToEdge']\n",
      "mask: [[ 3  4  5  6  7  8  0  1  2 15 16 17  9 10 11 12 13 14]]\n",
      "{'edge1': (array([504.27969926,   4.28463221, 213.54609977]), array([  4.28472264, 504.28963662, 213.50054827])), 'edge2': (array([495.71527736, 504.28963662, 216.49945173]), array([ -4.27969926,   4.28463221, 216.45390023]))}\n",
      "min distance is:  [2.95413221]\n",
      "contact type is: ['EdgeToEdge']\n",
      "mask: [[ 3  4  5  6  7  8  0  1  2 15 16 17  9 10 11 12 13 14]]\n",
      "Delta: [2.95413221]\n",
      "upper limit for quadratic: 1.75\n",
      "upper limit for smooth: 2.25\n",
      "{'edge1': (array([504.41948202,   4.42456078, 212.27202403]), array([  4.42465394, 504.42972186, 212.22486122])), 'edge2': (array([495.57534606, 504.42972186, 215.27513878]), array([ -4.41948202,   4.42456078, 215.22797597]))}\n",
      "min distance is:  [3.00394898]\n",
      "contact type is: ['EdgeToEdge']\n",
      "mask: [[ 3  4  5  6  7  8  0  1  2 15 16 17  9 10 11 12 13 14]]\n",
      "{'edge1': (array([504.41948202,   4.42456078, 212.27202403]), array([  4.42465394, 504.42972186, 212.22486122])), 'edge2': (array([495.57534606, 504.42972186, 215.27513878]), array([ -4.41948202,   4.42456078, 215.22797597]))}\n",
      "min distance is:  [3.00394898]\n",
      "contact type is: ['EdgeToEdge']\n",
      "mask: [[ 3  4  5  6  7  8  0  1  2 15 16 17  9 10 11 12 13 14]]\n",
      "{'edge1': (array([504.41948202,   4.42456078, 212.27202403]), array([  4.42465394, 504.42972186, 212.22486122])), 'edge2': (array([495.57534606, 504.42972186, 215.27513878]), array([ -4.41948202,   4.42456078, 215.22797597]))}\n",
      "min distance is:  [3.00394898]\n",
      "contact type is: ['EdgeToEdge']\n",
      "mask: [[ 3  4  5  6  7  8  0  1  2 15 16 17  9 10 11 12 13 14]]\n",
      "Delta: [3.00394898]\n",
      "upper limit for quadratic: 1.75\n",
      "upper limit for smooth: 2.25\n",
      "{'edge1': (array([504.41917055,   4.42425268, 212.27176231]), array([  4.42434581, 504.42940881, 212.22459882])), 'edge2': (array([495.57565419, 504.42940881, 215.27540118]), array([ -4.41917055,   4.42425268, 215.22823769]))}\n",
      "min distance is:  [3.00447305]\n",
      "contact type is: ['EdgeToEdge']\n",
      "mask: [[ 3  4  5  6  7  8  0  1  2 15 16 17  9 10 11 12 13 14]]\n",
      "{'edge1': (array([504.41917055,   4.42425268, 212.27176231]), array([  4.42434581, 504.42940881, 212.22459882])), 'edge2': (array([495.57565419, 504.42940881, 215.27540118]), array([ -4.41917055,   4.42425268, 215.22823769]))}\n",
      "min distance is:  [3.00447305]\n",
      "contact type is: ['EdgeToEdge']\n",
      "mask: [[ 3  4  5  6  7  8  0  1  2 15 16 17  9 10 11 12 13 14]]\n",
      "{'edge1': (array([504.41917055,   4.42425268, 212.27176231]), array([  4.42434581, 504.42940881, 212.22459882])), 'edge2': (array([495.57565419, 504.42940881, 215.27540118]), array([ -4.41917055,   4.42425268, 215.22823769]))}\n",
      "min distance is:  [3.00447305]\n",
      "contact type is: ['EdgeToEdge']\n",
      "mask: [[ 3  4  5  6  7  8  0  1  2 15 16 17  9 10 11 12 13 14]]\n",
      "Delta: [3.00447305]\n",
      "upper limit for quadratic: 1.75\n",
      "upper limit for smooth: 2.25\n",
      "{'edge1': (array([504.5583272 ,   4.56355356, 210.99716175]), array([  4.56364936, 504.56886473, 210.9483856 ])), 'edge2': (array([495.43635064, 504.56886473, 214.0516144 ]), array([ -4.5583272 ,   4.56355356, 214.00283825]))}\n",
      "min distance is:  [3.05534251]\n",
      "contact type is: ['EdgeToEdge']\n",
      "mask: [[ 3  4  5  6  7  8  0  1  2 15 16 17  9 10 11 12 13 14]]\n",
      "{'edge1': (array([504.5583272 ,   4.56355356, 210.99716175]), array([  4.56364936, 504.56886473, 210.9483856 ])), 'edge2': (array([495.43635064, 504.56886473, 214.0516144 ]), array([ -4.5583272 ,   4.56355356, 214.00283825]))}\n",
      "min distance is:  [3.05534251]\n",
      "contact type is: ['EdgeToEdge']\n",
      "mask: [[ 3  4  5  6  7  8  0  1  2 15 16 17  9 10 11 12 13 14]]\n",
      "{'edge1': (array([504.5583272 ,   4.56355356, 210.99716175]), array([  4.56364936, 504.56886473, 210.9483856 ])), 'edge2': (array([495.43635064, 504.56886473, 214.0516144 ]), array([ -4.5583272 ,   4.56355356, 214.00283825]))}\n",
      "min distance is:  [3.05534251]\n",
      "contact type is: ['EdgeToEdge']\n",
      "mask: [[ 3  4  5  6  7  8  0  1  2 15 16 17  9 10 11 12 13 14]]\n",
      "Delta: [3.05534251]\n",
      "upper limit for quadratic: 1.75\n",
      "upper limit for smooth: 2.25\n",
      "{'edge1': (array([504.55801524,   4.56324496, 210.99690121]), array([  4.56334075, 504.56855118, 210.94812438])), 'edge2': (array([495.43665925, 504.56855118, 214.05187562]), array([ -4.55801524,   4.56324496, 214.00309879]))}\n",
      "min distance is:  [3.05586423]\n",
      "contact type is: ['EdgeToEdge']\n",
      "mask: [[ 3  4  5  6  7  8  0  1  2 15 16 17  9 10 11 12 13 14]]\n",
      "{'edge1': (array([504.55801524,   4.56324496, 210.99690121]), array([  4.56334075, 504.56855118, 210.94812438])), 'edge2': (array([495.43665925, 504.56855118, 214.05187562]), array([ -4.55801524,   4.56324496, 214.00309879]))}\n",
      "min distance is:  [3.05586423]\n",
      "contact type is: ['EdgeToEdge']\n",
      "mask: [[ 3  4  5  6  7  8  0  1  2 15 16 17  9 10 11 12 13 14]]\n",
      "{'edge1': (array([504.55801524,   4.56324496, 210.99690121]), array([  4.56334075, 504.56855118, 210.94812438])), 'edge2': (array([495.43665925, 504.56855118, 214.05187562]), array([ -4.55801524,   4.56324496, 214.00309879]))}\n",
      "min distance is:  [3.05586423]\n",
      "contact type is: ['EdgeToEdge']\n",
      "mask: [[ 3  4  5  6  7  8  0  1  2 15 16 17  9 10 11 12 13 14]]\n",
      "Delta: [3.05586423]\n",
      "upper limit for quadratic: 1.75\n",
      "upper limit for smooth: 2.25\n",
      "{'edge1': (array([504.69654478,   4.70191716, 209.72177822]), array([  4.70201558, 504.7073768 , 209.67138737])), 'edge2': (array([495.29798442, 504.7073768 , 212.82861263]), array([ -4.69654478,   4.70191716, 212.77822178]))}\n",
      "min distance is:  [3.1077816]\n",
      "contact type is: ['EdgeToEdge']\n",
      "mask: [[ 3  4  5  6  7  8  0  1  2 15 16 17  9 10 11 12 13 14]]\n",
      "{'edge1': (array([504.69654478,   4.70191716, 209.72177822]), array([  4.70201558, 504.7073768 , 209.67138737])), 'edge2': (array([495.29798442, 504.7073768 , 212.82861263]), array([ -4.69654478,   4.70191716, 212.77822178]))}\n",
      "min distance is:  [3.1077816]\n",
      "contact type is: ['EdgeToEdge']\n",
      "mask: [[ 3  4  5  6  7  8  0  1  2 15 16 17  9 10 11 12 13 14]]\n",
      "{'edge1': (array([504.69654478,   4.70191716, 209.72177822]), array([  4.70201558, 504.7073768 , 209.67138737])), 'edge2': (array([495.29798442, 504.7073768 , 212.82861263]), array([ -4.69654478,   4.70191716, 212.77822178]))}\n",
      "min distance is:  [3.1077816]\n",
      "contact type is: ['EdgeToEdge']\n",
      "mask: [[ 3  4  5  6  7  8  0  1  2 15 16 17  9 10 11 12 13 14]]\n",
      "Delta: [3.1077816]\n",
      "upper limit for quadratic: 1.75\n",
      "upper limit for smooth: 2.25\n",
      "{'edge1': (array([504.69623234,   4.70160808, 209.72151885]), array([  4.70170647, 504.70706277, 209.67112733])), 'edge2': (array([495.29829353, 504.70706277, 212.82887267]), array([ -4.69623234,   4.70160808, 212.77848115]))}\n",
      "min distance is:  [3.10830096]\n",
      "contact type is: ['EdgeToEdge']\n",
      "mask: [[ 3  4  5  6  7  8  0  1  2 15 16 17  9 10 11 12 13 14]]\n",
      "{'edge1': (array([504.69623234,   4.70160808, 209.72151885]), array([  4.70170647, 504.70706277, 209.67112733])), 'edge2': (array([495.29829353, 504.70706277, 212.82887267]), array([ -4.69623234,   4.70160808, 212.77848115]))}\n",
      "min distance is:  [3.10830096]\n",
      "contact type is: ['EdgeToEdge']\n",
      "mask: [[ 3  4  5  6  7  8  0  1  2 15 16 17  9 10 11 12 13 14]]\n",
      "{'edge1': (array([504.69623234,   4.70160808, 209.72151885]), array([  4.70170647, 504.70706277, 209.67112733])), 'edge2': (array([495.29829353, 504.70706277, 212.82887267]), array([ -4.69623234,   4.70160808, 212.77848115]))}\n",
      "min distance is:  [3.10830096]\n",
      "contact type is: ['EdgeToEdge']\n",
      "mask: [[ 3  4  5  6  7  8  0  1  2 15 16 17  9 10 11 12 13 14]]\n",
      "Delta: [3.10830096]\n",
      "upper limit for quadratic: 1.75\n",
      "upper limit for smooth: 2.25\n",
      "{'edge1': (array([504.8341338 ,   4.83965063, 208.44587582]), array([  4.8397516 , 504.8452571 , 208.39386893])), 'edge2': (array([495.1602484 , 504.8452571 , 211.60613107]), array([ -4.8341338 ,   4.83965063, 211.55412418]))}\n",
      "min distance is:  [3.16126146]\n",
      "contact type is: ['EdgeToEdge']\n",
      "mask: [[ 3  4  5  6  7  8  0  1  2 15 16 17  9 10 11 12 13 14]]\n",
      "{'edge1': (array([504.8341338 ,   4.83965063, 208.44587582]), array([  4.8397516 , 504.8452571 , 208.39386893])), 'edge2': (array([495.1602484 , 504.8452571 , 211.60613107]), array([ -4.8341338 ,   4.83965063, 211.55412418]))}\n",
      "min distance is:  [3.16126146]\n",
      "contact type is: ['EdgeToEdge']\n",
      "mask: [[ 3  4  5  6  7  8  0  1  2 15 16 17  9 10 11 12 13 14]]\n",
      "{'edge1': (array([504.8341338 ,   4.83965063, 208.44587582]), array([  4.8397516 , 504.8452571 , 208.39386893])), 'edge2': (array([495.1602484 , 504.8452571 , 211.60613107]), array([ -4.8341338 ,   4.83965063, 211.55412418]))}\n",
      "min distance is:  [3.16126146]\n",
      "contact type is: ['EdgeToEdge']\n",
      "mask: [[ 3  4  5  6  7  8  0  1  2 15 16 17  9 10 11 12 13 14]]\n",
      "Delta: [3.16126146]\n",
      "upper limit for quadratic: 1.75\n",
      "upper limit for smooth: 2.25\n",
      "{'edge1': (array([504.83382088,   4.83934106, 208.44561763]), array([  4.83944201, 504.84494258, 208.39361007])), 'edge2': (array([495.16055799, 504.84494258, 211.60638993]), array([ -4.83382088,   4.83934106, 211.55438237]))}\n",
      "min distance is:  [3.16177846]\n",
      "contact type is: ['EdgeToEdge']\n",
      "mask: [[ 3  4  5  6  7  8  0  1  2 15 16 17  9 10 11 12 13 14]]\n",
      "{'edge1': (array([504.83382088,   4.83934106, 208.44561763]), array([  4.83944201, 504.84494258, 208.39361007])), 'edge2': (array([495.16055799, 504.84494258, 211.60638993]), array([ -4.83382088,   4.83934106, 211.55438237]))}\n",
      "min distance is:  [3.16177846]\n",
      "contact type is: ['EdgeToEdge']\n",
      "mask: [[ 3  4  5  6  7  8  0  1  2 15 16 17  9 10 11 12 13 14]]\n",
      "{'edge1': (array([504.83382088,   4.83934106, 208.44561763]), array([  4.83944201, 504.84494258, 208.39361007])), 'edge2': (array([495.16055799, 504.84494258, 211.60638993]), array([ -4.83382088,   4.83934106, 211.55438237]))}\n",
      "min distance is:  [3.16177846]\n",
      "contact type is: ['EdgeToEdge']\n",
      "mask: [[ 3  4  5  6  7  8  0  1  2 15 16 17  9 10 11 12 13 14]]\n",
      "Delta: [3.16177846]\n",
      "upper limit for quadratic: 1.75\n",
      "upper limit for smooth: 2.25\n",
      "{'edge1': (array([504.97109329,   4.97675298, 207.16945693]), array([  4.97685646, 504.98250465, 207.11583266])), 'edge2': (array([495.02314354, 504.98250465, 210.38416734]), array([ -4.97109329,   4.97675298, 210.33054307]))}\n",
      "min distance is:  [3.2157773]\n",
      "contact type is: ['EdgeToEdge']\n",
      "mask: [[ 3  4  5  6  7  8  0  1  2 15 16 17  9 10 11 12 13 14]]\n",
      "{'edge1': (array([504.97109329,   4.97675298, 207.16945693]), array([  4.97685646, 504.98250465, 207.11583266])), 'edge2': (array([495.02314354, 504.98250465, 210.38416734]), array([ -4.97109329,   4.97675298, 210.33054307]))}\n",
      "min distance is:  [3.2157773]\n",
      "contact type is: ['EdgeToEdge']\n",
      "mask: [[ 3  4  5  6  7  8  0  1  2 15 16 17  9 10 11 12 13 14]]\n",
      "{'edge1': (array([504.97109329,   4.97675298, 207.16945693]), array([  4.97685646, 504.98250465, 207.11583266])), 'edge2': (array([495.02314354, 504.98250465, 210.38416734]), array([ -4.97109329,   4.97675298, 210.33054307]))}\n",
      "min distance is:  [3.2157773]\n",
      "contact type is: ['EdgeToEdge']\n",
      "mask: [[ 3  4  5  6  7  8  0  1  2 15 16 17  9 10 11 12 13 14]]\n",
      "Delta: [3.2157773]\n",
      "upper limit for quadratic: 1.75\n",
      "upper limit for smooth: 2.25\n",
      "{'edge1': (array([504.97077989,   4.97644293, 207.16919993]), array([  4.97654639, 504.98218964, 207.11557499])), 'edge2': (array([495.02345361, 504.98218964, 210.38442501]), array([ -4.97077989,   4.97644293, 210.33080007]))}\n",
      "min distance is:  [3.21629193]\n",
      "contact type is: ['EdgeToEdge']\n",
      "mask: [[ 3  4  5  6  7  8  0  1  2 15 16 17  9 10 11 12 13 14]]\n",
      "{'edge1': (array([504.97077989,   4.97644293, 207.16919993]), array([  4.97654639, 504.98218964, 207.11557499])), 'edge2': (array([495.02345361, 504.98218964, 210.38442501]), array([ -4.97077989,   4.97644293, 210.33080007]))}\n",
      "min distance is:  [3.21629193]\n",
      "contact type is: ['EdgeToEdge']\n",
      "mask: [[ 3  4  5  6  7  8  0  1  2 15 16 17  9 10 11 12 13 14]]\n",
      "{'edge1': (array([504.97077989,   4.97644293, 207.16919993]), array([  4.97654639, 504.98218964, 207.11557499])), 'edge2': (array([495.02345361, 504.98218964, 210.38442501]), array([ -4.97077989,   4.97644293, 210.33080007]))}\n",
      "min distance is:  [3.21629193]\n",
      "contact type is: ['EdgeToEdge']\n",
      "mask: [[ 3  4  5  6  7  8  0  1  2 15 16 17  9 10 11 12 13 14]]\n",
      "Delta: [3.21629193]\n",
      "upper limit for quadratic: 1.75\n",
      "upper limit for smooth: 2.25\n",
      "{'edge1': (array([505.1074223 ,   5.11322326, 205.89252396]), array([  5.11332919, 505.11911848, 205.83728097])), 'edge2': (array([494.88667081, 505.11911848, 209.16271903]), array([ -5.1074223 ,   5.11322326, 209.10747604]))}\n",
      "min distance is:  [3.27132431]\n",
      "contact type is: ['EdgeToEdge']\n",
      "mask: [[ 3  4  5  6  7  8  0  1  2 15 16 17  9 10 11 12 13 14]]\n",
      "{'edge1': (array([505.1074223 ,   5.11322326, 205.89252396]), array([  5.11332919, 505.11911848, 205.83728097])), 'edge2': (array([494.88667081, 505.11911848, 209.16271903]), array([ -5.1074223 ,   5.11322326, 209.10747604]))}\n",
      "min distance is:  [3.27132431]\n",
      "contact type is: ['EdgeToEdge']\n",
      "mask: [[ 3  4  5  6  7  8  0  1  2 15 16 17  9 10 11 12 13 14]]\n",
      "{'edge1': (array([505.1074223 ,   5.11322326, 205.89252396]), array([  5.11332919, 505.11911848, 205.83728097])), 'edge2': (array([494.88667081, 505.11911848, 209.16271903]), array([ -5.1074223 ,   5.11322326, 209.10747604]))}\n",
      "min distance is:  [3.27132431]\n",
      "contact type is: ['EdgeToEdge']\n",
      "mask: [[ 3  4  5  6  7  8  0  1  2 15 16 17  9 10 11 12 13 14]]\n",
      "Delta: [3.27132431]\n",
      "upper limit for quadratic: 1.75\n",
      "upper limit for smooth: 2.25\n",
      "{'edge1': (array([505.10710841,   5.11291273, 205.89226814]), array([  5.11301864, 505.11880299, 205.83702448])), 'edge2': (array([494.88698136, 505.11880299, 209.16297552]), array([ -5.10710841,   5.11291273, 209.10773186]))}\n",
      "min distance is:  [3.27183657]\n",
      "contact type is: ['EdgeToEdge']\n",
      "mask: [[ 3  4  5  6  7  8  0  1  2 15 16 17  9 10 11 12 13 14]]\n",
      "{'edge1': (array([505.10710841,   5.11291273, 205.89226814]), array([  5.11301864, 505.11880299, 205.83702448])), 'edge2': (array([494.88698136, 505.11880299, 209.16297552]), array([ -5.10710841,   5.11291273, 209.10773186]))}\n",
      "min distance is:  [3.27183657]\n",
      "contact type is: ['EdgeToEdge']\n",
      "mask: [[ 3  4  5  6  7  8  0  1  2 15 16 17  9 10 11 12 13 14]]\n",
      "{'edge1': (array([505.10710841,   5.11291273, 205.89226814]), array([  5.11301864, 505.11880299, 205.83702448])), 'edge2': (array([494.88698136, 505.11880299, 209.16297552]), array([ -5.10710841,   5.11291273, 209.10773186]))}\n",
      "min distance is:  [3.27183657]\n",
      "contact type is: ['EdgeToEdge']\n",
      "mask: [[ 3  4  5  6  7  8  0  1  2 15 16 17  9 10 11 12 13 14]]\n",
      "Delta: [3.27183657]\n",
      "upper limit for quadratic: 1.75\n",
      "upper limit for smooth: 2.25\n",
      "{'edge1': (array([505.24311985,   5.2490605 , 204.61507929]), array([  5.24916883, 505.25509762, 204.55821626])), 'edge2': (array([494.75083117, 505.25509762, 207.94178374]), array([ -5.24311985,   5.2490605 , 207.88492071]))}\n",
      "min distance is:  [3.32789769]\n",
      "contact type is: ['EdgeToEdge']\n",
      "mask: [[ 3  4  5  6  7  8  0  1  2 15 16 17  9 10 11 12 13 14]]\n",
      "{'edge1': (array([505.24311985,   5.2490605 , 204.61507929]), array([  5.24916883, 505.25509762, 204.55821626])), 'edge2': (array([494.75083117, 505.25509762, 207.94178374]), array([ -5.24311985,   5.2490605 , 207.88492071]))}\n",
      "min distance is:  [3.32789769]\n",
      "contact type is: ['EdgeToEdge']\n",
      "mask: [[ 3  4  5  6  7  8  0  1  2 15 16 17  9 10 11 12 13 14]]\n",
      "{'edge1': (array([505.24311985,   5.2490605 , 204.61507929]), array([  5.24916883, 505.25509762, 204.55821626])), 'edge2': (array([494.75083117, 505.25509762, 207.94178374]), array([ -5.24311985,   5.2490605 , 207.88492071]))}\n",
      "min distance is:  [3.32789769]\n",
      "contact type is: ['EdgeToEdge']\n",
      "mask: [[ 3  4  5  6  7  8  0  1  2 15 16 17  9 10 11 12 13 14]]\n",
      "Delta: [3.32789769]\n",
      "upper limit for quadratic: 1.75\n",
      "upper limit for smooth: 2.25\n",
      "{'edge1': (array([505.24280548,   5.24874949, 204.61482465]), array([  5.2488578 , 505.25478166, 204.55796096])), 'edge2': (array([494.7511422 , 505.25478166, 207.94203904]), array([ -5.24280548,   5.24874949, 207.88517535]))}\n",
      "min distance is:  [3.32840757]\n",
      "contact type is: ['EdgeToEdge']\n",
      "mask: [[ 3  4  5  6  7  8  0  1  2 15 16 17  9 10 11 12 13 14]]\n",
      "{'edge1': (array([505.24280548,   5.24874949, 204.61482465]), array([  5.2488578 , 505.25478166, 204.55796096])), 'edge2': (array([494.7511422 , 505.25478166, 207.94203904]), array([ -5.24280548,   5.24874949, 207.88517535]))}\n",
      "min distance is:  [3.32840757]\n",
      "contact type is: ['EdgeToEdge']\n",
      "mask: [[ 3  4  5  6  7  8  0  1  2 15 16 17  9 10 11 12 13 14]]\n",
      "{'edge1': (array([505.24280548,   5.24874949, 204.61482465]), array([  5.2488578 , 505.25478166, 204.55796096])), 'edge2': (array([494.7511422 , 505.25478166, 207.94203904]), array([ -5.24280548,   5.24874949, 207.88517535]))}\n",
      "min distance is:  [3.32840757]\n",
      "contact type is: ['EdgeToEdge']\n",
      "mask: [[ 3  4  5  6  7  8  0  1  2 15 16 17  9 10 11 12 13 14]]\n",
      "Delta: [3.32840757]\n",
      "upper limit for quadratic: 1.75\n",
      "upper limit for smooth: 2.25\n",
      "{'edge1': (array([505.37818499,   5.38426375, 203.33712533]), array([  5.38437442, 505.39044113, 203.27864093])), 'edge2': (array([494.61562558, 505.39044113, 206.72135907]), array([ -5.37818499,   5.38426375, 206.66287467]))}\n",
      "min distance is:  [3.38549262]\n",
      "contact type is: ['EdgeToEdge']\n",
      "mask: [[ 3  4  5  6  7  8  0  1  2 15 16 17  9 10 11 12 13 14]]\n",
      "{'edge1': (array([505.37818499,   5.38426375, 203.33712533]), array([  5.38437442, 505.39044113, 203.27864093])), 'edge2': (array([494.61562558, 505.39044113, 206.72135907]), array([ -5.37818499,   5.38426375, 206.66287467]))}\n",
      "min distance is:  [3.38549262]\n",
      "contact type is: ['EdgeToEdge']\n",
      "mask: [[ 3  4  5  6  7  8  0  1  2 15 16 17  9 10 11 12 13 14]]\n",
      "{'edge1': (array([505.37818499,   5.38426375, 203.33712533]), array([  5.38437442, 505.39044113, 203.27864093])), 'edge2': (array([494.61562558, 505.39044113, 206.72135907]), array([ -5.37818499,   5.38426375, 206.66287467]))}\n",
      "min distance is:  [3.38549262]\n",
      "contact type is: ['EdgeToEdge']\n",
      "mask: [[ 3  4  5  6  7  8  0  1  2 15 16 17  9 10 11 12 13 14]]\n",
      "Delta: [3.38549262]\n",
      "upper limit for quadratic: 1.75\n",
      "upper limit for smooth: 2.25\n",
      "{'edge1': (array([505.37787015,   5.38395227, 203.33687188]), array([  5.38406291, 505.39012468, 203.27838681])), 'edge2': (array([494.61593709, 505.39012468, 206.72161319]), array([ -5.37787015,   5.38395227, 206.66312812]))}\n",
      "min distance is:  [3.38600012]\n",
      "contact type is: ['EdgeToEdge']\n",
      "mask: [[ 3  4  5  6  7  8  0  1  2 15 16 17  9 10 11 12 13 14]]\n",
      "{'edge1': (array([505.37787015,   5.38395227, 203.33687188]), array([  5.38406291, 505.39012468, 203.27838681])), 'edge2': (array([494.61593709, 505.39012468, 206.72161319]), array([ -5.37787015,   5.38395227, 206.66312812]))}\n",
      "min distance is:  [3.38600012]\n",
      "contact type is: ['EdgeToEdge']\n",
      "mask: [[ 3  4  5  6  7  8  0  1  2 15 16 17  9 10 11 12 13 14]]\n",
      "{'edge1': (array([505.37787015,   5.38395227, 203.33687188]), array([  5.38406291, 505.39012468, 203.27838681])), 'edge2': (array([494.61593709, 505.39012468, 206.72161319]), array([ -5.37787015,   5.38395227, 206.66312812]))}\n",
      "min distance is:  [3.38600012]\n",
      "contact type is: ['EdgeToEdge']\n",
      "mask: [[ 3  4  5  6  7  8  0  1  2 15 16 17  9 10 11 12 13 14]]\n",
      "Delta: [3.38600012]\n",
      "upper limit for quadratic: 1.75\n",
      "upper limit for smooth: 2.25\n",
      "{'edge1': (array([505.51261679,   5.51883205, 202.05866448]), array([  5.51894501, 505.52514803, 201.99855738])), 'edge2': (array([494.48105499, 505.52514803, 205.50144262]), array([ -5.51261679,   5.51883205, 205.44133552]))}\n",
      "min distance is:  [3.44410428]\n",
      "contact type is: ['EdgeToEdge']\n",
      "mask: [[ 3  4  5  6  7  8  0  1  2 15 16 17  9 10 11 12 13 14]]\n",
      "{'edge1': (array([505.51261679,   5.51883205, 202.05866448]), array([  5.51894501, 505.52514803, 201.99855738])), 'edge2': (array([494.48105499, 505.52514803, 205.50144262]), array([ -5.51261679,   5.51883205, 205.44133552]))}\n",
      "min distance is:  [3.44410428]\n",
      "contact type is: ['EdgeToEdge']\n",
      "mask: [[ 3  4  5  6  7  8  0  1  2 15 16 17  9 10 11 12 13 14]]\n",
      "{'edge1': (array([505.51261679,   5.51883205, 202.05866448]), array([  5.51894501, 505.52514803, 201.99855738])), 'edge2': (array([494.48105499, 505.52514803, 205.50144262]), array([ -5.51261679,   5.51883205, 205.44133552]))}\n",
      "min distance is:  [3.44410428]\n",
      "contact type is: ['EdgeToEdge']\n",
      "mask: [[ 3  4  5  6  7  8  0  1  2 15 16 17  9 10 11 12 13 14]]\n",
      "Delta: [3.44410428]\n",
      "upper limit for quadratic: 1.75\n",
      "upper limit for smooth: 2.25\n",
      "{'edge1': (array([505.51230148,   5.51852009, 202.05841222]), array([  5.51863303, 505.5248311 , 201.99830446])), 'edge2': (array([494.48136697, 505.5248311 , 205.50169554]), array([ -5.51230148,   5.51852009, 205.44158778]))}\n",
      "min distance is:  [3.4446094]\n",
      "contact type is: ['EdgeToEdge']\n",
      "mask: [[ 3  4  5  6  7  8  0  1  2 15 16 17  9 10 11 12 13 14]]\n",
      "{'edge1': (array([505.51230148,   5.51852009, 202.05841222]), array([  5.51863303, 505.5248311 , 201.99830446])), 'edge2': (array([494.48136697, 505.5248311 , 205.50169554]), array([ -5.51230148,   5.51852009, 205.44158778]))}\n",
      "min distance is:  [3.4446094]\n",
      "contact type is: ['EdgeToEdge']\n",
      "mask: [[ 3  4  5  6  7  8  0  1  2 15 16 17  9 10 11 12 13 14]]\n",
      "{'edge1': (array([505.51230148,   5.51852009, 202.05841222]), array([  5.51863303, 505.5248311 , 201.99830446])), 'edge2': (array([494.48136697, 505.5248311 , 205.50169554]), array([ -5.51230148,   5.51852009, 205.44158778]))}\n",
      "min distance is:  [3.4446094]\n",
      "contact type is: ['EdgeToEdge']\n",
      "mask: [[ 3  4  5  6  7  8  0  1  2 15 16 17  9 10 11 12 13 14]]\n",
      "Delta: [3.4446094]\n",
      "upper limit for quadratic: 1.75\n",
      "upper limit for smooth: 2.25\n",
      "{'edge1': (array([505.64641428,   5.65276446, 200.77969915]), array([  5.65287965, 505.65921738, 200.71796804])), 'edge2': (array([494.34712035, 505.65921738, 204.28203196]), array([ -5.64641428,   5.65276446, 204.22030085]))}\n",
      "min distance is:  [3.50372783]\n",
      "contact type is: ['EdgeToEdge']\n",
      "mask: [[ 3  4  5  6  7  8  0  1  2 15 16 17  9 10 11 12 13 14]]\n",
      "{'edge1': (array([505.64641428,   5.65276446, 200.77969915]), array([  5.65287965, 505.65921738, 200.71796804])), 'edge2': (array([494.34712035, 505.65921738, 204.28203196]), array([ -5.64641428,   5.65276446, 204.22030085]))}\n",
      "min distance is:  [3.50372783]\n",
      "contact type is: ['EdgeToEdge']\n",
      "mask: [[ 3  4  5  6  7  8  0  1  2 15 16 17  9 10 11 12 13 14]]\n",
      "{'edge1': (array([505.64641428,   5.65276446, 200.77969915]), array([  5.65287965, 505.65921738, 200.71796804])), 'edge2': (array([494.34712035, 505.65921738, 204.28203196]), array([ -5.64641428,   5.65276446, 204.22030085]))}\n",
      "min distance is:  [3.50372783]\n",
      "contact type is: ['EdgeToEdge']\n",
      "mask: [[ 3  4  5  6  7  8  0  1  2 15 16 17  9 10 11 12 13 14]]\n",
      "Delta: [3.50372783]\n",
      "upper limit for quadratic: 1.75\n",
      "upper limit for smooth: 2.25\n",
      "{'edge1': (array([505.6460985 ,   5.65245203, 200.77944808]), array([  5.65256719, 505.65889998, 200.71771632])), 'edge2': (array([494.34743281, 505.65889998, 204.28228368]), array([ -5.6460985 ,   5.65245203, 204.22055192]))}\n",
      "min distance is:  [3.50423057]\n",
      "contact type is: ['EdgeToEdge']\n",
      "mask: [[ 3  4  5  6  7  8  0  1  2 15 16 17  9 10 11 12 13 14]]\n",
      "{'edge1': (array([505.6460985 ,   5.65245203, 200.77944808]), array([  5.65256719, 505.65889998, 200.71771632])), 'edge2': (array([494.34743281, 505.65889998, 204.28228368]), array([ -5.6460985 ,   5.65245203, 204.22055192]))}\n",
      "min distance is:  [3.50423057]\n",
      "contact type is: ['EdgeToEdge']\n",
      "mask: [[ 3  4  5  6  7  8  0  1  2 15 16 17  9 10 11 12 13 14]]\n",
      "{'edge1': (array([505.6460985 ,   5.65245203, 200.77944808]), array([  5.65256719, 505.65889998, 200.71771632])), 'edge2': (array([494.34743281, 505.65889998, 204.28228368]), array([ -5.6460985 ,   5.65245203, 204.22055192]))}\n",
      "min distance is:  [3.50423057]\n",
      "contact type is: ['EdgeToEdge']\n",
      "mask: [[ 3  4  5  6  7  8  0  1  2 15 16 17  9 10 11 12 13 14]]\n",
      "Delta: [3.50423057]\n",
      "upper limit for quadratic: 1.75\n",
      "upper limit for smooth: 2.25\n",
      "{'edge1': (array([505.77957654,   5.78606004, 199.50023175]), array([  5.78617739, 505.79264823, 199.43687532])), 'edge2': (array([494.21382261, 505.79264823, 203.06312468]), array([ -5.77957654,   5.78606004, 202.99976825]))}\n",
      "min distance is:  [3.56435845]\n",
      "contact type is: ['EdgeToEdge']\n",
      "mask: [[ 3  4  5  6  7  8  0  1  2 15 16 17  9 10 11 12 13 14]]\n",
      "{'edge1': (array([505.77957654,   5.78606004, 199.50023175]), array([  5.78617739, 505.79264823, 199.43687532])), 'edge2': (array([494.21382261, 505.79264823, 203.06312468]), array([ -5.77957654,   5.78606004, 202.99976825]))}\n",
      "min distance is:  [3.56435845]\n",
      "contact type is: ['EdgeToEdge']\n",
      "mask: [[ 3  4  5  6  7  8  0  1  2 15 16 17  9 10 11 12 13 14]]\n",
      "{'edge1': (array([505.77957654,   5.78606004, 199.50023175]), array([  5.78617739, 505.79264823, 199.43687532])), 'edge2': (array([494.21382261, 505.79264823, 203.06312468]), array([ -5.77957654,   5.78606004, 202.99976825]))}\n",
      "min distance is:  [3.56435845]\n",
      "contact type is: ['EdgeToEdge']\n",
      "mask: [[ 3  4  5  6  7  8  0  1  2 15 16 17  9 10 11 12 13 14]]\n",
      "Delta: [3.56435845]\n",
      "upper limit for quadratic: 1.75\n",
      "upper limit for smooth: 2.25\n",
      "{'edge1': (array([505.77926029,   5.78574714, 199.49998187]), array([  5.78586446, 505.79233036, 199.43662479])), 'edge2': (array([494.21413554, 505.79233036, 203.06337521]), array([ -5.77926029,   5.78574714, 203.00001813]))}\n",
      "min distance is:  [3.5648588]\n",
      "contact type is: ['EdgeToEdge']\n",
      "mask: [[ 3  4  5  6  7  8  0  1  2 15 16 17  9 10 11 12 13 14]]\n",
      "{'edge1': (array([505.77926029,   5.78574714, 199.49998187]), array([  5.78586446, 505.79233036, 199.43662479])), 'edge2': (array([494.21413554, 505.79233036, 203.06337521]), array([ -5.77926029,   5.78574714, 203.00001813]))}\n",
      "min distance is:  [3.5648588]\n",
      "contact type is: ['EdgeToEdge']\n",
      "mask: [[ 3  4  5  6  7  8  0  1  2 15 16 17  9 10 11 12 13 14]]\n",
      "{'edge1': (array([505.77926029,   5.78574714, 199.49998187]), array([  5.78586446, 505.79233036, 199.43662479])), 'edge2': (array([494.21413554, 505.79233036, 203.06337521]), array([ -5.77926029,   5.78574714, 203.00001813]))}\n",
      "min distance is:  [3.5648588]\n",
      "contact type is: ['EdgeToEdge']\n",
      "mask: [[ 3  4  5  6  7  8  0  1  2 15 16 17  9 10 11 12 13 14]]\n",
      "Delta: [3.5648588]\n",
      "upper limit for quadratic: 1.75\n",
      "upper limit for smooth: 2.25\n",
      "{'edge1': (array([505.91210263,   5.91871784, 198.22026469]), array([  5.9188373 , 505.92543963, 198.15528163])), 'edge2': (array([494.0811627 , 505.92543963, 201.84471837]), array([ -5.91210263,   5.91871784, 201.77973531]))}\n",
      "min distance is:  [3.62599129]\n",
      "contact type is: ['EdgeToEdge']\n",
      "mask: [[ 3  4  5  6  7  8  0  1  2 15 16 17  9 10 11 12 13 14]]\n",
      "{'edge1': (array([505.91210263,   5.91871784, 198.22026469]), array([  5.9188373 , 505.92543963, 198.15528163])), 'edge2': (array([494.0811627 , 505.92543963, 201.84471837]), array([ -5.91210263,   5.91871784, 201.77973531]))}\n",
      "min distance is:  [3.62599129]\n",
      "contact type is: ['EdgeToEdge']\n",
      "mask: [[ 3  4  5  6  7  8  0  1  2 15 16 17  9 10 11 12 13 14]]\n",
      "{'edge1': (array([505.91210263,   5.91871784, 198.22026469]), array([  5.9188373 , 505.92543963, 198.15528163])), 'edge2': (array([494.0811627 , 505.92543963, 201.84471837]), array([ -5.91210263,   5.91871784, 201.77973531]))}\n",
      "min distance is:  [3.62599129]\n",
      "contact type is: ['EdgeToEdge']\n",
      "mask: [[ 3  4  5  6  7  8  0  1  2 15 16 17  9 10 11 12 13 14]]\n",
      "Delta: [3.62599129]\n",
      "upper limit for quadratic: 1.75\n",
      "upper limit for smooth: 2.25\n",
      "{'edge1': (array([505.91178592,   5.91840447, 198.22001601]), array([  5.9185239, 505.9251213, 198.1550323])), 'edge2': (array([494.0814761, 505.9251213, 201.8449677]), array([ -5.91178592,   5.91840447, 201.77998399]))}\n",
      "min distance is:  [3.62648924]\n",
      "contact type is: ['EdgeToEdge']\n",
      "mask: [[ 3  4  5  6  7  8  0  1  2 15 16 17  9 10 11 12 13 14]]\n",
      "{'edge1': (array([505.91178592,   5.91840447, 198.22001601]), array([  5.9185239, 505.9251213, 198.1550323])), 'edge2': (array([494.0814761, 505.9251213, 201.8449677]), array([ -5.91178592,   5.91840447, 201.77998399]))}\n",
      "min distance is:  [3.62648924]\n",
      "contact type is: ['EdgeToEdge']\n",
      "mask: [[ 3  4  5  6  7  8  0  1  2 15 16 17  9 10 11 12 13 14]]\n",
      "{'edge1': (array([505.91178592,   5.91840447, 198.22001601]), array([  5.9185239, 505.9251213, 198.1550323])), 'edge2': (array([494.0814761, 505.9251213, 201.8449677]), array([ -5.91178592,   5.91840447, 201.77998399]))}\n",
      "min distance is:  [3.62648924]\n",
      "contact type is: ['EdgeToEdge']\n",
      "mask: [[ 3  4  5  6  7  8  0  1  2 15 16 17  9 10 11 12 13 14]]\n",
      "Delta: [3.62648924]\n",
      "upper limit for quadratic: 1.75\n",
      "upper limit for smooth: 2.25\n",
      "{'edge1': (array([506.04399161,   6.05073693, 196.93980039]), array([  6.05085843, 506.05759066, 196.87318941])), 'edge2': (array([493.94914157, 506.05759066, 200.62681059]), array([ -6.04399161,   6.05073693, 200.56019961]))}\n",
      "min distance is:  [3.68862149]\n",
      "contact type is: ['EdgeToEdge']\n",
      "mask: [[ 3  4  5  6  7  8  0  1  2 15 16 17  9 10 11 12 13 14]]\n",
      "{'edge1': (array([506.04399161,   6.05073693, 196.93980039]), array([  6.05085843, 506.05759066, 196.87318941])), 'edge2': (array([493.94914157, 506.05759066, 200.62681059]), array([ -6.04399161,   6.05073693, 200.56019961]))}\n",
      "min distance is:  [3.68862149]\n",
      "contact type is: ['EdgeToEdge']\n",
      "mask: [[ 3  4  5  6  7  8  0  1  2 15 16 17  9 10 11 12 13 14]]\n",
      "{'edge1': (array([506.04399161,   6.05073693, 196.93980039]), array([  6.05085843, 506.05759066, 196.87318941])), 'edge2': (array([493.94914157, 506.05759066, 200.62681059]), array([ -6.04399161,   6.05073693, 200.56019961]))}\n",
      "min distance is:  [3.68862149]\n",
      "contact type is: ['EdgeToEdge']\n",
      "mask: [[ 3  4  5  6  7  8  0  1  2 15 16 17  9 10 11 12 13 14]]\n",
      "Delta: [3.68862149]\n",
      "upper limit for quadratic: 1.75\n",
      "upper limit for smooth: 2.25\n",
      "{'edge1': (array([506.04367444,   6.0504231 , 196.9395529 ]), array([  6.05054457, 506.05727186, 196.87294127])), 'edge2': (array([493.94945543, 506.05727186, 200.62705873]), array([ -6.04367444,   6.0504231 , 200.5604471 ]))}\n",
      "min distance is:  [3.68911705]\n",
      "contact type is: ['EdgeToEdge']\n",
      "mask: [[ 3  4  5  6  7  8  0  1  2 15 16 17  9 10 11 12 13 14]]\n",
      "{'edge1': (array([506.04367444,   6.0504231 , 196.9395529 ]), array([  6.05054457, 506.05727186, 196.87294127])), 'edge2': (array([493.94945543, 506.05727186, 200.62705873]), array([ -6.04367444,   6.0504231 , 200.5604471 ]))}\n",
      "min distance is:  [3.68911705]\n",
      "contact type is: ['EdgeToEdge']\n",
      "mask: [[ 3  4  5  6  7  8  0  1  2 15 16 17  9 10 11 12 13 14]]\n",
      "{'edge1': (array([506.04367444,   6.0504231 , 196.9395529 ]), array([  6.05054457, 506.05727186, 196.87294127])), 'edge2': (array([493.94945543, 506.05727186, 200.62705873]), array([ -6.04367444,   6.0504231 , 200.5604471 ]))}\n",
      "min distance is:  [3.68911705]\n",
      "contact type is: ['EdgeToEdge']\n",
      "mask: [[ 3  4  5  6  7  8  0  1  2 15 16 17  9 10 11 12 13 14]]\n",
      "Delta: [3.68911705]\n",
      "upper limit for quadratic: 1.75\n",
      "upper limit for smooth: 2.25\n",
      "{'edge1': (array([506.17524257,   6.18211639, 195.65884128]), array([  6.18223986, 506.18910038, 195.59060106])), 'edge2': (array([493.81776014, 506.18910038, 199.40939894]), array([ -6.17524257,   6.18211639, 199.34115872]))}\n",
      "min distance is:  [3.7522442]\n",
      "contact type is: ['EdgeToEdge']\n",
      "mask: [[ 3  4  5  6  7  8  0  1  2 15 16 17  9 10 11 12 13 14]]\n",
      "{'edge1': (array([506.17524257,   6.18211639, 195.65884128]), array([  6.18223986, 506.18910038, 195.59060106])), 'edge2': (array([493.81776014, 506.18910038, 199.40939894]), array([ -6.17524257,   6.18211639, 199.34115872]))}\n",
      "min distance is:  [3.7522442]\n",
      "contact type is: ['EdgeToEdge']\n",
      "mask: [[ 3  4  5  6  7  8  0  1  2 15 16 17  9 10 11 12 13 14]]\n",
      "{'edge1': (array([506.17524257,   6.18211639, 195.65884128]), array([  6.18223986, 506.18910038, 195.59060106])), 'edge2': (array([493.81776014, 506.18910038, 199.40939894]), array([ -6.17524257,   6.18211639, 199.34115872]))}\n",
      "min distance is:  [3.7522442]\n",
      "contact type is: ['EdgeToEdge']\n",
      "mask: [[ 3  4  5  6  7  8  0  1  2 15 16 17  9 10 11 12 13 14]]\n",
      "Delta: [3.7522442]\n",
      "upper limit for quadratic: 1.75\n",
      "upper limit for smooth: 2.25\n",
      "{'edge1': (array([506.17492493,   6.1818021 , 195.65859498]), array([  6.18192554, 506.18878111, 195.59035413])), 'edge2': (array([493.81807446, 506.18878111, 199.40964587]), array([ -6.17492493,   6.1818021 , 199.34140502]))}\n",
      "min distance is:  [3.75273736]\n",
      "contact type is: ['EdgeToEdge']\n",
      "mask: [[ 3  4  5  6  7  8  0  1  2 15 16 17  9 10 11 12 13 14]]\n",
      "{'edge1': (array([506.17492493,   6.1818021 , 195.65859498]), array([  6.18192554, 506.18878111, 195.59035413])), 'edge2': (array([493.81807446, 506.18878111, 199.40964587]), array([ -6.17492493,   6.1818021 , 199.34140502]))}\n",
      "min distance is:  [3.75273736]\n",
      "contact type is: ['EdgeToEdge']\n",
      "mask: [[ 3  4  5  6  7  8  0  1  2 15 16 17  9 10 11 12 13 14]]\n",
      "{'edge1': (array([506.17492493,   6.1818021 , 195.65859498]), array([  6.18192554, 506.18878111, 195.59035413])), 'edge2': (array([493.81807446, 506.18878111, 199.40964587]), array([ -6.17492493,   6.1818021 , 199.34140502]))}\n",
      "min distance is:  [3.75273736]\n",
      "contact type is: ['EdgeToEdge']\n",
      "mask: [[ 3  4  5  6  7  8  0  1  2 15 16 17  9 10 11 12 13 14]]\n",
      "Delta: [3.75273736]\n",
      "upper limit for quadratic: 1.75\n",
      "upper limit for smooth: 2.25\n",
      "{'edge1': (array([506.30585457,   6.31285529, 194.37738977]), array([  6.31298067, 506.31996785, 194.30751904])), 'edge2': (array([493.68701933, 506.31996785, 198.19248096]), array([ -6.30585457,   6.31285529, 198.12261023]))}\n",
      "min distance is:  [3.81685456]\n",
      "contact type is: ['EdgeToEdge']\n",
      "mask: [[ 3  4  5  6  7  8  0  1  2 15 16 17  9 10 11 12 13 14]]\n",
      "{'edge1': (array([506.30585457,   6.31285529, 194.37738977]), array([  6.31298067, 506.31996785, 194.30751904])), 'edge2': (array([493.68701933, 506.31996785, 198.19248096]), array([ -6.30585457,   6.31285529, 198.12261023]))}\n",
      "min distance is:  [3.81685456]\n",
      "contact type is: ['EdgeToEdge']\n",
      "mask: [[ 3  4  5  6  7  8  0  1  2 15 16 17  9 10 11 12 13 14]]\n",
      "{'edge1': (array([506.30585457,   6.31285529, 194.37738977]), array([  6.31298067, 506.31996785, 194.30751904])), 'edge2': (array([493.68701933, 506.31996785, 198.19248096]), array([ -6.30585457,   6.31285529, 198.12261023]))}\n",
      "min distance is:  [3.81685456]\n",
      "contact type is: ['EdgeToEdge']\n",
      "mask: [[ 3  4  5  6  7  8  0  1  2 15 16 17  9 10 11 12 13 14]]\n",
      "Delta: [3.81685456]\n",
      "upper limit for quadratic: 1.75\n",
      "upper limit for smooth: 2.25\n",
      "{'edge1': (array([506.30553647,   6.31254054, 194.37714467]), array([  6.31266588, 506.31964812, 194.3072733 ])), 'edge2': (array([493.68733412, 506.31964812, 198.1927267 ]), array([ -6.30553647,   6.31254054, 198.12285533]))}\n",
      "min distance is:  [3.81734532]\n",
      "contact type is: ['EdgeToEdge']\n",
      "mask: [[ 3  4  5  6  7  8  0  1  2 15 16 17  9 10 11 12 13 14]]\n",
      "{'edge1': (array([506.30553647,   6.31254054, 194.37714467]), array([  6.31266588, 506.31964812, 194.3072733 ])), 'edge2': (array([493.68733412, 506.31964812, 198.1927267 ]), array([ -6.30553647,   6.31254054, 198.12285533]))}\n",
      "min distance is:  [3.81734532]\n",
      "contact type is: ['EdgeToEdge']\n",
      "mask: [[ 3  4  5  6  7  8  0  1  2 15 16 17  9 10 11 12 13 14]]\n",
      "{'edge1': (array([506.30553647,   6.31254054, 194.37714467]), array([  6.31266588, 506.31964812, 194.3072733 ])), 'edge2': (array([493.68733412, 506.31964812, 198.1927267 ]), array([ -6.30553647,   6.31254054, 198.12285533]))}\n",
      "min distance is:  [3.81734532]\n",
      "contact type is: ['EdgeToEdge']\n",
      "mask: [[ 3  4  5  6  7  8  0  1  2 15 16 17  9 10 11 12 13 14]]\n",
      "Delta: [3.81734532]\n",
      "upper limit for quadratic: 1.75\n",
      "upper limit for smooth: 2.25\n",
      "{'edge1': (array([506.4358267 ,   6.44295271, 193.09544829]), array([  6.44307993, 506.45019216, 193.02394576])), 'edge2': (array([493.55692007, 506.45019216, 196.97605424]), array([ -6.4358267 ,   6.44295271, 196.90455171]))}\n",
      "min distance is:  [3.88244769]\n",
      "contact type is: ['EdgeToEdge']\n",
      "mask: [[ 3  4  5  6  7  8  0  1  2 15 16 17  9 10 11 12 13 14]]\n",
      "{'edge1': (array([506.4358267 ,   6.44295271, 193.09544829]), array([  6.44307993, 506.45019216, 193.02394576])), 'edge2': (array([493.55692007, 506.45019216, 196.97605424]), array([ -6.4358267 ,   6.44295271, 196.90455171]))}\n",
      "min distance is:  [3.88244769]\n",
      "contact type is: ['EdgeToEdge']\n",
      "mask: [[ 3  4  5  6  7  8  0  1  2 15 16 17  9 10 11 12 13 14]]\n",
      "{'edge1': (array([506.4358267 ,   6.44295271, 193.09544829]), array([  6.44307993, 506.45019216, 193.02394576])), 'edge2': (array([493.55692007, 506.45019216, 196.97605424]), array([ -6.4358267 ,   6.44295271, 196.90455171]))}\n",
      "min distance is:  [3.88244769]\n",
      "contact type is: ['EdgeToEdge']\n",
      "mask: [[ 3  4  5  6  7  8  0  1  2 15 16 17  9 10 11 12 13 14]]\n",
      "Delta: [3.88244769]\n",
      "upper limit for quadratic: 1.75\n",
      "upper limit for smooth: 2.25\n",
      "{'edge1': (array([506.43550815,   6.4426375 , 193.0952044 ]), array([  6.44276468, 506.44987197, 193.02370122])), 'edge2': (array([493.55723532, 506.44987197, 196.97629878]), array([ -6.43550815,   6.4426375 , 196.9047956 ]))}\n",
      "min distance is:  [3.88293604]\n",
      "contact type is: ['EdgeToEdge']\n",
      "mask: [[ 3  4  5  6  7  8  0  1  2 15 16 17  9 10 11 12 13 14]]\n",
      "{'edge1': (array([506.43550815,   6.4426375 , 193.0952044 ]), array([  6.44276468, 506.44987197, 193.02370122])), 'edge2': (array([493.55723532, 506.44987197, 196.97629878]), array([ -6.43550815,   6.4426375 , 196.9047956 ]))}\n",
      "min distance is:  [3.88293604]\n",
      "contact type is: ['EdgeToEdge']\n",
      "mask: [[ 3  4  5  6  7  8  0  1  2 15 16 17  9 10 11 12 13 14]]\n",
      "{'edge1': (array([506.43550815,   6.4426375 , 193.0952044 ]), array([  6.44276468, 506.44987197, 193.02370122])), 'edge2': (array([493.55723532, 506.44987197, 196.97629878]), array([ -6.43550815,   6.4426375 , 196.9047956 ]))}\n",
      "min distance is:  [3.88293604]\n",
      "contact type is: ['EdgeToEdge']\n",
      "mask: [[ 3  4  5  6  7  8  0  1  2 15 16 17  9 10 11 12 13 14]]\n",
      "Delta: [3.88293604]\n",
      "upper limit for quadratic: 1.75\n",
      "upper limit for smooth: 2.25\n",
      "{'edge1': (array([506.56515806,   6.57240774, 191.81301928]), array([  6.57253672, 506.57977238, 191.73988366])), 'edge2': (array([493.42746328, 506.57977238, 195.76011634]), array([ -6.56515806,   6.57240774, 195.68698072]))}\n",
      "min distance is:  [3.94901871]\n",
      "contact type is: ['EdgeToEdge']\n",
      "mask: [[ 3  4  5  6  7  8  0  1  2 15 16 17  9 10 11 12 13 14]]\n",
      "{'edge1': (array([506.56515806,   6.57240774, 191.81301928]), array([  6.57253672, 506.57977238, 191.73988366])), 'edge2': (array([493.42746328, 506.57977238, 195.76011634]), array([ -6.56515806,   6.57240774, 195.68698072]))}\n",
      "min distance is:  [3.94901871]\n",
      "contact type is: ['EdgeToEdge']\n",
      "mask: [[ 3  4  5  6  7  8  0  1  2 15 16 17  9 10 11 12 13 14]]\n",
      "{'edge1': (array([506.56515806,   6.57240774, 191.81301928]), array([  6.57253672, 506.57977238, 191.73988366])), 'edge2': (array([493.42746328, 506.57977238, 195.76011634]), array([ -6.56515806,   6.57240774, 195.68698072]))}\n",
      "min distance is:  [3.94901871]\n",
      "contact type is: ['EdgeToEdge']\n",
      "mask: [[ 3  4  5  6  7  8  0  1  2 15 16 17  9 10 11 12 13 14]]\n",
      "Delta: [3.94901871]\n",
      "upper limit for quadratic: 1.75\n",
      "upper limit for smooth: 2.25\n",
      "{'edge1': (array([506.56483905,   6.57209207, 191.81277659]), array([  6.57222102, 506.57945174, 191.73964033])), 'edge2': (array([493.42777898, 506.57945174, 195.76035967]), array([ -6.56483905,   6.57209207, 195.68722341]))}\n",
      "min distance is:  [3.94950465]\n",
      "contact type is: ['EdgeToEdge']\n",
      "mask: [[ 3  4  5  6  7  8  0  1  2 15 16 17  9 10 11 12 13 14]]\n",
      "{'edge1': (array([506.56483905,   6.57209207, 191.81277659]), array([  6.57222102, 506.57945174, 191.73964033])), 'edge2': (array([493.42777898, 506.57945174, 195.76035967]), array([ -6.56483905,   6.57209207, 195.68722341]))}\n",
      "min distance is:  [3.94950465]\n",
      "contact type is: ['EdgeToEdge']\n",
      "mask: [[ 3  4  5  6  7  8  0  1  2 15 16 17  9 10 11 12 13 14]]\n",
      "{'edge1': (array([506.56483905,   6.57209207, 191.81277659]), array([  6.57222102, 506.57945174, 191.73964033])), 'edge2': (array([493.42777898, 506.57945174, 195.76035967]), array([ -6.56483905,   6.57209207, 195.68722341]))}\n",
      "min distance is:  [3.94950465]\n",
      "contact type is: ['EdgeToEdge']\n",
      "mask: [[ 3  4  5  6  7  8  0  1  2 15 16 17  9 10 11 12 13 14]]\n",
      "Delta: [3.94950465]\n",
      "upper limit for quadratic: 1.75\n",
      "upper limit for smooth: 2.25\n",
      "{'edge1': (array([506.69384772,   6.70121946, 190.53010517]), array([  6.70135013, 506.70870761, 190.45533518])), 'edge2': (array([493.29864987, 506.70870761, 194.54466482]), array([ -6.69384772,   6.70121946, 194.46989483]))}\n",
      "min distance is:  [4.01656274]\n",
      "contact type is: ['EdgeToEdge']\n",
      "mask: [[ 3  4  5  6  7  8  0  1  2 15 16 17  9 10 11 12 13 14]]\n",
      "{'edge1': (array([506.69384772,   6.70121946, 190.53010517]), array([  6.70135013, 506.70870761, 190.45533518])), 'edge2': (array([493.29864987, 506.70870761, 194.54466482]), array([ -6.69384772,   6.70121946, 194.46989483]))}\n",
      "min distance is:  [4.01656274]\n",
      "contact type is: ['EdgeToEdge']\n",
      "mask: [[ 3  4  5  6  7  8  0  1  2 15 16 17  9 10 11 12 13 14]]\n",
      "{'edge1': (array([506.69384772,   6.70121946, 190.53010517]), array([  6.70135013, 506.70870761, 190.45533518])), 'edge2': (array([493.29864987, 506.70870761, 194.54466482]), array([ -6.69384772,   6.70121946, 194.46989483]))}\n",
      "min distance is:  [4.01656274]\n",
      "contact type is: ['EdgeToEdge']\n",
      "mask: [[ 3  4  5  6  7  8  0  1  2 15 16 17  9 10 11 12 13 14]]\n",
      "Delta: [4.01656274]\n",
      "upper limit for quadratic: 1.75\n",
      "upper limit for smooth: 2.25\n",
      "{'edge1': (array([506.69352826,   6.70090334, 190.52986369]), array([  6.70103398, 506.70838651, 190.45509306])), 'edge2': (array([493.29896602, 506.70838651, 194.54490694]), array([ -6.69352826,   6.70090334, 194.47013631]))}\n",
      "min distance is:  [4.01704627]\n",
      "contact type is: ['EdgeToEdge']\n",
      "mask: [[ 3  4  5  6  7  8  0  1  2 15 16 17  9 10 11 12 13 14]]\n",
      "{'edge1': (array([506.69352826,   6.70090334, 190.52986369]), array([  6.70103398, 506.70838651, 190.45509306])), 'edge2': (array([493.29896602, 506.70838651, 194.54490694]), array([ -6.69352826,   6.70090334, 194.47013631]))}\n",
      "min distance is:  [4.01704627]\n",
      "contact type is: ['EdgeToEdge']\n",
      "mask: [[ 3  4  5  6  7  8  0  1  2 15 16 17  9 10 11 12 13 14]]\n",
      "{'edge1': (array([506.69352826,   6.70090334, 190.52986369]), array([  6.70103398, 506.70838651, 190.45509306])), 'edge2': (array([493.29896602, 506.70838651, 194.54490694]), array([ -6.69352826,   6.70090334, 194.47013631]))}\n",
      "min distance is:  [4.01704627]\n",
      "contact type is: ['EdgeToEdge']\n",
      "mask: [[ 3  4  5  6  7  8  0  1  2 15 16 17  9 10 11 12 13 14]]\n",
      "Delta: [4.01704627]\n",
      "upper limit for quadratic: 1.75\n",
      "upper limit for smooth: 2.25\n",
      "{'edge1': (array([506.82189479,   6.82938697, 189.2467084 ]), array([  6.82951926, 506.83699693, 189.17030278])), 'edge2': (array([493.17048074, 506.83699693, 193.32969722]), array([ -6.82189479,   6.82938697, 193.2532916 ]))}\n",
      "min distance is:  [4.08507489]\n",
      "contact type is: ['EdgeToEdge']\n",
      "mask: [[ 3  4  5  6  7  8  0  1  2 15 16 17  9 10 11 12 13 14]]\n",
      "{'edge1': (array([506.82189479,   6.82938697, 189.2467084 ]), array([  6.82951926, 506.83699693, 189.17030278])), 'edge2': (array([493.17048074, 506.83699693, 193.32969722]), array([ -6.82189479,   6.82938697, 193.2532916 ]))}\n",
      "min distance is:  [4.08507489]\n",
      "contact type is: ['EdgeToEdge']\n",
      "mask: [[ 3  4  5  6  7  8  0  1  2 15 16 17  9 10 11 12 13 14]]\n",
      "{'edge1': (array([506.82189479,   6.82938697, 189.2467084 ]), array([  6.82951926, 506.83699693, 189.17030278])), 'edge2': (array([493.17048074, 506.83699693, 193.32969722]), array([ -6.82189479,   6.82938697, 193.2532916 ]))}\n",
      "min distance is:  [4.08507489]\n",
      "contact type is: ['EdgeToEdge']\n",
      "mask: [[ 3  4  5  6  7  8  0  1  2 15 16 17  9 10 11 12 13 14]]\n",
      "Delta: [4.08507489]\n",
      "upper limit for quadratic: 1.75\n",
      "upper limit for smooth: 2.25\n",
      "{'edge1': (array([506.82157489,   6.8290704 , 189.24646813]), array([  6.82920266, 506.83667537, 189.17006187])), 'edge2': (array([493.17079734, 506.83667537, 193.32993813]), array([ -6.82157489,   6.8290704 , 193.25353187]))}\n",
      "min distance is:  [4.085556]\n",
      "contact type is: ['EdgeToEdge']\n",
      "mask: [[ 3  4  5  6  7  8  0  1  2 15 16 17  9 10 11 12 13 14]]\n",
      "{'edge1': (array([506.82157489,   6.8290704 , 189.24646813]), array([  6.82920266, 506.83667537, 189.17006187])), 'edge2': (array([493.17079734, 506.83667537, 193.32993813]), array([ -6.82157489,   6.8290704 , 193.25353187]))}\n",
      "min distance is:  [4.085556]\n",
      "contact type is: ['EdgeToEdge']\n",
      "mask: [[ 3  4  5  6  7  8  0  1  2 15 16 17  9 10 11 12 13 14]]\n",
      "{'edge1': (array([506.82157489,   6.8290704 , 189.24646813]), array([  6.82920266, 506.83667537, 189.17006187])), 'edge2': (array([493.17079734, 506.83667537, 193.32993813]), array([ -6.82157489,   6.8290704 , 193.25353187]))}\n",
      "min distance is:  [4.085556]\n",
      "contact type is: ['EdgeToEdge']\n",
      "mask: [[ 3  4  5  6  7  8  0  1  2 15 16 17  9 10 11 12 13 14]]\n",
      "Delta: [4.085556]\n",
      "upper limit for quadratic: 1.75\n",
      "upper limit for smooth: 2.25\n",
      "{'edge1': (array([506.94929838,   6.95690937, 187.96283141]), array([  6.9570432 , 506.96463943, 187.88478889])), 'edge2': (array([493.0429568 , 506.96463943, 192.11521111]), array([ -6.94929838,   6.95690937, 192.03716859]))}\n",
      "min distance is:  [4.15455026]\n",
      "contact type is: ['EdgeToEdge']\n",
      "mask: [[ 3  4  5  6  7  8  0  1  2 15 16 17  9 10 11 12 13 14]]\n",
      "{'edge1': (array([506.94929838,   6.95690937, 187.96283141]), array([  6.9570432 , 506.96463943, 187.88478889])), 'edge2': (array([493.0429568 , 506.96463943, 192.11521111]), array([ -6.94929838,   6.95690937, 192.03716859]))}\n",
      "min distance is:  [4.15455026]\n",
      "contact type is: ['EdgeToEdge']\n",
      "mask: [[ 3  4  5  6  7  8  0  1  2 15 16 17  9 10 11 12 13 14]]\n",
      "{'edge1': (array([506.94929838,   6.95690937, 187.96283141]), array([  6.9570432 , 506.96463943, 187.88478889])), 'edge2': (array([493.0429568 , 506.96463943, 192.11521111]), array([ -6.94929838,   6.95690937, 192.03716859]))}\n",
      "min distance is:  [4.15455026]\n",
      "contact type is: ['EdgeToEdge']\n",
      "mask: [[ 3  4  5  6  7  8  0  1  2 15 16 17  9 10 11 12 13 14]]\n",
      "Delta: [4.15455026]\n",
      "upper limit for quadratic: 1.75\n",
      "upper limit for smooth: 2.25\n",
      "{'edge1': (array([506.94897802,   6.95659235, 187.96259234]), array([  6.95672615, 506.96431742, 187.88454918])), 'edge2': (array([493.04327385, 506.96431742, 192.11545082]), array([ -6.94897802,   6.95659235, 192.03740766]))}\n",
      "min distance is:  [4.15502895]\n",
      "contact type is: ['EdgeToEdge']\n",
      "mask: [[ 3  4  5  6  7  8  0  1  2 15 16 17  9 10 11 12 13 14]]\n",
      "{'edge1': (array([506.94897802,   6.95659235, 187.96259234]), array([  6.95672615, 506.96431742, 187.88454918])), 'edge2': (array([493.04327385, 506.96431742, 192.11545082]), array([ -6.94897802,   6.95659235, 192.03740766]))}\n",
      "min distance is:  [4.15502895]\n",
      "contact type is: ['EdgeToEdge']\n",
      "mask: [[ 3  4  5  6  7  8  0  1  2 15 16 17  9 10 11 12 13 14]]\n",
      "{'edge1': (array([506.94897802,   6.95659235, 187.96259234]), array([  6.95672615, 506.96431742, 187.88454918])), 'edge2': (array([493.04327385, 506.96431742, 192.11545082]), array([ -6.94897802,   6.95659235, 192.03740766]))}\n",
      "min distance is:  [4.15502895]\n",
      "contact type is: ['EdgeToEdge']\n",
      "mask: [[ 3  4  5  6  7  8  0  1  2 15 16 17  9 10 11 12 13 14]]\n",
      "Delta: [4.15502895]\n",
      "upper limit for quadratic: 1.75\n",
      "upper limit for smooth: 2.25\n",
      "{'edge1': (array([507.07605757,   7.08378576, 186.67847665]), array([  7.08392106, 507.09163421, 186.59879596])), 'edge2': (array([492.91607894, 507.09163421, 190.90120404]), array([ -7.07605757,   7.08378576, 190.82152335]))}\n",
      "min distance is:  [4.22498393]\n",
      "contact type is: ['EdgeToEdge']\n",
      "mask: [[ 3  4  5  6  7  8  0  1  2 15 16 17  9 10 11 12 13 14]]\n",
      "{'edge1': (array([507.07605757,   7.08378576, 186.67847665]), array([  7.08392106, 507.09163421, 186.59879596])), 'edge2': (array([492.91607894, 507.09163421, 190.90120404]), array([ -7.07605757,   7.08378576, 190.82152335]))}\n",
      "min distance is:  [4.22498393]\n",
      "contact type is: ['EdgeToEdge']\n",
      "mask: [[ 3  4  5  6  7  8  0  1  2 15 16 17  9 10 11 12 13 14]]\n",
      "{'edge1': (array([507.07605757,   7.08378576, 186.67847665]), array([  7.08392106, 507.09163421, 186.59879596])), 'edge2': (array([492.91607894, 507.09163421, 190.90120404]), array([ -7.07605757,   7.08378576, 190.82152335]))}\n",
      "min distance is:  [4.22498393]\n",
      "contact type is: ['EdgeToEdge']\n",
      "mask: [[ 3  4  5  6  7  8  0  1  2 15 16 17  9 10 11 12 13 14]]\n",
      "Delta: [4.22498393]\n",
      "upper limit for quadratic: 1.75\n",
      "upper limit for smooth: 2.25\n",
      "{'edge1': (array([507.07573677,   7.08346829, 186.67823879]), array([  7.08360356, 507.09131176, 186.59855746])), 'edge2': (array([492.91639644, 507.09131176, 190.90144254]), array([ -7.07573677,   7.08346829, 190.82176121]))}\n",
      "min distance is:  [4.2254602]\n",
      "contact type is: ['EdgeToEdge']\n",
      "mask: [[ 3  4  5  6  7  8  0  1  2 15 16 17  9 10 11 12 13 14]]\n",
      "{'edge1': (array([507.07573677,   7.08346829, 186.67823879]), array([  7.08360356, 507.09131176, 186.59855746])), 'edge2': (array([492.91639644, 507.09131176, 190.90144254]), array([ -7.07573677,   7.08346829, 190.82176121]))}\n",
      "min distance is:  [4.2254602]\n",
      "contact type is: ['EdgeToEdge']\n",
      "mask: [[ 3  4  5  6  7  8  0  1  2 15 16 17  9 10 11 12 13 14]]\n",
      "{'edge1': (array([507.07573677,   7.08346829, 186.67823879]), array([  7.08360356, 507.09131176, 186.59855746])), 'edge2': (array([492.91639644, 507.09131176, 190.90144254]), array([ -7.07573677,   7.08346829, 190.82176121]))}\n",
      "min distance is:  [4.2254602]\n",
      "contact type is: ['EdgeToEdge']\n",
      "mask: [[ 3  4  5  6  7  8  0  1  2 15 16 17  9 10 11 12 13 14]]\n",
      "Delta: [4.2254602]\n",
      "upper limit for quadratic: 1.75\n",
      "upper limit for smooth: 2.25\n",
      "{'edge1': (array([507.2021715 ,   7.21001525, 185.39364656]), array([  7.21015194, 507.21798039, 185.31232644])), 'edge2': (array([492.78984806, 507.21798039, 189.68767356]), array([ -7.2021715 ,   7.21001525, 189.60635344]))}\n",
      "min distance is:  [4.296371]\n",
      "contact type is: ['EdgeToEdge']\n",
      "mask: [[ 3  4  5  6  7  8  0  1  2 15 16 17  9 10 11 12 13 14]]\n",
      "{'edge1': (array([507.2021715 ,   7.21001525, 185.39364656]), array([  7.21015194, 507.21798039, 185.31232644])), 'edge2': (array([492.78984806, 507.21798039, 189.68767356]), array([ -7.2021715 ,   7.21001525, 189.60635344]))}\n",
      "min distance is:  [4.296371]\n",
      "contact type is: ['EdgeToEdge']\n",
      "mask: [[ 3  4  5  6  7  8  0  1  2 15 16 17  9 10 11 12 13 14]]\n",
      "{'edge1': (array([507.2021715 ,   7.21001525, 185.39364656]), array([  7.21015194, 507.21798039, 185.31232644])), 'edge2': (array([492.78984806, 507.21798039, 189.68767356]), array([ -7.2021715 ,   7.21001525, 189.60635344]))}\n",
      "min distance is:  [4.296371]\n",
      "contact type is: ['EdgeToEdge']\n",
      "mask: [[ 3  4  5  6  7  8  0  1  2 15 16 17  9 10 11 12 13 14]]\n",
      "Delta: [4.296371]\n",
      "upper limit for quadratic: 1.75\n",
      "upper limit for smooth: 2.25\n",
      "{'edge1': (array([507.20185025,   7.20969734, 185.39340991]), array([  7.20983399, 507.21765749, 185.31208916])), 'edge2': (array([492.79016601, 507.21765749, 189.68791084]), array([ -7.20185025,   7.20969734, 189.60659009]))}\n",
      "min distance is:  [4.29684485]\n",
      "contact type is: ['EdgeToEdge']\n",
      "mask: [[ 3  4  5  6  7  8  0  1  2 15 16 17  9 10 11 12 13 14]]\n",
      "{'edge1': (array([507.20185025,   7.20969734, 185.39340991]), array([  7.20983399, 507.21765749, 185.31208916])), 'edge2': (array([492.79016601, 507.21765749, 189.68791084]), array([ -7.20185025,   7.20969734, 189.60659009]))}\n",
      "min distance is:  [4.29684485]\n",
      "contact type is: ['EdgeToEdge']\n",
      "mask: [[ 3  4  5  6  7  8  0  1  2 15 16 17  9 10 11 12 13 14]]\n",
      "{'edge1': (array([507.20185025,   7.20969734, 185.39340991]), array([  7.20983399, 507.21765749, 185.31208916])), 'edge2': (array([492.79016601, 507.21765749, 189.68791084]), array([ -7.20185025,   7.20969734, 189.60659009]))}\n",
      "min distance is:  [4.29684485]\n",
      "contact type is: ['EdgeToEdge']\n",
      "mask: [[ 3  4  5  6  7  8  0  1  2 15 16 17  9 10 11 12 13 14]]\n",
      "Delta: [4.29684485]\n",
      "upper limit for quadratic: 1.75\n",
      "upper limit for smooth: 2.25\n",
      "{'edge1': (array([507.32763926,   7.33559695, 184.10834359]), array([  7.33573495, 507.34367706, 184.0253828 ])), 'edge2': (array([492.66426505, 507.34367706, 188.4746172 ]), array([ -7.32763926,   7.33559695, 188.39165641]))}\n",
      "min distance is:  [4.36870656]\n",
      "contact type is: ['EdgeToEdge']\n",
      "mask: [[ 3  4  5  6  7  8  0  1  2 15 16 17  9 10 11 12 13 14]]\n",
      "{'edge1': (array([507.32763926,   7.33559695, 184.10834359]), array([  7.33573495, 507.34367706, 184.0253828 ])), 'edge2': (array([492.66426505, 507.34367706, 188.4746172 ]), array([ -7.32763926,   7.33559695, 188.39165641]))}\n",
      "min distance is:  [4.36870656]\n",
      "contact type is: ['EdgeToEdge']\n",
      "mask: [[ 3  4  5  6  7  8  0  1  2 15 16 17  9 10 11 12 13 14]]\n",
      "{'edge1': (array([507.32763926,   7.33559695, 184.10834359]), array([  7.33573495, 507.34367706, 184.0253828 ])), 'edge2': (array([492.66426505, 507.34367706, 188.4746172 ]), array([ -7.32763926,   7.33559695, 188.39165641]))}\n",
      "min distance is:  [4.36870656]\n",
      "contact type is: ['EdgeToEdge']\n",
      "mask: [[ 3  4  5  6  7  8  0  1  2 15 16 17  9 10 11 12 13 14]]\n",
      "Delta: [4.36870656]\n",
      "upper limit for quadratic: 1.75\n",
      "upper limit for smooth: 2.25\n",
      "{'edge1': (array([507.32731758,   7.3352786 , 184.10810815]), array([  7.33541656, 507.34335372, 184.02514674])), 'edge2': (array([492.66458344, 507.34335372, 188.47485326]), array([ -7.32731758,   7.3352786 , 188.39189185]))}\n",
      "min distance is:  [4.36917797]\n",
      "contact type is: ['EdgeToEdge']\n",
      "mask: [[ 3  4  5  6  7  8  0  1  2 15 16 17  9 10 11 12 13 14]]\n",
      "{'edge1': (array([507.32731758,   7.3352786 , 184.10810815]), array([  7.33541656, 507.34335372, 184.02514674])), 'edge2': (array([492.66458344, 507.34335372, 188.47485326]), array([ -7.32731758,   7.3352786 , 188.39189185]))}\n",
      "min distance is:  [4.36917797]\n",
      "contact type is: ['EdgeToEdge']\n",
      "mask: [[ 3  4  5  6  7  8  0  1  2 15 16 17  9 10 11 12 13 14]]\n",
      "{'edge1': (array([507.32731758,   7.3352786 , 184.10810815]), array([  7.33541656, 507.34335372, 184.02514674])), 'edge2': (array([492.66458344, 507.34335372, 188.47485326]), array([ -7.32731758,   7.3352786 , 188.39189185]))}\n",
      "min distance is:  [4.36917797]\n",
      "contact type is: ['EdgeToEdge']\n",
      "mask: [[ 3  4  5  6  7  8  0  1  2 15 16 17  9 10 11 12 13 14]]\n",
      "Delta: [4.36917797]\n",
      "upper limit for quadratic: 1.75\n",
      "upper limit for smooth: 2.25\n",
      "{'edge1': (array([507.45245999,   7.46052998, 182.8225702 ]), array([  7.4606692 , 507.46872335, 182.73796749])), 'edge2': (array([492.5393308 , 507.46872335, 187.26203251]), array([ -7.45245999,   7.46052998, 187.1774298 ]))}\n",
      "min distance is:  [4.44198566]\n",
      "contact type is: ['EdgeToEdge']\n",
      "mask: [[ 3  4  5  6  7  8  0  1  2 15 16 17  9 10 11 12 13 14]]\n",
      "{'edge1': (array([507.45245999,   7.46052998, 182.8225702 ]), array([  7.4606692 , 507.46872335, 182.73796749])), 'edge2': (array([492.5393308 , 507.46872335, 187.26203251]), array([ -7.45245999,   7.46052998, 187.1774298 ]))}\n",
      "min distance is:  [4.44198566]\n",
      "contact type is: ['EdgeToEdge']\n",
      "mask: [[ 3  4  5  6  7  8  0  1  2 15 16 17  9 10 11 12 13 14]]\n",
      "{'edge1': (array([507.45245999,   7.46052998, 182.8225702 ]), array([  7.4606692 , 507.46872335, 182.73796749])), 'edge2': (array([492.5393308 , 507.46872335, 187.26203251]), array([ -7.45245999,   7.46052998, 187.1774298 ]))}\n",
      "min distance is:  [4.44198566]\n",
      "contact type is: ['EdgeToEdge']\n",
      "mask: [[ 3  4  5  6  7  8  0  1  2 15 16 17  9 10 11 12 13 14]]\n",
      "Delta: [4.44198566]\n",
      "upper limit for quadratic: 1.75\n",
      "upper limit for smooth: 2.25\n",
      "{'edge1': (array([507.45213787,   7.46021119, 182.82233598]), array([  7.46035037, 507.46839956, 182.73773265])), 'edge2': (array([492.53964963, 507.46839956, 187.26226735]), array([ -7.45213787,   7.46021119, 187.17766402]))}\n",
      "min distance is:  [4.44245464]\n",
      "contact type is: ['EdgeToEdge']\n",
      "mask: [[ 3  4  5  6  7  8  0  1  2 15 16 17  9 10 11 12 13 14]]\n",
      "{'edge1': (array([507.45213787,   7.46021119, 182.82233598]), array([  7.46035037, 507.46839956, 182.73773265])), 'edge2': (array([492.53964963, 507.46839956, 187.26226735]), array([ -7.45213787,   7.46021119, 187.17766402]))}\n",
      "min distance is:  [4.44245464]\n",
      "contact type is: ['EdgeToEdge']\n",
      "mask: [[ 3  4  5  6  7  8  0  1  2 15 16 17  9 10 11 12 13 14]]\n",
      "{'edge1': (array([507.45213787,   7.46021119, 182.82233598]), array([  7.46035037, 507.46839956, 182.73773265])), 'edge2': (array([492.53964963, 507.46839956, 187.26226735]), array([ -7.45213787,   7.46021119, 187.17766402]))}\n",
      "min distance is:  [4.44245464]\n",
      "contact type is: ['EdgeToEdge']\n",
      "mask: [[ 3  4  5  6  7  8  0  1  2 15 16 17  9 10 11 12 13 14]]\n",
      "Delta: [4.44245464]\n",
      "upper limit for quadratic: 1.75\n",
      "upper limit for smooth: 2.25\n",
      "{'edge1': (array([507.5766328 ,   7.58481347, 181.53632886]), array([  7.58495383, 507.59311836, 181.45008298])), 'edge2': (array([492.41504617, 507.59311836, 186.04991702]), array([ -7.5766328 ,   7.58481347, 185.96367114]))}\n",
      "min distance is:  [4.51620339]\n",
      "contact type is: ['EdgeToEdge']\n",
      "mask: [[ 3  4  5  6  7  8  0  1  2 15 16 17  9 10 11 12 13 14]]\n",
      "{'edge1': (array([507.5766328 ,   7.58481347, 181.53632886]), array([  7.58495383, 507.59311836, 181.45008298])), 'edge2': (array([492.41504617, 507.59311836, 186.04991702]), array([ -7.5766328 ,   7.58481347, 185.96367114]))}\n",
      "min distance is:  [4.51620339]\n",
      "contact type is: ['EdgeToEdge']\n",
      "mask: [[ 3  4  5  6  7  8  0  1  2 15 16 17  9 10 11 12 13 14]]\n",
      "{'edge1': (array([507.5766328 ,   7.58481347, 181.53632886]), array([  7.58495383, 507.59311836, 181.45008298])), 'edge2': (array([492.41504617, 507.59311836, 186.04991702]), array([ -7.5766328 ,   7.58481347, 185.96367114]))}\n",
      "min distance is:  [4.51620339]\n",
      "contact type is: ['EdgeToEdge']\n",
      "mask: [[ 3  4  5  6  7  8  0  1  2 15 16 17  9 10 11 12 13 14]]\n",
      "Delta: [4.51620339]\n",
      "upper limit for quadratic: 1.75\n",
      "upper limit for smooth: 2.25\n",
      "{'edge1': (array([507.57631024,   7.58449424, 181.53609585]), array([  7.58463456, 507.59279414, 181.44984936])), 'edge2': (array([492.41536544, 507.59279414, 186.05015064]), array([ -7.57631024,   7.58449424, 185.96390415]))}\n",
      "min distance is:  [4.51666993]\n",
      "contact type is: ['EdgeToEdge']\n",
      "mask: [[ 3  4  5  6  7  8  0  1  2 15 16 17  9 10 11 12 13 14]]\n",
      "{'edge1': (array([507.57631024,   7.58449424, 181.53609585]), array([  7.58463456, 507.59279414, 181.44984936])), 'edge2': (array([492.41536544, 507.59279414, 186.05015064]), array([ -7.57631024,   7.58449424, 185.96390415]))}\n",
      "min distance is:  [4.51666993]\n",
      "contact type is: ['EdgeToEdge']\n",
      "mask: [[ 3  4  5  6  7  8  0  1  2 15 16 17  9 10 11 12 13 14]]\n",
      "{'edge1': (array([507.57631024,   7.58449424, 181.53609585]), array([  7.58463456, 507.59279414, 181.44984936])), 'edge2': (array([492.41536544, 507.59279414, 186.05015064]), array([ -7.57631024,   7.58449424, 185.96390415]))}\n",
      "min distance is:  [4.51666993]\n",
      "contact type is: ['EdgeToEdge']\n",
      "mask: [[ 3  4  5  6  7  8  0  1  2 15 16 17  9 10 11 12 13 14]]\n",
      "Delta: [4.51666993]\n",
      "upper limit for quadratic: 1.75\n",
      "upper limit for smooth: 2.25\n",
      "{'edge1': (array([507.70015683,   7.70844653, 180.249622  ]), array([  7.70858795, 507.71686123, 180.16173174])), 'edge2': (array([492.29141205, 507.71686123, 184.83826826]), array([ -7.70015683,   7.70844653, 184.750378  ]))}\n",
      "min distance is:  [4.59135479]\n",
      "contact type is: ['EdgeToEdge']\n",
      "mask: [[ 3  4  5  6  7  8  0  1  2 15 16 17  9 10 11 12 13 14]]\n",
      "{'edge1': (array([507.70015683,   7.70844653, 180.249622  ]), array([  7.70858795, 507.71686123, 180.16173174])), 'edge2': (array([492.29141205, 507.71686123, 184.83826826]), array([ -7.70015683,   7.70844653, 184.750378  ]))}\n",
      "min distance is:  [4.59135479]\n",
      "contact type is: ['EdgeToEdge']\n",
      "mask: [[ 3  4  5  6  7  8  0  1  2 15 16 17  9 10 11 12 13 14]]\n",
      "{'edge1': (array([507.70015683,   7.70844653, 180.249622  ]), array([  7.70858795, 507.71686123, 180.16173174])), 'edge2': (array([492.29141205, 507.71686123, 184.83826826]), array([ -7.70015683,   7.70844653, 184.750378  ]))}\n",
      "min distance is:  [4.59135479]\n",
      "contact type is: ['EdgeToEdge']\n",
      "mask: [[ 3  4  5  6  7  8  0  1  2 15 16 17  9 10 11 12 13 14]]\n",
      "Delta: [4.59135479]\n",
      "upper limit for quadratic: 1.75\n",
      "upper limit for smooth: 2.25\n",
      "{'edge1': (array([507.69983384,   7.70812687, 180.24939021]), array([  7.70826824, 507.71653656, 180.16149933])), 'edge2': (array([492.29173176, 507.71653656, 184.83850067]), array([ -7.69983384,   7.70812687, 184.75060979]))}\n",
      "min distance is:  [4.5918189]\n",
      "contact type is: ['EdgeToEdge']\n",
      "mask: [[ 3  4  5  6  7  8  0  1  2 15 16 17  9 10 11 12 13 14]]\n",
      "{'edge1': (array([507.69983384,   7.70812687, 180.24939021]), array([  7.70826824, 507.71653656, 180.16149933])), 'edge2': (array([492.29173176, 507.71653656, 184.83850067]), array([ -7.69983384,   7.70812687, 184.75060979]))}\n",
      "min distance is:  [4.5918189]\n",
      "contact type is: ['EdgeToEdge']\n",
      "mask: [[ 3  4  5  6  7  8  0  1  2 15 16 17  9 10 11 12 13 14]]\n",
      "{'edge1': (array([507.69983384,   7.70812687, 180.24939021]), array([  7.70826824, 507.71653656, 180.16149933])), 'edge2': (array([492.29173176, 507.71653656, 184.83850067]), array([ -7.69983384,   7.70812687, 184.75060979]))}\n",
      "min distance is:  [4.5918189]\n",
      "contact type is: ['EdgeToEdge']\n",
      "mask: [[ 3  4  5  6  7  8  0  1  2 15 16 17  9 10 11 12 13 14]]\n",
      "Delta: [4.5918189]\n",
      "upper limit for quadratic: 1.75\n",
      "upper limit for smooth: 2.25\n",
      "{'edge1': (array([507.82303121,   7.83142831, 178.96245212]), array([  7.83157069, 507.83995107, 178.87291622])), 'edge2': (array([492.16842931, 507.83995107, 183.62708378]), array([ -7.82303121,   7.83142831, 183.53754788]))}\n",
      "min distance is:  [4.66743493]\n",
      "contact type is: ['EdgeToEdge']\n",
      "mask: [[ 3  4  5  6  7  8  0  1  2 15 16 17  9 10 11 12 13 14]]\n",
      "{'edge1': (array([507.82303121,   7.83142831, 178.96245212]), array([  7.83157069, 507.83995107, 178.87291622])), 'edge2': (array([492.16842931, 507.83995107, 183.62708378]), array([ -7.82303121,   7.83142831, 183.53754788]))}\n",
      "min distance is:  [4.66743493]\n",
      "contact type is: ['EdgeToEdge']\n",
      "mask: [[ 3  4  5  6  7  8  0  1  2 15 16 17  9 10 11 12 13 14]]\n",
      "{'edge1': (array([507.82303121,   7.83142831, 178.96245212]), array([  7.83157069, 507.83995107, 178.87291622])), 'edge2': (array([492.16842931, 507.83995107, 183.62708378]), array([ -7.82303121,   7.83142831, 183.53754788]))}\n",
      "min distance is:  [4.66743493]\n",
      "contact type is: ['EdgeToEdge']\n",
      "mask: [[ 3  4  5  6  7  8  0  1  2 15 16 17  9 10 11 12 13 14]]\n",
      "Delta: [4.66743493]\n",
      "upper limit for quadratic: 1.75\n",
      "upper limit for smooth: 2.25\n",
      "{'edge1': (array([507.82270779,   7.83110821, 178.96222155]), array([  7.83125055, 507.83962597, 178.87268503])), 'edge2': (array([492.16874945, 507.83962597, 183.62731497]), array([ -7.82270779,   7.83110821, 183.53777845]))}\n",
      "min distance is:  [4.66789659]\n",
      "contact type is: ['EdgeToEdge']\n",
      "mask: [[ 3  4  5  6  7  8  0  1  2 15 16 17  9 10 11 12 13 14]]\n",
      "{'edge1': (array([507.82270779,   7.83110821, 178.96222155]), array([  7.83125055, 507.83962597, 178.87268503])), 'edge2': (array([492.16874945, 507.83962597, 183.62731497]), array([ -7.82270779,   7.83110821, 183.53777845]))}\n",
      "min distance is:  [4.66789659]\n",
      "contact type is: ['EdgeToEdge']\n",
      "mask: [[ 3  4  5  6  7  8  0  1  2 15 16 17  9 10 11 12 13 14]]\n",
      "{'edge1': (array([507.82270779,   7.83110821, 178.96222155]), array([  7.83125055, 507.83962597, 178.87268503])), 'edge2': (array([492.16874945, 507.83962597, 183.62731497]), array([ -7.82270779,   7.83110821, 183.53777845]))}\n",
      "min distance is:  [4.66789659]\n",
      "contact type is: ['EdgeToEdge']\n",
      "mask: [[ 3  4  5  6  7  8  0  1  2 15 16 17  9 10 11 12 13 14]]\n",
      "Delta: [4.66789659]\n",
      "upper limit for quadratic: 1.75\n",
      "upper limit for smooth: 2.25\n",
      "{'edge1': (array([507.94525508,   7.95375793, 177.67482166]), array([  7.95390119, 507.96238702, 177.58363891])), 'edge2': (array([492.04609881, 507.96238702, 182.41636109]), array([ -7.94525508,   7.95375793, 182.32517834]))}\n",
      "min distance is:  [4.74443886]\n",
      "contact type is: ['EdgeToEdge']\n",
      "mask: [[ 3  4  5  6  7  8  0  1  2 15 16 17  9 10 11 12 13 14]]\n",
      "{'edge1': (array([507.94525508,   7.95375793, 177.67482166]), array([  7.95390119, 507.96238702, 177.58363891])), 'edge2': (array([492.04609881, 507.96238702, 182.41636109]), array([ -7.94525508,   7.95375793, 182.32517834]))}\n",
      "min distance is:  [4.74443886]\n",
      "contact type is: ['EdgeToEdge']\n",
      "mask: [[ 3  4  5  6  7  8  0  1  2 15 16 17  9 10 11 12 13 14]]\n",
      "{'edge1': (array([507.94525508,   7.95375793, 177.67482166]), array([  7.95390119, 507.96238702, 177.58363891])), 'edge2': (array([492.04609881, 507.96238702, 182.41636109]), array([ -7.94525508,   7.95375793, 182.32517834]))}\n",
      "min distance is:  [4.74443886]\n",
      "contact type is: ['EdgeToEdge']\n",
      "mask: [[ 3  4  5  6  7  8  0  1  2 15 16 17  9 10 11 12 13 14]]\n",
      "Delta: [4.74443886]\n",
      "upper limit for quadratic: 1.75\n",
      "upper limit for smooth: 2.25\n",
      "{'edge1': (array([507.94493122,   7.9534374 , 177.67459231]), array([  7.95358062, 507.96206149, 177.58340895])), 'edge2': (array([492.04641938, 507.96206149, 182.41659105]), array([ -7.94493122,   7.9534374 , 182.32540769]))}\n",
      "min distance is:  [4.74489807]\n",
      "contact type is: ['EdgeToEdge']\n",
      "mask: [[ 3  4  5  6  7  8  0  1  2 15 16 17  9 10 11 12 13 14]]\n",
      "{'edge1': (array([507.94493122,   7.9534374 , 177.67459231]), array([  7.95358062, 507.96206149, 177.58340895])), 'edge2': (array([492.04641938, 507.96206149, 182.41659105]), array([ -7.94493122,   7.9534374 , 182.32540769]))}\n",
      "min distance is:  [4.74489807]\n",
      "contact type is: ['EdgeToEdge']\n",
      "mask: [[ 3  4  5  6  7  8  0  1  2 15 16 17  9 10 11 12 13 14]]\n",
      "{'edge1': (array([507.94493122,   7.9534374 , 177.67459231]), array([  7.95358062, 507.96206149, 177.58340895])), 'edge2': (array([492.04641938, 507.96206149, 182.41659105]), array([ -7.94493122,   7.9534374 , 182.32540769]))}\n",
      "min distance is:  [4.74489807]\n",
      "contact type is: ['EdgeToEdge']\n",
      "mask: [[ 3  4  5  6  7  8  0  1  2 15 16 17  9 10 11 12 13 14]]\n",
      "Delta: [4.74489807]\n",
      "upper limit for quadratic: 1.75\n",
      "upper limit for smooth: 2.25\n",
      "{'edge1': (array([508.06682757,   8.07543454, 176.38673311]), array([  8.07557858, 508.08416823, 176.29390228])), 'edge2': (array([491.92442142, 508.08416823, 181.20609772]), array([ -8.06682757,   8.07543454, 181.11326689]))}\n",
      "min distance is:  [4.82236161]\n",
      "contact type is: ['EdgeToEdge']\n",
      "mask: [[ 3  4  5  6  7  8  0  1  2 15 16 17  9 10 11 12 13 14]]\n",
      "{'edge1': (array([508.06682757,   8.07543454, 176.38673311]), array([  8.07557858, 508.08416823, 176.29390228])), 'edge2': (array([491.92442142, 508.08416823, 181.20609772]), array([ -8.06682757,   8.07543454, 181.11326689]))}\n",
      "min distance is:  [4.82236161]\n",
      "contact type is: ['EdgeToEdge']\n",
      "mask: [[ 3  4  5  6  7  8  0  1  2 15 16 17  9 10 11 12 13 14]]\n",
      "{'edge1': (array([508.06682757,   8.07543454, 176.38673311]), array([  8.07557858, 508.08416823, 176.29390228])), 'edge2': (array([491.92442142, 508.08416823, 181.20609772]), array([ -8.06682757,   8.07543454, 181.11326689]))}\n",
      "min distance is:  [4.82236161]\n",
      "contact type is: ['EdgeToEdge']\n",
      "mask: [[ 3  4  5  6  7  8  0  1  2 15 16 17  9 10 11 12 13 14]]\n",
      "Delta: [4.82236161]\n",
      "upper limit for quadratic: 1.75\n",
      "upper limit for smooth: 2.25\n",
      "{'edge1': (array([508.06650329,   8.07511358, 176.38650498]), array([  8.07525759, 508.08384227, 176.29367354])), 'edge2': (array([491.92474241, 508.08384227, 181.20632646]), array([ -8.06650329,   8.07511358, 181.11349502]))}\n",
      "min distance is:  [4.82281837]\n",
      "contact type is: ['EdgeToEdge']\n",
      "mask: [[ 3  4  5  6  7  8  0  1  2 15 16 17  9 10 11 12 13 14]]\n",
      "{'edge1': (array([508.06650329,   8.07511358, 176.38650498]), array([  8.07525759, 508.08384227, 176.29367354])), 'edge2': (array([491.92474241, 508.08384227, 181.20632646]), array([ -8.06650329,   8.07511358, 181.11349502]))}\n",
      "min distance is:  [4.82281837]\n",
      "contact type is: ['EdgeToEdge']\n",
      "mask: [[ 3  4  5  6  7  8  0  1  2 15 16 17  9 10 11 12 13 14]]\n",
      "{'edge1': (array([508.06650329,   8.07511358, 176.38650498]), array([  8.07525759, 508.08384227, 176.29367354])), 'edge2': (array([491.92474241, 508.08384227, 181.20632646]), array([ -8.06650329,   8.07511358, 181.11349502]))}\n",
      "min distance is:  [4.82281837]\n",
      "contact type is: ['EdgeToEdge']\n",
      "mask: [[ 3  4  5  6  7  8  0  1  2 15 16 17  9 10 11 12 13 14]]\n",
      "Delta: [4.82281837]\n",
      "upper limit for quadratic: 1.75\n",
      "upper limit for smooth: 2.25\n",
      "{'edge1': (array([508.18774785,   8.19645728, 175.09818893]), array([  8.19660202, 508.20529382, 175.00370881])), 'edge2': (array([491.80339798, 508.20529382, 179.99629119]), array([ -8.18774785,   8.19645728, 179.90181107]))}\n",
      "min distance is:  [4.90119822]\n",
      "contact type is: ['EdgeToEdge']\n",
      "mask: [[ 3  4  5  6  7  8  0  1  2 15 16 17  9 10 11 12 13 14]]\n",
      "{'edge1': (array([508.18774785,   8.19645728, 175.09818893]), array([  8.19660202, 508.20529382, 175.00370881])), 'edge2': (array([491.80339798, 508.20529382, 179.99629119]), array([ -8.18774785,   8.19645728, 179.90181107]))}\n",
      "min distance is:  [4.90119822]\n",
      "contact type is: ['EdgeToEdge']\n",
      "mask: [[ 3  4  5  6  7  8  0  1  2 15 16 17  9 10 11 12 13 14]]\n",
      "{'edge1': (array([508.18774785,   8.19645728, 175.09818893]), array([  8.19660202, 508.20529382, 175.00370881])), 'edge2': (array([491.80339798, 508.20529382, 179.99629119]), array([ -8.18774785,   8.19645728, 179.90181107]))}\n",
      "min distance is:  [4.90119822]\n",
      "contact type is: ['EdgeToEdge']\n",
      "mask: [[ 3  4  5  6  7  8  0  1  2 15 16 17  9 10 11 12 13 14]]\n",
      "Delta: [4.90119822]\n",
      "upper limit for quadratic: 1.75\n",
      "upper limit for smooth: 2.25\n",
      "{'edge1': (array([508.18742314,   8.1961359 , 175.09796202]), array([  8.1962806 , 508.20496743, 175.0034813 ])), 'edge2': (array([491.8037194 , 508.20496743, 179.9965187 ]), array([ -8.18742314,   8.1961359 , 179.90203798]))}\n",
      "min distance is:  [4.90165253]\n",
      "contact type is: ['EdgeToEdge']\n",
      "mask: [[ 3  4  5  6  7  8  0  1  2 15 16 17  9 10 11 12 13 14]]\n",
      "{'edge1': (array([508.18742314,   8.1961359 , 175.09796202]), array([  8.1962806 , 508.20496743, 175.0034813 ])), 'edge2': (array([491.8037194 , 508.20496743, 179.9965187 ]), array([ -8.18742314,   8.1961359 , 179.90203798]))}\n",
      "min distance is:  [4.90165253]\n",
      "contact type is: ['EdgeToEdge']\n",
      "mask: [[ 3  4  5  6  7  8  0  1  2 15 16 17  9 10 11 12 13 14]]\n",
      "{'edge1': (array([508.18742314,   8.1961359 , 175.09796202]), array([  8.1962806 , 508.20496743, 175.0034813 ])), 'edge2': (array([491.8037194 , 508.20496743, 179.9965187 ]), array([ -8.18742314,   8.1961359 , 179.90203798]))}\n",
      "min distance is:  [4.90165253]\n",
      "contact type is: ['EdgeToEdge']\n",
      "mask: [[ 3  4  5  6  7  8  0  1  2 15 16 17  9 10 11 12 13 14]]\n",
      "Delta: [4.90165253]\n",
      "upper limit for quadratic: 1.75\n",
      "upper limit for smooth: 2.25\n",
      "{'edge1': (array([508.30801505,   8.31682531, 173.8091916 ]), array([  8.31697065, 508.32576294, 173.71306099])), 'edge2': (array([491.68302935, 508.32576294, 178.78693901]), array([ -8.30801505,   8.31682531, 178.6908084 ]))}\n",
      "min distance is:  [4.98094371]\n",
      "contact type is: ['EdgeToEdge']\n",
      "mask: [[ 3  4  5  6  7  8  0  1  2 15 16 17  9 10 11 12 13 14]]\n",
      "{'edge1': (array([508.30801505,   8.31682531, 173.8091916 ]), array([  8.31697065, 508.32576294, 173.71306099])), 'edge2': (array([491.68302935, 508.32576294, 178.78693901]), array([ -8.30801505,   8.31682531, 178.6908084 ]))}\n",
      "min distance is:  [4.98094371]\n",
      "contact type is: ['EdgeToEdge']\n",
      "mask: [[ 3  4  5  6  7  8  0  1  2 15 16 17  9 10 11 12 13 14]]\n",
      "{'edge1': (array([508.30801505,   8.31682531, 173.8091916 ]), array([  8.31697065, 508.32576294, 173.71306099])), 'edge2': (array([491.68302935, 508.32576294, 178.78693901]), array([ -8.30801505,   8.31682531, 178.6908084 ]))}\n",
      "min distance is:  [4.98094371]\n",
      "contact type is: ['EdgeToEdge']\n",
      "mask: [[ 3  4  5  6  7  8  0  1  2 15 16 17  9 10 11 12 13 14]]\n",
      "Delta: [4.98094371]\n",
      "upper limit for quadratic: 1.75\n",
      "upper limit for smooth: 2.25\n",
      "{'edge1': (array([508.30768993,   8.31650351, 173.80896592]), array([  8.3166488 , 508.32543613, 173.71283471])), 'edge2': (array([491.6833512 , 508.32543613, 178.78716529]), array([ -8.30768993,   8.31650351, 178.69103408]))}\n",
      "min distance is:  [4.98139557]\n",
      "contact type is: ['EdgeToEdge']\n",
      "mask: [[ 3  4  5  6  7  8  0  1  2 15 16 17  9 10 11 12 13 14]]\n",
      "{'edge1': (array([508.30768993,   8.31650351, 173.80896592]), array([  8.3166488 , 508.32543613, 173.71283471])), 'edge2': (array([491.6833512 , 508.32543613, 178.78716529]), array([ -8.30768993,   8.31650351, 178.69103408]))}\n",
      "min distance is:  [4.98139557]\n",
      "contact type is: ['EdgeToEdge']\n",
      "mask: [[ 3  4  5  6  7  8  0  1  2 15 16 17  9 10 11 12 13 14]]\n",
      "{'edge1': (array([508.30768993,   8.31650351, 173.80896592]), array([  8.3166488 , 508.32543613, 173.71283471])), 'edge2': (array([491.6833512 , 508.32543613, 178.78716529]), array([ -8.30768993,   8.31650351, 178.69103408]))}\n",
      "min distance is:  [4.98139557]\n",
      "contact type is: ['EdgeToEdge']\n",
      "mask: [[ 3  4  5  6  7  8  0  1  2 15 16 17  9 10 11 12 13 14]]\n",
      "Delta: [4.98139557]\n",
      "upper limit for quadratic: 1.75\n",
      "upper limit for smooth: 2.25\n",
      "{'edge1': (array([508.42762835,   8.43653777, 172.51974361]), array([  8.43668361, 508.44557476, 172.42196129])), 'edge2': (array([491.56331639, 508.44557476, 177.57803871]), array([ -8.42762835,   8.43653777, 177.48025639]))}\n",
      "min distance is:  [5.06159312]\n",
      "contact type is: ['EdgeToEdge']\n",
      "mask: [[ 3  4  5  6  7  8  0  1  2 15 16 17  9 10 11 12 13 14]]\n",
      "{'edge1': (array([508.42762835,   8.43653777, 172.51974361]), array([  8.43668361, 508.44557476, 172.42196129])), 'edge2': (array([491.56331639, 508.44557476, 177.57803871]), array([ -8.42762835,   8.43653777, 177.48025639]))}\n",
      "min distance is:  [5.06159312]\n",
      "contact type is: ['EdgeToEdge']\n",
      "mask: [[ 3  4  5  6  7  8  0  1  2 15 16 17  9 10 11 12 13 14]]\n",
      "{'edge1': (array([508.42762835,   8.43653777, 172.51974361]), array([  8.43668361, 508.44557476, 172.42196129])), 'edge2': (array([491.56331639, 508.44557476, 177.57803871]), array([ -8.42762835,   8.43653777, 177.48025639]))}\n",
      "min distance is:  [5.06159312]\n",
      "contact type is: ['EdgeToEdge']\n",
      "mask: [[ 3  4  5  6  7  8  0  1  2 15 16 17  9 10 11 12 13 14]]\n",
      "Delta: [5.06159312]\n",
      "upper limit for quadratic: 1.75\n",
      "upper limit for smooth: 2.25\n",
      "{'edge1': (array([508.42730281,   8.43621555, 172.51951916]), array([  8.43636134, 508.44524752, 172.42173624])), 'edge2': (array([491.56363866, 508.44524752, 177.57826376]), array([ -8.42730281,   8.43621555, 177.48048084]))}\n",
      "min distance is:  [5.06204252]\n",
      "contact type is: ['EdgeToEdge']\n",
      "mask: [[ 3  4  5  6  7  8  0  1  2 15 16 17  9 10 11 12 13 14]]\n",
      "{'edge1': (array([508.42730281,   8.43621555, 172.51951916]), array([  8.43636134, 508.44524752, 172.42173624])), 'edge2': (array([491.56363866, 508.44524752, 177.57826376]), array([ -8.42730281,   8.43621555, 177.48048084]))}\n",
      "min distance is:  [5.06204252]\n",
      "contact type is: ['EdgeToEdge']\n",
      "mask: [[ 3  4  5  6  7  8  0  1  2 15 16 17  9 10 11 12 13 14]]\n",
      "{'edge1': (array([508.42730281,   8.43621555, 172.51951916]), array([  8.43636134, 508.44524752, 172.42173624])), 'edge2': (array([491.56363866, 508.44524752, 177.57826376]), array([ -8.42730281,   8.43621555, 177.48048084]))}\n",
      "min distance is:  [5.06204252]\n",
      "contact type is: ['EdgeToEdge']\n",
      "mask: [[ 3  4  5  6  7  8  0  1  2 15 16 17  9 10 11 12 13 14]]\n",
      "Delta: [5.06204252]\n",
      "upper limit for quadratic: 1.75\n",
      "upper limit for smooth: 2.25\n",
      "{'edge1': (array([508.5465869 ,   8.55559384, 171.22984744]), array([  8.55574008, 508.56472841, 171.13041222])), 'edge2': (array([491.44425992, 508.56472841, 176.36958778]), array([ -8.5465869 ,   8.55559384, 176.27015256]))}\n",
      "min distance is:  [5.14314146]\n",
      "contact type is: ['EdgeToEdge']\n",
      "mask: [[ 3  4  5  6  7  8  0  1  2 15 16 17  9 10 11 12 13 14]]\n",
      "{'edge1': (array([508.5465869 ,   8.55559384, 171.22984744]), array([  8.55574008, 508.56472841, 171.13041222])), 'edge2': (array([491.44425992, 508.56472841, 176.36958778]), array([ -8.5465869 ,   8.55559384, 176.27015256]))}\n",
      "min distance is:  [5.14314146]\n",
      "contact type is: ['EdgeToEdge']\n",
      "mask: [[ 3  4  5  6  7  8  0  1  2 15 16 17  9 10 11 12 13 14]]\n",
      "{'edge1': (array([508.5465869 ,   8.55559384, 171.22984744]), array([  8.55574008, 508.56472841, 171.13041222])), 'edge2': (array([491.44425992, 508.56472841, 176.36958778]), array([ -8.5465869 ,   8.55559384, 176.27015256]))}\n",
      "min distance is:  [5.14314146]\n",
      "contact type is: ['EdgeToEdge']\n",
      "mask: [[ 3  4  5  6  7  8  0  1  2 15 16 17  9 10 11 12 13 14]]\n",
      "Delta: [5.14314146]\n",
      "upper limit for quadratic: 1.75\n",
      "upper limit for smooth: 2.25\n",
      "{'edge1': (array([508.54626094,   8.55527119, 171.22962421]), array([  8.55541739, 508.56440076, 171.1301884 ])), 'edge2': (array([491.44458261, 508.56440076, 176.3698116 ]), array([ -8.54626094,   8.55527119, 176.27037579]))}\n",
      "min distance is:  [5.14358839]\n",
      "contact type is: ['EdgeToEdge']\n",
      "mask: [[ 3  4  5  6  7  8  0  1  2 15 16 17  9 10 11 12 13 14]]\n",
      "{'edge1': (array([508.54626094,   8.55527119, 171.22962421]), array([  8.55541739, 508.56440076, 171.1301884 ])), 'edge2': (array([491.44458261, 508.56440076, 176.3698116 ]), array([ -8.54626094,   8.55527119, 176.27037579]))}\n",
      "min distance is:  [5.14358839]\n",
      "contact type is: ['EdgeToEdge']\n",
      "mask: [[ 3  4  5  6  7  8  0  1  2 15 16 17  9 10 11 12 13 14]]\n",
      "{'edge1': (array([508.54626094,   8.55527119, 171.22962421]), array([  8.55541739, 508.56440076, 171.1301884 ])), 'edge2': (array([491.44458261, 508.56440076, 176.3698116 ]), array([ -8.54626094,   8.55527119, 176.27037579]))}\n",
      "min distance is:  [5.14358839]\n",
      "contact type is: ['EdgeToEdge']\n",
      "mask: [[ 3  4  5  6  7  8  0  1  2 15 16 17  9 10 11 12 13 14]]\n",
      "Delta: [5.14358839]\n",
      "upper limit for quadratic: 1.75\n",
      "upper limit for smooth: 2.25\n",
      "{'edge1': (array([508.66488986,   8.67399266, 169.93950556]), array([  8.67413921, 508.68322307, 169.83841625])), 'edge2': (array([491.32586079, 508.68322307, 175.16158375]), array([ -8.66488986,   8.67399266, 175.06049444]))}\n",
      "min distance is:  [5.22558373]\n",
      "contact type is: ['EdgeToEdge']\n",
      "mask: [[ 3  4  5  6  7  8  0  1  2 15 16 17  9 10 11 12 13 14]]\n",
      "{'edge1': (array([508.66488986,   8.67399266, 169.93950556]), array([  8.67413921, 508.68322307, 169.83841625])), 'edge2': (array([491.32586079, 508.68322307, 175.16158375]), array([ -8.66488986,   8.67399266, 175.06049444]))}\n",
      "min distance is:  [5.22558373]\n",
      "contact type is: ['EdgeToEdge']\n",
      "mask: [[ 3  4  5  6  7  8  0  1  2 15 16 17  9 10 11 12 13 14]]\n",
      "{'edge1': (array([508.66488986,   8.67399266, 169.93950556]), array([  8.67413921, 508.68322307, 169.83841625])), 'edge2': (array([491.32586079, 508.68322307, 175.16158375]), array([ -8.66488986,   8.67399266, 175.06049444]))}\n",
      "min distance is:  [5.22558373]\n",
      "contact type is: ['EdgeToEdge']\n",
      "mask: [[ 3  4  5  6  7  8  0  1  2 15 16 17  9 10 11 12 13 14]]\n",
      "Delta: [5.22558373]\n",
      "upper limit for quadratic: 1.75\n",
      "upper limit for smooth: 2.25\n",
      "{'edge1': (array([508.66456349,   8.6736696 , 169.93928357]), array([  8.67381611, 508.68289499, 169.83819366])), 'edge2': (array([491.32618389, 508.68289499, 175.16180634]), array([ -8.66456349,   8.6736696 , 175.06071643]))}\n",
      "min distance is:  [5.2260282]\n",
      "contact type is: ['EdgeToEdge']\n",
      "mask: [[ 3  4  5  6  7  8  0  1  2 15 16 17  9 10 11 12 13 14]]\n",
      "{'edge1': (array([508.66456349,   8.6736696 , 169.93928357]), array([  8.67381611, 508.68289499, 169.83819366])), 'edge2': (array([491.32618389, 508.68289499, 175.16180634]), array([ -8.66456349,   8.6736696 , 175.06071643]))}\n",
      "min distance is:  [5.2260282]\n",
      "contact type is: ['EdgeToEdge']\n",
      "mask: [[ 3  4  5  6  7  8  0  1  2 15 16 17  9 10 11 12 13 14]]\n",
      "{'edge1': (array([508.66456349,   8.6736696 , 169.93928357]), array([  8.67381611, 508.68289499, 169.83819366])), 'edge2': (array([491.32618389, 508.68289499, 175.16180634]), array([ -8.66456349,   8.6736696 , 175.06071643]))}\n",
      "min distance is:  [5.2260282]\n",
      "contact type is: ['EdgeToEdge']\n",
      "mask: [[ 3  4  5  6  7  8  0  1  2 15 16 17  9 10 11 12 13 14]]\n",
      "Delta: [5.2260282]\n",
      "upper limit for quadratic: 1.75\n",
      "upper limit for smooth: 2.25\n",
      "{'edge1': (array([508.78253642,   8.79173342, 168.64872049]), array([  8.79188018, 508.80105789, 168.54597589])), 'edge2': (array([491.20811982, 508.80105789, 173.95402411]), array([ -8.78253642,   8.79173342, 173.85127951]))}\n",
      "min distance is:  [5.30891493]\n",
      "contact type is: ['EdgeToEdge']\n",
      "mask: [[ 3  4  5  6  7  8  0  1  2 15 16 17  9 10 11 12 13 14]]\n",
      "{'edge1': (array([508.78253642,   8.79173342, 168.64872049]), array([  8.79188018, 508.80105789, 168.54597589])), 'edge2': (array([491.20811982, 508.80105789, 173.95402411]), array([ -8.78253642,   8.79173342, 173.85127951]))}\n",
      "min distance is:  [5.30891493]\n",
      "contact type is: ['EdgeToEdge']\n",
      "mask: [[ 3  4  5  6  7  8  0  1  2 15 16 17  9 10 11 12 13 14]]\n",
      "{'edge1': (array([508.78253642,   8.79173342, 168.64872049]), array([  8.79188018, 508.80105789, 168.54597589])), 'edge2': (array([491.20811982, 508.80105789, 173.95402411]), array([ -8.78253642,   8.79173342, 173.85127951]))}\n",
      "min distance is:  [5.30891493]\n",
      "contact type is: ['EdgeToEdge']\n",
      "mask: [[ 3  4  5  6  7  8  0  1  2 15 16 17  9 10 11 12 13 14]]\n",
      "Delta: [5.30891493]\n",
      "upper limit for quadratic: 1.75\n",
      "upper limit for smooth: 2.25\n",
      "{'edge1': (array([508.78220963,   8.79140995, 168.64849972]), array([  8.79155666, 508.8007294 , 168.54575453])), 'edge2': (array([491.20844334, 508.8007294 , 173.95424547]), array([ -8.78220963,   8.79140995, 173.85150028]))}\n",
      "min distance is:  [5.30935694]\n",
      "contact type is: ['EdgeToEdge']\n",
      "mask: [[ 3  4  5  6  7  8  0  1  2 15 16 17  9 10 11 12 13 14]]\n",
      "{'edge1': (array([508.78220963,   8.79140995, 168.64849972]), array([  8.79155666, 508.8007294 , 168.54575453])), 'edge2': (array([491.20844334, 508.8007294 , 173.95424547]), array([ -8.78220963,   8.79140995, 173.85150028]))}\n",
      "min distance is:  [5.30935694]\n",
      "contact type is: ['EdgeToEdge']\n",
      "mask: [[ 3  4  5  6  7  8  0  1  2 15 16 17  9 10 11 12 13 14]]\n",
      "{'edge1': (array([508.78220963,   8.79140995, 168.64849972]), array([  8.79155666, 508.8007294 , 168.54575453])), 'edge2': (array([491.20844334, 508.8007294 , 173.95424547]), array([ -8.78220963,   8.79140995, 173.85150028]))}\n",
      "min distance is:  [5.30935694]\n",
      "contact type is: ['EdgeToEdge']\n",
      "mask: [[ 3  4  5  6  7  8  0  1  2 15 16 17  9 10 11 12 13 14]]\n",
      "Delta: [5.30935694]\n",
      "upper limit for quadratic: 1.75\n",
      "upper limit for smooth: 2.25\n",
      "{'edge1': (array([508.89952574,   8.90881528, 167.35749469]), array([  8.90896214, 508.91823205, 167.25309363])), 'edge2': (array([491.09103786, 508.91823205, 172.74690637]), array([ -8.89952574,   8.90881528, 172.64250531]))}\n",
      "min distance is:  [5.39313008]\n",
      "contact type is: ['EdgeToEdge']\n",
      "mask: [[ 3  4  5  6  7  8  0  1  2 15 16 17  9 10 11 12 13 14]]\n",
      "{'edge1': (array([508.89952574,   8.90881528, 167.35749469]), array([  8.90896214, 508.91823205, 167.25309363])), 'edge2': (array([491.09103786, 508.91823205, 172.74690637]), array([ -8.89952574,   8.90881528, 172.64250531]))}\n",
      "min distance is:  [5.39313008]\n",
      "contact type is: ['EdgeToEdge']\n",
      "mask: [[ 3  4  5  6  7  8  0  1  2 15 16 17  9 10 11 12 13 14]]\n",
      "{'edge1': (array([508.89952574,   8.90881528, 167.35749469]), array([  8.90896214, 508.91823205, 167.25309363])), 'edge2': (array([491.09103786, 508.91823205, 172.74690637]), array([ -8.89952574,   8.90881528, 172.64250531]))}\n",
      "min distance is:  [5.39313008]\n",
      "contact type is: ['EdgeToEdge']\n",
      "mask: [[ 3  4  5  6  7  8  0  1  2 15 16 17  9 10 11 12 13 14]]\n",
      "Delta: [5.39313008]\n",
      "upper limit for quadratic: 1.75\n",
      "upper limit for smooth: 2.25\n",
      "{'edge1': (array([508.89919854,   8.9084914 , 167.35727516]), array([  8.90863821, 508.91790315, 167.25287351])), 'edge2': (array([491.09136179, 508.91790315, 172.74712649]), array([ -8.89919854,   8.9084914 , 172.64272484]))}\n",
      "min distance is:  [5.39356961]\n",
      "contact type is: ['EdgeToEdge']\n",
      "mask: [[ 3  4  5  6  7  8  0  1  2 15 16 17  9 10 11 12 13 14]]\n",
      "{'edge1': (array([508.89919854,   8.9084914 , 167.35727516]), array([  8.90863821, 508.91790315, 167.25287351])), 'edge2': (array([491.09136179, 508.91790315, 172.74712649]), array([ -8.89919854,   8.9084914 , 172.64272484]))}\n",
      "min distance is:  [5.39356961]\n",
      "contact type is: ['EdgeToEdge']\n",
      "mask: [[ 3  4  5  6  7  8  0  1  2 15 16 17  9 10 11 12 13 14]]\n",
      "{'edge1': (array([508.89919854,   8.9084914 , 167.35727516]), array([  8.90863821, 508.91790315, 167.25287351])), 'edge2': (array([491.09136179, 508.91790315, 172.74712649]), array([ -8.89919854,   8.9084914 , 172.64272484]))}\n",
      "min distance is:  [5.39356961]\n",
      "contact type is: ['EdgeToEdge']\n",
      "mask: [[ 3  4  5  6  7  8  0  1  2 15 16 17  9 10 11 12 13 14]]\n",
      "Delta: [5.39356961]\n",
      "upper limit for quadratic: 1.75\n",
      "upper limit for smooth: 2.25\n",
      "{'edge1': (array([509.01585701,   9.02523743, 166.06583068]), array([  9.02538428, 509.03474473, 165.95977198])), 'edge2': (array([490.97461572, 509.03474473, 171.54022802]), array([ -9.01585701,   9.02523743, 171.43416932]))}\n",
      "min distance is:  [5.47822415]\n",
      "contact type is: ['EdgeToEdge']\n",
      "mask: [[ 3  4  5  6  7  8  0  1  2 15 16 17  9 10 11 12 13 14]]\n",
      "{'edge1': (array([509.01585701,   9.02523743, 166.06583068]), array([  9.02538428, 509.03474473, 165.95977198])), 'edge2': (array([490.97461572, 509.03474473, 171.54022802]), array([ -9.01585701,   9.02523743, 171.43416932]))}\n",
      "min distance is:  [5.47822415]\n",
      "contact type is: ['EdgeToEdge']\n",
      "mask: [[ 3  4  5  6  7  8  0  1  2 15 16 17  9 10 11 12 13 14]]\n",
      "{'edge1': (array([509.01585701,   9.02523743, 166.06583068]), array([  9.02538428, 509.03474473, 165.95977198])), 'edge2': (array([490.97461572, 509.03474473, 171.54022802]), array([ -9.01585701,   9.02523743, 171.43416932]))}\n",
      "min distance is:  [5.47822415]\n",
      "contact type is: ['EdgeToEdge']\n",
      "mask: [[ 3  4  5  6  7  8  0  1  2 15 16 17  9 10 11 12 13 14]]\n",
      "Delta: [5.47822415]\n",
      "upper limit for quadratic: 1.75\n",
      "upper limit for smooth: 2.25\n",
      "{'edge1': (array([509.0155294 ,   9.02491314, 166.06561239]), array([  9.02505994, 509.03441541, 165.9595531 ])), 'edge2': (array([490.97494006, 509.03441541, 171.5404469 ]), array([ -9.0155294 ,   9.02491314, 171.43438761]))}\n",
      "min distance is:  [5.47866121]\n",
      "contact type is: ['EdgeToEdge']\n",
      "mask: [[ 3  4  5  6  7  8  0  1  2 15 16 17  9 10 11 12 13 14]]\n",
      "{'edge1': (array([509.0155294 ,   9.02491314, 166.06561239]), array([  9.02505994, 509.03441541, 165.9595531 ])), 'edge2': (array([490.97494006, 509.03441541, 171.5404469 ]), array([ -9.0155294 ,   9.02491314, 171.43438761]))}\n",
      "min distance is:  [5.47866121]\n",
      "contact type is: ['EdgeToEdge']\n",
      "mask: [[ 3  4  5  6  7  8  0  1  2 15 16 17  9 10 11 12 13 14]]\n",
      "{'edge1': (array([509.0155294 ,   9.02491314, 166.06561239]), array([  9.02505994, 509.03441541, 165.9595531 ])), 'edge2': (array([490.97494006, 509.03441541, 171.5404469 ]), array([ -9.0155294 ,   9.02491314, 171.43438761]))}\n",
      "min distance is:  [5.47866121]\n",
      "contact type is: ['EdgeToEdge']\n",
      "mask: [[ 3  4  5  6  7  8  0  1  2 15 16 17  9 10 11 12 13 14]]\n",
      "Delta: [5.47866121]\n",
      "upper limit for quadratic: 1.75\n",
      "upper limit for smooth: 2.25\n",
      "{'edge1': (array([509.13152941,   9.14099905, 164.77373095]), array([  9.14114579, 509.15059509, 164.66601343])), 'edge2': (array([490.85885421, 509.15059509, 170.33398657]), array([ -9.13152941,   9.14099905, 170.22626905]))}\n",
      "min distance is:  [5.56419214]\n",
      "contact type is: ['EdgeToEdge']\n",
      "mask: [[ 3  4  5  6  7  8  0  1  2 15 16 17  9 10 11 12 13 14]]\n",
      "{'edge1': (array([509.13152941,   9.14099905, 164.77373095]), array([  9.14114579, 509.15059509, 164.66601343])), 'edge2': (array([490.85885421, 509.15059509, 170.33398657]), array([ -9.13152941,   9.14099905, 170.22626905]))}\n",
      "min distance is:  [5.56419214]\n",
      "contact type is: ['EdgeToEdge']\n",
      "mask: [[ 3  4  5  6  7  8  0  1  2 15 16 17  9 10 11 12 13 14]]\n",
      "{'edge1': (array([509.13152941,   9.14099905, 164.77373095]), array([  9.14114579, 509.15059509, 164.66601343])), 'edge2': (array([490.85885421, 509.15059509, 170.33398657]), array([ -9.13152941,   9.14099905, 170.22626905]))}\n",
      "min distance is:  [5.56419214]\n",
      "contact type is: ['EdgeToEdge']\n",
      "mask: [[ 3  4  5  6  7  8  0  1  2 15 16 17  9 10 11 12 13 14]]\n",
      "Delta: [5.56419214]\n",
      "upper limit for quadratic: 1.75\n",
      "upper limit for smooth: 2.25\n",
      "{'edge1': (array([509.13120139,   9.14067435, 164.7735139 ]), array([  9.14082104, 509.15026537, 164.66579579])), 'edge2': (array([490.85917896, 509.15026537, 170.33420421]), array([ -9.13120139,   9.14067435, 170.2264861 ]))}\n",
      "min distance is:  [5.56462672]\n",
      "contact type is: ['EdgeToEdge']\n",
      "mask: [[ 3  4  5  6  7  8  0  1  2 15 16 17  9 10 11 12 13 14]]\n",
      "{'edge1': (array([509.13120139,   9.14067435, 164.7735139 ]), array([  9.14082104, 509.15026537, 164.66579579])), 'edge2': (array([490.85917896, 509.15026537, 170.33420421]), array([ -9.13120139,   9.14067435, 170.2264861 ]))}\n",
      "min distance is:  [5.56462672]\n",
      "contact type is: ['EdgeToEdge']\n",
      "mask: [[ 3  4  5  6  7  8  0  1  2 15 16 17  9 10 11 12 13 14]]\n",
      "{'edge1': (array([509.13120139,   9.14067435, 164.7735139 ]), array([  9.14082104, 509.15026537, 164.66579579])), 'edge2': (array([490.85917896, 509.15026537, 170.33420421]), array([ -9.13120139,   9.14067435, 170.2264861 ]))}\n",
      "min distance is:  [5.56462672]\n",
      "contact type is: ['EdgeToEdge']\n",
      "mask: [[ 3  4  5  6  7  8  0  1  2 15 16 17  9 10 11 12 13 14]]\n",
      "Delta: [5.56462672]\n",
      "upper limit for quadratic: 1.75\n",
      "upper limit for smooth: 2.25\n",
      "{'edge1': (array([509.24654213,   9.25609932, 163.48119801]), array([  9.25624584, 509.26578233, 163.37182051])), 'edge2': (array([490.74375416, 509.26578233, 169.12817949]), array([ -9.24654213,   9.25609932, 169.01880199]))}\n",
      "min distance is:  [5.65102901]\n",
      "contact type is: ['EdgeToEdge']\n",
      "mask: [[ 3  4  5  6  7  8  0  1  2 15 16 17  9 10 11 12 13 14]]\n",
      "{'edge1': (array([509.24654213,   9.25609932, 163.48119801]), array([  9.25624584, 509.26578233, 163.37182051])), 'edge2': (array([490.74375416, 509.26578233, 169.12817949]), array([ -9.24654213,   9.25609932, 169.01880199]))}\n",
      "min distance is:  [5.65102901]\n",
      "contact type is: ['EdgeToEdge']\n",
      "mask: [[ 3  4  5  6  7  8  0  1  2 15 16 17  9 10 11 12 13 14]]\n",
      "{'edge1': (array([509.24654213,   9.25609932, 163.48119801]), array([  9.25624584, 509.26578233, 163.37182051])), 'edge2': (array([490.74375416, 509.26578233, 169.12817949]), array([ -9.24654213,   9.25609932, 169.01880199]))}\n",
      "min distance is:  [5.65102901]\n",
      "contact type is: ['EdgeToEdge']\n",
      "mask: [[ 3  4  5  6  7  8  0  1  2 15 16 17  9 10 11 12 13 14]]\n",
      "Delta: [5.65102901]\n",
      "upper limit for quadratic: 1.75\n",
      "upper limit for smooth: 2.25\n",
      "{'edge1': (array([509.24621371,   9.25577422, 163.48098219]), array([  9.25592069, 509.2654522 , 163.3716041 ])), 'edge2': (array([490.74407931, 509.2654522 , 169.1283959 ]), array([ -9.24621371,   9.25577422, 169.01901781]))}\n",
      "min distance is:  [5.65146111]\n",
      "contact type is: ['EdgeToEdge']\n",
      "mask: [[ 3  4  5  6  7  8  0  1  2 15 16 17  9 10 11 12 13 14]]\n",
      "{'edge1': (array([509.24621371,   9.25577422, 163.48098219]), array([  9.25592069, 509.2654522 , 163.3716041 ])), 'edge2': (array([490.74407931, 509.2654522 , 169.1283959 ]), array([ -9.24621371,   9.25577422, 169.01901781]))}\n",
      "min distance is:  [5.65146111]\n",
      "contact type is: ['EdgeToEdge']\n",
      "mask: [[ 3  4  5  6  7  8  0  1  2 15 16 17  9 10 11 12 13 14]]\n",
      "{'edge1': (array([509.24621371,   9.25577422, 163.48098219]), array([  9.25592069, 509.2654522 , 163.3716041 ])), 'edge2': (array([490.74407931, 509.2654522 , 169.1283959 ]), array([ -9.24621371,   9.25577422, 169.01901781]))}\n",
      "min distance is:  [5.65146111]\n",
      "contact type is: ['EdgeToEdge']\n",
      "mask: [[ 3  4  5  6  7  8  0  1  2 15 16 17  9 10 11 12 13 14]]\n",
      "Delta: [5.65146111]\n",
      "upper limit for quadratic: 1.75\n",
      "upper limit for smooth: 2.25\n",
      "{'edge1': (array([509.36089437,   9.37053744, 162.18823435]), array([  9.37068364, 509.38030563, 162.0771957 ])), 'edge2': (array([490.62931636, 509.38030563, 167.9228043 ]), array([ -9.36089437,   9.37053744, 167.81176565]))}\n",
      "min distance is:  [5.73872975]\n",
      "contact type is: ['EdgeToEdge']\n",
      "mask: [[ 3  4  5  6  7  8  0  1  2 15 16 17  9 10 11 12 13 14]]\n",
      "{'edge1': (array([509.36089437,   9.37053744, 162.18823435]), array([  9.37068364, 509.38030563, 162.0771957 ])), 'edge2': (array([490.62931636, 509.38030563, 167.9228043 ]), array([ -9.36089437,   9.37053744, 167.81176565]))}\n",
      "min distance is:  [5.73872975]\n",
      "contact type is: ['EdgeToEdge']\n",
      "mask: [[ 3  4  5  6  7  8  0  1  2 15 16 17  9 10 11 12 13 14]]\n",
      "{'edge1': (array([509.36089437,   9.37053744, 162.18823435]), array([  9.37068364, 509.38030563, 162.0771957 ])), 'edge2': (array([490.62931636, 509.38030563, 167.9228043 ]), array([ -9.36089437,   9.37053744, 167.81176565]))}\n",
      "min distance is:  [5.73872975]\n",
      "contact type is: ['EdgeToEdge']\n",
      "mask: [[ 3  4  5  6  7  8  0  1  2 15 16 17  9 10 11 12 13 14]]\n",
      "Delta: [5.73872975]\n",
      "upper limit for quadratic: 1.75\n",
      "upper limit for smooth: 2.25\n",
      "{'edge1': (array([509.36056555,   9.37021194, 162.18801976]), array([  9.37035808, 509.3799751 , 162.07698055])), 'edge2': (array([490.62964192, 509.3799751 , 167.92301945]), array([ -9.36056555,   9.37021194, 167.81198024]))}\n",
      "min distance is:  [5.73915936]\n",
      "contact type is: ['EdgeToEdge']\n",
      "mask: [[ 3  4  5  6  7  8  0  1  2 15 16 17  9 10 11 12 13 14]]\n",
      "{'edge1': (array([509.36056555,   9.37021194, 162.18801976]), array([  9.37035808, 509.3799751 , 162.07698055])), 'edge2': (array([490.62964192, 509.3799751 , 167.92301945]), array([ -9.36056555,   9.37021194, 167.81198024]))}\n",
      "min distance is:  [5.73915936]\n",
      "contact type is: ['EdgeToEdge']\n",
      "mask: [[ 3  4  5  6  7  8  0  1  2 15 16 17  9 10 11 12 13 14]]\n",
      "{'edge1': (array([509.36056555,   9.37021194, 162.18801976]), array([  9.37035808, 509.3799751 , 162.07698055])), 'edge2': (array([490.62964192, 509.3799751 , 167.92301945]), array([ -9.36056555,   9.37021194, 167.81198024]))}\n",
      "min distance is:  [5.73915936]\n",
      "contact type is: ['EdgeToEdge']\n",
      "mask: [[ 3  4  5  6  7  8  0  1  2 15 16 17  9 10 11 12 13 14]]\n",
      "Delta: [5.73915936]\n",
      "upper limit for quadratic: 1.75\n",
      "upper limit for smooth: 2.25\n",
      "{'edge1': (array([509.47458532,   9.48431261, 160.89484248]), array([  9.48445836, 509.4941642 , 160.78214154])), 'edge2': (array([490.51554164, 509.4941642 , 166.71785846]), array([ -9.47458532,   9.48431261, 166.60515752]))}\n",
      "min distance is:  [5.82728932]\n",
      "contact type is: ['EdgeToEdge']\n",
      "mask: [[ 3  4  5  6  7  8  0  1  2 15 16 17  9 10 11 12 13 14]]\n",
      "{'edge1': (array([509.47458532,   9.48431261, 160.89484248]), array([  9.48445836, 509.4941642 , 160.78214154])), 'edge2': (array([490.51554164, 509.4941642 , 166.71785846]), array([ -9.47458532,   9.48431261, 166.60515752]))}\n",
      "min distance is:  [5.82728932]\n",
      "contact type is: ['EdgeToEdge']\n",
      "mask: [[ 3  4  5  6  7  8  0  1  2 15 16 17  9 10 11 12 13 14]]\n",
      "{'edge1': (array([509.47458532,   9.48431261, 160.89484248]), array([  9.48445836, 509.4941642 , 160.78214154])), 'edge2': (array([490.51554164, 509.4941642 , 166.71785846]), array([ -9.47458532,   9.48431261, 166.60515752]))}\n",
      "min distance is:  [5.82728932]\n",
      "contact type is: ['EdgeToEdge']\n",
      "mask: [[ 3  4  5  6  7  8  0  1  2 15 16 17  9 10 11 12 13 14]]\n",
      "Delta: [5.82728932]\n",
      "upper limit for quadratic: 1.75\n",
      "upper limit for smooth: 2.25\n",
      "{'edge1': (array([509.47425611,   9.4839867 , 160.89462914]), array([  9.4841324 , 509.49383326, 160.78192763])), 'edge2': (array([490.5158676 , 509.49383326, 166.71807237]), array([ -9.47425611,   9.4839867 , 166.60537086]))}\n",
      "min distance is:  [5.82771645]\n",
      "contact type is: ['EdgeToEdge']\n",
      "mask: [[ 3  4  5  6  7  8  0  1  2 15 16 17  9 10 11 12 13 14]]\n",
      "{'edge1': (array([509.47425611,   9.4839867 , 160.89462914]), array([  9.4841324 , 509.49383326, 160.78192763])), 'edge2': (array([490.5158676 , 509.49383326, 166.71807237]), array([ -9.47425611,   9.4839867 , 166.60537086]))}\n",
      "min distance is:  [5.82771645]\n",
      "contact type is: ['EdgeToEdge']\n",
      "mask: [[ 3  4  5  6  7  8  0  1  2 15 16 17  9 10 11 12 13 14]]\n",
      "{'edge1': (array([509.47425611,   9.4839867 , 160.89462914]), array([  9.4841324 , 509.49383326, 160.78192763])), 'edge2': (array([490.5158676 , 509.49383326, 166.71807237]), array([ -9.47425611,   9.4839867 , 166.60537086]))}\n",
      "min distance is:  [5.82771645]\n",
      "contact type is: ['EdgeToEdge']\n",
      "mask: [[ 3  4  5  6  7  8  0  1  2 15 16 17  9 10 11 12 13 14]]\n",
      "Delta: [5.82771645]\n",
      "upper limit for quadratic: 1.75\n",
      "upper limit for smooth: 2.25\n",
      "{'edge1': (array([509.5876142 ,   9.59742402, 159.60102492]), array([  9.59756922, 509.60735722, 159.48666054])), 'edge2': (array([490.40243078, 509.60735722, 165.51333946]), array([ -9.5876142 ,   9.59742402, 165.39897508]))}\n",
      "min distance is:  [5.91670267]\n",
      "contact type is: ['EdgeToEdge']\n",
      "mask: [[ 3  4  5  6  7  8  0  1  2 15 16 17  9 10 11 12 13 14]]\n",
      "{'edge1': (array([509.5876142 ,   9.59742402, 159.60102492]), array([  9.59756922, 509.60735722, 159.48666054])), 'edge2': (array([490.40243078, 509.60735722, 165.51333946]), array([ -9.5876142 ,   9.59742402, 165.39897508]))}\n",
      "min distance is:  [5.91670267]\n",
      "contact type is: ['EdgeToEdge']\n",
      "mask: [[ 3  4  5  6  7  8  0  1  2 15 16 17  9 10 11 12 13 14]]\n",
      "{'edge1': (array([509.5876142 ,   9.59742402, 159.60102492]), array([  9.59756922, 509.60735722, 159.48666054])), 'edge2': (array([490.40243078, 509.60735722, 165.51333946]), array([ -9.5876142 ,   9.59742402, 165.39897508]))}\n",
      "min distance is:  [5.91670267]\n",
      "contact type is: ['EdgeToEdge']\n",
      "mask: [[ 3  4  5  6  7  8  0  1  2 15 16 17  9 10 11 12 13 14]]\n",
      "Delta: [5.91670267]\n",
      "upper limit for quadratic: 1.75\n",
      "upper limit for smooth: 2.25\n",
      "{'edge1': (array([509.58728459,   9.59709772, 159.60081282]), array([  9.59724286, 509.60702588, 159.48644787])), 'edge2': (array([490.40275714, 509.60702588, 165.51355213]), array([ -9.58728459,   9.59709772, 165.39918718]))}\n",
      "min distance is:  [5.91712731]\n",
      "contact type is: ['EdgeToEdge']\n",
      "mask: [[ 3  4  5  6  7  8  0  1  2 15 16 17  9 10 11 12 13 14]]\n",
      "{'edge1': (array([509.58728459,   9.59709772, 159.60081282]), array([  9.59724286, 509.60702588, 159.48644787])), 'edge2': (array([490.40275714, 509.60702588, 165.51355213]), array([ -9.58728459,   9.59709772, 165.39918718]))}\n",
      "min distance is:  [5.91712731]\n",
      "contact type is: ['EdgeToEdge']\n",
      "mask: [[ 3  4  5  6  7  8  0  1  2 15 16 17  9 10 11 12 13 14]]\n",
      "{'edge1': (array([509.58728459,   9.59709772, 159.60081282]), array([  9.59724286, 509.60702588, 159.48644787])), 'edge2': (array([490.40275714, 509.60702588, 165.51355213]), array([ -9.58728459,   9.59709772, 165.39918718]))}\n",
      "min distance is:  [5.91712731]\n",
      "contact type is: ['EdgeToEdge']\n",
      "mask: [[ 3  4  5  6  7  8  0  1  2 15 16 17  9 10 11 12 13 14]]\n",
      "Delta: [5.91712731]\n",
      "upper limit for quadratic: 1.75\n",
      "upper limit for smooth: 2.25\n",
      "{'edge1': (array([509.69998021,   9.7098709 , 158.30678418]), array([  9.71001543, 509.71988389, 158.19075521])), 'edge2': (array([490.28998457, 509.71988389, 164.30924479]), array([ -9.69998021,   9.7098709 , 164.19321582]))}\n",
      "min distance is:  [6.00696478]\n",
      "contact type is: ['EdgeToEdge']\n",
      "mask: [[ 3  4  5  6  7  8  0  1  2 15 16 17  9 10 11 12 13 14]]\n",
      "{'edge1': (array([509.69998021,   9.7098709 , 158.30678418]), array([  9.71001543, 509.71988389, 158.19075521])), 'edge2': (array([490.28998457, 509.71988389, 164.30924479]), array([ -9.69998021,   9.7098709 , 164.19321582]))}\n",
      "min distance is:  [6.00696478]\n",
      "contact type is: ['EdgeToEdge']\n",
      "mask: [[ 3  4  5  6  7  8  0  1  2 15 16 17  9 10 11 12 13 14]]\n",
      "{'edge1': (array([509.69998021,   9.7098709 , 158.30678418]), array([  9.71001543, 509.71988389, 158.19075521])), 'edge2': (array([490.28998457, 509.71988389, 164.30924479]), array([ -9.69998021,   9.7098709 , 164.19321582]))}\n",
      "min distance is:  [6.00696478]\n",
      "contact type is: ['EdgeToEdge']\n",
      "mask: [[ 3  4  5  6  7  8  0  1  2 15 16 17  9 10 11 12 13 14]]\n",
      "Delta: [6.00696478]\n",
      "upper limit for quadratic: 1.75\n",
      "upper limit for smooth: 2.25\n",
      "{'edge1': (array([509.6996502 ,   9.7095442 , 158.30657333]), array([  9.70968867, 509.71955216, 158.19054379])), 'edge2': (array([490.29031133, 509.71955216, 164.30945621]), array([ -9.6996502 ,   9.7095442 , 164.19342667]))}\n",
      "min distance is:  [6.00738692]\n",
      "contact type is: ['EdgeToEdge']\n",
      "mask: [[ 3  4  5  6  7  8  0  1  2 15 16 17  9 10 11 12 13 14]]\n",
      "{'edge1': (array([509.6996502 ,   9.7095442 , 158.30657333]), array([  9.70968867, 509.71955216, 158.19054379])), 'edge2': (array([490.29031133, 509.71955216, 164.30945621]), array([ -9.6996502 ,   9.7095442 , 164.19342667]))}\n",
      "min distance is:  [6.00738692]\n",
      "contact type is: ['EdgeToEdge']\n",
      "mask: [[ 3  4  5  6  7  8  0  1  2 15 16 17  9 10 11 12 13 14]]\n",
      "{'edge1': (array([509.6996502 ,   9.7095442 , 158.30657333]), array([  9.70968867, 509.71955216, 158.19054379])), 'edge2': (array([490.29031133, 509.71955216, 164.30945621]), array([ -9.6996502 ,   9.7095442 , 164.19342667]))}\n",
      "min distance is:  [6.00738692]\n",
      "contact type is: ['EdgeToEdge']\n",
      "mask: [[ 3  4  5  6  7  8  0  1  2 15 16 17  9 10 11 12 13 14]]\n",
      "Delta: [6.00738692]\n",
      "upper limit for quadratic: 1.75\n",
      "upper limit for smooth: 2.25\n",
      "{'edge1': (array([509.81168257,   9.82165244, 157.01212278]), array([  9.82179618, 509.83174344, 156.89442808])), 'edge2': (array([490.17820382, 509.83174344, 163.10557192]), array([ -9.81168257,   9.82165244, 162.98787722]))}\n",
      "min distance is:  [6.09807057]\n",
      "contact type is: ['EdgeToEdge']\n",
      "mask: [[ 3  4  5  6  7  8  0  1  2 15 16 17  9 10 11 12 13 14]]\n",
      "{'edge1': (array([509.81168257,   9.82165244, 157.01212278]), array([  9.82179618, 509.83174344, 156.89442808])), 'edge2': (array([490.17820382, 509.83174344, 163.10557192]), array([ -9.81168257,   9.82165244, 162.98787722]))}\n",
      "min distance is:  [6.09807057]\n",
      "contact type is: ['EdgeToEdge']\n",
      "mask: [[ 3  4  5  6  7  8  0  1  2 15 16 17  9 10 11 12 13 14]]\n",
      "{'edge1': (array([509.81168257,   9.82165244, 157.01212278]), array([  9.82179618, 509.83174344, 156.89442808])), 'edge2': (array([490.17820382, 509.83174344, 163.10557192]), array([ -9.81168257,   9.82165244, 162.98787722]))}\n",
      "min distance is:  [6.09807057]\n",
      "contact type is: ['EdgeToEdge']\n",
      "mask: [[ 3  4  5  6  7  8  0  1  2 15 16 17  9 10 11 12 13 14]]\n",
      "Delta: [6.09807057]\n",
      "upper limit for quadratic: 1.75\n",
      "upper limit for smooth: 2.25\n",
      "{'edge1': (array([509.81135217,   9.82132535, 157.01191317]), array([  9.82146903, 509.83141131, 156.89421791])), 'edge2': (array([490.17853097, 509.83141131, 163.10578209]), array([ -9.81135217,   9.82132535, 162.98808683]))}\n",
      "min distance is:  [6.09849023]\n",
      "contact type is: ['EdgeToEdge']\n",
      "mask: [[ 3  4  5  6  7  8  0  1  2 15 16 17  9 10 11 12 13 14]]\n",
      "{'edge1': (array([509.81135217,   9.82132535, 157.01191317]), array([  9.82146903, 509.83141131, 156.89421791])), 'edge2': (array([490.17853097, 509.83141131, 163.10578209]), array([ -9.81135217,   9.82132535, 162.98808683]))}\n",
      "min distance is:  [6.09849023]\n",
      "contact type is: ['EdgeToEdge']\n",
      "mask: [[ 3  4  5  6  7  8  0  1  2 15 16 17  9 10 11 12 13 14]]\n",
      "{'edge1': (array([509.81135217,   9.82132535, 157.01191317]), array([  9.82146903, 509.83141131, 156.89421791])), 'edge2': (array([490.17853097, 509.83141131, 163.10578209]), array([ -9.81135217,   9.82132535, 162.98808683]))}\n",
      "min distance is:  [6.09849023]\n",
      "contact type is: ['EdgeToEdge']\n",
      "mask: [[ 3  4  5  6  7  8  0  1  2 15 16 17  9 10 11 12 13 14]]\n",
      "Delta: [6.09849023]\n",
      "upper limit for quadratic: 1.75\n",
      "upper limit for smooth: 2.25\n",
      "{'edge1': (array([509.92272049,   9.93276786, 155.71704323]), array([  9.9329107 , 509.94293506, 155.59768168])), 'edge2': (array([490.0670893 , 509.94293506, 161.90231832]), array([ -9.92272049,   9.93276786, 161.78295677]))}\n",
      "min distance is:  [6.19001501]\n",
      "contact type is: ['EdgeToEdge']\n",
      "mask: [[ 3  4  5  6  7  8  0  1  2 15 16 17  9 10 11 12 13 14]]\n",
      "{'edge1': (array([509.92272049,   9.93276786, 155.71704323]), array([  9.9329107 , 509.94293506, 155.59768168])), 'edge2': (array([490.0670893 , 509.94293506, 161.90231832]), array([ -9.92272049,   9.93276786, 161.78295677]))}\n",
      "min distance is:  [6.19001501]\n",
      "contact type is: ['EdgeToEdge']\n",
      "mask: [[ 3  4  5  6  7  8  0  1  2 15 16 17  9 10 11 12 13 14]]\n",
      "{'edge1': (array([509.92272049,   9.93276786, 155.71704323]), array([  9.9329107 , 509.94293506, 155.59768168])), 'edge2': (array([490.0670893 , 509.94293506, 161.90231832]), array([ -9.92272049,   9.93276786, 161.78295677]))}\n",
      "min distance is:  [6.19001501]\n",
      "contact type is: ['EdgeToEdge']\n",
      "mask: [[ 3  4  5  6  7  8  0  1  2 15 16 17  9 10 11 12 13 14]]\n",
      "Delta: [6.19001501]\n",
      "upper limit for quadratic: 1.75\n",
      "upper limit for smooth: 2.25\n",
      "{'edge1': (array([509.9223897 ,   9.93244038, 155.71683487]), array([  9.93258316, 509.94260255, 155.59747275])), 'edge2': (array([490.06741684, 509.94260255, 161.90252725]), array([ -9.9223897 ,   9.93244038, 161.78316513]))}\n",
      "min distance is:  [6.19043216]\n",
      "contact type is: ['EdgeToEdge']\n",
      "mask: [[ 3  4  5  6  7  8  0  1  2 15 16 17  9 10 11 12 13 14]]\n",
      "{'edge1': (array([509.9223897 ,   9.93244038, 155.71683487]), array([  9.93258316, 509.94260255, 155.59747275])), 'edge2': (array([490.06741684, 509.94260255, 161.90252725]), array([ -9.9223897 ,   9.93244038, 161.78316513]))}\n",
      "min distance is:  [6.19043216]\n",
      "contact type is: ['EdgeToEdge']\n",
      "mask: [[ 3  4  5  6  7  8  0  1  2 15 16 17  9 10 11 12 13 14]]\n",
      "{'edge1': (array([509.9223897 ,   9.93244038, 155.71683487]), array([  9.93258316, 509.94260255, 155.59747275])), 'edge2': (array([490.06741684, 509.94260255, 161.90252725]), array([ -9.9223897 ,   9.93244038, 161.78316513]))}\n",
      "min distance is:  [6.19043216]\n",
      "contact type is: ['EdgeToEdge']\n",
      "mask: [[ 3  4  5  6  7  8  0  1  2 15 16 17  9 10 11 12 13 14]]\n",
      "Delta: [6.19043216]\n",
      "upper limit for quadratic: 1.75\n",
      "upper limit for smooth: 2.25\n",
      "{'edge1': (array([510.0330932 ,  10.04321639, 154.42154806]), array([ 10.0433582 , 510.05345799, 154.30051852])), 'edge2': (array([489.9566418 , 510.05345799, 160.69948148]), array([-10.0330932 ,  10.04321639, 160.57845194]))}\n",
      "min distance is:  [6.28279301]\n",
      "contact type is: ['EdgeToEdge']\n",
      "mask: [[ 3  4  5  6  7  8  0  1  2 15 16 17  9 10 11 12 13 14]]\n",
      "{'edge1': (array([510.0330932 ,  10.04321639, 154.42154806]), array([ 10.0433582 , 510.05345799, 154.30051852])), 'edge2': (array([489.9566418 , 510.05345799, 160.69948148]), array([-10.0330932 ,  10.04321639, 160.57845194]))}\n",
      "min distance is:  [6.28279301]\n",
      "contact type is: ['EdgeToEdge']\n",
      "mask: [[ 3  4  5  6  7  8  0  1  2 15 16 17  9 10 11 12 13 14]]\n",
      "{'edge1': (array([510.0330932 ,  10.04321639, 154.42154806]), array([ 10.0433582 , 510.05345799, 154.30051852])), 'edge2': (array([489.9566418 , 510.05345799, 160.69948148]), array([-10.0330932 ,  10.04321639, 160.57845194]))}\n",
      "min distance is:  [6.28279301]\n",
      "contact type is: ['EdgeToEdge']\n",
      "mask: [[ 3  4  5  6  7  8  0  1  2 15 16 17  9 10 11 12 13 14]]\n",
      "Delta: [6.28279301]\n",
      "upper limit for quadratic: 1.75\n",
      "upper limit for smooth: 2.25\n",
      "{'edge1': (array([510.03276202,  10.04288852, 154.42134095]), array([ 10.04303027, 510.05312508, 154.30031085])), 'edge2': (array([489.95696973, 510.05312508, 160.69968915]), array([-10.03276202,  10.04288852, 160.57865905]))}\n",
      "min distance is:  [6.28320767]\n",
      "contact type is: ['EdgeToEdge']\n",
      "mask: [[ 3  4  5  6  7  8  0  1  2 15 16 17  9 10 11 12 13 14]]\n",
      "{'edge1': (array([510.03276202,  10.04288852, 154.42134095]), array([ 10.04303027, 510.05312508, 154.30031085])), 'edge2': (array([489.95696973, 510.05312508, 160.69968915]), array([-10.03276202,  10.04288852, 160.57865905]))}\n",
      "min distance is:  [6.28320767]\n",
      "contact type is: ['EdgeToEdge']\n",
      "mask: [[ 3  4  5  6  7  8  0  1  2 15 16 17  9 10 11 12 13 14]]\n",
      "{'edge1': (array([510.03276202,  10.04288852, 154.42134095]), array([ 10.04303027, 510.05312508, 154.30031085])), 'edge2': (array([489.95696973, 510.05312508, 160.69968915]), array([-10.03276202,  10.04288852, 160.57865905]))}\n",
      "min distance is:  [6.28320767]\n",
      "contact type is: ['EdgeToEdge']\n",
      "mask: [[ 3  4  5  6  7  8  0  1  2 15 16 17  9 10 11 12 13 14]]\n",
      "Delta: [6.28320767]\n",
      "upper limit for quadratic: 1.75\n",
      "upper limit for smooth: 2.25\n",
      "{'edge1': (array([510.14279992,  10.15299726, 153.1256398 ]), array([ 10.15313792, 510.16331143, 153.00294115])), 'edge2': (array([489.84686208, 510.16331143, 159.49705885]), array([-10.14279992,  10.15299726, 159.3743602 ]))}\n",
      "min distance is:  [6.37639953]\n",
      "contact type is: ['EdgeToEdge']\n",
      "mask: [[ 3  4  5  6  7  8  0  1  2 15 16 17  9 10 11 12 13 14]]\n",
      "{'edge1': (array([510.14279992,  10.15299726, 153.1256398 ]), array([ 10.15313792, 510.16331143, 153.00294115])), 'edge2': (array([489.84686208, 510.16331143, 159.49705885]), array([-10.14279992,  10.15299726, 159.3743602 ]))}\n",
      "min distance is:  [6.37639953]\n",
      "contact type is: ['EdgeToEdge']\n",
      "mask: [[ 3  4  5  6  7  8  0  1  2 15 16 17  9 10 11 12 13 14]]\n",
      "{'edge1': (array([510.14279992,  10.15299726, 153.1256398 ]), array([ 10.15313792, 510.16331143, 153.00294115])), 'edge2': (array([489.84686208, 510.16331143, 159.49705885]), array([-10.14279992,  10.15299726, 159.3743602 ]))}\n",
      "min distance is:  [6.37639953]\n",
      "contact type is: ['EdgeToEdge']\n",
      "mask: [[ 3  4  5  6  7  8  0  1  2 15 16 17  9 10 11 12 13 14]]\n",
      "Delta: [6.37639953]\n",
      "upper limit for quadratic: 1.75\n",
      "upper limit for smooth: 2.25\n",
      "{'edge1': (array([510.14246836,  10.152669  , 153.12543393]), array([ 10.1528096 , 510.16297814, 153.00273473])), 'edge2': (array([489.8471904 , 510.16297814, 159.49726527]), array([-10.14246836,  10.152669  , 159.37456607]))}\n",
      "min distance is:  [6.37681168]\n",
      "contact type is: ['EdgeToEdge']\n",
      "mask: [[ 3  4  5  6  7  8  0  1  2 15 16 17  9 10 11 12 13 14]]\n",
      "{'edge1': (array([510.14246836,  10.152669  , 153.12543393]), array([ 10.1528096 , 510.16297814, 153.00273473])), 'edge2': (array([489.8471904 , 510.16297814, 159.49726527]), array([-10.14246836,  10.152669  , 159.37456607]))}\n",
      "min distance is:  [6.37681168]\n",
      "contact type is: ['EdgeToEdge']\n",
      "mask: [[ 3  4  5  6  7  8  0  1  2 15 16 17  9 10 11 12 13 14]]\n",
      "{'edge1': (array([510.14246836,  10.152669  , 153.12543393]), array([ 10.1528096 , 510.16297814, 153.00273473])), 'edge2': (array([489.8471904 , 510.16297814, 159.49726527]), array([-10.14246836,  10.152669  , 159.37456607]))}\n",
      "min distance is:  [6.37681168]\n",
      "contact type is: ['EdgeToEdge']\n",
      "mask: [[ 3  4  5  6  7  8  0  1  2 15 16 17  9 10 11 12 13 14]]\n",
      "Delta: [6.37681168]\n",
      "upper limit for quadratic: 1.75\n",
      "upper limit for smooth: 2.25\n",
      "{'edge1': (array([510.25183989,  10.26210968, 151.82932097]), array([ 10.26224907, 510.27249463, 151.7049521 ])), 'edge2': (array([489.73775093, 510.27249463, 158.2950479 ]), array([-10.25183989,  10.26210968, 158.17067903]))}\n",
      "min distance is:  [6.47082947]\n",
      "contact type is: ['EdgeToEdge']\n",
      "mask: [[ 3  4  5  6  7  8  0  1  2 15 16 17  9 10 11 12 13 14]]\n",
      "{'edge1': (array([510.25183989,  10.26210968, 151.82932097]), array([ 10.26224907, 510.27249463, 151.7049521 ])), 'edge2': (array([489.73775093, 510.27249463, 158.2950479 ]), array([-10.25183989,  10.26210968, 158.17067903]))}\n",
      "min distance is:  [6.47082947]\n",
      "contact type is: ['EdgeToEdge']\n",
      "mask: [[ 3  4  5  6  7  8  0  1  2 15 16 17  9 10 11 12 13 14]]\n",
      "{'edge1': (array([510.25183989,  10.26210968, 151.82932097]), array([ 10.26224907, 510.27249463, 151.7049521 ])), 'edge2': (array([489.73775093, 510.27249463, 158.2950479 ]), array([-10.25183989,  10.26210968, 158.17067903]))}\n",
      "min distance is:  [6.47082947]\n",
      "contact type is: ['EdgeToEdge']\n",
      "mask: [[ 3  4  5  6  7  8  0  1  2 15 16 17  9 10 11 12 13 14]]\n",
      "Delta: [6.47082947]\n",
      "upper limit for quadratic: 1.75\n",
      "upper limit for smooth: 2.25\n",
      "{'edge1': (array([510.25150795,  10.26178105, 151.82911635]), array([ 10.26192037, 510.27216095, 151.70474693])), 'edge2': (array([489.73807963, 510.27216095, 158.29525307]), array([-10.25150795,  10.26178105, 158.17088365]))}\n",
      "min distance is:  [6.47123911]\n",
      "contact type is: ['EdgeToEdge']\n",
      "mask: [[ 3  4  5  6  7  8  0  1  2 15 16 17  9 10 11 12 13 14]]\n",
      "{'edge1': (array([510.25150795,  10.26178105, 151.82911635]), array([ 10.26192037, 510.27216095, 151.70474693])), 'edge2': (array([489.73807963, 510.27216095, 158.29525307]), array([-10.25150795,  10.26178105, 158.17088365]))}\n",
      "min distance is:  [6.47123911]\n",
      "contact type is: ['EdgeToEdge']\n",
      "mask: [[ 3  4  5  6  7  8  0  1  2 15 16 17  9 10 11 12 13 14]]\n",
      "{'edge1': (array([510.25150795,  10.26178105, 151.82911635]), array([ 10.26192037, 510.27216095, 151.70474693])), 'edge2': (array([489.73807963, 510.27216095, 158.29525307]), array([-10.25150795,  10.26178105, 158.17088365]))}\n",
      "min distance is:  [6.47123911]\n",
      "contact type is: ['EdgeToEdge']\n",
      "mask: [[ 3  4  5  6  7  8  0  1  2 15 16 17  9 10 11 12 13 14]]\n",
      "Delta: [6.47123911]\n",
      "upper limit for quadratic: 1.75\n",
      "upper limit for smooth: 2.25\n",
      "{'edge1': (array([510.36021235,  10.37055291, 150.5325941 ]), array([ 10.3706909, 510.3810068, 150.4065539])), 'edge2': (array([489.6293091, 510.3810068, 157.0934461]), array([-10.36021235,  10.37055291, 156.9674059 ]))}\n",
      "min distance is:  [6.56607776]\n",
      "contact type is: ['EdgeToEdge']\n",
      "mask: [[ 3  4  5  6  7  8  0  1  2 15 16 17  9 10 11 12 13 14]]\n",
      "{'edge1': (array([510.36021235,  10.37055291, 150.5325941 ]), array([ 10.3706909, 510.3810068, 150.4065539])), 'edge2': (array([489.6293091, 510.3810068, 157.0934461]), array([-10.36021235,  10.37055291, 156.9674059 ]))}\n",
      "min distance is:  [6.56607776]\n",
      "contact type is: ['EdgeToEdge']\n",
      "mask: [[ 3  4  5  6  7  8  0  1  2 15 16 17  9 10 11 12 13 14]]\n",
      "{'edge1': (array([510.36021235,  10.37055291, 150.5325941 ]), array([ 10.3706909, 510.3810068, 150.4065539])), 'edge2': (array([489.6293091, 510.3810068, 157.0934461]), array([-10.36021235,  10.37055291, 156.9674059 ]))}\n",
      "min distance is:  [6.56607776]\n",
      "contact type is: ['EdgeToEdge']\n",
      "mask: [[ 3  4  5  6  7  8  0  1  2 15 16 17  9 10 11 12 13 14]]\n",
      "Delta: [6.56607776]\n",
      "upper limit for quadratic: 1.75\n",
      "upper limit for smooth: 2.25\n",
      "{'edge1': (array([510.35988003,  10.37022389, 150.53239073]), array([ 10.37036182, 510.38067273, 150.40634998])), 'edge2': (array([489.62963818, 510.38067273, 157.09365002]), array([-10.35988003,  10.37022389, 156.96760927]))}\n",
      "min distance is:  [6.56648489]\n",
      "contact type is: ['EdgeToEdge']\n",
      "mask: [[ 3  4  5  6  7  8  0  1  2 15 16 17  9 10 11 12 13 14]]\n",
      "{'edge1': (array([510.35988003,  10.37022389, 150.53239073]), array([ 10.37036182, 510.38067273, 150.40634998])), 'edge2': (array([489.62963818, 510.38067273, 157.09365002]), array([-10.35988003,  10.37022389, 156.96760927]))}\n",
      "min distance is:  [6.56648489]\n",
      "contact type is: ['EdgeToEdge']\n",
      "mask: [[ 3  4  5  6  7  8  0  1  2 15 16 17  9 10 11 12 13 14]]\n",
      "{'edge1': (array([510.35988003,  10.37022389, 150.53239073]), array([ 10.37036182, 510.38067273, 150.40634998])), 'edge2': (array([489.62963818, 510.38067273, 157.09365002]), array([-10.35988003,  10.37022389, 156.96760927]))}\n",
      "min distance is:  [6.56648489]\n",
      "contact type is: ['EdgeToEdge']\n",
      "mask: [[ 3  4  5  6  7  8  0  1  2 15 16 17  9 10 11 12 13 14]]\n",
      "Delta: [6.56648489]\n",
      "upper limit for quadratic: 1.75\n",
      "upper limit for smooth: 2.25\n",
      "{'edge1': (array([510.46791655,  10.47832618, 149.23546172]), array([ 10.47846264, 510.48884719, 149.10774909])), 'edge2': (array([489.52153736, 510.48884719, 155.89225091]), array([-10.46791655,  10.47832618, 155.76453828]))}\n",
      "min distance is:  [6.66213932]\n",
      "contact type is: ['EdgeToEdge']\n",
      "mask: [[ 3  4  5  6  7  8  0  1  2 15 16 17  9 10 11 12 13 14]]\n",
      "{'edge1': (array([510.46791655,  10.47832618, 149.23546172]), array([ 10.47846264, 510.48884719, 149.10774909])), 'edge2': (array([489.52153736, 510.48884719, 155.89225091]), array([-10.46791655,  10.47832618, 155.76453828]))}\n",
      "min distance is:  [6.66213932]\n",
      "contact type is: ['EdgeToEdge']\n",
      "mask: [[ 3  4  5  6  7  8  0  1  2 15 16 17  9 10 11 12 13 14]]\n",
      "{'edge1': (array([510.46791655,  10.47832618, 149.23546172]), array([ 10.47846264, 510.48884719, 149.10774909])), 'edge2': (array([489.52153736, 510.48884719, 155.89225091]), array([-10.46791655,  10.47832618, 155.76453828]))}\n",
      "min distance is:  [6.66213932]\n",
      "contact type is: ['EdgeToEdge']\n",
      "mask: [[ 3  4  5  6  7  8  0  1  2 15 16 17  9 10 11 12 13 14]]\n",
      "Delta: [6.66213932]\n",
      "upper limit for quadratic: 1.75\n",
      "upper limit for smooth: 2.25\n",
      "{'edge1': (array([510.46758385,  10.47799678, 149.23525961]), array([ 10.47813318, 510.48851274, 149.10754643])), 'edge2': (array([489.52186682, 510.48851274, 155.89245357]), array([-10.46758385,  10.47799678, 155.76474039]))}\n",
      "min distance is:  [6.66254394]\n",
      "contact type is: ['EdgeToEdge']\n",
      "mask: [[ 3  4  5  6  7  8  0  1  2 15 16 17  9 10 11 12 13 14]]\n",
      "{'edge1': (array([510.46758385,  10.47799678, 149.23525961]), array([ 10.47813318, 510.48851274, 149.10754643])), 'edge2': (array([489.52186682, 510.48851274, 155.89245357]), array([-10.46758385,  10.47799678, 155.76474039]))}\n",
      "min distance is:  [6.66254394]\n",
      "contact type is: ['EdgeToEdge']\n",
      "mask: [[ 3  4  5  6  7  8  0  1  2 15 16 17  9 10 11 12 13 14]]\n",
      "{'edge1': (array([510.46758385,  10.47799678, 149.23525961]), array([ 10.47813318, 510.48851274, 149.10754643])), 'edge2': (array([489.52186682, 510.48851274, 155.89245357]), array([-10.46758385,  10.47799678, 155.76474039]))}\n",
      "min distance is:  [6.66254394]\n",
      "contact type is: ['EdgeToEdge']\n",
      "mask: [[ 3  4  5  6  7  8  0  1  2 15 16 17  9 10 11 12 13 14]]\n",
      "Delta: [6.66254394]\n",
      "upper limit for quadratic: 1.75\n",
      "upper limit for smooth: 2.25\n",
      "{'edge1': (array([510.57495172,  10.58542873, 147.93792638]), array([ 10.58556354, 510.59601503, 147.80854022])), 'edge2': (array([489.41443646, 510.59601503, 154.69145978]), array([-10.57495172,  10.58542873, 154.56207362]))}\n",
      "min distance is:  [6.75900904]\n",
      "contact type is: ['EdgeToEdge']\n",
      "mask: [[ 3  4  5  6  7  8  0  1  2 15 16 17  9 10 11 12 13 14]]\n",
      "{'edge1': (array([510.57495172,  10.58542873, 147.93792638]), array([ 10.58556354, 510.59601503, 147.80854022])), 'edge2': (array([489.41443646, 510.59601503, 154.69145978]), array([-10.57495172,  10.58542873, 154.56207362]))}\n",
      "min distance is:  [6.75900904]\n",
      "contact type is: ['EdgeToEdge']\n",
      "mask: [[ 3  4  5  6  7  8  0  1  2 15 16 17  9 10 11 12 13 14]]\n",
      "{'edge1': (array([510.57495172,  10.58542873, 147.93792638]), array([ 10.58556354, 510.59601503, 147.80854022])), 'edge2': (array([489.41443646, 510.59601503, 154.69145978]), array([-10.57495172,  10.58542873, 154.56207362]))}\n",
      "min distance is:  [6.75900904]\n",
      "contact type is: ['EdgeToEdge']\n",
      "mask: [[ 3  4  5  6  7  8  0  1  2 15 16 17  9 10 11 12 13 14]]\n",
      "Delta: [6.75900904]\n",
      "upper limit for quadratic: 1.75\n",
      "upper limit for smooth: 2.25\n",
      "{'edge1': (array([510.57461864,  10.58509896, 147.93772553]), array([ 10.5852337 , 510.59568021, 147.80833882])), 'edge2': (array([489.4147663 , 510.59568021, 154.69166118]), array([-10.57461864,  10.58509896, 154.56227447]))}\n",
      "min distance is:  [6.75941115]\n",
      "contact type is: ['EdgeToEdge']\n",
      "mask: [[ 3  4  5  6  7  8  0  1  2 15 16 17  9 10 11 12 13 14]]\n",
      "{'edge1': (array([510.57461864,  10.58509896, 147.93772553]), array([ 10.5852337 , 510.59568021, 147.80833882])), 'edge2': (array([489.4147663 , 510.59568021, 154.69166118]), array([-10.57461864,  10.58509896, 154.56227447]))}\n",
      "min distance is:  [6.75941115]\n",
      "contact type is: ['EdgeToEdge']\n",
      "mask: [[ 3  4  5  6  7  8  0  1  2 15 16 17  9 10 11 12 13 14]]\n",
      "{'edge1': (array([510.57461864,  10.58509896, 147.93772553]), array([ 10.5852337 , 510.59568021, 147.80833882])), 'edge2': (array([489.4147663 , 510.59568021, 154.69166118]), array([-10.57461864,  10.58509896, 154.56227447]))}\n",
      "min distance is:  [6.75941115]\n",
      "contact type is: ['EdgeToEdge']\n",
      "mask: [[ 3  4  5  6  7  8  0  1  2 15 16 17  9 10 11 12 13 14]]\n",
      "Delta: [6.75941115]\n",
      "upper limit for quadratic: 1.75\n",
      "upper limit for smooth: 2.25\n",
      "{'edge1': (array([510.68131712,  10.69185982, 146.63999061]), array([ 10.69199284, 510.70250959, 146.50892983])), 'edge2': (array([489.30800716, 510.70250959, 153.49107017]), array([-10.68131712,  10.69185982, 153.36000939]))}\n",
      "min distance is:  [6.85668185]\n",
      "contact type is: ['EdgeToEdge']\n",
      "mask: [[ 3  4  5  6  7  8  0  1  2 15 16 17  9 10 11 12 13 14]]\n",
      "{'edge1': (array([510.68131712,  10.69185982, 146.63999061]), array([ 10.69199284, 510.70250959, 146.50892983])), 'edge2': (array([489.30800716, 510.70250959, 153.49107017]), array([-10.68131712,  10.69185982, 153.36000939]))}\n",
      "min distance is:  [6.85668185]\n",
      "contact type is: ['EdgeToEdge']\n",
      "mask: [[ 3  4  5  6  7  8  0  1  2 15 16 17  9 10 11 12 13 14]]\n",
      "{'edge1': (array([510.68131712,  10.69185982, 146.63999061]), array([ 10.69199284, 510.70250959, 146.50892983])), 'edge2': (array([489.30800716, 510.70250959, 153.49107017]), array([-10.68131712,  10.69185982, 153.36000939]))}\n",
      "min distance is:  [6.85668185]\n",
      "contact type is: ['EdgeToEdge']\n",
      "mask: [[ 3  4  5  6  7  8  0  1  2 15 16 17  9 10 11 12 13 14]]\n",
      "Delta: [6.85668185]\n",
      "upper limit for quadratic: 1.75\n",
      "upper limit for smooth: 2.25\n"
     ]
    }
   ],
   "source": [
    "stepper = dismech.ImplicitEulerTimeStepper(robot)\n",
    "\n",
    "robots = stepper.simulate()\n",
    "\n",
    "qs = np.stack([robot.state.q for robot in robots])"
   ]
  },
  {
   "cell_type": "code",
   "execution_count": 3,
   "metadata": {},
   "outputs": [
    {
     "data": {
      "application/vnd.plotly.v1+json": {
       "config": {
        "plotlyServerURL": "https://plot.ly"
       },
       "data": [
        {
         "marker": {
          "color": "#1f78b4",
          "size": 5
         },
         "mode": "markers",
         "name": "Free Nodes",
         "type": "scatter3d",
         "x": {
          "bdata": "AAAAAAAAAAAAAAAAAADwPwAAAAAAAAAAUqGRb4GHRLwAAAAAAADwPwAAAAAAAPA/",
          "dtype": "f8"
         },
         "y": {
          "bdata": "AAAAAAAAAAAAAAAAAAAAAAAAAAAAAPA/kRhrjMqwQrxoovH8/IRjvAAAAAAAAPA/",
          "dtype": "f8"
         },
         "z": {
          "bdata": "AAAAAAAAAAAAAAAAAADgPwAAAAAAAOA/CtejcD0K4z+F61G4HoXxPwrXo3A9CuM/",
          "dtype": "f8"
         }
        },
        {
         "marker": {
          "color": "#e31a1c",
          "size": 5
         },
         "mode": "markers",
         "name": "Fixed Nodes",
         "type": "scatter3d",
         "x": [],
         "y": [],
         "z": []
        },
        {
         "line": {
          "color": "#333333",
          "width": 2
         },
         "mode": "lines",
         "name": "Edges",
         "type": "scatter3d",
         "x": [
          1,
          0,
          null,
          0,
          0,
          null,
          0,
          1,
          null,
          1,
          1,
          null,
          1,
          -2.2257932025056223e-18,
          null,
          -2.2257932025056223e-18,
          1,
          null
         ],
         "y": [
          0,
          1,
          null,
          1,
          0,
          null,
          0,
          0,
          null,
          -8.465227343526039e-18,
          1,
          null,
          1,
          -2.026437898232035e-18,
          null,
          -2.026437898232035e-18,
          -8.465227343526039e-18,
          null
         ],
         "z": [
          0.5,
          0.5,
          null,
          0.5,
          0,
          null,
          0,
          0.5,
          null,
          1.095,
          0.595,
          null,
          0.595,
          0.595,
          null,
          0.595,
          1.095,
          null
         ]
        },
        {
         "color": "rgba(166, 206, 227, 0.7)",
         "i": [
          0,
          3
         ],
         "j": [
          1,
          4
         ],
         "k": [
          2,
          5
         ],
         "name": "Faces",
         "opacity": 0.7,
         "showscale": false,
         "type": "mesh3d",
         "x": {
          "bdata": "AAAAAAAAAAAAAAAAAADwPwAAAAAAAAAAUqGRb4GHRLwAAAAAAADwPwAAAAAAAPA/",
          "dtype": "f8"
         },
         "y": {
          "bdata": "AAAAAAAAAAAAAAAAAAAAAAAAAAAAAPA/kRhrjMqwQrxoovH8/IRjvAAAAAAAAPA/",
          "dtype": "f8"
         },
         "z": {
          "bdata": "AAAAAAAAAAAAAAAAAADgPwAAAAAAAOA/CtejcD0K4z+F61G4HoXxPwrXo3A9CuM/",
          "dtype": "f8"
         }
        }
       ],
       "frames": [
        {
         "data": [
          {
           "name": "Free Nodes",
           "type": "scatter3d",
           "x": {
            "bdata": "AAAAAAAAAAAAAAAAAADwPwAAAAAAAAAAUqGRb4GHRLwAAAAAAADwPwAAAAAAAPA/",
            "dtype": "f8"
           },
           "y": {
            "bdata": "AAAAAAAAAAAAAAAAAAAAAAAAAAAAAPA/kRhrjMqwQrxoovH8/IRjvAAAAAAAAPA/",
            "dtype": "f8"
           },
           "z": {
            "bdata": "AAAAAAAAAAAAAAAAAADgPwAAAAAAAOA/CtejcD0K4z+F61G4HoXxPwrXo3A9CuM/",
            "dtype": "f8"
           }
          },
          {
           "name": "Fixed Nodes",
           "type": "scatter3d",
           "x": [],
           "y": [],
           "z": []
          },
          {
           "name": "Edges",
           "type": "scatter3d",
           "x": [
            1,
            0,
            null,
            0,
            0,
            null,
            0,
            1,
            null,
            1,
            1,
            null,
            1,
            -2.2257932025056223e-18,
            null,
            -2.2257932025056223e-18,
            1,
            null
           ],
           "y": [
            0,
            1,
            null,
            1,
            0,
            null,
            0,
            0,
            null,
            -8.465227343526039e-18,
            1,
            null,
            1,
            -2.026437898232035e-18,
            null,
            -2.026437898232035e-18,
            -8.465227343526039e-18,
            null
           ],
           "z": [
            0.5,
            0.5,
            null,
            0.5,
            0,
            null,
            0,
            0.5,
            null,
            1.095,
            0.595,
            null,
            0.595,
            0.595,
            null,
            0.595,
            1.095,
            null
           ]
          },
          {
           "i": [
            0,
            3
           ],
           "j": [
            1,
            4
           ],
           "k": [
            2,
            5
           ],
           "name": "Faces",
           "type": "mesh3d",
           "x": {
            "bdata": "AAAAAAAAAAAAAAAAAADwPwAAAAAAAAAAUqGRb4GHRLwAAAAAAADwPwAAAAAAAPA/",
            "dtype": "f8"
           },
           "y": {
            "bdata": "AAAAAAAAAAAAAAAAAAAAAAAAAAAAAPA/kRhrjMqwQrxoovH8/IRjvAAAAAAAAPA/",
            "dtype": "f8"
           },
           "z": {
            "bdata": "AAAAAAAAAAAAAAAAAADgPwAAAAAAAOA/CtejcD0K4z+F61G4HoXxPwrXo3A9CuM/",
            "dtype": "f8"
           }
          }
         ],
         "layout": {
          "annotations": [
           {
            "showarrow": false,
            "text": "Time: 0.00s (Step: 1/100)",
            "x": 0.05,
            "xref": "paper",
            "y": 0.95,
            "yref": "paper"
           }
          ]
         },
         "name": "0"
        },
        {
         "data": [
          {
           "name": "Free Nodes",
           "type": "scatter3d",
           "x": {
            "bdata": "AAAAAAAAAAAAAAAAAADwPwAAAAAAAAAAIzNPQgYYdbwAAAAAAADwPwAAAAAAAPA/",
            "dtype": "f8"
           },
           "y": {
            "bdata": "AAAAAAAAAAAAAAAAAAAAAAAAAAAAAPA/2qSg0i8JXDy6VaL7jeKLvAAAAAAAAPA/",
            "dtype": "f8"
           },
           "z": {
            "bdata": "AAAAAAAAAAAAAAAAAADgPwAAAAAAAOA/4XoUrkfh4j9wPQrXo3DxP+F6FK5H4eI/",
            "dtype": "f8"
           }
          },
          {
           "name": "Fixed Nodes",
           "type": "scatter3d",
           "x": [],
           "y": [],
           "z": []
          },
          {
           "name": "Edges",
           "type": "scatter3d",
           "x": [
            1,
            0,
            null,
            0,
            0,
            null,
            0,
            1,
            null,
            1,
            1,
            null,
            1,
            -1.8295994498145982e-17,
            null,
            -1.8295994498145982e-17,
            1,
            null
           ],
           "y": [
            0,
            1,
            null,
            1,
            0,
            null,
            0,
            0,
            null,
            -4.8372727677291656e-17,
            1,
            null,
            1,
            6.079313694696105e-18,
            null,
            6.079313694696105e-18,
            -4.8372727677291656e-17,
            null
           ],
           "z": [
            0.5,
            0.5,
            null,
            0.5,
            0,
            null,
            0,
            0.5,
            null,
            1.0899999999999999,
            0.59,
            null,
            0.59,
            0.59,
            null,
            0.59,
            1.0899999999999999,
            null
           ]
          },
          {
           "i": [
            0,
            3
           ],
           "j": [
            1,
            4
           ],
           "k": [
            2,
            5
           ],
           "name": "Faces",
           "type": "mesh3d",
           "x": {
            "bdata": "AAAAAAAAAAAAAAAAAADwPwAAAAAAAAAAIzNPQgYYdbwAAAAAAADwPwAAAAAAAPA/",
            "dtype": "f8"
           },
           "y": {
            "bdata": "AAAAAAAAAAAAAAAAAAAAAAAAAAAAAPA/2qSg0i8JXDy6VaL7jeKLvAAAAAAAAPA/",
            "dtype": "f8"
           },
           "z": {
            "bdata": "AAAAAAAAAAAAAAAAAADgPwAAAAAAAOA/4XoUrkfh4j9wPQrXo3DxP+F6FK5H4eI/",
            "dtype": "f8"
           }
          }
         ],
         "layout": {
          "annotations": [
           {
            "showarrow": false,
            "text": "Time: 0.01s (Step: 2/100)",
            "x": 0.05,
            "xref": "paper",
            "y": 0.95,
            "yref": "paper"
           }
          ]
         },
         "name": "1"
        },
        {
         "data": [
          {
           "name": "Free Nodes",
           "type": "scatter3d",
           "x": {
            "bdata": "AAAAAAAAAAAAAAAAAADwPwAAAAAAAAAAUv2HqxdYh7wAAAAAAADwPwAAAAAAAPA/",
            "dtype": "f8"
           },
           "y": {
            "bdata": "AAAAAAAAAAAAAAAAAAAAAAAAAAAAAPA/CGek472FcTwHikCbLVOevAAAAAAAAPA/",
            "dtype": "f8"
           },
           "z": {
            "bdata": "AAAAAAAAAAAAAAAAAADgPwAAAAAAAOA/uB6F61G44j9bj8L1KFzxP7gehetRuOI/",
            "dtype": "f8"
           }
          },
          {
           "name": "Fixed Nodes",
           "type": "scatter3d",
           "x": [],
           "y": [],
           "z": []
          },
          {
           "name": "Edges",
           "type": "scatter3d",
           "x": [
            1,
            0,
            null,
            0,
            0,
            null,
            0,
            1,
            null,
            1,
            1,
            null,
            1,
            -4.049557768317576e-17,
            null,
            -4.049557768317576e-17,
            1,
            null
           ],
           "y": [
            0,
            1,
            null,
            1,
            0,
            null,
            0,
            0,
            null,
            -1.0521068269810935e-16,
            1,
            null,
            1,
            1.5198284236740263e-17,
            null,
            1.5198284236740263e-17,
            -1.0521068269810935e-16,
            null
           ],
           "z": [
            0.5,
            0.5,
            null,
            0.5,
            0,
            null,
            0,
            0.5,
            null,
            1.0849999999999997,
            0.585,
            null,
            0.585,
            0.585,
            null,
            0.585,
            1.0849999999999997,
            null
           ]
          },
          {
           "i": [
            0,
            3
           ],
           "j": [
            1,
            4
           ],
           "k": [
            2,
            5
           ],
           "name": "Faces",
           "type": "mesh3d",
           "x": {
            "bdata": "AAAAAAAAAAAAAAAAAADwPwAAAAAAAAAAUv2HqxdYh7wAAAAAAADwPwAAAAAAAPA/",
            "dtype": "f8"
           },
           "y": {
            "bdata": "AAAAAAAAAAAAAAAAAAAAAAAAAAAAAPA/CGek472FcTwHikCbLVOevAAAAAAAAPA/",
            "dtype": "f8"
           },
           "z": {
            "bdata": "AAAAAAAAAAAAAAAAAADgPwAAAAAAAOA/uB6F61G44j9bj8L1KFzxP7gehetRuOI/",
            "dtype": "f8"
           }
          }
         ],
         "layout": {
          "annotations": [
           {
            "showarrow": false,
            "text": "Time: 0.02s (Step: 3/100)",
            "x": 0.05,
            "xref": "paper",
            "y": 0.95,
            "yref": "paper"
           }
          ]
         },
         "name": "2"
        },
        {
         "data": [
          {
           "name": "Free Nodes",
           "type": "scatter3d",
           "x": {
            "bdata": "AAAAAAAAAAAAAAAAAADwPwAAAAAAAAAAWq3DhFvdorwBAAAAAADwP////////+8/",
            "dtype": "f8"
           },
           "y": {
            "bdata": "AAAAAAAAAAAAAAAAAAAAAAAAAAAAAPA/WsRdQDsjmjybGltnZyW1vAAAAAAAAPA/",
            "dtype": "f8"
           },
           "z": {
            "bdata": "AAAAAAAAAAAAAAAAAADgPwAAAAAAAOA/jsL1KFyP4j9H4XoUrkfxP47C9Shcj+I/",
            "dtype": "f8"
           }
          },
          {
           "name": "Fixed Nodes",
           "type": "scatter3d",
           "x": [],
           "y": [],
           "z": []
          },
          {
           "name": "Edges",
           "type": "scatter3d",
           "x": [
            1,
            0,
            null,
            0,
            0,
            null,
            0,
            1,
            null,
            1.0000000000000002,
            0.9999999999999999,
            null,
            0.9999999999999999,
            -1.3089999718314146e-16,
            null,
            -1.3089999718314146e-16,
            1.0000000000000002,
            null
           ],
           "y": [
            0,
            1,
            null,
            1,
            0,
            null,
            0,
            0,
            null,
            -2.9346121457556933e-16,
            1,
            null,
            1,
            9.068309594588356e-17,
            null,
            9.068309594588356e-17,
            -2.9346121457556933e-16,
            null
           ],
           "z": [
            0.5,
            0.5,
            null,
            0.5,
            0,
            null,
            0,
            0.5,
            null,
            1.0799999999999998,
            0.5799999999999998,
            null,
            0.5799999999999998,
            0.5799999999999998,
            null,
            0.5799999999999998,
            1.0799999999999998,
            null
           ]
          },
          {
           "i": [
            0,
            3
           ],
           "j": [
            1,
            4
           ],
           "k": [
            2,
            5
           ],
           "name": "Faces",
           "type": "mesh3d",
           "x": {
            "bdata": "AAAAAAAAAAAAAAAAAADwPwAAAAAAAAAAWq3DhFvdorwBAAAAAADwP////////+8/",
            "dtype": "f8"
           },
           "y": {
            "bdata": "AAAAAAAAAAAAAAAAAAAAAAAAAAAAAPA/WsRdQDsjmjybGltnZyW1vAAAAAAAAPA/",
            "dtype": "f8"
           },
           "z": {
            "bdata": "AAAAAAAAAAAAAAAAAADgPwAAAAAAAOA/jsL1KFyP4j9H4XoUrkfxP47C9Shcj+I/",
            "dtype": "f8"
           }
          }
         ],
         "layout": {
          "annotations": [
           {
            "showarrow": false,
            "text": "Time: 0.03s (Step: 4/100)",
            "x": 0.05,
            "xref": "paper",
            "y": 0.95,
            "yref": "paper"
           }
          ]
         },
         "name": "3"
        },
        {
         "data": [
          {
           "name": "Free Nodes",
           "type": "scatter3d",
           "x": {
            "bdata": "AAAAAAAAAAAAAAAAAADwPwAAAAAAAAAAVuTE8gCLkbwAAAAAAADwPwEAAAAAAPA/",
            "dtype": "f8"
           },
           "y": {
            "bdata": "AAAAAAAAAAAAAAAAAAAAAAAAAAAAAPA/C1Q890Awqbx7f572CNqpvAAAAAAAAPA/",
            "dtype": "f8"
           },
           "z": {
            "bdata": "AAAAAAAAAAAAAAAAAADgPwAAAAAAAOA/ZmZmZmZm4j8xMzMzMzPxP2VmZmZmZuI/",
            "dtype": "f8"
           }
          },
          {
           "name": "Fixed Nodes",
           "type": "scatter3d",
           "x": [],
           "y": [],
           "z": []
          },
          {
           "name": "Edges",
           "type": "scatter3d",
           "x": [
            1,
            0,
            null,
            0,
            0,
            null,
            0,
            1,
            null,
            1,
            1.0000000000000002,
            null,
            1.0000000000000002,
            -6.08644496613801e-17,
            null,
            -6.08644496613801e-17,
            1,
            null
           ],
           "y": [
            0,
            1,
            null,
            1,
            0,
            null,
            0,
            0,
            null,
            -1.793821984699566e-16,
            1,
            null,
            1,
            -1.7478026872251261e-16,
            null,
            -1.7478026872251261e-16,
            -1.793821984699566e-16,
            null
           ],
           "z": [
            0.5,
            0.5,
            null,
            0.5,
            0,
            null,
            0,
            0.5,
            null,
            1.0749999999999995,
            0.5749999999999998,
            null,
            0.5749999999999998,
            0.575,
            null,
            0.575,
            1.0749999999999995,
            null
           ]
          },
          {
           "i": [
            0,
            3
           ],
           "j": [
            1,
            4
           ],
           "k": [
            2,
            5
           ],
           "name": "Faces",
           "type": "mesh3d",
           "x": {
            "bdata": "AAAAAAAAAAAAAAAAAADwPwAAAAAAAAAAVuTE8gCLkbwAAAAAAADwPwEAAAAAAPA/",
            "dtype": "f8"
           },
           "y": {
            "bdata": "AAAAAAAAAAAAAAAAAAAAAAAAAAAAAPA/C1Q890Awqbx7f572CNqpvAAAAAAAAPA/",
            "dtype": "f8"
           },
           "z": {
            "bdata": "AAAAAAAAAAAAAAAAAADgPwAAAAAAAOA/ZmZmZmZm4j8xMzMzMzPxP2VmZmZmZuI/",
            "dtype": "f8"
           }
          }
         ],
         "layout": {
          "annotations": [
           {
            "showarrow": false,
            "text": "Time: 0.04s (Step: 5/100)",
            "x": 0.05,
            "xref": "paper",
            "y": 0.95,
            "yref": "paper"
           }
          ]
         },
         "name": "4"
        },
        {
         "data": [
          {
           "name": "Free Nodes",
           "type": "scatter3d",
           "x": {
            "bdata": "AAAAAAAAAAAAAAAAAADwPwAAAAAAAAAAlmvK2JLHhrwBAAAAAADwPwEAAAAAAPA/",
            "dtype": "f8"
           },
           "y": {
            "bdata": "AAAAAAAAAAAAAAAAAAAAAAAAAAAAAPA/EA5BjzfwgLyUWIx06wu2vP7//////+8/",
            "dtype": "f8"
           },
           "z": {
            "bdata": "AAAAAAAAAAAAAAAAAADgPwAAAAAAAOA/PArXo3A94j8dhetRuB7xPzsK16NwPeI/",
            "dtype": "f8"
           }
          },
          {
           "name": "Fixed Nodes",
           "type": "scatter3d",
           "x": [],
           "y": [],
           "z": []
          },
          {
           "name": "Edges",
           "type": "scatter3d",
           "x": [
            1,
            0,
            null,
            0,
            0,
            null,
            0,
            1,
            null,
            1.0000000000000002,
            1.0000000000000002,
            null,
            1.0000000000000002,
            -3.951627992697388e-17,
            null,
            -3.951627992697388e-17,
            1.0000000000000002,
            null
           ],
           "y": [
            0,
            1,
            null,
            1,
            0,
            null,
            0,
            0,
            null,
            -3.0595750255886973e-16,
            0.9999999999999998,
            null,
            0.9999999999999998,
            -2.938334952436419e-17,
            null,
            -2.938334952436419e-17,
            -3.0595750255886973e-16,
            null
           ],
           "z": [
            0.5,
            0.5,
            null,
            0.5,
            0,
            null,
            0,
            0.5,
            null,
            1.0699999999999996,
            0.5699999999999997,
            null,
            0.5699999999999997,
            0.5699999999999998,
            null,
            0.5699999999999998,
            1.0699999999999996,
            null
           ]
          },
          {
           "i": [
            0,
            3
           ],
           "j": [
            1,
            4
           ],
           "k": [
            2,
            5
           ],
           "name": "Faces",
           "type": "mesh3d",
           "x": {
            "bdata": "AAAAAAAAAAAAAAAAAADwPwAAAAAAAAAAlmvK2JLHhrwBAAAAAADwPwEAAAAAAPA/",
            "dtype": "f8"
           },
           "y": {
            "bdata": "AAAAAAAAAAAAAAAAAAAAAAAAAAAAAPA/EA5BjzfwgLyUWIx06wu2vP7//////+8/",
            "dtype": "f8"
           },
           "z": {
            "bdata": "AAAAAAAAAAAAAAAAAADgPwAAAAAAAOA/PArXo3A94j8dhetRuB7xPzsK16NwPeI/",
            "dtype": "f8"
           }
          }
         ],
         "layout": {
          "annotations": [
           {
            "showarrow": false,
            "text": "Time: 0.05s (Step: 6/100)",
            "x": 0.05,
            "xref": "paper",
            "y": 0.95,
            "yref": "paper"
           }
          ]
         },
         "name": "5"
        },
        {
         "data": [
          {
           "name": "Free Nodes",
           "type": "scatter3d",
           "x": {
            "bdata": "AAAAAAAAAAAAAAAAAADwPwAAAAAAAAAAyP4ToCodWLwBAAAAAADwPwIAAAAAAPA/",
            "dtype": "f8"
           },
           "y": {
            "bdata": "AAAAAAAAAAAAAAAAAAAAAAAAAAAAAPA/qOMarkY9iLwm//nArtO7vP3//////+8/",
            "dtype": "f8"
           },
           "z": {
            "bdata": "AAAAAAAAAAAAAAAAAADgPwAAAAAAAOA/E65H4XoU4j8J16NwPQrxPxGuR+F6FOI/",
            "dtype": "f8"
           }
          },
          {
           "name": "Fixed Nodes",
           "type": "scatter3d",
           "x": [],
           "y": [],
           "z": []
          },
          {
           "name": "Edges",
           "type": "scatter3d",
           "x": [
            1,
            0,
            null,
            0,
            0,
            null,
            0,
            1,
            null,
            1.0000000000000002,
            1.0000000000000004,
            null,
            1.0000000000000004,
            -5.228875418704738e-18,
            null,
            -5.228875418704738e-18,
            1.0000000000000002,
            null
           ],
           "y": [
            0,
            1,
            null,
            1,
            0,
            null,
            0,
            0,
            null,
            -3.861756092903784e-16,
            0.9999999999999997,
            null,
            0.9999999999999997,
            -4.2048586388314405e-17,
            null,
            -4.2048586388314405e-17,
            -3.861756092903784e-16,
            null
           ],
           "z": [
            0.5,
            0.5,
            null,
            0.5,
            0,
            null,
            0,
            0.5,
            null,
            1.0649999999999997,
            0.5649999999999996,
            null,
            0.5649999999999996,
            0.5649999999999998,
            null,
            0.5649999999999998,
            1.0649999999999997,
            null
           ]
          },
          {
           "i": [
            0,
            3
           ],
           "j": [
            1,
            4
           ],
           "k": [
            2,
            5
           ],
           "name": "Faces",
           "type": "mesh3d",
           "x": {
            "bdata": "AAAAAAAAAAAAAAAAAADwPwAAAAAAAAAAyP4ToCodWLwBAAAAAADwPwIAAAAAAPA/",
            "dtype": "f8"
           },
           "y": {
            "bdata": "AAAAAAAAAAAAAAAAAAAAAAAAAAAAAPA/qOMarkY9iLwm//nArtO7vP3//////+8/",
            "dtype": "f8"
           },
           "z": {
            "bdata": "AAAAAAAAAAAAAAAAAADgPwAAAAAAAOA/E65H4XoU4j8J16NwPQrxPxGuR+F6FOI/",
            "dtype": "f8"
           }
          }
         ],
         "layout": {
          "annotations": [
           {
            "showarrow": false,
            "text": "Time: 0.06s (Step: 7/100)",
            "x": 0.05,
            "xref": "paper",
            "y": 0.95,
            "yref": "paper"
           }
          ]
         },
         "name": "6"
        },
        {
         "data": [
          {
           "name": "Free Nodes",
           "type": "scatter3d",
           "x": {
            "bdata": "AAAAAAAAAAAAAAAAAADwPwAAAAAAAAAAmsLNq6XHpDwBAAAAAADwPwMAAAAAAPA/",
            "dtype": "f8"
           },
           "y": {
            "bdata": "AAAAAAAAAAAAAAAAAAAAAAAAAAAAAPA/VqXfSILhlLxM3XLFl0vAvPz//////+8/",
            "dtype": "f8"
           },
           "z": {
            "bdata": "AAAAAAAAAAAAAAAAAADgPwAAAAAAAOA/61G4HoXr4T/1KFyPwvXwP+dRuB6F6+E/",
            "dtype": "f8"
           }
          },
          {
           "name": "Fixed Nodes",
           "type": "scatter3d",
           "x": [],
           "y": [],
           "z": []
          },
          {
           "name": "Edges",
           "type": "scatter3d",
           "x": [
            1,
            0,
            null,
            0,
            0,
            null,
            0,
            1,
            null,
            1.0000000000000002,
            1.0000000000000007,
            null,
            1.0000000000000007,
            1.4418932499716292e-16,
            null,
            1.4418932499716292e-16,
            1.0000000000000002,
            null
           ],
           "y": [
            0,
            1,
            null,
            1,
            0,
            null,
            0,
            0,
            null,
            -4.52285003782677e-16,
            0.9999999999999996,
            null,
            0.9999999999999996,
            -7.24451548617949e-17,
            null,
            -7.24451548617949e-17,
            -4.52285003782677e-16,
            null
           ],
           "z": [
            0.5,
            0.5,
            null,
            0.5,
            0,
            null,
            0,
            0.5,
            null,
            1.0599999999999998,
            0.5599999999999995,
            null,
            0.5599999999999995,
            0.5599999999999999,
            null,
            0.5599999999999999,
            1.0599999999999998,
            null
           ]
          },
          {
           "i": [
            0,
            3
           ],
           "j": [
            1,
            4
           ],
           "k": [
            2,
            5
           ],
           "name": "Faces",
           "type": "mesh3d",
           "x": {
            "bdata": "AAAAAAAAAAAAAAAAAADwPwAAAAAAAAAAmsLNq6XHpDwBAAAAAADwPwMAAAAAAPA/",
            "dtype": "f8"
           },
           "y": {
            "bdata": "AAAAAAAAAAAAAAAAAAAAAAAAAAAAAPA/VqXfSILhlLxM3XLFl0vAvPz//////+8/",
            "dtype": "f8"
           },
           "z": {
            "bdata": "AAAAAAAAAAAAAAAAAADgPwAAAAAAAOA/61G4HoXr4T/1KFyPwvXwP+dRuB6F6+E/",
            "dtype": "f8"
           }
          }
         ],
         "layout": {
          "annotations": [
           {
            "showarrow": false,
            "text": "Time: 0.07s (Step: 8/100)",
            "x": 0.05,
            "xref": "paper",
            "y": 0.95,
            "yref": "paper"
           }
          ]
         },
         "name": "7"
        },
        {
         "data": [
          {
           "name": "Free Nodes",
           "type": "scatter3d",
           "x": {
            "bdata": "AAAAAAAAAAAAAAAAAADwPwAAAAAAAAAAWtdApdEFrjwBAAAAAADwPwQAAAAAAPA/",
            "dtype": "f8"
           },
           "y": {
            "bdata": "AAAAAAAAAAAAAAAAAAAAAAAAAAAAAPA/1yqUAvUtorwUBZR+9Ry6vPr//////+8/",
            "dtype": "f8"
           },
           "z": {
            "bdata": "AAAAAAAAAAAAAAAAAADgPwAAAAAAAOA/w/UoXI/C4T/hehSuR+HwP771KFyPwuE/",
            "dtype": "f8"
           }
          },
          {
           "name": "Fixed Nodes",
           "type": "scatter3d",
           "x": [],
           "y": [],
           "z": []
          },
          {
           "name": "Edges",
           "type": "scatter3d",
           "x": [
            1,
            0,
            null,
            0,
            0,
            null,
            0,
            1,
            null,
            1.0000000000000002,
            1.0000000000000009,
            null,
            1.0000000000000009,
            2.0832453947168173e-16,
            null,
            2.0832453947168173e-16,
            1.0000000000000002,
            null
           ],
           "y": [
            0,
            1,
            null,
            1,
            0,
            null,
            0,
            0,
            null,
            -3.6239235151571e-16,
            0.9999999999999993,
            null,
            0.9999999999999993,
            -1.2614575916494383e-16,
            null,
            -1.2614575916494383e-16,
            -3.6239235151571e-16,
            null
           ],
           "z": [
            0.5,
            0.5,
            null,
            0.5,
            0,
            null,
            0,
            0.5,
            null,
            1.055,
            0.5549999999999995,
            null,
            0.5549999999999995,
            0.555,
            null,
            0.555,
            1.055,
            null
           ]
          },
          {
           "i": [
            0,
            3
           ],
           "j": [
            1,
            4
           ],
           "k": [
            2,
            5
           ],
           "name": "Faces",
           "type": "mesh3d",
           "x": {
            "bdata": "AAAAAAAAAAAAAAAAAADwPwAAAAAAAAAAWtdApdEFrjwBAAAAAADwPwQAAAAAAPA/",
            "dtype": "f8"
           },
           "y": {
            "bdata": "AAAAAAAAAAAAAAAAAAAAAAAAAAAAAPA/1yqUAvUtorwUBZR+9Ry6vPr//////+8/",
            "dtype": "f8"
           },
           "z": {
            "bdata": "AAAAAAAAAAAAAAAAAADgPwAAAAAAAOA/w/UoXI/C4T/hehSuR+HwP771KFyPwuE/",
            "dtype": "f8"
           }
          }
         ],
         "layout": {
          "annotations": [
           {
            "showarrow": false,
            "text": "Time: 0.08s (Step: 9/100)",
            "x": 0.05,
            "xref": "paper",
            "y": 0.95,
            "yref": "paper"
           }
          ]
         },
         "name": "8"
        },
        {
         "data": [
          {
           "name": "Free Nodes",
           "type": "scatter3d",
           "x": {
            "bdata": "AAAAAAAAAAAAAAAAAADwPwAAAAAAAAAAhJPqourctjwBAAAAAADwPwUAAAAAAPA/",
            "dtype": "f8"
           },
           "y": {
            "bdata": "AAAAAAAAAAAAAAAAAAAAAAAAAAAAAPA/IWw5YgdmorxxZMDveJ7CvPn//////+8/",
            "dtype": "f8"
           },
           "z": {
            "bdata": "AAAAAAAAAAAAAAAAAADgPwAAAAAAAOA/m5mZmZmZ4T/OzMzMzMzwP5SZmZmZmeE/",
            "dtype": "f8"
           }
          },
          {
           "name": "Fixed Nodes",
           "type": "scatter3d",
           "x": [],
           "y": [],
           "z": []
          },
          {
           "name": "Edges",
           "type": "scatter3d",
           "x": [
            1,
            0,
            null,
            0,
            0,
            null,
            0,
            1,
            null,
            1.0000000000000002,
            1.000000000000001,
            null,
            1.000000000000001,
            3.172872418578889e-16,
            null,
            3.172872418578889e-16,
            1.0000000000000002,
            null
           ],
           "y": [
            0,
            1,
            null,
            1,
            0,
            null,
            0,
            0,
            null,
            -5.167819740190659e-16,
            0.9999999999999992,
            null,
            0.9999999999999992,
            -1.2766558758861787e-16,
            null,
            -1.2766558758861787e-16,
            -5.167819740190659e-16,
            null
           ],
           "z": [
            0.5,
            0.5,
            null,
            0.5,
            0,
            null,
            0,
            0.5,
            null,
            1.0500000000000003,
            0.5499999999999994,
            null,
            0.5499999999999994,
            0.5500000000000002,
            null,
            0.5500000000000002,
            1.0500000000000003,
            null
           ]
          },
          {
           "i": [
            0,
            3
           ],
           "j": [
            1,
            4
           ],
           "k": [
            2,
            5
           ],
           "name": "Faces",
           "type": "mesh3d",
           "x": {
            "bdata": "AAAAAAAAAAAAAAAAAADwPwAAAAAAAAAAhJPqourctjwBAAAAAADwPwUAAAAAAPA/",
            "dtype": "f8"
           },
           "y": {
            "bdata": "AAAAAAAAAAAAAAAAAAAAAAAAAAAAAPA/IWw5YgdmorxxZMDveJ7CvPn//////+8/",
            "dtype": "f8"
           },
           "z": {
            "bdata": "AAAAAAAAAAAAAAAAAADgPwAAAAAAAOA/m5mZmZmZ4T/OzMzMzMzwP5SZmZmZmeE/",
            "dtype": "f8"
           }
          }
         ],
         "layout": {
          "annotations": [
           {
            "showarrow": false,
            "text": "Time: 0.09s (Step: 10/100)",
            "x": 0.05,
            "xref": "paper",
            "y": 0.95,
            "yref": "paper"
           }
          ]
         },
         "name": "9"
        },
        {
         "data": [
          {
           "name": "Free Nodes",
           "type": "scatter3d",
           "x": {
            "bdata": "AAAAAAAAAAAAAAAAAADwPwAAAAAAAAAAdqh8Tt9zujwBAAAAAADwPwYAAAAAAPA/",
            "dtype": "f8"
           },
           "y": {
            "bdata": "AAAAAAAAAAAAAAAAAAAAAAAAAAAAAPA/IrfJSFqGq7wF9771vm2/vPb//////+8/",
            "dtype": "f8"
           },
           "z": {
            "bdata": "AAAAAAAAAAAAAAAAAADgPwAAAAAAAOA/cz0K16Nw4T+6HoXrUbjwP2s9CtejcOE/",
            "dtype": "f8"
           }
          },
          {
           "name": "Fixed Nodes",
           "type": "scatter3d",
           "x": [],
           "y": [],
           "z": []
          },
          {
           "name": "Edges",
           "type": "scatter3d",
           "x": [
            1,
            0,
            null,
            0,
            0,
            null,
            0,
            1,
            null,
            1.0000000000000002,
            1.0000000000000013,
            null,
            1.0000000000000013,
            3.671039325046566e-16,
            null,
            3.671039325046566e-16,
            1.0000000000000002,
            null
           ],
           "y": [
            0,
            1,
            null,
            1,
            0,
            null,
            0,
            0,
            null,
            -4.3616076122357975e-16,
            0.9999999999999989,
            null,
            0.9999999999999989,
            -1.9099177190836901e-16,
            null,
            -1.9099177190836901e-16,
            -4.3616076122357975e-16,
            null
           ],
           "z": [
            0.5,
            0.5,
            null,
            0.5,
            0,
            null,
            0,
            0.5,
            null,
            1.0450000000000004,
            0.5449999999999994,
            null,
            0.5449999999999994,
            0.5450000000000003,
            null,
            0.5450000000000003,
            1.0450000000000004,
            null
           ]
          },
          {
           "i": [
            0,
            3
           ],
           "j": [
            1,
            4
           ],
           "k": [
            2,
            5
           ],
           "name": "Faces",
           "type": "mesh3d",
           "x": {
            "bdata": "AAAAAAAAAAAAAAAAAADwPwAAAAAAAAAAdqh8Tt9zujwBAAAAAADwPwYAAAAAAPA/",
            "dtype": "f8"
           },
           "y": {
            "bdata": "AAAAAAAAAAAAAAAAAAAAAAAAAAAAAPA/IrfJSFqGq7wF9771vm2/vPb//////+8/",
            "dtype": "f8"
           },
           "z": {
            "bdata": "AAAAAAAAAAAAAAAAAADgPwAAAAAAAOA/cz0K16Nw4T+6HoXrUbjwP2s9CtejcOE/",
            "dtype": "f8"
           }
          }
         ],
         "layout": {
          "annotations": [
           {
            "showarrow": false,
            "text": "Time: 0.10s (Step: 11/100)",
            "x": 0.05,
            "xref": "paper",
            "y": 0.95,
            "yref": "paper"
           }
          ]
         },
         "name": "10"
        },
        {
         "data": [
          {
           "name": "Free Nodes",
           "type": "scatter3d",
           "x": {
            "bdata": "AAAAAAAAAAAAAAAAAADwPwAAAAAAAAAAcRj2brKdwDwBAAAAAADwPwcAAAAAAPA/",
            "dtype": "f8"
           },
           "y": {
            "bdata": "AAAAAAAAAAAAAAAAAAAAAAAAAAAAAPA/dYp4423PrrzogBOzt+7GvPX//////+8/",
            "dtype": "f8"
           },
           "z": {
            "bdata": "AAAAAAAAAAAAAAAAAADgPwAAAAAAAOA/S+F6FK5H4T+ncD0K16PwP0HhehSuR+E/",
            "dtype": "f8"
           }
          },
          {
           "name": "Fixed Nodes",
           "type": "scatter3d",
           "x": [],
           "y": [],
           "z": []
          },
          {
           "name": "Edges",
           "type": "scatter3d",
           "x": [
            1,
            0,
            null,
            0,
            0,
            null,
            0,
            1,
            null,
            1.0000000000000002,
            1.0000000000000016,
            null,
            1.0000000000000016,
            4.611867534604802e-16,
            null,
            4.611867534604802e-16,
            1.0000000000000002,
            null
           ],
           "y": [
            0,
            1,
            null,
            1,
            0,
            null,
            0,
            0,
            null,
            -6.365044750203628e-16,
            0.9999999999999988,
            null,
            0.9999999999999988,
            -2.1378919826347944e-16,
            null,
            -2.1378919826347944e-16,
            -6.365044750203628e-16,
            null
           ],
           "z": [
            0.5,
            0.5,
            null,
            0.5,
            0,
            null,
            0,
            0.5,
            null,
            1.0400000000000007,
            0.5399999999999993,
            null,
            0.5399999999999993,
            0.5400000000000004,
            null,
            0.5400000000000004,
            1.0400000000000007,
            null
           ]
          },
          {
           "i": [
            0,
            3
           ],
           "j": [
            1,
            4
           ],
           "k": [
            2,
            5
           ],
           "name": "Faces",
           "type": "mesh3d",
           "x": {
            "bdata": "AAAAAAAAAAAAAAAAAADwPwAAAAAAAAAAcRj2brKdwDwBAAAAAADwPwcAAAAAAPA/",
            "dtype": "f8"
           },
           "y": {
            "bdata": "AAAAAAAAAAAAAAAAAAAAAAAAAAAAAPA/dYp4423PrrzogBOzt+7GvPX//////+8/",
            "dtype": "f8"
           },
           "z": {
            "bdata": "AAAAAAAAAAAAAAAAAADgPwAAAAAAAOA/S+F6FK5H4T+ncD0K16PwP0HhehSuR+E/",
            "dtype": "f8"
           }
          }
         ],
         "layout": {
          "annotations": [
           {
            "showarrow": false,
            "text": "Time: 0.11s (Step: 12/100)",
            "x": 0.05,
            "xref": "paper",
            "y": 0.95,
            "yref": "paper"
           }
          ]
         },
         "name": "11"
        },
        {
         "data": [
          {
           "name": "Free Nodes",
           "type": "scatter3d",
           "x": {
            "bdata": "AAAAAAAAAAAAAAAAAADwPwAAAAAAAAAAC/HUd75CwjwBAAAAAADwPwgAAAAAAPA/",
            "dtype": "f8"
           },
           "y": {
            "bdata": "AAAAAAAAAAAAAAAAAAAAAAAAAAAAAPA/YQvXlOkTtLzXGS8WbR3EvPL//////+8/",
            "dtype": "f8"
           },
           "z": {
            "bdata": "AAAAAAAAAAAAAAAAAADgPwAAAAAAAOA/I4XrUbge4T+TwvUoXI/wPxiF61G4HuE/",
            "dtype": "f8"
           }
          },
          {
           "name": "Fixed Nodes",
           "type": "scatter3d",
           "x": [],
           "y": [],
           "z": []
          },
          {
           "name": "Edges",
           "type": "scatter3d",
           "x": [
            1,
            0,
            null,
            0,
            0,
            null,
            0,
            1,
            null,
            1.0000000000000002,
            1.0000000000000018,
            null,
            1.0000000000000018,
            5.068367617948024e-16,
            null,
            5.068367617948024e-16,
            1.0000000000000002,
            null
           ],
           "y": [
            0,
            1,
            null,
            1,
            0,
            null,
            0,
            0,
            null,
            -5.583018986087412e-16,
            0.9999999999999984,
            null,
            0.9999999999999984,
            -2.7863521100690467e-16,
            null,
            -2.7863521100690467e-16,
            -5.583018986087412e-16,
            null
           ],
           "z": [
            0.5,
            0.5,
            null,
            0.5,
            0,
            null,
            0,
            0.5,
            null,
            1.0350000000000008,
            0.5349999999999993,
            null,
            0.5349999999999993,
            0.5350000000000005,
            null,
            0.5350000000000005,
            1.0350000000000008,
            null
           ]
          },
          {
           "i": [
            0,
            3
           ],
           "j": [
            1,
            4
           ],
           "k": [
            2,
            5
           ],
           "name": "Faces",
           "type": "mesh3d",
           "x": {
            "bdata": "AAAAAAAAAAAAAAAAAADwPwAAAAAAAAAAC/HUd75CwjwBAAAAAADwPwgAAAAAAPA/",
            "dtype": "f8"
           },
           "y": {
            "bdata": "AAAAAAAAAAAAAAAAAAAAAAAAAAAAAPA/YQvXlOkTtLzXGS8WbR3EvPL//////+8/",
            "dtype": "f8"
           },
           "z": {
            "bdata": "AAAAAAAAAAAAAAAAAADgPwAAAAAAAOA/I4XrUbge4T+TwvUoXI/wPxiF61G4HuE/",
            "dtype": "f8"
           }
          }
         ],
         "layout": {
          "annotations": [
           {
            "showarrow": false,
            "text": "Time: 0.12s (Step: 13/100)",
            "x": 0.05,
            "xref": "paper",
            "y": 0.95,
            "yref": "paper"
           }
          ]
         },
         "name": "12"
        },
        {
         "data": [
          {
           "name": "Free Nodes",
           "type": "scatter3d",
           "x": {
            "bdata": "AAAAAAAAAAAAAAAAAADwPwAAAAAAAAAAbcBbefBBwjwCAAAAAADwPwkAAAAAAPA/",
            "dtype": "f8"
           },
           "y": {
            "bdata": "AAAAAAAAAAAAAAAAAAAAAAAAAAAAAPA/nLJzQGN+s7znlXQWu+XKvPH//////+8/",
            "dtype": "f8"
           },
           "z": {
            "bdata": "AAAAAAAAAAAAAAAAAADgPwAAAAAAAOA/+ihcj8L14D+AFK5H4XrwP+4oXI/C9eA/",
            "dtype": "f8"
           }
          },
          {
           "name": "Fixed Nodes",
           "type": "scatter3d",
           "x": [],
           "y": [],
           "z": []
          },
          {
           "name": "Edges",
           "type": "scatter3d",
           "x": [
            1,
            0,
            null,
            0,
            0,
            null,
            0,
            1,
            null,
            1.0000000000000004,
            1.000000000000002,
            null,
            1.000000000000002,
            5.067495199267862e-16,
            null,
            5.067495199267862e-16,
            1.0000000000000004,
            null
           ],
           "y": [
            0,
            1,
            null,
            1,
            0,
            null,
            0,
            0,
            null,
            -7.465524304862015e-16,
            0.9999999999999983,
            null,
            0.9999999999999983,
            -2.705294594139765e-16,
            null,
            -2.705294594139765e-16,
            -7.465524304862015e-16,
            null
           ],
           "z": [
            0.5,
            0.5,
            null,
            0.5,
            0,
            null,
            0,
            0.5,
            null,
            1.0300000000000011,
            0.5299999999999991,
            null,
            0.5299999999999991,
            0.5300000000000005,
            null,
            0.5300000000000005,
            1.0300000000000011,
            null
           ]
          },
          {
           "i": [
            0,
            3
           ],
           "j": [
            1,
            4
           ],
           "k": [
            2,
            5
           ],
           "name": "Faces",
           "type": "mesh3d",
           "x": {
            "bdata": "AAAAAAAAAAAAAAAAAADwPwAAAAAAAAAAbcBbefBBwjwCAAAAAADwPwkAAAAAAPA/",
            "dtype": "f8"
           },
           "y": {
            "bdata": "AAAAAAAAAAAAAAAAAAAAAAAAAAAAAPA/nLJzQGN+s7znlXQWu+XKvPH//////+8/",
            "dtype": "f8"
           },
           "z": {
            "bdata": "AAAAAAAAAAAAAAAAAADgPwAAAAAAAOA/+ihcj8L14D+AFK5H4XrwP+4oXI/C9eA/",
            "dtype": "f8"
           }
          }
         ],
         "layout": {
          "annotations": [
           {
            "showarrow": false,
            "text": "Time: 0.13s (Step: 14/100)",
            "x": 0.05,
            "xref": "paper",
            "y": 0.95,
            "yref": "paper"
           }
          ]
         },
         "name": "13"
        },
        {
         "data": [
          {
           "name": "Free Nodes",
           "type": "scatter3d",
           "x": {
            "bdata": "AAAAAAAAAAAAAAAAAADwPwAAAAAAAAAArSDvN2CXyTwCAAAAAADwPwoAAAAAAPA/",
            "dtype": "f8"
           },
           "y": {
            "bdata": "AAAAAAAAAAAAAAAAAAAAAAAAAAAAAPA/SGHQ7iHNt7zdraLYYQHOvPD//////+8/",
            "dtype": "f8"
           },
           "z": {
            "bdata": "AAAAAAAAAAAAAAAAAADgPwAAAAAAAOA/0szMzMzM4D9sZmZmZmbwP8XMzMzMzOA/",
            "dtype": "f8"
           }
          },
          {
           "name": "Fixed Nodes",
           "type": "scatter3d",
           "x": [],
           "y": [],
           "z": []
          },
          {
           "name": "Edges",
           "type": "scatter3d",
           "x": [
            1,
            0,
            null,
            0,
            0,
            null,
            0,
            1,
            null,
            1.0000000000000004,
            1.0000000000000022,
            null,
            1.0000000000000022,
            7.103015933119157e-16,
            null,
            7.103015933119157e-16,
            1.0000000000000004,
            null
           ],
           "y": [
            0,
            1,
            null,
            1,
            0,
            null,
            0,
            0,
            null,
            -8.328171281773718e-16,
            0.9999999999999982,
            null,
            0.9999999999999982,
            -3.3030937741182167e-16,
            null,
            -3.3030937741182167e-16,
            -8.328171281773718e-16,
            null
           ],
           "z": [
            0.5,
            0.5,
            null,
            0.5,
            0,
            null,
            0,
            0.5,
            null,
            1.0250000000000012,
            0.5249999999999991,
            null,
            0.5249999999999991,
            0.5250000000000006,
            null,
            0.5250000000000006,
            1.0250000000000012,
            null
           ]
          },
          {
           "i": [
            0,
            3
           ],
           "j": [
            1,
            4
           ],
           "k": [
            2,
            5
           ],
           "name": "Faces",
           "type": "mesh3d",
           "x": {
            "bdata": "AAAAAAAAAAAAAAAAAADwPwAAAAAAAAAArSDvN2CXyTwCAAAAAADwPwoAAAAAAPA/",
            "dtype": "f8"
           },
           "y": {
            "bdata": "AAAAAAAAAAAAAAAAAAAAAAAAAAAAAPA/SGHQ7iHNt7zdraLYYQHOvPD//////+8/",
            "dtype": "f8"
           },
           "z": {
            "bdata": "AAAAAAAAAAAAAAAAAADgPwAAAAAAAOA/0szMzMzM4D9sZmZmZmbwP8XMzMzMzOA/",
            "dtype": "f8"
           }
          }
         ],
         "layout": {
          "annotations": [
           {
            "showarrow": false,
            "text": "Time: 0.14s (Step: 15/100)",
            "x": 0.05,
            "xref": "paper",
            "y": 0.95,
            "yref": "paper"
           }
          ]
         },
         "name": "14"
        },
        {
         "data": [
          {
           "name": "Free Nodes",
           "type": "scatter3d",
           "x": {
            "bdata": "AAAAAAAAAAAAAAAAAADwPwAAAAAAAAAA2W85YuMvzTwCAAAAAADwPwsAAAAAAPA/",
            "dtype": "f8"
           },
           "y": {
            "bdata": "AAAAAAAAAAAAAAAAAAAAAAAAAAAAAPA/Pc1SQKd1vbyLGJ0/BATMvO7//////+8/",
            "dtype": "f8"
           },
           "z": {
            "bdata": "AAAAAAAAAAAAAAAAAADgPwAAAAAAAOA/qnA9Ctej4D9YuB6F61HwP51wPQrXo+A/",
            "dtype": "f8"
           }
          },
          {
           "name": "Fixed Nodes",
           "type": "scatter3d",
           "x": [],
           "y": [],
           "z": []
          },
          {
           "name": "Edges",
           "type": "scatter3d",
           "x": [
            1,
            0,
            null,
            0,
            0,
            null,
            0,
            1,
            null,
            1.0000000000000004,
            1.0000000000000024,
            null,
            1.0000000000000024,
            8.101037438020111e-16,
            null,
            8.101037438020111e-16,
            1.0000000000000004,
            null
           ],
           "y": [
            0,
            1,
            null,
            1,
            0,
            null,
            0,
            0,
            null,
            -7.775915974124637e-16,
            0.999999999999998,
            null,
            0.999999999999998,
            -4.088338459683133e-16,
            null,
            -4.088338459683133e-16,
            -7.775915974124637e-16,
            null
           ],
           "z": [
            0.5,
            0.5,
            null,
            0.5,
            0,
            null,
            0,
            0.5,
            null,
            1.0200000000000014,
            0.5199999999999992,
            null,
            0.5199999999999992,
            0.5200000000000007,
            null,
            0.5200000000000007,
            1.0200000000000014,
            null
           ]
          },
          {
           "i": [
            0,
            3
           ],
           "j": [
            1,
            4
           ],
           "k": [
            2,
            5
           ],
           "name": "Faces",
           "type": "mesh3d",
           "x": {
            "bdata": "AAAAAAAAAAAAAAAAAADwPwAAAAAAAAAA2W85YuMvzTwCAAAAAADwPwsAAAAAAPA/",
            "dtype": "f8"
           },
           "y": {
            "bdata": "AAAAAAAAAAAAAAAAAAAAAAAAAAAAAPA/Pc1SQKd1vbyLGJ0/BATMvO7//////+8/",
            "dtype": "f8"
           },
           "z": {
            "bdata": "AAAAAAAAAAAAAAAAAADgPwAAAAAAAOA/qnA9Ctej4D9YuB6F61HwP51wPQrXo+A/",
            "dtype": "f8"
           }
          }
         ],
         "layout": {
          "annotations": [
           {
            "showarrow": false,
            "text": "Time: 0.15s (Step: 16/100)",
            "x": 0.05,
            "xref": "paper",
            "y": 0.95,
            "yref": "paper"
           }
          ]
         },
         "name": "15"
        },
        {
         "data": [
          {
           "name": "Free Nodes",
           "type": "scatter3d",
           "x": {
            "bdata": "AAAAAAAAAAAAAAAAAADwPwAAAAAAAAAAQdB21T6m0DwCAAAAAADwPwwAAAAAAPA/",
            "dtype": "f8"
           },
           "y": {
            "bdata": "AAAAAAAAAAAAAAAAAAAAAAAAAAAAAPA/TGdb9D9DvrxUeT5tNprRvO7//////+8/",
            "dtype": "f8"
           },
           "z": {
            "bdata": "AAAAAAAAAAAAAAAAAADgPwAAAAAAAOA/ghSuR+F64D9FCtejcD3wP3QUrkfheuA/",
            "dtype": "f8"
           }
          },
          {
           "name": "Fixed Nodes",
           "type": "scatter3d",
           "x": [],
           "y": [],
           "z": []
          },
          {
           "name": "Edges",
           "type": "scatter3d",
           "x": [
            1,
            0,
            null,
            0,
            0,
            null,
            0,
            1,
            null,
            1.0000000000000004,
            1.0000000000000027,
            null,
            1.0000000000000027,
            9.24227154162884e-16,
            null,
            9.24227154162884e-16,
            1.0000000000000004,
            null
           ],
           "y": [
            0,
            1,
            null,
            1,
            0,
            null,
            0,
            0,
            null,
            -9.771290990812921e-16,
            0.999999999999998,
            null,
            0.999999999999998,
            -4.199792544085895e-16,
            null,
            -4.199792544085895e-16,
            -9.771290990812921e-16,
            null
           ],
           "z": [
            0.5,
            0.5,
            null,
            0.5,
            0,
            null,
            0,
            0.5,
            null,
            1.0150000000000017,
            0.5149999999999992,
            null,
            0.5149999999999992,
            0.5150000000000008,
            null,
            0.5150000000000008,
            1.0150000000000017,
            null
           ]
          },
          {
           "i": [
            0,
            3
           ],
           "j": [
            1,
            4
           ],
           "k": [
            2,
            5
           ],
           "name": "Faces",
           "type": "mesh3d",
           "x": {
            "bdata": "AAAAAAAAAAAAAAAAAADwPwAAAAAAAAAAQdB21T6m0DwCAAAAAADwPwwAAAAAAPA/",
            "dtype": "f8"
           },
           "y": {
            "bdata": "AAAAAAAAAAAAAAAAAAAAAAAAAAAAAPA/TGdb9D9DvrxUeT5tNprRvO7//////+8/",
            "dtype": "f8"
           },
           "z": {
            "bdata": "AAAAAAAAAAAAAAAAAADgPwAAAAAAAOA/ghSuR+F64D9FCtejcD3wP3QUrkfheuA/",
            "dtype": "f8"
           }
          }
         ],
         "layout": {
          "annotations": [
           {
            "showarrow": false,
            "text": "Time: 0.16s (Step: 17/100)",
            "x": 0.05,
            "xref": "paper",
            "y": 0.95,
            "yref": "paper"
           }
          ]
         },
         "name": "16"
        },
        {
         "data": [
          {
           "name": "Free Nodes",
           "type": "scatter3d",
           "x": {
            "bdata": "AAAAAAAAAAAAAAAAAADwPwAAAAAAAAAA6ad2uFn40TwCAAAAAADwPw0AAAAAAPA/",
            "dtype": "f8"
           },
           "y": {
            "bdata": "AAAAAAAAAAAAAAAAAAAAAAAAAAAAAPA/YjsNOA5ywLxwW3btSDXQvOz//////+8/",
            "dtype": "f8"
           },
           "z": {
            "bdata": "AAAAAAAAAAAAAAAAAADgPwAAAAAAAOA/WrgehetR4D8xXI/C9SjwP0y4HoXrUeA/",
            "dtype": "f8"
           }
          },
          {
           "name": "Fixed Nodes",
           "type": "scatter3d",
           "x": [],
           "y": [],
           "z": []
          },
          {
           "name": "Edges",
           "type": "scatter3d",
           "x": [
            1,
            0,
            null,
            0,
            0,
            null,
            0,
            1,
            null,
            1.0000000000000004,
            1.0000000000000029,
            null,
            1.0000000000000029,
            9.975419949574921e-16,
            null,
            9.975419949574921e-16,
            1.0000000000000004,
            null
           ],
           "y": [
            0,
            1,
            null,
            1,
            0,
            null,
            0,
            0,
            null,
            -8.997327347976253e-16,
            0.9999999999999978,
            null,
            0.9999999999999978,
            -4.564551365767663e-16,
            null,
            -4.564551365767663e-16,
            -8.997327347976253e-16,
            null
           ],
           "z": [
            0.5,
            0.5,
            null,
            0.5,
            0,
            null,
            0,
            0.5,
            null,
            1.0100000000000018,
            0.5099999999999993,
            null,
            0.5099999999999993,
            0.5100000000000009,
            null,
            0.5100000000000009,
            1.0100000000000018,
            null
           ]
          },
          {
           "i": [
            0,
            3
           ],
           "j": [
            1,
            4
           ],
           "k": [
            2,
            5
           ],
           "name": "Faces",
           "type": "mesh3d",
           "x": {
            "bdata": "AAAAAAAAAAAAAAAAAADwPwAAAAAAAAAA6ad2uFn40TwCAAAAAADwPw0AAAAAAPA/",
            "dtype": "f8"
           },
           "y": {
            "bdata": "AAAAAAAAAAAAAAAAAAAAAAAAAAAAAPA/YjsNOA5ywLxwW3btSDXQvOz//////+8/",
            "dtype": "f8"
           },
           "z": {
            "bdata": "AAAAAAAAAAAAAAAAAADgPwAAAAAAAOA/WrgehetR4D8xXI/C9SjwP0y4HoXrUeA/",
            "dtype": "f8"
           }
          }
         ],
         "layout": {
          "annotations": [
           {
            "showarrow": false,
            "text": "Time: 0.17s (Step: 18/100)",
            "x": 0.05,
            "xref": "paper",
            "y": 0.95,
            "yref": "paper"
           }
          ]
         },
         "name": "17"
        },
        {
         "data": [
          {
           "name": "Free Nodes",
           "type": "scatter3d",
           "x": {
            "bdata": "AAAAAAAAAAAAAAAAAADwPwAAAAAAAAAAtYfziyY00jwDAAAAAADwPw4AAAAAAPA/",
            "dtype": "f8"
           },
           "y": {
            "bdata": "AAAAAAAAAAAAAAAAAAAAAAAAAAAAAPA/Fci9wV2VvLyZsKlreS/TvOz//////+8/",
            "dtype": "f8"
           },
           "z": {
            "bdata": "AAAAAAAAAAAAAAAAAADgPwAAAAAAAOA/MVyPwvUo4D8erkfhehTwPyNcj8L1KOA/",
            "dtype": "f8"
           }
          },
          {
           "name": "Fixed Nodes",
           "type": "scatter3d",
           "x": [],
           "y": [],
           "z": []
          },
          {
           "name": "Edges",
           "type": "scatter3d",
           "x": [
            1,
            0,
            null,
            0,
            0,
            null,
            0,
            1,
            null,
            1.0000000000000007,
            1.000000000000003,
            null,
            1.000000000000003,
            1.0105090750684592e-15,
            null,
            1.0105090750684592e-15,
            1.0000000000000007,
            null
           ],
           "y": [
            0,
            1,
            null,
            1,
            0,
            null,
            0,
            0,
            null,
            -1.0650062210283721e-15,
            0.9999999999999978,
            null,
            0.9999999999999978,
            -3.96675218578921e-16,
            null,
            -3.96675218578921e-16,
            -1.0650062210283721e-15,
            null
           ],
           "z": [
            0.5,
            0.5,
            null,
            0.5,
            0,
            null,
            0,
            0.5,
            null,
            1.0050000000000021,
            0.5049999999999993,
            null,
            0.5049999999999993,
            0.5050000000000009,
            null,
            0.5050000000000009,
            1.0050000000000021,
            null
           ]
          },
          {
           "i": [
            0,
            3
           ],
           "j": [
            1,
            4
           ],
           "k": [
            2,
            5
           ],
           "name": "Faces",
           "type": "mesh3d",
           "x": {
            "bdata": "AAAAAAAAAAAAAAAAAADwPwAAAAAAAAAAtYfziyY00jwDAAAAAADwPw4AAAAAAPA/",
            "dtype": "f8"
           },
           "y": {
            "bdata": "AAAAAAAAAAAAAAAAAAAAAAAAAAAAAPA/Fci9wV2VvLyZsKlreS/TvOz//////+8/",
            "dtype": "f8"
           },
           "z": {
            "bdata": "AAAAAAAAAAAAAAAAAADgPwAAAAAAAOA/MVyPwvUo4D8erkfhehTwPyNcj8L1KOA/",
            "dtype": "f8"
           }
          }
         ],
         "layout": {
          "annotations": [
           {
            "showarrow": false,
            "text": "Time: 0.18s (Step: 19/100)",
            "x": 0.05,
            "xref": "paper",
            "y": 0.95,
            "yref": "paper"
           }
          ]
         },
         "name": "18"
        },
        {
         "data": [
          {
           "name": "Free Nodes",
           "type": "scatter3d",
           "x": {
            "bdata": "BwLIFeodQL9YhEiOAwHwP7fAijcVAzA/wS9FiOQ4ML8DuUK9AwLwP8YOWZ3//e8/",
            "dtype": "f8"
           },
           "y": {
            "bdata": "ggfrxPwhQL9q6A9pAgMwP2IMcg8EAfA/rswPaQIDMD/RKuvE/CFAv1gMcg8EAfA/",
            "dtype": "f8"
           },
           "z": {
            "bdata": "uR+1JX8NQL/ZlTAQaN/fP4jGuNpf398/HbXn90sQ4D+utuSvAQLwP7ecoxJQEOA/",
            "dtype": "f8"
           }
          },
          {
           "name": "Fixed Nodes",
           "type": "scatter3d",
           "x": [],
           "y": [],
           "z": []
          },
          {
           "name": "Edges",
           "type": "scatter3d",
           "x": [
            1.0002475316944324,
            0.00024432437889300044,
            null,
            0.00024432437889300044,
            -0.0004918473237581219,
            null,
            -0.0004918473237581219,
            1.0002475316944324,
            null,
            1.0004918473237587,
            0.9997556756211103,
            null,
            0.9997556756211103,
            -0.00024753169443125436,
            null,
            -0.00024753169443125436,
            1.0004918473237587,
            null
           ],
           "y": [
            0.00024432000014907326,
            1.0002480128612423,
            null,
            1.0002480128612423,
            -0.0004923328613914842,
            null,
            -0.0004923328613914842,
            0.00024432000014907326,
            null,
            -0.0004923328613924642,
            1.00024801286124,
            null,
            1.00024801286124,
            0.00024432000014868837,
            null,
            0.00024432000014868837,
            -0.0004923328613924642,
            null
           ],
           "z": [
            0.4980106504538902,
            0.4980086933092953,
            null,
            0.4980086933092953,
            -0.000489890178337219,
            null,
            -0.000489890178337219,
            0.4980106504538902,
            null,
            1.0004898901783394,
            0.5019913066907041,
            null,
            0.5019913066907041,
            0.5019893495461109,
            null,
            0.5019893495461109,
            1.0004898901783394,
            null
           ]
          },
          {
           "i": [
            0,
            3
           ],
           "j": [
            1,
            4
           ],
           "k": [
            2,
            5
           ],
           "name": "Faces",
           "type": "mesh3d",
           "x": {
            "bdata": "BwLIFeodQL9YhEiOAwHwP7fAijcVAzA/wS9FiOQ4ML8DuUK9AwLwP8YOWZ3//e8/",
            "dtype": "f8"
           },
           "y": {
            "bdata": "ggfrxPwhQL9q6A9pAgMwP2IMcg8EAfA/rswPaQIDMD/RKuvE/CFAv1gMcg8EAfA/",
            "dtype": "f8"
           },
           "z": {
            "bdata": "uR+1JX8NQL/ZlTAQaN/fP4jGuNpf398/HbXn90sQ4D+utuSvAQLwP7ecoxJQEOA/",
            "dtype": "f8"
           }
          }
         ],
         "layout": {
          "annotations": [
           {
            "showarrow": false,
            "text": "Time: 0.19s (Step: 20/100)",
            "x": 0.05,
            "xref": "paper",
            "y": 0.95,
            "yref": "paper"
           }
          ]
         },
         "name": "19"
        },
        {
         "data": [
          {
           "name": "Free Nodes",
           "type": "scatter3d",
           "x": {
            "bdata": "8EWCxthhUr9SC2pxTALwP7kuXQhWYEI/9mdaUItjQr+VoDF2mATwP9Pofepn++8/",
            "dtype": "f8"
           },
           "y": {
            "bdata": "8CcKOCtnUr/MQtnAPWBCP2HnFcNNAvA/DzzZwD1gQj8QOgo4K2dSv1bnFcNNAvA/",
            "dtype": "f8"
           },
           "z": {
            "bdata": "73IHKi9MUr+0yH42MLbfP6jEMc8att8/DX9iROT33z+npwVVMODvP/2Cr6v5998/",
            "dtype": "f8"
           }
          },
          {
           "name": "Fixed Nodes",
           "type": "scatter3d",
           "x": [],
           "y": [],
           "z": []
          },
          {
           "name": "Edges",
           "type": "scatter3d",
           "x": [
            1.000561182998997,
            0.0005608005601316003,
            null,
            0.0005608005601316003,
            -0.0011219613025200657,
            null,
            -0.0011219613025200657,
            1.000561182998997,
            null,
            1.0011219613025208,
            0.9994391994398718,
            null,
            0.9994391994398718,
            -0.0005611829989959894,
            null,
            -0.0005611829989959894,
            1.0011219613025208,
            null
           ],
           "y": [
            0.000560789254175098,
            1.000562440922714,
            null,
            1.000562440922714,
            -0.0011232301768893081,
            null,
            -0.0011232301768893081,
            0.000560789254175098,
            null,
            -0.0011232301768903143,
            1.0005624409227116,
            null,
            1.0005624409227116,
            0.000560789254174911,
            null,
            0.000560789254174911,
            -0.0011232301768903143,
            null
           ],
           "z": [
            0.4954948932819534,
            0.4954897902853852,
            null,
            0.4954897902853852,
            -0.0011167965495736917,
            null,
            -0.0011167965495736917,
            0.4954948932819534,
            null,
            0.9961167965495762,
            0.4995102097146143,
            null,
            0.4995102097146143,
            0.49950510671804765,
            null,
            0.49950510671804765,
            0.9961167965495762,
            null
           ]
          },
          {
           "i": [
            0,
            3
           ],
           "j": [
            1,
            4
           ],
           "k": [
            2,
            5
           ],
           "name": "Faces",
           "type": "mesh3d",
           "x": {
            "bdata": "8EWCxthhUr9SC2pxTALwP7kuXQhWYEI/9mdaUItjQr+VoDF2mATwP9Pofepn++8/",
            "dtype": "f8"
           },
           "y": {
            "bdata": "8CcKOCtnUr/MQtnAPWBCP2HnFcNNAvA/DzzZwD1gQj8QOgo4K2dSv1bnFcNNAvA/",
            "dtype": "f8"
           },
           "z": {
            "bdata": "73IHKi9MUr+0yH42MLbfP6jEMc8att8/DX9iROT33z+npwVVMODvP/2Cr6v5998/",
            "dtype": "f8"
           }
          }
         ],
         "layout": {
          "annotations": [
           {
            "showarrow": false,
            "text": "Time: 0.20s (Step: 21/100)",
            "x": 0.05,
            "xref": "paper",
            "y": 0.95,
            "yref": "paper"
           }
          ]
         },
         "name": "20"
        },
        {
         "data": [
          {
           "name": "Free Nodes",
           "type": "scatter3d",
           "x": {
            "bdata": "zx7WKwilXL+rG10XlAPwP5uQh7WhqUw/PyXd6LqgTL+K9QpCKQfwPzyekpfV+O8/",
            "dtype": "f8"
           },
           "y": {
            "bdata": "R8iWsqCtXL8QntvceqlMPz0K0TiWA/A/BZnb3HqpTD/525ayoK1cvzIK0TiWA/A/",
            "dtype": "f8"
           },
           "z": {
            "bdata": "C3VwYyuCXL8mGNSs5IzfP9e92wbCjN8/THfuSETP3z8AAJOQVbzvP3zR5u5mz98/",
            "dtype": "f8"
           }
          },
          {
           "name": "Fixed Nodes",
           "type": "scatter3d",
           "x": [],
           "y": [],
           "z": []
          },
          {
           "name": "Edges",
           "type": "scatter3d",
           "x": [
            1.0008736527104058,
            0.0008747138591016669,
            null,
            0.0008747138591016669,
            -0.0017483310506082766,
            null,
            -0.0017483310506082766,
            1.0008736527104058,
            null,
            1.0017483310506088,
            0.9991252861409019,
            null,
            0.9991252861409019,
            -0.0008736527104044391,
            null,
            -0.0008736527104044391,
            1.0017483310506088,
            null
           ],
           "y": [
            0.0008746957698492781,
            1.00087568468065,
            null,
            1.00087568468065,
            -0.0017503804504994823,
            null,
            -0.0017503804504994823,
            0.0008746957698492781,
            null,
            -0.0017503804505005756,
            1.0008756846806475,
            null,
            1.0008756846806475,
            0.0008746957698491381,
            null,
            0.0008746957698491381,
            -0.0017503804505005756,
            null
           ],
           "z": [
            0.49297444227011267,
            0.4929661814666963,
            null,
            0.4929661814666963,
            -0.0017400191989119264,
            null,
            -0.0017400191989119264,
            0.49297444227011267,
            null,
            0.9917400191989145,
            0.4970338185333032,
            null,
            0.4970338185333032,
            0.49702555772988855,
            null,
            0.49702555772988855,
            0.9917400191989145,
            null
           ]
          },
          {
           "i": [
            0,
            3
           ],
           "j": [
            1,
            4
           ],
           "k": [
            2,
            5
           ],
           "name": "Faces",
           "type": "mesh3d",
           "x": {
            "bdata": "zx7WKwilXL+rG10XlAPwP5uQh7WhqUw/PyXd6LqgTL+K9QpCKQfwPzyekpfV+O8/",
            "dtype": "f8"
           },
           "y": {
            "bdata": "R8iWsqCtXL8QntvceqlMPz0K0TiWA/A/BZnb3HqpTD/525ayoK1cvzIK0TiWA/A/",
            "dtype": "f8"
           },
           "z": {
            "bdata": "C3VwYyuCXL8mGNSs5IzfP9e92wbCjN8/THfuSETP3z8AAJOQVbzvP3zR5u5mz98/",
            "dtype": "f8"
           }
          }
         ],
         "layout": {
          "annotations": [
           {
            "showarrow": false,
            "text": "Time: 0.21s (Step: 22/100)",
            "x": 0.05,
            "xref": "paper",
            "y": 0.95,
            "yref": "paper"
           }
          ]
         },
         "name": "21"
        },
        {
         "data": [
          {
           "name": "Free Nodes",
           "type": "scatter3d",
           "x": {
            "bdata": "XfGz6s9qY78mPCH42QTwP2SkM53zbVM/O4DwhOBnU7/8WfVntQnwP1BmMQZJ9u8/",
            "dtype": "f8"
           },
           "y": {
            "bdata": "6rxuDLlwY78YL/L42G1TP9H6R+bcBPA//yzy+NhtUz8Axm4MuXBjv8X6R+bcBPA/",
            "dtype": "f8"
           },
           "z": {
            "bdata": "Dnejc/lSY79yHED6nGPfPxsCMR9tY98/rbpjdqCm3z8Vj8WxcZjvP+jUclHQpt8/",
            "dtype": "f8"
           }
          },
          {
           "name": "Fixed Nodes",
           "type": "scatter3d",
           "x": [],
           "y": [],
           "z": []
          },
          {
           "name": "Edges",
           "type": "scatter3d",
           "x": [
            1.0011844341822864,
            0.0011858824771542537,
            null,
            0.0011858824771542537,
            -0.0023702679515037865,
            null,
            -0.0023702679515037865,
            1.0011844341822864,
            null,
            1.0023702679515045,
            0.9988141175228495,
            null,
            0.9988141175228495,
            -0.0011844341822851007,
            null,
            -0.0011844341822851007,
            1.0023702679515045,
            null
           ],
           "y": [
            0.0011858576652085725,
            1.0011872287138213,
            null,
            1.0011872287138213,
            -0.002373086379030211,
            null,
            -0.002373086379030211,
            0.0011858576652085725,
            null,
            -0.0023730863790312196,
            1.0011872287138186,
            null,
            1.0011872287138186,
            0.001185857665208456,
            null,
            0.001185857665208456,
            -0.0023730863790312196,
            null
           ],
           "z": [
            0.4904549068309684,
            0.49044349714316277,
            null,
            0.49044349714316277,
            -0.0023589012244958968,
            null,
            -0.0023589012244958968,
            0.4904549068309684,
            null,
            0.9873589012244987,
            0.49455650285683683,
            null,
            0.49455650285683683,
            0.4945450931690328,
            null,
            0.4945450931690328,
            0.9873589012244987,
            null
           ]
          },
          {
           "i": [
            0,
            3
           ],
           "j": [
            1,
            4
           ],
           "k": [
            2,
            5
           ],
           "name": "Faces",
           "type": "mesh3d",
           "x": {
            "bdata": "XfGz6s9qY78mPCH42QTwP2SkM53zbVM/O4DwhOBnU7/8WfVntQnwP1BmMQZJ9u8/",
            "dtype": "f8"
           },
           "y": {
            "bdata": "6rxuDLlwY78YL/L42G1TP9H6R+bcBPA//yzy+NhtUz8Axm4MuXBjv8X6R+bcBPA/",
            "dtype": "f8"
           },
           "z": {
            "bdata": "Dnejc/lSY79yHED6nGPfPxsCMR9tY98/rbpjdqCm3z8Vj8WxcZjvP+jUclHQpt8/",
            "dtype": "f8"
           }
          }
         ],
         "layout": {
          "annotations": [
           {
            "showarrow": false,
            "text": "Time: 0.22s (Step: 23/100)",
            "x": 0.05,
            "xref": "paper",
            "y": 0.95,
            "yref": "paper"
           }
          ]
         },
         "name": "22"
        },
        {
         "data": [
          {
           "name": "Free Nodes",
           "type": "scatter3d",
           "x": {
            "bdata": "7u1cpCJ+aL9C8UOeHgbwP8r+LLEOglg/vu7ED3l6WL96LlIRPwzwP6Vpp/i+8+8/",
            "dtype": "f8"
           },
           "y": {
            "bdata": "FHiOjKWFaL+vIoPX7IFYP3FmkFciBvA/FSCD1+yBWD/dgY6MpYVov2VmkFciBvA/",
            "dtype": "f8"
           },
           "z": {
            "bdata": "eZbd7wVgaL/F4TlZTzrfP7xrYEQSOt8/CT1LkgJ+3z8MbbL7iHTvP/WyJKc/ft8/",
            "dtype": "f8"
           }
          },
          {
           "name": "Fixed Nodes",
           "type": "scatter3d",
           "x": [],
           "y": [],
           "z": []
          },
          {
           "name": "Edges",
           "type": "scatter3d",
           "x": [
            1.0014940435640516,
            0.0014958518483609178,
            null,
            0.0014958518483609178,
            -0.002989833507766929,
            null,
            -0.002989833507766929,
            1.0014940435640516,
            null,
            1.0029898335077676,
            0.9985041481516431,
            null,
            0.9985041481516431,
            -0.0014940435640501816,
            null,
            -0.0014940435640501816,
            1.0029898335077676,
            null
           ],
           "y": [
            0.0014958203228607016,
            1.0014975948783127,
            null,
            1.0014975948783127,
            -0.002993415201173919,
            null,
            -0.002993415201173919,
            0.0014958203228607016,
            null,
            -0.002993415201175005,
            1.00149759487831,
            null,
            1.00149759487831,
            0.0014958203228605572,
            null,
            0.0014958203228605572,
            -0.002993415201175005,
            null
           ],
           "z": [
            0.48793395722853133,
            0.48791939427763587,
            null,
            0.48791939427763587,
            -0.0029754749256650195,
            null,
            -0.0029754749256650195,
            0.48793395722853133,
            null,
            0.9829754749256678,
            0.49208060572236373,
            null,
            0.49208060572236373,
            0.49206604277146987,
            null,
            0.49206604277146987,
            0.9829754749256678,
            null
           ]
          },
          {
           "i": [
            0,
            3
           ],
           "j": [
            1,
            4
           ],
           "k": [
            2,
            5
           ],
           "name": "Faces",
           "type": "mesh3d",
           "x": {
            "bdata": "7u1cpCJ+aL9C8UOeHgbwP8r+LLEOglg/vu7ED3l6WL96LlIRPwzwP6Vpp/i+8+8/",
            "dtype": "f8"
           },
           "y": {
            "bdata": "FHiOjKWFaL+vIoPX7IFYP3FmkFciBvA/FSCD1+yBWD/dgY6MpYVov2VmkFciBvA/",
            "dtype": "f8"
           },
           "z": {
            "bdata": "eZbd7wVgaL/F4TlZTzrfP7xrYEQSOt8/CT1LkgJ+3z8MbbL7iHTvP/WyJKc/ft8/",
            "dtype": "f8"
           }
          }
         ],
         "layout": {
          "annotations": [
           {
            "showarrow": false,
            "text": "Time: 0.23s (Step: 24/100)",
            "x": 0.05,
            "xref": "paper",
            "y": 0.95,
            "yref": "paper"
           }
          ]
         },
         "name": "23"
        },
        {
         "data": [
          {
           "name": "Free Nodes",
           "type": "scatter3d",
           "x": {
            "bdata": "LDctZniMbb8sn6wCYgfwPxx82r02kV0/P5J8sgqIXb+fFjM8xg7wP+YSoWQ38e8/",
            "dtype": "f8"
           },
           "y": {
            "bdata": "FVs26JGVbb9yXSSzDZFdPxNSh4VmB/A/EV8ksw2RXT+lZjbokZVtvwZSh4VmB/A/",
            "dtype": "f8"
           },
           "z": {
            "bdata": "59BxjD1obb/pnqnF/BDfP0fItXOyEN8/k8e8oGlV3z8fpb9wm1DvPxeesPKzVd8/",
            "dtype": "f8"
           }
          },
          {
           "name": "Fixed Nodes",
           "type": "scatter3d",
           "x": [],
           "y": [],
           "z": []
          },
          {
           "name": "Edges",
           "type": "scatter3d",
           "x": [
            1.0018024544205657,
            0.0018046412073216061,
            null,
            0.0018046412073216061,
            -0.003607020525499124,
            null,
            -0.003607020525499124,
            1.0018024544205657,
            null,
            1.0036070205254999,
            0.9981953587926824,
            null,
            0.9981953587926824,
            -0.0018024544205640506,
            null,
            -0.0018024544205640506,
            1.0036070205254999,
            null
           ],
           "y": [
            0.001804602984128181,
            1.001806756588057,
            null,
            1.001806756588057,
            -0.003611359572185955,
            null,
            -0.003611359572185955,
            0.001804602984128181,
            null,
            -0.0036113595721872387,
            1.0018067565880542,
            null,
            1.0018067565880542,
            0.001804602984128271,
            null,
            0.001804602984128271,
            -0.0036113595721872387,
            null
           ],
           "z": [
            0.48541182806955746,
            0.48539410877049644,
            null,
            0.48539410877049644,
            -0.00358974477017614,
            null,
            -0.00358974477017614,
            0.48541182806955746,
            null,
            0.9785897447701791,
            0.4896058912295031,
            null,
            0.4896058912295031,
            0.48958817193044374,
            null,
            0.48958817193044374,
            0.9785897447701791,
            null
           ]
          },
          {
           "i": [
            0,
            3
           ],
           "j": [
            1,
            4
           ],
           "k": [
            2,
            5
           ],
           "name": "Faces",
           "type": "mesh3d",
           "x": {
            "bdata": "LDctZniMbb8sn6wCYgfwPxx82r02kV0/P5J8sgqIXb+fFjM8xg7wP+YSoWQ38e8/",
            "dtype": "f8"
           },
           "y": {
            "bdata": "FVs26JGVbb9yXSSzDZFdPxNSh4VmB/A/EV8ksw2RXT+lZjbokZVtvwZSh4VmB/A/",
            "dtype": "f8"
           },
           "z": {
            "bdata": "59BxjD1obb/pnqnF/BDfP0fItXOyEN8/k8e8oGlV3z8fpb9wm1DvPxeesPKzVd8/",
            "dtype": "f8"
           }
          }
         ],
         "layout": {
          "annotations": [
           {
            "showarrow": false,
            "text": "Time: 0.24s (Step: 25/100)",
            "x": 0.05,
            "xref": "paper",
            "y": 0.95,
            "yref": "paper"
           }
          ]
         },
         "name": "24"
        },
        {
         "data": [
          {
           "name": "Free Nodes",
           "type": "scatter3d",
           "x": {
            "bdata": "AqJMOOBKcb+wd/kjpAjwPyS+jOWnTWE/d1Lv8kdIYb+lTDjgShHwP2pzGliy7u8/",
            "dtype": "f8"
           },
           "y": {
            "bdata": "fVDlqDZQcb9zAlvKj01hP8u3w26pCPA/CAFbyo9NYT8lVuWoNlBxv763w26pCPA/",
            "dtype": "f8"
           },
           "z": {
            "bdata": "dytCjcs1cb+SrwFUpefeP0qbz8FN594/mf5FjdUs3z98W74HqSzvP8ISeB8tLd8/",
            "dtype": "f8"
           }
          },
          {
           "name": "Fixed Nodes",
           "type": "scatter3d",
           "x": [],
           "y": [],
           "z": []
          },
          {
           "name": "Edges",
           "type": "scatter3d",
           "x": [
            1.0021096616032814,
            0.002112224505616005,
            null,
            0.002112224505616005,
            -0.0042217978087042436,
            null,
            -0.0042217978087042436,
            1.0021096616032814,
            null,
            1.004221797808705,
            0.9978877754943885,
            null,
            0.9978877754943885,
            -0.002109661603279907,
            null,
            -0.002109661603279907,
            1.004221797808705,
            null
           ],
           "y": [
            0.002112179604268066,
            1.0021147085894764,
            null,
            1.0021147085894764,
            -0.00422688819374539,
            null,
            -0.00422688819374539,
            0.002112179604268066,
            null,
            -0.004226888193746646,
            1.0021147085894735,
            null,
            1.0021147085894735,
            0.0021121796042679088,
            null,
            0.0021121796042679088,
            -0.004226888193746646,
            null
           ],
           "z": [
            0.482888538396531,
            0.4828676598248661,
            null,
            0.4828676598248661,
            -0.004201693653281483,
            null,
            -0.004201693653281483,
            0.482888538396531,
            null,
            0.9742016936532845,
            0.4871323401751334,
            null,
            0.4871323401751334,
            0.48711146160347024,
            null,
            0.48711146160347024,
            0.9742016936532845,
            null
           ]
          },
          {
           "i": [
            0,
            3
           ],
           "j": [
            1,
            4
           ],
           "k": [
            2,
            5
           ],
           "name": "Faces",
           "type": "mesh3d",
           "x": {
            "bdata": "AqJMOOBKcb+wd/kjpAjwPyS+jOWnTWE/d1Lv8kdIYb+lTDjgShHwP2pzGliy7u8/",
            "dtype": "f8"
           },
           "y": {
            "bdata": "fVDlqDZQcb9zAlvKj01hP8u3w26pCPA/CAFbyo9NYT8lVuWoNlBxv763w26pCPA/",
            "dtype": "f8"
           },
           "z": {
            "bdata": "dytCjcs1cb+SrwFUpefeP0qbz8FN594/mf5FjdUs3z98W74HqSzvP8ISeB8tLd8/",
            "dtype": "f8"
           }
          }
         ],
         "layout": {
          "annotations": [
           {
            "showarrow": false,
            "text": "Time: 0.25s (Step: 26/100)",
            "x": 0.05,
            "xref": "paper",
            "y": 0.95,
            "yref": "paper"
           }
          ]
         },
         "name": "25"
        },
        {
         "data": [
          {
           "name": "Free Nodes",
           "type": "scatter3d",
           "x": {
            "bdata": "tjFL+PvMc79s/pYB5QnwP5/8YEAr0GM/Pcr8LQPKY780S/j7zBPwPy6fv9Qv7O8/",
            "dtype": "f8"
           },
           "y": {
            "bdata": "F4QOehrTc791q2+SD9BjP6nWsBLrCfA/lKlvkg/QYz8aig56GtNzv5zWsBLrCfA/",
            "dtype": "f8"
           },
           "z": {
            "bdata": "Ft0EhQu1c78/hDgKSb7ePz5iqTTkvd4/m3HwUUYE3z+2hB7FsQjvP3uTfyerBN8/",
            "dtype": "f8"
           }
          },
          {
           "name": "Fixed Nodes",
           "type": "scatter3d",
           "x": [],
           "y": [],
           "z": []
          },
          {
           "name": "Edges",
           "type": "scatter3d",
           "x": [
            1.0024156629659968,
            0.002418598628565485,
            null,
            0.002418598628565485,
            -0.00483416009656106,
            null,
            -0.00483416009656106,
            1.0024156629659968,
            null,
            1.0048341600965616,
            0.9975814013714392,
            null,
            0.9975814013714392,
            -0.0024156629659952953,
            null,
            -0.0024156629659952953,
            1.0048341600965616,
            null
           ],
           "y": [
            0.0024185470715471454,
            1.00242144871792,
            null,
            1.00242144871792,
            -0.004839995789468274,
            null,
            -0.004839995789468274,
            0.0024185470715471454,
            null,
            -0.004839995789469609,
            1.002421448717917,
            null,
            1.002421448717917,
            0.002418547071546937,
            null,
            0.002418547071546937,
            -0.004839995789469609,
            null
           ],
           "z": [
            0.4803640937626063,
            0.48034005301227356,
            null,
            0.48034005301227356,
            -0.004811329840144004,
            null,
            -0.004811329840144004,
            0.4803640937626063,
            null,
            0.969811329840147,
            0.4846599469877259,
            null,
            0.4846599469877259,
            0.484635906237395,
            null,
            0.484635906237395,
            0.969811329840147,
            null
           ]
          },
          {
           "i": [
            0,
            3
           ],
           "j": [
            1,
            4
           ],
           "k": [
            2,
            5
           ],
           "name": "Faces",
           "type": "mesh3d",
           "x": {
            "bdata": "tjFL+PvMc79s/pYB5QnwP5/8YEAr0GM/Pcr8LQPKY780S/j7zBPwPy6fv9Qv7O8/",
            "dtype": "f8"
           },
           "y": {
            "bdata": "F4QOehrTc791q2+SD9BjP6nWsBLrCfA/lKlvkg/QYz8aig56GtNzv5zWsBLrCfA/",
            "dtype": "f8"
           },
           "z": {
            "bdata": "Ft0EhQu1c78/hDgKSb7ePz5iqTTkvd4/m3HwUUYE3z+2hB7FsQjvP3uTfyerBN8/",
            "dtype": "f8"
           }
          }
         ],
         "layout": {
          "annotations": [
           {
            "showarrow": false,
            "text": "Time: 0.26s (Step: 27/100)",
            "x": 0.05,
            "xref": "paper",
            "y": 0.95,
            "yref": "paper"
           }
          ]
         },
         "name": "26"
        },
        {
         "data": [
          {
           "name": "Free Nodes",
           "type": "scatter3d",
           "x": {
            "bdata": "7JtFW45Mdr9BG++aJAvwP+e/AGwkUGY/vXI23jVJZr+eRVuOTBbwP2v/k9uv6e8/",
            "dtype": "f8"
           },
           "y": {
            "bdata": "cWX2TnNTdr/Bh80uBVBmP5uPt3ArC/A/mIfNLgVQZj8LbPZOc1N2v42Pt3ArC/A/",
            "dtype": "f8"
           },
           "z": {
            "bdata": "q1cLNeExdr+fYG3t55TePyfOZNF1lN4/6dyc6bvb3j+DNe+tteTuPz9vpQUu3N4/",
            "dtype": "f8"
           }
          },
          {
           "name": "Fixed Nodes",
           "type": "scatter3d",
           "x": [],
           "y": [],
           "z": []
          },
          {
           "name": "Edges",
           "type": "scatter3d",
           "x": [
            1.0027204563245535,
            0.00272376168870635,
            null,
            0.00272376168870635,
            -0.00544410331745036,
            null,
            -0.00544410331745036,
            1.0027204563245535,
            null,
            1.0054441033174508,
            0.9972762383112984,
            null,
            0.9972762383112984,
            -0.0027204563245518385,
            null,
            -0.0027204563245518385,
            1.0054441033174508,
            null
           ],
           "y": [
            0.0027237035014175686,
            1.0027269747742824,
            null,
            1.0027269747742824,
            -0.005450678275701435,
            null,
            -0.005450678275701435,
            0.0027237035014175686,
            null,
            -0.005450678275702901,
            1.0027269747742793,
            null,
            1.0027269747742793,
            0.0027237035014175508,
            null,
            0.0027237035014175508,
            -0.005450678275702901,
            null
           ],
           "z": [
            0.4778384989381354,
            0.47781129311190046,
            null,
            0.47781129311190046,
            -0.005418662753717311,
            null,
            -0.005418662753717311,
            0.4778384989381354,
            null,
            0.9654186627537203,
            0.48218870688809895,
            null,
            0.48218870688809895,
            0.4821615010618659,
            null,
            0.4821615010618659,
            0.9654186627537203,
            null
           ]
          },
          {
           "i": [
            0,
            3
           ],
           "j": [
            1,
            4
           ],
           "k": [
            2,
            5
           ],
           "name": "Faces",
           "type": "mesh3d",
           "x": {
            "bdata": "7JtFW45Mdr9BG++aJAvwP+e/AGwkUGY/vXI23jVJZr+eRVuOTBbwP2v/k9uv6e8/",
            "dtype": "f8"
           },
           "y": {
            "bdata": "cWX2TnNTdr/Bh80uBVBmP5uPt3ArC/A/mIfNLgVQZj8LbPZOc1N2v42Pt3ArC/A/",
            "dtype": "f8"
           },
           "z": {
            "bdata": "q1cLNeExdr+fYG3t55TePyfOZNF1lN4/6dyc6bvb3j+DNe+tteTuPz9vpQUu3N4/",
            "dtype": "f8"
           }
          }
         ],
         "layout": {
          "annotations": [
           {
            "showarrow": false,
            "text": "Time: 0.27s (Step: 28/100)",
            "x": 0.05,
            "xref": "paper",
            "y": 0.95,
            "yref": "paper"
           }
          ]
         },
         "name": "27"
        },
        {
         "data": [
          {
           "name": "Free Nodes",
           "type": "scatter3d",
           "x": {
            "bdata": "hJpxOpbJeL9/Am7vYgzwP0LabkKSzWg/HfAE3N7FaL+dcTqWyRjwP1KRvW0y5+8/",
            "dtype": "f8"
           },
           "y": {
            "bdata": "Oz73/z/ReL98bd55b81oPwAIQ4hqDPA/yW3eeW/NaD/WRPf/P9F4v/EHQ4hqDPA/",
            "dtype": "f8"
           },
           "z": {
            "bdata": "99GHFk+seL/SOJICgmveP2oK9pwCa94/YkxZTzaz3j9Q0iLHtMDuP6p69bS1s94/",
            "dtype": "f8"
           }
          },
          {
           "name": "Fixed Nodes",
           "type": "scatter3d",
           "x": [],
           "y": [],
           "z": []
          },
          {
           "name": "Edges",
           "type": "scatter3d",
           "x": [
            1.0030240395282417,
            0.0030277115469872504,
            null,
            0.0030277115469872504,
            -0.0060516231816111245,
            null,
            -0.0060516231816111245,
            1.0030240395282417,
            null,
            1.0060516231816117,
            0.9969722884530177,
            null,
            0.9969722884530177,
            -0.003024039528240165,
            null,
            -0.003024039528240165,
            1.0060516231816117,
            null
           ],
           "y": [
            0.0030276467577558513,
            1.0030312845924527,
            null,
            1.0030312845924527,
            -0.006058931350210235,
            null,
            -0.006058931350210235,
            0.0030276467577558513,
            null,
            -0.006058931350211702,
            1.0030312845924494,
            null,
            1.0030312845924494,
            0.0030276467577558847,
            null,
            0.0030276467577558847,
            -0.006058931350211702,
            null
           ],
           "z": [
            0.4753117585286307,
            0.4752813847373206,
            null,
            0.4752813847373206,
            -0.006023701608218072,
            null,
            -0.006023701608218072,
            0.4753117585286307,
            null,
            0.9610237016082213,
            0.4797186152626788,
            null,
            0.4797186152626788,
            0.47968824147137046,
            null,
            0.47968824147137046,
            0.9610237016082213,
            null
           ]
          },
          {
           "i": [
            0,
            3
           ],
           "j": [
            1,
            4
           ],
           "k": [
            2,
            5
           ],
           "name": "Faces",
           "type": "mesh3d",
           "x": {
            "bdata": "hJpxOpbJeL9/Am7vYgzwP0LabkKSzWg/HfAE3N7FaL+dcTqWyRjwP1KRvW0y5+8/",
            "dtype": "f8"
           },
           "y": {
            "bdata": "Oz73/z/ReL98bd55b81oPwAIQ4hqDPA/yW3eeW/NaD/WRPf/P9F4v/EHQ4hqDPA/",
            "dtype": "f8"
           },
           "z": {
            "bdata": "99GHFk+seL/SOJICgmveP2oK9pwCa94/YkxZTzaz3j9Q0iLHtMDuP6p69bS1s94/",
            "dtype": "f8"
           }
          }
         ],
         "layout": {
          "annotations": [
           {
            "showarrow": false,
            "text": "Time: 0.28s (Step: 29/100)",
            "x": 0.05,
            "xref": "paper",
            "y": 0.95,
            "yref": "paper"
           }
          ]
         },
         "name": "28"
        },
        {
         "data": [
          {
           "name": "Free Nodes",
           "type": "scatter3d",
           "x": {
            "bdata": "bw7/bhJEe78ruoD+nw3wP70D/5tzSGs/5Ud0Af0/a78R/24SRBvwPyoBZIy35O8/",
            "dtype": "f8"
           },
           "y": {
            "bdata": "s/xlZX9Me7/PjF1MTUhrPy43v1ioDfA/g41dTE1Iaz/pA2Zlf0x7vx83v1ioDfA/",
            "dtype": "f8"
           },
           "z": {
            "bdata": "7Vmeolcke7+EPphOF0LePw2BUJyKQd4/XY40frWK3j84o6sVr5zuP7RLfDBCi94/",
            "dtype": "f8"
           }
          },
          {
           "name": "Fixed Nodes",
           "type": "scatter3d",
           "x": [],
           "y": [],
           "z": []
          },
          {
           "name": "Edges",
           "type": "scatter3d",
           "x": [
            1.003326410438272,
            0.0033304460521041677,
            null,
            0.0033304460521041677,
            -0.006656715398949949,
            null,
            -0.006656715398949949,
            1.003326410438272,
            null,
            1.0066567153989505,
            0.9966695539479009,
            null,
            0.9966695539479009,
            -0.00332641043827041,
            null,
            -0.00332641043827041,
            1.0066567153989505,
            null
           ],
           "y": [
            0.0033303746921987463,
            1.003334376018255,
            null,
            1.003334376018255,
            -0.0066647507104555135,
            null,
            -0.0066647507104555135,
            0.0033303746921987463,
            null,
            -0.006664750710457115,
            1.0033343760182516,
            null,
            1.0033343760182516,
            0.0033303746921988244,
            null,
            0.0033303746921988244,
            -0.006664750710457115,
            null
           ],
           "z": [
            0.47278387713684134,
            0.4727503324993599,
            null,
            0.4727503324993599,
            -0.006626455617058086,
            null,
            -0.006626455617058086,
            0.47278387713684134,
            null,
            0.9566264556170614,
            0.47724966750063946,
            null,
            0.47724966750063946,
            0.4772161228631598,
            null,
            0.4772161228631598,
            0.9566264556170614,
            null
           ]
          },
          {
           "i": [
            0,
            3
           ],
           "j": [
            1,
            4
           ],
           "k": [
            2,
            5
           ],
           "name": "Faces",
           "type": "mesh3d",
           "x": {
            "bdata": "bw7/bhJEe78ruoD+nw3wP70D/5tzSGs/5Ud0Af0/a78R/24SRBvwPyoBZIy35O8/",
            "dtype": "f8"
           },
           "y": {
            "bdata": "s/xlZX9Me7/PjF1MTUhrPy43v1ioDfA/g41dTE1Iaz/pA2Zlf0x7vx83v1ioDfA/",
            "dtype": "f8"
           },
           "z": {
            "bdata": "7Vmeolcke7+EPphOF0LePw2BUJyKQd4/XY40frWK3j84o6sVr5zuP7RLfDBCi94/",
            "dtype": "f8"
           }
          }
         ],
         "layout": {
          "annotations": [
           {
            "showarrow": false,
            "text": "Time: 0.29s (Step: 30/100)",
            "x": 0.05,
            "xref": "paper",
            "y": 0.95,
            "yref": "paper"
           }
          ]
         },
         "name": "29"
        },
        {
         "data": [
          {
           "name": "Free Nodes",
           "type": "scatter3d",
           "x": {
            "bdata": "gnx50wG8fb9O25TH2w7wP/czllLHwG0/A4y2KY+3bb9/edMBvB3wP/tprTg/4u8/",
            "dtype": "f8"
           },
           "y": {
            "bdata": "30v0WDDFfb90yZeAncBtP16omOHkDvA/osqXgJ3AbT/BUvRYMMV9v06omOHkDvA/",
            "dtype": "f8"
           },
           "z": {
            "bdata": "1D6yU/2Zfb9VGnPWpxjePwUXatQNGN4/O/o6cTli3j/Ybn6epHjuP2r9Q3PTYt4/",
            "dtype": "f8"
           }
          },
          {
           "name": "Fixed Nodes",
           "type": "scatter3d",
           "x": [],
           "y": [],
           "z": []
          },
          {
           "name": "Edges",
           "type": "scatter3d",
           "x": [
            1.0036275669242118,
            0.003631963064157247,
            null,
            0.003631963064157247,
            -0.007259375699134487,
            null,
            -0.007259375699134487,
            1.0036275669242118,
            null,
            1.007259375699135,
            0.996368036935848,
            null,
            0.996368036935848,
            -0.0036275669242100696,
            null,
            -0.0036275669242100696,
            1.007259375699135,
            null
           ],
           "y": [
            0.003631885167800048,
            1.0036362469059195,
            null,
            1.0036362469059195,
            -0.0072681320737215385,
            null,
            -0.0072681320737215385,
            0.003631885167800048,
            null,
            -0.007268132073723067,
            1.003636246905916,
            null,
            1.003636246905916,
            0.0036318851678001788,
            null,
            0.0036318851678001788,
            -0.007268132073723067,
            null
           ],
           "z": [
            0.4702548593744827,
            0.470218141017867,
            null,
            0.470218141017867,
            -0.00722693401179671,
            null,
            -0.00722693401179671,
            0.4702548593744827,
            null,
            0.9522269340117999,
            0.4747818589821323,
            null,
            0.4747818589821323,
            0.4747451406255185,
            null,
            0.4747451406255185,
            0.9522269340117999,
            null
           ]
          },
          {
           "i": [
            0,
            3
           ],
           "j": [
            1,
            4
           ],
           "k": [
            2,
            5
           ],
           "name": "Faces",
           "type": "mesh3d",
           "x": {
            "bdata": "gnx50wG8fb9O25TH2w7wP/czllLHwG0/A4y2KY+3bb9/edMBvB3wP/tprTg/4u8/",
            "dtype": "f8"
           },
           "y": {
            "bdata": "30v0WDDFfb90yZeAncBtP16omOHkDvA/osqXgJ3AbT/BUvRYMMV9v06omOHkDvA/",
            "dtype": "f8"
           },
           "z": {
            "bdata": "1D6yU/2Zfb9VGnPWpxjePwUXatQNGN4/O/o6cTli3j/Ybn6epHjuP2r9Q3PTYt4/",
            "dtype": "f8"
           }
          }
         ],
         "layout": {
          "annotations": [
           {
            "showarrow": false,
            "text": "Time: 0.30s (Step: 31/100)",
            "x": 0.05,
            "xref": "paper",
            "y": 0.95,
            "yref": "paper"
           }
          ]
         },
         "name": "30"
        },
        {
         "data": [
          {
           "name": "Free Nodes",
           "type": "scatter3d",
           "x": {
            "bdata": "AqvSobEYgL8MmBhKFhDwP8qCrCBGG3A/3gOYGEoWcL9ZpUNjMSDwPyunvnPJ3+8/",
            "dtype": "f8"
           },
           "y": {
            "bdata": "B+XG2qgdgL+cDg15LxtwP7GAPCIgEPA/Ow8NeS8bcD/I6MbaqB2Av6KAPCIgEPA/",
            "dtype": "f8"
           },
           "z": {
            "bdata": "JLihUqEGgL8FrBifM+/dP1DsOkqM7t0/OLB2I8I53j8TNZJmlVTuP8tvVHhpOt4/",
            "dtype": "f8"
           }
          },
          {
           "name": "Fixed Nodes",
           "type": "scatter3d",
           "x": [],
           "y": [],
           "z": []
          },
          {
           "name": "Edges",
           "type": "scatter3d",
           "x": [
            1.0039275068643319,
            0.0039322604523312574,
            null,
            0.0039322604523312574,
            -0.007859599829620038,
            null,
            -0.007859599829620038,
            1.0039275068643319,
            null,
            1.0078595998296207,
            0.9960677395476741,
            null,
            0.9960677395476741,
            -0.0039275068643300475,
            null,
            -0.0039275068643300475,
            1.0078595998296207,
            null
           ],
           "y": [
            0.0039321760567109475,
            1.0039368951184253,
            null,
            1.0039368951184253,
            -0.007869071175138588,
            null,
            -0.007869071175138588,
            0.0039321760567109475,
            null,
            -0.007869071175140255,
            1.003936895118422,
            null,
            1.003936895118422,
            0.003932176056711085,
            null,
            0.003932176056711085,
            -0.007869071175140255,
            null
           ],
           "z": [
            0.4677247098613296,
            0.4676848149208057,
            null,
            0.4676848149208057,
            -0.007825146040172433,
            null,
            -0.007825146040172433,
            0.4677247098613296,
            null,
            0.9478251460401758,
            0.4723151850791935,
            null,
            0.4723151850791935,
            0.47227529013867153,
            null,
            0.47227529013867153,
            0.9478251460401758,
            null
           ]
          },
          {
           "i": [
            0,
            3
           ],
           "j": [
            1,
            4
           ],
           "k": [
            2,
            5
           ],
           "name": "Faces",
           "type": "mesh3d",
           "x": {
            "bdata": "AqvSobEYgL8MmBhKFhDwP8qCrCBGG3A/3gOYGEoWcL9ZpUNjMSDwPyunvnPJ3+8/",
            "dtype": "f8"
           },
           "y": {
            "bdata": "B+XG2qgdgL+cDg15LxtwP7GAPCIgEPA/Ow8NeS8bcD/I6MbaqB2Av6KAPCIgEPA/",
            "dtype": "f8"
           },
           "z": {
            "bdata": "JLihUqEGgL8FrBifM+/dP1DsOkqM7t0/OLB2I8I53j8TNZJmlVTuP8tvVHhpOt4/",
            "dtype": "f8"
           }
          }
         ],
         "layout": {
          "annotations": [
           {
            "showarrow": false,
            "text": "Time: 0.31s (Step: 32/100)",
            "x": 0.05,
            "xref": "paper",
            "y": 0.95,
            "yref": "paper"
           }
          ]
         },
         "name": "31"
        },
        {
         "data": [
          {
           "name": "Free Nodes",
           "type": "scatter3d",
           "x": {
            "bdata": "Z9E9zhpSgb/vvHqFTxHwP5Q5UKLgVHE/Zea8eoVPcb+me5w1pCLwP75fuz5W3e8/",
            "dtype": "f8"
           },
           "y": {
            "bdata": "9dmpK3FXgb/nKdM+yFRxP36AGBpaEfA/3yrTPshUcT9h3akrcVeBv2+AGBpaEfA/",
            "dtype": "f8"
           },
           "z": {
            "bdata": "CGH0CRU/gb8p/4CtusXdP6hQvQIGxd0/waTvj08R3j+NI+BygTDuPyFTszoEEt4/",
            "dtype": "f8"
           }
          },
          {
           "name": "Fixed Nodes",
           "type": "scatter3d",
           "x": [],
           "y": [],
           "z": []
          },
          {
           "name": "Edges",
           "type": "scatter3d",
           "x": [
            1.004226228145679,
            0.004231336094575506,
            null,
            0.004231336094575506,
            -0.00845738355540311,
            null,
            -0.00845738355540311,
            1.004226228145679,
            null,
            1.0084573835554038,
            0.99576866390543,
            null,
            0.99576866390543,
            -0.004226228145677168,
            null,
            -0.004226228145677168,
            1.0084573835554038,
            null
           ],
           "y": [
            0.004231245239859827,
            1.0042363185275742,
            null,
            1.0042363185275742,
            -0.008467563767436717,
            null,
            -0.008467563767436717,
            0.004231245239859827,
            null,
            -0.008467563767438237,
            1.004236318527571,
            null,
            1.004236318527571,
            0.004231245239860042,
            null,
            0.004231245239860042,
            -0.008467563767438237,
            null
           ],
           "z": [
            0.46519343322505563,
            0.46515035884409395,
            null,
            0.46515035884409395,
            -0.008421100965776876,
            null,
            -0.008421100965776876,
            0.46519343322505563,
            null,
            0.9434211009657801,
            0.4698496411559053,
            null,
            0.4698496411559053,
            0.4698065667749454,
            null,
            0.4698065667749454,
            0.9434211009657801,
            null
           ]
          },
          {
           "i": [
            0,
            3
           ],
           "j": [
            1,
            4
           ],
           "k": [
            2,
            5
           ],
           "name": "Faces",
           "type": "mesh3d",
           "x": {
            "bdata": "Z9E9zhpSgb/vvHqFTxHwP5Q5UKLgVHE/Zea8eoVPcb+me5w1pCLwP75fuz5W3e8/",
            "dtype": "f8"
           },
           "y": {
            "bdata": "9dmpK3FXgb/nKdM+yFRxP36AGBpaEfA/3yrTPshUcT9h3akrcVeBv2+AGBpaEfA/",
            "dtype": "f8"
           },
           "z": {
            "bdata": "CGH0CRU/gb8p/4CtusXdP6hQvQIGxd0/waTvj08R3j+NI+BygTDuPyFTszoEEt4/",
            "dtype": "f8"
           }
          }
         ],
         "layout": {
          "annotations": [
           {
            "showarrow": false,
            "text": "Time: 0.32s (Step: 33/100)",
            "x": 0.05,
            "xref": "paper",
            "y": 0.95,
            "yref": "paper"
           }
          ]
         },
         "name": "32"
        },
        {
         "data": [
          {
           "name": "Free Nodes",
           "type": "scatter3d",
           "x": {
            "bdata": "3WYV3juKgr8YsSp5hxLwP0mI/ZwyjXI/Fw+xKnmHcr/RKrx3FCXwPyEFxprl2u8/",
            "dtype": "f8"
           },
           "y": {
            "bdata": "lNbOjfCPgr+fIZqAGI1yP34Dm8iSEvA/FSOagBiNcj/Q2c6N8I+Cv28Dm8iSEvA/",
            "dtype": "f8"
           },
           "z": {
            "bdata": "/3+nDlt2gr9YSaYGPZzdP6XB7QJ7m90/P6KrseHo3T/gk2PIaAzuP9EpZLWj6d0/",
            "dtype": "f8"
           }
          },
          {
           "name": "Fixed Nodes",
           "type": "scatter3d",
           "x": [],
           "y": [],
           "z": []
          },
          {
           "name": "Edges",
           "type": "scatter3d",
           "x": [
            1.004523728664088,
            0.004529187877638626,
            null,
            0.004529187877638626,
            -0.009052722659066809,
            null,
            -0.009052722659066809,
            1.004523728664088,
            null,
            1.0090527226590675,
            0.9954708121223669,
            null,
            0.9954708121223669,
            -0.004523728664086033,
            null,
            -0.004523728664086033,
            1.0090527226590675,
            null
           ],
           "y": [
            0.0045290906069869455,
            1.0045345150140004,
            null,
            1.0045345150140004,
            -0.009063605620990324,
            null,
            -0.009063605620990324,
            0.0045290906069869455,
            null,
            -0.00906360562099176,
            1.004534515013997,
            null,
            1.004534515013997,
            0.00452909060698727,
            null,
            0.00452909060698727,
            -0.00906360562099176,
            null
           ],
           "z": [
            0.4626610341012074,
            0.4626147774315775,
            null,
            0.4626147774315775,
            -0.009014808068002365,
            null,
            -0.009014808068002365,
            0.4626610341012074,
            null,
            0.9390148080680056,
            0.4673852225684217,
            null,
            0.4673852225684217,
            0.4673389658987936,
            null,
            0.4673389658987936,
            0.9390148080680056,
            null
           ]
          },
          {
           "i": [
            0,
            3
           ],
           "j": [
            1,
            4
           ],
           "k": [
            2,
            5
           ],
           "name": "Faces",
           "type": "mesh3d",
           "x": {
            "bdata": "3WYV3juKgr8YsSp5hxLwP0mI/ZwyjXI/Fw+xKnmHcr/RKrx3FCXwPyEFxprl2u8/",
            "dtype": "f8"
           },
           "y": {
            "bdata": "lNbOjfCPgr+fIZqAGI1yP34Dm8iSEvA/FSOagBiNcj/Q2c6N8I+Cv28Dm8iSEvA/",
            "dtype": "f8"
           },
           "z": {
            "bdata": "/3+nDlt2gr9YSaYGPZzdP6XB7QJ7m90/P6KrseHo3T/gk2PIaAzuP9EpZLWj6d0/",
            "dtype": "f8"
           }
          }
         ],
         "layout": {
          "annotations": [
           {
            "showarrow": false,
            "text": "Time: 0.33s (Step: 34/100)",
            "x": 0.05,
            "xref": "paper",
            "y": 0.95,
            "yref": "paper"
           }
          ]
         },
         "name": "33"
        },
        {
         "data": [
          {
           "name": "Free Nodes",
           "type": "scatter3d",
           "x": {
            "bdata": "xpoLQRTBg797dpgkvhPwP4XZFoA7xHM/uXJ2mCS+c785F4IogifwP4DS/4h32O8/",
            "dtype": "f8"
           },
           "y": {
            "bdata": "iCx9cCbHg79gOfmtH8RzPxEBMy3KE/A/sjr5rR/Ecz96L31wJseDvwIBMy3KE/A/",
            "dtype": "f8"
           },
           "z": {
            "bdata": "k+cboHSsg7/n54SvunLdP4foyk/rcd0/XUuug3jA3T9VCRpsS+jtP51KaONHwd0/",
            "dtype": "f8"
           }
          },
          {
           "name": "Fixed Nodes",
           "type": "scatter3d",
           "x": [],
           "y": [],
           "z": []
          },
          {
           "name": "Edges",
           "type": "scatter3d",
           "x": [
            1.0048200063241939,
            0.004825813697087238,
            null,
            0.004825813697087238,
            -0.009645612940813019,
            null,
            -0.009645612940813019,
            1.0048200063241939,
            null,
            1.0096456129408138,
            0.9951741863029184,
            null,
            0.9951741863029184,
            -0.004820006324192044,
            null,
            -0.004820006324192044,
            1.0096456129408138,
            null
           ],
           "y": [
            0.004825710056662963,
            1.0048314824671858,
            null,
            1.0048314824671858,
            -0.009657192523852012,
            null,
            -0.009657192523852012,
            0.004825710056662963,
            null,
            -0.00965719252385332,
            1.0048314824671825,
            null,
            1.0048314824671825,
            0.004825710056663256,
            null,
            0.004825710056663256,
            -0.00965719252385332,
            null
           ],
           "z": [
            0.4601275171331722,
            0.4600780753349984,
            null,
            0.4600780753349984,
            -0.00960627664197825,
            null,
            -0.00960627664197825,
            0.4601275171331722,
            null,
            0.9346062766419815,
            0.46492192466500076,
            null,
            0.46492192466500076,
            0.46487248286682875,
            null,
            0.46487248286682875,
            0.9346062766419815,
            null
           ]
          },
          {
           "i": [
            0,
            3
           ],
           "j": [
            1,
            4
           ],
           "k": [
            2,
            5
           ],
           "name": "Faces",
           "type": "mesh3d",
           "x": {
            "bdata": "xpoLQRTBg797dpgkvhPwP4XZFoA7xHM/uXJ2mCS+c785F4IogifwP4DS/4h32O8/",
            "dtype": "f8"
           },
           "y": {
            "bdata": "iCx9cCbHg79gOfmtH8RzPxEBMy3KE/A/sjr5rR/Ecz96L31wJseDvwIBMy3KE/A/",
            "dtype": "f8"
           },
           "z": {
            "bdata": "k+cboHSsg7/n54SvunLdP4foyk/rcd0/XUuug3jA3T9VCRpsS+jtP51KaONHwd0/",
            "dtype": "f8"
           }
          }
         ],
         "layout": {
          "annotations": [
           {
            "showarrow": false,
            "text": "Time: 0.34s (Step: 35/100)",
            "x": 0.05,
            "xref": "paper",
            "y": 0.95,
            "yref": "paper"
           }
          ]
         },
         "name": "34"
        },
        {
         "data": [
          {
           "name": "Free Nodes",
           "type": "scatter3d",
           "x": {
            "bdata": "WtptZ6P2hL8lqjSH8xTwP8v6mbv6+XQ/vByqNIfzdL+4285G7SnwPz3MiAoM1u8/",
            "dtype": "f8"
           },
           "y": {
            "bdata": "p+2XQxL9hL8rTyM33fl0P3wMUEcAFfA/YlEjN935dD//8JdDEv2Ev24MUEcAFfA/",
            "dtype": "f8"
           },
           "z": {
            "bdata": "7j88/mLhhL+VXRutM0ndP9GXVe5WSN0/XB35ABSY3T+OLgNjKcTtP//ivr/wmN0/",
            "dtype": "f8"
           }
          },
          {
           "name": "Fixed Nodes",
           "type": "scatter3d",
           "x": [],
           "y": [],
           "z": []
          },
          {
           "name": "Edges",
           "type": "scatter3d",
           "x": [
            1.0051150590394482,
            0.00512121145732065,
            null,
            0.00512121145732065,
            -0.010236050218492544,
            null,
            -0.010236050218492544,
            1.0051150590394482,
            null,
            1.0102360502184933,
            0.994878788542685,
            null,
            0.994878788542685,
            -0.0051150590394463645,
            null,
            -0.0051150590394463645,
            1.0102360502184933,
            null
           ],
           "y": [
            0.005121101496303552,
            1.005127218785474,
            null,
            1.005127218785474,
            -0.010248320281781199,
            null,
            -0.010248320281781199,
            0.005121101496303552,
            null,
            -0.010248320281782684,
            1.005127218785471,
            null,
            1.005127218785471,
            0.005121101496304044,
            null,
            0.005121101496304044,
            -0.010248320281782684,
            null
           ],
           "z": [
            0.4575928869721449,
            0.45754025721396113,
            null,
            0.45754025721396113,
            -0.010195515998503848,
            null,
            -0.010195515998503848,
            0.4575928869721449,
            null,
            0.9301955159985071,
            0.4624597427860379,
            null,
            0.4624597427860379,
            0.462407113027856,
            null,
            0.462407113027856,
            0.9301955159985071,
            null
           ]
          },
          {
           "i": [
            0,
            3
           ],
           "j": [
            1,
            4
           ],
           "k": [
            2,
            5
           ],
           "name": "Faces",
           "type": "mesh3d",
           "x": {
            "bdata": "WtptZ6P2hL8lqjSH8xTwP8v6mbv6+XQ/vByqNIfzdL+4285G7SnwPz3MiAoM1u8/",
            "dtype": "f8"
           },
           "y": {
            "bdata": "p+2XQxL9hL8rTyM33fl0P3wMUEcAFfA/YlEjN935dD//8JdDEv2Ev24MUEcAFfA/",
            "dtype": "f8"
           },
           "z": {
            "bdata": "7j88/mLhhL+VXRutM0ndP9GXVe5WSN0/XB35ABSY3T+OLgNjKcTtP//ivr/wmN0/",
            "dtype": "f8"
           }
          }
         ],
         "layout": {
          "annotations": [
           {
            "showarrow": false,
            "text": "Time: 0.35s (Step: 36/100)",
            "x": 0.05,
            "xref": "paper",
            "y": 0.95,
            "yref": "paper"
           }
          ]
         },
         "name": "35"
        },
        {
         "data": [
          {
           "name": "Free Nodes",
           "type": "scatter3d",
           "x": {
            "bdata": "+RAlwugqhr96hHCgJxbwP2FfIMBvLnY/vXGEcKAndr8lSoTRVSzwP3S/fyCj0+8/",
            "dtype": "f8"
           },
           "y": {
            "bdata": "1y+ed7Mxhr+oHeeMUC52PzBVYhY1FvA/eiDnjFAudj8FM553szGGvyNVYhY1FvA/",
            "dtype": "f8"
           },
           "z": {
            "bdata": "z298aScVhr8oUGoEqB/dP/LIkOO9Ht0/dnKLJLRv3T8k0yCyAqDtP4z5ZEWecN0/",
            "dtype": "f8"
           }
          },
          {
           "name": "Fixed Nodes",
           "type": "scatter3d",
           "x": [],
           "y": [],
           "z": []
          },
          {
           "name": "Edges",
           "type": "scatter3d",
           "x": [
            1.0054088847321325,
            0.005415379071585708,
            null,
            0.005415379071585708,
            -0.01082403032763367,
            null,
            -0.01082403032763367,
            1.0054088847321325,
            null,
            1.0108240303276343,
            0.9945846209284199,
            null,
            0.9945846209284199,
            -0.0054088847321306895,
            null,
            -0.0054088847321306895,
            1.0108240303276343,
            null
           ],
           "y": [
            0.005415262842184111,
            1.0054217218760861,
            null,
            1.0054217218760861,
            -0.010836984718274252,
            null,
            -0.010836984718274252,
            0.005415262842184111,
            null,
            -0.010836984718275664,
            1.0054217218760833,
            null,
            1.0054217218760833,
            0.005415262842184737,
            null,
            0.005415262842184737,
            -0.010836984718275664,
            null
           ],
           "z": [
            0.4550571482770942,
            0.4550013277358992,
            null,
            0.4550013277358992,
            -0.010782535463981361,
            null,
            -0.010782535463981361,
            0.4550571482770942,
            null,
            0.9257825354639846,
            0.45999867226409985,
            null,
            0.45999867226409985,
            0.4599428517229066,
            null,
            0.4599428517229066,
            0.9257825354639846,
            null
           ]
          },
          {
           "i": [
            0,
            3
           ],
           "j": [
            1,
            4
           ],
           "k": [
            2,
            5
           ],
           "name": "Faces",
           "type": "mesh3d",
           "x": {
            "bdata": "+RAlwugqhr96hHCgJxbwP2FfIMBvLnY/vXGEcKAndr8lSoTRVSzwP3S/fyCj0+8/",
            "dtype": "f8"
           },
           "y": {
            "bdata": "1y+ed7Mxhr+oHeeMUC52PzBVYhY1FvA/eiDnjFAudj8FM553szGGvyNVYhY1FvA/",
            "dtype": "f8"
           },
           "z": {
            "bdata": "z298aScVhr8oUGoEqB/dP/LIkOO9Ht0/dnKLJLRv3T8k0yCyAqDtP4z5ZEWecN0/",
            "dtype": "f8"
           }
          }
         ],
         "layout": {
          "annotations": [
           {
            "showarrow": false,
            "text": "Time: 0.36s (Step: 37/100)",
            "x": 0.05,
            "xref": "paper",
            "y": 0.95,
            "yref": "paper"
           }
          ]
         },
         "name": "36"
        },
        {
         "data": [
          {
           "name": "Free Nodes",
           "type": "scatter3d",
           "x": {
            "bdata": "X+i1wuNdh7902b1vWhfwP5Zg3/6ZYXc/JGzZvW9ad7/Ua4XHuy7wP3FBAsw80e8/",
            "dtype": "f8"
           },
           "y": {
            "bdata": "EUurfQllh7/6e68geWF3Pwan2ploF/A/o3+vIHlhdz+STat9CWWHv/mm2ploF/A/",
            "dtype": "f8"
           },
           "z": {
            "bdata": "1QLZIsNHh78OhnS6F/bcP9qZgTQg9dw/PIRi6VhH3T9G6XZe13vtP1RwVW9QSN0/",
            "dtype": "f8"
           }
          },
          {
           "name": "Fixed Nodes",
           "type": "scatter3d",
           "x": [],
           "y": [],
           "z": []
          },
          {
           "name": "Edges",
           "type": "scatter3d",
           "x": [
            1.0057014813333724,
            0.005708314461991068,
            null,
            0.005708314461991068,
            -0.011409549121470684,
            null,
            -0.011409549121470684,
            1.0057014813333724,
            null,
            1.0114095491214714,
            0.9942916855380145,
            null,
            0.9942916855380145,
            -0.005701481333370704,
            null,
            -0.005701481333370704,
            1.0114095491214714,
            null
           ],
           "y": [
            0.005708192019453934,
            1.0057149896551336,
            null,
            1.0057149896551336,
            -0.011423181674592027,
            null,
            -0.011423181674592027,
            0.005708192019453934,
            null,
            -0.01142318167459314,
            1.0057149896551307,
            null,
            1.0057149896551307,
            0.005708192019454747,
            null,
            0.005708192019454747,
            -0.01142318167459314,
            null
           ],
           "z": [
            0.4525203057147288,
            0.45246129157604076,
            null,
            0.45246129157604076,
            -0.011367344380347625,
            null,
            -0.011367344380347625,
            0.4525203057147288,
            null,
            0.9213673443803507,
            0.4575387084239584,
            null,
            0.4575387084239584,
            0.4574796942852719,
            null,
            0.4574796942852719,
            0.9213673443803507,
            null
           ]
          },
          {
           "i": [
            0,
            3
           ],
           "j": [
            1,
            4
           ],
           "k": [
            2,
            5
           ],
           "name": "Faces",
           "type": "mesh3d",
           "x": {
            "bdata": "X+i1wuNdh7902b1vWhfwP5Zg3/6ZYXc/JGzZvW9ad7/Ua4XHuy7wP3FBAsw80e8/",
            "dtype": "f8"
           },
           "y": {
            "bdata": "EUurfQllh7/6e68geWF3Pwan2ploF/A/o3+vIHlhdz+STat9CWWHv/mm2ploF/A/",
            "dtype": "f8"
           },
           "z": {
            "bdata": "1QLZIsNHh78OhnS6F/bcP9qZgTQg9dw/PIRi6VhH3T9G6XZe13vtP1RwVW9QSN0/",
            "dtype": "f8"
           }
          }
         ],
         "layout": {
          "annotations": [
           {
            "showarrow": false,
            "text": "Time: 0.37s (Step: 38/100)",
            "x": 0.05,
            "xref": "paper",
            "y": 0.95,
            "yref": "paper"
           }
          ]
         },
         "name": "37"
        },
        {
         "data": [
          {
           "name": "Free Nodes",
           "type": "scatter3d",
           "x": {
            "bdata": "UApB25OPiL/nGI/0ixjwP5N9qOl4k3g/6t8Yj/SLeL8YgrYnHzHwPzevLA7Zzu8/",
            "dtype": "f8"
           },
           "y": {
            "bdata": "LRx3xxOXiL8DnYNkVpN4P4VqKtGaGPA/cKGDZFaTeD8+HnfHE5eIv3lqKtGaGPA/",
            "dtype": "f8"
           },
           "z": {
            "bdata": "n5LWazd5iL/+4z7UgszcP55KL+Z9y9w/+G15SgIf3T9bgwttp1ftPz8HiTgHIN0/",
            "dtype": "f8"
           }
          },
          {
           "name": "Fixed Nodes",
           "type": "scatter3d",
           "x": [],
           "y": [],
           "z": []
          },
          {
           "name": "Edges",
           "type": "scatter3d",
           "x": [
            1.0059928467831527,
            0.00600001555952136,
            null,
            0.00600001555952136,
            -0.01199260247097303,
            null,
            -0.01199260247097303,
            1.0059928467831527,
            null,
            1.0119926024709738,
            0.9939999844404842,
            null,
            0.9939999844404842,
            -0.005992846783151132,
            null,
            -0.005992846783151132,
            1.0119926024709738,
            null
           ],
           "y": [
            0.005999886962150261,
            1.0060070200476343,
            null,
            1.0060070200476343,
            -0.012006907009789536,
            null,
            -0.012006907009789536,
            0.005999886962150261,
            null,
            -0.012006907009790454,
            1.0060070200476317,
            null,
            1.0060070200476317,
            0.0059998869621512435,
            null,
            0.0059998869621512435,
            -0.012006907009790454,
            null
           ],
           "z": [
            0.44998236395946367,
            0.44992015341737523,
            null,
            0.44992015341737523,
            -0.011949952105007098,
            null,
            -0.011949952105007098,
            0.44998236395946367,
            null,
            0.9169499521050101,
            0.45507984658262396,
            null,
            0.45507984658262396,
            0.4550176360405369,
            null,
            0.4550176360405369,
            0.9169499521050101,
            null
           ]
          },
          {
           "i": [
            0,
            3
           ],
           "j": [
            1,
            4
           ],
           "k": [
            2,
            5
           ],
           "name": "Faces",
           "type": "mesh3d",
           "x": {
            "bdata": "UApB25OPiL/nGI/0ixjwP5N9qOl4k3g/6t8Yj/SLeL8YgrYnHzHwPzevLA7Zzu8/",
            "dtype": "f8"
           },
           "y": {
            "bdata": "LRx3xxOXiL8DnYNkVpN4P4VqKtGaGPA/cKGDZFaTeD8+HnfHE5eIv3lqKtGaGPA/",
            "dtype": "f8"
           },
           "z": {
            "bdata": "n5LWazd5iL/+4z7UgszcP55KL+Z9y9w/+G15SgIf3T9bgwttp1ftPz8HiTgHIN0/",
            "dtype": "f8"
           }
          }
         ],
         "layout": {
          "annotations": [
           {
            "showarrow": false,
            "text": "Time: 0.38s (Step: 39/100)",
            "x": 0.05,
            "xref": "paper",
            "y": 0.95,
            "yref": "paper"
           }
          ]
         },
         "name": "38"
        },
        {
         "data": [
          {
           "name": "Free Nodes",
           "type": "scatter3d",
           "x": {
            "bdata": "VGGDfvi/ib/BTlcuvBnwPyCe6fILxHk/urhOVy68eb/FBv3wfzPwP/UsGuh3zO8/",
            "dtype": "f8"
           },
           "y": {
            "bdata": "okRWx9HHib+1UQfL58N5Px+lw7vLGfA/clcHy+fDeT+ARlbH0ceJvxSlw7vLGfA/",
            "dtype": "f8"
           },
           "z": {
            "bdata": "KS6BhoWpib+aatBW6aLcPxQ7o/3Wodw/CS/JQrD23D+f0ebicjPtP3de9pvC99w/",
            "dtype": "f8"
           }
          },
          {
           "name": "Fixed Nodes",
           "type": "scatter3d",
           "x": [],
           "y": [],
           "z": []
          },
          {
           "name": "Edges",
           "type": "scatter3d",
           "x": [
            1.0062829790303314,
            0.006290480304052021,
            null,
            0.006290480304052021,
            -0.01257318626487406,
            null,
            -0.01257318626487406,
            1.0062829790303314,
            null,
            1.0125731862648746,
            0.9937095196959534,
            null,
            0.9937095196959534,
            -0.006282979030329533,
            null,
            -0.006282979030329533,
            1.0125731862648746,
            null
           ],
           "y": [
            0.006290345613213001,
            1.0062978109875258,
            null,
            1.0062978109875258,
            -0.012588156600744253,
            null,
            -0.012588156600744253,
            0.006290345613213001,
            null,
            -0.012588156600745082,
            1.0062978109875234,
            null,
            1.0062978109875234,
            0.0062903456132142755,
            null,
            0.0062903456132142755,
            -0.012588156600745082,
            null
           ],
           "z": [
            0.44744332769338657,
            0.4473779179506192,
            null,
            0.4473779179506192,
            -0.012530368010764086,
            null,
            -0.012530368010764086,
            0.44744332769338657,
            null,
            0.9125303680107669,
            0.45262208204938,
            null,
            0.45262208204938,
            0.45255667230661395,
            null,
            0.45255667230661395,
            0.9125303680107669,
            null
           ]
          },
          {
           "i": [
            0,
            3
           ],
           "j": [
            1,
            4
           ],
           "k": [
            2,
            5
           ],
           "name": "Faces",
           "type": "mesh3d",
           "x": {
            "bdata": "VGGDfvi/ib/BTlcuvBnwPyCe6fILxHk/urhOVy68eb/FBv3wfzPwP/UsGuh3zO8/",
            "dtype": "f8"
           },
           "y": {
            "bdata": "okRWx9HHib+1UQfL58N5Px+lw7vLGfA/clcHy+fDeT+ARlbH0ceJvxSlw7vLGfA/",
            "dtype": "f8"
           },
           "z": {
            "bdata": "KS6BhoWpib+aatBW6aLcPxQ7o/3Wodw/CS/JQrD23D+f0ebicjPtP3de9pvC99w/",
            "dtype": "f8"
           }
          }
         ],
         "layout": {
          "annotations": [
           {
            "showarrow": false,
            "text": "Time: 0.39s (Step: 40/100)",
            "x": 0.05,
            "xref": "paper",
            "y": 0.95,
            "yref": "paper"
           }
          ]
         },
         "name": "39"
        },
        {
         "data": [
          {
           "name": "Free Nodes",
           "type": "scatter3d",
           "x": {
            "bdata": "pVbWHxHvir9DI4oc6xrwP0VTrY1S83o/cjsjihzrer+wrD8i3jXwP4ul5FoZyu8/",
            "dtype": "f8"
           },
           "y": {
            "bdata": "gGw68EL3ir8HSXvHLPN6P3X5GFn7GvA/dk97xyzzej8AbjrwQveKv2v5GFn7GvA/",
            "dtype": "f8"
           },
           "z": {
            "bdata": "6sBrta7Yir8GNDJHS3ncP3To6H8reNw/SK1IzWLO3D/BHxPFOQ/tP8b4kZSCz9w/",
            "dtype": "f8"
           }
          },
          {
           "name": "Fixed Nodes",
           "type": "scatter3d",
           "x": [],
           "y": [],
           "z": []
          },
          {
           "name": "Edges",
           "type": "scatter3d",
           "x": [
            1.0065718760326525,
            0.006579706644363641,
            null,
            0.006579706644363641,
            -0.01315129640969854,
            null,
            -0.01315129640969854,
            1.0065718760326525,
            null,
            1.0131512964096991,
            0.9934202933556419,
            null,
            0.9934202933556419,
            -0.006571876032650846,
            null,
            -0.006571876032650846,
            1.0131512964096991,
            null
           ],
           "y": [
            0.006579565924498937,
            1.0065873604176805,
            null,
            1.0065873604176805,
            -0.013166926342185414,
            null,
            -0.013166926342185414,
            0.006579565924498937,
            null,
            -0.01316692634218608,
            1.0065873604176783,
            null,
            1.0065873604176783,
            0.006579565924500366,
            null,
            0.006579565924500366,
            -0.01316692634218608,
            null
           ],
           "z": [
            0.44490320160622365,
            0.4448345898741828,
            null,
            0.4448345898741828,
            -0.01310860148575484,
            null,
            -0.01310860148575484,
            0.44490320160622365,
            null,
            0.9081086014857577,
            0.45016541012581646,
            null,
            0.45016541012581646,
            0.4500967983937767,
            null,
            0.4500967983937767,
            0.9081086014857577,
            null
           ]
          },
          {
           "i": [
            0,
            3
           ],
           "j": [
            1,
            4
           ],
           "k": [
            2,
            5
           ],
           "name": "Faces",
           "type": "mesh3d",
           "x": {
            "bdata": "pVbWHxHvir9DI4oc6xrwP0VTrY1S83o/cjsjihzrer+wrD8i3jXwP4ul5FoZyu8/",
            "dtype": "f8"
           },
           "y": {
            "bdata": "gGw68EL3ir8HSXvHLPN6P3X5GFn7GvA/dk97xyzzej8AbjrwQveKv2v5GFn7GvA/",
            "dtype": "f8"
           },
           "z": {
            "bdata": "6sBrta7Yir8GNDJHS3ncP3To6H8reNw/SK1IzWLO3D/BHxPFOQ/tP8b4kZSCz9w/",
            "dtype": "f8"
           }
          }
         ],
         "layout": {
          "annotations": [
           {
            "showarrow": false,
            "text": "Time: 0.40s (Step: 41/100)",
            "x": 0.05,
            "xref": "paper",
            "y": 0.95,
            "yref": "paper"
           }
          ]
         },
         "name": "40"
        },
        {
         "data": [
          {
           "name": "Free Nodes",
           "type": "scatter3d",
           "x": {
            "bdata": "ehUwM90cjL9M25u+GBzwP10Umy1MIXw/PkTbm74YfL8uYGa6OTjwPwfKpGe9x+8/",
            "dtype": "f8"
           },
           "y": {
            "bdata": "r4CytWYljL+4TL3NJCF8P5ennagpHPA/0VS9zSQhfD9bgrK1ZiWMv46nnagpHPA/",
            "dtype": "f8"
           },
           "z": {
            "bdata": "s3qvO7QGjL+QcW+qqE/cP+7qDXJ7Ttw/abfs5Bmm3D+A0pwY/OrsP/k9Th1Hp9w/",
            "dtype": "f8"
           }
          },
          {
           "name": "Fixed Nodes",
           "type": "scatter3d",
           "x": [],
           "y": [],
           "z": []
          },
          {
           "name": "Edges",
           "type": "scatter3d",
           "x": [
            1.006859535756763,
            0.006867692538155526,
            null,
            0.006867692538155526,
            -0.01372692882979253,
            null,
            -0.01372692882979253,
            1.006859535756763,
            null,
            1.0137269288297932,
            0.9931323074618498,
            null,
            0.9931323074618498,
            -0.00685953575676118,
            null,
            -0.00685953575676118,
            1.0137269288297932,
            null
           ],
           "y": [
            0.006867545856795214,
            1.0068756662899199,
            null,
            1.0068756662899199,
            -0.013743212146721666,
            null,
            -0.013743212146721666,
            0.006867545856795214,
            null,
            -0.013743212146722408,
            1.0068756662899179,
            null,
            1.0068756662899179,
            0.006867545856797012,
            null,
            0.006867545856797012,
            -0.013743212146722408,
            null
           ],
           "z": [
            0.4423619903953062,
            0.4422901738941353,
            null,
            0.4422901738941353,
            -0.013684661933380004,
            null,
            -0.013684661933380004,
            0.4423619903953062,
            null,
            0.9036846619333829,
            0.4477098261058639,
            null,
            0.4477098261058639,
            0.44763800960469396,
            null,
            0.44763800960469396,
            0.9036846619333829,
            null
           ]
          },
          {
           "i": [
            0,
            3
           ],
           "j": [
            1,
            4
           ],
           "k": [
            2,
            5
           ],
           "name": "Faces",
           "type": "mesh3d",
           "x": {
            "bdata": "ehUwM90cjL9M25u+GBzwP10Umy1MIXw/PkTbm74YfL8uYGa6OTjwPwfKpGe9x+8/",
            "dtype": "f8"
           },
           "y": {
            "bdata": "r4CytWYljL+4TL3NJCF8P5ennagpHPA/0VS9zSQhfD9bgrK1ZiWMv46nnagpHPA/",
            "dtype": "f8"
           },
           "z": {
            "bdata": "s3qvO7QGjL+QcW+qqE/cP+7qDXJ7Ttw/abfs5Bmm3D+A0pwY/OrsP/k9Th1Hp9w/",
            "dtype": "f8"
           }
          }
         ],
         "layout": {
          "annotations": [
           {
            "showarrow": false,
            "text": "Time: 0.41s (Step: 42/100)",
            "x": 0.05,
            "xref": "paper",
            "y": 0.95,
            "yref": "paper"
           }
          ]
         },
         "name": "41"
        },
        {
         "data": [
          {
           "name": "Free Nodes",
           "type": "scatter3d",
           "x": {
            "bdata": "C8kjLVxJjb+PWAEURR3wPzCF90b4TX0/CYZYARRFfb+TR1q4kjrwPyYRcg9kxe8/",
            "dtype": "f8"
           },
           "y": {
            "bdata": "jfTqizxSjb/FhkhSz019P0KNxalWHfA/KI9IUs9NfT+I9eqLPFKNvzqNxalWHfA/",
            "dtype": "f8"
           },
           "z": {
            "bdata": "uDbrXJczjb9IaZWFASbcP0vzIdnGJNw/XweohNV93D9FZZLiucbsP0x9GzEQf9w/",
            "dtype": "f8"
           }
          },
          {
           "name": "Fixed Nodes",
           "type": "scatter3d",
           "x": [],
           "y": [],
           "z": []
          },
          {
           "name": "Edges",
           "type": "scatter3d",
           "x": [
            1.0071459561782239,
            0.007154435952061264,
            null,
            0.007154435952061264,
            -0.01430007946735092,
            null,
            -0.01430007946735092,
            1.0071459561782239,
            null,
            1.0143000794673511,
            0.9928455640479441,
            null,
            0.9928455640479441,
            -0.007145956178221898,
            null,
            -0.007145956178221898,
            1.0143000794673511,
            null
           ],
           "y": [
            0.007154283379834763,
            1.0071627265650283,
            null,
            1.0071627265650283,
            -0.014317009944870196,
            null,
            -0.014317009944870196,
            0.007154283379834763,
            null,
            -0.014317009944870632,
            1.0071627265650265,
            null,
            1.0071627265650265,
            0.007154283379836625,
            null,
            0.007154283379836625,
            -0.014317009944870632,
            null
           ],
           "z": [
            0.4398196987655365,
            0.4397446747241715,
            null,
            0.4397446747241715,
            -0.014258558772236682,
            null,
            -0.014258558772236682,
            0.4398196987655365,
            null,
            0.8992585587722394,
            0.4452553252758278,
            null,
            0.4452553252758278,
            0.44518030123446367,
            null,
            0.44518030123446367,
            0.8992585587722394,
            null
           ]
          },
          {
           "i": [
            0,
            3
           ],
           "j": [
            1,
            4
           ],
           "k": [
            2,
            5
           ],
           "name": "Faces",
           "type": "mesh3d",
           "x": {
            "bdata": "C8kjLVxJjb+PWAEURR3wPzCF90b4TX0/CYZYARRFfb+TR1q4kjrwPyYRcg9kxe8/",
            "dtype": "f8"
           },
           "y": {
            "bdata": "jfTqizxSjb/FhkhSz019P0KNxalWHfA/KI9IUs9NfT+I9eqLPFKNvzqNxalWHfA/",
            "dtype": "f8"
           },
           "z": {
            "bdata": "uDbrXJczjb9IaZWFASbcP0vzIdnGJNw/XweohNV93D9FZZLiucbsP0x9GzEQf9w/",
            "dtype": "f8"
           }
          }
         ],
         "layout": {
          "annotations": [
           {
            "showarrow": false,
            "text": "Time: 0.42s (Step: 43/100)",
            "x": 0.05,
            "xref": "paper",
            "y": 0.95,
            "yref": "paper"
           }
          ]
         },
         "name": "42"
        },
        {
         "data": [
          {
           "name": "Free Nodes",
           "type": "scatter3d",
           "x": {
            "bdata": "jNjhgo10jr/SGTAccB7wPwaupE5WeX4/i8oZMBxwfr+zwwUb6TzwP9O2YlMNw+8/",
            "dtype": "f8"
           },
           "y": {
            "bdata": "0f6t58N9jr/xuDXKK3l+PyImBVyCHvA/cMI1yit5fj8W/63nw32OvxomBVyCHvA/",
            "dtype": "f8"
           },
           "z": {
            "bdata": "sd9CXVlfjr+Rc7PdVfzbP3/INroN+9s/vkRrp5VV3D/BZwQoc6LsP8jv58rdVtw/",
            "dtype": "f8"
           }
          },
          {
           "name": "Fixed Nodes",
           "type": "scatter3d",
           "x": [],
           "y": [],
           "z": []
          },
          {
           "name": "Edges",
           "type": "scatter3d",
           "x": [
            1.0074311352815255,
            0.0074399348616611734,
            null,
            0.0074399348616611734,
            -0.01487074428244408,
            null,
            -0.01487074428244408,
            1.0074311352815255,
            null,
            1.0148707442824445,
            0.992560065138344,
            null,
            0.992560065138344,
            -0.007431135281523847,
            null,
            -0.007431135281523847,
            1.0148707442824445,
            null
           ],
           "y": [
            0.007439776472308633,
            1.0074485392127674,
            null,
            1.0074485392127674,
            -0.014888315685083782,
            null,
            -0.014888315685083782,
            0.007439776472308633,
            null,
            -0.014888315685083902,
            1.0074485392127657,
            null,
            1.0074485392127657,
            0.007439776472310741,
            null,
            0.007439776472310741,
            -0.014888315685083902,
            null
           ],
           "z": [
            0.4372763314293531,
            0.4371980970855773,
            null,
            0.4371980970855773,
            -0.014830301436049216,
            null,
            -0.014830301436049216,
            0.4372763314293531,
            null,
            0.894830301436052,
            0.4428019029144221,
            null,
            0.4428019029144221,
            0.4427236685706467,
            null,
            0.4427236685706467,
            0.894830301436052,
            null
           ]
          },
          {
           "i": [
            0,
            3
           ],
           "j": [
            1,
            4
           ],
           "k": [
            2,
            5
           ],
           "name": "Faces",
           "type": "mesh3d",
           "x": {
            "bdata": "jNjhgo10jr/SGTAccB7wPwaupE5WeX4/i8oZMBxwfr+zwwUb6TzwP9O2YlMNw+8/",
            "dtype": "f8"
           },
           "y": {
            "bdata": "0f6t58N9jr/xuDXKK3l+PyImBVyCHvA/cMI1yit5fj8W/63nw32OvxomBVyCHvA/",
            "dtype": "f8"
           },
           "z": {
            "bdata": "sd9CXVlfjr+Rc7PdVfzbP3/INroN+9s/vkRrp5VV3D/BZwQoc6LsP8jv58rdVtw/",
            "dtype": "f8"
           }
          }
         ],
         "layout": {
          "annotations": [
           {
            "showarrow": false,
            "text": "Time: 0.43s (Step: 44/100)",
            "x": 0.05,
            "xref": "paper",
            "y": 0.95,
            "yref": "paper"
           }
          ]
         },
         "name": "43"
        },
        {
         "data": [
          {
           "name": "Free Nodes",
           "type": "scatter3d",
           "x": {
            "bdata": "fC04qnCej782O57WmR/wP8hAIrplo38/DS47ntaZf79bcFThPD/wP627izS5wO8/",
            "dtype": "f8"
           },
           "y": {
            "bdata": "FNtjPvynj7+YgTurOaN/PxCM0b6sH/A/jos7qzmjfz9V22M+/KePvwqM0b6sH/A/",
            "dtype": "f8"
           },
           "z": {
            "bdata": "ftpegfuJj7/U+Nq3pdLbP0hFYBpQ0ds/KAclSFot3D+DewXuJ37sP626n+WvLtw/",
            "dtype": "f8"
           }
          },
          {
           "name": "Fixed Nodes",
           "type": "scatter3d",
           "x": [],
           "y": [],
           "z": []
          },
          {
           "name": "Edges",
           "type": "scatter3d",
           "x": [
            1.0077150710601024,
            0.0077241872514976564,
            null,
            0.0077241872514976564,
            -0.01543891925304907,
            null,
            -0.01543891925304907,
            1.0077150710601024,
            null,
            1.015438919253049,
            0.9922758127485075,
            null,
            0.9922758127485075,
            -0.00771507106010062,
            null,
            -0.00771507106010062,
            1.015438919253049,
            null
           ],
           "y": [
            0.0077240231218812724,
            1.0077331022118905,
            null,
            1.0077331022118905,
            -0.015457125333779888,
            null,
            -0.015457125333779888,
            0.0077240231218812724,
            null,
            -0.01545712533378,
            1.0077331022118892,
            null,
            1.0077331022118892,
            0.007724023121883484,
            null,
            0.007724023121883484,
            -0.01545712533378,
            null
           ],
           "z": [
            0.43473189310669835,
            0.4346504457071956,
            null,
            0.4346504457071956,
            -0.015399899373602862,
            null,
            -0.015399899373602862,
            0.43473189310669835,
            null,
            0.8903998993736056,
            0.4403495542928038,
            null,
            0.4403495542928038,
            0.4402681068933014,
            null,
            0.4402681068933014,
            0.8903998993736056,
            null
           ]
          },
          {
           "i": [
            0,
            3
           ],
           "j": [
            1,
            4
           ],
           "k": [
            2,
            5
           ],
           "name": "Faces",
           "type": "mesh3d",
           "x": {
            "bdata": "fC04qnCej782O57WmR/wP8hAIrplo38/DS47ntaZf79bcFThPD/wP627izS5wO8/",
            "dtype": "f8"
           },
           "y": {
            "bdata": "FNtjPvynj7+YgTurOaN/PxCM0b6sH/A/jos7qzmjfz9V22M+/KePvwqM0b6sH/A/",
            "dtype": "f8"
           },
           "z": {
            "bdata": "ftpegfuJj7/U+Nq3pdLbP0hFYBpQ0ds/KAclSFot3D+DewXuJ37sP626n+WvLtw/",
            "dtype": "f8"
           }
          }
         ],
         "layout": {
          "annotations": [
           {
            "showarrow": false,
            "text": "Time: 0.44s (Step: 45/100)",
            "x": 0.05,
            "xref": "paper",
            "y": 0.95,
            "yref": "paper"
           }
          ]
         },
         "name": "44"
        },
        {
         "data": [
          {
           "name": "Free Nodes",
           "type": "scatter3d",
           "x": {
            "bdata": "TTXJjIJjkL9odsJCwiDwP+fqxv8SZoA/zjA7YSFhgL/VJDMKjkHwP4LkALRnvu8/",
            "dtype": "f8"
           },
           "y": {
            "bdata": "LoQJg3JokL/TS9c1/GWAP1N3oNHVIPA/GFHXNfxlgD8WhAmDcmiQv053oNHVIPA/",
            "dtype": "f8"
           },
           "z": {
            "bdata": "cLQ1h79ZkL//bh8Z8ajbP8ZVtP6Np9s/p9jBYSMF3D+UUao52FnsP9/xLHyGBtw/",
            "dtype": "f8"
           }
          },
          {
           "name": "Fixed Nodes",
           "type": "scatter3d",
           "x": [],
           "y": [],
           "z": []
          },
          {
           "name": "Edges",
           "type": "scatter3d",
           "x": [
            1.0079977615163447,
            0.008007191115088698,
            null,
            0.008007191115088698,
            -0.016004600375074052,
            null,
            -0.016004600375074052,
            1.0079977615163447,
            null,
            1.016004600375074,
            0.9919928088849164,
            null,
            0.9919928088849164,
            -0.007997761516343262,
            null,
            -0.007997761516343262,
            1.016004600375074,
            null
           ],
           "y": [
            0.008007021325203844,
            1.0080164135501561,
            null,
            1.0080164135501561,
            -0.01602343487536844,
            null,
            -0.01602343487536844,
            0.008007021325203844,
            null,
            -0.016023434875368357,
            1.008016413550155,
            null,
            1.008016413550155,
            0.008007021325206184,
            null,
            0.008007021325206184,
            -0.016023434875368357,
            null
           ],
           "z": [
            0.43218638852498253,
            0.43210172532539237,
            null,
            0.43210172532539237,
            -0.01596736204867394,
            null,
            -0.01596736204867394,
            0.43218638852498253,
            null,
            0.8859673620486768,
            0.4378982746746071,
            null,
            0.4378982746746071,
            0.437813611475017,
            null,
            0.437813611475017,
            0.8859673620486768,
            null
           ]
          },
          {
           "i": [
            0,
            3
           ],
           "j": [
            1,
            4
           ],
           "k": [
            2,
            5
           ],
           "name": "Faces",
           "type": "mesh3d",
           "x": {
            "bdata": "TTXJjIJjkL9odsJCwiDwP+fqxv8SZoA/zjA7YSFhgL/VJDMKjkHwP4LkALRnvu8/",
            "dtype": "f8"
           },
           "y": {
            "bdata": "LoQJg3JokL/TS9c1/GWAP1N3oNHVIPA/GFHXNfxlgD8WhAmDcmiQv053oNHVIPA/",
            "dtype": "f8"
           },
           "z": {
            "bdata": "cLQ1h79ZkL//bh8Z8ajbP8ZVtP6Np9s/p9jBYSMF3D+UUao52FnsP9/xLHyGBtw/",
            "dtype": "f8"
           }
          }
         ],
         "layout": {
          "annotations": [
           {
            "showarrow": false,
            "text": "Time: 0.45s (Step: 46/100)",
            "x": 0.05,
            "xref": "paper",
            "y": 0.95,
            "yref": "paper"
           }
          ]
         },
         "name": "45"
        },
        {
         "data": [
          {
           "name": "Free Nodes",
           "type": "scatter3d",
           "x": {
            "bdata": "/hf9IyX3kL/sIhRg6SHwP5+U0UrL+YA/2XIRCrD0gL9f9I+U3EPwP9i51NIYvO8/",
            "dtype": "f8"
           },
           "y": {
            "bdata": "QEOw2j78kL/iA0HBs/mAP94+6JP9IfA/BQpBwbP5gD8VQ7DaPvyQv9k+6JP9IfA/",
            "dtype": "f8"
           },
           "z": {
            "bdata": "sQgMpfLtkL8yV5YGOH/bPw31SmzHfds/Hzgs7/Dc2z8OqAkQhDXsP0ead4lh3ts/",
            "dtype": "f8"
           }
          },
          {
           "name": "Fixed Nodes",
           "type": "scatter3d",
           "x": [],
           "y": [],
           "z": []
          },
          {
           "name": "Edges",
           "type": "scatter3d",
           "x": [
            1.0082792046616147,
            0.008288944454941492,
            null,
            0.008288944454941492,
            -0.01656778366238853,
            null,
            -0.01656778366238853,
            1.0082792046616147,
            null,
            1.0165677836623883,
            0.9917110555450632,
            null,
            0.9917110555450632,
            -0.008279204661613292,
            null,
            -0.008279204661613292,
            1.0165677836623883,
            null
           ],
           "y": [
            0.008288769087927809,
            1.0082984712243426,
            null,
            1.0082984712243426,
            -0.016587240312279095,
            null,
            -0.016587240312279095,
            0.008288769087927809,
            null,
            -0.016587240312278945,
            1.0082984712243415,
            null,
            1.0082984712243415,
            0.008288769087930534,
            null,
            0.008288769087930534,
            -0.016587240312278945,
            null
           ],
           "z": [
            0.4296398224190511,
            0.4295519406840221,
            null,
            0.4295519406840221,
            -0.01653269893996229,
            null,
            -0.01653269893996229,
            0.4296398224190511,
            null,
            0.8815326989399652,
            0.43544805931597746,
            null,
            0.43544805931597746,
            0.4353601775809483,
            null,
            0.4353601775809483,
            0.8815326989399652,
            null
           ]
          },
          {
           "i": [
            0,
            3
           ],
           "j": [
            1,
            4
           ],
           "k": [
            2,
            5
           ],
           "name": "Faces",
           "type": "mesh3d",
           "x": {
            "bdata": "/hf9IyX3kL/sIhRg6SHwP5+U0UrL+YA/2XIRCrD0gL9f9I+U3EPwP9i51NIYvO8/",
            "dtype": "f8"
           },
           "y": {
            "bdata": "QEOw2j78kL/iA0HBs/mAP94+6JP9IfA/BQpBwbP5gD8VQ7DaPvyQv9k+6JP9IfA/",
            "dtype": "f8"
           },
           "z": {
            "bdata": "sQgMpfLtkL8yV5YGOH/bPw31SmzHfds/Hzgs7/Dc2z8OqAkQhDXsP0ead4lh3ts/",
            "dtype": "f8"
           }
          }
         ],
         "layout": {
          "annotations": [
           {
            "showarrow": false,
            "text": "Time: 0.46s (Step: 47/100)",
            "x": 0.05,
            "xref": "paper",
            "y": 0.95,
            "yref": "paper"
           }
          ]
         },
         "name": "46"
        },
        {
         "data": [
          {
           "name": "Free Nodes",
           "type": "scatter3d",
           "x": {
            "bdata": "D6uL1h+Kkb9PNgsuDyPwP4cv3nnbjIE/AiWbBZeHgb+qLlp/KEbwP22HGJLMue8/",
            "dtype": "f8"
           },
           "y": {
            "bdata": "cAvI4WKPkb/Mu6Mzw4yBP47YHwUkI/A/9cGjM8OMgT8BC8jhYo+Rv4rYHwUkI/A/",
            "dtype": "f8"
           },
           "z": {
            "bdata": "aoJLvZeBkb9MO1eFelXbP8UqPmj8U9s/sZtM68K02z+zRzx2KxHsPz+sZQhBtts/",
            "dtype": "f8"
           }
          },
          {
           "name": "Fixed Nodes",
           "type": "scatter3d",
           "x": [],
           "y": [],
           "z": []
          },
          {
           "name": "Edges",
           "type": "scatter3d",
           "x": [
            1.008559398516258,
            0.008569445282567546,
            null,
            0.008569445282567546,
            -0.017128465146849566,
            null,
            -0.017128465146849566,
            1.008559398516258,
            null,
            1.017128465146849,
            0.9914305547174372,
            null,
            0.9914305547174372,
            -0.00855939851625687,
            null,
            -0.00855939851625687,
            1.017128465146849,
            null
           ],
           "y": [
            0.008569264424719857,
            1.0085792732402612,
            null,
            1.0085792732402612,
            -0.01714853766498997,
            null,
            -0.01714853766498997,
            0.008569264424719857,
            null,
            -0.017148537664989586,
            1.0085792732402603,
            null,
            1.0085792732402603,
            0.008569264424722592,
            null,
            0.008569264424722592,
            -0.017148537664989586,
            null
           ],
           "z": [
            0.42709219953114963,
            0.42700109653439383,
            null,
            0.42700109653439383,
            -0.017095919541022665,
            null,
            -0.017095919541022665,
            0.42709219953114963,
            null,
            0.8770959195410256,
            0.4329989034656058,
            null,
            0.4329989034656058,
            0.43290780046884964,
            null,
            0.43290780046884964,
            0.8770959195410256,
            null
           ]
          },
          {
           "i": [
            0,
            3
           ],
           "j": [
            1,
            4
           ],
           "k": [
            2,
            5
           ],
           "name": "Faces",
           "type": "mesh3d",
           "x": {
            "bdata": "D6uL1h+Kkb9PNgsuDyPwP4cv3nnbjIE/AiWbBZeHgb+qLlp/KEbwP22HGJLMue8/",
            "dtype": "f8"
           },
           "y": {
            "bdata": "cAvI4WKPkb/Mu6Mzw4yBP47YHwUkI/A/9cGjM8OMgT8BC8jhYo+Rv4rYHwUkI/A/",
            "dtype": "f8"
           },
           "z": {
            "bdata": "aoJLvZeBkb9MO1eFelXbP8UqPmj8U9s/sZtM68K02z+zRzx2KxHsPz+sZQhBtts/",
            "dtype": "f8"
           }
          }
         ],
         "layout": {
          "annotations": [
           {
            "showarrow": false,
            "text": "Time: 0.47s (Step: 48/100)",
            "x": 0.05,
            "xref": "paper",
            "y": 0.95,
            "yref": "paper"
           }
          ]
         },
         "name": "47"
        },
        {
         "data": [
          {
           "name": "Free Nodes",
           "type": "scatter3d",
           "x": {
            "bdata": "JhaYYHIckr9vRCCsMyTwP+ob6UhDH4I/MDUiENYZgr9VYILJcUjwP7tb3PKCt+8/",
            "dtype": "f8"
           },
           "y": {
            "bdata": "VjtCVN4hkr8irRdJKh+CP2rZviRJJPA/p7MXSSofgj+qOkJU3iGSv2bZviRJJPA/",
            "dtype": "f8"
           },
           "z": {
            "bdata": "QEFOc68Ukr+Eq3uauCvbP7EIqvcsKts/JnMJUZmM2z+BAV1xzuzrPwMW2/Mkjts/",
            "dtype": "f8"
           }
          },
          {
           "name": "Fixed Nodes",
           "type": "scatter3d",
           "x": [],
           "y": [],
           "z": []
          },
          {
           "name": "Edges",
           "type": "scatter3d",
           "x": [
            1.0088383411096193,
            0.008848691618494404,
            null,
            0.008848691618494404,
            -0.017686640878329517,
            null,
            -0.017686640878329517,
            1.0088383411096193,
            null,
            1.0176866408783287,
            0.9911513083815103,
            null,
            0.9911513083815103,
            -0.008838341109618314,
            null,
            -0.008838341109618314,
            1.0176866408783287,
            null
           ],
           "y": [
            0.008848505359273565,
            1.0088588176127709,
            null,
            1.0088588176127709,
            -0.01770732297205354,
            null,
            -0.01770732297205354,
            0.008848505359273565,
            null,
            -0.017707322972052943,
            1.00885881761277,
            null,
            1.00885881761277,
            0.00884850535927646,
            null,
            0.00884850535927646,
            -0.017707322972052943,
            null
           ],
           "z": [
            0.42454352461088996,
            0.4244491976352363,
            null,
            0.4244491976352363,
            -0.01765703336019553,
            null,
            -0.01765703336019553,
            0.42454352461088996,
            null,
            0.8726570333601985,
            0.43055080236476345,
            null,
            0.43055080236476345,
            0.43045647538910925,
            null,
            0.43045647538910925,
            0.8726570333601985,
            null
           ]
          },
          {
           "i": [
            0,
            3
           ],
           "j": [
            1,
            4
           ],
           "k": [
            2,
            5
           ],
           "name": "Faces",
           "type": "mesh3d",
           "x": {
            "bdata": "JhaYYHIckr9vRCCsMyTwP+ob6UhDH4I/MDUiENYZgr9VYILJcUjwP7tb3PKCt+8/",
            "dtype": "f8"
           },
           "y": {
            "bdata": "VjtCVN4hkr8irRdJKh+CP2rZviRJJPA/p7MXSSofgj+qOkJU3iGSv2bZviRJJPA/",
            "dtype": "f8"
           },
           "z": {
            "bdata": "QEFOc68Ukr+Eq3uauCvbP7EIqvcsKts/JnMJUZmM2z+BAV1xzuzrPwMW2/Mkjts/",
            "dtype": "f8"
           }
          }
         ],
         "layout": {
          "annotations": [
           {
            "showarrow": false,
            "text": "Time: 0.48s (Step: 49/100)",
            "x": 0.05,
            "xref": "paper",
            "y": 0.95,
            "yref": "paper"
           }
          ]
         },
         "name": "48"
        },
        {
         "data": [
          {
           "name": "Free Nodes",
           "type": "scatter3d",
           "x": {
            "bdata": "Z9uUfhyukr+vf8zZViXwP3QsPnQCsYI/kdU/5myrgr9pU/pxuErwP3cHL/Y7te8/",
            "dtype": "f8"
           },
           "y": {
            "bdata": "UdBf7rCzkr/smwS+6LCCP991PfJsJfA/DKMEvuiwgj+hz1/usLOSv9x1PfJsJfA/",
            "dtype": "f8"
           },
           "z": {
            "bdata": "tx+vajqnkr8CPB9L8gHbP1GorB9ZANs/VCpHG3Rk2z9NrIgGbcjrPxK+uUYNZts/",
            "dtype": "f8"
           }
          },
          {
           "name": "Fixed Nodes",
           "type": "scatter3d",
           "x": [],
           "y": [],
           "z": []
          },
          {
           "name": "Edges",
           "type": "scatter3d",
           "x": [
            1.0091160304800544,
            0.009126681492281664,
            null,
            0.009126681492281664,
            -0.018242306924743625,
            null,
            -0.018242306924743625,
            1.0091160304800544,
            null,
            1.0182423069247426,
            0.9908733185077229,
            null,
            0.9908733185077229,
            -0.009116030480053524,
            null,
            -0.009116030480053524,
            1.0182423069247426,
            null
           ],
           "y": [
            0.009126489924325264,
            1.0091371023657911,
            null,
            1.0091371023657911,
            -0.01826359229012581,
            null,
            -0.01826359229012581,
            0.009126489924325264,
            null,
            -0.0182635922901252,
            1.0091371023657905,
            null,
            1.0091371023657905,
            0.009126489924328428,
            null,
            0.009126489924328428,
            -0.0182635922901252,
            null
           ],
           "z": [
            0.4219938024152158,
            0.4218962487526641,
            null,
            0.4218962487526641,
            -0.018216049920539237,
            null,
            -0.018216049920539237,
            0.4219938024152158,
            null,
            0.8682160499205424,
            0.4281037512473357,
            null,
            0.4281037512473357,
            0.4280061975847833,
            null,
            0.4280061975847833,
            0.8682160499205424,
            null
           ]
          },
          {
           "i": [
            0,
            3
           ],
           "j": [
            1,
            4
           ],
           "k": [
            2,
            5
           ],
           "name": "Faces",
           "type": "mesh3d",
           "x": {
            "bdata": "Z9uUfhyukr+vf8zZViXwP3QsPnQCsYI/kdU/5myrgr9pU/pxuErwP3cHL/Y7te8/",
            "dtype": "f8"
           },
           "y": {
            "bdata": "UdBf7rCzkr/smwS+6LCCP991PfJsJfA/DKMEvuiwgj+hz1/usLOSv9x1PfJsJfA/",
            "dtype": "f8"
           },
           "z": {
            "bdata": "tx+vajqnkr8CPB9L8gHbP1GorB9ZANs/VCpHG3Rk2z9NrIgGbcjrPxK+uUYNZts/",
            "dtype": "f8"
           }
          }
         ],
         "layout": {
          "annotations": [
           {
            "showarrow": false,
            "text": "Time: 0.49s (Step: 50/100)",
            "x": 0.05,
            "xref": "paper",
            "y": 0.95,
            "yref": "paper"
           }
          ]
         },
         "name": "49"
        },
        {
         "data": [
          {
           "name": "Free Nodes",
           "type": "scatter3d",
           "x": {
            "bdata": "9vVD7R0/k788uYm2eCbwP0LBeLgYQoM/iZzcRFs8g7/SD7V3/EzwPyMdHp33su8/",
            "dtype": "f8"
           },
           "y": {
            "bdata": "8oOxbNpEk7+K8SFP/kGDPwGCFG2PJvA/7PghT/5Bgz8Dg7Fs2kSTv/+BFG2PJvA/",
            "dtype": "f8"
           },
           "z": {
            "bdata": "JGVJRzk5k790gl+cJ9jaP2woZuWA1to/jivoRFM82z9QIt46B6TrP6eF4fv5Pds/",
            "dtype": "f8"
           }
          },
          {
           "name": "Fixed Nodes",
           "type": "scatter3d",
           "x": [],
           "y": [],
           "z": []
          },
          {
           "name": "Edges",
           "type": "scatter3d",
           "x": [
            1.0093924646749448,
            0.009403412942533,
            null,
            0.009403412942533,
            -0.018795459372077127,
            null,
            -0.018795459372077127,
            1.0093924646749448,
            null,
            1.0187954593720758,
            0.9905965870574714,
            null,
            0.9905965870574714,
            -0.009392464674944161,
            null,
            -0.009392464674944161,
            1.0187954593720758,
            null
           ],
           "y": [
            0.009403216161665968,
            1.0094141255323168,
            null,
            1.0094141255323168,
            -0.01881734169399247,
            null,
            -0.01881734169399247,
            0.009403216161665968,
            null,
            -0.01881734169399164,
            1.0094141255323164,
            null,
            1.0094141255323164,
            0.009403216161669246,
            null,
            0.009403216161669246,
            -0.01881734169399164,
            null
           ],
           "z": [
            0.41944303770836844,
            0.41934225466014285,
            null,
            0.41934225466014285,
            -0.01877297875976071,
            null,
            -0.01877297875976071,
            0.41944303770836844,
            null,
            0.8637729787597639,
            0.42565774533985706,
            null,
            0.42565774533985706,
            0.42555696229163054,
            null,
            0.42555696229163054,
            0.8637729787597639,
            null
           ]
          },
          {
           "i": [
            0,
            3
           ],
           "j": [
            1,
            4
           ],
           "k": [
            2,
            5
           ],
           "name": "Faces",
           "type": "mesh3d",
           "x": {
            "bdata": "9vVD7R0/k788uYm2eCbwP0LBeLgYQoM/iZzcRFs8g7/SD7V3/EzwPyMdHp33su8/",
            "dtype": "f8"
           },
           "y": {
            "bdata": "8oOxbNpEk7+K8SFP/kGDPwGCFG2PJvA/7PghT/5Bgz8Dg7Fs2kSTv/+BFG2PJvA/",
            "dtype": "f8"
           },
           "z": {
            "bdata": "JGVJRzk5k790gl+cJ9jaP2woZuWA1to/jivoRFM82z9QIt46B6TrP6eF4fv5Pds/",
            "dtype": "f8"
           }
          }
         ],
         "layout": {
          "annotations": [
           {
            "showarrow": false,
            "text": "Time: 0.50s (Step: 51/100)",
            "x": 0.05,
            "xref": "paper",
            "y": 0.95,
            "yref": "paper"
           }
          ]
         },
         "name": "50"
        },
        {
         "data": [
          {
           "name": "Free Nodes",
           "type": "scatter3d",
           "x": {
            "bdata": "/ve2aXbPk79BYdJBmSfwP97og9KF0oM/vZ8w6aDMg7/a26bZPU/wP4Hwtei1sO8/",
            "dtype": "f8"
           },
           "y": {
            "bdata": "XOsXjFrVk79b3Xa5atKDP8ZxvZSwJ/A/nOV2uWrSgz8r6heMWtWTv8NxvZSwJ/A/",
            "dtype": "f8"
           },
           "z": {
            "bdata": "Qng4razKk7+eE1yTWK7aP6qq+E2krNo/DuLMyDYU2z/CPn4TnX/rPxlLMA7rFds/",
            "dtype": "f8"
           }
          },
          {
           "name": "Fixed Nodes",
           "type": "scatter3d",
           "x": [],
           "y": [],
           "z": []
          },
          {
           "name": "Edges",
           "type": "scatter3d",
           "x": [
            1.00966764175071,
            0.009678884016910801,
            null,
            0.009678884016910801,
            -0.019346094324411915,
            null,
            -0.019346094324411915,
            1.00966764175071,
            null,
            1.0193460943244106,
            0.9903211159830932,
            null,
            0.9903211159830932,
            -0.00966764175070966,
            null,
            -0.00966764175070966,
            1.0193460943244106,
            null
           ],
           "y": [
            0.009678682122155882,
            1.009689885154431,
            null,
            1.009689885154431,
            -0.019368567276596735,
            null,
            -0.019368567276596735,
            0.009678682122155882,
            null,
            -0.019368567276595677,
            1.0096898851544303,
            null,
            1.0096898851544303,
            0.009678682122159547,
            null,
            0.009678682122159547,
            -0.019368567276595677,
            null
           ],
           "z": [
            0.41689123526185223,
            0.41678722013845493,
            null,
            0.41678722013845493,
            -0.019327829430146666,
            null,
            -0.019327829430146666,
            0.41689123526185223,
            null,
            0.8593278294301501,
            0.4232127798615451,
            null,
            0.4232127798615451,
            0.4231087647381465,
            null,
            0.4231087647381465,
            0.8593278294301501,
            null
           ]
          },
          {
           "i": [
            0,
            3
           ],
           "j": [
            1,
            4
           ],
           "k": [
            2,
            5
           ],
           "name": "Faces",
           "type": "mesh3d",
           "x": {
            "bdata": "/ve2aXbPk79BYdJBmSfwP97og9KF0oM/vZ8w6aDMg7/a26bZPU/wP4Hwtei1sO8/",
            "dtype": "f8"
           },
           "y": {
            "bdata": "XOsXjFrVk79b3Xa5atKDP8ZxvZSwJ/A/nOV2uWrSgz8r6heMWtWTv8NxvZSwJ/A/",
            "dtype": "f8"
           },
           "z": {
            "bdata": "Qng4razKk7+eE1yTWK7aP6qq+E2krNo/DuLMyDYU2z/CPn4TnX/rPxlLMA7rFds/",
            "dtype": "f8"
           }
          }
         ],
         "layout": {
          "annotations": [
           {
            "showarrow": false,
            "text": "Time: 0.51s (Step: 52/100)",
            "x": 0.05,
            "xref": "paper",
            "y": 0.95,
            "yref": "paper"
           }
          ]
         },
         "name": "51"
        },
        {
         "data": [
          {
           "name": "Free Nodes",
           "type": "scatter3d",
           "x": {
            "bdata": "DypPsSVflL8thyF7uCjwP958mn9JYoQ/Z5bDkD1chL+gPMWWfFHwPzGWAdp2ru8/",
            "dtype": "f8"
           },
           "y": {
            "bdata": "kZTDCTFllL88cVq6LWKEP0JZsmjQKPA/b3laui1ihD9Rk8MJMWWUv0FZsmjQKPA/",
            "dtype": "f8"
           },
           "z": {
            "bdata": "e5HXQJVblL/2gDY1hYTaPxxRiF7Dgto/ZLzToR7s2j9k24uVLlvrP1XsgXjg7do/",
            "dtype": "f8"
           }
          },
          {
           "name": "Fixed Nodes",
           "type": "scatter3d",
           "x": [],
           "y": [],
           "z": []
          },
          {
           "name": "Edges",
           "type": "scatter3d",
           "x": [
            1.0099415597728225,
            0.009953092772148894,
            null,
            0.009953092772148894,
            -0.019894207903954405,
            null,
            -0.019894207903954405,
            1.0099415597728225,
            null,
            1.0198942079039526,
            0.9900469072278552,
            null,
            0.9900469072278552,
            -0.009941559772822474,
            null,
            -0.009941559772822474,
            1.0198942079039526,
            null
           ],
           "y": [
            0.009952885865737053,
            1.0099643792833182,
            null,
            1.0099643792833182,
            -0.019917265149065392,
            null,
            -0.019917265149065392,
            0.009952885865737053,
            null,
            -0.01991726514906428,
            1.009964379283318,
            null,
            1.009964379283318,
            0.009952885865740694,
            null,
            0.009952885865740694,
            -0.01991726514906428,
            null
           ],
           "z": [
            0.41433839985440046,
            0.41423114997566457,
            null,
            0.41423114997566457,
            -0.01988061149849461,
            null,
            -0.01988061149849461,
            0.41433839985440046,
            null,
            0.8548806114984981,
            0.42076885002433545,
            null,
            0.42076885002433545,
            0.4206616001455983,
            null,
            0.4206616001455983,
            0.8548806114984981,
            null
           ]
          },
          {
           "i": [
            0,
            3
           ],
           "j": [
            1,
            4
           ],
           "k": [
            2,
            5
           ],
           "name": "Faces",
           "type": "mesh3d",
           "x": {
            "bdata": "DypPsSVflL8thyF7uCjwP958mn9JYoQ/Z5bDkD1chL+gPMWWfFHwPzGWAdp2ru8/",
            "dtype": "f8"
           },
           "y": {
            "bdata": "kZTDCTFllL88cVq6LWKEP0JZsmjQKPA/b3laui1ihD9Rk8MJMWWUv0FZsmjQKPA/",
            "dtype": "f8"
           },
           "z": {
            "bdata": "e5HXQJVblL/2gDY1hYTaPxxRiF7Dgto/ZLzToR7s2j9k24uVLlvrP1XsgXjg7do/",
            "dtype": "f8"
           }
          }
         ],
         "layout": {
          "annotations": [
           {
            "showarrow": false,
            "text": "Time: 0.52s (Step: 53/100)",
            "x": 0.05,
            "xref": "paper",
            "y": 0.95,
            "yref": "paper"
           }
          ]
         },
         "name": "52"
        },
        {
         "data": [
          {
           "name": "Free Nodes",
           "type": "scatter3d",
           "x": {
            "bdata": "4ae9gSvulL/n2fJh1inwP1pBR31j8YQ/7PNs+TDrhL+W9gauuFPwPx3jCnI6rO8/",
            "dtype": "f8"
           },
           "y": {
            "bdata": "5SU1o130lL+VwHMPR/GEP+jsbejuKfA/OslzD0fxhD99JDWjXfSUv+fsbejuKfA/",
            "dtype": "f8"
           },
           "z": {
            "bdata": "BG3BpvPrlL8rVhKHrVraP9Y7OxzeWNo/3C7ZygrE2j8ZzivGuzbrP0pJsDXaxdo/",
            "dtype": "f8"
           }
          },
          {
           "name": "Fixed Nodes",
           "type": "scatter3d",
           "x": [],
           "y": [],
           "z": []
          },
          {
           "name": "Edges",
           "type": "scatter3d",
           "x": [
            1.0102142168158197,
            0.010226037274066502,
            null,
            0.010226037274066502,
            -0.020439796251061074,
            null,
            -0.020439796251061074,
            1.0102142168158197,
            null,
            1.020439796251059,
            0.9897739627259373,
            null,
            0.9897739627259373,
            -0.010214216815819875,
            null,
            -0.010214216815819875,
            1.020439796251059,
            null
           ],
           "y": [
            0.010225825461447161,
            1.0102376059792793,
            null,
            1.0102376059792793,
            -0.02046343144073672,
            null,
            -0.02046343144073672,
            0.010225825461447161,
            null,
            -0.02046343144073547,
            1.010237605979279,
            null,
            1.010237605979279,
            0.010225825461451,
            null,
            0.010225825461451,
            -0.02046343144073547,
            null
           ],
           "z": [
            0.4117845362719403,
            0.4116740489670837,
            null,
            0.4116740489670837,
            -0.020431334546043636,
            null,
            -0.020431334546043636,
            0.4117845362719403,
            null,
            0.8504313345460474,
            0.41832595103291637,
            null,
            0.41832595103291637,
            0.4182154637280584,
            null,
            0.4182154637280584,
            0.8504313345460474,
            null
           ]
          },
          {
           "i": [
            0,
            3
           ],
           "j": [
            1,
            4
           ],
           "k": [
            2,
            5
           ],
           "name": "Faces",
           "type": "mesh3d",
           "x": {
            "bdata": "4ae9gSvulL/n2fJh1inwP1pBR31j8YQ/7PNs+TDrhL+W9gauuFPwPx3jCnI6rO8/",
            "dtype": "f8"
           },
           "y": {
            "bdata": "5SU1o130lL+VwHMPR/GEP+jsbejuKfA/OslzD0fxhD99JDWjXfSUv+fsbejuKfA/",
            "dtype": "f8"
           },
           "z": {
            "bdata": "BG3BpvPrlL8rVhKHrVraP9Y7OxzeWNo/3C7ZygrE2j8ZzivGuzbrP0pJsDXaxdo/",
            "dtype": "f8"
           }
          }
         ],
         "layout": {
          "annotations": [
           {
            "showarrow": false,
            "text": "Time: 0.53s (Step: 54/100)",
            "x": 0.05,
            "xref": "paper",
            "y": 0.95,
            "yref": "paper"
           }
          ]
         },
         "name": "53"
        },
        {
         "data": [
          {
           "name": "Free Nodes",
           "type": "scatter3d",
           "x": {
            "bdata": "TX8DmYd8lb8NqML18irwPykDZYnTf4U/KAdU4Xp5hb/yDWQe8lXwPxRs2rEAqu8/",
            "dtype": "f8"
           },
           "y": {
            "bdata": "1Xs9FuCClb9n/rl2tn+FP8OBaxMMK/A/SAe6drZ/hT9aej0W4IKVv8OBaxMMK/A/",
            "dtype": "f8"
           },
           "z": {
            "bdata": "N/3Pg8h7lb+/FhWO0TDaP3uGOYz0Lto/9rW3Pvub2j9z5oSqRBLrP1NGk0DYndo/",
            "dtype": "f8"
           }
          },
          {
           "name": "Fixed Nodes",
           "type": "scatter3d",
           "x": [],
           "y": [],
           "z": []
          },
          {
           "name": "Edges",
           "type": "scatter3d",
           "x": [
            1.0104856109633176,
            0.010497715597581685,
            null,
            0.010497715597581685,
            -0.020982855524265976,
            null,
            -0.020982855524265976,
            1.0104856109633176,
            null,
            1.0209828555242635,
            0.9895022844024219,
            null,
            0.9895022844024219,
            -0.010485610963317862,
            null,
            -0.010485610963317862,
            1.0209828555242635,
            null
           ],
           "y": [
            0.010497498987432864,
            1.0105095633117436,
            null,
            1.0105095633117436,
            -0.02100706229918699,
            null,
            -0.02100706229918699,
            0.010497498987432864,
            null,
            -0.021007062299185676,
            1.0105095633117436,
            null,
            1.0105095633117436,
            0.010497498987436807,
            null,
            0.010497498987436807,
            -0.021007062299185676,
            null
           ],
           "z": [
            0.4092296493075586,
            0.4091159219152371,
            null,
            0.4091159219152371,
            -0.020980008168405475,
            null,
            -0.020980008168405475,
            0.4092296493075586,
            null,
            0.8459800081684093,
            0.41588407808476296,
            null,
            0.41588407808476296,
            0.41577035069244006,
            null,
            0.41577035069244006,
            0.8459800081684093,
            null
           ]
          },
          {
           "i": [
            0,
            3
           ],
           "j": [
            1,
            4
           ],
           "k": [
            2,
            5
           ],
           "name": "Faces",
           "type": "mesh3d",
           "x": {
            "bdata": "TX8DmYd8lb8NqML18irwPykDZYnTf4U/KAdU4Xp5hb/yDWQe8lXwPxRs2rEAqu8/",
            "dtype": "f8"
           },
           "y": {
            "bdata": "1Xs9FuCClb9n/rl2tn+FP8OBaxMMK/A/SAe6drZ/hT9aej0W4IKVv8OBaxMMK/A/",
            "dtype": "f8"
           },
           "z": {
            "bdata": "N/3Pg8h7lb+/FhWO0TDaP3uGOYz0Lto/9rW3Pvub2j9z5oSqRBLrP1NGk0DYndo/",
            "dtype": "f8"
           }
          }
         ],
         "layout": {
          "annotations": [
           {
            "showarrow": false,
            "text": "Time: 0.54s (Step: 55/100)",
            "x": 0.05,
            "xref": "paper",
            "y": 0.95,
            "yref": "paper"
           }
          ]
         },
         "name": "54"
        },
        {
         "data": [
          {
           "name": "Free Nodes",
           "type": "scatter3d",
           "x": {
            "bdata": "Ac5xtTkKlr8v4A02DizwP8C1HmKZDYY/gBjwBhsHhr8rx9XmKFjwP0iFd5rJp+8/",
            "dtype": "f8"
           },
           "y": {
            "bdata": "6cb9ILgQlr/pmnSuew2GP7UNJ+knLPA/5qN0rnsNhj8lxf0guBCWv7YNJ+knLPA/",
            "dtype": "f8"
           },
           "z": {
            "bdata": "dRwcfRQLlr+WO2ZP8QbaP81FrbMGBdo/zNhH+O9z2j9F679Hye3qP7DOAJTaddo/",
            "dtype": "f8"
           }
          },
          {
           "name": "Fixed Nodes",
           "type": "scatter3d",
           "x": [],
           "y": [],
           "z": []
          },
          {
           "name": "Edges",
           "type": "scatter3d",
           "x": [
            1.010755740308024,
            0.010768125826724595,
            null,
            0.010768125826724595,
            -0.021523381900307118,
            null,
            -0.021523381900307118,
            1.010755740308024,
            null,
            1.0215233819003042,
            0.9892318741732788,
            null,
            0.9892318741732788,
            -0.010755740308024508,
            null,
            -0.010755740308024508,
            1.0215233819003042,
            null
           ],
           "y": [
            0.01076790453096295,
            1.0107802493592832,
            null,
            1.0107802493592832,
            -0.021548153890257025,
            null,
            -0.021548153890257025,
            0.01076790453096295,
            null,
            -0.021548153890255457,
            1.0107802493592835,
            null,
            1.0107802493592835,
            0.010767904530966942,
            null,
            0.010767904530966942,
            -0.021548153890255457,
            null
           ],
           "z": [
            0.4066737437614675,
            0.40655677362982773,
            null,
            0.40655677362982773,
            -0.021526641975495104,
            null,
            -0.021526641975495104,
            0.4066737437614675,
            null,
            0.8415266419754991,
            0.4134432263701724,
            null,
            0.4134432263701724,
            0.41332625623853114,
            null,
            0.41332625623853114,
            0.8415266419754991,
            null
           ]
          },
          {
           "i": [
            0,
            3
           ],
           "j": [
            1,
            4
           ],
           "k": [
            2,
            5
           ],
           "name": "Faces",
           "type": "mesh3d",
           "x": {
            "bdata": "Ac5xtTkKlr8v4A02DizwP8C1HmKZDYY/gBjwBhsHhr8rx9XmKFjwP0iFd5rJp+8/",
            "dtype": "f8"
           },
           "y": {
            "bdata": "6cb9ILgQlr/pmnSuew2GP7UNJ+knLPA/5qN0rnsNhj8lxf0guBCWv7YNJ+knLPA/",
            "dtype": "f8"
           },
           "z": {
            "bdata": "dRwcfRQLlr+WO2ZP8QbaP81FrbMGBdo/zNhH+O9z2j9F679Hye3qP7DOAJTaddo/",
            "dtype": "f8"
           }
          }
         ],
         "layout": {
          "annotations": [
           {
            "showarrow": false,
            "text": "Time: 0.55s (Step: 56/100)",
            "x": 0.05,
            "xref": "paper",
            "y": 0.95,
            "yref": "paper"
           }
          ]
         },
         "name": "55"
        },
        {
         "data": [
          {
           "name": "Free Nodes",
           "type": "scatter3d",
           "x": {
            "bdata": "2N6plUGXlr8JEVIiKC3wP2GQ78W0moY/YoYIKRGUhr9up1YGXVrwP9tB6CyVpe8/",
            "dtype": "f8"
           },
           "y": {
            "bdata": "r6jngeWdlr9+YDt1lpqGP7AnHWlCLfA/yWk7dZaahj+spueB5Z2Wv7EnHWlCLfA/",
            "dtype": "f8"
           },
           "z": {
            "bdata": "hT79N9iZlr+EMC/QDN3ZPzWFwpcU29k/iStg8uhL2j8umAejScnqP/fWzCrhTdo/",
            "dtype": "f8"
           }
          },
          {
           "name": "Fixed Nodes",
           "type": "scatter3d",
           "x": [],
           "y": [],
           "z": []
          },
          {
           "name": "Edges",
           "type": "scatter3d",
           "x": [
            1.0110246029517518,
            0.011037266054650443,
            null,
            0.011037266054650443,
            -0.022061371574152527,
            null,
            -0.022061371574152527,
            1.0110246029517518,
            null,
            1.0220613715741496,
            0.9889627339453527,
            null,
            0.9889627339453527,
            -0.011024602951752619,
            null,
            -0.011024602951752619,
            1.0220613715741496,
            null
           ],
           "y": [
            0.011037040188441202,
            1.0110496622096257,
            null,
            1.0110496622096257,
            -0.022086702398077914,
            null,
            -0.022086702398077914,
            0.011037040188441202,
            null,
            -0.022086702398076127,
            1.0110496622096259,
            null,
            1.0110496622096259,
            0.011037040188445328,
            null,
            0.011037040188445328,
            -0.022086702398076127,
            null
           ],
           "z": [
            0.4041168244409692,
            0.4039966089277017,
            null,
            0.4039966089277017,
            -0.022071245591460915,
            null,
            -0.022071245591460915,
            0.4041168244409692,
            null,
            0.8370712455914651,
            0.4110033910722985,
            null,
            0.4110033910722985,
            0.41088317555902926,
            null,
            0.41088317555902926,
            0.8370712455914651,
            null
           ]
          },
          {
           "i": [
            0,
            3
           ],
           "j": [
            1,
            4
           ],
           "k": [
            2,
            5
           ],
           "name": "Faces",
           "type": "mesh3d",
           "x": {
            "bdata": "2N6plUGXlr8JEVIiKC3wP2GQ78W0moY/YoYIKRGUhr9up1YGXVrwP9tB6CyVpe8/",
            "dtype": "f8"
           },
           "y": {
            "bdata": "r6jngeWdlr9+YDt1lpqGP7AnHWlCLfA/yWk7dZaahj+spueB5Z2Wv7EnHWlCLfA/",
            "dtype": "f8"
           },
           "z": {
            "bdata": "hT79N9iZlr+EMC/QDN3ZPzWFwpcU29k/iStg8uhL2j8umAejScnqP/fWzCrhTdo/",
            "dtype": "f8"
           }
          }
         ],
         "layout": {
          "annotations": [
           {
            "showarrow": false,
            "text": "Time: 0.56s (Step: 57/100)",
            "x": 0.05,
            "xref": "paper",
            "y": 0.95,
            "yref": "paper"
           }
          ]
         },
         "name": "56"
        },
        {
         "data": [
          {
           "name": "Free Nodes",
           "type": "scatter3d",
           "x": {
            "bdata": "nUid+J4jl7/DaQ26QC7wPxIto3MlJ4c/dOO0Bl0gh78UdeJ7jlzwP2ZzMWpjo+8/",
            "dtype": "f8"
           },
           "y": {
            "bdata": "4FK992cql79mkvaJBieHP/QHy5JbLvA//pv2iQYnhz/UUL33ZyqXv/YHy5JbLvA/",
            "dtype": "f8"
           },
           "z": {
            "bdata": "ZiMJWhQol7/jUZsVJLPZP1lEpz0esdk/11HVJ+Yj2j8tm4jBxaTqP4Ffyf/rJdo/",
            "dtype": "f8"
           }
          },
          {
           "name": "Fixed Nodes",
           "type": "scatter3d",
           "x": [],
           "y": [],
           "z": []
          },
          {
           "name": "Edges",
           "type": "scatter3d",
           "x": [
            1.0112921970054323,
            0.011305134383653246,
            null,
            0.011305134383653246,
            -0.02259682075902757,
            null,
            -0.02259682075902757,
            1.0112921970054323,
            null,
            1.0225968207590244,
            0.9886948656163497,
            null,
            0.9886948656163497,
            -0.011292197005433137,
            null,
            -0.011292197005433137,
            1.0225968207590244,
            null
           ],
           "y": [
            0.011304904065420018,
            1.0113177999596674,
            null,
            1.0113177999596674,
            -0.022622704025098694,
            null,
            -0.022622704025098694,
            0.011304904065420018,
            null,
            -0.022622704025096876,
            1.0113177999596679,
            null,
            1.0113177999596679,
            0.011304904065424278,
            null,
            0.011304904065424278,
            -0.022622704025096876,
            null
           ],
           "z": [
            0.4015588961604221,
            0.40143543263281384,
            null,
            0.40143543263281384,
            -0.022613828654616162,
            null,
            -0.022613828654616162,
            0.4015588961604221,
            null,
            0.8326138286546204,
            0.4085645673671863,
            null,
            0.4085645673671863,
            0.40844110383957627,
            null,
            0.40844110383957627,
            0.8326138286546204,
            null
           ]
          },
          {
           "i": [
            0,
            3
           ],
           "j": [
            1,
            4
           ],
           "k": [
            2,
            5
           ],
           "name": "Faces",
           "type": "mesh3d",
           "x": {
            "bdata": "nUid+J4jl7/DaQ26QC7wPxIto3MlJ4c/dOO0Bl0gh78UdeJ7jlzwP2ZzMWpjo+8/",
            "dtype": "f8"
           },
           "y": {
            "bdata": "4FK992cql79mkvaJBieHP/QHy5JbLvA//pv2iQYnhz/UUL33ZyqXv/YHy5JbLvA/",
            "dtype": "f8"
           },
           "z": {
            "bdata": "ZiMJWhQol7/jUZsVJLPZP1lEpz0esdk/11HVJ+Yj2j8tm4jBxaTqP4Ffyf/rJdo/",
            "dtype": "f8"
           }
          }
         ],
         "layout": {
          "annotations": [
           {
            "showarrow": false,
            "text": "Time: 0.57s (Step: 58/100)",
            "x": 0.05,
            "xref": "paper",
            "y": 0.95,
            "yref": "paper"
           }
          ]
         },
         "name": "57"
        },
        {
         "data": [
          {
           "name": "Free Nodes",
           "type": "scatter3d",
           "x": {
            "bdata": "9QmOnVGvl78iur78Vy/wPzamVSrrsoc/SxNdX/6rh78YOHZGvV7wP4GpVlM0oe8/",
            "dtype": "f8"
           },
           "y": {
            "bdata": "U6SRQT+2l78FCt+ry7KHP0qIrmVzL/A/jBPfq8uyhz8IopFBP7aXv0yIrmVzL/A/",
            "dtype": "f8"
           },
           "z": {
            "bdata": "IYgTicm1l78Y6tckN4nZP6V0i6ojh9k/UAF6k+f72T8qknGoPYDqP+V2xg37/dk/",
            "dtype": "f8"
           }
          },
          {
           "name": "Fixed Nodes",
           "type": "scatter3d",
           "x": [],
           "y": [],
           "z": []
          },
          {
           "name": "Edges",
           "type": "scatter3d",
           "x": [
            1.0115585205891269,
            0.011571728925178975,
            null,
            0.011571728925178975,
            -0.023129725686439746,
            null,
            -0.023129725686439746,
            1.0115585205891269,
            null,
            1.0231297256864362,
            0.9884282710748239,
            null,
            0.9884282710748239,
            -0.011558520589127893,
            null,
            -0.011558520589127893,
            1.0231297256864362,
            null
           ],
           "y": [
            0.011571494276613423,
            1.0115846607154872,
            null,
            1.0115846607154872,
            -0.023156154992112054,
            null,
            -0.023156154992112054,
            0.011571494276613423,
            null,
            -0.023156154992110017,
            1.0115846607154877,
            null,
            1.0115846607154877,
            0.011571494276617654,
            null,
            0.011571494276617654,
            -0.023156154992110017,
            null
           ],
           "z": [
            0.3989999637412054,
            0.3988732495761929,
            null,
            0.3988732495761929,
            -0.02315440081736864,
            null,
            -0.02315440081736864,
            0.3989999637412054,
            null,
            0.8281544008173729,
            0.40612675042380736,
            null,
            0.40612675042380736,
            0.406000036258793,
            null,
            0.406000036258793,
            0.8281544008173729,
            null
           ]
          },
          {
           "i": [
            0,
            3
           ],
           "j": [
            1,
            4
           ],
           "k": [
            2,
            5
           ],
           "name": "Faces",
           "type": "mesh3d",
           "x": {
            "bdata": "9QmOnVGvl78iur78Vy/wPzamVSrrsoc/SxNdX/6rh78YOHZGvV7wP4GpVlM0oe8/",
            "dtype": "f8"
           },
           "y": {
            "bdata": "U6SRQT+2l78FCt+ry7KHP0qIrmVzL/A/jBPfq8uyhz8IopFBP7aXv0yIrmVzL/A/",
            "dtype": "f8"
           },
           "z": {
            "bdata": "IYgTicm1l78Y6tckN4nZP6V0i6ojh9k/UAF6k+f72T8qknGoPYDqP+V2xg37/dk/",
            "dtype": "f8"
           }
          }
         ],
         "layout": {
          "annotations": [
           {
            "showarrow": false,
            "text": "Time: 0.58s (Step: 59/100)",
            "x": 0.05,
            "xref": "paper",
            "y": 0.95,
            "yref": "paper"
           }
          ]
         },
         "name": "58"
        },
        {
         "data": [
          {
           "name": "Free Nodes",
           "type": "scatter3d",
           "x": {
            "bdata": "7aYORFk6mL/LcuXpbTDwP12xc6kFPog/IGi58vQ2iL+LOhBl6WDwP1IxWukHn+8/",
            "dtype": "f8"
           },
           "y": {
            "bdata": "hUXIHmtBmL+GUX6a5T2IPz8kRuGJMPA/i1t+muU9iD9NQ8gea0GYv0EkRuGJMPA/",
            "dtype": "f8"
           },
           "z": {
            "bdata": "Gdgta/hCmL8iLxQDRl/ZP9D2oOMkXdk/8wMfMO3T2T+CCPNcsVvqP2g8kk8O1tk/",
            "dtype": "f8"
           }
          },
          {
           "name": "Fixed Nodes",
           "type": "scatter3d",
           "x": [],
           "y": [],
           "z": []
          },
          {
           "name": "Edges",
           "type": "scatter3d",
           "x": [
            1.0118235718320416,
            0.011837047799837458,
            null,
            0.011837047799837458,
            -0.023660082606204936,
            null,
            -0.023660082606204936,
            1.0118235718320416,
            null,
            1.0236600826062012,
            0.9881629522001651,
            null,
            0.9881629522001651,
            -0.0118235718320428,
            null,
            -0.0118235718320428,
            1.0236600826062012,
            null
           ],
           "y": [
            0.011836808945908894,
            1.0118502425923592,
            null,
            1.0118502425923592,
            -0.023687051538279675,
            null,
            -0.023687051538279675,
            0.011836808945908894,
            null,
            -0.023687051538277704,
            1.0118502425923597,
            null,
            1.0118502425923597,
            0.011836808945913343,
            null,
            0.011836808945913343,
            -0.023687051538277704,
            null
           ],
           "z": [
            0.3964400320116842,
            0.3963100645959061,
            null,
            0.3963100645959061,
            -0.02369297174615079,
            null,
            -0.02369297174615079,
            0.3964400320116842,
            null,
            0.8236929717461552,
            0.40368993540409415,
            null,
            0.40368993540409415,
            0.4035599679883141,
            null,
            0.4035599679883141,
            0.8236929717461552,
            null
           ]
          },
          {
           "i": [
            0,
            3
           ],
           "j": [
            1,
            4
           ],
           "k": [
            2,
            5
           ],
           "name": "Faces",
           "type": "mesh3d",
           "x": {
            "bdata": "7aYORFk6mL/LcuXpbTDwP12xc6kFPog/IGi58vQ2iL+LOhBl6WDwP1IxWukHn+8/",
            "dtype": "f8"
           },
           "y": {
            "bdata": "hUXIHmtBmL+GUX6a5T2IPz8kRuGJMPA/i1t+muU9iD9NQ8gea0GYv0EkRuGJMPA/",
            "dtype": "f8"
           },
           "z": {
            "bdata": "Gdgta/hCmL8iLxQDRl/ZP9D2oOMkXdk/8wMfMO3T2T+CCPNcsVvqP2g8kk8O1tk/",
            "dtype": "f8"
           }
          }
         ],
         "layout": {
          "annotations": [
           {
            "showarrow": false,
            "text": "Time: 0.59s (Step: 60/100)",
            "x": 0.05,
            "xref": "paper",
            "y": 0.95,
            "yref": "paper"
           }
          ]
         },
         "name": "59"
        },
        {
         "data": [
          {
           "name": "Free Nodes",
           "type": "scatter3d",
           "x": {
            "bdata": "Y0cCrLXEmL94pQGBgjHwP3LBurB0yIg/OL/SgEDBiL8LCbDWEmPwPxEVPS3enO8/",
            "dtype": "f8"
           },
           "y": {
            "bdata": "uccVT+vLmL+8xa4VVMiIP1/5EAWfMfA/xs+uFVTIiD9pxRVP68uYv2H5EAWfMfA/",
            "dtype": "f8"
           },
           "z": {
            "bdata": "vN+mpqHPmL8uQIG1UDXZP3SYG+4hM9k/lTqT+Par2T+WdD/kIDfqP3Pi+L8lrtk/",
            "dtype": "f8"
           }
          },
          {
           "name": "Fixed Nodes",
           "type": "scatter3d",
           "x": [],
           "y": [],
           "z": []
          },
          {
           "name": "Edges",
           "type": "scatter3d",
           "x": [
            1.012087348872539,
            0.012101089137417562,
            null,
            0.012101089137417562,
            -0.024187887786474415,
            null,
            -0.024187887786474415,
            1.012087348872539,
            null,
            1.0241878877864703,
            0.987898910862585,
            null,
            0.987898910862585,
            -0.012087348872540468,
            null,
            -0.012087348872540468,
            1.0241878877864703,
            null
           ],
           "y": [
            0.012100846206382403,
            1.0121145437147658,
            null,
            1.0121145437147658,
            -0.024215389921159878,
            null,
            -0.024215389921159878,
            0.012100846206382403,
            null,
            -0.024215389921157824,
            1.0121145437147663,
            null,
            1.0121145437147663,
            0.012100846206386861,
            null,
            0.012100846206386861,
            -0.024215389921157824,
            null
           ],
           "z": [
            0.39387910580717544,
            0.393745882537025,
            null,
            0.393745882537025,
            -0.024229551121351042,
            null,
            -0.024229551121351042,
            0.39387910580717544,
            null,
            0.8192295511213554,
            0.4012541174629753,
            null,
            0.4012541174629753,
            0.4011208941928229,
            null,
            0.4011208941928229,
            0.8192295511213554,
            null
           ]
          },
          {
           "i": [
            0,
            3
           ],
           "j": [
            1,
            4
           ],
           "k": [
            2,
            5
           ],
           "name": "Faces",
           "type": "mesh3d",
           "x": {
            "bdata": "Y0cCrLXEmL94pQGBgjHwP3LBurB0yIg/OL/SgEDBiL8LCbDWEmPwPxEVPS3enO8/",
            "dtype": "f8"
           },
           "y": {
            "bdata": "uccVT+vLmL+8xa4VVMiIP1/5EAWfMfA/xs+uFVTIiD9pxRVP68uYv2H5EAWfMfA/",
            "dtype": "f8"
           },
           "z": {
            "bdata": "vN+mpqHPmL8uQIG1UDXZP3SYG+4hM9k/lTqT+Par2T+WdD/kIDfqP3Pi+L8lrtk/",
            "dtype": "f8"
           }
          }
         ],
         "layout": {
          "annotations": [
           {
            "showarrow": false,
            "text": "Time: 0.60s (Step: 61/100)",
            "x": 0.05,
            "xref": "paper",
            "y": 0.95,
            "yref": "paper"
           }
          ]
         },
         "name": "60"
        },
        {
         "data": [
          {
           "name": "Free Nodes",
           "type": "scatter3d",
           "x": {
            "bdata": "pNKclWZOmb81BZTBlTLwPw0fOQA4Uok/S54CyuBKib83c1aaOWXwP5gb/x+3mu8/",
            "dtype": "f8"
           },
           "y": {
            "bdata": "9L9/kr9Vmb9DrpvdFlKJP27HjtCyMvA/qLib3RZSiT/YvX+Sv1WZv3HHjtCyMvA/",
            "dtype": "f8"
           },
           "z": {
            "bdata": "e3wK4sVbmb8aI1JBVwvZP4kRMc8aCdk/Vp+j5wSE2T9UNYtDjBLqPwuxxFlBhtk/",
            "dtype": "f8"
           }
          },
          {
           "name": "Fixed Nodes",
           "type": "scatter3d",
           "x": [],
           "y": [],
           "z": []
          },
          {
           "name": "Edges",
           "type": "scatter3d",
           "x": [
            1.0123498498581516,
            0.012363851076897992,
            null,
            0.012363851076897992,
            -0.02471313751375938,
            null,
            -0.02471313751375938,
            1.0123498498581516,
            null,
            1.024713137513755,
            0.9876361489231043,
            null,
            0.9876361489231043,
            -0.012349849858153258,
            null,
            -0.012349849858153258,
            1.024713137513755,
            null
           ],
           "y": [
            0.012363604200309136,
            1.0123775622164106,
            null,
            1.0123775622164106,
            -0.02474116641673159,
            null,
            -0.02474116641673159,
            0.012363604200309136,
            null,
            -0.024741166416729715,
            1.0123775622164113,
            null,
            1.0123775622164113,
            0.012363604200313752,
            null,
            0.012363604200313752,
            -0.024741166416729715,
            null
           ],
           "z": [
            0.39131718996991227,
            0.39118070825158974,
            null,
            0.39118070825158974,
            -0.024764148637242727,
            null,
            -0.024764148637242727,
            0.39131718996991227,
            null,
            0.8147641486372472,
            0.3988192917484105,
            null,
            0.3988192917484105,
            0.398682810030086,
            null,
            0.398682810030086,
            0.8147641486372472,
            null
           ]
          },
          {
           "i": [
            0,
            3
           ],
           "j": [
            1,
            4
           ],
           "k": [
            2,
            5
           ],
           "name": "Faces",
           "type": "mesh3d",
           "x": {
            "bdata": "pNKclWZOmb81BZTBlTLwPw0fOQA4Uok/S54CyuBKib83c1aaOWXwP5gb/x+3mu8/",
            "dtype": "f8"
           },
           "y": {
            "bdata": "9L9/kr9Vmb9DrpvdFlKJP27HjtCyMvA/qLib3RZSiT/YvX+Sv1WZv3HHjtCyMvA/",
            "dtype": "f8"
           },
           "z": {
            "bdata": "e3wK4sVbmb8aI1JBVwvZP4kRMc8aCdk/Vp+j5wSE2T9UNYtDjBLqPwuxxFlBhtk/",
            "dtype": "f8"
           }
          }
         ],
         "layout": {
          "annotations": [
           {
            "showarrow": false,
            "text": "Time: 0.61s (Step: 62/100)",
            "x": 0.05,
            "xref": "paper",
            "y": 0.95,
            "yref": "paper"
           }
          ]
         },
         "name": "61"
        },
        {
         "data": [
          {
           "name": "Free Nodes",
           "type": "scatter3d",
           "x": {
            "bdata": "lgxjwWvXmb+W5h2rpzPwPyAITlhP24k/bE/zjtXTib8ejAWvXWfwP/LHnsKSmO8/",
            "dtype": "f8"
           },
           "y": {
            "bdata": "TuVcqefemb/VXMGyLduJP6XwP0PFM/A/gWfBsi3biT8C41yp596Zv6jwP0PFM/A/",
            "dtype": "f8"
           },
           "z": {
            "bdata": "r04hxGXnmb8EwrurWeHYP/gBGYwP39g/GUgb+BZc2T+9jwyA8+3pP0wIvhdhXtk/",
            "dtype": "f8"
           }
          },
          {
           "name": "Fixed Nodes",
           "type": "scatter3d",
           "x": [],
           "y": [],
           "z": []
          },
          {
           "name": "Edges",
           "type": "scatter3d",
           "x": [
            1.0126110729455937,
            0.012625331766461356,
            null,
            0.012625331766461356,
            -0.025235828092956845,
            null,
            -0.025235828092956845,
            1.0126110729455937,
            null,
            1.0252358280929523,
            0.9873746682335407,
            null,
            0.9873746682335407,
            -0.012611072945595679,
            null,
            -0.012611072945595679,
            1.0252358280929523,
            null
           ],
           "y": [
            0.012625081079177406,
            1.0126392962402317,
            null,
            1.0126392962402317,
            -0.025264377319421265,
            null,
            -0.025264377319421265,
            0.012625081079177406,
            null,
            -0.025264377319419225,
            1.0126392962402324,
            null,
            1.0126392962402324,
            0.012625081079182145,
            null,
            0.012625081079182145,
            -0.025264377319419225,
            null
           ],
           "z": [
            0.38875428934900946,
            0.3886145465985744,
            null,
            0.3886145465985744,
            -0.02529677400191471,
            null,
            -0.02529677400191471,
            0.38875428934900946,
            null,
            0.8102967740019192,
            0.39638545340142595,
            null,
            0.39638545340142595,
            0.39624571065098874,
            null,
            0.39624571065098874,
            0.8102967740019192,
            null
           ]
          },
          {
           "i": [
            0,
            3
           ],
           "j": [
            1,
            4
           ],
           "k": [
            2,
            5
           ],
           "name": "Faces",
           "type": "mesh3d",
           "x": {
            "bdata": "lgxjwWvXmb+W5h2rpzPwPyAITlhP24k/bE/zjtXTib8ejAWvXWfwP/LHnsKSmO8/",
            "dtype": "f8"
           },
           "y": {
            "bdata": "TuVcqefemb/VXMGyLduJP6XwP0PFM/A/gWfBsi3biT8C41yp596Zv6jwP0PFM/A/",
            "dtype": "f8"
           },
           "z": {
            "bdata": "r04hxGXnmb8EwrurWeHYP/gBGYwP39g/GUgb+BZc2T+9jwyA8+3pP0wIvhdhXtk/",
            "dtype": "f8"
           }
          }
         ],
         "layout": {
          "annotations": [
           {
            "showarrow": false,
            "text": "Time: 0.62s (Step: 63/100)",
            "x": 0.05,
            "xref": "paper",
            "y": 0.95,
            "yref": "paper"
           }
          ]
         },
         "name": "62"
        },
        {
         "data": [
          {
           "name": "Free Nodes",
           "type": "scatter3d",
           "x": {
            "bdata": "I7Mq8MRfmr/xPyE9uDTwP0fNqXm6Y4o/hv2fkB5cir+2qsATf2nwP91YGRZxlu8/",
            "dtype": "f8"
           },
           "y": {
            "bdata": "bi1VVGNnmr9vSu1VmGOKP+l5pVzWNPA/AFXtVZhjij/FKlVUY2eav+x5pVzWNPA/",
            "dtype": "f8"
           },
           "z": {
            "bdata": "4Wrw84Fymr/W6PT5V7fYPx/vDCoAtdg/9mjDJC002T91rPueVsnpP9Ziq/SENtk/",
            "dtype": "f8"
           }
          },
          {
           "name": "Fixed Nodes",
           "type": "scatter3d",
           "x": [],
           "y": [],
           "z": []
          },
          {
           "name": "Edges",
           "type": "scatter3d",
           "x": [
            1.0128710163007748,
            0.012885529363507188,
            null,
            0.012885529363507188,
            -0.025755955847375788,
            null,
            -0.025755955847375788,
            1.0128710163007748,
            null,
            1.0257559558473708,
            0.9871144706364948,
            null,
            0.9871144706364948,
            -0.012871016300777038,
            null,
            -0.012871016300777038,
            1.0257559558473708,
            null
           ],
           "y": [
            0.012885275003701594,
            1.0128997439384142,
            null,
            1.0128997439384142,
            -0.025785018942128195,
            null,
            -0.025785018942128195,
            0.012885275003701594,
            null,
            -0.025785018942125832,
            1.0128997439384149,
            null,
            1.0128997439384149,
            0.012885275003706287,
            null,
            0.012885275003706287,
            -0.025785018942125832,
            null
           ],
           "z": [
            0.38619040880042854,
            0.386047402443852,
            null,
            0.386047402443852,
            -0.025827436937201468,
            null,
            -0.025827436937201468,
            0.38619040880042854,
            null,
            0.8058274369372059,
            0.39395259755614853,
            null,
            0.39395259755614853,
            0.3938095911995697,
            null,
            0.3938095911995697,
            0.8058274369372059,
            null
           ]
          },
          {
           "i": [
            0,
            3
           ],
           "j": [
            1,
            4
           ],
           "k": [
            2,
            5
           ],
           "name": "Faces",
           "type": "mesh3d",
           "x": {
            "bdata": "I7Mq8MRfmr/xPyE9uDTwP0fNqXm6Y4o/hv2fkB5cir+2qsATf2nwP91YGRZxlu8/",
            "dtype": "f8"
           },
           "y": {
            "bdata": "bi1VVGNnmr9vSu1VmGOKP+l5pVzWNPA/AFXtVZhjij/FKlVUY2eav+x5pVzWNPA/",
            "dtype": "f8"
           },
           "z": {
            "bdata": "4Wrw84Fymr/W6PT5V7fYPx/vDCoAtdg/9mjDJC002T91rPueVsnpP9Ziq/SENtk/",
            "dtype": "f8"
           }
          }
         ],
         "layout": {
          "annotations": [
           {
            "showarrow": false,
            "text": "Time: 0.63s (Step: 64/100)",
            "x": 0.05,
            "xref": "paper",
            "y": 0.95,
            "yref": "paper"
           }
          ]
         },
         "name": "63"
        },
        {
         "data": [
          {
           "name": "Free Nodes",
           "type": "scatter3d",
           "x": {
            "bdata": "Dpka43Hnmr+YqSB3xzXwPxrrTSV564o/69FUkLvjir9NaozHnWvwP2LIahtSlO8/",
            "dtype": "f8"
           },
           "y": {
            "bdata": "LehhVDLvmr9UMD6IVuuKPwcLQRzmNfA/kDs+iFbrij+k5WFUMu+avwoLQRzmNfA/",
            "dtype": "f8"
           },
           "z": {
            "bdata": "xgm5GBv9mr/GQjYxUo3YP1RBSK7sitg/slZjaEcM2T9GlZKltaTpP1BYUeusDtk/",
            "dtype": "f8"
           }
          },
          {
           "name": "Fixed Nodes",
           "type": "scatter3d",
           "x": [],
           "y": [],
           "z": []
          },
          {
           "name": "Edges",
           "type": "scatter3d",
           "x": [
            1.013129678098812,
            0.013144442034663185,
            null,
            0.013144442034663185,
            -0.026273517118760963,
            null,
            -0.026273517118760963,
            1.013129678098812,
            null,
            1.0262735171187558,
            0.9868555579653384,
            null,
            0.9868555579653384,
            -0.013129678098814565,
            null,
            -0.013129678098814565,
            1.0262735171187558,
            null
           ],
           "y": [
            0.013144184143833261,
            1.0131589034724031,
            null,
            1.0131589034724031,
            -0.026303087616249044,
            null,
            -0.026303087616249044,
            0.013144184143833261,
            null,
            -0.026303087616246792,
            1.0131589034724038,
            null,
            1.0131589034724038,
            0.01314418414383825,
            null,
            0.01314418414383825,
            -0.026303087616246792,
            null
           ],
           "z": [
            0.38362555318694225,
            0.3834792806601588,
            null,
            0.3834792806601588,
            -0.02635614717861203,
            null,
            -0.02635614717861203,
            0.38362555318694225,
            null,
            0.8013561471786168,
            0.3915207193398418,
            null,
            0.3915207193398418,
            0.3913744468130559,
            null,
            0.3913744468130559,
            0.8013561471786168,
            null
           ]
          },
          {
           "i": [
            0,
            3
           ],
           "j": [
            1,
            4
           ],
           "k": [
            2,
            5
           ],
           "name": "Faces",
           "type": "mesh3d",
           "x": {
            "bdata": "Dpka43Hnmr+YqSB3xzXwPxrrTSV564o/69FUkLvjir9NaozHnWvwP2LIahtSlO8/",
            "dtype": "f8"
           },
           "y": {
            "bdata": "LehhVDLvmr9UMD6IVuuKPwcLQRzmNfA/kDs+iFbrij+k5WFUMu+avwoLQRzmNfA/",
            "dtype": "f8"
           },
           "z": {
            "bdata": "xgm5GBv9mr/GQjYxUo3YP1RBSK7sitg/slZjaEcM2T9GlZKltaTpP1BYUeusDtk/",
            "dtype": "f8"
           }
          }
         ],
         "layout": {
          "annotations": [
           {
            "showarrow": false,
            "text": "Time: 0.64s (Step: 65/100)",
            "x": 0.05,
            "xref": "paper",
            "y": 0.95,
            "yref": "paper"
           }
          ]
         },
         "name": "64"
        },
        {
         "data": [
          {
           "name": "Free Nodes",
           "type": "scatter3d",
           "x": {
            "bdata": "HMWqW3Jum78SXp9Y1TbwP7QrjRyLcos/Rg+vT6xqi7/7qm7JuW3wP13LjdM1ku8/",
            "dtype": "f8"
           },
           "y": {
            "bdata": "Sd7NalR2m79fKSQLaHKLP+zulIH0NvA/4DQkC2hyiz/j281qVHabv/DulIH0NvA/",
            "dtype": "f8"
           },
           "z": {
            "bdata": "DTv42TGHm7/vV7pWSGPYP3dBCB7VYNg/OInAvWXk2D+pMg2ZEIDpP9yfcvbY5tg/",
            "dtype": "f8"
           }
          },
          {
           "name": "Fixed Nodes",
           "type": "scatter3d",
           "x": [],
           "y": [],
           "z": []
          },
          {
           "name": "Edges",
           "type": "scatter3d",
           "x": [
            1.0133870565240426,
            0.013402067955800102,
            null,
            0.013402067955800102,
            -0.026788508267320585,
            null,
            -0.026788508267320585,
            1.0133870565240426,
            null,
            1.026788508267315,
            0.9865979320442012,
            null,
            0.9865979320442012,
            -0.013387056524045381,
            null,
            -0.013387056524045381,
            1.026788508267315,
            null
           ],
           "y": [
            0.013401806678775939,
            1.0134167730129162,
            null,
            1.0134167730129162,
            -0.026818579691705122,
            null,
            -0.026818579691705122,
            0.013401806678775939,
            null,
            -0.026818579691702992,
            1.013416773012917,
            null,
            1.013416773012917,
            0.013401806678781047,
            null,
            0.013401806678781047,
            -0.026818579691702992,
            null
           ],
           "z": [
            0.3810597273781004,
            0.38091018612706,
            null,
            0.38091018612706,
            -0.02688291447526141,
            null,
            -0.02688291447526141,
            0.3810597273781004,
            null,
            0.7968829144752664,
            0.3890898138729406,
            null,
            0.3890898138729406,
            0.3889402726218978,
            null,
            0.3889402726218978,
            0.7968829144752664,
            null
           ]
          },
          {
           "i": [
            0,
            3
           ],
           "j": [
            1,
            4
           ],
           "k": [
            2,
            5
           ],
           "name": "Faces",
           "type": "mesh3d",
           "x": {
            "bdata": "HMWqW3Jum78SXp9Y1TbwP7QrjRyLcos/Rg+vT6xqi7/7qm7JuW3wP13LjdM1ku8/",
            "dtype": "f8"
           },
           "y": {
            "bdata": "Sd7NalR2m79fKSQLaHKLP+zulIH0NvA/4DQkC2hyiz/j281qVHabv/DulIH0NvA/",
            "dtype": "f8"
           },
           "z": {
            "bdata": "DTv42TGHm7/vV7pWSGPYP3dBCB7VYNg/OInAvWXk2D+pMg2ZEIDpP9yfcvbY5tg/",
            "dtype": "f8"
           }
          }
         ],
         "layout": {
          "annotations": [
           {
            "showarrow": false,
            "text": "Time: 0.65s (Step: 66/100)",
            "x": 0.05,
            "xref": "paper",
            "y": 0.95,
            "yref": "paper"
           }
          ]
         },
         "name": "65"
        },
        {
         "data": [
          {
           "name": "Free Nodes",
           "type": "scatter3d",
           "x": {
            "bdata": "7oqkG8b0m79OOiHh4TfwP8e+CyHw+Is/ii6dkPDwi78Rkm4Y02/wPw/Rez8ckO8/",
            "dtype": "f8"
           },
           "y": {
            "bdata": "gWs1Wcn8m7+9yWCgzPiLP98TJIwBOPA/UtVgoMz4iz/VaDVZyfybv+MTJIwBOPA/",
            "dtype": "f8"
           },
           "z": {
            "bdata": "DZRm38YQnL/Dir1vOjnYP2oWjH65Ntg/EZ6eH4i82D9JSal+Z1vpP5oS0BAJv9g/",
            "dtype": "f8"
           }
          },
          {
           "name": "Fixed Nodes",
           "type": "scatter3d",
           "x": [],
           "y": [],
           "z": []
          },
          {
           "name": "Edges",
           "type": "scatter3d",
           "x": [
            1.013643149770036,
            0.013658405312042444,
            null,
            0.013658405312042444,
            -0.027300925671748404,
            null,
            -0.027300925671748404,
            1.013643149770036,
            null,
            1.0273009256717425,
            0.9863415946879587,
            null,
            0.9863415946879587,
            -0.013643149770039349,
            null,
            -0.013643149770039349,
            1.0273009256717425,
            null
           ],
           "y": [
            0.013658140796995672,
            1.0136733507399567,
            null,
            1.0136733507399567,
            -0.027331491536965572,
            null,
            -0.027331491536965572,
            0.013658140796995672,
            null,
            -0.0273314915369632,
            1.0136733507399576,
            null,
            1.0136733507399576,
            0.013658140797000815,
            null,
            0.013658140797000815,
            -0.0273314915369632,
            null
           ],
           "z": [
            0.3784929362501936,
            0.37834012373091375,
            null,
            0.37834012373091375,
            -0.027407748589798376,
            null,
            -0.027407748589798376,
            0.3784929362501936,
            null,
            0.7924077485898035,
            0.38665987626908704,
            null,
            0.38665987626908704,
            0.38650706374980454,
            null,
            0.38650706374980454,
            0.7924077485898035,
            null
           ]
          },
          {
           "i": [
            0,
            3
           ],
           "j": [
            1,
            4
           ],
           "k": [
            2,
            5
           ],
           "name": "Faces",
           "type": "mesh3d",
           "x": {
            "bdata": "7oqkG8b0m79OOiHh4TfwP8e+CyHw+Is/ii6dkPDwi78Rkm4Y02/wPw/Rez8ckO8/",
            "dtype": "f8"
           },
           "y": {
            "bdata": "gWs1Wcn8m7+9yWCgzPiLP98TJIwBOPA/UtVgoMz4iz/VaDVZyfybv+MTJIwBOPA/",
            "dtype": "f8"
           },
           "z": {
            "bdata": "DZRm38YQnL/Dir1vOjnYP2oWjH65Ntg/EZ6eH4i82D9JSal+Z1vpP5oS0BAJv9g/",
            "dtype": "f8"
           }
          }
         ],
         "layout": {
          "annotations": [
           {
            "showarrow": false,
            "text": "Time: 0.66s (Step: 67/100)",
            "x": 0.05,
            "xref": "paper",
            "y": 0.95,
            "yref": "paper"
           }
          ]
         },
         "name": "66"
        },
        {
         "data": [
          {
           "name": "Free Nodes",
           "type": "scatter3d",
           "x": {
            "bdata": "zqki5Wx6nL/ivSoQ7TjwP+xXv/Snfow/EvleFYh2jL+KipSz6XHwP6gCLWAFju8/",
            "dtype": "f8"
           },
           "y": {
            "bdata": "rJuG4ZCCnL8jPQcKhH6MP7gLcjsNOfA/80gHCoR+jD/dmIbhkIKcv7wLcjsNOfA/",
            "dtype": "f8"
           },
           "z": {
            "bdata": "1+H30NqZnL+kFX6BKA/YP5zCFNWZDNg/31q/iK6U2D+Pd6ZbujbpPxiuKDU9l9g/",
            "dtype": "f8"
           }
          },
          {
           "name": "Fixed Nodes",
           "type": "scatter3d",
           "x": [],
           "y": [],
           "z": []
          },
          {
           "name": "Edges",
           "type": "scatter3d",
           "x": [
            1.013897956039607,
            0.013913452297781924,
            null,
            0.013913452297781924,
            -0.027810765729251057,
            null,
            -0.027810765729251057,
            1.013897956039607,
            null,
            1.0278107657292446,
            0.9860865477022189,
            null,
            0.9860865477022189,
            -0.013897956039610668,
            null,
            -0.013897956039610668,
            1.0278107657292446,
            null
           ],
           "y": [
            0.013913184696234432,
            1.0139286348428254,
            null,
            1.0139286348428254,
            -0.027841819539073207,
            null,
            -0.027841819539073207,
            0.013913184696234432,
            null,
            -0.027841819539070712,
            1.0139286348428262,
            null,
            1.0139286348428262,
            0.013913184696239677,
            null,
            0.013913184696239677,
            -0.027841819539070712,
            null
           ],
           "z": [
            0.37592518468621905,
            0.3757690983648361,
            null,
            0.3757690983648361,
            -0.027930659298336238,
            null,
            -0.027930659298336238,
            0.37592518468621905,
            null,
            0.7879306592983414,
            0.3842309016351648,
            null,
            0.3842309016351648,
            0.3840748153137791,
            null,
            0.3840748153137791,
            0.7879306592983414,
            null
           ]
          },
          {
           "i": [
            0,
            3
           ],
           "j": [
            1,
            4
           ],
           "k": [
            2,
            5
           ],
           "name": "Faces",
           "type": "mesh3d",
           "x": {
            "bdata": "zqki5Wx6nL/ivSoQ7TjwP+xXv/Snfow/EvleFYh2jL+KipSz6XHwP6gCLWAFju8/",
            "dtype": "f8"
           },
           "y": {
            "bdata": "rJuG4ZCCnL8jPQcKhH6MP7gLcjsNOfA/80gHCoR+jD/dmIbhkIKcv7wLcjsNOfA/",
            "dtype": "f8"
           },
           "z": {
            "bdata": "1+H30NqZnL+kFX6BKA/YP5zCFNWZDNg/31q/iK6U2D+Pd6ZbujbpPxiuKDU9l9g/",
            "dtype": "f8"
           }
          }
         ],
         "layout": {
          "annotations": [
           {
            "showarrow": false,
            "text": "Time: 0.67s (Step: 68/100)",
            "x": 0.05,
            "xref": "paper",
            "y": 0.95,
            "yref": "paper"
           }
          ]
         },
         "name": "67"
        },
        {
         "data": [
          {
           "name": "Free Nodes",
           "type": "scatter3d",
           "x": {
            "bdata": "bWeRemb/nL8+C0Hl9jnwP5BK71myA40/sKeFoHL7jL9/ReqZ/XPwP9pCmDbxi+8/",
            "dtype": "f8"
           },
           "y": {
            "bdata": "2EYBxqoHnb9fYnwKjgONPxkMA48XOvA/km58Co4DjT88RAHGqgedvx4MA48XOvA/",
            "dtype": "f8"
           },
           "z": {
            "bdata": "ZNnaVm4inb9iCDyREuXXP44h5SZ24tc/0K/i89hs2D8kM0Y1CRLpP9SWOV51b9g/",
            "dtype": "f8"
           }
          },
          {
           "name": "Fixed Nodes",
           "type": "scatter3d",
           "x": [],
           "y": [],
           "z": []
          },
          {
           "name": "Edges",
           "type": "scatter3d",
           "x": [
            1.0141514735448278,
            0.014167207116689867,
            null,
            0.014167207116689867,
            -0.028318024855571822,
            null,
            -0.028318024855571822,
            1.0141514735448278,
            null,
            1.028318024855565,
            0.9858327928833106,
            null,
            0.9858327928833106,
            -0.014151473544831678,
            null,
            -0.014151473544831678,
            1.028318024855565,
            null
           ],
           "y": [
            0.014166936583522359,
            1.0141826235201334,
            null,
            1.0141826235201334,
            -0.028349560103669486,
            null,
            -0.028349560103669486,
            0.014166936583522359,
            null,
            -0.028349560103667168,
            1.0141826235201346,
            null,
            1.0141826235201346,
            0.014166936583527776,
            null,
            0.014166936583527776,
            -0.028349560103667168,
            null
           ],
           "z": [
            0.373356477575845,
            0.3731971149286658,
            null,
            0.3731971149286658,
            -0.028451656390381955,
            null,
            -0.028451656390381955,
            0.373356477575845,
            null,
            0.7834516563903873,
            0.3818028850713351,
            null,
            0.3818028850713351,
            0.3816435224241532,
            null,
            0.3816435224241532,
            0.7834516563903873,
            null
           ]
          },
          {
           "i": [
            0,
            3
           ],
           "j": [
            1,
            4
           ],
           "k": [
            2,
            5
           ],
           "name": "Faces",
           "type": "mesh3d",
           "x": {
            "bdata": "bWeRemb/nL8+C0Hl9jnwP5BK71myA40/sKeFoHL7jL9/ReqZ/XPwP9pCmDbxi+8/",
            "dtype": "f8"
           },
           "y": {
            "bdata": "2EYBxqoHnb9fYnwKjgONPxkMA48XOvA/km58Co4DjT88RAHGqgedvx4MA48XOvA/",
            "dtype": "f8"
           },
           "z": {
            "bdata": "ZNnaVm4inb9iCDyREuXXP44h5SZ24tc/0K/i89hs2D8kM0Y1CRLpP9SWOV51b9g/",
            "dtype": "f8"
           }
          }
         ],
         "layout": {
          "annotations": [
           {
            "showarrow": false,
            "text": "Time: 0.68s (Step: 69/100)",
            "x": 0.05,
            "xref": "paper",
            "y": 0.95,
            "yref": "paper"
           }
          ]
         },
         "name": "68"
        },
        {
         "data": [
          {
           "name": "Free Nodes",
           "type": "scatter3d",
           "x": {
            "bdata": "kquunrKDnb/j5+lf/zrwP9alNBMPiI0/7/rz9K9/jb+OunrKDnbwP2ots8Pfie8/",
            "dtype": "f8"
           },
           "y": {
            "bdata": "hi03yRaMnb/w5nZk6oeNP6nuW4YgO/A/c/N2ZOqHjT/NKjfJFoydv67uW4YgO/A/",
            "dtype": "f8"
           },
           "z": {
            "bdata": "LMh4GYKqnb++RTmk+LrXP1blQXlOuNc/IrrGWwdF2D9yxssQVO3oP7wavoaxR9g/",
            "dtype": "f8"
           }
          },
          {
           "name": "Fixed Nodes",
           "type": "scatter3d",
           "x": [],
           "y": [],
           "z": []
          },
          {
           "name": "Edges",
           "type": "scatter3d",
           "x": [
            1.0144037005070394,
            0.014419667981729594,
            null,
            0.014419667981729594,
            -0.02882269948501521,
            null,
            -0.02882269948501521,
            1.0144037005070394,
            null,
            1.028822699485008,
            0.9855803320182706,
            null,
            0.9855803320182706,
            -0.014403700507043619,
            null,
            -0.014403700507043619,
            1.028822699485008,
            null
           ],
           "y": [
            0.014419394675190017,
            1.0144353149798155,
            null,
            1.0144353149798155,
            -0.028854709655019593,
            null,
            -0.028854709655019593,
            0.014419394675190017,
            null,
            -0.028854709655017175,
            1.0144353149798166,
            null,
            1.0144353149798166,
            0.014419394675195573,
            null,
            0.014419394675195573,
            -0.028854709655017175,
            null
           ],
           "z": [
            0.3707868198153753,
            0.37062417832892913,
            null,
            0.37062417832892913,
            -0.028970749668765602,
            null,
            -0.028970749668765602,
            0.3707868198153753,
            null,
            0.778970749668771,
            0.37937582167107187,
            null,
            0.37937582167107187,
            0.3792131801846229,
            null,
            0.3792131801846229,
            0.778970749668771,
            null
           ]
          },
          {
           "i": [
            0,
            3
           ],
           "j": [
            1,
            4
           ],
           "k": [
            2,
            5
           ],
           "name": "Faces",
           "type": "mesh3d",
           "x": {
            "bdata": "kquunrKDnb/j5+lf/zrwP9alNBMPiI0/7/rz9K9/jb+OunrKDnbwP2ots8Pfie8/",
            "dtype": "f8"
           },
           "y": {
            "bdata": "hi03yRaMnb/w5nZk6oeNP6nuW4YgO/A/c/N2ZOqHjT/NKjfJFoydv67uW4YgO/A/",
            "dtype": "f8"
           },
           "z": {
            "bdata": "LMh4GYKqnb++RTmk+LrXP1blQXlOuNc/IrrGWwdF2D9yxssQVO3oP7wavoaxR9g/",
            "dtype": "f8"
           }
          }
         ],
         "layout": {
          "annotations": [
           {
            "showarrow": false,
            "text": "Time: 0.69s (Step: 70/100)",
            "x": 0.05,
            "xref": "paper",
            "y": 0.95,
            "yref": "paper"
           }
          ]
         },
         "name": "69"
        },
        {
         "data": [
          {
           "name": "Free Nodes",
           "type": "scatter3d",
           "x": {
            "bdata": "KRyKFFEHnr+cvKt/BjzwP+ZPeuO9C44/pVje1T8Djr9PKFJEHXjwP78WcgjRh+8/",
            "dtype": "f8"
           },
           "y": {
            "bdata": "HxMMrtQPnr85Yv/amAuOP0cxAiEoPPA/8W7/2pgLjj9AEAyu1A+ev0wxAiEoPPA/",
            "dtype": "f8"
           },
           "z": {
            "bdata": "PER1wRYynr/zgLm/2pDXPxqUcdEijtc/msYnuzkd2D8qTnzzmsjoP6mzb6nxH9g/",
            "dtype": "f8"
           }
          },
          {
           "name": "Fixed Nodes",
           "type": "scatter3d",
           "x": [],
           "y": [],
           "z": []
          },
          {
           "name": "Edges",
           "type": "scatter3d",
           "x": [
            1.014654635156865,
            0.014670833115168546,
            null,
            0.014670833115168546,
            -0.029324786070471873,
            null,
            -0.029324786070471873,
            1.014654635156865,
            null,
            1.0293247860704644,
            0.9853291668848313,
            null,
            0.9853291668848313,
            -0.014654635156869775,
            null,
            -0.014654635156869775,
            1.0293247860704644,
            null
           ],
           "y": [
            0.014670557196880473,
            1.014686707439141,
            null,
            1.014686707439141,
            -0.029357264636035937,
            null,
            -0.029357264636035937,
            0.014670557196880473,
            null,
            -0.029357264636033387,
            1.0146867074391421,
            null,
            1.0146867074391421,
            0.014670557196886121,
            null,
            0.014670557196886121,
            -0.029357264636033387,
            null
           ],
           "z": [
            0.36821621630771445,
            0.3680502934788038,
            null,
            0.3680502934788038,
            -0.029487948949569395,
            null,
            -0.029487948949569395,
            0.36821621630771445,
            null,
            0.7744879489495748,
            0.37694970652119736,
            null,
            0.37694970652119736,
            0.3767837836922837,
            null,
            0.3767837836922837,
            0.7744879489495748,
            null
           ]
          },
          {
           "i": [
            0,
            3
           ],
           "j": [
            1,
            4
           ],
           "k": [
            2,
            5
           ],
           "name": "Faces",
           "type": "mesh3d",
           "x": {
            "bdata": "KRyKFFEHnr+cvKt/BjzwP+ZPeuO9C44/pVje1T8Djr9PKFJEHXjwP78WcgjRh+8/",
            "dtype": "f8"
           },
           "y": {
            "bdata": "HxMMrtQPnr85Yv/amAuOP0cxAiEoPPA/8W7/2pgLjj9AEAyu1A+ev0wxAiEoPPA/",
            "dtype": "f8"
           },
           "z": {
            "bdata": "PER1wRYynr/zgLm/2pDXPxqUcdEijtc/msYnuzkd2D8qTnzzmsjoP6mzb6nxH9g/",
            "dtype": "f8"
           }
          }
         ],
         "layout": {
          "annotations": [
           {
            "showarrow": false,
            "text": "Time: 0.70s (Step: 71/100)",
            "x": 0.05,
            "xref": "paper",
            "y": 0.95,
            "yref": "paper"
           }
          ]
         },
         "name": "70"
        },
        {
         "data": [
          {
           "name": "Free Nodes",
           "type": "scatter3d",
           "x": {
            "bdata": "BTmFn0GKnr+2lQ1EDD3wPwMi/Y2+jo4/iebKBiKGjr/BFH4GKXrwP3MLyAXFhe8/",
            "dtype": "f8"
           },
           "y": {
            "bdata": "mdq1N+SSnr9HcXAxmY6OP0X2e14uPfA/YH5wMZmOjj+u17U35JKev0r2e14uPfA/",
            "dtype": "f8"
           },
           "z": {
            "bdata": "/tyt9yy5nr86OwLpuGbXP5eFvDTzY9c/AVTADHD11z/Itp7i3aPoP9wJBsE1+Nc/",
            "dtype": "f8"
           }
          },
          {
           "name": "Fixed Nodes",
           "type": "scatter3d",
           "x": [],
           "y": [],
           "z": []
          },
          {
           "name": "Edges",
           "type": "scatter3d",
           "x": [
            1.0149042757342221,
            0.014920700748590759,
            null,
            0.014920700748590759,
            -0.029824281083443278,
            null,
            -0.029824281083443278,
            1.0149042757342221,
            null,
            1.0298242810834355,
            0.9850792992514087,
            null,
            0.9850792992514087,
            -0.014904275734227273,
            null,
            -0.014904275734227273,
            1.0298242810834355,
            null
           ],
           "y": [
            0.014920422383561628,
            1.0149367991247271,
            null,
            1.0149367991247271,
            -0.029857221508303586,
            null,
            -0.029857221508303586,
            0.014920422383561628,
            null,
            -0.029857221508300995,
            1.0149367991247282,
            null,
            1.0149367991247282,
            0.014920422383567444,
            null,
            0.014920422383567444,
            -0.029857221508300995,
            null
           ],
           "z": [
            0.3656446719623322,
            0.365475465298084,
            null,
            0.365475465298084,
            -0.030003264062057326,
            null,
            -0.030003264062057326,
            0.3656446719623322,
            null,
            0.7700032640620629,
            0.37452453470191727,
            null,
            0.37452453470191727,
            0.37435532803766597,
            null,
            0.37435532803766597,
            0.7700032640620629,
            null
           ]
          },
          {
           "i": [
            0,
            3
           ],
           "j": [
            1,
            4
           ],
           "k": [
            2,
            5
           ],
           "name": "Faces",
           "type": "mesh3d",
           "x": {
            "bdata": "BTmFn0GKnr+2lQ1EDD3wPwMi/Y2+jo4/iebKBiKGjr/BFH4GKXrwP3MLyAXFhe8/",
            "dtype": "f8"
           },
           "y": {
            "bdata": "mdq1N+SSnr9HcXAxmY6OP0X2e14uPfA/YH5wMZmOjj+u17U35JKev0r2e14uPfA/",
            "dtype": "f8"
           },
           "z": {
            "bdata": "/tyt9yy5nr86OwLpuGbXP5eFvDTzY9c/AVTADHD11z/Itp7i3aPoP9wJBsE1+Nc/",
            "dtype": "f8"
           }
          }
         ],
         "layout": {
          "annotations": [
           {
            "showarrow": false,
            "text": "Time: 0.71s (Step: 72/100)",
            "x": 0.05,
            "xref": "paper",
            "y": 0.95,
            "yref": "paper"
           }
          ]
         },
         "name": "71"
        },
        {
         "data": [
          {
           "name": "Free Nodes",
           "type": "scatter3d",
           "x": {
            "bdata": "JXZTA4QMn78wI5esED7wP6METNYQEY8/7aORS1YIj7+zTQ0QMnzwP+bPpry7g+8/",
            "dtype": "f8"
           },
           "y": {
            "bdata": "eqG8KUUVn7+X0nYr6xCPP5wEUD4zPvA/3N92K+sQjz+1nrwpRRWfv6IEUD4zPvA/",
            "dtype": "f8"
           },
           "z": {
            "bdata": "4Mo5ZcU/n79GwVolkzzXP6HgbKi/Odc/pRVJS6rN1z8PunvjHH/oP4H2Nsh90Nc/",
            "dtype": "f8"
           }
          },
          {
           "name": "Fixed Nodes",
           "type": "scatter3d",
           "x": [],
           "y": [],
           "z": []
          },
          {
           "name": "Edges",
           "type": "scatter3d",
           "x": [
            1.0151526204883332,
            0.01516926912290934,
            null,
            0.01516926912290934,
            -0.03032118101406502,
            null,
            -0.03032118101406502,
            1.0151526204883332,
            null,
            1.0303211810140567,
            0.9848307308770898,
            null,
            0.9848307308770898,
            -0.015152620488338509,
            null,
            -0.015152620488338509,
            1.0303211810140567,
            null
           ],
           "y": [
            0.015168988479538554,
            1.0151855882725505,
            null,
            1.0151855882725505,
            -0.03035457675210427,
            null,
            -0.03035457675210427,
            0.015168988479538554,
            null,
            -0.03035457675210181,
            1.0151855882725518,
            null,
            1.0151855882725518,
            0.015168988479544447,
            null,
            0.015168988479544447,
            -0.03035457675210181,
            null
           ],
           "z": [
            0.36307219169522786,
            0.3628996987131448,
            null,
            0.3628996987131448,
            -0.030516704848603804,
            null,
            -0.030516704848603804,
            0.36307219169522786,
            null,
            0.7655167048486095,
            0.3721003012868565,
            null,
            0.3721003012868565,
            0.3719278083047704,
            null,
            0.3719278083047704,
            0.7655167048486095,
            null
           ]
          },
          {
           "i": [
            0,
            3
           ],
           "j": [
            1,
            4
           ],
           "k": [
            2,
            5
           ],
           "name": "Faces",
           "type": "mesh3d",
           "x": {
            "bdata": "JXZTA4QMn78wI5esED7wP6METNYQEY8/7aORS1YIj7+zTQ0QMnzwP+bPpry7g+8/",
            "dtype": "f8"
           },
           "y": {
            "bdata": "eqG8KUUVn7+X0nYr6xCPP5wEUD4zPvA/3N92K+sQjz+1nrwpRRWfv6IEUD4zPvA/",
            "dtype": "f8"
           },
           "z": {
            "bdata": "4Mo5ZcU/n79GwVolkzzXP6HgbKi/Odc/pRVJS6rN1z8PunvjHH/oP4H2Nsh90Nc/",
            "dtype": "f8"
           }
          }
         ],
         "layout": {
          "annotations": [
           {
            "showarrow": false,
            "text": "Time: 0.72s (Step: 73/100)",
            "x": 0.05,
            "xref": "paper",
            "y": 0.95,
            "yref": "paper"
           }
          ]
         },
         "name": "72"
        },
        {
         "data": [
          {
           "name": "Free Nodes",
           "type": "scatter3d",
           "x": {
            "bdata": "1Vf6AxiOn7/5uNC4Ez/wPwYJSIC0ko8/SYlcaNyJj7856Q9gOH7wP9Hf/i21ge8/",
            "dtype": "f8"
           },
           "y": {
            "bdata": "lNv6R/eWn796fxGNjpKPPynIBcA2P/A/HY0RjY6Sjz/V2PpH95afvy/IBcA2P/A/",
            "dtype": "f8"
           },
           "z": {
            "bdata": "759ps+DFn7/MKAx6aRLXP6SYzjGID9c/zfV4ceil1z+Q3F37V1roPy6GtrnJqNc/",
            "dtype": "f8"
           }
          },
          {
           "name": "Fixed Nodes",
           "type": "scatter3d",
           "x": [],
           "y": [],
           "z": []
          },
          {
           "name": "Edges",
           "type": "scatter3d",
           "x": [
            1.0153996676777395,
            0.01541653648837783,
            null,
            0.01541653648837783,
            -0.030815482371131814,
            null,
            -0.030815482371131814,
            1.0153996676777395,
            null,
            1.0308154823711233,
            0.984583463511621,
            null,
            0.984583463511621,
            -0.01539966767774516,
            null,
            -0.01539966767774516,
            1.0308154823711233,
            null
           ],
           "y": [
            0.01541625373846477,
            1.0154330731279606,
            null,
            1.0154330731279606,
            -0.030849326866441,
            null,
            -0.030849326866441,
            0.01541625373846477,
            null,
            -0.03084932686643856,
            1.015433073127962,
            null,
            1.015433073127962,
            0.015416253738470826,
            null,
            0.015416253738470826,
            -0.03084932686643856,
            null
           ],
           "z": [
            0.36049878042889527,
            0.36032299865690676,
            null,
            0.36032299865690676,
            -0.031028281164623136,
            null,
            -0.031028281164623136,
            0.36049878042889527,
            null,
            0.761028281164629,
            0.36967700134309467,
            null,
            0.36967700134309467,
            0.369501219571103,
            null,
            0.369501219571103,
            0.761028281164629,
            null
           ]
          },
          {
           "i": [
            0,
            3
           ],
           "j": [
            1,
            4
           ],
           "k": [
            2,
            5
           ],
           "name": "Faces",
           "type": "mesh3d",
           "x": {
            "bdata": "1Vf6AxiOn7/5uNC4Ez/wPwYJSIC0ko8/SYlcaNyJj7856Q9gOH7wP9Hf/i21ge8/",
            "dtype": "f8"
           },
           "y": {
            "bdata": "lNv6R/eWn796fxGNjpKPPynIBcA2P/A/HY0RjY6Sjz/V2PpH95afvy/IBcA2P/A/",
            "dtype": "f8"
           },
           "z": {
            "bdata": "759ps+DFn7/MKAx6aRLXP6SYzjGID9c/zfV4ceil1z+Q3F37V1roPy6GtrnJqNc/",
            "dtype": "f8"
           }
          }
         ],
         "layout": {
          "annotations": [
           {
            "showarrow": false,
            "text": "Time: 0.73s (Step: 74/100)",
            "x": 0.05,
            "xref": "paper",
            "y": 0.95,
            "yref": "paper"
           }
          ]
         },
         "name": "73"
        },
        {
         "data": [
          {
           "name": "Free Nodes",
           "type": "scatter3d",
           "x": {
            "bdata": "ocbosn4HoL8eT0NoFUDwP4JDEqjUCZA/Lc7TEFoFkL8NRpf1O4DwP9htv1qxf+8/",
            "dtype": "f8"
           },
           "y": {
            "bdata": "2bZOK/0LoL/R5EiNwQmQP9xRJeM4QPA/ietIjcEJkD9ttU4r/Qugv+JRJeM4QPA/",
            "dtype": "f8"
           },
           "z": {
            "bdata": "wXvjxb8loL8BTmHsO+jWPyBrL9ZM5dY/SBgFeip+1z8ka5EvjzXoP2L7NpAZgdc/",
            "dtype": "f8"
           }
          },
          {
           "name": "Fixed Nodes",
           "type": "scatter3d",
           "x": [],
           "y": [],
           "z": []
          },
          {
           "name": "Edges",
           "type": "scatter3d",
           "x": [
            1.0156454155703112,
            0.01566250110460344,
            null,
            0.01566250110460344,
            -0.031307181682121106,
            null,
            -0.031307181682121106,
            1.0156454155703112,
            null,
            1.0313071816821122,
            0.9843374988953952,
            null,
            0.9843374988953952,
            -0.015645415570317112,
            null,
            -0.015645415570317112,
            1.0313071816821122,
            null
           ],
           "y": [
            0.01566221642335536,
            1.0156792519456905,
            null,
            1.0156792519456905,
            -0.03134146836906177,
            null,
            -0.03134146836906177,
            0.01566221642335536,
            null,
            -0.031341468369059246,
            1.0156792519456919,
            null,
            1.0156792519456919,
            0.01566221642336133,
            null,
            0.01566221642336133,
            -0.031341468369059246,
            null
           ],
           "z": [
            0.35792444309228705,
            0.35774537006880003,
            null,
            0.35774537006880003,
            -0.03153800287849818,
            null,
            -0.03153800287849818,
            0.35792444309228705,
            null,
            0.756538002878504,
            0.3672546299312015,
            null,
            0.3672546299312015,
            0.3670755569077113,
            null,
            0.3670755569077113,
            0.756538002878504,
            null
           ]
          },
          {
           "i": [
            0,
            3
           ],
           "j": [
            1,
            4
           ],
           "k": [
            2,
            5
           ],
           "name": "Faces",
           "type": "mesh3d",
           "x": {
            "bdata": "ocbosn4HoL8eT0NoFUDwP4JDEqjUCZA/Lc7TEFoFkL8NRpf1O4DwP9htv1qxf+8/",
            "dtype": "f8"
           },
           "y": {
            "bdata": "2bZOK/0LoL/R5EiNwQmQP9xRJeM4QPA/ietIjcEJkD9ttU4r/Qugv+JRJeM4QPA/",
            "dtype": "f8"
           },
           "z": {
            "bdata": "wXvjxb8loL8BTmHsO+jWPyBrL9ZM5dY/SBgFeip+1z8ka5EvjzXoP2L7NpAZgdc/",
            "dtype": "f8"
           }
          }
         ],
         "layout": {
          "annotations": [
           {
            "showarrow": false,
            "text": "Time: 0.74s (Step: 75/100)",
            "x": 0.05,
            "xref": "paper",
            "y": 0.95,
            "yref": "paper"
           }
          ]
         },
         "name": "74"
        },
        {
         "data": [
          {
           "name": "Free Nodes",
           "type": "scatter3d",
           "x": {
            "bdata": "vYXB9plHoL8Ggni6FUHwP4SaM4X3SZA/h4ggnm5FkL8FDLbPPILwPx5j1kOwfe8/",
            "dtype": "f8"
           },
           "y": {
            "bdata": "IeQRDSdMoL90uU1M5EmQP/NXN6c5QfA/JsBNTORJkD/B4hENJ0ygv/lXN6c5QfA/",
            "dtype": "f8"
           },
           "z": {
            "bdata": "BxMKTFFooL8c0aaBCr7WPybd3poNu9Y/3NygX3BW1z9xeGSFwhDoPwvRaEZtWdc/",
            "dtype": "f8"
           }
          },
          {
           "name": "Fixed Nodes",
           "type": "scatter3d",
           "x": [],
           "y": [],
           "z": []
          },
          {
           "name": "Edges",
           "type": "scatter3d",
           "x": [
            1.0158898624432608,
            0.015907161240557702,
            null,
            0.015907161240557702,
            -0.03179627549321704,
            null,
            -0.03179627549321704,
            1.0158898624432608,
            null,
            1.031796275493208,
            0.9840928387594408,
            null,
            0.9840928387594408,
            -0.01588986244326709,
            null,
            -0.01588986244326709,
            1.031796275493208,
            null
           ],
           "y": [
            0.01590687480659754,
            1.0159241229898697,
            null,
            1.0159241229898697,
            -0.03183099779648325,
            null,
            -0.03183099779648325,
            0.01590687480659754,
            null,
            -0.031830997796480805,
            1.015924122989871,
            null,
            1.015924122989871,
            0.015906874806603487,
            null,
            0.015906874806603487,
            -0.031830997796480805,
            null
           ],
           "z": [
            0.35534918462077925,
            0.3551668178947288,
            null,
            0.3551668178947288,
            -0.032045879871509135,
            null,
            -0.032045879871509135,
            0.35534918462077925,
            null,
            0.7520458798715152,
            0.36483318210527277,
            null,
            0.36483318210527277,
            0.3646508153792192,
            null,
            0.3646508153792192,
            0.7520458798715152,
            null
           ]
          },
          {
           "i": [
            0,
            3
           ],
           "j": [
            1,
            4
           ],
           "k": [
            2,
            5
           ],
           "name": "Faces",
           "type": "mesh3d",
           "x": {
            "bdata": "vYXB9plHoL8Ggni6FUHwP4SaM4X3SZA/h4ggnm5FkL8FDLbPPILwPx5j1kOwfe8/",
            "dtype": "f8"
           },
           "y": {
            "bdata": "IeQRDSdMoL90uU1M5EmQP/NXN6c5QfA/JsBNTORJkD/B4hENJ0ygv/lXN6c5QfA/",
            "dtype": "f8"
           },
           "z": {
            "bdata": "BxMKTFFooL8c0aaBCr7WPybd3poNu9Y/3NygX3BW1z9xeGSFwhDoPwvRaEZtWdc/",
            "dtype": "f8"
           }
          }
         ],
         "layout": {
          "annotations": [
           {
            "showarrow": false,
            "text": "Time: 0.75s (Step: 76/100)",
            "x": 0.05,
            "xref": "paper",
            "y": 0.95,
            "yref": "paper"
           }
          ]
         },
         "name": "75"
        },
        {
         "data": [
          {
           "name": "Free Nodes",
           "type": "scatter3d",
           "x": {
            "bdata": "LpQFsF2HoL+kkvquFELwP8Ai9LnCiZA/N7CkviuFkL93LIDtOoTwP9teMOqxe+8/",
            "dtype": "f8"
           },
           "y": {
            "bdata": "hQGwK/mLoL81ZRJmr4mQPy42xQs5QvA/zmsSZq+JkD8PALAr+YugvzQ2xQs5QvA/",
            "dtype": "f8"
           },
           "z": {
            "bdata": "qvQlQaWqoL/WEys/1ZPWP9k4LoXKkNY/0uH9HLou1z9j2iYC8uvnPwi9+tbEMdc/",
            "dtype": "f8"
           }
          },
          {
           "name": "Fixed Nodes",
           "type": "scatter3d",
           "x": [],
           "y": [],
           "z": []
          },
          {
           "name": "Edges",
           "type": "scatter3d",
           "x": [
            1.0161330065831544,
            0.01615051517458954,
            null,
            0.01615051517458954,
            -0.032282760369334404,
            null,
            -0.032282760369334404,
            1.0161330065831544,
            null,
            1.032282760369325,
            0.9838494848254088,
            null,
            0.9838494848254088,
            -0.016133006583160827,
            null,
            -0.016133006583160827,
            1.032282760369325,
            null
           ],
           "y": [
            0.016150227169963578,
            1.0161676845340355,
            null,
            1.0161676845340355,
            -0.03231791170401536,
            null,
            -0.03231791170401536,
            0.016150227169963578,
            null,
            -0.03231791170401276,
            1.0161676845340368,
            null,
            1.0161676845340368,
            0.016150227169969437,
            null,
            0.016150227169969437,
            -0.03231791170401276,
            null
           ],
           "z": [
            0.3527730099561358,
            0.3525873470870358,
            null,
            0.3525873470870358,
            -0.03255192203776265,
            null,
            -0.03255192203776265,
            0.3527730099561358,
            null,
            0.7475519220377688,
            0.36241265291296587,
            null,
            0.36241265291296587,
            0.3622269900438627,
            null,
            0.3622269900438627,
            0.7475519220377688,
            null
           ]
          },
          {
           "i": [
            0,
            3
           ],
           "j": [
            1,
            4
           ],
           "k": [
            2,
            5
           ],
           "name": "Faces",
           "type": "mesh3d",
           "x": {
            "bdata": "LpQFsF2HoL+kkvquFELwP8Ai9LnCiZA/N7CkviuFkL93LIDtOoTwP9teMOqxe+8/",
            "dtype": "f8"
           },
           "y": {
            "bdata": "hQGwK/mLoL81ZRJmr4mQPy42xQs5QvA/zmsSZq+JkD8PALAr+YugvzQ2xQs5QvA/",
            "dtype": "f8"
           },
           "z": {
            "bdata": "qvQlQaWqoL/WEys/1ZPWP9k4LoXKkNY/0uH9HLou1z9j2iYC8uvnPwi9+tbEMdc/",
            "dtype": "f8"
           }
          }
         ],
         "layout": {
          "annotations": [
           {
            "showarrow": false,
            "text": "Time: 0.76s (Step: 77/100)",
            "x": 0.05,
            "xref": "paper",
            "y": 0.95,
            "yref": "paper"
           }
          ]
         },
         "name": "76"
        },
        {
         "data": [
          {
           "name": "Free Nodes",
           "type": "scatter3d",
           "x": {
            "bdata": "O1pcwcnGoL+rZlRFEkPwPw9A6Sg2yZA/8bEZVZHEkL+m4gpONobwP+61uE62ee8/",
            "dtype": "f8"
           },
           "y": {
            "bdata": "e3u7aXPLoL/JYju9IsmQPwbuWBA3Q/A/c2k7vSLJkD8Bertpc8ugvwzuWBA3Q/A/",
            "dtype": "f8"
           },
           "z": {
            "bdata": "xYtQ+rvsoL/kNj4qnGnWP+eKcJqDZtY/dAbMrAcH1z+tJyqrHcfnP6mymTwgCtc/",
            "dtype": "f8"
           }
          },
          {
           "name": "Fixed Nodes",
           "type": "scatter3d",
           "x": [],
           "y": [],
           "z": []
          },
          {
           "name": "Edges",
           "type": "scatter3d",
           "x": [
            1.0163748462859228,
            0.01639256119443649,
            null,
            0.01639256119443649,
            -0.03276663289414158,
            null,
            -0.03276663289414158,
            1.0163748462859228,
            null,
            1.0327666328941318,
            0.9836074388055616,
            null,
            0.9836074388055616,
            -0.01637484628592917,
            null,
            -0.01637484628592917,
            1.0327666328941318,
            null
           ],
           "y": [
            0.016392271804621914,
            1.0164099348611457,
            null,
            1.0164099348611457,
            -0.03280220666578423,
            null,
            -0.03280220666578423,
            0.016392271804621914,
            null,
            -0.032802206665781604,
            1.016409934861147,
            null,
            1.016409934861147,
            0.016392271804627833,
            null,
            0.016392271804627833,
            -0.032802206665781604,
            null
           ],
           "z": [
            0.3501959240464727,
            0.35000696260446634,
            null,
            0.35000696260446634,
            -0.033056139284120024,
            null,
            -0.033056139284120024,
            0.3501959240464727,
            null,
            0.7430561392841263,
            0.3599930373955354,
            null,
            0.3599930373955354,
            0.3598040759535259,
            null,
            0.3598040759535259,
            0.7430561392841263,
            null
           ]
          },
          {
           "i": [
            0,
            3
           ],
           "j": [
            1,
            4
           ],
           "k": [
            2,
            5
           ],
           "name": "Faces",
           "type": "mesh3d",
           "x": {
            "bdata": "O1pcwcnGoL+rZlRFEkPwPw9A6Sg2yZA/8bEZVZHEkL+m4gpONobwP+61uE62ee8/",
            "dtype": "f8"
           },
           "y": {
            "bdata": "e3u7aXPLoL/JYju9IsmQPwbuWBA3Q/A/c2k7vSLJkD8Bertpc8ugvwzuWBA3Q/A/",
            "dtype": "f8"
           },
           "z": {
            "bdata": "xYtQ+rvsoL/kNj4qnGnWP+eKcJqDZtY/dAbMrAcH1z+tJyqrHcfnP6mymTwgCtc/",
            "dtype": "f8"
           }
          }
         ],
         "layout": {
          "annotations": [
           {
            "showarrow": false,
            "text": "Time: 0.77s (Step: 78/100)",
            "x": 0.05,
            "xref": "paper",
            "y": 0.95,
            "yref": "paper"
           }
          ]
         },
         "name": "77"
        },
        {
         "data": [
          {
           "name": "Free Nodes",
           "type": "scatter3d",
           "x": {
            "bdata": "JIuWDd4Fob/EiBF9DkTwP6au0bRRCJE/njhiRJ8Dkb8ttGzwLojwP3hyWXK9d+8/",
            "dtype": "f8"
           },
           "y": {
            "bdata": "mCzwqZUKob+njZY0PgiRP+ImfbQzRPA/RpSWND4IkT8dK/CplQqhv+kmfbQzRPA/",
            "dtype": "f8"
           },
           "z": {
            "bdata": "uSe/zJUuob97FzJIXz/WPweg+t84PNY/i225CVnf1j9GtcGFRaLnPzjl8HF/4tY/",
            "dtype": "f8"
           }
          },
          {
           "name": "Fixed Nodes",
           "type": "scatter3d",
           "x": [],
           "y": [],
           "z": []
          },
          {
           "name": "Edges",
           "type": "scatter3d",
           "x": [
            1.0166153798568738,
            0.016633297597236883,
            null,
            0.016633297597236883,
            -0.03324788967008477,
            null,
            -0.03324788967008477,
            1.0166153798568738,
            null,
            1.033247889670075,
            0.983366702402761,
            null,
            0.983366702402761,
            -0.016615379856880545,
            null,
            -0.016615379856880545,
            1.033247889670075,
            null
           ],
           "y": [
            0.01663300701114925,
            1.01665087226359,
            null,
            1.01665087226359,
            -0.033283879274756234,
            null,
            -0.033283879274756234,
            0.01663300701114925,
            null,
            -0.033283879274753604,
            1.0166508722635916,
            null,
            1.0166508722635916,
            0.01663300701115513,
            null,
            0.01663300701115513,
            -0.033283879274753604,
            null
           ],
           "z": [
            0.34761793184622264,
            0.34742566941213265,
            null,
            0.34742566941213265,
            -0.033558541530126225,
            null,
            -0.033558541530126225,
            0.34761793184622264,
            null,
            0.7385585415301328,
            0.35757433058786914,
            null,
            0.35757433058786914,
            0.357382068153776,
            null,
            0.357382068153776,
            0.7385585415301328,
            null
           ]
          },
          {
           "i": [
            0,
            3
           ],
           "j": [
            1,
            4
           ],
           "k": [
            2,
            5
           ],
           "name": "Faces",
           "type": "mesh3d",
           "x": {
            "bdata": "JIuWDd4Fob/EiBF9DkTwP6au0bRRCJE/njhiRJ8Dkb8ttGzwLojwP3hyWXK9d+8/",
            "dtype": "f8"
           },
           "y": {
            "bdata": "mCzwqZUKob+njZY0PgiRP+ImfbQzRPA/RpSWND4IkT8dK/CplQqhv+kmfbQzRPA/",
            "dtype": "f8"
           },
           "z": {
            "bdata": "uSe/zJUuob97FzJIXz/WPweg+t84PNY/i225CVnf1j9GtcGFRaLnPzjl8HF/4tY/",
            "dtype": "f8"
           }
          }
         ],
         "layout": {
          "annotations": [
           {
            "showarrow": false,
            "text": "Time: 0.78s (Step: 79/100)",
            "x": 0.05,
            "xref": "paper",
            "y": 0.95,
            "yref": "paper"
           }
          ]
         },
         "name": "78"
        },
        {
         "data": [
          {
           "name": "Free Nodes",
           "type": "scatter3d",
           "x": {
            "bdata": "KDKud5pEob/CKL5VCUXwPymQlUAVR5E/UDiKb1VCkb9kcb3TJIrwP2pT+1XHde8/",
            "dtype": "f8"
           },
           "y": {
            "bdata": "rWozz19Job/7LhuvAUeRP0wuvfcuRfA/nzUbrwFHkT/9aDPPX0mhv1IuvfcuRfA/",
            "dtype": "f8"
           },
           "z": {
            "bdata": "3NPCDTNwob/LTFqeHhXWP3QCI1vqEdY/6n9yLq631j/gk0KXaX3nP33KqXHiutY/",
            "dtype": "f8"
           }
          },
          {
           "name": "Fixed Nodes",
           "type": "scatter3d",
           "x": [],
           "y": [],
           "z": []
          },
          {
           "name": "Edges",
           "type": "scatter3d",
           "x": [
            1.0168546056107037,
            0.016872722689541462,
            null,
            0.016872722689541462,
            -0.03372652731841114,
            null,
            -0.03372652731841114,
            1.0168546056107037,
            null,
            1.033726527318401,
            0.9831272773104562,
            null,
            0.9831272773104562,
            -0.01685460561071067,
            null,
            -0.01685460561071067,
            1.033726527318401,
            null
           ],
           "y": [
            0.016872431099542045,
            1.016890495043202,
            null,
            1.016890495043202,
            -0.03376292614276131,
            null,
            -0.03376292614276131,
            0.016872431099542045,
            null,
            -0.03376292614275831,
            1.0168904950432034,
            null,
            1.0168904950432034,
            0.016872431099547943,
            null,
            0.016872431099547943,
            -0.03376292614275831,
            null
           ],
           "z": [
            0.3450390383160992,
            0.3448434724814782,
            null,
            0.3448434724814782,
            -0.03405913870793828,
            null,
            -0.03405913870793828,
            0.3450390383160992,
            null,
            0.7340591387079449,
            0.35515652751852383,
            null,
            0.35515652751852383,
            0.35496096168389946,
            null,
            0.35496096168389946,
            0.7340591387079449,
            null
           ]
          },
          {
           "i": [
            0,
            3
           ],
           "j": [
            1,
            4
           ],
           "k": [
            2,
            5
           ],
           "name": "Faces",
           "type": "mesh3d",
           "x": {
            "bdata": "KDKud5pEob/CKL5VCUXwPymQlUAVR5E/UDiKb1VCkb9kcb3TJIrwP2pT+1XHde8/",
            "dtype": "f8"
           },
           "y": {
            "bdata": "rWozz19Job/7LhuvAUeRP0wuvfcuRfA/nzUbrwFHkT/9aDPPX0mhv1IuvfcuRfA/",
            "dtype": "f8"
           },
           "z": {
            "bdata": "3NPCDTNwob/LTFqeHhXWP3QCI1vqEdY/6n9yLq631j/gk0KXaX3nP33KqXHiutY/",
            "dtype": "f8"
           }
          }
         ],
         "layout": {
          "annotations": [
           {
            "showarrow": false,
            "text": "Time: 0.79s (Step: 80/100)",
            "x": 0.05,
            "xref": "paper",
            "y": 0.95,
            "yref": "paper"
           }
          ]
         },
         "name": "79"
        },
        {
         "data": [
          {
           "name": "Free Nodes",
           "type": "scatter3d",
           "x": {
            "bdata": "I7/G4v6Cob/VG+fOAkbwP1F4Rq+AhZE/XP3GubOAkb/MNRb3F4zwPybMhfrTc+8/",
            "dtype": "f8"
           },
           "y": {
            "bdata": "aROUvNGHob8sCuoPbYWRPyT4pNkoRvA//RDqD22FkT++EZS80Yehvyr4pNkoRvA/",
            "dtype": "f8"
           },
           "z": {
            "bdata": "3y7IEpSxob94JQwy2urVP2D3QRGY59U/6+6hFQeQ1j9qjQPliVjnP0AdbDZJk9Y/",
            "dtype": "f8"
           }
          },
          {
           "name": "Fixed Nodes",
           "type": "scatter3d",
           "x": [],
           "y": [],
           "z": []
          },
          {
           "name": "Edges",
           "type": "scatter3d",
           "x": [
            1.0170925218715088,
            0.017110834787324617,
            null,
            0.017110834787324617,
            -0.03420254247919121,
            null,
            -0.03420254247919121,
            1.0170925218715088,
            null,
            1.0342025424791812,
            0.9828891652126728,
            null,
            0.9828891652126728,
            -0.017092521871515984,
            null,
            -0.017092521871515984,
            1.0342025424791812,
            null
           ],
           "y": [
            0.017110542389227643,
            1.0171288015112703,
            null,
            1.0171288015112703,
            -0.03423934390051537,
            null,
            -0.03423934390051537,
            0.017110542389227643,
            null,
            -0.034239343900512406,
            1.0171288015112716,
            null,
            1.0171288015112716,
            0.017110542389233697,
            null,
            0.017110542389233697,
            -0.034239343900512406,
            null
           ],
           "z": [
            0.3424592484230611,
            0.34226037679024124,
            null,
            0.34226037679024124,
            -0.03455794076225315,
            null,
            -0.03455794076225315,
            0.3424592484230611,
            null,
            0.7295579407622601,
            0.3527396232097608,
            null,
            0.3527396232097608,
            0.3525407515769376,
            null,
            0.3525407515769376,
            0.7295579407622601,
            null
           ]
          },
          {
           "i": [
            0,
            3
           ],
           "j": [
            1,
            4
           ],
           "k": [
            2,
            5
           ],
           "name": "Faces",
           "type": "mesh3d",
           "x": {
            "bdata": "I7/G4v6Cob/VG+fOAkbwP1F4Rq+AhZE/XP3GubOAkb/MNRb3F4zwPybMhfrTc+8/",
            "dtype": "f8"
           },
           "y": {
            "bdata": "aROUvNGHob8sCuoPbYWRPyT4pNkoRvA//RDqD22FkT++EZS80Yehvyr4pNkoRvA/",
            "dtype": "f8"
           },
           "z": {
            "bdata": "3y7IEpSxob94JQwy2urVP2D3QRGY59U/6+6hFQeQ1j9qjQPliVjnP0AdbDZJk9Y/",
            "dtype": "f8"
           }
          }
         ],
         "layout": {
          "annotations": [
           {
            "showarrow": false,
            "text": "Time: 0.80s (Step: 81/100)",
            "x": 0.05,
            "xref": "paper",
            "y": 0.95,
            "yref": "paper"
           }
          ]
         },
         "name": "80"
        },
        {
         "data": [
          {
           "name": "Free Nodes",
           "type": "scatter3d",
           "x": {
            "bdata": "eBQtMgvBob/A3Bno+kbwPyV7H+STw5E/Pzh3Brq+kb91aJFZCI7wPw8E32Djce8/",
            "dtype": "f8"
           },
           "y": {
            "bdata": "QJpKVevFob/4ak06gMORP9YewVkhR/A/qnFNOoDDkT+emEpV68Whv94ewVkhR/A/",
            "dtype": "f8"
           },
           "z": {
            "bdata": "E0NXMbnyob8epZ4IksDVP3l8sQdCvdU/9bbwuWNo1j+GIl10pjPnP9bf3bqza9Y/",
            "dtype": "f8"
           }
          },
          {
           "name": "Fixed Nodes",
           "type": "scatter3d",
           "x": [],
           "y": [],
           "z": []
          },
          {
           "name": "Edges",
           "type": "scatter3d",
           "x": [
            1.0173291269727969,
            0.017347632215997017,
            null,
            0.017347632215997017,
            -0.0346759318113436,
            null,
            -0.0346759318113436,
            1.0173291269727969,
            null,
            1.0346759318113332,
            0.9826523677840003,
            null,
            0.9826523677840003,
            -0.017329126972804195,
            null,
            -0.017329126972804195,
            1.0346759318113332,
            null
           ],
           "y": [
            0.0173473392090768,
            1.0173657899885504,
            null,
            1.0173657899885504,
            -0.03471312919764502,
            null,
            -0.03471312919764502,
            0.0173473392090768,
            null,
            -0.03471312919764212,
            1.0173657899885522,
            null,
            1.0173657899885522,
            0.017347339209082747,
            null,
            0.017347339209082747,
            -0.03471312919764212,
            null
           ],
           "z": [
            0.33987856714027653,
            0.33967638732241984,
            null,
            0.33967638732241984,
            -0.03505495765023716,
            null,
            -0.03505495765023716,
            0.33987856714027653,
            null,
            0.7250549576502443,
            0.3503236126775823,
            null,
            0.3503236126775823,
            0.35012143285972225,
            null,
            0.35012143285972225,
            0.7250549576502443,
            null
           ]
          },
          {
           "i": [
            0,
            3
           ],
           "j": [
            1,
            4
           ],
           "k": [
            2,
            5
           ],
           "name": "Faces",
           "type": "mesh3d",
           "x": {
            "bdata": "eBQtMgvBob/A3Bno+kbwPyV7H+STw5E/Pzh3Brq+kb91aJFZCI7wPw8E32Djce8/",
            "dtype": "f8"
           },
           "y": {
            "bdata": "QJpKVevFob/4ak06gMORP9YewVkhR/A/qnFNOoDDkT+emEpV68Whv94ewVkhR/A/",
            "dtype": "f8"
           },
           "z": {
            "bdata": "E0NXMbnyob8epZ4IksDVP3l8sQdCvdU/9bbwuWNo1j+GIl10pjPnP9bf3bqza9Y/",
            "dtype": "f8"
           }
          }
         ],
         "layout": {
          "annotations": [
           {
            "showarrow": false,
            "text": "Time: 0.81s (Step: 82/100)",
            "x": 0.05,
            "xref": "paper",
            "y": 0.95,
            "yref": "paper"
           }
          ]
         },
         "name": "81"
        },
        {
         "data": [
          {
           "name": "Free Nodes",
           "type": "scatter3d",
           "x": {
            "bdata": "u5JXSb/+ob8IjOSg8UfwP4c4hcJOAZI/ewojOWj8kb9nvEr69Y/wPyDW64n1b+8/",
            "dtype": "f8"
           },
           "y": {
            "bdata": "zBS5fKwDor/PMLkROwGSP5HjnncYSPA/1Te5ETsBkj8TE7l8rAOiv5njnncYSPA/",
            "dtype": "f8"
           },
           "z": {
            "bdata": "Z10Tv6Izor/AgWonRpbVP1pFzUPoktU/ASIGFsRA1j8FiKlKvw7nP6Veo/khRNY/",
            "dtype": "f8"
           }
          },
          {
           "name": "Fixed Nodes",
           "type": "scatter3d",
           "x": [],
           "y": [],
           "z": []
          },
          {
           "name": "Edges",
           "type": "scatter3d",
           "x": [
            1.0175644192574982,
            0.017583113310415868,
            null,
            0.017583113310415868,
            -0.03514669199265571,
            null,
            -0.03514669199265571,
            1.0175644192574982,
            null,
            1.0351466919926453,
            0.982416886689581,
            null,
            0.982416886689581,
            -0.01756441925750572,
            null,
            -0.01756441925750572,
            1.0351466919926453,
            null
           ],
           "y": [
            0.017582819897413778,
            1.0176014588052775,
            null,
            1.0176014588052775,
            -0.03518427870270954,
            null,
            -0.03518427870270954,
            0.017582819897413778,
            null,
            -0.03518427870270648,
            1.0176014588052793,
            null,
            1.0176014588052793,
            0.017582819897420016,
            null,
            0.017582819897420016,
            -0.03518427870270648,
            null
           ],
           "z": [
            0.33729699944708713,
            0.33709150906823526,
            null,
            0.33709150906823526,
            -0.03555019934145314,
            null,
            -0.03555019934145314,
            0.33729699944708713,
            null,
            0.7205501993414606,
            0.34790849093176696,
            null,
            0.34790849093176696,
            0.34770300055291165,
            null,
            0.34770300055291165,
            0.7205501993414606,
            null
           ]
          },
          {
           "i": [
            0,
            3
           ],
           "j": [
            1,
            4
           ],
           "k": [
            2,
            5
           ],
           "name": "Faces",
           "type": "mesh3d",
           "x": {
            "bdata": "u5JXSb/+ob8IjOSg8UfwP4c4hcJOAZI/ewojOWj8kb9nvEr69Y/wPyDW64n1b+8/",
            "dtype": "f8"
           },
           "y": {
            "bdata": "zBS5fKwDor/PMLkROwGSP5HjnncYSPA/1Te5ETsBkj8TE7l8rAOiv5njnncYSPA/",
            "dtype": "f8"
           },
           "z": {
            "bdata": "Z10Tv6Izor/AgWonRpbVP1pFzUPoktU/ASIGFsRA1j8FiKlKvw7nP6Veo/khRNY/",
            "dtype": "f8"
           }
          }
         ],
         "layout": {
          "annotations": [
           {
            "showarrow": false,
            "text": "Time: 0.82s (Step: 83/100)",
            "x": 0.05,
            "xref": "paper",
            "y": 0.95,
            "yref": "paper"
           }
          ]
         },
         "name": "82"
        },
        {
         "data": [
          {
           "name": "Free Nodes",
           "type": "scatter3d",
           "x": {
            "bdata": "tSbmCxs8or8r8NX45kjwP3nqBS6xPpI/jBN8Nb45kr8FMV/Y4JHwP4/Qj3YKbu8/",
            "dtype": "f8"
           },
           "y": {
            "bdata": "uEdrFhVBor8W3cp5nT6SP3UuzDIOSfA/IuTKeZ0+kj/JRWsWFUGiv34uzDIOSfA/",
            "dtype": "f8"
           },
           "z": {
            "bdata": "Y+W6EVF0or9OIcqT9mvVPwS58sqKaNU/I8qHJCgZ1j9dpERt1OnmP6wyX+2THNY/",
            "dtype": "f8"
           }
          },
          {
           "name": "Fixed Nodes",
           "type": "scatter3d",
           "x": [],
           "y": [],
           "z": []
          },
          {
           "name": "Edges",
           "type": "scatter3d",
           "x": [
            1.0177983970779774,
            0.017817276414897585,
            null,
            0.017817276414897585,
            -0.035614819719808656,
            null,
            -0.035614819719808656,
            1.0177983970779774,
            null,
            1.0356148197197979,
            0.9821827235850992,
            null,
            0.9821827235850992,
            -0.01779839707798518,
            null,
            -0.01779839707798518,
            1.0356148197197979,
            null
           ],
           "y": [
            0.017816982802029,
            1.017835806301176,
            null,
            1.017835806301176,
            -0.035652789103223836,
            null,
            -0.035652789103223836,
            0.017816982802029,
            null,
            -0.0356527891032204,
            1.017835806301178,
            null,
            1.017835806301178,
            0.01781698280203526,
            null,
            0.01781698280203526,
            -0.0356527891032204,
            null
           ],
           "z": [
            0.33471455032897246,
            0.3345057470240962,
            null,
            0.3345057470240962,
            -0.036043675817789354,
            null,
            -0.036043675817789354,
            0.33471455032897246,
            null,
            0.7160436758177969,
            0.3454942529759062,
            null,
            0.3454942529759062,
            0.3452854496710264,
            null,
            0.3452854496710264,
            0.7160436758177969,
            null
           ]
          },
          {
           "i": [
            0,
            3
           ],
           "j": [
            1,
            4
           ],
           "k": [
            2,
            5
           ],
           "name": "Faces",
           "type": "mesh3d",
           "x": {
            "bdata": "tSbmCxs8or8r8NX45kjwP3nqBS6xPpI/jBN8Nb45kr8FMV/Y4JHwP4/Qj3YKbu8/",
            "dtype": "f8"
           },
           "y": {
            "bdata": "uEdrFhVBor8W3cp5nT6SP3UuzDIOSfA/IuTKeZ0+kj/JRWsWFUGiv34uzDIOSfA/",
            "dtype": "f8"
           },
           "z": {
            "bdata": "Y+W6EVF0or9OIcqT9mvVPwS58sqKaNU/I8qHJCgZ1j9dpERt1OnmP6wyX+2THNY/",
            "dtype": "f8"
           }
          }
         ],
         "layout": {
          "annotations": [
           {
            "showarrow": false,
            "text": "Time: 0.83s (Step: 84/100)",
            "x": 0.05,
            "xref": "paper",
            "y": 0.95,
            "yref": "paper"
           }
          ]
         },
         "name": "83"
        },
        {
         "data": [
          {
           "name": "Free Nodes",
           "type": "scatter3d",
           "x": {
            "bdata": "TFWiXR55or/SdX3v2knwP79wWQq7e5I/Pn1d37t2kr94Eu3yyJPwP1o0rScibO8/",
            "dtype": "f8"
           },
           "y": {
            "bdata": "cbMWBiV+or+WnklWp3uSP8uO14oCSvA/06VJVqd7kj9bsRYGJX6iv9SO14oCSvA/",
            "dtype": "f8"
           },
           "z": {
            "bdata": "WjQnf8S0or8VlxlTo0HVP1TvgKIpPtU/DJwZ4I/x1T8lDYzh5cTmPwxEspAJ9dU/",
            "dtype": "f8"
           }
          },
          {
           "name": "Fixed Nodes",
           "type": "scatter3d",
           "x": [],
           "y": [],
           "z": []
          },
          {
           "name": "Edges",
           "type": "scatter3d",
           "x": [
            1.0180310587960446,
            0.01805011988322813,
            null,
            0.01805011988322813,
            -0.0360803117083984,
            null,
            -0.0360803117083984,
            1.0180310587960446,
            null,
            1.0360803117083872,
            0.9819498801167683,
            null,
            0.9819498801167683,
            -0.018031058796052372,
            null,
            -0.018031058796052372,
            1.0360803117083872,
            null
           ],
           "y": [
            0.018049826280189217,
            1.0180688308254726,
            null,
            1.0180688308254726,
            -0.03611865710568097,
            null,
            -0.03611865710568097,
            0.018049826280189217,
            null,
            -0.036118657105677264,
            1.0180688308254746,
            null,
            1.0180688308254746,
            0.018049826280195646,
            null,
            0.018049826280195646,
            -0.036118657105677264,
            null
           ],
           "z": [
            0.3321312247775137,
            0.3319191061925626,
            null,
            0.3319191061925626,
            -0.036535397073387,
            null,
            -0.036535397073387,
            0.3321312247775137,
            null,
            0.7115353970733947,
            0.3430808938074399,
            null,
            0.3430808938074399,
            0.34286877522248527,
            null,
            0.34286877522248527,
            0.7115353970733947,
            null
           ]
          },
          {
           "i": [
            0,
            3
           ],
           "j": [
            1,
            4
           ],
           "k": [
            2,
            5
           ],
           "name": "Faces",
           "type": "mesh3d",
           "x": {
            "bdata": "TFWiXR55or/SdX3v2knwP79wWQq7e5I/Pn1d37t2kr94Eu3yyJPwP1o0rScibO8/",
            "dtype": "f8"
           },
           "y": {
            "bdata": "cbMWBiV+or+WnklWp3uSP8uO14oCSvA/06VJVqd7kj9bsRYGJX6iv9SO14oCSvA/",
            "dtype": "f8"
           },
           "z": {
            "bdata": "WjQnf8S0or8VlxlTo0HVP1TvgKIpPtU/DJwZ4I/x1T8lDYzh5cTmPwxEspAJ9dU/",
            "dtype": "f8"
           }
          }
         ],
         "layout": {
          "annotations": [
           {
            "showarrow": false,
            "text": "Time: 0.84s (Step: 85/100)",
            "x": 0.05,
            "xref": "paper",
            "y": 0.95,
            "yref": "paper"
           }
          ]
         },
         "name": "84"
        },
        {
         "data": [
          {
           "name": "Free Nodes",
           "type": "scatter3d",
           "x": {
            "bdata": "fUh/Ism1or//L2uEzUrwP6leYTtsuJI/9gjMGmGzkr8R+hNJrpXwP+n0JJ48au8/",
            "dtype": "f8"
           },
           "y": {
            "bdata": "CKGaL9y6or8qXyaLWLiSPzQ7UH/1SvA/gWYmi1i4kj/mnpov3Lqivz47UH/1SvA/",
            "dtype": "f8"
           },
           "z": {
            "bdata": "Cm1MXf30or89obZqTBfVP3qu2M/EE9U/ktldQ/vJ1T+KBN+s85/mP5XMO96CzdU/",
            "dtype": "f8"
           }
          },
          {
           "name": "Fixed Nodes",
           "type": "scatter3d",
           "x": [],
           "y": [],
           "z": []
          },
          {
           "name": "Edges",
           "type": "scatter3d",
           "x": [
            1.0182624027829659,
            0.01828164207867525,
            null,
            0.01828164207867525,
            -0.0365431646929588,
            null,
            -0.0365431646929588,
            1.0182624027829659,
            null,
            1.0365431646929475,
            0.981718357921321,
            null,
            0.981718357921321,
            -0.01826240278297405,
            null,
            -0.01826240278297405,
            1.0365431646929475,
            null
           ],
           "y": [
            0.018281348698649648,
            1.018300530736906,
            null,
            1.018300530736906,
            -0.03658187943557506,
            null,
            -0.03658187943557506,
            0.018281348698649648,
            null,
            -0.03658187943557127,
            1.0183005307369082,
            null,
            1.0183005307369082,
            0.018281348698656167,
            null,
            0.018281348698656167,
            -0.03658187943557127,
            null
           ],
           "z": [
            0.3295470277903581,
            0.32933159158230974,
            null,
            0.32933159158230974,
            -0.03702537311456851,
            null,
            -0.03702537311456851,
            0.3295470277903581,
            null,
            0.7070253731145766,
            0.3406684084176928,
            null,
            0.3406684084176928,
            0.3404529722096409,
            null,
            0.3404529722096409,
            0.7070253731145766,
            null
           ]
          },
          {
           "i": [
            0,
            3
           ],
           "j": [
            1,
            4
           ],
           "k": [
            2,
            5
           ],
           "name": "Faces",
           "type": "mesh3d",
           "x": {
            "bdata": "fUh/Ism1or//L2uEzUrwP6leYTtsuJI/9gjMGmGzkr8R+hNJrpXwP+n0JJ48au8/",
            "dtype": "f8"
           },
           "y": {
            "bdata": "CKGaL9y6or8qXyaLWLiSPzQ7UH/1SvA/gWYmi1i4kj/mnpov3Lqivz47UH/1SvA/",
            "dtype": "f8"
           },
           "z": {
            "bdata": "Cm1MXf30or89obZqTBfVP3qu2M/EE9U/ktldQ/vJ1T+KBN+s85/mP5XMO96CzdU/",
            "dtype": "f8"
           }
          }
         ],
         "layout": {
          "annotations": [
           {
            "showarrow": false,
            "text": "Time: 0.85s (Step: 86/100)",
            "x": 0.05,
            "xref": "paper",
            "y": 0.95,
            "yref": "paper"
           }
          ]
         },
         "name": "85"
        },
        {
         "data": [
          {
           "name": "Free Nodes",
           "type": "scatter3d",
           "x": {
            "bdata": "PNyZPhvyor9G2C+3vkvwPywHKaXE9JI/4Rr2y63vkr+uzvTZkJfwP6K31tpZaO8/",
            "dtype": "f8"
           },
           "y": {
            "bdata": "My8Adzr3or+2z3v8sPSSP+IRxg/nS/A/PNd7/LD0kj8FLQB3Oveiv+wRxg/nS/A/",
            "dtype": "f8"
           },
           "z": {
            "bdata": "O1M5Avw0o79CpgDg8ezUP3NoXFhc6dQ/PBz1SGqi1T/Hdp7U/XrmP0pamdD/pdU/",
            "dtype": "f8"
           }
          },
          {
           "name": "Fixed Nodes",
           "type": "scatter3d",
           "x": [],
           "y": [],
           "z": []
          },
          {
           "name": "Edges",
           "type": "scatter3d",
           "x": [
            1.0184924274194755,
            0.018511841373999235,
            null,
            0.018511841373999235,
            -0.03700337542698448,
            null,
            -0.03700337542698448,
            1.0184924274194755,
            null,
            1.037003375426973,
            0.9814881586259967,
            null,
            0.9814881586259967,
            -0.018492427419483874,
            null,
            -0.018492427419483874,
            1.037003375426973,
            null
           ],
           "y": [
            0.018511548433664614,
            1.01853090440374,
            null,
            1.01853090440374,
            -0.037042452837424376,
            null,
            -0.037042452837424376,
            0.018511548433664614,
            null,
            -0.037042452837420504,
            1.0185309044037423,
            null,
            1.0185309044037423,
            0.018511548433671296,
            null,
            0.018511548433671296,
            -0.037042452837420504,
            null
           ],
           "z": [
            0.32696196437118286,
            0.3267432082080923,
            null,
            0.3267432082080923,
            -0.03751361395976579,
            null,
            -0.03751361395976579,
            0.32696196437118286,
            null,
            0.7025136139597742,
            0.33825679179191026,
            null,
            0.33825679179191026,
            0.3380380356288162,
            null,
            0.3380380356288162,
            0.7025136139597742,
            null
           ]
          },
          {
           "i": [
            0,
            3
           ],
           "j": [
            1,
            4
           ],
           "k": [
            2,
            5
           ],
           "name": "Faces",
           "type": "mesh3d",
           "x": {
            "bdata": "PNyZPhvyor9G2C+3vkvwPywHKaXE9JI/4Rr2y63vkr+uzvTZkJfwP6K31tpZaO8/",
            "dtype": "f8"
           },
           "y": {
            "bdata": "My8Adzr3or+2z3v8sPSSP+IRxg/nS/A/PNd7/LD0kj8FLQB3Oveiv+wRxg/nS/A/",
            "dtype": "f8"
           },
           "z": {
            "bdata": "O1M5Avw0o79CpgDg8ezUP3NoXFhc6dQ/PBz1SGqi1T/Hdp7U/XrmP0pamdD/pdU/",
            "dtype": "f8"
           }
          }
         ],
         "layout": {
          "annotations": [
           {
            "showarrow": false,
            "text": "Time: 0.86s (Step: 87/100)",
            "x": 0.05,
            "xref": "paper",
            "y": 0.95,
            "yref": "paper"
           }
          ]
         },
         "name": "86"
        },
        {
         "data": [
          {
           "name": "Free Nodes",
           "type": "scatter3d",
           "x": {
            "bdata": "Zao4lhQuo7/6zlyHrkzwPz+J5SvEMJM/M8gz16Erk78exbGkcJnwP5DToN55Zu8/",
            "dtype": "f8"
           },
           "y": {
            "bdata": "7l16wD8zo79vdI6OsDCTP8SYyTvXTPA/7HuOjrAwkz+nW3rAPzOjv86YyTvXTPA/",
            "dtype": "f8"
           },
           "z": {
            "bdata": "oyIXxMB0o79lsli4k8LUP3Q4cEHwvtQ/yFd+69x61T+X9yxeBFbmP/fRZmKAftU/",
            "dtype": "f8"
           }
          },
          {
           "name": "Fixed Nodes",
           "type": "scatter3d",
           "x": [],
           "y": [],
           "z": []
          },
          {
           "name": "Edges",
           "type": "scatter3d",
           "x": [
            1.0187211310957864,
            0.018740716151463884,
            null,
            0.018740716151463884,
            -0.03746094068295206,
            null,
            -0.03746094068295206,
            1.0187211310957864,
            null,
            1.0374609406829403,
            0.9812592838485319,
            null,
            0.9812592838485319,
            -0.01872113109579505,
            null,
            -0.01872113109579505,
            1.0374609406829403,
            null
           ],
           "y": [
            0.018740423870998443,
            1.0187599502037736,
            null,
            1.0187599502037736,
            -0.037500374074791995,
            null,
            -0.037500374074791995,
            0.018740423870998443,
            null,
            -0.03750037407478795,
            1.0187599502037759,
            null,
            1.0187599502037759,
            0.018740423871005094,
            null,
            0.018740423871005094,
            -0.03750037407478795,
            null
           ],
           "z": [
            0.32437603952965893,
            0.3241539610907076,
            null,
            0.3241539610907076,
            -0.03800012963944723,
            null,
            -0.03800012963944723,
            0.32437603952965893,
            null,
            0.6980001296394559,
            0.33584603890929493,
            null,
            0.33584603890929493,
            0.33562396047034015,
            null,
            0.33562396047034015,
            0.6980001296394559,
            null
           ]
          },
          {
           "i": [
            0,
            3
           ],
           "j": [
            1,
            4
           ],
           "k": [
            2,
            5
           ],
           "name": "Faces",
           "type": "mesh3d",
           "x": {
            "bdata": "Zao4lhQuo7/6zlyHrkzwPz+J5SvEMJM/M8gz16Erk78exbGkcJnwP5DToN55Zu8/",
            "dtype": "f8"
           },
           "y": {
            "bdata": "7l16wD8zo79vdI6OsDCTP8SYyTvXTPA/7HuOjrAwkz+nW3rAPzOjv86YyTvXTPA/",
            "dtype": "f8"
           },
           "z": {
            "bdata": "oyIXxMB0o79lsli4k8LUP3Q4cEHwvtQ/yFd+69x61T+X9yxeBFbmP/fRZmKAftU/",
            "dtype": "f8"
           }
          }
         ],
         "layout": {
          "annotations": [
           {
            "showarrow": false,
            "text": "Time: 0.87s (Step: 88/100)",
            "x": 0.05,
            "xref": "paper",
            "y": 0.95,
            "yref": "paper"
           }
          ]
         },
         "name": "87"
        },
        {
         "data": [
          {
           "name": "Free Nodes",
           "type": "scatter3d",
           "x": {
            "bdata": "mBfMDbVpo79gG4T0nE3wP//c9bNqbJM/weEGIT1nk7+GYG6oTZvwP/FQYKqcZO8/",
            "dtype": "f8"
           },
           "y": {
            "bdata": "2Btm8Otuo7/RscwlV2yTP7396wLGTfA/QbnMJVdskz+FGWbw626jv8f96wLGTfA/",
            "dtype": "f8"
           },
           "z": {
            "bdata": "pWYp+Uu0o78pdSH5MZjUP2jgeZCAlNQ/tNyWJVNT1T+wv+5OBzHmP7FxPo4EV9U/",
            "dtype": "f8"
           }
          },
          {
           "name": "Fixed Nodes",
           "type": "scatter3d",
           "x": [],
           "y": [],
           "z": []
          },
          {
           "name": "Edges",
           "type": "scatter3d",
           "x": [
            1.018948512211601,
            0.018968264802848186,
            null,
            0.018968264802848186,
            -0.03791585725234298,
            null,
            -0.03791585725234298,
            1.018948512211601,
            null,
            1.0379158572523308,
            0.9810317351971475,
            null,
            0.9810317351971475,
            -0.01894851221160976,
            null,
            -0.01894851221160976,
            1.0379158572523308,
            null
           ],
           "y": [
            0.01896797340593698,
            1.0189876665243525,
            null,
            1.0189876665243525,
            -0.03795563993030954,
            null,
            -0.03795563993030954,
            0.01896797340593698,
            null,
            -0.03795563993030541,
            1.0189876665243547,
            null,
            1.0189876665243547,
            0.018967973405943587,
            null,
            0.018967973405943587,
            -0.03795563993030541,
            null
           ],
           "z": [
            0.3217892582814153,
            0.3215638552569602,
            null,
            0.3215638552569602,
            -0.03848493019604619,
            null,
            -0.03848493019604619,
            0.3217892582814153,
            null,
            0.6934849301960551,
            0.33343614474304234,
            null,
            0.33343614474304234,
            0.3332107417185839,
            null,
            0.3332107417185839,
            0.6934849301960551,
            null
           ]
          },
          {
           "i": [
            0,
            3
           ],
           "j": [
            1,
            4
           ],
           "k": [
            2,
            5
           ],
           "name": "Faces",
           "type": "mesh3d",
           "x": {
            "bdata": "mBfMDbVpo79gG4T0nE3wP//c9bNqbJM/weEGIT1nk7+GYG6oTZvwP/FQYKqcZO8/",
            "dtype": "f8"
           },
           "y": {
            "bdata": "2Btm8Otuo7/RscwlV2yTP7396wLGTfA/QbnMJVdskz+FGWbw626jv8f96wLGTfA/",
            "dtype": "f8"
           },
           "z": {
            "bdata": "pWYp+Uu0o78pdSH5MZjUP2jgeZCAlNQ/tNyWJVNT1T+wv+5OBzHmP7FxPo4EV9U/",
            "dtype": "f8"
           }
          }
         ],
         "layout": {
          "annotations": [
           {
            "showarrow": false,
            "text": "Time: 0.88s (Step: 89/100)",
            "x": 0.05,
            "xref": "paper",
            "y": 0.95,
            "yref": "paper"
           }
          ]
         },
         "name": "88"
        },
        {
         "data": [
          {
           "name": "Free Nodes",
           "type": "scatter3d",
           "x": {
            "bdata": "a1/uifyko7/eazj+iU7wP/Lf4iG4p5M/iAEbjn+ik7/Eck/kJ53wP9jo8D7CYu8/",
            "dtype": "f8"
           },
           "y": {
            "bdata": "VVJK6z6qo7/H2M6mpKeTP9QWv2SzTvA/Q+DOpqSnkz/1T0rrPqqjv94Wv2SzTvA/",
            "dtype": "f8"
           },
           "z": {
            "bdata": "c9HN953zo7/EPr+nzG3UP17G4EoNatQ/x1ra8cwr1T82qkmsBgzmP2nTuE6ML9U/",
            "dtype": "f8"
           }
          },
          {
           "name": "Fixed Nodes",
           "type": "scatter3d",
           "x": [],
           "y": [],
           "z": []
          },
          {
           "name": "Edges",
           "type": "scatter3d",
           "x": [
            1.0191745691761223,
            0.019194485729457207,
            null,
            0.019194485729457207,
            -0.038368121945665155,
            null,
            -0.038368121945665155,
            1.0191745691761223,
            null,
            1.0383681219456529,
            0.9808055142705383,
            null,
            0.9808055142705383,
            -0.019174569176131168,
            null,
            -0.019174569176131168,
            1.0383681219456529,
            null
           ],
           "y": [
            0.019194195443298392,
            1.01921405176238,
            null,
            1.01921405176238,
            -0.03840824720569872,
            null,
            -0.03840824720569872,
            0.019194195443298392,
            null,
            -0.0384082472056945,
            1.0192140517623822,
            null,
            1.0192140517623822,
            0.01919419544330504,
            null,
            0.01919419544330504,
            -0.0384082472056945,
            null
           ],
           "z": [
            0.3192016256480026,
            0.31897289573962506,
            null,
            0.31897289573962506,
            -0.03896802568388837,
            null,
            -0.03896802568388837,
            0.3192016256480026,
            null,
            0.6889680256838975,
            0.33102710426037746,
            null,
            0.33102710426037746,
            0.3307983743519966,
            null,
            0.3307983743519966,
            0.6889680256838975,
            null
           ]
          },
          {
           "i": [
            0,
            3
           ],
           "j": [
            1,
            4
           ],
           "k": [
            2,
            5
           ],
           "name": "Faces",
           "type": "mesh3d",
           "x": {
            "bdata": "a1/uifyko7/eazj+iU7wP/Lf4iG4p5M/iAEbjn+ik7/Eck/kJ53wP9jo8D7CYu8/",
            "dtype": "f8"
           },
           "y": {
            "bdata": "VVJK6z6qo7/H2M6mpKeTP9QWv2SzTvA/Q+DOpqSnkz/1T0rrPqqjv94Wv2SzTvA/",
            "dtype": "f8"
           },
           "z": {
            "bdata": "c9HN953zo7/EPr+nzG3UP17G4EoNatQ/x1ra8cwr1T82qkmsBgzmP2nTuE6ML9U/",
            "dtype": "f8"
           }
          }
         ],
         "layout": {
          "annotations": [
           {
            "showarrow": false,
            "text": "Time: 0.89s (Step: 90/100)",
            "x": 0.05,
            "xref": "paper",
            "y": 0.95,
            "yref": "paper"
           }
          ]
         },
         "name": "89"
        },
        {
         "data": [
          {
           "name": "Free Nodes",
           "type": "scatter3d",
           "x": {
            "bdata": "5qBj7+rfo78xFg2kdU/wPwNhX1qs4pM/XZZFA2ndk7/PHHtX/57wP84ELZ3qYO8/",
            "dtype": "f8"
           },
           "y": {
            "bdata": "jPHXlTjlo7+WMlf2mOKTP2Vi1WCfT/A/JjpX9pjikz8s79eVOOWjv3Bi1WCfT/A/",
            "dtype": "f8"
           },
           "z": {
            "bdata": "QRN8FrcypL+Z/ZfJY0PUP/rxDXaWP9Q/oePiSkoE1T8sMqV7AuflP3rvbJ4XCNU/",
            "dtype": "f8"
           }
          },
          {
           "name": "Fixed Nodes",
           "type": "scatter3d",
           "x": [],
           "y": [],
           "z": []
          },
          {
           "name": "Edges",
           "type": "scatter3d",
           "x": [
            1.0193993004080648,
            0.019419377342132737,
            null,
            0.019419377342132737,
            -0.03881773159247519,
            null,
            -0.03881773159247519,
            1.0193993004080648,
            null,
            1.0388177315924627,
            0.9805806226578626,
            null,
            0.9805806226578626,
            -0.019399300408073795,
            null,
            -0.019399300408073795,
            1.0388177315924627,
            null
           ],
           "y": [
            0.01941908839744374,
            1.0194391043243283,
            null,
            1.0194391043243283,
            -0.03885819272179267,
            null,
            -0.03885819272179267,
            0.01941908839744374,
            null,
            -0.03885819272178845,
            1.0194391043243307,
            null,
            1.0194391043243307,
            0.019419088397450456,
            null,
            0.019419088397450456,
            -0.03885819272178845,
            null
           ],
           "z": [
            0.3166131466568572,
            0.31638108757741146,
            null,
            0.31638108757741146,
            -0.0394494261691194,
            null,
            -0.0394494261691194,
            0.3166131466568572,
            null,
            0.6844494261691287,
            0.328618912422591,
            null,
            0.328618912422591,
            0.32838685334314205,
            null,
            0.32838685334314205,
            0.6844494261691287,
            null
           ]
          },
          {
           "i": [
            0,
            3
           ],
           "j": [
            1,
            4
           ],
           "k": [
            2,
            5
           ],
           "name": "Faces",
           "type": "mesh3d",
           "x": {
            "bdata": "5qBj7+rfo78xFg2kdU/wPwNhX1qs4pM/XZZFA2ndk7/PHHtX/57wP84ELZ3qYO8/",
            "dtype": "f8"
           },
           "y": {
            "bdata": "jPHXlTjlo7+WMlf2mOKTP2Vi1WCfT/A/JjpX9pjikz8s79eVOOWjv3Bi1WCfT/A/",
            "dtype": "f8"
           },
           "z": {
            "bdata": "QRN8FrcypL+Z/ZfJY0PUP/rxDXaWP9Q/oePiSkoE1T8sMqV7AuflP3rvbJ4XCNU/",
            "dtype": "f8"
           }
          }
         ],
         "layout": {
          "annotations": [
           {
            "showarrow": false,
            "text": "Time: 0.90s (Step: 91/100)",
            "x": 0.05,
            "xref": "paper",
            "y": 0.95,
            "yref": "paper"
           }
          ]
         },
         "name": "90"
        },
        {
         "data": [
          {
           "name": "Free Nodes",
           "type": "scatter3d",
           "x": {
            "bdata": "UuoZI4AapL+XF5blX1DwP1AtSEJHHZQ/2O+FZfkXlL8azxgB1KDwP2m+7cUVX+8/",
            "dtype": "f8"
           },
           "y": {
            "bdata": "Bf3p1NgfpL92DVL5Mx2UP1QHwvaJUPA/NBVS+TMdlD+n+unU2B+kv18HwvaJUPA/",
            "dtype": "f8"
           },
           "z": {
            "bdata": "c7HFq5dxpL+mOxNk9xjUP+oJbBccFdQ/Qu1IK8vc1D/pb2rC+sHlPzcf8Hem4NQ/",
            "dtype": "f8"
           }
          },
          {
           "name": "Fixed Nodes",
           "type": "scatter3d",
           "x": [],
           "y": [],
           "z": []
          },
          {
           "name": "Edges",
           "type": "scatter3d",
           "x": [
            1.0196227043356652,
            0.01964293806126466,
            null,
            0.01964293806126466,
            -0.03926468304139931,
            null,
            -0.03926468304139931,
            1.0196227043356652,
            null,
            1.0392646830413867,
            0.9803570619387304,
            null,
            0.9803570619387304,
            -0.019622704335674118,
            null,
            -0.019622704335674118,
            1.0392646830413867,
            null
           ],
           "y": [
            0.019642650692288176,
            1.0196628226262492,
            null,
            1.0196628226262492,
            -0.039305473318558305,
            null,
            -0.039305473318558305,
            0.019642650692288176,
            null,
            -0.0393054733185541,
            1.0196628226262516,
            null,
            1.0196628226262516,
            0.019642650692295052,
            null,
            0.019642650692295052,
            -0.0393054733185541,
            null
           ],
           "z": [
            0.3140238263412648,
            0.31378843581492666,
            null,
            0.31378843581492666,
            -0.039929141729632266,
            null,
            -0.039929141729632266,
            0.3140238263412648,
            null,
            0.6799291417296419,
            0.32621156418507574,
            null,
            0.32621156418507574,
            0.32597617365873444,
            null,
            0.32597617365873444,
            0.6799291417296419,
            null
           ]
          },
          {
           "i": [
            0,
            3
           ],
           "j": [
            1,
            4
           ],
           "k": [
            2,
            5
           ],
           "name": "Faces",
           "type": "mesh3d",
           "x": {
            "bdata": "UuoZI4AapL+XF5blX1DwP1AtSEJHHZQ/2O+FZfkXlL8azxgB1KDwP2m+7cUVX+8/",
            "dtype": "f8"
           },
           "y": {
            "bdata": "Bf3p1NgfpL92DVL5Mx2UP1QHwvaJUPA/NBVS+TMdlD+n+unU2B+kv18HwvaJUPA/",
            "dtype": "f8"
           },
           "z": {
            "bdata": "c7HFq5dxpL+mOxNk9xjUP+oJbBccFdQ/Qu1IK8vc1D/pb2rC+sHlPzcf8Hem4NQ/",
            "dtype": "f8"
           }
          }
         ],
         "layout": {
          "annotations": [
           {
            "showarrow": false,
            "text": "Time: 0.91s (Step: 92/100)",
            "x": 0.05,
            "xref": "paper",
            "y": 0.95,
            "yref": "paper"
           }
          ]
         },
         "name": "91"
        },
        {
         "data": [
          {
           "name": "Free Nodes",
           "type": "scatter3d",
           "x": {
            "bdata": "0kUpCrxUpL8DFWjCSFHwP00cpL6IV5Q/CUsFmjBSlL/1SVHgpaLwP/HeCrpDXe8/",
            "dtype": "f8"
           },
           "y": {
            "bdata": "75eFjR9apL+gyNWUdVeUPz3VGCZzUfA/NdDVlHVXlD95lYWNH1qkv0nVGCZzUfA/",
            "dtype": "f8"
           },
           "z": {
            "bdata": "8N1VDkCwpL/+G5p8h+7TP1lRZzSe6tM/mVSjjU+11D+KFgSG75zlP3Yf1tU4udQ/",
            "dtype": "f8"
           }
          },
          {
           "name": "Fixed Nodes",
           "type": "scatter3d",
           "x": [],
           "y": [],
           "z": []
          },
          {
           "name": "Edges",
           "type": "scatter3d",
           "x": [
            1.0198447793966927,
            0.01986516631680173,
            null,
            0.01986516631680173,
            -0.03970897316015577,
            null,
            -0.03970897316015577,
            1.0198447793966927,
            null,
            1.039708973160143,
            0.9801348336831933,
            null,
            0.9801348336831933,
            -0.01984477939670185,
            null,
            -0.01984477939670185,
            1.039708973160143,
            null
           ],
           "y": [
            0.019864880761311654,
            1.0198852050937852,
            null,
            1.0198852050937852,
            -0.03975008585511818,
            null,
            -0.03975008585511818,
            0.019864880761311654,
            null,
            -0.03975008585511381,
            1.0198852050937879,
            null,
            1.0198852050937879,
            0.019864880761318388,
            null,
            0.019864880761318388,
            -0.03975008585511381,
            null
           ],
           "z": [
            0.3114336697403245,
            0.31119494550263976,
            null,
            0.31119494550263976,
            -0.04040718245499508,
            null,
            -0.04040718245499508,
            0.3114336697403245,
            null,
            0.675407182455005,
            0.32380505449736263,
            null,
            0.32380505449736263,
            0.3235663302596748,
            null,
            0.3235663302596748,
            0.675407182455005,
            null
           ]
          },
          {
           "i": [
            0,
            3
           ],
           "j": [
            1,
            4
           ],
           "k": [
            2,
            5
           ],
           "name": "Faces",
           "type": "mesh3d",
           "x": {
            "bdata": "0kUpCrxUpL8DFWjCSFHwP00cpL6IV5Q/CUsFmjBSlL/1SVHgpaLwP/HeCrpDXe8/",
            "dtype": "f8"
           },
           "y": {
            "bdata": "75eFjR9apL+gyNWUdVeUPz3VGCZzUfA/NdDVlHVXlD95lYWNH1qkv0nVGCZzUfA/",
            "dtype": "f8"
           },
           "z": {
            "bdata": "8N1VDkCwpL/+G5p8h+7TP1lRZzSe6tM/mVSjjU+11D+KFgSG75zlP3Yf1tU4udQ/",
            "dtype": "f8"
           }
          }
         ],
         "layout": {
          "annotations": [
           {
            "showarrow": false,
            "text": "Time: 0.92s (Step: 93/100)",
            "x": 0.05,
            "xref": "paper",
            "y": 0.95,
            "yref": "paper"
           }
          ]
         },
         "name": "92"
        },
        {
         "data": [
          {
           "name": "Free Nodes",
           "type": "scatter3d",
           "x": {
            "bdata": "98TTiZ6OpL9NWxg6MFLwPxkbpLRwkZQ/nN0Whg6MlL/tnU70dKTwP/reWnp0W+8/",
            "dtype": "f8"
           },
           "y": {
            "bdata": "rhDapAyUpL+G3yKuXZGUP6ZEbu5aUvA/EOcirl2RlD8LDtqkDJSkv7JEbu5aUvA/",
            "dtype": "f8"
           },
           "z": {
            "bdata": "603xlLDupL82WJcYFMTTP1ilbdIcwNM/EGCHbNeN1D9icd7L4HflPyYTsbLOkdQ/",
            "dtype": "f8"
           }
          },
          {
           "name": "Fixed Nodes",
           "type": "scatter3d",
           "x": [],
           "y": [],
           "z": []
          },
          {
           "name": "Edges",
           "type": "scatter3d",
           "x": [
            1.0200655240384606,
            0.02008606054826165,
            null,
            0.02008606054826165,
            -0.04015059883557542,
            null,
            -0.04015059883557542,
            1.0200655240384606,
            null,
            1.0401505988355624,
            0.9799139394517333,
            null,
            0.9799139394517333,
            -0.020065524038469826,
            null,
            -0.020065524038469826,
            1.0401505988355624,
            null
           ],
           "y": [
            0.020085777047568885,
            1.0201062501621805,
            null,
            1.0201062501621805,
            -0.040192027209770984,
            null,
            -0.040192027209770984,
            0.020085777047568885,
            null,
            -0.0401920272097663,
            1.0201062501621831,
            null,
            1.0201062501621831,
            0.02008577704757558,
            null,
            0.02008577704757558,
            -0.0401920272097663,
            null
           ],
           "z": [
            0.3088426818989122,
            0.3086006216968449,
            null,
            0.3086006216968449,
            -0.040883558446377886,
            null,
            -0.040883558446377886,
            0.3088426818989122,
            null,
            0.6708835584463879,
            0.32139937830315757,
            null,
            0.32139937830315757,
            0.32115731810108716,
            null,
            0.32115731810108716,
            0.6708835584463879,
            null
           ]
          },
          {
           "i": [
            0,
            3
           ],
           "j": [
            1,
            4
           ],
           "k": [
            2,
            5
           ],
           "name": "Faces",
           "type": "mesh3d",
           "x": {
            "bdata": "98TTiZ6OpL9NWxg6MFLwPxkbpLRwkZQ/nN0Whg6MlL/tnU70dKTwP/reWnp0W+8/",
            "dtype": "f8"
           },
           "y": {
            "bdata": "rhDapAyUpL+G3yKuXZGUP6ZEbu5aUvA/EOcirl2RlD8LDtqkDJSkv7JEbu5aUvA/",
            "dtype": "f8"
           },
           "z": {
            "bdata": "603xlLDupL82WJcYFMTTP1ilbdIcwNM/EGCHbNeN1D9icd7L4HflPyYTsbLOkdQ/",
            "dtype": "f8"
           }
          }
         ],
         "layout": {
          "annotations": [
           {
            "showarrow": false,
            "text": "Time: 0.93s (Step: 94/100)",
            "x": 0.05,
            "xref": "paper",
            "y": 0.95,
            "yref": "paper"
           }
          ]
         },
         "name": "93"
        },
        {
         "data": [
          {
           "name": "Free Nodes",
           "type": "scatter3d",
           "x": {
            "bdata": "V42FhyfIpL9g3zxMFlPwPw06own/ypQ/ouI3D5PFlL8wLDw8QabwPwHmsgeoWe8/",
            "dtype": "f8"
           },
           "y": {
            "bdata": "cO1AAKDNpL9D96Mq7MqUPyx3V09BU/A/4P6jKuzKlD+p6kAAoM2kvzh3V09BU/A/",
            "dtype": "f8"
           },
           "z": {
            "bdata": "TxF2lukspb/ePXc9nZnTP1V67vaXldM/FsKIwmJm1D9xYWeZzlLlP9iFEQloatQ/",
            "dtype": "f8"
           }
          },
          {
           "name": "Fixed Nodes",
           "type": "scatter3d",
           "x": [],
           "y": [],
           "z": []
          },
          {
           "name": "Edges",
           "type": "scatter3d",
           "x": [
            1.020284936717836,
            0.020305619204743098,
            null,
            0.020305619204743098,
            -0.040589556973624034,
            null,
            -0.040589556973624034,
            1.020284936717836,
            null,
            1.040589556973611,
            0.9796943807952517,
            null,
            0.9796943807952517,
            -0.020284936717845377,
            null,
            -0.020284936717845377,
            1.040589556973611,
            null
           ],
           "y": [
            0.020305338003701278,
            1.0203259562762907,
            null,
            1.0203259562762907,
            -0.040631294280013885,
            null,
            -0.040631294280013885,
            0.020305338003701278,
            null,
            -0.04063129428000895,
            1.0203259562762934,
            null,
            1.0203259562762934,
            0.02030533800370804,
            null,
            0.02030533800370804,
            -0.04063129428000895,
            null
           ],
           "z": [
            0.30625086786764466,
            0.3060054694596251,
            null,
            0.3060054694596251,
            -0.04135827981648054,
            null,
            -0.04135827981648054,
            0.30625086786764466,
            null,
            0.6663582798164908,
            0.3189945305403774,
            null,
            0.3189945305403774,
            0.3187491321323547,
            null,
            0.3187491321323547,
            0.6663582798164908,
            null
           ]
          },
          {
           "i": [
            0,
            3
           ],
           "j": [
            1,
            4
           ],
           "k": [
            2,
            5
           ],
           "name": "Faces",
           "type": "mesh3d",
           "x": {
            "bdata": "V42FhyfIpL9g3zxMFlPwPw06own/ypQ/ouI3D5PFlL8wLDw8QabwPwHmsgeoWe8/",
            "dtype": "f8"
           },
           "y": {
            "bdata": "cO1AAKDNpL9D96Mq7MqUPyx3V09BU/A/4P6jKuzKlD+p6kAAoM2kvzh3V09BU/A/",
            "dtype": "f8"
           },
           "z": {
            "bdata": "TxF2lukspb/ePXc9nZnTP1V67vaXldM/FsKIwmJm1D9xYWeZzlLlP9iFEQloatQ/",
            "dtype": "f8"
           }
          }
         ],
         "layout": {
          "annotations": [
           {
            "showarrow": false,
            "text": "Time: 0.94s (Step: 95/100)",
            "x": 0.05,
            "xref": "paper",
            "y": 0.95,
            "yref": "paper"
           }
          ]
         },
         "name": "94"
        },
        {
         "data": [
          {
           "name": "Free Nodes",
           "type": "scatter3d",
           "x": {
            "bdata": "wuPU6FYBpb9rPmz4+lPwPyi3JqMzBJU/e6UPG77+lL/jpka3CqjwPxbK5mLeV+8/",
            "dtype": "f8"
           },
           "y": {
            "bdata": "wPc9hdkGpb/g6O3vIASVP7c3akgmVPA/o/Dt7yAElT/29D2F2Qalv8Q3akgmVPA/",
            "dtype": "f8"
           },
           "z": {
            "bdata": "cWnbaetqpb/rq6fwIm/TP4XZWqcPa9M/t5s5ivE+1D/MWg70uC3lP1ZuhtMEQ9Q/",
            "dtype": "f8"
           }
          },
          {
           "name": "Fixed Nodes",
           "type": "scatter3d",
           "x": [],
           "y": [],
           "z": []
          },
          {
           "name": "Edges",
           "type": "scatter3d",
           "x": [
            1.0205030159012505,
            0.02052384074493499,
            null,
            0.02052384074493499,
            -0.04102584449942227,
            null,
            -0.04102584449942227,
            1.0205030159012505,
            null,
            1.0410258444994092,
            0.9794761592550596,
            null,
            0.9794761592550596,
            -0.020503015901260007,
            null,
            -0.020503015901260007,
            1.0410258444994092,
            null
           ],
           "y": [
            0.020523562091946057,
            1.020544321890595,
            null,
            1.020544321890595,
            -0.041067883982563114,
            null,
            -0.041067883982563114,
            0.020523562091946057,
            null,
            -0.04106788398255816,
            1.0205443218905978,
            null,
            1.0205443218905978,
            0.02052356209195295,
            null,
            0.02052356209195295,
            -0.04106788398255816,
            null
           ],
           "z": [
            0.3036582327028429,
            0.3034094938588157,
            null,
            0.3034094938588157,
            -0.04183135668945937,
            null,
            -0.04183135668945937,
            0.3036582327028429,
            null,
            0.6618313566894698,
            0.3165905061411868,
            null,
            0.3165905061411868,
            0.3163417672971564,
            null,
            0.3163417672971564,
            0.6618313566894698,
            null
           ]
          },
          {
           "i": [
            0,
            3
           ],
           "j": [
            1,
            4
           ],
           "k": [
            2,
            5
           ],
           "name": "Faces",
           "type": "mesh3d",
           "x": {
            "bdata": "wuPU6FYBpb9rPmz4+lPwPyi3JqMzBJU/e6UPG77+lL/jpka3CqjwPxbK5mLeV+8/",
            "dtype": "f8"
           },
           "y": {
            "bdata": "wPc9hdkGpb/g6O3vIASVP7c3akgmVPA/o/Dt7yAElT/29D2F2Qalv8Q3akgmVPA/",
            "dtype": "f8"
           },
           "z": {
            "bdata": "cWnbaetqpb/rq6fwIm/TP4XZWqcPa9M/t5s5ivE+1D/MWg70uC3lP1ZuhtMEQ9Q/",
            "dtype": "f8"
           }
          }
         ],
         "layout": {
          "annotations": [
           {
            "showarrow": false,
            "text": "Time: 0.95s (Step: 96/100)",
            "x": 0.05,
            "xref": "paper",
            "y": 0.95,
            "yref": "paper"
           }
          ]
         },
         "name": "95"
        },
        {
         "data": [
          {
           "name": "Free Nodes",
           "type": "scatter3d",
           "x": {
            "bdata": "rDiCkyw6pb8Ovj0+3lTwPzsL3mYOPZU/So5vj483lb+JEZxk0anwP3QPyYwXVu8/",
            "dtype": "f8"
           },
           "y": {
            "bdata": "zEh/Gbk/pb9mzr/j+zyVP6j6PNkJVfA/L9a/4/s8lT/rRX8ZuT+lv7b6PNkJVfA/",
            "dtype": "f8"
           },
           "z": {
            "bdata": "VqAxZraopb8uEJg3pUTTP1deJemDQNM/I38qvoMX1D8SYkThnwjlPzMxnQylG9Q/",
            "dtype": "f8"
           }
          },
          {
           "name": "Fixed Nodes",
           "type": "scatter3d",
           "x": [],
           "y": [],
           "z": []
          },
          {
           "name": "Edges",
           "type": "scatter3d",
           "x": [
            1.0207197600647109,
            0.020740723637128183,
            null,
            0.020740723637128183,
            -0.04145945835726769,
            null,
            -0.04145945835726769,
            1.0207197600647109,
            null,
            1.0414594583572543,
            0.9792592763628662,
            null,
            0.9792592763628662,
            -0.020719760064720462,
            null,
            -0.020719760064720462,
            1.0414594583572543,
            null
           ],
           "y": [
            0.020740447784147874,
            1.0207613454692055,
            null,
            1.0207613454692055,
            -0.041501793253375746,
            null,
            -0.041501793253375746,
            0.020740447784147874,
            null,
            -0.04150179325337063,
            1.0207613454692086,
            null,
            1.0207613454692086,
            0.02074044778415479,
            null,
            0.02074044778415479,
            -0.04150179325337063,
            null
           ],
           "z": [
            0.30106478146649607,
            0.30081269996796806,
            null,
            0.30081269996796806,
            -0.04230279920085482,
            null,
            -0.04230279920085482,
            0.30106478146649607,
            null,
            0.6573027992008653,
            0.3141873000320345,
            null,
            0.3141873000320345,
            0.3139352185335033,
            null,
            0.3139352185335033,
            0.6573027992008653,
            null
           ]
          },
          {
           "i": [
            0,
            3
           ],
           "j": [
            1,
            4
           ],
           "k": [
            2,
            5
           ],
           "name": "Faces",
           "type": "mesh3d",
           "x": {
            "bdata": "rDiCkyw6pb8Ovj0+3lTwPzsL3mYOPZU/So5vj483lb+JEZxk0anwP3QPyYwXVu8/",
            "dtype": "f8"
           },
           "y": {
            "bdata": "zEh/Gbk/pb9mzr/j+zyVP6j6PNkJVfA/L9a/4/s8lT/rRX8ZuT+lv7b6PNkJVfA/",
            "dtype": "f8"
           },
           "z": {
            "bdata": "VqAxZraopb8uEJg3pUTTP1deJemDQNM/I38qvoMX1D8SYkThnwjlPzMxnQylG9Q/",
            "dtype": "f8"
           }
          }
         ],
         "layout": {
          "annotations": [
           {
            "showarrow": false,
            "text": "Time: 0.96s (Step: 97/100)",
            "x": 0.05,
            "xref": "paper",
            "y": 0.95,
            "yref": "paper"
           }
          ]
         },
         "name": "96"
        },
        {
         "data": [
          {
           "name": "Free Nodes",
           "type": "scatter3d",
           "x": {
            "bdata": "SjN4bahypb+KTEkdwFXwP5D0ojqPdZU/bi1TUgdwlb9dwWtDlavwPyjoKoZTVO8/",
            "dtype": "f8"
           },
           "y": {
            "bdata": "gVTdoj54pb9mDQPsfHWVPwjeZgHsVfA/QRUD7Hx1lT+AUd2iPnilvxfeZgHsVfA/",
            "dtype": "f8"
           },
           "z": {
            "bdata": "O9+h4krmpb+/ZLkXJBrTP9szwsH0FdM/QHLqWBnw0z/YCXxmg+PkP16j4a5I9NM/",
            "dtype": "f8"
           }
          },
          {
           "name": "Fixed Nodes",
           "type": "scatter3d",
           "x": [],
           "y": [],
           "z": []
          },
          {
           "name": "Edges",
           "type": "scatter3d",
           "x": [
            1.0209351676938092,
            0.02095626635922493,
            null,
            0.02095626635922493,
            -0.0418903955106545,
            null,
            -0.0418903955106545,
            1.0209351676938092,
            null,
            1.0418903955106409,
            0.9790437336407694,
            null,
            0.9790437336407694,
            -0.020935167693818917,
            null,
            -0.020935167693818917,
            1.0418903955106409,
            null
           ],
           "y": [
            0.02095599356176816,
            1.0209770254858785,
            null,
            1.0209770254858785,
            -0.04193301904766945,
            null,
            -0.04193301904766945,
            0.02095599356176816,
            null,
            -0.04193301904766411,
            1.0209770254858819,
            null,
            1.0209770254858819,
            0.020955993561775136,
            null,
            0.020955993561775136,
            -0.04193301904766411,
            null
           ],
           "z": [
            0.29847051922622464,
            0.2982150928663125,
            null,
            0.2982150928663125,
            -0.04277261749751778,
            null,
            -0.04277261749751778,
            0.29847051922622464,
            null,
            0.6527726174975284,
            0.3117849071336901,
            null,
            0.3117849071336901,
            0.31152948077377474,
            null,
            0.31152948077377474,
            0.6527726174975284,
            null
           ]
          },
          {
           "i": [
            0,
            3
           ],
           "j": [
            1,
            4
           ],
           "k": [
            2,
            5
           ],
           "name": "Faces",
           "type": "mesh3d",
           "x": {
            "bdata": "SjN4bahypb+KTEkdwFXwP5D0ojqPdZU/bi1TUgdwlb9dwWtDlavwPyjoKoZTVO8/",
            "dtype": "f8"
           },
           "y": {
            "bdata": "gVTdoj54pb9mDQPsfHWVPwjeZgHsVfA/QRUD7Hx1lT+AUd2iPnilvxfeZgHsVfA/",
            "dtype": "f8"
           },
           "z": {
            "bdata": "O9+h4krmpb+/ZLkXJBrTP9szwsH0FdM/QHLqWBnw0z/YCXxmg+PkP16j4a5I9NM/",
            "dtype": "f8"
           }
          }
         ],
         "layout": {
          "annotations": [
           {
            "showarrow": false,
            "text": "Time: 0.97s (Step: 98/100)",
            "x": 0.05,
            "xref": "paper",
            "y": 0.95,
            "yref": "paper"
           }
          ]
         },
         "name": "97"
        },
        {
         "data": [
          {
           "name": "Free Nodes",
           "type": "scatter3d",
           "x": {
            "bdata": "Ar7LXMqqpb/vgCeVoFbwP8iDeQS2rZU//0bgSSWolb+zXeZSVq3wP6sz3E+SUu8/",
            "dtype": "f8"
           },
           "y": {
            "bdata": "+fVaB2qwpb+8Y8vuo62VP7mpf8DMVvA/5mvL7qOtlT/h8loHarClv8ipf8DMVvA/",
            "dtype": "f8"
           },
           "z": {
            "bdata": "7QVuNqkjpr9zLX6Wn+/SPzYSpzZi69I/OfEGVbLI0z8ccCmJY77kP7IM3rTvzNM/",
            "dtype": "f8"
           }
          },
          {
           "name": "Fixed Nodes",
           "type": "scatter3d",
           "x": [],
           "y": [],
           "z": []
          },
          {
           "name": "Edges",
           "type": "scatter3d",
           "x": [
            1.0211492372837332,
            0.02117046739875031,
            null,
            0.02117046739875031,
            -0.042318652942295656,
            null,
            -0.042318652942295656,
            1.0211492372837332,
            null,
            1.042318652942282,
            0.9788295326012436,
            null,
            0.9788295326012436,
            -0.02114923728374318,
            null,
            -0.02114923728374318,
            1.042318652942282,
            null
           ],
           "y": [
            0.021170197915896458,
            1.021191360424025,
            null,
            1.021191360424025,
            -0.042361558339944545,
            null,
            -0.042361558339944545,
            0.021170197915896458,
            null,
            -0.04236155833993905,
            1.0211913604240284,
            null,
            1.0211913604240284,
            0.02117019791590371,
            null,
            0.02117019791590371,
            -0.04236155833993905,
            null
           ],
           "z": [
            0.29587545105524454,
            0.29561667763872224,
            null,
            0.29561667763872224,
            -0.043240821737537384,
            null,
            -0.043240821737537384,
            0.29587545105524454,
            null,
            0.6482408217375482,
            0.3093833223612804,
            null,
            0.3093833223612804,
            0.3091245489447548,
            null,
            0.3091245489447548,
            0.6482408217375482,
            null
           ]
          },
          {
           "i": [
            0,
            3
           ],
           "j": [
            1,
            4
           ],
           "k": [
            2,
            5
           ],
           "name": "Faces",
           "type": "mesh3d",
           "x": {
            "bdata": "Ar7LXMqqpb/vgCeVoFbwP8iDeQS2rZU//0bgSSWolb+zXeZSVq3wP6sz3E+SUu8/",
            "dtype": "f8"
           },
           "y": {
            "bdata": "+fVaB2qwpb+8Y8vuo62VP7mpf8DMVvA/5mvL7qOtlT/h8loHarClv8ipf8DMVvA/",
            "dtype": "f8"
           },
           "z": {
            "bdata": "7QVuNqkjpr9zLX6Wn+/SPzYSpzZi69I/OfEGVbLI0z8ccCmJY77kP7IM3rTvzNM/",
            "dtype": "f8"
           }
          }
         ],
         "layout": {
          "annotations": [
           {
            "showarrow": false,
            "text": "Time: 0.98s (Step: 99/100)",
            "x": 0.05,
            "xref": "paper",
            "y": 0.95,
            "yref": "paper"
           }
          ]
         },
         "name": "98"
        },
        {
         "data": [
          {
           "name": "Free Nodes",
           "type": "scatter3d",
           "x": {
            "bdata": "cBG8R5Lipb9Km3Glf1fwP/ImkKqC5ZU/ud1mXOnflb9N4D2SFK/wP49+q+rTUO8/",
            "dtype": "f8"
           },
           "y": {
            "bdata": "mnolLTvopb+B8lbScOWVP6LPHxasV/A/4fpW0nDllT+HdyUtO+ilv7LPHxasV/A/",
            "dtype": "f8"
           },
           "z": {
            "bdata": "TIHwuNFgpr9FdVq5F8XSPwk8S03MwNI/FvELrU6h0z+qO8JOQJnkP40qGxmapdM/",
            "dtype": "f8"
           }
          },
          {
           "name": "Fixed Nodes",
           "type": "scatter3d",
           "x": [],
           "y": [],
           "z": []
          },
          {
           "name": "Edges",
           "type": "scatter3d",
           "x": [
            1.0213619673392764,
            0.02138332525286208,
            null,
            0.02138332525286208,
            -0.04274422765414243,
            null,
            -0.04274422765414243,
            1.0213619673392764,
            null,
            1.0427442276541286,
            0.9786166747471315,
            null,
            0.9786166747471315,
            -0.02136196733928639,
            null,
            -0.02136196733928639,
            1.0427442276541286,
            null
           ],
           "y": [
            0.02138305934726015,
            1.0214043487767204,
            null,
            1.0214043487767204,
            -0.04278740812400379,
            null,
            -0.04278740812400379,
            0.02138305934726015,
            null,
            -0.04278740812399833,
            1.021404348776724,
            null,
            1.021404348776724,
            0.02138305934726759,
            null,
            0.02138305934726759,
            -0.04278740812399833,
            null
           ],
           "z": [
            0.29327958203233023,
            0.2930174593756765,
            null,
            0.2930174593756765,
            -0.043707422090167286,
            null,
            -0.043707422090167286,
            0.29327958203233023,
            null,
            0.6437074220901782,
            0.3069825406243261,
            null,
            0.3069825406243261,
            0.30672041796766913,
            null,
            0.30672041796766913,
            0.6437074220901782,
            null
           ]
          },
          {
           "i": [
            0,
            3
           ],
           "j": [
            1,
            4
           ],
           "k": [
            2,
            5
           ],
           "name": "Faces",
           "type": "mesh3d",
           "x": {
            "bdata": "cBG8R5Lipb9Km3Glf1fwP/ImkKqC5ZU/ud1mXOnflb9N4D2SFK/wP49+q+rTUO8/",
            "dtype": "f8"
           },
           "y": {
            "bdata": "mnolLTvopb+B8lbScOWVP6LPHxasV/A/4fpW0nDllT+HdyUtO+ilv7LPHxasV/A/",
            "dtype": "f8"
           },
           "z": {
            "bdata": "TIHwuNFgpr9FdVq5F8XSPwk8S03MwNI/FvELrU6h0z+qO8JOQJnkP40qGxmapdM/",
            "dtype": "f8"
           }
          }
         ],
         "layout": {
          "annotations": [
           {
            "showarrow": false,
            "text": "Time: 0.99s (Step: 100/100)",
            "x": 0.05,
            "xref": "paper",
            "y": 0.95,
            "yref": "paper"
           }
          ]
         },
         "name": "99"
        }
       ],
       "layout": {
        "scene": {
         "camera": {
          "eye": {
           "x": 1.2247448713915892,
           "y": 1.224744871391589,
           "z": 0.9999999999999999
          }
         },
         "xaxis": {
          "range": [
           -0.04274422765414243,
           1.0427442276541286
          ],
          "title": {
           "text": "X Position"
          }
         },
         "yaxis": {
          "range": [
           -0.04278740812400379,
           1.021404348776724
          ],
          "title": {
           "text": "Y Position"
          }
         },
         "zaxis": {
          "range": [
           -0.043707422090167286,
           1.095
          ],
          "title": {
           "text": "Z Position"
          }
         }
        },
        "sliders": [
         {
          "currentvalue": {
           "prefix": "Frame: "
          },
          "steps": [
           {
            "args": [
             [
              "0"
             ],
             {
              "frame": {
               "duration": 50,
               "redraw": true
              },
              "mode": "immediate"
             }
            ],
            "label": "0",
            "method": "animate"
           },
           {
            "args": [
             [
              "1"
             ],
             {
              "frame": {
               "duration": 50,
               "redraw": true
              },
              "mode": "immediate"
             }
            ],
            "label": "1",
            "method": "animate"
           },
           {
            "args": [
             [
              "2"
             ],
             {
              "frame": {
               "duration": 50,
               "redraw": true
              },
              "mode": "immediate"
             }
            ],
            "label": "2",
            "method": "animate"
           },
           {
            "args": [
             [
              "3"
             ],
             {
              "frame": {
               "duration": 50,
               "redraw": true
              },
              "mode": "immediate"
             }
            ],
            "label": "3",
            "method": "animate"
           },
           {
            "args": [
             [
              "4"
             ],
             {
              "frame": {
               "duration": 50,
               "redraw": true
              },
              "mode": "immediate"
             }
            ],
            "label": "4",
            "method": "animate"
           },
           {
            "args": [
             [
              "5"
             ],
             {
              "frame": {
               "duration": 50,
               "redraw": true
              },
              "mode": "immediate"
             }
            ],
            "label": "5",
            "method": "animate"
           },
           {
            "args": [
             [
              "6"
             ],
             {
              "frame": {
               "duration": 50,
               "redraw": true
              },
              "mode": "immediate"
             }
            ],
            "label": "6",
            "method": "animate"
           },
           {
            "args": [
             [
              "7"
             ],
             {
              "frame": {
               "duration": 50,
               "redraw": true
              },
              "mode": "immediate"
             }
            ],
            "label": "7",
            "method": "animate"
           },
           {
            "args": [
             [
              "8"
             ],
             {
              "frame": {
               "duration": 50,
               "redraw": true
              },
              "mode": "immediate"
             }
            ],
            "label": "8",
            "method": "animate"
           },
           {
            "args": [
             [
              "9"
             ],
             {
              "frame": {
               "duration": 50,
               "redraw": true
              },
              "mode": "immediate"
             }
            ],
            "label": "9",
            "method": "animate"
           },
           {
            "args": [
             [
              "10"
             ],
             {
              "frame": {
               "duration": 50,
               "redraw": true
              },
              "mode": "immediate"
             }
            ],
            "label": "10",
            "method": "animate"
           },
           {
            "args": [
             [
              "11"
             ],
             {
              "frame": {
               "duration": 50,
               "redraw": true
              },
              "mode": "immediate"
             }
            ],
            "label": "11",
            "method": "animate"
           },
           {
            "args": [
             [
              "12"
             ],
             {
              "frame": {
               "duration": 50,
               "redraw": true
              },
              "mode": "immediate"
             }
            ],
            "label": "12",
            "method": "animate"
           },
           {
            "args": [
             [
              "13"
             ],
             {
              "frame": {
               "duration": 50,
               "redraw": true
              },
              "mode": "immediate"
             }
            ],
            "label": "13",
            "method": "animate"
           },
           {
            "args": [
             [
              "14"
             ],
             {
              "frame": {
               "duration": 50,
               "redraw": true
              },
              "mode": "immediate"
             }
            ],
            "label": "14",
            "method": "animate"
           },
           {
            "args": [
             [
              "15"
             ],
             {
              "frame": {
               "duration": 50,
               "redraw": true
              },
              "mode": "immediate"
             }
            ],
            "label": "15",
            "method": "animate"
           },
           {
            "args": [
             [
              "16"
             ],
             {
              "frame": {
               "duration": 50,
               "redraw": true
              },
              "mode": "immediate"
             }
            ],
            "label": "16",
            "method": "animate"
           },
           {
            "args": [
             [
              "17"
             ],
             {
              "frame": {
               "duration": 50,
               "redraw": true
              },
              "mode": "immediate"
             }
            ],
            "label": "17",
            "method": "animate"
           },
           {
            "args": [
             [
              "18"
             ],
             {
              "frame": {
               "duration": 50,
               "redraw": true
              },
              "mode": "immediate"
             }
            ],
            "label": "18",
            "method": "animate"
           },
           {
            "args": [
             [
              "19"
             ],
             {
              "frame": {
               "duration": 50,
               "redraw": true
              },
              "mode": "immediate"
             }
            ],
            "label": "19",
            "method": "animate"
           },
           {
            "args": [
             [
              "20"
             ],
             {
              "frame": {
               "duration": 50,
               "redraw": true
              },
              "mode": "immediate"
             }
            ],
            "label": "20",
            "method": "animate"
           },
           {
            "args": [
             [
              "21"
             ],
             {
              "frame": {
               "duration": 50,
               "redraw": true
              },
              "mode": "immediate"
             }
            ],
            "label": "21",
            "method": "animate"
           },
           {
            "args": [
             [
              "22"
             ],
             {
              "frame": {
               "duration": 50,
               "redraw": true
              },
              "mode": "immediate"
             }
            ],
            "label": "22",
            "method": "animate"
           },
           {
            "args": [
             [
              "23"
             ],
             {
              "frame": {
               "duration": 50,
               "redraw": true
              },
              "mode": "immediate"
             }
            ],
            "label": "23",
            "method": "animate"
           },
           {
            "args": [
             [
              "24"
             ],
             {
              "frame": {
               "duration": 50,
               "redraw": true
              },
              "mode": "immediate"
             }
            ],
            "label": "24",
            "method": "animate"
           },
           {
            "args": [
             [
              "25"
             ],
             {
              "frame": {
               "duration": 50,
               "redraw": true
              },
              "mode": "immediate"
             }
            ],
            "label": "25",
            "method": "animate"
           },
           {
            "args": [
             [
              "26"
             ],
             {
              "frame": {
               "duration": 50,
               "redraw": true
              },
              "mode": "immediate"
             }
            ],
            "label": "26",
            "method": "animate"
           },
           {
            "args": [
             [
              "27"
             ],
             {
              "frame": {
               "duration": 50,
               "redraw": true
              },
              "mode": "immediate"
             }
            ],
            "label": "27",
            "method": "animate"
           },
           {
            "args": [
             [
              "28"
             ],
             {
              "frame": {
               "duration": 50,
               "redraw": true
              },
              "mode": "immediate"
             }
            ],
            "label": "28",
            "method": "animate"
           },
           {
            "args": [
             [
              "29"
             ],
             {
              "frame": {
               "duration": 50,
               "redraw": true
              },
              "mode": "immediate"
             }
            ],
            "label": "29",
            "method": "animate"
           },
           {
            "args": [
             [
              "30"
             ],
             {
              "frame": {
               "duration": 50,
               "redraw": true
              },
              "mode": "immediate"
             }
            ],
            "label": "30",
            "method": "animate"
           },
           {
            "args": [
             [
              "31"
             ],
             {
              "frame": {
               "duration": 50,
               "redraw": true
              },
              "mode": "immediate"
             }
            ],
            "label": "31",
            "method": "animate"
           },
           {
            "args": [
             [
              "32"
             ],
             {
              "frame": {
               "duration": 50,
               "redraw": true
              },
              "mode": "immediate"
             }
            ],
            "label": "32",
            "method": "animate"
           },
           {
            "args": [
             [
              "33"
             ],
             {
              "frame": {
               "duration": 50,
               "redraw": true
              },
              "mode": "immediate"
             }
            ],
            "label": "33",
            "method": "animate"
           },
           {
            "args": [
             [
              "34"
             ],
             {
              "frame": {
               "duration": 50,
               "redraw": true
              },
              "mode": "immediate"
             }
            ],
            "label": "34",
            "method": "animate"
           },
           {
            "args": [
             [
              "35"
             ],
             {
              "frame": {
               "duration": 50,
               "redraw": true
              },
              "mode": "immediate"
             }
            ],
            "label": "35",
            "method": "animate"
           },
           {
            "args": [
             [
              "36"
             ],
             {
              "frame": {
               "duration": 50,
               "redraw": true
              },
              "mode": "immediate"
             }
            ],
            "label": "36",
            "method": "animate"
           },
           {
            "args": [
             [
              "37"
             ],
             {
              "frame": {
               "duration": 50,
               "redraw": true
              },
              "mode": "immediate"
             }
            ],
            "label": "37",
            "method": "animate"
           },
           {
            "args": [
             [
              "38"
             ],
             {
              "frame": {
               "duration": 50,
               "redraw": true
              },
              "mode": "immediate"
             }
            ],
            "label": "38",
            "method": "animate"
           },
           {
            "args": [
             [
              "39"
             ],
             {
              "frame": {
               "duration": 50,
               "redraw": true
              },
              "mode": "immediate"
             }
            ],
            "label": "39",
            "method": "animate"
           },
           {
            "args": [
             [
              "40"
             ],
             {
              "frame": {
               "duration": 50,
               "redraw": true
              },
              "mode": "immediate"
             }
            ],
            "label": "40",
            "method": "animate"
           },
           {
            "args": [
             [
              "41"
             ],
             {
              "frame": {
               "duration": 50,
               "redraw": true
              },
              "mode": "immediate"
             }
            ],
            "label": "41",
            "method": "animate"
           },
           {
            "args": [
             [
              "42"
             ],
             {
              "frame": {
               "duration": 50,
               "redraw": true
              },
              "mode": "immediate"
             }
            ],
            "label": "42",
            "method": "animate"
           },
           {
            "args": [
             [
              "43"
             ],
             {
              "frame": {
               "duration": 50,
               "redraw": true
              },
              "mode": "immediate"
             }
            ],
            "label": "43",
            "method": "animate"
           },
           {
            "args": [
             [
              "44"
             ],
             {
              "frame": {
               "duration": 50,
               "redraw": true
              },
              "mode": "immediate"
             }
            ],
            "label": "44",
            "method": "animate"
           },
           {
            "args": [
             [
              "45"
             ],
             {
              "frame": {
               "duration": 50,
               "redraw": true
              },
              "mode": "immediate"
             }
            ],
            "label": "45",
            "method": "animate"
           },
           {
            "args": [
             [
              "46"
             ],
             {
              "frame": {
               "duration": 50,
               "redraw": true
              },
              "mode": "immediate"
             }
            ],
            "label": "46",
            "method": "animate"
           },
           {
            "args": [
             [
              "47"
             ],
             {
              "frame": {
               "duration": 50,
               "redraw": true
              },
              "mode": "immediate"
             }
            ],
            "label": "47",
            "method": "animate"
           },
           {
            "args": [
             [
              "48"
             ],
             {
              "frame": {
               "duration": 50,
               "redraw": true
              },
              "mode": "immediate"
             }
            ],
            "label": "48",
            "method": "animate"
           },
           {
            "args": [
             [
              "49"
             ],
             {
              "frame": {
               "duration": 50,
               "redraw": true
              },
              "mode": "immediate"
             }
            ],
            "label": "49",
            "method": "animate"
           },
           {
            "args": [
             [
              "50"
             ],
             {
              "frame": {
               "duration": 50,
               "redraw": true
              },
              "mode": "immediate"
             }
            ],
            "label": "50",
            "method": "animate"
           },
           {
            "args": [
             [
              "51"
             ],
             {
              "frame": {
               "duration": 50,
               "redraw": true
              },
              "mode": "immediate"
             }
            ],
            "label": "51",
            "method": "animate"
           },
           {
            "args": [
             [
              "52"
             ],
             {
              "frame": {
               "duration": 50,
               "redraw": true
              },
              "mode": "immediate"
             }
            ],
            "label": "52",
            "method": "animate"
           },
           {
            "args": [
             [
              "53"
             ],
             {
              "frame": {
               "duration": 50,
               "redraw": true
              },
              "mode": "immediate"
             }
            ],
            "label": "53",
            "method": "animate"
           },
           {
            "args": [
             [
              "54"
             ],
             {
              "frame": {
               "duration": 50,
               "redraw": true
              },
              "mode": "immediate"
             }
            ],
            "label": "54",
            "method": "animate"
           },
           {
            "args": [
             [
              "55"
             ],
             {
              "frame": {
               "duration": 50,
               "redraw": true
              },
              "mode": "immediate"
             }
            ],
            "label": "55",
            "method": "animate"
           },
           {
            "args": [
             [
              "56"
             ],
             {
              "frame": {
               "duration": 50,
               "redraw": true
              },
              "mode": "immediate"
             }
            ],
            "label": "56",
            "method": "animate"
           },
           {
            "args": [
             [
              "57"
             ],
             {
              "frame": {
               "duration": 50,
               "redraw": true
              },
              "mode": "immediate"
             }
            ],
            "label": "57",
            "method": "animate"
           },
           {
            "args": [
             [
              "58"
             ],
             {
              "frame": {
               "duration": 50,
               "redraw": true
              },
              "mode": "immediate"
             }
            ],
            "label": "58",
            "method": "animate"
           },
           {
            "args": [
             [
              "59"
             ],
             {
              "frame": {
               "duration": 50,
               "redraw": true
              },
              "mode": "immediate"
             }
            ],
            "label": "59",
            "method": "animate"
           },
           {
            "args": [
             [
              "60"
             ],
             {
              "frame": {
               "duration": 50,
               "redraw": true
              },
              "mode": "immediate"
             }
            ],
            "label": "60",
            "method": "animate"
           },
           {
            "args": [
             [
              "61"
             ],
             {
              "frame": {
               "duration": 50,
               "redraw": true
              },
              "mode": "immediate"
             }
            ],
            "label": "61",
            "method": "animate"
           },
           {
            "args": [
             [
              "62"
             ],
             {
              "frame": {
               "duration": 50,
               "redraw": true
              },
              "mode": "immediate"
             }
            ],
            "label": "62",
            "method": "animate"
           },
           {
            "args": [
             [
              "63"
             ],
             {
              "frame": {
               "duration": 50,
               "redraw": true
              },
              "mode": "immediate"
             }
            ],
            "label": "63",
            "method": "animate"
           },
           {
            "args": [
             [
              "64"
             ],
             {
              "frame": {
               "duration": 50,
               "redraw": true
              },
              "mode": "immediate"
             }
            ],
            "label": "64",
            "method": "animate"
           },
           {
            "args": [
             [
              "65"
             ],
             {
              "frame": {
               "duration": 50,
               "redraw": true
              },
              "mode": "immediate"
             }
            ],
            "label": "65",
            "method": "animate"
           },
           {
            "args": [
             [
              "66"
             ],
             {
              "frame": {
               "duration": 50,
               "redraw": true
              },
              "mode": "immediate"
             }
            ],
            "label": "66",
            "method": "animate"
           },
           {
            "args": [
             [
              "67"
             ],
             {
              "frame": {
               "duration": 50,
               "redraw": true
              },
              "mode": "immediate"
             }
            ],
            "label": "67",
            "method": "animate"
           },
           {
            "args": [
             [
              "68"
             ],
             {
              "frame": {
               "duration": 50,
               "redraw": true
              },
              "mode": "immediate"
             }
            ],
            "label": "68",
            "method": "animate"
           },
           {
            "args": [
             [
              "69"
             ],
             {
              "frame": {
               "duration": 50,
               "redraw": true
              },
              "mode": "immediate"
             }
            ],
            "label": "69",
            "method": "animate"
           },
           {
            "args": [
             [
              "70"
             ],
             {
              "frame": {
               "duration": 50,
               "redraw": true
              },
              "mode": "immediate"
             }
            ],
            "label": "70",
            "method": "animate"
           },
           {
            "args": [
             [
              "71"
             ],
             {
              "frame": {
               "duration": 50,
               "redraw": true
              },
              "mode": "immediate"
             }
            ],
            "label": "71",
            "method": "animate"
           },
           {
            "args": [
             [
              "72"
             ],
             {
              "frame": {
               "duration": 50,
               "redraw": true
              },
              "mode": "immediate"
             }
            ],
            "label": "72",
            "method": "animate"
           },
           {
            "args": [
             [
              "73"
             ],
             {
              "frame": {
               "duration": 50,
               "redraw": true
              },
              "mode": "immediate"
             }
            ],
            "label": "73",
            "method": "animate"
           },
           {
            "args": [
             [
              "74"
             ],
             {
              "frame": {
               "duration": 50,
               "redraw": true
              },
              "mode": "immediate"
             }
            ],
            "label": "74",
            "method": "animate"
           },
           {
            "args": [
             [
              "75"
             ],
             {
              "frame": {
               "duration": 50,
               "redraw": true
              },
              "mode": "immediate"
             }
            ],
            "label": "75",
            "method": "animate"
           },
           {
            "args": [
             [
              "76"
             ],
             {
              "frame": {
               "duration": 50,
               "redraw": true
              },
              "mode": "immediate"
             }
            ],
            "label": "76",
            "method": "animate"
           },
           {
            "args": [
             [
              "77"
             ],
             {
              "frame": {
               "duration": 50,
               "redraw": true
              },
              "mode": "immediate"
             }
            ],
            "label": "77",
            "method": "animate"
           },
           {
            "args": [
             [
              "78"
             ],
             {
              "frame": {
               "duration": 50,
               "redraw": true
              },
              "mode": "immediate"
             }
            ],
            "label": "78",
            "method": "animate"
           },
           {
            "args": [
             [
              "79"
             ],
             {
              "frame": {
               "duration": 50,
               "redraw": true
              },
              "mode": "immediate"
             }
            ],
            "label": "79",
            "method": "animate"
           },
           {
            "args": [
             [
              "80"
             ],
             {
              "frame": {
               "duration": 50,
               "redraw": true
              },
              "mode": "immediate"
             }
            ],
            "label": "80",
            "method": "animate"
           },
           {
            "args": [
             [
              "81"
             ],
             {
              "frame": {
               "duration": 50,
               "redraw": true
              },
              "mode": "immediate"
             }
            ],
            "label": "81",
            "method": "animate"
           },
           {
            "args": [
             [
              "82"
             ],
             {
              "frame": {
               "duration": 50,
               "redraw": true
              },
              "mode": "immediate"
             }
            ],
            "label": "82",
            "method": "animate"
           },
           {
            "args": [
             [
              "83"
             ],
             {
              "frame": {
               "duration": 50,
               "redraw": true
              },
              "mode": "immediate"
             }
            ],
            "label": "83",
            "method": "animate"
           },
           {
            "args": [
             [
              "84"
             ],
             {
              "frame": {
               "duration": 50,
               "redraw": true
              },
              "mode": "immediate"
             }
            ],
            "label": "84",
            "method": "animate"
           },
           {
            "args": [
             [
              "85"
             ],
             {
              "frame": {
               "duration": 50,
               "redraw": true
              },
              "mode": "immediate"
             }
            ],
            "label": "85",
            "method": "animate"
           },
           {
            "args": [
             [
              "86"
             ],
             {
              "frame": {
               "duration": 50,
               "redraw": true
              },
              "mode": "immediate"
             }
            ],
            "label": "86",
            "method": "animate"
           },
           {
            "args": [
             [
              "87"
             ],
             {
              "frame": {
               "duration": 50,
               "redraw": true
              },
              "mode": "immediate"
             }
            ],
            "label": "87",
            "method": "animate"
           },
           {
            "args": [
             [
              "88"
             ],
             {
              "frame": {
               "duration": 50,
               "redraw": true
              },
              "mode": "immediate"
             }
            ],
            "label": "88",
            "method": "animate"
           },
           {
            "args": [
             [
              "89"
             ],
             {
              "frame": {
               "duration": 50,
               "redraw": true
              },
              "mode": "immediate"
             }
            ],
            "label": "89",
            "method": "animate"
           },
           {
            "args": [
             [
              "90"
             ],
             {
              "frame": {
               "duration": 50,
               "redraw": true
              },
              "mode": "immediate"
             }
            ],
            "label": "90",
            "method": "animate"
           },
           {
            "args": [
             [
              "91"
             ],
             {
              "frame": {
               "duration": 50,
               "redraw": true
              },
              "mode": "immediate"
             }
            ],
            "label": "91",
            "method": "animate"
           },
           {
            "args": [
             [
              "92"
             ],
             {
              "frame": {
               "duration": 50,
               "redraw": true
              },
              "mode": "immediate"
             }
            ],
            "label": "92",
            "method": "animate"
           },
           {
            "args": [
             [
              "93"
             ],
             {
              "frame": {
               "duration": 50,
               "redraw": true
              },
              "mode": "immediate"
             }
            ],
            "label": "93",
            "method": "animate"
           },
           {
            "args": [
             [
              "94"
             ],
             {
              "frame": {
               "duration": 50,
               "redraw": true
              },
              "mode": "immediate"
             }
            ],
            "label": "94",
            "method": "animate"
           },
           {
            "args": [
             [
              "95"
             ],
             {
              "frame": {
               "duration": 50,
               "redraw": true
              },
              "mode": "immediate"
             }
            ],
            "label": "95",
            "method": "animate"
           },
           {
            "args": [
             [
              "96"
             ],
             {
              "frame": {
               "duration": 50,
               "redraw": true
              },
              "mode": "immediate"
             }
            ],
            "label": "96",
            "method": "animate"
           },
           {
            "args": [
             [
              "97"
             ],
             {
              "frame": {
               "duration": 50,
               "redraw": true
              },
              "mode": "immediate"
             }
            ],
            "label": "97",
            "method": "animate"
           },
           {
            "args": [
             [
              "98"
             ],
             {
              "frame": {
               "duration": 50,
               "redraw": true
              },
              "mode": "immediate"
             }
            ],
            "label": "98",
            "method": "animate"
           },
           {
            "args": [
             [
              "99"
             ],
             {
              "frame": {
               "duration": 50,
               "redraw": true
              },
              "mode": "immediate"
             }
            ],
            "label": "99",
            "method": "animate"
           }
          ],
          "transition": {
           "duration": 0
          },
          "x": 0.1,
          "y": 0
         }
        ],
        "template": {
         "data": {
          "bar": [
           {
            "error_x": {
             "color": "#2a3f5f"
            },
            "error_y": {
             "color": "#2a3f5f"
            },
            "marker": {
             "line": {
              "color": "#E5ECF6",
              "width": 0.5
             },
             "pattern": {
              "fillmode": "overlay",
              "size": 10,
              "solidity": 0.2
             }
            },
            "type": "bar"
           }
          ],
          "barpolar": [
           {
            "marker": {
             "line": {
              "color": "#E5ECF6",
              "width": 0.5
             },
             "pattern": {
              "fillmode": "overlay",
              "size": 10,
              "solidity": 0.2
             }
            },
            "type": "barpolar"
           }
          ],
          "carpet": [
           {
            "aaxis": {
             "endlinecolor": "#2a3f5f",
             "gridcolor": "white",
             "linecolor": "white",
             "minorgridcolor": "white",
             "startlinecolor": "#2a3f5f"
            },
            "baxis": {
             "endlinecolor": "#2a3f5f",
             "gridcolor": "white",
             "linecolor": "white",
             "minorgridcolor": "white",
             "startlinecolor": "#2a3f5f"
            },
            "type": "carpet"
           }
          ],
          "choropleth": [
           {
            "colorbar": {
             "outlinewidth": 0,
             "ticks": ""
            },
            "type": "choropleth"
           }
          ],
          "contour": [
           {
            "colorbar": {
             "outlinewidth": 0,
             "ticks": ""
            },
            "colorscale": [
             [
              0,
              "#0d0887"
             ],
             [
              0.1111111111111111,
              "#46039f"
             ],
             [
              0.2222222222222222,
              "#7201a8"
             ],
             [
              0.3333333333333333,
              "#9c179e"
             ],
             [
              0.4444444444444444,
              "#bd3786"
             ],
             [
              0.5555555555555556,
              "#d8576b"
             ],
             [
              0.6666666666666666,
              "#ed7953"
             ],
             [
              0.7777777777777778,
              "#fb9f3a"
             ],
             [
              0.8888888888888888,
              "#fdca26"
             ],
             [
              1,
              "#f0f921"
             ]
            ],
            "type": "contour"
           }
          ],
          "contourcarpet": [
           {
            "colorbar": {
             "outlinewidth": 0,
             "ticks": ""
            },
            "type": "contourcarpet"
           }
          ],
          "heatmap": [
           {
            "colorbar": {
             "outlinewidth": 0,
             "ticks": ""
            },
            "colorscale": [
             [
              0,
              "#0d0887"
             ],
             [
              0.1111111111111111,
              "#46039f"
             ],
             [
              0.2222222222222222,
              "#7201a8"
             ],
             [
              0.3333333333333333,
              "#9c179e"
             ],
             [
              0.4444444444444444,
              "#bd3786"
             ],
             [
              0.5555555555555556,
              "#d8576b"
             ],
             [
              0.6666666666666666,
              "#ed7953"
             ],
             [
              0.7777777777777778,
              "#fb9f3a"
             ],
             [
              0.8888888888888888,
              "#fdca26"
             ],
             [
              1,
              "#f0f921"
             ]
            ],
            "type": "heatmap"
           }
          ],
          "histogram": [
           {
            "marker": {
             "pattern": {
              "fillmode": "overlay",
              "size": 10,
              "solidity": 0.2
             }
            },
            "type": "histogram"
           }
          ],
          "histogram2d": [
           {
            "colorbar": {
             "outlinewidth": 0,
             "ticks": ""
            },
            "colorscale": [
             [
              0,
              "#0d0887"
             ],
             [
              0.1111111111111111,
              "#46039f"
             ],
             [
              0.2222222222222222,
              "#7201a8"
             ],
             [
              0.3333333333333333,
              "#9c179e"
             ],
             [
              0.4444444444444444,
              "#bd3786"
             ],
             [
              0.5555555555555556,
              "#d8576b"
             ],
             [
              0.6666666666666666,
              "#ed7953"
             ],
             [
              0.7777777777777778,
              "#fb9f3a"
             ],
             [
              0.8888888888888888,
              "#fdca26"
             ],
             [
              1,
              "#f0f921"
             ]
            ],
            "type": "histogram2d"
           }
          ],
          "histogram2dcontour": [
           {
            "colorbar": {
             "outlinewidth": 0,
             "ticks": ""
            },
            "colorscale": [
             [
              0,
              "#0d0887"
             ],
             [
              0.1111111111111111,
              "#46039f"
             ],
             [
              0.2222222222222222,
              "#7201a8"
             ],
             [
              0.3333333333333333,
              "#9c179e"
             ],
             [
              0.4444444444444444,
              "#bd3786"
             ],
             [
              0.5555555555555556,
              "#d8576b"
             ],
             [
              0.6666666666666666,
              "#ed7953"
             ],
             [
              0.7777777777777778,
              "#fb9f3a"
             ],
             [
              0.8888888888888888,
              "#fdca26"
             ],
             [
              1,
              "#f0f921"
             ]
            ],
            "type": "histogram2dcontour"
           }
          ],
          "mesh3d": [
           {
            "colorbar": {
             "outlinewidth": 0,
             "ticks": ""
            },
            "type": "mesh3d"
           }
          ],
          "parcoords": [
           {
            "line": {
             "colorbar": {
              "outlinewidth": 0,
              "ticks": ""
             }
            },
            "type": "parcoords"
           }
          ],
          "pie": [
           {
            "automargin": true,
            "type": "pie"
           }
          ],
          "scatter": [
           {
            "fillpattern": {
             "fillmode": "overlay",
             "size": 10,
             "solidity": 0.2
            },
            "type": "scatter"
           }
          ],
          "scatter3d": [
           {
            "line": {
             "colorbar": {
              "outlinewidth": 0,
              "ticks": ""
             }
            },
            "marker": {
             "colorbar": {
              "outlinewidth": 0,
              "ticks": ""
             }
            },
            "type": "scatter3d"
           }
          ],
          "scattercarpet": [
           {
            "marker": {
             "colorbar": {
              "outlinewidth": 0,
              "ticks": ""
             }
            },
            "type": "scattercarpet"
           }
          ],
          "scattergeo": [
           {
            "marker": {
             "colorbar": {
              "outlinewidth": 0,
              "ticks": ""
             }
            },
            "type": "scattergeo"
           }
          ],
          "scattergl": [
           {
            "marker": {
             "colorbar": {
              "outlinewidth": 0,
              "ticks": ""
             }
            },
            "type": "scattergl"
           }
          ],
          "scattermap": [
           {
            "marker": {
             "colorbar": {
              "outlinewidth": 0,
              "ticks": ""
             }
            },
            "type": "scattermap"
           }
          ],
          "scattermapbox": [
           {
            "marker": {
             "colorbar": {
              "outlinewidth": 0,
              "ticks": ""
             }
            },
            "type": "scattermapbox"
           }
          ],
          "scatterpolar": [
           {
            "marker": {
             "colorbar": {
              "outlinewidth": 0,
              "ticks": ""
             }
            },
            "type": "scatterpolar"
           }
          ],
          "scatterpolargl": [
           {
            "marker": {
             "colorbar": {
              "outlinewidth": 0,
              "ticks": ""
             }
            },
            "type": "scatterpolargl"
           }
          ],
          "scatterternary": [
           {
            "marker": {
             "colorbar": {
              "outlinewidth": 0,
              "ticks": ""
             }
            },
            "type": "scatterternary"
           }
          ],
          "surface": [
           {
            "colorbar": {
             "outlinewidth": 0,
             "ticks": ""
            },
            "colorscale": [
             [
              0,
              "#0d0887"
             ],
             [
              0.1111111111111111,
              "#46039f"
             ],
             [
              0.2222222222222222,
              "#7201a8"
             ],
             [
              0.3333333333333333,
              "#9c179e"
             ],
             [
              0.4444444444444444,
              "#bd3786"
             ],
             [
              0.5555555555555556,
              "#d8576b"
             ],
             [
              0.6666666666666666,
              "#ed7953"
             ],
             [
              0.7777777777777778,
              "#fb9f3a"
             ],
             [
              0.8888888888888888,
              "#fdca26"
             ],
             [
              1,
              "#f0f921"
             ]
            ],
            "type": "surface"
           }
          ],
          "table": [
           {
            "cells": {
             "fill": {
              "color": "#EBF0F8"
             },
             "line": {
              "color": "white"
             }
            },
            "header": {
             "fill": {
              "color": "#C8D4E3"
             },
             "line": {
              "color": "white"
             }
            },
            "type": "table"
           }
          ]
         },
         "layout": {
          "annotationdefaults": {
           "arrowcolor": "#2a3f5f",
           "arrowhead": 0,
           "arrowwidth": 1
          },
          "autotypenumbers": "strict",
          "coloraxis": {
           "colorbar": {
            "outlinewidth": 0,
            "ticks": ""
           }
          },
          "colorscale": {
           "diverging": [
            [
             0,
             "#8e0152"
            ],
            [
             0.1,
             "#c51b7d"
            ],
            [
             0.2,
             "#de77ae"
            ],
            [
             0.3,
             "#f1b6da"
            ],
            [
             0.4,
             "#fde0ef"
            ],
            [
             0.5,
             "#f7f7f7"
            ],
            [
             0.6,
             "#e6f5d0"
            ],
            [
             0.7,
             "#b8e186"
            ],
            [
             0.8,
             "#7fbc41"
            ],
            [
             0.9,
             "#4d9221"
            ],
            [
             1,
             "#276419"
            ]
           ],
           "sequential": [
            [
             0,
             "#0d0887"
            ],
            [
             0.1111111111111111,
             "#46039f"
            ],
            [
             0.2222222222222222,
             "#7201a8"
            ],
            [
             0.3333333333333333,
             "#9c179e"
            ],
            [
             0.4444444444444444,
             "#bd3786"
            ],
            [
             0.5555555555555556,
             "#d8576b"
            ],
            [
             0.6666666666666666,
             "#ed7953"
            ],
            [
             0.7777777777777778,
             "#fb9f3a"
            ],
            [
             0.8888888888888888,
             "#fdca26"
            ],
            [
             1,
             "#f0f921"
            ]
           ],
           "sequentialminus": [
            [
             0,
             "#0d0887"
            ],
            [
             0.1111111111111111,
             "#46039f"
            ],
            [
             0.2222222222222222,
             "#7201a8"
            ],
            [
             0.3333333333333333,
             "#9c179e"
            ],
            [
             0.4444444444444444,
             "#bd3786"
            ],
            [
             0.5555555555555556,
             "#d8576b"
            ],
            [
             0.6666666666666666,
             "#ed7953"
            ],
            [
             0.7777777777777778,
             "#fb9f3a"
            ],
            [
             0.8888888888888888,
             "#fdca26"
            ],
            [
             1,
             "#f0f921"
            ]
           ]
          },
          "colorway": [
           "#636efa",
           "#EF553B",
           "#00cc96",
           "#ab63fa",
           "#FFA15A",
           "#19d3f3",
           "#FF6692",
           "#B6E880",
           "#FF97FF",
           "#FECB52"
          ],
          "font": {
           "color": "#2a3f5f"
          },
          "geo": {
           "bgcolor": "white",
           "lakecolor": "white",
           "landcolor": "#E5ECF6",
           "showlakes": true,
           "showland": true,
           "subunitcolor": "white"
          },
          "hoverlabel": {
           "align": "left"
          },
          "hovermode": "closest",
          "mapbox": {
           "style": "light"
          },
          "paper_bgcolor": "white",
          "plot_bgcolor": "#E5ECF6",
          "polar": {
           "angularaxis": {
            "gridcolor": "white",
            "linecolor": "white",
            "ticks": ""
           },
           "bgcolor": "#E5ECF6",
           "radialaxis": {
            "gridcolor": "white",
            "linecolor": "white",
            "ticks": ""
           }
          },
          "scene": {
           "xaxis": {
            "backgroundcolor": "#E5ECF6",
            "gridcolor": "white",
            "gridwidth": 2,
            "linecolor": "white",
            "showbackground": true,
            "ticks": "",
            "zerolinecolor": "white"
           },
           "yaxis": {
            "backgroundcolor": "#E5ECF6",
            "gridcolor": "white",
            "gridwidth": 2,
            "linecolor": "white",
            "showbackground": true,
            "ticks": "",
            "zerolinecolor": "white"
           },
           "zaxis": {
            "backgroundcolor": "#E5ECF6",
            "gridcolor": "white",
            "gridwidth": 2,
            "linecolor": "white",
            "showbackground": true,
            "ticks": "",
            "zerolinecolor": "white"
           }
          },
          "shapedefaults": {
           "line": {
            "color": "#2a3f5f"
           }
          },
          "ternary": {
           "aaxis": {
            "gridcolor": "white",
            "linecolor": "white",
            "ticks": ""
           },
           "baxis": {
            "gridcolor": "white",
            "linecolor": "white",
            "ticks": ""
           },
           "bgcolor": "#E5ECF6",
           "caxis": {
            "gridcolor": "white",
            "linecolor": "white",
            "ticks": ""
           }
          },
          "title": {
           "x": 0.05
          },
          "xaxis": {
           "automargin": true,
           "gridcolor": "white",
           "linecolor": "white",
           "ticks": "",
           "title": {
            "standoff": 15
           },
           "zerolinecolor": "white",
           "zerolinewidth": 2
          },
          "yaxis": {
           "automargin": true,
           "gridcolor": "white",
           "linecolor": "white",
           "ticks": "",
           "title": {
            "standoff": 15
           },
           "zerolinecolor": "white",
           "zerolinewidth": 2
          }
         }
        },
        "title": {
         "text": "Shell contact p2t"
        },
        "updatemenus": [
         {
          "buttons": [
           {
            "args": [
             null,
             {
              "frame": {
               "duration": 50,
               "redraw": true
              },
              "fromcurrent": true
             }
            ],
            "label": "Play",
            "method": "animate"
           },
           {
            "args": [
             [
              null
             ],
             {
              "frame": {
               "duration": 0,
               "redraw": true
              },
              "mode": "immediate"
             }
            ],
            "label": "Pause",
            "method": "animate"
           }
          ],
          "direction": "left",
          "pad": {
           "r": 10,
           "t": 87
          },
          "showactive": false,
          "type": "buttons",
          "x": 0.1,
          "xanchor": "right",
          "y": 0,
          "yanchor": "top"
         }
        ]
       }
      }
     },
     "metadata": {},
     "output_type": "display_data"
    }
   ],
   "source": [
    "t = np.arange(robot.sim_params.total_time, step=robot.sim_params.dt)\n",
    "options = dismech.AnimationOptions(title='Shell contact p2t')\n",
    "\n",
    "fig = dismech.get_interactive_animation_plotly(robot, t, qs, options)\n",
    "fig.show()"
   ]
  },
  {
   "cell_type": "code",
   "execution_count": 4,
   "metadata": {},
   "outputs": [
    {
     "data": {
      "image/png": "[encoded data removed]",
      "text/plain": [
       "<Figure size 640x480 with 1 Axes>"
      ]
     },
     "metadata": {},
     "output_type": "display_data"
    }
   ],
   "source": [
    "ani = dismech.get_animation(robot, t, qs, options)\n",
    "ani.save('parallel_contact.gif')"
   ]
  }
 ],
 "metadata": {
  "kernelspec": {
   "display_name": ".venv",
   "language": "python",
   "name": "python3"
  },
  "language_info": {
   "codemirror_mode": {
    "name": "ipython",
    "version": 3
   },
   "file_extension": ".py",
   "mimetype": "text/x-python",
   "name": "python",
   "nbconvert_exporter": "python",
   "pygments_lexer": "ipython3",
   "version": "3.10.12"
  }
 },
 "nbformat": 4,
 "nbformat_minor": 2
}
