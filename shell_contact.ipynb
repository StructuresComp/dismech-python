{
 "cells": [
  {
   "cell_type": "markdown",
   "metadata": {},
   "source": [
    "## Shell Contact Example"
   ]
  },
  {
   "cell_type": "code",
   "execution_count": 1,
   "metadata": {},
   "outputs": [],
   "source": [
    "import numpy as np\n",
    "\n",
    "import dismech\n",
    "\n",
    "\n",
    "geom = dismech.GeomParams(rod_r0=0.001,\n",
    "                          shell_h=0.001)\n",
    "\n",
    "material = dismech.Material(density=1200,\n",
    "                            youngs_rod=0,\n",
    "                            youngs_shell=2e8,\n",
    "                            poisson_rod=0.5,\n",
    "                            poisson_shell=0)\n",
    "\n",
    "shell_contact_sim = dismech.SimParams(static_sim=False,\n",
    "                                  two_d_sim=False,   # no twisting\n",
    "                                  use_mid_edge=False,\n",
    "                                  use_line_search=False,\n",
    "                                  show_floor=False,\n",
    "                                  log_data=True,\n",
    "                                  log_step=1,\n",
    "                                  dt=1e-2,\n",
    "                                  max_iter=25,\n",
    "                                  total_time=1.0,\n",
    "                                  plot_step=1,\n",
    "                                  tol=1e-4,\n",
    "                                  ftol=1e-4,\n",
    "                                  dtol=1e-2)\n",
    "\n",
    "env = dismech.Environment()\n",
    "#env.add_force('gravity', g=np.array([0.0, 0.0, -9.81]))\n",
    "env.add_force('selfContact', delta=5e-4, h=2e-3)\n",
    "#env.set_static()   \n",
    "\n",
    "geo = dismech.Geometry.from_txt('input_twoTriangleContact_p2t.txt')\n",
    "\n",
    "robot = dismech.SoftRobot(geom, material, geo, shell_contact_sim, env)\n",
    "\n",
    "u = robot.state.u\n",
    "u[11] = -0.5\n",
    "u[14] = -0.5\n",
    "u[17] = -0.5"
   ]
  },
  {
   "cell_type": "markdown",
   "metadata": {},
   "source": [
    "### Time Stepping\n",
    "\n",
    "As we are performing a static simulation, we must change gravity for each time step."
   ]
  },
  {
   "cell_type": "code",
   "execution_count": 2,
   "metadata": {},
   "outputs": [
    {
     "name": "stdout",
     "output_type": "stream",
     "text": [
      "contact type is: ['PointToFace']\n",
      "mask: [[ 9 10 11 12 13 14 15 16 17  3  4  5  6  7  8  0  1  2]]\n",
      "contact type is: ['PointToFace']\n",
      "mask: [[ 9 10 11 12 13 14 15 16 17  3  4  5  6  7  8  0  1  2]]\n",
      "contact type is: ['PointToFace']\n",
      "mask: [[ 9 10 11 12 13 14 15 16 17  3  4  5  6  7  8  0  1  2]]\n",
      "contact type is: ['PointToFace']\n",
      "mask: [[ 9 10 11 12 13 14 15 16 17  3  4  5  6  7  8  0  1  2]]\n",
      "contact type is: ['PointToFace']\n",
      "mask: [[ 9 10 11 12 13 14 15 16 17  3  4  5  6  7  8  0  1  2]]\n",
      "contact type is: ['PointToFace']\n",
      "mask: [[ 9 10 11 12 13 14 15 16 17  3  4  5  6  7  8  0  1  2]]\n",
      "contact type is: ['PointToFace']\n",
      "mask: [[ 9 10 11 12 13 14 15 16 17  3  4  5  6  7  8  0  1  2]]\n",
      "contact type is: ['PointToFace']\n",
      "mask: [[ 9 10 11 12 13 14 15 16 17  3  4  5  6  7  8  0  1  2]]\n",
      "contact type is: ['PointToFace']\n",
      "mask: [[ 9 10 11 12 13 14 15 16 17  3  4  5  6  7  8  0  1  2]]\n",
      "contact type is: ['PointToFace']\n",
      "mask: [[ 9 10 11 12 13 14 15 16 17  3  4  5  6  7  8  0  1  2]]\n",
      "contact type is: ['PointToFace']\n",
      "mask: [[ 9 10 11 12 13 14 15 16 17  3  4  5  6  7  8  0  1  2]]\n",
      "contact type is: ['PointToFace']\n",
      "mask: [[ 9 10 11 12 13 14 15 16 17  3  4  5  6  7  8  0  1  2]]\n",
      "contact type is: ['PointToFace']\n",
      "mask: [[ 9 10 11 12 13 14 15 16 17  3  4  5  6  7  8  0  1  2]]\n",
      "contact type is: ['PointToFace']\n",
      "mask: [[ 9 10 11 12 13 14 15 16 17  3  4  5  6  7  8  0  1  2]]\n",
      "contact type is: ['PointToFace']\n",
      "mask: [[ 9 10 11 12 13 14 15 16 17  3  4  5  6  7  8  0  1  2]]\n",
      "contact type is: ['PointToFace']\n",
      "mask: [[ 9 10 11 12 13 14 15 16 17  3  4  5  6  7  8  0  1  2]]\n",
      "contact type is: ['PointToFace']\n",
      "mask: [[ 9 10 11 12 13 14 15 16 17  3  4  5  6  7  8  0  1  2]]\n",
      "contact type is: ['PointToFace']\n",
      "mask: [[ 9 10 11 12 13 14 15 16 17  3  4  5  6  7  8  0  1  2]]\n",
      "contact type is: ['PointToFace']\n",
      "mask: [[ 9 10 11 12 13 14 15 16 17  3  4  5  6  7  8  0  1  2]]\n",
      "contact type is: ['PointToFace']\n",
      "mask: [[ 9 10 11 12 13 14 15 16 17  3  4  5  6  7  8  0  1  2]]\n",
      "contact type is: ['PointToFace']\n",
      "mask: [[ 9 10 11 12 13 14 15 16 17  3  4  5  6  7  8  0  1  2]]\n",
      "contact type is: ['PointToFace']\n",
      "mask: [[ 9 10 11 12 13 14 15 16 17  3  4  5  6  7  8  0  1  2]]\n",
      "contact type is: ['PointToFace']\n",
      "mask: [[ 9 10 11 12 13 14 15 16 17  3  4  5  6  7  8  0  1  2]]\n",
      "contact type is: ['PointToFace']\n",
      "mask: [[ 9 10 11 12 13 14 15 16 17  3  4  5  6  7  8  0  1  2]]\n",
      "contact type is: ['PointToFace']\n",
      "mask: [[ 9 10 11 12 13 14 15 16 17  3  4  5  6  7  8  0  1  2]]\n",
      "contact type is: ['PointToFace']\n",
      "mask: [[ 9 10 11 12 13 14 15 16 17  3  4  5  6  7  8  0  1  2]]\n",
      "contact type is: ['PointToFace']\n",
      "mask: [[ 9 10 11 12 13 14 15 16 17  3  4  5  6  7  8  0  1  2]]\n",
      "contact type is: ['PointToFace']\n",
      "mask: [[ 9 10 11 12 13 14 15 16 17  3  4  5  6  7  8  0  1  2]]\n",
      "contact type is: ['PointToFace']\n",
      "mask: [[ 9 10 11 12 13 14 15 16 17  3  4  5  6  7  8  0  1  2]]\n",
      "contact type is: ['PointToFace']\n",
      "mask: [[ 9 10 11 12 13 14 15 16 17  3  4  5  6  7  8  0  1  2]]\n",
      "contact type is: ['PointToFace']\n",
      "mask: [[ 9 10 11 12 13 14 15 16 17  3  4  5  6  7  8  0  1  2]]\n",
      "contact type is: ['PointToFace']\n",
      "mask: [[ 9 10 11 12 13 14 15 16 17  3  4  5  6  7  8  0  1  2]]\n",
      "contact type is: ['PointToFace']\n",
      "mask: [[ 9 10 11 12 13 14 15 16 17  3  4  5  6  7  8  0  1  2]]\n",
      "contact type is: ['PointToFace']\n",
      "mask: [[ 9 10 11 12 13 14 15 16 17  3  4  5  6  7  8  0  1  2]]\n",
      "contact type is: ['PointToFace']\n",
      "mask: [[ 9 10 11 12 13 14 15 16 17  3  4  5  6  7  8  0  1  2]]\n",
      "contact type is: ['PointToFace']\n",
      "mask: [[ 9 10 11 12 13 14 15 16 17  3  4  5  6  7  8  0  1  2]]\n",
      "contact type is: ['PointToFace']\n",
      "mask: [[ 9 10 11 12 13 14 15 16 17  3  4  5  6  7  8  0  1  2]]\n",
      "contact type is: ['PointToFace']\n",
      "mask: [[ 9 10 11 12 13 14 15 16 17  3  4  5  6  7  8  0  1  2]]\n",
      "contact type is: ['PointToFace']\n",
      "mask: [[ 9 10 11 12 13 14 15 16 17  3  4  5  6  7  8  0  1  2]]\n",
      "contact type is: ['PointToFace']\n",
      "mask: [[ 9 10 11 12 13 14 15 16 17  3  4  5  6  7  8  0  1  2]]\n",
      "contact type is: ['PointToFace']\n",
      "mask: [[ 9 10 11 12 13 14 15 16 17  3  4  5  6  7  8  0  1  2]]\n",
      "contact type is: ['PointToFace']\n",
      "mask: [[ 9 10 11 12 13 14 15 16 17  3  4  5  6  7  8  0  1  2]]\n",
      "contact type is: ['PointToFace']\n",
      "mask: [[ 9 10 11 12 13 14 15 16 17  3  4  5  6  7  8  0  1  2]]\n",
      "contact type is: ['PointToFace']\n",
      "mask: [[ 9 10 11 12 13 14 15 16 17  3  4  5  6  7  8  0  1  2]]\n",
      "contact type is: ['PointToFace']\n",
      "mask: [[ 9 10 11 12 13 14 15 16 17  3  4  5  6  7  8  0  1  2]]\n",
      "contact type is: ['PointToFace']\n",
      "mask: [[ 9 10 11 12 13 14 15 16 17  3  4  5  6  7  8  0  1  2]]\n",
      "contact type is: ['PointToFace']\n",
      "mask: [[ 9 10 11 12 13 14 15 16 17  3  4  5  6  7  8  0  1  2]]\n",
      "contact type is: ['PointToFace']\n",
      "mask: [[ 9 10 11 12 13 14 15 16 17  3  4  5  6  7  8  0  1  2]]\n",
      "contact type is: ['PointToFace']\n",
      "mask: [[ 9 10 11 12 13 14 15 16 17  3  4  5  6  7  8  0  1  2]]\n",
      "contact type is: ['PointToFace']\n",
      "mask: [[ 9 10 11 12 13 14 15 16 17  3  4  5  6  7  8  0  1  2]]\n",
      "contact type is: ['PointToFace']\n",
      "mask: [[ 9 10 11 12 13 14 15 16 17  3  4  5  6  7  8  0  1  2]]\n",
      "contact type is: ['PointToFace']\n",
      "mask: [[ 9 10 11 12 13 14 15 16 17  3  4  5  6  7  8  0  1  2]]\n",
      "contact type is: ['PointToFace']\n",
      "mask: [[ 9 10 11 12 13 14 15 16 17  3  4  5  6  7  8  0  1  2]]\n",
      "contact type is: ['PointToFace']\n",
      "mask: [[ 9 10 11 12 13 14 15 16 17  3  4  5  6  7  8  0  1  2]]\n",
      "contact type is: ['PointToFace']\n",
      "mask: [[ 9 10 11 12 13 14 15 16 17  3  4  5  6  7  8  0  1  2]]\n",
      "contact type is: ['PointToFace']\n",
      "mask: [[ 9 10 11 12 13 14 15 16 17  3  4  5  6  7  8  0  1  2]]\n",
      "contact type is: ['PointToFace']\n",
      "mask: [[ 9 10 11 12 13 14 15 16 17  3  4  5  6  7  8  0  1  2]]\n",
      "contact type is: ['PointToFace']\n",
      "mask: [[ 9 10 11 12 13 14 15 16 17  3  4  5  6  7  8  0  1  2]]\n",
      "contact type is: ['PointToFace']\n",
      "mask: [[ 9 10 11 12 13 14 15 16 17  3  4  5  6  7  8  0  1  2]]\n",
      "contact type is: ['PointToFace']\n",
      "mask: [[ 9 10 11 12 13 14 15 16 17  3  4  5  6  7  8  0  1  2]]\n",
      "contact type is: ['PointToFace']\n",
      "mask: [[ 9 10 11 12 13 14 15 16 17  3  4  5  6  7  8  0  1  2]]\n",
      "contact type is: ['PointToFace']\n",
      "mask: [[ 9 10 11 12 13 14 15 16 17  3  4  5  6  7  8  0  1  2]]\n",
      "contact type is: ['PointToFace']\n",
      "mask: [[ 9 10 11 12 13 14 15 16 17  3  4  5  6  7  8  0  1  2]]\n",
      "contact type is: ['PointToFace']\n",
      "mask: [[ 9 10 11 12 13 14 15 16 17  3  4  5  6  7  8  0  1  2]]\n",
      "contact type is: ['PointToFace']\n",
      "mask: [[ 9 10 11 12 13 14 15 16 17  3  4  5  6  7  8  0  1  2]]\n",
      "contact type is: ['PointToFace']\n",
      "mask: [[ 9 10 11 12 13 14 15 16 17  3  4  5  6  7  8  0  1  2]]\n",
      "contact type is: ['PointToFace']\n",
      "mask: [[ 9 10 11 12 13 14 15 16 17  3  4  5  6  7  8  0  1  2]]\n",
      "contact type is: ['PointToFace']\n",
      "mask: [[ 9 10 11 12 13 14 15 16 17  3  4  5  6  7  8  0  1  2]]\n",
      "contact type is: ['PointToFace']\n",
      "mask: [[ 9 10 11 12 13 14 15 16 17  3  4  5  6  7  8  0  1  2]]\n",
      "contact type is: ['PointToFace']\n",
      "mask: [[ 9 10 11 12 13 14 15 16 17  3  4  5  6  7  8  0  1  2]]\n",
      "contact type is: ['PointToFace']\n",
      "mask: [[ 9 10 11 12 13 14 15 16 17  3  4  5  6  7  8  0  1  2]]\n",
      "contact type is: ['PointToFace']\n",
      "mask: [[ 9 10 11 12 13 14 15 16 17  3  4  5  6  7  8  0  1  2]]\n",
      "contact type is: ['PointToFace']\n",
      "mask: [[ 9 10 11 12 13 14 15 16 17  3  4  5  6  7  8  0  1  2]]\n",
      "contact type is: ['PointToFace']\n",
      "mask: [[ 9 10 11 12 13 14 15 16 17  3  4  5  6  7  8  0  1  2]]\n",
      "contact type is: ['PointToFace']\n",
      "mask: [[ 9 10 11 12 13 14 15 16 17  3  4  5  6  7  8  0  1  2]]\n",
      "contact type is: ['PointToFace']\n",
      "mask: [[ 9 10 11 12 13 14 15 16 17  3  4  5  6  7  8  0  1  2]]\n",
      "contact type is: ['PointToFace']\n",
      "mask: [[ 9 10 11 12 13 14 15 16 17  3  4  5  6  7  8  0  1  2]]\n",
      "contact type is: ['PointToFace']\n",
      "mask: [[ 9 10 11 12 13 14 15 16 17  3  4  5  6  7  8  0  1  2]]\n",
      "contact type is: ['PointToFace']\n",
      "mask: [[ 9 10 11 12 13 14 15 16 17  3  4  5  6  7  8  0  1  2]]\n",
      "contact type is: ['PointToFace']\n",
      "mask: [[ 9 10 11 12 13 14 15 16 17  3  4  5  6  7  8  0  1  2]]\n",
      "contact type is: ['PointToFace']\n",
      "mask: [[ 9 10 11 12 13 14 15 16 17  3  4  5  6  7  8  0  1  2]]\n",
      "contact type is: ['PointToFace']\n",
      "mask: [[ 9 10 11 12 13 14 15 16 17  3  4  5  6  7  8  0  1  2]]\n",
      "contact type is: ['PointToFace']\n",
      "mask: [[ 9 10 11 12 13 14 15 16 17  3  4  5  6  7  8  0  1  2]]\n",
      "contact type is: ['PointToFace']\n",
      "mask: [[ 9 10 11 12 13 14 15 16 17  3  4  5  6  7  8  0  1  2]]\n",
      "contact type is: ['PointToFace']\n",
      "mask: [[ 9 10 11 12 13 14 15 16 17  3  4  5  6  7  8  0  1  2]]\n",
      "contact type is: ['PointToFace']\n",
      "mask: [[ 9 10 11 12 13 14 15 16 17  3  4  5  6  7  8  0  1  2]]\n",
      "contact type is: ['PointToFace']\n",
      "mask: [[ 9 10 11 12 13 14 15 16 17  3  4  5  6  7  8  0  1  2]]\n",
      "contact type is: ['PointToFace']\n",
      "mask: [[ 9 10 11 12 13 14 15 16 17  3  4  5  6  7  8  0  1  2]]\n",
      "contact type is: ['PointToFace']\n",
      "mask: [[ 9 10 11 12 13 14 15 16 17  3  4  5  6  7  8  0  1  2]]\n",
      "contact type is: ['PointToFace']\n",
      "mask: [[ 9 10 11 12 13 14 15 16 17  3  4  5  6  7  8  0  1  2]]\n",
      "contact type is: ['PointToFace']\n",
      "mask: [[ 9 10 11 12 13 14 15 16 17  3  4  5  6  7  8  0  1  2]]\n",
      "contact type is: ['PointToFace']\n",
      "mask: [[ 9 10 11 12 13 14 15 16 17  3  4  5  6  7  8  0  1  2]]\n",
      "contact type is: ['PointToFace']\n",
      "mask: [[ 9 10 11 12 13 14 15 16 17  3  4  5  6  7  8  0  1  2]]\n",
      "contact type is: ['PointToFace']\n",
      "mask: [[ 9 10 11 12 13 14 15 16 17  3  4  5  6  7  8  0  1  2]]\n",
      "contact type is: ['PointToFace']\n",
      "mask: [[ 9 10 11 12 13 14 15 16 17  3  4  5  6  7  8  0  1  2]]\n",
      "contact type is: ['PointToFace']\n",
      "mask: [[ 9 10 11 12 13 14 15 16 17  3  4  5  6  7  8  0  1  2]]\n",
      "contact type is: ['PointToFace']\n",
      "mask: [[ 9 10 11 12 13 14 15 16 17  3  4  5  6  7  8  0  1  2]]\n",
      "contact type is: ['PointToFace']\n",
      "mask: [[ 9 10 11 12 13 14 15 16 17  3  4  5  6  7  8  0  1  2]]\n",
      "contact type is: ['PointToFace']\n",
      "mask: [[ 9 10 11 12 13 14 15 16 17  3  4  5  6  7  8  0  1  2]]\n",
      "contact type is: ['PointToFace']\n",
      "mask: [[ 9 10 11 12 13 14 15 16 17  3  4  5  6  7  8  0  1  2]]\n",
      "contact type is: ['PointToFace']\n",
      "mask: [[ 9 10 11 12 13 14 15 16 17  3  4  5  6  7  8  0  1  2]]\n",
      "contact type is: ['PointToFace']\n",
      "mask: [[ 9 10 11 12 13 14 15 16 17  3  4  5  6  7  8  0  1  2]]\n",
      "contact type is: ['PointToFace']\n",
      "mask: [[ 9 10 11 12 13 14 15 16 17  3  4  5  6  7  8  0  1  2]]\n",
      "contact type is: ['PointToFace']\n",
      "mask: [[ 9 10 11 12 13 14 15 16 17  3  4  5  6  7  8  0  1  2]]\n",
      "contact type is: ['PointToFace']\n",
      "mask: [[ 9 10 11 12 13 14 15 16 17  3  4  5  6  7  8  0  1  2]]\n",
      "contact type is: ['PointToFace']\n",
      "mask: [[ 9 10 11 12 13 14 15 16 17  3  4  5  6  7  8  0  1  2]]\n",
      "contact type is: ['PointToFace']\n",
      "mask: [[ 9 10 11 12 13 14 15 16 17  3  4  5  6  7  8  0  1  2]]\n",
      "contact type is: ['PointToFace']\n",
      "mask: [[ 9 10 11 12 13 14 15 16 17  3  4  5  6  7  8  0  1  2]]\n",
      "contact type is: ['PointToFace']\n",
      "mask: [[ 9 10 11 12 13 14 15 16 17  3  4  5  6  7  8  0  1  2]]\n",
      "contact type is: ['PointToFace']\n",
      "mask: [[ 9 10 11 12 13 14 15 16 17  3  4  5  6  7  8  0  1  2]]\n",
      "contact type is: ['PointToFace']\n",
      "mask: [[ 9 10 11 12 13 14 15 16 17  3  4  5  6  7  8  0  1  2]]\n",
      "contact type is: ['PointToFace']\n",
      "mask: [[ 9 10 11 12 13 14 15 16 17  3  4  5  6  7  8  0  1  2]]\n",
      "contact type is: ['PointToFace']\n",
      "mask: [[ 9 10 11 12 13 14 15 16 17  3  4  5  6  7  8  0  1  2]]\n",
      "contact type is: ['PointToFace']\n",
      "mask: [[ 9 10 11 12 13 14 15 16 17  3  4  5  6  7  8  0  1  2]]\n",
      "contact type is: ['PointToFace']\n",
      "mask: [[ 9 10 11 12 13 14 15 16 17  3  4  5  6  7  8  0  1  2]]\n",
      "contact type is: ['PointToFace']\n",
      "mask: [[ 9 10 11 12 13 14 15 16 17  3  4  5  6  7  8  0  1  2]]\n",
      "contact type is: ['PointToFace']\n",
      "mask: [[ 9 10 11 12 13 14 15 16 17  3  4  5  6  7  8  0  1  2]]\n",
      "contact type is: ['EdgeToFace']\n",
      "mask: [[ 9 10 11 12 13 14 15 16 17  3  4  5  6  7  8  0  1  2]]\n",
      "contact type is: ['EdgeToFace']\n",
      "mask: [[ 9 10 11 12 13 14 15 16 17  3  4  5  6  7  8  0  1  2]]\n",
      "contact type is: ['EdgeToFace']\n",
      "mask: [[ 9 10 11 12 13 14 15 16 17  3  4  5  6  7  8  0  1  2]]\n",
      "contact type is: ['EdgeToFace']\n",
      "mask: [[ 9 10 11 12 13 14 15 16 17  3  4  5  6  7  8  0  1  2]]\n",
      "contact type is: ['EdgeToFace']\n",
      "mask: [[ 9 10 11 12 13 14 15 16 17  3  4  5  6  7  8  0  1  2]]\n",
      "contact type is: ['EdgeToFace']\n",
      "mask: [[ 9 10 11 12 13 14 15 16 17  3  4  5  6  7  8  0  1  2]]\n",
      "contact type is: ['EdgeToFace']\n",
      "mask: [[ 9 10 11 12 13 14 15 16 17  3  4  5  6  7  8  0  1  2]]\n",
      "contact type is: ['EdgeToFace']\n",
      "mask: [[ 9 10 11 12 13 14 15 16 17  3  4  5  6  7  8  0  1  2]]\n",
      "contact type is: ['EdgeToFace']\n",
      "mask: [[ 9 10 11 12 13 14 15 16 17  3  4  5  6  7  8  0  1  2]]\n",
      "contact type is: ['EdgeToFace']\n",
      "mask: [[ 9 10 11 12 13 14 15 16 17  3  4  5  6  7  8  0  1  2]]\n",
      "contact type is: ['EdgeToFace']\n",
      "mask: [[ 9 10 11 12 13 14 15 16 17  3  4  5  6  7  8  0  1  2]]\n",
      "contact type is: ['EdgeToFace']\n",
      "mask: [[ 9 10 11 12 13 14 15 16 17  3  4  5  6  7  8  0  1  2]]\n",
      "contact type is: ['EdgeToFace']\n",
      "mask: [[ 9 10 11 12 13 14 15 16 17  3  4  5  6  7  8  0  1  2]]\n",
      "contact type is: ['EdgeToFace']\n",
      "mask: [[ 9 10 11 12 13 14 15 16 17  3  4  5  6  7  8  0  1  2]]\n",
      "contact type is: ['EdgeToFace']\n",
      "mask: [[ 9 10 11 12 13 14 15 16 17  3  4  5  6  7  8  0  1  2]]\n",
      "contact type is: ['EdgeToFace']\n",
      "mask: [[ 9 10 11 12 13 14 15 16 17  3  4  5  6  7  8  0  1  2]]\n",
      "contact type is: ['EdgeToFace']\n",
      "mask: [[ 9 10 11 12 13 14 15 16 17  3  4  5  6  7  8  0  1  2]]\n",
      "contact type is: ['EdgeToFace']\n",
      "mask: [[ 9 10 11 12 13 14 15 16 17  3  4  5  6  7  8  0  1  2]]\n",
      "contact type is: ['EdgeToFace']\n",
      "mask: [[ 9 10 11 12 13 14 15 16 17  3  4  5  6  7  8  0  1  2]]\n",
      "contact type is: ['EdgeToFace']\n",
      "mask: [[ 9 10 11 12 13 14 15 16 17  3  4  5  6  7  8  0  1  2]]\n",
      "contact type is: ['EdgeToFace']\n",
      "mask: [[ 9 10 11 12 13 14 15 16 17  3  4  5  6  7  8  0  1  2]]\n",
      "contact type is: ['EdgeToFace']\n",
      "mask: [[ 9 10 11 12 13 14 15 16 17  3  4  5  6  7  8  0  1  2]]\n",
      "contact type is: ['EdgeToFace']\n",
      "mask: [[ 9 10 11 12 13 14 15 16 17  3  4  5  6  7  8  0  1  2]]\n",
      "contact type is: ['EdgeToFace']\n",
      "mask: [[ 9 10 11 12 13 14 15 16 17  3  4  5  6  7  8  0  1  2]]\n",
      "contact type is: ['EdgeToFace']\n",
      "mask: [[ 9 10 11 12 13 14 15 16 17  3  4  5  6  7  8  0  1  2]]\n",
      "contact type is: ['EdgeToFace']\n",
      "mask: [[ 9 10 11 12 13 14 15 16 17  3  4  5  6  7  8  0  1  2]]\n",
      "contact type is: ['EdgeToFace']\n",
      "mask: [[ 9 10 11 12 13 14 15 16 17  3  4  5  6  7  8  0  1  2]]\n",
      "contact type is: ['EdgeToFace']\n",
      "mask: [[ 9 10 11 12 13 14 15 16 17  3  4  5  6  7  8  0  1  2]]\n",
      "contact type is: ['EdgeToFace']\n",
      "mask: [[ 9 10 11 12 13 14 15 16 17  3  4  5  6  7  8  0  1  2]]\n",
      "contact type is: ['EdgeToFace']\n",
      "mask: [[ 9 10 11 12 13 14 15 16 17  3  4  5  6  7  8  0  1  2]]\n",
      "contact type is: ['EdgeToFace']\n",
      "mask: [[ 9 10 11 12 13 14 15 16 17  3  4  5  6  7  8  0  1  2]]\n",
      "contact type is: ['EdgeToFace']\n",
      "mask: [[ 9 10 11 12 13 14 15 16 17  3  4  5  6  7  8  0  1  2]]\n",
      "contact type is: ['EdgeToFace']\n",
      "mask: [[ 9 10 11 12 13 14 15 16 17  3  4  5  6  7  8  0  1  2]]\n",
      "contact type is: ['EdgeToFace']\n",
      "mask: [[ 9 10 11 12 13 14 15 16 17  3  4  5  6  7  8  0  1  2]]\n",
      "contact type is: ['EdgeToFace']\n",
      "mask: [[ 9 10 11 12 13 14 15 16 17  3  4  5  6  7  8  0  1  2]]\n",
      "contact type is: ['EdgeToFace']\n",
      "mask: [[ 9 10 11 12 13 14 15 16 17  3  4  5  6  7  8  0  1  2]]\n",
      "contact type is: ['EdgeToFace']\n",
      "mask: [[ 9 10 11 12 13 14 15 16 17  3  4  5  6  7  8  0  1  2]]\n",
      "contact type is: ['EdgeToFace']\n",
      "mask: [[ 9 10 11 12 13 14 15 16 17  3  4  5  6  7  8  0  1  2]]\n",
      "contact type is: ['EdgeToFace']\n",
      "mask: [[ 9 10 11 12 13 14 15 16 17  3  4  5  6  7  8  0  1  2]]\n",
      "contact type is: ['EdgeToFace']\n",
      "mask: [[ 9 10 11 12 13 14 15 16 17  3  4  5  6  7  8  0  1  2]]\n",
      "contact type is: ['EdgeToFace']\n",
      "mask: [[ 9 10 11 12 13 14 15 16 17  3  4  5  6  7  8  0  1  2]]\n",
      "contact type is: ['EdgeToFace']\n",
      "mask: [[ 9 10 11 12 13 14 15 16 17  3  4  5  6  7  8  0  1  2]]\n",
      "contact type is: ['EdgeToFace']\n",
      "mask: [[ 9 10 11 12 13 14 15 16 17  3  4  5  6  7  8  0  1  2]]\n",
      "contact type is: ['EdgeToFace']\n",
      "mask: [[ 9 10 11 12 13 14 15 16 17  3  4  5  6  7  8  0  1  2]]\n",
      "contact type is: ['EdgeToFace']\n",
      "mask: [[ 9 10 11 12 13 14 15 16 17  3  4  5  6  7  8  0  1  2]]\n",
      "contact type is: ['EdgeToFace']\n",
      "mask: [[ 9 10 11 12 13 14 15 16 17  3  4  5  6  7  8  0  1  2]]\n",
      "contact type is: ['EdgeToFace']\n",
      "mask: [[ 9 10 11 12 13 14 15 16 17  3  4  5  6  7  8  0  1  2]]\n",
      "contact type is: ['EdgeToFace']\n",
      "mask: [[ 9 10 11 12 13 14 15 16 17  3  4  5  6  7  8  0  1  2]]\n",
      "contact type is: ['EdgeToFace']\n",
      "mask: [[ 9 10 11 12 13 14 15 16 17  3  4  5  6  7  8  0  1  2]]\n",
      "contact type is: ['EdgeToFace']\n",
      "mask: [[ 9 10 11 12 13 14 15 16 17  3  4  5  6  7  8  0  1  2]]\n",
      "contact type is: ['EdgeToFace']\n",
      "mask: [[ 9 10 11 12 13 14 15 16 17  3  4  5  6  7  8  0  1  2]]\n",
      "contact type is: ['EdgeToFace']\n",
      "mask: [[ 9 10 11 12 13 14 15 16 17  3  4  5  6  7  8  0  1  2]]\n",
      "contact type is: ['EdgeToFace']\n",
      "mask: [[ 9 10 11 12 13 14 15 16 17  3  4  5  6  7  8  0  1  2]]\n",
      "contact type is: ['EdgeToFace']\n",
      "mask: [[ 9 10 11 12 13 14 15 16 17  3  4  5  6  7  8  0  1  2]]\n",
      "contact type is: ['EdgeToFace']\n",
      "mask: [[ 9 10 11 12 13 14 15 16 17  3  4  5  6  7  8  0  1  2]]\n",
      "contact type is: ['EdgeToFace']\n",
      "mask: [[ 9 10 11 12 13 14 15 16 17  3  4  5  6  7  8  0  1  2]]\n",
      "contact type is: ['EdgeToFace']\n",
      "mask: [[ 9 10 11 12 13 14 15 16 17  3  4  5  6  7  8  0  1  2]]\n",
      "contact type is: ['EdgeToFace']\n",
      "mask: [[ 9 10 11 12 13 14 15 16 17  3  4  5  6  7  8  0  1  2]]\n",
      "contact type is: ['EdgeToFace']\n",
      "mask: [[ 9 10 11 12 13 14 15 16 17  3  4  5  6  7  8  0  1  2]]\n",
      "contact type is: ['EdgeToFace']\n",
      "mask: [[ 9 10 11 12 13 14 15 16 17  3  4  5  6  7  8  0  1  2]]\n",
      "contact type is: ['EdgeToEdge']\n",
      "mask: [[ 0  1  2  3  4  5  6  7  8 12 13 14 15 16 17  9 10 11]]\n",
      "contact type is: ['EdgeToEdge']\n",
      "mask: [[ 0  1  2  3  4  5  6  7  8 12 13 14 15 16 17  9 10 11]]\n",
      "contact type is: ['EdgeToEdge']\n",
      "mask: [[ 0  1  2  3  4  5  6  7  8 12 13 14 15 16 17  9 10 11]]\n",
      "contact type is: ['EdgeToEdge']\n",
      "mask: [[ 0  1  2  3  4  5  6  7  8 12 13 14 15 16 17  9 10 11]]\n",
      "contact type is: ['EdgeToEdge']\n",
      "mask: [[ 0  1  2  3  4  5  6  7  8 12 13 14 15 16 17  9 10 11]]\n",
      "contact type is: ['EdgeToEdge']\n",
      "mask: [[ 0  1  2  3  4  5  6  7  8 12 13 14 15 16 17  9 10 11]]\n",
      "contact type is: ['EdgeToEdge']\n",
      "mask: [[ 0  1  2  3  4  5  6  7  8 12 13 14 15 16 17  9 10 11]]\n",
      "contact type is: ['EdgeToEdge']\n",
      "mask: [[ 0  1  2  3  4  5  6  7  8 12 13 14 15 16 17  9 10 11]]\n",
      "contact type is: ['EdgeToEdge']\n",
      "mask: [[ 0  1  2  3  4  5  6  7  8 12 13 14 15 16 17  9 10 11]]\n",
      "contact type is: ['EdgeToEdge']\n",
      "mask: [[ 0  1  2  3  4  5  6  7  8 12 13 14 15 16 17  9 10 11]]\n",
      "contact type is: ['EdgeToEdge']\n",
      "mask: [[ 0  1  2  3  4  5  6  7  8 12 13 14 15 16 17  9 10 11]]\n",
      "contact type is: ['EdgeToEdge']\n",
      "mask: [[ 0  1  2  3  4  5  6  7  8 12 13 14 15 16 17  9 10 11]]\n",
      "contact type is: ['EdgeToEdge']\n",
      "mask: [[ 0  1  2  3  4  5  6  7  8 15 16 17  9 10 11 12 13 14]]\n",
      "contact type is: ['EdgeToEdge']\n",
      "mask: [[ 0  1  2  3  4  5  6  7  8 15 16 17  9 10 11 12 13 14]]\n",
      "contact type is: ['EdgeToEdge']\n",
      "mask: [[ 0  1  2  3  4  5  6  7  8 15 16 17  9 10 11 12 13 14]]\n",
      "contact type is: ['EdgeToEdge']\n",
      "mask: [[ 0  1  2  3  4  5  6  7  8 15 16 17  9 10 11 12 13 14]]\n",
      "contact type is: ['EdgeToEdge']\n",
      "mask: [[ 0  1  2  3  4  5  6  7  8 15 16 17  9 10 11 12 13 14]]\n",
      "contact type is: ['EdgeToEdge']\n",
      "mask: [[ 0  1  2  3  4  5  6  7  8 15 16 17  9 10 11 12 13 14]]\n",
      "contact type is: ['EdgeToEdge']\n",
      "mask: [[ 0  1  2  3  4  5  6  7  8 12 13 14 15 16 17  9 10 11]]\n",
      "contact type is: ['EdgeToEdge']\n",
      "mask: [[ 0  1  2  3  4  5  6  7  8 12 13 14 15 16 17  9 10 11]]\n",
      "contact type is: ['EdgeToEdge']\n",
      "mask: [[ 0  1  2  3  4  5  6  7  8 12 13 14 15 16 17  9 10 11]]\n",
      "contact type is: ['EdgeToEdge']\n",
      "mask: [[ 0  1  2  3  4  5  6  7  8 12 13 14 15 16 17  9 10 11]]\n",
      "contact type is: ['EdgeToEdge']\n",
      "mask: [[ 0  1  2  3  4  5  6  7  8 12 13 14 15 16 17  9 10 11]]\n",
      "contact type is: ['EdgeToEdge']\n",
      "mask: [[ 0  1  2  3  4  5  6  7  8 12 13 14 15 16 17  9 10 11]]\n",
      "contact type is: ['EdgeToEdge']\n",
      "mask: [[ 0  1  2  3  4  5  6  7  8 12 13 14 15 16 17  9 10 11]]\n",
      "contact type is: ['EdgeToEdge']\n",
      "mask: [[ 0  1  2  3  4  5  6  7  8 12 13 14 15 16 17  9 10 11]]\n",
      "contact type is: ['EdgeToEdge']\n",
      "mask: [[ 0  1  2  3  4  5  6  7  8 12 13 14 15 16 17  9 10 11]]\n",
      "contact type is: ['EdgeToEdge']\n",
      "mask: [[ 0  1  2  3  4  5  6  7  8 12 13 14 15 16 17  9 10 11]]\n",
      "contact type is: ['EdgeToEdge']\n",
      "mask: [[ 0  1  2  3  4  5  6  7  8 12 13 14 15 16 17  9 10 11]]\n",
      "contact type is: ['EdgeToEdge']\n",
      "mask: [[ 0  1  2  3  4  5  6  7  8 12 13 14 15 16 17  9 10 11]]\n",
      "contact type is: ['EdgeToEdge']\n",
      "mask: [[ 0  1  2  3  4  5  6  7  8 12 13 14 15 16 17  9 10 11]]\n",
      "contact type is: ['EdgeToEdge']\n",
      "mask: [[ 0  1  2  3  4  5  6  7  8 12 13 14 15 16 17  9 10 11]]\n",
      "contact type is: ['EdgeToEdge']\n",
      "mask: [[ 0  1  2  3  4  5  6  7  8 12 13 14 15 16 17  9 10 11]]\n",
      "contact type is: ['EdgeToEdge']\n",
      "mask: [[ 0  1  2  3  4  5  6  7  8 12 13 14 15 16 17  9 10 11]]\n",
      "contact type is: ['EdgeToEdge']\n",
      "mask: [[ 0  1  2  3  4  5  6  7  8 12 13 14 15 16 17  9 10 11]]\n",
      "contact type is: ['EdgeToEdge']\n",
      "mask: [[ 0  1  2  3  4  5  6  7  8 12 13 14 15 16 17  9 10 11]]\n",
      "contact type is: ['EdgeToEdge']\n",
      "mask: [[ 0  1  2  3  4  5  6  7  8 12 13 14 15 16 17  9 10 11]]\n",
      "contact type is: ['EdgeToEdge']\n",
      "mask: [[ 0  1  2  3  4  5  6  7  8 12 13 14 15 16 17  9 10 11]]\n",
      "contact type is: ['EdgeToEdge']\n",
      "mask: [[ 0  1  2  3  4  5  6  7  8 12 13 14 15 16 17  9 10 11]]\n",
      "contact type is: ['EdgeToEdge']\n",
      "mask: [[ 0  1  2  3  4  5  6  7  8 12 13 14 15 16 17  9 10 11]]\n",
      "contact type is: ['EdgeToEdge']\n",
      "mask: [[ 0  1  2  3  4  5  6  7  8 12 13 14 15 16 17  9 10 11]]\n",
      "contact type is: ['EdgeToEdge']\n",
      "mask: [[ 0  1  2  3  4  5  6  7  8 12 13 14 15 16 17  9 10 11]]\n",
      "contact type is: ['EdgeToEdge']\n",
      "mask: [[ 0  1  2  3  4  5  6  7  8 12 13 14 15 16 17  9 10 11]]\n",
      "contact type is: ['EdgeToEdge']\n",
      "mask: [[ 0  1  2  3  4  5  6  7  8 12 13 14 15 16 17  9 10 11]]\n",
      "contact type is: ['EdgeToEdge']\n",
      "mask: [[ 0  1  2  3  4  5  6  7  8 12 13 14 15 16 17  9 10 11]]\n",
      "contact type is: ['EdgeToEdge']\n",
      "mask: [[ 0  1  2  3  4  5  6  7  8 12 13 14 15 16 17  9 10 11]]\n",
      "contact type is: ['EdgeToEdge']\n",
      "mask: [[ 0  1  2  3  4  5  6  7  8 12 13 14 15 16 17  9 10 11]]\n",
      "contact type is: ['EdgeToEdge']\n",
      "mask: [[ 0  1  2  3  4  5  6  7  8 12 13 14 15 16 17  9 10 11]]\n",
      "contact type is: ['EdgeToEdge']\n",
      "mask: [[ 0  1  2  3  4  5  6  7  8 15 16 17  9 10 11 12 13 14]]\n",
      "contact type is: ['EdgeToEdge']\n",
      "mask: [[ 0  1  2  3  4  5  6  7  8 15 16 17  9 10 11 12 13 14]]\n",
      "contact type is: ['EdgeToEdge']\n",
      "mask: [[ 0  1  2  3  4  5  6  7  8 15 16 17  9 10 11 12 13 14]]\n",
      "contact type is: ['EdgeToEdge']\n",
      "mask: [[ 0  1  2  3  4  5  6  7  8 15 16 17  9 10 11 12 13 14]]\n",
      "contact type is: ['EdgeToEdge']\n",
      "mask: [[ 0  1  2  3  4  5  6  7  8 15 16 17  9 10 11 12 13 14]]\n",
      "contact type is: ['EdgeToEdge']\n",
      "mask: [[ 0  1  2  3  4  5  6  7  8 15 16 17  9 10 11 12 13 14]]\n",
      "contact type is: ['EdgeToEdge']\n",
      "mask: [[ 0  1  2  3  4  5  6  7  8 12 13 14 15 16 17  9 10 11]]\n",
      "contact type is: ['EdgeToEdge']\n",
      "mask: [[ 0  1  2  3  4  5  6  7  8 12 13 14 15 16 17  9 10 11]]\n",
      "contact type is: ['EdgeToEdge']\n",
      "mask: [[ 0  1  2  3  4  5  6  7  8 12 13 14 15 16 17  9 10 11]]\n",
      "contact type is: ['EdgeToEdge']\n",
      "mask: [[ 0  1  2  3  4  5  6  7  8 12 13 14 15 16 17  9 10 11]]\n",
      "contact type is: ['EdgeToEdge']\n",
      "mask: [[ 0  1  2  3  4  5  6  7  8 12 13 14 15 16 17  9 10 11]]\n",
      "contact type is: ['EdgeToEdge']\n",
      "mask: [[ 0  1  2  3  4  5  6  7  8 12 13 14 15 16 17  9 10 11]]\n",
      "contact type is: ['EdgeToEdge']\n",
      "mask: [[ 0  1  2  3  4  5  6  7  8 12 13 14 15 16 17  9 10 11]]\n",
      "contact type is: ['EdgeToEdge']\n",
      "mask: [[ 0  1  2  3  4  5  6  7  8 12 13 14 15 16 17  9 10 11]]\n",
      "contact type is: ['EdgeToEdge']\n",
      "mask: [[ 0  1  2  3  4  5  6  7  8 12 13 14 15 16 17  9 10 11]]\n",
      "contact type is: ['EdgeToEdge']\n",
      "mask: [[ 0  1  2  3  4  5  6  7  8 15 16 17  9 10 11 12 13 14]]\n",
      "contact type is: ['EdgeToEdge']\n",
      "mask: [[ 0  1  2  3  4  5  6  7  8 15 16 17  9 10 11 12 13 14]]\n",
      "contact type is: ['EdgeToEdge']\n",
      "mask: [[ 0  1  2  3  4  5  6  7  8 15 16 17  9 10 11 12 13 14]]\n",
      "contact type is: ['EdgeToEdge']\n",
      "mask: [[ 0  1  2  3  4  5  6  7  8 15 16 17  9 10 11 12 13 14]]\n",
      "contact type is: ['EdgeToEdge']\n",
      "mask: [[ 0  1  2  3  4  5  6  7  8 15 16 17  9 10 11 12 13 14]]\n",
      "contact type is: ['EdgeToEdge']\n",
      "mask: [[ 0  1  2  3  4  5  6  7  8 15 16 17  9 10 11 12 13 14]]\n",
      "contact type is: ['EdgeToEdge']\n",
      "mask: [[ 0  1  2  3  4  5  6  7  8 15 16 17  9 10 11 12 13 14]]\n",
      "contact type is: ['EdgeToEdge']\n",
      "mask: [[ 0  1  2  3  4  5  6  7  8 15 16 17  9 10 11 12 13 14]]\n",
      "contact type is: ['EdgeToEdge']\n",
      "mask: [[ 0  1  2  3  4  5  6  7  8 15 16 17  9 10 11 12 13 14]]\n",
      "contact type is: ['EdgeToEdge']\n",
      "mask: [[ 0  1  2  3  4  5  6  7  8 15 16 17  9 10 11 12 13 14]]\n",
      "contact type is: ['EdgeToEdge']\n",
      "mask: [[ 0  1  2  3  4  5  6  7  8 15 16 17  9 10 11 12 13 14]]\n",
      "contact type is: ['EdgeToEdge']\n",
      "mask: [[ 0  1  2  3  4  5  6  7  8 15 16 17  9 10 11 12 13 14]]\n",
      "contact type is: ['EdgeToEdge']\n",
      "mask: [[ 0  1  2  3  4  5  6  7  8 15 16 17  9 10 11 12 13 14]]\n",
      "contact type is: ['EdgeToEdge']\n",
      "mask: [[ 0  1  2  3  4  5  6  7  8 15 16 17  9 10 11 12 13 14]]\n",
      "contact type is: ['EdgeToEdge']\n",
      "mask: [[ 0  1  2  3  4  5  6  7  8 15 16 17  9 10 11 12 13 14]]\n",
      "contact type is: ['EdgeToEdge']\n",
      "mask: [[ 0  1  2  3  4  5  6  7  8 15 16 17  9 10 11 12 13 14]]\n",
      "contact type is: ['EdgeToEdge']\n",
      "mask: [[ 0  1  2  3  4  5  6  7  8 15 16 17  9 10 11 12 13 14]]\n",
      "contact type is: ['EdgeToEdge']\n",
      "mask: [[ 0  1  2  3  4  5  6  7  8 15 16 17  9 10 11 12 13 14]]\n",
      "contact type is: ['EdgeToEdge']\n",
      "mask: [[ 0  1  2  3  4  5  6  7  8 15 16 17  9 10 11 12 13 14]]\n",
      "contact type is: ['EdgeToEdge']\n",
      "mask: [[ 0  1  2  3  4  5  6  7  8 15 16 17  9 10 11 12 13 14]]\n",
      "contact type is: ['EdgeToEdge']\n",
      "mask: [[ 0  1  2  3  4  5  6  7  8 15 16 17  9 10 11 12 13 14]]\n",
      "contact type is: ['EdgeToEdge']\n",
      "mask: [[ 0  1  2  3  4  5  6  7  8 15 16 17  9 10 11 12 13 14]]\n",
      "contact type is: ['EdgeToEdge']\n",
      "mask: [[ 0  1  2  3  4  5  6  7  8 15 16 17  9 10 11 12 13 14]]\n",
      "contact type is: ['EdgeToEdge']\n",
      "mask: [[ 0  1  2  3  4  5  6  7  8 15 16 17  9 10 11 12 13 14]]\n",
      "contact type is: ['EdgeToEdge']\n",
      "mask: [[ 0  1  2  3  4  5  6  7  8 15 16 17  9 10 11 12 13 14]]\n",
      "contact type is: ['EdgeToEdge']\n",
      "mask: [[ 0  1  2  3  4  5  6  7  8 15 16 17  9 10 11 12 13 14]]\n",
      "contact type is: ['EdgeToEdge']\n",
      "mask: [[ 0  1  2  3  4  5  6  7  8 15 16 17  9 10 11 12 13 14]]\n",
      "contact type is: ['EdgeToEdge']\n",
      "mask: [[ 0  1  2  3  4  5  6  7  8 15 16 17  9 10 11 12 13 14]]\n",
      "contact type is: ['EdgeToEdge']\n",
      "mask: [[ 0  1  2  3  4  5  6  7  8 15 16 17  9 10 11 12 13 14]]\n",
      "contact type is: ['EdgeToEdge']\n",
      "mask: [[ 0  1  2  3  4  5  6  7  8 15 16 17  9 10 11 12 13 14]]\n",
      "contact type is: ['EdgeToEdge']\n",
      "mask: [[ 0  1  2  3  4  5  6  7  8 15 16 17  9 10 11 12 13 14]]\n",
      "contact type is: ['EdgeToEdge']\n",
      "mask: [[ 0  1  2  3  4  5  6  7  8 15 16 17  9 10 11 12 13 14]]\n",
      "contact type is: ['EdgeToEdge']\n",
      "mask: [[ 0  1  2  3  4  5  6  7  8 15 16 17  9 10 11 12 13 14]]\n",
      "contact type is: ['EdgeToEdge']\n",
      "mask: [[ 0  1  2  3  4  5  6  7  8 15 16 17  9 10 11 12 13 14]]\n",
      "contact type is: ['EdgeToEdge']\n",
      "mask: [[ 0  1  2  3  4  5  6  7  8 15 16 17  9 10 11 12 13 14]]\n",
      "contact type is: ['EdgeToEdge']\n",
      "mask: [[ 0  1  2  3  4  5  6  7  8 15 16 17  9 10 11 12 13 14]]\n",
      "contact type is: ['EdgeToEdge']\n",
      "mask: [[ 0  1  2  3  4  5  6  7  8 15 16 17  9 10 11 12 13 14]]\n",
      "contact type is: ['EdgeToEdge']\n",
      "mask: [[ 0  1  2  3  4  5  6  7  8 15 16 17  9 10 11 12 13 14]]\n",
      "contact type is: ['EdgeToEdge']\n",
      "mask: [[ 0  1  2  3  4  5  6  7  8 15 16 17  9 10 11 12 13 14]]\n",
      "contact type is: ['EdgeToEdge']\n",
      "mask: [[ 0  1  2  3  4  5  6  7  8 15 16 17  9 10 11 12 13 14]]\n",
      "contact type is: ['EdgeToEdge']\n",
      "mask: [[ 0  1  2  3  4  5  6  7  8 15 16 17  9 10 11 12 13 14]]\n",
      "contact type is: ['EdgeToEdge']\n",
      "mask: [[ 0  1  2  3  4  5  6  7  8 15 16 17  9 10 11 12 13 14]]\n",
      "contact type is: ['EdgeToEdge']\n",
      "mask: [[ 0  1  2  3  4  5  6  7  8 15 16 17  9 10 11 12 13 14]]\n",
      "contact type is: ['EdgeToEdge']\n",
      "mask: [[ 0  1  2  3  4  5  6  7  8 15 16 17  9 10 11 12 13 14]]\n",
      "contact type is: ['EdgeToEdge']\n",
      "mask: [[ 0  1  2  3  4  5  6  7  8 15 16 17  9 10 11 12 13 14]]\n",
      "contact type is: ['EdgeToEdge']\n",
      "mask: [[ 0  1  2  3  4  5  6  7  8 15 16 17  9 10 11 12 13 14]]\n",
      "contact type is: ['EdgeToEdge']\n",
      "mask: [[ 0  1  2  3  4  5  6  7  8 15 16 17  9 10 11 12 13 14]]\n",
      "contact type is: ['EdgeToEdge']\n",
      "mask: [[ 0  1  2  3  4  5  6  7  8 15 16 17  9 10 11 12 13 14]]\n",
      "contact type is: ['EdgeToEdge']\n",
      "mask: [[ 0  1  2  3  4  5  6  7  8 15 16 17  9 10 11 12 13 14]]\n",
      "contact type is: ['EdgeToEdge']\n",
      "mask: [[ 0  1  2  3  4  5  6  7  8 15 16 17  9 10 11 12 13 14]]\n",
      "contact type is: ['EdgeToEdge']\n",
      "mask: [[ 0  1  2  3  4  5  6  7  8 15 16 17  9 10 11 12 13 14]]\n",
      "contact type is: ['EdgeToEdge']\n",
      "mask: [[ 0  1  2  3  4  5  6  7  8 15 16 17  9 10 11 12 13 14]]\n",
      "contact type is: ['EdgeToEdge']\n",
      "mask: [[ 0  1  2  3  4  5  6  7  8 15 16 17  9 10 11 12 13 14]]\n",
      "contact type is: ['EdgeToEdge']\n",
      "mask: [[ 0  1  2  3  4  5  6  7  8 15 16 17  9 10 11 12 13 14]]\n",
      "contact type is: ['EdgeToEdge']\n",
      "mask: [[ 0  1  2  3  4  5  6  7  8 15 16 17  9 10 11 12 13 14]]\n",
      "contact type is: ['EdgeToEdge']\n",
      "mask: [[ 0  1  2  3  4  5  6  7  8 15 16 17  9 10 11 12 13 14]]\n",
      "contact type is: ['EdgeToEdge']\n",
      "mask: [[ 0  1  2  3  4  5  6  7  8 15 16 17  9 10 11 12 13 14]]\n",
      "contact type is: ['EdgeToEdge']\n",
      "mask: [[ 0  1  2  3  4  5  6  7  8 15 16 17  9 10 11 12 13 14]]\n",
      "contact type is: ['EdgeToEdge']\n",
      "mask: [[ 0  1  2  3  4  5  6  7  8 15 16 17  9 10 11 12 13 14]]\n",
      "contact type is: ['EdgeToEdge']\n",
      "mask: [[ 0  1  2  3  4  5  6  7  8 15 16 17  9 10 11 12 13 14]]\n",
      "contact type is: ['EdgeToEdge']\n",
      "mask: [[ 0  1  2  3  4  5  6  7  8 15 16 17  9 10 11 12 13 14]]\n",
      "contact type is: ['EdgeToEdge']\n",
      "mask: [[ 0  1  2  3  4  5  6  7  8 15 16 17  9 10 11 12 13 14]]\n",
      "contact type is: ['EdgeToEdge']\n",
      "mask: [[ 0  1  2  3  4  5  6  7  8 15 16 17  9 10 11 12 13 14]]\n",
      "contact type is: ['EdgeToEdge']\n",
      "mask: [[ 0  1  2  3  4  5  6  7  8 15 16 17  9 10 11 12 13 14]]\n",
      "contact type is: ['EdgeToEdge']\n",
      "mask: [[ 0  1  2  3  4  5  6  7  8 15 16 17  9 10 11 12 13 14]]\n",
      "contact type is: ['EdgeToEdge']\n",
      "mask: [[ 0  1  2  3  4  5  6  7  8 15 16 17  9 10 11 12 13 14]]\n",
      "contact type is: ['EdgeToEdge']\n",
      "mask: [[ 0  1  2  3  4  5  6  7  8 15 16 17  9 10 11 12 13 14]]\n",
      "contact type is: ['EdgeToEdge']\n",
      "mask: [[ 0  1  2  3  4  5  6  7  8 15 16 17  9 10 11 12 13 14]]\n",
      "contact type is: ['EdgeToEdge']\n",
      "mask: [[ 0  1  2  3  4  5  6  7  8 15 16 17  9 10 11 12 13 14]]\n",
      "contact type is: ['EdgeToEdge']\n",
      "mask: [[ 0  1  2  3  4  5  6  7  8 15 16 17  9 10 11 12 13 14]]\n",
      "contact type is: ['EdgeToEdge']\n",
      "mask: [[ 0  1  2  3  4  5  6  7  8 15 16 17  9 10 11 12 13 14]]\n",
      "contact type is: ['EdgeToEdge']\n",
      "mask: [[ 0  1  2  3  4  5  6  7  8 15 16 17  9 10 11 12 13 14]]\n",
      "contact type is: ['EdgeToEdge']\n",
      "mask: [[ 0  1  2  3  4  5  6  7  8 15 16 17  9 10 11 12 13 14]]\n",
      "contact type is: ['EdgeToEdge']\n",
      "mask: [[ 0  1  2  3  4  5  6  7  8 15 16 17  9 10 11 12 13 14]]\n",
      "contact type is: ['EdgeToEdge']\n",
      "mask: [[ 0  1  2  3  4  5  6  7  8 15 16 17  9 10 11 12 13 14]]\n",
      "contact type is: ['EdgeToEdge']\n",
      "mask: [[ 0  1  2  3  4  5  6  7  8 15 16 17  9 10 11 12 13 14]]\n",
      "contact type is: ['EdgeToEdge']\n",
      "mask: [[ 0  1  2  3  4  5  6  7  8 15 16 17  9 10 11 12 13 14]]\n",
      "contact type is: ['EdgeToEdge']\n",
      "mask: [[ 0  1  2  3  4  5  6  7  8 15 16 17  9 10 11 12 13 14]]\n",
      "contact type is: ['EdgeToEdge']\n",
      "mask: [[ 0  1  2  3  4  5  6  7  8 15 16 17  9 10 11 12 13 14]]\n",
      "contact type is: ['EdgeToEdge']\n",
      "mask: [[ 0  1  2  3  4  5  6  7  8 15 16 17  9 10 11 12 13 14]]\n",
      "contact type is: ['EdgeToEdge']\n",
      "mask: [[ 0  1  2  3  4  5  6  7  8 15 16 17  9 10 11 12 13 14]]\n",
      "contact type is: ['EdgeToEdge']\n",
      "mask: [[ 0  1  2  3  4  5  6  7  8 15 16 17  9 10 11 12 13 14]]\n",
      "contact type is: ['EdgeToEdge']\n",
      "mask: [[ 0  1  2  3  4  5  6  7  8 15 16 17  9 10 11 12 13 14]]\n",
      "contact type is: ['EdgeToEdge']\n",
      "mask: [[ 0  1  2  3  4  5  6  7  8 15 16 17  9 10 11 12 13 14]]\n",
      "contact type is: ['EdgeToEdge']\n",
      "mask: [[ 0  1  2  3  4  5  6  7  8 15 16 17  9 10 11 12 13 14]]\n",
      "contact type is: ['EdgeToEdge']\n",
      "mask: [[ 0  1  2  3  4  5  6  7  8 15 16 17  9 10 11 12 13 14]]\n",
      "contact type is: ['EdgeToEdge']\n",
      "mask: [[ 0  1  2  3  4  5  6  7  8 15 16 17  9 10 11 12 13 14]]\n",
      "contact type is: ['EdgeToEdge']\n",
      "mask: [[ 0  1  2  3  4  5  6  7  8 15 16 17  9 10 11 12 13 14]]\n",
      "contact type is: ['EdgeToEdge']\n",
      "mask: [[ 0  1  2  3  4  5  6  7  8 15 16 17  9 10 11 12 13 14]]\n",
      "contact type is: ['EdgeToEdge']\n",
      "mask: [[ 0  1  2  3  4  5  6  7  8 15 16 17  9 10 11 12 13 14]]\n",
      "contact type is: ['EdgeToEdge']\n",
      "mask: [[ 0  1  2  3  4  5  6  7  8 15 16 17  9 10 11 12 13 14]]\n",
      "contact type is: ['EdgeToEdge']\n",
      "mask: [[ 0  1  2  3  4  5  6  7  8 15 16 17  9 10 11 12 13 14]]\n",
      "contact type is: ['EdgeToEdge']\n",
      "mask: [[ 0  1  2  3  4  5  6  7  8 15 16 17  9 10 11 12 13 14]]\n",
      "contact type is: ['EdgeToEdge']\n",
      "mask: [[ 0  1  2  3  4  5  6  7  8 15 16 17  9 10 11 12 13 14]]\n",
      "contact type is: ['EdgeToEdge']\n",
      "mask: [[ 0  1  2  3  4  5  6  7  8 15 16 17  9 10 11 12 13 14]]\n",
      "contact type is: ['EdgeToEdge']\n",
      "mask: [[ 0  1  2  3  4  5  6  7  8 15 16 17  9 10 11 12 13 14]]\n",
      "contact type is: ['EdgeToEdge']\n",
      "mask: [[ 0  1  2  3  4  5  6  7  8 15 16 17  9 10 11 12 13 14]]\n",
      "contact type is: ['EdgeToEdge']\n",
      "mask: [[ 0  1  2  3  4  5  6  7  8 15 16 17  9 10 11 12 13 14]]\n",
      "contact type is: ['EdgeToEdge']\n",
      "mask: [[ 0  1  2  3  4  5  6  7  8 15 16 17  9 10 11 12 13 14]]\n",
      "contact type is: ['EdgeToEdge']\n",
      "mask: [[ 0  1  2  3  4  5  6  7  8 15 16 17  9 10 11 12 13 14]]\n",
      "contact type is: ['EdgeToEdge']\n",
      "mask: [[ 0  1  2  3  4  5  6  7  8 15 16 17  9 10 11 12 13 14]]\n",
      "contact type is: ['EdgeToEdge']\n",
      "mask: [[ 0  1  2  3  4  5  6  7  8 15 16 17  9 10 11 12 13 14]]\n",
      "contact type is: ['EdgeToEdge']\n",
      "mask: [[ 0  1  2  3  4  5  6  7  8 15 16 17  9 10 11 12 13 14]]\n",
      "contact type is: ['EdgeToEdge']\n",
      "mask: [[ 0  1  2  3  4  5  6  7  8 15 16 17  9 10 11 12 13 14]]\n",
      "contact type is: ['EdgeToEdge']\n",
      "mask: [[ 0  1  2  3  4  5  6  7  8 15 16 17  9 10 11 12 13 14]]\n",
      "contact type is: ['EdgeToEdge']\n",
      "mask: [[ 0  1  2  3  4  5  6  7  8 15 16 17  9 10 11 12 13 14]]\n",
      "contact type is: ['EdgeToEdge']\n",
      "mask: [[ 0  1  2  3  4  5  6  7  8 15 16 17  9 10 11 12 13 14]]\n",
      "contact type is: ['EdgeToEdge']\n",
      "mask: [[ 0  1  2  3  4  5  6  7  8 15 16 17  9 10 11 12 13 14]]\n",
      "contact type is: ['EdgeToEdge']\n",
      "mask: [[ 0  1  2  3  4  5  6  7  8 15 16 17  9 10 11 12 13 14]]\n",
      "contact type is: ['EdgeToEdge']\n",
      "mask: [[ 0  1  2  3  4  5  6  7  8 15 16 17  9 10 11 12 13 14]]\n",
      "contact type is: ['EdgeToEdge']\n",
      "mask: [[ 0  1  2  3  4  5  6  7  8 15 16 17  9 10 11 12 13 14]]\n",
      "contact type is: ['EdgeToEdge']\n",
      "mask: [[ 0  1  2  3  4  5  6  7  8 15 16 17  9 10 11 12 13 14]]\n",
      "contact type is: ['EdgeToEdge']\n",
      "mask: [[ 0  1  2  3  4  5  6  7  8 15 16 17  9 10 11 12 13 14]]\n",
      "contact type is: ['EdgeToEdge']\n",
      "mask: [[ 0  1  2  3  4  5  6  7  8 15 16 17  9 10 11 12 13 14]]\n",
      "contact type is: ['EdgeToEdge']\n",
      "mask: [[ 0  1  2  3  4  5  6  7  8 15 16 17  9 10 11 12 13 14]]\n",
      "contact type is: ['EdgeToEdge']\n",
      "mask: [[ 0  1  2  3  4  5  6  7  8 15 16 17  9 10 11 12 13 14]]\n",
      "contact type is: ['EdgeToEdge']\n",
      "mask: [[ 0  1  2  3  4  5  6  7  8 15 16 17  9 10 11 12 13 14]]\n",
      "contact type is: ['EdgeToEdge']\n",
      "mask: [[ 0  1  2  3  4  5  6  7  8 15 16 17  9 10 11 12 13 14]]\n",
      "contact type is: ['EdgeToEdge']\n",
      "mask: [[ 0  1  2  3  4  5  6  7  8 15 16 17  9 10 11 12 13 14]]\n",
      "contact type is: ['EdgeToEdge']\n",
      "mask: [[ 0  1  2  3  4  5  6  7  8 15 16 17  9 10 11 12 13 14]]\n",
      "contact type is: ['EdgeToEdge']\n",
      "mask: [[ 0  1  2  3  4  5  6  7  8 15 16 17  9 10 11 12 13 14]]\n",
      "contact type is: ['EdgeToEdge']\n",
      "mask: [[ 0  1  2  3  4  5  6  7  8 15 16 17  9 10 11 12 13 14]]\n",
      "contact type is: ['EdgeToEdge']\n",
      "mask: [[ 0  1  2  3  4  5  6  7  8 15 16 17  9 10 11 12 13 14]]\n",
      "contact type is: ['EdgeToEdge']\n",
      "mask: [[ 0  1  2  3  4  5  6  7  8 15 16 17  9 10 11 12 13 14]]\n",
      "contact type is: ['EdgeToEdge']\n",
      "mask: [[ 0  1  2  3  4  5  6  7  8 15 16 17  9 10 11 12 13 14]]\n",
      "contact type is: ['EdgeToEdge']\n",
      "mask: [[ 0  1  2  3  4  5  6  7  8 15 16 17  9 10 11 12 13 14]]\n",
      "contact type is: ['EdgeToEdge']\n",
      "mask: [[ 0  1  2  3  4  5  6  7  8 15 16 17  9 10 11 12 13 14]]\n",
      "contact type is: ['EdgeToEdge']\n",
      "mask: [[ 0  1  2  3  4  5  6  7  8 15 16 17  9 10 11 12 13 14]]\n",
      "contact type is: ['EdgeToEdge']\n",
      "mask: [[ 0  1  2  3  4  5  6  7  8 15 16 17  9 10 11 12 13 14]]\n",
      "contact type is: ['EdgeToEdge']\n",
      "mask: [[ 0  1  2  3  4  5  6  7  8 15 16 17  9 10 11 12 13 14]]\n",
      "contact type is: ['EdgeToEdge']\n",
      "mask: [[ 0  1  2  3  4  5  6  7  8 15 16 17  9 10 11 12 13 14]]\n",
      "contact type is: ['EdgeToEdge']\n",
      "mask: [[ 0  1  2  3  4  5  6  7  8 15 16 17  9 10 11 12 13 14]]\n",
      "contact type is: ['EdgeToEdge']\n",
      "mask: [[ 0  1  2  3  4  5  6  7  8 15 16 17  9 10 11 12 13 14]]\n",
      "contact type is: ['EdgeToEdge']\n",
      "mask: [[ 0  1  2  3  4  5  6  7  8 15 16 17  9 10 11 12 13 14]]\n",
      "contact type is: ['EdgeToEdge']\n",
      "mask: [[ 0  1  2  3  4  5  6  7  8 15 16 17  9 10 11 12 13 14]]\n",
      "contact type is: ['EdgeToEdge']\n",
      "mask: [[ 0  1  2  3  4  5  6  7  8 15 16 17  9 10 11 12 13 14]]\n",
      "contact type is: ['EdgeToEdge']\n",
      "mask: [[ 0  1  2  3  4  5  6  7  8 15 16 17  9 10 11 12 13 14]]\n",
      "contact type is: ['EdgeToEdge']\n",
      "mask: [[ 0  1  2  3  4  5  6  7  8 15 16 17  9 10 11 12 13 14]]\n",
      "contact type is: ['EdgeToEdge']\n",
      "mask: [[ 0  1  2  3  4  5  6  7  8 15 16 17  9 10 11 12 13 14]]\n",
      "contact type is: ['EdgeToEdge']\n",
      "mask: [[ 0  1  2  3  4  5  6  7  8 15 16 17  9 10 11 12 13 14]]\n",
      "contact type is: ['EdgeToEdge']\n",
      "mask: [[ 0  1  2  3  4  5  6  7  8 15 16 17  9 10 11 12 13 14]]\n",
      "contact type is: ['EdgeToEdge']\n",
      "mask: [[ 0  1  2  3  4  5  6  7  8 15 16 17  9 10 11 12 13 14]]\n",
      "contact type is: ['EdgeToEdge']\n",
      "mask: [[ 0  1  2  3  4  5  6  7  8 15 16 17  9 10 11 12 13 14]]\n",
      "contact type is: ['EdgeToEdge']\n",
      "mask: [[ 0  1  2  3  4  5  6  7  8 15 16 17  9 10 11 12 13 14]]\n",
      "contact type is: ['EdgeToEdge']\n",
      "mask: [[ 0  1  2  3  4  5  6  7  8 15 16 17  9 10 11 12 13 14]]\n",
      "contact type is: ['EdgeToEdge']\n",
      "mask: [[ 0  1  2  3  4  5  6  7  8 15 16 17  9 10 11 12 13 14]]\n",
      "contact type is: ['EdgeToEdge']\n",
      "mask: [[ 0  1  2  3  4  5  6  7  8 15 16 17  9 10 11 12 13 14]]\n",
      "contact type is: ['EdgeToEdge']\n",
      "mask: [[ 0  1  2  3  4  5  6  7  8 15 16 17  9 10 11 12 13 14]]\n",
      "contact type is: ['EdgeToEdge']\n",
      "mask: [[ 0  1  2  3  4  5  6  7  8 15 16 17  9 10 11 12 13 14]]\n",
      "contact type is: ['EdgeToEdge']\n",
      "mask: [[ 0  1  2  3  4  5  6  7  8 15 16 17  9 10 11 12 13 14]]\n",
      "contact type is: ['EdgeToEdge']\n",
      "mask: [[ 0  1  2  3  4  5  6  7  8 15 16 17  9 10 11 12 13 14]]\n",
      "contact type is: ['EdgeToEdge']\n",
      "mask: [[ 0  1  2  3  4  5  6  7  8 15 16 17  9 10 11 12 13 14]]\n",
      "contact type is: ['EdgeToEdge']\n",
      "mask: [[ 0  1  2  3  4  5  6  7  8 15 16 17  9 10 11 12 13 14]]\n",
      "contact type is: ['EdgeToEdge']\n",
      "mask: [[ 0  1  2  3  4  5  6  7  8 15 16 17  9 10 11 12 13 14]]\n",
      "contact type is: ['EdgeToEdge']\n",
      "mask: [[ 0  1  2  3  4  5  6  7  8 15 16 17  9 10 11 12 13 14]]\n",
      "contact type is: ['EdgeToEdge']\n",
      "mask: [[ 0  1  2  3  4  5  6  7  8 15 16 17  9 10 11 12 13 14]]\n",
      "contact type is: ['EdgeToEdge']\n",
      "mask: [[ 0  1  2  3  4  5  6  7  8 15 16 17  9 10 11 12 13 14]]\n",
      "contact type is: ['EdgeToEdge']\n",
      "mask: [[ 0  1  2  3  4  5  6  7  8 15 16 17  9 10 11 12 13 14]]\n",
      "contact type is: ['EdgeToEdge']\n",
      "mask: [[ 0  1  2  3  4  5  6  7  8 15 16 17  9 10 11 12 13 14]]\n",
      "contact type is: ['EdgeToEdge']\n",
      "mask: [[ 0  1  2  3  4  5  6  7  8 15 16 17  9 10 11 12 13 14]]\n",
      "contact type is: ['EdgeToEdge']\n",
      "mask: [[ 0  1  2  3  4  5  6  7  8 15 16 17  9 10 11 12 13 14]]\n",
      "contact type is: ['EdgeToEdge']\n",
      "mask: [[ 0  1  2  3  4  5  6  7  8 15 16 17  9 10 11 12 13 14]]\n",
      "contact type is: ['EdgeToEdge']\n",
      "mask: [[ 0  1  2  3  4  5  6  7  8 15 16 17  9 10 11 12 13 14]]\n",
      "contact type is: ['EdgeToEdge']\n",
      "mask: [[ 0  1  2  3  4  5  6  7  8 15 16 17  9 10 11 12 13 14]]\n",
      "contact type is: ['EdgeToEdge']\n",
      "mask: [[ 0  1  2  3  4  5  6  7  8 15 16 17  9 10 11 12 13 14]]\n",
      "contact type is: ['EdgeToEdge']\n",
      "mask: [[ 0  1  2  3  4  5  6  7  8 15 16 17  9 10 11 12 13 14]]\n",
      "contact type is: ['EdgeToEdge']\n",
      "mask: [[ 0  1  2  3  4  5  6  7  8 15 16 17  9 10 11 12 13 14]]\n",
      "contact type is: ['EdgeToEdge']\n",
      "mask: [[ 0  1  2  3  4  5  6  7  8 15 16 17  9 10 11 12 13 14]]\n",
      "contact type is: ['EdgeToEdge']\n",
      "mask: [[ 0  1  2  3  4  5  6  7  8 15 16 17  9 10 11 12 13 14]]\n",
      "contact type is: ['EdgeToEdge']\n",
      "mask: [[ 0  1  2  3  4  5  6  7  8 15 16 17  9 10 11 12 13 14]]\n",
      "contact type is: ['EdgeToEdge']\n",
      "mask: [[ 0  1  2  3  4  5  6  7  8 15 16 17  9 10 11 12 13 14]]\n",
      "contact type is: ['EdgeToEdge']\n",
      "mask: [[ 0  1  2  3  4  5  6  7  8 15 16 17  9 10 11 12 13 14]]\n",
      "contact type is: ['EdgeToEdge']\n",
      "mask: [[ 0  1  2  3  4  5  6  7  8 15 16 17  9 10 11 12 13 14]]\n",
      "contact type is: ['EdgeToEdge']\n",
      "mask: [[ 0  1  2  3  4  5  6  7  8 15 16 17  9 10 11 12 13 14]]\n",
      "contact type is: ['EdgeToEdge']\n",
      "mask: [[ 0  1  2  3  4  5  6  7  8 15 16 17  9 10 11 12 13 14]]\n",
      "contact type is: ['EdgeToEdge']\n",
      "mask: [[ 0  1  2  3  4  5  6  7  8 15 16 17  9 10 11 12 13 14]]\n",
      "contact type is: ['EdgeToEdge']\n",
      "mask: [[ 0  1  2  3  4  5  6  7  8 15 16 17  9 10 11 12 13 14]]\n",
      "contact type is: ['EdgeToEdge']\n",
      "mask: [[ 0  1  2  3  4  5  6  7  8 15 16 17  9 10 11 12 13 14]]\n",
      "contact type is: ['EdgeToEdge']\n",
      "mask: [[ 0  1  2  3  4  5  6  7  8 15 16 17  9 10 11 12 13 14]]\n",
      "contact type is: ['EdgeToEdge']\n",
      "mask: [[ 0  1  2  3  4  5  6  7  8 15 16 17  9 10 11 12 13 14]]\n",
      "contact type is: ['EdgeToEdge']\n",
      "mask: [[ 0  1  2  3  4  5  6  7  8 15 16 17  9 10 11 12 13 14]]\n",
      "contact type is: ['EdgeToEdge']\n",
      "mask: [[ 0  1  2  3  4  5  6  7  8 15 16 17  9 10 11 12 13 14]]\n",
      "contact type is: ['EdgeToEdge']\n",
      "mask: [[ 0  1  2  3  4  5  6  7  8 15 16 17  9 10 11 12 13 14]]\n",
      "contact type is: ['EdgeToEdge']\n",
      "mask: [[ 0  1  2  3  4  5  6  7  8 15 16 17  9 10 11 12 13 14]]\n",
      "contact type is: ['EdgeToEdge']\n",
      "mask: [[ 0  1  2  3  4  5  6  7  8 15 16 17  9 10 11 12 13 14]]\n",
      "contact type is: ['EdgeToEdge']\n",
      "mask: [[ 0  1  2  3  4  5  6  7  8 15 16 17  9 10 11 12 13 14]]\n",
      "contact type is: ['EdgeToEdge']\n",
      "mask: [[ 0  1  2  3  4  5  6  7  8 15 16 17  9 10 11 12 13 14]]\n",
      "contact type is: ['EdgeToEdge']\n",
      "mask: [[ 0  1  2  3  4  5  6  7  8 15 16 17  9 10 11 12 13 14]]\n",
      "contact type is: ['EdgeToEdge']\n",
      "mask: [[ 0  1  2  3  4  5  6  7  8 15 16 17  9 10 11 12 13 14]]\n",
      "contact type is: ['EdgeToEdge']\n",
      "mask: [[ 0  1  2  3  4  5  6  7  8 15 16 17  9 10 11 12 13 14]]\n",
      "contact type is: ['EdgeToEdge']\n",
      "mask: [[ 0  1  2  3  4  5  6  7  8 15 16 17  9 10 11 12 13 14]]\n",
      "contact type is: ['EdgeToEdge']\n",
      "mask: [[ 0  1  2  3  4  5  6  7  8 15 16 17  9 10 11 12 13 14]]\n",
      "contact type is: ['EdgeToEdge']\n",
      "mask: [[ 0  1  2  3  4  5  6  7  8 15 16 17  9 10 11 12 13 14]]\n",
      "contact type is: ['EdgeToEdge']\n",
      "mask: [[ 0  1  2  3  4  5  6  7  8 15 16 17  9 10 11 12 13 14]]\n",
      "contact type is: ['EdgeToEdge']\n",
      "mask: [[ 0  1  2  3  4  5  6  7  8 15 16 17  9 10 11 12 13 14]]\n",
      "contact type is: ['EdgeToEdge']\n",
      "mask: [[ 0  1  2  3  4  5  6  7  8 15 16 17  9 10 11 12 13 14]]\n",
      "contact type is: ['EdgeToEdge']\n",
      "mask: [[ 0  1  2  3  4  5  6  7  8 15 16 17  9 10 11 12 13 14]]\n",
      "contact type is: ['EdgeToEdge']\n",
      "mask: [[ 0  1  2  3  4  5  6  7  8 15 16 17  9 10 11 12 13 14]]\n",
      "contact type is: ['EdgeToEdge']\n",
      "mask: [[ 0  1  2  3  4  5  6  7  8 15 16 17  9 10 11 12 13 14]]\n",
      "contact type is: ['EdgeToEdge']\n",
      "mask: [[ 0  1  2  3  4  5  6  7  8 15 16 17  9 10 11 12 13 14]]\n",
      "contact type is: ['EdgeToEdge']\n",
      "mask: [[ 0  1  2  3  4  5  6  7  8 15 16 17  9 10 11 12 13 14]]\n",
      "contact type is: ['EdgeToEdge']\n",
      "mask: [[ 0  1  2  3  4  5  6  7  8 15 16 17  9 10 11 12 13 14]]\n",
      "contact type is: ['EdgeToEdge']\n",
      "mask: [[ 0  1  2  3  4  5  6  7  8 15 16 17  9 10 11 12 13 14]]\n",
      "contact type is: ['EdgeToEdge']\n",
      "mask: [[ 0  1  2  3  4  5  6  7  8 15 16 17  9 10 11 12 13 14]]\n",
      "contact type is: ['EdgeToEdge']\n",
      "mask: [[ 0  1  2  3  4  5  6  7  8 15 16 17  9 10 11 12 13 14]]\n",
      "contact type is: ['EdgeToEdge']\n",
      "mask: [[ 0  1  2  3  4  5  6  7  8 15 16 17  9 10 11 12 13 14]]\n",
      "contact type is: ['EdgeToEdge']\n",
      "mask: [[ 0  1  2  3  4  5  6  7  8 15 16 17  9 10 11 12 13 14]]\n",
      "contact type is: ['EdgeToEdge']\n",
      "mask: [[ 0  1  2  3  4  5  6  7  8 15 16 17  9 10 11 12 13 14]]\n",
      "contact type is: ['EdgeToEdge']\n",
      "mask: [[ 0  1  2  3  4  5  6  7  8 15 16 17  9 10 11 12 13 14]]\n",
      "contact type is: ['EdgeToEdge']\n",
      "mask: [[ 0  1  2  3  4  5  6  7  8 15 16 17  9 10 11 12 13 14]]\n",
      "contact type is: ['EdgeToEdge']\n",
      "mask: [[ 0  1  2  3  4  5  6  7  8 15 16 17  9 10 11 12 13 14]]\n",
      "contact type is: ['EdgeToEdge']\n",
      "mask: [[ 0  1  2  3  4  5  6  7  8 15 16 17  9 10 11 12 13 14]]\n",
      "contact type is: ['EdgeToEdge']\n",
      "mask: [[ 0  1  2  3  4  5  6  7  8 15 16 17  9 10 11 12 13 14]]\n",
      "contact type is: ['EdgeToEdge']\n",
      "mask: [[ 0  1  2  3  4  5  6  7  8 15 16 17  9 10 11 12 13 14]]\n",
      "contact type is: ['EdgeToEdge']\n",
      "mask: [[ 0  1  2  3  4  5  6  7  8 15 16 17  9 10 11 12 13 14]]\n",
      "contact type is: ['EdgeToEdge']\n",
      "mask: [[ 0  1  2  3  4  5  6  7  8 15 16 17  9 10 11 12 13 14]]\n",
      "contact type is: ['EdgeToEdge']\n",
      "mask: [[ 0  1  2  3  4  5  6  7  8 15 16 17  9 10 11 12 13 14]]\n",
      "contact type is: ['EdgeToEdge']\n",
      "mask: [[ 0  1  2  3  4  5  6  7  8 15 16 17  9 10 11 12 13 14]]\n",
      "contact type is: ['EdgeToEdge']\n",
      "mask: [[ 0  1  2  3  4  5  6  7  8 15 16 17  9 10 11 12 13 14]]\n",
      "contact type is: ['EdgeToEdge']\n",
      "mask: [[ 0  1  2  3  4  5  6  7  8 15 16 17  9 10 11 12 13 14]]\n",
      "contact type is: ['EdgeToEdge']\n",
      "mask: [[ 0  1  2  3  4  5  6  7  8 15 16 17  9 10 11 12 13 14]]\n",
      "contact type is: ['EdgeToEdge']\n",
      "mask: [[ 0  1  2  3  4  5  6  7  8 15 16 17  9 10 11 12 13 14]]\n",
      "contact type is: ['EdgeToEdge']\n",
      "mask: [[ 0  1  2  3  4  5  6  7  8 15 16 17  9 10 11 12 13 14]]\n",
      "contact type is: ['EdgeToEdge']\n",
      "mask: [[ 0  1  2  3  4  5  6  7  8 15 16 17  9 10 11 12 13 14]]\n",
      "contact type is: ['EdgeToEdge']\n",
      "mask: [[ 0  1  2  3  4  5  6  7  8 15 16 17  9 10 11 12 13 14]]\n",
      "contact type is: ['EdgeToEdge']\n",
      "mask: [[ 0  1  2  3  4  5  6  7  8 15 16 17  9 10 11 12 13 14]]\n",
      "contact type is: ['EdgeToEdge']\n",
      "mask: [[ 0  1  2  3  4  5  6  7  8 15 16 17  9 10 11 12 13 14]]\n",
      "contact type is: ['EdgeToEdge']\n",
      "mask: [[ 0  1  2  3  4  5  6  7  8 15 16 17  9 10 11 12 13 14]]\n",
      "contact type is: ['EdgeToEdge']\n",
      "mask: [[ 0  1  2  3  4  5  6  7  8 15 16 17  9 10 11 12 13 14]]\n",
      "contact type is: ['EdgeToEdge']\n",
      "mask: [[ 0  1  2  3  4  5  6  7  8 15 16 17  9 10 11 12 13 14]]\n",
      "contact type is: ['EdgeToEdge']\n",
      "mask: [[ 0  1  2  3  4  5  6  7  8 15 16 17  9 10 11 12 13 14]]\n",
      "contact type is: ['EdgeToEdge']\n",
      "mask: [[ 0  1  2  3  4  5  6  7  8 15 16 17  9 10 11 12 13 14]]\n",
      "contact type is: ['EdgeToEdge']\n",
      "mask: [[ 0  1  2  3  4  5  6  7  8 15 16 17  9 10 11 12 13 14]]\n",
      "contact type is: ['EdgeToEdge']\n",
      "mask: [[ 0  1  2  3  4  5  6  7  8 15 16 17  9 10 11 12 13 14]]\n",
      "contact type is: ['EdgeToEdge']\n",
      "mask: [[ 0  1  2  3  4  5  6  7  8 15 16 17  9 10 11 12 13 14]]\n",
      "contact type is: ['EdgeToEdge']\n",
      "mask: [[ 0  1  2  3  4  5  6  7  8 15 16 17  9 10 11 12 13 14]]\n",
      "contact type is: ['EdgeToEdge']\n",
      "mask: [[ 0  1  2  3  4  5  6  7  8 15 16 17  9 10 11 12 13 14]]\n",
      "contact type is: ['EdgeToEdge']\n",
      "mask: [[ 0  1  2  3  4  5  6  7  8 15 16 17  9 10 11 12 13 14]]\n",
      "contact type is: ['EdgeToEdge']\n",
      "mask: [[ 0  1  2  3  4  5  6  7  8 15 16 17  9 10 11 12 13 14]]\n",
      "contact type is: ['EdgeToEdge']\n",
      "mask: [[ 0  1  2  3  4  5  6  7  8 15 16 17  9 10 11 12 13 14]]\n",
      "contact type is: ['EdgeToEdge']\n",
      "mask: [[ 0  1  2  3  4  5  6  7  8 15 16 17  9 10 11 12 13 14]]\n",
      "contact type is: ['EdgeToEdge']\n",
      "mask: [[ 0  1  2  3  4  5  6  7  8 15 16 17  9 10 11 12 13 14]]\n",
      "contact type is: ['EdgeToEdge']\n",
      "mask: [[ 0  1  2  3  4  5  6  7  8 15 16 17  9 10 11 12 13 14]]\n",
      "contact type is: ['EdgeToEdge']\n",
      "mask: [[ 0  1  2  3  4  5  6  7  8 15 16 17  9 10 11 12 13 14]]\n",
      "contact type is: ['EdgeToEdge']\n",
      "mask: [[ 0  1  2  3  4  5  6  7  8 15 16 17  9 10 11 12 13 14]]\n",
      "contact type is: ['EdgeToEdge']\n",
      "mask: [[ 0  1  2  3  4  5  6  7  8 15 16 17  9 10 11 12 13 14]]\n",
      "contact type is: ['EdgeToEdge']\n",
      "mask: [[ 0  1  2  3  4  5  6  7  8 15 16 17  9 10 11 12 13 14]]\n",
      "contact type is: ['EdgeToEdge']\n",
      "mask: [[ 0  1  2  3  4  5  6  7  8 15 16 17  9 10 11 12 13 14]]\n",
      "contact type is: ['EdgeToEdge']\n",
      "mask: [[ 0  1  2  3  4  5  6  7  8 15 16 17  9 10 11 12 13 14]]\n",
      "contact type is: ['EdgeToEdge']\n",
      "mask: [[ 0  1  2  3  4  5  6  7  8 15 16 17  9 10 11 12 13 14]]\n",
      "contact type is: ['EdgeToEdge']\n",
      "mask: [[ 0  1  2  3  4  5  6  7  8 15 16 17  9 10 11 12 13 14]]\n",
      "contact type is: ['EdgeToEdge']\n",
      "mask: [[ 0  1  2  3  4  5  6  7  8 15 16 17  9 10 11 12 13 14]]\n",
      "contact type is: ['EdgeToEdge']\n",
      "mask: [[ 0  1  2  3  4  5  6  7  8 15 16 17  9 10 11 12 13 14]]\n",
      "contact type is: ['EdgeToEdge']\n",
      "mask: [[ 0  1  2  3  4  5  6  7  8 15 16 17  9 10 11 12 13 14]]\n",
      "contact type is: ['EdgeToEdge']\n",
      "mask: [[ 0  1  2  3  4  5  6  7  8 15 16 17  9 10 11 12 13 14]]\n",
      "contact type is: ['EdgeToEdge']\n",
      "mask: [[ 0  1  2  3  4  5  6  7  8 15 16 17  9 10 11 12 13 14]]\n",
      "contact type is: ['EdgeToEdge']\n",
      "mask: [[ 0  1  2  3  4  5  6  7  8 15 16 17  9 10 11 12 13 14]]\n",
      "contact type is: ['EdgeToEdge']\n",
      "mask: [[ 0  1  2  3  4  5  6  7  8 15 16 17  9 10 11 12 13 14]]\n",
      "contact type is: ['EdgeToEdge']\n",
      "mask: [[ 0  1  2  3  4  5  6  7  8 15 16 17  9 10 11 12 13 14]]\n",
      "contact type is: ['EdgeToEdge']\n",
      "mask: [[ 0  1  2  3  4  5  6  7  8 15 16 17  9 10 11 12 13 14]]\n",
      "contact type is: ['EdgeToEdge']\n",
      "mask: [[ 0  1  2  3  4  5  6  7  8 15 16 17  9 10 11 12 13 14]]\n",
      "contact type is: ['EdgeToEdge']\n",
      "mask: [[ 0  1  2  3  4  5  6  7  8 15 16 17  9 10 11 12 13 14]]\n",
      "contact type is: ['EdgeToEdge']\n",
      "mask: [[ 0  1  2  3  4  5  6  7  8 15 16 17  9 10 11 12 13 14]]\n",
      "contact type is: ['EdgeToEdge']\n",
      "mask: [[ 0  1  2  3  4  5  6  7  8 15 16 17  9 10 11 12 13 14]]\n",
      "contact type is: ['EdgeToEdge']\n",
      "mask: [[ 0  1  2  3  4  5  6  7  8 15 16 17  9 10 11 12 13 14]]\n",
      "contact type is: ['EdgeToEdge']\n",
      "mask: [[ 0  1  2  3  4  5  6  7  8 15 16 17  9 10 11 12 13 14]]\n",
      "contact type is: ['EdgeToEdge']\n",
      "mask: [[ 0  1  2  3  4  5  6  7  8 15 16 17  9 10 11 12 13 14]]\n",
      "contact type is: ['EdgeToEdge']\n",
      "mask: [[ 0  1  2  3  4  5  6  7  8 15 16 17  9 10 11 12 13 14]]\n",
      "contact type is: ['EdgeToEdge']\n",
      "mask: [[ 0  1  2  3  4  5  6  7  8 15 16 17  9 10 11 12 13 14]]\n",
      "contact type is: ['EdgeToEdge']\n",
      "mask: [[ 0  1  2  3  4  5  6  7  8 15 16 17  9 10 11 12 13 14]]\n",
      "contact type is: ['EdgeToEdge']\n",
      "mask: [[ 0  1  2  3  4  5  6  7  8 15 16 17  9 10 11 12 13 14]]\n",
      "contact type is: ['EdgeToEdge']\n",
      "mask: [[ 0  1  2  3  4  5  6  7  8 15 16 17  9 10 11 12 13 14]]\n",
      "contact type is: ['EdgeToEdge']\n",
      "mask: [[ 0  1  2  3  4  5  6  7  8 15 16 17  9 10 11 12 13 14]]\n",
      "contact type is: ['EdgeToEdge']\n",
      "mask: [[ 0  1  2  3  4  5  6  7  8 15 16 17  9 10 11 12 13 14]]\n",
      "contact type is: ['EdgeToEdge']\n",
      "mask: [[ 0  1  2  3  4  5  6  7  8 15 16 17  9 10 11 12 13 14]]\n",
      "contact type is: ['EdgeToEdge']\n",
      "mask: [[ 0  1  2  3  4  5  6  7  8 15 16 17  9 10 11 12 13 14]]\n",
      "contact type is: ['EdgeToEdge']\n",
      "mask: [[ 0  1  2  3  4  5  6  7  8 15 16 17  9 10 11 12 13 14]]\n",
      "contact type is: ['EdgeToEdge']\n",
      "mask: [[ 0  1  2  3  4  5  6  7  8 15 16 17  9 10 11 12 13 14]]\n",
      "contact type is: ['EdgeToEdge']\n",
      "mask: [[ 0  1  2  3  4  5  6  7  8 15 16 17  9 10 11 12 13 14]]\n",
      "contact type is: ['EdgeToEdge']\n",
      "mask: [[ 0  1  2  3  4  5  6  7  8 15 16 17  9 10 11 12 13 14]]\n",
      "contact type is: ['EdgeToEdge']\n",
      "mask: [[ 0  1  2  3  4  5  6  7  8 15 16 17  9 10 11 12 13 14]]\n",
      "contact type is: ['EdgeToEdge']\n",
      "mask: [[ 0  1  2  3  4  5  6  7  8 15 16 17  9 10 11 12 13 14]]\n",
      "contact type is: ['EdgeToEdge']\n",
      "mask: [[ 0  1  2  3  4  5  6  7  8 15 16 17  9 10 11 12 13 14]]\n",
      "contact type is: ['EdgeToEdge']\n",
      "mask: [[ 0  1  2  3  4  5  6  7  8 15 16 17  9 10 11 12 13 14]]\n",
      "contact type is: ['EdgeToEdge']\n",
      "mask: [[ 0  1  2  3  4  5  6  7  8 15 16 17  9 10 11 12 13 14]]\n",
      "contact type is: ['EdgeToEdge']\n",
      "mask: [[ 0  1  2  3  4  5  6  7  8 15 16 17  9 10 11 12 13 14]]\n",
      "contact type is: ['EdgeToEdge']\n",
      "mask: [[ 0  1  2  3  4  5  6  7  8 15 16 17  9 10 11 12 13 14]]\n",
      "contact type is: ['EdgeToEdge']\n",
      "mask: [[ 0  1  2  3  4  5  6  7  8 15 16 17  9 10 11 12 13 14]]\n",
      "contact type is: ['EdgeToEdge']\n",
      "mask: [[ 0  1  2  3  4  5  6  7  8 15 16 17  9 10 11 12 13 14]]\n",
      "contact type is: ['EdgeToEdge']\n",
      "mask: [[ 0  1  2  3  4  5  6  7  8 15 16 17  9 10 11 12 13 14]]\n",
      "contact type is: ['EdgeToEdge']\n",
      "mask: [[ 0  1  2  3  4  5  6  7  8 15 16 17  9 10 11 12 13 14]]\n",
      "contact type is: ['EdgeToEdge']\n",
      "mask: [[ 0  1  2  3  4  5  6  7  8 15 16 17  9 10 11 12 13 14]]\n",
      "contact type is: ['EdgeToEdge']\n",
      "mask: [[ 0  1  2  3  4  5  6  7  8 15 16 17  9 10 11 12 13 14]]\n",
      "contact type is: ['EdgeToEdge']\n",
      "mask: [[ 0  1  2  3  4  5  6  7  8 15 16 17  9 10 11 12 13 14]]\n",
      "contact type is: ['EdgeToEdge']\n",
      "mask: [[ 0  1  2  3  4  5  6  7  8 15 16 17  9 10 11 12 13 14]]\n",
      "contact type is: ['EdgeToEdge']\n",
      "mask: [[ 0  1  2  3  4  5  6  7  8 15 16 17  9 10 11 12 13 14]]\n",
      "contact type is: ['EdgeToEdge']\n",
      "mask: [[ 0  1  2  3  4  5  6  7  8 15 16 17  9 10 11 12 13 14]]\n",
      "contact type is: ['EdgeToEdge']\n",
      "mask: [[ 0  1  2  3  4  5  6  7  8 15 16 17  9 10 11 12 13 14]]\n",
      "contact type is: ['EdgeToEdge']\n",
      "mask: [[ 0  1  2  3  4  5  6  7  8 15 16 17  9 10 11 12 13 14]]\n",
      "contact type is: ['EdgeToEdge']\n",
      "mask: [[ 0  1  2  3  4  5  6  7  8 15 16 17  9 10 11 12 13 14]]\n",
      "contact type is: ['EdgeToEdge']\n",
      "mask: [[ 0  1  2  3  4  5  6  7  8 15 16 17  9 10 11 12 13 14]]\n",
      "contact type is: ['EdgeToEdge']\n",
      "mask: [[ 0  1  2  3  4  5  6  7  8 15 16 17  9 10 11 12 13 14]]\n",
      "contact type is: ['EdgeToEdge']\n",
      "mask: [[ 0  1  2  3  4  5  6  7  8 15 16 17  9 10 11 12 13 14]]\n",
      "contact type is: ['EdgeToEdge']\n",
      "mask: [[ 0  1  2  3  4  5  6  7  8 15 16 17  9 10 11 12 13 14]]\n",
      "contact type is: ['EdgeToEdge']\n",
      "mask: [[ 0  1  2  3  4  5  6  7  8 15 16 17  9 10 11 12 13 14]]\n",
      "contact type is: ['EdgeToEdge']\n",
      "mask: [[ 0  1  2  3  4  5  6  7  8 15 16 17  9 10 11 12 13 14]]\n",
      "contact type is: ['EdgeToEdge']\n",
      "mask: [[ 0  1  2  3  4  5  6  7  8 15 16 17  9 10 11 12 13 14]]\n",
      "contact type is: ['EdgeToEdge']\n",
      "mask: [[ 0  1  2  3  4  5  6  7  8 15 16 17  9 10 11 12 13 14]]\n",
      "contact type is: ['EdgeToEdge']\n",
      "mask: [[ 0  1  2  3  4  5  6  7  8 15 16 17  9 10 11 12 13 14]]\n",
      "contact type is: ['EdgeToEdge']\n",
      "mask: [[ 0  1  2  3  4  5  6  7  8 15 16 17  9 10 11 12 13 14]]\n",
      "contact type is: ['EdgeToEdge']\n",
      "mask: [[ 0  1  2  3  4  5  6  7  8 15 16 17  9 10 11 12 13 14]]\n",
      "contact type is: ['EdgeToEdge']\n",
      "mask: [[ 0  1  2  3  4  5  6  7  8 15 16 17  9 10 11 12 13 14]]\n",
      "contact type is: ['EdgeToEdge']\n",
      "mask: [[ 0  1  2  3  4  5  6  7  8 15 16 17  9 10 11 12 13 14]]\n",
      "contact type is: ['EdgeToEdge']\n",
      "mask: [[ 0  1  2  3  4  5  6  7  8 15 16 17  9 10 11 12 13 14]]\n",
      "contact type is: ['EdgeToEdge']\n",
      "mask: [[ 0  1  2  3  4  5  6  7  8 15 16 17  9 10 11 12 13 14]]\n",
      "contact type is: ['EdgeToEdge']\n",
      "mask: [[ 0  1  2  3  4  5  6  7  8 15 16 17  9 10 11 12 13 14]]\n",
      "contact type is: ['EdgeToEdge']\n",
      "mask: [[ 0  1  2  3  4  5  6  7  8 15 16 17  9 10 11 12 13 14]]\n",
      "contact type is: ['EdgeToEdge']\n",
      "mask: [[ 0  1  2  3  4  5  6  7  8 15 16 17  9 10 11 12 13 14]]\n",
      "contact type is: ['EdgeToEdge']\n",
      "mask: [[ 0  1  2  3  4  5  6  7  8 15 16 17  9 10 11 12 13 14]]\n",
      "contact type is: ['EdgeToEdge']\n",
      "mask: [[ 0  1  2  3  4  5  6  7  8 15 16 17  9 10 11 12 13 14]]\n",
      "contact type is: ['EdgeToEdge']\n",
      "mask: [[ 0  1  2  3  4  5  6  7  8 15 16 17  9 10 11 12 13 14]]\n",
      "contact type is: ['EdgeToEdge']\n",
      "mask: [[ 0  1  2  3  4  5  6  7  8 15 16 17  9 10 11 12 13 14]]\n",
      "contact type is: ['EdgeToEdge']\n",
      "mask: [[ 0  1  2  3  4  5  6  7  8 15 16 17  9 10 11 12 13 14]]\n",
      "contact type is: ['EdgeToEdge']\n",
      "mask: [[ 0  1  2  3  4  5  6  7  8 15 16 17  9 10 11 12 13 14]]\n",
      "contact type is: ['EdgeToEdge']\n",
      "mask: [[ 0  1  2  3  4  5  6  7  8 15 16 17  9 10 11 12 13 14]]\n",
      "contact type is: ['EdgeToEdge']\n",
      "mask: [[ 0  1  2  3  4  5  6  7  8 15 16 17  9 10 11 12 13 14]]\n",
      "contact type is: ['EdgeToEdge']\n",
      "mask: [[ 0  1  2  3  4  5  6  7  8 15 16 17  9 10 11 12 13 14]]\n",
      "contact type is: ['EdgeToEdge']\n",
      "mask: [[ 0  1  2  3  4  5  6  7  8 15 16 17  9 10 11 12 13 14]]\n",
      "contact type is: ['EdgeToEdge']\n",
      "mask: [[ 0  1  2  3  4  5  6  7  8 15 16 17  9 10 11 12 13 14]]\n",
      "contact type is: ['EdgeToEdge']\n",
      "mask: [[ 0  1  2  3  4  5  6  7  8 15 16 17  9 10 11 12 13 14]]\n",
      "contact type is: ['EdgeToEdge']\n",
      "mask: [[ 0  1  2  3  4  5  6  7  8 15 16 17  9 10 11 12 13 14]]\n",
      "contact type is: ['EdgeToEdge']\n",
      "mask: [[ 0  1  2  3  4  5  6  7  8 15 16 17  9 10 11 12 13 14]]\n",
      "contact type is: ['EdgeToEdge']\n",
      "mask: [[ 0  1  2  3  4  5  6  7  8 15 16 17  9 10 11 12 13 14]]\n",
      "contact type is: ['EdgeToEdge']\n",
      "mask: [[ 0  1  2  3  4  5  6  7  8 15 16 17  9 10 11 12 13 14]]\n",
      "contact type is: ['EdgeToEdge']\n",
      "mask: [[ 0  1  2  3  4  5  6  7  8 15 16 17  9 10 11 12 13 14]]\n",
      "contact type is: ['EdgeToEdge']\n",
      "mask: [[ 0  1  2  3  4  5  6  7  8 15 16 17  9 10 11 12 13 14]]\n",
      "contact type is: ['EdgeToEdge']\n",
      "mask: [[ 0  1  2  3  4  5  6  7  8 15 16 17  9 10 11 12 13 14]]\n",
      "contact type is: ['EdgeToEdge']\n",
      "mask: [[ 0  1  2  3  4  5  6  7  8 15 16 17  9 10 11 12 13 14]]\n",
      "contact type is: ['EdgeToEdge']\n",
      "mask: [[ 0  1  2  3  4  5  6  7  8 15 16 17  9 10 11 12 13 14]]\n",
      "contact type is: ['EdgeToEdge']\n",
      "mask: [[ 0  1  2  3  4  5  6  7  8 15 16 17  9 10 11 12 13 14]]\n",
      "contact type is: ['EdgeToEdge']\n",
      "mask: [[ 0  1  2  3  4  5  6  7  8 15 16 17  9 10 11 12 13 14]]\n",
      "contact type is: ['EdgeToEdge']\n",
      "mask: [[ 0  1  2  3  4  5  6  7  8 15 16 17  9 10 11 12 13 14]]\n",
      "contact type is: ['EdgeToEdge']\n",
      "mask: [[ 0  1  2  3  4  5  6  7  8 15 16 17  9 10 11 12 13 14]]\n",
      "contact type is: ['EdgeToEdge']\n",
      "mask: [[ 0  1  2  3  4  5  6  7  8 15 16 17  9 10 11 12 13 14]]\n",
      "contact type is: ['EdgeToEdge']\n",
      "mask: [[ 0  1  2  3  4  5  6  7  8 15 16 17  9 10 11 12 13 14]]\n",
      "contact type is: ['EdgeToEdge']\n",
      "mask: [[ 0  1  2  3  4  5  6  7  8 15 16 17  9 10 11 12 13 14]]\n",
      "contact type is: ['EdgeToEdge']\n",
      "mask: [[ 0  1  2  3  4  5  6  7  8 15 16 17  9 10 11 12 13 14]]\n",
      "contact type is: ['EdgeToEdge']\n",
      "mask: [[ 0  1  2  3  4  5  6  7  8 15 16 17  9 10 11 12 13 14]]\n",
      "contact type is: ['EdgeToEdge']\n",
      "mask: [[ 0  1  2  3  4  5  6  7  8 15 16 17  9 10 11 12 13 14]]\n",
      "contact type is: ['EdgeToEdge']\n",
      "mask: [[ 0  1  2  3  4  5  6  7  8 15 16 17  9 10 11 12 13 14]]\n",
      "contact type is: ['EdgeToEdge']\n",
      "mask: [[ 0  1  2  3  4  5  6  7  8 15 16 17  9 10 11 12 13 14]]\n",
      "contact type is: ['EdgeToEdge']\n",
      "mask: [[ 0  1  2  3  4  5  6  7  8 15 16 17  9 10 11 12 13 14]]\n",
      "contact type is: ['EdgeToEdge']\n",
      "mask: [[ 0  1  2  3  4  5  6  7  8 15 16 17  9 10 11 12 13 14]]\n",
      "contact type is: ['EdgeToEdge']\n",
      "mask: [[ 0  1  2  3  4  5  6  7  8 15 16 17  9 10 11 12 13 14]]\n",
      "contact type is: ['EdgeToEdge']\n",
      "mask: [[ 0  1  2  3  4  5  6  7  8 15 16 17  9 10 11 12 13 14]]\n",
      "contact type is: ['EdgeToEdge']\n",
      "mask: [[ 0  1  2  3  4  5  6  7  8 15 16 17  9 10 11 12 13 14]]\n",
      "contact type is: ['EdgeToEdge']\n",
      "mask: [[ 0  1  2  3  4  5  6  7  8 15 16 17  9 10 11 12 13 14]]\n",
      "contact type is: ['EdgeToEdge']\n",
      "mask: [[ 0  1  2  3  4  5  6  7  8 15 16 17  9 10 11 12 13 14]]\n",
      "contact type is: ['EdgeToEdge']\n",
      "mask: [[ 0  1  2  3  4  5  6  7  8 15 16 17  9 10 11 12 13 14]]\n",
      "contact type is: ['EdgeToEdge']\n",
      "mask: [[ 0  1  2  3  4  5  6  7  8 15 16 17  9 10 11 12 13 14]]\n"
     ]
    }
   ],
   "source": [
    "stepper = dismech.ImplicitEulerTimeStepper(robot)\n",
    "\n",
    "robots = stepper.simulate()\n",
    "\n",
    "qs = np.stack([robot.state.q for robot in robots])"
   ]
  },
  {
   "cell_type": "code",
   "execution_count": 3,
   "metadata": {},
   "outputs": [
    {
     "data": {
      "application/vnd.plotly.v1+json": {
       "config": {
        "plotlyServerURL": "https://plot.ly"
       },
       "data": [
        {
         "marker": {
          "color": "#1f78b4",
          "size": 5
         },
         "mode": "markers",
         "name": "Free Nodes",
         "type": "scatter3d",
         "x": {
          "bdata": "AAAAAAAAAAAAAAAAAADwPwAAAAAAAAAAAAAAAAAA0D8AAAAAAAD0PwAAAAAAANA/",
          "dtype": "f8"
         },
         "y": {
          "bdata": "AAAAAAAAAAAAAAAAAAAAAAAAAAAAAPA/AAAAAAAA0D8AAAAAAADQPwAAAAAAAPQ/",
          "dtype": "f8"
         },
         "z": {
          "bdata": "AAAAAAAAAAAAAAAAAAAAAAAAAAAAAAAAUrgehetRuD/2KFyPwvXIP/YoXI/C9cg/",
          "dtype": "f8"
         }
        },
        {
         "marker": {
          "color": "#e31a1c",
          "size": 5
         },
         "mode": "markers",
         "name": "Fixed Nodes",
         "type": "scatter3d",
         "x": [],
         "y": [],
         "z": []
        },
        {
         "line": {
          "color": "#333333",
          "width": 2
         },
         "mode": "lines",
         "name": "Edges",
         "type": "scatter3d",
         "x": [
          1,
          0,
          null,
          0,
          0,
          null,
          0,
          1,
          null,
          1.25,
          0.25,
          null,
          0.25,
          0.25,
          null,
          0.25,
          1.25,
          null
         ],
         "y": [
          0,
          1,
          null,
          1,
          0,
          null,
          0,
          0,
          null,
          0.25,
          1.25,
          null,
          1.25,
          0.25,
          null,
          0.25,
          0.25,
          null
         ],
         "z": [
          0,
          0,
          null,
          0,
          0,
          null,
          0,
          0,
          null,
          0.195,
          0.195,
          null,
          0.195,
          0.095,
          null,
          0.095,
          0.195,
          null
         ]
        },
        {
         "color": "rgba(166, 206, 227, 0.7)",
         "i": [
          0,
          3
         ],
         "j": [
          1,
          4
         ],
         "k": [
          2,
          5
         ],
         "name": "Faces",
         "opacity": 0.7,
         "showscale": false,
         "type": "mesh3d",
         "x": {
          "bdata": "AAAAAAAAAAAAAAAAAADwPwAAAAAAAAAAAAAAAAAA0D8AAAAAAAD0PwAAAAAAANA/",
          "dtype": "f8"
         },
         "y": {
          "bdata": "AAAAAAAAAAAAAAAAAAAAAAAAAAAAAPA/AAAAAAAA0D8AAAAAAADQPwAAAAAAAPQ/",
          "dtype": "f8"
         },
         "z": {
          "bdata": "AAAAAAAAAAAAAAAAAAAAAAAAAAAAAAAAUrgehetRuD/2KFyPwvXIP/YoXI/C9cg/",
          "dtype": "f8"
         }
        }
       ],
       "frames": [
        {
         "data": [
          {
           "name": "Free Nodes",
           "type": "scatter3d",
           "x": {
            "bdata": "AAAAAAAAAAAAAAAAAADwPwAAAAAAAAAAAAAAAAAA0D8AAAAAAAD0PwAAAAAAANA/",
            "dtype": "f8"
           },
           "y": {
            "bdata": "AAAAAAAAAAAAAAAAAAAAAAAAAAAAAPA/AAAAAAAA0D8AAAAAAADQPwAAAAAAAPQ/",
            "dtype": "f8"
           },
           "z": {
            "bdata": "AAAAAAAAAAAAAAAAAAAAAAAAAAAAAAAAUrgehetRuD/2KFyPwvXIP/YoXI/C9cg/",
            "dtype": "f8"
           }
          },
          {
           "name": "Fixed Nodes",
           "type": "scatter3d",
           "x": [],
           "y": [],
           "z": []
          },
          {
           "name": "Edges",
           "type": "scatter3d",
           "x": [
            1,
            0,
            null,
            0,
            0,
            null,
            0,
            1,
            null,
            1.25,
            0.25,
            null,
            0.25,
            0.25,
            null,
            0.25,
            1.25,
            null
           ],
           "y": [
            0,
            1,
            null,
            1,
            0,
            null,
            0,
            0,
            null,
            0.25,
            1.25,
            null,
            1.25,
            0.25,
            null,
            0.25,
            0.25,
            null
           ],
           "z": [
            0,
            0,
            null,
            0,
            0,
            null,
            0,
            0,
            null,
            0.195,
            0.195,
            null,
            0.195,
            0.095,
            null,
            0.095,
            0.195,
            null
           ]
          },
          {
           "i": [
            0,
            3
           ],
           "j": [
            1,
            4
           ],
           "k": [
            2,
            5
           ],
           "name": "Faces",
           "type": "mesh3d",
           "x": {
            "bdata": "AAAAAAAAAAAAAAAAAADwPwAAAAAAAAAAAAAAAAAA0D8AAAAAAAD0PwAAAAAAANA/",
            "dtype": "f8"
           },
           "y": {
            "bdata": "AAAAAAAAAAAAAAAAAAAAAAAAAAAAAPA/AAAAAAAA0D8AAAAAAADQPwAAAAAAAPQ/",
            "dtype": "f8"
           },
           "z": {
            "bdata": "AAAAAAAAAAAAAAAAAAAAAAAAAAAAAAAAUrgehetRuD/2KFyPwvXIP/YoXI/C9cg/",
            "dtype": "f8"
           }
          }
         ],
         "layout": {
          "annotations": [
           {
            "showarrow": false,
            "text": "Time: 0.00s (Step: 1/100)",
            "x": 0.05,
            "xref": "paper",
            "y": 0.95,
            "yref": "paper"
           }
          ]
         },
         "name": "0"
        },
        {
         "data": [
          {
           "name": "Free Nodes",
           "type": "scatter3d",
           "x": {
            "bdata": "AAAAAAAAAAAAAAAAAADwPwAAAAAAAAAAAAAAAAAA0D8AAAAAAAD0PwAAAAAAANA/",
            "dtype": "f8"
           },
           "y": {
            "bdata": "AAAAAAAAAAAAAAAAAAAAAAAAAAAAAPA/AAAAAAAA0D8AAAAAAADQPwAAAAAAAPQ/",
            "dtype": "f8"
           },
           "z": {
            "bdata": "AAAAAAAAAAAAAAAAAAAAAAAAAAAAAAAACtejcD0Ktz9SuB6F61HIP1K4HoXrUcg/",
            "dtype": "f8"
           }
          },
          {
           "name": "Fixed Nodes",
           "type": "scatter3d",
           "x": [],
           "y": [],
           "z": []
          },
          {
           "name": "Edges",
           "type": "scatter3d",
           "x": [
            1,
            0,
            null,
            0,
            0,
            null,
            0,
            1,
            null,
            1.25,
            0.25,
            null,
            0.25,
            0.25,
            null,
            0.25,
            1.25,
            null
           ],
           "y": [
            0,
            1,
            null,
            1,
            0,
            null,
            0,
            0,
            null,
            0.25,
            1.25,
            null,
            1.25,
            0.25,
            null,
            0.25,
            0.25,
            null
           ],
           "z": [
            0,
            0,
            null,
            0,
            0,
            null,
            0,
            0,
            null,
            0.19,
            0.19,
            null,
            0.19,
            0.09,
            null,
            0.09,
            0.19,
            null
           ]
          },
          {
           "i": [
            0,
            3
           ],
           "j": [
            1,
            4
           ],
           "k": [
            2,
            5
           ],
           "name": "Faces",
           "type": "mesh3d",
           "x": {
            "bdata": "AAAAAAAAAAAAAAAAAADwPwAAAAAAAAAAAAAAAAAA0D8AAAAAAAD0PwAAAAAAANA/",
            "dtype": "f8"
           },
           "y": {
            "bdata": "AAAAAAAAAAAAAAAAAAAAAAAAAAAAAPA/AAAAAAAA0D8AAAAAAADQPwAAAAAAAPQ/",
            "dtype": "f8"
           },
           "z": {
            "bdata": "AAAAAAAAAAAAAAAAAAAAAAAAAAAAAAAACtejcD0Ktz9SuB6F61HIP1K4HoXrUcg/",
            "dtype": "f8"
           }
          }
         ],
         "layout": {
          "annotations": [
           {
            "showarrow": false,
            "text": "Time: 0.01s (Step: 2/100)",
            "x": 0.05,
            "xref": "paper",
            "y": 0.95,
            "yref": "paper"
           }
          ]
         },
         "name": "1"
        },
        {
         "data": [
          {
           "name": "Free Nodes",
           "type": "scatter3d",
           "x": {
            "bdata": "AAAAAAAAAAAAAAAAAADwPwAAAAAAAAAAAAAAAAAA0D8AAAAAAAD0PwAAAAAAANA/",
            "dtype": "f8"
           },
           "y": {
            "bdata": "AAAAAAAAAAAAAAAAAAAAAAAAAAAAAPA/AAAAAAAA0D8AAAAAAADQPwAAAAAAAPQ/",
            "dtype": "f8"
           },
           "z": {
            "bdata": "AAAAAAAAAAAAAAAAAAAAAAAAAAAAAAAAwvUoXI/CtT+uR+F6FK7HP65H4XoUrsc/",
            "dtype": "f8"
           }
          },
          {
           "name": "Fixed Nodes",
           "type": "scatter3d",
           "x": [],
           "y": [],
           "z": []
          },
          {
           "name": "Edges",
           "type": "scatter3d",
           "x": [
            1,
            0,
            null,
            0,
            0,
            null,
            0,
            1,
            null,
            1.25,
            0.25,
            null,
            0.25,
            0.25,
            null,
            0.25,
            1.25,
            null
           ],
           "y": [
            0,
            1,
            null,
            1,
            0,
            null,
            0,
            0,
            null,
            0.25,
            1.25,
            null,
            1.25,
            0.25,
            null,
            0.25,
            0.25,
            null
           ],
           "z": [
            0,
            0,
            null,
            0,
            0,
            null,
            0,
            0,
            null,
            0.185,
            0.185,
            null,
            0.185,
            0.08499999999999999,
            null,
            0.08499999999999999,
            0.185,
            null
           ]
          },
          {
           "i": [
            0,
            3
           ],
           "j": [
            1,
            4
           ],
           "k": [
            2,
            5
           ],
           "name": "Faces",
           "type": "mesh3d",
           "x": {
            "bdata": "AAAAAAAAAAAAAAAAAADwPwAAAAAAAAAAAAAAAAAA0D8AAAAAAAD0PwAAAAAAANA/",
            "dtype": "f8"
           },
           "y": {
            "bdata": "AAAAAAAAAAAAAAAAAAAAAAAAAAAAAPA/AAAAAAAA0D8AAAAAAADQPwAAAAAAAPQ/",
            "dtype": "f8"
           },
           "z": {
            "bdata": "AAAAAAAAAAAAAAAAAAAAAAAAAAAAAAAAwvUoXI/CtT+uR+F6FK7HP65H4XoUrsc/",
            "dtype": "f8"
           }
          }
         ],
         "layout": {
          "annotations": [
           {
            "showarrow": false,
            "text": "Time: 0.02s (Step: 3/100)",
            "x": 0.05,
            "xref": "paper",
            "y": 0.95,
            "yref": "paper"
           }
          ]
         },
         "name": "2"
        },
        {
         "data": [
          {
           "name": "Free Nodes",
           "type": "scatter3d",
           "x": {
            "bdata": "AAAAAAAAAAAAAAAAAADwPwAAAAAAAAAAAAAAAAAA0D8AAAAAAAD0PwAAAAAAANA/",
            "dtype": "f8"
           },
           "y": {
            "bdata": "AAAAAAAAAAAAAAAAAAAAAAAAAAAAAPA/AAAAAAAA0D8AAAAAAADQPwAAAAAAAPQ/",
            "dtype": "f8"
           },
           "z": {
            "bdata": "AAAAAAAAAAAAAAAAAAAAAAAAAAAAAAAAehSuR+F6tD8K16NwPQrHPwrXo3A9Csc/",
            "dtype": "f8"
           }
          },
          {
           "name": "Fixed Nodes",
           "type": "scatter3d",
           "x": [],
           "y": [],
           "z": []
          },
          {
           "name": "Edges",
           "type": "scatter3d",
           "x": [
            1,
            0,
            null,
            0,
            0,
            null,
            0,
            1,
            null,
            1.25,
            0.25,
            null,
            0.25,
            0.25,
            null,
            0.25,
            1.25,
            null
           ],
           "y": [
            0,
            1,
            null,
            1,
            0,
            null,
            0,
            0,
            null,
            0.25,
            1.25,
            null,
            1.25,
            0.25,
            null,
            0.25,
            0.25,
            null
           ],
           "z": [
            0,
            0,
            null,
            0,
            0,
            null,
            0,
            0,
            null,
            0.18,
            0.18,
            null,
            0.18,
            0.07999999999999999,
            null,
            0.07999999999999999,
            0.18,
            null
           ]
          },
          {
           "i": [
            0,
            3
           ],
           "j": [
            1,
            4
           ],
           "k": [
            2,
            5
           ],
           "name": "Faces",
           "type": "mesh3d",
           "x": {
            "bdata": "AAAAAAAAAAAAAAAAAADwPwAAAAAAAAAAAAAAAAAA0D8AAAAAAAD0PwAAAAAAANA/",
            "dtype": "f8"
           },
           "y": {
            "bdata": "AAAAAAAAAAAAAAAAAAAAAAAAAAAAAPA/AAAAAAAA0D8AAAAAAADQPwAAAAAAAPQ/",
            "dtype": "f8"
           },
           "z": {
            "bdata": "AAAAAAAAAAAAAAAAAAAAAAAAAAAAAAAAehSuR+F6tD8K16NwPQrHPwrXo3A9Csc/",
            "dtype": "f8"
           }
          }
         ],
         "layout": {
          "annotations": [
           {
            "showarrow": false,
            "text": "Time: 0.03s (Step: 4/100)",
            "x": 0.05,
            "xref": "paper",
            "y": 0.95,
            "yref": "paper"
           }
          ]
         },
         "name": "3"
        },
        {
         "data": [
          {
           "name": "Free Nodes",
           "type": "scatter3d",
           "x": {
            "bdata": "AAAAAAAAAAAAAAAAAADwPwAAAAAAAAAAAAAAAAAA0D8AAAAAAAD0PwAAAAAAANA/",
            "dtype": "f8"
           },
           "y": {
            "bdata": "AAAAAAAAAAAAAAAAAAAAAAAAAAAAAPA/AAAAAAAA0D8AAAAAAADQPwAAAAAAAPQ/",
            "dtype": "f8"
           },
           "z": {
            "bdata": "AAAAAAAAAAAAAAAAAAAAAAAAAAAAAAAAMjMzMzMzsz9mZmZmZmbGP2ZmZmZmZsY/",
            "dtype": "f8"
           }
          },
          {
           "name": "Fixed Nodes",
           "type": "scatter3d",
           "x": [],
           "y": [],
           "z": []
          },
          {
           "name": "Edges",
           "type": "scatter3d",
           "x": [
            1,
            0,
            null,
            0,
            0,
            null,
            0,
            1,
            null,
            1.25,
            0.25,
            null,
            0.25,
            0.25,
            null,
            0.25,
            1.25,
            null
           ],
           "y": [
            0,
            1,
            null,
            1,
            0,
            null,
            0,
            0,
            null,
            0.25,
            1.25,
            null,
            1.25,
            0.25,
            null,
            0.25,
            0.25,
            null
           ],
           "z": [
            0,
            0,
            null,
            0,
            0,
            null,
            0,
            0,
            null,
            0.175,
            0.175,
            null,
            0.175,
            0.07499999999999998,
            null,
            0.07499999999999998,
            0.175,
            null
           ]
          },
          {
           "i": [
            0,
            3
           ],
           "j": [
            1,
            4
           ],
           "k": [
            2,
            5
           ],
           "name": "Faces",
           "type": "mesh3d",
           "x": {
            "bdata": "AAAAAAAAAAAAAAAAAADwPwAAAAAAAAAAAAAAAAAA0D8AAAAAAAD0PwAAAAAAANA/",
            "dtype": "f8"
           },
           "y": {
            "bdata": "AAAAAAAAAAAAAAAAAAAAAAAAAAAAAPA/AAAAAAAA0D8AAAAAAADQPwAAAAAAAPQ/",
            "dtype": "f8"
           },
           "z": {
            "bdata": "AAAAAAAAAAAAAAAAAAAAAAAAAAAAAAAAMjMzMzMzsz9mZmZmZmbGP2ZmZmZmZsY/",
            "dtype": "f8"
           }
          }
         ],
         "layout": {
          "annotations": [
           {
            "showarrow": false,
            "text": "Time: 0.04s (Step: 5/100)",
            "x": 0.05,
            "xref": "paper",
            "y": 0.95,
            "yref": "paper"
           }
          ]
         },
         "name": "4"
        },
        {
         "data": [
          {
           "name": "Free Nodes",
           "type": "scatter3d",
           "x": {
            "bdata": "AAAAAAAAAAAAAAAAAADwPwAAAAAAAAAAAAAAAAAA0D8AAAAAAAD0PwAAAAAAANA/",
            "dtype": "f8"
           },
           "y": {
            "bdata": "AAAAAAAAAAAAAAAAAAAAAAAAAAAAAPA/AAAAAAAA0D8AAAAAAADQPwAAAAAAAPQ/",
            "dtype": "f8"
           },
           "z": {
            "bdata": "AAAAAAAAAAAAAAAAAAAAAAAAAAAAAAAA6lG4HoXrsT/C9Shcj8LFP8L1KFyPwsU/",
            "dtype": "f8"
           }
          },
          {
           "name": "Fixed Nodes",
           "type": "scatter3d",
           "x": [],
           "y": [],
           "z": []
          },
          {
           "name": "Edges",
           "type": "scatter3d",
           "x": [
            1,
            0,
            null,
            0,
            0,
            null,
            0,
            1,
            null,
            1.25,
            0.25,
            null,
            0.25,
            0.25,
            null,
            0.25,
            1.25,
            null
           ],
           "y": [
            0,
            1,
            null,
            1,
            0,
            null,
            0,
            0,
            null,
            0.25,
            1.25,
            null,
            1.25,
            0.25,
            null,
            0.25,
            0.25,
            null
           ],
           "z": [
            0,
            0,
            null,
            0,
            0,
            null,
            0,
            0,
            null,
            0.16999999999999998,
            0.16999999999999998,
            null,
            0.16999999999999998,
            0.06999999999999998,
            null,
            0.06999999999999998,
            0.16999999999999998,
            null
           ]
          },
          {
           "i": [
            0,
            3
           ],
           "j": [
            1,
            4
           ],
           "k": [
            2,
            5
           ],
           "name": "Faces",
           "type": "mesh3d",
           "x": {
            "bdata": "AAAAAAAAAAAAAAAAAADwPwAAAAAAAAAAAAAAAAAA0D8AAAAAAAD0PwAAAAAAANA/",
            "dtype": "f8"
           },
           "y": {
            "bdata": "AAAAAAAAAAAAAAAAAAAAAAAAAAAAAPA/AAAAAAAA0D8AAAAAAADQPwAAAAAAAPQ/",
            "dtype": "f8"
           },
           "z": {
            "bdata": "AAAAAAAAAAAAAAAAAAAAAAAAAAAAAAAA6lG4HoXrsT/C9Shcj8LFP8L1KFyPwsU/",
            "dtype": "f8"
           }
          }
         ],
         "layout": {
          "annotations": [
           {
            "showarrow": false,
            "text": "Time: 0.05s (Step: 6/100)",
            "x": 0.05,
            "xref": "paper",
            "y": 0.95,
            "yref": "paper"
           }
          ]
         },
         "name": "5"
        },
        {
         "data": [
          {
           "name": "Free Nodes",
           "type": "scatter3d",
           "x": {
            "bdata": "AAAAAAAAAAAAAAAAAADwPwAAAAAAAAAAAAAAAAAA0D8AAAAAAAD0PwAAAAAAANA/",
            "dtype": "f8"
           },
           "y": {
            "bdata": "AAAAAAAAAAAAAAAAAAAAAAAAAAAAAPA/AAAAAAAA0D8AAAAAAADQPwAAAAAAAPQ/",
            "dtype": "f8"
           },
           "z": {
            "bdata": "AAAAAAAAAAAAAAAAAAAAAAAAAAAAAAAAonA9CtejsD8ehetRuB7FPx6F61G4HsU/",
            "dtype": "f8"
           }
          },
          {
           "name": "Fixed Nodes",
           "type": "scatter3d",
           "x": [],
           "y": [],
           "z": []
          },
          {
           "name": "Edges",
           "type": "scatter3d",
           "x": [
            1,
            0,
            null,
            0,
            0,
            null,
            0,
            1,
            null,
            1.25,
            0.25,
            null,
            0.25,
            0.25,
            null,
            0.25,
            1.25,
            null
           ],
           "y": [
            0,
            1,
            null,
            1,
            0,
            null,
            0,
            0,
            null,
            0.25,
            1.25,
            null,
            1.25,
            0.25,
            null,
            0.25,
            0.25,
            null
           ],
           "z": [
            0,
            0,
            null,
            0,
            0,
            null,
            0,
            0,
            null,
            0.16499999999999998,
            0.16499999999999998,
            null,
            0.16499999999999998,
            0.06499999999999997,
            null,
            0.06499999999999997,
            0.16499999999999998,
            null
           ]
          },
          {
           "i": [
            0,
            3
           ],
           "j": [
            1,
            4
           ],
           "k": [
            2,
            5
           ],
           "name": "Faces",
           "type": "mesh3d",
           "x": {
            "bdata": "AAAAAAAAAAAAAAAAAADwPwAAAAAAAAAAAAAAAAAA0D8AAAAAAAD0PwAAAAAAANA/",
            "dtype": "f8"
           },
           "y": {
            "bdata": "AAAAAAAAAAAAAAAAAAAAAAAAAAAAAPA/AAAAAAAA0D8AAAAAAADQPwAAAAAAAPQ/",
            "dtype": "f8"
           },
           "z": {
            "bdata": "AAAAAAAAAAAAAAAAAAAAAAAAAAAAAAAAonA9CtejsD8ehetRuB7FPx6F61G4HsU/",
            "dtype": "f8"
           }
          }
         ],
         "layout": {
          "annotations": [
           {
            "showarrow": false,
            "text": "Time: 0.06s (Step: 7/100)",
            "x": 0.05,
            "xref": "paper",
            "y": 0.95,
            "yref": "paper"
           }
          ]
         },
         "name": "6"
        },
        {
         "data": [
          {
           "name": "Free Nodes",
           "type": "scatter3d",
           "x": {
            "bdata": "AAAAAAAAAAAAAAAAAADwPwAAAAAAAAAAAAAAAAAA0D8AAAAAAAD0PwAAAAAAANA/",
            "dtype": "f8"
           },
           "y": {
            "bdata": "AAAAAAAAAAAAAAAAAAAAAAAAAAAAAPA/AAAAAAAA0D8AAAAAAADQPwAAAAAAAPQ/",
            "dtype": "f8"
           },
           "z": {
            "bdata": "AAAAAAAAAAAAAAAAAAAAAAAAAAAAAAAAtB6F61G4rj96FK5H4XrEP3oUrkfhesQ/",
            "dtype": "f8"
           }
          },
          {
           "name": "Fixed Nodes",
           "type": "scatter3d",
           "x": [],
           "y": [],
           "z": []
          },
          {
           "name": "Edges",
           "type": "scatter3d",
           "x": [
            1,
            0,
            null,
            0,
            0,
            null,
            0,
            1,
            null,
            1.25,
            0.25,
            null,
            0.25,
            0.25,
            null,
            0.25,
            1.25,
            null
           ],
           "y": [
            0,
            1,
            null,
            1,
            0,
            null,
            0,
            0,
            null,
            0.25,
            1.25,
            null,
            1.25,
            0.25,
            null,
            0.25,
            0.25,
            null
           ],
           "z": [
            0,
            0,
            null,
            0,
            0,
            null,
            0,
            0,
            null,
            0.15999999999999998,
            0.15999999999999998,
            null,
            0.15999999999999998,
            0.05999999999999997,
            null,
            0.05999999999999997,
            0.15999999999999998,
            null
           ]
          },
          {
           "i": [
            0,
            3
           ],
           "j": [
            1,
            4
           ],
           "k": [
            2,
            5
           ],
           "name": "Faces",
           "type": "mesh3d",
           "x": {
            "bdata": "AAAAAAAAAAAAAAAAAADwPwAAAAAAAAAAAAAAAAAA0D8AAAAAAAD0PwAAAAAAANA/",
            "dtype": "f8"
           },
           "y": {
            "bdata": "AAAAAAAAAAAAAAAAAAAAAAAAAAAAAPA/AAAAAAAA0D8AAAAAAADQPwAAAAAAAPQ/",
            "dtype": "f8"
           },
           "z": {
            "bdata": "AAAAAAAAAAAAAAAAAAAAAAAAAAAAAAAAtB6F61G4rj96FK5H4XrEP3oUrkfhesQ/",
            "dtype": "f8"
           }
          }
         ],
         "layout": {
          "annotations": [
           {
            "showarrow": false,
            "text": "Time: 0.07s (Step: 8/100)",
            "x": 0.05,
            "xref": "paper",
            "y": 0.95,
            "yref": "paper"
           }
          ]
         },
         "name": "7"
        },
        {
         "data": [
          {
           "name": "Free Nodes",
           "type": "scatter3d",
           "x": {
            "bdata": "AAAAAAAAAAAAAAAAAADwPwAAAAAAAAAAAAAAAAAA0D8AAAAAAAD0PwAAAAAAANA/",
            "dtype": "f8"
           },
           "y": {
            "bdata": "AAAAAAAAAAAAAAAAAAAAAAAAAAAAAPA/AAAAAAAA0D8AAAAAAADQPwAAAAAAAPQ/",
            "dtype": "f8"
           },
           "z": {
            "bdata": "AAAAAAAAAAAAAAAAAAAAAAAAAAAAAAAAJFyPwvUorD/Wo3A9CtfDP9ajcD0K18M/",
            "dtype": "f8"
           }
          },
          {
           "name": "Fixed Nodes",
           "type": "scatter3d",
           "x": [],
           "y": [],
           "z": []
          },
          {
           "name": "Edges",
           "type": "scatter3d",
           "x": [
            1,
            0,
            null,
            0,
            0,
            null,
            0,
            1,
            null,
            1.25,
            0.25,
            null,
            0.25,
            0.25,
            null,
            0.25,
            1.25,
            null
           ],
           "y": [
            0,
            1,
            null,
            1,
            0,
            null,
            0,
            0,
            null,
            0.25,
            1.25,
            null,
            1.25,
            0.25,
            null,
            0.25,
            0.25,
            null
           ],
           "z": [
            0,
            0,
            null,
            0,
            0,
            null,
            0,
            0,
            null,
            0.15499999999999997,
            0.15499999999999997,
            null,
            0.15499999999999997,
            0.054999999999999966,
            null,
            0.054999999999999966,
            0.15499999999999997,
            null
           ]
          },
          {
           "i": [
            0,
            3
           ],
           "j": [
            1,
            4
           ],
           "k": [
            2,
            5
           ],
           "name": "Faces",
           "type": "mesh3d",
           "x": {
            "bdata": "AAAAAAAAAAAAAAAAAADwPwAAAAAAAAAAAAAAAAAA0D8AAAAAAAD0PwAAAAAAANA/",
            "dtype": "f8"
           },
           "y": {
            "bdata": "AAAAAAAAAAAAAAAAAAAAAAAAAAAAAPA/AAAAAAAA0D8AAAAAAADQPwAAAAAAAPQ/",
            "dtype": "f8"
           },
           "z": {
            "bdata": "AAAAAAAAAAAAAAAAAAAAAAAAAAAAAAAAJFyPwvUorD/Wo3A9CtfDP9ajcD0K18M/",
            "dtype": "f8"
           }
          }
         ],
         "layout": {
          "annotations": [
           {
            "showarrow": false,
            "text": "Time: 0.08s (Step: 9/100)",
            "x": 0.05,
            "xref": "paper",
            "y": 0.95,
            "yref": "paper"
           }
          ]
         },
         "name": "8"
        },
        {
         "data": [
          {
           "name": "Free Nodes",
           "type": "scatter3d",
           "x": {
            "bdata": "AAAAAAAAAAAAAAAAAADwPwAAAAAAAAAAAAAAAAAA0D8AAAAAAAD0PwAAAAAAANA/",
            "dtype": "f8"
           },
           "y": {
            "bdata": "AAAAAAAAAAAAAAAAAAAAAAAAAAAAAPA/AAAAAAAA0D8AAAAAAADQPwAAAAAAAPQ/",
            "dtype": "f8"
           },
           "z": {
            "bdata": "AAAAAAAAAAAAAAAAAAAAAAAAAAAAAAAAlJmZmZmZqT8yMzMzMzPDPzIzMzMzM8M/",
            "dtype": "f8"
           }
          },
          {
           "name": "Fixed Nodes",
           "type": "scatter3d",
           "x": [],
           "y": [],
           "z": []
          },
          {
           "name": "Edges",
           "type": "scatter3d",
           "x": [
            1,
            0,
            null,
            0,
            0,
            null,
            0,
            1,
            null,
            1.25,
            0.25,
            null,
            0.25,
            0.25,
            null,
            0.25,
            1.25,
            null
           ],
           "y": [
            0,
            1,
            null,
            1,
            0,
            null,
            0,
            0,
            null,
            0.25,
            1.25,
            null,
            1.25,
            0.25,
            null,
            0.25,
            0.25,
            null
           ],
           "z": [
            0,
            0,
            null,
            0,
            0,
            null,
            0,
            0,
            null,
            0.14999999999999997,
            0.14999999999999997,
            null,
            0.14999999999999997,
            0.04999999999999996,
            null,
            0.04999999999999996,
            0.14999999999999997,
            null
           ]
          },
          {
           "i": [
            0,
            3
           ],
           "j": [
            1,
            4
           ],
           "k": [
            2,
            5
           ],
           "name": "Faces",
           "type": "mesh3d",
           "x": {
            "bdata": "AAAAAAAAAAAAAAAAAADwPwAAAAAAAAAAAAAAAAAA0D8AAAAAAAD0PwAAAAAAANA/",
            "dtype": "f8"
           },
           "y": {
            "bdata": "AAAAAAAAAAAAAAAAAAAAAAAAAAAAAPA/AAAAAAAA0D8AAAAAAADQPwAAAAAAAPQ/",
            "dtype": "f8"
           },
           "z": {
            "bdata": "AAAAAAAAAAAAAAAAAAAAAAAAAAAAAAAAlJmZmZmZqT8yMzMzMzPDPzIzMzMzM8M/",
            "dtype": "f8"
           }
          }
         ],
         "layout": {
          "annotations": [
           {
            "showarrow": false,
            "text": "Time: 0.09s (Step: 10/100)",
            "x": 0.05,
            "xref": "paper",
            "y": 0.95,
            "yref": "paper"
           }
          ]
         },
         "name": "9"
        },
        {
         "data": [
          {
           "name": "Free Nodes",
           "type": "scatter3d",
           "x": {
            "bdata": "AAAAAAAAAAAAAAAAAADwPwAAAAAAAAAAAAAAAAAA0D8AAAAAAAD0PwAAAAAAANA/",
            "dtype": "f8"
           },
           "y": {
            "bdata": "AAAAAAAAAAAAAAAAAAAAAAAAAAAAAPA/AAAAAAAA0D8AAAAAAADQPwAAAAAAAPQ/",
            "dtype": "f8"
           },
           "z": {
            "bdata": "AAAAAAAAAAAAAAAAAAAAAAAAAAAAAAAABNejcD0Kpz+OwvUoXI/CP47C9Shcj8I/",
            "dtype": "f8"
           }
          },
          {
           "name": "Fixed Nodes",
           "type": "scatter3d",
           "x": [],
           "y": [],
           "z": []
          },
          {
           "name": "Edges",
           "type": "scatter3d",
           "x": [
            1,
            0,
            null,
            0,
            0,
            null,
            0,
            1,
            null,
            1.25,
            0.25,
            null,
            0.25,
            0.25,
            null,
            0.25,
            1.25,
            null
           ],
           "y": [
            0,
            1,
            null,
            1,
            0,
            null,
            0,
            0,
            null,
            0.25,
            1.25,
            null,
            1.25,
            0.25,
            null,
            0.25,
            0.25,
            null
           ],
           "z": [
            0,
            0,
            null,
            0,
            0,
            null,
            0,
            0,
            null,
            0.14499999999999996,
            0.14499999999999996,
            null,
            0.14499999999999996,
            0.04499999999999996,
            null,
            0.04499999999999996,
            0.14499999999999996,
            null
           ]
          },
          {
           "i": [
            0,
            3
           ],
           "j": [
            1,
            4
           ],
           "k": [
            2,
            5
           ],
           "name": "Faces",
           "type": "mesh3d",
           "x": {
            "bdata": "AAAAAAAAAAAAAAAAAADwPwAAAAAAAAAAAAAAAAAA0D8AAAAAAAD0PwAAAAAAANA/",
            "dtype": "f8"
           },
           "y": {
            "bdata": "AAAAAAAAAAAAAAAAAAAAAAAAAAAAAPA/AAAAAAAA0D8AAAAAAADQPwAAAAAAAPQ/",
            "dtype": "f8"
           },
           "z": {
            "bdata": "AAAAAAAAAAAAAAAAAAAAAAAAAAAAAAAABNejcD0Kpz+OwvUoXI/CP47C9Shcj8I/",
            "dtype": "f8"
           }
          }
         ],
         "layout": {
          "annotations": [
           {
            "showarrow": false,
            "text": "Time: 0.10s (Step: 11/100)",
            "x": 0.05,
            "xref": "paper",
            "y": 0.95,
            "yref": "paper"
           }
          ]
         },
         "name": "10"
        },
        {
         "data": [
          {
           "name": "Free Nodes",
           "type": "scatter3d",
           "x": {
            "bdata": "AAAAAAAAAAAAAAAAAADwPwAAAAAAAAAAAAAAAAAA0D8AAAAAAAD0PwAAAAAAANA/",
            "dtype": "f8"
           },
           "y": {
            "bdata": "AAAAAAAAAAAAAAAAAAAAAAAAAAAAAPA/AAAAAAAA0D8AAAAAAADQPwAAAAAAAPQ/",
            "dtype": "f8"
           },
           "z": {
            "bdata": "AAAAAAAAAAAAAAAAAAAAAAAAAAAAAAAAdBSuR+F6pD/qUbgehevBP+pRuB6F68E/",
            "dtype": "f8"
           }
          },
          {
           "name": "Fixed Nodes",
           "type": "scatter3d",
           "x": [],
           "y": [],
           "z": []
          },
          {
           "name": "Edges",
           "type": "scatter3d",
           "x": [
            1,
            0,
            null,
            0,
            0,
            null,
            0,
            1,
            null,
            1.25,
            0.25,
            null,
            0.25,
            0.25,
            null,
            0.25,
            1.25,
            null
           ],
           "y": [
            0,
            1,
            null,
            1,
            0,
            null,
            0,
            0,
            null,
            0.25,
            1.25,
            null,
            1.25,
            0.25,
            null,
            0.25,
            0.25,
            null
           ],
           "z": [
            0,
            0,
            null,
            0,
            0,
            null,
            0,
            0,
            null,
            0.13999999999999996,
            0.13999999999999996,
            null,
            0.13999999999999996,
            0.03999999999999995,
            null,
            0.03999999999999995,
            0.13999999999999996,
            null
           ]
          },
          {
           "i": [
            0,
            3
           ],
           "j": [
            1,
            4
           ],
           "k": [
            2,
            5
           ],
           "name": "Faces",
           "type": "mesh3d",
           "x": {
            "bdata": "AAAAAAAAAAAAAAAAAADwPwAAAAAAAAAAAAAAAAAA0D8AAAAAAAD0PwAAAAAAANA/",
            "dtype": "f8"
           },
           "y": {
            "bdata": "AAAAAAAAAAAAAAAAAAAAAAAAAAAAAPA/AAAAAAAA0D8AAAAAAADQPwAAAAAAAPQ/",
            "dtype": "f8"
           },
           "z": {
            "bdata": "AAAAAAAAAAAAAAAAAAAAAAAAAAAAAAAAdBSuR+F6pD/qUbgehevBP+pRuB6F68E/",
            "dtype": "f8"
           }
          }
         ],
         "layout": {
          "annotations": [
           {
            "showarrow": false,
            "text": "Time: 0.11s (Step: 12/100)",
            "x": 0.05,
            "xref": "paper",
            "y": 0.95,
            "yref": "paper"
           }
          ]
         },
         "name": "11"
        },
        {
         "data": [
          {
           "name": "Free Nodes",
           "type": "scatter3d",
           "x": {
            "bdata": "AAAAAAAAAAAAAAAAAADwPwAAAAAAAAAAAAAAAAAA0D8AAAAAAAD0PwAAAAAAANA/",
            "dtype": "f8"
           },
           "y": {
            "bdata": "AAAAAAAAAAAAAAAAAAAAAAAAAAAAAPA/AAAAAAAA0D8AAAAAAADQPwAAAAAAAPQ/",
            "dtype": "f8"
           },
           "z": {
            "bdata": "AAAAAAAAAAAAAAAAAAAAAAAAAAAAAAAA5FG4HoXroT9G4XoUrkfBP0bhehSuR8E/",
            "dtype": "f8"
           }
          },
          {
           "name": "Fixed Nodes",
           "type": "scatter3d",
           "x": [],
           "y": [],
           "z": []
          },
          {
           "name": "Edges",
           "type": "scatter3d",
           "x": [
            1,
            0,
            null,
            0,
            0,
            null,
            0,
            1,
            null,
            1.25,
            0.25,
            null,
            0.25,
            0.25,
            null,
            0.25,
            1.25,
            null
           ],
           "y": [
            0,
            1,
            null,
            1,
            0,
            null,
            0,
            0,
            null,
            0.25,
            1.25,
            null,
            1.25,
            0.25,
            null,
            0.25,
            0.25,
            null
           ],
           "z": [
            0,
            0,
            null,
            0,
            0,
            null,
            0,
            0,
            null,
            0.13499999999999995,
            0.13499999999999995,
            null,
            0.13499999999999995,
            0.03499999999999995,
            null,
            0.03499999999999995,
            0.13499999999999995,
            null
           ]
          },
          {
           "i": [
            0,
            3
           ],
           "j": [
            1,
            4
           ],
           "k": [
            2,
            5
           ],
           "name": "Faces",
           "type": "mesh3d",
           "x": {
            "bdata": "AAAAAAAAAAAAAAAAAADwPwAAAAAAAAAAAAAAAAAA0D8AAAAAAAD0PwAAAAAAANA/",
            "dtype": "f8"
           },
           "y": {
            "bdata": "AAAAAAAAAAAAAAAAAAAAAAAAAAAAAPA/AAAAAAAA0D8AAAAAAADQPwAAAAAAAPQ/",
            "dtype": "f8"
           },
           "z": {
            "bdata": "AAAAAAAAAAAAAAAAAAAAAAAAAAAAAAAA5FG4HoXroT9G4XoUrkfBP0bhehSuR8E/",
            "dtype": "f8"
           }
          }
         ],
         "layout": {
          "annotations": [
           {
            "showarrow": false,
            "text": "Time: 0.12s (Step: 13/100)",
            "x": 0.05,
            "xref": "paper",
            "y": 0.95,
            "yref": "paper"
           }
          ]
         },
         "name": "12"
        },
        {
         "data": [
          {
           "name": "Free Nodes",
           "type": "scatter3d",
           "x": {
            "bdata": "AAAAAAAAAAAAAAAAAADwPwAAAAAAAAAAAAAAAAAA0D8AAAAAAAD0PwAAAAAAANA/",
            "dtype": "f8"
           },
           "y": {
            "bdata": "AAAAAAAAAAAAAAAAAAAAAAAAAAAAAPA/AAAAAAAA0D8AAAAAAADQPwAAAAAAAPQ/",
            "dtype": "f8"
           },
           "z": {
            "bdata": "AAAAAAAAAAAAAAAAAAAAAAAAAAAAAAAAqR6F61G4nj+icD0K16PAP6JwPQrXo8A/",
            "dtype": "f8"
           }
          },
          {
           "name": "Fixed Nodes",
           "type": "scatter3d",
           "x": [],
           "y": [],
           "z": []
          },
          {
           "name": "Edges",
           "type": "scatter3d",
           "x": [
            1,
            0,
            null,
            0,
            0,
            null,
            0,
            1,
            null,
            1.25,
            0.25,
            null,
            0.25,
            0.25,
            null,
            0.25,
            1.25,
            null
           ],
           "y": [
            0,
            1,
            null,
            1,
            0,
            null,
            0,
            0,
            null,
            0.25,
            1.25,
            null,
            1.25,
            0.25,
            null,
            0.25,
            0.25,
            null
           ],
           "z": [
            0,
            0,
            null,
            0,
            0,
            null,
            0,
            0,
            null,
            0.12999999999999995,
            0.12999999999999995,
            null,
            0.12999999999999995,
            0.029999999999999947,
            null,
            0.029999999999999947,
            0.12999999999999995,
            null
           ]
          },
          {
           "i": [
            0,
            3
           ],
           "j": [
            1,
            4
           ],
           "k": [
            2,
            5
           ],
           "name": "Faces",
           "type": "mesh3d",
           "x": {
            "bdata": "AAAAAAAAAAAAAAAAAADwPwAAAAAAAAAAAAAAAAAA0D8AAAAAAAD0PwAAAAAAANA/",
            "dtype": "f8"
           },
           "y": {
            "bdata": "AAAAAAAAAAAAAAAAAAAAAAAAAAAAAPA/AAAAAAAA0D8AAAAAAADQPwAAAAAAAPQ/",
            "dtype": "f8"
           },
           "z": {
            "bdata": "AAAAAAAAAAAAAAAAAAAAAAAAAAAAAAAAqR6F61G4nj+icD0K16PAP6JwPQrXo8A/",
            "dtype": "f8"
           }
          }
         ],
         "layout": {
          "annotations": [
           {
            "showarrow": false,
            "text": "Time: 0.13s (Step: 14/100)",
            "x": 0.05,
            "xref": "paper",
            "y": 0.95,
            "yref": "paper"
           }
          ]
         },
         "name": "13"
        },
        {
         "data": [
          {
           "name": "Free Nodes",
           "type": "scatter3d",
           "x": {
            "bdata": "AAAAAAAAAAAAAAAAAADwPwAAAAAAAAAAAAAAAAAA0D8AAAAAAAD0PwAAAAAAANA/",
            "dtype": "f8"
           },
           "y": {
            "bdata": "AAAAAAAAAAAAAAAAAAAAAAAAAAAAAPA/AAAAAAAA0D8AAAAAAADQPwAAAAAAAPQ/",
            "dtype": "f8"
           },
           "z": {
            "bdata": "AAAAAAAAAAAAAAAAAAAAAAAAAAAAAAAAi5mZmZmZmT/8//////+/P/z//////78/",
            "dtype": "f8"
           }
          },
          {
           "name": "Fixed Nodes",
           "type": "scatter3d",
           "x": [],
           "y": [],
           "z": []
          },
          {
           "name": "Edges",
           "type": "scatter3d",
           "x": [
            1,
            0,
            null,
            0,
            0,
            null,
            0,
            1,
            null,
            1.25,
            0.25,
            null,
            0.25,
            0.25,
            null,
            0.25,
            1.25,
            null
           ],
           "y": [
            0,
            1,
            null,
            1,
            0,
            null,
            0,
            0,
            null,
            0.25,
            1.25,
            null,
            1.25,
            0.25,
            null,
            0.25,
            0.25,
            null
           ],
           "z": [
            0,
            0,
            null,
            0,
            0,
            null,
            0,
            0,
            null,
            0.12499999999999994,
            0.12499999999999994,
            null,
            0.12499999999999994,
            0.02499999999999995,
            null,
            0.02499999999999995,
            0.12499999999999994,
            null
           ]
          },
          {
           "i": [
            0,
            3
           ],
           "j": [
            1,
            4
           ],
           "k": [
            2,
            5
           ],
           "name": "Faces",
           "type": "mesh3d",
           "x": {
            "bdata": "AAAAAAAAAAAAAAAAAADwPwAAAAAAAAAAAAAAAAAA0D8AAAAAAAD0PwAAAAAAANA/",
            "dtype": "f8"
           },
           "y": {
            "bdata": "AAAAAAAAAAAAAAAAAAAAAAAAAAAAAPA/AAAAAAAA0D8AAAAAAADQPwAAAAAAAPQ/",
            "dtype": "f8"
           },
           "z": {
            "bdata": "AAAAAAAAAAAAAAAAAAAAAAAAAAAAAAAAi5mZmZmZmT/8//////+/P/z//////78/",
            "dtype": "f8"
           }
          }
         ],
         "layout": {
          "annotations": [
           {
            "showarrow": false,
            "text": "Time: 0.14s (Step: 15/100)",
            "x": 0.05,
            "xref": "paper",
            "y": 0.95,
            "yref": "paper"
           }
          ]
         },
         "name": "14"
        },
        {
         "data": [
          {
           "name": "Free Nodes",
           "type": "scatter3d",
           "x": {
            "bdata": "AAAAAAAAAAAAAAAAAADwPwAAAAAAAAAAAAAAAAAA0D8AAAAAAAD0PwAAAAAAANA/",
            "dtype": "f8"
           },
           "y": {
            "bdata": "AAAAAAAAAAAAAAAAAAAAAAAAAAAAAPA/AAAAAAAA0D8AAAAAAADQPwAAAAAAAPQ/",
            "dtype": "f8"
           },
           "z": {
            "bdata": "AAAAAAAAAAAAAAAAAAAAAAAAAAAAAAAAbRSuR+F6lD+0HoXrUbi+P7QehetRuL4/",
            "dtype": "f8"
           }
          },
          {
           "name": "Fixed Nodes",
           "type": "scatter3d",
           "x": [],
           "y": [],
           "z": []
          },
          {
           "name": "Edges",
           "type": "scatter3d",
           "x": [
            1,
            0,
            null,
            0,
            0,
            null,
            0,
            1,
            null,
            1.25,
            0.25,
            null,
            0.25,
            0.25,
            null,
            0.25,
            1.25,
            null
           ],
           "y": [
            0,
            1,
            null,
            1,
            0,
            null,
            0,
            0,
            null,
            0.25,
            1.25,
            null,
            1.25,
            0.25,
            null,
            0.25,
            0.25,
            null
           ],
           "z": [
            0,
            0,
            null,
            0,
            0,
            null,
            0,
            0,
            null,
            0.11999999999999994,
            0.11999999999999994,
            null,
            0.11999999999999994,
            0.019999999999999952,
            null,
            0.019999999999999952,
            0.11999999999999994,
            null
           ]
          },
          {
           "i": [
            0,
            3
           ],
           "j": [
            1,
            4
           ],
           "k": [
            2,
            5
           ],
           "name": "Faces",
           "type": "mesh3d",
           "x": {
            "bdata": "AAAAAAAAAAAAAAAAAADwPwAAAAAAAAAAAAAAAAAA0D8AAAAAAAD0PwAAAAAAANA/",
            "dtype": "f8"
           },
           "y": {
            "bdata": "AAAAAAAAAAAAAAAAAAAAAAAAAAAAAPA/AAAAAAAA0D8AAAAAAADQPwAAAAAAAPQ/",
            "dtype": "f8"
           },
           "z": {
            "bdata": "AAAAAAAAAAAAAAAAAAAAAAAAAAAAAAAAbRSuR+F6lD+0HoXrUbi+P7QehetRuL4/",
            "dtype": "f8"
           }
          }
         ],
         "layout": {
          "annotations": [
           {
            "showarrow": false,
            "text": "Time: 0.15s (Step: 16/100)",
            "x": 0.05,
            "xref": "paper",
            "y": 0.95,
            "yref": "paper"
           }
          ]
         },
         "name": "15"
        },
        {
         "data": [
          {
           "name": "Free Nodes",
           "type": "scatter3d",
           "x": {
            "bdata": "AAAAAAAAAAAAAAAAAADwPwAAAAAAAAAAAAAAAAAA0D8AAAAAAAD0PwAAAAAAANA/",
            "dtype": "f8"
           },
           "y": {
            "bdata": "AAAAAAAAAAAAAAAAAAAAAAAAAAAAAPA/AAAAAAAA0D8AAAAAAADQPwAAAAAAAPQ/",
            "dtype": "f8"
           },
           "z": {
            "bdata": "AAAAAAAAAAAAAAAAAAAAAAAAAAAAAAAAnh6F61G4jj9sPQrXo3C9P2w9CtejcL0/",
            "dtype": "f8"
           }
          },
          {
           "name": "Fixed Nodes",
           "type": "scatter3d",
           "x": [],
           "y": [],
           "z": []
          },
          {
           "name": "Edges",
           "type": "scatter3d",
           "x": [
            1,
            0,
            null,
            0,
            0,
            null,
            0,
            1,
            null,
            1.25,
            0.25,
            null,
            0.25,
            0.25,
            null,
            0.25,
            1.25,
            null
           ],
           "y": [
            0,
            1,
            null,
            1,
            0,
            null,
            0,
            0,
            null,
            0.25,
            1.25,
            null,
            1.25,
            0.25,
            null,
            0.25,
            0.25,
            null
           ],
           "z": [
            0,
            0,
            null,
            0,
            0,
            null,
            0,
            0,
            null,
            0.11499999999999994,
            0.11499999999999994,
            null,
            0.11499999999999994,
            0.014999999999999954,
            null,
            0.014999999999999954,
            0.11499999999999994,
            null
           ]
          },
          {
           "i": [
            0,
            3
           ],
           "j": [
            1,
            4
           ],
           "k": [
            2,
            5
           ],
           "name": "Faces",
           "type": "mesh3d",
           "x": {
            "bdata": "AAAAAAAAAAAAAAAAAADwPwAAAAAAAAAAAAAAAAAA0D8AAAAAAAD0PwAAAAAAANA/",
            "dtype": "f8"
           },
           "y": {
            "bdata": "AAAAAAAAAAAAAAAAAAAAAAAAAAAAAPA/AAAAAAAA0D8AAAAAAADQPwAAAAAAAPQ/",
            "dtype": "f8"
           },
           "z": {
            "bdata": "AAAAAAAAAAAAAAAAAAAAAAAAAAAAAAAAnh6F61G4jj9sPQrXo3C9P2w9CtejcL0/",
            "dtype": "f8"
           }
          }
         ],
         "layout": {
          "annotations": [
           {
            "showarrow": false,
            "text": "Time: 0.16s (Step: 17/100)",
            "x": 0.05,
            "xref": "paper",
            "y": 0.95,
            "yref": "paper"
           }
          ]
         },
         "name": "16"
        },
        {
         "data": [
          {
           "name": "Free Nodes",
           "type": "scatter3d",
           "x": {
            "bdata": "AAAAAAAAAAAAAAAAAADwPwAAAAAAAAAAAAAAAAAA0D8AAAAAAAD0PwAAAAAAANA/",
            "dtype": "f8"
           },
           "y": {
            "bdata": "AAAAAAAAAAAAAAAAAAAAAAAAAAAAAPA/AAAAAAAA0D8AAAAAAADQPwAAAAAAAPQ/",
            "dtype": "f8"
           },
           "z": {
            "bdata": "AAAAAAAAAAAAAAAAAAAAAAAAAAAAAAAAZBSuR+F6hD8kXI/C9Si8PyRcj8L1KLw/",
            "dtype": "f8"
           }
          },
          {
           "name": "Fixed Nodes",
           "type": "scatter3d",
           "x": [],
           "y": [],
           "z": []
          },
          {
           "name": "Edges",
           "type": "scatter3d",
           "x": [
            1,
            0,
            null,
            0,
            0,
            null,
            0,
            1,
            null,
            1.25,
            0.25,
            null,
            0.25,
            0.25,
            null,
            0.25,
            1.25,
            null
           ],
           "y": [
            0,
            1,
            null,
            1,
            0,
            null,
            0,
            0,
            null,
            0.25,
            1.25,
            null,
            1.25,
            0.25,
            null,
            0.25,
            0.25,
            null
           ],
           "z": [
            0,
            0,
            null,
            0,
            0,
            null,
            0,
            0,
            null,
            0.10999999999999993,
            0.10999999999999993,
            null,
            0.10999999999999993,
            0.00999999999999996,
            null,
            0.00999999999999996,
            0.10999999999999993,
            null
           ]
          },
          {
           "i": [
            0,
            3
           ],
           "j": [
            1,
            4
           ],
           "k": [
            2,
            5
           ],
           "name": "Faces",
           "type": "mesh3d",
           "x": {
            "bdata": "AAAAAAAAAAAAAAAAAADwPwAAAAAAAAAAAAAAAAAA0D8AAAAAAAD0PwAAAAAAANA/",
            "dtype": "f8"
           },
           "y": {
            "bdata": "AAAAAAAAAAAAAAAAAAAAAAAAAAAAAPA/AAAAAAAA0D8AAAAAAADQPwAAAAAAAPQ/",
            "dtype": "f8"
           },
           "z": {
            "bdata": "AAAAAAAAAAAAAAAAAAAAAAAAAAAAAAAAZBSuR+F6hD8kXI/C9Si8PyRcj8L1KLw/",
            "dtype": "f8"
           }
          }
         ],
         "layout": {
          "annotations": [
           {
            "showarrow": false,
            "text": "Time: 0.17s (Step: 18/100)",
            "x": 0.05,
            "xref": "paper",
            "y": 0.95,
            "yref": "paper"
           }
          ]
         },
         "name": "17"
        },
        {
         "data": [
          {
           "name": "Free Nodes",
           "type": "scatter3d",
           "x": {
            "bdata": "AAAAAAAAAAAAAAAAAADwPwAAAAAAAAAAAAAAAAAA0D8AAAAAAAD0PwAAAAAAANA/",
            "dtype": "f8"
           },
           "y": {
            "bdata": "AAAAAAAAAAAAAAAAAAAAAAAAAAAAAPA/AAAAAAAA0D8AAAAAAADQPwAAAAAAAPQ/",
            "dtype": "f8"
           },
           "z": {
            "bdata": "AAAAAAAAAAAAAAAAAAAAAAAAAAAAAAAAVxSuR+F6dD/cehSuR+G6P9x6FK5H4bo/",
            "dtype": "f8"
           }
          },
          {
           "name": "Fixed Nodes",
           "type": "scatter3d",
           "x": [],
           "y": [],
           "z": []
          },
          {
           "name": "Edges",
           "type": "scatter3d",
           "x": [
            1,
            0,
            null,
            0,
            0,
            null,
            0,
            1,
            null,
            1.25,
            0.25,
            null,
            0.25,
            0.25,
            null,
            0.25,
            1.25,
            null
           ],
           "y": [
            0,
            1,
            null,
            1,
            0,
            null,
            0,
            0,
            null,
            0.25,
            1.25,
            null,
            1.25,
            0.25,
            null,
            0.25,
            0.25,
            null
           ],
           "z": [
            0,
            0,
            null,
            0,
            0,
            null,
            0,
            0,
            null,
            0.10499999999999993,
            0.10499999999999993,
            null,
            0.10499999999999993,
            0.004999999999999969,
            null,
            0.004999999999999969,
            0.10499999999999993,
            null
           ]
          },
          {
           "i": [
            0,
            3
           ],
           "j": [
            1,
            4
           ],
           "k": [
            2,
            5
           ],
           "name": "Faces",
           "type": "mesh3d",
           "x": {
            "bdata": "AAAAAAAAAAAAAAAAAADwPwAAAAAAAAAAAAAAAAAA0D8AAAAAAAD0PwAAAAAAANA/",
            "dtype": "f8"
           },
           "y": {
            "bdata": "AAAAAAAAAAAAAAAAAAAAAAAAAAAAAPA/AAAAAAAA0D8AAAAAAADQPwAAAAAAAPQ/",
            "dtype": "f8"
           },
           "z": {
            "bdata": "AAAAAAAAAAAAAAAAAAAAAAAAAAAAAAAAVxSuR+F6dD/cehSuR+G6P9x6FK5H4bo/",
            "dtype": "f8"
           }
          }
         ],
         "layout": {
          "annotations": [
           {
            "showarrow": false,
            "text": "Time: 0.18s (Step: 19/100)",
            "x": 0.05,
            "xref": "paper",
            "y": 0.95,
            "yref": "paper"
           }
          ]
         },
         "name": "18"
        },
        {
         "data": [
          {
           "name": "Free Nodes",
           "type": "scatter3d",
           "x": {
            "bdata": "AAAAAAAAAAAAAAAAAADwPwAAAAAAAAAAAAAAAAAA0D8AAAAAAAD0PwAAAAAAANA/",
            "dtype": "f8"
           },
           "y": {
            "bdata": "AAAAAAAAAAAAAAAAAAAAAAAAAAAAAPA/AAAAAAAA0D8AAAAAAADQPwAAAAAAAPQ/",
            "dtype": "f8"
           },
           "z": {
            "bdata": "AAAAAAAAAAAAAAAAAAAAAAAAAAAAAAAAAAAAAAAAfLyUmZmZmZm5P5SZmZmZmbk/",
            "dtype": "f8"
           }
          },
          {
           "name": "Fixed Nodes",
           "type": "scatter3d",
           "x": [],
           "y": [],
           "z": []
          },
          {
           "name": "Edges",
           "type": "scatter3d",
           "x": [
            1,
            0,
            null,
            0,
            0,
            null,
            0,
            1,
            null,
            1.25,
            0.25,
            null,
            0.25,
            0.25,
            null,
            0.25,
            1.25,
            null
           ],
           "y": [
            0,
            1,
            null,
            1,
            0,
            null,
            0,
            0,
            null,
            0.25,
            1.25,
            null,
            1.25,
            0.25,
            null,
            0.25,
            0.25,
            null
           ],
           "z": [
            0,
            0,
            null,
            0,
            0,
            null,
            0,
            0,
            null,
            0.09999999999999992,
            0.09999999999999992,
            null,
            0.09999999999999992,
            -2.42861286636753e-17,
            null,
            -2.42861286636753e-17,
            0.09999999999999992,
            null
           ]
          },
          {
           "i": [
            0,
            3
           ],
           "j": [
            1,
            4
           ],
           "k": [
            2,
            5
           ],
           "name": "Faces",
           "type": "mesh3d",
           "x": {
            "bdata": "AAAAAAAAAAAAAAAAAADwPwAAAAAAAAAAAAAAAAAA0D8AAAAAAAD0PwAAAAAAANA/",
            "dtype": "f8"
           },
           "y": {
            "bdata": "AAAAAAAAAAAAAAAAAAAAAAAAAAAAAPA/AAAAAAAA0D8AAAAAAADQPwAAAAAAAPQ/",
            "dtype": "f8"
           },
           "z": {
            "bdata": "AAAAAAAAAAAAAAAAAAAAAAAAAAAAAAAAAAAAAAAAfLyUmZmZmZm5P5SZmZmZmbk/",
            "dtype": "f8"
           }
          }
         ],
         "layout": {
          "annotations": [
           {
            "showarrow": false,
            "text": "Time: 0.19s (Step: 20/100)",
            "x": 0.05,
            "xref": "paper",
            "y": 0.95,
            "yref": "paper"
           }
          ]
         },
         "name": "19"
        },
        {
         "data": [
          {
           "name": "Free Nodes",
           "type": "scatter3d",
           "x": {
            "bdata": "AAAAAAAAAAAAAAAAAADwPwAAAAAAAAAAAAAAAAAA0D8AAAAAAAD0PwAAAAAAANA/",
            "dtype": "f8"
           },
           "y": {
            "bdata": "AAAAAAAAAAAAAAAAAAAAAAAAAAAAAPA/AAAAAAAA0D8AAAAAAADQPwAAAAAAAPQ/",
            "dtype": "f8"
           },
           "z": {
            "bdata": "AAAAAAAAAAAAAAAAAAAAAAAAAAAAAAAAkBSuR+F6dL9MuB6F61G4P0y4HoXrUbg/",
            "dtype": "f8"
           }
          },
          {
           "name": "Fixed Nodes",
           "type": "scatter3d",
           "x": [],
           "y": [],
           "z": []
          },
          {
           "name": "Edges",
           "type": "scatter3d",
           "x": [
            1,
            0,
            null,
            0,
            0,
            null,
            0,
            1,
            null,
            1.25,
            0.25,
            null,
            0.25,
            0.25,
            null,
            0.25,
            1.25,
            null
           ],
           "y": [
            0,
            1,
            null,
            1,
            0,
            null,
            0,
            0,
            null,
            0.25,
            1.25,
            null,
            1.25,
            0.25,
            null,
            0.25,
            0.25,
            null
           ],
           "z": [
            0,
            0,
            null,
            0,
            0,
            null,
            0,
            0,
            null,
            0.09499999999999992,
            0.09499999999999992,
            null,
            0.09499999999999992,
            -0.005000000000000018,
            null,
            -0.005000000000000018,
            0.09499999999999992,
            null
           ]
          },
          {
           "i": [
            0,
            3
           ],
           "j": [
            1,
            4
           ],
           "k": [
            2,
            5
           ],
           "name": "Faces",
           "type": "mesh3d",
           "x": {
            "bdata": "AAAAAAAAAAAAAAAAAADwPwAAAAAAAAAAAAAAAAAA0D8AAAAAAAD0PwAAAAAAANA/",
            "dtype": "f8"
           },
           "y": {
            "bdata": "AAAAAAAAAAAAAAAAAAAAAAAAAAAAAPA/AAAAAAAA0D8AAAAAAADQPwAAAAAAAPQ/",
            "dtype": "f8"
           },
           "z": {
            "bdata": "AAAAAAAAAAAAAAAAAAAAAAAAAAAAAAAAkBSuR+F6dL9MuB6F61G4P0y4HoXrUbg/",
            "dtype": "f8"
           }
          }
         ],
         "layout": {
          "annotations": [
           {
            "showarrow": false,
            "text": "Time: 0.20s (Step: 21/100)",
            "x": 0.05,
            "xref": "paper",
            "y": 0.95,
            "yref": "paper"
           }
          ]
         },
         "name": "20"
        },
        {
         "data": [
          {
           "name": "Free Nodes",
           "type": "scatter3d",
           "x": {
            "bdata": "AAAAAAAAAAAAAAAAAADwPwAAAAAAAAAAAAAAAAAA0D8AAAAAAAD0PwAAAAAAANA/",
            "dtype": "f8"
           },
           "y": {
            "bdata": "AAAAAAAAAAAAAAAAAAAAAAAAAAAAAPA/AAAAAAAA0D8AAAAAAADQPwAAAAAAAPQ/",
            "dtype": "f8"
           },
           "z": {
            "bdata": "AAAAAAAAAAAAAAAAAAAAAAAAAAAAAAAAgxSuR+F6hL8E16NwPQq3PwTXo3A9Crc/",
            "dtype": "f8"
           }
          },
          {
           "name": "Fixed Nodes",
           "type": "scatter3d",
           "x": [],
           "y": [],
           "z": []
          },
          {
           "name": "Edges",
           "type": "scatter3d",
           "x": [
            1,
            0,
            null,
            0,
            0,
            null,
            0,
            1,
            null,
            1.25,
            0.25,
            null,
            0.25,
            0.25,
            null,
            0.25,
            1.25,
            null
           ],
           "y": [
            0,
            1,
            null,
            1,
            0,
            null,
            0,
            0,
            null,
            0.25,
            1.25,
            null,
            1.25,
            0.25,
            null,
            0.25,
            0.25,
            null
           ],
           "z": [
            0,
            0,
            null,
            0,
            0,
            null,
            0,
            0,
            null,
            0.08999999999999991,
            0.08999999999999991,
            null,
            0.08999999999999991,
            -0.010000000000000014,
            null,
            -0.010000000000000014,
            0.08999999999999991,
            null
           ]
          },
          {
           "i": [
            0,
            3
           ],
           "j": [
            1,
            4
           ],
           "k": [
            2,
            5
           ],
           "name": "Faces",
           "type": "mesh3d",
           "x": {
            "bdata": "AAAAAAAAAAAAAAAAAADwPwAAAAAAAAAAAAAAAAAA0D8AAAAAAAD0PwAAAAAAANA/",
            "dtype": "f8"
           },
           "y": {
            "bdata": "AAAAAAAAAAAAAAAAAAAAAAAAAAAAAPA/AAAAAAAA0D8AAAAAAADQPwAAAAAAAPQ/",
            "dtype": "f8"
           },
           "z": {
            "bdata": "AAAAAAAAAAAAAAAAAAAAAAAAAAAAAAAAgxSuR+F6hL8E16NwPQq3PwTXo3A9Crc/",
            "dtype": "f8"
           }
          }
         ],
         "layout": {
          "annotations": [
           {
            "showarrow": false,
            "text": "Time: 0.21s (Step: 22/100)",
            "x": 0.05,
            "xref": "paper",
            "y": 0.95,
            "yref": "paper"
           }
          ]
         },
         "name": "21"
        },
        {
         "data": [
          {
           "name": "Free Nodes",
           "type": "scatter3d",
           "x": {
            "bdata": "AAAAAAAAAAAAAAAAAADwPwAAAAAAAAAAAAAAAAAA0D8AAAAAAAD0PwAAAAAAANA/",
            "dtype": "f8"
           },
           "y": {
            "bdata": "AAAAAAAAAAAAAAAAAAAAAAAAAAAAAPA/AAAAAAAA0D8AAAAAAADQPwAAAAAAAPQ/",
            "dtype": "f8"
           },
           "z": {
            "bdata": "AAAAAAAAAAAAAAAAAAAAAAAAAAAAAAAAvh6F61G4jr+89Shcj8K1P7z1KFyPwrU/",
            "dtype": "f8"
           }
          },
          {
           "name": "Fixed Nodes",
           "type": "scatter3d",
           "x": [],
           "y": [],
           "z": []
          },
          {
           "name": "Edges",
           "type": "scatter3d",
           "x": [
            1,
            0,
            null,
            0,
            0,
            null,
            0,
            1,
            null,
            1.25,
            0.25,
            null,
            0.25,
            0.25,
            null,
            0.25,
            1.25,
            null
           ],
           "y": [
            0,
            1,
            null,
            1,
            0,
            null,
            0,
            0,
            null,
            0.25,
            1.25,
            null,
            1.25,
            0.25,
            null,
            0.25,
            0.25,
            null
           ],
           "z": [
            0,
            0,
            null,
            0,
            0,
            null,
            0,
            0,
            null,
            0.08499999999999991,
            0.08499999999999991,
            null,
            0.08499999999999991,
            -0.01500000000000001,
            null,
            -0.01500000000000001,
            0.08499999999999991,
            null
           ]
          },
          {
           "i": [
            0,
            3
           ],
           "j": [
            1,
            4
           ],
           "k": [
            2,
            5
           ],
           "name": "Faces",
           "type": "mesh3d",
           "x": {
            "bdata": "AAAAAAAAAAAAAAAAAADwPwAAAAAAAAAAAAAAAAAA0D8AAAAAAAD0PwAAAAAAANA/",
            "dtype": "f8"
           },
           "y": {
            "bdata": "AAAAAAAAAAAAAAAAAAAAAAAAAAAAAPA/AAAAAAAA0D8AAAAAAADQPwAAAAAAAPQ/",
            "dtype": "f8"
           },
           "z": {
            "bdata": "AAAAAAAAAAAAAAAAAAAAAAAAAAAAAAAAvh6F61G4jr+89Shcj8K1P7z1KFyPwrU/",
            "dtype": "f8"
           }
          }
         ],
         "layout": {
          "annotations": [
           {
            "showarrow": false,
            "text": "Time: 0.22s (Step: 23/100)",
            "x": 0.05,
            "xref": "paper",
            "y": 0.95,
            "yref": "paper"
           }
          ]
         },
         "name": "22"
        },
        {
         "data": [
          {
           "name": "Free Nodes",
           "type": "scatter3d",
           "x": {
            "bdata": "AAAAAAAAAAAAAAAAAADwPwAAAAAAAAAAAAAAAAAA0D8AAAAAAAD0PwAAAAAAANA/",
            "dtype": "f8"
           },
           "y": {
            "bdata": "AAAAAAAAAAAAAAAAAAAAAAAAAAAAAPA/AAAAAAAA0D8AAAAAAADQPwAAAAAAAPQ/",
            "dtype": "f8"
           },
           "z": {
            "bdata": "AAAAAAAAAAAAAAAAAAAAAAAAAAAAAAAAfBSuR+F6lL90FK5H4Xq0P3QUrkfherQ/",
            "dtype": "f8"
           }
          },
          {
           "name": "Fixed Nodes",
           "type": "scatter3d",
           "x": [],
           "y": [],
           "z": []
          },
          {
           "name": "Edges",
           "type": "scatter3d",
           "x": [
            1,
            0,
            null,
            0,
            0,
            null,
            0,
            1,
            null,
            1.25,
            0.25,
            null,
            0.25,
            0.25,
            null,
            0.25,
            1.25,
            null
           ],
           "y": [
            0,
            1,
            null,
            1,
            0,
            null,
            0,
            0,
            null,
            0.25,
            1.25,
            null,
            1.25,
            0.25,
            null,
            0.25,
            0.25,
            null
           ],
           "z": [
            0,
            0,
            null,
            0,
            0,
            null,
            0,
            0,
            null,
            0.0799999999999999,
            0.0799999999999999,
            null,
            0.0799999999999999,
            -0.020000000000000004,
            null,
            -0.020000000000000004,
            0.0799999999999999,
            null
           ]
          },
          {
           "i": [
            0,
            3
           ],
           "j": [
            1,
            4
           ],
           "k": [
            2,
            5
           ],
           "name": "Faces",
           "type": "mesh3d",
           "x": {
            "bdata": "AAAAAAAAAAAAAAAAAADwPwAAAAAAAAAAAAAAAAAA0D8AAAAAAAD0PwAAAAAAANA/",
            "dtype": "f8"
           },
           "y": {
            "bdata": "AAAAAAAAAAAAAAAAAAAAAAAAAAAAAPA/AAAAAAAA0D8AAAAAAADQPwAAAAAAAPQ/",
            "dtype": "f8"
           },
           "z": {
            "bdata": "AAAAAAAAAAAAAAAAAAAAAAAAAAAAAAAAfBSuR+F6lL90FK5H4Xq0P3QUrkfherQ/",
            "dtype": "f8"
           }
          }
         ],
         "layout": {
          "annotations": [
           {
            "showarrow": false,
            "text": "Time: 0.23s (Step: 24/100)",
            "x": 0.05,
            "xref": "paper",
            "y": 0.95,
            "yref": "paper"
           }
          ]
         },
         "name": "23"
        },
        {
         "data": [
          {
           "name": "Free Nodes",
           "type": "scatter3d",
           "x": {
            "bdata": "AAAAAAAAAAAAAAAAAADwPwAAAAAAAAAAAAAAAAAA0D8AAAAAAAD0PwAAAAAAANA/",
            "dtype": "f8"
           },
           "y": {
            "bdata": "AAAAAAAAAAAAAAAAAAAAAAAAAAAAAPA/AAAAAAAA0D8AAAAAAADQPwAAAAAAAPQ/",
            "dtype": "f8"
           },
           "z": {
            "bdata": "AAAAAAAAAAAAAAAAAAAAAAAAAAAAAAAAmZmZmZmZmb8sMzMzMzOzPywzMzMzM7M/",
            "dtype": "f8"
           }
          },
          {
           "name": "Fixed Nodes",
           "type": "scatter3d",
           "x": [],
           "y": [],
           "z": []
          },
          {
           "name": "Edges",
           "type": "scatter3d",
           "x": [
            1,
            0,
            null,
            0,
            0,
            null,
            0,
            1,
            null,
            1.25,
            0.25,
            null,
            0.25,
            0.25,
            null,
            0.25,
            1.25,
            null
           ],
           "y": [
            0,
            1,
            null,
            1,
            0,
            null,
            0,
            0,
            null,
            0.25,
            1.25,
            null,
            1.25,
            0.25,
            null,
            0.25,
            0.25,
            null
           ],
           "z": [
            0,
            0,
            null,
            0,
            0,
            null,
            0,
            0,
            null,
            0.0749999999999999,
            0.0749999999999999,
            null,
            0.0749999999999999,
            -0.024999999999999998,
            null,
            -0.024999999999999998,
            0.0749999999999999,
            null
           ]
          },
          {
           "i": [
            0,
            3
           ],
           "j": [
            1,
            4
           ],
           "k": [
            2,
            5
           ],
           "name": "Faces",
           "type": "mesh3d",
           "x": {
            "bdata": "AAAAAAAAAAAAAAAAAADwPwAAAAAAAAAAAAAAAAAA0D8AAAAAAAD0PwAAAAAAANA/",
            "dtype": "f8"
           },
           "y": {
            "bdata": "AAAAAAAAAAAAAAAAAAAAAAAAAAAAAPA/AAAAAAAA0D8AAAAAAADQPwAAAAAAAPQ/",
            "dtype": "f8"
           },
           "z": {
            "bdata": "AAAAAAAAAAAAAAAAAAAAAAAAAAAAAAAAmZmZmZmZmb8sMzMzMzOzPywzMzMzM7M/",
            "dtype": "f8"
           }
          }
         ],
         "layout": {
          "annotations": [
           {
            "showarrow": false,
            "text": "Time: 0.24s (Step: 25/100)",
            "x": 0.05,
            "xref": "paper",
            "y": 0.95,
            "yref": "paper"
           }
          ]
         },
         "name": "24"
        },
        {
         "data": [
          {
           "name": "Free Nodes",
           "type": "scatter3d",
           "x": {
            "bdata": "AAAAAAAAAAAAAAAAAADwPwAAAAAAAAAAAAAAAAAA0D8AAAAAAAD0PwAAAAAAANA/",
            "dtype": "f8"
           },
           "y": {
            "bdata": "AAAAAAAAAAAAAAAAAAAAAAAAAAAAAPA/AAAAAAAA0D8AAAAAAADQPwAAAAAAAPQ/",
            "dtype": "f8"
           },
           "z": {
            "bdata": "AAAAAAAAAAAAAAAAAAAAAAAAAAAAAAAAth6F61G4nr/kUbgeheuxP+RRuB6F67E/",
            "dtype": "f8"
           }
          },
          {
           "name": "Fixed Nodes",
           "type": "scatter3d",
           "x": [],
           "y": [],
           "z": []
          },
          {
           "name": "Edges",
           "type": "scatter3d",
           "x": [
            1,
            0,
            null,
            0,
            0,
            null,
            0,
            1,
            null,
            1.25,
            0.25,
            null,
            0.25,
            0.25,
            null,
            0.25,
            1.25,
            null
           ],
           "y": [
            0,
            1,
            null,
            1,
            0,
            null,
            0,
            0,
            null,
            0.25,
            1.25,
            null,
            1.25,
            0.25,
            null,
            0.25,
            0.25,
            null
           ],
           "z": [
            0,
            0,
            null,
            0,
            0,
            null,
            0,
            0,
            null,
            0.0699999999999999,
            0.0699999999999999,
            null,
            0.0699999999999999,
            -0.029999999999999992,
            null,
            -0.029999999999999992,
            0.0699999999999999,
            null
           ]
          },
          {
           "i": [
            0,
            3
           ],
           "j": [
            1,
            4
           ],
           "k": [
            2,
            5
           ],
           "name": "Faces",
           "type": "mesh3d",
           "x": {
            "bdata": "AAAAAAAAAAAAAAAAAADwPwAAAAAAAAAAAAAAAAAA0D8AAAAAAAD0PwAAAAAAANA/",
            "dtype": "f8"
           },
           "y": {
            "bdata": "AAAAAAAAAAAAAAAAAAAAAAAAAAAAAPA/AAAAAAAA0D8AAAAAAADQPwAAAAAAAPQ/",
            "dtype": "f8"
           },
           "z": {
            "bdata": "AAAAAAAAAAAAAAAAAAAAAAAAAAAAAAAAth6F61G4nr/kUbgeheuxP+RRuB6F67E/",
            "dtype": "f8"
           }
          }
         ],
         "layout": {
          "annotations": [
           {
            "showarrow": false,
            "text": "Time: 0.25s (Step: 26/100)",
            "x": 0.05,
            "xref": "paper",
            "y": 0.95,
            "yref": "paper"
           }
          ]
         },
         "name": "25"
        },
        {
         "data": [
          {
           "name": "Free Nodes",
           "type": "scatter3d",
           "x": {
            "bdata": "AAAAAAAAAAAAAAAAAADwPwAAAAAAAAAAAAAAAAAA0D8AAAAAAAD0PwAAAAAAANA/",
            "dtype": "f8"
           },
           "y": {
            "bdata": "AAAAAAAAAAAAAAAAAAAAAAAAAAAAAPA/AAAAAAAA0D8AAAAAAADQPwAAAAAAAPQ/",
            "dtype": "f8"
           },
           "z": {
            "bdata": "AAAAAAAAAAAAAAAAAAAAAAAAAAAAAAAA6lG4HoXrob+ccD0K16OwP5xwPQrXo7A/",
            "dtype": "f8"
           }
          },
          {
           "name": "Fixed Nodes",
           "type": "scatter3d",
           "x": [],
           "y": [],
           "z": []
          },
          {
           "name": "Edges",
           "type": "scatter3d",
           "x": [
            1,
            0,
            null,
            0,
            0,
            null,
            0,
            1,
            null,
            1.25,
            0.25,
            null,
            0.25,
            0.25,
            null,
            0.25,
            1.25,
            null
           ],
           "y": [
            0,
            1,
            null,
            1,
            0,
            null,
            0,
            0,
            null,
            0.25,
            1.25,
            null,
            1.25,
            0.25,
            null,
            0.25,
            0.25,
            null
           ],
           "z": [
            0,
            0,
            null,
            0,
            0,
            null,
            0,
            0,
            null,
            0.06499999999999989,
            0.06499999999999989,
            null,
            0.06499999999999989,
            -0.03499999999999999,
            null,
            -0.03499999999999999,
            0.06499999999999989,
            null
           ]
          },
          {
           "i": [
            0,
            3
           ],
           "j": [
            1,
            4
           ],
           "k": [
            2,
            5
           ],
           "name": "Faces",
           "type": "mesh3d",
           "x": {
            "bdata": "AAAAAAAAAAAAAAAAAADwPwAAAAAAAAAAAAAAAAAA0D8AAAAAAAD0PwAAAAAAANA/",
            "dtype": "f8"
           },
           "y": {
            "bdata": "AAAAAAAAAAAAAAAAAAAAAAAAAAAAAPA/AAAAAAAA0D8AAAAAAADQPwAAAAAAAPQ/",
            "dtype": "f8"
           },
           "z": {
            "bdata": "AAAAAAAAAAAAAAAAAAAAAAAAAAAAAAAA6lG4HoXrob+ccD0K16OwP5xwPQrXo7A/",
            "dtype": "f8"
           }
          }
         ],
         "layout": {
          "annotations": [
           {
            "showarrow": false,
            "text": "Time: 0.26s (Step: 27/100)",
            "x": 0.05,
            "xref": "paper",
            "y": 0.95,
            "yref": "paper"
           }
          ]
         },
         "name": "26"
        },
        {
         "data": [
          {
           "name": "Free Nodes",
           "type": "scatter3d",
           "x": {
            "bdata": "AAAAAAAAAAAAAAAAAADwPwAAAAAAAAAAAAAAAAAA0D8AAAAAAAD0PwAAAAAAANA/",
            "dtype": "f8"
           },
           "y": {
            "bdata": "AAAAAAAAAAAAAAAAAAAAAAAAAAAAAPA/AAAAAAAA0D8AAAAAAADQPwAAAAAAAPQ/",
            "dtype": "f8"
           },
           "z": {
            "bdata": "AAAAAAAAAAAAAAAAAAAAAAAAAAAAAAAAeRSuR+F6pL+oHoXrUbiuP6gehetRuK4/",
            "dtype": "f8"
           }
          },
          {
           "name": "Fixed Nodes",
           "type": "scatter3d",
           "x": [],
           "y": [],
           "z": []
          },
          {
           "name": "Edges",
           "type": "scatter3d",
           "x": [
            1,
            0,
            null,
            0,
            0,
            null,
            0,
            1,
            null,
            1.25,
            0.25,
            null,
            0.25,
            0.25,
            null,
            0.25,
            1.25,
            null
           ],
           "y": [
            0,
            1,
            null,
            1,
            0,
            null,
            0,
            0,
            null,
            0.25,
            1.25,
            null,
            1.25,
            0.25,
            null,
            0.25,
            0.25,
            null
           ],
           "z": [
            0,
            0,
            null,
            0,
            0,
            null,
            0,
            0,
            null,
            0.05999999999999989,
            0.05999999999999989,
            null,
            0.05999999999999989,
            -0.03999999999999999,
            null,
            -0.03999999999999999,
            0.05999999999999989,
            null
           ]
          },
          {
           "i": [
            0,
            3
           ],
           "j": [
            1,
            4
           ],
           "k": [
            2,
            5
           ],
           "name": "Faces",
           "type": "mesh3d",
           "x": {
            "bdata": "AAAAAAAAAAAAAAAAAADwPwAAAAAAAAAAAAAAAAAA0D8AAAAAAAD0PwAAAAAAANA/",
            "dtype": "f8"
           },
           "y": {
            "bdata": "AAAAAAAAAAAAAAAAAAAAAAAAAAAAAPA/AAAAAAAA0D8AAAAAAADQPwAAAAAAAPQ/",
            "dtype": "f8"
           },
           "z": {
            "bdata": "AAAAAAAAAAAAAAAAAAAAAAAAAAAAAAAAeRSuR+F6pL+oHoXrUbiuP6gehetRuK4/",
            "dtype": "f8"
           }
          }
         ],
         "layout": {
          "annotations": [
           {
            "showarrow": false,
            "text": "Time: 0.27s (Step: 28/100)",
            "x": 0.05,
            "xref": "paper",
            "y": 0.95,
            "yref": "paper"
           }
          ]
         },
         "name": "27"
        },
        {
         "data": [
          {
           "name": "Free Nodes",
           "type": "scatter3d",
           "x": {
            "bdata": "AAAAAAAAAAAAAAAAAADwPwAAAAAAAAAAAAAAAAAA0D8AAAAAAAD0PwAAAAAAANA/",
            "dtype": "f8"
           },
           "y": {
            "bdata": "AAAAAAAAAAAAAAAAAAAAAAAAAAAAAPA/AAAAAAAA0D8AAAAAAADQPwAAAAAAAPQ/",
            "dtype": "f8"
           },
           "z": {
            "bdata": "AAAAAAAAAAAAAAAAAAAAAAAAAAAAAAAACNejcD0Kp78YXI/C9SisPxhcj8L1KKw/",
            "dtype": "f8"
           }
          },
          {
           "name": "Fixed Nodes",
           "type": "scatter3d",
           "x": [],
           "y": [],
           "z": []
          },
          {
           "name": "Edges",
           "type": "scatter3d",
           "x": [
            1,
            0,
            null,
            0,
            0,
            null,
            0,
            1,
            null,
            1.25,
            0.25,
            null,
            0.25,
            0.25,
            null,
            0.25,
            1.25,
            null
           ],
           "y": [
            0,
            1,
            null,
            1,
            0,
            null,
            0,
            0,
            null,
            0.25,
            1.25,
            null,
            1.25,
            0.25,
            null,
            0.25,
            0.25,
            null
           ],
           "z": [
            0,
            0,
            null,
            0,
            0,
            null,
            0,
            0,
            null,
            0.05499999999999988,
            0.05499999999999988,
            null,
            0.05499999999999988,
            -0.044999999999999984,
            null,
            -0.044999999999999984,
            0.05499999999999988,
            null
           ]
          },
          {
           "i": [
            0,
            3
           ],
           "j": [
            1,
            4
           ],
           "k": [
            2,
            5
           ],
           "name": "Faces",
           "type": "mesh3d",
           "x": {
            "bdata": "AAAAAAAAAAAAAAAAAADwPwAAAAAAAAAAAAAAAAAA0D8AAAAAAAD0PwAAAAAAANA/",
            "dtype": "f8"
           },
           "y": {
            "bdata": "AAAAAAAAAAAAAAAAAAAAAAAAAAAAAPA/AAAAAAAA0D8AAAAAAADQPwAAAAAAAPQ/",
            "dtype": "f8"
           },
           "z": {
            "bdata": "AAAAAAAAAAAAAAAAAAAAAAAAAAAAAAAACNejcD0Kp78YXI/C9SisPxhcj8L1KKw/",
            "dtype": "f8"
           }
          }
         ],
         "layout": {
          "annotations": [
           {
            "showarrow": false,
            "text": "Time: 0.28s (Step: 29/100)",
            "x": 0.05,
            "xref": "paper",
            "y": 0.95,
            "yref": "paper"
           }
          ]
         },
         "name": "28"
        },
        {
         "data": [
          {
           "name": "Free Nodes",
           "type": "scatter3d",
           "x": {
            "bdata": "AAAAAAAAAAAAAAAAAADwPwAAAAAAAAAAAAAAAAAA0D8AAAAAAAD0PwAAAAAAANA/",
            "dtype": "f8"
           },
           "y": {
            "bdata": "AAAAAAAAAAAAAAAAAAAAAAAAAAAAAPA/AAAAAAAA0D8AAAAAAADQPwAAAAAAAPQ/",
            "dtype": "f8"
           },
           "z": {
            "bdata": "AAAAAAAAAAAAAAAAAAAAAAAAAAAAAAAAl5mZmZmZqb+ImZmZmZmpP4iZmZmZmak/",
            "dtype": "f8"
           }
          },
          {
           "name": "Fixed Nodes",
           "type": "scatter3d",
           "x": [],
           "y": [],
           "z": []
          },
          {
           "name": "Edges",
           "type": "scatter3d",
           "x": [
            1,
            0,
            null,
            0,
            0,
            null,
            0,
            1,
            null,
            1.25,
            0.25,
            null,
            0.25,
            0.25,
            null,
            0.25,
            1.25,
            null
           ],
           "y": [
            0,
            1,
            null,
            1,
            0,
            null,
            0,
            0,
            null,
            0.25,
            1.25,
            null,
            1.25,
            0.25,
            null,
            0.25,
            0.25,
            null
           ],
           "z": [
            0,
            0,
            null,
            0,
            0,
            null,
            0,
            0,
            null,
            0.04999999999999988,
            0.04999999999999988,
            null,
            0.04999999999999988,
            -0.04999999999999998,
            null,
            -0.04999999999999998,
            0.04999999999999988,
            null
           ]
          },
          {
           "i": [
            0,
            3
           ],
           "j": [
            1,
            4
           ],
           "k": [
            2,
            5
           ],
           "name": "Faces",
           "type": "mesh3d",
           "x": {
            "bdata": "AAAAAAAAAAAAAAAAAADwPwAAAAAAAAAAAAAAAAAA0D8AAAAAAAD0PwAAAAAAANA/",
            "dtype": "f8"
           },
           "y": {
            "bdata": "AAAAAAAAAAAAAAAAAAAAAAAAAAAAAPA/AAAAAAAA0D8AAAAAAADQPwAAAAAAAPQ/",
            "dtype": "f8"
           },
           "z": {
            "bdata": "AAAAAAAAAAAAAAAAAAAAAAAAAAAAAAAAl5mZmZmZqb+ImZmZmZmpP4iZmZmZmak/",
            "dtype": "f8"
           }
          }
         ],
         "layout": {
          "annotations": [
           {
            "showarrow": false,
            "text": "Time: 0.29s (Step: 30/100)",
            "x": 0.05,
            "xref": "paper",
            "y": 0.95,
            "yref": "paper"
           }
          ]
         },
         "name": "29"
        },
        {
         "data": [
          {
           "name": "Free Nodes",
           "type": "scatter3d",
           "x": {
            "bdata": "AAAAAAAAAAAAAAAAAADwPwAAAAAAAAAAAAAAAAAA0D8AAAAAAAD0PwAAAAAAANA/",
            "dtype": "f8"
           },
           "y": {
            "bdata": "AAAAAAAAAAAAAAAAAAAAAAAAAAAAAPA/AAAAAAAA0D8AAAAAAADQPwAAAAAAAPQ/",
            "dtype": "f8"
           },
           "z": {
            "bdata": "AAAAAAAAAAAAAAAAAAAAAAAAAAAAAAAAJlyPwvUorL/41qNwPQqnP/jWo3A9Cqc/",
            "dtype": "f8"
           }
          },
          {
           "name": "Fixed Nodes",
           "type": "scatter3d",
           "x": [],
           "y": [],
           "z": []
          },
          {
           "name": "Edges",
           "type": "scatter3d",
           "x": [
            1,
            0,
            null,
            0,
            0,
            null,
            0,
            1,
            null,
            1.25,
            0.25,
            null,
            0.25,
            0.25,
            null,
            0.25,
            1.25,
            null
           ],
           "y": [
            0,
            1,
            null,
            1,
            0,
            null,
            0,
            0,
            null,
            0.25,
            1.25,
            null,
            1.25,
            0.25,
            null,
            0.25,
            0.25,
            null
           ],
           "z": [
            0,
            0,
            null,
            0,
            0,
            null,
            0,
            0,
            null,
            0.04499999999999987,
            0.04499999999999987,
            null,
            0.04499999999999987,
            -0.05499999999999998,
            null,
            -0.05499999999999998,
            0.04499999999999987,
            null
           ]
          },
          {
           "i": [
            0,
            3
           ],
           "j": [
            1,
            4
           ],
           "k": [
            2,
            5
           ],
           "name": "Faces",
           "type": "mesh3d",
           "x": {
            "bdata": "AAAAAAAAAAAAAAAAAADwPwAAAAAAAAAAAAAAAAAA0D8AAAAAAAD0PwAAAAAAANA/",
            "dtype": "f8"
           },
           "y": {
            "bdata": "AAAAAAAAAAAAAAAAAAAAAAAAAAAAAPA/AAAAAAAA0D8AAAAAAADQPwAAAAAAAPQ/",
            "dtype": "f8"
           },
           "z": {
            "bdata": "AAAAAAAAAAAAAAAAAAAAAAAAAAAAAAAAJlyPwvUorL/41qNwPQqnP/jWo3A9Cqc/",
            "dtype": "f8"
           }
          }
         ],
         "layout": {
          "annotations": [
           {
            "showarrow": false,
            "text": "Time: 0.30s (Step: 31/100)",
            "x": 0.05,
            "xref": "paper",
            "y": 0.95,
            "yref": "paper"
           }
          ]
         },
         "name": "30"
        },
        {
         "data": [
          {
           "name": "Free Nodes",
           "type": "scatter3d",
           "x": {
            "bdata": "AAAAAAAAAAAAAAAAAADwPwAAAAAAAAAAAAAAAAAA0D8AAAAAAAD0PwAAAAAAANA/",
            "dtype": "f8"
           },
           "y": {
            "bdata": "AAAAAAAAAAAAAAAAAAAAAAAAAAAAAPA/AAAAAAAA0D8AAAAAAADQPwAAAAAAAPQ/",
            "dtype": "f8"
           },
           "z": {
            "bdata": "AAAAAAAAAAAAAAAAAAAAAAAAAAAAAAAAtR6F61G4rr9oFK5H4XqkP2gUrkfheqQ/",
            "dtype": "f8"
           }
          },
          {
           "name": "Fixed Nodes",
           "type": "scatter3d",
           "x": [],
           "y": [],
           "z": []
          },
          {
           "name": "Edges",
           "type": "scatter3d",
           "x": [
            1,
            0,
            null,
            0,
            0,
            null,
            0,
            1,
            null,
            1.25,
            0.25,
            null,
            0.25,
            0.25,
            null,
            0.25,
            1.25,
            null
           ],
           "y": [
            0,
            1,
            null,
            1,
            0,
            null,
            0,
            0,
            null,
            0.25,
            1.25,
            null,
            1.25,
            0.25,
            null,
            0.25,
            0.25,
            null
           ],
           "z": [
            0,
            0,
            null,
            0,
            0,
            null,
            0,
            0,
            null,
            0.03999999999999987,
            0.03999999999999987,
            null,
            0.03999999999999987,
            -0.05999999999999998,
            null,
            -0.05999999999999998,
            0.03999999999999987,
            null
           ]
          },
          {
           "i": [
            0,
            3
           ],
           "j": [
            1,
            4
           ],
           "k": [
            2,
            5
           ],
           "name": "Faces",
           "type": "mesh3d",
           "x": {
            "bdata": "AAAAAAAAAAAAAAAAAADwPwAAAAAAAAAAAAAAAAAA0D8AAAAAAAD0PwAAAAAAANA/",
            "dtype": "f8"
           },
           "y": {
            "bdata": "AAAAAAAAAAAAAAAAAAAAAAAAAAAAAPA/AAAAAAAA0D8AAAAAAADQPwAAAAAAAPQ/",
            "dtype": "f8"
           },
           "z": {
            "bdata": "AAAAAAAAAAAAAAAAAAAAAAAAAAAAAAAAtR6F61G4rr9oFK5H4XqkP2gUrkfheqQ/",
            "dtype": "f8"
           }
          }
         ],
         "layout": {
          "annotations": [
           {
            "showarrow": false,
            "text": "Time: 0.31s (Step: 32/100)",
            "x": 0.05,
            "xref": "paper",
            "y": 0.95,
            "yref": "paper"
           }
          ]
         },
         "name": "31"
        },
        {
         "data": [
          {
           "name": "Free Nodes",
           "type": "scatter3d",
           "x": {
            "bdata": "AAAAAAAAAAAAAAAAAADwPwAAAAAAAAAAAAAAAAAA0D8AAAAAAAD0PwAAAAAAANA/",
            "dtype": "f8"
           },
           "y": {
            "bdata": "AAAAAAAAAAAAAAAAAAAAAAAAAAAAAPA/AAAAAAAA0D8AAAAAAADQPwAAAAAAAPQ/",
            "dtype": "f8"
           },
           "z": {
            "bdata": "AAAAAAAAAAAAAAAAAAAAAAAAAAAAAAAAonA9CtejsL/YUbgeheuhP9hRuB6F66E/",
            "dtype": "f8"
           }
          },
          {
           "name": "Fixed Nodes",
           "type": "scatter3d",
           "x": [],
           "y": [],
           "z": []
          },
          {
           "name": "Edges",
           "type": "scatter3d",
           "x": [
            1,
            0,
            null,
            0,
            0,
            null,
            0,
            1,
            null,
            1.25,
            0.25,
            null,
            0.25,
            0.25,
            null,
            0.25,
            1.25,
            null
           ],
           "y": [
            0,
            1,
            null,
            1,
            0,
            null,
            0,
            0,
            null,
            0.25,
            1.25,
            null,
            1.25,
            0.25,
            null,
            0.25,
            0.25,
            null
           ],
           "z": [
            0,
            0,
            null,
            0,
            0,
            null,
            0,
            0,
            null,
            0.034999999999999865,
            0.034999999999999865,
            null,
            0.034999999999999865,
            -0.06499999999999997,
            null,
            -0.06499999999999997,
            0.034999999999999865,
            null
           ]
          },
          {
           "i": [
            0,
            3
           ],
           "j": [
            1,
            4
           ],
           "k": [
            2,
            5
           ],
           "name": "Faces",
           "type": "mesh3d",
           "x": {
            "bdata": "AAAAAAAAAAAAAAAAAADwPwAAAAAAAAAAAAAAAAAA0D8AAAAAAAD0PwAAAAAAANA/",
            "dtype": "f8"
           },
           "y": {
            "bdata": "AAAAAAAAAAAAAAAAAAAAAAAAAAAAAPA/AAAAAAAA0D8AAAAAAADQPwAAAAAAAPQ/",
            "dtype": "f8"
           },
           "z": {
            "bdata": "AAAAAAAAAAAAAAAAAAAAAAAAAAAAAAAAonA9CtejsL/YUbgeheuhP9hRuB6F66E/",
            "dtype": "f8"
           }
          }
         ],
         "layout": {
          "annotations": [
           {
            "showarrow": false,
            "text": "Time: 0.32s (Step: 33/100)",
            "x": 0.05,
            "xref": "paper",
            "y": 0.95,
            "yref": "paper"
           }
          ]
         },
         "name": "32"
        },
        {
         "data": [
          {
           "name": "Free Nodes",
           "type": "scatter3d",
           "x": {
            "bdata": "AAAAAAAAAAAAAAAAAADwPwAAAAAAAAAAAAAAAAAA0D8AAAAAAAD0PwAAAAAAANA/",
            "dtype": "f8"
           },
           "y": {
            "bdata": "AAAAAAAAAAAAAAAAAAAAAAAAAAAAAPA/AAAAAAAA0D8AAAAAAADQPwAAAAAAAPQ/",
            "dtype": "f8"
           },
           "z": {
            "bdata": "AAAAAAAAAAAAAAAAAAAAAAAAAAAAAAAA6lG4HoXrsb+QHoXrUbieP5AehetRuJ4/",
            "dtype": "f8"
           }
          },
          {
           "name": "Fixed Nodes",
           "type": "scatter3d",
           "x": [],
           "y": [],
           "z": []
          },
          {
           "name": "Edges",
           "type": "scatter3d",
           "x": [
            1,
            0,
            null,
            0,
            0,
            null,
            0,
            1,
            null,
            1.25,
            0.25,
            null,
            0.25,
            0.25,
            null,
            0.25,
            1.25,
            null
           ],
           "y": [
            0,
            1,
            null,
            1,
            0,
            null,
            0,
            0,
            null,
            0.25,
            1.25,
            null,
            1.25,
            0.25,
            null,
            0.25,
            0.25,
            null
           ],
           "z": [
            0,
            0,
            null,
            0,
            0,
            null,
            0,
            0,
            null,
            0.02999999999999986,
            0.02999999999999986,
            null,
            0.02999999999999986,
            -0.06999999999999998,
            null,
            -0.06999999999999998,
            0.02999999999999986,
            null
           ]
          },
          {
           "i": [
            0,
            3
           ],
           "j": [
            1,
            4
           ],
           "k": [
            2,
            5
           ],
           "name": "Faces",
           "type": "mesh3d",
           "x": {
            "bdata": "AAAAAAAAAAAAAAAAAADwPwAAAAAAAAAAAAAAAAAA0D8AAAAAAAD0PwAAAAAAANA/",
            "dtype": "f8"
           },
           "y": {
            "bdata": "AAAAAAAAAAAAAAAAAAAAAAAAAAAAAPA/AAAAAAAA0D8AAAAAAADQPwAAAAAAAPQ/",
            "dtype": "f8"
           },
           "z": {
            "bdata": "AAAAAAAAAAAAAAAAAAAAAAAAAAAAAAAA6lG4HoXrsb+QHoXrUbieP5AehetRuJ4/",
            "dtype": "f8"
           }
          }
         ],
         "layout": {
          "annotations": [
           {
            "showarrow": false,
            "text": "Time: 0.33s (Step: 34/100)",
            "x": 0.05,
            "xref": "paper",
            "y": 0.95,
            "yref": "paper"
           }
          ]
         },
         "name": "33"
        },
        {
         "data": [
          {
           "name": "Free Nodes",
           "type": "scatter3d",
           "x": {
            "bdata": "AAAAAAAAAAAAAAAAAADwPwAAAAAAAAAAAAAAAAAA0D8AAAAAAAD0PwAAAAAAANA/",
            "dtype": "f8"
           },
           "y": {
            "bdata": "AAAAAAAAAAAAAAAAAAAAAAAAAAAAAPA/AAAAAAAA0D8AAAAAAADQPwAAAAAAAPQ/",
            "dtype": "f8"
           },
           "z": {
            "bdata": "AAAAAAAAAAAAAAAAAAAAAAAAAAAAAAAAMjMzMzMzs79wmZmZmZmZP3CZmZmZmZk/",
            "dtype": "f8"
           }
          },
          {
           "name": "Fixed Nodes",
           "type": "scatter3d",
           "x": [],
           "y": [],
           "z": []
          },
          {
           "name": "Edges",
           "type": "scatter3d",
           "x": [
            1,
            0,
            null,
            0,
            0,
            null,
            0,
            1,
            null,
            1.25,
            0.25,
            null,
            0.25,
            0.25,
            null,
            0.25,
            1.25,
            null
           ],
           "y": [
            0,
            1,
            null,
            1,
            0,
            null,
            0,
            0,
            null,
            0.25,
            1.25,
            null,
            1.25,
            0.25,
            null,
            0.25,
            0.25,
            null
           ],
           "z": [
            0,
            0,
            null,
            0,
            0,
            null,
            0,
            0,
            null,
            0.024999999999999856,
            0.024999999999999856,
            null,
            0.024999999999999856,
            -0.07499999999999998,
            null,
            -0.07499999999999998,
            0.024999999999999856,
            null
           ]
          },
          {
           "i": [
            0,
            3
           ],
           "j": [
            1,
            4
           ],
           "k": [
            2,
            5
           ],
           "name": "Faces",
           "type": "mesh3d",
           "x": {
            "bdata": "AAAAAAAAAAAAAAAAAADwPwAAAAAAAAAAAAAAAAAA0D8AAAAAAAD0PwAAAAAAANA/",
            "dtype": "f8"
           },
           "y": {
            "bdata": "AAAAAAAAAAAAAAAAAAAAAAAAAAAAAPA/AAAAAAAA0D8AAAAAAADQPwAAAAAAAPQ/",
            "dtype": "f8"
           },
           "z": {
            "bdata": "AAAAAAAAAAAAAAAAAAAAAAAAAAAAAAAAMjMzMzMzs79wmZmZmZmZP3CZmZmZmZk/",
            "dtype": "f8"
           }
          }
         ],
         "layout": {
          "annotations": [
           {
            "showarrow": false,
            "text": "Time: 0.34s (Step: 35/100)",
            "x": 0.05,
            "xref": "paper",
            "y": 0.95,
            "yref": "paper"
           }
          ]
         },
         "name": "34"
        },
        {
         "data": [
          {
           "name": "Free Nodes",
           "type": "scatter3d",
           "x": {
            "bdata": "AAAAAAAAAAAAAAAAAADwPwAAAAAAAAAAAAAAAAAA0D8AAAAAAAD0PwAAAAAAANA/",
            "dtype": "f8"
           },
           "y": {
            "bdata": "AAAAAAAAAAAAAAAAAAAAAAAAAAAAAPA/AAAAAAAA0D8AAAAAAADQPwAAAAAAAPQ/",
            "dtype": "f8"
           },
           "z": {
            "bdata": "AAAAAAAAAAAAAAAAAAAAAAAAAAAAAAAAehSuR+F6tL9QFK5H4XqUP1AUrkfhepQ/",
            "dtype": "f8"
           }
          },
          {
           "name": "Fixed Nodes",
           "type": "scatter3d",
           "x": [],
           "y": [],
           "z": []
          },
          {
           "name": "Edges",
           "type": "scatter3d",
           "x": [
            1,
            0,
            null,
            0,
            0,
            null,
            0,
            1,
            null,
            1.25,
            0.25,
            null,
            0.25,
            0.25,
            null,
            0.25,
            1.25,
            null
           ],
           "y": [
            0,
            1,
            null,
            1,
            0,
            null,
            0,
            0,
            null,
            0.25,
            1.25,
            null,
            1.25,
            0.25,
            null,
            0.25,
            0.25,
            null
           ],
           "z": [
            0,
            0,
            null,
            0,
            0,
            null,
            0,
            0,
            null,
            0.01999999999999985,
            0.01999999999999985,
            null,
            0.01999999999999985,
            -0.07999999999999999,
            null,
            -0.07999999999999999,
            0.01999999999999985,
            null
           ]
          },
          {
           "i": [
            0,
            3
           ],
           "j": [
            1,
            4
           ],
           "k": [
            2,
            5
           ],
           "name": "Faces",
           "type": "mesh3d",
           "x": {
            "bdata": "AAAAAAAAAAAAAAAAAADwPwAAAAAAAAAAAAAAAAAA0D8AAAAAAAD0PwAAAAAAANA/",
            "dtype": "f8"
           },
           "y": {
            "bdata": "AAAAAAAAAAAAAAAAAAAAAAAAAAAAAPA/AAAAAAAA0D8AAAAAAADQPwAAAAAAAPQ/",
            "dtype": "f8"
           },
           "z": {
            "bdata": "AAAAAAAAAAAAAAAAAAAAAAAAAAAAAAAAehSuR+F6tL9QFK5H4XqUP1AUrkfhepQ/",
            "dtype": "f8"
           }
          }
         ],
         "layout": {
          "annotations": [
           {
            "showarrow": false,
            "text": "Time: 0.35s (Step: 36/100)",
            "x": 0.05,
            "xref": "paper",
            "y": 0.95,
            "yref": "paper"
           }
          ]
         },
         "name": "35"
        },
        {
         "data": [
          {
           "name": "Free Nodes",
           "type": "scatter3d",
           "x": {
            "bdata": "AAAAAAAAAAAAAAAAAADwPwAAAAAAAAAAAAAAAAAA0D8AAAAAAAD0PwAAAAAAANA/",
            "dtype": "f8"
           },
           "y": {
            "bdata": "AAAAAAAAAAAAAAAAAAAAAAAAAAAAAPA/AAAAAAAA0D8AAAAAAADQPwAAAAAAAPQ/",
            "dtype": "f8"
           },
           "z": {
            "bdata": "AAAAAAAAAAAAAAAAAAAAAAAAAAAAAAAAwvUoXI/Ctb9gHoXrUbiOP18ehetRuI4/",
            "dtype": "f8"
           }
          },
          {
           "name": "Fixed Nodes",
           "type": "scatter3d",
           "x": [],
           "y": [],
           "z": []
          },
          {
           "name": "Edges",
           "type": "scatter3d",
           "x": [
            1,
            0,
            null,
            0,
            0,
            null,
            0,
            1,
            null,
            1.25,
            0.25,
            null,
            0.25,
            0.25,
            null,
            0.25,
            1.25,
            null
           ],
           "y": [
            0,
            1,
            null,
            1,
            0,
            null,
            0,
            0,
            null,
            0.25,
            1.25,
            null,
            1.25,
            0.25,
            null,
            0.25,
            0.25,
            null
           ],
           "z": [
            0,
            0,
            null,
            0,
            0,
            null,
            0,
            0,
            null,
            0.014999999999999847,
            0.014999999999999845,
            null,
            0.014999999999999845,
            -0.08499999999999999,
            null,
            -0.08499999999999999,
            0.014999999999999847,
            null
           ]
          },
          {
           "i": [
            0,
            3
           ],
           "j": [
            1,
            4
           ],
           "k": [
            2,
            5
           ],
           "name": "Faces",
           "type": "mesh3d",
           "x": {
            "bdata": "AAAAAAAAAAAAAAAAAADwPwAAAAAAAAAAAAAAAAAA0D8AAAAAAAD0PwAAAAAAANA/",
            "dtype": "f8"
           },
           "y": {
            "bdata": "AAAAAAAAAAAAAAAAAAAAAAAAAAAAAPA/AAAAAAAA0D8AAAAAAADQPwAAAAAAAPQ/",
            "dtype": "f8"
           },
           "z": {
            "bdata": "AAAAAAAAAAAAAAAAAAAAAAAAAAAAAAAAwvUoXI/Ctb9gHoXrUbiOP18ehetRuI4/",
            "dtype": "f8"
           }
          }
         ],
         "layout": {
          "annotations": [
           {
            "showarrow": false,
            "text": "Time: 0.36s (Step: 37/100)",
            "x": 0.05,
            "xref": "paper",
            "y": 0.95,
            "yref": "paper"
           }
          ]
         },
         "name": "36"
        },
        {
         "data": [
          {
           "name": "Free Nodes",
           "type": "scatter3d",
           "x": {
            "bdata": "AAAAAAAAAAAAAAAAAADwPwAAAAAAAAAAAAAAAAAA0D8AAAAAAAD0PwAAAAAAANA/",
            "dtype": "f8"
           },
           "y": {
            "bdata": "AAAAAAAAAAAAAAAAAAAAAAAAAAAAAPA/AAAAAAAA0D8AAAAAAADQPwAAAAAAAPQ/",
            "dtype": "f8"
           },
           "z": {
            "bdata": "AAAAAAAAAAAAAAAAAAAAAAAAAAAAAAAACtejcD0Kt78gFK5H4XqEPx4UrkfheoQ/",
            "dtype": "f8"
           }
          },
          {
           "name": "Fixed Nodes",
           "type": "scatter3d",
           "x": [],
           "y": [],
           "z": []
          },
          {
           "name": "Edges",
           "type": "scatter3d",
           "x": [
            1,
            0,
            null,
            0,
            0,
            null,
            0,
            1,
            null,
            1.25,
            0.25,
            null,
            0.25,
            0.25,
            null,
            0.25,
            1.25,
            null
           ],
           "y": [
            0,
            1,
            null,
            1,
            0,
            null,
            0,
            0,
            null,
            0.25,
            1.25,
            null,
            1.25,
            0.25,
            null,
            0.25,
            0.25,
            null
           ],
           "z": [
            0,
            0,
            null,
            0,
            0,
            null,
            0,
            0,
            null,
            0.009999999999999842,
            0.009999999999999839,
            null,
            0.009999999999999839,
            -0.09,
            null,
            -0.09,
            0.009999999999999842,
            null
           ]
          },
          {
           "i": [
            0,
            3
           ],
           "j": [
            1,
            4
           ],
           "k": [
            2,
            5
           ],
           "name": "Faces",
           "type": "mesh3d",
           "x": {
            "bdata": "AAAAAAAAAAAAAAAAAADwPwAAAAAAAAAAAAAAAAAA0D8AAAAAAAD0PwAAAAAAANA/",
            "dtype": "f8"
           },
           "y": {
            "bdata": "AAAAAAAAAAAAAAAAAAAAAAAAAAAAAPA/AAAAAAAA0D8AAAAAAADQPwAAAAAAAPQ/",
            "dtype": "f8"
           },
           "z": {
            "bdata": "AAAAAAAAAAAAAAAAAAAAAAAAAAAAAAAACtejcD0Kt78gFK5H4XqEPx4UrkfheoQ/",
            "dtype": "f8"
           }
          }
         ],
         "layout": {
          "annotations": [
           {
            "showarrow": false,
            "text": "Time: 0.37s (Step: 38/100)",
            "x": 0.05,
            "xref": "paper",
            "y": 0.95,
            "yref": "paper"
           }
          ]
         },
         "name": "37"
        },
        {
         "data": [
          {
           "name": "Free Nodes",
           "type": "scatter3d",
           "x": {
            "bdata": "AAAAAAAAAAAAAAAAAADwPwAAAAAAAAAAAAAAAAAA0D8AAAAAAAD0PwAAAAAAANA/",
            "dtype": "f8"
           },
           "y": {
            "bdata": "AAAAAAAAAAAAAAAAAAAAAAAAAAAAAPA/AAAAAAAA0D8AAAAAAADQPwAAAAAAAPQ/",
            "dtype": "f8"
           },
           "z": {
            "bdata": "AAAAAAAAAAAAAAAAAAAAAAAAAAAAAAAAUrgehetRuL/AE65H4Xp0P7kTrkfhenQ/",
            "dtype": "f8"
           }
          },
          {
           "name": "Fixed Nodes",
           "type": "scatter3d",
           "x": [],
           "y": [],
           "z": []
          },
          {
           "name": "Edges",
           "type": "scatter3d",
           "x": [
            1,
            0,
            null,
            0,
            0,
            null,
            0,
            1,
            null,
            1.25,
            0.25,
            null,
            0.25,
            0.25,
            null,
            0.25,
            1.25,
            null
           ],
           "y": [
            0,
            1,
            null,
            1,
            0,
            null,
            0,
            0,
            null,
            0.25,
            1.25,
            null,
            1.25,
            0.25,
            null,
            0.25,
            0.25,
            null
           ],
           "z": [
            0,
            0,
            null,
            0,
            0,
            null,
            0,
            0,
            null,
            0.004999999999999838,
            0.004999999999999832,
            null,
            0.004999999999999832,
            -0.095,
            null,
            -0.095,
            0.004999999999999838,
            null
           ]
          },
          {
           "i": [
            0,
            3
           ],
           "j": [
            1,
            4
           ],
           "k": [
            2,
            5
           ],
           "name": "Faces",
           "type": "mesh3d",
           "x": {
            "bdata": "AAAAAAAAAAAAAAAAAADwPwAAAAAAAAAAAAAAAAAA0D8AAAAAAAD0PwAAAAAAANA/",
            "dtype": "f8"
           },
           "y": {
            "bdata": "AAAAAAAAAAAAAAAAAAAAAAAAAAAAAPA/AAAAAAAA0D8AAAAAAADQPwAAAAAAAPQ/",
            "dtype": "f8"
           },
           "z": {
            "bdata": "AAAAAAAAAAAAAAAAAAAAAAAAAAAAAAAAUrgehetRuL/AE65H4Xp0P7kTrkfhenQ/",
            "dtype": "f8"
           }
          }
         ],
         "layout": {
          "annotations": [
           {
            "showarrow": false,
            "text": "Time: 0.38s (Step: 39/100)",
            "x": 0.05,
            "xref": "paper",
            "y": 0.95,
            "yref": "paper"
           }
          ]
         },
         "name": "38"
        },
        {
         "data": [
          {
           "name": "Free Nodes",
           "type": "scatter3d",
           "x": {
            "bdata": "EBVXdPPlv73/8Pv////vP9FEVFeQU7093Mmls/3/zz8ihYU4AAD0PwyzH0QAANA/",
            "dtype": "f8"
           },
           "y": {
            "bdata": "YP5I3ea8Zz2GC1qkeAnPvWEGAAAAAPA/mDUFFAAA0D/WuDREAADQP7pJ9en///M/",
            "dtype": "f8"
           },
           "z": {
            "bdata": "NEvaf261wL6qTjj8JBDZPgAAAAAAAAAAmChDB5qZub8ld62MsJDUvi7yum5Hg7A+",
            "dtype": "f8"
           }
          },
          {
           "name": "Fixed Nodes",
           "type": "scatter3d",
           "x": [],
           "y": [],
           "z": []
          },
          {
           "name": "Edges",
           "type": "scatter3d",
           "x": [
            0.9999999999704697,
            2.667222472232375e-11,
            null,
            2.667222472232375e-11,
            -2.901128579665638e-11,
            null,
            -2.901128579665638e-11,
            0.9999999999704697,
            null,
            1.2500002105592292,
            0.2500000634452568,
            null,
            0.2500000634452568,
            0.24999972602706932,
            null,
            0.24999972602706932,
            1.2500002105592292,
            null
           ],
           "y": [
            -5.645596884426501e-11,
            1.0000000000003626,
            null,
            1.0000000000003626,
            6.746716312337079e-13,
            null,
            6.746716312337079e-13,
            -5.645596884426501e-11,
            null,
            0.25000006352173665,
            1.2499999178877332,
            null,
            1.2499999178877332,
            0.250000018645403,
            null,
            0.250000018645403,
            0.25000006352173665,
            null
           ],
           "z": [
            0.000005975500190231036,
            0,
            null,
            0,
            -0.0000019918343230977343,
            null,
            -0.0000019918343230977343,
            0.000005975500190231036,
            null,
            -0.000004903124316194852,
            9.842400982416346e-7,
            null,
            9.842400982416346e-7,
            -0.10000002553275278,
            null,
            -0.10000002553275278,
            -0.000004903124316194852,
            null
           ]
          },
          {
           "i": [
            0,
            3
           ],
           "j": [
            1,
            4
           ],
           "k": [
            2,
            5
           ],
           "name": "Faces",
           "type": "mesh3d",
           "x": {
            "bdata": "EBVXdPPlv73/8Pv////vP9FEVFeQU7093Mmls/3/zz8ihYU4AAD0PwyzH0QAANA/",
            "dtype": "f8"
           },
           "y": {
            "bdata": "YP5I3ea8Zz2GC1qkeAnPvWEGAAAAAPA/mDUFFAAA0D/WuDREAADQP7pJ9en///M/",
            "dtype": "f8"
           },
           "z": {
            "bdata": "NEvaf261wL6qTjj8JBDZPgAAAAAAAAAAmChDB5qZub8ld62MsJDUvi7yum5Hg7A+",
            "dtype": "f8"
           }
          }
         ],
         "layout": {
          "annotations": [
           {
            "showarrow": false,
            "text": "Time: 0.39s (Step: 40/100)",
            "x": 0.05,
            "xref": "paper",
            "y": 0.95,
            "yref": "paper"
           }
          ]
         },
         "name": "39"
        },
        {
         "data": [
          {
           "name": "Free Nodes",
           "type": "scatter3d",
           "x": {
            "bdata": "kNqOAdT8jj0QIu/////vP4QBUXSJfc49FkB3Xvv/zz9dPJ9xAAD0P4PHWIoAANA/",
            "dtype": "f8"
           },
           "y": {
            "bdata": "+hx+IgpKkT0am8YVfHTevS90/////+8/5DlDJwAA0D8A04KKAADQP3IHltP///M/",
            "dtype": "f8"
           },
           "z": {
            "bdata": "EHHIf2610L73Pi/8JBDpPgDajtSNUHE850t7i0jhur/XrbODKYV0v3HIxdnQeHS/",
            "dtype": "f8"
           }
          },
          {
           "name": "Fixed Nodes",
           "type": "scatter3d",
           "x": [],
           "y": [],
           "z": []
          },
          {
           "name": "Edges",
           "type": "scatter3d",
           "x": [
            0.9999999998772768,
            5.5461675650987703e-11,
            null,
            5.5461675650987703e-11,
            3.522883384465175e-12,
            null,
            3.522883384465175e-12,
            0.9999999998772768,
            null,
            1.2500004232749895,
            0.25000012884549266,
            null,
            0.25000012884549266,
            0.24999944794262835,
            null,
            0.24999944794262835,
            1.2500004232749895,
            null
           ],
           "y": [
            -1.1079471146434233e-10,
            0.9999999999960262,
            null,
            0.9999999999960262,
            3.931112847524574e-12,
            null,
            3.931112847524574e-12,
            -1.1079471146434233e-10,
            null,
            0.25000012899845103,
            1.249999834545147,
            null,
            1.249999834545147,
            0.25000003656614767,
            null,
            0.25000003656614767,
            0.25000012899845103,
            null
           ],
           "z": [
            0.000011951000379456062,
            1.5018077197377916e-17,
            null,
            1.5018077197377916e-17,
            -0.000003983668645204477,
            null,
            -0.000003983668645204477,
            0.000011951000379456062,
            null,
            -0.005009805837498735,
            -0.004998031447359095,
            null,
            -0.004998031447359095,
            -0.1050000515490833,
            null,
            -0.1050000515490833,
            -0.005009805837498735,
            null
           ]
          },
          {
           "i": [
            0,
            3
           ],
           "j": [
            1,
            4
           ],
           "k": [
            2,
            5
           ],
           "name": "Faces",
           "type": "mesh3d",
           "x": {
            "bdata": "kNqOAdT8jj0QIu/////vP4QBUXSJfc49FkB3Xvv/zz9dPJ9xAAD0P4PHWIoAANA/",
            "dtype": "f8"
           },
           "y": {
            "bdata": "+hx+IgpKkT0am8YVfHTevS90/////+8/5DlDJwAA0D8A04KKAADQP3IHltP///M/",
            "dtype": "f8"
           },
           "z": {
            "bdata": "EHHIf2610L73Pi/8JBDpPgDajtSNUHE850t7i0jhur/XrbODKYV0v3HIxdnQeHS/",
            "dtype": "f8"
           }
          }
         ],
         "layout": {
          "annotations": [
           {
            "showarrow": false,
            "text": "Time: 0.40s (Step: 41/100)",
            "x": 0.05,
            "xref": "paper",
            "y": 0.95,
            "yref": "paper"
           }
          ]
         },
         "name": "40"
        },
        {
         "data": [
          {
           "name": "Free Nodes",
           "type": "scatter3d",
           "x": {
            "bdata": "dg3HnVYUzT1pCeD////vP2oxb9IzG9c9FniSDfn/zz8F1G6qAAD0P2R5lc8AANA/",
            "dtype": "f8"
           },
           "y": {
            "bdata": "kaL4UeOWoj2l1q6y1rjmvcq1/v///+8/MtHaOgAA0D+kitTPAADQPwt5X73///M/",
            "dtype": "f8"
           },
           "z": {
            "bdata": "mFmcvyUQ2b48Xx+9G8zyPgG5fkqi9XU8shW0DvcovL9jY350l4KEvy6/H/VUeYS/",
            "dtype": "f8"
           }
          },
          {
           "name": "Fixed Nodes",
           "type": "scatter3d",
           "x": [],
           "y": [],
           "z": []
          },
          {
           "name": "Edges",
           "type": "scatter3d",
           "x": [
            0.9999999997674368,
            8.406008233980805e-11,
            null,
            8.406008233980805e-11,
            5.289520533576096e-11,
            null,
            5.289520533576096e-11,
            0.9999999997674368,
            null,
            1.2500006349121133,
            0.25000019332755685,
            null,
            0.25000019332755685,
            0.2499991718549956,
            null,
            0.2499991718549956,
            1.2500006349121133,
            null
           ],
           "y": [
            -1.6532449831133923e-10,
            0.9999999999906148,
            null,
            0.9999999999906148,
            8.453483192617235e-12,
            null,
            8.453483192617235e-12,
            -1.6532449831133923e-10,
            null,
            0.25000019355699465,
            1.2499997517948624,
            null,
            1.2499997517948624,
            0.25000005481276155,
            null,
            0.25000005481276155,
            0.25000019355699465,
            null
           ],
           "z": [
            0.000017926500568282046,
            1.90468366895152e-17,
            null,
            1.90468366895152e-17,
            -0.00000597550296690119,
            null,
            -0.00000597550296690119,
            0.000017926500568282046,
            null,
            -0.010014708750348772,
            -0.009997047167388109,
            null,
            -0.009997047167388109,
            -0.11000007733317466,
            null,
            -0.11000007733317466,
            -0.010014708750348772,
            null
           ]
          },
          {
           "i": [
            0,
            3
           ],
           "j": [
            1,
            4
           ],
           "k": [
            2,
            5
           ],
           "name": "Faces",
           "type": "mesh3d",
           "x": {
            "bdata": "dg3HnVYUzT1pCeD////vP2oxb9IzG9c9FniSDfn/zz8F1G6qAAD0P2R5lc8AANA/",
            "dtype": "f8"
           },
           "y": {
            "bdata": "kaL4UeOWoj2l1q6y1rjmvcq1/v///+8/MtHaOgAA0D+kitTPAADQPwt5X73///M/",
            "dtype": "f8"
           },
           "z": {
            "bdata": "mFmcvyUQ2b48Xx+9G8zyPgG5fkqi9XU8shW0DvcovL9jY350l4KEvy6/H/VUeYS/",
            "dtype": "f8"
           }
          }
         ],
         "layout": {
          "annotations": [
           {
            "showarrow": false,
            "text": "Time: 0.41s (Step: 42/100)",
            "x": 0.05,
            "xref": "paper",
            "y": 0.95,
            "yref": "paper"
           }
          ]
         },
         "name": "41"
        },
        {
         "data": [
          {
           "name": "Free Nodes",
           "type": "scatter3d",
           "x": {
            "bdata": "fY9yLL1R4j3Bksz////vP9BPVu6ZLN89663YvPb/zz/axTvjAAD0P6hDxxQBANA/",
            "dtype": "f8"
           },
           "y": {
            "bdata": "JgUi9SIGsD0vqZ/Y8xzuvbGk/f///+8/lAR6TgAA0D+sWhsVAQDQP4a9Kaf///M/",
            "dtype": "f8"
           },
           "z": {
            "bdata": "+Buvf2614L5gliL8JBD5PouyuXiPVYA8fjvhkaVwvb/Qt2cnmsKOvyLydH1Bto6/",
            "dtype": "f8"
           }
          },
          {
           "name": "Fixed Nodes",
           "type": "scatter3d",
           "x": [],
           "y": [],
           "z": []
          },
          {
           "name": "Edges",
           "type": "scatter3d",
           "x": [
            0.9999999996258212,
            1.1341116551458269e-10,
            null,
            1.1341116551458269e-10,
            1.3329039801036108e-10,
            null,
            1.3329039801036108e-10,
            0.9999999996258212,
            null,
            1.2500008465107073,
            0.25000025776994983,
            null,
            0.25000025776994983,
            0.24999889584556398,
            null,
            0.24999889584556398,
            1.2500008465107073,
            null
           ],
           "y": [
            -2.1910160865459622e-10,
            0.9999999999828529,
            null,
            0.9999999999828529,
            1.4573716643905772e-11,
            null,
            1.4573716643905772e-11,
            -2.1910160865459622e-10,
            null,
            0.2500002580758671,
            1.2499996690565651,
            null,
            1.2499996690565651,
            0.2500000730870593,
            null,
            0.2500000730870593,
            0.2500002580758671,
            null
           ],
           "z": [
            0.00002390200075610136,
            2.8335355680956665e-17,
            null,
            2.8335355680956665e-17,
            -0.000007967337287596494,
            null,
            -0.000007967337287596494,
            0.00002390200075610136,
            null,
            -0.015019611671018313,
            -0.014996062890184684,
            null,
            -0.014996062890184684,
            -0.11500010310667894,
            null,
            -0.11500010310667894,
            -0.015019611671018313,
            null
           ]
          },
          {
           "i": [
            0,
            3
           ],
           "j": [
            1,
            4
           ],
           "k": [
            2,
            5
           ],
           "name": "Faces",
           "type": "mesh3d",
           "x": {
            "bdata": "fY9yLL1R4j3Bksz////vP9BPVu6ZLN89663YvPb/zz/axTvjAAD0P6hDxxQBANA/",
            "dtype": "f8"
           },
           "y": {
            "bdata": "JgUi9SIGsD0vqZ/Y8xzuvbGk/f///+8/lAR6TgAA0D+sWhsVAQDQP4a9Kaf///M/",
            "dtype": "f8"
           },
           "z": {
            "bdata": "+Buvf2614L5gliL8JBD5PouyuXiPVYA8fjvhkaVwvb/Qt2cnmsKOvyLydH1Bto6/",
            "dtype": "f8"
           }
          }
         ],
         "layout": {
          "annotations": [
           {
            "showarrow": false,
            "text": "Time: 0.42s (Step: 43/100)",
            "x": 0.05,
            "xref": "paper",
            "y": 0.95,
            "yref": "paper"
           }
          ]
         },
         "name": "42"
        },
        {
         "data": [
          {
           "name": "Free Nodes",
           "type": "scatter3d",
           "x": {
            "bdata": "M9v+RkzZ8D1KsbT////vP+TR5ASbteM9tr0abPT/zz+sAwgcAQD0P/7w/VkBANA/",
            "dtype": "f8"
           },
           "y": {
            "bdata": "dr78PC+VuD11W1//OrXyvXJC/P///+8/LYwWYgAA0D/FDWdaAQDQPy9085D///M/",
            "dtype": "f8"
           },
           "z": {
            "bdata": "tZeEH8ri5L7GECA7LlT/PucrpAGcM4c8LEcQFVS4vr8cNCVtToGUvwXN4AKXeZS/",
            "dtype": "f8"
           }
          },
          {
           "name": "Fixed Nodes",
           "type": "scatter3d",
           "x": [],
           "y": [],
           "z": []
          },
          {
           "name": "Edges",
           "type": "scatter3d",
           "x": [
            0.9999999994520661,
            1.4340473465562935e-10,
            null,
            1.4340473465562935e-10,
            2.451826025154475e-10,
            null,
            2.451826025154475e-10,
            0.9999999994520661,
            null,
            1.2500010580990688,
            0.2500003222301216,
            null,
            0.2500003222301216,
            0.24999861982858612,
            null,
            0.24999861982858612,
            1.2500010580990688,
            null
           ],
           "y": [
            -2.7223623301182137e-10,
            0.9999999999727847,
            null,
            0.9999999999727847,
            2.2357882742845658e-11,
            null,
            2.2357882742845658e-11,
            -2.7223623301182137e-10,
            null,
            0.2500003226125183,
            1.2499995863102062,
            null,
            1.2499995863102062,
            0.25000009135163986,
            null,
            0.25000009135163986,
            0.2500003226125183,
            null
           ],
           "z": [
            0.000029877500942646744,
            4.02483588452701e-17,
            null,
            4.02483588452701e-17,
            -0.00000995917160702049,
            null,
            -0.00000995917160702049,
            0.000029877500942646744,
            null,
            -0.020024514590932893,
            -0.019995078612010015,
            null,
            -0.019995078612010015,
            -0.12000012888190942,
            null,
            -0.12000012888190942,
            -0.020024514590932893,
            null
           ]
          },
          {
           "i": [
            0,
            3
           ],
           "j": [
            1,
            4
           ],
           "k": [
            2,
            5
           ],
           "name": "Faces",
           "type": "mesh3d",
           "x": {
            "bdata": "M9v+RkzZ8D1KsbT////vP+TR5ASbteM9tr0abPT/zz+sAwgcAQD0P/7w/VkBANA/",
            "dtype": "f8"
           },
           "y": {
            "bdata": "dr78PC+VuD11W1//OrXyvXJC/P///+8/LYwWYgAA0D/FDWdaAQDQPy9085D///M/",
            "dtype": "f8"
           },
           "z": {
            "bdata": "tZeEH8ri5L7GECA7LlT/PucrpAGcM4c8LEcQFVS4vr8cNCVtToGUvwXN4AKXeZS/",
            "dtype": "f8"
           }
          }
         ],
         "layout": {
          "annotations": [
           {
            "showarrow": false,
            "text": "Time: 0.43s (Step: 44/100)",
            "x": 0.05,
            "xref": "paper",
            "y": 0.95,
            "yref": "paper"
           }
          ]
         },
         "name": "43"
        },
        {
         "data": [
          {
           "name": "Free Nodes",
           "type": "scatter3d",
           "x": {
            "bdata": "GAwi5Vmy+j1lZ5j////vP07EeeoW7Oc9vcxgG/L/zz9yMdNUAQD0P+XeNp8BANA/",
            "dtype": "f8"
           },
           "y": {
            "bdata": "ATWjyQN7wT0T13omZVD2vcyO+v///+8/+QmydQAA0D9uAbWfAQDQPyfdvHr///M/",
            "dtype": "f8"
           },
           "z": {
            "bdata": "Ol9MvyUQ6b5RVgu9G8wCP3DY8UpbJJA8THgfTAEAwL9VvpnGT6GZv/53BUcNmJm/",
            "dtype": "f8"
           }
          },
          {
           "name": "Fixed Nodes",
           "type": "scatter3d",
           "x": [],
           "y": [],
           "z": []
          },
          {
           "name": "Edges",
           "type": "scatter3d",
           "x": [
            0.9999999992462391,
            1.7405709273005267e-10,
            null,
            1.7405709273005267e-10,
            3.8848788520579484e-10,
            null,
            3.8848788520579484e-10,
            0.9999999992462391,
            null,
            1.2500012696719662,
            0.25000038669848684,
            null,
            0.25000038669848684,
            0.24999834381887878,
            null,
            0.24999834381887878,
            1.2500012696719662,
            null
           ],
           "y": [
            -3.247120684139774e-10,
            0.9999999999604028,
            null,
            0.9999999999604028,
            3.179689255357587e-11,
            null,
            3.179689255357587e-11,
            -3.247120684139774e-10,
            null,
            0.25000038715736295,
            1.2499995035594311,
            null,
            1.2499995035594311,
            0.2500001096124432,
            null,
            0.2500001096124432,
            0.25000038715736295,
            null
           ],
           "z": [
            0.00003585300112766684,
            5.600387520696635e-17,
            null,
            5.600387520696635e-17,
            -0.00001195100592492304,
            null,
            -0.00001195100592492304,
            0.00003585300112766684,
            null,
            -0.02502941751157402,
            -0.024994094333457888,
            null,
            -0.024994094333457888,
            -0.12500015465679082,
            null,
            -0.12500015465679082,
            -0.02502941751157402,
            null
           ]
          },
          {
           "i": [
            0,
            3
           ],
           "j": [
            1,
            4
           ],
           "k": [
            2,
            5
           ],
           "name": "Faces",
           "type": "mesh3d",
           "x": {
            "bdata": "GAwi5Vmy+j1lZ5j////vP07EeeoW7Oc9vcxgG/L/zz9yMdNUAQD0P+XeNp8BANA/",
            "dtype": "f8"
           },
           "y": {
            "bdata": "ATWjyQN7wT0T13omZVD2vcyO+v///+8/+QmydQAA0D9uAbWfAQDQPyfdvHr///M/",
            "dtype": "f8"
           },
           "z": {
            "bdata": "Ol9MvyUQ6b5RVgu9G8wCP3DY8UpbJJA8THgfTAEAwL9VvpnGT6GZv/53BUcNmJm/",
            "dtype": "f8"
           }
          }
         ],
         "layout": {
          "annotations": [
           {
            "showarrow": false,
            "text": "Time: 0.44s (Step: 45/100)",
            "x": 0.05,
            "xref": "paper",
            "y": 0.95,
            "yref": "paper"
           }
          ]
         },
         "name": "44"
        },
        {
         "data": [
          {
           "name": "Free Nodes",
           "type": "scatter3d",
           "x": {
            "bdata": "/+rn+PdZAz4ntXf////vP7aKfr7aOew95naryu//zz+DS52NAQD0Pw3OceQBANA/",
            "dtype": "f8"
           },
           "y": {
            "bdata": "7veCzQyUxz3ObldW69/5vbeJ+P///+8/1LBMiQAA0D9Y9gTlAQDQP4v7hWT///M/",
            "dtype": "f8"
           },
           "z": {
            "bdata": "jyoEX4E97b6HooJcIO4FP+SGWja4BJY8IIK2jdijwL8z9xEgUcGev1/LKIuDtp6/",
            "dtype": "f8"
           }
          },
          {
           "name": "Fixed Nodes",
           "type": "scatter3d",
           "x": [],
           "y": [],
           "z": []
          },
          {
           "name": "Edges",
           "type": "scatter3d",
           "x": [
            0.9999999990083425,
            2.053711361103411e-10,
            null,
            2.053711361103411e-10,
            5.632010290529564e-10,
            null,
            5.632010290529564e-10,
            0.9999999990083425,
            null,
            1.2500014812291915,
            0.2500004511741459,
            null,
            0.2500004511741459,
            0.24999806781754969,
            null,
            0.24999806781754969,
            1.2500014812291915,
            null
           ],
           "y": [
            -3.765262184866323e-10,
            0.9999999999457064,
            null,
            0.9999999999457064,
            4.288871487899888e-11,
            null,
            4.288871487899888e-11,
            -3.765262184866323e-10,
            null,
            0.25000045170950136,
            1.2499994208044167,
            null,
            1.2499994208044167,
            0.250000127870192,
            null,
            0.250000127870192,
            0.25000045170950136,
            null
           ],
           "z": [
            0.000041828501310907594,
            7.639179517056254e-17,
            null,
            7.639179517056254e-17,
            -0.000013942840241050885,
            null,
            -0.000013942840241050885,
            0.000041828501310907594,
            null,
            -0.030034320433052385,
            -0.029993110054600588,
            null,
            -0.029993110054600588,
            -0.13000018043114014,
            null,
            -0.13000018043114014,
            -0.030034320433052385,
            null
           ]
          },
          {
           "i": [
            0,
            3
           ],
           "j": [
            1,
            4
           ],
           "k": [
            2,
            5
           ],
           "name": "Faces",
           "type": "mesh3d",
           "x": {
            "bdata": "/+rn+PdZAz4ntXf////vP7aKfr7aOew95naryu//zz+DS52NAQD0Pw3OceQBANA/",
            "dtype": "f8"
           },
           "y": {
            "bdata": "7veCzQyUxz3ObldW69/5vbeJ+P///+8/1LBMiQAA0D9Y9gTlAQDQP4v7hWT///M/",
            "dtype": "f8"
           },
           "z": {
            "bdata": "jyoEX4E97b6HooJcIO4FP+SGWja4BJY8IIK2jdijwL8z9xEgUcGev1/LKIuDtp6/",
            "dtype": "f8"
           }
          }
         ],
         "layout": {
          "annotations": [
           {
            "showarrow": false,
            "text": "Time: 0.45s (Step: 46/100)",
            "x": 0.05,
            "xref": "paper",
            "y": 0.95,
            "yref": "paper"
           }
          ]
         },
         "name": "45"
        },
        {
         "data": [
          {
           "name": "Free Nodes",
           "type": "scatter3d",
           "x": {
            "bdata": "ZDJCnQhvCj6NmlL////vP5dyPNZxT/A9n6v6ee3/zz9SUmbGAQD0P/bErikCANA/",
            "dtype": "f8"
           },
           "y": {
            "bdata": "ZxuvTbmVzj35rzH5zmP9vTQz9v///+8/xnvmnAAA0D8C81YqAgDQP/nOTk7///M/",
            "dtype": "f8"
           },
           "z": {
            "bdata": "gdhUf2618L56WvX7JBAJPwwXShpmap08ukNNz69Hwb+u6MY8qfChv6Ffped86qG/",
            "dtype": "f8"
           }
          },
          {
           "name": "Fixed Nodes",
           "type": "scatter3d",
           "x": [],
           "y": [],
           "z": []
          },
          {
           "name": "Edges",
           "type": "scatter3d",
           "x": [
            0.999999998738376,
            2.373465506044464e-10,
            null,
            2.373465506044464e-10,
            7.693226563760074e-10,
            null,
            7.693226563760074e-10,
            0.999999998738376,
            null,
            1.2500016927707702,
            0.25000051565719106,
            null,
            0.25000051565719106,
            0.2499977918244811,
            null,
            0.2499977918244811,
            1.2500016927707702,
            null
           ],
           "y": [
            -4.2767899741989345e-10,
            0.9999999999286957,
            null,
            0.9999999999286957,
            5.563353398666458e-11,
            null,
            5.563353398666458e-11,
            -4.2767899741989345e-10,
            null,
            0.25000051626902586,
            1.2499993380451413,
            null,
            1.2499993380451413,
            0.2500001461248157,
            null,
            0.2500001461248157,
            0.25000051626902586,
            null
           ],
           "z": [
            0.0000478040014921148,
            1.0205593475676028e-16,
            null,
            1.0205593475676028e-16,
            -0.000015934674555150456,
            null,
            -0.000015934674555150456,
            0.0000478040014921148,
            null,
            -0.03503922335535613,
            -0.0349921257754311,
            null,
            -0.0349921257754311,
            -0.13500020620497627,
            null,
            -0.13500020620497627,
            -0.03503922335535613,
            null
           ]
          },
          {
           "i": [
            0,
            3
           ],
           "j": [
            1,
            4
           ],
           "k": [
            2,
            5
           ],
           "name": "Faces",
           "type": "mesh3d",
           "x": {
            "bdata": "ZDJCnQhvCj6NmlL////vP5dyPNZxT/A9n6v6ee3/zz9SUmbGAQD0P/bErikCANA/",
            "dtype": "f8"
           },
           "y": {
            "bdata": "ZxuvTbmVzj35rzH5zmP9vTQz9v///+8/xnvmnAAA0D8C81YqAgDQP/nOTk7///M/",
            "dtype": "f8"
           },
           "z": {
            "bdata": "gdhUf2618L56WvX7JBAJPwwXShpmap08ukNNz69Hwb+u6MY8qfChv6Ffped86qG/",
            "dtype": "f8"
           }
          }
         ],
         "layout": {
          "annotations": [
           {
            "showarrow": false,
            "text": "Time: 0.46s (Step: 47/100)",
            "x": 0.05,
            "xref": "paper",
            "y": 0.95,
            "yref": "paper"
           }
          ]
         },
         "name": "46"
        },
        {
         "data": [
          {
           "name": "Free Nodes",
           "type": "scatter3d",
           "x": {
            "bdata": "GyKdoS9MET6YFyn////vPxSvbpmXjfI99mhOKev/zz/lRS7/AQD0P3/E7W4CANA/",
            "dtype": "f8"
           },
           "y": {
            "bdata": "SZ/GxgdA0z1hYeenCG4AvkSL8////+8/AWp/sAAA0D9M+KpvAgDQP21XFzj///M/",
            "dtype": "f8"
           },
           "z": {
            "bdata": "91QdTxzM8r6i62KbKTIMP4p8/MlcQqM8d73jEIfrwb+UpYbpqYCkvzSptQm4eaS/",
            "dtype": "f8"
           }
          },
          {
           "name": "Fixed Nodes",
           "type": "scatter3d",
           "x": [],
           "y": [],
           "z": []
          },
          {
           "name": "Edges",
           "type": "scatter3d",
           "x": [
            0.9999999984363397,
            2.699830579866785e-10,
            null,
            2.699830579866785e-10,
            1.006852939958869e-9,
            null,
            1.006852939958869e-9,
            0.9999999984363397,
            null,
            1.2500019042967037,
            0.25000058014763477,
            null,
            0.25000058014763477,
            0.24999751583965918,
            null,
            0.24999751583965918,
            1.2500019042967037,
            null
           ],
           "y": [
            -4.781706834375108e-10,
            0.9999999999093707,
            null,
            0.9999999999093707,
            7.003152371721968e-11,
            null,
            7.003152371721968e-11,
            -4.781706834375108e-10,
            null,
            0.2500005808359489,
            1.249999255281604,
            null,
            1.249999255281604,
            0.25000016437630285,
            null,
            0.25000016437630285,
            0.2500005808359489,
            null
           ],
           "z": [
            0.000053779501671034265,
            1.3363774217729732e-16,
            null,
            1.3363774217729732e-16,
            -0.000017926508866968204,
            null,
            -0.000017926508866968204,
            0.000053779501671034265,
            null,
            -0.04004412627848378,
            -0.03999114149594832,
            null,
            -0.03999114149594832,
            -0.14000023197830178,
            null,
            -0.14000023197830178,
            -0.04004412627848378,
            null
           ]
          },
          {
           "i": [
            0,
            3
           ],
           "j": [
            1,
            4
           ],
           "k": [
            2,
            5
           ],
           "name": "Faces",
           "type": "mesh3d",
           "x": {
            "bdata": "GyKdoS9MET6YFyn////vPxSvbpmXjfI99mhOKev/zz/lRS7/AQD0P3/E7W4CANA/",
            "dtype": "f8"
           },
           "y": {
            "bdata": "SZ/GxgdA0z1hYeenCG4AvkSL8////+8/AWp/sAAA0D9M+KpvAgDQP21XFzj///M/",
            "dtype": "f8"
           },
           "z": {
            "bdata": "91QdTxzM8r6i62KbKTIMP4p8/MlcQqM8d73jEIfrwb+UpYbpqYCkvzSptQm4eaS/",
            "dtype": "f8"
           }
          }
         ],
         "layout": {
          "annotations": [
           {
            "showarrow": false,
            "text": "Time: 0.47s (Step: 48/100)",
            "x": 0.05,
            "xref": "paper",
            "y": 0.95,
            "yref": "paper"
           }
          ]
         },
         "name": "47"
        },
        {
         "data": [
          {
           "name": "Free Nodes",
           "type": "scatter3d",
           "x": {
            "bdata": "pJwM3v3qFT5ILPv+///vP1pv6HVf1/Q9CK+m2Oj/zz88JvU3AgD0P5rMLrQCANA/",
            "dtype": "f8"
           },
           "y": {
            "bdata": "WFOVVISp1z3wz43GWCQCvueR8P///+8/mnsXxAAA0D8nBgG1AgDQP+WU3yH///M/",
            "dtype": "f8"
           },
           "z": {
            "bdata": "XmbaHsri9L52w8o6LlQPP7yMNMWjwqg8Uu95Ul6Pwr9LMkiWqhCnv39CxSvzCKe/",
            "dtype": "f8"
           }
          },
          {
           "name": "Fixed Nodes",
           "type": "scatter3d",
           "x": [],
           "y": [],
           "z": []
          },
          {
           "name": "Edges",
           "type": "scatter3d",
           "x": [
            0.9999999981022336,
            3.032808361287223e-10,
            null,
            3.032808361287223e-10,
            1.2757917987648621e-9,
            null,
            1.2757917987648621e-9,
            0.9999999981022336,
            null,
            1.2500021158069918,
            0.2500006446454762,
            null,
            0.2500006446454762,
            0.24999723986308475,
            null,
            0.24999723986308475,
            1.2500021158069918,
            null
           ],
           "y": [
            -5.280010986658571e-10,
            0.9999999998877315,
            null,
            0.9999999998877315,
            8.608249282302123e-11,
            null,
            8.608249282302123e-11,
            -5.280010986658571e-10,
            null,
            0.2500006454102696,
            1.2499991725138042,
            null,
            1.2499991725138042,
            0.2500001826246546,
            null,
            0.2500001826246546,
            0.2500006454102696,
            null
           ],
           "z": [
            0.00005975500184741179,
            1.718091740888175e-16,
            null,
            1.718091740888175e-16,
            -0.000019918343176250602,
            null,
            -0.000019918343176250602,
            0.00005975500184741179,
            null,
            -0.04504902920243533,
            -0.0449901572161524,
            null,
            -0.0449901572161524,
            -0.14500025775111652,
            null,
            -0.14500025775111652,
            -0.04504902920243533,
            null
           ]
          },
          {
           "i": [
            0,
            3
           ],
           "j": [
            1,
            4
           ],
           "k": [
            2,
            5
           ],
           "name": "Faces",
           "type": "mesh3d",
           "x": {
            "bdata": "pJwM3v3qFT5ILPv+///vP1pv6HVf1/Q9CK+m2Oj/zz88JvU3AgD0P5rMLrQCANA/",
            "dtype": "f8"
           },
           "y": {
            "bdata": "WFOVVISp1z3wz43GWCQCvueR8P///+8/mnsXxAAA0D8nBgG1AgDQP+WU3yH///M/",
            "dtype": "f8"
           },
           "z": {
            "bdata": "XmbaHsri9L52w8o6LlQPP7yMNMWjwqg8Uu95Ul6Pwr9LMkiWqhCnv39CxSvzCKe/",
            "dtype": "f8"
           }
          }
         ],
         "layout": {
          "annotations": [
           {
            "showarrow": false,
            "text": "Time: 0.48s (Step: 49/100)",
            "x": 0.05,
            "xref": "paper",
            "y": 0.95,
            "yref": "paper"
           }
          ]
         },
         "name": "48"
        },
        {
         "data": [
          {
           "name": "Free Nodes",
           "type": "scatter3d",
           "x": {
            "bdata": "M+Y6Me8TGz6c2Mj+///vPypq0dvILPc9130DiOb/zz9Y87pwAgD0P0PdcfkCANA/",
            "dtype": "f8"
           },
           "y": {
            "bdata": "p69wo1aH3D3w/ncg2NQDvhxH7f///+8/jLCu1wAA0D+PHFn6AgDQP2OHpwv///M/",
            "dtype": "f8"
           },
           "z": {
            "bdata": "YeiK7nf59r62JxZtGTsRP0bZJJXYTa88TdkPlDUzw7/IjgtDq6Cpv4Ur1E0umKm/",
            "dtype": "f8"
           }
          },
          {
           "name": "Fixed Nodes",
           "type": "scatter3d",
           "x": [],
           "y": [],
           "z": []
          },
          {
           "name": "Edges",
           "type": "scatter3d",
           "x": [
            0.9999999977360576,
            3.372397602650434e-10,
            null,
            3.372397602650434e-10,
            1.5761393899404836e-9,
            null,
            1.5761393899404836e-9,
            0.9999999977360576,
            null,
            1.250002327301635,
            0.2500007091507152,
            null,
            0.2500007091507152,
            0.24999696389475787,
            null,
            0.24999696389475787,
            1.250002327301635,
            null
           ],
           "y": [
            -5.771703678685253e-10,
            0.9999999998637779,
            null,
            0.9999999998637779,
            1.0378668138456582e-10,
            null,
            1.0378668138456582e-10,
            -5.771703678685253e-10,
            null,
            0.2500007099919878,
            1.2499990897417426,
            null,
            1.2499990897417426,
            0.25000020086987074,
            null,
            0.25000020086987074,
            0.2500007099919878,
            null
           ],
           "z": [
            0.00006573050202099317,
            2.172157317772225e-16,
            null,
            2.172157317772225e-16,
            -0.000021910177482744093,
            null,
            -0.000021910177482744093,
            0.00006573050202099317,
            null,
            -0.05005393212721071,
            -0.04998917293604336,
            null,
            -0.04998917293604336,
            -0.15000028352342057,
            null,
            -0.15000028352342057,
            -0.05005393212721071,
            null
           ]
          },
          {
           "i": [
            0,
            3
           ],
           "j": [
            1,
            4
           ],
           "k": [
            2,
            5
           ],
           "name": "Faces",
           "type": "mesh3d",
           "x": {
            "bdata": "M+Y6Me8TGz6c2Mj+///vPypq0dvILPc9130DiOb/zz9Y87pwAgD0P0PdcfkCANA/",
            "dtype": "f8"
           },
           "y": {
            "bdata": "p69wo1aH3D3w/ncg2NQDvhxH7f///+8/jLCu1wAA0D+PHFn6AgDQP2OHpwv///M/",
            "dtype": "f8"
           },
           "z": {
            "bdata": "YeiK7nf59r62JxZtGTsRP0bZJJXYTa88TdkPlDUzw7/IjgtDq6Cpv4Ur1E0umKm/",
            "dtype": "f8"
           }
          }
         ],
         "layout": {
          "annotations": [
           {
            "showarrow": false,
            "text": "Time: 0.49s (Step: 50/100)",
            "x": 0.05,
            "xref": "paper",
            "y": 0.95,
            "yref": "paper"
           }
          ]
         },
         "name": "49"
        },
        {
         "data": [
          {
           "name": "Free Nodes",
           "type": "scatter3d",
           "x": {
            "bdata": "0bhqmIFjID6WHJL+///vP+alGXrUjfk9adVkN+T/zz83rX+pAgD0P372tj4DANA/",
            "dtype": "f8"
           },
           "y": {
            "bdata": "ByShlb3s4D3coS1ehn8FvuOq6f///+8/2AhF6wAA0D+IO7M/AwDQP+Yub/X+//M/",
            "dtype": "f8"
           },
           "z": {
            "bdata": "vbYtviUQ+b6AfsO8G8wSP5hiWjRpfrM8aXul1QzXw78Cu9DvqzCsv0xk4m9pJ6y/",
            "dtype": "f8"
           }
          },
          {
           "name": "Fixed Nodes",
           "type": "scatter3d",
           "x": [],
           "y": [],
           "z": []
          },
          {
           "name": "Edges",
           "type": "scatter3d",
           "x": [
            0.999999997337812,
            3.718599821298203e-10,
            null,
            3.718599821298203e-10,
            1.907895344605577e-9,
            null,
            1.907895344605577e-9,
            0.999999997337812,
            null,
            1.2500025387806326,
            0.25000077366335194,
            null,
            0.25000077366335194,
            0.2499966879346787,
            null,
            0.2499966879346787,
            1.2500025387806326,
            null
           ],
           "y": [
            -6.256783393093959e-10,
            0.9999999998375099,
            null,
            0.9999999998375099,
            1.2314389335910807e-10,
            null,
            1.2314389335910807e-10,
            -6.256783393093959e-10,
            null,
            0.2500007745811037,
            1.2499990069654188,
            null,
            1.2499990069654188,
            0.25000021911195125,
            null,
            0.25000021911195125,
            0.2500007745811037,
            null
           ],
           "z": [
            0.00007170600219152425,
            2.7053071995544075e-16,
            null,
            2.7053071995544075e-16,
            -0.00002390201178619518,
            null,
            -0.00002390201178619518,
            0.00007170600219152425,
            null,
            -0.055058835052809854,
            -0.054988188655621245,
            null,
            -0.054988188655621245,
            -0.15500030929521394,
            null,
            -0.15500030929521394,
            -0.055058835052809854,
            null
           ]
          },
          {
           "i": [
            0,
            3
           ],
           "j": [
            1,
            4
           ],
           "k": [
            2,
            5
           ],
           "name": "Faces",
           "type": "mesh3d",
           "x": {
            "bdata": "0bhqmIFjID6WHJL+///vP+alGXrUjfk9adVkN+T/zz83rX+pAgD0P372tj4DANA/",
            "dtype": "f8"
           },
           "y": {
            "bdata": "ByShlb3s4D3coS1ehn8FvuOq6f///+8/2AhF6wAA0D+IO7M/AwDQP+Yub/X+//M/",
            "dtype": "f8"
           },
           "z": {
            "bdata": "vbYtviUQ+b6AfsO8G8wSP5hiWjRpfrM8aXul1QzXw78Cu9DvqzCsv0xk4m9pJ6y/",
            "dtype": "f8"
           }
          }
         ],
         "layout": {
          "annotations": [
           {
            "showarrow": false,
            "text": "Time: 0.50s (Step: 51/100)",
            "x": 0.05,
            "xref": "paper",
            "y": 0.95,
            "yref": "paper"
           }
          ]
         },
         "name": "50"
        },
        {
         "data": [
          {
           "name": "Free Nodes",
           "type": "scatter3d",
           "x": {
            "bdata": "uHakLR2CIz4z+Fb+///vP9RdLMaB+vs9t7XK5uH/zz/bU0PiAgD0P0cY/oMDANA/",
            "dtype": "f8"
           },
           "y": {
            "bdata": "MdwJn/jP4z210fjEYyQHvj695f///+8/goTa/gAA0D8OYw+FAwDQP26LNt/+//M/",
            "dtype": "f8"
           },
           "z": {
            "bdata": "F63BjdMm+77SHG0MHl0UP487ElrJ87c8p9U6F+R6xL/qtpecrMCuv93s75Gktq6/",
            "dtype": "f8"
           }
          },
          {
           "name": "Fixed Nodes",
           "type": "scatter3d",
           "x": [],
           "y": [],
           "z": []
          },
          {
           "name": "Edges",
           "type": "scatter3d",
           "x": [
            0.9999999969074963,
            4.0714138152308606e-10,
            null,
            4.0714138152308606e-10,
            2.271060101383369e-9,
            null,
            2.271060101383369e-9,
            0.9999999969074963,
            null,
            1.2500027502439852,
            0.2500008381833862,
            null,
            0.2500008381833862,
            0.24999641198284703,
            null,
            0.24999641198284703,
            1.2500027502439852,
            null
           ],
           "y": [
            -6.735251331864941e-10,
            0.9999999998089277,
            null,
            0.9999999998089277,
            1.441540910245513e-10,
            null,
            1.441540910245513e-10,
            -6.735251331864941e-10,
            null,
            0.25000083917761706,
            1.2499989241848328,
            null,
            1.2499989241848328,
            0.2500002373508964,
            null,
            0.2500002373508964,
            0.25000083917761706,
            null
           ],
           "z": [
            0.00007768150235875078,
            3.324048138861989e-16,
            null,
            3.324048138861989e-16,
            -0.000025893846086350288,
            null,
            -0.000025893846086350288,
            0.00007768150235875078,
            null,
            -0.06006373797923266,
            -0.05998720437488612,
            null,
            -0.05998720437488612,
            -0.16000033506649666,
            null,
            -0.16000033506649666,
            -0.06006373797923266,
            null
           ]
          },
          {
           "i": [
            0,
            3
           ],
           "j": [
            1,
            4
           ],
           "k": [
            2,
            5
           ],
           "name": "Faces",
           "type": "mesh3d",
           "x": {
            "bdata": "uHakLR2CIz4z+Fb+///vP9RdLMaB+vs9t7XK5uH/zz/bU0PiAgD0P0cY/oMDANA/",
            "dtype": "f8"
           },
           "y": {
            "bdata": "MdwJn/jP4z210fjEYyQHvj695f///+8/goTa/gAA0D8OYw+FAwDQP26LNt/+//M/",
            "dtype": "f8"
           },
           "z": {
            "bdata": "F63BjdMm+77SHG0MHl0UP487ElrJ87c8p9U6F+R6xL/qtpecrMCuv93s75Gktq6/",
            "dtype": "f8"
           }
          }
         ],
         "layout": {
          "annotations": [
           {
            "showarrow": false,
            "text": "Time: 0.51s (Step: 52/100)",
            "x": 0.05,
            "xref": "paper",
            "y": 0.95,
            "yref": "paper"
           }
          ]
         },
         "name": "51"
        },
        {
         "data": [
          {
           "name": "Free Nodes",
           "type": "scatter3d",
           "x": {
            "bdata": "kSrmGcrlJj52axf+///vP3vEikHRcv49yx41lt//zz9C5wUbAwD0P6BCR8kDANA/",
            "dtype": "f8"
           },
           "y": {
            "bdata": "9rvle17t5j3pqxgUcMMIvip+4f///+8/hiNvEgEA0D8jk23KAwDQP/yc/cj+//M/",
            "dtype": "f8"
           },
           "z": {
            "bdata": "LadFXYE9/b5ruRJcIO4VPwwTaz5AE708COjPWLsexb88QbCkVqiwv51i/tnvorC/",
            "dtype": "f8"
           }
          },
          {
           "name": "Fixed Nodes",
           "type": "scatter3d",
           "x": [],
           "y": [],
           "z": []
          },
          {
           "name": "Edges",
           "type": "scatter3d",
           "x": [
            0.999999996445111,
            4.4308407077224255e-10,
            null,
            4.4308407077224255e-10,
            2.665633227338142e-9,
            null,
            2.665633227338142e-9,
            0.999999996445111,
            null,
            1.2500029616916923,
            0.2500009027108181,
            null,
            0.2500009027108181,
            0.24999613603926316,
            null,
            0.24999613603926316,
            1.2500029616916923,
            null
           ],
           "y": [
            -7.207106371704775e-10,
            0.9999999997780311,
            null,
            0.9999999997780311,
            1.668175024754044e-10,
            null,
            1.668175024754044e-10,
            -7.207106371704775e-10,
            null,
            0.250000903781528,
            1.249998841399985,
            null,
            1.249998841399985,
            0.2500002555867059,
            null,
            0.2500002555867059,
            0.250000903781528,
            null
           ],
           "z": [
            0.00008365700252241862,
            4.0349944264881057e-16,
            null,
            4.0349944264881057e-16,
            -0.00002788568038295592,
            null,
            -0.00002788568038295592,
            0.00008365700252241862,
            null,
            -0.06506864090647907,
            -0.06498622009383799,
            null,
            -0.06498622009383799,
            -0.16500036083726877,
            null,
            -0.16500036083726877,
            -0.06506864090647907,
            null
           ]
          },
          {
           "i": [
            0,
            3
           ],
           "j": [
            1,
            4
           ],
           "k": [
            2,
            5
           ],
           "name": "Faces",
           "type": "mesh3d",
           "x": {
            "bdata": "kSrmGcrlJj52axf+///vP3vEikHRcv49yx41lt//zz9C5wUbAwD0P6BCR8kDANA/",
            "dtype": "f8"
           },
           "y": {
            "bdata": "9rvle17t5j3pqxgUcMMIvip+4f///+8/hiNvEgEA0D8jk23KAwDQP/yc/cj+//M/",
            "dtype": "f8"
           },
           "z": {
            "bdata": "LadFXYE9/b5ruRJcIO4VPwwTaz5AE708COjPWLsexb88QbCkVqiwv51i/tnvorC/",
            "dtype": "f8"
           }
          }
         ],
         "layout": {
          "annotations": [
           {
            "showarrow": false,
            "text": "Time: 0.52s (Step: 53/100)",
            "x": 0.05,
            "xref": "paper",
            "y": 0.95,
            "yref": "paper"
           }
          ]
         },
         "name": "52"
        },
        {
         "data": [
          {
           "name": "Free Nodes",
           "type": "scatter3d",
           "x": {
            "bdata": "KcsmjIiOKj5ddtP9///vP9Y75DZhewA+lhCkRd3/zz9uZ8dTAwD0P4p1kg4EANA/",
            "dtype": "f8"
           },
           "y": {
            "bdata": "iQOiJu5E6j00GMOKq1wKvqnt3P///+8/5eUCJgEA0D/Iy80PBADQP49jxLL+//M/",
            "dtype": "f8"
           },
           "z": {
            "bdata": "poC4LC9U/74EC7SrIn8XP2bkZNVqdME8j7JkmpLCxb/NjhX7VvCxv7V2BGuN6rG/",
            "dtype": "f8"
           }
          },
          {
           "name": "Fixed Nodes",
           "type": "scatter3d",
           "x": [],
           "y": [],
           "z": []
          },
          {
           "name": "Edges",
           "type": "scatter3d",
           "x": [
            0.9999999959506557,
            4.796879402224931e-10,
            null,
            4.796879402224931e-10,
            3.0916150483529905e-9,
            null,
            3.0916150483529905e-9,
            0.9999999959506557,
            null,
            1.2500031731237544,
            0.2500009672456477,
            null,
            0.2500009672456477,
            0.24999586010392666,
            null,
            0.24999586010392666,
            1.2500031731237544,
            null
           ],
           "y": [
            -7.672349609142011e-10,
            0.9999999997448202,
            null,
            0.9999999997448202,
            1.9113401427235772e-10,
            null,
            1.9113401427235772e-10,
            -7.672349609142011e-10,
            null,
            0.2500009683928366,
            1.249998758610875,
            null,
            1.249998758610875,
            0.2500002738193799,
            null,
            0.2500002738193799,
            0.2500009683928366,
            null
           ],
           "z": [
            0.00008963250268227354,
            4.844667764436692e-16,
            null,
            4.844667764436692e-16,
            -0.000029877514675758506,
            null,
            -0.000029877514675758506,
            0.00008963250268227354,
            null,
            -0.07007354383454896,
            -0.06998523581247691,
            null,
            -0.06998523581247691,
            -0.17000038660753033,
            null,
            -0.17000038660753033,
            -0.07007354383454896,
            null
           ]
          },
          {
           "i": [
            0,
            3
           ],
           "j": [
            1,
            4
           ],
           "k": [
            2,
            5
           ],
           "name": "Faces",
           "type": "mesh3d",
           "x": {
            "bdata": "KcsmjIiOKj5ddtP9///vP9Y75DZhewA+lhCkRd3/zz9uZ8dTAwD0P4p1kg4EANA/",
            "dtype": "f8"
           },
           "y": {
            "bdata": "iQOiJu5E6j00GMOKq1wKvqnt3P///+8/5eUCJgEA0D/Iy80PBADQP49jxLL+//M/",
            "dtype": "f8"
           },
           "z": {
            "bdata": "poC4LC9U/74EC7SrIn8XP2bkZNVqdME8j7JkmpLCxb/NjhX7VvCxv7V2BGuN6rG/",
            "dtype": "f8"
           }
          }
         ],
         "layout": {
          "annotations": [
           {
            "showarrow": false,
            "text": "Time: 0.53s (Step: 54/100)",
            "x": 0.05,
            "xref": "paper",
            "y": 0.95,
            "yref": "paper"
           }
          ]
         },
         "name": "53"
        },
        {
         "data": [
          {
           "name": "Free Nodes",
           "type": "scatter3d",
           "x": {
            "bdata": "18QKelh8Lj7oGIv9///vP46FrfcqwwE+JosX9dr/zz9d1IeMAwD0PwWx31MEANA/",
            "dtype": "f8"
           },
           "y": {
            "bdata": "Bn0K+abW7T1eA73WFfALvroL2P///+8/ocuVOQEA0D/9DDBVBADQPyffipz+//M/",
            "dtype": "f8"
           },
           "z": {
            "bdata": "nIoMfm61AL9ZyFD7JBAZP6VmX4V8wMQ8PDX522lmxr8lxHtRVzizv7oyCvwqMrO/",
            "dtype": "f8"
           }
          },
          {
           "name": "Fixed Nodes",
           "type": "scatter3d",
           "x": [],
           "y": [],
           "z": []
          },
          {
           "name": "Edges",
           "type": "scatter3d",
           "x": [
            0.9999999954241305,
            5.169531325195291e-10,
            null,
            5.169531325195291e-10,
            3.5490054925567813e-9,
            null,
            3.5490054925567813e-9,
            0.9999999954241305,
            null,
            1.250003384540171,
            0.25000103178787497,
            null,
            0.25000103178787497,
            0.24999558417683793,
            null,
            0.24999558417683793,
            1.250003384540171,
            null
           ],
           "y": [
            -8.130979617700315e-10,
            0.999999999709295,
            null,
            0.999999999709295,
            2.1710355433593896e-10,
            null,
            2.1710355433593896e-10,
            -8.130979617700315e-10,
            null,
            0.2500010330115428,
            1.2499986758175028,
            null,
            1.2499986758175028,
            0.25000029204891844,
            null,
            0.25000029204891844,
            0.2500010330115428,
            null
           ],
           "z": [
            0.00009560800283806135,
            5.759809307135869e-16,
            null,
            5.759809307135869e-16,
            -0.000031869348964504526,
            null,
            -0.000031869348964504526,
            0.00009560800283806135,
            null,
            -0.07507844676344229,
            -0.07498425153080293,
            null,
            -0.07498425153080293,
            -0.17500041237728137,
            null,
            -0.17500041237728137,
            -0.07507844676344229,
            null
           ]
          },
          {
           "i": [
            0,
            3
           ],
           "j": [
            1,
            4
           ],
           "k": [
            2,
            5
           ],
           "name": "Faces",
           "type": "mesh3d",
           "x": {
            "bdata": "18QKelh8Lj7oGIv9///vP46FrfcqwwE+JosX9dr/zz9d1IeMAwD0PwWx31MEANA/",
            "dtype": "f8"
           },
           "y": {
            "bdata": "Bn0K+abW7T1eA73WFfALvroL2P///+8/ocuVOQEA0D/9DDBVBADQPyffipz+//M/",
            "dtype": "f8"
           },
           "z": {
            "bdata": "nIoMfm61AL9ZyFD7JBAZP6VmX4V8wMQ8PDX522lmxr8lxHtRVzizv7oyCvwqMrO/",
            "dtype": "f8"
           }
          }
         ],
         "layout": {
          "annotations": [
           {
            "showarrow": false,
            "text": "Time: 0.54s (Step: 55/100)",
            "x": 0.05,
            "xref": "paper",
            "y": 0.95,
            "yref": "paper"
           }
          ]
         },
         "name": "54"
        },
        {
         "data": [
          {
           "name": "Free Nodes",
           "type": "scatter3d",
           "x": {
            "bdata": "JIpp7JxXMT4ZUz79///vP6pJG3TFEAM+do6PpNj/zz8QLkfFAwD0PxH1LpkEANA/",
            "dtype": "f8"
           },
           "y": {
            "bdata": "zt5UAkXR8D3ZGQxnr30Nvl7Y0v///+8/uNQnTQEA0D/CVpSaBADQP8QPUYb+//M/",
            "dtype": "f8"
           },
           "z": {
            "bdata": "SyCzZcXAAb8oqOhKJ6EaPwJ6oPCxc8g8EnCNHUEKx7884eKnV4C0v66WD43IebS/",
            "dtype": "f8"
           }
          },
          {
           "name": "Fixed Nodes",
           "type": "scatter3d",
           "x": [],
           "y": [],
           "z": []
          },
          {
           "name": "Edges",
           "type": "scatter3d",
           "x": [
            0.9999999948655357,
            5.548794550686589e-10,
            null,
            5.548794550686589e-10,
            4.037804485383158e-9,
            null,
            4.037804485383158e-9,
            0.9999999948655357,
            null,
            1.2500035959409423,
            0.25000109633749995,
            null,
            0.25000109633749995,
            0.24999530825799682,
            null,
            0.24999530825799682,
            1.2500035959409423,
            null
           ],
           "y": [
            -8.582998323307205e-10,
            0.9999999996714555,
            null,
            0.9999999996714555,
            2.4472624129579367e-10,
            null,
            2.4472624129579367e-10,
            -8.582998323307205e-10,
            null,
            0.25000109763764666,
            1.2499985930198685,
            null,
            1.2499985930198685,
            0.25000031027532144,
            null,
            0.25000031027532144,
            0.25000109763764666,
            null
           ],
           "z": [
            0.00010158350298952788,
            6.786775002582589e-16,
            null,
            6.786775002582589e-16,
            -0.00003386118324894045,
            null,
            -0.00003386118324894045,
            0.00010158350298952788,
            null,
            -0.08008334969315895,
            -0.07998326724881608,
            null,
            -0.07998326724881608,
            -0.18000043814652195,
            null,
            -0.18000043814652195,
            -0.08008334969315895,
            null
           ]
          },
          {
           "i": [
            0,
            3
           ],
           "j": [
            1,
            4
           ],
           "k": [
            2,
            5
           ],
           "name": "Faces",
           "type": "mesh3d",
           "x": {
            "bdata": "JIpp7JxXMT4ZUz79///vP6pJG3TFEAM+do6PpNj/zz8QLkfFAwD0PxH1LpkEANA/",
            "dtype": "f8"
           },
           "y": {
            "bdata": "zt5UAkXR8D3ZGQxnr30Nvl7Y0v///+8/uNQnTQEA0D/CVpSaBADQP8QPUYb+//M/",
            "dtype": "f8"
           },
           "z": {
            "bdata": "SyCzZcXAAb8oqOhKJ6EaPwJ6oPCxc8g8EnCNHUEKx7884eKnV4C0v66WD43IebS/",
            "dtype": "f8"
           }
          }
         ],
         "layout": {
          "annotations": [
           {
            "showarrow": false,
            "text": "Time: 0.55s (Step: 56/100)",
            "x": 0.05,
            "xref": "paper",
            "y": 0.95,
            "yref": "paper"
           }
          ]
         },
         "name": "55"
        },
        {
         "data": [
          {
           "name": "Free Nodes",
           "type": "scatter3d",
           "x": {
            "bdata": "qNsEWJaTMz7uJO38///vP4qnpAgxZAQ+hRoMVNb/zz+HdAX+AwD0P6xBgN4EANA/",
            "dtype": "f8"
           },
           "y": {
            "bdata": "PZpZ60rU8j3e8jjfdwUPvpVTzf///+8/KgG5YAEA0D8VqfrfBADQP2f1FnD+//M/",
            "dtype": "f8"
           },
           "z": {
            "bdata": "OG9PTRzMAr8rYXuaKTIcP81I1JlSlMw8EmMhXxiux78M5kr+V8i1v5SiFB5mwbW/",
            "dtype": "f8"
           }
          },
          {
           "name": "Fixed Nodes",
           "type": "scatter3d",
           "x": [],
           "y": [],
           "z": []
          },
          {
           "name": "Edges",
           "type": "scatter3d",
           "x": [
            0.999999994274871,
            5.934670682716481e-10,
            null,
            5.934670682716481e-10,
            4.558012079144645e-9,
            null,
            4.558012079144645e-9,
            0.999999994274871,
            null,
            1.2500038073260684,
            0.2500011608945225,
            null,
            0.2500011608945225,
            0.2499950323474033,
            null,
            0.2499950323474033,
            1.2500038073260684,
            null
           ],
           "y": [
            -9.028404121925596e-10,
            0.9999999996313017,
            null,
            0.9999999996313017,
            2.7400191434345257e-10,
            null,
            2.7400191434345257e-10,
            -9.028404121925596e-10,
            null,
            0.25000116227114805,
            1.2499985102179723,
            null,
            1.2499985102179723,
            0.2500003284985889,
            null,
            0.2500003284985889,
            0.25000116227114805,
            null
           ],
           "z": [
            0.00010755900313641892,
            7.932372922303556e-16,
            null,
            7.932372922303556e-16,
            -0.000035853017528812735,
            null,
            -0.000035853017528812735,
            0.00010755900313641892,
            null,
            -0.08508825262369885,
            -0.08498228296651639,
            null,
            -0.08498228296651639,
            -0.1850004639152521,
            null,
            -0.1850004639152521,
            -0.08508825262369885,
            null
           ]
          },
          {
           "i": [
            0,
            3
           ],
           "j": [
            1,
            4
           ],
           "k": [
            2,
            5
           ],
           "name": "Faces",
           "type": "mesh3d",
           "x": {
            "bdata": "qNsEWJaTMz7uJO38///vP4qnpAgxZAQ+hRoMVNb/zz+HdAX+AwD0P6xBgN4EANA/",
            "dtype": "f8"
           },
           "y": {
            "bdata": "PZpZ60rU8j3e8jjfdwUPvpVTzf///+8/KgG5YAEA0D8VqfrfBADQP2f1FnD+//M/",
            "dtype": "f8"
           },
           "z": {
            "bdata": "OG9PTRzMAr8rYXuaKTIcP81I1JlSlMw8EmMhXxiux78M5kr+V8i1v5SiFB5mwbW/",
            "dtype": "f8"
           }
          }
         ],
         "layout": {
          "annotations": [
           {
            "showarrow": false,
            "text": "Time: 0.56s (Step: 57/100)",
            "x": 0.05,
            "xref": "paper",
            "y": 0.95,
            "yref": "paper"
           }
          ]
         },
         "name": "56"
        },
        {
         "data": [
          {
           "name": "Free Nodes",
           "type": "scatter3d",
           "x": {
            "bdata": "/rmxfxjyNT5ojpf8///vP8pyOnptvQU+Ti+NA9T/zz/Cp8I2BAD0P9mW0yMFANA/",
            "dtype": "f8"
           },
           "y": {
            "bdata": "dWuxOWb09D3GOCm9t0MQvl59x////+8/+VBJdAEA0D/5A2MlBQDQPw+Q3Fn+//M/",
            "dtype": "f8"
           },
           "z": {
            "bdata": "O+XgNHPXA78eqgjqK8MdP5qiSpshlNA8Pg61oO9RyL+O0rNUWBC3v3BWGa8DCbe/",
            "dtype": "f8"
           }
          },
          {
           "name": "Fixed Nodes",
           "type": "scatter3d",
           "x": [],
           "y": [],
           "z": []
          },
          {
           "name": "Edges",
           "type": "scatter3d",
           "x": [
            0.9999999936521364,
            6.327158696769927e-10,
            null,
            6.327158696769927e-10,
            5.109628271802228e-9,
            null,
            5.109628271802228e-9,
            0.9999999936521364,
            null,
            1.2500040186955492,
            0.2500012254589428,
            null,
            0.2500012254589428,
            0.24999475644505725,
            null,
            0.24999475644505725,
            1.2500040186955492,
            null
           ],
           "y": [
            -9.467198038051133e-10,
            0.9999999995888336,
            null,
            0.9999999995888336,
            3.049307973598171e-10,
            null,
            3.049307973598171e-10,
            -9.467198038051133e-10,
            null,
            0.2500012269120471,
            1.2499984274118139,
            null,
            1.2499984274118139,
            0.2500003467187209,
            null,
            0.2500003467187209,
            0.2500012269120471,
            null
           ],
           "z": [
            0.00011353450327848027,
            9.202992699095722e-16,
            null,
            9.202992699095722e-16,
            -0.000037844851803867843,
            null,
            -0.000037844851803867843,
            0.00011353450327848027,
            null,
            -0.0900931555550619,
            -0.08998129868390392,
            null,
            -0.08998129868390392,
            -0.19000048968347188,
            null,
            -0.19000048968347188,
            -0.0900931555550619,
            null
           ]
          },
          {
           "i": [
            0,
            3
           ],
           "j": [
            1,
            4
           ],
           "k": [
            2,
            5
           ],
           "name": "Faces",
           "type": "mesh3d",
           "x": {
            "bdata": "/rmxfxjyNT5ojpf8///vP8pyOnptvQU+Ti+NA9T/zz/Cp8I2BAD0P9mW0yMFANA/",
            "dtype": "f8"
           },
           "y": {
            "bdata": "dWuxOWb09D3GOCm9t0MQvl59x////+8/+VBJdAEA0D/5A2MlBQDQPw+Q3Fn+//M/",
            "dtype": "f8"
           },
           "z": {
            "bdata": "O+XgNHPXA78eqgjqK8MdP5qiSpshlNA8Pg61oO9RyL+O0rNUWBC3v3BWGa8DCbe/",
            "dtype": "f8"
           }
          }
         ],
         "layout": {
          "annotations": [
           {
            "showarrow": false,
            "text": "Time: 0.57s (Step: 58/100)",
            "x": 0.05,
            "xref": "paper",
            "y": 0.95,
            "yref": "paper"
           }
          ]
         },
         "name": "57"
        },
        {
         "data": [
          {
           "name": "Free Nodes",
           "type": "scatter3d",
           "x": {
            "bdata": "aDDEXCNzOD6Gjz38///vP+yYRy97HAc+1cwSs9H/zz/Bx35vBAD0P5X0KGkFANA/",
            "dtype": "f8"
           },
           "y": {
            "bdata": "VSWTCJYx9z1+r/boygERvrlVwf///+8/JMTYhwEA0D9rZ81qBQDQP73foUP+//M/",
            "dtype": "f8"
           },
           "z": {
            "bdata": "MPBmHMriBL+9OZA5LlQfPxo/HCHtGtM8l3FI4sb1yL+9ph2rWFi4v0SyHUChULi/",
            "dtype": "f8"
           }
          },
          {
           "name": "Fixed Nodes",
           "type": "scatter3d",
           "x": [],
           "y": [],
           "z": []
          },
          {
           "name": "Edges",
           "type": "scatter3d",
           "x": [
            0.999999992997332,
            6.726260369510579e-10,
            null,
            6.726260369510579e-10,
            5.692652970767426e-9,
            null,
            5.692652970767426e-9,
            0.999999992997332,
            null,
            1.2500042300493848,
            0.2500012900307607,
            null,
            0.2500012900307607,
            0.24999448055095877,
            null,
            0.24999448055095877,
            1.2500042300493848,
            null
           ],
           "y": [
            -9.899378295000736e-10,
            0.999999999544051,
            null,
            0.999999999544051,
            3.375126919047993e-10,
            null,
            3.375126919047993e-10,
            -9.899378295000736e-10,
            null,
            0.25000129156034373,
            1.2499983446013936,
            null,
            1.2499983446013936,
            0.2500003649357174,
            null,
            0.2500003649357174,
            0.25000129156034373,
            null
           ],
           "z": [
            0.00011951000341545774,
            1.0605505810522408e-15,
            null,
            1.0605505810522408e-15,
            -0.00003983668607385226,
            null,
            -0.00003983668607385226,
            0.00011951000341545774,
            null,
            -0.09509805848724802,
            -0.0949803144009787,
            null,
            -0.0949803144009787,
            -0.19500051545118133,
            null,
            -0.19500051545118133,
            -0.09509805848724802,
            null
           ]
          },
          {
           "i": [
            0,
            3
           ],
           "j": [
            1,
            4
           ],
           "k": [
            2,
            5
           ],
           "name": "Faces",
           "type": "mesh3d",
           "x": {
            "bdata": "aDDEXCNzOD6Gjz38///vP+yYRy97HAc+1cwSs9H/zz/Bx35vBAD0P5X0KGkFANA/",
            "dtype": "f8"
           },
           "y": {
            "bdata": "VSWTCJYx9z1+r/boygERvrlVwf///+8/JMTYhwEA0D9rZ81qBQDQP73foUP+//M/",
            "dtype": "f8"
           },
           "z": {
            "bdata": "MPBmHMriBL+9OZA5LlQfPxo/HCHtGtM8l3FI4sb1yL+9ph2rWFi4v0SyHUChULi/",
            "dtype": "f8"
           }
          }
         ],
         "layout": {
          "annotations": [
           {
            "showarrow": false,
            "text": "Time: 0.58s (Step: 59/100)",
            "x": 0.05,
            "xref": "paper",
            "y": 0.95,
            "yref": "paper"
           }
          ]
         },
         "name": "58"
        },
        {
         "data": [
          {
           "name": "Free Nodes",
           "type": "scatter3d",
           "x": {
            "bdata": "MkUwA7cWOz5JKN/7///vP7wp+3BZgQg+GPOcYs//zz+E1DmoBAD0P+JagK4FANA/",
            "dtype": "f8"
           },
           "y": {
            "bdata": "OqwIG9uL+T0RMW3O9bwRvqfcuv///+8/rFpnmwEA0D9t0zmwBQDQP3DkZi3+//M/",
            "dtype": "f8"
           },
           "z": {
            "bdata": "6P3gAyHuBb9i44hEmHIgP90Nthdf4dU8H43bI56Zyb+SYogBWaC5vxS2IdE+mLm/",
            "dtype": "f8"
           }
          },
          {
           "name": "Fixed Nodes",
           "type": "scatter3d",
           "x": [],
           "y": [],
           "z": []
          },
          {
           "name": "Edges",
           "type": "scatter3d",
           "x": [
            0.9999999923104578,
            7.131972529583502e-10,
            null,
            7.131972529583502e-10,
            6.307086452946806e-9,
            null,
            6.307086452946806e-9,
            0.9999999923104578,
            null,
            1.250004441387575,
            0.2500013546099763,
            null,
            0.2500013546099763,
            0.2499942046651078,
            null,
            0.2499942046651078,
            1.250004441387575,
            null
           ],
           "y": [
            -1.0324948064109952e-9,
            0.9999999994969543,
            null,
            0.9999999994969543,
            3.7174776714745357e-10,
            null,
            3.7174776714745357e-10,
            -1.0324948064109952e-9,
            null,
            0.250001356216038,
            1.2499982617867111,
            null,
            1.2499982617867111,
            0.2500003831495785,
            null,
            0.2500003831495785,
            0.250001356216038,
            null
           ],
           "z": [
            0.00012548550354709714,
            1.2146038202018624e-15,
            null,
            1.2146038202018624e-15,
            -0.000041828520338512397,
            null,
            -0.000041828520338512397,
            0.00012548550354709714,
            null,
            -0.10010296142025712,
            -0.0999793301177408,
            null,
            -0.0999793301177408,
            -0.20000054121838048,
            null,
            -0.20000054121838048,
            -0.10010296142025712,
            null
           ]
          },
          {
           "i": [
            0,
            3
           ],
           "j": [
            1,
            4
           ],
           "k": [
            2,
            5
           ],
           "name": "Faces",
           "type": "mesh3d",
           "x": {
            "bdata": "MkUwA7cWOz5JKN/7///vP7wp+3BZgQg+GPOcYs//zz+E1DmoBAD0P+JagK4FANA/",
            "dtype": "f8"
           },
           "y": {
            "bdata": "OqwIG9uL+T0RMW3O9bwRvqfcuv///+8/rFpnmwEA0D9t0zmwBQDQP3DkZi3+//M/",
            "dtype": "f8"
           },
           "z": {
            "bdata": "6P3gAyHuBb9i44hEmHIgP90Nthdf4dU8H43bI56Zyb+SYogBWaC5vxS2IdE+mLm/",
            "dtype": "f8"
           }
          }
         ],
         "layout": {
          "annotations": [
           {
            "showarrow": false,
            "text": "Time: 0.59s (Step: 60/100)",
            "x": 0.05,
            "xref": "paper",
            "y": 0.95,
            "yref": "paper"
           }
          ]
         },
         "name": "59"
        },
        {
         "data": [
          {
           "name": "Free Nodes",
           "type": "scatter3d",
           "x": {
            "bdata": "55QhX9PcPT6xWHz7///vP+4ptr0I7Ak+G6IrEs3/zz8KzvPgBAD0P8LJ2fMFANA/",
            "dtype": "f8"
           },
           "y": {
            "bdata": "dZ+S1TQD/D1vFlwuOHUSvigStP///+8/jhT1rgEA0D8BSKj1BQDQPyieKxf+//M/",
            "dtype": "f8"
           },
           "z": {
            "bdata": "Q3xO63f5Br/4g0ZsGTshP/KEwGyo6tg82GBuZXU9yr8IBvRXWei6v+FhJWLc37q/",
            "dtype": "f8"
           }
          },
          {
           "name": "Fixed Nodes",
           "type": "scatter3d",
           "x": [],
           "y": [],
           "z": []
          },
          {
           "name": "Edges",
           "type": "scatter3d",
           "x": [
            0.9999999915915138,
            7.544297369314496e-10,
            null,
            7.544297369314496e-10,
            6.952928443148797e-9,
            null,
            6.952928443148797e-9,
            0.9999999915915138,
            null,
            1.2500046527101198,
            0.2500014191965897,
            null,
            0.2500014191965897,
            0.24999392878750445,
            null,
            0.24999392878750445,
            1.2500046527101198,
            null
           ],
           "y": [
            -1.0743905153033546e-9,
            0.9999999994475433,
            null,
            0.9999999994475433,
            4.076358882151382e-10,
            null,
            4.076358882151382e-10,
            -1.0743905153033546e-9,
            null,
            0.25000142087912997,
            1.2499981789677665,
            null,
            1.2499981789677665,
            0.250000401360304,
            null,
            0.250000401360304,
            0.25000142087912997,
            null
           ],
           "z": [
            0.0001314610036731443,
            1.3831509525879267e-15,
            null,
            1.3831509525879267e-15,
            -0.00004382035459759477,
            null,
            -0.00004382035459759477,
            0.0001314610036731443,
            null,
            -0.10510786435408914,
            -0.1049783458341902,
            null,
            -0.1049783458341902,
            -0.2050005669850694,
            null,
            -0.2050005669850694,
            -0.10510786435408914,
            null
           ]
          },
          {
           "i": [
            0,
            3
           ],
           "j": [
            1,
            4
           ],
           "k": [
            2,
            5
           ],
           "name": "Faces",
           "type": "mesh3d",
           "x": {
            "bdata": "55QhX9PcPT6xWHz7///vP+4ptr0I7Ak+G6IrEs3/zz8KzvPgBAD0P8LJ2fMFANA/",
            "dtype": "f8"
           },
           "y": {
            "bdata": "dZ+S1TQD/D1vFlwuOHUSvigStP///+8/jhT1rgEA0D8BSKj1BQDQPyieKxf+//M/",
            "dtype": "f8"
           },
           "z": {
            "bdata": "Q3xO63f5Br/4g0ZsGTshP/KEwGyo6tg82GBuZXU9yr8IBvRXWei6v+FhJWLc37q/",
            "dtype": "f8"
           }
          }
         ],
         "layout": {
          "annotations": [
           {
            "showarrow": false,
            "text": "Time: 0.60s (Step: 61/100)",
            "x": 0.05,
            "xref": "paper",
            "y": 0.95,
            "yref": "paper"
           }
          ]
         },
         "name": "60"
        },
        {
         "data": [
          {
           "name": "Free Nodes",
           "type": "scatter3d",
           "x": {
            "bdata": "plLgObxiQD6+IBX7///vP62xZAOJXAs+2Nm+wcr/zz9UtKwZBQD0PzVBNTkGANA/",
            "dtype": "f8"
           },
           "y": {
            "bdata": "CVQwpKOX/j3YLs0RkioTvjv2rP///+8/yfGBwgEA0D8mxRg7BgDQP+UM8AD+//M/",
            "dtype": "f8"
           },
           "z": {
            "bdata": "Gdmu0s4ECL/+2QCUmgMiP04Cs8LIOdw8xOwAp0zhyr8YkWCuWTC8v661KPN5J7y/",
            "dtype": "f8"
           }
          },
          {
           "name": "Fixed Nodes",
           "type": "scatter3d",
           "x": [],
           "y": [],
           "z": []
          },
          {
           "name": "Edges",
           "type": "scatter3d",
           "x": [
            0.9999999908405,
            7.96323457510448e-10,
            null,
            7.96323457510448e-10,
            7.630178985203493e-9,
            null,
            7.630178985203493e-9,
            0.9999999908405,
            null,
            1.2500048640170194,
            0.2500014837906009,
            null,
            0.2500014837906009,
            0.24999365291814857,
            null,
            0.24999365291814857,
            1.2500048640170194,
            null
           ],
           "y": [
            -1.1156249875351188e-9,
            0.9999999993958179,
            null,
            0.9999999993958179,
            4.451771487806579e-10,
            null,
            4.451771487806579e-10,
            -1.1156249875351188e-9,
            null,
            0.25000148554961965,
            1.2499980961445598,
            null,
            1.2499980961445598,
            0.2500004195678938,
            null,
            0.2500004195678938,
            0.25000148554961965,
            null
           ],
           "z": [
            0.000137436503793345,
            1.5668421900367972e-15,
            null,
            1.5668421900367972e-15,
            -0.00004581218885084583,
            null,
            -0.00004581218885084583,
            0.000137436503793345,
            null,
            -0.11011276728874397,
            -0.10997736155032697,
            null,
            -0.10997736155032697,
            -0.21000059275124816,
            null,
            -0.21000059275124816,
            -0.11011276728874397,
            null
           ]
          },
          {
           "i": [
            0,
            3
           ],
           "j": [
            1,
            4
           ],
           "k": [
            2,
            5
           ],
           "name": "Faces",
           "type": "mesh3d",
           "x": {
            "bdata": "plLgObxiQD6+IBX7///vP62xZAOJXAs+2Nm+wcr/zz9UtKwZBQD0PzVBNTkGANA/",
            "dtype": "f8"
           },
           "y": {
            "bdata": "CVQwpKOX/j3YLs0RkioTvjv2rP///+8/yfGBwgEA0D8mxRg7BgDQP+UM8AD+//M/",
            "dtype": "f8"
           },
           "z": {
            "bdata": "Gdmu0s4ECL/+2QCUmgMiP04Cs8LIOdw8xOwAp0zhyr8YkWCuWTC8v661KPN5J7y/",
            "dtype": "f8"
           }
          }
         ],
         "layout": {
          "annotations": [
           {
            "showarrow": false,
            "text": "Time: 0.61s (Step: 62/100)",
            "x": 0.05,
            "xref": "paper",
            "y": 0.95,
            "yref": "paper"
           }
          ]
         },
         "name": "61"
        },
        {
         "data": [
          {
           "name": "Free Nodes",
           "type": "scatter3d",
           "x": {
            "bdata": "yFTQIlPoQT5vgKn6///vPyBnmFna0gw+XJpWccj/zz9ih2RSBQD0PzXBkn4GANA/",
            "dtype": "f8"
           },
           "y": {
            "bdata": "U/8nT5OkAD6IgvdsA90TvuGIpf///+8/YPIN1gEA0D/WSouABgDQP6gwtOr9//M/",
            "dtype": "f8"
           },
           "z": {
            "bdata": "QoIBuiUQCb/RwLe7G8wiP0+1K8Hb0d884zCT6COFy7++A84EWni9v3+xK4QXb72/",
            "dtype": "f8"
           }
          },
          {
           "name": "Fixed Nodes",
           "type": "scatter3d",
           "x": [],
           "y": [],
           "z": []
          },
          {
           "name": "Edges",
           "type": "scatter3d",
           "x": [
            0.9999999900574162,
            8.388784555809415e-10,
            null,
            8.388784555809415e-10,
            8.33883814260177e-9,
            null,
            8.33883814260177e-9,
            0.9999999900574162,
            null,
            1.2500050753082736,
            0.25000154839200955,
            null,
            0.25000154839200955,
            0.2499933770570405,
            null,
            0.2499933770570405,
            1.2500050753082736,
            null
           ],
           "y": [
            -1.1561981822187494e-9,
            0.9999999993417782,
            null,
            0.9999999993417782,
            4.843713471221195e-10,
            null,
            4.843713471221195e-10,
            -1.1561981822187494e-9,
            null,
            0.2500015502275067,
            1.2499980133170912,
            null,
            1.2499980133170912,
            0.25000043777234815,
            null,
            0.25000043777234815,
            0.2500015502275067,
            null
           ],
           "z": [
            0.00014341200390744502,
            1.766351478342684e-15,
            null,
            1.766351478342684e-15,
            -0.00004780402309801205,
            null,
            -0.00004780402309801205,
            0.00014341200390744502,
            null,
            -0.11511767022422156,
            -0.11497637726615116,
            null,
            -0.11497637726615116,
            -0.21500061851691674,
            null,
            -0.21500061851691674,
            -0.11511767022422156,
            null
           ]
          },
          {
           "i": [
            0,
            3
           ],
           "j": [
            1,
            4
           ],
           "k": [
            2,
            5
           ],
           "name": "Faces",
           "type": "mesh3d",
           "x": {
            "bdata": "yFTQIlPoQT5vgKn6///vPyBnmFna0gw+XJpWccj/zz9ih2RSBQD0PzXBkn4GANA/",
            "dtype": "f8"
           },
           "y": {
            "bdata": "U/8nT5OkAD6IgvdsA90TvuGIpf///+8/YPIN1gEA0D/WSouABgDQP6gwtOr9//M/",
            "dtype": "f8"
           },
           "z": {
            "bdata": "QoIBuiUQCb/RwLe7G8wiP0+1K8Hb0d884zCT6COFy7++A84EWni9v3+xK4QXb72/",
            "dtype": "f8"
           }
          }
         ],
         "layout": {
          "annotations": [
           {
            "showarrow": false,
            "text": "Time: 0.62s (Step: 63/100)",
            "x": 0.05,
            "xref": "paper",
            "y": 0.95,
            "yref": "paper"
           }
          ]
         },
         "name": "62"
        },
        {
         "data": [
          {
           "name": "Free Nodes",
           "type": "scatter3d",
           "x": {
            "bdata": "BKBuaS5/Qz7Fdzn6///vP/WBAIj8Tg4+luPyIMb/zz80RxuLBQD0P8pJ8sMGANA/",
            "dtype": "f8"
           },
           "y": {
            "bdata": "F+SMfd8LAj4JUQNcjIwUvhnKnf///+8/UhaZ6QEA0D8a2f/FBgDQP28JeNT9//M/",
            "dtype": "f8"
           },
           "z": {
            "bdata": "luVFoXwbCr/QE2vjnJQjP6jA/DXl2uE8OC0lKvsozL/xXTxbWsC+v1dVLhW1tr6/",
            "dtype": "f8"
           }
          },
          {
           "name": "Fixed Nodes",
           "type": "scatter3d",
           "x": [],
           "y": [],
           "z": []
          },
          {
           "name": "Edges",
           "type": "scatter3d",
           "x": [
            0.9999999892422627,
            8.82094633451012e-10,
            null,
            8.82094633451012e-10,
            9.078905889085252e-9,
            null,
            9.078905889085252e-9,
            0.9999999892422627,
            null,
            1.2500052865838827,
            0.25000161300081614,
            null,
            0.25000161300081614,
            0.24999310120417978,
            null,
            0.24999310120417978,
            1.2500052865838827,
            null
           ],
           "y": [
            -1.1961101970442258e-9,
            0.9999999992854242,
            null,
            0.9999999992854242,
            5.252187531250899e-10,
            null,
            5.252187531250899e-10,
            -1.1961101970442258e-9,
            null,
            0.2500016149127916,
            1.2499979304853601,
            null,
            1.2499979304853601,
            0.25000045597366694,
            null,
            0.25000045597366694,
            0.2500016149127916,
            null
           ],
           "z": [
            0.00014938750401519022,
            1.982309869651425e-15,
            null,
            1.982309869651425e-15,
            -0.000049795857338839875,
            null,
            -0.000049795857338839875,
            0.00014938750401519022,
            null,
            -0.12012257316052179,
            -0.1199753929816628,
            null,
            -0.1199753929816628,
            -0.22000064428207522,
            null,
            -0.22000064428207522,
            -0.12012257316052179,
            null
           ]
          },
          {
           "i": [
            0,
            3
           ],
           "j": [
            1,
            4
           ],
           "k": [
            2,
            5
           ],
           "name": "Faces",
           "type": "mesh3d",
           "x": {
            "bdata": "BKBuaS5/Qz7Fdzn6///vP/WBAIj8Tg4+luPyIMb/zz80RxuLBQD0P8pJ8sMGANA/",
            "dtype": "f8"
           },
           "y": {
            "bdata": "F+SMfd8LAj4JUQNcjIwUvhnKnf///+8/UhaZ6QEA0D8a2f/FBgDQP28JeNT9//M/",
            "dtype": "f8"
           },
           "z": {
            "bdata": "luVFoXwbCr/QE2vjnJQjP6jA/DXl2uE8OC0lKvsozL/xXTxbWsC+v1dVLhW1tr6/",
            "dtype": "f8"
           }
          }
         ],
         "layout": {
          "annotations": [
           {
            "showarrow": false,
            "text": "Time: 0.63s (Step: 64/100)",
            "x": 0.05,
            "xref": "paper",
            "y": 0.95,
            "yref": "paper"
           }
          ]
         },
         "name": "63"
        },
        {
         "data": [
          {
           "name": "Free Nodes",
           "type": "scatter3d",
           "x": {
            "bdata": "PmSaCk4nRT6/BsX5///vP9AXDPrv0A8+l7WT0MP/zz/J89DDBQD0P+/aUwkHANA/",
            "dtype": "f8"
           },
           "y": {
            "bdata": "91lr7bWBAz7N6jipLDkVvuO5lf///+8/nV0j/QEA0D/tb3YLBwDQPzyXO779//M/",
            "dtype": "f8"
           },
           "z": {
            "bdata": "8XB7iNMmC79YrhoLHl0kPyw1U8xl9OM8xOG2a9LMzL/Xz9VYLQTAvzihMKZS/r+/",
            "dtype": "f8"
           }
          },
          {
           "name": "Fixed Nodes",
           "type": "scatter3d",
           "x": [],
           "y": [],
           "z": []
          },
          {
           "name": "Edges",
           "type": "scatter3d",
           "x": [
            0.9999999883950393,
            9.259721774888096e-10,
            null,
            9.259721774888096e-10,
            9.85038213782963e-9,
            null,
            9.85038213782963e-9,
            0.9999999883950393,
            null,
            1.2500054978438462,
            0.25000167761702036,
            null,
            0.25000167761702036,
            0.24999282535956688,
            null,
            0.24999282535956688,
            1.2500054978438462,
            null
           ],
           "y": [
            -1.2353608456414532e-9,
            0.9999999992267558,
            null,
            0.9999999992267558,
            5.677191727479171e-10,
            null,
            5.677191727479171e-10,
            -1.2353608456414532e-9,
            null,
            0.2500016796054741,
            1.2499978476493672,
            null,
            1.2499978476493672,
            0.25000047417185006,
            null,
            0.25000047417185006,
            0.2500016796054741,
            null
           ],
           "z": [
            0.00015536300411632636,
            2.2154143315873564e-15,
            null,
            2.2154143315873564e-15,
            -0.0000517876915730758,
            null,
            -0.0000517876915730758,
            0.00015536300411632636,
            null,
            -0.1251274760976446,
            -0.12497440869686194,
            null,
            -0.12497440869686194,
            -0.22500067004672364,
            null,
            -0.22500067004672364,
            -0.1251274760976446,
            null
           ]
          },
          {
           "i": [
            0,
            3
           ],
           "j": [
            1,
            4
           ],
           "k": [
            2,
            5
           ],
           "name": "Faces",
           "type": "mesh3d",
           "x": {
            "bdata": "PmSaCk4nRT6/BsX5///vP9AXDPrv0A8+l7WT0MP/zz/J89DDBQD0P+/aUwkHANA/",
            "dtype": "f8"
           },
           "y": {
            "bdata": "91lr7bWBAz7N6jipLDkVvuO5lf///+8/nV0j/QEA0D/tb3YLBwDQPzyXO779//M/",
            "dtype": "f8"
           },
           "z": {
            "bdata": "8XB7iNMmC79YrhoLHl0kPyw1U8xl9OM8xOG2a9LMzL/Xz9VYLQTAvzihMKZS/r+/",
            "dtype": "f8"
           }
          }
         ],
         "layout": {
          "annotations": [
           {
            "showarrow": false,
            "text": "Time: 0.64s (Step: 65/100)",
            "x": 0.05,
            "xref": "paper",
            "y": 0.95,
            "yref": "paper"
           }
          ]
         },
         "name": "64"
        },
        {
         "data": [
          {
           "name": "Free Nodes",
           "type": "scatter3d",
           "x": {
            "bdata": "LkxZELLgRj5eLUz5///vP/yxSvxZrBA+URA5gMH/zz8jjYX8BQD0P6N0t04HANA/",
            "dtype": "f8"
           },
           "y": {
            "bdata": "XWU9ABcGBT6dDSuw5OIVvkBYjf///+8/SMisEAIA0D9ND+9QBwDQPw7a/qf9//M/",
            "dtype": "f8"
           },
           "z": {
            "bdata": "IpKhbyoyDL/Ha8YynyUlPzQpvUrRNuY8iE5Iralwzb925A2ELajAv5RKmRv4osC/",
            "dtype": "f8"
           }
          },
          {
           "name": "Fixed Nodes",
           "type": "scatter3d",
           "x": [],
           "y": [],
           "z": []
          },
          {
           "name": "Edges",
           "type": "scatter3d",
           "x": [
            0.9999999875157461,
            9.70510769984009e-10,
            null,
            9.70510769984009e-10,
            1.0653267167005061e-8,
            null,
            1.0653267167005061e-8,
            0.9999999875157461,
            null,
            1.2500057090881647,
            0.25000174224062216,
            null,
            0.25000174224062216,
            0.2499925495232014,
            null,
            0.2499925495232014,
            1.2500057090881647,
            null
           ],
           "y": [
            -1.2739504457188205e-9,
            0.9999999991657731,
            null,
            0.9999999991657731,
            6.118727750855992e-10,
            null,
            6.118727750855992e-10,
            -1.2739504457188205e-9,
            null,
            0.25000174430555405,
            1.249997764809112,
            null,
            1.249997764809112,
            0.2500004923668979,
            null,
            0.2500004923668979,
            0.25000174430555405,
            null
           ],
           "z": [
            0.00016133850421059926,
            2.466263975453602e-15,
            null,
            2.466263975453602e-15,
            -0.000053779525800466224,
            null,
            -0.000053779525800466224,
            0.00016133850421059926,
            null,
            -0.13013237903558988,
            -0.12997342441174864,
            null,
            -0.12997342441174864,
            -0.23000069581086202,
            null,
            -0.23000069581086202,
            -0.13013237903558988,
            null
           ]
          },
          {
           "i": [
            0,
            3
           ],
           "j": [
            1,
            4
           ],
           "k": [
            2,
            5
           ],
           "name": "Faces",
           "type": "mesh3d",
           "x": {
            "bdata": "LkxZELLgRj5eLUz5///vP/yxSvxZrBA+URA5gMH/zz8jjYX8BQD0P6N0t04HANA/",
            "dtype": "f8"
           },
           "y": {
            "bdata": "XWU9ABcGBT6dDSuw5OIVvkBYjf///+8/SMisEAIA0D9ND+9QBwDQPw7a/qf9//M/",
            "dtype": "f8"
           },
           "z": {
            "bdata": "IpKhbyoyDL/Ha8YynyUlPzQpvUrRNuY8iE5Iralwzb925A2ELajAv5RKmRv4osC/",
            "dtype": "f8"
           }
          }
         ],
         "layout": {
          "annotations": [
           {
            "showarrow": false,
            "text": "Time: 0.65s (Step: 66/100)",
            "x": 0.05,
            "xref": "paper",
            "y": 0.95,
            "yref": "paper"
           }
          ]
         },
         "name": "65"
        },
        {
         "data": [
          {
           "name": "Free Nodes",
           "type": "scatter3d",
           "x": {
            "bdata": "FByZb1qrSD6i6874///vPwC+3Y4kcxE+yfPiL7//zz9AEzk1BgD0P+oWHZQHANA/",
            "dtype": "f8"
           },
           "y": {
            "bdata": "kXIvNQKZBj7nCcojtIkWvjClhP///+8/S1Y1JAIA0D8+t2mWBwDQP+bRwZH9//M/",
            "dtype": "f8"
           },
           "z": {
            "bdata": "Dre3VoE9Db98J25aIO4lP7KRHGrNo+g8h3PZ7oAUzr/TbEavLUzBv5MYGuTGRsG/",
            "dtype": "f8"
           }
          },
          {
           "name": "Fixed Nodes",
           "type": "scatter3d",
           "x": [],
           "y": [],
           "z": []
          },
          {
           "name": "Edges",
           "type": "scatter3d",
           "x": [
            0.9999999866043832,
            1.015710678294661e-9,
            null,
            1.015710678294661e-9,
            1.1487560669323346e-8,
            null,
            1.1487560669323346e-8,
            0.9999999866043832,
            null,
            1.2500059203168377,
            0.25000180687162177,
            null,
            0.25000180687162177,
            0.2499922736950835,
            null,
            0.2499922736950835,
            1.2500059203168377,
            null
           ],
           "y": [
            -1.3118787299163298e-9,
            0.9999999991024762,
            null,
            0.9999999991024762,
            6.576793366598296e-10,
            null,
            6.576793366598296e-10,
            -1.3118787299163298e-9,
            null,
            0.2500018090130317,
            1.249997681964595,
            null,
            1.249997681964595,
            0.25000051055881006,
            null,
            0.25000051055881006,
            0.2500018090130317,
            null
           ],
           "z": [
            0.00016731400429775476,
            2.7355732264424588e-15,
            null,
            2.7355732264424588e-15,
            -0.00005577136002075769,
            null,
            -0.00005577136002075769,
            0.00016731400429775476,
            null,
            -0.13513728197435756,
            -0.1349724401263229,
            null,
            -0.1349724401263229,
            -0.23500072157449045,
            null,
            -0.23500072157449045,
            -0.13513728197435756,
            null
           ]
          },
          {
           "i": [
            0,
            3
           ],
           "j": [
            1,
            4
           ],
           "k": [
            2,
            5
           ],
           "name": "Faces",
           "type": "mesh3d",
           "x": {
            "bdata": "FByZb1qrSD6i6874///vPwC+3Y4kcxE+yfPiL7//zz9AEzk1BgD0P+oWHZQHANA/",
            "dtype": "f8"
           },
           "y": {
            "bdata": "kXIvNQKZBj7nCcojtIkWvjClhP///+8/S1Y1JAIA0D8+t2mWBwDQP+bRwZH9//M/",
            "dtype": "f8"
           },
           "z": {
            "bdata": "Dre3VoE9Db98J25aIO4lP7KRHGrNo+g8h3PZ7oAUzr/TbEavLUzBv5MYGuTGRsG/",
            "dtype": "f8"
           }
          }
         ],
         "layout": {
          "annotations": [
           {
            "showarrow": false,
            "text": "Time: 0.66s (Step: 67/100)",
            "x": 0.05,
            "xref": "paper",
            "y": 0.95,
            "yref": "paper"
           }
          ]
         },
         "name": "66"
        },
        {
         "data": [
          {
           "name": "Free Nodes",
           "type": "scatter3d",
           "x": {
            "bdata": "smXOLEeHSj6LQU34///vP/Tyv47XPBI++V+R37z/zz8hhuttBgD0P8fBhNkHANA/",
            "dtype": "f8"
           },
           "y": {
            "bdata": "xVPAF3g6CD4W+BQqmy0XvrKge////+8/qQe9NwIA0D/DZ+bbBwDQP8J+hHv9//M/",
            "dtype": "f8"
           },
           "z": {
            "bdata": "h029PdhIDr/UvBGCobYmPy4vSZjJPOs8wlBqMFi4zr/raH/aLfDBv5u6mqyV6sG/",
            "dtype": "f8"
           }
          },
          {
           "name": "Fixed Nodes",
           "type": "scatter3d",
           "x": [],
           "y": [],
           "z": []
          },
          {
           "name": "Edges",
           "type": "scatter3d",
           "x": [
            0.9999999856609504,
            1.0615717705921045e-9,
            null,
            1.0615717705921045e-9,
            1.2353262768445262e-8,
            null,
            1.2353262768445262e-8,
            0.9999999856609504,
            null,
            1.2500061315298654,
            0.25000187151001935,
            null,
            0.25000187151001935,
            0.249991997875213,
            null,
            0.249991997875213,
            1.2500061315298654,
            null
           ],
           "y": [
            -1.3491458300607054e-9,
            0.9999999990368649,
            null,
            0.9999999990368649,
            7.051390994565445e-10,
            null,
            7.051390994565445e-10,
            -1.3491458300607054e-9,
            null,
            0.2500018737279072,
            1.2499975991158156,
            null,
            1.2499975991158156,
            0.25000052874758666,
            null,
            0.25000052874758666,
            0.2500018737279072,
            null
           ],
           "z": [
            0.00017328950437753862,
            3.0239645336157656e-15,
            null,
            3.0239645336157656e-15,
            -0.00005776319423369662,
            null,
            -0.00005776319423369662,
            0.00017328950437753862,
            null,
            -0.14014218491394756,
            -0.13997145584058476,
            null,
            -0.13997145584058476,
            -0.24000074733760896,
            null,
            -0.24000074733760896,
            -0.14014218491394756,
            null
           ]
          },
          {
           "i": [
            0,
            3
           ],
           "j": [
            1,
            4
           ],
           "k": [
            2,
            5
           ],
           "name": "Faces",
           "type": "mesh3d",
           "x": {
            "bdata": "smXOLEeHSj6LQU34///vP/Tyv47XPBI++V+R37z/zz8hhuttBgD0P8fBhNkHANA/",
            "dtype": "f8"
           },
           "y": {
            "bdata": "xVPAF3g6CD4W+BQqmy0XvrKge////+8/qQe9NwIA0D/DZ+bbBwDQP8J+hHv9//M/",
            "dtype": "f8"
           },
           "z": {
            "bdata": "h029PdhIDr/UvBGCobYmPy4vSZjJPOs8wlBqMFi4zr/raH/aLfDBv5u6mqyV6sG/",
            "dtype": "f8"
           }
          }
         ],
         "layout": {
          "annotations": [
           {
            "showarrow": false,
            "text": "Time: 0.67s (Step: 68/100)",
            "x": 0.05,
            "xref": "paper",
            "y": 0.95,
            "yref": "paper"
           }
          ]
         },
         "name": "67"
        },
        {
         "data": [
          {
           "name": "Free Nodes",
           "type": "scatter3d",
           "x": {
            "bdata": "hkXsSHh0TD4YL8f3///vP9ZbMQpzCRM+71REj7r/zz/F5ZymBgD0PzN17h4IANA/",
            "dtype": "f8"
           },
           "y": {
            "bdata": "0nhsW3jqCT52qMu0mc4XvsdKcv///+8/YtxDSwIA0D/WIGUhCADQP6TgRmX9//M/",
            "dtype": "f8"
           },
           "z": {
            "bdata": "ZsOxJC9UD78tB7GpIn8nP7fLiSlUA+48Oeb6cS9cz7+82LgFLpTCv64wG3VkjsK/",
            "dtype": "f8"
           }
          },
          {
           "name": "Fixed Nodes",
           "type": "scatter3d",
           "x": [],
           "y": [],
           "z": []
          },
          {
           "name": "Edges",
           "type": "scatter3d",
           "x": [
            0.9999999846854477,
            1.1080940963165404e-9,
            null,
            1.1080940963165404e-9,
            1.325037349072899e-8,
            null,
            1.325037349072899e-8,
            0.9999999846854477,
            null,
            1.2500063427272476,
            0.2500019361558145,
            null,
            0.2500019361558145,
            0.2499917220635903,
            null,
            0.2499917220635903,
            1.2500063427272476,
            null
           ],
           "y": [
            -1.385751696709803e-9,
            0.9999999989689393,
            null,
            0.9999999989689393,
            7.542519307452536e-10,
            null,
            7.542519307452536e-10,
            -1.385751696709803e-9,
            null,
            0.25000193845018026,
            1.2499975162627743,
            null,
            1.2499975162627743,
            0.2500005469332277,
            null,
            0.2500005469332277,
            0.25000193845018026,
            null
           ],
           "z": [
            0.00017926500444969667,
            3.332112692894769e-15,
            null,
            3.332112692894769e-15,
            -0.00005975502843902948,
            null,
            -0.00005975502843902948,
            0.00017926500444969667,
            null,
            -0.1451470878543598,
            -0.1449704715545343,
            null,
            -0.1449704715545343,
            -0.24500077310021753,
            null,
            -0.24500077310021753,
            -0.1451470878543598,
            null
           ]
          },
          {
           "i": [
            0,
            3
           ],
           "j": [
            1,
            4
           ],
           "k": [
            2,
            5
           ],
           "name": "Faces",
           "type": "mesh3d",
           "x": {
            "bdata": "hkXsSHh0TD4YL8f3///vP9ZbMQpzCRM+71REj7r/zz/F5ZymBgD0PzN17h4IANA/",
            "dtype": "f8"
           },
           "y": {
            "bdata": "0nhsW3jqCT52qMu0mc4XvsdKcv///+8/YtxDSwIA0D/WIGUhCADQP6TgRmX9//M/",
            "dtype": "f8"
           },
           "z": {
            "bdata": "ZsOxJC9UD78tB7GpIn8nP7fLiSlUA+48Oeb6cS9cz7+82LgFLpTCv64wG3VkjsK/",
            "dtype": "f8"
           }
          }
         ],
         "layout": {
          "annotations": [
           {
            "showarrow": false,
            "text": "Time: 0.68s (Step: 69/100)",
            "x": 0.05,
            "xref": "paper",
            "y": 0.95,
            "yref": "paper"
           }
          ]
         },
         "name": "68"
        },
        {
         "data": [
          {
           "name": "Free Nodes",
           "type": "scatter3d",
           "x": {
            "bdata": "O3wJwe1yTj5KtDz3///vP+0PDQH32BM+ndL7Prj/zz8uMk3fBgD0Py8xWmQIANA/",
            "dtype": "f8"
           },
           "y": {
            "bdata": "yW2AKwOpCz4Y3xLEr2wYvm6jaP///+8/etTJXgIA0D934uVmCADQP4v3CE/9//M/",
            "dtype": "f8"
           },
           "z": {
            "bdata": "Q0PKBcMvEL/l4UvRo0coP3ZwAIl3fPA895nFWQMA0L9BvPIwLjjDv856mz0zMsO/",
            "dtype": "f8"
           }
          },
          {
           "name": "Fixed Nodes",
           "type": "scatter3d",
           "x": [],
           "y": [],
           "z": []
          },
          {
           "name": "Edges",
           "type": "scatter3d",
           "x": [
            0.9999999836778752,
            1.1552776549677577e-9,
            null,
            1.1552776549677577e-9,
            1.4178892755374646e-8,
            null,
            1.4178892755374646e-8,
            0.9999999836778752,
            null,
            1.2500065539089849,
            0.2500020008090073,
            null,
            0.2500020008090073,
            0.249991446260215,
            null,
            0.249991446260215,
            1.2500065539089849,
            null
           ],
           "y": [
            -1.421696330361893e-9,
            0.9999999988986994,
            null,
            0.9999999988986994,
            8.050179056377699e-10,
            null,
            8.050179056377699e-10,
            -1.421696330361893e-9,
            null,
            0.25000200317985083,
            1.2499974334054709,
            null,
            1.2499974334054709,
            0.25000056511573343,
            null,
            0.25000056511573343,
            0.25000200317985083,
            null
           ],
           "z": [
            0.00018524050451397471,
            3.66067153519657e-15,
            null,
            3.66067153519657e-15,
            -0.00006174686263650274,
            null,
            -0.00006174686263650274,
            0.00018524050451397471,
            null,
            -0.1501519907955942,
            -0.14996948726817155,
            null,
            -0.14996948726817155,
            -0.25000079886231624,
            null,
            -0.25000079886231624,
            -0.1501519907955942,
            null
           ]
          },
          {
           "i": [
            0,
            3
           ],
           "j": [
            1,
            4
           ],
           "k": [
            2,
            5
           ],
           "name": "Faces",
           "type": "mesh3d",
           "x": {
            "bdata": "O3wJwe1yTj5KtDz3///vP+0PDQH32BM+ndL7Prj/zz8uMk3fBgD0Py8xWmQIANA/",
            "dtype": "f8"
           },
           "y": {
            "bdata": "yW2AKwOpCz4Y3xLEr2wYvm6jaP///+8/etTJXgIA0D934uVmCADQP4v3CE/9//M/",
            "dtype": "f8"
           },
           "z": {
            "bdata": "Q0PKBcMvEL/l4UvRo0coP3ZwAIl3fPA895nFWQMA0L9BvPIwLjjDv856mz0zMsO/",
            "dtype": "f8"
           }
          }
         ],
         "layout": {
          "annotations": [
           {
            "showarrow": false,
            "text": "Time: 0.69s (Step: 70/100)",
            "x": 0.05,
            "xref": "paper",
            "y": 0.95,
            "yref": "paper"
           }
          ]
         },
         "name": "69"
        },
        {
         "data": [
          {
           "name": "Free Nodes",
           "type": "scatter3d",
           "x": {
            "bdata": "eUOEyFNBUD4g0a32///vP0CdHMJjqxQ+Adm37rX/zz9aa/wXBwD0P8X1x6kIANA/",
            "dtype": "f8"
           },
           "y": {
            "bdata": "19y+Chh2DT4q6SAJ3QcZvqaqXv///+8/5+9OcgIA0D+wrGisCADQP3fDyjj9//M/",
            "dtype": "f8"
           },
           "z": {
            "bdata": "Y4IyeW61EL9ZKOL4JBApPzKpaACjD/I885yN+u5R0L93Ey1cLtzDv/qYGwYC1sO/",
            "dtype": "f8"
           }
          },
          {
           "name": "Fixed Nodes",
           "type": "scatter3d",
           "x": [],
           "y": [],
           "z": []
          },
          {
           "name": "Edges",
           "type": "scatter3d",
           "x": [
            0.9999999826382329,
            1.2031227198941953e-9,
            null,
            1.2031227198941953e-9,
            1.5138820448160315e-8,
            null,
            1.5138820448160315e-8,
            0.9999999826382329,
            null,
            1.2500067650750766,
            0.2500020654695983,
            null,
            0.2500020654695983,
            0.24999117046508704,
            null,
            0.24999117046508704,
            1.2500067650750766,
            null
           ],
           "y": [
            -1.4569794576665886e-9,
            0.999999998826145,
            null,
            0.999999998826145,
            8.574368068780349e-10,
            null,
            8.574368068780349e-10,
            -1.4569794576665886e-9,
            null,
            0.2500020679169195,
            1.2499973505439053,
            null,
            1.2499973505439053,
            0.2500005832951033,
            null,
            0.2500005832951033,
            0.2500020679169195,
            null
           ],
           "z": [
            0.00019121600457011853,
            4.010365585612842e-15,
            null,
            4.010365585612842e-15,
            -0.00006373869682586293,
            null,
            -0.00006373869682586293,
            0.00019121600457011853,
            null,
            -0.1551568937376506,
            -0.1549685029814965,
            null,
            -0.1549685029814965,
            -0.2550008246239052,
            null,
            -0.2550008246239052,
            -0.1551568937376506,
            null
           ]
          },
          {
           "i": [
            0,
            3
           ],
           "j": [
            1,
            4
           ],
           "k": [
            2,
            5
           ],
           "name": "Faces",
           "type": "mesh3d",
           "x": {
            "bdata": "eUOEyFNBUD4g0a32///vP0CdHMJjqxQ+Adm37rX/zz9aa/wXBwD0P8X1x6kIANA/",
            "dtype": "f8"
           },
           "y": {
            "bdata": "19y+Chh2DT4q6SAJ3QcZvqaqXv///+8/5+9OcgIA0D+wrGisCADQP3fDyjj9//M/",
            "dtype": "f8"
           },
           "z": {
            "bdata": "Y4IyeW61EL9ZKOL4JBApPzKpaACjD/I885yN+u5R0L93Ey1cLtzDv/qYGwYC1sO/",
            "dtype": "f8"
           }
          }
         ],
         "layout": {
          "annotations": [
           {
            "showarrow": false,
            "text": "Time: 0.70s (Step: 71/100)",
            "x": 0.05,
            "xref": "paper",
            "y": 0.95,
            "yref": "paper"
           }
          ]
         },
         "name": "70"
        },
        {
         "data": [
          {
           "name": "Free Nodes",
           "type": "scatter3d",
           "x": {
            "bdata": "YkjM49JRUT6chRr2///vP2eyD4+4gBU+LGh4nrP/zz9KkapQBwD0P+bCN+8IANA/",
            "dtype": "f8"
           },
           "y": {
            "bdata": "WNf1d7dRDz6v80VCIqAZvnNgVP///+8/tC7ThQIA0D9yf+3xCADQP2lEjCL9//M/",
            "dtype": "f8"
           },
           "z": {
            "bdata": "91WR7Bk7Eb/otXMgptgpP5GJyLjEu/M8D3xVm9qj0L9d3meHLoDEvzaLm87QecS/",
            "dtype": "f8"
           }
          },
          {
           "name": "Fixed Nodes",
           "type": "scatter3d",
           "x": [],
           "y": [],
           "z": []
          },
          {
           "name": "Edges",
           "type": "scatter3d",
           "x": [
            0.9999999815665208,
            1.2516286308124207e-9,
            null,
            1.2516286308124207e-9,
            1.6130156976655845e-8,
            null,
            1.6130156976655845e-8,
            0.9999999815665208,
            null,
            1.250006976225523,
            0.25000213013758665,
            null,
            0.25000213013758665,
            0.2499908946782069,
            null,
            0.2499908946782069,
            1.250006976225523,
            null
           ],
           "y": [
            -1.4916017389053958e-9,
            0.9999999987512765,
            null,
            0.9999999987512765,
            9.115088544375766e-10,
            null,
            9.115088544375766e-10,
            -1.4916017389053958e-9,
            null,
            0.2500021326613854,
            1.2499972676780777,
            null,
            1.2499972676780777,
            0.25000060147133785,
            null,
            0.25000060147133785,
            0.2500021326613854,
            null
           ],
           "z": [
            0.00019719150461787395,
            4.381710657997336e-15,
            null,
            4.381710657997336e-15,
            -0.00006573053100685637,
            null,
            -0.00006573053100685637,
            0.00019719150461787395,
            null,
            -0.16016179668052902,
            -0.15996751869450926,
            null,
            -0.15996751869450926,
            -0.2600008503849844,
            null,
            -0.2600008503849844,
            -0.16016179668052902,
            null
           ]
          },
          {
           "i": [
            0,
            3
           ],
           "j": [
            1,
            4
           ],
           "k": [
            2,
            5
           ],
           "name": "Faces",
           "type": "mesh3d",
           "x": {
            "bdata": "YkjM49JRUT6chRr2///vP2eyD4+4gBU+LGh4nrP/zz9KkapQBwD0P+bCN+8IANA/",
            "dtype": "f8"
           },
           "y": {
            "bdata": "WNf1d7dRDz6v80VCIqAZvnNgVP///+8/tC7ThQIA0D9yf+3xCADQP2lEjCL9//M/",
            "dtype": "f8"
           },
           "z": {
            "bdata": "91WR7Bk7Eb/otXMgptgpP5GJyLjEu/M8D3xVm9qj0L9d3meHLoDEvzaLm87QecS/",
            "dtype": "f8"
           }
          }
         ],
         "layout": {
          "annotations": [
           {
            "showarrow": false,
            "text": "Time: 0.71s (Step: 72/100)",
            "x": 0.05,
            "xref": "paper",
            "y": 0.95,
            "yref": "paper"
           }
          ]
         },
         "name": "71"
        },
        {
         "data": [
          {
           "name": "Free Nodes",
           "type": "scatter3d",
           "x": {
            "bdata": "cLapL/RqUj670YL1///vP8FiCeb1WBY+D4A9TrH/zz/+o1eJBwD0P5yYqTQJANA/",
            "dtype": "f8"
           },
           "y": {
            "bdata": "pawKtfCdED5yxl7xfjUavtLESf///+8/3JBWmQIA0D/HWnQ3CQDQP196TQz9//M/",
            "dtype": "f8"
           },
           "z": {
            "bdata": "7nTmX8XAEb/uZQBIJ6EqP0bIW+W4gfU8TTcdPMb10L/uHKOyLiTFv4JRG5efHcW/",
            "dtype": "f8"
           }
          },
          {
           "name": "Fixed Nodes",
           "type": "scatter3d",
           "x": [],
           "y": [],
           "z": []
          },
          {
           "name": "Edges",
           "type": "scatter3d",
           "x": [
            0.9999999804627387,
            1.3007958253481136e-9,
            null,
            1.3007958253481136e-9,
            1.7152902191005516e-8,
            null,
            1.7152902191005516e-8,
            0.9999999804627387,
            null,
            1.2500071873603242,
            0.2500021948129729,
            null,
            0.2500021948129729,
            0.24999061889957416,
            null,
            0.24999061889957416,
            1.2500071873603242,
            null
           ],
           "y": [
            -1.5255627364506847e-9,
            0.9999999986740937,
            null,
            0.9999999986740937,
            9.672340325953573e-10,
            null,
            9.672340325953573e-10,
            -1.5255627364506847e-9,
            null,
            0.2500021974132491,
            1.2499971848079878,
            null,
            1.2499971848079878,
            0.25000061964443687,
            null,
            0.25000061964443687,
            0.2500021974132491,
            null
           ],
           "z": [
            0.00020316700465698674,
            4.77545281941014e-15,
            null,
            4.77545281941014e-15,
            -0.00006772236517922959,
            null,
            -0.00006772236517922959,
            0.00020316700465698674,
            null,
            -0.1651666996242293,
            -0.16496653440720982,
            null,
            -0.16496653440720982,
            -0.26500087614555384,
            null,
            -0.26500087614555384,
            -0.1651666996242293,
            null
           ]
          },
          {
           "i": [
            0,
            3
           ],
           "j": [
            1,
            4
           ],
           "k": [
            2,
            5
           ],
           "name": "Faces",
           "type": "mesh3d",
           "x": {
            "bdata": "cLapL/RqUj670YL1///vP8FiCeb1WBY+D4A9TrH/zz/+o1eJBwD0P5yYqTQJANA/",
            "dtype": "f8"
           },
           "y": {
            "bdata": "pawKtfCdED5yxl7xfjUavtLESf///+8/3JBWmQIA0D/HWnQ3CQDQP196TQz9//M/",
            "dtype": "f8"
           },
           "z": {
            "bdata": "7nTmX8XAEb/uZQBIJ6EqP0bIW+W4gfU8TTcdPMb10L/uHKOyLiTFv4JRG5efHcW/",
            "dtype": "f8"
           }
          }
         ],
         "layout": {
          "annotations": [
           {
            "showarrow": false,
            "text": "Time: 0.72s (Step: 73/100)",
            "x": 0.05,
            "xref": "paper",
            "y": 0.95,
            "yref": "paper"
           }
          ]
         },
         "name": "72"
        },
        {
         "data": [
          {
           "name": "Free Nodes",
           "type": "scatter3d",
           "x": {
            "bdata": "UiUjp7eMUz6Ateb0///vP6QtO8EbNBc+riAH/q7/zz91owPCBwD0P+h2HXoJANA/",
            "dtype": "f8"
           },
           "y": {
            "bdata": "q8i47UqaET51vTkc88cavsPXPv///+8/WRbZrAIA0D+wPv18CQDQP1tlDvb8//M/",
            "dtype": "f8"
           },
           "z": {
            "bdata": "OpYx03BGEr/ME4hvqGkrP3/xaOhAYvc8rs7k3LFH0b8oz97dLsjFv9/rml9uwcW/",
            "dtype": "f8"
           }
          },
          {
           "name": "Fixed Nodes",
           "type": "scatter3d",
           "x": [],
           "y": [],
           "z": []
          },
          {
           "name": "Edges",
           "type": "scatter3d",
           "x": [
            0.999999979326887,
            1.3506242833554074e-9,
            null,
            1.3506242833554074e-9,
            1.8207055815083096e-8,
            null,
            1.8207055815083096e-8,
            0.999999979326887,
            null,
            1.25000739847948,
            0.25000225949575716,
            null,
            0.25000225949575716,
            0.24999034312918894,
            null,
            0.24999034312918894,
            1.25000739847948,
            null
           ],
           "y": [
            -1.5588624704463814e-9,
            0.9999999985945965,
            null,
            0.9999999985945965,
            1.0246123315134774e-9,
            null,
            1.0246123315134774e-9,
            -1.5588624704463814e-9,
            null,
            0.25000226217251065,
            1.249997101933636,
            null,
            1.249997101933636,
            0.2500006378144,
            null,
            0.2500006378144,
            0.25000226217251065,
            null
           ],
           "z": [
            0.00020914250468720278,
            5.192247279952958e-15,
            null,
            5.192247279952958e-15,
            -0.00006971419934272911,
            null,
            -0.00006971419934272911,
            0.00020914250468720278,
            null,
            -0.1701716025687514,
            -0.1699655501195982,
            null,
            -0.1699655501195982,
            -0.27000090190561365,
            null,
            -0.27000090190561365,
            -0.1701716025687514,
            null
           ]
          },
          {
           "i": [
            0,
            3
           ],
           "j": [
            1,
            4
           ],
           "k": [
            2,
            5
           ],
           "name": "Faces",
           "type": "mesh3d",
           "x": {
            "bdata": "UiUjp7eMUz6Ateb0///vP6QtO8EbNBc+riAH/q7/zz91owPCBwD0P+h2HXoJANA/",
            "dtype": "f8"
           },
           "y": {
            "bdata": "q8i47UqaET51vTkc88cavsPXPv///+8/WRbZrAIA0D+wPv18CQDQP1tlDvb8//M/",
            "dtype": "f8"
           },
           "z": {
            "bdata": "OpYx03BGEr/ME4hvqGkrP3/xaOhAYvc8rs7k3LFH0b8oz97dLsjFv9/rml9uwcW/",
            "dtype": "f8"
           }
          }
         ],
         "layout": {
          "annotations": [
           {
            "showarrow": false,
            "text": "Time: 0.73s (Step: 74/100)",
            "x": 0.05,
            "xref": "paper",
            "y": 0.95,
            "yref": "paper"
           }
          ]
         },
         "name": "73"
        },
        {
         "data": [
          {
           "name": "Free Nodes",
           "type": "scatter3d",
           "x": {
            "bdata": "ERcMTh23VD7pMEb0///vP9QjzRgqEhg+EErVraz/zz+wj676BwD0P8Ndk78JANA/",
            "dtype": "f8"
           },
           "y": {
            "bdata": "eZwLVuqdEj5Eo67KflcbvkeZM////+8/Nb9awAIA0D8mK4jCCQDQP1wFz9/8//M/",
            "dtype": "f8"
           },
           "z": {
            "bdata": "w3ByRhzMEr/emgqXKTIsP3GqG5keXvk8MkKsfZ2Z0b8I9RoJL2zGv1BaGig9Zca/",
            "dtype": "f8"
           }
          },
          {
           "name": "Fixed Nodes",
           "type": "scatter3d",
           "x": [],
           "y": [],
           "z": []
          },
          {
           "name": "Edges",
           "type": "scatter3d",
           "x": [
            0.9999999781589654,
            1.401113977621715e-9,
            null,
            1.401113977621715e-9,
            1.9292618061285514e-8,
            null,
            1.9292618061285514e-8,
            0.9999999781589654,
            null,
            1.2500076095829904,
            0.250002324185939,
            null,
            0.250002324185939,
            0.24999006736705143,
            null,
            0.24999006736705143,
            1.2500076095829904,
            null
           ],
           "y": [
            -1.5915009681031306e-9,
            0.9999999985127851,
            null,
            0.9999999985127851,
            1.0836436957670099e-9,
            null,
            1.0836436957670099e-9,
            -1.5915009681031306e-9,
            null,
            0.2500023269391697,
            1.249997019055022,
            null,
            1.249997019055022,
            0.25000065598122784,
            null,
            0.25000065598122784,
            0.2500023269391697,
            null
           ],
           "z": [
            0.00021511800470826783,
            5.63275079681879e-15,
            null,
            5.63275079681879e-15,
            -0.00007170603349710134,
            null,
            -0.00007170603349710134,
            0.00021511800470826783,
            null,
            -0.17517650551409525,
            -0.17496456583167452,
            null,
            -0.17496456583167452,
            -0.2750009276651638,
            null,
            -0.2750009276651638,
            -0.17517650551409525,
            null
           ]
          },
          {
           "i": [
            0,
            3
           ],
           "j": [
            1,
            4
           ],
           "k": [
            2,
            5
           ],
           "name": "Faces",
           "type": "mesh3d",
           "x": {
            "bdata": "ERcMTh23VD7pMEb0///vP9QjzRgqEhg+EErVraz/zz+wj676BwD0P8Ndk78JANA/",
            "dtype": "f8"
           },
           "y": {
            "bdata": "eZwLVuqdEj5Eo67KflcbvkeZM////+8/Nb9awAIA0D8mK4jCCQDQP1wFz9/8//M/",
            "dtype": "f8"
           },
           "z": {
            "bdata": "w3ByRhzMEr/emgqXKTIsP3GqG5keXvk8MkKsfZ2Z0b8I9RoJL2zGv1BaGig9Zca/",
            "dtype": "f8"
           }
          }
         ],
         "layout": {
          "annotations": [
           {
            "showarrow": false,
            "text": "Time: 0.74s (Step: 75/100)",
            "x": 0.05,
            "xref": "paper",
            "y": 0.95,
            "yref": "paper"
           }
          ]
         },
         "name": "74"
        },
        {
         "data": [
          {
           "name": "Free Nodes",
           "type": "scatter3d",
           "x": {
            "bdata": "V6z4IiXqVT73Q6Hz///vPwUt5usg8xg+LfynXar/zz+uaFgzCAD0PzNNCwUKANA/",
            "dtype": "f8"
           },
           "y": {
            "bdata": "4cBuBM+oEz6Ia5b9IeQbvl0JKP///+8/bIvb0wIA0D8vIBUICgDQP2Jaj8n8//M/",
            "dtype": "f8"
           },
           "z": {
            "bdata": "d7uoucdRE7+D1oe+qvosP5/wZXYSdvs82pFzHonr0b+Ljlc0LxDHv9acmfALCce/",
            "dtype": "f8"
           }
          },
          {
           "name": "Fixed Nodes",
           "type": "scatter3d",
           "x": [],
           "y": [],
           "z": []
          },
          {
           "name": "Edges",
           "type": "scatter3d",
           "x": [
            0.9999999769589739,
            1.4522649052048518e-9,
            null,
            1.4522649052048518e-9,
            2.040958885071052e-8,
            null,
            2.040958885071052e-8,
            0.9999999769589739,
            null,
            1.2500078206708554,
            0.2500023888835187,
            null,
            0.2500023888835187,
            0.2499897916131614,
            null,
            0.2499897916131614,
            1.2500078206708554,
            null
           ],
           "y": [
            -1.6234782323611776e-9,
            0.9999999984286593,
            null,
            0.9999999984286593,
            1.1443282031419984e-9,
            null,
            1.1443282031419984e-9,
            -1.6234782323611776e-9,
            null,
            0.2500023917132265,
            1.249996936172146,
            null,
            1.249996936172146,
            0.2500006741449201,
            null,
            0.2500006741449201,
            0.2500023917132265,
            null
           ],
           "z": [
            0.00022109350471992772,
            6.0976155714178464e-15,
            null,
            6.0976155714178464e-15,
            -0.00007369786764209277,
            null,
            -0.00007369786764209277,
            0.00022109350471992772,
            null,
            -0.18018140846026073,
            -0.17996358154343878,
            null,
            -0.17996358154343878,
            -0.2800009534242044,
            null,
            -0.2800009534242044,
            -0.18018140846026073,
            null
           ]
          },
          {
           "i": [
            0,
            3
           ],
           "j": [
            1,
            4
           ],
           "k": [
            2,
            5
           ],
           "name": "Faces",
           "type": "mesh3d",
           "x": {
            "bdata": "V6z4IiXqVT73Q6Hz///vPwUt5usg8xg+LfynXar/zz+uaFgzCAD0PzNNCwUKANA/",
            "dtype": "f8"
           },
           "y": {
            "bdata": "4cBuBM+oEz6Ia5b9IeQbvl0JKP///+8/bIvb0wIA0D8vIBUICgDQP2Jaj8n8//M/",
            "dtype": "f8"
           },
           "z": {
            "bdata": "d7uoucdRE7+D1oe+qvosP5/wZXYSdvs82pFzHonr0b+Ljlc0LxDHv9acmfALCce/",
            "dtype": "f8"
           }
          }
         ],
         "layout": {
          "annotations": [
           {
            "showarrow": false,
            "text": "Time: 0.75s (Step: 76/100)",
            "x": 0.05,
            "xref": "paper",
            "y": 0.95,
            "yref": "paper"
           }
          ]
         },
         "name": "75"
        },
        {
         "data": [
          {
           "name": "Free Nodes",
           "type": "scatter3d",
           "x": {
            "bdata": "QKP8JM8lVz6q7vfy///vP+eZkkQA1xk+BTd/Daj/zz9xLgFsCAD0PzJFhUoKANA/",
            "dtype": "f8"
           },
           "y": {
            "bdata": "jrB/3Pi6FD7aoOSq3G0cvgYoHP///+8/AHtb5wIA0D/FHaRNCgDQP25kT7P8//M/",
            "dtype": "f8"
           },
           "z": {
            "bdata": "RC3ULHPXE78Zov/lK8MtP5GQzF3jqv08p706v3Q90r+um5RfL7THv3KzGLnarMe/",
            "dtype": "f8"
           }
          },
          {
           "name": "Fixed Nodes",
           "type": "scatter3d",
           "x": [],
           "y": [],
           "z": []
          },
          {
           "name": "Edges",
           "type": "scatter3d",
           "x": [
            0.9999999757269127,
            1.5040771009661893e-9,
            null,
            1.5040771009661893e-9,
            2.1557968132127958e-8,
            null,
            2.1557968132127958e-8,
            0.9999999757269127,
            null,
            1.2500080317430753,
            0.25000245358849604,
            null,
            0.25000245358849604,
            0.24998951586751886,
            null,
            0.24998951586751886,
            1.2500080317430753,
            null
           ],
           "y": [
            -1.6547942283572072e-9,
            0.9999999983422192,
            null,
            0.9999999983422192,
            1.206665755158722e-9,
            null,
            1.206665755158722e-9,
            -1.6547942283572072e-9,
            null,
            0.25000245649468084,
            1.2499968532850079,
            null,
            1.2499968532850079,
            0.25000069230547695,
            null,
            0.25000069230547695,
            0.25000245649468084,
            null
           ],
           "z": [
            0.00022706900472192827,
            6.587515385620543e-15,
            null,
            6.587515385620543e-15,
            -0.00007568970177744989,
            null,
            -0.00007568970177744989,
            0.00022706900472192827,
            null,
            -0.18518631140724778,
            -0.184962597254891,
            null,
            -0.184962597254891,
            -0.2850009791827354,
            null,
            -0.2850009791827354,
            -0.18518631140724778,
            null
           ]
          },
          {
           "i": [
            0,
            3
           ],
           "j": [
            1,
            4
           ],
           "k": [
            2,
            5
           ],
           "name": "Faces",
           "type": "mesh3d",
           "x": {
            "bdata": "QKP8JM8lVz6q7vfy///vP+eZkkQA1xk+BTd/Daj/zz9xLgFsCAD0PzJFhUoKANA/",
            "dtype": "f8"
           },
           "y": {
            "bdata": "jrB/3Pi6FD7aoOSq3G0cvgYoHP///+8/AHtb5wIA0D/FHaRNCgDQP25kT7P8//M/",
            "dtype": "f8"
           },
           "z": {
            "bdata": "RC3ULHPXE78Zov/lK8MtP5GQzF3jqv08p706v3Q90r+um5RfL7THv3KzGLnarMe/",
            "dtype": "f8"
           }
          }
         ],
         "layout": {
          "annotations": [
           {
            "showarrow": false,
            "text": "Time: 0.76s (Step: 77/100)",
            "x": 0.05,
            "xref": "paper",
            "y": 0.95,
            "yref": "paper"
           }
          ]
         },
         "name": "76"
        },
        {
         "data": [
          {
           "name": "Free Nodes",
           "type": "scatter3d",
           "x": {
            "bdata": "cShaVhtqWD4BMUry///vP0FsAzfIvRo+kvpavaX/zz/34KikCAD0P8lFAZAKANA/",
            "dtype": "f8"
           },
           "y": {
            "bdata": "YuZS4GfUFT7AHGi+rvQcvkH1D////+8/7I3a+gIA0D/xIzWTCgDQP38jD538//M/",
            "dtype": "f8"
           },
           "z": {
            "bdata": "FH30nx5dFL/82HENrYsuP2cyPWlY/f88m8UBYGCP0r9tHNKKL1jIvyWel4GpUMi/",
            "dtype": "f8"
           }
          },
          {
           "name": "Fixed Nodes",
           "type": "scatter3d",
           "x": [],
           "y": [],
           "z": []
          },
          {
           "name": "Edges",
           "type": "scatter3d",
           "x": [
            0.9999999744627815,
            1.5565506349588343e-9,
            null,
            1.5565506349588343e-9,
            2.2737756030909417e-8,
            null,
            2.2737756030909417e-8,
            0.9999999744627815,
            null,
            1.2500082427996497,
            0.25000251830087145,
            null,
            0.25000251830087145,
            0.24998924013012364,
            null,
            0.24998924013012364,
            1.2500082427996497,
            null
           ],
           "y": [
            -1.6854488860361696e-9,
            0.9999999982534648,
            null,
            0.9999999982534648,
            1.2706563590336307e-9,
            null,
            1.2706563590336307e-9,
            -1.6854488860361696e-9,
            null,
            0.2500025212835331,
            1.2499967703936077,
            null,
            1.2499967703936077,
            0.25000071046289807,
            null,
            0.25000071046289807,
            0.2500025212835331,
            null
           ],
           "z": [
            0.00023304450471401522,
            7.103124820811704e-15,
            null,
            7.103124820811704e-15,
            -0.00007768153590291912,
            null,
            -0.00007768153590291912,
            0.00023304450471401522,
            null,
            -0.1901912143550563,
            -0.18996161296603123,
            null,
            -0.18996161296603123,
            -0.29000100494075703,
            null,
            -0.29000100494075703,
            -0.1901912143550563,
            null
           ]
          },
          {
           "i": [
            0,
            3
           ],
           "j": [
            1,
            4
           ],
           "k": [
            2,
            5
           ],
           "name": "Faces",
           "type": "mesh3d",
           "x": {
            "bdata": "cShaVhtqWD4BMUry///vP0FsAzfIvRo+kvpavaX/zz/34KikCAD0P8lFAZAKANA/",
            "dtype": "f8"
           },
           "y": {
            "bdata": "YuZS4GfUFT7AHGi+rvQcvkH1D////+8/7I3a+gIA0D/xIzWTCgDQP38jD538//M/",
            "dtype": "f8"
           },
           "z": {
            "bdata": "FH30nx5dFL/82HENrYsuP2cyPWlY/f88m8UBYGCP0r9tHNKKL1jIvyWel4GpUMi/",
            "dtype": "f8"
           }
          }
         ],
         "layout": {
          "annotations": [
           {
            "showarrow": false,
            "text": "Time: 0.77s (Step: 78/100)",
            "x": 0.05,
            "xref": "paper",
            "y": 0.95,
            "yref": "paper"
           }
          ]
         },
         "name": "77"
        },
        {
         "data": [
          {
           "name": "Free Nodes",
           "type": "scatter3d",
           "x": {
            "bdata": "cHzMtwm3WT79Cpjx///vP5Y8a4p4pxs+30Y7baP/zz9AgE/dCAD0P/NOf9UKANA/",
            "dtype": "f8"
           },
           "y": {
            "bdata": "onPNERz1Fj4iIu5wmHgdvhBxA////+8/M8RYDgMA0D+tMsjYCgDQP5WXzob8//M/",
            "dtype": "f8"
           },
           "z": {
            "bdata": "0mEJE8riFL+LVt40LlQvP5tnrA0TNwE9tanIAEzh0r/GEBC2L/zIv/FcFkp49Mi/",
            "dtype": "f8"
           }
          },
          {
           "name": "Fixed Nodes",
           "type": "scatter3d",
           "x": [],
           "y": [],
           "z": []
          },
          {
           "name": "Edges",
           "type": "scatter3d",
           "x": [
            0.9999999731665806,
            1.609685310110011e-9,
            null,
            1.609685310110011e-9,
            2.394895258765871e-8,
            null,
            2.394895258765871e-8,
            0.9999999731665806,
            null,
            1.2500084538405787,
            0.25000258302064465,
            null,
            0.25000258302064465,
            0.24998896440097604,
            null,
            0.24998896440097604,
            1.2500084538405787,
            null
           ],
           "y": [
            -1.7154424024689041e-9,
            0.9999999981623962,
            null,
            0.9999999981623962,
            1.3363000213406142e-9,
            null,
            1.3363000213406142e-9,
            -1.7154424024689041e-9,
            null,
            0.25000258607978304,
            1.2499966874979453,
            null,
            1.2499966874979453,
            0.25000072861718364,
            null,
            0.25000072861718364,
            0.25000258607978304,
            null
           ],
           "z": [
            0.00023902000469593442,
            7.645055469571135e-15,
            null,
            7.645055469571135e-15,
            -0.00007967337001824691,
            null,
            -0.00007967337001824691,
            0.00023902000469593442,
            null,
            -0.1951961173036862,
            -0.1949606286768595,
            null,
            -0.1949606286768595,
            -0.29500103069826916,
            null,
            -0.29500103069826916,
            -0.1951961173036862,
            null
           ]
          },
          {
           "i": [
            0,
            3
           ],
           "j": [
            1,
            4
           ],
           "k": [
            2,
            5
           ],
           "name": "Faces",
           "type": "mesh3d",
           "x": {
            "bdata": "cHzMtwm3WT79Cpjx///vP5Y8a4p4pxs+30Y7baP/zz9AgE/dCAD0P/NOf9UKANA/",
            "dtype": "f8"
           },
           "y": {
            "bdata": "onPNERz1Fj4iIu5wmHgdvhBxA////+8/M8RYDgMA0D+tMsjYCgDQP5WXzob8//M/",
            "dtype": "f8"
           },
           "z": {
            "bdata": "0mEJE8riFL+LVt40LlQvP5tnrA0TNwE9tanIAEzh0r/GEBC2L/zIv/FcFkp49Mi/",
            "dtype": "f8"
           }
          }
         ],
         "layout": {
          "annotations": [
           {
            "showarrow": false,
            "text": "Time: 0.78s (Step: 79/100)",
            "x": 0.05,
            "xref": "paper",
            "y": 0.95,
            "yref": "paper"
           }
          ]
         },
         "name": "78"
        },
        {
         "data": [
          {
           "name": "Free Nodes",
           "type": "scatter3d",
           "x": {
            "bdata": "uLLwSpoMWz6dfOHw///vP2vD+zcRlBw+5BsgHaH/zz9NDPUVCQD0P7Jg/xoLANA/",
            "dtype": "f8"
           },
           "y": {
            "bdata": "u1rsyhUdGD7000TJmfkdvnCb9v7//+8/1R3WIQMA0D/7SV0eCwDQP7DAjXD8//M/",
            "dtype": "f8"
           },
           "z": {
            "bdata": "ZpIShnVoFb8ReyKuVw4wP2kU8rcCfwI992mPoTcz07+1eE7hL6DJv9jvlBJHmMm/",
            "dtype": "f8"
           }
          },
          {
           "name": "Fixed Nodes",
           "type": "scatter3d",
           "x": [],
           "y": [],
           "z": []
          },
          {
           "name": "Edges",
           "type": "scatter3d",
           "x": [
            0.9999999718383098,
            1.6634811028074327e-9,
            null,
            1.6634811028074327e-9,
            2.5191557891947438e-8,
            null,
            2.5191557891947438e-8,
            0.9999999718383098,
            null,
            1.2500086648658624,
            0.2500026477478158,
            null,
            0.2500026477478158,
            0.24998868868007584,
            null,
            0.24998868868007584,
            1.2500086648658624,
            null
           ],
           "y": [
            -1.7447748012657636e-9,
            0.9999999980690131,
            null,
            0.9999999980690131,
            1.4035970542893691e-9,
            null,
            1.4035970542893691e-9,
            -1.7447748012657636e-9,
            null,
            0.2500026508834307,
            1.2499966045980209,
            null,
            1.2499966045980209,
            0.25000074676833367,
            null,
            0.25000074676833367,
            0.2500026508834307,
            null
           ],
           "z": [
            0.0002449955046674316,
            8.213934080277462e-15,
            null,
            8.213934080277462e-15,
            -0.00008166520412317967,
            null,
            -0.00008166520412317967,
            0.0002449955046674316,
            null,
            -0.20020102025313738,
            -0.1999596443873759,
            null,
            -0.1999596443873759,
            -0.3000010564552719,
            null,
            -0.3000010564552719,
            -0.20020102025313738,
            null
           ]
          },
          {
           "i": [
            0,
            3
           ],
           "j": [
            1,
            4
           ],
           "k": [
            2,
            5
           ],
           "name": "Faces",
           "type": "mesh3d",
           "x": {
            "bdata": "uLLwSpoMWz6dfOHw///vP2vD+zcRlBw+5BsgHaH/zz9NDPUVCQD0P7Jg/xoLANA/",
            "dtype": "f8"
           },
           "y": {
            "bdata": "u1rsyhUdGD7000TJmfkdvnCb9v7//+8/1R3WIQMA0D/7SV0eCwDQP7DAjXD8//M/",
            "dtype": "f8"
           },
           "z": {
            "bdata": "ZpIShnVoFb8ReyKuVw4wP2kU8rcCfwI992mPoTcz07+1eE7hL6DJv9jvlBJHmMm/",
            "dtype": "f8"
           }
          }
         ],
         "layout": {
          "annotations": [
           {
            "showarrow": false,
            "text": "Time: 0.79s (Step: 80/100)",
            "x": 0.05,
            "xref": "paper",
            "y": 0.95,
            "yref": "paper"
           }
          ]
         },
         "name": "79"
        },
        {
         "data": [
          {
           "name": "Free Nodes",
           "type": "scatter3d",
           "x": {
            "bdata": "sAvFB81qXD7jhSbw///vP9C/m4uSgx0+qHkJzZ7/zz8ehZlOCQD0PwJ7gWALANA/",
            "dtype": "f8"
           },
           "y": {
            "bdata": "UNdcbFRMGT4cToV7sncevmR06f7//+8/1JpSNQMA0D/YafRjCwDQP9CeTFr8//M/",
            "dtype": "f8"
           },
           "z": {
            "bdata": "y8UP+SDuFb+RydJBmHIwP+UmEsbs1gM9YQZWQiOF0784VI0MMETKv9tWE9sVPMq/",
            "dtype": "f8"
           }
          },
          {
           "name": "Fixed Nodes",
           "type": "scatter3d",
           "x": [],
           "y": [],
           "z": []
          },
          {
           "name": "Edges",
           "type": "scatter3d",
           "x": [
            0.9999999704779693,
            1.717938276386817e-9,
            null,
            1.717938276386817e-9,
            2.646557149930726e-8,
            null,
            2.646557149930726e-8,
            0.9999999704779693,
            null,
            1.2500088758755008,
            0.2500027124823846,
            null,
            0.2500027124823846,
            0.24998841296742325,
            null,
            0.24998841296742325,
            1.2500088758755008,
            null
           ],
           "y": [
            -1.7734458190890697e-9,
            0.9999999979733158,
            null,
            0.9999999979733158,
            1.4725469051161275e-9,
            null,
            1.4725469051161275e-9,
            -1.7734458190890697e-9,
            null,
            0.25000271569447596,
            1.2499965216938342,
            null,
            1.2499965216938342,
            0.25000076491634826,
            null,
            0.25000076491634826,
            0.25000271569447596,
            null
           ],
           "z": [
            0.0002509710046282527,
            8.81053025210787e-15,
            null,
            8.81053025210787e-15,
            -0.00008365703821746407,
            null,
            -0.00008365703821746407,
            0.0002509710046282527,
            null,
            -0.2052059232034098,
            -0.20495866009758043,
            null,
            -0.20495866009758043,
            -0.3050010822117653,
            null,
            -0.3050010822117653,
            -0.2052059232034098,
            null
           ]
          },
          {
           "i": [
            0,
            3
           ],
           "j": [
            1,
            4
           ],
           "k": [
            2,
            5
           ],
           "name": "Faces",
           "type": "mesh3d",
           "x": {
            "bdata": "sAvFB81qXD7jhSbw///vP9C/m4uSgx0+qHkJzZ7/zz8ehZlOCQD0PwJ7gWALANA/",
            "dtype": "f8"
           },
           "y": {
            "bdata": "UNdcbFRMGT4cToV7sncevmR06f7//+8/1JpSNQMA0D/YafRjCwDQP9CeTFr8//M/",
            "dtype": "f8"
           },
           "z": {
            "bdata": "y8UP+SDuFb+RydJBmHIwP+UmEsbs1gM9YQZWQiOF0784VI0MMETKv9tWE9sVPMq/",
            "dtype": "f8"
           }
          }
         ],
         "layout": {
          "annotations": [
           {
            "showarrow": false,
            "text": "Time: 0.80s (Step: 81/100)",
            "x": 0.05,
            "xref": "paper",
            "y": 0.95,
            "yref": "paper"
           }
          ]
         },
         "name": "80"
        },
        {
         "data": [
          {
           "name": "Free Nodes",
           "type": "scatter3d",
           "x": {
            "bdata": "/8RQ+KHRXT7MJmfv///vP1sdrj78dR4+J2D3fJz/zz+z6jyHCQD0P+adBaYLANA/",
            "dtype": "f8"
           },
           "y": {
            "bdata": "lB8ud9iCGj6rgEzO4vIevur72/7//+8/LDvOSAMA0D9Gko2pCwDQP/YxC0T8//M/",
            "dtype": "f8"
           },
           "z": {
            "bdata": "3bIAbMxzFr9zBIDV2NYwP6Gu7qgjPwU99H4c4w7X079Lo8w3MOjKv/uRkaPk38q/",
            "dtype": "f8"
           }
          },
          {
           "name": "Fixed Nodes",
           "type": "scatter3d",
           "x": [],
           "y": [],
           "z": []
          },
          {
           "name": "Edges",
           "type": "scatter3d",
           "x": [
            0.9999999690855588,
            1.7730565858580496e-9,
            null,
            1.7730565858580496e-9,
            2.7770993966419795e-8,
            null,
            2.7770993966419795e-8,
            0.9999999690855588,
            null,
            1.250009086869494,
            0.25000277722435127,
            null,
            0.25000277722435127,
            0.24998813726301813,
            null,
            0.24998813726301813,
            1.250009086869494,
            null
           ],
           "y": [
            -1.8014557009270124e-9,
            0.9999999978753042,
            null,
            0.9999999978753042,
            1.5431500215857032e-9,
            null,
            1.5431500215857032e-9,
            -1.8014557009270124e-9,
            null,
            0.2500027805129189,
            1.2499964387853857,
            null,
            1.2499964387853857,
            0.2500007830612272,
            null,
            0.2500007830612272,
            0.2500027805129189,
            null
           ],
           "z": [
            0.0002569465045781434,
            9.435402626665213e-15,
            null,
            9.435402626665213e-15,
            -0.00008564887230084633,
            null,
            -0.00008564887230084633,
            0.0002569465045781434,
            null,
            -0.21021082615450334,
            -0.20995767580747313,
            null,
            -0.20995767580747313,
            -0.3100011079677494,
            null,
            -0.3100011079677494,
            -0.21021082615450334,
            null
           ]
          },
          {
           "i": [
            0,
            3
           ],
           "j": [
            1,
            4
           ],
           "k": [
            2,
            5
           ],
           "name": "Faces",
           "type": "mesh3d",
           "x": {
            "bdata": "/8RQ+KHRXT7MJmfv///vP1sdrj78dR4+J2D3fJz/zz+z6jyHCQD0P+adBaYLANA/",
            "dtype": "f8"
           },
           "y": {
            "bdata": "lB8ud9iCGj6rgEzO4vIevur72/7//+8/LDvOSAMA0D9Gko2pCwDQP/YxC0T8//M/",
            "dtype": "f8"
           },
           "z": {
            "bdata": "3bIAbMxzFr9zBIDV2NYwP6Gu7qgjPwU99H4c4w7X079Lo8w3MOjKv/uRkaPk38q/",
            "dtype": "f8"
           }
          }
         ],
         "layout": {
          "annotations": [
           {
            "showarrow": false,
            "text": "Time: 0.81s (Step: 82/100)",
            "x": 0.05,
            "xref": "paper",
            "y": 0.95,
            "yref": "paper"
           }
          ]
         },
         "name": "81"
        },
        {
         "data": [
          {
           "name": "Free Nodes",
           "type": "scatter3d",
           "x": {
            "bdata": "sMBtExlBXz5aX6Pu///vP8xDKp5Oax8+aM/pLJr/zz8KPd+/CQD0P2DJi+sLANA/",
            "dtype": "f8"
           },
           "y": {
            "bdata": "D0u7qKHAGz703qJ0KmsfvgEyzv7//+8/3v5IXAMA0D9HwyjvCwDQPyF6yS38//M/",
            "dtype": "f8"
           },
           "z": {
            "bdata": "lxDl3nf5Fr9nGSppGTsxP08AXsUVuAY9sdPig/oo1L/sZQxjMIzLvzqhD2yzg8u/",
            "dtype": "f8"
           }
          },
          {
           "name": "Fixed Nodes",
           "type": "scatter3d",
           "x": [],
           "y": [],
           "z": []
          },
          {
           "name": "Edges",
           "type": "scatter3d",
           "x": [
            0.9999999676610785,
            1.8288362982520658e-9,
            null,
            1.8288362982520658e-9,
            2.910782478541937e-8,
            null,
            2.910782478541937e-8,
            0.9999999676610785,
            null,
            1.2500092978478414,
            0.2500028419737159,
            null,
            0.2500028419737159,
            0.2499878615668607,
            null,
            0.2499878615668607,
            1.2500092978478414,
            null
           ],
           "y": [
            -1.8288041797467017e-9,
            0.9999999977749782,
            null,
            0.9999999977749782,
            1.6154061724796763e-9,
            null,
            1.6154061724796763e-9,
            -1.8288041797467017e-9,
            null,
            0.25000284533875966,
            1.249996355872675,
            null,
            1.249996355872675,
            0.2500008012029705,
            null,
            0.2500008012029705,
            0.25000284533875966,
            null
           ],
           "z": [
            0.0002629220045168496,
            1.0089299262082327e-14,
            null,
            1.0089299262082327e-14,
            -0.00008764070637307313,
            null,
            -0.00008764070637307313,
            0.0002629220045168496,
            null,
            -0.21521572910641795,
            -0.21495669151705404,
            null,
            -0.21495669151705404,
            -0.3150011337232242,
            null,
            -0.3150011337232242,
            -0.21521572910641795,
            null
           ]
          },
          {
           "i": [
            0,
            3
           ],
           "j": [
            1,
            4
           ],
           "k": [
            2,
            5
           ],
           "name": "Faces",
           "type": "mesh3d",
           "x": {
            "bdata": "sMBtExlBXz5aX6Pu///vP8xDKp5Oax8+aM/pLJr/zz8KPd+/CQD0P2DJi+sLANA/",
            "dtype": "f8"
           },
           "y": {
            "bdata": "D0u7qKHAGz703qJ0KmsfvgEyzv7//+8/3v5IXAMA0D9HwyjvCwDQPyF6yS38//M/",
            "dtype": "f8"
           },
           "z": {
            "bdata": "lxDl3nf5Fr9nGSppGTsxP08AXsUVuAY9sdPig/oo1L/sZQxjMIzLvzqhD2yzg8u/",
            "dtype": "f8"
           }
          }
         ],
         "layout": {
          "annotations": [
           {
            "showarrow": false,
            "text": "Time: 0.82s (Step: 83/100)",
            "x": 0.05,
            "xref": "paper",
            "y": 0.95,
            "yref": "paper"
           }
          ]
         },
         "name": "82"
        },
        {
         "data": [
          {
           "name": "Free Nodes",
           "type": "scatter3d",
           "x": {
            "bdata": "KaVhL5lcYD6NL9vt///vP+U1uarEMSA+X8fg3Jf/zz8lfID4CQD0P239EzEMANA/",
            "dtype": "f8"
           },
           "y": {
            "bdata": "Gzqf8K8FHT7JCybDieAfvq0WwP7//+8/7eXCbwMA0D/Y/MU0DADQP1F3hxf8//M/",
            "dtype": "f8"
           },
           "z": {
            "bdata": "3ZW8USN/F78c9tD8WZ8xP+SsQY4ZQgg9mQSpJOZ61L8XnEyOMDDMv5qEjTSCJ8y/",
            "dtype": "f8"
           }
          },
          {
           "name": "Fixed Nodes",
           "type": "scatter3d",
           "x": [],
           "y": [],
           "z": []
          },
          {
           "name": "Edges",
           "type": "scatter3d",
           "x": [
            0.9999999662045284,
            1.8852771199970212e-9,
            null,
            1.8852771199970212e-9,
            3.047606427013809e-8,
            null,
            3.047606427013809e-8,
            0.9999999662045284,
            null,
            1.2500095088105436,
            0.25000290673047837,
            null,
            0.25000290673047837,
            0.24998758587895062,
            null,
            0.24998758587895062,
            1.2500095088105436,
            null
           ],
           "y": [
            -1.855491549118048e-9,
            0.999999997672338,
            null,
            0.999999997672338,
            1.6893153009164149e-9,
            null,
            1.6893153009164149e-9,
            -1.855491549118048e-9,
            null,
            0.25000291017199805,
            1.2499962729557021,
            null,
            1.2499962729557021,
            0.2500008193415784,
            null,
            0.2500008193415784,
            0.25000291017199805,
            null
           ],
           "z": [
            0.00026889750444411705,
            1.0772805957904799e-14,
            null,
            1.0772805957904799e-14,
            -0.00008963254043389082,
            null,
            -0.00008963254043389082,
            0.00026889750444411705,
            null,
            -0.22022063205915351,
            -0.21995570722632324,
            null,
            -0.21995570722632324,
            -0.3200011594781898,
            null,
            -0.3200011594781898,
            -0.22022063205915351,
            null
           ]
          },
          {
           "i": [
            0,
            3
           ],
           "j": [
            1,
            4
           ],
           "k": [
            2,
            5
           ],
           "name": "Faces",
           "type": "mesh3d",
           "x": {
            "bdata": "KaVhL5lcYD6NL9vt///vP+U1uarEMSA+X8fg3Jf/zz8lfID4CQD0P239EzEMANA/",
            "dtype": "f8"
           },
           "y": {
            "bdata": "Gzqf8K8FHT7JCybDieAfvq0WwP7//+8/7eXCbwMA0D/Y/MU0DADQP1F3hxf8//M/",
            "dtype": "f8"
           },
           "z": {
            "bdata": "3ZW8USN/F78c9tD8WZ8xP+SsQY4ZQgg9mQSpJOZ61L8XnEyOMDDMv5qEjTSCJ8y/",
            "dtype": "f8"
           }
          }
         ],
         "layout": {
          "annotations": [
           {
            "showarrow": false,
            "text": "Time: 0.83s (Step: 84/100)",
            "x": 0.05,
            "xref": "paper",
            "y": 0.95,
            "yref": "paper"
           }
          ]
         },
         "name": "83"
        },
        {
         "data": [
          {
           "name": "Free Nodes",
           "type": "scatter3d",
           "x": {
            "bdata": "3rCo7PYcYT5llw7t///vP4Ir10BWryA+BkjcjJX/zz8EqCAxCgD0PxI6nnYMANA/",
            "dtype": "f8"
           },
           "y": {
            "bdata": "DAA7nQNSHj50EFdOgCkgvuqpsf7//+8/VPA7gwMA0D/+PmV6DADQP4YpRQH8//M/",
            "dtype": "f8"
           },
           "z": {
            "bdata": "m/mGxM4EGL9BiHSQmgMyPzWxS4uQ3Qk9rRFvxdHM1L/IRY25MNTMvxs8C/1Qy8y/",
            "dtype": "f8"
           }
          },
          {
           "name": "Fixed Nodes",
           "type": "scatter3d",
           "x": [],
           "y": [],
           "z": []
          },
          {
           "name": "Edges",
           "type": "scatter3d",
           "x": [
            0.9999999647159085,
            1.9423791522456798e-9,
            null,
            1.9423791522456798e-9,
            3.1875712365064677e-8,
            null,
            3.1875712365064677e-8,
            0.9999999647159085,
            null,
            1.2500097197576006,
            0.2500029714946389,
            null,
            0.2500029714946389,
            0.24998731019928772,
            null,
            0.24998731019928772,
            1.2500097197576006,
            null
           ],
           "y": [
            -1.8815177078863516e-9,
            0.9999999975673834,
            null,
            0.9999999975673834,
            1.7648776788283994e-9,
            null,
            1.7648776788283994e-9,
            -1.8815177078863516e-9,
            null,
            0.25000297501263435,
            1.2499961900344672,
            null,
            1.2499961900344672,
            0.2500008374770506,
            null,
            0.2500008374770506,
            0.25000297501263435,
            null
           ],
           "z": [
            0.0002748730043596916,
            1.1486583603523433e-14,
            null,
            1.1486583603523433e-14,
            -0.00009162437448304585,
            null,
            -0.00009162437448304585,
            0.0002748730043596916,
            null,
            -0.22522553501270992,
            -0.2249547229352807,
            null,
            -0.2249547229352807,
            -0.32500118523264626,
            null,
            -0.32500118523264626,
            -0.22522553501270992,
            null
           ]
          },
          {
           "i": [
            0,
            3
           ],
           "j": [
            1,
            4
           ],
           "k": [
            2,
            5
           ],
           "name": "Faces",
           "type": "mesh3d",
           "x": {
            "bdata": "3rCo7PYcYT5llw7t///vP4Ir10BWryA+BkjcjJX/zz8EqCAxCgD0PxI6nnYMANA/",
            "dtype": "f8"
           },
           "y": {
            "bdata": "DAA7nQNSHj50EFdOgCkgvuqpsf7//+8/VPA7gwMA0D/+PmV6DADQP4YpRQH8//M/",
            "dtype": "f8"
           },
           "z": {
            "bdata": "m/mGxM4EGL9BiHSQmgMyPzWxS4uQ3Qk9rRFvxdHM1L/IRY25MNTMvxs8C/1Qy8y/",
            "dtype": "f8"
           }
          }
         ],
         "layout": {
          "annotations": [
           {
            "showarrow": false,
            "text": "Time: 0.84s (Step: 85/100)",
            "x": 0.05,
            "xref": "paper",
            "y": 0.95,
            "yref": "paper"
           }
          ]
         },
         "name": "84"
        },
        {
         "data": [
          {
           "name": "Free Nodes",
           "type": "scatter3d",
           "x": {
            "bdata": "cpKBwaXhYT7ilj3s///vPy66NhJcLiE+cVHcPJP/zz+mwL9pCgD0P0h/KrwMANA/",
            "dtype": "f8"
           },
           "y": {
            "bdata": "7Ik9dZylHz5TxdV/R2Egvrrrov7//+8/GB60lgMA0D+xiQbADADQP8CQAuv7//M/",
            "dtype": "f8"
           },
           "z": {
            "bdata": "v/JDN3qKGL+FvRQk22cyP/gmKtLeigs97fo0Zr0e1b/+Ys7kMHjNv8DHiMUfb82/",
            "dtype": "f8"
           }
          },
          {
           "name": "Fixed Nodes",
           "type": "scatter3d",
           "x": [],
           "y": [],
           "z": []
          },
          {
           "name": "Edges",
           "type": "scatter3d",
           "x": [
            0.9999999631952188,
            2.0001424004113698e-9,
            null,
            2.0001424004113698e-9,
            3.330676906567085e-8,
            null,
            3.330676906567085e-8,
            0.9999999631952188,
            null,
            1.250009930689012,
            0.25000303626619713,
            null,
            0.25000303626619713,
            0.24998703452787255,
            null,
            0.24998703452787255,
            1.250009930689012,
            null
           ],
           "y": [
            -1.9068826506363363e-9,
            0.9999999974601146,
            null,
            0.9999999974601146,
            1.8420931073583952e-9,
            null,
            1.8420931073583952e-9,
            -1.9068826506363363e-9,
            null,
            0.25000303986066813,
            1.24999610710897,
            null,
            1.24999610710897,
            0.25000085560938734,
            null,
            0.25000085560938734,
            0.25000303986066813,
            null
           ],
           "z": [
            0.0002808485042633191,
            1.2231310399162968e-14,
            null,
            1.2231310399162968e-14,
            -0.00009361620852028472,
            null,
            -0.00009361620852028472,
            0.0002808485042633191,
            null,
            -0.23023043796708714,
            -0.22995373864392654,
            null,
            -0.22995373864392654,
            -0.3300012109865936,
            null,
            -0.3300012109865936,
            -0.23023043796708714,
            null
           ]
          },
          {
           "i": [
            0,
            3
           ],
           "j": [
            1,
            4
           ],
           "k": [
            2,
            5
           ],
           "name": "Faces",
           "type": "mesh3d",
           "x": {
            "bdata": "cpKBwaXhYT7ilj3s///vPy66NhJcLiE+cVHcPJP/zz+mwL9pCgD0P0h/KrwMANA/",
            "dtype": "f8"
           },
           "y": {
            "bdata": "7Ik9dZylHz5TxdV/R2Egvrrrov7//+8/GB60lgMA0D+xiQbADADQP8CQAuv7//M/",
            "dtype": "f8"
           },
           "z": {
            "bdata": "v/JDN3qKGL+FvRQk22cyP/gmKtLeigs97fo0Zr0e1b/+Ys7kMHjNv8DHiMUfb82/",
            "dtype": "f8"
           }
          }
         ],
         "layout": {
          "annotations": [
           {
            "showarrow": false,
            "text": "Time: 0.85s (Step: 86/100)",
            "x": 0.05,
            "xref": "paper",
            "y": 0.95,
            "yref": "paper"
           }
          ]
         },
         "name": "85"
        },
        {
         "data": [
          {
           "name": "Free Nodes",
           "type": "scatter3d",
           "x": {
            "bdata": "JvrrraWqYj4DLmjr///vPwG0KSTWriE+luPg7JD/zz8Mxl2iCgD0PxHNuAENANA/",
            "dtype": "f8"
           },
           "y": {
            "bdata": "nkMARz2AID4VQL1wmpcgvhzck/7//+8/N28rqgMA0D/03KkFDQDQP/+sv9T7//M/",
            "dtype": "f8"
           },
           "z": {
            "bdata": "NTjzqSUQGb+Wg7G3G8wyPwUbahRmSg09WsD6Bqlw1b+18w8QMRzOv4onBo7uEs6/",
            "dtype": "f8"
           }
          },
          {
           "name": "Fixed Nodes",
           "type": "scatter3d",
           "x": [],
           "y": [],
           "z": []
          },
          {
           "name": "Edges",
           "type": "scatter3d",
           "x": [
            0.9999999616424592,
            2.0585669014063147e-9,
            null,
            2.0585669014063147e-9,
            3.4769234371821524e-8,
            null,
            3.4769234371821524e-8,
            0.9999999616424592,
            null,
            1.2500101416047782,
            0.25000310104515316,
            null,
            0.25000310104515316,
            0.24998675886470484,
            null,
            0.24998675886470484,
            1.2500101416047782,
            null
           ],
           "y": [
            -1.931586340453838e-9,
            0.9999999973505314,
            null,
            0.9999999973505314,
            1.9209616605802543e-9,
            null,
            1.9209616605802543e-9,
            -1.931586340453838e-9,
            null,
            0.25000310471609954,
            1.2499960241792107,
            null,
            1.2499960241792107,
            0.25000087373858854,
            null,
            0.25000087373858854,
            0.25000310471609954,
            null
           ],
           "z": [
            0.0002868240041547452,
            1.3007648342125707e-14,
            null,
            1.3007648342125707e-14,
            -0.00009560804254535387,
            null,
            -0.00009560804254535387,
            0.0002868240041547452,
            null,
            -0.23523534092228507,
            -0.23495275435226076,
            null,
            -0.23495275435226076,
            -0.3350012367400318,
            null,
            -0.3350012367400318,
            -0.23523534092228507,
            null
           ]
          },
          {
           "i": [
            0,
            3
           ],
           "j": [
            1,
            4
           ],
           "k": [
            2,
            5
           ],
           "name": "Faces",
           "type": "mesh3d",
           "x": {
            "bdata": "JvrrraWqYj4DLmjr///vPwG0KSTWriE+luPg7JD/zz8Mxl2iCgD0PxHNuAENANA/",
            "dtype": "f8"
           },
           "y": {
            "bdata": "nkMARz2AID4VQL1wmpcgvhzck/7//+8/N28rqgMA0D/03KkFDQDQP/+sv9T7//M/",
            "dtype": "f8"
           },
           "z": {
            "bdata": "NTjzqSUQGb+Wg7G3G8wyPwUbahRmSg09WsD6Bqlw1b+18w8QMRzOv4onBo7uEs6/",
            "dtype": "f8"
           }
          }
         ],
         "layout": {
          "annotations": [
           {
            "showarrow": false,
            "text": "Time: 0.86s (Step: 87/100)",
            "x": 0.05,
            "xref": "paper",
            "y": 0.95,
            "yref": "paper"
           }
          ]
         },
         "name": "86"
        },
        {
         "data": [
          {
           "name": "Free Nodes",
           "type": "scatter3d",
           "x": {
            "bdata": "WfR3sfZ3Yz7JXI7q///vP6p/G3DEMCI+b/7pnI7/zz82uPraCgD0P3EjSUcNANA/",
            "dtype": "f8"
           },
           "y": {
            "bdata": "Cu7d7E4xIT62B6InecwgvhF7hP7//+8/q+OhvQMA0D/LOE9LDQDQP0R+fL77//M/",
            "dtype": "f8"
           },
           "z": {
            "bdata": "64CUHNGVGb8kyEpLXDAzP5oaJTmGHA899mHAp5TC1b/q91E7McDOv3lbg1a9ts6/",
            "dtype": "f8"
           }
          },
          {
           "name": "Fixed Nodes",
           "type": "scatter3d",
           "x": [],
           "y": [],
           "z": []
          },
          {
           "name": "Edges",
           "type": "scatter3d",
           "x": [
            0.9999999600576298,
            2.11765260956937e-9,
            null,
            2.11765260956937e-9,
            3.626310823496539e-8,
            null,
            3.626310823496539e-8,
            0.9999999600576298,
            null,
            1.2500103525048991,
            0.2500031658315072,
            null,
            0.2500031658315072,
            0.24998648320978442,
            null,
            0.24998648320978442,
            1.2500103525048991,
            null
           ],
           "y": [
            -1.9556288229980606e-9,
            0.9999999972386339,
            null,
            0.9999999972386339,
            2.0014832906791835e-9,
            null,
            2.0014832906791835e-9,
            -1.9556288229980606e-9,
            null,
            0.2500031695789288,
            1.2499959412451895,
            null,
            1.2499959412451895,
            0.25000089186465385,
            null,
            0.25000089186465385,
            0.2500031695789288,
            null
           ],
           "z": [
            0.00029279950403371586,
            1.381624729461264e-14,
            null,
            1.381624729461264e-14,
            -0.00009759987655799981,
            null,
            -0.00009759987655799981,
            0.00029279950403371586,
            null,
            -0.24024024387830362,
            -0.23995177006028337,
            null,
            -0.23995177006028337,
            -0.34000126249296103,
            null,
            -0.34000126249296103,
            -0.24024024387830362,
            null
           ]
          },
          {
           "i": [
            0,
            3
           ],
           "j": [
            1,
            4
           ],
           "k": [
            2,
            5
           ],
           "name": "Faces",
           "type": "mesh3d",
           "x": {
            "bdata": "WfR3sfZ3Yz7JXI7q///vP6p/G3DEMCI+b/7pnI7/zz82uPraCgD0P3EjSUcNANA/",
            "dtype": "f8"
           },
           "y": {
            "bdata": "Cu7d7E4xIT62B6InecwgvhF7hP7//+8/q+OhvQMA0D/LOE9LDQDQP0R+fL77//M/",
            "dtype": "f8"
           },
           "z": {
            "bdata": "64CUHNGVGb8kyEpLXDAzP5oaJTmGHA899mHAp5TC1b/q91E7McDOv3lbg1a9ts6/",
            "dtype": "f8"
           }
          }
         ],
         "layout": {
          "annotations": [
           {
            "showarrow": false,
            "text": "Time: 0.87s (Step: 88/100)",
            "x": 0.05,
            "xref": "paper",
            "y": 0.95,
            "yref": "paper"
           }
          ]
         },
         "name": "87"
        },
        {
         "data": [
          {
           "name": "Free Nodes",
           "type": "scatter3d",
           "x": {
            "bdata": "ub/2y5hJZD40I7Dp///vP3dFBf8mtCI+DKL3TIz/zz8il5YTCwD0P2eC24wNANA/",
            "dtype": "f8"
           },
           "y": {
            "bdata": "/SZuIQPmIT6F4Yqb4/8gvpnIdP7//+8/fHsX0QMA0D81nfaQDQDQP40EOaj7//M/",
            "dtype": "f8"
           },
           "z": {
            "bdata": "z4Mnj3wbGr/eeODenJQzPwEG/CDSgBA9wN+FSIAU1r+bb5RmMWTPv5BjAB+MWs+/",
            "dtype": "f8"
           }
          },
          {
           "name": "Fixed Nodes",
           "type": "scatter3d",
           "x": [],
           "y": [],
           "z": []
          },
          {
           "name": "Edges",
           "type": "scatter3d",
           "x": [
            0.9999999584407306,
            2.177399587165113e-9,
            null,
            2.177399587165113e-9,
            3.7788390634825637e-8,
            null,
            3.7788390634825637e-8,
            0.9999999584407306,
            null,
            1.2500105633893743,
            0.25000323062525925,
            null,
            0.25000323062525925,
            0.24998620756311174,
            null,
            0.24998620756311174,
            1.2500105633893743,
            null
           ],
           "y": [
            -1.9790100360024796e-9,
            0.9999999971244221,
            null,
            0.9999999971244221,
            2.0836579228014796e-9,
            null,
            2.0836579228014796e-9,
            -1.9790100360024796e-9,
            null,
            0.2500032344491559,
            1.249995858306906,
            null,
            1.249995858306906,
            0.25000090998758373,
            null,
            0.25000090998758373,
            0.2500032344491559,
            null
           ],
           "z": [
            0.00029877500389997684,
            1.4657791701937964e-14,
            null,
            1.4657791701937964e-14,
            -0.000099591710557969,
            null,
            -0.000099591710557969,
            0.00029877500389997684,
            null,
            -0.24524514683514273,
            -0.24495078576799445,
            null,
            -0.24495078576799445,
            -0.34500128824538123,
            null,
            -0.34500128824538123,
            -0.24524514683514273,
            null
           ]
          },
          {
           "i": [
            0,
            3
           ],
           "j": [
            1,
            4
           ],
           "k": [
            2,
            5
           ],
           "name": "Faces",
           "type": "mesh3d",
           "x": {
            "bdata": "ub/2y5hJZD40I7Dp///vP3dFBf8mtCI+DKL3TIz/zz8il5YTCwD0P2eC24wNANA/",
            "dtype": "f8"
           },
           "y": {
            "bdata": "/SZuIQPmIT6F4Yqb4/8gvpnIdP7//+8/fHsX0QMA0D81nfaQDQDQP40EOaj7//M/",
            "dtype": "f8"
           },
           "z": {
            "bdata": "z4Mnj3wbGr/eeODenJQzPwEG/CDSgBA9wN+FSIAU1r+bb5RmMWTPv5BjAB+MWs+/",
            "dtype": "f8"
           }
          }
         ],
         "layout": {
          "annotations": [
           {
            "showarrow": false,
            "text": "Time: 0.88s (Step: 89/100)",
            "x": 0.05,
            "xref": "paper",
            "y": 0.95,
            "yref": "paper"
           }
          ]
         },
         "name": "88"
        },
        {
         "data": [
          {
           "name": "Free Nodes",
           "type": "scatter3d",
           "x": {
            "bdata": "bKR2/osfZT5Dgc3o///vP8sehcf9OCM+YM4J/Yn/zz/TYjFMCwD0P+7pb9INANA/",
            "dtype": "f8"
           },
           "y": {
            "bdata": "7VCU/1meIj7fodnV2TEhvrPEZP7//+8/qjaM5AMA0D8tCqDWDQDQP9s/9ZH7//M/",
            "dtype": "f8"
           },
           "z": {
            "bdata": "yPerASihGr9yg3Jy3fgzPzHbFtkNfRE9uTlL6Wtm1r9irevIGATQv9A/feda/s+/",
            "dtype": "f8"
           }
          },
          {
           "name": "Fixed Nodes",
           "type": "scatter3d",
           "x": [],
           "y": [],
           "z": []
          },
          {
           "name": "Edges",
           "type": "scatter3d",
           "x": [
            0.9999999567917616,
            2.237807769089891e-9,
            null,
            2.237807769089891e-9,
            3.934508168861832e-8,
            null,
            3.934508168861832e-8,
            0.9999999567917616,
            null,
            1.2500107742582045,
            0.250003295426409,
            null,
            0.250003295426409,
            0.24998593192468643,
            null,
            0.24998593192468643,
            1.2500107742582045,
            null
           ],
           "y": [
            -2.0017300445688155e-9,
            0.999999997007896,
            null,
            0.999999997007896,
            2.1674857435216565e-9,
            null,
            2.1674857435216565e-9,
            -2.0017300445688155e-9,
            null,
            0.2500032993267805,
            1.2499957753643602,
            null,
            1.2499957753643602,
            0.2500009281073782,
            null,
            0.2500009281073782,
            0.2500032993267805,
            null
           ],
           "z": [
            0.0003047505037532739,
            1.553290167936026e-14,
            null,
            1.553290167936026e-14,
            -0.00010158354454500786,
            null,
            -0.00010158354454500786,
            0.0003047505037532739,
            null,
            -0.2502500497928023,
            -0.24994980147539403,
            null,
            -0.24994980147539403,
            -0.35000131399729245,
            null,
            -0.35000131399729245,
            -0.2502500497928023,
            null
           ]
          },
          {
           "i": [
            0,
            3
           ],
           "j": [
            1,
            4
           ],
           "k": [
            2,
            5
           ],
           "name": "Faces",
           "type": "mesh3d",
           "x": {
            "bdata": "bKR2/osfZT5Dgc3o///vP8sehcf9OCM+YM4J/Yn/zz/TYjFMCwD0P+7pb9INANA/",
            "dtype": "f8"
           },
           "y": {
            "bdata": "7VCU/1meIj7fodnV2TEhvrPEZP7//+8/qjaM5AMA0D8tCqDWDQDQP9s/9ZH7//M/",
            "dtype": "f8"
           },
           "z": {
            "bdata": "yPerASihGr9yg3Jy3fgzPzHbFtkNfRE9uTlL6Wtm1r9irevIGATQv9A/feda/s+/",
            "dtype": "f8"
           }
          }
         ],
         "layout": {
          "annotations": [
           {
            "showarrow": false,
            "text": "Time: 0.89s (Step: 90/100)",
            "x": 0.05,
            "xref": "paper",
            "y": 0.95,
            "yref": "paper"
           }
          ]
         },
         "name": "89"
        },
        {
         "data": [
          {
           "name": "Free Nodes",
           "type": "scatter3d",
           "x": {
            "bdata": "Wc9sR9D5ZT73dubn///vP6HNdt9IvyM+cIMgrYf/zz9HG8uECwD0PwxaBhgOANA/",
            "dtype": "f8"
           },
           "y": {
            "bdata": "lM83blNaIz5VdLLAW2Ihvl9vVP7//+8/LxUA+AMA0D+5f0scDgDQPy4wsXv7//M/",
            "dtype": "f8"
           },
           "z": {
            "bdata": "yZMhdNMmG7+P1QAGHl00P1dS46MrgxI9428Qile41r+xXI3eGFbQvx34/NcUUdC/",
            "dtype": "f8"
           }
          },
          {
           "name": "Fixed Nodes",
           "type": "scatter3d",
           "x": [],
           "y": [],
           "z": []
          },
          {
           "name": "Edges",
           "type": "scatter3d",
           "x": [
            0.9999999551107227,
            2.2988773070170217e-9,
            null,
            2.2988773070170217e-9,
            4.0933181225115564e-8,
            null,
            4.0933181225115564e-8,
            0.9999999551107227,
            null,
            1.2500109851113892,
            0.25000336023495673,
            null,
            0.25000336023495673,
            0.24998565629450864,
            null,
            0.24998565629450864,
            1.2500109851113892,
            null
           ],
           "y": [
            -2.023788697021797e-9,
            0.9999999968890555,
            null,
            0.9999999968890555,
            2.252966578700299e-9,
            null,
            2.252966578700299e-9,
            -2.023788697021797e-9,
            null,
            0.25000336421180297,
            1.2499956924175524,
            null,
            1.2499956924175524,
            0.25000094622403685,
            null,
            0.25000094622403685,
            0.25000336421180297,
            null
           ],
           "z": [
            0.0003107260035933529,
            1.6442300540133052e-14,
            null,
            1.6442300540133052e-14,
            -0.00010357537851886292,
            null,
            -0.00010357537851886292,
            0.0003107260035933529,
            null,
            -0.25525495275128224,
            -0.25494881718248213,
            null,
            -0.25494881718248213,
            -0.3550013397486948,
            null,
            -0.3550013397486948,
            -0.25525495275128224,
            null
           ]
          },
          {
           "i": [
            0,
            3
           ],
           "j": [
            1,
            4
           ],
           "k": [
            2,
            5
           ],
           "name": "Faces",
           "type": "mesh3d",
           "x": {
            "bdata": "Wc9sR9D5ZT73dubn///vP6HNdt9IvyM+cIMgrYf/zz9HG8uECwD0PwxaBhgOANA/",
            "dtype": "f8"
           },
           "y": {
            "bdata": "lM83blNaIz5VdLLAW2Ihvl9vVP7//+8/LxUA+AMA0D+5f0scDgDQPy4wsXv7//M/",
            "dtype": "f8"
           },
           "z": {
            "bdata": "yZMhdNMmG7+P1QAGHl00P1dS46MrgxI9428Qile41r+xXI3eGFbQvx34/NcUUdC/",
            "dtype": "f8"
           }
          }
         ],
         "layout": {
          "annotations": [
           {
            "showarrow": false,
            "text": "Time: 0.90s (Step: 91/100)",
            "x": 0.05,
            "xref": "paper",
            "y": 0.95,
            "yref": "paper"
           }
          ]
         },
         "name": "90"
        },
        {
         "data": [
          {
           "name": "Free Nodes",
           "type": "scatter3d",
           "x": {
            "bdata": "FQOmqWXYZj5PBPvm///vPwJ5GxwIRyQ+PcE7XYX/zz9+wGO9CwD0P7/Snl0OANA/",
            "dtype": "f8"
           },
           "y": {
            "bdata": "WD4Fhu8ZJD64H9SGaZEhvp7IQ/7//+8/DBdzCwQA0D/W/fhhDgDQP4fVbGX7//M/",
            "dtype": "f8"
           },
           "z": {
            "bdata": "sw6I5n6sG7/kXIuZXsE0PxZpTeVTkxM9PoLVKkMK17+5RS/0GKjQv2g6Ozz8otC/",
            "dtype": "f8"
           }
          },
          {
           "name": "Fixed Nodes",
           "type": "scatter3d",
           "x": [],
           "y": [],
           "z": []
          },
          {
           "name": "Edges",
           "type": "scatter3d",
           "x": [
            0.9999999533976139,
            2.3606079043400284e-9,
            null,
            2.3606079043400284e-9,
            4.255268955516251e-8,
            null,
            4.255268955516251e-8,
            0.9999999533976139,
            null,
            1.2500111959489284,
            0.2500034250509024,
            null,
            0.2500034250509024,
            0.2499853806725784,
            null,
            0.2499853806725784,
            1.2500111959489284,
            null
           ],
           "y": [
            -2.045186289965979e-9,
            0.9999999967679007,
            null,
            0.9999999967679007,
            2.340100599549384e-9,
            null,
            2.340100599549384e-9,
            -2.045186289965979e-9,
            null,
            0.25000342910422313,
            1.2499956094664826,
            null,
            1.2499956094664826,
            0.2500009643375598,
            null,
            0.2500009643375598,
            0.25000342910422313,
            null
           ],
           "z": [
            0.00031670150341995954,
            1.7386535675160687e-14,
            null,
            1.7386535675160687e-14,
            -0.00010556721247928051,
            null,
            -0.00010556721247928051,
            0.00031670150341995954,
            null,
            -0.26025985571058247,
            -0.2599478328892588,
            null,
            -0.2599478328892588,
            -0.3600013654995883,
            null,
            -0.3600013654995883,
            -0.26025985571058247,
            null
           ]
          },
          {
           "i": [
            0,
            3
           ],
           "j": [
            1,
            4
           ],
           "k": [
            2,
            5
           ],
           "name": "Faces",
           "type": "mesh3d",
           "x": {
            "bdata": "FQOmqWXYZj5PBPvm///vPwJ5GxwIRyQ+PcE7XYX/zz9+wGO9CwD0P7/Snl0OANA/",
            "dtype": "f8"
           },
           "y": {
            "bdata": "WD4Fhu8ZJD64H9SGaZEhvp7IQ/7//+8/DBdzCwQA0D/W/fhhDgDQP4fVbGX7//M/",
            "dtype": "f8"
           },
           "z": {
            "bdata": "sw6I5n6sG7/kXIuZXsE0PxZpTeVTkxM9PoLVKkMK17+5RS/0GKjQv2g6Ozz8otC/",
            "dtype": "f8"
           }
          }
         ],
         "layout": {
          "annotations": [
           {
            "showarrow": false,
            "text": "Time: 0.91s (Step: 92/100)",
            "x": 0.05,
            "xref": "paper",
            "y": 0.95,
            "yref": "paper"
           }
          ]
         },
         "name": "91"
        },
        {
         "data": [
          {
           "name": "Free Nodes",
           "type": "scatter3d",
           "x": {
            "bdata": "v+LRIky7Zz5NKQvm///vP1+LzoU70CQ+v4dbDYP/zz95Uvv1CwD0PwdUOaMOANA/",
            "dtype": "f8"
           },
           "y": {
            "bdata": "7DppQi7dJD46J+MfA78hvnDQMv7//+8/RjzlHgQA0D+FhKinDgDQP+QvKE/7//M/",
            "dtype": "f8"
           },
           "z": {
            "bdata": "ex/fWCoyHL8hBxItnyU1PzM2G7+4rRQ9y3Cayy5c1794aNEJGfrQv8pmeaDj9NC/",
            "dtype": "f8"
           }
          },
          {
           "name": "Fixed Nodes",
           "type": "scatter3d",
           "x": [],
           "y": [],
           "z": []
          },
          {
           "name": "Edges",
           "type": "scatter3d",
           "x": [
            0.9999999516524355,
            2.4229996190478923e-9,
            null,
            2.4229996190478923e-9,
            4.420360642186273e-8,
            null,
            4.420360642186273e-8,
            0.9999999516524355,
            null,
            1.2500114067708223,
            0.250003489874246,
            null,
            0.250003489874246,
            0.24998510505889546,
            null,
            0.24998510505889546,
            1.2500114067708223,
            null
           ],
           "y": [
            -2.0659227654104363e-9,
            0.9999999966444317,
            null,
            0.9999999966444317,
            2.4288877743184842e-9,
            null,
            2.4288877743184842e-9,
            -2.0659227654104363e-9,
            null,
            0.25000349400404104,
            1.2499955265111504,
            null,
            1.2499955265111504,
            0.25000098244794733,
            null,
            0.25000098244794733,
            0.25000349400404104,
            null
           ],
           "z": [
            0.0003226770032328398,
            1.8366286498770255e-14,
            null,
            1.8366286498770255e-14,
            -0.0001075590464260072,
            null,
            -0.0001075590464260072,
            0.0003226770032328398,
            null,
            -0.26526475867070287,
            -0.26494684859572415,
            null,
            -0.26494684859572415,
            -0.36500139124997294,
            null,
            -0.36500139124997294,
            -0.26526475867070287,
            null
           ]
          },
          {
           "i": [
            0,
            3
           ],
           "j": [
            1,
            4
           ],
           "k": [
            2,
            5
           ],
           "name": "Faces",
           "type": "mesh3d",
           "x": {
            "bdata": "v+LRIky7Zz5NKQvm///vP1+LzoU70CQ+v4dbDYP/zz95Uvv1CwD0PwdUOaMOANA/",
            "dtype": "f8"
           },
           "y": {
            "bdata": "7DppQi7dJD46J+MfA78hvnDQMv7//+8/RjzlHgQA0D+FhKinDgDQP+QvKE/7//M/",
            "dtype": "f8"
           },
           "z": {
            "bdata": "ex/fWCoyHL8hBxItnyU1PzM2G7+4rRQ9y3Cayy5c1794aNEJGfrQv8pmeaDj9NC/",
            "dtype": "f8"
           }
          }
         ],
         "layout": {
          "annotations": [
           {
            "showarrow": false,
            "text": "Time: 0.92s (Step: 93/100)",
            "x": 0.05,
            "xref": "paper",
            "y": 0.95,
            "yref": "paper"
           }
          ]
         },
         "name": "92"
        },
        {
         "data": [
          {
           "name": "Free Nodes",
           "type": "scatter3d",
           "x": {
            "bdata": "hemmsIOiaD7v5Rbl///vPxNcWV/jWiU+/9Z/vYD/zz840ZEuDAD0P+Ld1egOANA/",
            "dtype": "f8"
           },
           "y": {
            "bdata": "AgKCbw+kJT7PIBZJKOshvtSGIf7//+8/2YRWMgQA0D/DE1rtDgDQP0c/4zj7//M/",
            "dtype": "f8"
           },
           "z": {
            "bdata": "GX0my9W3HL/1wZTA34k1P+rby96Y0hU9iztfbBqu17/txHMfGUzRv0N9twTLRtG/",
            "dtype": "f8"
           }
          },
          {
           "name": "Fixed Nodes",
           "type": "scatter3d",
           "x": [],
           "y": [],
           "z": []
          },
          {
           "name": "Edges",
           "type": "scatter3d",
           "x": [
            0.9999999498751871,
            2.486052914564976e-9,
            null,
            2.486052914564976e-9,
            4.588593157128792e-8,
            null,
            4.588593157128792e-8,
            0.9999999498751871,
            null,
            1.250011617577071,
            0.25000355470498736,
            null,
            0.25000355470498736,
            0.2499848294534601,
            null,
            0.2499848294534601,
            1.250011617577071,
            null
           ],
           "y": [
            -2.085997659928827e-9,
            0.9999999965186483,
            null,
            0.9999999965186483,
            2.519327743004695e-9,
            null,
            2.519327743004695e-9,
            -2.085997659928827e-9,
            null,
            0.25000355891125653,
            1.2499954435515563,
            null,
            1.2499954435515563,
            0.2500010005551992,
            null,
            0.2500010005551992,
            0.25000355891125653,
            null
           ],
           "z": [
            0.0003286525030317394,
            1.9382402452479816e-14,
            null,
            1.9382402452479816e-14,
            -0.0001095508803587896,
            null,
            -0.0001095508803587896,
            0.0003286525030317394,
            null,
            -0.2702696616316434,
            -0.2699458643018781,
            null,
            -0.2699458643018781,
            -0.37000141699984884,
            null,
            -0.37000141699984884,
            -0.2702696616316434,
            null
           ]
          },
          {
           "i": [
            0,
            3
           ],
           "j": [
            1,
            4
           ],
           "k": [
            2,
            5
           ],
           "name": "Faces",
           "type": "mesh3d",
           "x": {
            "bdata": "hemmsIOiaD7v5Rbl///vPxNcWV/jWiU+/9Z/vYD/zz840ZEuDAD0P+Ld1egOANA/",
            "dtype": "f8"
           },
           "y": {
            "bdata": "AgKCbw+kJT7PIBZJKOshvtSGIf7//+8/2YRWMgQA0D/DE1rtDgDQP0c/4zj7//M/",
            "dtype": "f8"
           },
           "z": {
            "bdata": "GX0my9W3HL/1wZTA34k1P+rby96Y0hU9iztfbBqu17/txHMfGUzRv0N9twTLRtG/",
            "dtype": "f8"
           }
          }
         ],
         "layout": {
          "annotations": [
           {
            "showarrow": false,
            "text": "Time: 0.93s (Step: 94/100)",
            "x": 0.05,
            "xref": "paper",
            "y": 0.95,
            "yref": "paper"
           }
          ]
         },
         "name": "93"
        },
        {
         "data": [
          {
           "name": "Free Nodes",
           "type": "scatter3d",
           "x": {
            "bdata": "Q3DCWAyOaT41Oh7k///vP5JkHlD/5iU+8K6obX7/zz+6PCdnDAD0P1pwdC4PANA/",
            "dtype": "f8"
           },
           "y": {
            "bdata": "EMa8V5NuJj4pgQpb2RUivsvrD/7//+8/w/DGRQQA0D+bqw0zDwDQP64DniL7//M/",
            "dtype": "f8"
           },
           "z": {
            "bdata": "YN5dPYE9Hb8NexNUIO41P+sN854RAhc9f+IjDQYA2L8WWxY1GZ7Rv9R99WiymNG/",
            "dtype": "f8"
           }
          },
          {
           "name": "Fixed Nodes",
           "type": "scatter3d",
           "x": [],
           "y": [],
           "z": []
          },
          {
           "name": "Edges",
           "type": "scatter3d",
           "x": [
            0.9999999480658689,
            2.549767175998877e-9,
            null,
            2.549767175998877e-9,
            4.759966562678802e-8,
            null,
            4.759966562678802e-8,
            0.9999999480658689,
            null,
            1.2500118283676742,
            0.2500036195431271,
            null,
            0.2500036195431271,
            0.24998455385627194,
            null,
            0.24998455385627194,
            1.2500118283676742,
            null
           ],
           "y": [
            -2.1054115884116634e-9,
            0.9999999963905507,
            null,
            0.9999999963905507,
            2.6114210220459593e-9,
            null,
            2.6114210220459593e-9,
            -2.1054115884116634e-9,
            null,
            0.2500036238258702,
            1.2499953605876999,
            null,
            1.2499953605876999,
            0.2500010186593153,
            null,
            0.2500010186593153,
            0.2500036238258702,
            null
           ],
           "z": [
            0.0003346280028164041,
            2.043528135468126e-14,
            null,
            2.043528135468126e-14,
            -0.00011154271427737386,
            null,
            -0.00011154271427737386,
            0.0003346280028164041,
            null,
            -0.27527456459340394,
            -0.27494488000772077,
            null,
            -0.27494488000772077,
            -0.37500144274921604,
            null,
            -0.37500144274921604,
            -0.27527456459340394,
            null
           ]
          },
          {
           "i": [
            0,
            3
           ],
           "j": [
            1,
            4
           ],
           "k": [
            2,
            5
           ],
           "name": "Faces",
           "type": "mesh3d",
           "x": {
            "bdata": "Q3DCWAyOaT41Oh7k///vP5JkHlD/5iU+8K6obX7/zz+6PCdnDAD0P1pwdC4PANA/",
            "dtype": "f8"
           },
           "y": {
            "bdata": "EMa8V5NuJj4pgQpb2RUivsvrD/7//+8/w/DGRQQA0D+bqw0zDwDQP64DniL7//M/",
            "dtype": "f8"
           },
           "z": {
            "bdata": "YN5dPYE9Hb8NexNUIO41P+sN854RAhc9f+IjDQYA2L8WWxY1GZ7Rv9R99WiymNG/",
            "dtype": "f8"
           }
          }
         ],
         "layout": {
          "annotations": [
           {
            "showarrow": false,
            "text": "Time: 0.94s (Step: 95/100)",
            "x": 0.05,
            "xref": "paper",
            "y": 0.95,
            "yref": "paper"
           }
          ]
         },
         "name": "94"
        },
        {
         "data": [
          {
           "name": "Free Nodes",
           "type": "scatter3d",
           "x": {
            "bdata": "Cf8tFuZ9aj4hJiHj///vP6QdiYuPdCY+pw/WHXz/zz//lLufDAD0P2MLFXQPANA/",
            "dtype": "f8"
           },
           "y": {
            "bdata": "4aal27k8Jz7svFQiFj8ivlT//f3//+8/C4A2WQQA0D8ATMN4DwDQPxp9WAz7//M/",
            "dtype": "f8"
           },
           "z": {
            "bdata": "UfqEryzDHb8bII7nYFI2Pz4LwDtePBg9pmXorfFR2L/zKrlKGfDRv35oM82Z6tG/",
            "dtype": "f8"
           }
          },
          {
           "name": "Fixed Nodes",
           "type": "scatter3d",
           "x": [],
           "y": [],
           "z": []
          },
          {
           "name": "Edges",
           "type": "scatter3d",
           "x": [
            0.999999946224481,
            2.6141427601462134e-9,
            null,
            2.6141427601462134e-9,
            4.9344808037385144e-8,
            null,
            4.9344808037385144e-8,
            0.999999946224481,
            null,
            1.250012039142632,
            0.25000368438866455,
            null,
            0.25000368438866455,
            0.24998427826733158,
            null,
            0.24998427826733158,
            1.250012039142632,
            null
           ],
           "y": [
            -2.124164194060361e-9,
            0.9999999962601387,
            null,
            0.9999999962601387,
            2.7051673931957455e-9,
            null,
            2.7051673931957455e-9,
            -2.124164194060361e-9,
            null,
            0.25000368874788137,
            1.2499952776195813,
            null,
            1.2499952776195813,
            0.250001036760296,
            null,
            0.250001036760296,
            0.25000368874788137,
            null
           ],
           "z": [
            0.0003406035025865798,
            2.1525725990620637e-14,
            null,
            2.1525725990620637e-14,
            -0.0001135345481815067,
            null,
            -0.0001135345481815067,
            0.0003406035025865798,
            null,
            -0.2802794675559845,
            -0.2799438957132522,
            null,
            -0.2799438957132522,
            -0.3800014684980745,
            null,
            -0.3800014684980745,
            -0.2802794675559845,
            null
           ]
          },
          {
           "i": [
            0,
            3
           ],
           "j": [
            1,
            4
           ],
           "k": [
            2,
            5
           ],
           "name": "Faces",
           "type": "mesh3d",
           "x": {
            "bdata": "Cf8tFuZ9aj4hJiHj///vP6QdiYuPdCY+pw/WHXz/zz//lLufDAD0P2MLFXQPANA/",
            "dtype": "f8"
           },
           "y": {
            "bdata": "4aal27k8Jz7svFQiFj8ivlT//f3//+8/C4A2WQQA0D8ATMN4DwDQPxp9WAz7//M/",
            "dtype": "f8"
           },
           "z": {
            "bdata": "UfqEryzDHb8bII7nYFI2Pz4LwDtePBg9pmXorfFR2L/zKrlKGfDRv35oM82Z6tG/",
            "dtype": "f8"
           }
          }
         ],
         "layout": {
          "annotations": [
           {
            "showarrow": false,
            "text": "Time: 0.95s (Step: 96/100)",
            "x": 0.05,
            "xref": "paper",
            "y": 0.95,
            "yref": "paper"
           }
          ]
         },
         "name": "95"
        },
        {
         "data": [
          {
           "name": "Free Nodes",
           "type": "scatter3d",
           "x": {
            "bdata": "hEcF7BByaz6xqR/i///vPzuOhv6TAyc+EPkHznn/zz8I2k7YDAD0PwGvt7kPANA/",
            "dtype": "f8"
           },
           "y": {
            "bdata": "MEDE/YIOKD7gugey3mYivnDB6/3//+8/rDKlbAQA0D/29Hq+DwDQP4urEvb6//M/",
            "dtype": "f8"
           },
           "z": {
            "bdata": "zIebIdhIHr/LngR7obY2PyOpd82rgRk9A8WsTt2j2L+BNFxgGULSv0E9cTGBPNK/",
            "dtype": "f8"
           }
          },
          {
           "name": "Fixed Nodes",
           "type": "scatter3d",
           "x": [],
           "y": [],
           "z": []
          },
          {
           "name": "Edges",
           "type": "scatter3d",
           "x": [
            0.9999999443510231,
            2.67917953465374e-9,
            null,
            2.67917953465374e-9,
            5.1121359148156575e-8,
            null,
            5.1121359148156575e-8,
            0.9999999443510231,
            null,
            1.2500122499019444,
            0.2500037492415999,
            null,
            0.2500037492415999,
            0.24998400268663845,
            null,
            0.24998400268663845,
            1.2500122499019444,
            null
           ],
           "y": [
            -2.1422556092262293e-9,
            0.9999999961274124,
            null,
            0.9999999961274124,
            2.8005668740075125e-9,
            null,
            2.8005668740075125e-9,
            -2.1422556092262293e-9,
            null,
            0.2500037536772902,
            1.2499951946472005,
            null,
            1.2499951946472005,
            0.25000105485814106,
            null,
            0.25000105485814106,
            0.2500037536772902,
            null
           ],
           "z": [
            0.00034657900234201223,
            2.2654347508803722e-14,
            null,
            2.2654347508803722e-14,
            -0.00011552638207093442,
            null,
            -0.00011552638207093442,
            0.00034657900234201223,
            null,
            -0.2852843705193849,
            -0.28494291141847233,
            null,
            -0.28494291141847233,
            -0.3850014942464243,
            null,
            -0.3850014942464243,
            -0.2852843705193849,
            null
           ]
          },
          {
           "i": [
            0,
            3
           ],
           "j": [
            1,
            4
           ],
           "k": [
            2,
            5
           ],
           "name": "Faces",
           "type": "mesh3d",
           "x": {
            "bdata": "hEcF7BByaz6xqR/i///vPzuOhv6TAyc+EPkHznn/zz8I2k7YDAD0PwGvt7kPANA/",
            "dtype": "f8"
           },
           "y": {
            "bdata": "MEDE/YIOKD7gugey3mYivnDB6/3//+8/rDKlbAQA0D/29Hq+DwDQP4urEvb6//M/",
            "dtype": "f8"
           },
           "z": {
            "bdata": "zIebIdhIHr/LngR7obY2PyOpd82rgRk9A8WsTt2j2L+BNFxgGULSv0E9cTGBPNK/",
            "dtype": "f8"
           }
          }
         ],
         "layout": {
          "annotations": [
           {
            "showarrow": false,
            "text": "Time: 0.96s (Step: 97/100)",
            "x": 0.05,
            "xref": "paper",
            "y": 0.95,
            "yref": "paper"
           }
          ]
         },
         "name": "96"
        },
        {
         "data": [
          {
           "name": "Free Nodes",
           "type": "scatter3d",
           "x": {
            "bdata": "3h+h2YxqbD7kxBnh///vP0RsTr0MlCc+OGs+fnf/zz/UC+EQDQD0PzNbXP8PANA/",
            "dtype": "f8"
           },
           "y": {
            "bdata": "E5nBs+7jKD6nsuv1Mo0ivh4y2f3//+8/pAgTgAQA0D98pjQEEADQPwKPzN/6//M/",
            "dtype": "f8"
           },
           "z": {
            "bdata": "wT2hk4POHr/M5HYO4ho3Py0lEysv0ho9lgBx78j12L+/d/91GZTSvx78rpVojtK/",
            "dtype": "f8"
           }
          },
          {
           "name": "Fixed Nodes",
           "type": "scatter3d",
           "x": [],
           "y": [],
           "z": []
          },
          {
           "name": "Edges",
           "type": "scatter3d",
           "x": [
            0.9999999424454953,
            2.7448776398093754e-9,
            null,
            2.7448776398093754e-9,
            5.2929318886606736e-8,
            null,
            5.2929318886606736e-8,
            0.9999999424454953,
            null,
            1.2500124606456113,
            0.2500038141019331,
            null,
            0.2500038141019331,
            0.24998372711419292,
            null,
            0.24998372711419292,
            1.2500124606456113,
            null
           ],
           "y": [
            -2.159685693619398e-9,
            0.9999999959923718,
            null,
            0.9999999959923718,
            2.897619392734932e-9,
            null,
            2.897619392734932e-9,
            -2.159685693619398e-9,
            null,
            0.2500038186140967,
            1.2499951116705579,
            null,
            1.2499951116705579,
            0.25000107295285035,
            null,
            0.25000107295285035,
            0.2500038186140967,
            null
           ],
           "z": [
            0.00035255450208244716,
            2.3821862021250034e-14,
            null,
            2.3821862021250034e-14,
            -0.00011751821594540355,
            null,
            -0.00011751821594540355,
            0.00035255450208244716,
            null,
            -0.29028927348360506,
            -0.2899419271233813,
            null,
            -0.2899419271233813,
            -0.3900015199942656,
            null,
            -0.3900015199942656,
            -0.29028927348360506,
            null
           ]
          },
          {
           "i": [
            0,
            3
           ],
           "j": [
            1,
            4
           ],
           "k": [
            2,
            5
           ],
           "name": "Faces",
           "type": "mesh3d",
           "x": {
            "bdata": "3h+h2YxqbD7kxBnh///vP0RsTr0MlCc+OGs+fnf/zz/UC+EQDQD0PzNbXP8PANA/",
            "dtype": "f8"
           },
           "y": {
            "bdata": "E5nBs+7jKD6nsuv1Mo0ivh4y2f3//+8/pAgTgAQA0D98pjQEEADQPwKPzN/6//M/",
            "dtype": "f8"
           },
           "z": {
            "bdata": "wT2hk4POHr/M5HYO4ho3Py0lEysv0ho9lgBx78j12L+/d/91GZTSvx78rpVojtK/",
            "dtype": "f8"
           }
          }
         ],
         "layout": {
          "annotations": [
           {
            "showarrow": false,
            "text": "Time: 0.97s (Step: 98/100)",
            "x": 0.05,
            "xref": "paper",
            "y": 0.95,
            "yref": "paper"
           }
          ]
         },
         "name": "97"
        },
        {
         "data": [
          {
           "name": "Free Nodes",
           "type": "scatter3d",
           "x": {
            "bdata": "xf/43VlnbT69dw/g///vP0TyhKj5JSg+EmZ5LnX/zz9jKnJJDQD0PwAQA0UQANA/",
            "dtype": "f8"
           },
           "y": {
            "bdata": "8fvxDP28KT6VV1wNE7Iivl9Rxv3//+8/+AGAkwQA0D+ZYPBJEADQP3wnhsn6//M/",
            "dtype": "f8"
           },
           "z": {
            "bdata": "H9OVBS9UH7/P3+ShIn83P4eUy0YSLhw9YBg1kLRH2b+r9KKLGebSvxal7PlP4NK/",
            "dtype": "f8"
           }
          },
          {
           "name": "Fixed Nodes",
           "type": "scatter3d",
           "x": [],
           "y": [],
           "z": []
          },
          {
           "name": "Edges",
           "type": "scatter3d",
           "x": [
            0.9999999405078978,
            2.8112368580199393e-9,
            null,
            2.8112368580199393e-9,
            5.476868713801294e-8,
            null,
            5.476868713801294e-8,
            0.9999999405078978,
            null,
            1.2500126713736328,
            0.2500038789696646,
            null,
            0.2500038789696646,
            0.24998345154999463,
            null,
            0.24998345154999463,
            1.2500126713736328,
            null
           ],
           "y": [
            -2.1764546648311247e-9,
            0.9999999958550169,
            null,
            0.9999999958550169,
            2.996325055746114e-9,
            null,
            2.996325055746114e-9,
            -2.1764546648311247e-9,
            null,
            0.2500038835583012,
            1.2499950286896526,
            null,
            1.2499950286896526,
            0.25000109104442414,
            null,
            0.25000109104442414,
            0.2500038835583012,
            null
           ],
           "z": [
            0.0003585300018076305,
            2.5028838004750722e-14,
            null,
            2.5028838004750722e-14,
            -0.00011951004980466057,
            null,
            -0.00011951004980466057,
            0.0003585300018076305,
            null,
            -0.2952941764486449,
            -0.2949409428279791,
            null,
            -0.2949409428279791,
            -0.3950015457415983,
            null,
            -0.3950015457415983,
            -0.2952941764486449,
            null
           ]
          },
          {
           "i": [
            0,
            3
           ],
           "j": [
            1,
            4
           ],
           "k": [
            2,
            5
           ],
           "name": "Faces",
           "type": "mesh3d",
           "x": {
            "bdata": "xf/43VlnbT69dw/g///vP0TyhKj5JSg+EmZ5LnX/zz9jKnJJDQD0PwAQA0UQANA/",
            "dtype": "f8"
           },
           "y": {
            "bdata": "8fvxDP28KT6VV1wNE7Iivl9Rxv3//+8/+AGAkwQA0D+ZYPBJEADQP3wnhsn6//M/",
            "dtype": "f8"
           },
           "z": {
            "bdata": "H9OVBS9UH7/P3+ShIn83P4eUy0YSLhw9YBg1kLRH2b+r9KKLGebSvxal7PlP4NK/",
            "dtype": "f8"
           }
          }
         ],
         "layout": {
          "annotations": [
           {
            "showarrow": false,
            "text": "Time: 0.98s (Step: 99/100)",
            "x": 0.05,
            "xref": "paper",
            "y": 0.95,
            "yref": "paper"
           }
          ]
         },
         "name": "98"
        },
        {
         "data": [
          {
           "name": "Free Nodes",
           "type": "scatter3d",
           "x": {
            "bdata": "i5dw+Xdobj47wgDf///vPznDHNFauSg+p+m43nL/zz+2NQKCDQD0P1/Nq4oQANA/",
            "dtype": "f8"
           },
           "y": {
            "bdata": "8ofWB66ZKj5B9GbnftUivjIfs/3//+8/ox7spgQA0D9EI66PEADQP/10P7P6//M/",
            "dtype": "f8"
           },
           "z": {
            "bdata": "0f54d9rZH7+CfU41Y+M3P4PlkumIlR09Ygz5MKCZ2b9Eq0ahGTjTvyk4Kl43MtO/",
            "dtype": "f8"
           }
          },
          {
           "name": "Fixed Nodes",
           "type": "scatter3d",
           "x": [],
           "y": [],
           "z": []
          },
          {
           "name": "Edges",
           "type": "scatter3d",
           "x": [
            0.9999999385382304,
            2.878257306884415e-9,
            null,
            2.878257306884415e-9,
            5.66394639456083e-8,
            null,
            5.66394639456083e-8,
            0.9999999385382304,
            null,
            1.250012882086009,
            0.2500039438447938,
            null,
            0.2500039438447938,
            0.24998317599404382,
            null,
            0.24998317599404382,
            1.250012882086009,
            null
           ],
           "y": [
            -2.1925624052604767e-9,
            0.9999999957153476,
            null,
            0.9999999957153476,
            3.0966838526631225e-9,
            null,
            3.0966838526631225e-9,
            -2.1925624052604767e-9,
            null,
            0.25000394850990326,
            1.2499949457044857,
            null,
            1.2499949457044857,
            0.25000110913286216,
            null,
            0.25000110913286216,
            0.25000394850990326,
            null
           ],
           "z": [
            0.00036450550151730804,
            2.627597727613273e-14,
            null,
            2.627597727613273e-14,
            -0.00012150188364845194,
            null,
            -0.00012150188364845194,
            0.00036450550151730804,
            null,
            -0.3002990794145044,
            -0.2999399585322658,
            null,
            -0.2999399585322658,
            -0.4000015714884225,
            null,
            -0.4000015714884225,
            -0.3002990794145044,
            null
           ]
          },
          {
           "i": [
            0,
            3
           ],
           "j": [
            1,
            4
           ],
           "k": [
            2,
            5
           ],
           "name": "Faces",
           "type": "mesh3d",
           "x": {
            "bdata": "i5dw+Xdobj47wgDf///vPznDHNFauSg+p+m43nL/zz+2NQKCDQD0P1/Nq4oQANA/",
            "dtype": "f8"
           },
           "y": {
            "bdata": "8ofWB66ZKj5B9GbnftUivjIfs/3//+8/ox7spgQA0D9EI66PEADQP/10P7P6//M/",
            "dtype": "f8"
           },
           "z": {
            "bdata": "0f54d9rZH7+CfU41Y+M3P4PlkumIlR09Ygz5MKCZ2b9Eq0ahGTjTvyk4Kl43MtO/",
            "dtype": "f8"
           }
          }
         ],
         "layout": {
          "annotations": [
           {
            "showarrow": false,
            "text": "Time: 0.99s (Step: 100/100)",
            "x": 0.05,
            "xref": "paper",
            "y": 0.95,
            "yref": "paper"
           }
          ]
         },
         "name": "99"
        }
       ],
       "layout": {
        "scene": {
         "camera": {
          "eye": {
           "x": 1.2247448713915892,
           "y": 1.224744871391589,
           "z": 0.9999999999999999
          }
         },
         "xaxis": {
          "range": [
           -2.901128579665638e-11,
           1.250012882086009
          ],
          "title": {
           "text": "X Position"
          }
         },
         "yaxis": {
          "range": [
           -2.1925624052604767e-9,
           1.25
          ],
          "title": {
           "text": "Y Position"
          }
         },
         "zaxis": {
          "range": [
           -0.4000015714884225,
           0.195
          ],
          "title": {
           "text": "Z Position"
          }
         }
        },
        "sliders": [
         {
          "currentvalue": {
           "prefix": "Frame: "
          },
          "steps": [
           {
            "args": [
             [
              "0"
             ],
             {
              "frame": {
               "duration": 50,
               "redraw": true
              },
              "mode": "immediate"
             }
            ],
            "label": "0",
            "method": "animate"
           },
           {
            "args": [
             [
              "1"
             ],
             {
              "frame": {
               "duration": 50,
               "redraw": true
              },
              "mode": "immediate"
             }
            ],
            "label": "1",
            "method": "animate"
           },
           {
            "args": [
             [
              "2"
             ],
             {
              "frame": {
               "duration": 50,
               "redraw": true
              },
              "mode": "immediate"
             }
            ],
            "label": "2",
            "method": "animate"
           },
           {
            "args": [
             [
              "3"
             ],
             {
              "frame": {
               "duration": 50,
               "redraw": true
              },
              "mode": "immediate"
             }
            ],
            "label": "3",
            "method": "animate"
           },
           {
            "args": [
             [
              "4"
             ],
             {
              "frame": {
               "duration": 50,
               "redraw": true
              },
              "mode": "immediate"
             }
            ],
            "label": "4",
            "method": "animate"
           },
           {
            "args": [
             [
              "5"
             ],
             {
              "frame": {
               "duration": 50,
               "redraw": true
              },
              "mode": "immediate"
             }
            ],
            "label": "5",
            "method": "animate"
           },
           {
            "args": [
             [
              "6"
             ],
             {
              "frame": {
               "duration": 50,
               "redraw": true
              },
              "mode": "immediate"
             }
            ],
            "label": "6",
            "method": "animate"
           },
           {
            "args": [
             [
              "7"
             ],
             {
              "frame": {
               "duration": 50,
               "redraw": true
              },
              "mode": "immediate"
             }
            ],
            "label": "7",
            "method": "animate"
           },
           {
            "args": [
             [
              "8"
             ],
             {
              "frame": {
               "duration": 50,
               "redraw": true
              },
              "mode": "immediate"
             }
            ],
            "label": "8",
            "method": "animate"
           },
           {
            "args": [
             [
              "9"
             ],
             {
              "frame": {
               "duration": 50,
               "redraw": true
              },
              "mode": "immediate"
             }
            ],
            "label": "9",
            "method": "animate"
           },
           {
            "args": [
             [
              "10"
             ],
             {
              "frame": {
               "duration": 50,
               "redraw": true
              },
              "mode": "immediate"
             }
            ],
            "label": "10",
            "method": "animate"
           },
           {
            "args": [
             [
              "11"
             ],
             {
              "frame": {
               "duration": 50,
               "redraw": true
              },
              "mode": "immediate"
             }
            ],
            "label": "11",
            "method": "animate"
           },
           {
            "args": [
             [
              "12"
             ],
             {
              "frame": {
               "duration": 50,
               "redraw": true
              },
              "mode": "immediate"
             }
            ],
            "label": "12",
            "method": "animate"
           },
           {
            "args": [
             [
              "13"
             ],
             {
              "frame": {
               "duration": 50,
               "redraw": true
              },
              "mode": "immediate"
             }
            ],
            "label": "13",
            "method": "animate"
           },
           {
            "args": [
             [
              "14"
             ],
             {
              "frame": {
               "duration": 50,
               "redraw": true
              },
              "mode": "immediate"
             }
            ],
            "label": "14",
            "method": "animate"
           },
           {
            "args": [
             [
              "15"
             ],
             {
              "frame": {
               "duration": 50,
               "redraw": true
              },
              "mode": "immediate"
             }
            ],
            "label": "15",
            "method": "animate"
           },
           {
            "args": [
             [
              "16"
             ],
             {
              "frame": {
               "duration": 50,
               "redraw": true
              },
              "mode": "immediate"
             }
            ],
            "label": "16",
            "method": "animate"
           },
           {
            "args": [
             [
              "17"
             ],
             {
              "frame": {
               "duration": 50,
               "redraw": true
              },
              "mode": "immediate"
             }
            ],
            "label": "17",
            "method": "animate"
           },
           {
            "args": [
             [
              "18"
             ],
             {
              "frame": {
               "duration": 50,
               "redraw": true
              },
              "mode": "immediate"
             }
            ],
            "label": "18",
            "method": "animate"
           },
           {
            "args": [
             [
              "19"
             ],
             {
              "frame": {
               "duration": 50,
               "redraw": true
              },
              "mode": "immediate"
             }
            ],
            "label": "19",
            "method": "animate"
           },
           {
            "args": [
             [
              "20"
             ],
             {
              "frame": {
               "duration": 50,
               "redraw": true
              },
              "mode": "immediate"
             }
            ],
            "label": "20",
            "method": "animate"
           },
           {
            "args": [
             [
              "21"
             ],
             {
              "frame": {
               "duration": 50,
               "redraw": true
              },
              "mode": "immediate"
             }
            ],
            "label": "21",
            "method": "animate"
           },
           {
            "args": [
             [
              "22"
             ],
             {
              "frame": {
               "duration": 50,
               "redraw": true
              },
              "mode": "immediate"
             }
            ],
            "label": "22",
            "method": "animate"
           },
           {
            "args": [
             [
              "23"
             ],
             {
              "frame": {
               "duration": 50,
               "redraw": true
              },
              "mode": "immediate"
             }
            ],
            "label": "23",
            "method": "animate"
           },
           {
            "args": [
             [
              "24"
             ],
             {
              "frame": {
               "duration": 50,
               "redraw": true
              },
              "mode": "immediate"
             }
            ],
            "label": "24",
            "method": "animate"
           },
           {
            "args": [
             [
              "25"
             ],
             {
              "frame": {
               "duration": 50,
               "redraw": true
              },
              "mode": "immediate"
             }
            ],
            "label": "25",
            "method": "animate"
           },
           {
            "args": [
             [
              "26"
             ],
             {
              "frame": {
               "duration": 50,
               "redraw": true
              },
              "mode": "immediate"
             }
            ],
            "label": "26",
            "method": "animate"
           },
           {
            "args": [
             [
              "27"
             ],
             {
              "frame": {
               "duration": 50,
               "redraw": true
              },
              "mode": "immediate"
             }
            ],
            "label": "27",
            "method": "animate"
           },
           {
            "args": [
             [
              "28"
             ],
             {
              "frame": {
               "duration": 50,
               "redraw": true
              },
              "mode": "immediate"
             }
            ],
            "label": "28",
            "method": "animate"
           },
           {
            "args": [
             [
              "29"
             ],
             {
              "frame": {
               "duration": 50,
               "redraw": true
              },
              "mode": "immediate"
             }
            ],
            "label": "29",
            "method": "animate"
           },
           {
            "args": [
             [
              "30"
             ],
             {
              "frame": {
               "duration": 50,
               "redraw": true
              },
              "mode": "immediate"
             }
            ],
            "label": "30",
            "method": "animate"
           },
           {
            "args": [
             [
              "31"
             ],
             {
              "frame": {
               "duration": 50,
               "redraw": true
              },
              "mode": "immediate"
             }
            ],
            "label": "31",
            "method": "animate"
           },
           {
            "args": [
             [
              "32"
             ],
             {
              "frame": {
               "duration": 50,
               "redraw": true
              },
              "mode": "immediate"
             }
            ],
            "label": "32",
            "method": "animate"
           },
           {
            "args": [
             [
              "33"
             ],
             {
              "frame": {
               "duration": 50,
               "redraw": true
              },
              "mode": "immediate"
             }
            ],
            "label": "33",
            "method": "animate"
           },
           {
            "args": [
             [
              "34"
             ],
             {
              "frame": {
               "duration": 50,
               "redraw": true
              },
              "mode": "immediate"
             }
            ],
            "label": "34",
            "method": "animate"
           },
           {
            "args": [
             [
              "35"
             ],
             {
              "frame": {
               "duration": 50,
               "redraw": true
              },
              "mode": "immediate"
             }
            ],
            "label": "35",
            "method": "animate"
           },
           {
            "args": [
             [
              "36"
             ],
             {
              "frame": {
               "duration": 50,
               "redraw": true
              },
              "mode": "immediate"
             }
            ],
            "label": "36",
            "method": "animate"
           },
           {
            "args": [
             [
              "37"
             ],
             {
              "frame": {
               "duration": 50,
               "redraw": true
              },
              "mode": "immediate"
             }
            ],
            "label": "37",
            "method": "animate"
           },
           {
            "args": [
             [
              "38"
             ],
             {
              "frame": {
               "duration": 50,
               "redraw": true
              },
              "mode": "immediate"
             }
            ],
            "label": "38",
            "method": "animate"
           },
           {
            "args": [
             [
              "39"
             ],
             {
              "frame": {
               "duration": 50,
               "redraw": true
              },
              "mode": "immediate"
             }
            ],
            "label": "39",
            "method": "animate"
           },
           {
            "args": [
             [
              "40"
             ],
             {
              "frame": {
               "duration": 50,
               "redraw": true
              },
              "mode": "immediate"
             }
            ],
            "label": "40",
            "method": "animate"
           },
           {
            "args": [
             [
              "41"
             ],
             {
              "frame": {
               "duration": 50,
               "redraw": true
              },
              "mode": "immediate"
             }
            ],
            "label": "41",
            "method": "animate"
           },
           {
            "args": [
             [
              "42"
             ],
             {
              "frame": {
               "duration": 50,
               "redraw": true
              },
              "mode": "immediate"
             }
            ],
            "label": "42",
            "method": "animate"
           },
           {
            "args": [
             [
              "43"
             ],
             {
              "frame": {
               "duration": 50,
               "redraw": true
              },
              "mode": "immediate"
             }
            ],
            "label": "43",
            "method": "animate"
           },
           {
            "args": [
             [
              "44"
             ],
             {
              "frame": {
               "duration": 50,
               "redraw": true
              },
              "mode": "immediate"
             }
            ],
            "label": "44",
            "method": "animate"
           },
           {
            "args": [
             [
              "45"
             ],
             {
              "frame": {
               "duration": 50,
               "redraw": true
              },
              "mode": "immediate"
             }
            ],
            "label": "45",
            "method": "animate"
           },
           {
            "args": [
             [
              "46"
             ],
             {
              "frame": {
               "duration": 50,
               "redraw": true
              },
              "mode": "immediate"
             }
            ],
            "label": "46",
            "method": "animate"
           },
           {
            "args": [
             [
              "47"
             ],
             {
              "frame": {
               "duration": 50,
               "redraw": true
              },
              "mode": "immediate"
             }
            ],
            "label": "47",
            "method": "animate"
           },
           {
            "args": [
             [
              "48"
             ],
             {
              "frame": {
               "duration": 50,
               "redraw": true
              },
              "mode": "immediate"
             }
            ],
            "label": "48",
            "method": "animate"
           },
           {
            "args": [
             [
              "49"
             ],
             {
              "frame": {
               "duration": 50,
               "redraw": true
              },
              "mode": "immediate"
             }
            ],
            "label": "49",
            "method": "animate"
           },
           {
            "args": [
             [
              "50"
             ],
             {
              "frame": {
               "duration": 50,
               "redraw": true
              },
              "mode": "immediate"
             }
            ],
            "label": "50",
            "method": "animate"
           },
           {
            "args": [
             [
              "51"
             ],
             {
              "frame": {
               "duration": 50,
               "redraw": true
              },
              "mode": "immediate"
             }
            ],
            "label": "51",
            "method": "animate"
           },
           {
            "args": [
             [
              "52"
             ],
             {
              "frame": {
               "duration": 50,
               "redraw": true
              },
              "mode": "immediate"
             }
            ],
            "label": "52",
            "method": "animate"
           },
           {
            "args": [
             [
              "53"
             ],
             {
              "frame": {
               "duration": 50,
               "redraw": true
              },
              "mode": "immediate"
             }
            ],
            "label": "53",
            "method": "animate"
           },
           {
            "args": [
             [
              "54"
             ],
             {
              "frame": {
               "duration": 50,
               "redraw": true
              },
              "mode": "immediate"
             }
            ],
            "label": "54",
            "method": "animate"
           },
           {
            "args": [
             [
              "55"
             ],
             {
              "frame": {
               "duration": 50,
               "redraw": true
              },
              "mode": "immediate"
             }
            ],
            "label": "55",
            "method": "animate"
           },
           {
            "args": [
             [
              "56"
             ],
             {
              "frame": {
               "duration": 50,
               "redraw": true
              },
              "mode": "immediate"
             }
            ],
            "label": "56",
            "method": "animate"
           },
           {
            "args": [
             [
              "57"
             ],
             {
              "frame": {
               "duration": 50,
               "redraw": true
              },
              "mode": "immediate"
             }
            ],
            "label": "57",
            "method": "animate"
           },
           {
            "args": [
             [
              "58"
             ],
             {
              "frame": {
               "duration": 50,
               "redraw": true
              },
              "mode": "immediate"
             }
            ],
            "label": "58",
            "method": "animate"
           },
           {
            "args": [
             [
              "59"
             ],
             {
              "frame": {
               "duration": 50,
               "redraw": true
              },
              "mode": "immediate"
             }
            ],
            "label": "59",
            "method": "animate"
           },
           {
            "args": [
             [
              "60"
             ],
             {
              "frame": {
               "duration": 50,
               "redraw": true
              },
              "mode": "immediate"
             }
            ],
            "label": "60",
            "method": "animate"
           },
           {
            "args": [
             [
              "61"
             ],
             {
              "frame": {
               "duration": 50,
               "redraw": true
              },
              "mode": "immediate"
             }
            ],
            "label": "61",
            "method": "animate"
           },
           {
            "args": [
             [
              "62"
             ],
             {
              "frame": {
               "duration": 50,
               "redraw": true
              },
              "mode": "immediate"
             }
            ],
            "label": "62",
            "method": "animate"
           },
           {
            "args": [
             [
              "63"
             ],
             {
              "frame": {
               "duration": 50,
               "redraw": true
              },
              "mode": "immediate"
             }
            ],
            "label": "63",
            "method": "animate"
           },
           {
            "args": [
             [
              "64"
             ],
             {
              "frame": {
               "duration": 50,
               "redraw": true
              },
              "mode": "immediate"
             }
            ],
            "label": "64",
            "method": "animate"
           },
           {
            "args": [
             [
              "65"
             ],
             {
              "frame": {
               "duration": 50,
               "redraw": true
              },
              "mode": "immediate"
             }
            ],
            "label": "65",
            "method": "animate"
           },
           {
            "args": [
             [
              "66"
             ],
             {
              "frame": {
               "duration": 50,
               "redraw": true
              },
              "mode": "immediate"
             }
            ],
            "label": "66",
            "method": "animate"
           },
           {
            "args": [
             [
              "67"
             ],
             {
              "frame": {
               "duration": 50,
               "redraw": true
              },
              "mode": "immediate"
             }
            ],
            "label": "67",
            "method": "animate"
           },
           {
            "args": [
             [
              "68"
             ],
             {
              "frame": {
               "duration": 50,
               "redraw": true
              },
              "mode": "immediate"
             }
            ],
            "label": "68",
            "method": "animate"
           },
           {
            "args": [
             [
              "69"
             ],
             {
              "frame": {
               "duration": 50,
               "redraw": true
              },
              "mode": "immediate"
             }
            ],
            "label": "69",
            "method": "animate"
           },
           {
            "args": [
             [
              "70"
             ],
             {
              "frame": {
               "duration": 50,
               "redraw": true
              },
              "mode": "immediate"
             }
            ],
            "label": "70",
            "method": "animate"
           },
           {
            "args": [
             [
              "71"
             ],
             {
              "frame": {
               "duration": 50,
               "redraw": true
              },
              "mode": "immediate"
             }
            ],
            "label": "71",
            "method": "animate"
           },
           {
            "args": [
             [
              "72"
             ],
             {
              "frame": {
               "duration": 50,
               "redraw": true
              },
              "mode": "immediate"
             }
            ],
            "label": "72",
            "method": "animate"
           },
           {
            "args": [
             [
              "73"
             ],
             {
              "frame": {
               "duration": 50,
               "redraw": true
              },
              "mode": "immediate"
             }
            ],
            "label": "73",
            "method": "animate"
           },
           {
            "args": [
             [
              "74"
             ],
             {
              "frame": {
               "duration": 50,
               "redraw": true
              },
              "mode": "immediate"
             }
            ],
            "label": "74",
            "method": "animate"
           },
           {
            "args": [
             [
              "75"
             ],
             {
              "frame": {
               "duration": 50,
               "redraw": true
              },
              "mode": "immediate"
             }
            ],
            "label": "75",
            "method": "animate"
           },
           {
            "args": [
             [
              "76"
             ],
             {
              "frame": {
               "duration": 50,
               "redraw": true
              },
              "mode": "immediate"
             }
            ],
            "label": "76",
            "method": "animate"
           },
           {
            "args": [
             [
              "77"
             ],
             {
              "frame": {
               "duration": 50,
               "redraw": true
              },
              "mode": "immediate"
             }
            ],
            "label": "77",
            "method": "animate"
           },
           {
            "args": [
             [
              "78"
             ],
             {
              "frame": {
               "duration": 50,
               "redraw": true
              },
              "mode": "immediate"
             }
            ],
            "label": "78",
            "method": "animate"
           },
           {
            "args": [
             [
              "79"
             ],
             {
              "frame": {
               "duration": 50,
               "redraw": true
              },
              "mode": "immediate"
             }
            ],
            "label": "79",
            "method": "animate"
           },
           {
            "args": [
             [
              "80"
             ],
             {
              "frame": {
               "duration": 50,
               "redraw": true
              },
              "mode": "immediate"
             }
            ],
            "label": "80",
            "method": "animate"
           },
           {
            "args": [
             [
              "81"
             ],
             {
              "frame": {
               "duration": 50,
               "redraw": true
              },
              "mode": "immediate"
             }
            ],
            "label": "81",
            "method": "animate"
           },
           {
            "args": [
             [
              "82"
             ],
             {
              "frame": {
               "duration": 50,
               "redraw": true
              },
              "mode": "immediate"
             }
            ],
            "label": "82",
            "method": "animate"
           },
           {
            "args": [
             [
              "83"
             ],
             {
              "frame": {
               "duration": 50,
               "redraw": true
              },
              "mode": "immediate"
             }
            ],
            "label": "83",
            "method": "animate"
           },
           {
            "args": [
             [
              "84"
             ],
             {
              "frame": {
               "duration": 50,
               "redraw": true
              },
              "mode": "immediate"
             }
            ],
            "label": "84",
            "method": "animate"
           },
           {
            "args": [
             [
              "85"
             ],
             {
              "frame": {
               "duration": 50,
               "redraw": true
              },
              "mode": "immediate"
             }
            ],
            "label": "85",
            "method": "animate"
           },
           {
            "args": [
             [
              "86"
             ],
             {
              "frame": {
               "duration": 50,
               "redraw": true
              },
              "mode": "immediate"
             }
            ],
            "label": "86",
            "method": "animate"
           },
           {
            "args": [
             [
              "87"
             ],
             {
              "frame": {
               "duration": 50,
               "redraw": true
              },
              "mode": "immediate"
             }
            ],
            "label": "87",
            "method": "animate"
           },
           {
            "args": [
             [
              "88"
             ],
             {
              "frame": {
               "duration": 50,
               "redraw": true
              },
              "mode": "immediate"
             }
            ],
            "label": "88",
            "method": "animate"
           },
           {
            "args": [
             [
              "89"
             ],
             {
              "frame": {
               "duration": 50,
               "redraw": true
              },
              "mode": "immediate"
             }
            ],
            "label": "89",
            "method": "animate"
           },
           {
            "args": [
             [
              "90"
             ],
             {
              "frame": {
               "duration": 50,
               "redraw": true
              },
              "mode": "immediate"
             }
            ],
            "label": "90",
            "method": "animate"
           },
           {
            "args": [
             [
              "91"
             ],
             {
              "frame": {
               "duration": 50,
               "redraw": true
              },
              "mode": "immediate"
             }
            ],
            "label": "91",
            "method": "animate"
           },
           {
            "args": [
             [
              "92"
             ],
             {
              "frame": {
               "duration": 50,
               "redraw": true
              },
              "mode": "immediate"
             }
            ],
            "label": "92",
            "method": "animate"
           },
           {
            "args": [
             [
              "93"
             ],
             {
              "frame": {
               "duration": 50,
               "redraw": true
              },
              "mode": "immediate"
             }
            ],
            "label": "93",
            "method": "animate"
           },
           {
            "args": [
             [
              "94"
             ],
             {
              "frame": {
               "duration": 50,
               "redraw": true
              },
              "mode": "immediate"
             }
            ],
            "label": "94",
            "method": "animate"
           },
           {
            "args": [
             [
              "95"
             ],
             {
              "frame": {
               "duration": 50,
               "redraw": true
              },
              "mode": "immediate"
             }
            ],
            "label": "95",
            "method": "animate"
           },
           {
            "args": [
             [
              "96"
             ],
             {
              "frame": {
               "duration": 50,
               "redraw": true
              },
              "mode": "immediate"
             }
            ],
            "label": "96",
            "method": "animate"
           },
           {
            "args": [
             [
              "97"
             ],
             {
              "frame": {
               "duration": 50,
               "redraw": true
              },
              "mode": "immediate"
             }
            ],
            "label": "97",
            "method": "animate"
           },
           {
            "args": [
             [
              "98"
             ],
             {
              "frame": {
               "duration": 50,
               "redraw": true
              },
              "mode": "immediate"
             }
            ],
            "label": "98",
            "method": "animate"
           },
           {
            "args": [
             [
              "99"
             ],
             {
              "frame": {
               "duration": 50,
               "redraw": true
              },
              "mode": "immediate"
             }
            ],
            "label": "99",
            "method": "animate"
           }
          ],
          "transition": {
           "duration": 0
          },
          "x": 0.1,
          "y": 0
         }
        ],
        "template": {
         "data": {
          "bar": [
           {
            "error_x": {
             "color": "#2a3f5f"
            },
            "error_y": {
             "color": "#2a3f5f"
            },
            "marker": {
             "line": {
              "color": "#E5ECF6",
              "width": 0.5
             },
             "pattern": {
              "fillmode": "overlay",
              "size": 10,
              "solidity": 0.2
             }
            },
            "type": "bar"
           }
          ],
          "barpolar": [
           {
            "marker": {
             "line": {
              "color": "#E5ECF6",
              "width": 0.5
             },
             "pattern": {
              "fillmode": "overlay",
              "size": 10,
              "solidity": 0.2
             }
            },
            "type": "barpolar"
           }
          ],
          "carpet": [
           {
            "aaxis": {
             "endlinecolor": "#2a3f5f",
             "gridcolor": "white",
             "linecolor": "white",
             "minorgridcolor": "white",
             "startlinecolor": "#2a3f5f"
            },
            "baxis": {
             "endlinecolor": "#2a3f5f",
             "gridcolor": "white",
             "linecolor": "white",
             "minorgridcolor": "white",
             "startlinecolor": "#2a3f5f"
            },
            "type": "carpet"
           }
          ],
          "choropleth": [
           {
            "colorbar": {
             "outlinewidth": 0,
             "ticks": ""
            },
            "type": "choropleth"
           }
          ],
          "contour": [
           {
            "colorbar": {
             "outlinewidth": 0,
             "ticks": ""
            },
            "colorscale": [
             [
              0,
              "#0d0887"
             ],
             [
              0.1111111111111111,
              "#46039f"
             ],
             [
              0.2222222222222222,
              "#7201a8"
             ],
             [
              0.3333333333333333,
              "#9c179e"
             ],
             [
              0.4444444444444444,
              "#bd3786"
             ],
             [
              0.5555555555555556,
              "#d8576b"
             ],
             [
              0.6666666666666666,
              "#ed7953"
             ],
             [
              0.7777777777777778,
              "#fb9f3a"
             ],
             [
              0.8888888888888888,
              "#fdca26"
             ],
             [
              1,
              "#f0f921"
             ]
            ],
            "type": "contour"
           }
          ],
          "contourcarpet": [
           {
            "colorbar": {
             "outlinewidth": 0,
             "ticks": ""
            },
            "type": "contourcarpet"
           }
          ],
          "heatmap": [
           {
            "colorbar": {
             "outlinewidth": 0,
             "ticks": ""
            },
            "colorscale": [
             [
              0,
              "#0d0887"
             ],
             [
              0.1111111111111111,
              "#46039f"
             ],
             [
              0.2222222222222222,
              "#7201a8"
             ],
             [
              0.3333333333333333,
              "#9c179e"
             ],
             [
              0.4444444444444444,
              "#bd3786"
             ],
             [
              0.5555555555555556,
              "#d8576b"
             ],
             [
              0.6666666666666666,
              "#ed7953"
             ],
             [
              0.7777777777777778,
              "#fb9f3a"
             ],
             [
              0.8888888888888888,
              "#fdca26"
             ],
             [
              1,
              "#f0f921"
             ]
            ],
            "type": "heatmap"
           }
          ],
          "histogram": [
           {
            "marker": {
             "pattern": {
              "fillmode": "overlay",
              "size": 10,
              "solidity": 0.2
             }
            },
            "type": "histogram"
           }
          ],
          "histogram2d": [
           {
            "colorbar": {
             "outlinewidth": 0,
             "ticks": ""
            },
            "colorscale": [
             [
              0,
              "#0d0887"
             ],
             [
              0.1111111111111111,
              "#46039f"
             ],
             [
              0.2222222222222222,
              "#7201a8"
             ],
             [
              0.3333333333333333,
              "#9c179e"
             ],
             [
              0.4444444444444444,
              "#bd3786"
             ],
             [
              0.5555555555555556,
              "#d8576b"
             ],
             [
              0.6666666666666666,
              "#ed7953"
             ],
             [
              0.7777777777777778,
              "#fb9f3a"
             ],
             [
              0.8888888888888888,
              "#fdca26"
             ],
             [
              1,
              "#f0f921"
             ]
            ],
            "type": "histogram2d"
           }
          ],
          "histogram2dcontour": [
           {
            "colorbar": {
             "outlinewidth": 0,
             "ticks": ""
            },
            "colorscale": [
             [
              0,
              "#0d0887"
             ],
             [
              0.1111111111111111,
              "#46039f"
             ],
             [
              0.2222222222222222,
              "#7201a8"
             ],
             [
              0.3333333333333333,
              "#9c179e"
             ],
             [
              0.4444444444444444,
              "#bd3786"
             ],
             [
              0.5555555555555556,
              "#d8576b"
             ],
             [
              0.6666666666666666,
              "#ed7953"
             ],
             [
              0.7777777777777778,
              "#fb9f3a"
             ],
             [
              0.8888888888888888,
              "#fdca26"
             ],
             [
              1,
              "#f0f921"
             ]
            ],
            "type": "histogram2dcontour"
           }
          ],
          "mesh3d": [
           {
            "colorbar": {
             "outlinewidth": 0,
             "ticks": ""
            },
            "type": "mesh3d"
           }
          ],
          "parcoords": [
           {
            "line": {
             "colorbar": {
              "outlinewidth": 0,
              "ticks": ""
             }
            },
            "type": "parcoords"
           }
          ],
          "pie": [
           {
            "automargin": true,
            "type": "pie"
           }
          ],
          "scatter": [
           {
            "fillpattern": {
             "fillmode": "overlay",
             "size": 10,
             "solidity": 0.2
            },
            "type": "scatter"
           }
          ],
          "scatter3d": [
           {
            "line": {
             "colorbar": {
              "outlinewidth": 0,
              "ticks": ""
             }
            },
            "marker": {
             "colorbar": {
              "outlinewidth": 0,
              "ticks": ""
             }
            },
            "type": "scatter3d"
           }
          ],
          "scattercarpet": [
           {
            "marker": {
             "colorbar": {
              "outlinewidth": 0,
              "ticks": ""
             }
            },
            "type": "scattercarpet"
           }
          ],
          "scattergeo": [
           {
            "marker": {
             "colorbar": {
              "outlinewidth": 0,
              "ticks": ""
             }
            },
            "type": "scattergeo"
           }
          ],
          "scattergl": [
           {
            "marker": {
             "colorbar": {
              "outlinewidth": 0,
              "ticks": ""
             }
            },
            "type": "scattergl"
           }
          ],
          "scattermap": [
           {
            "marker": {
             "colorbar": {
              "outlinewidth": 0,
              "ticks": ""
             }
            },
            "type": "scattermap"
           }
          ],
          "scattermapbox": [
           {
            "marker": {
             "colorbar": {
              "outlinewidth": 0,
              "ticks": ""
             }
            },
            "type": "scattermapbox"
           }
          ],
          "scatterpolar": [
           {
            "marker": {
             "colorbar": {
              "outlinewidth": 0,
              "ticks": ""
             }
            },
            "type": "scatterpolar"
           }
          ],
          "scatterpolargl": [
           {
            "marker": {
             "colorbar": {
              "outlinewidth": 0,
              "ticks": ""
             }
            },
            "type": "scatterpolargl"
           }
          ],
          "scatterternary": [
           {
            "marker": {
             "colorbar": {
              "outlinewidth": 0,
              "ticks": ""
             }
            },
            "type": "scatterternary"
           }
          ],
          "surface": [
           {
            "colorbar": {
             "outlinewidth": 0,
             "ticks": ""
            },
            "colorscale": [
             [
              0,
              "#0d0887"
             ],
             [
              0.1111111111111111,
              "#46039f"
             ],
             [
              0.2222222222222222,
              "#7201a8"
             ],
             [
              0.3333333333333333,
              "#9c179e"
             ],
             [
              0.4444444444444444,
              "#bd3786"
             ],
             [
              0.5555555555555556,
              "#d8576b"
             ],
             [
              0.6666666666666666,
              "#ed7953"
             ],
             [
              0.7777777777777778,
              "#fb9f3a"
             ],
             [
              0.8888888888888888,
              "#fdca26"
             ],
             [
              1,
              "#f0f921"
             ]
            ],
            "type": "surface"
           }
          ],
          "table": [
           {
            "cells": {
             "fill": {
              "color": "#EBF0F8"
             },
             "line": {
              "color": "white"
             }
            },
            "header": {
             "fill": {
              "color": "#C8D4E3"
             },
             "line": {
              "color": "white"
             }
            },
            "type": "table"
           }
          ]
         },
         "layout": {
          "annotationdefaults": {
           "arrowcolor": "#2a3f5f",
           "arrowhead": 0,
           "arrowwidth": 1
          },
          "autotypenumbers": "strict",
          "coloraxis": {
           "colorbar": {
            "outlinewidth": 0,
            "ticks": ""
           }
          },
          "colorscale": {
           "diverging": [
            [
             0,
             "#8e0152"
            ],
            [
             0.1,
             "#c51b7d"
            ],
            [
             0.2,
             "#de77ae"
            ],
            [
             0.3,
             "#f1b6da"
            ],
            [
             0.4,
             "#fde0ef"
            ],
            [
             0.5,
             "#f7f7f7"
            ],
            [
             0.6,
             "#e6f5d0"
            ],
            [
             0.7,
             "#b8e186"
            ],
            [
             0.8,
             "#7fbc41"
            ],
            [
             0.9,
             "#4d9221"
            ],
            [
             1,
             "#276419"
            ]
           ],
           "sequential": [
            [
             0,
             "#0d0887"
            ],
            [
             0.1111111111111111,
             "#46039f"
            ],
            [
             0.2222222222222222,
             "#7201a8"
            ],
            [
             0.3333333333333333,
             "#9c179e"
            ],
            [
             0.4444444444444444,
             "#bd3786"
            ],
            [
             0.5555555555555556,
             "#d8576b"
            ],
            [
             0.6666666666666666,
             "#ed7953"
            ],
            [
             0.7777777777777778,
             "#fb9f3a"
            ],
            [
             0.8888888888888888,
             "#fdca26"
            ],
            [
             1,
             "#f0f921"
            ]
           ],
           "sequentialminus": [
            [
             0,
             "#0d0887"
            ],
            [
             0.1111111111111111,
             "#46039f"
            ],
            [
             0.2222222222222222,
             "#7201a8"
            ],
            [
             0.3333333333333333,
             "#9c179e"
            ],
            [
             0.4444444444444444,
             "#bd3786"
            ],
            [
             0.5555555555555556,
             "#d8576b"
            ],
            [
             0.6666666666666666,
             "#ed7953"
            ],
            [
             0.7777777777777778,
             "#fb9f3a"
            ],
            [
             0.8888888888888888,
             "#fdca26"
            ],
            [
             1,
             "#f0f921"
            ]
           ]
          },
          "colorway": [
           "#636efa",
           "#EF553B",
           "#00cc96",
           "#ab63fa",
           "#FFA15A",
           "#19d3f3",
           "#FF6692",
           "#B6E880",
           "#FF97FF",
           "#FECB52"
          ],
          "font": {
           "color": "#2a3f5f"
          },
          "geo": {
           "bgcolor": "white",
           "lakecolor": "white",
           "landcolor": "#E5ECF6",
           "showlakes": true,
           "showland": true,
           "subunitcolor": "white"
          },
          "hoverlabel": {
           "align": "left"
          },
          "hovermode": "closest",
          "mapbox": {
           "style": "light"
          },
          "paper_bgcolor": "white",
          "plot_bgcolor": "#E5ECF6",
          "polar": {
           "angularaxis": {
            "gridcolor": "white",
            "linecolor": "white",
            "ticks": ""
           },
           "bgcolor": "#E5ECF6",
           "radialaxis": {
            "gridcolor": "white",
            "linecolor": "white",
            "ticks": ""
           }
          },
          "scene": {
           "xaxis": {
            "backgroundcolor": "#E5ECF6",
            "gridcolor": "white",
            "gridwidth": 2,
            "linecolor": "white",
            "showbackground": true,
            "ticks": "",
            "zerolinecolor": "white"
           },
           "yaxis": {
            "backgroundcolor": "#E5ECF6",
            "gridcolor": "white",
            "gridwidth": 2,
            "linecolor": "white",
            "showbackground": true,
            "ticks": "",
            "zerolinecolor": "white"
           },
           "zaxis": {
            "backgroundcolor": "#E5ECF6",
            "gridcolor": "white",
            "gridwidth": 2,
            "linecolor": "white",
            "showbackground": true,
            "ticks": "",
            "zerolinecolor": "white"
           }
          },
          "shapedefaults": {
           "line": {
            "color": "#2a3f5f"
           }
          },
          "ternary": {
           "aaxis": {
            "gridcolor": "white",
            "linecolor": "white",
            "ticks": ""
           },
           "baxis": {
            "gridcolor": "white",
            "linecolor": "white",
            "ticks": ""
           },
           "bgcolor": "#E5ECF6",
           "caxis": {
            "gridcolor": "white",
            "linecolor": "white",
            "ticks": ""
           }
          },
          "title": {
           "x": 0.05
          },
          "xaxis": {
           "automargin": true,
           "gridcolor": "white",
           "linecolor": "white",
           "ticks": "",
           "title": {
            "standoff": 15
           },
           "zerolinecolor": "white",
           "zerolinewidth": 2
          },
          "yaxis": {
           "automargin": true,
           "gridcolor": "white",
           "linecolor": "white",
           "ticks": "",
           "title": {
            "standoff": 15
           },
           "zerolinecolor": "white",
           "zerolinewidth": 2
          }
         }
        },
        "title": {
         "text": "Shell contact p2t"
        },
        "updatemenus": [
         {
          "buttons": [
           {
            "args": [
             null,
             {
              "frame": {
               "duration": 50,
               "redraw": true
              },
              "fromcurrent": true
             }
            ],
            "label": "Play",
            "method": "animate"
           },
           {
            "args": [
             [
              null
             ],
             {
              "frame": {
               "duration": 0,
               "redraw": true
              },
              "mode": "immediate"
             }
            ],
            "label": "Pause",
            "method": "animate"
           }
          ],
          "direction": "left",
          "pad": {
           "r": 10,
           "t": 87
          },
          "showactive": false,
          "type": "buttons",
          "x": 0.1,
          "xanchor": "right",
          "y": 0,
          "yanchor": "top"
         }
        ]
       }
      }
     },
     "metadata": {},
     "output_type": "display_data"
    }
   ],
   "source": [
    "t = np.arange(robot.sim_params.total_time, step=robot.sim_params.dt)\n",
    "options = dismech.AnimationOptions(title='Shell contact p2t')\n",
    "\n",
    "fig = dismech.get_interactive_animation_plotly(robot, t, qs, options)\n",
    "fig.show()"
   ]
  },
  {
   "cell_type": "code",
   "execution_count": 4,
   "metadata": {},
   "outputs": [
    {
     "data": {
      "image/png": "[encoded data removed]",
      "text/plain": [
       "<Figure size 640x480 with 1 Axes>"
      ]
     },
     "metadata": {},
     "output_type": "display_data"
    }
   ],
   "source": [
    "ani = dismech.get_animation(robot, t, qs, options)\n",
    "ani.save('parallel_contact.gif')"
   ]
  }
 ],
 "metadata": {
  "kernelspec": {
   "display_name": ".venv",
   "language": "python",
   "name": "python3"
  },
  "language_info": {
   "codemirror_mode": {
    "name": "ipython",
    "version": 3
   },
   "file_extension": ".py",
   "mimetype": "text/x-python",
   "name": "python",
   "nbconvert_exporter": "python",
   "pygments_lexer": "ipython3",
   "version": "3.10.12"
  }
 },
 "nbformat": 4,
 "nbformat_minor": 2
}
