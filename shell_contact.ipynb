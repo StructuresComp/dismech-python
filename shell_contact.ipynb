{
 "cells": [
  {
   "cell_type": "markdown",
   "metadata": {},
   "source": [
    "## Shell Contact Example"
   ]
  },
  {
   "cell_type": "code",
   "execution_count": 1,
   "metadata": {},
   "outputs": [],
   "source": [
    "import numpy as np\n",
    "\n",
    "import dismech\n",
    "\n",
    "\n",
    "geom = dismech.GeomParams(rod_r0=0.001,\n",
    "                          shell_h=0.001)\n",
    "\n",
    "material = dismech.Material(density=1200,\n",
    "                            youngs_rod=0,\n",
    "                            youngs_shell=2e8,\n",
    "                            poisson_rod=0.5,\n",
    "                            poisson_shell=0)\n",
    "\n",
    "shell_contact_sim = dismech.SimParams(static_sim=False,\n",
    "                                  two_d_sim=False,   # no twisting\n",
    "                                  use_mid_edge=False,\n",
    "                                  use_line_search=False,\n",
    "                                  show_floor=False,\n",
    "                                  log_data=True,\n",
    "                                  log_step=1,\n",
    "                                  dt=1e-2,\n",
    "                                  max_iter=25,\n",
    "                                  total_time=1.0,\n",
    "                                  plot_step=1,\n",
    "                                  tol=1e-4,\n",
    "                                  ftol=1e-4,\n",
    "                                  dtol=1e-2)\n",
    "\n",
    "env = dismech.Environment()\n",
    "#env.add_force('gravity', g=np.array([0.0, 0.0, -9.81]))\n",
    "env.add_force('selfContact', delta=5e-4, h=2e-3)\n",
    "#env.set_static()   \n",
    "\n",
    "geo = dismech.Geometry.from_txt('input_twoTriangleContact_p2p.txt')\n",
    "\n",
    "robot = dismech.SoftRobot(geom, material, geo, shell_contact_sim, env)\n",
    "\n",
    "u = robot.state.u\n",
    "u[11] = -0.5\n",
    "u[14] = -0.5\n",
    "u[17] = -0.5"
   ]
  },
  {
   "cell_type": "markdown",
   "metadata": {},
   "source": [
    "### Time Stepping\n",
    "\n",
    "As we are performing a static simulation, we must change gravity for each time step."
   ]
  },
  {
   "cell_type": "code",
   "execution_count": 2,
   "metadata": {},
   "outputs": [
    {
     "name": "stdout",
     "output_type": "stream",
     "text": [
      "dist_square:  [2500.]\n",
      "reordered_ind:  [[ 3  4  5  6  7  8  0  1  2  9 10 11 12 13 14 15 16 17]]\n",
      "contact_types:  ['PointToPoint']\n",
      "dist_square:  [2500.]\n",
      "reordered_ind:  [[ 3  4  5  6  7  8  0  1  2  9 10 11 12 13 14 15 16 17]]\n",
      "contact_types:  ['PointToPoint']\n",
      "dist_square:  [2500.]\n",
      "reordered_ind:  [[ 3  4  5  6  7  8  0  1  2  9 10 11 12 13 14 15 16 17]]\n",
      "contact_types:  ['PointToPoint']\n",
      "Delta: [50.]\n",
      "upper limit for quadratic: 1.75\n",
      "upper limit for smooth: 2.25\n",
      "dist_square:  [2256.25]\n",
      "reordered_ind:  [[ 3  4  5  6  7  8  0  1  2  9 10 11 12 13 14 15 16 17]]\n",
      "contact_types:  ['PointToPoint']\n",
      "dist_square:  [2256.25]\n",
      "reordered_ind:  [[ 3  4  5  6  7  8  0  1  2  9 10 11 12 13 14 15 16 17]]\n",
      "contact_types:  ['PointToPoint']\n",
      "dist_square:  [2256.25]\n",
      "reordered_ind:  [[ 3  4  5  6  7  8  0  1  2  9 10 11 12 13 14 15 16 17]]\n",
      "contact_types:  ['PointToPoint']\n",
      "Delta: [47.5]\n",
      "upper limit for quadratic: 1.75\n",
      "upper limit for smooth: 2.25\n",
      "dist_square:  [2256.25]\n",
      "reordered_ind:  [[ 3  4  5  6  7  8  0  1  2  9 10 11 12 13 14 15 16 17]]\n",
      "contact_types:  ['PointToPoint']\n",
      "dist_square:  [2256.25]\n",
      "reordered_ind:  [[ 3  4  5  6  7  8  0  1  2  9 10 11 12 13 14 15 16 17]]\n",
      "contact_types:  ['PointToPoint']\n",
      "dist_square:  [2256.25]\n",
      "reordered_ind:  [[ 3  4  5  6  7  8  0  1  2  9 10 11 12 13 14 15 16 17]]\n",
      "contact_types:  ['PointToPoint']\n",
      "Delta: [47.5]\n",
      "upper limit for quadratic: 1.75\n",
      "upper limit for smooth: 2.25\n",
      "dist_square:  [2025.]\n",
      "reordered_ind:  [[ 3  4  5  6  7  8  0  1  2  9 10 11 12 13 14 15 16 17]]\n",
      "contact_types:  ['PointToPoint']\n",
      "dist_square:  [2025.]\n",
      "reordered_ind:  [[ 3  4  5  6  7  8  0  1  2  9 10 11 12 13 14 15 16 17]]\n",
      "contact_types:  ['PointToPoint']\n",
      "dist_square:  [2025.]\n",
      "reordered_ind:  [[ 3  4  5  6  7  8  0  1  2  9 10 11 12 13 14 15 16 17]]\n",
      "contact_types:  ['PointToPoint']\n",
      "Delta: [45.]\n",
      "upper limit for quadratic: 1.75\n",
      "upper limit for smooth: 2.25\n",
      "dist_square:  [2025.]\n",
      "reordered_ind:  [[ 3  4  5  6  7  8  0  1  2  9 10 11 12 13 14 15 16 17]]\n",
      "contact_types:  ['PointToPoint']\n",
      "dist_square:  [2025.]\n",
      "reordered_ind:  [[ 3  4  5  6  7  8  0  1  2  9 10 11 12 13 14 15 16 17]]\n",
      "contact_types:  ['PointToPoint']\n",
      "dist_square:  [2025.]\n",
      "reordered_ind:  [[ 3  4  5  6  7  8  0  1  2  9 10 11 12 13 14 15 16 17]]\n",
      "contact_types:  ['PointToPoint']\n",
      "Delta: [45.]\n",
      "upper limit for quadratic: 1.75\n",
      "upper limit for smooth: 2.25\n",
      "dist_square:  [1806.25]\n",
      "reordered_ind:  [[ 3  4  5  6  7  8  0  1  2  9 10 11 12 13 14 15 16 17]]\n",
      "contact_types:  ['PointToPoint']\n",
      "dist_square:  [1806.25]\n",
      "reordered_ind:  [[ 3  4  5  6  7  8  0  1  2  9 10 11 12 13 14 15 16 17]]\n",
      "contact_types:  ['PointToPoint']\n",
      "dist_square:  [1806.25]\n",
      "reordered_ind:  [[ 3  4  5  6  7  8  0  1  2  9 10 11 12 13 14 15 16 17]]\n",
      "contact_types:  ['PointToPoint']\n",
      "Delta: [42.5]\n",
      "upper limit for quadratic: 1.75\n",
      "upper limit for smooth: 2.25\n",
      "dist_square:  [1806.25]\n",
      "reordered_ind:  [[ 3  4  5  6  7  8  0  1  2  9 10 11 12 13 14 15 16 17]]\n",
      "contact_types:  ['PointToPoint']\n",
      "dist_square:  [1806.25]\n",
      "reordered_ind:  [[ 3  4  5  6  7  8  0  1  2  9 10 11 12 13 14 15 16 17]]\n",
      "contact_types:  ['PointToPoint']\n",
      "dist_square:  [1806.25]\n",
      "reordered_ind:  [[ 3  4  5  6  7  8  0  1  2  9 10 11 12 13 14 15 16 17]]\n",
      "contact_types:  ['PointToPoint']\n",
      "Delta: [42.5]\n",
      "upper limit for quadratic: 1.75\n",
      "upper limit for smooth: 2.25\n",
      "dist_square:  [1600.]\n",
      "reordered_ind:  [[ 3  4  5  6  7  8  0  1  2  9 10 11 12 13 14 15 16 17]]\n",
      "contact_types:  ['PointToPoint']\n",
      "dist_square:  [1600.]\n",
      "reordered_ind:  [[ 3  4  5  6  7  8  0  1  2  9 10 11 12 13 14 15 16 17]]\n",
      "contact_types:  ['PointToPoint']\n",
      "dist_square:  [1600.]\n",
      "reordered_ind:  [[ 3  4  5  6  7  8  0  1  2  9 10 11 12 13 14 15 16 17]]\n",
      "contact_types:  ['PointToPoint']\n",
      "Delta: [40.]\n",
      "upper limit for quadratic: 1.75\n",
      "upper limit for smooth: 2.25\n",
      "dist_square:  [1600.]\n",
      "reordered_ind:  [[ 3  4  5  6  7  8  0  1  2  9 10 11 12 13 14 15 16 17]]\n",
      "contact_types:  ['PointToPoint']\n",
      "dist_square:  [1600.]\n",
      "reordered_ind:  [[ 3  4  5  6  7  8  0  1  2  9 10 11 12 13 14 15 16 17]]\n",
      "contact_types:  ['PointToPoint']\n",
      "dist_square:  [1600.]\n",
      "reordered_ind:  [[ 3  4  5  6  7  8  0  1  2  9 10 11 12 13 14 15 16 17]]\n",
      "contact_types:  ['PointToPoint']\n",
      "Delta: [40.]\n",
      "upper limit for quadratic: 1.75\n",
      "upper limit for smooth: 2.25\n",
      "dist_square:  [1406.25]\n",
      "reordered_ind:  [[ 3  4  5  6  7  8  0  1  2  9 10 11 12 13 14 15 16 17]]\n",
      "contact_types:  ['PointToPoint']\n",
      "dist_square:  [1406.25]\n",
      "reordered_ind:  [[ 3  4  5  6  7  8  0  1  2  9 10 11 12 13 14 15 16 17]]\n",
      "contact_types:  ['PointToPoint']\n",
      "dist_square:  [1406.25]\n",
      "reordered_ind:  [[ 3  4  5  6  7  8  0  1  2  9 10 11 12 13 14 15 16 17]]\n",
      "contact_types:  ['PointToPoint']\n",
      "Delta: [37.5]\n",
      "upper limit for quadratic: 1.75\n",
      "upper limit for smooth: 2.25\n",
      "dist_square:  [1406.25]\n",
      "reordered_ind:  [[ 3  4  5  6  7  8  0  1  2  9 10 11 12 13 14 15 16 17]]\n",
      "contact_types:  ['PointToPoint']\n",
      "dist_square:  [1406.25]\n",
      "reordered_ind:  [[ 3  4  5  6  7  8  0  1  2  9 10 11 12 13 14 15 16 17]]\n",
      "contact_types:  ['PointToPoint']\n",
      "dist_square:  [1406.25]\n",
      "reordered_ind:  [[ 3  4  5  6  7  8  0  1  2  9 10 11 12 13 14 15 16 17]]\n",
      "contact_types:  ['PointToPoint']\n",
      "Delta: [37.5]\n",
      "upper limit for quadratic: 1.75\n",
      "upper limit for smooth: 2.25\n",
      "dist_square:  [1225.]\n",
      "reordered_ind:  [[ 3  4  5  6  7  8  0  1  2  9 10 11 12 13 14 15 16 17]]\n",
      "contact_types:  ['PointToPoint']\n",
      "dist_square:  [1225.]\n",
      "reordered_ind:  [[ 3  4  5  6  7  8  0  1  2  9 10 11 12 13 14 15 16 17]]\n",
      "contact_types:  ['PointToPoint']\n",
      "dist_square:  [1225.]\n",
      "reordered_ind:  [[ 3  4  5  6  7  8  0  1  2  9 10 11 12 13 14 15 16 17]]\n",
      "contact_types:  ['PointToPoint']\n",
      "Delta: [35.]\n",
      "upper limit for quadratic: 1.75\n",
      "upper limit for smooth: 2.25\n",
      "dist_square:  [1225.]\n",
      "reordered_ind:  [[ 3  4  5  6  7  8  0  1  2  9 10 11 12 13 14 15 16 17]]\n",
      "contact_types:  ['PointToPoint']\n",
      "dist_square:  [1225.]\n",
      "reordered_ind:  [[ 3  4  5  6  7  8  0  1  2  9 10 11 12 13 14 15 16 17]]\n",
      "contact_types:  ['PointToPoint']\n",
      "dist_square:  [1225.]\n",
      "reordered_ind:  [[ 3  4  5  6  7  8  0  1  2  9 10 11 12 13 14 15 16 17]]\n",
      "contact_types:  ['PointToPoint']\n",
      "Delta: [35.]\n",
      "upper limit for quadratic: 1.75\n",
      "upper limit for smooth: 2.25\n",
      "dist_square:  [1056.25]\n",
      "reordered_ind:  [[ 3  4  5  6  7  8  0  1  2  9 10 11 12 13 14 15 16 17]]\n",
      "contact_types:  ['PointToPoint']\n",
      "dist_square:  [1056.25]\n",
      "reordered_ind:  [[ 3  4  5  6  7  8  0  1  2  9 10 11 12 13 14 15 16 17]]\n",
      "contact_types:  ['PointToPoint']\n",
      "dist_square:  [1056.25]\n",
      "reordered_ind:  [[ 3  4  5  6  7  8  0  1  2  9 10 11 12 13 14 15 16 17]]\n",
      "contact_types:  ['PointToPoint']\n",
      "Delta: [32.5]\n",
      "upper limit for quadratic: 1.75\n",
      "upper limit for smooth: 2.25\n",
      "dist_square:  [1056.25]\n",
      "reordered_ind:  [[ 3  4  5  6  7  8  0  1  2  9 10 11 12 13 14 15 16 17]]\n",
      "contact_types:  ['PointToPoint']\n",
      "dist_square:  [1056.25]\n",
      "reordered_ind:  [[ 3  4  5  6  7  8  0  1  2  9 10 11 12 13 14 15 16 17]]\n",
      "contact_types:  ['PointToPoint']\n",
      "dist_square:  [1056.25]\n",
      "reordered_ind:  [[ 3  4  5  6  7  8  0  1  2  9 10 11 12 13 14 15 16 17]]\n",
      "contact_types:  ['PointToPoint']\n",
      "Delta: [32.5]\n",
      "upper limit for quadratic: 1.75\n",
      "upper limit for smooth: 2.25\n",
      "dist_square:  [900.]\n",
      "reordered_ind:  [[ 3  4  5  6  7  8  0  1  2  9 10 11 12 13 14 15 16 17]]\n",
      "contact_types:  ['PointToPoint']\n",
      "dist_square:  [900.]\n",
      "reordered_ind:  [[ 3  4  5  6  7  8  0  1  2  9 10 11 12 13 14 15 16 17]]\n",
      "contact_types:  ['PointToPoint']\n",
      "dist_square:  [900.]\n",
      "reordered_ind:  [[ 3  4  5  6  7  8  0  1  2  9 10 11 12 13 14 15 16 17]]\n",
      "contact_types:  ['PointToPoint']\n",
      "Delta: [30.]\n",
      "upper limit for quadratic: 1.75\n",
      "upper limit for smooth: 2.25\n",
      "dist_square:  [900.]\n",
      "reordered_ind:  [[ 3  4  5  6  7  8  0  1  2  9 10 11 12 13 14 15 16 17]]\n",
      "contact_types:  ['PointToPoint']\n",
      "dist_square:  [900.]\n",
      "reordered_ind:  [[ 3  4  5  6  7  8  0  1  2  9 10 11 12 13 14 15 16 17]]\n",
      "contact_types:  ['PointToPoint']\n",
      "dist_square:  [900.]\n",
      "reordered_ind:  [[ 3  4  5  6  7  8  0  1  2  9 10 11 12 13 14 15 16 17]]\n",
      "contact_types:  ['PointToPoint']\n",
      "Delta: [30.]\n",
      "upper limit for quadratic: 1.75\n",
      "upper limit for smooth: 2.25\n",
      "dist_square:  [756.25]\n",
      "reordered_ind:  [[ 3  4  5  6  7  8  0  1  2  9 10 11 12 13 14 15 16 17]]\n",
      "contact_types:  ['PointToPoint']\n",
      "dist_square:  [756.25]\n",
      "reordered_ind:  [[ 3  4  5  6  7  8  0  1  2  9 10 11 12 13 14 15 16 17]]\n",
      "contact_types:  ['PointToPoint']\n",
      "dist_square:  [756.25]\n",
      "reordered_ind:  [[ 3  4  5  6  7  8  0  1  2  9 10 11 12 13 14 15 16 17]]\n",
      "contact_types:  ['PointToPoint']\n",
      "Delta: [27.5]\n",
      "upper limit for quadratic: 1.75\n",
      "upper limit for smooth: 2.25\n",
      "dist_square:  [756.25]\n",
      "reordered_ind:  [[ 3  4  5  6  7  8  0  1  2  9 10 11 12 13 14 15 16 17]]\n",
      "contact_types:  ['PointToPoint']\n",
      "dist_square:  [756.25]\n",
      "reordered_ind:  [[ 3  4  5  6  7  8  0  1  2  9 10 11 12 13 14 15 16 17]]\n",
      "contact_types:  ['PointToPoint']\n",
      "dist_square:  [756.25]\n",
      "reordered_ind:  [[ 3  4  5  6  7  8  0  1  2  9 10 11 12 13 14 15 16 17]]\n",
      "contact_types:  ['PointToPoint']\n",
      "Delta: [27.5]\n",
      "upper limit for quadratic: 1.75\n",
      "upper limit for smooth: 2.25\n",
      "dist_square:  [625.]\n",
      "reordered_ind:  [[ 3  4  5  6  7  8  0  1  2  9 10 11 12 13 14 15 16 17]]\n",
      "contact_types:  ['PointToPoint']\n",
      "dist_square:  [625.]\n",
      "reordered_ind:  [[ 3  4  5  6  7  8  0  1  2  9 10 11 12 13 14 15 16 17]]\n",
      "contact_types:  ['PointToPoint']\n",
      "dist_square:  [625.]\n",
      "reordered_ind:  [[ 3  4  5  6  7  8  0  1  2  9 10 11 12 13 14 15 16 17]]\n",
      "contact_types:  ['PointToPoint']\n",
      "Delta: [25.]\n",
      "upper limit for quadratic: 1.75\n",
      "upper limit for smooth: 2.25\n",
      "dist_square:  [625.]\n",
      "reordered_ind:  [[ 3  4  5  6  7  8  0  1  2  9 10 11 12 13 14 15 16 17]]\n",
      "contact_types:  ['PointToPoint']\n",
      "dist_square:  [625.]\n",
      "reordered_ind:  [[ 3  4  5  6  7  8  0  1  2  9 10 11 12 13 14 15 16 17]]\n",
      "contact_types:  ['PointToPoint']\n",
      "dist_square:  [625.]\n",
      "reordered_ind:  [[ 3  4  5  6  7  8  0  1  2  9 10 11 12 13 14 15 16 17]]\n",
      "contact_types:  ['PointToPoint']\n",
      "Delta: [25.]\n",
      "upper limit for quadratic: 1.75\n",
      "upper limit for smooth: 2.25\n",
      "dist_square:  [506.25]\n",
      "reordered_ind:  [[ 3  4  5  6  7  8  0  1  2  9 10 11 12 13 14 15 16 17]]\n",
      "contact_types:  ['PointToPoint']\n",
      "dist_square:  [506.25]\n",
      "reordered_ind:  [[ 3  4  5  6  7  8  0  1  2  9 10 11 12 13 14 15 16 17]]\n",
      "contact_types:  ['PointToPoint']\n",
      "dist_square:  [506.25]\n",
      "reordered_ind:  [[ 3  4  5  6  7  8  0  1  2  9 10 11 12 13 14 15 16 17]]\n",
      "contact_types:  ['PointToPoint']\n",
      "Delta: [22.5]\n",
      "upper limit for quadratic: 1.75\n",
      "upper limit for smooth: 2.25\n",
      "dist_square:  [506.25]\n",
      "reordered_ind:  [[ 3  4  5  6  7  8  0  1  2  9 10 11 12 13 14 15 16 17]]\n",
      "contact_types:  ['PointToPoint']\n",
      "dist_square:  [506.25]\n",
      "reordered_ind:  [[ 3  4  5  6  7  8  0  1  2  9 10 11 12 13 14 15 16 17]]\n",
      "contact_types:  ['PointToPoint']\n",
      "dist_square:  [506.25]\n",
      "reordered_ind:  [[ 3  4  5  6  7  8  0  1  2  9 10 11 12 13 14 15 16 17]]\n",
      "contact_types:  ['PointToPoint']\n",
      "Delta: [22.5]\n",
      "upper limit for quadratic: 1.75\n",
      "upper limit for smooth: 2.25\n",
      "dist_square:  [400.]\n",
      "reordered_ind:  [[ 3  4  5  6  7  8  0  1  2  9 10 11 12 13 14 15 16 17]]\n",
      "contact_types:  ['PointToPoint']\n",
      "dist_square:  [400.]\n",
      "reordered_ind:  [[ 3  4  5  6  7  8  0  1  2  9 10 11 12 13 14 15 16 17]]\n",
      "contact_types:  ['PointToPoint']\n",
      "dist_square:  [400.]\n",
      "reordered_ind:  [[ 3  4  5  6  7  8  0  1  2  9 10 11 12 13 14 15 16 17]]\n",
      "contact_types:  ['PointToPoint']\n",
      "Delta: [20.]\n",
      "upper limit for quadratic: 1.75\n",
      "upper limit for smooth: 2.25\n",
      "dist_square:  [400.]\n",
      "reordered_ind:  [[ 3  4  5  6  7  8  0  1  2  9 10 11 12 13 14 15 16 17]]\n",
      "contact_types:  ['PointToPoint']\n",
      "dist_square:  [400.]\n",
      "reordered_ind:  [[ 3  4  5  6  7  8  0  1  2  9 10 11 12 13 14 15 16 17]]\n",
      "contact_types:  ['PointToPoint']\n",
      "dist_square:  [400.]\n",
      "reordered_ind:  [[ 3  4  5  6  7  8  0  1  2  9 10 11 12 13 14 15 16 17]]\n",
      "contact_types:  ['PointToPoint']\n",
      "Delta: [20.]\n",
      "upper limit for quadratic: 1.75\n",
      "upper limit for smooth: 2.25\n",
      "dist_square:  [306.25]\n",
      "reordered_ind:  [[ 3  4  5  6  7  8  0  1  2  9 10 11 12 13 14 15 16 17]]\n",
      "contact_types:  ['PointToPoint']\n",
      "dist_square:  [306.25]\n",
      "reordered_ind:  [[ 3  4  5  6  7  8  0  1  2  9 10 11 12 13 14 15 16 17]]\n",
      "contact_types:  ['PointToPoint']\n",
      "dist_square:  [306.25]\n",
      "reordered_ind:  [[ 3  4  5  6  7  8  0  1  2  9 10 11 12 13 14 15 16 17]]\n",
      "contact_types:  ['PointToPoint']\n",
      "Delta: [17.5]\n",
      "upper limit for quadratic: 1.75\n",
      "upper limit for smooth: 2.25\n",
      "dist_square:  [306.25]\n",
      "reordered_ind:  [[ 3  4  5  6  7  8  0  1  2  9 10 11 12 13 14 15 16 17]]\n",
      "contact_types:  ['PointToPoint']\n",
      "dist_square:  [306.25]\n",
      "reordered_ind:  [[ 3  4  5  6  7  8  0  1  2  9 10 11 12 13 14 15 16 17]]\n",
      "contact_types:  ['PointToPoint']\n",
      "dist_square:  [306.25]\n",
      "reordered_ind:  [[ 3  4  5  6  7  8  0  1  2  9 10 11 12 13 14 15 16 17]]\n",
      "contact_types:  ['PointToPoint']\n",
      "Delta: [17.5]\n",
      "upper limit for quadratic: 1.75\n",
      "upper limit for smooth: 2.25\n",
      "dist_square:  [225.]\n",
      "reordered_ind:  [[ 3  4  5  6  7  8  0  1  2  9 10 11 12 13 14 15 16 17]]\n",
      "contact_types:  ['PointToPoint']\n",
      "dist_square:  [225.]\n",
      "reordered_ind:  [[ 3  4  5  6  7  8  0  1  2  9 10 11 12 13 14 15 16 17]]\n",
      "contact_types:  ['PointToPoint']\n",
      "dist_square:  [225.]\n",
      "reordered_ind:  [[ 3  4  5  6  7  8  0  1  2  9 10 11 12 13 14 15 16 17]]\n",
      "contact_types:  ['PointToPoint']\n",
      "Delta: [15.]\n",
      "upper limit for quadratic: 1.75\n",
      "upper limit for smooth: 2.25\n",
      "dist_square:  [225.]\n",
      "reordered_ind:  [[ 3  4  5  6  7  8  0  1  2  9 10 11 12 13 14 15 16 17]]\n",
      "contact_types:  ['PointToPoint']\n",
      "dist_square:  [225.]\n",
      "reordered_ind:  [[ 3  4  5  6  7  8  0  1  2  9 10 11 12 13 14 15 16 17]]\n",
      "contact_types:  ['PointToPoint']\n",
      "dist_square:  [225.]\n",
      "reordered_ind:  [[ 3  4  5  6  7  8  0  1  2  9 10 11 12 13 14 15 16 17]]\n",
      "contact_types:  ['PointToPoint']\n",
      "Delta: [15.]\n",
      "upper limit for quadratic: 1.75\n",
      "upper limit for smooth: 2.25\n",
      "dist_square:  [156.25]\n",
      "reordered_ind:  [[ 3  4  5  6  7  8  0  1  2  9 10 11 12 13 14 15 16 17]]\n",
      "contact_types:  ['PointToPoint']\n",
      "dist_square:  [156.25]\n",
      "reordered_ind:  [[ 3  4  5  6  7  8  0  1  2  9 10 11 12 13 14 15 16 17]]\n",
      "contact_types:  ['PointToPoint']\n",
      "dist_square:  [156.25]\n",
      "reordered_ind:  [[ 3  4  5  6  7  8  0  1  2  9 10 11 12 13 14 15 16 17]]\n",
      "contact_types:  ['PointToPoint']\n",
      "Delta: [12.5]\n",
      "upper limit for quadratic: 1.75\n",
      "upper limit for smooth: 2.25\n",
      "dist_square:  [156.25]\n",
      "reordered_ind:  [[ 3  4  5  6  7  8  0  1  2  9 10 11 12 13 14 15 16 17]]\n",
      "contact_types:  ['PointToPoint']\n",
      "dist_square:  [156.25]\n",
      "reordered_ind:  [[ 3  4  5  6  7  8  0  1  2  9 10 11 12 13 14 15 16 17]]\n",
      "contact_types:  ['PointToPoint']\n",
      "dist_square:  [156.25]\n",
      "reordered_ind:  [[ 3  4  5  6  7  8  0  1  2  9 10 11 12 13 14 15 16 17]]\n",
      "contact_types:  ['PointToPoint']\n",
      "Delta: [12.5]\n",
      "upper limit for quadratic: 1.75\n",
      "upper limit for smooth: 2.25\n",
      "dist_square:  [100.]\n",
      "reordered_ind:  [[ 3  4  5  6  7  8  0  1  2  9 10 11 12 13 14 15 16 17]]\n",
      "contact_types:  ['PointToPoint']\n",
      "dist_square:  [100.]\n",
      "reordered_ind:  [[ 3  4  5  6  7  8  0  1  2  9 10 11 12 13 14 15 16 17]]\n",
      "contact_types:  ['PointToPoint']\n",
      "dist_square:  [100.]\n",
      "reordered_ind:  [[ 3  4  5  6  7  8  0  1  2  9 10 11 12 13 14 15 16 17]]\n",
      "contact_types:  ['PointToPoint']\n",
      "Delta: [10.]\n",
      "upper limit for quadratic: 1.75\n",
      "upper limit for smooth: 2.25\n",
      "dist_square:  [100.]\n",
      "reordered_ind:  [[ 3  4  5  6  7  8  0  1  2  9 10 11 12 13 14 15 16 17]]\n",
      "contact_types:  ['PointToPoint']\n",
      "dist_square:  [100.]\n",
      "reordered_ind:  [[ 3  4  5  6  7  8  0  1  2  9 10 11 12 13 14 15 16 17]]\n",
      "contact_types:  ['PointToPoint']\n",
      "dist_square:  [100.]\n",
      "reordered_ind:  [[ 3  4  5  6  7  8  0  1  2  9 10 11 12 13 14 15 16 17]]\n",
      "contact_types:  ['PointToPoint']\n",
      "Delta: [10.]\n",
      "upper limit for quadratic: 1.75\n",
      "upper limit for smooth: 2.25\n",
      "dist_square:  [56.25]\n",
      "reordered_ind:  [[ 3  4  5  6  7  8  0  1  2  9 10 11 12 13 14 15 16 17]]\n",
      "contact_types:  ['PointToPoint']\n",
      "dist_square:  [56.25]\n",
      "reordered_ind:  [[ 3  4  5  6  7  8  0  1  2  9 10 11 12 13 14 15 16 17]]\n",
      "contact_types:  ['PointToPoint']\n",
      "dist_square:  [56.25]\n",
      "reordered_ind:  [[ 3  4  5  6  7  8  0  1  2  9 10 11 12 13 14 15 16 17]]\n",
      "contact_types:  ['PointToPoint']\n",
      "Delta: [7.5]\n",
      "upper limit for quadratic: 1.75\n",
      "upper limit for smooth: 2.25\n",
      "dist_square:  [56.25]\n",
      "reordered_ind:  [[ 3  4  5  6  7  8  0  1  2  9 10 11 12 13 14 15 16 17]]\n",
      "contact_types:  ['PointToPoint']\n",
      "dist_square:  [56.25]\n",
      "reordered_ind:  [[ 3  4  5  6  7  8  0  1  2  9 10 11 12 13 14 15 16 17]]\n",
      "contact_types:  ['PointToPoint']\n",
      "dist_square:  [56.25]\n",
      "reordered_ind:  [[ 3  4  5  6  7  8  0  1  2  9 10 11 12 13 14 15 16 17]]\n",
      "contact_types:  ['PointToPoint']\n",
      "Delta: [7.5]\n",
      "upper limit for quadratic: 1.75\n",
      "upper limit for smooth: 2.25\n",
      "dist_square:  [25.]\n",
      "reordered_ind:  [[ 3  4  5  6  7  8  0  1  2  9 10 11 12 13 14 15 16 17]]\n",
      "contact_types:  ['PointToPoint']\n",
      "dist_square:  [25.]\n",
      "reordered_ind:  [[ 3  4  5  6  7  8  0  1  2  9 10 11 12 13 14 15 16 17]]\n",
      "contact_types:  ['PointToPoint']\n",
      "dist_square:  [25.]\n",
      "reordered_ind:  [[ 3  4  5  6  7  8  0  1  2  9 10 11 12 13 14 15 16 17]]\n",
      "contact_types:  ['PointToPoint']\n",
      "Delta: [5.]\n",
      "upper limit for quadratic: 1.75\n",
      "upper limit for smooth: 2.25\n",
      "dist_square:  [25.]\n",
      "reordered_ind:  [[ 3  4  5  6  7  8  0  1  2  9 10 11 12 13 14 15 16 17]]\n",
      "contact_types:  ['PointToPoint']\n",
      "dist_square:  [25.]\n",
      "reordered_ind:  [[ 3  4  5  6  7  8  0  1  2  9 10 11 12 13 14 15 16 17]]\n",
      "contact_types:  ['PointToPoint']\n",
      "dist_square:  [25.]\n",
      "reordered_ind:  [[ 3  4  5  6  7  8  0  1  2  9 10 11 12 13 14 15 16 17]]\n",
      "contact_types:  ['PointToPoint']\n",
      "Delta: [5.]\n",
      "upper limit for quadratic: 1.75\n",
      "upper limit for smooth: 2.25\n",
      "dist_square:  [6.25]\n",
      "reordered_ind:  [[ 3  4  5  6  7  8  0  1  2  9 10 11 12 13 14 15 16 17]]\n",
      "contact_types:  ['PointToPoint']\n",
      "dist_square:  [6.25]\n",
      "reordered_ind:  [[ 3  4  5  6  7  8  0  1  2  9 10 11 12 13 14 15 16 17]]\n",
      "contact_types:  ['PointToPoint']\n",
      "dist_square:  [6.25]\n",
      "reordered_ind:  [[ 3  4  5  6  7  8  0  1  2  9 10 11 12 13 14 15 16 17]]\n",
      "contact_types:  ['PointToPoint']\n",
      "Delta: [2.5]\n",
      "upper limit for quadratic: 1.75\n",
      "upper limit for smooth: 2.25\n",
      "dist_square:  [6.25]\n",
      "reordered_ind:  [[ 3  4  5  6  7  8  0  1  2  9 10 11 12 13 14 15 16 17]]\n",
      "contact_types:  ['PointToPoint']\n",
      "dist_square:  [6.25]\n",
      "reordered_ind:  [[ 3  4  5  6  7  8  0  1  2  9 10 11 12 13 14 15 16 17]]\n",
      "contact_types:  ['PointToPoint']\n",
      "dist_square:  [6.25]\n",
      "reordered_ind:  [[ 3  4  5  6  7  8  0  1  2  9 10 11 12 13 14 15 16 17]]\n",
      "contact_types:  ['PointToPoint']\n",
      "Delta: [2.5]\n",
      "upper limit for quadratic: 1.75\n",
      "upper limit for smooth: 2.25\n",
      "dist_square:  [1.73333695e-27]\n",
      "reordered_ind:  [[ 3  4  5  6  7  8  0  1  2  9 10 11 12 13 14 15 16 17]]\n",
      "contact_types:  ['PointToPoint']\n",
      "dist_square:  [1.73333695e-27]\n",
      "reordered_ind:  [[ 3  4  5  6  7  8  0  1  2  9 10 11 12 13 14 15 16 17]]\n",
      "contact_types:  ['PointToPoint']\n",
      "dist_square:  [1.73333695e-27]\n",
      "reordered_ind:  [[ 3  4  5  6  7  8  0  1  2  9 10 11 12 13 14 15 16 17]]\n",
      "contact_types:  ['PointToPoint']\n",
      "Delta: [4.16333634e-14]\n",
      "upper limit for quadratic: 1.75\n",
      "upper limit for smooth: 2.25\n",
      "Branch 1 (quadratic): [4.16333634e-14]\n",
      "gradE is: [[   -0.    -0.    -0.     0.     0. -2000.    -0.    -0.    -0.    -0.\n",
      "     -0.  2000.    -0.    -0.    -0.    -0.    -0.    -0.]]\n",
      "hessE is: [[[ 0.0000000e+00  0.0000000e+00  0.0000000e+00  0.0000000e+00\n",
      "    0.0000000e+00  0.0000000e+00  0.0000000e+00  0.0000000e+00\n",
      "    0.0000000e+00  0.0000000e+00  0.0000000e+00  0.0000000e+00\n",
      "    0.0000000e+00  0.0000000e+00  0.0000000e+00  0.0000000e+00\n",
      "    0.0000000e+00  0.0000000e+00]\n",
      "  [ 0.0000000e+00  0.0000000e+00  0.0000000e+00  0.0000000e+00\n",
      "    0.0000000e+00  0.0000000e+00  0.0000000e+00  0.0000000e+00\n",
      "    0.0000000e+00  0.0000000e+00  0.0000000e+00  0.0000000e+00\n",
      "    0.0000000e+00  0.0000000e+00  0.0000000e+00  0.0000000e+00\n",
      "    0.0000000e+00  0.0000000e+00]\n",
      "  [ 0.0000000e+00  0.0000000e+00  0.0000000e+00  0.0000000e+00\n",
      "    0.0000000e+00  0.0000000e+00  0.0000000e+00  0.0000000e+00\n",
      "    0.0000000e+00  0.0000000e+00  0.0000000e+00  0.0000000e+00\n",
      "    0.0000000e+00  0.0000000e+00  0.0000000e+00  0.0000000e+00\n",
      "    0.0000000e+00  0.0000000e+00]\n",
      "  [ 0.0000000e+00  0.0000000e+00  0.0000000e+00 -2.4019198e+19\n",
      "    0.0000000e+00  0.0000000e+00  0.0000000e+00  0.0000000e+00\n",
      "    0.0000000e+00  2.4019198e+19  0.0000000e+00  0.0000000e+00\n",
      "    0.0000000e+00  0.0000000e+00  0.0000000e+00  0.0000000e+00\n",
      "    0.0000000e+00  0.0000000e+00]\n",
      "  [ 0.0000000e+00  0.0000000e+00  0.0000000e+00  0.0000000e+00\n",
      "   -2.4019198e+19  0.0000000e+00  0.0000000e+00  0.0000000e+00\n",
      "    0.0000000e+00  0.0000000e+00  2.4019198e+19  0.0000000e+00\n",
      "    0.0000000e+00  0.0000000e+00  0.0000000e+00  0.0000000e+00\n",
      "    0.0000000e+00  0.0000000e+00]\n",
      "  [ 0.0000000e+00  0.0000000e+00  0.0000000e+00  0.0000000e+00\n",
      "    0.0000000e+00  5.0000000e+05  0.0000000e+00  0.0000000e+00\n",
      "    0.0000000e+00  0.0000000e+00  0.0000000e+00 -5.0000000e+05\n",
      "    0.0000000e+00  0.0000000e+00  0.0000000e+00  0.0000000e+00\n",
      "    0.0000000e+00  0.0000000e+00]\n",
      "  [ 0.0000000e+00  0.0000000e+00  0.0000000e+00  0.0000000e+00\n",
      "    0.0000000e+00  0.0000000e+00  0.0000000e+00  0.0000000e+00\n",
      "    0.0000000e+00  0.0000000e+00  0.0000000e+00  0.0000000e+00\n",
      "    0.0000000e+00  0.0000000e+00  0.0000000e+00  0.0000000e+00\n",
      "    0.0000000e+00  0.0000000e+00]\n",
      "  [ 0.0000000e+00  0.0000000e+00  0.0000000e+00  0.0000000e+00\n",
      "    0.0000000e+00  0.0000000e+00  0.0000000e+00  0.0000000e+00\n",
      "    0.0000000e+00  0.0000000e+00  0.0000000e+00  0.0000000e+00\n",
      "    0.0000000e+00  0.0000000e+00  0.0000000e+00  0.0000000e+00\n",
      "    0.0000000e+00  0.0000000e+00]\n",
      "  [ 0.0000000e+00  0.0000000e+00  0.0000000e+00  0.0000000e+00\n",
      "    0.0000000e+00  0.0000000e+00  0.0000000e+00  0.0000000e+00\n",
      "    0.0000000e+00  0.0000000e+00  0.0000000e+00  0.0000000e+00\n",
      "    0.0000000e+00  0.0000000e+00  0.0000000e+00  0.0000000e+00\n",
      "    0.0000000e+00  0.0000000e+00]\n",
      "  [ 0.0000000e+00  0.0000000e+00  0.0000000e+00  2.4019198e+19\n",
      "    0.0000000e+00  0.0000000e+00  0.0000000e+00  0.0000000e+00\n",
      "    0.0000000e+00 -2.4019198e+19  0.0000000e+00  0.0000000e+00\n",
      "    0.0000000e+00  0.0000000e+00  0.0000000e+00  0.0000000e+00\n",
      "    0.0000000e+00  0.0000000e+00]\n",
      "  [ 0.0000000e+00  0.0000000e+00  0.0000000e+00  0.0000000e+00\n",
      "    2.4019198e+19  0.0000000e+00  0.0000000e+00  0.0000000e+00\n",
      "    0.0000000e+00  0.0000000e+00 -2.4019198e+19  0.0000000e+00\n",
      "    0.0000000e+00  0.0000000e+00  0.0000000e+00  0.0000000e+00\n",
      "    0.0000000e+00  0.0000000e+00]\n",
      "  [ 0.0000000e+00  0.0000000e+00  0.0000000e+00  0.0000000e+00\n",
      "    0.0000000e+00 -5.0000000e+05  0.0000000e+00  0.0000000e+00\n",
      "    0.0000000e+00  0.0000000e+00  0.0000000e+00  5.0000000e+05\n",
      "    0.0000000e+00  0.0000000e+00  0.0000000e+00  0.0000000e+00\n",
      "    0.0000000e+00  0.0000000e+00]\n",
      "  [ 0.0000000e+00  0.0000000e+00  0.0000000e+00  0.0000000e+00\n",
      "    0.0000000e+00  0.0000000e+00  0.0000000e+00  0.0000000e+00\n",
      "    0.0000000e+00  0.0000000e+00  0.0000000e+00  0.0000000e+00\n",
      "    0.0000000e+00  0.0000000e+00  0.0000000e+00  0.0000000e+00\n",
      "    0.0000000e+00  0.0000000e+00]\n",
      "  [ 0.0000000e+00  0.0000000e+00  0.0000000e+00  0.0000000e+00\n",
      "    0.0000000e+00  0.0000000e+00  0.0000000e+00  0.0000000e+00\n",
      "    0.0000000e+00  0.0000000e+00  0.0000000e+00  0.0000000e+00\n",
      "    0.0000000e+00  0.0000000e+00  0.0000000e+00  0.0000000e+00\n",
      "    0.0000000e+00  0.0000000e+00]\n",
      "  [ 0.0000000e+00  0.0000000e+00  0.0000000e+00  0.0000000e+00\n",
      "    0.0000000e+00  0.0000000e+00  0.0000000e+00  0.0000000e+00\n",
      "    0.0000000e+00  0.0000000e+00  0.0000000e+00  0.0000000e+00\n",
      "    0.0000000e+00  0.0000000e+00  0.0000000e+00  0.0000000e+00\n",
      "    0.0000000e+00  0.0000000e+00]\n",
      "  [ 0.0000000e+00  0.0000000e+00  0.0000000e+00  0.0000000e+00\n",
      "    0.0000000e+00  0.0000000e+00  0.0000000e+00  0.0000000e+00\n",
      "    0.0000000e+00  0.0000000e+00  0.0000000e+00  0.0000000e+00\n",
      "    0.0000000e+00  0.0000000e+00  0.0000000e+00  0.0000000e+00\n",
      "    0.0000000e+00  0.0000000e+00]\n",
      "  [ 0.0000000e+00  0.0000000e+00  0.0000000e+00  0.0000000e+00\n",
      "    0.0000000e+00  0.0000000e+00  0.0000000e+00  0.0000000e+00\n",
      "    0.0000000e+00  0.0000000e+00  0.0000000e+00  0.0000000e+00\n",
      "    0.0000000e+00  0.0000000e+00  0.0000000e+00  0.0000000e+00\n",
      "    0.0000000e+00  0.0000000e+00]\n",
      "  [ 0.0000000e+00  0.0000000e+00  0.0000000e+00  0.0000000e+00\n",
      "    0.0000000e+00  0.0000000e+00  0.0000000e+00  0.0000000e+00\n",
      "    0.0000000e+00  0.0000000e+00  0.0000000e+00  0.0000000e+00\n",
      "    0.0000000e+00  0.0000000e+00  0.0000000e+00  0.0000000e+00\n",
      "    0.0000000e+00  0.0000000e+00]]]\n",
      "dist_square:  [3.984032]\n",
      "reordered_ind:  [[ 9 10 11 12 13 14 15 16 17  0  1  2  3  4  5  6  7  8]]\n",
      "contact_types:  ['PointToEdge']\n",
      "dist_square:  [3.984032]\n",
      "reordered_ind:  [[ 9 10 11 12 13 14 15 16 17  0  1  2  3  4  5  6  7  8]]\n",
      "contact_types:  ['PointToEdge']\n",
      "dist_square:  [3.984032]\n",
      "reordered_ind:  [[ 9 10 11 12 13 14 15 16 17  0  1  2  3  4  5  6  7  8]]\n",
      "contact_types:  ['PointToEdge']\n",
      "Delta: [1.99600401]\n",
      "upper limit for quadratic: 1.75\n",
      "upper limit for smooth: 2.25\n",
      "Branch 2 (smooth): [1.99600401]\n",
      "gradE is: [[ 1.21674677e-07 -0.00000000e+00 -6.09590130e-05  1.52701719e-02\n",
      "  -0.00000000e+00 -7.65035613e+00 -0.00000000e+00 -0.00000000e+00\n",
      "  -0.00000000e+00 -1.52702936e-02  0.00000000e+00  7.65041709e+00\n",
      "  -0.00000000e+00 -0.00000000e+00 -0.00000000e+00 -0.00000000e+00\n",
      "  -0.00000000e+00 -0.00000000e+00]]\n",
      "hessE is: [[[ 3.65087753e-07  0.00000000e+00 -1.21949951e-04  1.52780475e-02\n",
      "    0.00000000e+00 -3.94564477e-03  0.00000000e+00  0.00000000e+00\n",
      "    0.00000000e+00 -1.52784125e-02  0.00000000e+00  4.06759472e-03\n",
      "    0.00000000e+00  0.00000000e+00  0.00000000e+00  0.00000000e+00\n",
      "    0.00000000e+00  0.00000000e+00]\n",
      "  [ 0.00000000e+00 -1.21674677e-07  0.00000000e+00  0.00000000e+00\n",
      "   -1.52701719e-02  0.00000000e+00  0.00000000e+00  0.00000000e+00\n",
      "    0.00000000e+00  0.00000000e+00  1.52702936e-02  0.00000000e+00\n",
      "    0.00000000e+00  0.00000000e+00  0.00000000e+00  0.00000000e+00\n",
      "    0.00000000e+00  0.00000000e+00]\n",
      "  [-1.21949951e-04  0.00000000e+00  3.05564600e-02 -7.65436274e+00\n",
      "    0.00000000e+00  2.00730849e+00  0.00000000e+00  0.00000000e+00\n",
      "    0.00000000e+00  7.65448469e+00  0.00000000e+00 -2.03786495e+00\n",
      "    0.00000000e+00  0.00000000e+00  0.00000000e+00  0.00000000e+00\n",
      "    0.00000000e+00  0.00000000e+00]\n",
      "  [ 1.52780475e-02  0.00000000e+00 -7.65436274e+00  9.96015224e-01\n",
      "    0.00000000e+00 -5.06653983e+02  0.00000000e+00  0.00000000e+00\n",
      "    0.00000000e+00 -1.01129327e+00  0.00000000e+00  5.14308346e+02\n",
      "    0.00000000e+00  0.00000000e+00  0.00000000e+00  0.00000000e+00\n",
      "    0.00000000e+00  0.00000000e+00]\n",
      "  [ 0.00000000e+00 -1.52701719e-02  0.00000000e+00  0.00000000e+00\n",
      "   -1.91640658e+03  0.00000000e+00  0.00000000e+00  0.00000000e+00\n",
      "    0.00000000e+00  0.00000000e+00  1.91642185e+03  0.00000000e+00\n",
      "    0.00000000e+00  0.00000000e+00  0.00000000e+00  0.00000000e+00\n",
      "    0.00000000e+00  0.00000000e+00]\n",
      "  [-3.94564477e-03  0.00000000e+00  2.00730849e+00 -5.06653983e+02\n",
      "    0.00000000e+00  2.57666474e+05  0.00000000e+00  0.00000000e+00\n",
      "    0.00000000e+00  5.06657929e+02  0.00000000e+00 -2.57668481e+05\n",
      "    0.00000000e+00  0.00000000e+00  0.00000000e+00  0.00000000e+00\n",
      "    0.00000000e+00  0.00000000e+00]\n",
      "  [ 0.00000000e+00  0.00000000e+00  0.00000000e+00  0.00000000e+00\n",
      "    0.00000000e+00  0.00000000e+00  0.00000000e+00  0.00000000e+00\n",
      "    0.00000000e+00  0.00000000e+00  0.00000000e+00  0.00000000e+00\n",
      "    0.00000000e+00  0.00000000e+00  0.00000000e+00  0.00000000e+00\n",
      "    0.00000000e+00  0.00000000e+00]\n",
      "  [ 0.00000000e+00  0.00000000e+00  0.00000000e+00  0.00000000e+00\n",
      "    0.00000000e+00  0.00000000e+00  0.00000000e+00  0.00000000e+00\n",
      "    0.00000000e+00  0.00000000e+00  0.00000000e+00  0.00000000e+00\n",
      "    0.00000000e+00  0.00000000e+00  0.00000000e+00  0.00000000e+00\n",
      "    0.00000000e+00  0.00000000e+00]\n",
      "  [ 0.00000000e+00  0.00000000e+00  0.00000000e+00  0.00000000e+00\n",
      "    0.00000000e+00  0.00000000e+00  0.00000000e+00  0.00000000e+00\n",
      "    0.00000000e+00  0.00000000e+00  0.00000000e+00  0.00000000e+00\n",
      "    0.00000000e+00  0.00000000e+00  0.00000000e+00  0.00000000e+00\n",
      "    0.00000000e+00  0.00000000e+00]\n",
      "  [-1.52784125e-02  0.00000000e+00  7.65448469e+00 -1.01129327e+00\n",
      "    0.00000000e+00  5.06657929e+02  0.00000000e+00  0.00000000e+00\n",
      "    0.00000000e+00  1.02657168e+00  0.00000000e+00 -5.14312414e+02\n",
      "    0.00000000e+00  0.00000000e+00  0.00000000e+00  0.00000000e+00\n",
      "    0.00000000e+00  0.00000000e+00]\n",
      "  [ 0.00000000e+00  1.52702936e-02  0.00000000e+00  0.00000000e+00\n",
      "    1.91642185e+03  0.00000000e+00  0.00000000e+00  0.00000000e+00\n",
      "    0.00000000e+00  0.00000000e+00 -1.91643712e+03  0.00000000e+00\n",
      "    0.00000000e+00  0.00000000e+00  0.00000000e+00  0.00000000e+00\n",
      "    0.00000000e+00  0.00000000e+00]\n",
      "  [ 4.06759472e-03  0.00000000e+00 -2.03786495e+00  5.14308346e+02\n",
      "    0.00000000e+00 -2.57668481e+05  0.00000000e+00  0.00000000e+00\n",
      "    0.00000000e+00 -5.14312414e+02  0.00000000e+00  2.57670519e+05\n",
      "    0.00000000e+00  0.00000000e+00  0.00000000e+00  0.00000000e+00\n",
      "    0.00000000e+00  0.00000000e+00]\n",
      "  [ 0.00000000e+00  0.00000000e+00  0.00000000e+00  0.00000000e+00\n",
      "    0.00000000e+00  0.00000000e+00  0.00000000e+00  0.00000000e+00\n",
      "    0.00000000e+00  0.00000000e+00  0.00000000e+00  0.00000000e+00\n",
      "    0.00000000e+00  0.00000000e+00  0.00000000e+00  0.00000000e+00\n",
      "    0.00000000e+00  0.00000000e+00]\n",
      "  [ 0.00000000e+00  0.00000000e+00  0.00000000e+00  0.00000000e+00\n",
      "    0.00000000e+00  0.00000000e+00  0.00000000e+00  0.00000000e+00\n",
      "    0.00000000e+00  0.00000000e+00  0.00000000e+00  0.00000000e+00\n",
      "    0.00000000e+00  0.00000000e+00  0.00000000e+00  0.00000000e+00\n",
      "    0.00000000e+00  0.00000000e+00]\n",
      "  [ 0.00000000e+00  0.00000000e+00  0.00000000e+00  0.00000000e+00\n",
      "    0.00000000e+00  0.00000000e+00  0.00000000e+00  0.00000000e+00\n",
      "    0.00000000e+00  0.00000000e+00  0.00000000e+00  0.00000000e+00\n",
      "    0.00000000e+00  0.00000000e+00  0.00000000e+00  0.00000000e+00\n",
      "    0.00000000e+00  0.00000000e+00]\n",
      "  [ 0.00000000e+00  0.00000000e+00  0.00000000e+00  0.00000000e+00\n",
      "    0.00000000e+00  0.00000000e+00  0.00000000e+00  0.00000000e+00\n",
      "    0.00000000e+00  0.00000000e+00  0.00000000e+00  0.00000000e+00\n",
      "    0.00000000e+00  0.00000000e+00  0.00000000e+00  0.00000000e+00\n",
      "    0.00000000e+00  0.00000000e+00]\n",
      "  [ 0.00000000e+00  0.00000000e+00  0.00000000e+00  0.00000000e+00\n",
      "    0.00000000e+00  0.00000000e+00  0.00000000e+00  0.00000000e+00\n",
      "    0.00000000e+00  0.00000000e+00  0.00000000e+00  0.00000000e+00\n",
      "    0.00000000e+00  0.00000000e+00  0.00000000e+00  0.00000000e+00\n",
      "    0.00000000e+00  0.00000000e+00]\n",
      "  [ 0.00000000e+00  0.00000000e+00  0.00000000e+00  0.00000000e+00\n",
      "    0.00000000e+00  0.00000000e+00  0.00000000e+00  0.00000000e+00\n",
      "    0.00000000e+00  0.00000000e+00  0.00000000e+00  0.00000000e+00\n",
      "    0.00000000e+00  0.00000000e+00  0.00000000e+00  0.00000000e+00\n",
      "    0.00000000e+00  0.00000000e+00]]]\n",
      "dist_square:  [4.01231184]\n",
      "reordered_ind:  [[ 0  1  2  3  4  5  6  7  8  9 10 11 12 13 14 15 16 17]]\n",
      "contact_types:  ['Unknown']\n",
      "dist_square:  [4.01231184]\n",
      "reordered_ind:  [[ 0  1  2  3  4  5  6  7  8  9 10 11 12 13 14 15 16 17]]\n",
      "contact_types:  ['Unknown']\n",
      "dist_square:  [4.01231184]\n",
      "reordered_ind:  [[ 0  1  2  3  4  5  6  7  8  9 10 11 12 13 14 15 16 17]]\n",
      "contact_types:  ['Unknown']\n",
      "Delta: [0.]\n",
      "upper limit for quadratic: 1.75\n",
      "upper limit for smooth: 2.25\n",
      "dist_square:  [42.32963777]\n",
      "reordered_ind:  [[ 0  1  2  3  4  5  6  7  8  9 10 11 12 13 14 15 16 17]]\n",
      "contact_types:  ['Unknown']\n",
      "dist_square:  [42.32963777]\n",
      "reordered_ind:  [[ 0  1  2  3  4  5  6  7  8  9 10 11 12 13 14 15 16 17]]\n",
      "contact_types:  ['Unknown']\n",
      "dist_square:  [42.32963777]\n",
      "reordered_ind:  [[ 0  1  2  3  4  5  6  7  8  9 10 11 12 13 14 15 16 17]]\n",
      "contact_types:  ['Unknown']\n",
      "Delta: [0.]\n",
      "upper limit for quadratic: 1.75\n",
      "upper limit for smooth: 2.25\n",
      "dist_square:  [42.32957726]\n",
      "reordered_ind:  [[ 0  1  2  3  4  5  6  7  8  9 10 11 12 13 14 15 16 17]]\n",
      "contact_types:  ['Unknown']\n",
      "dist_square:  [42.32957726]\n",
      "reordered_ind:  [[ 0  1  2  3  4  5  6  7  8  9 10 11 12 13 14 15 16 17]]\n",
      "contact_types:  ['Unknown']\n",
      "dist_square:  [42.32957726]\n",
      "reordered_ind:  [[ 0  1  2  3  4  5  6  7  8  9 10 11 12 13 14 15 16 17]]\n",
      "contact_types:  ['Unknown']\n",
      "Delta: [0.]\n",
      "upper limit for quadratic: 1.75\n",
      "upper limit for smooth: 2.25\n",
      "dist_square:  [121.19987297]\n",
      "reordered_ind:  [[ 0  1  2  3  4  5  6  7  8  9 10 11 12 13 14 15 16 17]]\n",
      "contact_types:  ['Unknown']\n",
      "dist_square:  [121.19987297]\n",
      "reordered_ind:  [[ 0  1  2  3  4  5  6  7  8  9 10 11 12 13 14 15 16 17]]\n",
      "contact_types:  ['Unknown']\n",
      "dist_square:  [121.19987297]\n",
      "reordered_ind:  [[ 0  1  2  3  4  5  6  7  8  9 10 11 12 13 14 15 16 17]]\n",
      "contact_types:  ['Unknown']\n",
      "Delta: [0.]\n",
      "upper limit for quadratic: 1.75\n",
      "upper limit for smooth: 2.25\n",
      "dist_square:  [121.19992265]\n",
      "reordered_ind:  [[ 0  1  2  3  4  5  6  7  8  9 10 11 12 13 14 15 16 17]]\n",
      "contact_types:  ['Unknown']\n",
      "dist_square:  [121.19992265]\n",
      "reordered_ind:  [[ 0  1  2  3  4  5  6  7  8  9 10 11 12 13 14 15 16 17]]\n",
      "contact_types:  ['Unknown']\n",
      "dist_square:  [121.19992265]\n",
      "reordered_ind:  [[ 0  1  2  3  4  5  6  7  8  9 10 11 12 13 14 15 16 17]]\n",
      "contact_types:  ['Unknown']\n",
      "Delta: [0.]\n",
      "upper limit for quadratic: 1.75\n",
      "upper limit for smooth: 2.25\n",
      "dist_square:  [240.61978791]\n",
      "reordered_ind:  [[ 9 10 11 12 13 14 15 16 17  0  1  2  3  4  5  6  7  8]]\n",
      "contact_types:  ['PointToFace']\n",
      "dist_square:  [240.61978791]\n",
      "reordered_ind:  [[ 9 10 11 12 13 14 15 16 17  0  1  2  3  4  5  6  7  8]]\n",
      "contact_types:  ['PointToFace']\n",
      "dist_square:  [240.61978791]\n",
      "reordered_ind:  [[ 9 10 11 12 13 14 15 16 17  0  1  2  3  4  5  6  7  8]]\n",
      "contact_types:  ['PointToFace']\n",
      "Delta: [0.]\n",
      "upper limit for quadratic: 1.75\n",
      "upper limit for smooth: 2.25\n",
      "dist_square:  [240.61986125]\n",
      "reordered_ind:  [[ 9 10 11 12 13 14 15 16 17  0  1  2  3  4  5  6  7  8]]\n",
      "contact_types:  ['PointToFace']\n",
      "dist_square:  [240.61986125]\n",
      "reordered_ind:  [[ 9 10 11 12 13 14 15 16 17  0  1  2  3  4  5  6  7  8]]\n",
      "contact_types:  ['PointToFace']\n",
      "dist_square:  [240.61986125]\n",
      "reordered_ind:  [[ 9 10 11 12 13 14 15 16 17  0  1  2  3  4  5  6  7  8]]\n",
      "contact_types:  ['PointToFace']\n",
      "Delta: [0.]\n",
      "upper limit for quadratic: 1.75\n",
      "upper limit for smooth: 2.25\n",
      "dist_square:  [400.58419809]\n",
      "reordered_ind:  [[ 9 10 11 12 13 14 15 16 17  0  1  2  3  4  5  6  7  8]]\n",
      "contact_types:  ['PointToFace']\n",
      "dist_square:  [400.58419809]\n",
      "reordered_ind:  [[ 9 10 11 12 13 14 15 16 17  0  1  2  3  4  5  6  7  8]]\n",
      "contact_types:  ['PointToFace']\n",
      "dist_square:  [400.58419809]\n",
      "reordered_ind:  [[ 9 10 11 12 13 14 15 16 17  0  1  2  3  4  5  6  7  8]]\n",
      "contact_types:  ['PointToFace']\n",
      "Delta: [0.]\n",
      "upper limit for quadratic: 1.75\n",
      "upper limit for smooth: 2.25\n",
      "dist_square:  [400.58429145]\n",
      "reordered_ind:  [[ 9 10 11 12 13 14 15 16 17  0  1  2  3  4  5  6  7  8]]\n",
      "contact_types:  ['PointToFace']\n",
      "dist_square:  [400.58429145]\n",
      "reordered_ind:  [[ 9 10 11 12 13 14 15 16 17  0  1  2  3  4  5  6  7  8]]\n",
      "contact_types:  ['PointToFace']\n",
      "dist_square:  [400.58429145]\n",
      "reordered_ind:  [[ 9 10 11 12 13 14 15 16 17  0  1  2  3  4  5  6  7  8]]\n",
      "contact_types:  ['PointToFace']\n",
      "Delta: [0.]\n",
      "upper limit for quadratic: 1.75\n",
      "upper limit for smooth: 2.25\n",
      "dist_square:  [601.08638298]\n",
      "reordered_ind:  [[ 9 10 11 12 13 14 15 16 17  0  1  2  3  4  5  6  7  8]]\n",
      "contact_types:  ['PointToFace']\n",
      "dist_square:  [601.08638298]\n",
      "reordered_ind:  [[ 9 10 11 12 13 14 15 16 17  0  1  2  3  4  5  6  7  8]]\n",
      "contact_types:  ['PointToFace']\n",
      "dist_square:  [601.08638298]\n",
      "reordered_ind:  [[ 9 10 11 12 13 14 15 16 17  0  1  2  3  4  5  6  7  8]]\n",
      "contact_types:  ['PointToFace']\n",
      "Delta: [0.]\n",
      "upper limit for quadratic: 1.75\n",
      "upper limit for smooth: 2.25\n",
      "dist_square:  [601.08649729]\n",
      "reordered_ind:  [[ 9 10 11 12 13 14 15 16 17  0  1  2  3  4  5  6  7  8]]\n",
      "contact_types:  ['PointToFace']\n",
      "dist_square:  [601.08649729]\n",
      "reordered_ind:  [[ 9 10 11 12 13 14 15 16 17  0  1  2  3  4  5  6  7  8]]\n",
      "contact_types:  ['PointToFace']\n",
      "dist_square:  [601.08649729]\n",
      "reordered_ind:  [[ 9 10 11 12 13 14 15 16 17  0  1  2  3  4  5  6  7  8]]\n",
      "contact_types:  ['PointToFace']\n",
      "Delta: [0.]\n",
      "upper limit for quadratic: 1.75\n",
      "upper limit for smooth: 2.25\n",
      "dist_square:  [842.11801341]\n",
      "reordered_ind:  [[ 9 10 11 12 13 14 15 16 17  0  1  2  3  4  5  6  7  8]]\n",
      "contact_types:  ['PointToFace']\n",
      "dist_square:  [842.11801341]\n",
      "reordered_ind:  [[ 9 10 11 12 13 14 15 16 17  0  1  2  3  4  5  6  7  8]]\n",
      "contact_types:  ['PointToFace']\n",
      "dist_square:  [842.11801341]\n",
      "reordered_ind:  [[ 9 10 11 12 13 14 15 16 17  0  1  2  3  4  5  6  7  8]]\n",
      "contact_types:  ['PointToFace']\n",
      "Delta: [0.]\n",
      "upper limit for quadratic: 1.75\n",
      "upper limit for smooth: 2.25\n",
      "dist_square:  [842.1181487]\n",
      "reordered_ind:  [[ 9 10 11 12 13 14 15 16 17  0  1  2  3  4  5  6  7  8]]\n",
      "contact_types:  ['PointToFace']\n",
      "dist_square:  [842.1181487]\n",
      "reordered_ind:  [[ 9 10 11 12 13 14 15 16 17  0  1  2  3  4  5  6  7  8]]\n",
      "contact_types:  ['PointToFace']\n",
      "dist_square:  [842.1181487]\n",
      "reordered_ind:  [[ 9 10 11 12 13 14 15 16 17  0  1  2  3  4  5  6  7  8]]\n",
      "contact_types:  ['PointToFace']\n",
      "Delta: [0.]\n",
      "upper limit for quadratic: 1.75\n",
      "upper limit for smooth: 2.25\n",
      "dist_square:  [1123.6691456]\n",
      "reordered_ind:  [[ 9 10 11 12 13 14 15 16 17  0  1  2  3  4  5  6  7  8]]\n",
      "contact_types:  ['PointToFace']\n",
      "dist_square:  [1123.6691456]\n",
      "reordered_ind:  [[ 9 10 11 12 13 14 15 16 17  0  1  2  3  4  5  6  7  8]]\n",
      "contact_types:  ['PointToFace']\n",
      "dist_square:  [1123.6691456]\n",
      "reordered_ind:  [[ 9 10 11 12 13 14 15 16 17  0  1  2  3  4  5  6  7  8]]\n",
      "contact_types:  ['PointToFace']\n",
      "Delta: [0.]\n",
      "upper limit for quadratic: 1.75\n",
      "upper limit for smooth: 2.25\n",
      "dist_square:  [1123.66930185]\n",
      "reordered_ind:  [[ 9 10 11 12 13 14 15 16 17  0  1  2  3  4  5  6  7  8]]\n",
      "contact_types:  ['PointToFace']\n",
      "dist_square:  [1123.66930185]\n",
      "reordered_ind:  [[ 9 10 11 12 13 14 15 16 17  0  1  2  3  4  5  6  7  8]]\n",
      "contact_types:  ['PointToFace']\n",
      "dist_square:  [1123.66930185]\n",
      "reordered_ind:  [[ 9 10 11 12 13 14 15 16 17  0  1  2  3  4  5  6  7  8]]\n",
      "contact_types:  ['PointToFace']\n",
      "Delta: [0.]\n",
      "upper limit for quadratic: 1.75\n",
      "upper limit for smooth: 2.25\n",
      "dist_square:  [1445.72822231]\n",
      "reordered_ind:  [[ 9 10 11 12 13 14 15 16 17  0  1  2  3  4  5  6  7  8]]\n",
      "contact_types:  ['PointToFace']\n",
      "dist_square:  [1445.72822231]\n",
      "reordered_ind:  [[ 9 10 11 12 13 14 15 16 17  0  1  2  3  4  5  6  7  8]]\n",
      "contact_types:  ['PointToFace']\n",
      "dist_square:  [1445.72822231]\n",
      "reordered_ind:  [[ 9 10 11 12 13 14 15 16 17  0  1  2  3  4  5  6  7  8]]\n",
      "contact_types:  ['PointToFace']\n",
      "Delta: [0.]\n",
      "upper limit for quadratic: 1.75\n",
      "upper limit for smooth: 2.25\n",
      "dist_square:  [1445.7283995]\n",
      "reordered_ind:  [[ 9 10 11 12 13 14 15 16 17  0  1  2  3  4  5  6  7  8]]\n",
      "contact_types:  ['PointToFace']\n",
      "dist_square:  [1445.7283995]\n",
      "reordered_ind:  [[ 9 10 11 12 13 14 15 16 17  0  1  2  3  4  5  6  7  8]]\n",
      "contact_types:  ['PointToFace']\n",
      "dist_square:  [1445.7283995]\n",
      "reordered_ind:  [[ 9 10 11 12 13 14 15 16 17  0  1  2  3  4  5  6  7  8]]\n",
      "contact_types:  ['PointToFace']\n",
      "Delta: [0.]\n",
      "upper limit for quadratic: 1.75\n",
      "upper limit for smooth: 2.25\n",
      "dist_square:  [1808.28207336]\n",
      "reordered_ind:  [[ 9 10 11 12 13 14 15 16 17  0  1  2  3  4  5  6  7  8]]\n",
      "contact_types:  ['PointToFace']\n",
      "dist_square:  [1808.28207336]\n",
      "reordered_ind:  [[ 9 10 11 12 13 14 15 16 17  0  1  2  3  4  5  6  7  8]]\n",
      "contact_types:  ['PointToFace']\n",
      "dist_square:  [1808.28207336]\n",
      "reordered_ind:  [[ 9 10 11 12 13 14 15 16 17  0  1  2  3  4  5  6  7  8]]\n",
      "contact_types:  ['PointToFace']\n",
      "Delta: [0.]\n",
      "upper limit for quadratic: 1.75\n",
      "upper limit for smooth: 2.25\n",
      "dist_square:  [1808.28227148]\n",
      "reordered_ind:  [[ 9 10 11 12 13 14 15 16 17  0  1  2  3  4  5  6  7  8]]\n",
      "contact_types:  ['PointToFace']\n",
      "dist_square:  [1808.28227148]\n",
      "reordered_ind:  [[ 9 10 11 12 13 14 15 16 17  0  1  2  3  4  5  6  7  8]]\n",
      "contact_types:  ['PointToFace']\n",
      "dist_square:  [1808.28227148]\n",
      "reordered_ind:  [[ 9 10 11 12 13 14 15 16 17  0  1  2  3  4  5  6  7  8]]\n",
      "contact_types:  ['PointToFace']\n",
      "Delta: [0.]\n",
      "upper limit for quadratic: 1.75\n",
      "upper limit for smooth: 2.25\n",
      "dist_square:  [2211.31591612]\n",
      "reordered_ind:  [[ 9 10 11 12 13 14 15 16 17  0  1  2  3  4  5  6  7  8]]\n",
      "contact_types:  ['PointToFace']\n",
      "dist_square:  [2211.31591612]\n",
      "reordered_ind:  [[ 9 10 11 12 13 14 15 16 17  0  1  2  3  4  5  6  7  8]]\n",
      "contact_types:  ['PointToFace']\n",
      "dist_square:  [2211.31591612]\n",
      "reordered_ind:  [[ 9 10 11 12 13 14 15 16 17  0  1  2  3  4  5  6  7  8]]\n",
      "contact_types:  ['PointToFace']\n",
      "Delta: [0.]\n",
      "upper limit for quadratic: 1.75\n",
      "upper limit for smooth: 2.25\n",
      "dist_square:  [2211.31613515]\n",
      "reordered_ind:  [[ 9 10 11 12 13 14 15 16 17  0  1  2  3  4  5  6  7  8]]\n",
      "contact_types:  ['PointToFace']\n",
      "dist_square:  [2211.31613515]\n",
      "reordered_ind:  [[ 9 10 11 12 13 14 15 16 17  0  1  2  3  4  5  6  7  8]]\n",
      "contact_types:  ['PointToFace']\n",
      "dist_square:  [2211.31613515]\n",
      "reordered_ind:  [[ 9 10 11 12 13 14 15 16 17  0  1  2  3  4  5  6  7  8]]\n",
      "contact_types:  ['PointToFace']\n",
      "Delta: [0.]\n",
      "upper limit for quadratic: 1.75\n",
      "upper limit for smooth: 2.25\n",
      "dist_square:  [2654.81335605]\n",
      "reordered_ind:  [[ 9 10 11 12 13 14 15 16 17  0  1  2  3  4  5  6  7  8]]\n",
      "contact_types:  ['PointToFace']\n",
      "dist_square:  [2654.81335605]\n",
      "reordered_ind:  [[ 9 10 11 12 13 14 15 16 17  0  1  2  3  4  5  6  7  8]]\n",
      "contact_types:  ['PointToFace']\n",
      "dist_square:  [2654.81335605]\n",
      "reordered_ind:  [[ 9 10 11 12 13 14 15 16 17  0  1  2  3  4  5  6  7  8]]\n",
      "contact_types:  ['PointToFace']\n",
      "Delta: [0.]\n",
      "upper limit for quadratic: 1.75\n",
      "upper limit for smooth: 2.25\n",
      "dist_square:  [2654.81359597]\n",
      "reordered_ind:  [[ 9 10 11 12 13 14 15 16 17  0  1  2  3  4  5  6  7  8]]\n",
      "contact_types:  ['PointToFace']\n",
      "dist_square:  [2654.81359597]\n",
      "reordered_ind:  [[ 9 10 11 12 13 14 15 16 17  0  1  2  3  4  5  6  7  8]]\n",
      "contact_types:  ['PointToFace']\n",
      "dist_square:  [2654.81359597]\n",
      "reordered_ind:  [[ 9 10 11 12 13 14 15 16 17  0  1  2  3  4  5  6  7  8]]\n",
      "contact_types:  ['PointToFace']\n",
      "Delta: [0.]\n",
      "upper limit for quadratic: 1.75\n",
      "upper limit for smooth: 2.25\n",
      "dist_square:  [3138.7563873]\n",
      "reordered_ind:  [[ 9 10 11 12 13 14 15 16 17  0  1  2  3  4  5  6  7  8]]\n",
      "contact_types:  ['PointToFace']\n",
      "dist_square:  [3138.7563873]\n",
      "reordered_ind:  [[ 9 10 11 12 13 14 15 16 17  0  1  2  3  4  5  6  7  8]]\n",
      "contact_types:  ['PointToFace']\n",
      "dist_square:  [3138.7563873]\n",
      "reordered_ind:  [[ 9 10 11 12 13 14 15 16 17  0  1  2  3  4  5  6  7  8]]\n",
      "contact_types:  ['PointToFace']\n",
      "Delta: [0.]\n",
      "upper limit for quadratic: 1.75\n",
      "upper limit for smooth: 2.25\n",
      "dist_square:  [3138.7566481]\n",
      "reordered_ind:  [[ 9 10 11 12 13 14 15 16 17  0  1  2  3  4  5  6  7  8]]\n",
      "contact_types:  ['PointToFace']\n",
      "dist_square:  [3138.7566481]\n",
      "reordered_ind:  [[ 9 10 11 12 13 14 15 16 17  0  1  2  3  4  5  6  7  8]]\n",
      "contact_types:  ['PointToFace']\n",
      "dist_square:  [3138.7566481]\n",
      "reordered_ind:  [[ 9 10 11 12 13 14 15 16 17  0  1  2  3  4  5  6  7  8]]\n",
      "contact_types:  ['PointToFace']\n",
      "Delta: [0.]\n",
      "upper limit for quadratic: 1.75\n",
      "upper limit for smooth: 2.25\n",
      "dist_square:  [3663.12539338]\n",
      "reordered_ind:  [[ 9 10 11 12 13 14 15 16 17  0  1  2  3  4  5  6  7  8]]\n",
      "contact_types:  ['PointToFace']\n",
      "dist_square:  [3663.12539338]\n",
      "reordered_ind:  [[ 9 10 11 12 13 14 15 16 17  0  1  2  3  4  5  6  7  8]]\n",
      "contact_types:  ['PointToFace']\n",
      "dist_square:  [3663.12539338]\n",
      "reordered_ind:  [[ 9 10 11 12 13 14 15 16 17  0  1  2  3  4  5  6  7  8]]\n",
      "contact_types:  ['PointToFace']\n",
      "Delta: [0.]\n",
      "upper limit for quadratic: 1.75\n",
      "upper limit for smooth: 2.25\n",
      "dist_square:  [3663.12567503]\n",
      "reordered_ind:  [[ 9 10 11 12 13 14 15 16 17  0  1  2  3  4  5  6  7  8]]\n",
      "contact_types:  ['PointToFace']\n",
      "dist_square:  [3663.12567503]\n",
      "reordered_ind:  [[ 9 10 11 12 13 14 15 16 17  0  1  2  3  4  5  6  7  8]]\n",
      "contact_types:  ['PointToFace']\n",
      "dist_square:  [3663.12567503]\n",
      "reordered_ind:  [[ 9 10 11 12 13 14 15 16 17  0  1  2  3  4  5  6  7  8]]\n",
      "contact_types:  ['PointToFace']\n",
      "Delta: [0.]\n",
      "upper limit for quadratic: 1.75\n",
      "upper limit for smooth: 2.25\n",
      "dist_square:  [4227.89914787]\n",
      "reordered_ind:  [[ 9 10 11 12 13 14 15 16 17  0  1  2  3  4  5  6  7  8]]\n",
      "contact_types:  ['PointToFace']\n",
      "dist_square:  [4227.89914787]\n",
      "reordered_ind:  [[ 9 10 11 12 13 14 15 16 17  0  1  2  3  4  5  6  7  8]]\n",
      "contact_types:  ['PointToFace']\n",
      "dist_square:  [4227.89914787]\n",
      "reordered_ind:  [[ 9 10 11 12 13 14 15 16 17  0  1  2  3  4  5  6  7  8]]\n",
      "contact_types:  ['PointToFace']\n",
      "Delta: [0.]\n",
      "upper limit for quadratic: 1.75\n",
      "upper limit for smooth: 2.25\n",
      "dist_square:  [4227.89945036]\n",
      "reordered_ind:  [[ 9 10 11 12 13 14 15 16 17  0  1  2  3  4  5  6  7  8]]\n",
      "contact_types:  ['PointToFace']\n",
      "dist_square:  [4227.89945036]\n",
      "reordered_ind:  [[ 9 10 11 12 13 14 15 16 17  0  1  2  3  4  5  6  7  8]]\n",
      "contact_types:  ['PointToFace']\n",
      "dist_square:  [4227.89945036]\n",
      "reordered_ind:  [[ 9 10 11 12 13 14 15 16 17  0  1  2  3  4  5  6  7  8]]\n",
      "contact_types:  ['PointToFace']\n",
      "Delta: [0.]\n",
      "upper limit for quadratic: 1.75\n",
      "upper limit for smooth: 2.25\n",
      "dist_square:  [4833.05481522]\n",
      "reordered_ind:  [[ 9 10 11 12 13 14 15 16 17  0  1  2  3  4  5  6  7  8]]\n",
      "contact_types:  ['PointToFace']\n",
      "dist_square:  [4833.05481522]\n",
      "reordered_ind:  [[ 9 10 11 12 13 14 15 16 17  0  1  2  3  4  5  6  7  8]]\n",
      "contact_types:  ['PointToFace']\n",
      "dist_square:  [4833.05481522]\n",
      "reordered_ind:  [[ 9 10 11 12 13 14 15 16 17  0  1  2  3  4  5  6  7  8]]\n",
      "contact_types:  ['PointToFace']\n",
      "Delta: [0.]\n",
      "upper limit for quadratic: 1.75\n",
      "upper limit for smooth: 2.25\n",
      "dist_square:  [4833.05513851]\n",
      "reordered_ind:  [[ 9 10 11 12 13 14 15 16 17  0  1  2  3  4  5  6  7  8]]\n",
      "contact_types:  ['PointToFace']\n",
      "dist_square:  [4833.05513851]\n",
      "reordered_ind:  [[ 9 10 11 12 13 14 15 16 17  0  1  2  3  4  5  6  7  8]]\n",
      "contact_types:  ['PointToFace']\n",
      "dist_square:  [4833.05513851]\n",
      "reordered_ind:  [[ 9 10 11 12 13 14 15 16 17  0  1  2  3  4  5  6  7  8]]\n",
      "contact_types:  ['PointToFace']\n",
      "Delta: [0.]\n",
      "upper limit for quadratic: 1.75\n",
      "upper limit for smooth: 2.25\n",
      "dist_square:  [5478.56795153]\n",
      "reordered_ind:  [[ 9 10 11 12 13 14 15 16 17  0  1  2  3  4  5  6  7  8]]\n",
      "contact_types:  ['PointToFace']\n",
      "dist_square:  [5478.56795153]\n",
      "reordered_ind:  [[ 9 10 11 12 13 14 15 16 17  0  1  2  3  4  5  6  7  8]]\n",
      "contact_types:  ['PointToFace']\n",
      "dist_square:  [5478.56795153]\n",
      "reordered_ind:  [[ 9 10 11 12 13 14 15 16 17  0  1  2  3  4  5  6  7  8]]\n",
      "contact_types:  ['PointToFace']\n",
      "Delta: [0.]\n",
      "upper limit for quadratic: 1.75\n",
      "upper limit for smooth: 2.25\n",
      "dist_square:  [5478.5682956]\n",
      "reordered_ind:  [[ 9 10 11 12 13 14 15 16 17  0  1  2  3  4  5  6  7  8]]\n",
      "contact_types:  ['PointToFace']\n",
      "dist_square:  [5478.5682956]\n",
      "reordered_ind:  [[ 9 10 11 12 13 14 15 16 17  0  1  2  3  4  5  6  7  8]]\n",
      "contact_types:  ['PointToFace']\n",
      "dist_square:  [5478.5682956]\n",
      "reordered_ind:  [[ 9 10 11 12 13 14 15 16 17  0  1  2  3  4  5  6  7  8]]\n",
      "contact_types:  ['PointToFace']\n",
      "Delta: [0.]\n",
      "upper limit for quadratic: 1.75\n",
      "upper limit for smooth: 2.25\n",
      "dist_square:  [6164.41250546]\n",
      "reordered_ind:  [[ 9 10 11 12 13 14 15 16 17  0  1  2  3  4  5  6  7  8]]\n",
      "contact_types:  ['PointToFace']\n",
      "dist_square:  [6164.41250546]\n",
      "reordered_ind:  [[ 9 10 11 12 13 14 15 16 17  0  1  2  3  4  5  6  7  8]]\n",
      "contact_types:  ['PointToFace']\n",
      "dist_square:  [6164.41250546]\n",
      "reordered_ind:  [[ 9 10 11 12 13 14 15 16 17  0  1  2  3  4  5  6  7  8]]\n",
      "contact_types:  ['PointToFace']\n",
      "Delta: [0.]\n",
      "upper limit for quadratic: 1.75\n",
      "upper limit for smooth: 2.25\n",
      "dist_square:  [6164.41287028]\n",
      "reordered_ind:  [[ 9 10 11 12 13 14 15 16 17  0  1  2  3  4  5  6  7  8]]\n",
      "contact_types:  ['PointToFace']\n",
      "dist_square:  [6164.41287028]\n",
      "reordered_ind:  [[ 9 10 11 12 13 14 15 16 17  0  1  2  3  4  5  6  7  8]]\n",
      "contact_types:  ['PointToFace']\n",
      "dist_square:  [6164.41287028]\n",
      "reordered_ind:  [[ 9 10 11 12 13 14 15 16 17  0  1  2  3  4  5  6  7  8]]\n",
      "contact_types:  ['PointToFace']\n",
      "Delta: [0.]\n",
      "upper limit for quadratic: 1.75\n",
      "upper limit for smooth: 2.25\n",
      "dist_square:  [6890.56081919]\n",
      "reordered_ind:  [[ 9 10 11 12 13 14 15 16 17  0  1  2  3  4  5  6  7  8]]\n",
      "contact_types:  ['PointToFace']\n",
      "dist_square:  [6890.56081919]\n",
      "reordered_ind:  [[ 9 10 11 12 13 14 15 16 17  0  1  2  3  4  5  6  7  8]]\n",
      "contact_types:  ['PointToFace']\n",
      "dist_square:  [6890.56081919]\n",
      "reordered_ind:  [[ 9 10 11 12 13 14 15 16 17  0  1  2  3  4  5  6  7  8]]\n",
      "contact_types:  ['PointToFace']\n",
      "Delta: [0.]\n",
      "upper limit for quadratic: 1.75\n",
      "upper limit for smooth: 2.25\n",
      "dist_square:  [6890.56120474]\n",
      "reordered_ind:  [[ 9 10 11 12 13 14 15 16 17  0  1  2  3  4  5  6  7  8]]\n",
      "contact_types:  ['PointToFace']\n",
      "dist_square:  [6890.56120474]\n",
      "reordered_ind:  [[ 9 10 11 12 13 14 15 16 17  0  1  2  3  4  5  6  7  8]]\n",
      "contact_types:  ['PointToFace']\n",
      "dist_square:  [6890.56120474]\n",
      "reordered_ind:  [[ 9 10 11 12 13 14 15 16 17  0  1  2  3  4  5  6  7  8]]\n",
      "contact_types:  ['PointToFace']\n",
      "Delta: [0.]\n",
      "upper limit for quadratic: 1.75\n",
      "upper limit for smooth: 2.25\n",
      "dist_square:  [7656.98362939]\n",
      "reordered_ind:  [[ 9 10 11 12 13 14 15 16 17  0  1  2  3  4  5  6  7  8]]\n",
      "contact_types:  ['PointToFace']\n",
      "dist_square:  [7656.98362939]\n",
      "reordered_ind:  [[ 9 10 11 12 13 14 15 16 17  0  1  2  3  4  5  6  7  8]]\n",
      "contact_types:  ['PointToFace']\n",
      "dist_square:  [7656.98362939]\n",
      "reordered_ind:  [[ 9 10 11 12 13 14 15 16 17  0  1  2  3  4  5  6  7  8]]\n",
      "contact_types:  ['PointToFace']\n",
      "Delta: [0.]\n",
      "upper limit for quadratic: 1.75\n",
      "upper limit for smooth: 2.25\n",
      "dist_square:  [7656.98403564]\n",
      "reordered_ind:  [[ 9 10 11 12 13 14 15 16 17  0  1  2  3  4  5  6  7  8]]\n",
      "contact_types:  ['PointToFace']\n",
      "dist_square:  [7656.98403564]\n",
      "reordered_ind:  [[ 9 10 11 12 13 14 15 16 17  0  1  2  3  4  5  6  7  8]]\n",
      "contact_types:  ['PointToFace']\n",
      "dist_square:  [7656.98403564]\n",
      "reordered_ind:  [[ 9 10 11 12 13 14 15 16 17  0  1  2  3  4  5  6  7  8]]\n",
      "contact_types:  ['PointToFace']\n",
      "Delta: [0.]\n",
      "upper limit for quadratic: 1.75\n",
      "upper limit for smooth: 2.25\n",
      "dist_square:  [8463.65006827]\n",
      "reordered_ind:  [[ 9 10 11 12 13 14 15 16 17  0  1  2  3  4  5  6  7  8]]\n",
      "contact_types:  ['PointToFace']\n",
      "dist_square:  [8463.65006827]\n",
      "reordered_ind:  [[ 9 10 11 12 13 14 15 16 17  0  1  2  3  4  5  6  7  8]]\n",
      "contact_types:  ['PointToFace']\n",
      "dist_square:  [8463.65006827]\n",
      "reordered_ind:  [[ 9 10 11 12 13 14 15 16 17  0  1  2  3  4  5  6  7  8]]\n",
      "contact_types:  ['PointToFace']\n",
      "Delta: [0.]\n",
      "upper limit for quadratic: 1.75\n",
      "upper limit for smooth: 2.25\n",
      "dist_square:  [8463.65049519]\n",
      "reordered_ind:  [[ 9 10 11 12 13 14 15 16 17  0  1  2  3  4  5  6  7  8]]\n",
      "contact_types:  ['PointToFace']\n",
      "dist_square:  [8463.65049519]\n",
      "reordered_ind:  [[ 9 10 11 12 13 14 15 16 17  0  1  2  3  4  5  6  7  8]]\n",
      "contact_types:  ['PointToFace']\n",
      "dist_square:  [8463.65049519]\n",
      "reordered_ind:  [[ 9 10 11 12 13 14 15 16 17  0  1  2  3  4  5  6  7  8]]\n",
      "contact_types:  ['PointToFace']\n",
      "Delta: [0.]\n",
      "upper limit for quadratic: 1.75\n",
      "upper limit for smooth: 2.25\n",
      "dist_square:  [9310.52766471]\n",
      "reordered_ind:  [[ 9 10 11 12 13 14 15 16 17  0  1  2  3  4  5  6  7  8]]\n",
      "contact_types:  ['PointToFace']\n",
      "dist_square:  [9310.52766471]\n",
      "reordered_ind:  [[ 9 10 11 12 13 14 15 16 17  0  1  2  3  4  5  6  7  8]]\n",
      "contact_types:  ['PointToFace']\n",
      "dist_square:  [9310.52766471]\n",
      "reordered_ind:  [[ 9 10 11 12 13 14 15 16 17  0  1  2  3  4  5  6  7  8]]\n",
      "contact_types:  ['PointToFace']\n",
      "Delta: [0.]\n",
      "upper limit for quadratic: 1.75\n",
      "upper limit for smooth: 2.25\n",
      "dist_square:  [9310.52811227]\n",
      "reordered_ind:  [[ 9 10 11 12 13 14 15 16 17  0  1  2  3  4  5  6  7  8]]\n",
      "contact_types:  ['PointToFace']\n",
      "dist_square:  [9310.52811227]\n",
      "reordered_ind:  [[ 9 10 11 12 13 14 15 16 17  0  1  2  3  4  5  6  7  8]]\n",
      "contact_types:  ['PointToFace']\n",
      "dist_square:  [9310.52811227]\n",
      "reordered_ind:  [[ 9 10 11 12 13 14 15 16 17  0  1  2  3  4  5  6  7  8]]\n",
      "contact_types:  ['PointToFace']\n",
      "Delta: [0.]\n",
      "upper limit for quadratic: 1.75\n",
      "upper limit for smooth: 2.25\n",
      "dist_square:  [10197.58234539]\n",
      "reordered_ind:  [[ 9 10 11 12 13 14 15 16 17  0  1  2  3  4  5  6  7  8]]\n",
      "contact_types:  ['PointToFace']\n",
      "dist_square:  [10197.58234539]\n",
      "reordered_ind:  [[ 9 10 11 12 13 14 15 16 17  0  1  2  3  4  5  6  7  8]]\n",
      "contact_types:  ['PointToFace']\n",
      "dist_square:  [10197.58234539]\n",
      "reordered_ind:  [[ 9 10 11 12 13 14 15 16 17  0  1  2  3  4  5  6  7  8]]\n",
      "contact_types:  ['PointToFace']\n",
      "Delta: [0.]\n",
      "upper limit for quadratic: 1.75\n",
      "upper limit for smooth: 2.25\n",
      "dist_square:  [10197.58281356]\n",
      "reordered_ind:  [[ 9 10 11 12 13 14 15 16 17  0  1  2  3  4  5  6  7  8]]\n",
      "contact_types:  ['PointToFace']\n",
      "dist_square:  [10197.58281356]\n",
      "reordered_ind:  [[ 9 10 11 12 13 14 15 16 17  0  1  2  3  4  5  6  7  8]]\n",
      "contact_types:  ['PointToFace']\n",
      "dist_square:  [10197.58281356]\n",
      "reordered_ind:  [[ 9 10 11 12 13 14 15 16 17  0  1  2  3  4  5  6  7  8]]\n",
      "contact_types:  ['PointToFace']\n",
      "Delta: [0.]\n",
      "upper limit for quadratic: 1.75\n",
      "upper limit for smooth: 2.25\n",
      "dist_square:  [11124.77843605]\n",
      "reordered_ind:  [[ 9 10 11 12 13 14 15 16 17  0  1  2  3  4  5  6  7  8]]\n",
      "contact_types:  ['PointToFace']\n",
      "dist_square:  [11124.77843605]\n",
      "reordered_ind:  [[ 9 10 11 12 13 14 15 16 17  0  1  2  3  4  5  6  7  8]]\n",
      "contact_types:  ['PointToFace']\n",
      "dist_square:  [11124.77843605]\n",
      "reordered_ind:  [[ 9 10 11 12 13 14 15 16 17  0  1  2  3  4  5  6  7  8]]\n",
      "contact_types:  ['PointToFace']\n",
      "Delta: [0.]\n",
      "upper limit for quadratic: 1.75\n",
      "upper limit for smooth: 2.25\n",
      "dist_square:  [11124.7789248]\n",
      "reordered_ind:  [[ 9 10 11 12 13 14 15 16 17  0  1  2  3  4  5  6  7  8]]\n",
      "contact_types:  ['PointToFace']\n",
      "dist_square:  [11124.7789248]\n",
      "reordered_ind:  [[ 9 10 11 12 13 14 15 16 17  0  1  2  3  4  5  6  7  8]]\n",
      "contact_types:  ['PointToFace']\n",
      "dist_square:  [11124.7789248]\n",
      "reordered_ind:  [[ 9 10 11 12 13 14 15 16 17  0  1  2  3  4  5  6  7  8]]\n",
      "contact_types:  ['PointToFace']\n",
      "Delta: [0.]\n",
      "upper limit for quadratic: 1.75\n",
      "upper limit for smooth: 2.25\n",
      "dist_square:  [12092.07866273]\n",
      "reordered_ind:  [[ 9 10 11 12 13 14 15 16 17  0  1  2  3  4  5  6  7  8]]\n",
      "contact_types:  ['PointToFace']\n",
      "dist_square:  [12092.07866273]\n",
      "reordered_ind:  [[ 9 10 11 12 13 14 15 16 17  0  1  2  3  4  5  6  7  8]]\n",
      "contact_types:  ['PointToFace']\n",
      "dist_square:  [12092.07866273]\n",
      "reordered_ind:  [[ 9 10 11 12 13 14 15 16 17  0  1  2  3  4  5  6  7  8]]\n",
      "contact_types:  ['PointToFace']\n",
      "Delta: [0.]\n",
      "upper limit for quadratic: 1.75\n",
      "upper limit for smooth: 2.25\n",
      "dist_square:  [12092.07917202]\n",
      "reordered_ind:  [[ 9 10 11 12 13 14 15 16 17  0  1  2  3  4  5  6  7  8]]\n",
      "contact_types:  ['PointToFace']\n",
      "dist_square:  [12092.07917202]\n",
      "reordered_ind:  [[ 9 10 11 12 13 14 15 16 17  0  1  2  3  4  5  6  7  8]]\n",
      "contact_types:  ['PointToFace']\n",
      "dist_square:  [12092.07917202]\n",
      "reordered_ind:  [[ 9 10 11 12 13 14 15 16 17  0  1  2  3  4  5  6  7  8]]\n",
      "contact_types:  ['PointToFace']\n",
      "Delta: [0.]\n",
      "upper limit for quadratic: 1.75\n",
      "upper limit for smooth: 2.25\n",
      "dist_square:  [13099.44415311]\n",
      "reordered_ind:  [[ 9 10 11 12 13 14 15 16 17  0  1  2  3  4  5  6  7  8]]\n",
      "contact_types:  ['PointToFace']\n",
      "dist_square:  [13099.44415311]\n",
      "reordered_ind:  [[ 9 10 11 12 13 14 15 16 17  0  1  2  3  4  5  6  7  8]]\n",
      "contact_types:  ['PointToFace']\n",
      "dist_square:  [13099.44415311]\n",
      "reordered_ind:  [[ 9 10 11 12 13 14 15 16 17  0  1  2  3  4  5  6  7  8]]\n",
      "contact_types:  ['PointToFace']\n",
      "Delta: [0.]\n",
      "upper limit for quadratic: 1.75\n",
      "upper limit for smooth: 2.25\n",
      "dist_square:  [13099.44468291]\n",
      "reordered_ind:  [[ 9 10 11 12 13 14 15 16 17  0  1  2  3  4  5  6  7  8]]\n",
      "contact_types:  ['PointToFace']\n",
      "dist_square:  [13099.44468291]\n",
      "reordered_ind:  [[ 9 10 11 12 13 14 15 16 17  0  1  2  3  4  5  6  7  8]]\n",
      "contact_types:  ['PointToFace']\n",
      "dist_square:  [13099.44468291]\n",
      "reordered_ind:  [[ 9 10 11 12 13 14 15 16 17  0  1  2  3  4  5  6  7  8]]\n",
      "contact_types:  ['PointToFace']\n",
      "Delta: [0.]\n",
      "upper limit for quadratic: 1.75\n",
      "upper limit for smooth: 2.25\n",
      "dist_square:  [14146.83443791]\n",
      "reordered_ind:  [[ 9 10 11 12 13 14 15 16 17  0  1  2  3  4  5  6  7  8]]\n",
      "contact_types:  ['PointToFace']\n",
      "dist_square:  [14146.83443791]\n",
      "reordered_ind:  [[ 9 10 11 12 13 14 15 16 17  0  1  2  3  4  5  6  7  8]]\n",
      "contact_types:  ['PointToFace']\n",
      "dist_square:  [14146.83443791]\n",
      "reordered_ind:  [[ 9 10 11 12 13 14 15 16 17  0  1  2  3  4  5  6  7  8]]\n",
      "contact_types:  ['PointToFace']\n",
      "Delta: [0.]\n",
      "upper limit for quadratic: 1.75\n",
      "upper limit for smooth: 2.25\n",
      "dist_square:  [14146.83498819]\n",
      "reordered_ind:  [[ 9 10 11 12 13 14 15 16 17  0  1  2  3  4  5  6  7  8]]\n",
      "contact_types:  ['PointToFace']\n",
      "dist_square:  [14146.83498819]\n",
      "reordered_ind:  [[ 9 10 11 12 13 14 15 16 17  0  1  2  3  4  5  6  7  8]]\n",
      "contact_types:  ['PointToFace']\n",
      "dist_square:  [14146.83498819]\n",
      "reordered_ind:  [[ 9 10 11 12 13 14 15 16 17  0  1  2  3  4  5  6  7  8]]\n",
      "contact_types:  ['PointToFace']\n",
      "Delta: [0.]\n",
      "upper limit for quadratic: 1.75\n",
      "upper limit for smooth: 2.25\n",
      "dist_square:  [15234.2074523]\n",
      "reordered_ind:  [[ 9 10 11 12 13 14 15 16 17  0  1  2  3  4  5  6  7  8]]\n",
      "contact_types:  ['PointToFace']\n",
      "dist_square:  [15234.2074523]\n",
      "reordered_ind:  [[ 9 10 11 12 13 14 15 16 17  0  1  2  3  4  5  6  7  8]]\n",
      "contact_types:  ['PointToFace']\n",
      "dist_square:  [15234.2074523]\n",
      "reordered_ind:  [[ 9 10 11 12 13 14 15 16 17  0  1  2  3  4  5  6  7  8]]\n",
      "contact_types:  ['PointToFace']\n",
      "Delta: [0.]\n",
      "upper limit for quadratic: 1.75\n",
      "upper limit for smooth: 2.25\n",
      "dist_square:  [15234.20802302]\n",
      "reordered_ind:  [[ 9 10 11 12 13 14 15 16 17  0  1  2  3  4  5  6  7  8]]\n",
      "contact_types:  ['PointToFace']\n",
      "dist_square:  [15234.20802302]\n",
      "reordered_ind:  [[ 9 10 11 12 13 14 15 16 17  0  1  2  3  4  5  6  7  8]]\n",
      "contact_types:  ['PointToFace']\n",
      "dist_square:  [15234.20802302]\n",
      "reordered_ind:  [[ 9 10 11 12 13 14 15 16 17  0  1  2  3  4  5  6  7  8]]\n",
      "contact_types:  ['PointToFace']\n",
      "Delta: [0.]\n",
      "upper limit for quadratic: 1.75\n",
      "upper limit for smooth: 2.25\n",
      "dist_square:  [16361.51953743]\n",
      "reordered_ind:  [[ 9 10 11 12 13 14 15 16 17  0  1  2  3  4  5  6  7  8]]\n",
      "contact_types:  ['PointToFace']\n",
      "dist_square:  [16361.51953743]\n",
      "reordered_ind:  [[ 9 10 11 12 13 14 15 16 17  0  1  2  3  4  5  6  7  8]]\n",
      "contact_types:  ['PointToFace']\n",
      "dist_square:  [16361.51953743]\n",
      "reordered_ind:  [[ 9 10 11 12 13 14 15 16 17  0  1  2  3  4  5  6  7  8]]\n",
      "contact_types:  ['PointToFace']\n",
      "Delta: [0.]\n",
      "upper limit for quadratic: 1.75\n",
      "upper limit for smooth: 2.25\n",
      "dist_square:  [16361.52012855]\n",
      "reordered_ind:  [[ 9 10 11 12 13 14 15 16 17  0  1  2  3  4  5  6  7  8]]\n",
      "contact_types:  ['PointToFace']\n",
      "dist_square:  [16361.52012855]\n",
      "reordered_ind:  [[ 9 10 11 12 13 14 15 16 17  0  1  2  3  4  5  6  7  8]]\n",
      "contact_types:  ['PointToFace']\n",
      "dist_square:  [16361.52012855]\n",
      "reordered_ind:  [[ 9 10 11 12 13 14 15 16 17  0  1  2  3  4  5  6  7  8]]\n",
      "contact_types:  ['PointToFace']\n",
      "Delta: [0.]\n",
      "upper limit for quadratic: 1.75\n",
      "upper limit for smooth: 2.25\n",
      "dist_square:  [17528.72544197]\n",
      "reordered_ind:  [[ 9 10 11 12 13 14 15 16 17  0  1  2  3  4  5  6  7  8]]\n",
      "contact_types:  ['PointToFace']\n",
      "dist_square:  [17528.72544197]\n",
      "reordered_ind:  [[ 9 10 11 12 13 14 15 16 17  0  1  2  3  4  5  6  7  8]]\n",
      "contact_types:  ['PointToFace']\n",
      "dist_square:  [17528.72544197]\n",
      "reordered_ind:  [[ 9 10 11 12 13 14 15 16 17  0  1  2  3  4  5  6  7  8]]\n",
      "contact_types:  ['PointToFace']\n",
      "Delta: [0.]\n",
      "upper limit for quadratic: 1.75\n",
      "upper limit for smooth: 2.25\n",
      "dist_square:  [17528.72605346]\n",
      "reordered_ind:  [[ 9 10 11 12 13 14 15 16 17  0  1  2  3  4  5  6  7  8]]\n",
      "contact_types:  ['PointToFace']\n",
      "dist_square:  [17528.72605346]\n",
      "reordered_ind:  [[ 9 10 11 12 13 14 15 16 17  0  1  2  3  4  5  6  7  8]]\n",
      "contact_types:  ['PointToFace']\n",
      "dist_square:  [17528.72605346]\n",
      "reordered_ind:  [[ 9 10 11 12 13 14 15 16 17  0  1  2  3  4  5  6  7  8]]\n",
      "contact_types:  ['PointToFace']\n",
      "Delta: [0.]\n",
      "upper limit for quadratic: 1.75\n",
      "upper limit for smooth: 2.25\n",
      "dist_square:  [18735.77832369]\n",
      "reordered_ind:  [[ 9 10 11 12 13 14 15 16 17  0  1  2  3  4  5  6  7  8]]\n",
      "contact_types:  ['PointToFace']\n",
      "dist_square:  [18735.77832369]\n",
      "reordered_ind:  [[ 9 10 11 12 13 14 15 16 17  0  1  2  3  4  5  6  7  8]]\n",
      "contact_types:  ['PointToFace']\n",
      "dist_square:  [18735.77832369]\n",
      "reordered_ind:  [[ 9 10 11 12 13 14 15 16 17  0  1  2  3  4  5  6  7  8]]\n",
      "contact_types:  ['PointToFace']\n",
      "Delta: [0.]\n",
      "upper limit for quadratic: 1.75\n",
      "upper limit for smooth: 2.25\n",
      "dist_square:  [18735.77895551]\n",
      "reordered_ind:  [[ 9 10 11 12 13 14 15 16 17  0  1  2  3  4  5  6  7  8]]\n",
      "contact_types:  ['PointToFace']\n",
      "dist_square:  [18735.77895551]\n",
      "reordered_ind:  [[ 9 10 11 12 13 14 15 16 17  0  1  2  3  4  5  6  7  8]]\n",
      "contact_types:  ['PointToFace']\n",
      "dist_square:  [18735.77895551]\n",
      "reordered_ind:  [[ 9 10 11 12 13 14 15 16 17  0  1  2  3  4  5  6  7  8]]\n",
      "contact_types:  ['PointToFace']\n",
      "Delta: [0.]\n",
      "upper limit for quadratic: 1.75\n",
      "upper limit for smooth: 2.25\n",
      "dist_square:  [19982.62975118]\n",
      "reordered_ind:  [[ 9 10 11 12 13 14 15 16 17  0  1  2  3  4  5  6  7  8]]\n",
      "contact_types:  ['PointToFace']\n",
      "dist_square:  [19982.62975118]\n",
      "reordered_ind:  [[ 9 10 11 12 13 14 15 16 17  0  1  2  3  4  5  6  7  8]]\n",
      "contact_types:  ['PointToFace']\n",
      "dist_square:  [19982.62975118]\n",
      "reordered_ind:  [[ 9 10 11 12 13 14 15 16 17  0  1  2  3  4  5  6  7  8]]\n",
      "contact_types:  ['PointToFace']\n",
      "Delta: [0.]\n",
      "upper limit for quadratic: 1.75\n",
      "upper limit for smooth: 2.25\n",
      "dist_square:  [19982.63040329]\n",
      "reordered_ind:  [[ 9 10 11 12 13 14 15 16 17  0  1  2  3  4  5  6  7  8]]\n",
      "contact_types:  ['PointToFace']\n",
      "dist_square:  [19982.63040329]\n",
      "reordered_ind:  [[ 9 10 11 12 13 14 15 16 17  0  1  2  3  4  5  6  7  8]]\n",
      "contact_types:  ['PointToFace']\n",
      "dist_square:  [19982.63040329]\n",
      "reordered_ind:  [[ 9 10 11 12 13 14 15 16 17  0  1  2  3  4  5  6  7  8]]\n",
      "contact_types:  ['PointToFace']\n",
      "Delta: [0.]\n",
      "upper limit for quadratic: 1.75\n",
      "upper limit for smooth: 2.25\n",
      "dist_square:  [21269.2297055]\n",
      "reordered_ind:  [[ 9 10 11 12 13 14 15 16 17  0  1  2  3  4  5  6  7  8]]\n",
      "contact_types:  ['PointToFace']\n",
      "dist_square:  [21269.2297055]\n",
      "reordered_ind:  [[ 9 10 11 12 13 14 15 16 17  0  1  2  3  4  5  6  7  8]]\n",
      "contact_types:  ['PointToFace']\n",
      "dist_square:  [21269.2297055]\n",
      "reordered_ind:  [[ 9 10 11 12 13 14 15 16 17  0  1  2  3  4  5  6  7  8]]\n",
      "contact_types:  ['PointToFace']\n",
      "Delta: [0.]\n",
      "upper limit for quadratic: 1.75\n",
      "upper limit for smooth: 2.25\n",
      "dist_square:  [21269.23037786]\n",
      "reordered_ind:  [[ 9 10 11 12 13 14 15 16 17  0  1  2  3  4  5  6  7  8]]\n",
      "contact_types:  ['PointToFace']\n",
      "dist_square:  [21269.23037786]\n",
      "reordered_ind:  [[ 9 10 11 12 13 14 15 16 17  0  1  2  3  4  5  6  7  8]]\n",
      "contact_types:  ['PointToFace']\n",
      "dist_square:  [21269.23037786]\n",
      "reordered_ind:  [[ 9 10 11 12 13 14 15 16 17  0  1  2  3  4  5  6  7  8]]\n",
      "contact_types:  ['PointToFace']\n",
      "Delta: [0.]\n",
      "upper limit for quadratic: 1.75\n",
      "upper limit for smooth: 2.25\n",
      "dist_square:  [22595.52658201]\n",
      "reordered_ind:  [[ 9 10 11 12 13 14 15 16 17  0  1  2  3  4  5  6  7  8]]\n",
      "contact_types:  ['PointToFace']\n",
      "dist_square:  [22595.52658201]\n",
      "reordered_ind:  [[ 9 10 11 12 13 14 15 16 17  0  1  2  3  4  5  6  7  8]]\n",
      "contact_types:  ['PointToFace']\n",
      "dist_square:  [22595.52658201]\n",
      "reordered_ind:  [[ 9 10 11 12 13 14 15 16 17  0  1  2  3  4  5  6  7  8]]\n",
      "contact_types:  ['PointToFace']\n",
      "Delta: [0.]\n",
      "upper limit for quadratic: 1.75\n",
      "upper limit for smooth: 2.25\n",
      "dist_square:  [22595.52727459]\n",
      "reordered_ind:  [[ 9 10 11 12 13 14 15 16 17  0  1  2  3  4  5  6  7  8]]\n",
      "contact_types:  ['PointToFace']\n",
      "dist_square:  [22595.52727459]\n",
      "reordered_ind:  [[ 9 10 11 12 13 14 15 16 17  0  1  2  3  4  5  6  7  8]]\n",
      "contact_types:  ['PointToFace']\n",
      "dist_square:  [22595.52727459]\n",
      "reordered_ind:  [[ 9 10 11 12 13 14 15 16 17  0  1  2  3  4  5  6  7  8]]\n",
      "contact_types:  ['PointToFace']\n",
      "Delta: [0.]\n",
      "upper limit for quadratic: 1.75\n",
      "upper limit for smooth: 2.25\n",
      "dist_square:  [23961.46719217]\n",
      "reordered_ind:  [[ 9 10 11 12 13 14 15 16 17  0  1  2  3  4  5  6  7  8]]\n",
      "contact_types:  ['PointToFace']\n",
      "dist_square:  [23961.46719217]\n",
      "reordered_ind:  [[ 9 10 11 12 13 14 15 16 17  0  1  2  3  4  5  6  7  8]]\n",
      "contact_types:  ['PointToFace']\n",
      "dist_square:  [23961.46719217]\n",
      "reordered_ind:  [[ 9 10 11 12 13 14 15 16 17  0  1  2  3  4  5  6  7  8]]\n",
      "contact_types:  ['PointToFace']\n",
      "Delta: [0.]\n",
      "upper limit for quadratic: 1.75\n",
      "upper limit for smooth: 2.25\n",
      "dist_square:  [23961.46790493]\n",
      "reordered_ind:  [[ 9 10 11 12 13 14 15 16 17  0  1  2  3  4  5  6  7  8]]\n",
      "contact_types:  ['PointToFace']\n",
      "dist_square:  [23961.46790493]\n",
      "reordered_ind:  [[ 9 10 11 12 13 14 15 16 17  0  1  2  3  4  5  6  7  8]]\n",
      "contact_types:  ['PointToFace']\n",
      "dist_square:  [23961.46790493]\n",
      "reordered_ind:  [[ 9 10 11 12 13 14 15 16 17  0  1  2  3  4  5  6  7  8]]\n",
      "contact_types:  ['PointToFace']\n",
      "Delta: [0.]\n",
      "upper limit for quadratic: 1.75\n",
      "upper limit for smooth: 2.25\n",
      "dist_square:  [25366.99676543]\n",
      "reordered_ind:  [[ 9 10 11 12 13 14 15 16 17  0  1  2  3  4  5  6  7  8]]\n",
      "contact_types:  ['PointToFace']\n",
      "dist_square:  [25366.99676543]\n",
      "reordered_ind:  [[ 9 10 11 12 13 14 15 16 17  0  1  2  3  4  5  6  7  8]]\n",
      "contact_types:  ['PointToFace']\n",
      "dist_square:  [25366.99676543]\n",
      "reordered_ind:  [[ 9 10 11 12 13 14 15 16 17  0  1  2  3  4  5  6  7  8]]\n",
      "contact_types:  ['PointToFace']\n",
      "Delta: [0.]\n",
      "upper limit for quadratic: 1.75\n",
      "upper limit for smooth: 2.25\n",
      "dist_square:  [25366.99749832]\n",
      "reordered_ind:  [[ 9 10 11 12 13 14 15 16 17  0  1  2  3  4  5  6  7  8]]\n",
      "contact_types:  ['PointToFace']\n",
      "dist_square:  [25366.99749832]\n",
      "reordered_ind:  [[ 9 10 11 12 13 14 15 16 17  0  1  2  3  4  5  6  7  8]]\n",
      "contact_types:  ['PointToFace']\n",
      "dist_square:  [25366.99749832]\n",
      "reordered_ind:  [[ 9 10 11 12 13 14 15 16 17  0  1  2  3  4  5  6  7  8]]\n",
      "contact_types:  ['PointToFace']\n",
      "Delta: [0.]\n",
      "upper limit for quadratic: 1.75\n",
      "upper limit for smooth: 2.25\n",
      "dist_square:  [26812.05895115]\n",
      "reordered_ind:  [[ 9 10 11 12 13 14 15 16 17  0  1  2  3  4  5  6  7  8]]\n",
      "contact_types:  ['PointToFace']\n",
      "dist_square:  [26812.05895115]\n",
      "reordered_ind:  [[ 9 10 11 12 13 14 15 16 17  0  1  2  3  4  5  6  7  8]]\n",
      "contact_types:  ['PointToFace']\n",
      "dist_square:  [26812.05895115]\n",
      "reordered_ind:  [[ 9 10 11 12 13 14 15 16 17  0  1  2  3  4  5  6  7  8]]\n",
      "contact_types:  ['PointToFace']\n",
      "Delta: [0.]\n",
      "upper limit for quadratic: 1.75\n",
      "upper limit for smooth: 2.25\n",
      "dist_square:  [26812.05970415]\n",
      "reordered_ind:  [[ 9 10 11 12 13 14 15 16 17  0  1  2  3  4  5  6  7  8]]\n",
      "contact_types:  ['PointToFace']\n",
      "dist_square:  [26812.05970415]\n",
      "reordered_ind:  [[ 9 10 11 12 13 14 15 16 17  0  1  2  3  4  5  6  7  8]]\n",
      "contact_types:  ['PointToFace']\n",
      "dist_square:  [26812.05970415]\n",
      "reordered_ind:  [[ 9 10 11 12 13 14 15 16 17  0  1  2  3  4  5  6  7  8]]\n",
      "contact_types:  ['PointToFace']\n",
      "Delta: [0.]\n",
      "upper limit for quadratic: 1.75\n",
      "upper limit for smooth: 2.25\n",
      "dist_square:  [28296.59582065]\n",
      "reordered_ind:  [[ 9 10 11 12 13 14 15 16 17  0  1  2  3  4  5  6  7  8]]\n",
      "contact_types:  ['PointToFace']\n",
      "dist_square:  [28296.59582065]\n",
      "reordered_ind:  [[ 9 10 11 12 13 14 15 16 17  0  1  2  3  4  5  6  7  8]]\n",
      "contact_types:  ['PointToFace']\n",
      "dist_square:  [28296.59582065]\n",
      "reordered_ind:  [[ 9 10 11 12 13 14 15 16 17  0  1  2  3  4  5  6  7  8]]\n",
      "contact_types:  ['PointToFace']\n",
      "Delta: [0.]\n",
      "upper limit for quadratic: 1.75\n",
      "upper limit for smooth: 2.25\n",
      "dist_square:  [28296.5965937]\n",
      "reordered_ind:  [[ 9 10 11 12 13 14 15 16 17  0  1  2  3  4  5  6  7  8]]\n",
      "contact_types:  ['PointToFace']\n",
      "dist_square:  [28296.5965937]\n",
      "reordered_ind:  [[ 9 10 11 12 13 14 15 16 17  0  1  2  3  4  5  6  7  8]]\n",
      "contact_types:  ['PointToFace']\n",
      "dist_square:  [28296.5965937]\n",
      "reordered_ind:  [[ 9 10 11 12 13 14 15 16 17  0  1  2  3  4  5  6  7  8]]\n",
      "contact_types:  ['PointToFace']\n",
      "Delta: [0.]\n",
      "upper limit for quadratic: 1.75\n",
      "upper limit for smooth: 2.25\n",
      "dist_square:  [29820.54786917]\n",
      "reordered_ind:  [[ 9 10 11 12 13 14 15 16 17  0  1  2  3  4  5  6  7  8]]\n",
      "contact_types:  ['PointToFace']\n",
      "dist_square:  [29820.54786917]\n",
      "reordered_ind:  [[ 9 10 11 12 13 14 15 16 17  0  1  2  3  4  5  6  7  8]]\n",
      "contact_types:  ['PointToFace']\n",
      "dist_square:  [29820.54786917]\n",
      "reordered_ind:  [[ 9 10 11 12 13 14 15 16 17  0  1  2  3  4  5  6  7  8]]\n",
      "contact_types:  ['PointToFace']\n",
      "Delta: [0.]\n",
      "upper limit for quadratic: 1.75\n",
      "upper limit for smooth: 2.25\n",
      "dist_square:  [29820.54866224]\n",
      "reordered_ind:  [[ 9 10 11 12 13 14 15 16 17  0  1  2  3  4  5  6  7  8]]\n",
      "contact_types:  ['PointToFace']\n",
      "dist_square:  [29820.54866224]\n",
      "reordered_ind:  [[ 9 10 11 12 13 14 15 16 17  0  1  2  3  4  5  6  7  8]]\n",
      "contact_types:  ['PointToFace']\n",
      "dist_square:  [29820.54866224]\n",
      "reordered_ind:  [[ 9 10 11 12 13 14 15 16 17  0  1  2  3  4  5  6  7  8]]\n",
      "contact_types:  ['PointToFace']\n",
      "Delta: [0.]\n",
      "upper limit for quadratic: 1.75\n",
      "upper limit for smooth: 2.25\n",
      "dist_square:  [31383.85401806]\n",
      "reordered_ind:  [[ 9 10 11 12 13 14 15 16 17  0  1  2  3  4  5  6  7  8]]\n",
      "contact_types:  ['PointToFace']\n",
      "dist_square:  [31383.85401806]\n",
      "reordered_ind:  [[ 9 10 11 12 13 14 15 16 17  0  1  2  3  4  5  6  7  8]]\n",
      "contact_types:  ['PointToFace']\n",
      "dist_square:  [31383.85401806]\n",
      "reordered_ind:  [[ 9 10 11 12 13 14 15 16 17  0  1  2  3  4  5  6  7  8]]\n",
      "contact_types:  ['PointToFace']\n",
      "Delta: [0.]\n",
      "upper limit for quadratic: 1.75\n",
      "upper limit for smooth: 2.25\n",
      "dist_square:  [31383.85483111]\n",
      "reordered_ind:  [[ 9 10 11 12 13 14 15 16 17  0  1  2  3  4  5  6  7  8]]\n",
      "contact_types:  ['PointToFace']\n",
      "dist_square:  [31383.85483111]\n",
      "reordered_ind:  [[ 9 10 11 12 13 14 15 16 17  0  1  2  3  4  5  6  7  8]]\n",
      "contact_types:  ['PointToFace']\n",
      "dist_square:  [31383.85483111]\n",
      "reordered_ind:  [[ 9 10 11 12 13 14 15 16 17  0  1  2  3  4  5  6  7  8]]\n",
      "contact_types:  ['PointToFace']\n",
      "Delta: [0.]\n",
      "upper limit for quadratic: 1.75\n",
      "upper limit for smooth: 2.25\n",
      "dist_square:  [32986.45161688]\n",
      "reordered_ind:  [[ 9 10 11 12 13 14 15 16 17  0  1  2  3  4  5  6  7  8]]\n",
      "contact_types:  ['PointToFace']\n",
      "dist_square:  [32986.45161688]\n",
      "reordered_ind:  [[ 9 10 11 12 13 14 15 16 17  0  1  2  3  4  5  6  7  8]]\n",
      "contact_types:  ['PointToFace']\n",
      "dist_square:  [32986.45161688]\n",
      "reordered_ind:  [[ 9 10 11 12 13 14 15 16 17  0  1  2  3  4  5  6  7  8]]\n",
      "contact_types:  ['PointToFace']\n",
      "Delta: [0.]\n",
      "upper limit for quadratic: 1.75\n",
      "upper limit for smooth: 2.25\n",
      "dist_square:  [32986.45244987]\n",
      "reordered_ind:  [[ 9 10 11 12 13 14 15 16 17  0  1  2  3  4  5  6  7  8]]\n",
      "contact_types:  ['PointToFace']\n",
      "dist_square:  [32986.45244987]\n",
      "reordered_ind:  [[ 9 10 11 12 13 14 15 16 17  0  1  2  3  4  5  6  7  8]]\n",
      "contact_types:  ['PointToFace']\n",
      "dist_square:  [32986.45244987]\n",
      "reordered_ind:  [[ 9 10 11 12 13 14 15 16 17  0  1  2  3  4  5  6  7  8]]\n",
      "contact_types:  ['PointToFace']\n",
      "Delta: [0.]\n",
      "upper limit for quadratic: 1.75\n",
      "upper limit for smooth: 2.25\n",
      "dist_square:  [34628.27644564]\n",
      "reordered_ind:  [[ 9 10 11 12 13 14 15 16 17  0  1  2  3  4  5  6  7  8]]\n",
      "contact_types:  ['PointToFace']\n",
      "dist_square:  [34628.27644564]\n",
      "reordered_ind:  [[ 9 10 11 12 13 14 15 16 17  0  1  2  3  4  5  6  7  8]]\n",
      "contact_types:  ['PointToFace']\n",
      "dist_square:  [34628.27644564]\n",
      "reordered_ind:  [[ 9 10 11 12 13 14 15 16 17  0  1  2  3  4  5  6  7  8]]\n",
      "contact_types:  ['PointToFace']\n",
      "Delta: [0.]\n",
      "upper limit for quadratic: 1.75\n",
      "upper limit for smooth: 2.25\n",
      "dist_square:  [34628.27729853]\n",
      "reordered_ind:  [[ 9 10 11 12 13 14 15 16 17  0  1  2  3  4  5  6  7  8]]\n",
      "contact_types:  ['PointToFace']\n",
      "dist_square:  [34628.27729853]\n",
      "reordered_ind:  [[ 9 10 11 12 13 14 15 16 17  0  1  2  3  4  5  6  7  8]]\n",
      "contact_types:  ['PointToFace']\n",
      "dist_square:  [34628.27729853]\n",
      "reordered_ind:  [[ 9 10 11 12 13 14 15 16 17  0  1  2  3  4  5  6  7  8]]\n",
      "contact_types:  ['PointToFace']\n",
      "Delta: [0.]\n",
      "upper limit for quadratic: 1.75\n",
      "upper limit for smooth: 2.25\n",
      "dist_square:  [36309.26271708]\n",
      "reordered_ind:  [[ 9 10 11 12 13 14 15 16 17  0  1  2  3  4  5  6  7  8]]\n",
      "contact_types:  ['PointToFace']\n",
      "dist_square:  [36309.26271708]\n",
      "reordered_ind:  [[ 9 10 11 12 13 14 15 16 17  0  1  2  3  4  5  6  7  8]]\n",
      "contact_types:  ['PointToFace']\n",
      "dist_square:  [36309.26271708]\n",
      "reordered_ind:  [[ 9 10 11 12 13 14 15 16 17  0  1  2  3  4  5  6  7  8]]\n",
      "contact_types:  ['PointToFace']\n",
      "Delta: [0.]\n",
      "upper limit for quadratic: 1.75\n",
      "upper limit for smooth: 2.25\n",
      "dist_square:  [36309.26358983]\n",
      "reordered_ind:  [[ 9 10 11 12 13 14 15 16 17  0  1  2  3  4  5  6  7  8]]\n",
      "contact_types:  ['PointToFace']\n",
      "dist_square:  [36309.26358983]\n",
      "reordered_ind:  [[ 9 10 11 12 13 14 15 16 17  0  1  2  3  4  5  6  7  8]]\n",
      "contact_types:  ['PointToFace']\n",
      "dist_square:  [36309.26358983]\n",
      "reordered_ind:  [[ 9 10 11 12 13 14 15 16 17  0  1  2  3  4  5  6  7  8]]\n",
      "contact_types:  ['PointToFace']\n",
      "Delta: [0.]\n",
      "upper limit for quadratic: 1.75\n",
      "upper limit for smooth: 2.25\n",
      "dist_square:  [38029.34307893]\n",
      "reordered_ind:  [[ 9 10 11 12 13 14 15 16 17  0  1  2  3  4  5  6  7  8]]\n",
      "contact_types:  ['PointToFace']\n",
      "dist_square:  [38029.34307893]\n",
      "reordered_ind:  [[ 9 10 11 12 13 14 15 16 17  0  1  2  3  4  5  6  7  8]]\n",
      "contact_types:  ['PointToFace']\n",
      "dist_square:  [38029.34307893]\n",
      "reordered_ind:  [[ 9 10 11 12 13 14 15 16 17  0  1  2  3  4  5  6  7  8]]\n",
      "contact_types:  ['PointToFace']\n",
      "Delta: [0.]\n",
      "upper limit for quadratic: 1.75\n",
      "upper limit for smooth: 2.25\n",
      "dist_square:  [38029.3439715]\n",
      "reordered_ind:  [[ 9 10 11 12 13 14 15 16 17  0  1  2  3  4  5  6  7  8]]\n",
      "contact_types:  ['PointToFace']\n",
      "dist_square:  [38029.3439715]\n",
      "reordered_ind:  [[ 9 10 11 12 13 14 15 16 17  0  1  2  3  4  5  6  7  8]]\n",
      "contact_types:  ['PointToFace']\n",
      "dist_square:  [38029.3439715]\n",
      "reordered_ind:  [[ 9 10 11 12 13 14 15 16 17  0  1  2  3  4  5  6  7  8]]\n",
      "contact_types:  ['PointToFace']\n",
      "Delta: [0.]\n",
      "upper limit for quadratic: 1.75\n",
      "upper limit for smooth: 2.25\n",
      "dist_square:  [39788.44861638]\n",
      "reordered_ind:  [[ 9 10 11 12 13 14 15 16 17  0  1  2  3  4  5  6  7  8]]\n",
      "contact_types:  ['PointToFace']\n",
      "dist_square:  [39788.44861638]\n",
      "reordered_ind:  [[ 9 10 11 12 13 14 15 16 17  0  1  2  3  4  5  6  7  8]]\n",
      "contact_types:  ['PointToFace']\n",
      "dist_square:  [39788.44861638]\n",
      "reordered_ind:  [[ 9 10 11 12 13 14 15 16 17  0  1  2  3  4  5  6  7  8]]\n",
      "contact_types:  ['PointToFace']\n",
      "Delta: [0.]\n",
      "upper limit for quadratic: 1.75\n",
      "upper limit for smooth: 2.25\n",
      "dist_square:  [39788.44952873]\n",
      "reordered_ind:  [[ 9 10 11 12 13 14 15 16 17  0  1  2  3  4  5  6  7  8]]\n",
      "contact_types:  ['PointToFace']\n",
      "dist_square:  [39788.44952873]\n",
      "reordered_ind:  [[ 9 10 11 12 13 14 15 16 17  0  1  2  3  4  5  6  7  8]]\n",
      "contact_types:  ['PointToFace']\n",
      "dist_square:  [39788.44952873]\n",
      "reordered_ind:  [[ 9 10 11 12 13 14 15 16 17  0  1  2  3  4  5  6  7  8]]\n",
      "contact_types:  ['PointToFace']\n",
      "Delta: [0.]\n",
      "upper limit for quadratic: 1.75\n",
      "upper limit for smooth: 2.25\n",
      "dist_square:  [41586.50885444]\n",
      "reordered_ind:  [[ 9 10 11 12 13 14 15 16 17  0  1  2  3  4  5  6  7  8]]\n",
      "contact_types:  ['PointToFace']\n",
      "dist_square:  [41586.50885444]\n",
      "reordered_ind:  [[ 9 10 11 12 13 14 15 16 17  0  1  2  3  4  5  6  7  8]]\n",
      "contact_types:  ['PointToFace']\n",
      "dist_square:  [41586.50885444]\n",
      "reordered_ind:  [[ 9 10 11 12 13 14 15 16 17  0  1  2  3  4  5  6  7  8]]\n",
      "contact_types:  ['PointToFace']\n",
      "Delta: [0.]\n",
      "upper limit for quadratic: 1.75\n",
      "upper limit for smooth: 2.25\n",
      "dist_square:  [41586.50978652]\n",
      "reordered_ind:  [[ 9 10 11 12 13 14 15 16 17  0  1  2  3  4  5  6  7  8]]\n",
      "contact_types:  ['PointToFace']\n",
      "dist_square:  [41586.50978652]\n",
      "reordered_ind:  [[ 9 10 11 12 13 14 15 16 17  0  1  2  3  4  5  6  7  8]]\n",
      "contact_types:  ['PointToFace']\n",
      "dist_square:  [41586.50978652]\n",
      "reordered_ind:  [[ 9 10 11 12 13 14 15 16 17  0  1  2  3  4  5  6  7  8]]\n",
      "contact_types:  ['PointToFace']\n",
      "Delta: [0.]\n",
      "upper limit for quadratic: 1.75\n",
      "upper limit for smooth: 2.25\n",
      "dist_square:  [43423.45176044]\n",
      "reordered_ind:  [[ 9 10 11 12 13 14 15 16 17  0  1  2  3  4  5  6  7  8]]\n",
      "contact_types:  ['PointToFace']\n",
      "dist_square:  [43423.45176044]\n",
      "reordered_ind:  [[ 9 10 11 12 13 14 15 16 17  0  1  2  3  4  5  6  7  8]]\n",
      "contact_types:  ['PointToFace']\n",
      "dist_square:  [43423.45176044]\n",
      "reordered_ind:  [[ 9 10 11 12 13 14 15 16 17  0  1  2  3  4  5  6  7  8]]\n",
      "contact_types:  ['PointToFace']\n",
      "Delta: [0.]\n",
      "upper limit for quadratic: 1.75\n",
      "upper limit for smooth: 2.25\n",
      "dist_square:  [43423.45271222]\n",
      "reordered_ind:  [[ 9 10 11 12 13 14 15 16 17  0  1  2  3  4  5  6  7  8]]\n",
      "contact_types:  ['PointToFace']\n",
      "dist_square:  [43423.45271222]\n",
      "reordered_ind:  [[ 9 10 11 12 13 14 15 16 17  0  1  2  3  4  5  6  7  8]]\n",
      "contact_types:  ['PointToFace']\n",
      "dist_square:  [43423.45271222]\n",
      "reordered_ind:  [[ 9 10 11 12 13 14 15 16 17  0  1  2  3  4  5  6  7  8]]\n",
      "contact_types:  ['PointToFace']\n",
      "Delta: [0.]\n",
      "upper limit for quadratic: 1.75\n",
      "upper limit for smooth: 2.25\n",
      "dist_square:  [45299.2037466]\n",
      "reordered_ind:  [[ 9 10 11 12 13 14 15 16 17  0  1  2  3  4  5  6  7  8]]\n",
      "contact_types:  ['PointToFace']\n",
      "dist_square:  [45299.2037466]\n",
      "reordered_ind:  [[ 9 10 11 12 13 14 15 16 17  0  1  2  3  4  5  6  7  8]]\n",
      "contact_types:  ['PointToFace']\n",
      "dist_square:  [45299.2037466]\n",
      "reordered_ind:  [[ 9 10 11 12 13 14 15 16 17  0  1  2  3  4  5  6  7  8]]\n",
      "contact_types:  ['PointToFace']\n",
      "Delta: [0.]\n",
      "upper limit for quadratic: 1.75\n",
      "upper limit for smooth: 2.25\n",
      "dist_square:  [45299.20471804]\n",
      "reordered_ind:  [[ 9 10 11 12 13 14 15 16 17  0  1  2  3  4  5  6  7  8]]\n",
      "contact_types:  ['PointToFace']\n",
      "dist_square:  [45299.20471804]\n",
      "reordered_ind:  [[ 9 10 11 12 13 14 15 16 17  0  1  2  3  4  5  6  7  8]]\n",
      "contact_types:  ['PointToFace']\n",
      "dist_square:  [45299.20471804]\n",
      "reordered_ind:  [[ 9 10 11 12 13 14 15 16 17  0  1  2  3  4  5  6  7  8]]\n",
      "contact_types:  ['PointToFace']\n",
      "Delta: [0.]\n",
      "upper limit for quadratic: 1.75\n",
      "upper limit for smooth: 2.25\n",
      "dist_square:  [47213.6896726]\n",
      "reordered_ind:  [[ 9 10 11 12 13 14 15 16 17  0  1  2  3  4  5  6  7  8]]\n",
      "contact_types:  ['PointToFace']\n",
      "dist_square:  [47213.6896726]\n",
      "reordered_ind:  [[ 9 10 11 12 13 14 15 16 17  0  1  2  3  4  5  6  7  8]]\n",
      "contact_types:  ['PointToFace']\n",
      "dist_square:  [47213.6896726]\n",
      "reordered_ind:  [[ 9 10 11 12 13 14 15 16 17  0  1  2  3  4  5  6  7  8]]\n",
      "contact_types:  ['PointToFace']\n",
      "Delta: [0.]\n",
      "upper limit for quadratic: 1.75\n",
      "upper limit for smooth: 2.25\n",
      "dist_square:  [47213.69066366]\n",
      "reordered_ind:  [[ 9 10 11 12 13 14 15 16 17  0  1  2  3  4  5  6  7  8]]\n",
      "contact_types:  ['PointToFace']\n",
      "dist_square:  [47213.69066366]\n",
      "reordered_ind:  [[ 9 10 11 12 13 14 15 16 17  0  1  2  3  4  5  6  7  8]]\n",
      "contact_types:  ['PointToFace']\n",
      "dist_square:  [47213.69066366]\n",
      "reordered_ind:  [[ 9 10 11 12 13 14 15 16 17  0  1  2  3  4  5  6  7  8]]\n",
      "contact_types:  ['PointToFace']\n",
      "Delta: [0.]\n",
      "upper limit for quadratic: 1.75\n",
      "upper limit for smooth: 2.25\n",
      "dist_square:  [49166.83284822]\n",
      "reordered_ind:  [[ 9 10 11 12 13 14 15 16 17  0  1  2  3  4  5  6  7  8]]\n",
      "contact_types:  ['PointToFace']\n",
      "dist_square:  [49166.83284822]\n",
      "reordered_ind:  [[ 9 10 11 12 13 14 15 16 17  0  1  2  3  4  5  6  7  8]]\n",
      "contact_types:  ['PointToFace']\n",
      "dist_square:  [49166.83284822]\n",
      "reordered_ind:  [[ 9 10 11 12 13 14 15 16 17  0  1  2  3  4  5  6  7  8]]\n",
      "contact_types:  ['PointToFace']\n",
      "Delta: [0.]\n",
      "upper limit for quadratic: 1.75\n",
      "upper limit for smooth: 2.25\n",
      "dist_square:  [49166.83385887]\n",
      "reordered_ind:  [[ 9 10 11 12 13 14 15 16 17  0  1  2  3  4  5  6  7  8]]\n",
      "contact_types:  ['PointToFace']\n",
      "dist_square:  [49166.83385887]\n",
      "reordered_ind:  [[ 9 10 11 12 13 14 15 16 17  0  1  2  3  4  5  6  7  8]]\n",
      "contact_types:  ['PointToFace']\n",
      "dist_square:  [49166.83385887]\n",
      "reordered_ind:  [[ 9 10 11 12 13 14 15 16 17  0  1  2  3  4  5  6  7  8]]\n",
      "contact_types:  ['PointToFace']\n",
      "Delta: [0.]\n",
      "upper limit for quadratic: 1.75\n",
      "upper limit for smooth: 2.25\n",
      "dist_square:  [51158.5550361]\n",
      "reordered_ind:  [[ 9 10 11 12 13 14 15 16 17  0  1  2  3  4  5  6  7  8]]\n",
      "contact_types:  ['PointToFace']\n",
      "dist_square:  [51158.5550361]\n",
      "reordered_ind:  [[ 9 10 11 12 13 14 15 16 17  0  1  2  3  4  5  6  7  8]]\n",
      "contact_types:  ['PointToFace']\n",
      "dist_square:  [51158.5550361]\n",
      "reordered_ind:  [[ 9 10 11 12 13 14 15 16 17  0  1  2  3  4  5  6  7  8]]\n",
      "contact_types:  ['PointToFace']\n",
      "Delta: [0.]\n",
      "upper limit for quadratic: 1.75\n",
      "upper limit for smooth: 2.25\n",
      "dist_square:  [51158.55606629]\n",
      "reordered_ind:  [[ 9 10 11 12 13 14 15 16 17  0  1  2  3  4  5  6  7  8]]\n",
      "contact_types:  ['PointToFace']\n",
      "dist_square:  [51158.55606629]\n",
      "reordered_ind:  [[ 9 10 11 12 13 14 15 16 17  0  1  2  3  4  5  6  7  8]]\n",
      "contact_types:  ['PointToFace']\n",
      "dist_square:  [51158.55606629]\n",
      "reordered_ind:  [[ 9 10 11 12 13 14 15 16 17  0  1  2  3  4  5  6  7  8]]\n",
      "contact_types:  ['PointToFace']\n",
      "Delta: [0.]\n",
      "upper limit for quadratic: 1.75\n",
      "upper limit for smooth: 2.25\n",
      "dist_square:  [53188.7764544]\n",
      "reordered_ind:  [[ 9 10 11 12 13 14 15 16 17  0  1  2  3  4  5  6  7  8]]\n",
      "contact_types:  ['PointToFace']\n",
      "dist_square:  [53188.7764544]\n",
      "reordered_ind:  [[ 9 10 11 12 13 14 15 16 17  0  1  2  3  4  5  6  7  8]]\n",
      "contact_types:  ['PointToFace']\n",
      "dist_square:  [53188.7764544]\n",
      "reordered_ind:  [[ 9 10 11 12 13 14 15 16 17  0  1  2  3  4  5  6  7  8]]\n",
      "contact_types:  ['PointToFace']\n",
      "Delta: [0.]\n",
      "upper limit for quadratic: 1.75\n",
      "upper limit for smooth: 2.25\n",
      "dist_square:  [53188.7775041]\n",
      "reordered_ind:  [[ 9 10 11 12 13 14 15 16 17  0  1  2  3  4  5  6  7  8]]\n",
      "contact_types:  ['PointToFace']\n",
      "dist_square:  [53188.7775041]\n",
      "reordered_ind:  [[ 9 10 11 12 13 14 15 16 17  0  1  2  3  4  5  6  7  8]]\n",
      "contact_types:  ['PointToFace']\n",
      "dist_square:  [53188.7775041]\n",
      "reordered_ind:  [[ 9 10 11 12 13 14 15 16 17  0  1  2  3  4  5  6  7  8]]\n",
      "contact_types:  ['PointToFace']\n",
      "Delta: [0.]\n",
      "upper limit for quadratic: 1.75\n",
      "upper limit for smooth: 2.25\n",
      "dist_square:  [55257.41577972]\n",
      "reordered_ind:  [[ 9 10 11 12 13 14 15 16 17  0  1  2  3  4  5  6  7  8]]\n",
      "contact_types:  ['PointToFace']\n",
      "dist_square:  [55257.41577972]\n",
      "reordered_ind:  [[ 9 10 11 12 13 14 15 16 17  0  1  2  3  4  5  6  7  8]]\n",
      "contact_types:  ['PointToFace']\n",
      "dist_square:  [55257.41577972]\n",
      "reordered_ind:  [[ 9 10 11 12 13 14 15 16 17  0  1  2  3  4  5  6  7  8]]\n",
      "contact_types:  ['PointToFace']\n",
      "Delta: [0.]\n",
      "upper limit for quadratic: 1.75\n",
      "upper limit for smooth: 2.25\n",
      "dist_square:  [55257.41684889]\n",
      "reordered_ind:  [[ 9 10 11 12 13 14 15 16 17  0  1  2  3  4  5  6  7  8]]\n",
      "contact_types:  ['PointToFace']\n",
      "dist_square:  [55257.41684889]\n",
      "reordered_ind:  [[ 9 10 11 12 13 14 15 16 17  0  1  2  3  4  5  6  7  8]]\n",
      "contact_types:  ['PointToFace']\n",
      "dist_square:  [55257.41684889]\n",
      "reordered_ind:  [[ 9 10 11 12 13 14 15 16 17  0  1  2  3  4  5  6  7  8]]\n",
      "contact_types:  ['PointToFace']\n",
      "Delta: [0.]\n",
      "upper limit for quadratic: 1.75\n",
      "upper limit for smooth: 2.25\n",
      "dist_square:  [57364.39014989]\n",
      "reordered_ind:  [[ 9 10 11 12 13 14 15 16 17  0  1  2  3  4  5  6  7  8]]\n",
      "contact_types:  ['PointToFace']\n",
      "dist_square:  [57364.39014989]\n",
      "reordered_ind:  [[ 9 10 11 12 13 14 15 16 17  0  1  2  3  4  5  6  7  8]]\n",
      "contact_types:  ['PointToFace']\n",
      "dist_square:  [57364.39014989]\n",
      "reordered_ind:  [[ 9 10 11 12 13 14 15 16 17  0  1  2  3  4  5  6  7  8]]\n",
      "contact_types:  ['PointToFace']\n",
      "Delta: [0.]\n",
      "upper limit for quadratic: 1.75\n",
      "upper limit for smooth: 2.25\n",
      "dist_square:  [57364.39123848]\n",
      "reordered_ind:  [[ 9 10 11 12 13 14 15 16 17  0  1  2  3  4  5  6  7  8]]\n",
      "contact_types:  ['PointToFace']\n",
      "dist_square:  [57364.39123848]\n",
      "reordered_ind:  [[ 9 10 11 12 13 14 15 16 17  0  1  2  3  4  5  6  7  8]]\n",
      "contact_types:  ['PointToFace']\n",
      "dist_square:  [57364.39123848]\n",
      "reordered_ind:  [[ 9 10 11 12 13 14 15 16 17  0  1  2  3  4  5  6  7  8]]\n",
      "contact_types:  ['PointToFace']\n",
      "Delta: [0.]\n",
      "upper limit for quadratic: 1.75\n",
      "upper limit for smooth: 2.25\n",
      "dist_square:  [59509.61516691]\n",
      "reordered_ind:  [[ 9 10 11 12 13 14 15 16 17  0  1  2  3  4  5  6  7  8]]\n",
      "contact_types:  ['PointToFace']\n",
      "dist_square:  [59509.61516691]\n",
      "reordered_ind:  [[ 9 10 11 12 13 14 15 16 17  0  1  2  3  4  5  6  7  8]]\n",
      "contact_types:  ['PointToFace']\n",
      "dist_square:  [59509.61516691]\n",
      "reordered_ind:  [[ 9 10 11 12 13 14 15 16 17  0  1  2  3  4  5  6  7  8]]\n",
      "contact_types:  ['PointToFace']\n",
      "Delta: [0.]\n",
      "upper limit for quadratic: 1.75\n",
      "upper limit for smooth: 2.25\n",
      "dist_square:  [59509.6162749]\n",
      "reordered_ind:  [[ 9 10 11 12 13 14 15 16 17  0  1  2  3  4  5  6  7  8]]\n",
      "contact_types:  ['PointToFace']\n",
      "dist_square:  [59509.6162749]\n",
      "reordered_ind:  [[ 9 10 11 12 13 14 15 16 17  0  1  2  3  4  5  6  7  8]]\n",
      "contact_types:  ['PointToFace']\n",
      "dist_square:  [59509.6162749]\n",
      "reordered_ind:  [[ 9 10 11 12 13 14 15 16 17  0  1  2  3  4  5  6  7  8]]\n",
      "contact_types:  ['PointToFace']\n",
      "Delta: [0.]\n",
      "upper limit for quadratic: 1.75\n",
      "upper limit for smooth: 2.25\n",
      "dist_square:  [61693.00489994]\n",
      "reordered_ind:  [[ 9 10 11 12 13 14 15 16 17  0  1  2  3  4  5  6  7  8]]\n",
      "contact_types:  ['PointToFace']\n",
      "dist_square:  [61693.00489994]\n",
      "reordered_ind:  [[ 9 10 11 12 13 14 15 16 17  0  1  2  3  4  5  6  7  8]]\n",
      "contact_types:  ['PointToFace']\n",
      "dist_square:  [61693.00489994]\n",
      "reordered_ind:  [[ 9 10 11 12 13 14 15 16 17  0  1  2  3  4  5  6  7  8]]\n",
      "contact_types:  ['PointToFace']\n",
      "Delta: [0.]\n",
      "upper limit for quadratic: 1.75\n",
      "upper limit for smooth: 2.25\n",
      "dist_square:  [61693.00602729]\n",
      "reordered_ind:  [[ 9 10 11 12 13 14 15 16 17  0  1  2  3  4  5  6  7  8]]\n",
      "contact_types:  ['PointToFace']\n",
      "dist_square:  [61693.00602729]\n",
      "reordered_ind:  [[ 9 10 11 12 13 14 15 16 17  0  1  2  3  4  5  6  7  8]]\n",
      "contact_types:  ['PointToFace']\n",
      "dist_square:  [61693.00602729]\n",
      "reordered_ind:  [[ 9 10 11 12 13 14 15 16 17  0  1  2  3  4  5  6  7  8]]\n",
      "contact_types:  ['PointToFace']\n",
      "Delta: [0.]\n",
      "upper limit for quadratic: 1.75\n",
      "upper limit for smooth: 2.25\n",
      "dist_square:  [63914.47188833]\n",
      "reordered_ind:  [[ 9 10 11 12 13 14 15 16 17  0  1  2  3  4  5  6  7  8]]\n",
      "contact_types:  ['PointToFace']\n",
      "dist_square:  [63914.47188833]\n",
      "reordered_ind:  [[ 9 10 11 12 13 14 15 16 17  0  1  2  3  4  5  6  7  8]]\n",
      "contact_types:  ['PointToFace']\n",
      "dist_square:  [63914.47188833]\n",
      "reordered_ind:  [[ 9 10 11 12 13 14 15 16 17  0  1  2  3  4  5  6  7  8]]\n",
      "contact_types:  ['PointToFace']\n",
      "Delta: [0.]\n",
      "upper limit for quadratic: 1.75\n",
      "upper limit for smooth: 2.25\n",
      "dist_square:  [63914.473035]\n",
      "reordered_ind:  [[ 9 10 11 12 13 14 15 16 17  0  1  2  3  4  5  6  7  8]]\n",
      "contact_types:  ['PointToFace']\n",
      "dist_square:  [63914.473035]\n",
      "reordered_ind:  [[ 9 10 11 12 13 14 15 16 17  0  1  2  3  4  5  6  7  8]]\n",
      "contact_types:  ['PointToFace']\n",
      "dist_square:  [63914.473035]\n",
      "reordered_ind:  [[ 9 10 11 12 13 14 15 16 17  0  1  2  3  4  5  6  7  8]]\n",
      "contact_types:  ['PointToFace']\n",
      "Delta: [0.]\n",
      "upper limit for quadratic: 1.75\n",
      "upper limit for smooth: 2.25\n",
      "dist_square:  [66173.92714466]\n",
      "reordered_ind:  [[ 9 10 11 12 13 14 15 16 17  0  1  2  3  4  5  6  7  8]]\n",
      "contact_types:  ['PointToFace']\n",
      "dist_square:  [66173.92714466]\n",
      "reordered_ind:  [[ 9 10 11 12 13 14 15 16 17  0  1  2  3  4  5  6  7  8]]\n",
      "contact_types:  ['PointToFace']\n",
      "dist_square:  [66173.92714466]\n",
      "reordered_ind:  [[ 9 10 11 12 13 14 15 16 17  0  1  2  3  4  5  6  7  8]]\n",
      "contact_types:  ['PointToFace']\n",
      "Delta: [0.]\n",
      "upper limit for quadratic: 1.75\n",
      "upper limit for smooth: 2.25\n",
      "dist_square:  [66173.92831062]\n",
      "reordered_ind:  [[ 9 10 11 12 13 14 15 16 17  0  1  2  3  4  5  6  7  8]]\n",
      "contact_types:  ['PointToFace']\n",
      "dist_square:  [66173.92831062]\n",
      "reordered_ind:  [[ 9 10 11 12 13 14 15 16 17  0  1  2  3  4  5  6  7  8]]\n",
      "contact_types:  ['PointToFace']\n",
      "dist_square:  [66173.92831062]\n",
      "reordered_ind:  [[ 9 10 11 12 13 14 15 16 17  0  1  2  3  4  5  6  7  8]]\n",
      "contact_types:  ['PointToFace']\n",
      "Delta: [0.]\n",
      "upper limit for quadratic: 1.75\n",
      "upper limit for smooth: 2.25\n",
      "dist_square:  [68471.28015793]\n",
      "reordered_ind:  [[ 9 10 11 12 13 14 15 16 17  0  1  2  3  4  5  6  7  8]]\n",
      "contact_types:  ['PointToFace']\n",
      "dist_square:  [68471.28015793]\n",
      "reordered_ind:  [[ 9 10 11 12 13 14 15 16 17  0  1  2  3  4  5  6  7  8]]\n",
      "contact_types:  ['PointToFace']\n",
      "dist_square:  [68471.28015793]\n",
      "reordered_ind:  [[ 9 10 11 12 13 14 15 16 17  0  1  2  3  4  5  6  7  8]]\n",
      "contact_types:  ['PointToFace']\n",
      "Delta: [0.]\n",
      "upper limit for quadratic: 1.75\n",
      "upper limit for smooth: 2.25\n",
      "dist_square:  [68471.28134314]\n",
      "reordered_ind:  [[ 9 10 11 12 13 14 15 16 17  0  1  2  3  4  5  6  7  8]]\n",
      "contact_types:  ['PointToFace']\n",
      "dist_square:  [68471.28134314]\n",
      "reordered_ind:  [[ 9 10 11 12 13 14 15 16 17  0  1  2  3  4  5  6  7  8]]\n",
      "contact_types:  ['PointToFace']\n",
      "dist_square:  [68471.28134314]\n",
      "reordered_ind:  [[ 9 10 11 12 13 14 15 16 17  0  1  2  3  4  5  6  7  8]]\n",
      "contact_types:  ['PointToFace']\n",
      "Delta: [0.]\n",
      "upper limit for quadratic: 1.75\n",
      "upper limit for smooth: 2.25\n",
      "dist_square:  [70806.43889669]\n",
      "reordered_ind:  [[ 9 10 11 12 13 14 15 16 17  0  1  2  3  4  5  6  7  8]]\n",
      "contact_types:  ['PointToFace']\n",
      "dist_square:  [70806.43889669]\n",
      "reordered_ind:  [[ 9 10 11 12 13 14 15 16 17  0  1  2  3  4  5  6  7  8]]\n",
      "contact_types:  ['PointToFace']\n",
      "dist_square:  [70806.43889669]\n",
      "reordered_ind:  [[ 9 10 11 12 13 14 15 16 17  0  1  2  3  4  5  6  7  8]]\n",
      "contact_types:  ['PointToFace']\n",
      "Delta: [0.]\n",
      "upper limit for quadratic: 1.75\n",
      "upper limit for smooth: 2.25\n",
      "dist_square:  [70806.44010113]\n",
      "reordered_ind:  [[ 9 10 11 12 13 14 15 16 17  0  1  2  3  4  5  6  7  8]]\n",
      "contact_types:  ['PointToFace']\n",
      "dist_square:  [70806.44010113]\n",
      "reordered_ind:  [[ 9 10 11 12 13 14 15 16 17  0  1  2  3  4  5  6  7  8]]\n",
      "contact_types:  ['PointToFace']\n",
      "dist_square:  [70806.44010113]\n",
      "reordered_ind:  [[ 9 10 11 12 13 14 15 16 17  0  1  2  3  4  5  6  7  8]]\n",
      "contact_types:  ['PointToFace']\n",
      "Delta: [0.]\n",
      "upper limit for quadratic: 1.75\n",
      "upper limit for smooth: 2.25\n",
      "dist_square:  [73179.30981236]\n",
      "reordered_ind:  [[ 9 10 11 12 13 14 15 16 17  0  1  2  3  4  5  6  7  8]]\n",
      "contact_types:  ['PointToFace']\n",
      "dist_square:  [73179.30981236]\n",
      "reordered_ind:  [[ 9 10 11 12 13 14 15 16 17  0  1  2  3  4  5  6  7  8]]\n",
      "contact_types:  ['PointToFace']\n",
      "dist_square:  [73179.30981236]\n",
      "reordered_ind:  [[ 9 10 11 12 13 14 15 16 17  0  1  2  3  4  5  6  7  8]]\n",
      "contact_types:  ['PointToFace']\n",
      "Delta: [0.]\n",
      "upper limit for quadratic: 1.75\n",
      "upper limit for smooth: 2.25\n",
      "dist_square:  [73179.31103598]\n",
      "reordered_ind:  [[ 9 10 11 12 13 14 15 16 17  0  1  2  3  4  5  6  7  8]]\n",
      "contact_types:  ['PointToFace']\n",
      "dist_square:  [73179.31103598]\n",
      "reordered_ind:  [[ 9 10 11 12 13 14 15 16 17  0  1  2  3  4  5  6  7  8]]\n",
      "contact_types:  ['PointToFace']\n",
      "dist_square:  [73179.31103598]\n",
      "reordered_ind:  [[ 9 10 11 12 13 14 15 16 17  0  1  2  3  4  5  6  7  8]]\n",
      "contact_types:  ['PointToFace']\n",
      "Delta: [0.]\n",
      "upper limit for quadratic: 1.75\n",
      "upper limit for smooth: 2.25\n",
      "dist_square:  [75589.79784244]\n",
      "reordered_ind:  [[ 9 10 11 12 13 14 15 16 17  0  1  2  3  4  5  6  7  8]]\n",
      "contact_types:  ['PointToFace']\n",
      "dist_square:  [75589.79784244]\n",
      "reordered_ind:  [[ 9 10 11 12 13 14 15 16 17  0  1  2  3  4  5  6  7  8]]\n",
      "contact_types:  ['PointToFace']\n",
      "dist_square:  [75589.79784244]\n",
      "reordered_ind:  [[ 9 10 11 12 13 14 15 16 17  0  1  2  3  4  5  6  7  8]]\n",
      "contact_types:  ['PointToFace']\n",
      "Delta: [0.]\n",
      "upper limit for quadratic: 1.75\n",
      "upper limit for smooth: 2.25\n",
      "dist_square:  [75589.79908522]\n",
      "reordered_ind:  [[ 9 10 11 12 13 14 15 16 17  0  1  2  3  4  5  6  7  8]]\n",
      "contact_types:  ['PointToFace']\n",
      "dist_square:  [75589.79908522]\n",
      "reordered_ind:  [[ 9 10 11 12 13 14 15 16 17  0  1  2  3  4  5  6  7  8]]\n",
      "contact_types:  ['PointToFace']\n",
      "dist_square:  [75589.79908522]\n",
      "reordered_ind:  [[ 9 10 11 12 13 14 15 16 17  0  1  2  3  4  5  6  7  8]]\n",
      "contact_types:  ['PointToFace']\n",
      "Delta: [0.]\n",
      "upper limit for quadratic: 1.75\n",
      "upper limit for smooth: 2.25\n",
      "dist_square:  [78037.80641392]\n",
      "reordered_ind:  [[ 9 10 11 12 13 14 15 16 17  0  1  2  3  4  5  6  7  8]]\n",
      "contact_types:  ['PointToFace']\n",
      "dist_square:  [78037.80641392]\n",
      "reordered_ind:  [[ 9 10 11 12 13 14 15 16 17  0  1  2  3  4  5  6  7  8]]\n",
      "contact_types:  ['PointToFace']\n",
      "dist_square:  [78037.80641392]\n",
      "reordered_ind:  [[ 9 10 11 12 13 14 15 16 17  0  1  2  3  4  5  6  7  8]]\n",
      "contact_types:  ['PointToFace']\n",
      "Delta: [0.]\n",
      "upper limit for quadratic: 1.75\n",
      "upper limit for smooth: 2.25\n",
      "dist_square:  [78037.80767582]\n",
      "reordered_ind:  [[ 9 10 11 12 13 14 15 16 17  0  1  2  3  4  5  6  7  8]]\n",
      "contact_types:  ['PointToFace']\n",
      "dist_square:  [78037.80767582]\n",
      "reordered_ind:  [[ 9 10 11 12 13 14 15 16 17  0  1  2  3  4  5  6  7  8]]\n",
      "contact_types:  ['PointToFace']\n",
      "dist_square:  [78037.80767582]\n",
      "reordered_ind:  [[ 9 10 11 12 13 14 15 16 17  0  1  2  3  4  5  6  7  8]]\n",
      "contact_types:  ['PointToFace']\n",
      "Delta: [0.]\n",
      "upper limit for quadratic: 1.75\n",
      "upper limit for smooth: 2.25\n",
      "dist_square:  [80523.23744666]\n",
      "reordered_ind:  [[ 9 10 11 12 13 14 15 16 17  0  1  2  3  4  5  6  7  8]]\n",
      "contact_types:  ['PointToFace']\n",
      "dist_square:  [80523.23744666]\n",
      "reordered_ind:  [[ 9 10 11 12 13 14 15 16 17  0  1  2  3  4  5  6  7  8]]\n",
      "contact_types:  ['PointToFace']\n",
      "dist_square:  [80523.23744666]\n",
      "reordered_ind:  [[ 9 10 11 12 13 14 15 16 17  0  1  2  3  4  5  6  7  8]]\n",
      "contact_types:  ['PointToFace']\n",
      "Delta: [0.]\n",
      "upper limit for quadratic: 1.75\n",
      "upper limit for smooth: 2.25\n",
      "dist_square:  [80523.23872765]\n",
      "reordered_ind:  [[ 9 10 11 12 13 14 15 16 17  0  1  2  3  4  5  6  7  8]]\n",
      "contact_types:  ['PointToFace']\n",
      "dist_square:  [80523.23872765]\n",
      "reordered_ind:  [[ 9 10 11 12 13 14 15 16 17  0  1  2  3  4  5  6  7  8]]\n",
      "contact_types:  ['PointToFace']\n",
      "dist_square:  [80523.23872765]\n",
      "reordered_ind:  [[ 9 10 11 12 13 14 15 16 17  0  1  2  3  4  5  6  7  8]]\n",
      "contact_types:  ['PointToFace']\n",
      "Delta: [0.]\n",
      "upper limit for quadratic: 1.75\n",
      "upper limit for smooth: 2.25\n",
      "dist_square:  [83045.99135683]\n",
      "reordered_ind:  [[ 9 10 11 12 13 14 15 16 17  0  1  2  3  4  5  6  7  8]]\n",
      "contact_types:  ['PointToFace']\n",
      "dist_square:  [83045.99135683]\n",
      "reordered_ind:  [[ 9 10 11 12 13 14 15 16 17  0  1  2  3  4  5  6  7  8]]\n",
      "contact_types:  ['PointToFace']\n",
      "dist_square:  [83045.99135683]\n",
      "reordered_ind:  [[ 9 10 11 12 13 14 15 16 17  0  1  2  3  4  5  6  7  8]]\n",
      "contact_types:  ['PointToFace']\n",
      "Delta: [0.]\n",
      "upper limit for quadratic: 1.75\n",
      "upper limit for smooth: 2.25\n",
      "dist_square:  [83045.99265689]\n",
      "reordered_ind:  [[ 9 10 11 12 13 14 15 16 17  0  1  2  3  4  5  6  7  8]]\n",
      "contact_types:  ['PointToFace']\n",
      "dist_square:  [83045.99265689]\n",
      "reordered_ind:  [[ 9 10 11 12 13 14 15 16 17  0  1  2  3  4  5  6  7  8]]\n",
      "contact_types:  ['PointToFace']\n",
      "dist_square:  [83045.99265689]\n",
      "reordered_ind:  [[ 9 10 11 12 13 14 15 16 17  0  1  2  3  4  5  6  7  8]]\n",
      "contact_types:  ['PointToFace']\n",
      "Delta: [0.]\n",
      "upper limit for quadratic: 1.75\n",
      "upper limit for smooth: 2.25\n",
      "dist_square:  [85605.96702513]\n",
      "reordered_ind:  [[ 0  1  2  3  4  5  6  7  8  9 10 11 12 13 14 15 16 17]]\n",
      "contact_types:  ['Unknown']\n",
      "dist_square:  [85605.96702513]\n",
      "reordered_ind:  [[ 0  1  2  3  4  5  6  7  8  9 10 11 12 13 14 15 16 17]]\n",
      "contact_types:  ['Unknown']\n",
      "dist_square:  [85605.96702513]\n",
      "reordered_ind:  [[ 0  1  2  3  4  5  6  7  8  9 10 11 12 13 14 15 16 17]]\n",
      "contact_types:  ['Unknown']\n",
      "Delta: [0.]\n",
      "upper limit for quadratic: 1.75\n",
      "upper limit for smooth: 2.25\n",
      "dist_square:  [85605.96834372]\n",
      "reordered_ind:  [[ 0  1  2  3  4  5  6  7  8  9 10 11 12 13 14 15 16 17]]\n",
      "contact_types:  ['Unknown']\n",
      "dist_square:  [85605.96834372]\n",
      "reordered_ind:  [[ 0  1  2  3  4  5  6  7  8  9 10 11 12 13 14 15 16 17]]\n",
      "contact_types:  ['Unknown']\n",
      "dist_square:  [85605.96834372]\n",
      "reordered_ind:  [[ 0  1  2  3  4  5  6  7  8  9 10 11 12 13 14 15 16 17]]\n",
      "contact_types:  ['Unknown']\n",
      "Delta: [0.]\n",
      "upper limit for quadratic: 1.75\n",
      "upper limit for smooth: 2.25\n",
      "dist_square:  [88203.06179129]\n",
      "reordered_ind:  [[ 9 10 11 12 13 14 15 16 17  0  1  2  3  4  5  6  7  8]]\n",
      "contact_types:  ['EdgeToFace']\n",
      "dist_square:  [88203.06179129]\n",
      "reordered_ind:  [[ 9 10 11 12 13 14 15 16 17  0  1  2  3  4  5  6  7  8]]\n",
      "contact_types:  ['EdgeToFace']\n",
      "dist_square:  [88203.06179129]\n",
      "reordered_ind:  [[ 9 10 11 12 13 14 15 16 17  0  1  2  3  4  5  6  7  8]]\n",
      "contact_types:  ['EdgeToFace']\n",
      "Delta: [0.]\n",
      "upper limit for quadratic: 1.75\n",
      "upper limit for smooth: 2.25\n",
      "dist_square:  [88203.06312871]\n",
      "reordered_ind:  [[ 0  1  2  3  4  5  6  7  8  9 10 11 12 13 14 15 16 17]]\n",
      "contact_types:  ['Unknown']\n",
      "dist_square:  [88203.06312871]\n",
      "reordered_ind:  [[ 0  1  2  3  4  5  6  7  8  9 10 11 12 13 14 15 16 17]]\n",
      "contact_types:  ['Unknown']\n",
      "dist_square:  [88203.06312871]\n",
      "reordered_ind:  [[ 0  1  2  3  4  5  6  7  8  9 10 11 12 13 14 15 16 17]]\n",
      "contact_types:  ['Unknown']\n",
      "Delta: [0.]\n",
      "upper limit for quadratic: 1.75\n",
      "upper limit for smooth: 2.25\n",
      "dist_square:  [90837.17164992]\n",
      "reordered_ind:  [[ 0  1  2  3  4  5  6  7  8  9 10 11 12 13 14 15 16 17]]\n",
      "contact_types:  ['Unknown']\n",
      "dist_square:  [90837.17164992]\n",
      "reordered_ind:  [[ 0  1  2  3  4  5  6  7  8  9 10 11 12 13 14 15 16 17]]\n",
      "contact_types:  ['Unknown']\n",
      "dist_square:  [90837.17164992]\n",
      "reordered_ind:  [[ 0  1  2  3  4  5  6  7  8  9 10 11 12 13 14 15 16 17]]\n",
      "contact_types:  ['Unknown']\n",
      "Delta: [0.]\n",
      "upper limit for quadratic: 1.75\n",
      "upper limit for smooth: 2.25\n",
      "dist_square:  [90837.17300613]\n",
      "reordered_ind:  [[ 0  1  2  3  4  5  6  7  8  9 10 11 12 13 14 15 16 17]]\n",
      "contact_types:  ['Unknown']\n",
      "dist_square:  [90837.17300613]\n",
      "reordered_ind:  [[ 0  1  2  3  4  5  6  7  8  9 10 11 12 13 14 15 16 17]]\n",
      "contact_types:  ['Unknown']\n",
      "dist_square:  [90837.17300613]\n",
      "reordered_ind:  [[ 0  1  2  3  4  5  6  7  8  9 10 11 12 13 14 15 16 17]]\n",
      "contact_types:  ['Unknown']\n",
      "Delta: [0.]\n",
      "upper limit for quadratic: 1.75\n",
      "upper limit for smooth: 2.25\n",
      "dist_square:  [93508.19103242]\n",
      "reordered_ind:  [[ 9 10 11 12 13 14 15 16 17  0  1  2  3  4  5  6  7  8]]\n",
      "contact_types:  ['EdgeToFace']\n",
      "dist_square:  [93508.19103242]\n",
      "reordered_ind:  [[ 9 10 11 12 13 14 15 16 17  0  1  2  3  4  5  6  7  8]]\n",
      "contact_types:  ['EdgeToFace']\n",
      "dist_square:  [93508.19103242]\n",
      "reordered_ind:  [[ 9 10 11 12 13 14 15 16 17  0  1  2  3  4  5  6  7  8]]\n",
      "contact_types:  ['EdgeToFace']\n",
      "Delta: [0.]\n",
      "upper limit for quadratic: 1.75\n",
      "upper limit for smooth: 2.25\n",
      "dist_square:  [93508.19240738]\n",
      "reordered_ind:  [[ 0  1  2  3  4  5  6  7  8  9 10 11 12 13 14 15 16 17]]\n",
      "contact_types:  ['Unknown']\n",
      "dist_square:  [93508.19240738]\n",
      "reordered_ind:  [[ 0  1  2  3  4  5  6  7  8  9 10 11 12 13 14 15 16 17]]\n",
      "contact_types:  ['Unknown']\n",
      "dist_square:  [93508.19240738]\n",
      "reordered_ind:  [[ 0  1  2  3  4  5  6  7  8  9 10 11 12 13 14 15 16 17]]\n",
      "contact_types:  ['Unknown']\n",
      "Delta: [0.]\n",
      "upper limit for quadratic: 1.75\n",
      "upper limit for smooth: 2.25\n",
      "dist_square:  [96216.01288412]\n",
      "reordered_ind:  [[ 0  1  2  3  4  5  6  7  8  9 10 11 12 13 14 15 16 17]]\n",
      "contact_types:  ['Unknown']\n",
      "dist_square:  [96216.01288412]\n",
      "reordered_ind:  [[ 0  1  2  3  4  5  6  7  8  9 10 11 12 13 14 15 16 17]]\n",
      "contact_types:  ['Unknown']\n",
      "dist_square:  [96216.01288412]\n",
      "reordered_ind:  [[ 0  1  2  3  4  5  6  7  8  9 10 11 12 13 14 15 16 17]]\n",
      "contact_types:  ['Unknown']\n",
      "Delta: [0.]\n",
      "upper limit for quadratic: 1.75\n",
      "upper limit for smooth: 2.25\n",
      "dist_square:  [96216.0142778]\n",
      "reordered_ind:  [[ 0  1  2  3  4  5  6  7  8  9 10 11 12 13 14 15 16 17]]\n",
      "contact_types:  ['Unknown']\n",
      "dist_square:  [96216.0142778]\n",
      "reordered_ind:  [[ 0  1  2  3  4  5  6  7  8  9 10 11 12 13 14 15 16 17]]\n",
      "contact_types:  ['Unknown']\n",
      "dist_square:  [96216.0142778]\n",
      "reordered_ind:  [[ 0  1  2  3  4  5  6  7  8  9 10 11 12 13 14 15 16 17]]\n",
      "contact_types:  ['Unknown']\n",
      "Delta: [0.]\n",
      "upper limit for quadratic: 1.75\n",
      "upper limit for smooth: 2.25\n",
      "dist_square:  [98960.52866801]\n",
      "reordered_ind:  [[ 0  1  2  3  4  5  6  7  8  9 10 11 12 13 14 15 16 17]]\n",
      "contact_types:  ['Unknown']\n",
      "dist_square:  [98960.52866801]\n",
      "reordered_ind:  [[ 0  1  2  3  4  5  6  7  8  9 10 11 12 13 14 15 16 17]]\n",
      "contact_types:  ['Unknown']\n",
      "dist_square:  [98960.52866801]\n",
      "reordered_ind:  [[ 0  1  2  3  4  5  6  7  8  9 10 11 12 13 14 15 16 17]]\n",
      "contact_types:  ['Unknown']\n",
      "Delta: [0.]\n",
      "upper limit for quadratic: 1.75\n",
      "upper limit for smooth: 2.25\n",
      "dist_square:  [98960.53008037]\n",
      "reordered_ind:  [[ 0  1  2  3  4  5  6  7  8  9 10 11 12 13 14 15 16 17]]\n",
      "contact_types:  ['Unknown']\n",
      "dist_square:  [98960.53008037]\n",
      "reordered_ind:  [[ 0  1  2  3  4  5  6  7  8  9 10 11 12 13 14 15 16 17]]\n",
      "contact_types:  ['Unknown']\n",
      "dist_square:  [98960.53008037]\n",
      "reordered_ind:  [[ 0  1  2  3  4  5  6  7  8  9 10 11 12 13 14 15 16 17]]\n",
      "contact_types:  ['Unknown']\n",
      "Delta: [0.]\n",
      "upper limit for quadratic: 1.75\n",
      "upper limit for smooth: 2.25\n",
      "dist_square:  [101741.62836855]\n",
      "reordered_ind:  [[ 9 10 11 12 13 14 15 16 17  0  1  2  3  4  5  6  7  8]]\n",
      "contact_types:  ['EdgeToFace']\n",
      "dist_square:  [101741.62836855]\n",
      "reordered_ind:  [[ 9 10 11 12 13 14 15 16 17  0  1  2  3  4  5  6  7  8]]\n",
      "contact_types:  ['EdgeToFace']\n",
      "dist_square:  [101741.62836855]\n",
      "reordered_ind:  [[ 9 10 11 12 13 14 15 16 17  0  1  2  3  4  5  6  7  8]]\n",
      "contact_types:  ['EdgeToFace']\n",
      "Delta: [0.]\n",
      "upper limit for quadratic: 1.75\n",
      "upper limit for smooth: 2.25\n",
      "dist_square:  [101741.62979955]\n",
      "reordered_ind:  [[ 0  1  2  3  4  5  6  7  8  9 10 11 12 13 14 15 16 17]]\n",
      "contact_types:  ['Unknown']\n",
      "dist_square:  [101741.62979955]\n",
      "reordered_ind:  [[ 0  1  2  3  4  5  6  7  8  9 10 11 12 13 14 15 16 17]]\n",
      "contact_types:  ['Unknown']\n",
      "dist_square:  [101741.62979955]\n",
      "reordered_ind:  [[ 0  1  2  3  4  5  6  7  8  9 10 11 12 13 14 15 16 17]]\n",
      "contact_types:  ['Unknown']\n",
      "Delta: [0.]\n",
      "upper limit for quadratic: 1.75\n",
      "upper limit for smooth: 2.25\n",
      "dist_square:  [104559.2004955]\n",
      "reordered_ind:  [[ 0  1  2  3  4  5  6  7  8  9 10 11 12 13 14 15 16 17]]\n",
      "contact_types:  ['Unknown']\n",
      "dist_square:  [104559.2004955]\n",
      "reordered_ind:  [[ 0  1  2  3  4  5  6  7  8  9 10 11 12 13 14 15 16 17]]\n",
      "contact_types:  ['Unknown']\n",
      "dist_square:  [104559.2004955]\n",
      "reordered_ind:  [[ 0  1  2  3  4  5  6  7  8  9 10 11 12 13 14 15 16 17]]\n",
      "contact_types:  ['Unknown']\n",
      "Delta: [0.]\n",
      "upper limit for quadratic: 1.75\n",
      "upper limit for smooth: 2.25\n",
      "dist_square:  [104559.20194512]\n",
      "reordered_ind:  [[ 0  1  2  3  4  5  6  7  8  9 10 11 12 13 14 15 16 17]]\n",
      "contact_types:  ['Unknown']\n",
      "dist_square:  [104559.20194512]\n",
      "reordered_ind:  [[ 0  1  2  3  4  5  6  7  8  9 10 11 12 13 14 15 16 17]]\n",
      "contact_types:  ['Unknown']\n",
      "dist_square:  [104559.20194512]\n",
      "reordered_ind:  [[ 0  1  2  3  4  5  6  7  8  9 10 11 12 13 14 15 16 17]]\n",
      "contact_types:  ['Unknown']\n",
      "Delta: [0.]\n",
      "upper limit for quadratic: 1.75\n",
      "upper limit for smooth: 2.25\n",
      "dist_square:  [107413.13208782]\n",
      "reordered_ind:  [[ 0  1  2  3  4  5  6  7  8  9 10 11 12 13 14 15 16 17]]\n",
      "contact_types:  ['Unknown']\n",
      "dist_square:  [107413.13208782]\n",
      "reordered_ind:  [[ 0  1  2  3  4  5  6  7  8  9 10 11 12 13 14 15 16 17]]\n",
      "contact_types:  ['Unknown']\n",
      "dist_square:  [107413.13208782]\n",
      "reordered_ind:  [[ 0  1  2  3  4  5  6  7  8  9 10 11 12 13 14 15 16 17]]\n",
      "contact_types:  ['Unknown']\n",
      "Delta: [0.]\n",
      "upper limit for quadratic: 1.75\n",
      "upper limit for smooth: 2.25\n",
      "dist_square:  [107413.13355602]\n",
      "reordered_ind:  [[ 0  1  2  3  4  5  6  7  8  9 10 11 12 13 14 15 16 17]]\n",
      "contact_types:  ['Unknown']\n",
      "dist_square:  [107413.13355602]\n",
      "reordered_ind:  [[ 0  1  2  3  4  5  6  7  8  9 10 11 12 13 14 15 16 17]]\n",
      "contact_types:  ['Unknown']\n",
      "dist_square:  [107413.13355602]\n",
      "reordered_ind:  [[ 0  1  2  3  4  5  6  7  8  9 10 11 12 13 14 15 16 17]]\n",
      "contact_types:  ['Unknown']\n",
      "Delta: [0.]\n",
      "upper limit for quadratic: 1.75\n",
      "upper limit for smooth: 2.25\n",
      "dist_square:  [110303.30871764]\n",
      "reordered_ind:  [[ 0  1  2  3  4  5  6  7  8  9 10 11 12 13 14 15 16 17]]\n",
      "contact_types:  ['Unknown']\n",
      "dist_square:  [110303.30871764]\n",
      "reordered_ind:  [[ 0  1  2  3  4  5  6  7  8  9 10 11 12 13 14 15 16 17]]\n",
      "contact_types:  ['Unknown']\n",
      "dist_square:  [110303.30871764]\n",
      "reordered_ind:  [[ 0  1  2  3  4  5  6  7  8  9 10 11 12 13 14 15 16 17]]\n",
      "contact_types:  ['Unknown']\n",
      "Delta: [0.]\n",
      "upper limit for quadratic: 1.75\n",
      "upper limit for smooth: 2.25\n",
      "dist_square:  [110303.31020439]\n",
      "reordered_ind:  [[ 9 10 11 12 13 14 15 16 17  0  1  2  3  4  5  6  7  8]]\n",
      "contact_types:  ['EdgeToFace']\n",
      "dist_square:  [110303.31020439]\n",
      "reordered_ind:  [[ 9 10 11 12 13 14 15 16 17  0  1  2  3  4  5  6  7  8]]\n",
      "contact_types:  ['EdgeToFace']\n",
      "dist_square:  [110303.31020439]\n",
      "reordered_ind:  [[ 9 10 11 12 13 14 15 16 17  0  1  2  3  4  5  6  7  8]]\n",
      "contact_types:  ['EdgeToFace']\n",
      "Delta: [0.]\n",
      "upper limit for quadratic: 1.75\n",
      "upper limit for smooth: 2.25\n",
      "dist_square:  [113229.61449423]\n",
      "reordered_ind:  [[ 0  1  2  3  4  5  6  7  8  9 10 11 12 13 14 15 16 17]]\n",
      "contact_types:  ['Unknown']\n",
      "dist_square:  [113229.61449423]\n",
      "reordered_ind:  [[ 0  1  2  3  4  5  6  7  8  9 10 11 12 13 14 15 16 17]]\n",
      "contact_types:  ['Unknown']\n",
      "dist_square:  [113229.61449423]\n",
      "reordered_ind:  [[ 0  1  2  3  4  5  6  7  8  9 10 11 12 13 14 15 16 17]]\n",
      "contact_types:  ['Unknown']\n",
      "Delta: [0.]\n",
      "upper limit for quadratic: 1.75\n",
      "upper limit for smooth: 2.25\n",
      "dist_square:  [113229.6159995]\n",
      "reordered_ind:  [[ 0  1  2  3  4  5  6  7  8  9 10 11 12 13 14 15 16 17]]\n",
      "contact_types:  ['Unknown']\n",
      "dist_square:  [113229.6159995]\n",
      "reordered_ind:  [[ 0  1  2  3  4  5  6  7  8  9 10 11 12 13 14 15 16 17]]\n",
      "contact_types:  ['Unknown']\n",
      "dist_square:  [113229.6159995]\n",
      "reordered_ind:  [[ 0  1  2  3  4  5  6  7  8  9 10 11 12 13 14 15 16 17]]\n",
      "contact_types:  ['Unknown']\n",
      "Delta: [0.]\n",
      "upper limit for quadratic: 1.75\n",
      "upper limit for smooth: 2.25\n",
      "dist_square:  [116191.93206805]\n",
      "reordered_ind:  [[ 0  1  2  3  4  5  6  7  8  9 10 11 12 13 14 15 16 17]]\n",
      "contact_types:  ['Unknown']\n",
      "dist_square:  [116191.93206805]\n",
      "reordered_ind:  [[ 0  1  2  3  4  5  6  7  8  9 10 11 12 13 14 15 16 17]]\n",
      "contact_types:  ['Unknown']\n",
      "dist_square:  [116191.93206805]\n",
      "reordered_ind:  [[ 0  1  2  3  4  5  6  7  8  9 10 11 12 13 14 15 16 17]]\n",
      "contact_types:  ['Unknown']\n",
      "Delta: [0.]\n",
      "upper limit for quadratic: 1.75\n",
      "upper limit for smooth: 2.25\n",
      "dist_square:  [116191.9335918]\n",
      "reordered_ind:  [[ 0  1  2  3  4  5  6  7  8  9 10 11 12 13 14 15 16 17]]\n",
      "contact_types:  ['Unknown']\n",
      "dist_square:  [116191.9335918]\n",
      "reordered_ind:  [[ 0  1  2  3  4  5  6  7  8  9 10 11 12 13 14 15 16 17]]\n",
      "contact_types:  ['Unknown']\n",
      "dist_square:  [116191.9335918]\n",
      "reordered_ind:  [[ 0  1  2  3  4  5  6  7  8  9 10 11 12 13 14 15 16 17]]\n",
      "contact_types:  ['Unknown']\n",
      "Delta: [0.]\n",
      "upper limit for quadratic: 1.75\n",
      "upper limit for smooth: 2.25\n",
      "dist_square:  [119190.14263487]\n",
      "reordered_ind:  [[ 0  1  2  3  4  5  6  7  8  9 10 11 12 13 14 15 16 17]]\n",
      "contact_types:  ['Unknown']\n",
      "dist_square:  [119190.14263487]\n",
      "reordered_ind:  [[ 0  1  2  3  4  5  6  7  8  9 10 11 12 13 14 15 16 17]]\n",
      "contact_types:  ['Unknown']\n",
      "dist_square:  [119190.14263487]\n",
      "reordered_ind:  [[ 0  1  2  3  4  5  6  7  8  9 10 11 12 13 14 15 16 17]]\n",
      "contact_types:  ['Unknown']\n",
      "Delta: [0.]\n",
      "upper limit for quadratic: 1.75\n",
      "upper limit for smooth: 2.25\n",
      "dist_square:  [119190.14417707]\n",
      "reordered_ind:  [[ 0  1  2  3  4  5  6  7  8  9 10 11 12 13 14 15 16 17]]\n",
      "contact_types:  ['Unknown']\n",
      "dist_square:  [119190.14417707]\n",
      "reordered_ind:  [[ 0  1  2  3  4  5  6  7  8  9 10 11 12 13 14 15 16 17]]\n",
      "contact_types:  ['Unknown']\n",
      "dist_square:  [119190.14417707]\n",
      "reordered_ind:  [[ 0  1  2  3  4  5  6  7  8  9 10 11 12 13 14 15 16 17]]\n",
      "contact_types:  ['Unknown']\n",
      "Delta: [0.]\n",
      "upper limit for quadratic: 1.75\n",
      "upper limit for smooth: 2.25\n",
      "dist_square:  [122224.1259399]\n",
      "reordered_ind:  [[ 0  1  2  3  4  5  6  7  8  9 10 11 12 13 14 15 16 17]]\n",
      "contact_types:  ['Unknown']\n",
      "dist_square:  [122224.1259399]\n",
      "reordered_ind:  [[ 0  1  2  3  4  5  6  7  8  9 10 11 12 13 14 15 16 17]]\n",
      "contact_types:  ['Unknown']\n",
      "dist_square:  [122224.1259399]\n",
      "reordered_ind:  [[ 0  1  2  3  4  5  6  7  8  9 10 11 12 13 14 15 16 17]]\n",
      "contact_types:  ['Unknown']\n",
      "Delta: [0.]\n",
      "upper limit for quadratic: 1.75\n",
      "upper limit for smooth: 2.25\n",
      "dist_square:  [122224.12750053]\n",
      "reordered_ind:  [[ 0  1  2  3  4  5  6  7  8  9 10 11 12 13 14 15 16 17]]\n",
      "contact_types:  ['Unknown']\n",
      "dist_square:  [122224.12750053]\n",
      "reordered_ind:  [[ 0  1  2  3  4  5  6  7  8  9 10 11 12 13 14 15 16 17]]\n",
      "contact_types:  ['Unknown']\n",
      "dist_square:  [122224.12750053]\n",
      "reordered_ind:  [[ 0  1  2  3  4  5  6  7  8  9 10 11 12 13 14 15 16 17]]\n",
      "contact_types:  ['Unknown']\n",
      "Delta: [0.]\n",
      "upper limit for quadratic: 1.75\n",
      "upper limit for smooth: 2.25\n",
      "dist_square:  [125293.76028201]\n",
      "reordered_ind:  [[ 0  1  2  3  4  5  6  7  8  9 10 11 12 13 14 15 16 17]]\n",
      "contact_types:  ['Unknown']\n",
      "dist_square:  [125293.76028201]\n",
      "reordered_ind:  [[ 0  1  2  3  4  5  6  7  8  9 10 11 12 13 14 15 16 17]]\n",
      "contact_types:  ['Unknown']\n",
      "dist_square:  [125293.76028201]\n",
      "reordered_ind:  [[ 0  1  2  3  4  5  6  7  8  9 10 11 12 13 14 15 16 17]]\n",
      "contact_types:  ['Unknown']\n",
      "Delta: [0.]\n",
      "upper limit for quadratic: 1.75\n",
      "upper limit for smooth: 2.25\n",
      "dist_square:  [125293.76186103]\n",
      "reordered_ind:  [[ 0  1  2  3  4  5  6  7  8  9 10 11 12 13 14 15 16 17]]\n",
      "contact_types:  ['Unknown']\n",
      "dist_square:  [125293.76186103]\n",
      "reordered_ind:  [[ 0  1  2  3  4  5  6  7  8  9 10 11 12 13 14 15 16 17]]\n",
      "contact_types:  ['Unknown']\n",
      "dist_square:  [125293.76186103]\n",
      "reordered_ind:  [[ 0  1  2  3  4  5  6  7  8  9 10 11 12 13 14 15 16 17]]\n",
      "contact_types:  ['Unknown']\n",
      "Delta: [0.]\n",
      "upper limit for quadratic: 1.75\n",
      "upper limit for smooth: 2.25\n",
      "dist_square:  [128398.92251795]\n",
      "reordered_ind:  [[ 9 10 11 12 13 14 15 16 17  0  1  2  3  4  5  6  7  8]]\n",
      "contact_types:  ['EdgeToFace']\n",
      "dist_square:  [128398.92251795]\n",
      "reordered_ind:  [[ 9 10 11 12 13 14 15 16 17  0  1  2  3  4  5  6  7  8]]\n",
      "contact_types:  ['EdgeToFace']\n",
      "dist_square:  [128398.92251795]\n",
      "reordered_ind:  [[ 9 10 11 12 13 14 15 16 17  0  1  2  3  4  5  6  7  8]]\n",
      "contact_types:  ['EdgeToFace']\n",
      "Delta: [0.]\n",
      "upper limit for quadratic: 1.75\n",
      "upper limit for smooth: 2.25\n"
     ]
    }
   ],
   "source": [
    "stepper = dismech.ImplicitEulerTimeStepper(robot)\n",
    "\n",
    "robots = stepper.simulate()\n",
    "\n",
    "qs = np.stack([robot.state.q for robot in robots])"
   ]
  },
  {
   "cell_type": "code",
   "execution_count": 3,
   "metadata": {},
   "outputs": [
    {
     "data": {
      "application/vnd.plotly.v1+json": {
       "config": {
        "plotlyServerURL": "https://plot.ly"
       },
       "data": [
        {
         "marker": {
          "color": "#1f78b4",
          "size": 5
         },
         "mode": "markers",
         "name": "Free Nodes",
         "type": "scatter3d",
         "x": {
          "bdata": "AAAAAAAAAAAAAAAAAADwPwAAAAAAAAAAAAAAAAAA8D8AAAAAAAAAQAAAAAAAAABA",
          "dtype": "f8"
         },
         "y": {
          "bdata": "AAAAAAAAAAAAAAAAAAAAAAAAAAAAAPA/AAAAAAAAAAAAAAAAAAAAAAAAAAAAAPA/",
          "dtype": "f8"
         },
         "z": {
          "bdata": "AAAAAAAAAAAAAAAAAAAAAAAAAAAAAAAAUrgehetRuD9SuB6F61G4P1K4HoXrUbg/",
          "dtype": "f8"
         }
        },
        {
         "marker": {
          "color": "#e31a1c",
          "size": 5
         },
         "mode": "markers",
         "name": "Fixed Nodes",
         "type": "scatter3d",
         "x": [],
         "y": [],
         "z": []
        },
        {
         "line": {
          "color": "#333333",
          "width": 2
         },
         "mode": "lines",
         "name": "Edges",
         "type": "scatter3d",
         "x": [
          1,
          0,
          null,
          0,
          0,
          null,
          0,
          1,
          null,
          2,
          2,
          null,
          2,
          1,
          null,
          1,
          2,
          null
         ],
         "y": [
          0,
          1,
          null,
          1,
          0,
          null,
          0,
          0,
          null,
          0,
          1,
          null,
          1,
          0,
          null,
          0,
          0,
          null
         ],
         "z": [
          0,
          0,
          null,
          0,
          0,
          null,
          0,
          0,
          null,
          0.095,
          0.095,
          null,
          0.095,
          0.095,
          null,
          0.095,
          0.095,
          null
         ]
        },
        {
         "color": "rgba(166, 206, 227, 0.7)",
         "i": [
          0,
          3
         ],
         "j": [
          1,
          4
         ],
         "k": [
          2,
          5
         ],
         "name": "Faces",
         "opacity": 0.7,
         "showscale": false,
         "type": "mesh3d",
         "x": {
          "bdata": "AAAAAAAAAAAAAAAAAADwPwAAAAAAAAAAAAAAAAAA8D8AAAAAAAAAQAAAAAAAAABA",
          "dtype": "f8"
         },
         "y": {
          "bdata": "AAAAAAAAAAAAAAAAAAAAAAAAAAAAAPA/AAAAAAAAAAAAAAAAAAAAAAAAAAAAAPA/",
          "dtype": "f8"
         },
         "z": {
          "bdata": "AAAAAAAAAAAAAAAAAAAAAAAAAAAAAAAAUrgehetRuD9SuB6F61G4P1K4HoXrUbg/",
          "dtype": "f8"
         }
        }
       ],
       "frames": [
        {
         "data": [
          {
           "name": "Free Nodes",
           "type": "scatter3d",
           "x": {
            "bdata": "AAAAAAAAAAAAAAAAAADwPwAAAAAAAAAAAAAAAAAA8D8AAAAAAAAAQAAAAAAAAABA",
            "dtype": "f8"
           },
           "y": {
            "bdata": "AAAAAAAAAAAAAAAAAAAAAAAAAAAAAPA/AAAAAAAAAAAAAAAAAAAAAAAAAAAAAPA/",
            "dtype": "f8"
           },
           "z": {
            "bdata": "AAAAAAAAAAAAAAAAAAAAAAAAAAAAAAAAUrgehetRuD9SuB6F61G4P1K4HoXrUbg/",
            "dtype": "f8"
           }
          },
          {
           "name": "Fixed Nodes",
           "type": "scatter3d",
           "x": [],
           "y": [],
           "z": []
          },
          {
           "name": "Edges",
           "type": "scatter3d",
           "x": [
            1,
            0,
            null,
            0,
            0,
            null,
            0,
            1,
            null,
            2,
            2,
            null,
            2,
            1,
            null,
            1,
            2,
            null
           ],
           "y": [
            0,
            1,
            null,
            1,
            0,
            null,
            0,
            0,
            null,
            0,
            1,
            null,
            1,
            0,
            null,
            0,
            0,
            null
           ],
           "z": [
            0,
            0,
            null,
            0,
            0,
            null,
            0,
            0,
            null,
            0.095,
            0.095,
            null,
            0.095,
            0.095,
            null,
            0.095,
            0.095,
            null
           ]
          },
          {
           "i": [
            0,
            3
           ],
           "j": [
            1,
            4
           ],
           "k": [
            2,
            5
           ],
           "name": "Faces",
           "type": "mesh3d",
           "x": {
            "bdata": "AAAAAAAAAAAAAAAAAADwPwAAAAAAAAAAAAAAAAAA8D8AAAAAAAAAQAAAAAAAAABA",
            "dtype": "f8"
           },
           "y": {
            "bdata": "AAAAAAAAAAAAAAAAAAAAAAAAAAAAAPA/AAAAAAAAAAAAAAAAAAAAAAAAAAAAAPA/",
            "dtype": "f8"
           },
           "z": {
            "bdata": "AAAAAAAAAAAAAAAAAAAAAAAAAAAAAAAAUrgehetRuD9SuB6F61G4P1K4HoXrUbg/",
            "dtype": "f8"
           }
          }
         ],
         "layout": {
          "annotations": [
           {
            "showarrow": false,
            "text": "Time: 0.00s (Step: 1/100)",
            "x": 0.05,
            "xref": "paper",
            "y": 0.95,
            "yref": "paper"
           }
          ]
         },
         "name": "0"
        },
        {
         "data": [
          {
           "name": "Free Nodes",
           "type": "scatter3d",
           "x": {
            "bdata": "AAAAAAAAAAAAAAAAAADwPwAAAAAAAAAAAAAAAAAA8D8AAAAAAAAAQAAAAAAAAABA",
            "dtype": "f8"
           },
           "y": {
            "bdata": "AAAAAAAAAAAAAAAAAAAAAAAAAAAAAPA/AAAAAAAAAAAAAAAAAAAAAAAAAAAAAPA/",
            "dtype": "f8"
           },
           "z": {
            "bdata": "AAAAAAAAAAAAAAAAAAAAAAAAAAAAAAAACtejcD0Ktz8K16NwPQq3PwrXo3A9Crc/",
            "dtype": "f8"
           }
          },
          {
           "name": "Fixed Nodes",
           "type": "scatter3d",
           "x": [],
           "y": [],
           "z": []
          },
          {
           "name": "Edges",
           "type": "scatter3d",
           "x": [
            1,
            0,
            null,
            0,
            0,
            null,
            0,
            1,
            null,
            2,
            2,
            null,
            2,
            1,
            null,
            1,
            2,
            null
           ],
           "y": [
            0,
            1,
            null,
            1,
            0,
            null,
            0,
            0,
            null,
            0,
            1,
            null,
            1,
            0,
            null,
            0,
            0,
            null
           ],
           "z": [
            0,
            0,
            null,
            0,
            0,
            null,
            0,
            0,
            null,
            0.09,
            0.09,
            null,
            0.09,
            0.09,
            null,
            0.09,
            0.09,
            null
           ]
          },
          {
           "i": [
            0,
            3
           ],
           "j": [
            1,
            4
           ],
           "k": [
            2,
            5
           ],
           "name": "Faces",
           "type": "mesh3d",
           "x": {
            "bdata": "AAAAAAAAAAAAAAAAAADwPwAAAAAAAAAAAAAAAAAA8D8AAAAAAAAAQAAAAAAAAABA",
            "dtype": "f8"
           },
           "y": {
            "bdata": "AAAAAAAAAAAAAAAAAAAAAAAAAAAAAPA/AAAAAAAAAAAAAAAAAAAAAAAAAAAAAPA/",
            "dtype": "f8"
           },
           "z": {
            "bdata": "AAAAAAAAAAAAAAAAAAAAAAAAAAAAAAAACtejcD0Ktz8K16NwPQq3PwrXo3A9Crc/",
            "dtype": "f8"
           }
          }
         ],
         "layout": {
          "annotations": [
           {
            "showarrow": false,
            "text": "Time: 0.01s (Step: 2/100)",
            "x": 0.05,
            "xref": "paper",
            "y": 0.95,
            "yref": "paper"
           }
          ]
         },
         "name": "1"
        },
        {
         "data": [
          {
           "name": "Free Nodes",
           "type": "scatter3d",
           "x": {
            "bdata": "AAAAAAAAAAAAAAAAAADwPwAAAAAAAAAAAAAAAAAA8D8AAAAAAAAAQAAAAAAAAABA",
            "dtype": "f8"
           },
           "y": {
            "bdata": "AAAAAAAAAAAAAAAAAAAAAAAAAAAAAPA/AAAAAAAAAAAAAAAAAAAAAAAAAAAAAPA/",
            "dtype": "f8"
           },
           "z": {
            "bdata": "AAAAAAAAAAAAAAAAAAAAAAAAAAAAAAAAwvUoXI/CtT/C9Shcj8K1P8L1KFyPwrU/",
            "dtype": "f8"
           }
          },
          {
           "name": "Fixed Nodes",
           "type": "scatter3d",
           "x": [],
           "y": [],
           "z": []
          },
          {
           "name": "Edges",
           "type": "scatter3d",
           "x": [
            1,
            0,
            null,
            0,
            0,
            null,
            0,
            1,
            null,
            2,
            2,
            null,
            2,
            1,
            null,
            1,
            2,
            null
           ],
           "y": [
            0,
            1,
            null,
            1,
            0,
            null,
            0,
            0,
            null,
            0,
            1,
            null,
            1,
            0,
            null,
            0,
            0,
            null
           ],
           "z": [
            0,
            0,
            null,
            0,
            0,
            null,
            0,
            0,
            null,
            0.08499999999999999,
            0.08499999999999999,
            null,
            0.08499999999999999,
            0.08499999999999999,
            null,
            0.08499999999999999,
            0.08499999999999999,
            null
           ]
          },
          {
           "i": [
            0,
            3
           ],
           "j": [
            1,
            4
           ],
           "k": [
            2,
            5
           ],
           "name": "Faces",
           "type": "mesh3d",
           "x": {
            "bdata": "AAAAAAAAAAAAAAAAAADwPwAAAAAAAAAAAAAAAAAA8D8AAAAAAAAAQAAAAAAAAABA",
            "dtype": "f8"
           },
           "y": {
            "bdata": "AAAAAAAAAAAAAAAAAAAAAAAAAAAAAPA/AAAAAAAAAAAAAAAAAAAAAAAAAAAAAPA/",
            "dtype": "f8"
           },
           "z": {
            "bdata": "AAAAAAAAAAAAAAAAAAAAAAAAAAAAAAAAwvUoXI/CtT/C9Shcj8K1P8L1KFyPwrU/",
            "dtype": "f8"
           }
          }
         ],
         "layout": {
          "annotations": [
           {
            "showarrow": false,
            "text": "Time: 0.02s (Step: 3/100)",
            "x": 0.05,
            "xref": "paper",
            "y": 0.95,
            "yref": "paper"
           }
          ]
         },
         "name": "2"
        },
        {
         "data": [
          {
           "name": "Free Nodes",
           "type": "scatter3d",
           "x": {
            "bdata": "AAAAAAAAAAAAAAAAAADwPwAAAAAAAAAAAAAAAAAA8D8AAAAAAAAAQAAAAAAAAABA",
            "dtype": "f8"
           },
           "y": {
            "bdata": "AAAAAAAAAAAAAAAAAAAAAAAAAAAAAPA/AAAAAAAAAAAAAAAAAAAAAAAAAAAAAPA/",
            "dtype": "f8"
           },
           "z": {
            "bdata": "AAAAAAAAAAAAAAAAAAAAAAAAAAAAAAAAehSuR+F6tD96FK5H4Xq0P3oUrkfherQ/",
            "dtype": "f8"
           }
          },
          {
           "name": "Fixed Nodes",
           "type": "scatter3d",
           "x": [],
           "y": [],
           "z": []
          },
          {
           "name": "Edges",
           "type": "scatter3d",
           "x": [
            1,
            0,
            null,
            0,
            0,
            null,
            0,
            1,
            null,
            2,
            2,
            null,
            2,
            1,
            null,
            1,
            2,
            null
           ],
           "y": [
            0,
            1,
            null,
            1,
            0,
            null,
            0,
            0,
            null,
            0,
            1,
            null,
            1,
            0,
            null,
            0,
            0,
            null
           ],
           "z": [
            0,
            0,
            null,
            0,
            0,
            null,
            0,
            0,
            null,
            0.07999999999999999,
            0.07999999999999999,
            null,
            0.07999999999999999,
            0.07999999999999999,
            null,
            0.07999999999999999,
            0.07999999999999999,
            null
           ]
          },
          {
           "i": [
            0,
            3
           ],
           "j": [
            1,
            4
           ],
           "k": [
            2,
            5
           ],
           "name": "Faces",
           "type": "mesh3d",
           "x": {
            "bdata": "AAAAAAAAAAAAAAAAAADwPwAAAAAAAAAAAAAAAAAA8D8AAAAAAAAAQAAAAAAAAABA",
            "dtype": "f8"
           },
           "y": {
            "bdata": "AAAAAAAAAAAAAAAAAAAAAAAAAAAAAPA/AAAAAAAAAAAAAAAAAAAAAAAAAAAAAPA/",
            "dtype": "f8"
           },
           "z": {
            "bdata": "AAAAAAAAAAAAAAAAAAAAAAAAAAAAAAAAehSuR+F6tD96FK5H4Xq0P3oUrkfherQ/",
            "dtype": "f8"
           }
          }
         ],
         "layout": {
          "annotations": [
           {
            "showarrow": false,
            "text": "Time: 0.03s (Step: 4/100)",
            "x": 0.05,
            "xref": "paper",
            "y": 0.95,
            "yref": "paper"
           }
          ]
         },
         "name": "3"
        },
        {
         "data": [
          {
           "name": "Free Nodes",
           "type": "scatter3d",
           "x": {
            "bdata": "AAAAAAAAAAAAAAAAAADwPwAAAAAAAAAAAAAAAAAA8D8AAAAAAAAAQAAAAAAAAABA",
            "dtype": "f8"
           },
           "y": {
            "bdata": "AAAAAAAAAAAAAAAAAAAAAAAAAAAAAPA/AAAAAAAAAAAAAAAAAAAAAAAAAAAAAPA/",
            "dtype": "f8"
           },
           "z": {
            "bdata": "AAAAAAAAAAAAAAAAAAAAAAAAAAAAAAAAMjMzMzMzsz8yMzMzMzOzPzIzMzMzM7M/",
            "dtype": "f8"
           }
          },
          {
           "name": "Fixed Nodes",
           "type": "scatter3d",
           "x": [],
           "y": [],
           "z": []
          },
          {
           "name": "Edges",
           "type": "scatter3d",
           "x": [
            1,
            0,
            null,
            0,
            0,
            null,
            0,
            1,
            null,
            2,
            2,
            null,
            2,
            1,
            null,
            1,
            2,
            null
           ],
           "y": [
            0,
            1,
            null,
            1,
            0,
            null,
            0,
            0,
            null,
            0,
            1,
            null,
            1,
            0,
            null,
            0,
            0,
            null
           ],
           "z": [
            0,
            0,
            null,
            0,
            0,
            null,
            0,
            0,
            null,
            0.07499999999999998,
            0.07499999999999998,
            null,
            0.07499999999999998,
            0.07499999999999998,
            null,
            0.07499999999999998,
            0.07499999999999998,
            null
           ]
          },
          {
           "i": [
            0,
            3
           ],
           "j": [
            1,
            4
           ],
           "k": [
            2,
            5
           ],
           "name": "Faces",
           "type": "mesh3d",
           "x": {
            "bdata": "AAAAAAAAAAAAAAAAAADwPwAAAAAAAAAAAAAAAAAA8D8AAAAAAAAAQAAAAAAAAABA",
            "dtype": "f8"
           },
           "y": {
            "bdata": "AAAAAAAAAAAAAAAAAAAAAAAAAAAAAPA/AAAAAAAAAAAAAAAAAAAAAAAAAAAAAPA/",
            "dtype": "f8"
           },
           "z": {
            "bdata": "AAAAAAAAAAAAAAAAAAAAAAAAAAAAAAAAMjMzMzMzsz8yMzMzMzOzPzIzMzMzM7M/",
            "dtype": "f8"
           }
          }
         ],
         "layout": {
          "annotations": [
           {
            "showarrow": false,
            "text": "Time: 0.04s (Step: 5/100)",
            "x": 0.05,
            "xref": "paper",
            "y": 0.95,
            "yref": "paper"
           }
          ]
         },
         "name": "4"
        },
        {
         "data": [
          {
           "name": "Free Nodes",
           "type": "scatter3d",
           "x": {
            "bdata": "AAAAAAAAAAAAAAAAAADwPwAAAAAAAAAAAAAAAAAA8D8AAAAAAAAAQAAAAAAAAABA",
            "dtype": "f8"
           },
           "y": {
            "bdata": "AAAAAAAAAAAAAAAAAAAAAAAAAAAAAPA/AAAAAAAAAAAAAAAAAAAAAAAAAAAAAPA/",
            "dtype": "f8"
           },
           "z": {
            "bdata": "AAAAAAAAAAAAAAAAAAAAAAAAAAAAAAAA6lG4HoXrsT/qUbgeheuxP+pRuB6F67E/",
            "dtype": "f8"
           }
          },
          {
           "name": "Fixed Nodes",
           "type": "scatter3d",
           "x": [],
           "y": [],
           "z": []
          },
          {
           "name": "Edges",
           "type": "scatter3d",
           "x": [
            1,
            0,
            null,
            0,
            0,
            null,
            0,
            1,
            null,
            2,
            2,
            null,
            2,
            1,
            null,
            1,
            2,
            null
           ],
           "y": [
            0,
            1,
            null,
            1,
            0,
            null,
            0,
            0,
            null,
            0,
            1,
            null,
            1,
            0,
            null,
            0,
            0,
            null
           ],
           "z": [
            0,
            0,
            null,
            0,
            0,
            null,
            0,
            0,
            null,
            0.06999999999999998,
            0.06999999999999998,
            null,
            0.06999999999999998,
            0.06999999999999998,
            null,
            0.06999999999999998,
            0.06999999999999998,
            null
           ]
          },
          {
           "i": [
            0,
            3
           ],
           "j": [
            1,
            4
           ],
           "k": [
            2,
            5
           ],
           "name": "Faces",
           "type": "mesh3d",
           "x": {
            "bdata": "AAAAAAAAAAAAAAAAAADwPwAAAAAAAAAAAAAAAAAA8D8AAAAAAAAAQAAAAAAAAABA",
            "dtype": "f8"
           },
           "y": {
            "bdata": "AAAAAAAAAAAAAAAAAAAAAAAAAAAAAPA/AAAAAAAAAAAAAAAAAAAAAAAAAAAAAPA/",
            "dtype": "f8"
           },
           "z": {
            "bdata": "AAAAAAAAAAAAAAAAAAAAAAAAAAAAAAAA6lG4HoXrsT/qUbgeheuxP+pRuB6F67E/",
            "dtype": "f8"
           }
          }
         ],
         "layout": {
          "annotations": [
           {
            "showarrow": false,
            "text": "Time: 0.05s (Step: 6/100)",
            "x": 0.05,
            "xref": "paper",
            "y": 0.95,
            "yref": "paper"
           }
          ]
         },
         "name": "5"
        },
        {
         "data": [
          {
           "name": "Free Nodes",
           "type": "scatter3d",
           "x": {
            "bdata": "AAAAAAAAAAAAAAAAAADwPwAAAAAAAAAAAAAAAAAA8D8AAAAAAAAAQAAAAAAAAABA",
            "dtype": "f8"
           },
           "y": {
            "bdata": "AAAAAAAAAAAAAAAAAAAAAAAAAAAAAPA/AAAAAAAAAAAAAAAAAAAAAAAAAAAAAPA/",
            "dtype": "f8"
           },
           "z": {
            "bdata": "AAAAAAAAAAAAAAAAAAAAAAAAAAAAAAAAonA9CtejsD+icD0K16OwP6JwPQrXo7A/",
            "dtype": "f8"
           }
          },
          {
           "name": "Fixed Nodes",
           "type": "scatter3d",
           "x": [],
           "y": [],
           "z": []
          },
          {
           "name": "Edges",
           "type": "scatter3d",
           "x": [
            1,
            0,
            null,
            0,
            0,
            null,
            0,
            1,
            null,
            2,
            2,
            null,
            2,
            1,
            null,
            1,
            2,
            null
           ],
           "y": [
            0,
            1,
            null,
            1,
            0,
            null,
            0,
            0,
            null,
            0,
            1,
            null,
            1,
            0,
            null,
            0,
            0,
            null
           ],
           "z": [
            0,
            0,
            null,
            0,
            0,
            null,
            0,
            0,
            null,
            0.06499999999999997,
            0.06499999999999997,
            null,
            0.06499999999999997,
            0.06499999999999997,
            null,
            0.06499999999999997,
            0.06499999999999997,
            null
           ]
          },
          {
           "i": [
            0,
            3
           ],
           "j": [
            1,
            4
           ],
           "k": [
            2,
            5
           ],
           "name": "Faces",
           "type": "mesh3d",
           "x": {
            "bdata": "AAAAAAAAAAAAAAAAAADwPwAAAAAAAAAAAAAAAAAA8D8AAAAAAAAAQAAAAAAAAABA",
            "dtype": "f8"
           },
           "y": {
            "bdata": "AAAAAAAAAAAAAAAAAAAAAAAAAAAAAPA/AAAAAAAAAAAAAAAAAAAAAAAAAAAAAPA/",
            "dtype": "f8"
           },
           "z": {
            "bdata": "AAAAAAAAAAAAAAAAAAAAAAAAAAAAAAAAonA9CtejsD+icD0K16OwP6JwPQrXo7A/",
            "dtype": "f8"
           }
          }
         ],
         "layout": {
          "annotations": [
           {
            "showarrow": false,
            "text": "Time: 0.06s (Step: 7/100)",
            "x": 0.05,
            "xref": "paper",
            "y": 0.95,
            "yref": "paper"
           }
          ]
         },
         "name": "6"
        },
        {
         "data": [
          {
           "name": "Free Nodes",
           "type": "scatter3d",
           "x": {
            "bdata": "AAAAAAAAAAAAAAAAAADwPwAAAAAAAAAAAAAAAAAA8D8AAAAAAAAAQAAAAAAAAABA",
            "dtype": "f8"
           },
           "y": {
            "bdata": "AAAAAAAAAAAAAAAAAAAAAAAAAAAAAPA/AAAAAAAAAAAAAAAAAAAAAAAAAAAAAPA/",
            "dtype": "f8"
           },
           "z": {
            "bdata": "AAAAAAAAAAAAAAAAAAAAAAAAAAAAAAAAtB6F61G4rj+0HoXrUbiuP7QehetRuK4/",
            "dtype": "f8"
           }
          },
          {
           "name": "Fixed Nodes",
           "type": "scatter3d",
           "x": [],
           "y": [],
           "z": []
          },
          {
           "name": "Edges",
           "type": "scatter3d",
           "x": [
            1,
            0,
            null,
            0,
            0,
            null,
            0,
            1,
            null,
            2,
            2,
            null,
            2,
            1,
            null,
            1,
            2,
            null
           ],
           "y": [
            0,
            1,
            null,
            1,
            0,
            null,
            0,
            0,
            null,
            0,
            1,
            null,
            1,
            0,
            null,
            0,
            0,
            null
           ],
           "z": [
            0,
            0,
            null,
            0,
            0,
            null,
            0,
            0,
            null,
            0.05999999999999997,
            0.05999999999999997,
            null,
            0.05999999999999997,
            0.05999999999999997,
            null,
            0.05999999999999997,
            0.05999999999999997,
            null
           ]
          },
          {
           "i": [
            0,
            3
           ],
           "j": [
            1,
            4
           ],
           "k": [
            2,
            5
           ],
           "name": "Faces",
           "type": "mesh3d",
           "x": {
            "bdata": "AAAAAAAAAAAAAAAAAADwPwAAAAAAAAAAAAAAAAAA8D8AAAAAAAAAQAAAAAAAAABA",
            "dtype": "f8"
           },
           "y": {
            "bdata": "AAAAAAAAAAAAAAAAAAAAAAAAAAAAAPA/AAAAAAAAAAAAAAAAAAAAAAAAAAAAAPA/",
            "dtype": "f8"
           },
           "z": {
            "bdata": "AAAAAAAAAAAAAAAAAAAAAAAAAAAAAAAAtB6F61G4rj+0HoXrUbiuP7QehetRuK4/",
            "dtype": "f8"
           }
          }
         ],
         "layout": {
          "annotations": [
           {
            "showarrow": false,
            "text": "Time: 0.07s (Step: 8/100)",
            "x": 0.05,
            "xref": "paper",
            "y": 0.95,
            "yref": "paper"
           }
          ]
         },
         "name": "7"
        },
        {
         "data": [
          {
           "name": "Free Nodes",
           "type": "scatter3d",
           "x": {
            "bdata": "AAAAAAAAAAAAAAAAAADwPwAAAAAAAAAAAAAAAAAA8D8AAAAAAAAAQAAAAAAAAABA",
            "dtype": "f8"
           },
           "y": {
            "bdata": "AAAAAAAAAAAAAAAAAAAAAAAAAAAAAPA/AAAAAAAAAAAAAAAAAAAAAAAAAAAAAPA/",
            "dtype": "f8"
           },
           "z": {
            "bdata": "AAAAAAAAAAAAAAAAAAAAAAAAAAAAAAAAJFyPwvUorD8kXI/C9SisPyRcj8L1KKw/",
            "dtype": "f8"
           }
          },
          {
           "name": "Fixed Nodes",
           "type": "scatter3d",
           "x": [],
           "y": [],
           "z": []
          },
          {
           "name": "Edges",
           "type": "scatter3d",
           "x": [
            1,
            0,
            null,
            0,
            0,
            null,
            0,
            1,
            null,
            2,
            2,
            null,
            2,
            1,
            null,
            1,
            2,
            null
           ],
           "y": [
            0,
            1,
            null,
            1,
            0,
            null,
            0,
            0,
            null,
            0,
            1,
            null,
            1,
            0,
            null,
            0,
            0,
            null
           ],
           "z": [
            0,
            0,
            null,
            0,
            0,
            null,
            0,
            0,
            null,
            0.054999999999999966,
            0.054999999999999966,
            null,
            0.054999999999999966,
            0.054999999999999966,
            null,
            0.054999999999999966,
            0.054999999999999966,
            null
           ]
          },
          {
           "i": [
            0,
            3
           ],
           "j": [
            1,
            4
           ],
           "k": [
            2,
            5
           ],
           "name": "Faces",
           "type": "mesh3d",
           "x": {
            "bdata": "AAAAAAAAAAAAAAAAAADwPwAAAAAAAAAAAAAAAAAA8D8AAAAAAAAAQAAAAAAAAABA",
            "dtype": "f8"
           },
           "y": {
            "bdata": "AAAAAAAAAAAAAAAAAAAAAAAAAAAAAPA/AAAAAAAAAAAAAAAAAAAAAAAAAAAAAPA/",
            "dtype": "f8"
           },
           "z": {
            "bdata": "AAAAAAAAAAAAAAAAAAAAAAAAAAAAAAAAJFyPwvUorD8kXI/C9SisPyRcj8L1KKw/",
            "dtype": "f8"
           }
          }
         ],
         "layout": {
          "annotations": [
           {
            "showarrow": false,
            "text": "Time: 0.08s (Step: 9/100)",
            "x": 0.05,
            "xref": "paper",
            "y": 0.95,
            "yref": "paper"
           }
          ]
         },
         "name": "8"
        },
        {
         "data": [
          {
           "name": "Free Nodes",
           "type": "scatter3d",
           "x": {
            "bdata": "AAAAAAAAAAAAAAAAAADwPwAAAAAAAAAAAAAAAAAA8D8AAAAAAAAAQAAAAAAAAABA",
            "dtype": "f8"
           },
           "y": {
            "bdata": "AAAAAAAAAAAAAAAAAAAAAAAAAAAAAPA/AAAAAAAAAAAAAAAAAAAAAAAAAAAAAPA/",
            "dtype": "f8"
           },
           "z": {
            "bdata": "AAAAAAAAAAAAAAAAAAAAAAAAAAAAAAAAlJmZmZmZqT+UmZmZmZmpP5SZmZmZmak/",
            "dtype": "f8"
           }
          },
          {
           "name": "Fixed Nodes",
           "type": "scatter3d",
           "x": [],
           "y": [],
           "z": []
          },
          {
           "name": "Edges",
           "type": "scatter3d",
           "x": [
            1,
            0,
            null,
            0,
            0,
            null,
            0,
            1,
            null,
            2,
            2,
            null,
            2,
            1,
            null,
            1,
            2,
            null
           ],
           "y": [
            0,
            1,
            null,
            1,
            0,
            null,
            0,
            0,
            null,
            0,
            1,
            null,
            1,
            0,
            null,
            0,
            0,
            null
           ],
           "z": [
            0,
            0,
            null,
            0,
            0,
            null,
            0,
            0,
            null,
            0.04999999999999996,
            0.04999999999999996,
            null,
            0.04999999999999996,
            0.04999999999999996,
            null,
            0.04999999999999996,
            0.04999999999999996,
            null
           ]
          },
          {
           "i": [
            0,
            3
           ],
           "j": [
            1,
            4
           ],
           "k": [
            2,
            5
           ],
           "name": "Faces",
           "type": "mesh3d",
           "x": {
            "bdata": "AAAAAAAAAAAAAAAAAADwPwAAAAAAAAAAAAAAAAAA8D8AAAAAAAAAQAAAAAAAAABA",
            "dtype": "f8"
           },
           "y": {
            "bdata": "AAAAAAAAAAAAAAAAAAAAAAAAAAAAAPA/AAAAAAAAAAAAAAAAAAAAAAAAAAAAAPA/",
            "dtype": "f8"
           },
           "z": {
            "bdata": "AAAAAAAAAAAAAAAAAAAAAAAAAAAAAAAAlJmZmZmZqT+UmZmZmZmpP5SZmZmZmak/",
            "dtype": "f8"
           }
          }
         ],
         "layout": {
          "annotations": [
           {
            "showarrow": false,
            "text": "Time: 0.09s (Step: 10/100)",
            "x": 0.05,
            "xref": "paper",
            "y": 0.95,
            "yref": "paper"
           }
          ]
         },
         "name": "9"
        },
        {
         "data": [
          {
           "name": "Free Nodes",
           "type": "scatter3d",
           "x": {
            "bdata": "AAAAAAAAAAAAAAAAAADwPwAAAAAAAAAAAAAAAAAA8D8AAAAAAAAAQAAAAAAAAABA",
            "dtype": "f8"
           },
           "y": {
            "bdata": "AAAAAAAAAAAAAAAAAAAAAAAAAAAAAPA/AAAAAAAAAAAAAAAAAAAAAAAAAAAAAPA/",
            "dtype": "f8"
           },
           "z": {
            "bdata": "AAAAAAAAAAAAAAAAAAAAAAAAAAAAAAAABNejcD0Kpz8E16NwPQqnPwTXo3A9Cqc/",
            "dtype": "f8"
           }
          },
          {
           "name": "Fixed Nodes",
           "type": "scatter3d",
           "x": [],
           "y": [],
           "z": []
          },
          {
           "name": "Edges",
           "type": "scatter3d",
           "x": [
            1,
            0,
            null,
            0,
            0,
            null,
            0,
            1,
            null,
            2,
            2,
            null,
            2,
            1,
            null,
            1,
            2,
            null
           ],
           "y": [
            0,
            1,
            null,
            1,
            0,
            null,
            0,
            0,
            null,
            0,
            1,
            null,
            1,
            0,
            null,
            0,
            0,
            null
           ],
           "z": [
            0,
            0,
            null,
            0,
            0,
            null,
            0,
            0,
            null,
            0.04499999999999996,
            0.04499999999999996,
            null,
            0.04499999999999996,
            0.04499999999999996,
            null,
            0.04499999999999996,
            0.04499999999999996,
            null
           ]
          },
          {
           "i": [
            0,
            3
           ],
           "j": [
            1,
            4
           ],
           "k": [
            2,
            5
           ],
           "name": "Faces",
           "type": "mesh3d",
           "x": {
            "bdata": "AAAAAAAAAAAAAAAAAADwPwAAAAAAAAAAAAAAAAAA8D8AAAAAAAAAQAAAAAAAAABA",
            "dtype": "f8"
           },
           "y": {
            "bdata": "AAAAAAAAAAAAAAAAAAAAAAAAAAAAAPA/AAAAAAAAAAAAAAAAAAAAAAAAAAAAAPA/",
            "dtype": "f8"
           },
           "z": {
            "bdata": "AAAAAAAAAAAAAAAAAAAAAAAAAAAAAAAABNejcD0Kpz8E16NwPQqnPwTXo3A9Cqc/",
            "dtype": "f8"
           }
          }
         ],
         "layout": {
          "annotations": [
           {
            "showarrow": false,
            "text": "Time: 0.10s (Step: 11/100)",
            "x": 0.05,
            "xref": "paper",
            "y": 0.95,
            "yref": "paper"
           }
          ]
         },
         "name": "10"
        },
        {
         "data": [
          {
           "name": "Free Nodes",
           "type": "scatter3d",
           "x": {
            "bdata": "AAAAAAAAAAAAAAAAAADwPwAAAAAAAAAAAAAAAAAA8D8AAAAAAAAAQAAAAAAAAABA",
            "dtype": "f8"
           },
           "y": {
            "bdata": "AAAAAAAAAAAAAAAAAAAAAAAAAAAAAPA/AAAAAAAAAAAAAAAAAAAAAAAAAAAAAPA/",
            "dtype": "f8"
           },
           "z": {
            "bdata": "AAAAAAAAAAAAAAAAAAAAAAAAAAAAAAAAdBSuR+F6pD90FK5H4XqkP3QUrkfheqQ/",
            "dtype": "f8"
           }
          },
          {
           "name": "Fixed Nodes",
           "type": "scatter3d",
           "x": [],
           "y": [],
           "z": []
          },
          {
           "name": "Edges",
           "type": "scatter3d",
           "x": [
            1,
            0,
            null,
            0,
            0,
            null,
            0,
            1,
            null,
            2,
            2,
            null,
            2,
            1,
            null,
            1,
            2,
            null
           ],
           "y": [
            0,
            1,
            null,
            1,
            0,
            null,
            0,
            0,
            null,
            0,
            1,
            null,
            1,
            0,
            null,
            0,
            0,
            null
           ],
           "z": [
            0,
            0,
            null,
            0,
            0,
            null,
            0,
            0,
            null,
            0.03999999999999995,
            0.03999999999999995,
            null,
            0.03999999999999995,
            0.03999999999999995,
            null,
            0.03999999999999995,
            0.03999999999999995,
            null
           ]
          },
          {
           "i": [
            0,
            3
           ],
           "j": [
            1,
            4
           ],
           "k": [
            2,
            5
           ],
           "name": "Faces",
           "type": "mesh3d",
           "x": {
            "bdata": "AAAAAAAAAAAAAAAAAADwPwAAAAAAAAAAAAAAAAAA8D8AAAAAAAAAQAAAAAAAAABA",
            "dtype": "f8"
           },
           "y": {
            "bdata": "AAAAAAAAAAAAAAAAAAAAAAAAAAAAAPA/AAAAAAAAAAAAAAAAAAAAAAAAAAAAAPA/",
            "dtype": "f8"
           },
           "z": {
            "bdata": "AAAAAAAAAAAAAAAAAAAAAAAAAAAAAAAAdBSuR+F6pD90FK5H4XqkP3QUrkfheqQ/",
            "dtype": "f8"
           }
          }
         ],
         "layout": {
          "annotations": [
           {
            "showarrow": false,
            "text": "Time: 0.11s (Step: 12/100)",
            "x": 0.05,
            "xref": "paper",
            "y": 0.95,
            "yref": "paper"
           }
          ]
         },
         "name": "11"
        },
        {
         "data": [
          {
           "name": "Free Nodes",
           "type": "scatter3d",
           "x": {
            "bdata": "AAAAAAAAAAAAAAAAAADwPwAAAAAAAAAAAAAAAAAA8D8AAAAAAAAAQAAAAAAAAABA",
            "dtype": "f8"
           },
           "y": {
            "bdata": "AAAAAAAAAAAAAAAAAAAAAAAAAAAAAPA/AAAAAAAAAAAAAAAAAAAAAAAAAAAAAPA/",
            "dtype": "f8"
           },
           "z": {
            "bdata": "AAAAAAAAAAAAAAAAAAAAAAAAAAAAAAAA5FG4HoXroT/kUbgeheuhP+RRuB6F66E/",
            "dtype": "f8"
           }
          },
          {
           "name": "Fixed Nodes",
           "type": "scatter3d",
           "x": [],
           "y": [],
           "z": []
          },
          {
           "name": "Edges",
           "type": "scatter3d",
           "x": [
            1,
            0,
            null,
            0,
            0,
            null,
            0,
            1,
            null,
            2,
            2,
            null,
            2,
            1,
            null,
            1,
            2,
            null
           ],
           "y": [
            0,
            1,
            null,
            1,
            0,
            null,
            0,
            0,
            null,
            0,
            1,
            null,
            1,
            0,
            null,
            0,
            0,
            null
           ],
           "z": [
            0,
            0,
            null,
            0,
            0,
            null,
            0,
            0,
            null,
            0.03499999999999995,
            0.03499999999999995,
            null,
            0.03499999999999995,
            0.03499999999999995,
            null,
            0.03499999999999995,
            0.03499999999999995,
            null
           ]
          },
          {
           "i": [
            0,
            3
           ],
           "j": [
            1,
            4
           ],
           "k": [
            2,
            5
           ],
           "name": "Faces",
           "type": "mesh3d",
           "x": {
            "bdata": "AAAAAAAAAAAAAAAAAADwPwAAAAAAAAAAAAAAAAAA8D8AAAAAAAAAQAAAAAAAAABA",
            "dtype": "f8"
           },
           "y": {
            "bdata": "AAAAAAAAAAAAAAAAAAAAAAAAAAAAAPA/AAAAAAAAAAAAAAAAAAAAAAAAAAAAAPA/",
            "dtype": "f8"
           },
           "z": {
            "bdata": "AAAAAAAAAAAAAAAAAAAAAAAAAAAAAAAA5FG4HoXroT/kUbgeheuhP+RRuB6F66E/",
            "dtype": "f8"
           }
          }
         ],
         "layout": {
          "annotations": [
           {
            "showarrow": false,
            "text": "Time: 0.12s (Step: 13/100)",
            "x": 0.05,
            "xref": "paper",
            "y": 0.95,
            "yref": "paper"
           }
          ]
         },
         "name": "12"
        },
        {
         "data": [
          {
           "name": "Free Nodes",
           "type": "scatter3d",
           "x": {
            "bdata": "AAAAAAAAAAAAAAAAAADwPwAAAAAAAAAAAAAAAAAA8D8AAAAAAAAAQAAAAAAAAABA",
            "dtype": "f8"
           },
           "y": {
            "bdata": "AAAAAAAAAAAAAAAAAAAAAAAAAAAAAPA/AAAAAAAAAAAAAAAAAAAAAAAAAAAAAPA/",
            "dtype": "f8"
           },
           "z": {
            "bdata": "AAAAAAAAAAAAAAAAAAAAAAAAAAAAAAAAqB6F61G4nj+oHoXrUbieP6gehetRuJ4/",
            "dtype": "f8"
           }
          },
          {
           "name": "Fixed Nodes",
           "type": "scatter3d",
           "x": [],
           "y": [],
           "z": []
          },
          {
           "name": "Edges",
           "type": "scatter3d",
           "x": [
            1,
            0,
            null,
            0,
            0,
            null,
            0,
            1,
            null,
            2,
            2,
            null,
            2,
            1,
            null,
            1,
            2,
            null
           ],
           "y": [
            0,
            1,
            null,
            1,
            0,
            null,
            0,
            0,
            null,
            0,
            1,
            null,
            1,
            0,
            null,
            0,
            0,
            null
           ],
           "z": [
            0,
            0,
            null,
            0,
            0,
            null,
            0,
            0,
            null,
            0.029999999999999943,
            0.029999999999999943,
            null,
            0.029999999999999943,
            0.029999999999999943,
            null,
            0.029999999999999943,
            0.029999999999999943,
            null
           ]
          },
          {
           "i": [
            0,
            3
           ],
           "j": [
            1,
            4
           ],
           "k": [
            2,
            5
           ],
           "name": "Faces",
           "type": "mesh3d",
           "x": {
            "bdata": "AAAAAAAAAAAAAAAAAADwPwAAAAAAAAAAAAAAAAAA8D8AAAAAAAAAQAAAAAAAAABA",
            "dtype": "f8"
           },
           "y": {
            "bdata": "AAAAAAAAAAAAAAAAAAAAAAAAAAAAAPA/AAAAAAAAAAAAAAAAAAAAAAAAAAAAAPA/",
            "dtype": "f8"
           },
           "z": {
            "bdata": "AAAAAAAAAAAAAAAAAAAAAAAAAAAAAAAAqB6F61G4nj+oHoXrUbieP6gehetRuJ4/",
            "dtype": "f8"
           }
          }
         ],
         "layout": {
          "annotations": [
           {
            "showarrow": false,
            "text": "Time: 0.13s (Step: 14/100)",
            "x": 0.05,
            "xref": "paper",
            "y": 0.95,
            "yref": "paper"
           }
          ]
         },
         "name": "13"
        },
        {
         "data": [
          {
           "name": "Free Nodes",
           "type": "scatter3d",
           "x": {
            "bdata": "AAAAAAAAAAAAAAAAAADwPwAAAAAAAAAAAAAAAAAA8D8AAAAAAAAAQAAAAAAAAABA",
            "dtype": "f8"
           },
           "y": {
            "bdata": "AAAAAAAAAAAAAAAAAAAAAAAAAAAAAPA/AAAAAAAAAAAAAAAAAAAAAAAAAAAAAPA/",
            "dtype": "f8"
           },
           "z": {
            "bdata": "AAAAAAAAAAAAAAAAAAAAAAAAAAAAAAAAiJmZmZmZmT+ImZmZmZmZP4iZmZmZmZk/",
            "dtype": "f8"
           }
          },
          {
           "name": "Fixed Nodes",
           "type": "scatter3d",
           "x": [],
           "y": [],
           "z": []
          },
          {
           "name": "Edges",
           "type": "scatter3d",
           "x": [
            1,
            0,
            null,
            0,
            0,
            null,
            0,
            1,
            null,
            2,
            2,
            null,
            2,
            1,
            null,
            1,
            2,
            null
           ],
           "y": [
            0,
            1,
            null,
            1,
            0,
            null,
            0,
            0,
            null,
            0,
            1,
            null,
            1,
            0,
            null,
            0,
            0,
            null
           ],
           "z": [
            0,
            0,
            null,
            0,
            0,
            null,
            0,
            0,
            null,
            0.02499999999999994,
            0.02499999999999994,
            null,
            0.02499999999999994,
            0.02499999999999994,
            null,
            0.02499999999999994,
            0.02499999999999994,
            null
           ]
          },
          {
           "i": [
            0,
            3
           ],
           "j": [
            1,
            4
           ],
           "k": [
            2,
            5
           ],
           "name": "Faces",
           "type": "mesh3d",
           "x": {
            "bdata": "AAAAAAAAAAAAAAAAAADwPwAAAAAAAAAAAAAAAAAA8D8AAAAAAAAAQAAAAAAAAABA",
            "dtype": "f8"
           },
           "y": {
            "bdata": "AAAAAAAAAAAAAAAAAAAAAAAAAAAAAPA/AAAAAAAAAAAAAAAAAAAAAAAAAAAAAPA/",
            "dtype": "f8"
           },
           "z": {
            "bdata": "AAAAAAAAAAAAAAAAAAAAAAAAAAAAAAAAiJmZmZmZmT+ImZmZmZmZP4iZmZmZmZk/",
            "dtype": "f8"
           }
          }
         ],
         "layout": {
          "annotations": [
           {
            "showarrow": false,
            "text": "Time: 0.14s (Step: 15/100)",
            "x": 0.05,
            "xref": "paper",
            "y": 0.95,
            "yref": "paper"
           }
          ]
         },
         "name": "14"
        },
        {
         "data": [
          {
           "name": "Free Nodes",
           "type": "scatter3d",
           "x": {
            "bdata": "AAAAAAAAAAAAAAAAAADwPwAAAAAAAAAAAAAAAAAA8D8AAAAAAAAAQAAAAAAAAABA",
            "dtype": "f8"
           },
           "y": {
            "bdata": "AAAAAAAAAAAAAAAAAAAAAAAAAAAAAPA/AAAAAAAAAAAAAAAAAAAAAAAAAAAAAPA/",
            "dtype": "f8"
           },
           "z": {
            "bdata": "AAAAAAAAAAAAAAAAAAAAAAAAAAAAAAAAaBSuR+F6lD9oFK5H4XqUP2gUrkfhepQ/",
            "dtype": "f8"
           }
          },
          {
           "name": "Fixed Nodes",
           "type": "scatter3d",
           "x": [],
           "y": [],
           "z": []
          },
          {
           "name": "Edges",
           "type": "scatter3d",
           "x": [
            1,
            0,
            null,
            0,
            0,
            null,
            0,
            1,
            null,
            2,
            2,
            null,
            2,
            1,
            null,
            1,
            2,
            null
           ],
           "y": [
            0,
            1,
            null,
            1,
            0,
            null,
            0,
            0,
            null,
            0,
            1,
            null,
            1,
            0,
            null,
            0,
            0,
            null
           ],
           "z": [
            0,
            0,
            null,
            0,
            0,
            null,
            0,
            0,
            null,
            0.019999999999999934,
            0.019999999999999934,
            null,
            0.019999999999999934,
            0.019999999999999934,
            null,
            0.019999999999999934,
            0.019999999999999934,
            null
           ]
          },
          {
           "i": [
            0,
            3
           ],
           "j": [
            1,
            4
           ],
           "k": [
            2,
            5
           ],
           "name": "Faces",
           "type": "mesh3d",
           "x": {
            "bdata": "AAAAAAAAAAAAAAAAAADwPwAAAAAAAAAAAAAAAAAA8D8AAAAAAAAAQAAAAAAAAABA",
            "dtype": "f8"
           },
           "y": {
            "bdata": "AAAAAAAAAAAAAAAAAAAAAAAAAAAAAPA/AAAAAAAAAAAAAAAAAAAAAAAAAAAAAPA/",
            "dtype": "f8"
           },
           "z": {
            "bdata": "AAAAAAAAAAAAAAAAAAAAAAAAAAAAAAAAaBSuR+F6lD9oFK5H4XqUP2gUrkfhepQ/",
            "dtype": "f8"
           }
          }
         ],
         "layout": {
          "annotations": [
           {
            "showarrow": false,
            "text": "Time: 0.15s (Step: 16/100)",
            "x": 0.05,
            "xref": "paper",
            "y": 0.95,
            "yref": "paper"
           }
          ]
         },
         "name": "15"
        },
        {
         "data": [
          {
           "name": "Free Nodes",
           "type": "scatter3d",
           "x": {
            "bdata": "AAAAAAAAAAAAAAAAAADwPwAAAAAAAAAAAAAAAAAA8D8AAAAAAAAAQAAAAAAAAABA",
            "dtype": "f8"
           },
           "y": {
            "bdata": "AAAAAAAAAAAAAAAAAAAAAAAAAAAAAPA/AAAAAAAAAAAAAAAAAAAAAAAAAAAAAPA/",
            "dtype": "f8"
           },
           "z": {
            "bdata": "AAAAAAAAAAAAAAAAAAAAAAAAAAAAAAAAkB6F61G4jj+QHoXrUbiOP5AehetRuI4/",
            "dtype": "f8"
           }
          },
          {
           "name": "Fixed Nodes",
           "type": "scatter3d",
           "x": [],
           "y": [],
           "z": []
          },
          {
           "name": "Edges",
           "type": "scatter3d",
           "x": [
            1,
            0,
            null,
            0,
            0,
            null,
            0,
            1,
            null,
            2,
            2,
            null,
            2,
            1,
            null,
            1,
            2,
            null
           ],
           "y": [
            0,
            1,
            null,
            1,
            0,
            null,
            0,
            0,
            null,
            0,
            1,
            null,
            1,
            0,
            null,
            0,
            0,
            null
           ],
           "z": [
            0,
            0,
            null,
            0,
            0,
            null,
            0,
            0,
            null,
            0.01499999999999993,
            0.01499999999999993,
            null,
            0.01499999999999993,
            0.01499999999999993,
            null,
            0.01499999999999993,
            0.01499999999999993,
            null
           ]
          },
          {
           "i": [
            0,
            3
           ],
           "j": [
            1,
            4
           ],
           "k": [
            2,
            5
           ],
           "name": "Faces",
           "type": "mesh3d",
           "x": {
            "bdata": "AAAAAAAAAAAAAAAAAADwPwAAAAAAAAAAAAAAAAAA8D8AAAAAAAAAQAAAAAAAAABA",
            "dtype": "f8"
           },
           "y": {
            "bdata": "AAAAAAAAAAAAAAAAAAAAAAAAAAAAAPA/AAAAAAAAAAAAAAAAAAAAAAAAAAAAAPA/",
            "dtype": "f8"
           },
           "z": {
            "bdata": "AAAAAAAAAAAAAAAAAAAAAAAAAAAAAAAAkB6F61G4jj+QHoXrUbiOP5AehetRuI4/",
            "dtype": "f8"
           }
          }
         ],
         "layout": {
          "annotations": [
           {
            "showarrow": false,
            "text": "Time: 0.16s (Step: 17/100)",
            "x": 0.05,
            "xref": "paper",
            "y": 0.95,
            "yref": "paper"
           }
          ]
         },
         "name": "16"
        },
        {
         "data": [
          {
           "name": "Free Nodes",
           "type": "scatter3d",
           "x": {
            "bdata": "AAAAAAAAAAAAAAAAAADwPwAAAAAAAAAAAAAAAAAA8D8AAAAAAAAAQAAAAAAAAABA",
            "dtype": "f8"
           },
           "y": {
            "bdata": "AAAAAAAAAAAAAAAAAAAAAAAAAAAAAPA/AAAAAAAAAAAAAAAAAAAAAAAAAAAAAPA/",
            "dtype": "f8"
           },
           "z": {
            "bdata": "AAAAAAAAAAAAAAAAAAAAAAAAAAAAAAAAUBSuR+F6hD9QFK5H4XqEP1AUrkfheoQ/",
            "dtype": "f8"
           }
          },
          {
           "name": "Fixed Nodes",
           "type": "scatter3d",
           "x": [],
           "y": [],
           "z": []
          },
          {
           "name": "Edges",
           "type": "scatter3d",
           "x": [
            1,
            0,
            null,
            0,
            0,
            null,
            0,
            1,
            null,
            2,
            2,
            null,
            2,
            1,
            null,
            1,
            2,
            null
           ],
           "y": [
            0,
            1,
            null,
            1,
            0,
            null,
            0,
            0,
            null,
            0,
            1,
            null,
            1,
            0,
            null,
            0,
            0,
            null
           ],
           "z": [
            0,
            0,
            null,
            0,
            0,
            null,
            0,
            0,
            null,
            0.009999999999999926,
            0.009999999999999926,
            null,
            0.009999999999999926,
            0.009999999999999926,
            null,
            0.009999999999999926,
            0.009999999999999926,
            null
           ]
          },
          {
           "i": [
            0,
            3
           ],
           "j": [
            1,
            4
           ],
           "k": [
            2,
            5
           ],
           "name": "Faces",
           "type": "mesh3d",
           "x": {
            "bdata": "AAAAAAAAAAAAAAAAAADwPwAAAAAAAAAAAAAAAAAA8D8AAAAAAAAAQAAAAAAAAABA",
            "dtype": "f8"
           },
           "y": {
            "bdata": "AAAAAAAAAAAAAAAAAAAAAAAAAAAAAPA/AAAAAAAAAAAAAAAAAAAAAAAAAAAAAPA/",
            "dtype": "f8"
           },
           "z": {
            "bdata": "AAAAAAAAAAAAAAAAAAAAAAAAAAAAAAAAUBSuR+F6hD9QFK5H4XqEP1AUrkfheoQ/",
            "dtype": "f8"
           }
          }
         ],
         "layout": {
          "annotations": [
           {
            "showarrow": false,
            "text": "Time: 0.17s (Step: 18/100)",
            "x": 0.05,
            "xref": "paper",
            "y": 0.95,
            "yref": "paper"
           }
          ]
         },
         "name": "17"
        },
        {
         "data": [
          {
           "name": "Free Nodes",
           "type": "scatter3d",
           "x": {
            "bdata": "AAAAAAAAAAAAAAAAAADwPwAAAAAAAAAAAAAAAAAA8D8AAAAAAAAAQAAAAAAAAABA",
            "dtype": "f8"
           },
           "y": {
            "bdata": "AAAAAAAAAAAAAAAAAAAAAAAAAAAAAPA/AAAAAAAAAAAAAAAAAAAAAAAAAAAAAPA/",
            "dtype": "f8"
           },
           "z": {
            "bdata": "AAAAAAAAAAAAAAAAAAAAAAAAAAAAAAAAIBSuR+F6dD8gFK5H4Xp0PyAUrkfhenQ/",
            "dtype": "f8"
           }
          },
          {
           "name": "Fixed Nodes",
           "type": "scatter3d",
           "x": [],
           "y": [],
           "z": []
          },
          {
           "name": "Edges",
           "type": "scatter3d",
           "x": [
            1,
            0,
            null,
            0,
            0,
            null,
            0,
            1,
            null,
            2,
            2,
            null,
            2,
            1,
            null,
            1,
            2,
            null
           ],
           "y": [
            0,
            1,
            null,
            1,
            0,
            null,
            0,
            0,
            null,
            0,
            1,
            null,
            1,
            0,
            null,
            0,
            0,
            null
           ],
           "z": [
            0,
            0,
            null,
            0,
            0,
            null,
            0,
            0,
            null,
            0.004999999999999921,
            0.004999999999999921,
            null,
            0.004999999999999921,
            0.004999999999999921,
            null,
            0.004999999999999921,
            0.004999999999999921,
            null
           ]
          },
          {
           "i": [
            0,
            3
           ],
           "j": [
            1,
            4
           ],
           "k": [
            2,
            5
           ],
           "name": "Faces",
           "type": "mesh3d",
           "x": {
            "bdata": "AAAAAAAAAAAAAAAAAADwPwAAAAAAAAAAAAAAAAAA8D8AAAAAAAAAQAAAAAAAAABA",
            "dtype": "f8"
           },
           "y": {
            "bdata": "AAAAAAAAAAAAAAAAAAAAAAAAAAAAAPA/AAAAAAAAAAAAAAAAAAAAAAAAAAAAAPA/",
            "dtype": "f8"
           },
           "z": {
            "bdata": "AAAAAAAAAAAAAAAAAAAAAAAAAAAAAAAAIBSuR+F6dD8gFK5H4Xp0PyAUrkfhenQ/",
            "dtype": "f8"
           }
          }
         ],
         "layout": {
          "annotations": [
           {
            "showarrow": false,
            "text": "Time: 0.18s (Step: 19/100)",
            "x": 0.05,
            "xref": "paper",
            "y": 0.95,
            "yref": "paper"
           }
          ]
         },
         "name": "18"
        },
        {
         "data": [
          {
           "name": "Free Nodes",
           "type": "scatter3d",
           "x": {
            "bdata": "qraDQdcVrL6zZWcE+v/vP7iNifcLgpa+BTjL/QIA8D8nmVdwAAAAQF9mBC0AAABA",
            "dtype": "f8"
           },
           "y": {
            "bdata": "IECBNQZbhj5uxku+UHyWvuZIOi0AAPA/BA3aKAF8lr6GUoU6LVuGPteXOi0AAPA/",
            "dtype": "f8"
           },
           "z": {
            "bdata": "73eCtccwOr4ozWKgwWhgPwXBbxXKS9C9bAtnmL5oYL+rQDpzuAX/Pa5Mh7JNb9A9",
            "dtype": "f8"
           }
          },
          {
           "name": "Fixed Nodes",
           "type": "scatter3d",
           "x": [],
           "y": [],
           "z": []
          },
          {
           "name": "Edges",
           "type": "scatter3d",
           "x": [
            0.9999971471799455,
            -3.353952631511336e-7,
            null,
            -3.353952631511336e-7,
            -8.370076356714158e-7,
            null,
            -8.370076356714158e-7,
            0.9999971471799455,
            null,
            2.0000008370144715,
            2.0000003354041804,
            null,
            2.0000003354041804,
            1.0000028528043015,
            null,
            1.0000028528043015,
            2.0000008370144715,
            null
           ],
           "y": [
            -3.3506165512875134e-7,
            1.0000001684862183,
            null,
            1.0000001684862183,
            1.665619275858553e-7,
            null,
            1.665619275858553e-7,
            -3.3506165512875134e-7,
            null,
            1.6656636360003605e-7,
            1.0000001684907056,
            null,
            1.0000001684907056,
            -3.3504355987524646e-7,
            null,
            -3.3504355987524646e-7,
            1.6656636360003605e-7,
            null
           ],
           "z": [
            0.0020030767219282493,
            -5.92846929179647e-11,
            null,
            -5.92846929179647e-11,
            -6.0979619896600965e-9,
            null,
            -6.0979619896600965e-9,
            0.0020030767219282493,
            null,
            4.5143454532495004e-10,
            5.978937885770014e-11,
            null,
            5.978937885770014e-11,
            -0.0020030710759057404,
            null,
            -0.0020030710759057404,
            4.5143454532495004e-10,
            null
           ]
          },
          {
           "i": [
            0,
            3
           ],
           "j": [
            1,
            4
           ],
           "k": [
            2,
            5
           ],
           "name": "Faces",
           "type": "mesh3d",
           "x": {
            "bdata": "qraDQdcVrL6zZWcE+v/vP7iNifcLgpa+BTjL/QIA8D8nmVdwAAAAQF9mBC0AAABA",
            "dtype": "f8"
           },
           "y": {
            "bdata": "IECBNQZbhj5uxku+UHyWvuZIOi0AAPA/BA3aKAF8lr6GUoU6LVuGPteXOi0AAPA/",
            "dtype": "f8"
           },
           "z": {
            "bdata": "73eCtccwOr4ozWKgwWhgPwXBbxXKS9C9bAtnmL5oYL+rQDpzuAX/Pa5Mh7JNb9A9",
            "dtype": "f8"
           }
          }
         ],
         "layout": {
          "annotations": [
           {
            "showarrow": false,
            "text": "Time: 0.19s (Step: 20/100)",
            "x": 0.05,
            "xref": "paper",
            "y": 0.95,
            "yref": "paper"
           }
          ]
         },
         "name": "19"
        },
        {
         "data": [
          {
           "name": "Free Nodes",
           "type": "scatter3d",
           "x": {
            "bdata": "4H5igNo9VL7DZPAr7//vPwCbnCue8j6+TxUEaggA8D+++IgCAAAAQKwz+AAAAABA",
            "dtype": "f8"
           },
           "y": {
            "bdata": "gOU1UjMbNj4AsOhoIg88vqFjXQAAAPA/ANKzLpPnO75APB+AICU2PnwCXgAAAPA/",
            "dtype": "f8"
           },
           "z": {
            "bdata": "2UJ1bVfoN74jpSgiv2hwP9TlKGQY0CU+3azusM5xgr8W9zPR4np0vzvfHPbhenS/",
            "dtype": "f8"
           }
          },
          {
           "name": "Fixed Nodes",
           "type": "scatter3d",
           "x": [],
           "y": [],
           "z": []
          },
          {
           "name": "Edges",
           "type": "scatter3d",
           "x": [
            0.9999919756111456,
            -7.205578961440863e-9,
            null,
            -7.205578961440863e-9,
            -1.8851473292655266e-8,
            null,
            -1.8851473292655266e-8,
            0.9999919756111456,
            null,
            2.000000018887561,
            2.0000000072236244,
            null,
            2.0000000072236244,
            1.0000080243347218,
            null,
            1.0000080243347218,
            2.000000018887561,
            null
           ],
           "y": [
            -6.533022691003969e-9,
            1.0000000013589914,
            null,
            1.0000000013589914,
            5.147012846630954e-9,
            null,
            5.147012846630954e-9,
            -6.533022691003969e-9,
            null,
            5.156040929238563e-9,
            1.0000000013680213,
            null,
            1.0000000013680213,
            -6.497043551801128e-9,
            null,
            -6.497043551801128e-9,
            5.156040929238563e-9,
            null
           ],
           "z": [
            0.0040061441564287785,
            2.539352534912088e-9,
            null,
            2.539352534912088e-9,
            -5.566418179975986e-9,
            null,
            -5.566418179975986e-9,
            0.0040061441564287785,
            null,
            -0.005000005726513176,
            -0.0050000025383310455,
            null,
            -0.0050000025383310455,
            -0.009006132864519173,
            null,
            -0.009006132864519173,
            -0.005000005726513176,
            null
           ]
          },
          {
           "i": [
            0,
            3
           ],
           "j": [
            1,
            4
           ],
           "k": [
            2,
            5
           ],
           "name": "Faces",
           "type": "mesh3d",
           "x": {
            "bdata": "4H5igNo9VL7DZPAr7//vPwCbnCue8j6+TxUEaggA8D+++IgCAAAAQKwz+AAAAABA",
            "dtype": "f8"
           },
           "y": {
            "bdata": "gOU1UjMbNj4AsOhoIg88vqFjXQAAAPA/ANKzLpPnO75APB+AICU2PnwCXgAAAPA/",
            "dtype": "f8"
           },
           "z": {
            "bdata": "2UJ1bVfoN74jpSgiv2hwP9TlKGQY0CU+3azusM5xgr8W9zPR4np0vzvfHPbhenS/",
            "dtype": "f8"
           }
          }
         ],
         "layout": {
          "annotations": [
           {
            "showarrow": false,
            "text": "Time: 0.20s (Step: 21/100)",
            "x": 0.05,
            "xref": "paper",
            "y": 0.95,
            "yref": "paper"
           }
          ]
         },
         "name": "20"
        },
        {
         "data": [
          {
           "name": "Free Nodes",
           "type": "scatter3d",
           "x": {
            "bdata": "PjPQbgLVxD5DhEti3//vP6djK60Eq7A+mlPSThAA8D+TwGVl/f//PwiRUfX+//8/",
            "dtype": "f8"
           },
           "y": {
            "bdata": "d2Ptg7+eoL7bewvEZa+wPsyt+fP+/+8/8CnvH6GvsD7qzWrAoZ6gvvyJ+/P+/+8/",
            "dtype": "f8"
           },
           "z": {
            "bdata": "Xg3cMfzXNT6i7uWmGZ14P0KeH8OBtkM+oDSU6rVkkL8KRnQ85HqEv9aDCIPieoS/",
            "dtype": "f8"
           }
          },
          {
           "name": "Fixed Nodes",
           "type": "scatter3d",
           "x": [],
           "y": [],
           "z": []
          },
          {
           "name": "Edges",
           "type": "scatter3d",
           "x": [
            0.9999844474624598,
            9.934926096714823e-7,
            null,
            9.934926096714823e-7,
            0.0000024833760705667053,
            null,
            0.0000024833760705667053,
            0.9999844474624598,
            null,
            1.999997516712061,
            1.9999990065344395,
            null,
            1.9999990065344395,
            1.0000155524223602,
            null,
            1.0000155524223602,
            1.999997516712061,
            null
           ],
           "y": [
            9.945122345018072e-7,
            0.9999995007651079,
            null,
            0.9999995007651079,
            -4.953178701457598e-7,
            null,
            -4.953178701457598e-7,
            9.945122345018072e-7,
            null,
            -4.953043351768907e-7,
            0.999999500778642,
            null,
            0.999999500778642,
            9.945662211458514e-7,
            null,
            9.945662211458514e-7,
            -4.953043351768907e-7,
            null
           ],
           "z": [
            0.006009197428621301,
            9.179542546186819e-9,
            null,
            9.179542546186819e-9,
            5.085880853400157e-9,
            null,
            5.085880853400157e-9,
            0.006009197428621301,
            null,
            -0.010000022025027828,
            -0.010000009177987861,
            null,
            -0.010000009177987861,
            -0.016009180491029285,
            null,
            -0.016009180491029285,
            -0.010000022025027828,
            null
           ]
          },
          {
           "i": [
            0,
            3
           ],
           "j": [
            1,
            4
           ],
           "k": [
            2,
            5
           ],
           "name": "Faces",
           "type": "mesh3d",
           "x": {
            "bdata": "PjPQbgLVxD5DhEti3//vP6djK60Eq7A+mlPSThAA8D+TwGVl/f//PwiRUfX+//8/",
            "dtype": "f8"
           },
           "y": {
            "bdata": "d2Ptg7+eoL7bewvEZa+wPsyt+fP+/+8/8CnvH6GvsD7qzWrAoZ6gvvyJ+/P+/+8/",
            "dtype": "f8"
           },
           "z": {
            "bdata": "Xg3cMfzXNT6i7uWmGZ14P0KeH8OBtkM+oDSU6rVkkL8KRnQ85HqEv9aDCIPieoS/",
            "dtype": "f8"
           }
          }
         ],
         "layout": {
          "annotations": [
           {
            "showarrow": false,
            "text": "Time: 0.21s (Step: 22/100)",
            "x": 0.05,
            "xref": "paper",
            "y": 0.95,
            "yref": "paper"
           }
          ]
         },
         "name": "21"
        },
        {
         "data": [
          {
           "name": "Free Nodes",
           "type": "scatter3d",
           "x": {
            "bdata": "HWkHVHzs2z539gGwyv/vP2fBAZyYVsY+pVrxpxoA8D8AG+wE+f//P6NmLzX9//8/",
            "dtype": "f8"
           },
           "y": {
            "bdata": "pgn8f1tRtr7dPDvgjVnGPq+KwDP9/+8/7MpSdbVZxj4ZEfyqR1G2vk8FwzP9/+8/",
            "dtype": "f8"
           },
           "z": {
            "bdata": "HlVclKJIXz4W/mGRt2iAP0bFXwZtvVY+73V6OoOQl78/M57cWLiOvx0vIMNUuI6/",
            "dtype": "f8"
           }
          },
          {
           "name": "Fixed Nodes",
           "type": "scatter3d",
           "x": [],
           "y": [],
           "z": []
          },
          {
           "name": "Edges",
           "type": "scatter3d",
           "x": [
            0.9999745786332842,
            0.000002662928835710384,
            null,
            0.000002662928835710384,
            0.000006657546066846687,
            null,
            0.000006657546066846687,
            0.9999745786332842,
            null,
            1.9999933426167331,
            1.9999973371072108,
            null,
            1.9999973371072108,
            1.0000254211678705,
            null,
            1.0000254211678705,
            1.9999933426167331,
            null
           ],
           "y": [
            0.000002664306295453382,
            0.9999986658843535,
            null,
            0.9999986658843535,
            -0.0000013302446859047813,
            null,
            -0.0000013302446859047813,
            0.000002664306295453382,
            null,
            -0.0000013302266487778379,
            0.9999986659023906,
            null,
            0.9999986659023906,
            0.000002664378295402577,
            null,
            0.000002664378295402577,
            -0.0000013302266487778379,
            null
           ],
           "z": [
            0.008012231945257613,
            2.1178223973078664e-8,
            null,
            2.1178223973078664e-8,
            2.91352446813261e-8,
            null,
            2.91352446813261e-8,
            0.008012231945257613,
            null,
            -0.015000051720358008,
            -0.015000021176113482,
            null,
            -0.015000021176113482,
            -0.02301220936225506,
            null,
            -0.02301220936225506,
            -0.015000051720358008,
            null
           ]
          },
          {
           "i": [
            0,
            3
           ],
           "j": [
            1,
            4
           ],
           "k": [
            2,
            5
           ],
           "name": "Faces",
           "type": "mesh3d",
           "x": {
            "bdata": "HWkHVHzs2z539gGwyv/vP2fBAZyYVsY+pVrxpxoA8D8AG+wE+f//P6NmLzX9//8/",
            "dtype": "f8"
           },
           "y": {
            "bdata": "pgn8f1tRtr7dPDvgjVnGPq+KwDP9/+8/7MpSdbVZxj4ZEfyqR1G2vk8FwzP9/+8/",
            "dtype": "f8"
           },
           "z": {
            "bdata": "HlVclKJIXz4W/mGRt2iAP0bFXwZtvVY+73V6OoOQl78/M57cWLiOvx0vIMNUuI6/",
            "dtype": "f8"
           }
          }
         ],
         "layout": {
          "annotations": [
           {
            "showarrow": false,
            "text": "Time: 0.22s (Step: 23/100)",
            "x": 0.05,
            "xref": "paper",
            "y": 0.95,
            "yref": "paper"
           }
          ]
         },
         "name": "22"
        },
        {
         "data": [
          {
           "name": "Free Nodes",
           "type": "scatter3d",
           "x": {
            "bdata": "Nk+KrK446j4D40kVsf/vP3CPmZPO+dQ+qhZGdScA8D8uibrj8v//P4Nzj8H6//8/",
            "dtype": "f8"
           },
           "y": {
            "bdata": "ltTRvJT3xL6OcwRFr/vUPiBEBMD6/+8/QVkdA8j71D42WaFYiPfEvi9dB8D6/+8/",
            "dtype": "f8"
           },
           "z": {
            "bdata": "u7NPgGbFcj7Jdugp34KEP9Y/Y9tEaGU+ye6t9068nr/X7wfe53qUvwrWqvTjepS/",
            "dtype": "f8"
           }
          },
          {
           "name": "Fixed Nodes",
           "type": "scatter3d",
           "x": [],
           "y": [],
           "z": []
          },
          {
           "name": "Edges",
           "type": "scatter3d",
           "x": [
            0.999962369517647,
            0.000005001022424264717,
            null,
            0.000005001022424264717,
            0.000012503345162152504,
            null,
            0.000012503345162152504,
            0.999962369517647,
            null,
            1.999987496914922,
            1.9999949990226191,
            null,
            1.9999949990226191,
            1.0000376301772271,
            null,
            1.0000376301772271,
            1.999987496914922,
            null
           ],
           "y": [
            0.000005002771175347053,
            0.9999974966359595,
            null,
            0.9999974966359595,
            -0.0000024994746810566685,
            null,
            -0.0000024994746810566685,
            0.000005002771175347053,
            null,
            -0.0000024994521412954462,
            0.9999974966584996,
            null,
            0.9999974966584996,
            0.000005002861188282895,
            null,
            0.000005002861188282895,
            -0.0000024994521412954462,
            null
           ],
           "z": [
            0.010015243021423885,
            3.987420475889323e-8,
            null,
            3.987420475889323e-8,
            6.992777919186648e-8,
            null,
            6.992777919186648e-8,
            0.010015243021423885,
            null,
            -0.020000098158547388,
            -0.020000039871510146,
            null,
            -0.020000039871510146,
            -0.030015214793350595,
            null,
            -0.030015214793350595,
            -0.020000098158547388,
            null
           ]
          },
          {
           "i": [
            0,
            3
           ],
           "j": [
            1,
            4
           ],
           "k": [
            2,
            5
           ],
           "name": "Faces",
           "type": "mesh3d",
           "x": {
            "bdata": "Nk+KrK446j4D40kVsf/vP3CPmZPO+dQ+qhZGdScA8D8uibrj8v//P4Nzj8H6//8/",
            "dtype": "f8"
           },
           "y": {
            "bdata": "ltTRvJT3xL6OcwRFr/vUPiBEBMD6/+8/QVkdA8j71D42WaFYiPfEvi9dB8D6/+8/",
            "dtype": "f8"
           },
           "z": {
            "bdata": "u7NPgGbFcj7Jdugp34KEP9Y/Y9tEaGU+ye6t9068nr/X7wfe53qUvwrWqvTjepS/",
            "dtype": "f8"
           }
          }
         ],
         "layout": {
          "annotations": [
           {
            "showarrow": false,
            "text": "Time: 0.23s (Step: 24/100)",
            "x": 0.05,
            "xref": "paper",
            "y": 0.95,
            "yref": "paper"
           }
          ]
         },
         "name": "23"
        },
        {
         "data": [
          {
           "name": "Free Nodes",
           "type": "scatter3d",
           "x": {
            "bdata": "iXPQHUr+9D5XTCKSkv/vP7PcQOMiy+A+cwbRtjYA8D/y/s8B6///PwlFcpr3//8/",
            "dtype": "f8"
           },
           "y": {
            "bdata": "p+uB/DbK0L7BO8N7SMzgPpvex5j3/+8/q12bVFfM4D4EaJuNL8rQvhmWy5j3/+8/",
            "dtype": "f8"
           },
           "z": {
            "bdata": "zCivH66OgT7yZO/7Ap2IPzMRCcsw4XE+u7bRaAz0or8rGu2mpJmZv5Y61xGemZm/",
            "dtype": "f8"
           }
          },
          {
           "name": "Fixed Nodes",
           "type": "scatter3d",
           "x": [],
           "y": [],
           "z": []
          },
          {
           "name": "Edges",
           "type": "scatter3d",
           "x": [
            0.9999478201083417,
            0.000008007765338031948,
            null,
            0.000008007765338031948,
            0.00002002078860040586,
            null,
            0.00002002078860040586,
            0.9999478201083417,
            null,
            1.9999799795913842,
            1.9999919922887008,
            null,
            1.9999919922887008,
            1.0000521794576371,
            null,
            1.0000521794576371,
            1.9999799795913842,
            null
           ],
           "y": [
            0.00000800990152818686,
            0.9999959930418812,
            null,
            0.9999959930418812,
            -0.000004003024464900335,
            null,
            -0.000004003024464900335,
            0.00000800990152818686,
            null,
            -0.000004002997423058558,
            0.9999959930689243,
            null,
            0.9999959930689243,
            0.00000801000955467822,
            null,
            0.00000801000955467822,
            -0.000004002997423058558,
            null
           ],
           "z": [
            0.012018225968790184,
            6.660688956725973e-8,
            null,
            6.660688956725973e-8,
            1.308124096529434e-7,
            null,
            1.308124096529434e-7,
            0.012018225968790184,
            null,
            -0.02500016468845893,
            -0.025000066603576863,
            null,
            -0.025000066603576863,
            -0.03701819209605391,
            null,
            -0.03701819209605391,
            -0.02500016468845893,
            null
           ]
          },
          {
           "i": [
            0,
            3
           ],
           "j": [
            1,
            4
           ],
           "k": [
            2,
            5
           ],
           "name": "Faces",
           "type": "mesh3d",
           "x": {
            "bdata": "iXPQHUr+9D5XTCKSkv/vP7PcQOMiy+A+cwbRtjYA8D/y/s8B6///PwlFcpr3//8/",
            "dtype": "f8"
           },
           "y": {
            "bdata": "p+uB/DbK0L7BO8N7SMzgPpvex5j3/+8/q12bVFfM4D4EaJuNL8rQvhmWy5j3/+8/",
            "dtype": "f8"
           },
           "z": {
            "bdata": "zCivH66OgT7yZO/7Ap2IPzMRCcsw4XE+u7bRaAz0or8rGu2mpJmZv5Y61xGemZm/",
            "dtype": "f8"
           }
          }
         ],
         "layout": {
          "annotations": [
           {
            "showarrow": false,
            "text": "Time: 0.24s (Step: 25/100)",
            "x": 0.05,
            "xref": "paper",
            "y": 0.95,
            "yref": "paper"
           }
          ]
         },
         "name": "24"
        },
        {
         "data": [
          {
           "name": "Free Nodes",
           "type": "scatter3d",
           "x": {
            "bdata": "ZYd/O/Sg/j6UJJUmb//vP/cRhGFVgOg++jCNbEgA8D9srC9f4f//Pxqk2b/z//8/",
            "dtype": "f8"
           },
           "y": {
            "bdata": "3DKG/pd/2L4UOqXQsoHoPmsvDL7z/+8/PBFbI8SB6D56m+pSj3/YvlKFEL7z/+8/",
            "dtype": "f8"
           },
           "z": {
            "bdata": "VsmtlRDgjD7yo2dmIreMP/QIw1mNkns+EdbpO/CJpr/AJIQCY7iev+L+FtBYuJ6/",
            "dtype": "f8"
           }
          },
          {
           "name": "Fixed Nodes",
           "type": "scatter3d",
           "x": [],
           "y": [],
           "z": []
          },
          {
           "name": "Edges",
           "type": "scatter3d",
           "x": [
            0.9999309304777335,
            0.000011683131603942318,
            null,
            0.000011683131603942318,
            0.00002920982998933594,
            null,
            0.00002920982998933594,
            0.9999309304777335,
            null,
            1.9999707906925108,
            1.9999883169314274,
            null,
            1.9999883169314274,
            1.0000690689367375,
            null,
            1.0000690689367375,
            1.9999707906925108,
            null
           ],
           "y": [
            0.000011685674071640547,
            0.9999941551081809,
            null,
            0.9999941551081809,
            -0.000005840876817220157,
            null,
            -0.000005840876817220157,
            0.000011685674071640547,
            null,
            -0.0000058408452746964895,
            0.9999941551397262,
            null,
            0.9999941551397262,
            0.000011685800113688507,
            null,
            0.000011685800113688507,
            -0.0000058408452746964895,
            null
           ],
           "z": [
            0.01402117609991824,
            1.0271545253500833e-7,
            null,
            1.0271545253500833e-7,
            2.1513740019634282e-7,
            null,
            2.1513740019634282e-7,
            0.01402117609991824,
            null,
            -0.03000025465829448,
            -0.03000010271148213,
            null,
            -0.03000010271148213,
            -0.044021136582994676,
            null,
            -0.044021136582994676,
            -0.03000025465829448,
            null
           ]
          },
          {
           "i": [
            0,
            3
           ],
           "j": [
            1,
            4
           ],
           "k": [
            2,
            5
           ],
           "name": "Faces",
           "type": "mesh3d",
           "x": {
            "bdata": "ZYd/O/Sg/j6UJJUmb//vP/cRhGFVgOg++jCNbEgA8D9srC9f4f//Pxqk2b/z//8/",
            "dtype": "f8"
           },
           "y": {
            "bdata": "3DKG/pd/2L4UOqXQsoHoPmsvDL7z/+8/PBFbI8SB6D56m+pSj3/YvlKFEL7z/+8/",
            "dtype": "f8"
           },
           "z": {
            "bdata": "VsmtlRDgjD7yo2dmIreMP/QIw1mNkns+EdbpO/CJpr/AJIQCY7iev+L+FtBYuJ6/",
            "dtype": "f8"
           }
          }
         ],
         "layout": {
          "annotations": [
           {
            "showarrow": false,
            "text": "Time: 0.25s (Step: 26/100)",
            "x": 0.05,
            "xref": "paper",
            "y": 0.95,
            "yref": "paper"
           }
          ]
         },
         "name": "25"
        },
        {
         "data": [
          {
           "name": "Free Nodes",
           "type": "scatter3d",
           "x": {
            "bdata": "iLlkBCkCBT8B8q3SRv/vPyvvsEU9zvA+IdN0llwA8D8dON371f//P1StxzHv//8/",
            "dtype": "f8"
           },
           "y": {
            "bdata": "zCdCm/PN4L5pg01jCc/wPiT60S/v/+8/D66cSRPP8D5A3CWn7s3gvnXu1i/v/+8/",
            "dtype": "f8"
           },
           "z": {
            "bdata": "sGbxlPLklT6lGiJknmiQP8Zcr4MeEoQ+BzzczNIfqr+sBimVkeuhv/arNSOK66G/",
            "dtype": "f8"
           }
          },
          {
           "name": "Fixed Nodes",
           "type": "scatter3d",
           "x": [],
           "y": [],
           "z": []
          },
          {
           "name": "Edges",
           "type": "scatter3d",
           "x": [
            0.9999117007096744,
            0.00001602709049229528,
            null,
            0.00001602709049229528,
            0.00004007041620678319,
            null,
            0.00004007041620678319,
            0.9999117007096744,
            null,
            1.9999599302714224,
            1.9999839729815294,
            null,
            1.9999839729815294,
            1.0000882985306776,
            null,
            1.0000882985306776,
            1.9999599302714224,
            null
           ],
           "y": [
            0.000016030060766228553,
            0.9999919828404171,
            null,
            0.9999919828404171,
            -0.000008013009257252286,
            null,
            -0.000008013009257252286,
            0.000016030060766228553,
            null,
            -0.00000801297321538334,
            0.9999919828764648,
            null,
            0.9999919828764648,
            0.000016030204825030462,
            null,
            0.000016030204825030462,
            -0.00000801297321538334,
            null
           ],
           "z": [
            0.01602408872761409,
            1.4953894997172117e-7,
            null,
            1.4953894997172117e-7,
            3.262508884764631e-7,
            null,
            3.262508884764631e-7,
            0.01602408872761409,
            null,
            -0.03500037141612941,
            -0.03500014953427659,
            null,
            -0.03500014953427659,
            -0.051024043567046866,
            null,
            -0.051024043567046866,
            -0.03500037141612941,
            null
           ]
          },
          {
           "i": [
            0,
            3
           ],
           "j": [
            1,
            4
           ],
           "k": [
            2,
            5
           ],
           "name": "Faces",
           "type": "mesh3d",
           "x": {
            "bdata": "iLlkBCkCBT8B8q3SRv/vPyvvsEU9zvA+IdN0llwA8D8dON371f//P1StxzHv//8/",
            "dtype": "f8"
           },
           "y": {
            "bdata": "zCdCm/PN4L5pg01jCc/wPiT60S/v/+8/D66cSRPP8D5A3CWn7s3gvnXu1i/v/+8/",
            "dtype": "f8"
           },
           "z": {
            "bdata": "sGbxlPLklT6lGiJknmiQP8Zcr4MeEoQ+BzzczNIfqr+sBimVkeuhv/arNSOK66G/",
            "dtype": "f8"
           }
          }
         ],
         "layout": {
          "annotations": [
           {
            "showarrow": false,
            "text": "Time: 0.26s (Step: 27/100)",
            "x": 0.05,
            "xref": "paper",
            "y": 0.95,
            "yref": "paper"
           }
          ]
         },
         "name": "26"
        },
        {
         "data": [
          {
           "name": "Free Nodes",
           "type": "scatter3d",
           "x": {
            "bdata": "Lj2syy+UCz8kYnmWGf/vP622/8fGD/Y+L5aBNHMA8D9WkNzXyP//Px/JPvDp//8/",
            "dtype": "f8"
           },
           "y": {
            "bdata": "U1LJv44P5r6iMLX1sRD2PoweGu7p/+8/wjoDGb0Q9j414XAtiQ/mvkSxH+7p/+8/",
            "dtype": "f8"
           },
           "z": {
            "bdata": "gk6iyJpfnz7SBz3AqHWSP0uLTT4h+Ys+hExm87O1rb8ntO2r8nqkv8V06kXoeqS/",
            "dtype": "f8"
           }
          },
          {
           "name": "Fixed Nodes",
           "type": "scatter3d",
           "x": [],
           "y": [],
           "z": []
          },
          {
           "name": "Edges",
           "type": "scatter3d",
           "x": [
            0.9998901308964077,
            0.00002103960696324982,
            null,
            0.00002103960696324982,
            0.000052602490049231224,
            null,
            0.000052602490049231224,
            0.9998901308964077,
            null,
            1.9999473983853213,
            1.9999789604740454,
            null,
            1.9999789604740454,
            1.0001098681472163,
            null,
            1.0001098681472163,
            1.9999473983853213,
            null
           ],
           "y": [
            0.000021043029261578188,
            0.9999894762449499,
            null,
            0.9999894762449499,
            -0.000010519395794586115,
            null,
            -0.000010519395794586115,
            0.000021043029261578188,
            null,
            -0.000010519355255409448,
            0.9999894762854997,
            null,
            0.9999894762854997,
            0.00002104319133949362,
            null,
            0.00002104319133949362,
            -0.000010519355255409448,
            null
           ],
           "z": [
            0.018026959164906327,
            2.0841630923436347e-7,
            null,
            2.0841630923436347e-7,
            4.6750091854087333e-7,
            null,
            4.6750091854087333e-7,
            0.018026959164906327,
            null,
            -0.04000051830994549,
            -0.040000208410881956,
            null,
            -0.040000208410881956,
            -0.058026908361307,
            null,
            -0.058026908361307,
            -0.04000051830994549,
            null
           ]
          },
          {
           "i": [
            0,
            3
           ],
           "j": [
            1,
            4
           ],
           "k": [
            2,
            5
           ],
           "name": "Faces",
           "type": "mesh3d",
           "x": {
            "bdata": "Lj2syy+UCz8kYnmWGf/vP622/8fGD/Y+L5aBNHMA8D9WkNzXyP//Px/JPvDp//8/",
            "dtype": "f8"
           },
           "y": {
            "bdata": "U1LJv44P5r6iMLX1sRD2PoweGu7p/+8/wjoDGb0Q9j414XAtiQ/mvkSxH+7p/+8/",
            "dtype": "f8"
           },
           "z": {
            "bdata": "gk6iyJpfnz7SBz3AqHWSP0uLTT4h+Ys+hExm87O1rb8ntO2r8nqkv8V06kXoeqS/",
            "dtype": "f8"
           }
          }
         ],
         "layout": {
          "annotations": [
           {
            "showarrow": false,
            "text": "Time: 0.27s (Step: 28/100)",
            "x": 0.05,
            "xref": "paper",
            "y": 0.95,
            "yref": "paper"
           }
          ]
         },
         "name": "27"
        },
        {
         "data": [
          {
           "name": "Free Nodes",
           "type": "scatter3d",
           "x": {
            "bdata": "AuEaK0aDET+QVAVy5/7vP/T4pYLEBPw+ZYqsRowA8D/P7zHzuf//P4OsQfvj//8/",
            "dtype": "f8"
           },
           "y": {
            "bdata": "YoMKWZkE7L4D18yZ0AX8Pk6U5fjj/+8/qrok+twF/D6izIsokwTsvm3F6/jj/+8/",
            "dtype": "f8"
           },
           "z": {
            "bdata": "1EAaqcKMpT7MJwD3r4KUP0+Hx3Mn1pI+dfqiw8mlsL/pLVLiVAqnv2TZqdtGCqe/",
            "dtype": "f8"
           }
          },
          {
           "name": "Fixed Nodes",
           "type": "scatter3d",
           "x": [],
           "y": [],
           "z": []
          },
          {
           "name": "Edges",
           "type": "scatter3d",
           "x": [
            0.9998662211388751,
            0.00002672064162245135,
            null,
            0.00002672064162245135,
            0.00006680598996922432,
            null,
            0.00006680598996922432,
            0.9998662211388751,
            null,
            1.999933195095753,
            1.9999732794483698,
            null,
            1.9999732794483698,
            1.000133777685414,
            null,
            1.000133777685414,
            1.999933195095753,
            null
           ],
           "y": [
            0.000026724542851761488,
            0.9999866353288185,
            null,
            0.9999866353288185,
            -0.000013360006762498734,
            null,
            -0.000013360006762498734,
            0.000026724542851761488,
            null,
            -0.000013359961728442931,
            0.9999866353738703,
            null,
            0.9999866353738703,
            0.000026724722951227777,
            null,
            0.000026724722951227777,
            -0.000013359961728442931,
            null
           ],
           "z": [
            0.020029782725067766,
            2.806863113308541e-7,
            null,
            2.806863113308541e-7,
            6.422354365699187e-7,
            null,
            6.422354365699187e-7,
            0.020029782725067766,
            null,
            -0.045000698687626635,
            -0.045000280680073584,
            null,
            -0.045000280680073584,
            -0.06502972627911581,
            null,
            -0.06502972627911581,
            -0.045000698687626635,
            null
           ]
          },
          {
           "i": [
            0,
            3
           ],
           "j": [
            1,
            4
           ],
           "k": [
            2,
            5
           ],
           "name": "Faces",
           "type": "mesh3d",
           "x": {
            "bdata": "AuEaK0aDET+QVAVy5/7vP/T4pYLEBPw+ZYqsRowA8D/P7zHzuf//P4OsQfvj//8/",
            "dtype": "f8"
           },
           "y": {
            "bdata": "YoMKWZkE7L4D18yZ0AX8Pk6U5fjj/+8/qrok+twF/D6izIsokwTsvm3F6/jj/+8/",
            "dtype": "f8"
           },
           "z": {
            "bdata": "1EAaqcKMpT7MJwD3r4KUP0+Hx3Mn1pI+dfqiw8mlsL/pLVLiVAqnv2TZqdtGCqe/",
            "dtype": "f8"
           }
          }
         ],
         "layout": {
          "annotations": [
           {
            "showarrow": false,
            "text": "Time: 0.28s (Step: 29/100)",
            "x": 0.05,
            "xref": "paper",
            "y": 0.95,
            "yref": "paper"
           }
          ]
         },
         "name": "28"
        },
        {
         "data": [
          {
           "name": "Free Nodes",
           "type": "scatter3d",
           "x": {
            "bdata": "AIsjMJ6sFT+V22BlsP7vP5cb+LmZVgE/pCbuzKcA8D/33eFNqf//Py9Z01Ld//8/",
            "dtype": "f8"
           },
           "y": {
            "bdata": "qr6yaIdW8b56MpM+MVcBP6ZqNVDd/+8/7pNLDThXAT+H1W8BhFbxvi06PFDd/+8/",
            "dtype": "f8"
           },
           "z": {
            "bdata": "2OFaFxumrD7dL+i3s4+WP7JvYg3TrJg+DdscsLhwsr9oTxhVuJmpv3t98++lmam/",
            "dtype": "f8"
           }
          },
          {
           "name": "Fixed Nodes",
           "type": "scatter3d",
           "x": [],
           "y": [],
           "z": []
          },
          {
           "name": "Edges",
           "type": "scatter3d",
           "x": [
            0.9998399715467366,
            0.00003307015071745479,
            null,
            0.00003307015071745479,
            0.00008268085005939604,
            null,
            0.00008268085005939604,
            0.9998399715467366,
            null,
            1.9999173204686238,
            1.9999669299482539,
            null,
            1.9999669299482539,
            1.000160027035613,
            null,
            1.000160027035613,
            1.9999173204686238,
            null
           ],
           "y": [
            0.00003307456047138987,
            0.9999834600997317,
            null,
            0.9999834600997317,
            -0.00001653480880453468,
            null,
            -0.00001653480880453468,
            0.00003307456047138987,
            null,
            -0.000016534759279059694,
            0.9999834601492857,
            null,
            0.9999834601492857,
            0.00003307475859574265,
            null,
            0.00003307475859574265,
            -0.000016534759279059694,
            null
           ],
           "z": [
            0.022032554721633225,
            3.676875740628177e-7,
            null,
            3.676875740628177e-7,
            8.538022899440431e-7,
            null,
            8.538022899440431e-7,
            0.022032554721633225,
            null,
            -0.05000091589695793,
            -0.05000036768046364,
            null,
            -0.05000036768046364,
            -0.07203249263407603,
            null,
            -0.07203249263407603,
            -0.05000091589695793,
            null
           ]
          },
          {
           "i": [
            0,
            3
           ],
           "j": [
            1,
            4
           ],
           "k": [
            2,
            5
           ],
           "name": "Faces",
           "type": "mesh3d",
           "x": {
            "bdata": "AIsjMJ6sFT+V22BlsP7vP5cb+LmZVgE/pCbuzKcA8D/33eFNqf//Py9Z01Ld//8/",
            "dtype": "f8"
           },
           "y": {
            "bdata": "qr6yaIdW8b56MpM+MVcBP6ZqNVDd/+8/7pNLDThXAT+H1W8BhFbxvi06PFDd/+8/",
            "dtype": "f8"
           },
           "z": {
            "bdata": "2OFaFxumrD7dL+i3s4+WP7JvYg3TrJg+DdscsLhwsr9oTxhVuJmpv3t98++lmam/",
            "dtype": "f8"
           }
          }
         ],
         "layout": {
          "annotations": [
           {
            "showarrow": false,
            "text": "Time: 0.29s (Step: 30/100)",
            "x": 0.05,
            "xref": "paper",
            "y": 0.95,
            "yref": "paper"
           }
          ]
         },
         "name": "29"
        },
        {
         "data": [
          {
           "name": "Free Nodes",
           "type": "scatter3d",
           "x": {
            "bdata": "iDLlvx5GGj8rPJxwdP7vP6vnxiaIBAU/fEg+x8UA8D/uLvHnlv//P3Md9/bV//8/",
            "dtype": "f8"
           },
           "y": {
            "bdata": "AH28CHUE9b6saFdAMgUFP1nICvTV/+8/mPyjrTkFBT97f4VScQT1vkg2EvTV/+8/",
            "dtype": "f8"
           },
           "z": {
            "bdata": "6G7LOkyMsj7rD3Oys5yYP3smCe+Rl58+IVcAq6Y7tL8dvAEhHSmsv2WfRo4FKay/",
            "dtype": "f8"
           }
          },
          {
           "name": "Fixed Nodes",
           "type": "scatter3d",
           "x": [],
           "y": [],
           "z": []
          },
          {
           "name": "Edges",
           "type": "scatter3d",
           "x": [
            0.9998113822383677,
            0.00004008808614082369,
            null,
            0.00004008808614082369,
            0.00010022700005158692,
            null,
            0.00010022700005158692,
            0.9998113822383677,
            null,
            1.999899774574199,
            1.999959912021805,
            null,
            1.999959912021805,
            1.0001886160794404,
            null,
            1.0001886160794404,
            1.999899774574199,
            null
           ],
           "y": [
            0.00004009303669834491,
            0.9999799505660675,
            null,
            0.9999799505660675,
            -0.000020043764876406973,
            null,
            -0.000020043764876406973,
            0.00004009303669834491,
            null,
            -0.000020043710862948754,
            0.9999799506201237,
            null,
            0.9999799506201237,
            0.0000400932528510308,
            null,
            0.0000400932528510308,
            -0.000020043710862948754,
            null
           ],
           "z": [
            0.024035270468416952,
            4.7075853529653903e-7,
            null,
            4.7075853529653903e-7,
            0.0000011055492265465043,
            null,
            0.0000011055492265465043,
            0.024035270468416952,
            null,
            -0.05500117328562502,
            -0.055000470750484344,
            null,
            -0.055000470750484344,
            -0.07903520274006982,
            null,
            -0.07903520274006982,
            -0.05500117328562502,
            null
           ]
          },
          {
           "i": [
            0,
            3
           ],
           "j": [
            1,
            4
           ],
           "k": [
            2,
            5
           ],
           "name": "Faces",
           "type": "mesh3d",
           "x": {
            "bdata": "iDLlvx5GGj8rPJxwdP7vP6vnxiaIBAU/fEg+x8UA8D/uLvHnlv//P3Md9/bV//8/",
            "dtype": "f8"
           },
           "y": {
            "bdata": "AH28CHUE9b6saFdAMgUFP1nICvTV/+8/mPyjrTkFBT97f4VScQT1vkg2EvTV/+8/",
            "dtype": "f8"
           },
           "z": {
            "bdata": "6G7LOkyMsj7rD3Oys5yYP3smCe+Rl58+IVcAq6Y7tL8dvAEhHSmsv2WfRo4FKay/",
            "dtype": "f8"
           }
          }
         ],
         "layout": {
          "annotations": [
           {
            "showarrow": false,
            "text": "Time: 0.30s (Step: 31/100)",
            "x": 0.05,
            "xref": "paper",
            "y": 0.95,
            "yref": "paper"
           }
          ]
         },
         "name": "30"
        },
        {
         "data": [
          {
           "name": "Free Nodes",
           "type": "scatter3d",
           "x": {
            "bdata": "ae0oksZPHz/y7ciTM/7vPwdZRborDAk/KjSUNeYA8D+JA2XBgv//Pz2UsOfN//8/",
            "dtype": "f8"
           },
           "y": {
            "bdata": "QXULwBIM+b7a/FKc6QwJP7nrZuTN/+8/wjY+qPEMCT8wvPa6Dgz5vhP4buTN/+8/",
            "dtype": "f8"
           },
           "z": {
            "bdata": "D3X5KH6Atz4kBiCWr6maPwZvIt+w1qM+WVEtoJMGtr8d389ig7iuv7wOIsJluK6/",
            "dtype": "f8"
           }
          },
          {
           "name": "Fixed Nodes",
           "type": "scatter3d",
           "x": [],
           "y": [],
           "z": []
          },
          {
           "name": "Edges",
           "type": "scatter3d",
           "x": [
            0.9997804533408596,
            0.000047774395428733635,
            null,
            0.000047774395428733635,
            0.00011944436531845726,
            null,
            0.00011944436531845726,
            0.9997804533408596,
            null,
            1.9998805574871048,
            1.9999522257214857,
            null,
            1.9999522257214857,
            1.000219544689808,
            null,
            1.000219544689808,
            1.9998805574871048,
            null
           ],
           "y": [
            0.00004777992175197263,
            0.999976106736873,
            null,
            0.999976106736873,
            -0.000023886834244692517,
            null,
            -0.000023886834244692517,
            0.00004777992175197263,
            null,
            -0.000023886775748213098,
            0.9999761067954317,
            null,
            0.9999761067954317,
            0.00004778015593763292,
            null,
            0.00004778015593763292,
            -0.000023886775748213098,
            null
           ],
           "z": [
            0.026037925279530097,
            5.912374361374379e-7,
            null,
            5.912374361374379e-7,
            0.0000014008238941245652,
            null,
            0.0000014008238941245652,
            0.026037925279530097,
            null,
            -0.06000147420121336,
            -0.060000591228371175,
            null,
            -0.060000591228371175,
            -0.08603785191127623,
            null,
            -0.08603785191127623,
            -0.06000147420121336,
            null
           ]
          },
          {
           "i": [
            0,
            3
           ],
           "j": [
            1,
            4
           ],
           "k": [
            2,
            5
           ],
           "name": "Faces",
           "type": "mesh3d",
           "x": {
            "bdata": "ae0oksZPHz/y7ciTM/7vPwdZRborDAk/KjSUNeYA8D+JA2XBgv//Pz2UsOfN//8/",
            "dtype": "f8"
           },
           "y": {
            "bdata": "QXULwBIM+b7a/FKc6QwJP7nrZuTN/+8/wjY+qPEMCT8wvPa6Dgz5vhP4buTN/+8/",
            "dtype": "f8"
           },
           "z": {
            "bdata": "D3X5KH6Atz4kBiCWr6maPwZvIt+w1qM+WVEtoJMGtr8d389ig7iuv7wOIsJluK6/",
            "dtype": "f8"
           }
          }
         ],
         "layout": {
          "annotations": [
           {
            "showarrow": false,
            "text": "Time: 0.31s (Step: 32/100)",
            "x": 0.05,
            "xref": "paper",
            "y": 0.95,
            "yref": "paper"
           }
          ]
         },
         "name": "31"
        },
        {
         "data": [
          {
           "name": "Free Nodes",
           "type": "scatter3d",
           "x": {
            "bdata": "nwXFJcpkIj8qm/nO7f3vPzjhrICCbQ0/m5TmFwkB8D9QyULabP//PxilAyXF//8/",
            "dtype": "f8"
           },
           "y": {
            "bdata": "nbongV1t/b5CflN2VW4NP6AqSyHF/+8/L9zoIF5uDT+3JE4tWW39vmnVUyHF/+8/",
            "dtype": "f8"
           },
           "z": {
            "bdata": "Y9TmAAQ+vT6ism8Sp7acPzALH5ifgqg+1wSEe3/Rt79e9aGb9aOwv3QRgkvjo7C/",
            "dtype": "f8"
           }
          },
          {
           "name": "Fixed Nodes",
           "type": "scatter3d",
           "x": [],
           "y": [],
           "z": []
          },
          {
           "name": "Edges",
           "type": "scatter3d",
           "x": [
            0.9997471849900184,
            0.00005612902176327584,
            null,
            0.00005612902176327584,
            0.00014033286687191186,
            null,
            0.00014033286687191186,
            0.9997471849900184,
            null,
            1.9998596692863266,
            1.9999438711041133,
            null,
            1.9999438711041133,
            1.0002528127309123,
            null,
            1.0002528127309123,
            1.9998596692863266,
            null
           ],
           "y": [
            0.00005613516149493822,
            0.9999719286218642,
            null,
            0.9999719286218642,
            -0.00002806397248805247,
            null,
            -0.00002806397248805247,
            0.00005613516149493822,
            null,
            -0.000028063909514074096,
            0.9999719286849259,
            null,
            0.9999719286849259,
            0.000056135413718676515,
            null,
            0.000056135413718676515,
            -0.000028063909514074096,
            null
           ],
           "z": [
            0.028040514469398155,
            7.304623041926285e-7,
            null,
            7.304623041926285e-7,
            0.0000017429738395750798,
            null,
            0.0000017429738395750798,
            0.028040514469398155,
            null,
            -0.0650018219912076,
            -0.0650007304521461,
            null,
            -0.0650007304521461,
            -0.09304043546218864,
            null,
            -0.09304043546218864,
            -0.0650018219912076,
            null
           ]
          },
          {
           "i": [
            0,
            3
           ],
           "j": [
            1,
            4
           ],
           "k": [
            2,
            5
           ],
           "name": "Faces",
           "type": "mesh3d",
           "x": {
            "bdata": "nwXFJcpkIj8qm/nO7f3vPzjhrICCbQ0/m5TmFwkB8D9QyULabP//PxilAyXF//8/",
            "dtype": "f8"
           },
           "y": {
            "bdata": "nbongV1t/b5CflN2VW4NP6AqSyHF/+8/L9zoIF5uDT+3JE4tWW39vmnVUyHF/+8/",
            "dtype": "f8"
           },
           "z": {
            "bdata": "Y9TmAAQ+vT6ism8Sp7acPzALH5ifgqg+1wSEe3/Rt79e9aGb9aOwv3QRgkvjo7C/",
            "dtype": "f8"
           }
          }
         ],
         "layout": {
          "annotations": [
           {
            "showarrow": false,
            "text": "Time: 0.32s (Step: 33/100)",
            "x": 0.05,
            "xref": "paper",
            "y": 0.95,
            "yref": "paper"
           }
          ]
         },
         "name": "32"
        },
        {
         "data": [
          {
           "name": "Free Nodes",
           "type": "scatter3d",
           "x": {
            "bdata": "i067PsNZJT+tIEIio/3vP9Vm9S9FFBE/b3srbi4B8D+AOpAyVf//PyeE9K67//8/",
            "dtype": "f8"
           },
           "y": {
            "bdata": "2Z/b/igUAb90sunluRQRP3DyuKq7/+8/pNaPir4UET/SLpqtJhQBv6w7wqq7/+8/",
            "dtype": "f8"
           },
           "z": {
            "bdata": "N/hXKJ/pwT4TK+TWmcOeP6TjavsS260+IwrlKGqcub8TbI9dquuxv9dYNQyU67G/",
            "dtype": "f8"
           }
          },
          {
           "name": "Fixed Nodes",
           "type": "scatter3d",
           "x": [],
           "y": [],
           "z": []
          },
          {
           "name": "Edges",
           "type": "scatter3d",
           "x": [
            0.9997115773303641,
            0.00006515190397262821,
            null,
            0.00006515190397262821,
            0.00016289242136357062,
            null,
            0.00016289242136357062,
            0.9997115773303641,
            null,
            1.9998371100552106,
            1.9999348482308592,
            null,
            1.9999348482308592,
            1.0002884200582363,
            null,
            1.0002884200582363,
            1.9998371100552106,
            null
           ],
           "y": [
            0.00006515869743290733,
            0.999967416231426,
            null,
            0.999967416231426,
            -0.000032575131496958856,
            null,
            -0.000032575131496958856,
            0.00006515869743290733,
            null,
            -0.00003257506405160222,
            0.9999674162989911,
            null,
            0.9999674162989911,
            0.00006515896770039692,
            null,
            0.00006515896770039692,
            -0.00003257506405160222,
            null
           ],
           "z": [
            0.030043033352778425,
            8.897709367828384e-7,
            null,
            8.897709367828384e-7,
            0.000002135346508279889,
            null,
            0.000002135346508279889,
            0.030043033352778425,
            null,
            -0.07000222000299088,
            -0.07000088975960082,
            null,
            -0.07000088975960082,
            -0.10004294870763224,
            null,
            -0.10004294870763224,
            -0.07000222000299088,
            null
           ]
          },
          {
           "i": [
            0,
            3
           ],
           "j": [
            1,
            4
           ],
           "k": [
            2,
            5
           ],
           "name": "Faces",
           "type": "mesh3d",
           "x": {
            "bdata": "i067PsNZJT+tIEIio/3vP9Vm9S9FFBE/b3srbi4B8D+AOpAyVf//PyeE9K67//8/",
            "dtype": "f8"
           },
           "y": {
            "bdata": "2Z/b/igUAb90sunluRQRP3DyuKq7/+8/pNaPir4UET/SLpqtJhQBv6w7wqq7/+8/",
            "dtype": "f8"
           },
           "z": {
            "bdata": "N/hXKJ/pwT4TK+TWmcOeP6TjavsS260+IwrlKGqcub8TbI9dquuxv9dYNQyU67G/",
            "dtype": "f8"
           }
          }
         ],
         "layout": {
          "annotations": [
           {
            "showarrow": false,
            "text": "Time: 0.33s (Step: 34/100)",
            "x": 0.05,
            "xref": "paper",
            "y": 0.95,
            "yref": "paper"
           }
          ]
         },
         "name": "33"
        },
        {
         "data": [
          {
           "name": "Free Nodes",
           "type": "scatter3d",
           "x": {
            "bdata": "mEQX082GKD/xjbeNU/3vP5HU0IugnhM/+2BYOFYB8D8RXlPKO///Px2yh4Wx//8/",
            "dtype": "f8"
           },
           "y": {
            "bdata": "/yI9U3aeA7/XIP05IZ8TPwvIsYCx/+8/Y+oGLiafEz/Pw7jac54Dv8Cvu4Cx/+8/",
            "dtype": "f8"
           },
           "z": {
            "bdata": "T9/VxEanxT4zh4DJQ2igP1lfcCvE9bE+ElwxlFNnu799s5AFYDOzv+GC6ShFM7O/",
            "dtype": "f8"
           }
          },
          {
           "name": "Fixed Nodes",
           "type": "scatter3d",
           "x": [],
           "y": [],
           "z": []
          },
          {
           "name": "Edges",
           "type": "scatter3d",
           "x": [
            0.9996736305151314,
            0.00007484297653166857,
            null,
            0.00007484297653166857,
            0.0001871229410839489,
            null,
            0.0001871229410839489,
            0.9996736305151314,
            null,
            1.9998128798814643,
            1.9999251571672467,
            null,
            1.9999251571672467,
            1.000326366518549,
            null,
            1.000326366518549,
            1.9998128798814643,
            null
           ],
           "y": [
            0.0000748504667146295,
            0.9999625695766111,
            null,
            0.9999625695766111,
            -0.00003742025947290304,
            null,
            -0.00003742025947290304,
            0.0000748504667146295,
            null,
            -0.0000374201875640367,
            0.9999625696486802,
            null,
            0.9999625696486802,
            0.00007485075503314282,
            null,
            0.00007485075503314282,
            -0.0000374201875640367,
            null
           ],
           "z": [
            0.032045477244777486,
            0.0000010705008841645554,
            null,
            0.0000010705008841645554,
            0.0000025812892434049578,
            null,
            0.0000025812892434049578,
            0.032045477244777486,
            null,
            -0.07500267158384406,
            -0.07500107048827999,
            null,
            -0.07500107048827999,
            -0.10704538696278146,
            null,
            -0.10704538696278146,
            -0.07500267158384406,
            null
           ]
          },
          {
           "i": [
            0,
            3
           ],
           "j": [
            1,
            4
           ],
           "k": [
            2,
            5
           ],
           "name": "Faces",
           "type": "mesh3d",
           "x": {
            "bdata": "mEQX082GKD/xjbeNU/3vP5HU0IugnhM/+2BYOFYB8D8RXlPKO///Px2yh4Wx//8/",
            "dtype": "f8"
           },
           "y": {
            "bdata": "/yI9U3aeA7/XIP05IZ8TPwvIsYCx/+8/Y+oGLiafEz/Pw7jac54Dv8Cvu4Cx/+8/",
            "dtype": "f8"
           },
           "z": {
            "bdata": "T9/VxEanxT4zh4DJQ2igP1lfcCvE9bE+ElwxlFNnu799s5AFYDOzv+GC6ShFM7O/",
            "dtype": "f8"
           }
          }
         ],
         "layout": {
          "annotations": [
           {
            "showarrow": false,
            "text": "Time: 0.34s (Step: 35/100)",
            "x": 0.05,
            "xref": "paper",
            "y": 0.95,
            "yref": "paper"
           }
          ]
         },
         "name": "34"
        },
        {
         "data": [
          {
           "name": "Free Nodes",
           "type": "scatter3d",
           "x": {
            "bdata": "vkdhGOnrKz8BJXAR//zvP9yZliDSVRY/SSRidoAB8D+yh5KhIP//P0H8waim//8/",
            "dtype": "f8"
           },
           "y": {
            "bdata": "Cbmo1ZRVBr/uts+PX1YWP9VHN6Om/+8/0LhF02RWFj/HRPQ1klUGvwrOQaOm/+8/",
            "dtype": "f8"
           },
           "z": {
            "bdata": "7WIcACnfyT43zCX7t26hP6yg7DG+X7U+tFxKqTsyvb93DgaiFnu0v6nqXKf2erS/",
            "dtype": "f8"
           }
          },
          {
           "name": "Fixed Nodes",
           "type": "scatter3d",
           "x": [],
           "y": [],
           "z": []
          },
          {
           "name": "Edges",
           "type": "scatter3d",
           "x": [
            0.9996333447062683,
            0.00008520216956373706,
            null,
            0.00008520216956373706,
            0.00021302433396158492,
            null,
            0.00021302433396158492,
            0.9996333447062683,
            null,
            1.999786978857156,
            1.9999147979831522,
            null,
            1.9999147979831522,
            1.0003666519499055,
            null,
            1.0003666519499055,
            1.999786978857156,
            null
           ],
           "y": [
            0.00008521040213313086,
            0.9999573886691403,
            null,
            0.9999573886691403,
            -0.00004259930092974553,
            null,
            -0.00004259930092974553,
            0.00008521040213313086,
            null,
            -0.000042599224565739685,
            0.9999573887457143,
            null,
            0.9999573887457143,
            0.00008521070851028327,
            null,
            0.00008521070851028327,
            -0.000042599224565739685,
            null
           ],
           "z": [
            0.03404784146086864,
            0.0000012739894327904958,
            null,
            0.0000012739894327904958,
            0.000003084149285192584,
            null,
            0.000003084149285192584,
            0.03404784146086864,
            null,
            -0.08000318008094519,
            -0.08000127397546443,
            null,
            -0.08000127397546443,
            -0.11404774554317748,
            null,
            -0.11404774554317748,
            -0.08000318008094519,
            null
           ]
          },
          {
           "i": [
            0,
            3
           ],
           "j": [
            1,
            4
           ],
           "k": [
            2,
            5
           ],
           "name": "Faces",
           "type": "mesh3d",
           "x": {
            "bdata": "vkdhGOnrKz8BJXAR//zvP9yZliDSVRY/SSRidoAB8D+yh5KhIP//P0H8waim//8/",
            "dtype": "f8"
           },
           "y": {
            "bdata": "Cbmo1ZRVBr/uts+PX1YWP9VHN6Om/+8/0LhF02RWFj/HRPQ1klUGvwrOQaOm/+8/",
            "dtype": "f8"
           },
           "z": {
            "bdata": "7WIcACnfyT43zCX7t26hP6yg7DG+X7U+tFxKqTsyvb93DgaiFnu0v6nqXKf2erS/",
            "dtype": "f8"
           }
          }
         ],
         "layout": {
          "annotations": [
           {
            "showarrow": false,
            "text": "Time: 0.35s (Step: 36/100)",
            "x": 0.05,
            "xref": "paper",
            "y": 0.95,
            "yref": "paper"
           }
          ]
         },
         "name": "35"
        },
        {
         "data": [
          {
           "name": "Free Nodes",
           "type": "scatter3d",
           "x": {
            "bdata": "oFyKOhSJLz92WoOtpfzvPweQ0afYORk/HQs9KK0B8D/RV1S4A///P2F8qBib//8/",
            "dtype": "f8"
           },
           "y": {
            "bdata": "5kWcfYI5Cb8ltKSsczoZP6wlSxKb/+8/JhCRP3k6GT8LWc62fzkJv2pKVhKb/+8/",
            "dtype": "f8"
           },
           "z": {
            "bdata": "/IHG9XWYzj7GWiVYKXWiPwob3J41Mbk+OtoRVCL9vr+wok9BzsK1v02cTY2owrW/",
            "dtype": "f8"
           }
          },
          {
           "name": "Fixed Nodes",
           "type": "scatter3d",
           "x": [],
           "y": [],
           "z": []
          },
          {
           "name": "Edges",
           "type": "scatter3d",
           "x": [
            0.9995907200744358,
            0.00009622940884096441,
            null,
            0.00009622940884096441,
            0.0002405965035634271,
            null,
            0.0002405965035634271,
            0.9995907200744358,
            null,
            1.9997594070787168,
            1.999903770752802,
            null,
            1.999903770752802,
            1.0004092761816488,
            null,
            1.0004092761816488,
            1.9997594070787168,
            null
           ],
           "y": [
            0.00009623843212543165,
            0.9999518735214017,
            null,
            0.9999518735214017,
            -0.00004811219669255042,
            null,
            -0.00004811219669255042,
            0.00009623843212543165,
            null,
            -0.00004811211588344647,
            0.9999518736024815,
            null,
            0.9999518736024815,
            0.00009623875657022214,
            null,
            0.00009623875657022214,
            -0.00004811211588344647,
            null
           ],
           "z": [
            0.036050121316909364,
            0.0000015015735885263396,
            null,
            0.0000015015735885263396,
            0.0000036472737702938283,
            null,
            0.0000036472737702938283,
            0.036050121316909364,
            null,
            -0.08500374884136863,
            -0.0850015015581544,
            null,
            -0.0850015015581544,
            -0.12105001976474564,
            null,
            -0.12105001976474564,
            -0.08500374884136863,
            null
           ]
          },
          {
           "i": [
            0,
            3
           ],
           "j": [
            1,
            4
           ],
           "k": [
            2,
            5
           ],
           "name": "Faces",
           "type": "mesh3d",
           "x": {
            "bdata": "oFyKOhSJLz92WoOtpfzvPweQ0afYORk/HQs9KK0B8D/RV1S4A///P2F8qBib//8/",
            "dtype": "f8"
           },
           "y": {
            "bdata": "5kWcfYI5Cb8ltKSsczoZP6wlSxKb/+8/JhCRP3k6GT8LWc62fzkJv2pKVhKb/+8/",
            "dtype": "f8"
           },
           "z": {
            "bdata": "/IHG9XWYzj7GWiVYKXWiPwob3J41Mbk+OtoRVCL9vr+wok9BzsK1v02cTY2owrW/",
            "dtype": "f8"
           }
          }
         ],
         "layout": {
          "annotations": [
           {
            "showarrow": false,
            "text": "Time: 0.36s (Step: 37/100)",
            "x": 0.05,
            "xref": "paper",
            "y": 0.95,
            "yref": "paper"
           }
          ]
         },
         "name": "36"
        },
        {
         "data": [
          {
           "name": "Free Nodes",
           "type": "scatter3d",
           "x": {
            "bdata": "Y631LSevMT941QliR/zvP84g68eyShw/9sHcTdwB8D+Zu58O5f7/P9OYQNWO//8/",
            "dtype": "f8"
           },
           "y": {
            "bdata": "GmIkIj1KDL9ixpdCXEscP+Us782O/+8/dJMFJWJLHD+CgFU0OkoMvzXw+s2O/+8/",
            "dtype": "f8"
           },
           "z": {
            "bdata": "DUhg2S7t0T4ti0O4l3ujP/+aPyzob70+8Qk1wANkwL99eM3xhgq3vzpQeeBaCre/",
            "dtype": "f8"
           }
          },
          {
           "name": "Fixed Nodes",
           "type": "scatter3d",
           "x": [],
           "y": [],
           "z": []
          },
          {
           "name": "Edges",
           "type": "scatter3d",
           "x": [
            0.9995457567990078,
            0.00010792461578568448,
            null,
            0.00010792461578568448,
            0.0002698393490933785,
            null,
            0.0002698393490933785,
            0.9995457567990078,
            null,
            1.9997301646469394,
            1.9998920755547729,
            null,
            1.9998920755547729,
            1.000454239034409,
            null,
            1.000454239034409,
            1.9997301646469394,
            null
           ],
           "y": [
            0.00010793448077330841,
            0.9999460241464503,
            null,
            0.9999460241464503,
            -0.0000539588838980901,
            null,
            -0.0000539588838980901,
            0.00010793448077330841,
            null,
            -0.000053958798654774924,
            0.9999460242320369,
            null,
            0.9999460242320369,
            0.00010793482329558656,
            null,
            0.00010793482329558656,
            -0.000053958798654774924,
            null
           ],
           "z": [
            0.038052312129158807,
            0.0000017545900599048238,
            null,
            0.0000017545900599048238,
            0.000004274009731035724,
            null,
            0.000004274009731035724,
            0.038052312129158807,
            null,
            -0.0900043812120845,
            -0.09000175457305284,
            null,
            -0.09000175457305284,
            -0.1280522049438129,
            null,
            -0.1280522049438129,
            -0.0900043812120845,
            null
           ]
          },
          {
           "i": [
            0,
            3
           ],
           "j": [
            1,
            4
           ],
           "k": [
            2,
            5
           ],
           "name": "Faces",
           "type": "mesh3d",
           "x": {
            "bdata": "Y631LSevMT941QliR/zvP84g68eyShw/9sHcTdwB8D+Zu58O5f7/P9OYQNWO//8/",
            "dtype": "f8"
           },
           "y": {
            "bdata": "GmIkIj1KDL9ixpdCXEscP+Us782O/+8/dJMFJWJLHD+CgFU0OkoMvzXw+s2O/+8/",
            "dtype": "f8"
           },
           "z": {
            "bdata": "DUhg2S7t0T4ti0O4l3ujP/+aPyzob70+8Qk1wANkwL99eM3xhgq3vzpQeeBaCre/",
            "dtype": "f8"
           }
          }
         ],
         "layout": {
          "annotations": [
           {
            "showarrow": false,
            "text": "Time: 0.37s (Step: 38/100)",
            "x": 0.05,
            "xref": "paper",
            "y": 0.95,
            "yref": "paper"
           }
          ]
         },
         "name": "37"
        },
        {
         "data": [
          {
           "name": "Free Nodes",
           "type": "scatter3d",
           "x": {
            "bdata": "z3OiSsu1Mz+zbx0v5PvvP7dyLBRfiB8/Dlw05w0C8D/67HukxP7/P20EkN6B//8/",
            "dtype": "f8"
           },
           "y": {
            "bdata": "GBLcecKHD78yb53wF4kfP0hAJdaB/+8/RgSZIh6JHz8pPChlv4cPvzeiMdaB/+8/",
            "dtype": "f8"
           },
           "z": {
            "bdata": "ZsKXGgjW1D6ooUXzAoKkP3q0153JEME+ct8ajXVJwb+iet/BQFK4v3VmnaYNUri/",
            "dtype": "f8"
           }
          },
          {
           "name": "Fixed Nodes",
           "type": "scatter3d",
           "x": [],
           "y": [],
           "z": []
          },
          {
           "name": "Edges",
           "type": "scatter3d",
           "x": [
            0.9994984550680698,
            0.00012028770747147642,
            null,
            0.00012028770747147642,
            0.00030075276539226215,
            null,
            0.00030075276539226215,
            0.9994984550680698,
            null,
            1.9996992516669807,
            1.99987971247199,
            null,
            1.99987971247199,
            1.0005015403201045,
            null,
            1.0005015403201045,
            1.9996992516669807,
            null
           ],
           "y": [
            0.00012029846780364504,
            0.9999398405580076,
            null,
            0.9999398405580076,
            -0.0000601392959947192,
            null,
            -0.0000601392959947192,
            0.00012029846780364504,
            null,
            -0.00006013920632962799,
            0.9999398406481025,
            null,
            0.9999398406481025,
            0.00012029882841437062,
            null,
            0.00012029882841437062,
            -0.00006013920632962799,
            null
           ],
           "z": [
            0.040054409214295206,
            0.000002034375241369429,
            null,
            0.000002034375241369429,
            0.000004967704094735979,
            null,
            0.000004967704094735979,
            0.040054409214295206,
            null,
            -0.09500508053995785,
            -0.0950020343565486,
            null,
            -0.0950020343565486,
            -0.13505429639712535,
            null,
            -0.13505429639712535,
            -0.09500508053995785,
            null
           ]
          },
          {
           "i": [
            0,
            3
           ],
           "j": [
            1,
            4
           ],
           "k": [
            2,
            5
           ],
           "name": "Faces",
           "type": "mesh3d",
           "x": {
            "bdata": "z3OiSsu1Mz+zbx0v5PvvP7dyLBRfiB8/Dlw05w0C8D/67HukxP7/P20EkN6B//8/",
            "dtype": "f8"
           },
           "y": {
            "bdata": "GBLcecKHD78yb53wF4kfP0hAJdaB/+8/RgSZIh6JHz8pPChlv4cPvzeiMdaB/+8/",
            "dtype": "f8"
           },
           "z": {
            "bdata": "ZsKXGgjW1D6ooUXzAoKkP3q0153JEME+ct8ajXVJwb+iet/BQFK4v3VmnaYNUri/",
            "dtype": "f8"
           }
          }
         ],
         "layout": {
          "annotations": [
           {
            "showarrow": false,
            "text": "Time: 0.38s (Step: 39/100)",
            "x": 0.05,
            "xref": "paper",
            "y": 0.95,
            "yref": "paper"
           }
          ]
         },
         "name": "38"
        },
        {
         "data": [
          {
           "name": "Free Nodes",
           "type": "scatter3d",
           "x": {
            "bdata": "GXHf+nXYNT9bNdkUfPvvP3ynXwZueSE/YVM29EEC8D+mcvB5ov7/P4G+nDR0//8/",
            "dtype": "f8"
           },
           "y": {
            "bdata": "Cw12DQh5Eb97i0Gh0nkhPwxa7yp0/+8/OzgN4tV5IT9AaLlvBnkRv6la/Cp0/+8/",
            "dtype": "f8"
           },
           "z": {
            "bdata": "y20rtl4K2D462PHgaoilPyeZ0ej5pcM+qwWshuYuwr8jduW/+5m5v+ThduXAmbm/",
            "dtype": "f8"
           }
          },
          {
           "name": "Fixed Nodes",
           "type": "scatter3d",
           "x": [],
           "y": [],
           "z": []
          },
          {
           "name": "Edges",
           "type": "scatter3d",
           "x": [
            0.9994488150784194,
            0.00013331859662396226,
            null,
            0.00013331859662396226,
            0.000333336642936792,
            null,
            0.000333336642936792,
            0.9994488150784194,
            null,
            1.9996666682483606,
            1.9998666815917263,
            null,
            1.9998666815917263,
            1.0005511798419422,
            null,
            1.0005511798419422,
            1.9996666682483606,
            null
           ],
           "y": [
            0.00013333030858849932,
            0.999933322770461,
            null,
            0.999933322770461,
            -0.00006665336274207596,
            null,
            -0.00006665336274207596,
            0.00013333030858849932,
            null,
            -0.00006665326866919872,
            0.9999333228650659,
            null,
            0.9999333228650659,
            0.00013333068730009439,
            null,
            0.00013333068730009439,
            -0.00006665326866919872,
            null
           ],
           "z": [
            0.04205640788943339,
            0.0000023422651965087707,
            null,
            0.0000023422651965087707,
            0.000005731703682977867,
            null,
            0.000005731703682977867,
            0.04205640788943339,
            null,
            -0.10000585017174805,
            -0.10000234224469967,
            null,
            -0.10000234224469967,
            -0.14205628944186563,
            null,
            -0.14205628944186563,
            -0.10000585017174805,
            null
           ]
          },
          {
           "i": [
            0,
            3
           ],
           "j": [
            1,
            4
           ],
           "k": [
            2,
            5
           ],
           "name": "Faces",
           "type": "mesh3d",
           "x": {
            "bdata": "GXHf+nXYNT9bNdkUfPvvP3ynXwZueSE/YVM29EEC8D+mcvB5ov7/P4G+nDR0//8/",
            "dtype": "f8"
           },
           "y": {
            "bdata": "Cw12DQh5Eb97i0Gh0nkhPwxa7yp0/+8/OzgN4tV5IT9AaLlvBnkRv6la/Cp0/+8/",
            "dtype": "f8"
           },
           "z": {
            "bdata": "y20rtl4K2D462PHgaoilPyeZ0ej5pcM+qwWshuYuwr8jduW/+5m5v+ThduXAmbm/",
            "dtype": "f8"
           }
          }
         ],
         "layout": {
          "annotations": [
           {
            "showarrow": false,
            "text": "Time: 0.39s (Step: 40/100)",
            "x": 0.05,
            "xref": "paper",
            "y": 0.95,
            "yref": "paper"
           }
          ]
         },
         "name": "39"
        },
        {
         "data": [
          {
           "name": "Free Nodes",
           "type": "scatter3d",
           "x": {
            "bdata": "nvxzwSYXOD8eZVkTD/vvP6dLWA8URSM/qojUdHgC8D8aIAWPfv7/P9cSbddl//8/",
            "dtype": "f8"
           },
           "y": {
            "bdata": "LRCGvZFEE79CUnhYgUUjP9GLT8xl/+8/B2gZwYRFIz9juncMkEQTvywrXcxl/+8/",
            "dtype": "f8"
           },
           "z": {
            "bdata": "2ls/nMqN2z57aA9Zz46mP9chX0hjesY+jlTaolYUw78LGj/6t+G6v5hjwqJ04bq/",
            "dtype": "f8"
           }
          },
          {
           "name": "Fixed Nodes",
           "type": "scatter3d",
           "x": [],
           "y": [],
           "z": []
          },
          {
           "name": "Edges",
           "type": "scatter3d",
           "x": [
            0.999396837035565,
            0.00014701719162299212,
            null,
            0.00014701719162299212,
            0.0003675908678388381,
            null,
            0.0003675908678388381,
            0.999396837035565,
            null,
            1.9996324145049642,
            1.9998529830056009,
            null,
            1.9998529830056009,
            1.0006031573944179,
            null,
            1.0006031573944179,
            1.9996324145049642,
            null
           ],
           "y": [
            0.00014702991414651713,
            0.9999264707988634,
            null,
            0.9999264707988634,
            -0.00007350101021158578,
            null,
            -0.00007350101021158578,
            0.00014702991414651713,
            null,
            -0.00007350091174605218,
            0.99992647089798,
            null,
            0.99992647089798,
            0.0001470303109723516,
            null,
            0.0001470303109723516,
            -0.00007350091174605218,
            null
           ],
           "z": [
            0.0440583034721422,
            0.000002679595641350901,
            null,
            0.000002679595641350901,
            0.000006569355210892458,
            null,
            0.000006569355210892458,
            0.0440583034721422,
            null,
            -0.105006693454108,
            -0.10500267957321652,
            null,
            -0.10500267957321652,
            -0.1490581793956704,
            null,
            -0.1490581793956704,
            -0.105006693454108,
            null
           ]
          },
          {
           "i": [
            0,
            3
           ],
           "j": [
            1,
            4
           ],
           "k": [
            2,
            5
           ],
           "name": "Faces",
           "type": "mesh3d",
           "x": {
            "bdata": "nvxzwSYXOD8eZVkTD/vvP6dLWA8URSM/qojUdHgC8D8aIAWPfv7/P9cSbddl//8/",
            "dtype": "f8"
           },
           "y": {
            "bdata": "LRCGvZFEE79CUnhYgUUjP9GLT8xl/+8/B2gZwYRFIz9juncMkEQTvywrXcxl/+8/",
            "dtype": "f8"
           },
           "z": {
            "bdata": "2ls/nMqN2z57aA9Zz46mP9chX0hjesY+jlTaolYUw78LGj/6t+G6v5hjwqJ04bq/",
            "dtype": "f8"
           }
          }
         ],
         "layout": {
          "annotations": [
           {
            "showarrow": false,
            "text": "Time: 0.40s (Step: 41/100)",
            "x": 0.05,
            "xref": "paper",
            "y": 0.95,
            "yref": "paper"
           }
          ]
         },
         "name": "40"
        },
        {
         "data": [
          {
           "name": "Free Nodes",
           "type": "scatter3d",
           "x": {
            "bdata": "xr5aHN1xOj8ncLsqnfrvP4kd+NEgJyU/aUMAabEC8D+dFcLjWP7/P6iZB8dW//8/",
            "dtype": "f8"
           },
           "y": {
            "bdata": "TW3A93wmFb8KxLNQlyclP57+R7pW/+8/k7Iy4ZonJT/PbHMzeyYVv8g8VrpW/+8/",
            "dtype": "f8"
           },
           "z": {
            "bdata": "gU5tteNj3z50lWYzMJWnP+GGitrjkMk+aOaX18X5w78990t/dSm8vxUmPOQoKby/",
            "dtype": "f8"
           }
          },
          {
           "name": "Fixed Nodes",
           "type": "scatter3d",
           "x": [],
           "y": [],
           "z": []
          },
          {
           "name": "Edges",
           "type": "scatter3d",
           "x": [
            0.9993425211537258,
            0.00016138339650260635,
            null,
            0.00016138339650260635,
            0.00040351532184511004,
            null,
            0.00040351532184511004,
            0.9993425211537258,
            null,
            1.9995964905550416,
            1.999838616809578,
            null,
            1.999838616809578,
            1.000657472763317,
            null,
            1.000657472763317,
            1.9995964905550416,
            null
           ],
           "y": [
            0.00016139719114208222,
            0.9999192846589329,
            null,
            0.9999192846589329,
            -0.00008068216078565179,
            null,
            -0.00008068216078565179,
            0.00016139719114208222,
            null,
            -0.00008068205794435904,
            0.9999192847625631,
            null,
            0.9999192847625631,
            0.00016139760609714236,
            null,
            0.00016139760609714236,
            -0.00008068205794435904,
            null
           ],
           "z": [
            0.046060091280461984,
            0.0000030477019275645076,
            null,
            0.0000030477019275645076,
            0.0000074840052864570214,
            null,
            0.0000074840052864570214,
            0.046060091280461984,
            null,
            -0.11000761373358343,
            -0.11000304767744525,
            null,
            -0.11000304767744525,
            -0.1560599615766478,
            null,
            -0.1560599615766478,
            -0.11000761373358343,
            null
           ]
          },
          {
           "i": [
            0,
            3
           ],
           "j": [
            1,
            4
           ],
           "k": [
            2,
            5
           ],
           "name": "Faces",
           "type": "mesh3d",
           "x": {
            "bdata": "xr5aHN1xOj8ncLsqnfrvP4kd+NEgJyU/aUMAabEC8D+dFcLjWP7/P6iZB8dW//8/",
            "dtype": "f8"
           },
           "y": {
            "bdata": "TW3A93wmFb8KxLNQlyclP57+R7pW/+8/k7Iy4ZonJT/PbHMzeyYVv8g8VrpW/+8/",
            "dtype": "f8"
           },
           "z": {
            "bdata": "gU5tteNj3z50lWYzMJWnP+GGitrjkMk+aOaX18X5w78990t/dSm8vxUmPOQoKby/",
            "dtype": "f8"
           }
          }
         ],
         "layout": {
          "annotations": [
           {
            "showarrow": false,
            "text": "Time: 0.41s (Step: 42/100)",
            "x": 0.05,
            "xref": "paper",
            "y": 0.95,
            "yref": "paper"
           }
          ]
         },
         "name": "41"
        },
        {
         "data": [
          {
           "name": "Free Nodes",
           "type": "scatter3d",
           "x": {
            "bdata": "wTDBhJjoPD8W+h1bJvrvP5EsqnGTHyc/5DGq0OwC8D9IwC94Mf7/P5U3cwNH//8/",
            "dtype": "f8"
           },
           "y": {
            "bdata": "3K+OVsgeF7/6cyKzEyAnP9by2vRG/+8/i2WIaxcgJz+v5Rd/xh4Xv+TP6fRG/+8/",
            "dtype": "f8"
           },
           "z": {
            "bdata": "HGlb8SDI4T5xtcBHjZuoP5TnvYdZ7Mw+VRrXGjTfxL88gGtdNHG9v574n6/dcL2/",
            "dtype": "f8"
           }
          },
          {
           "name": "Fixed Nodes",
           "type": "scatter3d",
           "x": [],
           "y": [],
           "z": []
          },
          {
           "name": "Edges",
           "type": "scatter3d",
           "x": [
            0.9992858676558309,
            0.00017641711095381767,
            null,
            0.00017641711095381767,
            0.000441109882335377,
            null,
            0.000441109882335377,
            0.9992858676558309,
            null,
            1.9995588965212097,
            1.9998235831039655,
            null,
            1.9998235831039655,
            1.0007141257257155,
            null,
            1.0007141257257155,
            1.9995588965212097,
            null
           ],
           "y": [
            0.00017643204188724765,
            0.9999117643670512,
            null,
            0.9999117643670512,
            -0.00008819673315824068,
            null,
            -0.00008819673315824068,
            0.00017643204188724765,
            null,
            -0.00008819662595973306,
            0.9999117644751974,
            null,
            0.9999117644751974,
            0.00017643247498781394,
            null,
            0.00017643247498781394,
            -0.00008819662595973306,
            null
           ],
           "z": [
            0.04806176663292206,
            0.000003447919025787022,
            null,
            0.000003447919025787022,
            0.000008479000409723556,
            null,
            0.000008479000409723556,
            0.04806176663292206,
            null,
            -0.1150086143566122,
            -0.11500344789235092,
            null,
            -0.11500344789235092,
            -0.16306163130339493,
            null,
            -0.16306163130339493,
            -0.1150086143566122,
            null
           ]
          },
          {
           "i": [
            0,
            3
           ],
           "j": [
            1,
            4
           ],
           "k": [
            2,
            5
           ],
           "name": "Faces",
           "type": "mesh3d",
           "x": {
            "bdata": "wTDBhJjoPD8W+h1bJvrvP5EsqnGTHyc/5DGq0OwC8D9IwC94Mf7/P5U3cwNH//8/",
            "dtype": "f8"
           },
           "y": {
            "bdata": "3K+OVsgeF7/6cyKzEyAnP9by2vRG/+8/i2WIaxcgJz+v5Rd/xh4Xv+TP6fRG/+8/",
            "dtype": "f8"
           },
           "z": {
            "bdata": "HGlb8SDI4T5xtcBHjZuoP5TnvYdZ7Mw+VRrXGjTfxL88gGtdNHG9v574n6/dcL2/",
            "dtype": "f8"
           }
          }
         ],
         "layout": {
          "annotations": [
           {
            "showarrow": false,
            "text": "Time: 0.42s (Step: 43/100)",
            "x": 0.05,
            "xref": "paper",
            "y": 0.95,
            "yref": "paper"
           }
          ]
         },
         "name": "42"
        },
        {
         "data": [
          {
           "name": "Free Nodes",
           "type": "scatter3d",
           "x": {
            "bdata": "KZ8Hb1h7Pz/92KCkqvnvP/vDTAhrLik/KWnCqyoD8D8G2lZMCP7/P6Qdt4w2//8/",
            "dtype": "f8"
           },
           "y": {
            "bdata": "TK4gZHItGb+dc2Cf9S4pPzfACnw2/+8/eHq3f/kuKT9jCpd5cC0Zvz88Gnw2/+8/",
            "dtype": "f8"
           },
           "z": {
            "bdata": "cWS8fj4L5D7VO+ht5qGpPw9EMwDRR9A+t5aKYqHExb/5CP2i9Li+v346qQqTuL6/",
            "dtype": "f8"
           }
          },
          {
           "name": "Fixed Nodes",
           "type": "scatter3d",
           "x": [],
           "y": [],
           "z": []
          },
          {
           "name": "Edges",
           "type": "scatter3d",
           "x": [
            0.9992268767735194,
            0.00019211823032486128,
            null,
            0.00019211823032486128,
            0.00048037442232250427,
            null,
            0.00048037442232250427,
            0.9992268767735194,
            null,
            1.9995196325304518,
            1.999807881993413,
            null,
            1.999807881993413,
            1.0007731160499793,
            null,
            1.0007731160499793,
            1.9995196325304518,
            null
           ],
           "y": [
            0.00019213436434109286,
            0.9999039099402641,
            null,
            0.9999039099402641,
            -0.00009604464233408625,
            null,
            -0.00009604464233408625,
            0.00019213436434109286,
            null,
            -0.00009604453079873616,
            0.9999039100529287,
            null,
            0.9999039100529287,
            0.00019213481560505555,
            null,
            0.00019213481560505555,
            -0.00009604453079873616,
            null
           ],
           "z": [
            0.05006332484855817,
            0.000003881581508839208,
            null,
            0.000003881581508839208,
            0.00000955768697212726,
            null,
            0.00000955768697212726,
            0.05006332484855817,
            null,
            -0.1200096986695235,
            -0.12000388155250083,
            null,
            -0.12000388155250083,
            -0.17006318389501526,
            null,
            -0.17006318389501526,
            -0.1200096986695235,
            null
           ]
          },
          {
           "i": [
            0,
            3
           ],
           "j": [
            1,
            4
           ],
           "k": [
            2,
            5
           ],
           "name": "Faces",
           "type": "mesh3d",
           "x": {
            "bdata": "KZ8Hb1h7Pz/92KCkqvnvP/vDTAhrLik/KWnCqyoD8D8G2lZMCP7/P6Qdt4w2//8/",
            "dtype": "f8"
           },
           "y": {
            "bdata": "TK4gZHItGb+dc2Cf9S4pPzfACnw2/+8/eHq3f/kuKT9jCpd5cC0Zvz88Gnw2/+8/",
            "dtype": "f8"
           },
           "z": {
            "bdata": "cWS8fj4L5D7VO+ht5qGpPw9EMwDRR9A+t5aKYqHExb/5CP2i9Li+v346qQqTuL6/",
            "dtype": "f8"
           }
          }
         ],
         "layout": {
          "annotations": [
           {
            "showarrow": false,
            "text": "Time: 0.43s (Step: 44/100)",
            "x": 0.05,
            "xref": "paper",
            "y": 0.95,
            "yref": "paper"
           }
          ]
         },
         "name": "43"
        },
        {
         "data": [
          {
           "name": "Free Nodes",
           "type": "scatter3d",
           "x": {
            "bdata": "9WlgJQ4VQT9YFWUHKvnvP/mJMqamUys/EmU4+moD8D+baUBg3f3/PznJ2mIl//8/",
            "dtype": "f8"
           },
           "y": {
            "bdata": "SiNtmnlSG7/I63crPFQrP9TV2U8l/+8/IwDLM0BUKz/3femcd1Ibv+3w6U8l/+8/",
            "dtype": "f8"
           },
           "z": {
            "bdata": "LO+uaxZ95j7wwqh9O6iqPzCJTV3NPtI+rEulpA2qxr9O4y8vWwDAvypriX0kAMC/",
            "dtype": "f8"
           }
          },
          {
           "name": "Fixed Nodes",
           "type": "scatter3d",
           "x": [],
           "y": [],
           "z": []
          },
          {
           "name": "Edges",
           "type": "scatter3d",
           "x": [
            0.9991655487471389,
            0.00020848664562318745,
            null,
            0.00020848664562318745,
            0.0005213088104512586,
            null,
            0.0005213088104512586,
            0.9991655487471389,
            null,
            1.99947869871412,
            1.999791513586912,
            null,
            1.999791513586912,
            1.0008344434957661,
            null,
            1.0008344434957661,
            1.99947869871412,
            null
           ],
           "y": [
            0.00020850405211078464,
            0.9998957213962805,
            null,
            0.9998957213962805,
            -0.00010422579962922094,
            null,
            -0.00010422579962922094,
            0.00020850405211078464,
            null,
            -0.00010422568377909518,
            0.999895721513466,
            null,
            0.999895721513466,
            0.0002085045215576296,
            null,
            0.0002085045215576296,
            -0.00010422568377909518,
            null
           ],
           "z": [
            0.052064761246929936,
            0.0000043500235350233334,
            null,
            0.0000043500235350233334,
            0.000010723411255734646,
            null,
            0.000010723411255734646,
            0.052064761246929936,
            null,
            -0.12501087001853722,
            -0.12500434999204774,
            null,
            -0.12500434999204774,
            -0.1770646146711362,
            null,
            -0.1770646146711362,
            -0.12501087001853722,
            null
           ]
          },
          {
           "i": [
            0,
            3
           ],
           "j": [
            1,
            4
           ],
           "k": [
            2,
            5
           ],
           "name": "Faces",
           "type": "mesh3d",
           "x": {
            "bdata": "9WlgJQ4VQT9YFWUHKvnvP/mJMqamUys/EmU4+moD8D+baUBg3f3/PznJ2mIl//8/",
            "dtype": "f8"
           },
           "y": {
            "bdata": "SiNtmnlSG7/I63crPFQrP9TV2U8l/+8/IwDLM0BUKz/3femcd1Ibv+3w6U8l/+8/",
            "dtype": "f8"
           },
           "z": {
            "bdata": "LO+uaxZ95j7wwqh9O6iqPzCJTV3NPtI+rEulpA2qxr9O4y8vWwDAvypriX0kAMC/",
            "dtype": "f8"
           }
          }
         ],
         "layout": {
          "annotations": [
           {
            "showarrow": false,
            "text": "Time: 0.44s (Step: 45/100)",
            "x": 0.05,
            "xref": "paper",
            "y": 0.95,
            "yref": "paper"
           }
          ]
         },
         "name": "44"
        },
        {
         "data": [
          {
           "name": "Free Nodes",
           "type": "scatter3d",
           "x": {
            "bdata": "RN5YwXF6Qj8N6oyDpPjvP99II1JFjy0/Qwj7u60D8D+mwvWzsP3/Pw8E5oUT//8/",
            "dtype": "f8"
           },
           "y": {
            "bdata": "PP4wY9yNHb+fWeFj5o8tPw26SnAT/+8/zDI8lOqPLT8mhc5S2o0dv1V0W3AT/+8/",
            "dtype": "f8"
           },
           "z": {
            "bdata": "fWoonXQf6T7XFc9OjK6rP1tz4HeQXNQ+gnUa13iPx7+nZ/nOPKTAv62eS8P/o8C/",
            "dtype": "f8"
           }
          },
          {
           "name": "Fixed Nodes",
           "type": "scatter3d",
           "x": [],
           "y": [],
           "z": []
          },
          {
           "name": "Edges",
           "type": "scatter3d",
           "x": [
            0.999101883825746,
            0.0002255222435168574,
            null,
            0.0002255222435168574,
            0.0005639129109970627,
            null,
            0.0005639129109970627,
            0.999101883825746,
            null,
            1.9994360952079346,
            1.9997744779977926,
            null,
            1.9997744779977926,
            1.0008981078140244,
            null,
            1.0008981078140244,
            1.9994360952079346,
            null
           ],
           "y": [
            0.00022554099445200052,
            0.9998871987534713,
            null,
            0.9998871987534713,
            -0.00011274011267036697,
            null,
            -0.00011274011267036697,
            0.00022554099445200052,
            null,
            -0.00011273999252960475,
            0.9998871988751811,
            null,
            0.9998871988751811,
            0.00022554148210253975,
            null,
            0.00022554148210253975,
            -0.00011273999252960475,
            null
           ],
           "z": [
            0.05406607114813838,
            0.000004854578831395318,
            null,
            0.000004854578831395318,
            0.000011979519432482985,
            null,
            0.000011979519432482985,
            0.05406607114813838,
            null,
            -0.1300121317497631,
            -0.13000485454471314,
            null,
            -0.13000485454471314,
            -0.18406591895192653,
            null,
            -0.18406591895192653,
            -0.1300121317497631,
            null
           ]
          },
          {
           "i": [
            0,
            3
           ],
           "j": [
            1,
            4
           ],
           "k": [
            2,
            5
           ],
           "name": "Faces",
           "type": "mesh3d",
           "x": {
            "bdata": "RN5YwXF6Qj8N6oyDpPjvP99II1JFjy0/Qwj7u60D8D+mwvWzsP3/Pw8E5oUT//8/",
            "dtype": "f8"
           },
           "y": {
            "bdata": "PP4wY9yNHb+fWeFj5o8tPw26SnAT/+8/zDI8lOqPLT8mhc5S2o0dv1V0W3AT/+8/",
            "dtype": "f8"
           },
           "z": {
            "bdata": "fWoonXQf6T7XFc9OjK6rP1tz4HeQXNQ+gnUa13iPx7+nZ/nOPKTAv62eS8P/o8C/",
            "dtype": "f8"
           }
          }
         ],
         "layout": {
          "annotations": [
           {
            "showarrow": false,
            "text": "Time: 0.45s (Step: 46/100)",
            "x": 0.05,
            "xref": "paper",
            "y": 0.95,
            "yref": "paper"
           }
          ]
         },
         "name": "45"
        },
        {
         "data": [
          {
           "name": "Free Nodes",
           "type": "scatter3d",
           "x": {
            "bdata": "GphovtbtQz9ixDsZGvjvP87yXAlG4S8/NJz48PID8D+phYBHgv3/Py3k4PUA//8/",
            "dtype": "f8"
           },
           "y": {
            "bdata": "mY7vF5nfH79dAIRL8+EvP4gKYN0A/+8/SILzo/fhLz8Wh8v0lt8fvxtkcd0A/+8/",
            "dtype": "f8"
           },
           "z": {
            "bdata": "MZQ39CT06z41Oim52LSsP8kkGc2IotY+K5/d7+J0yL8BjQo4H0jBv1wxeFnbR8G/",
            "dtype": "f8"
           }
          },
          {
           "name": "Fixed Nodes",
           "type": "scatter3d",
           "x": [],
           "y": [],
           "z": []
          },
          {
           "name": "Edges",
           "type": "scatter3d",
           "x": [
            0.999035882267105,
            0.00024322490633634511,
            null,
            0.00024322490633634511,
            0.0006081865838651918,
            null,
            0.0006081865838651918,
            0.999035882267105,
            null,
            1.9993918221519869,
            1.9997567753437224,
            null,
            1.9997567753437224,
            1.000964108746996,
            null,
            1.000964108746996,
            1.9993918221519869,
            null
           ],
           "y": [
            0.00024324507626971833,
            0.9998783420308692,
            null,
            0.9998783420308692,
            -0.0001215874853950867,
            null,
            -0.0001215874853950867,
            0.00024324507626971833,
            null,
            -0.00012158736098968575,
            0.9998783421571064,
            null,
            0.9998783421571064,
            0.0002432455821468496,
            null,
            0.0002432455821468496,
            -0.00012158736098968575,
            null
           ],
           "z": [
            0.05606724987284332,
            0.000005396580677060819,
            null,
            0.000005396580677060819,
            0.000013329357563438435,
            null,
            0.000013329357563438435,
            0.05606724987284332,
            null,
            -0.13501348720919995,
            -0.13500539654377064,
            null,
            -0.13500539654377064,
            -0.19106709205811376,
            null,
            -0.19106709205811376,
            -0.13501348720919995,
            null
           ]
          },
          {
           "i": [
            0,
            3
           ],
           "j": [
            1,
            4
           ],
           "k": [
            2,
            5
           ],
           "name": "Faces",
           "type": "mesh3d",
           "x": {
            "bdata": "GphovtbtQz9ixDsZGvjvP87yXAlG4S8/NJz48PID8D+phYBHgv3/Py3k4PUA//8/",
            "dtype": "f8"
           },
           "y": {
            "bdata": "mY7vF5nfH79dAIRL8+EvP4gKYN0A/+8/SILzo/fhLz8Wh8v0lt8fvxtkcd0A/+8/",
            "dtype": "f8"
           },
           "z": {
            "bdata": "MZQ39CT06z41Oim52LSsP8kkGc2IotY+K5/d7+J0yL8BjQo4H0jBv1wxeFnbR8G/",
            "dtype": "f8"
           }
          }
         ],
         "layout": {
          "annotations": [
           {
            "showarrow": false,
            "text": "Time: 0.46s (Step: 47/100)",
            "x": 0.05,
            "xref": "paper",
            "y": 0.95,
            "yref": "paper"
           }
          ]
         },
         "name": "46"
        },
        {
         "data": [
          {
           "name": "Free Nodes",
           "type": "scatter3d",
           "x": {
            "bdata": "7cUjzTxvRT/+Q5bIivfvP74vyt/TJDE/K9EemToE8D8MoOoaUv3/P+XL07Lt/v8/",
            "dtype": "f8"
           },
           "y": {
            "bdata": "fjH5ANcjIb+yB9vtMCUxPy98HJft/u8/hf8jLjMlMT8xMxbm1SMhvy11Lpft/u8/",
            "dtype": "f8"
           },
           "z": {
            "bdata": "j4T9TfP87j4neoaUILutP9rYcbkkEtk+tqTi5Etayb8fv5JxAuzBv2Xb60K368G/",
            "dtype": "f8"
           }
          },
          {
           "name": "Fixed Nodes",
           "type": "scatter3d",
           "x": [],
           "y": [],
           "z": []
          },
          {
           "name": "Edges",
           "type": "scatter3d",
           "x": [
            0.998967544337688,
            0.00026159451207585424,
            null,
            0.00026159451207585424,
            0.0006541296845893864,
            null,
            0.0006541296845893864,
            0.998967544337688,
            null,
            1.9993458796907388,
            1.9997384057467056,
            null,
            1.9997384057467056,
            1.0010324460282145,
            null,
            1.0010324460282145,
            1.9993458796907388,
            null
           ],
           "y": [
            0.00026161617811848025,
            0.999869151248168,
            null,
            0.999869151248168,
            -0.0001307678180516684,
            null,
            -0.0001307678180516684,
            0.00026161617811848025,
            null,
            -0.00013076768940969424,
            0.9998691513789361,
            null,
            0.9998691513789361,
            0.0002616167022466631,
            null,
            0.0002616167022466631,
            -0.00013076768940969424,
            null
           ],
           "z": [
            0.05806829274228092,
            0.000005977361886447101,
            null,
            0.000005977361886447101,
            0.000014776271598017955,
            null,
            0.000014776271598017955,
            0.05806829274228092,
            null,
            -0.14001493974273502,
            -0.14000597732202916,
            null,
            -0.14000597732202916,
            -0.19806812931100176,
            null,
            -0.19806812931100176,
            -0.14001493974273502,
            null
           ]
          },
          {
           "i": [
            0,
            3
           ],
           "j": [
            1,
            4
           ],
           "k": [
            2,
            5
           ],
           "name": "Faces",
           "type": "mesh3d",
           "x": {
            "bdata": "7cUjzTxvRT/+Q5bIivfvP74vyt/TJDE/K9EemToE8D8MoOoaUv3/P+XL07Lt/v8/",
            "dtype": "f8"
           },
           "y": {
            "bdata": "fjH5ANcjIb+yB9vtMCUxPy98HJft/u8/hf8jLjMlMT8xMxbm1SMhvy11Lpft/u8/",
            "dtype": "f8"
           },
           "z": {
            "bdata": "j4T9TfP87j4neoaUILutP9rYcbkkEtk+tqTi5Etayb8fv5JxAuzBv2Xb60K368G/",
            "dtype": "f8"
           }
          }
         ],
         "layout": {
          "annotations": [
           {
            "showarrow": false,
            "text": "Time: 0.47s (Step: 48/100)",
            "x": 0.05,
            "xref": "paper",
            "y": 0.95,
            "yref": "paper"
           }
          ]
         },
         "name": "47"
        },
        {
         "data": [
          {
           "name": "Free Nodes",
           "type": "scatter3d",
           "x": {
            "bdata": "OUG3m6P+Rj/eOsKR9vbvPwgpe680ZDI/Rb5atIQE8D8hTD4uIP3/P8hpx7zZ/v8/",
            "dtype": "f8"
           },
           "y": {
            "bdata": "2E8krQxjIr9IhR6CmGQyPyPbgp3Z/u8/8yWA1ppkMj+XdwGJC2Miv69zlZ3Z/u8/",
            "dtype": "f8"
           },
           "z": {
            "bdata": "l4DTwdUd8T4Mbre4Y8GuP5MUhXfSrNs+wbUdrLM/yr/0WcGC5o/CvzcRg4KTj8K/",
            "dtype": "f8"
           }
          },
          {
           "name": "Fixed Nodes",
           "type": "scatter3d",
           "x": [],
           "y": [],
           "z": []
          },
          {
           "name": "Edges",
           "type": "scatter3d",
           "x": [
            0.9988968703126735,
            0.0002806309343951351,
            null,
            0.0002806309343951351,
            0.0007017420643311906,
            null,
            0.0007017420643311906,
            0.9988968703126735,
            null,
            1.999298267973025,
            1.9997193693330804,
            null,
            1.9997193693330804,
            1.0011031193825073,
            null,
            1.0011031193825073,
            1.999298267973025,
            null
           ],
           "y": [
            0.00028065417620311674,
            0.9998596264257212,
            null,
            0.9998596264257212,
            -0.00014028100719853834,
            null,
            -0.00014028100719853834,
            0.00028065417620311674,
            null,
            -0.00014028087435041518,
            0.9998596265610241,
            null,
            0.9998596265610241,
            0.00028065471860880194,
            null,
            0.00028065471860880194,
            -0.00014028087435041518,
            null
           ],
           "z": [
            0.060069195078281096,
            0.000006598254792604695,
            null,
            0.000006598254792604695,
            0.000016323607373248073,
            null,
            0.000016323607373248073,
            0.060069195078281096,
            null,
            -0.14501649269614314,
            -0.14500659821181625,
            null,
            -0.14500659821181625,
            -0.20506902603248814,
            null,
            -0.20506902603248814,
            -0.14501649269614314,
            null
           ]
          },
          {
           "i": [
            0,
            3
           ],
           "j": [
            1,
            4
           ],
           "k": [
            2,
            5
           ],
           "name": "Faces",
           "type": "mesh3d",
           "x": {
            "bdata": "OUG3m6P+Rj/eOsKR9vbvPwgpe680ZDI/Rb5atIQE8D8hTD4uIP3/P8hpx7zZ/v8/",
            "dtype": "f8"
           },
           "y": {
            "bdata": "2E8krQxjIr9IhR6CmGQyPyPbgp3Z/u8/8yWA1ppkMj+XdwGJC2Miv69zlZ3Z/u8/",
            "dtype": "f8"
           },
           "z": {
            "bdata": "l4DTwdUd8T4Mbre4Y8GuP5MUhXfSrNs+wbUdrLM/yr/0WcGC5o/CvzcRg4KTj8K/",
            "dtype": "f8"
           }
          }
         ],
         "layout": {
          "annotations": [
           {
            "showarrow": false,
            "text": "Time: 0.48s (Step: 49/100)",
            "x": 0.05,
            "xref": "paper",
            "y": 0.95,
            "yref": "paper"
           }
          ]
         },
         "name": "48"
        },
        {
         "data": [
          {
           "name": "Free Nodes",
           "type": "scatter3d",
           "x": {
            "bdata": "tFfo1QqcSD9SreZ0XfbvP3xJFOTErjM/deGYQtEE8D8rEYaB7Pz/P6C4xBPF/v8/",
            "dtype": "f8"
           },
           "y": {
            "bdata": "y8HjpGytI79zIKfVL68zP7kKlvDE/u8/HkgpPjKvMz+SOpN3a60jv/lCqfDE/u8/",
            "dtype": "f8"
           },
           "z": {
            "bdata": "bakytQzZ8j5eBo79ocevP1MO4R4AdN4+8VeDOxoly7+EqcVyyzPDvygBGhtwM8O/",
            "dtype": "f8"
           }
          },
          {
           "name": "Fixed Nodes",
           "type": "scatter3d",
           "x": [],
           "y": [],
           "z": []
          },
          {
           "name": "Edges",
           "type": "scatter3d",
           "x": [
            0.9988238604759465,
            0.0003003340426214402,
            null,
            0.0003003340426214402,
            0.0007510235698784313,
            null,
            0.0007510235698784313,
            0.9988238604759465,
            null,
            1.999248987152053,
            1.9996996662335178,
            null,
            1.9996996662335178,
            1.0011761285259955,
            null,
            1.0011761285259955,
            1.999248987152053,
            null
           ],
           "y": [
            0.0003003589423795701,
            0.999849767584542,
            null,
            0.999849767584542,
            -0.00015012694570472185,
            null,
            -0.00015012694570472185,
            0.0003003589423795701,
            null,
            -0.0001501268086827224,
            0.9998497677243839,
            null,
            0.9998497677243839,
            0.00030035950309070965,
            null,
            0.00030035950309070965,
            -0.0001501268086827224,
            null
           ],
           "z": [
            0.062069952203285025,
            0.000007260591230521027,
            null,
            0.000007260591230521027,
            0.000017974710612969473,
            null,
            0.000017974710612969473,
            0.062069952203285025,
            null,
            -0.15001814941508596,
            -0.15000726054496138,
            null,
            -0.15000726054496138,
            -0.21206977754508174,
            null,
            -0.21206977754508174,
            -0.15001814941508596,
            null
           ]
          },
          {
           "i": [
            0,
            3
           ],
           "j": [
            1,
            4
           ],
           "k": [
            2,
            5
           ],
           "name": "Faces",
           "type": "mesh3d",
           "x": {
            "bdata": "tFfo1QqcSD9SreZ0XfbvP3xJFOTErjM/deGYQtEE8D8rEYaB7Pz/P6C4xBPF/v8/",
            "dtype": "f8"
           },
           "y": {
            "bdata": "y8HjpGytI79zIKfVL68zP7kKlvDE/u8/HkgpPjKvMz+SOpN3a60jv/lCqfDE/u8/",
            "dtype": "f8"
           },
           "z": {
            "bdata": "bakytQzZ8j5eBo79ocevP1MO4R4AdN4+8VeDOxoly7+EqcVyyzPDvygBGhtwM8O/",
            "dtype": "f8"
           }
          }
         ],
         "layout": {
          "annotations": [
           {
            "showarrow": false,
            "text": "Time: 0.49s (Step: 50/100)",
            "x": 0.05,
            "xref": "paper",
            "y": 0.95,
            "yref": "paper"
           }
          ]
         },
         "name": "49"
        },
        {
         "data": [
          {
           "name": "Free Nodes",
           "type": "scatter3d",
           "x": {
            "bdata": "maIUJXJHSj/90Styv/XvP1dLJemDBDU/hx/FQyAF8D9kw8wUt/z/P2j/1Lev/v8/",
            "dtype": "f8"
           },
           "y": {
            "bdata": "Q8CE9PUCJb8SZcdW9gQ1P3MFWZCv/u8/dpJy0/gENT8CFBq+9AIlv4/dbJCv/u8/",
            "dtype": "f8"
           },
           "z": {
            "bdata": "CKKzaQSx9D7Gym6d7WawP9MdbdGNtOA+Z2kIiX8KzL/K6c5IsdfDvx2RjA9N18O/",
            "dtype": "f8"
           }
          },
          {
           "name": "Fixed Nodes",
           "type": "scatter3d",
           "x": [],
           "y": [],
           "z": []
          },
          {
           "name": "Edges",
           "type": "scatter3d",
           "x": [
            0.9987485151200982,
            0.0003207037017506817,
            null,
            0.0003207037017506817,
            0.000801974043644088,
            null,
            0.000801974043644088,
            0.9987485151200982,
            null,
            1.9991980373854057,
            1.99967929658302,
            null,
            1.99967929658302,
            1.0012514731660944,
            null,
            1.0012514731660944,
            1.9991980373854057,
            null
           ],
           "y": [
            0.0003207303441548774,
            0.9998395747463021,
            null,
            0.9998395747463021,
            -0.0001603055227490398,
            null,
            -0.0001603055227490398,
            0.0003207303441548774,
            null,
            -0.00016030538158787194,
            0.9998395748906875,
            null,
            0.9998395748906875,
            0.0003207309232016517,
            null,
            0.0003207309232016517,
            -0.00016030538158787194,
            null
           ],
           "z": [
            0.06407055944036263,
            0.000007965702520386808,
            null,
            0.000007965702520386808,
            0.000019732926927059177,
            null,
            0.000019732926927059177,
            0.06407055944036263,
            null,
            -0.15501991324511116,
            -0.15500796565277933,
            null,
            -0.15500796565277933,
            -0.21907037917192015,
            null,
            -0.21907037917192015,
            -0.15501991324511116,
            null
           ]
          },
          {
           "i": [
            0,
            3
           ],
           "j": [
            1,
            4
           ],
           "k": [
            2,
            5
           ],
           "name": "Faces",
           "type": "mesh3d",
           "x": {
            "bdata": "maIUJXJHSj/90Styv/XvP1dLJemDBDU/hx/FQyAF8D9kw8wUt/z/P2j/1Lev/v8/",
            "dtype": "f8"
           },
           "y": {
            "bdata": "Q8CE9PUCJb8SZcdW9gQ1P3MFWZCv/u8/dpJy0/gENT8CFBq+9AIlv4/dbJCv/u8/",
            "dtype": "f8"
           },
           "z": {
            "bdata": "CKKzaQSx9D7Gym6d7WawP9MdbdGNtOA+Z2kIiX8KzL/K6c5IsdfDvx2RjA9N18O/",
            "dtype": "f8"
           }
          }
         ],
         "layout": {
          "annotations": [
           {
            "showarrow": false,
            "text": "Time: 0.50s (Step: 51/100)",
            "x": 0.05,
            "xref": "paper",
            "y": 0.95,
            "yref": "paper"
           }
          ]
         },
         "name": "50"
        },
        {
         "data": [
          {
           "name": "Free Nodes",
           "type": "scatter3d",
           "x": {
            "bdata": "rtQxMNkATD/IEbuJHPXvPyKCeyVxZTY/JcTKt3EF8D8BhB3of/z/P0DRAamZ/v8/",
            "dtype": "f8"
           },
           "y": {
            "bdata": "ND83oKdjJr9XLwpv62U2P/TcznyZ/u8/U37n/+1lNj9iZcdgpmMmvxhV43yZ/u8/",
            "dtype": "f8"
           },
           "z": {
            "bdata": "kvfoxaKm9j7mbD2kB+qwP1DWr2jJRuI+NiOiiuPvzL+aRgwMmHvEvy9ctmIqe8S/",
            "dtype": "f8"
           }
          },
          {
           "name": "Fixed Nodes",
           "type": "scatter3d",
           "x": [],
           "y": [],
           "z": []
          },
          {
           "name": "Edges",
           "type": "scatter3d",
           "x": [
            0.9986708345464246,
            0.00034173977245014104,
            null,
            0.00034173977245014104,
            0.0008545933236649061,
            null,
            0.0008545933236649061,
            0.9986708345464246,
            null,
            1.999145418835042,
            1.999658260520917,
            null,
            1.999658260520917,
            1.001329153001515,
            null,
            1.001329153001515,
            1.999145418835042,
            null
           ],
           "y": [
            0.0003417682446886691,
            0.9998290479333307,
            null,
            0.9998290479333307,
            -0.00017081662382034126,
            null,
            -0.00017081662382034126,
            0.0003417682446886691,
            null,
            -0.0001708164785572493,
            0.9998290480822645,
            null,
            0.9998290480822645,
            0.00034176884210343933,
            null,
            0.00034176884210343933,
            -0.0001708164785572493,
            null
           ],
           "z": [
            0.06607101211323005,
            0.000008714919450962495,
            null,
            0.000008714919450962495,
            0.00002160160181063177,
            null,
            0.00002160160181063177,
            0.06607101211323005,
            null,
            -0.1600217875316517,
            -0.16000871486605336,
            null,
            -0.16000871486605336,
            -0.22607082623678715,
            null,
            -0.22607082623678715,
            -0.1600217875316517,
            null
           ]
          },
          {
           "i": [
            0,
            3
           ],
           "j": [
            1,
            4
           ],
           "k": [
            2,
            5
           ],
           "name": "Faces",
           "type": "mesh3d",
           "x": {
            "bdata": "rtQxMNkATD/IEbuJHPXvPyKCeyVxZTY/JcTKt3EF8D8BhB3of/z/P0DRAamZ/v8/",
            "dtype": "f8"
           },
           "y": {
            "bdata": "ND83oKdjJr9XLwpv62U2P/TcznyZ/u8/U37n/+1lNj9iZcdgpmMmvxhV43yZ/u8/",
            "dtype": "f8"
           },
           "z": {
            "bdata": "kvfoxaKm9j7mbD2kB+qwP1DWr2jJRuI+NiOiiuPvzL+aRgwMmHvEvy9ctmIqe8S/",
            "dtype": "f8"
           }
          }
         ],
         "layout": {
          "annotations": [
           {
            "showarrow": false,
            "text": "Time: 0.51s (Step: 52/100)",
            "x": 0.05,
            "xref": "paper",
            "y": 0.95,
            "yref": "paper"
           }
          ]
         },
         "name": "51"
        },
        {
         "data": [
          {
           "name": "Free Nodes",
           "type": "scatter3d",
           "x": {
            "bdata": "0Y3Nmz/ITT/gB7+7dPTvP91AIvuL0Tc/1YGUnsUF8D85wYP7Rvz/P2sNVeeC/v8/",
            "dtype": "f8"
           },
           "y": {
            "bdata": "PK8NpIDPJ7+StzKDDtI3P/y5+rWC/u8/3cJLKBHSNz9x465bf88nv1nSD7aC/u8/",
            "dtype": "f8"
           },
           "z": {
            "bdata": "VMtcrs26+D57Ax7/Hm2xP9j95qhp8eM+2BtGNkbVzb+F26zDfx/Fv1KwchcIH8W/",
            "dtype": "f8"
           }
          },
          {
           "name": "Fixed Nodes",
           "type": "scatter3d",
           "x": [],
           "y": [],
           "z": []
          },
          {
           "name": "Edges",
           "type": "scatter3d",
           "x": [
            0.9985908190649262,
            0.0003634421110598871,
            null,
            0.0003634421110598871,
            0.000908881243600163,
            null,
            0.000908881243600163,
            0.9985908190649262,
            null,
            1.9990911316672977,
            1.9996365581908673,
            null,
            1.9996365581908673,
            1.0014091677222627,
            null,
            1.0014091677222627,
            1.9990911316672977,
            null
           ],
           "y": [
            0.00036347250279333235,
            0.9998181871686138,
            null,
            0.9998181871686138,
            -0.0001816601307170709,
            null,
            -0.0001816601307170709,
            0.00036347250279333235,
            null,
            -0.00018165998139154816,
            0.9998181873221014,
            null,
            0.9998181873221014,
            0.00036347311861022,
            null,
            0.00036347311861022,
            -0.00018165998139154816,
            null
           ],
           "z": [
            0.0680713055462671,
            0.000009509572262865926,
            null,
            0.000009509572262865926,
            0.000023584080643245076,
            null,
            0.000023584080643245076,
            0.0680713055462671,
            null,
            -0.16502377562002493,
            -0.16500950951501864,
            null,
            -0.16500950951501864,
            -0.23307111406413017,
            null,
            -0.23307111406413017,
            -0.16502377562002493,
            null
           ]
          },
          {
           "i": [
            0,
            3
           ],
           "j": [
            1,
            4
           ],
           "k": [
            2,
            5
           ],
           "name": "Faces",
           "type": "mesh3d",
           "x": {
            "bdata": "0Y3Nmz/ITT/gB7+7dPTvP91AIvuL0Tc/1YGUnsUF8D85wYP7Rvz/P2sNVeeC/v8/",
            "dtype": "f8"
           },
           "y": {
            "bdata": "PK8NpIDPJ7+StzKDDtI3P/y5+rWC/u8/3cJLKBHSNz9x465bf88nv1nSD7aC/u8/",
            "dtype": "f8"
           },
           "z": {
            "bdata": "VMtcrs26+D57Ax7/Hm2xP9j95qhp8eM+2BtGNkbVzb+F26zDfx/Fv1KwchcIH8W/",
            "dtype": "f8"
           }
          }
         ],
         "layout": {
          "annotations": [
           {
            "showarrow": false,
            "text": "Time: 0.52s (Step: 53/100)",
            "x": 0.05,
            "xref": "paper",
            "y": 0.95,
            "yref": "paper"
           }
          ]
         },
         "name": "52"
        },
        {
         "data": [
          {
           "name": "Free Nodes",
           "type": "scatter3d",
           "x": {
            "bdata": "kCQNCqWdTz+1gWMIyPPvP+FfY8fTSDk/AXIM+BsG8D9MNgtPDPz/Pz/f2HJr/v8/",
            "dtype": "f8"
           },
           "y": {
            "bdata": "Sub8839GKb/rujzzXkk5P2Hc3ztr/u8/w9+brGFJOT9y7MaifkYpvyiV9Ttr/u8/",
            "dtype": "f8"
           },
           "z": {
            "bdata": "XiONBWvu+j4uaPyZM/CxP6hi4VElteU+pEnqgae6zr+8s992aMPFv/+LnDDmwsW/",
            "dtype": "f8"
           }
          },
          {
           "name": "Fixed Nodes",
           "type": "scatter3d",
           "x": [],
           "y": [],
           "z": []
          },
          {
           "name": "Edges",
           "type": "scatter3d",
           "x": [
            0.9985084689943081,
            0.000385810569594634,
            null,
            0.000385810569594634,
            0.0009648376327301578,
            null,
            0.0009648376327301578,
            0.9985084689943081,
            null,
            1.999035176052888,
            1.9996141897408533,
            null,
            1.9996141897408533,
            1.0014915170096403,
            null,
            1.0014915170096403,
            1.999035176052888,
            null
           ],
           "y": [
            0.00038584297293457634,
            0.9998069924757936,
            null,
            0.9998069924757936,
            -0.00019283592154710683,
            null,
            -0.00019283592154710683,
            0.00038584297293457634,
            null,
            -0.00019283576820136903,
            0.9998069926338404,
            null,
            0.9998069926338404,
            0.0003858436071904026,
            null,
            0.0003858436071904026,
            -0.00019283576820136903,
            null
           ],
           "z": [
            0.07007143506453481,
            0.00001035099063188942,
            null,
            0.00001035099063188942,
            0.00002568370868808193,
            null,
            0.00002568370868808193,
            0.07007143506453481,
            null,
            -0.1700258808554319,
            -0.17001035092934555,
            null,
            -0.17001035092934555,
            -0.2400712379790778,
            null,
            -0.2400712379790778,
            -0.1700258808554319,
            null
           ]
          },
          {
           "i": [
            0,
            3
           ],
           "j": [
            1,
            4
           ],
           "k": [
            2,
            5
           ],
           "name": "Faces",
           "type": "mesh3d",
           "x": {
            "bdata": "kCQNCqWdTz+1gWMIyPPvP+FfY8fTSDk/AXIM+BsG8D9MNgtPDPz/Pz/f2HJr/v8/",
            "dtype": "f8"
           },
           "y": {
            "bdata": "Sub8839GKb/rujzzXkk5P2Hc3ztr/u8/w9+brGFJOT9y7MaifkYpvyiV9Ttr/u8/",
            "dtype": "f8"
           },
           "z": {
            "bdata": "XiONBWvu+j4uaPyZM/CxP6hi4VElteU+pEnqgae6zr+8s992aMPFv/+LnDDmwsW/",
            "dtype": "f8"
           }
          }
         ],
         "layout": {
          "annotations": [
           {
            "showarrow": false,
            "text": "Time: 0.53s (Step: 54/100)",
            "x": 0.05,
            "xref": "paper",
            "y": 0.95,
            "yref": "paper"
           }
          ]
         },
         "name": "53"
        },
        {
         "data": [
          {
           "name": "Free Nodes",
           "type": "scatter3d",
           "x": {
            "bdata": "OL1WjYTAUD/rftVvFvPvP/f5x+JHyzo/9hQcxHQG8D+H67/iz/v/PyK+l0tT/v8/",
            "dtype": "f8"
           },
           "y": {
            "bdata": "sRLce6TIKr9w2Fwa3Ms6PwKbgQ5T/u8/7e4M6N7LOj/g+ucho8gqv2n0lw5T/u8/",
            "dtype": "f8"
           },
           "z": {
            "bdata": "gkzoq2BC/T5OOcVgRXOyP12T+A6zkuc+RgWFYwegz7/yydMsUmfGv9ibDrHEZsa/",
            "dtype": "f8"
           }
          },
          {
           "name": "Fixed Nodes",
           "type": "scatter3d",
           "x": [],
           "y": [],
           "z": []
          },
          {
           "name": "Edges",
           "type": "scatter3d",
           "x": [
            0.9984237846619782,
            0.0004088449957463653,
            null,
            0.0004088449957463653,
            0.0010224623159549983,
            null,
            0.0010224623159549983,
            0.9984237846619782,
            null,
            1.9989775521669075,
            1.999591155323181,
            null,
            1.999591155323181,
            1.0015762005362467,
            null,
            1.0015762005362467,
            1.9989775521669075,
            null
           ],
           "y": [
            0.0004088795052327237,
            0.9997954638791671,
            null,
            0.9997954638791671,
            -0.00020434387072767104,
            null,
            -0.00020434387072767104,
            0.0004088795052327237,
            null,
            -0.00020434371340623866,
            0.9997954640417791,
            null,
            0.9997954640417791,
            0.0004088801579660146,
            null,
            0.0004088801579660146,
            -0.00020434371340623866,
            null
           ],
           "z": [
            0.07207139599379284,
            0.000011240503652373905,
            null,
            0.000011240503652373905,
            0.000027903831091146993,
            null,
            0.000027903831091146993,
            0.07207139599379284,
            null,
            -0.17502810658295648,
            -0.175011240438123,
            null,
            -0.175011240438123,
            -0.24707119330745736,
            null,
            -0.24707119330745736,
            -0.17502810658295648,
            null
           ]
          },
          {
           "i": [
            0,
            3
           ],
           "j": [
            1,
            4
           ],
           "k": [
            2,
            5
           ],
           "name": "Faces",
           "type": "mesh3d",
           "x": {
            "bdata": "OL1WjYTAUD/rftVvFvPvP/f5x+JHyzo/9hQcxHQG8D+H67/iz/v/PyK+l0tT/v8/",
            "dtype": "f8"
           },
           "y": {
            "bdata": "sRLce6TIKr9w2Fwa3Ms6PwKbgQ5T/u8/7e4M6N7LOj/g+ucho8gqv2n0lw5T/u8/",
            "dtype": "f8"
           },
           "z": {
            "bdata": "gkzoq2BC/T5OOcVgRXOyP12T+A6zkuc+RgWFYwegz7/yydMsUmfGv9ibDrHEZsa/",
            "dtype": "f8"
           }
          }
         ],
         "layout": {
          "annotations": [
           {
            "showarrow": false,
            "text": "Time: 0.54s (Step: 55/100)",
            "x": 0.05,
            "xref": "paper",
            "y": 0.95,
            "yref": "paper"
           }
          ]
         },
         "name": "54"
        },
        {
         "data": [
          {
           "name": "Free Nodes",
           "type": "scatter3d",
           "x": {
            "bdata": "qFiBtTW5UT9fMUPyX/LvP53fGKHnWDw/5lGsAtAG8D9PNq62kfv/P31tnHE6/v8/",
            "dtype": "f8"
           },
           "y": {
            "bdata": "LHlkH+1VLL9hoQBPhVk8P8Fj4y06/u8/DCgNMYhZPD8n4My861UsvwJe+i06/u8/",
            "dtype": "f8"
           },
           "z": {
            "bdata": "V+7If5S3/z7B3mU/VPayPx2AenbJiuk+GYaG6LJC0L89CLjsPAvHv1I4o5ujCse/",
            "dtype": "f8"
           }
          },
          {
           "name": "Fixed Nodes",
           "type": "scatter3d",
           "x": [],
           "y": [],
           "z": []
          },
          {
           "name": "Edges",
           "type": "scatter3d",
           "x": [
            0.9983367664040478,
            0.0004325452328859338,
            null,
            0.0004325452328859338,
            0.0010817551137925294,
            null,
            0.0010817551137925294,
            0.9983367664040478,
            null,
            1.9989182601888336,
            1.9995674550944778,
            null,
            1.9995674550944778,
            1.001663217965978,
            null,
            1.001663217965978,
            1.9989182601888336,
            null
           ],
           "y": [
            0.00043258194546293675,
            0.999783601403685,
            null,
            0.999783601403685,
            -0.00021618384898487145,
            null,
            -0.00021618384898487145,
            0.00043258194546293675,
            null,
            -0.00021618368773501756,
            0.9997836015708688,
            null,
            0.9997836015708688,
            0.0004325826167145281,
            null,
            0.0004325826167145281,
            -0.00021618368773501756,
            null
           ],
           "z": [
            0.07407118366051703,
            0.000012179439820514442,
            null,
            0.000012179439820514442,
            0.000030247792880395922,
            null,
            0.000030247792880395922,
            0.07407118366051703,
            null,
            -0.18003045614756444,
            -0.18001217936984176,
            null,
            -0.18001217936984176,
            -0.2540709753758122,
            null,
            -0.2540709753758122,
            -0.18003045614756444,
            null
           ]
          },
          {
           "i": [
            0,
            3
           ],
           "j": [
            1,
            4
           ],
           "k": [
            2,
            5
           ],
           "name": "Faces",
           "type": "mesh3d",
           "x": {
            "bdata": "qFiBtTW5UT9fMUPyX/LvP53fGKHnWDw/5lGsAtAG8D9PNq62kfv/P31tnHE6/v8/",
            "dtype": "f8"
           },
           "y": {
            "bdata": "LHlkH+1VLL9hoQBPhVk8P8Fj4y06/u8/DCgNMYhZPD8n4My861UsvwJe+i06/u8/",
            "dtype": "f8"
           },
           "z": {
            "bdata": "V+7If5S3/z7B3mU/VPayPx2AenbJiuk+GYaG6LJC0L89CLjsPAvHv1I4o5ujCse/",
            "dtype": "f8"
           }
          }
         ],
         "layout": {
          "annotations": [
           {
            "showarrow": false,
            "text": "Time: 0.55s (Step: 56/100)",
            "x": 0.05,
            "xref": "paper",
            "y": 0.95,
            "yref": "paper"
           }
          ]
         },
         "name": "55"
        },
        {
         "data": [
          {
           "name": "Free Nodes",
           "type": "scatter3d",
           "x": {
            "bdata": "cg38yuW4Uj8b/duPpPHvP40jX1Gy8T0/73alsy0H8D8kueLKUfv/P7L88eQg/v8/",
            "dtype": "f8"
           },
           "y": {
            "bdata": "GzcxuljuLb/Mv87iWfI9P3u7CJog/u8/BgFE2VzyPT+ZeBJPV+4tv9JWIJog/u8/",
            "dtype": "f8"
           },
           "z": {
            "bdata": "d1C5LnYnAT/sjswhYHmzP7xWEwkfnus+jsE8YGG10L/5R7u9KK/Hv1xjNPOCrse/",
            "dtype": "f8"
           }
          },
          {
           "name": "Fixed Nodes",
           "type": "scatter3d",
           "x": [],
           "y": [],
           "z": []
          },
          {
           "name": "Edges",
           "type": "scatter3d",
           "x": [
            0.9982474145653301,
            0.00045691112006501154,
            null,
            0.00045691112006501154,
            0.0011427158423778752,
            null,
            0.0011427158423778752,
            0.9982474145653301,
            null,
            1.998857300302526,
            1.9995430892156887,
            null,
            1.9995430892156887,
            1.0017525689540283,
            null,
            1.0017525689540283,
            1.998857300302526,
            null
           ],
           "y": [
            0.00045695013505575306,
            0.9997714050749517,
            null,
            0.9997714050749517,
            -0.00022835572335327338,
            null,
            -0.00022835572335327338,
            0.00045695013505575306,
            null,
            -0.00022835555822537239,
            0.9997714052467137,
            null,
            0.9997714052467137,
            0.0004569508248693097,
            null,
            0.0004569508248693097,
            -0.00022835555822537239,
            null
           ],
           "z": [
            0.07607079339191686,
            0.00001316912701769133,
            null,
            0.00001316912701769133,
            0.00003271893896497705,
            null,
            0.00003271893896497705,
            0.07607079339191686,
            null,
            -0.18503293289410275,
            -0.18501316905237786,
            null,
            -0.18501316905237786,
            -0.2610705795114193,
            null,
            -0.2610705795114193,
            -0.18503293289410275,
            null
           ]
          },
          {
           "i": [
            0,
            3
           ],
           "j": [
            1,
            4
           ],
           "k": [
            2,
            5
           ],
           "name": "Faces",
           "type": "mesh3d",
           "x": {
            "bdata": "cg38yuW4Uj8b/duPpPHvP40jX1Gy8T0/73alsy0H8D8kueLKUfv/P7L88eQg/v8/",
            "dtype": "f8"
           },
           "y": {
            "bdata": "GzcxuljuLb/Mv87iWfI9P3u7CJog/u8/BgFE2VzyPT+ZeBJPV+4tv9JWIJog/u8/",
            "dtype": "f8"
           },
           "z": {
            "bdata": "d1C5LnYnAT/sjswhYHmzP7xWEwkfnus+jsE8YGG10L/5R7u9KK/Hv1xjNPOCrse/",
            "dtype": "f8"
           }
          }
         ],
         "layout": {
          "annotations": [
           {
            "showarrow": false,
            "text": "Time: 0.56s (Step: 57/100)",
            "x": 0.05,
            "xref": "paper",
            "y": 0.95,
            "yref": "paper"
           }
          ]
         },
         "name": "56"
        },
        {
         "data": [
          {
           "name": "Free Nodes",
           "type": "scatter3d",
           "x": {
            "bdata": "UOoHmpS/Uz9SeNBI5PDvP9Xu5D2nlT8/GTnv1o0H8D+rY2ofEPv/PxTHo6UG/v8/",
            "dtype": "f8"
           },
           "y": {
            "bdata": "eHe/H+aRL78gYqciWZY/P/099VIG/u8/OUySLVyWPz9sgjes5JEvv6t6DVMG/u8/",
            "dtype": "f8"
           },
           "z": {
            "bdata": "FdqGD6eEAj+iU+jzaPyzPwcVODFqze0+OPzgEw8o0b+pUQynFVPIvwjGm7piUsi/",
            "dtype": "f8"
           }
          },
          {
           "name": "Fixed Nodes",
           "type": "scatter3d",
           "x": [],
           "y": [],
           "z": []
          },
          {
           "name": "Edges",
           "type": "scatter3d",
           "x": [
            0.99815572949934,
            0.0004819424920190334,
            null,
            0.0004819424920190334,
            0.0012053443134606608,
            null,
            0.0012053443134606608,
            0.99815572949934,
            null,
            1.9987946726962302,
            1.9995180578520761,
            null,
            1.9995180578520761,
            1.0018442531468905,
            null,
            1.0018442531468905,
            1.9987946726962302,
            null
           ],
           "y": [
            0.0004819839110985786,
            0.9997588749192229,
            null,
            0.9997588749192229,
            -0.00024085935717626703,
            null,
            -0.00024085935717626703,
            0.0004819839110985786,
            null,
            -0.00024085918822349132,
            0.9997588750955705,
            null,
            0.9997588750955705,
            0.00048198461952004033,
            null,
            0.00048198461952004033,
            -0.00024085918822349132,
            null
           ],
           "z": [
            0.07807022051595294,
            0.000014210892493880205,
            null,
            0.000014210892493880205,
            0.00003532061413429405,
            null,
            0.00003532061413429405,
            0.07807022051595294,
            null,
            -0.19003554016729865,
            -0.19001421081297587,
            null,
            -0.19001421081297587,
            -0.26807000104230694,
            null,
            -0.26807000104230694,
            -0.19003554016729865,
            null
           ]
          },
          {
           "i": [
            0,
            3
           ],
           "j": [
            1,
            4
           ],
           "k": [
            2,
            5
           ],
           "name": "Faces",
           "type": "mesh3d",
           "x": {
            "bdata": "UOoHmpS/Uz9SeNBI5PDvP9Xu5D2nlT8/GTnv1o0H8D+rY2ofEPv/PxTHo6UG/v8/",
            "dtype": "f8"
           },
           "y": {
            "bdata": "eHe/H+aRL78gYqciWZY/P/099VIG/u8/OUySLVyWPz9sgjes5JEvv6t6DVMG/u8/",
            "dtype": "f8"
           },
           "z": {
            "bdata": "FdqGD6eEAj+iU+jzaPyzPwcVODFqze0+OPzgEw8o0b+pUQynFVPIvwjGm7piUsi/",
            "dtype": "f8"
           }
          }
         ],
         "layout": {
          "annotations": [
           {
            "showarrow": false,
            "text": "Time: 0.57s (Step: 58/100)",
            "x": 0.05,
            "xref": "paper",
            "y": 0.95,
            "yref": "paper"
           }
          ]
         },
         "name": "57"
        },
        {
         "data": [
          {
           "name": "Free Nodes",
           "type": "scatter3d",
           "x": {
            "bdata": "CE6x7UHNVD9ca1IdH/DvP4YCG9ZiokA/XbRwbPAH8D+xclK0zPr/P91zvbPr/f8/",
            "dtype": "f8"
           },
           "y": {
            "bdata": "7we3DUqgML/WKVIrwaJAP/udrFjr/e8/2TYJu8KiQD9RIc5PSaAwv0V8xVjr/e8/",
            "dtype": "f8"
           },
           "z": {
            "bdata": "8bpRzs/zAz8RD6mhbn+0PxMxSKGwDPA+YjNv/rua0b/b3NmvA/fIvzOusvRC9si/",
            "dtype": "f8"
           }
          },
          {
           "name": "Fixed Nodes",
           "type": "scatter3d",
           "x": [],
           "y": [],
           "z": []
          },
          {
           "name": "Edges",
           "type": "scatter3d",
           "x": [
            0.9980617115682935,
            0.0005076391791690317,
            null,
            0.0005076391791690317,
            0.0012696403344038005,
            null,
            0.0012696403344038005,
            0.9980617115682935,
            null,
            1.998730377562577,
            1.999492361173217,
            null,
            1.999492361173217,
            1.0019382701823567,
            null,
            1.0019382701823567,
            1.998730377562577,
            null
           ],
           "y": [
            0.0005076831063360275,
            0.9997460109634057,
            null,
            0.9997460109634057,
            -0.0002536946101053807,
            null,
            -0.0002536946101053807,
            0.0005076831063360275,
            null,
            -0.00025369443738345205,
            0.9997460111443465,
            null,
            0.9997460111443465,
            0.0005076838334134539,
            null,
            0.0005076838334134539,
            -0.00025369443738345205,
            null
           ],
           "z": [
            0.08006946036135455,
            0.00001530606285098195,
            null,
            0.00001530606285098195,
            0.00003805616305717862,
            null,
            0.00003805616305717862,
            0.08006946036135455,
            null,
            -0.1950382813117589,
            -0.19501530597823233,
            null,
            -0.19501530597823233,
            -0.2750692352972718,
            null,
            -0.2750692352972718,
            -0.1950382813117589,
            null
           ]
          },
          {
           "i": [
            0,
            3
           ],
           "j": [
            1,
            4
           ],
           "k": [
            2,
            5
           ],
           "name": "Faces",
           "type": "mesh3d",
           "x": {
            "bdata": "CE6x7UHNVD9ca1IdH/DvP4YCG9ZiokA/XbRwbPAH8D+xclK0zPr/P91zvbPr/f8/",
            "dtype": "f8"
           },
           "y": {
            "bdata": "7we3DUqgML/WKVIrwaJAP/udrFjr/e8/2TYJu8KiQD9RIc5PSaAwv0V8xVjr/e8/",
            "dtype": "f8"
           },
           "z": {
            "bdata": "8bpRzs/zAz8RD6mhbn+0PxMxSKGwDPA+YjNv/rua0b/b3NmvA/fIvzOusvRC9si/",
            "dtype": "f8"
           }
          }
         ],
         "layout": {
          "annotations": [
           {
            "showarrow": false,
            "text": "Time: 0.58s (Step: 59/100)",
            "x": 0.05,
            "xref": "paper",
            "y": 0.95,
            "yref": "paper"
           }
          ]
         },
         "name": "58"
        },
        {
         "data": [
          {
           "name": "Free Nodes",
           "type": "scatter3d",
           "x": {
            "bdata": "M9jPj+3hVT+v0JQNVe/vP6EekG6Gf0E/pWsQdFUI8D86cKiJh/r/PyD2Sg/Q/f8/",
            "dtype": "f8"
           },
           "y": {
            "bdata": "KY8+uDB9Mb98gwxh6n9BPwilMqvP/e8/bmcM++t/QT+jbUH2L30xvzUlTKvP/e8/",
            "dtype": "f8"
           },
           "z": {
            "bdata": "s0sNVmN1BT+tgP8WcQK1P7MksDxdQfE+qZvjGmgN0r8DkFLf8prJvy8MUqQjmsm/",
            "dtype": "f8"
           }
          },
          {
           "name": "Fixed Nodes",
           "type": "scatter3d",
           "x": [],
           "y": [],
           "z": []
          },
          {
           "name": "Edges",
           "type": "scatter3d",
           "x": [
            0.9979653611431071,
            0.0005340010076233145,
            null,
            0.0005340010076233145,
            0.0013356037081826532,
            null,
            0.0013356037081826532,
            0.9979653611431071,
            null,
            1.9986644150985868,
            1.9994659993529993,
            null,
            1.9994659993529993,
            1.0020346196895187,
            null,
            1.0020346196895187,
            1.9986644150985868,
            null
           ],
           "y": [
            0.0005340475491700659,
            0.9997328132350569,
            null,
            0.9997328132350569,
            -0.00026686133809959933,
            null,
            -0.00026686133809959933,
            0.0005340475491700659,
            null,
            -0.0002668611616678201,
            0.9997328134205988,
            null,
            0.9997328134205988,
            0.0005340482949549427,
            null,
            0.0005340482949549427,
            -0.0002668611616678201,
            null
           ],
           "z": [
            0.08206850825763708,
            0.000016455964026139326,
            null,
            0.000016455964026139326,
            0.000040928930281090326,
            null,
            0.000040928930281090326,
            0.08206850825763708,
            null,
            -0.20004115967196875,
            -0.2000164558740791,
            null,
            -0.2000164558740791,
            -0.28206827760589676,
            null,
            -0.28206827760589676,
            -0.20004115967196875,
            null
           ]
          },
          {
           "i": [
            0,
            3
           ],
           "j": [
            1,
            4
           ],
           "k": [
            2,
            5
           ],
           "name": "Faces",
           "type": "mesh3d",
           "x": {
            "bdata": "M9jPj+3hVT+v0JQNVe/vP6EekG6Gf0E/pWsQdFUI8D86cKiJh/r/PyD2Sg/Q/f8/",
            "dtype": "f8"
           },
           "y": {
            "bdata": "KY8+uDB9Mb98gwxh6n9BPwilMqvP/e8/bmcM++t/QT+jbUH2L30xvzUlTKvP/e8/",
            "dtype": "f8"
           },
           "z": {
            "bdata": "s0sNVmN1BT+tgP8WcQK1P7MksDxdQfE+qZvjGmgN0r8DkFLf8prJvy8MUqQjmsm/",
            "dtype": "f8"
           }
          }
         ],
         "layout": {
          "annotations": [
           {
            "showarrow": false,
            "text": "Time: 0.59s (Step: 60/100)",
            "x": 0.05,
            "xref": "paper",
            "y": 0.95,
            "yref": "paper"
           }
          ]
         },
         "name": "59"
        },
        {
         "data": [
          {
           "name": "Free Nodes",
           "type": "scatter3d",
           "x": {
            "bdata": "vy4GSZf9Vj/Z1MsZhu7vP6JHWgY+YkI/z0i07bwI8D9/M3qfQPr/P8WMWLiz/f8/",
            "dtype": "f8"
           },
           "y": {
            "bdata": "rTUHbaZfMr8AmcnRp2JCP4ozi0qz/e8/MNEZdqliQj+mPQenpV8yv+dVpUqz/e8/",
            "dtype": "f8"
           },
           "z": {
            "bdata": "zVSZkNQJBz8fSt0/cIW1PyHA+fwVhfI+NqI6ZBOA0r9iAKU84z7Kv2hwUswEPsq/",
            "dtype": "f8"
           }
          },
          {
           "name": "Fixed Nodes",
           "type": "scatter3d",
           "x": [],
           "y": [],
           "z": []
          },
          {
           "name": "Edges",
           "type": "scatter3d",
           "x": [
            0.9978666786033968,
            0.0005610277991812027,
            null,
            0.0005610277991812027,
            0.0014032342333817752,
            null,
            0.0014032342333817752,
            0.9978666786033968,
            null,
            1.9985967855056683,
            1.999438972569622,
            null,
            1.999438972569622,
            1.0021333012887685,
            null,
            1.0021333012887685,
            1.9985967855056683,
            null
           ],
           "y": [
            0.0005610770636621798,
            0.9997192817623823,
            null,
            0.9997192817623823,
            -0.00028035939342604504,
            null,
            -0.00028035939342604504,
            0.0005610770636621798,
            null,
            -0.00028035921334620473,
            0.9997192819525339,
            null,
            0.9997192819525339,
            0.000561077828207723,
            null,
            0.000561077828207723,
            -0.00028035921334620473,
            null
           ],
           "z": [
            0.08406735953511955,
            0.000017661921275225035,
            null,
            0.000017661921275225035,
            0.00004394226023111403,
            null,
            0.00004394226023111403,
            0.08406735953511955,
            null,
            -0.20504417859229124,
            -0.20501766182576664,
            null,
            -0.20501766182576664,
            -0.2890671232985683,
            null,
            -0.2890671232985683,
            -0.20504417859229124,
            null
           ]
          },
          {
           "i": [
            0,
            3
           ],
           "j": [
            1,
            4
           ],
           "k": [
            2,
            5
           ],
           "name": "Faces",
           "type": "mesh3d",
           "x": {
            "bdata": "vy4GSZf9Vj/Z1MsZhu7vP6JHWgY+YkI/z0i07bwI8D9/M3qfQPr/P8WMWLiz/f8/",
            "dtype": "f8"
           },
           "y": {
            "bdata": "rTUHbaZfMr8AmcnRp2JCP4ozi0qz/e8/MNEZdqliQj+mPQenpV8yv+dVpUqz/e8/",
            "dtype": "f8"
           },
           "z": {
            "bdata": "zVSZkNQJBz8fSt0/cIW1PyHA+fwVhfI+NqI6ZBOA0r9iAKU84z7Kv2hwUswEPsq/",
            "dtype": "f8"
           }
          }
         ],
         "layout": {
          "annotations": [
           {
            "showarrow": false,
            "text": "Time: 0.60s (Step: 61/100)",
            "x": 0.05,
            "xref": "paper",
            "y": 0.95,
            "yref": "paper"
           }
          ]
         },
         "name": "60"
        },
        {
         "data": [
          {
           "name": "Free Nodes",
           "type": "scatter3d",
           "x": {
            "bdata": "9uvB4D4gWD961ixCsu3vP2vFIzmJSkM/sZxB2SYJ8D8C4dX19/n/P3XC8q6W/f8/",
            "dtype": "f8"
           },
           "y": {
            "bdata": "XG2ShapHM7+CaG0a+UpDP7BAujaW/e8/deQVyfpKQz8aBKK7qUczv40F1TaW/e8/",
            "dtype": "f8"
           },
           "z": {
            "bdata": "mjHAZpaxCD8z9DQIbAi2PzCXA+g12PM+++1w1b3y0r/esf/O1OLKvxQJjG/m4cq/",
            "dtype": "f8"
           }
          },
          {
           "name": "Fixed Nodes",
           "type": "scatter3d",
           "x": [],
           "y": [],
           "z": []
          },
          {
           "name": "Edges",
           "type": "scatter3d",
           "x": [
            0.9977656643374779,
            0.0005887193713346844,
            null,
            0.0005887193713346844,
            0.0014725317041939224,
            null,
            0.0014725317041939224,
            0.9977656643374779,
            null,
            1.9985274889896236,
            1.99941128100559,
            null,
            1.99941128100559,
            1.0022343145917996,
            null,
            1.0022343145917996,
            1.9985274889896236,
            null
           ],
           "y": [
            0.0005887714695334142,
            0.9997054165742352,
            null,
            0.9997054165742352,
            -0.0002941886246589831,
            null,
            -0.0002941886246589831,
            0.0005887714695334142,
            null,
            -0.000294188440996436,
            0.9997054167690053,
            null,
            0.9997054167690053,
            0.0005887722528960098,
            null,
            0.0005887722528960098,
            -0.000294188440996436,
            null
           ],
           "z": [
            0.08606600952494219,
            0.00001892525915616407,
            null,
            0.00001892525915616407,
            0.00004709949720913265,
            null,
            0.00004709949720913265,
            0.08606600952494219,
            null,
            -0.21004734141696607,
            -0.2100189251578476,
            null,
            -0.2100189251578476,
            -0.2960657677064941,
            null,
            -0.2960657677064941,
            -0.21004734141696607,
            null
           ]
          },
          {
           "i": [
            0,
            3
           ],
           "j": [
            1,
            4
           ],
           "k": [
            2,
            5
           ],
           "name": "Faces",
           "type": "mesh3d",
           "x": {
            "bdata": "9uvB4D4gWD961ixCsu3vP2vFIzmJSkM/sZxB2SYJ8D8C4dX19/n/P3XC8q6W/f8/",
            "dtype": "f8"
           },
           "y": {
            "bdata": "XG2ShapHM7+CaG0a+UpDP7BAujaW/e8/deQVyfpKQz8aBKK7qUczv40F1TaW/e8/",
            "dtype": "f8"
           },
           "z": {
            "bdata": "mjHAZpaxCD8z9DQIbAi2PzCXA+g12PM+++1w1b3y0r/esf/O1OLKvxQJjG/m4cq/",
            "dtype": "f8"
           }
          }
         ],
         "layout": {
          "annotations": [
           {
            "showarrow": false,
            "text": "Time: 0.61s (Step: 62/100)",
            "x": 0.05,
            "xref": "paper",
            "y": 0.95,
            "yref": "paper"
           }
          ]
         },
         "name": "61"
        },
        {
         "data": [
          {
           "name": "Free Nodes",
           "type": "scatter3d",
           "x": {
            "bdata": "K4Q7HeRJWT9BZu6G2ezvPwv3OKBnOEQ/HB+dNpMJ8D+K6smMrfn/P5htJvN4/f8/",
            "dtype": "f8"
           },
           "y": {
            "bdata": "KAdSVzw1NL/hInnV3ThEP2jaw294/e8/GTKCjt84RD/EcYSJOzU0vxlC3294/e8/",
            "dtype": "f8"
           },
           "z": {
            "bdata": "g9s0wBttCj/E8/lbZIu2P0gDGvcXO/U+7WCDaWdl07/pFpGdx4bLv9ef1pDIhcu/",
            "dtype": "f8"
           }
          },
          {
           "name": "Fixed Nodes",
           "type": "scatter3d",
           "x": [],
           "y": [],
           "z": []
          },
          {
           "name": "Edges",
           "type": "scatter3d",
           "x": [
            0.9976623187423642,
            0.0006170755372705018,
            null,
            0.0006170755372705018,
            0.001543495910418589,
            null,
            0.001543495910418589,
            0.9976623187423642,
            null,
            1.998456525760647,
            1.9993829248477137,
            null,
            1.9993829248477137,
            1.002337659201607,
            null,
            1.002337659201607,
            1.998456525760647,
            null
           ],
           "y": [
            0.0006171305821648065,
            0.9996912177001152,
            null,
            0.9996912177001152,
            -0.0003083488766791758,
            null,
            -0.0003083488766791758,
            0.0006171305821648065,
            null,
            -0.00030834868950238245,
            0.9996912178995131,
            null,
            0.9996912178995131,
            0.0006171313844035047,
            null,
            0.0006171313844035047,
            -0.00030834868950238245,
            null
           ],
           "z": [
            0.08806445355908382,
            0.00002024730151229122,
            null,
            0.00002024730151229122,
            0.0000504039853929583,
            null,
            0.0000504039853929583,
            0.08806445355908382,
            null,
            -0.21505065149010896,
            -0.21502024719416,
            null,
            -0.21502024719416,
            -0.3030642061617204,
            null,
            -0.3030642061617204,
            -0.21505065149010896,
            null
           ]
          },
          {
           "i": [
            0,
            3
           ],
           "j": [
            1,
            4
           ],
           "k": [
            2,
            5
           ],
           "name": "Faces",
           "type": "mesh3d",
           "x": {
            "bdata": "K4Q7HeRJWT9BZu6G2ezvPwv3OKBnOEQ/HB+dNpMJ8D+K6smMrfn/P5htJvN4/f8/",
            "dtype": "f8"
           },
           "y": {
            "bdata": "KAdSVzw1NL/hInnV3ThEP2jaw294/e8/GTKCjt84RD/EcYSJOzU0vxlC3294/e8/",
            "dtype": "f8"
           },
           "z": {
            "bdata": "g9s0wBttCj/E8/lbZIu2P0gDGvcXO/U+7WCDaWdl07/pFpGdx4bLv9ef1pDIhcu/",
            "dtype": "f8"
           }
          }
         ],
         "layout": {
          "annotations": [
           {
            "showarrow": false,
            "text": "Time: 0.62s (Step: 63/100)",
            "x": 0.05,
            "xref": "paper",
            "y": 0.95,
            "yref": "paper"
           }
          ]
         },
         "name": "62"
        },
        {
         "data": [
          {
           "name": "Free Nodes",
           "type": "scatter3d",
           "x": {
            "bdata": "/Rl2w4Z6Wj/iRkjo++vvPyjEiNLYK0U/3O6qBQIK8D81D2VkYfn/P0OwAIVa/f8/",
            "dtype": "f8"
           },
           "y": {
            "bdata": "LVGoM1soNb87YAubVSxFP1UlrPVZ/e8/M7x9XlcsRT+H2RFiWig1vzUwyPVZ/e8/",
            "dtype": "f8"
           },
           "z": {
            "bdata": "XsCQg9c8DD+rriAnWQ63P2qerBYXrvY+QRlvGxDY079bkIevuyrMv3CXCTOrKcy/",
            "dtype": "f8"
           }
          },
          {
           "name": "Fixed Nodes",
           "type": "scatter3d",
           "x": [],
           "y": [],
           "z": []
          },
          {
           "name": "Edges",
           "type": "scatter3d",
           "x": [
            0.9975566422237672,
            0.0006460961058732994,
            null,
            0.0006460961058732994,
            0.00161612663745958,
            null,
            0.00161612663745958,
            0.9975566422237672,
            null,
            1.998383896033329,
            1.9993539042871056,
            null,
            1.9993539042871056,
            1.0024433347124875,
            null,
            1.0024433347124875,
            1.998383896033329,
            null
           ],
           "y": [
            0.0006461542125988437,
            0.9996766851701674,
            null,
            0.9996766851701674,
            -0.00032283999067430036,
            null,
            -0.00032283999067430036,
            0.0006461542125988437,
            null,
            -0.0003228398000553402,
            0.9996766853742033,
            null,
            0.9996766853742033,
            0.0006461550337756361,
            null,
            0.0006461550337756361,
            -0.0003228398000553402,
            null
           ],
           "z": [
            0.09006268697037949,
            0.000021629371455804415,
            null,
            0.000021629371455804415,
            0.00005385906883537192,
            null,
            0.00005385906883537192,
            0.09006268697037949,
            null,
            -0.22005411215571055,
            -0.22002162925781077,
            null,
            -0.22002162925781077,
            -0.31006243399714967,
            null,
            -0.31006243399714967,
            -0.22005411215571055,
            null
           ]
          },
          {
           "i": [
            0,
            3
           ],
           "j": [
            1,
            4
           ],
           "k": [
            2,
            5
           ],
           "name": "Faces",
           "type": "mesh3d",
           "x": {
            "bdata": "/Rl2w4Z6Wj/iRkjo++vvPyjEiNLYK0U/3O6qBQIK8D81D2VkYfn/P0OwAIVa/f8/",
            "dtype": "f8"
           },
           "y": {
            "bdata": "LVGoM1soNb87YAubVSxFP1UlrPVZ/e8/M7x9XlcsRT+H2RFiWig1vzUwyPVZ/e8/",
            "dtype": "f8"
           },
           "z": {
            "bdata": "XsCQg9c8DD+rriAnWQ63P2qerBYXrvY+QRlvGxDY079bkIevuyrMv3CXCTOrKcy/",
            "dtype": "f8"
           }
          }
         ],
         "layout": {
          "annotations": [
           {
            "showarrow": false,
            "text": "Time: 0.63s (Step: 64/100)",
            "x": 0.05,
            "xref": "paper",
            "y": 0.95,
            "yref": "paper"
           }
          ]
         },
         "name": "63"
        },
        {
         "data": [
          {
           "name": "Free Nodes",
           "type": "scatter3d",
           "x": {
            "bdata": "lFM/lyayWz8UbXNmGevvP5sFpWTcJEY/v5FORnMK8D97W7Z8E/n/Py/4jmQ7/f8/",
            "dtype": "f8"
           },
           "y": {
            "bdata": "jAToZwYhNr8sSuAAYCVGP8Rcd8g6/e8/bwjFzmElRj9Nt52SBSE2vy8LlMg6/e8/",
            "dtype": "f8"
           },
           "z": {
            "bdata": "7JRRljwhDj+tgJ5VSpG3P5WtAyaOMfg+pXIx5rdK1L9TbREMsc7Mv2Lp+1iOzcy/",
            "dtype": "f8"
           }
          },
          {
           "name": "Fixed Nodes",
           "type": "scatter3d",
           "x": [],
           "y": [],
           "z": []
          },
          {
           "name": "Edges",
           "type": "scatter3d",
           "x": [
            0.9974486351960956,
            0.0006757808817285273,
            null,
            0.0006757808817285273,
            0.0016904236663226367,
            null,
            0.0016904236663226367,
            0.9974486351960956,
            null,
            1.9983096000266574,
            1.9993242195191774,
            null,
            1.9993242195191774,
            1.0025513407100417,
            null,
            1.0025513407100417,
            1.9983096000266574,
            null
           ],
           "y": [
            0.0006758421675406349,
            0.9996618190151811,
            null,
            0.9996618190151811,
            -0.00033766180413869677,
            null,
            -0.00033766180413869677,
            0.0006758421675406349,
            null,
            -0.0003376616101523525,
            0.9996618192238652,
            null,
            0.9996618192238652,
            0.0006758430077200682,
            null,
            0.0006758430077200682,
            -0.0003376616101523525,
            null
           ],
           "z": [
            0.0920607050925379,
            0.00002307279135120367,
            null,
            0.00002307279135120367,
            0.00005746809146315611,
            null,
            0.00005746809146315611,
            0.0920607050925379,
            null,
            -0.22505772675763555,
            -0.22502307267115912,
            null,
            -0.22502307267115912,
            -0.3170604465465579,
            null,
            -0.3170604465465579,
            -0.22505772675763555,
            null
           ]
          },
          {
           "i": [
            0,
            3
           ],
           "j": [
            1,
            4
           ],
           "k": [
            2,
            5
           ],
           "name": "Faces",
           "type": "mesh3d",
           "x": {
            "bdata": "lFM/lyayWz8UbXNmGevvP5sFpWTcJEY/v5FORnMK8D97W7Z8E/n/Py/4jmQ7/f8/",
            "dtype": "f8"
           },
           "y": {
            "bdata": "jAToZwYhNr8sSuAAYCVGP8Rcd8g6/e8/bwjFzmElRj9Nt52SBSE2vy8LlMg6/e8/",
            "dtype": "f8"
           },
           "z": {
            "bdata": "7JRRljwhDj+tgJ5VSpG3P5WtAyaOMfg+pXIx5rdK1L9TbREMsc7Mv2Lp+1iOzcy/",
            "dtype": "f8"
           }
          }
         ],
         "layout": {
          "annotations": [
           {
            "showarrow": false,
            "text": "Time: 0.64s (Step: 65/100)",
            "x": 0.05,
            "xref": "paper",
            "y": 0.95,
            "yref": "paper"
           }
          ]
         },
         "name": "64"
        },
        {
         "data": [
          {
           "name": "Free Nodes",
           "type": "scatter3d",
           "x": {
            "bdata": "Nk0vW8PwXD+I/6kBMurvPyu+wuhxI0c/l/Rq+OYK8D87Kc3Vw/j/P6z+3pEb/f8/",
            "dtype": "f8"
           },
           "y": {
            "bdata": "DNxTPT0fN7+DlFGa/CNHP5/SKega/e8/ck2ycv4jRz+T+2tkPB83v/gkR+ga/e8/",
            "dtype": "f8"
           },
           "z": {
            "bdata": "2bxr7l4NED9pwGnTNxS4PyoB9fbXxfk+fgfIxF691L8U61y6p3LNv6EjhAVycc2/",
            "dtype": "f8"
           }
          },
          {
           "name": "Fixed Nodes",
           "type": "scatter3d",
           "x": [],
           "y": [],
           "z": []
          },
          {
           "name": "Edges",
           "type": "scatter3d",
           "x": [
            0.9973382980824548,
            0.0007061296651240159,
            null,
            0.0007061296651240159,
            0.0017663867736146927,
            null,
            0.0017663867736146927,
            0.9973382980824548,
            null,
            1.998233637964019,
            1.9992938707436378,
            null,
            1.9992938707436378,
            1.0026616767711738,
            null,
            1.0026616767711738,
            1.998233637964019,
            null
           ],
           "y": [
            0.0007061942493577087,
            0.9996466192665884,
            null,
            0.9996466192665884,
            -0.0003528141508719058,
            null,
            -0.0003528141508719058,
            0.0007061942493577087,
            null,
            -0.0003528139535972582,
            0.9996466194799316,
            null,
            0.9996466194799316,
            0.0007061951086079611,
            null,
            0.0007061951086079611,
            -0.0003528139535972582,
            null
           ],
           "z": [
            0.09405850326015898,
            0.000024578882798610324,
            null,
            0.000024578882798610324,
            0.00006123439707627093,
            null,
            0.00006123439707627093,
            0.09405850326015898,
            null,
            -0.23006149863962178,
            -0.23002457875579999,
            null,
            -0.23002457875579999,
            -0.3240582391446124,
            null,
            -0.3240582391446124,
            -0.23006149863962178,
            null
           ]
          },
          {
           "i": [
            0,
            3
           ],
           "j": [
            1,
            4
           ],
           "k": [
            2,
            5
           ],
           "name": "Faces",
           "type": "mesh3d",
           "x": {
            "bdata": "Nk0vW8PwXD+I/6kBMurvPyu+wuhxI0c/l/Rq+OYK8D87Kc3Vw/j/P6z+3pEb/f8/",
            "dtype": "f8"
           },
           "y": {
            "bdata": "DNxTPT0fN7+DlFGa/CNHP5/SKega/e8/ck2ycv4jRz+T+2tkPB83v/gkR+ga/e8/",
            "dtype": "f8"
           },
           "z": {
            "bdata": "2bxr7l4NED9pwGnTNxS4PyoB9fbXxfk+fgfIxF691L8U61y6p3LNv6EjhAVycc2/",
            "dtype": "f8"
           }
          }
         ],
         "layout": {
          "annotations": [
           {
            "showarrow": false,
            "text": "Time: 0.65s (Step: 66/100)",
            "x": 0.05,
            "xref": "paper",
            "y": 0.95,
            "yref": "paper"
           }
          ]
         },
         "name": "65"
        },
        {
         "data": [
          {
           "name": "Free Nodes",
           "type": "scatter3d",
           "x": {
            "bdata": "KF2o0Fw2Xj/jVie6RenvP56suu6YJ0g/PGviG10L8D/BH7lvcvj/P5bI/gz7/P8/",
            "dtype": "f8"
           },
           "y": {
            "bdata": "Ctoe+f4iOL9Dzlb4KihIP2Pvx1T6/O8/anU92ywoSD9JfLAc/iI4vxDm5VT6/O8/",
            "dtype": "f8"
           },
           "z": {
            "bdata": "dEgxHecUET9GxHmMIZe4P+7imU1Pa/s+IrIwsgQw1b/lNJjBnxbOvzpmeDtWFc6/",
            "dtype": "f8"
           }
          },
          {
           "name": "Fixed Nodes",
           "type": "scatter3d",
           "x": [],
           "y": [],
           "z": []
          },
          {
           "name": "Edges",
           "type": "scatter3d",
           "x": [
            0.9972256313146456,
            0.0007371422520540299,
            null,
            0.0007371422520540299,
            0.0018440157315405357,
            null,
            0.0018440157315405357,
            0.9972256313146456,
            null,
            1.9981560100732028,
            1.99926285816449,
            null,
            1.99926285816449,
            1.0027743424640922,
            null,
            1.0027743424640922,
            1.9981560100732028,
            null
           ],
           "y": [
            0.0007372102560822619,
            0.9996310859564627,
            null,
            0.9996310859564627,
            -0.0003682968609796394,
            null,
            -0.0003682968609796394,
            0.0007372102560822619,
            null,
            -0.0003682966604987054,
            0.9996310861744764,
            null,
            0.9996310861744764,
            0.0007372111344740421,
            null,
            0.0007372111344740421,
            -0.0003682966604987054,
            null
           ],
           "z": [
            0.09605607680875136,
            0.000026148966617320123,
            null,
            0.000026148966617320123,
            0.00006516132934678167,
            null,
            0.00006516132934678167,
            0.09605607680875136,
            null,
            -0.23506543114527925,
            -0.2350261488325474,
            null,
            -0.2350261488325474,
            -0.3310558071268891,
            null,
            -0.3310558071268891,
            -0.23506543114527925,
            null
           ]
          },
          {
           "i": [
            0,
            3
           ],
           "j": [
            1,
            4
           ],
           "k": [
            2,
            5
           ],
           "name": "Faces",
           "type": "mesh3d",
           "x": {
            "bdata": "KF2o0Fw2Xj/jVie6RenvP56suu6YJ0g/PGviG10L8D/BH7lvcvj/P5bI/gz7/P8/",
            "dtype": "f8"
           },
           "y": {
            "bdata": "Ctoe+f4iOL9Dzlb4KihIP2Pvx1T6/O8/anU92ywoSD9JfLAc/iI4vxDm5VT6/O8/",
            "dtype": "f8"
           },
           "z": {
            "bdata": "dEgxHecUET9GxHmMIZe4P+7imU1Pa/s+IrIwsgQw1b/lNJjBnxbOvzpmeDtWFc6/",
            "dtype": "f8"
           }
          }
         ],
         "layout": {
          "annotations": [
           {
            "showarrow": false,
            "text": "Time: 0.66s (Step: 67/100)",
            "x": 0.05,
            "xref": "paper",
            "y": 0.95,
            "yref": "paper"
           }
          ]
         },
         "name": "66"
        },
        {
         "data": [
          {
           "name": "Free Nodes",
           "type": "scatter3d",
           "x": {
            "bdata": "VwfXt/KCXz+7/SeQVOjvPypyCQRRMUk/jrCWsNUL8D/RM4pKH/j/P0mm/NXZ/P8/",
            "dtype": "f8"
           },
           "y": {
            "bdata": "/8tr3EosOb8ZRYWp6jFJPxYyVg7Z/O8/t0n8luwxST+uKI/8SSw5v4LNdA7Z/O8/",
            "dtype": "f8"
           },
           "z": {
            "bdata": "NpCISHAnEj9k58ZsBxq5P2bBA+BOIv0+Fo5pqami1b/rY/EombrOv/5grv06uc6/",
            "dtype": "f8"
           }
          },
          {
           "name": "Fixed Nodes",
           "type": "scatter3d",
           "x": [],
           "y": [],
           "z": []
          },
          {
           "name": "Edges",
           "type": "scatter3d",
           "x": [
            0.9971106353331644,
            0.0007688184342203354,
            null,
            0.0007688184342203354,
            0.001923310307902123,
            null,
            0.001923310307902123,
            0.9971106353331644,
            null,
            1.9980767165864004,
            1.9992311819900286,
            null,
            1.9992311819900286,
            1.0028893373483103,
            null,
            1.0028893373483103,
            1.9980767165864004,
            null
           ],
           "y": [
            0.0007688899814103672,
            0.999615219117518,
            null,
            0.999615219117518,
            -0.00038410976087205334,
            null,
            -0.00038410976087205334,
            0.0007688899814103672,
            null,
            -0.00038410955727087137,
            0.9996152193402141,
            null,
            0.9996152193402141,
            0.0007688908790178171,
            null,
            0.0007688908790178171,
            -0.00038410955727087137,
            null
           ],
           "z": [
            0.09805342107474996,
            0.000027784362829076473,
            null,
            0.000027784362829076473,
            0.0000692522318180296,
            null,
            0.0000692522318180296,
            0.09805342107474996,
            null,
            -0.24006952761808917,
            -0.24002778422141796,
            null,
            -0.24002778422141796,
            -0.3380531458298902,
            null,
            -0.3380531458298902,
            -0.24006952761808917,
            null
           ]
          },
          {
           "i": [
            0,
            3
           ],
           "j": [
            1,
            4
           ],
           "k": [
            2,
            5
           ],
           "name": "Faces",
           "type": "mesh3d",
           "x": {
            "bdata": "VwfXt/KCXz+7/SeQVOjvPypyCQRRMUk/jrCWsNUL8D/RM4pKH/j/P0mm/NXZ/P8/",
            "dtype": "f8"
           },
           "y": {
            "bdata": "/8tr3EosOb8ZRYWp6jFJPxYyVg7Z/O8/t0n8luwxST+uKI/8SSw5v4LNdA7Z/O8/",
            "dtype": "f8"
           },
           "z": {
            "bdata": "NpCISHAnEj9k58ZsBxq5P2bBA+BOIv0+Fo5pqami1b/rY/EombrOv/5grv06uc6/",
            "dtype": "f8"
           }
          }
         ],
         "layout": {
          "annotations": [
           {
            "showarrow": false,
            "text": "Time: 0.67s (Step: 68/100)",
            "x": 0.05,
            "xref": "paper",
            "y": 0.95,
            "yref": "paper"
           }
          ]
         },
         "name": "67"
        },
        {
         "data": [
          {
           "name": "Free Nodes",
           "type": "scatter3d",
           "x": {
            "bdata": "99fYZ0JrYD+PsOmDXufvP5VM0LOZQEo/e+ZotlAM8D+xp1Bmyvf/P5Ez5+y3/P8/",
            "dtype": "f8"
           },
           "y": {
            "bdata": "p6JNJCA7Or+0exA6O0FKPzYw2RS3/O8/+6wiMj1BSj+k6xtBHzs6v9Nw+BS3/O8/",
            "dtype": "f8"
           },
           "z": {
            "bdata": "HHLu4DNFEz+Ljkpg6Zy5P0Sq8lUx6/4+R/lwpU0V1r8If5b3k17PvzBR+04gXc+/",
            "dtype": "f8"
           }
          },
          {
           "name": "Fixed Nodes",
           "type": "scatter3d",
           "x": [],
           "y": [],
           "z": []
          },
          {
           "name": "Edges",
           "type": "scatter3d",
           "x": [
            0.9969933105872019,
            0.0008011579990373658,
            null,
            0.0008011579990373658,
            0.002004270266094284,
            null,
            0.002004270266094284,
            0.9969933105872019,
            null,
            1.9979957577402099,
            1.9991988424328364,
            null,
            1.9991988424328364,
            1.0030066609746473,
            null,
            1.0030066609746473,
            1.9979957577402099,
            null
           ],
           "y": [
            0.0008012332147052576,
            0.9995990187831072,
            null,
            0.9995990187831072,
            -0.00040025267326497044,
            null,
            -0.00040025267326497044,
            0.0008012332147052576,
            null,
            -0.00040025246663305037,
            0.9995990190104983,
            null,
            0.9995990190104983,
            0.0008012341316051824,
            null,
            0.0008012341316051824,
            -0.00040025246663305037,
            null
           ],
           "z": [
            0.10005053139553348,
            0.00002948639064174532,
            null,
            0.00002948639064174532,
            0.00007351044790344273,
            null,
            0.00007351044790344273,
            0.10005053139553348,
            null,
            -0.24507379140140295,
            -0.24502948624161425,
            null,
            -0.24502948624161425,
            -0.3450502505910617,
            null,
            -0.3450502505910617,
            -0.24507379140140295,
            null
           ]
          },
          {
           "i": [
            0,
            3
           ],
           "j": [
            1,
            4
           ],
           "k": [
            2,
            5
           ],
           "name": "Faces",
           "type": "mesh3d",
           "x": {
            "bdata": "99fYZ0JrYD+PsOmDXufvP5VM0LOZQEo/e+ZotlAM8D+xp1Bmyvf/P5Ez5+y3/P8/",
            "dtype": "f8"
           },
           "y": {
            "bdata": "p6JNJCA7Or+0exA6O0FKPzYw2RS3/O8/+6wiMj1BSj+k6xtBHzs6v9Nw+BS3/O8/",
            "dtype": "f8"
           },
           "z": {
            "bdata": "HHLu4DNFEz+Ljkpg6Zy5P0Sq8lUx6/4+R/lwpU0V1r8If5b3k17PvzBR+04gXc+/",
            "dtype": "f8"
           }
          }
         ],
         "layout": {
          "annotations": [
           {
            "showarrow": false,
            "text": "Time: 0.68s (Step: 69/100)",
            "x": 0.05,
            "xref": "paper",
            "y": 0.95,
            "yref": "paper"
           }
          ]
         },
         "name": "68"
        },
        {
         "data": [
          {
           "name": "Free Nodes",
           "type": "scatter3d",
           "x": {
            "bdata": "91L8aokYYT+9XauVY+bvP8Qk1YZyVUs/AJY5Lc4M8D8yCx3Dc/f/P6BXzVGV/P8/",
            "dtype": "f8"
           },
           "y": {
            "bdata": "w9DGCX5PO79V8skzHFZLP7GVVWiU/O8/rqWCNh5WSz+fX1ojfU87v/V7dWiU/O8/",
            "dtype": "f8"
           },
           "z": {
            "bdata": "ablMVmtuFD8XLf9Sxx+6PxDWRKQoYwA/SJVFofCH1r9bvVoaSAHQv5j/GRmDANC/",
            "dtype": "f8"
           }
          },
          {
           "name": "Fixed Nodes",
           "type": "scatter3d",
           "x": [],
           "y": [],
           "z": []
          },
          {
           "name": "Edges",
           "type": "scatter3d",
           "x": [
            0.9968736575346423,
            0.000834160729632626,
            null,
            0.000834160729632626,
            0.0020868953651053085,
            null,
            0.0020868953651053085,
            0.9968736575346423,
            null,
            1.9979131337756368,
            1.9991658397097822,
            null,
            1.9991658397097822,
            1.0031263128852288,
            null,
            1.0031263128852288,
            1.9979131337756368,
            null
           ],
           "y": [
            0.0008342397409957883,
            0.9995824849872205,
            null,
            0.9995824849872205,
            -0.000416725417177643,
            null,
            -0.000416725417177643,
            0.0008342397409957883,
            null,
            -0.0004167252076085984,
            0.9995824852193197,
            null,
            0.9995824852193197,
            0.0008342406772687183,
            null,
            0.0008342406772687183,
            -0.0004167252076085984,
            null
           ],
           "z": [
            0.10204740310944192,
            0.00003125636843252452,
            null,
            0.00003125636843252452,
            0.0000779393208858219,
            null,
            0.0000779393208858219,
            0.10204740310944192,
            null,
            -0.25007822583844125,
            -0.25003125621150835,
            null,
            -0.25003125621150835,
            -0.35204711674881084,
            null,
            -0.35204711674881084,
            -0.25007822583844125,
            null
           ]
          },
          {
           "i": [
            0,
            3
           ],
           "j": [
            1,
            4
           ],
           "k": [
            2,
            5
           ],
           "name": "Faces",
           "type": "mesh3d",
           "x": {
            "bdata": "91L8aokYYT+9XauVY+bvP8Qk1YZyVUs/AJY5Lc4M8D8yCx3Dc/f/P6BXzVGV/P8/",
            "dtype": "f8"
           },
           "y": {
            "bdata": "w9DGCX5PO79V8skzHFZLP7GVVWiU/O8/rqWCNh5WSz+fX1ojfU87v/V7dWiU/O8/",
            "dtype": "f8"
           },
           "z": {
            "bdata": "ablMVmtuFD8XLf9Sxx+6PxDWRKQoYwA/SJVFofCH1r9bvVoaSAHQv5j/GRmDANC/",
            "dtype": "f8"
           }
          }
         ],
         "layout": {
          "annotations": [
           {
            "showarrow": false,
            "text": "Time: 0.69s (Step: 70/100)",
            "x": 0.05,
            "xref": "paper",
            "y": 0.95,
            "yref": "paper"
           }
          ]
         },
         "name": "69"
        },
        {
         "data": [
          {
           "name": "Free Nodes",
           "type": "scatter3d",
           "x": {
            "bdata": "fOeaQ07JYT+CJa3FY+XvP986gwPbb0w/La/oFE4N8D+5OwBhG/f/PwBFvgRy/P8/",
            "dtype": "f8"
           },
           "y": {
            "bdata": "BbHJwWNpPL9MjCEejXBMP9kk0Ahx/O8/J4aMK49wTD9j2T3YYmk8vz6x8Ahx/O8/",
            "dtype": "f8"
           },
           "z": {
            "bdata": "OLb4F1CjFT/tSeAwoaK6PyGaAqEEWgE/jUjml5L61r9yHL7zRlPQvxReFlV2UtC/",
            "dtype": "f8"
           }
          },
          {
           "name": "Fixed Nodes",
           "type": "scatter3d",
           "x": [],
           "y": [],
           "z": []
          },
          {
           "name": "Edges",
           "type": "scatter3d",
           "x": [
            0.9967516766420632,
            0.0008678264048514703,
            null,
            0.0008678264048514703,
            0.0021711853595122715,
            null,
            0.0021711853595122715,
            0.9967516766420632,
            null,
            1.9978288449380968,
            1.9991321740420176,
            null,
            1.9991321740420176,
            1.0032482926134876,
            null,
            1.0032482926134876,
            1.9978288449380968,
            null
           ],
           "y": [
            0.0008679093409792531,
            0.9995656177644846,
            null,
            0.9995656177644846,
            -0.0004335278079341673,
            null,
            -0.0004335278079341673,
            0.0008679093409792531,
            null,
            -0.00043352759552508206,
            0.9995656180013055,
            null,
            0.9995656180013055,
            0.0008679102967088002,
            null,
            0.0008679102967088002,
            -0.00043352759552508206,
            null
           ],
           "z": [
            0.10404403155579418,
            0.000033095613731593894,
            null,
            0.000033095613731593894,
            0.00008254219391609023,
            null,
            0.00008254219391609023,
            0.10404403155579418,
            null,
            -0.25508283427229295,
            -0.2550330954486253,
            null,
            -0.2550330954486253,
            -0.35904373964252373,
            null,
            -0.35904373964252373,
            -0.25508283427229295,
            null
           ]
          },
          {
           "i": [
            0,
            3
           ],
           "j": [
            1,
            4
           ],
           "k": [
            2,
            5
           ],
           "name": "Faces",
           "type": "mesh3d",
           "x": {
            "bdata": "fOeaQ07JYT+CJa3FY+XvP986gwPbb0w/La/oFE4N8D+5OwBhG/f/PwBFvgRy/P8/",
            "dtype": "f8"
           },
           "y": {
            "bdata": "BbHJwWNpPL9MjCEejXBMP9kk0Ahx/O8/J4aMK49wTD9j2T3YYmk8vz6x8Ahx/O8/",
            "dtype": "f8"
           },
           "z": {
            "bdata": "OLb4F1CjFT/tSeAwoaK6PyGaAqEEWgE/jUjml5L61r9yHL7zRlPQvxReFlV2UtC/",
            "dtype": "f8"
           }
          }
         ],
         "layout": {
          "annotations": [
           {
            "showarrow": false,
            "text": "Time: 0.70s (Step: 71/100)",
            "x": 0.05,
            "xref": "paper",
            "y": 0.95,
            "yref": "paper"
           }
          ]
         },
         "name": "70"
        },
        {
         "data": [
          {
           "name": "Free Nodes",
           "type": "scatter3d",
           "x": {
            "bdata": "KUxez5B9Yj/wWTAUX+TvP+9q663Sj00/KIlVbdAN8D9MZAtAwfb/P4Z5yQVO/P8/",
            "dtype": "f8"
           },
           "y": {
            "bdata": "j/M3fdCIPb/riyV+jZBNP1S2TfZM/O8/dRFPlo+QTT+vR6mQz4g9v1vpbvZM/O8/",
            "dtype": "f8"
           },
           "z": {
            "bdata": "/kKylBvkFj9phOrldiW7P38QuN5ZWgI/pz9ShDNt179pRIyLRqXQv9uv3NxppNC/",
            "dtype": "f8"
           }
          },
          {
           "name": "Fixed Nodes",
           "type": "scatter3d",
           "x": [],
           "y": [],
           "z": []
          },
          {
           "name": "Edges",
           "type": "scatter3d",
           "x": [
            0.9966273683847344,
            0.0009021547992590066,
            null,
            0.0009021547992590066,
            0.002257139999480202,
            null,
            0.002257139999480202,
            0.9966273683847344,
            null,
            1.9977428914774178,
            1.999097845654974,
            null,
            1.999097845654974,
            1.0033725996841643,
            null,
            1.0033725996841643,
            1.9977428914774178,
            null
           ],
           "y": [
            0.000902241791021272,
            0.999548417150161,
            null,
            0.999548417150161,
            -0.00045065965716145016,
            null,
            -0.00045065965716145016,
            0.000902241791021272,
            null,
            -0.00045065944201382995,
            0.9995484173917178,
            null,
            0.9995484173917178,
            0.0009022427662946213,
            null,
            0.0009022427662946213,
            -0.00045065944201382995,
            null
           ],
           "z": [
            0.10604041207490557,
            0.0000350054432054778,
            null,
            0.0000350054432054778,
            0.00008732241001242408,
            null,
            0.00008732241001242408,
            0.10604041207490557,
            null,
            -0.2600876200459142,
            -0.2600350052696265,
            null,
            -0.2600350052696265,
            -0.36604011461258285,
            null,
            -0.36604011461258285,
            -0.2600876200459142,
            null
           ]
          },
          {
           "i": [
            0,
            3
           ],
           "j": [
            1,
            4
           ],
           "k": [
            2,
            5
           ],
           "name": "Faces",
           "type": "mesh3d",
           "x": {
            "bdata": "KUxez5B9Yj/wWTAUX+TvP+9q663Sj00/KIlVbdAN8D9MZAtAwfb/P4Z5yQVO/P8/",
            "dtype": "f8"
           },
           "y": {
            "bdata": "j/M3fdCIPb/riyV+jZBNP1S2TfZM/O8/dRFPlo+QTT+vR6mQz4g9v1vpbvZM/O8/",
            "dtype": "f8"
           },
           "z": {
            "bdata": "/kKylBvkFj9phOrldiW7P38QuN5ZWgI/pz9ShDNt179pRIyLRqXQv9uv3NxppNC/",
            "dtype": "f8"
           }
          }
         ],
         "layout": {
          "annotations": [
           {
            "showarrow": false,
            "text": "Time: 0.71s (Step: 72/100)",
            "x": 0.05,
            "xref": "paper",
            "y": 0.95,
            "yref": "paper"
           }
          ]
         },
         "name": "71"
        },
        {
         "data": [
          {
           "name": "Free Nodes",
           "type": "scatter3d",
           "x": {
            "bdata": "+t9U61A1Yz/pfneBVePvPzexxAdZtU4/MOJeNlUO8D+b/U9gZfb/P0O+/lQp/P8/",
            "dtype": "f8"
           },
           "y": {
            "bdata": "LdXiaMOtPr8mzYLWHLZOPxI50zAo/O8/2Zd3+R62Tj8u7G55wq0+v0AT9TAo/O8/",
            "dtype": "f8"
           },
           "z": {
            "bdata": "ZoWiOgcxGD9OmRteSKi7P9bVLJNVZAM/gO6IYdPf1791E1zlRvfQv86i1rFd9tC/",
            "dtype": "f8"
           }
          },
          {
           "name": "Fixed Nodes",
           "type": "scatter3d",
           "x": [],
           "y": [],
           "z": []
          },
          {
           "name": "Edges",
           "type": "scatter3d",
           "x": [
            0.9965007332466175,
            0.0009371456831437701,
            null,
            0.0009371456831437701,
            0.0023447590307590334,
            null,
            0.0023447590307590334,
            0.9965007332466175,
            null,
            1.9976552736478428,
            1.9990628547783593,
            null,
            1.9990628547783593,
            1.003499233613308,
            null,
            1.003499233613308,
            1.9976552736478428,
            null
           ],
           "y": [
            0.0009372368631574187,
            0.9995308831801444,
            null,
            0.9995308831801444,
            -0.00046812077278997577,
            null,
            -0.00046812077278997577,
            0.0009372368631574187,
            null,
            -0.0004681205550089465,
            0.999530883426452,
            null,
            0.999530883426452,
            0.0009372378580649834,
            null,
            0.0009372378580649834,
            -0.0004681205550089465,
            null
           ],
           "z": [
            0.10803654000810534,
            0.00003698717264059472,
            null,
            0.00003698717264059472,
            0.00009228331205914583,
            null,
            0.00009228331205914583,
            0.10803654000810534,
            null,
            -0.26509258650212725,
            -0.2650369869902932,
            null,
            -0.2650369869902932,
            -0.3730362370003846,
            null,
            -0.3730362370003846,
            -0.26509258650212725,
            null
           ]
          },
          {
           "i": [
            0,
            3
           ],
           "j": [
            1,
            4
           ],
           "k": [
            2,
            5
           ],
           "name": "Faces",
           "type": "mesh3d",
           "x": {
            "bdata": "+t9U61A1Yz/pfneBVePvPzexxAdZtU4/MOJeNlUO8D+b/U9gZfb/P0O+/lQp/P8/",
            "dtype": "f8"
           },
           "y": {
            "bdata": "LdXiaMOtPr8mzYLWHLZOPxI50zAo/O8/2Zd3+R62Tj8u7G55wq0+v0AT9TAo/O8/",
            "dtype": "f8"
           },
           "z": {
            "bdata": "ZoWiOgcxGD9OmRteSKi7P9bVLJNVZAM/gO6IYdPf1791E1zlRvfQv86i1rFd9tC/",
            "dtype": "f8"
           }
          }
         ],
         "layout": {
          "annotations": [
           {
            "showarrow": false,
            "text": "Time: 0.72s (Step: 73/100)",
            "x": 0.05,
            "xref": "paper",
            "y": 0.95,
            "yref": "paper"
           }
          ]
         },
         "name": "72"
        },
        {
         "data": [
          {
           "name": "Free Nodes",
           "type": "scatter3d",
           "x": {
            "bdata": "C5jxc47wYz8WSsYNR+LvPz+VbJBt4E8/ot/ib9wO8D8Lzt/BB/b/P3UnbvID/P8/",
            "dtype": "f8"
           },
           "y": {
            "bdata": "8M6KrTvYP79G5YSnOuFPPz2yZbgC/O8/TjZS1TzhTz+mfVC7Otg/vx00iLgC/O8/",
            "dtype": "f8"
           },
           "z": {
            "bdata": "pMtad0yKGT+1Z3KFFSu8P6SBRewkeAQ/mBGKKnJS2L9NXsQESEnRv7elbdVRSNG/",
            "dtype": "f8"
           }
          },
          {
           "name": "Fixed Nodes",
           "type": "scatter3d",
           "x": [],
           "y": [],
           "z": []
          },
          {
           "name": "Edges",
           "type": "scatter3d",
           "x": [
            0.9963717717203646,
            0.0009727988225206942,
            null,
            0.0009727988225206942,
            0.0024340421946815786,
            null,
            0.0024340421946815786,
            0.9963717717203646,
            null,
            1.9975659917080317,
            1.999027201646155,
            null,
            1.999027201646155,
            1.0036281939082774,
            null,
            1.0036281939082774,
            1.9975659917080317,
            null
           ],
           "y": [
            0.0009728943250941,
            0.9995130158909614,
            null,
            0.9995130158909614,
            -0.0004859109590526897,
            null,
            -0.0004859109590526897,
            0.0009728943250941,
            null,
            -0.00048591073874778635,
            0.9995130161420352,
            null,
            0.9995130161420352,
            0.0009728953397300595,
            null,
            0.0009728953397300595,
            -0.00048591073874778635,
            null
           ],
           "z": [
            0.11003241069775423,
            0.00003904211692673805,
            null,
            0.00003904211692673805,
            0.00009742824280571536,
            null,
            0.00009742824280571536,
            0.11003241069775423,
            null,
            -0.27009773698361955,
            -0.27003904192551026,
            null,
            -0.27003904192551026,
            -0.3800321021483568,
            null,
            -0.3800321021483568,
            -0.27009773698361955,
            null
           ]
          },
          {
           "i": [
            0,
            3
           ],
           "j": [
            1,
            4
           ],
           "k": [
            2,
            5
           ],
           "name": "Faces",
           "type": "mesh3d",
           "x": {
            "bdata": "C5jxc47wYz8WSsYNR+LvPz+VbJBt4E8/ot/ib9wO8D8Lzt/BB/b/P3UnbvID/P8/",
            "dtype": "f8"
           },
           "y": {
            "bdata": "8M6KrTvYP79G5YSnOuFPPz2yZbgC/O8/TjZS1TzhTz+mfVC7Otg/vx00iLgC/O8/",
            "dtype": "f8"
           },
           "z": {
            "bdata": "pMtad0yKGT+1Z3KFFSu8P6SBRewkeAQ/mBGKKnJS2L9NXsQESEnRv7elbdVRSNG/",
            "dtype": "f8"
           }
          }
         ],
         "layout": {
          "annotations": [
           {
            "showarrow": false,
            "text": "Time: 0.73s (Step: 74/100)",
            "x": 0.05,
            "xref": "paper",
            "y": 0.95,
            "yref": "paper"
           }
          ]
         },
         "name": "73"
        },
        {
         "data": [
          {
           "name": "Free Nodes",
           "type": "scatter3d",
           "x": {
            "bdata": "eeYLRUmvZD/komG5M+HvP4/Nc+KHiFA/+A2/GWYP8D/B6cxkqPX/P30UKN7d+/8/",
            "dtype": "f8"
           },
           "y": {
            "bdata": "BsbvNxyEQL/BI4s384hQPy49Co3c++8/ourkU/SIUD8tXn+9G4RAv1BnLY3c++8/",
            "dtype": "f8"
           },
           "z": {
            "bdata": "Gk/TtyTwGj8C9u5H3q28P2uA3g/1lQU/Qa9V2g/F2L8X8FvtSZvRvx3nCklGmtG/",
            "dtype": "f8"
           }
          },
          {
           "name": "Fixed Nodes",
           "type": "scatter3d",
           "x": [],
           "y": [],
           "z": []
          },
          {
           "name": "Edges",
           "type": "scatter3d",
           "x": [
            0.9962404843073185,
            0.001009113979134255,
            null,
            0.001009113979134255,
            0.0025249892281607425,
            null,
            0.0025249892281607425,
            0.9962404843073185,
            null,
            1.9974750459210642,
            1.9989908864966133,
            null,
            1.9989908864966133,
            1.0037594800677407,
            null,
            1.0037594800677407,
            1.9974750459210642,
            null
           ],
           "y": [
            0.001009213940209572,
            0.9994948153197691,
            null,
            0.9994948153197691,
            -0.0005040300164848583,
            null,
            -0.0005040300164848583,
            0.001009213940209572,
            null,
            -0.0005040297937694609,
            0.9994948155756251,
            null,
            0.9994948155756251,
            0.0010092149746713593,
            null,
            0.0010092149746713593,
            -0.0005040297937694609,
            null
           ],
           "z": [
            0.11202801948726207,
            0.00004117159004057919,
            null,
            0.00004117159004057919,
            0.00010276054486562901,
            null,
            0.00010276054486562901,
            0.11202801948726207,
            null,
            -0.27510307483294255,
            -0.27504117138924916,
            null,
            -0.27504117138924916,
            -0.3870277053999765,
            null,
            -0.3870277053999765,
            -0.27510307483294255,
            null
           ]
          },
          {
           "i": [
            0,
            3
           ],
           "j": [
            1,
            4
           ],
           "k": [
            2,
            5
           ],
           "name": "Faces",
           "type": "mesh3d",
           "x": {
            "bdata": "eeYLRUmvZD/komG5M+HvP4/Nc+KHiFA/+A2/GWYP8D/B6cxkqPX/P30UKN7d+/8/",
            "dtype": "f8"
           },
           "y": {
            "bdata": "BsbvNxyEQL/BI4s384hQPy49Co3c++8/ourkU/SIUD8tXn+9G4RAv1BnLY3c++8/",
            "dtype": "f8"
           },
           "z": {
            "bdata": "Gk/TtyTwGj8C9u5H3q28P2uA3g/1lQU/Qa9V2g/F2L8X8FvtSZvRvx3nCklGmtG/",
            "dtype": "f8"
           }
          }
         ],
         "layout": {
          "annotations": [
           {
            "showarrow": false,
            "text": "Time: 0.74s (Step: 75/100)",
            "x": 0.05,
            "xref": "paper",
            "y": 0.95,
            "yref": "paper"
           }
          ]
         },
         "name": "74"
        },
        {
         "data": [
          {
           "name": "Free Nodes",
           "type": "scatter3d",
           "x": {
            "bdata": "HqvfOYFxZT95oo+EG+DvPyLV8I+fI1E/0WDQM/IP8D+tsilJR/X/P8wvPRi3+/8/",
            "dtype": "f8"
           },
           "y": {
            "bdata": "StU/aNweQb/GLmDUDyRRP14Lxq61++8/vDg09hAkUT/ez4zs2x5Bv1je6a61++8/",
            "dtype": "f8"
           },
           "z": {
            "bdata": "pRdqaMliHD/SdpKRojC9P9XcphvzvQY/2xjsa6w32b9VirmiTO3Rvx9UFw477NG/",
            "dtype": "f8"
           }
          },
          {
           "name": "Fixed Nodes",
           "type": "scatter3d",
           "x": [],
           "y": [],
           "z": []
          },
          {
           "name": "Edges",
           "type": "scatter3d",
           "x": [
            0.9961068715175109,
            0.0010460909104613243,
            null,
            0.0010460909104613243,
            0.002617599863687827,
            null,
            0.002617599863687827,
            0.9961068715175109,
            null,
            1.9973824365544417,
            1.9989539095722533,
            null,
            1.9989539095722533,
            1.0038930915816773,
            null,
            1.0038930915816773,
            1.9973824365544417,
            null
           ],
           "y": [
            0.001046195467554621,
            0.9994762815043534,
            null,
            0.9994762815043534,
            -0.000522477741923191,
            null,
            -0.000522477741923191,
            0.001046195467554621,
            null,
            -0.0005224775169154724,
            0.9994762817650082,
            null,
            0.9994762817650082,
            0.0010461965219437505,
            null,
            0.0010461965219437505,
            -0.0005224775169154724,
            null
           ],
           "z": [
            0.1140233617211053,
            0.0000433769050291411,
            null,
            0.0000433769050291411,
            0.00010828356071543187,
            null,
            0.00010828356071543187,
            0.1140233617211053,
            null,
            -0.2801086033925107,
            -0.280043376694552,
            null,
            -0.280043376694552,
            -0.39402304209978717,
            null,
            -0.39402304209978717,
            -0.2801086033925107,
            null
           ]
          },
          {
           "i": [
            0,
            3
           ],
           "j": [
            1,
            4
           ],
           "k": [
            2,
            5
           ],
           "name": "Faces",
           "type": "mesh3d",
           "x": {
            "bdata": "HqvfOYFxZT95oo+EG+DvPyLV8I+fI1E/0WDQM/IP8D+tsilJR/X/P8wvPRi3+/8/",
            "dtype": "f8"
           },
           "y": {
            "bdata": "StU/aNweQb/GLmDUDyRRP14Lxq61++8/vDg09hAkUT/ez4zs2x5Bv1je6a61++8/",
            "dtype": "f8"
           },
           "z": {
            "bdata": "pRdqaMliHD/SdpKRojC9P9XcphvzvQY/2xjsa6w32b9VirmiTO3Rvx9UFw477NG/",
            "dtype": "f8"
           }
          }
         ],
         "layout": {
          "annotations": [
           {
            "showarrow": false,
            "text": "Time: 0.75s (Step: 76/100)",
            "x": 0.05,
            "xref": "paper",
            "y": 0.95,
            "yref": "paper"
           }
          ]
         },
         "name": "75"
        },
        {
         "data": [
          {
           "name": "Free Nodes",
           "type": "scatter3d",
           "x": {
            "bdata": "5w8NLTY3Zj+zk5dv/t7vP6ZS14x9wVE/8jLzvYAQ8D+W2Ahv5PT/P9ZuvqCP+/8/",
            "dtype": "f8"
           },
           "y": {
            "bdata": "3Gn89V28Qb8H6NXm8sFRP1hknh2O++8/B5krDvTBUT+8+xd5XbxBv8Xgwh2O++8/",
            "dtype": "f8"
           },
           "z": {
            "bdata": "rZHh9HPiHT/wTV9OYrO9P/1k+yRM8Ac/EOxN2keq2b/R5HMoUD/Sv0iX+yUwPtK/",
            "dtype": "f8"
           }
          },
          {
           "name": "Fixed Nodes",
           "type": "scatter3d",
           "x": [],
           "y": [],
           "z": []
          },
          {
           "name": "Edges",
           "type": "scatter3d",
           "x": [
            0.9959709338696626,
            0.0010837293697153832,
            null,
            0.0010837293697153832,
            0.0027118738293285707,
            null,
            0.0027118738293285707,
            0.9959709338696626,
            null,
            1.9972881638800906,
            1.998916271119858,
            null,
            1.998916271119858,
            1.0040290279313777,
            null,
            1.0040290279313777,
            1.9972881638800906,
            null
           ],
           "y": [
            0.0010838386618545763,
            0.9994574144831274,
            null,
            0.9994574144831274,
            -0.0005412539285061762,
            null,
            -0.0005412539285061762,
            0.0010838386618545763,
            null,
            -0.0005412537013283962,
            0.9994574147485983,
            null,
            0.9994574147485983,
            0.0010838397362760725,
            null,
            0.0010838397362760725,
            -0.0005412537013283962,
            null
           ],
           "z": [
            0.11601843274484458,
            0.00004565937399343167,
            null,
            0.00004565937399343167,
            0.00011400063269346199,
            null,
            0.00011400063269346199,
            0.11601843274484458,
            null,
            -0.28511432600460035,
            -0.28504565915351465,
            null,
            -0.28504565915351465,
            -0.4010181075934165,
            null,
            -0.4010181075934165,
            -0.28511432600460035,
            null
           ]
          },
          {
           "i": [
            0,
            3
           ],
           "j": [
            1,
            4
           ],
           "k": [
            2,
            5
           ],
           "name": "Faces",
           "type": "mesh3d",
           "x": {
            "bdata": "5w8NLTY3Zj+zk5dv/t7vP6ZS14x9wVE/8jLzvYAQ8D+W2Ahv5PT/P9ZuvqCP+/8/",
            "dtype": "f8"
           },
           "y": {
            "bdata": "3Gn89V28Qb8H6NXm8sFRP1hknh2O++8/B5krDvTBUT+8+xd5XbxBv8Xgwh2O++8/",
            "dtype": "f8"
           },
           "z": {
            "bdata": "rZHh9HPiHT/wTV9OYrO9P/1k+yRM8Ac/EOxN2keq2b/R5HMoUD/Sv0iX+yUwPtK/",
            "dtype": "f8"
           }
          }
         ],
         "layout": {
          "annotations": [
           {
            "showarrow": false,
            "text": "Time: 0.76s (Step: 77/100)",
            "x": 0.05,
            "xref": "paper",
            "y": 0.95,
            "yref": "paper"
           }
          ]
         },
         "name": "76"
        },
        {
         "data": [
          {
           "name": "Free Nodes",
           "type": "scatter3d",
           "x": {
            "bdata": "S4GY+GcAZz8c88F63N3vPyFZJZQhYlI/TEYDuBER8D8jWX3Wf/T/PwQSvXdn+/8/",
            "dtype": "f8"
           },
           "y": {
            "bdata": "0Z9jbaBcQr/PPlAqnGJSP6ylmNll++8/g0IvV51iUj9Bp1/vn1xCvy3Mvdll++8/",
            "dtype": "f8"
           },
           "z": {
            "bdata": "FYlfyF1vHz9EFVlqHTa+P1s/wTgtLQk/EBR8IOIc2r+LrSGCVJHSv2gXIJIlkNK/",
            "dtype": "f8"
           }
          },
          {
           "name": "Fixed Nodes",
           "type": "scatter3d",
           "x": [],
           "y": [],
           "z": []
          },
          {
           "name": "Edges",
           "type": "scatter3d",
           "x": [
            0.9958326718911823,
            0.0011220291058485282,
            null,
            0.0011220291058485282,
            0.0028078108487223133,
            null,
            0.0028078108487223133,
            0.9958326718911823,
            null,
            1.9971922281743637,
            1.9988779713904714,
            null,
            1.9988779713904714,
            1.0041672885894455,
            null,
            1.0041672885894455,
            1.9971922281743637,
            null
           ],
           "y": [
            0.001122143273509058,
            0.9994382142951301,
            null,
            0.9994382142951301,
            -0.0005603583656723592,
            null,
            -0.0005603583656723592,
            0.001122143273509058,
            null,
            -0.0005603581364514791,
            0.9994382145654349,
            null,
            0.9994382145654349,
            0.0011221443680719263,
            null,
            0.0011221443680719263,
            -0.0005603581364514791,
            null
           ],
           "z": [
            0.11801322790514229,
            0.00004802030807182666,
            null,
            0.00004802030807182666,
            0.00011991510299894468,
            null,
            0.00011991510299894468,
            0.11801322790514229,
            null,
            -0.2901202460113487,
            -0.2900480200772706,
            null,
            -0.2900480200772706,
            -0.4080128972275938,
            null,
            -0.4080128972275938,
            -0.2901202460113487,
            null
           ]
          },
          {
           "i": [
            0,
            3
           ],
           "j": [
            1,
            4
           ],
           "k": [
            2,
            5
           ],
           "name": "Faces",
           "type": "mesh3d",
           "x": {
            "bdata": "S4GY+GcAZz8c88F63N3vPyFZJZQhYlI/TEYDuBER8D8jWX3Wf/T/PwQSvXdn+/8/",
            "dtype": "f8"
           },
           "y": {
            "bdata": "0Z9jbaBcQr/PPlAqnGJSP6ylmNll++8/g0IvV51iUj9Bp1/vn1xCvy3Mvdll++8/",
            "dtype": "f8"
           },
           "z": {
            "bdata": "FYlfyF1vHz9EFVlqHTa+P1s/wTgtLQk/EBR8IOIc2r+LrSGCVJHSv2gXIJIlkNK/",
            "dtype": "f8"
           }
          }
         ],
         "layout": {
          "annotations": [
           {
            "showarrow": false,
            "text": "Time: 0.77s (Step: 78/100)",
            "x": 0.05,
            "xref": "paper",
            "y": 0.95,
            "yref": "paper"
           }
          ]
         },
         "name": "77"
        },
        {
         "data": [
          {
           "name": "Free Nodes",
           "type": "scatter3d",
           "x": {
            "bdata": "k4fqdRbNZz/kblimtdzvP/t2rV+LBVM/+cPbIaUR8D/sf5p/GfT/P6OkSp0++/8/",
            "dtype": "f8"
           },
           "y": {
            "bdata": "Kv2qWKP/Qr8E7gJZCwZTP95CuuI8++8/qCtziwwGUz+h7ZnZov9CvxwU4OI8++8/",
            "dtype": "f8"
           },
           "z": {
            "bdata": "Xta1JuCEID/HoYTR07i+P7tKQVvDdAo/0cp3OXuP2r+hiFmzWePSv2v27FMb4tK/",
            "dtype": "f8"
           }
          },
          {
           "name": "Fixed Nodes",
           "type": "scatter3d",
           "x": [],
           "y": [],
           "z": []
          },
          {
           "name": "Edges",
           "type": "scatter3d",
           "x": [
            0.9956920861181655,
            0.0011609898635564486,
            null,
            0.0011609898635564486,
            0.0029054106410776963,
            null,
            0.0029054106410776963,
            0.9956920861181655,
            null,
            1.9970946297180445,
            1.9988390106393943,
            null,
            1.9988390106393943,
            1.004307873019796,
            null,
            1.004307873019796,
            1.9970946297180445,
            null
           ],
           "y": [
            0.0011611090485946782,
            0.9994186809800245,
            null,
            0.9994186809800245,
            -0.0005797908391612973,
            null,
            -0.0005797908391612973,
            0.0011611090485946782,
            null,
            -0.0005797906080284196,
            0.999418681255182,
            null,
            0.999418681255182,
            0.0011611101634112306,
            null,
            0.0011611101634112306,
            -0.0005797906080284196,
            null
           ],
           "z": [
            0.12000774254978018,
            0.000050461017423804895,
            null,
            0.000050461017423804895,
            0.0001260303136906724,
            null,
            0.0001260303136906724,
            0.12000774254978018,
            null,
            -0.2951263667547526,
            -0.29505046077597424,
            null,
            -0.29505046077597424,
            -0.4150074063501679,
            null,
            -0.4150074063501679,
            -0.2951263667547526,
            null
           ]
          },
          {
           "i": [
            0,
            3
           ],
           "j": [
            1,
            4
           ],
           "k": [
            2,
            5
           ],
           "name": "Faces",
           "type": "mesh3d",
           "x": {
            "bdata": "k4fqdRbNZz/kblimtdzvP/t2rV+LBVM/+cPbIaUR8D/sf5p/GfT/P6OkSp0++/8/",
            "dtype": "f8"
           },
           "y": {
            "bdata": "Kv2qWKP/Qr8E7gJZCwZTP95CuuI8++8/qCtziwwGUz+h7ZnZov9CvxwU4OI8++8/",
            "dtype": "f8"
           },
           "z": {
            "bdata": "Xta1JuCEID/HoYTR07i+P7tKQVvDdAo/0cp3OXuP2r+hiFmzWePSv2v27FMb4tK/",
            "dtype": "f8"
           }
          }
         ],
         "layout": {
          "annotations": [
           {
            "showarrow": false,
            "text": "Time: 0.78s (Step: 79/100)",
            "x": 0.05,
            "xref": "paper",
            "y": 0.95,
            "yref": "paper"
           }
          ]
         },
         "name": "78"
        },
        {
         "data": [
          {
           "name": "Free Nodes",
           "type": "scatter3d",
           "x": {
            "bdata": "fbnPfUGdaD/c5qXyidvvPyfdFqi6q1M/RzxX+zoS8D+C5nNqsfP/P9T8eBEV+/8/",
            "dtype": "f8"
           },
           "y": {
            "bdata": "BDT/P2alQ79BefErQKxTP1jFCDkT++8/XCP7Y0GsUz/4KvS/ZaVDvwFCLzkT++8/",
            "dtype": "f8"
           },
           "z": {
            "bdata": "azf3dupYIT91COhvhTu/P6LBAog7xws/SJpCIBMC2788ELK/XzXTvzMQymwRNNO/",
            "dtype": "f8"
           }
          },
          {
           "name": "Fixed Nodes",
           "type": "scatter3d",
           "x": [],
           "y": [],
           "z": []
          },
          {
           "name": "Edges",
           "type": "scatter3d",
           "x": [
            0.9955491770953944,
            0.0012006113832806005,
            null,
            0.0012006113832806005,
            0.0030046729211711796,
            null,
            0.0030046729211711796,
            0.9955491770953944,
            null,
            1.9969953687963486,
            1.998799389126181,
            null,
            1.998799389126181,
            1.0044507806776595,
            null,
            1.0044507806776595,
            1.9969953687963486,
            null
           ],
           "y": [
            0.0012007357288648798,
            0.9993988145780959,
            null,
            0.9993988145780959,
            -0.0005995511310118444,
            null,
            -0.0005995511310118444,
            0.0012007357288648798,
            null,
            -0.00059955089810279,
            0.9993988148581253,
            null,
            0.9993988148581253,
            0.001200736864051608,
            null,
            0.001200736864051608,
            -0.00059955089810279,
            null
           ],
           "z": [
            0.12200197202767689,
            0.0000529828112133563,
            null,
            0.0000529828112133563,
            0.00013234960668600677,
            null,
            0.00013234960668600677,
            0.12200197202767689,
            null,
            -0.30013269157666733,
            -0.3000529825587847,
            null,
            -0.3000529825587847,
            -0.4220016303101244,
            null,
            -0.4220016303101244,
            -0.30013269157666733,
            null
           ]
          },
          {
           "i": [
            0,
            3
           ],
           "j": [
            1,
            4
           ],
           "k": [
            2,
            5
           ],
           "name": "Faces",
           "type": "mesh3d",
           "x": {
            "bdata": "fbnPfUGdaD/c5qXyidvvPyfdFqi6q1M/RzxX+zoS8D+C5nNqsfP/P9T8eBEV+/8/",
            "dtype": "f8"
           },
           "y": {
            "bdata": "BDT/P2alQ79BefErQKxTP1jFCDkT++8/XCP7Y0GsUz/4KvS/ZaVDvwFCLzkT++8/",
            "dtype": "f8"
           },
           "z": {
            "bdata": "azf3dupYIT91COhvhTu/P6LBAog7xws/SJpCIBMC2788ELK/XzXTvzMQymwRNNO/",
            "dtype": "f8"
           }
          }
         ],
         "layout": {
          "annotations": [
           {
            "showarrow": false,
            "text": "Time: 0.79s (Step: 80/100)",
            "x": 0.05,
            "xref": "paper",
            "y": 0.95,
            "yref": "paper"
           }
          ]
         },
         "name": "79"
        },
        {
         "data": [
          {
           "name": "Free Nodes",
           "type": "scatter3d",
           "x": {
            "bdata": "4J546OhwaT9ybPZfWdrvP3Cf3SSvVFQ/t6ZPRNMS8D98dB2XR/P/P387WtTq+v8/",
            "dtype": "f8"
           },
           "y": {
            "bdata": "7SOEqehNRL+KQu9aOlVUP2HMidzo+u8/xtmamDtVVD/P65Io6E1Evyj1sNzo+u8/",
            "dtype": "f8"
           },
           "z": {
            "bdata": "lNKXieozIj9Fo4oxMr6/P6k+prHCJA0/qF3ez6l027991MGqZofTv2z5Ht4HhtO/",
            "dtype": "f8"
           }
          },
          {
           "name": "Fixed Nodes",
           "type": "scatter3d",
           "x": [],
           "y": [],
           "z": []
          },
          {
           "name": "Edges",
           "type": "scatter3d",
           "x": [
            0.995403945376337,
            0.0012408934012117755,
            null,
            0.0012408934012117755,
            0.003105597399343782,
            null,
            0.003105597399343782,
            0.995403945376337,
            null,
            1.9968944456989268,
            1.9987591071146367,
            null,
            1.9987591071146367,
            1.00459601100958,
            null,
            1.00459601100958,
            1.9968944456989268,
            null
           ],
           "y": [
            0.001241023051751141,
            0.999378615130251,
            null,
            0.999378615130251,
            -0.0006196390195621883,
            null,
            -0.0006196390195621883,
            0.001241023051751141,
            null,
            -0.0006196387850175791,
            0.9993786154151723,
            null,
            0.9993786154151723,
            0.0012410242074288743,
            null,
            0.0012410242074288743,
            -0.0006196387850175791,
            null
           ],
           "z": [
            0.12399591168890563,
            0.00005558699759255815,
            null,
            0.00005558699759255815,
            0.0001388763237596581,
            null,
            0.0001388763237596581,
            0.12399591168890563,
            null,
            -0.3051392238188056,
            -0.30505558673384914,
            null,
            -0.30505558673384914,
            -0.42899556445760334,
            null,
            -0.42899556445760334,
            -0.3051392238188056,
            null
           ]
          },
          {
           "i": [
            0,
            3
           ],
           "j": [
            1,
            4
           ],
           "k": [
            2,
            5
           ],
           "name": "Faces",
           "type": "mesh3d",
           "x": {
            "bdata": "4J546OhwaT9ybPZfWdrvP3Cf3SSvVFQ/t6ZPRNMS8D98dB2XR/P/P387WtTq+v8/",
            "dtype": "f8"
           },
           "y": {
            "bdata": "7SOEqehNRL+KQu9aOlVUP2HMidzo+u8/xtmamDtVVD/P65Io6E1Evyj1sNzo+u8/",
            "dtype": "f8"
           },
           "z": {
            "bdata": "lNKXieozIj9Fo4oxMr6/P6k+prHCJA0/qF3ez6l027991MGqZofTv2z5Ht4HhtO/",
            "dtype": "f8"
           }
          }
         ],
         "layout": {
          "annotations": [
           {
            "showarrow": false,
            "text": "Time: 0.80s (Step: 81/100)",
            "x": 0.05,
            "xref": "paper",
            "y": 0.95,
            "yref": "paper"
           }
          ]
         },
         "name": "80"
        },
        {
         "data": [
          {
           "name": "Free Nodes",
           "type": "scatter3d",
           "x": {
            "bdata": "uJZ5jQxIaj+fQpfuI9nvP3AOU4xoAFU/BGKe/G0T8D+FX6sF3PL/Pz/MAOa/+v8/",
            "dtype": "f8"
           },
           "y": {
            "bdata": "0s5UGSr5RL8MuZ+c+QBVPwINQ829+u8/JwH23/oAVT/f05GXKflEv6Dias29+u8/",
            "dtype": "f8"
           },
           "z": {
            "bdata": "a5nqEv0VIz8JizoBbSDAP8UrwcGFjQ4/nEJNQz/n279mWx94btnTv2n+Uqn+19O/",
            "dtype": "f8"
           }
          },
          {
           "name": "Fixed Nodes",
           "type": "scatter3d",
           "x": [],
           "y": [],
           "z": []
          },
          {
           "name": "Edges",
           "type": "scatter3d",
           "x": [
            0.9952563915231457,
            0.0012818356492950954,
            null,
            0.0012818356492950954,
            0.0032081837814981994,
            null,
            0.0032081837814981994,
            0.9952563915231457,
            null,
            1.996791860719868,
            1.9987181648728123,
            null,
            1.9987181648728123,
            1.0047435634534176,
            null,
            1.0047435634534176,
            1.996791860719868,
            null
           ],
           "y": [
            0.0012819707503655712,
            0.9993580826780148,
            null,
            0.9993580826780148,
            -0.0006400542794495429,
            null,
            -0.0006400542794495429,
            0.0012819707503655712,
            null,
            -0.0006400540434144917,
            0.9993580829678486,
            null,
            0.9993580829678486,
            0.001281971926658862,
            null,
            0.001281971926658862,
            -0.0006400540434144917,
            null
           ],
           "z": [
            0.1259895568847116,
            0.00005827488368533683,
            null,
            0.00005827488368533683,
            0.00014561380654249818,
            null,
            0.00014561380654249818,
            0.1259895568847116,
            null,
            -0.3101459668227363,
            -0.31005827460828655,
            null,
            -0.31005827460828655,
            -0.43598920414391684,
            null,
            -0.43598920414391684,
            -0.3101459668227363,
            null
           ]
          },
          {
           "i": [
            0,
            3
           ],
           "j": [
            1,
            4
           ],
           "k": [
            2,
            5
           ],
           "name": "Faces",
           "type": "mesh3d",
           "x": {
            "bdata": "uJZ5jQxIaj+fQpfuI9nvP3AOU4xoAFU/BGKe/G0T8D+FX6sF3PL/Pz/MAOa/+v8/",
            "dtype": "f8"
           },
           "y": {
            "bdata": "0s5UGSr5RL8MuZ+c+QBVPwINQ829+u8/JwH23/oAVT/f05GXKflEv6Dias29+u8/",
            "dtype": "f8"
           },
           "z": {
            "bdata": "a5nqEv0VIz8JizoBbSDAP8UrwcGFjQ4/nEJNQz/n279mWx94btnTv2n+Uqn+19O/",
            "dtype": "f8"
           }
          }
         ],
         "layout": {
          "annotations": [
           {
            "showarrow": false,
            "text": "Time: 0.81s (Step: 82/100)",
            "x": 0.05,
            "xref": "paper",
            "y": 0.95,
            "yref": "paper"
           }
          ]
         },
         "name": "81"
        },
        {
         "data": [
          {
           "name": "Free Nodes",
           "type": "scatter3d",
           "x": {
            "bdata": "U8HKQ6wiaz/r3dae6dfvPxvZnZPmrlU/ITQcJAsU8D9oKzK2bvL/P1Vlf0aU+v8/",
            "dtype": "f8"
           },
           "y": {
            "bdata": "FiqDESqnRb9yTnamfa9VPwBSOguS+u8/1FaA736vVT86lQOPKadFvzfVYguS+u8/",
            "dtype": "f8"
           },
           "z": {
            "bdata": "69/wxj7/Iz/MqVhnvmHAPx0pXMzYABA/iMqRddNZ3L/EIGErdyvUv/khzc/1KdS/",
            "dtype": "f8"
           }
          },
          {
           "name": "Fixed Nodes",
           "type": "scatter3d",
           "x": [],
           "y": [],
           "z": []
          },
          {
           "name": "Edges",
           "type": "scatter3d",
           "x": [
            0.9951065161066571,
            0.001323437855231874,
            null,
            0.001323437855231874,
            0.0033124317690963827,
            null,
            0.0033124317690963827,
            0.9951065161066571,
            null,
            1.9966876141577021,
            1.9986765626730023,
            null,
            1.9986765626730023,
            1.004893437438348,
            null,
            1.004893437438348,
            1.9966876141577021,
            null
           ],
           "y": [
            0.0013235785535003178,
            0.9993372172635304,
            null,
            0.9993372172635304,
            -0.0006607966816088464,
            null,
            -0.0006607966816088464,
            0.0013235785535003178,
            null,
            -0.0006607964442337029,
            0.9993372175582981,
            null,
            0.9993372175582981,
            0.0013235797505379192,
            null,
            0.0013235797505379192,
            -0.0006607964442337029,
            null
           ],
           "z": [
            0.1279829029675298,
            0.00006104777557084215,
            null,
            0.00006104777557084215,
            0.00015256539652042043,
            null,
            0.00015256539652042043,
            0.1279829029675298,
            null,
            -0.31515292392988337,
            -0.31506104748817126,
            null,
            -0.31506104748817126,
            -0.44298254472156673,
            null,
            -0.44298254472156673,
            -0.31515292392988337,
            null
           ]
          },
          {
           "i": [
            0,
            3
           ],
           "j": [
            1,
            4
           ],
           "k": [
            2,
            5
           ],
           "name": "Faces",
           "type": "mesh3d",
           "x": {
            "bdata": "U8HKQ6wiaz/r3dae6dfvPxvZnZPmrlU/ITQcJAsU8D9oKzK2bvL/P1Vlf0aU+v8/",
            "dtype": "f8"
           },
           "y": {
            "bdata": "FiqDESqnRb9yTnamfa9VPwBSOguS+u8/1FaA736vVT86lQOPKadFvzfVYguS+u8/",
            "dtype": "f8"
           },
           "z": {
            "bdata": "69/wxj7/Iz/MqVhnvmHAPx0pXMzYABA/iMqRddNZ3L/EIGErdyvUv/khzc/1KdS/",
            "dtype": "f8"
           }
          }
         ],
         "layout": {
          "annotations": [
           {
            "showarrow": false,
            "text": "Time: 0.82s (Step: 83/100)",
            "x": 0.05,
            "xref": "paper",
            "y": 0.95,
            "yref": "paper"
           }
          ]
         },
         "name": "82"
        },
        {
         "data": [
          {
           "name": "Free Nodes",
           "type": "scatter3d",
           "x": {
            "bdata": "quLH4ccAbD9l5ARxqtbvPwJauu4oYFY/QkqhuqoU8D8bqsao//H/P5cH6fVn+v8/",
            "dtype": "f8"
           },
           "y": {
            "bdata": "VxoYEuhXRr98l7YsxmBWP8l7dZZl+u8/Nrt9e8dgVj/pvPGO51dGv2CtnpZl+u8/",
            "dtype": "f8"
           },
           "z": {
            "bdata": "tqZZWczvJD81USVBDaPAPwuOzYa5wBA/xMuuYWbM3L8clh3IgH3Uv0Ac9FLte9S/",
            "dtype": "f8"
           }
          },
          {
           "name": "Fixed Nodes",
           "type": "scatter3d",
           "x": [],
           "y": [],
           "z": []
          },
          {
           "name": "Edges",
           "type": "scatter3d",
           "x": [
            0.9949543197063916,
            0.0013656997424839061,
            null,
            0.0013656997424839061,
            0.003418341059156245,
            null,
            0.003418341059156245,
            0.9949543197063916,
            null,
            1.9965817063154023,
            1.9986343007917406,
            null,
            1.9986343007917406,
            1.005045632384864,
            null,
            1.005045632384864,
            1.9965817063154023,
            null
           ],
           "y": [
            0.001365846185629376,
            0.9993160189295561,
            null,
            0.9993160189295561,
            -0.000681865993272644,
            null,
            -0.000681865993272644,
            0.001365846185629376,
            null,
            -0.0006818657547124327,
            0.9993160192292798,
            null,
            0.9993160192292798,
            0.0013658474035442409,
            null,
            0.0013658474035442409,
            -0.0006818657547124327,
            null
           ],
           "z": [
            0.12997594529100245,
            0.00006390697826712964,
            null,
            0.00006390697826712964,
            0.00015973443503307865,
            null,
            0.00015973443503307865,
            0.12997594529100245,
            null,
            -0.3201600984815245,
            -0.3200639066785165,
            null,
            -0.3200639066785165,
            -0.4499755815442621,
            null,
            -0.4499755815442621,
            -0.3201600984815245,
            null
           ]
          },
          {
           "i": [
            0,
            3
           ],
           "j": [
            1,
            4
           ],
           "k": [
            2,
            5
           ],
           "name": "Faces",
           "type": "mesh3d",
           "x": {
            "bdata": "quLH4ccAbD9l5ARxqtbvPwJauu4oYFY/QkqhuqoU8D8bqsao//H/P5cH6fVn+v8/",
            "dtype": "f8"
           },
           "y": {
            "bdata": "VxoYEuhXRr98l7YsxmBWP8l7dZZl+u8/Nrt9e8dgVj/pvPGO51dGv2CtnpZl+u8/",
            "dtype": "f8"
           },
           "z": {
            "bdata": "tqZZWczvJD81USVBDaPAPwuOzYa5wBA/xMuuYWbM3L8clh3IgH3Uv0Ac9FLte9S/",
            "dtype": "f8"
           }
          }
         ],
         "layout": {
          "annotations": [
           {
            "showarrow": false,
            "text": "Time: 0.83s (Step: 84/100)",
            "x": 0.05,
            "xref": "paper",
            "y": 0.95,
            "yref": "paper"
           }
          ]
         },
         "name": "83"
        },
        {
         "data": [
          {
           "name": "Free Nodes",
           "type": "scatter3d",
           "x": {
            "bdata": "8UwwPV/ibD+PLXJlZtXvP87oelAvFFc/3TgFwEwV8D/O+33djvH/P17+UPQ6+v8/",
            "dtype": "f8"
           },
           "y": {
            "bdata": "lXITmWMLR78TcHTi0hRXP2SA+m44+u8/wE4CN9QUVz9+yFwVYwtHvyphJG84+u8/",
            "dtype": "f8"
           },
           "z": {
            "bdata": "q/SAfcLnJT/s0KaEWeTAP4N2/3Z7hhE/2HKnAvg+3b+SIutRi8/Uv5FZLjTlzdS/",
            "dtype": "f8"
           }
          },
          {
           "name": "Fixed Nodes",
           "type": "scatter3d",
           "x": [],
           "y": [],
           "z": []
          },
          {
           "name": "Edges",
           "type": "scatter3d",
           "x": [
            0.9947998029105508,
            0.0014086210302779903,
            null,
            0.0014086210302779903,
            0.003525911344249282,
            null,
            0.003525911344249282,
            0.9947998029105508,
            null,
            1.9964741375003885,
            1.9985913795097967,
            null,
            1.9985913795097967,
            1.005200147704776,
            null,
            1.005200147704776,
            1.9964741375003885,
            null
           ],
           "y": [
            0.0014087733669105914,
            0.9992944877194643,
            null,
            0.9992944877194643,
            -0.0007032619779710642,
            null,
            -0.0007032619779710642,
            0.0014087733669105914,
            null,
            -0.0007032617383855436,
            0.999294488024167,
            null,
            0.999294488024167,
            0.0014087746058394773,
            null,
            0.0014087746058394773,
            -0.0007032617383855436,
            null
           ],
           "z": [
            0.13196867920999666,
            0.00006685379571488331,
            null,
            0.00006685379571488331,
            0.0001671242632727323,
            null,
            0.0001671242632727323,
            0.13196867920999666,
            null,
            -0.32516749381878995,
            -0.325066853483258,
            null,
            -0.325066853483258,
            -0.4569683099669368,
            null,
            -0.4569683099669368,
            -0.32516749381878995,
            null
           ]
          },
          {
           "i": [
            0,
            3
           ],
           "j": [
            1,
            4
           ],
           "k": [
            2,
            5
           ],
           "name": "Faces",
           "type": "mesh3d",
           "x": {
            "bdata": "8UwwPV/ibD+PLXJlZtXvP87oelAvFFc/3TgFwEwV8D/O+33djvH/P17+UPQ6+v8/",
            "dtype": "f8"
           },
           "y": {
            "bdata": "lXITmWMLR78TcHTi0hRXP2SA+m44+u8/wE4CN9QUVz9+yFwVYwtHvyphJG84+u8/",
            "dtype": "f8"
           },
           "z": {
            "bdata": "q/SAfcLnJT/s0KaEWeTAP4N2/3Z7hhE/2HKnAvg+3b+SIutRi8/Uv5FZLjTlzdS/",
            "dtype": "f8"
           }
          }
         ],
         "layout": {
          "annotations": [
           {
            "showarrow": false,
            "text": "Time: 0.84s (Step: 85/100)",
            "x": 0.05,
            "xref": "paper",
            "y": 0.95,
            "yref": "paper"
           }
          ]
         },
         "name": "84"
        },
        {
         "data": [
          {
           "name": "Free Nodes",
           "type": "scatter3d",
           "x": {
            "bdata": "ir0mK3LHbT9swnB8HdTvP5MFiGr5ylc/r/seNPEV8D/8jm1UHPH/P3PfykEN+v8/",
            "dtype": "f8"
           },
           "y": {
            "bdata": "SbNrIpzBR79T+JN5o8tXP2Frz5QK+u8/XI/y06TLVz+XBjyem8FHvyr8+ZQK+u8/",
            "dtype": "f8"
           },
           "z": {
            "bdata": "JBJv5j3nJj99J+QnoyXBP3Hu7P40UhI/u0N/U4ix3b/SImDMliHVv0j54XTdH9W/",
            "dtype": "f8"
           }
          },
          {
           "name": "Fixed Nodes",
           "type": "scatter3d",
           "x": [],
           "y": [],
           "z": []
          },
          {
           "name": "Edges",
           "type": "scatter3d",
           "x": [
            0.9946429663160195,
            0.001452201433608334,
            null,
            0.001452201433608334,
            0.0036351423124966796,
            null,
            0.0036351423124966796,
            0.9946429663160195,
            null,
            1.996364908024531,
            1.9985477991121712,
            null,
            1.9985477991121712,
            1.0053569828012134,
            null,
            1.0053569828012134,
            1.996364908024531,
            null
           ],
           "y": [
            0.0014523598131854956,
            0.9992726236772392,
            null,
            0.9992726236772392,
            -0.0007249843955300174,
            null,
            -0.0007249843955300174,
            0.0014523598131854956,
            null,
            -0.0007249841550846678,
            0.9992726239869445,
            null,
            0.9992726239869445,
            0.0014523610732703673,
            null,
            0.0014523610732703673,
            -0.0007249841550846678,
            null
           ],
           "z": [
            0.13396110008062215,
            0.00006988953076086394,
            null,
            0.00006988953076086394,
            0.00017473822228288125,
            null,
            0.00017473822228288125,
            0.13396110008062215,
            null,
            -0.33017511328266125,
            -0.33006988920523783,
            null,
            -0.33006988920523783,
            -0.4639607253457673,
            null,
            -0.4639607253457673,
            -0.33017511328266125,
            null
           ]
          },
          {
           "i": [
            0,
            3
           ],
           "j": [
            1,
            4
           ],
           "k": [
            2,
            5
           ],
           "name": "Faces",
           "type": "mesh3d",
           "x": {
            "bdata": "ir0mK3LHbT9swnB8HdTvP5MFiGr5ylc/r/seNPEV8D/8jm1UHPH/P3PfykEN+v8/",
            "dtype": "f8"
           },
           "y": {
            "bdata": "SbNrIpzBR79T+JN5o8tXP2Frz5QK+u8/XI/y06TLVz+XBjyem8FHvyr8+ZQK+u8/",
            "dtype": "f8"
           },
           "z": {
            "bdata": "JBJv5j3nJj99J+QnoyXBP3Hu7P40UhI/u0N/U4ix3b/SImDMliHVv0j54XTdH9W/",
            "dtype": "f8"
           }
          }
         ],
         "layout": {
          "annotations": [
           {
            "showarrow": false,
            "text": "Time: 0.85s (Step: 86/100)",
            "x": 0.05,
            "xref": "paper",
            "y": 0.95,
            "yref": "paper"
           }
          ]
         },
         "name": "85"
        },
        {
         "data": [
          {
           "name": "Free Nodes",
           "type": "scatter3d",
           "x": {
            "bdata": "r0kxgACwbj9h3VO2z9LvP6C6YO2GhFg/wPXEFpgW8D9xIKsNqPD/PwOLat7e+f8/",
            "dtype": "f8"
           },
           "y": {
            "bdata": "jy0OKJF6SL+lx8miN4VYP8ld+gfc+e8/fVcDAzmFWD9fb32jkHpIv3GfJQjc+e8/",
            "dtype": "f8"
           },
           "z": {
            "bdata": "2ePXRlvuJz/IBOUg6mbBP6Qur3v8IxM/EBs6Txck3r/+6BI7o3PVv6HMdBbWcdW/",
            "dtype": "f8"
           }
          },
          {
           "name": "Fixed Nodes",
           "type": "scatter3d",
           "x": [],
           "y": [],
           "z": []
          },
          {
           "name": "Edges",
           "type": "scatter3d",
           "x": [
            0.9944838105283617,
            0.0014964406632419838,
            null,
            0.0014964406632419838,
            0.003746033647567169,
            null,
            0.003746033647567169,
            0.9944838105283617,
            null,
            1.9962540182041517,
            1.9985035598880934,
            null,
            1.9985035598880934,
            1.005516137068625,
            null,
            1.005516137068625,
            1.9962540182041517,
            null
           ],
           "y": [
            0.0014966052359821427,
            0.9992504268474757,
            null,
            0.9992504268474757,
            -0.0007470330020721716,
            null,
            -0.0007470330020721716,
            0.0014966052359821427,
            null,
            -0.00074703276093711,
            0.9992504271622079,
            null,
            0.9992504271622079,
            0.0014966065173686865,
            null,
            0.0014966065173686865,
            -0.00074703276093711,
            null
           ],
           "z": [
            0.13595320326024862,
            0.00007301548514176498,
            null,
            0.00007301548514176498,
            0.00018257965295712003,
            null,
            0.00018257965295712003,
            0.13595320326024862,
            null,
            -0.3351829602139701,
            -0.33507301514618787,
            null,
            -0.33507301514618787,
            -0.4709528230381901,
            null,
            -0.4709528230381901,
            -0.3351829602139701,
            null
           ]
          },
          {
           "i": [
            0,
            3
           ],
           "j": [
            1,
            4
           ],
           "k": [
            2,
            5
           ],
           "name": "Faces",
           "type": "mesh3d",
           "x": {
            "bdata": "r0kxgACwbj9h3VO2z9LvP6C6YO2GhFg/wPXEFpgW8D9xIKsNqPD/PwOLat7e+f8/",
            "dtype": "f8"
           },
           "y": {
            "bdata": "jy0OKJF6SL+lx8miN4VYP8ld+gfc+e8/fVcDAzmFWD9fb32jkHpIv3GfJQjc+e8/",
            "dtype": "f8"
           },
           "z": {
            "bdata": "2ePXRlvuJz/IBOUg6mbBP6Qur3v8IxM/EBs6Txck3r/+6BI7o3PVv6HMdBbWcdW/",
            "dtype": "f8"
           }
          }
         ],
         "layout": {
          "annotations": [
           {
            "showarrow": false,
            "text": "Time: 0.86s (Step: 87/100)",
            "x": 0.05,
            "xref": "paper",
            "y": 0.95,
            "yref": "paper"
           }
          ]
         },
         "name": "86"
        },
        {
         "data": [
          {
           "name": "Free Nodes",
           "type": "scatter3d",
           "x": {
            "bdata": "Mz85EAqcbz9D6m8TfdHvP1TCWojXQFk/Y/HMZ0EX8D9eu0wJMvD/P4orRMqv+f8/",
            "dtype": "f8"
           },
           "y": {
            "bdata": "Oa3eIUI2Sb/K4poNj0FZPwyOgcis+e8/bQC6c5BBWT+tiwWdQTZJv3SBrcis+e8/",
            "dtype": "f8"
           },
           "z": {
            "bdata": "ryoaUTf9KD+GzLFlLqjBP0XvakXo+xM/ZC/c8KSW3r+SvJmhsMXVv5NVTBrPw9W/",
            "dtype": "f8"
           }
          },
          {
           "name": "Fixed Nodes",
           "type": "scatter3d",
           "x": [],
           "y": [],
           "z": []
          },
          {
           "name": "Edges",
           "type": "scatter3d",
           "x": [
            0.9943223361618226,
            0.0015413384257209244,
            null,
            0.0015413384257209244,
            0.0038585850286735556,
            null,
            0.0038585850286735556,
            0.9943223361618226,
            null,
            1.9961414683600291,
            1.9984586621310165,
            null,
            1.9984586621310165,
            1.005677609892779,
            null,
            1.005677609892779,
            1.9961414683600291,
            null
           ],
           "y": [
            0.001541509342514557,
            0.9992278972753765,
            null,
            0.9992278972753765,
            -0.0007694075500145676,
            null,
            -0.0007694075500145676,
            0.001541509342514557,
            null,
            -0.0007694073083651575,
            0.9992278975951607,
            null,
            0.9992278975951607,
            0.0015415106453531516,
            null,
            0.0015415106453531516,
            -0.0007694073083651575,
            null
           ],
           "z": [
            0.1379449841075237,
            0.00007623295946762334,
            null,
            0.00007623295946762334,
            0.00019065189603780427,
            null,
            0.00019065189603780427,
            0.1379449841075237,
            null,
            -0.3401910379533969,
            -0.34007623260671344,
            null,
            -0.34007623260671344,
            -0.47794459840291936,
            null,
            -0.47794459840291936,
            -0.3401910379533969,
            null
           ]
          },
          {
           "i": [
            0,
            3
           ],
           "j": [
            1,
            4
           ],
           "k": [
            2,
            5
           ],
           "name": "Faces",
           "type": "mesh3d",
           "x": {
            "bdata": "Mz85EAqcbz9D6m8TfdHvP1TCWojXQFk/Y/HMZ0EX8D9eu0wJMvD/P4orRMqv+f8/",
            "dtype": "f8"
           },
           "y": {
            "bdata": "Oa3eIUI2Sb/K4poNj0FZPwyOgcis+e8/bQC6c5BBWT+tiwWdQTZJv3SBrcis+e8/",
            "dtype": "f8"
           },
           "z": {
            "bdata": "ryoaUTf9KD+GzLFlLqjBP0XvakXo+xM/ZC/c8KSW3r+SvJmhsMXVv5NVTBrPw9W/",
            "dtype": "f8"
           }
          }
         ],
         "layout": {
          "annotations": [
           {
            "showarrow": false,
            "text": "Time: 0.87s (Step: 88/100)",
            "x": 0.05,
            "xref": "paper",
            "y": 0.95,
            "yref": "paper"
           }
          ]
         },
         "name": "87"
        },
        {
         "data": [
          {
           "name": "Free Nodes",
           "type": "scatter3d",
           "x": {
            "bdata": "hIRFV8dFcD8+hhqUJdDvP1fvounq/1k/PiAMJ+0X8D9luWhHuu//P781bAWA+f8/",
            "dtype": "f8"
           },
           "y": {
            "bdata": "/523ha70Sb8F9FxoqQBaP/BHa9Z8+e8/z4Rs1KoAWj8xka8ArvRJvwTul9Z8+e8/",
            "dtype": "f8"
           },
           "z": {
            "bdata": "xMk+t+4TKj+6mFPsb+nBP1hNPq8O2hQ/ahJqMzEJ379O2ooDvxfWv6vFzYHIFda/",
            "dtype": "f8"
           }
          },
          {
           "name": "Fixed Nodes",
           "type": "scatter3d",
           "x": [],
           "y": [],
           "z": []
          },
          {
           "name": "Edges",
           "type": "scatter3d",
           "x": [
            0.9941585438393259,
            0.001586894423367865,
            null,
            0.001586894423367865,
            0.00397279613056967,
            null,
            0.00397279613056967,
            0.9941585438393259,
            null,
            1.9960272588174004,
            1.9984131061386134,
            null,
            1.9984131061386134,
            1.0058414006507657,
            null,
            1.0058414006507657,
            1.9960272588174004,
            null
           ],
           "y": [
            0.0015870718356858504,
            0.9992050350067512,
            null,
            0.9992050350067512,
            -0.0007921077880696513,
            null,
            -0.0007921077880696513,
            0.0015870718356858504,
            null,
            -0.0007921075460868618,
            0.9992050353316135,
            null,
            0.9992050353316135,
            0.0015870731601313364,
            null,
            0.0015870731601313364,
            -0.0007921075460868618,
            null
           ],
           "z": [
            0.13993643798239025,
            0.00007954325320574018,
            null,
            0.00007954325320574018,
            0.0001989582921147604,
            null,
            0.0001989582921147604,
            0.13993643798239025,
            null,
            -0.3451993498414695,
            -0.3450795428862771,
            null,
            -0.3450795428862771,
            -0.4849360467999647,
            null,
            -0.4849360467999647,
            -0.3451993498414695,
            null
           ]
          },
          {
           "i": [
            0,
            3
           ],
           "j": [
            1,
            4
           ],
           "k": [
            2,
            5
           ],
           "name": "Faces",
           "type": "mesh3d",
           "x": {
            "bdata": "hIRFV8dFcD8+hhqUJdDvP1fvounq/1k/PiAMJ+0X8D9luWhHuu//P781bAWA+f8/",
            "dtype": "f8"
           },
           "y": {
            "bdata": "/523ha70Sb8F9FxoqQBaP/BHa9Z8+e8/z4Rs1KoAWj8xka8ArvRJvwTul9Z8+e8/",
            "dtype": "f8"
           },
           "z": {
            "bdata": "xMk+t+4TKj+6mFPsb+nBP1hNPq8O2hQ/ahJqMzEJ379O2ooDvxfWv6vFzYHIFda/",
            "dtype": "f8"
           }
          }
         ],
         "layout": {
          "annotations": [
           {
            "showarrow": false,
            "text": "Time: 0.88s (Step: 89/100)",
            "x": 0.05,
            "xref": "paper",
            "y": 0.95,
            "yref": "paper"
           }
          ]
         },
         "name": "88"
        },
        {
         "data": [
          {
           "name": "Free Nodes",
           "type": "scatter3d",
           "x": {
            "bdata": "+wfrFke/cD/af6o4yc7vP3RfPb7AwVo/TRtXVJsY8D+kwhXIQO//P4do949P+f8/",
            "dtype": "f8"
           },
           "y": {
            "bdata": "T9Rpx9W1Sr/YTDZghsJaP4LsvTFM+e8/7YNB0ofCWj8CB01C1bVKvzNG6zFM+e8/",
            "dtype": "f8"
           },
           "z": {
            "bdata": "KgL4Kp4yKz82PNSqrirCP747LgeGvhU/OrLoEbx7378gdHxkzmnWv+P8XU7CZ9a/",
            "dtype": "f8"
           }
          },
          {
           "name": "Fixed Nodes",
           "type": "scatter3d",
           "x": [],
           "y": [],
           "z": []
          },
          {
           "name": "Edges",
           "type": "scatter3d",
           "x": [
            0.9939924341924737,
            0.001633108354289062,
            null,
            0.001633108354289062,
            0.004088666623546895,
            null,
            0.004088666623546895,
            0.9939924341924737,
            null,
            1.995911389905964,
            1.9983668922127735,
            null,
            1.9983668922127735,
            1.0060075087109965,
            null,
            1.0060075087109965,
            1.995911389905964,
            null
           ],
           "y": [
            0.001633292414088319,
            0.9991818400880137,
            null,
            0.9991818400880137,
            -0.0008151334612437419,
            null,
            -0.0008151334612437419,
            0.001633292414088319,
            null,
            -0.000815133219113501,
            0.999181840417981,
            null,
            0.999181840417981,
            0.0016332937602998546,
            null,
            0.0016332937602998546,
            -0.000815133219113501,
            null
           ],
           "z": [
            0.14192756024610426,
            0.00008294766466419767,
            null,
            0.00008294766466419767,
            0.00020750218162392367,
            null,
            0.00020750218162392367,
            0.14192756024610426,
            null,
            -0.350207899218562,
            -0.3500829472831823,
            null,
            -0.3500829472831823,
            -0.4919271635906487,
            null,
            -0.4919271635906487,
            -0.350207899218562,
            null
           ]
          },
          {
           "i": [
            0,
            3
           ],
           "j": [
            1,
            4
           ],
           "k": [
            2,
            5
           ],
           "name": "Faces",
           "type": "mesh3d",
           "x": {
            "bdata": "+wfrFke/cD/af6o4yc7vP3RfPb7AwVo/TRtXVJsY8D+kwhXIQO//P4do949P+f8/",
            "dtype": "f8"
           },
           "y": {
            "bdata": "T9Rpx9W1Sr/YTDZghsJaP4LsvTFM+e8/7YNB0ofCWj8CB01C1bVKvzNG6zFM+e8/",
            "dtype": "f8"
           },
           "z": {
            "bdata": "KgL4Kp4yKz82PNSqrirCP747LgeGvhU/OrLoEbx7378gdHxkzmnWv+P8XU7CZ9a/",
            "dtype": "f8"
           }
          }
         ],
         "layout": {
          "annotations": [
           {
            "showarrow": false,
            "text": "Time: 0.89s (Step: 90/100)",
            "x": 0.05,
            "xref": "paper",
            "y": 0.95,
            "yref": "paper"
           }
          ]
         },
         "name": "89"
        },
        {
         "data": [
          {
           "name": "Free Nodes",
           "type": "scatter3d",
           "x": {
            "bdata": "Z1IWMIQ6cT/t1ncBaM3vP8jEBbJYhls/4+KB70sZ8D/MzWqLxe7/P9/M+mke+f8/",
            "dtype": "f8"
           },
           "y": {
            "bdata": "rm68WLd5S791/R2hJYdbPwHyf9oa+e8/r2swGSeHWz/d4qXTtnlLv0cArtoa+e8/",
            "dtype": "f8"
           },
           "z": {
            "bdata": "g8KgXWJZLD8QRT6X6mvCP7QmFJZkqRY/j1pdh0Xu378IsQTI3rvWv3+IYYG8uda/",
            "dtype": "f8"
           }
          },
          {
           "name": "Fixed Nodes",
           "type": "scatter3d",
           "x": [],
           "y": [],
           "z": []
          },
          {
           "name": "Edges",
           "type": "scatter3d",
           "x": [
            0.9938240078615458,
            0.001679979912378381,
            null,
            0.001679979912378381,
            0.004206196173431743,
            null,
            0.004206196173431743,
            0.9938240078615458,
            null,
            1.9957938619598847,
            1.998320020659598,
            null,
            1.998320020659598,
            1.0061759334332059,
            null,
            1.0061759334332059,
            1.9957938619598847,
            null
           ],
           "y": [
            0.0016801707720047441,
            0.9991583125661806,
            null,
            0.9991583125661806,
            -0.0008384843108361817,
            null,
            -0.0008384843108361817,
            0.0016801707720047441,
            null,
            -0.0008384840687503909,
            0.9991583129012803,
            null,
            0.9991583129012803,
            0.0016801721401466898,
            null,
            0.0016801721401466898,
            -0.0008384840687503909,
            null
           ],
           "z": [
            0.14391834626125233,
            0.00008644749097555076,
            null,
            0.00008644749097555076,
            0.00021628690484611435,
            null,
            0.00021628690484611435,
            0.14391834626125233,
            null,
            -0.35521668942489315,
            -0.3550864470945569,
            null,
            -0.3550864470945569,
            -0.4989179441376245,
            null,
            -0.4989179441376245,
            -0.35521668942489315,
            null
           ]
          },
          {
           "i": [
            0,
            3
           ],
           "j": [
            1,
            4
           ],
           "k": [
            2,
            5
           ],
           "name": "Faces",
           "type": "mesh3d",
           "x": {
            "bdata": "Z1IWMIQ6cT/t1ncBaM3vP8jEBbJYhls/4+KB70sZ8D/MzWqLxe7/P9/M+mke+f8/",
            "dtype": "f8"
           },
           "y": {
            "bdata": "rm68WLd5S791/R2hJYdbPwHyf9oa+e8/r2swGSeHWz/d4qXTtnlLv0cArtoa+e8/",
            "dtype": "f8"
           },
           "z": {
            "bdata": "g8KgXWJZLD8QRT6X6mvCP7QmFJZkqRY/j1pdh0Xu378IsQTI3rvWv3+IYYG8uda/",
            "dtype": "f8"
           }
          }
         ],
         "layout": {
          "annotations": [
           {
            "showarrow": false,
            "text": "Time: 0.90s (Step: 91/100)",
            "x": 0.05,
            "xref": "paper",
            "y": 0.95,
            "yref": "paper"
           }
          ]
         },
         "name": "90"
        },
        {
         "data": [
          {
           "name": "Free Nodes",
           "type": "scatter3d",
           "x": {
            "bdata": "B+2Bi363cT+TvNvuAczvP0LDr2+yTVw/tN5f+P4Z8D8mIH+RSO7/P8q1i5Ps+P8/",
            "dtype": "f8"
           },
           "y": {
            "bdata": "1epsqVJATL8MANzVhk5cP8/jt9Do+O8/A4QBVIhOXD8FX3gkUkBMv6un5tDo+O8/",
            "dtype": "f8"
           },
           "z": {
            "bdata": "s847AFiILT8g/5ynI63CP6LIi5/Amhc/Attmx2Yw4L8Frbkx8A3Xv+ahPBy3C9e/",
            "dtype": "f8"
           }
          },
          {
           "name": "Fixed Nodes",
           "type": "scatter3d",
           "x": [],
           "y": [],
           "z": []
          },
          {
           "name": "Edges",
           "type": "scatter3d",
           "x": [
            0.993653265495498,
            0.001727508787322488,
            null,
            0.001727508787322488,
            0.004325384441581598,
            null,
            0.004325384441581598,
            0.993653265495498,
            null,
            1.9956746753177952,
            1.9982724917893955,
            null,
            1.9982724917893955,
            1.0063466741684524,
            null,
            1.0063466741684524,
            1.9956746753177952,
            null
           ],
           "y": [
            0.001727706599410797,
            0.9991344524888691,
            null,
            0.9991344524888691,
            -0.0008621600744399225,
            null,
            -0.0008621600744399225,
            0.001727706599410797,
            null,
            -0.0008621598325957164,
            0.9991344528291298,
            null,
            0.9991344528291298,
            0.0017277079896518284,
            null,
            0.0017277079896518284,
            -0.0008621598325957164,
            null
           ],
           "z": [
            0.14590879139176938,
            0.0000900440280806902,
            null,
            0.0000900440280806902,
            0.00022531580190553665,
            null,
            0.00022531580190553665,
            0.14590879139176938,
            null,
            -0.36022572380052537,
            -0.3600900436163371,
            null,
            -0.3600900436163371,
            -0.5059083838048937,
            null,
            -0.5059083838048937,
            -0.36022572380052537,
            null
           ]
          },
          {
           "i": [
            0,
            3
           ],
           "j": [
            1,
            4
           ],
           "k": [
            2,
            5
           ],
           "name": "Faces",
           "type": "mesh3d",
           "x": {
            "bdata": "B+2Bi363cT+TvNvuAczvP0LDr2+yTVw/tN5f+P4Z8D8mIH+RSO7/P8q1i5Ps+P8/",
            "dtype": "f8"
           },
           "y": {
            "bdata": "1epsqVJATL8MANzVhk5cP8/jt9Do+O8/A4QBVIhOXD8FX3gkUkBMv6un5tDo+O8/",
            "dtype": "f8"
           },
           "z": {
            "bdata": "s847AFiILT8g/5ynI63CP6LIi5/Amhc/Attmx2Yw4L8Frbkx8A3Xv+ahPBy3C9e/",
            "dtype": "f8"
           }
          }
         ],
         "layout": {
          "annotations": [
           {
            "showarrow": false,
            "text": "Time: 0.91s (Step: 92/100)",
            "x": 0.05,
            "xref": "paper",
            "y": 0.95,
            "yref": "paper"
           }
          ]
         },
         "name": "91"
        },
        {
         "data": [
          {
           "name": "Free Nodes",
           "type": "scatter3d",
           "x": {
            "bdata": "9bWZETY2cj8rkzABl8rvPy8lx6DNF10/0N3DbrQa8D+qTWraye3/P0DAvwy6+P8/",
            "dtype": "f8"
           },
           "y": {
            "bdata": "tOEuJ6cJTb8KOgmoqRhdP2BibBS2+O8/xgpOLKsYXT+C3HiipglNv9jcmxS2+O8/",
            "dtype": "f8"
           },
           "z": {
            "bdata": "BAdzw5u/Lj9+dvzRWe7CPxWh4GGwkhg/quefEapp4L/3eDGlAmDXv34tUyCyXde/",
            "dtype": "f8"
           }
          },
          {
           "name": "Fixed Nodes",
           "type": "scatter3d",
           "x": [],
           "y": [],
           "z": []
          },
          {
           "name": "Edges",
           "type": "scatter3d",
           "x": [
            0.9934802077519626,
            0.0017756946646037654,
            null,
            0.0017756946646037654,
            0.004446231084882059,
            null,
            0.004446231084882059,
            0.9934802077519626,
            null,
            1.9955538303228004,
            1.998224305916679,
            null,
            1.998224305916679,
            1.006519730259118,
            null,
            1.006519730259118,
            1.9955538303228004,
            null
           ],
           "y": [
            0.0017758995819751066,
            0.9991102599042954,
            null,
            0.9991102599042954,
            -0.0008861604859396383,
            null,
            -0.0008861604859396383,
            0.0017758995819751066,
            null,
            -0.0008861602445397051,
            0.9991102602497461,
            null,
            0.9991102602497461,
            0.001775900994488809,
            null,
            0.001775900994488809,
            -0.0008861602445397051,
            null
           ],
           "z": [
            0.14789889100295633,
            0.00009373857071237988,
            null,
            0.00009373857071237988,
            0.00023459221276849612,
            null,
            0.00023459221276849612,
            0.14789889100295633,
            null,
            -0.365235005685363,
            -0.3650937381432512,
            null,
            -0.3650937381432512,
            -0.5128984779578236,
            null,
            -0.5128984779578236,
            -0.365235005685363,
            null
           ]
          },
          {
           "i": [
            0,
            3
           ],
           "j": [
            1,
            4
           ],
           "k": [
            2,
            5
           ],
           "name": "Faces",
           "type": "mesh3d",
           "x": {
            "bdata": "9bWZETY2cj8rkzABl8rvPy8lx6DNF10/0N3DbrQa8D+qTWraye3/P0DAvwy6+P8/",
            "dtype": "f8"
           },
           "y": {
            "bdata": "tOEuJ6cJTb8KOgmoqRhdP2BibBS2+O8/xgpOLKsYXT+C3HiipglNv9jcmxS2+O8/",
            "dtype": "f8"
           },
           "z": {
            "bdata": "BAdzw5u/Lj9+dvzRWe7CPxWh4GGwkhg/quefEapp4L/3eDGlAmDXv34tUyCyXde/",
            "dtype": "f8"
           }
          }
         ],
         "layout": {
          "annotations": [
           {
            "showarrow": false,
            "text": "Time: 0.92s (Step: 93/100)",
            "x": 0.05,
            "xref": "paper",
            "y": 0.95,
            "yref": "paper"
           }
          ]
         },
         "name": "92"
        },
        {
         "data": [
          {
           "name": "Free Nodes",
           "type": "scatter3d",
           "x": {
            "bdata": "r9B6qqq2cj9F7tE4J8nvPzQ7sO2p5F0/sRaAUmwb8D8IOURmSe3/PxfTrNWG+P8/",
            "dtype": "f8"
           },
           "y": {
            "bdata": "VQGsPbTVTb9oqA/AjeVdPyEjpKWC+O8/ZVWASo/lXT/u4VG5s9VNv0VV1KWC+O8/",
            "dtype": "f8"
           },
           "z": {
            "bdata": "U52WV0r/Lz/5eWkMjS/DP1XT+xVKkRk/SQndn+yi4L+KGgImFrLXv4e5CI+tr9e/",
            "dtype": "f8"
           }
          },
          {
           "name": "Fixed Nodes",
           "type": "scatter3d",
           "x": [],
           "y": [],
           "z": []
          },
          {
           "name": "Edges",
           "type": "scatter3d",
           "x": [
            0.9933048352972454,
            0.0018245372255056404,
            null,
            0.0018245372255056404,
            0.004568735755743499,
            null,
            0.004568735755743499,
            0.9933048352972454,
            null,
            1.9954313273224802,
            1.9981754633601605,
            null,
            1.9981754633601605,
            1.0066951010389114,
            null,
            1.0066951010389114,
            1.9954313273224802,
            null
           ],
           "y": [
            0.0018247494010617208,
            0.9990857348612715,
            null,
            0.9990857348612715,
            -0.0009104852755115559,
            null,
            -0.0009104852755115559,
            0.0018247494010617208,
            null,
            -0.0009104850347645946,
            0.9990857352119425,
            null,
            0.9990857352119425,
            0.0018247508360265893,
            null,
            0.0018247508360265893,
            -0.0009104850347645946,
            null
           ],
           "z": [
            0.14988864046149766,
            0.00009753241237915368,
            null,
            0.00009753241237915368,
            0.0002441194772419922,
            null,
            0.0002441194772419922,
            0.14988864046149766,
            null,
            -0.37024453841915117,
            -0.3700975319688031,
            null,
            -0.3700975319688031,
            -0.5198882219631652,
            null,
            -0.5198882219631652,
            -0.37024453841915117,
            null
           ]
          },
          {
           "i": [
            0,
            3
           ],
           "j": [
            1,
            4
           ],
           "k": [
            2,
            5
           ],
           "name": "Faces",
           "type": "mesh3d",
           "x": {
            "bdata": "r9B6qqq2cj9F7tE4J8nvPzQ7sO2p5F0/sRaAUmwb8D8IOURmSe3/PxfTrNWG+P8/",
            "dtype": "f8"
           },
           "y": {
            "bdata": "VQGsPbTVTb9oqA/AjeVdPyEjpKWC+O8/ZVWASo/lXT/u4VG5s9VNv0VV1KWC+O8/",
            "dtype": "f8"
           },
           "z": {
            "bdata": "U52WV0r/Lz/5eWkMjS/DP1XT+xVKkRk/SQndn+yi4L+KGgImFrLXv4e5CI+tr9e/",
            "dtype": "f8"
           }
          }
         ],
         "layout": {
          "annotations": [
           {
            "showarrow": false,
            "text": "Time: 0.93s (Step: 94/100)",
            "x": 0.05,
            "xref": "paper",
            "y": 0.95,
            "yref": "paper"
           }
          ]
         },
         "name": "93"
        },
        {
         "data": [
          {
           "name": "Free Nodes",
           "type": "scatter3d",
           "x": {
            "bdata": "xZPzPdw4cz+pkhyWssfvP7obqP1GtF4/NydmoyYc8D+8EyU1x+z/P/Meae5S+P8/",
            "dtype": "f8"
           },
           "y": {
            "bdata": "z/WDVnmkTr+LairFMrVeP23wZYRO+O8/xtrTVTS1Xj9Q66PSeKROv1bbloRO+O8/",
            "dtype": "f8"
           },
           "z": {
            "bdata": "Hh1ONsCjMD+cnfFMvXDDP0S5Ue+jlho/OKehby7c4L8YjMG3KgTYv/R8wGmpAdi/",
            "dtype": "f8"
           }
          },
          {
           "name": "Fixed Nodes",
           "type": "scatter3d",
           "x": [],
           "y": [],
           "z": []
          },
          {
           "name": "Edges",
           "type": "scatter3d",
           "x": [
            0.9931271488063277,
            0.0018740361471161053,
            null,
            0.0018740361471161053,
            0.004692898102097003,
            null,
            0.004692898102097003,
            0.9931271488063277,
            null,
            1.9953071666688933,
            1.9981259644427467,
            null,
            1.9981259644427467,
            1.0068727858328665,
            null,
            1.0068727858328665,
            1.9953071666688933,
            null
           ],
           "y": [
            0.0018742557337307088,
            0.9990608774092046,
            null,
            0.9990608774092046,
            -0.0009351341696228146,
            null,
            -0.0009351341696228146,
            0.0018742557337307088,
            null,
            -0.0009351339297432957,
            0.9990608777651271,
            null,
            0.9990608777651271,
            0.0018742571913300961,
            null,
            0.0018742571913300961,
            -0.0009351339297432957,
            null
           ],
           "z": [
            0.15187803513547926,
            0.0001014268453489497,
            null,
            0.0001014268453489497,
            0.00025390093497219986,
            null,
            0.00025390093497219986,
            0.15187803513547926,
            null,
            -0.3752543253414742,
            -0.3751014263852561,
            null,
            -0.3751014263852561,
            -0.5268776111890707,
            null,
            -0.5268776111890707,
            -0.3752543253414742,
            null
           ]
          },
          {
           "i": [
            0,
            3
           ],
           "j": [
            1,
            4
           ],
           "k": [
            2,
            5
           ],
           "name": "Faces",
           "type": "mesh3d",
           "x": {
            "bdata": "xZPzPdw4cz+pkhyWssfvP7obqP1GtF4/NydmoyYc8D+8EyU1x+z/P/Meae5S+P8/",
            "dtype": "f8"
           },
           "y": {
            "bdata": "z/WDVnmkTr+LairFMrVeP23wZYRO+O8/xtrTVTS1Xj9Q66PSeKROv1bbloRO+O8/",
            "dtype": "f8"
           },
           "z": {
            "bdata": "Hh1ONsCjMD+cnfFMvXDDP0S5Ue+jlho/OKehby7c4L8YjMG3KgTYv/R8wGmpAdi/",
            "dtype": "f8"
           }
          }
         ],
         "layout": {
          "annotations": [
           {
            "showarrow": false,
            "text": "Time: 0.94s (Step: 95/100)",
            "x": 0.05,
            "xref": "paper",
            "y": 0.95,
            "yref": "paper"
           }
          ]
         },
         "name": "94"
        },
        {
         "data": [
          {
           "name": "Free Nodes",
           "type": "scatter3d",
           "x": {
            "bdata": "Xn+Ds8q8cz9Bdm4ZOcbvP2fxxHakhl8/sBRHYeMc8D8ZXiVHQ+z/PzMeC1ce+P8/",
            "dtype": "f8"
           },
           "y": {
            "bdata": "rE1M2fV1T79422VdmIdfP3qpuLAZ+O8/V1FV9JmHXz+eUwVW9XVPv0ZO6rAZ+O8/",
            "dtype": "f8"
           },
           "z": {
            "bdata": "yCUPWS1MMT8iPaOJ6rHDP1ebzxvUohs/vFpxfm8V4b+UvAVeQFbYv0lW3bGlU9i/",
            "dtype": "f8"
           }
          },
          {
           "name": "Fixed Nodes",
           "type": "scatter3d",
           "x": [],
           "y": [],
           "z": []
          },
          {
           "name": "Edges",
           "type": "scatter3d",
           "x": [
            0.9929471489628626,
            0.0019241911023320736,
            null,
            0.0019241911023320736,
            0.004818717767392259,
            null,
            0.004818717767392259,
            0.9929471489628626,
            null,
            1.99518134871858,
            1.9980758094915358,
            null,
            1.9980758094915358,
            1.007052783957345,
            null,
            1.007052783957345,
            1.99518134871858,
            null
           ],
           "y": [
            0.0019244182527395608,
            0.9990356875980944,
            null,
            0.9990356875980944,
            -0.0009601068910307007,
            null,
            -0.0009601068910307007,
            0.0019244182527395608,
            null,
            -0.0009601066522387685,
            0.9990356879593001,
            null,
            0.9990356879593001,
            0.001924419733161894,
            null,
            0.001924419733161894,
            -0.0009601066522387685,
            null
           ],
           "z": [
            0.1538670703944059,
            0.00010542316063287309,
            null,
            0.00010542316063287309,
            0.0002639399254432376,
            null,
            0.0002639399254432376,
            0.1538670703944059,
            null,
            -0.38026436979175426,
            -0.38010542268361697,
            null,
            -0.38010542268361697,
            -0.5338666410051114,
            null,
            -0.5338666410051114,
            -0.38026436979175426,
            null
           ]
          },
          {
           "i": [
            0,
            3
           ],
           "j": [
            1,
            4
           ],
           "k": [
            2,
            5
           ],
           "name": "Faces",
           "type": "mesh3d",
           "x": {
            "bdata": "Xn+Ds8q8cz9Bdm4ZOcbvP2fxxHakhl8/sBRHYeMc8D8ZXiVHQ+z/PzMeC1ce+P8/",
            "dtype": "f8"
           },
           "y": {
            "bdata": "rE1M2fV1T79422VdmIdfP3qpuLAZ+O8/V1FV9JmHXz+eUwVW9XVPv0ZO6rAZ+O8/",
            "dtype": "f8"
           },
           "z": {
            "bdata": "yCUPWS1MMT8iPaOJ6rHDP1ebzxvUohs/vFpxfm8V4b+UvAVeQFbYv0lW3bGlU9i/",
            "dtype": "f8"
           }
          }
         ],
         "layout": {
          "annotations": [
           {
            "showarrow": false,
            "text": "Time: 0.95s (Step: 96/100)",
            "x": 0.05,
            "xref": "paper",
            "y": 0.95,
            "yref": "paper"
           }
          ]
         },
         "name": "95"
        },
        {
         "data": [
          {
           "name": "Free Nodes",
           "type": "scatter3d",
           "x": {
            "bdata": "PyVb8nVCdD8ZwCbDusTvP3wu+/7gLWA/2kvzi6Id8D9f512cvev/P9mUqQ/p9/8/",
            "dtype": "f8"
           },
           "y": {
            "bdata": "jTXIlRQlUL//3s8WXy5gP0BCoyrk9+8/ampx5V8uYD8KKoFUFCVQvxai1Srk9+8/",
            "dtype": "f8"
           },
           "z": {
            "bdata": "s4St6/r4MT95fo24FPPDP9iaycPwtRw/pu/Pya9O4b9rj2QcV6jYv3fKwWiipdi/",
            "dtype": "f8"
           }
          },
          {
           "name": "Fixed Nodes",
           "type": "scatter3d",
           "x": [],
           "y": [],
           "z": []
          },
          {
           "name": "Edges",
           "type": "scatter3d",
           "x": [
            0.992764836459176,
            0.0019750017598648122,
            null,
            0.0019750017598648122,
            0.004946194390592239,
            null,
            0.004946194390592239,
            0.992764836459176,
            null,
            1.9950538738325674,
            1.9980249988378118,
            null,
            1.9980249988378118,
            1.0072350947200364,
            null,
            1.0072350947200364,
            1.9950538738325674,
            null
           ],
           "y": [
            0.0019752366265456396,
            0.9990101654785306,
            null,
            0.9990101654785306,
            -0.000985403158782236,
            null,
            -0.000985403158782236,
            0.0019752366265456396,
            null,
            -0.0009854029213040038,
            0.9990101658450523,
            null,
            0.9990101658450523,
            0.001975238129984282,
            null,
            0.001975238129984282,
            -0.0009854029213040038,
            null
           ],
           "z": [
            0.15585574160921903,
            0.00010952264796913345,
            null,
            0.00010952264796913345,
            0.0002742397879754263,
            null,
            0.0002742397879754263,
            0.15585574160921903,
            null,
            -0.3852746751092499,
            -0.3851095221536193,
            null,
            -0.3851095221536193,
            -0.540855306782295,
            null,
            -0.540855306782295,
            -0.3852746751092499,
            null
           ]
          },
          {
           "i": [
            0,
            3
           ],
           "j": [
            1,
            4
           ],
           "k": [
            2,
            5
           ],
           "name": "Faces",
           "type": "mesh3d",
           "x": {
            "bdata": "PyVb8nVCdD8ZwCbDusTvP3wu+/7gLWA/2kvzi6Id8D9f512cvev/P9mUqQ/p9/8/",
            "dtype": "f8"
           },
           "y": {
            "bdata": "jTXIlRQlUL//3s8WXy5gP0BCoyrk9+8/ampx5V8uYD8KKoFUFCVQvxai1Srk9+8/",
            "dtype": "f8"
           },
           "z": {
            "bdata": "s4St6/r4MT95fo24FPPDP9iaycPwtRw/pu/Pya9O4b9rj2QcV6jYv3fKwWiipdi/",
            "dtype": "f8"
           }
          }
         ],
         "layout": {
          "annotations": [
           {
            "showarrow": false,
            "text": "Time: 0.96s (Step: 97/100)",
            "x": 0.05,
            "xref": "paper",
            "y": 0.95,
            "yref": "paper"
           }
          ]
         },
         "name": "96"
        },
        {
         "data": [
          {
           "name": "Free Nodes",
           "type": "scatter3d",
           "x": {
            "bdata": "SSBc4d3JdD9UyKWTN8PvPxLXgpvPmWA/66A6I2Qe8D/Ezec0Nuv/P3qQWxiz9/8/",
            "dtype": "f8"
           },
           "y": {
            "bdata": "q6hoWImQUL9dn8PsUZpgP2nDLPKt9+8/ZfeVvlKaYD+vZY4XiZBQv3jfX/Kt9+8/",
            "dtype": "f8"
           },
           "z": {
            "bdata": "C+OZRTeqMj89VMDPOzTEP7w36AkQ0B0/8mRBT++H4b9u3HP2bvrYv7YD0I+f99i/",
            "dtype": "f8"
           }
          },
          {
           "name": "Fixed Nodes",
           "type": "scatter3d",
           "x": [],
           "y": [],
           "z": []
          },
          {
           "name": "Edges",
           "type": "scatter3d",
           "x": [
            0.9925802119962648,
            0.002026467784243099,
            null,
            0.002026467784243099,
            0.005075327606171306,
            null,
            0.005075327606171306,
            0.9925802119962648,
            null,
            1.9949247423763703,
            1.9979735328170407,
            null,
            1.9979735328170407,
            1.0074197174199593,
            null,
            1.0074197174199593,
            1.9949247423763703,
            null
           ],
           "y": [
            0.002026710519306292,
            0.9989843111016913,
            null,
            0.9989843111016913,
            -0.0010110226882127742,
            null,
            -0.0010110226882127742,
            0.002026710519306292,
            null,
            -0.0010110224522804458,
            0.9989843114735626,
            null,
            0.9989843114735626,
            0.002026712045959766,
            null,
            0.002026712045959766,
            -0.0010110224522804458,
            null
           ],
           "z": [
            0.15784404415231448,
            0.00011372659580663377,
            null,
            0.00011372659580663377,
            0.00028480386172406784,
            null,
            0.00028480386172406784,
            0.15784404415231448,
            null,
            -0.3902852446330546,
            -0.39011372608370765,
            null,
            -0.39011372608370765,
            -0.5478436038930836,
            null,
            -0.5478436038930836,
            -0.3902852446330546,
            null
           ]
          },
          {
           "i": [
            0,
            3
           ],
           "j": [
            1,
            4
           ],
           "k": [
            2,
            5
           ],
           "name": "Faces",
           "type": "mesh3d",
           "x": {
            "bdata": "SSBc4d3JdD9UyKWTN8PvPxLXgpvPmWA/66A6I2Qe8D/Ezec0Nuv/P3qQWxiz9/8/",
            "dtype": "f8"
           },
           "y": {
            "bdata": "q6hoWImQUL9dn8PsUZpgP2nDLPKt9+8/ZfeVvlKaYD+vZY4XiZBQv3jfX/Kt9+8/",
            "dtype": "f8"
           },
           "z": {
            "bdata": "C+OZRTeqMj89VMDPOzTEP7w36AkQ0B0/8mRBT++H4b9u3HP2bvrYv7YD0I+f99i/",
            "dtype": "f8"
           }
          }
         ],
         "layout": {
          "annotations": [
           {
            "showarrow": false,
            "text": "Time: 0.97s (Step: 98/100)",
            "x": 0.05,
            "xref": "paper",
            "y": 0.95,
            "yref": "paper"
           }
          ]
         },
         "name": "97"
        },
        {
         "data": [
          {
           "name": "Free Nodes",
           "type": "scatter3d",
           "x": {
            "bdata": "8v8YZwJTdT8iGE2Lr8HvP7MjS+IdB2E/kE/sJigf8D+KftwQrer/PyZoOHF89/8/",
            "dtype": "f8"
           },
           "y": {
            "bdata": "athC5Vj9UL9pkM6BpAdhP0BKXAd39+8/B+DYVqUHYT+xJOakWP1Qv8AjkAd39+8/",
            "dtype": "f8"
           },
           "z": {
            "bdata": "9f8VvvBfMz80gEzFX3XEP9tDFgtI8R4/Z+1JDC7B4b+xb8nvh0zZv2PQaSidSdm/",
            "dtype": "f8"
           }
          },
          {
           "name": "Fixed Nodes",
           "type": "scatter3d",
           "x": [],
           "y": [],
           "z": []
          },
          {
           "name": "Edges",
           "type": "scatter3d",
           "x": [
            0.9923932762837959,
            0.002078588835818762,
            null,
            0.002078588835818762,
            0.0052061170441106575,
            null,
            0.0052061170441106575,
            0.9923932762837959,
            null,
            1.9947939547199973,
            1.9979214117688655,
            null,
            1.9979214117688655,
            1.0076066513474622,
            null,
            1.0076066513474622,
            1.9947939547199973,
            null
           ],
           "y": [
            0.002078839590881333,
            0.9989581245193406,
            null,
            0.9989581245193406,
            -0.001036965190946338,
            null,
            -0.001036965190946338,
            0.002078839590881333,
            null,
            -0.0010369649567983192,
            0.9989581248965962,
            null,
            0.9989581248965962,
            0.002078841140953361,
            null,
            0.002078841140953361,
            -0.0010369649567983192,
            null
           ],
           "z": [
            0.15983197339756006,
            0.00011803629128893883,
            null,
            0.00011803629128893883,
            0.0002956354856777915,
            null,
            0.0002956354856777915,
            0.15983197339756006,
            null,
            -0.395296081702095,
            -0.39511803576102106,
            null,
            -0.39511803576102106,
            -0.5548315277114114,
            null,
            -0.5548315277114114,
            -0.395296081702095,
            null
           ]
          },
          {
           "i": [
            0,
            3
           ],
           "j": [
            1,
            4
           ],
           "k": [
            2,
            5
           ],
           "name": "Faces",
           "type": "mesh3d",
           "x": {
            "bdata": "8v8YZwJTdT8iGE2Lr8HvP7MjS+IdB2E/kE/sJigf8D+KftwQrer/PyZoOHF89/8/",
            "dtype": "f8"
           },
           "y": {
            "bdata": "athC5Vj9UL9pkM6BpAdhP0BKXAd39+8/B+DYVqUHYT+xJOakWP1Qv8AjkAd39+8/",
            "dtype": "f8"
           },
           "z": {
            "bdata": "9f8VvvBfMz80gEzFX3XEP9tDFgtI8R4/Z+1JDC7B4b+xb8nvh0zZv2PQaSidSdm/",
            "dtype": "f8"
           }
          }
         ],
         "layout": {
          "annotations": [
           {
            "showarrow": false,
            "text": "Time: 0.98s (Step: 99/100)",
            "x": 0.05,
            "xref": "paper",
            "y": 0.95,
            "yref": "paper"
           }
          ]
         },
         "name": "98"
        },
        {
         "data": [
          {
           "name": "Free Nodes",
           "type": "scatter3d",
           "x": {
            "bdata": "vjjVaePddT+8aX+qIsDvP3vyEqTLdWE/8vrWlu4f8D8NtlUwIur/P1i8VxpF9/8/",
            "dtype": "f8"
           },
           "y": {
            "bdata": "ANMM7IJrUb9i5pmmVnZhP5cIOWo/9+8//4Tjfld2YT/04D6sgmtRv8qgbWo/9+8/",
            "dtype": "f8"
           },
           "z": {
            "bdata": "90Q0rDUaND/PlUOPgLbEP05HN2/XDCA/NvBt/mv64b91CfsLop7Zv9uh8DObm9m/",
            "dtype": "f8"
           }
          },
          {
           "name": "Fixed Nodes",
           "type": "scatter3d",
           "x": [],
           "y": [],
           "z": []
          },
          {
           "name": "Edges",
           "type": "scatter3d",
           "x": [
            0.992204030040106,
            0.0021313645707706197,
            null,
            0.0021313645707706197,
            0.005338562329894879,
            null,
            0.005338562329894879,
            0.992204030040106,
            null,
            1.9946615112379533,
            1.9978686360371025,
            null,
            1.9978686360371025,
            1.007795895784224,
            null,
            1.007795895784224,
            1.9946615112379533,
            null
           ],
           "y": [
            0.0021316234968338657,
            0.9989316057838263,
            null,
            0.9989316057838263,
            -0.0010632303748938088,
            null,
            -0.0010632303748938088,
            0.0021316234968338657,
            null,
            -0.0010632301427744824,
            0.9989316061665019,
            null,
            0.9989316061665019,
            0.002131625070533105,
            null,
            0.002131625070533105,
            -0.0010632301427744824,
            null
           ],
           "z": [
            0.16181952472031333,
            0.00012245302023799548,
            null,
            0.00012245302023799548,
            0.0003067379986570607,
            null,
            0.0003067379986570607,
            0.16181952472031333,
            null,
            -0.40030718965512985,
            -0.40012245247137707,
            null,
            -0.40012245247137707,
            -0.5618190736127022,
            null,
            -0.5618190736127022,
            -0.40030718965512985,
            null
           ]
          },
          {
           "i": [
            0,
            3
           ],
           "j": [
            1,
            4
           ],
           "k": [
            2,
            5
           ],
           "name": "Faces",
           "type": "mesh3d",
           "x": {
            "bdata": "vjjVaePddT+8aX+qIsDvP3vyEqTLdWE/8vrWlu4f8D8NtlUwIur/P1i8VxpF9/8/",
            "dtype": "f8"
           },
           "y": {
            "bdata": "ANMM7IJrUb9i5pmmVnZhP5cIOWo/9+8//4Tjfld2YT/04D6sgmtRv8qgbWo/9+8/",
            "dtype": "f8"
           },
           "z": {
            "bdata": "90Q0rDUaND/PlUOPgLbEP05HN2/XDCA/NvBt/mv64b91CfsLop7Zv9uh8DObm9m/",
            "dtype": "f8"
           }
          }
         ],
         "layout": {
          "annotations": [
           {
            "showarrow": false,
            "text": "Time: 0.99s (Step: 100/100)",
            "x": 0.05,
            "xref": "paper",
            "y": 0.95,
            "yref": "paper"
           }
          ]
         },
         "name": "99"
        }
       ],
       "layout": {
        "scene": {
         "camera": {
          "eye": {
           "x": 1.2247448713915892,
           "y": 1.224744871391589,
           "z": 0.9999999999999999
          }
         },
         "xaxis": {
          "range": [
           -8.370076356714158e-7,
           2.0000008370144715
          ],
          "title": {
           "text": "X Position"
          }
         },
         "yaxis": {
          "range": [
           -0.0010632303748938088,
           1.0000001684907056
          ],
          "title": {
           "text": "Y Position"
          }
         },
         "zaxis": {
          "range": [
           -0.5618190736127022,
           0.16181952472031333
          ],
          "title": {
           "text": "Z Position"
          }
         }
        },
        "sliders": [
         {
          "currentvalue": {
           "prefix": "Frame: "
          },
          "steps": [
           {
            "args": [
             [
              "0"
             ],
             {
              "frame": {
               "duration": 50,
               "redraw": true
              },
              "mode": "immediate"
             }
            ],
            "label": "0",
            "method": "animate"
           },
           {
            "args": [
             [
              "1"
             ],
             {
              "frame": {
               "duration": 50,
               "redraw": true
              },
              "mode": "immediate"
             }
            ],
            "label": "1",
            "method": "animate"
           },
           {
            "args": [
             [
              "2"
             ],
             {
              "frame": {
               "duration": 50,
               "redraw": true
              },
              "mode": "immediate"
             }
            ],
            "label": "2",
            "method": "animate"
           },
           {
            "args": [
             [
              "3"
             ],
             {
              "frame": {
               "duration": 50,
               "redraw": true
              },
              "mode": "immediate"
             }
            ],
            "label": "3",
            "method": "animate"
           },
           {
            "args": [
             [
              "4"
             ],
             {
              "frame": {
               "duration": 50,
               "redraw": true
              },
              "mode": "immediate"
             }
            ],
            "label": "4",
            "method": "animate"
           },
           {
            "args": [
             [
              "5"
             ],
             {
              "frame": {
               "duration": 50,
               "redraw": true
              },
              "mode": "immediate"
             }
            ],
            "label": "5",
            "method": "animate"
           },
           {
            "args": [
             [
              "6"
             ],
             {
              "frame": {
               "duration": 50,
               "redraw": true
              },
              "mode": "immediate"
             }
            ],
            "label": "6",
            "method": "animate"
           },
           {
            "args": [
             [
              "7"
             ],
             {
              "frame": {
               "duration": 50,
               "redraw": true
              },
              "mode": "immediate"
             }
            ],
            "label": "7",
            "method": "animate"
           },
           {
            "args": [
             [
              "8"
             ],
             {
              "frame": {
               "duration": 50,
               "redraw": true
              },
              "mode": "immediate"
             }
            ],
            "label": "8",
            "method": "animate"
           },
           {
            "args": [
             [
              "9"
             ],
             {
              "frame": {
               "duration": 50,
               "redraw": true
              },
              "mode": "immediate"
             }
            ],
            "label": "9",
            "method": "animate"
           },
           {
            "args": [
             [
              "10"
             ],
             {
              "frame": {
               "duration": 50,
               "redraw": true
              },
              "mode": "immediate"
             }
            ],
            "label": "10",
            "method": "animate"
           },
           {
            "args": [
             [
              "11"
             ],
             {
              "frame": {
               "duration": 50,
               "redraw": true
              },
              "mode": "immediate"
             }
            ],
            "label": "11",
            "method": "animate"
           },
           {
            "args": [
             [
              "12"
             ],
             {
              "frame": {
               "duration": 50,
               "redraw": true
              },
              "mode": "immediate"
             }
            ],
            "label": "12",
            "method": "animate"
           },
           {
            "args": [
             [
              "13"
             ],
             {
              "frame": {
               "duration": 50,
               "redraw": true
              },
              "mode": "immediate"
             }
            ],
            "label": "13",
            "method": "animate"
           },
           {
            "args": [
             [
              "14"
             ],
             {
              "frame": {
               "duration": 50,
               "redraw": true
              },
              "mode": "immediate"
             }
            ],
            "label": "14",
            "method": "animate"
           },
           {
            "args": [
             [
              "15"
             ],
             {
              "frame": {
               "duration": 50,
               "redraw": true
              },
              "mode": "immediate"
             }
            ],
            "label": "15",
            "method": "animate"
           },
           {
            "args": [
             [
              "16"
             ],
             {
              "frame": {
               "duration": 50,
               "redraw": true
              },
              "mode": "immediate"
             }
            ],
            "label": "16",
            "method": "animate"
           },
           {
            "args": [
             [
              "17"
             ],
             {
              "frame": {
               "duration": 50,
               "redraw": true
              },
              "mode": "immediate"
             }
            ],
            "label": "17",
            "method": "animate"
           },
           {
            "args": [
             [
              "18"
             ],
             {
              "frame": {
               "duration": 50,
               "redraw": true
              },
              "mode": "immediate"
             }
            ],
            "label": "18",
            "method": "animate"
           },
           {
            "args": [
             [
              "19"
             ],
             {
              "frame": {
               "duration": 50,
               "redraw": true
              },
              "mode": "immediate"
             }
            ],
            "label": "19",
            "method": "animate"
           },
           {
            "args": [
             [
              "20"
             ],
             {
              "frame": {
               "duration": 50,
               "redraw": true
              },
              "mode": "immediate"
             }
            ],
            "label": "20",
            "method": "animate"
           },
           {
            "args": [
             [
              "21"
             ],
             {
              "frame": {
               "duration": 50,
               "redraw": true
              },
              "mode": "immediate"
             }
            ],
            "label": "21",
            "method": "animate"
           },
           {
            "args": [
             [
              "22"
             ],
             {
              "frame": {
               "duration": 50,
               "redraw": true
              },
              "mode": "immediate"
             }
            ],
            "label": "22",
            "method": "animate"
           },
           {
            "args": [
             [
              "23"
             ],
             {
              "frame": {
               "duration": 50,
               "redraw": true
              },
              "mode": "immediate"
             }
            ],
            "label": "23",
            "method": "animate"
           },
           {
            "args": [
             [
              "24"
             ],
             {
              "frame": {
               "duration": 50,
               "redraw": true
              },
              "mode": "immediate"
             }
            ],
            "label": "24",
            "method": "animate"
           },
           {
            "args": [
             [
              "25"
             ],
             {
              "frame": {
               "duration": 50,
               "redraw": true
              },
              "mode": "immediate"
             }
            ],
            "label": "25",
            "method": "animate"
           },
           {
            "args": [
             [
              "26"
             ],
             {
              "frame": {
               "duration": 50,
               "redraw": true
              },
              "mode": "immediate"
             }
            ],
            "label": "26",
            "method": "animate"
           },
           {
            "args": [
             [
              "27"
             ],
             {
              "frame": {
               "duration": 50,
               "redraw": true
              },
              "mode": "immediate"
             }
            ],
            "label": "27",
            "method": "animate"
           },
           {
            "args": [
             [
              "28"
             ],
             {
              "frame": {
               "duration": 50,
               "redraw": true
              },
              "mode": "immediate"
             }
            ],
            "label": "28",
            "method": "animate"
           },
           {
            "args": [
             [
              "29"
             ],
             {
              "frame": {
               "duration": 50,
               "redraw": true
              },
              "mode": "immediate"
             }
            ],
            "label": "29",
            "method": "animate"
           },
           {
            "args": [
             [
              "30"
             ],
             {
              "frame": {
               "duration": 50,
               "redraw": true
              },
              "mode": "immediate"
             }
            ],
            "label": "30",
            "method": "animate"
           },
           {
            "args": [
             [
              "31"
             ],
             {
              "frame": {
               "duration": 50,
               "redraw": true
              },
              "mode": "immediate"
             }
            ],
            "label": "31",
            "method": "animate"
           },
           {
            "args": [
             [
              "32"
             ],
             {
              "frame": {
               "duration": 50,
               "redraw": true
              },
              "mode": "immediate"
             }
            ],
            "label": "32",
            "method": "animate"
           },
           {
            "args": [
             [
              "33"
             ],
             {
              "frame": {
               "duration": 50,
               "redraw": true
              },
              "mode": "immediate"
             }
            ],
            "label": "33",
            "method": "animate"
           },
           {
            "args": [
             [
              "34"
             ],
             {
              "frame": {
               "duration": 50,
               "redraw": true
              },
              "mode": "immediate"
             }
            ],
            "label": "34",
            "method": "animate"
           },
           {
            "args": [
             [
              "35"
             ],
             {
              "frame": {
               "duration": 50,
               "redraw": true
              },
              "mode": "immediate"
             }
            ],
            "label": "35",
            "method": "animate"
           },
           {
            "args": [
             [
              "36"
             ],
             {
              "frame": {
               "duration": 50,
               "redraw": true
              },
              "mode": "immediate"
             }
            ],
            "label": "36",
            "method": "animate"
           },
           {
            "args": [
             [
              "37"
             ],
             {
              "frame": {
               "duration": 50,
               "redraw": true
              },
              "mode": "immediate"
             }
            ],
            "label": "37",
            "method": "animate"
           },
           {
            "args": [
             [
              "38"
             ],
             {
              "frame": {
               "duration": 50,
               "redraw": true
              },
              "mode": "immediate"
             }
            ],
            "label": "38",
            "method": "animate"
           },
           {
            "args": [
             [
              "39"
             ],
             {
              "frame": {
               "duration": 50,
               "redraw": true
              },
              "mode": "immediate"
             }
            ],
            "label": "39",
            "method": "animate"
           },
           {
            "args": [
             [
              "40"
             ],
             {
              "frame": {
               "duration": 50,
               "redraw": true
              },
              "mode": "immediate"
             }
            ],
            "label": "40",
            "method": "animate"
           },
           {
            "args": [
             [
              "41"
             ],
             {
              "frame": {
               "duration": 50,
               "redraw": true
              },
              "mode": "immediate"
             }
            ],
            "label": "41",
            "method": "animate"
           },
           {
            "args": [
             [
              "42"
             ],
             {
              "frame": {
               "duration": 50,
               "redraw": true
              },
              "mode": "immediate"
             }
            ],
            "label": "42",
            "method": "animate"
           },
           {
            "args": [
             [
              "43"
             ],
             {
              "frame": {
               "duration": 50,
               "redraw": true
              },
              "mode": "immediate"
             }
            ],
            "label": "43",
            "method": "animate"
           },
           {
            "args": [
             [
              "44"
             ],
             {
              "frame": {
               "duration": 50,
               "redraw": true
              },
              "mode": "immediate"
             }
            ],
            "label": "44",
            "method": "animate"
           },
           {
            "args": [
             [
              "45"
             ],
             {
              "frame": {
               "duration": 50,
               "redraw": true
              },
              "mode": "immediate"
             }
            ],
            "label": "45",
            "method": "animate"
           },
           {
            "args": [
             [
              "46"
             ],
             {
              "frame": {
               "duration": 50,
               "redraw": true
              },
              "mode": "immediate"
             }
            ],
            "label": "46",
            "method": "animate"
           },
           {
            "args": [
             [
              "47"
             ],
             {
              "frame": {
               "duration": 50,
               "redraw": true
              },
              "mode": "immediate"
             }
            ],
            "label": "47",
            "method": "animate"
           },
           {
            "args": [
             [
              "48"
             ],
             {
              "frame": {
               "duration": 50,
               "redraw": true
              },
              "mode": "immediate"
             }
            ],
            "label": "48",
            "method": "animate"
           },
           {
            "args": [
             [
              "49"
             ],
             {
              "frame": {
               "duration": 50,
               "redraw": true
              },
              "mode": "immediate"
             }
            ],
            "label": "49",
            "method": "animate"
           },
           {
            "args": [
             [
              "50"
             ],
             {
              "frame": {
               "duration": 50,
               "redraw": true
              },
              "mode": "immediate"
             }
            ],
            "label": "50",
            "method": "animate"
           },
           {
            "args": [
             [
              "51"
             ],
             {
              "frame": {
               "duration": 50,
               "redraw": true
              },
              "mode": "immediate"
             }
            ],
            "label": "51",
            "method": "animate"
           },
           {
            "args": [
             [
              "52"
             ],
             {
              "frame": {
               "duration": 50,
               "redraw": true
              },
              "mode": "immediate"
             }
            ],
            "label": "52",
            "method": "animate"
           },
           {
            "args": [
             [
              "53"
             ],
             {
              "frame": {
               "duration": 50,
               "redraw": true
              },
              "mode": "immediate"
             }
            ],
            "label": "53",
            "method": "animate"
           },
           {
            "args": [
             [
              "54"
             ],
             {
              "frame": {
               "duration": 50,
               "redraw": true
              },
              "mode": "immediate"
             }
            ],
            "label": "54",
            "method": "animate"
           },
           {
            "args": [
             [
              "55"
             ],
             {
              "frame": {
               "duration": 50,
               "redraw": true
              },
              "mode": "immediate"
             }
            ],
            "label": "55",
            "method": "animate"
           },
           {
            "args": [
             [
              "56"
             ],
             {
              "frame": {
               "duration": 50,
               "redraw": true
              },
              "mode": "immediate"
             }
            ],
            "label": "56",
            "method": "animate"
           },
           {
            "args": [
             [
              "57"
             ],
             {
              "frame": {
               "duration": 50,
               "redraw": true
              },
              "mode": "immediate"
             }
            ],
            "label": "57",
            "method": "animate"
           },
           {
            "args": [
             [
              "58"
             ],
             {
              "frame": {
               "duration": 50,
               "redraw": true
              },
              "mode": "immediate"
             }
            ],
            "label": "58",
            "method": "animate"
           },
           {
            "args": [
             [
              "59"
             ],
             {
              "frame": {
               "duration": 50,
               "redraw": true
              },
              "mode": "immediate"
             }
            ],
            "label": "59",
            "method": "animate"
           },
           {
            "args": [
             [
              "60"
             ],
             {
              "frame": {
               "duration": 50,
               "redraw": true
              },
              "mode": "immediate"
             }
            ],
            "label": "60",
            "method": "animate"
           },
           {
            "args": [
             [
              "61"
             ],
             {
              "frame": {
               "duration": 50,
               "redraw": true
              },
              "mode": "immediate"
             }
            ],
            "label": "61",
            "method": "animate"
           },
           {
            "args": [
             [
              "62"
             ],
             {
              "frame": {
               "duration": 50,
               "redraw": true
              },
              "mode": "immediate"
             }
            ],
            "label": "62",
            "method": "animate"
           },
           {
            "args": [
             [
              "63"
             ],
             {
              "frame": {
               "duration": 50,
               "redraw": true
              },
              "mode": "immediate"
             }
            ],
            "label": "63",
            "method": "animate"
           },
           {
            "args": [
             [
              "64"
             ],
             {
              "frame": {
               "duration": 50,
               "redraw": true
              },
              "mode": "immediate"
             }
            ],
            "label": "64",
            "method": "animate"
           },
           {
            "args": [
             [
              "65"
             ],
             {
              "frame": {
               "duration": 50,
               "redraw": true
              },
              "mode": "immediate"
             }
            ],
            "label": "65",
            "method": "animate"
           },
           {
            "args": [
             [
              "66"
             ],
             {
              "frame": {
               "duration": 50,
               "redraw": true
              },
              "mode": "immediate"
             }
            ],
            "label": "66",
            "method": "animate"
           },
           {
            "args": [
             [
              "67"
             ],
             {
              "frame": {
               "duration": 50,
               "redraw": true
              },
              "mode": "immediate"
             }
            ],
            "label": "67",
            "method": "animate"
           },
           {
            "args": [
             [
              "68"
             ],
             {
              "frame": {
               "duration": 50,
               "redraw": true
              },
              "mode": "immediate"
             }
            ],
            "label": "68",
            "method": "animate"
           },
           {
            "args": [
             [
              "69"
             ],
             {
              "frame": {
               "duration": 50,
               "redraw": true
              },
              "mode": "immediate"
             }
            ],
            "label": "69",
            "method": "animate"
           },
           {
            "args": [
             [
              "70"
             ],
             {
              "frame": {
               "duration": 50,
               "redraw": true
              },
              "mode": "immediate"
             }
            ],
            "label": "70",
            "method": "animate"
           },
           {
            "args": [
             [
              "71"
             ],
             {
              "frame": {
               "duration": 50,
               "redraw": true
              },
              "mode": "immediate"
             }
            ],
            "label": "71",
            "method": "animate"
           },
           {
            "args": [
             [
              "72"
             ],
             {
              "frame": {
               "duration": 50,
               "redraw": true
              },
              "mode": "immediate"
             }
            ],
            "label": "72",
            "method": "animate"
           },
           {
            "args": [
             [
              "73"
             ],
             {
              "frame": {
               "duration": 50,
               "redraw": true
              },
              "mode": "immediate"
             }
            ],
            "label": "73",
            "method": "animate"
           },
           {
            "args": [
             [
              "74"
             ],
             {
              "frame": {
               "duration": 50,
               "redraw": true
              },
              "mode": "immediate"
             }
            ],
            "label": "74",
            "method": "animate"
           },
           {
            "args": [
             [
              "75"
             ],
             {
              "frame": {
               "duration": 50,
               "redraw": true
              },
              "mode": "immediate"
             }
            ],
            "label": "75",
            "method": "animate"
           },
           {
            "args": [
             [
              "76"
             ],
             {
              "frame": {
               "duration": 50,
               "redraw": true
              },
              "mode": "immediate"
             }
            ],
            "label": "76",
            "method": "animate"
           },
           {
            "args": [
             [
              "77"
             ],
             {
              "frame": {
               "duration": 50,
               "redraw": true
              },
              "mode": "immediate"
             }
            ],
            "label": "77",
            "method": "animate"
           },
           {
            "args": [
             [
              "78"
             ],
             {
              "frame": {
               "duration": 50,
               "redraw": true
              },
              "mode": "immediate"
             }
            ],
            "label": "78",
            "method": "animate"
           },
           {
            "args": [
             [
              "79"
             ],
             {
              "frame": {
               "duration": 50,
               "redraw": true
              },
              "mode": "immediate"
             }
            ],
            "label": "79",
            "method": "animate"
           },
           {
            "args": [
             [
              "80"
             ],
             {
              "frame": {
               "duration": 50,
               "redraw": true
              },
              "mode": "immediate"
             }
            ],
            "label": "80",
            "method": "animate"
           },
           {
            "args": [
             [
              "81"
             ],
             {
              "frame": {
               "duration": 50,
               "redraw": true
              },
              "mode": "immediate"
             }
            ],
            "label": "81",
            "method": "animate"
           },
           {
            "args": [
             [
              "82"
             ],
             {
              "frame": {
               "duration": 50,
               "redraw": true
              },
              "mode": "immediate"
             }
            ],
            "label": "82",
            "method": "animate"
           },
           {
            "args": [
             [
              "83"
             ],
             {
              "frame": {
               "duration": 50,
               "redraw": true
              },
              "mode": "immediate"
             }
            ],
            "label": "83",
            "method": "animate"
           },
           {
            "args": [
             [
              "84"
             ],
             {
              "frame": {
               "duration": 50,
               "redraw": true
              },
              "mode": "immediate"
             }
            ],
            "label": "84",
            "method": "animate"
           },
           {
            "args": [
             [
              "85"
             ],
             {
              "frame": {
               "duration": 50,
               "redraw": true
              },
              "mode": "immediate"
             }
            ],
            "label": "85",
            "method": "animate"
           },
           {
            "args": [
             [
              "86"
             ],
             {
              "frame": {
               "duration": 50,
               "redraw": true
              },
              "mode": "immediate"
             }
            ],
            "label": "86",
            "method": "animate"
           },
           {
            "args": [
             [
              "87"
             ],
             {
              "frame": {
               "duration": 50,
               "redraw": true
              },
              "mode": "immediate"
             }
            ],
            "label": "87",
            "method": "animate"
           },
           {
            "args": [
             [
              "88"
             ],
             {
              "frame": {
               "duration": 50,
               "redraw": true
              },
              "mode": "immediate"
             }
            ],
            "label": "88",
            "method": "animate"
           },
           {
            "args": [
             [
              "89"
             ],
             {
              "frame": {
               "duration": 50,
               "redraw": true
              },
              "mode": "immediate"
             }
            ],
            "label": "89",
            "method": "animate"
           },
           {
            "args": [
             [
              "90"
             ],
             {
              "frame": {
               "duration": 50,
               "redraw": true
              },
              "mode": "immediate"
             }
            ],
            "label": "90",
            "method": "animate"
           },
           {
            "args": [
             [
              "91"
             ],
             {
              "frame": {
               "duration": 50,
               "redraw": true
              },
              "mode": "immediate"
             }
            ],
            "label": "91",
            "method": "animate"
           },
           {
            "args": [
             [
              "92"
             ],
             {
              "frame": {
               "duration": 50,
               "redraw": true
              },
              "mode": "immediate"
             }
            ],
            "label": "92",
            "method": "animate"
           },
           {
            "args": [
             [
              "93"
             ],
             {
              "frame": {
               "duration": 50,
               "redraw": true
              },
              "mode": "immediate"
             }
            ],
            "label": "93",
            "method": "animate"
           },
           {
            "args": [
             [
              "94"
             ],
             {
              "frame": {
               "duration": 50,
               "redraw": true
              },
              "mode": "immediate"
             }
            ],
            "label": "94",
            "method": "animate"
           },
           {
            "args": [
             [
              "95"
             ],
             {
              "frame": {
               "duration": 50,
               "redraw": true
              },
              "mode": "immediate"
             }
            ],
            "label": "95",
            "method": "animate"
           },
           {
            "args": [
             [
              "96"
             ],
             {
              "frame": {
               "duration": 50,
               "redraw": true
              },
              "mode": "immediate"
             }
            ],
            "label": "96",
            "method": "animate"
           },
           {
            "args": [
             [
              "97"
             ],
             {
              "frame": {
               "duration": 50,
               "redraw": true
              },
              "mode": "immediate"
             }
            ],
            "label": "97",
            "method": "animate"
           },
           {
            "args": [
             [
              "98"
             ],
             {
              "frame": {
               "duration": 50,
               "redraw": true
              },
              "mode": "immediate"
             }
            ],
            "label": "98",
            "method": "animate"
           },
           {
            "args": [
             [
              "99"
             ],
             {
              "frame": {
               "duration": 50,
               "redraw": true
              },
              "mode": "immediate"
             }
            ],
            "label": "99",
            "method": "animate"
           }
          ],
          "transition": {
           "duration": 0
          },
          "x": 0.1,
          "y": 0
         }
        ],
        "template": {
         "data": {
          "bar": [
           {
            "error_x": {
             "color": "#2a3f5f"
            },
            "error_y": {
             "color": "#2a3f5f"
            },
            "marker": {
             "line": {
              "color": "#E5ECF6",
              "width": 0.5
             },
             "pattern": {
              "fillmode": "overlay",
              "size": 10,
              "solidity": 0.2
             }
            },
            "type": "bar"
           }
          ],
          "barpolar": [
           {
            "marker": {
             "line": {
              "color": "#E5ECF6",
              "width": 0.5
             },
             "pattern": {
              "fillmode": "overlay",
              "size": 10,
              "solidity": 0.2
             }
            },
            "type": "barpolar"
           }
          ],
          "carpet": [
           {
            "aaxis": {
             "endlinecolor": "#2a3f5f",
             "gridcolor": "white",
             "linecolor": "white",
             "minorgridcolor": "white",
             "startlinecolor": "#2a3f5f"
            },
            "baxis": {
             "endlinecolor": "#2a3f5f",
             "gridcolor": "white",
             "linecolor": "white",
             "minorgridcolor": "white",
             "startlinecolor": "#2a3f5f"
            },
            "type": "carpet"
           }
          ],
          "choropleth": [
           {
            "colorbar": {
             "outlinewidth": 0,
             "ticks": ""
            },
            "type": "choropleth"
           }
          ],
          "contour": [
           {
            "colorbar": {
             "outlinewidth": 0,
             "ticks": ""
            },
            "colorscale": [
             [
              0,
              "#0d0887"
             ],
             [
              0.1111111111111111,
              "#46039f"
             ],
             [
              0.2222222222222222,
              "#7201a8"
             ],
             [
              0.3333333333333333,
              "#9c179e"
             ],
             [
              0.4444444444444444,
              "#bd3786"
             ],
             [
              0.5555555555555556,
              "#d8576b"
             ],
             [
              0.6666666666666666,
              "#ed7953"
             ],
             [
              0.7777777777777778,
              "#fb9f3a"
             ],
             [
              0.8888888888888888,
              "#fdca26"
             ],
             [
              1,
              "#f0f921"
             ]
            ],
            "type": "contour"
           }
          ],
          "contourcarpet": [
           {
            "colorbar": {
             "outlinewidth": 0,
             "ticks": ""
            },
            "type": "contourcarpet"
           }
          ],
          "heatmap": [
           {
            "colorbar": {
             "outlinewidth": 0,
             "ticks": ""
            },
            "colorscale": [
             [
              0,
              "#0d0887"
             ],
             [
              0.1111111111111111,
              "#46039f"
             ],
             [
              0.2222222222222222,
              "#7201a8"
             ],
             [
              0.3333333333333333,
              "#9c179e"
             ],
             [
              0.4444444444444444,
              "#bd3786"
             ],
             [
              0.5555555555555556,
              "#d8576b"
             ],
             [
              0.6666666666666666,
              "#ed7953"
             ],
             [
              0.7777777777777778,
              "#fb9f3a"
             ],
             [
              0.8888888888888888,
              "#fdca26"
             ],
             [
              1,
              "#f0f921"
             ]
            ],
            "type": "heatmap"
           }
          ],
          "histogram": [
           {
            "marker": {
             "pattern": {
              "fillmode": "overlay",
              "size": 10,
              "solidity": 0.2
             }
            },
            "type": "histogram"
           }
          ],
          "histogram2d": [
           {
            "colorbar": {
             "outlinewidth": 0,
             "ticks": ""
            },
            "colorscale": [
             [
              0,
              "#0d0887"
             ],
             [
              0.1111111111111111,
              "#46039f"
             ],
             [
              0.2222222222222222,
              "#7201a8"
             ],
             [
              0.3333333333333333,
              "#9c179e"
             ],
             [
              0.4444444444444444,
              "#bd3786"
             ],
             [
              0.5555555555555556,
              "#d8576b"
             ],
             [
              0.6666666666666666,
              "#ed7953"
             ],
             [
              0.7777777777777778,
              "#fb9f3a"
             ],
             [
              0.8888888888888888,
              "#fdca26"
             ],
             [
              1,
              "#f0f921"
             ]
            ],
            "type": "histogram2d"
           }
          ],
          "histogram2dcontour": [
           {
            "colorbar": {
             "outlinewidth": 0,
             "ticks": ""
            },
            "colorscale": [
             [
              0,
              "#0d0887"
             ],
             [
              0.1111111111111111,
              "#46039f"
             ],
             [
              0.2222222222222222,
              "#7201a8"
             ],
             [
              0.3333333333333333,
              "#9c179e"
             ],
             [
              0.4444444444444444,
              "#bd3786"
             ],
             [
              0.5555555555555556,
              "#d8576b"
             ],
             [
              0.6666666666666666,
              "#ed7953"
             ],
             [
              0.7777777777777778,
              "#fb9f3a"
             ],
             [
              0.8888888888888888,
              "#fdca26"
             ],
             [
              1,
              "#f0f921"
             ]
            ],
            "type": "histogram2dcontour"
           }
          ],
          "mesh3d": [
           {
            "colorbar": {
             "outlinewidth": 0,
             "ticks": ""
            },
            "type": "mesh3d"
           }
          ],
          "parcoords": [
           {
            "line": {
             "colorbar": {
              "outlinewidth": 0,
              "ticks": ""
             }
            },
            "type": "parcoords"
           }
          ],
          "pie": [
           {
            "automargin": true,
            "type": "pie"
           }
          ],
          "scatter": [
           {
            "fillpattern": {
             "fillmode": "overlay",
             "size": 10,
             "solidity": 0.2
            },
            "type": "scatter"
           }
          ],
          "scatter3d": [
           {
            "line": {
             "colorbar": {
              "outlinewidth": 0,
              "ticks": ""
             }
            },
            "marker": {
             "colorbar": {
              "outlinewidth": 0,
              "ticks": ""
             }
            },
            "type": "scatter3d"
           }
          ],
          "scattercarpet": [
           {
            "marker": {
             "colorbar": {
              "outlinewidth": 0,
              "ticks": ""
             }
            },
            "type": "scattercarpet"
           }
          ],
          "scattergeo": [
           {
            "marker": {
             "colorbar": {
              "outlinewidth": 0,
              "ticks": ""
             }
            },
            "type": "scattergeo"
           }
          ],
          "scattergl": [
           {
            "marker": {
             "colorbar": {
              "outlinewidth": 0,
              "ticks": ""
             }
            },
            "type": "scattergl"
           }
          ],
          "scattermap": [
           {
            "marker": {
             "colorbar": {
              "outlinewidth": 0,
              "ticks": ""
             }
            },
            "type": "scattermap"
           }
          ],
          "scattermapbox": [
           {
            "marker": {
             "colorbar": {
              "outlinewidth": 0,
              "ticks": ""
             }
            },
            "type": "scattermapbox"
           }
          ],
          "scatterpolar": [
           {
            "marker": {
             "colorbar": {
              "outlinewidth": 0,
              "ticks": ""
             }
            },
            "type": "scatterpolar"
           }
          ],
          "scatterpolargl": [
           {
            "marker": {
             "colorbar": {
              "outlinewidth": 0,
              "ticks": ""
             }
            },
            "type": "scatterpolargl"
           }
          ],
          "scatterternary": [
           {
            "marker": {
             "colorbar": {
              "outlinewidth": 0,
              "ticks": ""
             }
            },
            "type": "scatterternary"
           }
          ],
          "surface": [
           {
            "colorbar": {
             "outlinewidth": 0,
             "ticks": ""
            },
            "colorscale": [
             [
              0,
              "#0d0887"
             ],
             [
              0.1111111111111111,
              "#46039f"
             ],
             [
              0.2222222222222222,
              "#7201a8"
             ],
             [
              0.3333333333333333,
              "#9c179e"
             ],
             [
              0.4444444444444444,
              "#bd3786"
             ],
             [
              0.5555555555555556,
              "#d8576b"
             ],
             [
              0.6666666666666666,
              "#ed7953"
             ],
             [
              0.7777777777777778,
              "#fb9f3a"
             ],
             [
              0.8888888888888888,
              "#fdca26"
             ],
             [
              1,
              "#f0f921"
             ]
            ],
            "type": "surface"
           }
          ],
          "table": [
           {
            "cells": {
             "fill": {
              "color": "#EBF0F8"
             },
             "line": {
              "color": "white"
             }
            },
            "header": {
             "fill": {
              "color": "#C8D4E3"
             },
             "line": {
              "color": "white"
             }
            },
            "type": "table"
           }
          ]
         },
         "layout": {
          "annotationdefaults": {
           "arrowcolor": "#2a3f5f",
           "arrowhead": 0,
           "arrowwidth": 1
          },
          "autotypenumbers": "strict",
          "coloraxis": {
           "colorbar": {
            "outlinewidth": 0,
            "ticks": ""
           }
          },
          "colorscale": {
           "diverging": [
            [
             0,
             "#8e0152"
            ],
            [
             0.1,
             "#c51b7d"
            ],
            [
             0.2,
             "#de77ae"
            ],
            [
             0.3,
             "#f1b6da"
            ],
            [
             0.4,
             "#fde0ef"
            ],
            [
             0.5,
             "#f7f7f7"
            ],
            [
             0.6,
             "#e6f5d0"
            ],
            [
             0.7,
             "#b8e186"
            ],
            [
             0.8,
             "#7fbc41"
            ],
            [
             0.9,
             "#4d9221"
            ],
            [
             1,
             "#276419"
            ]
           ],
           "sequential": [
            [
             0,
             "#0d0887"
            ],
            [
             0.1111111111111111,
             "#46039f"
            ],
            [
             0.2222222222222222,
             "#7201a8"
            ],
            [
             0.3333333333333333,
             "#9c179e"
            ],
            [
             0.4444444444444444,
             "#bd3786"
            ],
            [
             0.5555555555555556,
             "#d8576b"
            ],
            [
             0.6666666666666666,
             "#ed7953"
            ],
            [
             0.7777777777777778,
             "#fb9f3a"
            ],
            [
             0.8888888888888888,
             "#fdca26"
            ],
            [
             1,
             "#f0f921"
            ]
           ],
           "sequentialminus": [
            [
             0,
             "#0d0887"
            ],
            [
             0.1111111111111111,
             "#46039f"
            ],
            [
             0.2222222222222222,
             "#7201a8"
            ],
            [
             0.3333333333333333,
             "#9c179e"
            ],
            [
             0.4444444444444444,
             "#bd3786"
            ],
            [
             0.5555555555555556,
             "#d8576b"
            ],
            [
             0.6666666666666666,
             "#ed7953"
            ],
            [
             0.7777777777777778,
             "#fb9f3a"
            ],
            [
             0.8888888888888888,
             "#fdca26"
            ],
            [
             1,
             "#f0f921"
            ]
           ]
          },
          "colorway": [
           "#636efa",
           "#EF553B",
           "#00cc96",
           "#ab63fa",
           "#FFA15A",
           "#19d3f3",
           "#FF6692",
           "#B6E880",
           "#FF97FF",
           "#FECB52"
          ],
          "font": {
           "color": "#2a3f5f"
          },
          "geo": {
           "bgcolor": "white",
           "lakecolor": "white",
           "landcolor": "#E5ECF6",
           "showlakes": true,
           "showland": true,
           "subunitcolor": "white"
          },
          "hoverlabel": {
           "align": "left"
          },
          "hovermode": "closest",
          "mapbox": {
           "style": "light"
          },
          "paper_bgcolor": "white",
          "plot_bgcolor": "#E5ECF6",
          "polar": {
           "angularaxis": {
            "gridcolor": "white",
            "linecolor": "white",
            "ticks": ""
           },
           "bgcolor": "#E5ECF6",
           "radialaxis": {
            "gridcolor": "white",
            "linecolor": "white",
            "ticks": ""
           }
          },
          "scene": {
           "xaxis": {
            "backgroundcolor": "#E5ECF6",
            "gridcolor": "white",
            "gridwidth": 2,
            "linecolor": "white",
            "showbackground": true,
            "ticks": "",
            "zerolinecolor": "white"
           },
           "yaxis": {
            "backgroundcolor": "#E5ECF6",
            "gridcolor": "white",
            "gridwidth": 2,
            "linecolor": "white",
            "showbackground": true,
            "ticks": "",
            "zerolinecolor": "white"
           },
           "zaxis": {
            "backgroundcolor": "#E5ECF6",
            "gridcolor": "white",
            "gridwidth": 2,
            "linecolor": "white",
            "showbackground": true,
            "ticks": "",
            "zerolinecolor": "white"
           }
          },
          "shapedefaults": {
           "line": {
            "color": "#2a3f5f"
           }
          },
          "ternary": {
           "aaxis": {
            "gridcolor": "white",
            "linecolor": "white",
            "ticks": ""
           },
           "baxis": {
            "gridcolor": "white",
            "linecolor": "white",
            "ticks": ""
           },
           "bgcolor": "#E5ECF6",
           "caxis": {
            "gridcolor": "white",
            "linecolor": "white",
            "ticks": ""
           }
          },
          "title": {
           "x": 0.05
          },
          "xaxis": {
           "automargin": true,
           "gridcolor": "white",
           "linecolor": "white",
           "ticks": "",
           "title": {
            "standoff": 15
           },
           "zerolinecolor": "white",
           "zerolinewidth": 2
          },
          "yaxis": {
           "automargin": true,
           "gridcolor": "white",
           "linecolor": "white",
           "ticks": "",
           "title": {
            "standoff": 15
           },
           "zerolinecolor": "white",
           "zerolinewidth": 2
          }
         }
        },
        "title": {
         "text": "Shell contact p2t"
        },
        "updatemenus": [
         {
          "buttons": [
           {
            "args": [
             null,
             {
              "frame": {
               "duration": 50,
               "redraw": true
              },
              "fromcurrent": true
             }
            ],
            "label": "Play",
            "method": "animate"
           },
           {
            "args": [
             [
              null
             ],
             {
              "frame": {
               "duration": 0,
               "redraw": true
              },
              "mode": "immediate"
             }
            ],
            "label": "Pause",
            "method": "animate"
           }
          ],
          "direction": "left",
          "pad": {
           "r": 10,
           "t": 87
          },
          "showactive": false,
          "type": "buttons",
          "x": 0.1,
          "xanchor": "right",
          "y": 0,
          "yanchor": "top"
         }
        ]
       }
      }
     },
     "metadata": {},
     "output_type": "display_data"
    }
   ],
   "source": [
    "t = np.arange(robot.sim_params.total_time, step=robot.sim_params.dt)\n",
    "options = dismech.AnimationOptions(title='Shell contact p2t')\n",
    "\n",
    "fig = dismech.get_interactive_animation_plotly(robot, t, qs, options)\n",
    "fig.show()"
   ]
  },
  {
   "cell_type": "code",
   "execution_count": 4,
   "metadata": {},
   "outputs": [
    {
     "data": {
      "image/png": "[encoded data removed]",
      "text/plain": [
       "<Figure size 640x480 with 1 Axes>"
      ]
     },
     "metadata": {},
     "output_type": "display_data"
    }
   ],
   "source": [
    "ani = dismech.get_animation(robot, t, qs, options)\n",
    "ani.save('parallel_contact.gif')"
   ]
  }
 ],
 "metadata": {
  "kernelspec": {
   "display_name": ".venv",
   "language": "python",
   "name": "python3"
  },
  "language_info": {
   "codemirror_mode": {
    "name": "ipython",
    "version": 3
   },
   "file_extension": ".py",
   "mimetype": "text/x-python",
   "name": "python",
   "nbconvert_exporter": "python",
   "pygments_lexer": "ipython3",
   "version": "3.10.12"
  }
 },
 "nbformat": 4,
 "nbformat_minor": 2
}
