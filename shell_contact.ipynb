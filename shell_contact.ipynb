{
 "cells": [
  {
   "cell_type": "markdown",
   "metadata": {},
   "source": [
    "## Shell Contact Example"
   ]
  },
  {
   "cell_type": "code",
   "execution_count": 10,
   "metadata": {},
   "outputs": [],
   "source": [
    "# !pip install debugpy"
   ]
  },
  {
   "cell_type": "code",
   "execution_count": 11,
   "metadata": {},
   "outputs": [],
   "source": [
    "import numpy as np\n",
    "\n",
    "import dismech\n",
    "\n",
    "\n",
    "geom = dismech.GeomParams(rod_r0=0.005,\n",
    "                          shell_h=0.005)\n",
    "\n",
    "material = dismech.Material(density=1200,\n",
    "                            youngs_rod=0,\n",
    "                            youngs_shell=2e8,\n",
    "                            poisson_rod=0,\n",
    "                            poisson_shell=0.5)\n",
    "\n",
    "shell_contact_sim = dismech.SimParams(static_sim=False,\n",
    "                                  two_d_sim=False,   # no twisting\n",
    "                                  use_mid_edge=False,\n",
    "                                  use_line_search=False,\n",
    "                                  show_floor=False,\n",
    "                                  log_data=True,\n",
    "                                  log_step=1,\n",
    "                                  dt=1e-2,\n",
    "                                  max_iter=25,\n",
    "                                  total_time=1.0,\n",
    "                                  plot_step=1,\n",
    "                                  tol=1e-4,\n",
    "                                  ftol=1e-4,\n",
    "                                  dtol=1e-2)\n",
    "\n",
    "env = dismech.Environment()\n",
    "#env.add_force('gravity', g=np.array([0.0, 0.0, -9.81]))\n",
    "# env.add_force('selfContact', delta=0.01*2*5e-3, h=5e-3)\n",
    "env.add_force('selfContact', delta=1e-4, h=5e-3, kc=5e2)\n",
    "#env.set_static()   \n",
    "\n",
    "geo = dismech.Geometry.from_txt('input_twoTriangleContact_p2p.txt')\n",
    "\n",
    "robot = dismech.SoftRobot(geom, material, geo, shell_contact_sim, env)\n",
    "\n",
    "u = robot.state.u\n",
    "u[11] = -0.5\n",
    "u[14] = -0.5\n",
    "u[17] = -0.5"
   ]
  },
  {
   "cell_type": "markdown",
   "metadata": {},
   "source": [
    "### Time Stepping\n",
    "\n",
    "As we are performing a static simulation, we must change gravity for each time step."
   ]
  },
  {
   "cell_type": "code",
   "execution_count": 12,
   "metadata": {},
   "outputs": [
    {
     "name": "stdout",
     "output_type": "stream",
     "text": [
      "delta: 0.02\n",
      "h: 1.0\n",
      "K1: 750.0\n",
      "scale:  200.0\n",
      "kc:  500.0\n",
      "upper limit for quadratic: 1.98\n",
      "upper limit for smooth: 2.02\n",
      "86.60254037844386\n",
      "7.691850745534256e-14\n",
      "86.60254037844393\n",
      "0.0\n",
      "86.60254037844393\n",
      "0.0\n",
      "86.60254037844393\n",
      "0.0\n",
      "86.60254037844393\n",
      "0.0\n",
      "86.60254037844393\n",
      "0.0\n",
      "86.60254037844393\n",
      "0.0\n",
      "86.60254037844393\n",
      "0.0\n",
      "86.60254037844393\n",
      "0.0\n",
      "86.60254037844393\n",
      "0.0\n",
      "86.60254037844393\n",
      "0.0\n",
      "86.60254037844393\n",
      "0.0\n",
      "86.60254037844393\n",
      "0.0\n",
      "86.60254037844393\n",
      "0.0\n",
      "86.60254037844393\n",
      "0.0\n",
      "86.60254037844393\n",
      "0.0\n",
      "86.60254037844393\n",
      "0.0\n",
      "86.60254037844393\n",
      "98025.81434819057\n",
      "344826.58329423104\n",
      "193760.4878322174\n",
      "190.21810568091368\n",
      "1468.7117676274936\n",
      "323790.2417907471\n",
      "142666.7141096832\n",
      "112068.93220952341\n",
      "150988.85012151516\n",
      "184292.7796285887\n",
      "35134.553923186\n",
      "9581.081763315598\n",
      "2380145.077532985\n",
      "1175861317.2527\n",
      "550960446.5691901\n",
      "287437871.3858933\n",
      "163705454.30406255\n",
      "100282777.90267403\n",
      "65316454.77687166\n",
      "44819529.08960237\n",
      "32161211.426109266\n",
      "23986290.264820583\n",
      "18499018.09211957\n",
      "14690254.872017184\n"
     ]
    },
    {
     "ename": "ValueError",
     "evalue": "Iteration limit 25 reached before convergence",
     "output_type": "error",
     "traceback": [
      "\u001b[31m---------------------------------------------------------------------------\u001b[39m",
      "\u001b[31mValueError\u001b[39m                                Traceback (most recent call last)",
      "\u001b[36mCell\u001b[39m\u001b[36m \u001b[39m\u001b[32mIn[12]\u001b[39m\u001b[32m, line 3\u001b[39m\n\u001b[32m      1\u001b[39m stepper = dismech.ImplicitEulerTimeStepper(robot)\n\u001b[32m----> \u001b[39m\u001b[32m3\u001b[39m robots = \u001b[43mstepper\u001b[49m\u001b[43m.\u001b[49m\u001b[43msimulate\u001b[49m\u001b[43m(\u001b[49m\u001b[43m)\u001b[49m\n\u001b[32m      5\u001b[39m qs = np.stack([robot.state.q \u001b[38;5;28;01mfor\u001b[39;00m robot \u001b[38;5;129;01min\u001b[39;00m robots])\n",
      "\u001b[36mFile \u001b[39m\u001b[32m~\\Documents\\Dev\\dismech-python\\src\\dismech\\time_steppers\\time_stepper.py:76\u001b[39m, in \u001b[36mTimeStepper.simulate\u001b[39m\u001b[34m(self, robot, viz)\u001b[39m\n\u001b[32m     74\u001b[39m \u001b[38;5;28;01mif\u001b[39;00m \u001b[38;5;28mself\u001b[39m.before_step \u001b[38;5;129;01mis\u001b[39;00m \u001b[38;5;129;01mnot\u001b[39;00m \u001b[38;5;28;01mNone\u001b[39;00m:\n\u001b[32m     75\u001b[39m     robot = \u001b[38;5;28mself\u001b[39m.before_step(robot, i * robot.sim_params.dt)\n\u001b[32m---> \u001b[39m\u001b[32m76\u001b[39m robot = \u001b[38;5;28;43mself\u001b[39;49m\u001b[43m.\u001b[49m\u001b[43mstep\u001b[49m\u001b[43m(\u001b[49m\u001b[43mrobot\u001b[49m\u001b[43m)\u001b[49m\n\u001b[32m     78\u001b[39m \u001b[38;5;66;03m# Update on step interval\u001b[39;00m\n\u001b[32m     79\u001b[39m \u001b[38;5;28;01mif\u001b[39;00m viz \u001b[38;5;129;01mis\u001b[39;00m \u001b[38;5;129;01mnot\u001b[39;00m \u001b[38;5;28;01mNone\u001b[39;00m \u001b[38;5;129;01mand\u001b[39;00m i % robot.sim_params.plot_step == \u001b[32m0\u001b[39m:\n",
      "\u001b[36mFile \u001b[39m\u001b[32m~\\Documents\\Dev\\dismech-python\\src\\dismech\\time_steppers\\time_stepper.py:166\u001b[39m, in \u001b[36mTimeStepper.step\u001b[39m\u001b[34m(self, robot, debug)\u001b[39m\n\u001b[32m    163\u001b[39m     iteration += \u001b[32m1\u001b[39m\n\u001b[32m    165\u001b[39m \u001b[38;5;28;01mif\u001b[39;00m iteration >= robot.sim_params.max_iter:\n\u001b[32m--> \u001b[39m\u001b[32m166\u001b[39m     \u001b[38;5;28;01mraise\u001b[39;00m \u001b[38;5;167;01mValueError\u001b[39;00m(\n\u001b[32m    167\u001b[39m         \u001b[33m\"\u001b[39m\u001b[33mIteration limit \u001b[39m\u001b[38;5;132;01m{}\u001b[39;00m\u001b[33m reached before convergence\u001b[39m\u001b[33m\"\u001b[39m.format(robot.sim_params.max_iter))\n\u001b[32m    169\u001b[39m \u001b[38;5;66;03m# Final update and return\u001b[39;00m\n\u001b[32m    170\u001b[39m \u001b[38;5;28mself\u001b[39m.robot = \u001b[38;5;28mself\u001b[39m._finalize_update(robot, q)\n",
      "\u001b[31mValueError\u001b[39m: Iteration limit 25 reached before convergence"
     ]
    }
   ],
   "source": [
    "stepper = dismech.ImplicitEulerTimeStepper(robot)\n",
    "\n",
    "robots = stepper.simulate()\n",
    "\n",
    "qs = np.stack([robot.state.q for robot in robots])"
   ]
  },
  {
   "cell_type": "code",
   "execution_count": null,
   "metadata": {},
   "outputs": [
    {
     "data": {
      "application/vnd.plotly.v1+json": {
       "config": {
        "plotlyServerURL": "https://plot.ly"
       },
       "data": [
        {
         "marker": {
          "color": "#1f78b4",
          "size": 5
         },
         "mode": "markers",
         "name": "Free Nodes",
         "type": "scatter3d",
         "x": {
          "bdata": "AAAAAAAAAAAAAAAAAADwPwAAAAAAAAAAAAAAAAAA8D8AAAAAAAAAQAAAAAAAAABA",
          "dtype": "f8"
         },
         "y": {
          "bdata": "AAAAAAAAAAAAAAAAAAAAAAAAAAAAAPA/AAAAAAAAAAAAAAAAAAAAAAAAAAAAAPA/",
          "dtype": "f8"
         },
         "z": {
          "bdata": "AAAAAAAAAAAAAAAAAAAAAAAAAAAAAAAAUrgehetRuD9SuB6F61G4P1K4HoXrUbg/",
          "dtype": "f8"
         }
        },
        {
         "marker": {
          "color": "#e31a1c",
          "size": 5
         },
         "mode": "markers",
         "name": "Fixed Nodes",
         "type": "scatter3d",
         "x": [],
         "y": [],
         "z": []
        },
        {
         "line": {
          "color": "#333333",
          "width": 2
         },
         "mode": "lines",
         "name": "Edges",
         "type": "scatter3d",
         "x": [
          1,
          0,
          null,
          0,
          0,
          null,
          0,
          1,
          null,
          2,
          2,
          null,
          2,
          1,
          null,
          1,
          2,
          null
         ],
         "y": [
          0,
          1,
          null,
          1,
          0,
          null,
          0,
          0,
          null,
          0,
          1,
          null,
          1,
          0,
          null,
          0,
          0,
          null
         ],
         "z": [
          0,
          0,
          null,
          0,
          0,
          null,
          0,
          0,
          null,
          0.095,
          0.095,
          null,
          0.095,
          0.095,
          null,
          0.095,
          0.095,
          null
         ]
        },
        {
         "color": "rgba(166, 206, 227, 0.7)",
         "i": [
          0,
          3
         ],
         "j": [
          1,
          4
         ],
         "k": [
          2,
          5
         ],
         "name": "Faces",
         "opacity": 0.7,
         "showscale": false,
         "type": "mesh3d",
         "x": {
          "bdata": "AAAAAAAAAAAAAAAAAADwPwAAAAAAAAAAAAAAAAAA8D8AAAAAAAAAQAAAAAAAAABA",
          "dtype": "f8"
         },
         "y": {
          "bdata": "AAAAAAAAAAAAAAAAAAAAAAAAAAAAAPA/AAAAAAAAAAAAAAAAAAAAAAAAAAAAAPA/",
          "dtype": "f8"
         },
         "z": {
          "bdata": "AAAAAAAAAAAAAAAAAAAAAAAAAAAAAAAAUrgehetRuD9SuB6F61G4P1K4HoXrUbg/",
          "dtype": "f8"
         }
        }
       ],
       "frames": [
        {
         "data": [
          {
           "name": "Free Nodes",
           "type": "scatter3d",
           "x": {
            "bdata": "AAAAAAAAAAAAAAAAAADwPwAAAAAAAAAAAAAAAAAA8D8AAAAAAAAAQAAAAAAAAABA",
            "dtype": "f8"
           },
           "y": {
            "bdata": "AAAAAAAAAAAAAAAAAAAAAAAAAAAAAPA/AAAAAAAAAAAAAAAAAAAAAAAAAAAAAPA/",
            "dtype": "f8"
           },
           "z": {
            "bdata": "AAAAAAAAAAAAAAAAAAAAAAAAAAAAAAAAUrgehetRuD9SuB6F61G4P1K4HoXrUbg/",
            "dtype": "f8"
           }
          },
          {
           "name": "Fixed Nodes",
           "type": "scatter3d",
           "x": [],
           "y": [],
           "z": []
          },
          {
           "name": "Edges",
           "type": "scatter3d",
           "x": [
            1,
            0,
            null,
            0,
            0,
            null,
            0,
            1,
            null,
            2,
            2,
            null,
            2,
            1,
            null,
            1,
            2,
            null
           ],
           "y": [
            0,
            1,
            null,
            1,
            0,
            null,
            0,
            0,
            null,
            0,
            1,
            null,
            1,
            0,
            null,
            0,
            0,
            null
           ],
           "z": [
            0,
            0,
            null,
            0,
            0,
            null,
            0,
            0,
            null,
            0.095,
            0.095,
            null,
            0.095,
            0.095,
            null,
            0.095,
            0.095,
            null
           ]
          },
          {
           "i": [
            0,
            3
           ],
           "j": [
            1,
            4
           ],
           "k": [
            2,
            5
           ],
           "name": "Faces",
           "type": "mesh3d",
           "x": {
            "bdata": "AAAAAAAAAAAAAAAAAADwPwAAAAAAAAAAAAAAAAAA8D8AAAAAAAAAQAAAAAAAAABA",
            "dtype": "f8"
           },
           "y": {
            "bdata": "AAAAAAAAAAAAAAAAAAAAAAAAAAAAAPA/AAAAAAAAAAAAAAAAAAAAAAAAAAAAAPA/",
            "dtype": "f8"
           },
           "z": {
            "bdata": "AAAAAAAAAAAAAAAAAAAAAAAAAAAAAAAAUrgehetRuD9SuB6F61G4P1K4HoXrUbg/",
            "dtype": "f8"
           }
          }
         ],
         "layout": {
          "annotations": [
           {
            "showarrow": false,
            "text": "Time: 0.00s (Step: 1/100)",
            "x": 0.05,
            "xref": "paper",
            "y": 0.95,
            "yref": "paper"
           }
          ]
         },
         "name": "0"
        },
        {
         "data": [
          {
           "name": "Free Nodes",
           "type": "scatter3d",
           "x": {
            "bdata": "AAAAAAAAAAAAAAAAAADwPwAAAAAAAAAAAAAAAAAA8D8AAAAAAAAAQAAAAAAAAABA",
            "dtype": "f8"
           },
           "y": {
            "bdata": "AAAAAAAAAAAAAAAAAAAAAAAAAAAAAPA/AAAAAAAAAAAAAAAAAAAAAAAAAAAAAPA/",
            "dtype": "f8"
           },
           "z": {
            "bdata": "AAAAAAAAAAAAAAAAAAAAAAAAAAAAAAAACtejcD0Ktz8K16NwPQq3PwrXo3A9Crc/",
            "dtype": "f8"
           }
          },
          {
           "name": "Fixed Nodes",
           "type": "scatter3d",
           "x": [],
           "y": [],
           "z": []
          },
          {
           "name": "Edges",
           "type": "scatter3d",
           "x": [
            1,
            0,
            null,
            0,
            0,
            null,
            0,
            1,
            null,
            2,
            2,
            null,
            2,
            1,
            null,
            1,
            2,
            null
           ],
           "y": [
            0,
            1,
            null,
            1,
            0,
            null,
            0,
            0,
            null,
            0,
            1,
            null,
            1,
            0,
            null,
            0,
            0,
            null
           ],
           "z": [
            0,
            0,
            null,
            0,
            0,
            null,
            0,
            0,
            null,
            0.09,
            0.09,
            null,
            0.09,
            0.09,
            null,
            0.09,
            0.09,
            null
           ]
          },
          {
           "i": [
            0,
            3
           ],
           "j": [
            1,
            4
           ],
           "k": [
            2,
            5
           ],
           "name": "Faces",
           "type": "mesh3d",
           "x": {
            "bdata": "AAAAAAAAAAAAAAAAAADwPwAAAAAAAAAAAAAAAAAA8D8AAAAAAAAAQAAAAAAAAABA",
            "dtype": "f8"
           },
           "y": {
            "bdata": "AAAAAAAAAAAAAAAAAAAAAAAAAAAAAPA/AAAAAAAAAAAAAAAAAAAAAAAAAAAAAPA/",
            "dtype": "f8"
           },
           "z": {
            "bdata": "AAAAAAAAAAAAAAAAAAAAAAAAAAAAAAAACtejcD0Ktz8K16NwPQq3PwrXo3A9Crc/",
            "dtype": "f8"
           }
          }
         ],
         "layout": {
          "annotations": [
           {
            "showarrow": false,
            "text": "Time: 0.01s (Step: 2/100)",
            "x": 0.05,
            "xref": "paper",
            "y": 0.95,
            "yref": "paper"
           }
          ]
         },
         "name": "1"
        },
        {
         "data": [
          {
           "name": "Free Nodes",
           "type": "scatter3d",
           "x": {
            "bdata": "AAAAAAAAAAAAAAAAAADwPwAAAAAAAAAAAAAAAAAA8D8AAAAAAAAAQAAAAAAAAABA",
            "dtype": "f8"
           },
           "y": {
            "bdata": "AAAAAAAAAAAAAAAAAAAAAAAAAAAAAPA/AAAAAAAAAAAAAAAAAAAAAAAAAAAAAPA/",
            "dtype": "f8"
           },
           "z": {
            "bdata": "AAAAAAAAAAAAAAAAAAAAAAAAAAAAAAAAwvUoXI/CtT/C9Shcj8K1P8L1KFyPwrU/",
            "dtype": "f8"
           }
          },
          {
           "name": "Fixed Nodes",
           "type": "scatter3d",
           "x": [],
           "y": [],
           "z": []
          },
          {
           "name": "Edges",
           "type": "scatter3d",
           "x": [
            1,
            0,
            null,
            0,
            0,
            null,
            0,
            1,
            null,
            2,
            2,
            null,
            2,
            1,
            null,
            1,
            2,
            null
           ],
           "y": [
            0,
            1,
            null,
            1,
            0,
            null,
            0,
            0,
            null,
            0,
            1,
            null,
            1,
            0,
            null,
            0,
            0,
            null
           ],
           "z": [
            0,
            0,
            null,
            0,
            0,
            null,
            0,
            0,
            null,
            0.08499999999999999,
            0.08499999999999999,
            null,
            0.08499999999999999,
            0.08499999999999999,
            null,
            0.08499999999999999,
            0.08499999999999999,
            null
           ]
          },
          {
           "i": [
            0,
            3
           ],
           "j": [
            1,
            4
           ],
           "k": [
            2,
            5
           ],
           "name": "Faces",
           "type": "mesh3d",
           "x": {
            "bdata": "AAAAAAAAAAAAAAAAAADwPwAAAAAAAAAAAAAAAAAA8D8AAAAAAAAAQAAAAAAAAABA",
            "dtype": "f8"
           },
           "y": {
            "bdata": "AAAAAAAAAAAAAAAAAAAAAAAAAAAAAPA/AAAAAAAAAAAAAAAAAAAAAAAAAAAAAPA/",
            "dtype": "f8"
           },
           "z": {
            "bdata": "AAAAAAAAAAAAAAAAAAAAAAAAAAAAAAAAwvUoXI/CtT/C9Shcj8K1P8L1KFyPwrU/",
            "dtype": "f8"
           }
          }
         ],
         "layout": {
          "annotations": [
           {
            "showarrow": false,
            "text": "Time: 0.02s (Step: 3/100)",
            "x": 0.05,
            "xref": "paper",
            "y": 0.95,
            "yref": "paper"
           }
          ]
         },
         "name": "2"
        },
        {
         "data": [
          {
           "name": "Free Nodes",
           "type": "scatter3d",
           "x": {
            "bdata": "AAAAAAAAAAAAAAAAAADwPwAAAAAAAAAAAAAAAAAA8D8AAAAAAAAAQAAAAAAAAABA",
            "dtype": "f8"
           },
           "y": {
            "bdata": "AAAAAAAAAAAAAAAAAAAAAAAAAAAAAPA/AAAAAAAAAAAAAAAAAAAAAAAAAAAAAPA/",
            "dtype": "f8"
           },
           "z": {
            "bdata": "AAAAAAAAAAAAAAAAAAAAAAAAAAAAAAAAehSuR+F6tD96FK5H4Xq0P3oUrkfherQ/",
            "dtype": "f8"
           }
          },
          {
           "name": "Fixed Nodes",
           "type": "scatter3d",
           "x": [],
           "y": [],
           "z": []
          },
          {
           "name": "Edges",
           "type": "scatter3d",
           "x": [
            1,
            0,
            null,
            0,
            0,
            null,
            0,
            1,
            null,
            2,
            2,
            null,
            2,
            1,
            null,
            1,
            2,
            null
           ],
           "y": [
            0,
            1,
            null,
            1,
            0,
            null,
            0,
            0,
            null,
            0,
            1,
            null,
            1,
            0,
            null,
            0,
            0,
            null
           ],
           "z": [
            0,
            0,
            null,
            0,
            0,
            null,
            0,
            0,
            null,
            0.07999999999999999,
            0.07999999999999999,
            null,
            0.07999999999999999,
            0.07999999999999999,
            null,
            0.07999999999999999,
            0.07999999999999999,
            null
           ]
          },
          {
           "i": [
            0,
            3
           ],
           "j": [
            1,
            4
           ],
           "k": [
            2,
            5
           ],
           "name": "Faces",
           "type": "mesh3d",
           "x": {
            "bdata": "AAAAAAAAAAAAAAAAAADwPwAAAAAAAAAAAAAAAAAA8D8AAAAAAAAAQAAAAAAAAABA",
            "dtype": "f8"
           },
           "y": {
            "bdata": "AAAAAAAAAAAAAAAAAAAAAAAAAAAAAPA/AAAAAAAAAAAAAAAAAAAAAAAAAAAAAPA/",
            "dtype": "f8"
           },
           "z": {
            "bdata": "AAAAAAAAAAAAAAAAAAAAAAAAAAAAAAAAehSuR+F6tD96FK5H4Xq0P3oUrkfherQ/",
            "dtype": "f8"
           }
          }
         ],
         "layout": {
          "annotations": [
           {
            "showarrow": false,
            "text": "Time: 0.03s (Step: 4/100)",
            "x": 0.05,
            "xref": "paper",
            "y": 0.95,
            "yref": "paper"
           }
          ]
         },
         "name": "3"
        },
        {
         "data": [
          {
           "name": "Free Nodes",
           "type": "scatter3d",
           "x": {
            "bdata": "AAAAAAAAAAAAAAAAAADwPwAAAAAAAAAAAAAAAAAA8D8AAAAAAAAAQAAAAAAAAABA",
            "dtype": "f8"
           },
           "y": {
            "bdata": "AAAAAAAAAAAAAAAAAAAAAAAAAAAAAPA/AAAAAAAAAAAAAAAAAAAAAAAAAAAAAPA/",
            "dtype": "f8"
           },
           "z": {
            "bdata": "AAAAAAAAAAAAAAAAAAAAAAAAAAAAAAAAMjMzMzMzsz8yMzMzMzOzPzIzMzMzM7M/",
            "dtype": "f8"
           }
          },
          {
           "name": "Fixed Nodes",
           "type": "scatter3d",
           "x": [],
           "y": [],
           "z": []
          },
          {
           "name": "Edges",
           "type": "scatter3d",
           "x": [
            1,
            0,
            null,
            0,
            0,
            null,
            0,
            1,
            null,
            2,
            2,
            null,
            2,
            1,
            null,
            1,
            2,
            null
           ],
           "y": [
            0,
            1,
            null,
            1,
            0,
            null,
            0,
            0,
            null,
            0,
            1,
            null,
            1,
            0,
            null,
            0,
            0,
            null
           ],
           "z": [
            0,
            0,
            null,
            0,
            0,
            null,
            0,
            0,
            null,
            0.07499999999999998,
            0.07499999999999998,
            null,
            0.07499999999999998,
            0.07499999999999998,
            null,
            0.07499999999999998,
            0.07499999999999998,
            null
           ]
          },
          {
           "i": [
            0,
            3
           ],
           "j": [
            1,
            4
           ],
           "k": [
            2,
            5
           ],
           "name": "Faces",
           "type": "mesh3d",
           "x": {
            "bdata": "AAAAAAAAAAAAAAAAAADwPwAAAAAAAAAAAAAAAAAA8D8AAAAAAAAAQAAAAAAAAABA",
            "dtype": "f8"
           },
           "y": {
            "bdata": "AAAAAAAAAAAAAAAAAAAAAAAAAAAAAPA/AAAAAAAAAAAAAAAAAAAAAAAAAAAAAPA/",
            "dtype": "f8"
           },
           "z": {
            "bdata": "AAAAAAAAAAAAAAAAAAAAAAAAAAAAAAAAMjMzMzMzsz8yMzMzMzOzPzIzMzMzM7M/",
            "dtype": "f8"
           }
          }
         ],
         "layout": {
          "annotations": [
           {
            "showarrow": false,
            "text": "Time: 0.04s (Step: 5/100)",
            "x": 0.05,
            "xref": "paper",
            "y": 0.95,
            "yref": "paper"
           }
          ]
         },
         "name": "4"
        },
        {
         "data": [
          {
           "name": "Free Nodes",
           "type": "scatter3d",
           "x": {
            "bdata": "AAAAAAAAAAAAAAAAAADwPwAAAAAAAAAAAAAAAAAA8D8AAAAAAAAAQAAAAAAAAABA",
            "dtype": "f8"
           },
           "y": {
            "bdata": "AAAAAAAAAAAAAAAAAAAAAAAAAAAAAPA/AAAAAAAAAAAAAAAAAAAAAAAAAAAAAPA/",
            "dtype": "f8"
           },
           "z": {
            "bdata": "AAAAAAAAAAAAAAAAAAAAAAAAAAAAAAAA6lG4HoXrsT/qUbgeheuxP+pRuB6F67E/",
            "dtype": "f8"
           }
          },
          {
           "name": "Fixed Nodes",
           "type": "scatter3d",
           "x": [],
           "y": [],
           "z": []
          },
          {
           "name": "Edges",
           "type": "scatter3d",
           "x": [
            1,
            0,
            null,
            0,
            0,
            null,
            0,
            1,
            null,
            2,
            2,
            null,
            2,
            1,
            null,
            1,
            2,
            null
           ],
           "y": [
            0,
            1,
            null,
            1,
            0,
            null,
            0,
            0,
            null,
            0,
            1,
            null,
            1,
            0,
            null,
            0,
            0,
            null
           ],
           "z": [
            0,
            0,
            null,
            0,
            0,
            null,
            0,
            0,
            null,
            0.06999999999999998,
            0.06999999999999998,
            null,
            0.06999999999999998,
            0.06999999999999998,
            null,
            0.06999999999999998,
            0.06999999999999998,
            null
           ]
          },
          {
           "i": [
            0,
            3
           ],
           "j": [
            1,
            4
           ],
           "k": [
            2,
            5
           ],
           "name": "Faces",
           "type": "mesh3d",
           "x": {
            "bdata": "AAAAAAAAAAAAAAAAAADwPwAAAAAAAAAAAAAAAAAA8D8AAAAAAAAAQAAAAAAAAABA",
            "dtype": "f8"
           },
           "y": {
            "bdata": "AAAAAAAAAAAAAAAAAAAAAAAAAAAAAPA/AAAAAAAAAAAAAAAAAAAAAAAAAAAAAPA/",
            "dtype": "f8"
           },
           "z": {
            "bdata": "AAAAAAAAAAAAAAAAAAAAAAAAAAAAAAAA6lG4HoXrsT/qUbgeheuxP+pRuB6F67E/",
            "dtype": "f8"
           }
          }
         ],
         "layout": {
          "annotations": [
           {
            "showarrow": false,
            "text": "Time: 0.05s (Step: 6/100)",
            "x": 0.05,
            "xref": "paper",
            "y": 0.95,
            "yref": "paper"
           }
          ]
         },
         "name": "5"
        },
        {
         "data": [
          {
           "name": "Free Nodes",
           "type": "scatter3d",
           "x": {
            "bdata": "AAAAAAAAAAAAAAAAAADwPwAAAAAAAAAAAAAAAAAA8D8AAAAAAAAAQAAAAAAAAABA",
            "dtype": "f8"
           },
           "y": {
            "bdata": "AAAAAAAAAAAAAAAAAAAAAAAAAAAAAPA/AAAAAAAAAAAAAAAAAAAAAAAAAAAAAPA/",
            "dtype": "f8"
           },
           "z": {
            "bdata": "AAAAAAAAAAAAAAAAAAAAAAAAAAAAAAAAonA9CtejsD+icD0K16OwP6JwPQrXo7A/",
            "dtype": "f8"
           }
          },
          {
           "name": "Fixed Nodes",
           "type": "scatter3d",
           "x": [],
           "y": [],
           "z": []
          },
          {
           "name": "Edges",
           "type": "scatter3d",
           "x": [
            1,
            0,
            null,
            0,
            0,
            null,
            0,
            1,
            null,
            2,
            2,
            null,
            2,
            1,
            null,
            1,
            2,
            null
           ],
           "y": [
            0,
            1,
            null,
            1,
            0,
            null,
            0,
            0,
            null,
            0,
            1,
            null,
            1,
            0,
            null,
            0,
            0,
            null
           ],
           "z": [
            0,
            0,
            null,
            0,
            0,
            null,
            0,
            0,
            null,
            0.06499999999999997,
            0.06499999999999997,
            null,
            0.06499999999999997,
            0.06499999999999997,
            null,
            0.06499999999999997,
            0.06499999999999997,
            null
           ]
          },
          {
           "i": [
            0,
            3
           ],
           "j": [
            1,
            4
           ],
           "k": [
            2,
            5
           ],
           "name": "Faces",
           "type": "mesh3d",
           "x": {
            "bdata": "AAAAAAAAAAAAAAAAAADwPwAAAAAAAAAAAAAAAAAA8D8AAAAAAAAAQAAAAAAAAABA",
            "dtype": "f8"
           },
           "y": {
            "bdata": "AAAAAAAAAAAAAAAAAAAAAAAAAAAAAPA/AAAAAAAAAAAAAAAAAAAAAAAAAAAAAPA/",
            "dtype": "f8"
           },
           "z": {
            "bdata": "AAAAAAAAAAAAAAAAAAAAAAAAAAAAAAAAonA9CtejsD+icD0K16OwP6JwPQrXo7A/",
            "dtype": "f8"
           }
          }
         ],
         "layout": {
          "annotations": [
           {
            "showarrow": false,
            "text": "Time: 0.06s (Step: 7/100)",
            "x": 0.05,
            "xref": "paper",
            "y": 0.95,
            "yref": "paper"
           }
          ]
         },
         "name": "6"
        },
        {
         "data": [
          {
           "name": "Free Nodes",
           "type": "scatter3d",
           "x": {
            "bdata": "AAAAAAAAAAAAAAAAAADwPwAAAAAAAAAAAAAAAAAA8D8AAAAAAAAAQAAAAAAAAABA",
            "dtype": "f8"
           },
           "y": {
            "bdata": "AAAAAAAAAAAAAAAAAAAAAAAAAAAAAPA/AAAAAAAAAAAAAAAAAAAAAAAAAAAAAPA/",
            "dtype": "f8"
           },
           "z": {
            "bdata": "AAAAAAAAAAAAAAAAAAAAAAAAAAAAAAAAtB6F61G4rj+0HoXrUbiuP7QehetRuK4/",
            "dtype": "f8"
           }
          },
          {
           "name": "Fixed Nodes",
           "type": "scatter3d",
           "x": [],
           "y": [],
           "z": []
          },
          {
           "name": "Edges",
           "type": "scatter3d",
           "x": [
            1,
            0,
            null,
            0,
            0,
            null,
            0,
            1,
            null,
            2,
            2,
            null,
            2,
            1,
            null,
            1,
            2,
            null
           ],
           "y": [
            0,
            1,
            null,
            1,
            0,
            null,
            0,
            0,
            null,
            0,
            1,
            null,
            1,
            0,
            null,
            0,
            0,
            null
           ],
           "z": [
            0,
            0,
            null,
            0,
            0,
            null,
            0,
            0,
            null,
            0.05999999999999997,
            0.05999999999999997,
            null,
            0.05999999999999997,
            0.05999999999999997,
            null,
            0.05999999999999997,
            0.05999999999999997,
            null
           ]
          },
          {
           "i": [
            0,
            3
           ],
           "j": [
            1,
            4
           ],
           "k": [
            2,
            5
           ],
           "name": "Faces",
           "type": "mesh3d",
           "x": {
            "bdata": "AAAAAAAAAAAAAAAAAADwPwAAAAAAAAAAAAAAAAAA8D8AAAAAAAAAQAAAAAAAAABA",
            "dtype": "f8"
           },
           "y": {
            "bdata": "AAAAAAAAAAAAAAAAAAAAAAAAAAAAAPA/AAAAAAAAAAAAAAAAAAAAAAAAAAAAAPA/",
            "dtype": "f8"
           },
           "z": {
            "bdata": "AAAAAAAAAAAAAAAAAAAAAAAAAAAAAAAAtB6F61G4rj+0HoXrUbiuP7QehetRuK4/",
            "dtype": "f8"
           }
          }
         ],
         "layout": {
          "annotations": [
           {
            "showarrow": false,
            "text": "Time: 0.07s (Step: 8/100)",
            "x": 0.05,
            "xref": "paper",
            "y": 0.95,
            "yref": "paper"
           }
          ]
         },
         "name": "7"
        },
        {
         "data": [
          {
           "name": "Free Nodes",
           "type": "scatter3d",
           "x": {
            "bdata": "AAAAAAAAAAAAAAAAAADwPwAAAAAAAAAAAAAAAAAA8D8AAAAAAAAAQAAAAAAAAABA",
            "dtype": "f8"
           },
           "y": {
            "bdata": "AAAAAAAAAAAAAAAAAAAAAAAAAAAAAPA/AAAAAAAAAAAAAAAAAAAAAAAAAAAAAPA/",
            "dtype": "f8"
           },
           "z": {
            "bdata": "AAAAAAAAAAAAAAAAAAAAAAAAAAAAAAAAJFyPwvUorD8kXI/C9SisPyRcj8L1KKw/",
            "dtype": "f8"
           }
          },
          {
           "name": "Fixed Nodes",
           "type": "scatter3d",
           "x": [],
           "y": [],
           "z": []
          },
          {
           "name": "Edges",
           "type": "scatter3d",
           "x": [
            1,
            0,
            null,
            0,
            0,
            null,
            0,
            1,
            null,
            2,
            2,
            null,
            2,
            1,
            null,
            1,
            2,
            null
           ],
           "y": [
            0,
            1,
            null,
            1,
            0,
            null,
            0,
            0,
            null,
            0,
            1,
            null,
            1,
            0,
            null,
            0,
            0,
            null
           ],
           "z": [
            0,
            0,
            null,
            0,
            0,
            null,
            0,
            0,
            null,
            0.054999999999999966,
            0.054999999999999966,
            null,
            0.054999999999999966,
            0.054999999999999966,
            null,
            0.054999999999999966,
            0.054999999999999966,
            null
           ]
          },
          {
           "i": [
            0,
            3
           ],
           "j": [
            1,
            4
           ],
           "k": [
            2,
            5
           ],
           "name": "Faces",
           "type": "mesh3d",
           "x": {
            "bdata": "AAAAAAAAAAAAAAAAAADwPwAAAAAAAAAAAAAAAAAA8D8AAAAAAAAAQAAAAAAAAABA",
            "dtype": "f8"
           },
           "y": {
            "bdata": "AAAAAAAAAAAAAAAAAAAAAAAAAAAAAPA/AAAAAAAAAAAAAAAAAAAAAAAAAAAAAPA/",
            "dtype": "f8"
           },
           "z": {
            "bdata": "AAAAAAAAAAAAAAAAAAAAAAAAAAAAAAAAJFyPwvUorD8kXI/C9SisPyRcj8L1KKw/",
            "dtype": "f8"
           }
          }
         ],
         "layout": {
          "annotations": [
           {
            "showarrow": false,
            "text": "Time: 0.08s (Step: 9/100)",
            "x": 0.05,
            "xref": "paper",
            "y": 0.95,
            "yref": "paper"
           }
          ]
         },
         "name": "8"
        },
        {
         "data": [
          {
           "name": "Free Nodes",
           "type": "scatter3d",
           "x": {
            "bdata": "AAAAAAAAAAAAAAAAAADwPwAAAAAAAAAAAAAAAAAA8D8AAAAAAAAAQAAAAAAAAABA",
            "dtype": "f8"
           },
           "y": {
            "bdata": "AAAAAAAAAAAAAAAAAAAAAAAAAAAAAPA/AAAAAAAAAAAAAAAAAAAAAAAAAAAAAPA/",
            "dtype": "f8"
           },
           "z": {
            "bdata": "AAAAAAAAAAAAAAAAAAAAAAAAAAAAAAAAlJmZmZmZqT+UmZmZmZmpP5SZmZmZmak/",
            "dtype": "f8"
           }
          },
          {
           "name": "Fixed Nodes",
           "type": "scatter3d",
           "x": [],
           "y": [],
           "z": []
          },
          {
           "name": "Edges",
           "type": "scatter3d",
           "x": [
            1,
            0,
            null,
            0,
            0,
            null,
            0,
            1,
            null,
            2,
            2,
            null,
            2,
            1,
            null,
            1,
            2,
            null
           ],
           "y": [
            0,
            1,
            null,
            1,
            0,
            null,
            0,
            0,
            null,
            0,
            1,
            null,
            1,
            0,
            null,
            0,
            0,
            null
           ],
           "z": [
            0,
            0,
            null,
            0,
            0,
            null,
            0,
            0,
            null,
            0.04999999999999996,
            0.04999999999999996,
            null,
            0.04999999999999996,
            0.04999999999999996,
            null,
            0.04999999999999996,
            0.04999999999999996,
            null
           ]
          },
          {
           "i": [
            0,
            3
           ],
           "j": [
            1,
            4
           ],
           "k": [
            2,
            5
           ],
           "name": "Faces",
           "type": "mesh3d",
           "x": {
            "bdata": "AAAAAAAAAAAAAAAAAADwPwAAAAAAAAAAAAAAAAAA8D8AAAAAAAAAQAAAAAAAAABA",
            "dtype": "f8"
           },
           "y": {
            "bdata": "AAAAAAAAAAAAAAAAAAAAAAAAAAAAAPA/AAAAAAAAAAAAAAAAAAAAAAAAAAAAAPA/",
            "dtype": "f8"
           },
           "z": {
            "bdata": "AAAAAAAAAAAAAAAAAAAAAAAAAAAAAAAAlJmZmZmZqT+UmZmZmZmpP5SZmZmZmak/",
            "dtype": "f8"
           }
          }
         ],
         "layout": {
          "annotations": [
           {
            "showarrow": false,
            "text": "Time: 0.09s (Step: 10/100)",
            "x": 0.05,
            "xref": "paper",
            "y": 0.95,
            "yref": "paper"
           }
          ]
         },
         "name": "9"
        },
        {
         "data": [
          {
           "name": "Free Nodes",
           "type": "scatter3d",
           "x": {
            "bdata": "AAAAAAAAAAAAAAAAAADwPwAAAAAAAAAAAAAAAAAA8D8AAAAAAAAAQAAAAAAAAABA",
            "dtype": "f8"
           },
           "y": {
            "bdata": "AAAAAAAAAAAAAAAAAAAAAAAAAAAAAPA/AAAAAAAAAAAAAAAAAAAAAAAAAAAAAPA/",
            "dtype": "f8"
           },
           "z": {
            "bdata": "AAAAAAAAAAAAAAAAAAAAAAAAAAAAAAAABNejcD0Kpz8E16NwPQqnPwTXo3A9Cqc/",
            "dtype": "f8"
           }
          },
          {
           "name": "Fixed Nodes",
           "type": "scatter3d",
           "x": [],
           "y": [],
           "z": []
          },
          {
           "name": "Edges",
           "type": "scatter3d",
           "x": [
            1,
            0,
            null,
            0,
            0,
            null,
            0,
            1,
            null,
            2,
            2,
            null,
            2,
            1,
            null,
            1,
            2,
            null
           ],
           "y": [
            0,
            1,
            null,
            1,
            0,
            null,
            0,
            0,
            null,
            0,
            1,
            null,
            1,
            0,
            null,
            0,
            0,
            null
           ],
           "z": [
            0,
            0,
            null,
            0,
            0,
            null,
            0,
            0,
            null,
            0.04499999999999996,
            0.04499999999999996,
            null,
            0.04499999999999996,
            0.04499999999999996,
            null,
            0.04499999999999996,
            0.04499999999999996,
            null
           ]
          },
          {
           "i": [
            0,
            3
           ],
           "j": [
            1,
            4
           ],
           "k": [
            2,
            5
           ],
           "name": "Faces",
           "type": "mesh3d",
           "x": {
            "bdata": "AAAAAAAAAAAAAAAAAADwPwAAAAAAAAAAAAAAAAAA8D8AAAAAAAAAQAAAAAAAAABA",
            "dtype": "f8"
           },
           "y": {
            "bdata": "AAAAAAAAAAAAAAAAAAAAAAAAAAAAAPA/AAAAAAAAAAAAAAAAAAAAAAAAAAAAAPA/",
            "dtype": "f8"
           },
           "z": {
            "bdata": "AAAAAAAAAAAAAAAAAAAAAAAAAAAAAAAABNejcD0Kpz8E16NwPQqnPwTXo3A9Cqc/",
            "dtype": "f8"
           }
          }
         ],
         "layout": {
          "annotations": [
           {
            "showarrow": false,
            "text": "Time: 0.10s (Step: 11/100)",
            "x": 0.05,
            "xref": "paper",
            "y": 0.95,
            "yref": "paper"
           }
          ]
         },
         "name": "10"
        },
        {
         "data": [
          {
           "name": "Free Nodes",
           "type": "scatter3d",
           "x": {
            "bdata": "AAAAAAAAAAAAAAAAAADwPwAAAAAAAAAAAAAAAAAA8D8AAAAAAAAAQAAAAAAAAABA",
            "dtype": "f8"
           },
           "y": {
            "bdata": "AAAAAAAAAAAAAAAAAAAAAAAAAAAAAPA/AAAAAAAAAAAAAAAAAAAAAAAAAAAAAPA/",
            "dtype": "f8"
           },
           "z": {
            "bdata": "AAAAAAAAAAAAAAAAAAAAAAAAAAAAAAAAdBSuR+F6pD90FK5H4XqkP3QUrkfheqQ/",
            "dtype": "f8"
           }
          },
          {
           "name": "Fixed Nodes",
           "type": "scatter3d",
           "x": [],
           "y": [],
           "z": []
          },
          {
           "name": "Edges",
           "type": "scatter3d",
           "x": [
            1,
            0,
            null,
            0,
            0,
            null,
            0,
            1,
            null,
            2,
            2,
            null,
            2,
            1,
            null,
            1,
            2,
            null
           ],
           "y": [
            0,
            1,
            null,
            1,
            0,
            null,
            0,
            0,
            null,
            0,
            1,
            null,
            1,
            0,
            null,
            0,
            0,
            null
           ],
           "z": [
            0,
            0,
            null,
            0,
            0,
            null,
            0,
            0,
            null,
            0.03999999999999995,
            0.03999999999999995,
            null,
            0.03999999999999995,
            0.03999999999999995,
            null,
            0.03999999999999995,
            0.03999999999999995,
            null
           ]
          },
          {
           "i": [
            0,
            3
           ],
           "j": [
            1,
            4
           ],
           "k": [
            2,
            5
           ],
           "name": "Faces",
           "type": "mesh3d",
           "x": {
            "bdata": "AAAAAAAAAAAAAAAAAADwPwAAAAAAAAAAAAAAAAAA8D8AAAAAAAAAQAAAAAAAAABA",
            "dtype": "f8"
           },
           "y": {
            "bdata": "AAAAAAAAAAAAAAAAAAAAAAAAAAAAAPA/AAAAAAAAAAAAAAAAAAAAAAAAAAAAAPA/",
            "dtype": "f8"
           },
           "z": {
            "bdata": "AAAAAAAAAAAAAAAAAAAAAAAAAAAAAAAAdBSuR+F6pD90FK5H4XqkP3QUrkfheqQ/",
            "dtype": "f8"
           }
          }
         ],
         "layout": {
          "annotations": [
           {
            "showarrow": false,
            "text": "Time: 0.11s (Step: 12/100)",
            "x": 0.05,
            "xref": "paper",
            "y": 0.95,
            "yref": "paper"
           }
          ]
         },
         "name": "11"
        },
        {
         "data": [
          {
           "name": "Free Nodes",
           "type": "scatter3d",
           "x": {
            "bdata": "AAAAAAAAAAAAAAAAAADwPwAAAAAAAAAAAAAAAAAA8D8AAAAAAAAAQAAAAAAAAABA",
            "dtype": "f8"
           },
           "y": {
            "bdata": "AAAAAAAAAAAAAAAAAAAAAAAAAAAAAPA/AAAAAAAAAAAAAAAAAAAAAAAAAAAAAPA/",
            "dtype": "f8"
           },
           "z": {
            "bdata": "AAAAAAAAAAAAAAAAAAAAAAAAAAAAAAAA5FG4HoXroT/kUbgeheuhP+RRuB6F66E/",
            "dtype": "f8"
           }
          },
          {
           "name": "Fixed Nodes",
           "type": "scatter3d",
           "x": [],
           "y": [],
           "z": []
          },
          {
           "name": "Edges",
           "type": "scatter3d",
           "x": [
            1,
            0,
            null,
            0,
            0,
            null,
            0,
            1,
            null,
            2,
            2,
            null,
            2,
            1,
            null,
            1,
            2,
            null
           ],
           "y": [
            0,
            1,
            null,
            1,
            0,
            null,
            0,
            0,
            null,
            0,
            1,
            null,
            1,
            0,
            null,
            0,
            0,
            null
           ],
           "z": [
            0,
            0,
            null,
            0,
            0,
            null,
            0,
            0,
            null,
            0.03499999999999995,
            0.03499999999999995,
            null,
            0.03499999999999995,
            0.03499999999999995,
            null,
            0.03499999999999995,
            0.03499999999999995,
            null
           ]
          },
          {
           "i": [
            0,
            3
           ],
           "j": [
            1,
            4
           ],
           "k": [
            2,
            5
           ],
           "name": "Faces",
           "type": "mesh3d",
           "x": {
            "bdata": "AAAAAAAAAAAAAAAAAADwPwAAAAAAAAAAAAAAAAAA8D8AAAAAAAAAQAAAAAAAAABA",
            "dtype": "f8"
           },
           "y": {
            "bdata": "AAAAAAAAAAAAAAAAAAAAAAAAAAAAAPA/AAAAAAAAAAAAAAAAAAAAAAAAAAAAAPA/",
            "dtype": "f8"
           },
           "z": {
            "bdata": "AAAAAAAAAAAAAAAAAAAAAAAAAAAAAAAA5FG4HoXroT/kUbgeheuhP+RRuB6F66E/",
            "dtype": "f8"
           }
          }
         ],
         "layout": {
          "annotations": [
           {
            "showarrow": false,
            "text": "Time: 0.12s (Step: 13/100)",
            "x": 0.05,
            "xref": "paper",
            "y": 0.95,
            "yref": "paper"
           }
          ]
         },
         "name": "12"
        },
        {
         "data": [
          {
           "name": "Free Nodes",
           "type": "scatter3d",
           "x": {
            "bdata": "AAAAAAAAAAAAAAAAAADwPwAAAAAAAAAAAAAAAAAA8D8AAAAAAAAAQAAAAAAAAABA",
            "dtype": "f8"
           },
           "y": {
            "bdata": "AAAAAAAAAAAAAAAAAAAAAAAAAAAAAPA/AAAAAAAAAAAAAAAAAAAAAAAAAAAAAPA/",
            "dtype": "f8"
           },
           "z": {
            "bdata": "AAAAAAAAAAAAAAAAAAAAAAAAAAAAAAAAqB6F61G4nj+oHoXrUbieP6gehetRuJ4/",
            "dtype": "f8"
           }
          },
          {
           "name": "Fixed Nodes",
           "type": "scatter3d",
           "x": [],
           "y": [],
           "z": []
          },
          {
           "name": "Edges",
           "type": "scatter3d",
           "x": [
            1,
            0,
            null,
            0,
            0,
            null,
            0,
            1,
            null,
            2,
            2,
            null,
            2,
            1,
            null,
            1,
            2,
            null
           ],
           "y": [
            0,
            1,
            null,
            1,
            0,
            null,
            0,
            0,
            null,
            0,
            1,
            null,
            1,
            0,
            null,
            0,
            0,
            null
           ],
           "z": [
            0,
            0,
            null,
            0,
            0,
            null,
            0,
            0,
            null,
            0.029999999999999943,
            0.029999999999999943,
            null,
            0.029999999999999943,
            0.029999999999999943,
            null,
            0.029999999999999943,
            0.029999999999999943,
            null
           ]
          },
          {
           "i": [
            0,
            3
           ],
           "j": [
            1,
            4
           ],
           "k": [
            2,
            5
           ],
           "name": "Faces",
           "type": "mesh3d",
           "x": {
            "bdata": "AAAAAAAAAAAAAAAAAADwPwAAAAAAAAAAAAAAAAAA8D8AAAAAAAAAQAAAAAAAAABA",
            "dtype": "f8"
           },
           "y": {
            "bdata": "AAAAAAAAAAAAAAAAAAAAAAAAAAAAAPA/AAAAAAAAAAAAAAAAAAAAAAAAAAAAAPA/",
            "dtype": "f8"
           },
           "z": {
            "bdata": "AAAAAAAAAAAAAAAAAAAAAAAAAAAAAAAAqB6F61G4nj+oHoXrUbieP6gehetRuJ4/",
            "dtype": "f8"
           }
          }
         ],
         "layout": {
          "annotations": [
           {
            "showarrow": false,
            "text": "Time: 0.13s (Step: 14/100)",
            "x": 0.05,
            "xref": "paper",
            "y": 0.95,
            "yref": "paper"
           }
          ]
         },
         "name": "13"
        },
        {
         "data": [
          {
           "name": "Free Nodes",
           "type": "scatter3d",
           "x": {
            "bdata": "AAAAAAAAAAAAAAAAAADwPwAAAAAAAAAAAAAAAAAA8D8AAAAAAAAAQAAAAAAAAABA",
            "dtype": "f8"
           },
           "y": {
            "bdata": "AAAAAAAAAAAAAAAAAAAAAAAAAAAAAPA/AAAAAAAAAAAAAAAAAAAAAAAAAAAAAPA/",
            "dtype": "f8"
           },
           "z": {
            "bdata": "AAAAAAAAAAAAAAAAAAAAAAAAAAAAAAAAiJmZmZmZmT+ImZmZmZmZP4iZmZmZmZk/",
            "dtype": "f8"
           }
          },
          {
           "name": "Fixed Nodes",
           "type": "scatter3d",
           "x": [],
           "y": [],
           "z": []
          },
          {
           "name": "Edges",
           "type": "scatter3d",
           "x": [
            1,
            0,
            null,
            0,
            0,
            null,
            0,
            1,
            null,
            2,
            2,
            null,
            2,
            1,
            null,
            1,
            2,
            null
           ],
           "y": [
            0,
            1,
            null,
            1,
            0,
            null,
            0,
            0,
            null,
            0,
            1,
            null,
            1,
            0,
            null,
            0,
            0,
            null
           ],
           "z": [
            0,
            0,
            null,
            0,
            0,
            null,
            0,
            0,
            null,
            0.02499999999999994,
            0.02499999999999994,
            null,
            0.02499999999999994,
            0.02499999999999994,
            null,
            0.02499999999999994,
            0.02499999999999994,
            null
           ]
          },
          {
           "i": [
            0,
            3
           ],
           "j": [
            1,
            4
           ],
           "k": [
            2,
            5
           ],
           "name": "Faces",
           "type": "mesh3d",
           "x": {
            "bdata": "AAAAAAAAAAAAAAAAAADwPwAAAAAAAAAAAAAAAAAA8D8AAAAAAAAAQAAAAAAAAABA",
            "dtype": "f8"
           },
           "y": {
            "bdata": "AAAAAAAAAAAAAAAAAAAAAAAAAAAAAPA/AAAAAAAAAAAAAAAAAAAAAAAAAAAAAPA/",
            "dtype": "f8"
           },
           "z": {
            "bdata": "AAAAAAAAAAAAAAAAAAAAAAAAAAAAAAAAiJmZmZmZmT+ImZmZmZmZP4iZmZmZmZk/",
            "dtype": "f8"
           }
          }
         ],
         "layout": {
          "annotations": [
           {
            "showarrow": false,
            "text": "Time: 0.14s (Step: 15/100)",
            "x": 0.05,
            "xref": "paper",
            "y": 0.95,
            "yref": "paper"
           }
          ]
         },
         "name": "14"
        },
        {
         "data": [
          {
           "name": "Free Nodes",
           "type": "scatter3d",
           "x": {
            "bdata": "AAAAAAAAAAAAAAAAAADwPwAAAAAAAAAAAAAAAAAA8D8AAAAAAAAAQAAAAAAAAABA",
            "dtype": "f8"
           },
           "y": {
            "bdata": "AAAAAAAAAAAAAAAAAAAAAAAAAAAAAPA/AAAAAAAAAAAAAAAAAAAAAAAAAAAAAPA/",
            "dtype": "f8"
           },
           "z": {
            "bdata": "AAAAAAAAAAAAAAAAAAAAAAAAAAAAAAAAaBSuR+F6lD9oFK5H4XqUP2gUrkfhepQ/",
            "dtype": "f8"
           }
          },
          {
           "name": "Fixed Nodes",
           "type": "scatter3d",
           "x": [],
           "y": [],
           "z": []
          },
          {
           "name": "Edges",
           "type": "scatter3d",
           "x": [
            1,
            0,
            null,
            0,
            0,
            null,
            0,
            1,
            null,
            2,
            2,
            null,
            2,
            1,
            null,
            1,
            2,
            null
           ],
           "y": [
            0,
            1,
            null,
            1,
            0,
            null,
            0,
            0,
            null,
            0,
            1,
            null,
            1,
            0,
            null,
            0,
            0,
            null
           ],
           "z": [
            0,
            0,
            null,
            0,
            0,
            null,
            0,
            0,
            null,
            0.019999999999999934,
            0.019999999999999934,
            null,
            0.019999999999999934,
            0.019999999999999934,
            null,
            0.019999999999999934,
            0.019999999999999934,
            null
           ]
          },
          {
           "i": [
            0,
            3
           ],
           "j": [
            1,
            4
           ],
           "k": [
            2,
            5
           ],
           "name": "Faces",
           "type": "mesh3d",
           "x": {
            "bdata": "AAAAAAAAAAAAAAAAAADwPwAAAAAAAAAAAAAAAAAA8D8AAAAAAAAAQAAAAAAAAABA",
            "dtype": "f8"
           },
           "y": {
            "bdata": "AAAAAAAAAAAAAAAAAAAAAAAAAAAAAPA/AAAAAAAAAAAAAAAAAAAAAAAAAAAAAPA/",
            "dtype": "f8"
           },
           "z": {
            "bdata": "AAAAAAAAAAAAAAAAAAAAAAAAAAAAAAAAaBSuR+F6lD9oFK5H4XqUP2gUrkfhepQ/",
            "dtype": "f8"
           }
          }
         ],
         "layout": {
          "annotations": [
           {
            "showarrow": false,
            "text": "Time: 0.15s (Step: 16/100)",
            "x": 0.05,
            "xref": "paper",
            "y": 0.95,
            "yref": "paper"
           }
          ]
         },
         "name": "15"
        },
        {
         "data": [
          {
           "name": "Free Nodes",
           "type": "scatter3d",
           "x": {
            "bdata": "AAAAAAAAAAAAAAAAAADwPwAAAAAAAAAAAAAAAAAA8D8AAAAAAAAAQAAAAAAAAABA",
            "dtype": "f8"
           },
           "y": {
            "bdata": "AAAAAAAAAAAAAAAAAAAAAAAAAAAAAPA/AAAAAAAAAAAAAAAAAAAAAAAAAAAAAPA/",
            "dtype": "f8"
           },
           "z": {
            "bdata": "AAAAAAAAAAAAAAAAAAAAAAAAAAAAAAAAkB6F61G4jj+QHoXrUbiOP5AehetRuI4/",
            "dtype": "f8"
           }
          },
          {
           "name": "Fixed Nodes",
           "type": "scatter3d",
           "x": [],
           "y": [],
           "z": []
          },
          {
           "name": "Edges",
           "type": "scatter3d",
           "x": [
            1,
            0,
            null,
            0,
            0,
            null,
            0,
            1,
            null,
            2,
            2,
            null,
            2,
            1,
            null,
            1,
            2,
            null
           ],
           "y": [
            0,
            1,
            null,
            1,
            0,
            null,
            0,
            0,
            null,
            0,
            1,
            null,
            1,
            0,
            null,
            0,
            0,
            null
           ],
           "z": [
            0,
            0,
            null,
            0,
            0,
            null,
            0,
            0,
            null,
            0.01499999999999993,
            0.01499999999999993,
            null,
            0.01499999999999993,
            0.01499999999999993,
            null,
            0.01499999999999993,
            0.01499999999999993,
            null
           ]
          },
          {
           "i": [
            0,
            3
           ],
           "j": [
            1,
            4
           ],
           "k": [
            2,
            5
           ],
           "name": "Faces",
           "type": "mesh3d",
           "x": {
            "bdata": "AAAAAAAAAAAAAAAAAADwPwAAAAAAAAAAAAAAAAAA8D8AAAAAAAAAQAAAAAAAAABA",
            "dtype": "f8"
           },
           "y": {
            "bdata": "AAAAAAAAAAAAAAAAAAAAAAAAAAAAAPA/AAAAAAAAAAAAAAAAAAAAAAAAAAAAAPA/",
            "dtype": "f8"
           },
           "z": {
            "bdata": "AAAAAAAAAAAAAAAAAAAAAAAAAAAAAAAAkB6F61G4jj+QHoXrUbiOP5AehetRuI4/",
            "dtype": "f8"
           }
          }
         ],
         "layout": {
          "annotations": [
           {
            "showarrow": false,
            "text": "Time: 0.16s (Step: 17/100)",
            "x": 0.05,
            "xref": "paper",
            "y": 0.95,
            "yref": "paper"
           }
          ]
         },
         "name": "16"
        },
        {
         "data": [
          {
           "name": "Free Nodes",
           "type": "scatter3d",
           "x": {
            "bdata": "3zhuCjBYkz7Hw1vSAwDwP3iw+X57d+c+g5hWrvP/7z/sCGAL+v//P2Rn+kH8//8/",
            "dtype": "f8"
           },
           "y": {
            "bdata": "Lv9m1z1nu77mCy2J6T3qvucSYcf8/+8/3mwR5k/C2z5uTxRdetDNPnPTFMcFAPA/",
            "dtype": "f8"
           },
           "z": {
            "bdata": "pulu0ggV+D76Xasjnu8MvwDn0GLMcuY+PQsw5dZ8hD/DaySP9XeEP6KFV8kfh4Q/",
            "dtype": "f8"
           }
          },
          {
           "name": "Fixed Nodes",
           "type": "scatter3d",
           "x": [],
           "y": [],
           "z": []
          },
          {
           "name": "Edges",
           "type": "scatter3d",
           "x": [
            1.0000036446692648,
            0.000011189807963073376,
            null,
            0.000011189807963073376,
            2.88255260044106e-7,
            null,
            2.88255260044106e-7,
            1.0000036446692648,
            null,
            1.9999943203297859,
            1.9999964310904597,
            null,
            1.9999964310904597,
            0.9999941258472663,
            null,
            0.9999941258472663,
            1.9999943203297859,
            null
           ],
           "y": [
            -0.000012513086664283799,
            0.999998464024057,
            null,
            0.999998464024057,
            -0.0000016333632096715122,
            null,
            -0.0000016333632096715122,
            -0.000012513086664283799,
            null,
            0.000003554149522808366,
            1.0000055100074092,
            null,
            1.0000055100074092,
            0.0000066182688850072315,
            null,
            0.0000066182688850072315,
            0.000003554149522808366,
            null
           ],
           "z": [
            -0.00005519105294176856,
            0.000010704246131354716,
            null,
            0.000010704246131354716,
            0.000022966543067085052,
            null,
            0.000022966543067085052,
            -0.00005519105294176856,
            null,
            0.009994429045539271,
            0.010023353893248214,
            null,
            0.010023353893248214,
            0.010003737324955625,
            null,
            0.010003737324955625,
            0.009994429045539271,
            null
           ]
          },
          {
           "i": [
            0,
            3
           ],
           "j": [
            1,
            4
           ],
           "k": [
            2,
            5
           ],
           "name": "Faces",
           "type": "mesh3d",
           "x": {
            "bdata": "3zhuCjBYkz7Hw1vSAwDwP3iw+X57d+c+g5hWrvP/7z/sCGAL+v//P2Rn+kH8//8/",
            "dtype": "f8"
           },
           "y": {
            "bdata": "Lv9m1z1nu77mCy2J6T3qvucSYcf8/+8/3mwR5k/C2z5uTxRdetDNPnPTFMcFAPA/",
            "dtype": "f8"
           },
           "z": {
            "bdata": "pulu0ggV+D76Xasjnu8MvwDn0GLMcuY+PQsw5dZ8hD/DaySP9XeEP6KFV8kfh4Q/",
            "dtype": "f8"
           }
          }
         ],
         "layout": {
          "annotations": [
           {
            "showarrow": false,
            "text": "Time: 0.17s (Step: 18/100)",
            "x": 0.05,
            "xref": "paper",
            "y": 0.95,
            "yref": "paper"
           }
          ]
         },
         "name": "17"
        },
        {
         "data": [
          {
           "name": "Free Nodes",
           "type": "scatter3d",
           "x": {
            "bdata": "NIrVtYOaW78dbwuYCfLvP1cRSmpyHku/5abDX68H8D9xaYYmzAMAQKdGMvv+AABA",
            "dtype": "f8"
           },
           "y": {
            "bdata": "9ILnlqtUOz8MpxljApA8v1p/x7a7AfA/DjA89Y89Ub8TiAOv5wo1P5yiJ7RWAfA/",
            "dtype": "f8"
           },
           "z": {
            "bdata": "RRvseNmDCj9lxs2VyZVgvzy8DUGeFQU/JzMOZmjefD+fpB2Ssol0P6RUUbo69HM/",
            "dtype": "f8"
           }
          },
          {
           "name": "Fixed Nodes",
           "type": "scatter3d",
           "x": [],
           "y": [],
           "z": []
          },
          {
           "name": "Edges",
           "type": "scatter3d",
           "x": [
            0.9982955903646801,
            -0.0008276041667874362,
            null,
            -0.0008276041667874362,
            -0.0016847883446976632,
            null,
            -0.0016847883446976632,
            0.9982955903646801,
            null,
            2.001854229905057,
            2.000486338111688,
            null,
            2.000486338111688,
            1.0018762341300598,
            null,
            1.0018762341300598,
            2.001854229905057,
            null
           ],
           "y": [
            -0.0004358297183900551,
            1.0004231586280725,
            null,
            1.0004231586280725,
            0.0004170340461353971,
            null,
            0.0004170340461353971,
            -0.0004358297183900551,
            null,
            0.0003210845598130573,
            1.0003268277452326,
            null,
            1.0003268277452326,
            -0.001052275260863492,
            null,
            -0.001052275260863492,
            0.0003210845598130573,
            null
           ],
           "z": [
            -0.002024549218213422,
            0.00004021538928255421,
            null,
            0.00004021538928255421,
            0.00005057341978980402,
            null,
            0.00005057341978980402,
            -0.002024549218213422,
            null,
            0.005014131109285418,
            0.004871587186319779,
            null,
            0.004871587186319779,
            0.007048042113535747,
            null,
            0.007048042113535747,
            0.005014131109285418,
            null
           ]
          },
          {
           "i": [
            0,
            3
           ],
           "j": [
            1,
            4
           ],
           "k": [
            2,
            5
           ],
           "name": "Faces",
           "type": "mesh3d",
           "x": {
            "bdata": "NIrVtYOaW78dbwuYCfLvP1cRSmpyHku/5abDX68H8D9xaYYmzAMAQKdGMvv+AABA",
            "dtype": "f8"
           },
           "y": {
            "bdata": "9ILnlqtUOz8MpxljApA8v1p/x7a7AfA/DjA89Y89Ub8TiAOv5wo1P5yiJ7RWAfA/",
            "dtype": "f8"
           },
           "z": {
            "bdata": "RRvseNmDCj9lxs2VyZVgvzy8DUGeFQU/JzMOZmjefD+fpB2Ssol0P6RUUbo69HM/",
            "dtype": "f8"
           }
          }
         ],
         "layout": {
          "annotations": [
           {
            "showarrow": false,
            "text": "Time: 0.18s (Step: 19/100)",
            "x": 0.05,
            "xref": "paper",
            "y": 0.95,
            "yref": "paper"
           }
          ]
         },
         "name": "18"
        },
        {
         "data": [
          {
           "name": "Free Nodes",
           "type": "scatter3d",
           "x": {
            "bdata": "uhkpGAW3a7/XiCI4NOTvP+7hBabtZlu/e4dkuFQP8D9hTh/0owcAQK6WoED/AQBA",
            "dtype": "f8"
           },
           "y": {
            "bdata": "6LOp3yW0Sz9PzeEoWFlMvwy4thp1A/A/wcXa0JlIYb8Jtl1hOB9FP6OwbvGfAvA/",
            "dtype": "f8"
           },
           "z": {
            "bdata": "NMzfaB9nFD8FwjWnnltwv/DK+PvPSxI/RgRiR/7CcD/ugzq59roBP+GbIbMUWjK/",
            "dtype": "f8"
           }
          },
          {
           "name": "Fixed Nodes",
           "type": "scatter3d",
           "x": [],
           "y": [],
           "z": []
          },
          {
           "name": "Edges",
           "type": "scatter3d",
           "x": [
            0.9966069313416267,
            -0.0016724892412566211,
            null,
            -0.0016724892412566211,
            -0.003383169126468047,
            null,
            -0.003383169126468047,
            0.9966069313416267,
            null,
            2.0037306854299435,
            2.0009751366622686,
            null,
            2.0009751366622686,
            1.0037429049338857,
            null,
            1.0037429049338857,
            2.0037306854299435,
            null
           ],
           "y": [
            -0.0008651428668272984,
            1.0008441012864777,
            null,
            1.0008441012864777,
            0.0008454499178022186,
            null,
            0.0008454499178022186,
            -0.0008651428668272984,
            null,
            0.0006445908827409928,
            1.0006408148720218,
            null,
            1.0006408148720218,
            -0.002109814092215529,
            null,
            -0.002109814092215529,
            0.0006445908827409928,
            null
           ],
           "z": [
            -0.003993625391885751,
            0.00006979424414836253,
            null,
            0.00006979424414836253,
            0.00007783059319858913,
            null,
            0.00007783059319858913,
            -0.003993625391885751,
            null,
            0.0000338179153491837,
            -0.00028002744068661266,
            null,
            -0.00028002744068661266,
            0.004092210079876207,
            null,
            0.004092210079876207,
            0.0000338179153491837,
            null
           ]
          },
          {
           "i": [
            0,
            3
           ],
           "j": [
            1,
            4
           ],
           "k": [
            2,
            5
           ],
           "name": "Faces",
           "type": "mesh3d",
           "x": {
            "bdata": "uhkpGAW3a7/XiCI4NOTvP+7hBabtZlu/e4dkuFQP8D9hTh/0owcAQK6WoED/AQBA",
            "dtype": "f8"
           },
           "y": {
            "bdata": "6LOp3yW0Sz9PzeEoWFlMvwy4thp1A/A/wcXa0JlIYb8Jtl1hOB9FP6OwbvGfAvA/",
            "dtype": "f8"
           },
           "z": {
            "bdata": "NMzfaB9nFD8FwjWnnltwv/DK+PvPSxI/RgRiR/7CcD/ugzq59roBP+GbIbMUWjK/",
            "dtype": "f8"
           }
          }
         ],
         "layout": {
          "annotations": [
           {
            "showarrow": false,
            "text": "Time: 0.19s (Step: 20/100)",
            "x": 0.05,
            "xref": "paper",
            "y": 0.95,
            "yref": "paper"
           }
          ]
         },
         "name": "19"
        },
        {
         "data": [
          {
           "name": "Free Nodes",
           "type": "scatter3d",
           "x": {
            "bdata": "8UQMCEXHdL8kaGgyRNbvPxTVh3/plmS/u6ikzAcX8D8Td/rLdQsAQJ4C/Z3+AgBA",
            "dtype": "f8"
           },
           "y": {
            "bdata": "k2DUqf7KVD+8q5l5ZyRVvy1XtEEvBfA/6Lg0dbHuab/gZPB2P55PP3VWS6nqA/A/",
            "dtype": "f8"
           },
           "z": {
            "bdata": "dJyx0saIGz/XC4PQQ2x4v/JlnVkvCxo/6h8SMfqdUj9jX4W7s0J0v+GV9696P3a/",
            "dtype": "f8"
           }
          },
          {
           "name": "Fixed Nodes",
           "type": "scatter3d",
           "x": [],
           "y": [],
           "z": []
          },
          {
           "name": "Edges",
           "type": "scatter3d",
           "x": [
            0.9949055656936747,
            -0.0025133667479574438,
            null,
            -0.0025133667479574438,
            -0.0050728508511081885,
            null,
            -0.0050728508511081885,
            0.9949055656936747,
            null,
            2.005595773297395,
            2.0014622061574547,
            null,
            2.0014622061574547,
            1.005622672450541,
            null,
            1.005622672450541,
            2.005595773297395,
            null
           ],
           "y": [
            -0.0012904177187020712,
            1.0012657705860406,
            null,
            1.0012657705860406,
            0.0012691008517489485,
            null,
            0.0012691008517489485,
            -0.0012904177187020712,
            null,
            0.0009649095426339759,
            1.0009562123354077,
            null,
            1.0009562123354077,
            -0.003165575597129256,
            null,
            -0.003165575597129256,
            0.0009649095426339759,
            null
           ],
           "z": [
            -0.005962624454869356,
            0.00009934879781550008,
            null,
            0.00009934879781550008,
            0.00010503495711732138,
            null,
            0.00010503495711732138,
            -0.005962624454869356,
            null,
            -0.00494642456063574,
            -0.005431632278008775,
            null,
            -0.005431632278008775,
            0.0011362975385811277,
            null,
            0.0011362975385811277,
            -0.00494642456063574,
            null
           ]
          },
          {
           "i": [
            0,
            3
           ],
           "j": [
            1,
            4
           ],
           "k": [
            2,
            5
           ],
           "name": "Faces",
           "type": "mesh3d",
           "x": {
            "bdata": "8UQMCEXHdL8kaGgyRNbvPxTVh3/plmS/u6ikzAcX8D8Td/rLdQsAQJ4C/Z3+AgBA",
            "dtype": "f8"
           },
           "y": {
            "bdata": "k2DUqf7KVD+8q5l5ZyRVvy1XtEEvBfA/6Lg0dbHuab/gZPB2P55PP3VWS6nqA/A/",
            "dtype": "f8"
           },
           "z": {
            "bdata": "dJyx0saIGz/XC4PQQ2x4v/JlnVkvCxo/6h8SMfqdUj9jX4W7s0J0v+GV9696P3a/",
            "dtype": "f8"
           }
          }
         ],
         "layout": {
          "annotations": [
           {
            "showarrow": false,
            "text": "Time: 0.20s (Step: 21/100)",
            "x": 0.05,
            "xref": "paper",
            "y": 0.95,
            "yref": "paper"
           }
          ]
         },
         "name": "20"
        },
        {
         "data": [
          {
           "name": "Free Nodes",
           "type": "scatter3d",
           "x": {
            "bdata": "A/s0Fuqwe78wMqDcTcjvPw58lflGeGu/ON+LB78e8D98W/JaRg8AQDgo6TD9AwBA",
            "dtype": "f8"
           },
           "y": {
            "bdata": "H1P9bdi6Wz8/DsGt6hdcv5orI5/oBvA/unZpW8dIcb8Z6fImJA9VPxByvqMzBfA/",
            "dtype": "f8"
           },
           "z": {
            "bdata": "e/dESKtUIT/7LKY5cT6Avw1JHmEC5SA/9xZOWijQXb/gF2sKbFSEv1PCVD6orIW/",
            "dtype": "f8"
           }
          },
          {
           "name": "Fixed Nodes",
           "type": "scatter3d",
           "x": [],
           "y": [],
           "z": []
          },
          {
           "name": "Edges",
           "type": "scatter3d",
           "x": [
            0.9932011899086941,
            -0.0033532510976068746,
            null,
            -0.0033532510976068746,
            -0.006760515595771069,
            null,
            -0.006760515595771069,
            0.9932011899086941,
            null,
            2.007458410760078,
            2.001947767367735,
            null,
            2.001947767367735,
            1.0075063986568704,
            null,
            1.0075063986568704,
            2.007458410760078,
            null
           ],
           "y": [
            -0.0017146865639156154,
            1.0016866890243592,
            null,
            1.0016866890243592,
            0.001692496640278658,
            null,
            0.001692496640278658,
            -0.0017146865639156154,
            null,
            0.0012853482292443706,
            1.001269950508803,
            null,
            1.001269950508803,
            -0.004219797838769851,
            null,
            -0.004219797838769851,
            0.0012853482292443706,
            null
           ],
           "z": [
            -0.007931599208652154,
            0.0001288953213217165,
            null,
            0.0001288953213217165,
            0.00013222304199616758,
            null,
            0.00013222304199616758,
            -0.007931599208652154,
            null,
            -0.009926647251074117,
            -0.010583223726457513,
            null,
            -0.010583223726457513,
            -0.0018196481771339237,
            null,
            -0.0018196481771339237,
            -0.009926647251074117,
            null
           ]
          },
          {
           "i": [
            0,
            3
           ],
           "j": [
            1,
            4
           ],
           "k": [
            2,
            5
           ],
           "name": "Faces",
           "type": "mesh3d",
           "x": {
            "bdata": "A/s0Fuqwe78wMqDcTcjvPw58lflGeGu/ON+LB78e8D98W/JaRg8AQDgo6TD9AwBA",
            "dtype": "f8"
           },
           "y": {
            "bdata": "H1P9bdi6Wz8/DsGt6hdcv5orI5/oBvA/unZpW8dIcb8Z6fImJA9VPxByvqMzBfA/",
            "dtype": "f8"
           },
           "z": {
            "bdata": "e/dESKtUIT/7LKY5cT6Avw1JHmEC5SA/9xZOWijQXb/gF2sKbFSEv1PCVD6orIW/",
            "dtype": "f8"
           }
          }
         ],
         "layout": {
          "annotations": [
           {
            "showarrow": false,
            "text": "Time: 0.21s (Step: 22/100)",
            "x": 0.05,
            "xref": "paper",
            "y": 0.95,
            "yref": "paper"
           }
          ]
         },
         "name": "21"
        },
        {
         "data": [
          {
           "name": "Free Nodes",
           "type": "scatter3d",
           "x": {
            "bdata": "Fr1oOk1Mgb+qz/O9UbrvP49/R3fiK3G/WcS4KHom8D9n5BnIFRMAQP7RgvL6BABA",
            "dtype": "f8"
           },
           "y": {
            "bdata": "QlqkaDJVYT8jz9Yvz4Nhv7eoCRyhCPA/iBUvK4mYdb8OkGuK6k9aP7OE4sB6BvA/",
            "dtype": "f8"
           },
           "z": {
            "bdata": "6DhL7lHkJD/rYzDQvEaEv/i+t5cfxCQ/QizmN52Pc7935lJNe4eOv3ODmGfIHJC/",
            "dtype": "f8"
           }
          },
          {
           "name": "Fixed Nodes",
           "type": "scatter3d",
           "x": [],
           "y": [],
           "z": []
          },
          {
           "name": "Edges",
           "type": "scatter3d",
           "x": [
            0.9914940557487075,
            -0.00419224227195504,
            null,
            -0.00419224227195504,
            -0.008446315140729282,
            null,
            -0.008446315140729282,
            0.9914940557487075,
            null,
            2.0093188889409705,
            2.002431769006079,
            null,
            2.002431769006079,
            1.009393843716927,
            null,
            1.009393843716927,
            2.0093188889409705,
            null
           ],
           "y": [
            -0.0021380468958457507,
            1.0021067710136273,
            null,
            1.0021067710136273,
            0.0021158203645755,
            null,
            0.0021158203645755,
            -0.0021380468958457507,
            null,
            0.001605967563301117,
            1.0015819105686148,
            null,
            1.0015819105686148,
            -0.005272422614273416,
            null,
            -0.005272422614273416,
            0.001605967563301117,
            null
           ],
           "z": [
            -0.009900546172547172,
            0.00015843282368121331,
            null,
            0.00015843282368121331,
            0.00015939235813395365,
            null,
            0.00015939235813395365,
            -0.009900546172547172,
            null,
            -0.014906848237262722,
            -0.015734797785742893,
            null,
            -0.015734797785742893,
            -0.004775632986262103,
            null,
            -0.004775632986262103,
            -0.014906848237262722,
            null
           ]
          },
          {
           "i": [
            0,
            3
           ],
           "j": [
            1,
            4
           ],
           "k": [
            2,
            5
           ],
           "name": "Faces",
           "type": "mesh3d",
           "x": {
            "bdata": "Fr1oOk1Mgb+qz/O9UbrvP49/R3fiK3G/WcS4KHom8D9n5BnIFRMAQP7RgvL6BABA",
            "dtype": "f8"
           },
           "y": {
            "bdata": "QlqkaDJVYT8jz9Yvz4Nhv7eoCRyhCPA/iBUvK4mYdb8OkGuK6k9aP7OE4sB6BvA/",
            "dtype": "f8"
           },
           "z": {
            "bdata": "6DhL7lHkJD/rYzDQvEaEv/i+t5cfxCQ/QizmN52Pc7935lJNe4eOv3ODmGfIHJC/",
            "dtype": "f8"
           }
          }
         ],
         "layout": {
          "annotations": [
           {
            "showarrow": false,
            "text": "Time: 0.22s (Step: 23/100)",
            "x": 0.05,
            "xref": "paper",
            "y": 0.95,
            "yref": "paper"
           }
          ]
         },
         "name": "22"
        },
        {
         "data": [
          {
           "name": "Free Nodes",
           "type": "scatter3d",
           "x": {
            "bdata": "Q4ZvjCe/hL9A8ZO+T6zvP8w7ldKsmnS/gBtEOzku8D/UlPAM5BYAQD8bvuP3BQBA",
            "dtype": "f8"
           },
           "y": {
            "bdata": "9Vv01L7MZD/ljX7Utflkv2epOLxYCvA/1BZu/J3meb8IcIORXZFfP+oo3wXAB/A/",
            "dtype": "f8"
           },
           "z": {
            "bdata": "MS21nzRzKD/v7pnbA0+IvxyHwvrdoig/bnsYFT2rf79I6WJ+Q12Uv9IsyUo7Y5W/",
            "dtype": "f8"
           }
          },
          {
           "name": "Fixed Nodes",
           "type": "scatter3d",
           "x": [],
           "y": [],
           "z": []
          },
          {
           "name": "Edges",
           "type": "scatter3d",
           "x": [
            0.9897841188644989,
            -0.005030322159043043,
            null,
            -0.005030322159043043,
            -0.010130223248725595,
            null,
            -0.010130223248725595,
            0.9897841188644989,
            null,
            2.0111771593970875,
            2.0029142181769255,
            null,
            2.0029142181769255,
            1.0112850489692562,
            null,
            1.0112850489692562,
            2.0111771593970875,
            null
           ],
           "y": [
            -0.002560477387264492,
            1.0025260307689565,
            null,
            1.0025260307689565,
            0.002539036482299912,
            null,
            0.002539036482299912,
            -0.002560477387264492,
            null,
            0.0019267476800939338,
            1.0018921117176043,
            null,
            1.0018921117176043,
            -0.0063234492616907785,
            null,
            -0.0063234492616907785,
            0.0019267476800939338,
            null
           ],
           "z": [
            -0.011869459284973042,
            0.00018795928679531885,
            null,
            0.00018795928679531885,
            0.00018653886204798292,
            null,
            0.00018653886204798292,
            -0.011869459284973042,
            null,
            -0.019887022580158203,
            -0.020886351050916137,
            null,
            -0.020886351050916137,
            -0.007731665232795544,
            null,
            -0.007731665232795544,
            -0.019887022580158203,
            null
           ]
          },
          {
           "i": [
            0,
            3
           ],
           "j": [
            1,
            4
           ],
           "k": [
            2,
            5
           ],
           "name": "Faces",
           "type": "mesh3d",
           "x": {
            "bdata": "Q4ZvjCe/hL9A8ZO+T6zvP8w7ldKsmnS/gBtEOzku8D/UlPAM5BYAQD8bvuP3BQBA",
            "dtype": "f8"
           },
           "y": {
            "bdata": "9Vv01L7MZD/ljX7Utflkv2epOLxYCvA/1BZu/J3meb8IcIORXZFfP+oo3wXAB/A/",
            "dtype": "f8"
           },
           "z": {
            "bdata": "MS21nzRzKD/v7pnbA0+IvxyHwvrdoig/bnsYFT2rf79I6WJ+Q12Uv9IsyUo7Y5W/",
            "dtype": "f8"
           }
          }
         ],
         "layout": {
          "annotations": [
           {
            "showarrow": false,
            "text": "Time: 0.23s (Step: 24/100)",
            "x": 0.05,
            "xref": "paper",
            "y": 0.95,
            "yref": "paper"
           }
          ]
         },
         "name": "23"
        },
        {
         "data": [
          {
           "name": "Free Nodes",
           "type": "scatter3d",
           "x": {
            "bdata": "pF30KwQxiL+DiA7eR57vPxiyIQCCCHi/Wp3dPvw18D9uboQpsRoAQPoltQT0BgBA",
            "dtype": "f8"
           },
           "y": {
            "bdata": "NIEQqw5EaD/2lt5+pm1ovyqgtX8PDPA/FZXV9wMzfr83WZfHu2liP8VQSHIDCfA/",
            "dtype": "f8"
           },
           "z": {
            "bdata": "JGN6DDMBLD87q26aRVeMv5tfPn0tgSw/UnRg53Xjhb86H0VAx3aZv8mOs4ysqZq/",
            "dtype": "f8"
           }
          },
          {
           "name": "Fixed Nodes",
           "type": "scatter3d",
           "x": [],
           "y": [],
           "z": []
          },
          {
           "name": "Edges",
           "type": "scatter3d",
           "x": [
            0.9880713784261989,
            -0.005867488684185428,
            null,
            -0.005867488684185428,
            -0.011812241164576083,
            null,
            -0.011812241164576083,
            0.9880713784261989,
            null,
            2.0130332225360723,
            2.0033951156408394,
            null,
            2.0033951156408394,
            1.0131800132456505,
            null,
            1.0131800132456505,
            2.0130332225360723,
            null
           ],
           "y": [
            -0.002981972872435952,
            1.002944468369615,
            null,
            1.002944468369615,
            0.0029621397484477455,
            null,
            0.0029621397484477455,
            -0.002981972872435952,
            null,
            0.0022476832934713825,
            1.0022005523833724,
            null,
            1.0022005523833724,
            -0.007372870922471427,
            null,
            -0.007372870922471427,
            0.0022476832934713825,
            null
           ],
           "z": [
            -0.01383833291568736,
            0.0002174728421067113,
            null,
            0.0002174728421067113,
            0.00021365879205317254,
            null,
            0.00021365879205317254,
            -0.01383833291568736,
            null,
            -0.024867165849428143,
            -0.0260378800275152,
            null,
            -0.0260378800275152,
            -0.010687752841528706,
            null,
            -0.010687752841528706,
            -0.024867165849428143,
            null
           ]
          },
          {
           "i": [
            0,
            3
           ],
           "j": [
            1,
            4
           ],
           "k": [
            2,
            5
           ],
           "name": "Faces",
           "type": "mesh3d",
           "x": {
            "bdata": "pF30KwQxiL+DiA7eR57vPxiyIQCCCHi/Wp3dPvw18D9uboQpsRoAQPoltQT0BgBA",
            "dtype": "f8"
           },
           "y": {
            "bdata": "NIEQqw5EaD/2lt5+pm1ovyqgtX8PDPA/FZXV9wMzfr83WZfHu2liP8VQSHIDCfA/",
            "dtype": "f8"
           },
           "z": {
            "bdata": "JGN6DDMBLD87q26aRVeMv5tfPn0tgSw/UnRg53Xjhb86H0VAx3aZv8mOs4ysqZq/",
            "dtype": "f8"
           }
          }
         ],
         "layout": {
          "annotations": [
           {
            "showarrow": false,
            "text": "Time: 0.24s (Step: 25/100)",
            "x": 0.05,
            "xref": "paper",
            "y": 0.95,
            "yref": "paper"
           }
          ]
         },
         "name": "24"
        },
        {
         "data": [
          {
           "name": "Free Nodes",
           "type": "scatter3d",
           "x": {
            "bdata": "xtwcXeOhi7/GmwAdOpDvP7PYJMZhdXu/mASuMsM98D+MuE4efR4AQH9NWlXvBwBA",
            "dtype": "f8"
           },
           "y": {
            "bdata": "t7gySyC7az+zqE0Tn99rv2ibQmbFDfA/IE57e9w+gb95w+Z0GQtlP0T1XQVFCvA/",
            "dtype": "f8"
           },
           "z": {
            "bdata": "TCqCCC2OLz/h5wqmwC+Qv+HaiBJ/LzA/Kc3gwVXxi7/KJBihSJCevwQQ1/Ab8J+/",
            "dtype": "f8"
           }
          },
          {
           "name": "Fixed Nodes",
           "type": "scatter3d",
           "x": [],
           "y": [],
           "z": []
          },
          {
           "name": "Edges",
           "type": "scatter3d",
           "x": [
            0.9863558355763125,
            -0.006703741006552177,
            null,
            -0.006703741006552177,
            -0.013492370871615821,
            null,
            -0.013492370871615821,
            0.9863558355763125,
            null,
            2.014887081887599,
            2.003874461000748,
            null,
            2.003874461000748,
            1.0150787334135085,
            null,
            1.0150787334135085,
            2.014887081887599,
            null
           ],
           "y": [
            -0.0034025294248084203,
            1.0033620829142027,
            null,
            1.0033620829142027,
            0.0033851271378671738,
            null,
            0.0033851271378671738,
            -0.0034025294248084203,
            null,
            0.0025687691879387434,
            1.0025072297715534,
            null,
            1.0025072297715534,
            -0.00842067958675502,
            null,
            -0.00842067958675502,
            0.0025687691879387434,
            null
           ],
           "z": [
            -0.015807161459384992,
            0.00024697162965329865,
            null,
            0.00024697162965329865,
            0.00024074840280648364,
            null,
            0.00024074840280648364,
            -0.015807161459384992,
            null,
            -0.029847273666779008,
            -0.031189381193840418,
            null,
            -0.031189381193840418,
            -0.01364390371245479,
            null,
            -0.01364390371245479,
            -0.029847273666779008,
            null
           ]
          },
          {
           "i": [
            0,
            3
           ],
           "j": [
            1,
            4
           ],
           "k": [
            2,
            5
           ],
           "name": "Faces",
           "type": "mesh3d",
           "x": {
            "bdata": "xtwcXeOhi7/GmwAdOpDvP7PYJMZhdXu/mASuMsM98D+MuE4efR4AQH9NWlXvBwBA",
            "dtype": "f8"
           },
           "y": {
            "bdata": "t7gySyC7az+zqE0Tn99rv2ibQmbFDfA/IE57e9w+gb95w+Z0GQtlP0T1XQVFCvA/",
            "dtype": "f8"
           },
           "z": {
            "bdata": "TCqCCC2OLz/h5wqmwC+Qv+HaiBJ/LzA/Kc3gwVXxi7/KJBihSJCevwQQ1/Ab8J+/",
            "dtype": "f8"
           }
          }
         ],
         "layout": {
          "annotations": [
           {
            "showarrow": false,
            "text": "Time: 0.25s (Step: 26/100)",
            "x": 0.05,
            "xref": "paper",
            "y": 0.95,
            "yref": "paper"
           }
          ]
         },
         "name": "25"
        },
        {
         "data": [
          {
           "name": "Free Nodes",
           "type": "scatter3d",
           "x": {
            "bdata": "wTEZYcURj78XB+57JoLvP7daLORL4X6/7nvpFY5F8D9ooL/rRyIAQDpPo9XpCABA",
            "dtype": "f8"
           },
           "y": {
            "bdata": "bmmN+/Exbz+RsrlonU9vv+X4p296D/A/6ocPbV1jg7/s724BxaxnP84EaL6EC/A/",
            "dtype": "f8"
           },
           "z": {
            "bdata": "BnINOgGNMT8u+/AX2zOSv+hOSvMfHjI/c+rClJ//kL9V4uWq49Shv7/PQ51Em6K/",
            "dtype": "f8"
           }
          },
          {
           "name": "Fixed Nodes",
           "type": "scatter3d",
           "x": [],
           "y": [],
           "z": []
          },
          {
           "name": "Edges",
           "type": "scatter3d",
           "x": [
            0.9846374912742445,
            -0.007539078188321716,
            null,
            -0.007539078188321716,
            -0.015170614267071227,
            null,
            -0.015170614267071227,
            0.9846374912742445,
            null,
            2.0167387407164377,
            2.004352253958044,
            null,
            2.004352253958044,
            1.0169812065066668,
            null,
            1.0169812065066668,
            2.0167387407164377,
            null
           ],
           "y": [
            -0.003822143020263909,
            1.0037788735931426,
            null,
            1.0037788735931426,
            0.003807995436017445,
            null,
            0.003807995436017445,
            -0.003822143020263909,
            null,
            0.0028900001302343183,
            1.0028121412035946,
            null,
            1.0028121412035946,
            -0.009466867342727132,
            null,
            -0.009466867342727132,
            0.0028900001302343183,
            null
           ],
           "z": [
            -0.017775939308417303,
            0.0002764537814894234,
            null,
            0.0002764537814894234,
            0.0002678039546049341,
            null,
            0.0002678039546049341,
            -0.017775939308417303,
            null,
            -0.03482734166295091,
            -0.036340851018308744,
            null,
            -0.036340851018308744,
            -0.016600125746416738,
            null,
            -0.016600125746416738,
            -0.03482734166295091,
            null
           ]
          },
          {
           "i": [
            0,
            3
           ],
           "j": [
            1,
            4
           ],
           "k": [
            2,
            5
           ],
           "name": "Faces",
           "type": "mesh3d",
           "x": {
            "bdata": "wTEZYcURj78XB+57JoLvP7daLORL4X6/7nvpFY5F8D9ooL/rRyIAQDpPo9XpCABA",
            "dtype": "f8"
           },
           "y": {
            "bdata": "bmmN+/Exbz+RsrlonU9vv+X4p296D/A/6ocPbV1jg7/s724BxaxnP84EaL6EC/A/",
            "dtype": "f8"
           },
           "z": {
            "bdata": "BnINOgGNMT8u+/AX2zOSv+hOSvMfHjI/c+rClJ//kL9V4uWq49Shv7/PQ51Em6K/",
            "dtype": "f8"
           }
          }
         ],
         "layout": {
          "annotations": [
           {
            "showarrow": false,
            "text": "Time: 0.26s (Step: 27/100)",
            "x": 0.05,
            "xref": "paper",
            "y": 0.95,
            "yref": "paper"
           }
          ]
         },
         "name": "26"
        },
        {
         "data": [
          {
           "name": "Free Nodes",
           "type": "scatter3d",
           "x": {
            "bdata": "x4DJPFVAkb+saFv7DHTvP4gEmgwgJoG/r5DC51xN8D8hFEeSESYAQGL2hoXjCQBA",
            "dtype": "f8"
           },
           "y": {
            "bdata": "e/JVAEFUcT/bxHaqz15xv2NYrpsuEfA/er/ewQOHhb8gIyeiu05qP1ByrpzCDPA/",
            "dtype": "f8"
           },
           "z": {
            "bdata": "cNCUn0lSMz+QFpTC8TeUv5fGklNxDDQ/4jzclpkGlL8MqMOJoWGkv226dBZ6PqW/",
            "dtype": "f8"
           }
          },
          {
           "name": "Fixed Nodes",
           "type": "scatter3d",
           "x": [],
           "y": [],
           "z": []
          },
          {
           "name": "Edges",
           "type": "scatter3d",
           "x": [
            0.982916346484918,
            -0.008373499283381727,
            null,
            -0.008373499283381727,
            -0.016846973261977618,
            null,
            -0.016846973261977618,
            0.982916346484918,
            null,
            2.0185882022801853,
            2.0048284942447916,
            null,
            2.0048284942447916,
            1.0188874295354642,
            null,
            1.0188874295354642,
            2.0185882022801853,
            null
           ],
           "y": [
            -0.004240809626410792,
            1.0041948396006084,
            null,
            1.0041948396006084,
            0.004230741416333057,
            null,
            0.004230741416333057,
            -0.004240809626410792,
            null,
            0.0032113709178002298,
            1.0031152840012005,
            null,
            1.0031152840012005,
            -0.010511426309534267,
            null,
            -0.010511426309534267,
            0.0032113709178002298,
            null
           ],
           "z": [
            -0.019744660855414653,
            0.00030591742285955,
            null,
            0.00030591742285955,
            0.0002948217148344206,
            null,
            0.0002948217148344206,
            -0.019744660855414653,
            null,
            -0.039807365481309004,
            -0.04149228595848773,
            null,
            -0.04149228595848773,
            -0.01955642684248183,
            null,
            -0.01955642684248183,
            -0.039807365481309004,
            null
           ]
          },
          {
           "i": [
            0,
            3
           ],
           "j": [
            1,
            4
           ],
           "k": [
            2,
            5
           ],
           "name": "Faces",
           "type": "mesh3d",
           "x": {
            "bdata": "x4DJPFVAkb+saFv7DHTvP4gEmgwgJoG/r5DC51xN8D8hFEeSESYAQGL2hoXjCQBA",
            "dtype": "f8"
           },
           "y": {
            "bdata": "e/JVAEFUcT/bxHaqz15xv2NYrpsuEfA/er/ewQOHhb8gIyeiu05qP1ByrpzCDPA/",
            "dtype": "f8"
           },
           "z": {
            "bdata": "cNCUn0lSMz+QFpTC8TeUv5fGklNxDDQ/4jzclpkGlL8MqMOJoWGkv226dBZ6PqW/",
            "dtype": "f8"
           }
          }
         ],
         "layout": {
          "annotations": [
           {
            "showarrow": false,
            "text": "Time: 0.27s (Step: 28/100)",
            "x": 0.05,
            "xref": "paper",
            "y": 0.95,
            "yref": "paper"
           }
          ]
         },
         "name": "27"
        },
        {
         "data": [
          {
           "name": "Free Nodes",
           "type": "scatter3d",
           "x": {
            "bdata": "sPxPdEn3kr8288+b7WXvPw/xVBIf24K/1kRppy9V8D8F1VUS2ikAQKyA/GTcCgBA",
            "dtype": "f8"
           },
           "y": {
            "bdata": "dHNQUGcPcz9cGU1X0RRzvwcJHurhEvA/xLqVa86ph78MfTCP+vBsP8aGeJ/+DfA/",
            "dtype": "f8"
           },
           "z": {
            "bdata": "qJWVtN8WNT+8IaFFBDyWv/XJ3R5r+jU/wcDnbpkNl7/XCdbHXe6mv0/wd0Wu4ae/",
            "dtype": "f8"
           }
          },
          {
           "name": "Fixed Nodes",
           "type": "scatter3d",
           "x": [],
           "y": [],
           "z": []
          },
          {
           "name": "Edges",
           "type": "scatter3d",
           "x": [
            0.981192402192028,
            -0.009207003352110136,
            null,
            -0.009207003352110136,
            -0.018521449779652144,
            null,
            -0.018521449779652144,
            0.981192402192028,
            null,
            2.020435469860447,
            2.005303181606072,
            null,
            2.005303181606072,
            1.020797399473215,
            null,
            1.020797399473215,
            2.020435469860447,
            null
           ],
           "y": [
            -0.004658525217399703,
            1.0046099801261918,
            null,
            1.0046099801261918,
            0.004653361863373163,
            null,
            0.004653361863373163,
            -0.004658525217399703,
            null,
            0.0035328763710961216,
            1.0034166554764155,
            null,
            1.0034166554764155,
            -0.011554348619680417,
            null,
            -0.011554348619680417,
            0.0035328763710961216,
            null
           ],
           "z": [
            -0.021713320493548002,
            0.0003353606724580121,
            null,
            0.0003353606724580121,
            0.00032179795797157096,
            null,
            0.00032179795797157096,
            -0.021713320493548002,
            null,
            -0.04478734077840201,
            -0.046643682460825724,
            null,
            -0.046643682460825724,
            -0.022512814897653003,
            null,
            -0.022512814897653003,
            -0.04478734077840201,
            null
           ]
          },
          {
           "i": [
            0,
            3
           ],
           "j": [
            1,
            4
           ],
           "k": [
            2,
            5
           ],
           "name": "Faces",
           "type": "mesh3d",
           "x": {
            "bdata": "sPxPdEn3kr8288+b7WXvPw/xVBIf24K/1kRppy9V8D8F1VUS2ikAQKyA/GTcCgBA",
            "dtype": "f8"
           },
           "y": {
            "bdata": "dHNQUGcPcz9cGU1X0RRzvwcJHurhEvA/xLqVa86ph78MfTCP+vBsP8aGeJ/+DfA/",
            "dtype": "f8"
           },
           "z": {
            "bdata": "qJWVtN8WNT+8IaFFBDyWv/XJ3R5r+jU/wcDnbpkNl7/XCdbHXe6mv0/wd0Wu4ae/",
            "dtype": "f8"
           }
          }
         ],
         "layout": {
          "annotations": [
           {
            "showarrow": false,
            "text": "Time: 0.28s (Step: 29/100)",
            "x": 0.05,
            "xref": "paper",
            "y": 0.95,
            "yref": "paper"
           }
          ]
         },
         "name": "28"
        },
        {
         "data": [
          {
           "name": "Free Nodes",
           "type": "scatter3d",
           "x": {
            "bdata": "cCFfeL+tlL8+T9VdyFfvP1/rMuOij4S/rR8LVAZd8D8Mal1soS0AQHyj+3PUCwBA",
            "dtype": "f8"
           },
           "y": {
            "bdata": "4c5xEWvKdD+qI6Om0sl0v4YSv1qUFPA/rwlcXLzLib9GGtMDf5NvP0LtDMY4D/A/",
            "dtype": "f8"
           },
           "z": {
            "bdata": "nvCdgLPaNj9tgsdAEkCYv9KYdjkF6Dc/RHCHpJ8Umr+ru+o/GHupv1bArgvhhKq/",
            "dtype": "f8"
           }
          },
          {
           "name": "Fixed Nodes",
           "type": "scatter3d",
           "x": [],
           "y": [],
           "z": []
          },
          {
           "name": "Edges",
           "type": "scatter3d",
           "x": [
            0.9794656593971707,
            -0.01003958946090727,
            null,
            -0.01003958946090727,
            -0.020194045755290657,
            null,
            -0.020194045755290657,
            0.9794656593971707,
            null,
            2.0222805467612996,
            2.0057763158005724,
            null,
            2.0057763158005724,
            1.0227111132571551,
            null,
            1.0227111132571551,
            2.0222805467612996,
            null
           ],
           "y": [
            -0.0050752857734516574,
            1.0050242943554237,
            null,
            1.0050242943554237,
            0.0050758535718277995,
            null,
            0.0050758535718277995,
            -0.0050752857734516574,
            null,
            0.003854511333517582,
            1.0037162529323074,
            null,
            1.0037162529323074,
            -0.01259562641962905,
            null,
            -0.01259562641962905,
            0.003854511333517582,
            null
           ],
           "z": [
            -0.02368191261655499,
            0.0003647816424411479,
            null,
            0.0003647816424411479,
            0.0003487289655976863,
            null,
            0.0003487289655976863,
            -0.02368191261655499,
            null,
            -0.049767263223990575,
            -0.05179503696069847,
            null,
            -0.05179503696069847,
            -0.02546929780679387,
            null,
            -0.02546929780679387,
            -0.049767263223990575,
            null
           ]
          },
          {
           "i": [
            0,
            3
           ],
           "j": [
            1,
            4
           ],
           "k": [
            2,
            5
           ],
           "name": "Faces",
           "type": "mesh3d",
           "x": {
            "bdata": "cCFfeL+tlL8+T9VdyFfvP1/rMuOij4S/rR8LVAZd8D8Mal1soS0AQHyj+3PUCwBA",
            "dtype": "f8"
           },
           "y": {
            "bdata": "4c5xEWvKdD+qI6Om0sl0v4YSv1qUFPA/rwlcXLzLib9GGtMDf5NvP0LtDMY4D/A/",
            "dtype": "f8"
           },
           "z": {
            "bdata": "nvCdgLPaNj9tgsdAEkCYv9KYdjkF6Dc/RHCHpJ8Umr+ru+o/GHupv1bArgvhhKq/",
            "dtype": "f8"
           }
          }
         ],
         "layout": {
          "annotations": [
           {
            "showarrow": false,
            "text": "Time: 0.29s (Step: 30/100)",
            "x": 0.05,
            "xref": "paper",
            "y": 0.95,
            "yref": "paper"
           }
          ]
         },
         "name": "29"
        },
        {
         "data": [
          {
           "name": "Free Nodes",
           "type": "scatter3d",
           "x": {
            "bdata": "32Bqardjlr9hl/dBnUnvP/e2U1+rQ4a/izDT7OBk8D+4G9CgZzEAQKOOfLLLDABA",
            "dtype": "f8"
           },
           "y": {
            "bdata": "LfUjaEuFdj/ql6SE0n12v6Q2We1FFvA/dOTWhszsi7/wV0IfIxtxP1q1sQ9xEPA/",
            "dtype": "f8"
           },
           "z": {
            "bdata": "7B8SE7WdOD91SLlTG0Savx3pfIA31Tk/r3lTv6wbnb+zmOzM0AesvzU4YkoSKK2/",
            "dtype": "f8"
           }
          },
          {
           "name": "Fixed Nodes",
           "type": "scatter3d",
           "x": [],
           "y": [],
           "z": []
          },
          {
           "name": "Edges",
           "type": "scatter3d",
           "x": [
            0.9777361191197366,
            -0.010871256682061665,
            null,
            -0.010871256682061665,
            -0.021864763135995054,
            null,
            -0.021864763135995054,
            0.9777361191197366,
            null,
            2.024123436308823,
            2.006247896600898,
            null,
            2.006247896600898,
            1.024628567788599,
            null,
            1.024628567788599,
            2.024123436308823,
            null
           ],
           "y": [
            -0.005491087280722321,
            1.0054377814698592,
            null,
            1.0054377814698592,
            0.005498213346297559,
            null,
            0.005498213346297559,
            -0.005491087280722321,
            null,
            0.004176270671583979,
            1.004014073663106,
            null,
            1.004014073663106,
            -0.01363525187012924,
            null,
            -0.01363525187012924,
            0.004176270671583979,
            null
           ],
           "z": [
            -0.025650431618779074,
            0.0003941784384441526,
            null,
            0.0003941784384441526,
            0.00037561102642102886,
            null,
            0.00037561102642102886,
            -0.025650431618779074,
            null,
            -0.054747128501092666,
            -0.05694634588245188,
            null,
            -0.05694634588245188,
            -0.028425883462540543,
            null,
            -0.028425883462540543,
            -0.054747128501092666,
            null
           ]
          },
          {
           "i": [
            0,
            3
           ],
           "j": [
            1,
            4
           ],
           "k": [
            2,
            5
           ],
           "name": "Faces",
           "type": "mesh3d",
           "x": {
            "bdata": "32Bqardjlr9hl/dBnUnvP/e2U1+rQ4a/izDT7OBk8D+4G9CgZzEAQKOOfLLLDABA",
            "dtype": "f8"
           },
           "y": {
            "bdata": "LfUjaEuFdj/ql6SE0n12v6Q2We1FFvA/dOTWhszsi7/wV0IfIxtxP1q1sQ9xEPA/",
            "dtype": "f8"
           },
           "z": {
            "bdata": "7B8SE7WdOD91SLlTG0Savx3pfIA31Tk/r3lTv6wbnb+zmOzM0AesvzU4YkoSKK2/",
            "dtype": "f8"
           }
          }
         ],
         "layout": {
          "annotations": [
           {
            "showarrow": false,
            "text": "Time: 0.30s (Step: 31/100)",
            "x": 0.05,
            "xref": "paper",
            "y": 0.95,
            "yref": "paper"
           }
          ]
         },
         "name": "30"
        },
        {
         "data": [
          {
           "name": "Free Nodes",
           "type": "scatter3d",
           "x": {
            "bdata": "xkgZbDEZmL95V8VIbDvvP/EuC2c494e/DhDqcL9s8D+58iCwLDUAQCLtdyDCDQBA",
            "dtype": "f8"
           },
           "y": {
            "bdata": "sV5/eQdAeD/KJObdzzB4v5fxs6H2F/A/zA0q3v0Mjr/D4HTApmxyP1FUrHunEfA/",
            "dtype": "f8"
           },
           "z": {
            "bdata": "CzMyg9RfOj+iWyseH0icv8Ge6sn5wTs/Zu1so2ARoL8DwONJh5Suv/M5w+JBy6+/",
            "dtype": "f8"
           }
          },
          {
           "name": "Fixed Nodes",
           "type": "scatter3d",
           "x": [],
           "y": [],
           "z": []
          },
          {
           "name": "Edges",
           "type": "scatter3d",
           "x": [
            0.9760037823968865,
            -0.011702004093784054,
            null,
            -0.011702004093784054,
            -0.02353360388071548,
            null,
            -0.02353360388071548,
            0.9760037823968865,
            null,
            2.0259641418509458,
            2.0067179237936594,
            null,
            2.0067179237936594,
            1.0265497599330078,
            null,
            1.0265497599330078,
            2.0259641418509458,
            null
           ],
           "y": [
            -0.005905925731334702,
            1.0058504406470996,
            null,
            1.0058504406470996,
            0.005920438001303972,
            null,
            0.005920438001303972,
            -0.005905925731334702,
            null,
            0.004498149274972887,
            1.0043101149542688,
            null,
            1.0043101149542688,
            -0.014673217146316107,
            null,
            -0.014673217146316107,
            0.004498149274972887,
            null
           ],
           "z": [
            -0.02761887189521029,
            0.0004235491596013934,
            null,
            0.0004235491596013934,
            0.0004024404362972667,
            null,
            0.0004024404362972667,
            -0.02761887189521029,
            null,
            -0.05972693230603456,
            -0.062097605639440355,
            null,
            -0.062097605639440355,
            -0.031382579755212345,
            null,
            -0.031382579755212345,
            -0.05972693230603456,
            null
           ]
          },
          {
           "i": [
            0,
            3
           ],
           "j": [
            1,
            4
           ],
           "k": [
            2,
            5
           ],
           "name": "Faces",
           "type": "mesh3d",
           "x": {
            "bdata": "xkgZbDEZmL95V8VIbDvvP/EuC2c494e/DhDqcL9s8D+58iCwLDUAQCLtdyDCDQBA",
            "dtype": "f8"
           },
           "y": {
            "bdata": "sV5/eQdAeD/KJObdzzB4v5fxs6H2F/A/zA0q3v0Mjr/D4HTApmxyP1FUrHunEfA/",
            "dtype": "f8"
           },
           "z": {
            "bdata": "CzMyg9RfOj+iWyseH0icv8Ge6sn5wTs/Zu1so2ARoL8DwONJh5Suv/M5w+JBy6+/",
            "dtype": "f8"
           }
          }
         ],
         "layout": {
          "annotations": [
           {
            "showarrow": false,
            "text": "Time: 0.31s (Step: 32/100)",
            "x": 0.05,
            "xref": "paper",
            "y": 0.95,
            "yref": "paper"
           }
          ]
         },
         "name": "31"
        },
        {
         "data": [
          {
           "name": "Free Nodes",
           "type": "scatter3d",
           "x": {
            "bdata": "OTtHny3Omb+wi89yNS3vP4CZ4dpJqom/YOF136F08D+GtsOa8DgAQO3l5r23DgBA",
            "dtype": "f8"
           },
           "y": {
            "bdata": "lTVLa576eT/yFGafyeJ5v4B6lnemGfA/8Fr8qicWkL9lYesHSb5zP06mQQncEvA/",
            "dtype": "f8"
           },
           "z": {
            "bdata": "7bEf8AEhPD90qdU/HUyev9iRmeRDrj0/V/5O4e6Uob972PrInZCwv9ZI9do3N7G/",
            "dtype": "f8"
           }
          },
          {
           "name": "Fixed Nodes",
           "type": "scatter3d",
           "x": [],
           "y": [],
           "z": []
          },
          {
           "name": "Edges",
           "type": "scatter3d",
           "x": [
            0.9742686502835252,
            -0.012531830780244446,
            null,
            -0.012531830780244446,
            -0.02520056996018669,
            null,
            -0.02520056996018669,
            0.9742686502835252,
            null,
            2.0278026667572844,
            2.007186397179558,
            null,
            2.007186397179558,
            1.0284746865200631,
            null,
            1.0284746865200631,
            2.0278026667572844,
            null
           ],
           "y": [
            -0.006319797123415004,
            1.0062622710608196,
            null,
            1.0062622710608196,
            0.006342524361298803,
            null,
            0.006342524361298803,
            -0.006319797123415004,
            null,
            0.004820142056552211,
            1.0046043740825499,
            null,
            1.0046043740825499,
            -0.0157095144378116,
            null,
            -0.0157095144378116,
            0.004820142056552211,
            null
           ],
           "z": [
            -0.029587227841525857,
            0.00045289189856692396,
            null,
            0.00045289189856692396,
            0.0004292134982495633,
            null,
            0.0004292134982495633,
            -0.029587227841525857,
            null,
            -0.06470667034850124,
            -0.06724881263406543,
            null,
            -0.06724881263406543,
            -0.034339394572722774,
            null,
            -0.034339394572722774,
            -0.06470667034850124,
            null
           ]
          },
          {
           "i": [
            0,
            3
           ],
           "j": [
            1,
            4
           ],
           "k": [
            2,
            5
           ],
           "name": "Faces",
           "type": "mesh3d",
           "x": {
            "bdata": "OTtHny3Omb+wi89yNS3vP4CZ4dpJqom/YOF136F08D+GtsOa8DgAQO3l5r23DgBA",
            "dtype": "f8"
           },
           "y": {
            "bdata": "lTVLa576eT/yFGafyeJ5v4B6lnemGfA/8Fr8qicWkL9lYesHSb5zP06mQQncEvA/",
            "dtype": "f8"
           },
           "z": {
            "bdata": "7bEf8AEhPD90qdU/HUyev9iRmeRDrj0/V/5O4e6Uob972PrInZCwv9ZI9do3N7G/",
            "dtype": "f8"
           }
          }
         ],
         "layout": {
          "annotations": [
           {
            "showarrow": false,
            "text": "Time: 0.32s (Step: 33/100)",
            "x": 0.05,
            "xref": "paper",
            "y": 0.95,
            "yref": "paper"
           }
          ]
         },
         "name": "32"
        },
        {
         "data": [
          {
           "name": "Free Nodes",
           "type": "scatter3d",
           "x": {
            "bdata": "QysDJqyCm79+n6nA+B7vP8Huk5vfXIu/hVOaN4h88D/66yxhszwAQKgcw4qsDwBA",
            "dtype": "f8"
           },
           "y": {
            "bdata": "02z9Yw+1ez8i14y2vpN7v9vDx25VG/A/sSwz8V8lkb/7k6iZCBB1P5DvtbcOFPA/",
            "dtype": "f8"
           },
           "z": {
            "bdata": "Fz3jgC3hPT9UqTmsCiigv0BRSZgNmj8/4ScMXYEYo7+iszLA9taxv7iFbNLNiLK/",
            "dtype": "f8"
           }
          },
          {
           "name": "Fixed Nodes",
           "type": "scatter3d",
           "x": [],
           "y": [],
           "z": []
          },
          {
           "name": "Edges",
           "type": "scatter3d",
           "x": [
            0.9725307238522729,
            -0.013360735831603578,
            null,
            -0.013360735831603578,
            -0.02686566335686825,
            null,
            -0.02686566335686825,
            0.9725307238522729,
            null,
            2.0296390144189873,
            2.007653316573471,
            null,
            2.007653316573471,
            1.0304033443437401,
            null,
            1.0304033443437401,
            2.0296390144189873,
            null
           ],
           "y": [
            -0.006732697461122846,
            1.0066732718807916,
            null,
            1.0066732718807916,
            0.006764469260669165,
            null,
            0.006764469260669165,
            -0.006732697461122846,
            null,
            0.00514224395241047,
            1.0048968483160685,
            null,
            1.0048968483160685,
            -0.016744135948823572,
            null,
            -0.016744135948823572,
            0.00514224395241047,
            null
           ],
           "z": [
            -0.03155549385413062,
            0.000482204741534948,
            null,
            0.000482204741534948,
            0.00045592652248856294,
            null,
            0.00045592652248856294,
            -0.03155549385413062,
            null,
            -0.06968633835158625,
            -0.07239996325781461,
            null,
            -0.07239996325781461,
            -0.03729633580049075,
            null,
            -0.03729633580049075,
            -0.06968633835158625,
            null
           ]
          },
          {
           "i": [
            0,
            3
           ],
           "j": [
            1,
            4
           ],
           "k": [
            2,
            5
           ],
           "name": "Faces",
           "type": "mesh3d",
           "x": {
            "bdata": "QysDJqyCm79+n6nA+B7vP8Huk5vfXIu/hVOaN4h88D/66yxhszwAQKgcw4qsDwBA",
            "dtype": "f8"
           },
           "y": {
            "bdata": "02z9Yw+1ez8i14y2vpN7v9vDx25VG/A/sSwz8V8lkb/7k6iZCBB1P5DvtbcOFPA/",
            "dtype": "f8"
           },
           "z": {
            "bdata": "Fz3jgC3hPT9UqTmsCiigv0BRSZgNmj8/4ScMXYEYo7+iszLA9taxv7iFbNLNiLK/",
            "dtype": "f8"
           }
          }
         ],
         "layout": {
          "annotations": [
           {
            "showarrow": false,
            "text": "Time: 0.33s (Step: 34/100)",
            "x": 0.05,
            "xref": "paper",
            "y": 0.95,
            "yref": "paper"
           }
          ]
         },
         "name": "33"
        },
        {
         "data": [
          {
           "name": "Free Nodes",
           "type": "scatter3d",
           "x": {
            "bdata": "/1aPIq02nb+3bOkythDvP3QnFIr5Do2/pqJ4eHKE8D/i09EDdUAAQHGyBoegEABA",
            "dtype": "f8"
           },
           "y": {
            "bdata": "UuC6illvfT92li0RrkN9v/d7DocDHfA/GNYLPCc0kr8mSUgb5GF2P67dTIY/FfA/",
            "dtype": "f8"
           },
           "z": {
            "bdata": "DBpyZEegPz9ZbOGDAyqhvw960lKnwkA/DPRaWhicpL9fu0l4Th2zv7TEO8hi2rO/",
            "dtype": "f8"
           }
          },
          {
           "name": "Fixed Nodes",
           "type": "scatter3d",
           "x": [],
           "y": [],
           "z": []
          },
          {
           "name": "Edges",
           "type": "scatter3d",
           "x": [
            0.9707900041934384,
            -0.01418871834404787,
            null,
            -0.01418871834404787,
            -0.02852888606488246,
            null,
            -0.02852888606488246,
            0.9707900041934384,
            null,
            2.0314731882485697,
            2.00811868180454,
            null,
            2.00811868180454,
            1.0323357301623814,
            null,
            1.0323357301623814,
            2.0314731882485697,
            null
           ],
           "y": [
            -0.007144622754685073,
            1.007083442272913,
            null,
            1.007083442272913,
            0.007186269543744643,
            null,
            0.007186269543744643,
            -0.007144622754685073,
            null,
            0.005464449921890135,
            1.0051875349143802,
            null,
            1.0051875349143802,
            -0.01777707389824998,
            null,
            -0.01777707389824998,
            0.005464449921890135,
            null
           ],
           "z": [
            -0.03352366433019744,
            0.0005114857682604906,
            null,
            0.0005114857682604906,
            0.00048257582643210293,
            null,
            0.00048257582643210293,
            -0.03352366433019744,
            null,
            -0.07466593205184101,
            -0.07755105389130074,
            null,
            -0.07755105389130074,
            -0.040253411321352045,
            null,
            -0.040253411321352045,
            -0.07466593205184101,
            null
           ]
          },
          {
           "i": [
            0,
            3
           ],
           "j": [
            1,
            4
           ],
           "k": [
            2,
            5
           ],
           "name": "Faces",
           "type": "mesh3d",
           "x": {
            "bdata": "/1aPIq02nb+3bOkythDvP3QnFIr5Do2/pqJ4eHKE8D/i09EDdUAAQHGyBoegEABA",
            "dtype": "f8"
           },
           "y": {
            "bdata": "UuC6illvfT92li0RrkN9v/d7DocDHfA/GNYLPCc0kr8mSUgb5GF2P67dTIY/FfA/",
            "dtype": "f8"
           },
           "z": {
            "bdata": "DBpyZEegPz9ZbOGDAyqhvw960lKnwkA/DPRaWhicpL9fu0l4Th2zv7TEO8hi2rO/",
            "dtype": "f8"
           }
          }
         ],
         "layout": {
          "annotations": [
           {
            "showarrow": false,
            "text": "Time: 0.34s (Step: 35/100)",
            "x": 0.05,
            "xref": "paper",
            "y": 0.95,
            "yref": "paper"
           }
          ]
         },
         "name": "34"
        },
        {
         "data": [
          {
           "name": "Free Nodes",
           "type": "scatter3d",
           "x": {
            "bdata": "ugNhtzDqnr+NOifKbQLvP06FiYeXwI6/Y5kvoWCM8D+ZaSiDNUQAQJ5GrLKTEQBA",
            "dtype": "f8"
           },
           "y": {
            "bdata": "XW1XB3wpfz/xxYadlvJ+v2oNMcCwHvA/brsZBn1Ck79s6v8z2rN3P9CISXRuFvA/",
            "dtype": "f8"
           },
           "z": {
            "bdata": "eNrZ6B+vQD+FJcP2+Cuivyp2JGP/t0E/+wzsHLQfpr9nE//epGO0vwONy6z2K7W/",
            "dtype": "f8"
           }
          },
          {
           "name": "Fixed Nodes",
           "type": "scatter3d",
           "x": [],
           "y": [],
           "z": []
          },
          {
           "name": "Edges",
           "type": "scatter3d",
           "x": [
            0.9690464924149907,
            -0.015015777419821543,
            null,
            -0.015015777419821543,
            -0.030190240089954058,
            null,
            -0.030190240089954058,
            0.9690464924149907,
            null,
            2.0333051916797555,
            2.0085824927162568,
            null,
            2.0085824927162568,
            1.034271840698772,
            null,
            1.034271840698772,
            2.0333051916797555,
            null
           ],
           "y": [
            -0.007555569020426743,
            1.0074927813992312,
            null,
            1.0074927813992312,
            0.007607922064802733,
            null,
            0.007607922064802733,
            -0.007555569020426743,
            null,
            0.005786754947616584,
            1.005476431128546,
            null,
            1.005476431128546,
            -0.01880832051977726,
            null,
            -0.01880832051977726,
            0.005786754947616584,
            null
           ],
           "z": [
            -0.03549173366770745,
            0.0005407330520800825,
            null,
            0.0005407330520800825,
            0.0005091577347247763,
            null,
            0.0005091577347247763,
            -0.03549173366770745,
            null,
            -0.07964544719932364,
            -0.08270208090430135,
            null,
            -0.08270208090430135,
            -0.04321062901547098,
            null,
            -0.04321062901547098,
            -0.07964544719932364,
            null
           ]
          },
          {
           "i": [
            0,
            3
           ],
           "j": [
            1,
            4
           ],
           "k": [
            2,
            5
           ],
           "name": "Faces",
           "type": "mesh3d",
           "x": {
            "bdata": "ugNhtzDqnr+NOifKbQLvP06FiYeXwI6/Y5kvoWCM8D+ZaSiDNUQAQJ5GrLKTEQBA",
            "dtype": "f8"
           },
           "y": {
            "bdata": "XW1XB3wpfz/xxYadlvJ+v2oNMcCwHvA/brsZBn1Ck79s6v8z2rN3P9CISXRuFvA/",
            "dtype": "f8"
           },
           "z": {
            "bdata": "eNrZ6B+vQD+FJcP2+Cuivyp2JGP/t0E/+wzsHLQfpr9nE//epGO0vwONy6z2K7W/",
            "dtype": "f8"
           }
          }
         ],
         "layout": {
          "annotations": [
           {
            "showarrow": false,
            "text": "Time: 0.35s (Step: 36/100)",
            "x": 0.05,
            "xref": "paper",
            "y": 0.95,
            "yref": "paper"
           }
          ]
         },
         "name": "35"
        },
        {
         "data": [
          {
           "name": "Free Nodes",
           "type": "scatter3d",
           "x": {
            "bdata": "BR2Qg5tOoL+TvP2GH/TuPwRuqLrcOJC/I5LbsFKU8D+cYaff9EcAQH73rg2GEgBA",
            "dtype": "f8"
           },
           "y": {
            "bdata": "TwQrAbtxgD/hViGlO1CAv4ef9RldIPA//rwxymBQlL9WBp+M6QV5P+h07oCbF/A/",
            "dtype": "f8"
           },
           "z": {
            "bdata": "04nDg4ONQT8xusHU6i2jv1xwZNYKrUI/UQtq6FSjp7/UxiDi+am1vzmHeHCJfba/",
            "dtype": "f8"
           }
          },
          {
           "name": "Fixed Nodes",
           "type": "scatter3d",
           "x": [],
           "y": [],
           "z": []
          },
          {
           "name": "Edges",
           "type": "scatter3d",
           "x": [
            0.9673001896425312,
            -0.015841912167259067,
            null,
            -0.015841912167259067,
            -0.03184972744934992,
            null,
            -0.03184972744934992,
            0.9673001896425312,
            null,
            2.035135028167316,
            2.0090447491665477,
            null,
            2.0090447491665477,
            1.0362116726402142,
            null,
            1.0362116726402142,
            2.035135028167316,
            null
           ],
           "y": [
            -0.007965532280802491,
            1.0079012884179706,
            null,
            1.0079012884179706,
            0.008029423688073715,
            null,
            0.008029423688073715,
            -0.007965532280802491,
            null,
            0.006109154035529215,
            1.0057635342012023,
            null,
            1.0057635342012023,
            -0.019837868061981283,
            null,
            -0.019837868061981283,
            0.006109154035529215,
            null
           ],
           "z": [
            -0.03745969626549018,
            0.0005699446599325519,
            null,
            0.0005699446599325519,
            0.0005356685792572931,
            null,
            0.0005356685792572931,
            -0.03745969626549018,
            null,
            -0.08462487955764725,
            -0.08785304065579859,
            null,
            -0.08785304065579859,
            -0.0461679967602523,
            null,
            -0.0461679967602523,
            -0.08462487955764725,
            null
           ]
          },
          {
           "i": [
            0,
            3
           ],
           "j": [
            1,
            4
           ],
           "k": [
            2,
            5
           ],
           "name": "Faces",
           "type": "mesh3d",
           "x": {
            "bdata": "BR2Qg5tOoL+TvP2GH/TuPwRuqLrcOJC/I5LbsFKU8D+cYaff9EcAQH73rg2GEgBA",
            "dtype": "f8"
           },
           "y": {
            "bdata": "TwQrAbtxgD/hViGlO1CAv4ef9RldIPA//rwxymBQlL9WBp+M6QV5P+h07oCbF/A/",
            "dtype": "f8"
           },
           "z": {
            "bdata": "04nDg4ONQT8xusHU6i2jv1xwZNYKrUI/UQtq6FSjp7/UxiDi+am1vzmHeHCJfba/",
            "dtype": "f8"
           }
          }
         ],
         "layout": {
          "annotations": [
           {
            "showarrow": false,
            "text": "Time: 0.36s (Step: 37/100)",
            "x": 0.05,
            "xref": "paper",
            "y": 0.95,
            "yref": "paper"
           }
          ]
         },
         "name": "36"
        },
        {
         "data": [
          {
           "name": "Free Nodes",
           "type": "scatter3d",
           "x": {
            "bdata": "RcBTGuAnob/EEQpqy+XuP41ufpovEZG/aXiWpkic8D8iKMYZs0sAQBhjCph3EwBA",
            "dtype": "f8"
           },
           "y": {
            "bdata": "TG50UqNOgT8G/zuDpyaBv9QWIpQIIvA/7KZqA9Jdlb9Gz4/PEFh6P/SSfavGGPA/",
            "dtype": "f8"
           },
           "z": {
            "bdata": "iRtkpkZrQj/gA8Lt2C+kv+PIWoLFoUM/vkR5APsmqb+b1YtvTfC2v4mIkwMbz7e/",
            "dtype": "f8"
           }
          },
          {
           "name": "Fixed Nodes",
           "type": "scatter3d",
           "x": [],
           "y": [],
           "z": []
          },
          {
           "name": "Edges",
           "type": "scatter3d",
           "x": [
            0.9655510970192656,
            -0.01666712170081879,
            null,
            -0.01666712170081879,
            -0.03350735017181753,
            null,
            -0.03350735017181753,
            0.9655510970192656,
            null,
            2.0369627011869094,
            2.0095054510278594,
            null,
            2.0095054510278594,
            1.0381552226386026,
            null,
            1.0381552226386026,
            2.0369627011869094,
            null
           ],
           "y": [
            -0.008374508564429128,
            1.0083089624835582,
            null,
            1.0083089624835582,
            0.008450771287747426,
            null,
            0.008450771287747426,
            -0.008374508564429128,
            null,
            0.0064316422149096105,
            1.0060488413666322,
            null,
            1.0060488413666322,
            -0.020865708788426682,
            null,
            -0.020865708788426682,
            0.0064316422149096105,
            null
           ],
           "z": [
            -0.039427546523263635,
            0.0005991186523799621,
            null,
            0.0005991186523799621,
            0.0005621046991855931,
            null,
            0.0005621046991855931,
            -0.039427546523263635,
            null,
            -0.0896042249040278,
            -0.09300392949401916,
            null,
            -0.09300392949401916,
            -0.04912552243025335,
            null,
            -0.04912552243025335,
            -0.0896042249040278,
            null
           ]
          },
          {
           "i": [
            0,
            3
           ],
           "j": [
            1,
            4
           ],
           "k": [
            2,
            5
           ],
           "name": "Faces",
           "type": "mesh3d",
           "x": {
            "bdata": "RcBTGuAnob/EEQpqy+XuP41ufpovEZG/aXiWpkic8D8iKMYZs0sAQBhjCph3EwBA",
            "dtype": "f8"
           },
           "y": {
            "bdata": "TG50UqNOgT8G/zuDpyaBv9QWIpQIIvA/7KZqA9Jdlb9Gz4/PEFh6P/SSfavGGPA/",
            "dtype": "f8"
           },
           "z": {
            "bdata": "iRtkpkZrQj/gA8Lt2C+kv+PIWoLFoUM/vkR5APsmqb+b1YtvTfC2v4mIkwMbz7e/",
            "dtype": "f8"
           }
          }
         ],
         "layout": {
          "annotations": [
           {
            "showarrow": false,
            "text": "Time: 0.37s (Step: 38/100)",
            "x": 0.05,
            "xref": "paper",
            "y": 0.95,
            "yref": "paper"
           }
          ]
         },
         "name": "37"
        },
        {
         "data": [
          {
           "name": "Free Nodes",
           "type": "scatter3d",
           "x": {
            "bdata": "BMyBMeYAor+Cw+tzcdfuP7MvK1RE6ZG/KMp3gUKk8D+03/wxcE8AQOmnulFoFABA",
            "dtype": "f8"
           },
           "y": {
            "bdata": "Vq94jHYrgj/aLNVgjvyBv34VfC6zI/A/y6AdLdBqlr97ndeoTqp7PzpCOPPvGfA/",
            "dtype": "f8"
           },
           "z": {
            "bdata": "jbgqeGFIQz+45qoRwzGlv11gUTkrlkQ/p5q3qKaqqr/cQSx1nza4vyGeYVarILm/",
            "dtype": "f8"
           }
          },
          {
           "name": "Fixed Nodes",
           "type": "scatter3d",
           "x": [],
           "y": [],
           "z": []
          },
          {
           "name": "Edges",
           "type": "scatter3d",
           "x": [
            0.9637992157059758,
            -0.017491405141114757,
            null,
            -0.017491405141114757,
            -0.03516311029752475,
            null,
            -0.03516311029752475,
            0.9637992157059758,
            null,
            2.0387882142349216,
            2.0099645981872425,
            null,
            2.0099645981872425,
            1.0401024873105005,
            null,
            1.0401024873105005,
            2.0387882142349216,
            null
           ],
           "y": [
            -0.008782493906116452,
            1.0087158027466496,
            null,
            1.0087158027466496,
            0.008871961747977924,
            null,
            0.008871961747977924,
            -0.008782493906116452,
            null,
            0.006754214538410404,
            1.0063323498508354,
            null,
            1.0063323498508354,
            -0.02189183497776596,
            null,
            -0.02189183497776596,
            0.006754214538410404,
            null
           ],
           "z": [
            -0.04139527884167421,
            0.0006282530836285817,
            null,
            0.0006282530836285817,
            0.0005884624409498038,
            null,
            0.0005884624409498038,
            -0.04139527884167421,
            null,
            -0.09458347902933134,
            -0.09815474375647472,
            null,
            -0.09815474375647472,
            -0.05208321389709641,
            null,
            -0.05208321389709641,
            -0.09458347902933134,
            null
           ]
          },
          {
           "i": [
            0,
            3
           ],
           "j": [
            1,
            4
           ],
           "k": [
            2,
            5
           ],
           "name": "Faces",
           "type": "mesh3d",
           "x": {
            "bdata": "BMyBMeYAor+Cw+tzcdfuP7MvK1RE6ZG/KMp3gUKk8D+03/wxcE8AQOmnulFoFABA",
            "dtype": "f8"
           },
           "y": {
            "bdata": "Vq94jHYrgj/aLNVgjvyBv34VfC6zI/A/y6AdLdBqlr97ndeoTqp7PzpCOPPvGfA/",
            "dtype": "f8"
           },
           "z": {
            "bdata": "jbgqeGFIQz+45qoRwzGlv11gUTkrlkQ/p5q3qKaqqr/cQSx1nza4vyGeYVarILm/",
            "dtype": "f8"
           }
          }
         ],
         "layout": {
          "annotations": [
           {
            "showarrow": false,
            "text": "Time: 0.38s (Step: 39/100)",
            "x": 0.05,
            "xref": "paper",
            "y": 0.95,
            "yref": "paper"
           }
          ]
         },
         "name": "38"
        },
        {
         "data": [
          {
           "name": "Free Nodes",
           "type": "scatter3d",
           "x": {
            "bdata": "qpu52q3Zor+TxESlEcnuP25TrtgawZK/IJmUQECs8D/AX8QoLFMAQKRlvDpYFQBA",
            "dtype": "f8"
           },
           "y": {
            "bdata": "xjGARDQIgz+wcOW179GCv9H7yOhcJfA/cp3mwlp3l7/EbBfGofx8P4pRX1cXG/A/",
            "dtype": "f8"
           },
           "z": {
            "bdata": "ilWKJMwkRD/sZ2UQqTOmv8eOFso3ikU/90i8JFgurL8KHf3g73y5v5kYHFk6crq/",
            "dtype": "f8"
           }
          },
          {
           "name": "Fixed Nodes",
           "type": "scatter3d",
           "x": [],
           "y": [],
           "z": []
          },
          {
           "name": "Edges",
           "type": "scatter3d",
           "x": [
            0.9620445468809912,
            -0.018314761614948542,
            null,
            -0.018314761614948542,
            -0.036817009877999254,
            null,
            -0.036817009877999254,
            0.9620445468809912,
            null,
            2.040611570828304,
            2.0104221905464374,
            null,
            2.0104221905464374,
            1.0420534632372167,
            null,
            1.0420534632372167,
            2.040611570828304,
            null
           ],
           "y": [
            -0.009189484346898119,
            1.0091218083541558,
            null,
            1.0091218083541558,
            0.00929299196288803,
            null,
            0.00929299196288803,
            -0.009189484346898119,
            null,
            0.007076866082083192,
            1.0066140568716002,
            null,
            1.0066140568716002,
            -0.022916238923838823,
            null,
            -0.022916238923838823,
            0.007076866082083192,
            null
           ],
           "z": [
            -0.043362887622336505,
            0.0006573460015499515,
            null,
            0.0006573460015499515,
            0.0006147381582929806,
            null,
            0.0006147381582929806,
            -0.043362887622336505,
            null,
            -0.09956263773812082,
            -0.1033054797700025,
            null,
            -0.1033054797700025,
            -0.055041079029381317,
            null,
            -0.055041079029381317,
            -0.09956263773812082,
            null
           ]
          },
          {
           "i": [
            0,
            3
           ],
           "j": [
            1,
            4
           ],
           "k": [
            2,
            5
           ],
           "name": "Faces",
           "type": "mesh3d",
           "x": {
            "bdata": "qpu52q3Zor+TxESlEcnuP25TrtgawZK/IJmUQECs8D/AX8QoLFMAQKRlvDpYFQBA",
            "dtype": "f8"
           },
           "y": {
            "bdata": "xjGARDQIgz+wcOW179GCv9H7yOhcJfA/cp3mwlp3l7/EbBfGofx8P4pRX1cXG/A/",
            "dtype": "f8"
           },
           "z": {
            "bdata": "ilWKJMwkRD/sZ2UQqTOmv8eOFso3ikU/90i8JFgurL8KHf3g73y5v5kYHFk6crq/",
            "dtype": "f8"
           }
          }
         ],
         "layout": {
          "annotations": [
           {
            "showarrow": false,
            "text": "Time: 0.39s (Step: 40/100)",
            "x": 0.05,
            "xref": "paper",
            "y": 0.95,
            "yref": "paper"
           }
          ]
         },
         "name": "39"
        },
        {
         "data": [
          {
           "name": "Free Nodes",
           "type": "scatter3d",
           "x": {
            "bdata": "iWOzJzeyo78rcLn+q7ruP5DXIhmzmJO/MYz/4kG08D83M5b+5lYAQOe9DFNHFgBA",
            "dtype": "f8"
           },
           "y": {
            "bdata": "UxwrENzkgz9cYpz6yqaDv6/ozcIFJ/A/usekQHGDmL/zUYzWCE9+P3sAM9c8HPA/",
            "dtype": "f8"
           },
           "z": {
            "bdata": "6E782n4ART8dxNy5ijWnvy4gAADnfUY/CLUXuA+yrb/5lAihPsO6v2+X8PvHw7u/",
            "dtype": "f8"
           }
          },
          {
           "name": "Fixed Nodes",
           "type": "scatter3d",
           "x": [],
           "y": [],
           "z": []
          },
          {
           "name": "Edges",
           "type": "scatter3d",
           "x": [
            0.9602870917401608,
            -0.019137190255342384,
            null,
            -0.019137190255342384,
            -0.03846905097606796,
            null,
            -0.03846905097606796,
            0.9602870917401608,
            null,
            2.0424327745044155,
            2.0108782280219546,
            null,
            2.0108782280219546,
            1.0440081469648812,
            null,
            1.0440081469648812,
            2.0424327745044155,
            null
           ],
           "y": [
            -0.009595475934063895,
            1.009526978449269,
            null,
            1.009526978449269,
            0.009713858836574973,
            null,
            0.009713858836574973,
            -0.009595475934063895,
            null,
            0.007399591945404615,
            1.0068939596385735,
            null,
            1.0068939596385735,
            -0.023938912935768754,
            null,
            -0.023938912935768754,
            0.007399591945404615,
            null
           ],
           "z": [
            -0.045330367267873074,
            0.0006863954477021089,
            null,
            0.0006863954477021089,
            0.0006409282122796485,
            null,
            0.0006409282122796485,
            -0.045330367267873074,
            null,
            -0.10454169684870242,
            -0.10845613385080609,
            null,
            -0.10845613385080609,
            -0.0579991256925983,
            null,
            -0.0579991256925983,
            -0.10454169684870242,
            null
           ]
          },
          {
           "i": [
            0,
            3
           ],
           "j": [
            1,
            4
           ],
           "k": [
            2,
            5
           ],
           "name": "Faces",
           "type": "mesh3d",
           "x": {
            "bdata": "iWOzJzeyo78rcLn+q7ruP5DXIhmzmJO/MYz/4kG08D83M5b+5lYAQOe9DFNHFgBA",
            "dtype": "f8"
           },
           "y": {
            "bdata": "UxwrENzkgz9cYpz6yqaDv6/ozcIFJ/A/usekQHGDmL/zUYzWCE9+P3sAM9c8HPA/",
            "dtype": "f8"
           },
           "z": {
            "bdata": "6E782n4ART8dxNy5ijWnvy4gAADnfUY/CLUXuA+yrb/5lAihPsO6v2+X8PvHw7u/",
            "dtype": "f8"
           }
          }
         ],
         "layout": {
          "annotations": [
           {
            "showarrow": false,
            "text": "Time: 0.40s (Step: 41/100)",
            "x": 0.05,
            "xref": "paper",
            "y": 0.95,
            "yref": "paper"
           }
          ]
         },
         "name": "40"
        },
        {
         "data": [
          {
           "name": "Free Nodes",
           "type": "scatter3d",
           "x": {
            "bdata": "yw5AKoKKpL/iiPCAQKzuP9c4vwYNcJS/v+DIZ0e88D8el+yzoFoAQPxUqZo1FwBA",
            "dtype": "f8"
           },
           "y": {
            "bdata": "9lxxhW3BhD9Q5WCnH3uEvwO6T7ytKPA/GvJ6IhOPmb/t8w+LgqF/P7AA83FgHfA/",
            "dtype": "f8"
           },
           "z": {
            "bdata": "gf0Cz3HbRT+khf7dZzeov81R7qI0cUc/uzxTps01r7+5AGijiwm8v6MUAS9UFb2/",
            "dtype": "f8"
           }
          },
          {
           "name": "Fixed Nodes",
           "type": "scatter3d",
           "x": [],
           "y": [],
           "z": []
          },
          {
           "name": "Edges",
           "type": "scatter3d",
           "x": [
            0.9585268514968244,
            -0.01995869020157034,
            null,
            -0.01995869020157034,
            -0.040119235665796525,
            null,
            -0.040119235665796525,
            0.9585268514968244,
            null,
            2.044251828820861,
            2.01133271054516,
            null,
            2.01133271054516,
            1.045966535004524,
            null,
            1.045966535004524,
            2.044251828820861,
            null
           ],
           "y": [
            -0.0100004647211899,
            1.0099313121714892,
            null,
            1.0099313121714892,
            0.010134559283115224,
            null,
            0.010134559283115224,
            -0.0100004647211899,
            null,
            0.007722387251303237,
            1.0071720553533332,
            null,
            1.0071720553533332,
            -0.024959849338062147,
            null,
            -0.024959849338062147,
            0.007722387251303237,
            null
           ],
           "z": [
            -0.04729771218195403,
            0.0007153994573508238,
            null,
            0.0007153994573508238,
            0.0006670289713141404,
            null,
            0.0006670289713141404,
            -0.04729771218195403,
            null,
            -0.10952065219317121,
            -0.1136067023044967,
            null,
            -0.1136067023044967,
            -0.06095736174904106,
            null,
            -0.06095736174904106,
            -0.10952065219317121,
            null
           ]
          },
          {
           "i": [
            0,
            3
           ],
           "j": [
            1,
            4
           ],
           "k": [
            2,
            5
           ],
           "name": "Faces",
           "type": "mesh3d",
           "x": {
            "bdata": "yw5AKoKKpL/iiPCAQKzuP9c4vwYNcJS/v+DIZ0e88D8el+yzoFoAQPxUqZo1FwBA",
            "dtype": "f8"
           },
           "y": {
            "bdata": "9lxxhW3BhD9Q5WCnH3uEvwO6T7ytKPA/GvJ6IhOPmb/t8w+LgqF/P7AA83FgHfA/",
            "dtype": "f8"
           },
           "z": {
            "bdata": "gf0Cz3HbRT+khf7dZzeov81R7qI0cUc/uzxTps01r7+5AGijiwm8v6MUAS9UFb2/",
            "dtype": "f8"
           }
          }
         ],
         "layout": {
          "annotations": [
           {
            "showarrow": false,
            "text": "Time: 0.41s (Step: 42/100)",
            "x": 0.05,
            "xref": "paper",
            "y": 0.95,
            "yref": "paper"
           }
          ]
         },
         "name": "41"
        },
        {
         "data": [
          {
           "name": "Free Nodes",
           "type": "scatter3d",
           "x": {
            "bdata": "hR1J9I5ipb+xN5Msz53uPzSW1ZIoR5W/B2z+zVDE8D8qeUJJWV4AQI9SkBEjGABA",
            "dtype": "f8"
           },
           "y": {
            "bdata": "8K+iOuidhT9YbdE07U6FvzwNE9VUKvA/qAPQ5D+amr/jfgzLBnqAPxp33iaCHvA/",
            "dtype": "f8"
           },
           "z": {
            "bdata": "eUQsOJ21Rj/LmrpMQDmpv/XSTnccZEg/0IJ4GclcsL9c7UPW1k+9v1vwY+LeZr6/",
            "dtype": "f8"
           }
          },
          {
           "name": "Fixed Nodes",
           "type": "scatter3d",
           "x": [],
           "y": [],
           "z": []
          },
          {
           "name": "Edges",
           "type": "scatter3d",
           "x": [
            0.9567638273817832,
            -0.020779260599189622,
            null,
            -0.020779260599189622,
            -0.04176756603242907,
            null,
            -0.04176756603242907,
            0.9567638273817832,
            null,
            2.0460687373553315,
            2.011785638062356,
            null,
            2.011785638062356,
            1.0479286238321508,
            null,
            1.0479286238321508,
            2.0460687373553315,
            null
           ],
           "y": [
            -0.010404446768169137,
            1.0103348086566504,
            null,
            1.0103348086566504,
            0.010555090226567615,
            null,
            0.010555090226567615,
            -0.010404446768169137,
            null,
            0.00804524714618488,
            1.0074483412094595,
            null,
            1.0074483412094595,
            -0.025979040470705123,
            null,
            -0.025979040470705123,
            0.00804524714618488,
            null
           ],
           "z": [
            -0.049264916769336496,
            0.0007443560594909403,
            null,
            0.0007443560594909403,
            0.0006930368111587446,
            null,
            0.0006930368111587446,
            -0.049264916769336496,
            null,
            -0.11449949961745659,
            -0.11875718142613449,
            null,
            -0.11875718142613449,
            -0.06391579505772005,
            null,
            -0.06391579505772005,
            -0.11449949961745659,
            null
           ]
          },
          {
           "i": [
            0,
            3
           ],
           "j": [
            1,
            4
           ],
           "k": [
            2,
            5
           ],
           "name": "Faces",
           "type": "mesh3d",
           "x": {
            "bdata": "hR1J9I5ipb+xN5Msz53uPzSW1ZIoR5W/B2z+zVDE8D8qeUJJWV4AQI9SkBEjGABA",
            "dtype": "f8"
           },
           "y": {
            "bdata": "8K+iOuidhT9YbdE07U6FvzwNE9VUKvA/qAPQ5D+amr/jfgzLBnqAPxp33iaCHvA/",
            "dtype": "f8"
           },
           "z": {
            "bdata": "eUQsOJ21Rj/LmrpMQDmpv/XSTnccZEg/0IJ4GclcsL9c7UPW1k+9v1vwY+LeZr6/",
            "dtype": "f8"
           }
          }
         ],
         "layout": {
          "annotations": [
           {
            "showarrow": false,
            "text": "Time: 0.42s (Step: 43/100)",
            "x": 0.05,
            "xref": "paper",
            "y": 0.95,
            "yref": "paper"
           }
          ]
         },
         "name": "42"
        },
        {
         "data": [
          {
           "name": "Free Nodes",
           "type": "scatter3d",
           "x": {
            "bdata": "G4PQl106pr/1Ck0CWI/uP4nU064FHpa/hpyrFF7M8D9XdhO/EGIAQGZiwLcPGQBA",
            "dtype": "f8"
           },
           "y": {
            "bdata": "A61mxkt6hj9JRMQbMyKGv78/3Az7K/A/UGRPBPekm78sxt1VVCOBPzz9M/WhH/A/",
            "dtype": "f8"
           },
           "z": {
            "bdata": "9xgUUvmORz8AbAPWEzuqvxrKHz6aVkk/KOa10K4esb+OKtQnIJa+v5/8IwZouL+/",
            "dtype": "f8"
           }
          },
          {
           "name": "Fixed Nodes",
           "type": "scatter3d",
           "x": [],
           "y": [],
           "z": []
          },
          {
           "name": "Edges",
           "type": "scatter3d",
           "x": [
            0.9549980206432723,
            -0.021598900600072333,
            null,
            -0.021598900600072333,
            -0.04341404417232849,
            null,
            -0.04341404417232849,
            0.9549980206432723,
            null,
            2.0478835037054455,
            2.0122370105348635,
            null,
            2.0122370105348635,
            1.049894409888823,
            null,
            1.049894409888823,
            2.0478835037054455,
            null
           ],
           "y": [
            -0.010807418141242435,
            1.0107374670369464,
            null,
            1.0107374670369464,
            0.010975448600979215,
            null,
            0.010975448600979215,
            -0.010807418141242435,
            null,
            0.008368166799956965,
            1.007722814392607,
            null,
            1.007722814392607,
            -0.02699647868925964,
            null,
            -0.02699647868925964,
            0.008368166799956965,
            null
           ],
           "z": [
            -0.051231975435904076,
            0.0007732632768678333,
            null,
            0.0007732632768678333,
            0.0007189481149516831,
            null,
            0.0007189481149516831,
            -0.051231975435904076,
            null,
            -0.11947823498136698,
            -0.12390756750027031,
            null,
            -0.12390756750027031,
            -0.06687443347427602,
            null,
            -0.06687443347427602,
            -0.11947823498136698,
            null
           ]
          },
          {
           "i": [
            0,
            3
           ],
           "j": [
            1,
            4
           ],
           "k": [
            2,
            5
           ],
           "name": "Faces",
           "type": "mesh3d",
           "x": {
            "bdata": "G4PQl106pr/1Ck0CWI/uP4nU064FHpa/hpyrFF7M8D9XdhO/EGIAQGZiwLcPGQBA",
            "dtype": "f8"
           },
           "y": {
            "bdata": "A61mxkt6hj9JRMQbMyKGv78/3Az7K/A/UGRPBPekm78sxt1VVCOBPzz9M/WhH/A/",
            "dtype": "f8"
           },
           "z": {
            "bdata": "9xgUUvmORz8AbAPWEzuqvxrKHz6aVkk/KOa10K4esb+OKtQnIJa+v5/8IwZouL+/",
            "dtype": "f8"
           }
          }
         ],
         "layout": {
          "annotations": [
           {
            "showarrow": false,
            "text": "Time: 0.43s (Step: 44/100)",
            "x": 0.05,
            "xref": "paper",
            "y": 0.95,
            "yref": "paper"
           }
          ]
         },
         "name": "43"
        },
        {
         "data": [
          {
           "name": "Free Nodes",
           "type": "scatter3d",
           "x": {
            "bdata": "jYPwJu4Rp79n9csC24DuP9zCQ0yk9Ja/WXvZOm/U8D+A2dsVx2UAQBe1OI37GQBA",
            "dtype": "f8"
           },
           "y": {
            "bdata": "NM+8v5dWhz/I0EfV8PSGv2Nvb2OgLfA/PGnp/TevnL/0zNRAqcyBP3CiMdy/IPA/",
            "dtype": "f8"
           },
           "z": {
            "bdata": "+v5mXH5nSD/w8c1J4jyrv2/e8rSpSEo/81mbGpjgsb8L11+GZ9y/v5JEIMX3hMC/",
            "dtype": "f8"
           }
          },
          {
           "name": "Fixed Nodes",
           "type": "scatter3d",
           "x": [],
           "y": [],
           "z": []
          },
          {
           "name": "Edges",
           "type": "scatter3d",
           "x": [
            0.9532294325469309,
            -0.022417609362437627,
            null,
            -0.022417609362437627,
            -0.045058672192914796,
            null,
            -0.045058672192914796,
            0.9532294325469309,
            null,
            2.049696131488588,
            2.012686827939102,
            null,
            2.012686827939102,
            1.0518638895807355,
            null,
            1.0518638895807355,
            2.049696131488588,
            null
           ],
           "y": [
            -0.011209374913029882,
            1.0111392864409587,
            null,
            1.0111392864409587,
            0.01139563135038877,
            null,
            0.01139563135038877,
            -0.011209374913029882,
            null,
            0.008691141406052406,
            1.0079954720805766,
            null,
            1.0079954720805766,
            -0.02801215636495978,
            null,
            -0.02801215636495978,
            0.008691141406052406,
            null
           ],
           "z": [
            -0.05319888258870609,
            0.0008021191259989911,
            null,
            0.0008021191259989911,
            0.000744759273224787,
            null,
            0.000744759273224787,
            -0.05319888258870609,
            null,
            -0.1244568541586341,
            -0.12905785680098752,
            null,
            -0.12905785680098752,
            -0.06983328485089384,
            null,
            -0.06983328485089384,
            -0.1244568541586341,
            null
           ]
          },
          {
           "i": [
            0,
            3
           ],
           "j": [
            1,
            4
           ],
           "k": [
            2,
            5
           ],
           "name": "Faces",
           "type": "mesh3d",
           "x": {
            "bdata": "jYPwJu4Rp79n9csC24DuP9zCQ0yk9Ja/WXvZOm/U8D+A2dsVx2UAQBe1OI37GQBA",
            "dtype": "f8"
           },
           "y": {
            "bdata": "NM+8v5dWhz/I0EfV8PSGv2Nvb2OgLfA/PGnp/TevnL/0zNRAqcyBP3CiMdy/IPA/",
            "dtype": "f8"
           },
           "z": {
            "bdata": "+v5mXH5nSD/w8c1J4jyrv2/e8rSpSEo/81mbGpjgsb8L11+GZ9y/v5JEIMX3hMC/",
            "dtype": "f8"
           }
          }
         ],
         "layout": {
          "annotations": [
           {
            "showarrow": false,
            "text": "Time: 0.44s (Step: 45/100)",
            "x": 0.05,
            "xref": "paper",
            "y": 0.95,
            "yref": "paper"
           }
          ]
         },
         "name": "44"
        },
        {
         "data": [
          {
           "name": "Free Nodes",
           "type": "scatter3d",
           "x": {
            "bdata": "XpLbs0Dpp78WTcAuWHLuPwk8y1wEy5e/nK2OP4Tc8D/4mRhOfGkAQMEA+ZHmGgBA",
            "dtype": "f8"
           },
           "y": {
            "bdata": "uX38vcsyiD8M2KLaJceHv+R6kNhEL/A/1sHTTgK5nb8ztpnnBHaCPy7tFNvbIfA/",
            "dtype": "f8"
           },
           "z": {
            "bdata": "Q4TkmiQ/ST+VyxF4qz6sv7BA8JVGOks/x4reGIWisr95th5wVpHAv5u3Vq+6LcG/",
            "dtype": "f8"
           }
          },
          {
           "name": "Fixed Nodes",
           "type": "scatter3d",
           "x": [],
           "y": [],
           "z": []
          },
          {
           "name": "Edges",
           "type": "scatter3d",
           "x": [
            0.9514580643757735,
            -0.023235386050881632,
            null,
            -0.023235386050881632,
            -0.04670145221260634,
            null,
            -0.04670145221260634,
            0.9514580643757735,
            null,
            2.0515066243417515,
            2.013135090266673,
            null,
            2.013135090266673,
            1.053837059279295,
            null,
            1.053837059279295,
            2.0515066243417515,
            null
           ],
           "y": [
            -0.011610313162560025,
            1.0115402659936814,
            null,
            1.0115402659936814,
            0.011815635428830672,
            null,
            0.011815635428830672,
            -0.011610313162560025,
            null,
            0.009014166181454097,
            1.0082663114433887,
            null,
            1.0082663114433887,
            -0.02902606588480857,
            null,
            -0.02902606588480857,
            0.009014166181454097,
            null
           ],
           "z": [
            -0.055165632635996754,
            0.000830921617195576,
            null,
            0.000830921617195576,
            0.0007704666839211189,
            null,
            0.0007704666839211189,
            -0.055165632635996754,
            null,
            -0.12943535303695677,
            -0.1342080455919444,
            null,
            -0.1342080455919444,
            -0.07279235703621643,
            null,
            -0.07279235703621643,
            -0.12943535303695677,
            null
           ]
          },
          {
           "i": [
            0,
            3
           ],
           "j": [
            1,
            4
           ],
           "k": [
            2,
            5
           ],
           "name": "Faces",
           "type": "mesh3d",
           "x": {
            "bdata": "XpLbs0Dpp78WTcAuWHLuPwk8y1wEy5e/nK2OP4Tc8D/4mRhOfGkAQMEA+ZHmGgBA",
            "dtype": "f8"
           },
           "y": {
            "bdata": "uX38vcsyiD8M2KLaJceHv+R6kNhEL/A/1sHTTgK5nb8ztpnnBHaCPy7tFNvbIfA/",
            "dtype": "f8"
           },
           "z": {
            "bdata": "Q4TkmiQ/ST+VyxF4qz6sv7BA8JVGOks/x4reGIWisr95th5wVpHAv5u3Vq+6LcG/",
            "dtype": "f8"
           }
          }
         ],
         "layout": {
          "annotations": [
           {
            "showarrow": false,
            "text": "Time: 0.45s (Step: 46/100)",
            "x": 0.05,
            "xref": "paper",
            "y": 0.95,
            "yref": "paper"
           }
          ]
         },
         "name": "45"
        },
        {
         "data": [
          {
           "name": "Free Nodes",
           "type": "scatter3d",
           "x": {
            "bdata": "ozDcUFXAqL9dytyGz2PuP1lJLNIloZi/2nXPIZ3k8D8hWkdoMG0AQLyBAcbQGwBA",
            "dtype": "f8"
           },
           "y": {
            "bdata": "NxLVWOcOiT+XwVSl0ZiIv14CA2zoMPA/weCJdFXCnr+X+aOmZh+DP1HcGvH1IvA/",
            "dtype": "f8"
           },
           "z": {
            "bdata": "P7FhVeQVSj8xVMkwb0Ctv+S42ZdsK0w/KSgx7XVks7/6ZukReDTBv8+Oqbl81sG/",
            "dtype": "f8"
           }
          },
          {
           "name": "Fixed Nodes",
           "type": "scatter3d",
           "x": [],
           "y": [],
           "z": []
          },
          {
           "name": "Edges",
           "type": "scatter3d",
           "x": [
            0.9496839174301602,
            -0.024052229836408177,
            null,
            -0.024052229836408177,
            -0.048342386360759514,
            null,
            -0.048342386360759514,
            0.9496839174301602,
            null,
            2.0533149859213755,
            2.013581797524436,
            null,
            2.013581797524436,
            1.0558139153212012,
            null,
            1.0558139153212012,
            2.0533149859213755,
            null
           ],
           "y": [
            -0.012010228975299948,
            1.0119404048165488,
            null,
            1.0119404048165488,
            0.01223545780033773,
            null,
            0.01223545780033773,
            -0.012010228975299948,
            null,
            0.009337236366715724,
            1.0085353296433548,
            null,
            1.0085353296433548,
            -0.030038199651671208,
            null,
            -0.030038199651671208,
            0.009337236366715724,
            null
           ],
           "z": [
            -0.05713221998727425,
            0.0008596687545841222,
            null,
            0.0008596687545841222,
            0.0007960667524123179,
            null,
            0.0007960667524123179,
            -0.05713221998727425,
            null,
            -0.1344137275180442,
            -0.13935813012641637,
            null,
            -0.13935813012641637,
            -0.07575165787525918,
            null,
            -0.07575165787525918,
            -0.1344137275180442,
            null
           ]
          },
          {
           "i": [
            0,
            3
           ],
           "j": [
            1,
            4
           ],
           "k": [
            2,
            5
           ],
           "name": "Faces",
           "type": "mesh3d",
           "x": {
            "bdata": "ozDcUFXAqL9dytyGz2PuP1lJLNIloZi/2nXPIZ3k8D8hWkdoMG0AQLyBAcbQGwBA",
            "dtype": "f8"
           },
           "y": {
            "bdata": "NxLVWOcOiT+XwVSl0ZiIv14CA2zoMPA/weCJdFXCnr+X+aOmZh+DP1HcGvH1IvA/",
            "dtype": "f8"
           },
           "z": {
            "bdata": "P7FhVeQVSj8xVMkwb0Ctv+S42ZdsK0w/KSgx7XVks7/6ZukReDTBv8+Oqbl81sG/",
            "dtype": "f8"
           }
          }
         ],
         "layout": {
          "annotations": [
           {
            "showarrow": false,
            "text": "Time: 0.46s (Step: 47/100)",
            "x": 0.05,
            "xref": "paper",
            "y": 0.95,
            "yref": "paper"
           }
          ]
         },
         "name": "46"
        },
        {
         "data": [
          {
           "name": "Free Nodes",
           "type": "scatter3d",
           "x": {
            "bdata": "/MpUECyXqb/mhtYLQVXuP8NGRZ4Id5m/arWd4Lns8D8KZuZk43AAQE77Uim6HABA",
            "dtype": "f8"
           },
           "y": {
            "bdata": "duVNKOrqiT9c3hWv82mJv8Fnih2LMvA/9WfN7DDLn78qlzrbzciDP2Hofx0OJPA/",
            "dtype": "f8"
           },
           "z": {
            "bdata": "eHLL17XrSj9EufFDLUKuv7W6DW4XHE0/csxAuWomtL+xp8qfmNfBv1lSB9w9f8K/",
            "dtype": "f8"
           }
          },
          {
           "name": "Fixed Nodes",
           "type": "scatter3d",
           "x": [],
           "y": [],
           "z": []
          },
          {
           "name": "Edges",
           "type": "scatter3d",
           "x": [
            0.9479069930277688,
            -0.024868139896460983,
            null,
            -0.024868139896460983,
            -0.04998147677760831,
            null,
            -0.04998147677760831,
            0.9479069930277688,
            null,
            2.0551212199031896,
            2.0140269497345917,
            null,
            2.0140269497345917,
            1.057794454008525,
            null,
            1.057794454008525,
            2.0551212199031896,
            null
           ],
           "y": [
            -0.012409118443186866,
            1.0123397020274612,
            null,
            1.0123397020274612,
            0.012655095438946811,
            null,
            0.012655095438946811,
            -0.012409118443186866,
            null,
            0.009660347225984706,
            1.0088025238351508,
            null,
            1.0088025238351508,
            -0.03104855008437109,
            null,
            -0.03104855008437109,
            0.009660347225984706,
            null
           ],
           "z": [
            -0.05909863905331972,
            0.0008883585361284171,
            null,
            0.0008883585361284171,
            0.000821555891515737,
            null,
            0.000821555891515737,
            -0.05909863905331972,
            null,
            -0.13939197351765878,
            -0.14450810664733885,
            null,
            -0.14450810664733885,
            -0.07871119520932426,
            null,
            -0.07871119520932426,
            -0.13939197351765878,
            null
           ]
          },
          {
           "i": [
            0,
            3
           ],
           "j": [
            1,
            4
           ],
           "k": [
            2,
            5
           ],
           "name": "Faces",
           "type": "mesh3d",
           "x": {
            "bdata": "/MpUECyXqb/mhtYLQVXuP8NGRZ4Id5m/arWd4Lns8D8KZuZk43AAQE77Uim6HABA",
            "dtype": "f8"
           },
           "y": {
            "bdata": "duVNKOrqiT9c3hWv82mJv8Fnih2LMvA/9WfN7DDLn78qlzrbzciDP2Hofx0OJPA/",
            "dtype": "f8"
           },
           "z": {
            "bdata": "eHLL17XrSj9EufFDLUKuv7W6DW4XHE0/csxAuWomtL+xp8qfmNfBv1lSB9w9f8K/",
            "dtype": "f8"
           }
          }
         ],
         "layout": {
          "annotations": [
           {
            "showarrow": false,
            "text": "Time: 0.47s (Step: 48/100)",
            "x": 0.05,
            "xref": "paper",
            "y": 0.95,
            "yref": "paper"
           }
          ]
         },
         "name": "47"
        },
        {
         "data": [
          {
           "name": "Free Nodes",
           "type": "scatter3d",
           "x": {
            "bdata": "0Je/BMVtqr+V/GS+rEbuP/cDEbOsTJq/3u34etr08D8DsnRElXQAQF647ruiHQBA",
            "dtype": "f8"
           },
           "y": {
            "bdata": "jVPGxNPGij99qddxizqKv0vP6ewsNPA/aEnTGsppoL92RnTjOXKEP9wEgF8kJfA/",
            "dtype": "f8"
           },
           "z": {
            "bdata": "jPsocpHASz9iEIuB5UOvv2d3ishCDE4/1uS2nmPotL8I4wQRuHrCvzbhWA7+J8O/",
            "dtype": "f8"
           }
          },
          {
           "name": "Fixed Nodes",
           "type": "scatter3d",
           "x": [],
           "y": [],
           "z": []
          },
          {
           "name": "Edges",
           "type": "scatter3d",
           "x": [
            0.9461272925035639,
            -0.02568311541495302,
            null,
            -0.02568311541495302,
            -0.05161872561420433,
            null,
            -0.05161872561420433,
            0.9461272925035639,
            null,
            2.0569253299820516,
            2.014470546934759,
            null,
            2.014470546934759,
            1.0597786716087891,
            null,
            1.0597786716087891,
            2.0569253299820516,
            null
           ],
           "y": [
            -0.012806977664656877,
            1.0127381567408118,
            null,
            1.0127381567408118,
            0.013074545328700693,
            null,
            0.013074545328700693,
            -0.012806977664656877,
            null,
            0.009983494047023127,
            1.0090678911658904,
            null,
            1.0090678911658904,
            -0.03205710961778402,
            null,
            -0.03205710961778402,
            0.009983494047023127,
            null
           ],
           "z": [
            -0.06106488424623603,
            0.0009169889536513155,
            null,
            0.0009169889536513155,
            0.0008469305215114005,
            null,
            0.0008469305215114005,
            -0.06106488424623603,
            null,
            -0.14437008696565834,
            -0.1496579713873502,
            null,
            -0.1496579713873502,
            -0.08167097687591549,
            null,
            -0.08167097687591549,
            -0.14437008696565834,
            null
           ]
          },
          {
           "i": [
            0,
            3
           ],
           "j": [
            1,
            4
           ],
           "k": [
            2,
            5
           ],
           "name": "Faces",
           "type": "mesh3d",
           "x": {
            "bdata": "0Je/BMVtqr+V/GS+rEbuP/cDEbOsTJq/3u34etr08D8DsnRElXQAQF647ruiHQBA",
            "dtype": "f8"
           },
           "y": {
            "bdata": "jVPGxNPGij99qddxizqKv0vP6ewsNPA/aEnTGsppoL92RnTjOXKEP9wEgF8kJfA/",
            "dtype": "f8"
           },
           "z": {
            "bdata": "jPsocpHASz9iEIuB5UOvv2d3ishCDE4/1uS2nmPotL8I4wQRuHrCvzbhWA7+J8O/",
            "dtype": "f8"
           }
          }
         ],
         "layout": {
          "annotations": [
           {
            "showarrow": false,
            "text": "Time: 0.48s (Step: 49/100)",
            "x": 0.05,
            "xref": "paper",
            "y": 0.95,
            "yref": "paper"
           }
          ]
         },
         "name": "48"
        },
        {
         "data": [
          {
           "name": "Free Nodes",
           "type": "scatter3d",
           "x": {
            "bdata": "I3auQCBEq7+FBEKfEjjuP1PmpgISIpu/b0Le7/788D842XEHRngAQCOM1n2KHgBA",
            "dtype": "f8"
           },
           "y": {
            "bdata": "48L1xqOiiz8NC8VnmAqLv/8f5NnNNfA/dU+yZr/toL/bozceqhuFP4ChVrY4JvA/",
            "dtype": "f8"
           },
           "z": {
            "bdata": "fiWeeG+UTD+DNszcyyKwv8/08FPq+04/dZk4v2Cqtb8MSeJc1h3Dv0h3gUi90MO/",
            "dtype": "f8"
           }
          },
          {
           "name": "Fixed Nodes",
           "type": "scatter3d",
           "x": [],
           "y": [],
           "z": []
          },
          {
           "name": "Edges",
           "type": "scatter3d",
           "x": [
            0.944344817209768,
            -0.02649715558229666,
            null,
            -0.02649715558229666,
            -0.053254135032357895,
            null,
            -0.053254135032357895,
            0.944344817209768,
            null,
            2.058727319871789,
            2.014912589178054,
            null,
            2.014912589178054,
            1.06176656435505,
            null,
            1.06176656435505,
            2.058727319871789,
            null
           ],
           "y": [
            -0.013203802744674609,
            1.0131357680675135,
            null,
            1.0131357680675135,
            0.013493804463651176,
            null,
            0.013493804463651176,
            -0.013203802744674609,
            null,
            0.01030667214122787,
            1.009331428775198,
            null,
            1.009331428775198,
            -0.0330638707029313,
            null,
            -0.0330638707029313,
            0.01030667214122787,
            null
           ],
           "z": [
            -0.06303094997948659,
            0.000945557992856694,
            null,
            0.000945557992856694,
            0.0008721870701588333,
            null,
            0.0008721870701588333,
            -0.06303094997948659,
            null,
            -0.14934806380603793,
            -0.15480772056883496,
            null,
            -0.15480772056883496,
            -0.08463101070865327,
            null,
            -0.08463101070865327,
            -0.14934806380603793,
            null
           ]
          },
          {
           "i": [
            0,
            3
           ],
           "j": [
            1,
            4
           ],
           "k": [
            2,
            5
           ],
           "name": "Faces",
           "type": "mesh3d",
           "x": {
            "bdata": "I3auQCBEq7+FBEKfEjjuP1PmpgISIpu/b0Le7/788D842XEHRngAQCOM1n2KHgBA",
            "dtype": "f8"
           },
           "y": {
            "bdata": "48L1xqOiiz8NC8VnmAqLv/8f5NnNNfA/dU+yZr/toL/bozceqhuFP4ChVrY4JvA/",
            "dtype": "f8"
           },
           "z": {
            "bdata": "fiWeeG+UTD+DNszcyyKwv8/08FPq+04/dZk4v2Cqtb8MSeJc1h3Dv0h3gUi90MO/",
            "dtype": "f8"
           }
          }
         ],
         "layout": {
          "annotations": [
           {
            "showarrow": false,
            "text": "Time: 0.49s (Step: 50/100)",
            "x": 0.05,
            "xref": "paper",
            "y": 0.95,
            "yref": "paper"
           }
          ]
         },
         "name": "49"
        },
        {
         "data": [
          {
           "name": "Free Nodes",
           "type": "scatter3d",
           "x": {
            "bdata": "esvK1j0arL/+1SmvcinuP7oLO38495u/ZnlIPicF8T9QHF6u9XsAQNPSDG9xHwBA",
            "dtype": "f8"
           },
           "y": {
            "bdata": "q6zrx1l+jD+pnEILGtqLvx4EPORtN/A/ZhpPGXhxob/ZXDvrHcWFP5SrPiFLJ/A/",
            "dtype": "f8"
           },
           "z": {
            "bdata": "I8JtQ0hnTT8p+w/eoaOwv54piLkJ608/e7VmPGJstr9B1bR688DDv3WzXoJ7ecS/",
            "dtype": "f8"
           }
          },
          {
           "name": "Fixed Nodes",
           "type": "scatter3d",
           "x": [],
           "y": [],
           "z": []
          },
          {
           "name": "Edges",
           "type": "scatter3d",
           "x": [
            0.9425595685158326,
            -0.02731025959543463,
            null,
            -0.02731025959543463,
            -0.05488770720457743,
            null,
            -0.05488770720457743,
            0.9425595685158326,
            null,
            2.0605271933050417,
            2.015353076533168,
            null,
            2.015353076533168,
            1.063758128445977,
            null,
            1.063758128445977,
            2.0605271933050417,
            null
           ],
           "y": [
            -0.013599589794763682,
            1.0135325351150253,
            null,
            1.0135325351150253,
            0.013912869847862849,
            null,
            0.013912869847862849,
            -0.013599589794763682,
            null,
            0.010629876843650287,
            1.0095931337952821,
            null,
            1.0095931337952821,
            -0.03406882580707275,
            null,
            -0.03406882580707275,
            0.010629876843650287,
            null
           ],
           "z": [
            -0.06499683066793395,
            0.0009740636333515522,
            null,
            0.0009740636333515522,
            0.0008973219727135866,
            null,
            0.0008973219727135866,
            -0.06499683066793395,
            null,
            -0.15432589999697124,
            -0.15995735040396722,
            null,
            -0.15995735040396722,
            -0.08759130453718982,
            null,
            -0.08759130453718982,
            -0.15432589999697124,
            null
           ]
          },
          {
           "i": [
            0,
            3
           ],
           "j": [
            1,
            4
           ],
           "k": [
            2,
            5
           ],
           "name": "Faces",
           "type": "mesh3d",
           "x": {
            "bdata": "esvK1j0arL/+1SmvcinuP7oLO38495u/ZnlIPicF8T9QHF6u9XsAQNPSDG9xHwBA",
            "dtype": "f8"
           },
           "y": {
            "bdata": "q6zrx1l+jD+pnEILGtqLvx4EPORtN/A/ZhpPGXhxob/ZXDvrHcWFP5SrPiFLJ/A/",
            "dtype": "f8"
           },
           "z": {
            "bdata": "I8JtQ0hnTT8p+w/eoaOwv54piLkJ608/e7VmPGJstr9B1bR688DDv3WzXoJ7ecS/",
            "dtype": "f8"
           }
          }
         ],
         "layout": {
          "annotations": [
           {
            "showarrow": false,
            "text": "Time: 0.50s (Step: 51/100)",
            "x": 0.05,
            "xref": "paper",
            "y": 0.95,
            "yref": "paper"
           }
          ]
         },
         "name": "50"
        },
        {
         "data": [
          {
           "name": "Free Nodes",
           "type": "scatter3d",
           "x": {
            "bdata": "Y2LV2R3wrL9kBdvuzBruP6VrHhsgzJy/kP0vZVMN8T//X7o5pH8AQFNylI9XIABA",
            "dtype": "f8"
           },
           "y": {
            "bdata": "/6EPYfVZjT+S6u7WD6mMv5/pswsNOfA/1egY8vP0ob9EXAarlG6GPzePcp9bKPA/",
            "dtype": "f8"
           },
           "z": {
            "bdata": "6ur7LhQ5Tj9dfpWsdCSxv8AMoE/ObFA/Wo/dN2gut79bVNZhD2TEv9GdyLM4IsW/",
            "dtype": "f8"
           }
          },
          {
           "name": "Fixed Nodes",
           "type": "scatter3d",
           "x": [],
           "y": [],
           "z": []
          },
          {
           "name": "Edges",
           "type": "scatter3d",
           "x": [
            0.9407715478084069,
            -0.028122426657869366,
            null,
            -0.028122426657869366,
            -0.056519444314010035,
            null,
            -0.056519444314010035,
            0.9407715478084069,
            null,
            2.0623249540331012,
            2.015792009084444,
            null,
            2.015792009084444,
            1.0657533600459352,
            null,
            1.0657533600459352,
            2.0623249540331012,
            null
           ],
           "y": [
            -0.013994334933035622,
            1.0139284569873792,
            null,
            1.0139284569873792,
            0.014331738495415356,
            null,
            0.014331738495415356,
            -0.013994334933035622,
            null,
            0.010953103513015823,
            1.0098530033510096,
            null,
            1.0098530033510096,
            -0.03507196741380062,
            null,
            -0.03507196741380062,
            0.010953103513015823,
            null
           ],
           "z": [
            -0.0669625207278783,
            0.0010025038486681098,
            null,
            0.0010025038486681098,
            0.0009223316719436357,
            null,
            0.0009223316719436357,
            -0.0669625207278783,
            null,
            -0.15930359151085124,
            -0.1651068570947545,
            null,
            -0.1651068570947545,
            -0.09055186618712466,
            null,
            -0.09055186618712466,
            -0.15930359151085124,
            null
           ]
          },
          {
           "i": [
            0,
            3
           ],
           "j": [
            1,
            4
           ],
           "k": [
            2,
            5
           ],
           "name": "Faces",
           "type": "mesh3d",
           "x": {
            "bdata": "Y2LV2R3wrL9kBdvuzBruP6VrHhsgzJy/kP0vZVMN8T//X7o5pH8AQFNylI9XIABA",
            "dtype": "f8"
           },
           "y": {
            "bdata": "/6EPYfVZjT+S6u7WD6mMv5/pswsNOfA/1egY8vP0ob9EXAarlG6GPzePcp9bKPA/",
            "dtype": "f8"
           },
           "z": {
            "bdata": "6ur7LhQ5Tj9dfpWsdCSxv8AMoE/ObFA/Wo/dN2gut79bVNZhD2TEv9GdyLM4IsW/",
            "dtype": "f8"
           }
          }
         ],
         "layout": {
          "annotations": [
           {
            "showarrow": false,
            "text": "Time: 0.51s (Step: 52/100)",
            "x": 0.05,
            "xref": "paper",
            "y": 0.95,
            "yref": "paper"
           }
          ]
         },
         "name": "51"
        },
        {
         "data": [
          {
           "name": "Free Nodes",
           "type": "scatter3d",
           "x": {
            "bdata": "P0mmXMDFrb8xgxZfIQzuP3/4vsjIoJ2/q9+KY4MV8T+nKwiqUYMAQOLacN88IQBA",
            "dtype": "f8"
           },
           "y": {
            "bdata": "O1IhLHY1jj+CtaJFeXeNv6QCDlCrOvA/6xajsDJ4or/08e++DRiHP6s4LDBqKfA/",
            "dtype": "f8"
           },
           "z": {
            "bdata": "tknQm8sJTz/VB2MwRKWxv5N62lPP41A/DPE003Lwt7/vaagJKgfFv8qtkdT0ysW/",
            "dtype": "f8"
           }
          },
          {
           "name": "Fixed Nodes",
           "type": "scatter3d",
           "x": [],
           "y": [],
           "z": []
          },
          {
           "name": "Edges",
           "type": "scatter3d",
           "x": [
            0.9389807564913096,
            -0.02893365597969266,
            null,
            -0.02893365597969266,
            -0.05814934855438247,
            null,
            -0.05814934855438247,
            0.9389807564913096,
            null,
            2.0641206058257526,
            2.016229386931955,
            null,
            2.016229386931955,
            1.0677522552850671,
            null,
            1.0677522552850671,
            2.0641206058257526,
            null
           ],
           "y": [
            -0.01438803428421909,
            1.0143235327852063,
            null,
            1.0143235327852063,
            0.014750407430406223,
            null,
            0.014750407430406223,
            -0.01438803428421909,
            null,
            0.01127634753174165,
            1.0101110345599789,
            null,
            1.0101110345599789,
            -0.036073288023130555,
            null,
            -0.036073288023130555,
            0.01127634753174165,
            null
           ],
           "z": [
            -0.06892801457709592,
            0.0010308766062860116,
            null,
            0.0010308766062860116,
            0.0009472126181456128,
            null,
            0.0009472126181456128,
            -0.06892801457709592,
            null,
            -0.16428113433433064,
            -0.1702562368330816,
            null,
            -0.1702562368330816,
            -0.0935127034799203,
            null,
            -0.0935127034799203,
            -0.16428113433433064,
            null
           ]
          },
          {
           "i": [
            0,
            3
           ],
           "j": [
            1,
            4
           ],
           "k": [
            2,
            5
           ],
           "name": "Faces",
           "type": "mesh3d",
           "x": {
            "bdata": "P0mmXMDFrb8xgxZfIQzuP3/4vsjIoJ2/q9+KY4MV8T+nKwiqUYMAQOLacN88IQBA",
            "dtype": "f8"
           },
           "y": {
            "bdata": "O1IhLHY1jj+CtaJFeXeNv6QCDlCrOvA/6xajsDJ4or/08e++DRiHP6s4LDBqKfA/",
            "dtype": "f8"
           },
           "z": {
            "bdata": "tknQm8sJTz/VB2MwRKWxv5N62lPP41A/DPE003Lwt7/vaagJKgfFv8qtkdT0ysW/",
            "dtype": "f8"
           }
          }
         ],
         "layout": {
          "annotations": [
           {
            "showarrow": false,
            "text": "Time: 0.52s (Step: 53/100)",
            "x": 0.05,
            "xref": "paper",
            "y": 0.95,
            "yref": "paper"
           }
          ]
         },
         "name": "52"
        },
        {
         "data": [
          {
           "name": "Free Nodes",
           "type": "scatter3d",
           "x": {
            "bdata": "LLAsciWbrr/jmp8AcP3tP8nBp3oydZ6/29dMOLcd8T/xp8n//YYAQMUHpl4hIgBA",
            "dtype": "f8"
           },
           "y": {
            "bdata": "5ZA4w9sQjz8vNnHSVUWOv/hFDLFIPPA/NVKlFDT7or8T+h+JiMGHP6QVpdJ2KvA/",
            "dtype": "f8"
           },
           "z": {
            "bdata": "w1aY7mbZTz+HiYBRECayv88fGbmFWlE/bQAAMIKyuL8LlpRpQ6rFv2PQhtyvc8a/",
            "dtype": "f8"
           }
          },
          {
           "name": "Fixed Nodes",
           "type": "scatter3d",
           "x": [],
           "y": [],
           "z": []
          },
          {
           "name": "Edges",
           "type": "scatter3d",
           "x": [
            0.9371871959854982,
            -0.02974394677761597,
            null,
            -0.02974394677761597,
            -0.05977742212994061,
            null,
            -0.05977742212994061,
            0.9371871959854982,
            null,
            2.0659141524711164,
            2.016665210191578,
            null,
            2.016665210191578,
            1.0697548102593746,
            null,
            1.0697548102593746,
            2.0659141524711164,
            null
           ],
           "y": [
            -0.014780683979689872,
            1.0147177616057643,
            null,
            1.0147177616057643,
            0.015168873686953474,
            null,
            0.015168873686953474,
            -0.014780683979689872,
            null,
            0.011599604305954114,
            1.0103672245325948,
            null,
            1.0103672245325948,
            -0.03707278015159369,
            null,
            -0.03707278015159369,
            0.011599604305954114,
            null
           ],
           "z": [
            -0.07089330663487746,
            0.001059179867654681,
            null,
            0.001059179867654681,
            0.000971961269160736,
            null,
            0.000971961269160736,
            -0.07089330663487746,
            null,
            -0.16925852446836162,
            -0.17540548580075485,
            null,
            -0.17540548580075485,
            -0.09647382423281821,
            null,
            -0.09647382423281821,
            -0.16925852446836162,
            null
           ]
          },
          {
           "i": [
            0,
            3
           ],
           "j": [
            1,
            4
           ],
           "k": [
            2,
            5
           ],
           "name": "Faces",
           "type": "mesh3d",
           "x": {
            "bdata": "LLAsciWbrr/jmp8AcP3tP8nBp3oydZ6/29dMOLcd8T/xp8n//YYAQMUHpl4hIgBA",
            "dtype": "f8"
           },
           "y": {
            "bdata": "5ZA4w9sQjz8vNnHSVUWOv/hFDLFIPPA/NVKlFDT7or8T+h+JiMGHP6QVpdJ2KvA/",
            "dtype": "f8"
           },
           "z": {
            "bdata": "w1aY7mbZTz+HiYBRECayv88fGbmFWlE/bQAAMIKyuL8LlpRpQ6rFv2PQhtyvc8a/",
            "dtype": "f8"
           }
          }
         ],
         "layout": {
          "annotations": [
           {
            "showarrow": false,
            "text": "Time: 0.53s (Step: 54/100)",
            "x": 0.05,
            "xref": "paper",
            "y": 0.95,
            "yref": "paper"
           }
          ]
         },
         "name": "53"
        },
        {
         "data": [
          {
           "name": "Free Nodes",
           "type": "scatter3d",
           "x": {
            "bdata": "/MduLU1wr7/u8TvUuO7tP3MUgSNdSZ+/HUdn4u4l8T9nnYE7qYoAQPN/OA0FIwBA",
            "dtype": "f8"
           },
           "y": {
            "bdata": "zlnFwCXsjz9FXaj4pBKPv4RvcC7lPfA/bc373fd9o79yBY9sBGuIP5YWFoaBK/A/",
            "dtype": "f8"
           },
           "z": {
            "bdata": "A8oUSO9TUD9rqvf32Kayv4D5Wk3v0FE/pCfNb5Z0ub/BOgx5W03Gv3dub8NpHMe/",
            "dtype": "f8"
           }
          },
          {
           "name": "Fixed Nodes",
           "type": "scatter3d",
           "x": [],
           "y": [],
           "z": []
          },
          {
           "name": "Edges",
           "type": "scatter3d",
           "x": [
            0.9353908677290386,
            -0.03055329827499915,
            null,
            -0.03055329827499915,
            -0.06140366725539079,
            null,
            -0.06140366725539079,
            0.9353908677290386,
            null,
            2.0677055977754892,
            2.0170994789950725,
            null,
            2.0170994789950725,
            1.0717610210308017,
            null,
            1.0717610210308017,
            2.0677055977754892,
            null
           ],
           "y": [
            -0.015172280157499283,
            1.0151111425429642,
            null,
            1.0151111425429642,
            0.015587134309197472,
            null,
            0.015587134309197472,
            -0.015172280157499283,
            null,
            0.01192286926550665,
            1.0106215703721424,
            null,
            1.0106215703721424,
            -0.03807043633232863,
            null,
            -0.03807043633232863,
            0.01192286926550665,
            null
           ],
           "z": [
            -0.0728583913220661,
            0.0010874115882156532,
            null,
            0.0010874115882156532,
            0.000996574090390668,
            null,
            0.000996574090390668,
            -0.0728583913220661,
            null,
            -0.17423575792823523,
            -0.18055460016954658,
            null,
            -0.18055460016954658,
            -0.099435236258755,
            null,
            -0.099435236258755,
            -0.17423575792823523,
            null
           ]
          },
          {
           "i": [
            0,
            3
           ],
           "j": [
            1,
            4
           ],
           "k": [
            2,
            5
           ],
           "name": "Faces",
           "type": "mesh3d",
           "x": {
            "bdata": "/MduLU1wr7/u8TvUuO7tP3MUgSNdSZ+/HUdn4u4l8T9nnYE7qYoAQPN/OA0FIwBA",
            "dtype": "f8"
           },
           "y": {
            "bdata": "zlnFwCXsjz9FXaj4pBKPv4RvcC7lPfA/bc373fd9o79yBY9sBGuIP5YWFoaBK/A/",
            "dtype": "f8"
           },
           "z": {
            "bdata": "A8oUSO9TUD9rqvf32Kayv4D5Wk3v0FE/pCfNb5Z0ub/BOgx5W03Gv3dub8NpHMe/",
            "dtype": "f8"
           }
          }
         ],
         "layout": {
          "annotations": [
           {
            "showarrow": false,
            "text": "Time: 0.54s (Step: 55/100)",
            "x": 0.05,
            "xref": "paper",
            "y": 0.95,
            "yref": "paper"
           }
          ]
         },
         "name": "54"
        },
        {
         "data": [
          {
           "name": "Free Nodes",
           "type": "scatter3d",
           "x": {
            "bdata": "idDE0JsisL+uhrPa+9/tP5pNCFukDqC/uzjJYCou8T8Tc7NdU44AQL1WLevnIwBA",
            "dtype": "f8"
           },
           "y": {
            "bdata": "0urH36ljkD91E9EzZt+Pv8gA/MeAP/A//HKnzH0ApL9yewbNgBSJPwWwt0mKLPA/",
            "dtype": "f8"
           },
           "z": {
            "bdata": "meDBdpW6UD8z0dMLniezvyrU+dwJR1I/nv0ltK82ur+goYgvcvDGvwFzDYEixce/",
            "dtype": "f8"
           }
          },
          {
           "name": "Fixed Nodes",
           "type": "scatter3d",
           "x": [],
           "y": [],
           "z": []
          },
          {
           "name": "Edges",
           "type": "scatter3d",
           "x": [
            0.9335917731770758,
            -0.031361709701879195,
            null,
            -0.031361709701879195,
            -0.06302808615584089,
            null,
            -0.06302808615584089,
            0.9335917731770758,
            null,
            2.069494945563187,
            2.0175321934901533,
            null,
            2.0175321934901533,
            1.0737708836273174,
            null,
            1.0737708836273174,
            2.069494945563187,
            null
           ],
           "y": [
            -0.015562818962402617,
            1.0155036746873964,
            null,
            1.0155036746873964,
            0.016005186351302943,
            null,
            0.016005186351302943,
            -0.015562818962402617,
            null,
            0.012246137863994842,
            1.0108740691748619,
            null,
            1.0108740691748619,
            -0.039066249115171175,
            null,
            -0.039066249115171175,
            0.012246137863994842,
            null
           ],
           "z": [
            -0.0748232630610957,
            0.0011155697174250003,
            null,
            0.0011155697174250003,
            0.0010210475548131702,
            null,
            0.0010210475548131702,
            -0.0748232630610957,
            null,
            -0.17921283074362027,
            -0.1857035761012398,
            null,
            -0.1857035761012398,
            -0.10239694736627888,
            null,
            -0.10239694736627888,
            -0.17921283074362027,
            null
           ]
          },
          {
           "i": [
            0,
            3
           ],
           "j": [
            1,
            4
           ],
           "k": [
            2,
            5
           ],
           "name": "Faces",
           "type": "mesh3d",
           "x": {
            "bdata": "idDE0JsisL+uhrPa+9/tP5pNCFukDqC/uzjJYCou8T8Tc7NdU44AQL1WLevnIwBA",
            "dtype": "f8"
           },
           "y": {
            "bdata": "0urH36ljkD91E9EzZt+Pv8gA/MeAP/A//HKnzH0ApL9yewbNgBSJPwWwt0mKLPA/",
            "dtype": "f8"
           },
           "z": {
            "bdata": "meDBdpW6UD8z0dMLniezvyrU+dwJR1I/nv0ltK82ur+goYgvcvDGvwFzDYEixce/",
            "dtype": "f8"
           }
          }
         ],
         "layout": {
          "annotations": [
           {
            "showarrow": false,
            "text": "Time: 0.55s (Step: 56/100)",
            "x": 0.05,
            "xref": "paper",
            "y": 0.95,
            "yref": "paper"
           }
          ]
         },
         "name": "55"
        },
        {
         "data": [
          {
           "name": "Free Nodes",
           "type": "scatter3d",
           "x": {
            "bdata": "hITYcPKMsL9Wr9AUOdHtP5vAnJJ6eKC/y2Nfsmk28T8YLeNm/JEAQHUsivjJJABA",
            "dtype": "f8"
           },
           "y": {
            "bdata": "NjBcrTLRkD8tv9d/zFWQv1hBcH0bQfA/zBfOoMWCpL/bvSAP/b2JP9XbwRyRLfA/",
            "dtype": "f8"
           },
           "z": {
            "bdata": "aoHpO6IgUT/6LiJ1X6izv1DkqzLTvFI/oS6PHs74ur8XAYuEh5PHv25RHQ3abci/",
            "dtype": "f8"
           }
          },
          {
           "name": "Fixed Nodes",
           "type": "scatter3d",
           "x": [],
           "y": [],
           "z": []
          },
          {
           "name": "Edges",
           "type": "scatter3d",
           "x": [
            0.9317899138018031,
            -0.03216918029500101,
            null,
            -0.03216918029500101,
            -0.06465068106673938,
            null,
            -0.06465068106673938,
            0.9317899138018031,
            null,
            2.0712821996763857,
            2.017963353840566,
            null,
            2.017963353840566,
            1.0757843940430003,
            null,
            1.0757843940430003,
            2.0712821996763857,
            null
           ],
           "y": [
            -0.015952296545889744,
            1.0158953571263591,
            null,
            1.0158953571263591,
            0.016423026877461853,
            null,
            0.016423026877461853,
            -0.015952296545889744,
            null,
            0.012569405578772333,
            1.011124718030023,
            null,
            1.011124718030023,
            -0.040060211066744594,
            null,
            -0.040060211066744594,
            0.012569405578772333,
            null
           ],
           "z": [
            -0.07678791627602868,
            0.001143652198776008,
            null,
            0.001143652198776008,
            0.0010453781429974004,
            null,
            0.0010453781429974004,
            -0.07678791627602868,
            null,
            -0.18418973895860155,
            -0.1908524097476731,
            null,
            -0.1908524097476731,
            -0.10535896535946644,
            null,
            -0.10535896535946644,
            -0.18418973895860155,
            null
           ]
          },
          {
           "i": [
            0,
            3
           ],
           "j": [
            1,
            4
           ],
           "k": [
            2,
            5
           ],
           "name": "Faces",
           "type": "mesh3d",
           "x": {
            "bdata": "hITYcPKMsL9Wr9AUOdHtP5vAnJJ6eKC/y2Nfsmk28T8YLeNm/JEAQHUsivjJJABA",
            "dtype": "f8"
           },
           "y": {
            "bdata": "NjBcrTLRkD8tv9d/zFWQv1hBcH0bQfA/zBfOoMWCpL/bvSAP/b2JP9XbwRyRLfA/",
            "dtype": "f8"
           },
           "z": {
            "bdata": "aoHpO6IgUT/6LiJ1X6izv1DkqzLTvFI/oS6PHs74ur8XAYuEh5PHv25RHQ3abci/",
            "dtype": "f8"
           }
          }
         ],
         "layout": {
          "annotations": [
           {
            "showarrow": false,
            "text": "Time: 0.56s (Step: 57/100)",
            "x": 0.05,
            "xref": "paper",
            "y": 0.95,
            "yref": "paper"
           }
          ]
         },
         "name": "56"
        },
        {
         "data": [
          {
           "name": "Free Nodes",
           "type": "scatter3d",
           "x": {
            "bdata": "WbWXgCr3sL/bGGCDcMLtP7lH/jEx4qC/oiwU1qw+8T9Pa5VXpJUAQBgvVTWrJQBA",
            "dtype": "f8"
           },
           "y": {
            "bdata": "esXbFq0+kT9SnSFsnruQv0s/jk61QvA/Wq66Gs8Epb9SS0mYeGeKP50abP6VLvA/",
            "dtype": "f8"
           },
           "z": {
            "bdata": "2gY50hGGUT/qyfEbHSm0vw5ahRdJMlM/5WSI0PG6u7/MgZxvmzbIv/0LVl+QFsm/",
            "dtype": "f8"
           }
          },
          {
           "name": "Fixed Nodes",
           "type": "scatter3d",
           "x": [],
           "y": [],
           "z": []
          },
          {
           "name": "Edges",
           "type": "scatter3d",
           "x": [
            0.9299852910924317,
            -0.0329757092978435,
            null,
            -0.0329757092978435,
            -0.06627145423381843,
            null,
            -0.06627145423381843,
            0.9299852910924317,
            null,
            2.0730673639749635,
            2.018392960226162,
            null,
            2.018392960226162,
            1.0778015482381211,
            null,
            1.0778015482381211,
            2.0730673639749635,
            null
           ],
           "y": [
            -0.01634070906621094,
            1.0162861889438826,
            null,
            1.0162861889438826,
            0.016840652961894055,
            null,
            0.016840652961894055,
            -0.01634070906621094,
            null,
            0.012892667910966136,
            1.01137351402,
            null,
            1.01137351402,
            -0.04105231477055034,
            null,
            -0.04105231477055034,
            0.012892667910966136,
            null
           ],
           "z": [
            -0.07875234539259393,
            0.0011716569698215803,
            null,
            0.0011716569698215803,
            0.0010695623431193264,
            null,
            0.0010695623431193264,
            -0.07875234539259393,
            null,
            -0.18916647863171787,
            -0.19600109725078588,
            null,
            -0.19600109725078588,
            -0.10832129803783948,
            null,
            -0.10832129803783948,
            -0.18916647863171787,
            null
           ]
          },
          {
           "i": [
            0,
            3
           ],
           "j": [
            1,
            4
           ],
           "k": [
            2,
            5
           ],
           "name": "Faces",
           "type": "mesh3d",
           "x": {
            "bdata": "WbWXgCr3sL/bGGCDcMLtP7lH/jEx4qC/oiwU1qw+8T9Pa5VXpJUAQBgvVTWrJQBA",
            "dtype": "f8"
           },
           "y": {
            "bdata": "esXbFq0+kT9SnSFsnruQv0s/jk61QvA/Wq66Gs8Epb9SS0mYeGeKP50abP6VLvA/",
            "dtype": "f8"
           },
           "z": {
            "bdata": "2gY50hGGUT/qyfEbHSm0vw5ahRdJMlM/5WSI0PG6u7/MgZxvmzbIv/0LVl+QFsm/",
            "dtype": "f8"
           }
          }
         ],
         "layout": {
          "annotations": [
           {
            "showarrow": false,
            "text": "Time: 0.57s (Step: 58/100)",
            "x": 0.05,
            "xref": "paper",
            "y": 0.95,
            "yref": "paper"
           }
          ]
         },
         "name": "57"
        },
        {
         "data": [
          {
           "name": "Free Nodes",
           "type": "scatter3d",
           "x": {
            "bdata": "5NWyCURhsb/qxTAnorPtPxAovDLIS6G/U6bPyvNG8T/lZ08wS5kAQO8alaGLJgBA",
            "dtype": "f8"
           },
           "y": {
            "bdata": "iQ8v6hiskT930eOcKCGRv8PPFjtORPA//3fd+pmGpb993bzO8hCLP/R07e2YL/A/",
            "dtype": "f8"
           },
           "z": {
            "bdata": "4R92duDqUT/ih1Po1qm0vyj++VJpp1M/TDGM6xp9vL/fQ07ordnIvxw6aW9Fv8m/",
            "dtype": "f8"
           }
          },
          {
           "name": "Fixed Nodes",
           "type": "scatter3d",
           "x": [],
           "y": [],
           "z": []
          },
          {
           "name": "Edges",
           "type": "scatter3d",
           "x": [
            0.9281779065551607,
            -0.03378129596065105,
            null,
            -0.03378129596065105,
            -0.06789040791303297,
            null,
            -0.06789040791303297,
            0.9281779065551607,
            null,
            2.0748504423363436,
            2.0188210128429698,
            null,
            2.0188210128429698,
            1.079822342139228,
            null,
            1.079822342139228,
            2.0748504423363436,
            null
           ],
           "y": [
            -0.016728052688408348,
            1.0166761692207593,
            null,
            1.0166761692207593,
            0.017258061688849167,
            null,
            0.017258061688849167,
            -0.016728052688408348,
            null,
            0.013215920385490016,
            1.0116204542203464,
            null,
            1.0116204542203464,
            -0.042042552827055595,
            null,
            -0.042042552827055595,
            0.013215920385490016,
            null
           ],
           "z": [
            -0.08071654483822457,
            0.001199581962197169,
            null,
            0.001199581962197169,
            0.0010935966509766292,
            null,
            0.0010935966509766292,
            -0.08071654483822457,
            null,
            -0.19414304583599937,
            -0.20114963474266367,
            null,
            -0.20114963474266367,
            -0.11128395319628231,
            null,
            -0.11128395319628231,
            -0.19414304583599937,
            null
           ]
          },
          {
           "i": [
            0,
            3
           ],
           "j": [
            1,
            4
           ],
           "k": [
            2,
            5
           ],
           "name": "Faces",
           "type": "mesh3d",
           "x": {
            "bdata": "5NWyCURhsb/qxTAnorPtPxAovDLIS6G/U6bPyvNG8T/lZ08wS5kAQO8alaGLJgBA",
            "dtype": "f8"
           },
           "y": {
            "bdata": "iQ8v6hiskT930eOcKCGRv8PPFjtORPA//3fd+pmGpb993bzO8hCLP/R07e2YL/A/",
            "dtype": "f8"
           },
           "z": {
            "bdata": "4R92duDqUT/ih1Po1qm0vyj++VJpp1M/TDGM6xp9vL/fQ07ordnIvxw6aW9Fv8m/",
            "dtype": "f8"
           }
          }
         ],
         "layout": {
          "annotations": [
           {
            "showarrow": false,
            "text": "Time: 0.58s (Step: 59/100)",
            "x": 0.05,
            "xref": "paper",
            "y": 0.95,
            "yref": "paper"
           }
          ]
         },
         "name": "58"
        },
        {
         "data": [
          {
           "name": "Free Nodes",
           "type": "scatter3d",
           "x": {
            "bdata": "TIblFT/Lsb/NDRQBzqTtP+aVdI4/taG/KZR3jz5P8T/39Zbx8JwAQDg7UT1rJwBA",
            "dtype": "f8"
           },
           "y": {
            "bdata": "vpFq9XUZkj+wBFrQaoaRv1ePykLmRfA/MTjMASYIpr8/iIkZa7qLP858fOqZMPA/",
            "dtype": "f8"
           },
           "z": {
            "bdata": "Dt5/ZwpPUj8HOVrCjCq1v2LI3qoxHFQ/HPQPkUk/vb8bZDnmvnzJv90OAzX5Z8q/",
            "dtype": "f8"
           }
          },
          {
           "name": "Fixed Nodes",
           "type": "scatter3d",
           "x": [],
           "y": [],
           "z": []
          },
          {
           "name": "Edges",
           "type": "scatter3d",
           "x": [
            0.9263677617131464,
            -0.03458593954045934,
            null,
            -0.03458593954045934,
            -0.06950754437050327,
            null,
            -0.06950754437050327,
            0.9263677617131464,
            null,
            2.0766314386553364,
            2.01924751190327,
            null,
            2.01924751190327,
            1.0818467716392297,
            null,
            1.0818467716392297,
            2.0766314386553364,
            null
           ],
           "y": [
            -0.017114323584341562,
            1.017065297034568,
            null,
            1.017065297034568,
            0.017675250152608284,
            null,
            0.017675250152608284,
            -0.017114323584341562,
            null,
            0.01353915855105836,
            1.0118655356998718,
            null,
            1.0118655356998718,
            -0.04303091785378433,
            null,
            -0.04303091785378433,
            0.01353915855105836,
            null
           ],
           "z": [
            -0.08268050904209555,
            0.0012274251016433303,
            null,
            0.0012274251016433303,
            0.0011174775700036918,
            null,
            0.0011174775700036918,
            -0.08268050904209555,
            null,
            -0.19911943665900442,
            -0.20629801834558395,
            null,
            -0.20629801834558395,
            -0.1142469386249591,
            null,
            -0.1142469386249591,
            -0.19911943665900442,
            null
           ]
          },
          {
           "i": [
            0,
            3
           ],
           "j": [
            1,
            4
           ],
           "k": [
            2,
            5
           ],
           "name": "Faces",
           "type": "mesh3d",
           "x": {
            "bdata": "TIblFT/Lsb/NDRQBzqTtP+aVdI4/taG/KZR3jz5P8T/39Zbx8JwAQDg7UT1rJwBA",
            "dtype": "f8"
           },
           "y": {
            "bdata": "vpFq9XUZkj+wBFrQaoaRv1ePykLmRfA/MTjMASYIpr8/iIkZa7qLP858fOqZMPA/",
            "dtype": "f8"
           },
           "z": {
            "bdata": "Dt5/ZwpPUj8HOVrCjCq1v2LI3qoxHFQ/HPQPkUk/vb8bZDnmvnzJv90OAzX5Z8q/",
            "dtype": "f8"
           }
          }
         ],
         "layout": {
          "annotations": [
           {
            "showarrow": false,
            "text": "Time: 0.59s (Step: 60/100)",
            "x": 0.05,
            "xref": "paper",
            "y": 0.95,
            "yref": "paper"
           }
          ]
         },
         "name": "59"
        },
        {
         "data": [
          {
           "name": "Free Nodes",
           "type": "scatter3d",
           "x": {
            "bdata": "DoP2rhs1sr9bm90R9JXtP7TF1D6XHqK/KGvvIo1X8T8wgPKblaAAQMVqkQhKKABA",
            "dtype": "f8"
           },
           "y": {
            "bdata": "Ae/OBsSGkj/7/d3EZOuRv5fiaWV9R/A//WRC8HKJpr+Z1o7g4GOMP8ZOT/OYMfA/",
            "dtype": "f8"
           },
           "z": {
            "bdata": "6rtP5ouyUj9ZohqSPqu1v0p+a+OfkFQ/3sWD4n0Bvr8ZAf9gzh/Kv2NfyqerEMu/",
            "dtype": "f8"
           }
          },
          {
           "name": "Fixed Nodes",
           "type": "scatter3d",
           "x": [],
           "y": [],
           "z": []
          },
          {
           "name": "Edges",
           "type": "scatter3d",
           "x": [
            0.9245548581064712,
            -0.035389639301125625,
            null,
            -0.035389639301125625,
            -0.07112286588245473,
            null,
            -0.07112286588245473,
            0.9245548581064712,
            null,
            2.078410356843982,
            2.0196724576356666,
            null,
            2.0196724576356666,
            1.0838748325974823,
            null,
            1.0838748325974823,
            2.078410356843982,
            null
           ],
           "y": [
            -0.01749951793271796,
            1.0174535714597022,
            null,
            1.0174535714597022,
            0.018092215457484965,
            null,
            0.018092215457484965,
            -0.01749951793271796,
            null,
            0.013862377980199002,
            1.0121087555207153,
            null,
            1.0121087555207153,
            -0.0440174024854034,
            null,
            -0.0440174024854034,
            0.013862377980199002,
            null
           ],
           "z": [
            -0.08464423243516118,
            0.00125518430802875,
            null,
            0.00125518430802875,
            0.0011412016112861642,
            null,
            0.0011412016112861642,
            -0.08464423243516118,
            null,
            -0.20409564720285614,
            -0.2114462441720618,
            null,
            -0.2114462441720618,
            -0.11721026210923166,
            null,
            -0.11721026210923166,
            -0.20409564720285614,
            null
           ]
          },
          {
           "i": [
            0,
            3
           ],
           "j": [
            1,
            4
           ],
           "k": [
            2,
            5
           ],
           "name": "Faces",
           "type": "mesh3d",
           "x": {
            "bdata": "DoP2rhs1sr9bm90R9JXtP7TF1D6XHqK/KGvvIo1X8T8wgPKblaAAQMVqkQhKKABA",
            "dtype": "f8"
           },
           "y": {
            "bdata": "Ae/OBsSGkj/7/d3EZOuRv5fiaWV9R/A//WRC8HKJpr+Z1o7g4GOMP8ZOT/OYMfA/",
            "dtype": "f8"
           },
           "z": {
            "bdata": "6rtP5ouyUj9ZohqSPqu1v0p+a+OfkFQ/3sWD4n0Bvr8ZAf9gzh/Kv2NfyqerEMu/",
            "dtype": "f8"
           }
          }
         ],
         "layout": {
          "annotations": [
           {
            "showarrow": false,
            "text": "Time: 0.60s (Step: 61/100)",
            "x": 0.05,
            "xref": "paper",
            "y": 0.95,
            "yref": "paper"
           }
          ]
         },
         "name": "60"
        },
        {
         "data": [
          {
           "name": "Free Nodes",
           "type": "scatter3d",
           "x": {
            "bdata": "l5S33tmesr/fa2NaFIftP1f7mD3Ph6K/jlMYhN9f8T9oB+kvOaQAQKAUXgMoKQBA",
            "dtype": "f8"
           },
           "y": {
            "bdata": "Y+rI7AL0kj+WwOc4FlCSv4T2tKITSfA/+Vghh4AKp7+r5X2MUw2NP3aTmweWMvA/",
            "dtype": "f8"
           },
           "z": {
            "bdata": "s6L6NWEVUz84iKs/7Cu2v6ROPL+xBFU/QWBSAbjDvr9NQEhQ3MLKv2KpYL9cucu/",
            "dtype": "f8"
           }
          },
          {
           "name": "Fixed Nodes",
           "type": "scatter3d",
           "x": [],
           "y": [],
           "z": []
          },
          {
           "name": "Edges",
           "type": "scatter3d",
           "x": [
            0.9227391972921132,
            -0.0361923945133557,
            null,
            -0.0361923945133557,
            -0.07273637473515958,
            null,
            -0.07273637473515958,
            0.9227391972921132,
            null,
            2.080187200831393,
            2.020095850285159,
            null,
            2.020095850285159,
            1.0859065208398735,
            null,
            1.0859065208398735,
            2.080187200831393,
            null
           ],
           "y": [
            -0.017883631919119646,
            1.0178409915673976,
            null,
            1.0178409915673976,
            0.018508954717825776,
            null,
            0.018508954717825776,
            -0.017883631919119646,
            null,
            0.014185574269265219,
            1.012350110738422,
            null,
            1.012350110738422,
            -0.04500199937381128,
            null,
            -0.04500199937381128,
            0.014185574269265219,
            null
           ],
           "z": [
            -0.08660770945019258,
            0.001282857495373082,
            null,
            0.001282857495373082,
            0.0011647652935754926,
            null,
            0.0011647652935754926,
            -0.08660770945019258,
            null,
            -0.20907167358427828,
            -0.21659430832489607,
            null,
            -0.21659430832489607,
            -0.12017393142957734,
            null,
            -0.12017393142957734,
            -0.20907167358427828,
            null
           ]
          },
          {
           "i": [
            0,
            3
           ],
           "j": [
            1,
            4
           ],
           "k": [
            2,
            5
           ],
           "name": "Faces",
           "type": "mesh3d",
           "x": {
            "bdata": "l5S33tmesr/fa2NaFIftP1f7mD3Ph6K/jlMYhN9f8T9oB+kvOaQAQKAUXgMoKQBA",
            "dtype": "f8"
           },
           "y": {
            "bdata": "Y+rI7AL0kj+WwOc4FlCSv4T2tKITSfA/+Vghh4AKp7+r5X2MUw2NP3aTmweWMvA/",
            "dtype": "f8"
           },
           "z": {
            "bdata": "s6L6NWEVUz84iKs/7Cu2v6ROPL+xBFU/QWBSAbjDvr9NQEhQ3MLKv2KpYL9cucu/",
            "dtype": "f8"
           }
          }
         ],
         "layout": {
          "annotations": [
           {
            "showarrow": false,
            "text": "Time: 0.61s (Step: 62/100)",
            "x": 0.05,
            "xref": "paper",
            "y": 0.95,
            "yref": "paper"
           }
          ]
         },
         "name": "61"
        },
        {
         "data": [
          {
           "name": "Free Nodes",
           "type": "scatter3d",
           "x": {
            "bdata": "7n4Fr3kIs78Hzn3bLnjtP6OZjITn8KK/VCrRsTVo8T8/IQKu26cAQKw0wC0FKgBA",
            "dtype": "f8"
           },
           "y": {
            "bdata": "MWnxdTJhkz8oqw3rfrSSvwPBa/qoSvA/lIRwh06Lp78HftmGwraNP9CAliaRM/A/",
            "dtype": "f8"
           },
           "z": {
            "bdata": "HO2xm4Z3Uz/nuCWzlay2v2VvU/9keFU/FQfhDviFv78EU8ar6GXLv6YZYnMMYsy/",
            "dtype": "f8"
           }
          },
          {
           "name": "Fixed Nodes",
           "type": "scatter3d",
           "x": [],
           "y": [],
           "z": []
          },
          {
           "name": "Edges",
           "type": "scatter3d",
           "x": [
            0.9209207808439154,
            -0.03699420445473158,
            null,
            -0.03699420445473158,
            -0.07434807322487888,
            null,
            -0.07434807322487888,
            0.9209207808439154,
            null,
            2.081961974563597,
            2.0205176901132145,
            null,
            2.0205176901132145,
            1.0879418321589087,
            null,
            1.0879418321589087,
            2.081961974563597,
            null
           ],
           "y": [
            -0.018266661736031115,
            1.0182275564257572,
            null,
            1.0182275564257572,
            0.01892546505801213,
            null,
            0.01892546505801213,
            -0.018266661736031115,
            null,
            0.01450874303844697,
            1.0125895984020197,
            null,
            1.0125895984020197,
            -0.045984701188225646,
            null,
            -0.045984701188225646,
            0.01450874303844697,
            null
           ],
           "z": [
            -0.08857093452181496,
            0.0013104425718699294,
            null,
            0.0013104425718699294,
            0.001188165143303283,
            null,
            0.001188165143303283,
            -0.08857093452181496,
            null,
            -0.21404751193463067,
            -0.22174220689721585,
            null,
            -0.22174220689721585,
            -0.12313795436150728,
            null,
            -0.12313795436150728,
            -0.21404751193463067,
            null
           ]
          },
          {
           "i": [
            0,
            3
           ],
           "j": [
            1,
            4
           ],
           "k": [
            2,
            5
           ],
           "name": "Faces",
           "type": "mesh3d",
           "x": {
            "bdata": "7n4Fr3kIs78Hzn3bLnjtP6OZjITn8KK/VCrRsTVo8T8/IQKu26cAQKw0wC0FKgBA",
            "dtype": "f8"
           },
           "y": {
            "bdata": "MWnxdTJhkz8oqw3rfrSSvwPBa/qoSvA/lIRwh06Lp78HftmGwraNP9CAliaRM/A/",
            "dtype": "f8"
           },
           "z": {
            "bdata": "HO2xm4Z3Uz/nuCWzlay2v2VvU/9keFU/FQfhDviFv78EU8ar6GXLv6YZYnMMYsy/",
            "dtype": "f8"
           }
          }
         ],
         "layout": {
          "annotations": [
           {
            "showarrow": false,
            "text": "Time: 0.62s (Step: 63/100)",
            "x": 0.05,
            "xref": "paper",
            "y": 0.95,
            "yref": "paper"
           }
          ]
         },
         "name": "62"
        },
        {
         "data": [
          {
           "name": "Free Nodes",
           "type": "scatter3d",
           "x": {
            "bdata": "5vDHKftxs7/KYAeWQ2ntP2Ayig3gWaO/r4L2qo9w8T/B9sUWfasAQEJYwYfhKgBA",
            "dtype": "f8"
           },
           "y": {
            "bdata": "lXINcVLOkz/jlwSanhiTv2ABTmw9TPA/cJ5dstwLqL/zLPY5LWCOP2/bdE+KNPA/",
            "dtype": "f8"
           },
           "z": {
            "bdata": "zWPEXvjYUz8BF6TUOi23v7u+GmO361U/qbhHFh8kwL9VezJr8wjMv5ySZbu6Cs2/",
            "dtype": "f8"
           }
          },
          {
           "name": "Fixed Nodes",
           "type": "scatter3d",
           "x": [],
           "y": [],
           "z": []
          },
          {
           "name": "Edges",
           "type": "scatter3d",
           "x": [
            0.9190996103525546,
            -0.037795068409739896,
            null,
            -0.037795068409739896,
            -0.0759579636578028,
            null,
            -0.0759579636578028,
            0.9190996103525546,
            null,
            2.083734682003382,
            2.0209379773978364,
            null,
            2.0209379773978364,
            1.0899807623137965,
            null,
            1.0899807623137965,
            2.083734682003382,
            null
           ],
           "y": [
            -0.018648603582867806,
            1.0186132650997806,
            null,
            1.0186132650997806,
            0.019341743612459956,
            null,
            0.019341743612459956,
            -0.018648603582867806,
            null,
            0.014831879931782121,
            1.0128272155540932,
            null,
            1.0128272155540932,
            -0.04696550061526927,
            null,
            -0.04696550061526927,
            0.014831879931782121,
            null
           ],
           "z": [
            -0.09053390208654478,
            0.0013379374399099936,
            null,
            0.0013379374399099936,
            0.0012113976945953176,
            null,
            0.0012113976945953176,
            -0.09053390208654478,
            null,
            -0.21902315839994438,
            -0.22688993597252682,
            null,
            -0.22688993597252682,
            -0.12610233867548473,
            null,
            -0.12610233867548473,
            -0.21902315839994438,
            null
           ]
          },
          {
           "i": [
            0,
            3
           ],
           "j": [
            1,
            4
           ],
           "k": [
            2,
            5
           ],
           "name": "Faces",
           "type": "mesh3d",
           "x": {
            "bdata": "5vDHKftxs7/KYAeWQ2ntP2Ayig3gWaO/r4L2qo9w8T/B9sUWfasAQEJYwYfhKgBA",
            "dtype": "f8"
           },
           "y": {
            "bdata": "lXINcVLOkz/jlwSanhiTv2ABTmw9TPA/cJ5dstwLqL/zLPY5LWCOP2/bdE+KNPA/",
            "dtype": "f8"
           },
           "z": {
            "bdata": "zWPEXvjYUz8BF6TUOi23v7u+GmO361U/qbhHFh8kwL9VezJr8wjMv5ySZbu6Cs2/",
            "dtype": "f8"
           }
          }
         ],
         "layout": {
          "annotations": [
           {
            "showarrow": false,
            "text": "Time: 0.63s (Step: 64/100)",
            "x": 0.05,
            "xref": "paper",
            "y": 0.95,
            "yref": "paper"
           }
          ]
         },
         "name": "63"
        },
        {
         "data": [
          {
           "name": "Free Nodes",
           "type": "scatter3d",
           "x": {
            "bdata": "z3PxWF7bs79UEt2KUlrtP6yVe9K4wqO/nKdibu148T8AQ71qHa8AQNKeaxG9KwBA",
            "dtype": "f8"
           },
           "y": {
            "bdata": "YzEOrWI7lD9k+58EdXyTv8JAG/jQTfA/gdQ8ySqMqL+9WvoQkwmPP/L3aoGBNfA/",
            "dtype": "f8"
           },
           "z": {
            "bdata": "VTmfyLI5VD/to0OM2623v9VjZaimXlY/INnbPUWFwL/0EE6G/KvMv+uy/I5ns82/",
            "dtype": "f8"
           }
          },
          {
           "name": "Fixed Nodes",
           "type": "scatter3d",
           "x": [],
           "y": [],
           "z": []
          },
          {
           "name": "Edges",
           "type": "scatter3d",
           "x": [
            0.9172756874255108,
            -0.038594985669799214,
            null,
            -0.038594985669799214,
            -0.07756604834999269,
            null,
            -0.07756604834999269,
            0.9172756874255108,
            null,
            2.085505327130136,
            2.0213567124336373,
            null,
            2.0213567124336373,
            1.0920233070305363,
            null,
            1.0920233070305363,
            2.085505327130136,
            null
           ],
           "y": [
            -0.019029453666003518,
            1.0189981166513893,
            null,
            1.0189981166513893,
            0.019757787525621306,
            null,
            0.019757787525621306,
            -0.019029453666003518,
            null,
            0.015154980617166353,
            1.013062959230862,
            null,
            1.013062959230862,
            -0.047944390359057294,
            null,
            -0.047944390359057294,
            0.015154980617166353,
            null
           ],
           "z": [
            -0.09249660658282695,
            0.0013653399961042108,
            null,
            0.0013653399961042108,
            0.0012344594892855405,
            null,
            0.0012344594892855405,
            -0.09249660658282695,
            null,
            -0.22399860914095593,
            -0.23203749162475815,
            null,
            -0.23203749162475815,
            -0.12906709213684397,
            null,
            -0.12906709213684397,
            -0.22399860914095593,
            null
           ]
          },
          {
           "i": [
            0,
            3
           ],
           "j": [
            1,
            4
           ],
           "k": [
            2,
            5
           ],
           "name": "Faces",
           "type": "mesh3d",
           "x": {
            "bdata": "z3PxWF7bs79UEt2KUlrtP6yVe9K4wqO/nKdibu148T8AQ71qHa8AQNKeaxG9KwBA",
            "dtype": "f8"
           },
           "y": {
            "bdata": "YzEOrWI7lD9k+58EdXyTv8JAG/jQTfA/gdQ8ySqMqL+9WvoQkwmPP/L3aoGBNfA/",
            "dtype": "f8"
           },
           "z": {
            "bdata": "VTmfyLI5VD/to0OM2623v9VjZaimXlY/INnbPUWFwL/0EE6G/KvMv+uy/I5ns82/",
            "dtype": "f8"
           }
          }
         ],
         "layout": {
          "annotations": [
           {
            "showarrow": false,
            "text": "Time: 0.64s (Step: 65/100)",
            "x": 0.05,
            "xref": "paper",
            "y": 0.95,
            "yref": "paper"
           }
          ]
         },
         "name": "64"
        },
        {
         "data": [
          {
           "name": "Free Nodes",
           "type": "scatter3d",
           "x": {
            "bdata": "EVt/RqNEtL/lHt66W0vtP73gWc1xK6S/YZ3t+k6B8T+4UXGqvLIAQH26ycqXLABA",
            "dtype": "f8"
           },
           "y": {
            "bdata": "PPMQ+WKolD9dAtLpAeCTv6bSkp1jT/A/j/uIjTgMqb8HX95387KPP1C8rLt2NvA/",
            "dtype": "f8"
           },
           "z": {
            "bdata": "DALPJLKZVD9AiiPCdy64v3BvcYsw0VY/URHXjm7mwL8HhuL0A0/Nvwzcs+USXM6/",
            "dtype": "f8"
           }
          },
          {
           "name": "Fixed Nodes",
           "type": "scatter3d",
           "x": [],
           "y": [],
           "z": []
          },
          {
           "name": "Edges",
           "type": "scatter3d",
           "x": [
            0.9154490136870349,
            -0.039393955533286264,
            null,
            -0.039393955533286264,
            -0.0791723296273228,
            null,
            -0.0791723296273228,
            0.9154490136870349,
            null,
            2.0872739139396934,
            2.0217738955319065,
            null,
            2.0217738955319065,
            1.0940694620020042,
            null,
            1.0940694620020042,
            2.0872739139396934,
            null
           ],
           "y": [
            -0.019409208198796758,
            1.0193821101394547,
            null,
            1.0193821101394547,
            0.02017359395198358,
            null,
            0.02017359395198358,
            -0.019409208198796758,
            null,
            0.01547804078636218,
            1.0132968264622555,
            null,
            1.0132968264622555,
            -0.048921363141281586,
            null,
            -0.048921363141281586,
            0.01547804078636218,
            null
           ],
           "z": [
            -0.09445904245107162,
            0.001392648131306875,
            null,
            0.001392648131306875,
            0.0012573470769298182,
            null,
            0.0012573470769298182,
            -0.09445904245107162,
            null,
            -0.22897386033314168,
            -0.23718486991830934,
            null,
            -0.23718486991830934,
            -0.13203222250570915,
            null,
            -0.13203222250570915,
            -0.22897386033314168,
            null
           ]
          },
          {
           "i": [
            0,
            3
           ],
           "j": [
            1,
            4
           ],
           "k": [
            2,
            5
           ],
           "name": "Faces",
           "type": "mesh3d",
           "x": {
            "bdata": "EVt/RqNEtL/lHt66W0vtP73gWc1xK6S/YZ3t+k6B8T+4UXGqvLIAQH26ycqXLABA",
            "dtype": "f8"
           },
           "y": {
            "bdata": "PPMQ+WKolD9dAtLpAeCTv6bSkp1jT/A/j/uIjTgMqb8HX95387KPP1C8rLt2NvA/",
            "dtype": "f8"
           },
           "z": {
            "bdata": "DALPJLKZVD9AiiPCdy64v3BvcYsw0VY/URHXjm7mwL8HhuL0A0/Nvwzcs+USXM6/",
            "dtype": "f8"
           }
          }
         ],
         "layout": {
          "annotations": [
           {
            "showarrow": false,
            "text": "Time: 0.65s (Step: 66/100)",
            "x": 0.05,
            "xref": "paper",
            "y": 0.95,
            "yref": "paper"
           }
          ]
         },
         "name": "65"
        },
        {
         "data": [
          {
           "name": "Free Nodes",
           "type": "scatter3d",
           "x": {
            "bdata": "oLN5/MmttL/DD+wmXzztPwaOLfgKlKS/GSNtT7SJ8T/q/WvWWrYAQLTw5rNxLQBA",
            "dtype": "f8"
           },
           "y": {
            "bdata": "wylfJFMVlT85sqsIRUOUv1vVc1z1UPA/PMDjwAWMqb/2SrbtJi6QPzahbf1pN/A/",
            "dtype": "f8"
           },
           "z": {
            "bdata": "racAwfL4VD8kKGVeD6+4v1SC6cZSQ1c//KTgGZtHwb/Wa8GuCfLNv/c4Ere8BM+/",
            "dtype": "f8"
           }
          },
          {
           "name": "Fixed Nodes",
           "type": "scatter3d",
           "x": [],
           "y": [],
           "z": []
          },
          {
           "name": "Edges",
           "type": "scatter3d",
           "x": [
            0.9136195907781189,
            -0.040191977305564605,
            null,
            -0.040191977305564605,
            -0.08077680982542157,
            null,
            -0.08077680982542157,
            0.9136195907781189,
            null,
            2.0890404464441774,
            2.0221895270206804,
            null,
            2.0221895270206804,
            1.0961192228880405,
            null,
            1.0961192228880405,
            2.0890404464441774,
            null
           ],
           "y": [
            -0.01978786340161973,
            1.019765244619825,
            null,
            1.019765244619825,
            0.020589160056070598,
            null,
            0.020589160056070598,
            -0.01978786340161973,
            null,
            0.01580105615500834,
            1.0135288142719907,
            null,
            1.0135288142719907,
            -0.049896411701297855,
            null,
            -0.049896411701297855,
            0.01580105615500834,
            null
           ],
           "z": [
            -0.09642120413369121,
            0.0014198597306390908,
            null,
            0.0014198597306390908,
            0.001280057014819462,
            null,
            0.001280057014819462,
            -0.09642120413369121,
            null,
            -0.23394890816675112,
            -0.2423320669080977,
            null,
            -0.2423320669080977,
            -0.13499773753691346,
            null,
            -0.13499773753691346,
            -0.23394890816675112,
            null
           ]
          },
          {
           "i": [
            0,
            3
           ],
           "j": [
            1,
            4
           ],
           "k": [
            2,
            5
           ],
           "name": "Faces",
           "type": "mesh3d",
           "x": {
            "bdata": "oLN5/MmttL/DD+wmXzztPwaOLfgKlKS/GSNtT7SJ8T/q/WvWWrYAQLTw5rNxLQBA",
            "dtype": "f8"
           },
           "y": {
            "bdata": "wylfJFMVlT85sqsIRUOUv1vVc1z1UPA/PMDjwAWMqb/2SrbtJi6QPzahbf1pN/A/",
            "dtype": "f8"
           },
           "z": {
            "bdata": "racAwfL4VD8kKGVeD6+4v1SC6cZSQ1c//KTgGZtHwb/Wa8GuCfLNv/c4Ere8BM+/",
            "dtype": "f8"
           }
          }
         ],
         "layout": {
          "annotations": [
           {
            "showarrow": false,
            "text": "Time: 0.66s (Step: 67/100)",
            "x": 0.05,
            "xref": "paper",
            "y": 0.95,
            "yref": "paper"
           }
          ]
         },
         "name": "66"
        },
        {
         "data": [
          {
           "name": "Free Nodes",
           "type": "scatter3d",
           "x": {
            "bdata": "vTPzhNIWtb8XuurPXC3tP5KDDk2E/KS/O7S0ah2S8T+EsDfv97kAQM4az8xKLgBA",
            "dtype": "f8"
           },
           "y": {
            "bdata": "2Glu/jKClT8CBl0gPqaUv3kyfTSGUvA/ktUVJZILqr/YuKDU0IKQP1iz4EVbOPA/",
            "dtype": "f8"
           },
           "z": {
            "bdata": "LVsC7XBXVT+qGSxJoi+5v8xv5hMLtVc/6uOc78qowb9+d8SrDZXOv8bEmfpkrc+/",
            "dtype": "f8"
           }
          },
          {
           "name": "Fixed Nodes",
           "type": "scatter3d",
           "x": [],
           "y": [],
           "z": []
          },
          {
           "name": "Edges",
           "type": "scatter3d",
           "x": [
            0.9117874203564637,
            -0.040989050299010135,
            null,
            -0.040989050299010135,
            -0.08237949128961382,
            null,
            -0.08237949128961382,
            0.9117874203564637,
            null,
            2.0908049286718455,
            2.02260360724481,
            null,
            2.02260360724481,
            1.098172585315537,
            null,
            1.098172585315537,
            2.0908049286718455,
            null
           ],
           "y": [
            -0.020165415501884006,
            1.0201475191453524,
            null,
            1.0201475191453524,
            0.021004483012441927,
            null,
            0.021004483012441927,
            -0.020165415501884006,
            null,
            0.016124022462627646,
            1.013758919677647,
            null,
            1.013758919677647,
            -0.05086952879620833,
            null,
            -0.05086952879620833,
            0.016124022462627646,
            null
           ],
           "z": [
            -0.09838308607513704,
            0.0014469726735120035,
            null,
            0.0014469726735120035,
            0.0013025858679946531,
            null,
            0.0013025858679946531,
            -0.09838308607513704,
            null,
            -0.23892374884684026,
            -0.24747907863960544,
            null,
            -0.24747907863960544,
            -0.1379636449799187,
            null,
            -0.1379636449799187,
            -0.23892374884684026,
            null
           ]
          },
          {
           "i": [
            0,
            3
           ],
           "j": [
            1,
            4
           ],
           "k": [
            2,
            5
           ],
           "name": "Faces",
           "type": "mesh3d",
           "x": {
            "bdata": "vTPzhNIWtb8XuurPXC3tP5KDDk2E/KS/O7S0ah2S8T+EsDfv97kAQM4az8xKLgBA",
            "dtype": "f8"
           },
           "y": {
            "bdata": "2Glu/jKClT8CBl0gPqaUv3kyfTSGUvA/ktUVJZILqr/YuKDU0IKQP1iz4EVbOPA/",
            "dtype": "f8"
           },
           "z": {
            "bdata": "LVsC7XBXVT+qGSxJoi+5v8xv5hMLtVc/6uOc78qowb9+d8SrDZXOv8bEmfpkrc+/",
            "dtype": "f8"
           }
          }
         ],
         "layout": {
          "annotations": [
           {
            "showarrow": false,
            "text": "Time: 0.67s (Step: 68/100)",
            "x": 0.05,
            "xref": "paper",
            "y": 0.95,
            "yref": "paper"
           }
          ]
         },
         "name": "67"
        },
        {
         "data": [
          {
           "name": "Free Nodes",
           "type": "scatter3d",
           "x": {
            "bdata": "byoJ6rx/tb/WPcC2VB7tP6IiJMbdZKW/J4qVS4qa8T/7Xl/1k70AQKamjhUjLwBA",
            "dtype": "f8"
           },
           "y": {
            "bdata": "vmvgVgLvlT8KDjXw7AiVv2GfbSUWVPA/syUPfN2Kqr8NxuUnd9eQP9OUOJRKOfA/",
            "dtype": "f8"
           },
           "z": {
            "bdata": "hoHE+ii1VT8eQ55qMLC5v9Hl8ClXJlg/oR6tIP4Jwr9+hs3jDzjPv7qo49MFK9C/",
            "dtype": "f8"
           }
          },
          {
           "name": "Fixed Nodes",
           "type": "scatter3d",
           "x": [],
           "y": [],
           "z": []
          },
          {
           "name": "Edges",
           "type": "scatter3d",
           "x": [
            0.9099525040964476,
            -0.04178517383303883,
            null,
            -0.04178517383303883,
            -0.0839803763748621,
            null,
            -0.0839803763748621,
            0.9099525040964476,
            null,
            2.0925673646669316,
            2.0230161365660306,
            null,
            2.0230161365660306,
            1.1002295448785249,
            null,
            1.1002295448785249,
            2.0925673646669316,
            null
           ],
           "y": [
            -0.02054186073406864,
            1.0205289327659204,
            null,
            1.0205289327659204,
            0.021419560005693,
            null,
            0.021419560005693,
            -0.02054186073406864,
            null,
            0.016446935472634695,
            1.0139871396907452,
            null,
            1.0139871396907452,
            -0.051840707200948265,
            null,
            -0.051840707200948265,
            0.016446935472634695,
            null
           ],
           "z": [
            -0.10034468272193606,
            0.0014739848336503445,
            null,
            0.0014739848336503445,
            0.0013249302092575867,
            null,
            0.0013249302092575867,
            -0.10034468272193606,
            null,
            -0.24389837859330393,
            -0.2526259011489277,
            null,
            -0.2526259011489277,
            -0.1409299525787349,
            null,
            -0.1409299525787349,
            -0.24389837859330393,
            null
           ]
          },
          {
           "i": [
            0,
            3
           ],
           "j": [
            1,
            4
           ],
           "k": [
            2,
            5
           ],
           "name": "Faces",
           "type": "mesh3d",
           "x": {
            "bdata": "byoJ6rx/tb/WPcC2VB7tP6IiJMbdZKW/J4qVS4qa8T/7Xl/1k70AQKamjhUjLwBA",
            "dtype": "f8"
           },
           "y": {
            "bdata": "vmvgVgLvlT8KDjXw7AiVv2GfbSUWVPA/syUPfN2Kqr8NxuUnd9eQP9OUOJRKOfA/",
            "dtype": "f8"
           },
           "z": {
            "bdata": "hoHE+ii1VT8eQ55qMLC5v9Hl8ClXJlg/oR6tIP4Jwr9+hs3jDzjPv7qo49MFK9C/",
            "dtype": "f8"
           }
          }
         ],
         "layout": {
          "annotations": [
           {
            "showarrow": false,
            "text": "Time: 0.68s (Step: 69/100)",
            "x": 0.05,
            "xref": "paper",
            "y": 0.95,
            "yref": "paper"
           }
          ]
         },
         "name": "68"
        },
        {
         "data": [
          {
           "name": "Free Nodes",
           "type": "scatter3d",
           "x": {
            "bdata": "RW/jNYnotb+kBFXcRg/tP11WpV0XzaW/tp3e8Pqi8T/viW7pLsEAQC+XMo76LwBA",
            "dtype": "f8"
           },
           "y": {
            "bdata": "VAuD/cBblj+gDaI3UWuVv7CdAy+lVfA/KADnh+cJq7862iWfGSyRP4V+p+c3OvA/",
            "dtype": "f8"
           },
           "z": {
            "bdata": "vJ5aPhcSVj9N2+OquTC6v7wTA780l1g/JJuvvTRrwr9Co8ZOENvPv0lHCVtYf9C/",
            "dtype": "f8"
           }
          },
          {
           "name": "Fixed Nodes",
           "type": "scatter3d",
           "x": [],
           "y": [],
           "z": []
          },
          {
           "name": "Edges",
           "type": "scatter3d",
           "x": [
            0.9081148436890953,
            -0.04258034723413282,
            null,
            -0.04258034723413282,
            -0.08557946744570895,
            null,
            -0.08557946744570895,
            0.9081148436890953,
            null,
            2.094327758489491,
            2.023427115363027,
            null,
            2.023427115363027,
            1.1022900971382632,
            null,
            1.1022900971382632,
            2.094327758489491,
            null
           ],
           "y": [
            -0.020917195339746564,
            1.0209094845284703,
            null,
            1.0209094845284703,
            0.021834388230455318,
            null,
            0.021834388230455318,
            -0.020917195339746564,
            null,
            0.01676979097234208,
            1.014213471316823,
            null,
            1.014213471316823,
            -0.05280993970836817,
            null,
            -0.05280993970836817,
            0.01676979097234208,
            null
           ],
           "z": [
            -0.10230598852272728,
            0.0015008940791158961,
            null,
            0.0015008940791158961,
            0.0013470866191855188,
            null,
            0.0013470866191855188,
            -0.10230598852272728,
            null,
            -0.24887279364090814,
            -0.25777253046282006,
            null,
            -0.25777253046282006,
            -0.14389666807184043,
            null,
            -0.14389666807184043,
            -0.24887279364090814,
            null
           ]
          },
          {
           "i": [
            0,
            3
           ],
           "j": [
            1,
            4
           ],
           "k": [
            2,
            5
           ],
           "name": "Faces",
           "type": "mesh3d",
           "x": {
            "bdata": "RW/jNYnotb+kBFXcRg/tP11WpV0XzaW/tp3e8Pqi8T/viW7pLsEAQC+XMo76LwBA",
            "dtype": "f8"
           },
           "y": {
            "bdata": "VAuD/cBblj+gDaI3UWuVv7CdAy+lVfA/KADnh+cJq7862iWfGSyRP4V+p+c3OvA/",
            "dtype": "f8"
           },
           "z": {
            "bdata": "vJ5aPhcSVj9N2+OquTC6v7wTA780l1g/JJuvvTRrwr9Co8ZOENvPv0lHCVtYf9C/",
            "dtype": "f8"
           }
          }
         ],
         "layout": {
          "annotations": [
           {
            "showarrow": false,
            "text": "Time: 0.69s (Step: 70/100)",
            "x": 0.05,
            "xref": "paper",
            "y": 0.95,
            "yref": "paper"
           }
          ]
         },
         "name": "69"
        },
        {
         "data": [
          {
           "name": "Free Nodes",
           "type": "scatter3d",
           "x": {
            "bdata": "KFK0cjdRtr+4wJNBMwDtP2ai2A0xNaa/xahcWW+r8T/OO/HLyMQAQA2FyDbRMABA",
            "dtype": "f8"
           },
           "y": {
            "bdata": "S0ZQwm7Ilj+1mDG2as2Vv797/VAzV/A/8kjcCrCIq79Wf2ryt4CRP2ZBXz8jO/A/",
            "dtype": "f8"
           },
           "z": {
            "bdata": "5j38DThuVj/GdSfyPbG6v1BSioehB1k/tok/127Mwr/NBFFyBz/QvwYIdw6q09C/",
            "dtype": "f8"
           }
          },
          {
           "name": "Fixed Nodes",
           "type": "scatter3d",
           "x": [],
           "y": [],
           "z": []
          },
          {
           "name": "Edges",
           "type": "scatter3d",
           "x": [
            0.9062744408420462,
            -0.043374569835866336,
            null,
            -0.043374569835866336,
            -0.08717676687621945,
            null,
            -0.08717676687621945,
            0.9062744408420462,
            null,
            2.096086114215246,
            2.0238365440315023,
            null,
            2.0238365440315023,
            1.1043542376233273,
            null,
            1.1043542376233273,
            2.096086114215246,
            null
           ],
           "y": [
            -0.0212914155676109,
            1.0212891734770293,
            null,
            1.0212891734770293,
            0.022248964891394867,
            null,
            0.022248964891394867,
            -0.0212914155676109,
            null,
            0.017092584772967122,
            1.0144379115555124,
            null,
            1.0144379115555124,
            -0.05377721912931745,
            null,
            -0.05377721912931745,
            0.017092584772967122,
            null
           ],
           "z": [
            -0.10426699792829827,
            0.0015276982723310302,
            null,
            0.0015276982723310302,
            0.0013690516861436463,
            null,
            0.0013690516861436463,
            -0.10426699792829827,
            null,
            -0.2538469902393217,
            -0.2629189625987468,
            null,
            -0.2629189625987468,
            -0.14686379919210218,
            null,
            -0.14686379919210218,
            -0.2538469902393217,
            null
           ]
          },
          {
           "i": [
            0,
            3
           ],
           "j": [
            1,
            4
           ],
           "k": [
            2,
            5
           ],
           "name": "Faces",
           "type": "mesh3d",
           "x": {
            "bdata": "KFK0cjdRtr+4wJNBMwDtP2ai2A0xNaa/xahcWW+r8T/OO/HLyMQAQA2FyDbRMABA",
            "dtype": "f8"
           },
           "y": {
            "bdata": "S0ZQwm7Ilj+1mDG2as2Vv797/VAzV/A/8kjcCrCIq79Wf2ryt4CRP2ZBXz8jO/A/",
            "dtype": "f8"
           },
           "z": {
            "bdata": "5j38DThuVj/GdSfyPbG6v1BSioehB1k/tok/127Mwr/NBFFyBz/QvwYIdw6q09C/",
            "dtype": "f8"
           }
          }
         ],
         "layout": {
          "annotations": [
           {
            "showarrow": false,
            "text": "Time: 0.70s (Step: 71/100)",
            "x": 0.05,
            "xref": "paper",
            "y": 0.95,
            "yref": "paper"
           }
          ]
         },
         "name": "70"
        },
        {
         "data": [
          {
           "name": "Free Nodes",
           "type": "scatter3d",
           "x": {
            "bdata": "zoq4qse5tr++a2nnGfHsPwsyFNEqnaa/xyfag+ez8T92B3SdYcgAQCmfXg+nMQBA",
            "dtype": "f8"
           },
           "y": {
            "bdata": "gTxudQs1lz+7spArOS+Wvx1VGYvAWPA/TqdVxzYHrL/sZybaUdWRP+ZHkZoMPPA/",
            "dtype": "f8"
           },
           "z": {
            "bdata": "XNMFwofJVj8SDZYovTG7v13PaDabd1k/qvn0fawtw7+PFa3OhZDQv3yq4+n6J9G/",
            "dtype": "f8"
           }
          },
          {
           "name": "Fixed Nodes",
           "type": "scatter3d",
           "x": [],
           "y": [],
           "z": []
          },
          {
           "name": "Edges",
           "type": "scatter3d",
           "x": [
            0.9044312972795223,
            -0.044167840978932636,
            null,
            -0.044167840978932636,
            -0.08877227704992238,
            null,
            -0.08877227704992238,
            0.9044312972795223,
            null,
            2.097842435935429,
            2.024244422984243,
            null,
            2.024244422984243,
            1.1064219618296975,
            null,
            1.1064219618296975,
            2.097842435935429,
            null
           ],
           "y": [
            -0.021664517673502397,
            1.0216679986527375,
            null,
            1.0216679986527375,
            0.022663287203212427,
            null,
            0.022663287203212427,
            -0.021664517673502397,
            null,
            0.017415312709637407,
            1.0146604574006175,
            null,
            1.0146604574006175,
            -0.05474253829272745,
            null,
            -0.05474253829272745,
            0.017415312709637407,
            null
           ],
           "z": [
            -0.10622770539162144,
            0.0015543952701024468,
            null,
            0.0015543952701024468,
            0.0013908220062976628,
            null,
            0.0013908220062976628,
            -0.10622770539162144,
            null,
            -0.2588209646531476,
            -0.2680651935649292,
            null,
            -0.2680651935649292,
            -0.14983135366669603,
            null,
            -0.14983135366669603,
            -0.2588209646531476,
            null
           ]
          },
          {
           "i": [
            0,
            3
           ],
           "j": [
            1,
            4
           ],
           "k": [
            2,
            5
           ],
           "name": "Faces",
           "type": "mesh3d",
           "x": {
            "bdata": "zoq4qse5tr++a2nnGfHsPwsyFNEqnaa/xyfag+ez8T92B3SdYcgAQCmfXg+nMQBA",
            "dtype": "f8"
           },
           "y": {
            "bdata": "gTxudQs1lz+7spArOS+Wvx1VGYvAWPA/TqdVxzYHrL/sZybaUdWRP+ZHkZoMPPA/",
            "dtype": "f8"
           },
           "z": {
            "bdata": "XNMFwofJVj8SDZYovTG7v13PaDabd1k/qvn0fawtw7+PFa3OhZDQv3yq4+n6J9G/",
            "dtype": "f8"
           }
          }
         ],
         "layout": {
          "annotations": [
           {
            "showarrow": false,
            "text": "Time: 0.71s (Step: 72/100)",
            "x": 0.05,
            "xref": "paper",
            "y": 0.95,
            "yref": "paper"
           }
          ]
         },
         "name": "71"
        },
        {
         "data": [
          {
           "name": "Free Nodes",
           "type": "scatter3d",
           "x": {
            "bdata": "rCg36Dkit7+3RcXO+uHsP3bmvaEEBae/Vlsfb2O88T/VBoRe+csAQEerAxh8MgBA",
            "dtype": "f8"
           },
           "y": {
            "bdata": "hy4v55ahlz+J64tXvJCWvwcTFd1MWvA/OLThf3uFrL93dDUP5ymSP0uXbvjzPPA/",
            "dtype": "f8"
           },
           "z": {
            "bdata": "tp75tAIkVz/iDF82N7K7v4c393wf51k/Pc5kwu2Ow7/A2Xg4A+LQvzNnA+lKfNG/",
            "dtype": "f8"
           }
          },
          {
           "name": "Fixed Nodes",
           "type": "scatter3d",
           "x": [],
           "y": [],
           "z": []
          },
          {
           "name": "Edges",
           "type": "scatter3d",
           "x": [
            0.9025854147422966,
            -0.044960160011169245,
            null,
            -0.044960160011169245,
            -0.09036600035975323,
            null,
            -0.09036600035975323,
            0.9025854147422966,
            null,
            2.0995967277566288,
            2.0246507526511865,
            null,
            2.0246507526511865,
            1.1084932652208486,
            null,
            1.1084932652208486,
            2.0995967277566288,
            null
           ],
           "y": [
            -0.02203649792043508,
            1.0220459590938746,
            null,
            1.0220459590938746,
            0.02307735239064226,
            null,
            0.02307735239064226,
            -0.02203649792043508,
            null,
            0.017737970641395564,
            1.0148811058401914,
            null,
            1.0148811058401914,
            -0.055705890045694095,
            null,
            -0.055705890045694095,
            0.017737970641395564,
            null
           ],
           "z": [
            -0.10818810536789017,
            0.0015809829236448096,
            null,
            0.0015809829236448096,
            0.0014123941836263038,
            null,
            0.0014123941836263038,
            -0.10818810536789017,
            null,
            -0.26379471316195335,
            -0.2732112193603939,
            null,
            -0.2732112193603939,
            -0.15279933921702762,
            null,
            -0.15279933921702762,
            -0.26379471316195335,
            null
           ]
          },
          {
           "i": [
            0,
            3
           ],
           "j": [
            1,
            4
           ],
           "k": [
            2,
            5
           ],
           "name": "Faces",
           "type": "mesh3d",
           "x": {
            "bdata": "rCg36Dkit7+3RcXO+uHsP3bmvaEEBae/Vlsfb2O88T/VBoRe+csAQEerAxh8MgBA",
            "dtype": "f8"
           },
           "y": {
            "bdata": "hy4v55ahlz+J64tXvJCWvwcTFd1MWvA/OLThf3uFrL93dDUP5ymSP0uXbvjzPPA/",
            "dtype": "f8"
           },
           "z": {
            "bdata": "tp75tAIkVz/iDF82N7K7v4c393wf51k/Pc5kwu2Ow7/A2Xg4A+LQvzNnA+lKfNG/",
            "dtype": "f8"
           }
          }
         ],
         "layout": {
          "annotations": [
           {
            "showarrow": false,
            "text": "Time: 0.72s (Step: 73/100)",
            "x": 0.05,
            "xref": "paper",
            "y": 0.95,
            "yref": "paper"
           }
          ]
         },
         "name": "72"
        },
        {
         "data": [
          {
           "name": "Free Nodes",
           "type": "scatter3d",
           "x": {
            "bdata": "tIKBNY6Kt7/d05j41dLsP11lS3q+bKe/xknyGePE8T+S2a4PkM8AQJYGx1BQMwBA",
            "dtype": "f8"
           },
           "y": {
            "bdata": "rHwR6BAOmD9bfQ/68/GWv+VsrkbYW/A/1ic3930Drb/Gt9xKd36SPwvRJ1jZPfA/",
            "dtype": "f8"
           },
           "z": {
            "bdata": "FIiAQ6V9Vz85XLQDrDK8v21jBgssVlo/d7MgtTLww79rxrmrfzPRvx3zhwea0NG/",
            "dtype": "f8"
           }
          },
          {
           "name": "Fixed Nodes",
           "type": "scatter3d",
           "x": [],
           "y": [],
           "z": []
          },
          {
           "name": "Edges",
           "type": "scatter3d",
           "x": [
            0.9007367949876613,
            -0.045751526287584034,
            null,
            -0.045751526287584034,
            -0.09195793920799639,
            null,
            -0.09195793920799639,
            0.9007367949876613,
            null,
            2.1013489938006353,
            2.0250555334794837,
            null,
            2.0250555334794837,
            1.1105681432278387,
            null,
            1.1105681432278387,
            2.1013489938006353,
            null
           ],
           "y": [
            -0.0224073525786229,
            1.0224230538358878,
            null,
            1.0224230538358878,
            0.023491157688451267,
            null,
            0.023491157688451267,
            -0.0224073525786229,
            null,
            0.018060554451203158,
            1.0150998538566138,
            null,
            1.0150998538566138,
            -0.05666726725355857,
            null,
            -0.05666726725355857,
            0.018060554451203158,
            null
           ],
           "z": [
            -0.11014819231455499,
            0.0016074590786045687,
            null,
            0.0016074590786045687,
            0.0014337648299336302,
            null,
            0.0014337648299336302,
            -0.11014819231455499,
            null,
            -0.2687682320603019,
            -0.27835703597502165,
            null,
            -0.27835703597502165,
            -0.15576776355865338,
            null,
            -0.15576776355865338,
            -0.2687682320603019,
            null
           ]
          },
          {
           "i": [
            0,
            3
           ],
           "j": [
            1,
            4
           ],
           "k": [
            2,
            5
           ],
           "name": "Faces",
           "type": "mesh3d",
           "x": {
            "bdata": "tIKBNY6Kt7/d05j41dLsP11lS3q+bKe/xknyGePE8T+S2a4PkM8AQJYGx1BQMwBA",
            "dtype": "f8"
           },
           "y": {
            "bdata": "rHwR6BAOmD9bfQ/68/GWv+VsrkbYW/A/1ic3930Drb/Gt9xKd36SPwvRJ1jZPfA/",
            "dtype": "f8"
           },
           "z": {
            "bdata": "FIiAQ6V9Vz85XLQDrDK8v21jBgssVlo/d7MgtTLww79rxrmrfzPRvx3zhwea0NG/",
            "dtype": "f8"
           }
          }
         ],
         "layout": {
          "annotations": [
           {
            "showarrow": false,
            "text": "Time: 0.73s (Step: 74/100)",
            "x": 0.05,
            "xref": "paper",
            "y": 0.95,
            "yref": "paper"
           }
          ]
         },
         "name": "73"
        },
        {
         "data": [
          {
           "name": "Free Nodes",
           "type": "scatter3d",
           "x": {
            "bdata": "EyfznMTyt7+A39dlq8PsP2onQlVY1Ke/usAWg2bN8T+to4KxJdMAQEWmuLkjNABA",
            "dtype": "f8"
           },
           "y": {
            "bdata": "uqW/SHl6mD9GaifT31KXv8ToosdiXfA/zAc18D2Brb/me8pGAtOSPys07bi8PvA/",
            "dtype": "f8"
           },
           "z": {
            "bdata": "5PlqzGvWVz+KZ8p4G7O8v2gF4Y6+xFo/GBO3ZntRxL/icXkk+4TRvweDIEHoJNK/",
            "dtype": "f8"
           }
          },
          {
           "name": "Fixed Nodes",
           "type": "scatter3d",
           "x": [],
           "y": [],
           "z": []
          },
          {
           "name": "Edges",
           "type": "scatter3d",
           "x": [
            0.898885439789396,
            -0.04654193917038081,
            null,
            -0.04654193917038081,
            -0.09354809600622742,
            null,
            -0.09354809600622742,
            0.898885439789396,
            null,
            2.1030992382042855,
            2.0254587659335663,
            null,
            2.0254587659335663,
            1.1126465912494,
            null,
            1.1126465912494,
            2.1030992382042855,
            null
           ],
           "y": [
            -0.022777077925505894,
            1.0227992819114187,
            null,
            1.0227992819114187,
            0.023904700341437858,
            null,
            0.023904700341437858,
            -0.022777077925505894,
            null,
            0.018383060045945053,
            1.0153166984266686,
            null,
            1.0153166984266686,
            -0.0576266627999896,
            null,
            -0.0576266627999896,
            0.018383060045945053,
            null
           ],
           "z": [
            -0.11210796069135945,
            0.0016338215750838162,
            null,
            0.0016338215750838162,
            0.0014549305648611172,
            null,
            0.0014549305648611172,
            -0.11210796069135945,
            null,
            -0.273741517657781,
            -0.28350263938959624,
            null,
            -0.28350263938959624,
            -0.15873663440120178,
            null,
            -0.15873663440120178,
            -0.273741517657781,
            null
           ]
          },
          {
           "i": [
            0,
            3
           ],
           "j": [
            1,
            4
           ],
           "k": [
            2,
            5
           ],
           "name": "Faces",
           "type": "mesh3d",
           "x": {
            "bdata": "EyfznMTyt7+A39dlq8PsP2onQlVY1Ke/usAWg2bN8T+to4KxJdMAQEWmuLkjNABA",
            "dtype": "f8"
           },
           "y": {
            "bdata": "uqW/SHl6mD9GaifT31KXv8ToosdiXfA/zAc18D2Brb/me8pGAtOSPys07bi8PvA/",
            "dtype": "f8"
           },
           "z": {
            "bdata": "5PlqzGvWVz+KZ8p4G7O8v2gF4Y6+xFo/GBO3ZntRxL/icXkk+4TRvweDIEHoJNK/",
            "dtype": "f8"
           }
          }
         ],
         "layout": {
          "annotations": [
           {
            "showarrow": false,
            "text": "Time: 0.74s (Step: 75/100)",
            "x": 0.05,
            "xref": "paper",
            "y": 0.95,
            "yref": "paper"
           }
          ]
         },
         "name": "74"
        },
        {
         "data": [
          {
           "name": "Free Nodes",
           "type": "scatter3d",
           "x": {
            "bdata": "QcvxKN1auL/qdHgXe7TsP1GGNy3SO6i/vlZOqe3V8T8jDI5EutYAQBEY6VL2NABA",
            "dtype": "f8"
           },
           "y": {
            "bdata": "G0UQ2s/mmD8Ymf+if7OXv9Hbr1/sXvA/hNTiLbv+rb9NRBa9hyeTP6Ce7hmeP/A/",
            "dtype": "f8"
           },
           "z": {
            "bdata": "k7mxsFIuWD/UKth9hTO9v6tXTbXUMls/jwmz58eyxL/RlcWeddbRvw7PeZE1edK/",
            "dtype": "f8"
           }
          },
          {
           "name": "Fixed Nodes",
           "type": "scatter3d",
           "x": [],
           "y": [],
           "z": []
          },
          {
           "name": "Edges",
           "type": "scatter3d",
           "x": [
            0.8970313509377352,
            -0.047331398028984346,
            null,
            -0.047331398028984346,
            -0.09513647317525643,
            null,
            -0.09513647317525643,
            0.8970313509377352,
            null,
            2.1048474651193074,
            2.0258604504952094,
            null,
            2.0258604504952094,
            1.1147286046520288,
            null,
            1.1147286046520288,
            2.1048474651193074,
            null
           ],
           "y": [
            -0.023145670245775823,
            1.0231746423503305,
            null,
            1.0231746423503305,
            0.024317977604430312,
            null,
            0.024317977604430312,
            -0.023145670245775823,
            null,
            0.01870548335643134,
            1.0155316365216223,
            null,
            1.0155316365216223,
            -0.058584069587063886,
            null,
            -0.058584069587063886,
            0.01870548335643134,
            null
           ],
           "z": [
            -0.1140674049603761,
            0.001660068247664163,
            null,
            0.001660068247664163,
            0.0014758880158996831,
            null,
            0.0014758880158996831,
            -0.1140674049603761,
            null,
            -0.2787145662790325,
            -0.28864802557585356,
            null,
            -0.28864802557585356,
            -0.161705959448295,
            null,
            -0.161705959448295,
            -0.2787145662790325,
            null
           ]
          },
          {
           "i": [
            0,
            3
           ],
           "j": [
            1,
            4
           ],
           "k": [
            2,
            5
           ],
           "name": "Faces",
           "type": "mesh3d",
           "x": {
            "bdata": "QcvxKN1auL/qdHgXe7TsP1GGNy3SO6i/vlZOqe3V8T8jDI5EutYAQBEY6VL2NABA",
            "dtype": "f8"
           },
           "y": {
            "bdata": "G0UQ2s/mmD8Ymf+if7OXv9Hbr1/sXvA/hNTiLbv+rb9NRBa9hyeTP6Ce7hmeP/A/",
            "dtype": "f8"
           },
           "z": {
            "bdata": "k7mxsFIuWD/UKth9hTO9v6tXTbXUMls/jwmz58eyxL/RlcWeddbRvw7PeZE1edK/",
            "dtype": "f8"
           }
          }
         ],
         "layout": {
          "annotations": [
           {
            "showarrow": false,
            "text": "Time: 0.75s (Step: 76/100)",
            "x": 0.05,
            "xref": "paper",
            "y": 0.95,
            "yref": "paper"
           }
          ]
         },
         "name": "75"
        },
        {
         "data": [
          {
           "name": "Free Nodes",
           "type": "scatter3d",
           "x": {
            "bdata": "Zzvt49fCuL854nIORaXsP5bL0Pwro6i/1WxYi3je8T+VO2DJTdoAQNeCaRzINQBA",
            "dtype": "f8"
           },
           "y": {
            "bdata": "4hEGbRRTmT+o8+Mp0xOYv9dqkg51YPA/7LZwc/V7rr8A0kBoB3yTP62OW3p9QPA/",
            "dtype": "f8"
           },
           "z": {
            "bdata": "Drh2U1aFWD+sOxf76bO9v5fOjilsoFs/8VqcSBgUxb9HEbAW7yfSvxkWPvSBzdK/",
            "dtype": "f8"
           }
          },
          {
           "name": "Fixed Nodes",
           "type": "scatter3d",
           "x": [],
           "y": [],
           "z": []
          },
          {
           "name": "Edges",
           "type": "scatter3d",
           "x": [
            0.8951745302393369,
            -0.04811990224006661,
            null,
            -0.04811990224006661,
            -0.0967230731450691,
            null,
            -0.0967230731450691,
            0.8951745302393369,
            null,
            2.106593678712168,
            2.026260587663596,
            null,
            2.026260587663596,
            1.1168141787700752,
            null,
            1.1168141787700752,
            2.106593678712168,
            null
           ],
           "y": [
            -0.02351312583140311,
            1.0235491341797365,
            null,
            1.0235491341797365,
            0.024730986742285917,
            null,
            0.024730986742285917,
            -0.02351312583140311,
            null,
            0.019027820337401025,
            1.0157446651073017,
            null,
            1.0157446651073017,
            -0.05953948053534738,
            null,
            -0.05953948053534738,
            0.019027820337401025,
            null
           ],
           "z": [
            -0.1160265195860421,
            0.001686196925430849,
            null,
            0.001686196925430849,
            0.0014966338184012637,
            null,
            0.0014966338184012637,
            -0.1160265195860421,
            null,
            -0.2836873742637817,
            -0.293793190496531,
            null,
            -0.293793190496531,
            -0.16467574639747043,
            null,
            -0.16467574639747043,
            -0.2836873742637817,
            null
           ]
          },
          {
           "i": [
            0,
            3
           ],
           "j": [
            1,
            4
           ],
           "k": [
            2,
            5
           ],
           "name": "Faces",
           "type": "mesh3d",
           "x": {
            "bdata": "Zzvt49fCuL854nIORaXsP5bL0Pwro6i/1WxYi3je8T+VO2DJTdoAQNeCaRzINQBA",
            "dtype": "f8"
           },
           "y": {
            "bdata": "4hEGbRRTmT+o8+Mp0xOYv9dqkg51YPA/7LZwc/V7rr8A0kBoB3yTP62OW3p9QPA/",
            "dtype": "f8"
           },
           "z": {
            "bdata": "Drh2U1aFWD+sOxf76bO9v5fOjilsoFs/8VqcSBgUxb9HEbAW7yfSvxkWPvSBzdK/",
            "dtype": "f8"
           }
          }
         ],
         "layout": {
          "annotations": [
           {
            "showarrow": false,
            "text": "Time: 0.76s (Step: 77/100)",
            "x": 0.05,
            "xref": "paper",
            "y": 0.95,
            "yref": "paper"
           }
          ]
         },
         "name": "76"
        },
        {
         "data": [
          {
           "name": "Free Nodes",
           "type": "scatter3d",
           "x": {
            "bdata": "xkpf2LQqub87tsFLCZbsP5I9w75lCqm/HjDyJwfn8T/t2ohA4N0AQB6nSxaZNgBA",
            "dtype": "f8"
           },
           "y": {
            "bdata": "TtzP0ka/mT+SgUAo2nOYv7SKB9T8YfA/Uqw3hOz4rr9RJDQDgdCTPz8kY9laQfA/",
            "dtype": "f8"
           },
           "z": {
            "bdata": "KeYFGnPbWD9E08PYSDS+v9fFZ5WCDVw/Cmj3mWx1xb+26k6IZ3nSv1AhFWXNIdO/",
            "dtype": "f8"
           }
          },
          {
           "name": "Fixed Nodes",
           "type": "scatter3d",
           "x": [],
           "y": [],
           "z": []
          },
          {
           "name": "Edges",
           "type": "scatter3d",
           "x": [
            0.8933149795172491,
            -0.04890745118756991,
            null,
            -0.04890745118756991,
            -0.09830789835477124,
            null,
            -0.09830789835477124,
            0.8933149795172491,
            null,
            2.108337883163918,
            2.0266591779553798,
            null,
            2.0266591779553798,
            1.1189033089058351,
            null,
            1.1189033089058351,
            2.108337883163918,
            null
           ],
           "y": [
            -0.023879440981660567,
            1.0239227564240254,
            null,
            1.0239227564240254,
            0.025143725029888757,
            null,
            0.025143725029888757,
            -0.023879440981660567,
            null,
            0.019350066967522676,
            1.0159557811441713,
            null,
            1.0159557811441713,
            -0.060492888583973184,
            null,
            -0.060492888583973184,
            0.019350066967522676,
            null
           ],
           "z": [
            -0.11798529903519489,
            0.001712205431996563,
            null,
            0.001712205431996563,
            0.0015171646155906027,
            null,
            0.0015171646155906027,
            -0.11798529903519489,
            null,
            -0.2886599379668654,
            -0.2989381301054168,
            null,
            -0.2989381301054168,
            -0.16764600294010307,
            null,
            -0.16764600294010307,
            -0.2886599379668654,
            null
           ]
          },
          {
           "i": [
            0,
            3
           ],
           "j": [
            1,
            4
           ],
           "k": [
            2,
            5
           ],
           "name": "Faces",
           "type": "mesh3d",
           "x": {
            "bdata": "xkpf2LQqub87tsFLCZbsP5I9w75lCqm/HjDyJwfn8T/t2ohA4N0AQB6nSxaZNgBA",
            "dtype": "f8"
           },
           "y": {
            "bdata": "TtzP0ka/mT+SgUAo2nOYv7SKB9T8YfA/Uqw3hOz4rr9RJDQDgdCTPz8kY9laQfA/",
            "dtype": "f8"
           },
           "z": {
            "bdata": "KeYFGnPbWD9E08PYSDS+v9fFZ5WCDVw/Cmj3mWx1xb+26k6IZ3nSv1AhFWXNIdO/",
            "dtype": "f8"
           }
          }
         ],
         "layout": {
          "annotations": [
           {
            "showarrow": false,
            "text": "Time: 0.77s (Step: 78/100)",
            "x": 0.05,
            "xref": "paper",
            "y": 0.95,
            "yref": "paper"
           }
          ]
         },
         "name": "77"
        },
        {
         "data": [
          {
           "name": "Free Nodes",
           "type": "scatter3d",
           "x": {
            "bdata": "QcPLEHSSub9Uv2HQx4bsP8Eu1G1/cam/ZZvWfZnv8T8DEpiqceEAQKjfoUBpNwBA",
            "dtype": "f8"
           },
           "y": {
            "bdata": "tYzI3GYrmj/Vh6FelNOYv9oAzK+DY/A/GrS5I6B1r794ekNJ9CSUP1UiNDY2QvA/",
            "dtype": "f8"
           },
           "z": {
            "bdata": "U//Va6UwWT902Bz/obS+vwg4G6EVelw/ZyNF7MTWxb/rUbzv3srSv59HpN8XdtO/",
            "dtype": "f8"
           }
          },
          {
           "name": "Fixed Nodes",
           "type": "scatter3d",
           "x": [],
           "y": [],
           "z": []
          },
          {
           "name": "Edges",
           "type": "scatter3d",
           "x": [
            0.8914527006108792,
            -0.049694044262734056,
            null,
            -0.049694044262734056,
            -0.09989095125253035,
            null,
            -0.09989095125253035,
            0.8914527006108792,
            null,
            2.110080082670039,
            2.027056221904747,
            null,
            2.027056221904747,
            1.1209959903296405,
            null,
            1.1209959903296405,
            2.110080082670039,
            null
           ],
           "y": [
            -0.024244612003151495,
            1.0242955081048906,
            null,
            1.0242955081048906,
            0.025556189752148756,
            null,
            0.025556189752148756,
            -0.024244612003151495,
            null,
            0.019672219249395856,
            1.0161649815874132,
            null,
            1.0161649815874132,
            -0.06144428669072273,
            null,
            -0.06144428669072273,
            0.019672219249395856,
            null
           ],
           "z": [
            -0.11994373777710782,
            0.001738091585525849,
            null,
            0.001738091585525849,
            0.0015374770585765043,
            null,
            0.0015374770585765043,
            -0.11994373777710782,
            null,
            -0.29363225375826,
            -0.3040828403473998,
            null,
            -0.3040828403473998,
            -0.17061673676132758,
            null,
            -0.17061673676132758,
            -0.29363225375826,
            null
           ]
          },
          {
           "i": [
            0,
            3
           ],
           "j": [
            1,
            4
           ],
           "k": [
            2,
            5
           ],
           "name": "Faces",
           "type": "mesh3d",
           "x": {
            "bdata": "QcPLEHSSub9Uv2HQx4bsP8Eu1G1/cam/ZZvWfZnv8T8DEpiqceEAQKjfoUBpNwBA",
            "dtype": "f8"
           },
           "y": {
            "bdata": "tYzI3GYrmj/Vh6FelNOYv9oAzK+DY/A/GrS5I6B1r794ekNJ9CSUP1UiNDY2QvA/",
            "dtype": "f8"
           },
           "z": {
            "bdata": "U//Va6UwWT902Bz/obS+vwg4G6EVelw/ZyNF7MTWxb/rUbzv3srSv59HpN8XdtO/",
            "dtype": "f8"
           }
          }
         ],
         "layout": {
          "annotations": [
           {
            "showarrow": false,
            "text": "Time: 0.78s (Step: 79/100)",
            "x": 0.05,
            "xref": "paper",
            "y": 0.95,
            "yref": "paper"
           }
          ]
         },
         "name": "78"
        },
        {
         "data": [
          {
           "name": "Free Nodes",
           "type": "scatter3d",
           "x": {
            "bdata": "pVXAlxX6ub9QClKdgHfsP0oK2QR52Km/wni+iy/48T9Fhh4IAuUAQPohf5s4OABA",
            "dtype": "f8"
           },
           "y": {
            "bdata": "zB93XHSXmj+lorONATOZv8djnKEJZfA/bfuhFRDyr7/YVCv2YHmUP1bw/I8PQ/A/",
            "dtype": "f8"
           },
           "z": {
            "bdata": "TFaJsumEWT+m6WNW9TS/v/5sbvMi5lw/dAYDUCE4xr8AohZJVRzTvzZxjl9hytO/",
            "dtype": "f8"
           }
          },
          {
           "name": "Fixed Nodes",
           "type": "scatter3d",
           "x": [],
           "y": [],
           "z": []
          },
          {
           "name": "Edges",
           "type": "scatter3d",
           "x": [
            0.88958769537596,
            -0.05047968086411865,
            null,
            -0.05047968086411865,
            -0.10147223429551973,
            null,
            -0.10147223429551973,
            0.88958769537596,
            null,
            2.11182028144029,
            2.027451720063479,
            null,
            2.027451720063479,
            1.1230922182799508,
            null,
            1.1230922182799508,
            2.11182028144029,
            null
           ],
           "y": [
            -0.024608635209832603,
            1.0246673882413562,
            null,
            1.0246673882413562,
            0.025968378203998374,
            null,
            0.025968378203998374,
            -0.024608635209832603,
            null,
            0.019994273209552244,
            1.016372263387003,
            null,
            1.016372263387003,
            -0.06239366783210341,
            null,
            -0.06239366783210341,
            0.019994273209552244,
            null
           ],
           "z": [
            -0.12190183028352539,
            0.0017638531987589907,
            null,
            0.0017638531987589907,
            0.0015575678063631969,
            null,
            0.0015575678063631969,
            -0.12190183028352539,
            null,
            -0.29860431802310927,
            -0.30922731715851925,
            null,
            -0.30922731715851925,
            -0.17358795553996098,
            null,
            -0.17358795553996098,
            -0.29860431802310927,
            null
           ]
          },
          {
           "i": [
            0,
            3
           ],
           "j": [
            1,
            4
           ],
           "k": [
            2,
            5
           ],
           "name": "Faces",
           "type": "mesh3d",
           "x": {
            "bdata": "pVXAlxX6ub9QClKdgHfsP0oK2QR52Km/wni+iy/48T9Fhh4IAuUAQPohf5s4OABA",
            "dtype": "f8"
           },
           "y": {
            "bdata": "zB93XHSXmj+lorONATOZv8djnKEJZfA/bfuhFRDyr7/YVCv2YHmUP1bw/I8PQ/A/",
            "dtype": "f8"
           },
           "z": {
            "bdata": "TFaJsumEWT+m6WNW9TS/v/5sbvMi5lw/dAYDUCE4xr8AohZJVRzTvzZxjl9hytO/",
            "dtype": "f8"
           }
          }
         ],
         "layout": {
          "annotations": [
           {
            "showarrow": false,
            "text": "Time: 0.79s (Step: 80/100)",
            "x": 0.05,
            "xref": "paper",
            "y": 0.95,
            "yref": "paper"
           }
          ]
         },
         "name": "79"
        },
        {
         "data": [
          {
           "name": "Free Nodes",
           "type": "scatter3d",
           "x": {
            "bdata": "WYnUd5lhur9E4ZOzM2jsP7Bit35SP6q/N2NgUMkA8j9dWa1ZkegAQOr+9iYHOQBA",
            "dtype": "f8"
           },
           "y": {
            "bdata": "/aWOI28Dmz/P40N2IZKZv4EbNamOZvA/AYXiDh43sL94cxHGxs2UP4Cb6+XmQ/A/",
            "dtype": "f8"
           },
           "z": {
            "bdata": "Q5ruWTzYWT/NZt3GQrW/vxqyqjGoUV0/ngar1YGZxr9BY4CQym3TvxMbdOCpHtS/",
            "dtype": "f8"
           }
          },
          {
           "name": "Fixed Nodes",
           "type": "scatter3d",
           "x": [],
           "y": [],
           "z": []
          },
          {
           "name": "Edges",
           "type": "scatter3d",
           "x": [
            0.8877199656845183,
            -0.05126436039762916,
            null,
            -0.05126436039762916,
            -0.10305174994986056,
            null,
            -0.10305174994986056,
            0.8877199656845183,
            null,
            2.113558483698553,
            2.027845673001015,
            null,
            2.027845673001015,
            1.125191987963445,
            null,
            1.125191987963445,
            2.113558483698553,
            null
           ],
           "y": [
            -0.024971506923041006,
            1.025038395849805,
            null,
            1.025038395849805,
            0.026380287690392013,
            null,
            0.026380287690392013,
            -0.024971506923041006,
            null,
            0.020316224898454277,
            1.016577623487791,
            null,
            1.016577623487791,
            -0.0633410250034281,
            null,
            -0.0633410250034281,
            0.020316224898454277,
            null
           ],
           "z": [
            -0.12385957102869867,
            0.0017894880790364554,
            null,
            0.0017894880790364554,
            0.001577433525861275,
            null,
            0.001577433525861275,
            -0.12385957102869867,
            null,
            -0.30357612716175103,
            -0.31437155646601517,
            null,
            -0.31437155646601517,
            -0.17655966694842545,
            null,
            -0.17655966694842545,
            -0.30357612716175103,
            null
           ]
          },
          {
           "i": [
            0,
            3
           ],
           "j": [
            1,
            4
           ],
           "k": [
            2,
            5
           ],
           "name": "Faces",
           "type": "mesh3d",
           "x": {
            "bdata": "WYnUd5lhur9E4ZOzM2jsP7Bit35SP6q/N2NgUMkA8j9dWa1ZkegAQOr+9iYHOQBA",
            "dtype": "f8"
           },
           "y": {
            "bdata": "/aWOI28Dmz/P40N2IZKZv4EbNamOZvA/AYXiDh43sL94cxHGxs2UP4Cb6+XmQ/A/",
            "dtype": "f8"
           },
           "z": {
            "bdata": "Q5ruWTzYWT/NZt3GQrW/vxqyqjGoUV0/ngar1YGZxr9BY4CQym3TvxMbdOCpHtS/",
            "dtype": "f8"
           }
          }
         ],
         "layout": {
          "annotations": [
           {
            "showarrow": false,
            "text": "Time: 0.80s (Step: 81/100)",
            "x": 0.05,
            "xref": "paper",
            "y": 0.95,
            "yref": "paper"
           }
          ]
         },
         "name": "80"
        },
        {
         "data": [
          {
           "name": "Free Nodes",
           "type": "scatter3d",
           "x": {
            "bdata": "r6ypu//Iur9pyioU4VjsP+j+ZNYLpqq/T8hwymYJ8j/aJ9afH+wAQCSjHePUOQBA",
            "dtype": "f8"
           },
           "y": {
            "bdata": "Yz/uA1dvmz/p7T/Z8/CZvxJiUsYSaPA/inYQABJ1sL8t1oR1JSKVPz7YLTe8RPA/",
            "dtype": "f8"
           },
           "z": {
            "bdata": "G50B0JkqWj+lPWgcxRrAv9wNn/+ivF0/hIqzjeb6xr8OTSDCPr/Tv4da813xctS/",
            "dtype": "f8"
           }
          },
          {
           "name": "Fixed Nodes",
           "type": "scatter3d",
           "x": [],
           "y": [],
           "z": []
          },
          {
           "name": "Edges",
           "type": "scatter3d",
           "x": [
            0.8858495134248418,
            -0.052048082276540175,
            null,
            -0.052048082276540175,
            -0.10462950069056619,
            null,
            -0.10462950069056619,
            0.8858495134248418,
            null,
            2.1152946936826824,
            2.0282380813045098,
            null,
            2.0282380813045098,
            1.1272952945551145,
            null,
            1.1272952945551145,
            2.1152946936826824,
            null
           ],
           "y": [
            -0.02533322347151837,
            1.025408529944006,
            null,
            1.025408529944006,
            0.026791915526302456,
            null,
            0.026791915526302456,
            -0.02533322347151837,
            null,
            0.0206380703904953,
            1.016781058829579,
            null,
            1.016781058829579,
            -0.06428635121889151,
            null,
            -0.06428635121889151,
            0.0206380703904953,
            null
           ],
           "z": [
            -0.12581695448942046,
            0.0018149940283230725,
            null,
            0.0018149940283230725,
            0.0015970708918987056,
            null,
            0.0015970708918987056,
            -0.12581695448942046,
            null,
            -0.3085476775897441,
            -0.31951555418837824,
            null,
            -0.31951555418837824,
            -0.1795318786526715,
            null,
            -0.1795318786526715,
            -0.3085476775897441,
            null
           ]
          },
          {
           "i": [
            0,
            3
           ],
           "j": [
            1,
            4
           ],
           "k": [
            2,
            5
           ],
           "name": "Faces",
           "type": "mesh3d",
           "x": {
            "bdata": "r6ypu//Iur9pyioU4VjsP+j+ZNYLpqq/T8hwymYJ8j/aJ9afH+wAQCSjHePUOQBA",
            "dtype": "f8"
           },
           "y": {
            "bdata": "Yz/uA1dvmz/p7T/Z8/CZvxJiUsYSaPA/inYQABJ1sL8t1oR1JSKVPz7YLTe8RPA/",
            "dtype": "f8"
           },
           "z": {
            "bdata": "G50B0JkqWj+lPWgcxRrAv9wNn/+ivF0/hIqzjeb6xr8OTSDCPr/Tv4da813xctS/",
            "dtype": "f8"
           }
          }
         ],
         "layout": {
          "annotations": [
           {
            "showarrow": false,
            "text": "Time: 0.81s (Step: 82/100)",
            "x": 0.05,
            "xref": "paper",
            "y": 0.95,
            "yref": "paper"
           }
          ]
         },
         "name": "81"
        },
        {
         "data": [
          {
           "name": "Free Nodes",
           "type": "scatter3d",
           "x": {
            "bdata": "fMTqbUgwu7/0hhzAiEnsP5bo5walDKu/u+mh+AcS8j/WByvbrO8AQLXXB9ChOgBA",
            "dtype": "f8"
           },
           "y": {
            "bdata": "XBqhzyvbmz/WEbZ3eE+avwREsPiVafA/7rFuwOOysL96u33BfHaVP48D8YKPRfA/",
            "dtype": "f8"
           },
           "z": {
            "bdata": "5xDshP57Wj/lk0PK5VrAv6H5of8QJ14/KV+PiE9cx7+wRyHasRDUv8bgp9M3x9S/",
            "dtype": "f8"
           }
          },
          {
           "name": "Fixed Nodes",
           "type": "scatter3d",
           "x": [],
           "y": [],
           "z": []
          },
          {
           "name": "Edges",
           "type": "scatter3d",
           "x": [
            0.8839763405014467,
            -0.052830845921520694,
            null,
            -0.052830845921520694,
            -0.1062054890014838,
            null,
            -0.1062054890014838,
            0.8839763405014467,
            null,
            2.11702891564435,
            2.028628945578897,
            null,
            2.028628945578897,
            1.1294021331983533,
            null,
            1.1294021331983533,
            2.11702891564435,
            null
           ],
           "y": [
            -0.025693781191437136,
            1.0257777895351419,
            null,
            1.0257777895351419,
            0.027203259036719593,
            null,
            0.027203259036719593,
            -0.025693781191437136,
            null,
            0.020959805783998565,
            1.0169825663471987,
            null,
            1.0169825663471987,
            -0.06522963951164915,
            null,
            -0.06522963951164915,
            0.020959805783998565,
            null
           ],
           "z": [
            -0.1277739751450603,
            0.0018403688432325554,
            null,
            0.0018403688432325554,
            0.001616476587231347,
            null,
            0.001616476587231347,
            -0.1277739751450603,
            null,
            -0.3135189657378943,
            -0.3246593062354005,
            null,
            -0.3246593062354005,
            -0.18250459831210122,
            null,
            -0.18250459831210122,
            -0.3135189657378943,
            null
           ]
          },
          {
           "i": [
            0,
            3
           ],
           "j": [
            1,
            4
           ],
           "k": [
            2,
            5
           ],
           "name": "Faces",
           "type": "mesh3d",
           "x": {
            "bdata": "fMTqbUgwu7/0hhzAiEnsP5bo5walDKu/u+mh+AcS8j/WByvbrO8AQLXXB9ChOgBA",
            "dtype": "f8"
           },
           "y": {
            "bdata": "XBqhzyvbmz/WEbZ3eE+avwREsPiVafA/7rFuwOOysL96u33BfHaVP48D8YKPRfA/",
            "dtype": "f8"
           },
           "z": {
            "bdata": "5xDshP57Wj/lk0PK5VrAv6H5of8QJ14/KV+PiE9cx7+wRyHasRDUv8bgp9M3x9S/",
            "dtype": "f8"
           }
          }
         ],
         "layout": {
          "annotations": [
           {
            "showarrow": false,
            "text": "Time: 0.82s (Step: 83/100)",
            "x": 0.05,
            "xref": "paper",
            "y": 0.95,
            "yref": "paper"
           }
          ]
         },
         "name": "82"
        },
        {
         "data": [
          {
           "name": "Free Nodes",
           "type": "scatter3d",
           "x": {
            "bdata": "rXxMmXOXu7/xEXG4KjrsP594Vgsec6u/9d6j2awa8j+hhz4MOfMAQJACy+1tOwBA",
            "dtype": "f8"
           },
           "y": {
            "bdata": "1m/eWO1GnD/8aNUSr62av9mgCkAYa/A/IwUmMpPwsL+rnF1nzMqVP20kYshgRvA/",
            "dtype": "f8"
           },
           "z": {
            "bdata": "y0kG62bMWj8QJidhA5vAv/MVk9LvkF4/Oa2t1ry9x78rbrLUI2LUv3f+Kj19G9W/",
            "dtype": "f8"
           }
          },
          {
           "name": "Fixed Nodes",
           "type": "scatter3d",
           "x": [],
           "y": [],
           "z": []
          },
          {
           "name": "Edges",
           "type": "scatter3d",
           "x": [
            0.8821004488350451,
            -0.05361265076065646,
            null,
            -0.05361265076065646,
            -0.10777971737523968,
            null,
            -0.10777971737523968,
            0.8821004488350451,
            null,
            2.118761153848894,
            2.029018266446947,
            null,
            2.029018266446947,
            1.1315124990050525,
            null,
            1.1315124990050525,
            2.118761153848894,
            null
           ],
           "y": [
            -0.026053176426423783,
            1.0261461736318351,
            null,
            1.0261461736318351,
            0.02761431555664714,
            null,
            0.02761431555664714,
            -0.026053176426423783,
            null,
            0.02128142720121377,
            1.017182142970593,
            null,
            1.017182142970593,
            -0.06617088293389321,
            null,
            -0.06617088293389321,
            0.02128142720121377,
            null
           ],
           "z": [
            -0.12973062747759956,
            0.0018656103150517217,
            null,
            0.0018656103150517217,
            0.0016356473025537107,
            null,
            0.0016356473025537107,
            -0.12973062747759956,
            null,
            -0.3184899880522802,
            -0.329802808508226,
            null,
            -0.329802808508226,
            -0.18547783357949202,
            null,
            -0.18547783357949202,
            -0.3184899880522802,
            null
           ]
          },
          {
           "i": [
            0,
            3
           ],
           "j": [
            1,
            4
           ],
           "k": [
            2,
            5
           ],
           "name": "Faces",
           "type": "mesh3d",
           "x": {
            "bdata": "rXxMmXOXu7/xEXG4KjrsP594Vgsec6u/9d6j2awa8j+hhz4MOfMAQJACy+1tOwBA",
            "dtype": "f8"
           },
           "y": {
            "bdata": "1m/eWO1GnD/8aNUSr62av9mgCkAYa/A/IwUmMpPwsL+rnF1nzMqVP20kYshgRvA/",
            "dtype": "f8"
           },
           "z": {
            "bdata": "y0kG62bMWj8QJidhA5vAv/MVk9LvkF4/Oa2t1ry9x78rbrLUI2LUv3f+Kj19G9W/",
            "dtype": "f8"
           }
          }
         ],
         "layout": {
          "annotations": [
           {
            "showarrow": false,
            "text": "Time: 0.83s (Step: 84/100)",
            "x": 0.05,
            "xref": "paper",
            "y": 0.95,
            "yref": "paper"
           }
          ]
         },
         "name": "83"
        },
        {
         "data": [
          {
           "name": "Free Nodes",
           "type": "scatter3d",
           "x": {
            "bdata": "CxiNSIH+u78bnzL+xirsPxdl19522au/5JYkbFUj8j9prKMzxPYAQBQnfTw5PABA",
            "dtype": "f8"
           },
           "y": {
            "bdata": "PoAJcpuynD9U8u1rlwubv4srHZyZbPA/DkJ0NyAusb+XLO8kFB+WPyvtrQYwR/A/",
            "dtype": "f8"
           },
           "z": {
            "bdata": "6/XXds8bWz+J2DrVHdvAvzHm3Bc9+l4/Ue55iC4fyL8DEAeulLPUv0anE5bBb9W/",
            "dtype": "f8"
           }
          },
          {
           "name": "Fixed Nodes",
           "type": "scatter3d",
           "x": [],
           "y": [],
           "z": []
          },
          {
           "name": "Edges",
           "type": "scatter3d",
           "x": [
            0.880221840362512,
            -0.054393496229474696,
            null,
            -0.054393496229474696,
            -0.10935218831318154,
            null,
            -0.10935218831318154,
            0.880221840362512,
            null,
            2.120491412575167,
            2.0294060445493276,
            null,
            2.0294060445493276,
            1.1336263870556929,
            null,
            1.1336263870556929,
            2.120491412575167,
            null
           ],
           "y": [
            -0.026411405527584655,
            1.0265136812401774,
            null,
            1.0265136812401774,
            0.028025082431099906,
            null,
            0.028025082431099906,
            -0.026411405527584655,
            null,
            0.021602930788315957,
            1.017379785624892,
            null,
            1.017379785624892,
            -0.06711007455692927,
            null,
            -0.06711007455692927,
            0.021602930788315957,
            null
           ],
           "z": [
            -0.13168690597166613,
            0.001890716229765121,
            null,
            0.001890716229765121,
            0.0016545797365091718,
            null,
            0.0016545797365091718,
            -0.13168690597166613,
            null,
            -0.3234607409942784,
            -0.3349460568994015,
            null,
            -0.3349460568994015,
            -0.18845159210092047,
            null,
            -0.18845159210092047,
            -0.3234607409942784,
            null
           ]
          },
          {
           "i": [
            0,
            3
           ],
           "j": [
            1,
            4
           ],
           "k": [
            2,
            5
           ],
           "name": "Faces",
           "type": "mesh3d",
           "x": {
            "bdata": "CxiNSIH+u78bnzL+xirsPxdl19522au/5JYkbFUj8j9prKMzxPYAQBQnfTw5PABA",
            "dtype": "f8"
           },
           "y": {
            "bdata": "PoAJcpuynD9U8u1rlwubv4srHZyZbPA/DkJ0NyAusb+XLO8kFB+WPyvtrQYwR/A/",
            "dtype": "f8"
           },
           "z": {
            "bdata": "6/XXds8bWz+J2DrVHdvAvzHm3Bc9+l4/Ue55iC4fyL8DEAeulLPUv0anE5bBb9W/",
            "dtype": "f8"
           }
          }
         ],
         "layout": {
          "annotations": [
           {
            "showarrow": false,
            "text": "Time: 0.84s (Step: 85/100)",
            "x": 0.05,
            "xref": "paper",
            "y": 0.95,
            "yref": "paper"
           }
          ]
         },
         "name": "84"
        },
        {
         "data": [
          {
           "name": "Free Nodes",
           "type": "scatter3d",
           "x": {
            "bdata": "f2B0hnFlvL+ymW2SXRvsPzfOoXyvP6y/fdnPrgEs8j/k8O1RTvoAQJDmNLwDPQBA",
            "dtype": "f8"
           },
           "y": {
            "bdata": "c5Cx7TUenT9+rXBEMWmbvwVrowwabvA/61Ossoprsb/0U2a4U3OWP9q8AD39R/A/",
            "dtype": "f8"
           },
           "z": {
            "bdata": "K9YYnzRqWz8QCagaNRvBv3+Jdm32Yl8/UuJbrqSAyL/+slZiBAXVv3519tkExNW/",
            "dtype": "f8"
           }
          },
          {
           "name": "Fixed Nodes",
           "type": "scatter3d",
           "x": [],
           "y": [],
           "z": []
          },
          {
           "name": "Edges",
           "type": "scatter3d",
           "x": [
            0.8783405170368523,
            -0.05517338177096714,
            null,
            -0.05517338177096714,
            -0.11092290432532258,
            null,
            -0.11092290432532258,
            0.8783405170368523,
            null,
            2.1222196961153816,
            2.0297922805446618,
            null,
            2.0297922805446618,
            1.1357437923994376,
            null,
            1.1357437923994376,
            2.1222196961153816,
            null
           ],
           "y": [
            -0.02676846485353001,
            1.0268803113637557,
            null,
            1.0268803113637557,
            0.028435557015101098,
            null,
            0.028435557015101098,
            -0.02676846485353001,
            null,
            0.021924312715402253,
            1.017575491230494,
            null,
            1.017575491230494,
            -0.0680472074712523,
            null,
            -0.0680472074712523,
            0.021924312715402253,
            null
           ],
           "z": [
            -0.13364280511456927,
            0.001915684368079512,
            null,
            0.001915684368079512,
            0.0016732705957002252,
            null,
            0.0016732705957002252,
            -0.13364280511456927,
            null,
            -0.32843122104058853,
            -0.34008904729292755,
            null,
            -0.34008904729292755,
            -0.19142588151568646,
            null,
            -0.19142588151568646,
            -0.32843122104058853,
            null
           ]
          },
          {
           "i": [
            0,
            3
           ],
           "j": [
            1,
            4
           ],
           "k": [
            2,
            5
           ],
           "name": "Faces",
           "type": "mesh3d",
           "x": {
            "bdata": "f2B0hnFlvL+ymW2SXRvsPzfOoXyvP6y/fdnPrgEs8j/k8O1RTvoAQJDmNLwDPQBA",
            "dtype": "f8"
           },
           "y": {
            "bdata": "c5Cx7TUenT9+rXBEMWmbvwVrowwabvA/61Ossoprsb/0U2a4U3OWP9q8AD39R/A/",
            "dtype": "f8"
           },
           "z": {
            "bdata": "K9YYnzRqWz8QCagaNRvBv3+Jdm32Yl8/UuJbrqSAyL/+slZiBAXVv3519tkExNW/",
            "dtype": "f8"
           }
          }
         ],
         "layout": {
          "annotations": [
           {
            "showarrow": false,
            "text": "Time: 0.85s (Step: 86/100)",
            "x": 0.05,
            "xref": "paper",
            "y": 0.95,
            "yref": "paper"
           }
          ]
         },
         "name": "85"
        },
        {
         "data": [
          {
           "name": "Free Nodes",
           "type": "scatter3d",
           "x": {
            "bdata": "KpfTXUTMvL9YozB27gvsP95L/d/Hpay/aUlPoLE08j/9Q7Fn1/0AQMWACW3NPQBA",
            "dtype": "f8"
           },
           "y": {
            "bdata": "yOaRnryJnT8Vt+9dfMabv6C6WJGZb/A/X1Q2htKosb/IK2DgiseWP7GghmrISPA/",
            "dtype": "f8"
           },
           "z": {
            "bdata": "MHKx3JK3Wz+kk5klSVvBv7Z35W8Zy18/voS3WB/iyL/aFN3tclbVv5+tZQRHGNa/",
            "dtype": "f8"
           }
          },
          {
           "name": "Fixed Nodes",
           "type": "scatter3d",
           "x": [],
           "y": [],
           "z": []
          },
          {
           "name": "Edges",
           "type": "scatter3d",
           "x": [
            0.8764564808271684,
            -0.055952306835614016,
            null,
            -0.055952306835614016,
            -0.11249186793028501,
            null,
            -0.11249186793028501,
            0.8764564808271684,
            null,
            2.1239460087749635,
            2.0301769751095855,
            null,
            2.0301769751095855,
            1.1378647100542258,
            null,
            1.1378647100542258,
            2.1239460087749635,
            null
           ],
           "y": [
            -0.02712435077039917,
            1.0272460630036804,
            null,
            1.0272460630036804,
            0.02884573667367965,
            null,
            0.02884573667367965,
            -0.02712435077039917,
            null,
            0.02224556917648693,
            1.0177692567031438,
            null,
            1.0177692567031438,
            -0.06898227478662154,
            null,
            -0.06898227478662154,
            0.02224556917648693,
            null
           ],
           "z": [
            -0.13559831939633427,
            0.0019405125054485612,
            null,
            0.0019405125054485612,
            0.0016917165946984773,
            null,
            0.0016917165946984773,
            -0.13559831939633427,
            null,
            -0.3334014246832574,
            -0.3452317755643097,
            null,
            -0.3452317755643097,
            -0.1944007094562376,
            null,
            -0.1944007094562376,
            -0.3334014246832574,
            null
           ]
          },
          {
           "i": [
            0,
            3
           ],
           "j": [
            1,
            4
           ],
           "k": [
            2,
            5
           ],
           "name": "Faces",
           "type": "mesh3d",
           "x": {
            "bdata": "KpfTXUTMvL9YozB27gvsP95L/d/Hpay/aUlPoLE08j/9Q7Fn1/0AQMWACW3NPQBA",
            "dtype": "f8"
           },
           "y": {
            "bdata": "yOaRnryJnT8Vt+9dfMabv6C6WJGZb/A/X1Q2htKosb/IK2DgiseWP7GghmrISPA/",
            "dtype": "f8"
           },
           "z": {
            "bdata": "MHKx3JK3Wz+kk5klSVvBv7Z35W8Zy18/voS3WB/iyL/aFN3tclbVv5+tZQRHGNa/",
            "dtype": "f8"
           }
          }
         ],
         "layout": {
          "annotations": [
           {
            "showarrow": false,
            "text": "Time: 0.86s (Step: 87/100)",
            "x": 0.05,
            "xref": "paper",
            "y": 0.95,
            "yref": "paper"
           }
          ]
         },
         "name": "86"
        },
        {
         "data": [
          {
           "name": "Free Nodes",
           "type": "scatter3d",
           "x": {
            "bdata": "s2SF2fkyvb/hkoyqefzrP/r5QQTAC62/rWVKP2U98j96B4J1XwEBQGrUEk+WPgBA",
            "dtype": "f8"
           },
           "y": {
            "bdata": "scaRVy/1nT+3Yh56eCOcv51K+CkYcfA/xaCPlPflsb+J+uJbuRuXP2tVa46RSfA/",
            "dtype": "f8"
           },
           "z": {
            "bdata": "usq7quYDXD9b1zvqWZvBv2+dH91RGWA/IQLtl55Dyb/6LNpM4KfVvwBC8RCIbNa/",
            "dtype": "f8"
           }
          },
          {
           "name": "Fixed Nodes",
           "type": "scatter3d",
           "x": [],
           "y": [],
           "z": []
          },
          {
           "name": "Edges",
           "type": "scatter3d",
           "x": [
            0.8745697337186266,
            -0.0567302708814061,
            null,
            -0.0567302708814061,
            -0.1140590816552443,
            null,
            -0.1140590816552443,
            0.8745697337186266,
            null,
            2.125670354872395,
            2.0305601289388067,
            null,
            2.0305601289388067,
            1.1399891350068672,
            null,
            1.1399891350068672,
            2.125670354872395,
            null
           ],
           "y": [
            -0.027479059651883655,
            1.0276109351586122,
            null,
            1.0276109351586122,
            0.02925561878186639,
            null,
            0.02925561878186639,
            -0.027479059651883655,
            null,
            0.02256669638949885,
            1.0179610789540117,
            null,
            1.0179610789540117,
            -0.06991526963213619,
            null,
            -0.06991526963213619,
            0.02256669638949885,
            null
           ],
           "z": [
            -0.13755344330973682,
            0.00196519841209735,
            null,
            0.00196519841209735,
            0.0017099144560545469,
            null,
            0.0017099144560545469,
            -0.13755344330973682,
            null,
            -0.33837134842970296,
            -0.3503742375806098,
            null,
            -0.3503742375806098,
            -0.19737608354809402,
            null,
            -0.19737608354809402,
            -0.33837134842970296,
            null
           ]
          },
          {
           "i": [
            0,
            3
           ],
           "j": [
            1,
            4
           ],
           "k": [
            2,
            5
           ],
           "name": "Faces",
           "type": "mesh3d",
           "x": {
            "bdata": "s2SF2fkyvb/hkoyqefzrP/r5QQTAC62/rWVKP2U98j96B4J1XwEBQGrUEk+WPgBA",
            "dtype": "f8"
           },
           "y": {
            "bdata": "scaRVy/1nT+3Yh56eCOcv51K+CkYcfA/xaCPlPflsb+J+uJbuRuXP2tVa46RSfA/",
            "dtype": "f8"
           },
           "z": {
            "bdata": "usq7quYDXD9b1zvqWZvBv2+dH91RGWA/IQLtl55Dyb/6LNpM4KfVvwBC8RCIbNa/",
            "dtype": "f8"
           }
          }
         ],
         "layout": {
          "annotations": [
           {
            "showarrow": false,
            "text": "Time: 0.87s (Step: 88/100)",
            "x": 0.05,
            "xref": "paper",
            "y": 0.95,
            "yref": "paper"
           }
          ]
         },
         "name": "87"
        },
        {
         "data": [
          {
           "name": "Free Nodes",
           "type": "scatter3d",
           "x": {
            "bdata": "W8ltBJKZvb8tc5Qw/+zrPwSG2OSXca2/TYtmihxG8j+uDvV75gQBQKpfaWJePwBA",
            "dtype": "f8"
           },
           "y": {
            "bdata": "sW3E641gnj9wV9FaJYCcv6IgPdaVcvA/BO9KwPkisr9BLF7q3m+XP7dI2qdYSvA/",
            "dtype": "f8"
           },
           "z": {
            "bdata": "yQaEhixPXD87u7xcZ9vBv5CXFXPJTGA/fK1YfCKlyb8SLpJ7TPnVv23WJvvHwNa/",
            "dtype": "f8"
           }
          },
          {
           "name": "Fixed Nodes",
           "type": "scatter3d",
           "x": [],
           "y": [],
           "z": []
          },
          {
           "name": "Edges",
           "type": "scatter3d",
           "x": [
            0.8726802777124242,
            -0.057507273373868656,
            null,
            -0.057507273373868656,
            -0.11562454803587256,
            null,
            -0.11562454803587256,
            0.8726802777124242,
            null,
            2.1273927387390676,
            2.030941742745161,
            null,
            2.030941742745161,
            1.1421170622131342,
            null,
            1.1421170622131342,
            2.1273927387390676,
            null
           ],
           "y": [
            -0.027832587879252413,
            1.0279749268247902,
            null,
            1.0279749268247902,
            0.029665200724691313,
            null,
            0.029665200724691313,
            -0.027832587879252413,
            null,
            0.022887690596274494,
            1.0181509548897745,
            null,
            1.0181509548897745,
            -0.07084618515630942,
            null,
            -0.07084618515630942,
            0.022887690596274494,
            null
           ],
           "z": [
            -0.13950817135033752,
            0.0019897398530472413,
            null,
            0.0019897398530472413,
            0.0017278609103076761,
            null,
            0.0017278609103076761,
            -0.13950817135033752,
            null,
            -0.343340988802738,
            -0.3555164292004978,
            null,
            -0.3555164292004978,
            -0.2003520114097731,
            null,
            -0.2003520114097731,
            -0.343340988802738,
            null
           ]
          },
          {
           "i": [
            0,
            3
           ],
           "j": [
            1,
            4
           ],
           "k": [
            2,
            5
           ],
           "name": "Faces",
           "type": "mesh3d",
           "x": {
            "bdata": "W8ltBJKZvb8tc5Qw/+zrPwSG2OSXca2/TYtmihxG8j+uDvV75gQBQKpfaWJePwBA",
            "dtype": "f8"
           },
           "y": {
            "bdata": "sW3E641gnj9wV9FaJYCcv6IgPdaVcvA/BO9KwPkisr9BLF7q3m+XP7dI2qdYSvA/",
            "dtype": "f8"
           },
           "z": {
            "bdata": "yQaEhixPXD87u7xcZ9vBv5CXFXPJTGA/fK1YfCKlyb8SLpJ7TPnVv23WJvvHwNa/",
            "dtype": "f8"
           }
          }
         ],
         "layout": {
          "annotations": [
           {
            "showarrow": false,
            "text": "Time: 0.88s (Step: 89/100)",
            "x": 0.05,
            "xref": "paper",
            "y": 0.95,
            "yref": "paper"
           }
          ]
         },
         "name": "88"
        },
        {
         "data": [
          {
           "name": "Free Nodes",
           "type": "scatter3d",
           "x": {
            "bdata": "ZQ166QwAvr/6gV0Jf93rP107On1P162//PZGgNdO8j8gnZ97bAgBQKVAJqclQABA",
            "dtype": "f8"
           },
           "y": {
            "bdata": "yA5pLtjLnj/Iqf7BgtycvzUY4pUSdPA/ZWIQ7Nhfsr+GTqpL+8OXP5Oa/rUdS/A/",
            "dtype": "f8"
           },
           "z": {
            "bdata": "SSCJ72CZXD8Ns0txcRvCv34f8kXyf2A/xvVSFqsGyr/Bh012t0rWv8vDkb4GFde/",
            "dtype": "f8"
           }
          },
          {
           "name": "Fixed Nodes",
           "type": "scatter3d",
           "x": [],
           "y": [],
           "z": []
          },
          {
           "name": "Edges",
           "type": "scatter3d",
           "x": [
            0.8707881148257564,
            -0.0582833137860834,
            null,
            -0.0582833137860834,
            -0.11718826961628322,
            null,
            -0.11718826961628322,
            0.8707881148257564,
            null,
            2.1291131647191293,
            2.0313218172596685,
            null,
            2.0313218172596685,
            1.144248486597859,
            null,
            1.144248486597859,
            2.1291131647191293,
            null
           ],
           "y": [
            -0.028184931841374966,
            1.0283380369960586,
            null,
            1.0283380369960586,
            0.030074479897179512,
            null,
            0.030074479897179512,
            -0.028184931841374966,
            null,
            0.023208548062554367,
            1.0183388814126928,
            null,
            1.0183388814126928,
            -0.07177501452714237,
            null,
            -0.07177501452714237,
            0.023208548062554367,
            null
           ],
           "z": [
            -0.14146249801651614,
            0.002014134588140536,
            null,
            0.002014134588140536,
            0.0017455526959953163,
            null,
            0.0017455526959953163,
            -0.14146249801651614,
            null,
            -0.34831034234059294,
            -0.3606583462743031,
            null,
            -0.3606583462743031,
            -0.20332850065271496,
            null,
            -0.20332850065271496,
            -0.34831034234059294,
            null
           ]
          },
          {
           "i": [
            0,
            3
           ],
           "j": [
            1,
            4
           ],
           "k": [
            2,
            5
           ],
           "name": "Faces",
           "type": "mesh3d",
           "x": {
            "bdata": "ZQ166QwAvr/6gV0Jf93rP107On1P162//PZGgNdO8j8gnZ97bAgBQKVAJqclQABA",
            "dtype": "f8"
           },
           "y": {
            "bdata": "yA5pLtjLnj/Iqf7BgtycvzUY4pUSdPA/ZWIQ7Nhfsr+GTqpL+8OXP5Oa/rUdS/A/",
            "dtype": "f8"
           },
           "z": {
            "bdata": "SSCJ72CZXD8Ns0txcRvCv34f8kXyf2A/xvVSFqsGyr/Bh012t0rWv8vDkb4GFde/",
            "dtype": "f8"
           }
          }
         ],
         "layout": {
          "annotations": [
           {
            "showarrow": false,
            "text": "Time: 0.89s (Step: 90/100)",
            "x": 0.05,
            "xref": "paper",
            "y": 0.95,
            "yref": "paper"
           }
          ]
         },
         "name": "89"
        },
        {
         "data": [
          {
           "name": "Free Nodes",
           "type": "scatter3d",
           "x": {
            "bdata": "U7Ggk2pmvr+/Lv81+c3rP2gQ8cjmPK6/wsaMH5ZX8j87ZRd18QsBQOw1Yx3sQABA",
            "dtype": "f8"
           },
           "y": {
            "bdata": "1c7q8g03nz+I971xkDidvzrjoWiOdfA/FKCd+pScsr+QBwlADhiYP7keA7jgS/A/",
            "dtype": "f8"
           },
           "z": {
            "bdata": "A4x9Z4DiXD8vxBkceFvCv0dSHSHLsmA/bFswdjhoyr8t6Fg5IZzWv78bu1ZEade/",
            "dtype": "f8"
           }
          },
          {
           "name": "Fixed Nodes",
           "type": "scatter3d",
           "x": [],
           "y": [],
           "z": []
          },
          {
           "name": "Edges",
           "type": "scatter3d",
           "x": [
            0.8688932470917833,
            -0.05905839159871179,
            null,
            -0.05905839159871179,
            -0.11875024894897494,
            null,
            -0.11875024894897494,
            0.8688932470917833,
            null,
            2.1308316371693343,
            2.0317003532315905,
            null,
            2.0317003532315905,
            1.1463834030550264,
            null,
            1.1463834030550264,
            2.1308316371693343,
            null
           ],
           "y": [
            -0.028536087934746074,
            1.0287002646638954,
            null,
            1.0287002646638954,
            0.03048345370434798,
            null,
            0.03048345370434798,
            -0.028536087934746074,
            null,
            0.023529265077975092,
            1.018524855420692,
            null,
            1.018524855420692,
            -0.07270175093219705,
            null,
            -0.07270175093219705,
            0.023529265077975092,
            null
           ],
           "z": [
            -0.14341641780950584,
            0.0020383803720654156,
            null,
            0.0020383803720654156,
            0.00176298655966245,
            null,
            0.00176298655966245,
            -0.14341641780950584,
            null,
            -0.35327940559693866,
            -0.36579998464406666,
            null,
            -0.36579998464406666,
            -0.20630555888120783,
            null,
            -0.20630555888120783,
            -0.35327940559693866,
            null
           ]
          },
          {
           "i": [
            0,
            3
           ],
           "j": [
            1,
            4
           ],
           "k": [
            2,
            5
           ],
           "name": "Faces",
           "type": "mesh3d",
           "x": {
            "bdata": "U7Ggk2pmvr+/Lv81+c3rP2gQ8cjmPK6/wsaMH5ZX8j87ZRd18QsBQOw1Yx3sQABA",
            "dtype": "f8"
           },
           "y": {
            "bdata": "1c7q8g03nz+I971xkDidvzrjoWiOdfA/FKCd+pScsr+QBwlADhiYP7keA7jgS/A/",
            "dtype": "f8"
           },
           "z": {
            "bdata": "A4x9Z4DiXD8vxBkceFvCv0dSHSHLsmA/bFswdjhoyr8t6Fg5IZzWv78bu1ZEade/",
            "dtype": "f8"
           }
          }
         ],
         "layout": {
          "annotations": [
           {
            "showarrow": false,
            "text": "Time: 0.90s (Step: 91/100)",
            "x": 0.05,
            "xref": "paper",
            "y": 0.95,
            "yref": "paper"
           }
          ]
         },
         "name": "90"
        },
        {
         "data": [
          {
           "name": "Free Nodes",
           "type": "scatter3d",
           "x": {
            "bdata": "Ll7hDavMvr92GZO3bb7rP7+yl8Ndoq6/pPvWZlhg8j/7hvJodQ8BQACfOsWxQQBA",
            "dtype": "f8"
           },
           "y": {
            "bdata": "f8DgDC+inz98gUgsTpSdv2kKN04Jd/A//OPFzi3Zsr+1ECWIF2yYPwJeEq2hTPA/",
            "dtype": "f8"
           },
           "z": {
            "bdata": "i95HcocqXT9aillRe5vCv+3TSs9S5WA/2WVBrMrJyr+QPQXBie3Wv1msKb+Avde/",
            "dtype": "f8"
           }
          },
          {
           "name": "Fixed Nodes",
           "type": "scatter3d",
           "x": [],
           "y": [],
           "z": []
          },
          {
           "name": "Edges",
           "type": "scatter3d",
           "x": [
            0.8669956765595959,
            -0.05983250630001668,
            null,
            -0.05983250630001668,
            -0.12031048859477586,
            null,
            -0.12031048859477586,
            0.8669956765595959,
            null,
            2.1325481604588936,
            2.032077351428484,
            null,
            2.032077351428484,
            1.1485218064478682,
            null,
            1.1485218064478682,
            2.1325481604588936,
            null
           ],
           "y": [
            -0.02888605256350861,
            1.029061608817438,
            null,
            1.029061608817438,
            0.030892119561201966,
            null,
            0.030892119561201966,
            -0.02888605256350861,
            null,
            0.023849837956064508,
            1.0187088738074412,
            null,
            1.0187088738074412,
            -0.0736263875786704,
            null,
            -0.0736263875786704,
            0.023849837956064508,
            null
           ],
           "z": [
            -0.14536992523342712,
            0.0020624749543807137,
            null,
            0.0020624749543807137,
            0.001780159255870747,
            null,
            0.001780159255870747,
            -0.14536992523342712,
            null,
            -0.35824817514090856,
            -0.3709413401435931,
            null,
            -0.3709413401435931,
            -0.20928319369231366,
            null,
            -0.20928319369231366,
            -0.35824817514090856,
            null
           ]
          },
          {
           "i": [
            0,
            3
           ],
           "j": [
            1,
            4
           ],
           "k": [
            2,
            5
           ],
           "name": "Faces",
           "type": "mesh3d",
           "x": {
            "bdata": "Ll7hDavMvr92GZO3bb7rP7+yl8Ndoq6/pPvWZlhg8j/7hvJodQ8BQACfOsWxQQBA",
            "dtype": "f8"
           },
           "y": {
            "bdata": "f8DgDC+inz98gUgsTpSdv2kKN04Jd/A//OPFzi3Zsr+1ECWIF2yYPwJeEq2hTPA/",
            "dtype": "f8"
           },
           "z": {
            "bdata": "i95HcocqXT9aillRe5vCv+3TSs9S5WA/2WVBrMrJyr+QPQXBie3Wv1msKb+Avde/",
            "dtype": "f8"
           }
          }
         ],
         "layout": {
          "annotations": [
           {
            "showarrow": false,
            "text": "Time: 0.91s (Step: 92/100)",
            "x": 0.05,
            "xref": "paper",
            "y": 0.95,
            "yref": "paper"
           }
          ]
         },
         "name": "91"
        },
        {
         "data": [
          {
           "name": "Free Nodes",
           "type": "scatter3d",
           "x": {
            "bdata": "7dVEY84yv796ETWP3K7rPx6U2Wi0B6+/VnvCVB5p8j+bjsdX+BIBQMx8x552QgBA",
            "dtype": "f8"
           },
           "y": {
            "bdata": "dO8GqJ0GoD8PR/mzu++dv9PtW0aDePA/AxVyS6MVs7+6LBLlFsCYP9GXVpRgTfA/",
            "dtype": "f8"
           },
           "z": {
            "bdata": "+G4DlnJxXT9vPD8Fe9vCvzexehqIF2E/EpnSyGEry7/At6cJ8T7Xv8ADYvO7Edi/",
            "dtype": "f8"
           }
          },
          {
           "name": "Fixed Nodes",
           "type": "scatter3d",
           "x": [],
           "y": [],
           "z": []
          },
          {
           "name": "Edges",
           "type": "scatter3d",
           "x": [
            0.8650954052941835,
            -0.06060565738588529,
            null,
            -0.06060565738588529,
            -0.12186899112278811,
            null,
            -0.12186899112278811,
            0.8650954052941835,
            null,
            2.134262738969324,
            2.032452812636256,
            null,
            2.032452812636256,
            1.1506636916089596,
            null,
            1.1506636916089596,
            2.134262738969324,
            null
           ],
           "y": [
            -0.029234822139478086,
            1.0294220684435131,
            null,
            1.0294220684435131,
            0.03130047489273027,
            null,
            0.03130047489273027,
            -0.029234822139478086,
            null,
            0.024170263034233065,
            1.0188909334624336,
            null,
            1.0188909334624336,
            -0.07454891769346621,
            null,
            -0.07454891769346621,
            0.024170263034233065,
            null
           ],
           "z": [
            -0.14732301479532192,
            0.0020864160795409886,
            null,
            0.0020864160795409886,
            0.0017970675472075964,
            null,
            0.0017970675472075964,
            -0.14732301479532192,
            null,
            -0.36321664755712035,
            -0.37608240859850284,
            null,
            -0.37608240859850284,
            -0.2122614126757943,
            null,
            -0.2122614126757943,
            -0.36321664755712035,
            null
           ]
          },
          {
           "i": [
            0,
            3
           ],
           "j": [
            1,
            4
           ],
           "k": [
            2,
            5
           ],
           "name": "Faces",
           "type": "mesh3d",
           "x": {
            "bdata": "7dVEY84yv796ETWP3K7rPx6U2Wi0B6+/VnvCVB5p8j+bjsdX+BIBQMx8x552QgBA",
            "dtype": "f8"
           },
           "y": {
            "bdata": "dO8GqJ0GoD8PR/mzu++dv9PtW0aDePA/AxVyS6MVs7+6LBLlFsCYP9GXVpRgTfA/",
            "dtype": "f8"
           },
           "z": {
            "bdata": "+G4DlnJxXT9vPD8Fe9vCvzexehqIF2E/EpnSyGEry7/At6cJ8T7Xv8ADYvO7Edi/",
            "dtype": "f8"
           }
          }
         ],
         "layout": {
          "annotations": [
           {
            "showarrow": false,
            "text": "Time: 0.92s (Step: 93/100)",
            "x": 0.05,
            "xref": "paper",
            "y": 0.95,
            "yref": "paper"
           }
          ]
         },
         "name": "92"
        },
        {
         "data": [
          {
           "name": "Free Nodes",
           "type": "scatter3d",
           "x": {
            "bdata": "z+PcntSYv79TFAO+RZ/rP4H2crTqbK+/6BHq5+dx8j9Dcy1CehYBQCByJao6QwBA",
            "dtype": "f8"
           },
           "y": {
            "bdata": "RoUwSBk8oD/1H03L2Eqev1XFylD8efA/S9mgU/VRs79tH00YDBSZP3nD+WwdTvA/",
            "dtype": "f8"
           },
           "z": {
            "bdata": "GvYAWz63XT84sQAsdxvDvwpA+stpSWE/V2ss3P2My7+uyZkPV5DXv+Nz5u71Zdi/",
            "dtype": "f8"
           }
          },
          {
           "name": "Fixed Nodes",
           "type": "scatter3d",
           "x": [],
           "y": [],
           "z": []
          },
          {
           "name": "Edges",
           "type": "scatter3d",
           "x": [
            0.8631924353763999,
            -0.061377844359850726,
            null,
            -0.061377844359850726,
            -0.12342575911033225,
            null,
            -0.12342575911033225,
            0.8631924353763999,
            null,
            2.1359753770942986,
            2.032826737659221,
            null,
            2.032826737659221,
            1.1528090533403148,
            null,
            1.1528090533403148,
            2.1359753770942986,
            null
           ],
           "y": [
            -0.029582393082165443,
            1.0297816425266622,
            null,
            1.0297816425266622,
            0.03170851713390248,
            null,
            0.03170851713390248,
            -0.029582393082165443,
            null,
            0.024490536673766373,
            1.0190710312710662,
            null,
            1.0190710312710662,
            -0.07546933452326703,
            null,
            -0.07546933452326703,
            0.024490536673766373,
            null
           ],
           "z": [
            -0.1492756810051874,
            0.00211020148692143,
            null,
            0.00211020148692143,
            0.001813708204294945,
            null,
            0.001813708204294945,
            -0.1492756810051874,
            null,
            -0.36818481944569725,
            -0.3812231858262846,
            null,
            -0.3812231858262846,
            -0.21524022341403778,
            null,
            -0.21524022341403778,
            -0.36818481944569725,
            null
           ]
          },
          {
           "i": [
            0,
            3
           ],
           "j": [
            1,
            4
           ],
           "k": [
            2,
            5
           ],
           "name": "Faces",
           "type": "mesh3d",
           "x": {
            "bdata": "z+PcntSYv79TFAO+RZ/rP4H2crTqbK+/6BHq5+dx8j9Dcy1CehYBQCByJao6QwBA",
            "dtype": "f8"
           },
           "y": {
            "bdata": "RoUwSBk8oD/1H03L2Eqev1XFylD8efA/S9mgU/VRs79tH00YDBSZP3nD+WwdTvA/",
            "dtype": "f8"
           },
           "z": {
            "bdata": "GvYAWz63XT84sQAsdxvDvwpA+stpSWE/V2ss3P2My7+uyZkPV5DXv+Nz5u71Zdi/",
            "dtype": "f8"
           }
          }
         ],
         "layout": {
          "annotations": [
           {
            "showarrow": false,
            "text": "Time: 0.93s (Step: 94/100)",
            "x": 0.05,
            "xref": "paper",
            "y": 0.95,
            "yref": "paper"
           }
          ]
         },
         "name": "93"
        },
        {
         "data": [
          {
           "name": "Free Nodes",
           "type": "scatter3d",
           "x": {
            "bdata": "0kzEy73+v7+ITB1FqY/rP1r4MKIA0q+/cXPmHrV68j+6lbso+xkBQCrEcOf9QwBA",
            "dtype": "f8"
           },
           "y": {
            "bdata": "j4H6UIpxoD9U1uI0paWevxmhPW10e/A/QapmyiOOs7+MpLvj9meZP6KRJTbYTvA/",
            "dtype": "f8"
           },
           "z": {
            "bdata": "/CrHS+f7XT8lZNW5b1vDv+8AZaz2emE/yTqT9p7uy7/gKjnPu+HXvysWN60uuti/",
            "dtype": "f8"
           }
          },
          {
           "name": "Fixed Nodes",
           "type": "scatter3d",
           "x": [],
           "y": [],
           "z": []
          },
          {
           "name": "Edges",
           "type": "scatter3d",
           "x": [
            0.8612867689029295,
            -0.06214906673311367,
            null,
            -0.06214906673311367,
            -0.12498079514289209,
            null,
            -0.12498079514289209,
            0.8612867689029295,
            null,
            2.137686079239498,
            2.0331991273201497,
            null,
            2.0331991273201497,
            1.154957886413481,
            null,
            1.154957886413481,
            2.137686079239498,
            null
           ],
           "y": [
            -0.02992876181880029,
            1.0301403300491698,
            null,
            1.0301403300491698,
            0.03211624372966348,
            null,
            0.03211624372966348,
            -0.02992876181880029,
            null,
            0.024810655259817113,
            1.019249164114719,
            null,
            1.019249164114719,
            -0.07638763133460548,
            null,
            -0.07638763133460548,
            0.024810655259817113,
            null
           ],
           "z": [
            -0.1512279183760096,
            0.002133828910842898,
            null,
            0.002133828910842898,
            0.001830078005797985,
            null,
            0.001830078005797985,
            -0.1512279183760096,
            null,
            -0.373152687422289,
            -0.38636366763634794,
            null,
            -0.38636366763634794,
            -0.21821963348198484,
            null,
            -0.21821963348198484,
            -0.373152687422289,
            null
           ]
          },
          {
           "i": [
            0,
            3
           ],
           "j": [
            1,
            4
           ],
           "k": [
            2,
            5
           ],
           "name": "Faces",
           "type": "mesh3d",
           "x": {
            "bdata": "0kzEy73+v7+ITB1FqY/rP1r4MKIA0q+/cXPmHrV68j+6lbso+xkBQCrEcOf9QwBA",
            "dtype": "f8"
           },
           "y": {
            "bdata": "j4H6UIpxoD9U1uI0paWevxmhPW10e/A/QapmyiOOs7+MpLvj9meZP6KRJTbYTvA/",
            "dtype": "f8"
           },
           "z": {
            "bdata": "/CrHS+f7XT8lZNW5b1vDv+8AZaz2emE/yTqT9p7uy7/gKjnPu+HXvysWN60uuti/",
            "dtype": "f8"
           }
          }
         ],
         "layout": {
          "annotations": [
           {
            "showarrow": false,
            "text": "Time: 0.94s (Step: 95/100)",
            "x": 0.05,
            "xref": "paper",
            "y": 0.95,
            "yref": "paper"
           }
          ]
         },
         "name": "94"
        },
        {
         "data": [
          {
           "name": "Free Nodes",
           "type": "scatter3d",
           "x": {
            "bdata": "CGCP+kQywL9zEKYlB4DrP5LQ+BZ7G7C/xT1O+IWD8j8TvwkMex0BQO1axlbARABA",
            "dtype": "f8"
           },
           "y": {
            "bdata": "zzGIrPCmoD+kQXuzIACfvxFqbpvrfPA/pejtki7Ks78SZawJ17uZP7RtA++QT/A/",
            "dtype": "f8"
           },
           "z": {
            "bdata": "pFsT9Wk/Xj8LevaiZJvDvyKCpYMtrGE/IkNHKEVQzL/f2OdEHzPYvzLP0SlmDtm/",
            "dtype": "f8"
           }
          },
          {
           "name": "Fixed Nodes",
           "type": "scatter3d",
           "x": [],
           "y": [],
           "z": []
          },
          {
           "name": "Edges",
           "type": "scatter3d",
           "x": [
            0.8593784079862544,
            -0.06291932402456471,
            null,
            -0.06291932402456471,
            -0.1265341018140591,
            null,
            -0.1265341018140591,
            0.8593784079862544,
            null,
            2.13939484982246,
            2.033569982460327,
            null,
            2.033569982460327,
            1.1571101855696366,
            null,
            1.1571101855696366,
            2.13939484982246,
            null
           ],
           "y": [
            -0.03027392478435477,
            1.0304981299910916,
            null,
            1.0304981299910916,
            0.03252365213493002,
            null,
            0.03252365213493002,
            -0.03027392478435477,
            null,
            0.02513061520139554,
            1.0194253288708355,
            null,
            1.0194253288708355,
            -0.0773038014139354,
            null,
            -0.0773038014139354,
            0.02513061520139554,
            null
           ],
           "z": [
            -0.15317972142379718,
            0.00215729608059713,
            null,
            0.00215729608059713,
            0.0018461737384336341,
            null,
            0.0018461737384336341,
            -0.15317972142379718,
            null,
            -0.37812024811809225,
            -0.3915038498300759,
            null,
            -0.3915038498300759,
            -0.22119965044705575,
            null,
            -0.22119965044705575,
            -0.37812024811809225,
            null
           ]
          },
          {
           "i": [
            0,
            3
           ],
           "j": [
            1,
            4
           ],
           "k": [
            2,
            5
           ],
           "name": "Faces",
           "type": "mesh3d",
           "x": {
            "bdata": "CGCP+kQywL9zEKYlB4DrP5LQ+BZ7G7C/xT1O+IWD8j8TvwkMex0BQO1axlbARABA",
            "dtype": "f8"
           },
           "y": {
            "bdata": "zzGIrPCmoD+kQXuzIACfvxFqbpvrfPA/pejtki7Ks78SZawJ17uZP7RtA++QT/A/",
            "dtype": "f8"
           },
           "z": {
            "bdata": "pFsT9Wk/Xj8LevaiZJvDvyKCpYMtrGE/IkNHKEVQzL/f2OdEHzPYvzLP0SlmDtm/",
            "dtype": "f8"
           }
          }
         ],
         "layout": {
          "annotations": [
           {
            "showarrow": false,
            "text": "Time: 0.95s (Step: 96/100)",
            "x": 0.05,
            "xref": "paper",
            "y": 0.95,
            "yref": "paper"
           }
          ]
         },
         "name": "95"
        },
        {
         "data": [
          {
           "name": "Free Nodes",
           "type": "scatter3d",
           "x": {
            "bdata": "sGMMkxxlwL8R4cFgX3DrP4D20anlTbC/Hvq1clqM8j9gH7Ds+SABQLrBQ/iBRQBA",
            "dtype": "f8"
           },
           "y": {
            "bdata": "X84SRUzcoD+nX/kJS1qfv3HiFtthfvA/ovB2kBUGtL8g7dZMrA+aP0F/vJZHUPA/",
            "dtype": "f8"
           },
           "z": {
            "bdata": "yQTa5cKBXj/ZxZ7bVdvDv/9A9hgN3WE/a5OEgfCxzL+hGAxtgYTYv35SMmCcYtm/",
            "dtype": "f8"
           }
          },
          {
           "name": "Fixed Nodes",
           "type": "scatter3d",
           "x": [],
           "y": [],
           "z": []
          },
          {
           "name": "Edges",
           "type": "scatter3d",
           "x": [
            0.8574673547546202,
            -0.06368861576080498,
            null,
            -0.06368861576080498,
            -0.12808568172547785,
            null,
            -0.12808568172547785,
            0.8574673547546202,
            null,
            2.1411016932724323,
            2.0339393039396017,
            null,
            2.0339393039396017,
            1.1592659455196848,
            null,
            1.1592659455196848,
            2.1411016932724323,
            null
           ],
           "y": [
            -0.03061787842156574,
            1.0308550413302806,
            null,
            1.0308550413302806,
            0.03293073981458571,
            null,
            0.03293073981458571,
            -0.03061787842156574,
            null,
            0.025450412931360522,
            1.0195995224130032,
            null,
            1.0195995224130032,
            -0.07821783806770324,
            null,
            -0.07821783806770324,
            0.025450412931360522,
            null
           ],
           "z": [
            -0.15513108466761485,
            0.00218060072047177,
            null,
            0.00218060072047177,
            0.0018619921969789557,
            null,
            0.0018619921969789557,
            -0.15513108466761485,
            null,
            -0.3830874981798705,
            -0.39664372820087823,
            null,
            -0.39664372820087823,
            -0.22418028186907732,
            null,
            -0.22418028186907732,
            -0.3830874981798705,
            null
           ]
          },
          {
           "i": [
            0,
            3
           ],
           "j": [
            1,
            4
           ],
           "k": [
            2,
            5
           ],
           "name": "Faces",
           "type": "mesh3d",
           "x": {
            "bdata": "sGMMkxxlwL8R4cFgX3DrP4D20anlTbC/Hvq1clqM8j9gH7Ds+SABQLrBQ/iBRQBA",
            "dtype": "f8"
           },
           "y": {
            "bdata": "X84SRUzcoD+nX/kJS1qfv3HiFtthfvA/ovB2kBUGtL8g7dZMrA+aP0F/vJZHUPA/",
            "dtype": "f8"
           },
           "z": {
            "bdata": "yQTa5cKBXj/ZxZ7bVdvDv/9A9hgN3WE/a5OEgfCxzL+hGAxtgYTYv35SMmCcYtm/",
            "dtype": "f8"
           }
          }
         ],
         "layout": {
          "annotations": [
           {
            "showarrow": false,
            "text": "Time: 0.96s (Step: 97/100)",
            "x": 0.05,
            "xref": "paper",
            "y": 0.95,
            "yref": "paper"
           }
          ]
         },
         "name": "96"
        },
        {
         "data": [
          {
           "name": "Free Nodes",
           "type": "scatter3d",
           "x": {
            "bdata": "6tvztOWXwL/VaJf3sWDrP3jsowdAgLC/1x6wjDKV8j9iTEfLdyQBQKInB8xCRgBA",
            "dtype": "f8"
           },
           "y": {
            "bdata": "znfpBJ0RoT+3bmL7I7Sfvy6m8CvXf/A/Gi1YpthBtL/in1twdmOaP2ureSz8UPA/",
            "dtype": "f8"
           },
           "z": {
            "bdata": "D2VHr+7CXj9NzQpYQxvEv7ON4jKUDWI/ywODEqETzb/pdxBE4tXYvzgm0kvRttm/",
            "dtype": "f8"
           }
          },
          {
           "name": "Fixed Nodes",
           "type": "scatter3d",
           "x": [],
           "y": [],
           "z": []
          },
          {
           "name": "Edges",
           "type": "scatter3d",
           "x": [
            0.8555536113520029,
            -0.06445694147616787,
            null,
            -0.06445694147616787,
            -0.12963553748679085,
            null,
            -0.12963553748679085,
            0.8555536113520029,
            null,
            2.1428066140302215,
            2.03430709263644,
            null,
            2.03430709263644,
            1.1614251609443522,
            null,
            1.1614251609443522,
            2.1428066140302215,
            null
           ],
           "y": [
            -0.03096061918095813,
            1.031211063042416,
            null,
            1.031211063042416,
            0.033337504243476354,
            null,
            0.033337504243476354,
            -0.03096061918095813,
            null,
            0.02577004490640878,
            1.0197717416110332,
            null,
            1.0197717416110332,
            -0.0791297346224166,
            null,
            -0.0791297346224166,
            0.02577004490640878,
            null
           ],
           "z": [
            -0.15708200262961683,
            0.0022037405497756456,
            null,
            0.0022037405497756456,
            0.0018775301842793334,
            null,
            0.0018775301842793334,
            -0.15708200262961683,
            null,
            -0.3880544342699737,
            -0.401783298534244,
            null,
            -0.401783298534244,
            -0.2271615353002104,
            null,
            -0.2271615353002104,
            -0.3880544342699737,
            null
           ]
          },
          {
           "i": [
            0,
            3
           ],
           "j": [
            1,
            4
           ],
           "k": [
            2,
            5
           ],
           "name": "Faces",
           "type": "mesh3d",
           "x": {
            "bdata": "6tvztOWXwL/VaJf3sWDrP3jsowdAgLC/1x6wjDKV8j9iTEfLdyQBQKInB8xCRgBA",
            "dtype": "f8"
           },
           "y": {
            "bdata": "znfpBJ0RoT+3bmL7I7Sfvy6m8CvXf/A/Gi1YpthBtL/in1twdmOaP2ureSz8UPA/",
            "dtype": "f8"
           },
           "z": {
            "bdata": "D2VHr+7CXj9NzQpYQxvEv7ON4jKUDWI/ywODEqETzb/pdxBE4tXYvzgm0kvRttm/",
            "dtype": "f8"
           }
          }
         ],
         "layout": {
          "annotations": [
           {
            "showarrow": false,
            "text": "Time: 0.97s (Step: 98/100)",
            "x": 0.05,
            "xref": "paper",
            "y": 0.95,
            "yref": "paper"
           }
          ]
         },
         "name": "97"
        },
        {
         "data": [
          {
           "name": "Free Nodes",
           "type": "scatter3d",
           "x": {
            "bdata": "BtHkZaDKwL9wek/r/lDrP2Y3dy6KsrC/GRHNRA6e8j89QGio9CcBQOxfL9ICRwBA",
            "dtype": "f8"
           },
           "y": {
            "bdata": "ajRx1uJGoT/FA2+l1Qagv3krtY1LgfA/eSv+t3d9tL8brMM3NbeaP06WY6+uUfA/",
            "dtype": "f8"
           },
           "z": {
            "bdata": "UAvA5OkCXz+fzXgMLVvEv/1uR5fBPWI/Uit261Z1zb+izmPGQSfZv+6mKOgEC9q/",
            "dtype": "f8"
           }
          },
          {
           "name": "Fixed Nodes",
           "type": "scatter3d",
           "x": [],
           "y": [],
           "z": []
          },
          {
           "name": "Edges",
           "type": "scatter3d",
           "x": [
            0.8536371799380742,
            -0.0652243007127403,
            null,
            -0.0652243007127403,
            -0.13118367171558293,
            null,
            -0.13118367171558293,
            0.8536371799380742,
            null,
            2.144509616548048,
            2.034673349447976,
            null,
            2.034673349447976,
            1.1635878264942845,
            null,
            1.1635878264942845,
            2.144509616548048,
            null
           ],
           "y": [
            -0.03130214352086783,
            1.0315661941010303,
            null,
            1.0315661941010303,
            0.03374394290640555,
            null,
            0.03374394290640555,
            -0.03130214352086783,
            null,
            0.026089507607064726,
            1.0199419833310404,
            null,
            1.0199419833310404,
            -0.08003948442471466,
            null,
            -0.08003948442471466,
            0.026089507607064726,
            null
           ],
           "z": [
            -0.15903246983508,
            0.0022267132828640555,
            null,
            0.0022267132828640555,
            0.0018927845112563686,
            null,
            0.0018927845112563686,
            -0.15903246983508,
            null,
            -0.3930210530663577,
            -0.4069225566077951,
            null,
            -0.4069225566077951,
            -0.23014341828487744,
            null,
            -0.23014341828487744,
            -0.3930210530663577,
            null
           ]
          },
          {
           "i": [
            0,
            3
           ],
           "j": [
            1,
            4
           ],
           "k": [
            2,
            5
           ],
           "name": "Faces",
           "type": "mesh3d",
           "x": {
            "bdata": "BtHkZaDKwL9wek/r/lDrP2Y3dy6KsrC/GRHNRA6e8j89QGio9CcBQOxfL9ICRwBA",
            "dtype": "f8"
           },
           "y": {
            "bdata": "ajRx1uJGoT/FA2+l1Qagv3krtY1LgfA/eSv+t3d9tL8brMM3NbeaP06WY6+uUfA/",
            "dtype": "f8"
           },
           "z": {
            "bdata": "UAvA5OkCXz+fzXgMLVvEv/1uR5fBPWI/Uit261Z1zb+izmPGQSfZv+6mKOgEC9q/",
            "dtype": "f8"
           }
          }
         ],
         "layout": {
          "annotations": [
           {
            "showarrow": false,
            "text": "Time: 0.98s (Step: 99/100)",
            "x": 0.05,
            "xref": "paper",
            "y": 0.95,
            "yref": "paper"
           }
          ]
         },
         "name": "98"
        },
        {
         "data": [
          {
           "name": "Free Nodes",
           "type": "scatter3d",
           "x": {
            "bdata": "kKGCq0z9wL+mDxU9RkHrP1PoXBzE5LC/kSabme2m8j8pWKyEcCsBQIri2wrCRwBA",
            "dtype": "f8"
           },
           "y": {
            "bdata": "c+0kpB18oT/pGttdcDOgvzbDHQC/gvA/Rq/rqPK4tL9i/wBn6AqbP2ykoh5fUvA/",
            "dtype": "f8"
           },
           "z": {
            "bdata": "rWfhG7FBXz8wwCjtEpvEvwqFVAuUbWI/0lWNHBLXzb8sQHnwn3jZv1YLqzA3X9q/",
            "dtype": "f8"
           }
          },
          {
           "name": "Fixed Nodes",
           "type": "scatter3d",
           "x": [],
           "y": [],
           "z": []
          },
          {
           "name": "Edges",
           "type": "scatter3d",
           "x": [
            0.8517180626881682,
            -0.06599069302038289,
            null,
            -0.06599069302038289,
            -0.13273008703732758,
            null,
            -0.13273008703732758,
            0.8517180626881682,
            null,
            2.1462107052893953,
            2.035038075290065,
            null,
            2.035038075290065,
            1.165753936790143,
            null,
            1.165753936790143,
            2.1462107052893953,
            null
           ],
           "y": [
            -0.031642447907463574,
            1.0319204334775356,
            null,
            1.0319204334775356,
            0.03415005329812972,
            null,
            0.03415005329812972,
            -0.031642447907463574,
            null,
            0.026408797537669122,
            1.0201102444355241,
            null,
            1.0201102444355241,
            -0.08094708084143773,
            null,
            -0.08094708084143773,
            0.026408797537669122,
            null
           ],
           "z": [
            -0.16098248081243716,
            0.0022495166291639545,
            null,
            0.0022495166291639545,
            0.0019077519969159338,
            null,
            0.0019077519969159338,
            -0.16098248081243716,
            null,
            -0.39798735126260243,
            -0.41206149819133964,
            null,
            -0.41206149819133964,
            -0.23312593835969025,
            null,
            -0.23312593835969025,
            -0.39798735126260243,
            null
           ]
          },
          {
           "i": [
            0,
            3
           ],
           "j": [
            1,
            4
           ],
           "k": [
            2,
            5
           ],
           "name": "Faces",
           "type": "mesh3d",
           "x": {
            "bdata": "kKGCq0z9wL+mDxU9RkHrP1PoXBzE5LC/kSabme2m8j8pWKyEcCsBQIri2wrCRwBA",
            "dtype": "f8"
           },
           "y": {
            "bdata": "c+0kpB18oT/pGttdcDOgvzbDHQC/gvA/Rq/rqPK4tL9i/wBn6AqbP2ykoh5fUvA/",
            "dtype": "f8"
           },
           "z": {
            "bdata": "rWfhG7FBXz8wwCjtEpvEvwqFVAuUbWI/0lWNHBLXzb8sQHnwn3jZv1YLqzA3X9q/",
            "dtype": "f8"
           }
          }
         ],
         "layout": {
          "annotations": [
           {
            "showarrow": false,
            "text": "Time: 0.99s (Step: 100/100)",
            "x": 0.05,
            "xref": "paper",
            "y": 0.95,
            "yref": "paper"
           }
          ]
         },
         "name": "99"
        }
       ],
       "layout": {
        "scene": {
         "camera": {
          "eye": {
           "x": 1.2247448713915892,
           "y": 1.2247448713915892,
           "z": 0.9999999999999999
          }
         },
         "xaxis": {
          "range": [
           -0.13273008703732758,
           2.1462107052893953
          ],
          "title": {
           "text": "X Position"
          }
         },
         "yaxis": {
          "range": [
           -0.08094708084143773,
           1.0319204334775356
          ],
          "title": {
           "text": "Y Position"
          }
         },
         "zaxis": {
          "range": [
           -0.41206149819133964,
           0.095
          ],
          "title": {
           "text": "Z Position"
          }
         }
        },
        "sliders": [
         {
          "currentvalue": {
           "prefix": "Frame: "
          },
          "steps": [
           {
            "args": [
             [
              "0"
             ],
             {
              "frame": {
               "duration": 50,
               "redraw": true
              },
              "mode": "immediate"
             }
            ],
            "label": "0",
            "method": "animate"
           },
           {
            "args": [
             [
              "1"
             ],
             {
              "frame": {
               "duration": 50,
               "redraw": true
              },
              "mode": "immediate"
             }
            ],
            "label": "1",
            "method": "animate"
           },
           {
            "args": [
             [
              "2"
             ],
             {
              "frame": {
               "duration": 50,
               "redraw": true
              },
              "mode": "immediate"
             }
            ],
            "label": "2",
            "method": "animate"
           },
           {
            "args": [
             [
              "3"
             ],
             {
              "frame": {
               "duration": 50,
               "redraw": true
              },
              "mode": "immediate"
             }
            ],
            "label": "3",
            "method": "animate"
           },
           {
            "args": [
             [
              "4"
             ],
             {
              "frame": {
               "duration": 50,
               "redraw": true
              },
              "mode": "immediate"
             }
            ],
            "label": "4",
            "method": "animate"
           },
           {
            "args": [
             [
              "5"
             ],
             {
              "frame": {
               "duration": 50,
               "redraw": true
              },
              "mode": "immediate"
             }
            ],
            "label": "5",
            "method": "animate"
           },
           {
            "args": [
             [
              "6"
             ],
             {
              "frame": {
               "duration": 50,
               "redraw": true
              },
              "mode": "immediate"
             }
            ],
            "label": "6",
            "method": "animate"
           },
           {
            "args": [
             [
              "7"
             ],
             {
              "frame": {
               "duration": 50,
               "redraw": true
              },
              "mode": "immediate"
             }
            ],
            "label": "7",
            "method": "animate"
           },
           {
            "args": [
             [
              "8"
             ],
             {
              "frame": {
               "duration": 50,
               "redraw": true
              },
              "mode": "immediate"
             }
            ],
            "label": "8",
            "method": "animate"
           },
           {
            "args": [
             [
              "9"
             ],
             {
              "frame": {
               "duration": 50,
               "redraw": true
              },
              "mode": "immediate"
             }
            ],
            "label": "9",
            "method": "animate"
           },
           {
            "args": [
             [
              "10"
             ],
             {
              "frame": {
               "duration": 50,
               "redraw": true
              },
              "mode": "immediate"
             }
            ],
            "label": "10",
            "method": "animate"
           },
           {
            "args": [
             [
              "11"
             ],
             {
              "frame": {
               "duration": 50,
               "redraw": true
              },
              "mode": "immediate"
             }
            ],
            "label": "11",
            "method": "animate"
           },
           {
            "args": [
             [
              "12"
             ],
             {
              "frame": {
               "duration": 50,
               "redraw": true
              },
              "mode": "immediate"
             }
            ],
            "label": "12",
            "method": "animate"
           },
           {
            "args": [
             [
              "13"
             ],
             {
              "frame": {
               "duration": 50,
               "redraw": true
              },
              "mode": "immediate"
             }
            ],
            "label": "13",
            "method": "animate"
           },
           {
            "args": [
             [
              "14"
             ],
             {
              "frame": {
               "duration": 50,
               "redraw": true
              },
              "mode": "immediate"
             }
            ],
            "label": "14",
            "method": "animate"
           },
           {
            "args": [
             [
              "15"
             ],
             {
              "frame": {
               "duration": 50,
               "redraw": true
              },
              "mode": "immediate"
             }
            ],
            "label": "15",
            "method": "animate"
           },
           {
            "args": [
             [
              "16"
             ],
             {
              "frame": {
               "duration": 50,
               "redraw": true
              },
              "mode": "immediate"
             }
            ],
            "label": "16",
            "method": "animate"
           },
           {
            "args": [
             [
              "17"
             ],
             {
              "frame": {
               "duration": 50,
               "redraw": true
              },
              "mode": "immediate"
             }
            ],
            "label": "17",
            "method": "animate"
           },
           {
            "args": [
             [
              "18"
             ],
             {
              "frame": {
               "duration": 50,
               "redraw": true
              },
              "mode": "immediate"
             }
            ],
            "label": "18",
            "method": "animate"
           },
           {
            "args": [
             [
              "19"
             ],
             {
              "frame": {
               "duration": 50,
               "redraw": true
              },
              "mode": "immediate"
             }
            ],
            "label": "19",
            "method": "animate"
           },
           {
            "args": [
             [
              "20"
             ],
             {
              "frame": {
               "duration": 50,
               "redraw": true
              },
              "mode": "immediate"
             }
            ],
            "label": "20",
            "method": "animate"
           },
           {
            "args": [
             [
              "21"
             ],
             {
              "frame": {
               "duration": 50,
               "redraw": true
              },
              "mode": "immediate"
             }
            ],
            "label": "21",
            "method": "animate"
           },
           {
            "args": [
             [
              "22"
             ],
             {
              "frame": {
               "duration": 50,
               "redraw": true
              },
              "mode": "immediate"
             }
            ],
            "label": "22",
            "method": "animate"
           },
           {
            "args": [
             [
              "23"
             ],
             {
              "frame": {
               "duration": 50,
               "redraw": true
              },
              "mode": "immediate"
             }
            ],
            "label": "23",
            "method": "animate"
           },
           {
            "args": [
             [
              "24"
             ],
             {
              "frame": {
               "duration": 50,
               "redraw": true
              },
              "mode": "immediate"
             }
            ],
            "label": "24",
            "method": "animate"
           },
           {
            "args": [
             [
              "25"
             ],
             {
              "frame": {
               "duration": 50,
               "redraw": true
              },
              "mode": "immediate"
             }
            ],
            "label": "25",
            "method": "animate"
           },
           {
            "args": [
             [
              "26"
             ],
             {
              "frame": {
               "duration": 50,
               "redraw": true
              },
              "mode": "immediate"
             }
            ],
            "label": "26",
            "method": "animate"
           },
           {
            "args": [
             [
              "27"
             ],
             {
              "frame": {
               "duration": 50,
               "redraw": true
              },
              "mode": "immediate"
             }
            ],
            "label": "27",
            "method": "animate"
           },
           {
            "args": [
             [
              "28"
             ],
             {
              "frame": {
               "duration": 50,
               "redraw": true
              },
              "mode": "immediate"
             }
            ],
            "label": "28",
            "method": "animate"
           },
           {
            "args": [
             [
              "29"
             ],
             {
              "frame": {
               "duration": 50,
               "redraw": true
              },
              "mode": "immediate"
             }
            ],
            "label": "29",
            "method": "animate"
           },
           {
            "args": [
             [
              "30"
             ],
             {
              "frame": {
               "duration": 50,
               "redraw": true
              },
              "mode": "immediate"
             }
            ],
            "label": "30",
            "method": "animate"
           },
           {
            "args": [
             [
              "31"
             ],
             {
              "frame": {
               "duration": 50,
               "redraw": true
              },
              "mode": "immediate"
             }
            ],
            "label": "31",
            "method": "animate"
           },
           {
            "args": [
             [
              "32"
             ],
             {
              "frame": {
               "duration": 50,
               "redraw": true
              },
              "mode": "immediate"
             }
            ],
            "label": "32",
            "method": "animate"
           },
           {
            "args": [
             [
              "33"
             ],
             {
              "frame": {
               "duration": 50,
               "redraw": true
              },
              "mode": "immediate"
             }
            ],
            "label": "33",
            "method": "animate"
           },
           {
            "args": [
             [
              "34"
             ],
             {
              "frame": {
               "duration": 50,
               "redraw": true
              },
              "mode": "immediate"
             }
            ],
            "label": "34",
            "method": "animate"
           },
           {
            "args": [
             [
              "35"
             ],
             {
              "frame": {
               "duration": 50,
               "redraw": true
              },
              "mode": "immediate"
             }
            ],
            "label": "35",
            "method": "animate"
           },
           {
            "args": [
             [
              "36"
             ],
             {
              "frame": {
               "duration": 50,
               "redraw": true
              },
              "mode": "immediate"
             }
            ],
            "label": "36",
            "method": "animate"
           },
           {
            "args": [
             [
              "37"
             ],
             {
              "frame": {
               "duration": 50,
               "redraw": true
              },
              "mode": "immediate"
             }
            ],
            "label": "37",
            "method": "animate"
           },
           {
            "args": [
             [
              "38"
             ],
             {
              "frame": {
               "duration": 50,
               "redraw": true
              },
              "mode": "immediate"
             }
            ],
            "label": "38",
            "method": "animate"
           },
           {
            "args": [
             [
              "39"
             ],
             {
              "frame": {
               "duration": 50,
               "redraw": true
              },
              "mode": "immediate"
             }
            ],
            "label": "39",
            "method": "animate"
           },
           {
            "args": [
             [
              "40"
             ],
             {
              "frame": {
               "duration": 50,
               "redraw": true
              },
              "mode": "immediate"
             }
            ],
            "label": "40",
            "method": "animate"
           },
           {
            "args": [
             [
              "41"
             ],
             {
              "frame": {
               "duration": 50,
               "redraw": true
              },
              "mode": "immediate"
             }
            ],
            "label": "41",
            "method": "animate"
           },
           {
            "args": [
             [
              "42"
             ],
             {
              "frame": {
               "duration": 50,
               "redraw": true
              },
              "mode": "immediate"
             }
            ],
            "label": "42",
            "method": "animate"
           },
           {
            "args": [
             [
              "43"
             ],
             {
              "frame": {
               "duration": 50,
               "redraw": true
              },
              "mode": "immediate"
             }
            ],
            "label": "43",
            "method": "animate"
           },
           {
            "args": [
             [
              "44"
             ],
             {
              "frame": {
               "duration": 50,
               "redraw": true
              },
              "mode": "immediate"
             }
            ],
            "label": "44",
            "method": "animate"
           },
           {
            "args": [
             [
              "45"
             ],
             {
              "frame": {
               "duration": 50,
               "redraw": true
              },
              "mode": "immediate"
             }
            ],
            "label": "45",
            "method": "animate"
           },
           {
            "args": [
             [
              "46"
             ],
             {
              "frame": {
               "duration": 50,
               "redraw": true
              },
              "mode": "immediate"
             }
            ],
            "label": "46",
            "method": "animate"
           },
           {
            "args": [
             [
              "47"
             ],
             {
              "frame": {
               "duration": 50,
               "redraw": true
              },
              "mode": "immediate"
             }
            ],
            "label": "47",
            "method": "animate"
           },
           {
            "args": [
             [
              "48"
             ],
             {
              "frame": {
               "duration": 50,
               "redraw": true
              },
              "mode": "immediate"
             }
            ],
            "label": "48",
            "method": "animate"
           },
           {
            "args": [
             [
              "49"
             ],
             {
              "frame": {
               "duration": 50,
               "redraw": true
              },
              "mode": "immediate"
             }
            ],
            "label": "49",
            "method": "animate"
           },
           {
            "args": [
             [
              "50"
             ],
             {
              "frame": {
               "duration": 50,
               "redraw": true
              },
              "mode": "immediate"
             }
            ],
            "label": "50",
            "method": "animate"
           },
           {
            "args": [
             [
              "51"
             ],
             {
              "frame": {
               "duration": 50,
               "redraw": true
              },
              "mode": "immediate"
             }
            ],
            "label": "51",
            "method": "animate"
           },
           {
            "args": [
             [
              "52"
             ],
             {
              "frame": {
               "duration": 50,
               "redraw": true
              },
              "mode": "immediate"
             }
            ],
            "label": "52",
            "method": "animate"
           },
           {
            "args": [
             [
              "53"
             ],
             {
              "frame": {
               "duration": 50,
               "redraw": true
              },
              "mode": "immediate"
             }
            ],
            "label": "53",
            "method": "animate"
           },
           {
            "args": [
             [
              "54"
             ],
             {
              "frame": {
               "duration": 50,
               "redraw": true
              },
              "mode": "immediate"
             }
            ],
            "label": "54",
            "method": "animate"
           },
           {
            "args": [
             [
              "55"
             ],
             {
              "frame": {
               "duration": 50,
               "redraw": true
              },
              "mode": "immediate"
             }
            ],
            "label": "55",
            "method": "animate"
           },
           {
            "args": [
             [
              "56"
             ],
             {
              "frame": {
               "duration": 50,
               "redraw": true
              },
              "mode": "immediate"
             }
            ],
            "label": "56",
            "method": "animate"
           },
           {
            "args": [
             [
              "57"
             ],
             {
              "frame": {
               "duration": 50,
               "redraw": true
              },
              "mode": "immediate"
             }
            ],
            "label": "57",
            "method": "animate"
           },
           {
            "args": [
             [
              "58"
             ],
             {
              "frame": {
               "duration": 50,
               "redraw": true
              },
              "mode": "immediate"
             }
            ],
            "label": "58",
            "method": "animate"
           },
           {
            "args": [
             [
              "59"
             ],
             {
              "frame": {
               "duration": 50,
               "redraw": true
              },
              "mode": "immediate"
             }
            ],
            "label": "59",
            "method": "animate"
           },
           {
            "args": [
             [
              "60"
             ],
             {
              "frame": {
               "duration": 50,
               "redraw": true
              },
              "mode": "immediate"
             }
            ],
            "label": "60",
            "method": "animate"
           },
           {
            "args": [
             [
              "61"
             ],
             {
              "frame": {
               "duration": 50,
               "redraw": true
              },
              "mode": "immediate"
             }
            ],
            "label": "61",
            "method": "animate"
           },
           {
            "args": [
             [
              "62"
             ],
             {
              "frame": {
               "duration": 50,
               "redraw": true
              },
              "mode": "immediate"
             }
            ],
            "label": "62",
            "method": "animate"
           },
           {
            "args": [
             [
              "63"
             ],
             {
              "frame": {
               "duration": 50,
               "redraw": true
              },
              "mode": "immediate"
             }
            ],
            "label": "63",
            "method": "animate"
           },
           {
            "args": [
             [
              "64"
             ],
             {
              "frame": {
               "duration": 50,
               "redraw": true
              },
              "mode": "immediate"
             }
            ],
            "label": "64",
            "method": "animate"
           },
           {
            "args": [
             [
              "65"
             ],
             {
              "frame": {
               "duration": 50,
               "redraw": true
              },
              "mode": "immediate"
             }
            ],
            "label": "65",
            "method": "animate"
           },
           {
            "args": [
             [
              "66"
             ],
             {
              "frame": {
               "duration": 50,
               "redraw": true
              },
              "mode": "immediate"
             }
            ],
            "label": "66",
            "method": "animate"
           },
           {
            "args": [
             [
              "67"
             ],
             {
              "frame": {
               "duration": 50,
               "redraw": true
              },
              "mode": "immediate"
             }
            ],
            "label": "67",
            "method": "animate"
           },
           {
            "args": [
             [
              "68"
             ],
             {
              "frame": {
               "duration": 50,
               "redraw": true
              },
              "mode": "immediate"
             }
            ],
            "label": "68",
            "method": "animate"
           },
           {
            "args": [
             [
              "69"
             ],
             {
              "frame": {
               "duration": 50,
               "redraw": true
              },
              "mode": "immediate"
             }
            ],
            "label": "69",
            "method": "animate"
           },
           {
            "args": [
             [
              "70"
             ],
             {
              "frame": {
               "duration": 50,
               "redraw": true
              },
              "mode": "immediate"
             }
            ],
            "label": "70",
            "method": "animate"
           },
           {
            "args": [
             [
              "71"
             ],
             {
              "frame": {
               "duration": 50,
               "redraw": true
              },
              "mode": "immediate"
             }
            ],
            "label": "71",
            "method": "animate"
           },
           {
            "args": [
             [
              "72"
             ],
             {
              "frame": {
               "duration": 50,
               "redraw": true
              },
              "mode": "immediate"
             }
            ],
            "label": "72",
            "method": "animate"
           },
           {
            "args": [
             [
              "73"
             ],
             {
              "frame": {
               "duration": 50,
               "redraw": true
              },
              "mode": "immediate"
             }
            ],
            "label": "73",
            "method": "animate"
           },
           {
            "args": [
             [
              "74"
             ],
             {
              "frame": {
               "duration": 50,
               "redraw": true
              },
              "mode": "immediate"
             }
            ],
            "label": "74",
            "method": "animate"
           },
           {
            "args": [
             [
              "75"
             ],
             {
              "frame": {
               "duration": 50,
               "redraw": true
              },
              "mode": "immediate"
             }
            ],
            "label": "75",
            "method": "animate"
           },
           {
            "args": [
             [
              "76"
             ],
             {
              "frame": {
               "duration": 50,
               "redraw": true
              },
              "mode": "immediate"
             }
            ],
            "label": "76",
            "method": "animate"
           },
           {
            "args": [
             [
              "77"
             ],
             {
              "frame": {
               "duration": 50,
               "redraw": true
              },
              "mode": "immediate"
             }
            ],
            "label": "77",
            "method": "animate"
           },
           {
            "args": [
             [
              "78"
             ],
             {
              "frame": {
               "duration": 50,
               "redraw": true
              },
              "mode": "immediate"
             }
            ],
            "label": "78",
            "method": "animate"
           },
           {
            "args": [
             [
              "79"
             ],
             {
              "frame": {
               "duration": 50,
               "redraw": true
              },
              "mode": "immediate"
             }
            ],
            "label": "79",
            "method": "animate"
           },
           {
            "args": [
             [
              "80"
             ],
             {
              "frame": {
               "duration": 50,
               "redraw": true
              },
              "mode": "immediate"
             }
            ],
            "label": "80",
            "method": "animate"
           },
           {
            "args": [
             [
              "81"
             ],
             {
              "frame": {
               "duration": 50,
               "redraw": true
              },
              "mode": "immediate"
             }
            ],
            "label": "81",
            "method": "animate"
           },
           {
            "args": [
             [
              "82"
             ],
             {
              "frame": {
               "duration": 50,
               "redraw": true
              },
              "mode": "immediate"
             }
            ],
            "label": "82",
            "method": "animate"
           },
           {
            "args": [
             [
              "83"
             ],
             {
              "frame": {
               "duration": 50,
               "redraw": true
              },
              "mode": "immediate"
             }
            ],
            "label": "83",
            "method": "animate"
           },
           {
            "args": [
             [
              "84"
             ],
             {
              "frame": {
               "duration": 50,
               "redraw": true
              },
              "mode": "immediate"
             }
            ],
            "label": "84",
            "method": "animate"
           },
           {
            "args": [
             [
              "85"
             ],
             {
              "frame": {
               "duration": 50,
               "redraw": true
              },
              "mode": "immediate"
             }
            ],
            "label": "85",
            "method": "animate"
           },
           {
            "args": [
             [
              "86"
             ],
             {
              "frame": {
               "duration": 50,
               "redraw": true
              },
              "mode": "immediate"
             }
            ],
            "label": "86",
            "method": "animate"
           },
           {
            "args": [
             [
              "87"
             ],
             {
              "frame": {
               "duration": 50,
               "redraw": true
              },
              "mode": "immediate"
             }
            ],
            "label": "87",
            "method": "animate"
           },
           {
            "args": [
             [
              "88"
             ],
             {
              "frame": {
               "duration": 50,
               "redraw": true
              },
              "mode": "immediate"
             }
            ],
            "label": "88",
            "method": "animate"
           },
           {
            "args": [
             [
              "89"
             ],
             {
              "frame": {
               "duration": 50,
               "redraw": true
              },
              "mode": "immediate"
             }
            ],
            "label": "89",
            "method": "animate"
           },
           {
            "args": [
             [
              "90"
             ],
             {
              "frame": {
               "duration": 50,
               "redraw": true
              },
              "mode": "immediate"
             }
            ],
            "label": "90",
            "method": "animate"
           },
           {
            "args": [
             [
              "91"
             ],
             {
              "frame": {
               "duration": 50,
               "redraw": true
              },
              "mode": "immediate"
             }
            ],
            "label": "91",
            "method": "animate"
           },
           {
            "args": [
             [
              "92"
             ],
             {
              "frame": {
               "duration": 50,
               "redraw": true
              },
              "mode": "immediate"
             }
            ],
            "label": "92",
            "method": "animate"
           },
           {
            "args": [
             [
              "93"
             ],
             {
              "frame": {
               "duration": 50,
               "redraw": true
              },
              "mode": "immediate"
             }
            ],
            "label": "93",
            "method": "animate"
           },
           {
            "args": [
             [
              "94"
             ],
             {
              "frame": {
               "duration": 50,
               "redraw": true
              },
              "mode": "immediate"
             }
            ],
            "label": "94",
            "method": "animate"
           },
           {
            "args": [
             [
              "95"
             ],
             {
              "frame": {
               "duration": 50,
               "redraw": true
              },
              "mode": "immediate"
             }
            ],
            "label": "95",
            "method": "animate"
           },
           {
            "args": [
             [
              "96"
             ],
             {
              "frame": {
               "duration": 50,
               "redraw": true
              },
              "mode": "immediate"
             }
            ],
            "label": "96",
            "method": "animate"
           },
           {
            "args": [
             [
              "97"
             ],
             {
              "frame": {
               "duration": 50,
               "redraw": true
              },
              "mode": "immediate"
             }
            ],
            "label": "97",
            "method": "animate"
           },
           {
            "args": [
             [
              "98"
             ],
             {
              "frame": {
               "duration": 50,
               "redraw": true
              },
              "mode": "immediate"
             }
            ],
            "label": "98",
            "method": "animate"
           },
           {
            "args": [
             [
              "99"
             ],
             {
              "frame": {
               "duration": 50,
               "redraw": true
              },
              "mode": "immediate"
             }
            ],
            "label": "99",
            "method": "animate"
           }
          ],
          "transition": {
           "duration": 0
          },
          "x": 0.1,
          "y": 0
         }
        ],
        "template": {
         "data": {
          "bar": [
           {
            "error_x": {
             "color": "#2a3f5f"
            },
            "error_y": {
             "color": "#2a3f5f"
            },
            "marker": {
             "line": {
              "color": "#E5ECF6",
              "width": 0.5
             },
             "pattern": {
              "fillmode": "overlay",
              "size": 10,
              "solidity": 0.2
             }
            },
            "type": "bar"
           }
          ],
          "barpolar": [
           {
            "marker": {
             "line": {
              "color": "#E5ECF6",
              "width": 0.5
             },
             "pattern": {
              "fillmode": "overlay",
              "size": 10,
              "solidity": 0.2
             }
            },
            "type": "barpolar"
           }
          ],
          "carpet": [
           {
            "aaxis": {
             "endlinecolor": "#2a3f5f",
             "gridcolor": "white",
             "linecolor": "white",
             "minorgridcolor": "white",
             "startlinecolor": "#2a3f5f"
            },
            "baxis": {
             "endlinecolor": "#2a3f5f",
             "gridcolor": "white",
             "linecolor": "white",
             "minorgridcolor": "white",
             "startlinecolor": "#2a3f5f"
            },
            "type": "carpet"
           }
          ],
          "choropleth": [
           {
            "colorbar": {
             "outlinewidth": 0,
             "ticks": ""
            },
            "type": "choropleth"
           }
          ],
          "contour": [
           {
            "colorbar": {
             "outlinewidth": 0,
             "ticks": ""
            },
            "colorscale": [
             [
              0,
              "#0d0887"
             ],
             [
              0.1111111111111111,
              "#46039f"
             ],
             [
              0.2222222222222222,
              "#7201a8"
             ],
             [
              0.3333333333333333,
              "#9c179e"
             ],
             [
              0.4444444444444444,
              "#bd3786"
             ],
             [
              0.5555555555555556,
              "#d8576b"
             ],
             [
              0.6666666666666666,
              "#ed7953"
             ],
             [
              0.7777777777777778,
              "#fb9f3a"
             ],
             [
              0.8888888888888888,
              "#fdca26"
             ],
             [
              1,
              "#f0f921"
             ]
            ],
            "type": "contour"
           }
          ],
          "contourcarpet": [
           {
            "colorbar": {
             "outlinewidth": 0,
             "ticks": ""
            },
            "type": "contourcarpet"
           }
          ],
          "heatmap": [
           {
            "colorbar": {
             "outlinewidth": 0,
             "ticks": ""
            },
            "colorscale": [
             [
              0,
              "#0d0887"
             ],
             [
              0.1111111111111111,
              "#46039f"
             ],
             [
              0.2222222222222222,
              "#7201a8"
             ],
             [
              0.3333333333333333,
              "#9c179e"
             ],
             [
              0.4444444444444444,
              "#bd3786"
             ],
             [
              0.5555555555555556,
              "#d8576b"
             ],
             [
              0.6666666666666666,
              "#ed7953"
             ],
             [
              0.7777777777777778,
              "#fb9f3a"
             ],
             [
              0.8888888888888888,
              "#fdca26"
             ],
             [
              1,
              "#f0f921"
             ]
            ],
            "type": "heatmap"
           }
          ],
          "histogram": [
           {
            "marker": {
             "pattern": {
              "fillmode": "overlay",
              "size": 10,
              "solidity": 0.2
             }
            },
            "type": "histogram"
           }
          ],
          "histogram2d": [
           {
            "colorbar": {
             "outlinewidth": 0,
             "ticks": ""
            },
            "colorscale": [
             [
              0,
              "#0d0887"
             ],
             [
              0.1111111111111111,
              "#46039f"
             ],
             [
              0.2222222222222222,
              "#7201a8"
             ],
             [
              0.3333333333333333,
              "#9c179e"
             ],
             [
              0.4444444444444444,
              "#bd3786"
             ],
             [
              0.5555555555555556,
              "#d8576b"
             ],
             [
              0.6666666666666666,
              "#ed7953"
             ],
             [
              0.7777777777777778,
              "#fb9f3a"
             ],
             [
              0.8888888888888888,
              "#fdca26"
             ],
             [
              1,
              "#f0f921"
             ]
            ],
            "type": "histogram2d"
           }
          ],
          "histogram2dcontour": [
           {
            "colorbar": {
             "outlinewidth": 0,
             "ticks": ""
            },
            "colorscale": [
             [
              0,
              "#0d0887"
             ],
             [
              0.1111111111111111,
              "#46039f"
             ],
             [
              0.2222222222222222,
              "#7201a8"
             ],
             [
              0.3333333333333333,
              "#9c179e"
             ],
             [
              0.4444444444444444,
              "#bd3786"
             ],
             [
              0.5555555555555556,
              "#d8576b"
             ],
             [
              0.6666666666666666,
              "#ed7953"
             ],
             [
              0.7777777777777778,
              "#fb9f3a"
             ],
             [
              0.8888888888888888,
              "#fdca26"
             ],
             [
              1,
              "#f0f921"
             ]
            ],
            "type": "histogram2dcontour"
           }
          ],
          "mesh3d": [
           {
            "colorbar": {
             "outlinewidth": 0,
             "ticks": ""
            },
            "type": "mesh3d"
           }
          ],
          "parcoords": [
           {
            "line": {
             "colorbar": {
              "outlinewidth": 0,
              "ticks": ""
             }
            },
            "type": "parcoords"
           }
          ],
          "pie": [
           {
            "automargin": true,
            "type": "pie"
           }
          ],
          "scatter": [
           {
            "fillpattern": {
             "fillmode": "overlay",
             "size": 10,
             "solidity": 0.2
            },
            "type": "scatter"
           }
          ],
          "scatter3d": [
           {
            "line": {
             "colorbar": {
              "outlinewidth": 0,
              "ticks": ""
             }
            },
            "marker": {
             "colorbar": {
              "outlinewidth": 0,
              "ticks": ""
             }
            },
            "type": "scatter3d"
           }
          ],
          "scattercarpet": [
           {
            "marker": {
             "colorbar": {
              "outlinewidth": 0,
              "ticks": ""
             }
            },
            "type": "scattercarpet"
           }
          ],
          "scattergeo": [
           {
            "marker": {
             "colorbar": {
              "outlinewidth": 0,
              "ticks": ""
             }
            },
            "type": "scattergeo"
           }
          ],
          "scattergl": [
           {
            "marker": {
             "colorbar": {
              "outlinewidth": 0,
              "ticks": ""
             }
            },
            "type": "scattergl"
           }
          ],
          "scattermap": [
           {
            "marker": {
             "colorbar": {
              "outlinewidth": 0,
              "ticks": ""
             }
            },
            "type": "scattermap"
           }
          ],
          "scattermapbox": [
           {
            "marker": {
             "colorbar": {
              "outlinewidth": 0,
              "ticks": ""
             }
            },
            "type": "scattermapbox"
           }
          ],
          "scatterpolar": [
           {
            "marker": {
             "colorbar": {
              "outlinewidth": 0,
              "ticks": ""
             }
            },
            "type": "scatterpolar"
           }
          ],
          "scatterpolargl": [
           {
            "marker": {
             "colorbar": {
              "outlinewidth": 0,
              "ticks": ""
             }
            },
            "type": "scatterpolargl"
           }
          ],
          "scatterternary": [
           {
            "marker": {
             "colorbar": {
              "outlinewidth": 0,
              "ticks": ""
             }
            },
            "type": "scatterternary"
           }
          ],
          "surface": [
           {
            "colorbar": {
             "outlinewidth": 0,
             "ticks": ""
            },
            "colorscale": [
             [
              0,
              "#0d0887"
             ],
             [
              0.1111111111111111,
              "#46039f"
             ],
             [
              0.2222222222222222,
              "#7201a8"
             ],
             [
              0.3333333333333333,
              "#9c179e"
             ],
             [
              0.4444444444444444,
              "#bd3786"
             ],
             [
              0.5555555555555556,
              "#d8576b"
             ],
             [
              0.6666666666666666,
              "#ed7953"
             ],
             [
              0.7777777777777778,
              "#fb9f3a"
             ],
             [
              0.8888888888888888,
              "#fdca26"
             ],
             [
              1,
              "#f0f921"
             ]
            ],
            "type": "surface"
           }
          ],
          "table": [
           {
            "cells": {
             "fill": {
              "color": "#EBF0F8"
             },
             "line": {
              "color": "white"
             }
            },
            "header": {
             "fill": {
              "color": "#C8D4E3"
             },
             "line": {
              "color": "white"
             }
            },
            "type": "table"
           }
          ]
         },
         "layout": {
          "annotationdefaults": {
           "arrowcolor": "#2a3f5f",
           "arrowhead": 0,
           "arrowwidth": 1
          },
          "autotypenumbers": "strict",
          "coloraxis": {
           "colorbar": {
            "outlinewidth": 0,
            "ticks": ""
           }
          },
          "colorscale": {
           "diverging": [
            [
             0,
             "#8e0152"
            ],
            [
             0.1,
             "#c51b7d"
            ],
            [
             0.2,
             "#de77ae"
            ],
            [
             0.3,
             "#f1b6da"
            ],
            [
             0.4,
             "#fde0ef"
            ],
            [
             0.5,
             "#f7f7f7"
            ],
            [
             0.6,
             "#e6f5d0"
            ],
            [
             0.7,
             "#b8e186"
            ],
            [
             0.8,
             "#7fbc41"
            ],
            [
             0.9,
             "#4d9221"
            ],
            [
             1,
             "#276419"
            ]
           ],
           "sequential": [
            [
             0,
             "#0d0887"
            ],
            [
             0.1111111111111111,
             "#46039f"
            ],
            [
             0.2222222222222222,
             "#7201a8"
            ],
            [
             0.3333333333333333,
             "#9c179e"
            ],
            [
             0.4444444444444444,
             "#bd3786"
            ],
            [
             0.5555555555555556,
             "#d8576b"
            ],
            [
             0.6666666666666666,
             "#ed7953"
            ],
            [
             0.7777777777777778,
             "#fb9f3a"
            ],
            [
             0.8888888888888888,
             "#fdca26"
            ],
            [
             1,
             "#f0f921"
            ]
           ],
           "sequentialminus": [
            [
             0,
             "#0d0887"
            ],
            [
             0.1111111111111111,
             "#46039f"
            ],
            [
             0.2222222222222222,
             "#7201a8"
            ],
            [
             0.3333333333333333,
             "#9c179e"
            ],
            [
             0.4444444444444444,
             "#bd3786"
            ],
            [
             0.5555555555555556,
             "#d8576b"
            ],
            [
             0.6666666666666666,
             "#ed7953"
            ],
            [
             0.7777777777777778,
             "#fb9f3a"
            ],
            [
             0.8888888888888888,
             "#fdca26"
            ],
            [
             1,
             "#f0f921"
            ]
           ]
          },
          "colorway": [
           "#636efa",
           "#EF553B",
           "#00cc96",
           "#ab63fa",
           "#FFA15A",
           "#19d3f3",
           "#FF6692",
           "#B6E880",
           "#FF97FF",
           "#FECB52"
          ],
          "font": {
           "color": "#2a3f5f"
          },
          "geo": {
           "bgcolor": "white",
           "lakecolor": "white",
           "landcolor": "#E5ECF6",
           "showlakes": true,
           "showland": true,
           "subunitcolor": "white"
          },
          "hoverlabel": {
           "align": "left"
          },
          "hovermode": "closest",
          "mapbox": {
           "style": "light"
          },
          "paper_bgcolor": "white",
          "plot_bgcolor": "#E5ECF6",
          "polar": {
           "angularaxis": {
            "gridcolor": "white",
            "linecolor": "white",
            "ticks": ""
           },
           "bgcolor": "#E5ECF6",
           "radialaxis": {
            "gridcolor": "white",
            "linecolor": "white",
            "ticks": ""
           }
          },
          "scene": {
           "xaxis": {
            "backgroundcolor": "#E5ECF6",
            "gridcolor": "white",
            "gridwidth": 2,
            "linecolor": "white",
            "showbackground": true,
            "ticks": "",
            "zerolinecolor": "white"
           },
           "yaxis": {
            "backgroundcolor": "#E5ECF6",
            "gridcolor": "white",
            "gridwidth": 2,
            "linecolor": "white",
            "showbackground": true,
            "ticks": "",
            "zerolinecolor": "white"
           },
           "zaxis": {
            "backgroundcolor": "#E5ECF6",
            "gridcolor": "white",
            "gridwidth": 2,
            "linecolor": "white",
            "showbackground": true,
            "ticks": "",
            "zerolinecolor": "white"
           }
          },
          "shapedefaults": {
           "line": {
            "color": "#2a3f5f"
           }
          },
          "ternary": {
           "aaxis": {
            "gridcolor": "white",
            "linecolor": "white",
            "ticks": ""
           },
           "baxis": {
            "gridcolor": "white",
            "linecolor": "white",
            "ticks": ""
           },
           "bgcolor": "#E5ECF6",
           "caxis": {
            "gridcolor": "white",
            "linecolor": "white",
            "ticks": ""
           }
          },
          "title": {
           "x": 0.05
          },
          "xaxis": {
           "automargin": true,
           "gridcolor": "white",
           "linecolor": "white",
           "ticks": "",
           "title": {
            "standoff": 15
           },
           "zerolinecolor": "white",
           "zerolinewidth": 2
          },
          "yaxis": {
           "automargin": true,
           "gridcolor": "white",
           "linecolor": "white",
           "ticks": "",
           "title": {
            "standoff": 15
           },
           "zerolinecolor": "white",
           "zerolinewidth": 2
          }
         }
        },
        "title": {
         "text": "Shell contact p2p"
        },
        "updatemenus": [
         {
          "buttons": [
           {
            "args": [
             null,
             {
              "frame": {
               "duration": 50,
               "redraw": true
              },
              "fromcurrent": true
             }
            ],
            "label": "Play",
            "method": "animate"
           },
           {
            "args": [
             [
              null
             ],
             {
              "frame": {
               "duration": 0,
               "redraw": true
              },
              "mode": "immediate"
             }
            ],
            "label": "Pause",
            "method": "animate"
           }
          ],
          "direction": "left",
          "pad": {
           "r": 10,
           "t": 87
          },
          "showactive": false,
          "type": "buttons",
          "x": 0.1,
          "xanchor": "right",
          "y": 0,
          "yanchor": "top"
         }
        ]
       }
      }
     },
     "metadata": {},
     "output_type": "display_data"
    }
   ],
   "source": [
    "t = np.arange(robot.sim_params.total_time, step=robot.sim_params.dt)\n",
    "options = dismech.AnimationOptions(title='Shell contact p2p', plot_step=shell_contact_sim.plot_step)\n",
    "\n",
    "fig = dismech.get_interactive_animation_plotly(robot, t, qs, options)\n",
    "fig.show()"
   ]
  },
  {
   "cell_type": "code",
   "execution_count": null,
   "metadata": {},
   "outputs": [],
   "source": [
    "#ani = dismech.get_animation(robot, t, qs, options)\n",
    "#ani.save('5e-5.gif')"
   ]
  }
 ],
 "metadata": {
  "kernelspec": {
   "display_name": ".venv",
   "language": "python",
   "name": "python3"
  },
  "language_info": {
   "codemirror_mode": {
    "name": "ipython",
    "version": 3
   },
   "file_extension": ".py",
   "mimetype": "text/x-python",
   "name": "python",
   "nbconvert_exporter": "python",
   "pygments_lexer": "ipython3",
   "version": "3.12.1"
  }
 },
 "nbformat": 4,
 "nbformat_minor": 2
}
