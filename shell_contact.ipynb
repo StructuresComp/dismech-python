{
 "cells": [
  {
   "cell_type": "markdown",
   "metadata": {},
   "source": [
    "## Shell Contact Example"
   ]
  },
  {
   "cell_type": "code",
   "execution_count": 1,
   "metadata": {},
   "outputs": [],
   "source": [
    "import numpy as np\n",
    "\n",
    "import dismech\n",
    "\n",
    "\n",
    "geom = dismech.GeomParams(rod_r0=0.001,\n",
    "                          shell_h=0.001)\n",
    "\n",
    "material = dismech.Material(density=1200,\n",
    "                            youngs_rod=0,\n",
    "                            youngs_shell=2e8,\n",
    "                            poisson_rod=0.5,\n",
    "                            poisson_shell=0)\n",
    "\n",
    "shell_contact_sim = dismech.SimParams(static_sim=False,\n",
    "                                  two_d_sim=False,   # no twisting\n",
    "                                  use_mid_edge=False,\n",
    "                                  use_line_search=False,\n",
    "                                  show_floor=False,\n",
    "                                  log_data=True,\n",
    "                                  log_step=1,\n",
    "                                  dt=1e-2,\n",
    "                                  max_iter=25,\n",
    "                                  total_time=1.0,\n",
    "                                  plot_step=1,\n",
    "                                  tol=1e-4,\n",
    "                                  ftol=1e-4,\n",
    "                                  dtol=1e-2)\n",
    "\n",
    "env = dismech.Environment()\n",
    "#env.add_force('gravity', g=np.array([0.0, 0.0, -9.81]))\n",
    "env.add_force('selfContact', delta=5e-4, h=2e-3)\n",
    "#env.set_static()   \n",
    "\n",
    "geo = dismech.Geometry.from_txt('input_twoTriangleContact_e2e.txt')\n",
    "\n",
    "robot = dismech.SoftRobot(geom, material, geo, shell_contact_sim, env)\n",
    "\n",
    "u = robot.state.u\n",
    "u[11] = -0.5\n",
    "u[14] = -0.5\n",
    "u[17] = -0.5"
   ]
  },
  {
   "cell_type": "markdown",
   "metadata": {},
   "source": [
    "### Time Stepping\n",
    "\n",
    "As we are performing a static simulation, we must change gravity for each time step."
   ]
  },
  {
   "cell_type": "code",
   "execution_count": 2,
   "metadata": {},
   "outputs": [
    {
     "name": "stdout",
     "output_type": "stream",
     "text": [
      "inv mask:  [[ 9 10 11 12 13 14 15 16 17  0  1  2  3  4  5  6  7  8]]\n",
      "inv mask:  [[ 9 10 11 12 13 14 15 16 17  0  1  2  3  4  5  6  7  8]]\n",
      "inv mask:  [[ 9 10 11 12 13 14 15 16 17  0  1  2  3  4  5  6  7  8]]\n",
      "Delta: [0.]\n",
      "upper limit for quadratic: 1.75\n",
      "upper limit for smooth: 2.25\n",
      "inv mask:  [[ 0  1  2  6  7  8  3  4  5  9 10 11 12 13 14 15 16 17]]\n",
      "inv mask:  [[ 0  1  2  6  7  8  3  4  5  9 10 11 12 13 14 15 16 17]]\n",
      "inv mask:  [[ 0  1  2  6  7  8  3  4  5  9 10 11 12 13 14 15 16 17]]\n",
      "Delta: [0.]\n",
      "upper limit for quadratic: 1.75\n",
      "upper limit for smooth: 2.25\n",
      "inv mask:  [[ 0  1  2  6  7  8  3  4  5  9 10 11 12 13 14 15 16 17]]\n",
      "inv mask:  [[ 0  1  2  6  7  8  3  4  5  9 10 11 12 13 14 15 16 17]]\n",
      "inv mask:  [[ 0  1  2  6  7  8  3  4  5  9 10 11 12 13 14 15 16 17]]\n",
      "Delta: [0.]\n",
      "upper limit for quadratic: 1.75\n",
      "upper limit for smooth: 2.25\n",
      "inv mask:  [[ 0  1  2  3  4  5  6  7  8  9 10 11 12 13 14 15 16 17]]\n",
      "inv mask:  [[ 0  1  2  3  4  5  6  7  8  9 10 11 12 13 14 15 16 17]]\n",
      "inv mask:  [[ 0  1  2  3  4  5  6  7  8  9 10 11 12 13 14 15 16 17]]\n",
      "Delta: [0.]\n",
      "upper limit for quadratic: 1.75\n",
      "upper limit for smooth: 2.25\n",
      "inv mask:  [[ 0  1  2  3  4  5  6  7  8  9 10 11 12 13 14 15 16 17]]\n",
      "inv mask:  [[ 0  1  2  3  4  5  6  7  8  9 10 11 12 13 14 15 16 17]]\n",
      "inv mask:  [[ 0  1  2  3  4  5  6  7  8  9 10 11 12 13 14 15 16 17]]\n",
      "Delta: [0.]\n",
      "upper limit for quadratic: 1.75\n",
      "upper limit for smooth: 2.25\n",
      "inv mask:  [[ 0  1  2  3  4  5  6  7  8  9 10 11 12 13 14 15 16 17]]\n",
      "inv mask:  [[ 0  1  2  3  4  5  6  7  8  9 10 11 12 13 14 15 16 17]]\n",
      "inv mask:  [[ 0  1  2  3  4  5  6  7  8  9 10 11 12 13 14 15 16 17]]\n",
      "Delta: [0.]\n",
      "upper limit for quadratic: 1.75\n",
      "upper limit for smooth: 2.25\n",
      "inv mask:  [[ 0  1  2  3  4  5  6  7  8  9 10 11 12 13 14 15 16 17]]\n",
      "inv mask:  [[ 0  1  2  3  4  5  6  7  8  9 10 11 12 13 14 15 16 17]]\n",
      "inv mask:  [[ 0  1  2  3  4  5  6  7  8  9 10 11 12 13 14 15 16 17]]\n",
      "Delta: [0.]\n",
      "upper limit for quadratic: 1.75\n",
      "upper limit for smooth: 2.25\n",
      "inv mask:  [[ 0  1  2  3  4  5  6  7  8  9 10 11 12 13 14 15 16 17]]\n",
      "inv mask:  [[ 0  1  2  3  4  5  6  7  8  9 10 11 12 13 14 15 16 17]]\n",
      "inv mask:  [[ 0  1  2  3  4  5  6  7  8  9 10 11 12 13 14 15 16 17]]\n",
      "Delta: [0.]\n",
      "upper limit for quadratic: 1.75\n",
      "upper limit for smooth: 2.25\n",
      "inv mask:  [[ 0  1  2  3  4  5  6  7  8  9 10 11 12 13 14 15 16 17]]\n",
      "inv mask:  [[ 0  1  2  3  4  5  6  7  8  9 10 11 12 13 14 15 16 17]]\n",
      "inv mask:  [[ 0  1  2  3  4  5  6  7  8  9 10 11 12 13 14 15 16 17]]\n",
      "Delta: [0.]\n",
      "upper limit for quadratic: 1.75\n",
      "upper limit for smooth: 2.25\n",
      "inv mask:  [[ 0  1  2  3  4  5  6  7  8  9 10 11 12 13 14 15 16 17]]\n",
      "inv mask:  [[ 0  1  2  3  4  5  6  7  8  9 10 11 12 13 14 15 16 17]]\n",
      "inv mask:  [[ 0  1  2  3  4  5  6  7  8  9 10 11 12 13 14 15 16 17]]\n",
      "Delta: [0.]\n",
      "upper limit for quadratic: 1.75\n",
      "upper limit for smooth: 2.25\n",
      "inv mask:  [[ 0  1  2  3  4  5  6  7  8  9 10 11 12 13 14 15 16 17]]\n",
      "inv mask:  [[ 0  1  2  3  4  5  6  7  8  9 10 11 12 13 14 15 16 17]]\n",
      "inv mask:  [[ 0  1  2  3  4  5  6  7  8  9 10 11 12 13 14 15 16 17]]\n",
      "Delta: [0.]\n",
      "upper limit for quadratic: 1.75\n",
      "upper limit for smooth: 2.25\n",
      "inv mask:  [[ 0  1  2  3  4  5  6  7  8  9 10 11 12 13 14 15 16 17]]\n",
      "inv mask:  [[ 0  1  2  3  4  5  6  7  8  9 10 11 12 13 14 15 16 17]]\n",
      "inv mask:  [[ 0  1  2  3  4  5  6  7  8  9 10 11 12 13 14 15 16 17]]\n",
      "Delta: [0.]\n",
      "upper limit for quadratic: 1.75\n",
      "upper limit for smooth: 2.25\n",
      "inv mask:  [[ 0  1  2  3  4  5  6  7  8  9 10 11 12 13 14 15 16 17]]\n",
      "inv mask:  [[ 0  1  2  3  4  5  6  7  8  9 10 11 12 13 14 15 16 17]]\n",
      "inv mask:  [[ 0  1  2  3  4  5  6  7  8  9 10 11 12 13 14 15 16 17]]\n",
      "Delta: [0.]\n",
      "upper limit for quadratic: 1.75\n",
      "upper limit for smooth: 2.25\n",
      "inv mask:  [[ 0  1  2  6  7  8  3  4  5  9 10 11 12 13 14 15 16 17]]\n",
      "inv mask:  [[ 0  1  2  6  7  8  3  4  5  9 10 11 12 13 14 15 16 17]]\n",
      "inv mask:  [[ 0  1  2  6  7  8  3  4  5  9 10 11 12 13 14 15 16 17]]\n",
      "Delta: [0.]\n",
      "upper limit for quadratic: 1.75\n",
      "upper limit for smooth: 2.25\n",
      "inv mask:  [[ 0  1  2  6  7  8  3  4  5  9 10 11 12 13 14 15 16 17]]\n",
      "inv mask:  [[ 0  1  2  6  7  8  3  4  5  9 10 11 12 13 14 15 16 17]]\n",
      "inv mask:  [[ 0  1  2  6  7  8  3  4  5  9 10 11 12 13 14 15 16 17]]\n",
      "Delta: [0.]\n",
      "upper limit for quadratic: 1.75\n",
      "upper limit for smooth: 2.25\n",
      "inv mask:  [[ 0  1  2  3  4  5  6  7  8  9 10 11 12 13 14 15 16 17]]\n",
      "inv mask:  [[ 0  1  2  3  4  5  6  7  8  9 10 11 12 13 14 15 16 17]]\n",
      "inv mask:  [[ 0  1  2  3  4  5  6  7  8  9 10 11 12 13 14 15 16 17]]\n",
      "Delta: [0.]\n",
      "upper limit for quadratic: 1.75\n",
      "upper limit for smooth: 2.25\n",
      "inv mask:  [[ 0  1  2  3  4  5  6  7  8  9 10 11 12 13 14 15 16 17]]\n",
      "inv mask:  [[ 0  1  2  3  4  5  6  7  8  9 10 11 12 13 14 15 16 17]]\n",
      "inv mask:  [[ 0  1  2  3  4  5  6  7  8  9 10 11 12 13 14 15 16 17]]\n",
      "Delta: [0.]\n",
      "upper limit for quadratic: 1.75\n",
      "upper limit for smooth: 2.25\n",
      "inv mask:  [[ 0  1  2  3  4  5  6  7  8  9 10 11 12 13 14 15 16 17]]\n",
      "inv mask:  [[ 0  1  2  3  4  5  6  7  8  9 10 11 12 13 14 15 16 17]]\n",
      "inv mask:  [[ 0  1  2  3  4  5  6  7  8  9 10 11 12 13 14 15 16 17]]\n",
      "Delta: [0.]\n",
      "upper limit for quadratic: 1.75\n",
      "upper limit for smooth: 2.25\n",
      "inv mask:  [[ 0  1  2  3  4  5  6  7  8  9 10 11 12 13 14 15 16 17]]\n",
      "inv mask:  [[ 0  1  2  3  4  5  6  7  8  9 10 11 12 13 14 15 16 17]]\n",
      "inv mask:  [[ 0  1  2  3  4  5  6  7  8  9 10 11 12 13 14 15 16 17]]\n",
      "Delta: [0.]\n",
      "upper limit for quadratic: 1.75\n",
      "upper limit for smooth: 2.25\n",
      "inv mask:  [[ 0  1  2  3  4  5  6  7  8  9 10 11 12 13 14 15 16 17]]\n",
      "inv mask:  [[ 0  1  2  3  4  5  6  7  8  9 10 11 12 13 14 15 16 17]]\n",
      "inv mask:  [[ 0  1  2  3  4  5  6  7  8  9 10 11 12 13 14 15 16 17]]\n",
      "Delta: [0.]\n",
      "upper limit for quadratic: 1.75\n",
      "upper limit for smooth: 2.25\n",
      "inv mask:  [[ 0  1  2  3  4  5  6  7  8  9 10 11 12 13 14 15 16 17]]\n",
      "inv mask:  [[ 0  1  2  3  4  5  6  7  8  9 10 11 12 13 14 15 16 17]]\n",
      "inv mask:  [[ 0  1  2  3  4  5  6  7  8  9 10 11 12 13 14 15 16 17]]\n",
      "Delta: [0.]\n",
      "upper limit for quadratic: 1.75\n",
      "upper limit for smooth: 2.25\n",
      "inv mask:  [[ 0  1  2  3  4  5  6  7  8  9 10 11 12 13 14 15 16 17]]\n",
      "inv mask:  [[ 0  1  2  3  4  5  6  7  8  9 10 11 12 13 14 15 16 17]]\n",
      "inv mask:  [[ 0  1  2  3  4  5  6  7  8  9 10 11 12 13 14 15 16 17]]\n",
      "Delta: [0.]\n",
      "upper limit for quadratic: 1.75\n",
      "upper limit for smooth: 2.25\n",
      "inv mask:  [[ 0  1  2  3  4  5  6  7  8  9 10 11 12 13 14 15 16 17]]\n",
      "inv mask:  [[ 0  1  2  3  4  5  6  7  8  9 10 11 12 13 14 15 16 17]]\n",
      "inv mask:  [[ 0  1  2  3  4  5  6  7  8  9 10 11 12 13 14 15 16 17]]\n",
      "Delta: [0.]\n",
      "upper limit for quadratic: 1.75\n",
      "upper limit for smooth: 2.25\n",
      "inv mask:  [[ 0  1  2  3  4  5  6  7  8  9 10 11 12 13 14 15 16 17]]\n",
      "inv mask:  [[ 0  1  2  3  4  5  6  7  8  9 10 11 12 13 14 15 16 17]]\n",
      "inv mask:  [[ 0  1  2  3  4  5  6  7  8  9 10 11 12 13 14 15 16 17]]\n",
      "Delta: [0.]\n",
      "upper limit for quadratic: 1.75\n",
      "upper limit for smooth: 2.25\n",
      "inv mask:  [[ 0  1  2  3  4  5  6  7  8  9 10 11 12 13 14 15 16 17]]\n",
      "inv mask:  [[ 0  1  2  3  4  5  6  7  8  9 10 11 12 13 14 15 16 17]]\n",
      "inv mask:  [[ 0  1  2  3  4  5  6  7  8  9 10 11 12 13 14 15 16 17]]\n",
      "Delta: [0.]\n",
      "upper limit for quadratic: 1.75\n",
      "upper limit for smooth: 2.25\n",
      "inv mask:  [[ 0  1  2  6  7  8  3  4  5  9 10 11 12 13 14 15 16 17]]\n",
      "inv mask:  [[ 0  1  2  6  7  8  3  4  5  9 10 11 12 13 14 15 16 17]]\n",
      "inv mask:  [[ 0  1  2  6  7  8  3  4  5  9 10 11 12 13 14 15 16 17]]\n",
      "Delta: [0.]\n",
      "upper limit for quadratic: 1.75\n",
      "upper limit for smooth: 2.25\n",
      "inv mask:  [[ 0  1  2  6  7  8  3  4  5  9 10 11 12 13 14 15 16 17]]\n",
      "inv mask:  [[ 0  1  2  6  7  8  3  4  5  9 10 11 12 13 14 15 16 17]]\n",
      "inv mask:  [[ 0  1  2  6  7  8  3  4  5  9 10 11 12 13 14 15 16 17]]\n",
      "Delta: [0.]\n",
      "upper limit for quadratic: 1.75\n",
      "upper limit for smooth: 2.25\n",
      "inv mask:  [[ 0  1  2  6  7  8  3  4  5  9 10 11 12 13 14 15 16 17]]\n",
      "inv mask:  [[ 0  1  2  6  7  8  3  4  5  9 10 11 12 13 14 15 16 17]]\n",
      "inv mask:  [[ 0  1  2  6  7  8  3  4  5  9 10 11 12 13 14 15 16 17]]\n",
      "Delta: [0.]\n",
      "upper limit for quadratic: 1.75\n",
      "upper limit for smooth: 2.25\n",
      "inv mask:  [[ 0  1  2  6  7  8  3  4  5  9 10 11 12 13 14 15 16 17]]\n",
      "inv mask:  [[ 0  1  2  6  7  8  3  4  5  9 10 11 12 13 14 15 16 17]]\n",
      "inv mask:  [[ 0  1  2  6  7  8  3  4  5  9 10 11 12 13 14 15 16 17]]\n",
      "Delta: [0.]\n",
      "upper limit for quadratic: 1.75\n",
      "upper limit for smooth: 2.25\n",
      "inv mask:  [[ 0  1  2  3  4  5  6  7  8  9 10 11 12 13 14 15 16 17]]\n",
      "inv mask:  [[ 0  1  2  3  4  5  6  7  8  9 10 11 12 13 14 15 16 17]]\n",
      "inv mask:  [[ 0  1  2  3  4  5  6  7  8  9 10 11 12 13 14 15 16 17]]\n",
      "Delta: [0.]\n",
      "upper limit for quadratic: 1.75\n",
      "upper limit for smooth: 2.25\n",
      "inv mask:  [[ 0  1  2  3  4  5  6  7  8  9 10 11 12 13 14 15 16 17]]\n",
      "inv mask:  [[ 0  1  2  3  4  5  6  7  8  9 10 11 12 13 14 15 16 17]]\n",
      "inv mask:  [[ 0  1  2  3  4  5  6  7  8  9 10 11 12 13 14 15 16 17]]\n",
      "Delta: [0.]\n",
      "upper limit for quadratic: 1.75\n",
      "upper limit for smooth: 2.25\n",
      "inv mask:  [[ 0  1  2  6  7  8  3  4  5  9 10 11 12 13 14 15 16 17]]\n",
      "inv mask:  [[ 0  1  2  6  7  8  3  4  5  9 10 11 12 13 14 15 16 17]]\n",
      "inv mask:  [[ 0  1  2  6  7  8  3  4  5  9 10 11 12 13 14 15 16 17]]\n",
      "Delta: [0.]\n",
      "upper limit for quadratic: 1.75\n",
      "upper limit for smooth: 2.25\n",
      "inv mask:  [[ 0  1  2  6  7  8  3  4  5  9 10 11 12 13 14 15 16 17]]\n",
      "inv mask:  [[ 0  1  2  6  7  8  3  4  5  9 10 11 12 13 14 15 16 17]]\n",
      "inv mask:  [[ 0  1  2  6  7  8  3  4  5  9 10 11 12 13 14 15 16 17]]\n",
      "Delta: [0.]\n",
      "upper limit for quadratic: 1.75\n",
      "upper limit for smooth: 2.25\n",
      "inv mask:  [[ 0  1  2  3  4  5  6  7  8  9 10 11 12 13 14 15 16 17]]\n",
      "inv mask:  [[ 0  1  2  3  4  5  6  7  8  9 10 11 12 13 14 15 16 17]]\n",
      "inv mask:  [[ 0  1  2  3  4  5  6  7  8  9 10 11 12 13 14 15 16 17]]\n",
      "Delta: [0.]\n",
      "upper limit for quadratic: 1.75\n",
      "upper limit for smooth: 2.25\n",
      "inv mask:  [[ 0  1  2  3  4  5  6  7  8  9 10 11 12 13 14 15 16 17]]\n",
      "inv mask:  [[ 0  1  2  3  4  5  6  7  8  9 10 11 12 13 14 15 16 17]]\n",
      "inv mask:  [[ 0  1  2  3  4  5  6  7  8  9 10 11 12 13 14 15 16 17]]\n",
      "Delta: [0.]\n",
      "upper limit for quadratic: 1.75\n",
      "upper limit for smooth: 2.25\n",
      "inv mask:  [[ 0  1  2  3  4  5  6  7  8  9 10 11 12 13 14 15 16 17]]\n",
      "inv mask:  [[ 0  1  2  3  4  5  6  7  8  9 10 11 12 13 14 15 16 17]]\n",
      "inv mask:  [[ 0  1  2  3  4  5  6  7  8  9 10 11 12 13 14 15 16 17]]\n",
      "Delta: [0.]\n",
      "upper limit for quadratic: 1.75\n",
      "upper limit for smooth: 2.25\n",
      "inv mask:  [[ 0  1  2  3  4  5  6  7  8  9 10 11 12 13 14 15 16 17]]\n",
      "inv mask:  [[ 0  1  2  3  4  5  6  7  8  9 10 11 12 13 14 15 16 17]]\n",
      "inv mask:  [[ 0  1  2  3  4  5  6  7  8  9 10 11 12 13 14 15 16 17]]\n",
      "Delta: [0.]\n",
      "upper limit for quadratic: 1.75\n",
      "upper limit for smooth: 2.25\n",
      "inv mask:  [[ 0  1  2  3  4  5  6  7  8  9 10 11 12 13 14 15 16 17]]\n",
      "inv mask:  [[ 0  1  2  3  4  5  6  7  8  9 10 11 12 13 14 15 16 17]]\n",
      "inv mask:  [[ 0  1  2  3  4  5  6  7  8  9 10 11 12 13 14 15 16 17]]\n",
      "Delta: [0.]\n",
      "upper limit for quadratic: 1.75\n",
      "upper limit for smooth: 2.25\n",
      "inv mask:  [[ 0  1  2  3  4  5  6  7  8  9 10 11 12 13 14 15 16 17]]\n",
      "inv mask:  [[ 0  1  2  3  4  5  6  7  8  9 10 11 12 13 14 15 16 17]]\n",
      "inv mask:  [[ 0  1  2  3  4  5  6  7  8  9 10 11 12 13 14 15 16 17]]\n",
      "Delta: [0.]\n",
      "upper limit for quadratic: 1.75\n",
      "upper limit for smooth: 2.25\n",
      "inv mask:  [[ 9 10 11 15 16 17 12 13 14  0  1  2  3  4  5  6  7  8]]\n",
      "inv mask:  [[ 9 10 11 15 16 17 12 13 14  0  1  2  3  4  5  6  7  8]]\n",
      "inv mask:  [[ 9 10 11 15 16 17 12 13 14  0  1  2  3  4  5  6  7  8]]\n",
      "Delta: [0.]\n",
      "upper limit for quadratic: 1.75\n",
      "upper limit for smooth: 2.25\n",
      "inv mask:  [[ 9 10 11 15 16 17 12 13 14  0  1  2  3  4  5  6  7  8]]\n",
      "inv mask:  [[ 9 10 11 15 16 17 12 13 14  0  1  2  3  4  5  6  7  8]]\n",
      "inv mask:  [[ 9 10 11 15 16 17 12 13 14  0  1  2  3  4  5  6  7  8]]\n",
      "Delta: [0.]\n",
      "upper limit for quadratic: 1.75\n",
      "upper limit for smooth: 2.25\n",
      "inv mask:  [[ 0  1  2  3  4  5  6  7  8  9 10 11 12 13 14 15 16 17]]\n",
      "inv mask:  [[ 0  1  2  3  4  5  6  7  8  9 10 11 12 13 14 15 16 17]]\n",
      "inv mask:  [[ 0  1  2  3  4  5  6  7  8  9 10 11 12 13 14 15 16 17]]\n",
      "Delta: [0.]\n",
      "upper limit for quadratic: 1.75\n",
      "upper limit for smooth: 2.25\n",
      "inv mask:  [[ 0  1  2  3  4  5  6  7  8  9 10 11 12 13 14 15 16 17]]\n",
      "inv mask:  [[ 0  1  2  3  4  5  6  7  8  9 10 11 12 13 14 15 16 17]]\n",
      "inv mask:  [[ 0  1  2  3  4  5  6  7  8  9 10 11 12 13 14 15 16 17]]\n",
      "Delta: [0.]\n",
      "upper limit for quadratic: 1.75\n",
      "upper limit for smooth: 2.25\n",
      "inv mask:  [[ 0  1  2  3  4  5  6  7  8  9 10 11 12 13 14 15 16 17]]\n",
      "inv mask:  [[ 0  1  2  3  4  5  6  7  8  9 10 11 12 13 14 15 16 17]]\n",
      "inv mask:  [[ 0  1  2  3  4  5  6  7  8  9 10 11 12 13 14 15 16 17]]\n",
      "Delta: [0.]\n",
      "upper limit for quadratic: 1.75\n",
      "upper limit for smooth: 2.25\n",
      "inv mask:  [[ 0  1  2  3  4  5  6  7  8  9 10 11 12 13 14 15 16 17]]\n",
      "inv mask:  [[ 0  1  2  3  4  5  6  7  8  9 10 11 12 13 14 15 16 17]]\n",
      "inv mask:  [[ 0  1  2  3  4  5  6  7  8  9 10 11 12 13 14 15 16 17]]\n",
      "Delta: [0.]\n",
      "upper limit for quadratic: 1.75\n",
      "upper limit for smooth: 2.25\n",
      "inv mask:  [[ 0  1  2  3  4  5  6  7  8  9 10 11 12 13 14 15 16 17]]\n",
      "inv mask:  [[ 0  1  2  3  4  5  6  7  8  9 10 11 12 13 14 15 16 17]]\n",
      "inv mask:  [[ 0  1  2  3  4  5  6  7  8  9 10 11 12 13 14 15 16 17]]\n",
      "Delta: [0.]\n",
      "upper limit for quadratic: 1.75\n",
      "upper limit for smooth: 2.25\n",
      "inv mask:  [[ 0  1  2  3  4  5  6  7  8  9 10 11 12 13 14 15 16 17]]\n",
      "inv mask:  [[ 0  1  2  3  4  5  6  7  8  9 10 11 12 13 14 15 16 17]]\n",
      "inv mask:  [[ 0  1  2  3  4  5  6  7  8  9 10 11 12 13 14 15 16 17]]\n",
      "Delta: [0.]\n",
      "upper limit for quadratic: 1.75\n",
      "upper limit for smooth: 2.25\n",
      "inv mask:  [[ 0  1  2  3  4  5  6  7  8  9 10 11 12 13 14 15 16 17]]\n",
      "inv mask:  [[ 0  1  2  3  4  5  6  7  8  9 10 11 12 13 14 15 16 17]]\n",
      "inv mask:  [[ 0  1  2  3  4  5  6  7  8  9 10 11 12 13 14 15 16 17]]\n",
      "Delta: [0.]\n",
      "upper limit for quadratic: 1.75\n",
      "upper limit for smooth: 2.25\n",
      "inv mask:  [[ 0  1  2  3  4  5  6  7  8  9 10 11 12 13 14 15 16 17]]\n",
      "inv mask:  [[ 0  1  2  3  4  5  6  7  8  9 10 11 12 13 14 15 16 17]]\n",
      "inv mask:  [[ 0  1  2  3  4  5  6  7  8  9 10 11 12 13 14 15 16 17]]\n",
      "Delta: [0.]\n",
      "upper limit for quadratic: 1.75\n",
      "upper limit for smooth: 2.25\n",
      "inv mask:  [[ 0  1  2  3  4  5  6  7  8  9 10 11 12 13 14 15 16 17]]\n",
      "inv mask:  [[ 0  1  2  3  4  5  6  7  8  9 10 11 12 13 14 15 16 17]]\n",
      "inv mask:  [[ 0  1  2  3  4  5  6  7  8  9 10 11 12 13 14 15 16 17]]\n",
      "Delta: [0.]\n",
      "upper limit for quadratic: 1.75\n",
      "upper limit for smooth: 2.25\n",
      "inv mask:  [[ 0  1  2  3  4  5  6  7  8  9 10 11 12 13 14 15 16 17]]\n",
      "inv mask:  [[ 0  1  2  3  4  5  6  7  8  9 10 11 12 13 14 15 16 17]]\n",
      "inv mask:  [[ 0  1  2  3  4  5  6  7  8  9 10 11 12 13 14 15 16 17]]\n",
      "Delta: [0.]\n",
      "upper limit for quadratic: 1.75\n",
      "upper limit for smooth: 2.25\n",
      "inv mask:  [[ 0  1  2  3  4  5  6  7  8  9 10 11 12 13 14 15 16 17]]\n",
      "inv mask:  [[ 0  1  2  3  4  5  6  7  8  9 10 11 12 13 14 15 16 17]]\n",
      "inv mask:  [[ 0  1  2  3  4  5  6  7  8  9 10 11 12 13 14 15 16 17]]\n",
      "Delta: [0.]\n",
      "upper limit for quadratic: 1.75\n",
      "upper limit for smooth: 2.25\n",
      "inv mask:  [[ 0  1  2  3  4  5  6  7  8  9 10 11 12 13 14 15 16 17]]\n",
      "inv mask:  [[ 0  1  2  3  4  5  6  7  8  9 10 11 12 13 14 15 16 17]]\n",
      "inv mask:  [[ 0  1  2  3  4  5  6  7  8  9 10 11 12 13 14 15 16 17]]\n",
      "Delta: [0.]\n",
      "upper limit for quadratic: 1.75\n",
      "upper limit for smooth: 2.25\n",
      "inv mask:  [[ 0  1  2  3  4  5  6  7  8  9 10 11 12 13 14 15 16 17]]\n",
      "inv mask:  [[ 0  1  2  3  4  5  6  7  8  9 10 11 12 13 14 15 16 17]]\n",
      "inv mask:  [[ 0  1  2  3  4  5  6  7  8  9 10 11 12 13 14 15 16 17]]\n",
      "Delta: [0.]\n",
      "upper limit for quadratic: 1.75\n",
      "upper limit for smooth: 2.25\n",
      "inv mask:  [[ 0  1  2  3  4  5  6  7  8  9 10 11 12 13 14 15 16 17]]\n",
      "inv mask:  [[ 0  1  2  3  4  5  6  7  8  9 10 11 12 13 14 15 16 17]]\n",
      "inv mask:  [[ 0  1  2  3  4  5  6  7  8  9 10 11 12 13 14 15 16 17]]\n",
      "Delta: [0.]\n",
      "upper limit for quadratic: 1.75\n",
      "upper limit for smooth: 2.25\n",
      "inv mask:  [[ 0  1  2  3  4  5  6  7  8  9 10 11 12 13 14 15 16 17]]\n",
      "inv mask:  [[ 0  1  2  3  4  5  6  7  8  9 10 11 12 13 14 15 16 17]]\n",
      "inv mask:  [[ 0  1  2  3  4  5  6  7  8  9 10 11 12 13 14 15 16 17]]\n",
      "Delta: [0.]\n",
      "upper limit for quadratic: 1.75\n",
      "upper limit for smooth: 2.25\n",
      "inv mask:  [[ 0  1  2  3  4  5  6  7  8  9 10 11 12 13 14 15 16 17]]\n",
      "inv mask:  [[ 0  1  2  3  4  5  6  7  8  9 10 11 12 13 14 15 16 17]]\n",
      "inv mask:  [[ 0  1  2  3  4  5  6  7  8  9 10 11 12 13 14 15 16 17]]\n",
      "Delta: [0.]\n",
      "upper limit for quadratic: 1.75\n",
      "upper limit for smooth: 2.25\n",
      "inv mask:  [[ 0  1  2  3  4  5  6  7  8  9 10 11 12 13 14 15 16 17]]\n",
      "inv mask:  [[ 0  1  2  3  4  5  6  7  8  9 10 11 12 13 14 15 16 17]]\n",
      "inv mask:  [[ 0  1  2  3  4  5  6  7  8  9 10 11 12 13 14 15 16 17]]\n",
      "Delta: [0.]\n",
      "upper limit for quadratic: 1.75\n",
      "upper limit for smooth: 2.25\n",
      "inv mask:  [[ 0  1  2  3  4  5  6  7  8  9 10 11 12 13 14 15 16 17]]\n",
      "inv mask:  [[ 0  1  2  3  4  5  6  7  8  9 10 11 12 13 14 15 16 17]]\n",
      "inv mask:  [[ 0  1  2  3  4  5  6  7  8  9 10 11 12 13 14 15 16 17]]\n",
      "Delta: [0.]\n",
      "upper limit for quadratic: 1.75\n",
      "upper limit for smooth: 2.25\n",
      "inv mask:  [[ 0  1  2  3  4  5  6  7  8  9 10 11 12 13 14 15 16 17]]\n",
      "inv mask:  [[ 0  1  2  3  4  5  6  7  8  9 10 11 12 13 14 15 16 17]]\n",
      "inv mask:  [[ 0  1  2  3  4  5  6  7  8  9 10 11 12 13 14 15 16 17]]\n",
      "Delta: [0.]\n",
      "upper limit for quadratic: 1.75\n",
      "upper limit for smooth: 2.25\n",
      "inv mask:  [[ 0  1  2  3  4  5  6  7  8  9 10 11 12 13 14 15 16 17]]\n",
      "inv mask:  [[ 0  1  2  3  4  5  6  7  8  9 10 11 12 13 14 15 16 17]]\n",
      "inv mask:  [[ 0  1  2  3  4  5  6  7  8  9 10 11 12 13 14 15 16 17]]\n",
      "Delta: [0.]\n",
      "upper limit for quadratic: 1.75\n",
      "upper limit for smooth: 2.25\n",
      "inv mask:  [[ 0  1  2  3  4  5  6  7  8  9 10 11 12 13 14 15 16 17]]\n",
      "inv mask:  [[ 0  1  2  3  4  5  6  7  8  9 10 11 12 13 14 15 16 17]]\n",
      "inv mask:  [[ 0  1  2  3  4  5  6  7  8  9 10 11 12 13 14 15 16 17]]\n",
      "Delta: [0.]\n",
      "upper limit for quadratic: 1.75\n",
      "upper limit for smooth: 2.25\n",
      "inv mask:  [[ 0  1  2  3  4  5  6  7  8  9 10 11 12 13 14 15 16 17]]\n",
      "inv mask:  [[ 0  1  2  3  4  5  6  7  8  9 10 11 12 13 14 15 16 17]]\n",
      "inv mask:  [[ 0  1  2  3  4  5  6  7  8  9 10 11 12 13 14 15 16 17]]\n",
      "Delta: [0.]\n",
      "upper limit for quadratic: 1.75\n",
      "upper limit for smooth: 2.25\n",
      "inv mask:  [[ 0  1  2  3  4  5  6  7  8  9 10 11 12 13 14 15 16 17]]\n",
      "inv mask:  [[ 0  1  2  3  4  5  6  7  8  9 10 11 12 13 14 15 16 17]]\n",
      "inv mask:  [[ 0  1  2  3  4  5  6  7  8  9 10 11 12 13 14 15 16 17]]\n",
      "Delta: [0.]\n",
      "upper limit for quadratic: 1.75\n",
      "upper limit for smooth: 2.25\n",
      "inv mask:  [[ 0  1  2  3  4  5  6  7  8  9 10 11 12 13 14 15 16 17]]\n",
      "inv mask:  [[ 0  1  2  3  4  5  6  7  8  9 10 11 12 13 14 15 16 17]]\n",
      "inv mask:  [[ 0  1  2  3  4  5  6  7  8  9 10 11 12 13 14 15 16 17]]\n",
      "Delta: [0.]\n",
      "upper limit for quadratic: 1.75\n",
      "upper limit for smooth: 2.25\n",
      "inv mask:  [[ 0  1  2  3  4  5  6  7  8  9 10 11 12 13 14 15 16 17]]\n",
      "inv mask:  [[ 0  1  2  3  4  5  6  7  8  9 10 11 12 13 14 15 16 17]]\n",
      "inv mask:  [[ 0  1  2  3  4  5  6  7  8  9 10 11 12 13 14 15 16 17]]\n",
      "Delta: [0.]\n",
      "upper limit for quadratic: 1.75\n",
      "upper limit for smooth: 2.25\n",
      "inv mask:  [[ 0  1  2  3  4  5  6  7  8  9 10 11 12 13 14 15 16 17]]\n",
      "inv mask:  [[ 0  1  2  3  4  5  6  7  8  9 10 11 12 13 14 15 16 17]]\n",
      "inv mask:  [[ 0  1  2  3  4  5  6  7  8  9 10 11 12 13 14 15 16 17]]\n",
      "Delta: [0.]\n",
      "upper limit for quadratic: 1.75\n",
      "upper limit for smooth: 2.25\n",
      "inv mask:  [[ 0  1  2  3  4  5  6  7  8  9 10 11 12 13 14 15 16 17]]\n",
      "inv mask:  [[ 0  1  2  3  4  5  6  7  8  9 10 11 12 13 14 15 16 17]]\n",
      "inv mask:  [[ 0  1  2  3  4  5  6  7  8  9 10 11 12 13 14 15 16 17]]\n",
      "Delta: [0.]\n",
      "upper limit for quadratic: 1.75\n",
      "upper limit for smooth: 2.25\n",
      "inv mask:  [[ 0  1  2  3  4  5  6  7  8  9 10 11 12 13 14 15 16 17]]\n",
      "inv mask:  [[ 0  1  2  3  4  5  6  7  8  9 10 11 12 13 14 15 16 17]]\n",
      "inv mask:  [[ 0  1  2  3  4  5  6  7  8  9 10 11 12 13 14 15 16 17]]\n",
      "Delta: [0.]\n",
      "upper limit for quadratic: 1.75\n",
      "upper limit for smooth: 2.25\n",
      "inv mask:  [[ 0  1  2  3  4  5  6  7  8  9 10 11 12 13 14 15 16 17]]\n",
      "inv mask:  [[ 0  1  2  3  4  5  6  7  8  9 10 11 12 13 14 15 16 17]]\n",
      "inv mask:  [[ 0  1  2  3  4  5  6  7  8  9 10 11 12 13 14 15 16 17]]\n",
      "Delta: [0.]\n",
      "upper limit for quadratic: 1.75\n",
      "upper limit for smooth: 2.25\n",
      "inv mask:  [[ 0  1  2  3  4  5  6  7  8  9 10 11 12 13 14 15 16 17]]\n",
      "inv mask:  [[ 0  1  2  3  4  5  6  7  8  9 10 11 12 13 14 15 16 17]]\n",
      "inv mask:  [[ 0  1  2  3  4  5  6  7  8  9 10 11 12 13 14 15 16 17]]\n",
      "Delta: [0.]\n",
      "upper limit for quadratic: 1.75\n",
      "upper limit for smooth: 2.25\n",
      "inv mask:  [[ 0  1  2  3  4  5  6  7  8  9 10 11 12 13 14 15 16 17]]\n",
      "inv mask:  [[ 0  1  2  3  4  5  6  7  8  9 10 11 12 13 14 15 16 17]]\n",
      "inv mask:  [[ 0  1  2  3  4  5  6  7  8  9 10 11 12 13 14 15 16 17]]\n",
      "Delta: [0.]\n",
      "upper limit for quadratic: 1.75\n",
      "upper limit for smooth: 2.25\n",
      "inv mask:  [[ 0  1  2  3  4  5  6  7  8  9 10 11 12 13 14 15 16 17]]\n",
      "inv mask:  [[ 0  1  2  3  4  5  6  7  8  9 10 11 12 13 14 15 16 17]]\n",
      "inv mask:  [[ 0  1  2  3  4  5  6  7  8  9 10 11 12 13 14 15 16 17]]\n",
      "Delta: [0.]\n",
      "upper limit for quadratic: 1.75\n",
      "upper limit for smooth: 2.25\n",
      "inv mask:  [[ 0  1  2  3  4  5  6  7  8  9 10 11 12 13 14 15 16 17]]\n",
      "inv mask:  [[ 0  1  2  3  4  5  6  7  8  9 10 11 12 13 14 15 16 17]]\n",
      "inv mask:  [[ 0  1  2  3  4  5  6  7  8  9 10 11 12 13 14 15 16 17]]\n",
      "Delta: [0.]\n",
      "upper limit for quadratic: 1.75\n",
      "upper limit for smooth: 2.25\n",
      "inv mask:  [[ 0  1  2  3  4  5  6  7  8  9 10 11 12 13 14 15 16 17]]\n",
      "inv mask:  [[ 0  1  2  3  4  5  6  7  8  9 10 11 12 13 14 15 16 17]]\n",
      "inv mask:  [[ 0  1  2  3  4  5  6  7  8  9 10 11 12 13 14 15 16 17]]\n",
      "Delta: [0.]\n",
      "upper limit for quadratic: 1.75\n",
      "upper limit for smooth: 2.25\n",
      "inv mask:  [[ 0  1  2  3  4  5  6  7  8  9 10 11 12 13 14 15 16 17]]\n",
      "inv mask:  [[ 0  1  2  3  4  5  6  7  8  9 10 11 12 13 14 15 16 17]]\n",
      "inv mask:  [[ 0  1  2  3  4  5  6  7  8  9 10 11 12 13 14 15 16 17]]\n",
      "Delta: [0.]\n",
      "upper limit for quadratic: 1.75\n",
      "upper limit for smooth: 2.25\n",
      "inv mask:  [[ 0  1  2  3  4  5  6  7  8  9 10 11 12 13 14 15 16 17]]\n",
      "inv mask:  [[ 0  1  2  3  4  5  6  7  8  9 10 11 12 13 14 15 16 17]]\n",
      "inv mask:  [[ 0  1  2  3  4  5  6  7  8  9 10 11 12 13 14 15 16 17]]\n",
      "Delta: [0.]\n",
      "upper limit for quadratic: 1.75\n",
      "upper limit for smooth: 2.25\n",
      "inv mask:  [[ 0  1  2  3  4  5  6  7  8  9 10 11 12 13 14 15 16 17]]\n",
      "inv mask:  [[ 0  1  2  3  4  5  6  7  8  9 10 11 12 13 14 15 16 17]]\n",
      "inv mask:  [[ 0  1  2  3  4  5  6  7  8  9 10 11 12 13 14 15 16 17]]\n",
      "Delta: [0.]\n",
      "upper limit for quadratic: 1.75\n",
      "upper limit for smooth: 2.25\n",
      "inv mask:  [[ 0  1  2  3  4  5  6  7  8  9 10 11 12 13 14 15 16 17]]\n",
      "inv mask:  [[ 0  1  2  3  4  5  6  7  8  9 10 11 12 13 14 15 16 17]]\n",
      "inv mask:  [[ 0  1  2  3  4  5  6  7  8  9 10 11 12 13 14 15 16 17]]\n",
      "Delta: [0.]\n",
      "upper limit for quadratic: 1.75\n",
      "upper limit for smooth: 2.25\n",
      "inv mask:  [[ 0  1  2  3  4  5  6  7  8  9 10 11 12 13 14 15 16 17]]\n",
      "inv mask:  [[ 0  1  2  3  4  5  6  7  8  9 10 11 12 13 14 15 16 17]]\n",
      "inv mask:  [[ 0  1  2  3  4  5  6  7  8  9 10 11 12 13 14 15 16 17]]\n",
      "Delta: [0.]\n",
      "upper limit for quadratic: 1.75\n",
      "upper limit for smooth: 2.25\n",
      "inv mask:  [[ 0  1  2  3  4  5  6  7  8  9 10 11 12 13 14 15 16 17]]\n",
      "inv mask:  [[ 0  1  2  3  4  5  6  7  8  9 10 11 12 13 14 15 16 17]]\n",
      "inv mask:  [[ 0  1  2  3  4  5  6  7  8  9 10 11 12 13 14 15 16 17]]\n",
      "Delta: [0.]\n",
      "upper limit for quadratic: 1.75\n",
      "upper limit for smooth: 2.25\n",
      "inv mask:  [[ 0  1  2  3  4  5  6  7  8  9 10 11 12 13 14 15 16 17]]\n",
      "inv mask:  [[ 0  1  2  3  4  5  6  7  8  9 10 11 12 13 14 15 16 17]]\n",
      "inv mask:  [[ 0  1  2  3  4  5  6  7  8  9 10 11 12 13 14 15 16 17]]\n",
      "Delta: [0.]\n",
      "upper limit for quadratic: 1.75\n",
      "upper limit for smooth: 2.25\n",
      "inv mask:  [[ 0  1  2  3  4  5  6  7  8  9 10 11 12 13 14 15 16 17]]\n",
      "inv mask:  [[ 0  1  2  3  4  5  6  7  8  9 10 11 12 13 14 15 16 17]]\n",
      "inv mask:  [[ 0  1  2  3  4  5  6  7  8  9 10 11 12 13 14 15 16 17]]\n",
      "Delta: [0.]\n",
      "upper limit for quadratic: 1.75\n",
      "upper limit for smooth: 2.25\n",
      "inv mask:  [[ 0  1  2  3  4  5  6  7  8  9 10 11 12 13 14 15 16 17]]\n",
      "inv mask:  [[ 0  1  2  3  4  5  6  7  8  9 10 11 12 13 14 15 16 17]]\n",
      "inv mask:  [[ 0  1  2  3  4  5  6  7  8  9 10 11 12 13 14 15 16 17]]\n",
      "Delta: [0.]\n",
      "upper limit for quadratic: 1.75\n",
      "upper limit for smooth: 2.25\n",
      "inv mask:  [[ 0  1  2  3  4  5  6  7  8  9 10 11 12 13 14 15 16 17]]\n",
      "inv mask:  [[ 0  1  2  3  4  5  6  7  8  9 10 11 12 13 14 15 16 17]]\n",
      "inv mask:  [[ 0  1  2  3  4  5  6  7  8  9 10 11 12 13 14 15 16 17]]\n",
      "Delta: [0.]\n",
      "upper limit for quadratic: 1.75\n",
      "upper limit for smooth: 2.25\n",
      "inv mask:  [[ 0  1  2  3  4  5  6  7  8  9 10 11 12 13 14 15 16 17]]\n",
      "inv mask:  [[ 0  1  2  3  4  5  6  7  8  9 10 11 12 13 14 15 16 17]]\n",
      "inv mask:  [[ 0  1  2  3  4  5  6  7  8  9 10 11 12 13 14 15 16 17]]\n",
      "Delta: [0.]\n",
      "upper limit for quadratic: 1.75\n",
      "upper limit for smooth: 2.25\n",
      "inv mask:  [[ 0  1  2  3  4  5  6  7  8  9 10 11 12 13 14 15 16 17]]\n",
      "inv mask:  [[ 0  1  2  3  4  5  6  7  8  9 10 11 12 13 14 15 16 17]]\n",
      "inv mask:  [[ 0  1  2  3  4  5  6  7  8  9 10 11 12 13 14 15 16 17]]\n",
      "Delta: [0.]\n",
      "upper limit for quadratic: 1.75\n",
      "upper limit for smooth: 2.25\n",
      "inv mask:  [[ 0  1  2  3  4  5  6  7  8  9 10 11 12 13 14 15 16 17]]\n",
      "inv mask:  [[ 0  1  2  3  4  5  6  7  8  9 10 11 12 13 14 15 16 17]]\n",
      "inv mask:  [[ 0  1  2  3  4  5  6  7  8  9 10 11 12 13 14 15 16 17]]\n",
      "Delta: [0.]\n",
      "upper limit for quadratic: 1.75\n",
      "upper limit for smooth: 2.25\n",
      "inv mask:  [[ 0  1  2  3  4  5  6  7  8  9 10 11 12 13 14 15 16 17]]\n",
      "inv mask:  [[ 0  1  2  3  4  5  6  7  8  9 10 11 12 13 14 15 16 17]]\n",
      "inv mask:  [[ 0  1  2  3  4  5  6  7  8  9 10 11 12 13 14 15 16 17]]\n",
      "Delta: [0.]\n",
      "upper limit for quadratic: 1.75\n",
      "upper limit for smooth: 2.25\n",
      "inv mask:  [[ 0  1  2  3  4  5  6  7  8  9 10 11 12 13 14 15 16 17]]\n",
      "inv mask:  [[ 0  1  2  3  4  5  6  7  8  9 10 11 12 13 14 15 16 17]]\n",
      "inv mask:  [[ 0  1  2  3  4  5  6  7  8  9 10 11 12 13 14 15 16 17]]\n",
      "Delta: [0.]\n",
      "upper limit for quadratic: 1.75\n",
      "upper limit for smooth: 2.25\n",
      "inv mask:  [[ 0  1  2  3  4  5  6  7  8  9 10 11 12 13 14 15 16 17]]\n",
      "inv mask:  [[ 0  1  2  3  4  5  6  7  8  9 10 11 12 13 14 15 16 17]]\n",
      "inv mask:  [[ 0  1  2  3  4  5  6  7  8  9 10 11 12 13 14 15 16 17]]\n",
      "Delta: [0.]\n",
      "upper limit for quadratic: 1.75\n",
      "upper limit for smooth: 2.25\n",
      "inv mask:  [[ 0  1  2  3  4  5  6  7  8  9 10 11 12 13 14 15 16 17]]\n",
      "inv mask:  [[ 0  1  2  3  4  5  6  7  8  9 10 11 12 13 14 15 16 17]]\n",
      "inv mask:  [[ 0  1  2  3  4  5  6  7  8  9 10 11 12 13 14 15 16 17]]\n",
      "Delta: [0.]\n",
      "upper limit for quadratic: 1.75\n",
      "upper limit for smooth: 2.25\n",
      "inv mask:  [[ 0  1  2  3  4  5  6  7  8  9 10 11 12 13 14 15 16 17]]\n",
      "inv mask:  [[ 0  1  2  3  4  5  6  7  8  9 10 11 12 13 14 15 16 17]]\n",
      "inv mask:  [[ 0  1  2  3  4  5  6  7  8  9 10 11 12 13 14 15 16 17]]\n",
      "Delta: [0.]\n",
      "upper limit for quadratic: 1.75\n",
      "upper limit for smooth: 2.25\n",
      "inv mask:  [[ 0  1  2  3  4  5  6  7  8  9 10 11 12 13 14 15 16 17]]\n",
      "inv mask:  [[ 0  1  2  3  4  5  6  7  8  9 10 11 12 13 14 15 16 17]]\n",
      "inv mask:  [[ 0  1  2  3  4  5  6  7  8  9 10 11 12 13 14 15 16 17]]\n",
      "Delta: [0.]\n",
      "upper limit for quadratic: 1.75\n",
      "upper limit for smooth: 2.25\n",
      "inv mask:  [[ 0  1  2  3  4  5  6  7  8  9 10 11 12 13 14 15 16 17]]\n",
      "inv mask:  [[ 0  1  2  3  4  5  6  7  8  9 10 11 12 13 14 15 16 17]]\n",
      "inv mask:  [[ 0  1  2  3  4  5  6  7  8  9 10 11 12 13 14 15 16 17]]\n",
      "Delta: [0.]\n",
      "upper limit for quadratic: 1.75\n",
      "upper limit for smooth: 2.25\n",
      "inv mask:  [[ 0  1  2  3  4  5  6  7  8  9 10 11 12 13 14 15 16 17]]\n",
      "inv mask:  [[ 0  1  2  3  4  5  6  7  8  9 10 11 12 13 14 15 16 17]]\n",
      "inv mask:  [[ 0  1  2  3  4  5  6  7  8  9 10 11 12 13 14 15 16 17]]\n",
      "Delta: [0.]\n",
      "upper limit for quadratic: 1.75\n",
      "upper limit for smooth: 2.25\n",
      "inv mask:  [[ 0  1  2  3  4  5  6  7  8  9 10 11 12 13 14 15 16 17]]\n",
      "inv mask:  [[ 0  1  2  3  4  5  6  7  8  9 10 11 12 13 14 15 16 17]]\n",
      "inv mask:  [[ 0  1  2  3  4  5  6  7  8  9 10 11 12 13 14 15 16 17]]\n",
      "Delta: [0.]\n",
      "upper limit for quadratic: 1.75\n",
      "upper limit for smooth: 2.25\n",
      "inv mask:  [[ 0  1  2  3  4  5  6  7  8  9 10 11 12 13 14 15 16 17]]\n",
      "inv mask:  [[ 0  1  2  3  4  5  6  7  8  9 10 11 12 13 14 15 16 17]]\n",
      "inv mask:  [[ 0  1  2  3  4  5  6  7  8  9 10 11 12 13 14 15 16 17]]\n",
      "Delta: [0.]\n",
      "upper limit for quadratic: 1.75\n",
      "upper limit for smooth: 2.25\n",
      "inv mask:  [[ 0  1  2  3  4  5  6  7  8  9 10 11 12 13 14 15 16 17]]\n",
      "inv mask:  [[ 0  1  2  3  4  5  6  7  8  9 10 11 12 13 14 15 16 17]]\n",
      "inv mask:  [[ 0  1  2  3  4  5  6  7  8  9 10 11 12 13 14 15 16 17]]\n",
      "Delta: [0.]\n",
      "upper limit for quadratic: 1.75\n",
      "upper limit for smooth: 2.25\n",
      "inv mask:  [[ 0  1  2  3  4  5  6  7  8  9 10 11 12 13 14 15 16 17]]\n",
      "inv mask:  [[ 0  1  2  3  4  5  6  7  8  9 10 11 12 13 14 15 16 17]]\n",
      "inv mask:  [[ 0  1  2  3  4  5  6  7  8  9 10 11 12 13 14 15 16 17]]\n",
      "Delta: [0.]\n",
      "upper limit for quadratic: 1.75\n",
      "upper limit for smooth: 2.25\n",
      "inv mask:  [[ 0  1  2  3  4  5  6  7  8  9 10 11 12 13 14 15 16 17]]\n",
      "inv mask:  [[ 0  1  2  3  4  5  6  7  8  9 10 11 12 13 14 15 16 17]]\n",
      "inv mask:  [[ 0  1  2  3  4  5  6  7  8  9 10 11 12 13 14 15 16 17]]\n",
      "Delta: [0.]\n",
      "upper limit for quadratic: 1.75\n",
      "upper limit for smooth: 2.25\n",
      "inv mask:  [[ 0  1  2  3  4  5  6  7  8  9 10 11 12 13 14 15 16 17]]\n",
      "inv mask:  [[ 0  1  2  3  4  5  6  7  8  9 10 11 12 13 14 15 16 17]]\n",
      "inv mask:  [[ 0  1  2  3  4  5  6  7  8  9 10 11 12 13 14 15 16 17]]\n",
      "Delta: [0.]\n",
      "upper limit for quadratic: 1.75\n",
      "upper limit for smooth: 2.25\n",
      "inv mask:  [[ 0  1  2  3  4  5  6  7  8  9 10 11 12 13 14 15 16 17]]\n",
      "inv mask:  [[ 0  1  2  3  4  5  6  7  8  9 10 11 12 13 14 15 16 17]]\n",
      "inv mask:  [[ 0  1  2  3  4  5  6  7  8  9 10 11 12 13 14 15 16 17]]\n",
      "Delta: [0.]\n",
      "upper limit for quadratic: 1.75\n",
      "upper limit for smooth: 2.25\n",
      "inv mask:  [[ 0  1  2  3  4  5  6  7  8  9 10 11 12 13 14 15 16 17]]\n",
      "inv mask:  [[ 0  1  2  3  4  5  6  7  8  9 10 11 12 13 14 15 16 17]]\n",
      "inv mask:  [[ 0  1  2  3  4  5  6  7  8  9 10 11 12 13 14 15 16 17]]\n",
      "Delta: [0.]\n",
      "upper limit for quadratic: 1.75\n",
      "upper limit for smooth: 2.25\n",
      "inv mask:  [[ 0  1  2  3  4  5  6  7  8  9 10 11 12 13 14 15 16 17]]\n",
      "inv mask:  [[ 0  1  2  3  4  5  6  7  8  9 10 11 12 13 14 15 16 17]]\n",
      "inv mask:  [[ 0  1  2  3  4  5  6  7  8  9 10 11 12 13 14 15 16 17]]\n",
      "Delta: [0.]\n",
      "upper limit for quadratic: 1.75\n",
      "upper limit for smooth: 2.25\n",
      "inv mask:  [[ 0  1  2  3  4  5  6  7  8  9 10 11 12 13 14 15 16 17]]\n",
      "inv mask:  [[ 0  1  2  3  4  5  6  7  8  9 10 11 12 13 14 15 16 17]]\n",
      "inv mask:  [[ 0  1  2  3  4  5  6  7  8  9 10 11 12 13 14 15 16 17]]\n",
      "Delta: [0.]\n",
      "upper limit for quadratic: 1.75\n",
      "upper limit for smooth: 2.25\n",
      "inv mask:  [[ 0  1  2  3  4  5  6  7  8  9 10 11 12 13 14 15 16 17]]\n",
      "inv mask:  [[ 0  1  2  3  4  5  6  7  8  9 10 11 12 13 14 15 16 17]]\n",
      "inv mask:  [[ 0  1  2  3  4  5  6  7  8  9 10 11 12 13 14 15 16 17]]\n",
      "Delta: [0.]\n",
      "upper limit for quadratic: 1.75\n",
      "upper limit for smooth: 2.25\n",
      "inv mask:  [[ 0  1  2  3  4  5  6  7  8  9 10 11 12 13 14 15 16 17]]\n",
      "inv mask:  [[ 0  1  2  3  4  5  6  7  8  9 10 11 12 13 14 15 16 17]]\n",
      "inv mask:  [[ 0  1  2  3  4  5  6  7  8  9 10 11 12 13 14 15 16 17]]\n",
      "Delta: [0.]\n",
      "upper limit for quadratic: 1.75\n",
      "upper limit for smooth: 2.25\n",
      "inv mask:  [[ 0  1  2  3  4  5  6  7  8  9 10 11 12 13 14 15 16 17]]\n",
      "inv mask:  [[ 0  1  2  3  4  5  6  7  8  9 10 11 12 13 14 15 16 17]]\n",
      "inv mask:  [[ 0  1  2  3  4  5  6  7  8  9 10 11 12 13 14 15 16 17]]\n",
      "Delta: [0.]\n",
      "upper limit for quadratic: 1.75\n",
      "upper limit for smooth: 2.25\n",
      "inv mask:  [[ 0  1  2  3  4  5  6  7  8  9 10 11 12 13 14 15 16 17]]\n",
      "inv mask:  [[ 0  1  2  3  4  5  6  7  8  9 10 11 12 13 14 15 16 17]]\n",
      "inv mask:  [[ 0  1  2  3  4  5  6  7  8  9 10 11 12 13 14 15 16 17]]\n",
      "Delta: [0.]\n",
      "upper limit for quadratic: 1.75\n",
      "upper limit for smooth: 2.25\n",
      "inv mask:  [[ 0  1  2  3  4  5  6  7  8  9 10 11 12 13 14 15 16 17]]\n",
      "inv mask:  [[ 0  1  2  3  4  5  6  7  8  9 10 11 12 13 14 15 16 17]]\n",
      "inv mask:  [[ 0  1  2  3  4  5  6  7  8  9 10 11 12 13 14 15 16 17]]\n",
      "Delta: [0.]\n",
      "upper limit for quadratic: 1.75\n",
      "upper limit for smooth: 2.25\n",
      "inv mask:  [[ 0  1  2  3  4  5  6  7  8  9 10 11 12 13 14 15 16 17]]\n",
      "inv mask:  [[ 0  1  2  3  4  5  6  7  8  9 10 11 12 13 14 15 16 17]]\n",
      "inv mask:  [[ 0  1  2  3  4  5  6  7  8  9 10 11 12 13 14 15 16 17]]\n",
      "Delta: [0.]\n",
      "upper limit for quadratic: 1.75\n",
      "upper limit for smooth: 2.25\n",
      "inv mask:  [[ 0  1  2  3  4  5  6  7  8  9 10 11 12 13 14 15 16 17]]\n",
      "inv mask:  [[ 0  1  2  3  4  5  6  7  8  9 10 11 12 13 14 15 16 17]]\n",
      "inv mask:  [[ 0  1  2  3  4  5  6  7  8  9 10 11 12 13 14 15 16 17]]\n",
      "Delta: [0.]\n",
      "upper limit for quadratic: 1.75\n",
      "upper limit for smooth: 2.25\n",
      "inv mask:  [[ 0  1  2  3  4  5  6  7  8  9 10 11 12 13 14 15 16 17]]\n",
      "inv mask:  [[ 0  1  2  3  4  5  6  7  8  9 10 11 12 13 14 15 16 17]]\n",
      "inv mask:  [[ 0  1  2  3  4  5  6  7  8  9 10 11 12 13 14 15 16 17]]\n",
      "Delta: [0.]\n",
      "upper limit for quadratic: 1.75\n",
      "upper limit for smooth: 2.25\n",
      "inv mask:  [[ 0  1  2  3  4  5  6  7  8  9 10 11 12 13 14 15 16 17]]\n",
      "inv mask:  [[ 0  1  2  3  4  5  6  7  8  9 10 11 12 13 14 15 16 17]]\n",
      "inv mask:  [[ 0  1  2  3  4  5  6  7  8  9 10 11 12 13 14 15 16 17]]\n",
      "Delta: [0.]\n",
      "upper limit for quadratic: 1.75\n",
      "upper limit for smooth: 2.25\n",
      "inv mask:  [[ 0  1  2  3  4  5  6  7  8  9 10 11 12 13 14 15 16 17]]\n",
      "inv mask:  [[ 0  1  2  3  4  5  6  7  8  9 10 11 12 13 14 15 16 17]]\n",
      "inv mask:  [[ 0  1  2  3  4  5  6  7  8  9 10 11 12 13 14 15 16 17]]\n",
      "Delta: [0.]\n",
      "upper limit for quadratic: 1.75\n",
      "upper limit for smooth: 2.25\n",
      "inv mask:  [[ 0  1  2  3  4  5  6  7  8  9 10 11 12 13 14 15 16 17]]\n",
      "inv mask:  [[ 0  1  2  3  4  5  6  7  8  9 10 11 12 13 14 15 16 17]]\n",
      "inv mask:  [[ 0  1  2  3  4  5  6  7  8  9 10 11 12 13 14 15 16 17]]\n",
      "Delta: [0.]\n",
      "upper limit for quadratic: 1.75\n",
      "upper limit for smooth: 2.25\n",
      "inv mask:  [[ 0  1  2  3  4  5  6  7  8  9 10 11 12 13 14 15 16 17]]\n",
      "inv mask:  [[ 0  1  2  3  4  5  6  7  8  9 10 11 12 13 14 15 16 17]]\n",
      "inv mask:  [[ 0  1  2  3  4  5  6  7  8  9 10 11 12 13 14 15 16 17]]\n",
      "Delta: [0.]\n",
      "upper limit for quadratic: 1.75\n",
      "upper limit for smooth: 2.25\n",
      "inv mask:  [[ 0  1  2  3  4  5  6  7  8  9 10 11 12 13 14 15 16 17]]\n",
      "inv mask:  [[ 0  1  2  3  4  5  6  7  8  9 10 11 12 13 14 15 16 17]]\n",
      "inv mask:  [[ 0  1  2  3  4  5  6  7  8  9 10 11 12 13 14 15 16 17]]\n",
      "Delta: [0.]\n",
      "upper limit for quadratic: 1.75\n",
      "upper limit for smooth: 2.25\n",
      "inv mask:  [[ 0  1  2  3  4  5  6  7  8  9 10 11 12 13 14 15 16 17]]\n",
      "inv mask:  [[ 0  1  2  3  4  5  6  7  8  9 10 11 12 13 14 15 16 17]]\n",
      "inv mask:  [[ 0  1  2  3  4  5  6  7  8  9 10 11 12 13 14 15 16 17]]\n",
      "Delta: [0.]\n",
      "upper limit for quadratic: 1.75\n",
      "upper limit for smooth: 2.25\n",
      "inv mask:  [[ 0  1  2  3  4  5  6  7  8  9 10 11 12 13 14 15 16 17]]\n",
      "inv mask:  [[ 0  1  2  3  4  5  6  7  8  9 10 11 12 13 14 15 16 17]]\n",
      "inv mask:  [[ 0  1  2  3  4  5  6  7  8  9 10 11 12 13 14 15 16 17]]\n",
      "Delta: [0.]\n",
      "upper limit for quadratic: 1.75\n",
      "upper limit for smooth: 2.25\n",
      "inv mask:  [[ 0  1  2  3  4  5  6  7  8  9 10 11 12 13 14 15 16 17]]\n",
      "inv mask:  [[ 0  1  2  3  4  5  6  7  8  9 10 11 12 13 14 15 16 17]]\n",
      "inv mask:  [[ 0  1  2  3  4  5  6  7  8  9 10 11 12 13 14 15 16 17]]\n",
      "Delta: [0.]\n",
      "upper limit for quadratic: 1.75\n",
      "upper limit for smooth: 2.25\n",
      "inv mask:  [[ 0  1  2  3  4  5  6  7  8  9 10 11 12 13 14 15 16 17]]\n",
      "inv mask:  [[ 0  1  2  3  4  5  6  7  8  9 10 11 12 13 14 15 16 17]]\n",
      "inv mask:  [[ 0  1  2  3  4  5  6  7  8  9 10 11 12 13 14 15 16 17]]\n",
      "Delta: [0.]\n",
      "upper limit for quadratic: 1.75\n",
      "upper limit for smooth: 2.25\n",
      "inv mask:  [[ 0  1  2  3  4  5  6  7  8  9 10 11 12 13 14 15 16 17]]\n",
      "inv mask:  [[ 0  1  2  3  4  5  6  7  8  9 10 11 12 13 14 15 16 17]]\n",
      "inv mask:  [[ 0  1  2  3  4  5  6  7  8  9 10 11 12 13 14 15 16 17]]\n",
      "Delta: [0.]\n",
      "upper limit for quadratic: 1.75\n",
      "upper limit for smooth: 2.25\n",
      "inv mask:  [[ 0  1  2  3  4  5  6  7  8  9 10 11 12 13 14 15 16 17]]\n",
      "inv mask:  [[ 0  1  2  3  4  5  6  7  8  9 10 11 12 13 14 15 16 17]]\n",
      "inv mask:  [[ 0  1  2  3  4  5  6  7  8  9 10 11 12 13 14 15 16 17]]\n",
      "Delta: [0.]\n",
      "upper limit for quadratic: 1.75\n",
      "upper limit for smooth: 2.25\n",
      "inv mask:  [[ 0  1  2  3  4  5  6  7  8  9 10 11 12 13 14 15 16 17]]\n",
      "inv mask:  [[ 0  1  2  3  4  5  6  7  8  9 10 11 12 13 14 15 16 17]]\n",
      "inv mask:  [[ 0  1  2  3  4  5  6  7  8  9 10 11 12 13 14 15 16 17]]\n",
      "Delta: [0.]\n",
      "upper limit for quadratic: 1.75\n",
      "upper limit for smooth: 2.25\n",
      "inv mask:  [[ 0  1  2  3  4  5  6  7  8  9 10 11 12 13 14 15 16 17]]\n",
      "inv mask:  [[ 0  1  2  3  4  5  6  7  8  9 10 11 12 13 14 15 16 17]]\n",
      "inv mask:  [[ 0  1  2  3  4  5  6  7  8  9 10 11 12 13 14 15 16 17]]\n",
      "Delta: [0.]\n",
      "upper limit for quadratic: 1.75\n",
      "upper limit for smooth: 2.25\n",
      "inv mask:  [[ 0  1  2  3  4  5  6  7  8  9 10 11 12 13 14 15 16 17]]\n",
      "inv mask:  [[ 0  1  2  3  4  5  6  7  8  9 10 11 12 13 14 15 16 17]]\n",
      "inv mask:  [[ 0  1  2  3  4  5  6  7  8  9 10 11 12 13 14 15 16 17]]\n",
      "Delta: [0.]\n",
      "upper limit for quadratic: 1.75\n",
      "upper limit for smooth: 2.25\n",
      "inv mask:  [[ 0  1  2  3  4  5  6  7  8  9 10 11 12 13 14 15 16 17]]\n",
      "inv mask:  [[ 0  1  2  3  4  5  6  7  8  9 10 11 12 13 14 15 16 17]]\n",
      "inv mask:  [[ 0  1  2  3  4  5  6  7  8  9 10 11 12 13 14 15 16 17]]\n",
      "Delta: [0.]\n",
      "upper limit for quadratic: 1.75\n",
      "upper limit for smooth: 2.25\n",
      "inv mask:  [[ 0  1  2  3  4  5  6  7  8  9 10 11 12 13 14 15 16 17]]\n",
      "inv mask:  [[ 0  1  2  3  4  5  6  7  8  9 10 11 12 13 14 15 16 17]]\n",
      "inv mask:  [[ 0  1  2  3  4  5  6  7  8  9 10 11 12 13 14 15 16 17]]\n",
      "Delta: [0.]\n",
      "upper limit for quadratic: 1.75\n",
      "upper limit for smooth: 2.25\n",
      "inv mask:  [[ 0  1  2  3  4  5  6  7  8  9 10 11 12 13 14 15 16 17]]\n",
      "inv mask:  [[ 0  1  2  3  4  5  6  7  8  9 10 11 12 13 14 15 16 17]]\n",
      "inv mask:  [[ 0  1  2  3  4  5  6  7  8  9 10 11 12 13 14 15 16 17]]\n",
      "Delta: [0.]\n",
      "upper limit for quadratic: 1.75\n",
      "upper limit for smooth: 2.25\n",
      "inv mask:  [[ 0  1  2  3  4  5  6  7  8  9 10 11 12 13 14 15 16 17]]\n",
      "inv mask:  [[ 0  1  2  3  4  5  6  7  8  9 10 11 12 13 14 15 16 17]]\n",
      "inv mask:  [[ 0  1  2  3  4  5  6  7  8  9 10 11 12 13 14 15 16 17]]\n",
      "Delta: [0.]\n",
      "upper limit for quadratic: 1.75\n",
      "upper limit for smooth: 2.25\n",
      "inv mask:  [[ 0  1  2  3  4  5  6  7  8  9 10 11 12 13 14 15 16 17]]\n",
      "inv mask:  [[ 0  1  2  3  4  5  6  7  8  9 10 11 12 13 14 15 16 17]]\n",
      "inv mask:  [[ 0  1  2  3  4  5  6  7  8  9 10 11 12 13 14 15 16 17]]\n",
      "Delta: [0.]\n",
      "upper limit for quadratic: 1.75\n",
      "upper limit for smooth: 2.25\n",
      "inv mask:  [[ 0  1  2  3  4  5  6  7  8  9 10 11 12 13 14 15 16 17]]\n",
      "inv mask:  [[ 0  1  2  3  4  5  6  7  8  9 10 11 12 13 14 15 16 17]]\n",
      "inv mask:  [[ 0  1  2  3  4  5  6  7  8  9 10 11 12 13 14 15 16 17]]\n",
      "Delta: [0.]\n",
      "upper limit for quadratic: 1.75\n",
      "upper limit for smooth: 2.25\n",
      "inv mask:  [[ 0  1  2  3  4  5  6  7  8  9 10 11 12 13 14 15 16 17]]\n",
      "inv mask:  [[ 0  1  2  3  4  5  6  7  8  9 10 11 12 13 14 15 16 17]]\n",
      "inv mask:  [[ 0  1  2  3  4  5  6  7  8  9 10 11 12 13 14 15 16 17]]\n",
      "Delta: [0.]\n",
      "upper limit for quadratic: 1.75\n",
      "upper limit for smooth: 2.25\n",
      "inv mask:  [[ 0  1  2  3  4  5  6  7  8  9 10 11 12 13 14 15 16 17]]\n",
      "inv mask:  [[ 0  1  2  3  4  5  6  7  8  9 10 11 12 13 14 15 16 17]]\n",
      "inv mask:  [[ 0  1  2  3  4  5  6  7  8  9 10 11 12 13 14 15 16 17]]\n",
      "Delta: [0.]\n",
      "upper limit for quadratic: 1.75\n",
      "upper limit for smooth: 2.25\n",
      "inv mask:  [[ 0  1  2  3  4  5  6  7  8  9 10 11 12 13 14 15 16 17]]\n",
      "inv mask:  [[ 0  1  2  3  4  5  6  7  8  9 10 11 12 13 14 15 16 17]]\n",
      "inv mask:  [[ 0  1  2  3  4  5  6  7  8  9 10 11 12 13 14 15 16 17]]\n",
      "Delta: [0.]\n",
      "upper limit for quadratic: 1.75\n",
      "upper limit for smooth: 2.25\n",
      "inv mask:  [[ 0  1  2  3  4  5  6  7  8  9 10 11 12 13 14 15 16 17]]\n",
      "inv mask:  [[ 0  1  2  3  4  5  6  7  8  9 10 11 12 13 14 15 16 17]]\n",
      "inv mask:  [[ 0  1  2  3  4  5  6  7  8  9 10 11 12 13 14 15 16 17]]\n",
      "Delta: [0.]\n",
      "upper limit for quadratic: 1.75\n",
      "upper limit for smooth: 2.25\n",
      "inv mask:  [[ 0  1  2  3  4  5  6  7  8  9 10 11 12 13 14 15 16 17]]\n",
      "inv mask:  [[ 0  1  2  3  4  5  6  7  8  9 10 11 12 13 14 15 16 17]]\n",
      "inv mask:  [[ 0  1  2  3  4  5  6  7  8  9 10 11 12 13 14 15 16 17]]\n",
      "Delta: [0.]\n",
      "upper limit for quadratic: 1.75\n",
      "upper limit for smooth: 2.25\n",
      "inv mask:  [[ 0  1  2  3  4  5  6  7  8  9 10 11 12 13 14 15 16 17]]\n",
      "inv mask:  [[ 0  1  2  3  4  5  6  7  8  9 10 11 12 13 14 15 16 17]]\n",
      "inv mask:  [[ 0  1  2  3  4  5  6  7  8  9 10 11 12 13 14 15 16 17]]\n",
      "Delta: [0.]\n",
      "upper limit for quadratic: 1.75\n",
      "upper limit for smooth: 2.25\n",
      "inv mask:  [[ 0  1  2  3  4  5  6  7  8  9 10 11 12 13 14 15 16 17]]\n",
      "inv mask:  [[ 0  1  2  3  4  5  6  7  8  9 10 11 12 13 14 15 16 17]]\n",
      "inv mask:  [[ 0  1  2  3  4  5  6  7  8  9 10 11 12 13 14 15 16 17]]\n",
      "Delta: [0.]\n",
      "upper limit for quadratic: 1.75\n",
      "upper limit for smooth: 2.25\n",
      "inv mask:  [[ 0  1  2  3  4  5  6  7  8  9 10 11 12 13 14 15 16 17]]\n",
      "inv mask:  [[ 0  1  2  3  4  5  6  7  8  9 10 11 12 13 14 15 16 17]]\n",
      "inv mask:  [[ 0  1  2  3  4  5  6  7  8  9 10 11 12 13 14 15 16 17]]\n",
      "Delta: [0.]\n",
      "upper limit for quadratic: 1.75\n",
      "upper limit for smooth: 2.25\n",
      "inv mask:  [[ 0  1  2  3  4  5  6  7  8  9 10 11 12 13 14 15 16 17]]\n",
      "inv mask:  [[ 0  1  2  3  4  5  6  7  8  9 10 11 12 13 14 15 16 17]]\n",
      "inv mask:  [[ 0  1  2  3  4  5  6  7  8  9 10 11 12 13 14 15 16 17]]\n",
      "Delta: [0.]\n",
      "upper limit for quadratic: 1.75\n",
      "upper limit for smooth: 2.25\n",
      "inv mask:  [[ 0  1  2  3  4  5  6  7  8  9 10 11 12 13 14 15 16 17]]\n",
      "inv mask:  [[ 0  1  2  3  4  5  6  7  8  9 10 11 12 13 14 15 16 17]]\n",
      "inv mask:  [[ 0  1  2  3  4  5  6  7  8  9 10 11 12 13 14 15 16 17]]\n",
      "Delta: [0.]\n",
      "upper limit for quadratic: 1.75\n",
      "upper limit for smooth: 2.25\n",
      "inv mask:  [[ 0  1  2  3  4  5  6  7  8  9 10 11 12 13 14 15 16 17]]\n",
      "inv mask:  [[ 0  1  2  3  4  5  6  7  8  9 10 11 12 13 14 15 16 17]]\n",
      "inv mask:  [[ 0  1  2  3  4  5  6  7  8  9 10 11 12 13 14 15 16 17]]\n",
      "Delta: [0.]\n",
      "upper limit for quadratic: 1.75\n",
      "upper limit for smooth: 2.25\n",
      "inv mask:  [[ 0  1  2  3  4  5  6  7  8  9 10 11 12 13 14 15 16 17]]\n",
      "inv mask:  [[ 0  1  2  3  4  5  6  7  8  9 10 11 12 13 14 15 16 17]]\n",
      "inv mask:  [[ 0  1  2  3  4  5  6  7  8  9 10 11 12 13 14 15 16 17]]\n",
      "Delta: [0.]\n",
      "upper limit for quadratic: 1.75\n",
      "upper limit for smooth: 2.25\n",
      "inv mask:  [[ 0  1  2  3  4  5  6  7  8  9 10 11 12 13 14 15 16 17]]\n",
      "inv mask:  [[ 0  1  2  3  4  5  6  7  8  9 10 11 12 13 14 15 16 17]]\n",
      "inv mask:  [[ 0  1  2  3  4  5  6  7  8  9 10 11 12 13 14 15 16 17]]\n",
      "Delta: [0.]\n",
      "upper limit for quadratic: 1.75\n",
      "upper limit for smooth: 2.25\n",
      "inv mask:  [[ 0  1  2  3  4  5  6  7  8  9 10 11 12 13 14 15 16 17]]\n",
      "inv mask:  [[ 0  1  2  3  4  5  6  7  8  9 10 11 12 13 14 15 16 17]]\n",
      "inv mask:  [[ 0  1  2  3  4  5  6  7  8  9 10 11 12 13 14 15 16 17]]\n",
      "Delta: [0.]\n",
      "upper limit for quadratic: 1.75\n",
      "upper limit for smooth: 2.25\n",
      "inv mask:  [[ 0  1  2  3  4  5  6  7  8  9 10 11 12 13 14 15 16 17]]\n",
      "inv mask:  [[ 0  1  2  3  4  5  6  7  8  9 10 11 12 13 14 15 16 17]]\n",
      "inv mask:  [[ 0  1  2  3  4  5  6  7  8  9 10 11 12 13 14 15 16 17]]\n",
      "Delta: [0.]\n",
      "upper limit for quadratic: 1.75\n",
      "upper limit for smooth: 2.25\n",
      "inv mask:  [[ 0  1  2  3  4  5  6  7  8  9 10 11 12 13 14 15 16 17]]\n",
      "inv mask:  [[ 0  1  2  3  4  5  6  7  8  9 10 11 12 13 14 15 16 17]]\n",
      "inv mask:  [[ 0  1  2  3  4  5  6  7  8  9 10 11 12 13 14 15 16 17]]\n",
      "Delta: [0.]\n",
      "upper limit for quadratic: 1.75\n",
      "upper limit for smooth: 2.25\n",
      "inv mask:  [[ 0  1  2  3  4  5  6  7  8  9 10 11 12 13 14 15 16 17]]\n",
      "inv mask:  [[ 0  1  2  3  4  5  6  7  8  9 10 11 12 13 14 15 16 17]]\n",
      "inv mask:  [[ 0  1  2  3  4  5  6  7  8  9 10 11 12 13 14 15 16 17]]\n",
      "Delta: [0.]\n",
      "upper limit for quadratic: 1.75\n",
      "upper limit for smooth: 2.25\n",
      "inv mask:  [[ 0  1  2  3  4  5  6  7  8  9 10 11 12 13 14 15 16 17]]\n",
      "inv mask:  [[ 0  1  2  3  4  5  6  7  8  9 10 11 12 13 14 15 16 17]]\n",
      "inv mask:  [[ 0  1  2  3  4  5  6  7  8  9 10 11 12 13 14 15 16 17]]\n",
      "Delta: [0.]\n",
      "upper limit for quadratic: 1.75\n",
      "upper limit for smooth: 2.25\n",
      "inv mask:  [[ 0  1  2  3  4  5  6  7  8  9 10 11 12 13 14 15 16 17]]\n",
      "inv mask:  [[ 0  1  2  3  4  5  6  7  8  9 10 11 12 13 14 15 16 17]]\n",
      "inv mask:  [[ 0  1  2  3  4  5  6  7  8  9 10 11 12 13 14 15 16 17]]\n",
      "Delta: [0.]\n",
      "upper limit for quadratic: 1.75\n",
      "upper limit for smooth: 2.25\n",
      "inv mask:  [[ 0  1  2  3  4  5  6  7  8  9 10 11 12 13 14 15 16 17]]\n",
      "inv mask:  [[ 0  1  2  3  4  5  6  7  8  9 10 11 12 13 14 15 16 17]]\n",
      "inv mask:  [[ 0  1  2  3  4  5  6  7  8  9 10 11 12 13 14 15 16 17]]\n",
      "Delta: [0.]\n",
      "upper limit for quadratic: 1.75\n",
      "upper limit for smooth: 2.25\n",
      "inv mask:  [[ 0  1  2  3  4  5  6  7  8  9 10 11 12 13 14 15 16 17]]\n",
      "inv mask:  [[ 0  1  2  3  4  5  6  7  8  9 10 11 12 13 14 15 16 17]]\n",
      "inv mask:  [[ 0  1  2  3  4  5  6  7  8  9 10 11 12 13 14 15 16 17]]\n",
      "Delta: [0.]\n",
      "upper limit for quadratic: 1.75\n",
      "upper limit for smooth: 2.25\n",
      "inv mask:  [[ 0  1  2  3  4  5  6  7  8  9 10 11 12 13 14 15 16 17]]\n",
      "inv mask:  [[ 0  1  2  3  4  5  6  7  8  9 10 11 12 13 14 15 16 17]]\n",
      "inv mask:  [[ 0  1  2  3  4  5  6  7  8  9 10 11 12 13 14 15 16 17]]\n",
      "Delta: [0.]\n",
      "upper limit for quadratic: 1.75\n",
      "upper limit for smooth: 2.25\n",
      "inv mask:  [[ 0  1  2  3  4  5  6  7  8  9 10 11 12 13 14 15 16 17]]\n",
      "inv mask:  [[ 0  1  2  3  4  5  6  7  8  9 10 11 12 13 14 15 16 17]]\n",
      "inv mask:  [[ 0  1  2  3  4  5  6  7  8  9 10 11 12 13 14 15 16 17]]\n",
      "Delta: [0.]\n",
      "upper limit for quadratic: 1.75\n",
      "upper limit for smooth: 2.25\n",
      "inv mask:  [[ 0  1  2  3  4  5  6  7  8  9 10 11 12 13 14 15 16 17]]\n",
      "inv mask:  [[ 0  1  2  3  4  5  6  7  8  9 10 11 12 13 14 15 16 17]]\n",
      "inv mask:  [[ 0  1  2  3  4  5  6  7  8  9 10 11 12 13 14 15 16 17]]\n",
      "Delta: [0.]\n",
      "upper limit for quadratic: 1.75\n",
      "upper limit for smooth: 2.25\n",
      "inv mask:  [[ 0  1  2  3  4  5  6  7  8  9 10 11 12 13 14 15 16 17]]\n",
      "inv mask:  [[ 0  1  2  3  4  5  6  7  8  9 10 11 12 13 14 15 16 17]]\n",
      "inv mask:  [[ 0  1  2  3  4  5  6  7  8  9 10 11 12 13 14 15 16 17]]\n",
      "Delta: [0.]\n",
      "upper limit for quadratic: 1.75\n",
      "upper limit for smooth: 2.25\n",
      "inv mask:  [[ 0  1  2  3  4  5  6  7  8  9 10 11 12 13 14 15 16 17]]\n",
      "inv mask:  [[ 0  1  2  3  4  5  6  7  8  9 10 11 12 13 14 15 16 17]]\n",
      "inv mask:  [[ 0  1  2  3  4  5  6  7  8  9 10 11 12 13 14 15 16 17]]\n",
      "Delta: [0.]\n",
      "upper limit for quadratic: 1.75\n",
      "upper limit for smooth: 2.25\n",
      "inv mask:  [[ 0  1  2  3  4  5  6  7  8  9 10 11 12 13 14 15 16 17]]\n",
      "inv mask:  [[ 0  1  2  3  4  5  6  7  8  9 10 11 12 13 14 15 16 17]]\n",
      "inv mask:  [[ 0  1  2  3  4  5  6  7  8  9 10 11 12 13 14 15 16 17]]\n",
      "Delta: [0.]\n",
      "upper limit for quadratic: 1.75\n",
      "upper limit for smooth: 2.25\n",
      "inv mask:  [[ 9 10 11 12 13 14 15 16 17  0  1  2  3  4  5  6  7  8]]\n",
      "inv mask:  [[ 9 10 11 12 13 14 15 16 17  0  1  2  3  4  5  6  7  8]]\n",
      "inv mask:  [[ 9 10 11 12 13 14 15 16 17  0  1  2  3  4  5  6  7  8]]\n",
      "Delta: [0.]\n",
      "upper limit for quadratic: 1.75\n",
      "upper limit for smooth: 2.25\n",
      "inv mask:  [[ 9 10 11 12 13 14 15 16 17  0  1  2  3  4  5  6  7  8]]\n",
      "inv mask:  [[ 9 10 11 12 13 14 15 16 17  0  1  2  3  4  5  6  7  8]]\n",
      "inv mask:  [[ 9 10 11 12 13 14 15 16 17  0  1  2  3  4  5  6  7  8]]\n",
      "Delta: [0.]\n",
      "upper limit for quadratic: 1.75\n",
      "upper limit for smooth: 2.25\n",
      "inv mask:  [[ 0  1  2  3  4  5  6  7  8  9 10 11 12 13 14 15 16 17]]\n",
      "inv mask:  [[ 0  1  2  3  4  5  6  7  8  9 10 11 12 13 14 15 16 17]]\n",
      "inv mask:  [[ 0  1  2  3  4  5  6  7  8  9 10 11 12 13 14 15 16 17]]\n",
      "Delta: [0.]\n",
      "upper limit for quadratic: 1.75\n",
      "upper limit for smooth: 2.25\n",
      "inv mask:  [[ 0  1  2  3  4  5  6  7  8  9 10 11 12 13 14 15 16 17]]\n",
      "inv mask:  [[ 0  1  2  3  4  5  6  7  8  9 10 11 12 13 14 15 16 17]]\n",
      "inv mask:  [[ 0  1  2  3  4  5  6  7  8  9 10 11 12 13 14 15 16 17]]\n",
      "Delta: [0.]\n",
      "upper limit for quadratic: 1.75\n",
      "upper limit for smooth: 2.25\n",
      "inv mask:  [[ 0  1  2  3  4  5  6  7  8  9 10 11 12 13 14 15 16 17]]\n",
      "inv mask:  [[ 0  1  2  3  4  5  6  7  8  9 10 11 12 13 14 15 16 17]]\n",
      "inv mask:  [[ 0  1  2  3  4  5  6  7  8  9 10 11 12 13 14 15 16 17]]\n",
      "Delta: [0.]\n",
      "upper limit for quadratic: 1.75\n",
      "upper limit for smooth: 2.25\n",
      "inv mask:  [[ 0  1  2  3  4  5  6  7  8  9 10 11 12 13 14 15 16 17]]\n",
      "inv mask:  [[ 0  1  2  3  4  5  6  7  8  9 10 11 12 13 14 15 16 17]]\n",
      "inv mask:  [[ 0  1  2  3  4  5  6  7  8  9 10 11 12 13 14 15 16 17]]\n",
      "Delta: [0.]\n",
      "upper limit for quadratic: 1.75\n",
      "upper limit for smooth: 2.25\n",
      "inv mask:  [[ 0  1  2  3  4  5  6  7  8  9 10 11 12 13 14 15 16 17]]\n",
      "inv mask:  [[ 0  1  2  3  4  5  6  7  8  9 10 11 12 13 14 15 16 17]]\n",
      "inv mask:  [[ 0  1  2  3  4  5  6  7  8  9 10 11 12 13 14 15 16 17]]\n",
      "Delta: [0.]\n",
      "upper limit for quadratic: 1.75\n",
      "upper limit for smooth: 2.25\n",
      "inv mask:  [[ 0  1  2  3  4  5  6  7  8  9 10 11 12 13 14 15 16 17]]\n",
      "inv mask:  [[ 0  1  2  3  4  5  6  7  8  9 10 11 12 13 14 15 16 17]]\n",
      "inv mask:  [[ 0  1  2  3  4  5  6  7  8  9 10 11 12 13 14 15 16 17]]\n",
      "Delta: [0.]\n",
      "upper limit for quadratic: 1.75\n",
      "upper limit for smooth: 2.25\n",
      "inv mask:  [[ 0  1  2  3  4  5  6  7  8  9 10 11 12 13 14 15 16 17]]\n",
      "inv mask:  [[ 0  1  2  3  4  5  6  7  8  9 10 11 12 13 14 15 16 17]]\n",
      "inv mask:  [[ 0  1  2  3  4  5  6  7  8  9 10 11 12 13 14 15 16 17]]\n",
      "Delta: [0.]\n",
      "upper limit for quadratic: 1.75\n",
      "upper limit for smooth: 2.25\n",
      "inv mask:  [[ 0  1  2  3  4  5  6  7  8  9 10 11 12 13 14 15 16 17]]\n",
      "inv mask:  [[ 0  1  2  3  4  5  6  7  8  9 10 11 12 13 14 15 16 17]]\n",
      "inv mask:  [[ 0  1  2  3  4  5  6  7  8  9 10 11 12 13 14 15 16 17]]\n",
      "Delta: [0.]\n",
      "upper limit for quadratic: 1.75\n",
      "upper limit for smooth: 2.25\n",
      "inv mask:  [[ 0  1  2  3  4  5  6  7  8  9 10 11 12 13 14 15 16 17]]\n",
      "inv mask:  [[ 0  1  2  3  4  5  6  7  8  9 10 11 12 13 14 15 16 17]]\n",
      "inv mask:  [[ 0  1  2  3  4  5  6  7  8  9 10 11 12 13 14 15 16 17]]\n",
      "Delta: [0.]\n",
      "upper limit for quadratic: 1.75\n",
      "upper limit for smooth: 2.25\n",
      "inv mask:  [[ 0  1  2  3  4  5  6  7  8  9 10 11 12 13 14 15 16 17]]\n",
      "inv mask:  [[ 0  1  2  3  4  5  6  7  8  9 10 11 12 13 14 15 16 17]]\n",
      "inv mask:  [[ 0  1  2  3  4  5  6  7  8  9 10 11 12 13 14 15 16 17]]\n",
      "Delta: [0.]\n",
      "upper limit for quadratic: 1.75\n",
      "upper limit for smooth: 2.25\n",
      "inv mask:  [[ 0  1  2  3  4  5  6  7  8  9 10 11 12 13 14 15 16 17]]\n",
      "inv mask:  [[ 0  1  2  3  4  5  6  7  8  9 10 11 12 13 14 15 16 17]]\n",
      "inv mask:  [[ 0  1  2  3  4  5  6  7  8  9 10 11 12 13 14 15 16 17]]\n",
      "Delta: [0.]\n",
      "upper limit for quadratic: 1.75\n",
      "upper limit for smooth: 2.25\n",
      "inv mask:  [[ 0  1  2  3  4  5  6  7  8  9 10 11 12 13 14 15 16 17]]\n",
      "inv mask:  [[ 0  1  2  3  4  5  6  7  8  9 10 11 12 13 14 15 16 17]]\n",
      "inv mask:  [[ 0  1  2  3  4  5  6  7  8  9 10 11 12 13 14 15 16 17]]\n",
      "Delta: [0.]\n",
      "upper limit for quadratic: 1.75\n",
      "upper limit for smooth: 2.25\n",
      "inv mask:  [[ 0  1  2  3  4  5  6  7  8  9 10 11 12 13 14 15 16 17]]\n",
      "inv mask:  [[ 0  1  2  3  4  5  6  7  8  9 10 11 12 13 14 15 16 17]]\n",
      "inv mask:  [[ 0  1  2  3  4  5  6  7  8  9 10 11 12 13 14 15 16 17]]\n",
      "Delta: [0.]\n",
      "upper limit for quadratic: 1.75\n",
      "upper limit for smooth: 2.25\n",
      "inv mask:  [[ 0  1  2  3  4  5  6  7  8  9 10 11 12 13 14 15 16 17]]\n",
      "inv mask:  [[ 0  1  2  3  4  5  6  7  8  9 10 11 12 13 14 15 16 17]]\n",
      "inv mask:  [[ 0  1  2  3  4  5  6  7  8  9 10 11 12 13 14 15 16 17]]\n",
      "Delta: [0.]\n",
      "upper limit for quadratic: 1.75\n",
      "upper limit for smooth: 2.25\n",
      "inv mask:  [[ 9 10 11 12 13 14 15 16 17  0  1  2  3  4  5  6  7  8]]\n",
      "inv mask:  [[ 9 10 11 12 13 14 15 16 17  0  1  2  3  4  5  6  7  8]]\n",
      "inv mask:  [[ 9 10 11 12 13 14 15 16 17  0  1  2  3  4  5  6  7  8]]\n",
      "Delta: [0.]\n",
      "upper limit for quadratic: 1.75\n",
      "upper limit for smooth: 2.25\n",
      "inv mask:  [[ 9 10 11 12 13 14 15 16 17  0  1  2  3  4  5  6  7  8]]\n",
      "inv mask:  [[ 9 10 11 12 13 14 15 16 17  0  1  2  3  4  5  6  7  8]]\n",
      "inv mask:  [[ 9 10 11 12 13 14 15 16 17  0  1  2  3  4  5  6  7  8]]\n",
      "Delta: [0.]\n",
      "upper limit for quadratic: 1.75\n",
      "upper limit for smooth: 2.25\n",
      "inv mask:  [[ 0  1  2  3  4  5  6  7  8  9 10 11 12 13 14 15 16 17]]\n",
      "inv mask:  [[ 0  1  2  3  4  5  6  7  8  9 10 11 12 13 14 15 16 17]]\n",
      "inv mask:  [[ 0  1  2  3  4  5  6  7  8  9 10 11 12 13 14 15 16 17]]\n",
      "Delta: [0.]\n",
      "upper limit for quadratic: 1.75\n",
      "upper limit for smooth: 2.25\n",
      "inv mask:  [[ 0  1  2  3  4  5  6  7  8  9 10 11 12 13 14 15 16 17]]\n",
      "inv mask:  [[ 0  1  2  3  4  5  6  7  8  9 10 11 12 13 14 15 16 17]]\n",
      "inv mask:  [[ 0  1  2  3  4  5  6  7  8  9 10 11 12 13 14 15 16 17]]\n",
      "Delta: [0.]\n",
      "upper limit for quadratic: 1.75\n",
      "upper limit for smooth: 2.25\n",
      "inv mask:  [[ 0  1  2  3  4  5  6  7  8  9 10 11 12 13 14 15 16 17]]\n",
      "inv mask:  [[ 0  1  2  3  4  5  6  7  8  9 10 11 12 13 14 15 16 17]]\n",
      "inv mask:  [[ 0  1  2  3  4  5  6  7  8  9 10 11 12 13 14 15 16 17]]\n",
      "Delta: [0.]\n",
      "upper limit for quadratic: 1.75\n",
      "upper limit for smooth: 2.25\n",
      "inv mask:  [[ 0  1  2  3  4  5  6  7  8  9 10 11 12 13 14 15 16 17]]\n",
      "inv mask:  [[ 0  1  2  3  4  5  6  7  8  9 10 11 12 13 14 15 16 17]]\n",
      "inv mask:  [[ 0  1  2  3  4  5  6  7  8  9 10 11 12 13 14 15 16 17]]\n",
      "Delta: [0.]\n",
      "upper limit for quadratic: 1.75\n",
      "upper limit for smooth: 2.25\n",
      "inv mask:  [[ 0  1  2  3  4  5  6  7  8  9 10 11 12 13 14 15 16 17]]\n",
      "inv mask:  [[ 0  1  2  3  4  5  6  7  8  9 10 11 12 13 14 15 16 17]]\n",
      "inv mask:  [[ 0  1  2  3  4  5  6  7  8  9 10 11 12 13 14 15 16 17]]\n",
      "Delta: [0.]\n",
      "upper limit for quadratic: 1.75\n",
      "upper limit for smooth: 2.25\n",
      "inv mask:  [[ 0  1  2  3  4  5  6  7  8  9 10 11 12 13 14 15 16 17]]\n",
      "inv mask:  [[ 0  1  2  3  4  5  6  7  8  9 10 11 12 13 14 15 16 17]]\n",
      "inv mask:  [[ 0  1  2  3  4  5  6  7  8  9 10 11 12 13 14 15 16 17]]\n",
      "Delta: [0.]\n",
      "upper limit for quadratic: 1.75\n",
      "upper limit for smooth: 2.25\n",
      "inv mask:  [[ 6  7  8  0  1  2  3  4  5  9 10 11 12 13 14 15 16 17]]\n",
      "inv mask:  [[ 6  7  8  0  1  2  3  4  5  9 10 11 12 13 14 15 16 17]]\n",
      "inv mask:  [[ 6  7  8  0  1  2  3  4  5  9 10 11 12 13 14 15 16 17]]\n",
      "Delta: [0.]\n",
      "upper limit for quadratic: 1.75\n",
      "upper limit for smooth: 2.25\n",
      "inv mask:  [[ 6  7  8  0  1  2  3  4  5  9 10 11 12 13 14 15 16 17]]\n",
      "inv mask:  [[ 6  7  8  0  1  2  3  4  5  9 10 11 12 13 14 15 16 17]]\n",
      "inv mask:  [[ 6  7  8  0  1  2  3  4  5  9 10 11 12 13 14 15 16 17]]\n",
      "Delta: [0.]\n",
      "upper limit for quadratic: 1.75\n",
      "upper limit for smooth: 2.25\n",
      "inv mask:  [[ 0  1  2  3  4  5  6  7  8  9 10 11 12 13 14 15 16 17]]\n",
      "inv mask:  [[ 0  1  2  3  4  5  6  7  8  9 10 11 12 13 14 15 16 17]]\n",
      "inv mask:  [[ 0  1  2  3  4  5  6  7  8  9 10 11 12 13 14 15 16 17]]\n",
      "Delta: [0.]\n",
      "upper limit for quadratic: 1.75\n",
      "upper limit for smooth: 2.25\n",
      "inv mask:  [[ 0  1  2  3  4  5  6  7  8  9 10 11 12 13 14 15 16 17]]\n",
      "inv mask:  [[ 0  1  2  3  4  5  6  7  8  9 10 11 12 13 14 15 16 17]]\n",
      "inv mask:  [[ 0  1  2  3  4  5  6  7  8  9 10 11 12 13 14 15 16 17]]\n",
      "Delta: [0.]\n",
      "upper limit for quadratic: 1.75\n",
      "upper limit for smooth: 2.25\n",
      "inv mask:  [[ 0  1  2  3  4  5  6  7  8  9 10 11 12 13 14 15 16 17]]\n",
      "inv mask:  [[ 0  1  2  3  4  5  6  7  8  9 10 11 12 13 14 15 16 17]]\n",
      "inv mask:  [[ 0  1  2  3  4  5  6  7  8  9 10 11 12 13 14 15 16 17]]\n",
      "Delta: [0.]\n",
      "upper limit for quadratic: 1.75\n",
      "upper limit for smooth: 2.25\n",
      "inv mask:  [[ 0  1  2  3  4  5  6  7  8  9 10 11 12 13 14 15 16 17]]\n",
      "inv mask:  [[ 0  1  2  3  4  5  6  7  8  9 10 11 12 13 14 15 16 17]]\n",
      "inv mask:  [[ 0  1  2  3  4  5  6  7  8  9 10 11 12 13 14 15 16 17]]\n",
      "Delta: [0.]\n",
      "upper limit for quadratic: 1.75\n",
      "upper limit for smooth: 2.25\n",
      "inv mask:  [[ 0  1  2  3  4  5  6  7  8  9 10 11 12 13 14 15 16 17]]\n",
      "inv mask:  [[ 0  1  2  3  4  5  6  7  8  9 10 11 12 13 14 15 16 17]]\n",
      "inv mask:  [[ 0  1  2  3  4  5  6  7  8  9 10 11 12 13 14 15 16 17]]\n",
      "Delta: [0.]\n",
      "upper limit for quadratic: 1.75\n",
      "upper limit for smooth: 2.25\n",
      "inv mask:  [[ 0  1  2  3  4  5  6  7  8  9 10 11 12 13 14 15 16 17]]\n",
      "inv mask:  [[ 0  1  2  3  4  5  6  7  8  9 10 11 12 13 14 15 16 17]]\n",
      "inv mask:  [[ 0  1  2  3  4  5  6  7  8  9 10 11 12 13 14 15 16 17]]\n",
      "Delta: [0.]\n",
      "upper limit for quadratic: 1.75\n",
      "upper limit for smooth: 2.25\n",
      "inv mask:  [[ 0  1  2  3  4  5  6  7  8  9 10 11 12 13 14 15 16 17]]\n",
      "inv mask:  [[ 0  1  2  3  4  5  6  7  8  9 10 11 12 13 14 15 16 17]]\n",
      "inv mask:  [[ 0  1  2  3  4  5  6  7  8  9 10 11 12 13 14 15 16 17]]\n",
      "Delta: [0.]\n",
      "upper limit for quadratic: 1.75\n",
      "upper limit for smooth: 2.25\n",
      "inv mask:  [[ 0  1  2  3  4  5  6  7  8  9 10 11 12 13 14 15 16 17]]\n",
      "inv mask:  [[ 0  1  2  3  4  5  6  7  8  9 10 11 12 13 14 15 16 17]]\n",
      "inv mask:  [[ 0  1  2  3  4  5  6  7  8  9 10 11 12 13 14 15 16 17]]\n",
      "Delta: [0.]\n",
      "upper limit for quadratic: 1.75\n",
      "upper limit for smooth: 2.25\n",
      "inv mask:  [[ 0  1  2  3  4  5  6  7  8  9 10 11 12 13 14 15 16 17]]\n",
      "inv mask:  [[ 0  1  2  3  4  5  6  7  8  9 10 11 12 13 14 15 16 17]]\n",
      "inv mask:  [[ 0  1  2  3  4  5  6  7  8  9 10 11 12 13 14 15 16 17]]\n",
      "Delta: [0.]\n",
      "upper limit for quadratic: 1.75\n",
      "upper limit for smooth: 2.25\n",
      "inv mask:  [[ 0  1  2  3  4  5  6  7  8  9 10 11 12 13 14 15 16 17]]\n",
      "inv mask:  [[ 0  1  2  3  4  5  6  7  8  9 10 11 12 13 14 15 16 17]]\n",
      "inv mask:  [[ 0  1  2  3  4  5  6  7  8  9 10 11 12 13 14 15 16 17]]\n",
      "Delta: [0.]\n",
      "upper limit for quadratic: 1.75\n",
      "upper limit for smooth: 2.25\n",
      "inv mask:  [[ 9 10 11 12 13 14 15 16 17  0  1  2  3  4  5  6  7  8]]\n",
      "inv mask:  [[ 9 10 11 12 13 14 15 16 17  0  1  2  3  4  5  6  7  8]]\n",
      "inv mask:  [[ 9 10 11 12 13 14 15 16 17  0  1  2  3  4  5  6  7  8]]\n",
      "Delta: [0.]\n",
      "upper limit for quadratic: 1.75\n",
      "upper limit for smooth: 2.25\n",
      "inv mask:  [[ 9 10 11 12 13 14 15 16 17  0  1  2  3  4  5  6  7  8]]\n",
      "inv mask:  [[ 9 10 11 12 13 14 15 16 17  0  1  2  3  4  5  6  7  8]]\n",
      "inv mask:  [[ 9 10 11 12 13 14 15 16 17  0  1  2  3  4  5  6  7  8]]\n",
      "Delta: [0.]\n",
      "upper limit for quadratic: 1.75\n",
      "upper limit for smooth: 2.25\n",
      "inv mask:  [[ 0  1  2  3  4  5  6  7  8  9 10 11 12 13 14 15 16 17]]\n",
      "inv mask:  [[ 0  1  2  3  4  5  6  7  8  9 10 11 12 13 14 15 16 17]]\n",
      "inv mask:  [[ 0  1  2  3  4  5  6  7  8  9 10 11 12 13 14 15 16 17]]\n",
      "Delta: [0.]\n",
      "upper limit for quadratic: 1.75\n",
      "upper limit for smooth: 2.25\n"
     ]
    }
   ],
   "source": [
    "stepper = dismech.ImplicitEulerTimeStepper(robot)\n",
    "\n",
    "robots = stepper.simulate()\n",
    "\n",
    "qs = np.stack([robot.state.q for robot in robots])"
   ]
  },
  {
   "cell_type": "code",
   "execution_count": 3,
   "metadata": {},
   "outputs": [
    {
     "data": {
      "application/vnd.plotly.v1+json": {
       "config": {
        "plotlyServerURL": "https://plot.ly"
       },
       "data": [
        {
         "marker": {
          "color": "#1f78b4",
          "size": 5
         },
         "mode": "markers",
         "name": "Free Nodes",
         "type": "scatter3d",
         "x": {
          "bdata": "AAAAAAAAAAAAAAAAAADwPwAAAAAAAAAAUqGRb4GHRLwAAAAAAADwPwAAAAAAAPA/",
          "dtype": "f8"
         },
         "y": {
          "bdata": "AAAAAAAAAAAAAAAAAAAAAAAAAAAAAPA/kRhrjMqwQrxoovH8/IRjvAAAAAAAAPA/",
          "dtype": "f8"
         },
         "z": {
          "bdata": "AAAAAAAAAAAAAAAAAADgPwAAAAAAAOA/CtejcD0K4z+F61G4HoXxPwrXo3A9CuM/",
          "dtype": "f8"
         }
        },
        {
         "marker": {
          "color": "#e31a1c",
          "size": 5
         },
         "mode": "markers",
         "name": "Fixed Nodes",
         "type": "scatter3d",
         "x": [],
         "y": [],
         "z": []
        },
        {
         "line": {
          "color": "#333333",
          "width": 2
         },
         "mode": "lines",
         "name": "Edges",
         "type": "scatter3d",
         "x": [
          1,
          0,
          null,
          0,
          0,
          null,
          0,
          1,
          null,
          1,
          1,
          null,
          1,
          -2.2257932025056223e-18,
          null,
          -2.2257932025056223e-18,
          1,
          null
         ],
         "y": [
          0,
          1,
          null,
          1,
          0,
          null,
          0,
          0,
          null,
          -8.465227343526039e-18,
          1,
          null,
          1,
          -2.026437898232035e-18,
          null,
          -2.026437898232035e-18,
          -8.465227343526039e-18,
          null
         ],
         "z": [
          0.5,
          0.5,
          null,
          0.5,
          0,
          null,
          0,
          0.5,
          null,
          1.095,
          0.595,
          null,
          0.595,
          0.595,
          null,
          0.595,
          1.095,
          null
         ]
        },
        {
         "color": "rgba(166, 206, 227, 0.7)",
         "i": [
          0,
          3
         ],
         "j": [
          1,
          4
         ],
         "k": [
          2,
          5
         ],
         "name": "Faces",
         "opacity": 0.7,
         "showscale": false,
         "type": "mesh3d",
         "x": {
          "bdata": "AAAAAAAAAAAAAAAAAADwPwAAAAAAAAAAUqGRb4GHRLwAAAAAAADwPwAAAAAAAPA/",
          "dtype": "f8"
         },
         "y": {
          "bdata": "AAAAAAAAAAAAAAAAAAAAAAAAAAAAAPA/kRhrjMqwQrxoovH8/IRjvAAAAAAAAPA/",
          "dtype": "f8"
         },
         "z": {
          "bdata": "AAAAAAAAAAAAAAAAAADgPwAAAAAAAOA/CtejcD0K4z+F61G4HoXxPwrXo3A9CuM/",
          "dtype": "f8"
         }
        }
       ],
       "frames": [
        {
         "data": [
          {
           "name": "Free Nodes",
           "type": "scatter3d",
           "x": {
            "bdata": "AAAAAAAAAAAAAAAAAADwPwAAAAAAAAAAUqGRb4GHRLwAAAAAAADwPwAAAAAAAPA/",
            "dtype": "f8"
           },
           "y": {
            "bdata": "AAAAAAAAAAAAAAAAAAAAAAAAAAAAAPA/kRhrjMqwQrxoovH8/IRjvAAAAAAAAPA/",
            "dtype": "f8"
           },
           "z": {
            "bdata": "AAAAAAAAAAAAAAAAAADgPwAAAAAAAOA/CtejcD0K4z+F61G4HoXxPwrXo3A9CuM/",
            "dtype": "f8"
           }
          },
          {
           "name": "Fixed Nodes",
           "type": "scatter3d",
           "x": [],
           "y": [],
           "z": []
          },
          {
           "name": "Edges",
           "type": "scatter3d",
           "x": [
            1,
            0,
            null,
            0,
            0,
            null,
            0,
            1,
            null,
            1,
            1,
            null,
            1,
            -2.2257932025056223e-18,
            null,
            -2.2257932025056223e-18,
            1,
            null
           ],
           "y": [
            0,
            1,
            null,
            1,
            0,
            null,
            0,
            0,
            null,
            -8.465227343526039e-18,
            1,
            null,
            1,
            -2.026437898232035e-18,
            null,
            -2.026437898232035e-18,
            -8.465227343526039e-18,
            null
           ],
           "z": [
            0.5,
            0.5,
            null,
            0.5,
            0,
            null,
            0,
            0.5,
            null,
            1.095,
            0.595,
            null,
            0.595,
            0.595,
            null,
            0.595,
            1.095,
            null
           ]
          },
          {
           "i": [
            0,
            3
           ],
           "j": [
            1,
            4
           ],
           "k": [
            2,
            5
           ],
           "name": "Faces",
           "type": "mesh3d",
           "x": {
            "bdata": "AAAAAAAAAAAAAAAAAADwPwAAAAAAAAAAUqGRb4GHRLwAAAAAAADwPwAAAAAAAPA/",
            "dtype": "f8"
           },
           "y": {
            "bdata": "AAAAAAAAAAAAAAAAAAAAAAAAAAAAAPA/kRhrjMqwQrxoovH8/IRjvAAAAAAAAPA/",
            "dtype": "f8"
           },
           "z": {
            "bdata": "AAAAAAAAAAAAAAAAAADgPwAAAAAAAOA/CtejcD0K4z+F61G4HoXxPwrXo3A9CuM/",
            "dtype": "f8"
           }
          }
         ],
         "layout": {
          "annotations": [
           {
            "showarrow": false,
            "text": "Time: 0.00s (Step: 1/100)",
            "x": 0.05,
            "xref": "paper",
            "y": 0.95,
            "yref": "paper"
           }
          ]
         },
         "name": "0"
        },
        {
         "data": [
          {
           "name": "Free Nodes",
           "type": "scatter3d",
           "x": {
            "bdata": "AAAAAAAAAAAAAAAAAADwPwAAAAAAAAAAIzNPQgYYdbwAAAAAAADwPwAAAAAAAPA/",
            "dtype": "f8"
           },
           "y": {
            "bdata": "AAAAAAAAAAAAAAAAAAAAAAAAAAAAAPA/2qSg0i8JXDy6VaL7jeKLvAAAAAAAAPA/",
            "dtype": "f8"
           },
           "z": {
            "bdata": "AAAAAAAAAAAAAAAAAADgPwAAAAAAAOA/4XoUrkfh4j9wPQrXo3DxP+F6FK5H4eI/",
            "dtype": "f8"
           }
          },
          {
           "name": "Fixed Nodes",
           "type": "scatter3d",
           "x": [],
           "y": [],
           "z": []
          },
          {
           "name": "Edges",
           "type": "scatter3d",
           "x": [
            1,
            0,
            null,
            0,
            0,
            null,
            0,
            1,
            null,
            1,
            1,
            null,
            1,
            -1.8295994498145982e-17,
            null,
            -1.8295994498145982e-17,
            1,
            null
           ],
           "y": [
            0,
            1,
            null,
            1,
            0,
            null,
            0,
            0,
            null,
            -4.8372727677291656e-17,
            1,
            null,
            1,
            6.079313694696105e-18,
            null,
            6.079313694696105e-18,
            -4.8372727677291656e-17,
            null
           ],
           "z": [
            0.5,
            0.5,
            null,
            0.5,
            0,
            null,
            0,
            0.5,
            null,
            1.0899999999999999,
            0.59,
            null,
            0.59,
            0.59,
            null,
            0.59,
            1.0899999999999999,
            null
           ]
          },
          {
           "i": [
            0,
            3
           ],
           "j": [
            1,
            4
           ],
           "k": [
            2,
            5
           ],
           "name": "Faces",
           "type": "mesh3d",
           "x": {
            "bdata": "AAAAAAAAAAAAAAAAAADwPwAAAAAAAAAAIzNPQgYYdbwAAAAAAADwPwAAAAAAAPA/",
            "dtype": "f8"
           },
           "y": {
            "bdata": "AAAAAAAAAAAAAAAAAAAAAAAAAAAAAPA/2qSg0i8JXDy6VaL7jeKLvAAAAAAAAPA/",
            "dtype": "f8"
           },
           "z": {
            "bdata": "AAAAAAAAAAAAAAAAAADgPwAAAAAAAOA/4XoUrkfh4j9wPQrXo3DxP+F6FK5H4eI/",
            "dtype": "f8"
           }
          }
         ],
         "layout": {
          "annotations": [
           {
            "showarrow": false,
            "text": "Time: 0.01s (Step: 2/100)",
            "x": 0.05,
            "xref": "paper",
            "y": 0.95,
            "yref": "paper"
           }
          ]
         },
         "name": "1"
        },
        {
         "data": [
          {
           "name": "Free Nodes",
           "type": "scatter3d",
           "x": {
            "bdata": "AAAAAAAAAAAAAAAAAADwPwAAAAAAAAAAUv2HqxdYh7wAAAAAAADwPwAAAAAAAPA/",
            "dtype": "f8"
           },
           "y": {
            "bdata": "AAAAAAAAAAAAAAAAAAAAAAAAAAAAAPA/CGek472FcTwHikCbLVOevAAAAAAAAPA/",
            "dtype": "f8"
           },
           "z": {
            "bdata": "AAAAAAAAAAAAAAAAAADgPwAAAAAAAOA/uB6F61G44j9bj8L1KFzxP7gehetRuOI/",
            "dtype": "f8"
           }
          },
          {
           "name": "Fixed Nodes",
           "type": "scatter3d",
           "x": [],
           "y": [],
           "z": []
          },
          {
           "name": "Edges",
           "type": "scatter3d",
           "x": [
            1,
            0,
            null,
            0,
            0,
            null,
            0,
            1,
            null,
            1,
            1,
            null,
            1,
            -4.049557768317576e-17,
            null,
            -4.049557768317576e-17,
            1,
            null
           ],
           "y": [
            0,
            1,
            null,
            1,
            0,
            null,
            0,
            0,
            null,
            -1.0521068269810935e-16,
            1,
            null,
            1,
            1.5198284236740263e-17,
            null,
            1.5198284236740263e-17,
            -1.0521068269810935e-16,
            null
           ],
           "z": [
            0.5,
            0.5,
            null,
            0.5,
            0,
            null,
            0,
            0.5,
            null,
            1.0849999999999997,
            0.585,
            null,
            0.585,
            0.585,
            null,
            0.585,
            1.0849999999999997,
            null
           ]
          },
          {
           "i": [
            0,
            3
           ],
           "j": [
            1,
            4
           ],
           "k": [
            2,
            5
           ],
           "name": "Faces",
           "type": "mesh3d",
           "x": {
            "bdata": "AAAAAAAAAAAAAAAAAADwPwAAAAAAAAAAUv2HqxdYh7wAAAAAAADwPwAAAAAAAPA/",
            "dtype": "f8"
           },
           "y": {
            "bdata": "AAAAAAAAAAAAAAAAAAAAAAAAAAAAAPA/CGek472FcTwHikCbLVOevAAAAAAAAPA/",
            "dtype": "f8"
           },
           "z": {
            "bdata": "AAAAAAAAAAAAAAAAAADgPwAAAAAAAOA/uB6F61G44j9bj8L1KFzxP7gehetRuOI/",
            "dtype": "f8"
           }
          }
         ],
         "layout": {
          "annotations": [
           {
            "showarrow": false,
            "text": "Time: 0.02s (Step: 3/100)",
            "x": 0.05,
            "xref": "paper",
            "y": 0.95,
            "yref": "paper"
           }
          ]
         },
         "name": "2"
        },
        {
         "data": [
          {
           "name": "Free Nodes",
           "type": "scatter3d",
           "x": {
            "bdata": "AAAAAAAAAAAAAAAAAADwPwAAAAAAAAAAWq3DhFvdorwBAAAAAADwP////////+8/",
            "dtype": "f8"
           },
           "y": {
            "bdata": "AAAAAAAAAAAAAAAAAAAAAAAAAAAAAPA/WsRdQDsjmjybGltnZyW1vAAAAAAAAPA/",
            "dtype": "f8"
           },
           "z": {
            "bdata": "AAAAAAAAAAAAAAAAAADgPwAAAAAAAOA/jsL1KFyP4j9H4XoUrkfxP47C9Shcj+I/",
            "dtype": "f8"
           }
          },
          {
           "name": "Fixed Nodes",
           "type": "scatter3d",
           "x": [],
           "y": [],
           "z": []
          },
          {
           "name": "Edges",
           "type": "scatter3d",
           "x": [
            1,
            0,
            null,
            0,
            0,
            null,
            0,
            1,
            null,
            1.0000000000000002,
            0.9999999999999999,
            null,
            0.9999999999999999,
            -1.3089999718314146e-16,
            null,
            -1.3089999718314146e-16,
            1.0000000000000002,
            null
           ],
           "y": [
            0,
            1,
            null,
            1,
            0,
            null,
            0,
            0,
            null,
            -2.9346121457556933e-16,
            1,
            null,
            1,
            9.068309594588356e-17,
            null,
            9.068309594588356e-17,
            -2.9346121457556933e-16,
            null
           ],
           "z": [
            0.5,
            0.5,
            null,
            0.5,
            0,
            null,
            0,
            0.5,
            null,
            1.0799999999999998,
            0.5799999999999998,
            null,
            0.5799999999999998,
            0.5799999999999998,
            null,
            0.5799999999999998,
            1.0799999999999998,
            null
           ]
          },
          {
           "i": [
            0,
            3
           ],
           "j": [
            1,
            4
           ],
           "k": [
            2,
            5
           ],
           "name": "Faces",
           "type": "mesh3d",
           "x": {
            "bdata": "AAAAAAAAAAAAAAAAAADwPwAAAAAAAAAAWq3DhFvdorwBAAAAAADwP////////+8/",
            "dtype": "f8"
           },
           "y": {
            "bdata": "AAAAAAAAAAAAAAAAAAAAAAAAAAAAAPA/WsRdQDsjmjybGltnZyW1vAAAAAAAAPA/",
            "dtype": "f8"
           },
           "z": {
            "bdata": "AAAAAAAAAAAAAAAAAADgPwAAAAAAAOA/jsL1KFyP4j9H4XoUrkfxP47C9Shcj+I/",
            "dtype": "f8"
           }
          }
         ],
         "layout": {
          "annotations": [
           {
            "showarrow": false,
            "text": "Time: 0.03s (Step: 4/100)",
            "x": 0.05,
            "xref": "paper",
            "y": 0.95,
            "yref": "paper"
           }
          ]
         },
         "name": "3"
        },
        {
         "data": [
          {
           "name": "Free Nodes",
           "type": "scatter3d",
           "x": {
            "bdata": "AAAAAAAAAAAAAAAAAADwPwAAAAAAAAAAVuTE8gCLkbwAAAAAAADwPwEAAAAAAPA/",
            "dtype": "f8"
           },
           "y": {
            "bdata": "AAAAAAAAAAAAAAAAAAAAAAAAAAAAAPA/C1Q890Awqbx7f572CNqpvAAAAAAAAPA/",
            "dtype": "f8"
           },
           "z": {
            "bdata": "AAAAAAAAAAAAAAAAAADgPwAAAAAAAOA/ZmZmZmZm4j8xMzMzMzPxP2VmZmZmZuI/",
            "dtype": "f8"
           }
          },
          {
           "name": "Fixed Nodes",
           "type": "scatter3d",
           "x": [],
           "y": [],
           "z": []
          },
          {
           "name": "Edges",
           "type": "scatter3d",
           "x": [
            1,
            0,
            null,
            0,
            0,
            null,
            0,
            1,
            null,
            1,
            1.0000000000000002,
            null,
            1.0000000000000002,
            -6.08644496613801e-17,
            null,
            -6.08644496613801e-17,
            1,
            null
           ],
           "y": [
            0,
            1,
            null,
            1,
            0,
            null,
            0,
            0,
            null,
            -1.793821984699566e-16,
            1,
            null,
            1,
            -1.7478026872251261e-16,
            null,
            -1.7478026872251261e-16,
            -1.793821984699566e-16,
            null
           ],
           "z": [
            0.5,
            0.5,
            null,
            0.5,
            0,
            null,
            0,
            0.5,
            null,
            1.0749999999999995,
            0.5749999999999998,
            null,
            0.5749999999999998,
            0.575,
            null,
            0.575,
            1.0749999999999995,
            null
           ]
          },
          {
           "i": [
            0,
            3
           ],
           "j": [
            1,
            4
           ],
           "k": [
            2,
            5
           ],
           "name": "Faces",
           "type": "mesh3d",
           "x": {
            "bdata": "AAAAAAAAAAAAAAAAAADwPwAAAAAAAAAAVuTE8gCLkbwAAAAAAADwPwEAAAAAAPA/",
            "dtype": "f8"
           },
           "y": {
            "bdata": "AAAAAAAAAAAAAAAAAAAAAAAAAAAAAPA/C1Q890Awqbx7f572CNqpvAAAAAAAAPA/",
            "dtype": "f8"
           },
           "z": {
            "bdata": "AAAAAAAAAAAAAAAAAADgPwAAAAAAAOA/ZmZmZmZm4j8xMzMzMzPxP2VmZmZmZuI/",
            "dtype": "f8"
           }
          }
         ],
         "layout": {
          "annotations": [
           {
            "showarrow": false,
            "text": "Time: 0.04s (Step: 5/100)",
            "x": 0.05,
            "xref": "paper",
            "y": 0.95,
            "yref": "paper"
           }
          ]
         },
         "name": "4"
        },
        {
         "data": [
          {
           "name": "Free Nodes",
           "type": "scatter3d",
           "x": {
            "bdata": "AAAAAAAAAAAAAAAAAADwPwAAAAAAAAAAlmvK2JLHhrwBAAAAAADwPwEAAAAAAPA/",
            "dtype": "f8"
           },
           "y": {
            "bdata": "AAAAAAAAAAAAAAAAAAAAAAAAAAAAAPA/EA5BjzfwgLyUWIx06wu2vP7//////+8/",
            "dtype": "f8"
           },
           "z": {
            "bdata": "AAAAAAAAAAAAAAAAAADgPwAAAAAAAOA/PArXo3A94j8dhetRuB7xPzsK16NwPeI/",
            "dtype": "f8"
           }
          },
          {
           "name": "Fixed Nodes",
           "type": "scatter3d",
           "x": [],
           "y": [],
           "z": []
          },
          {
           "name": "Edges",
           "type": "scatter3d",
           "x": [
            1,
            0,
            null,
            0,
            0,
            null,
            0,
            1,
            null,
            1.0000000000000002,
            1.0000000000000002,
            null,
            1.0000000000000002,
            -3.951627992697388e-17,
            null,
            -3.951627992697388e-17,
            1.0000000000000002,
            null
           ],
           "y": [
            0,
            1,
            null,
            1,
            0,
            null,
            0,
            0,
            null,
            -3.0595750255886973e-16,
            0.9999999999999998,
            null,
            0.9999999999999998,
            -2.938334952436419e-17,
            null,
            -2.938334952436419e-17,
            -3.0595750255886973e-16,
            null
           ],
           "z": [
            0.5,
            0.5,
            null,
            0.5,
            0,
            null,
            0,
            0.5,
            null,
            1.0699999999999996,
            0.5699999999999997,
            null,
            0.5699999999999997,
            0.5699999999999998,
            null,
            0.5699999999999998,
            1.0699999999999996,
            null
           ]
          },
          {
           "i": [
            0,
            3
           ],
           "j": [
            1,
            4
           ],
           "k": [
            2,
            5
           ],
           "name": "Faces",
           "type": "mesh3d",
           "x": {
            "bdata": "AAAAAAAAAAAAAAAAAADwPwAAAAAAAAAAlmvK2JLHhrwBAAAAAADwPwEAAAAAAPA/",
            "dtype": "f8"
           },
           "y": {
            "bdata": "AAAAAAAAAAAAAAAAAAAAAAAAAAAAAPA/EA5BjzfwgLyUWIx06wu2vP7//////+8/",
            "dtype": "f8"
           },
           "z": {
            "bdata": "AAAAAAAAAAAAAAAAAADgPwAAAAAAAOA/PArXo3A94j8dhetRuB7xPzsK16NwPeI/",
            "dtype": "f8"
           }
          }
         ],
         "layout": {
          "annotations": [
           {
            "showarrow": false,
            "text": "Time: 0.05s (Step: 6/100)",
            "x": 0.05,
            "xref": "paper",
            "y": 0.95,
            "yref": "paper"
           }
          ]
         },
         "name": "5"
        },
        {
         "data": [
          {
           "name": "Free Nodes",
           "type": "scatter3d",
           "x": {
            "bdata": "AAAAAAAAAAAAAAAAAADwPwAAAAAAAAAAyP4ToCodWLwBAAAAAADwPwIAAAAAAPA/",
            "dtype": "f8"
           },
           "y": {
            "bdata": "AAAAAAAAAAAAAAAAAAAAAAAAAAAAAPA/qOMarkY9iLwm//nArtO7vP3//////+8/",
            "dtype": "f8"
           },
           "z": {
            "bdata": "AAAAAAAAAAAAAAAAAADgPwAAAAAAAOA/E65H4XoU4j8J16NwPQrxPxGuR+F6FOI/",
            "dtype": "f8"
           }
          },
          {
           "name": "Fixed Nodes",
           "type": "scatter3d",
           "x": [],
           "y": [],
           "z": []
          },
          {
           "name": "Edges",
           "type": "scatter3d",
           "x": [
            1,
            0,
            null,
            0,
            0,
            null,
            0,
            1,
            null,
            1.0000000000000002,
            1.0000000000000004,
            null,
            1.0000000000000004,
            -5.228875418704738e-18,
            null,
            -5.228875418704738e-18,
            1.0000000000000002,
            null
           ],
           "y": [
            0,
            1,
            null,
            1,
            0,
            null,
            0,
            0,
            null,
            -3.861756092903784e-16,
            0.9999999999999997,
            null,
            0.9999999999999997,
            -4.2048586388314405e-17,
            null,
            -4.2048586388314405e-17,
            -3.861756092903784e-16,
            null
           ],
           "z": [
            0.5,
            0.5,
            null,
            0.5,
            0,
            null,
            0,
            0.5,
            null,
            1.0649999999999997,
            0.5649999999999996,
            null,
            0.5649999999999996,
            0.5649999999999998,
            null,
            0.5649999999999998,
            1.0649999999999997,
            null
           ]
          },
          {
           "i": [
            0,
            3
           ],
           "j": [
            1,
            4
           ],
           "k": [
            2,
            5
           ],
           "name": "Faces",
           "type": "mesh3d",
           "x": {
            "bdata": "AAAAAAAAAAAAAAAAAADwPwAAAAAAAAAAyP4ToCodWLwBAAAAAADwPwIAAAAAAPA/",
            "dtype": "f8"
           },
           "y": {
            "bdata": "AAAAAAAAAAAAAAAAAAAAAAAAAAAAAPA/qOMarkY9iLwm//nArtO7vP3//////+8/",
            "dtype": "f8"
           },
           "z": {
            "bdata": "AAAAAAAAAAAAAAAAAADgPwAAAAAAAOA/E65H4XoU4j8J16NwPQrxPxGuR+F6FOI/",
            "dtype": "f8"
           }
          }
         ],
         "layout": {
          "annotations": [
           {
            "showarrow": false,
            "text": "Time: 0.06s (Step: 7/100)",
            "x": 0.05,
            "xref": "paper",
            "y": 0.95,
            "yref": "paper"
           }
          ]
         },
         "name": "6"
        },
        {
         "data": [
          {
           "name": "Free Nodes",
           "type": "scatter3d",
           "x": {
            "bdata": "AAAAAAAAAAAAAAAAAADwPwAAAAAAAAAAmsLNq6XHpDwBAAAAAADwPwMAAAAAAPA/",
            "dtype": "f8"
           },
           "y": {
            "bdata": "AAAAAAAAAAAAAAAAAAAAAAAAAAAAAPA/VqXfSILhlLxM3XLFl0vAvPz//////+8/",
            "dtype": "f8"
           },
           "z": {
            "bdata": "AAAAAAAAAAAAAAAAAADgPwAAAAAAAOA/61G4HoXr4T/1KFyPwvXwP+dRuB6F6+E/",
            "dtype": "f8"
           }
          },
          {
           "name": "Fixed Nodes",
           "type": "scatter3d",
           "x": [],
           "y": [],
           "z": []
          },
          {
           "name": "Edges",
           "type": "scatter3d",
           "x": [
            1,
            0,
            null,
            0,
            0,
            null,
            0,
            1,
            null,
            1.0000000000000002,
            1.0000000000000007,
            null,
            1.0000000000000007,
            1.4418932499716292e-16,
            null,
            1.4418932499716292e-16,
            1.0000000000000002,
            null
           ],
           "y": [
            0,
            1,
            null,
            1,
            0,
            null,
            0,
            0,
            null,
            -4.52285003782677e-16,
            0.9999999999999996,
            null,
            0.9999999999999996,
            -7.24451548617949e-17,
            null,
            -7.24451548617949e-17,
            -4.52285003782677e-16,
            null
           ],
           "z": [
            0.5,
            0.5,
            null,
            0.5,
            0,
            null,
            0,
            0.5,
            null,
            1.0599999999999998,
            0.5599999999999995,
            null,
            0.5599999999999995,
            0.5599999999999999,
            null,
            0.5599999999999999,
            1.0599999999999998,
            null
           ]
          },
          {
           "i": [
            0,
            3
           ],
           "j": [
            1,
            4
           ],
           "k": [
            2,
            5
           ],
           "name": "Faces",
           "type": "mesh3d",
           "x": {
            "bdata": "AAAAAAAAAAAAAAAAAADwPwAAAAAAAAAAmsLNq6XHpDwBAAAAAADwPwMAAAAAAPA/",
            "dtype": "f8"
           },
           "y": {
            "bdata": "AAAAAAAAAAAAAAAAAAAAAAAAAAAAAPA/VqXfSILhlLxM3XLFl0vAvPz//////+8/",
            "dtype": "f8"
           },
           "z": {
            "bdata": "AAAAAAAAAAAAAAAAAADgPwAAAAAAAOA/61G4HoXr4T/1KFyPwvXwP+dRuB6F6+E/",
            "dtype": "f8"
           }
          }
         ],
         "layout": {
          "annotations": [
           {
            "showarrow": false,
            "text": "Time: 0.07s (Step: 8/100)",
            "x": 0.05,
            "xref": "paper",
            "y": 0.95,
            "yref": "paper"
           }
          ]
         },
         "name": "7"
        },
        {
         "data": [
          {
           "name": "Free Nodes",
           "type": "scatter3d",
           "x": {
            "bdata": "AAAAAAAAAAAAAAAAAADwPwAAAAAAAAAAWtdApdEFrjwBAAAAAADwPwQAAAAAAPA/",
            "dtype": "f8"
           },
           "y": {
            "bdata": "AAAAAAAAAAAAAAAAAAAAAAAAAAAAAPA/1yqUAvUtorwUBZR+9Ry6vPr//////+8/",
            "dtype": "f8"
           },
           "z": {
            "bdata": "AAAAAAAAAAAAAAAAAADgPwAAAAAAAOA/w/UoXI/C4T/hehSuR+HwP771KFyPwuE/",
            "dtype": "f8"
           }
          },
          {
           "name": "Fixed Nodes",
           "type": "scatter3d",
           "x": [],
           "y": [],
           "z": []
          },
          {
           "name": "Edges",
           "type": "scatter3d",
           "x": [
            1,
            0,
            null,
            0,
            0,
            null,
            0,
            1,
            null,
            1.0000000000000002,
            1.0000000000000009,
            null,
            1.0000000000000009,
            2.0832453947168173e-16,
            null,
            2.0832453947168173e-16,
            1.0000000000000002,
            null
           ],
           "y": [
            0,
            1,
            null,
            1,
            0,
            null,
            0,
            0,
            null,
            -3.6239235151571e-16,
            0.9999999999999993,
            null,
            0.9999999999999993,
            -1.2614575916494383e-16,
            null,
            -1.2614575916494383e-16,
            -3.6239235151571e-16,
            null
           ],
           "z": [
            0.5,
            0.5,
            null,
            0.5,
            0,
            null,
            0,
            0.5,
            null,
            1.055,
            0.5549999999999995,
            null,
            0.5549999999999995,
            0.555,
            null,
            0.555,
            1.055,
            null
           ]
          },
          {
           "i": [
            0,
            3
           ],
           "j": [
            1,
            4
           ],
           "k": [
            2,
            5
           ],
           "name": "Faces",
           "type": "mesh3d",
           "x": {
            "bdata": "AAAAAAAAAAAAAAAAAADwPwAAAAAAAAAAWtdApdEFrjwBAAAAAADwPwQAAAAAAPA/",
            "dtype": "f8"
           },
           "y": {
            "bdata": "AAAAAAAAAAAAAAAAAAAAAAAAAAAAAPA/1yqUAvUtorwUBZR+9Ry6vPr//////+8/",
            "dtype": "f8"
           },
           "z": {
            "bdata": "AAAAAAAAAAAAAAAAAADgPwAAAAAAAOA/w/UoXI/C4T/hehSuR+HwP771KFyPwuE/",
            "dtype": "f8"
           }
          }
         ],
         "layout": {
          "annotations": [
           {
            "showarrow": false,
            "text": "Time: 0.08s (Step: 9/100)",
            "x": 0.05,
            "xref": "paper",
            "y": 0.95,
            "yref": "paper"
           }
          ]
         },
         "name": "8"
        },
        {
         "data": [
          {
           "name": "Free Nodes",
           "type": "scatter3d",
           "x": {
            "bdata": "AAAAAAAAAAAAAAAAAADwPwAAAAAAAAAAhJPqourctjwBAAAAAADwPwUAAAAAAPA/",
            "dtype": "f8"
           },
           "y": {
            "bdata": "AAAAAAAAAAAAAAAAAAAAAAAAAAAAAPA/IWw5YgdmorxxZMDveJ7CvPn//////+8/",
            "dtype": "f8"
           },
           "z": {
            "bdata": "AAAAAAAAAAAAAAAAAADgPwAAAAAAAOA/m5mZmZmZ4T/OzMzMzMzwP5SZmZmZmeE/",
            "dtype": "f8"
           }
          },
          {
           "name": "Fixed Nodes",
           "type": "scatter3d",
           "x": [],
           "y": [],
           "z": []
          },
          {
           "name": "Edges",
           "type": "scatter3d",
           "x": [
            1,
            0,
            null,
            0,
            0,
            null,
            0,
            1,
            null,
            1.0000000000000002,
            1.000000000000001,
            null,
            1.000000000000001,
            3.172872418578889e-16,
            null,
            3.172872418578889e-16,
            1.0000000000000002,
            null
           ],
           "y": [
            0,
            1,
            null,
            1,
            0,
            null,
            0,
            0,
            null,
            -5.167819740190659e-16,
            0.9999999999999992,
            null,
            0.9999999999999992,
            -1.2766558758861787e-16,
            null,
            -1.2766558758861787e-16,
            -5.167819740190659e-16,
            null
           ],
           "z": [
            0.5,
            0.5,
            null,
            0.5,
            0,
            null,
            0,
            0.5,
            null,
            1.0500000000000003,
            0.5499999999999994,
            null,
            0.5499999999999994,
            0.5500000000000002,
            null,
            0.5500000000000002,
            1.0500000000000003,
            null
           ]
          },
          {
           "i": [
            0,
            3
           ],
           "j": [
            1,
            4
           ],
           "k": [
            2,
            5
           ],
           "name": "Faces",
           "type": "mesh3d",
           "x": {
            "bdata": "AAAAAAAAAAAAAAAAAADwPwAAAAAAAAAAhJPqourctjwBAAAAAADwPwUAAAAAAPA/",
            "dtype": "f8"
           },
           "y": {
            "bdata": "AAAAAAAAAAAAAAAAAAAAAAAAAAAAAPA/IWw5YgdmorxxZMDveJ7CvPn//////+8/",
            "dtype": "f8"
           },
           "z": {
            "bdata": "AAAAAAAAAAAAAAAAAADgPwAAAAAAAOA/m5mZmZmZ4T/OzMzMzMzwP5SZmZmZmeE/",
            "dtype": "f8"
           }
          }
         ],
         "layout": {
          "annotations": [
           {
            "showarrow": false,
            "text": "Time: 0.09s (Step: 10/100)",
            "x": 0.05,
            "xref": "paper",
            "y": 0.95,
            "yref": "paper"
           }
          ]
         },
         "name": "9"
        },
        {
         "data": [
          {
           "name": "Free Nodes",
           "type": "scatter3d",
           "x": {
            "bdata": "AAAAAAAAAAAAAAAAAADwPwAAAAAAAAAAdqh8Tt9zujwBAAAAAADwPwYAAAAAAPA/",
            "dtype": "f8"
           },
           "y": {
            "bdata": "AAAAAAAAAAAAAAAAAAAAAAAAAAAAAPA/IrfJSFqGq7wF9771vm2/vPb//////+8/",
            "dtype": "f8"
           },
           "z": {
            "bdata": "AAAAAAAAAAAAAAAAAADgPwAAAAAAAOA/cz0K16Nw4T+6HoXrUbjwP2s9CtejcOE/",
            "dtype": "f8"
           }
          },
          {
           "name": "Fixed Nodes",
           "type": "scatter3d",
           "x": [],
           "y": [],
           "z": []
          },
          {
           "name": "Edges",
           "type": "scatter3d",
           "x": [
            1,
            0,
            null,
            0,
            0,
            null,
            0,
            1,
            null,
            1.0000000000000002,
            1.0000000000000013,
            null,
            1.0000000000000013,
            3.671039325046566e-16,
            null,
            3.671039325046566e-16,
            1.0000000000000002,
            null
           ],
           "y": [
            0,
            1,
            null,
            1,
            0,
            null,
            0,
            0,
            null,
            -4.3616076122357975e-16,
            0.9999999999999989,
            null,
            0.9999999999999989,
            -1.9099177190836901e-16,
            null,
            -1.9099177190836901e-16,
            -4.3616076122357975e-16,
            null
           ],
           "z": [
            0.5,
            0.5,
            null,
            0.5,
            0,
            null,
            0,
            0.5,
            null,
            1.0450000000000004,
            0.5449999999999994,
            null,
            0.5449999999999994,
            0.5450000000000003,
            null,
            0.5450000000000003,
            1.0450000000000004,
            null
           ]
          },
          {
           "i": [
            0,
            3
           ],
           "j": [
            1,
            4
           ],
           "k": [
            2,
            5
           ],
           "name": "Faces",
           "type": "mesh3d",
           "x": {
            "bdata": "AAAAAAAAAAAAAAAAAADwPwAAAAAAAAAAdqh8Tt9zujwBAAAAAADwPwYAAAAAAPA/",
            "dtype": "f8"
           },
           "y": {
            "bdata": "AAAAAAAAAAAAAAAAAAAAAAAAAAAAAPA/IrfJSFqGq7wF9771vm2/vPb//////+8/",
            "dtype": "f8"
           },
           "z": {
            "bdata": "AAAAAAAAAAAAAAAAAADgPwAAAAAAAOA/cz0K16Nw4T+6HoXrUbjwP2s9CtejcOE/",
            "dtype": "f8"
           }
          }
         ],
         "layout": {
          "annotations": [
           {
            "showarrow": false,
            "text": "Time: 0.10s (Step: 11/100)",
            "x": 0.05,
            "xref": "paper",
            "y": 0.95,
            "yref": "paper"
           }
          ]
         },
         "name": "10"
        },
        {
         "data": [
          {
           "name": "Free Nodes",
           "type": "scatter3d",
           "x": {
            "bdata": "AAAAAAAAAAAAAAAAAADwPwAAAAAAAAAAcRj2brKdwDwBAAAAAADwPwcAAAAAAPA/",
            "dtype": "f8"
           },
           "y": {
            "bdata": "AAAAAAAAAAAAAAAAAAAAAAAAAAAAAPA/dYp4423PrrzogBOzt+7GvPX//////+8/",
            "dtype": "f8"
           },
           "z": {
            "bdata": "AAAAAAAAAAAAAAAAAADgPwAAAAAAAOA/S+F6FK5H4T+ncD0K16PwP0HhehSuR+E/",
            "dtype": "f8"
           }
          },
          {
           "name": "Fixed Nodes",
           "type": "scatter3d",
           "x": [],
           "y": [],
           "z": []
          },
          {
           "name": "Edges",
           "type": "scatter3d",
           "x": [
            1,
            0,
            null,
            0,
            0,
            null,
            0,
            1,
            null,
            1.0000000000000002,
            1.0000000000000016,
            null,
            1.0000000000000016,
            4.611867534604802e-16,
            null,
            4.611867534604802e-16,
            1.0000000000000002,
            null
           ],
           "y": [
            0,
            1,
            null,
            1,
            0,
            null,
            0,
            0,
            null,
            -6.365044750203628e-16,
            0.9999999999999988,
            null,
            0.9999999999999988,
            -2.1378919826347944e-16,
            null,
            -2.1378919826347944e-16,
            -6.365044750203628e-16,
            null
           ],
           "z": [
            0.5,
            0.5,
            null,
            0.5,
            0,
            null,
            0,
            0.5,
            null,
            1.0400000000000007,
            0.5399999999999993,
            null,
            0.5399999999999993,
            0.5400000000000004,
            null,
            0.5400000000000004,
            1.0400000000000007,
            null
           ]
          },
          {
           "i": [
            0,
            3
           ],
           "j": [
            1,
            4
           ],
           "k": [
            2,
            5
           ],
           "name": "Faces",
           "type": "mesh3d",
           "x": {
            "bdata": "AAAAAAAAAAAAAAAAAADwPwAAAAAAAAAAcRj2brKdwDwBAAAAAADwPwcAAAAAAPA/",
            "dtype": "f8"
           },
           "y": {
            "bdata": "AAAAAAAAAAAAAAAAAAAAAAAAAAAAAPA/dYp4423PrrzogBOzt+7GvPX//////+8/",
            "dtype": "f8"
           },
           "z": {
            "bdata": "AAAAAAAAAAAAAAAAAADgPwAAAAAAAOA/S+F6FK5H4T+ncD0K16PwP0HhehSuR+E/",
            "dtype": "f8"
           }
          }
         ],
         "layout": {
          "annotations": [
           {
            "showarrow": false,
            "text": "Time: 0.11s (Step: 12/100)",
            "x": 0.05,
            "xref": "paper",
            "y": 0.95,
            "yref": "paper"
           }
          ]
         },
         "name": "11"
        },
        {
         "data": [
          {
           "name": "Free Nodes",
           "type": "scatter3d",
           "x": {
            "bdata": "AAAAAAAAAAAAAAAAAADwPwAAAAAAAAAAC/HUd75CwjwBAAAAAADwPwgAAAAAAPA/",
            "dtype": "f8"
           },
           "y": {
            "bdata": "AAAAAAAAAAAAAAAAAAAAAAAAAAAAAPA/YQvXlOkTtLzXGS8WbR3EvPL//////+8/",
            "dtype": "f8"
           },
           "z": {
            "bdata": "AAAAAAAAAAAAAAAAAADgPwAAAAAAAOA/I4XrUbge4T+TwvUoXI/wPxiF61G4HuE/",
            "dtype": "f8"
           }
          },
          {
           "name": "Fixed Nodes",
           "type": "scatter3d",
           "x": [],
           "y": [],
           "z": []
          },
          {
           "name": "Edges",
           "type": "scatter3d",
           "x": [
            1,
            0,
            null,
            0,
            0,
            null,
            0,
            1,
            null,
            1.0000000000000002,
            1.0000000000000018,
            null,
            1.0000000000000018,
            5.068367617948024e-16,
            null,
            5.068367617948024e-16,
            1.0000000000000002,
            null
           ],
           "y": [
            0,
            1,
            null,
            1,
            0,
            null,
            0,
            0,
            null,
            -5.583018986087412e-16,
            0.9999999999999984,
            null,
            0.9999999999999984,
            -2.7863521100690467e-16,
            null,
            -2.7863521100690467e-16,
            -5.583018986087412e-16,
            null
           ],
           "z": [
            0.5,
            0.5,
            null,
            0.5,
            0,
            null,
            0,
            0.5,
            null,
            1.0350000000000008,
            0.5349999999999993,
            null,
            0.5349999999999993,
            0.5350000000000005,
            null,
            0.5350000000000005,
            1.0350000000000008,
            null
           ]
          },
          {
           "i": [
            0,
            3
           ],
           "j": [
            1,
            4
           ],
           "k": [
            2,
            5
           ],
           "name": "Faces",
           "type": "mesh3d",
           "x": {
            "bdata": "AAAAAAAAAAAAAAAAAADwPwAAAAAAAAAAC/HUd75CwjwBAAAAAADwPwgAAAAAAPA/",
            "dtype": "f8"
           },
           "y": {
            "bdata": "AAAAAAAAAAAAAAAAAAAAAAAAAAAAAPA/YQvXlOkTtLzXGS8WbR3EvPL//////+8/",
            "dtype": "f8"
           },
           "z": {
            "bdata": "AAAAAAAAAAAAAAAAAADgPwAAAAAAAOA/I4XrUbge4T+TwvUoXI/wPxiF61G4HuE/",
            "dtype": "f8"
           }
          }
         ],
         "layout": {
          "annotations": [
           {
            "showarrow": false,
            "text": "Time: 0.12s (Step: 13/100)",
            "x": 0.05,
            "xref": "paper",
            "y": 0.95,
            "yref": "paper"
           }
          ]
         },
         "name": "12"
        },
        {
         "data": [
          {
           "name": "Free Nodes",
           "type": "scatter3d",
           "x": {
            "bdata": "AAAAAAAAAAAAAAAAAADwPwAAAAAAAAAAbcBbefBBwjwCAAAAAADwPwkAAAAAAPA/",
            "dtype": "f8"
           },
           "y": {
            "bdata": "AAAAAAAAAAAAAAAAAAAAAAAAAAAAAPA/nLJzQGN+s7znlXQWu+XKvPH//////+8/",
            "dtype": "f8"
           },
           "z": {
            "bdata": "AAAAAAAAAAAAAAAAAADgPwAAAAAAAOA/+ihcj8L14D+AFK5H4XrwP+4oXI/C9eA/",
            "dtype": "f8"
           }
          },
          {
           "name": "Fixed Nodes",
           "type": "scatter3d",
           "x": [],
           "y": [],
           "z": []
          },
          {
           "name": "Edges",
           "type": "scatter3d",
           "x": [
            1,
            0,
            null,
            0,
            0,
            null,
            0,
            1,
            null,
            1.0000000000000004,
            1.000000000000002,
            null,
            1.000000000000002,
            5.067495199267862e-16,
            null,
            5.067495199267862e-16,
            1.0000000000000004,
            null
           ],
           "y": [
            0,
            1,
            null,
            1,
            0,
            null,
            0,
            0,
            null,
            -7.465524304862015e-16,
            0.9999999999999983,
            null,
            0.9999999999999983,
            -2.705294594139765e-16,
            null,
            -2.705294594139765e-16,
            -7.465524304862015e-16,
            null
           ],
           "z": [
            0.5,
            0.5,
            null,
            0.5,
            0,
            null,
            0,
            0.5,
            null,
            1.0300000000000011,
            0.5299999999999991,
            null,
            0.5299999999999991,
            0.5300000000000005,
            null,
            0.5300000000000005,
            1.0300000000000011,
            null
           ]
          },
          {
           "i": [
            0,
            3
           ],
           "j": [
            1,
            4
           ],
           "k": [
            2,
            5
           ],
           "name": "Faces",
           "type": "mesh3d",
           "x": {
            "bdata": "AAAAAAAAAAAAAAAAAADwPwAAAAAAAAAAbcBbefBBwjwCAAAAAADwPwkAAAAAAPA/",
            "dtype": "f8"
           },
           "y": {
            "bdata": "AAAAAAAAAAAAAAAAAAAAAAAAAAAAAPA/nLJzQGN+s7znlXQWu+XKvPH//////+8/",
            "dtype": "f8"
           },
           "z": {
            "bdata": "AAAAAAAAAAAAAAAAAADgPwAAAAAAAOA/+ihcj8L14D+AFK5H4XrwP+4oXI/C9eA/",
            "dtype": "f8"
           }
          }
         ],
         "layout": {
          "annotations": [
           {
            "showarrow": false,
            "text": "Time: 0.13s (Step: 14/100)",
            "x": 0.05,
            "xref": "paper",
            "y": 0.95,
            "yref": "paper"
           }
          ]
         },
         "name": "13"
        },
        {
         "data": [
          {
           "name": "Free Nodes",
           "type": "scatter3d",
           "x": {
            "bdata": "AAAAAAAAAAAAAAAAAADwPwAAAAAAAAAArSDvN2CXyTwCAAAAAADwPwoAAAAAAPA/",
            "dtype": "f8"
           },
           "y": {
            "bdata": "AAAAAAAAAAAAAAAAAAAAAAAAAAAAAPA/SGHQ7iHNt7zdraLYYQHOvPD//////+8/",
            "dtype": "f8"
           },
           "z": {
            "bdata": "AAAAAAAAAAAAAAAAAADgPwAAAAAAAOA/0szMzMzM4D9sZmZmZmbwP8XMzMzMzOA/",
            "dtype": "f8"
           }
          },
          {
           "name": "Fixed Nodes",
           "type": "scatter3d",
           "x": [],
           "y": [],
           "z": []
          },
          {
           "name": "Edges",
           "type": "scatter3d",
           "x": [
            1,
            0,
            null,
            0,
            0,
            null,
            0,
            1,
            null,
            1.0000000000000004,
            1.0000000000000022,
            null,
            1.0000000000000022,
            7.103015933119157e-16,
            null,
            7.103015933119157e-16,
            1.0000000000000004,
            null
           ],
           "y": [
            0,
            1,
            null,
            1,
            0,
            null,
            0,
            0,
            null,
            -8.328171281773718e-16,
            0.9999999999999982,
            null,
            0.9999999999999982,
            -3.3030937741182167e-16,
            null,
            -3.3030937741182167e-16,
            -8.328171281773718e-16,
            null
           ],
           "z": [
            0.5,
            0.5,
            null,
            0.5,
            0,
            null,
            0,
            0.5,
            null,
            1.0250000000000012,
            0.5249999999999991,
            null,
            0.5249999999999991,
            0.5250000000000006,
            null,
            0.5250000000000006,
            1.0250000000000012,
            null
           ]
          },
          {
           "i": [
            0,
            3
           ],
           "j": [
            1,
            4
           ],
           "k": [
            2,
            5
           ],
           "name": "Faces",
           "type": "mesh3d",
           "x": {
            "bdata": "AAAAAAAAAAAAAAAAAADwPwAAAAAAAAAArSDvN2CXyTwCAAAAAADwPwoAAAAAAPA/",
            "dtype": "f8"
           },
           "y": {
            "bdata": "AAAAAAAAAAAAAAAAAAAAAAAAAAAAAPA/SGHQ7iHNt7zdraLYYQHOvPD//////+8/",
            "dtype": "f8"
           },
           "z": {
            "bdata": "AAAAAAAAAAAAAAAAAADgPwAAAAAAAOA/0szMzMzM4D9sZmZmZmbwP8XMzMzMzOA/",
            "dtype": "f8"
           }
          }
         ],
         "layout": {
          "annotations": [
           {
            "showarrow": false,
            "text": "Time: 0.14s (Step: 15/100)",
            "x": 0.05,
            "xref": "paper",
            "y": 0.95,
            "yref": "paper"
           }
          ]
         },
         "name": "14"
        },
        {
         "data": [
          {
           "name": "Free Nodes",
           "type": "scatter3d",
           "x": {
            "bdata": "AAAAAAAAAAAAAAAAAADwPwAAAAAAAAAA2W85YuMvzTwCAAAAAADwPwsAAAAAAPA/",
            "dtype": "f8"
           },
           "y": {
            "bdata": "AAAAAAAAAAAAAAAAAAAAAAAAAAAAAPA/Pc1SQKd1vbyLGJ0/BATMvO7//////+8/",
            "dtype": "f8"
           },
           "z": {
            "bdata": "AAAAAAAAAAAAAAAAAADgPwAAAAAAAOA/qnA9Ctej4D9YuB6F61HwP51wPQrXo+A/",
            "dtype": "f8"
           }
          },
          {
           "name": "Fixed Nodes",
           "type": "scatter3d",
           "x": [],
           "y": [],
           "z": []
          },
          {
           "name": "Edges",
           "type": "scatter3d",
           "x": [
            1,
            0,
            null,
            0,
            0,
            null,
            0,
            1,
            null,
            1.0000000000000004,
            1.0000000000000024,
            null,
            1.0000000000000024,
            8.101037438020111e-16,
            null,
            8.101037438020111e-16,
            1.0000000000000004,
            null
           ],
           "y": [
            0,
            1,
            null,
            1,
            0,
            null,
            0,
            0,
            null,
            -7.775915974124637e-16,
            0.999999999999998,
            null,
            0.999999999999998,
            -4.088338459683133e-16,
            null,
            -4.088338459683133e-16,
            -7.775915974124637e-16,
            null
           ],
           "z": [
            0.5,
            0.5,
            null,
            0.5,
            0,
            null,
            0,
            0.5,
            null,
            1.0200000000000014,
            0.5199999999999992,
            null,
            0.5199999999999992,
            0.5200000000000007,
            null,
            0.5200000000000007,
            1.0200000000000014,
            null
           ]
          },
          {
           "i": [
            0,
            3
           ],
           "j": [
            1,
            4
           ],
           "k": [
            2,
            5
           ],
           "name": "Faces",
           "type": "mesh3d",
           "x": {
            "bdata": "AAAAAAAAAAAAAAAAAADwPwAAAAAAAAAA2W85YuMvzTwCAAAAAADwPwsAAAAAAPA/",
            "dtype": "f8"
           },
           "y": {
            "bdata": "AAAAAAAAAAAAAAAAAAAAAAAAAAAAAPA/Pc1SQKd1vbyLGJ0/BATMvO7//////+8/",
            "dtype": "f8"
           },
           "z": {
            "bdata": "AAAAAAAAAAAAAAAAAADgPwAAAAAAAOA/qnA9Ctej4D9YuB6F61HwP51wPQrXo+A/",
            "dtype": "f8"
           }
          }
         ],
         "layout": {
          "annotations": [
           {
            "showarrow": false,
            "text": "Time: 0.15s (Step: 16/100)",
            "x": 0.05,
            "xref": "paper",
            "y": 0.95,
            "yref": "paper"
           }
          ]
         },
         "name": "15"
        },
        {
         "data": [
          {
           "name": "Free Nodes",
           "type": "scatter3d",
           "x": {
            "bdata": "AAAAAAAAAAAAAAAAAADwPwAAAAAAAAAAQdB21T6m0DwCAAAAAADwPwwAAAAAAPA/",
            "dtype": "f8"
           },
           "y": {
            "bdata": "AAAAAAAAAAAAAAAAAAAAAAAAAAAAAPA/TGdb9D9DvrxUeT5tNprRvO7//////+8/",
            "dtype": "f8"
           },
           "z": {
            "bdata": "AAAAAAAAAAAAAAAAAADgPwAAAAAAAOA/ghSuR+F64D9FCtejcD3wP3QUrkfheuA/",
            "dtype": "f8"
           }
          },
          {
           "name": "Fixed Nodes",
           "type": "scatter3d",
           "x": [],
           "y": [],
           "z": []
          },
          {
           "name": "Edges",
           "type": "scatter3d",
           "x": [
            1,
            0,
            null,
            0,
            0,
            null,
            0,
            1,
            null,
            1.0000000000000004,
            1.0000000000000027,
            null,
            1.0000000000000027,
            9.24227154162884e-16,
            null,
            9.24227154162884e-16,
            1.0000000000000004,
            null
           ],
           "y": [
            0,
            1,
            null,
            1,
            0,
            null,
            0,
            0,
            null,
            -9.771290990812921e-16,
            0.999999999999998,
            null,
            0.999999999999998,
            -4.199792544085895e-16,
            null,
            -4.199792544085895e-16,
            -9.771290990812921e-16,
            null
           ],
           "z": [
            0.5,
            0.5,
            null,
            0.5,
            0,
            null,
            0,
            0.5,
            null,
            1.0150000000000017,
            0.5149999999999992,
            null,
            0.5149999999999992,
            0.5150000000000008,
            null,
            0.5150000000000008,
            1.0150000000000017,
            null
           ]
          },
          {
           "i": [
            0,
            3
           ],
           "j": [
            1,
            4
           ],
           "k": [
            2,
            5
           ],
           "name": "Faces",
           "type": "mesh3d",
           "x": {
            "bdata": "AAAAAAAAAAAAAAAAAADwPwAAAAAAAAAAQdB21T6m0DwCAAAAAADwPwwAAAAAAPA/",
            "dtype": "f8"
           },
           "y": {
            "bdata": "AAAAAAAAAAAAAAAAAAAAAAAAAAAAAPA/TGdb9D9DvrxUeT5tNprRvO7//////+8/",
            "dtype": "f8"
           },
           "z": {
            "bdata": "AAAAAAAAAAAAAAAAAADgPwAAAAAAAOA/ghSuR+F64D9FCtejcD3wP3QUrkfheuA/",
            "dtype": "f8"
           }
          }
         ],
         "layout": {
          "annotations": [
           {
            "showarrow": false,
            "text": "Time: 0.16s (Step: 17/100)",
            "x": 0.05,
            "xref": "paper",
            "y": 0.95,
            "yref": "paper"
           }
          ]
         },
         "name": "16"
        },
        {
         "data": [
          {
           "name": "Free Nodes",
           "type": "scatter3d",
           "x": {
            "bdata": "AAAAAAAAAAAAAAAAAADwPwAAAAAAAAAA6ad2uFn40TwCAAAAAADwPw0AAAAAAPA/",
            "dtype": "f8"
           },
           "y": {
            "bdata": "AAAAAAAAAAAAAAAAAAAAAAAAAAAAAPA/YjsNOA5ywLxwW3btSDXQvOz//////+8/",
            "dtype": "f8"
           },
           "z": {
            "bdata": "AAAAAAAAAAAAAAAAAADgPwAAAAAAAOA/WrgehetR4D8xXI/C9SjwP0y4HoXrUeA/",
            "dtype": "f8"
           }
          },
          {
           "name": "Fixed Nodes",
           "type": "scatter3d",
           "x": [],
           "y": [],
           "z": []
          },
          {
           "name": "Edges",
           "type": "scatter3d",
           "x": [
            1,
            0,
            null,
            0,
            0,
            null,
            0,
            1,
            null,
            1.0000000000000004,
            1.0000000000000029,
            null,
            1.0000000000000029,
            9.975419949574921e-16,
            null,
            9.975419949574921e-16,
            1.0000000000000004,
            null
           ],
           "y": [
            0,
            1,
            null,
            1,
            0,
            null,
            0,
            0,
            null,
            -8.997327347976253e-16,
            0.9999999999999978,
            null,
            0.9999999999999978,
            -4.564551365767663e-16,
            null,
            -4.564551365767663e-16,
            -8.997327347976253e-16,
            null
           ],
           "z": [
            0.5,
            0.5,
            null,
            0.5,
            0,
            null,
            0,
            0.5,
            null,
            1.0100000000000018,
            0.5099999999999993,
            null,
            0.5099999999999993,
            0.5100000000000009,
            null,
            0.5100000000000009,
            1.0100000000000018,
            null
           ]
          },
          {
           "i": [
            0,
            3
           ],
           "j": [
            1,
            4
           ],
           "k": [
            2,
            5
           ],
           "name": "Faces",
           "type": "mesh3d",
           "x": {
            "bdata": "AAAAAAAAAAAAAAAAAADwPwAAAAAAAAAA6ad2uFn40TwCAAAAAADwPw0AAAAAAPA/",
            "dtype": "f8"
           },
           "y": {
            "bdata": "AAAAAAAAAAAAAAAAAAAAAAAAAAAAAPA/YjsNOA5ywLxwW3btSDXQvOz//////+8/",
            "dtype": "f8"
           },
           "z": {
            "bdata": "AAAAAAAAAAAAAAAAAADgPwAAAAAAAOA/WrgehetR4D8xXI/C9SjwP0y4HoXrUeA/",
            "dtype": "f8"
           }
          }
         ],
         "layout": {
          "annotations": [
           {
            "showarrow": false,
            "text": "Time: 0.17s (Step: 18/100)",
            "x": 0.05,
            "xref": "paper",
            "y": 0.95,
            "yref": "paper"
           }
          ]
         },
         "name": "17"
        },
        {
         "data": [
          {
           "name": "Free Nodes",
           "type": "scatter3d",
           "x": {
            "bdata": "AAAAAAAAAAAAAAAAAADwPwAAAAAAAAAAtYfziyY00jwDAAAAAADwPw4AAAAAAPA/",
            "dtype": "f8"
           },
           "y": {
            "bdata": "AAAAAAAAAAAAAAAAAAAAAAAAAAAAAPA/Fci9wV2VvLyZsKlreS/TvOz//////+8/",
            "dtype": "f8"
           },
           "z": {
            "bdata": "AAAAAAAAAAAAAAAAAADgPwAAAAAAAOA/MVyPwvUo4D8erkfhehTwPyNcj8L1KOA/",
            "dtype": "f8"
           }
          },
          {
           "name": "Fixed Nodes",
           "type": "scatter3d",
           "x": [],
           "y": [],
           "z": []
          },
          {
           "name": "Edges",
           "type": "scatter3d",
           "x": [
            1,
            0,
            null,
            0,
            0,
            null,
            0,
            1,
            null,
            1.0000000000000007,
            1.000000000000003,
            null,
            1.000000000000003,
            1.0105090750684592e-15,
            null,
            1.0105090750684592e-15,
            1.0000000000000007,
            null
           ],
           "y": [
            0,
            1,
            null,
            1,
            0,
            null,
            0,
            0,
            null,
            -1.0650062210283721e-15,
            0.9999999999999978,
            null,
            0.9999999999999978,
            -3.96675218578921e-16,
            null,
            -3.96675218578921e-16,
            -1.0650062210283721e-15,
            null
           ],
           "z": [
            0.5,
            0.5,
            null,
            0.5,
            0,
            null,
            0,
            0.5,
            null,
            1.0050000000000021,
            0.5049999999999993,
            null,
            0.5049999999999993,
            0.5050000000000009,
            null,
            0.5050000000000009,
            1.0050000000000021,
            null
           ]
          },
          {
           "i": [
            0,
            3
           ],
           "j": [
            1,
            4
           ],
           "k": [
            2,
            5
           ],
           "name": "Faces",
           "type": "mesh3d",
           "x": {
            "bdata": "AAAAAAAAAAAAAAAAAADwPwAAAAAAAAAAtYfziyY00jwDAAAAAADwPw4AAAAAAPA/",
            "dtype": "f8"
           },
           "y": {
            "bdata": "AAAAAAAAAAAAAAAAAAAAAAAAAAAAAPA/Fci9wV2VvLyZsKlreS/TvOz//////+8/",
            "dtype": "f8"
           },
           "z": {
            "bdata": "AAAAAAAAAAAAAAAAAADgPwAAAAAAAOA/MVyPwvUo4D8erkfhehTwPyNcj8L1KOA/",
            "dtype": "f8"
           }
          }
         ],
         "layout": {
          "annotations": [
           {
            "showarrow": false,
            "text": "Time: 0.18s (Step: 19/100)",
            "x": 0.05,
            "xref": "paper",
            "y": 0.95,
            "yref": "paper"
           }
          ]
         },
         "name": "18"
        },
        {
         "data": [
          {
           "name": "Free Nodes",
           "type": "scatter3d",
           "x": {
            "bdata": "AAAAAAAAAAAAAAAAAADwPwAAAAAAAAAAbdZZK9uX1TwDAAAAAADwPw8AAAAAAPA/",
            "dtype": "f8"
           },
           "y": {
            "bdata": "AAAAAAAAAAAAAAAAAAAAAAAAAAAAAPA/GpFCX94dvryBbumFWpjRvOv//////+8/",
            "dtype": "f8"
           },
           "z": {
            "bdata": "AAAAAAAAAAAAAAAAAADgPwAAAAAAAOA/CQAAAAAA4D8KAAAAAADwP/b//////98/",
            "dtype": "f8"
           }
          },
          {
           "name": "Fixed Nodes",
           "type": "scatter3d",
           "x": [],
           "y": [],
           "z": []
          },
          {
           "name": "Edges",
           "type": "scatter3d",
           "x": [
            1,
            0,
            null,
            0,
            0,
            null,
            0,
            1,
            null,
            1.0000000000000007,
            1.0000000000000033,
            null,
            1.0000000000000033,
            1.1986627251171144e-15,
            null,
            1.1986627251171144e-15,
            1.0000000000000007,
            null
           ],
           "y": [
            0,
            1,
            null,
            1,
            0,
            null,
            0,
            0,
            null,
            -9.767259930173146e-16,
            0.9999999999999977,
            null,
            0.9999999999999977,
            -4.1795281651035743e-16,
            null,
            -4.1795281651035743e-16,
            -9.767259930173146e-16,
            null
           ],
           "z": [
            0.5,
            0.5,
            null,
            0.5,
            0,
            null,
            0,
            0.5,
            null,
            1.0000000000000022,
            0.49999999999999944,
            null,
            0.49999999999999944,
            0.500000000000001,
            null,
            0.500000000000001,
            1.0000000000000022,
            null
           ]
          },
          {
           "i": [
            0,
            3
           ],
           "j": [
            1,
            4
           ],
           "k": [
            2,
            5
           ],
           "name": "Faces",
           "type": "mesh3d",
           "x": {
            "bdata": "AAAAAAAAAAAAAAAAAADwPwAAAAAAAAAAbdZZK9uX1TwDAAAAAADwPw8AAAAAAPA/",
            "dtype": "f8"
           },
           "y": {
            "bdata": "AAAAAAAAAAAAAAAAAAAAAAAAAAAAAPA/GpFCX94dvryBbumFWpjRvOv//////+8/",
            "dtype": "f8"
           },
           "z": {
            "bdata": "AAAAAAAAAAAAAAAAAADgPwAAAAAAAOA/CQAAAAAA4D8KAAAAAADwP/b//////98/",
            "dtype": "f8"
           }
          }
         ],
         "layout": {
          "annotations": [
           {
            "showarrow": false,
            "text": "Time: 0.19s (Step: 20/100)",
            "x": 0.05,
            "xref": "paper",
            "y": 0.95,
            "yref": "paper"
           }
          ]
         },
         "name": "19"
        },
        {
         "data": [
          {
           "name": "Free Nodes",
           "type": "scatter3d",
           "x": {
            "bdata": "AAAAAAAAAAAAAAAAAADwPwAAAAAAAAAAa+YyVXZo2TwEAAAAAADwPw8AAAAAAPA/",
            "dtype": "f8"
           },
           "y": {
            "bdata": "AAAAAAAAAAAAAAAAAAAAAAAAAAAAAPA/0NWQL5EKtLxHbxXXVKDSvOr//////+8/",
            "dtype": "f8"
           },
           "z": {
            "bdata": "AAAAAAAAAAAAAAAAAADgPwAAAAAAAOA/wUfhehSu3z/to3A9CtfvP6VH4XoUrt8/",
            "dtype": "f8"
           }
          },
          {
           "name": "Fixed Nodes",
           "type": "scatter3d",
           "x": [],
           "y": [],
           "z": []
          },
          {
           "name": "Edges",
           "type": "scatter3d",
           "x": [
            1,
            0,
            null,
            0,
            0,
            null,
            0,
            1,
            null,
            1.0000000000000009,
            1.0000000000000033,
            null,
            1.0000000000000033,
            1.4104304177561964e-15,
            null,
            1.4104304177561964e-15,
            1.0000000000000009,
            null
           ],
           "y": [
            0,
            1,
            null,
            1,
            0,
            null,
            0,
            0,
            null,
            -1.0339670541021099e-15,
            0.9999999999999976,
            null,
            0.9999999999999976,
            -2.7812860153234643e-16,
            null,
            -2.7812860153234643e-16,
            -1.0339670541021099e-15,
            null
           ],
           "z": [
            0.5,
            0.5,
            null,
            0.5,
            0,
            null,
            0,
            0.5,
            null,
            0.9950000000000024,
            0.4949999999999995,
            null,
            0.4949999999999995,
            0.49500000000000105,
            null,
            0.49500000000000105,
            0.9950000000000024,
            null
           ]
          },
          {
           "i": [
            0,
            3
           ],
           "j": [
            1,
            4
           ],
           "k": [
            2,
            5
           ],
           "name": "Faces",
           "type": "mesh3d",
           "x": {
            "bdata": "AAAAAAAAAAAAAAAAAADwPwAAAAAAAAAAa+YyVXZo2TwEAAAAAADwPw8AAAAAAPA/",
            "dtype": "f8"
           },
           "y": {
            "bdata": "AAAAAAAAAAAAAAAAAAAAAAAAAAAAAPA/0NWQL5EKtLxHbxXXVKDSvOr//////+8/",
            "dtype": "f8"
           },
           "z": {
            "bdata": "AAAAAAAAAAAAAAAAAADgPwAAAAAAAOA/wUfhehSu3z/to3A9CtfvP6VH4XoUrt8/",
            "dtype": "f8"
           }
          }
         ],
         "layout": {
          "annotations": [
           {
            "showarrow": false,
            "text": "Time: 0.20s (Step: 21/100)",
            "x": 0.05,
            "xref": "paper",
            "y": 0.95,
            "yref": "paper"
           }
          ]
         },
         "name": "20"
        },
        {
         "data": [
          {
           "name": "Free Nodes",
           "type": "scatter3d",
           "x": {
            "bdata": "AAAAAAAAAAAAAAAAAADwPwAAAAAAAAAAAkAbLI+k2jwEAAAAAADwPxAAAAAAAPA/",
            "dtype": "f8"
           },
           "y": {
            "bdata": "AAAAAAAAAAAAAAAAAAAAAAAAAAAAAPA/EsC+SMbYvrzu/jP1It3RvOv//////+8/",
            "dtype": "f8"
           },
           "z": {
            "bdata": "AAAAAAAAAAAAAAAAAADgPwAAAAAAAOA/cY/C9Shc3z/FR+F6FK7vP1WPwvUoXN8/",
            "dtype": "f8"
           }
          },
          {
           "name": "Fixed Nodes",
           "type": "scatter3d",
           "x": [],
           "y": [],
           "z": []
          },
          {
           "name": "Edges",
           "type": "scatter3d",
           "x": [
            1,
            0,
            null,
            0,
            0,
            null,
            0,
            1,
            null,
            1.0000000000000009,
            1.0000000000000036,
            null,
            1.0000000000000036,
            1.4789730349176716e-15,
            null,
            1.4789730349176716e-15,
            1.0000000000000009,
            null
           ],
           "y": [
            0,
            1,
            null,
            1,
            0,
            null,
            0,
            0,
            null,
            -9.916409173844795e-16,
            0.9999999999999977,
            null,
            0.9999999999999977,
            -4.280850060015177e-16,
            null,
            -4.280850060015177e-16,
            -9.916409173844795e-16,
            null
           ],
           "z": [
            0.5,
            0.5,
            null,
            0.5,
            0,
            null,
            0,
            0.5,
            null,
            0.9900000000000025,
            0.4899999999999996,
            null,
            0.4899999999999996,
            0.49000000000000116,
            null,
            0.49000000000000116,
            0.9900000000000025,
            null
           ]
          },
          {
           "i": [
            0,
            3
           ],
           "j": [
            1,
            4
           ],
           "k": [
            2,
            5
           ],
           "name": "Faces",
           "type": "mesh3d",
           "x": {
            "bdata": "AAAAAAAAAAAAAAAAAADwPwAAAAAAAAAAAkAbLI+k2jwEAAAAAADwPxAAAAAAAPA/",
            "dtype": "f8"
           },
           "y": {
            "bdata": "AAAAAAAAAAAAAAAAAAAAAAAAAAAAAPA/EsC+SMbYvrzu/jP1It3RvOv//////+8/",
            "dtype": "f8"
           },
           "z": {
            "bdata": "AAAAAAAAAAAAAAAAAADgPwAAAAAAAOA/cY/C9Shc3z/FR+F6FK7vP1WPwvUoXN8/",
            "dtype": "f8"
           }
          }
         ],
         "layout": {
          "annotations": [
           {
            "showarrow": false,
            "text": "Time: 0.21s (Step: 22/100)",
            "x": 0.05,
            "xref": "paper",
            "y": 0.95,
            "yref": "paper"
           }
          ]
         },
         "name": "21"
        },
        {
         "data": [
          {
           "name": "Free Nodes",
           "type": "scatter3d",
           "x": {
            "bdata": "AAAAAAAAAAAAAAAAAADwPwAAAAAAAAAAit2BTYbm3DwEAAAAAADwPxAAAAAAAPA/",
            "dtype": "f8"
           },
           "y": {
            "bdata": "AAAAAAAAAAAAAAAAAAAAAAAAAAAAAPA/32Um9xjVv7weblNdXRTRvOv//////+8/",
            "dtype": "f8"
           },
           "z": {
            "bdata": "AAAAAAAAAAAAAAAAAADgPwAAAAAAAOA/INejcD0K3z+d61G4HoXvPwXXo3A9Ct8/",
            "dtype": "f8"
           }
          },
          {
           "name": "Fixed Nodes",
           "type": "scatter3d",
           "x": [],
           "y": [],
           "z": []
          },
          {
           "name": "Edges",
           "type": "scatter3d",
           "x": [
            1,
            0,
            null,
            0,
            0,
            null,
            0,
            1,
            null,
            1.0000000000000009,
            1.0000000000000036,
            null,
            1.0000000000000036,
            1.6042992932745839e-15,
            null,
            1.6042992932745839e-15,
            1.0000000000000009,
            null
           ],
           "y": [
            0,
            1,
            null,
            1,
            0,
            null,
            0,
            0,
            null,
            -9.48105462474917e-16,
            0.9999999999999977,
            null,
            0.9999999999999977,
            -4.41763461814584e-16,
            null,
            -4.41763461814584e-16,
            -9.48105462474917e-16,
            null
           ],
           "z": [
            0.5,
            0.5,
            null,
            0.5,
            0,
            null,
            0,
            0.5,
            null,
            0.9850000000000027,
            0.4849999999999997,
            null,
            0.4849999999999997,
            0.4850000000000012,
            null,
            0.4850000000000012,
            0.9850000000000027,
            null
           ]
          },
          {
           "i": [
            0,
            3
           ],
           "j": [
            1,
            4
           ],
           "k": [
            2,
            5
           ],
           "name": "Faces",
           "type": "mesh3d",
           "x": {
            "bdata": "AAAAAAAAAAAAAAAAAADwPwAAAAAAAAAAit2BTYbm3DwEAAAAAADwPxAAAAAAAPA/",
            "dtype": "f8"
           },
           "y": {
            "bdata": "AAAAAAAAAAAAAAAAAAAAAAAAAAAAAPA/32Um9xjVv7weblNdXRTRvOv//////+8/",
            "dtype": "f8"
           },
           "z": {
            "bdata": "AAAAAAAAAAAAAAAAAADgPwAAAAAAAOA/INejcD0K3z+d61G4HoXvPwXXo3A9Ct8/",
            "dtype": "f8"
           }
          }
         ],
         "layout": {
          "annotations": [
           {
            "showarrow": false,
            "text": "Time: 0.22s (Step: 23/100)",
            "x": 0.05,
            "xref": "paper",
            "y": 0.95,
            "yref": "paper"
           }
          ]
         },
         "name": "22"
        },
        {
         "data": [
          {
           "name": "Free Nodes",
           "type": "scatter3d",
           "x": {
            "bdata": "AAAAAAAAAAAAAAAAAADwPwAAAAAAAAAAY3frEX5S3jwEAAAAAADwPxAAAAAAAPA/",
            "dtype": "f8"
           },
           "y": {
            "bdata": "AAAAAAAAAAAAAAAAAAAAAAAAAAAAAPA/H4UsVKIxwbwboG0JDm3QvOv//////+8/",
            "dtype": "f8"
           },
           "z": {
            "bdata": "AAAAAAAAAAAAAAAAAADgPwAAAAAAAOA/zx6F61G43j91j8L1KFzvP7UehetRuN4/",
            "dtype": "f8"
           }
          },
          {
           "name": "Fixed Nodes",
           "type": "scatter3d",
           "x": [],
           "y": [],
           "z": []
          },
          {
           "name": "Edges",
           "type": "scatter3d",
           "x": [
            1,
            0,
            null,
            0,
            0,
            null,
            0,
            1,
            null,
            1.0000000000000009,
            1.0000000000000036,
            null,
            1.0000000000000036,
            1.683222238009464e-15,
            null,
            1.683222238009464e-15,
            1.0000000000000009,
            null
           ],
           "y": [
            0,
            1,
            null,
            1,
            0,
            null,
            0,
            0,
            null,
            -9.11825916716948e-16,
            0.9999999999999977,
            null,
            0.9999999999999977,
            -4.772261250336448e-16,
            null,
            -4.772261250336448e-16,
            -9.11825916716948e-16,
            null
           ],
           "z": [
            0.5,
            0.5,
            null,
            0.5,
            0,
            null,
            0,
            0.5,
            null,
            0.9800000000000028,
            0.4799999999999998,
            null,
            0.4799999999999998,
            0.48000000000000126,
            null,
            0.48000000000000126,
            0.9800000000000028,
            null
           ]
          },
          {
           "i": [
            0,
            3
           ],
           "j": [
            1,
            4
           ],
           "k": [
            2,
            5
           ],
           "name": "Faces",
           "type": "mesh3d",
           "x": {
            "bdata": "AAAAAAAAAAAAAAAAAADwPwAAAAAAAAAAY3frEX5S3jwEAAAAAADwPxAAAAAAAPA/",
            "dtype": "f8"
           },
           "y": {
            "bdata": "AAAAAAAAAAAAAAAAAAAAAAAAAAAAAPA/H4UsVKIxwbwboG0JDm3QvOv//////+8/",
            "dtype": "f8"
           },
           "z": {
            "bdata": "AAAAAAAAAAAAAAAAAADgPwAAAAAAAOA/zx6F61G43j91j8L1KFzvP7UehetRuN4/",
            "dtype": "f8"
           }
          }
         ],
         "layout": {
          "annotations": [
           {
            "showarrow": false,
            "text": "Time: 0.23s (Step: 24/100)",
            "x": 0.05,
            "xref": "paper",
            "y": 0.95,
            "yref": "paper"
           }
          ]
         },
         "name": "23"
        },
        {
         "data": [
          {
           "name": "Free Nodes",
           "type": "scatter3d",
           "x": {
            "bdata": "AAAAAAAAAAAAAAAAAADwPwAAAAAAAAAAPrwPtNW03TwEAAAAAADwPxEAAAAAAPA/",
            "dtype": "f8"
           },
           "y": {
            "bdata": "AAAAAAAAAAAAAAAAAAAAAAAAAAAAAPA//cPi/FBYx7w7x0VXtzHOvOz//////+8/",
            "dtype": "f8"
           },
           "z": {
            "bdata": "AAAAAAAAAAAAAAAAAADgPwAAAAAAAOA/fmZmZmZm3j9NMzMzMzPvP2VmZmZmZt4/",
            "dtype": "f8"
           }
          },
          {
           "name": "Fixed Nodes",
           "type": "scatter3d",
           "x": [],
           "y": [],
           "z": []
          },
          {
           "name": "Edges",
           "type": "scatter3d",
           "x": [
            1,
            0,
            null,
            0,
            0,
            null,
            0,
            1,
            null,
            1.0000000000000009,
            1.0000000000000038,
            null,
            1.0000000000000038,
            1.6490356777071356e-15,
            null,
            1.6490356777071356e-15,
            1.0000000000000009,
            null
           ],
           "y": [
            0,
            1,
            null,
            1,
            0,
            null,
            0,
            0,
            null,
            -8.380575070090781e-16,
            0.9999999999999978,
            null,
            0.9999999999999978,
            -6.479535179596946e-16,
            null,
            -6.479535179596946e-16,
            -8.380575070090781e-16,
            null
           ],
           "z": [
            0.5,
            0.5,
            null,
            0.5,
            0,
            null,
            0,
            0.5,
            null,
            0.9750000000000029,
            0.4749999999999999,
            null,
            0.4749999999999999,
            0.4750000000000013,
            null,
            0.4750000000000013,
            0.9750000000000029,
            null
           ]
          },
          {
           "i": [
            0,
            3
           ],
           "j": [
            1,
            4
           ],
           "k": [
            2,
            5
           ],
           "name": "Faces",
           "type": "mesh3d",
           "x": {
            "bdata": "AAAAAAAAAAAAAAAAAADwPwAAAAAAAAAAPrwPtNW03TwEAAAAAADwPxEAAAAAAPA/",
            "dtype": "f8"
           },
           "y": {
            "bdata": "AAAAAAAAAAAAAAAAAAAAAAAAAAAAAPA//cPi/FBYx7w7x0VXtzHOvOz//////+8/",
            "dtype": "f8"
           },
           "z": {
            "bdata": "AAAAAAAAAAAAAAAAAADgPwAAAAAAAOA/fmZmZmZm3j9NMzMzMzPvP2VmZmZmZt4/",
            "dtype": "f8"
           }
          }
         ],
         "layout": {
          "annotations": [
           {
            "showarrow": false,
            "text": "Time: 0.24s (Step: 25/100)",
            "x": 0.05,
            "xref": "paper",
            "y": 0.95,
            "yref": "paper"
           }
          ]
         },
         "name": "24"
        },
        {
         "data": [
          {
           "name": "Free Nodes",
           "type": "scatter3d",
           "x": {
            "bdata": "AAAAAAAAAAAAAAAAAADwPwAAAAAAAAAA95f0iKRp4DwEAAAAAADwPxEAAAAAAPA/",
            "dtype": "f8"
           },
           "y": {
            "bdata": "AAAAAAAAAAAAAAAAAAAAAAAAAAAAAPA/yixEQwZnw7xExHj4Ew3PvOv//////+8/",
            "dtype": "f8"
           },
           "z": {
            "bdata": "AAAAAAAAAAAAAAAAAADgPwAAAAAAAOA/LK5H4XoU3j8m16NwPQrvPxSuR+F6FN4/",
            "dtype": "f8"
           }
          },
          {
           "name": "Fixed Nodes",
           "type": "scatter3d",
           "x": [],
           "y": [],
           "z": []
          },
          {
           "name": "Edges",
           "type": "scatter3d",
           "x": [
            1,
            0,
            null,
            0,
            0,
            null,
            0,
            1,
            null,
            1.0000000000000009,
            1.0000000000000038,
            null,
            1.0000000000000038,
            1.8221720637464442e-15,
            null,
            1.8221720637464442e-15,
            1.0000000000000009,
            null
           ],
           "y": [
            0,
            1,
            null,
            1,
            0,
            null,
            0,
            0,
            null,
            -8.618407647837465e-16,
            0.9999999999999977,
            null,
            0.9999999999999977,
            -5.385258714551642e-16,
            null,
            -5.385258714551642e-16,
            -8.618407647837465e-16,
            null
           ],
           "z": [
            0.5,
            0.5,
            null,
            0.5,
            0,
            null,
            0,
            0.5,
            null,
            0.9700000000000031,
            0.47,
            null,
            0.47,
            0.4700000000000013,
            null,
            0.4700000000000013,
            0.9700000000000031,
            null
           ]
          },
          {
           "i": [
            0,
            3
           ],
           "j": [
            1,
            4
           ],
           "k": [
            2,
            5
           ],
           "name": "Faces",
           "type": "mesh3d",
           "x": {
            "bdata": "AAAAAAAAAAAAAAAAAADwPwAAAAAAAAAA95f0iKRp4DwEAAAAAADwPxEAAAAAAPA/",
            "dtype": "f8"
           },
           "y": {
            "bdata": "AAAAAAAAAAAAAAAAAAAAAAAAAAAAAPA/yixEQwZnw7xExHj4Ew3PvOv//////+8/",
            "dtype": "f8"
           },
           "z": {
            "bdata": "AAAAAAAAAAAAAAAAAADgPwAAAAAAAOA/LK5H4XoU3j8m16NwPQrvPxSuR+F6FN4/",
            "dtype": "f8"
           }
          }
         ],
         "layout": {
          "annotations": [
           {
            "showarrow": false,
            "text": "Time: 0.25s (Step: 26/100)",
            "x": 0.05,
            "xref": "paper",
            "y": 0.95,
            "yref": "paper"
           }
          ]
         },
         "name": "25"
        },
        {
         "data": [
          {
           "name": "Free Nodes",
           "type": "scatter3d",
           "x": {
            "bdata": "AAAAAAAAAAAAAAAAAADwPwAAAAAAAAAAQ1mrSasQ4TwEAAAAAADwPxEAAAAAAPA/",
            "dtype": "f8"
           },
           "y": {
            "bdata": "AAAAAAAAAAAAAAAAAAAAAAAAAAAAAPA/0zuIe/g8w7zwm/G5RyrOvOv//////+8/",
            "dtype": "f8"
           },
           "z": {
            "bdata": "AAAAAAAAAAAAAAAAAADgPwAAAAAAAOA/2vUoXI/C3T//ehSuR+HuP8T1KFyPwt0/",
            "dtype": "f8"
           }
          },
          {
           "name": "Fixed Nodes",
           "type": "scatter3d",
           "x": [],
           "y": [],
           "z": []
          },
          {
           "name": "Edges",
           "type": "scatter3d",
           "x": [
            1,
            0,
            null,
            0,
            0,
            null,
            0,
            1,
            null,
            1.0000000000000009,
            1.0000000000000038,
            null,
            1.0000000000000038,
            1.8946082085373716e-15,
            null,
            1.8946082085373716e-15,
            1.0000000000000009,
            null
           ],
           "y": [
            0,
            1,
            null,
            1,
            0,
            null,
            0,
            0,
            null,
            -8.372512948811231e-16,
            0.9999999999999977,
            null,
            0.9999999999999977,
            -5.339663861841422e-16,
            null,
            -5.339663861841422e-16,
            -8.372512948811231e-16,
            null
           ],
           "z": [
            0.5,
            0.5,
            null,
            0.5,
            0,
            null,
            0,
            0.5,
            null,
            0.9650000000000033,
            0.4650000000000001,
            null,
            0.4650000000000001,
            0.4650000000000013,
            null,
            0.4650000000000013,
            0.9650000000000033,
            null
           ]
          },
          {
           "i": [
            0,
            3
           ],
           "j": [
            1,
            4
           ],
           "k": [
            2,
            5
           ],
           "name": "Faces",
           "type": "mesh3d",
           "x": {
            "bdata": "AAAAAAAAAAAAAAAAAADwPwAAAAAAAAAAQ1mrSasQ4TwEAAAAAADwPxEAAAAAAPA/",
            "dtype": "f8"
           },
           "y": {
            "bdata": "AAAAAAAAAAAAAAAAAAAAAAAAAAAAAPA/0zuIe/g8w7zwm/G5RyrOvOv//////+8/",
            "dtype": "f8"
           },
           "z": {
            "bdata": "AAAAAAAAAAAAAAAAAADgPwAAAAAAAOA/2vUoXI/C3T//ehSuR+HuP8T1KFyPwt0/",
            "dtype": "f8"
           }
          }
         ],
         "layout": {
          "annotations": [
           {
            "showarrow": false,
            "text": "Time: 0.26s (Step: 27/100)",
            "x": 0.05,
            "xref": "paper",
            "y": 0.95,
            "yref": "paper"
           }
          ]
         },
         "name": "26"
        },
        {
         "data": [
          {
           "name": "Free Nodes",
           "type": "scatter3d",
           "x": {
            "bdata": "AAAAAAAAAAAAAAAAAADwPwAAAAAAAAAA581SJNds4TwEAAAAAADwPxEAAAAAAPA/",
            "dtype": "f8"
           },
           "y": {
            "bdata": "AAAAAAAAAAAAAAAAAAAAAAAAAAAAAPA/E+pp5szAxLyks1mwYk/HvOr//////+8/",
            "dtype": "f8"
           },
           "z": {
            "bdata": "AAAAAAAAAAAAAAAAAADgPwAAAAAAAOA/iD0K16Nw3T/XHoXrUbjuP3U9CtejcN0/",
            "dtype": "f8"
           }
          },
          {
           "name": "Fixed Nodes",
           "type": "scatter3d",
           "x": [],
           "y": [],
           "z": []
          },
          {
           "name": "Edges",
           "type": "scatter3d",
           "x": [
            1,
            0,
            null,
            0,
            0,
            null,
            0,
            1,
            null,
            1.0000000000000009,
            1.0000000000000038,
            null,
            1.0000000000000038,
            1.934581140249917e-15,
            null,
            1.934581140249917e-15,
            1.0000000000000009,
            null
           ],
           "y": [
            0,
            1,
            null,
            1,
            0,
            null,
            0,
            0,
            null,
            -6.469852326837754e-16,
            0.9999999999999976,
            null,
            0.9999999999999976,
            -5.760149725724571e-16,
            null,
            -5.760149725724571e-16,
            -6.469852326837754e-16,
            null
           ],
           "z": [
            0.5,
            0.5,
            null,
            0.5,
            0,
            null,
            0,
            0.5,
            null,
            0.9600000000000034,
            0.46000000000000024,
            null,
            0.46000000000000024,
            0.4600000000000013,
            null,
            0.4600000000000013,
            0.9600000000000034,
            null
           ]
          },
          {
           "i": [
            0,
            3
           ],
           "j": [
            1,
            4
           ],
           "k": [
            2,
            5
           ],
           "name": "Faces",
           "type": "mesh3d",
           "x": {
            "bdata": "AAAAAAAAAAAAAAAAAADwPwAAAAAAAAAA581SJNds4TwEAAAAAADwPxEAAAAAAPA/",
            "dtype": "f8"
           },
           "y": {
            "bdata": "AAAAAAAAAAAAAAAAAAAAAAAAAAAAAPA/E+pp5szAxLyks1mwYk/HvOr//////+8/",
            "dtype": "f8"
           },
           "z": {
            "bdata": "AAAAAAAAAAAAAAAAAADgPwAAAAAAAOA/iD0K16Nw3T/XHoXrUbjuP3U9CtejcN0/",
            "dtype": "f8"
           }
          }
         ],
         "layout": {
          "annotations": [
           {
            "showarrow": false,
            "text": "Time: 0.27s (Step: 28/100)",
            "x": 0.05,
            "xref": "paper",
            "y": 0.95,
            "yref": "paper"
           }
          ]
         },
         "name": "27"
        },
        {
         "data": [
          {
           "name": "Free Nodes",
           "type": "scatter3d",
           "x": {
            "bdata": "AAAAAAAAAAAAAAAAAADwPwAAAAAAAAAAJgoGXKB/4TwEAAAAAADwPxEAAAAAAPA/",
            "dtype": "f8"
           },
           "y": {
            "bdata": "AAAAAAAAAAAAAAAAAAAAAAAAAAAAAPA/TgzNG76pybwy27SdNCrHvOz//////+8/",
            "dtype": "f8"
           },
           "z": {
            "bdata": "AAAAAAAAAAAAAAAAAADgPwAAAAAAAOA/NoXrUbge3T+wwvUoXI/uPySF61G4Ht0/",
            "dtype": "f8"
           }
          },
          {
           "name": "Fixed Nodes",
           "type": "scatter3d",
           "x": [],
           "y": [],
           "z": []
          },
          {
           "name": "Edges",
           "type": "scatter3d",
           "x": [
            1,
            0,
            null,
            0,
            0,
            null,
            0,
            1,
            null,
            1.0000000000000009,
            1.0000000000000038,
            null,
            1.0000000000000038,
            1.942728271729203e-15,
            null,
            1.942728271729203e-15,
            1.0000000000000009,
            null
           ],
           "y": [
            0,
            1,
            null,
            1,
            0,
            null,
            0,
            0,
            null,
            -6.429541720440011e-16,
            0.9999999999999978,
            null,
            0.9999999999999978,
            -7.122929212285622e-16,
            null,
            -7.122929212285622e-16,
            -6.429541720440011e-16,
            null
           ],
           "z": [
            0.5,
            0.5,
            null,
            0.5,
            0,
            null,
            0,
            0.5,
            null,
            0.9550000000000036,
            0.4550000000000003,
            null,
            0.4550000000000003,
            0.4550000000000013,
            null,
            0.4550000000000013,
            0.9550000000000036,
            null
           ]
          },
          {
           "i": [
            0,
            3
           ],
           "j": [
            1,
            4
           ],
           "k": [
            2,
            5
           ],
           "name": "Faces",
           "type": "mesh3d",
           "x": {
            "bdata": "AAAAAAAAAAAAAAAAAADwPwAAAAAAAAAAJgoGXKB/4TwEAAAAAADwPxEAAAAAAPA/",
            "dtype": "f8"
           },
           "y": {
            "bdata": "AAAAAAAAAAAAAAAAAAAAAAAAAAAAAPA/TgzNG76pybwy27SdNCrHvOz//////+8/",
            "dtype": "f8"
           },
           "z": {
            "bdata": "AAAAAAAAAAAAAAAAAADgPwAAAAAAAOA/NoXrUbge3T+wwvUoXI/uPySF61G4Ht0/",
            "dtype": "f8"
           }
          }
         ],
         "layout": {
          "annotations": [
           {
            "showarrow": false,
            "text": "Time: 0.28s (Step: 29/100)",
            "x": 0.05,
            "xref": "paper",
            "y": 0.95,
            "yref": "paper"
           }
          ]
         },
         "name": "28"
        },
        {
         "data": [
          {
           "name": "Free Nodes",
           "type": "scatter3d",
           "x": {
            "bdata": "AAAAAAAAAAAAAAAAAADwPwAAAAAAAAAAZO9TBFTn4jwDAAAAAADwPxEAAAAAAPA/",
            "dtype": "f8"
           },
           "y": {
            "bdata": "AAAAAAAAAAAAAAAAAAAAAAAAAAAAAPA/YevasIshzbx0L9nkJCHEvO3//////+8/",
            "dtype": "f8"
           },
           "z": {
            "bdata": "AAAAAAAAAAAAAAAAAADgPwAAAAAAAOA/5szMzMzM3D+IZmZmZmbuP9TMzMzMzNw/",
            "dtype": "f8"
           }
          },
          {
           "name": "Fixed Nodes",
           "type": "scatter3d",
           "x": [],
           "y": [],
           "z": []
          },
          {
           "name": "Edges",
           "type": "scatter3d",
           "x": [
            1,
            0,
            null,
            0,
            0,
            null,
            0,
            1,
            null,
            1.0000000000000007,
            1.0000000000000038,
            null,
            1.0000000000000038,
            2.0987240552375327e-15,
            null,
            2.0987240552375327e-15,
            1.0000000000000007,
            null
           ],
           "y": [
            0,
            1,
            null,
            1,
            0,
            null,
            0,
            0,
            null,
            -5.587050046727179e-16,
            0.9999999999999979,
            null,
            0.9999999999999979,
            -8.085487213945842e-16,
            null,
            -8.085487213945842e-16,
            -5.587050046727179e-16,
            null
           ],
           "z": [
            0.5,
            0.5,
            null,
            0.5,
            0,
            null,
            0,
            0.5,
            null,
            0.9500000000000037,
            0.4500000000000004,
            null,
            0.4500000000000004,
            0.4500000000000014,
            null,
            0.4500000000000014,
            0.9500000000000037,
            null
           ]
          },
          {
           "i": [
            0,
            3
           ],
           "j": [
            1,
            4
           ],
           "k": [
            2,
            5
           ],
           "name": "Faces",
           "type": "mesh3d",
           "x": {
            "bdata": "AAAAAAAAAAAAAAAAAADwPwAAAAAAAAAAZO9TBFTn4jwDAAAAAADwPxEAAAAAAPA/",
            "dtype": "f8"
           },
           "y": {
            "bdata": "AAAAAAAAAAAAAAAAAAAAAAAAAAAAAPA/YevasIshzbx0L9nkJCHEvO3//////+8/",
            "dtype": "f8"
           },
           "z": {
            "bdata": "AAAAAAAAAAAAAAAAAADgPwAAAAAAAOA/5szMzMzM3D+IZmZmZmbuP9TMzMzMzNw/",
            "dtype": "f8"
           }
          }
         ],
         "layout": {
          "annotations": [
           {
            "showarrow": false,
            "text": "Time: 0.29s (Step: 30/100)",
            "x": 0.05,
            "xref": "paper",
            "y": 0.95,
            "yref": "paper"
           }
          ]
         },
         "name": "29"
        },
        {
         "data": [
          {
           "name": "Free Nodes",
           "type": "scatter3d",
           "x": {
            "bdata": "AAAAAAAAAAAAAAAAAADwPwAAAAAAAAAAk+cPrbYZ4zwEAAAAAADwPxAAAAAAAPA/",
            "dtype": "f8"
           },
           "y": {
            "bdata": "AAAAAAAAAAAAAAAAAAAAAAAAAAAAAPA/TpBM2AmIyLxukw09htLCvOz//////+8/",
            "dtype": "f8"
           },
           "z": {
            "bdata": "AAAAAAAAAAAAAAAAAADgPwAAAAAAAOA/kxSuR+F63D9iCtejcD3uP4QUrkfhetw/",
            "dtype": "f8"
           }
          },
          {
           "name": "Fixed Nodes",
           "type": "scatter3d",
           "x": [],
           "y": [],
           "z": []
          },
          {
           "name": "Edges",
           "type": "scatter3d",
           "x": [
            1,
            0,
            null,
            0,
            0,
            null,
            0,
            1,
            null,
            1.0000000000000009,
            1.0000000000000036,
            null,
            1.0000000000000036,
            2.1205752337345447e-15,
            null,
            2.1205752337345447e-15,
            1.0000000000000009,
            null
           ],
           "y": [
            0,
            1,
            null,
            1,
            0,
            null,
            0,
            0,
            null,
            -5.22425458914749e-16,
            0.9999999999999978,
            null,
            0.9999999999999978,
            -6.808831338059653e-16,
            null,
            -6.808831338059653e-16,
            -5.22425458914749e-16,
            null
           ],
           "z": [
            0.5,
            0.5,
            null,
            0.5,
            0,
            null,
            0,
            0.5,
            null,
            0.9450000000000041,
            0.4450000000000005,
            null,
            0.4450000000000005,
            0.44500000000000134,
            null,
            0.44500000000000134,
            0.9450000000000041,
            null
           ]
          },
          {
           "i": [
            0,
            3
           ],
           "j": [
            1,
            4
           ],
           "k": [
            2,
            5
           ],
           "name": "Faces",
           "type": "mesh3d",
           "x": {
            "bdata": "AAAAAAAAAAAAAAAAAADwPwAAAAAAAAAAk+cPrbYZ4zwEAAAAAADwPxAAAAAAAPA/",
            "dtype": "f8"
           },
           "y": {
            "bdata": "AAAAAAAAAAAAAAAAAAAAAAAAAAAAAPA/TpBM2AmIyLxukw09htLCvOz//////+8/",
            "dtype": "f8"
           },
           "z": {
            "bdata": "AAAAAAAAAAAAAAAAAADgPwAAAAAAAOA/kxSuR+F63D9iCtejcD3uP4QUrkfhetw/",
            "dtype": "f8"
           }
          }
         ],
         "layout": {
          "annotations": [
           {
            "showarrow": false,
            "text": "Time: 0.30s (Step: 31/100)",
            "x": 0.05,
            "xref": "paper",
            "y": 0.95,
            "yref": "paper"
           }
          ]
         },
         "name": "30"
        },
        {
         "data": [
          {
           "name": "Free Nodes",
           "type": "scatter3d",
           "x": {
            "bdata": "AAAAAAAAAAAAAAAAAADwPwAAAAAAAAAAtMYaNo3R4jwEAAAAAADwPxAAAAAAAPA/",
            "dtype": "f8"
           },
           "y": {
            "bdata": "AAAAAAAAAAAAAAAAAAAAAAAAAAAAAPA/ymCReM/0zrxotzVGRne8vO3//////+8/",
            "dtype": "f8"
           },
           "z": {
            "bdata": "AAAAAAAAAAAAAAAAAADgPwAAAAAAAOA/QlyPwvUo3D86rkfhehTuPzVcj8L1KNw/",
            "dtype": "f8"
           }
          },
          {
           "name": "Fixed Nodes",
           "type": "scatter3d",
           "x": [],
           "y": [],
           "z": []
          },
          {
           "name": "Edges",
           "type": "scatter3d",
           "x": [
            1,
            0,
            null,
            0,
            0,
            null,
            0,
            1,
            null,
            1.0000000000000009,
            1.0000000000000036,
            null,
            1.0000000000000036,
            2.0892799672703684e-15,
            null,
            2.0892799672703684e-15,
            1.0000000000000009,
            null
           ],
           "y": [
            0,
            1,
            null,
            1,
            0,
            null,
            0,
            0,
            null,
            -3.950439426978805e-16,
            0.9999999999999979,
            null,
            0.9999999999999979,
            -8.592096688503854e-16,
            null,
            -8.592096688503854e-16,
            -3.950439426978805e-16,
            null
           ],
           "z": [
            0.5,
            0.5,
            null,
            0.5,
            0,
            null,
            0,
            0.5,
            null,
            0.9400000000000042,
            0.44000000000000067,
            null,
            0.44000000000000067,
            0.4400000000000014,
            null,
            0.4400000000000014,
            0.9400000000000042,
            null
           ]
          },
          {
           "i": [
            0,
            3
           ],
           "j": [
            1,
            4
           ],
           "k": [
            2,
            5
           ],
           "name": "Faces",
           "type": "mesh3d",
           "x": {
            "bdata": "AAAAAAAAAAAAAAAAAADwPwAAAAAAAAAAtMYaNo3R4jwEAAAAAADwPxAAAAAAAPA/",
            "dtype": "f8"
           },
           "y": {
            "bdata": "AAAAAAAAAAAAAAAAAAAAAAAAAAAAAPA/ymCReM/0zrxotzVGRne8vO3//////+8/",
            "dtype": "f8"
           },
           "z": {
            "bdata": "AAAAAAAAAAAAAAAAAADgPwAAAAAAAOA/QlyPwvUo3D86rkfhehTuPzVcj8L1KNw/",
            "dtype": "f8"
           }
          }
         ],
         "layout": {
          "annotations": [
           {
            "showarrow": false,
            "text": "Time: 0.31s (Step: 32/100)",
            "x": 0.05,
            "xref": "paper",
            "y": 0.95,
            "yref": "paper"
           }
          ]
         },
         "name": "31"
        },
        {
         "data": [
          {
           "name": "Free Nodes",
           "type": "scatter3d",
           "x": {
            "bdata": "AAAAAAAAAAAAAAAAAADwPwAAAAAAAAAAXgFjMono5DwEAAAAAADwPw8AAAAAAPA/",
            "dtype": "f8"
           },
           "y": {
            "bdata": "AAAAAAAAAAAAAAAAAAAAAAAAAAAAAPA/u8aIxDYnzryEmW3GWBK7vO3//////+8/",
            "dtype": "f8"
           },
           "z": {
            "bdata": "AAAAAAAAAAAAAAAAAADgPwAAAAAAAOA/8qNwPQrX2z8SUrgehevtP+WjcD0K19s/",
            "dtype": "f8"
           }
          },
          {
           "name": "Fixed Nodes",
           "type": "scatter3d",
           "x": [],
           "y": [],
           "z": []
          },
          {
           "name": "Edges",
           "type": "scatter3d",
           "x": [
            1,
            0,
            null,
            0,
            0,
            null,
            0,
            1,
            null,
            1.0000000000000009,
            1.0000000000000033,
            null,
            1.0000000000000033,
            2.3212924313159887e-15,
            null,
            2.3212924313159887e-15,
            1.0000000000000009,
            null
           ],
           "y": [
            0,
            1,
            null,
            1,
            0,
            null,
            0,
            0,
            null,
            -3.756948516269638e-16,
            0.9999999999999979,
            null,
            0.9999999999999979,
            -8.369188519698329e-16,
            null,
            -8.369188519698329e-16,
            -3.756948516269638e-16,
            null
           ],
           "z": [
            0.5,
            0.5,
            null,
            0.5,
            0,
            null,
            0,
            0.5,
            null,
            0.9350000000000043,
            0.4350000000000008,
            null,
            0.4350000000000008,
            0.4350000000000015,
            null,
            0.4350000000000015,
            0.9350000000000043,
            null
           ]
          },
          {
           "i": [
            0,
            3
           ],
           "j": [
            1,
            4
           ],
           "k": [
            2,
            5
           ],
           "name": "Faces",
           "type": "mesh3d",
           "x": {
            "bdata": "AAAAAAAAAAAAAAAAAADwPwAAAAAAAAAAXgFjMono5DwEAAAAAADwPw8AAAAAAPA/",
            "dtype": "f8"
           },
           "y": {
            "bdata": "AAAAAAAAAAAAAAAAAAAAAAAAAAAAAPA/u8aIxDYnzryEmW3GWBK7vO3//////+8/",
            "dtype": "f8"
           },
           "z": {
            "bdata": "AAAAAAAAAAAAAAAAAADgPwAAAAAAAOA/8qNwPQrX2z8SUrgehevtP+WjcD0K19s/",
            "dtype": "f8"
           }
          }
         ],
         "layout": {
          "annotations": [
           {
            "showarrow": false,
            "text": "Time: 0.32s (Step: 33/100)",
            "x": 0.05,
            "xref": "paper",
            "y": 0.95,
            "yref": "paper"
           }
          ]
         },
         "name": "32"
        },
        {
         "data": [
          {
           "name": "Free Nodes",
           "type": "scatter3d",
           "x": {
            "bdata": "AAAAAAAAAAAAAAAAAADwPwAAAAAAAAAA7xZyKim+5DwEAAAAAADwPw8AAAAAAPA/",
            "dtype": "f8"
           },
           "y": {
            "bdata": "AAAAAAAAAAAAAAAAAAAAAAAAAAAAAPA/FiHlSEw407xuT0Jyu6KzvO7//////+8/",
            "dtype": "f8"
           },
           "z": {
            "bdata": "AAAAAAAAAAAAAAAAAADgPwAAAAAAAOA/outRuB6F2z/q9Shcj8LtP5brUbgehds/",
            "dtype": "f8"
           }
          },
          {
           "name": "Fixed Nodes",
           "type": "scatter3d",
           "x": [],
           "y": [],
           "z": []
          },
          {
           "name": "Edges",
           "type": "scatter3d",
           "x": [
            1,
            0,
            null,
            0,
            0,
            null,
            0,
            1,
            null,
            1.0000000000000009,
            1.0000000000000033,
            null,
            1.0000000000000033,
            2.3029151519427187e-15,
            null,
            2.3029151519427187e-15,
            1.0000000000000009,
            null
           ],
           "y": [
            0,
            1,
            null,
            1,
            0,
            null,
            0,
            0,
            null,
            -2.724996992487413e-16,
            0.999999999999998,
            null,
            0.999999999999998,
            -1.0669195534191701e-15,
            null,
            -1.0669195534191701e-15,
            -2.724996992487413e-16,
            null
           ],
           "z": [
            0.5,
            0.5,
            null,
            0.5,
            0,
            null,
            0,
            0.5,
            null,
            0.9300000000000044,
            0.43000000000000094,
            null,
            0.43000000000000094,
            0.4300000000000016,
            null,
            0.4300000000000016,
            0.9300000000000044,
            null
           ]
          },
          {
           "i": [
            0,
            3
           ],
           "j": [
            1,
            4
           ],
           "k": [
            2,
            5
           ],
           "name": "Faces",
           "type": "mesh3d",
           "x": {
            "bdata": "AAAAAAAAAAAAAAAAAADwPwAAAAAAAAAA7xZyKim+5DwEAAAAAADwPw8AAAAAAPA/",
            "dtype": "f8"
           },
           "y": {
            "bdata": "AAAAAAAAAAAAAAAAAAAAAAAAAAAAAPA/FiHlSEw407xuT0Jyu6KzvO7//////+8/",
            "dtype": "f8"
           },
           "z": {
            "bdata": "AAAAAAAAAAAAAAAAAADgPwAAAAAAAOA/outRuB6F2z/q9Shcj8LtP5brUbgehds/",
            "dtype": "f8"
           }
          }
         ],
         "layout": {
          "annotations": [
           {
            "showarrow": false,
            "text": "Time: 0.33s (Step: 34/100)",
            "x": 0.05,
            "xref": "paper",
            "y": 0.95,
            "yref": "paper"
           }
          ]
         },
         "name": "33"
        },
        {
         "data": [
          {
           "name": "Free Nodes",
           "type": "scatter3d",
           "x": {
            "bdata": "AAAAAAAAAAAAAAAAAADwPwAAAAAAAAAAdQG+xiNJ5TwEAAAAAADwPw4AAAAAAPA/",
            "dtype": "f8"
           },
           "y": {
            "bdata": "AAAAAAAAAAAAAAAAAAAAAAAAAAAAAPA/A72dPfY+1bxb0QQWlq+tvO///////+8/",
            "dtype": "f8"
           },
           "z": {
            "bdata": "AAAAAAAAAAAAAAAAAADgPwAAAAAAAOA/UjMzMzMz2z/CmZmZmZntP0czMzMzM9s/",
            "dtype": "f8"
           }
          },
          {
           "name": "Fixed Nodes",
           "type": "scatter3d",
           "x": [],
           "y": [],
           "z": []
          },
          {
           "name": "Edges",
           "type": "scatter3d",
           "x": [
            1,
            0,
            null,
            0,
            0,
            null,
            0,
            1,
            null,
            1.0000000000000009,
            1.000000000000003,
            null,
            1.000000000000003,
            2.3631876626213356e-15,
            null,
            2.3631876626213356e-15,
            1.0000000000000009,
            null
           ],
           "y": [
            0,
            1,
            null,
            1,
            0,
            null,
            0,
            0,
            null,
            -2.0598719869246503e-16,
            0.9999999999999981,
            null,
            0.9999999999999981,
            -1.1793868567710487e-15,
            null,
            -1.1793868567710487e-15,
            -2.0598719869246503e-16,
            null
           ],
           "z": [
            0.5,
            0.5,
            null,
            0.5,
            0,
            null,
            0,
            0.5,
            null,
            0.9250000000000045,
            0.4250000000000011,
            null,
            0.4250000000000011,
            0.4250000000000017,
            null,
            0.4250000000000017,
            0.9250000000000045,
            null
           ]
          },
          {
           "i": [
            0,
            3
           ],
           "j": [
            1,
            4
           ],
           "k": [
            2,
            5
           ],
           "name": "Faces",
           "type": "mesh3d",
           "x": {
            "bdata": "AAAAAAAAAAAAAAAAAADwPwAAAAAAAAAAdQG+xiNJ5TwEAAAAAADwPw4AAAAAAPA/",
            "dtype": "f8"
           },
           "y": {
            "bdata": "AAAAAAAAAAAAAAAAAAAAAAAAAAAAAPA/A72dPfY+1bxb0QQWlq+tvO///////+8/",
            "dtype": "f8"
           },
           "z": {
            "bdata": "AAAAAAAAAAAAAAAAAADgPwAAAAAAAOA/UjMzMzMz2z/CmZmZmZntP0czMzMzM9s/",
            "dtype": "f8"
           }
          }
         ],
         "layout": {
          "annotations": [
           {
            "showarrow": false,
            "text": "Time: 0.34s (Step: 35/100)",
            "x": 0.05,
            "xref": "paper",
            "y": 0.95,
            "yref": "paper"
           }
          ]
         },
         "name": "34"
        },
        {
         "data": [
          {
           "name": "Free Nodes",
           "type": "scatter3d",
           "x": {
            "bdata": "AAAAAAAAAAAAAAAAAADwPwAAAAAAAAAAZjUQGLBx5TwEAAAAAADwPw0AAAAAAPA/",
            "dtype": "f8"
           },
           "y": {
            "bdata": "AAAAAAAAAAAAAAAAAAAAAAAAAAAAAPA//7SexF6C17y/tM5sEWSkvPD//////+8/",
            "dtype": "f8"
           },
           "z": {
            "bdata": "AAAAAAAAAAAAAAAAAADgPwAAAAAAAOA/AXsUrkfh2j+aPQrXo3DtP/h6FK5H4do/",
            "dtype": "f8"
           }
          },
          {
           "name": "Fixed Nodes",
           "type": "scatter3d",
           "x": [],
           "y": [],
           "z": []
          },
          {
           "name": "Edges",
           "type": "scatter3d",
           "x": [
            1,
            0,
            null,
            0,
            0,
            null,
            0,
            1,
            null,
            1.0000000000000009,
            1.0000000000000029,
            null,
            1.0000000000000029,
            2.380772604744267e-15,
            null,
            2.380772604744267e-15,
            1.0000000000000009,
            null
           ],
           "y": [
            0,
            1,
            null,
            1,
            0,
            null,
            0,
            0,
            null,
            -1.4149022845607594e-16,
            0.9999999999999982,
            null,
            0.9999999999999982,
            -1.3050260064614354e-15,
            null,
            -1.3050260064614354e-15,
            -1.4149022845607594e-16,
            null
           ],
           "z": [
            0.5,
            0.5,
            null,
            0.5,
            0,
            null,
            0,
            0.5,
            null,
            0.9200000000000046,
            0.42000000000000126,
            null,
            0.42000000000000126,
            0.42000000000000176,
            null,
            0.42000000000000176,
            0.9200000000000046,
            null
           ]
          },
          {
           "i": [
            0,
            3
           ],
           "j": [
            1,
            4
           ],
           "k": [
            2,
            5
           ],
           "name": "Faces",
           "type": "mesh3d",
           "x": {
            "bdata": "AAAAAAAAAAAAAAAAAADwPwAAAAAAAAAAZjUQGLBx5TwEAAAAAADwPw0AAAAAAPA/",
            "dtype": "f8"
           },
           "y": {
            "bdata": "AAAAAAAAAAAAAAAAAAAAAAAAAAAAAPA//7SexF6C17y/tM5sEWSkvPD//////+8/",
            "dtype": "f8"
           },
           "z": {
            "bdata": "AAAAAAAAAAAAAAAAAADgPwAAAAAAAOA/AXsUrkfh2j+aPQrXo3DtP/h6FK5H4do/",
            "dtype": "f8"
           }
          }
         ],
         "layout": {
          "annotations": [
           {
            "showarrow": false,
            "text": "Time: 0.35s (Step: 36/100)",
            "x": 0.05,
            "xref": "paper",
            "y": 0.95,
            "yref": "paper"
           }
          ]
         },
         "name": "35"
        },
        {
         "data": [
          {
           "name": "Free Nodes",
           "type": "scatter3d",
           "x": {
            "bdata": "AAAAAAAAAAAAAAAAAADwPwAAAAAAAAAAaJnHCuZ85TwEAAAAAADwPwwAAAAAAPA/",
            "dtype": "f8"
           },
           "y": {
            "bdata": "AAAAAAAAAAAAAAAAAAAAAAAAAAAAAPA/gLTBZ8Cw2bya1tgHUQKSvPH//////+8/",
            "dtype": "f8"
           },
           "z": {
            "bdata": "AAAAAAAAAAAAAAAAAADgPwAAAAAAAOA/sML1KFyP2j9y4XoUrkftP6nC9Shcj9o/",
            "dtype": "f8"
           }
          },
          {
           "name": "Fixed Nodes",
           "type": "scatter3d",
           "x": [],
           "y": [],
           "z": []
          },
          {
           "name": "Edges",
           "type": "scatter3d",
           "x": [
            1,
            0,
            null,
            0,
            0,
            null,
            0,
            1,
            null,
            1.0000000000000009,
            1.0000000000000027,
            null,
            1.0000000000000027,
            2.3856344859578152e-15,
            null,
            2.3856344859578152e-15,
            1.0000000000000009,
            null
           ],
           "y": [
            0,
            1,
            null,
            1,
            0,
            null,
            0,
            0,
            null,
            -6.248143991649931e-17,
            0.9999999999999983,
            null,
            0.9999999999999983,
            -1.4261056708808e-15,
            null,
            -1.4261056708808e-15,
            -6.248143991649931e-17,
            null
           ],
           "z": [
            0.5,
            0.5,
            null,
            0.5,
            0,
            null,
            0,
            0.5,
            null,
            0.9150000000000047,
            0.4150000000000014,
            null,
            0.4150000000000014,
            0.4150000000000018,
            null,
            0.4150000000000018,
            0.9150000000000047,
            null
           ]
          },
          {
           "i": [
            0,
            3
           ],
           "j": [
            1,
            4
           ],
           "k": [
            2,
            5
           ],
           "name": "Faces",
           "type": "mesh3d",
           "x": {
            "bdata": "AAAAAAAAAAAAAAAAAADwPwAAAAAAAAAAaJnHCuZ85TwEAAAAAADwPwwAAAAAAPA/",
            "dtype": "f8"
           },
           "y": {
            "bdata": "AAAAAAAAAAAAAAAAAAAAAAAAAAAAAPA/gLTBZ8Cw2bya1tgHUQKSvPH//////+8/",
            "dtype": "f8"
           },
           "z": {
            "bdata": "AAAAAAAAAAAAAAAAAADgPwAAAAAAAOA/sML1KFyP2j9y4XoUrkftP6nC9Shcj9o/",
            "dtype": "f8"
           }
          }
         ],
         "layout": {
          "annotations": [
           {
            "showarrow": false,
            "text": "Time: 0.36s (Step: 37/100)",
            "x": 0.05,
            "xref": "paper",
            "y": 0.95,
            "yref": "paper"
           }
          ]
         },
         "name": "36"
        },
        {
         "data": [
          {
           "name": "Free Nodes",
           "type": "scatter3d",
           "x": {
            "bdata": "AAAAAAAAAAAAAAAAAADwPwAAAAAAAAAAhzXaW7Wc5TwEAAAAAADwPwsAAAAAAPA/",
            "dtype": "f8"
           },
           "y": {
            "bdata": "AAAAAAAAAAAAAAAAAAAAAAAAAAAAAPA/ZEE2JHjh27x8pF8mlGt7PPL//////+8/",
            "dtype": "f8"
           },
           "z": {
            "bdata": "AAAAAAAAAAAAAAAAAADgPwAAAAAAAOA/XwrXo3A92j9KhetRuB7tP1oK16NwPdo/",
            "dtype": "f8"
           }
          },
          {
           "name": "Fixed Nodes",
           "type": "scatter3d",
           "x": [],
           "y": [],
           "z": []
          },
          {
           "name": "Edges",
           "type": "scatter3d",
           "x": [
            1,
            0,
            null,
            0,
            0,
            null,
            0,
            1,
            null,
            1.0000000000000009,
            1.0000000000000024,
            null,
            1.0000000000000024,
            2.399429801030889e-15,
            null,
            2.399429801030889e-15,
            1.0000000000000009,
            null
           ],
           "y": [
            0,
            1,
            null,
            1,
            0,
            null,
            0,
            0,
            null,
            2.378325777467107e-17,
            0.9999999999999984,
            null,
            0.9999999999999984,
            -1.5476919447747228e-15,
            null,
            -1.5476919447747228e-15,
            2.378325777467107e-17,
            null
           ],
           "z": [
            0.5,
            0.5,
            null,
            0.5,
            0,
            null,
            0,
            0.5,
            null,
            0.9100000000000048,
            0.4100000000000016,
            null,
            0.4100000000000016,
            0.41000000000000186,
            null,
            0.41000000000000186,
            0.9100000000000048,
            null
           ]
          },
          {
           "i": [
            0,
            3
           ],
           "j": [
            1,
            4
           ],
           "k": [
            2,
            5
           ],
           "name": "Faces",
           "type": "mesh3d",
           "x": {
            "bdata": "AAAAAAAAAAAAAAAAAADwPwAAAAAAAAAAhzXaW7Wc5TwEAAAAAADwPwsAAAAAAPA/",
            "dtype": "f8"
           },
           "y": {
            "bdata": "AAAAAAAAAAAAAAAAAAAAAAAAAAAAAPA/ZEE2JHjh27x8pF8mlGt7PPL//////+8/",
            "dtype": "f8"
           },
           "z": {
            "bdata": "AAAAAAAAAAAAAAAAAADgPwAAAAAAAOA/XwrXo3A92j9KhetRuB7tP1oK16NwPdo/",
            "dtype": "f8"
           }
          }
         ],
         "layout": {
          "annotations": [
           {
            "showarrow": false,
            "text": "Time: 0.37s (Step: 38/100)",
            "x": 0.05,
            "xref": "paper",
            "y": 0.95,
            "yref": "paper"
           }
          ]
         },
         "name": "37"
        },
        {
         "data": [
          {
           "name": "Free Nodes",
           "type": "scatter3d",
           "x": {
            "bdata": "AAAAAAAAAAAAAAAAAADwPwAAAAAAAAAA2RR9mFjj5DwEAAAAAADwPwoAAAAAAPA/",
            "dtype": "f8"
           },
           "y": {
            "bdata": "AAAAAAAAAAAAAAAAAAAAAAAAAAAAAPA/JxYavLKY3bx+qVGGz8SbPPP//////+8/",
            "dtype": "f8"
           },
           "z": {
            "bdata": "AAAAAAAAAAAAAAAAAADgPwAAAAAAAOA/DVK4HoXr2T8jKVyPwvXsPwtSuB6F69k/",
            "dtype": "f8"
           }
          },
          {
           "name": "Fixed Nodes",
           "type": "scatter3d",
           "x": [],
           "y": [],
           "z": []
          },
          {
           "name": "Edges",
           "type": "scatter3d",
           "x": [
            1,
            0,
            null,
            0,
            0,
            null,
            0,
            1,
            null,
            1.0000000000000009,
            1.0000000000000022,
            null,
            1.0000000000000022,
            2.319041693395618e-15,
            null,
            2.319041693395618e-15,
            1.0000000000000009,
            null
           ],
           "y": [
            0,
            1,
            null,
            1,
            0,
            null,
            0,
            0,
            null,
            9.63423492906088e-17,
            0.9999999999999986,
            null,
            0.9999999999999986,
            -1.6429345259916288e-15,
            null,
            -1.6429345259916288e-15,
            9.63423492906088e-17,
            null
           ],
           "z": [
            0.5,
            0.5,
            null,
            0.5,
            0,
            null,
            0,
            0.5,
            null,
            0.905000000000005,
            0.40500000000000175,
            null,
            0.40500000000000175,
            0.40500000000000186,
            null,
            0.40500000000000186,
            0.905000000000005,
            null
           ]
          },
          {
           "i": [
            0,
            3
           ],
           "j": [
            1,
            4
           ],
           "k": [
            2,
            5
           ],
           "name": "Faces",
           "type": "mesh3d",
           "x": {
            "bdata": "AAAAAAAAAAAAAAAAAADwPwAAAAAAAAAA2RR9mFjj5DwEAAAAAADwPwoAAAAAAPA/",
            "dtype": "f8"
           },
           "y": {
            "bdata": "AAAAAAAAAAAAAAAAAAAAAAAAAAAAAPA/JxYavLKY3bx+qVGGz8SbPPP//////+8/",
            "dtype": "f8"
           },
           "z": {
            "bdata": "AAAAAAAAAAAAAAAAAADgPwAAAAAAAOA/DVK4HoXr2T8jKVyPwvXsPwtSuB6F69k/",
            "dtype": "f8"
           }
          }
         ],
         "layout": {
          "annotations": [
           {
            "showarrow": false,
            "text": "Time: 0.38s (Step: 39/100)",
            "x": 0.05,
            "xref": "paper",
            "y": 0.95,
            "yref": "paper"
           }
          ]
         },
         "name": "38"
        },
        {
         "data": [
          {
           "name": "Free Nodes",
           "type": "scatter3d",
           "x": {
            "bdata": "AAAAAAAAAAAAAAAAAADwPwAAAAAAAAAAQ3yFYKuv5DwEAAAAAADwPwkAAAAAAPA/",
            "dtype": "f8"
           },
           "y": {
            "bdata": "AAAAAAAAAAAAAAAAAAAAAAAAAAAAAPA/hnyMSwSW37z8paFB5qSnPPT//////+8/",
            "dtype": "f8"
           },
           "z": {
            "bdata": "AAAAAAAAAAAAAAAAAADgPwAAAAAAAOA/vJmZmZmZ2T/7zMzMzMzsP7yZmZmZmdk/",
            "dtype": "f8"
           }
          },
          {
           "name": "Fixed Nodes",
           "type": "scatter3d",
           "x": [],
           "y": [],
           "z": []
          },
          {
           "name": "Edges",
           "type": "scatter3d",
           "x": [
            1,
            0,
            null,
            0,
            0,
            null,
            0,
            1,
            null,
            1.0000000000000009,
            1.000000000000002,
            null,
            1.000000000000002,
            2.2966305253174865e-15,
            null,
            2.2966305253174865e-15,
            1.0000000000000009,
            null
           ],
           "y": [
            0,
            1,
            null,
            1,
            0,
            null,
            0,
            0,
            null,
            1.6406416803881733e-16,
            0.9999999999999987,
            null,
            0.9999999999999987,
            -1.753375391445275e-15,
            null,
            -1.753375391445275e-15,
            1.6406416803881733e-16,
            null
           ],
           "z": [
            0.5,
            0.5,
            null,
            0.5,
            0,
            null,
            0,
            0.5,
            null,
            0.9000000000000051,
            0.4000000000000019,
            null,
            0.4000000000000019,
            0.4000000000000019,
            null,
            0.4000000000000019,
            0.9000000000000051,
            null
           ]
          },
          {
           "i": [
            0,
            3
           ],
           "j": [
            1,
            4
           ],
           "k": [
            2,
            5
           ],
           "name": "Faces",
           "type": "mesh3d",
           "x": {
            "bdata": "AAAAAAAAAAAAAAAAAADwPwAAAAAAAAAAQ3yFYKuv5DwEAAAAAADwPwkAAAAAAPA/",
            "dtype": "f8"
           },
           "y": {
            "bdata": "AAAAAAAAAAAAAAAAAAAAAAAAAAAAAPA/hnyMSwSW37z8paFB5qSnPPT//////+8/",
            "dtype": "f8"
           },
           "z": {
            "bdata": "AAAAAAAAAAAAAAAAAADgPwAAAAAAAOA/vJmZmZmZ2T/7zMzMzMzsP7yZmZmZmdk/",
            "dtype": "f8"
           }
          }
         ],
         "layout": {
          "annotations": [
           {
            "showarrow": false,
            "text": "Time: 0.39s (Step: 40/100)",
            "x": 0.05,
            "xref": "paper",
            "y": 0.95,
            "yref": "paper"
           }
          ]
         },
         "name": "39"
        },
        {
         "data": [
          {
           "name": "Free Nodes",
           "type": "scatter3d",
           "x": {
            "bdata": "AAAAAAAAAAAAAAAAAADwPwAAAAAAAAAA1uqM3B0+5TwDAAAAAADwPwgAAAAAAPA/",
            "dtype": "f8"
           },
           "y": {
            "bdata": "AAAAAAAAAAAAAAAAAAAAAAAAAAAAAPA/TB7dZ7Ji4byCFhlMFey4PPT//////+8/",
            "dtype": "f8"
           },
           "z": {
            "bdata": "AAAAAAAAAAAAAAAAAADgPwAAAAAAAOA/bOF6FK5H2T/ScD0K16PsP27hehSuR9k/",
            "dtype": "f8"
           }
          },
          {
           "name": "Fixed Nodes",
           "type": "scatter3d",
           "x": [],
           "y": [],
           "z": []
          },
          {
           "name": "Edges",
           "type": "scatter3d",
           "x": [
            1,
            0,
            null,
            0,
            0,
            null,
            0,
            1,
            null,
            1.0000000000000007,
            1.0000000000000018,
            null,
            1.0000000000000018,
            2.3584071529819156e-15,
            null,
            2.3584071529819156e-15,
            1.0000000000000007,
            null
           ],
           "y": [
            0,
            1,
            null,
            1,
            0,
            null,
            0,
            0,
            null,
            3.45865002892639e-16,
            0.9999999999999987,
            null,
            0.9999999999999987,
            -1.9301820980660205e-15,
            null,
            -1.9301820980660205e-15,
            3.45865002892639e-16,
            null
           ],
           "z": [
            0.5,
            0.5,
            null,
            0.5,
            0,
            null,
            0,
            0.5,
            null,
            0.8950000000000051,
            0.3950000000000021,
            null,
            0.3950000000000021,
            0.395000000000002,
            null,
            0.395000000000002,
            0.8950000000000051,
            null
           ]
          },
          {
           "i": [
            0,
            3
           ],
           "j": [
            1,
            4
           ],
           "k": [
            2,
            5
           ],
           "name": "Faces",
           "type": "mesh3d",
           "x": {
            "bdata": "AAAAAAAAAAAAAAAAAADwPwAAAAAAAAAA1uqM3B0+5TwDAAAAAADwPwgAAAAAAPA/",
            "dtype": "f8"
           },
           "y": {
            "bdata": "AAAAAAAAAAAAAAAAAAAAAAAAAAAAAPA/TB7dZ7Ji4byCFhlMFey4PPT//////+8/",
            "dtype": "f8"
           },
           "z": {
            "bdata": "AAAAAAAAAAAAAAAAAADgPwAAAAAAAOA/bOF6FK5H2T/ScD0K16PsP27hehSuR9k/",
            "dtype": "f8"
           }
          }
         ],
         "layout": {
          "annotations": [
           {
            "showarrow": false,
            "text": "Time: 0.40s (Step: 41/100)",
            "x": 0.05,
            "xref": "paper",
            "y": 0.95,
            "yref": "paper"
           }
          ]
         },
         "name": "40"
        },
        {
         "data": [
          {
           "name": "Free Nodes",
           "type": "scatter3d",
           "x": {
            "bdata": "AAAAAAAAAAAAAAAAAADwPwAAAAAAAAAAIXhllpxt5DwDAAAAAADwPwcAAAAAAPA/",
            "dtype": "f8"
           },
           "y": {
            "bdata": "AAAAAAAAAAAAAAAAAAAAAAAAAAAAAPA/26h1kxQM4rzO+vHZ0KO1PPb//////+8/",
            "dtype": "f8"
           },
           "z": {
            "bdata": "AAAAAAAAAAAAAAAAAADgPwAAAAAAAOA/GSlcj8L12D+rFK5H4XrsPx4pXI/C9dg/",
            "dtype": "f8"
           }
          },
          {
           "name": "Fixed Nodes",
           "type": "scatter3d",
           "x": [],
           "y": [],
           "z": []
          },
          {
           "name": "Edges",
           "type": "scatter3d",
           "x": [
            1,
            0,
            null,
            0,
            0,
            null,
            0,
            1,
            null,
            1.0000000000000007,
            1.0000000000000016,
            null,
            1.0000000000000016,
            2.2679825334898782e-15,
            null,
            2.2679825334898782e-15,
            1.0000000000000007,
            null
           ],
           "y": [
            0,
            1,
            null,
            1,
            0,
            null,
            0,
            0,
            null,
            3.003140176631892e-16,
            0.9999999999999989,
            null,
            0.9999999999999989,
            -2.003640471876932e-15,
            null,
            -2.003640471876932e-15,
            3.003140176631892e-16,
            null
           ],
           "z": [
            0.5,
            0.5,
            null,
            0.5,
            0,
            null,
            0,
            0.5,
            null,
            0.8900000000000053,
            0.39000000000000223,
            null,
            0.39000000000000223,
            0.39000000000000196,
            null,
            0.39000000000000196,
            0.8900000000000053,
            null
           ]
          },
          {
           "i": [
            0,
            3
           ],
           "j": [
            1,
            4
           ],
           "k": [
            2,
            5
           ],
           "name": "Faces",
           "type": "mesh3d",
           "x": {
            "bdata": "AAAAAAAAAAAAAAAAAADwPwAAAAAAAAAAIXhllpxt5DwDAAAAAADwPwcAAAAAAPA/",
            "dtype": "f8"
           },
           "y": {
            "bdata": "AAAAAAAAAAAAAAAAAAAAAAAAAAAAAPA/26h1kxQM4rzO+vHZ0KO1PPb//////+8/",
            "dtype": "f8"
           },
           "z": {
            "bdata": "AAAAAAAAAAAAAAAAAADgPwAAAAAAAOA/GSlcj8L12D+rFK5H4XrsPx4pXI/C9dg/",
            "dtype": "f8"
           }
          }
         ],
         "layout": {
          "annotations": [
           {
            "showarrow": false,
            "text": "Time: 0.41s (Step: 42/100)",
            "x": 0.05,
            "xref": "paper",
            "y": 0.95,
            "yref": "paper"
           }
          ]
         },
         "name": "41"
        },
        {
         "data": [
          {
           "name": "Free Nodes",
           "type": "scatter3d",
           "x": {
            "bdata": "AAAAAAAAAAAAAAAAAADwPwAAAAAAAAAAung+3rpd5DwDAAAAAADwPwYAAAAAAPA/",
            "dtype": "f8"
           },
           "y": {
            "bdata": "AAAAAAAAAAAAAAAAAAAAAAAAAAAAAPA/UedhBTPr4rzRSrfrtFy7PPf//////+8/",
            "dtype": "f8"
           },
           "z": {
            "bdata": "AAAAAAAAAAAAAAAAAADgPwAAAAAAAOA/x3A9Ctej2D+DuB6F61HsP89wPQrXo9g/",
            "dtype": "f8"
           }
          },
          {
           "name": "Fixed Nodes",
           "type": "scatter3d",
           "x": [],
           "y": [],
           "z": []
          },
          {
           "name": "Edges",
           "type": "scatter3d",
           "x": [
            1,
            0,
            null,
            0,
            0,
            null,
            0,
            1,
            null,
            1.0000000000000007,
            1.0000000000000013,
            null,
            1.0000000000000013,
            2.261094937010773e-15,
            null,
            2.261094937010773e-15,
            1.0000000000000007,
            null
           ],
           "y": [
            0,
            1,
            null,
            1,
            0,
            null,
            0,
            0,
            null,
            3.7972591226674325e-16,
            0.999999999999999,
            null,
            0.999999999999999,
            -2.100402881517512e-15,
            null,
            -2.100402881517512e-15,
            3.7972591226674325e-16,
            null
           ],
           "z": [
            0.5,
            0.5,
            null,
            0.5,
            0,
            null,
            0,
            0.5,
            null,
            0.8850000000000054,
            0.3850000000000024,
            null,
            0.3850000000000024,
            0.38500000000000195,
            null,
            0.38500000000000195,
            0.8850000000000054,
            null
           ]
          },
          {
           "i": [
            0,
            3
           ],
           "j": [
            1,
            4
           ],
           "k": [
            2,
            5
           ],
           "name": "Faces",
           "type": "mesh3d",
           "x": {
            "bdata": "AAAAAAAAAAAAAAAAAADwPwAAAAAAAAAAung+3rpd5DwDAAAAAADwPwYAAAAAAPA/",
            "dtype": "f8"
           },
           "y": {
            "bdata": "AAAAAAAAAAAAAAAAAAAAAAAAAAAAAPA/UedhBTPr4rzRSrfrtFy7PPf//////+8/",
            "dtype": "f8"
           },
           "z": {
            "bdata": "AAAAAAAAAAAAAAAAAADgPwAAAAAAAOA/x3A9Ctej2D+DuB6F61HsP89wPQrXo9g/",
            "dtype": "f8"
           }
          }
         ],
         "layout": {
          "annotations": [
           {
            "showarrow": false,
            "text": "Time: 0.42s (Step: 43/100)",
            "x": 0.05,
            "xref": "paper",
            "y": 0.95,
            "yref": "paper"
           }
          ]
         },
         "name": "42"
        },
        {
         "data": [
          {
           "name": "Free Nodes",
           "type": "scatter3d",
           "x": {
            "bdata": "AAAAAAAAAAAAAAAAAADwPwAAAAAAAAAA0IBSFT8Y5TwCAAAAAADwPwUAAAAAAPA/",
            "dtype": "f8"
           },
           "y": {
            "bdata": "AAAAAAAAAAAAAAAAAAAAAAAAAAAAAPA/dyq3pVZc5LxioFDvU2jFPPj//////+8/",
            "dtype": "f8"
           },
           "z": {
            "bdata": "AAAAAAAAAAAAAAAAAADgPwAAAAAAAOA/drgehetR2D9aXI/C9SjsP4G4HoXrUdg/",
            "dtype": "f8"
           }
          },
          {
           "name": "Fixed Nodes",
           "type": "scatter3d",
           "x": [],
           "y": [],
           "z": []
          },
          {
           "name": "Edges",
           "type": "scatter3d",
           "x": [
            1,
            0,
            null,
            0,
            0,
            null,
            0,
            1,
            null,
            1.0000000000000004,
            1.000000000000001,
            null,
            1.000000000000001,
            2.3419835598190436e-15,
            null,
            2.3419835598190436e-15,
            1.0000000000000004,
            null
           ],
           "y": [
            0,
            1,
            null,
            1,
            0,
            null,
            0,
            0,
            null,
            5.941783383027368e-16,
            0.9999999999999991,
            null,
            0.9999999999999991,
            -2.260491475477843e-15,
            null,
            -2.260491475477843e-15,
            5.941783383027368e-16,
            null
           ],
           "z": [
            0.5,
            0.5,
            null,
            0.5,
            0,
            null,
            0,
            0.5,
            null,
            0.8800000000000054,
            0.3800000000000026,
            null,
            0.3800000000000026,
            0.380000000000002,
            null,
            0.380000000000002,
            0.8800000000000054,
            null
           ]
          },
          {
           "i": [
            0,
            3
           ],
           "j": [
            1,
            4
           ],
           "k": [
            2,
            5
           ],
           "name": "Faces",
           "type": "mesh3d",
           "x": {
            "bdata": "AAAAAAAAAAAAAAAAAADwPwAAAAAAAAAA0IBSFT8Y5TwCAAAAAADwPwUAAAAAAPA/",
            "dtype": "f8"
           },
           "y": {
            "bdata": "AAAAAAAAAAAAAAAAAAAAAAAAAAAAAPA/dyq3pVZc5LxioFDvU2jFPPj//////+8/",
            "dtype": "f8"
           },
           "z": {
            "bdata": "AAAAAAAAAAAAAAAAAADgPwAAAAAAAOA/drgehetR2D9aXI/C9SjsP4G4HoXrUdg/",
            "dtype": "f8"
           }
          }
         ],
         "layout": {
          "annotations": [
           {
            "showarrow": false,
            "text": "Time: 0.43s (Step: 44/100)",
            "x": 0.05,
            "xref": "paper",
            "y": 0.95,
            "yref": "paper"
           }
          ]
         },
         "name": "43"
        },
        {
         "data": [
          {
           "name": "Free Nodes",
           "type": "scatter3d",
           "x": {
            "bdata": "AAAAAAAAAAAAAAAAAADwPwAAAAAAAAAAiVBYSi1H5DwCAAAAAADwPwQAAAAAAPA/",
            "dtype": "f8"
           },
           "y": {
            "bdata": "AAAAAAAAAAAAAAAAAAAAAAAAAAAAAPA/xKHOugXs5Lyivc8DjcDKPPn//////+8/",
            "dtype": "f8"
           },
           "z": {
            "bdata": "AAAAAAAAAAAAAAAAAADgPwAAAAAAAOA/IwAAAAAA2D8zAAAAAADsPzIAAAAAANg/",
            "dtype": "f8"
           }
          },
          {
           "name": "Fixed Nodes",
           "type": "scatter3d",
           "x": [],
           "y": [],
           "z": []
          },
          {
           "name": "Edges",
           "type": "scatter3d",
           "x": [
            1,
            0,
            null,
            0,
            0,
            null,
            0,
            1,
            null,
            1.0000000000000004,
            1.0000000000000009,
            null,
            1.0000000000000009,
            2.2513141158879556e-15,
            null,
            2.2513141158879556e-15,
            1.0000000000000004,
            null
           ],
           "y": [
            0,
            1,
            null,
            1,
            0,
            null,
            0,
            0,
            null,
            7.425213698464317e-16,
            0.9999999999999992,
            null,
            0.9999999999999992,
            -2.322804440848478e-15,
            null,
            -2.322804440848478e-15,
            7.425213698464317e-16,
            null
           ],
           "z": [
            0.5,
            0.5,
            null,
            0.5,
            0,
            null,
            0,
            0.5,
            null,
            0.8750000000000057,
            0.3750000000000028,
            null,
            0.3750000000000028,
            0.37500000000000194,
            null,
            0.37500000000000194,
            0.8750000000000057,
            null
           ]
          },
          {
           "i": [
            0,
            3
           ],
           "j": [
            1,
            4
           ],
           "k": [
            2,
            5
           ],
           "name": "Faces",
           "type": "mesh3d",
           "x": {
            "bdata": "AAAAAAAAAAAAAAAAAADwPwAAAAAAAAAAiVBYSi1H5DwCAAAAAADwPwQAAAAAAPA/",
            "dtype": "f8"
           },
           "y": {
            "bdata": "AAAAAAAAAAAAAAAAAAAAAAAAAAAAAPA/xKHOugXs5Lyivc8DjcDKPPn//////+8/",
            "dtype": "f8"
           },
           "z": {
            "bdata": "AAAAAAAAAAAAAAAAAADgPwAAAAAAAOA/IwAAAAAA2D8zAAAAAADsPzIAAAAAANg/",
            "dtype": "f8"
           }
          }
         ],
         "layout": {
          "annotations": [
           {
            "showarrow": false,
            "text": "Time: 0.44s (Step: 45/100)",
            "x": 0.05,
            "xref": "paper",
            "y": 0.95,
            "yref": "paper"
           }
          ]
         },
         "name": "44"
        },
        {
         "data": [
          {
           "name": "Free Nodes",
           "type": "scatter3d",
           "x": {
            "bdata": "AAAAAAAAAAAAAAAAAADwPwAAAAAAAAAA8xKaTeh25DwCAAAAAADwPwMAAAAAAPA/",
            "dtype": "f8"
           },
           "y": {
            "bdata": "AAAAAAAAAAAAAAAAAAAAAAAAAAAAAPA/x9dAcKJD5bwysxBFrkLLPPv//////+8/",
            "dtype": "f8"
           },
           "z": {
            "bdata": "AAAAAAAAAAAAAAAAAADgPwAAAAAAAOA/0UfhehSu1z8MpHA9CtfrP+JH4XoUrtc/",
            "dtype": "f8"
           }
          },
          {
           "name": "Fixed Nodes",
           "type": "scatter3d",
           "x": [],
           "y": [],
           "z": []
          },
          {
           "name": "Edges",
           "type": "scatter3d",
           "x": [
            1,
            0,
            null,
            0,
            0,
            null,
            0,
            1,
            null,
            1.0000000000000004,
            1.0000000000000007,
            null,
            1.0000000000000007,
            2.2720139286051323e-15,
            null,
            2.2720139286051323e-15,
            1.0000000000000004,
            null
           ],
           "y": [
            0,
            1,
            null,
            1,
            0,
            null,
            0,
            0,
            null,
            7.566300820856418e-16,
            0.9999999999999994,
            null,
            0.9999999999999994,
            -2.3608001514403287e-15,
            null,
            -2.3608001514403287e-15,
            7.566300820856418e-16,
            null
           ],
           "z": [
            0.5,
            0.5,
            null,
            0.5,
            0,
            null,
            0,
            0.5,
            null,
            0.8700000000000059,
            0.3700000000000029,
            null,
            0.3700000000000029,
            0.37000000000000194,
            null,
            0.37000000000000194,
            0.8700000000000059,
            null
           ]
          },
          {
           "i": [
            0,
            3
           ],
           "j": [
            1,
            4
           ],
           "k": [
            2,
            5
           ],
           "name": "Faces",
           "type": "mesh3d",
           "x": {
            "bdata": "AAAAAAAAAAAAAAAAAADwPwAAAAAAAAAA8xKaTeh25DwCAAAAAADwPwMAAAAAAPA/",
            "dtype": "f8"
           },
           "y": {
            "bdata": "AAAAAAAAAAAAAAAAAAAAAAAAAAAAAPA/x9dAcKJD5bwysxBFrkLLPPv//////+8/",
            "dtype": "f8"
           },
           "z": {
            "bdata": "AAAAAAAAAAAAAAAAAADgPwAAAAAAAOA/0UfhehSu1z8MpHA9CtfrP+JH4XoUrtc/",
            "dtype": "f8"
           }
          }
         ],
         "layout": {
          "annotations": [
           {
            "showarrow": false,
            "text": "Time: 0.45s (Step: 46/100)",
            "x": 0.05,
            "xref": "paper",
            "y": 0.95,
            "yref": "paper"
           }
          ]
         },
         "name": "45"
        },
        {
         "data": [
          {
           "name": "Free Nodes",
           "type": "scatter3d",
           "x": {
            "bdata": "AAAAAAAAAAAAAAAAAADwPwAAAAAAAAAAWocI4lFK5TwBAAAAAADwPwIAAAAAAPA/",
            "dtype": "f8"
           },
           "y": {
            "bdata": "AAAAAAAAAAAAAAAAAAAAAAAAAAAAAPA/tBZZMgVx5ryEToD4wxbSPPz//////+8/",
            "dtype": "f8"
           },
           "z": {
            "bdata": "AAAAAAAAAAAAAAAAAADgPwAAAAAAAOA/gI/C9Shc1z/jR+F6FK7rP5SPwvUoXNc/",
            "dtype": "f8"
           }
          },
          {
           "name": "Fixed Nodes",
           "type": "scatter3d",
           "x": [],
           "y": [],
           "z": []
          },
          {
           "name": "Edges",
           "type": "scatter3d",
           "x": [
            1,
            0,
            null,
            0,
            0,
            null,
            0,
            1,
            null,
            1.0000000000000002,
            1.0000000000000004,
            null,
            1.0000000000000004,
            2.3636994511188645e-15,
            null,
            2.3636994511188645e-15,
            1.0000000000000002,
            null
           ],
           "y": [
            0,
            1,
            null,
            1,
            0,
            null,
            0,
            0,
            null,
            1.0041372053677846e-15,
            0.9999999999999996,
            null,
            0.9999999999999996,
            -2.4915053958762953e-15,
            null,
            -2.4915053958762953e-15,
            1.0041372053677846e-15,
            null
           ],
           "z": [
            0.5,
            0.5,
            null,
            0.5,
            0,
            null,
            0,
            0.5,
            null,
            0.8650000000000059,
            0.3650000000000031,
            null,
            0.3650000000000031,
            0.365000000000002,
            null,
            0.365000000000002,
            0.8650000000000059,
            null
           ]
          },
          {
           "i": [
            0,
            3
           ],
           "j": [
            1,
            4
           ],
           "k": [
            2,
            5
           ],
           "name": "Faces",
           "type": "mesh3d",
           "x": {
            "bdata": "AAAAAAAAAAAAAAAAAADwPwAAAAAAAAAAWocI4lFK5TwBAAAAAADwPwIAAAAAAPA/",
            "dtype": "f8"
           },
           "y": {
            "bdata": "AAAAAAAAAAAAAAAAAAAAAAAAAAAAAPA/tBZZMgVx5ryEToD4wxbSPPz//////+8/",
            "dtype": "f8"
           },
           "z": {
            "bdata": "AAAAAAAAAAAAAAAAAADgPwAAAAAAAOA/gI/C9Shc1z/jR+F6FK7rP5SPwvUoXNc/",
            "dtype": "f8"
           }
          }
         ],
         "layout": {
          "annotations": [
           {
            "showarrow": false,
            "text": "Time: 0.46s (Step: 47/100)",
            "x": 0.05,
            "xref": "paper",
            "y": 0.95,
            "yref": "paper"
           }
          ]
         },
         "name": "46"
        },
        {
         "data": [
          {
           "name": "Free Nodes",
           "type": "scatter3d",
           "x": {
            "bdata": "AAAAAAAAAAAAAAAAAADwPwAAAAAAAAAAWSsNapB25DwBAAAAAADwPwEAAAAAAPA/",
            "dtype": "f8"
           },
           "y": {
            "bdata": "AAAAAAAAAAAAAAAAAAAAAAAAAAAAAPA/1M7pVoLq5rwgfFiJIjbVPP7//////+8/",
            "dtype": "f8"
           },
           "z": {
            "bdata": "AAAAAAAAAAAAAAAAAADgPwAAAAAAAOA/LNejcD0K1z+761G4HoXrP0XXo3A9Ctc/",
            "dtype": "f8"
           }
          },
          {
           "name": "Fixed Nodes",
           "type": "scatter3d",
           "x": [],
           "y": [],
           "z": []
          },
          {
           "name": "Edges",
           "type": "scatter3d",
           "x": [
            1,
            0,
            null,
            0,
            0,
            null,
            0,
            1,
            null,
            1.0000000000000002,
            1.0000000000000002,
            null,
            1.0000000000000002,
            2.2718650390700167e-15,
            null,
            2.2718650390700167e-15,
            1.0000000000000002,
            null
           ],
           "y": [
            0,
            1,
            null,
            1,
            0,
            null,
            0,
            0,
            null,
            1.1774728128780802e-15,
            0.9999999999999998,
            null,
            0.9999999999999998,
            -2.5441927812303283e-15,
            null,
            -2.5441927812303283e-15,
            1.1774728128780802e-15,
            null
           ],
           "z": [
            0.5,
            0.5,
            null,
            0.5,
            0,
            null,
            0,
            0.5,
            null,
            0.860000000000006,
            0.36000000000000326,
            null,
            0.36000000000000326,
            0.3600000000000019,
            null,
            0.3600000000000019,
            0.860000000000006,
            null
           ]
          },
          {
           "i": [
            0,
            3
           ],
           "j": [
            1,
            4
           ],
           "k": [
            2,
            5
           ],
           "name": "Faces",
           "type": "mesh3d",
           "x": {
            "bdata": "AAAAAAAAAAAAAAAAAADwPwAAAAAAAAAAWSsNapB25DwBAAAAAADwPwEAAAAAAPA/",
            "dtype": "f8"
           },
           "y": {
            "bdata": "AAAAAAAAAAAAAAAAAAAAAAAAAAAAAPA/1M7pVoLq5rwgfFiJIjbVPP7//////+8/",
            "dtype": "f8"
           },
           "z": {
            "bdata": "AAAAAAAAAAAAAAAAAADgPwAAAAAAAOA/LNejcD0K1z+761G4HoXrP0XXo3A9Ctc/",
            "dtype": "f8"
           }
          }
         ],
         "layout": {
          "annotations": [
           {
            "showarrow": false,
            "text": "Time: 0.47s (Step: 48/100)",
            "x": 0.05,
            "xref": "paper",
            "y": 0.95,
            "yref": "paper"
           }
          ]
         },
         "name": "47"
        },
        {
         "data": [
          {
           "name": "Free Nodes",
           "type": "scatter3d",
           "x": {
            "bdata": "AAAAAAAAAAAAAAAAAADwPwAAAAAAAAAATqqoVQ+85DwBAAAAAADwP////////+8/",
            "dtype": "f8"
           },
           "y": {
            "bdata": "AAAAAAAAAAAAAAAAAAAAAAAAAAAAAPA/v3rvMAHn5rxctpDmCPDVPAAAAAAAAPA/",
            "dtype": "f8"
           },
           "z": {
            "bdata": "AAAAAAAAAAAAAAAAAADgPwAAAAAAAOA/2R6F61G41j+Tj8L1KFzrP/UehetRuNY/",
            "dtype": "f8"
           }
          },
          {
           "name": "Fixed Nodes",
           "type": "scatter3d",
           "x": [],
           "y": [],
           "z": []
          },
          {
           "name": "Edges",
           "type": "scatter3d",
           "x": [
            1,
            0,
            null,
            0,
            0,
            null,
            0,
            1,
            null,
            1.0000000000000002,
            0.9999999999999999,
            null,
            0.9999999999999999,
            2.3020040304523518e-15,
            null,
            2.3020040304523518e-15,
            1.0000000000000002,
            null
           ],
           "y": [
            0,
            1,
            null,
            1,
            0,
            null,
            0,
            0,
            null,
            1.2177834192758233e-15,
            1,
            null,
            1,
            -2.542672952806654e-15,
            null,
            -2.542672952806654e-15,
            1.2177834192758233e-15,
            null
           ],
           "z": [
            0.5,
            0.5,
            null,
            0.5,
            0,
            null,
            0,
            0.5,
            null,
            0.8550000000000061,
            0.35500000000000337,
            null,
            0.35500000000000337,
            0.3550000000000018,
            null,
            0.3550000000000018,
            0.8550000000000061,
            null
           ]
          },
          {
           "i": [
            0,
            3
           ],
           "j": [
            1,
            4
           ],
           "k": [
            2,
            5
           ],
           "name": "Faces",
           "type": "mesh3d",
           "x": {
            "bdata": "AAAAAAAAAAAAAAAAAADwPwAAAAAAAAAATqqoVQ+85DwBAAAAAADwP////////+8/",
            "dtype": "f8"
           },
           "y": {
            "bdata": "AAAAAAAAAAAAAAAAAAAAAAAAAAAAAPA/v3rvMAHn5rxctpDmCPDVPAAAAAAAAPA/",
            "dtype": "f8"
           },
           "z": {
            "bdata": "AAAAAAAAAAAAAAAAAADgPwAAAAAAAOA/2R6F61G41j+Tj8L1KFzrP/UehetRuNY/",
            "dtype": "f8"
           }
          }
         ],
         "layout": {
          "annotations": [
           {
            "showarrow": false,
            "text": "Time: 0.48s (Step: 49/100)",
            "x": 0.05,
            "xref": "paper",
            "y": 0.95,
            "yref": "paper"
           }
          ]
         },
         "name": "48"
        },
        {
         "data": [
          {
           "name": "Free Nodes",
           "type": "scatter3d",
           "x": {
            "bdata": "AAAAAAAAAAAAAAAAAADwPwAAAAAAAAAANgtfF2W15DwBAAAAAADwP/3//////+8/",
            "dtype": "f8"
           },
           "y": {
            "bdata": "AAAAAAAAAAAAAAAAAAAAAAAAAAAAAPA/rXtH0YmD57zSsIxRvyrYPAEAAAAAAPA/",
            "dtype": "f8"
           },
           "z": {
            "bdata": "AAAAAAAAAAAAAAAAAADgPwAAAAAAAOA/hmZmZmZm1j9qMzMzMzPrP6ZmZmZmZtY/",
            "dtype": "f8"
           }
          },
          {
           "name": "Fixed Nodes",
           "type": "scatter3d",
           "x": [],
           "y": [],
           "z": []
          },
          {
           "name": "Edges",
           "type": "scatter3d",
           "x": [
            1,
            0,
            null,
            0,
            0,
            null,
            0,
            1,
            null,
            1.0000000000000002,
            0.9999999999999997,
            null,
            0.9999999999999997,
            2.299113541851666e-15,
            null,
            2.299113541851666e-15,
            1.0000000000000002,
            null
           ],
           "y": [
            0,
            1,
            null,
            1,
            0,
            null,
            0,
            0,
            null,
            1.3415369809168949e-15,
            1.0000000000000002,
            null,
            1.0000000000000002,
            -2.6105586223974274e-15,
            null,
            -2.6105586223974274e-15,
            1.3415369809168949e-15,
            null
           ],
           "z": [
            0.5,
            0.5,
            null,
            0.5,
            0,
            null,
            0,
            0.5,
            null,
            0.8500000000000061,
            0.35000000000000353,
            null,
            0.35000000000000353,
            0.35000000000000175,
            null,
            0.35000000000000175,
            0.8500000000000061,
            null
           ]
          },
          {
           "i": [
            0,
            3
           ],
           "j": [
            1,
            4
           ],
           "k": [
            2,
            5
           ],
           "name": "Faces",
           "type": "mesh3d",
           "x": {
            "bdata": "AAAAAAAAAAAAAAAAAADwPwAAAAAAAAAANgtfF2W15DwBAAAAAADwP/3//////+8/",
            "dtype": "f8"
           },
           "y": {
            "bdata": "AAAAAAAAAAAAAAAAAAAAAAAAAAAAAPA/rXtH0YmD57zSsIxRvyrYPAEAAAAAAPA/",
            "dtype": "f8"
           },
           "z": {
            "bdata": "AAAAAAAAAAAAAAAAAADgPwAAAAAAAOA/hmZmZmZm1j9qMzMzMzPrP6ZmZmZmZtY/",
            "dtype": "f8"
           }
          }
         ],
         "layout": {
          "annotations": [
           {
            "showarrow": false,
            "text": "Time: 0.49s (Step: 50/100)",
            "x": 0.05,
            "xref": "paper",
            "y": 0.95,
            "yref": "paper"
           }
          ]
         },
         "name": "49"
        },
        {
         "data": [
          {
           "name": "Free Nodes",
           "type": "scatter3d",
           "x": {
            "bdata": "AAAAAAAAAAAAAAAAAADwPwAAAAAAAAAAe8JDUNml5DwBAAAAAADwP/v//////+8/",
            "dtype": "f8"
           },
           "y": {
            "bdata": "AAAAAAAAAAAAAAAAAAAAAAAAAAAAAPA/AiGDL5gx6Lwwfik6WsXcPAIAAAAAAPA/",
            "dtype": "f8"
           },
           "z": {
            "bdata": "AAAAAAAAAAAAAAAAAADgPwAAAAAAAOA/M65H4XoU1j9A16NwPQrrP1iuR+F6FNY/",
            "dtype": "f8"
           }
          },
          {
           "name": "Fixed Nodes",
           "type": "scatter3d",
           "x": [],
           "y": [],
           "z": []
          },
          {
           "name": "Edges",
           "type": "scatter3d",
           "x": [
            1,
            0,
            null,
            0,
            0,
            null,
            0,
            1,
            null,
            1.0000000000000002,
            0.9999999999999994,
            null,
            0.9999999999999994,
            2.2923715360806037e-15,
            null,
            2.2923715360806037e-15,
            1.0000000000000002,
            null
           ],
           "y": [
            0,
            1,
            null,
            1,
            0,
            null,
            0,
            0,
            null,
            1.5971062254785865e-15,
            1.0000000000000004,
            null,
            1.0000000000000004,
            -2.6860434341065708e-15,
            null,
            -2.6860434341065708e-15,
            1.5971062254785865e-15,
            null
           ],
           "z": [
            0.5,
            0.5,
            null,
            0.5,
            0,
            null,
            0,
            0.5,
            null,
            0.845000000000006,
            0.34500000000000375,
            null,
            0.34500000000000375,
            0.3450000000000017,
            null,
            0.3450000000000017,
            0.845000000000006,
            null
           ]
          },
          {
           "i": [
            0,
            3
           ],
           "j": [
            1,
            4
           ],
           "k": [
            2,
            5
           ],
           "name": "Faces",
           "type": "mesh3d",
           "x": {
            "bdata": "AAAAAAAAAAAAAAAAAADwPwAAAAAAAAAAe8JDUNml5DwBAAAAAADwP/v//////+8/",
            "dtype": "f8"
           },
           "y": {
            "bdata": "AAAAAAAAAAAAAAAAAAAAAAAAAAAAAPA/AiGDL5gx6Lwwfik6WsXcPAIAAAAAAPA/",
            "dtype": "f8"
           },
           "z": {
            "bdata": "AAAAAAAAAAAAAAAAAADgPwAAAAAAAOA/M65H4XoU1j9A16NwPQrrP1iuR+F6FNY/",
            "dtype": "f8"
           }
          }
         ],
         "layout": {
          "annotations": [
           {
            "showarrow": false,
            "text": "Time: 0.50s (Step: 51/100)",
            "x": 0.05,
            "xref": "paper",
            "y": 0.95,
            "yref": "paper"
           }
          ]
         },
         "name": "50"
        },
        {
         "data": [
          {
           "name": "Free Nodes",
           "type": "scatter3d",
           "x": {
            "bdata": "AAAAAAAAAAAAAAAAAADwPwAAAAAAAAAAVyMTM7jO5DwBAAAAAADwP/n//////+8/",
            "dtype": "f8"
           },
           "y": {
            "bdata": "AAAAAAAAAAAAAAAAAAAAAAAAAAAAAPA/y3GYF+GN6LzanB0LQjLfPAMAAAAAAPA/",
            "dtype": "f8"
           },
           "z": {
            "bdata": "AAAAAAAAAAAAAAAAAADgPwAAAAAAAOA/4PUoXI/C1T8WexSuR+HqPwn2KFyPwtU/",
            "dtype": "f8"
           }
          },
          {
           "name": "Fixed Nodes",
           "type": "scatter3d",
           "x": [],
           "y": [],
           "z": []
          },
          {
           "name": "Edges",
           "type": "scatter3d",
           "x": [
            1,
            0,
            null,
            0,
            0,
            null,
            0,
            1,
            null,
            1.0000000000000002,
            0.9999999999999992,
            null,
            0.9999999999999992,
            2.310096354372105e-15,
            null,
            2.310096354372105e-15,
            1.0000000000000002,
            null
           ],
           "y": [
            0,
            1,
            null,
            1,
            0,
            null,
            0,
            0,
            null,
            1.7317436508470486e-15,
            1.0000000000000007,
            null,
            1.0000000000000007,
            -2.7260655825966534e-15,
            null,
            -2.7260655825966534e-15,
            1.7317436508470486e-15,
            null
           ],
           "z": [
            0.5,
            0.5,
            null,
            0.5,
            0,
            null,
            0,
            0.5,
            null,
            0.8400000000000059,
            0.3400000000000039,
            null,
            0.3400000000000039,
            0.34000000000000163,
            null,
            0.34000000000000163,
            0.8400000000000059,
            null
           ]
          },
          {
           "i": [
            0,
            3
           ],
           "j": [
            1,
            4
           ],
           "k": [
            2,
            5
           ],
           "name": "Faces",
           "type": "mesh3d",
           "x": {
            "bdata": "AAAAAAAAAAAAAAAAAADwPwAAAAAAAAAAVyMTM7jO5DwBAAAAAADwP/n//////+8/",
            "dtype": "f8"
           },
           "y": {
            "bdata": "AAAAAAAAAAAAAAAAAAAAAAAAAAAAAPA/y3GYF+GN6LzanB0LQjLfPAMAAAAAAPA/",
            "dtype": "f8"
           },
           "z": {
            "bdata": "AAAAAAAAAAAAAAAAAADgPwAAAAAAAOA/4PUoXI/C1T8WexSuR+HqPwn2KFyPwtU/",
            "dtype": "f8"
           }
          }
         ],
         "layout": {
          "annotations": [
           {
            "showarrow": false,
            "text": "Time: 0.51s (Step: 52/100)",
            "x": 0.05,
            "xref": "paper",
            "y": 0.95,
            "yref": "paper"
           }
          ]
         },
         "name": "51"
        },
        {
         "data": [
          {
           "name": "Free Nodes",
           "type": "scatter3d",
           "x": {
            "bdata": "AAAAAAAAAAAAAAAAAADwPwAAAAAAAAAA6Ye4xoZG5TwBAAAAAADwP/f//////+8/",
            "dtype": "f8"
           },
           "y": {
            "bdata": "AAAAAAAAAAAAAAAAAAAAAAAAAAAAAPA/jXWppV2D6Lx+y9QvUuLePAQAAAAAAPA/",
            "dtype": "f8"
           },
           "z": {
            "bdata": "AAAAAAAAAAAAAAAAAADgPwAAAAAAAOA/jT0K16Nw1T/tHoXrUbjqP7k9CtejcNU/",
            "dtype": "f8"
           }
          },
          {
           "name": "Fixed Nodes",
           "type": "scatter3d",
           "x": [],
           "y": [],
           "z": []
          },
          {
           "name": "Edges",
           "type": "scatter3d",
           "x": [
            1,
            0,
            null,
            0,
            0,
            null,
            0,
            1,
            null,
            1.0000000000000002,
            0.999999999999999,
            null,
            0.999999999999999,
            2.3620543323963892e-15,
            null,
            2.3620543323963892e-15,
            1.0000000000000002,
            null
           ],
           "y": [
            0,
            1,
            null,
            1,
            0,
            null,
            0,
            0,
            null,
            1.7144100900960191e-15,
            1.0000000000000009,
            null,
            1.0000000000000009,
            -2.7215060973256312e-15,
            null,
            -2.7215060973256312e-15,
            1.7144100900960191e-15,
            null
           ],
           "z": [
            0.5,
            0.5,
            null,
            0.5,
            0,
            null,
            0,
            0.5,
            null,
            0.8350000000000058,
            0.335000000000004,
            null,
            0.335000000000004,
            0.3350000000000016,
            null,
            0.3350000000000016,
            0.8350000000000058,
            null
           ]
          },
          {
           "i": [
            0,
            3
           ],
           "j": [
            1,
            4
           ],
           "k": [
            2,
            5
           ],
           "name": "Faces",
           "type": "mesh3d",
           "x": {
            "bdata": "AAAAAAAAAAAAAAAAAADwPwAAAAAAAAAA6Ye4xoZG5TwBAAAAAADwP/f//////+8/",
            "dtype": "f8"
           },
           "y": {
            "bdata": "AAAAAAAAAAAAAAAAAAAAAAAAAAAAAPA/jXWppV2D6Lx+y9QvUuLePAQAAAAAAPA/",
            "dtype": "f8"
           },
           "z": {
            "bdata": "AAAAAAAAAAAAAAAAAADgPwAAAAAAAOA/jT0K16Nw1T/tHoXrUbjqP7k9CtejcNU/",
            "dtype": "f8"
           }
          }
         ],
         "layout": {
          "annotations": [
           {
            "showarrow": false,
            "text": "Time: 0.52s (Step: 53/100)",
            "x": 0.05,
            "xref": "paper",
            "y": 0.95,
            "yref": "paper"
           }
          ]
         },
         "name": "52"
        },
        {
         "data": [
          {
           "name": "Free Nodes",
           "type": "scatter3d",
           "x": {
            "bdata": "AAAAAAAAAAAAAAAAAADwPwAAAAAAAAAApRIdzNld5TwBAAAAAADwP/X//////+8/",
            "dtype": "f8"
           },
           "y": {
            "bdata": "AAAAAAAAAAAAAAAAAAAAAAAAAAAAAPA/dCn96xm56Ly2vCh7BQTgPAUAAAAAAPA/",
            "dtype": "f8"
           },
           "z": {
            "bdata": "AAAAAAAAAAAAAAAAAADgPwAAAAAAAOA/OoXrUbge1T/EwvUoXI/qP2qF61G4HtU/",
            "dtype": "f8"
           }
          },
          {
           "name": "Fixed Nodes",
           "type": "scatter3d",
           "x": [],
           "y": [],
           "z": []
          },
          {
           "name": "Edges",
           "type": "scatter3d",
           "x": [
            1,
            0,
            null,
            0,
            0,
            null,
            0,
            1,
            null,
            1.0000000000000002,
            0.9999999999999988,
            null,
            0.9999999999999988,
            2.3721696355386726e-15,
            null,
            2.3721696355386726e-15,
            1.0000000000000002,
            null
           ],
           "y": [
            0,
            1,
            null,
            1,
            0,
            null,
            0,
            0,
            null,
            1.7781008482044533e-15,
            1.000000000000001,
            null,
            1.000000000000001,
            -2.7448101331552998e-15,
            null,
            -2.7448101331552998e-15,
            1.7781008482044533e-15,
            null
           ],
           "z": [
            0.5,
            0.5,
            null,
            0.5,
            0,
            null,
            0,
            0.5,
            null,
            0.8300000000000058,
            0.3300000000000042,
            null,
            0.3300000000000042,
            0.3300000000000015,
            null,
            0.3300000000000015,
            0.8300000000000058,
            null
           ]
          },
          {
           "i": [
            0,
            3
           ],
           "j": [
            1,
            4
           ],
           "k": [
            2,
            5
           ],
           "name": "Faces",
           "type": "mesh3d",
           "x": {
            "bdata": "AAAAAAAAAAAAAAAAAADwPwAAAAAAAAAApRIdzNld5TwBAAAAAADwP/X//////+8/",
            "dtype": "f8"
           },
           "y": {
            "bdata": "AAAAAAAAAAAAAAAAAAAAAAAAAAAAAPA/dCn96xm56Ly2vCh7BQTgPAUAAAAAAPA/",
            "dtype": "f8"
           },
           "z": {
            "bdata": "AAAAAAAAAAAAAAAAAADgPwAAAAAAAOA/OoXrUbge1T/EwvUoXI/qP2qF61G4HtU/",
            "dtype": "f8"
           }
          }
         ],
         "layout": {
          "annotations": [
           {
            "showarrow": false,
            "text": "Time: 0.53s (Step: 54/100)",
            "x": 0.05,
            "xref": "paper",
            "y": 0.95,
            "yref": "paper"
           }
          ]
         },
         "name": "53"
        },
        {
         "data": [
          {
           "name": "Free Nodes",
           "type": "scatter3d",
           "x": {
            "bdata": "AAAAAAAAAAAAAAAAAADwPwAAAAAAAAAAk3SQEvY+5TwBAAAAAADwP/P//////+8/",
            "dtype": "f8"
           },
           "y": {
            "bdata": "AAAAAAAAAAAAAAAAAAAAAAAAAAAAAPA/WvwwQ0M36bz3kiyAigziPAYAAAAAAPA/",
            "dtype": "f8"
           },
           "z": {
            "bdata": "AAAAAAAAAAAAAAAAAADgPwAAAAAAAOA/58zMzMzM1D+aZmZmZmbqPx3NzMzMzNQ/",
            "dtype": "f8"
           }
          },
          {
           "name": "Fixed Nodes",
           "type": "scatter3d",
           "x": [],
           "y": [],
           "z": []
          },
          {
           "name": "Edges",
           "type": "scatter3d",
           "x": [
            1,
            0,
            null,
            0,
            0,
            null,
            0,
            1,
            null,
            1.0000000000000002,
            0.9999999999999986,
            null,
            0.9999999999999986,
            2.3587734286486103e-15,
            null,
            2.3587734286486103e-15,
            1.0000000000000002,
            null
           ],
           "y": [
            0,
            1,
            null,
            1,
            0,
            null,
            0,
            0,
            null,
            2.0038402440318146e-15,
            1.0000000000000013,
            null,
            1.0000000000000013,
            -2.7995239564075648e-15,
            null,
            -2.7995239564075648e-15,
            2.0038402440318146e-15,
            null
           ],
           "z": [
            0.5,
            0.5,
            null,
            0.5,
            0,
            null,
            0,
            0.5,
            null,
            0.8250000000000057,
            0.32500000000000445,
            null,
            0.32500000000000445,
            0.32500000000000145,
            null,
            0.32500000000000145,
            0.8250000000000057,
            null
           ]
          },
          {
           "i": [
            0,
            3
           ],
           "j": [
            1,
            4
           ],
           "k": [
            2,
            5
           ],
           "name": "Faces",
           "type": "mesh3d",
           "x": {
            "bdata": "AAAAAAAAAAAAAAAAAADwPwAAAAAAAAAAk3SQEvY+5TwBAAAAAADwP/P//////+8/",
            "dtype": "f8"
           },
           "y": {
            "bdata": "AAAAAAAAAAAAAAAAAAAAAAAAAAAAAPA/WvwwQ0M36bz3kiyAigziPAYAAAAAAPA/",
            "dtype": "f8"
           },
           "z": {
            "bdata": "AAAAAAAAAAAAAAAAAADgPwAAAAAAAOA/58zMzMzM1D+aZmZmZmbqPx3NzMzMzNQ/",
            "dtype": "f8"
           }
          }
         ],
         "layout": {
          "annotations": [
           {
            "showarrow": false,
            "text": "Time: 0.54s (Step: 55/100)",
            "x": 0.05,
            "xref": "paper",
            "y": 0.95,
            "yref": "paper"
           }
          ]
         },
         "name": "54"
        },
        {
         "data": [
          {
           "name": "Free Nodes",
           "type": "scatter3d",
           "x": {
            "bdata": "AAAAAAAAAAAAAAAAAADwPwAAAAAAAAAAqeX/lxU55jwBAAAAAADwP+///////+8/",
            "dtype": "f8"
           },
           "y": {
            "bdata": "AAAAAAAAAAAAAAAAAAAAAAAAAAAAAPA/D0dZDLoW6LwRT2G1v9ziPAcAAAAAAPA/",
            "dtype": "f8"
           },
           "z": {
            "bdata": "AAAAAAAAAAAAAAAAAADgPwAAAAAAAOA/kxSuR+F61D9xCtejcD3qP88UrkfhetQ/",
            "dtype": "f8"
           }
          },
          {
           "name": "Fixed Nodes",
           "type": "scatter3d",
           "x": [],
           "y": [],
           "z": []
          },
          {
           "name": "Edges",
           "type": "scatter3d",
           "x": [
            1,
            0,
            null,
            0,
            0,
            null,
            0,
            1,
            null,
            1.0000000000000002,
            0.9999999999999981,
            null,
            0.9999999999999981,
            2.4672470449407638e-15,
            null,
            2.4672470449407638e-15,
            1.0000000000000002,
            null
           ],
           "y": [
            0,
            1,
            null,
            1,
            0,
            null,
            0,
            0,
            null,
            2.094136002362759e-15,
            1.0000000000000016,
            null,
            1.0000000000000016,
            -2.6743914161917367e-15,
            null,
            -2.6743914161917367e-15,
            2.094136002362759e-15,
            null
           ],
           "z": [
            0.5,
            0.5,
            null,
            0.5,
            0,
            null,
            0,
            0.5,
            null,
            0.8200000000000057,
            0.32000000000000467,
            null,
            0.32000000000000467,
            0.32000000000000134,
            null,
            0.32000000000000134,
            0.8200000000000057,
            null
           ]
          },
          {
           "i": [
            0,
            3
           ],
           "j": [
            1,
            4
           ],
           "k": [
            2,
            5
           ],
           "name": "Faces",
           "type": "mesh3d",
           "x": {
            "bdata": "AAAAAAAAAAAAAAAAAADwPwAAAAAAAAAAqeX/lxU55jwBAAAAAADwP+///////+8/",
            "dtype": "f8"
           },
           "y": {
            "bdata": "AAAAAAAAAAAAAAAAAAAAAAAAAAAAAPA/D0dZDLoW6LwRT2G1v9ziPAcAAAAAAPA/",
            "dtype": "f8"
           },
           "z": {
            "bdata": "AAAAAAAAAAAAAAAAAADgPwAAAAAAAOA/kxSuR+F61D9xCtejcD3qP88UrkfhetQ/",
            "dtype": "f8"
           }
          }
         ],
         "layout": {
          "annotations": [
           {
            "showarrow": false,
            "text": "Time: 0.55s (Step: 56/100)",
            "x": 0.05,
            "xref": "paper",
            "y": 0.95,
            "yref": "paper"
           }
          ]
         },
         "name": "55"
        },
        {
         "data": [
          {
           "name": "Free Nodes",
           "type": "scatter3d",
           "x": {
            "bdata": "AAAAAAAAAAAAAAAAAADwPwAAAAAAAAAAHVY5r5p05TwBAAAAAADwP+3//////+8/",
            "dtype": "f8"
           },
           "y": {
            "bdata": "AAAAAAAAAAAAAAAAAAAAAAAAAAAAAPA/KEX4vk5a6bxL9hdtN7HkPAkAAAAAAPA/",
            "dtype": "f8"
           },
           "z": {
            "bdata": "AAAAAAAAAAAAAAAAAADgPwAAAAAAAOA/QFyPwvUo1D9HrkfhehTqP4Jcj8L1KNQ/",
            "dtype": "f8"
           }
          },
          {
           "name": "Fixed Nodes",
           "type": "scatter3d",
           "x": [],
           "y": [],
           "z": []
          },
          {
           "name": "Edges",
           "type": "scatter3d",
           "x": [
            1,
            0,
            null,
            0,
            0,
            null,
            0,
            1,
            null,
            1.0000000000000002,
            0.9999999999999979,
            null,
            0.9999999999999979,
            2.3820373781988787e-15,
            null,
            2.3820373781988787e-15,
            1.0000000000000002,
            null
           ],
           "y": [
            0,
            1,
            null,
            1,
            0,
            null,
            0,
            0,
            null,
            2.2973014586073842e-15,
            1.000000000000002,
            null,
            1.000000000000002,
            -2.814722240644305e-15,
            null,
            -2.814722240644305e-15,
            2.2973014586073842e-15,
            null
           ],
           "z": [
            0.5,
            0.5,
            null,
            0.5,
            0,
            null,
            0,
            0.5,
            null,
            0.8150000000000056,
            0.31500000000000494,
            null,
            0.31500000000000494,
            0.3150000000000013,
            null,
            0.3150000000000013,
            0.8150000000000056,
            null
           ]
          },
          {
           "i": [
            0,
            3
           ],
           "j": [
            1,
            4
           ],
           "k": [
            2,
            5
           ],
           "name": "Faces",
           "type": "mesh3d",
           "x": {
            "bdata": "AAAAAAAAAAAAAAAAAADwPwAAAAAAAAAAHVY5r5p05TwBAAAAAADwP+3//////+8/",
            "dtype": "f8"
           },
           "y": {
            "bdata": "AAAAAAAAAAAAAAAAAAAAAAAAAAAAAPA/KEX4vk5a6bxL9hdtN7HkPAkAAAAAAPA/",
            "dtype": "f8"
           },
           "z": {
            "bdata": "AAAAAAAAAAAAAAAAAADgPwAAAAAAAOA/QFyPwvUo1D9HrkfhehTqP4Jcj8L1KNQ/",
            "dtype": "f8"
           }
          }
         ],
         "layout": {
          "annotations": [
           {
            "showarrow": false,
            "text": "Time: 0.56s (Step: 57/100)",
            "x": 0.05,
            "xref": "paper",
            "y": 0.95,
            "yref": "paper"
           }
          ]
         },
         "name": "56"
        },
        {
         "data": [
          {
           "name": "Free Nodes",
           "type": "scatter3d",
           "x": {
            "bdata": "AAAAAAAAAAAAAAAAAADwPwAAAAAAAAAAqupRziBW5jwBAAAAAADwP+n//////+8/",
            "dtype": "f8"
           },
           "y": {
            "bdata": "AAAAAAAAAAAAAAAAAAAAAAAAAAAAAPA/7syICRcu6LzueECWgM/lPAoAAAAAAPA/",
            "dtype": "f8"
           },
           "z": {
            "bdata": "AAAAAAAAAAAAAAAAAADgPwAAAAAAAOA/7KNwPQrX0z8eUrgehevpPzSkcD0K19M/",
            "dtype": "f8"
           }
          },
          {
           "name": "Fixed Nodes",
           "type": "scatter3d",
           "x": [],
           "y": [],
           "z": []
          },
          {
           "name": "Edges",
           "type": "scatter3d",
           "x": [
            1,
            0,
            null,
            0,
            0,
            null,
            0,
            1,
            null,
            1.0000000000000002,
            0.9999999999999974,
            null,
            0.9999999999999974,
            2.4798427843286154e-15,
            null,
            2.4798427843286154e-15,
            1.0000000000000002,
            null
           ],
           "y": [
            0,
            1,
            null,
            1,
            0,
            null,
            0,
            0,
            null,
            2.4214581263124327e-15,
            1.0000000000000022,
            null,
            1.0000000000000022,
            -2.684523605682897e-15,
            null,
            -2.684523605682897e-15,
            2.4214581263124327e-15,
            null
           ],
           "z": [
            0.5,
            0.5,
            null,
            0.5,
            0,
            null,
            0,
            0.5,
            null,
            0.8100000000000056,
            0.31000000000000516,
            null,
            0.31000000000000516,
            0.31000000000000116,
            null,
            0.31000000000000116,
            0.8100000000000056,
            null
           ]
          },
          {
           "i": [
            0,
            3
           ],
           "j": [
            1,
            4
           ],
           "k": [
            2,
            5
           ],
           "name": "Faces",
           "type": "mesh3d",
           "x": {
            "bdata": "AAAAAAAAAAAAAAAAAADwPwAAAAAAAAAAqupRziBW5jwBAAAAAADwP+n//////+8/",
            "dtype": "f8"
           },
           "y": {
            "bdata": "AAAAAAAAAAAAAAAAAAAAAAAAAAAAAPA/7syICRcu6LzueECWgM/lPAoAAAAAAPA/",
            "dtype": "f8"
           },
           "z": {
            "bdata": "AAAAAAAAAAAAAAAAAADgPwAAAAAAAOA/7KNwPQrX0z8eUrgehevpPzSkcD0K19M/",
            "dtype": "f8"
           }
          }
         ],
         "layout": {
          "annotations": [
           {
            "showarrow": false,
            "text": "Time: 0.57s (Step: 58/100)",
            "x": 0.05,
            "xref": "paper",
            "y": 0.95,
            "yref": "paper"
           }
          ]
         },
         "name": "57"
        },
        {
         "data": [
          {
           "name": "Free Nodes",
           "type": "scatter3d",
           "x": {
            "bdata": "AAAAAAAAAAAAAAAAAADwPwAAAAAAAAAATlAkCiSE5TwBAAAAAADwP+f//////+8/",
            "dtype": "f8"
           },
           "y": {
            "bdata": "AAAAAAAAAAAAAAAAAAAAAAAAAAAAAPA/alh51QF06bzSffu/FYjnPAwAAAAAAPA/",
            "dtype": "f8"
           },
           "z": {
            "bdata": "AAAAAAAAAAAAAAAAAADgPwAAAAAAAOA/metRuB6F0z/09Shcj8LpP+frUbgehdM/",
            "dtype": "f8"
           }
          },
          {
           "name": "Fixed Nodes",
           "type": "scatter3d",
           "x": [],
           "y": [],
           "z": []
          },
          {
           "name": "Edges",
           "type": "scatter3d",
           "x": [
            1,
            0,
            null,
            0,
            0,
            null,
            0,
            1,
            null,
            1.0000000000000002,
            0.9999999999999972,
            null,
            0.9999999999999972,
            2.3887752799054016e-15,
            null,
            2.3887752799054016e-15,
            1.0000000000000002,
            null
           ],
           "y": [
            0,
            1,
            null,
            1,
            0,
            null,
            0,
            0,
            null,
            2.6125304006377347e-15,
            1.0000000000000027,
            null,
            1.0000000000000027,
            -2.8258676490845813e-15,
            null,
            -2.8258676490845813e-15,
            2.6125304006377347e-15,
            null
           ],
           "z": [
            0.5,
            0.5,
            null,
            0.5,
            0,
            null,
            0,
            0.5,
            null,
            0.8050000000000055,
            0.30500000000000543,
            null,
            0.30500000000000543,
            0.3050000000000011,
            null,
            0.3050000000000011,
            0.8050000000000055,
            null
           ]
          },
          {
           "i": [
            0,
            3
           ],
           "j": [
            1,
            4
           ],
           "k": [
            2,
            5
           ],
           "name": "Faces",
           "type": "mesh3d",
           "x": {
            "bdata": "AAAAAAAAAAAAAAAAAADwPwAAAAAAAAAATlAkCiSE5TwBAAAAAADwP+f//////+8/",
            "dtype": "f8"
           },
           "y": {
            "bdata": "AAAAAAAAAAAAAAAAAAAAAAAAAAAAAPA/alh51QF06bzSffu/FYjnPAwAAAAAAPA/",
            "dtype": "f8"
           },
           "z": {
            "bdata": "AAAAAAAAAAAAAAAAAADgPwAAAAAAAOA/metRuB6F0z/09Shcj8LpP+frUbgehdM/",
            "dtype": "f8"
           }
          }
         ],
         "layout": {
          "annotations": [
           {
            "showarrow": false,
            "text": "Time: 0.58s (Step: 59/100)",
            "x": 0.05,
            "xref": "paper",
            "y": 0.95,
            "yref": "paper"
           }
          ]
         },
         "name": "58"
        },
        {
         "data": [
          {
           "name": "Free Nodes",
           "type": "scatter3d",
           "x": {
            "bdata": "AAAAAAAAAAAAAAAAAADwPwAAAAAAAAAATu4ShR1Y5jwBAAAAAADwP+P//////+8/",
            "dtype": "f8"
           },
           "y": {
            "bdata": "AAAAAAAAAAAAAAAAAAAAAAAAAAAAAPA/E33LwVZu6LycxoG0dXDoPA0AAAAAAPA/",
            "dtype": "f8"
           },
           "z": {
            "bdata": "AAAAAAAAAAAAAAAAAADgPwAAAAAAAOA/RTMzMzMz0z/LmZmZmZnpP5ozMzMzM9M/",
            "dtype": "f8"
           }
          },
          {
           "name": "Fixed Nodes",
           "type": "scatter3d",
           "x": [],
           "y": [],
           "z": []
          },
          {
           "name": "Edges",
           "type": "scatter3d",
           "x": [
            1,
            0,
            null,
            0,
            0,
            null,
            0,
            1,
            null,
            1.0000000000000002,
            0.9999999999999968,
            null,
            0.9999999999999968,
            2.4807045791672984e-15,
            null,
            2.4807045791672984e-15,
            1.0000000000000002,
            null
           ],
           "y": [
            0,
            1,
            null,
            1,
            0,
            null,
            0,
            0,
            null,
            2.713306916632092e-15,
            1.0000000000000029,
            null,
            1.0000000000000029,
            -2.7123871267835877e-15,
            null,
            -2.7123871267835877e-15,
            2.713306916632092e-15,
            null
           ],
           "z": [
            0.5,
            0.5,
            null,
            0.5,
            0,
            null,
            0,
            0.5,
            null,
            0.8000000000000055,
            0.3000000000000057,
            null,
            0.3000000000000057,
            0.300000000000001,
            null,
            0.300000000000001,
            0.8000000000000055,
            null
           ]
          },
          {
           "i": [
            0,
            3
           ],
           "j": [
            1,
            4
           ],
           "k": [
            2,
            5
           ],
           "name": "Faces",
           "type": "mesh3d",
           "x": {
            "bdata": "AAAAAAAAAAAAAAAAAADwPwAAAAAAAAAATu4ShR1Y5jwBAAAAAADwP+P//////+8/",
            "dtype": "f8"
           },
           "y": {
            "bdata": "AAAAAAAAAAAAAAAAAAAAAAAAAAAAAPA/E33LwVZu6LycxoG0dXDoPA0AAAAAAPA/",
            "dtype": "f8"
           },
           "z": {
            "bdata": "AAAAAAAAAAAAAAAAAADgPwAAAAAAAOA/RTMzMzMz0z/LmZmZmZnpP5ozMzMzM9M/",
            "dtype": "f8"
           }
          }
         ],
         "layout": {
          "annotations": [
           {
            "showarrow": false,
            "text": "Time: 0.59s (Step: 60/100)",
            "x": 0.05,
            "xref": "paper",
            "y": 0.95,
            "yref": "paper"
           }
          ]
         },
         "name": "59"
        },
        {
         "data": [
          {
           "name": "Free Nodes",
           "type": "scatter3d",
           "x": {
            "bdata": "AAAAAAAAAAAAAAAAAADwPwAAAAAAAAAA/EoMZFeL5TwBAAAAAADwP+H//////+8/",
            "dtype": "f8"
           },
           "y": {
            "bdata": "AAAAAAAAAAAAAAAAAAAAAAAAAAAAAPA/UQzNG76p6bwzfDtvaDHqPA8AAAAAAPA/",
            "dtype": "f8"
           },
           "z": {
            "bdata": "AAAAAAAAAAAAAAAAAADgPwAAAAAAAOA/8noUrkfh0j+hPQrXo3DpP057FK5H4dI/",
            "dtype": "f8"
           }
          },
          {
           "name": "Fixed Nodes",
           "type": "scatter3d",
           "x": [],
           "y": [],
           "z": []
          },
          {
           "name": "Edges",
           "type": "scatter3d",
           "x": [
            1,
            0,
            null,
            0,
            0,
            null,
            0,
            1,
            null,
            1.0000000000000002,
            0.9999999999999966,
            null,
            0.9999999999999966,
            2.3918980382980993e-15,
            null,
            2.3918980382980993e-15,
            1.0000000000000002,
            null
           ],
           "y": [
            0,
            1,
            null,
            1,
            0,
            null,
            0,
            0,
            null,
            2.908007145533191e-15,
            1.0000000000000033,
            null,
            1.0000000000000033,
            -2.84917168491425e-15,
            null,
            -2.84917168491425e-15,
            2.908007145533191e-15,
            null
           ],
           "z": [
            0.5,
            0.5,
            null,
            0.5,
            0,
            null,
            0,
            0.5,
            null,
            0.7950000000000054,
            0.29500000000000604,
            null,
            0.29500000000000604,
            0.29500000000000093,
            null,
            0.29500000000000093,
            0.7950000000000054,
            null
           ]
          },
          {
           "i": [
            0,
            3
           ],
           "j": [
            1,
            4
           ],
           "k": [
            2,
            5
           ],
           "name": "Faces",
           "type": "mesh3d",
           "x": {
            "bdata": "AAAAAAAAAAAAAAAAAADwPwAAAAAAAAAA/EoMZFeL5TwBAAAAAADwP+H//////+8/",
            "dtype": "f8"
           },
           "y": {
            "bdata": "AAAAAAAAAAAAAAAAAAAAAAAAAAAAAPA/UQzNG76p6bwzfDtvaDHqPA8AAAAAAPA/",
            "dtype": "f8"
           },
           "z": {
            "bdata": "AAAAAAAAAAAAAAAAAADgPwAAAAAAAOA/8noUrkfh0j+hPQrXo3DpP057FK5H4dI/",
            "dtype": "f8"
           }
          }
         ],
         "layout": {
          "annotations": [
           {
            "showarrow": false,
            "text": "Time: 0.60s (Step: 61/100)",
            "x": 0.05,
            "xref": "paper",
            "y": 0.95,
            "yref": "paper"
           }
          ]
         },
         "name": "60"
        },
        {
         "data": [
          {
           "name": "Free Nodes",
           "type": "scatter3d",
           "x": {
            "bdata": "AAAAAAAAAAAAAAAAAADwPwAAAAAAAAAALmuOHIdL5jwBAAAAAADwP93//////+8/",
            "dtype": "f8"
           },
           "y": {
            "bdata": "AAAAAAAAAAAAAAAAAAAAAAAAAAAAAPA/nJt/gn9o6Ly/EBW3yybrPBAAAAAAAPA/",
            "dtype": "f8"
           },
           "z": {
            "bdata": "AAAAAAAAAAAAAAAAAADgPwAAAAAAAOA/nsL1KFyP0j934XoUrkfpPwHD9Shcj9I/",
            "dtype": "f8"
           }
          },
          {
           "name": "Fixed Nodes",
           "type": "scatter3d",
           "x": [],
           "y": [],
           "z": []
          },
          {
           "name": "Edges",
           "type": "scatter3d",
           "x": [
            1,
            0,
            null,
            0,
            0,
            null,
            0,
            1,
            null,
            1.0000000000000002,
            0.9999999999999961,
            null,
            0.9999999999999961,
            2.4752456072155617e-15,
            null,
            2.4752456072155617e-15,
            1.0000000000000002,
            null
           ],
           "y": [
            0,
            1,
            null,
            1,
            0,
            null,
            0,
            0,
            null,
            3.0144271464232326e-15,
            1.0000000000000036,
            null,
            1.0000000000000036,
            -2.709854079410798e-15,
            null,
            -2.709854079410798e-15,
            3.0144271464232326e-15,
            null
           ],
           "z": [
            0.5,
            0.5,
            null,
            0.5,
            0,
            null,
            0,
            0.5,
            null,
            0.7900000000000053,
            0.2900000000000063,
            null,
            0.2900000000000063,
            0.2900000000000008,
            null,
            0.2900000000000008,
            0.7900000000000053,
            null
           ]
          },
          {
           "i": [
            0,
            3
           ],
           "j": [
            1,
            4
           ],
           "k": [
            2,
            5
           ],
           "name": "Faces",
           "type": "mesh3d",
           "x": {
            "bdata": "AAAAAAAAAAAAAAAAAADwPwAAAAAAAAAALmuOHIdL5jwBAAAAAADwP93//////+8/",
            "dtype": "f8"
           },
           "y": {
            "bdata": "AAAAAAAAAAAAAAAAAAAAAAAAAAAAAPA/nJt/gn9o6Ly/EBW3yybrPBAAAAAAAPA/",
            "dtype": "f8"
           },
           "z": {
            "bdata": "AAAAAAAAAAAAAAAAAADgPwAAAAAAAOA/nsL1KFyP0j934XoUrkfpPwHD9Shcj9I/",
            "dtype": "f8"
           }
          }
         ],
         "layout": {
          "annotations": [
           {
            "showarrow": false,
            "text": "Time: 0.61s (Step: 62/100)",
            "x": 0.05,
            "xref": "paper",
            "y": 0.95,
            "yref": "paper"
           }
          ]
         },
         "name": "61"
        },
        {
         "data": [
          {
           "name": "Free Nodes",
           "type": "scatter3d",
           "x": {
            "bdata": "AAAAAAAAAAAAAAAAAADwPwAAAAAAAAAAVNj8a9S25TwBAAAAAADwP9v//////+8/",
            "dtype": "f8"
           },
           "y": {
            "bdata": "AAAAAAAAAAAAAAAAAAAAAAAAAAAAAPA/ogdk7bgX6bz0GwDHpKzrPBIAAAAAAPA/",
            "dtype": "f8"
           },
           "z": {
            "bdata": "AAAAAAAAAAAAAAAAAADgPwAAAAAAAOA/SwrXo3A90j9NhetRuB7pP7QK16NwPdI/",
            "dtype": "f8"
           }
          },
          {
           "name": "Fixed Nodes",
           "type": "scatter3d",
           "x": [],
           "y": [],
           "z": []
          },
          {
           "name": "Edges",
           "type": "scatter3d",
           "x": [
            1,
            0,
            null,
            0,
            0,
            null,
            0,
            1,
            null,
            1.0000000000000002,
            0.9999999999999959,
            null,
            0.9999999999999959,
            2.4107581264419045e-15,
            null,
            2.4107581264419045e-15,
            1.0000000000000002,
            null
           ],
           "y": [
            0,
            1,
            null,
            1,
            0,
            null,
            0,
            0,
            null,
            3.0724744196359825e-15,
            1.000000000000004,
            null,
            1.000000000000004,
            -2.785845500594499e-15,
            null,
            -2.785845500594499e-15,
            3.0724744196359825e-15,
            null
           ],
           "z": [
            0.5,
            0.5,
            null,
            0.5,
            0,
            null,
            0,
            0.5,
            null,
            0.7850000000000051,
            0.2850000000000066,
            null,
            0.2850000000000066,
            0.28500000000000075,
            null,
            0.28500000000000075,
            0.7850000000000051,
            null
           ]
          },
          {
           "i": [
            0,
            3
           ],
           "j": [
            1,
            4
           ],
           "k": [
            2,
            5
           ],
           "name": "Faces",
           "type": "mesh3d",
           "x": {
            "bdata": "AAAAAAAAAAAAAAAAAADwPwAAAAAAAAAAVNj8a9S25TwBAAAAAADwP9v//////+8/",
            "dtype": "f8"
           },
           "y": {
            "bdata": "AAAAAAAAAAAAAAAAAAAAAAAAAAAAAPA/ogdk7bgX6bz0GwDHpKzrPBIAAAAAAPA/",
            "dtype": "f8"
           },
           "z": {
            "bdata": "AAAAAAAAAAAAAAAAAADgPwAAAAAAAOA/SwrXo3A90j9NhetRuB7pP7QK16NwPdI/",
            "dtype": "f8"
           }
          }
         ],
         "layout": {
          "annotations": [
           {
            "showarrow": false,
            "text": "Time: 0.62s (Step: 63/100)",
            "x": 0.05,
            "xref": "paper",
            "y": 0.95,
            "yref": "paper"
           }
          ]
         },
         "name": "62"
        },
        {
         "data": [
          {
           "name": "Free Nodes",
           "type": "scatter3d",
           "x": {
            "bdata": "AAAAAAAAAAAAAAAAAADwPwAAAAAAAAAAcwK6vx825jwBAAAAAADwP9f//////+8/",
            "dtype": "f8"
           },
           "y": {
            "bdata": "AAAAAAAAAAAAAAAAAAAAAAAAAAAAAPA/iSilS5Ec6LxXrcEbZjvtPBMAAAAAAPA/",
            "dtype": "f8"
           },
           "z": {
            "bdata": "AAAAAAAAAAAAAAAAAADgPwAAAAAAAOA/+FG4HoXr0T8jKVyPwvXoP2hSuB6F69E/",
            "dtype": "f8"
           }
          },
          {
           "name": "Fixed Nodes",
           "type": "scatter3d",
           "x": [],
           "y": [],
           "z": []
          },
          {
           "name": "Edges",
           "type": "scatter3d",
           "x": [
            1,
            0,
            null,
            0,
            0,
            null,
            0,
            1,
            null,
            1.0000000000000002,
            0.9999999999999954,
            null,
            0.9999999999999954,
            2.4659632058839717e-15,
            null,
            2.4659632058839717e-15,
            1.0000000000000002,
            null
           ],
           "y": [
            0,
            1,
            null,
            1,
            0,
            null,
            0,
            0,
            null,
            3.2454069210823e-15,
            1.0000000000000042,
            null,
            1.0000000000000042,
            -2.6769244635645277e-15,
            null,
            -2.6769244635645277e-15,
            3.2454069210823e-15,
            null
           ],
           "z": [
            0.5,
            0.5,
            null,
            0.5,
            0,
            null,
            0,
            0.5,
            null,
            0.780000000000005,
            0.2800000000000069,
            null,
            0.2800000000000069,
            0.2800000000000007,
            null,
            0.2800000000000007,
            0.780000000000005,
            null
           ]
          },
          {
           "i": [
            0,
            3
           ],
           "j": [
            1,
            4
           ],
           "k": [
            2,
            5
           ],
           "name": "Faces",
           "type": "mesh3d",
           "x": {
            "bdata": "AAAAAAAAAAAAAAAAAADwPwAAAAAAAAAAcwK6vx825jwBAAAAAADwP9f//////+8/",
            "dtype": "f8"
           },
           "y": {
            "bdata": "AAAAAAAAAAAAAAAAAAAAAAAAAAAAAPA/iSilS5Ec6LxXrcEbZjvtPBMAAAAAAPA/",
            "dtype": "f8"
           },
           "z": {
            "bdata": "AAAAAAAAAAAAAAAAAADgPwAAAAAAAOA/+FG4HoXr0T8jKVyPwvXoP2hSuB6F69E/",
            "dtype": "f8"
           }
          }
         ],
         "layout": {
          "annotations": [
           {
            "showarrow": false,
            "text": "Time: 0.63s (Step: 64/100)",
            "x": 0.05,
            "xref": "paper",
            "y": 0.95,
            "yref": "paper"
           }
          ]
         },
         "name": "63"
        },
        {
         "data": [
          {
           "name": "Free Nodes",
           "type": "scatter3d",
           "x": {
            "bdata": "AAAAAAAAAAAAAAAAAADwPwAAAAAAAAAAXNokAuEx5TwBAAAAAADwP9X//////+8/",
            "dtype": "f8"
           },
           "y": {
            "bdata": "AAAAAAAAAAAAAAAAAAAAAAAAAAAAAPA/bDmZxJQr6bx5Ziny9+buPBUAAAAAAPA/",
            "dtype": "f8"
           },
           "z": {
            "bdata": "AAAAAAAAAAAAAAAAAADgPwAAAAAAAOA/pZmZmZmZ0T/5zMzMzMzoPxyamZmZmdE/",
            "dtype": "f8"
           }
          },
          {
           "name": "Fixed Nodes",
           "type": "scatter3d",
           "x": [],
           "y": [],
           "z": []
          },
          {
           "name": "Edges",
           "type": "scatter3d",
           "x": [
            1,
            0,
            null,
            0,
            0,
            null,
            0,
            1,
            null,
            1.0000000000000002,
            0.9999999999999952,
            null,
            0.9999999999999952,
            2.3530998933073257e-15,
            null,
            2.3530998933073257e-15,
            1.0000000000000002,
            null
           ],
           "y": [
            0,
            1,
            null,
            1,
            0,
            null,
            0,
            0,
            null,
            3.430835710511918e-15,
            1.0000000000000047,
            null,
            1.0000000000000047,
            -2.7944578616619852e-15,
            null,
            -2.7944578616619852e-15,
            3.430835710511918e-15,
            null
           ],
           "z": [
            0.5,
            0.5,
            null,
            0.5,
            0,
            null,
            0,
            0.5,
            null,
            0.7750000000000049,
            0.27500000000000724,
            null,
            0.27500000000000724,
            0.27500000000000063,
            null,
            0.27500000000000063,
            0.7750000000000049,
            null
           ]
          },
          {
           "i": [
            0,
            3
           ],
           "j": [
            1,
            4
           ],
           "k": [
            2,
            5
           ],
           "name": "Faces",
           "type": "mesh3d",
           "x": {
            "bdata": "AAAAAAAAAAAAAAAAAADwPwAAAAAAAAAAXNokAuEx5TwBAAAAAADwP9X//////+8/",
            "dtype": "f8"
           },
           "y": {
            "bdata": "AAAAAAAAAAAAAAAAAAAAAAAAAAAAAPA/bDmZxJQr6bx5Ziny9+buPBUAAAAAAPA/",
            "dtype": "f8"
           },
           "z": {
            "bdata": "AAAAAAAAAAAAAAAAAADgPwAAAAAAAOA/pZmZmZmZ0T/5zMzMzMzoPxyamZmZmdE/",
            "dtype": "f8"
           }
          }
         ],
         "layout": {
          "annotations": [
           {
            "showarrow": false,
            "text": "Time: 0.64s (Step: 65/100)",
            "x": 0.05,
            "xref": "paper",
            "y": 0.95,
            "yref": "paper"
           }
          ]
         },
         "name": "64"
        },
        {
         "data": [
          {
           "name": "Free Nodes",
           "type": "scatter3d",
           "x": {
            "bdata": "AAAAAAAAAAAAAAAAAADwPwAAAAAAAAAAN/VelUCj5TwBAAAAAADwP9H//////+8/",
            "dtype": "f8"
           },
           "y": {
            "bdata": "AAAAAAAAAAAAAAAAAAAAAAAAAAAAAPA/yCSUvRQn6Ly29hVE7XvwPBYAAAAAAPA/",
            "dtype": "f8"
           },
           "z": {
            "bdata": "AAAAAAAAAAAAAAAAAADgPwAAAAAAAOA/UeF6FK5H0T/PcD0K16PoP9DhehSuR9E/",
            "dtype": "f8"
           }
          },
          {
           "name": "Fixed Nodes",
           "type": "scatter3d",
           "x": [],
           "y": [],
           "z": []
          },
          {
           "name": "Edges",
           "type": "scatter3d",
           "x": [
            1,
            0,
            null,
            0,
            0,
            null,
            0,
            1,
            null,
            1.0000000000000002,
            0.9999999999999948,
            null,
            0.9999999999999948,
            2.4022677420300258e-15,
            null,
            2.4022677420300258e-15,
            1.0000000000000002,
            null
           ],
           "y": [
            0,
            1,
            null,
            1,
            0,
            null,
            0,
            0,
            null,
            3.6602030609150755e-15,
            1.0000000000000049,
            null,
            1.0000000000000049,
            -2.6814839488355502e-15,
            null,
            -2.6814839488355502e-15,
            3.6602030609150755e-15,
            null
           ],
           "z": [
            0.5,
            0.5,
            null,
            0.5,
            0,
            null,
            0,
            0.5,
            null,
            0.7700000000000048,
            0.27000000000000757,
            null,
            0.27000000000000757,
            0.2700000000000005,
            null,
            0.2700000000000005,
            0.7700000000000048,
            null
           ]
          },
          {
           "i": [
            0,
            3
           ],
           "j": [
            1,
            4
           ],
           "k": [
            2,
            5
           ],
           "name": "Faces",
           "type": "mesh3d",
           "x": {
            "bdata": "AAAAAAAAAAAAAAAAAADwPwAAAAAAAAAAN/VelUCj5TwBAAAAAADwP9H//////+8/",
            "dtype": "f8"
           },
           "y": {
            "bdata": "AAAAAAAAAAAAAAAAAAAAAAAAAAAAAPA/yCSUvRQn6Ly29hVE7XvwPBYAAAAAAPA/",
            "dtype": "f8"
           },
           "z": {
            "bdata": "AAAAAAAAAAAAAAAAAADgPwAAAAAAAOA/UeF6FK5H0T/PcD0K16PoP9DhehSuR9E/",
            "dtype": "f8"
           }
          }
         ],
         "layout": {
          "annotations": [
           {
            "showarrow": false,
            "text": "Time: 0.65s (Step: 66/100)",
            "x": 0.05,
            "xref": "paper",
            "y": 0.95,
            "yref": "paper"
           }
          ]
         },
         "name": "65"
        },
        {
         "data": [
          {
           "name": "Free Nodes",
           "type": "scatter3d",
           "x": {
            "bdata": "AAAAAAAAAAAAAAAAAADwPwAAAAAAAAAA+2Up5fDb4zwBAAAAAADwP8///////+8/",
            "dtype": "f8"
           },
           "y": {
            "bdata": "AAAAAAAAAAAAAAAAAAAAAAAAAAAAAPA/MB7KQaTY6LzKavDVvGvxPBgAAAAAAPA/",
            "dtype": "f8"
           },
           "z": {
            "bdata": "AAAAAAAAAAAAAAAAAADgPwAAAAAAAOA//Shcj8L10D+lFK5H4XroP4QpXI/C9dA/",
            "dtype": "f8"
           }
          },
          {
           "name": "Fixed Nodes",
           "type": "scatter3d",
           "x": [],
           "y": [],
           "z": []
          },
          {
           "name": "Edges",
           "type": "scatter3d",
           "x": [
            1,
            0,
            null,
            0,
            0,
            null,
            0,
            1,
            null,
            1.0000000000000002,
            0.9999999999999946,
            null,
            0.9999999999999946,
            2.2048079493772144e-15,
            null,
            2.2048079493772144e-15,
            1.0000000000000002,
            null
           ],
           "y": [
            0,
            1,
            null,
            1,
            0,
            null,
            0,
            0,
            null,
            3.868205789927429e-15,
            1.0000000000000053,
            null,
            1.0000000000000053,
            -2.758488588968367e-15,
            null,
            -2.758488588968367e-15,
            3.868205789927429e-15,
            null
           ],
           "z": [
            0.5,
            0.5,
            null,
            0.5,
            0,
            null,
            0,
            0.5,
            null,
            0.7650000000000047,
            0.2650000000000079,
            null,
            0.2650000000000079,
            0.2650000000000004,
            null,
            0.2650000000000004,
            0.7650000000000047,
            null
           ]
          },
          {
           "i": [
            0,
            3
           ],
           "j": [
            1,
            4
           ],
           "k": [
            2,
            5
           ],
           "name": "Faces",
           "type": "mesh3d",
           "x": {
            "bdata": "AAAAAAAAAAAAAAAAAADwPwAAAAAAAAAA+2Up5fDb4zwBAAAAAADwP8///////+8/",
            "dtype": "f8"
           },
           "y": {
            "bdata": "AAAAAAAAAAAAAAAAAAAAAAAAAAAAAPA/MB7KQaTY6LzKavDVvGvxPBgAAAAAAPA/",
            "dtype": "f8"
           },
           "z": {
            "bdata": "AAAAAAAAAAAAAAAAAADgPwAAAAAAAOA//Shcj8L10D+lFK5H4XroP4QpXI/C9dA/",
            "dtype": "f8"
           }
          }
         ],
         "layout": {
          "annotations": [
           {
            "showarrow": false,
            "text": "Time: 0.66s (Step: 67/100)",
            "x": 0.05,
            "xref": "paper",
            "y": 0.95,
            "yref": "paper"
           }
          ]
         },
         "name": "66"
        },
        {
         "data": [
          {
           "name": "Free Nodes",
           "type": "scatter3d",
           "x": {
            "bdata": "AAAAAAAAAAAAAAAAAADwPwAAAAAAAAAAFzv1aSRR5DwBAAAAAADwP8v//////+8/",
            "dtype": "f8"
           },
           "y": {
            "bdata": "AAAAAAAAAAAAAAAAAAAAAAAAAAAAAPA/IPn8EWUT57x2ltqbKffxPBkAAAAAAPA/",
            "dtype": "f8"
           },
           "z": {
            "bdata": "AAAAAAAAAAAAAAAAAADgPwAAAAAAAOA/qXA9Ctej0D97uB6F61HoPzdxPQrXo9A/",
            "dtype": "f8"
           }
          },
          {
           "name": "Fixed Nodes",
           "type": "scatter3d",
           "x": [],
           "y": [],
           "z": []
          },
          {
           "name": "Edges",
           "type": "scatter3d",
           "x": [
            1,
            0,
            null,
            0,
            0,
            null,
            0,
            1,
            null,
            1.0000000000000002,
            0.9999999999999941,
            null,
            0.9999999999999941,
            2.2556358871818284e-15,
            null,
            2.2556358871818284e-15,
            1.0000000000000002,
            null
           ],
           "y": [
            0,
            1,
            null,
            1,
            0,
            null,
            0,
            0,
            null,
            3.989137609120658e-15,
            1.0000000000000056,
            null,
            1.0000000000000056,
            -2.561924112839861e-15,
            null,
            -2.561924112839861e-15,
            3.989137609120658e-15,
            null
           ],
           "z": [
            0.5,
            0.5,
            null,
            0.5,
            0,
            null,
            0,
            0.5,
            null,
            0.7600000000000046,
            0.26000000000000817,
            null,
            0.26000000000000817,
            0.2600000000000003,
            null,
            0.2600000000000003,
            0.7600000000000046,
            null
           ]
          },
          {
           "i": [
            0,
            3
           ],
           "j": [
            1,
            4
           ],
           "k": [
            2,
            5
           ],
           "name": "Faces",
           "type": "mesh3d",
           "x": {
            "bdata": "AAAAAAAAAAAAAAAAAADwPwAAAAAAAAAAFzv1aSRR5DwBAAAAAADwP8v//////+8/",
            "dtype": "f8"
           },
           "y": {
            "bdata": "AAAAAAAAAAAAAAAAAAAAAAAAAAAAAPA/IPn8EWUT57x2ltqbKffxPBkAAAAAAPA/",
            "dtype": "f8"
           },
           "z": {
            "bdata": "AAAAAAAAAAAAAAAAAADgPwAAAAAAAOA/qXA9Ctej0D97uB6F61HoPzdxPQrXo9A/",
            "dtype": "f8"
           }
          }
         ],
         "layout": {
          "annotations": [
           {
            "showarrow": false,
            "text": "Time: 0.67s (Step: 68/100)",
            "x": 0.05,
            "xref": "paper",
            "y": 0.95,
            "yref": "paper"
           }
          ]
         },
         "name": "67"
        },
        {
         "data": [
          {
           "name": "Free Nodes",
           "type": "scatter3d",
           "x": {
            "bdata": "AAAAAAAAAAAAAAAAAADwPwAAAAAAAAAAhu/76vw35DwBAAAAAADwP8j//////+8/",
            "dtype": "f8"
           },
           "y": {
            "bdata": "AAAAAAAAAAAAAAAAAAAAAAAAAAAAAPA/WmonCEIm5rzbZQFVyw/yPBsAAAAAAPA/",
            "dtype": "f8"
           },
           "z": {
            "bdata": "AAAAAAAAAAAAAAAAAADgPwAAAAAAAOA/VbgehetR0D9RXI/C9SjoP+m4HoXrUdA/",
            "dtype": "f8"
           }
          },
          {
           "name": "Fixed Nodes",
           "type": "scatter3d",
           "x": [],
           "y": [],
           "z": []
          },
          {
           "name": "Edges",
           "type": "scatter3d",
           "x": [
            1,
            0,
            null,
            0,
            0,
            null,
            0,
            1,
            null,
            1.0000000000000002,
            0.9999999999999938,
            null,
            0.9999999999999938,
            2.2447269566449007e-15,
            null,
            2.2447269566449007e-15,
            1.0000000000000002,
            null
           ],
           "y": [
            0,
            1,
            null,
            1,
            0,
            null,
            0,
            0,
            null,
            4.0105022305114615e-15,
            1.000000000000006,
            null,
            1.000000000000006,
            -2.459082389504586e-15,
            null,
            -2.459082389504586e-15,
            4.0105022305114615e-15,
            null
           ],
           "z": [
            0.5,
            0.5,
            null,
            0.5,
            0,
            null,
            0,
            0.5,
            null,
            0.7550000000000044,
            0.2550000000000084,
            null,
            0.2550000000000084,
            0.25500000000000017,
            null,
            0.25500000000000017,
            0.7550000000000044,
            null
           ]
          },
          {
           "i": [
            0,
            3
           ],
           "j": [
            1,
            4
           ],
           "k": [
            2,
            5
           ],
           "name": "Faces",
           "type": "mesh3d",
           "x": {
            "bdata": "AAAAAAAAAAAAAAAAAADwPwAAAAAAAAAAhu/76vw35DwBAAAAAADwP8j//////+8/",
            "dtype": "f8"
           },
           "y": {
            "bdata": "AAAAAAAAAAAAAAAAAAAAAAAAAAAAAPA/WmonCEIm5rzbZQFVyw/yPBsAAAAAAPA/",
            "dtype": "f8"
           },
           "z": {
            "bdata": "AAAAAAAAAAAAAAAAAADgPwAAAAAAAOA/VbgehetR0D9RXI/C9SjoP+m4HoXrUdA/",
            "dtype": "f8"
           }
          }
         ],
         "layout": {
          "annotations": [
           {
            "showarrow": false,
            "text": "Time: 0.68s (Step: 69/100)",
            "x": 0.05,
            "xref": "paper",
            "y": 0.95,
            "yref": "paper"
           }
          ]
         },
         "name": "68"
        },
        {
         "data": [
          {
           "name": "Free Nodes",
           "type": "scatter3d",
           "x": {
            "bdata": "AAAAAAAAAAAAAAAAAADwPwAAAAAAAAAAG3a2o5/84zwBAAAAAADwP8X//////+8/",
            "dtype": "f8"
           },
           "y": {
            "bdata": "AAAAAAAAAAAAAAAAAAAAAAAAAAAAAPA/QapId4dz5bzh6WrjZp/yPB0AAAAAAPA/",
            "dtype": "f8"
           },
           "z": {
            "bdata": "AAAAAAAAAAAAAAAAAADgPwAAAAAAAOA/AQAAAAAA0D8nAAAAAADoP5wAAAAAANA/",
            "dtype": "f8"
           }
          },
          {
           "name": "Fixed Nodes",
           "type": "scatter3d",
           "x": [],
           "y": [],
           "z": []
          },
          {
           "name": "Edges",
           "type": "scatter3d",
           "x": [
            1,
            0,
            null,
            0,
            0,
            null,
            0,
            1,
            null,
            1.0000000000000002,
            0.9999999999999934,
            null,
            0.9999999999999934,
            2.2189817656115972e-15,
            null,
            2.2189817656115972e-15,
            1.0000000000000002,
            null
           ],
           "y": [
            0,
            1,
            null,
            1,
            0,
            null,
            0,
            0,
            null,
            4.135062004280487e-15,
            1.0000000000000064,
            null,
            1.0000000000000064,
            -2.3815711398972114e-15,
            null,
            -2.3815711398972114e-15,
            4.135062004280487e-15,
            null
           ],
           "z": [
            0.5,
            0.5,
            null,
            0.5,
            0,
            null,
            0,
            0.5,
            null,
            0.7500000000000043,
            0.25000000000000866,
            null,
            0.25000000000000866,
            0.25000000000000006,
            null,
            0.25000000000000006,
            0.7500000000000043,
            null
           ]
          },
          {
           "i": [
            0,
            3
           ],
           "j": [
            1,
            4
           ],
           "k": [
            2,
            5
           ],
           "name": "Faces",
           "type": "mesh3d",
           "x": {
            "bdata": "AAAAAAAAAAAAAAAAAADwPwAAAAAAAAAAG3a2o5/84zwBAAAAAADwP8X//////+8/",
            "dtype": "f8"
           },
           "y": {
            "bdata": "AAAAAAAAAAAAAAAAAAAAAAAAAAAAAPA/QapId4dz5bzh6WrjZp/yPB0AAAAAAPA/",
            "dtype": "f8"
           },
           "z": {
            "bdata": "AAAAAAAAAAAAAAAAAADgPwAAAAAAAOA/AQAAAAAA0D8nAAAAAADoP5wAAAAAANA/",
            "dtype": "f8"
           }
          }
         ],
         "layout": {
          "annotations": [
           {
            "showarrow": false,
            "text": "Time: 0.69s (Step: 70/100)",
            "x": 0.05,
            "xref": "paper",
            "y": 0.95,
            "yref": "paper"
           }
          ]
         },
         "name": "69"
        },
        {
         "data": [
          {
           "name": "Free Nodes",
           "type": "scatter3d",
           "x": {
            "bdata": "AAAAAAAAAAAAAAAAAADwPwAAAAAAAAAAin9aHIi/4zwBAAAAAADwP8L//////+8/",
            "dtype": "f8"
           },
           "y": {
            "bdata": "AAAAAAAAAAAAAAAAAAAAAAAAAAAAAPA/KOpp5szA5LynJ1Fc7EPzPB8AAAAAAPA/",
            "dtype": "f8"
           },
           "z": {
            "bdata": "AAAAAAAAAAAAAAAAAADgPwAAAAAAAOA/Wo/C9Shczz/8o3A9CtfnP5+QwvUoXM8/",
            "dtype": "f8"
           }
          },
          {
           "name": "Fixed Nodes",
           "type": "scatter3d",
           "x": [],
           "y": [],
           "z": []
          },
          {
           "name": "Edges",
           "type": "scatter3d",
           "x": [
            1,
            0,
            null,
            0,
            0,
            null,
            0,
            1,
            null,
            1.0000000000000002,
            0.9999999999999931,
            null,
            0.9999999999999931,
            2.192487373355124e-15,
            null,
            2.192487373355124e-15,
            1.0000000000000002,
            null
           ],
           "y": [
            0,
            1,
            null,
            1,
            0,
            null,
            0,
            0,
            null,
            4.277761550928497e-15,
            1.0000000000000069,
            null,
            1.0000000000000069,
            -2.3040598902898368e-15,
            null,
            -2.3040598902898368e-15,
            4.277761550928497e-15,
            null
           ],
           "z": [
            0.5,
            0.5,
            null,
            0.5,
            0,
            null,
            0,
            0.5,
            null,
            0.7450000000000041,
            0.24500000000000896,
            null,
            0.24500000000000896,
            0.24499999999999994,
            null,
            0.24499999999999994,
            0.7450000000000041,
            null
           ]
          },
          {
           "i": [
            0,
            3
           ],
           "j": [
            1,
            4
           ],
           "k": [
            2,
            5
           ],
           "name": "Faces",
           "type": "mesh3d",
           "x": {
            "bdata": "AAAAAAAAAAAAAAAAAADwPwAAAAAAAAAAin9aHIi/4zwBAAAAAADwP8L//////+8/",
            "dtype": "f8"
           },
           "y": {
            "bdata": "AAAAAAAAAAAAAAAAAAAAAAAAAAAAAPA/KOpp5szA5LynJ1Fc7EPzPB8AAAAAAPA/",
            "dtype": "f8"
           },
           "z": {
            "bdata": "AAAAAAAAAAAAAAAAAADgPwAAAAAAAOA/Wo/C9Shczz/8o3A9CtfnP5+QwvUoXM8/",
            "dtype": "f8"
           }
          }
         ],
         "layout": {
          "annotations": [
           {
            "showarrow": false,
            "text": "Time: 0.70s (Step: 71/100)",
            "x": 0.05,
            "xref": "paper",
            "y": 0.95,
            "yref": "paper"
           }
          ]
         },
         "name": "70"
        },
        {
         "data": [
          {
           "name": "Free Nodes",
           "type": "scatter3d",
           "x": {
            "bdata": "AAAAAAAAAAAAAAAAAADwPwAAAAAAAAAAETtaCPE54zwBAAAAAADwP7///////+8/",
            "dtype": "f8"
           },
           "y": {
            "bdata": "AAAAAAAAAAAAAAAAAAAAAAAAAAAAAPA/Gm9BQ6E75LzekvgoLmn0PCAAAAAAAPA/",
            "dtype": "f8"
           },
           "z": {
            "bdata": "AAAAAAAAAAAAAAAAAADgPwAAAAAAAOA/sR6F61G4zj/QR+F6FK7nPwgghetRuM4/",
            "dtype": "f8"
           }
          },
          {
           "name": "Fixed Nodes",
           "type": "scatter3d",
           "x": [],
           "y": [],
           "z": []
          },
          {
           "name": "Edges",
           "type": "scatter3d",
           "x": [
            1,
            0,
            null,
            0,
            0,
            null,
            0,
            1,
            null,
            1.0000000000000002,
            0.9999999999999928,
            null,
            0.9999999999999928,
            2.1345518814730124e-15,
            null,
            2.1345518814730124e-15,
            1.0000000000000002,
            null
           ],
           "y": [
            0,
            1,
            null,
            1,
            0,
            null,
            0,
            0,
            null,
            4.5321214772982544e-15,
            1.000000000000007,
            null,
            1.000000000000007,
            -2.2463064101902242e-15,
            null,
            -2.2463064101902242e-15,
            4.5321214772982544e-15,
            null
           ],
           "z": [
            0.5,
            0.5,
            null,
            0.5,
            0,
            null,
            0,
            0.5,
            null,
            0.7400000000000038,
            0.24000000000000932,
            null,
            0.24000000000000932,
            0.2399999999999998,
            null,
            0.2399999999999998,
            0.7400000000000038,
            null
           ]
          },
          {
           "i": [
            0,
            3
           ],
           "j": [
            1,
            4
           ],
           "k": [
            2,
            5
           ],
           "name": "Faces",
           "type": "mesh3d",
           "x": {
            "bdata": "AAAAAAAAAAAAAAAAAADwPwAAAAAAAAAAETtaCPE54zwBAAAAAADwP7///////+8/",
            "dtype": "f8"
           },
           "y": {
            "bdata": "AAAAAAAAAAAAAAAAAAAAAAAAAAAAAPA/Gm9BQ6E75LzekvgoLmn0PCAAAAAAAPA/",
            "dtype": "f8"
           },
           "z": {
            "bdata": "AAAAAAAAAAAAAAAAAADgPwAAAAAAAOA/sR6F61G4zj/QR+F6FK7nPwgghetRuM4/",
            "dtype": "f8"
           }
          }
         ],
         "layout": {
          "annotations": [
           {
            "showarrow": false,
            "text": "Time: 0.71s (Step: 72/100)",
            "x": 0.05,
            "xref": "paper",
            "y": 0.95,
            "yref": "paper"
           }
          ]
         },
         "name": "71"
        },
        {
         "data": [
          {
           "name": "Free Nodes",
           "type": "scatter3d",
           "x": {
            "bdata": "AAAAAAAAAAAAAAAAAADwPwAAAAAAAAAAIeyAx54D4zwBAAAAAADwP7z//////+8/",
            "dtype": "f8"
           },
           "y": {
            "bdata": "AAAAAAAAAAAAAAAAAAAAAAAAAAAAAPA/bUv4Ay9h47w+xaj920X0PCIAAAAAAPA/",
            "dtype": "f8"
           },
           "z": {
            "bdata": "AAAAAAAAAAAAAAAAAADgPwAAAAAAAOA/CK5H4XoUzj+l61G4HoXnP2yvR+F6FM4/",
            "dtype": "f8"
           }
          },
          {
           "name": "Fixed Nodes",
           "type": "scatter3d",
           "x": [],
           "y": [],
           "z": []
          },
          {
           "name": "Edges",
           "type": "scatter3d",
           "x": [
            1,
            0,
            null,
            0,
            0,
            null,
            0,
            1,
            null,
            1.0000000000000002,
            0.9999999999999925,
            null,
            0.9999999999999925,
            2.110993772010213e-15,
            null,
            2.110993772010213e-15,
            1.0000000000000002,
            null
           ],
           "y": [
            0,
            1,
            null,
            1,
            0,
            null,
            0,
            0,
            null,
            4.5014854164359696e-15,
            1.0000000000000075,
            null,
            1.0000000000000075,
            -2.1515704384478774e-15,
            null,
            -2.1515704384478774e-15,
            4.5014854164359696e-15,
            null
           ],
           "z": [
            0.5,
            0.5,
            null,
            0.5,
            0,
            null,
            0,
            0.5,
            null,
            0.7350000000000035,
            0.23500000000000953,
            null,
            0.23500000000000953,
            0.23499999999999965,
            null,
            0.23499999999999965,
            0.7350000000000035,
            null
           ]
          },
          {
           "i": [
            0,
            3
           ],
           "j": [
            1,
            4
           ],
           "k": [
            2,
            5
           ],
           "name": "Faces",
           "type": "mesh3d",
           "x": {
            "bdata": "AAAAAAAAAAAAAAAAAADwPwAAAAAAAAAAIeyAx54D4zwBAAAAAADwP7z//////+8/",
            "dtype": "f8"
           },
           "y": {
            "bdata": "AAAAAAAAAAAAAAAAAAAAAAAAAAAAAPA/bUv4Ay9h47w+xaj920X0PCIAAAAAAPA/",
            "dtype": "f8"
           },
           "z": {
            "bdata": "AAAAAAAAAAAAAAAAAADgPwAAAAAAAOA/CK5H4XoUzj+l61G4HoXnP2yvR+F6FM4/",
            "dtype": "f8"
           }
          }
         ],
         "layout": {
          "annotations": [
           {
            "showarrow": false,
            "text": "Time: 0.72s (Step: 73/100)",
            "x": 0.05,
            "xref": "paper",
            "y": 0.95,
            "yref": "paper"
           }
          ]
         },
         "name": "72"
        },
        {
         "data": [
          {
           "name": "Free Nodes",
           "type": "scatter3d",
           "x": {
            "bdata": "AAAAAAAAAAAAAAAAAADwPwAAAAAAAAAAjrPdZUeY4jwBAAAAAADwP7n//////+8/",
            "dtype": "f8"
           },
           "y": {
            "bdata": "AAAAAAAAAAAAAAAAAAAAAAAAAAAAAPA/QDcfTfOq4rzyXJo44aH0PCQAAAAAAPA/",
            "dtype": "f8"
           },
           "z": {
            "bdata": "AAAAAAAAAAAAAAAAAADgPwAAAAAAAOA/Xz0K16NwzT96j8L1KFznP9I+CtejcM0/",
            "dtype": "f8"
           }
          },
          {
           "name": "Fixed Nodes",
           "type": "scatter3d",
           "x": [],
           "y": [],
           "z": []
          },
          {
           "name": "Edges",
           "type": "scatter3d",
           "x": [
            1,
            0,
            null,
            0,
            0,
            null,
            0,
            1,
            null,
            1.0000000000000002,
            0.9999999999999921,
            null,
            0.9999999999999921,
            2.064441889183692e-15,
            null,
            2.064441889183692e-15,
            1.0000000000000002,
            null
           ],
           "y": [
            0,
            1,
            null,
            1,
            0,
            null,
            0,
            0,
            null,
            4.5813004171035004e-15,
            1.000000000000008,
            null,
            1.000000000000008,
            -2.072539360416829e-15,
            null,
            -2.072539360416829e-15,
            4.5813004171035004e-15,
            null
           ],
           "z": [
            0.5,
            0.5,
            null,
            0.5,
            0,
            null,
            0,
            0.5,
            null,
            0.7300000000000033,
            0.2300000000000098,
            null,
            0.2300000000000098,
            0.2299999999999995,
            null,
            0.2299999999999995,
            0.7300000000000033,
            null
           ]
          },
          {
           "i": [
            0,
            3
           ],
           "j": [
            1,
            4
           ],
           "k": [
            2,
            5
           ],
           "name": "Faces",
           "type": "mesh3d",
           "x": {
            "bdata": "AAAAAAAAAAAAAAAAAADwPwAAAAAAAAAAjrPdZUeY4jwBAAAAAADwP7n//////+8/",
            "dtype": "f8"
           },
           "y": {
            "bdata": "AAAAAAAAAAAAAAAAAAAAAAAAAAAAAPA/QDcfTfOq4rzyXJo44aH0PCQAAAAAAPA/",
            "dtype": "f8"
           },
           "z": {
            "bdata": "AAAAAAAAAAAAAAAAAADgPwAAAAAAAOA/Xz0K16NwzT96j8L1KFznP9I+CtejcM0/",
            "dtype": "f8"
           }
          }
         ],
         "layout": {
          "annotations": [
           {
            "showarrow": false,
            "text": "Time: 0.73s (Step: 74/100)",
            "x": 0.05,
            "xref": "paper",
            "y": 0.95,
            "yref": "paper"
           }
          ]
         },
         "name": "73"
        },
        {
         "data": [
          {
           "name": "Free Nodes",
           "type": "scatter3d",
           "x": {
            "bdata": "AAAAAAAAAAAAAAAAAADwPwAAAAAAAAAAlByuj+Mu4jwBAAAAAADwP7b//////+8/",
            "dtype": "f8"
           },
           "y": {
            "bdata": "AAAAAAAAAAAAAAAAAAAAAAAAAAAAAPA/qGfQMwLU4byAwAQR6Sv1PCYAAAAAAPA/",
            "dtype": "f8"
           },
           "z": {
            "bdata": "AAAAAAAAAAAAAAAAAADgPwAAAAAAAOA/tszMzMzMzD9PMzMzMzPnPznOzMzMzMw/",
            "dtype": "f8"
           }
          },
          {
           "name": "Fixed Nodes",
           "type": "scatter3d",
           "x": [],
           "y": [],
           "z": []
          },
          {
           "name": "Edges",
           "type": "scatter3d",
           "x": [
            1,
            0,
            null,
            0,
            0,
            null,
            0,
            1,
            null,
            1.0000000000000002,
            0.9999999999999918,
            null,
            0.9999999999999918,
            2.0187362680523695e-15,
            null,
            2.0187362680523695e-15,
            1.0000000000000002,
            null
           ],
           "y": [
            0,
            1,
            null,
            1,
            0,
            null,
            0,
            0,
            null,
            4.701022918104797e-15,
            1.0000000000000084,
            null,
            1.0000000000000084,
            -1.9793232170981564e-15,
            null,
            -1.9793232170981564e-15,
            4.701022918104797e-15,
            null
           ],
           "z": [
            0.5,
            0.5,
            null,
            0.5,
            0,
            null,
            0,
            0.5,
            null,
            0.7250000000000031,
            0.2250000000000101,
            null,
            0.2250000000000101,
            0.22499999999999937,
            null,
            0.22499999999999937,
            0.7250000000000031,
            null
           ]
          },
          {
           "i": [
            0,
            3
           ],
           "j": [
            1,
            4
           ],
           "k": [
            2,
            5
           ],
           "name": "Faces",
           "type": "mesh3d",
           "x": {
            "bdata": "AAAAAAAAAAAAAAAAAADwPwAAAAAAAAAAlByuj+Mu4jwBAAAAAADwP7b//////+8/",
            "dtype": "f8"
           },
           "y": {
            "bdata": "AAAAAAAAAAAAAAAAAAAAAAAAAAAAAPA/qGfQMwLU4byAwAQR6Sv1PCYAAAAAAPA/",
            "dtype": "f8"
           },
           "z": {
            "bdata": "AAAAAAAAAAAAAAAAAADgPwAAAAAAAOA/tszMzMzMzD9PMzMzMzPnPznOzMzMzMw/",
            "dtype": "f8"
           }
          }
         ],
         "layout": {
          "annotations": [
           {
            "showarrow": false,
            "text": "Time: 0.74s (Step: 75/100)",
            "x": 0.05,
            "xref": "paper",
            "y": 0.95,
            "yref": "paper"
           }
          ]
         },
         "name": "74"
        },
        {
         "data": [
          {
           "name": "Free Nodes",
           "type": "scatter3d",
           "x": {
            "bdata": "AAAAAAAAAAAAAAAAAADwPwAAAAAAAAAArKGHGAaN4TwBAAAAAADwP7P//////+8/",
            "dtype": "f8"
           },
           "y": {
            "bdata": "AAAAAAAAAAAAAAAAAAAAAAAAAAAAAPA/kKfxokch4bx1U1Jf+232PCcAAAAAAPA/",
            "dtype": "f8"
           },
           "z": {
            "bdata": "AAAAAAAAAAAAAAAAAADgPwAAAAAAAOA/DVyPwvUozD8k16NwPQrnP6Ndj8L1KMw/",
            "dtype": "f8"
           }
          },
          {
           "name": "Fixed Nodes",
           "type": "scatter3d",
           "x": [],
           "y": [],
           "z": []
          },
          {
           "name": "Edges",
           "type": "scatter3d",
           "x": [
            1,
            0,
            null,
            0,
            0,
            null,
            0,
            1,
            null,
            1.0000000000000002,
            0.9999999999999915,
            null,
            0.9999999999999915,
            1.948538471110986e-15,
            null,
            1.948538471110986e-15,
            1.0000000000000002,
            null
           ],
           "y": [
            0,
            1,
            null,
            1,
            0,
            null,
            0,
            0,
            null,
            4.980375420441154e-15,
            1.0000000000000087,
            null,
            1.0000000000000087,
            -1.9018119674907822e-15,
            null,
            -1.9018119674907822e-15,
            4.980375420441154e-15,
            null
           ],
           "z": [
            0.5,
            0.5,
            null,
            0.5,
            0,
            null,
            0,
            0.5,
            null,
            0.7200000000000029,
            0.2200000000000105,
            null,
            0.2200000000000105,
            0.21999999999999922,
            null,
            0.21999999999999922,
            0.7200000000000029,
            null
           ]
          },
          {
           "i": [
            0,
            3
           ],
           "j": [
            1,
            4
           ],
           "k": [
            2,
            5
           ],
           "name": "Faces",
           "type": "mesh3d",
           "x": {
            "bdata": "AAAAAAAAAAAAAAAAAADwPwAAAAAAAAAArKGHGAaN4TwBAAAAAADwP7P//////+8/",
            "dtype": "f8"
           },
           "y": {
            "bdata": "AAAAAAAAAAAAAAAAAAAAAAAAAAAAAPA/kKfxokch4bx1U1Jf+232PCcAAAAAAPA/",
            "dtype": "f8"
           },
           "z": {
            "bdata": "AAAAAAAAAAAAAAAAAADgPwAAAAAAAOA/DVyPwvUozD8k16NwPQrnP6Ndj8L1KMw/",
            "dtype": "f8"
           }
          }
         ],
         "layout": {
          "annotations": [
           {
            "showarrow": false,
            "text": "Time: 0.75s (Step: 76/100)",
            "x": 0.05,
            "xref": "paper",
            "y": 0.95,
            "yref": "paper"
           }
          ]
         },
         "name": "75"
        },
        {
         "data": [
          {
           "name": "Free Nodes",
           "type": "scatter3d",
           "x": {
            "bdata": "AAAAAAAAAAAAAAAAAADwPwAAAAAAAAAALwtVQUwb4TwBAAAAAADwP7D//////+8/",
            "dtype": "f8"
           },
           "y": {
            "bdata": "AAAAAAAAAAAAAAAAAAAAAAAAAAAAAPA/nXh1uV9m4LyKBOcYVvr2PCkAAAAAAPA/",
            "dtype": "f8"
           },
           "z": {
            "bdata": "AAAAAAAAAAAAAAAAAADgPwAAAAAAAOA/ZetRuB6Fyz/5ehSuR+HmPwrtUbgehcs/",
            "dtype": "f8"
           }
          },
          {
           "name": "Fixed Nodes",
           "type": "scatter3d",
           "x": [],
           "y": [],
           "z": []
          },
          {
           "name": "Edges",
           "type": "scatter3d",
           "x": [
            1,
            0,
            null,
            0,
            0,
            null,
            0,
            1,
            null,
            1.0000000000000002,
            0.9999999999999911,
            null,
            0.9999999999999911,
            1.8992177066658385e-15,
            null,
            1.8992177066658385e-15,
            1.0000000000000002,
            null
           ],
           "y": [
            0,
            1,
            null,
            1,
            0,
            null,
            0,
            0,
            null,
            5.102113451762337e-15,
            1.000000000000009,
            null,
            1.000000000000009,
            -1.820754451561502e-15,
            null,
            -1.820754451561502e-15,
            5.102113451762337e-15,
            null
           ],
           "z": [
            0.5,
            0.5,
            null,
            0.5,
            0,
            null,
            0,
            0.5,
            null,
            0.7150000000000026,
            0.2150000000000108,
            null,
            0.2150000000000108,
            0.2149999999999991,
            null,
            0.2149999999999991,
            0.7150000000000026,
            null
           ]
          },
          {
           "i": [
            0,
            3
           ],
           "j": [
            1,
            4
           ],
           "k": [
            2,
            5
           ],
           "name": "Faces",
           "type": "mesh3d",
           "x": {
            "bdata": "AAAAAAAAAAAAAAAAAADwPwAAAAAAAAAALwtVQUwb4TwBAAAAAADwP7D//////+8/",
            "dtype": "f8"
           },
           "y": {
            "bdata": "AAAAAAAAAAAAAAAAAAAAAAAAAAAAAPA/nXh1uV9m4LyKBOcYVvr2PCkAAAAAAPA/",
            "dtype": "f8"
           },
           "z": {
            "bdata": "AAAAAAAAAAAAAAAAAADgPwAAAAAAAOA/ZetRuB6Fyz/5ehSuR+HmPwrtUbgehcs/",
            "dtype": "f8"
           }
          }
         ],
         "layout": {
          "annotations": [
           {
            "showarrow": false,
            "text": "Time: 0.76s (Step: 77/100)",
            "x": 0.05,
            "xref": "paper",
            "y": 0.95,
            "yref": "paper"
           }
          ]
         },
         "name": "76"
        },
        {
         "data": [
          {
           "name": "Free Nodes",
           "type": "scatter3d",
           "x": {
            "bdata": "AAAAAAAAAAAAAAAAAADwPwAAAAAAAAAAqwHOY9X94DwBAAAAAADwP6z//////+8/",
            "dtype": "f8"
           },
           "y": {
            "bdata": "AAAAAAAAAAAAAAAAAAAAAAAAAAAAAPA/ZEWWpZpT3rx1j2FKMR33PCsAAAAAAPA/",
            "dtype": "f8"
           },
           "z": {
            "bdata": "AAAAAAAAAAAAAAAAAADgPwAAAAAAAOA/vXoUrkfhyj/OHoXrUbjmP298FK5H4co/",
            "dtype": "f8"
           }
          },
          {
           "name": "Fixed Nodes",
           "type": "scatter3d",
           "x": [],
           "y": [],
           "z": []
          },
          {
           "name": "Edges",
           "type": "scatter3d",
           "x": [
            1,
            0,
            null,
            0,
            0,
            null,
            0,
            1,
            null,
            1.0000000000000002,
            0.9999999999999907,
            null,
            0.9999999999999907,
            1.8864395957435026e-15,
            null,
            1.8864395957435026e-15,
            1.0000000000000002,
            null
           ],
           "y": [
            0,
            1,
            null,
            1,
            0,
            null,
            0,
            0,
            null,
            5.132346406560644e-15,
            1.0000000000000095,
            null,
            1.0000000000000095,
            -1.6834632839562835e-15,
            null,
            -1.6834632839562835e-15,
            5.132346406560644e-15,
            null
           ],
           "z": [
            0.5,
            0.5,
            null,
            0.5,
            0,
            null,
            0,
            0.5,
            null,
            0.7100000000000024,
            0.21000000000001104,
            null,
            0.21000000000001104,
            0.209999999999999,
            null,
            0.209999999999999,
            0.7100000000000024,
            null
           ]
          },
          {
           "i": [
            0,
            3
           ],
           "j": [
            1,
            4
           ],
           "k": [
            2,
            5
           ],
           "name": "Faces",
           "type": "mesh3d",
           "x": {
            "bdata": "AAAAAAAAAAAAAAAAAADwPwAAAAAAAAAAqwHOY9X94DwBAAAAAADwP6z//////+8/",
            "dtype": "f8"
           },
           "y": {
            "bdata": "AAAAAAAAAAAAAAAAAAAAAAAAAAAAAPA/ZEWWpZpT3rx1j2FKMR33PCsAAAAAAPA/",
            "dtype": "f8"
           },
           "z": {
            "bdata": "AAAAAAAAAAAAAAAAAADgPwAAAAAAAOA/vXoUrkfhyj/OHoXrUbjmP298FK5H4co/",
            "dtype": "f8"
           }
          }
         ],
         "layout": {
          "annotations": [
           {
            "showarrow": false,
            "text": "Time: 0.77s (Step: 78/100)",
            "x": 0.05,
            "xref": "paper",
            "y": 0.95,
            "yref": "paper"
           }
          ]
         },
         "name": "77"
        },
        {
         "data": [
          {
           "name": "Free Nodes",
           "type": "scatter3d",
           "x": {
            "bdata": "AAAAAAAAAAAAAAAAAADwPwAAAAAAAAAA68g5vxZN4DwBAAAAAADwP6j//////+8/",
            "dtype": "f8"
           },
           "y": {
            "bdata": "AAAAAAAAAAAAAAAAAAAAAAAAAAAAAPA/wts+2BCv3LxPQs2R2573PC0AAAAAAPA/",
            "dtype": "f8"
           },
           "z": {
            "bdata": "AAAAAAAAAAAAAAAAAADgPwAAAAAAAOA/FQrXo3A9yj+jwvUoXI/mP9YL16NwPco/",
            "dtype": "f8"
           }
          },
          {
           "name": "Fixed Nodes",
           "type": "scatter3d",
           "x": [],
           "y": [],
           "z": []
          },
          {
           "name": "Edges",
           "type": "scatter3d",
           "x": [
            1,
            0,
            null,
            0,
            0,
            null,
            0,
            1,
            null,
            1.0000000000000002,
            0.9999999999999902,
            null,
            0.9999999999999902,
            1.809788801188162e-15,
            null,
            1.809788801188162e-15,
            1.0000000000000002,
            null
           ],
           "y": [
            0,
            1,
            null,
            1,
            0,
            null,
            0,
            0,
            null,
            5.244812998410346e-15,
            1.00000000000001,
            null,
            1.00000000000001,
            -1.5922735785358433e-15,
            null,
            -1.5922735785358433e-15,
            5.244812998410346e-15,
            null
           ],
           "z": [
            0.5,
            0.5,
            null,
            0.5,
            0,
            null,
            0,
            0.5,
            null,
            0.7050000000000022,
            0.20500000000001134,
            null,
            0.20500000000001134,
            0.20499999999999888,
            null,
            0.20499999999999888,
            0.7050000000000022,
            null
           ]
          },
          {
           "i": [
            0,
            3
           ],
           "j": [
            1,
            4
           ],
           "k": [
            2,
            5
           ],
           "name": "Faces",
           "type": "mesh3d",
           "x": {
            "bdata": "AAAAAAAAAAAAAAAAAADwPwAAAAAAAAAA68g5vxZN4DwBAAAAAADwP6j//////+8/",
            "dtype": "f8"
           },
           "y": {
            "bdata": "AAAAAAAAAAAAAAAAAAAAAAAAAAAAAPA/wts+2BCv3LxPQs2R2573PC0AAAAAAPA/",
            "dtype": "f8"
           },
           "z": {
            "bdata": "AAAAAAAAAAAAAAAAAADgPwAAAAAAAOA/FQrXo3A9yj+jwvUoXI/mP9YL16NwPco/",
            "dtype": "f8"
           }
          }
         ],
         "layout": {
          "annotations": [
           {
            "showarrow": false,
            "text": "Time: 0.78s (Step: 79/100)",
            "x": 0.05,
            "xref": "paper",
            "y": 0.95,
            "yref": "paper"
           }
          ]
         },
         "name": "78"
        },
        {
         "data": [
          {
           "name": "Free Nodes",
           "type": "scatter3d",
           "x": {
            "bdata": "AAAAAAAAAAAAAAAAAADwPwAAAAAAAAAAwJF/Og053zwBAAAAAADwP6T//////+8/",
            "dtype": "f8"
           },
           "y": {
            "bdata": "AAAAAAAAAAAAAAAAAAAAAAAAAAAAAPA/ShrcVokR27wRXAY5LlP4PC8AAAAAAPA/",
            "dtype": "f8"
           },
           "z": {
            "bdata": "AAAAAAAAAAAAAAAAAADgPwAAAAAAAOA/bZmZmZmZyT94ZmZmZmbmPz6bmZmZmck/",
            "dtype": "f8"
           }
          },
          {
           "name": "Fixed Nodes",
           "type": "scatter3d",
           "x": [],
           "y": [],
           "z": []
          },
          {
           "name": "Edges",
           "type": "scatter3d",
           "x": [
            1,
            0,
            null,
            0,
            0,
            null,
            0,
            1,
            null,
            1.0000000000000002,
            0.9999999999999898,
            null,
            0.9999999999999898,
            1.7332167979183388e-15,
            null,
            1.7332167979183388e-15,
            1.0000000000000002,
            null
           ],
           "y": [
            0,
            1,
            null,
            1,
            0,
            null,
            0,
            0,
            null,
            5.401218151233588e-15,
            1.0000000000000104,
            null,
            1.0000000000000104,
            -1.5026037015390772e-15,
            null,
            -1.5026037015390772e-15,
            5.401218151233588e-15,
            null
           ],
           "z": [
            0.5,
            0.5,
            null,
            0.5,
            0,
            null,
            0,
            0.5,
            null,
            0.700000000000002,
            0.20000000000001167,
            null,
            0.20000000000001167,
            0.19999999999999876,
            null,
            0.19999999999999876,
            0.700000000000002,
            null
           ]
          },
          {
           "i": [
            0,
            3
           ],
           "j": [
            1,
            4
           ],
           "k": [
            2,
            5
           ],
           "name": "Faces",
           "type": "mesh3d",
           "x": {
            "bdata": "AAAAAAAAAAAAAAAAAADwPwAAAAAAAAAAwJF/Og053zwBAAAAAADwP6T//////+8/",
            "dtype": "f8"
           },
           "y": {
            "bdata": "AAAAAAAAAAAAAAAAAAAAAAAAAAAAAPA/ShrcVokR27wRXAY5LlP4PC8AAAAAAPA/",
            "dtype": "f8"
           },
           "z": {
            "bdata": "AAAAAAAAAAAAAAAAAADgPwAAAAAAAOA/bZmZmZmZyT94ZmZmZmbmPz6bmZmZmck/",
            "dtype": "f8"
           }
          }
         ],
         "layout": {
          "annotations": [
           {
            "showarrow": false,
            "text": "Time: 0.79s (Step: 80/100)",
            "x": 0.05,
            "xref": "paper",
            "y": 0.95,
            "yref": "paper"
           }
          ]
         },
         "name": "79"
        },
        {
         "data": [
          {
           "name": "Free Nodes",
           "type": "scatter3d",
           "x": {
            "bdata": "AAAAAAAAAAAAAAAAAADwPwAAAAAAAAAAs5BssBA73TwBAAAAAADwP6D//////+8/",
            "dtype": "f8"
           },
           "y": {
            "bdata": "AAAAAAAAAAAAAAAAAAAAAAAAAAAAAPA/SY8X2+IZ2ryR8gGj33/5PDEAAAAAAPA/",
            "dtype": "f8"
           },
           "z": {
            "bdata": "AAAAAAAAAAAAAAAAAADgPwAAAAAAAOA/xShcj8L1yD9MCtejcD3mP6kqXI/C9cg/",
            "dtype": "f8"
           }
          },
          {
           "name": "Fixed Nodes",
           "type": "scatter3d",
           "x": [],
           "y": [],
           "z": []
          },
          {
           "name": "Edges",
           "type": "scatter3d",
           "x": [
            1,
            0,
            null,
            0,
            0,
            null,
            0,
            1,
            null,
            1.0000000000000002,
            0.9999999999999893,
            null,
            0.9999999999999893,
            1.622631107607286e-15,
            null,
            1.622631107607286e-15,
            1.0000000000000002,
            null
           ],
           "y": [
            0,
            1,
            null,
            1,
            0,
            null,
            0,
            0,
            null,
            5.662027774626983e-15,
            1.0000000000000109,
            null,
            1.0000000000000109,
            -1.4489030972359292e-15,
            null,
            -1.4489030972359292e-15,
            5.662027774626983e-15,
            null
           ],
           "z": [
            0.5,
            0.5,
            null,
            0.5,
            0,
            null,
            0,
            0.5,
            null,
            0.6950000000000016,
            0.19500000000001208,
            null,
            0.19500000000001208,
            0.19499999999999865,
            null,
            0.19499999999999865,
            0.6950000000000016,
            null
           ]
          },
          {
           "i": [
            0,
            3
           ],
           "j": [
            1,
            4
           ],
           "k": [
            2,
            5
           ],
           "name": "Faces",
           "type": "mesh3d",
           "x": {
            "bdata": "AAAAAAAAAAAAAAAAAADwPwAAAAAAAAAAs5BssBA73TwBAAAAAADwP6D//////+8/",
            "dtype": "f8"
           },
           "y": {
            "bdata": "AAAAAAAAAAAAAAAAAAAAAAAAAAAAAPA/SY8X2+IZ2ryR8gGj33/5PDEAAAAAAPA/",
            "dtype": "f8"
           },
           "z": {
            "bdata": "AAAAAAAAAAAAAAAAAADgPwAAAAAAAOA/xShcj8L1yD9MCtejcD3mP6kqXI/C9cg/",
            "dtype": "f8"
           }
          }
         ],
         "layout": {
          "annotations": [
           {
            "showarrow": false,
            "text": "Time: 0.80s (Step: 81/100)",
            "x": 0.05,
            "xref": "paper",
            "y": 0.95,
            "yref": "paper"
           }
          ]
         },
         "name": "80"
        },
        {
         "data": [
          {
           "name": "Free Nodes",
           "type": "scatter3d",
           "x": {
            "bdata": "AAAAAAAAAAAAAAAAAADwPwAAAAAAAAAAKUqtbEjW2zwBAAAAAADwP5z//////+8/",
            "dtype": "f8"
           },
           "y": {
            "bdata": "AAAAAAAAAAAAAAAAAAAAAAAAAAAAAPA/uWIoj6pp2LxgFbmjvkD6PDMAAAAAAPA/",
            "dtype": "f8"
           },
           "z": {
            "bdata": "AAAAAAAAAAAAAAAAAADgPwAAAAAAAOA/HbgehetRyD8grkfhehTmPxO6HoXrUcg/",
            "dtype": "f8"
           }
          },
          {
           "name": "Fixed Nodes",
           "type": "scatter3d",
           "x": [],
           "y": [],
           "z": []
          },
          {
           "name": "Edges",
           "type": "scatter3d",
           "x": [
            1,
            0,
            null,
            0,
            0,
            null,
            0,
            1,
            null,
            1.0000000000000002,
            0.9999999999999889,
            null,
            0.9999999999999889,
            1.5452662821802846e-15,
            null,
            1.5452662821802846e-15,
            1.0000000000000002,
            null
           ],
           "y": [
            0,
            1,
            null,
            1,
            0,
            null,
            0,
            0,
            null,
            5.829316791177615e-15,
            1.0000000000000113,
            null,
            1.0000000000000113,
            -1.3551803444426992e-15,
            null,
            -1.3551803444426992e-15,
            5.829316791177615e-15,
            null
           ],
           "z": [
            0.5,
            0.5,
            null,
            0.5,
            0,
            null,
            0,
            0.5,
            null,
            0.6900000000000013,
            0.19000000000001246,
            null,
            0.19000000000001246,
            0.18999999999999853,
            null,
            0.18999999999999853,
            0.6900000000000013,
            null
           ]
          },
          {
           "i": [
            0,
            3
           ],
           "j": [
            1,
            4
           ],
           "k": [
            2,
            5
           ],
           "name": "Faces",
           "type": "mesh3d",
           "x": {
            "bdata": "AAAAAAAAAAAAAAAAAADwPwAAAAAAAAAAKUqtbEjW2zwBAAAAAADwP5z//////+8/",
            "dtype": "f8"
           },
           "y": {
            "bdata": "AAAAAAAAAAAAAAAAAAAAAAAAAAAAAPA/uWIoj6pp2LxgFbmjvkD6PDMAAAAAAPA/",
            "dtype": "f8"
           },
           "z": {
            "bdata": "AAAAAAAAAAAAAAAAAADgPwAAAAAAAOA/HbgehetRyD8grkfhehTmPxO6HoXrUcg/",
            "dtype": "f8"
           }
          }
         ],
         "layout": {
          "annotations": [
           {
            "showarrow": false,
            "text": "Time: 0.81s (Step: 82/100)",
            "x": 0.05,
            "xref": "paper",
            "y": 0.95,
            "yref": "paper"
           }
          ]
         },
         "name": "81"
        },
        {
         "data": [
          {
           "name": "Free Nodes",
           "type": "scatter3d",
           "x": {
            "bdata": "AAAAAAAAAAAAAAAAAADwPwAAAAAAAAAAYSvy4+xp2jwBAAAAAADwP5j//////+8/",
            "dtype": "f8"
           },
           "y": {
            "bdata": "AAAAAAAAAAAAAAAAAAAAAAAAAAAAAPA/Xe1xx2aW1rzAg3hjosz6PDUAAAAAAPA/",
            "dtype": "f8"
           },
           "z": {
            "bdata": "AAAAAAAAAAAAAAAAAADgPwAAAAAAAOA/dUfhehSuxz/0UbgehevlP31J4XoUrsc/",
            "dtype": "f8"
           }
          },
          {
           "name": "Fixed Nodes",
           "type": "scatter3d",
           "x": [],
           "y": [],
           "z": []
          },
          {
           "name": "Edges",
           "type": "scatter3d",
           "x": [
            1,
            0,
            null,
            0,
            0,
            null,
            0,
            1,
            null,
            1.0000000000000002,
            0.9999999999999885,
            null,
            0.9999999999999885,
            1.466258831620414e-15,
            null,
            1.466258831620414e-15,
            1.0000000000000002,
            null
           ],
           "y": [
            0,
            1,
            null,
            1,
            0,
            null,
            0,
            0,
            null,
            5.950651716434821e-15,
            1.0000000000000118,
            null,
            1.0000000000000118,
            -1.2538584495310994e-15,
            null,
            -1.2538584495310994e-15,
            5.950651716434821e-15,
            null
           ],
           "z": [
            0.5,
            0.5,
            null,
            0.5,
            0,
            null,
            0,
            0.5,
            null,
            0.6850000000000009,
            0.18500000000001285,
            null,
            0.18500000000001285,
            0.18499999999999842,
            null,
            0.18499999999999842,
            0.6850000000000009,
            null
           ]
          },
          {
           "i": [
            0,
            3
           ],
           "j": [
            1,
            4
           ],
           "k": [
            2,
            5
           ],
           "name": "Faces",
           "type": "mesh3d",
           "x": {
            "bdata": "AAAAAAAAAAAAAAAAAADwPwAAAAAAAAAAYSvy4+xp2jwBAAAAAADwP5j//////+8/",
            "dtype": "f8"
           },
           "y": {
            "bdata": "AAAAAAAAAAAAAAAAAAAAAAAAAAAAAPA/Xe1xx2aW1rzAg3hjosz6PDUAAAAAAPA/",
            "dtype": "f8"
           },
           "z": {
            "bdata": "AAAAAAAAAAAAAAAAAADgPwAAAAAAAOA/dUfhehSuxz/0UbgehevlP31J4XoUrsc/",
            "dtype": "f8"
           }
          }
         ],
         "layout": {
          "annotations": [
           {
            "showarrow": false,
            "text": "Time: 0.82s (Step: 83/100)",
            "x": 0.05,
            "xref": "paper",
            "y": 0.95,
            "yref": "paper"
           }
          ]
         },
         "name": "82"
        },
        {
         "data": [
          {
           "name": "Free Nodes",
           "type": "scatter3d",
           "x": {
            "bdata": "AAAAAAAAAAAAAAAAAADwPwAAAAAAAAAAmyp78sRP2TwBAAAAAADwP5T//////+8/",
            "dtype": "f8"
           },
           "y": {
            "bdata": "AAAAAAAAAAAAAAAAAAAAAAAAAAAAAPA/o6ypxPIv1LxLhyZ/Qbf6PDcAAAAAAPA/",
            "dtype": "f8"
           },
           "z": {
            "bdata": "AAAAAAAAAAAAAAAAAADgPwAAAAAAAOA/zNajcD0Kxz/J9Shcj8LlP+TYo3A9Csc/",
            "dtype": "f8"
           }
          },
          {
           "name": "Fixed Nodes",
           "type": "scatter3d",
           "x": [],
           "y": [],
           "z": []
          },
          {
           "name": "Edges",
           "type": "scatter3d",
           "x": [
            1,
            0,
            null,
            0,
            0,
            null,
            0,
            1,
            null,
            1.0000000000000002,
            0.999999999999988,
            null,
            0.999999999999988,
            1.4050759958671002e-15,
            null,
            1.4050759958671002e-15,
            1.0000000000000002,
            null
           ],
           "y": [
            0,
            1,
            null,
            1,
            0,
            null,
            0,
            0,
            null,
            5.932108837491859e-15,
            1.0000000000000122,
            null,
            1.0000000000000122,
            -1.1206201577223458e-15,
            null,
            -1.1206201577223458e-15,
            5.932108837491859e-15,
            null
           ],
           "z": [
            0.5,
            0.5,
            null,
            0.5,
            0,
            null,
            0,
            0.5,
            null,
            0.6800000000000007,
            0.18000000000001315,
            null,
            0.18000000000001315,
            0.17999999999999827,
            null,
            0.17999999999999827,
            0.6800000000000007,
            null
           ]
          },
          {
           "i": [
            0,
            3
           ],
           "j": [
            1,
            4
           ],
           "k": [
            2,
            5
           ],
           "name": "Faces",
           "type": "mesh3d",
           "x": {
            "bdata": "AAAAAAAAAAAAAAAAAADwPwAAAAAAAAAAmyp78sRP2TwBAAAAAADwP5T//////+8/",
            "dtype": "f8"
           },
           "y": {
            "bdata": "AAAAAAAAAAAAAAAAAAAAAAAAAAAAAPA/o6ypxPIv1LxLhyZ/Qbf6PDcAAAAAAPA/",
            "dtype": "f8"
           },
           "z": {
            "bdata": "AAAAAAAAAAAAAAAAAADgPwAAAAAAAOA/zNajcD0Kxz/J9Shcj8LlP+TYo3A9Csc/",
            "dtype": "f8"
           }
          }
         ],
         "layout": {
          "annotations": [
           {
            "showarrow": false,
            "text": "Time: 0.83s (Step: 84/100)",
            "x": 0.05,
            "xref": "paper",
            "y": 0.95,
            "yref": "paper"
           }
          ]
         },
         "name": "83"
        },
        {
         "data": [
          {
           "name": "Free Nodes",
           "type": "scatter3d",
           "x": {
            "bdata": "AAAAAAAAAAAAAAAAAADwPwAAAAAAAAAACHjWwVtd1jwBAAAAAADwP5L//////+8/",
            "dtype": "f8"
           },
           "y": {
            "bdata": "AAAAAAAAAAAAAAAAAAAAAAAAAAAAAPA/tHTWweob1bybyLoTZkb7PDkAAAAAAPA/",
            "dtype": "f8"
           },
           "z": {
            "bdata": "AAAAAAAAAAAAAAAAAADgPwAAAAAAAOA/JGZmZmZmxj+dmZmZmZnlP05oZmZmZsY/",
            "dtype": "f8"
           }
          },
          {
           "name": "Fixed Nodes",
           "type": "scatter3d",
           "x": [],
           "y": [],
           "z": []
          },
          {
           "name": "Edges",
           "type": "scatter3d",
           "x": [
            1,
            0,
            null,
            0,
            0,
            null,
            0,
            1,
            null,
            1.0000000000000002,
            0.9999999999999878,
            null,
            0.9999999999999878,
            1.2414892088494808e-15,
            null,
            1.2414892088494808e-15,
            1.0000000000000002,
            null
           ],
           "y": [
            0,
            1,
            null,
            1,
            0,
            null,
            0,
            0,
            null,
            6.056265505196906e-15,
            1.0000000000000127,
            null,
            1.0000000000000127,
            -1.1717877146527037e-15,
            null,
            -1.1717877146527037e-15,
            6.056265505196906e-15,
            null
           ],
           "z": [
            0.5,
            0.5,
            null,
            0.5,
            0,
            null,
            0,
            0.5,
            null,
            0.6750000000000004,
            0.17500000000001353,
            null,
            0.17500000000001353,
            0.17499999999999816,
            null,
            0.17499999999999816,
            0.6750000000000004,
            null
           ]
          },
          {
           "i": [
            0,
            3
           ],
           "j": [
            1,
            4
           ],
           "k": [
            2,
            5
           ],
           "name": "Faces",
           "type": "mesh3d",
           "x": {
            "bdata": "AAAAAAAAAAAAAAAAAADwPwAAAAAAAAAACHjWwVtd1jwBAAAAAADwP5L//////+8/",
            "dtype": "f8"
           },
           "y": {
            "bdata": "AAAAAAAAAAAAAAAAAAAAAAAAAAAAAPA/tHTWweob1bybyLoTZkb7PDkAAAAAAPA/",
            "dtype": "f8"
           },
           "z": {
            "bdata": "AAAAAAAAAAAAAAAAAADgPwAAAAAAAOA/JGZmZmZmxj+dmZmZmZnlP05oZmZmZsY/",
            "dtype": "f8"
           }
          }
         ],
         "layout": {
          "annotations": [
           {
            "showarrow": false,
            "text": "Time: 0.84s (Step: 85/100)",
            "x": 0.05,
            "xref": "paper",
            "y": 0.95,
            "yref": "paper"
           }
          ]
         },
         "name": "84"
        },
        {
         "data": [
          {
           "name": "Free Nodes",
           "type": "scatter3d",
           "x": {
            "bdata": "AAAAAAAAAAAAAAAAAADwPwAAAAAAAAAA7paaItfu1jwBAAAAAADwP47//////+8/",
            "dtype": "f8"
           },
           "y": {
            "bdata": "AAAAAAAAAAAAAAAAAAAAAAAAAAAAAPA/hJGLTlxg0bxBcDtLN0L7PDoAAAAAAPA/",
            "dtype": "f8"
           },
           "z": {
            "bdata": "AAAAAAAAAAAAAAAAAADgPwAAAAAAAOA/e/UoXI/CxT9yPQrXo3DlP7f3KFyPwsU/",
            "dtype": "f8"
           }
          },
          {
           "name": "Fixed Nodes",
           "type": "scatter3d",
           "x": [],
           "y": [],
           "z": []
          },
          {
           "name": "Edges",
           "type": "scatter3d",
           "x": [
            1,
            0,
            null,
            0,
            0,
            null,
            0,
            1,
            null,
            1.0000000000000002,
            0.9999999999999873,
            null,
            0.9999999999999873,
            1.2730355770762285e-15,
            null,
            1.2730355770762285e-15,
            1.0000000000000002,
            null
           ],
           "y": [
            0,
            1,
            null,
            1,
            0,
            null,
            0,
            0,
            null,
            6.052637550621109e-15,
            1.0000000000000129,
            null,
            1.0000000000000129,
            -9.645844395584828e-16,
            null,
            -9.645844395584828e-16,
            6.052637550621109e-15,
            null
           ],
           "z": [
            0.5,
            0.5,
            null,
            0.5,
            0,
            null,
            0,
            0.5,
            null,
            0.6700000000000002,
            0.1700000000000139,
            null,
            0.1700000000000139,
            0.169999999999998,
            null,
            0.169999999999998,
            0.6700000000000002,
            null
           ]
          },
          {
           "i": [
            0,
            3
           ],
           "j": [
            1,
            4
           ],
           "k": [
            2,
            5
           ],
           "name": "Faces",
           "type": "mesh3d",
           "x": {
            "bdata": "AAAAAAAAAAAAAAAAAADwPwAAAAAAAAAA7paaItfu1jwBAAAAAADwP47//////+8/",
            "dtype": "f8"
           },
           "y": {
            "bdata": "AAAAAAAAAAAAAAAAAAAAAAAAAAAAAPA/hJGLTlxg0bxBcDtLN0L7PDoAAAAAAPA/",
            "dtype": "f8"
           },
           "z": {
            "bdata": "AAAAAAAAAAAAAAAAAADgPwAAAAAAAOA/e/UoXI/CxT9yPQrXo3DlP7f3KFyPwsU/",
            "dtype": "f8"
           }
          }
         ],
         "layout": {
          "annotations": [
           {
            "showarrow": false,
            "text": "Time: 0.85s (Step: 86/100)",
            "x": 0.05,
            "xref": "paper",
            "y": 0.95,
            "yref": "paper"
           }
          ]
         },
         "name": "85"
        },
        {
         "data": [
          {
           "name": "Free Nodes",
           "type": "scatter3d",
           "x": {
            "bdata": "AAAAAAAAAAAAAAAAAADwPwAAAAAAAAAAoXHR//fa0zwBAAAAAADwP4z//////+8/",
            "dtype": "f8"
           },
           "y": {
            "bdata": "AAAAAAAAAAAAAAAAAAAAAAAAAAAAAPA/D1KWL1th0rzx/IwKYlr7PDwAAAAAAPA/",
            "dtype": "f8"
           },
           "z": {
            "bdata": "AAAAAAAAAAAAAAAAAADgPwAAAAAAAOA/04TrUbgexT9G4XoUrkflPyKH61G4HsU/",
            "dtype": "f8"
           }
          },
          {
           "name": "Fixed Nodes",
           "type": "scatter3d",
           "x": [],
           "y": [],
           "z": []
          },
          {
           "name": "Edges",
           "type": "scatter3d",
           "x": [
            1,
            0,
            null,
            0,
            0,
            null,
            0,
            1,
            null,
            1.0000000000000002,
            0.9999999999999871,
            null,
            0.9999999999999871,
            1.1021931516834618e-15,
            null,
            1.1021931516834618e-15,
            1.0000000000000002,
            null
           ],
           "y": [
            0,
            1,
            null,
            1,
            0,
            null,
            0,
            0,
            null,
            6.073599065947935e-15,
            1.0000000000000133,
            null,
            1.0000000000000133,
            -1.0203114817598624e-15,
            null,
            -1.0203114817598624e-15,
            6.073599065947935e-15,
            null
           ],
           "z": [
            0.5,
            0.5,
            null,
            0.5,
            0,
            null,
            0,
            0.5,
            null,
            0.6649999999999998,
            0.1650000000000143,
            null,
            0.1650000000000143,
            0.1649999999999979,
            null,
            0.1649999999999979,
            0.6649999999999998,
            null
           ]
          },
          {
           "i": [
            0,
            3
           ],
           "j": [
            1,
            4
           ],
           "k": [
            2,
            5
           ],
           "name": "Faces",
           "type": "mesh3d",
           "x": {
            "bdata": "AAAAAAAAAAAAAAAAAADwPwAAAAAAAAAAoXHR//fa0zwBAAAAAADwP4z//////+8/",
            "dtype": "f8"
           },
           "y": {
            "bdata": "AAAAAAAAAAAAAAAAAAAAAAAAAAAAAPA/D1KWL1th0rzx/IwKYlr7PDwAAAAAAPA/",
            "dtype": "f8"
           },
           "z": {
            "bdata": "AAAAAAAAAAAAAAAAAADgPwAAAAAAAOA/04TrUbgexT9G4XoUrkflPyKH61G4HsU/",
            "dtype": "f8"
           }
          }
         ],
         "layout": {
          "annotations": [
           {
            "showarrow": false,
            "text": "Time: 0.86s (Step: 87/100)",
            "x": 0.05,
            "xref": "paper",
            "y": 0.95,
            "yref": "paper"
           }
          ]
         },
         "name": "86"
        },
        {
         "data": [
          {
           "name": "Free Nodes",
           "type": "scatter3d",
           "x": {
            "bdata": "AAAAAAAAAAAAAAAAAADwPwAAAAAAAAAAeQLQN24z1DwBAAAAAADwP4j//////+8/",
            "dtype": "f8"
           },
           "y": {
            "bdata": "AAAAAAAAAAAAAAAAAAAAAAAAAAAAAPA/QwSZpf9+zbyE2msygB37PD0AAAAAAPA/",
            "dtype": "f8"
           },
           "z": {
            "bdata": "AAAAAAAAAAAAAAAAAADgPwAAAAAAAOA/KhSuR+F6xD8bhetRuB7lP4wWrkfhesQ/",
            "dtype": "f8"
           }
          },
          {
           "name": "Fixed Nodes",
           "type": "scatter3d",
           "x": [],
           "y": [],
           "z": []
          },
          {
           "name": "Edges",
           "type": "scatter3d",
           "x": [
            1,
            0,
            null,
            0,
            0,
            null,
            0,
            1,
            null,
            1.0000000000000002,
            0.9999999999999867,
            null,
            0.9999999999999867,
            1.1213752450769032e-15,
            null,
            1.1213752450769032e-15,
            1.0000000000000002,
            null
           ],
           "y": [
            0,
            1,
            null,
            1,
            0,
            null,
            0,
            0,
            null,
            6.0207921715668925e-15,
            1.0000000000000135,
            null,
            1.0000000000000135,
            -8.186809108857798e-16,
            null,
            -8.186809108857798e-16,
            6.0207921715668925e-15,
            null
           ],
           "z": [
            0.5,
            0.5,
            null,
            0.5,
            0,
            null,
            0,
            0.5,
            null,
            0.6599999999999996,
            0.16000000000001469,
            null,
            0.16000000000001469,
            0.15999999999999776,
            null,
            0.15999999999999776,
            0.6599999999999996,
            null
           ]
          },
          {
           "i": [
            0,
            3
           ],
           "j": [
            1,
            4
           ],
           "k": [
            2,
            5
           ],
           "name": "Faces",
           "type": "mesh3d",
           "x": {
            "bdata": "AAAAAAAAAAAAAAAAAADwPwAAAAAAAAAAeQLQN24z1DwBAAAAAADwP4j//////+8/",
            "dtype": "f8"
           },
           "y": {
            "bdata": "AAAAAAAAAAAAAAAAAAAAAAAAAAAAAPA/QwSZpf9+zbyE2msygB37PD0AAAAAAPA/",
            "dtype": "f8"
           },
           "z": {
            "bdata": "AAAAAAAAAAAAAAAAAADgPwAAAAAAAOA/KhSuR+F6xD8bhetRuB7lP4wWrkfhesQ/",
            "dtype": "f8"
           }
          }
         ],
         "layout": {
          "annotations": [
           {
            "showarrow": false,
            "text": "Time: 0.87s (Step: 88/100)",
            "x": 0.05,
            "xref": "paper",
            "y": 0.95,
            "yref": "paper"
           }
          ]
         },
         "name": "87"
        },
        {
         "data": [
          {
           "name": "Free Nodes",
           "type": "scatter3d",
           "x": {
            "bdata": "AAAAAAAAAAAAAAAAAADwPwAAAAAAAAAAL1sdWjue0jwBAAAAAADwP4X//////+8/",
            "dtype": "f8"
           },
           "y": {
            "bdata": "AAAAAAAAAAAAAAAAAAAAAAAAAAAAAPA/M0XDwSfsyrzi6G41+wn7PD4AAAAAAPA/",
            "dtype": "f8"
           },
           "z": {
            "bdata": "AAAAAAAAAAAAAAAAAADgPwAAAAAAAOA/gaNwPQrXwz/wKFyPwvXkP/alcD0K18M/",
            "dtype": "f8"
           }
          },
          {
           "name": "Fixed Nodes",
           "type": "scatter3d",
           "x": [],
           "y": [],
           "z": []
          },
          {
           "name": "Edges",
           "type": "scatter3d",
           "x": [
            1,
            0,
            null,
            0,
            0,
            null,
            0,
            1,
            null,
            1.0000000000000002,
            0.9999999999999863,
            null,
            0.9999999999999863,
            1.0335117839215112e-15,
            null,
            1.0335117839215112e-15,
            1.0000000000000002,
            null
           ],
           "y": [
            0,
            1,
            null,
            1,
            0,
            null,
            0,
            0,
            null,
            6.003861716879841e-15,
            1.0000000000000138,
            null,
            1.0000000000000138,
            -7.472489749731024e-16,
            null,
            -7.472489749731024e-16,
            6.003861716879841e-15,
            null
           ],
           "z": [
            0.5,
            0.5,
            null,
            0.5,
            0,
            null,
            0,
            0.5,
            null,
            0.6549999999999994,
            0.15500000000001507,
            null,
            0.15500000000001507,
            0.1549999999999976,
            null,
            0.1549999999999976,
            0.6549999999999994,
            null
           ]
          },
          {
           "i": [
            0,
            3
           ],
           "j": [
            1,
            4
           ],
           "k": [
            2,
            5
           ],
           "name": "Faces",
           "type": "mesh3d",
           "x": {
            "bdata": "AAAAAAAAAAAAAAAAAADwPwAAAAAAAAAAL1sdWjue0jwBAAAAAADwP4X//////+8/",
            "dtype": "f8"
           },
           "y": {
            "bdata": "AAAAAAAAAAAAAAAAAAAAAAAAAAAAAPA/M0XDwSfsyrzi6G41+wn7PD4AAAAAAPA/",
            "dtype": "f8"
           },
           "z": {
            "bdata": "AAAAAAAAAAAAAAAAAADgPwAAAAAAAOA/gaNwPQrXwz/wKFyPwvXkP/alcD0K18M/",
            "dtype": "f8"
           }
          }
         ],
         "layout": {
          "annotations": [
           {
            "showarrow": false,
            "text": "Time: 0.88s (Step: 89/100)",
            "x": 0.05,
            "xref": "paper",
            "y": 0.95,
            "yref": "paper"
           }
          ]
         },
         "name": "88"
        },
        {
         "data": [
          {
           "name": "Free Nodes",
           "type": "scatter3d",
           "x": {
            "bdata": "AAAAAAAAAAAAAAAAAADwPwAAAAAAAAAA/IqKf2o30DwBAAAAAADwP4P//////+8/",
            "dtype": "f8"
           },
           "y": {
            "bdata": "AAAAAAAAAAAAAAAAAAAAAAAAAAAAAPA/kQd+4zcmzbzeZAWnX3r6PEAAAAAAAPA/",
            "dtype": "f8"
           },
           "z": {
            "bdata": "AAAAAAAAAAAAAAAAAADgPwAAAAAAAOA/2TIzMzMzwz/FzMzMzMzkP181MzMzM8M/",
            "dtype": "f8"
           }
          },
          {
           "name": "Fixed Nodes",
           "type": "scatter3d",
           "x": [],
           "y": [],
           "z": []
          },
          {
           "name": "Edges",
           "type": "scatter3d",
           "x": [
            1,
            0,
            null,
            0,
            0,
            null,
            0,
            1,
            null,
            1.0000000000000002,
            0.9999999999999861,
            null,
            0.9999999999999861,
            9.00194851088251e-16,
            null,
            9.00194851088251e-16,
            1.0000000000000002,
            null
           ],
           "y": [
            0,
            1,
            null,
            1,
            0,
            null,
            0,
            0,
            null,
            5.8793019431108165e-15,
            1.0000000000000142,
            null,
            1.0000000000000142,
            -8.090553308691779e-16,
            null,
            -8.090553308691779e-16,
            5.8793019431108165e-15,
            null
           ],
           "z": [
            0.5,
            0.5,
            null,
            0.5,
            0,
            null,
            0,
            0.5,
            null,
            0.6499999999999991,
            0.15000000000001543,
            null,
            0.15000000000001543,
            0.1499999999999975,
            null,
            0.1499999999999975,
            0.6499999999999991,
            null
           ]
          },
          {
           "i": [
            0,
            3
           ],
           "j": [
            1,
            4
           ],
           "k": [
            2,
            5
           ],
           "name": "Faces",
           "type": "mesh3d",
           "x": {
            "bdata": "AAAAAAAAAAAAAAAAAADwPwAAAAAAAAAA/IqKf2o30DwBAAAAAADwP4P//////+8/",
            "dtype": "f8"
           },
           "y": {
            "bdata": "AAAAAAAAAAAAAAAAAAAAAAAAAAAAAPA/kQd+4zcmzbzeZAWnX3r6PEAAAAAAAPA/",
            "dtype": "f8"
           },
           "z": {
            "bdata": "AAAAAAAAAAAAAAAAAADgPwAAAAAAAOA/2TIzMzMzwz/FzMzMzMzkP181MzMzM8M/",
            "dtype": "f8"
           }
          }
         ],
         "layout": {
          "annotations": [
           {
            "showarrow": false,
            "text": "Time: 0.89s (Step: 90/100)",
            "x": 0.05,
            "xref": "paper",
            "y": 0.95,
            "yref": "paper"
           }
          ]
         },
         "name": "89"
        },
        {
         "data": [
          {
           "name": "Free Nodes",
           "type": "scatter3d",
           "x": {
            "bdata": "AAAAAAAAAAAAAAAAAADwPwAAAAAAAAAA+rwwAdgC0jwBAAAAAADwP4D//////+8/",
            "dtype": "f8"
           },
           "y": {
            "bdata": "AAAAAAAAAAAAAAAAAAAAAAAAAAAAAPA/JRGyWfZQybyplSmCvKP6PEEAAAAAAPA/",
            "dtype": "f8"
           },
           "z": {
            "bdata": "AAAAAAAAAAAAAAAAAADgPwAAAAAAAOA/MsL1KFyPwj+ZcD0K16PkP8vE9Shcj8I/",
            "dtype": "f8"
           }
          },
          {
           "name": "Fixed Nodes",
           "type": "scatter3d",
           "x": [],
           "y": [],
           "z": []
          },
          {
           "name": "Edges",
           "type": "scatter3d",
           "x": [
            1,
            0,
            null,
            0,
            0,
            null,
            0,
            1,
            null,
            1.0000000000000002,
            0.9999999999999858,
            null,
            0.9999999999999858,
            9.998173660868908e-16,
            null,
            9.998173660868908e-16,
            1.0000000000000002,
            null
           ],
           "y": [
            0,
            1,
            null,
            1,
            0,
            null,
            0,
            0,
            null,
            5.915178382804807e-15,
            1.0000000000000144,
            null,
            1.0000000000000144,
            -7.02667341211999e-16,
            null,
            -7.02667341211999e-16,
            5.915178382804807e-15,
            null
           ],
           "z": [
            0.5,
            0.5,
            null,
            0.5,
            0,
            null,
            0,
            0.5,
            null,
            0.6449999999999988,
            0.14500000000001587,
            null,
            0.14500000000001587,
            0.1449999999999974,
            null,
            0.1449999999999974,
            0.6449999999999988,
            null
           ]
          },
          {
           "i": [
            0,
            3
           ],
           "j": [
            1,
            4
           ],
           "k": [
            2,
            5
           ],
           "name": "Faces",
           "type": "mesh3d",
           "x": {
            "bdata": "AAAAAAAAAAAAAAAAAADwPwAAAAAAAAAA+rwwAdgC0jwBAAAAAADwP4D//////+8/",
            "dtype": "f8"
           },
           "y": {
            "bdata": "AAAAAAAAAAAAAAAAAAAAAAAAAAAAAPA/JRGyWfZQybyplSmCvKP6PEEAAAAAAPA/",
            "dtype": "f8"
           },
           "z": {
            "bdata": "AAAAAAAAAAAAAAAAAADgPwAAAAAAAOA/MsL1KFyPwj+ZcD0K16PkP8vE9Shcj8I/",
            "dtype": "f8"
           }
          }
         ],
         "layout": {
          "annotations": [
           {
            "showarrow": false,
            "text": "Time: 0.90s (Step: 91/100)",
            "x": 0.05,
            "xref": "paper",
            "y": 0.95,
            "yref": "paper"
           }
          ]
         },
         "name": "90"
        },
        {
         "data": [
          {
           "name": "Free Nodes",
           "type": "scatter3d",
           "x": {
            "bdata": "AAAAAAAAAAAAAAAAAADwPwAAAAAAAAAAYGIsGw8zzjwCAAAAAADwP37//////+8/",
            "dtype": "f8"
           },
           "y": {
            "bdata": "AAAAAAAAAAAAAAAAAAAAAAAAAAAAAPA/GY0ynapyyrz8RZLqHCj6PEMAAAAAAPA/",
            "dtype": "f8"
           },
           "z": {
            "bdata": "AAAAAAAAAAAAAAAAAADgPwAAAAAAAOA/iFG4HoXrwT9uFK5H4XrkPzRUuB6F68E/",
            "dtype": "f8"
           }
          },
          {
           "name": "Fixed Nodes",
           "type": "scatter3d",
           "x": [],
           "y": [],
           "z": []
          },
          {
           "name": "Edges",
           "type": "scatter3d",
           "x": [
            1,
            0,
            null,
            0,
            0,
            null,
            0,
            1,
            null,
            1.0000000000000004,
            0.9999999999999856,
            null,
            0.9999999999999856,
            8.382030972502276e-16,
            null,
            8.382030972502276e-16,
            1.0000000000000004,
            null
           ],
           "y": [
            0,
            1,
            null,
            1,
            0,
            null,
            0,
            0,
            null,
            5.807952169786812e-15,
            1.0000000000000149,
            null,
            1.0000000000000149,
            -7.340771286345947e-16,
            null,
            -7.340771286345947e-16,
            5.807952169786812e-15,
            null
           ],
           "z": [
            0.5,
            0.5,
            null,
            0.5,
            0,
            null,
            0,
            0.5,
            null,
            0.6399999999999986,
            0.14000000000001622,
            null,
            0.14000000000001622,
            0.13999999999999724,
            null,
            0.13999999999999724,
            0.6399999999999986,
            null
           ]
          },
          {
           "i": [
            0,
            3
           ],
           "j": [
            1,
            4
           ],
           "k": [
            2,
            5
           ],
           "name": "Faces",
           "type": "mesh3d",
           "x": {
            "bdata": "AAAAAAAAAAAAAAAAAADwPwAAAAAAAAAAYGIsGw8zzjwCAAAAAADwP37//////+8/",
            "dtype": "f8"
           },
           "y": {
            "bdata": "AAAAAAAAAAAAAAAAAAAAAAAAAAAAAPA/GY0ynapyyrz8RZLqHCj6PEMAAAAAAPA/",
            "dtype": "f8"
           },
           "z": {
            "bdata": "AAAAAAAAAAAAAAAAAADgPwAAAAAAAOA/iFG4HoXrwT9uFK5H4XrkPzRUuB6F68E/",
            "dtype": "f8"
           }
          }
         ],
         "layout": {
          "annotations": [
           {
            "showarrow": false,
            "text": "Time: 0.91s (Step: 92/100)",
            "x": 0.05,
            "xref": "paper",
            "y": 0.95,
            "yref": "paper"
           }
          ]
         },
         "name": "91"
        },
        {
         "data": [
          {
           "name": "Free Nodes",
           "type": "scatter3d",
           "x": {
            "bdata": "AAAAAAAAAAAAAAAAAADwPwAAAAAAAAAAHMid8IVk0DwCAAAAAADwP3z//////+8/",
            "dtype": "f8"
           },
           "y": {
            "bdata": "AAAAAAAAAAAAAAAAAAAAAAAAAAAAAPA/mD75Rbedy7zAnIW5+nj6PEQAAAAAAPA/",
            "dtype": "f8"
           },
           "z": {
            "bdata": "AAAAAAAAAAAAAAAAAADgPwAAAAAAAOA/4uB6FK5HwT9BuB6F61HkP6HjehSuR8E/",
            "dtype": "f8"
           }
          },
          {
           "name": "Fixed Nodes",
           "type": "scatter3d",
           "x": [],
           "y": [],
           "z": []
          },
          {
           "name": "Edges",
           "type": "scatter3d",
           "x": [
            1,
            0,
            null,
            0,
            0,
            null,
            0,
            1,
            null,
            1.0000000000000004,
            0.9999999999999853,
            null,
            0.9999999999999853,
            9.099759146644886e-16,
            null,
            9.099759146644886e-16,
            1.0000000000000004,
            null
           ],
           "y": [
            0,
            1,
            null,
            1,
            0,
            null,
            0,
            0,
            null,
            5.878092624918884e-15,
            1.000000000000015,
            null,
            1.000000000000015,
            -7.665001350063063e-16,
            null,
            -7.665001350063063e-16,
            5.878092624918884e-15,
            null
           ],
           "z": [
            0.5,
            0.5,
            null,
            0.5,
            0,
            null,
            0,
            0.5,
            null,
            0.6349999999999981,
            0.1350000000000167,
            null,
            0.1350000000000167,
            0.13499999999999718,
            null,
            0.13499999999999718,
            0.6349999999999981,
            null
           ]
          },
          {
           "i": [
            0,
            3
           ],
           "j": [
            1,
            4
           ],
           "k": [
            2,
            5
           ],
           "name": "Faces",
           "type": "mesh3d",
           "x": {
            "bdata": "AAAAAAAAAAAAAAAAAADwPwAAAAAAAAAAHMid8IVk0DwCAAAAAADwP3z//////+8/",
            "dtype": "f8"
           },
           "y": {
            "bdata": "AAAAAAAAAAAAAAAAAAAAAAAAAAAAAPA/mD75Rbedy7zAnIW5+nj6PEQAAAAAAPA/",
            "dtype": "f8"
           },
           "z": {
            "bdata": "AAAAAAAAAAAAAAAAAADgPwAAAAAAAOA/4uB6FK5HwT9BuB6F61HkP6HjehSuR8E/",
            "dtype": "f8"
           }
          }
         ],
         "layout": {
          "annotations": [
           {
            "showarrow": false,
            "text": "Time: 0.92s (Step: 93/100)",
            "x": 0.05,
            "xref": "paper",
            "y": 0.95,
            "yref": "paper"
           }
          ]
         },
         "name": "92"
        },
        {
         "data": [
          {
           "name": "Free Nodes",
           "type": "scatter3d",
           "x": {
            "bdata": "AAAAAAAAAAAAAAAAAADwPwAAAAAAAAAAPkZo4hJ/0DwDAAAAAADwP3r//////+8/",
            "dtype": "f8"
           },
           "y": {
            "bdata": "AAAAAAAAAAAAAAAAAAAAAAAAAAAAAPA/ok09fqlzy7yj7RIi7iP6PEUAAAAAAPA/",
            "dtype": "f8"
           },
           "z": {
            "bdata": "AAAAAAAAAAAAAAAAAADgPwAAAAAAAOA/OnA9CtejwD8VXI/C9SjkPwtzPQrXo8A/",
            "dtype": "f8"
           }
          },
          {
           "name": "Fixed Nodes",
           "type": "scatter3d",
           "x": [],
           "y": [],
           "z": []
          },
          {
           "name": "Edges",
           "type": "scatter3d",
           "x": [
            1,
            0,
            null,
            0,
            0,
            null,
            0,
            1,
            null,
            1.0000000000000007,
            0.9999999999999851,
            null,
            0.9999999999999851,
            9.157331505932962e-16,
            null,
            9.157331505932962e-16,
            1.0000000000000007,
            null
           ],
           "y": [
            0,
            1,
            null,
            1,
            0,
            null,
            0,
            0,
            null,
            5.804324215211016e-15,
            1.0000000000000153,
            null,
            1.0000000000000153,
            -7.619406497352843e-16,
            null,
            -7.619406497352843e-16,
            5.804324215211016e-15,
            null
           ],
           "z": [
            0.5,
            0.5,
            null,
            0.5,
            0,
            null,
            0,
            0.5,
            null,
            0.6299999999999978,
            0.13000000000001707,
            null,
            0.13000000000001707,
            0.12999999999999706,
            null,
            0.12999999999999706,
            0.6299999999999978,
            null
           ]
          },
          {
           "i": [
            0,
            3
           ],
           "j": [
            1,
            4
           ],
           "k": [
            2,
            5
           ],
           "name": "Faces",
           "type": "mesh3d",
           "x": {
            "bdata": "AAAAAAAAAAAAAAAAAADwPwAAAAAAAAAAPkZo4hJ/0DwDAAAAAADwP3r//////+8/",
            "dtype": "f8"
           },
           "y": {
            "bdata": "AAAAAAAAAAAAAAAAAAAAAAAAAAAAAPA/ok09fqlzy7yj7RIi7iP6PEUAAAAAAPA/",
            "dtype": "f8"
           },
           "z": {
            "bdata": "AAAAAAAAAAAAAAAAAADgPwAAAAAAAOA/OnA9CtejwD8VXI/C9SjkPwtzPQrXo8A/",
            "dtype": "f8"
           }
          }
         ],
         "layout": {
          "annotations": [
           {
            "showarrow": false,
            "text": "Time: 0.93s (Step: 94/100)",
            "x": 0.05,
            "xref": "paper",
            "y": 0.95,
            "yref": "paper"
           }
          ]
         },
         "name": "93"
        },
        {
         "data": [
          {
           "name": "Free Nodes",
           "type": "scatter3d",
           "x": {
            "bdata": "AAAAAAAAAAAAAAAAAADwPwAAAAAAAAAAlnCaz9DH0TwEAAAAAADwP3j//////+8/",
            "dtype": "f8"
           },
           "y": {
            "bdata": "AAAAAAAAAAAAAAAAAAAAAAAAAAAAAPA/BG+qLMbGyrxOBGgt+xT5PEYAAAAAAPA/",
            "dtype": "f8"
           },
           "z": {
            "bdata": "AAAAAAAAAAAAAAAAAADgPwAAAAAAAOA/Jf//////vz/q///////jP3ICAAAAAMA/",
            "dtype": "f8"
           }
          },
          {
           "name": "Fixed Nodes",
           "type": "scatter3d",
           "x": [],
           "y": [],
           "z": []
          },
          {
           "name": "Edges",
           "type": "scatter3d",
           "x": [
            1,
            0,
            null,
            0,
            0,
            null,
            0,
            1,
            null,
            1.0000000000000009,
            0.9999999999999849,
            null,
            0.9999999999999849,
            9.870176871509697e-16,
            null,
            9.870176871509697e-16,
            1.0000000000000009,
            null
           ],
           "y": [
            0,
            1,
            null,
            1,
            0,
            null,
            0,
            0,
            null,
            5.5693133799121784e-15,
            1.0000000000000155,
            null,
            1.0000000000000155,
            -7.431960991766385e-16,
            null,
            -7.431960991766385e-16,
            5.5693133799121784e-15,
            null
           ],
           "z": [
            0.5,
            0.5,
            null,
            0.5,
            0,
            null,
            0,
            0.5,
            null,
            0.6249999999999976,
            0.12500000000001737,
            null,
            0.12500000000001737,
            0.12499999999999696,
            null,
            0.12499999999999696,
            0.6249999999999976,
            null
           ]
          },
          {
           "i": [
            0,
            3
           ],
           "j": [
            1,
            4
           ],
           "k": [
            2,
            5
           ],
           "name": "Faces",
           "type": "mesh3d",
           "x": {
            "bdata": "AAAAAAAAAAAAAAAAAADwPwAAAAAAAAAAlnCaz9DH0TwEAAAAAADwP3j//////+8/",
            "dtype": "f8"
           },
           "y": {
            "bdata": "AAAAAAAAAAAAAAAAAAAAAAAAAAAAAPA/BG+qLMbGyrxOBGgt+xT5PEYAAAAAAPA/",
            "dtype": "f8"
           },
           "z": {
            "bdata": "AAAAAAAAAAAAAAAAAADgPwAAAAAAAOA/Jf//////vz/q///////jP3ICAAAAAMA/",
            "dtype": "f8"
           }
          }
         ],
         "layout": {
          "annotations": [
           {
            "showarrow": false,
            "text": "Time: 0.94s (Step: 95/100)",
            "x": 0.05,
            "xref": "paper",
            "y": 0.95,
            "yref": "paper"
           }
          ]
         },
         "name": "94"
        },
        {
         "data": [
          {
           "name": "Free Nodes",
           "type": "scatter3d",
           "x": {
            "bdata": "AAAAAAAAAAAAAAAAAADwPwAAAAAAAAAAzykQRihZ1DwEAAAAAADwP3f//////+8/",
            "dtype": "f8"
           },
           "y": {
            "bdata": "AAAAAAAAAAAAAAAAAAAAAAAAAAAAAPA/9HXv6yDgzLwsJqhI4Yv4PEcAAAAAAPA/",
            "dtype": "f8"
           },
           "z": {
            "bdata": "AAAAAAAAAAAAAAAAAADgPwAAAAAAAOA/3R2F61G4vj++o3A9CtfjP7UjhetRuL4/",
            "dtype": "f8"
           }
          },
          {
           "name": "Fixed Nodes",
           "type": "scatter3d",
           "x": [],
           "y": [],
           "z": []
          },
          {
           "name": "Edges",
           "type": "scatter3d",
           "x": [
            1,
            0,
            null,
            0,
            0,
            null,
            0,
            1,
            null,
            1.0000000000000009,
            0.9999999999999848,
            null,
            0.9999999999999848,
            1.1295559364327662e-15,
            null,
            1.1295559364327662e-15,
            1.0000000000000009,
            null
           ],
           "y": [
            0,
            1,
            null,
            1,
            0,
            null,
            0,
            0,
            null,
            5.450397091038839e-15,
            1.0000000000000158,
            null,
            1.0000000000000158,
            -8.014561887508077e-16,
            null,
            -8.014561887508077e-16,
            5.450397091038839e-15,
            null
           ],
           "z": [
            0.5,
            0.5,
            null,
            0.5,
            0,
            null,
            0,
            0.5,
            null,
            0.6199999999999972,
            0.12000000000001772,
            null,
            0.12000000000001772,
            0.11999999999999696,
            null,
            0.11999999999999696,
            0.6199999999999972,
            null
           ]
          },
          {
           "i": [
            0,
            3
           ],
           "j": [
            1,
            4
           ],
           "k": [
            2,
            5
           ],
           "name": "Faces",
           "type": "mesh3d",
           "x": {
            "bdata": "AAAAAAAAAAAAAAAAAADwPwAAAAAAAAAAzykQRihZ1DwEAAAAAADwP3f//////+8/",
            "dtype": "f8"
           },
           "y": {
            "bdata": "AAAAAAAAAAAAAAAAAAAAAAAAAAAAAPA/9HXv6yDgzLwsJqhI4Yv4PEcAAAAAAPA/",
            "dtype": "f8"
           },
           "z": {
            "bdata": "AAAAAAAAAAAAAAAAAADgPwAAAAAAAOA/3R2F61G4vj++o3A9CtfjP7UjhetRuL4/",
            "dtype": "f8"
           }
          }
         ],
         "layout": {
          "annotations": [
           {
            "showarrow": false,
            "text": "Time: 0.95s (Step: 96/100)",
            "x": 0.05,
            "xref": "paper",
            "y": 0.95,
            "yref": "paper"
           }
          ]
         },
         "name": "95"
        },
        {
         "data": [
          {
           "name": "Free Nodes",
           "type": "scatter3d",
           "x": {
            "bdata": "AAAAAAAAAAAAAAAAAADwPwAAAAAAAAAARNqpsU9n1TwFAAAAAADwP3T//////+8/",
            "dtype": "f8"
           },
           "y": {
            "bdata": "AAAAAAAAAAAAAAAAAAAAAAAAAAAAAPA/Gd2g8cS1x7zjLG5XIt33PEcAAAAAAPA/",
            "dtype": "f8"
           },
           "z": {
            "bdata": "AAAAAAAAAAAAAAAAAADgPwAAAAAAAOA/ijwK16NwvT+UR+F6FK7jP4VCCtejcL0/",
            "dtype": "f8"
           }
          },
          {
           "name": "Fixed Nodes",
           "type": "scatter3d",
           "x": [],
           "y": [],
           "z": []
          },
          {
           "name": "Edges",
           "type": "scatter3d",
           "x": [
            1,
            0,
            null,
            0,
            0,
            null,
            0,
            1,
            null,
            1.000000000000001,
            0.9999999999999845,
            null,
            0.9999999999999845,
            1.188136244051616e-15,
            null,
            1.188136244051616e-15,
            1.000000000000001,
            null
           ],
           "y": [
            0,
            1,
            null,
            1,
            0,
            null,
            0,
            0,
            null,
            5.298829210983328e-15,
            1.0000000000000158,
            null,
            1.0000000000000158,
            -6.580857074508959e-16,
            null,
            -6.580857074508959e-16,
            5.298829210983328e-15,
            null
           ],
           "z": [
            0.5,
            0.5,
            null,
            0.5,
            0,
            null,
            0,
            0.5,
            null,
            0.6149999999999971,
            0.11500000000001805,
            null,
            0.11500000000001805,
            0.1149999999999968,
            null,
            0.1149999999999968,
            0.6149999999999971,
            null
           ]
          },
          {
           "i": [
            0,
            3
           ],
           "j": [
            1,
            4
           ],
           "k": [
            2,
            5
           ],
           "name": "Faces",
           "type": "mesh3d",
           "x": {
            "bdata": "AAAAAAAAAAAAAAAAAADwPwAAAAAAAAAARNqpsU9n1TwFAAAAAADwP3T//////+8/",
            "dtype": "f8"
           },
           "y": {
            "bdata": "AAAAAAAAAAAAAAAAAAAAAAAAAAAAAPA/Gd2g8cS1x7zjLG5XIt33PEcAAAAAAPA/",
            "dtype": "f8"
           },
           "z": {
            "bdata": "AAAAAAAAAAAAAAAAAADgPwAAAAAAAOA/ijwK16NwvT+UR+F6FK7jP4VCCtejcL0/",
            "dtype": "f8"
           }
          }
         ],
         "layout": {
          "annotations": [
           {
            "showarrow": false,
            "text": "Time: 0.96s (Step: 97/100)",
            "x": 0.05,
            "xref": "paper",
            "y": 0.95,
            "yref": "paper"
           }
          ]
         },
         "name": "96"
        },
        {
         "data": [
          {
           "name": "Free Nodes",
           "type": "scatter3d",
           "x": {
            "bdata": "AAAAAAAAAAAAAAAAAADwPwAAAAAAAAAAAmetjDcq1DwFAAAAAADwP3T//////+8/",
            "dtype": "f8"
           },
           "y": {
            "bdata": "AAAAAAAAAAAAAAAAAAAAAAAAAAAAAPA/PwSZpf9+zbxd+FDMJ4f3PEgAAAAAAPA/",
            "dtype": "f8"
           },
           "z": {
            "bdata": "AAAAAAAAAAAAAAAAAADgPwAAAAAAAOA/PluPwvUovD9p61G4HoXjP1hhj8L1KLw/",
            "dtype": "f8"
           }
          },
          {
           "name": "Fixed Nodes",
           "type": "scatter3d",
           "x": [],
           "y": [],
           "z": []
          },
          {
           "name": "Edges",
           "type": "scatter3d",
           "x": [
            1,
            0,
            null,
            0,
            0,
            null,
            0,
            1,
            null,
            1.000000000000001,
            0.9999999999999845,
            null,
            0.9999999999999845,
            1.11937737514845e-15,
            null,
            1.11937737514845e-15,
            1.000000000000001,
            null
           ],
           "y": [
            0,
            1,
            null,
            1,
            0,
            null,
            0,
            0,
            null,
            5.224254589147505e-15,
            1.000000000000016,
            null,
            1.000000000000016,
            -8.186809108857794e-16,
            null,
            -8.186809108857794e-16,
            5.224254589147505e-15,
            null
           ],
           "z": [
            0.5,
            0.5,
            null,
            0.5,
            0,
            null,
            0,
            0.5,
            null,
            0.6099999999999969,
            0.11000000000001842,
            null,
            0.11000000000001842,
            0.10999999999999674,
            null,
            0.10999999999999674,
            0.6099999999999969,
            null
           ]
          },
          {
           "i": [
            0,
            3
           ],
           "j": [
            1,
            4
           ],
           "k": [
            2,
            5
           ],
           "name": "Faces",
           "type": "mesh3d",
           "x": {
            "bdata": "AAAAAAAAAAAAAAAAAADwPwAAAAAAAAAAAmetjDcq1DwFAAAAAADwP3T//////+8/",
            "dtype": "f8"
           },
           "y": {
            "bdata": "AAAAAAAAAAAAAAAAAAAAAAAAAAAAAPA/PwSZpf9+zbxd+FDMJ4f3PEgAAAAAAPA/",
            "dtype": "f8"
           },
           "z": {
            "bdata": "AAAAAAAAAAAAAAAAAADgPwAAAAAAAOA/PluPwvUovD9p61G4HoXjP1hhj8L1KLw/",
            "dtype": "f8"
           }
          }
         ],
         "layout": {
          "annotations": [
           {
            "showarrow": false,
            "text": "Time: 0.97s (Step: 98/100)",
            "x": 0.05,
            "xref": "paper",
            "y": 0.95,
            "yref": "paper"
           }
          ]
         },
         "name": "97"
        },
        {
         "data": [
          {
           "name": "Free Nodes",
           "type": "scatter3d",
           "x": {
            "bdata": "AAAAAAAAAAAAAAAAAADwPwAAAAAAAAAAf9dHkkfn1DwFAAAAAADwP3L//////+8/",
            "dtype": "f8"
           },
           "y": {
            "bdata": "AAAAAAAAAAAAAAAAAAAAAAAAAAAAAPA/XjFlTtYAzbwn1yXFmXn2PEkAAAAAAPA/",
            "dtype": "f8"
           },
           "z": {
            "bdata": "AAAAAAAAAAAAAAAAAADgPwAAAAAAAOA/8XkUrkfhuj8/j8L1KFzjPyWAFK5H4bo/",
            "dtype": "f8"
           }
          },
          {
           "name": "Fixed Nodes",
           "type": "scatter3d",
           "x": [],
           "y": [],
           "z": []
          },
          {
           "name": "Edges",
           "type": "scatter3d",
           "x": [
            1,
            0,
            null,
            0,
            0,
            null,
            0,
            1,
            null,
            1.000000000000001,
            0.9999999999999842,
            null,
            0.9999999999999842,
            1.1603737883352529e-15,
            null,
            1.1603737883352529e-15,
            1.000000000000001,
            null
           ],
           "y": [
            0,
            1,
            null,
            1,
            0,
            null,
            0,
            0,
            null,
            4.990453072040601e-15,
            1.0000000000000162,
            null,
            1.0000000000000162,
            -8.050024550727137e-16,
            null,
            -8.050024550727137e-16,
            4.990453072040601e-15,
            null
           ],
           "z": [
            0.5,
            0.5,
            null,
            0.5,
            0,
            null,
            0,
            0.5,
            null,
            0.6049999999999968,
            0.1050000000000187,
            null,
            0.1050000000000187,
            0.10499999999999667,
            null,
            0.10499999999999667,
            0.6049999999999968,
            null
           ]
          },
          {
           "i": [
            0,
            3
           ],
           "j": [
            1,
            4
           ],
           "k": [
            2,
            5
           ],
           "name": "Faces",
           "type": "mesh3d",
           "x": {
            "bdata": "AAAAAAAAAAAAAAAAAADwPwAAAAAAAAAAf9dHkkfn1DwFAAAAAADwP3L//////+8/",
            "dtype": "f8"
           },
           "y": {
            "bdata": "AAAAAAAAAAAAAAAAAAAAAAAAAAAAAPA/XjFlTtYAzbwn1yXFmXn2PEkAAAAAAPA/",
            "dtype": "f8"
           },
           "z": {
            "bdata": "AAAAAAAAAAAAAAAAAADgPwAAAAAAAOA/8XkUrkfhuj8/j8L1KFzjPyWAFK5H4bo/",
            "dtype": "f8"
           }
          }
         ],
         "layout": {
          "annotations": [
           {
            "showarrow": false,
            "text": "Time: 0.98s (Step: 99/100)",
            "x": 0.05,
            "xref": "paper",
            "y": 0.95,
            "yref": "paper"
           }
          ]
         },
         "name": "98"
        },
        {
         "data": [
          {
           "name": "Free Nodes",
           "type": "scatter3d",
           "x": {
            "bdata": "AAAAAAAAAAAAAAAAAADwPwAAAAAAAAAATMBhvVMa1DwFAAAAAADwP3H//////+8/",
            "dtype": "f8"
           },
           "y": {
            "bdata": "AAAAAAAAAAAAAAAAAAAAAAAAAAAAAPA/kCxLE3frzrwIfc9uG4D2PEkAAAAAAPA/",
            "dtype": "f8"
           },
           "z": {
            "bdata": "AAAAAAAAAAAAAAAAAADgPwAAAAAAAOA/pJiZmZmZuT8UMzMzMzPjP/uemZmZmbk/",
            "dtype": "f8"
           }
          },
          {
           "name": "Fixed Nodes",
           "type": "scatter3d",
           "x": [],
           "y": [],
           "z": []
          },
          {
           "name": "Edges",
           "type": "scatter3d",
           "x": [
            1,
            0,
            null,
            0,
            0,
            null,
            0,
            1,
            null,
            1.000000000000001,
            0.9999999999999841,
            null,
            0.9999999999999841,
            1.1159318062686505e-15,
            null,
            1.1159318062686505e-15,
            1.000000000000001,
            null
           ],
           "y": [
            0,
            1,
            null,
            1,
            0,
            null,
            0,
            0,
            null,
            4.996096556936285e-15,
            1.0000000000000162,
            null,
            1.0000000000000162,
            -8.581964499013027e-16,
            null,
            -8.581964499013027e-16,
            4.996096556936285e-15,
            null
           ],
           "z": [
            0.5,
            0.5,
            null,
            0.5,
            0,
            null,
            0,
            0.5,
            null,
            0.5999999999999965,
            0.10000000000001912,
            null,
            0.10000000000001912,
            0.09999999999999659,
            null,
            0.09999999999999659,
            0.5999999999999965,
            null
           ]
          },
          {
           "i": [
            0,
            3
           ],
           "j": [
            1,
            4
           ],
           "k": [
            2,
            5
           ],
           "name": "Faces",
           "type": "mesh3d",
           "x": {
            "bdata": "AAAAAAAAAAAAAAAAAADwPwAAAAAAAAAATMBhvVMa1DwFAAAAAADwP3H//////+8/",
            "dtype": "f8"
           },
           "y": {
            "bdata": "AAAAAAAAAAAAAAAAAAAAAAAAAAAAAPA/kCxLE3frzrwIfc9uG4D2PEkAAAAAAPA/",
            "dtype": "f8"
           },
           "z": {
            "bdata": "AAAAAAAAAAAAAAAAAADgPwAAAAAAAOA/pJiZmZmZuT8UMzMzMzPjP/uemZmZmbk/",
            "dtype": "f8"
           }
          }
         ],
         "layout": {
          "annotations": [
           {
            "showarrow": false,
            "text": "Time: 0.99s (Step: 100/100)",
            "x": 0.05,
            "xref": "paper",
            "y": 0.95,
            "yref": "paper"
           }
          ]
         },
         "name": "99"
        }
       ],
       "layout": {
        "scene": {
         "camera": {
          "eye": {
           "x": 1.2247448713915892,
           "y": 1.224744871391589,
           "z": 0.9999999999999999
          }
         },
         "xaxis": {
          "range": [
           -1.3089999718314146e-16,
           1.0000000000000038
          ],
          "title": {
           "text": "X Position"
          }
         },
         "yaxis": {
          "range": [
           -2.84917168491425e-15,
           1.0000000000000162
          ],
          "title": {
           "text": "Y Position"
          }
         },
         "zaxis": {
          "range": [
           0,
           1.095
          ],
          "title": {
           "text": "Z Position"
          }
         }
        },
        "sliders": [
         {
          "currentvalue": {
           "prefix": "Frame: "
          },
          "steps": [
           {
            "args": [
             [
              "0"
             ],
             {
              "frame": {
               "duration": 50,
               "redraw": true
              },
              "mode": "immediate"
             }
            ],
            "label": "0",
            "method": "animate"
           },
           {
            "args": [
             [
              "1"
             ],
             {
              "frame": {
               "duration": 50,
               "redraw": true
              },
              "mode": "immediate"
             }
            ],
            "label": "1",
            "method": "animate"
           },
           {
            "args": [
             [
              "2"
             ],
             {
              "frame": {
               "duration": 50,
               "redraw": true
              },
              "mode": "immediate"
             }
            ],
            "label": "2",
            "method": "animate"
           },
           {
            "args": [
             [
              "3"
             ],
             {
              "frame": {
               "duration": 50,
               "redraw": true
              },
              "mode": "immediate"
             }
            ],
            "label": "3",
            "method": "animate"
           },
           {
            "args": [
             [
              "4"
             ],
             {
              "frame": {
               "duration": 50,
               "redraw": true
              },
              "mode": "immediate"
             }
            ],
            "label": "4",
            "method": "animate"
           },
           {
            "args": [
             [
              "5"
             ],
             {
              "frame": {
               "duration": 50,
               "redraw": true
              },
              "mode": "immediate"
             }
            ],
            "label": "5",
            "method": "animate"
           },
           {
            "args": [
             [
              "6"
             ],
             {
              "frame": {
               "duration": 50,
               "redraw": true
              },
              "mode": "immediate"
             }
            ],
            "label": "6",
            "method": "animate"
           },
           {
            "args": [
             [
              "7"
             ],
             {
              "frame": {
               "duration": 50,
               "redraw": true
              },
              "mode": "immediate"
             }
            ],
            "label": "7",
            "method": "animate"
           },
           {
            "args": [
             [
              "8"
             ],
             {
              "frame": {
               "duration": 50,
               "redraw": true
              },
              "mode": "immediate"
             }
            ],
            "label": "8",
            "method": "animate"
           },
           {
            "args": [
             [
              "9"
             ],
             {
              "frame": {
               "duration": 50,
               "redraw": true
              },
              "mode": "immediate"
             }
            ],
            "label": "9",
            "method": "animate"
           },
           {
            "args": [
             [
              "10"
             ],
             {
              "frame": {
               "duration": 50,
               "redraw": true
              },
              "mode": "immediate"
             }
            ],
            "label": "10",
            "method": "animate"
           },
           {
            "args": [
             [
              "11"
             ],
             {
              "frame": {
               "duration": 50,
               "redraw": true
              },
              "mode": "immediate"
             }
            ],
            "label": "11",
            "method": "animate"
           },
           {
            "args": [
             [
              "12"
             ],
             {
              "frame": {
               "duration": 50,
               "redraw": true
              },
              "mode": "immediate"
             }
            ],
            "label": "12",
            "method": "animate"
           },
           {
            "args": [
             [
              "13"
             ],
             {
              "frame": {
               "duration": 50,
               "redraw": true
              },
              "mode": "immediate"
             }
            ],
            "label": "13",
            "method": "animate"
           },
           {
            "args": [
             [
              "14"
             ],
             {
              "frame": {
               "duration": 50,
               "redraw": true
              },
              "mode": "immediate"
             }
            ],
            "label": "14",
            "method": "animate"
           },
           {
            "args": [
             [
              "15"
             ],
             {
              "frame": {
               "duration": 50,
               "redraw": true
              },
              "mode": "immediate"
             }
            ],
            "label": "15",
            "method": "animate"
           },
           {
            "args": [
             [
              "16"
             ],
             {
              "frame": {
               "duration": 50,
               "redraw": true
              },
              "mode": "immediate"
             }
            ],
            "label": "16",
            "method": "animate"
           },
           {
            "args": [
             [
              "17"
             ],
             {
              "frame": {
               "duration": 50,
               "redraw": true
              },
              "mode": "immediate"
             }
            ],
            "label": "17",
            "method": "animate"
           },
           {
            "args": [
             [
              "18"
             ],
             {
              "frame": {
               "duration": 50,
               "redraw": true
              },
              "mode": "immediate"
             }
            ],
            "label": "18",
            "method": "animate"
           },
           {
            "args": [
             [
              "19"
             ],
             {
              "frame": {
               "duration": 50,
               "redraw": true
              },
              "mode": "immediate"
             }
            ],
            "label": "19",
            "method": "animate"
           },
           {
            "args": [
             [
              "20"
             ],
             {
              "frame": {
               "duration": 50,
               "redraw": true
              },
              "mode": "immediate"
             }
            ],
            "label": "20",
            "method": "animate"
           },
           {
            "args": [
             [
              "21"
             ],
             {
              "frame": {
               "duration": 50,
               "redraw": true
              },
              "mode": "immediate"
             }
            ],
            "label": "21",
            "method": "animate"
           },
           {
            "args": [
             [
              "22"
             ],
             {
              "frame": {
               "duration": 50,
               "redraw": true
              },
              "mode": "immediate"
             }
            ],
            "label": "22",
            "method": "animate"
           },
           {
            "args": [
             [
              "23"
             ],
             {
              "frame": {
               "duration": 50,
               "redraw": true
              },
              "mode": "immediate"
             }
            ],
            "label": "23",
            "method": "animate"
           },
           {
            "args": [
             [
              "24"
             ],
             {
              "frame": {
               "duration": 50,
               "redraw": true
              },
              "mode": "immediate"
             }
            ],
            "label": "24",
            "method": "animate"
           },
           {
            "args": [
             [
              "25"
             ],
             {
              "frame": {
               "duration": 50,
               "redraw": true
              },
              "mode": "immediate"
             }
            ],
            "label": "25",
            "method": "animate"
           },
           {
            "args": [
             [
              "26"
             ],
             {
              "frame": {
               "duration": 50,
               "redraw": true
              },
              "mode": "immediate"
             }
            ],
            "label": "26",
            "method": "animate"
           },
           {
            "args": [
             [
              "27"
             ],
             {
              "frame": {
               "duration": 50,
               "redraw": true
              },
              "mode": "immediate"
             }
            ],
            "label": "27",
            "method": "animate"
           },
           {
            "args": [
             [
              "28"
             ],
             {
              "frame": {
               "duration": 50,
               "redraw": true
              },
              "mode": "immediate"
             }
            ],
            "label": "28",
            "method": "animate"
           },
           {
            "args": [
             [
              "29"
             ],
             {
              "frame": {
               "duration": 50,
               "redraw": true
              },
              "mode": "immediate"
             }
            ],
            "label": "29",
            "method": "animate"
           },
           {
            "args": [
             [
              "30"
             ],
             {
              "frame": {
               "duration": 50,
               "redraw": true
              },
              "mode": "immediate"
             }
            ],
            "label": "30",
            "method": "animate"
           },
           {
            "args": [
             [
              "31"
             ],
             {
              "frame": {
               "duration": 50,
               "redraw": true
              },
              "mode": "immediate"
             }
            ],
            "label": "31",
            "method": "animate"
           },
           {
            "args": [
             [
              "32"
             ],
             {
              "frame": {
               "duration": 50,
               "redraw": true
              },
              "mode": "immediate"
             }
            ],
            "label": "32",
            "method": "animate"
           },
           {
            "args": [
             [
              "33"
             ],
             {
              "frame": {
               "duration": 50,
               "redraw": true
              },
              "mode": "immediate"
             }
            ],
            "label": "33",
            "method": "animate"
           },
           {
            "args": [
             [
              "34"
             ],
             {
              "frame": {
               "duration": 50,
               "redraw": true
              },
              "mode": "immediate"
             }
            ],
            "label": "34",
            "method": "animate"
           },
           {
            "args": [
             [
              "35"
             ],
             {
              "frame": {
               "duration": 50,
               "redraw": true
              },
              "mode": "immediate"
             }
            ],
            "label": "35",
            "method": "animate"
           },
           {
            "args": [
             [
              "36"
             ],
             {
              "frame": {
               "duration": 50,
               "redraw": true
              },
              "mode": "immediate"
             }
            ],
            "label": "36",
            "method": "animate"
           },
           {
            "args": [
             [
              "37"
             ],
             {
              "frame": {
               "duration": 50,
               "redraw": true
              },
              "mode": "immediate"
             }
            ],
            "label": "37",
            "method": "animate"
           },
           {
            "args": [
             [
              "38"
             ],
             {
              "frame": {
               "duration": 50,
               "redraw": true
              },
              "mode": "immediate"
             }
            ],
            "label": "38",
            "method": "animate"
           },
           {
            "args": [
             [
              "39"
             ],
             {
              "frame": {
               "duration": 50,
               "redraw": true
              },
              "mode": "immediate"
             }
            ],
            "label": "39",
            "method": "animate"
           },
           {
            "args": [
             [
              "40"
             ],
             {
              "frame": {
               "duration": 50,
               "redraw": true
              },
              "mode": "immediate"
             }
            ],
            "label": "40",
            "method": "animate"
           },
           {
            "args": [
             [
              "41"
             ],
             {
              "frame": {
               "duration": 50,
               "redraw": true
              },
              "mode": "immediate"
             }
            ],
            "label": "41",
            "method": "animate"
           },
           {
            "args": [
             [
              "42"
             ],
             {
              "frame": {
               "duration": 50,
               "redraw": true
              },
              "mode": "immediate"
             }
            ],
            "label": "42",
            "method": "animate"
           },
           {
            "args": [
             [
              "43"
             ],
             {
              "frame": {
               "duration": 50,
               "redraw": true
              },
              "mode": "immediate"
             }
            ],
            "label": "43",
            "method": "animate"
           },
           {
            "args": [
             [
              "44"
             ],
             {
              "frame": {
               "duration": 50,
               "redraw": true
              },
              "mode": "immediate"
             }
            ],
            "label": "44",
            "method": "animate"
           },
           {
            "args": [
             [
              "45"
             ],
             {
              "frame": {
               "duration": 50,
               "redraw": true
              },
              "mode": "immediate"
             }
            ],
            "label": "45",
            "method": "animate"
           },
           {
            "args": [
             [
              "46"
             ],
             {
              "frame": {
               "duration": 50,
               "redraw": true
              },
              "mode": "immediate"
             }
            ],
            "label": "46",
            "method": "animate"
           },
           {
            "args": [
             [
              "47"
             ],
             {
              "frame": {
               "duration": 50,
               "redraw": true
              },
              "mode": "immediate"
             }
            ],
            "label": "47",
            "method": "animate"
           },
           {
            "args": [
             [
              "48"
             ],
             {
              "frame": {
               "duration": 50,
               "redraw": true
              },
              "mode": "immediate"
             }
            ],
            "label": "48",
            "method": "animate"
           },
           {
            "args": [
             [
              "49"
             ],
             {
              "frame": {
               "duration": 50,
               "redraw": true
              },
              "mode": "immediate"
             }
            ],
            "label": "49",
            "method": "animate"
           },
           {
            "args": [
             [
              "50"
             ],
             {
              "frame": {
               "duration": 50,
               "redraw": true
              },
              "mode": "immediate"
             }
            ],
            "label": "50",
            "method": "animate"
           },
           {
            "args": [
             [
              "51"
             ],
             {
              "frame": {
               "duration": 50,
               "redraw": true
              },
              "mode": "immediate"
             }
            ],
            "label": "51",
            "method": "animate"
           },
           {
            "args": [
             [
              "52"
             ],
             {
              "frame": {
               "duration": 50,
               "redraw": true
              },
              "mode": "immediate"
             }
            ],
            "label": "52",
            "method": "animate"
           },
           {
            "args": [
             [
              "53"
             ],
             {
              "frame": {
               "duration": 50,
               "redraw": true
              },
              "mode": "immediate"
             }
            ],
            "label": "53",
            "method": "animate"
           },
           {
            "args": [
             [
              "54"
             ],
             {
              "frame": {
               "duration": 50,
               "redraw": true
              },
              "mode": "immediate"
             }
            ],
            "label": "54",
            "method": "animate"
           },
           {
            "args": [
             [
              "55"
             ],
             {
              "frame": {
               "duration": 50,
               "redraw": true
              },
              "mode": "immediate"
             }
            ],
            "label": "55",
            "method": "animate"
           },
           {
            "args": [
             [
              "56"
             ],
             {
              "frame": {
               "duration": 50,
               "redraw": true
              },
              "mode": "immediate"
             }
            ],
            "label": "56",
            "method": "animate"
           },
           {
            "args": [
             [
              "57"
             ],
             {
              "frame": {
               "duration": 50,
               "redraw": true
              },
              "mode": "immediate"
             }
            ],
            "label": "57",
            "method": "animate"
           },
           {
            "args": [
             [
              "58"
             ],
             {
              "frame": {
               "duration": 50,
               "redraw": true
              },
              "mode": "immediate"
             }
            ],
            "label": "58",
            "method": "animate"
           },
           {
            "args": [
             [
              "59"
             ],
             {
              "frame": {
               "duration": 50,
               "redraw": true
              },
              "mode": "immediate"
             }
            ],
            "label": "59",
            "method": "animate"
           },
           {
            "args": [
             [
              "60"
             ],
             {
              "frame": {
               "duration": 50,
               "redraw": true
              },
              "mode": "immediate"
             }
            ],
            "label": "60",
            "method": "animate"
           },
           {
            "args": [
             [
              "61"
             ],
             {
              "frame": {
               "duration": 50,
               "redraw": true
              },
              "mode": "immediate"
             }
            ],
            "label": "61",
            "method": "animate"
           },
           {
            "args": [
             [
              "62"
             ],
             {
              "frame": {
               "duration": 50,
               "redraw": true
              },
              "mode": "immediate"
             }
            ],
            "label": "62",
            "method": "animate"
           },
           {
            "args": [
             [
              "63"
             ],
             {
              "frame": {
               "duration": 50,
               "redraw": true
              },
              "mode": "immediate"
             }
            ],
            "label": "63",
            "method": "animate"
           },
           {
            "args": [
             [
              "64"
             ],
             {
              "frame": {
               "duration": 50,
               "redraw": true
              },
              "mode": "immediate"
             }
            ],
            "label": "64",
            "method": "animate"
           },
           {
            "args": [
             [
              "65"
             ],
             {
              "frame": {
               "duration": 50,
               "redraw": true
              },
              "mode": "immediate"
             }
            ],
            "label": "65",
            "method": "animate"
           },
           {
            "args": [
             [
              "66"
             ],
             {
              "frame": {
               "duration": 50,
               "redraw": true
              },
              "mode": "immediate"
             }
            ],
            "label": "66",
            "method": "animate"
           },
           {
            "args": [
             [
              "67"
             ],
             {
              "frame": {
               "duration": 50,
               "redraw": true
              },
              "mode": "immediate"
             }
            ],
            "label": "67",
            "method": "animate"
           },
           {
            "args": [
             [
              "68"
             ],
             {
              "frame": {
               "duration": 50,
               "redraw": true
              },
              "mode": "immediate"
             }
            ],
            "label": "68",
            "method": "animate"
           },
           {
            "args": [
             [
              "69"
             ],
             {
              "frame": {
               "duration": 50,
               "redraw": true
              },
              "mode": "immediate"
             }
            ],
            "label": "69",
            "method": "animate"
           },
           {
            "args": [
             [
              "70"
             ],
             {
              "frame": {
               "duration": 50,
               "redraw": true
              },
              "mode": "immediate"
             }
            ],
            "label": "70",
            "method": "animate"
           },
           {
            "args": [
             [
              "71"
             ],
             {
              "frame": {
               "duration": 50,
               "redraw": true
              },
              "mode": "immediate"
             }
            ],
            "label": "71",
            "method": "animate"
           },
           {
            "args": [
             [
              "72"
             ],
             {
              "frame": {
               "duration": 50,
               "redraw": true
              },
              "mode": "immediate"
             }
            ],
            "label": "72",
            "method": "animate"
           },
           {
            "args": [
             [
              "73"
             ],
             {
              "frame": {
               "duration": 50,
               "redraw": true
              },
              "mode": "immediate"
             }
            ],
            "label": "73",
            "method": "animate"
           },
           {
            "args": [
             [
              "74"
             ],
             {
              "frame": {
               "duration": 50,
               "redraw": true
              },
              "mode": "immediate"
             }
            ],
            "label": "74",
            "method": "animate"
           },
           {
            "args": [
             [
              "75"
             ],
             {
              "frame": {
               "duration": 50,
               "redraw": true
              },
              "mode": "immediate"
             }
            ],
            "label": "75",
            "method": "animate"
           },
           {
            "args": [
             [
              "76"
             ],
             {
              "frame": {
               "duration": 50,
               "redraw": true
              },
              "mode": "immediate"
             }
            ],
            "label": "76",
            "method": "animate"
           },
           {
            "args": [
             [
              "77"
             ],
             {
              "frame": {
               "duration": 50,
               "redraw": true
              },
              "mode": "immediate"
             }
            ],
            "label": "77",
            "method": "animate"
           },
           {
            "args": [
             [
              "78"
             ],
             {
              "frame": {
               "duration": 50,
               "redraw": true
              },
              "mode": "immediate"
             }
            ],
            "label": "78",
            "method": "animate"
           },
           {
            "args": [
             [
              "79"
             ],
             {
              "frame": {
               "duration": 50,
               "redraw": true
              },
              "mode": "immediate"
             }
            ],
            "label": "79",
            "method": "animate"
           },
           {
            "args": [
             [
              "80"
             ],
             {
              "frame": {
               "duration": 50,
               "redraw": true
              },
              "mode": "immediate"
             }
            ],
            "label": "80",
            "method": "animate"
           },
           {
            "args": [
             [
              "81"
             ],
             {
              "frame": {
               "duration": 50,
               "redraw": true
              },
              "mode": "immediate"
             }
            ],
            "label": "81",
            "method": "animate"
           },
           {
            "args": [
             [
              "82"
             ],
             {
              "frame": {
               "duration": 50,
               "redraw": true
              },
              "mode": "immediate"
             }
            ],
            "label": "82",
            "method": "animate"
           },
           {
            "args": [
             [
              "83"
             ],
             {
              "frame": {
               "duration": 50,
               "redraw": true
              },
              "mode": "immediate"
             }
            ],
            "label": "83",
            "method": "animate"
           },
           {
            "args": [
             [
              "84"
             ],
             {
              "frame": {
               "duration": 50,
               "redraw": true
              },
              "mode": "immediate"
             }
            ],
            "label": "84",
            "method": "animate"
           },
           {
            "args": [
             [
              "85"
             ],
             {
              "frame": {
               "duration": 50,
               "redraw": true
              },
              "mode": "immediate"
             }
            ],
            "label": "85",
            "method": "animate"
           },
           {
            "args": [
             [
              "86"
             ],
             {
              "frame": {
               "duration": 50,
               "redraw": true
              },
              "mode": "immediate"
             }
            ],
            "label": "86",
            "method": "animate"
           },
           {
            "args": [
             [
              "87"
             ],
             {
              "frame": {
               "duration": 50,
               "redraw": true
              },
              "mode": "immediate"
             }
            ],
            "label": "87",
            "method": "animate"
           },
           {
            "args": [
             [
              "88"
             ],
             {
              "frame": {
               "duration": 50,
               "redraw": true
              },
              "mode": "immediate"
             }
            ],
            "label": "88",
            "method": "animate"
           },
           {
            "args": [
             [
              "89"
             ],
             {
              "frame": {
               "duration": 50,
               "redraw": true
              },
              "mode": "immediate"
             }
            ],
            "label": "89",
            "method": "animate"
           },
           {
            "args": [
             [
              "90"
             ],
             {
              "frame": {
               "duration": 50,
               "redraw": true
              },
              "mode": "immediate"
             }
            ],
            "label": "90",
            "method": "animate"
           },
           {
            "args": [
             [
              "91"
             ],
             {
              "frame": {
               "duration": 50,
               "redraw": true
              },
              "mode": "immediate"
             }
            ],
            "label": "91",
            "method": "animate"
           },
           {
            "args": [
             [
              "92"
             ],
             {
              "frame": {
               "duration": 50,
               "redraw": true
              },
              "mode": "immediate"
             }
            ],
            "label": "92",
            "method": "animate"
           },
           {
            "args": [
             [
              "93"
             ],
             {
              "frame": {
               "duration": 50,
               "redraw": true
              },
              "mode": "immediate"
             }
            ],
            "label": "93",
            "method": "animate"
           },
           {
            "args": [
             [
              "94"
             ],
             {
              "frame": {
               "duration": 50,
               "redraw": true
              },
              "mode": "immediate"
             }
            ],
            "label": "94",
            "method": "animate"
           },
           {
            "args": [
             [
              "95"
             ],
             {
              "frame": {
               "duration": 50,
               "redraw": true
              },
              "mode": "immediate"
             }
            ],
            "label": "95",
            "method": "animate"
           },
           {
            "args": [
             [
              "96"
             ],
             {
              "frame": {
               "duration": 50,
               "redraw": true
              },
              "mode": "immediate"
             }
            ],
            "label": "96",
            "method": "animate"
           },
           {
            "args": [
             [
              "97"
             ],
             {
              "frame": {
               "duration": 50,
               "redraw": true
              },
              "mode": "immediate"
             }
            ],
            "label": "97",
            "method": "animate"
           },
           {
            "args": [
             [
              "98"
             ],
             {
              "frame": {
               "duration": 50,
               "redraw": true
              },
              "mode": "immediate"
             }
            ],
            "label": "98",
            "method": "animate"
           },
           {
            "args": [
             [
              "99"
             ],
             {
              "frame": {
               "duration": 50,
               "redraw": true
              },
              "mode": "immediate"
             }
            ],
            "label": "99",
            "method": "animate"
           }
          ],
          "transition": {
           "duration": 0
          },
          "x": 0.1,
          "y": 0
         }
        ],
        "template": {
         "data": {
          "bar": [
           {
            "error_x": {
             "color": "#2a3f5f"
            },
            "error_y": {
             "color": "#2a3f5f"
            },
            "marker": {
             "line": {
              "color": "#E5ECF6",
              "width": 0.5
             },
             "pattern": {
              "fillmode": "overlay",
              "size": 10,
              "solidity": 0.2
             }
            },
            "type": "bar"
           }
          ],
          "barpolar": [
           {
            "marker": {
             "line": {
              "color": "#E5ECF6",
              "width": 0.5
             },
             "pattern": {
              "fillmode": "overlay",
              "size": 10,
              "solidity": 0.2
             }
            },
            "type": "barpolar"
           }
          ],
          "carpet": [
           {
            "aaxis": {
             "endlinecolor": "#2a3f5f",
             "gridcolor": "white",
             "linecolor": "white",
             "minorgridcolor": "white",
             "startlinecolor": "#2a3f5f"
            },
            "baxis": {
             "endlinecolor": "#2a3f5f",
             "gridcolor": "white",
             "linecolor": "white",
             "minorgridcolor": "white",
             "startlinecolor": "#2a3f5f"
            },
            "type": "carpet"
           }
          ],
          "choropleth": [
           {
            "colorbar": {
             "outlinewidth": 0,
             "ticks": ""
            },
            "type": "choropleth"
           }
          ],
          "contour": [
           {
            "colorbar": {
             "outlinewidth": 0,
             "ticks": ""
            },
            "colorscale": [
             [
              0,
              "#0d0887"
             ],
             [
              0.1111111111111111,
              "#46039f"
             ],
             [
              0.2222222222222222,
              "#7201a8"
             ],
             [
              0.3333333333333333,
              "#9c179e"
             ],
             [
              0.4444444444444444,
              "#bd3786"
             ],
             [
              0.5555555555555556,
              "#d8576b"
             ],
             [
              0.6666666666666666,
              "#ed7953"
             ],
             [
              0.7777777777777778,
              "#fb9f3a"
             ],
             [
              0.8888888888888888,
              "#fdca26"
             ],
             [
              1,
              "#f0f921"
             ]
            ],
            "type": "contour"
           }
          ],
          "contourcarpet": [
           {
            "colorbar": {
             "outlinewidth": 0,
             "ticks": ""
            },
            "type": "contourcarpet"
           }
          ],
          "heatmap": [
           {
            "colorbar": {
             "outlinewidth": 0,
             "ticks": ""
            },
            "colorscale": [
             [
              0,
              "#0d0887"
             ],
             [
              0.1111111111111111,
              "#46039f"
             ],
             [
              0.2222222222222222,
              "#7201a8"
             ],
             [
              0.3333333333333333,
              "#9c179e"
             ],
             [
              0.4444444444444444,
              "#bd3786"
             ],
             [
              0.5555555555555556,
              "#d8576b"
             ],
             [
              0.6666666666666666,
              "#ed7953"
             ],
             [
              0.7777777777777778,
              "#fb9f3a"
             ],
             [
              0.8888888888888888,
              "#fdca26"
             ],
             [
              1,
              "#f0f921"
             ]
            ],
            "type": "heatmap"
           }
          ],
          "histogram": [
           {
            "marker": {
             "pattern": {
              "fillmode": "overlay",
              "size": 10,
              "solidity": 0.2
             }
            },
            "type": "histogram"
           }
          ],
          "histogram2d": [
           {
            "colorbar": {
             "outlinewidth": 0,
             "ticks": ""
            },
            "colorscale": [
             [
              0,
              "#0d0887"
             ],
             [
              0.1111111111111111,
              "#46039f"
             ],
             [
              0.2222222222222222,
              "#7201a8"
             ],
             [
              0.3333333333333333,
              "#9c179e"
             ],
             [
              0.4444444444444444,
              "#bd3786"
             ],
             [
              0.5555555555555556,
              "#d8576b"
             ],
             [
              0.6666666666666666,
              "#ed7953"
             ],
             [
              0.7777777777777778,
              "#fb9f3a"
             ],
             [
              0.8888888888888888,
              "#fdca26"
             ],
             [
              1,
              "#f0f921"
             ]
            ],
            "type": "histogram2d"
           }
          ],
          "histogram2dcontour": [
           {
            "colorbar": {
             "outlinewidth": 0,
             "ticks": ""
            },
            "colorscale": [
             [
              0,
              "#0d0887"
             ],
             [
              0.1111111111111111,
              "#46039f"
             ],
             [
              0.2222222222222222,
              "#7201a8"
             ],
             [
              0.3333333333333333,
              "#9c179e"
             ],
             [
              0.4444444444444444,
              "#bd3786"
             ],
             [
              0.5555555555555556,
              "#d8576b"
             ],
             [
              0.6666666666666666,
              "#ed7953"
             ],
             [
              0.7777777777777778,
              "#fb9f3a"
             ],
             [
              0.8888888888888888,
              "#fdca26"
             ],
             [
              1,
              "#f0f921"
             ]
            ],
            "type": "histogram2dcontour"
           }
          ],
          "mesh3d": [
           {
            "colorbar": {
             "outlinewidth": 0,
             "ticks": ""
            },
            "type": "mesh3d"
           }
          ],
          "parcoords": [
           {
            "line": {
             "colorbar": {
              "outlinewidth": 0,
              "ticks": ""
             }
            },
            "type": "parcoords"
           }
          ],
          "pie": [
           {
            "automargin": true,
            "type": "pie"
           }
          ],
          "scatter": [
           {
            "fillpattern": {
             "fillmode": "overlay",
             "size": 10,
             "solidity": 0.2
            },
            "type": "scatter"
           }
          ],
          "scatter3d": [
           {
            "line": {
             "colorbar": {
              "outlinewidth": 0,
              "ticks": ""
             }
            },
            "marker": {
             "colorbar": {
              "outlinewidth": 0,
              "ticks": ""
             }
            },
            "type": "scatter3d"
           }
          ],
          "scattercarpet": [
           {
            "marker": {
             "colorbar": {
              "outlinewidth": 0,
              "ticks": ""
             }
            },
            "type": "scattercarpet"
           }
          ],
          "scattergeo": [
           {
            "marker": {
             "colorbar": {
              "outlinewidth": 0,
              "ticks": ""
             }
            },
            "type": "scattergeo"
           }
          ],
          "scattergl": [
           {
            "marker": {
             "colorbar": {
              "outlinewidth": 0,
              "ticks": ""
             }
            },
            "type": "scattergl"
           }
          ],
          "scattermap": [
           {
            "marker": {
             "colorbar": {
              "outlinewidth": 0,
              "ticks": ""
             }
            },
            "type": "scattermap"
           }
          ],
          "scattermapbox": [
           {
            "marker": {
             "colorbar": {
              "outlinewidth": 0,
              "ticks": ""
             }
            },
            "type": "scattermapbox"
           }
          ],
          "scatterpolar": [
           {
            "marker": {
             "colorbar": {
              "outlinewidth": 0,
              "ticks": ""
             }
            },
            "type": "scatterpolar"
           }
          ],
          "scatterpolargl": [
           {
            "marker": {
             "colorbar": {
              "outlinewidth": 0,
              "ticks": ""
             }
            },
            "type": "scatterpolargl"
           }
          ],
          "scatterternary": [
           {
            "marker": {
             "colorbar": {
              "outlinewidth": 0,
              "ticks": ""
             }
            },
            "type": "scatterternary"
           }
          ],
          "surface": [
           {
            "colorbar": {
             "outlinewidth": 0,
             "ticks": ""
            },
            "colorscale": [
             [
              0,
              "#0d0887"
             ],
             [
              0.1111111111111111,
              "#46039f"
             ],
             [
              0.2222222222222222,
              "#7201a8"
             ],
             [
              0.3333333333333333,
              "#9c179e"
             ],
             [
              0.4444444444444444,
              "#bd3786"
             ],
             [
              0.5555555555555556,
              "#d8576b"
             ],
             [
              0.6666666666666666,
              "#ed7953"
             ],
             [
              0.7777777777777778,
              "#fb9f3a"
             ],
             [
              0.8888888888888888,
              "#fdca26"
             ],
             [
              1,
              "#f0f921"
             ]
            ],
            "type": "surface"
           }
          ],
          "table": [
           {
            "cells": {
             "fill": {
              "color": "#EBF0F8"
             },
             "line": {
              "color": "white"
             }
            },
            "header": {
             "fill": {
              "color": "#C8D4E3"
             },
             "line": {
              "color": "white"
             }
            },
            "type": "table"
           }
          ]
         },
         "layout": {
          "annotationdefaults": {
           "arrowcolor": "#2a3f5f",
           "arrowhead": 0,
           "arrowwidth": 1
          },
          "autotypenumbers": "strict",
          "coloraxis": {
           "colorbar": {
            "outlinewidth": 0,
            "ticks": ""
           }
          },
          "colorscale": {
           "diverging": [
            [
             0,
             "#8e0152"
            ],
            [
             0.1,
             "#c51b7d"
            ],
            [
             0.2,
             "#de77ae"
            ],
            [
             0.3,
             "#f1b6da"
            ],
            [
             0.4,
             "#fde0ef"
            ],
            [
             0.5,
             "#f7f7f7"
            ],
            [
             0.6,
             "#e6f5d0"
            ],
            [
             0.7,
             "#b8e186"
            ],
            [
             0.8,
             "#7fbc41"
            ],
            [
             0.9,
             "#4d9221"
            ],
            [
             1,
             "#276419"
            ]
           ],
           "sequential": [
            [
             0,
             "#0d0887"
            ],
            [
             0.1111111111111111,
             "#46039f"
            ],
            [
             0.2222222222222222,
             "#7201a8"
            ],
            [
             0.3333333333333333,
             "#9c179e"
            ],
            [
             0.4444444444444444,
             "#bd3786"
            ],
            [
             0.5555555555555556,
             "#d8576b"
            ],
            [
             0.6666666666666666,
             "#ed7953"
            ],
            [
             0.7777777777777778,
             "#fb9f3a"
            ],
            [
             0.8888888888888888,
             "#fdca26"
            ],
            [
             1,
             "#f0f921"
            ]
           ],
           "sequentialminus": [
            [
             0,
             "#0d0887"
            ],
            [
             0.1111111111111111,
             "#46039f"
            ],
            [
             0.2222222222222222,
             "#7201a8"
            ],
            [
             0.3333333333333333,
             "#9c179e"
            ],
            [
             0.4444444444444444,
             "#bd3786"
            ],
            [
             0.5555555555555556,
             "#d8576b"
            ],
            [
             0.6666666666666666,
             "#ed7953"
            ],
            [
             0.7777777777777778,
             "#fb9f3a"
            ],
            [
             0.8888888888888888,
             "#fdca26"
            ],
            [
             1,
             "#f0f921"
            ]
           ]
          },
          "colorway": [
           "#636efa",
           "#EF553B",
           "#00cc96",
           "#ab63fa",
           "#FFA15A",
           "#19d3f3",
           "#FF6692",
           "#B6E880",
           "#FF97FF",
           "#FECB52"
          ],
          "font": {
           "color": "#2a3f5f"
          },
          "geo": {
           "bgcolor": "white",
           "lakecolor": "white",
           "landcolor": "#E5ECF6",
           "showlakes": true,
           "showland": true,
           "subunitcolor": "white"
          },
          "hoverlabel": {
           "align": "left"
          },
          "hovermode": "closest",
          "mapbox": {
           "style": "light"
          },
          "paper_bgcolor": "white",
          "plot_bgcolor": "#E5ECF6",
          "polar": {
           "angularaxis": {
            "gridcolor": "white",
            "linecolor": "white",
            "ticks": ""
           },
           "bgcolor": "#E5ECF6",
           "radialaxis": {
            "gridcolor": "white",
            "linecolor": "white",
            "ticks": ""
           }
          },
          "scene": {
           "xaxis": {
            "backgroundcolor": "#E5ECF6",
            "gridcolor": "white",
            "gridwidth": 2,
            "linecolor": "white",
            "showbackground": true,
            "ticks": "",
            "zerolinecolor": "white"
           },
           "yaxis": {
            "backgroundcolor": "#E5ECF6",
            "gridcolor": "white",
            "gridwidth": 2,
            "linecolor": "white",
            "showbackground": true,
            "ticks": "",
            "zerolinecolor": "white"
           },
           "zaxis": {
            "backgroundcolor": "#E5ECF6",
            "gridcolor": "white",
            "gridwidth": 2,
            "linecolor": "white",
            "showbackground": true,
            "ticks": "",
            "zerolinecolor": "white"
           }
          },
          "shapedefaults": {
           "line": {
            "color": "#2a3f5f"
           }
          },
          "ternary": {
           "aaxis": {
            "gridcolor": "white",
            "linecolor": "white",
            "ticks": ""
           },
           "baxis": {
            "gridcolor": "white",
            "linecolor": "white",
            "ticks": ""
           },
           "bgcolor": "#E5ECF6",
           "caxis": {
            "gridcolor": "white",
            "linecolor": "white",
            "ticks": ""
           }
          },
          "title": {
           "x": 0.05
          },
          "xaxis": {
           "automargin": true,
           "gridcolor": "white",
           "linecolor": "white",
           "ticks": "",
           "title": {
            "standoff": 15
           },
           "zerolinecolor": "white",
           "zerolinewidth": 2
          },
          "yaxis": {
           "automargin": true,
           "gridcolor": "white",
           "linecolor": "white",
           "ticks": "",
           "title": {
            "standoff": 15
           },
           "zerolinecolor": "white",
           "zerolinewidth": 2
          }
         }
        },
        "title": {
         "text": "Shell contact p2t"
        },
        "updatemenus": [
         {
          "buttons": [
           {
            "args": [
             null,
             {
              "frame": {
               "duration": 50,
               "redraw": true
              },
              "fromcurrent": true
             }
            ],
            "label": "Play",
            "method": "animate"
           },
           {
            "args": [
             [
              null
             ],
             {
              "frame": {
               "duration": 0,
               "redraw": true
              },
              "mode": "immediate"
             }
            ],
            "label": "Pause",
            "method": "animate"
           }
          ],
          "direction": "left",
          "pad": {
           "r": 10,
           "t": 87
          },
          "showactive": false,
          "type": "buttons",
          "x": 0.1,
          "xanchor": "right",
          "y": 0,
          "yanchor": "top"
         }
        ]
       }
      }
     },
     "metadata": {},
     "output_type": "display_data"
    }
   ],
   "source": [
    "t = np.arange(robot.sim_params.total_time, step=robot.sim_params.dt)\n",
    "options = dismech.AnimationOptions(title='Shell contact p2t')\n",
    "\n",
    "fig = dismech.get_interactive_animation_plotly(robot, t, qs, options)\n",
    "fig.show()"
   ]
  },
  {
   "cell_type": "code",
   "execution_count": 4,
   "metadata": {},
   "outputs": [
    {
     "data": {
      "image/png": "[encoded data removed]",
      "text/plain": [
       "<Figure size 640x480 with 1 Axes>"
      ]
     },
     "metadata": {},
     "output_type": "display_data"
    }
   ],
   "source": [
    "ani = dismech.get_animation(robot, t, qs, options)\n",
    "ani.save('parallel_contact.gif')"
   ]
  }
 ],
 "metadata": {
  "kernelspec": {
   "display_name": ".venv",
   "language": "python",
   "name": "python3"
  },
  "language_info": {
   "codemirror_mode": {
    "name": "ipython",
    "version": 3
   },
   "file_extension": ".py",
   "mimetype": "text/x-python",
   "name": "python",
   "nbconvert_exporter": "python",
   "pygments_lexer": "ipython3",
   "version": "3.10.12"
  }
 },
 "nbformat": 4,
 "nbformat_minor": 2
}
