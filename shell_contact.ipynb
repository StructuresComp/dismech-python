{
 "cells": [
  {
   "cell_type": "markdown",
   "metadata": {},
   "source": [
    "## Shell Contact Example"
   ]
  },
  {
   "cell_type": "code",
   "execution_count": 14,
   "metadata": {},
   "outputs": [],
   "source": [
    "# !pip install debugpy"
   ]
  },
  {
   "cell_type": "code",
   "execution_count": 15,
   "metadata": {},
   "outputs": [],
   "source": [
    "import numpy as np\n",
    "\n",
    "import dismech\n",
    "\n",
    "\n",
    "geom = dismech.GeomParams(rod_r0=0.005,\n",
    "                          shell_h=0.005)\n",
    "\n",
    "material = dismech.Material(density=1200,\n",
    "                            youngs_rod=0,\n",
    "                            youngs_shell=2e8,\n",
    "                            poisson_rod=0,\n",
    "                            poisson_shell=0.5)\n",
    "\n",
    "shell_contact_sim = dismech.SimParams(static_sim=False,\n",
    "                                  two_d_sim=False,   # no twisting\n",
    "                                  use_mid_edge=False,\n",
    "                                  use_line_search=False,\n",
    "                                  show_floor=False,\n",
    "                                  log_data=True,\n",
    "                                  log_step=1,\n",
    "                                  dt=1e-2,\n",
    "                                  max_iter=25,\n",
    "                                  total_time=1.0,\n",
    "                                  plot_step=1,\n",
    "                                  tol=1e-4,\n",
    "                                  ftol=1e-4,\n",
    "                                  dtol=1e-2)\n",
    "\n",
    "env = dismech.Environment()\n",
    "#env.add_force('gravity', g=np.array([0.0, 0.0, -9.81]))\n",
    "# env.add_force('selfContact', delta=0.01*2*5e-3, h=5e-3)\n",
    "env.add_force('selfContact', delta=1e-4, h=5e-3)\n",
    "#env.set_static()   \n",
    "\n",
    "geo = dismech.Geometry.from_txt('input_twoTriangleContact_p2p.txt')\n",
    "\n",
    "robot = dismech.SoftRobot(geom, material, geo, shell_contact_sim, env)\n",
    "\n",
    "u = robot.state.u\n",
    "u[11] = -0.5\n",
    "u[14] = -0.5\n",
    "u[17] = -0.5"
   ]
  },
  {
   "cell_type": "markdown",
   "metadata": {},
   "source": [
    "### Time Stepping\n",
    "\n",
    "As we are performing a static simulation, we must change gravity for each time step."
   ]
  },
  {
   "cell_type": "code",
   "execution_count": 16,
   "metadata": {},
   "outputs": [
    {
     "name": "stdout",
     "output_type": "stream",
     "text": [
      "delta: 0.02\n",
      "h: 1.0\n",
      "K1: 750.0\n",
      "scale:  200.0\n",
      "upper limit for quadratic: 1.98\n",
      "upper limit for smooth: 2.02\n",
      "5000000.0\n",
      "current_time:  0.01\n",
      "5000000.000000005\n",
      "current_time:  0.02\n",
      "5000000.000000005\n",
      "current_time:  0.03\n",
      "5000000.000000005\n",
      "current_time:  0.04\n",
      "5000000.000000005\n",
      "current_time:  0.05\n",
      "5000000.000000005\n",
      "current_time:  0.06\n",
      "5000000.000000005\n",
      "current_time:  0.07\n",
      "5000000.000000005\n",
      "current_time:  0.08\n",
      "5000000.000000005\n",
      "current_time:  0.09\n",
      "5000000.000000005\n",
      "current_time:  0.1\n",
      "5000000.000000005\n",
      "current_time:  0.11\n",
      "5000000.000000005\n",
      "current_time:  0.12\n",
      "5000000.000000005\n",
      "current_time:  0.13\n",
      "5000000.000000005\n",
      "current_time:  0.14\n",
      "5000000.000000005\n",
      "current_time:  0.15\n",
      "5000000.000000005\n",
      "current_time:  0.16\n",
      "5000000.000000005\n",
      "current_time:  0.17\n",
      "5000000.000000005\n",
      "current_time:  0.18\n",
      "5037533.901927438\n",
      "current_time:  0.19\n",
      "5001531.05226794\n",
      "current_time:  0.2\n",
      "5320621.11602219\n",
      "current_time:  0.21\n",
      "5495121.657275668\n",
      "current_time:  0.22\n",
      "5023806.886540558\n",
      "current_time:  0.23\n",
      "11963743677.879822\n",
      "current_time:  0.24\n",
      "1058590561.361843\n",
      "current_time:  0.25\n",
      "303344089.5751411\n",
      "current_time:  0.26\n",
      "254780725.92619792\n",
      "current_time:  0.27\n",
      "245673783.60518533\n",
      "current_time:  0.28\n",
      "230330207.45374605\n",
      "current_time:  0.29\n",
      "213130087.8150445\n",
      "current_time:  0.3\n",
      "196300256.29849708\n",
      "current_time:  0.31\n",
      "180689964.14784294\n",
      "current_time:  0.32\n",
      "166506292.29407912\n",
      "current_time:  0.33\n",
      "162185778.84590086\n",
      "current_time:  0.34\n",
      "158255019.60779658\n",
      "current_time:  0.35000000000000003\n",
      "153786239.01619628\n",
      "current_time:  0.36\n",
      "148814664.96355584\n",
      "current_time:  0.37\n",
      "143371836.02568144\n",
      "current_time:  0.38\n",
      "137506826.7018552\n",
      "current_time:  0.39\n",
      "131302645.80471805\n",
      "current_time:  0.4\n",
      "124885842.0428398\n",
      "current_time:  0.41000000000000003\n",
      "118427294.67780139\n",
      "current_time:  0.42\n",
      "112132738.3692339\n",
      "current_time:  0.43\n",
      "106223119.19182944\n",
      "current_time:  0.44\n",
      "102124188.55394231\n",
      "current_time:  0.45\n",
      "102941555.02014156\n",
      "current_time:  0.46\n",
      "103644799.41796717\n",
      "current_time:  0.47000000000000003\n",
      "104469266.45753194\n",
      "current_time:  0.48\n",
      "105258838.6218506\n",
      "current_time:  0.49\n",
      "105644832.18196777\n",
      "current_time:  0.5\n",
      "105575663.05603905\n",
      "current_time:  0.51\n",
      "105043365.1996329\n",
      "current_time:  0.52\n",
      "104070644.15004729\n",
      "current_time:  0.53\n",
      "102699337.92703\n",
      "current_time:  0.54\n",
      "100981288.05682726\n",
      "current_time:  0.55\n",
      "98971799.32812068\n",
      "current_time:  0.56\n",
      "96725400.92563051\n",
      "current_time:  0.5700000000000001\n",
      "94293428.74491784\n",
      "current_time:  0.58\n",
      "91722927.95023143\n",
      "current_time:  0.59\n",
      "89056441.18584841\n",
      "current_time:  0.6\n",
      "87051487.81933829\n",
      "current_time:  0.61\n",
      "86761117.10297996\n",
      "current_time:  0.62\n",
      "86894157.01057391\n",
      "current_time:  0.63\n",
      "87108444.32384391\n",
      "current_time:  0.64\n",
      "87145098.81078833\n",
      "current_time:  0.65\n",
      "86995764.69713625\n",
      "current_time:  0.66\n",
      "86654594.66344105\n",
      "current_time:  0.67\n",
      "86118378.36962506\n",
      "current_time:  0.68\n",
      "85386825.31244628\n",
      "current_time:  0.6900000000000001\n",
      "84462941.14767501\n",
      "current_time:  0.7000000000000001\n",
      "83353435.92917213\n",
      "current_time:  0.71\n",
      "82069100.35145362\n",
      "current_time:  0.72\n",
      "80625083.95544335\n",
      "current_time:  0.73\n",
      "79041009.54543075\n",
      "current_time:  0.74\n",
      "77340862.9218745\n",
      "current_time:  0.75\n",
      "75552608.28265335\n",
      "current_time:  0.76\n",
      "73707498.4672578\n",
      "current_time:  0.77\n",
      "71839075.8461234\n",
      "current_time:  0.78\n",
      "69981893.0949179\n",
      "current_time:  0.79\n",
      "68170020.8275113\n",
      "current_time:  0.8\n",
      "67121219.71470553\n",
      "current_time:  0.81\n",
      "67475823.5377156\n",
      "current_time:  0.8200000000000001\n",
      "67762974.71349138\n",
      "current_time:  0.8300000000000001\n",
      "67967193.55166875\n",
      "current_time:  0.84\n",
      "68077935.50113815\n",
      "current_time:  0.85\n",
      "68089067.78831549\n",
      "current_time:  0.86\n",
      "67998228.52301238\n",
      "current_time:  0.87\n",
      "67806145.08358979\n",
      "current_time:  0.88\n",
      "67516249.45601125\n",
      "current_time:  0.89\n",
      "67132899.79805201\n",
      "current_time:  0.9\n",
      "66662678.7438456\n",
      "current_time:  0.91\n",
      "66112702.33997954\n",
      "current_time:  0.92\n",
      "65490577.6038685\n",
      "current_time:  0.93\n",
      "64804155.80151853\n",
      "current_time:  0.9400000000000001\n",
      "64061347.64478877\n",
      "current_time:  0.9500000000000001\n",
      "63467134.55114261\n",
      "current_time:  0.96\n",
      "63263338.53269596\n",
      "current_time:  0.97\n",
      "62998900.315876506\n",
      "current_time:  0.98\n",
      "62677679.846627094\n",
      "current_time:  0.99\n",
      "62303729.04093356\n",
      "current_time:  1.0\n"
     ]
    }
   ],
   "source": [
    "stepper = dismech.ImplicitEulerTimeStepper(robot)\n",
    "\n",
    "robots = stepper.simulate()\n",
    "\n",
    "qs = np.stack([robot.state.q for robot in robots])"
   ]
  },
  {
   "cell_type": "code",
   "execution_count": 17,
   "metadata": {},
   "outputs": [
    {
     "data": {
      "application/vnd.plotly.v1+json": {
       "config": {
        "plotlyServerURL": "https://plot.ly"
       },
       "data": [
        {
         "marker": {
          "color": "#1f78b4",
          "size": 5
         },
         "mode": "markers",
         "name": "Free Nodes",
         "type": "scatter3d",
         "x": {
          "bdata": "AAAAAAAAAAAAAAAAAADwPwAAAAAAAAAAAAAAAAAA8D8AAAAAAAAAQAAAAAAAAABA",
          "dtype": "f8"
         },
         "y": {
          "bdata": "AAAAAAAAAAAAAAAAAAAAAAAAAAAAAPA/AAAAAAAAAAAAAAAAAAAAAAAAAAAAAPA/",
          "dtype": "f8"
         },
         "z": {
          "bdata": "AAAAAAAAAAAAAAAAAAAAAAAAAAAAAAAAUrgehetRuD9SuB6F61G4P1K4HoXrUbg/",
          "dtype": "f8"
         }
        },
        {
         "marker": {
          "color": "#e31a1c",
          "size": 5
         },
         "mode": "markers",
         "name": "Fixed Nodes",
         "type": "scatter3d",
         "x": [],
         "y": [],
         "z": []
        },
        {
         "line": {
          "color": "#333333",
          "width": 2
         },
         "mode": "lines",
         "name": "Edges",
         "type": "scatter3d",
         "x": [
          1,
          0,
          null,
          0,
          0,
          null,
          0,
          1,
          null,
          2,
          2,
          null,
          2,
          1,
          null,
          1,
          2,
          null
         ],
         "y": [
          0,
          1,
          null,
          1,
          0,
          null,
          0,
          0,
          null,
          0,
          1,
          null,
          1,
          0,
          null,
          0,
          0,
          null
         ],
         "z": [
          0,
          0,
          null,
          0,
          0,
          null,
          0,
          0,
          null,
          0.095,
          0.095,
          null,
          0.095,
          0.095,
          null,
          0.095,
          0.095,
          null
         ]
        },
        {
         "color": "rgba(166, 206, 227, 0.7)",
         "i": [
          0,
          3
         ],
         "j": [
          1,
          4
         ],
         "k": [
          2,
          5
         ],
         "name": "Faces",
         "opacity": 0.7,
         "showscale": false,
         "type": "mesh3d",
         "x": {
          "bdata": "AAAAAAAAAAAAAAAAAADwPwAAAAAAAAAAAAAAAAAA8D8AAAAAAAAAQAAAAAAAAABA",
          "dtype": "f8"
         },
         "y": {
          "bdata": "AAAAAAAAAAAAAAAAAAAAAAAAAAAAAPA/AAAAAAAAAAAAAAAAAAAAAAAAAAAAAPA/",
          "dtype": "f8"
         },
         "z": {
          "bdata": "AAAAAAAAAAAAAAAAAAAAAAAAAAAAAAAAUrgehetRuD9SuB6F61G4P1K4HoXrUbg/",
          "dtype": "f8"
         }
        }
       ],
       "frames": [
        {
         "data": [
          {
           "name": "Free Nodes",
           "type": "scatter3d",
           "x": {
            "bdata": "AAAAAAAAAAAAAAAAAADwPwAAAAAAAAAAAAAAAAAA8D8AAAAAAAAAQAAAAAAAAABA",
            "dtype": "f8"
           },
           "y": {
            "bdata": "AAAAAAAAAAAAAAAAAAAAAAAAAAAAAPA/AAAAAAAAAAAAAAAAAAAAAAAAAAAAAPA/",
            "dtype": "f8"
           },
           "z": {
            "bdata": "AAAAAAAAAAAAAAAAAAAAAAAAAAAAAAAAUrgehetRuD9SuB6F61G4P1K4HoXrUbg/",
            "dtype": "f8"
           }
          },
          {
           "name": "Fixed Nodes",
           "type": "scatter3d",
           "x": [],
           "y": [],
           "z": []
          },
          {
           "name": "Edges",
           "type": "scatter3d",
           "x": [
            1,
            0,
            null,
            0,
            0,
            null,
            0,
            1,
            null,
            2,
            2,
            null,
            2,
            1,
            null,
            1,
            2,
            null
           ],
           "y": [
            0,
            1,
            null,
            1,
            0,
            null,
            0,
            0,
            null,
            0,
            1,
            null,
            1,
            0,
            null,
            0,
            0,
            null
           ],
           "z": [
            0,
            0,
            null,
            0,
            0,
            null,
            0,
            0,
            null,
            0.095,
            0.095,
            null,
            0.095,
            0.095,
            null,
            0.095,
            0.095,
            null
           ]
          },
          {
           "i": [
            0,
            3
           ],
           "j": [
            1,
            4
           ],
           "k": [
            2,
            5
           ],
           "name": "Faces",
           "type": "mesh3d",
           "x": {
            "bdata": "AAAAAAAAAAAAAAAAAADwPwAAAAAAAAAAAAAAAAAA8D8AAAAAAAAAQAAAAAAAAABA",
            "dtype": "f8"
           },
           "y": {
            "bdata": "AAAAAAAAAAAAAAAAAAAAAAAAAAAAAPA/AAAAAAAAAAAAAAAAAAAAAAAAAAAAAPA/",
            "dtype": "f8"
           },
           "z": {
            "bdata": "AAAAAAAAAAAAAAAAAAAAAAAAAAAAAAAAUrgehetRuD9SuB6F61G4P1K4HoXrUbg/",
            "dtype": "f8"
           }
          }
         ],
         "layout": {
          "annotations": [
           {
            "showarrow": false,
            "text": "Time: 0.00s (Step: 1/100)",
            "x": 0.05,
            "xref": "paper",
            "y": 0.95,
            "yref": "paper"
           }
          ]
         },
         "name": "0"
        },
        {
         "data": [
          {
           "name": "Free Nodes",
           "type": "scatter3d",
           "x": {
            "bdata": "AAAAAAAAAAAAAAAAAADwPwAAAAAAAAAAAAAAAAAA8D8AAAAAAAAAQAAAAAAAAABA",
            "dtype": "f8"
           },
           "y": {
            "bdata": "AAAAAAAAAAAAAAAAAAAAAAAAAAAAAPA/AAAAAAAAAAAAAAAAAAAAAAAAAAAAAPA/",
            "dtype": "f8"
           },
           "z": {
            "bdata": "AAAAAAAAAAAAAAAAAAAAAAAAAAAAAAAACtejcD0Ktz8K16NwPQq3PwrXo3A9Crc/",
            "dtype": "f8"
           }
          },
          {
           "name": "Fixed Nodes",
           "type": "scatter3d",
           "x": [],
           "y": [],
           "z": []
          },
          {
           "name": "Edges",
           "type": "scatter3d",
           "x": [
            1,
            0,
            null,
            0,
            0,
            null,
            0,
            1,
            null,
            2,
            2,
            null,
            2,
            1,
            null,
            1,
            2,
            null
           ],
           "y": [
            0,
            1,
            null,
            1,
            0,
            null,
            0,
            0,
            null,
            0,
            1,
            null,
            1,
            0,
            null,
            0,
            0,
            null
           ],
           "z": [
            0,
            0,
            null,
            0,
            0,
            null,
            0,
            0,
            null,
            0.09,
            0.09,
            null,
            0.09,
            0.09,
            null,
            0.09,
            0.09,
            null
           ]
          },
          {
           "i": [
            0,
            3
           ],
           "j": [
            1,
            4
           ],
           "k": [
            2,
            5
           ],
           "name": "Faces",
           "type": "mesh3d",
           "x": {
            "bdata": "AAAAAAAAAAAAAAAAAADwPwAAAAAAAAAAAAAAAAAA8D8AAAAAAAAAQAAAAAAAAABA",
            "dtype": "f8"
           },
           "y": {
            "bdata": "AAAAAAAAAAAAAAAAAAAAAAAAAAAAAPA/AAAAAAAAAAAAAAAAAAAAAAAAAAAAAPA/",
            "dtype": "f8"
           },
           "z": {
            "bdata": "AAAAAAAAAAAAAAAAAAAAAAAAAAAAAAAACtejcD0Ktz8K16NwPQq3PwrXo3A9Crc/",
            "dtype": "f8"
           }
          }
         ],
         "layout": {
          "annotations": [
           {
            "showarrow": false,
            "text": "Time: 0.01s (Step: 2/100)",
            "x": 0.05,
            "xref": "paper",
            "y": 0.95,
            "yref": "paper"
           }
          ]
         },
         "name": "1"
        },
        {
         "data": [
          {
           "name": "Free Nodes",
           "type": "scatter3d",
           "x": {
            "bdata": "AAAAAAAAAAAAAAAAAADwPwAAAAAAAAAAAAAAAAAA8D8AAAAAAAAAQAAAAAAAAABA",
            "dtype": "f8"
           },
           "y": {
            "bdata": "AAAAAAAAAAAAAAAAAAAAAAAAAAAAAPA/AAAAAAAAAAAAAAAAAAAAAAAAAAAAAPA/",
            "dtype": "f8"
           },
           "z": {
            "bdata": "AAAAAAAAAAAAAAAAAAAAAAAAAAAAAAAAwvUoXI/CtT/C9Shcj8K1P8L1KFyPwrU/",
            "dtype": "f8"
           }
          },
          {
           "name": "Fixed Nodes",
           "type": "scatter3d",
           "x": [],
           "y": [],
           "z": []
          },
          {
           "name": "Edges",
           "type": "scatter3d",
           "x": [
            1,
            0,
            null,
            0,
            0,
            null,
            0,
            1,
            null,
            2,
            2,
            null,
            2,
            1,
            null,
            1,
            2,
            null
           ],
           "y": [
            0,
            1,
            null,
            1,
            0,
            null,
            0,
            0,
            null,
            0,
            1,
            null,
            1,
            0,
            null,
            0,
            0,
            null
           ],
           "z": [
            0,
            0,
            null,
            0,
            0,
            null,
            0,
            0,
            null,
            0.08499999999999999,
            0.08499999999999999,
            null,
            0.08499999999999999,
            0.08499999999999999,
            null,
            0.08499999999999999,
            0.08499999999999999,
            null
           ]
          },
          {
           "i": [
            0,
            3
           ],
           "j": [
            1,
            4
           ],
           "k": [
            2,
            5
           ],
           "name": "Faces",
           "type": "mesh3d",
           "x": {
            "bdata": "AAAAAAAAAAAAAAAAAADwPwAAAAAAAAAAAAAAAAAA8D8AAAAAAAAAQAAAAAAAAABA",
            "dtype": "f8"
           },
           "y": {
            "bdata": "AAAAAAAAAAAAAAAAAAAAAAAAAAAAAPA/AAAAAAAAAAAAAAAAAAAAAAAAAAAAAPA/",
            "dtype": "f8"
           },
           "z": {
            "bdata": "AAAAAAAAAAAAAAAAAAAAAAAAAAAAAAAAwvUoXI/CtT/C9Shcj8K1P8L1KFyPwrU/",
            "dtype": "f8"
           }
          }
         ],
         "layout": {
          "annotations": [
           {
            "showarrow": false,
            "text": "Time: 0.02s (Step: 3/100)",
            "x": 0.05,
            "xref": "paper",
            "y": 0.95,
            "yref": "paper"
           }
          ]
         },
         "name": "2"
        },
        {
         "data": [
          {
           "name": "Free Nodes",
           "type": "scatter3d",
           "x": {
            "bdata": "AAAAAAAAAAAAAAAAAADwPwAAAAAAAAAAAAAAAAAA8D8AAAAAAAAAQAAAAAAAAABA",
            "dtype": "f8"
           },
           "y": {
            "bdata": "AAAAAAAAAAAAAAAAAAAAAAAAAAAAAPA/AAAAAAAAAAAAAAAAAAAAAAAAAAAAAPA/",
            "dtype": "f8"
           },
           "z": {
            "bdata": "AAAAAAAAAAAAAAAAAAAAAAAAAAAAAAAAehSuR+F6tD96FK5H4Xq0P3oUrkfherQ/",
            "dtype": "f8"
           }
          },
          {
           "name": "Fixed Nodes",
           "type": "scatter3d",
           "x": [],
           "y": [],
           "z": []
          },
          {
           "name": "Edges",
           "type": "scatter3d",
           "x": [
            1,
            0,
            null,
            0,
            0,
            null,
            0,
            1,
            null,
            2,
            2,
            null,
            2,
            1,
            null,
            1,
            2,
            null
           ],
           "y": [
            0,
            1,
            null,
            1,
            0,
            null,
            0,
            0,
            null,
            0,
            1,
            null,
            1,
            0,
            null,
            0,
            0,
            null
           ],
           "z": [
            0,
            0,
            null,
            0,
            0,
            null,
            0,
            0,
            null,
            0.07999999999999999,
            0.07999999999999999,
            null,
            0.07999999999999999,
            0.07999999999999999,
            null,
            0.07999999999999999,
            0.07999999999999999,
            null
           ]
          },
          {
           "i": [
            0,
            3
           ],
           "j": [
            1,
            4
           ],
           "k": [
            2,
            5
           ],
           "name": "Faces",
           "type": "mesh3d",
           "x": {
            "bdata": "AAAAAAAAAAAAAAAAAADwPwAAAAAAAAAAAAAAAAAA8D8AAAAAAAAAQAAAAAAAAABA",
            "dtype": "f8"
           },
           "y": {
            "bdata": "AAAAAAAAAAAAAAAAAAAAAAAAAAAAAPA/AAAAAAAAAAAAAAAAAAAAAAAAAAAAAPA/",
            "dtype": "f8"
           },
           "z": {
            "bdata": "AAAAAAAAAAAAAAAAAAAAAAAAAAAAAAAAehSuR+F6tD96FK5H4Xq0P3oUrkfherQ/",
            "dtype": "f8"
           }
          }
         ],
         "layout": {
          "annotations": [
           {
            "showarrow": false,
            "text": "Time: 0.03s (Step: 4/100)",
            "x": 0.05,
            "xref": "paper",
            "y": 0.95,
            "yref": "paper"
           }
          ]
         },
         "name": "3"
        },
        {
         "data": [
          {
           "name": "Free Nodes",
           "type": "scatter3d",
           "x": {
            "bdata": "AAAAAAAAAAAAAAAAAADwPwAAAAAAAAAAAAAAAAAA8D8AAAAAAAAAQAAAAAAAAABA",
            "dtype": "f8"
           },
           "y": {
            "bdata": "AAAAAAAAAAAAAAAAAAAAAAAAAAAAAPA/AAAAAAAAAAAAAAAAAAAAAAAAAAAAAPA/",
            "dtype": "f8"
           },
           "z": {
            "bdata": "AAAAAAAAAAAAAAAAAAAAAAAAAAAAAAAAMjMzMzMzsz8yMzMzMzOzPzIzMzMzM7M/",
            "dtype": "f8"
           }
          },
          {
           "name": "Fixed Nodes",
           "type": "scatter3d",
           "x": [],
           "y": [],
           "z": []
          },
          {
           "name": "Edges",
           "type": "scatter3d",
           "x": [
            1,
            0,
            null,
            0,
            0,
            null,
            0,
            1,
            null,
            2,
            2,
            null,
            2,
            1,
            null,
            1,
            2,
            null
           ],
           "y": [
            0,
            1,
            null,
            1,
            0,
            null,
            0,
            0,
            null,
            0,
            1,
            null,
            1,
            0,
            null,
            0,
            0,
            null
           ],
           "z": [
            0,
            0,
            null,
            0,
            0,
            null,
            0,
            0,
            null,
            0.07499999999999998,
            0.07499999999999998,
            null,
            0.07499999999999998,
            0.07499999999999998,
            null,
            0.07499999999999998,
            0.07499999999999998,
            null
           ]
          },
          {
           "i": [
            0,
            3
           ],
           "j": [
            1,
            4
           ],
           "k": [
            2,
            5
           ],
           "name": "Faces",
           "type": "mesh3d",
           "x": {
            "bdata": "AAAAAAAAAAAAAAAAAADwPwAAAAAAAAAAAAAAAAAA8D8AAAAAAAAAQAAAAAAAAABA",
            "dtype": "f8"
           },
           "y": {
            "bdata": "AAAAAAAAAAAAAAAAAAAAAAAAAAAAAPA/AAAAAAAAAAAAAAAAAAAAAAAAAAAAAPA/",
            "dtype": "f8"
           },
           "z": {
            "bdata": "AAAAAAAAAAAAAAAAAAAAAAAAAAAAAAAAMjMzMzMzsz8yMzMzMzOzPzIzMzMzM7M/",
            "dtype": "f8"
           }
          }
         ],
         "layout": {
          "annotations": [
           {
            "showarrow": false,
            "text": "Time: 0.04s (Step: 5/100)",
            "x": 0.05,
            "xref": "paper",
            "y": 0.95,
            "yref": "paper"
           }
          ]
         },
         "name": "4"
        },
        {
         "data": [
          {
           "name": "Free Nodes",
           "type": "scatter3d",
           "x": {
            "bdata": "AAAAAAAAAAAAAAAAAADwPwAAAAAAAAAAAAAAAAAA8D8AAAAAAAAAQAAAAAAAAABA",
            "dtype": "f8"
           },
           "y": {
            "bdata": "AAAAAAAAAAAAAAAAAAAAAAAAAAAAAPA/AAAAAAAAAAAAAAAAAAAAAAAAAAAAAPA/",
            "dtype": "f8"
           },
           "z": {
            "bdata": "AAAAAAAAAAAAAAAAAAAAAAAAAAAAAAAA6lG4HoXrsT/qUbgeheuxP+pRuB6F67E/",
            "dtype": "f8"
           }
          },
          {
           "name": "Fixed Nodes",
           "type": "scatter3d",
           "x": [],
           "y": [],
           "z": []
          },
          {
           "name": "Edges",
           "type": "scatter3d",
           "x": [
            1,
            0,
            null,
            0,
            0,
            null,
            0,
            1,
            null,
            2,
            2,
            null,
            2,
            1,
            null,
            1,
            2,
            null
           ],
           "y": [
            0,
            1,
            null,
            1,
            0,
            null,
            0,
            0,
            null,
            0,
            1,
            null,
            1,
            0,
            null,
            0,
            0,
            null
           ],
           "z": [
            0,
            0,
            null,
            0,
            0,
            null,
            0,
            0,
            null,
            0.06999999999999998,
            0.06999999999999998,
            null,
            0.06999999999999998,
            0.06999999999999998,
            null,
            0.06999999999999998,
            0.06999999999999998,
            null
           ]
          },
          {
           "i": [
            0,
            3
           ],
           "j": [
            1,
            4
           ],
           "k": [
            2,
            5
           ],
           "name": "Faces",
           "type": "mesh3d",
           "x": {
            "bdata": "AAAAAAAAAAAAAAAAAADwPwAAAAAAAAAAAAAAAAAA8D8AAAAAAAAAQAAAAAAAAABA",
            "dtype": "f8"
           },
           "y": {
            "bdata": "AAAAAAAAAAAAAAAAAAAAAAAAAAAAAPA/AAAAAAAAAAAAAAAAAAAAAAAAAAAAAPA/",
            "dtype": "f8"
           },
           "z": {
            "bdata": "AAAAAAAAAAAAAAAAAAAAAAAAAAAAAAAA6lG4HoXrsT/qUbgeheuxP+pRuB6F67E/",
            "dtype": "f8"
           }
          }
         ],
         "layout": {
          "annotations": [
           {
            "showarrow": false,
            "text": "Time: 0.05s (Step: 6/100)",
            "x": 0.05,
            "xref": "paper",
            "y": 0.95,
            "yref": "paper"
           }
          ]
         },
         "name": "5"
        },
        {
         "data": [
          {
           "name": "Free Nodes",
           "type": "scatter3d",
           "x": {
            "bdata": "AAAAAAAAAAAAAAAAAADwPwAAAAAAAAAAAAAAAAAA8D8AAAAAAAAAQAAAAAAAAABA",
            "dtype": "f8"
           },
           "y": {
            "bdata": "AAAAAAAAAAAAAAAAAAAAAAAAAAAAAPA/AAAAAAAAAAAAAAAAAAAAAAAAAAAAAPA/",
            "dtype": "f8"
           },
           "z": {
            "bdata": "AAAAAAAAAAAAAAAAAAAAAAAAAAAAAAAAonA9CtejsD+icD0K16OwP6JwPQrXo7A/",
            "dtype": "f8"
           }
          },
          {
           "name": "Fixed Nodes",
           "type": "scatter3d",
           "x": [],
           "y": [],
           "z": []
          },
          {
           "name": "Edges",
           "type": "scatter3d",
           "x": [
            1,
            0,
            null,
            0,
            0,
            null,
            0,
            1,
            null,
            2,
            2,
            null,
            2,
            1,
            null,
            1,
            2,
            null
           ],
           "y": [
            0,
            1,
            null,
            1,
            0,
            null,
            0,
            0,
            null,
            0,
            1,
            null,
            1,
            0,
            null,
            0,
            0,
            null
           ],
           "z": [
            0,
            0,
            null,
            0,
            0,
            null,
            0,
            0,
            null,
            0.06499999999999997,
            0.06499999999999997,
            null,
            0.06499999999999997,
            0.06499999999999997,
            null,
            0.06499999999999997,
            0.06499999999999997,
            null
           ]
          },
          {
           "i": [
            0,
            3
           ],
           "j": [
            1,
            4
           ],
           "k": [
            2,
            5
           ],
           "name": "Faces",
           "type": "mesh3d",
           "x": {
            "bdata": "AAAAAAAAAAAAAAAAAADwPwAAAAAAAAAAAAAAAAAA8D8AAAAAAAAAQAAAAAAAAABA",
            "dtype": "f8"
           },
           "y": {
            "bdata": "AAAAAAAAAAAAAAAAAAAAAAAAAAAAAPA/AAAAAAAAAAAAAAAAAAAAAAAAAAAAAPA/",
            "dtype": "f8"
           },
           "z": {
            "bdata": "AAAAAAAAAAAAAAAAAAAAAAAAAAAAAAAAonA9CtejsD+icD0K16OwP6JwPQrXo7A/",
            "dtype": "f8"
           }
          }
         ],
         "layout": {
          "annotations": [
           {
            "showarrow": false,
            "text": "Time: 0.06s (Step: 7/100)",
            "x": 0.05,
            "xref": "paper",
            "y": 0.95,
            "yref": "paper"
           }
          ]
         },
         "name": "6"
        },
        {
         "data": [
          {
           "name": "Free Nodes",
           "type": "scatter3d",
           "x": {
            "bdata": "AAAAAAAAAAAAAAAAAADwPwAAAAAAAAAAAAAAAAAA8D8AAAAAAAAAQAAAAAAAAABA",
            "dtype": "f8"
           },
           "y": {
            "bdata": "AAAAAAAAAAAAAAAAAAAAAAAAAAAAAPA/AAAAAAAAAAAAAAAAAAAAAAAAAAAAAPA/",
            "dtype": "f8"
           },
           "z": {
            "bdata": "AAAAAAAAAAAAAAAAAAAAAAAAAAAAAAAAtB6F61G4rj+0HoXrUbiuP7QehetRuK4/",
            "dtype": "f8"
           }
          },
          {
           "name": "Fixed Nodes",
           "type": "scatter3d",
           "x": [],
           "y": [],
           "z": []
          },
          {
           "name": "Edges",
           "type": "scatter3d",
           "x": [
            1,
            0,
            null,
            0,
            0,
            null,
            0,
            1,
            null,
            2,
            2,
            null,
            2,
            1,
            null,
            1,
            2,
            null
           ],
           "y": [
            0,
            1,
            null,
            1,
            0,
            null,
            0,
            0,
            null,
            0,
            1,
            null,
            1,
            0,
            null,
            0,
            0,
            null
           ],
           "z": [
            0,
            0,
            null,
            0,
            0,
            null,
            0,
            0,
            null,
            0.05999999999999997,
            0.05999999999999997,
            null,
            0.05999999999999997,
            0.05999999999999997,
            null,
            0.05999999999999997,
            0.05999999999999997,
            null
           ]
          },
          {
           "i": [
            0,
            3
           ],
           "j": [
            1,
            4
           ],
           "k": [
            2,
            5
           ],
           "name": "Faces",
           "type": "mesh3d",
           "x": {
            "bdata": "AAAAAAAAAAAAAAAAAADwPwAAAAAAAAAAAAAAAAAA8D8AAAAAAAAAQAAAAAAAAABA",
            "dtype": "f8"
           },
           "y": {
            "bdata": "AAAAAAAAAAAAAAAAAAAAAAAAAAAAAPA/AAAAAAAAAAAAAAAAAAAAAAAAAAAAAPA/",
            "dtype": "f8"
           },
           "z": {
            "bdata": "AAAAAAAAAAAAAAAAAAAAAAAAAAAAAAAAtB6F61G4rj+0HoXrUbiuP7QehetRuK4/",
            "dtype": "f8"
           }
          }
         ],
         "layout": {
          "annotations": [
           {
            "showarrow": false,
            "text": "Time: 0.07s (Step: 8/100)",
            "x": 0.05,
            "xref": "paper",
            "y": 0.95,
            "yref": "paper"
           }
          ]
         },
         "name": "7"
        },
        {
         "data": [
          {
           "name": "Free Nodes",
           "type": "scatter3d",
           "x": {
            "bdata": "AAAAAAAAAAAAAAAAAADwPwAAAAAAAAAAAAAAAAAA8D8AAAAAAAAAQAAAAAAAAABA",
            "dtype": "f8"
           },
           "y": {
            "bdata": "AAAAAAAAAAAAAAAAAAAAAAAAAAAAAPA/AAAAAAAAAAAAAAAAAAAAAAAAAAAAAPA/",
            "dtype": "f8"
           },
           "z": {
            "bdata": "AAAAAAAAAAAAAAAAAAAAAAAAAAAAAAAAJFyPwvUorD8kXI/C9SisPyRcj8L1KKw/",
            "dtype": "f8"
           }
          },
          {
           "name": "Fixed Nodes",
           "type": "scatter3d",
           "x": [],
           "y": [],
           "z": []
          },
          {
           "name": "Edges",
           "type": "scatter3d",
           "x": [
            1,
            0,
            null,
            0,
            0,
            null,
            0,
            1,
            null,
            2,
            2,
            null,
            2,
            1,
            null,
            1,
            2,
            null
           ],
           "y": [
            0,
            1,
            null,
            1,
            0,
            null,
            0,
            0,
            null,
            0,
            1,
            null,
            1,
            0,
            null,
            0,
            0,
            null
           ],
           "z": [
            0,
            0,
            null,
            0,
            0,
            null,
            0,
            0,
            null,
            0.054999999999999966,
            0.054999999999999966,
            null,
            0.054999999999999966,
            0.054999999999999966,
            null,
            0.054999999999999966,
            0.054999999999999966,
            null
           ]
          },
          {
           "i": [
            0,
            3
           ],
           "j": [
            1,
            4
           ],
           "k": [
            2,
            5
           ],
           "name": "Faces",
           "type": "mesh3d",
           "x": {
            "bdata": "AAAAAAAAAAAAAAAAAADwPwAAAAAAAAAAAAAAAAAA8D8AAAAAAAAAQAAAAAAAAABA",
            "dtype": "f8"
           },
           "y": {
            "bdata": "AAAAAAAAAAAAAAAAAAAAAAAAAAAAAPA/AAAAAAAAAAAAAAAAAAAAAAAAAAAAAPA/",
            "dtype": "f8"
           },
           "z": {
            "bdata": "AAAAAAAAAAAAAAAAAAAAAAAAAAAAAAAAJFyPwvUorD8kXI/C9SisPyRcj8L1KKw/",
            "dtype": "f8"
           }
          }
         ],
         "layout": {
          "annotations": [
           {
            "showarrow": false,
            "text": "Time: 0.08s (Step: 9/100)",
            "x": 0.05,
            "xref": "paper",
            "y": 0.95,
            "yref": "paper"
           }
          ]
         },
         "name": "8"
        },
        {
         "data": [
          {
           "name": "Free Nodes",
           "type": "scatter3d",
           "x": {
            "bdata": "AAAAAAAAAAAAAAAAAADwPwAAAAAAAAAAAAAAAAAA8D8AAAAAAAAAQAAAAAAAAABA",
            "dtype": "f8"
           },
           "y": {
            "bdata": "AAAAAAAAAAAAAAAAAAAAAAAAAAAAAPA/AAAAAAAAAAAAAAAAAAAAAAAAAAAAAPA/",
            "dtype": "f8"
           },
           "z": {
            "bdata": "AAAAAAAAAAAAAAAAAAAAAAAAAAAAAAAAlJmZmZmZqT+UmZmZmZmpP5SZmZmZmak/",
            "dtype": "f8"
           }
          },
          {
           "name": "Fixed Nodes",
           "type": "scatter3d",
           "x": [],
           "y": [],
           "z": []
          },
          {
           "name": "Edges",
           "type": "scatter3d",
           "x": [
            1,
            0,
            null,
            0,
            0,
            null,
            0,
            1,
            null,
            2,
            2,
            null,
            2,
            1,
            null,
            1,
            2,
            null
           ],
           "y": [
            0,
            1,
            null,
            1,
            0,
            null,
            0,
            0,
            null,
            0,
            1,
            null,
            1,
            0,
            null,
            0,
            0,
            null
           ],
           "z": [
            0,
            0,
            null,
            0,
            0,
            null,
            0,
            0,
            null,
            0.04999999999999996,
            0.04999999999999996,
            null,
            0.04999999999999996,
            0.04999999999999996,
            null,
            0.04999999999999996,
            0.04999999999999996,
            null
           ]
          },
          {
           "i": [
            0,
            3
           ],
           "j": [
            1,
            4
           ],
           "k": [
            2,
            5
           ],
           "name": "Faces",
           "type": "mesh3d",
           "x": {
            "bdata": "AAAAAAAAAAAAAAAAAADwPwAAAAAAAAAAAAAAAAAA8D8AAAAAAAAAQAAAAAAAAABA",
            "dtype": "f8"
           },
           "y": {
            "bdata": "AAAAAAAAAAAAAAAAAAAAAAAAAAAAAPA/AAAAAAAAAAAAAAAAAAAAAAAAAAAAAPA/",
            "dtype": "f8"
           },
           "z": {
            "bdata": "AAAAAAAAAAAAAAAAAAAAAAAAAAAAAAAAlJmZmZmZqT+UmZmZmZmpP5SZmZmZmak/",
            "dtype": "f8"
           }
          }
         ],
         "layout": {
          "annotations": [
           {
            "showarrow": false,
            "text": "Time: 0.09s (Step: 10/100)",
            "x": 0.05,
            "xref": "paper",
            "y": 0.95,
            "yref": "paper"
           }
          ]
         },
         "name": "9"
        },
        {
         "data": [
          {
           "name": "Free Nodes",
           "type": "scatter3d",
           "x": {
            "bdata": "AAAAAAAAAAAAAAAAAADwPwAAAAAAAAAAAAAAAAAA8D8AAAAAAAAAQAAAAAAAAABA",
            "dtype": "f8"
           },
           "y": {
            "bdata": "AAAAAAAAAAAAAAAAAAAAAAAAAAAAAPA/AAAAAAAAAAAAAAAAAAAAAAAAAAAAAPA/",
            "dtype": "f8"
           },
           "z": {
            "bdata": "AAAAAAAAAAAAAAAAAAAAAAAAAAAAAAAABNejcD0Kpz8E16NwPQqnPwTXo3A9Cqc/",
            "dtype": "f8"
           }
          },
          {
           "name": "Fixed Nodes",
           "type": "scatter3d",
           "x": [],
           "y": [],
           "z": []
          },
          {
           "name": "Edges",
           "type": "scatter3d",
           "x": [
            1,
            0,
            null,
            0,
            0,
            null,
            0,
            1,
            null,
            2,
            2,
            null,
            2,
            1,
            null,
            1,
            2,
            null
           ],
           "y": [
            0,
            1,
            null,
            1,
            0,
            null,
            0,
            0,
            null,
            0,
            1,
            null,
            1,
            0,
            null,
            0,
            0,
            null
           ],
           "z": [
            0,
            0,
            null,
            0,
            0,
            null,
            0,
            0,
            null,
            0.04499999999999996,
            0.04499999999999996,
            null,
            0.04499999999999996,
            0.04499999999999996,
            null,
            0.04499999999999996,
            0.04499999999999996,
            null
           ]
          },
          {
           "i": [
            0,
            3
           ],
           "j": [
            1,
            4
           ],
           "k": [
            2,
            5
           ],
           "name": "Faces",
           "type": "mesh3d",
           "x": {
            "bdata": "AAAAAAAAAAAAAAAAAADwPwAAAAAAAAAAAAAAAAAA8D8AAAAAAAAAQAAAAAAAAABA",
            "dtype": "f8"
           },
           "y": {
            "bdata": "AAAAAAAAAAAAAAAAAAAAAAAAAAAAAPA/AAAAAAAAAAAAAAAAAAAAAAAAAAAAAPA/",
            "dtype": "f8"
           },
           "z": {
            "bdata": "AAAAAAAAAAAAAAAAAAAAAAAAAAAAAAAABNejcD0Kpz8E16NwPQqnPwTXo3A9Cqc/",
            "dtype": "f8"
           }
          }
         ],
         "layout": {
          "annotations": [
           {
            "showarrow": false,
            "text": "Time: 0.10s (Step: 11/100)",
            "x": 0.05,
            "xref": "paper",
            "y": 0.95,
            "yref": "paper"
           }
          ]
         },
         "name": "10"
        },
        {
         "data": [
          {
           "name": "Free Nodes",
           "type": "scatter3d",
           "x": {
            "bdata": "AAAAAAAAAAAAAAAAAADwPwAAAAAAAAAAAAAAAAAA8D8AAAAAAAAAQAAAAAAAAABA",
            "dtype": "f8"
           },
           "y": {
            "bdata": "AAAAAAAAAAAAAAAAAAAAAAAAAAAAAPA/AAAAAAAAAAAAAAAAAAAAAAAAAAAAAPA/",
            "dtype": "f8"
           },
           "z": {
            "bdata": "AAAAAAAAAAAAAAAAAAAAAAAAAAAAAAAAdBSuR+F6pD90FK5H4XqkP3QUrkfheqQ/",
            "dtype": "f8"
           }
          },
          {
           "name": "Fixed Nodes",
           "type": "scatter3d",
           "x": [],
           "y": [],
           "z": []
          },
          {
           "name": "Edges",
           "type": "scatter3d",
           "x": [
            1,
            0,
            null,
            0,
            0,
            null,
            0,
            1,
            null,
            2,
            2,
            null,
            2,
            1,
            null,
            1,
            2,
            null
           ],
           "y": [
            0,
            1,
            null,
            1,
            0,
            null,
            0,
            0,
            null,
            0,
            1,
            null,
            1,
            0,
            null,
            0,
            0,
            null
           ],
           "z": [
            0,
            0,
            null,
            0,
            0,
            null,
            0,
            0,
            null,
            0.03999999999999995,
            0.03999999999999995,
            null,
            0.03999999999999995,
            0.03999999999999995,
            null,
            0.03999999999999995,
            0.03999999999999995,
            null
           ]
          },
          {
           "i": [
            0,
            3
           ],
           "j": [
            1,
            4
           ],
           "k": [
            2,
            5
           ],
           "name": "Faces",
           "type": "mesh3d",
           "x": {
            "bdata": "AAAAAAAAAAAAAAAAAADwPwAAAAAAAAAAAAAAAAAA8D8AAAAAAAAAQAAAAAAAAABA",
            "dtype": "f8"
           },
           "y": {
            "bdata": "AAAAAAAAAAAAAAAAAAAAAAAAAAAAAPA/AAAAAAAAAAAAAAAAAAAAAAAAAAAAAPA/",
            "dtype": "f8"
           },
           "z": {
            "bdata": "AAAAAAAAAAAAAAAAAAAAAAAAAAAAAAAAdBSuR+F6pD90FK5H4XqkP3QUrkfheqQ/",
            "dtype": "f8"
           }
          }
         ],
         "layout": {
          "annotations": [
           {
            "showarrow": false,
            "text": "Time: 0.11s (Step: 12/100)",
            "x": 0.05,
            "xref": "paper",
            "y": 0.95,
            "yref": "paper"
           }
          ]
         },
         "name": "11"
        },
        {
         "data": [
          {
           "name": "Free Nodes",
           "type": "scatter3d",
           "x": {
            "bdata": "AAAAAAAAAAAAAAAAAADwPwAAAAAAAAAAAAAAAAAA8D8AAAAAAAAAQAAAAAAAAABA",
            "dtype": "f8"
           },
           "y": {
            "bdata": "AAAAAAAAAAAAAAAAAAAAAAAAAAAAAPA/AAAAAAAAAAAAAAAAAAAAAAAAAAAAAPA/",
            "dtype": "f8"
           },
           "z": {
            "bdata": "AAAAAAAAAAAAAAAAAAAAAAAAAAAAAAAA5FG4HoXroT/kUbgeheuhP+RRuB6F66E/",
            "dtype": "f8"
           }
          },
          {
           "name": "Fixed Nodes",
           "type": "scatter3d",
           "x": [],
           "y": [],
           "z": []
          },
          {
           "name": "Edges",
           "type": "scatter3d",
           "x": [
            1,
            0,
            null,
            0,
            0,
            null,
            0,
            1,
            null,
            2,
            2,
            null,
            2,
            1,
            null,
            1,
            2,
            null
           ],
           "y": [
            0,
            1,
            null,
            1,
            0,
            null,
            0,
            0,
            null,
            0,
            1,
            null,
            1,
            0,
            null,
            0,
            0,
            null
           ],
           "z": [
            0,
            0,
            null,
            0,
            0,
            null,
            0,
            0,
            null,
            0.03499999999999995,
            0.03499999999999995,
            null,
            0.03499999999999995,
            0.03499999999999995,
            null,
            0.03499999999999995,
            0.03499999999999995,
            null
           ]
          },
          {
           "i": [
            0,
            3
           ],
           "j": [
            1,
            4
           ],
           "k": [
            2,
            5
           ],
           "name": "Faces",
           "type": "mesh3d",
           "x": {
            "bdata": "AAAAAAAAAAAAAAAAAADwPwAAAAAAAAAAAAAAAAAA8D8AAAAAAAAAQAAAAAAAAABA",
            "dtype": "f8"
           },
           "y": {
            "bdata": "AAAAAAAAAAAAAAAAAAAAAAAAAAAAAPA/AAAAAAAAAAAAAAAAAAAAAAAAAAAAAPA/",
            "dtype": "f8"
           },
           "z": {
            "bdata": "AAAAAAAAAAAAAAAAAAAAAAAAAAAAAAAA5FG4HoXroT/kUbgeheuhP+RRuB6F66E/",
            "dtype": "f8"
           }
          }
         ],
         "layout": {
          "annotations": [
           {
            "showarrow": false,
            "text": "Time: 0.12s (Step: 13/100)",
            "x": 0.05,
            "xref": "paper",
            "y": 0.95,
            "yref": "paper"
           }
          ]
         },
         "name": "12"
        },
        {
         "data": [
          {
           "name": "Free Nodes",
           "type": "scatter3d",
           "x": {
            "bdata": "AAAAAAAAAAAAAAAAAADwPwAAAAAAAAAAAAAAAAAA8D8AAAAAAAAAQAAAAAAAAABA",
            "dtype": "f8"
           },
           "y": {
            "bdata": "AAAAAAAAAAAAAAAAAAAAAAAAAAAAAPA/AAAAAAAAAAAAAAAAAAAAAAAAAAAAAPA/",
            "dtype": "f8"
           },
           "z": {
            "bdata": "AAAAAAAAAAAAAAAAAAAAAAAAAAAAAAAAqB6F61G4nj+oHoXrUbieP6gehetRuJ4/",
            "dtype": "f8"
           }
          },
          {
           "name": "Fixed Nodes",
           "type": "scatter3d",
           "x": [],
           "y": [],
           "z": []
          },
          {
           "name": "Edges",
           "type": "scatter3d",
           "x": [
            1,
            0,
            null,
            0,
            0,
            null,
            0,
            1,
            null,
            2,
            2,
            null,
            2,
            1,
            null,
            1,
            2,
            null
           ],
           "y": [
            0,
            1,
            null,
            1,
            0,
            null,
            0,
            0,
            null,
            0,
            1,
            null,
            1,
            0,
            null,
            0,
            0,
            null
           ],
           "z": [
            0,
            0,
            null,
            0,
            0,
            null,
            0,
            0,
            null,
            0.029999999999999943,
            0.029999999999999943,
            null,
            0.029999999999999943,
            0.029999999999999943,
            null,
            0.029999999999999943,
            0.029999999999999943,
            null
           ]
          },
          {
           "i": [
            0,
            3
           ],
           "j": [
            1,
            4
           ],
           "k": [
            2,
            5
           ],
           "name": "Faces",
           "type": "mesh3d",
           "x": {
            "bdata": "AAAAAAAAAAAAAAAAAADwPwAAAAAAAAAAAAAAAAAA8D8AAAAAAAAAQAAAAAAAAABA",
            "dtype": "f8"
           },
           "y": {
            "bdata": "AAAAAAAAAAAAAAAAAAAAAAAAAAAAAPA/AAAAAAAAAAAAAAAAAAAAAAAAAAAAAPA/",
            "dtype": "f8"
           },
           "z": {
            "bdata": "AAAAAAAAAAAAAAAAAAAAAAAAAAAAAAAAqB6F61G4nj+oHoXrUbieP6gehetRuJ4/",
            "dtype": "f8"
           }
          }
         ],
         "layout": {
          "annotations": [
           {
            "showarrow": false,
            "text": "Time: 0.13s (Step: 14/100)",
            "x": 0.05,
            "xref": "paper",
            "y": 0.95,
            "yref": "paper"
           }
          ]
         },
         "name": "13"
        },
        {
         "data": [
          {
           "name": "Free Nodes",
           "type": "scatter3d",
           "x": {
            "bdata": "AAAAAAAAAAAAAAAAAADwPwAAAAAAAAAAAAAAAAAA8D8AAAAAAAAAQAAAAAAAAABA",
            "dtype": "f8"
           },
           "y": {
            "bdata": "AAAAAAAAAAAAAAAAAAAAAAAAAAAAAPA/AAAAAAAAAAAAAAAAAAAAAAAAAAAAAPA/",
            "dtype": "f8"
           },
           "z": {
            "bdata": "AAAAAAAAAAAAAAAAAAAAAAAAAAAAAAAAiJmZmZmZmT+ImZmZmZmZP4iZmZmZmZk/",
            "dtype": "f8"
           }
          },
          {
           "name": "Fixed Nodes",
           "type": "scatter3d",
           "x": [],
           "y": [],
           "z": []
          },
          {
           "name": "Edges",
           "type": "scatter3d",
           "x": [
            1,
            0,
            null,
            0,
            0,
            null,
            0,
            1,
            null,
            2,
            2,
            null,
            2,
            1,
            null,
            1,
            2,
            null
           ],
           "y": [
            0,
            1,
            null,
            1,
            0,
            null,
            0,
            0,
            null,
            0,
            1,
            null,
            1,
            0,
            null,
            0,
            0,
            null
           ],
           "z": [
            0,
            0,
            null,
            0,
            0,
            null,
            0,
            0,
            null,
            0.02499999999999994,
            0.02499999999999994,
            null,
            0.02499999999999994,
            0.02499999999999994,
            null,
            0.02499999999999994,
            0.02499999999999994,
            null
           ]
          },
          {
           "i": [
            0,
            3
           ],
           "j": [
            1,
            4
           ],
           "k": [
            2,
            5
           ],
           "name": "Faces",
           "type": "mesh3d",
           "x": {
            "bdata": "AAAAAAAAAAAAAAAAAADwPwAAAAAAAAAAAAAAAAAA8D8AAAAAAAAAQAAAAAAAAABA",
            "dtype": "f8"
           },
           "y": {
            "bdata": "AAAAAAAAAAAAAAAAAAAAAAAAAAAAAPA/AAAAAAAAAAAAAAAAAAAAAAAAAAAAAPA/",
            "dtype": "f8"
           },
           "z": {
            "bdata": "AAAAAAAAAAAAAAAAAAAAAAAAAAAAAAAAiJmZmZmZmT+ImZmZmZmZP4iZmZmZmZk/",
            "dtype": "f8"
           }
          }
         ],
         "layout": {
          "annotations": [
           {
            "showarrow": false,
            "text": "Time: 0.14s (Step: 15/100)",
            "x": 0.05,
            "xref": "paper",
            "y": 0.95,
            "yref": "paper"
           }
          ]
         },
         "name": "14"
        },
        {
         "data": [
          {
           "name": "Free Nodes",
           "type": "scatter3d",
           "x": {
            "bdata": "AAAAAAAAAAAAAAAAAADwPwAAAAAAAAAAAAAAAAAA8D8AAAAAAAAAQAAAAAAAAABA",
            "dtype": "f8"
           },
           "y": {
            "bdata": "AAAAAAAAAAAAAAAAAAAAAAAAAAAAAPA/AAAAAAAAAAAAAAAAAAAAAAAAAAAAAPA/",
            "dtype": "f8"
           },
           "z": {
            "bdata": "AAAAAAAAAAAAAAAAAAAAAAAAAAAAAAAAaBSuR+F6lD9oFK5H4XqUP2gUrkfhepQ/",
            "dtype": "f8"
           }
          },
          {
           "name": "Fixed Nodes",
           "type": "scatter3d",
           "x": [],
           "y": [],
           "z": []
          },
          {
           "name": "Edges",
           "type": "scatter3d",
           "x": [
            1,
            0,
            null,
            0,
            0,
            null,
            0,
            1,
            null,
            2,
            2,
            null,
            2,
            1,
            null,
            1,
            2,
            null
           ],
           "y": [
            0,
            1,
            null,
            1,
            0,
            null,
            0,
            0,
            null,
            0,
            1,
            null,
            1,
            0,
            null,
            0,
            0,
            null
           ],
           "z": [
            0,
            0,
            null,
            0,
            0,
            null,
            0,
            0,
            null,
            0.019999999999999934,
            0.019999999999999934,
            null,
            0.019999999999999934,
            0.019999999999999934,
            null,
            0.019999999999999934,
            0.019999999999999934,
            null
           ]
          },
          {
           "i": [
            0,
            3
           ],
           "j": [
            1,
            4
           ],
           "k": [
            2,
            5
           ],
           "name": "Faces",
           "type": "mesh3d",
           "x": {
            "bdata": "AAAAAAAAAAAAAAAAAADwPwAAAAAAAAAAAAAAAAAA8D8AAAAAAAAAQAAAAAAAAABA",
            "dtype": "f8"
           },
           "y": {
            "bdata": "AAAAAAAAAAAAAAAAAAAAAAAAAAAAAPA/AAAAAAAAAAAAAAAAAAAAAAAAAAAAAPA/",
            "dtype": "f8"
           },
           "z": {
            "bdata": "AAAAAAAAAAAAAAAAAAAAAAAAAAAAAAAAaBSuR+F6lD9oFK5H4XqUP2gUrkfhepQ/",
            "dtype": "f8"
           }
          }
         ],
         "layout": {
          "annotations": [
           {
            "showarrow": false,
            "text": "Time: 0.15s (Step: 16/100)",
            "x": 0.05,
            "xref": "paper",
            "y": 0.95,
            "yref": "paper"
           }
          ]
         },
         "name": "15"
        },
        {
         "data": [
          {
           "name": "Free Nodes",
           "type": "scatter3d",
           "x": {
            "bdata": "AAAAAAAAAAAAAAAAAADwPwAAAAAAAAAAAAAAAAAA8D8AAAAAAAAAQAAAAAAAAABA",
            "dtype": "f8"
           },
           "y": {
            "bdata": "AAAAAAAAAAAAAAAAAAAAAAAAAAAAAPA/AAAAAAAAAAAAAAAAAAAAAAAAAAAAAPA/",
            "dtype": "f8"
           },
           "z": {
            "bdata": "AAAAAAAAAAAAAAAAAAAAAAAAAAAAAAAAkB6F61G4jj+QHoXrUbiOP5AehetRuI4/",
            "dtype": "f8"
           }
          },
          {
           "name": "Fixed Nodes",
           "type": "scatter3d",
           "x": [],
           "y": [],
           "z": []
          },
          {
           "name": "Edges",
           "type": "scatter3d",
           "x": [
            1,
            0,
            null,
            0,
            0,
            null,
            0,
            1,
            null,
            2,
            2,
            null,
            2,
            1,
            null,
            1,
            2,
            null
           ],
           "y": [
            0,
            1,
            null,
            1,
            0,
            null,
            0,
            0,
            null,
            0,
            1,
            null,
            1,
            0,
            null,
            0,
            0,
            null
           ],
           "z": [
            0,
            0,
            null,
            0,
            0,
            null,
            0,
            0,
            null,
            0.01499999999999993,
            0.01499999999999993,
            null,
            0.01499999999999993,
            0.01499999999999993,
            null,
            0.01499999999999993,
            0.01499999999999993,
            null
           ]
          },
          {
           "i": [
            0,
            3
           ],
           "j": [
            1,
            4
           ],
           "k": [
            2,
            5
           ],
           "name": "Faces",
           "type": "mesh3d",
           "x": {
            "bdata": "AAAAAAAAAAAAAAAAAADwPwAAAAAAAAAAAAAAAAAA8D8AAAAAAAAAQAAAAAAAAABA",
            "dtype": "f8"
           },
           "y": {
            "bdata": "AAAAAAAAAAAAAAAAAAAAAAAAAAAAAPA/AAAAAAAAAAAAAAAAAAAAAAAAAAAAAPA/",
            "dtype": "f8"
           },
           "z": {
            "bdata": "AAAAAAAAAAAAAAAAAAAAAAAAAAAAAAAAkB6F61G4jj+QHoXrUbiOP5AehetRuI4/",
            "dtype": "f8"
           }
          }
         ],
         "layout": {
          "annotations": [
           {
            "showarrow": false,
            "text": "Time: 0.16s (Step: 17/100)",
            "x": 0.05,
            "xref": "paper",
            "y": 0.95,
            "yref": "paper"
           }
          ]
         },
         "name": "16"
        },
        {
         "data": [
          {
           "name": "Free Nodes",
           "type": "scatter3d",
           "x": {
            "bdata": "EN9ZnbrRo76xmFj4AADwP9jNefGwcpa+cHQlCvv/7z9cDT2JAAAAQIiVObQAAABA",
            "dtype": "f8"
           },
           "y": {
            "bdata": "aJc6i0Z4eD4QfraQ2RGJvpZsqxkAAPA/2ADkr21Ktr5Q5KuQc22gPnk+O+EAAPA/",
            "dtype": "f8"
           },
           "z": {
            "bdata": "ODFmMORotb44rsXoMgXEPjgpJaGBobK+vgR/jxV6hD9cnxXIZHuEP9aYdX8pe4Q/",
            "dtype": "f8"
           }
          },
          {
           "name": "Fixed Nodes",
           "type": "scatter3d",
           "x": [],
           "y": [],
           "z": []
          },
          {
           "name": "Edges",
           "type": "scatter3d",
           "x": [
            1.000000925161242,
            -3.3450145184925366e-7,
            null,
            -3.3450145184925366e-7,
            -5.906597901469367e-7,
            null,
            -5.906597901469367e-7,
            1.000000925161242,
            null,
            2.000001022506394,
            2.0000013427804255,
            null,
            2.0000013427804255,
            0.9999976347131803,
            null,
            0.9999976347131803,
            2.000001022506394,
            null
           ],
           "y": [
            -1.867840143500659e-7,
            1.0000000956268074,
            null,
            1.0000000956268074,
            9.115720694483027e-8,
            null,
            9.115720694483027e-8,
            -1.867840143500659e-7,
            null,
            4.89578981215737e-7,
            1.0000008390524313,
            null,
            1.0000008390524313,
            -0.0000013286314125005485,
            null,
            -0.0000013286314125005485,
            4.89578981215737e-7,
            null
           ],
           "z": [
            0.000002386606700868225,
            -0.0000011104872369044479,
            null,
            -0.0000011104872369044479,
            -0.0000012761194639636689,
            null,
            -0.0000012761194639636689,
            0.000002386606700868225,
            null,
            0.010000979763119915,
            0.010000538065196112,
            null,
            0.010000538065196112,
            0.00999848217168375,
            null,
            0.00999848217168375,
            0.010000979763119915,
            null
           ]
          },
          {
           "i": [
            0,
            3
           ],
           "j": [
            1,
            4
           ],
           "k": [
            2,
            5
           ],
           "name": "Faces",
           "type": "mesh3d",
           "x": {
            "bdata": "EN9ZnbrRo76xmFj4AADwP9jNefGwcpa+cHQlCvv/7z9cDT2JAAAAQIiVObQAAABA",
            "dtype": "f8"
           },
           "y": {
            "bdata": "aJc6i0Z4eD4QfraQ2RGJvpZsqxkAAPA/2ADkr21Ktr5Q5KuQc22gPnk+O+EAAPA/",
            "dtype": "f8"
           },
           "z": {
            "bdata": "ODFmMORotb44rsXoMgXEPjgpJaGBobK+vgR/jxV6hD9cnxXIZHuEP9aYdX8pe4Q/",
            "dtype": "f8"
           }
          }
         ],
         "layout": {
          "annotations": [
           {
            "showarrow": false,
            "text": "Time: 0.17s (Step: 18/100)",
            "x": 0.05,
            "xref": "paper",
            "y": 0.95,
            "yref": "paper"
           }
          ]
         },
         "name": "17"
        },
        {
         "data": [
          {
           "name": "Free Nodes",
           "type": "scatter3d",
           "x": {
            "bdata": "AJ2aJGh5cT5jT40VAADwP2DNesNbg4O+R+Fe8v//7z87f6T/////PxEIlgMAAABA",
            "dtype": "f8"
           },
           "y": {
            "bdata": "AIdDUE7Hcr7g6SDznRODPtMkQNn//+8/ACzP6emqRL4A2CI7xCVFPmxJ4f///+8/",
            "dtype": "f8"
           },
           "z": {
            "bdata": "MDcyt78Pxr4tPHF2TSHUPjQ/sDXbMsK+G7DQnrB3dD/or5x2z3x0P13cnMEjfHQ/",
            "dtype": "f8"
           }
          },
          {
           "name": "Fixed Nodes",
           "type": "scatter3d",
           "x": [],
           "y": [],
           "z": []
          },
          {
           "name": "Edges",
           "type": "scatter3d",
           "x": [
            1.000000080287429,
            -1.4538406544404138e-7,
            null,
            -1.4538406544404138e-7,
            6.509663665975787e-8,
            null,
            6.509663665975787e-8,
            1.000000080287429,
            null,
            1.999999998668456,
            2.0000000267182334,
            null,
            2.0000000267182334,
            0.9999999746133107,
            null,
            0.9999999746133107,
            1.999999998668456,
            null
           ],
           "y": [
            1.421319609245269e-7,
            0.9999999278235471,
            null,
            0.9999999278235471,
            -6.995550811156963e-8,
            null,
            -6.995550811156963e-8,
            1.421319609245269e-7,
            null,
            9.847583946512539e-9,
            0.9999999997765321,
            null,
            0.9999999997765321,
            -9.62411599884264e-9,
            null,
            -9.62411599884264e-9,
            9.847583946512539e-9,
            null
           ],
           "z": [
            0.000004799387034528372,
            -0.0000021694490164383098,
            null,
            -0.0000021694490164383098,
            -0.0000026299380180898495,
            null,
            -0.0000026299380180898495,
            0.000004799387034528372,
            null,
            0.005001840976358786,
            0.005001201317830964,
            null,
            0.005001201317830964,
            0.0049969577058100135,
            null,
            0.0049969577058100135,
            0.005001840976358786,
            null
           ]
          },
          {
           "i": [
            0,
            3
           ],
           "j": [
            1,
            4
           ],
           "k": [
            2,
            5
           ],
           "name": "Faces",
           "type": "mesh3d",
           "x": {
            "bdata": "AJ2aJGh5cT5jT40VAADwP2DNesNbg4O+R+Fe8v//7z87f6T/////PxEIlgMAAABA",
            "dtype": "f8"
           },
           "y": {
            "bdata": "AIdDUE7Hcr7g6SDznRODPtMkQNn//+8/ACzP6emqRL4A2CI7xCVFPmxJ4f///+8/",
            "dtype": "f8"
           },
           "z": {
            "bdata": "MDcyt78Pxr4tPHF2TSHUPjQ/sDXbMsK+G7DQnrB3dD/or5x2z3x0P13cnMEjfHQ/",
            "dtype": "f8"
           }
          }
         ],
         "layout": {
          "annotations": [
           {
            "showarrow": false,
            "text": "Time: 0.18s (Step: 19/100)",
            "x": 0.05,
            "xref": "paper",
            "y": 0.95,
            "yref": "paper"
           }
          ]
         },
         "name": "18"
        },
        {
         "data": [
          {
           "name": "Free Nodes",
           "type": "scatter3d",
           "x": {
            "bdata": "oMIpNtNrrD7t32GTAQDwP9BG7swDtsO+2MPKDv3/7z+pTaMmAgAAQMMCVCv9//8/",
            "dtype": "f8"
           },
           "y": {
            "bdata": "ikOizQaL7b6ECeERSmrBvgypzPIQAPA/wEfhUQUGxz7cck2M39nmvusbL4wIAPA/",
            "dtype": "f8"
           },
           "z": {
            "bdata": "kv31Byca/b6Aw/s6rEblPgAaeOrQdvI+AGJ+i3EF1b4AgHO7wBebPn23wn/1U9M+",
            "dtype": "f8"
           }
          },
          {
           "name": "Fixed Nodes",
           "type": "scatter3d",
           "x": [],
           "y": [],
           "z": []
          },
          {
           "name": "Edges",
           "type": "scatter3d",
           "x": [
            1.0000015027162548,
            -0.0000023497337688437484,
            null,
            -0.0000023497337688437484,
            8.470175141950271e-7,
            null,
            8.470175141950271e-7,
            1.0000015027162548,
            null,
            2.0000041025720816,
            1.9999973003870515,
            null,
            1.9999973003870515,
            0.9999985970408671,
            null,
            0.9999985970408671,
            2.0000041025720816,
            null
           ],
           "y": [
            -0.0000020760527510720653,
            1.0000161632875146,
            null,
            1.0000161632875146,
            -0.00001408723476384475,
            null,
            -0.00001408723476384475,
            -0.0000020760527510720653,
            null,
            -0.00001089623800403768,
            1.0000081516207,
            null,
            1.0000081516207,
            0.0000027446173041312325,
            null,
            0.0000027446173041312325,
            -0.00001089623800403768,
            null
           ],
           "z": [
            0.000010145218623831961,
            0.000017608762076926424,
            null,
            0.000017608762076926424,
            -0.000027753980700759963,
            null,
            -0.000027753980700759963,
            0.000010145218623831961,
            null,
            4.037139506706672e-7,
            0.0000046081458970180095,
            null,
            0.0000046081458970180095,
            -0.000005011859847935552,
            null,
            -0.000005011859847935552,
            4.037139506706672e-7,
            null
           ]
          },
          {
           "i": [
            0,
            3
           ],
           "j": [
            1,
            4
           ],
           "k": [
            2,
            5
           ],
           "name": "Faces",
           "type": "mesh3d",
           "x": {
            "bdata": "oMIpNtNrrD7t32GTAQDwP9BG7swDtsO+2MPKDv3/7z+pTaMmAgAAQMMCVCv9//8/",
            "dtype": "f8"
           },
           "y": {
            "bdata": "ikOizQaL7b6ECeERSmrBvgypzPIQAPA/wEfhUQUGxz7cck2M39nmvusbL4wIAPA/",
            "dtype": "f8"
           },
           "z": {
            "bdata": "kv31Byca/b6Aw/s6rEblPgAaeOrQdvI+AGJ+i3EF1b4AgHO7wBebPn23wn/1U9M+",
            "dtype": "f8"
           }
          }
         ],
         "layout": {
          "annotations": [
           {
            "showarrow": false,
            "text": "Time: 0.19s (Step: 20/100)",
            "x": 0.05,
            "xref": "paper",
            "y": 0.95,
            "yref": "paper"
           }
          ]
         },
         "name": "19"
        },
        {
         "data": [
          {
           "name": "Free Nodes",
           "type": "scatter3d",
           "x": {
            "bdata": "gPJPzoy9x75nvjONAQDwPwA4N7bdp7Y+iXAyK+v/7z/rHbPYAwAAQPNFgFwBAABA",
            "dtype": "f8"
           },
           "y": {
            "bdata": "oNUiwpwryr5AxrWm0Ry6Ptd9pqMBAPA/QDBZEigfyb4ANkOcBuO2PoiYtLUBAPA/",
            "dtype": "f8"
           },
           "z": {
            "bdata": "WGCFmU9+CL8ABbC+5BDqPgBd2WkW+gE/XuaQLF1edL/BZXIaXJN0v3vyBpDqfnS/",
            "dtype": "f8"
           }
          },
          {
           "name": "Fixed Nodes",
           "type": "scatter3d",
           "x": [],
           "y": [],
           "z": []
          },
          {
           "name": "Edges",
           "type": "scatter3d",
           "x": [
            1.0000014796932193,
            0.0000013503865482380854,
            null,
            0.0000013503865482380854,
            -0.000002830079767422646,
            null,
            -0.000002830079767422646,
            1.0000014796932193,
            null,
            2.0000073365842943,
            2.0000025965352903,
            null,
            2.0000025965352903,
            0.9999900668804155,
            null,
            0.9999900668804155,
            2.0000073365842943,
            null
           ],
           "y": [
            0.0000015564306988482326,
            1.0000015633194062,
            null,
            1.0000015633194062,
            -0.0000031197501054412567,
            null,
            -0.0000031197501054412567,
            0.0000015564306988482326,
            null,
            0.0000013641607532923058,
            1.0000016305798756,
            null,
            1.0000016305798756,
            -0.000002994740628625383,
            null,
            -0.000002994740628625383,
            0.0000013641607532923058,
            null
           ],
           "z": [
            0.000012429232773671865,
            0.000034288224224960154,
            null,
            0.000034288224224960154,
            -0.00004671745699863565,
            null,
            -0.00004671745699863565,
            0.000012429232773671865,
            null,
            -0.005023345736071717,
            -0.0050038492776677225,
            null,
            -0.0050038492776677225,
            -0.004972804986260819,
            null,
            -0.004972804986260819,
            -0.005023345736071717,
            null
           ]
          },
          {
           "i": [
            0,
            3
           ],
           "j": [
            1,
            4
           ],
           "k": [
            2,
            5
           ],
           "name": "Faces",
           "type": "mesh3d",
           "x": {
            "bdata": "gPJPzoy9x75nvjONAQDwPwA4N7bdp7Y+iXAyK+v/7z/rHbPYAwAAQPNFgFwBAABA",
            "dtype": "f8"
           },
           "y": {
            "bdata": "oNUiwpwryr5AxrWm0Ry6Ptd9pqMBAPA/QDBZEigfyb4ANkOcBuO2PoiYtLUBAPA/",
            "dtype": "f8"
           },
           "z": {
            "bdata": "WGCFmU9+CL8ABbC+5BDqPgBd2WkW+gE/XuaQLF1edL/BZXIaXJN0v3vyBpDqfnS/",
            "dtype": "f8"
           }
          }
         ],
         "layout": {
          "annotations": [
           {
            "showarrow": false,
            "text": "Time: 0.20s (Step: 21/100)",
            "x": 0.05,
            "xref": "paper",
            "y": 0.95,
            "yref": "paper"
           }
          ]
         },
         "name": "20"
        },
        {
         "data": [
          {
           "name": "Free Nodes",
           "type": "scatter3d",
           "x": {
            "bdata": "AFQdYZxjZT6z7wEfAADwPwD6nvHe2YS+sVOaHgAA8D+nBvofAAAAQAGfcaH///8/",
            "dtype": "f8"
           },
           "y": {
            "bdata": "AJkv8LmScb4ABONYyWOOPndOlqn//+8/QO5oHoRSoL4wrq2VHEaVPp6uey0AAPA/",
            "dtype": "f8"
           },
           "z": {
            "bdata": "Qo3FpfBOEb9YCoWv0LnvPqbUqR9trwo/zSt4sLtbhL9FsTERk5OEv/lgYBVVgYS/",
            "dtype": "f8"
           }
          },
          {
           "name": "Fixed Nodes",
           "type": "scatter3d",
           "x": [],
           "y": [],
           "z": []
          },
          {
           "name": "Edges",
           "type": "scatter3d",
           "x": [
            1.0000001155121765,
            -1.5535248892684192e-7,
            null,
            -1.5535248892684192e-7,
            3.9840312506207785e-8,
            null,
            3.9840312506207785e-8,
            1.0000001155121765,
            null,
            2.0000002382447124,
            1.9999996477508264,
            null,
            1.9999996477508264,
            1.0000001140044612,
            null,
            1.0000001140044612,
            2.0000002382447124,
            null
           ],
           "y": [
            2.2642158765097333e-7,
            0.9999998390434958,
            null,
            0.9999998390434958,
            -6.546508406167292e-8,
            null,
            -6.546508406167292e-8,
            2.2642158765097333e-7,
            null,
            3.1700542073881545e-7,
            1.0000001694378748,
            null,
            1.0000001694378748,
            -4.864432952620586e-7,
            null,
            -4.864432952620586e-7,
            3.1700542073881545e-7,
            null
           ],
           "z": [
            0.000015128059644657955,
            0.000050898091974818386,
            null,
            0.000050898091974818386,
            -0.00006602615161948203,
            null,
            -0.00006602615161948203,
            0.000015128059644657955,
            null,
            -0.010047100984785682,
            -0.010012306895120992,
            null,
            -0.010012306895120992,
            -0.009940592120093595,
            null,
            -0.009940592120093595,
            -0.010047100984785682,
            null
           ]
          },
          {
           "i": [
            0,
            3
           ],
           "j": [
            1,
            4
           ],
           "k": [
            2,
            5
           ],
           "name": "Faces",
           "type": "mesh3d",
           "x": {
            "bdata": "AFQdYZxjZT6z7wEfAADwPwD6nvHe2YS+sVOaHgAA8D+nBvofAAAAQAGfcaH///8/",
            "dtype": "f8"
           },
           "y": {
            "bdata": "AJkv8LmScb4ABONYyWOOPndOlqn//+8/QO5oHoRSoL4wrq2VHEaVPp6uey0AAPA/",
            "dtype": "f8"
           },
           "z": {
            "bdata": "Qo3FpfBOEb9YCoWv0LnvPqbUqR9trwo/zSt4sLtbhL9FsTERk5OEv/lgYBVVgYS/",
            "dtype": "f8"
           }
          }
         ],
         "layout": {
          "annotations": [
           {
            "showarrow": false,
            "text": "Time: 0.21s (Step: 22/100)",
            "x": 0.05,
            "xref": "paper",
            "y": 0.95,
            "yref": "paper"
           }
          ]
         },
         "name": "21"
        },
        {
         "data": [
          {
           "name": "Free Nodes",
           "type": "scatter3d",
           "x": {
            "bdata": "0siYp4lPvr8y/GR2h6/iP+wcjr5pGuE/+iEsDfrq+D/4t0M7ujz7Px0mkLdL2Ps/",
            "dtype": "f8"
           },
           "y": {
            "bdata": "VEjO6Iox0z/enEB2axTLPzRpEVw/RN8/fFrAczRu3j9ASntFObW8vzs8z+6MX+Q/",
            "dtype": "f8"
           },
           "z": {
            "bdata": "sIOhPpMtgb8CqBaIpRDovxkuEdVbVeg/ZV1nIFCy5z80WZaY3t+wv6zPXiT4Bue/",
            "dtype": "f8"
           }
          },
          {
           "name": "Fixed Nodes",
           "type": "scatter3d",
           "x": [],
           "y": [],
           "z": []
          },
          {
           "name": "Edges",
           "type": "scatter3d",
           "x": [
            0.5839268982307486,
            0.5344742509631977,
            null,
            0.5344742509631977,
            -0.11840114919394587,
            null,
            -0.11840114919394587,
            0.5839268982307486,
            null,
            1.702326041700415,
            1.7403065843994974,
            null,
            1.7403065843994974,
            1.557367373900091,
            null,
            1.557367373900091,
            1.702326041700415,
            null
           ],
           "y": [
            0.21156066202204377,
            0.48854049674050093,
            null,
            0.48854049674050093,
            0.2998988412374548,
            null,
            0.2998988412374548,
            0.21156066202204377,
            null,
            -0.11214025446251075,
            0.636663881707029,
            null,
            0.636663881707029,
            0.47547637275548715,
            null,
            0.47547637275548715,
            -0.11214025446251075,
            null
           ],
           "z": [
            -0.75203205661569,
            0.7604197656123147,
            null,
            0.7604197656123147,
            -0.00838770899662386,
            null,
            -0.00838770899662386,
            -0.75203205661569,
            null,
            -0.06591597771907659,
            -0.7196007452353022,
            null,
            -0.7196007452353022,
            0.7405167229543791,
            null,
            0.7405167229543791,
            -0.06591597771907659,
            null
           ]
          },
          {
           "i": [
            0,
            3
           ],
           "j": [
            1,
            4
           ],
           "k": [
            2,
            5
           ],
           "name": "Faces",
           "type": "mesh3d",
           "x": {
            "bdata": "0siYp4lPvr8y/GR2h6/iP+wcjr5pGuE/+iEsDfrq+D/4t0M7ujz7Px0mkLdL2Ps/",
            "dtype": "f8"
           },
           "y": {
            "bdata": "VEjO6Iox0z/enEB2axTLPzRpEVw/RN8/fFrAczRu3j9ASntFObW8vzs8z+6MX+Q/",
            "dtype": "f8"
           },
           "z": {
            "bdata": "sIOhPpMtgb8CqBaIpRDovxkuEdVbVeg/ZV1nIFCy5z80WZaY3t+wv6zPXiT4Bue/",
            "dtype": "f8"
           }
          }
         ],
         "layout": {
          "annotations": [
           {
            "showarrow": false,
            "text": "Time: 0.22s (Step: 23/100)",
            "x": 0.05,
            "xref": "paper",
            "y": 0.95,
            "yref": "paper"
           }
          ]
         },
         "name": "22"
        },
        {
         "data": [
          {
           "name": "Free Nodes",
           "type": "scatter3d",
           "x": {
            "bdata": "o9lKvy/ls78lPiNXec/XPym8V0zplOY/pGcqqwkj/j+7lPueec73P78D2rV8Dvo/",
            "dtype": "f8"
           },
           "y": {
            "bdata": "bcUs11rH4D9OPWye0pLUP6VvdGbvvMM/tsDOUbTz5D8T5/hv3Nu2vxi5YHiOz9s/",
            "dtype": "f8"
           },
           "z": {
            "bdata": "9VzK83klvz8zqcIaZu3nv6ZdSdy2COQ/YtWC/5jn4z8Nl+V4fhe0PybaV+0NVui/",
            "dtype": "f8"
           }
          },
          {
           "name": "Fixed Nodes",
           "type": "scatter3d",
           "x": [],
           "y": [],
           "z": []
          },
          {
           "name": "Edges",
           "type": "scatter3d",
           "x": [
            0.37203820714509767,
            0.7056776515072488,
            null,
            0.7056776515072488,
            -0.07771585865234569,
            null,
            -0.07771585865234569,
            0.37203820714509767,
            null,
            1.4879089555991374,
            1.6285369018153089,
            null,
            1.6285369018153089,
            1.8835541425855604,
            null,
            1.8835541425855604,
            1.4879089555991374,
            null
           ],
           "y": [
            0.321461348256851,
            0.15420334341695,
            null,
            0.15420334341695,
            0.5243353083261987,
            null,
            0.5243353083261987,
            0.321461348256851,
            null,
            -0.08929231389711516,
            0.4345432448925677,
            null,
            0.4345432448925677,
            0.6547490690045581,
            null,
            0.6547490690045581,
            -0.08929231389711516,
            null
           ],
           "z": [
            -0.7477293512977553,
            0.6260637571785324,
            null,
            0.6260637571785324,
            0.12166559411922491,
            null,
            0.12166559411922491,
            -0.7477293512977553,
            null,
            0.07848349048216736,
            -0.7605046878441655,
            null,
            -0.7605046878441655,
            0.6220211973619991,
            null,
            0.6220211973619991,
            0.07848349048216736,
            null
           ]
          },
          {
           "i": [
            0,
            3
           ],
           "j": [
            1,
            4
           ],
           "k": [
            2,
            5
           ],
           "name": "Faces",
           "type": "mesh3d",
           "x": {
            "bdata": "o9lKvy/ls78lPiNXec/XPym8V0zplOY/pGcqqwkj/j+7lPueec73P78D2rV8Dvo/",
            "dtype": "f8"
           },
           "y": {
            "bdata": "bcUs11rH4D9OPWye0pLUP6VvdGbvvMM/tsDOUbTz5D8T5/hv3Nu2vxi5YHiOz9s/",
            "dtype": "f8"
           },
           "z": {
            "bdata": "9VzK83klvz8zqcIaZu3nv6ZdSdy2COQ/YtWC/5jn4z8Nl+V4fhe0PybaV+0NVui/",
            "dtype": "f8"
           }
          }
         ],
         "layout": {
          "annotations": [
           {
            "showarrow": false,
            "text": "Time: 0.23s (Step: 24/100)",
            "x": 0.05,
            "xref": "paper",
            "y": 0.95,
            "yref": "paper"
           }
          ]
         },
         "name": "23"
        },
        {
         "data": [
          {
           "name": "Free Nodes",
           "type": "scatter3d",
           "x": {
            "bdata": "bRmq02dSsz8YahcE2WTEP1fihMR8fOg/MYTfwEq7AEBND3ztQDP2P3/oxJApVvg/",
            "dtype": "f8"
           },
           "y": {
            "bdata": "cnxfkHM55D+C1IXQMNnbP501E8VfMLG/iCgn9igV5z/mt1pSzh6nPyCyzJKo480/",
            "dtype": "f8"
           },
           "z": {
            "bdata": "BWkGnXOf0D8gz+er2vTmv3A1ybpBSt0/pTnenZ/J3D8/hGSApLXMPzqkblWf+Oe/",
            "dtype": "f8"
           }
          },
          {
           "name": "Fixed Nodes",
           "type": "scatter3d",
           "x": [],
           "y": [],
           "z": []
          },
          {
           "name": "Edges",
           "type": "scatter3d",
           "x": [
            0.15932762813356827,
            0.7651962126029258,
            null,
            0.7651962126029258,
            0.0754761592635071,
            null,
            0.0754761592635071,
            0.15932762813356827,
            null,
            1.387513091730358,
            1.521035733704167,
            null,
            1.521035733704167,
            2.0914511745654853,
            null,
            2.0914511745654853,
            1.387513091730358,
            null
           ],
           "y": [
            0.4351312672000135,
            -0.06714438020136133,
            null,
            -0.06714438020136133,
            0.6320131130013478,
            null,
            0.6320131130013478,
            0.4351312672000135,
            null,
            0.045156905701659686,
            0.23351008575390697,
            null,
            0.23351008575390697,
            0.7213330085444492,
            null,
            0.7213330085444492,
            0.045156905701659686,
            null
           ],
           "z": [
            -0.7173894269494419,
            0.4576572727281336,
            null,
            0.4576572727281336,
            0.2597321542213112,
            null,
            0.2597321542213112,
            -0.7173894269494419,
            null,
            0.2242932917515947,
            -0.7490994137380149,
            null,
            -0.7490994137380149,
            0.44980612198642184,
            null,
            0.44980612198642184,
            0.2242932917515947,
            null
           ]
          },
          {
           "i": [
            0,
            3
           ],
           "j": [
            1,
            4
           ],
           "k": [
            2,
            5
           ],
           "name": "Faces",
           "type": "mesh3d",
           "x": {
            "bdata": "bRmq02dSsz8YahcE2WTEP1fihMR8fOg/MYTfwEq7AEBND3ztQDP2P3/oxJApVvg/",
            "dtype": "f8"
           },
           "y": {
            "bdata": "cnxfkHM55D+C1IXQMNnbP501E8VfMLG/iCgn9igV5z/mt1pSzh6nPyCyzJKo480/",
            "dtype": "f8"
           },
           "z": {
            "bdata": "BWkGnXOf0D8gz+er2vTmv3A1ybpBSt0/pTnenZ/J3D8/hGSApLXMPzqkblWf+Oe/",
            "dtype": "f8"
           }
          }
         ],
         "layout": {
          "annotations": [
           {
            "showarrow": false,
            "text": "Time: 0.24s (Step: 25/100)",
            "x": 0.05,
            "xref": "paper",
            "y": 0.95,
            "yref": "paper"
           }
          ]
         },
         "name": "24"
        },
        {
         "data": [
          {
           "name": "Free Nodes",
           "type": "scatter3d",
           "x": {
            "bdata": "GSLaV0J10D8slXWP1ICav6ubjnhlmeg/pw5izlS9AUDdkuAlAtH1PxNQWz1UtPY/",
            "dtype": "f8"
           },
           "y": {
            "bdata": "e1ziGZkC5T+LrkRs6nXhPxMsnBgO4sm/oEOTzfCL5z9wUlaEw4nLPw2IchXlGak/",
            "dtype": "f8"
           },
           "z": {
            "bdata": "MKNjTb961T+GLR5+58TjvyK42K4PD9I/r6Kf1QxY0T/LNVKoY/nTPwpnDe3/ieW/",
            "dtype": "f8"
           }
          },
          {
           "name": "Fixed Nodes",
           "type": "scatter3d",
           "x": [],
           "y": [],
           "z": []
          },
          {
           "name": "Edges",
           "type": "scatter3d",
           "x": [
            -0.025882073646603818,
            0.7687251429205068,
            null,
            0.7687251429205068,
            0.25715693072609863,
            null,
            0.25715693072609863,
            -0.025882073646603818,
            null,
            1.363527439077351,
            1.4190256497140623,
            null,
            1.4190256497140623,
            2.2174469112086004,
            null,
            2.2174469112086004,
            1.363527439077351,
            null
           ],
           "y": [
            0.5456440081229216,
            -0.20221115304625012,
            null,
            -0.20221115304625012,
            0.6565671449233287,
            null,
            0.6565671449233287,
            0.5456440081229216,
            null,
            0.21514171563889617,
            0.04902568709191266,
            null,
            0.04902568709191266,
            0.7358325972692121,
            null,
            0.7358325972692121,
            0.21514171563889617,
            null
           ],
           "z": [
            -0.6177861655464063,
            0.2821692664609846,
            null,
            0.2821692664609846,
            0.3356168990854256,
            null,
            0.3356168990854256,
            -0.6177861655464063,
            null,
            0.3120965141068523,
            -0.6730956678322582,
            null,
            -0.6730956678322582,
            0.2709991537254081,
            null,
            0.2709991537254081,
            0.3120965141068523,
            null
           ]
          },
          {
           "i": [
            0,
            3
           ],
           "j": [
            1,
            4
           ],
           "k": [
            2,
            5
           ],
           "name": "Faces",
           "type": "mesh3d",
           "x": {
            "bdata": "GSLaV0J10D8slXWP1ICav6ubjnhlmeg/pw5izlS9AUDdkuAlAtH1PxNQWz1UtPY/",
            "dtype": "f8"
           },
           "y": {
            "bdata": "e1ziGZkC5T+LrkRs6nXhPxMsnBgO4sm/oEOTzfCL5z9wUlaEw4nLPw2IchXlGak/",
            "dtype": "f8"
           },
           "z": {
            "bdata": "MKNjTb961T+GLR5+58TjvyK42K4PD9I/r6Kf1QxY0T/LNVKoY/nTPwpnDe3/ieW/",
            "dtype": "f8"
           }
          }
         ],
         "layout": {
          "annotations": [
           {
            "showarrow": false,
            "text": "Time: 0.25s (Step: 26/100)",
            "x": 0.05,
            "xref": "paper",
            "y": 0.95,
            "yref": "paper"
           }
          ]
         },
         "name": "25"
        },
        {
         "data": [
          {
           "name": "Free Nodes",
           "type": "scatter3d",
           "x": {
            "bdata": "recuJ/7g2j8icLjHIfDEv0SoVl6Jy+c/sdvmMIdNAkCR4gjQjBr2P1tmKc5kSvU/",
            "dtype": "f8"
           },
           "y": {
            "bdata": "Op32CpVd5D9uKL/YIZLkP0uLa8dt39G/YTQyMLMp5z/GSf5u2wrYP8bCij0Hebm/",
            "dtype": "f8"
           },
           "z": {
            "bdata": "eu1APvh51j+QwHoMdYzdv7RN5zjzSbw/2QYwWXHRuD90d4EsyavVP9dLKbc7TOG/",
            "dtype": "f8"
           }
          },
          {
           "name": "Fixed Nodes",
           "type": "scatter3d",
           "x": [],
           "y": [],
           "z": []
          },
          {
           "name": "Edges",
           "type": "scatter3d",
           "x": [
            -0.16357824565864215,
            0.7435957758473326,
            null,
            0.7435957758473326,
            0.41998246981131154,
            null,
            0.41998246981131154,
            -0.16357824565864215,
            null,
            1.381481945643973,
            1.3306625416938889,
            null,
            1.3306625416938889,
            2.2878555126621554,
            null,
            2.2878555126621554,
            1.381481945643973,
            null
           ],
           "y": [
            0.6428384049734299,
            -0.2792620131933076,
            null,
            -0.2792620131933076,
            0.636423608219878,
            null,
            0.636423608219878,
            0.6428384049734299,
            null,
            0.37566266860190145,
            -0.09950299503794743,
            null,
            -0.09950299503794743,
            0.7238403264360721,
            null,
            0.7238403264360721,
            0.37566266860190145,
            null
           ],
           "z": [
            -0.46169782847119567,
            0.1105033887791283,
            null,
            0.1105033887791283,
            0.3511944396920722,
            null,
            0.3511944396920722,
            -0.46169782847119567,
            null,
            0.3386099753023395,
            -0.540555818306866,
            null,
            -0.540555818306866,
            0.09694584300452948,
            null,
            0.09694584300452948,
            0.3386099753023395,
            null
           ]
          },
          {
           "i": [
            0,
            3
           ],
           "j": [
            1,
            4
           ],
           "k": [
            2,
            5
           ],
           "name": "Faces",
           "type": "mesh3d",
           "x": {
            "bdata": "recuJ/7g2j8icLjHIfDEv0SoVl6Jy+c/sdvmMIdNAkCR4gjQjBr2P1tmKc5kSvU/",
            "dtype": "f8"
           },
           "y": {
            "bdata": "Op32CpVd5D9uKL/YIZLkP0uLa8dt39G/YTQyMLMp5z/GSf5u2wrYP8bCij0Hebm/",
            "dtype": "f8"
           },
           "z": {
            "bdata": "eu1APvh51j+QwHoMdYzdv7RN5zjzSbw/2QYwWXHRuD90d4EsyavVP9dLKbc7TOG/",
            "dtype": "f8"
           }
          }
         ],
         "layout": {
          "annotations": [
           {
            "showarrow": false,
            "text": "Time: 0.26s (Step: 27/100)",
            "x": 0.05,
            "xref": "paper",
            "y": 0.95,
            "yref": "paper"
           }
          ]
         },
         "name": "26"
        },
        {
         "data": [
          {
           "name": "Free Nodes",
           "type": "scatter3d",
           "x": {
            "bdata": "ZMAV9zeD4T+xzBzwt27Pv95y8QR2WOY/XdobJQqMAkDVFW8nxKv2P881WY4nPPQ/",
            "dtype": "f8"
           },
           "y": {
            "bdata": "wjDBmhIi4z9t7IHeaO3mP1c6hvL2HtS/c5CrbPk05j9S78J6ODjgP676uZ3HtMm/",
            "dtype": "f8"
           },
           "z": {
            "bdata": "6Ncdf07p1D+dmdGUs2jRvxrvYVLXBKy/kc5/bXAPsr/YrgJ5aYXUP6EChNihr9e/",
            "dtype": "f8"
           }
          },
          {
           "name": "Fixed Nodes",
           "type": "scatter3d",
           "x": [],
           "y": [],
           "z": []
          },
          {
           "name": "Edges",
           "type": "scatter3d",
           "x": [
            -0.24556636070483287,
            0.6982984634920191,
            null,
            0.6982984634920191,
            0.5472678972128162,
            null,
            0.5472678972128162,
            -0.24556636070483287,
            null,
            1.4169351139438409,
            1.2646861610877413,
            null,
            1.2646861610877413,
            2.3183787249684387,
            null,
            2.3183787249684387,
            1.4169351139438409,
            null
           ],
           "y": [
            0.7164806695794944,
            -0.31438993152634026,
            null,
            -0.31438993152634026,
            0.5979092619468462,
            null,
            0.5979092619468462,
            0.7164806695794944,
            null,
            0.5068628690419053,
            -0.20082946015823694,
            null,
            -0.20082946015823694,
            0.6939665911163629,
            null,
            0.6939665911163629,
            0.5068628690419053,
            null
           ],
           "z": [
            -0.27201547177392077,
            -0.05472443466802997,
            null,
            -0.05472443466802997,
            0.3267399064419565,
            null,
            0.3267399064419565,
            -0.27201547177392077,
            null,
            0.32064282243184783,
            -0.37009473938091203,
            null,
            -0.37009473938091203,
            -0.0705480830509322,
            null,
            -0.0705480830509322,
            0.32064282243184783,
            null
           ]
          },
          {
           "i": [
            0,
            3
           ],
           "j": [
            1,
            4
           ],
           "k": [
            2,
            5
           ],
           "name": "Faces",
           "type": "mesh3d",
           "x": {
            "bdata": "ZMAV9zeD4T+xzBzwt27Pv95y8QR2WOY/XdobJQqMAkDVFW8nxKv2P881WY4nPPQ/",
            "dtype": "f8"
           },
           "y": {
            "bdata": "wjDBmhIi4z9t7IHeaO3mP1c6hvL2HtS/c5CrbPk05j9S78J6ODjgP676uZ3HtMm/",
            "dtype": "f8"
           },
           "z": {
            "bdata": "6Ncdf07p1D+dmdGUs2jRvxrvYVLXBKy/kc5/bXAPsr/YrgJ5aYXUP6EChNihr9e/",
            "dtype": "f8"
           }
          }
         ],
         "layout": {
          "annotations": [
           {
            "showarrow": false,
            "text": "Time: 0.27s (Step: 28/100)",
            "x": 0.05,
            "xref": "paper",
            "y": 0.95,
            "yref": "paper"
           }
          ]
         },
         "name": "27"
        },
        {
         "data": [
          {
           "name": "Free Nodes",
           "type": "scatter3d",
           "x": {
            "bdata": "cZaVsOV15D+RMztXFobRv3EDCHslTeQ/RASxoyWJAkDVkDmn6Uv3PxFnZBHLofM/",
            "dtype": "f8"
           },
           "y": {
            "bdata": "NDb81I7E4T9SKsBJOVPoPwPBeD2QL9S/Wf7PN9O35D98mbv+wF/jPxktF20oL9C/",
            "dtype": "f8"
           },
           "z": {
            "bdata": "1YJKhrAK0j9hIcF5NFSyvwl0tM9G68q/+htPSf9qzb9l0LXjT8LRP35ll5JOYce/",
            "dtype": "f8"
           }
          },
          {
           "name": "Fixed Nodes",
           "type": "scatter3d",
           "x": [],
           "y": [],
           "z": []
          },
          {
           "name": "Edges",
           "type": "scatter3d",
           "x": [
            -0.2738090373866778,
            0.6344172862010123,
            null,
            0.6344172862010123,
            0.6393917511856683,
            null,
            0.6393917511856683,
            -0.2738090373866778,
            null,
            1.4560333759518944,
            1.2270003013022157,
            null,
            1.2270003013022157,
            2.3169663227459143,
            null,
            2.3169663227459143,
            1.4560333759518944,
            null
           ],
           "y": [
            0.7601591530268001,
            -0.315403041869118,
            null,
            -0.315403041869118,
            0.5552438888423183,
            null,
            0.5552438888423183,
            0.7601591530268001,
            null,
            0.6054387068987093,
            -0.2528782906853891,
            null,
            -0.2528782906853891,
            0.6474395837867163,
            null,
            0.6474395837867163,
            0.6054387068987093,
            null
           ],
           "z": [
            -0.07159736607093727,
            -0.2103050722297726,
            null,
            -0.2103050722297726,
            0.28190243830071654,
            null,
            0.28190243830071654,
            -0.07159736607093727,
            null,
            0.2774848674519091,
            -0.18265707166464645,
            null,
            -0.18265707166464645,
            -0.22982779578725837,
            null,
            -0.22982779578725837,
            0.2774848674519091,
            null
           ]
          },
          {
           "i": [
            0,
            3
           ],
           "j": [
            1,
            4
           ],
           "k": [
            2,
            5
           ],
           "name": "Faces",
           "type": "mesh3d",
           "x": {
            "bdata": "cZaVsOV15D+RMztXFobRv3EDCHslTeQ/RASxoyWJAkDVkDmn6Uv3PxFnZBHLofM/",
            "dtype": "f8"
           },
           "y": {
            "bdata": "NDb81I7E4T9SKsBJOVPoPwPBeD2QL9S/Wf7PN9O35D98mbv+wF/jPxktF20oL9C/",
            "dtype": "f8"
           },
           "z": {
            "bdata": "1YJKhrAK0j9hIcF5NFSyvwl0tM9G68q/+htPSf9qzb9l0LXjT8LRP35ll5JOYce/",
            "dtype": "f8"
           }
          }
         ],
         "layout": {
          "annotations": [
           {
            "showarrow": false,
            "text": "Time: 0.28s (Step: 29/100)",
            "x": 0.05,
            "xref": "paper",
            "y": 0.95,
            "yref": "paper"
           }
          ]
         },
         "name": "28"
        },
        {
         "data": [
          {
           "name": "Free Nodes",
           "type": "scatter3d",
           "x": {
            "bdata": "1AuOvTqC5j+wUsLa4G7Qv6Ed0681teE/+IISJntNAkBOlpy7++P3P0BkPvgNgfM/",
            "dtype": "f8"
           },
           "y": {
            "bdata": "0aZ6xJhx4D+kxCsvkbnoP+DWTOdTVtK/JGQIQLyz4j9Uq8WSR6LlPwAcnKUHrNC/",
            "dtype": "f8"
           },
           "z": {
            "bdata": "+3Vi3ullzT+0Lu0Oxwe/PyGG7LLmdNa/vyVbtjIe2L80Xhkc8ZfMP7GxblpHUGw/",
            "dtype": "f8"
           }
          },
          {
           "name": "Fixed Nodes",
           "type": "scatter3d",
           "x": [],
           "y": [],
           "z": []
          },
          {
           "name": "Edges",
           "type": "scatter3d",
           "x": [
            -0.25676747668448296,
            0.553370326430855,
            null,
            0.553370326430855,
            0.7033971502536311,
            null,
            0.7033971502536311,
            -0.25676747668448296,
            null,
            1.4931599930363464,
            1.2190074631710246,
            null,
            1.2190074631710246,
            2.287832543792657,
            null,
            2.287832543792657,
            1.4931599930363464,
            null
           ],
           "y": [
            0.7726522370632165,
            -0.2865190275946201,
            null,
            -0.2865190275946201,
            0.5138667905314042,
            null,
            0.5138667905314042,
            0.7726522370632165,
            null,
            0.6760595194476573,
            -0.2604998700412011,
            null,
            -0.2604998700412011,
            0.5844403505935856,
            null,
            0.5844403505935856,
            0.6760595194476573,
            null
           ],
           "z": [
            0.12121242632309298,
            -0.3508850810340807,
            null,
            -0.3508850810340807,
            0.22967265471099538,
            null,
            0.22967265471099538,
            0.12121242632309298,
            null,
            0.22338689682031687,
            0.0034562486284441464,
            null,
            0.0034562486284441464,
            -0.37684314544875613,
            null,
            -0.37684314544875613,
            0.22338689682031687,
            null
           ]
          },
          {
           "i": [
            0,
            3
           ],
           "j": [
            1,
            4
           ],
           "k": [
            2,
            5
           ],
           "name": "Faces",
           "type": "mesh3d",
           "x": {
            "bdata": "1AuOvTqC5j+wUsLa4G7Qv6Ed0681teE/+IISJntNAkBOlpy7++P3P0BkPvgNgfM/",
            "dtype": "f8"
           },
           "y": {
            "bdata": "0aZ6xJhx4D+kxCsvkbnoP+DWTOdTVtK/JGQIQLyz4j9Uq8WSR6LlPwAcnKUHrNC/",
            "dtype": "f8"
           },
           "z": {
            "bdata": "+3Vi3ullzT+0Lu0Oxwe/PyGG7LLmdNa/vyVbtjIe2L80Xhkc8ZfMP7GxblpHUGw/",
            "dtype": "f8"
           }
          }
         ],
         "layout": {
          "annotations": [
           {
            "showarrow": false,
            "text": "Time: 0.29s (Step: 30/100)",
            "x": 0.05,
            "xref": "paper",
            "y": 0.95,
            "yref": "paper"
           }
          ]
         },
         "name": "29"
        },
        {
         "data": [
          {
           "name": "Free Nodes",
           "type": "scatter3d",
           "x": {
            "bdata": "wKZ+a27n5z/U8C3FzErKvyyrmYuJVt0/n5yYZaTfAUDAbauzBXD4P5BZI4Gx0PM/",
            "dtype": "f8"
           },
           "y": {
            "bdata": "TcJrbT9f3j9rztQPnDboPzC+KhrvmM2/fRceqvo14D/uIYDvPzfnPw3feGbqtM2/",
            "dtype": "f8"
           },
           "z": {
            "bdata": "tmo2hLCYxj+tYterudDSP26X8u0RHd6/6isPqUAz4L95f47Lgk7FP9irwobHX8Y/",
            "dtype": "f8"
           }
          },
          {
           "name": "Fixed Nodes",
           "type": "scatter3d",
           "x": [],
           "y": [],
           "z": []
          },
          {
           "name": "Edges",
           "type": "scatter3d",
           "x": [
            -0.20540771129515767,
            0.45840681679571804,
            null,
            0.45840681679571804,
            0.7470008944994433,
            null,
            0.7470008944994433,
            -0.20540771129515767,
            null,
            1.5273491876931615,
            1.2384505314308605,
            null,
            1.2384505314308605,
            2.2342002808760095,
            null,
            2.2342002808760095,
            1.5273491876931615,
            null
           ],
           "y": [
            0.7566662129597267,
            -0.23122967508014503,
            null,
            -0.23122967508014503,
            0.47456346212041894,
            null,
            0.47456346212041894,
            0.7566662129597267,
            null,
            0.7254943540329444,
            -0.2320836067535698,
            null,
            -0.2320836067535698,
            0.5065892527206725,
            null,
            0.5065892527206725,
            0.7254943540329444,
            null
           ],
           "z": [
            0.29398957997686176,
            -0.4705242942530877,
            null,
            -0.4705242942530877,
            0.17653471427623452,
            null,
            0.17653471427623452,
            0.29398957997686176,
            null,
            0.16645846308983517,
            0.17479795532321307,
            null,
            0.17479795532321307,
            -0.5062564184130427,
            null,
            -0.5062564184130427,
            0.16645846308983517,
            null
           ]
          },
          {
           "i": [
            0,
            3
           ],
           "j": [
            1,
            4
           ],
           "k": [
            2,
            5
           ],
           "name": "Faces",
           "type": "mesh3d",
           "x": {
            "bdata": "wKZ+a27n5z/U8C3FzErKvyyrmYuJVt0/n5yYZaTfAUDAbauzBXD4P5BZI4Gx0PM/",
            "dtype": "f8"
           },
           "y": {
            "bdata": "TcJrbT9f3j9rztQPnDboPzC+KhrvmM2/fRceqvo14D/uIYDvPzfnPw3feGbqtM2/",
            "dtype": "f8"
           },
           "z": {
            "bdata": "tmo2hLCYxj+tYterudDSP26X8u0RHd6/6isPqUAz4L95f47Lgk7FP9irwobHX8Y/",
            "dtype": "f8"
           }
          }
         ],
         "layout": {
          "annotations": [
           {
            "showarrow": false,
            "text": "Time: 0.30s (Step: 31/100)",
            "x": 0.05,
            "xref": "paper",
            "y": 0.95,
            "yref": "paper"
           }
          ]
         },
         "name": "30"
        },
        {
         "data": [
          {
           "name": "Free Nodes",
           "type": "scatter3d",
           "x": {
            "bdata": "nk8BIivW6D8ZBzqb+LbAv5tkmgkmr9Y/2Okqd8FGAUBIEYf3+PP4P6YbIxqEfvQ/",
            "dtype": "f8"
           },
           "y": {
            "bdata": "u6cBAW7t2z/oM4FslPLmP/4eCLQtpcO/QQwfyRC02j9ZGmKbq0/oP4p6xv/Ppsa/",
            "dtype": "f8"
           },
           "z": {
            "bdata": "9TWNQDXgvz9x9gWgJSTcP6KhFHgZDuK/Aiur74Cd47+9yMQL+i28P784E6RkqtQ/",
            "dtype": "f8"
           }
          },
          {
           "name": "Fixed Nodes",
           "type": "scatter3d",
           "x": [],
           "y": [],
           "z": []
          },
          {
           "name": "Edges",
           "type": "scatter3d",
           "x": [
            -0.13058383540560994,
            0.35444022119333746,
            null,
            0.35444022119333746,
            0.7761436142122766,
            null,
            0.7761436142122766,
            -0.13058383540560994,
            null,
            1.5595636052176634,
            1.280887701128202,
            null,
            1.280887701128202,
            2.1595486936541697,
            null,
            2.1595486936541697,
            1.5595636052176634,
            null
           ],
           "y": [
            0.717111789630164,
            -0.15347834864245863,
            null,
            -0.15347834864245863,
            0.4363665590122953,
            null,
            0.4363665590122953,
            0.717111789630164,
            null,
            0.7597253832653436,
            -0.17696571339634587,
            null,
            -0.17696571339634587,
            0.4172403301310546,
            null,
            0.4172403301310546,
            0.7597253832653436,
            null
           ],
           "z": [
            0.43970623614573073,
            -0.564221128971486,
            null,
            -0.564221128971486,
            0.12451489282576474,
            null,
            0.12451489282576474,
            0.43970623614573073,
            null,
            0.11007654940911756,
            0.3228999712272404,
            null,
            0.3228999712272404,
            -0.6129765206363518,
            null,
            -0.6129765206363518,
            0.11007654940911756,
            null
           ]
          },
          {
           "i": [
            0,
            3
           ],
           "j": [
            1,
            4
           ],
           "k": [
            2,
            5
           ],
           "name": "Faces",
           "type": "mesh3d",
           "x": {
            "bdata": "nk8BIivW6D8ZBzqb+LbAv5tkmgkmr9Y/2Okqd8FGAUBIEYf3+PP4P6YbIxqEfvQ/",
            "dtype": "f8"
           },
           "y": {
            "bdata": "u6cBAW7t2z/oM4FslPLmP/4eCLQtpcO/QQwfyRC02j9ZGmKbq0/oP4p6xv/Ppsa/",
            "dtype": "f8"
           },
           "z": {
            "bdata": "9TWNQDXgvz9x9gWgJSTcP6KhFHgZDuK/Aiur74Cd47+9yMQL+i28P784E6RkqtQ/",
            "dtype": "f8"
           }
          }
         ],
         "layout": {
          "annotations": [
           {
            "showarrow": false,
            "text": "Time: 0.31s (Step: 32/100)",
            "x": 0.05,
            "xref": "paper",
            "y": 0.95,
            "yref": "paper"
           }
          ]
         },
         "name": "31"
        },
        {
         "data": [
          {
           "name": "Free Nodes",
           "type": "scatter3d",
           "x": {
            "bdata": "x2Rw5B5s6T/HXG+kCFulv7pEWpdGps8/dF7mViGLAEBwxNwrNXX5P1d/ViaIdPU/",
            "dtype": "f8"
           },
           "y": {
            "bdata": "i77gl0l72T/cphquiBzlP69hsKDXoq2/UuLPCZGK1D/LCzXJ6g3pP3HX53Cambq/",
            "dtype": "f8"
           },
           "z": {
            "bdata": "apzKcSO+sj+MqDYB6sbhP7z7b2+uHuS/rOj/S2su5r8llIFdRQGsP9OKoaTMYdw/",
            "dtype": "f8"
           }
          },
          {
           "name": "Fixed Nodes",
           "type": "scatter3d",
           "x": [],
           "y": [],
           "z": []
          },
          {
           "name": "Edges",
           "type": "scatter3d",
           "x": [
            -0.04171015746367739,
            0.24726183309807032,
            null,
            0.24726183309807032,
            0.7944483243656116,
            null,
            0.7944483243656116,
            -0.04171015746367739,
            null,
            1.59111516126384,
            1.3409501550267657,
            null,
            1.3409501550267657,
            2.0679346837094332,
            null,
            2.0679346837094332,
            1.59111516126384,
            null
           ],
           "y": [
            0.6597331428976889,
            -0.0578830131200364,
            null,
            -0.0578830131200364,
            0.3981498702223482,
            null,
            0.3981498702223482,
            0.6597331428976889,
            null,
            0.7829488687351555,
            -0.10390630012974868,
            null,
            -0.10390630012974868,
            0.3209574313946507,
            null,
            0.3209574313946507,
            0.7829488687351555,
            null
           ],
           "z": [
            0.5555315040303568,
            -0.6287452866089249,
            null,
            -0.6287452866089249,
            0.0732137825785785,
            null,
            0.0732137825785785,
            0.5555315040303568,
            null,
            0.0546971966403265,
            0.44346920087097635,
            null,
            0.44346920087097635,
            -0.693166397511296,
            null,
            -0.693166397511296,
            0.0546971966403265,
            null
           ]
          },
          {
           "i": [
            0,
            3
           ],
           "j": [
            1,
            4
           ],
           "k": [
            2,
            5
           ],
           "name": "Faces",
           "type": "mesh3d",
           "x": {
            "bdata": "x2Rw5B5s6T/HXG+kCFulv7pEWpdGps8/dF7mViGLAEBwxNwrNXX5P1d/ViaIdPU/",
            "dtype": "f8"
           },
           "y": {
            "bdata": "i77gl0l72T/cphquiBzlP69hsKDXoq2/UuLPCZGK1D/LCzXJ6g3pP3HX53Cambq/",
            "dtype": "f8"
           },
           "z": {
            "bdata": "apzKcSO+sj+MqDYB6sbhP7z7b2+uHuS/rOj/S2su5r8llIFdRQGsP9OKoaTMYdw/",
            "dtype": "f8"
           }
          }
         ],
         "layout": {
          "annotations": [
           {
            "showarrow": false,
            "text": "Time: 0.32s (Step: 33/100)",
            "x": 0.05,
            "xref": "paper",
            "y": 0.95,
            "yref": "paper"
           }
          ]
         },
         "name": "32"
        },
        {
         "data": [
          {
           "name": "Free Nodes",
           "type": "scatter3d",
           "x": {
            "bdata": "cyHCOka26T+HowZut4SrPwbSdTm5RcI/XmZ+cBNs/z8S02TGbPf5P1DHHMl/nPY/",
            "dtype": "f8"
           },
           "y": {
            "bdata": "4fQbSI//1j/fv3Yb6+LiP29btAfU1Kk/7rgJ/fGFzD9jUXV4NIXpPzOt9/Ye1pS/",
            "dtype": "f8"
           },
           "z": {
            "bdata": "sAObK0PUlT+GD/Bs04fkPz7nTIZ1NuW/xej6sIzU57+AmyS47WBFv3bT4wCTIeE/",
            "dtype": "f8"
           }
          },
          {
           "name": "Fixed Nodes",
           "type": "scatter3d",
           "x": [],
           "y": [],
           "z": []
          },
          {
           "name": "Edges",
           "type": "scatter3d",
           "x": [
            0.053746921711826316,
            0.14275279336619934,
            null,
            0.14275279336619934,
            0.8035002849219793,
            null,
            0.8035002849219793,
            0.053746921711826316,
            null,
            1.6229064702758405,
            1.4132078033403168,
            null,
            1.4132078033403168,
            1.9638857263838854,
            null,
            1.9638857263838854,
            1.6229064702758405,
            null
           ],
           "y": [
            0.5901999985126131,
            0.050451875629895386,
            null,
            0.050451875629895386,
            0.35934812585749226,
            null,
            0.35934812585749226,
            0.5901999985126131,
            null,
            0.7975103714657447,
            -0.02034805662507928,
            null,
            -0.02034805662507928,
            0.22283768515939734,
            null,
            0.22283768515939734,
            0.7975103714657447,
            null
           ],
           "z": [
            0.641580307740228,
            -0.6628978369765048,
            null,
            -0.6628978369765048,
            0.021317529236288102,
            null,
            0.021317529236288102,
            0.641580307740228,
            null,
            -0.0006524239291011286,
            0.5353484170324083,
            null,
            0.5353484170324083,
            -0.7446959931032998,
            null,
            -0.7446959931032998,
            -0.0006524239291011286,
            null
           ]
          },
          {
           "i": [
            0,
            3
           ],
           "j": [
            1,
            4
           ],
           "k": [
            2,
            5
           ],
           "name": "Faces",
           "type": "mesh3d",
           "x": {
            "bdata": "cyHCOka26T+HowZut4SrPwbSdTm5RcI/XmZ+cBNs/z8S02TGbPf5P1DHHMl/nPY/",
            "dtype": "f8"
           },
           "y": {
            "bdata": "4fQbSI//1j/fv3Yb6+LiP29btAfU1Kk/7rgJ/fGFzD9jUXV4NIXpPzOt9/Ye1pS/",
            "dtype": "f8"
           },
           "z": {
            "bdata": "sAObK0PUlT+GD/Bs04fkPz7nTIZ1NuW/xej6sIzU57+AmyS47WBFv3bT4wCTIeE/",
            "dtype": "f8"
           }
          }
         ],
         "layout": {
          "annotations": [
           {
            "showarrow": false,
            "text": "Time: 0.33s (Step: 34/100)",
            "x": 0.05,
            "xref": "paper",
            "y": 0.95,
            "yref": "paper"
           }
          ]
         },
         "name": "33"
        },
        {
         "data": [
          {
           "name": "Free Nodes",
           "type": "scatter3d",
           "x": {
            "bdata": "4NM3poi16T/IO5OHrz3DP+fVNX63sKc/JBijbGCi/T+QtF1diHv6Pxw0/zUX4vc/",
            "dtype": "f8"
           },
           "y": {
            "bdata": "xvnwlL591D/JwcN0LW/gP2kFDwPNR8U/y63EV8RfwD90PqnkPbzpP+nDLCuIXrE/",
            "dtype": "f8"
           },
           "z": {
            "bdata": "wld33iWYoL/30iLzAWXmPw1dO5V/W+W/C4MQXguN6L9mApXyFlmtv0agBpppL+M/",
            "dtype": "f8"
           }
          },
          {
           "name": "Fixed Nodes",
           "type": "scatter3d",
           "x": [],
           "y": [],
           "z": []
          },
          {
           "name": "Edges",
           "type": "scatter3d",
           "x": [
            0.1503199970233864,
            0.046270116955309075,
            null,
            0.046270116955309075,
            0.8034098860213099,
            null,
            0.8034098860213099,
            0.1503199970233864,
            null,
            1.655159344397621,
            1.4926979169133636,
            null,
            1.4926979169133636,
            1.8521427386890617,
            null,
            1.8521427386890617,
            1.655159344397621,
            null
           ],
           "y": [
            0.5135714798507759,
            0.16625368737554005,
            null,
            0.16625368737554005,
            0.32017483277368475,
            null,
            0.32017483277368475,
            0.5135714798507759,
            null,
            0.8042287317311563,
            0.06784869245599591,
            null,
            0.06784869245599591,
            0.12792257581291575,
            null,
            0.12792257581291575,
            0.8042287317311563,
            null
           ],
           "z": [
            0.699830031275808,
            -0.6674192347226452,
            null,
            -0.6674192347226452,
            -0.032410796553150614,
            null,
            -0.032410796553150614,
            0.699830031275808,
            null,
            -0.05732032500464328,
            0.5995376594846753,
            null,
            0.5995376594846753,
            -0.767217334480024,
            null,
            -0.767217334480024,
            -0.05732032500464328,
            null
           ]
          },
          {
           "i": [
            0,
            3
           ],
           "j": [
            1,
            4
           ],
           "k": [
            2,
            5
           ],
           "name": "Faces",
           "type": "mesh3d",
           "x": {
            "bdata": "4NM3poi16T/IO5OHrz3DP+fVNX63sKc/JBijbGCi/T+QtF1diHv6Pxw0/zUX4vc/",
            "dtype": "f8"
           },
           "y": {
            "bdata": "xvnwlL591D/JwcN0LW/gP2kFDwPNR8U/y63EV8RfwD90PqnkPbzpP+nDLCuIXrE/",
            "dtype": "f8"
           },
           "z": {
            "bdata": "wld33iWYoL/30iLzAWXmPw1dO5V/W+W/C4MQXguN6L9mApXyFlmtv0agBpppL+M/",
            "dtype": "f8"
           }
          }
         ],
         "layout": {
          "annotations": [
           {
            "showarrow": false,
            "text": "Time: 0.34s (Step: 35/100)",
            "x": 0.05,
            "xref": "paper",
            "y": 0.95,
            "yref": "paper"
           }
          ]
         },
         "name": "34"
        },
        {
         "data": [
          {
           "name": "Free Nodes",
           "type": "scatter3d",
           "x": {
            "bdata": "m4LsQMRj6T8LO1g300bPP6ASKeyQV6O/6D+AaU/M+z+UOO6koP/6P2SIkfEPNPk/",
            "dtype": "f8"
           },
           "y": {
            "bdata": "TiYRjTcF0j9ZoEJBCcfbP2U5rDG/M9I/TwvaUVXdpD/p1+x577DpP9Un1sPsBMQ/",
            "dtype": "f8"
           },
           "z": {
            "bdata": "ZgUKqQartr9EP1IXyXbnPyH+MEJooeS/Qg5BD3Ni6L/7X6ybDMm9v+BS1SeAbeQ/",
            "dtype": "f8"
           }
          },
          {
           "name": "Fixed Nodes",
           "type": "scatter3d",
           "x": [],
           "y": [],
           "z": []
          },
          {
           "name": "Edges",
           "type": "scatter3d",
           "x": [
            0.2443489094007066,
            -0.037777451351336255,
            null,
            -0.037777451351336255,
            0.7934285419506354,
            null,
            0.7934285419506354,
            0.2443489094007066,
            null,
            1.6874090616798059,
            1.5752105175274886,
            null,
            1.5752105175274886,
            1.7373804207927552,
            null,
            1.7373804207927552,
            1.6874090616798059,
            null
           ],
           "y": [
            0.43402320263931454,
            0.28440837717871253,
            null,
            0.28440837717871253,
            0.2815684201819736,
            null,
            0.2815684201819736,
            0.43402320263931454,
            null,
            0.8028485661841361,
            0.15640029489833177,
            null,
            0.15640029489833177,
            0.04075113891760528,
            null,
            0.04075113891760528,
            0.8028485661841361,
            null
           ],
           "z": [
            0.7332501845830639,
            -0.6447030346680017,
            null,
            -0.6447030346680017,
            -0.08854714991504906,
            null,
            -0.08854714991504906,
            0.7332501845830639,
            null,
            -0.11634901810282365,
            0.6383667734140452,
            null,
            0.6383667734140452,
            -0.7620177553112131,
            null,
            -0.7620177553112131,
            -0.11634901810282365,
            null
           ]
          },
          {
           "i": [
            0,
            3
           ],
           "j": [
            1,
            4
           ],
           "k": [
            2,
            5
           ],
           "name": "Faces",
           "type": "mesh3d",
           "x": {
            "bdata": "m4LsQMRj6T8LO1g300bPP6ASKeyQV6O/6D+AaU/M+z+UOO6koP/6P2SIkfEPNPk/",
            "dtype": "f8"
           },
           "y": {
            "bdata": "TiYRjTcF0j9ZoEJBCcfbP2U5rDG/M9I/TwvaUVXdpD/p1+x577DpP9Un1sPsBMQ/",
            "dtype": "f8"
           },
           "z": {
            "bdata": "ZgUKqQartr9EP1IXyXbnPyH+MEJooeS/Qg5BD3Ni6L/7X6ybDMm9v+BS1SeAbeQ/",
            "dtype": "f8"
           }
          }
         ],
         "layout": {
          "annotations": [
           {
            "showarrow": false,
            "text": "Time: 0.35s (Step: 36/100)",
            "x": 0.05,
            "xref": "paper",
            "y": 0.95,
            "yref": "paper"
           }
          ]
         },
         "name": "35"
        },
        {
         "data": [
          {
           "name": "Free Nodes",
           "type": "scatter3d",
           "x": {
            "bdata": "/cxIzIa46D8/CZbNtVrVPyyLnpgNL7u/hgEga7j7+T/rMIP2in/7P37OXJ68hPo/",
            "dtype": "f8"
           },
           "y": {
            "bdata": "UdTq5Ptbzz9Yp+trV7TWP4vunqGqndk/abIZbzXlob/YtJTfPVzpP0Skc91VCM8/",
            "dtype": "f8"
           },
           "z": {
            "bdata": "B85ToAnIwr8mxje0J9jnPybSIkwlJuO/Q38dYH5q579ge+dyVMvGv0QCSLpd9OQ/",
            "dtype": "f8"
           }
          },
          {
           "name": "Fixed Nodes",
           "type": "scatter3d",
           "x": [],
           "y": [],
           "z": []
          },
          {
           "name": "Edges",
           "type": "scatter3d",
           "x": [
            0.3336615092922734,
            -0.10618672348077202,
            null,
            -0.10618672348077202,
            0.7725252141885047,
            null,
            0.7725252141885047,
            0.3336615092922734,
            null,
            1.718638384761159,
            1.6574064432178655,
            null,
            1.6574064432178655,
            1.6239551720210286,
            null,
            1.6239551720210286,
            1.718638384761159,
            null
           ],
           "y": [
            0.35475717105020044,
            0.40024820121082233,
            null,
            0.40024820121082233,
            0.24499462773897787,
            null,
            0.24499462773897787,
            0.35475717105020044,
            null,
            0.7925099722685003,
            0.24244187653610727,
            null,
            0.24244187653610727,
            -0.034951848804529125,
            null,
            -0.034951848804529125,
            0.7925099722685003,
            null
           ],
           "z": [
            0.7451361198311062,
            -0.5984064566642402,
            null,
            -0.5984064566642402,
            -0.14672966316685196,
            null,
            -0.14672966316685196,
            0.7451361198311062,
            null,
            -0.1780801354461472,
            0.654829849081644,
            null,
            0.654829849081644,
            -0.7317497136354877,
            null,
            -0.7317497136354877,
            -0.1780801354461472,
            null
           ]
          },
          {
           "i": [
            0,
            3
           ],
           "j": [
            1,
            4
           ],
           "k": [
            2,
            5
           ],
           "name": "Faces",
           "type": "mesh3d",
           "x": {
            "bdata": "/cxIzIa46D8/CZbNtVrVPyyLnpgNL7u/hgEga7j7+T/rMIP2in/7P37OXJ68hPo/",
            "dtype": "f8"
           },
           "y": {
            "bdata": "UdTq5Ptbzz9Yp+trV7TWP4vunqGqndk/abIZbzXlob/YtJTfPVzpP0Skc91VCM8/",
            "dtype": "f8"
           },
           "z": {
            "bdata": "B85ToAnIwr8mxje0J9jnPybSIkwlJuO/Q38dYH5q579ge+dyVMvGv0QCSLpd9OQ/",
            "dtype": "f8"
           }
          }
         ],
         "layout": {
          "annotations": [
           {
            "showarrow": false,
            "text": "Time: 0.36s (Step: 37/100)",
            "x": 0.05,
            "xref": "paper",
            "y": 0.95,
            "yref": "paper"
           }
          ]
         },
         "name": "36"
        },
        {
         "data": [
          {
           "name": "Free Nodes",
           "type": "scatter3d",
           "x": {
            "bdata": "e8TQZBmt5z8ASfn9RLPaPwOjNY/vGsS/VEQG5UxA+D/wvPNIsPX7P7v/BdICyvs/",
            "dtype": "f8"
           },
           "y": {
            "bdata": "iFL366Qoyz85PjPIbcvRP0eM6OAfUOA/ZB3YVkiyuL9IsmXjw7XoP62o6k4KwdQ/",
            "dtype": "f8"
           },
           "z": {
            "bdata": "WanDecpRyr+3vnxr3aLnP9rTC81qDuG/wnBQG1HD5b8H+xQjKvnOvzc/2JnE3eQ/",
            "dtype": "f8"
           }
          },
          {
           "name": "Fixed Nodes",
           "type": "scatter3d",
           "x": [],
           "y": [],
           "z": []
          },
          {
           "name": "Edges",
           "type": "scatter3d",
           "x": [
            0.4171917419636344,
            -0.15707201473858143,
            null,
            -0.15707201473858143,
            0.7398802727749535,
            null,
            0.7398802727749535,
            0.4171917419636344,
            null,
            1.7474825715724442,
            1.7368190959968917,
            null,
            1.7368190959968917,
            1.5156983324307207,
            null,
            1.5156983324307207,
            1.7474825715724442,
            null
           ],
           "y": [
            0.27804131079480815,
            0.5097808258764268,
            null,
            0.5097808258764268,
            0.21217786332876565,
            null,
            0.21217786332876565,
            0.27804131079480815,
            null,
            0.7721881333687373,
            0.3242822428388859,
            null,
            0.3242822428388859,
            -0.09647037620753945,
            null,
            -0.09647037620753945,
            0.7721881333687373,
            null
           ],
           "z": [
            0.738630971847633,
            -0.5330099110420818,
            null,
            -0.5330099110420818,
            -0.20562106080553624,
            null,
            -0.20562106080553624,
            0.738630971847633,
            null,
            -0.24197890007959463,
            0.6520712857036192,
            null,
            0.6520712857036192,
            -0.6800923856240149,
            null,
            -0.6800923856240149,
            -0.24197890007959463,
            null
           ]
          },
          {
           "i": [
            0,
            3
           ],
           "j": [
            1,
            4
           ],
           "k": [
            2,
            5
           ],
           "name": "Faces",
           "type": "mesh3d",
           "x": {
            "bdata": "e8TQZBmt5z8ASfn9RLPaPwOjNY/vGsS/VEQG5UxA+D/wvPNIsPX7P7v/BdICyvs/",
            "dtype": "f8"
           },
           "y": {
            "bdata": "iFL366Qoyz85PjPIbcvRP0eM6OAfUOA/ZB3YVkiyuL9IsmXjw7XoP62o6k4KwdQ/",
            "dtype": "f8"
           },
           "z": {
            "bdata": "WanDecpRyr+3vnxr3aLnP9rTC81qDuG/wnBQG1HD5b8H+xQjKvnOvzc/2JnE3eQ/",
            "dtype": "f8"
           }
          }
         ],
         "layout": {
          "annotations": [
           {
            "showarrow": false,
            "text": "Time: 0.37s (Step: 38/100)",
            "x": 0.05,
            "xref": "paper",
            "y": 0.95,
            "yref": "paper"
           }
          ]
         },
         "name": "37"
        },
        {
         "data": [
          {
           "name": "Free Nodes",
           "type": "scatter3d",
           "x": {
            "bdata": "VpOIwZw/5j8+rnEnNKffP96oBVXbTMi/SPvBUfam9j+ogCm6A1z8PyCFFPQF/fw/",
            "dtype": "f8"
           },
           "y": {
            "bdata": "Zdz0teGnxz8uFd7WnkjKP6FDy9zfg+M/W6mK8Cwzwr/6WiyG5bbnP/2k7GvLq9k/",
            "dtype": "f8"
           },
           "z": {
            "bdata": "My7KjgLW0L9JOmkJ9OzmP0BFCITlA92/1LlM12eQ47+juig27p/Tv2KSdaCmQeQ/",
            "dtype": "f8"
           }
          },
          {
           "name": "Fixed Nodes",
           "type": "scatter3d",
           "x": [],
           "y": [],
           "z": []
          },
          {
           "name": "Edges",
           "type": "scatter3d",
           "x": [
            0.4945803055950114,
            -0.18984548236341586,
            null,
            -0.18984548236341586,
            0.6952651767684113,
            null,
            0.6952651767684113,
            0.4945803055950114,
            null,
            1.7724644920308865,
            1.8117732557660204,
            null,
            1.8117732557660204,
            1.4157622522031534,
            null,
            1.4157622522031534,
            1.7724644920308865,
            null
           ],
           "y": [
            0.20534120074823065,
            0.6098479568846537,
            null,
            0.6098479568846537,
            0.18481084236711634,
            null,
            0.18481084236711634,
            0.20534120074823065,
            null,
            0.7410762425014064,
            0.4011105112027307,
            null,
            0.4011105112027307,
            -0.14218675370404807,
            null,
            -0.14218675370404807,
            0.7410762425014064,
            null
           ],
           "z": [
            0.71642495954604,
            -0.45336282628803204,
            null,
            -0.45336282628803204,
            -0.26306213325799205,
            null,
            -0.26306213325799205,
            0.71642495954604,
            null,
            -0.3066363839051666,
            0.6330140241594331,
            null,
            0.6330140241594331,
            -0.6113776402542563,
            null,
            -0.6113776402542563,
            -0.3066363839051666,
            null
           ]
          },
          {
           "i": [
            0,
            3
           ],
           "j": [
            1,
            4
           ],
           "k": [
            2,
            5
           ],
           "name": "Faces",
           "type": "mesh3d",
           "x": {
            "bdata": "VpOIwZw/5j8+rnEnNKffP96oBVXbTMi/SPvBUfam9j+ogCm6A1z8PyCFFPQF/fw/",
            "dtype": "f8"
           },
           "y": {
            "bdata": "Zdz0teGnxz8uFd7WnkjKP6FDy9zfg+M/W6mK8Cwzwr/6WiyG5bbnP/2k7GvLq9k/",
            "dtype": "f8"
           },
           "z": {
            "bdata": "My7KjgLW0L9JOmkJ9OzmP0BFCITlA92/1LlM12eQ47+juig27p/Tv2KSdaCmQeQ/",
            "dtype": "f8"
           }
          }
         ],
         "layout": {
          "annotations": [
           {
            "showarrow": false,
            "text": "Time: 0.38s (Step: 39/100)",
            "x": 0.05,
            "xref": "paper",
            "y": 0.95,
            "yref": "paper"
           }
          ]
         },
         "name": "38"
        },
        {
         "data": [
          {
           "name": "Free Nodes",
           "type": "scatter3d",
           "x": {
            "bdata": "m95Of/l05D9/GbNSBhviP2TfB0j/P8q/U8DrTXI59T+1nzOW+Kz8Pxqh4BuVGf4/",
            "dtype": "f8"
           },
           "y": {
            "bdata": "xVetAEcHxT/hTfz4+pnBP52WlYGvV+Y/iZmufhb2xb+u/wEgSl3mPwxUU/92QN4/",
            "dtype": "f8"
           },
           "z": {
            "bdata": "aC72Cmg/1L9QB5fXqMflPwjfN6TpT9e/GSRD8HL34L934CEswazXvxp7uuw5NOM/",
            "dtype": "f8"
           }
          },
          {
           "name": "Fixed Nodes",
           "type": "scatter3d",
           "x": [],
           "y": [],
           "z": []
          },
          {
           "name": "Edges",
           "type": "scatter3d",
           "x": [
            0.5657989135004725,
            -0.20507803933264335,
            null,
            -0.20507803933264335,
            0.639279125832178,
            null,
            0.639279125832178,
            0.5657989135004725,
            null,
            1.7922292582752395,
            1.8812457169497692,
            null,
            1.8812457169497692,
            1.3265250247750557,
            null,
            1.3265250247750557,
            1.7922292582752395,
            null
           ],
           "y": [
            0.13751160771845064,
            0.6982038050598082,
            null,
            0.6982038050598082,
            0.1642845872217419,
            null,
            0.1642845872217419,
            0.13751160771845064,
            null,
            0.6988878846313946,
            0.47268462118273713,
            null,
            0.47268462118273713,
            -0.1715725058140374,
            null,
            -0.1715725058140374,
            0.6988878846313946,
            null
           ],
           "z": [
            0.6806225023976626,
            -0.3642524818128412,
            null,
            -0.3642524818128412,
            -0.31637002058480457,
            null,
            -0.31637002058480457,
            0.6806225023976626,
            null,
            -0.369919102762203,
            0.6001252769090997,
            null,
            0.6001252769090997,
            -0.5302061741468861,
            null,
            -0.5302061741468861,
            -0.369919102762203,
            null
           ]
          },
          {
           "i": [
            0,
            3
           ],
           "j": [
            1,
            4
           ],
           "k": [
            2,
            5
           ],
           "name": "Faces",
           "type": "mesh3d",
           "x": {
            "bdata": "m95Of/l05D9/GbNSBhviP2TfB0j/P8q/U8DrTXI59T+1nzOW+Kz8Pxqh4BuVGf4/",
            "dtype": "f8"
           },
           "y": {
            "bdata": "xVetAEcHxT/hTfz4+pnBP52WlYGvV+Y/iZmufhb2xb+u/wEgSl3mPwxUU/92QN4/",
            "dtype": "f8"
           },
           "z": {
            "bdata": "aC72Cmg/1L9QB5fXqMflPwjfN6TpT9e/GSRD8HL34L934CEswazXvxp7uuw5NOM/",
            "dtype": "f8"
           }
          }
         ],
         "layout": {
          "annotations": [
           {
            "showarrow": false,
            "text": "Time: 0.39s (Step: 40/100)",
            "x": 0.05,
            "xref": "paper",
            "y": 0.95,
            "yref": "paper"
           }
          ]
         },
         "name": "39"
        },
        {
         "data": [
          {
           "name": "Free Nodes",
           "type": "scatter3d",
           "x": {
            "bdata": "WeaISXlZ4j/K4/fH0y/kP3YnA0Y0Jcq/51CAxjH+8z+WGUs5WuT8P7eWNAB0Hf8/",
            "dtype": "f8"
           },
           "y": {
            "bdata": "cF3bkJ5jwz9K3i0ZJDSzP+Jso9iTwOg/AnziIeewx7/KAQhqeqzkP7mgcF6/P+E/",
            "dtype": "f8"
           },
           "z": {
            "bdata": "orwI/+A217/owgdPkj/kP+3HBp9DSNG/XIogX6463L925WsTknjbvziK/lclxeE/",
            "dtype": "f8"
           }
          },
          {
           "name": "Fixed Nodes",
           "type": "scatter3d",
           "x": [],
           "y": [],
           "z": []
          },
          {
           "name": "Edges",
           "type": "scatter3d",
           "x": [
            0.6308382897979012,
            -0.2042603818757091,
            null,
            -0.2042603818757091,
            0.5734220920778156,
            null,
            0.5734220920778156,
            0.6308382897979012,
            null,
            1.8057501066228716,
            1.9446907051109699,
            null,
            1.9446907051109699,
            1.249559188266227,
            null,
            1.249559188266227,
            1.8057501066228716,
            null
           ],
           "y": [
            0.075014358660945,
            0.7735079985826838,
            null,
            0.7735079985826838,
            0.151477642756372,
            null,
            0.151477642756372,
            0.075014358660945,
            null,
            0.6460544653819451,
            0.5390316814928361,
            null,
            0.5390316814928361,
            -0.18508614687468145,
            null,
            -0.18508614687468145,
            0.6460544653819451,
            null
           ],
           "z": [
            0.6327601951180357,
            -0.27003565339975816,
            null,
            -0.27003565339975816,
            -0.36272454171825974,
            null,
            -0.36272454171825974,
            0.6327601951180357,
            null,
            -0.4292340459502023,
            0.5553156584395031,
            null,
            0.5553156584395031,
            -0.4410816124892898,
            null,
            -0.4410816124892898,
            -0.4292340459502023,
            null
           ]
          },
          {
           "i": [
            0,
            3
           ],
           "j": [
            1,
            4
           ],
           "k": [
            2,
            5
           ],
           "name": "Faces",
           "type": "mesh3d",
           "x": {
            "bdata": "WeaISXlZ4j/K4/fH0y/kP3YnA0Y0Jcq/51CAxjH+8z+WGUs5WuT8P7eWNAB0Hf8/",
            "dtype": "f8"
           },
           "y": {
            "bdata": "cF3bkJ5jwz9K3i0ZJDSzP+Jso9iTwOg/AnziIeewx7/KAQhqeqzkP7mgcF6/P+E/",
            "dtype": "f8"
           },
           "z": {
            "bdata": "orwI/+A217/owgdPkj/kP+3HBp9DSNG/XIogX6463L925WsTknjbvziK/lclxeE/",
            "dtype": "f8"
           }
          }
         ],
         "layout": {
          "annotations": [
           {
            "showarrow": false,
            "text": "Time: 0.40s (Step: 41/100)",
            "x": 0.05,
            "xref": "paper",
            "y": 0.95,
            "yref": "paper"
           }
          ]
         },
         "name": "40"
        },
        {
         "data": [
          {
           "name": "Free Nodes",
           "type": "scatter3d",
           "x": {
            "bdata": "oc8QvgUA4D+L3EfmVRDmP4qvYpFuQci/C7lZdX348j/DWh7Z6f/8P7z2w1jMAwBA",
            "dtype": "f8"
           },
           "y": {
            "bdata": "/ICF/vbEwj9geTi8BZCSP/7bfBJCuuo/zhlAO/aMx78aVifzeK7iPw20qJvENOM/",
            "dtype": "f8"
           },
           "z": {
            "bdata": "J2EfwJqS2b8YzfP/v13iP25vkH/KUca/WRqJkC1H1r90e1UG6Nbev34R80Rd/98/",
            "dtype": "f8"
           }
          },
          {
           "name": "Fixed Nodes",
           "type": "scatter3d",
           "x": [],
           "y": [],
           "z": []
          },
          {
           "name": "Edges",
           "type": "scatter3d",
           "x": [
            0.6894940850896928,
            -0.1894968233003705,
            null,
            -0.1894968233003705,
            0.5000027382106859,
            null,
            0.5000027382106859,
            0.6894940850896928,
            null,
            1.812478874320434,
            2.0018546042254837,
            null,
            2.0018546042254837,
            1.1856665214541546,
            null,
            1.1856665214541546,
            1.812478874320434,
            null
           ],
           "y": [
            0.01812752686793695,
            0.8352365838135254,
            null,
            0.8352365838135254,
            0.14663588931853855,
            null,
            0.14663588931853855,
            0.01812752686793695,
            null,
            0.5837979077429651,
            0.6001914062704842,
            null,
            0.6001914062704842,
            -0.18398931401334412,
            null,
            -0.18398931401334412,
            0.5837979077429651,
            null
           ],
           "z": [
            0.5739440917081167,
            -0.17437106350632398,
            null,
            -0.17437106350632398,
            -0.3995730282017739,
            null,
            -0.3995730282017739,
            0.5739440917081167,
            null,
            -0.4818668424467696,
            0.49996120198581895,
            null,
            0.49996120198581895,
            -0.34809435953903783,
            null,
            -0.34809435953903783,
            -0.4818668424467696,
            null
           ]
          },
          {
           "i": [
            0,
            3
           ],
           "j": [
            1,
            4
           ],
           "k": [
            2,
            5
           ],
           "name": "Faces",
           "type": "mesh3d",
           "x": {
            "bdata": "oc8QvgUA4D+L3EfmVRDmP4qvYpFuQci/C7lZdX348j/DWh7Z6f/8P7z2w1jMAwBA",
            "dtype": "f8"
           },
           "y": {
            "bdata": "/ICF/vbEwj9geTi8BZCSP/7bfBJCuuo/zhlAO/aMx78aVifzeK7iPw20qJvENOM/",
            "dtype": "f8"
           },
           "z": {
            "bdata": "J2EfwJqS2b8YzfP/v13iP25vkH/KUca/WRqJkC1H1r90e1UG6Nbev34R80Rd/98/",
            "dtype": "f8"
           }
          }
         ],
         "layout": {
          "annotations": [
           {
            "showarrow": false,
            "text": "Time: 0.41s (Step: 42/100)",
            "x": 0.05,
            "xref": "paper",
            "y": 0.95,
            "yref": "paper"
           }
          ]
         },
         "name": "41"
        },
        {
         "data": [
          {
           "name": "Free Nodes",
           "type": "scatter3d",
           "x": {
            "bdata": "972Vc4UA2z8rjBpAfLjnP2Wrlef74sS/Ndkfudoo8j947kM8rP/8P9YcToW8awBA",
            "dtype": "f8"
           },
           "y": {
            "bdata": "AvccMDMewz+UUBYld9agv1EnSqbaRew/Onc8NPLFxb/L60RkR3PgP+g1yig1/uQ/",
            "dtype": "f8"
           },
           "z": {
            "bdata": "f4PP+N8y2787SrW3cSngP08+bNoNgLS/RRdrHcpM0L9WDsIdk8/gv7aGp3d119s/",
            "dtype": "f8"
           }
          },
          {
           "name": "Fixed Nodes",
           "type": "scatter3d",
           "x": [],
           "y": [],
           "z": []
          },
          {
           "name": "Edges",
           "type": "scatter3d",
           "x": [
            0.7412701847100654,
            -0.16317700202793187,
            null,
            -0.16317700202793187,
            0.421906817317875,
            null,
            0.421906817317875,
            0.7412701847100654,
            null,
            1.8124201158633735,
            2.052605668493565,
            null,
            2.052605668493565,
            1.134974215643138,
            null,
            1.134974215643138,
            1.8124201158633735,
            null
           ],
           "y": [
            -0.03288624122356612,
            0.8835271118016214,
            null,
            0.8835271118016214,
            0.14935912942194568,
            null,
            0.14935912942194568,
            -0.03288624122356612,
            null,
            0.5140721281417141,
            0.6560312077214663,
            null,
            0.6560312077214663,
            -0.17010333586306975,
            null,
            -0.17010333586306975,
            0.5140721281417141,
            null
           ],
           "z": [
            0.5050591075944973,
            -0.08007895071590919,
            null,
            -0.08007895071590919,
            -0.42498015687856844,
            null,
            -0.42498015687856844,
            0.5050591075944973,
            null,
            -0.5253387051784084,
            0.4350255650043481,
            null,
            0.4350255650043481,
            -0.2546868598259276,
            null,
            -0.2546868598259276,
            -0.5253387051784084,
            null
           ]
          },
          {
           "i": [
            0,
            3
           ],
           "j": [
            1,
            4
           ],
           "k": [
            2,
            5
           ],
           "name": "Faces",
           "type": "mesh3d",
           "x": {
            "bdata": "972Vc4UA2z8rjBpAfLjnP2Wrlef74sS/Ndkfudoo8j947kM8rP/8P9YcToW8awBA",
            "dtype": "f8"
           },
           "y": {
            "bdata": "AvccMDMewz+UUBYld9agv1EnSqbaRew/Onc8NPLFxb/L60RkR3PgP+g1yig1/uQ/",
            "dtype": "f8"
           },
           "z": {
            "bdata": "f4PP+N8y2787SrW3cSngP08+bNoNgLS/RRdrHcpM0L9WDsIdk8/gv7aGp3d119s/",
            "dtype": "f8"
           }
          }
         ],
         "layout": {
          "annotations": [
           {
            "showarrow": false,
            "text": "Time: 0.42s (Step: 43/100)",
            "x": 0.05,
            "xref": "paper",
            "y": 0.95,
            "yref": "paper"
           }
          ]
         },
         "name": "42"
        },
        {
         "data": [
          {
           "name": "Free Nodes",
           "type": "scatter3d",
           "x": {
            "bdata": "F7QzneHn1T/fbqQ6+SHpP2Qi+SSoV8C/aJrsSqKN8T84O4uH3eX8P+YVxBZAxgBA",
            "dtype": "f8"
           },
           "y": {
            "bdata": "u2SctPBPxD/VGPLIf+Kzv/Qp98tTaO0/LVsd2gahwr95rfdo6x7cPySECwLMmOY/",
            "dtype": "f8"
           },
           "z": {
            "bdata": "HOoLqusF3L8l/ICA4FPbP3XtXTFlQYY/iQviHVruxL8CzdJm3Njhv6LJ8muoHtc/",
            "dtype": "f8"
           }
          },
          {
           "name": "Fixed Nodes",
           "type": "scatter3d",
           "x": [],
           "y": [],
           "z": []
          },
          {
           "name": "Edges",
           "type": "scatter3d",
           "x": [
            0.7853971619947194,
            -0.1276750736744986,
            null,
            -0.1276750736744986,
            0.3422779116797882,
            null,
            0.3422779116797882,
            0.7853971619947194,
            null,
            1.8061194700891985,
            2.0968019274321135,
            null,
            2.0968019274321135,
            1.0970786024787689,
            null,
            1.0970786024787689,
            1.8061194700891985,
            null
           ],
           "y": [
            -0.07767485290432614,
            0.9189852698994501,
            null,
            0.9189852698994501,
            0.15868958300487698,
            null,
            0.15868958300487698,
            -0.07767485290432614,
            null,
            0.4393871808121826,
            0.7061519660893549,
            null,
            0.7061519660893549,
            -0.14553914690142147,
            null,
            -0.14553914690142147,
            0.4393871808121826,
            null
           ],
           "z": [
            0.4269944434090028,
            0.010866919106539122,
            null,
            0.010866919106539122,
            -0.4378613625155212,
            null,
            -0.4378613625155212,
            0.4269944434090028,
            null,
            -0.5577222831983877,
            0.3612462095435608,
            null,
            0.3612462095435608,
            -0.16352392634516047,
            null,
            -0.16352392634516047,
            -0.5577222831983877,
            null
           ]
          },
          {
           "i": [
            0,
            3
           ],
           "j": [
            1,
            4
           ],
           "k": [
            2,
            5
           ],
           "name": "Faces",
           "type": "mesh3d",
           "x": {
            "bdata": "F7QzneHn1T/fbqQ6+SHpP2Qi+SSoV8C/aJrsSqKN8T84O4uH3eX8P+YVxBZAxgBA",
            "dtype": "f8"
           },
           "y": {
            "bdata": "u2SctPBPxD/VGPLIf+Kzv/Qp98tTaO0/LVsd2gahwr95rfdo6x7cPySECwLMmOY/",
            "dtype": "f8"
           },
           "z": {
            "bdata": "HOoLqusF3L8l/ICA4FPbP3XtXTFlQYY/iQviHVruxL8CzdJm3Njhv6LJ8muoHtc/",
            "dtype": "f8"
           }
          }
         ],
         "layout": {
          "annotations": [
           {
            "showarrow": false,
            "text": "Time: 0.43s (Step: 44/100)",
            "x": 0.05,
            "xref": "paper",
            "y": 0.95,
            "yref": "paper"
           }
          ]
         },
         "name": "43"
        },
        {
         "data": [
          {
           "name": "Free Nodes",
           "type": "scatter3d",
           "x": {
            "bdata": "wvtP1Ejo0D/vIkN3JkXqP9UDWQtXyrW/i/7PsLEj8T92yHvAkbb8Pz8dWkfeEgFA",
            "dtype": "f8"
           },
           "y": {
            "bdata": "6/XfmO0txj9Jm4prpKK9v/ZVOSfZKO4/Ph7UINLIvL828s8/CzTXP/OOMqQU/+c/",
            "dtype": "f8"
           },
           "z": {
            "bdata": "MR/l2EYJ3L889WA9MtDVP+2tEG5S5Lg/I2VyU+yTs78vHR+v233iv5XUGnOy4NE/",
            "dtype": "f8"
           }
          },
          {
           "name": "Fixed Nodes",
           "type": "scatter3d",
           "x": [],
           "y": [],
           "z": []
          },
          {
           "name": "Edges",
           "type": "scatter3d",
           "x": [
            0.8209411935177665,
            -0.08511871363681618,
            null,
            -0.08511871363681618,
            0.26417752011905915,
            null,
            0.26417752011905915,
            0.8209411935177665,
            null,
            1.7945725935828967,
            2.1342130255103764,
            null,
            2.1342130255103764,
            1.071214380906812,
            null,
            1.071214380906812,
            1.7945725935828967,
            null
           ],
           "y": [
            -0.11576297402880899,
            0.9424863592236636,
            null,
            0.9424863592236636,
            0.1732766148051462,
            null,
            0.1732766148051462,
            -0.11576297402880899,
            null,
            0.36255151015919596,
            0.7498877722723293,
            null,
            0.7498877722723293,
            -0.11243928243140375,
            null,
            -0.11243928243140375,
            0.36255151015919596,
            null
           ],
           "z": [
            0.3408322905923631,
            0.09723391711366221,
            null,
            0.09723391711366221,
            -0.43806620770600363,
            null,
            -0.43806620770600363,
            0.3408322905923631,
            null,
            -0.5778635425894317,
            0.2793394207067846,
            null,
            0.2793394207067846,
            -0.07647587811733962,
            null,
            -0.07647587811733962,
            -0.5778635425894317,
            null
           ]
          },
          {
           "i": [
            0,
            3
           ],
           "j": [
            1,
            4
           ],
           "k": [
            2,
            5
           ],
           "name": "Faces",
           "type": "mesh3d",
           "x": {
            "bdata": "wvtP1Ejo0D/vIkN3JkXqP9UDWQtXyrW/i/7PsLEj8T92yHvAkbb8Pz8dWkfeEgFA",
            "dtype": "f8"
           },
           "y": {
            "bdata": "6/XfmO0txj9Jm4prpKK9v/ZVOSfZKO4/Ph7UINLIvL828s8/CzTXP/OOMqQU/+c/",
            "dtype": "f8"
           },
           "z": {
            "bdata": "MR/l2EYJ3L889WA9MtDVP+2tEG5S5Lg/I2VyU+yTs78vHR+v233iv5XUGnOy4NE/",
            "dtype": "f8"
           }
          }
         ],
         "layout": {
          "annotations": [
           {
            "showarrow": false,
            "text": "Time: 0.44s (Step: 45/100)",
            "x": 0.05,
            "xref": "paper",
            "y": 0.95,
            "yref": "paper"
           }
          ]
         },
         "name": "44"
        },
        {
         "data": [
          {
           "name": "Free Nodes",
           "type": "scatter3d",
           "x": {
            "bdata": "gCExSmZbyD9MsyeAUhrrPzG1PyvBEqO/Tn/rGRzn8D8OonHEGHf8Pxtw0ZDlUAFA",
            "dtype": "f8"
           },
           "y": {
            "bdata": "YNCMQaSFyD+2/XHWKcPCv11LOWVhj+4/DFI0bOqgsr9NSblWGFTSPxLqKSIRKuk/",
            "dtype": "f8"
           },
           "z": {
            "bdata": "XduPh7hI2785SrCrP73PP7Fvb2Mx1MY/QgmfvuyydT/4bPFFOrziv5prGJPMV8g/",
            "dtype": "f8"
           }
          },
          {
           "name": "Fixed Nodes",
           "type": "scatter3d",
           "x": [],
           "y": [],
           "z": []
          },
          {
           "name": "Edges",
           "type": "scatter3d",
           "x": [
            0.84696316747941,
            -0.03725246098461311,
            null,
            -0.03725246098461311,
            0.19028929350521295,
            null,
            0.19028929350521295,
            0.84696316747941,
            null,
            1.7790763543690704,
            2.1645003618159655,
            null,
            2.1645003618159655,
            1.0564232838150533,
            null,
            1.0564232838150533,
            1.7790763543690704,
            null
           ],
           "y": [
            -0.1465809151741106,
            0.9550024964358773,
            null,
            0.9550024964358773,
            0.1915784187382341,
            null,
            0.1915784187382341,
            -0.1465809151741106,
            null,
            0.2863827559387076,
            0.7863851229915915,
            null,
            0.7863851229915915,
            -0.07276787893017217,
            null,
            -0.07276787893017217,
            0.2863827559387076,
            null
           ],
           "z": [
            0.24796291239961635,
            0.17835061412085687,
            null,
            0.17835061412085687,
            -0.42631352652045057,
            null,
            -0.42631352652045057,
            0.24796291239961635,
            null,
            -0.5854770055842939,
            0.1901794164885729,
            null,
            0.1901794164885729,
            0.005297589095734802,
            null,
            0.005297589095734802,
            -0.5854770055842939,
            null
           ]
          },
          {
           "i": [
            0,
            3
           ],
           "j": [
            1,
            4
           ],
           "k": [
            2,
            5
           ],
           "name": "Faces",
           "type": "mesh3d",
           "x": {
            "bdata": "gCExSmZbyD9MsyeAUhrrPzG1PyvBEqO/Tn/rGRzn8D8OonHEGHf8Pxtw0ZDlUAFA",
            "dtype": "f8"
           },
           "y": {
            "bdata": "YNCMQaSFyD+2/XHWKcPCv11LOWVhj+4/DFI0bOqgsr9NSblWGFTSPxLqKSIRKuk/",
            "dtype": "f8"
           },
           "z": {
            "bdata": "XduPh7hI2785SrCrP73PP7Fvb2Mx1MY/QgmfvuyydT/4bPFFOrziv5prGJPMV8g/",
            "dtype": "f8"
           }
          }
         ],
         "layout": {
          "annotations": [
           {
            "showarrow": false,
            "text": "Time: 0.45s (Step: 46/100)",
            "x": 0.05,
            "xref": "paper",
            "y": 0.95,
            "yref": "paper"
           }
          ]
         },
         "name": "45"
        },
        {
         "data": [
          {
           "name": "Free Nodes",
           "type": "scatter3d",
           "x": {
            "bdata": "NUavLStqvz9QZNQnG5vrP33RbJ3c540/klqejMHT8D/C7RbuRi38P6hcpcJ7fwFA",
            "dtype": "f8"
           },
           "y": {
            "bdata": "l/p4MsEkyz9XuYwxWbPFv7fvxP+lo+4/j5hia2XZnL/F0FCIAlLLPzvlRolKEuo/",
            "dtype": "f8"
           },
           "z": {
            "bdata": "EDxdWlPb2b9svAXC4DbDP4RfWvniP9A/bZsIOQTJtD9c432lc5jiv8c7BXiETLg/",
            "dtype": "f8"
           }
          },
          {
           "name": "Fixed Nodes",
           "type": "scatter3d",
           "x": [],
           "y": [],
           "z": []
          },
          {
           "name": "Edges",
           "type": "scatter3d",
           "x": [
            0.8626838472292864,
            0.014602397493583602,
            null,
            0.014602397493583602,
            0.1227137552771403,
            null,
            0.1227137552771403,
            0.8626838472292864,
            null,
            1.7610539722798966,
            2.1872477728571376,
            null,
            2.1872477728571376,
            1.0516982548630591,
            null,
            1.0516982548630591,
            1.7610539722798966,
            null
           ],
           "y": [
            -0.16953577918452353,
            0.9574766154760174,
            null,
            0.9574766154760174,
            0.21205916370850694,
            null,
            0.21205916370850694,
            -0.16953577918452353,
            null,
            0.21344024330176672,
            0.8147328072729246,
            null,
            0.8147328072729246,
            -0.02817305057455904,
            null,
            -0.02817305057455904,
            0.21344024330176672,
            null
           ],
           "z": [
            0.15011224244833288,
            0.2538993296707235,
            null,
            0.2538993296707235,
            -0.4040115721190327,
            null,
            -0.4040115721190327,
            0.15011224244833288,
            null,
            -0.5811098320255996,
            0.09491756372629744,
            null,
            0.09491756372629744,
            0.08119226829931643,
            null,
            0.08119226829931643,
            -0.5811098320255996,
            null
           ]
          },
          {
           "i": [
            0,
            3
           ],
           "j": [
            1,
            4
           ],
           "k": [
            2,
            5
           ],
           "name": "Faces",
           "type": "mesh3d",
           "x": {
            "bdata": "NUavLStqvz9QZNQnG5vrP33RbJ3c540/klqejMHT8D/C7RbuRi38P6hcpcJ7fwFA",
            "dtype": "f8"
           },
           "y": {
            "bdata": "l/p4MsEkyz9XuYwxWbPFv7fvxP+lo+4/j5hia2XZnL/F0FCIAlLLPzvlRolKEuo/",
            "dtype": "f8"
           },
           "z": {
            "bdata": "EDxdWlPb2b9svAXC4DbDP4RfWvniP9A/bZsIOQTJtD9c432lc5jiv8c7BXiETLg/",
            "dtype": "f8"
           }
          }
         ],
         "layout": {
          "annotations": [
           {
            "showarrow": false,
            "text": "Time: 0.46s (Step: 47/100)",
            "x": 0.05,
            "xref": "paper",
            "y": 0.95,
            "yref": "paper"
           }
          ]
         },
         "name": "46"
        },
        {
         "data": [
          {
           "name": "Free Nodes",
           "type": "scatter3d",
           "x": {
            "bdata": "L+0ChWwYsD8PKhNEiMPrP1vFY1pRy7E/tP8hXLvl8D/Jxc4yxd77Px2eh7i/nQFA",
            "dtype": "f8"
           },
           "y": {
            "bdata": "HZVsYl7ezT8x/5SGk5DHv4waCkmNbO4/ojh5RGqNlD+m7pudSarCP2o/dUYCseo/",
            "dtype": "f8"
           },
           "z": {
            "bdata": "vM9jC3jf17+YdOV2nDypP+Uih3zkt9Q/N1ty2wtTwz81VXq2phziv6ZCP7YLYHS/",
            "dtype": "f8"
           }
          },
          {
           "name": "Fixed Nodes",
           "type": "scatter3d",
           "x": [],
           "y": [],
           "z": []
          },
          {
           "name": "Edges",
           "type": "scatter3d",
           "x": [
            0.8676186875903243,
            0.06950863320141336,
            null,
            0.06950863320141336,
            0.06287267920827298,
            null,
            0.06287267920827298,
            0.8676186875903243,
            null,
            1.7418872818637843,
            2.2020258346926895,
            null,
            2.2020258346926895,
            1.0560868834436237,
            null,
            1.0560868834436237,
            1.7418872818637843,
            null
           ],
           "y": [
            -0.18409961768520014,
            0.9507509638359166,
            null,
            0.9507509638359166,
            0.2333486538492843,
            null,
            0.2333486538492843,
            -0.18409961768520014,
            null,
            0.14582176395184837,
            0.8341075302250662,
            null,
            0.8341075302250662,
            0.02007070582322313,
            null,
            0.02007070582322313,
            0.14582176395184837,
            null
           ],
           "z": [
            0.04929055167551971,
            0.32372390900540743,
            null,
            0.32372390900540743,
            -0.3730144606809025,
            null,
            -0.3730144606809025,
            0.04929055167551971,
            null,
            -0.5659974636097674,
            -0.004974408864612789,
            null,
            -0.004974408864612789,
            0.1509718724743949,
            null,
            0.1509718724743949,
            -0.5659974636097674,
            null
           ]
          },
          {
           "i": [
            0,
            3
           ],
           "j": [
            1,
            4
           ],
           "k": [
            2,
            5
           ],
           "name": "Faces",
           "type": "mesh3d",
           "x": {
            "bdata": "L+0ChWwYsD8PKhNEiMPrP1vFY1pRy7E/tP8hXLvl8D/Jxc4yxd77Px2eh7i/nQFA",
            "dtype": "f8"
           },
           "y": {
            "bdata": "HZVsYl7ezT8x/5SGk5DHv4waCkmNbO4/ojh5RGqNlD+m7pudSarCP2o/dUYCseo/",
            "dtype": "f8"
           },
           "z": {
            "bdata": "vM9jC3jf17+YdOV2nDypP+Uih3zkt9Q/N1ty2wtTwz81VXq2phziv6ZCP7YLYHS/",
            "dtype": "f8"
           }
          }
         ],
         "layout": {
          "annotations": [
           {
            "showarrow": false,
            "text": "Time: 0.47s (Step: 48/100)",
            "x": 0.05,
            "xref": "paper",
            "y": 0.95,
            "yref": "paper"
           }
          ]
         },
         "name": "47"
        },
        {
         "data": [
          {
           "name": "Free Nodes",
           "type": "scatter3d",
           "x": {
            "bdata": "Jg4OxMWVhz9nutayuZLrPxI3ZNi8O8A/sx7W25cZ8T+14mlxhJD7PzEAYNnxqgFA",
            "dtype": "f8"
           },
           "y": {
            "bdata": "tJ4s4jVH0D8olzGqX07Iv3cWdvn87+0/7SnNyUEwsj8utd8oscW1PyZpqqFBAes/",
            "dtype": "f8"
           },
           "z": {
            "bdata": "eCSeHat21b/EzxpA5siqvz6AoeXHz9g/P6fsSo13yz/GAeVh2Vbhv27Lc3x4lLu/",
            "dtype": "f8"
           }
          },
          {
           "name": "Fixed Nodes",
           "type": "scatter3d",
           "x": [],
           "y": [],
           "z": []
          },
          {
           "name": "Edges",
           "type": "scatter3d",
           "x": [
            0.8616608136124569,
            0.12682304922093884,
            null,
            0.12682304922093884,
            0.011516137166615325,
            null,
            0.011516137166615325,
            0.8616608136124569,
            null,
            1.7227825575084073,
            2.208469103090487,
            null,
            2.208469103090487,
            1.0687483394012076,
            null,
            1.0687483394012076,
            1.7227825575084073,
            null
           ],
           "y": [
            -0.18989177522888068,
            0.9355454323092108,
            null,
            0.9355454323092108,
            0.2543463429196706,
            null,
            0.2543463429196706,
            -0.18989177522888068,
            null,
            0.08504779098412449,
            0.8439033658535535,
            null,
            0.8439033658535535,
            0.07104884316246514,
            null,
            0.07104884316246514,
            0.08504779098412449,
            null
           ],
           "z": [
            -0.052313990903172264,
            0.3876819365013978,
            null,
            0.3876819365013978,
            -0.33536794559819993,
            null,
            -0.33536794559819993,
            -0.052313990903172264,
            null,
            -0.5418517028811543,
            -0.10773423231493748,
            null,
            -0.10773423231493748,
            0.21458593519610678,
            null,
            0.21458593519610678,
            -0.5418517028811543,
            null
           ]
          },
          {
           "i": [
            0,
            3
           ],
           "j": [
            1,
            4
           ],
           "k": [
            2,
            5
           ],
           "name": "Faces",
           "type": "mesh3d",
           "x": {
            "bdata": "Jg4OxMWVhz9nutayuZLrPxI3ZNi8O8A/sx7W25cZ8T+14mlxhJD7PzEAYNnxqgFA",
            "dtype": "f8"
           },
           "y": {
            "bdata": "tJ4s4jVH0D8olzGqX07Iv3cWdvn87+0/7SnNyUEwsj8utd8oscW1PyZpqqFBAes/",
            "dtype": "f8"
           },
           "z": {
            "bdata": "eCSeHat21b/EzxpA5siqvz6AoeXHz9g/P6fsSo13yz/GAeVh2Vbhv27Lc3x4lLu/",
            "dtype": "f8"
           }
          }
         ],
         "layout": {
          "annotations": [
           {
            "showarrow": false,
            "text": "Time: 0.48s (Step: 49/100)",
            "x": 0.05,
            "xref": "paper",
            "y": 0.95,
            "yref": "paper"
           }
          ]
         },
         "name": "48"
        },
        {
         "data": [
          {
           "name": "Free Nodes",
           "type": "scatter3d",
           "x": {
            "bdata": "q69Y7/jwn7/GXTBYHQvrP32gKb2p0cc/6aP3nWls8T/7Qy1eY0b7P/2M7YGZpgFA",
            "dtype": "f8"
           },
           "y": {
            "bdata": "PuWJdJaN0T/mEvIWF+fHvyKSd4v6Mu0/N330GMXHvz/IJhzP4GagPyez70+ZAOs/",
            "dtype": "f8"
           },
           "z": {
            "bdata": "fYGTee3B0r+9vogADoTDv7ri13n0g9w/jiW+gM1o0T+U8zAED1fgvzoUUor4Dsu/",
            "dtype": "f8"
           }
          },
          {
           "name": "Fixed Nodes",
           "type": "scatter3d",
           "x": [],
           "y": [],
           "z": []
          },
          {
           "name": "Edges",
           "type": "scatter3d",
           "x": [
            0.8451067659797722,
            0.1860859082837613,
            null,
            0.1860859082837613,
            -0.03119267426352194,
            null,
            -0.03119267426352194,
            0.8451067659797722,
            null,
            1.7046846083433127,
            2.2063474798793536,
            null,
            2.2063474798793536,
            1.0889679117774398,
            null,
            1.0889679117774398,
            1.7046846083433127,
            null
           ],
           "y": [
            -0.1867398130454127,
            0.9124729846922188,
            null,
            0.9124729846922188,
            0.2742668283531947,
            null,
            0.2742668283531947,
            -0.1867398130454127,
            null,
            0.03203489807317578,
            0.8438231049782176,
            null,
            0.8438231049782176,
            0.12414199694875526,
            null,
            0.12414199694875526,
            0.03203489807317578,
            null
           ],
           "z": [
            -0.15246748949129155,
            0.44555389307746973,
            null,
            0.44555389307746973,
            -0.2930864035861516,
            null,
            -0.2930864035861516,
            -0.15246748949129155,
            null,
            -0.5106272775516225,
            -0.2113943744081171,
            null,
            -0.2113943744081171,
            0.27202165195975503,
            null,
            0.27202165195975503,
            -0.5106272775516225,
            null
           ]
          },
          {
           "i": [
            0,
            3
           ],
           "j": [
            1,
            4
           ],
           "k": [
            2,
            5
           ],
           "name": "Faces",
           "type": "mesh3d",
           "x": {
            "bdata": "q69Y7/jwn7/GXTBYHQvrP32gKb2p0cc/6aP3nWls8T/7Qy1eY0b7P/2M7YGZpgFA",
            "dtype": "f8"
           },
           "y": {
            "bdata": "PuWJdJaN0T/mEvIWF+fHvyKSd4v6Mu0/N330GMXHvz/IJhzP4GagPyez70+ZAOs/",
            "dtype": "f8"
           },
           "z": {
            "bdata": "fYGTee3B0r+9vogADoTDv7ri13n0g9w/jiW+gM1o0T+U8zAED1fgvzoUUor4Dsu/",
            "dtype": "f8"
           }
          }
         ],
         "layout": {
          "annotations": [
           {
            "showarrow": false,
            "text": "Time: 0.49s (Step: 50/100)",
            "x": 0.05,
            "xref": "paper",
            "y": 0.95,
            "yref": "paper"
           }
          ]
         },
         "name": "49"
        },
        {
         "data": [
          {
           "name": "Free Nodes",
           "type": "scatter3d",
           "x": {
            "bdata": "Txss8q3HsL8uda8UPDLqP546WKbmms8/PSHVgbXb8T8QVNR5CQP7P1JGK4KgkAFA",
            "dtype": "f8"
           },
           "y": {
            "bdata": "Xp8W6Im60j8Sqsiw9lzGv97aJrj4Oew/aZ1OyVPnxj/08lsbpVSKv93NGaJ9r+o/",
            "dtype": "f8"
           },
           "z": {
            "bdata": "9CQRVP69z7/q8nVC8d/Pv96NQ8v3zt8/Hyi0Q2Kv1D+Kz0x2CVvevztNkCnoFtS/",
            "dtype": "f8"
           }
          },
          {
           "name": "Fixed Nodes",
           "type": "scatter3d",
           "x": [],
           "y": [],
           "z": []
          },
          {
           "name": "Edges",
           "type": "scatter3d",
           "x": [
            0.8186321643840182,
            0.24691470262810794,
            null,
            0.24691470262810794,
            -0.0655468670121142,
            null,
            -0.0655468670121142,
            0.8186321643840182,
            null,
            1.6882414587937582,
            2.195618645616187,
            null,
            2.195618645616187,
            1.1161398955901654,
            null,
            1.1161398955901654,
            1.6882414587937582,
            null
           ],
           "y": [
            -0.17471202499412236,
            0.8820766064371488,
            null,
            0.8820766064371488,
            0.2926354185569745,
            null,
            0.2926354185569745,
            -0.17471202499412236,
            null,
            -0.01285675992721156,
            0.8339222112685395,
            null,
            0.8339222112685395,
            0.1789345486588261,
            null,
            0.1789345486588261,
            -0.01285675992721156,
            null
           ],
           "z": [
            -0.24902168030884947,
            0.49700732088078137,
            null,
            0.49700732088078137,
            -0.24798564057190442,
            null,
            -0.24798564057190442,
            -0.24902168030884947,
            null,
            -0.4743064551614614,
            -0.3138981252570436,
            null,
            -0.3138981252570436,
            0.3232045804185208,
            null,
            0.3232045804185208,
            -0.4743064551614614,
            null
           ]
          },
          {
           "i": [
            0,
            3
           ],
           "j": [
            1,
            4
           ],
           "k": [
            2,
            5
           ],
           "name": "Faces",
           "type": "mesh3d",
           "x": {
            "bdata": "Txss8q3HsL8uda8UPDLqP546WKbmms8/PSHVgbXb8T8QVNR5CQP7P1JGK4KgkAFA",
            "dtype": "f8"
           },
           "y": {
            "bdata": "Xp8W6Im60j8Sqsiw9lzGv97aJrj4Oew/aZ1OyVPnxj/08lsbpVSKv93NGaJ9r+o/",
            "dtype": "f8"
           },
           "z": {
            "bdata": "9CQRVP69z7/q8nVC8d/Pv96NQ8v3zt8/Hyi0Q2Kv1D+Kz0x2CVvevztNkCnoFtS/",
            "dtype": "f8"
           }
          }
         ],
         "layout": {
          "annotations": [
           {
            "showarrow": false,
            "text": "Time: 0.50s (Step: 51/100)",
            "x": 0.05,
            "xref": "paper",
            "y": 0.95,
            "yref": "paper"
           }
          ]
         },
         "name": "50"
        },
        {
         "data": [
          {
           "name": "Free Nodes",
           "type": "scatter3d",
           "x": {
            "bdata": "9+4iFh+Xt78MQCY6OxDpP4Q8PFFRxdM/LwNPd01l8j+b0nV278f6Px2WHYlhaQFA",
            "dtype": "f8"
           },
           "y": {
            "bdata": "Lkkla7nK0z9OF2QBRLrDv0Zhxko0Ces/1Yg8l18Yzj/Oz1I7tXWpv2QQ5m1DEeo/",
            "dtype": "f8"
           },
           "z": {
            "bdata": "NMh1D1nNyb+8KLPF+sLVv2sHt6bTVOE/U6hbj36M1z96XxABldLbv29m0Hk7ctq/",
            "dtype": "f8"
           }
          },
          {
           "name": "Fixed Nodes",
           "type": "scatter3d",
           "x": [],
           "y": [],
           "z": []
          },
          {
           "name": "Edges",
           "type": "scatter3d",
           "x": [
            0.7832313667040594,
            0.3089183133424245,
            null,
            0.3089183133424245,
            -0.09214968004647149,
            null,
            -0.09214968004647149,
            0.7832313667040594,
            null,
            1.673812353835422,
            2.1764555656580016,
            null,
            2.1764555656580016,
            1.149732080506691,
            null,
            1.149732080506691,
            1.673812353835422,
            null
           ],
           "y": [
            -0.15412187641066527,
            0.8448735676238719,
            null,
            0.8448735676238719,
            0.30924830878679443,
            null,
            0.30924830878679443,
            -0.15412187641066527,
            null,
            -0.04972616528667083,
            0.814607348104357,
            null,
            0.814607348104357,
            0.23511881718247332,
            null,
            0.23511881718247332,
            -0.04972616528667083,
            null
           ],
           "z": [
            -0.34002560907959967,
            0.5416048294211867,
            null,
            0.5416048294211867,
            -0.20157922034155862,
            null,
            -0.20157922034155862,
            -0.34002560907959967,
            null,
            -0.43472790817167317,
            -0.4132221879568538,
            null,
            -0.4132221879568538,
            0.36795009612854307,
            null,
            0.36795009612854307,
            -0.43472790817167317,
            null
           ]
          },
          {
           "i": [
            0,
            3
           ],
           "j": [
            1,
            4
           ],
           "k": [
            2,
            5
           ],
           "name": "Faces",
           "type": "mesh3d",
           "x": {
            "bdata": "9+4iFh+Xt78MQCY6OxDpP4Q8PFFRxdM/LwNPd01l8j+b0nV278f6Px2WHYlhaQFA",
            "dtype": "f8"
           },
           "y": {
            "bdata": "Lkkla7nK0z9OF2QBRLrDv0Zhxko0Ces/1Yg8l18Yzj/Oz1I7tXWpv2QQ5m1DEeo/",
            "dtype": "f8"
           },
           "z": {
            "bdata": "NMh1D1nNyb+8KLPF+sLVv2sHt6bTVOE/U6hbj36M1z96XxABldLbv29m0Hk7ctq/",
            "dtype": "f8"
           }
          }
         ],
         "layout": {
          "annotations": [
           {
            "showarrow": false,
            "text": "Time: 0.51s (Step: 52/100)",
            "x": 0.05,
            "xref": "paper",
            "y": 0.95,
            "yref": "paper"
           }
          ]
         },
         "name": "51"
        },
        {
         "data": [
          {
           "name": "Free Nodes",
           "type": "scatter3d",
           "x": {
            "bdata": "DtBtTVOdvL8yc2eAM6/nP4WOjNLtyNc/eCI51CQH8z+XVS77h5X6PwRFTJipMQFA",
            "dtype": "f8"
           },
           "y": {
            "bdata": "c8167EO+1D8o2BcOsRDAv1uPSE0Kpek/g6hiK9220j+SvsTK/zm0v15Jp2PRK+k/",
            "dtype": "f8"
           },
           "z": {
            "bdata": "IHdlGyPYw7/GoCH5qR/bvzQvasPdheI/tjg9wjf72T9qCyUYoi7Zv+m5fBJVPeC/",
            "dtype": "f8"
           }
          },
          {
           "name": "Fixed Nodes",
           "type": "scatter3d",
           "x": [],
           "y": [],
           "z": []
          },
          {
           "name": "Edges",
           "type": "scatter3d",
           "x": [
            0.7401368625538451,
            0.3716387325423301,
            null,
            0.3716387325423301,
            -0.1117755950961625,
            null,
            -0.1117755950961625,
            0.7401368625538451,
            null,
            1.661506634879833,
            2.1492492578769333,
            null,
            2.1492492578769333,
            1.1892441072433524,
            null,
            1.1892441072433524,
            1.661506634879833,
            null
           ],
           "y": [
            -0.12550938785688115,
            0.8013965138857019,
            null,
            0.8013965138857019,
            0.32411287397118044,
            null,
            0.32411287397118044,
            -0.12550938785688115,
            null,
            -0.07900999737170825,
            0.7865988680226044,
            null,
            0.7865988680226044,
            0.2924111293492688,
            null,
            0.2924111293492688,
            -0.07900999737170825,
            null
           ],
           "z": [
            -0.42380761460527727,
            0.5788410965628601,
            null,
            0.5788410965628601,
            -0.1550334819575534,
            null,
            -0.1550334819575534,
            -0.42380761460527727,
            null,
            -0.39347126348382366,
            -0.5074868546560626,
            null,
            -0.5074868546560626,
            0.4059581181399027,
            null,
            0.4059581181399027,
            -0.39347126348382366,
            null
           ]
          },
          {
           "i": [
            0,
            3
           ],
           "j": [
            1,
            4
           ],
           "k": [
            2,
            5
           ],
           "name": "Faces",
           "type": "mesh3d",
           "x": {
            "bdata": "DtBtTVOdvL8yc2eAM6/nP4WOjNLtyNc/eCI51CQH8z+XVS77h5X6PwRFTJipMQFA",
            "dtype": "f8"
           },
           "y": {
            "bdata": "c8167EO+1D8o2BcOsRDAv1uPSE0Kpek/g6hiK9220j+SvsTK/zm0v15Jp2PRK+k/",
            "dtype": "f8"
           },
           "z": {
            "bdata": "IHdlGyPYw7/GoCH5qR/bvzQvasPdheI/tjg9wjf72T9qCyUYoi7Zv+m5fBJVPeC/",
            "dtype": "f8"
           }
          }
         ],
         "layout": {
          "annotations": [
           {
            "showarrow": false,
            "text": "Time: 0.52s (Step: 53/100)",
            "x": 0.05,
            "xref": "paper",
            "y": 0.95,
            "yref": "paper"
           }
          ]
         },
         "name": "52"
        },
        {
         "data": [
          {
           "name": "Free Nodes",
           "type": "scatter3d",
           "x": {
            "bdata": "cMSwU0kIwL+GLfZzehrmPxkI7MEvz9s/7G+M5Ce/8z8SqKicemv6PxZ1Zb+u6gBA",
            "dtype": "f8"
           },
           "y": {
            "bdata": "HM7XyqeX1T9IwiuAc/C2v0aRmYo6Eug/obIqu2hu1j9ySUFyo/K5v9zVshAgB+g/",
            "dtype": "f8"
           },
           "z": {
            "bdata": "JzWe6Ybyu782iZAQB/Dfv1IMfGVUduM/R1rhAyv12z/mFv751YPWv2tZEAqWCuO/",
            "dtype": "f8"
           }
          },
          {
           "name": "Fixed Nodes",
           "type": "scatter3d",
           "x": [],
           "y": [],
           "z": []
          },
          {
           "name": "Edges",
           "type": "scatter3d",
           "x": [
            0.6907322182536724,
            0.43452066362090275,
            null,
            0.43452066362090275,
            -0.12525288187456196,
            null,
            -0.12525288187456196,
            0.6907322182536724,
            null,
            1.6512399787411636,
            2.1145911171758014,
            null,
            2.1145911171758014,
            1.234168904083158,
            null,
            1.234168904083158,
            1.6512399787411636,
            null
           ],
           "y": [
            -0.08960649375127006,
            0.7522251803425568,
            null,
            0.7522251803425568,
            0.33738131340871447,
            null,
            0.33738131340871447,
            -0.08960649375127006,
            null,
            -0.10135861911229485,
            0.7508697820800836,
            null,
            0.7508697820800836,
            0.3504888370323816,
            null,
            0.3504888370323816,
            -0.10135861911229485,
            null
           ],
           "z": [
            -0.49902512185703374,
            0.608194540226018,
            null,
            0.608194540226018,
            -0.10916941836895387,
            null,
            -0.10916941836895387,
            -0.49902512185703374,
            null,
            -0.35179662144979174,
            -0.5950422474441387,
            null,
            -0.5950422474441387,
            0.43683886889394724,
            null,
            0.43683886889394724,
            -0.35179662144979174,
            null
           ]
          },
          {
           "i": [
            0,
            3
           ],
           "j": [
            1,
            4
           ],
           "k": [
            2,
            5
           ],
           "name": "Faces",
           "type": "mesh3d",
           "x": {
            "bdata": "cMSwU0kIwL+GLfZzehrmPxkI7MEvz9s/7G+M5Ce/8z8SqKicemv6PxZ1Zb+u6gBA",
            "dtype": "f8"
           },
           "y": {
            "bdata": "HM7XyqeX1T9IwiuAc/C2v0aRmYo6Eug/obIqu2hu1j9ySUFyo/K5v9zVshAgB+g/",
            "dtype": "f8"
           },
           "z": {
            "bdata": "JzWe6Ybyu782iZAQB/Dfv1IMfGVUduM/R1rhAyv12z/mFv751YPWv2tZEAqWCuO/",
            "dtype": "f8"
           }
          }
         ],
         "layout": {
          "annotations": [
           {
            "showarrow": false,
            "text": "Time: 0.53s (Step: 54/100)",
            "x": 0.05,
            "xref": "paper",
            "y": 0.95,
            "yref": "paper"
           }
          ]
         },
         "name": "53"
        },
        {
         "data": [
          {
           "name": "Free Nodes",
           "type": "scatter3d",
           "x": {
            "bdata": "tyCdaWUSwb/M++XL813kP7iZAh1Lzd8/FeDbhxyL9D8L3InC5Ej6Pw4jzVr/lQBA",
            "dtype": "f8"
           },
           "y": {
            "bdata": "fK7/srha1j/WzvVZ1zaov7uFHxwRVuY/6vPUHUEs2j9peuX6FRa+v4g7cjCirOY/",
            "dtype": "f8"
           },
           "z": {
            "bdata": "dkoPBeaCsL+vM7zw5RHivxkeXrFCIuQ/TZAJ8DRz3T+eam0YX+HTvwrfmri3leW/",
            "dtype": "f8"
           }
          },
          {
           "name": "Fixed Nodes",
           "type": "scatter3d",
           "x": [],
           "y": [],
           "z": []
          },
          {
           "name": "Edges",
           "type": "scatter3d",
           "x": [
            0.6364687902822594,
            0.4969051154424977,
            null,
            0.4969051154424977,
            -0.13337390572474359,
            null,
            -0.13337390572474359,
            0.6364687902822594,
            null,
            1.642796287456579,
            2.0732409566738914,
            null,
            2.0732409566738914,
            1.2839627558696567,
            null,
            1.2839627558696567,
            1.642796287456579,
            null
           ],
           "y": [
            -0.04729340527674501,
            0.6980062054901092,
            null,
            0.6980062054901092,
            0.34928719978663714,
            null,
            0.34928719978663714,
            -0.04729340527674501,
            null,
            -0.11752450347328537,
            0.7085734316077472,
            null,
            0.7085734316077472,
            0.408951071865714,
            null,
            0.408951071865714,
            -0.11752450347328537,
            null
           ],
           "z": [
            -0.5646848394259133,
            0.6291821922504283,
            null,
            0.6291821922504283,
            -0.06449735282448352,
            null,
            -0.06449735282448352,
            -0.5646848394259133,
            null,
            -0.31063058267106125,
            -0.6745260816159953,
            null,
            -0.6745260816159953,
            0.46015666428707364,
            null,
            0.46015666428707364,
            -0.31063058267106125,
            null
           ]
          },
          {
           "i": [
            0,
            3
           ],
           "j": [
            1,
            4
           ],
           "k": [
            2,
            5
           ],
           "name": "Faces",
           "type": "mesh3d",
           "x": {
            "bdata": "tyCdaWUSwb/M++XL813kP7iZAh1Lzd8/FeDbhxyL9D8L3InC5Ej6Pw4jzVr/lQBA",
            "dtype": "f8"
           },
           "y": {
            "bdata": "fK7/srha1j/WzvVZ1zaov7uFHxwRVuY/6vPUHUEs2j9peuX6FRa+v4g7cjCirOY/",
            "dtype": "f8"
           },
           "z": {
            "bdata": "dkoPBeaCsL+vM7zw5RHivxkeXrFCIuQ/TZAJ8DRz3T+eam0YX+HTvwrfmri3leW/",
            "dtype": "f8"
           }
          }
         ],
         "layout": {
          "annotations": [
           {
            "showarrow": false,
            "text": "Time: 0.54s (Step: 55/100)",
            "x": 0.05,
            "xref": "paper",
            "y": 0.95,
            "yref": "paper"
           }
          ]
         },
         "name": "54"
        },
        {
         "data": [
          {
           "name": "Free Nodes",
           "type": "scatter3d",
           "x": {
            "bdata": "Ous9r8WDwb+6wYQSeIXiP5K5Sll52+E//7+bR45o9T+y+Fd8lyz6P88kBh5tNQBA",
            "dtype": "f8"
           },
           "y": {
            "bdata": "k+7IE7oL1z+c9t+ccF49P8TsByh3duQ/FiN6IUXo3T/05sanMmvAv5OuNBmqJuU/",
            "dtype": "f8"
           },
           "z": {
            "bdata": "2+nKViLIlb+1fYX3LNjjvyjWOwpuhuQ/OQqL30Vu3j/MqjayS1HRv2EQJSsr1ue/",
            "dtype": "f8"
           }
          },
          {
           "name": "Fixed Nodes",
           "type": "scatter3d",
           "x": [],
           "y": [],
           "z": []
          },
          {
           "name": "Edges",
           "type": "scatter3d",
           "x": [
            0.5787926065150295,
            0.558041262052756,
            null,
            0.558041262052756,
            -0.13683386856777152,
            null,
            -0.13683386856777152,
            0.5787926065150295,
            null,
            1.6358866555379277,
            2.026087030947202,
            null,
            2.026087030947202,
            1.3380263135150015,
            null,
            1.3380263135150015,
            1.6358866555379277,
            null
           ],
           "y": [
            0.00044813393913032697,
            0.6394611150602931,
            null,
            0.6394611150602931,
            0.3600907510005779,
            null,
            0.3600907510005779,
            0.00044813393913032697,
            null,
            -0.12827141945108844,
            0.6609697811413348,
            null,
            0.6609697811413348,
            0.467301638309935,
            null,
            0.467301638309935,
            -0.12827141945108844,
            null
           ],
           "z": [
            -0.620138629379588,
            0.641409893024222,
            null,
            0.641409893024222,
            -0.021271263644601617,
            null,
            -0.021271263644601617,
            -0.620138629379588,
            null,
            -0.2705868950239789,
            -0.7448936312362201,
            null,
            -0.7448936312362201,
            0.4754805262602165,
            null,
            0.4754805262602165,
            -0.2705868950239789,
            null
           ]
          },
          {
           "i": [
            0,
            3
           ],
           "j": [
            1,
            4
           ],
           "k": [
            2,
            5
           ],
           "name": "Faces",
           "type": "mesh3d",
           "x": {
            "bdata": "Ous9r8WDwb+6wYQSeIXiP5K5Sll52+E//7+bR45o9T+y+Fd8lyz6P88kBh5tNQBA",
            "dtype": "f8"
           },
           "y": {
            "bdata": "k+7IE7oL1z+c9t+ccF49P8TsByh3duQ/FiN6IUXo3T/05sanMmvAv5OuNBmqJuU/",
            "dtype": "f8"
           },
           "z": {
            "bdata": "2+nKViLIlb+1fYX3LNjjvyjWOwpuhuQ/OQqL30Vu3j/MqjayS1HRv2EQJSsr1ue/",
            "dtype": "f8"
           }
          }
         ],
         "layout": {
          "annotations": [
           {
            "showarrow": false,
            "text": "Time: 0.55s (Step: 56/100)",
            "x": 0.05,
            "xref": "paper",
            "y": 0.95,
            "yref": "paper"
           }
          ]
         },
         "name": "55"
        },
        {
         "data": [
          {
           "name": "Free Nodes",
           "type": "scatter3d",
           "x": {
            "bdata": "TXCLjNhuwb8pRTlSV5zgP2uX6dBev+M/vlBq28VU9j9fb0W9TBX6P0RCUGftlf8/",
            "dtype": "f8"
           },
           "y": {
            "bdata": "aqEjw6mu1z8OxKhE0OuqPxejIxrueeI/bKtsBmTM4D/p1+kR+zDBvyDRDb7af+M/",
            "dtype": "f8"
           },
           "z": {
            "bdata": "aenCckzwlD+26vZMLkjlv5jUYOmroOQ/Q1+YFjDg3j8zaGDPfbLNv7cKnfMHxum/",
            "dtype": "f8"
           }
          },
          {
           "name": "Fixed Nodes",
           "type": "scatter3d",
           "x": [],
           "y": [],
           "z": []
          },
          {
           "name": "Edges",
           "type": "scatter3d",
           "x": [
            0.5190846067363611,
            0.6171106415101638,
            null,
            0.6171106415101638,
            -0.13619524824651066,
            null,
            -0.13619524824651066,
            0.5190846067363611,
            null,
            1.6302001374633261,
            1.974103358810809,
            null,
            1.974103358810809,
            1.395696503726,
            null,
            1.395696503726,
            1.6302001374633261,
            null
           ],
           "y": [
            0.05258036459088809,
            0.57738404374422,
            null,
            0.57738404374422,
            0.3700355916648933,
            null,
            0.3700355916648933,
            0.05258036459088809,
            null,
            -0.1343072736232778,
            0.6093572341910978,
            null,
            0.6093572341910978,
            0.5249500394323667,
            null,
            0.5249500394323667,
            -0.1343072736232778,
            null
           ],
           "z": [
            -0.6650611403668651,
            0.6446132238549067,
            null,
            0.6446132238549067,
            0.02044791651199188,
            null,
            0.02044791651199188,
            -0.6650611403668651,
            null,
            -0.23200962663469368,
            -0.8054237135005086,
            null,
            -0.8054237135005086,
            0.48243334013522005,
            null,
            0.48243334013522005,
            -0.23200962663469368,
            null
           ]
          },
          {
           "i": [
            0,
            3
           ],
           "j": [
            1,
            4
           ],
           "k": [
            2,
            5
           ],
           "name": "Faces",
           "type": "mesh3d",
           "x": {
            "bdata": "TXCLjNhuwb8pRTlSV5zgP2uX6dBev+M/vlBq28VU9j9fb0W9TBX6P0RCUGftlf8/",
            "dtype": "f8"
           },
           "y": {
            "bdata": "aqEjw6mu1z8OxKhE0OuqPxejIxrueeI/bKtsBmTM4D/p1+kR+zDBvyDRDb7af+M/",
            "dtype": "f8"
           },
           "z": {
            "bdata": "aenCckzwlD+26vZMLkjlv5jUYOmroOQ/Q1+YFjDg3j8zaGDPfbLNv7cKnfMHxum/",
            "dtype": "f8"
           }
          }
         ],
         "layout": {
          "annotations": [
           {
            "showarrow": false,
            "text": "Time: 0.56s (Step: 57/100)",
            "x": 0.05,
            "xref": "paper",
            "y": 0.95,
            "yref": "paper"
           }
          ]
         },
         "name": "56"
        },
        {
         "data": [
          {
           "name": "Free Nodes",
           "type": "scatter3d",
           "x": {
            "bdata": "W07iGTzhwL85ByJI81ndP36QZ2JVi+U/TUw4mspM9z9g31Bc0QH6P8bWdglksf4/",
            "dtype": "f8"
           },
           "y": {
            "bdata": "G04Od71G2D8+UelfOqm7P9iue/h5Z+A/C1wd3GaZ4j/dzYh+TnDBvy7ehMOswuE/",
            "dtype": "f8"
           },
           "z": {
            "bdata": "/PS107cXrz/rDAOAm2Hmv9GuxwIgcOQ/TULcxVnE3j/Qrx8YsfbIv80+vUDxYeu/",
            "dtype": "f8"
           }
          },
          {
           "name": "Fixed Nodes",
           "type": "scatter3d",
           "x": [],
           "y": [],
           "z": []
          },
          {
           "name": "Edges",
           "type": "scatter3d",
           "x": [
            0.45861513179999097,
            0.6732584878887022,
            null,
            0.6732584878887022,
            -0.13187361968867858,
            null,
            -0.13187361968867858,
            0.45861513179999097,
            null,
            1.625443802460687,
            1.9183082933135878,
            null,
            1.9183082933135878,
            1.4562479042258645,
            null,
            1.4562479042258645,
            1.625443802460687,
            null
           ],
           "y": [
            0.10805096475207152,
            0.5126314023195517,
            null,
            0.5126314023195517,
            0.3793176329283782,
            null,
            0.3793176329283782,
            0.10805096475207152,
            null,
            -0.13623982599675247,
            0.5550140207987562,
            null,
            0.5550140207987562,
            0.5812258051981883,
            null,
            0.5812258051981883,
            -0.13623982599675247,
            null
           ],
           "z": [
            -0.6994149685127956,
            0.638687138967237,
            null,
            0.638687138967237,
            0.060727829545593054,
            null,
            0.060727829545593054,
            -0.6994149685127956,
            null,
            -0.19502843549650928,
            -0.8557058586538574,
            null,
            -0.8557058586538574,
            0.48073429415038477,
            null,
            0.48073429415038477,
            -0.19502843549650928,
            null
           ]
          },
          {
           "i": [
            0,
            3
           ],
           "j": [
            1,
            4
           ],
           "k": [
            2,
            5
           ],
           "name": "Faces",
           "type": "mesh3d",
           "x": {
            "bdata": "W07iGTzhwL85ByJI81ndP36QZ2JVi+U/TUw4mspM9z9g31Bc0QH6P8bWdglksf4/",
            "dtype": "f8"
           },
           "y": {
            "bdata": "G04Od71G2D8+UelfOqm7P9iue/h5Z+A/C1wd3GaZ4j/dzYh+TnDBvy7ehMOswuE/",
            "dtype": "f8"
           },
           "z": {
            "bdata": "/PS107cXrz/rDAOAm2Hmv9GuxwIgcOQ/TULcxVnE3j/Qrx8YsfbIv80+vUDxYeu/",
            "dtype": "f8"
           }
          }
         ],
         "layout": {
          "annotations": [
           {
            "showarrow": false,
            "text": "Time: 0.57s (Step: 58/100)",
            "x": 0.05,
            "xref": "paper",
            "y": 0.95,
            "yref": "paper"
           }
          ]
         },
         "name": "57"
        },
        {
         "data": [
          {
           "name": "Free Nodes",
           "type": "scatter3d",
           "x": {
            "bdata": "r+W1uabHv7+rVyL4OIHZP2eRJVtYOOc/Sq6xsWtN+D+CFi9JI/H5P7k9HwVxwf0/",
            "dtype": "f8"
           },
           "y": {
            "bdata": "E3ZQRRDW2D+mWQb34DnFPzZdLD//jNw//gOhgjVV5D8fzAG3AznBv/brPtYW8t8/",
            "dtype": "f8"
           },
           "z": {
            "bdata": "LVFj6TeGuT9CscgEKSbnv1tInAdi9eM/284XX0cY3j+OQ7UeXG7Ev520Y5PeqOy/",
            "dtype": "f8"
           }
          },
          {
           "name": "Fixed Nodes",
           "type": "scatter3d",
           "x": [],
           "y": [],
           "z": []
          },
          {
           "name": "Edges",
           "type": "scatter3d",
           "x": [
            0.3985121176896153,
            0.7256280689439735,
            null,
            0.7256280689439735,
            -0.12414018663357383,
            null,
            -0.12414018663357383,
            0.3985121176896153,
            null,
            1.6213715418574854,
            1.8597269249038233,
            null,
            1.8597269249038233,
            1.5189015332388345,
            null,
            1.5189015332388345,
            1.6213715418574854,
            null
           ],
           "y": [
            0.16582881986387327,
            0.4461057774473888,
            null,
            0.4461057774473888,
            0.3880654026887395,
            null,
            0.3880654026887395,
            0.16582881986387327,
            null,
            -0.1345524448002786,
            0.4991509525531791,
            null,
            0.4991509525531791,
            0.6354014922472968,
            null,
            0.6354014922472968,
            -0.1345524448002786,
            null
           ],
           "z": [
            -0.7234082311092964,
            0.6237039707796258,
            null,
            0.6237039707796258,
            0.09970426032970599,
            null,
            0.09970426032970599,
            -0.7234082311092964,
            null,
            -0.15961791514794438,
            -0.8956139448834112,
            null,
            -0.8956139448834112,
            0.4702318600313739,
            null,
            0.4702318600313739,
            -0.15961791514794438,
            null
           ]
          },
          {
           "i": [
            0,
            3
           ],
           "j": [
            1,
            4
           ],
           "k": [
            2,
            5
           ],
           "name": "Faces",
           "type": "mesh3d",
           "x": {
            "bdata": "r+W1uabHv7+rVyL4OIHZP2eRJVtYOOc/Sq6xsWtN+D+CFi9JI/H5P7k9HwVxwf0/",
            "dtype": "f8"
           },
           "y": {
            "bdata": "E3ZQRRDW2D+mWQb34DnFPzZdLD//jNw//gOhgjVV5D8fzAG3AznBv/brPtYW8t8/",
            "dtype": "f8"
           },
           "z": {
            "bdata": "LVFj6TeGuT9CscgEKSbnv1tInAdi9eM/284XX0cY3j+OQ7UeXG7Ev520Y5PeqOy/",
            "dtype": "f8"
           }
          }
         ],
         "layout": {
          "annotations": [
           {
            "showarrow": false,
            "text": "Time: 0.58s (Step: 59/100)",
            "x": 0.05,
            "xref": "paper",
            "y": 0.95,
            "yref": "paper"
           }
          ]
         },
         "name": "58"
        },
        {
         "data": [
          {
           "name": "Free Nodes",
           "type": "scatter3d",
           "x": {
            "bdata": "zjeHlYb2vL+2TxL2U77VP6m/p9emv+g/u+wT5U5T+T/6/uGthOL5P+IWCm0syvw/",
            "dtype": "f8"
           },
           "y": {
            "bdata": "1NddnHpd2T8MwwnXncrMP8RGHXg2Pdg/A3CZJ5355T/i66YJnJbAvy2koLUTWNw/",
            "dtype": "f8"
           },
           "z": {
            "bdata": "NuUZ44OawT8egMJqLZnnvxgI/HGMMuM/cUnFZfrb3D8tB7zteRXAv3nVpurRm+2/",
            "dtype": "f8"
           }
          },
          {
           "name": "Fixed Nodes",
           "type": "scatter3d",
           "x": [],
           "y": [],
           "z": []
          },
          {
           "name": "Edges",
           "type": "scatter3d",
           "x": [
            0.33974169760153516,
            0.773394986345001,
            null,
            0.773394986345001,
            -0.11313668394652085,
            null,
            -0.11313668394652085,
            0.33974169760153516,
            null,
            1.617802314023662,
            1.7993587741233843,
            null,
            1.7993587741233843,
            1.582838911853101,
            null,
            1.582838911853101,
            1.617802314023662,
            null
           ],
           "y": [
            0.22493336677464304,
            0.37873613099973746,
            null,
            0.37873613099973746,
            0.39633050222562116,
            null,
            0.39633050222562116,
            0.22493336677464304,
            null,
            -0.1295962378624998,
            0.4428757928567986,
            null,
            0.4428757928567986,
            0.6867204450059038,
            null,
            0.6867204450059038,
            -0.1295962378624998,
            null
           ],
           "z": [
            -0.737448414340182,
            0.5999204851398217,
            null,
            0.5999204851398217,
            0.13752792920039675,
            null,
            0.13752792920039675,
            -0.737448414340182,
            null,
            -0.12565540416840673,
            -0.9252709944764056,
            null,
            -0.9252709944764056,
            0.4509263986448309,
            null,
            0.4509263986448309,
            -0.12565540416840673,
            null
           ]
          },
          {
           "i": [
            0,
            3
           ],
           "j": [
            1,
            4
           ],
           "k": [
            2,
            5
           ],
           "name": "Faces",
           "type": "mesh3d",
           "x": {
            "bdata": "zjeHlYb2vL+2TxL2U77VP6m/p9emv+g/u+wT5U5T+T/6/uGthOL5P+IWCm0syvw/",
            "dtype": "f8"
           },
           "y": {
            "bdata": "1NddnHpd2T8MwwnXncrMP8RGHXg2Pdg/A3CZJ5355T/i66YJnJbAvy2koLUTWNw/",
            "dtype": "f8"
           },
           "z": {
            "bdata": "NuUZ44OawT8egMJqLZnnvxgI/HGMMuM/cUnFZfrb3D8tB7zteRXAv3nVpurRm+2/",
            "dtype": "f8"
           }
          }
         ],
         "layout": {
          "annotations": [
           {
            "showarrow": false,
            "text": "Time: 0.59s (Step: 60/100)",
            "x": 0.05,
            "xref": "paper",
            "y": 0.95,
            "yref": "paper"
           }
          ]
         },
         "name": "59"
        },
        {
         "data": [
          {
           "name": "Free Nodes",
           "type": "scatter3d",
           "x": {
            "bdata": "i9vWr3BRub8ngjfeTR7SP+wa3yYHG+o/Lrt3ywJb+j+S4O1bhdX5P+lmmth3z/s/",
            "dtype": "f8"
           },
           "y": {
            "bdata": "0G35KY7c2T+Y4xuPjDTSP7iu6kbl7tM/2WEkkGuA5z+hc54r1yC/v9fnnqpex9g/",
            "dtype": "f8"
           },
           "z": {
            "bdata": "QMkHYiBQxj+u0A/lPr/nv6/fjcw2K+I/Kn1XwSUS2z+eqqdZH823v0YQWHCDPe6/",
            "dtype": "f8"
           }
          },
          {
           "name": "Fixed Nodes",
           "type": "scatter3d",
           "x": [],
           "y": [],
           "z": []
          },
          {
           "name": "Edges",
           "type": "scatter3d",
           "x": [
            0.2830996198736408,
            0.8157993087014268,
            null,
            0.8157993087014268,
            -0.09889892857505182,
            null,
            -0.09889892857505182,
            0.2830996198736408,
            null,
            1.6146291342720684,
            1.7381514035282015,
            null,
            1.7381514035282015,
            1.6472194621998812,
            null,
            1.6472194621998812,
            1.6146291342720684,
            null
           ],
           "y": [
            0.2844573400066621,
            0.3114560310884644,
            null,
            0.3114560310884644,
            0.40408662890487523,
            null,
            0.40408662890487523,
            0.2844573400066621,
            null,
            -0.12159485640445535,
            0.3871685663431185,
            null,
            0.3871685663431185,
            0.7344262900615447,
            null,
            0.7344262900615447,
            -0.12159485640445535,
            null
           ],
           "z": [
            -0.7420954202521182,
            0.5677751536559209,
            null,
            0.5677751536559209,
            0.17432026659623467,
            null,
            0.17432026659623467,
            -0.7420954202521182,
            null,
            -0.09297367037621959,
            -0.9450089639872281,
            null,
            -0.9450089639872281,
            0.4229826343634665,
            null,
            0.4229826343634665,
            -0.09297367037621959,
            null
           ]
          },
          {
           "i": [
            0,
            3
           ],
           "j": [
            1,
            4
           ],
           "k": [
            2,
            5
           ],
           "name": "Faces",
           "type": "mesh3d",
           "x": {
            "bdata": "i9vWr3BRub8ngjfeTR7SP+wa3yYHG+o/Lrt3ywJb+j+S4O1bhdX5P+lmmth3z/s/",
            "dtype": "f8"
           },
           "y": {
            "bdata": "0G35KY7c2T+Y4xuPjDTSP7iu6kbl7tM/2WEkkGuA5z+hc54r1yC/v9fnnqpex9g/",
            "dtype": "f8"
           },
           "z": {
            "bdata": "QMkHYiBQxj+u0A/lPr/nv6/fjcw2K+I/Kn1XwSUS2z+eqqdZH823v0YQWHCDPe6/",
            "dtype": "f8"
           }
          }
         ],
         "layout": {
          "annotations": [
           {
            "showarrow": false,
            "text": "Time: 0.60s (Step: 61/100)",
            "x": 0.05,
            "xref": "paper",
            "y": 0.95,
            "yref": "paper"
           }
          ]
         },
         "name": "60"
        },
        {
         "data": [
          {
           "name": "Free Nodes",
           "type": "scatter3d",
           "x": {
            "bdata": "k3x6qrXVtL9sXzZs0FbNP0m4QZoCRes/8FwS3RJh+z8I53IeBMr5P8O+egTp1Po/",
            "dtype": "f8"
           },
           "y": {
            "bdata": "XhEGIa9R2j/sftXqQ/3VP7HfSOgZYs8/UiJQ+avj6D8cC5nmH1S8vyMNBgewTdU/",
            "dtype": "f8"
           },
           "z": {
            "bdata": "rGvdxtXlyj/r/Z21053nv1uk5kNe5OA/rRa0PTvA2D8n4tiaqHCvv7LYu9cIku6/",
            "dtype": "f8"
           }
          },
          {
           "name": "Fixed Nodes",
           "type": "scatter3d",
           "x": [],
           "y": [],
           "z": []
          },
          {
           "name": "Edges",
           "type": "scatter3d",
           "x": [
            0.22921185764129903,
            0.8521740925623443,
            null,
            0.8521740925623443,
            -0.0813859502036272,
            null,
            -0.0813859502036272,
            0.22921185764129903,
            null,
            1.6118203343780255,
            1.676980035303061,
            null,
            1.676980035303061,
            1.7111996303190686,
            null,
            1.7111996303190686,
            1.6118203343780255,
            null
           ],
           "y": [
            0.3435830872822254,
            0.24518131105446409,
            null,
            0.24518131105446409,
            0.4112356016633124,
            null,
            0.4112356016633124,
            0.3435830872822254,
            null,
            -0.11065863971547824,
            0.33286667524244445,
            null,
            0.33286667524244445,
            0.7777919644732469,
            null,
            0.7777919644732469,
            -0.11065863971547824,
            null
           ],
           "z": [
            -0.738015989991195,
            0.5278769804182376,
            null,
            0.5278769804182376,
            0.21013900957299592,
            null,
            0.21013900957299592,
            -0.738015989991195,
            null,
            -0.06140639200424785,
            -0.9553264821577356,
            null,
            -0.9553264821577356,
            0.38673287416200247,
            null,
            0.38673287416200247,
            -0.06140639200424785,
            null
           ]
          },
          {
           "i": [
            0,
            3
           ],
           "j": [
            1,
            4
           ],
           "k": [
            2,
            5
           ],
           "name": "Faces",
           "type": "mesh3d",
           "x": {
            "bdata": "k3x6qrXVtL9sXzZs0FbNP0m4QZoCRes/8FwS3RJh+z8I53IeBMr5P8O+egTp1Po/",
            "dtype": "f8"
           },
           "y": {
            "bdata": "XhEGIa9R2j/sftXqQ/3VP7HfSOgZYs8/UiJQ+avj6D8cC5nmH1S8vyMNBgewTdU/",
            "dtype": "f8"
           },
           "z": {
            "bdata": "rGvdxtXlyj/r/Z21053nv1uk5kNe5OA/rRa0PTvA2D8n4tiaqHCvv7LYu9cIku6/",
            "dtype": "f8"
           }
          }
         ],
         "layout": {
          "annotations": [
           {
            "showarrow": false,
            "text": "Time: 0.61s (Step: 62/100)",
            "x": 0.05,
            "xref": "paper",
            "y": 0.95,
            "yref": "paper"
           }
          ]
         },
         "name": "61"
        },
        {
         "data": [
          {
           "name": "Free Nodes",
           "type": "scatter3d",
           "x": {
            "bdata": "taBMFnT7rr8zzhUqftrGPxRX37YXOew/862t+Rti/D9f+oyFKcD5P3xaxYC63fk/",
            "dtype": "f8"
           },
           "y": {
            "bdata": "MtmLtkS62j82LtBQsrPZP3vxR/ERJMc/5j3ly98d6j916VtSO8i4v/CNzDxP9tE/",
            "dtype": "f8"
           },
           "z": {
            "bdata": "/YZCVaZazz/bb9Tn6DrnvwGfB6V+yN4/+K2ZB1fu1T+h62lysJCfv5b3dgp9nu6/",
            "dtype": "f8"
           }
          },
          {
           "name": "Fixed Nodes",
           "type": "scatter3d",
           "x": [],
           "y": [],
           "z": []
          },
          {
           "name": "Edges",
           "type": "scatter3d",
           "x": [
            0.17854287199917138,
            0.8819693156935693,
            null,
            0.8819693156935693,
            -0.060512187692724075,
            null,
            -0.060512187692724075,
            0.17854287199917138,
            null,
            1.6094145981620824,
            1.6166329412568805,
            null,
            1.6166329412568805,
            1.7739524605811965,
            null,
            1.7739524605811965,
            1.6094145981620824,
            null
           ],
           "y": [
            0.40159280673899234,
            0.18078827172565667,
            null,
            0.18078827172565667,
            0.41761892153535307,
            null,
            0.41761892153535307,
            0.40159280673899234,
            null,
            -0.09680529366224795,
            0.28065854012876823,
            null,
            0.28065854012876823,
            0.8161467535336981,
            null,
            0.8161467535336981,
            -0.09680529366224795,
            null
           ],
           "z": [
            -0.7259411361624147,
            0.48098722568691704,
            null,
            0.48098722568691704,
            0.2449539104755373,
            null,
            0.2449539104755373,
            -0.7259411361624147,
            null,
            -0.030825383170376978,
            -0.9568467335118267,
            null,
            -0.9568467335118267,
            0.34267211668222286,
            null,
            0.34267211668222286,
            -0.030825383170376978,
            null
           ]
          },
          {
           "i": [
            0,
            3
           ],
           "j": [
            1,
            4
           ],
           "k": [
            2,
            5
           ],
           "name": "Faces",
           "type": "mesh3d",
           "x": {
            "bdata": "taBMFnT7rr8zzhUqftrGPxRX37YXOew/862t+Rti/D9f+oyFKcD5P3xaxYC63fk/",
            "dtype": "f8"
           },
           "y": {
            "bdata": "MtmLtkS62j82LtBQsrPZP3vxR/ERJMc/5j3ly98d6j916VtSO8i4v/CNzDxP9tE/",
            "dtype": "f8"
           },
           "z": {
            "bdata": "/YZCVaZazz/bb9Tn6DrnvwGfB6V+yN4/+K2ZB1fu1T+h62lysJCfv5b3dgp9nu6/",
            "dtype": "f8"
           }
          }
         ],
         "layout": {
          "annotations": [
           {
            "showarrow": false,
            "text": "Time: 0.62s (Step: 63/100)",
            "x": 0.05,
            "xref": "paper",
            "y": 0.95,
            "yref": "paper"
           }
          ]
         },
         "name": "62"
        },
        {
         "data": [
          {
           "name": "Free Nodes",
           "type": "scatter3d",
           "x": {
            "bdata": "c7Z2/kSGor8iqaHMC9LAP7gBv1zh8+w/49MBYeBa/T9k5FGdXbj5P5tKrAHC7Pg/",
            "dtype": "f8"
           },
           "y": {
            "bdata": "jipzIvsS2z+HxWE4y03dP01ArJTmfL4/UHz0+jAq6z9VhWx04nm0v+dwZE4tlM0/",
            "dtype": "f8"
           },
           "z": {
            "bdata": "IuVvhR3V0T+WL4oAspzmv+h8pHtGZNs/d41JKw6n0j9q23PSwCdTvz4RJ4eraO6/",
            "dtype": "f8"
           }
          },
          {
           "name": "Fixed Nodes",
           "type": "scatter3d",
           "x": [],
           "y": [],
           "z": []
          },
          {
           "name": "Edges",
           "type": "scatter3d",
           "x": [
            0.13141009799739672,
            0.9047705470512062,
            null,
            0.9047705470512062,
            -0.03618064504858589,
            null,
            -0.03618064504858589,
            0.13141009799739672,
            null,
            1.6075111527736903,
            1.5578022065498434,
            null,
            1.5578022065498434,
            1.8346866406766302,
            null,
            1.8346866406766302,
            1.6075111527736903,
            null
           ],
           "y": [
            0.4578731585125628,
            0.11909333352764513,
            null,
            0.11909333352764513,
            0.42303350795979433,
            null,
            0.42303350795979433,
            0.4578731585125628,
            null,
            -0.07998481123333552,
            0.23108450248481135,
            null,
            0.23108450248481135,
            0.8489003087487479,
            null,
            0.8489003087487479,
            -0.07998481123333552,
            null
           ],
           "z": [
            -0.7066278467695948,
            0.42799532007661734,
            null,
            0.42799532007661734,
            0.2786325266930182,
            null,
            0.2786325266930182,
            -0.7066278467695948,
            null,
            -0.0011691458728912648,
            -0.9502771033954003,
            null,
            -0.9502771033954003,
            0.2914462492683109,
            null,
            0.2914462492683109,
            -0.0011691458728912648,
            null
           ]
          },
          {
           "i": [
            0,
            3
           ],
           "j": [
            1,
            4
           ],
           "k": [
            2,
            5
           ],
           "name": "Faces",
           "type": "mesh3d",
           "x": {
            "bdata": "c7Z2/kSGor8iqaHMC9LAP7gBv1zh8+w/49MBYeBa/T9k5FGdXbj5P5tKrAHC7Pg/",
            "dtype": "f8"
           },
           "y": {
            "bdata": "jipzIvsS2z+HxWE4y03dP01ArJTmfL4/UHz0+jAq6z9VhWx04nm0v+dwZE4tlM0/",
            "dtype": "f8"
           },
           "z": {
            "bdata": "IuVvhR3V0T+WL4oAspzmv+h8pHtGZNs/d41JKw6n0j9q23PSwCdTvz4RJ4eraO6/",
            "dtype": "f8"
           }
          }
         ],
         "layout": {
          "annotations": [
           {
            "showarrow": false,
            "text": "Time: 0.63s (Step: 64/100)",
            "x": 0.05,
            "xref": "paper",
            "y": 0.95,
            "yref": "paper"
           }
          ]
         },
         "name": "63"
        },
        {
         "data": [
          {
           "name": "Free Nodes",
           "type": "scatter3d",
           "x": {
            "bdata": "LuNImooHgb8U10BUYoe2P0cJ4d8xc+0/sFjcUVpI/j91AQ/aObP5P9GoFNRrBPg/",
            "dtype": "f8"
           },
           "y": {
            "bdata": "KGJpwhFY2z9YKbEVm2HgP5RaopHAJa8/mqYAl5wE7D8dMsZqUMauv1wSr74hn8c/",
            "dtype": "f8"
           },
           "z": {
            "bdata": "gDWzdl/m0z/TaqXDU8nlvxmjlxBIrNc/Pgaay0nuzT+Z++l3vTKcP1ZqP/jB9u2/",
            "dtype": "f8"
           }
          },
          {
           "name": "Fixed Nodes",
           "type": "scatter3d",
           "x": [],
           "y": [],
           "z": []
          },
          {
           "name": "Edges",
           "type": "scatter3d",
           "x": [
            0.08800329739537133,
            0.9203118679654744,
            null,
            0.9203118679654744,
            -0.008315165360828294,
            null,
            -0.008315165360828294,
            0.08800329739537133,
            null,
            1.6062563436426818,
            1.5010793957140331,
            null,
            1.5010793957140331,
            1.8926642606434534,
            null,
            1.8926642606434534,
            1.6062563436426818,
            null
           ],
           "y": [
            0.5119147704765892,
            0.06083490159760632,
            null,
            0.06083490159760632,
            0.42725032792580686,
            null,
            0.42725032792580686,
            0.5119147704765892,
            null,
            -0.060106766733131624,
            0.18454381762252836,
            null,
            0.18454381762252836,
            0.8755629491108323,
            null,
            0.8755629491108323,
            -0.060106766733131624,
            null
           ],
           "z": [
            -0.6808260747160041,
            0.36989022846550906,
            null,
            0.36989022846550906,
            0.31093584625053694,
            null,
            0.31093584625053694,
            -0.6808260747160041,
            null,
            0.027537308162660066,
            -0.9363717888439378,
            null,
            -0.9363717888439378,
            0.23383448068129725,
            null,
            0.23383448068129725,
            0.027537308162660066,
            null
           ]
          },
          {
           "i": [
            0,
            3
           ],
           "j": [
            1,
            4
           ],
           "k": [
            2,
            5
           ],
           "name": "Faces",
           "type": "mesh3d",
           "x": {
            "bdata": "LuNImooHgb8U10BUYoe2P0cJ4d8xc+0/sFjcUVpI/j91AQ/aObP5P9GoFNRrBPg/",
            "dtype": "f8"
           },
           "y": {
            "bdata": "KGJpwhFY2z9YKbEVm2HgP5RaopHAJa8/mqYAl5wE7D8dMsZqUMauv1wSr74hn8c/",
            "dtype": "f8"
           },
           "z": {
            "bdata": "gDWzdl/m0z/TaqXDU8nlvxmjlxBIrNc/Pgaay0nuzT+Z++l3vTKcP1ZqP/jB9u2/",
            "dtype": "f8"
           }
          }
         ],
         "layout": {
          "annotations": [
           {
            "showarrow": false,
            "text": "Time: 0.64s (Step: 65/100)",
            "x": 0.05,
            "xref": "paper",
            "y": 0.95,
            "yref": "paper"
           }
          ]
         },
         "name": "64"
        },
        {
         "data": [
          {
           "name": "Free Nodes",
           "type": "scatter3d",
           "x": {
            "bdata": "5mCQeRyqlz8Y46k23MioP2jfyFghtu0/RwtMr8wn/z8Fi9tgeLH5P71s2O+6Jvc/",
            "dtype": "f8"
           },
           "y": {
            "bdata": "jLOgHbCF2z/saITgnAbiPxGynlWIRXs/zN5EjhSq7D9qa1q4ofqiv6lAAzVWFsI/",
            "dtype": "f8"
           },
           "z": {
            "bdata": "tXXqj4Tb1T9BMIzMq8bkv9TtLQnTsdM/4NzskWLaxT9B/TMiZz+sP28k5vcJT+2/",
            "dtype": "f8"
           }
          },
          {
           "name": "Fixed Nodes",
           "type": "scatter3d",
           "x": [],
           "y": [],
           "z": []
          },
          {
           "name": "Edges",
           "type": "scatter3d",
           "x": [
            0.04840744178085837,
            0.928482697875535,
            null,
            0.928482697875535,
            0.02310986034362452,
            null,
            0.02310986034362452,
            0.04840744178085837,
            null,
            1.6058276923656092,
            1.4469556206666276,
            null,
            1.4469556206666276,
            1.9472166869679357,
            null,
            1.9472166869679357,
            1.6058276923656092,
            null
           ],
           "y": [
            0.5633072266676016,
            0.006658108288246215,
            null,
            0.006658108288246215,
            0.43003466504415466,
            null,
            0.43003466504415466,
            0.5633072266676016,
            null,
            -0.0370684182682542,
            0.141306663403616,
            null,
            0.141306663403616,
            0.8957617548648726,
            null,
            0.8957617548648726,
            -0.0370684182682542,
            null
           ],
           "z": [
            -0.6492518420286687,
            0.3077285375254324,
            null,
            0.3077285375254324,
            0.34152330450327933,
            null,
            0.34152330450327933,
            -0.6492518420286687,
            null,
            0.05517122547643761,
            -0.9158983079697814,
            null,
            -0.9158983079697814,
            0.17072708249336355,
            null,
            0.17072708249336355,
            0.05517122547643761,
            null
           ]
          },
          {
           "i": [
            0,
            3
           ],
           "j": [
            1,
            4
           ],
           "k": [
            2,
            5
           ],
           "name": "Faces",
           "type": "mesh3d",
           "x": {
            "bdata": "5mCQeRyqlz8Y46k23MioP2jfyFghtu0/RwtMr8wn/z8Fi9tgeLH5P71s2O+6Jvc/",
            "dtype": "f8"
           },
           "y": {
            "bdata": "jLOgHbCF2z/saITgnAbiPxGynlWIRXs/zN5EjhSq7D9qa1q4ofqiv6lAAzVWFsI/",
            "dtype": "f8"
           },
           "z": {
            "bdata": "tXXqj4Tb1T9BMIzMq8bkv9TtLQnTsdM/4NzskWLaxT9B/TMiZz+sP28k5vcJT+2/",
            "dtype": "f8"
           }
          }
         ],
         "layout": {
          "annotations": [
           {
            "showarrow": false,
            "text": "Time: 0.65s (Step: 66/100)",
            "x": 0.05,
            "xref": "paper",
            "y": 0.95,
            "yref": "paper"
           }
          ]
         },
         "name": "65"
        },
        {
         "data": [
          {
           "name": "Free Nodes",
           "type": "scatter3d",
           "x": {
            "bdata": "eIe48+63rT+wyQzvlNyJPwZFCL0Ove0/er8GJ9H2/z8insS84bP5P4ClNBxNVfY/",
            "dtype": "f8"
           },
           "y": {
            "bdata": "TDwFgDyY2z9Q+8E+S5PjP/iVSeyX9qW/avrZ1JcY7T/oe60CABWGv7Ifhlnh/bk/",
            "dtype": "f8"
           },
           "z": {
            "bdata": "nETR+Yet1z+/BMRXJprjv/uPbWuJDc8/CZ3r7rlkuj96hGKFyd20Pw2Gf5esd+y/",
            "dtype": "f8"
           }
          },
          {
           "name": "Fixed Nodes",
           "type": "scatter3d",
           "x": [],
           "y": [],
           "z": []
          },
          {
           "name": "Edges",
           "type": "scatter3d",
           "x": [
            0.012627757592416383,
            0.9293283168828175,
            null,
            0.9293283168828175,
            0.05804392552478438,
            null,
            0.05804392552478438,
            0.012627757592416383,
            null,
            1.6064164518119317,
            1.3958254911215988,
            null,
            1.3958254911215988,
            1.9977580570666462,
            null,
            1.9977580570666462,
            1.6064164518119317,
            null
           ],
           "y": [
            0.611730215619767,
            -0.04289698371284695,
            null,
            -0.04289698371284695,
            0.4311667680930824,
            null,
            0.4311667680930824,
            0.611730215619767,
            null,
            -0.010782241899219572,
            0.10153015552179914,
            null,
            0.10153015552179914,
            0.9092520863776603,
            null,
            0.9092520863776603,
            -0.010782241899219572,
            null
           ],
           "z": [
            -0.6125671114133623,
            0.2426006102133441,
            null,
            0.2426006102133441,
            0.36996650120006236,
            null,
            0.36996650120006236,
            -0.6125671114133623,
            null,
            0.08150920397248909,
            -0.889608665365985,
            null,
            -0.889608665365985,
            0.10309946139351579,
            null,
            0.10309946139351579,
            0.08150920397248909,
            null
           ]
          },
          {
           "i": [
            0,
            3
           ],
           "j": [
            1,
            4
           ],
           "k": [
            2,
            5
           ],
           "name": "Faces",
           "type": "mesh3d",
           "x": {
            "bdata": "eIe48+63rT+wyQzvlNyJPwZFCL0Ove0/er8GJ9H2/z8insS84bP5P4ClNBxNVfY/",
            "dtype": "f8"
           },
           "y": {
            "bdata": "TDwFgDyY2z9Q+8E+S5PjP/iVSeyX9qW/avrZ1JcY7T/oe60CABWGv7Ifhlnh/bk/",
            "dtype": "f8"
           },
           "z": {
            "bdata": "nETR+Yet1z+/BMRXJprjv/uPbWuJDc8/CZ3r7rlkuj96hGKFyd20Pw2Gf5esd+y/",
            "dtype": "f8"
           }
          }
         ],
         "layout": {
          "annotations": [
           {
            "showarrow": false,
            "text": "Time: 0.66s (Step: 67/100)",
            "x": 0.05,
            "xref": "paper",
            "y": 0.95,
            "yref": "paper"
           }
          ]
         },
         "name": "66"
        },
        {
         "data": [
          {
           "name": "Free Nodes",
           "type": "scatter3d",
           "x": {
            "bdata": "dFsuZcSpuD9JGg6Th9mTvwym8q+Tie0/8GOms7FZAEDbihUGOrv5P3WwnZJikfU/",
            "dtype": "f8"
           },
           "y": {
            "bdata": "UnXUza6M2z9mN8pyqgXlP76Po80OYLa/T89bXEBP7T8kO8DC4T+TP8u7cawEtrA/",
            "dtype": "f8"
           },
           "z": {
            "bdata": "8JVIPE5U2T90khcpo0jiv1EkzSvwecY/Hcyo6CZgoD+aD5z7CDK7Pwvlof6Aduu/",
            "dtype": "f8"
           }
          },
          {
           "name": "Fixed Nodes",
           "type": "scatter3d",
           "x": [],
           "y": [],
           "z": []
          },
          {
           "name": "Edges",
           "type": "scatter3d",
           "x": [
            -0.019384497023134526,
            0.923044055603158,
            null,
            0.923044055603158,
            0.09634044141999515,
            null,
            0.09634044141999515,
            -0.019384497023134526,
            null,
            1.6082096326505766,
            1.3479943968950725,
            null,
            1.3479943968950725,
            2.043795970454532,
            null,
            2.043795970454532,
            1.6082096326505766,
            null
           ],
           "y": [
            0.6569416276922595,
            -0.08740322609406712,
            null,
            -0.08740322609406712,
            0.4304615984018102,
            null,
            0.4304615984018102,
            0.6569416276922595,
            null,
            0.01879837752499748,
            0.06527737817826489,
            null,
            0.06527737817826489,
            0.9159242442969829,
            null,
            0.9159242442969829,
            0.01879837752499748,
            null
           ],
           "z": [
            -0.5713668634967477,
            0.1755962575792034,
            null,
            0.1755962575792034,
            0.3957706059175896,
            null,
            0.3957706059175896,
            -0.5713668634967477,
            null,
            0.10623222487271136,
            -0.8582158063210569,
            null,
            -0.8582158063210569,
            0.03198358144836553,
            null,
            0.03198358144836553,
            0.10623222487271136,
            null
           ]
          },
          {
           "i": [
            0,
            3
           ],
           "j": [
            1,
            4
           ],
           "k": [
            2,
            5
           ],
           "name": "Faces",
           "type": "mesh3d",
           "x": {
            "bdata": "dFsuZcSpuD9JGg6Th9mTvwym8q+Tie0/8GOms7FZAEDbihUGOrv5P3WwnZJikfU/",
            "dtype": "f8"
           },
           "y": {
            "bdata": "UnXUza6M2z9mN8pyqgXlP76Po80OYLa/T89bXEBP7T8kO8DC4T+TP8u7cawEtrA/",
            "dtype": "f8"
           },
           "z": {
            "bdata": "8JVIPE5U2T90khcpo0jiv1EkzSvwecY/Hcyo6CZgoD+aD5z7CDK7Pwvlof6Aduu/",
            "dtype": "f8"
           }
          }
         ],
         "layout": {
          "annotations": [
           {
            "showarrow": false,
            "text": "Time: 0.67s (Step: 68/100)",
            "x": 0.05,
            "xref": "paper",
            "y": 0.95,
            "yref": "paper"
           }
          ]
         },
         "name": "67"
        },
        {
         "data": [
          {
           "name": "Free Nodes",
           "type": "scatter3d",
           "x": {
            "bdata": "96f8cpWhwT8MiIGXDW2ovy/vuHxrHu0/BuxRgfStAEChmiF/Lsj5P5iQOn7o2/Q/",
            "dtype": "f8"
           },
           "y": {
            "bdata": "bwafMtpg2z9zSqdNRVzmP0k225vJMsC/VbeobkZO7T9qz7kuuXKqP2tIu+bfqKA/",
            "dtype": "f8"
           },
           "z": {
            "bdata": "GU2HYRnH2j8mwsXhadbgv+HpEIjplrs/JK6J5qNHpb9vBcnwCoHAP0iRGzbnUOq/",
            "dtype": "f8"
           }
          },
          {
           "name": "Fixed Nodes",
           "type": "scatter3d",
           "x": [],
           "y": [],
           "z": []
          },
          {
           "name": "Edges",
           "type": "scatter3d",
           "x": [
            -0.04770700907171496,
            0.9099633632645004,
            null,
            0.9099633632645004,
            0.1377436458072336,
            null,
            0.1377436458072336,
            -0.04770700907171496,
            null,
            1.6113724676194254,
            1.3036885195552141,
            null,
            1.3036885195552141,
            2.0849390128255463,
            null,
            2.0849390128255463,
            1.6113724676194254,
            null
           ],
           "y": [
            0.6987635151547934,
            -0.12654991254969364,
            null,
            -0.12654991254969364,
            0.42778639739490293,
            null,
            0.42778639739490293,
            0.6987635151547934,
            null,
            0.05165651984580573,
            0.03253841105983287,
            null,
            0.03253841105983287,
            0.9158050690946121,
            null,
            0.9158050690946121,
            0.05165651984580573,
            null
           ],
           "z": [
            -0.5261735353106516,
            0.10777148792195802,
            null,
            0.10777148792195802,
            0.41840204738874004,
            null,
            0.41840204738874004,
            -0.5261735353106516,
            null,
            0.12893807179538494,
            -0.822375875166963,
            null,
            -0.822375875166963,
            -0.04156219662840169,
            null,
            -0.04156219662840169,
            0.12893807179538494,
            null
           ]
          },
          {
           "i": [
            0,
            3
           ],
           "j": [
            1,
            4
           ],
           "k": [
            2,
            5
           ],
           "name": "Faces",
           "type": "mesh3d",
           "x": {
            "bdata": "96f8cpWhwT8MiIGXDW2ovy/vuHxrHu0/BuxRgfStAEChmiF/Lsj5P5iQOn7o2/Q/",
            "dtype": "f8"
           },
           "y": {
            "bdata": "bwafMtpg2z9zSqdNRVzmP0k225vJMsC/VbeobkZO7T9qz7kuuXKqP2tIu+bfqKA/",
            "dtype": "f8"
           },
           "z": {
            "bdata": "GU2HYRnH2j8mwsXhadbgv+HpEIjplrs/JK6J5qNHpb9vBcnwCoHAP0iRGzbnUOq/",
            "dtype": "f8"
           }
          }
         ],
         "layout": {
          "annotations": [
           {
            "showarrow": false,
            "text": "Time: 0.68s (Step: 69/100)",
            "x": 0.05,
            "xref": "paper",
            "y": 0.95,
            "yref": "paper"
           }
          ]
         },
         "name": "68"
        },
        {
         "data": [
          {
           "name": "Free Nodes",
           "type": "scatter3d",
           "x": {
            "bdata": "bZvLOvRHxz9yL43xWoqyv8O/fk9Of+w/zblM2Zr3AEDN8YqqRNv5P/Od26KFNfQ/",
            "dtype": "f8"
           },
           "y": {
            "bdata": "qTIrkagT2z9NqOZqDZbnPyAG8c2Gf8S/92XaOvkW7T+opdENEnO2P99WbmuDpGo/",
            "dtype": "f8"
           },
           "z": {
            "bdata": "OoHCxA/92z9Ygr+vWo7ev8gj6FdXiqQ/4EXBSuDRvb9CGO+4rxfDP5uc4+SvC+m/",
            "dtype": "f8"
           }
          },
          {
           "name": "Fixed Nodes",
           "type": "scatter3d",
           "x": [],
           "y": [],
           "z": []
          },
          {
           "name": "Edges",
           "type": "scatter3d",
           "x": [
            -0.07242363354924722,
            0.8905402710570275,
            null,
            0.8905402710570275,
            0.18188336249223927,
            null,
            0.18188336249223927,
            -0.07242363354924722,
            null,
            1.6160322820497754,
            1.2630668985019582,
            null,
            1.2630668985019582,
            2.120900819448457,
            null,
            2.120900819448457,
            1.6160322820497754,
            null
           ],
           "y": [
            0.7370669448766961,
            -0.16014180236565867,
            null,
            -0.16014180236565867,
            0.4230748574889654,
            null,
            0.4230748574889654,
            0.7370669448766961,
            null,
            0.08769333684326475,
            0.003252274207123359,
            null,
            0.003252274207123359,
            0.909054388949868,
            null,
            0.909054388949868,
            0.08769333684326475,
            null
           ],
           "z": [
            -0.47743861353777595,
            0.040117959481058174,
            null,
            0.040117959481058174,
            0.43732065405676546,
            null,
            0.43732065405676546,
            -0.47743861353777595,
            null,
            0.14916035203913408,
            -0.782676646279373,
            null,
            -0.782676646279373,
            -0.11648370575974054,
            null,
            -0.11648370575974054,
            0.14916035203913408,
            null
           ]
          },
          {
           "i": [
            0,
            3
           ],
           "j": [
            1,
            4
           ],
           "k": [
            2,
            5
           ],
           "name": "Faces",
           "type": "mesh3d",
           "x": {
            "bdata": "bZvLOvRHxz9yL43xWoqyv8O/fk9Of+w/zblM2Zr3AEDN8YqqRNv5P/Od26KFNfQ/",
            "dtype": "f8"
           },
           "y": {
            "bdata": "qTIrkagT2z9NqOZqDZbnPyAG8c2Gf8S/92XaOvkW7T+opdENEnO2P99WbmuDpGo/",
            "dtype": "f8"
           },
           "z": {
            "bdata": "OoHCxA/92z9Ygr+vWo7ev8gj6FdXiqQ/4EXBSuDRvb9CGO+4rxfDP5uc4+SvC+m/",
            "dtype": "f8"
           }
          }
         ],
         "layout": {
          "annotations": [
           {
            "showarrow": false,
            "text": "Time: 0.69s (Step: 70/100)",
            "x": 0.05,
            "xref": "paper",
            "y": 0.95,
            "yref": "paper"
           }
          ]
         },
         "name": "69"
        },
        {
         "data": [
          {
           "name": "Free Nodes",
           "type": "scatter3d",
           "x": {
            "bdata": "Kt9K6Tc4zT+knqTYg/a3v77cwYDCsOs/ACGK4kU2AUDIkejay/T5P6gvA2ConvM/",
            "dtype": "f8"
           },
           "y": {
            "bdata": "8BulP0Ol2j8mdyZtO7LoPwsU5DN0E8i/+PWcuayr7D+pSpUyMjjAP+DtR8goN5e/",
            "dtype": "f8"
           },
           "z": {
            "bdata": "9/H+LMzt3D/9VzQ0OTzbv5FoqYwvGZu/RKjmrZ2LyL8bYubvXUzFPzQCLlgRq+e/",
            "dtype": "f8"
           }
          },
          {
           "name": "Fixed Nodes",
           "type": "scatter3d",
           "x": [],
           "y": [],
           "z": []
          },
          {
           "name": "Edges",
           "type": "scatter3d",
           "x": [
            -0.09360527075898034,
            0.8653271212378042,
            null,
            0.8653271212378042,
            0.22827814952119613,
            null,
            0.22827814952119613,
            -0.09360527075898034,
            null,
            1.6222647238838466,
            1.2262347937093896,
            null,
            1.2262347937093896,
            2.1515004824069592,
            null,
            2.1515004824069592,
            1.6222647238838466,
            null
           ],
           "y": [
            0.771756852325528,
            -0.18809368642556054,
            null,
            -0.18809368642556054,
            0.4163368341000355,
            null,
            0.4163368341000355,
            0.771756852325528,
            null,
            0.12671496839410182,
            -0.022671353553944118,
            null,
            -0.022671353553944118,
            0.8959563851601038,
            null,
            0.8959563851601038,
            0.12671496839410182,
            null
           ],
           "z": [
            -0.42555074785320796,
            -0.02646326347380829,
            null,
            -0.02646326347380829,
            0.45201401132706515,
            null,
            0.45201401132706515,
            -0.42555074785320796,
            null,
            0.16639303411354053,
            -0.7396322939167193,
            null,
            -0.7396322939167193,
            -0.19176074019680034,
            null,
            -0.19176074019680034,
            0.16639303411354053,
            null
           ]
          },
          {
           "i": [
            0,
            3
           ],
           "j": [
            1,
            4
           ],
           "k": [
            2,
            5
           ],
           "name": "Faces",
           "type": "mesh3d",
           "x": {
            "bdata": "Kt9K6Tc4zT+knqTYg/a3v77cwYDCsOs/ACGK4kU2AUDIkejay/T5P6gvA2ConvM/",
            "dtype": "f8"
           },
           "y": {
            "bdata": "8BulP0Ol2j8mdyZtO7LoPwsU5DN0E8i/+PWcuayr7D+pSpUyMjjAP+DtR8goN5e/",
            "dtype": "f8"
           },
           "z": {
            "bdata": "9/H+LMzt3D/9VzQ0OTzbv5FoqYwvGZu/RKjmrZ2LyL8bYubvXUzFPzQCLlgRq+e/",
            "dtype": "f8"
           }
          }
         ],
         "layout": {
          "annotations": [
           {
            "showarrow": false,
            "text": "Time: 0.70s (Step: 71/100)",
            "x": 0.05,
            "xref": "paper",
            "y": 0.95,
            "yref": "paper"
           }
          ]
         },
         "name": "70"
        },
        {
         "data": [
          {
           "name": "Free Nodes",
           "type": "scatter3d",
           "x": {
            "bdata": "JxCog6qv0T8pHWZW3n28v0m8+Ijmt+o/DfhOUsxpAUBHWEAr0hT6PyS7ITCVF/M/",
            "dtype": "f8"
           },
           "y": {
            "bdata": "vXPpuSUX2j/OU8CUMbDpPz421MYR78q/VX2bgp0P7D8HsP3k+I7FPy7/rb27Nae/",
            "dtype": "f8"
           },
           "z": {
            "bdata": "Hd7pleyR3T8eEfqr/rvXv98lv6e3V7e/Y6ScA0QN0b9Nol5FJA7HP5h+5Z6pMua/",
            "dtype": "f8"
           }
          },
          {
           "name": "Fixed Nodes",
           "type": "scatter3d",
           "x": [],
           "y": [],
           "z": []
          },
          {
           "name": "Edges",
           "type": "scatter3d",
           "x": [
            -0.11129560098026005,
            0.8349487948634159,
            null,
            0.8349487948634159,
            0.2763468061168645,
            null,
            0.2763468061168645,
            -0.11129560098026005,
            null,
            1.6300832452302687,
            1.1932575111529298,
            null,
            1.1932575111529298,
            2.1766592436170016,
            null,
            2.1766592436170016,
            1.6300832452302687,
            null
           ],
           "y": [
            0.8027580170915998,
            -0.21042082031674342,
            null,
            -0.21042082031674342,
            0.40766280322514686,
            null,
            0.40766280322514686,
            0.8027580170915998,
            null,
            0.16842566662978717,
            -0.045331828026063156,
            null,
            -0.045331828026063156,
            0.8769061613965429,
            null,
            0.8769061613965429,
            0.16842566662978717,
            null
           ],
           "z": [
            -0.37084929270374,
            -0.09118221135499692,
            null,
            -0.09118221135499692,
            0.46203150405878707,
            null,
            0.46203150405878707,
            -0.37084929270374,
            null,
            0.18011906993094087,
            -0.6936843970724622,
            null,
            -0.6936843970724622,
            -0.2664346728584574,
            null,
            -0.2664346728584574,
            0.18011906993094087,
            null
           ]
          },
          {
           "i": [
            0,
            3
           ],
           "j": [
            1,
            4
           ],
           "k": [
            2,
            5
           ],
           "name": "Faces",
           "type": "mesh3d",
           "x": {
            "bdata": "JxCog6qv0T8pHWZW3n28v0m8+Ijmt+o/DfhOUsxpAUBHWEAr0hT6PyS7ITCVF/M/",
            "dtype": "f8"
           },
           "y": {
            "bdata": "vXPpuSUX2j/OU8CUMbDpPz421MYR78q/VX2bgp0P7D8HsP3k+I7FPy7/rb27Nae/",
            "dtype": "f8"
           },
           "z": {
            "bdata": "Hd7pleyR3T8eEfqr/rvXv98lv6e3V7e/Y6ScA0QN0b9Nol5FJA7HP5h+5Z6pMua/",
            "dtype": "f8"
           }
          }
         ],
         "layout": {
          "annotations": [
           {
            "showarrow": false,
            "text": "Time: 0.71s (Step: 72/100)",
            "x": 0.05,
            "xref": "paper",
            "y": 0.95,
            "yref": "paper"
           }
          ]
         },
         "name": "71"
        },
        {
         "data": [
          {
           "name": "Free Nodes",
           "type": "scatter3d",
           "x": {
            "bdata": "EjVsFM7T1D+YiA6cdxDAv1iIzdw2muk/Q9EQzjaSAUA2yousHTv6P92WUrd0oPI/",
            "dtype": "f8"
           },
           "y": {
            "bdata": "WhU6iRhs2T/ubcneYo/qP/HhmY28Fc2/lBPVu8tG6z9ZP9YR1TDLP67OVAIImLC/",
            "dtype": "f8"
           },
           "z": {
            "bdata": "Up8ukJTj3T8v17jgtBLUvwyJ616/ocO/tp19S4q81b/9Zq9zuEzIP5NHN86MpeS/",
            "dtype": "f8"
           }
          },
          {
           "name": "Fixed Nodes",
           "type": "scatter3d",
           "x": [],
           "y": [],
           "z": []
          },
          {
           "name": "Edges",
           "type": "scatter3d",
           "x": [
            -0.12550253982505377,
            0.8000749886089222,
            null,
            0.8000749886089222,
            0.3254275512161523,
            null,
            0.3254275512161523,
            -0.12550253982505377,
            null,
            1.6394325962143177,
            1.1641738091506604,
            null,
            1.1641738091506604,
            2.1963935946352264,
            null,
            2.1963935946352264,
            1.6394325962143177,
            null
           ],
           "y": [
            0.8300031997018189,
            -0.22722584642521285,
            null,
            -0.22722584642521285,
            0.39722264672339735,
            null,
            0.39722264672339735,
            0.8300031997018189,
            null,
            0.21242774363463005,
            -0.06481981331745132,
            null,
            -0.06481981331745132,
            0.8523920696830936,
            null,
            0.8523920696830936,
            0.21242774363463005,
            null
           ],
           "z": [
            -0.31364175744544104,
            -0.1533736432530265,
            null,
            -0.1533736432530265,
            0.4670154006985189,
            null,
            0.4670154006985189,
            -0.31364175744544104,
            null,
            0.1898413243168803,
            -0.6452087428717611,
            null,
            -0.6452087428717611,
            -0.33963258144509767,
            null,
            -0.33963258144509767,
            0.1898413243168803,
            null
           ]
          },
          {
           "i": [
            0,
            3
           ],
           "j": [
            1,
            4
           ],
           "k": [
            2,
            5
           ],
           "name": "Faces",
           "type": "mesh3d",
           "x": {
            "bdata": "EjVsFM7T1D+YiA6cdxDAv1iIzdw2muk/Q9EQzjaSAUA2yousHTv6P92WUrd0oPI/",
            "dtype": "f8"
           },
           "y": {
            "bdata": "WhU6iRhs2T/ubcneYo/qP/HhmY28Fc2/lBPVu8tG6z9ZP9YR1TDLP67OVAIImLC/",
            "dtype": "f8"
           },
           "z": {
            "bdata": "Up8ukJTj3T8v17jgtBLUvwyJ616/ocO/tp19S4q81b/9Zq9zuEzIP5NHN86MpeS/",
            "dtype": "f8"
           }
          }
         ],
         "layout": {
          "annotations": [
           {
            "showarrow": false,
            "text": "Time: 0.72s (Step: 73/100)",
            "x": 0.05,
            "xref": "paper",
            "y": 0.95,
            "yref": "paper"
           }
          ]
         },
         "name": "72"
        },
        {
         "data": [
          {
           "name": "Free Nodes",
           "type": "scatter3d",
           "x": {
            "bdata": "YtMD4Mf81z+caIpU3W7BvzWxIGVTXeg/3OfQl7qvAUBWjJpaKmf6P6Cnw3VgOfI/",
            "dtype": "f8"
           },
           "y": {
            "bdata": "HECgkRSo2D/346V3QE/rP5MP2AErjc6/LrHt6M5V6j/6d3EW0YbQPzEbM6G7ybS/",
            "dtype": "f8"
           },
           "z": {
            "bdata": "n/XAs9je3T8twn7bMUXQv35fhLBNM8u/Ryn7Ig1H2r/V6Z7AfPnIP/l2Yr1dBuO/",
            "dtype": "f8"
           }
          },
          {
           "name": "Fixed Nodes",
           "type": "scatter3d",
           "x": [],
           "y": [],
           "z": []
          },
          {
           "name": "Edges",
           "type": "scatter3d",
           "x": [
            -0.1361958182140527,
            0.7613923049116581,
            null,
            0.7613923049116581,
            0.3748035133024158,
            null,
            0.3748035133024158,
            -0.1361958182140527,
            null,
            1.650186876221388,
            1.1390080070654918,
            null,
            1.1390080070654918,
            2.2108051167133294,
            null,
            2.2108051167133294,
            1.650186876221388,
            null
           ],
           "y": [
            0.8534242951274099,
            -0.23868310537374934,
            null,
            -0.23868310537374934,
            0.385258810246343,
            null,
            0.385258810246343,
            0.8534242951274099,
            null,
            0.25822856132242544,
            -0.08120320020234996,
            null,
            -0.08120320020234996,
            0.8229746388802022,
            null,
            0.8229746388802022,
            0.25822856132242544,
            null
           ],
           "z": [
            -0.25422331271241455,
            -0.2125031577968421,
            null,
            -0.2125031577968421,
            0.4667264705093092,
            null,
            0.4667264705093092,
            -0.25422331271241455,
            null,
            0.19511374860105826,
            -0.5945271204870713,
            null,
            -0.5945271204870713,
            -0.4105866281139651,
            null,
            -0.4105866281139651,
            0.19511374860105826,
            null
           ]
          },
          {
           "i": [
            0,
            3
           ],
           "j": [
            1,
            4
           ],
           "k": [
            2,
            5
           ],
           "name": "Faces",
           "type": "mesh3d",
           "x": {
            "bdata": "YtMD4Mf81z+caIpU3W7BvzWxIGVTXeg/3OfQl7qvAUBWjJpaKmf6P6Cnw3VgOfI/",
            "dtype": "f8"
           },
           "y": {
            "bdata": "HECgkRSo2D/346V3QE/rP5MP2AErjc6/LrHt6M5V6j/6d3EW0YbQPzEbM6G7ybS/",
            "dtype": "f8"
           },
           "z": {
            "bdata": "n/XAs9je3T8twn7bMUXQv35fhLBNM8u/Ryn7Ig1H2r/V6Z7AfPnIP/l2Yr1dBuO/",
            "dtype": "f8"
           }
          }
         ],
         "layout": {
          "annotations": [
           {
            "showarrow": false,
            "text": "Time: 0.73s (Step: 74/100)",
            "x": 0.05,
            "xref": "paper",
            "y": 0.95,
            "yref": "paper"
           }
          ]
         },
         "name": "73"
        },
        {
         "data": [
          {
           "name": "Free Nodes",
           "type": "scatter3d",
           "x": {
            "bdata": "vckoPG8e2z+6X/UNAFjCv9PzaGXIBuc/Lg8c0LLCAUCGukkaLZj6P+EqfkVt4vE/",
            "dtype": "f8"
           },
           "y": {
            "bdata": "7evlDBHQ1z+GQfW0Lu/rP2rdoO3cXM+/XydE+KRB6T+7TexKSYnTPzci0u1MMri/",
            "dtype": "f8"
           },
           "z": {
            "bdata": "OE3RVQqC3T/kyjax07DIv/3jNX2gKdG/cwVevSmi3r8ML1PjdAjJP6kujMBuV+G/",
            "dtype": "f8"
           }
          },
          {
           "name": "Fixed Nodes",
           "type": "scatter3d",
           "x": [],
           "y": [],
           "z": []
          },
          {
           "name": "Edges",
           "type": "scatter3d",
           "x": [
            -0.14331055337492932,
            0.7195779781974302,
            null,
            0.7195779781974302,
            0.4237325751775208,
            null,
            0.4237325751775208,
            -0.14331055337492932,
            null,
            1.6621523882746785,
            1.1177799906314976,
            null,
            1.1177799906314976,
            2.2200676210940378,
            null,
            2.2200676210940378,
            1.6621523882746785,
            null
           ],
           "y": [
            0.8729470762573761,
            -0.2450214538855378,
            null,
            -0.2450214538855378,
            0.3720743776281655,
            null,
            0.3720743776281655,
            0.8729470762573761,
            null,
            0.30525429074006255,
            -0.09451752477810592,
            null,
            -0.09451752477810592,
            0.7892632340383264,
            null,
            0.7892632340383264,
            0.30525429074006255,
            null
           ],
           "z": [
            -0.19289632943181012,
            -0.26816570499028086,
            null,
            -0.26816570499028086,
            0.4610620344221448,
            null,
            0.4610620344221448,
            -0.19289632943181012,
            null,
            0.19557057475901052,
            -0.5419229279227312,
            null,
            -0.5419229279227312,
            -0.4786476468362572,
            null,
            -0.4786476468362572,
            0.19557057475901052,
            null
           ]
          },
          {
           "i": [
            0,
            3
           ],
           "j": [
            1,
            4
           ],
           "k": [
            2,
            5
           ],
           "name": "Faces",
           "type": "mesh3d",
           "x": {
            "bdata": "vckoPG8e2z+6X/UNAFjCv9PzaGXIBuc/Lg8c0LLCAUCGukkaLZj6P+EqfkVt4vE/",
            "dtype": "f8"
           },
           "y": {
            "bdata": "7evlDBHQ1z+GQfW0Lu/rP2rdoO3cXM+/XydE+KRB6T+7TexKSYnTPzci0u1MMri/",
            "dtype": "f8"
           },
           "z": {
            "bdata": "OE3RVQqC3T/kyjax07DIv/3jNX2gKdG/cwVevSmi3r8ML1PjdAjJP6kujMBuV+G/",
            "dtype": "f8"
           }
          }
         ],
         "layout": {
          "annotations": [
           {
            "showarrow": false,
            "text": "Time: 0.74s (Step: 75/100)",
            "x": 0.05,
            "xref": "paper",
            "y": 0.95,
            "yref": "paper"
           }
          ]
         },
         "name": "74"
        },
        {
         "data": [
          {
           "name": "Free Nodes",
           "type": "scatter3d",
           "x": {
            "bdata": "6jM0Ebcs3j+8Qeyc58jCv0H3oF7em+U/k19dtZjLAUBgfzShG836P1LFEPSym/E/",
            "dtype": "f8"
           },
           "y": {
            "bdata": "d7OSc8Dp1j9kipYMgm7sP/CPfxmJjc+/rC6eZX8P6D+JWXZ8apXWP1GKyh6l0bq/",
            "dtype": "f8"
           },
           "z": {
            "bdata": "iT4Fe93N3D9m2e8McqPAv/dNjXQkfNS/NhCyY6Zi4b+1fQDbF3HIP54SRYLONd+/",
            "dtype": "f8"
           }
          },
          {
           "name": "Fixed Nodes",
           "type": "scatter3d",
           "x": [],
           "y": [],
           "z": []
          },
          {
           "name": "Edges",
           "type": "scatter3d",
           "x": [
            -0.14675612604379562,
            0.6752769325464457,
            null,
            0.6752769325464457,
            0.471479193497372,
            null,
            0.471479193497372,
            -0.14675612604379562,
            null,
            1.675075177867221,
            1.1005124601182001,
            null,
            1.1005124601182001,
            2.2244123620147973,
            null,
            2.2244123620147973,
            1.675075177867221,
            null
           ],
           "y": [
            0.8884897466526351,
            -0.24650682206186003,
            null,
            -0.24650682206186003,
            0.35801707540922884,
            null,
            0.35801707540922884,
            0.8884897466526351,
            null,
            0.3528696265651879,
            -0.10476142884957908,
            null,
            -0.10476142884957908,
            0.7518918022846797,
            null,
            0.7518918022846797,
            0.3528696265651879,
            null
           ],
           "z": [
            -0.1299879611176024,
            -0.32007705099132927,
            null,
            -0.32007705099132927,
            0.4500650121089867,
            null,
            0.4500650121089867,
            -0.1299879611176024,
            null,
            0.1909513301224998,
            -0.4876590988317647,
            null,
            -0.4876590988317647,
            -0.5432922312907127,
            null,
            -0.5432922312907127,
            0.1909513301224998,
            null
           ]
          },
          {
           "i": [
            0,
            3
           ],
           "j": [
            1,
            4
           ],
           "k": [
            2,
            5
           ],
           "name": "Faces",
           "type": "mesh3d",
           "x": {
            "bdata": "6jM0Ebcs3j+8Qeyc58jCv0H3oF7em+U/k19dtZjLAUBgfzShG836P1LFEPSym/E/",
            "dtype": "f8"
           },
           "y": {
            "bdata": "d7OSc8Dp1j9kipYMgm7sP/CPfxmJjc+/rC6eZX8P6D+JWXZ8apXWP1GKyh6l0bq/",
            "dtype": "f8"
           },
           "z": {
            "bdata": "iT4Fe93N3D9m2e8McqPAv/dNjXQkfNS/NhCyY6Zi4b+1fQDbF3HIP54SRYLONd+/",
            "dtype": "f8"
           }
          }
         ],
         "layout": {
          "annotations": [
           {
            "showarrow": false,
            "text": "Time: 0.75s (Step: 76/100)",
            "x": 0.05,
            "xref": "paper",
            "y": 0.95,
            "yref": "paper"
           }
          ]
         },
         "name": "75"
        },
        {
         "data": [
          {
           "name": "Free Nodes",
           "type": "scatter3d",
           "x": {
            "bdata": "BwjobxiO4D8uAoESMb7Cv085uNRzIeQ/VDRzXvvKAUBAimy9uAT7PwURrYVQZfE/",
            "dtype": "f8"
           },
           "y": {
            "bdata": "3M1VJEL71T+gwNKwg8zsP6Od9guTKM+/6Xt0jpHE5j8F3Y0yMKDZP58A2z1Npby/",
            "dtype": "f8"
           },
           "z": {
            "bdata": "39IuiWbF2z+bOcsbd9ywv4MAPMJIjte/l34+5flU47+yPShN7i7HP8o+nEfVpdu/",
            "dtype": "f8"
           }
          },
          {
           "name": "Fixed Nodes",
           "type": "scatter3d",
           "x": [],
           "y": [],
           "z": []
          },
          {
           "name": "Edges",
           "type": "scatter3d",
           "x": [
            -0.14642918971550628,
            0.62908355280687,
            null,
            0.62908355280687,
            0.5173456369086588,
            null,
            0.5173456369086588,
            -0.14642918971550628,
            null,
            1.6886527442335506,
            1.087234995052371,
            null,
            1.087234995052371,
            2.2241122607143016,
            null,
            2.2241122607143016,
            1.6886527442335506,
            null
           ],
           "y": [
            0.8999651387766967,
            -0.2434257324614296,
            null,
            -0.2434257324614296,
            0.343460593684737,
            null,
            0.343460593684737,
            0.8999651387766967,
            null,
            0.4004021161740215,
            -0.11189730415481101,
            null,
            -0.11189730415481101,
            0.7114951879810835,
            null,
            0.7114951879810835,
            0.4004021161740215,
            null
           ],
           "z": [
            -0.06586403301773773,
            -0.3680593392200608,
            null,
            -0.3680593392200608,
            0.43392337223785477,
            null,
            0.43392337223785477,
            -0.06586403301773773,
            null,
            0.18111971633378016,
            -0.4319966506309184,
            null,
            -0.4319966506309184,
            -0.604123065702839,
            null,
            -0.604123065702839,
            0.18111971633378016,
            null
           ]
          },
          {
           "i": [
            0,
            3
           ],
           "j": [
            1,
            4
           ],
           "k": [
            2,
            5
           ],
           "name": "Faces",
           "type": "mesh3d",
           "x": {
            "bdata": "BwjobxiO4D8uAoESMb7Cv085uNRzIeQ/VDRzXvvKAUBAimy9uAT7PwURrYVQZfE/",
            "dtype": "f8"
           },
           "y": {
            "bdata": "3M1VJEL71T+gwNKwg8zsP6Od9guTKM+/6Xt0jpHE5j8F3Y0yMKDZP58A2z1Npby/",
            "dtype": "f8"
           },
           "z": {
            "bdata": "39IuiWbF2z+bOcsbd9ywv4MAPMJIjte/l34+5flU47+yPShN7i7HP8o+nEfVpdu/",
            "dtype": "f8"
           }
          }
         ],
         "layout": {
          "annotations": [
           {
            "showarrow": false,
            "text": "Time: 0.76s (Step: 77/100)",
            "x": 0.05,
            "xref": "paper",
            "y": 0.95,
            "yref": "paper"
           }
          ]
         },
         "name": "76"
        },
        {
         "data": [
          {
           "name": "Free Nodes",
           "type": "scatter3d",
           "x": {
            "bdata": "9zGAiUHx4T/EBA+wkTTCvwiQg+Lim+I/SI1cenfBAUAVOpIPpD37P12vtPtsP/E/",
            "dtype": "f8"
           },
           "y": {
            "bdata": "9Hu+hM8K1T9zFR24fAjtPxlN8emRN86/No6LT+Nl5T/9toAYbJ7cP175Xt7KqL2/",
            "dtype": "f8"
           },
           "z": {
            "bdata": "hNRKFPFt2j90wTx1FLxOvxgyEAqTXtq/3fmrp8kl5b9hQ+zq8EHFPwV0/6B5A9i/",
            "dtype": "f8"
           }
          },
          {
           "name": "Fixed Nodes",
           "type": "scatter3d",
           "x": [],
           "y": [],
           "z": []
          },
          {
           "name": "Edges",
           "type": "scatter3d",
           "x": [
            -0.14222928139319013,
            0.5815290855503017,
            null,
            0.5815290855503017,
            0.5607001958429113,
            null,
            0.5607001958429113,
            -0.14222928139319013,
            null,
            1.7025490387201263,
            1.0779847938783498,
            null,
            1.0779847938783498,
            2.2194661674017517,
            null,
            2.2194661674017517,
            1.7025490387201263,
            null
           ],
           "y": [
            0.907286033245937,
            -0.23607086108186406,
            null,
            -0.23607086108186406,
            0.3287848278359313,
            null,
            0.3287848278359313,
            0.907286033245937,
            null,
            0.44716932671404647,
            -0.11585681847552595,
            null,
            -0.11585681847552595,
            0.6686874917617789,
            null,
            0.6686874917617789,
            0.44716932671404647,
            null
           ],
           "z": [
            -0.0009379482166647483,
            -0.4120223615907732,
            null,
            -0.4120223615907732,
            0.41296030980749543,
            null,
            0.41296030980749543,
            -0.0009379482166647483,
            null,
            0.16607486220211867,
            -0.37521210405776656,
            null,
            -0.37521210405776656,
            -0.660862758144329,
            null,
            -0.660862758144329,
            0.16607486220211867,
            null
           ]
          },
          {
           "i": [
            0,
            3
           ],
           "j": [
            1,
            4
           ],
           "k": [
            2,
            5
           ],
           "name": "Faces",
           "type": "mesh3d",
           "x": {
            "bdata": "9zGAiUHx4T/EBA+wkTTCvwiQg+Lim+I/SI1cenfBAUAVOpIPpD37P12vtPtsP/E/",
            "dtype": "f8"
           },
           "y": {
            "bdata": "9Hu+hM8K1T9zFR24fAjtPxlN8emRN86/No6LT+Nl5T/9toAYbJ7cP175Xt7KqL2/",
            "dtype": "f8"
           },
           "z": {
            "bdata": "hNRKFPFt2j90wTx1FLxOvxgyEAqTXtq/3fmrp8kl5b9hQ+zq8EHFPwV0/6B5A9i/",
            "dtype": "f8"
           }
          }
         ],
         "layout": {
          "annotations": [
           {
            "showarrow": false,
            "text": "Time: 0.77s (Step: 78/100)",
            "x": 0.05,
            "xref": "paper",
            "y": 0.95,
            "yref": "paper"
           }
          ]
         },
         "name": "77"
        },
        {
         "data": [
          {
           "name": "Free Nodes",
           "type": "scatter3d",
           "x": {
            "bdata": "Jw08+2Q74z9WpjhkYSnBv0Ad0l3zDuE/l49/na+vAUBJJwj5a3b7P6C9+Ms0KvE/",
            "dtype": "f8"
           },
           "y": {
            "bdata": "YS99eGse1D8zvB0cxiHtP+xOcWHvw8y/YU8Vrir44z89gnc8O4XfPy0uiGJC1r2/",
            "dtype": "f8"
           },
           "z": {
            "bdata": "ZSZJwLTO2D9s6wPdrHewPx8divef7Ny/JnSag7LT5r+gEi3Sn67CPwIQH+zBU9S/",
            "dtype": "f8"
           }
          },
          {
           "name": "Fixed Nodes",
           "type": "scatter3d",
           "x": [],
           "y": [],
           "z": []
          },
          {
           "name": "Edges",
           "type": "scatter3d",
           "x": [
            -0.13407533067338545,
            0.5330750305592247,
            null,
            0.5330750305592247,
            0.601000300114184,
            null,
            0.601000300114184,
            -0.13407533067338545,
            null,
            1.7164115646177882,
            1.0728042571680376,
            null,
            1.0728042571680376,
            2.2107841782144066,
            null,
            2.2107841782144066,
            1.7164115646177882,
            null
           ],
           "y": [
            0.9103727864402401,
            -0.22472946412982908,
            null,
            -0.22472946412982908,
            0.31435667768959347,
            null,
            0.31435667768959347,
            0.9103727864402401,
            null,
            0.49250679879154174,
            -0.11655058770718858,
            null,
            -0.11655058770718858,
            0.6240437889159517,
            null,
            0.6240437889159517,
            0.49250679879154174,
            null
           ],
           "z": [
            0.06432609935647599,
            -0.451942435968208,
            null,
            -0.451942435968208,
            0.3876163366117907,
            null,
            0.3876163366117907,
            0.06432609935647599,
            null,
            0.14595411074164577,
            -0.31761215265964904,
            null,
            -0.31761215265964904,
            -0.7133419580819733,
            null,
            -0.7133419580819733,
            0.14595411074164577,
            null
           ]
          },
          {
           "i": [
            0,
            3
           ],
           "j": [
            1,
            4
           ],
           "k": [
            2,
            5
           ],
           "name": "Faces",
           "type": "mesh3d",
           "x": {
            "bdata": "Jw08+2Q74z9WpjhkYSnBv0Ad0l3zDuE/l49/na+vAUBJJwj5a3b7P6C9+Ms0KvE/",
            "dtype": "f8"
           },
           "y": {
            "bdata": "YS99eGse1D8zvB0cxiHtP+xOcWHvw8y/YU8Vrir44z89gnc8O4XfPy0uiGJC1r2/",
            "dtype": "f8"
           },
           "z": {
            "bdata": "ZSZJwLTO2D9s6wPdrHewPx8divef7Ny/JnSag7LT5r+gEi3Sn67CPwIQH+zBU9S/",
            "dtype": "f8"
           }
          }
         ],
         "layout": {
          "annotations": [
           {
            "showarrow": false,
            "text": "Time: 0.78s (Step: 79/100)",
            "x": 0.05,
            "xref": "paper",
            "y": 0.95,
            "yref": "paper"
           }
          ]
         },
         "name": "78"
        },
        {
         "data": [
          {
           "name": "Free Nodes",
           "type": "scatter3d",
           "x": {
            "bdata": "LLTDle5o5D8zTW6SPTa/v54sFDmy+94/Pd2WlUWWAUDPiWVPoK37P+S/bIXUJfE/",
            "dtype": "f8"
           },
           "y": {
            "bdata": "ESRaZpo70z+jmSt82xftPwWuYr2i1sq/nZD5rK5/4j+wvSTeOiXhPxYb8lhMJ72/",
            "dtype": "f8"
           },
           "z": {
            "bdata": "kD7TFHDw1j+JZRZ0sZDAPx5t3s7ION+/zBULlxFe6L8K0OiBpPu+P1eg/YtfnNC/",
            "dtype": "f8"
           }
          },
          {
           "name": "Fixed Nodes",
           "type": "scatter3d",
           "x": [],
           "y": [],
           "z": []
          },
          {
           "name": "Edges",
           "type": "scatter3d",
           "x": [
            -0.12192139458629896,
            0.48411231588461046,
            null,
            0.48411231588461046,
            0.6378090787017121,
            null,
            0.6378090787017121,
            -0.12192139458629896,
            null,
            1.7298892117911355,
            1.0717358791262024,
            null,
            1.0717358791262024,
            2.1983749090828995,
            null,
            2.1983749090828995,
            1.7298892117911355,
            null
           ],
           "y": [
            0.9091622758103778,
            -0.20967516181313797,
            null,
            -0.20967516181313797,
            0.3005128860027649,
            null,
            0.3005128860027649,
            0.9091622758103778,
            null,
            0.5357946718922246,
            -0.11388089343573102,
            null,
            -0.11388089343573102,
            0.5780862215438166,
            null,
            0.5780862215438166,
            0.5357946718922246,
            null
           ],
           "z": [
            0.12941568535169903,
            -0.4878408451274526,
            null,
            -0.4878408451274526,
            0.35842515977581346,
            null,
            0.35842515977581346,
            0.12941568535169903,
            null,
            0.12102726146332557,
            -0.2595442645165397,
            null,
            -0.2595442645165397,
            -0.761482996946762,
            null,
            -0.761482996946762,
            0.12102726146332557,
            null
           ]
          },
          {
           "i": [
            0,
            3
           ],
           "j": [
            1,
            4
           ],
           "k": [
            2,
            5
           ],
           "name": "Faces",
           "type": "mesh3d",
           "x": {
            "bdata": "LLTDle5o5D8zTW6SPTa/v54sFDmy+94/Pd2WlUWWAUDPiWVPoK37P+S/bIXUJfE/",
            "dtype": "f8"
           },
           "y": {
            "bdata": "ESRaZpo70z+jmSt82xftPwWuYr2i1sq/nZD5rK5/4j+wvSTeOiXhPxYb8lhMJ72/",
            "dtype": "f8"
           },
           "z": {
            "bdata": "kD7TFHDw1j+JZRZ0sZDAPx5t3s7ION+/zBULlxFe6L8K0OiBpPu+P1eg/YtfnNC/",
            "dtype": "f8"
           }
          }
         ],
         "layout": {
          "annotations": [
           {
            "showarrow": false,
            "text": "Time: 0.79s (Step: 80/100)",
            "x": 0.05,
            "xref": "paper",
            "y": 0.95,
            "yref": "paper"
           }
          ]
         },
         "name": "79"
        },
        {
         "data": [
          {
           "name": "Free Nodes",
           "type": "scatter3d",
           "x": {
            "bdata": "zxkYPjt35T9WvcDiwBO7v2j9f7x51ts/FD89IdV1AUCgEIdd5OH7P3t1/l9xMvE/",
            "dtype": "f8"
           },
           "y": {
            "bdata": "+woqtSdn0j9fI5J0bursP8KinDwJeMi/90SFkzQA4T/sfVdZiHLiP0W+5Wbnlbu/",
            "dtype": "f8"
           },
           "z": {
            "bdata": "i15T7vLc1D8CdJmAt83IPyAKUFfnoeC/IpKu29vE6b/aqcfXiHi3PxsOFU+Nx8m/",
            "dtype": "f8"
           }
          },
          {
           "name": "Fixed Nodes",
           "type": "scatter3d",
           "x": [],
           "y": [],
           "z": []
          },
          {
           "name": "Edges",
           "type": "scatter3d",
           "x": [
            -0.10577016387900548,
            0.43496554763983974,
            null,
            0.43496554763983974,
            0.6708046162391897,
            null,
            0.6708046162391897,
            -0.10577016387900548,
            null,
            1.742649426786592,
            1.0748151540531967,
            null,
            1.0748151540531967,
            2.1825354191604536,
            null,
            2.1825354191604536,
            1.742649426786592,
            null
           ],
           "y": [
            0.9036171223425348,
            -0.191163210483202,
            null,
            -0.191163210483202,
            0.2875460881406721,
            null,
            0.2875460881406721,
            0.9036171223425348,
            null,
            0.5764810318905211,
            -0.10775610220093153,
            null,
            -0.10775610220093153,
            0.531275070310726,
            null,
            0.531275070310726,
            0.5764810318905211,
            null
           ],
           "z": [
            0.19377797869938723,
            -0.5197636323285373,
            null,
            -0.5197636323285373,
            0.3259856536292111,
            null,
            0.3259856536292111,
            0.19377797869938723,
            null,
            0.09168296115937072,
            -0.20140234338224236,
            null,
            -0.20140234338224236,
            -0.8052806177771041,
            null,
            -0.8052806177771041,
            0.09168296115937072,
            null
           ]
          },
          {
           "i": [
            0,
            3
           ],
           "j": [
            1,
            4
           ],
           "k": [
            2,
            5
           ],
           "name": "Faces",
           "type": "mesh3d",
           "x": {
            "bdata": "zxkYPjt35T9WvcDiwBO7v2j9f7x51ts/FD89IdV1AUCgEIdd5OH7P3t1/l9xMvE/",
            "dtype": "f8"
           },
           "y": {
            "bdata": "+woqtSdn0j9fI5J0bursP8KinDwJeMi/90SFkzQA4T/sfVdZiHLiP0W+5Wbnlbu/",
            "dtype": "f8"
           },
           "z": {
            "bdata": "i15T7vLc1D8CdJmAt83IPyAKUFfnoeC/IpKu29vE6b/aqcfXiHi3PxsOFU+Nx8m/",
            "dtype": "f8"
           }
          }
         ],
         "layout": {
          "annotations": [
           {
            "showarrow": false,
            "text": "Time: 0.80s (Step: 81/100)",
            "x": 0.05,
            "xref": "paper",
            "y": 0.95,
            "yref": "paper"
           }
          ]
         },
         "name": "80"
        },
        {
         "data": [
          {
           "name": "Free Nodes",
           "type": "scatter3d",
           "x": {
            "bdata": "C39/AJ1k5j/a79SpVO+1v5g/dimbstg/Osj9QvBOAUDiggzb/hH8PwPx954gUPE/",
            "dtype": "f8"
           },
           "y": {
            "bdata": "wEIs8vuk0T+MzqKDeJnsP/q+4/LZr8W/QFTw5O/53j/3TR7ktabjP2Bms7RuHbm/",
            "dtype": "f8"
           },
           "z": {
            "bdata": "CBRxyKKe0j9mdEzU7m/QPwfCXs5Ih+G/XIk7PXMI67/QdKvuu+etP1iLYHdfYsK/",
            "dtype": "f8"
           }
          },
          {
           "name": "Fixed Nodes",
           "type": "scatter3d",
           "x": [],
           "y": [],
           "z": []
          },
          {
           "name": "Edges",
           "type": "scatter3d",
           "x": [
            -0.08568314691814241,
            0.3859012513066715,
            null,
            0.3859012513066715,
            0.6997818956114953,
            null,
            0.6997818956114953,
            -0.08568314691814241,
            null,
            1.7543934399220054,
            1.0820623597820151,
            null,
            1.0820623597820151,
            2.1635442002962266,
            null,
            2.1635442002962266,
            1.7543934399220054,
            null
           ],
           "y": [
            0.8937342234625745,
            -0.1694290576920066,
            null,
            -0.1694290576920066,
            0.2756948342294372,
            null,
            0.2756948342294372,
            0.8937342234625745,
            null,
            0.6141004043042234,
            -0.09810535346641691,
            null,
            -0.09810535346641691,
            0.48400494916251446,
            null,
            0.48400494916251446,
            0.6141004043042234,
            null
           ],
           "z": [
            0.2568318436841025,
            -0.547764208857246,
            null,
            -0.547764208857246,
            0.29093236517320564,
            null,
            0.29093236517320564,
            0.2568318436841025,
            null,
            0.05840861595582114,
            -0.1436271031280636,
            null,
            -0.1436271031280636,
            -0.844781512827733,
            null,
            -0.844781512827733,
            0.05840861595582114,
            null
           ]
          },
          {
           "i": [
            0,
            3
           ],
           "j": [
            1,
            4
           ],
           "k": [
            2,
            5
           ],
           "name": "Faces",
           "type": "mesh3d",
           "x": {
            "bdata": "C39/AJ1k5j/a79SpVO+1v5g/dimbstg/Osj9QvBOAUDiggzb/hH8PwPx954gUPE/",
            "dtype": "f8"
           },
           "y": {
            "bdata": "wEIs8vuk0T+MzqKDeJnsP/q+4/LZr8W/QFTw5O/53j/3TR7ktabjP2Bms7RuHbm/",
            "dtype": "f8"
           },
           "z": {
            "bdata": "CBRxyKKe0j9mdEzU7m/QPwfCXs5Ih+G/XIk7PXMI67/QdKvuu+etP1iLYHdfYsK/",
            "dtype": "f8"
           }
          }
         ],
         "layout": {
          "annotations": [
           {
            "showarrow": false,
            "text": "Time: 0.81s (Step: 82/100)",
            "x": 0.05,
            "xref": "paper",
            "y": 0.95,
            "yref": "paper"
           }
          ]
         },
         "name": "81"
        },
        {
         "data": [
          {
           "name": "Free Nodes",
           "type": "scatter3d",
           "x": {
            "bdata": "KrZ/JFEw5z+n73CJh6Kvv1+zLqiuk9U/ShrjPh0iAUCYXELH5jz8P0Nz97refvE/",
            "dtype": "f8"
           },
           "y": {
            "bdata": "sInS8wT40D8u9MHSSSXsP1zjrDIxhcK/A1GMgVnx2z8bc1gAw77kPwiB9Ah+u7W/",
            "dtype": "f8"
           },
           "z": {
            "bdata": "47PLgQJA0D8eQZoP1VnUP0b4ssjrTOK/DxiLtnwp7L/eQV8iv0mWP+ha9zIPMra/",
            "dtype": "f8"
           }
          },
          {
           "name": "Fixed Nodes",
           "type": "scatter3d",
           "x": [],
           "y": [],
           "z": []
          },
          {
           "name": "Edges",
           "type": "scatter3d",
           "x": [
            -0.06178687622784134,
            0.33713880943360225,
            null,
            0.33713880943360225,
            0.7246480667942639,
            null,
            0.7246480667942639,
            -0.06178687622784134,
            null,
            1.7648685248912326,
            1.0934741309531126,
            null,
            1.0934741309531126,
            2.141657344155907,
            null,
            2.141657344155907,
            1.7648685248912326,
            null
           ],
           "y": [
            0.87955180324173,
            -0.14468970274335902,
            null,
            -0.14468970274335902,
            0.26513789950163424,
            null,
            0.26513789950163424,
            0.87955180324173,
            null,
            0.6482863432644054,
            -0.08489215582494947,
            null,
            -0.08489215582494947,
            0.43660581256087044,
            null,
            0.43660581256087044,
            0.6482863432644054,
            null
           ],
           "z": [
            0.31798292659461136,
            -0.5718897743133844,
            null,
            -0.5718897743133844,
            0.25390684771883637,
            null,
            0.25390684771883637,
            0.31798292659461136,
            null,
            0.021765696022898122,
            -0.08670134538929697,
            null,
            -0.08670134538929697,
            -0.8800643506335762,
            null,
            -0.8800643506335762,
            0.021765696022898122,
            null
           ]
          },
          {
           "i": [
            0,
            3
           ],
           "j": [
            1,
            4
           ],
           "k": [
            2,
            5
           ],
           "name": "Faces",
           "type": "mesh3d",
           "x": {
            "bdata": "KrZ/JFEw5z+n73CJh6Kvv1+zLqiuk9U/ShrjPh0iAUCYXELH5jz8P0Nz97refvE/",
            "dtype": "f8"
           },
           "y": {
            "bdata": "sInS8wT40D8u9MHSSSXsP1zjrDIxhcK/A1GMgVnx2z8bc1gAw77kPwiB9Ah+u7W/",
            "dtype": "f8"
           },
           "z": {
            "bdata": "47PLgQJA0D8eQZoP1VnUP0b4ssjrTOK/DxiLtnwp7L/eQV8iv0mWP+ha9zIPMra/",
            "dtype": "f8"
           }
          }
         ],
         "layout": {
          "annotations": [
           {
            "showarrow": false,
            "text": "Time: 0.82s (Step: 83/100)",
            "x": 0.05,
            "xref": "paper",
            "y": 0.95,
            "yref": "paper"
           }
          ]
         },
         "name": "82"
        },
        {
         "data": [
          {
           "name": "Free Nodes",
           "type": "scatter3d",
           "x": {
            "bdata": "PDitomra5z/hL+jfe4yhv0mXoja6fNI/PmdJKtbvAECImWRxzGH8P4GcCDqHvvE/",
            "dtype": "f8"
           },
           "y": {
            "bdata": "OPMiiy9i0D+m58K4k47rP4oIo/Jb/b2/zFXoMxTr2D/PBoPxi7jlP0UwuVuwcLG/",
            "dtype": "f8"
           },
           "z": {
            "bdata": "0e1cWIuWyz8IEcvy3xrYP7PBfM8S8+K/PHJjiroo7b8lW/EgjA+Sv/gXRANg45+/",
            "dtype": "f8"
           }
          },
          {
           "name": "Fixed Nodes",
           "type": "scatter3d",
           "x": [],
           "y": [],
           "z": []
          },
          {
           "name": "Edges",
           "type": "scatter3d",
           "x": [
            -0.03427493198623189,
            0.2888627561136344,
            null,
            0.2888627561136344,
            0.7454121758726227,
            null,
            0.7454121758726227,
            -0.03427493198623189,
            null,
            1.7738766126072694,
            1.1090156809748637,
            null,
            1.1090156809748637,
            2.117107706418124,
            null,
            2.117107706418124,
            1.7738766126072694,
            null
           ],
           "y": [
            0.8611544235820829,
            -0.1171472041487808,
            null,
            -0.1171472041487808,
            0.25599278056670327,
            null,
            0.25599278056670327,
            0.8611544235820829,
            null,
            0.6787776677158152,
            -0.06812574614849705,
            null,
            -0.06812574614849705,
            0.38934807843301367,
            null,
            0.38934807843301367,
            0.6787776677158152,
            null
           ],
           "z": [
            0.37664030752445443,
            -0.5921720554816176,
            null,
            -0.5921720554816176,
            0.21553174795722765,
            null,
            0.21553174795722765,
            0.37664030752445443,
            null,
            -0.01763743353907467,
            -0.031140804480877166,
            null,
            -0.031140804480877166,
            -0.9112217619800229,
            null,
            -0.9112217619800229,
            -0.01763743353907467,
            null
           ]
          },
          {
           "i": [
            0,
            3
           ],
           "j": [
            1,
            4
           ],
           "k": [
            2,
            5
           ],
           "name": "Faces",
           "type": "mesh3d",
           "x": {
            "bdata": "PDitomra5z/hL+jfe4yhv0mXoja6fNI/PmdJKtbvAECImWRxzGH8P4GcCDqHvvE/",
            "dtype": "f8"
           },
           "y": {
            "bdata": "OPMiiy9i0D+m58K4k47rP4oIo/Jb/b2/zFXoMxTr2D/PBoPxi7jlP0UwuVuwcLG/",
            "dtype": "f8"
           },
           "z": {
            "bdata": "0e1cWIuWyz8IEcvy3xrYP7PBfM8S8+K/PHJjiroo7b8lW/EgjA+Sv/gXRANg45+/",
            "dtype": "f8"
           }
          }
         ],
         "layout": {
          "annotations": [
           {
            "showarrow": false,
            "text": "Time: 0.83s (Step: 84/100)",
            "x": 0.05,
            "xref": "paper",
            "y": 0.95,
            "yref": "paper"
           }
          ]
         },
         "name": "83"
        },
        {
         "data": [
          {
           "name": "Free Nodes",
           "type": "scatter3d",
           "x": {
            "bdata": "wVf0/bNj6D8RUA9u2uZrv9Ph5nHL4M4/BMsY1Ym4AEDNd6tfHoD8P8f2IvbNDvI/",
            "dtype": "f8"
           },
           "y": {
            "bdata": "6y1ozeHIzz8N5klWbtbqP6iKH002Rba/HX6yKLfq1T+UKH7LyZLmP1S8df1Vgqi/",
            "dtype": "f8"
           },
           "z": {
            "bdata": "h6F/sOqTxj8HvwwJtqnbP5VFprDVeeO/qWjk8+wG7r9pKy3C7Euuv14igZoRD5c/",
            "dtype": "f8"
           }
          },
          {
           "name": "Fixed Nodes",
           "type": "scatter3d",
           "x": [],
           "y": [],
           "z": []
          },
          {
           "name": "Edges",
           "type": "scatter3d",
           "x": [
            -0.0034059778413198035,
            0.24123519002547641,
            null,
            0.24123519002547641,
            0.7621707878158689,
            null,
            0.7621707878158689,
            -0.0034059778413198035,
            null,
            1.781278966627258,
            1.1286143889150695,
            null,
            1.1286143889150695,
            2.0901066444579346,
            null,
            2.0901066444579346,
            1.781278966627258,
            null
           ],
           "y": [
            0.8386756596875685,
            -0.08699359305277687,
            null,
            -0.08699359305277687,
            0.248317933365214,
            null,
            0.248317933365214,
            0.8386756596875685,
            null,
            0.7054184889286881,
            -0.047869383993081854,
            null,
            -0.047869383993081854,
            0.342450895064731,
            null,
            0.342450895064731,
            0.7054184889286881,
            null
           ],
           "z": [
            0.43223334201592006,
            -0.6086224031625301,
            null,
            -0.6086224031625301,
            0.17638906114667582,
            null,
            0.17638906114667582,
            0.43223334201592006,
            null,
            -0.05917301054304042,
            0.02251842027206618,
            null,
            0.02251842027206618,
            -0.9383454097290002,
            null,
            -0.9383454097290002,
            -0.05917301054304042,
            null
           ]
          },
          {
           "i": [
            0,
            3
           ],
           "j": [
            1,
            4
           ],
           "k": [
            2,
            5
           ],
           "name": "Faces",
           "type": "mesh3d",
           "x": {
            "bdata": "wVf0/bNj6D8RUA9u2uZrv9Ph5nHL4M4/BMsY1Ym4AEDNd6tfHoD8P8f2IvbNDvI/",
            "dtype": "f8"
           },
           "y": {
            "bdata": "6y1ozeHIzz8N5klWbtbqP6iKH002Rba/HX6yKLfq1T+UKH7LyZLmP1S8df1Vgqi/",
            "dtype": "f8"
           },
           "z": {
            "bdata": "h6F/sOqTxj8HvwwJtqnbP5VFprDVeeO/qWjk8+wG7r9pKy3C7Euuv14igZoRD5c/",
            "dtype": "f8"
           }
          }
         ],
         "layout": {
          "annotations": [
           {
            "showarrow": false,
            "text": "Time: 0.84s (Step: 85/100)",
            "x": 0.05,
            "xref": "paper",
            "y": 0.95,
            "yref": "paper"
           }
          ]
         },
         "name": "84"
        },
        {
         "data": [
          {
           "name": "Free Nodes",
           "type": "scatter3d",
           "x": {
            "bdata": "AKvcuYvN6D/0u1ZV1TufPyOA4m1W4sg/qy/ovJ18AECsr1Iqipf8P7D13Fs6b/I/",
            "dtype": "f8"
           },
           "y": {
            "bdata": "ICfxlbn9zj/xfAQxWf7pP0RoDGh53Ku/rUBesy3z0j+8wdnaBk3nP4/AGpG205i/",
            "dtype": "f8"
           },
           "z": {
            "bdata": "JNdK3VOJwT/mh2hRlf3eP2H3BqAf4eO/t77RybrE7r+ne9EoEyu6vz47VaBF4LI/",
            "dtype": "f8"
           }
          },
          {
           "name": "Fixed Nodes",
           "type": "scatter3d",
           "x": [],
           "y": [],
           "z": []
          },
          {
           "name": "Edges",
           "type": "scatter3d",
           "x": [
            0.030501683553378414,
            0.19440727582423376,
            null,
            0.19440727582423376,
            0.7750910406224136,
            null,
            0.7750910406224136,
            0.030501683553378414,
            null,
            1.7869969990960994,
            1.1521552647021558,
            null,
            1.1521552647021558,
            2.0608477362020117,
            null,
            2.0608477362020117,
            1.7869969990960994,
            null
           ],
           "y": [
            0.8122983891843473,
            -0.05441645999071956,
            null,
            -0.05441645999071956,
            0.24211807080637815,
            null,
            0.24211807080637815,
            0.8122983891843473,
            null,
            0.7281526827264808,
            -0.02424512158057773,
            null,
            -0.02424512158057773,
            0.29609243885443953,
            null,
            0.29609243885443953,
            0.7281526827264808,
            null
           ],
           "z": [
            0.4842274947169457,
            -0.6212309003383149,
            null,
            -0.6212309003383149,
            0.1370034056214361,
            null,
            0.1370034056214361,
            0.4842274947169457,
            null,
            -0.10221976992168767,
            0.07373461880091,
            null,
            0.07373461880091,
            -0.9615148488791964,
            null,
            -0.9615148488791964,
            -0.10221976992168767,
            null
           ]
          },
          {
           "i": [
            0,
            3
           ],
           "j": [
            1,
            4
           ],
           "k": [
            2,
            5
           ],
           "name": "Faces",
           "type": "mesh3d",
           "x": {
            "bdata": "AKvcuYvN6D/0u1ZV1TufPyOA4m1W4sg/qy/ovJ18AECsr1Iqipf8P7D13Fs6b/I/",
            "dtype": "f8"
           },
           "y": {
            "bdata": "ICfxlbn9zj/xfAQxWf7pP0RoDGh53Ku/rUBesy3z0j+8wdnaBk3nP4/AGpG205i/",
            "dtype": "f8"
           },
           "z": {
            "bdata": "JNdK3VOJwT/mh2hRlf3eP2H3BqAf4eO/t77RybrE7r+ne9EoEyu6vz47VaBF4LI/",
            "dtype": "f8"
           }
          }
         ],
         "layout": {
          "annotations": [
           {
            "showarrow": false,
            "text": "Time: 0.85s (Step: 86/100)",
            "x": 0.05,
            "xref": "paper",
            "y": 0.95,
            "yref": "paper"
           }
          ]
         },
         "name": "85"
        },
        {
         "data": [
          {
           "name": "Free Nodes",
           "type": "scatter3d",
           "x": {
            "bdata": "K8KyhL4Z6T8H7teICyyxP/sDySgAA8M/slxJr3A8AEBVJeCz+af8Pw8mje0k3/I/",
            "dtype": "f8"
           },
           "y": {
            "bdata": "En30d4phzj84qu4gNwjpP7ooed03E5S/mc2cT+YG0D/Dv0uOiefnPwCv5eVJA2U/",
            "dtype": "f8"
           },
           "z": {
            "bdata": "j4zmmG0LuT9x7cfARgfhP5285HO0KOS/OcG/qKJi77/F3xBiNrbCv3PvpPXTOb8/",
            "dtype": "f8"
           }
          },
          {
           "name": "Fixed Nodes",
           "type": "scatter3d",
           "x": [],
           "y": [],
           "z": []
          },
          {
           "name": "Edges",
           "type": "scatter3d",
           "x": [
            0.06707832423119707,
            0.14852907172647165,
            null,
            0.14852907172647165,
            0.7843926040423573,
            null,
            0.7843926040423573,
            0.06707832423119707,
            null,
            1.7910096193684997,
            1.1794785765981748,
            null,
            1.1794785765981748,
            2.0295118040335973,
            null,
            2.0295118040335973,
            1.7910096193684997,
            null
           ],
           "y": [
            0.7822528498848618,
            -0.019604561703353986,
            null,
            -0.019604561703353986,
            0.2373517118184983,
            null,
            0.2373517118184983,
            0.7822528498848618,
            null,
            0.747013833924932,
            0.0025650447197927972,
            null,
            0.0025650447197927972,
            0.25042112135562317,
            null,
            0.25042112135562317,
            0.747013833924932,
            null
           ],
           "z": [
            0.5321382298711069,
            -0.6299688590569478,
            null,
            -0.6299688590569478,
            0.097830629185909,
            null,
            0.097830629185909,
            0.5321382298711069,
            null,
            -0.1461856821858857,
            0.12197613475012563,
            null,
            0.12197613475012563,
            -0.9807904525642136,
            null,
            -0.9807904525642136,
            -0.1461856821858857,
            null
           ]
          },
          {
           "i": [
            0,
            3
           ],
           "j": [
            1,
            4
           ],
           "k": [
            2,
            5
           ],
           "name": "Faces",
           "type": "mesh3d",
           "x": {
            "bdata": "K8KyhL4Z6T8H7teICyyxP/sDySgAA8M/slxJr3A8AEBVJeCz+af8Pw8mje0k3/I/",
            "dtype": "f8"
           },
           "y": {
            "bdata": "En30d4phzj84qu4gNwjpP7ooed03E5S/mc2cT+YG0D/Dv0uOiefnPwCv5eVJA2U/",
            "dtype": "f8"
           },
           "z": {
            "bdata": "j4zmmG0LuT9x7cfARgfhP5285HO0KOS/OcG/qKJi77/F3xBiNrbCv3PvpPXTOb8/",
            "dtype": "f8"
           }
          }
         ],
         "layout": {
          "annotations": [
           {
            "showarrow": false,
            "text": "Time: 0.86s (Step: 87/100)",
            "x": 0.05,
            "xref": "paper",
            "y": 0.95,
            "yref": "paper"
           }
          ]
         },
         "name": "86"
        },
        {
         "data": [
          {
           "name": "Free Nodes",
           "type": "scatter3d",
           "x": {
            "bdata": "VR8fyWFK6T+w4QSxHB27PxIrAgbVj7o/8wV8f7vw/z+NSIBrjbH8P122AxW3XfM/",
            "dtype": "f8"
           },
           "y": {
            "bdata": "9Ly0GMDxzT8Yt/Y+RvbnP3U8g1s3qZE/Hu+NaAJQyj/a3D16OGPoP9c867lujKA/",
            "dtype": "f8"
           },
           "z": {
            "bdata": "cr7WEDpWrj+6CvC512riPzB0/Vo7UOS/cHcIbfTg7780VzymK2PIvyZ2aDGhV8U/",
            "dtype": "f8"
           }
          },
          {
           "name": "Fixed Nodes",
           "type": "scatter3d",
           "x": [],
           "y": [],
           "z": []
          },
          {
           "name": "Edges",
           "type": "scatter3d",
           "x": [
            0.10591296502832992,
            0.10375720402423053,
            null,
            0.10375720402423053,
            0.7903298309474659,
            null,
            0.7903298309474659,
            0.10591296502832992,
            null,
            1.7933477591764444,
            1.2103796788100205,
            null,
            1.2103796788100205,
            1.9962725620138115,
            null,
            1.9962725620138115,
            1.7933477591764444,
            null
           ],
           "y": [
            0.7488127927551629,
            0.017247071228493078,
            null,
            0.017247071228493078,
            0.23394013601635033,
            null,
            0.23394013601635033,
            0.7488127927551629,
            null,
            0.762111891511178,
            0.032321415133645885,
            null,
            0.032321415133645885,
            0.20556669335552952,
            null,
            0.20556669335552952,
            0.762111891511178,
            null
           ],
           "z": [
            0.575542319449901,
            -0.6347939278745169,
            null,
            -0.6347939278745169,
            0.05925160842468537,
            null,
            0.05925160842468537,
            0.575542319449901,
            null,
            -0.19052644364335836,
            0.16673674499991015,
            null,
            0.16673674499991015,
            -0.9962103013565251,
            null,
            -0.9962103013565251,
            -0.19052644364335836,
            null
           ]
          },
          {
           "i": [
            0,
            3
           ],
           "j": [
            1,
            4
           ],
           "k": [
            2,
            5
           ],
           "name": "Faces",
           "type": "mesh3d",
           "x": {
            "bdata": "VR8fyWFK6T+w4QSxHB27PxIrAgbVj7o/8wV8f7vw/z+NSIBrjbH8P122AxW3XfM/",
            "dtype": "f8"
           },
           "y": {
            "bdata": "9Ly0GMDxzT8Yt/Y+RvbnP3U8g1s3qZE/Hu+NaAJQyj/a3D16OGPoP9c867lujKA/",
            "dtype": "f8"
           },
           "z": {
            "bdata": "cr7WEDpWrj+6CvC512riPzB0/Vo7UOS/cHcIbfTg7780VzymK2PIvyZ2aDGhV8U/",
            "dtype": "f8"
           }
          }
         ],
         "layout": {
          "annotations": [
           {
            "showarrow": false,
            "text": "Time: 0.87s (Step: 88/100)",
            "x": 0.05,
            "xref": "paper",
            "y": 0.95,
            "yref": "paper"
           }
          ]
         },
         "name": "87"
        },
        {
         "data": [
          {
           "name": "Free Nodes",
           "type": "scatter3d",
           "x": {
            "bdata": "Er6iv7Bh6T+AaCH3ocLCP9mLTils2q4/vKjpgH5h/z82KyVDlLT8PwAx8Tvt6fM/",
            "dtype": "f8"
           },
           "y": {
            "bdata": "2LCUm96qzT9ryRd2FMvmP5ypMDA+o6w/GQzZxfWwxD9IsGc0esHoP4fKENFCkrA/",
            "dtype": "f8"
           },
           "z": {
            "bdata": "csltK6MWlj98AK0mmKbjP0tsCEBNV+S/IerF/egf8L+jxZT0lgzOvwAGFpv9kMo/",
            "dtype": "f8"
           }
          },
          {
           "name": "Fixed Nodes",
           "type": "scatter3d",
           "x": [],
           "y": [],
           "z": []
          },
          {
           "name": "Edges",
           "type": "scatter3d",
           "x": [
            0.1465647179309748,
            0.06026018146737728,
            null,
            0.06026018146737728,
            0.7931751006016745,
            null,
            0.7931751006016745,
            0.1465647179309748,
            null,
            1.7940867064341552,
            1.2446110097399128,
            null,
            1.2446110097399128,
            1.961302283826213,
            null,
            1.961302283826213,
            1.7940867064341552,
            null
           ],
           "y": [
            0.7122900301458633,
            0.055932944662646394,
            null,
            0.055932944662646394,
            0.2317770251914968,
            null,
            0.2317770251914968,
            0.7122900301458633,
            null,
            0.7736178420577824,
            0.06473176578655614,
            null,
            0.06473176578655614,
            0.1616503921560202,
            null,
            0.1616503921560202,
            0.7736178420577824,
            null
           ],
           "z": [
            0.614086223162317,
            -0.6356569529192567,
            null,
            -0.6356569529192567,
            0.021570729757010416,
            null,
            0.021570729757010416,
            0.614086223162317,
            null,
            -0.23475920622290145,
            0.20754976341781628,
            null,
            0.20754976341781628,
            -1.0077905571948877,
            null,
            -1.0077905571948877,
            -0.23475920622290145,
            null
           ]
          },
          {
           "i": [
            0,
            3
           ],
           "j": [
            1,
            4
           ],
           "k": [
            2,
            5
           ],
           "name": "Faces",
           "type": "mesh3d",
           "x": {
            "bdata": "Er6iv7Bh6T+AaCH3ocLCP9mLTils2q4/vKjpgH5h/z82KyVDlLT8PwAx8Tvt6fM/",
            "dtype": "f8"
           },
           "y": {
            "bdata": "2LCUm96qzT9ryRd2FMvmP5ypMDA+o6w/GQzZxfWwxD9IsGc0esHoP4fKENFCkrA/",
            "dtype": "f8"
           },
           "z": {
            "bdata": "csltK6MWlj98AK0mmKbjP0tsCEBNV+S/IerF/egf8L+jxZT0lgzOvwAGFpv9kMo/",
            "dtype": "f8"
           }
          }
         ],
         "layout": {
          "annotations": [
           {
            "showarrow": false,
            "text": "Time: 0.88s (Step: 89/100)",
            "x": 0.05,
            "xref": "paper",
            "y": 0.95,
            "yref": "paper"
           }
          ]
         },
         "name": "88"
        },
        {
         "data": [
          {
           "name": "Free Nodes",
           "type": "scatter3d",
           "x": {
            "bdata": "O7Ytse1h6T+WvkybNSPIPyJi4/+cqJI/+K9L8uLL/j/dUc9ggrH8PzID5ayagvQ/",
            "dtype": "f8"
           },
           "y": {
            "bdata": "GVO8vtKIzT9Beyf+cYnlP6qBS5HKorg/sTHTCUFpvj9OJ86qEwTpP136u58hdrk/",
            "dtype": "f8"
           },
           "z": {
            "bdata": "Unj37bCujr8PUI4YQLjkP6Zv1lSFPeS/Wj+bJZs/8L94ToBaedLRvzw1dHtlO88/",
            "dtype": "f8"
           }
          },
          {
           "name": "Fixed Nodes",
           "type": "scatter3d",
           "x": [],
           "y": [],
           "z": []
          },
          {
           "name": "Edges",
           "type": "scatter3d",
           "x": [
            0.1885745056438181,
            0.018221333616425757,
            null,
            0.018221333616425757,
            0.793204160739783,
            null,
            0.793204160739783,
            0.1885745056438181,
            null,
            1.7933372289309013,
            1.2818857911772281,
            null,
            1.2818857911772281,
            1.9247769798921563,
            null,
            1.9247769798921563,
            1.7933372289309013,
            null
           ],
           "y": [
            0.6730279888105103,
            0.09623399779548572,
            null,
            0.09623399779548572,
            0.2307380133940107,
            null,
            0.2307380133940107,
            0.6730279888105103,
            null,
            0.7817476593056456,
            0.09945879125368991,
            null,
            0.09945879125368991,
            0.11879354944102861,
            null,
            0.11879354944102861,
            0.7817476593056456,
            null
           ],
           "z": [
            0.64749150081707,
            -0.6325098664269617,
            null,
            -0.6325098664269617,
            -0.014981634390036334,
            null,
            -0.014981634390036334,
            0.64749150081707,
            null,
            -0.2784713157463794,
            0.244000134735339,
            null,
            0.244000134735339,
            -1.015528818988932,
            null,
            -1.015528818988932,
            -0.2784713157463794,
            null
           ]
          },
          {
           "i": [
            0,
            3
           ],
           "j": [
            1,
            4
           ],
           "k": [
            2,
            5
           ],
           "name": "Faces",
           "type": "mesh3d",
           "x": {
            "bdata": "O7Ytse1h6T+WvkybNSPIPyJi4/+cqJI/+K9L8uLL/j/dUc9ggrH8PzID5ayagvQ/",
            "dtype": "f8"
           },
           "y": {
            "bdata": "GVO8vtKIzT9Beyf+cYnlP6qBS5HKorg/sTHTCUFpvj9OJ86qEwTpP136u58hdrk/",
            "dtype": "f8"
           },
           "z": {
            "bdata": "Unj37bCujr8PUI4YQLjkP6Zv1lSFPeS/Wj+bJZs/8L94ToBaedLRvzw1dHtlO88/",
            "dtype": "f8"
           }
          }
         ],
         "layout": {
          "annotations": [
           {
            "showarrow": false,
            "text": "Time: 0.89s (Step: 90/100)",
            "x": 0.05,
            "xref": "paper",
            "y": 0.95,
            "yref": "paper"
           }
          ]
         },
         "name": "89"
        },
        {
         "data": [
          {
           "name": "Free Nodes",
           "type": "scatter3d",
           "x": {
            "bdata": "Q6wNIkhN6T/S9g2FBqHNP4kgJWo4sZa/JWJa0Kkw/j/CwrYh56j8PzXg7g1vJvU/",
            "dtype": "f8"
           },
           "y": {
            "bdata": "N4kDpT2HzT+FZ4dHYjTkP67Z3jw5p8E/+HIy3Wq+sz9km+n8Bi3pP/WMwJ2ubME/",
            "dtype": "f8"
           },
           "z": {
            "bdata": "2AyvVYO5qb/yP7JEKp7lP5JMVw+SAuS/VLsSaIBP8L86ScEtlJDUv1zcfAugpdE/",
            "dtype": "f8"
           }
          },
          {
           "name": "Fixed Nodes",
           "type": "scatter3d",
           "x": [],
           "y": [],
           "z": []
          },
          {
           "name": "Edges",
           "type": "scatter3d",
           "x": [
            0.23147660729221414,
            -0.02216041705949626,
            null,
            -0.02216041705949626,
            0.7906838097673091,
            null,
            0.7906838097673091,
            0.23147660729221414,
            null,
            1.791236049361189,
            1.3218832535039955,
            null,
            1.3218832535039955,
            1.886880697135106,
            null,
            1.886880697135106,
            1.791236049361189,
            null
           ],
           "y": [
            0.631394519524506,
            0.137915758821419,
            null,
            0.137915758821419,
            0.23068972165408194,
            null,
            0.23068972165408194,
            0.631394519524506,
            null,
            0.7867464961717414,
            0.13612921431295147,
            null,
            0.13612921431295147,
            0.07712428951567663,
            null,
            0.07712428951567663,
            0.7867464961717414,
            null
           ],
           "z": [
            0.6755572644924526,
            -0.6253137874249595,
            null,
            -0.6253137874249595,
            -0.050243477067419995,
            null,
            -0.050243477067419995,
            0.6755572644924526,
            null,
            -0.3213243910623934,
            0.27573395845269544,
            null,
            0.27573395845269544,
            -1.0194095673902739,
            null,
            -1.0194095673902739,
            -0.3213243910623934,
            null
           ]
          },
          {
           "i": [
            0,
            3
           ],
           "j": [
            1,
            4
           ],
           "k": [
            2,
            5
           ],
           "name": "Faces",
           "type": "mesh3d",
           "x": {
            "bdata": "Q6wNIkhN6T/S9g2FBqHNP4kgJWo4sZa/JWJa0Kkw/j/CwrYh56j8PzXg7g1vJvU/",
            "dtype": "f8"
           },
           "y": {
            "bdata": "N4kDpT2HzT+FZ4dHYjTkP67Z3jw5p8E/+HIy3Wq+sz9km+n8Bi3pP/WMwJ2ubME/",
            "dtype": "f8"
           },
           "z": {
            "bdata": "2AyvVYO5qb/yP7JEKp7lP5JMVw+SAuS/VLsSaIBP8L86ScEtlJDUv1zcfAugpdE/",
            "dtype": "f8"
           }
          }
         ],
         "layout": {
          "annotations": [
           {
            "showarrow": false,
            "text": "Time: 0.90s (Step: 91/100)",
            "x": 0.05,
            "xref": "paper",
            "y": 0.95,
            "yref": "paper"
           }
          ]
         },
         "name": "90"
        },
        {
         "data": [
          {
           "name": "Free Nodes",
           "type": "scatter3d",
           "x": {
            "bdata": "92N5i8gl6T94UA11epbRP+CzAGBcEK+/JeJk5Z+Q/T8UURcyY5v8P/jRg+j80/U/",
            "dtype": "f8"
           },
           "y": {
            "bdata": "sLCPk7ihzT/UfO9dDM/iPwFdsvQVIsc/Eh1rzhvVoj/TH9nSdD7pPzPuAMHlUMY/",
            "dtype": "f8"
           },
           "z": {
            "bdata": "Xd/vVHGItb9X9Vi6U1fmP8/2uo9FpuO/vdc/9IFP8L/0MPzmRzzXv88MEGaXW9M/",
            "dtype": "f8"
           }
          },
          {
           "name": "Fixed Nodes",
           "type": "scatter3d",
           "x": [],
           "y": [],
           "z": []
          },
          {
           "name": "Edges",
           "type": "scatter3d",
           "x": [
            0.2748094695173289,
            -0.060671698302350086,
            null,
            -0.060671698302350086,
            0.7858622287850484,
            null,
            0.7858622287850484,
            0.2748094695173289,
            null,
            1.787936397236142,
            1.3642548639883199,
            null,
            1.3642548639883199,
            1.8478087387758333,
            null,
            1.8478087387758333,
            1.787936397236142,
            null
           ],
           "y": [
            0.587774451701899,
            0.18072771499712562,
            null,
            0.18072771499712562,
            0.2314978333009825,
            null,
            0.2314978333009825,
            0.587774451701899,
            null,
            0.7888740652206202,
            0.1743437950516281,
            null,
            0.1743437950516281,
            0.03678213972812662,
            null,
            0.03678213972812662,
            0.7888740652206202,
            null
           ],
           "z": [
            0.6981600417708859,
            -0.6140468413575152,
            null,
            -0.6140468413575152,
            -0.08411320041329647,
            null,
            -0.08411320041329647,
            0.6981600417708859,
            null,
            -0.3630542522157747,
            0.30246529547748663,
            null,
            0.30246529547748663,
            -1.0194110432616832,
            null,
            -1.0194110432616832,
            -0.3630542522157747,
            null
           ]
          },
          {
           "i": [
            0,
            3
           ],
           "j": [
            1,
            4
           ],
           "k": [
            2,
            5
           ],
           "name": "Faces",
           "type": "mesh3d",
           "x": {
            "bdata": "92N5i8gl6T94UA11epbRP+CzAGBcEK+/JeJk5Z+Q/T8UURcyY5v8P/jRg+j80/U/",
            "dtype": "f8"
           },
           "y": {
            "bdata": "sLCPk7ihzT/UfO9dDM/iPwFdsvQVIsc/Eh1rzhvVoj/TH9nSdD7pPzPuAMHlUMY/",
            "dtype": "f8"
           },
           "z": {
            "bdata": "Xd/vVHGItb9X9Vi6U1fmP8/2uo9FpuO/vdc/9IFP8L/0MPzmRzzXv88MEGaXW9M/",
            "dtype": "f8"
           }
          }
         ],
         "layout": {
          "annotations": [
           {
            "showarrow": false,
            "text": "Time: 0.91s (Step: 92/100)",
            "x": 0.05,
            "xref": "paper",
            "y": 0.95,
            "yref": "paper"
           }
          ]
         },
         "name": "91"
        },
        {
         "data": [
          {
           "name": "Free Nodes",
           "type": "scatter3d",
           "x": {
            "bdata": "FVVclUHt6D8BcwPaKlzUP/Zs8BK42ri/g+Ql55/s/D8vbVI9n4n8P5Szh9vAifY/",
            "dtype": "f8"
           },
           "y": {
            "bdata": "BzjVsA7UzT++Be5hq1zhPwuycsdDucw/yYT/ktUIYb+YSWpXgTrpPzsNo/gdWss/",
            "dtype": "f8"
           },
           "z": {
            "bdata": "UizD/5LVvb8jnAjPVuPmP/MzEG+kKOO/9f5wXIo/8L/N6iboaNLZv546o3gXvNQ/",
            "dtype": "f8"
           }
          },
          {
           "name": "Fixed Nodes",
           "type": "scatter3d",
           "x": [],
           "y": [],
           "z": []
          },
          {
           "name": "Edges",
           "type": "scatter3d",
           "x": [
            0.31812545099619177,
            -0.0970873876798811,
            null,
            -0.0970873876798811,
            0.7789619366837167,
            null,
            0.7789619366837167,
            0.31812545099619177,
            null,
            1.7835991282834802,
            1.4086311889070418,
            null,
            1.4086311889070418,
            1.8077696828097778,
            null,
            1.8077696828097778,
            1.7835991282834802,
            null
           ],
           "y": [
            0.5425621903124733,
            0.22440383185075094,
            null,
            0.22440383185075094,
            0.23303397783678312,
            null,
            0.23303397783678312,
            0.5425621903124733,
            null,
            0.7883917529418794,
            0.2136876548812355,
            null,
            0.2136876548812355,
            -0.002079407822734501,
            null,
            -0.002079407822734501,
            0.7883917529418794,
            null
           ],
           "z": [
            0.7152513545632967,
            -0.5987112206654487,
            null,
            -0.5987112206654487,
            -0.11654013389777276,
            null,
            -0.11654013389777276,
            0.7152513545632967,
            null,
            -0.4034673945531438,
            0.32398020535485184,
            null,
            0.32398020535485184,
            -1.0155128108016787,
            null,
            -1.0155128108016787,
            -0.4034673945531438,
            null
           ]
          },
          {
           "i": [
            0,
            3
           ],
           "j": [
            1,
            4
           ],
           "k": [
            2,
            5
           ],
           "name": "Faces",
           "type": "mesh3d",
           "x": {
            "bdata": "FVVclUHt6D8BcwPaKlzUP/Zs8BK42ri/g+Ql55/s/D8vbVI9n4n8P5Szh9vAifY/",
            "dtype": "f8"
           },
           "y": {
            "bdata": "BzjVsA7UzT++Be5hq1zhPwuycsdDucw/yYT/ktUIYb+YSWpXgTrpPzsNo/gdWss/",
            "dtype": "f8"
           },
           "z": {
            "bdata": "UizD/5LVvb8jnAjPVuPmP/MzEG+kKOO/9f5wXIo/8L/N6iboaNLZv546o3gXvNQ/",
            "dtype": "f8"
           }
          }
         ],
         "layout": {
          "annotations": [
           {
            "showarrow": false,
            "text": "Time: 0.92s (Step: 93/100)",
            "x": 0.05,
            "xref": "paper",
            "y": 0.95,
            "yref": "paper"
           }
          ]
         },
         "name": "92"
        },
        {
         "data": [
          {
           "name": "Free Nodes",
           "type": "scatter3d",
           "x": {
            "bdata": "gx7fjkal6D/L+FulnBrXP79nNIZTysC/gluKUpNF/D9jww+cQ3T8P3bmZREpRvc/",
            "dtype": "f8"
           },
           "y": {
            "bdata": "cr0SoWsazj+Kl4RW/8DfP0YK8tjKMdE/7ApOWhwepL8A3fedPSPpP4QiWk9IPdA/",
            "dtype": "f8"
           },
           "z": {
            "bdata": "iXoYGL/hwr8WSRAZYkLnP8UnClPyieK/McbTmI0f8L/033/22VDcv8kjK+nSxNU/",
            "dtype": "f8"
           }
          },
          {
           "name": "Fixed Nodes",
           "type": "scatter3d",
           "x": [],
           "y": [],
           "z": []
          },
          {
           "name": "Edges",
           "type": "scatter3d",
           "x": [
            0.3609992613636563,
            -0.13117450764621982,
            null,
            -0.13117450764621982,
            0.7701752462825912,
            null,
            0.7701752462825912,
            0.3609992613636563,
            null,
            1.778384790053871,
            1.4546290092097514,
            null,
            1.4546290092097514,
            1.7669862007366821,
            null,
            1.7669862007366821,
            1.778384790053871,
            null
           ],
           "y": [
            0.496154627313779,
            0.2686640852554415,
            null,
            0.2686640852554415,
            0.2351812874307871,
            null,
            0.2351812874307871,
            0.496154627313779,
            null,
            0.7855518422428815,
            0.2537403845713373,
            null,
            0.2537403845713373,
            -0.039292226813833014,
            null,
            -0.039292226813833014,
            0.7855518422428815,
            null
           ],
           "z": [
            0.7268534173511252,
            -0.5793391820782224,
            null,
            -0.5793391820782224,
            -0.1475142352728265,
            null,
            -0.1475142352728265,
            0.7268534173511252,
            null,
            -0.44243477890222427,
            0.34013817568171284,
            null,
            0.34013817568171284,
            -1.0077033967794586,
            null,
            -1.0077033967794586,
            -0.44243477890222427,
            null
           ]
          },
          {
           "i": [
            0,
            3
           ],
           "j": [
            1,
            4
           ],
           "k": [
            2,
            5
           ],
           "name": "Faces",
           "type": "mesh3d",
           "x": {
            "bdata": "gx7fjkal6D/L+FulnBrXP79nNIZTysC/gluKUpNF/D9jww+cQ3T8P3bmZREpRvc/",
            "dtype": "f8"
           },
           "y": {
            "bdata": "cr0SoWsazj+Kl4RW/8DfP0YK8tjKMdE/7ApOWhwepL8A3fedPSPpP4QiWk9IPdA/",
            "dtype": "f8"
           },
           "z": {
            "bdata": "iXoYGL/hwr8WSRAZYkLnP8UnClPyieK/McbTmI0f8L/033/22VDcv8kjK+nSxNU/",
            "dtype": "f8"
           }
          }
         ],
         "layout": {
          "annotations": [
           {
            "showarrow": false,
            "text": "Time: 0.93s (Step: 94/100)",
            "x": 0.05,
            "xref": "paper",
            "y": 0.95,
            "yref": "paper"
           }
          ]
         },
         "name": "93"
        },
        {
         "data": [
          {
           "name": "Free Nodes",
           "type": "scatter3d",
           "x": {
            "bdata": "4LEGrSZP6D9XQ5ArU8vZP0JKOwtB08S/zfNzGnKc+z+ioZhB8Vv8PwFw86OcB/g/",
            "dtype": "f8"
           },
           "y": {
            "bdata": "PFrzq35xzj9tH+4BgrvcPwI0GKi+C9Q/S2/BwN4ds78PZzHNlfroPz+pzRVM0tI/",
            "dtype": "f8"
           },
           "z": {
            "bdata": "s7u0xMGpxr/GYONQLHXnPyEvtt+7yuG/FMbtMiHf779ydq4larbev78EiousdNY/",
            "dtype": "f8"
           }
          },
          {
           "name": "Fixed Nodes",
           "type": "scatter3d",
           "x": [],
           "y": [],
           "z": []
          },
          {
           "name": "Edges",
           "type": "scatter3d",
           "x": [
            0.40303496603251204,
            -0.16269696281831797,
            null,
            -0.16269696281831797,
            0.7596619967858338,
            null,
            0.7596619967858338,
            0.40303496603251204,
            null,
            1.7724468767502022,
            1.50185836833316,
            null,
            1.50185836833316,
            1.7256947549169468,
            null,
            1.7256947549169468,
            1.7724468767502022,
            null
           ],
           "y": [
            0.4489445704316413,
            0.3132168427990224,
            null,
            0.3132168427990224,
            0.2378385867693441,
            null,
            0.2378385867693441,
            0.4489445704316413,
            null,
            0.7805890090632789,
            0.2940855229304766,
            null,
            0.2940855229304766,
            -0.07467453199336409,
            null,
            -0.07467453199336409,
            0.7805890090632789,
            null
           ],
           "z": [
            0.7330533580634657,
            -0.555997788369016,
            null,
            -0.555997788369016,
            -0.1770555696943724,
            null,
            -0.1770555696943724,
            0.7330533580634657,
            null,
            -0.47988370590051155,
            0.35087121607655186,
            null,
            0.35087121607655186,
            -0.9959875101760098,
            null,
            -0.9959875101760098,
            -0.47988370590051155,
            null
           ]
          },
          {
           "i": [
            0,
            3
           ],
           "j": [
            1,
            4
           ],
           "k": [
            2,
            5
           ],
           "name": "Faces",
           "type": "mesh3d",
           "x": {
            "bdata": "4LEGrSZP6D9XQ5ArU8vZP0JKOwtB08S/zfNzGnKc+z+ioZhB8Vv8PwFw86OcB/g/",
            "dtype": "f8"
           },
           "y": {
            "bdata": "PFrzq35xzj9tH+4BgrvcPwI0GKi+C9Q/S2/BwN4ds78PZzHNlfroPz+pzRVM0tI/",
            "dtype": "f8"
           },
           "z": {
            "bdata": "s7u0xMGpxr/GYONQLHXnPyEvtt+7yuG/FMbtMiHf779ydq4larbev78EiousdNY/",
            "dtype": "f8"
           }
          }
         ],
         "layout": {
          "annotations": [
           {
            "showarrow": false,
            "text": "Time: 0.94s (Step: 95/100)",
            "x": 0.05,
            "xref": "paper",
            "y": 0.95,
            "yref": "paper"
           }
          ]
         },
         "name": "94"
        },
        {
         "data": [
          {
           "name": "Free Nodes",
           "type": "scatter3d",
           "x": {
            "bdata": "AbOzeOzr5z+ugKYQZGjcP23JGwR6gMi/FiDqTEHy+j/QY3AKPEH8P5+BpaiCzPg/",
            "dtype": "f8"
           },
           "y": {
            "bdata": "TWGarpLWzj8IJfpoJK/ZP+KquD+S5dY/h0tOZBCou78aAfgQRMLoP52sI/d7ZdU/",
            "dtype": "f8"
           },
           "z": {
            "bdata": "nW61TiBEyr8yXL/n5XznP8n9EdTd6+C/okpXCGBf77+wtwXbVoHgv93dXTery9Y/",
            "dtype": "f8"
           }
          },
          {
           "name": "Fixed Nodes",
           "type": "scatter3d",
           "x": [],
           "y": [],
           "z": []
          },
          {
           "name": "Edges",
           "type": "scatter3d",
           "x": [
            0.4438715136148045,
            -0.19142079544651427,
            null,
            -0.19142079544651427,
            0.7475492818317379,
            null,
            0.7475492818317379,
            0.4438715136148045,
            null,
            1.7659263999723755,
            1.549929293418337,
            null,
            1.549929293418337,
            1.6841443066096011,
            null,
            1.6841443066096011,
            1.7659263999723755,
            null
           ],
           "y": [
            0.40131483318016636,
            0.3577619192389375,
            null,
            0.3577619192389375,
            0.24092324758090414,
            null,
            0.24092324758090414,
            0.40131483318016636,
            null,
            0.773714097158549,
            0.33431910643293766,
            null,
            0.33431910643293766,
            -0.10803320359108969,
            null,
            -0.10803320359108969,
            0.773714097158549,
            null
           ],
           "z": [
            0.7339963461225862,
            -0.5287922994611388,
            null,
            -0.5287922994611388,
            -0.20520404666136907,
            null,
            -0.20520404666136907,
            0.7339963461225862,
            null,
            -0.5157884862689937,
            0.35618095786000287,
            null,
            0.35618095786000287,
            -0.9803924715909782,
            null,
            -0.9803924715909782,
            -0.5157884862689937,
            null
           ]
          },
          {
           "i": [
            0,
            3
           ],
           "j": [
            1,
            4
           ],
           "k": [
            2,
            5
           ],
           "name": "Faces",
           "type": "mesh3d",
           "x": {
            "bdata": "AbOzeOzr5z+ugKYQZGjcP23JGwR6gMi/FiDqTEHy+j/QY3AKPEH8P5+BpaiCzPg/",
            "dtype": "f8"
           },
           "y": {
            "bdata": "TWGarpLWzj8IJfpoJK/ZP+KquD+S5dY/h0tOZBCou78aAfgQRMLoP52sI/d7ZdU/",
            "dtype": "f8"
           },
           "z": {
            "bdata": "nW61TiBEyr8yXL/n5XznP8n9EdTd6+C/okpXCGBf77+wtwXbVoHgv93dXTery9Y/",
            "dtype": "f8"
           }
          }
         ],
         "layout": {
          "annotations": [
           {
            "showarrow": false,
            "text": "Time: 0.95s (Step: 96/100)",
            "x": 0.05,
            "xref": "paper",
            "y": 0.95,
            "yref": "paper"
           }
          ]
         },
         "name": "95"
        },
        {
         "data": [
          {
           "name": "Free Nodes",
           "type": "scatter3d",
           "x": {
            "bdata": "RhRuyGB85z8pKctaiOzeP3KfTteTysu/Ludv2hBI+j/p2tZ0piT8P4RDubBIk/k/",
            "dtype": "f8"
           },
           "y": {
            "bdata": "4CSjhptHzz+Anu6j7KHWP6TPv5hFutk/RQquqzrQwb+trJYVyHvoPxzIqSqN8Nc/",
            "dtype": "f8"
           },
           "z": {
            "bdata": "7xaeI3+yzb+TlPoPKVvnPxcYJo4S3d+/ajYbtUvA7r+PXTpB6prhvz/Y8s3mytY/",
            "dtype": "f8"
           }
          },
          {
           "name": "Fixed Nodes",
           "type": "scatter3d",
           "x": [],
           "y": [],
           "z": []
          },
          {
           "name": "Edges",
           "type": "scatter3d",
           "x": [
            0.48318680635988415,
            -0.21711967480700484,
            null,
            -0.21711967480700484,
            0.7339328684471489,
            null,
            0.7339328684471489,
            0.48318680635988415,
            null,
            1.7589478076967515,
            1.598457994772816,
            null,
            1.598457994772816,
            1.6425941975307512,
            null,
            1.6425941975307512,
            1.7589478076967515,
            null
           ],
           "y": [
            0.353633079614589,
            0.40199413220329405,
            null,
            0.40199413220329405,
            0.24437278818212516,
            null,
            0.24437278818212516,
            0.353633079614589,
            null,
            0.7651100560809901,
            0.3740570942528636,
            null,
            0.3740570942528636,
            -0.1391671503334512,
            null,
            -0.1391671503334512,
            0.7651100560809901,
            null
           ],
           "z": [
            0.7298779785238757,
            -0.49786819345206496,
            null,
            -0.49786819345206496,
            -0.23200978507173128,
            null,
            -0.23200978507173128,
            0.7298779785238757,
            null,
            -0.5501605295166189,
            0.35613412964028507,
            null,
            0.35613412964028507,
            -0.9609736001236346,
            null,
            -0.9609736001236346,
            -0.5501605295166189,
            null
           ]
          },
          {
           "i": [
            0,
            3
           ],
           "j": [
            1,
            4
           ],
           "k": [
            2,
            5
           ],
           "name": "Faces",
           "type": "mesh3d",
           "x": {
            "bdata": "RhRuyGB85z8pKctaiOzeP3KfTteTysu/Ludv2hBI+j/p2tZ0piT8P4RDubBIk/k/",
            "dtype": "f8"
           },
           "y": {
            "bdata": "4CSjhptHzz+Anu6j7KHWP6TPv5hFutk/RQquqzrQwb+trJYVyHvoPxzIqSqN8Nc/",
            "dtype": "f8"
           },
           "z": {
            "bdata": "7xaeI3+yzb+TlPoPKVvnPxcYJo4S3d+/ajYbtUvA7r+PXTpB6prhvz/Y8s3mytY/",
            "dtype": "f8"
           }
          }
         ],
         "layout": {
          "annotations": [
           {
            "showarrow": false,
            "text": "Time: 0.96s (Step: 97/100)",
            "x": 0.05,
            "xref": "paper",
            "y": 0.95,
            "yref": "paper"
           }
          ]
         },
         "name": "96"
        },
        {
         "data": [
          {
           "name": "Free Nodes",
           "type": "scatter3d",
           "x": {
            "bdata": "aq6goRAB5z/sLDzXk6ngP1xpc+ORqs6/IHh6rvie+T8pjMK4ngb8P2gBw5hoWvo/",
            "dtype": "f8"
           },
           "y": {
            "bdata": "zVal5TnDzz98qMgDj5nTP7SsZAnUhNw/dxXqc898xb9t3fKjYijoP5psD3Kibdo/",
            "dtype": "f8"
           },
           "z": {
            "bdata": "VWrHiUd70L/xu1Xd6BHnP+EH5DCKqN2/9JBnwJsC7r8Jg90UQKjiv1uvdfxvdNY/",
            "dtype": "f8"
           }
          },
          {
           "name": "Fixed Nodes",
           "type": "scatter3d",
           "x": [],
           "y": [],
           "z": []
          },
          {
           "name": "Edges",
           "type": "scatter3d",
           "x": [
            0.5207003787812972,
            -0.2395803795432795,
            null,
            -0.2395803795432795,
            0.7188800007620106,
            null,
            0.7188800007620106,
            0.5207003787812972,
            null,
            1.7516162125764458,
            1.647072407460735,
            null,
            1.647072407460735,
            1.6013113799631427,
            null,
            1.6013113799631427,
            1.7516162125764458,
            null
           ],
           "y": [
            0.3062474762870193,
            0.44560719411192484,
            null,
            0.44560719411192484,
            0.2481453296010642,
            null,
            0.2481453296010642,
            0.3062474762870193,
            null,
            0.7549298479197383,
            0.41294156206795096,
            null,
            0.41294156206795096,
            -0.1678714099872811,
            null,
            -0.1678714099872811,
            0.7549298479197383,
            null
           ],
           "z": [
            0.7209362338015791,
            -0.46341185354697073,
            null,
            -0.46341185354697073,
            -0.2575243802545278,
            null,
            -0.2575243802545278,
            0.7209362338015791,
            null,
            -0.5830383689427389,
            0.35085677770870455,
            null,
            0.35085677770870455,
            -0.9378184087659336,
            null,
            -0.9378184087659336,
            -0.5830383689427389,
            null
           ]
          },
          {
           "i": [
            0,
            3
           ],
           "j": [
            1,
            4
           ],
           "k": [
            2,
            5
           ],
           "name": "Faces",
           "type": "mesh3d",
           "x": {
            "bdata": "aq6goRAB5z/sLDzXk6ngP1xpc+ORqs6/IHh6rvie+T8pjMK4ngb8P2gBw5hoWvo/",
            "dtype": "f8"
           },
           "y": {
            "bdata": "zVal5TnDzz98qMgDj5nTP7SsZAnUhNw/dxXqc898xb9t3fKjYijoP5psD3Kibdo/",
            "dtype": "f8"
           },
           "z": {
            "bdata": "VWrHiUd70L/xu1Xd6BHnP+EH5DCKqN2/9JBnwJsC7r8Jg90UQKjiv1uvdfxvdNY/",
            "dtype": "f8"
           }
          }
         ],
         "layout": {
          "annotations": [
           {
            "showarrow": false,
            "text": "Time: 0.97s (Step: 98/100)",
            "x": 0.05,
            "xref": "paper",
            "y": 0.95,
            "yref": "paper"
           }
          ]
         },
         "name": "97"
        },
        {
         "data": [
          {
           "name": "Free Nodes",
           "type": "scatter3d",
           "x": {
            "bdata": "Zi/YY1V65j9XXr4ML8zhP3kZLeEIjdC/ylGYRxX4+D/NOZQnfef7PzF605BtIPs/",
            "dtype": "f8"
           },
           "y": {
            "bdata": "WN0xUVsk0D/xIFZOX5vQP1ACeGBFQN8/DC9y/hTTyL/s7LndFMnnP8taxcNg19w/",
            "dtype": "f8"
           },
           "z": {
            "bdata": "hfGqn+YI0r8SPdwMYKPmP9+CDXrZPdu/rK5xX1En7b+RLLnWzanjv+4U5S40y9U/",
            "dtype": "f8"
           }
          },
          {
           "name": "Fixed Nodes",
           "type": "scatter3d",
           "x": [],
           "y": [],
           "z": []
          },
          {
           "name": "Edges",
           "type": "scatter3d",
           "x": [
            0.5561747788332906,
            -0.25860807409153314,
            null,
            -0.25860807409153314,
            0.702433295258271,
            null,
            0.702433295258271,
            0.5561747788332906,
            null,
            1.7440158411078415,
            1.6954169900196912,
            null,
            1.6954169900196912,
            1.560567168872796,
            null,
            1.560567168872796,
            1.7440158411078415,
            null
           ],
           "y": [
            0.25948317194025977,
            0.4882977907255155,
            null,
            0.4882977907255155,
            0.25221903733423323,
            null,
            0.25221903733423323,
            0.25948317194025977,
            null,
            0.7432960825530279,
            0.45064562910321787,
            null,
            0.45064562910321787,
            -0.19394171165583207,
            null,
            -0.19394171165583207,
            0.7432960825530279,
            null
           ],
           "z": [
            0.7074432612588757,
            -0.42564999503342266,
            null,
            -0.42564999503342266,
            -0.2817932662253713,
            null,
            -0.2817932662253713,
            0.7074432612588757,
            null,
            -0.6144780343833124,
            0.3405275781590963,
            null,
            0.3405275781590963,
            -0.9110495437757513,
            null,
            -0.9110495437757513,
            -0.6144780343833124,
            null
           ]
          },
          {
           "i": [
            0,
            3
           ],
           "j": [
            1,
            4
           ],
           "k": [
            2,
            5
           ],
           "name": "Faces",
           "type": "mesh3d",
           "x": {
            "bdata": "Zi/YY1V65j9XXr4ML8zhP3kZLeEIjdC/ylGYRxX4+D/NOZQnfef7PzF605BtIPs/",
            "dtype": "f8"
           },
           "y": {
            "bdata": "WN0xUVsk0D/xIFZOX5vQP1ACeGBFQN8/DC9y/hTTyL/s7LndFMnnP8taxcNg19w/",
            "dtype": "f8"
           },
           "z": {
            "bdata": "hfGqn+YI0r8SPdwMYKPmP9+CDXrZPdu/rK5xX1En7b+RLLnWzanjv+4U5S40y9U/",
            "dtype": "f8"
           }
          }
         ],
         "layout": {
          "annotations": [
           {
            "showarrow": false,
            "text": "Time: 0.98s (Step: 99/100)",
            "x": 0.05,
            "xref": "paper",
            "y": 0.95,
            "yref": "paper"
           }
          ]
         },
         "name": "98"
        },
        {
         "data": [
          {
           "name": "Free Nodes",
           "type": "scatter3d",
           "x": {
            "bdata": "gOGuq17o5T9bPWxyftziP7Q7Njy6idG/1Pv1+oNU+D9trXKzg8f7P51cl1H44/s/",
            "dtype": "f8"
           },
           "y": {
            "bdata": "mp3FVvtr0D/EGc3eiljLPxDr6Zzf8+A/rjhFqYfMy7+ClR2Ool7nP9SOZ7j+KN8/",
            "dtype": "f8"
           },
           "z": {
            "bdata": "TV9opaaC07962F3u/xHmP9RLUzdZodi/o2Ff/bov7L+evsbqGqDkvwp2fwPf0tQ/",
            "dtype": "f8"
           }
          },
          {
           "name": "Fixed Nodes",
           "type": "scatter3d",
           "x": [],
           "y": [],
           "z": []
          },
          {
           "name": "Edges",
           "type": "scatter3d",
           "x": [
            0.5894157633610279,
            -0.27403121833861666,
            null,
            -0.27403121833861666,
            0.6846154549776173,
            null,
            0.6846154549776173,
            0.5894157633610279,
            null,
            1.736209584206189,
            1.7431567370565866,
            null,
            1.7431567370565866,
            1.5206336787375578,
            null,
            1.5206336787375578,
            1.736209584206189,
            null
           ],
           "y": [
            0.2136396015068397,
            0.5297697128984016,
            null,
            0.5297697128984016,
            0.2565906855947674,
            null,
            0.2565906855947674,
            0.2136396015068397,
            null,
            0.7303021217054921,
            0.48687713630918705,
            null,
            0.48687713630918705,
            -0.2171792580142599,
            null,
            -0.2171792580142599,
            0.7303021217054921,
            null
           ],
           "z": [
            0.689697232780204,
            -0.38484793093556147,
            null,
            -0.38484793093556147,
            -0.3048493018445598,
            null,
            -0.3048493018445598,
            0.689697232780204,
            null,
            -0.6445440850711355,
            0.3253705534133081,
            null,
            0.3253705534133081,
            -0.8808264683421395,
            null,
            -0.8808264683421395,
            -0.6445440850711355,
            null
           ]
          },
          {
           "i": [
            0,
            3
           ],
           "j": [
            1,
            4
           ],
           "k": [
            2,
            5
           ],
           "name": "Faces",
           "type": "mesh3d",
           "x": {
            "bdata": "gOGuq17o5T9bPWxyftziP7Q7Njy6idG/1Pv1+oNU+D9trXKzg8f7P51cl1H44/s/",
            "dtype": "f8"
           },
           "y": {
            "bdata": "mp3FVvtr0D/EGc3eiljLPxDr6Zzf8+A/rjhFqYfMy7+ClR2Ool7nP9SOZ7j+KN8/",
            "dtype": "f8"
           },
           "z": {
            "bdata": "TV9opaaC07962F3u/xHmP9RLUzdZodi/o2Ff/bov7L+evsbqGqDkvwp2fwPf0tQ/",
            "dtype": "f8"
           }
          }
         ],
         "layout": {
          "annotations": [
           {
            "showarrow": false,
            "text": "Time: 0.99s (Step: 100/100)",
            "x": 0.05,
            "xref": "paper",
            "y": 0.95,
            "yref": "paper"
           }
          ]
         },
         "name": "99"
        }
       ],
       "layout": {
        "scene": {
         "camera": {
          "eye": {
           "x": 1.2247448713915892,
           "y": 1.2247448713915892,
           "z": 0.9999999999999999
          }
         },
         "xaxis": {
          "range": [
           -0.27403121833861666,
           2.3183787249684387
          ],
          "title": {
           "text": "X Position"
          }
         },
         "yaxis": {
          "range": [
           -0.315403041869118,
           1.0000161632875146
          ],
          "title": {
           "text": "Y Position"
          }
         },
         "zaxis": {
          "range": [
           -1.0194110432616832,
           0.7604197656123147
          ],
          "title": {
           "text": "Z Position"
          }
         }
        },
        "sliders": [
         {
          "currentvalue": {
           "prefix": "Frame: "
          },
          "steps": [
           {
            "args": [
             [
              "0"
             ],
             {
              "frame": {
               "duration": 50,
               "redraw": true
              },
              "mode": "immediate"
             }
            ],
            "label": "0",
            "method": "animate"
           },
           {
            "args": [
             [
              "1"
             ],
             {
              "frame": {
               "duration": 50,
               "redraw": true
              },
              "mode": "immediate"
             }
            ],
            "label": "1",
            "method": "animate"
           },
           {
            "args": [
             [
              "2"
             ],
             {
              "frame": {
               "duration": 50,
               "redraw": true
              },
              "mode": "immediate"
             }
            ],
            "label": "2",
            "method": "animate"
           },
           {
            "args": [
             [
              "3"
             ],
             {
              "frame": {
               "duration": 50,
               "redraw": true
              },
              "mode": "immediate"
             }
            ],
            "label": "3",
            "method": "animate"
           },
           {
            "args": [
             [
              "4"
             ],
             {
              "frame": {
               "duration": 50,
               "redraw": true
              },
              "mode": "immediate"
             }
            ],
            "label": "4",
            "method": "animate"
           },
           {
            "args": [
             [
              "5"
             ],
             {
              "frame": {
               "duration": 50,
               "redraw": true
              },
              "mode": "immediate"
             }
            ],
            "label": "5",
            "method": "animate"
           },
           {
            "args": [
             [
              "6"
             ],
             {
              "frame": {
               "duration": 50,
               "redraw": true
              },
              "mode": "immediate"
             }
            ],
            "label": "6",
            "method": "animate"
           },
           {
            "args": [
             [
              "7"
             ],
             {
              "frame": {
               "duration": 50,
               "redraw": true
              },
              "mode": "immediate"
             }
            ],
            "label": "7",
            "method": "animate"
           },
           {
            "args": [
             [
              "8"
             ],
             {
              "frame": {
               "duration": 50,
               "redraw": true
              },
              "mode": "immediate"
             }
            ],
            "label": "8",
            "method": "animate"
           },
           {
            "args": [
             [
              "9"
             ],
             {
              "frame": {
               "duration": 50,
               "redraw": true
              },
              "mode": "immediate"
             }
            ],
            "label": "9",
            "method": "animate"
           },
           {
            "args": [
             [
              "10"
             ],
             {
              "frame": {
               "duration": 50,
               "redraw": true
              },
              "mode": "immediate"
             }
            ],
            "label": "10",
            "method": "animate"
           },
           {
            "args": [
             [
              "11"
             ],
             {
              "frame": {
               "duration": 50,
               "redraw": true
              },
              "mode": "immediate"
             }
            ],
            "label": "11",
            "method": "animate"
           },
           {
            "args": [
             [
              "12"
             ],
             {
              "frame": {
               "duration": 50,
               "redraw": true
              },
              "mode": "immediate"
             }
            ],
            "label": "12",
            "method": "animate"
           },
           {
            "args": [
             [
              "13"
             ],
             {
              "frame": {
               "duration": 50,
               "redraw": true
              },
              "mode": "immediate"
             }
            ],
            "label": "13",
            "method": "animate"
           },
           {
            "args": [
             [
              "14"
             ],
             {
              "frame": {
               "duration": 50,
               "redraw": true
              },
              "mode": "immediate"
             }
            ],
            "label": "14",
            "method": "animate"
           },
           {
            "args": [
             [
              "15"
             ],
             {
              "frame": {
               "duration": 50,
               "redraw": true
              },
              "mode": "immediate"
             }
            ],
            "label": "15",
            "method": "animate"
           },
           {
            "args": [
             [
              "16"
             ],
             {
              "frame": {
               "duration": 50,
               "redraw": true
              },
              "mode": "immediate"
             }
            ],
            "label": "16",
            "method": "animate"
           },
           {
            "args": [
             [
              "17"
             ],
             {
              "frame": {
               "duration": 50,
               "redraw": true
              },
              "mode": "immediate"
             }
            ],
            "label": "17",
            "method": "animate"
           },
           {
            "args": [
             [
              "18"
             ],
             {
              "frame": {
               "duration": 50,
               "redraw": true
              },
              "mode": "immediate"
             }
            ],
            "label": "18",
            "method": "animate"
           },
           {
            "args": [
             [
              "19"
             ],
             {
              "frame": {
               "duration": 50,
               "redraw": true
              },
              "mode": "immediate"
             }
            ],
            "label": "19",
            "method": "animate"
           },
           {
            "args": [
             [
              "20"
             ],
             {
              "frame": {
               "duration": 50,
               "redraw": true
              },
              "mode": "immediate"
             }
            ],
            "label": "20",
            "method": "animate"
           },
           {
            "args": [
             [
              "21"
             ],
             {
              "frame": {
               "duration": 50,
               "redraw": true
              },
              "mode": "immediate"
             }
            ],
            "label": "21",
            "method": "animate"
           },
           {
            "args": [
             [
              "22"
             ],
             {
              "frame": {
               "duration": 50,
               "redraw": true
              },
              "mode": "immediate"
             }
            ],
            "label": "22",
            "method": "animate"
           },
           {
            "args": [
             [
              "23"
             ],
             {
              "frame": {
               "duration": 50,
               "redraw": true
              },
              "mode": "immediate"
             }
            ],
            "label": "23",
            "method": "animate"
           },
           {
            "args": [
             [
              "24"
             ],
             {
              "frame": {
               "duration": 50,
               "redraw": true
              },
              "mode": "immediate"
             }
            ],
            "label": "24",
            "method": "animate"
           },
           {
            "args": [
             [
              "25"
             ],
             {
              "frame": {
               "duration": 50,
               "redraw": true
              },
              "mode": "immediate"
             }
            ],
            "label": "25",
            "method": "animate"
           },
           {
            "args": [
             [
              "26"
             ],
             {
              "frame": {
               "duration": 50,
               "redraw": true
              },
              "mode": "immediate"
             }
            ],
            "label": "26",
            "method": "animate"
           },
           {
            "args": [
             [
              "27"
             ],
             {
              "frame": {
               "duration": 50,
               "redraw": true
              },
              "mode": "immediate"
             }
            ],
            "label": "27",
            "method": "animate"
           },
           {
            "args": [
             [
              "28"
             ],
             {
              "frame": {
               "duration": 50,
               "redraw": true
              },
              "mode": "immediate"
             }
            ],
            "label": "28",
            "method": "animate"
           },
           {
            "args": [
             [
              "29"
             ],
             {
              "frame": {
               "duration": 50,
               "redraw": true
              },
              "mode": "immediate"
             }
            ],
            "label": "29",
            "method": "animate"
           },
           {
            "args": [
             [
              "30"
             ],
             {
              "frame": {
               "duration": 50,
               "redraw": true
              },
              "mode": "immediate"
             }
            ],
            "label": "30",
            "method": "animate"
           },
           {
            "args": [
             [
              "31"
             ],
             {
              "frame": {
               "duration": 50,
               "redraw": true
              },
              "mode": "immediate"
             }
            ],
            "label": "31",
            "method": "animate"
           },
           {
            "args": [
             [
              "32"
             ],
             {
              "frame": {
               "duration": 50,
               "redraw": true
              },
              "mode": "immediate"
             }
            ],
            "label": "32",
            "method": "animate"
           },
           {
            "args": [
             [
              "33"
             ],
             {
              "frame": {
               "duration": 50,
               "redraw": true
              },
              "mode": "immediate"
             }
            ],
            "label": "33",
            "method": "animate"
           },
           {
            "args": [
             [
              "34"
             ],
             {
              "frame": {
               "duration": 50,
               "redraw": true
              },
              "mode": "immediate"
             }
            ],
            "label": "34",
            "method": "animate"
           },
           {
            "args": [
             [
              "35"
             ],
             {
              "frame": {
               "duration": 50,
               "redraw": true
              },
              "mode": "immediate"
             }
            ],
            "label": "35",
            "method": "animate"
           },
           {
            "args": [
             [
              "36"
             ],
             {
              "frame": {
               "duration": 50,
               "redraw": true
              },
              "mode": "immediate"
             }
            ],
            "label": "36",
            "method": "animate"
           },
           {
            "args": [
             [
              "37"
             ],
             {
              "frame": {
               "duration": 50,
               "redraw": true
              },
              "mode": "immediate"
             }
            ],
            "label": "37",
            "method": "animate"
           },
           {
            "args": [
             [
              "38"
             ],
             {
              "frame": {
               "duration": 50,
               "redraw": true
              },
              "mode": "immediate"
             }
            ],
            "label": "38",
            "method": "animate"
           },
           {
            "args": [
             [
              "39"
             ],
             {
              "frame": {
               "duration": 50,
               "redraw": true
              },
              "mode": "immediate"
             }
            ],
            "label": "39",
            "method": "animate"
           },
           {
            "args": [
             [
              "40"
             ],
             {
              "frame": {
               "duration": 50,
               "redraw": true
              },
              "mode": "immediate"
             }
            ],
            "label": "40",
            "method": "animate"
           },
           {
            "args": [
             [
              "41"
             ],
             {
              "frame": {
               "duration": 50,
               "redraw": true
              },
              "mode": "immediate"
             }
            ],
            "label": "41",
            "method": "animate"
           },
           {
            "args": [
             [
              "42"
             ],
             {
              "frame": {
               "duration": 50,
               "redraw": true
              },
              "mode": "immediate"
             }
            ],
            "label": "42",
            "method": "animate"
           },
           {
            "args": [
             [
              "43"
             ],
             {
              "frame": {
               "duration": 50,
               "redraw": true
              },
              "mode": "immediate"
             }
            ],
            "label": "43",
            "method": "animate"
           },
           {
            "args": [
             [
              "44"
             ],
             {
              "frame": {
               "duration": 50,
               "redraw": true
              },
              "mode": "immediate"
             }
            ],
            "label": "44",
            "method": "animate"
           },
           {
            "args": [
             [
              "45"
             ],
             {
              "frame": {
               "duration": 50,
               "redraw": true
              },
              "mode": "immediate"
             }
            ],
            "label": "45",
            "method": "animate"
           },
           {
            "args": [
             [
              "46"
             ],
             {
              "frame": {
               "duration": 50,
               "redraw": true
              },
              "mode": "immediate"
             }
            ],
            "label": "46",
            "method": "animate"
           },
           {
            "args": [
             [
              "47"
             ],
             {
              "frame": {
               "duration": 50,
               "redraw": true
              },
              "mode": "immediate"
             }
            ],
            "label": "47",
            "method": "animate"
           },
           {
            "args": [
             [
              "48"
             ],
             {
              "frame": {
               "duration": 50,
               "redraw": true
              },
              "mode": "immediate"
             }
            ],
            "label": "48",
            "method": "animate"
           },
           {
            "args": [
             [
              "49"
             ],
             {
              "frame": {
               "duration": 50,
               "redraw": true
              },
              "mode": "immediate"
             }
            ],
            "label": "49",
            "method": "animate"
           },
           {
            "args": [
             [
              "50"
             ],
             {
              "frame": {
               "duration": 50,
               "redraw": true
              },
              "mode": "immediate"
             }
            ],
            "label": "50",
            "method": "animate"
           },
           {
            "args": [
             [
              "51"
             ],
             {
              "frame": {
               "duration": 50,
               "redraw": true
              },
              "mode": "immediate"
             }
            ],
            "label": "51",
            "method": "animate"
           },
           {
            "args": [
             [
              "52"
             ],
             {
              "frame": {
               "duration": 50,
               "redraw": true
              },
              "mode": "immediate"
             }
            ],
            "label": "52",
            "method": "animate"
           },
           {
            "args": [
             [
              "53"
             ],
             {
              "frame": {
               "duration": 50,
               "redraw": true
              },
              "mode": "immediate"
             }
            ],
            "label": "53",
            "method": "animate"
           },
           {
            "args": [
             [
              "54"
             ],
             {
              "frame": {
               "duration": 50,
               "redraw": true
              },
              "mode": "immediate"
             }
            ],
            "label": "54",
            "method": "animate"
           },
           {
            "args": [
             [
              "55"
             ],
             {
              "frame": {
               "duration": 50,
               "redraw": true
              },
              "mode": "immediate"
             }
            ],
            "label": "55",
            "method": "animate"
           },
           {
            "args": [
             [
              "56"
             ],
             {
              "frame": {
               "duration": 50,
               "redraw": true
              },
              "mode": "immediate"
             }
            ],
            "label": "56",
            "method": "animate"
           },
           {
            "args": [
             [
              "57"
             ],
             {
              "frame": {
               "duration": 50,
               "redraw": true
              },
              "mode": "immediate"
             }
            ],
            "label": "57",
            "method": "animate"
           },
           {
            "args": [
             [
              "58"
             ],
             {
              "frame": {
               "duration": 50,
               "redraw": true
              },
              "mode": "immediate"
             }
            ],
            "label": "58",
            "method": "animate"
           },
           {
            "args": [
             [
              "59"
             ],
             {
              "frame": {
               "duration": 50,
               "redraw": true
              },
              "mode": "immediate"
             }
            ],
            "label": "59",
            "method": "animate"
           },
           {
            "args": [
             [
              "60"
             ],
             {
              "frame": {
               "duration": 50,
               "redraw": true
              },
              "mode": "immediate"
             }
            ],
            "label": "60",
            "method": "animate"
           },
           {
            "args": [
             [
              "61"
             ],
             {
              "frame": {
               "duration": 50,
               "redraw": true
              },
              "mode": "immediate"
             }
            ],
            "label": "61",
            "method": "animate"
           },
           {
            "args": [
             [
              "62"
             ],
             {
              "frame": {
               "duration": 50,
               "redraw": true
              },
              "mode": "immediate"
             }
            ],
            "label": "62",
            "method": "animate"
           },
           {
            "args": [
             [
              "63"
             ],
             {
              "frame": {
               "duration": 50,
               "redraw": true
              },
              "mode": "immediate"
             }
            ],
            "label": "63",
            "method": "animate"
           },
           {
            "args": [
             [
              "64"
             ],
             {
              "frame": {
               "duration": 50,
               "redraw": true
              },
              "mode": "immediate"
             }
            ],
            "label": "64",
            "method": "animate"
           },
           {
            "args": [
             [
              "65"
             ],
             {
              "frame": {
               "duration": 50,
               "redraw": true
              },
              "mode": "immediate"
             }
            ],
            "label": "65",
            "method": "animate"
           },
           {
            "args": [
             [
              "66"
             ],
             {
              "frame": {
               "duration": 50,
               "redraw": true
              },
              "mode": "immediate"
             }
            ],
            "label": "66",
            "method": "animate"
           },
           {
            "args": [
             [
              "67"
             ],
             {
              "frame": {
               "duration": 50,
               "redraw": true
              },
              "mode": "immediate"
             }
            ],
            "label": "67",
            "method": "animate"
           },
           {
            "args": [
             [
              "68"
             ],
             {
              "frame": {
               "duration": 50,
               "redraw": true
              },
              "mode": "immediate"
             }
            ],
            "label": "68",
            "method": "animate"
           },
           {
            "args": [
             [
              "69"
             ],
             {
              "frame": {
               "duration": 50,
               "redraw": true
              },
              "mode": "immediate"
             }
            ],
            "label": "69",
            "method": "animate"
           },
           {
            "args": [
             [
              "70"
             ],
             {
              "frame": {
               "duration": 50,
               "redraw": true
              },
              "mode": "immediate"
             }
            ],
            "label": "70",
            "method": "animate"
           },
           {
            "args": [
             [
              "71"
             ],
             {
              "frame": {
               "duration": 50,
               "redraw": true
              },
              "mode": "immediate"
             }
            ],
            "label": "71",
            "method": "animate"
           },
           {
            "args": [
             [
              "72"
             ],
             {
              "frame": {
               "duration": 50,
               "redraw": true
              },
              "mode": "immediate"
             }
            ],
            "label": "72",
            "method": "animate"
           },
           {
            "args": [
             [
              "73"
             ],
             {
              "frame": {
               "duration": 50,
               "redraw": true
              },
              "mode": "immediate"
             }
            ],
            "label": "73",
            "method": "animate"
           },
           {
            "args": [
             [
              "74"
             ],
             {
              "frame": {
               "duration": 50,
               "redraw": true
              },
              "mode": "immediate"
             }
            ],
            "label": "74",
            "method": "animate"
           },
           {
            "args": [
             [
              "75"
             ],
             {
              "frame": {
               "duration": 50,
               "redraw": true
              },
              "mode": "immediate"
             }
            ],
            "label": "75",
            "method": "animate"
           },
           {
            "args": [
             [
              "76"
             ],
             {
              "frame": {
               "duration": 50,
               "redraw": true
              },
              "mode": "immediate"
             }
            ],
            "label": "76",
            "method": "animate"
           },
           {
            "args": [
             [
              "77"
             ],
             {
              "frame": {
               "duration": 50,
               "redraw": true
              },
              "mode": "immediate"
             }
            ],
            "label": "77",
            "method": "animate"
           },
           {
            "args": [
             [
              "78"
             ],
             {
              "frame": {
               "duration": 50,
               "redraw": true
              },
              "mode": "immediate"
             }
            ],
            "label": "78",
            "method": "animate"
           },
           {
            "args": [
             [
              "79"
             ],
             {
              "frame": {
               "duration": 50,
               "redraw": true
              },
              "mode": "immediate"
             }
            ],
            "label": "79",
            "method": "animate"
           },
           {
            "args": [
             [
              "80"
             ],
             {
              "frame": {
               "duration": 50,
               "redraw": true
              },
              "mode": "immediate"
             }
            ],
            "label": "80",
            "method": "animate"
           },
           {
            "args": [
             [
              "81"
             ],
             {
              "frame": {
               "duration": 50,
               "redraw": true
              },
              "mode": "immediate"
             }
            ],
            "label": "81",
            "method": "animate"
           },
           {
            "args": [
             [
              "82"
             ],
             {
              "frame": {
               "duration": 50,
               "redraw": true
              },
              "mode": "immediate"
             }
            ],
            "label": "82",
            "method": "animate"
           },
           {
            "args": [
             [
              "83"
             ],
             {
              "frame": {
               "duration": 50,
               "redraw": true
              },
              "mode": "immediate"
             }
            ],
            "label": "83",
            "method": "animate"
           },
           {
            "args": [
             [
              "84"
             ],
             {
              "frame": {
               "duration": 50,
               "redraw": true
              },
              "mode": "immediate"
             }
            ],
            "label": "84",
            "method": "animate"
           },
           {
            "args": [
             [
              "85"
             ],
             {
              "frame": {
               "duration": 50,
               "redraw": true
              },
              "mode": "immediate"
             }
            ],
            "label": "85",
            "method": "animate"
           },
           {
            "args": [
             [
              "86"
             ],
             {
              "frame": {
               "duration": 50,
               "redraw": true
              },
              "mode": "immediate"
             }
            ],
            "label": "86",
            "method": "animate"
           },
           {
            "args": [
             [
              "87"
             ],
             {
              "frame": {
               "duration": 50,
               "redraw": true
              },
              "mode": "immediate"
             }
            ],
            "label": "87",
            "method": "animate"
           },
           {
            "args": [
             [
              "88"
             ],
             {
              "frame": {
               "duration": 50,
               "redraw": true
              },
              "mode": "immediate"
             }
            ],
            "label": "88",
            "method": "animate"
           },
           {
            "args": [
             [
              "89"
             ],
             {
              "frame": {
               "duration": 50,
               "redraw": true
              },
              "mode": "immediate"
             }
            ],
            "label": "89",
            "method": "animate"
           },
           {
            "args": [
             [
              "90"
             ],
             {
              "frame": {
               "duration": 50,
               "redraw": true
              },
              "mode": "immediate"
             }
            ],
            "label": "90",
            "method": "animate"
           },
           {
            "args": [
             [
              "91"
             ],
             {
              "frame": {
               "duration": 50,
               "redraw": true
              },
              "mode": "immediate"
             }
            ],
            "label": "91",
            "method": "animate"
           },
           {
            "args": [
             [
              "92"
             ],
             {
              "frame": {
               "duration": 50,
               "redraw": true
              },
              "mode": "immediate"
             }
            ],
            "label": "92",
            "method": "animate"
           },
           {
            "args": [
             [
              "93"
             ],
             {
              "frame": {
               "duration": 50,
               "redraw": true
              },
              "mode": "immediate"
             }
            ],
            "label": "93",
            "method": "animate"
           },
           {
            "args": [
             [
              "94"
             ],
             {
              "frame": {
               "duration": 50,
               "redraw": true
              },
              "mode": "immediate"
             }
            ],
            "label": "94",
            "method": "animate"
           },
           {
            "args": [
             [
              "95"
             ],
             {
              "frame": {
               "duration": 50,
               "redraw": true
              },
              "mode": "immediate"
             }
            ],
            "label": "95",
            "method": "animate"
           },
           {
            "args": [
             [
              "96"
             ],
             {
              "frame": {
               "duration": 50,
               "redraw": true
              },
              "mode": "immediate"
             }
            ],
            "label": "96",
            "method": "animate"
           },
           {
            "args": [
             [
              "97"
             ],
             {
              "frame": {
               "duration": 50,
               "redraw": true
              },
              "mode": "immediate"
             }
            ],
            "label": "97",
            "method": "animate"
           },
           {
            "args": [
             [
              "98"
             ],
             {
              "frame": {
               "duration": 50,
               "redraw": true
              },
              "mode": "immediate"
             }
            ],
            "label": "98",
            "method": "animate"
           },
           {
            "args": [
             [
              "99"
             ],
             {
              "frame": {
               "duration": 50,
               "redraw": true
              },
              "mode": "immediate"
             }
            ],
            "label": "99",
            "method": "animate"
           }
          ],
          "transition": {
           "duration": 0
          },
          "x": 0.1,
          "y": 0
         }
        ],
        "template": {
         "data": {
          "bar": [
           {
            "error_x": {
             "color": "#2a3f5f"
            },
            "error_y": {
             "color": "#2a3f5f"
            },
            "marker": {
             "line": {
              "color": "#E5ECF6",
              "width": 0.5
             },
             "pattern": {
              "fillmode": "overlay",
              "size": 10,
              "solidity": 0.2
             }
            },
            "type": "bar"
           }
          ],
          "barpolar": [
           {
            "marker": {
             "line": {
              "color": "#E5ECF6",
              "width": 0.5
             },
             "pattern": {
              "fillmode": "overlay",
              "size": 10,
              "solidity": 0.2
             }
            },
            "type": "barpolar"
           }
          ],
          "carpet": [
           {
            "aaxis": {
             "endlinecolor": "#2a3f5f",
             "gridcolor": "white",
             "linecolor": "white",
             "minorgridcolor": "white",
             "startlinecolor": "#2a3f5f"
            },
            "baxis": {
             "endlinecolor": "#2a3f5f",
             "gridcolor": "white",
             "linecolor": "white",
             "minorgridcolor": "white",
             "startlinecolor": "#2a3f5f"
            },
            "type": "carpet"
           }
          ],
          "choropleth": [
           {
            "colorbar": {
             "outlinewidth": 0,
             "ticks": ""
            },
            "type": "choropleth"
           }
          ],
          "contour": [
           {
            "colorbar": {
             "outlinewidth": 0,
             "ticks": ""
            },
            "colorscale": [
             [
              0,
              "#0d0887"
             ],
             [
              0.1111111111111111,
              "#46039f"
             ],
             [
              0.2222222222222222,
              "#7201a8"
             ],
             [
              0.3333333333333333,
              "#9c179e"
             ],
             [
              0.4444444444444444,
              "#bd3786"
             ],
             [
              0.5555555555555556,
              "#d8576b"
             ],
             [
              0.6666666666666666,
              "#ed7953"
             ],
             [
              0.7777777777777778,
              "#fb9f3a"
             ],
             [
              0.8888888888888888,
              "#fdca26"
             ],
             [
              1,
              "#f0f921"
             ]
            ],
            "type": "contour"
           }
          ],
          "contourcarpet": [
           {
            "colorbar": {
             "outlinewidth": 0,
             "ticks": ""
            },
            "type": "contourcarpet"
           }
          ],
          "heatmap": [
           {
            "colorbar": {
             "outlinewidth": 0,
             "ticks": ""
            },
            "colorscale": [
             [
              0,
              "#0d0887"
             ],
             [
              0.1111111111111111,
              "#46039f"
             ],
             [
              0.2222222222222222,
              "#7201a8"
             ],
             [
              0.3333333333333333,
              "#9c179e"
             ],
             [
              0.4444444444444444,
              "#bd3786"
             ],
             [
              0.5555555555555556,
              "#d8576b"
             ],
             [
              0.6666666666666666,
              "#ed7953"
             ],
             [
              0.7777777777777778,
              "#fb9f3a"
             ],
             [
              0.8888888888888888,
              "#fdca26"
             ],
             [
              1,
              "#f0f921"
             ]
            ],
            "type": "heatmap"
           }
          ],
          "histogram": [
           {
            "marker": {
             "pattern": {
              "fillmode": "overlay",
              "size": 10,
              "solidity": 0.2
             }
            },
            "type": "histogram"
           }
          ],
          "histogram2d": [
           {
            "colorbar": {
             "outlinewidth": 0,
             "ticks": ""
            },
            "colorscale": [
             [
              0,
              "#0d0887"
             ],
             [
              0.1111111111111111,
              "#46039f"
             ],
             [
              0.2222222222222222,
              "#7201a8"
             ],
             [
              0.3333333333333333,
              "#9c179e"
             ],
             [
              0.4444444444444444,
              "#bd3786"
             ],
             [
              0.5555555555555556,
              "#d8576b"
             ],
             [
              0.6666666666666666,
              "#ed7953"
             ],
             [
              0.7777777777777778,
              "#fb9f3a"
             ],
             [
              0.8888888888888888,
              "#fdca26"
             ],
             [
              1,
              "#f0f921"
             ]
            ],
            "type": "histogram2d"
           }
          ],
          "histogram2dcontour": [
           {
            "colorbar": {
             "outlinewidth": 0,
             "ticks": ""
            },
            "colorscale": [
             [
              0,
              "#0d0887"
             ],
             [
              0.1111111111111111,
              "#46039f"
             ],
             [
              0.2222222222222222,
              "#7201a8"
             ],
             [
              0.3333333333333333,
              "#9c179e"
             ],
             [
              0.4444444444444444,
              "#bd3786"
             ],
             [
              0.5555555555555556,
              "#d8576b"
             ],
             [
              0.6666666666666666,
              "#ed7953"
             ],
             [
              0.7777777777777778,
              "#fb9f3a"
             ],
             [
              0.8888888888888888,
              "#fdca26"
             ],
             [
              1,
              "#f0f921"
             ]
            ],
            "type": "histogram2dcontour"
           }
          ],
          "mesh3d": [
           {
            "colorbar": {
             "outlinewidth": 0,
             "ticks": ""
            },
            "type": "mesh3d"
           }
          ],
          "parcoords": [
           {
            "line": {
             "colorbar": {
              "outlinewidth": 0,
              "ticks": ""
             }
            },
            "type": "parcoords"
           }
          ],
          "pie": [
           {
            "automargin": true,
            "type": "pie"
           }
          ],
          "scatter": [
           {
            "fillpattern": {
             "fillmode": "overlay",
             "size": 10,
             "solidity": 0.2
            },
            "type": "scatter"
           }
          ],
          "scatter3d": [
           {
            "line": {
             "colorbar": {
              "outlinewidth": 0,
              "ticks": ""
             }
            },
            "marker": {
             "colorbar": {
              "outlinewidth": 0,
              "ticks": ""
             }
            },
            "type": "scatter3d"
           }
          ],
          "scattercarpet": [
           {
            "marker": {
             "colorbar": {
              "outlinewidth": 0,
              "ticks": ""
             }
            },
            "type": "scattercarpet"
           }
          ],
          "scattergeo": [
           {
            "marker": {
             "colorbar": {
              "outlinewidth": 0,
              "ticks": ""
             }
            },
            "type": "scattergeo"
           }
          ],
          "scattergl": [
           {
            "marker": {
             "colorbar": {
              "outlinewidth": 0,
              "ticks": ""
             }
            },
            "type": "scattergl"
           }
          ],
          "scattermap": [
           {
            "marker": {
             "colorbar": {
              "outlinewidth": 0,
              "ticks": ""
             }
            },
            "type": "scattermap"
           }
          ],
          "scattermapbox": [
           {
            "marker": {
             "colorbar": {
              "outlinewidth": 0,
              "ticks": ""
             }
            },
            "type": "scattermapbox"
           }
          ],
          "scatterpolar": [
           {
            "marker": {
             "colorbar": {
              "outlinewidth": 0,
              "ticks": ""
             }
            },
            "type": "scatterpolar"
           }
          ],
          "scatterpolargl": [
           {
            "marker": {
             "colorbar": {
              "outlinewidth": 0,
              "ticks": ""
             }
            },
            "type": "scatterpolargl"
           }
          ],
          "scatterternary": [
           {
            "marker": {
             "colorbar": {
              "outlinewidth": 0,
              "ticks": ""
             }
            },
            "type": "scatterternary"
           }
          ],
          "surface": [
           {
            "colorbar": {
             "outlinewidth": 0,
             "ticks": ""
            },
            "colorscale": [
             [
              0,
              "#0d0887"
             ],
             [
              0.1111111111111111,
              "#46039f"
             ],
             [
              0.2222222222222222,
              "#7201a8"
             ],
             [
              0.3333333333333333,
              "#9c179e"
             ],
             [
              0.4444444444444444,
              "#bd3786"
             ],
             [
              0.5555555555555556,
              "#d8576b"
             ],
             [
              0.6666666666666666,
              "#ed7953"
             ],
             [
              0.7777777777777778,
              "#fb9f3a"
             ],
             [
              0.8888888888888888,
              "#fdca26"
             ],
             [
              1,
              "#f0f921"
             ]
            ],
            "type": "surface"
           }
          ],
          "table": [
           {
            "cells": {
             "fill": {
              "color": "#EBF0F8"
             },
             "line": {
              "color": "white"
             }
            },
            "header": {
             "fill": {
              "color": "#C8D4E3"
             },
             "line": {
              "color": "white"
             }
            },
            "type": "table"
           }
          ]
         },
         "layout": {
          "annotationdefaults": {
           "arrowcolor": "#2a3f5f",
           "arrowhead": 0,
           "arrowwidth": 1
          },
          "autotypenumbers": "strict",
          "coloraxis": {
           "colorbar": {
            "outlinewidth": 0,
            "ticks": ""
           }
          },
          "colorscale": {
           "diverging": [
            [
             0,
             "#8e0152"
            ],
            [
             0.1,
             "#c51b7d"
            ],
            [
             0.2,
             "#de77ae"
            ],
            [
             0.3,
             "#f1b6da"
            ],
            [
             0.4,
             "#fde0ef"
            ],
            [
             0.5,
             "#f7f7f7"
            ],
            [
             0.6,
             "#e6f5d0"
            ],
            [
             0.7,
             "#b8e186"
            ],
            [
             0.8,
             "#7fbc41"
            ],
            [
             0.9,
             "#4d9221"
            ],
            [
             1,
             "#276419"
            ]
           ],
           "sequential": [
            [
             0,
             "#0d0887"
            ],
            [
             0.1111111111111111,
             "#46039f"
            ],
            [
             0.2222222222222222,
             "#7201a8"
            ],
            [
             0.3333333333333333,
             "#9c179e"
            ],
            [
             0.4444444444444444,
             "#bd3786"
            ],
            [
             0.5555555555555556,
             "#d8576b"
            ],
            [
             0.6666666666666666,
             "#ed7953"
            ],
            [
             0.7777777777777778,
             "#fb9f3a"
            ],
            [
             0.8888888888888888,
             "#fdca26"
            ],
            [
             1,
             "#f0f921"
            ]
           ],
           "sequentialminus": [
            [
             0,
             "#0d0887"
            ],
            [
             0.1111111111111111,
             "#46039f"
            ],
            [
             0.2222222222222222,
             "#7201a8"
            ],
            [
             0.3333333333333333,
             "#9c179e"
            ],
            [
             0.4444444444444444,
             "#bd3786"
            ],
            [
             0.5555555555555556,
             "#d8576b"
            ],
            [
             0.6666666666666666,
             "#ed7953"
            ],
            [
             0.7777777777777778,
             "#fb9f3a"
            ],
            [
             0.8888888888888888,
             "#fdca26"
            ],
            [
             1,
             "#f0f921"
            ]
           ]
          },
          "colorway": [
           "#636efa",
           "#EF553B",
           "#00cc96",
           "#ab63fa",
           "#FFA15A",
           "#19d3f3",
           "#FF6692",
           "#B6E880",
           "#FF97FF",
           "#FECB52"
          ],
          "font": {
           "color": "#2a3f5f"
          },
          "geo": {
           "bgcolor": "white",
           "lakecolor": "white",
           "landcolor": "#E5ECF6",
           "showlakes": true,
           "showland": true,
           "subunitcolor": "white"
          },
          "hoverlabel": {
           "align": "left"
          },
          "hovermode": "closest",
          "mapbox": {
           "style": "light"
          },
          "paper_bgcolor": "white",
          "plot_bgcolor": "#E5ECF6",
          "polar": {
           "angularaxis": {
            "gridcolor": "white",
            "linecolor": "white",
            "ticks": ""
           },
           "bgcolor": "#E5ECF6",
           "radialaxis": {
            "gridcolor": "white",
            "linecolor": "white",
            "ticks": ""
           }
          },
          "scene": {
           "xaxis": {
            "backgroundcolor": "#E5ECF6",
            "gridcolor": "white",
            "gridwidth": 2,
            "linecolor": "white",
            "showbackground": true,
            "ticks": "",
            "zerolinecolor": "white"
           },
           "yaxis": {
            "backgroundcolor": "#E5ECF6",
            "gridcolor": "white",
            "gridwidth": 2,
            "linecolor": "white",
            "showbackground": true,
            "ticks": "",
            "zerolinecolor": "white"
           },
           "zaxis": {
            "backgroundcolor": "#E5ECF6",
            "gridcolor": "white",
            "gridwidth": 2,
            "linecolor": "white",
            "showbackground": true,
            "ticks": "",
            "zerolinecolor": "white"
           }
          },
          "shapedefaults": {
           "line": {
            "color": "#2a3f5f"
           }
          },
          "ternary": {
           "aaxis": {
            "gridcolor": "white",
            "linecolor": "white",
            "ticks": ""
           },
           "baxis": {
            "gridcolor": "white",
            "linecolor": "white",
            "ticks": ""
           },
           "bgcolor": "#E5ECF6",
           "caxis": {
            "gridcolor": "white",
            "linecolor": "white",
            "ticks": ""
           }
          },
          "title": {
           "x": 0.05
          },
          "xaxis": {
           "automargin": true,
           "gridcolor": "white",
           "linecolor": "white",
           "ticks": "",
           "title": {
            "standoff": 15
           },
           "zerolinecolor": "white",
           "zerolinewidth": 2
          },
          "yaxis": {
           "automargin": true,
           "gridcolor": "white",
           "linecolor": "white",
           "ticks": "",
           "title": {
            "standoff": 15
           },
           "zerolinecolor": "white",
           "zerolinewidth": 2
          }
         }
        },
        "title": {
         "text": "Shell contact p2p"
        },
        "updatemenus": [
         {
          "buttons": [
           {
            "args": [
             null,
             {
              "frame": {
               "duration": 50,
               "redraw": true
              },
              "fromcurrent": true
             }
            ],
            "label": "Play",
            "method": "animate"
           },
           {
            "args": [
             [
              null
             ],
             {
              "frame": {
               "duration": 0,
               "redraw": true
              },
              "mode": "immediate"
             }
            ],
            "label": "Pause",
            "method": "animate"
           }
          ],
          "direction": "left",
          "pad": {
           "r": 10,
           "t": 87
          },
          "showactive": false,
          "type": "buttons",
          "x": 0.1,
          "xanchor": "right",
          "y": 0,
          "yanchor": "top"
         }
        ]
       }
      }
     },
     "metadata": {},
     "output_type": "display_data"
    }
   ],
   "source": [
    "t = np.arange(robot.sim_params.total_time, step=robot.sim_params.dt)\n",
    "options = dismech.AnimationOptions(title='Shell contact p2p', plot_step=shell_contact_sim.plot_step)\n",
    "\n",
    "fig = dismech.get_interactive_animation_plotly(robot, t, qs, options)\n",
    "fig.show()"
   ]
  },
  {
   "cell_type": "code",
   "execution_count": null,
   "metadata": {},
   "outputs": [
    {
     "name": "stdout",
     "output_type": "stream",
     "text": [
      "100\n"
     ]
    },
    {
     "data": {
      "image/png": "[encoded data removed]",
      "text/plain": [
       "<Figure size 640x480 with 1 Axes>"
      ]
     },
     "metadata": {},
     "output_type": "display_data"
    }
   ],
   "source": [
    "#ani = dismech.get_animation(robot, t, qs, options)\n",
    "#ani.save('5e-5.gif')"
   ]
  }
 ],
 "metadata": {
  "kernelspec": {
   "display_name": ".venv",
   "language": "python",
   "name": "python3"
  },
  "language_info": {
   "codemirror_mode": {
    "name": "ipython",
    "version": 3
   },
   "file_extension": ".py",
   "mimetype": "text/x-python",
   "name": "python",
   "nbconvert_exporter": "python",
   "pygments_lexer": "ipython3",
   "version": "3.12.1"
  }
 },
 "nbformat": 4,
 "nbformat_minor": 2
}
