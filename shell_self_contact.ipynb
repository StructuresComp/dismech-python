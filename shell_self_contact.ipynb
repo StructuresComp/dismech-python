{
 "cells": [
  {
   "cell_type": "markdown",
   "metadata": {},
   "source": [
    "## Shell Contact Example"
   ]
  },
  {
   "cell_type": "code",
   "execution_count": 1,
   "metadata": {},
   "outputs": [],
   "source": [
    "# !pip install debugpy"
   ]
  },
  {
   "cell_type": "code",
   "execution_count": null,
   "metadata": {},
   "outputs": [],
   "source": []
  },
  {
   "cell_type": "code",
   "execution_count": 2,
   "metadata": {},
   "outputs": [],
   "source": [
    "import numpy as np\n",
    "\n",
    "import dismech\n",
    "\n",
    "\n",
    "geom = dismech.GeomParams(rod_r0=0.005,\n",
    "                          shell_h=0.005)\n",
    "\n",
    "material = dismech.Material(density=1200,\n",
    "                            youngs_rod=0,\n",
    "                            youngs_shell=2e7,\n",
    "                            poisson_rod=0,\n",
    "                            poisson_shell=0.5)\n",
    "\n",
    "shell_contact_sim = dismech.SimParams(static_sim=False,\n",
    "                                  two_d_sim=False,   # no twisting\n",
    "                                  use_mid_edge=False,\n",
    "                                  use_line_search=False,\n",
    "                                  show_floor=False,\n",
    "                                  log_data=True,\n",
    "                                  log_step=1,\n",
    "                                  dt=1e-3,\n",
    "                                  max_iter=120,\n",
    "                                  total_time=1.0,\n",
    "                                  plot_step=1,\n",
    "                                  tol=1e-4,\n",
    "                                  ftol=1e-4,\n",
    "                                  dtol=1e-2)\n",
    "\n",
    "env = dismech.Environment()\n",
    "env.add_force('gravity', g=np.array([0.0, 0.0, -9.81]))\n",
    "# env.add_force('floorContact', ground_z=-1e-3, stiffness=1e3, delta=2e-3, h=1e-3)\n",
    "env.add_force('selfContact', delta=1e-4, h=5e-3, kc=1)\n",
    "env.add_force('damping', eta = 20)\n",
    "#env.set_static()   \n",
    "\n",
    "geo = dismech.Geometry.from_txt('input_shell_more_curved.txt')\n",
    "# geo = dismech.Geometry.from_txt('input_oneTriangle.txt')\n",
    "# geo = dismech.Geometry.from_txt('input_twoTriangleContact_p2t.txt')\n",
    "\n",
    "robot = dismech.SoftRobot(geom, material, geo, shell_contact_sim, env)\n",
    "\n",
    "fixed_points = np.array(np.where(\n",
    "    (robot.state.q[:robot.end_node_dof_index].reshape(-1, 3)[:, 0] <= 0.01) &\n",
    "    (robot.state.q[:robot.end_node_dof_index].reshape(-1, 3)[:, 2] == 0.0)\n",
    ")[0])\n",
    "\n",
    "robot = robot.fix_nodes(fixed_points)\n",
    "\n",
    "# u = robot.state.u\n",
    "# u[11] = -0.5\n",
    "# u[14] = -0.5\n",
    "# u[17] = -0.5"
   ]
  },
  {
   "cell_type": "markdown",
   "metadata": {},
   "source": [
    "### Time Stepping\n",
    "\n",
    "As we are performing a static simulation, we must change gravity for each time step."
   ]
  },
  {
   "cell_type": "code",
   "execution_count": 3,
   "metadata": {},
   "outputs": [
    {
     "name": "stdout",
     "output_type": "stream",
     "text": [
      "delta: 0.02\n",
      "h: 1.0\n",
      "K1: 750.0\n",
      "scale:  200.0\n",
      "kc:  1\n",
      "upper limit for quadratic: 1.98\n",
      "upper limit for smooth: 2.02\n",
      "158218.8706944033\n",
      "374905.1820517846\n",
      "244823.10503886684\n",
      "471061.73192166013\n",
      "318667.7925042584\n",
      "1064294.8068487728\n",
      "456514.8278296972\n",
      "249884.5665422054\n",
      "1103033.6142143533\n",
      "427195.08653216896\n",
      "808906.1640777913\n",
      "282337.8434201264\n",
      "225301.9888036427\n",
      "193522.29197930908\n",
      "201708.7690640993\n",
      "226325.0679332625\n",
      "451591.17919388047\n",
      "284268.4998697397\n",
      "218584.04838942626\n",
      "228685.01501029142\n",
      "284380.6389232518\n",
      "218525.26786422948\n",
      "203052.69365842998\n",
      "202794.091857247\n",
      "183360.87853220303\n",
      "195007.66678300008\n",
      "330936.23121542245\n",
      "271437.7541577485\n",
      "234598.13701884006\n",
      "229649.5318356427\n",
      "220636.51485831957\n",
      "215342.2831612149\n",
      "2607762.3264593137\n",
      "2347338.4643089217\n",
      "2113020.3929177714\n",
      "1902158.3370044555\n",
      "1711952.9688310875\n",
      "1540953.182950026\n",
      "1387098.9821200517\n",
      "1248918.750806303\n",
      "1125345.013962189\n",
      "1012959.4654500562\n",
      "913925.8041522353\n",
      "822659.6858221887\n",
      "741188.1521632129\n",
      "669753.89387257\n",
      "604411.0246518472\n",
      "544830.9664937556\n",
      "497491.0266411127\n",
      "449392.6217221198\n",
      "410376.6284811194\n",
      "370146.04004056426\n",
      "335629.9967549326\n",
      "305306.7624352521\n",
      "283501.5935697465\n",
      "265247.6195018596\n",
      "245385.139431121\n",
      "225770.00231257483\n",
      "222503.37360851743\n",
      "208496.87397920105\n",
      "221043.21417608648\n",
      "193455.23884046602\n",
      "195634.78436157655\n",
      "178850.36325177387\n",
      "197313.7284598399\n",
      "161930.44064415008\n",
      "692446.0308974663\n",
      "623855.8872392287\n",
      "562145.9252539848\n",
      "511036.10667290346\n",
      "457428.40976167\n",
      "415849.1432997963\n",
      "375060.10382636305\n",
      "341245.13239281473\n",
      "315549.345946782\n",
      "293423.2101531572\n",
      "263988.5964177956\n",
      "249372.99310538862\n",
      "222948.76350001746\n",
      "214263.9850643088\n",
      "205600.79513708572\n",
      "178541.41572910664\n",
      "193038.8340323426\n",
      "176462.58292133437\n",
      "174052.43488242355\n",
      "153141.305841552\n",
      "193518.36790950553\n",
      "198568.09770680798\n",
      "192584.68791742102\n",
      "432097.15374923113\n",
      "439352.49848680606\n",
      "402819.7079402481\n",
      "362128.66792282625\n",
      "327987.98775071057\n",
      "298408.7902215127\n",
      "282188.39477469155\n",
      "342834.32773435826\n",
      "317159.25991442817\n",
      "332066.6665689688\n",
      "267508.53743701713\n",
      "254369.97763470883\n",
      "233627.2357472547\n",
      "223319.9640774785\n",
      "200214.2569363737\n",
      "186921.34406183616\n",
      "190141.69586447973\n",
      "212767.85004162195\n",
      "225609.41340862706\n",
      "209041.87640890185\n",
      "191057.62277226432\n",
      "172529.33386799527\n",
      "192651.4809562975\n",
      "181920.33914954786\n",
      "223464.58194475053\n",
      "201085.40475597282\n",
      "191594.21594925056\n",
      "179712.89357777807\n",
      "373698.82431080996\n",
      "344587.2585482559\n",
      "314788.7157394446\n"
     ]
    },
    {
     "ename": "ValueError",
     "evalue": "Iteration limit 120 reached before convergence",
     "output_type": "error",
     "traceback": [
      "\u001b[0;31m---------------------------------------------------------------------------\u001b[0m",
      "\u001b[0;31mValueError\u001b[0m                                Traceback (most recent call last)",
      "Cell \u001b[0;32mIn[3], line 3\u001b[0m\n\u001b[1;32m      1\u001b[0m stepper \u001b[38;5;241m=\u001b[39m dismech\u001b[38;5;241m.\u001b[39mImplicitEulerTimeStepper(robot)\n\u001b[0;32m----> 3\u001b[0m robots \u001b[38;5;241m=\u001b[39m \u001b[43mstepper\u001b[49m\u001b[38;5;241;43m.\u001b[39;49m\u001b[43msimulate\u001b[49m\u001b[43m(\u001b[49m\u001b[43m)\u001b[49m\n\u001b[1;32m      5\u001b[0m qs \u001b[38;5;241m=\u001b[39m np\u001b[38;5;241m.\u001b[39mstack([robot\u001b[38;5;241m.\u001b[39mstate\u001b[38;5;241m.\u001b[39mq \u001b[38;5;28;01mfor\u001b[39;00m robot \u001b[38;5;129;01min\u001b[39;00m robots])\n",
      "File \u001b[0;32m~/Desktop/PhD/dismech-python/dismech-python/src/dismech/time_steppers/time_stepper.py:76\u001b[0m, in \u001b[0;36mTimeStepper.simulate\u001b[0;34m(self, robot, viz)\u001b[0m\n\u001b[1;32m     74\u001b[0m \u001b[38;5;28;01mif\u001b[39;00m \u001b[38;5;28mself\u001b[39m\u001b[38;5;241m.\u001b[39mbefore_step \u001b[38;5;129;01mis\u001b[39;00m \u001b[38;5;129;01mnot\u001b[39;00m \u001b[38;5;28;01mNone\u001b[39;00m:\n\u001b[1;32m     75\u001b[0m     robot \u001b[38;5;241m=\u001b[39m \u001b[38;5;28mself\u001b[39m\u001b[38;5;241m.\u001b[39mbefore_step(robot, i \u001b[38;5;241m*\u001b[39m robot\u001b[38;5;241m.\u001b[39msim_params\u001b[38;5;241m.\u001b[39mdt)\n\u001b[0;32m---> 76\u001b[0m robot \u001b[38;5;241m=\u001b[39m \u001b[38;5;28;43mself\u001b[39;49m\u001b[38;5;241;43m.\u001b[39;49m\u001b[43mstep\u001b[49m\u001b[43m(\u001b[49m\u001b[43mrobot\u001b[49m\u001b[43m)\u001b[49m\n\u001b[1;32m     78\u001b[0m \u001b[38;5;66;03m# Update on step interval\u001b[39;00m\n\u001b[1;32m     79\u001b[0m \u001b[38;5;28;01mif\u001b[39;00m viz \u001b[38;5;129;01mis\u001b[39;00m \u001b[38;5;129;01mnot\u001b[39;00m \u001b[38;5;28;01mNone\u001b[39;00m \u001b[38;5;129;01mand\u001b[39;00m i \u001b[38;5;241m%\u001b[39m robot\u001b[38;5;241m.\u001b[39msim_params\u001b[38;5;241m.\u001b[39mplot_step \u001b[38;5;241m==\u001b[39m \u001b[38;5;241m0\u001b[39m:\n",
      "File \u001b[0;32m~/Desktop/PhD/dismech-python/dismech-python/src/dismech/time_steppers/time_stepper.py:166\u001b[0m, in \u001b[0;36mTimeStepper.step\u001b[0;34m(self, robot, debug)\u001b[0m\n\u001b[1;32m    163\u001b[0m     iteration \u001b[38;5;241m+\u001b[39m\u001b[38;5;241m=\u001b[39m \u001b[38;5;241m1\u001b[39m\n\u001b[1;32m    165\u001b[0m \u001b[38;5;28;01mif\u001b[39;00m iteration \u001b[38;5;241m>\u001b[39m\u001b[38;5;241m=\u001b[39m robot\u001b[38;5;241m.\u001b[39msim_params\u001b[38;5;241m.\u001b[39mmax_iter:\n\u001b[0;32m--> 166\u001b[0m     \u001b[38;5;28;01mraise\u001b[39;00m \u001b[38;5;167;01mValueError\u001b[39;00m(\n\u001b[1;32m    167\u001b[0m         \u001b[38;5;124m\"\u001b[39m\u001b[38;5;124mIteration limit \u001b[39m\u001b[38;5;132;01m{}\u001b[39;00m\u001b[38;5;124m reached before convergence\u001b[39m\u001b[38;5;124m\"\u001b[39m\u001b[38;5;241m.\u001b[39mformat(robot\u001b[38;5;241m.\u001b[39msim_params\u001b[38;5;241m.\u001b[39mmax_iter))\n\u001b[1;32m    169\u001b[0m \u001b[38;5;66;03m# Final update and return\u001b[39;00m\n\u001b[1;32m    170\u001b[0m \u001b[38;5;28mself\u001b[39m\u001b[38;5;241m.\u001b[39mrobot \u001b[38;5;241m=\u001b[39m \u001b[38;5;28mself\u001b[39m\u001b[38;5;241m.\u001b[39m_finalize_update(robot, q)\n",
      "\u001b[0;31mValueError\u001b[0m: Iteration limit 120 reached before convergence"
     ]
    }
   ],
   "source": [
    "stepper = dismech.ImplicitEulerTimeStepper(robot)\n",
    "\n",
    "robots = stepper.simulate()\n",
    "\n",
    "qs = np.stack([robot.state.q for robot in robots])"
   ]
  },
  {
   "cell_type": "code",
   "execution_count": null,
   "metadata": {},
   "outputs": [
    {
     "data": {
      "application/vnd.plotly.v1+json": {
       "config": {
        "plotlyServerURL": "https://plot.ly"
       },
       "data": [
        {
         "marker": {
          "color": "#1f78b4",
          "size": 5
         },
         "mode": "markers",
         "name": "Free Nodes",
         "type": "scatter3d",
         "x": {
          "bdata": "8wOq4v//7z8AAAAAAADQPwAAAAAAAPQ/AAAAAAAA0D8=",
          "dtype": "f8"
         },
         "y": {
          "bdata": "EOdK1i4CUz4AAAAAAADQPwAAAAAAANA/AAAAAAAA9D8=",
          "dtype": "f8"
         },
         "z": {
          "bdata": "wTv6q5wSUL9zwK4mT1m5PwYtJGB0eck/Bi0kYHR5yT8=",
          "dtype": "f8"
         }
        },
        {
         "marker": {
          "color": "#e31a1c",
          "size": 5
         },
         "mode": "markers",
         "name": "Fixed Nodes",
         "type": "scatter3d",
         "x": {
          "bdata": "AAAAAAAAAAAAAAAAAAAAAA==",
          "dtype": "f8"
         },
         "y": {
          "bdata": "AAAAAAAAAAAAAAAAAADwPw==",
          "dtype": "f8"
         },
         "z": {
          "bdata": "AAAAAAAAAAAAAAAAAAAAAA==",
          "dtype": "f8"
         }
        },
        {
         "line": {
          "color": "#333333",
          "width": 2
         },
         "mode": "lines",
         "name": "Edges",
         "type": "scatter3d",
         "x": [
          0.9999999453576706,
          0,
          null,
          0,
          0,
          null,
          0,
          0.9999999453576706,
          null,
          1.25,
          0.25,
          null,
          0.25,
          0.25,
          null,
          0.25,
          1.25,
          null
         ],
         "y": [
          1.7703070470253448e-8,
          1,
          null,
          1,
          0,
          null,
          0,
          1.7703070470253448e-8,
          null,
          0.25,
          1.25,
          null,
          1.25,
          0.25,
          null,
          0.25,
          0.25,
          null
         ],
         "z": [
          -0.0009809999463958748,
          0,
          null,
          0,
          0,
          null,
          0,
          -0.0009809999463958748,
          null,
          0.199019,
          0.199019,
          null,
          0.199019,
          0.09901900000000001,
          null,
          0.09901900000000001,
          0.199019,
          null
         ]
        },
        {
         "color": "rgba(166, 206, 227, 0.7)",
         "i": [
          0,
          3
         ],
         "j": [
          1,
          4
         ],
         "k": [
          2,
          5
         ],
         "name": "Faces",
         "opacity": 0.7,
         "showscale": false,
         "type": "mesh3d",
         "x": {
          "bdata": "AAAAAAAAAADzA6ri///vPwAAAAAAAAAAAAAAAAAA0D8AAAAAAAD0PwAAAAAAANA/",
          "dtype": "f8"
         },
         "y": {
          "bdata": "AAAAAAAAAAAQ50rWLgJTPgAAAAAAAPA/AAAAAAAA0D8AAAAAAADQPwAAAAAAAPQ/",
          "dtype": "f8"
         },
         "z": {
          "bdata": "AAAAAAAAAADBO/qrnBJQvwAAAAAAAAAAc8CuJk9ZuT8GLSRgdHnJPwYtJGB0eck/",
          "dtype": "f8"
         }
        }
       ],
       "frames": [
        {
         "data": [
          {
           "name": "Free Nodes",
           "type": "scatter3d",
           "x": {
            "bdata": "8wOq4v//7z8AAAAAAADQPwAAAAAAAPQ/AAAAAAAA0D8=",
            "dtype": "f8"
           },
           "y": {
            "bdata": "EOdK1i4CUz4AAAAAAADQPwAAAAAAANA/AAAAAAAA9D8=",
            "dtype": "f8"
           },
           "z": {
            "bdata": "wTv6q5wSUL9zwK4mT1m5PwYtJGB0eck/Bi0kYHR5yT8=",
            "dtype": "f8"
           }
          },
          {
           "name": "Fixed Nodes",
           "type": "scatter3d",
           "x": {
            "bdata": "AAAAAAAAAAAAAAAAAAAAAA==",
            "dtype": "f8"
           },
           "y": {
            "bdata": "AAAAAAAAAAAAAAAAAADwPw==",
            "dtype": "f8"
           },
           "z": {
            "bdata": "AAAAAAAAAAAAAAAAAAAAAA==",
            "dtype": "f8"
           }
          },
          {
           "name": "Edges",
           "type": "scatter3d",
           "x": [
            0.9999999453576706,
            0,
            null,
            0,
            0,
            null,
            0,
            0.9999999453576706,
            null,
            1.25,
            0.25,
            null,
            0.25,
            0.25,
            null,
            0.25,
            1.25,
            null
           ],
           "y": [
            1.7703070470253448e-8,
            1,
            null,
            1,
            0,
            null,
            0,
            1.7703070470253448e-8,
            null,
            0.25,
            1.25,
            null,
            1.25,
            0.25,
            null,
            0.25,
            0.25,
            null
           ],
           "z": [
            -0.0009809999463958748,
            0,
            null,
            0,
            0,
            null,
            0,
            -0.0009809999463958748,
            null,
            0.199019,
            0.199019,
            null,
            0.199019,
            0.09901900000000001,
            null,
            0.09901900000000001,
            0.199019,
            null
           ]
          },
          {
           "i": [
            0,
            3
           ],
           "j": [
            1,
            4
           ],
           "k": [
            2,
            5
           ],
           "name": "Faces",
           "type": "mesh3d",
           "x": {
            "bdata": "AAAAAAAAAADzA6ri///vPwAAAAAAAAAAAAAAAAAA0D8AAAAAAAD0PwAAAAAAANA/",
            "dtype": "f8"
           },
           "y": {
            "bdata": "AAAAAAAAAAAQ50rWLgJTPgAAAAAAAPA/AAAAAAAA0D8AAAAAAADQPwAAAAAAAPQ/",
            "dtype": "f8"
           },
           "z": {
            "bdata": "AAAAAAAAAADBO/qrnBJQvwAAAAAAAAAAc8CuJk9ZuT8GLSRgdHnJPwYtJGB0eck/",
            "dtype": "f8"
           }
          }
         ],
         "layout": {
          "annotations": [
           {
            "showarrow": false,
            "text": "Time: 0.00s (Step: 1/100)",
            "x": 0.05,
            "xref": "paper",
            "y": 0.95,
            "yref": "paper"
           }
          ]
         },
         "name": "0"
        },
        {
         "data": [
          {
           "name": "Free Nodes",
           "type": "scatter3d",
           "x": {
            "bdata": "ay6rxP7/7z8AAAAAAADQPwAAAAAAAPQ/AAAAAAAA0D8=",
            "dtype": "f8"
           },
           "y": {
            "bdata": "/JZRiDNoiT4AAAAAAADQPwAAAAAAANA/AAAAAAAA9D8=",
            "dtype": "f8"
           },
           "z": {
            "bdata": "r9D2R+obaL8lDtlAuti4P95TOe0pOck/3lM57Sk5yT8=",
            "dtype": "f8"
           }
          },
          {
           "name": "Fixed Nodes",
           "type": "scatter3d",
           "x": {
            "bdata": "AAAAAAAAAAAAAAAAAAAAAA==",
            "dtype": "f8"
           },
           "y": {
            "bdata": "AAAAAAAAAAAAAAAAAADwPw==",
            "dtype": "f8"
           },
           "z": {
            "bdata": "AAAAAAAAAAAAAAAAAAAAAA==",
            "dtype": "f8"
           }
          },
          {
           "name": "Edges",
           "type": "scatter3d",
           "x": [
            0.9999994126496409,
            0,
            null,
            0,
            0,
            null,
            0,
            0.9999994126496409,
            null,
            1.25,
            0.25,
            null,
            0.25,
            0.25,
            null,
            0.25,
            1.25,
            null
           ],
           "y": [
            1.8929717185698806e-7,
            1,
            null,
            1,
            0,
            null,
            0,
            1.8929717185698806e-7,
            null,
            0.25,
            1.25,
            null,
            1.25,
            0.25,
            null,
            0.25,
            0.25,
            null
           ],
           "z": [
            -0.002942998485844304,
            0,
            null,
            0,
            0,
            null,
            0,
            -0.002942998485844304,
            null,
            0.19705699999999998,
            0.19705699999999998,
            null,
            0.19705699999999998,
            0.09705700000000002,
            null,
            0.09705700000000002,
            0.19705699999999998,
            null
           ]
          },
          {
           "i": [
            0,
            3
           ],
           "j": [
            1,
            4
           ],
           "k": [
            2,
            5
           ],
           "name": "Faces",
           "type": "mesh3d",
           "x": {
            "bdata": "AAAAAAAAAABrLqvE/v/vPwAAAAAAAAAAAAAAAAAA0D8AAAAAAAD0PwAAAAAAANA/",
            "dtype": "f8"
           },
           "y": {
            "bdata": "AAAAAAAAAAD8llGIM2iJPgAAAAAAAPA/AAAAAAAA0D8AAAAAAADQPwAAAAAAAPQ/",
            "dtype": "f8"
           },
           "z": {
            "bdata": "AAAAAAAAAACv0PZH6htovwAAAAAAAAAAJQ7ZQLrYuD/eUzntKTnJP95TOe0pOck/",
            "dtype": "f8"
           }
          }
         ],
         "layout": {
          "annotations": [
           {
            "showarrow": false,
            "text": "Time: 0.01s (Step: 2/100)",
            "x": 0.05,
            "xref": "paper",
            "y": 0.95,
            "yref": "paper"
           }
          ]
         },
         "name": "1"
        },
        {
         "data": [
          {
           "name": "Free Nodes",
           "type": "scatter3d",
           "x": {
            "bdata": "3JkE0vn/7z8AAAAAAADQPwAAAAAAAPQ/AAAAAAAA0D8=",
            "dtype": "f8"
           },
           "y": {
            "bdata": "8MGo9oKgrz4AAAAAAADQPwAAAAAAANA/AAAAAAAA9D8=",
            "dtype": "f8"
           },
           "z": {
            "bdata": "3lXQaOcbeL+wghjo2he4PyIO2UC62Mg/Ig7ZQLrYyD8=",
            "dtype": "f8"
           }
          },
          {
           "name": "Fixed Nodes",
           "type": "scatter3d",
           "x": {
            "bdata": "AAAAAAAAAAAAAAAAAAAAAA==",
            "dtype": "f8"
           },
           "y": {
            "bdata": "AAAAAAAAAAAAAAAAAADwPw==",
            "dtype": "f8"
           },
           "z": {
            "bdata": "AAAAAAAAAAAAAAAAAAAAAA==",
            "dtype": "f8"
           }
          },
          {
           "name": "Edges",
           "type": "scatter3d",
           "x": [
            0.9999970533288507,
            0,
            null,
            0,
            0,
            null,
            0,
            0.9999970533288507,
            null,
            1.25,
            0.25,
            null,
            0.25,
            0.25,
            null,
            0.25,
            1.25,
            null
           ],
           "y": [
            9.425580008212529e-7,
            1,
            null,
            1,
            0,
            null,
            0,
            9.425580008212529e-7,
            null,
            0.25,
            1.25,
            null,
            1.25,
            0.25,
            null,
            0.25,
            0.25,
            null
           ],
           "z": [
            -0.005885986273843595,
            0,
            null,
            0,
            0,
            null,
            0,
            -0.005885986273843595,
            null,
            0.19411399999999995,
            0.19411399999999995,
            null,
            0.19411399999999995,
            0.09411400000000003,
            null,
            0.09411400000000003,
            0.19411399999999995,
            null
           ]
          },
          {
           "i": [
            0,
            3
           ],
           "j": [
            1,
            4
           ],
           "k": [
            2,
            5
           ],
           "name": "Faces",
           "type": "mesh3d",
           "x": {
            "bdata": "AAAAAAAAAADcmQTS+f/vPwAAAAAAAAAAAAAAAAAA0D8AAAAAAAD0PwAAAAAAANA/",
            "dtype": "f8"
           },
           "y": {
            "bdata": "AAAAAAAAAADwwaj2gqCvPgAAAAAAAPA/AAAAAAAA0D8AAAAAAADQPwAAAAAAAPQ/",
            "dtype": "f8"
           },
           "z": {
            "bdata": "AAAAAAAAAADeVdBo5xt4vwAAAAAAAAAAsIIY6NoXuD8iDtlAutjIPyIO2UC62Mg/",
            "dtype": "f8"
           }
          }
         ],
         "layout": {
          "annotations": [
           {
            "showarrow": false,
            "text": "Time: 0.02s (Step: 3/100)",
            "x": 0.05,
            "xref": "paper",
            "y": 0.95,
            "yref": "paper"
           }
          ]
         },
         "name": "2"
        },
        {
         "data": [
          {
           "name": "Free Nodes",
           "type": "scatter3d",
           "x": {
            "bdata": "f33uzur/7z8AAAAAAADQPwAAAAAAAPQ/AAAAAAAA0D8=",
            "dtype": "f8"
           },
           "y": {
            "bdata": "SKe/UIHeyj4AAAAAAADQPwAAAAAAANA/AAAAAAAA9D8=",
            "dtype": "f8"
           },
           "z": {
            "bdata": "NXKRHDoXhL8UHm0csRa3P9JbA1slWMg/0lsDWyVYyD8=",
            "dtype": "f8"
           }
          },
          {
           "name": "Fixed Nodes",
           "type": "scatter3d",
           "x": {
            "bdata": "AAAAAAAAAAAAAAAAAAAAAA==",
            "dtype": "f8"
           },
           "y": {
            "bdata": "AAAAAAAAAAAAAAAAAADwPw==",
            "dtype": "f8"
           },
           "z": {
            "bdata": "AAAAAAAAAAAAAAAAAAAAAA==",
            "dtype": "f8"
           }
          },
          {
           "name": "Edges",
           "type": "scatter3d",
           "x": [
            0.999989895022665,
            0,
            null,
            0,
            0,
            null,
            0,
            0.999989895022665,
            null,
            1.25,
            0.25,
            null,
            0.25,
            0.25,
            null,
            0.25,
            1.25,
            null
           ],
           "y": [
            0.0000032030535574893283,
            1,
            null,
            1,
            0,
            null,
            0,
            0.0000032030535574893283,
            null,
            0.25,
            1.25,
            null,
            1.25,
            0.25,
            null,
            0.25,
            0.25,
            null
           ],
           "z": [
            -0.009809926983671871,
            0,
            null,
            0,
            0,
            null,
            0,
            -0.009809926983671871,
            null,
            0.19018999999999991,
            0.19018999999999991,
            null,
            0.19018999999999991,
            0.09019000000000005,
            null,
            0.09019000000000005,
            0.19018999999999991,
            null
           ]
          },
          {
           "i": [
            0,
            3
           ],
           "j": [
            1,
            4
           ],
           "k": [
            2,
            5
           ],
           "name": "Faces",
           "type": "mesh3d",
           "x": {
            "bdata": "AAAAAAAAAAB/fe7O6v/vPwAAAAAAAAAAAAAAAAAA0D8AAAAAAAD0PwAAAAAAANA/",
            "dtype": "f8"
           },
           "y": {
            "bdata": "AAAAAAAAAABIp79Qgd7KPgAAAAAAAPA/AAAAAAAA0D8AAAAAAADQPwAAAAAAAPQ/",
            "dtype": "f8"
           },
           "z": {
            "bdata": "AAAAAAAAAAA1cpEcOheEvwAAAAAAAAAAFB5tHLEWtz/SWwNbJVjIP9JbA1slWMg/",
            "dtype": "f8"
           }
          }
         ],
         "layout": {
          "annotations": [
           {
            "showarrow": false,
            "text": "Time: 0.03s (Step: 4/100)",
            "x": 0.05,
            "xref": "paper",
            "y": 0.95,
            "yref": "paper"
           }
          ]
         },
         "name": "3"
        },
        {
         "data": [
          {
           "name": "Free Nodes",
           "type": "scatter3d",
           "x": {
            "bdata": "tY+BjMb/7z8AAAAAAADQPwAAAAAAAPQ/AAAAAAAA0D8=",
            "dtype": "f8"
           },
           "y": {
            "bdata": "WsrTMUEF4j4AAAAAAADQPwAAAAAAANA/AAAAAAAA9D8=",
            "dtype": "f8"
           },
           "z": {
            "bdata": "9GB5GcAijr9R4NbdPNW1P+48uDtrt8c/7jy4O2u3xz8=",
            "dtype": "f8"
           }
          },
          {
           "name": "Fixed Nodes",
           "type": "scatter3d",
           "x": {
            "bdata": "AAAAAAAAAAAAAAAAAAAAAA==",
            "dtype": "f8"
           },
           "y": {
            "bdata": "AAAAAAAAAAAAAAAAAADwPw==",
            "dtype": "f8"
           },
           "z": {
            "bdata": "AAAAAAAAAAAAAAAAAAAAAA==",
            "dtype": "f8"
           }
          },
          {
           "name": "Edges",
           "type": "scatter3d",
           "x": [
            0.999972605157828,
            0,
            null,
            0,
            0,
            null,
            0,
            0.999972605157828,
            null,
            1.25,
            0.25,
            null,
            0.25,
            0.25,
            null,
            0.25,
            1.25,
            null
           ],
           "y": [
            0.00000859285642682455,
            1,
            null,
            1,
            0,
            null,
            0,
            0.00000859285642682455,
            null,
            0.25,
            1.25,
            null,
            1.25,
            0.25,
            null,
            0.25,
            0.25,
            null
           ],
           "z": [
            -0.014714718606385159,
            0,
            null,
            0,
            0,
            null,
            0,
            -0.014714718606385159,
            null,
            0.18528499999999987,
            0.18528499999999987,
            null,
            0.18528499999999987,
            0.08528500000000007,
            null,
            0.08528500000000007,
            0.18528499999999987,
            null
           ]
          },
          {
           "i": [
            0,
            3
           ],
           "j": [
            1,
            4
           ],
           "k": [
            2,
            5
           ],
           "name": "Faces",
           "type": "mesh3d",
           "x": {
            "bdata": "AAAAAAAAAAC1j4GMxv/vPwAAAAAAAAAAAAAAAAAA0D8AAAAAAAD0PwAAAAAAANA/",
            "dtype": "f8"
           },
           "y": {
            "bdata": "AAAAAAAAAABaytMxQQXiPgAAAAAAAPA/AAAAAAAA0D8AAAAAAADQPwAAAAAAAPQ/",
            "dtype": "f8"
           },
           "z": {
            "bdata": "AAAAAAAAAAD0YHkZwCKOvwAAAAAAAAAAUeDW3TzVtT/uPLg7a7fHP+48uDtrt8c/",
            "dtype": "f8"
           }
          }
         ],
         "layout": {
          "annotations": [
           {
            "showarrow": false,
            "text": "Time: 0.04s (Step: 5/100)",
            "x": 0.05,
            "xref": "paper",
            "y": 0.95,
            "yref": "paper"
           }
          ]
         },
         "name": "4"
        },
        {
         "data": [
          {
           "name": "Free Nodes",
           "type": "scatter3d",
           "x": {
            "bdata": "71SJfHv/7z8AAAAAAADQPwAAAAAAAPQ/AAAAAAAA0D8=",
            "dtype": "f8"
           },
           "y": {
            "bdata": "NbzBZW6J9D4AAAAAAADQPwAAAAAAANA/AAAAAAAA9D8=",
            "dtype": "f8"
           },
           "z": {
            "bdata": "WW82QjMYlb9nyVUsflO0P3ax9+KL9sY/drH34ov2xj8=",
            "dtype": "f8"
           }
          },
          {
           "name": "Fixed Nodes",
           "type": "scatter3d",
           "x": {
            "bdata": "AAAAAAAAAAAAAAAAAAAAAA==",
            "dtype": "f8"
           },
           "y": {
            "bdata": "AAAAAAAAAAAAAAAAAADwPw==",
            "dtype": "f8"
           },
           "z": {
            "bdata": "AAAAAAAAAAAAAAAAAAAAAA==",
            "dtype": "f8"
           }
          },
          {
           "name": "Edges",
           "type": "scatter3d",
           "x": [
            0.9999368126251776,
            0,
            null,
            0,
            0,
            null,
            0,
            0.9999368126251776,
            null,
            1.25,
            0.25,
            null,
            0.25,
            0.25,
            null,
            0.25,
            1.25,
            null
           ],
           "y": [
            0.00001958545759389256,
            1,
            null,
            1,
            0,
            null,
            0,
            0.00001958545759389256,
            null,
            0.25,
            1.25,
            null,
            1.25,
            0.25,
            null,
            0.25,
            0.25,
            null
           ],
           "z": [
            -0.02060012904767858,
            0,
            null,
            0,
            0,
            null,
            0,
            -0.02060012904767858,
            null,
            0.1793989999999998,
            0.1793989999999998,
            null,
            0.1793989999999998,
            0.0793990000000001,
            null,
            0.0793990000000001,
            0.1793989999999998,
            null
           ]
          },
          {
           "i": [
            0,
            3
           ],
           "j": [
            1,
            4
           ],
           "k": [
            2,
            5
           ],
           "name": "Faces",
           "type": "mesh3d",
           "x": {
            "bdata": "AAAAAAAAAADvVIl8e//vPwAAAAAAAAAAAAAAAAAA0D8AAAAAAAD0PwAAAAAAANA/",
            "dtype": "f8"
           },
           "y": {
            "bdata": "AAAAAAAAAAA1vMFlbon0PgAAAAAAAPA/AAAAAAAA0D8AAAAAAADQPwAAAAAAAPQ/",
            "dtype": "f8"
           },
           "z": {
            "bdata": "AAAAAAAAAABZbzZCMxiVvwAAAAAAAAAAZ8lVLH5TtD92sffii/bGP3ax9+KL9sY/",
            "dtype": "f8"
           }
          }
         ],
         "layout": {
          "annotations": [
           {
            "showarrow": false,
            "text": "Time: 0.05s (Step: 6/100)",
            "x": 0.05,
            "xref": "paper",
            "y": 0.95,
            "yref": "paper"
           }
          ]
         },
         "name": "5"
        },
        {
         "data": [
          {
           "name": "Free Nodes",
           "type": "scatter3d",
           "x": {
            "bdata": "jLo8jfD+7z8AAAAAAADQPwAAAAAAAPQ/AAAAAAAA0D8=",
            "dtype": "f8"
           },
           "y": {
            "bdata": "i998apXBBD8AAAAAAADQPwAAAAAAANA/AAAAAAAA9D8=",
            "dtype": "f8"
           },
           "z": {
            "bdata": "bP5FHvgfnL9W2ekHdZGyP2q5wVCHFcY/arnBUIcVxj8=",
            "dtype": "f8"
           }
          },
          {
           "name": "Fixed Nodes",
           "type": "scatter3d",
           "x": {
            "bdata": "AAAAAAAAAAAAAAAAAAAAAA==",
            "dtype": "f8"
           },
           "y": {
            "bdata": "AAAAAAAAAAAAAAAAAADwPw==",
            "dtype": "f8"
           },
           "z": {
            "bdata": "AAAAAAAAAAAAAAAAAAAAAA==",
            "dtype": "f8"
           }
          },
          {
           "name": "Edges",
           "type": "scatter3d",
           "x": [
            0.9998705633677942,
            0,
            null,
            0,
            0,
            null,
            0,
            0.9998705633677942,
            null,
            1.25,
            0.25,
            null,
            0.25,
            0.25,
            null,
            0.25,
            1.25,
            null
           ],
           "y": [
            0.000039589283288454,
            1,
            null,
            1,
            0,
            null,
            0,
            0.000039589283288454,
            null,
            0.25,
            1.25,
            null,
            1.25,
            0.25,
            null,
            0.25,
            0.25,
            null
           ],
           "z": [
            -0.027465702865355032,
            0,
            null,
            0,
            0,
            null,
            0,
            -0.027465702865355032,
            null,
            0.17253199999999974,
            0.17253199999999974,
            null,
            0.17253199999999974,
            0.07253200000000012,
            null,
            0.07253200000000012,
            0.17253199999999974,
            null
           ]
          },
          {
           "i": [
            0,
            3
           ],
           "j": [
            1,
            4
           ],
           "k": [
            2,
            5
           ],
           "name": "Faces",
           "type": "mesh3d",
           "x": {
            "bdata": "AAAAAAAAAACMujyN8P7vPwAAAAAAAAAAAAAAAAAA0D8AAAAAAAD0PwAAAAAAANA/",
            "dtype": "f8"
           },
           "y": {
            "bdata": "AAAAAAAAAACL33xqlcEEPwAAAAAAAPA/AAAAAAAA0D8AAAAAAADQPwAAAAAAAPQ/",
            "dtype": "f8"
           },
           "z": {
            "bdata": "AAAAAAAAAABs/kUe+B+cvwAAAAAAAAAAVtnpB3WRsj9qucFQhxXGP2q5wVCHFcY/",
            "dtype": "f8"
           }
          }
         ],
         "layout": {
          "annotations": [
           {
            "showarrow": false,
            "text": "Time: 0.06s (Step: 7/100)",
            "x": 0.05,
            "xref": "paper",
            "y": 0.95,
            "yref": "paper"
           }
          ]
         },
         "name": "6"
        },
        {
         "data": [
          {
           "name": "Free Nodes",
           "type": "scatter3d",
           "x": {
            "bdata": "CLw/ZwT+7z8AAAAAAADQPwAAAAAAAPQ/AAAAAAAA0D8=",
            "dtype": "f8"
           },
           "y": {
            "bdata": "v/m0DysfEz8AAAAAAADQPwAAAAAAANA/AAAAAAAA9D8=",
            "dtype": "f8"
           },
           "z": {
            "bdata": "/R1cczwUor8eEJNwIY+wP8pUFoVdFMU/ylQWhV0UxT8=",
            "dtype": "f8"
           }
          },
          {
           "name": "Fixed Nodes",
           "type": "scatter3d",
           "x": {
            "bdata": "AAAAAAAAAAAAAAAAAAAAAA==",
            "dtype": "f8"
           },
           "y": {
            "bdata": "AAAAAAAAAAAAAAAAAADwPw==",
            "dtype": "f8"
           },
           "z": {
            "bdata": "AAAAAAAAAAAAAAAAAAAAAA==",
            "dtype": "f8"
           }
          },
          {
           "name": "Edges",
           "type": "scatter3d",
           "x": [
            0.9997579590398127,
            0,
            null,
            0,
            0,
            null,
            0,
            0.9997579590398127,
            null,
            1.25,
            0.25,
            null,
            0.25,
            0.25,
            null,
            0.25,
            1.25,
            null
           ],
           "y": [
            0.00007294369054464728,
            1,
            null,
            1,
            0,
            null,
            0,
            0.00007294369054464728,
            null,
            0.25,
            1.25,
            null,
            1.25,
            0.25,
            null,
            0.25,
            0.25,
            null
           ],
           "z": [
            -0.0353106394596203,
            0,
            null,
            0,
            0,
            null,
            0,
            -0.0353106394596203,
            null,
            0.16468399999999966,
            0.16468399999999966,
            null,
            0.16468399999999966,
            0.06468400000000016,
            null,
            0.06468400000000016,
            0.16468399999999966,
            null
           ]
          },
          {
           "i": [
            0,
            3
           ],
           "j": [
            1,
            4
           ],
           "k": [
            2,
            5
           ],
           "name": "Faces",
           "type": "mesh3d",
           "x": {
            "bdata": "AAAAAAAAAAAIvD9nBP7vPwAAAAAAAAAAAAAAAAAA0D8AAAAAAAD0PwAAAAAAANA/",
            "dtype": "f8"
           },
           "y": {
            "bdata": "AAAAAAAAAAC/+bQPKx8TPwAAAAAAAPA/AAAAAAAA0D8AAAAAAADQPwAAAAAAAPQ/",
            "dtype": "f8"
           },
           "z": {
            "bdata": "AAAAAAAAAAD9HVxzPBSivwAAAAAAAAAAHhCTcCGPsD/KVBaFXRTFP8pUFoVdFMU/",
            "dtype": "f8"
           }
          }
         ],
         "layout": {
          "annotations": [
           {
            "showarrow": false,
            "text": "Time: 0.07s (Step: 8/100)",
            "x": 0.05,
            "xref": "paper",
            "y": 0.95,
            "yref": "paper"
           }
          ]
         },
         "name": "7"
        },
        {
         "data": [
          {
           "name": "Free Nodes",
           "type": "scatter3d",
           "x": {
            "bdata": "a9KRGI387z8AAAAAAADQPwAAAAAAAPQ/AAAAAAAA0D8=",
            "dtype": "f8"
           },
           "y": {
            "bdata": "OfKS52NcID8AAAAAAADQPwAAAAAAANA/AAAAAAAA9D8=",
            "dtype": "f8"
           },
           "z": {
            "bdata": "lPHcbq+Ypr9926LMBpmsP5aD9X8O88M/loP1fw7zwz8=",
            "dtype": "f8"
           }
          },
          {
           "name": "Fixed Nodes",
           "type": "scatter3d",
           "x": {
            "bdata": "AAAAAAAAAAAAAAAAAAAAAA==",
            "dtype": "f8"
           },
           "y": {
            "bdata": "AAAAAAAAAAAAAAAAAADwPw==",
            "dtype": "f8"
           },
           "z": {
            "bdata": "AAAAAAAAAAAAAAAAAAAAAA==",
            "dtype": "f8"
           }
          },
          {
           "name": "Edges",
           "type": "scatter3d",
           "x": [
            0.9995789985537845,
            0,
            null,
            0,
            0,
            null,
            0,
            0.9995789985537845,
            null,
            1.25,
            0.25,
            null,
            0.25,
            0.25,
            null,
            0.25,
            1.25,
            null
           ],
           "y": [
            0.00012482375658419575,
            1,
            null,
            1,
            0,
            null,
            0,
            0.00012482375658419575,
            null,
            0.25,
            1.25,
            null,
            1.25,
            0.25,
            null,
            0.25,
            0.25,
            null
           ],
           "z": [
            -0.044133646281326794,
            0,
            null,
            0,
            0,
            null,
            0,
            -0.044133646281326794,
            null,
            0.15585499999999958,
            0.15585499999999958,
            null,
            0.15585499999999958,
            0.05585500000000019,
            null,
            0.05585500000000019,
            0.15585499999999958,
            null
           ]
          },
          {
           "i": [
            0,
            3
           ],
           "j": [
            1,
            4
           ],
           "k": [
            2,
            5
           ],
           "name": "Faces",
           "type": "mesh3d",
           "x": {
            "bdata": "AAAAAAAAAABr0pEYjfzvPwAAAAAAAAAAAAAAAAAA0D8AAAAAAAD0PwAAAAAAANA/",
            "dtype": "f8"
           },
           "y": {
            "bdata": "AAAAAAAAAAA58pLnY1wgPwAAAAAAAPA/AAAAAAAA0D8AAAAAAADQPwAAAAAAAPQ/",
            "dtype": "f8"
           },
           "z": {
            "bdata": "AAAAAAAAAACU8dxur5imvwAAAAAAAAAAfduizAaZrD+Wg/V/DvPDP5aD9X8O88M/",
            "dtype": "f8"
           }
          }
         ],
         "layout": {
          "annotations": [
           {
            "showarrow": false,
            "text": "Time: 0.08s (Step: 9/100)",
            "x": 0.05,
            "xref": "paper",
            "y": 0.95,
            "yref": "paper"
           }
          ]
         },
         "name": "8"
        },
        {
         "data": [
          {
           "name": "Free Nodes",
           "type": "scatter3d",
           "x": {
            "bdata": "DvAbKFj67z8AAAAAAADQPwAAAAAAAPQ/AAAAAAAA0D8=",
            "dtype": "f8"
           },
           "y": {
            "bdata": "XevRY4RaKj8AAAAAAADQPwAAAAAAANA/AAAAAAAA9D8=",
            "dtype": "f8"
           },
           "z": {
            "bdata": "9nTsjxOdq79v5EnSNZOnP85FX0GascI/zkVfQZqxwj8=",
            "dtype": "f8"
           }
          },
          {
           "name": "Fixed Nodes",
           "type": "scatter3d",
           "x": {
            "bdata": "AAAAAAAAAAAAAAAAAAAAAA==",
            "dtype": "f8"
           },
           "y": {
            "bdata": "AAAAAAAAAAAAAAAAAADwPw==",
            "dtype": "f8"
           },
           "z": {
            "bdata": "AAAAAAAAAAAAAAAAAAAAAA==",
            "dtype": "f8"
           }
          },
          {
           "name": "Edges",
           "type": "scatter3d",
           "x": [
            0.9993096145040015,
            0,
            null,
            0,
            0,
            null,
            0,
            0.9993096145040015,
            null,
            1.25,
            0.25,
            null,
            0.25,
            0.25,
            null,
            0.25,
            1.25,
            null
           ],
           "y": [
            0.0002010618790427532,
            1,
            null,
            1,
            0,
            null,
            0,
            0.0002010618790427532,
            null,
            0.25,
            1.25,
            null,
            1.25,
            0.25,
            null,
            0.25,
            0.25,
            null
           ],
           "z": [
            -0.05393277294045078,
            0,
            null,
            0,
            0,
            null,
            0,
            -0.05393277294045078,
            null,
            0.14604499999999948,
            0.14604499999999948,
            null,
            0.14604499999999948,
            0.04604500000000022,
            null,
            0.04604500000000022,
            0.14604499999999948,
            null
           ]
          },
          {
           "i": [
            0,
            3
           ],
           "j": [
            1,
            4
           ],
           "k": [
            2,
            5
           ],
           "name": "Faces",
           "type": "mesh3d",
           "x": {
            "bdata": "AAAAAAAAAAAO8BsoWPrvPwAAAAAAAAAAAAAAAAAA0D8AAAAAAAD0PwAAAAAAANA/",
            "dtype": "f8"
           },
           "y": {
            "bdata": "AAAAAAAAAABd69FjhFoqPwAAAAAAAPA/AAAAAAAA0D8AAAAAAADQPwAAAAAAAPQ/",
            "dtype": "f8"
           },
           "z": {
            "bdata": "AAAAAAAAAAD2dOyPE52rvwAAAAAAAAAAb+RJ0jWTpz/ORV9BmrHCP85FX0GascI/",
            "dtype": "f8"
           }
          }
         ],
         "layout": {
          "annotations": [
           {
            "showarrow": false,
            "text": "Time: 0.09s (Step: 10/100)",
            "x": 0.05,
            "xref": "paper",
            "y": 0.95,
            "yref": "paper"
           }
          ]
         },
         "name": "9"
        },
        {
         "data": [
          {
           "name": "Free Nodes",
           "type": "scatter3d",
           "x": {
            "bdata": "dQE/ASv37z8AAAAAAADQPwAAAAAAAPQ/AAAAAAAA0D8=",
            "dtype": "f8"
           },
           "y": {
            "bdata": "mBtwm8QtND8AAAAAAADQPwAAAAAAANA/AAAAAAAA9D8=",
            "dtype": "f8"
           },
           "z": {
            "bdata": "2dezq4WQsL8TOxvyzwyiP3KbU8kAUME/cptTyQBQwT8=",
            "dtype": "f8"
           }
          },
          {
           "name": "Fixed Nodes",
           "type": "scatter3d",
           "x": {
            "bdata": "AAAAAAAAAAAAAAAAAAAAAA==",
            "dtype": "f8"
           },
           "y": {
            "bdata": "AAAAAAAAAAAAAAAAAADwPw==",
            "dtype": "f8"
           },
           "z": {
            "bdata": "AAAAAAAAAAAAAAAAAAAAAA==",
            "dtype": "f8"
           }
          },
          {
           "name": "Edges",
           "type": "scatter3d",
           "x": [
            0.9989218735063746,
            0,
            null,
            0,
            0,
            null,
            0,
            0.9989218735063746,
            null,
            1.25,
            0.25,
            null,
            0.25,
            0.25,
            null,
            0.25,
            1.25,
            null
           ],
           "y": [
            0.0003079037664410144,
            1,
            null,
            1,
            0,
            null,
            0,
            0.0003079037664410144,
            null,
            0.25,
            1.25,
            null,
            1.25,
            0.25,
            null,
            0.25,
            0.25,
            null
           ],
           "z": [
            -0.06470523302036159,
            0,
            null,
            0,
            0,
            null,
            0,
            -0.06470523302036159,
            null,
            0.13525399999999937,
            0.13525399999999937,
            null,
            0.13525399999999937,
            0.03525400000000025,
            null,
            0.03525400000000025,
            0.13525399999999937,
            null
           ]
          },
          {
           "i": [
            0,
            3
           ],
           "j": [
            1,
            4
           ],
           "k": [
            2,
            5
           ],
           "name": "Faces",
           "type": "mesh3d",
           "x": {
            "bdata": "AAAAAAAAAAB1AT8BK/fvPwAAAAAAAAAAAAAAAAAA0D8AAAAAAAD0PwAAAAAAANA/",
            "dtype": "f8"
           },
           "y": {
            "bdata": "AAAAAAAAAACYG3CbxC00PwAAAAAAAPA/AAAAAAAA0D8AAAAAAADQPwAAAAAAAPQ/",
            "dtype": "f8"
           },
           "z": {
            "bdata": "AAAAAAAAAADZ17OrhZCwvwAAAAAAAAAAEzsb8s8Moj9ym1PJAFDBP3KbU8kAUME/",
            "dtype": "f8"
           }
          }
         ],
         "layout": {
          "annotations": [
           {
            "showarrow": false,
            "text": "Time: 0.10s (Step: 11/100)",
            "x": 0.05,
            "xref": "paper",
            "y": 0.95,
            "yref": "paper"
           }
          ]
         },
         "name": "10"
        },
        {
         "data": [
          {
           "name": "Free Nodes",
           "type": "scatter3d",
           "x": {
            "bdata": "7ipTnsPy7z8AAAAAAADQPwAAAAAAAPQ/AAAAAAAA0D8=",
            "dtype": "f8"
           },
           "y": {
            "bdata": "0H4e6KaaPT8AAAAAAADQPwAAAAAAANA/AAAAAAAA9D8=",
            "dtype": "f8"
           },
           "z": {
            "bdata": "aYHyhAuSs7/Rvi1YqguYPwUJpS+EnL8/BQmlL4Scvz8=",
            "dtype": "f8"
           }
          },
          {
           "name": "Fixed Nodes",
           "type": "scatter3d",
           "x": {
            "bdata": "AAAAAAAAAAAAAAAAAAAAAA==",
            "dtype": "f8"
           },
           "y": {
            "bdata": "AAAAAAAAAAAAAAAAAADwPw==",
            "dtype": "f8"
           },
           "z": {
            "bdata": "AAAAAAAAAAAAAAAAAAAAAA==",
            "dtype": "f8"
           }
          },
          {
           "name": "Edges",
           "type": "scatter3d",
           "x": [
            0.9983842937739078,
            0,
            null,
            0,
            0,
            null,
            0,
            0.9983842937739078,
            null,
            1.25,
            0.25,
            null,
            0.25,
            0.25,
            null,
            0.25,
            1.25,
            null
           ],
           "y": [
            0.0004517228591058688,
            1,
            null,
            1,
            0,
            null,
            0,
            0.0004517228591058688,
            null,
            0.25,
            1.25,
            null,
            1.25,
            0.25,
            null,
            0.25,
            0.25,
            null
           ],
           "z": [
            -0.07644721980841997,
            0,
            null,
            0,
            0,
            null,
            0,
            -0.07644721980841997,
            null,
            0.12348199999999927,
            0.12348199999999927,
            null,
            0.12348199999999927,
            0.023482000000000284,
            null,
            0.023482000000000284,
            0.12348199999999927,
            null
           ]
          },
          {
           "i": [
            0,
            3
           ],
           "j": [
            1,
            4
           ],
           "k": [
            2,
            5
           ],
           "name": "Faces",
           "type": "mesh3d",
           "x": {
            "bdata": "AAAAAAAAAADuKlOew/LvPwAAAAAAAAAAAAAAAAAA0D8AAAAAAAD0PwAAAAAAANA/",
            "dtype": "f8"
           },
           "y": {
            "bdata": "AAAAAAAAAADQfh7oppo9PwAAAAAAAPA/AAAAAAAA0D8AAAAAAADQPwAAAAAAAPQ/",
            "dtype": "f8"
           },
           "z": {
            "bdata": "AAAAAAAAAABpgfKEC5KzvwAAAAAAAAAA0b4tWKoLmD8FCaUvhJy/PwUJpS+EnL8/",
            "dtype": "f8"
           }
          }
         ],
         "layout": {
          "annotations": [
           {
            "showarrow": false,
            "text": "Time: 0.11s (Step: 12/100)",
            "x": 0.05,
            "xref": "paper",
            "y": 0.95,
            "yref": "paper"
           }
          ]
         },
         "name": "11"
        },
        {
         "data": [
          {
           "name": "Free Nodes",
           "type": "scatter3d",
           "x": {
            "bdata": "MdITVdns7z8AAAAAAADQPwAAAAAAAPQ/AAAAAAAA0D8=",
            "dtype": "f8"
           },
           "y": {
            "bdata": "T+BgBvntRD8AAAAAAADQPwAAAAAAANA/AAAAAAAA9D8=",
            "dtype": "f8"
           },
           "z": {
            "bdata": "Jy7KOMfStr++RfMAFvmFP/8BuFm8WLw//wG4WbxYvD8=",
            "dtype": "f8"
           }
          },
          {
           "name": "Fixed Nodes",
           "type": "scatter3d",
           "x": {
            "bdata": "AAAAAAAAAAAAAAAAAAAAAA==",
            "dtype": "f8"
           },
           "y": {
            "bdata": "AAAAAAAAAAAAAAAAAADwPw==",
            "dtype": "f8"
           },
           "z": {
            "bdata": "AAAAAAAAAAAAAAAAAAAAAA==",
            "dtype": "f8"
           }
          },
          {
           "name": "Edges",
           "type": "scatter3d",
           "x": [
            0.997662225882385,
            0,
            null,
            0,
            0,
            null,
            0,
            0.997662225882385,
            null,
            1.25,
            0.25,
            null,
            0.25,
            0.25,
            null,
            0.25,
            1.25,
            null
           ],
           "y": [
            0.000638720125386358,
            1,
            null,
            1,
            0,
            null,
            0,
            0.000638720125386358,
            null,
            0.25,
            1.25,
            null,
            1.25,
            0.25,
            null,
            0.25,
            0.25,
            null
           ],
           "z": [
            -0.08915372024983324,
            0,
            null,
            0,
            0,
            null,
            0,
            -0.08915372024983324,
            null,
            0.11072899999999918,
            0.11072899999999918,
            null,
            0.11072899999999918,
            0.010729000000000318,
            null,
            0.010729000000000318,
            0.11072899999999918,
            null
           ]
          },
          {
           "i": [
            0,
            3
           ],
           "j": [
            1,
            4
           ],
           "k": [
            2,
            5
           ],
           "name": "Faces",
           "type": "mesh3d",
           "x": {
            "bdata": "AAAAAAAAAAAx0hNV2ezvPwAAAAAAAAAAAAAAAAAA0D8AAAAAAAD0PwAAAAAAANA/",
            "dtype": "f8"
           },
           "y": {
            "bdata": "AAAAAAAAAABP4GAG+e1EPwAAAAAAAPA/AAAAAAAA0D8AAAAAAADQPwAAAAAAAPQ/",
            "dtype": "f8"
           },
           "z": {
            "bdata": "AAAAAAAAAAAnLso4x9K2vwAAAAAAAAAAvkXzABb5hT//AbhZvFi8P/8BuFm8WLw/",
            "dtype": "f8"
           }
          }
         ],
         "layout": {
          "annotations": [
           {
            "showarrow": false,
            "text": "Time: 0.12s (Step: 13/100)",
            "x": 0.05,
            "xref": "paper",
            "y": 0.95,
            "yref": "paper"
           }
          ]
         },
         "name": "12"
        },
        {
         "data": [
          {
           "name": "Free Nodes",
           "type": "scatter3d",
           "x": {
            "bdata": "IpVyqB3l7z8AAAAAAADQPwAAAAAAAPQ/AAAAAAAA0D8=",
            "dtype": "f8"
           },
           "y": {
            "bdata": "Ndi9mPmoTD8AAAAAAADQPwAAAAAAANA/AAAAAAAA9D8=",
            "dtype": "f8"
           },
           "z": {
            "bdata": "re8wT01Sur+E7S4X8Z1ov9Ih4BCq1Lg/0iHgEKrUuD8=",
            "dtype": "f8"
           }
          },
          {
           "name": "Fixed Nodes",
           "type": "scatter3d",
           "x": {
            "bdata": "AAAAAAAAAAAAAAAAAAAAAA==",
            "dtype": "f8"
           },
           "y": {
            "bdata": "AAAAAAAAAAAAAAAAAADwPw==",
            "dtype": "f8"
           },
           "z": {
            "bdata": "AAAAAAAAAAAAAAAAAAAAAA==",
            "dtype": "f8"
           }
          },
          {
           "name": "Edges",
           "type": "scatter3d",
           "x": [
            0.9967182435981707,
            0,
            null,
            0,
            0,
            null,
            0,
            0.9967182435981707,
            null,
            1.25,
            0.25,
            null,
            0.25,
            0.25,
            null,
            0.25,
            1.25,
            null
           ],
           "y": [
            0.0008746355756403869,
            1,
            null,
            1,
            0,
            null,
            0,
            0.0008746355756403869,
            null,
            0.25,
            1.25,
            null,
            1.25,
            0.25,
            null,
            0.25,
            0.25,
            null
           ],
           "z": [
            -0.1028183286989008,
            0,
            null,
            0,
            0,
            null,
            0,
            -0.1028183286989008,
            null,
            0.09699499999999908,
            0.09699499999999908,
            null,
            0.09699499999999908,
            -0.0030049999999996486,
            null,
            -0.0030049999999996486,
            0.09699499999999908,
            null
           ]
          },
          {
           "i": [
            0,
            3
           ],
           "j": [
            1,
            4
           ],
           "k": [
            2,
            5
           ],
           "name": "Faces",
           "type": "mesh3d",
           "x": {
            "bdata": "AAAAAAAAAAAilXKoHeXvPwAAAAAAAAAAAAAAAAAA0D8AAAAAAAD0PwAAAAAAANA/",
            "dtype": "f8"
           },
           "y": {
            "bdata": "AAAAAAAAAAA12L2Y+ahMPwAAAAAAAPA/AAAAAAAA0D8AAAAAAADQPwAAAAAAAPQ/",
            "dtype": "f8"
           },
           "z": {
            "bdata": "AAAAAAAAAACt7zBPTVK6vwAAAAAAAAAAhO0uF/GdaL/SIeAQqtS4P9Ih4BCq1Lg/",
            "dtype": "f8"
           }
          }
         ],
         "layout": {
          "annotations": [
           {
            "showarrow": false,
            "text": "Time: 0.13s (Step: 14/100)",
            "x": 0.05,
            "xref": "paper",
            "y": 0.95,
            "yref": "paper"
           }
          ]
         },
         "name": "13"
        },
        {
         "data": [
          {
           "name": "Free Nodes",
           "type": "scatter3d",
           "x": {
            "bdata": "6SGgBz3b7z8AAAAAAADQPwAAAAAAAPQ/AAAAAAAA0D8=",
            "dtype": "f8"
           },
           "y": {
            "bdata": "/r4aJD4UUz8AAAAAAADQPwAAAAAAANA/AAAAAAAA9D8=",
            "dtype": "f8"
           },
           "z": {
            "bdata": "UNRgzBcQvr/dwvARMSWSv35oHVVNELU/fmgdVU0QtT8=",
            "dtype": "f8"
           }
          },
          {
           "name": "Fixed Nodes",
           "type": "scatter3d",
           "x": {
            "bdata": "AAAAAAAAAAAAAAAAAAAAAA==",
            "dtype": "f8"
           },
           "y": {
            "bdata": "AAAAAAAAAAAAAAAAAADwPw==",
            "dtype": "f8"
           },
           "z": {
            "bdata": "AAAAAAAAAAAAAAAAAAAAAA==",
            "dtype": "f8"
           }
          },
          {
           "name": "Edges",
           "type": "scatter3d",
           "x": [
            0.9955124997077834,
            0,
            null,
            0,
            0,
            null,
            0,
            0.9955124997077834,
            null,
            1.25,
            0.25,
            null,
            0.25,
            0.25,
            null,
            0.25,
            1.25,
            null
           ],
           "y": [
            0.0011644942136789789,
            1,
            null,
            1,
            0,
            null,
            0,
            0.0011644942136789789,
            null,
            0.25,
            1.25,
            null,
            1.25,
            0.25,
            null,
            0.25,
            0.25,
            null
           ],
           "z": [
            -0.11743305911734692,
            0,
            null,
            0,
            0,
            null,
            0,
            -0.11743305911734692,
            null,
            0.08227999999999899,
            0.08227999999999899,
            null,
            0.08227999999999899,
            -0.017719999999999615,
            null,
            -0.017719999999999615,
            0.08227999999999899,
            null
           ]
          },
          {
           "i": [
            0,
            3
           ],
           "j": [
            1,
            4
           ],
           "k": [
            2,
            5
           ],
           "name": "Faces",
           "type": "mesh3d",
           "x": {
            "bdata": "AAAAAAAAAADpIaAHPdvvPwAAAAAAAAAAAAAAAAAA0D8AAAAAAAD0PwAAAAAAANA/",
            "dtype": "f8"
           },
           "y": {
            "bdata": "AAAAAAAAAAD+vhokPhRTPwAAAAAAAPA/AAAAAAAA0D8AAAAAAADQPwAAAAAAAPQ/",
            "dtype": "f8"
           },
           "z": {
            "bdata": "AAAAAAAAAABQ1GDMFxC+vwAAAAAAAAAA3cLwETElkr9+aB1VTRC1P35oHVVNELU/",
            "dtype": "f8"
           }
          }
         ],
         "layout": {
          "annotations": [
           {
            "showarrow": false,
            "text": "Time: 0.14s (Step: 15/100)",
            "x": 0.05,
            "xref": "paper",
            "y": 0.95,
            "yref": "paper"
           }
          ]
         },
         "name": "14"
        },
        {
         "data": [
          {
           "name": "Free Nodes",
           "type": "scatter3d",
           "x": {
            "bdata": "wPCnGoXM7z+dME0MQRDQP0mpatWLAPQ/6cDETx4A0D8=",
            "dtype": "f8"
           },
           "y": {
            "bdata": "dNo2WSHHWD91ppaPFv7PPw4wupYeANA/Lp9eiDUA9D8=",
            "dtype": "f8"
           },
           "z": {
            "bdata": "Um+LCgpLwb+FsFyKrLSZvwMMzLR+DLE/HTwJ4v8LsT8=",
            "dtype": "f8"
           }
          },
          {
           "name": "Fixed Nodes",
           "type": "scatter3d",
           "x": {
            "bdata": "AAAAAAAAAAAAAAAAAAAAAA==",
            "dtype": "f8"
           },
           "y": {
            "bdata": "AAAAAAAAAAAAAAAAAADwPw==",
            "dtype": "f8"
           },
           "z": {
            "bdata": "AAAAAAAAAAAAAAAAAAAAAA==",
            "dtype": "f8"
           }
          },
          {
           "name": "Edges",
           "type": "scatter3d",
           "x": [
            0.9937158127427423,
            0,
            null,
            0,
            0,
            null,
            0,
            0.9937158127427423,
            null,
            1.2501333557689398,
            0.2500072268476417,
            null,
            0.2500072268476417,
            0.2509920711643277,
            null,
            0.2509920711643277,
            1.2501333557689398,
            null
           ],
           "y": [
            0.0015123201054457998,
            1,
            null,
            1,
            0,
            null,
            0,
            0.0015123201054457998,
            null,
            0.2500072929331062,
            1.2500510527551785,
            null,
            1.2500510527551785,
            0.24994165431171536,
            null,
            0.24994165431171536,
            0.2500072929331062,
            null
           ],
           "z": [
            -0.1351025153625139,
            0,
            null,
            0,
            0,
            null,
            0,
            -0.1351025153625139,
            null,
            0.06659690774908715,
            0.06658934849222971,
            null,
            0.06658934849222971,
            -0.025103279061270207,
            null,
            -0.025103279061270207,
            0.06659690774908715,
            null
           ]
          },
          {
           "i": [
            0,
            3
           ],
           "j": [
            1,
            4
           ],
           "k": [
            2,
            5
           ],
           "name": "Faces",
           "type": "mesh3d",
           "x": {
            "bdata": "AAAAAAAAAADA8KcahczvPwAAAAAAAAAAnTBNDEEQ0D9JqWrViwD0P+nAxE8eANA/",
            "dtype": "f8"
           },
           "y": {
            "bdata": "AAAAAAAAAAB02jZZIcdYPwAAAAAAAPA/daaWjxb+zz8OMLqWHgDQPy6fXog1APQ/",
            "dtype": "f8"
           },
           "z": {
            "bdata": "AAAAAAAAAABSb4sKCkvBvwAAAAAAAAAAhbBciqy0mb8DDMy0fgyxPx08CeL/C7E/",
            "dtype": "f8"
           }
          }
         ],
         "layout": {
          "annotations": [
           {
            "showarrow": false,
            "text": "Time: 0.15s (Step: 16/100)",
            "x": 0.05,
            "xref": "paper",
            "y": 0.95,
            "yref": "paper"
           }
          ]
         },
         "name": "15"
        },
        {
         "data": [
          {
           "name": "Free Nodes",
           "type": "scatter3d",
           "x": {
            "bdata": "gzaBMqi57z8R4gO1NSXQP/TkX+o3AvQ/7Ag2crAA0D8=",
            "dtype": "f8"
           },
           "y": {
            "bdata": "VJE3wSWFXz9G6RA/R/jPP2cXtGyyANA//tzwfMoA9D8=",
            "dtype": "f8"
           },
           "z": {
            "bdata": "XxF8/f7Lw7/KWC9xmm+ev0jA1CL2k6k/cqeijg2QqT8=",
            "dtype": "f8"
           }
          },
          {
           "name": "Fixed Nodes",
           "type": "scatter3d",
           "x": {
            "bdata": "AAAAAAAAAAAAAAAAAAAAAA==",
            "dtype": "f8"
           },
           "y": {
            "bdata": "AAAAAAAAAAAAAAAAAADwPw==",
            "dtype": "f8"
           },
           "z": {
            "bdata": "AAAAAAAAAAAAAAAAAAAAAA==",
            "dtype": "f8"
           }
          },
          {
           "name": "Edges",
           "type": "scatter3d",
           "x": [
            0.9914132105274834,
            0,
            null,
            0,
            0,
            null,
            0,
            0.9914132105274834,
            null,
            1.2505416064507786,
            0.250042068037273,
            null,
            0.250042068037273,
            0.2522711055494549,
            null,
            0.2522711055494549,
            1.2505416064507786,
            null
           ],
           "y": [
            0.0019238346766253427,
            1,
            null,
            1,
            0,
            null,
            0,
            0.0019238346766253427,
            null,
            0.2500425397450869,
            1.2501931076529327,
            null,
            1.2501931076529327,
            0.24976435260198054,
            null,
            0.24976435260198054,
            0.2500425397450869,
            null
           ],
           "z": [
            -0.1546629655569047,
            0,
            null,
            0,
            0,
            null,
            0,
            -0.1546629655569047,
            null,
            0.049956981422270064,
            0.04992716184763325,
            null,
            0.04992716184763325,
            -0.029722607763539334,
            null,
            -0.029722607763539334,
            0.049956981422270064,
            null
           ]
          },
          {
           "i": [
            0,
            3
           ],
           "j": [
            1,
            4
           ],
           "k": [
            2,
            5
           ],
           "name": "Faces",
           "type": "mesh3d",
           "x": {
            "bdata": "AAAAAAAAAACDNoEyqLnvPwAAAAAAAAAAEeIDtTUl0D/05F/qNwL0P+wINnKwANA/",
            "dtype": "f8"
           },
           "y": {
            "bdata": "AAAAAAAAAABUkTfBJYVfPwAAAAAAAPA/RukQP0f4zz9nF7RssgDQP/7c8HzKAPQ/",
            "dtype": "f8"
           },
           "z": {
            "bdata": "AAAAAAAAAABfEXz9/svDvwAAAAAAAAAAylgvcZpvnr9IwNQi9pOpP3Knoo4NkKk/",
            "dtype": "f8"
           }
          }
         ],
         "layout": {
          "annotations": [
           {
            "showarrow": false,
            "text": "Time: 0.16s (Step: 17/100)",
            "x": 0.05,
            "xref": "paper",
            "y": 0.95,
            "yref": "paper"
           }
          ]
         },
         "name": "16"
        },
        {
         "data": [
          {
           "name": "Free Nodes",
           "type": "scatter3d",
           "x": {
            "bdata": "NPbJzyij7z9JEh18BTXQPxdp649SBfQ/tKonHj4C0D8=",
            "dtype": "f8"
           },
           "y": {
            "bdata": "v949OBC3Yz9rvutpR+3PP4qb8elMAtA/USFG2MMB9D8=",
            "dtype": "f8"
           },
           "z": {
            "bdata": "UYUHZt1uxr82N4qWE9qhv74wET2/kaA/sROAnA2IoD8=",
            "dtype": "f8"
           }
          },
          {
           "name": "Fixed Nodes",
           "type": "scatter3d",
           "x": {
            "bdata": "AAAAAAAAAAAAAAAAAAAAAA==",
            "dtype": "f8"
           },
           "y": {
            "bdata": "AAAAAAAAAAAAAAAAAADwPw==",
            "dtype": "f8"
           },
           "z": {
            "bdata": "AAAAAAAAAAAAAAAAAAAAAA==",
            "dtype": "f8"
           }
          },
          {
           "name": "Edges",
           "type": "scatter3d",
           "x": [
            0.988666921460839,
            0,
            null,
            0,
            0,
            null,
            0,
            0.988666921460839,
            null,
            1.2512994405611317,
            0.25013688034838855,
            null,
            0.25013688034838855,
            0.253236170963906,
            null,
            0.253236170963906,
            1.2512994405611317,
            null
           ],
           "y": [
            0.00240662734898564,
            1,
            null,
            1,
            0,
            null,
            0,
            0.00240662734898564,
            null,
            0.25014040800163484,
            1.2504309127999316,
            null,
            1.2504309127999316,
            0.24942867919843378,
            null,
            0.24942867919843378,
            0.25014040800163484,
            null
           ],
           "z": [
            -0.17525832635787222,
            0,
            null,
            0,
            0,
            null,
            0,
            -0.17525832635787222,
            null,
            0.03236196155975922,
            0.032288003305473885,
            null,
            0.032288003305473885,
            -0.03486691677708935,
            null,
            -0.03486691677708935,
            0.03236196155975922,
            null
           ]
          },
          {
           "i": [
            0,
            3
           ],
           "j": [
            1,
            4
           ],
           "k": [
            2,
            5
           ],
           "name": "Faces",
           "type": "mesh3d",
           "x": {
            "bdata": "AAAAAAAAAAA09snPKKPvPwAAAAAAAAAASRIdfAU10D8XaeuPUgX0P7SqJx4+AtA/",
            "dtype": "f8"
           },
           "y": {
            "bdata": "AAAAAAAAAAC/3j04ELdjPwAAAAAAAPA/a77raUftzz+Km/HpTALQP1EhRtjDAfQ/",
            "dtype": "f8"
           },
           "z": {
            "bdata": "AAAAAAAAAABRhQdm3W7GvwAAAAAAAAAANjeKlhPaob++MBE9v5GgP7ETgJwNiKA/",
            "dtype": "f8"
           }
          }
         ],
         "layout": {
          "annotations": [
           {
            "showarrow": false,
            "text": "Time: 0.17s (Step: 18/100)",
            "x": 0.05,
            "xref": "paper",
            "y": 0.95,
            "yref": "paper"
           }
          ]
         },
         "name": "17"
        },
        {
         "data": [
          {
           "name": "Free Nodes",
           "type": "scatter3d",
           "x": {
            "bdata": "fI3ZBG2I7z80HwYFJD/QP77zxGzHCfQ/imHhcXoF0D8=",
            "dtype": "f8"
           },
           "y": {
            "bdata": "v0lqFYdVaD+W58dDLN3PPyzRsMmeBdA/w84axfIC9D8=",
            "dtype": "f8"
           },
           "z": {
            "bdata": "uBNo6A0yyb+w398+g8ykv8ERwRAPSIw/M3uOBkgAjD8=",
            "dtype": "f8"
           }
          },
          {
           "name": "Fixed Nodes",
           "type": "scatter3d",
           "x": {
            "bdata": "AAAAAAAAAAAAAAAAAAAAAA==",
            "dtype": "f8"
           },
           "y": {
            "bdata": "AAAAAAAAAAAAAAAAAADwPw==",
            "dtype": "f8"
           },
           "z": {
            "bdata": "AAAAAAAAAAAAAAAAAAAAAA==",
            "dtype": "f8"
           }
          },
          {
           "name": "Edges",
           "type": "scatter3d",
           "x": [
            0.9854035467837288,
            0,
            null,
            0,
            0,
            null,
            0,
            0.9854035467837288,
            null,
            1.2523874520113476,
            0.25033436890728267,
            null,
            0.25033436890728267,
            0.2538538025914818,
            null,
            0.2538538025914818,
            1.2523874520113476,
            null
           ],
           "y": [
            0.0029704702713584104,
            1,
            null,
            1,
            0,
            null,
            0,
            0.0029704702713584104,
            null,
            0.2503430337558423,
            1.250719804706862,
            null,
            1.250719804706862,
            0.2489371615372959,
            null,
            0.2489371615372959,
            0.2503430337558423,
            null
           ],
           "z": [
            -0.19684003684974782,
            0,
            null,
            0,
            0,
            null,
            0,
            -0.19684003684974782,
            null,
            0.013809316347882185,
            0.013672411632624204,
            null,
            0.013672411632624204,
            -0.04062280790816375,
            null,
            -0.04062280790816375,
            0.013809316347882185,
            null
           ]
          },
          {
           "i": [
            0,
            3
           ],
           "j": [
            1,
            4
           ],
           "k": [
            2,
            5
           ],
           "name": "Faces",
           "type": "mesh3d",
           "x": {
            "bdata": "AAAAAAAAAAB8jdkEbYjvPwAAAAAAAAAANB8GBSQ/0D++88Rsxwn0P4ph4XF6BdA/",
            "dtype": "f8"
           },
           "y": {
            "bdata": "AAAAAAAAAAC/SWoVh1VoPwAAAAAAAPA/lufHQyzdzz8s0bDJngXQP8POGsXyAvQ/",
            "dtype": "f8"
           },
           "z": {
            "bdata": "AAAAAAAAAAC4E2joDTLJvwAAAAAAAAAAsN/fPoPMpL/BEcEQD0iMPzN7jgZIAIw/",
            "dtype": "f8"
           }
          }
         ],
         "layout": {
          "annotations": [
           {
            "showarrow": false,
            "text": "Time: 0.18s (Step: 19/100)",
            "x": 0.05,
            "xref": "paper",
            "y": 0.95,
            "yref": "paper"
           }
          ]
         },
         "name": "18"
        },
        {
         "data": [
          {
           "name": "Free Nodes",
           "type": "scatter3d",
           "x": {
            "bdata": "jWmY5pRo7z+nrnz0SkXQPwt9AdViD/Q/16GIH/4K0D8=",
            "dtype": "f8"
           },
           "y": {
            "bdata": "2bjUw3OubT+T50GrR8jPP7UjL0hYC9A/IfqL+CAE9D8=",
            "dtype": "f8"
           },
           "z": {
            "bdata": "uIvvyKkWzL9r/PqaZvinv17Ic5HhYne/ZYhO4PJOeL8=",
            "dtype": "f8"
           }
          },
          {
           "name": "Fixed Nodes",
           "type": "scatter3d",
           "x": {
            "bdata": "AAAAAAAAAAAAAAAAAAAAAA==",
            "dtype": "f8"
           },
           "y": {
            "bdata": "AAAAAAAAAAAAAAAAAADwPw==",
            "dtype": "f8"
           },
           "z": {
            "bdata": "AAAAAAAAAAAAAAAAAAAAAA==",
            "dtype": "f8"
           }
          },
          {
           "name": "Edges",
           "type": "scatter3d",
           "x": [
            0.9815163139167439,
            0,
            null,
            0,
            0,
            null,
            0,
            0.9815163139167439,
            null,
            1.2537563629665012,
            0.2506709392496566,
            null,
            0.2506709392496566,
            0.25422929645240305,
            null,
            0.25422929645240305,
            1.2537563629665012,
            null
           ],
           "y": [
            0.0036232243570771647,
            1,
            null,
            1,
            0,
            null,
            0,
            0.0036232243570771647,
            null,
            0.25069243478042874,
            1.2510080059870534,
            null,
            1.2510080059870534,
            0.24829955923251798,
            null,
            0.24829955923251798,
            0.25069243478042874,
            null
           ],
           "z": [
            -0.21944162665667277,
            0,
            null,
            0,
            0,
            null,
            0,
            -0.21944162665667277,
            null,
            -0.005709534764934158,
            -0.005934666381024999,
            null,
            -0.005934666381024999,
            -0.04681702272272833,
            null,
            -0.04681702272272833,
            -0.005709534764934158,
            null
           ]
          },
          {
           "i": [
            0,
            3
           ],
           "j": [
            1,
            4
           ],
           "k": [
            2,
            5
           ],
           "name": "Faces",
           "type": "mesh3d",
           "x": {
            "bdata": "AAAAAAAAAACNaZjmlGjvPwAAAAAAAAAAp6589EpF0D8LfQHVYg/0P9ehiB/+CtA/",
            "dtype": "f8"
           },
           "y": {
            "bdata": "AAAAAAAAAADZuNTDc65tPwAAAAAAAPA/k+dBq0fIzz+1Iy9IWAvQPyH6i/ggBPQ/",
            "dtype": "f8"
           },
           "z": {
            "bdata": "AAAAAAAAAAC4i+/IqRbMvwAAAAAAAAAAa/z6mmb4p79eyHOR4WJ3v2WITuDyTni/",
            "dtype": "f8"
           }
          }
         ],
         "layout": {
          "annotations": [
           {
            "showarrow": false,
            "text": "Time: 0.19s (Step: 20/100)",
            "x": 0.05,
            "xref": "paper",
            "y": 0.95,
            "yref": "paper"
           }
          ]
         },
         "name": "19"
        },
        {
         "data": [
          {
           "name": "Free Nodes",
           "type": "scatter3d",
           "x": {
            "bdata": "RKFG9NdC7z96Q8CnmUnQP2d1kImeFfQ/WMQZVWET0D8=",
            "dtype": "f8"
           },
           "y": {
            "bdata": "0XhC1VzrcT+OO1qmi7DPP9vfAH70E9A/mIC0a/EE9D8=",
            "dtype": "f8"
           },
           "z": {
            "bdata": "RG88M2kdz78C2+ACvDSrv94QhHxU1Jq/vEVFSisom78=",
            "dtype": "f8"
           }
          },
          {
           "name": "Fixed Nodes",
           "type": "scatter3d",
           "x": {
            "bdata": "AAAAAAAAAAAAAAAAAAAAAA==",
            "dtype": "f8"
           },
           "y": {
            "bdata": "AAAAAAAAAAAAAAAAAADwPw==",
            "dtype": "f8"
           },
           "z": {
            "bdata": "AAAAAAAAAAAAAAAAAAAAAA==",
            "dtype": "f8"
           }
          },
          {
           "name": "Edges",
           "type": "scatter3d",
           "x": [
            0.9769096156133306,
            0,
            null,
            0,
            0,
            null,
            0,
            0.9769096156133306,
            null,
            1.2552781461339124,
            0.2511828738270814,
            null,
            0.2511828738270814,
            0.25449220067917333,
            null,
            0.25449220067917333,
            1.2552781461339124,
            null
           ],
           "y": [
            0.004374849919399363,
            1,
            null,
            1,
            0,
            null,
            0,
            0.004374849919399363,
            null,
            0.25121795945187636,
            1.2512067992429703,
            null,
            1.2512067992429703,
            0.24757524130515346,
            null,
            0.24757524130515346,
            0.25121795945187636,
            null
           ],
           "z": [
            -0.24308505059968344,
            0,
            null,
            0,
            0,
            null,
            0,
            -0.24308505059968344,
            null,
            -0.026200599765631043,
            -0.026520420463673963,
            null,
            -0.026520420463673963,
            -0.05313670668731697,
            null,
            -0.05313670668731697,
            -0.026200599765631043,
            null
           ]
          },
          {
           "i": [
            0,
            3
           ],
           "j": [
            1,
            4
           ],
           "k": [
            2,
            5
           ],
           "name": "Faces",
           "type": "mesh3d",
           "x": {
            "bdata": "AAAAAAAAAABEoUb010LvPwAAAAAAAAAAekPAp5lJ0D9ndZCJnhX0P1jEGVVhE9A/",
            "dtype": "f8"
           },
           "y": {
            "bdata": "AAAAAAAAAADReELVXOtxPwAAAAAAAPA/jjtapouwzz/b3wB+9BPQP5iAtGvxBPQ/",
            "dtype": "f8"
           },
           "z": {
            "bdata": "AAAAAAAAAABEbzwzaR3PvwAAAAAAAAAAAtvgArw0q7/eEIR8VNSav7xFRUorKJu/",
            "dtype": "f8"
           }
          }
         ],
         "layout": {
          "annotations": [
           {
            "showarrow": false,
            "text": "Time: 0.20s (Step: 21/100)",
            "x": 0.05,
            "xref": "paper",
            "y": 0.95,
            "yref": "paper"
           }
          ]
         },
         "name": "20"
        },
        {
         "data": [
          {
           "name": "Free Nodes",
           "type": "scatter3d",
           "x": {
            "bdata": "oP47/aQW7z9P7EL5YkzQP8MN4Z0ZHPQ/6p/sLcMe0D8=",
            "dtype": "f8"
           },
           "y": {
            "bdata": "4zsWZapsdT8zeSzxMJfPP/By85eeH9A/HpTdOzIF9D8=",
            "dtype": "f8"
           },
           "z": {
            "bdata": "y1B+2AEh0b9L9jJ+s66uvxw3keJcaKi/juTe19mfqL8=",
            "dtype": "f8"
           }
          },
          {
           "name": "Fixed Nodes",
           "type": "scatter3d",
           "x": {
            "bdata": "AAAAAAAAAAAAAAAAAAAAAA==",
            "dtype": "f8"
           },
           "y": {
            "bdata": "AAAAAAAAAAAAAAAAAADwPw==",
            "dtype": "f8"
           },
           "z": {
            "bdata": "AAAAAAAAAAAAAAAAAAAAAA==",
            "dtype": "f8"
           }
          },
          {
           "name": "Edges",
           "type": "scatter3d",
           "x": [
            0.9715142198546864,
            0,
            null,
            0,
            0,
            null,
            0,
            0.9715142198546864,
            null,
            1.2568603675034502,
            0.2518775890807762,
            null,
            0.2518775890807762,
            0.2546622690385378,
            null,
            0.2546622690385378,
            1.2568603675034502,
            null
           ],
           "y": [
            0.005230584721529904,
            1,
            null,
            1,
            0,
            null,
            0,
            0.005230584721529904,
            null,
            0.251929901494619,
            1.2512686098573407,
            null,
            1.2512686098573407,
            0.24680148864804038,
            null,
            0.24680148864804038,
            0.251929901494619,
            null
           ],
           "z": [
            -0.2676396002000387,
            0,
            null,
            0,
            0,
            null,
            0,
            -0.2676396002000387,
            null,
            -0.04767122522080866,
            -0.04809456596508098,
            null,
            -0.04809456596508098,
            -0.05992661395565032,
            null,
            -0.05992661395565032,
            -0.04767122522080866,
            null
           ]
          },
          {
           "i": [
            0,
            3
           ],
           "j": [
            1,
            4
           ],
           "k": [
            2,
            5
           ],
           "name": "Faces",
           "type": "mesh3d",
           "x": {
            "bdata": "AAAAAAAAAACg/jv9pBbvPwAAAAAAAAAAT+xC+WJM0D/DDeGdGRz0P+qf7C3DHtA/",
            "dtype": "f8"
           },
           "y": {
            "bdata": "AAAAAAAAAADjOxZlqmx1PwAAAAAAAPA/M3ks8TCXzz/wcvOXnh/QPx6U3TsyBfQ/",
            "dtype": "f8"
           },
           "z": {
            "bdata": "AAAAAAAAAADLUH7YASHRvwAAAAAAAAAAS/YyfrOurr8cN5HiXGiov47k3tfZn6i/",
            "dtype": "f8"
           }
          }
         ],
         "layout": {
          "annotations": [
           {
            "showarrow": false,
            "text": "Time: 0.21s (Step: 22/100)",
            "x": 0.05,
            "xref": "paper",
            "y": 0.95,
            "yref": "paper"
           }
          ]
         },
         "name": "21"
        },
        {
         "data": [
          {
           "name": "Free Nodes",
           "type": "scatter3d",
           "x": {
            "bdata": "1tkj3VLh7j+yacjohlXQPziDzpuPIvQ/wfScYzQ10D8=",
            "dtype": "f8"
           },
           "y": {
            "bdata": "dGUNMVZbeT/XxZ5nan7PPwpWEynOLdA/anq4GMwE9D8=",
            "dtype": "f8"
           },
           "z": {
            "bdata": "XA23bATO0r+oom57aOKwvzkcHp2Z87G/S/qouUunsb8=",
            "dtype": "f8"
           }
          },
          {
           "name": "Fixed Nodes",
           "type": "scatter3d",
           "x": {
            "bdata": "AAAAAAAAAAAAAAAAAAAAAA==",
            "dtype": "f8"
           },
           "y": {
            "bdata": "AAAAAAAAAAAAAAAAAADwPw==",
            "dtype": "f8"
           },
           "z": {
            "bdata": "AAAAAAAAAAAAAAAAAAAAAA==",
            "dtype": "f8"
           }
          },
          {
           "name": "Edges",
           "type": "scatter3d",
           "x": [
            0.9650053328649004,
            0,
            null,
            0,
            0,
            null,
            0,
            0.9650053328649004,
            null,
            1.2584377371023958,
            0.253247353819301,
            null,
            0.253247353819301,
            0.2552201531667847,
            null,
            0.2552201531667847,
            1.2584377371023958,
            null
           ],
           "y": [
            0.006190621076563974,
            1,
            null,
            1,
            0,
            null,
            0,
            0.006190621076563974,
            null,
            0.25279573451311477,
            1.2511712041520249,
            null,
            1.2511712041520249,
            0.24604539928036104,
            null,
            0.24604539928036104,
            0.25279573451311477,
            null
           ],
           "z": [
            -0.29382429711059443,
            0,
            null,
            0,
            0,
            null,
            0,
            -0.29382429711059443,
            null,
            -0.0701232918346343,
            -0.06895898134914906,
            null,
            -0.06895898134914906,
            -0.0659547139499731,
            null,
            -0.0659547139499731,
            -0.0701232918346343,
            null
           ]
          },
          {
           "i": [
            0,
            3
           ],
           "j": [
            1,
            4
           ],
           "k": [
            2,
            5
           ],
           "name": "Faces",
           "type": "mesh3d",
           "x": {
            "bdata": "AAAAAAAAAADW2SPdUuHuPwAAAAAAAAAAsmnI6IZV0D84g86bjyL0P8H0nGM0NdA/",
            "dtype": "f8"
           },
           "y": {
            "bdata": "AAAAAAAAAAB0ZQ0xVlt5PwAAAAAAAPA/18WeZ2p+zz8KVhMpzi3QP2p6uBjMBPQ/",
            "dtype": "f8"
           },
           "z": {
            "bdata": "AAAAAAAAAABcDbdsBM7SvwAAAAAAAAAAqKJue2jisL85HB6dmfOxv0v6qLlLp7G/",
            "dtype": "f8"
           }
          }
         ],
         "layout": {
          "annotations": [
           {
            "showarrow": false,
            "text": "Time: 0.22s (Step: 23/100)",
            "x": 0.05,
            "xref": "paper",
            "y": 0.95,
            "yref": "paper"
           }
          ]
         },
         "name": "22"
        },
        {
         "data": [
          {
           "name": "Free Nodes",
           "type": "scatter3d",
           "x": {
            "bdata": "3leEALWd7j/jIL/EIXbQP2EbfqNoKfQ/as8Iuk9l0D8=",
            "dtype": "f8"
           },
           "y": {
            "bdata": "ihAxKM2OfT8jx6JxbGrPP3oXsGjnPNA/FvHU7TgE9D8=",
            "dtype": "f8"
           },
           "z": {
            "bdata": "5digMxis1L9/AIxA74qxv+qq6leH87e/1jE1thwptr8=",
            "dtype": "f8"
           }
          },
          {
           "name": "Fixed Nodes",
           "type": "scatter3d",
           "x": {
            "bdata": "AAAAAAAAAAAAAAAAAAAAAA==",
            "dtype": "f8"
           },
           "y": {
            "bdata": "AAAAAAAAAAAAAAAAAADwPw==",
            "dtype": "f8"
           },
           "z": {
            "bdata": "AAAAAAAAAAAAAAAAAAAAAA==",
            "dtype": "f8"
           }
          },
          {
           "name": "Edges",
           "type": "scatter3d",
           "x": [
            0.9567513475510585,
            0,
            null,
            0,
            0,
            null,
            0,
            0.9567513475510585,
            null,
            1.2601095568113225,
            0.25618355910704926,
            null,
            0.25618355910704926,
            0.2572101994851563,
            null,
            0.2572101994851563,
            1.2601095568113225,
            null
           ],
           "y": [
            0.007216264147306481,
            1,
            null,
            1,
            0,
            null,
            0,
            0.007216264147306481,
            null,
            0.2537172815649381,
            1.2510308542542297,
            null,
            1.2510308542542297,
            0.24543529080033819,
            null,
            0.24543529080033819,
            0.2537172815649381,
            null
           ],
           "z": [
            -0.3230038170035086,
            0,
            null,
            0,
            0,
            null,
            0,
            -0.3230038170035086,
            null,
            -0.09355970283892714,
            -0.08656482170517363,
            null,
            -0.08656482170517363,
            -0.06852622342921853,
            null,
            -0.06852622342921853,
            -0.09355970283892714,
            null
           ]
          },
          {
           "i": [
            0,
            3
           ],
           "j": [
            1,
            4
           ],
           "k": [
            2,
            5
           ],
           "name": "Faces",
           "type": "mesh3d",
           "x": {
            "bdata": "AAAAAAAAAADeV4QAtZ3uPwAAAAAAAAAA4yC/xCF20D9hG36jaCn0P2rPCLpPZdA/",
            "dtype": "f8"
           },
           "y": {
            "bdata": "AAAAAAAAAACKEDEozY59PwAAAAAAAPA/I8eicWxqzz96F7Bo5zzQPxbx1O04BPQ/",
            "dtype": "f8"
           },
           "z": {
            "bdata": "AAAAAAAAAADl2KAzGKzUvwAAAAAAAAAAfwCMQO+Ksb/qqupXh/O3v9YxNbYcKba/",
            "dtype": "f8"
           }
          }
         ],
         "layout": {
          "annotations": [
           {
            "showarrow": false,
            "text": "Time: 0.23s (Step: 24/100)",
            "x": 0.05,
            "xref": "paper",
            "y": 0.95,
            "yref": "paper"
           }
          ]
         },
         "name": "23"
        },
        {
         "data": [
          {
           "name": "Free Nodes",
           "type": "scatter3d",
           "x": {
            "bdata": "9PG+ezlP7j/PaSoFZp7QP0V/vcMDMfQ/GTYGbLud0D8=",
            "dtype": "f8"
           },
           "y": {
            "bdata": "4axECfkNgT/aM/bf/lvPPwUBK3AiS9A/JKFep40D9D8=",
            "dtype": "f8"
           },
           "z": {
            "bdata": "7kJzIMug1r/BiLUVfBOyv3w2AQY0NL6/43CGSZeQur8=",
            "dtype": "f8"
           }
          },
          {
           "name": "Fixed Nodes",
           "type": "scatter3d",
           "x": {
            "bdata": "AAAAAAAAAAAAAAAAAAAAAA==",
            "dtype": "f8"
           },
           "y": {
            "bdata": "AAAAAAAAAAAAAAAAAADwPw==",
            "dtype": "f8"
           },
           "z": {
            "bdata": "AAAAAAAAAAAAAAAAAAAAAA==",
            "dtype": "f8"
           }
          },
          {
           "name": "Edges",
           "type": "scatter3d",
           "x": [
            0.9471709649001796,
            0,
            null,
            0,
            0,
            null,
            0,
            0.9471709649001796,
            null,
            1.2619664808371038,
            0.2596272044109767,
            null,
            0.2596272044109767,
            0.25966787819348,
            null,
            0.25966787819348,
            1.2619664808371038,
            null
           ],
           "y": [
            0.00832743224653715,
            1,
            null,
            1,
            0,
            null,
            0,
            0.00832743224653715,
            null,
            0.2545858474150154,
            1.250867513454133,
            null,
            1.250867513454133,
            0.2449949830592278,
            null,
            0.2449949830592278,
            0.2545858474150154,
            null
           ],
           "z": [
            -0.3535640541931987,
            0,
            null,
            0,
            0,
            null,
            0,
            -0.3535640541931987,
            null,
            -0.11798405787086524,
            -0.10376878304527141,
            null,
            -0.10376878304527141,
            -0.07060981302268755,
            null,
            -0.07060981302268755,
            -0.11798405787086524,
            null
           ]
          },
          {
           "i": [
            0,
            3
           ],
           "j": [
            1,
            4
           ],
           "k": [
            2,
            5
           ],
           "name": "Faces",
           "type": "mesh3d",
           "x": {
            "bdata": "AAAAAAAAAAD08b57OU/uPwAAAAAAAAAAz2kqBWae0D9Ff73DAzH0Pxk2Bmy7ndA/",
            "dtype": "f8"
           },
           "y": {
            "bdata": "AAAAAAAAAADhrEQJ+Q2BPwAAAAAAAPA/2jP23/5bzz8FAStwIkvQPyShXqeNA/Q/",
            "dtype": "f8"
           },
           "z": {
            "bdata": "AAAAAAAAAADuQnMgy6DWvwAAAAAAAAAAwYi1FXwTsr98NgEGNDS+v+NwhkmXkLq/",
            "dtype": "f8"
           }
          }
         ],
         "layout": {
          "annotations": [
           {
            "showarrow": false,
            "text": "Time: 0.24s (Step: 25/100)",
            "x": 0.05,
            "xref": "paper",
            "y": 0.95,
            "yref": "paper"
           }
          ]
         },
         "name": "24"
        },
        {
         "data": [
          {
           "name": "Free Nodes",
           "type": "scatter3d",
           "x": {
            "bdata": "3UwDfpn37T9wc74B3sXQPzL8c9RnOfQ/7nf+n8/T0D8=",
            "dtype": "f8"
           },
           "y": {
            "bdata": "krsY/ZyRgz+tMgoec1PPP5lMNjUMV9A/bCaMd7oC9D8=",
            "dtype": "f8"
           },
           "z": {
            "bdata": "suJfBA6e2L8HPZY+q9yyv/3h3MHLWsK/dg0/Epg3v78=",
            "dtype": "f8"
           }
          },
          {
           "name": "Fixed Nodes",
           "type": "scatter3d",
           "x": {
            "bdata": "AAAAAAAAAAAAAAAAAAAAAA==",
            "dtype": "f8"
           },
           "y": {
            "bdata": "AAAAAAAAAAAAAAAAAADwPw==",
            "dtype": "f8"
           },
           "z": {
            "bdata": "AAAAAAAAAAAAAAAAAAAAAA==",
            "dtype": "f8"
           }
          },
          {
           "name": "Edges",
           "type": "scatter3d",
           "x": [
            0.9364745579900063,
            0,
            null,
            0,
            0,
            null,
            0,
            0.9364745579900063,
            null,
            1.264015035528939,
            0.2629279196206643,
            null,
            0.2629279196206643,
            0.26207685632998956,
            null,
            0.26207685632998956,
            1.264015035528939,
            null
           ],
           "y": [
            0.00955507895841182,
            1,
            null,
            1,
            0,
            null,
            0,
            0.00955507895841182,
            null,
            0.25531296917433505,
            1.2506661100218492,
            null,
            1.2506661100218492,
            0.24473418204106193,
            null,
            0.24473418204106193,
            0.25531296917433505,
            null
           ],
           "z": [
            -0.38464689662172724,
            0,
            null,
            0,
            0,
            null,
            0,
            -0.38464689662172724,
            null,
            -0.14339587179144067,
            -0.12194204755274093,
            null,
            -0.12194204755274093,
            -0.07367964056014752,
            null,
            -0.07367964056014752,
            -0.14339587179144067,
            null
           ]
          },
          {
           "i": [
            0,
            3
           ],
           "j": [
            1,
            4
           ],
           "k": [
            2,
            5
           ],
           "name": "Faces",
           "type": "mesh3d",
           "x": {
            "bdata": "AAAAAAAAAADdTAN+mfftPwAAAAAAAAAAcHO+Ad7F0D8y/HPUZzn0P+53/p/P09A/",
            "dtype": "f8"
           },
           "y": {
            "bdata": "AAAAAAAAAACSuxj9nJGDPwAAAAAAAPA/rTIKHnNTzz+ZTDY1DFfQP2wmjHe6AvQ/",
            "dtype": "f8"
           },
           "z": {
            "bdata": "AAAAAAAAAACy4l8EDp7YvwAAAAAAAAAABz2WPqvcsr/94dzBy1rCv3YNPxKYN7+/",
            "dtype": "f8"
           }
          }
         ],
         "layout": {
          "annotations": [
           {
            "showarrow": false,
            "text": "Time: 0.25s (Step: 26/100)",
            "x": 0.05,
            "xref": "paper",
            "y": 0.95,
            "yref": "paper"
           }
          ]
         },
         "name": "25"
        },
        {
         "data": [
          {
           "name": "Free Nodes",
           "type": "scatter3d",
           "x": {
            "bdata": "DSDmTuuV7T9jxfv+oO7QP5vEvyVSQvQ/gkP40H8G0T8=",
            "dtype": "f8"
           },
           "y": {
            "bdata": "UYXXZ+tUhj/jA+rHmFLPP3u11IyUX9A/FGqbdckB9D8=",
            "dtype": "f8"
           },
           "z": {
            "bdata": "mbKYIVai2r9tebwQleezv282A+qXu8W//EjvW8QOwr8=",
            "dtype": "f8"
           }
          },
          {
           "name": "Fixed Nodes",
           "type": "scatter3d",
           "x": {
            "bdata": "AAAAAAAAAAAAAAAAAAAAAA==",
            "dtype": "f8"
           },
           "y": {
            "bdata": "AAAAAAAAAAAAAAAAAADwPw==",
            "dtype": "f8"
           },
           "z": {
            "bdata": "AAAAAAAAAAAAAAAAAAAAAA==",
            "dtype": "f8"
           }
          },
          {
           "name": "Edges",
           "type": "scatter3d",
           "x": [
            0.9245506802553806,
            0,
            null,
            0,
            0,
            null,
            0,
            0.9245506802553806,
            null,
            1.266191623170278,
            0.2660216847153195,
            null,
            0.2660216847153195,
            0.2645647516320279,
            null,
            0.2645647516320279,
            1.266191623170278,
            null
           ],
           "y": [
            0.010904158693792939,
            1,
            null,
            1,
            0,
            null,
            0,
            0.010904158693792939,
            null,
            0.255833756952448,
            1.2504362672831393,
            null,
            1.2504362672831393,
            0.24470815431052903,
            null,
            0.24470815431052903,
            0.255833756952448,
            null
           ],
           "z": [
            -0.4161582305994585,
            0,
            null,
            0,
            0,
            null,
            0,
            -0.4161582305994585,
            null,
            -0.16978739668268214,
            -0.14107565392493615,
            null,
            -0.14107565392493615,
            -0.07775241526221573,
            null,
            -0.07775241526221573,
            -0.16978739668268214,
            null
           ]
          },
          {
           "i": [
            0,
            3
           ],
           "j": [
            1,
            4
           ],
           "k": [
            2,
            5
           ],
           "name": "Faces",
           "type": "mesh3d",
           "x": {
            "bdata": "AAAAAAAAAAANIOZO65XtPwAAAAAAAAAAY8X7/qDu0D+bxL8lUkL0P4JD+NB/BtE/",
            "dtype": "f8"
           },
           "y": {
            "bdata": "AAAAAAAAAABRhddn61SGPwAAAAAAAPA/4wPqx5hSzz97tdSMlF/QPxRqm3XJAfQ/",
            "dtype": "f8"
           },
           "z": {
            "bdata": "AAAAAAAAAACZspghVqLavwAAAAAAAAAAbXm8EJXns79vNgPql7vFv/xI71vEDsK/",
            "dtype": "f8"
           }
          }
         ],
         "layout": {
          "annotations": [
           {
            "showarrow": false,
            "text": "Time: 0.26s (Step: 27/100)",
            "x": 0.05,
            "xref": "paper",
            "y": 0.95,
            "yref": "paper"
           }
          ]
         },
         "name": "26"
        },
        {
         "data": [
          {
           "name": "Free Nodes",
           "type": "scatter3d",
           "x": {
            "bdata": "cM2+n0sp7T9WJRs5JBvRP3X9xklQS/Q/UT8ieiA10T8=",
            "dtype": "f8"
           },
           "y": {
            "bdata": "nYV0AuFYiT8nAAl4+1rPP+vQdTQKZNA/txvifrUA9D8=",
            "dtype": "f8"
           },
           "z": {
            "bdata": "d2EnZ+6r3L+fjwgh7DW1v+Yzei/5O8m/DLu7nuCgxL8=",
            "dtype": "f8"
           }
          },
          {
           "name": "Fixed Nodes",
           "type": "scatter3d",
           "x": {
            "bdata": "AAAAAAAAAAAAAAAAAAAAAA==",
            "dtype": "f8"
           },
           "y": {
            "bdata": "AAAAAAAAAAAAAAAAAADwPw==",
            "dtype": "f8"
           },
           "z": {
            "bdata": "AAAAAAAAAAAAAAAAAAAAAA==",
            "dtype": "f8"
           }
          },
          {
           "name": "Edges",
           "type": "scatter3d",
           "x": [
            0.9112909431482148,
            0,
            null,
            0,
            0,
            null,
            0,
            0.9112909431482148,
            null,
            1.2683871156621909,
            0.2688676064217264,
            null,
            0.2688676064217264,
            0.2672815854717404,
            null,
            0.2672815854717404,
            1.2683871156621909,
            null
           ],
           "y": [
            0.012376554381776478,
            1,
            null,
            1,
            0,
            null,
            0,
            0.012376554381776478,
            null,
            0.2561059486681773,
            1.2501730877281554,
            null,
            1.2501730877281554,
            0.2449640594586537,
            null,
            0.2449640594586537,
            0.2561059486681773,
            null
           ],
           "z": [
            -0.4479938514100676,
            0,
            null,
            0,
            0,
            null,
            0,
            -0.4479938514100676,
            null,
            -0.19714274233083912,
            -0.16115958929682284,
            null,
            -0.16115958929682284,
            -0.08285404020767694,
            null,
            -0.08285404020767694,
            -0.19714274233083912,
            null
           ]
          },
          {
           "i": [
            0,
            3
           ],
           "j": [
            1,
            4
           ],
           "k": [
            2,
            5
           ],
           "name": "Faces",
           "type": "mesh3d",
           "x": {
            "bdata": "AAAAAAAAAABwzb6fSyntPwAAAAAAAAAAViUbOSQb0T91/cZJUEv0P1E/InogNdE/",
            "dtype": "f8"
           },
           "y": {
            "bdata": "AAAAAAAAAACdhXQC4ViJPwAAAAAAAPA/JwAJePtazz/r0HU0CmTQP7cb4n61APQ/",
            "dtype": "f8"
           },
           "z": {
            "bdata": "AAAAAAAAAAB3YSdn7qvcvwAAAAAAAAAAn48IIew1tb/mM3ov+TvJvwy7u57goMS/",
            "dtype": "f8"
           }
          }
         ],
         "layout": {
          "annotations": [
           {
            "showarrow": false,
            "text": "Time: 0.27s (Step: 28/100)",
            "x": 0.05,
            "xref": "paper",
            "y": 0.95,
            "yref": "paper"
           }
          ]
         },
         "name": "27"
        },
        {
         "data": [
          {
           "name": "Free Nodes",
           "type": "scatter3d",
           "x": {
            "bdata": "NH2Zeeyw7D9QSMBb003RPyqQZgTeU/Q/rhBl4FZf0T8=",
            "dtype": "f8"
           },
           "y": {
            "bdata": "4P39qa+bjD+w1wAouW3PPwoA0UMMZNA/Bi0/DnP/8z8=",
            "dtype": "f8"
           },
           "z": {
            "bdata": "XGXz3AS53r+6ouCV0Mm2vwBp+Mky28y/vzybhs1Rx78=",
            "dtype": "f8"
           }
          },
          {
           "name": "Fixed Nodes",
           "type": "scatter3d",
           "x": {
            "bdata": "AAAAAAAAAAAAAAAAAAAAAA==",
            "dtype": "f8"
           },
           "y": {
            "bdata": "AAAAAAAAAAAAAAAAAADwPw==",
            "dtype": "f8"
           },
           "z": {
            "bdata": "AAAAAAAAAAAAAAAAAAAAAA==",
            "dtype": "f8"
           }
          },
          {
           "name": "Edges",
           "type": "scatter3d",
           "x": [
            0.896597135066179,
            0,
            null,
            0,
            0,
            null,
            0,
            0.896597135066179,
            null,
            1.2704754039668935,
            0.27144405282548234,
            null,
            0.27144405282548234,
            0.2703750988013143,
            null,
            0.2703750988013143,
            1.2704754039668935,
            null
           ],
           "y": [
            0.01396882283711326,
            1,
            null,
            1,
            0,
            null,
            0,
            0.01396882283711326,
            null,
            0.25610643980689984,
            1.2498655849947808,
            null,
            1.2498655849947808,
            0.24553598836217594,
            null,
            0.24553598836217594,
            0.25610643980689984,
            null
           ],
           "z": [
            -0.4800426633570021,
            0,
            null,
            0,
            0,
            null,
            0,
            -0.4800426633570021,
            null,
            -0.22543940412362673,
            -0.1821839244134704,
            null,
            -0.1821839244134704,
            -0.08901694926374662,
            null,
            -0.08901694926374662,
            -0.22543940412362673,
            null
           ]
          },
          {
           "i": [
            0,
            3
           ],
           "j": [
            1,
            4
           ],
           "k": [
            2,
            5
           ],
           "name": "Faces",
           "type": "mesh3d",
           "x": {
            "bdata": "AAAAAAAAAAA0fZl57LDsPwAAAAAAAAAAUEjAW9NN0T8qkGYE3lP0P64QZeBWX9E/",
            "dtype": "f8"
           },
           "y": {
            "bdata": "AAAAAAAAAADg/f2pr5uMPwAAAAAAAPA/sNcAKLltzz8KANFDDGTQPwYtPw5z//M/",
            "dtype": "f8"
           },
           "z": {
            "bdata": "AAAAAAAAAABcZfPcBLnevwAAAAAAAAAAuqLgldDJtr8AafjJMtvMv788m4bNUce/",
            "dtype": "f8"
           }
          }
         ],
         "layout": {
          "annotations": [
           {
            "showarrow": false,
            "text": "Time: 0.28s (Step: 29/100)",
            "x": 0.05,
            "xref": "paper",
            "y": 0.95,
            "yref": "paper"
           }
          ]
         },
         "name": "28"
        },
        {
         "data": [
          {
           "name": "Free Nodes",
           "type": "scatter3d",
           "x": {
            "bdata": "0eZqcCAs7D+95OSitYjRP6bpCPSAW/Q/fE0dTgWF0T8=",
            "dtype": "f8"
           },
           "y": {
            "bdata": "B+3NJ/kLkD+MIVSxZYvPP5mm1AV4X9A/L7LGVfj98z8=",
            "dtype": "f8"
           },
           "z": {
            "bdata": "1Y9ZZdxj4L9P540hhaW4v6rzBXQ2TNC/NSLbi0Ehyr8=",
            "dtype": "f8"
           }
          },
          {
           "name": "Fixed Nodes",
           "type": "scatter3d",
           "x": {
            "bdata": "AAAAAAAAAAAAAAAAAAAAAA==",
            "dtype": "f8"
           },
           "y": {
            "bdata": "AAAAAAAAAAAAAAAAAADwPw==",
            "dtype": "f8"
           },
           "z": {
            "bdata": "AAAAAAAAAAAAAAAAAAAAAA==",
            "dtype": "f8"
           }
          },
          {
           "name": "Edges",
           "type": "scatter3d",
           "x": [
            0.8803865619331309,
            0,
            null,
            0,
            0,
            null,
            0,
            0.8803865619331309,
            null,
            1.2723397762880295,
            0.27374394062390883,
            null,
            0.27374394062390883,
            0.2739690867197842,
            null,
            0.2739690867197842,
            1.2723397762880295,
            null
           ],
           "y": [
            0.015670674375980045,
            1,
            null,
            1,
            0,
            null,
            0,
            0.015670674375980045,
            null,
            0.25582695550347406,
            1.249504408896552,
            null,
            1.249504408896552,
            0.24644156607270096,
            null,
            0.24644156607270096,
            0.25582695550347406,
            null
           ],
           "z": [
            -0.5121900538911129,
            0,
            null,
            0,
            0,
            null,
            0,
            -0.5121900538911129,
            null,
            -0.2546516545333427,
            -0.20413989380746647,
            null,
            -0.20413989380746647,
            -0.0962756354255394,
            null,
            -0.0962756354255394,
            -0.2546516545333427,
            null
           ]
          },
          {
           "i": [
            0,
            3
           ],
           "j": [
            1,
            4
           ],
           "k": [
            2,
            5
           ],
           "name": "Faces",
           "type": "mesh3d",
           "x": {
            "bdata": "AAAAAAAAAADR5mpwICzsPwAAAAAAAAAAveTkorWI0T+m6Qj0gFv0P3xNHU4FhdE/",
            "dtype": "f8"
           },
           "y": {
            "bdata": "AAAAAAAAAAAH7c0n+QuQPwAAAAAAAPA/jCFUsWWLzz+ZptQFeF/QPy+yxlX4/fM/",
            "dtype": "f8"
           },
           "z": {
            "bdata": "AAAAAAAAAADVj1ll3GPgvwAAAAAAAAAAT+eNIYWluL+q8wV0NkzQvzUi24tBIcq/",
            "dtype": "f8"
           }
          }
         ],
         "layout": {
          "annotations": [
           {
            "showarrow": false,
            "text": "Time: 0.29s (Step: 30/100)",
            "x": 0.05,
            "xref": "paper",
            "y": 0.95,
            "yref": "paper"
           }
          ]
         },
         "name": "29"
        },
        {
         "data": [
          {
           "name": "Free Nodes",
           "type": "scatter3d",
           "x": {
            "bdata": "XUaJTWGa6z8t3xP3LM3RP0JZyTDdYfQ/xtNSejmm0T8=",
            "dtype": "f8"
           },
           "y": {
            "bdata": "JeywRC3ikT8nf9ELArTPP4XOontYVtA/iVQ2dkL88z8=",
            "dtype": "f8"
           },
           "z": {
            "bdata": "at2QvxNr4b/nkK03GMu6vxmkc1tsOdK/Wjh6RwQPzb8=",
            "dtype": "f8"
           }
          },
          {
           "name": "Fixed Nodes",
           "type": "scatter3d",
           "x": {
            "bdata": "AAAAAAAAAAAAAAAAAAAAAA==",
            "dtype": "f8"
           },
           "y": {
            "bdata": "AAAAAAAAAAAAAAAAAADwPw==",
            "dtype": "f8"
           },
           "z": {
            "bdata": "AAAAAAAAAAAAAAAAAAAAAA==",
            "dtype": "f8"
           }
          },
          {
           "name": "Edges",
           "type": "scatter3d",
           "x": [
            0.8625952257518282,
            0,
            null,
            0,
            0,
            null,
            0,
            0.8625952257518282,
            null,
            1.2738925843928688,
            0.27577053971918664,
            null,
            0.27577053971918664,
            0.2781479275576995,
            null,
            0.2781479275576995,
            1.2738925843928688,
            null
           ],
           "y": [
            0.01746435863263342,
            1,
            null,
            1,
            0,
            null,
            0,
            0.01746435863263342,
            null,
            0.255270119417425,
            1.2490868203797467,
            null,
            1.2490868203797467,
            0.24768090798442552,
            null,
            0.24768090798442552,
            0.255270119417425,
            null
           ],
           "z": [
            -0.5443209401627602,
            0,
            null,
            0,
            0,
            null,
            0,
            -0.5443209401627602,
            null,
            -0.2847548382838468,
            -0.2270207737933017,
            null,
            -0.2270207737933017,
            -0.10466147765470489,
            null,
            -0.10466147765470489,
            -0.2847548382838468,
            null
           ]
          },
          {
           "i": [
            0,
            3
           ],
           "j": [
            1,
            4
           ],
           "k": [
            2,
            5
           ],
           "name": "Faces",
           "type": "mesh3d",
           "x": {
            "bdata": "AAAAAAAAAABdRolNYZrrPwAAAAAAAAAALd8T9yzN0T9CWckw3WH0P8bTUno5ptE/",
            "dtype": "f8"
           },
           "y": {
            "bdata": "AAAAAAAAAAAl7LBELeKRPwAAAAAAAPA/J3/RCwK0zz+FzqJ7WFbQP4lUNnZC/PM/",
            "dtype": "f8"
           },
           "z": {
            "bdata": "AAAAAAAAAABq3ZC/E2vhvwAAAAAAAAAA55CtNxjLur8ZpHNbbDnSv1o4ekcED82/",
            "dtype": "f8"
           }
          }
         ],
         "layout": {
          "annotations": [
           {
            "showarrow": false,
            "text": "Time: 0.30s (Step: 31/100)",
            "x": 0.05,
            "xref": "paper",
            "y": 0.95,
            "yref": "paper"
           }
          ]
         },
         "name": "30"
        },
        {
         "data": [
          {
           "name": "Free Nodes",
           "type": "scatter3d",
           "x": {
            "bdata": "M5VyJFL76j/tN5Pb1RvSP+SosGDAZvQ/p3ucSSDD0T8=",
            "dtype": "f8"
           },
           "y": {
            "bdata": "17BkF+7Jkz+OJqekCOfPP+H+XHPaSNA/jetf7lb68z8=",
            "dtype": "f8"
           },
           "z": {
            "bdata": "Z7UG/Dpx4r88QnxbFTy9vyXsmXjpNNS/kXCYnnkN0L8=",
            "dtype": "f8"
           }
          },
          {
           "name": "Fixed Nodes",
           "type": "scatter3d",
           "x": {
            "bdata": "AAAAAAAAAAAAAAAAAAAAAA==",
            "dtype": "f8"
           },
           "y": {
            "bdata": "AAAAAAAAAAAAAAAAAADwPw==",
            "dtype": "f8"
           },
           "z": {
            "bdata": "AAAAAAAAAAAAAAAAAAAAAA==",
            "dtype": "f8"
           }
          },
          {
           "name": "Edges",
           "type": "scatter3d",
           "x": [
            0.8431788169733977,
            0,
            null,
            0,
            0,
            null,
            0,
            0.8431788169733977,
            null,
            1.275085809417356,
            0.2775345534191111,
            null,
            0.2775345534191111,
            0.2829489368713201,
            null,
            0.2829489368713201,
            1.275085809417356,
            null
           ],
           "y": [
            0.019324989488425395,
            1,
            null,
            1,
            0,
            null,
            0,
            0.019324989488425395,
            null,
            0.2544466139406563,
            1.2486180602561234,
            null,
            1.2486180602561234,
            0.2492380908936877,
            null,
            0.2492380908936877,
            0.2544466139406563,
            null
           ],
           "z": [
            -0.5763220713030649,
            0,
            null,
            0,
            0,
            null,
            0,
            -0.5763220713030649,
            null,
            -0.3157294919726062,
            -0.2508224533828605,
            null,
            -0.2508224533828605,
            -0.11419805034189151,
            null,
            -0.11419805034189151,
            -0.3157294919726062,
            null
           ]
          },
          {
           "i": [
            0,
            3
           ],
           "j": [
            1,
            4
           ],
           "k": [
            2,
            5
           ],
           "name": "Faces",
           "type": "mesh3d",
           "x": {
            "bdata": "AAAAAAAAAAAzlXIkUvvqPwAAAAAAAAAA7TeT29Ub0j/kqLBgwGb0P6d7nEkgw9E/",
            "dtype": "f8"
           },
           "y": {
            "bdata": "AAAAAAAAAADXsGQX7smTPwAAAAAAAPA/jianpAjnzz/h/lxz2kjQP43rX+5W+vM/",
            "dtype": "f8"
           },
           "z": {
            "bdata": "AAAAAAAAAABntQb8OnHivwAAAAAAAAAAPEJ8WxU8vb8l7Jl46TTUv5FwmJ55DdC/",
            "dtype": "f8"
           }
          }
         ],
         "layout": {
          "annotations": [
           {
            "showarrow": false,
            "text": "Time: 0.31s (Step: 32/100)",
            "x": 0.05,
            "xref": "paper",
            "y": 0.95,
            "yref": "paper"
           }
          ]
         },
         "name": "31"
        },
        {
         "data": [
          {
           "name": "Free Nodes",
           "type": "scatter3d",
           "x": {
            "bdata": "NLz9bL1O6j+/s9FriHTSP6EbFgsjavQ/C3Qug//b0T8=",
            "dtype": "f8"
           },
           "y": {
            "bdata": "SjEOLyW7lT/1rx6LxRHQP78HQstFN9A/Mrpmk0H48z8=",
            "dtype": "f8"
           },
           "z": {
            "bdata": "hZvYJmt147/kz8G/Tvm/vw147pp+Pta/4exX2oGi0b8=",
            "dtype": "f8"
           }
          },
          {
           "name": "Fixed Nodes",
           "type": "scatter3d",
           "x": {
            "bdata": "AAAAAAAAAAAAAAAAAAAAAA==",
            "dtype": "f8"
           },
           "y": {
            "bdata": "AAAAAAAAAAAAAAAAAADwPw==",
            "dtype": "f8"
           },
           "z": {
            "bdata": "AAAAAAAAAAAAAAAAAAAAAA==",
            "dtype": "f8"
           }
          },
          {
           "name": "Edges",
           "type": "scatter3d",
           "x": [
            0.8221118096097428,
            0,
            null,
            0,
            0,
            null,
            0,
            0.8221118096097428,
            null,
            1.2759123261509802,
            0.27905261812867427,
            null,
            0.27905261812867427,
            0.2883626034661652,
            null,
            0.2883626034661652,
            1.2759123261509802,
            null
           ],
           "y": [
            0.02122171497062312,
            1,
            null,
            1,
            0,
            null,
            0,
            0.02122171497062312,
            null,
            0.25337357377440733,
            1.2481094129431196,
            null,
            1.2481094129431196,
            0.25108469568181074,
            null,
            0.25108469568181074,
            0.25337357377440733,
            null
           ],
           "z": [
            -0.6080833204949704,
            0,
            null,
            0,
            0,
            null,
            0,
            -0.6080833204949704,
            null,
            -0.34756436471968827,
            -0.2755436546573958,
            null,
            -0.2755436546573958,
            -0.12489788228577897,
            null,
            -0.12489788228577897,
            -0.34756436471968827,
            null
           ]
          },
          {
           "i": [
            0,
            3
           ],
           "j": [
            1,
            4
           ],
           "k": [
            2,
            5
           ],
           "name": "Faces",
           "type": "mesh3d",
           "x": {
            "bdata": "AAAAAAAAAAA0vP1svU7qPwAAAAAAAAAAv7PRa4h00j+hGxYLI2r0Pwt0LoP/29E/",
            "dtype": "f8"
           },
           "y": {
            "bdata": "AAAAAAAAAABKMQ4vJbuVPwAAAAAAAPA/9a8ei8UR0D+/B0LLRTfQPzK6ZpNB+PM/",
            "dtype": "f8"
           },
           "z": {
            "bdata": "AAAAAAAAAACFm9gma3XjvwAAAAAAAAAA5M/Bv075v78NeO6afj7Wv+HsV9qBotG/",
            "dtype": "f8"
           }
          }
         ],
         "layout": {
          "annotations": [
           {
            "showarrow": false,
            "text": "Time: 0.32s (Step: 33/100)",
            "x": 0.05,
            "xref": "paper",
            "y": 0.95,
            "yref": "paper"
           }
          ]
         },
         "name": "32"
        },
        {
         "data": [
          {
           "name": "Free Nodes",
           "type": "scatter3d",
           "x": {
            "bdata": "LQ9tN5CU6T9982QsddbSPwTYXtYhbPQ/6oHeCDTx0T8=",
            "dtype": "f8"
           },
           "y": {
            "bdata": "foZP+KWslz+2aesBLTTQP5khsqr6IdA/U10KRxD28z8=",
            "dtype": "f8"
           },
           "z": {
            "bdata": "V7uQRsR25L/r9KBJZIHBv5ITFqckVti/X9ml5qBG078=",
            "dtype": "f8"
           }
          },
          {
           "name": "Fixed Nodes",
           "type": "scatter3d",
           "x": {
            "bdata": "AAAAAAAAAAAAAAAAAAAAAA==",
            "dtype": "f8"
           },
           "y": {
            "bdata": "AAAAAAAAAAAAAAAAAADwPw==",
            "dtype": "f8"
           },
           "z": {
            "bdata": "AAAAAAAAAAAAAAAAAAAAAA==",
            "dtype": "f8"
           }
          },
          {
           "name": "Edges",
           "type": "scatter3d",
           "x": [
            0.7993851740397752,
            0,
            null,
            0,
            0,
            null,
            0,
            0.7993851740397752,
            null,
            1.2763994573447244,
            0.28034687868242136,
            null,
            0.28034687868242136,
            0.2943394597567062,
            null,
            0.2943394597567062,
            1.2763994573447244,
            null
           ],
           "y": [
            0.023119538574866365,
            1,
            null,
            1,
            0,
            null,
            0,
            0.023119538574866365,
            null,
            0.25207392377390075,
            1.2475741171854977,
            null,
            1.2475741171854977,
            0.2531845587488094,
            null,
            0.2531845587488094,
            0.25207392377390075,
            null
           ],
           "z": [
            -0.6394978883962307,
            0,
            null,
            0,
            0,
            null,
            0,
            -0.6394978883962307,
            null,
            -0.38025776211753126,
            -0.30118582271770394,
            null,
            -0.30118582271770394,
            -0.1367612227931326,
            null,
            -0.1367612227931326,
            -0.38025776211753126,
            null
           ]
          },
          {
           "i": [
            0,
            3
           ],
           "j": [
            1,
            4
           ],
           "k": [
            2,
            5
           ],
           "name": "Faces",
           "type": "mesh3d",
           "x": {
            "bdata": "AAAAAAAAAAAtD203kJTpPwAAAAAAAAAAffNkLHXW0j8E2F7WIWz0P+qB3gg08dE/",
            "dtype": "f8"
           },
           "y": {
            "bdata": "AAAAAAAAAAB+hk/4payXPwAAAAAAAPA/tmnrAS000D+ZIbKq+iHQP1NdCkcQ9vM/",
            "dtype": "f8"
           },
           "z": {
            "bdata": "AAAAAAAAAABXu5BGxHbkvwAAAAAAAAAA6/SgSWSBwb+SExanJFbYv1/ZpeagRtO/",
            "dtype": "f8"
           }
          }
         ],
         "layout": {
          "annotations": [
           {
            "showarrow": false,
            "text": "Time: 0.33s (Step: 34/100)",
            "x": 0.05,
            "xref": "paper",
            "y": 0.95,
            "yref": "paper"
           }
          ]
         },
         "name": "33"
        },
        {
         "data": [
          {
           "name": "Free Nodes",
           "type": "scatter3d",
           "x": {
            "bdata": "ftJezdPM6D9TgIrjVEDTP3OwqorxbPQ/gdLv8zED0j8=",
            "dtype": "f8"
           },
           "y": {
            "bdata": "tRwRicKUmT8ngTdOF1rQP8Xq9nJwCdA/M/0YC87z8z8=",
            "dtype": "f8"
           },
           "z": {
            "bdata": "LooXvWt05b/byz604yvDv6ti8Yv6e9q/K1ABsOb51L8=",
            "dtype": "f8"
           }
          },
          {
           "name": "Fixed Nodes",
           "type": "scatter3d",
           "x": {
            "bdata": "AAAAAAAAAAAAAAAAAAAAAA==",
            "dtype": "f8"
           },
           "y": {
            "bdata": "AAAAAAAAAAAAAAAAAADwPw==",
            "dtype": "f8"
           },
           "z": {
            "bdata": "AAAAAAAAAAAAAAAAAAAAAA==",
            "dtype": "f8"
           }
          },
          {
           "name": "Edges",
           "type": "scatter3d",
           "x": [
            0.775003338922559,
            0,
            null,
            0,
            0,
            null,
            0,
            0.775003338922559,
            null,
            1.2765975395841707,
            0.28144501516298,
            null,
            0.28144501516298,
            0.30080148907473364,
            null,
            0.30080148907473364,
            1.2765975395841707,
            null
           ],
           "y": [
            0.0249815364989245,
            1,
            null,
            1,
            0,
            null,
            0,
            0.0249815364989245,
            null,
            0.25057612635616194,
            1.2470226701260116,
            null,
            1.2470226701260116,
            0.25549872053490436,
            null,
            0.25549872053490436,
            0.25057612635616194,
            null
           ],
           "z": [
            -0.6704615300371353,
            0,
            null,
            0,
            0,
            null,
            0,
            -0.6704615300371353,
            null,
            -0.4138170591955183,
            -0.3277527540969937,
            null,
            -0.3277527540969937,
            -0.14977690030136057,
            null,
            -0.14977690030136057,
            -0.4138170591955183,
            null
           ]
          },
          {
           "i": [
            0,
            3
           ],
           "j": [
            1,
            4
           ],
           "k": [
            2,
            5
           ],
           "name": "Faces",
           "type": "mesh3d",
           "x": {
            "bdata": "AAAAAAAAAAB+0l7N08zoPwAAAAAAAAAAU4CK41RA0z9zsKqK8Wz0P4HS7/MxA9I/",
            "dtype": "f8"
           },
           "y": {
            "bdata": "AAAAAAAAAAC1HBGJwpSZPwAAAAAAAPA/J4E3Thda0D/F6vZycAnQPzP9GAvO8/M/",
            "dtype": "f8"
           },
           "z": {
            "bdata": "AAAAAAAAAAAuihe9a3TlvwAAAAAAAAAA28s+tOMrw7+rYvGL+nvavytQAbDm+dS/",
            "dtype": "f8"
           }
          }
         ],
         "layout": {
          "annotations": [
           {
            "showarrow": false,
            "text": "Time: 0.34s (Step: 35/100)",
            "x": 0.05,
            "xref": "paper",
            "y": 0.95,
            "yref": "paper"
           }
          ]
         },
         "name": "34"
        },
        {
         "data": [
          {
           "name": "Free Nodes",
           "type": "scatter3d",
           "x": {
            "bdata": "VLSzFKf35z+vY49GobDTP0H0IhvRbPQ/FR9wwoMS0j8=",
            "dtype": "f8"
           },
           "y": {
            "bdata": "179Wauhpmz+M2Ngk54LQP3ne2fBn3M8/Q/5F/X7x8z8=",
            "dtype": "f8"
           },
           "z": {
            "bdata": "RERVL4lt5r9qW4ITfvvEv+shbos8sNy/Xp2Yumq81r8=",
            "dtype": "f8"
           }
          },
          {
           "name": "Fixed Nodes",
           "type": "scatter3d",
           "x": {
            "bdata": "AAAAAAAAAAAAAAAAAAAAAA==",
            "dtype": "f8"
           },
           "y": {
            "bdata": "AAAAAAAAAAAAAAAAAADwPw==",
            "dtype": "f8"
           },
           "z": {
            "bdata": "AAAAAAAAAAAAAAAAAAAAAA==",
            "dtype": "f8"
           }
          },
          {
           "name": "Edges",
           "type": "scatter3d",
           "x": [
            0.7489810375533446,
            0,
            null,
            0,
            0,
            null,
            0,
            0.7489810375533446,
            null,
            1.2765666065236163,
            0.2823800467308371,
            null,
            0.2823800467308371,
            0.30765563860546313,
            null,
            0.30765563860546313,
            1.2765666065236163,
            null
           ],
           "y": [
            0.02677119397202418,
            1,
            null,
            1,
            0,
            null,
            0,
            0.02677119397202418,
            null,
            0.24891375789933415,
            1.246458997105848,
            null,
            1.246458997105848,
            0.2579896793207659,
            null,
            0.2579896793207659,
            0.24891375789933415,
            null
           ],
           "z": [
            -0.7008710789178925,
            0,
            null,
            0,
            0,
            null,
            0,
            -0.7008710789178925,
            null,
            -0.44825662246924364,
            -0.35525005552559275,
            null,
            -0.35525005552559275,
            -0.16392494156454102,
            null,
            -0.16392494156454102,
            -0.44825662246924364,
            null
           ]
          },
          {
           "i": [
            0,
            3
           ],
           "j": [
            1,
            4
           ],
           "k": [
            2,
            5
           ],
           "name": "Faces",
           "type": "mesh3d",
           "x": {
            "bdata": "AAAAAAAAAABUtLMUp/fnPwAAAAAAAAAAr2OPRqGw0z9B9CIb0Wz0PxUfcMKDEtI/",
            "dtype": "f8"
           },
           "y": {
            "bdata": "AAAAAAAAAADXv1Zq6GmbPwAAAAAAAPA/jNjYJOeC0D953tnwZ9zPP0P+Rf1+8fM/",
            "dtype": "f8"
           },
           "z": {
            "bdata": "AAAAAAAAAABERFUviW3mvwAAAAAAAAAAaluCE377xL/rIW6LPLDcv16dmLpqvNa/",
            "dtype": "f8"
           }
          }
         ],
         "layout": {
          "annotations": [
           {
            "showarrow": false,
            "text": "Time: 0.35s (Step: 36/100)",
            "x": 0.05,
            "xref": "paper",
            "y": 0.95,
            "yref": "paper"
           }
          ]
         },
         "name": "35"
        },
        {
         "data": [
          {
           "name": "Free Nodes",
           "type": "scatter3d",
           "x": {
            "bdata": "V5gZ1zgV5z9JrgjXzCXUP0KMC6z8a/Q/nbO6YcYf0j8=",
            "dtype": "f8"
           },
           "y": {
            "bdata": "87er6DMjnT8Zf8nZEa7QP1WVPDbGoc8/y1WQUB7v8z8=",
            "dtype": "f8"
           },
           "z": {
            "bdata": "sOYzwEJh57++QN6cYe/GvxShYww3896/oyLbhEmO2L8=",
            "dtype": "f8"
           }
          },
          {
           "name": "Fixed Nodes",
           "type": "scatter3d",
           "x": {
            "bdata": "AAAAAAAAAAAAAAAAAAAAAA==",
            "dtype": "f8"
           },
           "y": {
            "bdata": "AAAAAAAAAAAAAAAAAADwPw==",
            "dtype": "f8"
           },
           "z": {
            "bdata": "AAAAAAAAAAAAAAAAAAAAAA==",
            "dtype": "f8"
           }
          },
          {
           "name": "Edges",
           "type": "scatter3d",
           "x": [
            0.7213405800982952,
            0,
            null,
            0,
            0,
            null,
            0,
            0.7213405800982952,
            null,
            1.2763640137207095,
            0.28318938773991836,
            null,
            0.28318938773991836,
            0.31480713843732083,
            null,
            0.31480713843732083,
            1.2763640137207095,
            null
           ],
           "y": [
            0.02845460040673937,
            1,
            null,
            1,
            0,
            null,
            0,
            0.02845460040673937,
            null,
            0.247124458773366,
            1.2458785197280686,
            null,
            1.2458785197280686,
            0.2606243731333833,
            null,
            0.2606243731333833,
            0.247124458773366,
            null
           ],
           "z": [
            -0.7306226495704404,
            0,
            null,
            0,
            0,
            null,
            0,
            -0.7306226495704404,
            null,
            -0.48359466752892044,
            -0.38368452047556384,
            null,
            -0.38368452047556384,
            -0.17918033752039791,
            null,
            -0.17918033752039791,
            -0.48359466752892044,
            null
           ]
          },
          {
           "i": [
            0,
            3
           ],
           "j": [
            1,
            4
           ],
           "k": [
            2,
            5
           ],
           "name": "Faces",
           "type": "mesh3d",
           "x": {
            "bdata": "AAAAAAAAAABXmBnXOBXnPwAAAAAAAAAASa4I18wl1D9CjAus/Gv0P52zumHGH9I/",
            "dtype": "f8"
           },
           "y": {
            "bdata": "AAAAAAAAAADzt6voMyOdPwAAAAAAAPA/GX/J2RGu0D9VlTw2xqHPP8tVkFAe7/M/",
            "dtype": "f8"
           },
           "z": {
            "bdata": "AAAAAAAAAACw5jPAQmHnvwAAAAAAAAAAvkDenGHvxr8UoWMMN/Pev6Mi24RJjti/",
            "dtype": "f8"
           }
          }
         ],
         "layout": {
          "annotations": [
           {
            "showarrow": false,
            "text": "Time: 0.36s (Step: 37/100)",
            "x": 0.05,
            "xref": "paper",
            "y": 0.95,
            "yref": "paper"
           }
          ]
         },
         "name": "36"
        },
        {
         "data": [
          {
           "name": "Free Nodes",
           "type": "scatter3d",
           "x": {
            "bdata": "7v7/uMMl5j/LL85Gcp7UP69FMMGjavQ/j4vIEKEr0j8=",
            "dtype": "f8"
           },
           "y": {
            "bdata": "shRQmeu4nj/UkPjJJdvQPxvYralJZM8/CkFJr57s8z8=",
            "dtype": "f8"
           },
           "z": {
            "bdata": "TECZgLlO6L9HXKBjtQbJv/5+dN+bouC/7dEK1aFv2r8=",
            "dtype": "f8"
           }
          },
          {
           "name": "Fixed Nodes",
           "type": "scatter3d",
           "x": {
            "bdata": "AAAAAAAAAAAAAAAAAAAAAA==",
            "dtype": "f8"
           },
           "y": {
            "bdata": "AAAAAAAAAAAAAAAAAADwPw==",
            "dtype": "f8"
           },
           "z": {
            "bdata": "AAAAAAAAAAAAAAAAAAAAAA==",
            "dtype": "f8"
           }
          },
          {
           "name": "Edges",
           "type": "scatter3d",
           "x": [
            0.6921099293976718,
            0,
            null,
            0,
            0,
            null,
            0,
            0.6921099293976718,
            null,
            1.2760350748470548,
            0.28391291274072555,
            null,
            0.28391291274072555,
            0.3221708003482006,
            null,
            0.3221708003482006,
            1.2760350748470548,
            null
           ],
           "y": [
            0.03000228999373595,
            1,
            null,
            1,
            0,
            null,
            0,
            0.03000228999373595,
            null,
            0.24524803910361545,
            1.2452685210337813,
            null,
            1.2452685210337813,
            0.26337570880629113,
            null,
            0.26337570880629113,
            0.24524803910361545,
            null
           ],
           "z": [
            -0.7596099387828956,
            0,
            null,
            0,
            0,
            null,
            0,
            -0.7596099387828956,
            null,
            -0.5198497166020102,
            -0.41306348614605676,
            null,
            -0.41306348614605676,
            -0.1955172287423201,
            null,
            -0.1955172287423201,
            -0.5198497166020102,
            null
           ]
          },
          {
           "i": [
            0,
            3
           ],
           "j": [
            1,
            4
           ],
           "k": [
            2,
            5
           ],
           "name": "Faces",
           "type": "mesh3d",
           "x": {
            "bdata": "AAAAAAAAAADu/v+4wyXmPwAAAAAAAAAAyy/ORnKe1D+vRTDBo2r0P4+LyBChK9I/",
            "dtype": "f8"
           },
           "y": {
            "bdata": "AAAAAAAAAACyFFCZ67iePwAAAAAAAPA/1JD4ySXb0D8b2K2pSWTPPwpBSa+e7PM/",
            "dtype": "f8"
           },
           "z": {
            "bdata": "AAAAAAAAAABMQJmAuU7ovwAAAAAAAAAAR1ygY7UGyb/+fnTfm6Lgv+3RCtWhb9q/",
            "dtype": "f8"
           }
          }
         ],
         "layout": {
          "annotations": [
           {
            "showarrow": false,
            "text": "Time: 0.37s (Step: 38/100)",
            "x": 0.05,
            "xref": "paper",
            "y": 0.95,
            "yref": "paper"
           }
          ]
         },
         "name": "37"
        },
        {
         "data": [
          {
           "name": "Free Nodes",
           "type": "scatter3d",
           "x": {
            "bdata": "dNs7QIwp5T8yTdh8dhnVPwEfKLjjaPQ/CEhFcrk20j8=",
            "dtype": "f8"
           },
           "y": {
            "bdata": "fqGyH20SoD+XWehvywnRP7nP3/c7Jc8/7Oc5xezp8z8=",
            "dtype": "f8"
           },
           "z": {
            "bdata": "Xtq+5AY16b8zqERBukDLv4SKiuc/0+G/vtFSEpJg3L8=",
            "dtype": "f8"
           }
          },
          {
           "name": "Fixed Nodes",
           "type": "scatter3d",
           "x": {
            "bdata": "AAAAAAAAAAAAAAAAAAAAAA==",
            "dtype": "f8"
           },
           "y": {
            "bdata": "AAAAAAAAAAAAAAAAAADwPw==",
            "dtype": "f8"
           },
           "z": {
            "bdata": "AAAAAAAAAAAAAAAAAAAAAA==",
            "dtype": "f8"
           }
          },
          {
           "name": "Edges",
           "type": "scatter3d",
           "x": [
            0.6613217596594567,
            0,
            null,
            0,
            0,
            null,
            0,
            0.6613217596594567,
            null,
            1.2756077951070781,
            0.28459011229745146,
            null,
            0.28459011229745146,
            0.32967912856948367,
            null,
            0.32967912856948367,
            1.2756077951070781,
            null
           ],
           "y": [
            0.03139058124480963,
            1,
            null,
            1,
            0,
            null,
            0,
            0.03139058124480963,
            null,
            0.24332379916415706,
            1.244610567488503,
            null,
            1.244610567488503,
            0.26622281959989763,
            null,
            0.26622281959989763,
            0.24332379916415706,
            null
           ],
           "z": [
            -0.7877230136571816,
            0,
            null,
            0,
            0,
            null,
            0,
            -0.7877230136571816,
            null,
            -0.5570373079575153,
            -0.44339420117765005,
            null,
            -0.44339420117765005,
            -0.21291282832072653,
            null,
            -0.21291282832072653,
            -0.5570373079575153,
            null
           ]
          },
          {
           "i": [
            0,
            3
           ],
           "j": [
            1,
            4
           ],
           "k": [
            2,
            5
           ],
           "name": "Faces",
           "type": "mesh3d",
           "x": {
            "bdata": "AAAAAAAAAAB02ztAjCnlPwAAAAAAAAAAMk3YfHYZ1T8BHyi442j0PwhIRXK5NtI/",
            "dtype": "f8"
           },
           "y": {
            "bdata": "AAAAAAAAAAB+obIfbRKgPwAAAAAAAPA/l1nob8sJ0T+5z9/3OyXPP+znOcXs6fM/",
            "dtype": "f8"
           },
           "z": {
            "bdata": "AAAAAAAAAABe2r7kBjXpvwAAAAAAAAAAM6hEQbpAy7+EiornP9Phv77RUhKSYNy/",
            "dtype": "f8"
           }
          }
         ],
         "layout": {
          "annotations": [
           {
            "showarrow": false,
            "text": "Time: 0.38s (Step: 39/100)",
            "x": 0.05,
            "xref": "paper",
            "y": 0.95,
            "yref": "paper"
           }
          ]
         },
         "name": "38"
        },
        {
         "data": [
          {
           "name": "Free Nodes",
           "type": "scatter3d",
           "x": {
            "bdata": "VMTh4OAg5D8hQZg+G5bVPxZmTKvGZvQ/7XZaV6VB0j8=",
            "dtype": "f8"
           },
           "y": {
            "bdata": "uVsBJ0GxoD8bt7npwjnRPxmG3QPI5c4/xrF4LvPm8z8=",
            "dtype": "f8"
           },
           "z": {
            "bdata": "Uh0M3TsT6r+2vyUr5ZzNv2d7waicC+O/6MNqrTVh3r8=",
            "dtype": "f8"
           }
          },
          {
           "name": "Fixed Nodes",
           "type": "scatter3d",
           "x": {
            "bdata": "AAAAAAAAAAAAAAAAAAAAAA==",
            "dtype": "f8"
           },
           "y": {
            "bdata": "AAAAAAAAAAAAAAAAAADwPw==",
            "dtype": "f8"
           },
           "z": {
            "bdata": "AAAAAAAAAAAAAAAAAAAAAA==",
            "dtype": "f8"
           }
          },
          {
           "name": "Edges",
           "type": "scatter3d",
           "x": [
            0.6290134803986214,
            0,
            null,
            0,
            0,
            null,
            0,
            0.6290134803986214,
            null,
            1.275091809401038,
            0.2852567055759739,
            null,
            0.2852567055759739,
            0.3372867690350337,
            null,
            0.3372867690350337,
            1.275091809401038,
            null
           ],
           "y": [
            0.03260234452380168,
            1,
            null,
            1,
            0,
            null,
            0,
            0.03260234452380168,
            null,
            0.2413873690484685,
            1.2438842597285755,
            null,
            1.2438842597285755,
            0.26915047478438375,
            null,
            0.26915047478438375,
            0.2413873690484685,
            null
           ],
           "z": [
            -0.8148478810625568,
            0,
            null,
            0,
            0,
            null,
            0,
            -0.8148478810625568,
            null,
            -0.5951674743663319,
            -0.47468320784815754,
            null,
            -0.47468320784815754,
            -0.23135056120690728,
            null,
            -0.23135056120690728,
            -0.5951674743663319,
            null
           ]
          },
          {
           "i": [
            0,
            3
           ],
           "j": [
            1,
            4
           ],
           "k": [
            2,
            5
           ],
           "name": "Faces",
           "type": "mesh3d",
           "x": {
            "bdata": "AAAAAAAAAABUxOHg4CDkPwAAAAAAAAAAIUGYPhuW1T8WZkyrxmb0P+12WlelQdI/",
            "dtype": "f8"
           },
           "y": {
            "bdata": "AAAAAAAAAAC5WwEnQbGgPwAAAAAAAPA/G7e56cI50T8Zht0DyOXOP8axeC7z5vM/",
            "dtype": "f8"
           },
           "z": {
            "bdata": "AAAAAAAAAABSHQzdOxPqvwAAAAAAAAAAtr8lK+Wczb9ne8GonAvjv+jDaq01Yd6/",
            "dtype": "f8"
           }
          }
         ],
         "layout": {
          "annotations": [
           {
            "showarrow": false,
            "text": "Time: 0.39s (Step: 40/100)",
            "x": 0.05,
            "xref": "paper",
            "y": 0.95,
            "yref": "paper"
           }
          ]
         },
         "name": "39"
        },
        {
         "data": [
          {
           "name": "Free Nodes",
           "type": "scatter3d",
           "x": {
            "bdata": "lseFrhsM4z+/PsURAxTWPwzoQwZGZPQ/obC1i9xM0j8=",
            "dtype": "f8"
           },
           "y": {
            "bdata": "zqllmZU3oT/yLGwP4GrRPzVmv0Pfps4/VLBCxp7j8z8=",
            "dtype": "f8"
           },
           "z": {
            "bdata": "XO5f52Ho6r+E+Q44eA3Qv19DDpq4S+S/b859SNE44L8=",
            "dtype": "f8"
           }
          },
          {
           "name": "Fixed Nodes",
           "type": "scatter3d",
           "x": {
            "bdata": "AAAAAAAAAAAAAAAAAAAAAA==",
            "dtype": "f8"
           },
           "y": {
            "bdata": "AAAAAAAAAAAAAAAAAADwPw==",
            "dtype": "f8"
           },
           "z": {
            "bdata": "AAAAAAAAAAAAAAAAAAAAAA==",
            "dtype": "f8"
           }
          },
          {
           "name": "Edges",
           "type": "scatter3d",
           "x": [
            0.5952280434269024,
            0,
            null,
            0,
            0,
            null,
            0,
            0.5952280434269024,
            null,
            1.2744808430420589,
            0.2859412540772244,
            null,
            0.2859412540772244,
            0.3449714349307946,
            null,
            0.3449714349307946,
            1.2744808430420589,
            null
           ],
           "y": [
            0.03362720010302987,
            1,
            null,
            1,
            0,
            null,
            0,
            0.03362720010302987,
            null,
            0.23946753318777927,
            1.2430713409949208,
            null,
            1.2430713409949208,
            0.2721481466875978,
            null,
            0.2721481466875978,
            0.23946753318777927,
            null
           ],
           "z": [
            -0.8408669966733657,
            0,
            null,
            0,
            0,
            null,
            0,
            -0.8408669966733657,
            null,
            -0.6342432984257406,
            -0.5069357314918771,
            null,
            -0.5069357314918771,
            -0.2508221194692839,
            null,
            -0.2508221194692839,
            -0.6342432984257406,
            null
           ]
          },
          {
           "i": [
            0,
            3
           ],
           "j": [
            1,
            4
           ],
           "k": [
            2,
            5
           ],
           "name": "Faces",
           "type": "mesh3d",
           "x": {
            "bdata": "AAAAAAAAAACWx4WuGwzjPwAAAAAAAAAAvz7FEQMU1j8M6EMGRmT0P6GwtYvcTNI/",
            "dtype": "f8"
           },
           "y": {
            "bdata": "AAAAAAAAAADOqWWZlTehPwAAAAAAAPA/8ixsD+Bq0T81Zr9D36bOP1SwQsae4/M/",
            "dtype": "f8"
           },
           "z": {
            "bdata": "AAAAAAAAAABc7l/nYejqvwAAAAAAAAAAhPkOOHgN0L9fQw6auEvkv2/OfUjROOC/",
            "dtype": "f8"
           }
          }
         ],
         "layout": {
          "annotations": [
           {
            "showarrow": false,
            "text": "Time: 0.40s (Step: 41/100)",
            "x": 0.05,
            "xref": "paper",
            "y": 0.95,
            "yref": "paper"
           }
          ]
         },
         "name": "40"
        },
        {
         "data": [
          {
           "name": "Free Nodes",
           "type": "scatter3d",
           "x": {
            "bdata": "dmHFFKXr4T/EsdzQKJPWP1/+XpBPYfQ/eSOYF61Y0j8=",
            "dtype": "f8"
           },
           "y": {
            "bdata": "FOCXZOakoT9/EdTuBp3RPw4PTUsjac4/HdqpVuLf8z8=",
            "dtype": "f8"
           },
           "z": {
            "bdata": "4m27Gn6z679jpOObcV3Rv5Lx7wKLk+W/gx0dTfNI4b8=",
            "dtype": "f8"
           }
          },
          {
           "name": "Fixed Nodes",
           "type": "scatter3d",
           "x": {
            "bdata": "AAAAAAAAAAAAAAAAAAAAAA==",
            "dtype": "f8"
           },
           "y": {
            "bdata": "AAAAAAAAAAAAAAAAAADwPw==",
            "dtype": "f8"
           },
           "z": {
            "bdata": "AAAAAAAAAAAAAAAAAAAAAA==",
            "dtype": "f8"
           }
          },
          {
           "name": "Edges",
           "type": "scatter3d",
           "x": [
            0.5600152402576402,
            0,
            null,
            0,
            0,
            null,
            0,
            0.5600152402576402,
            null,
            1.2737575187201384,
            0.28666236213808066,
            null,
            0.28666236213808066,
            0.3527318992298911,
            null,
            0.3527318992298911,
            1.2737575187201384,
            null
           ],
           "y": [
            0.034461211947871245,
            1,
            null,
            1,
            0,
            null,
            0,
            0.034461211947871245,
            null,
            0.23758355309302498,
            1.2421592126171455,
            null,
            1.2421592126171455,
            0.2752091724689975,
            null,
            0.2752091724689975,
            0.23758355309302498,
            null
           ],
           "z": [
            -0.8656607172119346,
            0,
            null,
            0,
            0,
            null,
            0,
            -0.8656607172119346,
            null,
            -0.6742606217736002,
            -0.5401550775649614,
            null,
            -0.5401550775649614,
            -0.2713283560138448,
            null,
            -0.2713283560138448,
            -0.6742606217736002,
            null
           ]
          },
          {
           "i": [
            0,
            3
           ],
           "j": [
            1,
            4
           ],
           "k": [
            2,
            5
           ],
           "name": "Faces",
           "type": "mesh3d",
           "x": {
            "bdata": "AAAAAAAAAAB2YcUUpevhPwAAAAAAAAAAxLHc0CiT1j9f/l6QT2H0P3kjmBetWNI/",
            "dtype": "f8"
           },
           "y": {
            "bdata": "AAAAAAAAAAAU4Jdk5qShPwAAAAAAAPA/fxHU7gad0T8OD01LI2nOPx3aqVbi3/M/",
            "dtype": "f8"
           },
           "z": {
            "bdata": "AAAAAAAAAADibbsafrPrvwAAAAAAAAAAY6Tjm3Fd0b+S8e8Ci5Plv4MdHU3zSOG/",
            "dtype": "f8"
           }
          }
         ],
         "layout": {
          "annotations": [
           {
            "showarrow": false,
            "text": "Time: 0.41s (Step: 42/100)",
            "x": 0.05,
            "xref": "paper",
            "y": 0.95,
            "yref": "paper"
           }
          ]
         },
         "name": "41"
        },
        {
         "data": [
          {
           "name": "Free Nodes",
           "type": "scatter3d",
           "x": {
            "bdata": "MtIp4fa/4D8zOhqHzhPXP+IaGoPLXfQ/KGjUCTRl0j8=",
            "dtype": "f8"
           },
           "y": {
            "bdata": "ySS0M3D5oT9PzKbKKdDRP9Fa+UXXLM4/+HmS6bjb8z8=",
            "dtype": "f8"
           },
           "z": {
            "bdata": "I6xt4JVz7L/6D58RiL7Svx12eYb94ua/Ukc5mQJh4r8=",
            "dtype": "f8"
           }
          },
          {
           "name": "Fixed Nodes",
           "type": "scatter3d",
           "x": {
            "bdata": "AAAAAAAAAAAAAAAAAAAAAA==",
            "dtype": "f8"
           },
           "y": {
            "bdata": "AAAAAAAAAAAAAAAAAADwPw==",
            "dtype": "f8"
           },
           "z": {
            "bdata": "AAAAAAAAAAAAAAAAAAAAAA==",
            "dtype": "f8"
           }
          },
          {
           "name": "Edges",
           "type": "scatter3d",
           "x": [
            0.5234331510278649,
            0,
            null,
            0,
            0,
            null,
            0,
            0.5234331510278649,
            null,
            1.2728991624041375,
            0.2874269577019981,
            null,
            0.2874269577019981,
            0.360583908020007,
            null,
            0.360583908020007,
            1.2728991624041375,
            null
           ],
           "y": [
            0.03510618811748995,
            1,
            null,
            1,
            0,
            null,
            0,
            0.03510618811748995,
            null,
            0.2357434360189559,
            1.241143143073371,
            null,
            1.241143143073371,
            0.2783302763957111,
            null,
            0.2783302763957111,
            0.2357434360189559,
            null
           ],
           "z": [
            -0.8891095527045575,
            0,
            null,
            0,
            0,
            null,
            0,
            -0.8891095527045575,
            null,
            -0.7152087809042232,
            -0.5743420593882809,
            null,
            -0.5743420593882809,
            -0.29287912102540725,
            null,
            -0.29287912102540725,
            -0.7152087809042232,
            null
           ]
          },
          {
           "i": [
            0,
            3
           ],
           "j": [
            1,
            4
           ],
           "k": [
            2,
            5
           ],
           "name": "Faces",
           "type": "mesh3d",
           "x": {
            "bdata": "AAAAAAAAAAAy0inh9r/gPwAAAAAAAAAAMzoah84T1z/iGhqDy130Pyho1Ak0ZdI/",
            "dtype": "f8"
           },
           "y": {
            "bdata": "AAAAAAAAAADJJLQzcPmhPwAAAAAAAPA/T8ymyinQ0T/RWvlF1yzOP/h5kum42/M/",
            "dtype": "f8"
           },
           "z": {
            "bdata": "AAAAAAAAAAAjrG3glXPsvwAAAAAAAAAA+g+fEYi+0r8ddnmG/eLmv1JHOZkCYeK/",
            "dtype": "f8"
           }
          }
         ],
         "layout": {
          "annotations": [
           {
            "showarrow": false,
            "text": "Time: 0.42s (Step: 43/100)",
            "x": 0.05,
            "xref": "paper",
            "y": 0.95,
            "yref": "paper"
           }
          ]
         },
         "name": "42"
        },
        {
         "data": [
          {
           "name": "Free Nodes",
           "type": "scatter3d",
           "x": {
            "bdata": "ax9K4j0T3z/Dv4p+Z5bXPy7/TWGiWfQ/k5D6DFxy0j8=",
            "dtype": "f8"
           },
           "y": {
            "bdata": "ELZgVhA2oj8ucvXYSATSP7+s8tPb8c0/Sn5yXSbX8z8=",
            "dtype": "f8"
           },
           "z": {
            "bdata": "4qyMz7Qn7b8KoadzBjHUv4Do0UPvOei//AF4oPqA478=",
            "dtype": "f8"
           }
          },
          {
           "name": "Fixed Nodes",
           "type": "scatter3d",
           "x": {
            "bdata": "AAAAAAAAAAAAAAAAAAAAAA==",
            "dtype": "f8"
           },
           "y": {
            "bdata": "AAAAAAAAAAAAAAAAAADwPw==",
            "dtype": "f8"
           },
           "z": {
            "bdata": "AAAAAAAAAAAAAAAAAAAAAA==",
            "dtype": "f8"
           }
          },
          {
           "name": "Edges",
           "type": "scatter3d",
           "x": [
            0.48554942225063397,
            0,
            null,
            0,
            0,
            null,
            0,
            0.48554942225063397,
            null,
            1.2718833733524195,
            0.28822995440919746,
            null,
            0.28822995440919746,
            0.36855494840255804,
            null,
            0.36855494840255804,
            1.2718833733524195,
            null
           ],
           "y": [
            0.035568724197542534,
            1,
            null,
            1,
            0,
            null,
            0,
            0.035568724197542534,
            null,
            0.2339434418584911,
            1.2400268221171182,
            null,
            1.2400268221171182,
            0.28151150882129883,
            null,
            0.28151150882129883,
            0.2339434418584911,
            null
           ],
           "z": [
            -0.9110969594670701,
            0,
            null,
            0,
            0,
            null,
            0,
            -0.9110969594670701,
            null,
            -0.7570720982178187,
            -0.609494508185946,
            null,
            -0.609494508185946,
            -0.31549226087965165,
            null,
            -0.31549226087965165,
            -0.7570720982178187,
            null
           ]
          },
          {
           "i": [
            0,
            3
           ],
           "j": [
            1,
            4
           ],
           "k": [
            2,
            5
           ],
           "name": "Faces",
           "type": "mesh3d",
           "x": {
            "bdata": "AAAAAAAAAABrH0riPRPfPwAAAAAAAAAAw7+KfmeW1z8u/01holn0P5OQ+gxcctI/",
            "dtype": "f8"
           },
           "y": {
            "bdata": "AAAAAAAAAAAQtmBWEDaiPwAAAAAAAPA/LnL12EgE0j+/rPLT2/HNP0p+cl0m1/M/",
            "dtype": "f8"
           },
           "z": {
            "bdata": "AAAAAAAAAADirIzPtCftvwAAAAAAAAAACqGncwYx1L+A6NFD7znov/wBeKD6gOO/",
            "dtype": "f8"
           }
          }
         ],
         "layout": {
          "annotations": [
           {
            "showarrow": false,
            "text": "Time: 0.43s (Step: 44/100)",
            "x": 0.05,
            "xref": "paper",
            "y": 0.95,
            "yref": "paper"
           }
          ]
         },
         "name": "43"
        },
        {
         "data": [
          {
           "name": "Free Nodes",
           "type": "scatter3d",
           "x": {
            "bdata": "zlzI9YGS3D8VBJkggRvYP/AsPZfBVPQ/ZdSVBuJ/0j8=",
            "dtype": "f8"
           },
           "y": {
            "bdata": "OLI4yCBcoj9hU+I2cznSP+t+lgS2t80/v6MVSTbS8z8=",
            "dtype": "f8"
           },
           "z": {
            "bdata": "9EJ/+vLO7b+3vk2MUrXVv0catNU4mOm/Ykj24s+o5L8=",
            "dtype": "f8"
           }
          },
          {
           "name": "Fixed Nodes",
           "type": "scatter3d",
           "x": {
            "bdata": "AAAAAAAAAAAAAAAAAAAAAA==",
            "dtype": "f8"
           },
           "y": {
            "bdata": "AAAAAAAAAAAAAAAAAADwPw==",
            "dtype": "f8"
           },
           "z": {
            "bdata": "AAAAAAAAAAAAAAAAAAAAAA==",
            "dtype": "f8"
           }
          },
          {
           "name": "Edges",
           "type": "scatter3d",
           "x": [
            0.4464421177121495,
            0,
            null,
            0,
            0,
            null,
            0,
            0.4464421177121495,
            null,
            1.2706924350521227,
            0.28905535357563955,
            null,
            0.28905535357563955,
            0.37667873557444526,
            null,
            0.37667873557444526,
            1.2706924350521227,
            null
           ],
           "y": [
            0.0358591312800382,
            1,
            null,
            1,
            0,
            null,
            0,
            0.0358591312800382,
            null,
            0.2321689150239686,
            1.2388213019241758,
            null,
            1.2388213019241758,
            0.2847564731576338,
            null,
            0.2847564731576338,
            0.2321689150239686,
            null
           ],
           "z": [
            -0.931512345554522,
            0,
            null,
            0,
            0,
            null,
            0,
            -0.931512345554522,
            null,
            -0.7998317884346954,
            -0.6456069405414946,
            null,
            -0.6456069405414946,
            -0.33919204427273136,
            null,
            -0.33919204427273136,
            -0.7998317884346954,
            null
           ]
          },
          {
           "i": [
            0,
            3
           ],
           "j": [
            1,
            4
           ],
           "k": [
            2,
            5
           ],
           "name": "Faces",
           "type": "mesh3d",
           "x": {
            "bdata": "AAAAAAAAAADOXMj1gZLcPwAAAAAAAAAAFQSZIIEb2D/wLD2XwVT0P2XUlQbif9I/",
            "dtype": "f8"
           },
           "y": {
            "bdata": "AAAAAAAAAAA4sjjIIFyiPwAAAAAAAPA/YVPiNnM50j/rfpYEtrfNP7+jFUk20vM/",
            "dtype": "f8"
           },
           "z": {
            "bdata": "AAAAAAAAAAD0Qn/68s7tvwAAAAAAAAAAt75NjFK11b9HGrTVOJjpv2JI9uLPqOS/",
            "dtype": "f8"
           }
          }
         ],
         "layout": {
          "annotations": [
           {
            "showarrow": false,
            "text": "Time: 0.44s (Step: 45/100)",
            "x": 0.05,
            "xref": "paper",
            "y": 0.95,
            "yref": "paper"
           }
          ]
         },
         "name": "44"
        },
        {
         "data": [
          {
           "name": "Free Nodes",
           "type": "scatter3d",
           "x": {
            "bdata": "nHITOi7/2T+0fMCTraPYP095LlkeT/Q/eGkP/16N0j8=",
            "dtype": "f8"
           },
           "y": {
            "bdata": "BR/np1Rtoj/TvVoLyG/SP8g41WOgfc0/7olCkfnM8z8=",
            "dtype": "f8"
           },
           "z": {
            "bdata": "B9Kp9npo7r90vk8j5UvXv4OCvHyw/eq/ung4vG/Y5b8=",
            "dtype": "f8"
           }
          },
          {
           "name": "Fixed Nodes",
           "type": "scatter3d",
           "x": {
            "bdata": "AAAAAAAAAAAAAAAAAAAAAA==",
            "dtype": "f8"
           },
           "y": {
            "bdata": "AAAAAAAAAAAAAAAAAADwPw==",
            "dtype": "f8"
           },
           "z": {
            "bdata": "AAAAAAAAAAAAAAAAAAAAAA==",
            "dtype": "f8"
           }
          },
          {
           "name": "Edges",
           "type": "scatter3d",
           "x": [
            0.4061999861858483,
            0,
            null,
            0,
            0,
            null,
            0,
            0.4061999861858483,
            null,
            1.2693160518316124,
            0.28987860592101056,
            null,
            0.28987860592101056,
            0.3849901144876171,
            null,
            0.3849901144876171,
            1.2693160518316124,
            null
           ],
           "y": [
            0.0359903769454473,
            1,
            null,
            1,
            0,
            null,
            0,
            0.0359903769454473,
            null,
            0.23039631724026877,
            1.2375426935401452,
            null,
            1.2375426935401452,
            0.2880725966342343,
            null,
            0.2880725966342343,
            0.23039631724026877,
            null
           ],
           "z": [
            -0.9502539460796137,
            0,
            null,
            0,
            0,
            null,
            0,
            -0.9502539460796137,
            null,
            -0.8434679447419317,
            -0.6826704670127335,
            null,
            -0.6826704670127335,
            -0.3640072674597612,
            null,
            -0.3640072674597612,
            -0.8434679447419317,
            null
           ]
          },
          {
           "i": [
            0,
            3
           ],
           "j": [
            1,
            4
           ],
           "k": [
            2,
            5
           ],
           "name": "Faces",
           "type": "mesh3d",
           "x": {
            "bdata": "AAAAAAAAAACcchM6Lv/ZPwAAAAAAAAAAtHzAk62j2D9PeS5ZHk/0P3hpD/9ejdI/",
            "dtype": "f8"
           },
           "y": {
            "bdata": "AAAAAAAAAAAFH+enVG2iPwAAAAAAAPA/071aC8hv0j/IONVjoH3NP+6JQpH5zPM/",
            "dtype": "f8"
           },
           "z": {
            "bdata": "AAAAAAAAAAAH0qn2emjuvwAAAAAAAAAAdL5PI+VL17+Dgrx8sP3qv7p4OLxv2OW/",
            "dtype": "f8"
           }
          }
         ],
         "layout": {
          "annotations": [
           {
            "showarrow": false,
            "text": "Time: 0.45s (Step: 46/100)",
            "x": 0.05,
            "xref": "paper",
            "y": 0.95,
            "yref": "paper"
           }
          ]
         },
         "name": "45"
        },
        {
         "data": [
          {
           "name": "Free Nodes",
           "type": "scatter3d",
           "x": {
            "bdata": "o00/OeJa1z9UlOkXci/ZP9V2caO2SPQ/8JpAxVWa0j8=",
            "dtype": "f8"
           },
           "y": {
            "bdata": "hmB0hphroj8d6qq1dqfSP2cHWpajQs0/D72QSYPH8z8=",
            "dtype": "f8"
           },
           "z": {
            "bdata": "fvPK+o7z7r/ahLyNQfXYv4ualuAtauy/YKcL2sAP578=",
            "dtype": "f8"
           }
          },
          {
           "name": "Fixed Nodes",
           "type": "scatter3d",
           "x": {
            "bdata": "AAAAAAAAAAAAAAAAAAAAAA==",
            "dtype": "f8"
           },
           "y": {
            "bdata": "AAAAAAAAAAAAAAAAAADwPw==",
            "dtype": "f8"
           },
           "z": {
            "bdata": "AAAAAAAAAAAAAAAAAAAAAA==",
            "dtype": "f8"
           }
          },
          {
           "name": "Edges",
           "type": "scatter3d",
           "x": [
            0.36492209997705966,
            0,
            null,
            0,
            0,
            null,
            0,
            0.36492209997705966,
            null,
            1.2677523025990258,
            0.29066986334730327,
            null,
            0.29066986334730327,
            0.3935208543319437,
            null,
            0.3935208543319437,
            1.2677523025990258,
            null
           ],
           "y": [
            0.03597714082042196,
            1,
            null,
            1,
            0,
            null,
            0,
            0.03597714082042196,
            null,
            0.22859616128340152,
            1.2362091897628635,
            null,
            1.2362091897628635,
            0.29147117367725334,
            null,
            0.29147117367725334,
            0.22859616128340152,
            null
           ],
           "z": [
            -0.967231263951916,
            0,
            null,
            0,
            0,
            null,
            0,
            -0.967231263951916,
            null,
            -0.8879613291254186,
            -0.7206730135633101,
            null,
            -0.7206730135633101,
            -0.3899692424912026,
            null,
            -0.3899692424912026,
            -0.8879613291254186,
            null
           ]
          },
          {
           "i": [
            0,
            3
           ],
           "j": [
            1,
            4
           ],
           "k": [
            2,
            5
           ],
           "name": "Faces",
           "type": "mesh3d",
           "x": {
            "bdata": "AAAAAAAAAACjTT854lrXPwAAAAAAAAAAVJTpF3Iv2T/VdnGjtkj0P/CaQMVVmtI/",
            "dtype": "f8"
           },
           "y": {
            "bdata": "AAAAAAAAAACGYHSGmGuiPwAAAAAAAPA/HeqqtXan0j9nB1qWo0LNPw+9kEmDx/M/",
            "dtype": "f8"
           },
           "z": {
            "bdata": "AAAAAAAAAAB+88r6jvPuvwAAAAAAAAAA2oS8jUH12L+LmpbgLWrsv2CnC9rAD+e/",
            "dtype": "f8"
           }
          }
         ],
         "layout": {
          "annotations": [
           {
            "showarrow": false,
            "text": "Time: 0.46s (Step: 47/100)",
            "x": 0.05,
            "xref": "paper",
            "y": 0.95,
            "yref": "paper"
           }
          ]
         },
         "name": "46"
        },
        {
         "data": [
          {
           "name": "Free Nodes",
           "type": "scatter3d",
           "x": {
            "bdata": "0s7u3mSn1D/CX602Or/ZPymiiJeQQfQ/YmGGSUKm0j8=",
            "dtype": "f8"
           },
           "y": {
            "bdata": "WaJvwPhYoj9xpRcgveDSP/YQiA6zBc0/D6UiieXB8z8=",
            "dtype": "f8"
           },
           "z": {
            "bdata": "PO+2nIxv77/maSRc7bHav0dxUwWN3e2/bZkWcKRO6L8=",
            "dtype": "f8"
           }
          },
          {
           "name": "Fixed Nodes",
           "type": "scatter3d",
           "x": {
            "bdata": "AAAAAAAAAAAAAAAAAAAAAA==",
            "dtype": "f8"
           },
           "y": {
            "bdata": "AAAAAAAAAAAAAAAAAADwPw==",
            "dtype": "f8"
           },
           "z": {
            "bdata": "AAAAAAAAAAAAAAAAAAAAAA==",
            "dtype": "f8"
           }
          },
          {
           "name": "Edges",
           "type": "scatter3d",
           "x": [
            0.32271692057404977,
            0,
            null,
            0,
            0,
            null,
            0,
            0.32271692057404977,
            null,
            1.2660070342336758,
            0.2913976400391417,
            null,
            0.2913976400391417,
            0.40229659404348805,
            null,
            0.40229659404348805,
            1.2660070342336758,
            null
           ],
           "y": [
            0.03583505009720928,
            1,
            null,
            1,
            0,
            null,
            0,
            0.03583505009720928,
            null,
            0.22673643312021569,
            1.2348380429123755,
            null,
            1.2348380429123755,
            0.29496696599979716,
            null,
            0.29496696599979716,
            0.22673643312021569,
            null
           ],
           "z": [
            -0.9823668537933155,
            0,
            null,
            0,
            0,
            null,
            0,
            -0.9823668537933155,
            null,
            -0.9332947830221564,
            -0.7595998944496337,
            null,
            -0.7595998944496337,
            -0.4171098136736461,
            null,
            -0.4171098136736461,
            -0.9332947830221564,
            null
           ]
          },
          {
           "i": [
            0,
            3
           ],
           "j": [
            1,
            4
           ],
           "k": [
            2,
            5
           ],
           "name": "Faces",
           "type": "mesh3d",
           "x": {
            "bdata": "AAAAAAAAAADSzu7eZKfUPwAAAAAAAAAAwl+tNjq/2T8pooiXkEH0P2JhhklCptI/",
            "dtype": "f8"
           },
           "y": {
            "bdata": "AAAAAAAAAABZom/A+FiiPwAAAAAAAPA/caUXIL3g0j/2EIgOswXNPw+lIonlwfM/",
            "dtype": "f8"
           },
           "z": {
            "bdata": "AAAAAAAAAAA877acjG/vvwAAAAAAAAAA5mkkXO2x2r9HcVMFjd3tv22ZFnCkTui/",
            "dtype": "f8"
           }
          }
         ],
         "layout": {
          "annotations": [
           {
            "showarrow": false,
            "text": "Time: 0.47s (Step: 48/100)",
            "x": 0.05,
            "xref": "paper",
            "y": 0.95,
            "yref": "paper"
           }
          ]
         },
         "name": "47"
        },
        {
         "data": [
          {
           "name": "Free Nodes",
           "type": "scatter3d",
           "x": {
            "bdata": "NC09s57m0T+IbgQQUFPaP2RVbKu4OfQ/3sQGlKiw0j8=",
            "dtype": "f8"
           },
           "y": {
            "bdata": "45+C1Y43oj92hEjI4xvTP24cQhTKxcw/5gOSxy688z8=",
            "dtype": "f8"
           },
           "z": {
            "bdata": "xRIC7+7b778uAF2OaILcv+GV3kawV++/bPaCIviU6b8=",
            "dtype": "f8"
           }
          },
          {
           "name": "Fixed Nodes",
           "type": "scatter3d",
           "x": {
            "bdata": "AAAAAAAAAAAAAAAAAAAAAA==",
            "dtype": "f8"
           },
           "y": {
            "bdata": "AAAAAAAAAAAAAAAAAADwPw==",
            "dtype": "f8"
           },
           "z": {
            "bdata": "AAAAAAAAAAAAAAAAAAAAAA==",
            "dtype": "f8"
           }
          },
          {
           "name": "Edges",
           "type": "scatter3d",
           "x": [
            0.279700923002298,
            0,
            null,
            0,
            0,
            null,
            0,
            0.279700923002298,
            null,
            1.2640921303003205,
            0.29203237968165563,
            null,
            0.29203237968165563,
            0.411335006372362,
            null,
            0.411335006372362,
            1.2640921303003205,
            null
           ],
           "y": [
            0.03558012348486252,
            1,
            null,
            1,
            0,
            null,
            0,
            0.03558012348486252,
            null,
            0.2247860526005953,
            1.2334430499761253,
            null,
            1.2334430499761253,
            0.29857725676453784,
            null,
            0.29857725676453784,
            0.2247860526005953,
            null
           ],
           "z": [
            -0.9955973308684284,
            0,
            null,
            0,
            0,
            null,
            0,
            -0.9955973308684284,
            null,
            -0.9794541725320266,
            -0.7994347261480477,
            null,
            -0.7994347261480477,
            -0.44545949843086674,
            null,
            -0.44545949843086674,
            -0.9794541725320266,
            null
           ]
          },
          {
           "i": [
            0,
            3
           ],
           "j": [
            1,
            4
           ],
           "k": [
            2,
            5
           ],
           "name": "Faces",
           "type": "mesh3d",
           "x": {
            "bdata": "AAAAAAAAAAA0LT2znubRPwAAAAAAAAAAiG4EEFBT2j9kVWyruDn0P97EBpSosNI/",
            "dtype": "f8"
           },
           "y": {
            "bdata": "AAAAAAAAAADjn4LVjjeiPwAAAAAAAPA/doRIyOMb0z9uHEIUysXMP+YDkscuvPM/",
            "dtype": "f8"
           },
           "z": {
            "bdata": "AAAAAAAAAADFEgLv7tvvvwAAAAAAAAAALgBdjmiC3L/hld5GsFfvv2z2giL4lOm/",
            "dtype": "f8"
           }
          }
         ],
         "layout": {
          "annotations": [
           {
            "showarrow": false,
            "text": "Time: 0.48s (Step: 49/100)",
            "x": 0.05,
            "xref": "paper",
            "y": 0.95,
            "yref": "paper"
           }
          ]
         },
         "name": "48"
        },
        {
         "data": [
          {
           "name": "Free Nodes",
           "type": "scatter3d",
           "x": {
            "bdata": "zFzh8SU1zj87Eflv2evaP5dU4DY/MfQ/jmSoeSG50j8=",
            "dtype": "f8"
           },
           "y": {
            "bdata": "t/60dXUJoj+v52ahN1nTPwYXG6YFgsw/zCNCKGi28z8=",
            "dtype": "f8"
           },
           "z": {
            "bdata": "MTD2ficc8L94JvWTJmfev4EeKK1AbPC/URpxhJji6r8=",
            "dtype": "f8"
           }
          },
          {
           "name": "Fixed Nodes",
           "type": "scatter3d",
           "x": {
            "bdata": "AAAAAAAAAAAAAAAAAAAAAA==",
            "dtype": "f8"
           },
           "y": {
            "bdata": "AAAAAAAAAAAAAAAAAADwPw==",
            "dtype": "f8"
           },
           "z": {
            "bdata": "AAAAAAAAAAAAAAAAAAAAAA==",
            "dtype": "f8"
           }
          },
          {
           "name": "Edges",
           "type": "scatter3d",
           "x": [
            0.2359969550186406,
            0,
            null,
            0,
            0,
            null,
            0,
            0.2359969550186406,
            null,
            1.262023176537047,
            0.2925494850220013,
            null,
            0.2925494850220013,
            0.4206451028333224,
            null,
            0.4206451028333224,
            1.262023176537047,
            null
           ],
           "y": [
            0.03522841512540025,
            1,
            null,
            1,
            0,
            null,
            0,
            0.03522841512540025,
            null,
            0.22271795855174775,
            1.2320329258529794,
            null,
            1.2320329258529794,
            0.30232039224540136,
            null,
            0.30232039224540136,
            0.22271795855174775,
            null
           ],
           "z": [
            -1.006873603767428,
            0,
            null,
            0,
            0,
            null,
            0,
            -1.006873603767428,
            null,
            -1.0264288677152822,
            -0.8401606165651377,
            null,
            -0.8401606165651377,
            -0.4750458187960258,
            null,
            -0.4750458187960258,
            -1.0264288677152822,
            null
           ]
          },
          {
           "i": [
            0,
            3
           ],
           "j": [
            1,
            4
           ],
           "k": [
            2,
            5
           ],
           "name": "Faces",
           "type": "mesh3d",
           "x": {
            "bdata": "AAAAAAAAAADMXOHxJTXOPwAAAAAAAAAAOxH5b9nr2j+XVOA2PzH0P45kqHkhudI/",
            "dtype": "f8"
           },
           "y": {
            "bdata": "AAAAAAAAAAC3/rR1dQmiPwAAAAAAAPA/r+dmoTdZ0z8GFxumBYLMP8wjQihotvM/",
            "dtype": "f8"
           },
           "z": {
            "bdata": "AAAAAAAAAAAxMPZ+JxzwvwAAAAAAAAAAeCb1kyZn3r+BHiitQGzwv1EacYSY4uq/",
            "dtype": "f8"
           }
          }
         ],
         "layout": {
          "annotations": [
           {
            "showarrow": false,
            "text": "Time: 0.49s (Step: 50/100)",
            "x": 0.05,
            "xref": "paper",
            "y": 0.95,
            "yref": "paper"
           }
          ]
         },
         "name": "49"
        },
        {
         "data": [
          {
           "name": "Free Nodes",
           "type": "scatter3d",
           "x": {
            "bdata": "1pZv5bCKyD9lKB7z2IjbP8siM+Q1KPQ/wlOetGO/0j8=",
            "dtype": "f8"
           },
           "y": {
            "bdata": "xGA/DcLQoT/xI/p6ApnTP5E2vIC4Ocw/0Qi835Sw8z8=",
            "dtype": "f8"
           },
           "z": {
            "bdata": "Q52UcDFC8L/06C4rRDDgvwyFnrr4L/G/G+eT62M37L8=",
            "dtype": "f8"
           }
          },
          {
           "name": "Fixed Nodes",
           "type": "scatter3d",
           "x": {
            "bdata": "AAAAAAAAAAAAAAAAAAAAAA==",
            "dtype": "f8"
           },
           "y": {
            "bdata": "AAAAAAAAAAAAAAAAAADwPw==",
            "dtype": "f8"
           },
           "z": {
            "bdata": "AAAAAAAAAAAAAAAAAAAAAA==",
            "dtype": "f8"
           }
          },
          {
           "name": "Edges",
           "type": "scatter3d",
           "x": [
            0.1917325134556253,
            0,
            null,
            0,
            0,
            null,
            0,
            0.1917325134556253,
            null,
            1.259817019849083,
            0.2929314864971354,
            null,
            0.2929314864971354,
            0.430227506084185,
            null,
            0.430227506084185,
            1.259817019849083,
            null
           ],
           "y": [
            0.03479582225526337,
            1,
            null,
            1,
            0,
            null,
            0,
            0.03479582225526337,
            null,
            0.22051149640940484,
            1.230610727274826,
            null,
            1.230610727274826,
            0.30621397027476777,
            null,
            0.30621397027476777,
            0.22051149640940484,
            null
           ],
           "z": [
            -1.01616043068664,
            0,
            null,
            0,
            0,
            null,
            0,
            -1.01616043068664,
            null,
            -1.0742118158162297,
            -0.8817615128639064,
            null,
            -0.8817615128639064,
            -0.5058918803618142,
            null,
            -0.5058918803618142,
            -1.0742118158162297,
            null
           ]
          },
          {
           "i": [
            0,
            3
           ],
           "j": [
            1,
            4
           ],
           "k": [
            2,
            5
           ],
           "name": "Faces",
           "type": "mesh3d",
           "x": {
            "bdata": "AAAAAAAAAADWlm/lsIrIPwAAAAAAAAAAZSge89iI2z/LIjPkNSj0P8JTnrRjv9I/",
            "dtype": "f8"
           },
           "y": {
            "bdata": "AAAAAAAAAADEYD8NwtChPwAAAAAAAPA/8SP6egKZ0z+RNryAuDnMP9EIvN+UsPM/",
            "dtype": "f8"
           },
           "z": {
            "bdata": "AAAAAAAAAABDnZRwMULwvwAAAAAAAAAA9OguK0Qw4L8MhZ66+C/xvxvnk+tjN+y/",
            "dtype": "f8"
           }
          }
         ],
         "layout": {
          "annotations": [
           {
            "showarrow": false,
            "text": "Time: 0.50s (Step: 51/100)",
            "x": 0.05,
            "xref": "paper",
            "y": 0.95,
            "yref": "paper"
           }
          ]
         },
         "name": "50"
        },
        {
         "data": [
          {
           "name": "Free Nodes",
           "type": "scatter3d",
           "x": {
            "bdata": "Ov4P8iTSwj+3EFVHMircP/CvZG6tHvQ/CXYHq0jD0j8=",
            "dtype": "f8"
           },
           "y": {
            "bdata": "UeVV+IGPoT9zAkb2gtvTP1012qh37Ms/XikYpbKq8z8=",
            "dtype": "f8"
           },
           "z": {
            "bdata": "hlGl4P1f8L9H7KDGazfhvx24TWb89vG/rX4fRz2T7b8=",
            "dtype": "f8"
           }
          },
          {
           "name": "Fixed Nodes",
           "type": "scatter3d",
           "x": {
            "bdata": "AAAAAAAAAAAAAAAAAAAAAA==",
            "dtype": "f8"
           },
           "y": {
            "bdata": "AAAAAAAAAAAAAAAAAADwPw==",
            "dtype": "f8"
           },
           "z": {
            "bdata": "AAAAAAAAAAAAAAAAAAAAAA==",
            "dtype": "f8"
           }
          },
          {
           "name": "Edges",
           "type": "scatter3d",
           "x": [
            0.14703809565979659,
            0,
            null,
            0,
            0,
            null,
            0,
            0.14703809565979659,
            null,
            1.2574896156538635,
            0.2931691808897488,
            null,
            0.2931691808897488,
            0.4400754639248236,
            null,
            0.4400754639248236,
            1.2574896156538635,
            null
           ],
           "y": [
            0.03429800182761745,
            1,
            null,
            1,
            0,
            null,
            0,
            0.03429800182761745,
            null,
            0.21815391297097167,
            1.229174275302817,
            null,
            1.229174275302817,
            0.3102729229940799,
            null,
            0.3102729229940799,
            0.21815391297097167,
            null
           ],
           "z": [
            -1.0234354758477777,
            0,
            null,
            0,
            0,
            null,
            0,
            -1.0234354758477777,
            null,
            -1.122799300788308,
            -0.924223555481111,
            null,
            -0.924223555481111,
            -0.5380152587380359,
            null,
            -0.5380152587380359,
            -1.122799300788308,
            null
           ]
          },
          {
           "i": [
            0,
            3
           ],
           "j": [
            1,
            4
           ],
           "k": [
            2,
            5
           ],
           "name": "Faces",
           "type": "mesh3d",
           "x": {
            "bdata": "AAAAAAAAAAA6/g/yJNLCPwAAAAAAAAAAtxBVRzIq3D/wr2RurR70Pwl2B6tIw9I/",
            "dtype": "f8"
           },
           "y": {
            "bdata": "AAAAAAAAAABR5VX4gY+hPwAAAAAAAPA/cwJG9oLb0z9dNdqod+zLP14pGKWyqvM/",
            "dtype": "f8"
           },
           "z": {
            "bdata": "AAAAAAAAAACGUaXg/V/wvwAAAAAAAAAAR+ygxms34b8duE1m/Pbxv61+H0c9k+2/",
            "dtype": "f8"
           }
          }
         ],
         "layout": {
          "annotations": [
           {
            "showarrow": false,
            "text": "Time: 0.51s (Step: 52/100)",
            "x": 0.05,
            "xref": "paper",
            "y": 0.95,
            "yref": "paper"
           }
          ]
         },
         "name": "51"
        },
        {
         "data": [
          {
           "name": "Free Nodes",
           "type": "scatter3d",
           "x": {
            "bdata": "qE0iYKsfuj+k/qeCsM/cP+0RAPGzFPQ/VD+t2MzE0j8=",
            "dtype": "f8"
           },
           "y": {
            "bdata": "ODWcSrlHoT8ArxY65SDUPzM/Mfcemss/B/WL87qk8z8=",
            "dtype": "f8"
           },
           "z": {
            "bdata": "e27WooF18L/Gl3rRIUnivw1knNBKwfK/xI0coQ727r8=",
            "dtype": "f8"
           }
          },
          {
           "name": "Fixed Nodes",
           "type": "scatter3d",
           "x": {
            "bdata": "AAAAAAAAAAAAAAAAAAAAAA==",
            "dtype": "f8"
           },
           "y": {
            "bdata": "AAAAAAAAAAAAAAAAAADwPw==",
            "dtype": "f8"
           },
           "z": {
            "bdata": "AAAAAAAAAAAAAAAAAAAAAA==",
            "dtype": "f8"
           }
          },
          {
           "name": "Edges",
           "type": "scatter3d",
           "x": [
            0.10204573723813459,
            0,
            null,
            0,
            0,
            null,
            0,
            0.10204573723813459,
            null,
            1.2550544179986176,
            0.2932617298110831,
            null,
            0.2932617298110831,
            0.4501763606967677,
            null,
            0.4501763606967677,
            1.2550544179986176,
            null
           ],
           "y": [
            0.03375033412712941,
            1,
            null,
            1,
            0,
            null,
            0,
            0.03375033412712941,
            null,
            0.21564089841785403,
            1.2277173532050385,
            null,
            1.2277173532050385,
            0.314507776953846,
            null,
            0.314507776953846,
            0.21564089841785403,
            null
           ],
           "z": [
            -1.0286880837292347,
            0,
            null,
            0,
            0,
            null,
            0,
            -1.0286880837292347,
            null,
            -1.1721904896605821,
            -0.9675362726888399,
            null,
            -0.9675362726888399,
            -0.5714272586235374,
            null,
            -0.5714272586235374,
            -1.1721904896605821,
            null
           ]
          },
          {
           "i": [
            0,
            3
           ],
           "j": [
            1,
            4
           ],
           "k": [
            2,
            5
           ],
           "name": "Faces",
           "type": "mesh3d",
           "x": {
            "bdata": "AAAAAAAAAACoTSJgqx+6PwAAAAAAAAAApP6ngrDP3D/tEQDxsxT0P1Q/rdjMxNI/",
            "dtype": "f8"
           },
           "y": {
            "bdata": "AAAAAAAAAAA4NZxKuUehPwAAAAAAAPA/AK8WOuUg1D8zPzH3HprLPwf1i/O6pPM/",
            "dtype": "f8"
           },
           "z": {
            "bdata": "AAAAAAAAAAB7btaigXXwvwAAAAAAAAAAxpd60SFJ4r8NZJzQSsHyv8SNHKEO9u6/",
            "dtype": "f8"
           }
          }
         ],
         "layout": {
          "annotations": [
           {
            "showarrow": false,
            "text": "Time: 0.52s (Step: 53/100)",
            "x": 0.05,
            "xref": "paper",
            "y": 0.95,
            "yref": "paper"
           }
          ]
         },
         "name": "52"
        },
        {
         "data": [
          {
           "name": "Free Nodes",
           "type": "scatter3d",
           "x": {
            "bdata": "qO1MfWUgrT8JDFiQDXndP550SudTCvQ/WOY5ZQzE0j8=",
            "dtype": "f8"
           },
           "y": {
            "bdata": "M6zxNGH7oD8SwmF/PWnUP+i2ci3OQss/U9mjxKSe8z8=",
            "dtype": "f8"
           },
           "z": {
            "bdata": "RD7HcLyC8L+4RJw1cGXjv5JtdYXljvO/1njqe+Uv8L8=",
            "dtype": "f8"
           }
          },
          {
           "name": "Fixed Nodes",
           "type": "scatter3d",
           "x": {
            "bdata": "AAAAAAAAAAAAAAAAAAAAAA==",
            "dtype": "f8"
           },
           "y": {
            "bdata": "AAAAAAAAAAAAAAAAAADwPw==",
            "dtype": "f8"
           },
           "z": {
            "bdata": "AAAAAAAAAAAAAAAAAAAAAA==",
            "dtype": "f8"
           }
          },
          {
           "name": "Edges",
           "type": "scatter3d",
           "x": [
            0.05688779024645935,
            0,
            null,
            0,
            0,
            null,
            0,
            0.05688779024645935,
            null,
            1.2525214228437913,
            0.29321584592216743,
            null,
            0.29321584592216743,
            0.46051348777854223,
            null,
            0.46051348777854223,
            1.2525214228437913,
            null
           ],
           "y": [
            0.03316787501611209,
            1,
            null,
            1,
            0,
            null,
            0,
            0.03316787501611209,
            null,
            0.2129762384333198,
            1.2262313538791048,
            null,
            1.2262313538791048,
            0.318923353573184,
            null,
            0.318923353573184,
            0.2129762384333198,
            null
           ],
           "z": [
            -1.0319179921533683,
            0,
            null,
            0,
            0,
            null,
            0,
            -1.0319179921533683,
            null,
            -1.2223868573408692,
            -1.0116934624161806,
            null,
            -1.0116934624161806,
            -0.6061326071814142,
            null,
            -0.6061326071814142,
            -1.2223868573408692,
            null
           ]
          },
          {
           "i": [
            0,
            3
           ],
           "j": [
            1,
            4
           ],
           "k": [
            2,
            5
           ],
           "name": "Faces",
           "type": "mesh3d",
           "x": {
            "bdata": "AAAAAAAAAACo7Ux9ZSCtPwAAAAAAAAAACQxYkA153T+edErnUwr0P1jmOWUMxNI/",
            "dtype": "f8"
           },
           "y": {
            "bdata": "AAAAAAAAAAAzrPE0YfugPwAAAAAAAPA/EsJhfz1p1D/otnItzkLLP1PZo8SknvM/",
            "dtype": "f8"
           },
           "z": {
            "bdata": "AAAAAAAAAABEPsdwvILwvwAAAAAAAAAAuEScNXBl47+SbXWF5Y7zv9Z46nvlL/C/",
            "dtype": "f8"
           }
          }
         ],
         "layout": {
          "annotations": [
           {
            "showarrow": false,
            "text": "Time: 0.53s (Step: 54/100)",
            "x": 0.05,
            "xref": "paper",
            "y": 0.95,
            "yref": "paper"
           }
          ]
         },
         "name": "53"
        },
        {
         "data": [
          {
           "name": "Free Nodes",
           "type": "scatter3d",
           "x": {
            "bdata": "z38ujgr0hz8wCcDM+SXePzXInNeT//M/Adru2jzB0j8=",
            "dtype": "f8"
           },
           "y": {
            "bdata": "LQ/ef2SsoD90mKpIhbTUP85u2+Tf5so/xWSXZGaY8z8=",
            "dtype": "f8"
           },
           "z": {
            "bdata": "ed9Ks7eH8L/njodtU4zkv/SiANXPX/S/Bbk7mDfo8L8=",
            "dtype": "f8"
           }
          },
          {
           "name": "Fixed Nodes",
           "type": "scatter3d",
           "x": {
            "bdata": "AAAAAAAAAAAAAAAAAAAAAA==",
            "dtype": "f8"
           },
           "y": {
            "bdata": "AAAAAAAAAAAAAAAAAADwPw==",
            "dtype": "f8"
           },
           "z": {
            "bdata": "AAAAAAAAAAAAAAAAAAAAAA==",
            "dtype": "f8"
           }
          },
          {
           "name": "Edges",
           "type": "scatter3d",
           "x": [
            0.011695940460242497,
            0,
            null,
            0,
            0,
            null,
            0,
            0.011695940460242497,
            null,
            1.2498968527184051,
            0.29304429416825434,
            null,
            0.29304429416825434,
            0.471067857695874,
            null,
            0.471067857695874,
            1.2498968527184051,
            null
           ],
           "y": [
            0.03256525097734051,
            1,
            null,
            1,
            0,
            null,
            0,
            0.03256525097734051,
            null,
            0.21017073321023932,
            1.2247070245123706,
            null,
            1.2247070245123706,
            0.32351810547186877,
            null,
            0.32351810547186877,
            0.21017073321023932,
            null
           ],
           "z": [
            -1.0331341746914104,
            0,
            null,
            0,
            0,
            null,
            0,
            -1.0331341746914104,
            null,
            -1.2733915634545925,
            -1.0566936442006079,
            null,
            -1.0566936442006079,
            -0.6421296252487679,
            null,
            -0.6421296252487679,
            -1.2733915634545925,
            null
           ]
          },
          {
           "i": [
            0,
            3
           ],
           "j": [
            1,
            4
           ],
           "k": [
            2,
            5
           ],
           "name": "Faces",
           "type": "mesh3d",
           "x": {
            "bdata": "AAAAAAAAAADPfy6OCvSHPwAAAAAAAAAAMAnAzPkl3j81yJzXk//zPwHa7to8wdI/",
            "dtype": "f8"
           },
           "y": {
            "bdata": "AAAAAAAAAAAtD95/ZKygPwAAAAAAAPA/dJiqSIW01D/Obtvk3+bKP8Vkl2RmmPM/",
            "dtype": "f8"
           },
           "z": {
            "bdata": "AAAAAAAAAAB530qzt4fwvwAAAAAAAAAA546HbVOM5L/0ogDVz1/0vwW5O5g36PC/",
            "dtype": "f8"
           }
          }
         ],
         "layout": {
          "annotations": [
           {
            "showarrow": false,
            "text": "Time: 0.54s (Step: 55/100)",
            "x": 0.05,
            "xref": "paper",
            "y": 0.95,
            "yref": "paper"
           }
          ]
         },
         "name": "54"
        },
        {
         "data": [
          {
           "name": "Free Nodes",
           "type": "scatter3d",
           "x": {
            "bdata": "J97O/b8Zob/SmQMOI9beP5a4hpB29PM/B8dpKaW80j8=",
            "dtype": "f8"
           },
           "y": {
            "bdata": "bE9aMJlcoD8SHqyrmwLVPy7H7CHchso/WbBnDfeR8z8=",
            "dtype": "f8"
           },
           "z": {
            "bdata": "EM6LkoWE8L8jvx/mu73lvwvGyi0ONPW/MKGDAAGk8b8=",
            "dtype": "f8"
           }
          },
          {
           "name": "Fixed Nodes",
           "type": "scatter3d",
           "x": {
            "bdata": "AAAAAAAAAAAAAAAAAAAAAA==",
            "dtype": "f8"
           },
           "y": {
            "bdata": "AAAAAAAAAAAAAAAAAADwPw==",
            "dtype": "f8"
           },
           "z": {
            "bdata": "AAAAAAAAAAAAAAAAAAAAAA==",
            "dtype": "f8"
           }
          },
          {
           "name": "Edges",
           "type": "scatter3d",
           "x": [
            -0.0333995816540063,
            0,
            null,
            0,
            0,
            null,
            0,
            -0.0333995816540063,
            null,
            1.247183384471588,
            0.29276398700959344,
            null,
            0.29276398700959344,
            0.48181988113938445,
            null,
            0.48181988113938445,
            1.247183384471588,
            null
           ],
           "y": [
            0.03195646968120411,
            1,
            null,
            1,
            0,
            null,
            0,
            0.03195646968120411,
            null,
            0.2072405973099704,
            1.2231359981187977,
            null,
            1.2231359981187977,
            0.3282841850745807,
            null,
            0.3282841850745807,
            0.2072405973099704,
            null
           ],
           "z": [
            -1.0323539471108951,
            0,
            null,
            0,
            0,
            null,
            0,
            -1.0323539471108951,
            null,
            -1.3252088345292374,
            -1.1025400180897797,
            null,
            -1.1025400180897797,
            -0.6794108862504554,
            null,
            -0.6794108862504554,
            -1.3252088345292374,
            null
           ]
          },
          {
           "i": [
            0,
            3
           ],
           "j": [
            1,
            4
           ],
           "k": [
            2,
            5
           ],
           "name": "Faces",
           "type": "mesh3d",
           "x": {
            "bdata": "AAAAAAAAAAAn3s79vxmhvwAAAAAAAAAA0pkDDiPW3j+WuIaQdvTzPwfHaSmlvNI/",
            "dtype": "f8"
           },
           "y": {
            "bdata": "AAAAAAAAAABsT1owmVygPwAAAAAAAPA/Eh6sq5sC1T8ux+wh3IbKP1mwZw33kfM/",
            "dtype": "f8"
           },
           "z": {
            "bdata": "AAAAAAAAAAAQzouShYTwvwAAAAAAAAAAI78f5ru95b8LxsotDjT1vzChgwABpPG/",
            "dtype": "f8"
           }
          }
         ],
         "layout": {
          "annotations": [
           {
            "showarrow": false,
            "text": "Time: 0.55s (Step: 56/100)",
            "x": 0.05,
            "xref": "paper",
            "y": 0.95,
            "yref": "paper"
           }
          ]
         },
         "name": "55"
        },
        {
         "data": [
          {
           "name": "Free Nodes",
           "type": "scatter3d",
           "x": {
            "bdata": "vMG05osJtL+lAf6FOonfP62ildD76PM/BPaZJJW20j8=",
            "dtype": "f8"
           },
           "y": {
            "bdata": "wlHWIrcNoD8JuIadSFPVP9vpV4NoI8o/jX32DVCL8z8=",
            "dtype": "f8"
           },
           "z": {
            "bdata": "PkeuXkB58L8yiHtTkPnmvzBPzoGlC/a/m1+8aElj8r8=",
            "dtype": "f8"
           }
          },
          {
           "name": "Fixed Nodes",
           "type": "scatter3d",
           "x": {
            "bdata": "AAAAAAAAAAAAAAAAAAAAAA==",
            "dtype": "f8"
           },
           "y": {
            "bdata": "AAAAAAAAAAAAAAAAAADwPw==",
            "dtype": "f8"
           },
           "z": {
            "bdata": "AAAAAAAAAAAAAAAAAAAAAA==",
            "dtype": "f8"
           }
          },
          {
           "name": "Edges",
           "type": "scatter3d",
           "x": [
            -0.07827066786263165,
            0,
            null,
            0,
            0,
            null,
            0,
            -0.07827066786263165,
            null,
            1.2443807742912825,
            0.29239395689350567,
            null,
            0.29239395689350567,
            0.4927507694738103,
            null,
            0.4927507694738103,
            1.2443807742912825,
            null
           ],
           "y": [
            0.031354640009485304,
            1,
            null,
            1,
            0,
            null,
            0,
            0.031354640009485304,
            null,
            0.20420557416203064,
            1.2215118928359943,
            null,
            1.2215118928359943,
            0.333208230814194,
            null,
            0.333208230814194,
            0.20420557416203064,
            null
           ],
           "z": [
            -1.029602403494621,
            0,
            null,
            0,
            0,
            null,
            0,
            -1.029602403494621,
            null,
            -1.3778433867018514,
            -1.1492399302714833,
            null,
            -1.1492399302714833,
            -0.7179643278616423,
            null,
            -0.7179643278616423,
            -1.3778433867018514,
            null
           ]
          },
          {
           "i": [
            0,
            3
           ],
           "j": [
            1,
            4
           ],
           "k": [
            2,
            5
           ],
           "name": "Faces",
           "type": "mesh3d",
           "x": {
            "bdata": "AAAAAAAAAAC8wbTmiwm0vwAAAAAAAAAApQH+hTqJ3z+topXQ++jzPwT2mSSVttI/",
            "dtype": "f8"
           },
           "y": {
            "bdata": "AAAAAAAAAADCUdYitw2gPwAAAAAAAPA/CbiGnUhT1T/b6VeDaCPKP4199g1Qi/M/",
            "dtype": "f8"
           },
           "z": {
            "bdata": "AAAAAAAAAAA+R65eQHnwvwAAAAAAAAAAMoh7U5D55r8wT86BpQv2v5tfvGhJY/K/",
            "dtype": "f8"
           }
          }
         ],
         "layout": {
          "annotations": [
           {
            "showarrow": false,
            "text": "Time: 0.56s (Step: 57/100)",
            "x": 0.05,
            "xref": "paper",
            "y": 0.95,
            "yref": "paper"
           }
          ]
         },
         "name": "56"
        },
        {
         "data": [
          {
           "name": "Free Nodes",
           "type": "scatter3d",
           "x": {
            "bdata": "kwBPJktvv79+AxCPfB/gP8kNDS4h3fM/aIMAil2v0j8=",
            "dtype": "f8"
           },
           "y": {
            "bdata": "C48yMJiCnz/9UZvCQqbVP2hrTug3vck/5l5FYW2E8z8=",
            "dtype": "f8"
           },
           "z": {
            "bdata": "SV3KTwpm8L+QuRbMsD/ovytPFbya5va/wPud2hsm878=",
            "dtype": "f8"
           }
          },
          {
           "name": "Fixed Nodes",
           "type": "scatter3d",
           "x": {
            "bdata": "AAAAAAAAAAAAAAAAAAAAAA==",
            "dtype": "f8"
           },
           "y": {
            "bdata": "AAAAAAAAAAAAAAAAAADwPw==",
            "dtype": "f8"
           },
           "z": {
            "bdata": "AAAAAAAAAAAAAAAAAAAAAA==",
            "dtype": "f8"
           }
          },
          {
           "name": "Edges",
           "type": "scatter3d",
           "x": [
            -0.12279195485371223,
            0,
            null,
            0,
            0,
            null,
            0,
            -0.12279195485371223,
            null,
            1.2414867209307536,
            0.29195345379598914,
            null,
            0.29195345379598914,
            0.5038435739698881,
            null,
            0.5038435739698881,
            1.2414867209307536,
            null
           ],
           "y": [
            0.03077161592649617,
            1,
            null,
            1,
            0,
            null,
            0,
            0.03077161592649617,
            null,
            0.2010869869526133,
            1.2198308753631237,
            null,
            1.2198308753631237,
            0.338272752805352,
            null,
            0.338272752805352,
            0.2010869869526133,
            null
           ],
           "z": [
            -1.0249121777358872,
            0,
            null,
            0,
            0,
            null,
            0,
            -1.0249121777358872,
            null,
            -1.431299910259393,
            -1.196803907368789,
            null,
            -1.196803907368789,
            -0.7577747331722993,
            null,
            -0.7577747331722993,
            -1.431299910259393,
            null
           ]
          },
          {
           "i": [
            0,
            3
           ],
           "j": [
            1,
            4
           ],
           "k": [
            2,
            5
           ],
           "name": "Faces",
           "type": "mesh3d",
           "x": {
            "bdata": "AAAAAAAAAACTAE8mS2+/vwAAAAAAAAAAfgMQj3wf4D/JDQ0uId3zP2iDAIpdr9I/",
            "dtype": "f8"
           },
           "y": {
            "bdata": "AAAAAAAAAAALjzIwmIKfPwAAAAAAAPA//VGbwkKm1T9oa07oN73JP+ZeRWFthPM/",
            "dtype": "f8"
           },
           "z": {
            "bdata": "AAAAAAAAAABJXcpPCmbwvwAAAAAAAAAAkLkWzLA/6L8rTxW8mub2v8D7ndobJvO/",
            "dtype": "f8"
           }
          }
         ],
         "layout": {
          "annotations": [
           {
            "showarrow": false,
            "text": "Time: 0.57s (Step: 58/100)",
            "x": 0.05,
            "xref": "paper",
            "y": 0.95,
            "yref": "paper"
           }
          ]
         },
         "name": "57"
        },
        {
         "data": [
          {
           "name": "Free Nodes",
           "type": "scatter3d",
           "x": {
            "bdata": "xQICrg9bxb8afvERkXvgP8TqHhfj0PM/bllcU0mn0j8=",
            "dtype": "f8"
           },
           "y": {
            "bdata": "VgWpf1zxnj/Lv8TtNvvVP5BCvR/7VMk/lQDAuE198z8=",
            "dtype": "f8"
           },
           "z": {
            "bdata": "B0YWjA1L8L/qmJhm+o/pv8U8L0ryxPe/AFxFXYXs878=",
            "dtype": "f8"
           }
          },
          {
           "name": "Fixed Nodes",
           "type": "scatter3d",
           "x": {
            "bdata": "AAAAAAAAAAAAAAAAAAAAAA==",
            "dtype": "f8"
           },
           "y": {
            "bdata": "AAAAAAAAAAAAAAAAAADwPw==",
            "dtype": "f8"
           },
           "z": {
            "bdata": "AAAAAAAAAAAAAAAAAAAAAA==",
            "dtype": "f8"
           }
          },
          {
           "name": "Edges",
           "type": "scatter3d",
           "x": [
            -0.1668414687774399,
            0,
            null,
            0,
            0,
            null,
            0,
            -0.1668414687774399,
            null,
            1.2384978202014034,
            0.29146035328576303,
            null,
            0.29146035328576303,
            0.5150838232474968,
            null,
            0.5150838232474968,
            1.2384978202014034,
            null
           ],
           "y": [
            0.030217595378649285,
            1,
            null,
            1,
            0,
            null,
            0,
            0.030217595378649285,
            null,
            0.1979059128739391,
            1.218091699294779,
            null,
            1.218091699294779,
            0.34345792026124106,
            null,
            0.34345792026124106,
            0.1979059128739391,
            null
           ],
           "z": [
            -1.0183234665058778,
            0,
            null,
            0,
            0,
            null,
            0,
            -1.0183234665058778,
            null,
            -1.4855826280434468,
            -1.2452443736453915,
            null,
            -1.2452443736453915,
            -0.7988254550771476,
            null,
            -0.7988254550771476,
            -1.4855826280434468,
            null
           ]
          },
          {
           "i": [
            0,
            3
           ],
           "j": [
            1,
            4
           ],
           "k": [
            2,
            5
           ],
           "name": "Faces",
           "type": "mesh3d",
           "x": {
            "bdata": "AAAAAAAAAADFAgKuD1vFvwAAAAAAAAAAGn7xEZF74D/E6h4X49DzP25ZXFNJp9I/",
            "dtype": "f8"
           },
           "y": {
            "bdata": "AAAAAAAAAABWBal/XPGePwAAAAAAAPA/y7/E7Tb71T+QQr0f+1TJP5UAwLhNffM/",
            "dtype": "f8"
           },
           "z": {
            "bdata": "AAAAAAAAAAAHRhaMDUvwvwAAAAAAAAAA6piYZvqP6b/FPC9K8sT3vwBcRV2F7PO/",
            "dtype": "f8"
           }
          }
         ],
         "layout": {
          "annotations": [
           {
            "showarrow": false,
            "text": "Time: 0.58s (Step: 59/100)",
            "x": 0.05,
            "xref": "paper",
            "y": 0.95,
            "yref": "paper"
           }
          ]
         },
         "name": "58"
        },
        {
         "data": [
          {
           "name": "Free Nodes",
           "type": "scatter3d",
           "x": {
            "bdata": "1deFcSfryr8mtbInwtjgP4HMg8o9xPM/jKOszZie0j8=",
            "dtype": "f8"
           },
           "y": {
            "bdata": "dJnLVt1pnj8m0zlK0FHWP97vksxT68g/HN46FfJ18z8=",
            "dtype": "f8"
           },
           "z": {
            "bdata": "gpQLWHwo8L/q/DMGS+rqvx6MQbuvpvi/5aDzb5O29L8=",
            "dtype": "f8"
           }
          },
          {
           "name": "Fixed Nodes",
           "type": "scatter3d",
           "x": {
            "bdata": "AAAAAAAAAAAAAAAAAAAAAA==",
            "dtype": "f8"
           },
           "y": {
            "bdata": "AAAAAAAAAAAAAAAAAADwPw==",
            "dtype": "f8"
           },
           "z": {
            "bdata": "AAAAAAAAAAAAAAAAAAAAAA==",
            "dtype": "f8"
           }
          },
          {
           "name": "Edges",
           "type": "scatter3d",
           "x": [
            -0.21030133288485212,
            0,
            null,
            0,
            0,
            null,
            0,
            -0.21030133288485212,
            null,
            1.2354104910598667,
            0.29092998586070773,
            null,
            0.29092998586070773,
            0.5264597678521212,
            null,
            0.5264597678521212,
            1.2354104910598667,
            null
           ],
           "y": [
            0.029700716421666454,
            1,
            null,
            1,
            0,
            null,
            0,
            0.029700716421666454,
            null,
            0.19468162049258714,
            1.2162953213973031,
            null,
            1.2162953213973031,
            0.34874350784893904,
            null,
            0.34874350784893904,
            0.19468162049258714,
            null
           ],
           "z": [
            -1.0098842086092934,
            0,
            null,
            0,
            0,
            null,
            0,
            -1.0098842086092934,
            null,
            -1.5406949343384961,
            -1.294574200926996,
            null,
            -1.294574200926996,
            -0.8411002274659982,
            null,
            -0.8411002274659982,
            -1.5406949343384961,
            null
           ]
          },
          {
           "i": [
            0,
            3
           ],
           "j": [
            1,
            4
           ],
           "k": [
            2,
            5
           ],
           "name": "Faces",
           "type": "mesh3d",
           "x": {
            "bdata": "AAAAAAAAAADV14VxJ+vKvwAAAAAAAAAAJrWyJ8LY4D+BzIPKPcTzP4yjrM2YntI/",
            "dtype": "f8"
           },
           "y": {
            "bdata": "AAAAAAAAAAB0mctW3WmePwAAAAAAAPA/JtM5StBR1j/e75LMU+vIPxzeOhXydfM/",
            "dtype": "f8"
           },
           "z": {
            "bdata": "AAAAAAAAAACClAtYfCjwvwAAAAAAAAAA6vwzBkvq6r8ejEG7r6b4v+Wg82+TtvS/",
            "dtype": "f8"
           }
          }
         ],
         "layout": {
          "annotations": [
           {
            "showarrow": false,
            "text": "Time: 0.59s (Step: 60/100)",
            "x": 0.05,
            "xref": "paper",
            "y": 0.95,
            "yref": "paper"
           }
          ]
         },
         "name": "59"
        },
        {
         "data": [
          {
           "name": "Free Nodes",
           "type": "scatter3d",
           "x": {
            "bdata": "/8NRexwy0L/2AmSs/DbhP/fZQjEut/M/PxG0nH6V0j8=",
            "dtype": "f8"
           },
           "y": {
            "bdata": "1REXbprtnT+cEGQkwKnWPx1DIT/KgMg/XlyRGV1u8z8=",
            "dtype": "f8"
           },
           "z": {
            "bdata": "qCGmniL9778XQBX7hE7sv1KFwHXVi/m/D1UehFKE9b8=",
            "dtype": "f8"
           }
          },
          {
           "name": "Fixed Nodes",
           "type": "scatter3d",
           "x": {
            "bdata": "AAAAAAAAAAAAAAAAAAAAAA==",
            "dtype": "f8"
           },
           "y": {
            "bdata": "AAAAAAAAAAAAAAAAAADwPw==",
            "dtype": "f8"
           },
           "z": {
            "bdata": "AAAAAAAAAAAAAAAAAAAAAA==",
            "dtype": "f8"
           }
          },
          {
           "name": "Edges",
           "type": "scatter3d",
           "x": [
            -0.2530585483828531,
            0,
            null,
            0,
            0,
            null,
            0,
            -0.2530585483828531,
            null,
            1.2322217869055956,
            0.2903744249636197,
            null,
            0.2903744249636197,
            0.5379622809415128,
            null,
            0.5379622809415128,
            1.2322217869055956,
            null
           ],
           "y": [
            0.02922669693886511,
            1,
            null,
            1,
            0,
            null,
            0,
            0.02922669693886511,
            null,
            0.19143035967365388,
            1.2144442557089614,
            null,
            1.2144442557089614,
            0.3541107516650841,
            null,
            0.3541107516650841,
            0.19143035967365388,
            null
           ],
           "z": [
            -0.999650297032578,
            0,
            null,
            0,
            0,
            null,
            0,
            -0.999650297032578,
            null,
            -1.5966391181649056,
            -1.3448052559736572,
            null,
            -1.3448052559736572,
            -0.8845848945584319,
            null,
            -0.8845848945584319,
            -1.5966391181649056,
            null
           ]
          },
          {
           "i": [
            0,
            3
           ],
           "j": [
            1,
            4
           ],
           "k": [
            2,
            5
           ],
           "name": "Faces",
           "type": "mesh3d",
           "x": {
            "bdata": "AAAAAAAAAAD/w1F7HDLQvwAAAAAAAAAA9gJkrPw24T/32UIxLrfzPz8RtJx+ldI/",
            "dtype": "f8"
           },
           "y": {
            "bdata": "AAAAAAAAAADVERdumu2dPwAAAAAAAPA/nBBkJMCp1j8dQyE/yoDIP15ckRldbvM/",
            "dtype": "f8"
           },
           "z": {
            "bdata": "AAAAAAAAAACoIaaeIv3vvwAAAAAAAAAAF0AV+4RO7L9ShcB11Yv5vw9VHoRShPW/",
            "dtype": "f8"
           }
          }
         ],
         "layout": {
          "annotations": [
           {
            "showarrow": false,
            "text": "Time: 0.60s (Step: 61/100)",
            "x": 0.05,
            "xref": "paper",
            "y": 0.95,
            "yref": "paper"
           }
          ]
         },
         "name": "60"
        },
        {
         "data": [
          {
           "name": "Free Nodes",
           "type": "scatter3d",
           "x": {
            "bdata": "Om4bIGDh0r9C5fQ3MpbhP+osM4uyqfM/BkA3kR6M0j8=",
            "dtype": "f8"
           },
           "y": {
            "bdata": "ONsfwV59nT/tYsJlxALXP5jj5Z/GFcg/wgtURpJm8z8=",
            "dtype": "f8"
           },
           "z": {
            "bdata": "BbWkDB+b77/LMVogkrztvw0FjYRkdPq/JrRVocxV9r8=",
            "dtype": "f8"
           }
          },
          {
           "name": "Fixed Nodes",
           "type": "scatter3d",
           "x": {
            "bdata": "AAAAAAAAAAAAAAAAAAAAAA==",
            "dtype": "f8"
           },
           "y": {
            "bdata": "AAAAAAAAAAAAAAAAAADwPw==",
            "dtype": "f8"
           },
           "z": {
            "bdata": "AAAAAAAAAAAAAAAAAAAAAA==",
            "dtype": "f8"
           }
          },
          {
           "name": "Edges",
           "type": "scatter3d",
           "x": [
            -0.295005828241958,
            0,
            null,
            0,
            0,
            null,
            0,
            -0.295005828241958,
            null,
            1.2289300382133725,
            0.28980220967514503,
            null,
            0.28980220967514503,
            0.5495844929602429,
            null,
            0.5495844929602429,
            1.2289300382133725,
            null
           ],
           "y": [
            0.028798561608677192,
            1,
            null,
            1,
            0,
            null,
            0,
            0.028798561608677192,
            null,
            0.18816454703826646,
            1.2125418421935454,
            null,
            1.2125418421935454,
            0.35954389512475765,
            null,
            0.35954389512475765,
            0.18816454703826646,
            null
           ],
           "z": [
            -0.987685703939548,
            0,
            null,
            0,
            0,
            null,
            0,
            -0.987685703939548,
            null,
            -1.6534161737220672,
            -1.395947103704438,
            null,
            -1.395947103704438,
            -0.9292688972359938,
            null,
            -0.9292688972359938,
            -1.6534161737220672,
            null
           ]
          },
          {
           "i": [
            0,
            3
           ],
           "j": [
            1,
            4
           ],
           "k": [
            2,
            5
           ],
           "name": "Faces",
           "type": "mesh3d",
           "x": {
            "bdata": "AAAAAAAAAAA6bhsgYOHSvwAAAAAAAAAAQuX0NzKW4T/qLDOLsqnzPwZAN5EejNI/",
            "dtype": "f8"
           },
           "y": {
            "bdata": "AAAAAAAAAAA42x/BXn2dPwAAAAAAAPA/7WLCZcQC1z+Y4+WfxhXIP8ILVEaSZvM/",
            "dtype": "f8"
           },
           "z": {
            "bdata": "AAAAAAAAAAAFtaQMH5vvvwAAAAAAAAAAyzFaIJK87b8NBY2EZHT6vya0VaHMVfa/",
            "dtype": "f8"
           }
          }
         ],
         "layout": {
          "annotations": [
           {
            "showarrow": false,
            "text": "Time: 0.61s (Step: 62/100)",
            "x": 0.05,
            "xref": "paper",
            "y": 0.95,
            "yref": "paper"
           }
          ]
         },
         "name": "61"
        },
        {
         "data": [
          {
           "name": "Free Nodes",
           "type": "scatter3d",
           "x": {
            "bdata": "oXV+JriB1b9gK2v9V/bhP4i/K+fKm/M/fajOCY6C0j8=",
            "dtype": "f8"
           },
           "y": {
            "bdata": "w6qibjYZnT+pcSMWrFzXP7RGUXWNqsc/tzPBSJVe8z8=",
            "dtype": "f8"
           },
           "z": {
            "bdata": "3/jd9IQr77/VNf0uZjTvv9+ZBHxcYPu/sv2+Vggr978=",
            "dtype": "f8"
           }
          },
          {
           "name": "Fixed Nodes",
           "type": "scatter3d",
           "x": {
            "bdata": "AAAAAAAAAAAAAAAAAAAAAA==",
            "dtype": "f8"
           },
           "y": {
            "bdata": "AAAAAAAAAAAAAAAAAADwPw==",
            "dtype": "f8"
           },
           "z": {
            "bdata": "AAAAAAAAAAAAAAAAAAAAAA==",
            "dtype": "f8"
           }
          },
          {
           "name": "Edges",
           "type": "scatter3d",
           "x": [
            -0.33604244002511946,
            0,
            null,
            0,
            0,
            null,
            0,
            -0.33604244002511946,
            null,
            1.2255353002655927,
            0.2892184348844536,
            null,
            0.2892184348844536,
            0.5613212537367467,
            null,
            0.5613212537367467,
            1.2255353002655927,
            null
           ],
           "y": [
            0.028416491034173996,
            1,
            null,
            1,
            0,
            null,
            0,
            0.028416491034173996,
            null,
            0.1848923514212878,
            1.2105915872555053,
            null,
            1.2105915872555053,
            0.3650312629886466,
            null,
            0.3650312629886466,
            0.1848923514212878,
            null
           ],
           "z": [
            -0.9740624220428592,
            0,
            null,
            0,
            0,
            null,
            0,
            -0.9740624220428592,
            null,
            -1.7110257000400606,
            -1.4480059994237817,
            null,
            -1.4480059994237817,
            -0.9751463811641609,
            null,
            -0.9751463811641609,
            -1.7110257000400606,
            null
           ]
          },
          {
           "i": [
            0,
            3
           ],
           "j": [
            1,
            4
           ],
           "k": [
            2,
            5
           ],
           "name": "Faces",
           "type": "mesh3d",
           "x": {
            "bdata": "AAAAAAAAAAChdX4muIHVvwAAAAAAAAAAYCtr/Vf24T+IvyvnypvzP32ozgmOgtI/",
            "dtype": "f8"
           },
           "y": {
            "bdata": "AAAAAAAAAADDqqJuNhmdPwAAAAAAAPA/qXEjFqxc1z+0RlF1jarHP7czwUiVXvM/",
            "dtype": "f8"
           },
           "z": {
            "bdata": "AAAAAAAAAADf+N30hCvvvwAAAAAAAAAA1TX9LmY077/fmQR8XGD7v7L9vlYIK/e/",
            "dtype": "f8"
           }
          }
         ],
         "layout": {
          "annotations": [
           {
            "showarrow": false,
            "text": "Time: 0.62s (Step: 63/100)",
            "x": 0.05,
            "xref": "paper",
            "y": 0.95,
            "yref": "paper"
           }
          ]
         },
         "name": "62"
        },
        {
         "data": [
          {
           "name": "Free Nodes",
           "type": "scatter3d",
           "x": {
            "bdata": "69824ZwR2L9QmMKAZVfiP/IIhGV5jfM/HugkfdV40j8=",
            "dtype": "f8"
           },
           "y": {
            "bdata": "KNWvT27AnD/w0DaFWbfXP1YoGE8/P8c/uFf2emlW8z8=",
            "dtype": "f8"
           },
           "z": {
            "bdata": "xvGZgPuu7r/Sk4MJAFvwv+n1Qne7T/y/2hE6EwgE+L8=",
            "dtype": "f8"
           }
          },
          {
           "name": "Fixed Nodes",
           "type": "scatter3d",
           "x": {
            "bdata": "AAAAAAAAAAAAAAAAAAAAAA==",
            "dtype": "f8"
           },
           "y": {
            "bdata": "AAAAAAAAAAAAAAAAAADwPw==",
            "dtype": "f8"
           },
           "z": {
            "bdata": "AAAAAAAAAAAAAAAAAAAAAA==",
            "dtype": "f8"
           }
          },
          {
           "name": "Edges",
           "type": "scatter3d",
           "x": [
            -0.37607500070180205,
            0,
            null,
            0,
            0,
            null,
            0,
            -0.37607500070180205,
            null,
            1.2220396008929666,
            0.2886251184569363,
            null,
            0.2886251184569363,
            0.5731685175749224,
            null,
            0.5731685175749224,
            1.2220396008929666,
            null
           ],
           "y": [
            0.02807781564111625,
            1,
            null,
            1,
            0,
            null,
            0,
            0.02807781564111625,
            null,
            0.18161765443830075,
            1.2085966876233964,
            null,
            1.2085966876233964,
            0.3705657769126125,
            null,
            0.3705657769126125,
            0.18161765443830075,
            null
           ],
           "z": [
            -0.9588601600403812,
            0,
            null,
            0,
            0,
            null,
            0,
            -0.9588601600403812,
            null,
            -1.7694658907561183,
            -1.5009842635200727,
            null,
            -1.5009842635200727,
            -1.0222168323173162,
            null,
            -1.0222168323173162,
            -1.7694658907561183,
            null
           ]
          },
          {
           "i": [
            0,
            3
           ],
           "j": [
            1,
            4
           ],
           "k": [
            2,
            5
           ],
           "name": "Faces",
           "type": "mesh3d",
           "x": {
            "bdata": "AAAAAAAAAADr3zbhnBHYvwAAAAAAAAAAUJjCgGVX4j/yCIRleY3zPx7oJH3VeNI/",
            "dtype": "f8"
           },
           "y": {
            "bdata": "AAAAAAAAAAAo1a9PbsCcPwAAAAAAAPA/8NA2hVm31z9WKBhPPz/HP7hX9nppVvM/",
            "dtype": "f8"
           },
           "z": {
            "bdata": "AAAAAAAAAADG8ZmA+67uvwAAAAAAAAAA0pODCQBb8L/p9UJ3u0/8v9oROhMIBPi/",
            "dtype": "f8"
           }
          }
         ],
         "layout": {
          "annotations": [
           {
            "showarrow": false,
            "text": "Time: 0.63s (Step: 64/100)",
            "x": 0.05,
            "xref": "paper",
            "y": 0.95,
            "yref": "paper"
           }
          ]
         },
         "name": "63"
        },
        {
         "data": [
          {
           "name": "Free Nodes",
           "type": "scatter3d",
           "x": {
            "bdata": "5egHWqiP2r9Z5YdRU7niP7wqg0fCfvM/DgYEx/Ju0j8=",
            "dtype": "f8"
           },
           "y": {
            "bdata": "dBYBsp1xnD+t4ocUwhLYP07s7TXb08Y/0TJ6oxFO8z8=",
            "dtype": "f8"
           },
           "z": {
            "bdata": "wA5T1jgm7r8x434VtSDxv1fEVC1+Qv2/3mV38Mng+L8=",
            "dtype": "f8"
           }
          },
          {
           "name": "Fixed Nodes",
           "type": "scatter3d",
           "x": {
            "bdata": "AAAAAAAAAAAAAAAAAAAAAA==",
            "dtype": "f8"
           },
           "y": {
            "bdata": "AAAAAAAAAAAAAAAAAADwPw==",
            "dtype": "f8"
           },
           "z": {
            "bdata": "AAAAAAAAAAAAAAAAAAAAAA==",
            "dtype": "f8"
           }
          },
          {
           "name": "Edges",
           "type": "scatter3d",
           "x": [
            -0.41501816551284626,
            0,
            null,
            0,
            0,
            null,
            0,
            -0.41501816551284626,
            null,
            1.218446997971724,
            0.2880217498314729,
            null,
            0.2880217498314729,
            0.5851227371596607,
            null,
            0.5851227371596607,
            1.218446997971724,
            null
           ],
           "y": [
            0.027777160634534018,
            1,
            null,
            1,
            0,
            null,
            0,
            0.027777160634534018,
            null,
            0.17834034093161438,
            1.2065597902139198,
            null,
            1.2065597902139198,
            0.3761449051376456,
            null,
            0.3761449051376456,
            0.17834034093161438,
            null
           ],
           "z": [
            -0.942165773966245,
            0,
            null,
            0,
            0,
            null,
            0,
            -0.942165773966245,
            null,
            -1.8287336130854521,
            -1.5548800843447377,
            null,
            -1.5548800843447377,
            -1.0704851951288215,
            null,
            -1.0704851951288215,
            -1.8287336130854521,
            null
           ]
          },
          {
           "i": [
            0,
            3
           ],
           "j": [
            1,
            4
           ],
           "k": [
            2,
            5
           ],
           "name": "Faces",
           "type": "mesh3d",
           "x": {
            "bdata": "AAAAAAAAAADl6AdaqI/avwAAAAAAAAAAWeWHUVO54j+8KoNHwn7zPw4GBMfybtI/",
            "dtype": "f8"
           },
           "y": {
            "bdata": "AAAAAAAAAAB0FgGynXGcPwAAAAAAAPA/reKHFMIS2D9O7O0129PGP9EyeqMRTvM/",
            "dtype": "f8"
           },
           "z": {
            "bdata": "AAAAAAAAAADADlPWOCbuvwAAAAAAAAAAMeN+FbUg8b9XxFQtfkL9v95ld/DJ4Pi/",
            "dtype": "f8"
           }
          }
         ],
         "layout": {
          "annotations": [
           {
            "showarrow": false,
            "text": "Time: 0.64s (Step: 65/100)",
            "x": 0.05,
            "xref": "paper",
            "y": 0.95,
            "yref": "paper"
           }
          ]
         },
         "name": "64"
        },
        {
         "data": [
          {
           "name": "Free Nodes",
           "type": "scatter3d",
           "x": {
            "bdata": "A4QFkJj63L+A4pfuGRzjP6dN/9Crb/M/Pr9Z2ttk0j8=",
            "dtype": "f8"
           },
           "y": {
            "bdata": "GGP2s7kqnD+K3r3n627YPwD802BDaMY/68mC8o9F8z8=",
            "dtype": "f8"
           },
           "z": {
            "bdata": "40piZACS7b/g3xW7XOvxv7hUMx2gOP6/V1PY70fB+b8=",
            "dtype": "f8"
           }
          },
          {
           "name": "Fixed Nodes",
           "type": "scatter3d",
           "x": {
            "bdata": "AAAAAAAAAAAAAAAAAAAAAA==",
            "dtype": "f8"
           },
           "y": {
            "bdata": "AAAAAAAAAAAAAAAAAADwPw==",
            "dtype": "f8"
           },
           "z": {
            "bdata": "AAAAAAAAAAAAAAAAAAAAAA==",
            "dtype": "f8"
           }
          },
          {
           "name": "Edges",
           "type": "scatter3d",
           "x": [
            -0.4527951628170401,
            0,
            null,
            0,
            0,
            null,
            0,
            -0.4527951628170401,
            null,
            1.21476346625864,
            0.28740593264864234,
            null,
            0.28740593264864234,
            0.5971803340936077,
            null,
            0.5971803340936077,
            1.21476346625864,
            null
           ],
           "y": [
            0.027506734475170352,
            1,
            null,
            1,
            0,
            null,
            0,
            0.027506734475170352,
            null,
            0.17505686023648082,
            1.204482981975725,
            null,
            1.204482981975725,
            0.38177011137984407,
            null,
            0.38177011137984407,
            0.17505686023648082,
            null
           ],
           "z": [
            -0.9240724526046872,
            0,
            null,
            0,
            0,
            null,
            0,
            -0.9240724526046872,
            null,
            -1.888824571671007,
            -1.6096877449937972,
            null,
            -1.6096877449937972,
            -1.1199614818597112,
            null,
            -1.1199614818597112,
            -1.888824571671007,
            null
           ]
          },
          {
           "i": [
            0,
            3
           ],
           "j": [
            1,
            4
           ],
           "k": [
            2,
            5
           ],
           "name": "Faces",
           "type": "mesh3d",
           "x": {
            "bdata": "AAAAAAAAAAADhAWQmPrcvwAAAAAAAAAAgOKX7hkc4z+nTf/Qq2/zPz6/WdrbZNI/",
            "dtype": "f8"
           },
           "y": {
            "bdata": "AAAAAAAAAAAYY/azuSqcPwAAAAAAAPA/it695+tu2D8A/NNgQ2jGP+vJgvKPRfM/",
            "dtype": "f8"
           },
           "z": {
            "bdata": "AAAAAAAAAADjSmJkAJLtvwAAAAAAAAAA4N8Vu1zr8b+4VDMdoDj+v1dT2O9Hwfm/",
            "dtype": "f8"
           }
          }
         ],
         "layout": {
          "annotations": [
           {
            "showarrow": false,
            "text": "Time: 0.65s (Step: 66/100)",
            "x": 0.05,
            "xref": "paper",
            "y": 0.95,
            "yref": "paper"
           }
          ]
         },
         "name": "65"
        },
        {
         "data": [
          {
           "name": "Free Nodes",
           "type": "scatter3d",
           "x": {
            "bdata": "3PJR8FBR37+pWivrsH/jP3bpLAM+YPM/2Z7ii4Fa0j8=",
            "dtype": "f8"
           },
           "y": {
            "bdata": "ZHds0jDpmz9ghXP86cvYP2VEMZ9D/MU/MI+8LuY88z8=",
            "dtype": "f8"
           },
           "z": {
            "bdata": "bkRPwyDz7L/1RJDoBbvyv0VAOs4bMv+/9YW5m3il+r8=",
            "dtype": "f8"
           }
          },
          {
           "name": "Fixed Nodes",
           "type": "scatter3d",
           "x": {
            "bdata": "AAAAAAAAAAAAAAAAAAAAAA==",
            "dtype": "f8"
           },
           "y": {
            "bdata": "AAAAAAAAAAAAAAAAAADwPw==",
            "dtype": "f8"
           },
           "z": {
            "bdata": "AAAAAAAAAAAAAAAAAAAAAA==",
            "dtype": "f8"
           }
          },
          {
           "name": "Edges",
           "type": "scatter3d",
           "x": [
            -0.48933814495812356,
            0,
            null,
            0,
            0,
            null,
            0,
            -0.48933814495812356,
            null,
            1.210996639637043,
            0.28677405033748254,
            null,
            0.28677405033748254,
            0.6093372910643967,
            null,
            0.6093372910643967,
            1.210996639637043,
            null
           ],
           "y": [
            0.02725673946689912,
            1,
            null,
            1,
            0,
            null,
            0,
            0.02725673946689912,
            null,
            0.17176099083966104,
            1.2023679567000265,
            null,
            1.2023679567000265,
            0.3874459233612324,
            null,
            0.3874459233612324,
            0.17176099083966104,
            null
           ],
           "z": [
            -0.9046787085191121,
            0,
            null,
            0,
            0,
            null,
            0,
            -0.9046787085191121,
            null,
            -1.9497335487140088,
            -1.665398224162684,
            null,
            -1.665398224162684,
            -1.1706599316133268,
            null,
            -1.1706599316133268,
            -1.9497335487140088,
            null
           ]
          },
          {
           "i": [
            0,
            3
           ],
           "j": [
            1,
            4
           ],
           "k": [
            2,
            5
           ],
           "name": "Faces",
           "type": "mesh3d",
           "x": {
            "bdata": "AAAAAAAAAADc8lHwUFHfvwAAAAAAAAAAqVor67B/4z926SwDPmDzP9me4ouBWtI/",
            "dtype": "f8"
           },
           "y": {
            "bdata": "AAAAAAAAAABkd2zSMOmbPwAAAAAAAPA/YIVz/OnL2D9lRDGfQ/zFPzCPvC7mPPM/",
            "dtype": "f8"
           },
           "z": {
            "bdata": "AAAAAAAAAABuRE/DIPPsvwAAAAAAAAAA9USQ6AW78r9FQDrOGzL/v/WFuZt4pfq/",
            "dtype": "f8"
           }
          }
         ],
         "layout": {
          "annotations": [
           {
            "showarrow": false,
            "text": "Time: 0.66s (Step: 67/100)",
            "x": 0.05,
            "xref": "paper",
            "y": 0.95,
            "yref": "paper"
           }
          ]
         },
         "name": "66"
        },
        {
         "data": [
          {
           "name": "Free Nodes",
           "type": "scatter3d",
           "x": {
            "bdata": "A5ZjgG3J4L9m0rJgDuTjP8X92jiCUPM/S52BPdJP0j8=",
            "dtype": "f8"
           },
           "y": {
            "bdata": "c7FKkQyqmz+1fZ5O1ynZP0BLeNyYj8U/Rsi7+xU08z8=",
            "dtype": "f8"
           },
           "z": {
            "bdata": "iTU3VnFK7L/vKA27wo/zv8YStZB1FwDAq0j79U+N+78=",
            "dtype": "f8"
           }
          },
          {
           "name": "Fixed Nodes",
           "type": "scatter3d",
           "x": {
            "bdata": "AAAAAAAAAAAAAAAAAAAAAA==",
            "dtype": "f8"
           },
           "y": {
            "bdata": "AAAAAAAAAAAAAAAAAADwPw==",
            "dtype": "f8"
           },
           "z": {
            "bdata": "AAAAAAAAAAAAAAAAAAAAAA==",
            "dtype": "f8"
           }
          },
          {
           "name": "Edges",
           "type": "scatter3d",
           "x": [
            -0.5245883472059066,
            0,
            null,
            0,
            0,
            null,
            0,
            -0.5245883472059066,
            null,
            1.2071554394641322,
            0.2861219025275729,
            null,
            0.2861219025275729,
            0.6215888870852495,
            null,
            0.6215888870852495,
            1.2071554394641322,
            null
           ],
           "y": [
            0.027015873306184667,
            1,
            null,
            1,
            0,
            null,
            0,
            0.027015873306184667,
            null,
            0.16844473614818334,
            1.2002162774411018,
            null,
            1.2002162774411018,
            0.3931787746205047,
            null,
            0.3931787746205047,
            0.16844473614818334,
            null
           ],
           "z": [
            -0.884087246313059,
            0,
            null,
            0,
            0,
            null,
            0,
            -0.884087246313059,
            null,
            -2.0114547066935726,
            -1.7220000847487806,
            null,
            -1.7220000847487806,
            -1.2225978190131703,
            null,
            -1.2225978190131703,
            -2.0114547066935726,
            null
           ]
          },
          {
           "i": [
            0,
            3
           ],
           "j": [
            1,
            4
           ],
           "k": [
            2,
            5
           ],
           "name": "Faces",
           "type": "mesh3d",
           "x": {
            "bdata": "AAAAAAAAAAADlmOAbcngvwAAAAAAAAAAZtKyYA7k4z/F/do4glDzP0udgT3ST9I/",
            "dtype": "f8"
           },
           "y": {
            "bdata": "AAAAAAAAAABzsUqRDKqbPwAAAAAAAPA/tX2eTtcp2T9AS3jcmI/FP0bIu/sVNPM/",
            "dtype": "f8"
           },
           "z": {
            "bdata": "AAAAAAAAAACJNTdWcUrsvwAAAAAAAAAA7ygNu8KP87/GErWQdRcAwKtI+/VPjfu/",
            "dtype": "f8"
           }
          }
         ],
         "layout": {
          "annotations": [
           {
            "showarrow": false,
            "text": "Time: 0.67s (Step: 68/100)",
            "x": 0.05,
            "xref": "paper",
            "y": 0.95,
            "yref": "paper"
           }
          ]
         },
         "name": "67"
        },
        {
         "data": [
          {
           "name": "Free Nodes",
           "type": "scatter3d",
           "x": {
            "bdata": "T0GjJTPf4b/+Lp2tJknkP7hfVK2CQPM/eJstRbxE0j8=",
            "dtype": "f8"
           },
           "y": {
            "bdata": "MWPxxRZqmz9UOj+40YjZP0OiGx75IcU/RAZSIiEr8z8=",
            "dtype": "f8"
           },
           "z": {
            "bdata": "vTDG08+Y679pxU0Dp2n0vwAaN9eDlwDAazIxlsB4/L8=",
            "dtype": "f8"
           }
          },
          {
           "name": "Fixed Nodes",
           "type": "scatter3d",
           "x": {
            "bdata": "AAAAAAAAAAAAAAAAAAAAAA==",
            "dtype": "f8"
           },
           "y": {
            "bdata": "AAAAAAAAAAAAAAAAAADwPw==",
            "dtype": "f8"
           },
           "z": {
            "bdata": "AAAAAAAAAAAAAAAAAAAAAA==",
            "dtype": "f8"
           }
          },
          {
           "name": "Edges",
           "type": "scatter3d",
           "x": [
            -0.5584960684882762,
            0,
            null,
            0,
            0,
            null,
            0,
            -0.5584960684882762,
            null,
            1.2032496233641563,
            0.28544527774504713,
            null,
            0.28544527774504713,
            0.6339295760057835,
            null,
            0.6339295760057835,
            1.2032496233641563,
            null
           ],
           "y": [
            0.02677188475749687,
            1,
            null,
            1,
            0,
            null,
            0,
            0.02677188475749687,
            null,
            0.16509927721132742,
            1.1980296459809248,
            null,
            1.1980296459809248,
            0.3989757823264075,
            null,
            0.3989757823264075,
            0.16509927721132742,
            null
           ],
           "z": [
            -0.8624037872518994,
            0,
            null,
            0,
            0,
            null,
            0,
            -0.8624037872518994,
            null,
            -2.0739819348993933,
            -1.7794805399782045,
            null,
            -1.7794805399782045,
            -1.2757940415434297,
            null,
            -1.2757940415434297,
            -2.0739819348993933,
            null
           ]
          },
          {
           "i": [
            0,
            3
           ],
           "j": [
            1,
            4
           ],
           "k": [
            2,
            5
           ],
           "name": "Faces",
           "type": "mesh3d",
           "x": {
            "bdata": "AAAAAAAAAABPQaMlM9/hvwAAAAAAAAAA/i6drSZJ5D+4X1StgkDzP3ibLUW8RNI/",
            "dtype": "f8"
           },
           "y": {
            "bdata": "AAAAAAAAAAAxY/HFFmqbPwAAAAAAAPA/VDo/uNGI2T9Dohse+SHFP0QGUiIhK/M/",
            "dtype": "f8"
           },
           "z": {
            "bdata": "AAAAAAAAAAC9MMbTz5jrvwAAAAAAAAAAacVNA6dp9L8AGjfXg5cAwGsyMZbAePy/",
            "dtype": "f8"
           }
          }
         ],
         "layout": {
          "annotations": [
           {
            "showarrow": false,
            "text": "Time: 0.68s (Step: 69/100)",
            "x": 0.05,
            "xref": "paper",
            "y": 0.95,
            "yref": "paper"
           }
          ]
         },
         "name": "68"
        },
        {
         "data": [
          {
           "name": "Free Nodes",
           "type": "scatter3d",
           "x": {
            "bdata": "cgGf1aPp4r9P6iN47K7kP2HC5fdJMPM/XNlA+S850j8=",
            "dtype": "f8"
           },
           "y": {
            "bdata": "QnYw9P8lmz9w6Aot9ejZP7nG714bs8Q/NG43xgki8z8=",
            "dtype": "f8"
           },
           "z": {
            "bdata": "yxzK3x3f6r86BHa1xkj1v1D7GpM1GQHAYM5H17xn/b8=",
            "dtype": "f8"
           }
          },
          {
           "name": "Fixed Nodes",
           "type": "scatter3d",
           "x": {
            "bdata": "AAAAAAAAAAAAAAAAAAAAAA==",
            "dtype": "f8"
           },
           "y": {
            "bdata": "AAAAAAAAAAAAAAAAAADwPw==",
            "dtype": "f8"
           },
           "z": {
            "bdata": "AAAAAAAAAAAAAAAAAAAAAA==",
            "dtype": "f8"
           }
          },
          {
           "name": "Edges",
           "type": "scatter3d",
           "x": [
            -0.5910205051696222,
            0,
            null,
            0,
            0,
            null,
            0,
            -0.5910205051696222,
            null,
            1.1992892917152391,
            0.28474044171470836,
            null,
            0.28474044171470836,
            0.6463529917230718,
            null,
            0.6463529917230718,
            1.1992892917152391,
            null
           ],
           "y": [
            0.02651214530862079,
            1,
            null,
            1,
            0,
            null,
            0,
            0.02651214530862079,
            null,
            0.16171590934350435,
            1.1958101027329464,
            null,
            1.1958101027329464,
            0.40484361075107866,
            null,
            0.40484361075107866,
            0.16171590934350435,
            null
           ],
           "z": [
            -0.839735924805518,
            0,
            null,
            0,
            0,
            null,
            0,
            -0.839735924805518,
            null,
            -2.1373092167481573,
            -1.8378265771288156,
            null,
            -1.8378265771288156,
            -1.3302676285095587,
            null,
            -1.3302676285095587,
            -2.1373092167481573,
            null
           ]
          },
          {
           "i": [
            0,
            3
           ],
           "j": [
            1,
            4
           ],
           "k": [
            2,
            5
           ],
           "name": "Faces",
           "type": "mesh3d",
           "x": {
            "bdata": "AAAAAAAAAAByAZ/Vo+nivwAAAAAAAAAAT+ojeOyu5D9hwuX3STDzP1zZQPkvOdI/",
            "dtype": "f8"
           },
           "y": {
            "bdata": "AAAAAAAAAABCdjD0/yWbPwAAAAAAAPA/cOgKLfXo2T+5xu9eG7PEPzRuN8YJIvM/",
            "dtype": "f8"
           },
           "z": {
            "bdata": "AAAAAAAAAADLHMrfHd/qvwAAAAAAAAAAOgR2tcZI9b9Q+xqTNRkBwGDOR9e8Z/2/",
            "dtype": "f8"
           }
          }
         ],
         "layout": {
          "annotations": [
           {
            "showarrow": false,
            "text": "Time: 0.69s (Step: 70/100)",
            "x": 0.05,
            "xref": "paper",
            "y": 0.95,
            "yref": "paper"
           }
          ]
         },
         "name": "69"
        },
        {
         "data": [
          {
           "name": "Free Nodes",
           "type": "scatter3d",
           "x": {
            "bdata": "BAJJFXzo478j0jTmUBXlP1Z/gIbiH/M/CFUaViEt0j8=",
            "dtype": "f8"
           },
           "y": {
            "bdata": "jbdhXITamj/smBTSV0raP9Jx7LS+QsQ/uERoe9IY8z8=",
            "dtype": "f8"
           },
           "z": {
            "bdata": "58zV1T4e6r/lE7NpNC32v4WQH9qHnAHAaTqU9Tda/r8=",
            "dtype": "f8"
           }
          },
          {
           "name": "Fixed Nodes",
           "type": "scatter3d",
           "x": {
            "bdata": "AAAAAAAAAAAAAAAAAAAAAA==",
            "dtype": "f8"
           },
           "y": {
            "bdata": "AAAAAAAAAAAAAAAAAADwPw==",
            "dtype": "f8"
           },
           "z": {
            "bdata": "AAAAAAAAAAAAAAAAAAAAAA==",
            "dtype": "f8"
           }
          },
          {
           "name": "Edges",
           "type": "scatter3d",
           "x": [
            -0.6221294799543675,
            0,
            null,
            0,
            0,
            null,
            0,
            -0.6221294799543675,
            null,
            1.1952843908292912,
            0.2840045300338976,
            null,
            0.2840045300338976,
            0.6588520523278628,
            null,
            0.6588520523278628,
            1.1952843908292912,
            null
           ],
           "y": [
            0.026224201334506914,
            1,
            null,
            1,
            0,
            null,
            0,
            0.026224201334506914,
            null,
            0.1582868941703866,
            1.1935601063344574,
            null,
            1.1935601063344574,
            0.41078753963155523,
            null,
            0.41078753963155523,
            0.1582868941703866,
            null
           ],
           "z": [
            -0.816192071577828,
            0,
            null,
            0,
            0,
            null,
            0,
            -0.816192071577828,
            null,
            -2.2014309922106485,
            -1.8970260231905292,
            null,
            -1.8970260231905292,
            -1.3860363129508582,
            null,
            -1.3860363129508582,
            -2.2014309922106485,
            null
           ]
          },
          {
           "i": [
            0,
            3
           ],
           "j": [
            1,
            4
           ],
           "k": [
            2,
            5
           ],
           "name": "Faces",
           "type": "mesh3d",
           "x": {
            "bdata": "AAAAAAAAAAAEAkkVfOjjvwAAAAAAAAAAI9I05lAV5T9Wf4CG4h/zPwhVGlYhLdI/",
            "dtype": "f8"
           },
           "y": {
            "bdata": "AAAAAAAAAACNt2FchNqaPwAAAAAAAPA/7JgU0ldK2j/Scey0vkLEP7hEaHvSGPM/",
            "dtype": "f8"
           },
           "z": {
            "bdata": "AAAAAAAAAADnzNXVPh7qvwAAAAAAAAAA5ROzaTQt9r+FkB/ah5wBwGk6lPU3Wv6/",
            "dtype": "f8"
           }
          }
         ],
         "layout": {
          "annotations": [
           {
            "showarrow": false,
            "text": "Time: 0.70s (Step: 71/100)",
            "x": 0.05,
            "xref": "paper",
            "y": 0.95,
            "yref": "paper"
           }
          ]
         },
         "name": "70"
        },
        {
         "data": [
          {
           "name": "Free Nodes",
           "type": "scatter3d",
           "x": {
            "bdata": "2xcpz4nb5L/WPp/4Q3zlP2lL5yFWD/M/gYoQN4kg0j8=",
            "dtype": "f8"
           },
           "y": {
            "bdata": "ZyQvvY2Emj8cXiVFB63aPwglvUCw0MM/C9VcNn4P8z8=",
            "dtype": "f8"
           },
           "z": {
            "bdata": "r/mu2hVX6b/vr3MPABf3vy6+xCt4IQLA4/GnAidQ/78=",
            "dtype": "f8"
           }
          },
          {
           "name": "Fixed Nodes",
           "type": "scatter3d",
           "x": {
            "bdata": "AAAAAAAAAAAAAAAAAAAAAA==",
            "dtype": "f8"
           },
           "y": {
            "bdata": "AAAAAAAAAAAAAAAAAADwPw==",
            "dtype": "f8"
           },
           "z": {
            "bdata": "AAAAAAAAAAAAAAAAAAAAAA==",
            "dtype": "f8"
           }
          },
          {
           "name": "Edges",
           "type": "scatter3d",
           "x": [
            -0.651799110994712,
            0,
            null,
            0,
            0,
            null,
            0,
            -0.651799110994712,
            null,
            1.1912442516665698,
            0.28323583962825444,
            null,
            0.28323583962825444,
            0.6714191299342598,
            null,
            0.6714191299342598,
            1.1912442516665698,
            null
           ],
           "y": [
            0.02589627711475764,
            1,
            null,
            1,
            0,
            null,
            0,
            0.02589627711475764,
            null,
            0.15480616723133545,
            1.1912824748554296,
            null,
            1.1912824748554296,
            0.41681081535850395,
            null,
            0.41681081535850395,
            0.15480616723133545,
            null
           ],
           "z": [
            -0.7918805380975779,
            0,
            null,
            0,
            0,
            null,
            0,
            -0.7918805380975779,
            null,
            -2.266342489186875,
            -1.95706845319284,
            null,
            -1.95706845319284,
            -1.4431152919378254,
            null,
            -1.4431152919378254,
            -2.266342489186875,
            null
           ]
          },
          {
           "i": [
            0,
            3
           ],
           "j": [
            1,
            4
           ],
           "k": [
            2,
            5
           ],
           "name": "Faces",
           "type": "mesh3d",
           "x": {
            "bdata": "AAAAAAAAAADbFynPidvkvwAAAAAAAAAA1j6f+EN85T9pS+chVg/zP4GKEDeJINI/",
            "dtype": "f8"
           },
           "y": {
            "bdata": "AAAAAAAAAABnJC+9jYSaPwAAAAAAAPA/HF4lRQet2j8IJb1AsNDDPwvVXDZ+D/M/",
            "dtype": "f8"
           },
           "z": {
            "bdata": "AAAAAAAAAACv+a7aFVfpvwAAAAAAAAAA769zDwAX978uvsQreCECwOPxpwInUP+/",
            "dtype": "f8"
           }
          }
         ],
         "layout": {
          "annotations": [
           {
            "showarrow": false,
            "text": "Time: 0.71s (Step: 72/100)",
            "x": 0.05,
            "xref": "paper",
            "y": 0.95,
            "yref": "paper"
           }
          ]
         },
         "name": "71"
        },
        {
         "data": [
          {
           "name": "Free Nodes",
           "type": "scatter3d",
           "x": {
            "bdata": "EaZul6vC5b94g3X3tOPlP5/3DoWt/vI/ko8rIGYT0j8=",
            "dtype": "f8"
           },
           "y": {
            "bdata": "Ny5HUlAhmj/vhP02BxHbP3+1P4LPXMM/TVHpGhAG8z8=",
            "dtype": "f8"
           },
           "z": {
            "bdata": "GMB6PoSK6L/c5IvtNQb4vyahV5YEqALASleKzcAkAMA=",
            "dtype": "f8"
           }
          },
          {
           "name": "Fixed Nodes",
           "type": "scatter3d",
           "x": {
            "bdata": "AAAAAAAAAAAAAAAAAAAAAA==",
            "dtype": "f8"
           },
           "y": {
            "bdata": "AAAAAAAAAAAAAAAAAADwPw==",
            "dtype": "f8"
           },
           "z": {
            "bdata": "AAAAAAAAAAAAAAAAAAAAAA==",
            "dtype": "f8"
           }
          },
          {
           "name": "Edges",
           "type": "scatter3d",
           "x": [
            -0.6800134618435455,
            0,
            null,
            0,
            0,
            null,
            0,
            -0.6800134618435455,
            null,
            1.1871772000881504,
            0.2824340166246141,
            null,
            0.2824340166246141,
            0.684046252554352,
            null,
            0.684046252554352,
            1.1871772000881504,
            null
           ],
           "y": [
            0.025517706891873906,
            1,
            null,
            1,
            0,
            null,
            0,
            0.025517706891873906,
            null,
            0.1512698541622903,
            1.188980202791828,
            null,
            1.188980202791828,
            0.4229143178000205,
            null,
            0.4229143178000205,
            0.1512698541622903,
            null
           ],
           "z": [
            -0.7669087620070085,
            0,
            null,
            0,
            0,
            null,
            0,
            -0.7669087620070085,
            null,
            -2.3320399995319745,
            -2.0179458673327746,
            null,
            -2.0179458673327746,
            -1.5015162734182956,
            null,
            -1.5015162734182956,
            -2.3320399995319745,
            null
           ]
          },
          {
           "i": [
            0,
            3
           ],
           "j": [
            1,
            4
           ],
           "k": [
            2,
            5
           ],
           "name": "Faces",
           "type": "mesh3d",
           "x": {
            "bdata": "AAAAAAAAAAARpm6Xq8LlvwAAAAAAAAAAeIN197Tj5T+f9w6Frf7yP5KPKyBmE9I/",
            "dtype": "f8"
           },
           "y": {
            "bdata": "AAAAAAAAAAA3LkdSUCGaPwAAAAAAAPA/74T9NgcR2z9/tT+Cz1zDP01R6RoQBvM/",
            "dtype": "f8"
           },
           "z": {
            "bdata": "AAAAAAAAAAAYwHo+hIrovwAAAAAAAAAA3OSL7TUG+L8moVeWBKgCwEpXis3AJADA",
            "dtype": "f8"
           }
          }
         ],
         "layout": {
          "annotations": [
           {
            "showarrow": false,
            "text": "Time: 0.72s (Step: 73/100)",
            "x": 0.05,
            "xref": "paper",
            "y": 0.95,
            "yref": "paper"
           }
          ]
         },
         "name": "72"
        },
        {
         "data": [
          {
           "name": "Free Nodes",
           "type": "scatter3d",
           "x": {
            "bdata": "fdYJ9s+d5r+Jq4LfkkvmP/gzww/w7fI/OY2mmLwF0j8=",
            "dtype": "f8"
           },
           "y": {
            "bdata": "myEhLmKumT8JpxFOUXbbPwTxI9EQ58I/W5l6NIv88j8=",
            "dtype": "f8"
           },
           "z": {
            "bdata": "40u3Lmi55784w1EA3vr4v3PJ2dErMAPA8p9AKSGjAMA=",
            "dtype": "f8"
           }
          },
          {
           "name": "Fixed Nodes",
           "type": "scatter3d",
           "x": {
            "bdata": "AAAAAAAAAAAAAAAAAAAAAA==",
            "dtype": "f8"
           },
           "y": {
            "bdata": "AAAAAAAAAAAAAAAAAADwPw==",
            "dtype": "f8"
           },
           "z": {
            "bdata": "AAAAAAAAAAAAAAAAAAAAAA==",
            "dtype": "f8"
           }
          },
          {
           "name": "Edges",
           "type": "scatter3d",
           "x": [
            -0.7067642026365345,
            0,
            null,
            0,
            0,
            null,
            0,
            -0.7067642026365345,
            null,
            1.1830902686808695,
            0.2816001406410638,
            null,
            0.2816001406410638,
            0.6967253079832157,
            null,
            0.6967253079832157,
            1.1830902686808695,
            null
           ],
           "y": [
            0.025079282823101328,
            1,
            null,
            1,
            0,
            null,
            0,
            0.025079282823101328,
            null,
            0.147676565284094,
            1.186656193729127,
            null,
            1.186656193729127,
            0.4290965330497874,
            null,
            0.4290965330497874,
            0.147676565284094,
            null
           ],
           "z": [
            -0.7413826858922871,
            0,
            null,
            0,
            0,
            null,
            0,
            -0.7413826858922871,
            null,
            -2.398521079500989,
            -2.079653093609516,
            null,
            -2.079653093609516,
            -1.5612468731380442,
            null,
            -1.5612468731380442,
            -2.398521079500989,
            null
           ]
          },
          {
           "i": [
            0,
            3
           ],
           "j": [
            1,
            4
           ],
           "k": [
            2,
            5
           ],
           "name": "Faces",
           "type": "mesh3d",
           "x": {
            "bdata": "AAAAAAAAAAB91gn2z53mvwAAAAAAAAAAiauC35JL5j/4M8MP8O3yPzmNppi8BdI/",
            "dtype": "f8"
           },
           "y": {
            "bdata": "AAAAAAAAAACbISEuYq6ZPwAAAAAAAPA/CacRTlF22z8E8SPREOfCP1uZejSL/PI/",
            "dtype": "f8"
           },
           "z": {
            "bdata": "AAAAAAAAAADjS7cuaLnnvwAAAAAAAAAAOMNRAN76+L9zydnRKzADwPKfQCkhowDA",
            "dtype": "f8"
           }
          }
         ],
         "layout": {
          "annotations": [
           {
            "showarrow": false,
            "text": "Time: 0.73s (Step: 74/100)",
            "x": 0.05,
            "xref": "paper",
            "y": 0.95,
            "yref": "paper"
           }
          ]
         },
         "name": "73"
        },
        {
         "data": [
          {
           "name": "Free Nodes",
           "type": "scatter3d",
           "x": {
            "bdata": "OSjHv/Rs579HdAzEzLPmP6LyNJoj3fI/QEAyGZf30T8=",
            "dtype": "f8"
           },
           "y": {
            "bdata": "EW7GnMwpmT895/Eh1tzbP5Lu+eJ9b8I/oaF6JvLy8j8=",
            "dtype": "f8"
           },
           "z": {
            "bdata": "h/CErpvk5r8c2au8+/T5v4qi1E7tuQPAaCB6aTMjAcA=",
            "dtype": "f8"
           }
          },
          {
           "name": "Fixed Nodes",
           "type": "scatter3d",
           "x": {
            "bdata": "AAAAAAAAAAAAAAAAAAAAAA==",
            "dtype": "f8"
           },
           "y": {
            "bdata": "AAAAAAAAAAAAAAAAAADwPw==",
            "dtype": "f8"
           },
           "z": {
            "bdata": "AAAAAAAAAAAAAAAAAAAAAA==",
            "dtype": "f8"
           }
          },
          {
           "name": "Edges",
           "type": "scatter3d",
           "x": [
            -0.7320502992308838,
            0,
            null,
            0,
            0,
            null,
            0,
            -0.7320502992308838,
            null,
            1.1789890311912719,
            0.2807367082650707,
            null,
            0.2807367082650707,
            0.709448225886839,
            null,
            0.709448225886839,
            1.1789890311912719,
            null
           ],
           "y": [
            0.02457351405028702,
            1,
            null,
            1,
            0,
            null,
            0,
            0.02457351405028702,
            null,
            0.14402745802714328,
            1.1843129637801229,
            null,
            1.1843129637801229,
            0.4353537875646117,
            null,
            0.4353537875646117,
            0.14402745802714328,
            null
           ],
           "z": [
            -0.71540626607704,
            0,
            null,
            0,
            0,
            null,
            0,
            -0.71540626607704,
            null,
            -2.4657846602097537,
            -2.1421879043955876,
            null,
            -2.1421879043955876,
            -1.6223103876087128,
            null,
            -1.6223103876087128,
            -2.4657846602097537,
            null
           ]
          },
          {
           "i": [
            0,
            3
           ],
           "j": [
            1,
            4
           ],
           "k": [
            2,
            5
           ],
           "name": "Faces",
           "type": "mesh3d",
           "x": {
            "bdata": "AAAAAAAAAAA5KMe/9GznvwAAAAAAAAAAR3QMxMyz5j+i8jSaI93yP0BAMhmX99E/",
            "dtype": "f8"
           },
           "y": {
            "bdata": "AAAAAAAAAAARbsaczCmZPwAAAAAAAPA/PefxIdbc2z+S7vnifW/CP6Gheiby8vI/",
            "dtype": "f8"
           },
           "z": {
            "bdata": "AAAAAAAAAACH8ISum+TmvwAAAAAAAAAAHNmrvPv0+b+KotRO7bkDwGggemkzIwHA",
            "dtype": "f8"
           }
          }
         ],
         "layout": {
          "annotations": [
           {
            "showarrow": false,
            "text": "Time: 0.74s (Step: 75/100)",
            "x": 0.05,
            "xref": "paper",
            "y": 0.95,
            "yref": "paper"
           }
          ]
         },
         "name": "74"
        },
        {
         "data": [
          {
           "name": "Free Nodes",
           "type": "scatter3d",
           "x": {
            "bdata": "oLOzfyYw6L8+0RgcUhznPwvwDmxMzPI/2c8XlQXp0T8=",
            "dtype": "f8"
           },
           "y": {
            "bdata": "mt/auBeSmD8dS+IFf0TcP0T2VXQ09sE/uN+F5Ebp8j8=",
            "dtype": "f8"
           },
           "z": {
            "bdata": "WMtlxvMM5r9EelE1jvT6v1S8GjhJRQTA5Z4I2vekAcA=",
            "dtype": "f8"
           }
          },
          {
           "name": "Fixed Nodes",
           "type": "scatter3d",
           "x": {
            "bdata": "AAAAAAAAAAAAAAAAAAAAAA==",
            "dtype": "f8"
           },
           "y": {
            "bdata": "AAAAAAAAAAAAAAAAAADwPw==",
            "dtype": "f8"
           },
           "z": {
            "bdata": "AAAAAAAAAAAAAAAAAAAAAA==",
            "dtype": "f8"
           }
          },
          {
           "name": "Edges",
           "type": "scatter3d",
           "x": [
            -0.7558777326754473,
            0,
            null,
            0,
            0,
            null,
            0,
            -0.7558777326754473,
            null,
            1.1748775692967708,
            0.27984752235283633,
            null,
            0.27984752235283633,
            0.7222071217316068,
            null,
            0.7222071217316068,
            1.1748775692967708,
            null
           ],
           "y": [
            0.023994799287464376,
            1,
            null,
            1,
            0,
            null,
            0,
            0.023994799287464376,
            null,
            0.1403260772748799,
            1.1819523741414582,
            null,
            1.1819523741414582,
            0.4416806752644094,
            null,
            0.4416806752644094,
            0.1403260772748799,
            null
           ],
           "z": [
            -0.689081084723834,
            0,
            null,
            0,
            0,
            null,
            0,
            -0.689081084723834,
            null,
            -2.5338310607108188,
            -2.2055508645897697,
            null,
            -2.2055508645897697,
            -1.6847059328789706,
            null,
            -1.6847059328789706,
            -2.5338310607108188,
            null
           ]
          },
          {
           "i": [
            0,
            3
           ],
           "j": [
            1,
            4
           ],
           "k": [
            2,
            5
           ],
           "name": "Faces",
           "type": "mesh3d",
           "x": {
            "bdata": "AAAAAAAAAACgs7N/JjDovwAAAAAAAAAAPtEYHFIc5z8L8A5sTMzyP9nPF5UF6dE/",
            "dtype": "f8"
           },
           "y": {
            "bdata": "AAAAAAAAAACa39q4F5KYPwAAAAAAAPA/HUviBX9E3D9E9lV0NPbBP7jfheRG6fI/",
            "dtype": "f8"
           },
           "z": {
            "bdata": "AAAAAAAAAABYy2XG8wzmvwAAAAAAAAAARHpRNY70+r9UvBo4SUUEwOWeCNr3pAHA",
            "dtype": "f8"
           }
          }
         ],
         "layout": {
          "annotations": [
           {
            "showarrow": false,
            "text": "Time: 0.75s (Step: 76/100)",
            "x": 0.05,
            "xref": "paper",
            "y": 0.95,
            "yref": "paper"
           }
          ]
         },
         "name": "75"
        },
        {
         "data": [
          {
           "name": "Free Nodes",
           "type": "scatter3d",
           "x": {
            "bdata": "RclS63/n6L8Qumn2EoXnP/CDWVZtu/I/zO2xqhza0T8=",
            "dtype": "f8"
           },
           "y": {
            "bdata": "Rnp0uFDmlz/lVZ1MMK3cP14GpFRje8E/CDMAgIrf8j8=",
            "dtype": "f8"
           },
           "z": {
            "bdata": "FTWl2j8z5b92AxCXkPn7v4QlfGdA0gTAU161CnAoAsA=",
            "dtype": "f8"
           }
          },
          {
           "name": "Fixed Nodes",
           "type": "scatter3d",
           "x": {
            "bdata": "AAAAAAAAAAAAAAAAAAAAAA==",
            "dtype": "f8"
           },
           "y": {
            "bdata": "AAAAAAAAAAAAAAAAAADwPw==",
            "dtype": "f8"
           },
           "z": {
            "bdata": "AAAAAAAAAAAAAAAAAAAAAA==",
            "dtype": "f8"
           }
          },
          {
           "name": "Edges",
           "type": "scatter3d",
           "x": [
            -0.7782592388305508,
            0,
            null,
            0,
            0,
            null,
            0,
            -0.7782592388305508,
            null,
            1.1707585690530742,
            0.2789374987548541,
            null,
            0.2789374987548541,
            0.7349943936113181,
            null,
            0.7349943936113181,
            1.1707585690530742,
            null
           ],
           "y": [
            0.023339520700682813,
            1,
            null,
            1,
            0,
            null,
            0,
            0.023339520700682813,
            null,
            0.13657800324294816,
            1.179575443270723,
            null,
            1.179575443270723,
            0.44807059747594585,
            null,
            0.44807059747594585,
            0.13657800324294816,
            null
           ],
           "z": [
            -0.662506033937151,
            0,
            null,
            0,
            0,
            null,
            0,
            -0.662506033937151,
            null,
            -2.6026619038354415,
            -2.2697449528311977,
            null,
            -2.2697449528311977,
            -1.748428907478425,
            null,
            -1.748428907478425,
            -2.6026619038354415,
            null
           ]
          },
          {
           "i": [
            0,
            3
           ],
           "j": [
            1,
            4
           ],
           "k": [
            2,
            5
           ],
           "name": "Faces",
           "type": "mesh3d",
           "x": {
            "bdata": "AAAAAAAAAABFyVLrf+fovwAAAAAAAAAAELpp9hKF5z/wg1lWbbvyP8ztsaoc2tE/",
            "dtype": "f8"
           },
           "y": {
            "bdata": "AAAAAAAAAABGenS4UOaXPwAAAAAAAPA/5VWdTDCt3D9eBqRUY3vBPwgzAICK3/I/",
            "dtype": "f8"
           },
           "z": {
            "bdata": "AAAAAAAAAAAVNaXaPzPlvwAAAAAAAAAAdgMQl5D5+7+EJXxnQNIEwFNetQpwKALA",
            "dtype": "f8"
           }
          }
         ],
         "layout": {
          "annotations": [
           {
            "showarrow": false,
            "text": "Time: 0.76s (Step: 77/100)",
            "x": 0.05,
            "xref": "paper",
            "y": 0.95,
            "yref": "paper"
           }
          ]
         },
         "name": "76"
        },
        {
         "data": [
          {
           "name": "Free Nodes",
           "type": "scatter3d",
           "x": {
            "bdata": "YppqVymT6b93iNgSAO7nP/waQOyHqvI/+DOgjfTK0T8=",
            "dtype": "f8"
           },
           "y": {
            "bdata": "dMD8rwsmlz98czOvyxbdP/2bFDdG/8A/9HA/FL3V8j8=",
            "dtype": "f8"
           },
           "z": {
            "bdata": "fUKsGElY5L/8+mvq+gP9v5zNdU7UYAXACyzBhZ6tAsA=",
            "dtype": "f8"
           }
          },
          {
           "name": "Fixed Nodes",
           "type": "scatter3d",
           "x": {
            "bdata": "AAAAAAAAAAAAAAAAAAAAAA==",
            "dtype": "f8"
           },
           "y": {
            "bdata": "AAAAAAAAAAAAAAAAAADwPw==",
            "dtype": "f8"
           },
           "z": {
            "bdata": "AAAAAAAAAAAAAAAAAAAAAA==",
            "dtype": "f8"
           }
          },
          {
           "name": "Edges",
           "type": "scatter3d",
           "x": [
            -0.7992140490867536,
            0,
            null,
            0,
            0,
            null,
            0,
            -0.7992140490867536,
            null,
            1.1666335323840817,
            0.27801240759509893,
            null,
            0.27801240759509893,
            0.7478027694780981,
            null,
            0.7478027694780981,
            1.1666335323840817,
            null
           ],
           "y": [
            0.02260607015267664,
            1,
            null,
            1,
            0,
            null,
            0,
            0.02260607015267664,
            null,
            0.1327903527210025,
            1.177182272999798,
            null,
            1.177182272999798,
            0.4545163355776862,
            null,
            0.4545163355776862,
            0.1327903527210025,
            null
           ],
           "z": [
            -0.6357770425693868,
            0,
            null,
            0,
            0,
            null,
            0,
            -0.6357770425693868,
            null,
            -2.672279942483966,
            -2.33477501388325,
            null,
            -2.33477501388325,
            -1.8134717137433531,
            null,
            -1.8134717137433531,
            -2.672279942483966,
            null
           ]
          },
          {
           "i": [
            0,
            3
           ],
           "j": [
            1,
            4
           ],
           "k": [
            2,
            5
           ],
           "name": "Faces",
           "type": "mesh3d",
           "x": {
            "bdata": "AAAAAAAAAABimmpXKZPpvwAAAAAAAAAAd4jYEgDu5z/8GkDsh6ryP/gzoI30ytE/",
            "dtype": "f8"
           },
           "y": {
            "bdata": "AAAAAAAAAAB0wPyvCyaXPwAAAAAAAPA/fHMzr8sW3T/9mxQ3Rv/AP/RwPxS91fI/",
            "dtype": "f8"
           },
           "z": {
            "bdata": "AAAAAAAAAAB9QqwYSVjkvwAAAAAAAAAA/Ppr6voD/b+czXVO1GAFwAsswYWerQLA",
            "dtype": "f8"
           }
          }
         ],
         "layout": {
          "annotations": [
           {
            "showarrow": false,
            "text": "Time: 0.77s (Step: 78/100)",
            "x": 0.05,
            "xref": "paper",
            "y": 0.95,
            "yref": "paper"
           }
          ]
         },
         "name": "77"
        },
        {
         "data": [
          {
           "name": "Free Nodes",
           "type": "scatter3d",
           "x": {
            "bdata": "RN/1IFgz6r9xV2LiClfoP9vvFNScmfI/s4Gfwqe70T8=",
            "dtype": "f8"
           },
           "y": {
            "bdata": "vGTpnmFRlj9EJmOLMoHdP6PWtsIggsA/8xTy1N3L8j8=",
            "dtype": "f8"
           },
           "z": {
            "bdata": "WVbj7tF847//obsEwxP+vxfP1NQG8QXA/syzeIY0A8A=",
            "dtype": "f8"
           }
          },
          {
           "name": "Fixed Nodes",
           "type": "scatter3d",
           "x": {
            "bdata": "AAAAAAAAAAAAAAAAAAAAAA==",
            "dtype": "f8"
           },
           "y": {
            "bdata": "AAAAAAAAAAAAAAAAAADwPw==",
            "dtype": "f8"
           },
           "z": {
            "bdata": "AAAAAAAAAAAAAAAAAAAAAA==",
            "dtype": "f8"
           }
          },
          {
           "name": "Edges",
           "type": "scatter3d",
           "x": [
            -0.8187676090010219,
            0,
            null,
            0,
            0,
            null,
            0,
            -0.8187676090010219,
            null,
            1.1625030788845752,
            0.2770785713783212,
            null,
            0.2770785713783212,
            0.7606253072324148,
            null,
            0.7606253072324148,
            1.1625030788845752,
            null
           ],
           "y": [
            0.02179482014102939,
            1,
            null,
            1,
            0,
            null,
            0,
            0.02179482014102939,
            null,
            0.12897119052438652,
            1.1747721021832234,
            null,
            1.1747721021832234,
            0.46101058589974664,
            null,
            0.46101058589974664,
            0.12897119052438652,
            null
           ],
           "z": [
            -0.6089868226797065,
            0,
            null,
            0,
            0,
            null,
            0,
            -0.6089868226797065,
            null,
            -2.742688811058439,
            -2.400647109019359,
            null,
            -2.400647109019359,
            -1.879824655998277,
            null,
            -1.879824655998277,
            -2.742688811058439,
            null
           ]
          },
          {
           "i": [
            0,
            3
           ],
           "j": [
            1,
            4
           ],
           "k": [
            2,
            5
           ],
           "name": "Faces",
           "type": "mesh3d",
           "x": {
            "bdata": "AAAAAAAAAABE3/UgWDPqvwAAAAAAAAAAcVdi4gpX6D/b7xTUnJnyP7OBn8Knu9E/",
            "dtype": "f8"
           },
           "y": {
            "bdata": "AAAAAAAAAAC8ZOmeYVGWPwAAAAAAAPA/RCZjizKB3T+j1rbCIILAP/MU8tTdy/I/",
            "dtype": "f8"
           },
           "z": {
            "bdata": "AAAAAAAAAABZVuPu0XzjvwAAAAAAAAAA/6G7BMMT/r8Xz9TUBvEFwP7Ms3iGNAPA",
            "dtype": "f8"
           }
          }
         ],
         "layout": {
          "annotations": [
           {
            "showarrow": false,
            "text": "Time: 0.78s (Step: 79/100)",
            "x": 0.05,
            "xref": "paper",
            "y": 0.95,
            "yref": "paper"
           }
          ]
         },
         "name": "78"
        },
        {
         "data": [
          {
           "name": "Free Nodes",
           "type": "scatter3d",
           "x": {
            "bdata": "ZyIw/k3I6r8Y7gBxJcDoP6RYCSisiPI/afD2yFGs0T8=",
            "dtype": "f8"
           },
           "y": {
            "bdata": "3KuaketolT8pQo6/R+zdPzN0xmU5BMA/TjK4POvB8j8=",
            "dtype": "f8"
           },
           "z": {
            "bdata": "pDNph5Wh4r/dCeuQ3Sj/v7ENFjDaggbAwFSaWCu9A8A=",
            "dtype": "f8"
           }
          },
          {
           "name": "Fixed Nodes",
           "type": "scatter3d",
           "x": {
            "bdata": "AAAAAAAAAAAAAAAAAAAAAA==",
            "dtype": "f8"
           },
           "y": {
            "bdata": "AAAAAAAAAAAAAAAAAADwPw==",
            "dtype": "f8"
           },
           "z": {
            "bdata": "AAAAAAAAAAAAAAAAAAAAAA==",
            "dtype": "f8"
           }
          },
          {
           "name": "Edges",
           "type": "scatter3d",
           "x": [
            -0.8369512524232733,
            0,
            null,
            0,
            0,
            null,
            0,
            -0.8369512524232733,
            null,
            1.1583673061300397,
            0.27614254594278137,
            null,
            0.27614254594278137,
            0.7734553534605224,
            null,
            0.7734553534605224,
            1.1583673061300397,
            null
           ],
           "y": [
            0.020908051263784574,
            1,
            null,
            1,
            0,
            null,
            0,
            0.020908051263784574,
            null,
            0.12512891263477996,
            1.1723434802871853,
            null,
            1.1723434802871853,
            0.46754640299426115,
            null,
            0.46754640299426115,
            0.12512891263477996,
            null
           ],
           "z": [
            -0.5822246212716107,
            0,
            null,
            0,
            0,
            null,
            0,
            -0.5822246212716107,
            null,
            -2.8138927227716626,
            -2.4673678323839283,
            null,
            -2.4673678323839283,
            -1.9474769268859895,
            null,
            -1.9474769268859895,
            -2.8138927227716626,
            null
           ]
          },
          {
           "i": [
            0,
            3
           ],
           "j": [
            1,
            4
           ],
           "k": [
            2,
            5
           ],
           "name": "Faces",
           "type": "mesh3d",
           "x": {
            "bdata": "AAAAAAAAAABnIjD+TcjqvwAAAAAAAAAAGO4AcSXA6D+kWAkorIjyP2nw9shRrNE/",
            "dtype": "f8"
           },
           "y": {
            "bdata": "AAAAAAAAAADcq5qR62iVPwAAAAAAAPA/KUKOv0fs3T8zdMZlOQTAP04yuDzrwfI/",
            "dtype": "f8"
           },
           "z": {
            "bdata": "AAAAAAAAAACkM2mHlaHivwAAAAAAAAAA3QnrkN0o/7+xDRYw2oIGwMBUmlgrvQPA",
            "dtype": "f8"
           }
          }
         ],
         "layout": {
          "annotations": [
           {
            "showarrow": false,
            "text": "Time: 0.79s (Step: 80/100)",
            "x": 0.05,
            "xref": "paper",
            "y": 0.95,
            "yref": "paper"
           }
          ]
         },
         "name": "79"
        },
        {
         "data": [
          {
           "name": "Free Nodes",
           "type": "scatter3d",
           "x": {
            "bdata": "KzFeLlhS67+/kXg9QinpP7v4Jd21d/I/5Wf7zg2d0T8=",
            "dtype": "f8"
           },
           "y": {
            "bdata": "ceYohbttlD/v+B8A8VfeP8DbcteoC78/bT0IVeO38j8=",
            "dtype": "f8"
           },
           "z": {
            "bdata": "edPfQkfH4b/55iSMnyEAwH6R6bZQFgfAkO0cipBHBMA=",
            "dtype": "f8"
           }
          },
          {
           "name": "Fixed Nodes",
           "type": "scatter3d",
           "x": {
            "bdata": "AAAAAAAAAAAAAAAAAAAAAA==",
            "dtype": "f8"
           },
           "y": {
            "bdata": "AAAAAAAAAAAAAAAAAADwPw==",
            "dtype": "f8"
           },
           "z": {
            "bdata": "AAAAAAAAAAAAAAAAAAAAAA==",
            "dtype": "f8"
           }
          },
          {
           "name": "Edges",
           "type": "scatter3d",
           "x": [
            -0.8538018136619362,
            0,
            null,
            0,
            0,
            null,
            0,
            -0.8538018136619362,
            null,
            1.154226173267985,
            0.2752108117398378,
            null,
            0.2752108117398378,
            0.7862864685635528,
            null,
            0.7862864685635528,
            1.154226173267985,
            null
           ],
           "y": [
            0.019949846270014896,
            1,
            null,
            1,
            0,
            null,
            0,
            0.019949846270014896,
            null,
            0.12127166042306126,
            1.1698945352144066,
            null,
            1.1698945352144066,
            0.4741175175876284,
            null,
            0.4741175175876284,
            0.12127166042306126,
            null
           ],
           "z": [
            -0.5555759721888612,
            0,
            null,
            0,
            0,
            null,
            0,
            -0.5555759721888612,
            null,
            -2.8858961381940267,
            -2.5349436559751624,
            null,
            -2.5349436559751624,
            -2.016417593837897,
            null,
            -2.016417593837897,
            -2.8858961381940267,
            null
           ]
          },
          {
           "i": [
            0,
            3
           ],
           "j": [
            1,
            4
           ],
           "k": [
            2,
            5
           ],
           "name": "Faces",
           "type": "mesh3d",
           "x": {
            "bdata": "AAAAAAAAAAArMV4uWFLrvwAAAAAAAAAAv5F4PUIp6T+7+CXdtXfyP+Vn+84NndE/",
            "dtype": "f8"
           },
           "y": {
            "bdata": "AAAAAAAAAABx5iiFu22UPwAAAAAAAPA/7/gfAPFX3j/A23LXqAu/P209CFXjt/I/",
            "dtype": "f8"
           },
           "z": {
            "bdata": "AAAAAAAAAAB5099CR8fhvwAAAAAAAAAA+eYkjJ8hAMB+kem2UBYHwJDtHIqQRwTA",
            "dtype": "f8"
           }
          }
         ],
         "layout": {
          "annotations": [
           {
            "showarrow": false,
            "text": "Time: 0.80s (Step: 81/100)",
            "x": 0.05,
            "xref": "paper",
            "y": 0.95,
            "yref": "paper"
           }
          ]
         },
         "name": "80"
        },
        {
         "data": [
          {
           "name": "Free Nodes",
           "type": "scatter3d",
           "x": {
            "bdata": "wtA2g87R678nt9ADVJLpP2wSIye6ZvI/dfW8jfWN0T8=",
            "dtype": "f8"
           },
           "y": {
            "bdata": "4/7zjlNhkz+w+HSYF8TeP7ZT4YdfDr4/BO4eDcSt8j8=",
            "dtype": "f8"
           },
           "z": {
            "bdata": "9+H7NJLu4L/QS+B6brEAwCIfoLRsqwfAGH52FLnTBMA=",
            "dtype": "f8"
           }
          },
          {
           "name": "Fixed Nodes",
           "type": "scatter3d",
           "x": {
            "bdata": "AAAAAAAAAAAAAAAAAAAAAA==",
            "dtype": "f8"
           },
           "y": {
            "bdata": "AAAAAAAAAAAAAAAAAADwPw==",
            "dtype": "f8"
           },
           "z": {
            "bdata": "AAAAAAAAAAAAAAAAAAAAAA==",
            "dtype": "f8"
           }
          },
          {
           "name": "Edges",
           "type": "scatter3d",
           "x": [
            -0.8693611681724394,
            0,
            null,
            0,
            0,
            null,
            0,
            -0.8693611681724394,
            null,
            1.1500798729695374,
            0.2742895015870411,
            null,
            0.2742895015870411,
            0.7991123270528292,
            null,
            0.7991123270528292,
            1.1500798729695374,
            null
           ],
           "y": [
            0.018925958252110752,
            1,
            null,
            1,
            0,
            null,
            0,
            0.018925958252110752,
            null,
            0.11740681712519926,
            1.1674232971698766,
            null,
            1.1674232971698766,
            0.4807185162388903,
            null,
            0.4807185162388903,
            0.11740681712519926,
            null
           ],
           "z": [
            -0.5291224512903331,
            0,
            null,
            0,
            0,
            null,
            0,
            -0.5291224512903331,
            null,
            -2.9587034331670035,
            -2.6033803557072694,
            null,
            -2.6033803557072694,
            -2.086636505098319,
            null,
            -2.086636505098319,
            -2.9587034331670035,
            null
           ]
          },
          {
           "i": [
            0,
            3
           ],
           "j": [
            1,
            4
           ],
           "k": [
            2,
            5
           ],
           "name": "Faces",
           "type": "mesh3d",
           "x": {
            "bdata": "AAAAAAAAAADC0DaDztHrvwAAAAAAAAAAJ7fQA1SS6T9sEiMnumbyP3X1vI31jdE/",
            "dtype": "f8"
           },
           "y": {
            "bdata": "AAAAAAAAAADj/vOOU2GTPwAAAAAAAPA/sPh0mBfE3j+2U+GHXw6+PwTuHg3ErfI/",
            "dtype": "f8"
           },
           "z": {
            "bdata": "AAAAAAAAAAD34fs0ku7gvwAAAAAAAAAA0Evgem6xAMAiH6C0bKsHwBh+dhS50wTA",
            "dtype": "f8"
           }
          }
         ],
         "layout": {
          "annotations": [
           {
            "showarrow": false,
            "text": "Time: 0.81s (Step: 82/100)",
            "x": 0.05,
            "xref": "paper",
            "y": 0.95,
            "yref": "paper"
           }
          ]
         },
         "name": "81"
        },
        {
         "data": [
          {
           "name": "Free Nodes",
           "type": "scatter3d",
           "x": {
            "bdata": "NEjQQxJH7L/b8H5/TfvpP3EtuNC5VfI/H1VyYyB/0T8=",
            "dtype": "f8"
           },
           "y": {
            "bdata": "YbH4m5tFkj/hnlCdqDDfP8vyFpb/EL0/jYI3lIuj8j8=",
            "dtype": "f8"
           },
           "z": {
            "bdata": "3rfJpxgY4L/cNJ0Q10MBwNlzWkAwQgjAtMeQZKdhBcA=",
            "dtype": "f8"
           }
          },
          {
           "name": "Fixed Nodes",
           "type": "scatter3d",
           "x": {
            "bdata": "AAAAAAAAAAAAAAAAAAAAAA==",
            "dtype": "f8"
           },
           "y": {
            "bdata": "AAAAAAAAAAAAAAAAAADwPw==",
            "dtype": "f8"
           },
           "z": {
            "bdata": "AAAAAAAAAAAAAAAAAAAAAA==",
            "dtype": "f8"
           }
          },
          {
           "name": "Edges",
           "type": "scatter3d",
           "x": [
            -0.883675701569024,
            0,
            null,
            0,
            0,
            null,
            0,
            -0.883675701569024,
            null,
            1.1459291604140527,
            0.27338418685515536,
            null,
            0.27338418685515536,
            0.8119266023782318,
            null,
            0.8119266023782318,
            1.1459291604140527,
            null
           ],
           "y": [
            0.01784365787004683,
            1,
            null,
            1,
            0,
            null,
            0,
            0.01784365787004683,
            null,
            0.11354062475488573,
            1.164928034755721,
            null,
            1.164928034755721,
            0.4873448883322294,
            null,
            0.4873448883322294,
            0.11354062475488573,
            null
           ],
           "z": [
            -0.5029414441212301,
            0,
            null,
            0,
            0,
            null,
            0,
            -0.5029414441212301,
            null,
            -3.0323185947040483,
            -2.6726825577433946,
            null,
            -2.6726825577433946,
            -2.158125047490655,
            null,
            -2.158125047490655,
            -3.0323185947040483,
            null
           ]
          },
          {
           "i": [
            0,
            3
           ],
           "j": [
            1,
            4
           ],
           "k": [
            2,
            5
           ],
           "name": "Faces",
           "type": "mesh3d",
           "x": {
            "bdata": "AAAAAAAAAAA0SNBDEkfsvwAAAAAAAAAA2/B+f0376T9xLbjQuVXyPx9VcmMgf9E/",
            "dtype": "f8"
           },
           "y": {
            "bdata": "AAAAAAAAAABhsfibm0WSPwAAAAAAAPA/4Z5Qnagw3z/L8haW/xC9P42CN5SLo/I/",
            "dtype": "f8"
           },
           "z": {
            "bdata": "AAAAAAAAAADet8mnGBjgvwAAAAAAAAAA3DSdENdDAcDZc1pAMEIIwLTHkGSnYQXA",
            "dtype": "f8"
           }
          }
         ],
         "layout": {
          "annotations": [
           {
            "showarrow": false,
            "text": "Time: 0.82s (Step: 83/100)",
            "x": 0.05,
            "xref": "paper",
            "y": 0.95,
            "yref": "paper"
           }
          ]
         },
         "name": "82"
        },
        {
         "data": [
          {
           "name": "Free Nodes",
           "type": "scatter3d",
           "x": {
            "bdata": "BU7Z7Yyy7L8ehZEqIWTqP6F9nYG2RPI//yoevaJw0T8=",
            "dtype": "f8"
           },
           "y": {
            "bdata": "d2yc89UckT8TM5mmlJ3fP8bNtI3aE7w/11eeqziZ8j8=",
            "dtype": "f8"
           },
           "z": {
            "bdata": "xerTWOeI3r8kWcXi1dgBwFrbiRud2gjApseQI13xBcA=",
            "dtype": "f8"
           }
          },
          {
           "name": "Fixed Nodes",
           "type": "scatter3d",
           "x": {
            "bdata": "AAAAAAAAAAAAAAAAAAAAAA==",
            "dtype": "f8"
           },
           "y": {
            "bdata": "AAAAAAAAAAAAAAAAAADwPw==",
            "dtype": "f8"
           },
           "z": {
            "bdata": "AAAAAAAAAAAAAAAAAAAAAA==",
            "dtype": "f8"
           }
          },
          {
           "name": "Edges",
           "type": "scatter3d",
           "x": [
            -0.8967957158551491,
            0,
            null,
            0,
            0,
            null,
            0,
            -0.8967957158551491,
            null,
            1.1417756140798263,
            0.27249973743953143,
            null,
            0.27249973743953143,
            0.8247228461661142,
            null,
            0.8247228461661142,
            1.1417756140798263,
            null
           ],
           "y": [
            0.01671156215080002,
            1,
            null,
            1,
            0,
            null,
            0,
            0.01671156215080002,
            null,
            0.10967794379830939,
            1.1624075607155555,
            null,
            1.1624075607155555,
            0.493992960637841,
            null,
            0.493992960637841,
            0.10967794379830939,
            null
           ],
           "z": [
            -0.47710593866910883,
            0,
            null,
            0,
            0,
            null,
            0,
            -0.47710593866910883,
            null,
            -3.10674497141319,
            -2.7428534296568214,
            null,
            -2.7428534296568214,
            -2.2308767048335927,
            null,
            -2.2308767048335927,
            -3.10674497141319,
            null
           ]
          },
          {
           "i": [
            0,
            3
           ],
           "j": [
            1,
            4
           ],
           "k": [
            2,
            5
           ],
           "name": "Faces",
           "type": "mesh3d",
           "x": {
            "bdata": "AAAAAAAAAAAFTtntjLLsvwAAAAAAAAAAHoWRKiFk6j+hfZ2BtkTyP/8qHr2icNE/",
            "dtype": "f8"
           },
           "y": {
            "bdata": "AAAAAAAAAAB3bJzz1RyRPwAAAAAAAPA/EzOZppSd3z/GzbSN2hO8P9dXnqs4mfI/",
            "dtype": "f8"
           },
           "z": {
            "bdata": "AAAAAAAAAADF6tNY54jevwAAAAAAAAAAJFnF4tXYAcBa24kbndoIwKbHkCNd8QXA",
            "dtype": "f8"
           }
          }
         ],
         "layout": {
          "annotations": [
           {
            "showarrow": false,
            "text": "Time: 0.83s (Step: 84/100)",
            "x": 0.05,
            "xref": "paper",
            "y": 0.95,
            "yref": "paper"
           }
          ]
         },
         "name": "83"
        },
        {
         "data": [
          {
           "name": "Free Nodes",
           "type": "scatter3d",
           "x": {
            "bdata": "suDq3a4U7b//LHH/wMzqP3lZiO2yM/I/BasZ141i0T8=",
            "dtype": "f8"
           },
           "y": {
            "bdata": "os7dGSXTjz/gZyyYZwXgP7SmvUIpF7s/I7sQ58qO8j8=",
            "dtype": "f8"
           },
           "z": {
            "bdata": "SVS0gGXo3L9hZCPMaHACwMzNrpq0dAnADVorItuCBsA=",
            "dtype": "f8"
           }
          },
          {
           "name": "Fixed Nodes",
           "type": "scatter3d",
           "x": {
            "bdata": "AAAAAAAAAAAAAAAAAAAAAA==",
            "dtype": "f8"
           },
           "y": {
            "bdata": "AAAAAAAAAAAAAAAAAADwPw==",
            "dtype": "f8"
           },
           "z": {
            "bdata": "AAAAAAAAAAAAAAAAAAAAAA==",
            "dtype": "f8"
           }
          },
          {
           "name": "Edges",
           "type": "scatter3d",
           "x": [
            -0.9087747892690656,
            0,
            null,
            0,
            0,
            null,
            0,
            -0.9087747892690656,
            null,
            1.1376218107812675,
            0.27164026265988667,
            null,
            0.27164026265988667,
            0.8374943722823501,
            null,
            0.8374943722823501,
            1.1376218107812675,
            null
           ],
           "y": [
            0.01553944573581784,
            1,
            null,
            1,
            0,
            null,
            0,
            0.01553944573581784,
            null,
            0.10582216147818252,
            1.1598614717474411,
            null,
            1.1598614717474411,
            0.500659749234952,
            null,
            0.500659749234952,
            0.10582216147818252,
            null
           ],
           "z": [
            -0.45168435639181276,
            0,
            null,
            0,
            0,
            null,
            0,
            -0.45168435639181276,
            null,
            -3.181985100230781,
            -2.8138945264320285,
            null,
            -2.8138945264320285,
            -2.3048873852063,
            null,
            -2.3048873852063,
            -3.181985100230781,
            null
           ]
          },
          {
           "i": [
            0,
            3
           ],
           "j": [
            1,
            4
           ],
           "k": [
            2,
            5
           ],
           "name": "Faces",
           "type": "mesh3d",
           "x": {
            "bdata": "AAAAAAAAAACy4OrdrhTtvwAAAAAAAAAA/yxx/8DM6j95WYjtsjPyPwWrGdeNYtE/",
            "dtype": "f8"
           },
           "y": {
            "bdata": "AAAAAAAAAACizt0ZJdOPPwAAAAAAAPA/4GcsmGcF4D+0pr1CKRe7PyO7EOfKjvI/",
            "dtype": "f8"
           },
           "z": {
            "bdata": "AAAAAAAAAABJVLSAZejcvwAAAAAAAAAAYWQjzGhwAsDMza6atHQJwA1aKyLbggbA",
            "dtype": "f8"
           }
          }
         ],
         "layout": {
          "annotations": [
           {
            "showarrow": false,
            "text": "Time: 0.84s (Step: 85/100)",
            "x": 0.05,
            "xref": "paper",
            "y": 0.95,
            "yref": "paper"
           }
          ]
         },
         "name": "84"
        },
        {
         "data": [
          {
           "name": "Free Nodes",
           "type": "scatter3d",
           "x": {
            "bdata": "WsRo6u1t7b/YKApDHjXrP7uAp+myIvI/clXR0u9U0T8=",
            "dtype": "f8"
           },
           "y": {
            "bdata": "6xl4b0JdjT9g68vjJjzgP0t//JwMG7o/4OPP1EKE8j8=",
            "dtype": "f8"
           },
           "z": {
            "bdata": "oHXSGrdP278GTEX4jgoDwN4dTJp3EArAyLZPWCEWB8A=",
            "dtype": "f8"
           }
          },
          {
           "name": "Fixed Nodes",
           "type": "scatter3d",
           "x": {
            "bdata": "AAAAAAAAAAAAAAAAAAAAAA==",
            "dtype": "f8"
           },
           "y": {
            "bdata": "AAAAAAAAAAAAAAAAAADwPw==",
            "dtype": "f8"
           },
           "z": {
            "bdata": "AAAAAAAAAAAAAAAAAAAAAA==",
            "dtype": "f8"
           }
          },
          {
           "name": "Edges",
           "type": "scatter3d",
           "x": [
            -0.9196691110902393,
            0,
            null,
            0,
            0,
            null,
            0,
            -0.9196691110902393,
            null,
            1.1334714057084472,
            0.27080913150469776,
            null,
            0.27080913150469776,
            0.8502341565483915,
            null,
            0.8502341565483915,
            1.1334714057084472,
            null
           ],
           "y": [
            0.01433803465535007,
            1,
            null,
            1,
            0,
            null,
            0,
            0.01433803465535007,
            null,
            0.10197523911165012,
            1.1572902977916257,
            null,
            1.1572902977916257,
            0.5073427628661697,
            null,
            0.5073427628661697,
            0.10197523911165012,
            null
           ],
           "z": [
            -0.4267404329237596,
            0,
            null,
            0,
            0,
            null,
            0,
            -0.4267404329237596,
            null,
            -3.2580406240920032,
            -2.8858057879759578,
            null,
            -2.8858057879759578,
            -2.3801555057666546,
            null,
            -2.3801555057666546,
            -3.2580406240920032,
            null
           ]
          },
          {
           "i": [
            0,
            3
           ],
           "j": [
            1,
            4
           ],
           "k": [
            2,
            5
           ],
           "name": "Faces",
           "type": "mesh3d",
           "x": {
            "bdata": "AAAAAAAAAABaxGjq7W3tvwAAAAAAAAAA2CgKQx416z+7gKfpsiLyP3JV0dLvVNE/",
            "dtype": "f8"
           },
           "y": {
            "bdata": "AAAAAAAAAADrGXhvQl2NPwAAAAAAAPA/YOvL4yY84D9Lf/ycDBu6P+Djz9RChPI/",
            "dtype": "f8"
           },
           "z": {
            "bdata": "AAAAAAAAAACgddIat0/bvwAAAAAAAAAABkxF+I4KA8DeHUyadxAKwMi2T1ghFgfA",
            "dtype": "f8"
           }
          }
         ],
         "layout": {
          "annotations": [
           {
            "showarrow": false,
            "text": "Time: 0.85s (Step: 86/100)",
            "x": 0.05,
            "xref": "paper",
            "y": 0.95,
            "yref": "paper"
           }
          ]
         },
         "name": "85"
        },
        {
         "data": [
          {
           "name": "Free Nodes",
           "type": "scatter3d",
           "x": {
            "bdata": "TH1x/cO+7b9l7SJdKZ3rP/+yVmi7EfI/bkJJF9RH0T8=",
            "dtype": "f8"
           },
           "y": {
            "bdata": "oV+eOQXeij+70YWTA3PgP39rF1uQH7k/9hlECqJ58j8=",
            "dtype": "f8"
           },
           "z": {
            "bdata": "bngzkdO/2b/KE4vPSKcDwADE0IDmrQrAr+Eu9y6rB8A=",
            "dtype": "f8"
           }
          },
          {
           "name": "Fixed Nodes",
           "type": "scatter3d",
           "x": {
            "bdata": "AAAAAAAAAAAAAAAAAAAAAA==",
            "dtype": "f8"
           },
           "y": {
            "bdata": "AAAAAAAAAAAAAAAAAADwPw==",
            "dtype": "f8"
           },
           "z": {
            "bdata": "AAAAAAAAAAAAAAAAAAAAAA==",
            "dtype": "f8"
           }
          },
          {
           "name": "Edges",
           "type": "scatter3d",
           "x": [
            -0.9295368146958167,
            0,
            null,
            0,
            0,
            null,
            0,
            -0.9295368146958167,
            null,
            1.1293291164139985,
            0.2700090625194552,
            null,
            0.2700090625194552,
            0.8629347628661149,
            null,
            0.8629347628661149,
            1.1293291164139985,
            null
           ],
           "y": [
            0.013118782826310684,
            1,
            null,
            1,
            0,
            null,
            0,
            0.013118782826310684,
            null,
            0.09813787673867401,
            1.1546955491081667,
            null,
            1.1546955491081667,
            0.5140397912314748,
            null,
            0.5140397912314748,
            0.09813787673867401,
            null
           ],
           "z": [
            -0.4023331563929621,
            0,
            null,
            0,
            0,
            null,
            0,
            -0.4023331563929621,
            null,
            -3.3349123061857426,
            -2.9585856734449503,
            null,
            -2.9585856734449503,
            -2.4566818441694283,
            null,
            -2.4566818441694283,
            -3.3349123061857426,
            null
           ]
          },
          {
           "i": [
            0,
            3
           ],
           "j": [
            1,
            4
           ],
           "k": [
            2,
            5
           ],
           "name": "Faces",
           "type": "mesh3d",
           "x": {
            "bdata": "AAAAAAAAAABMfXH9w77tvwAAAAAAAAAAZe0iXSmd6z//slZouxHyP25CSRfUR9E/",
            "dtype": "f8"
           },
           "y": {
            "bdata": "AAAAAAAAAAChX545Bd6KPwAAAAAAAPA/u9GFkwNz4D9/axdbkB+5P/YZRAqiefI/",
            "dtype": "f8"
           },
           "z": {
            "bdata": "AAAAAAAAAABueDOR07/ZvwAAAAAAAAAAyhOLz0inA8AAxNCA5q0KwK/hLvcuqwfA",
            "dtype": "f8"
           }
          }
         ],
         "layout": {
          "annotations": [
           {
            "showarrow": false,
            "text": "Time: 0.86s (Step: 87/100)",
            "x": 0.05,
            "xref": "paper",
            "y": 0.95,
            "yref": "paper"
           }
          ]
         },
         "name": "86"
        },
        {
         "data": [
          {
           "name": "Free Nodes",
           "type": "scatter3d",
           "x": {
            "bdata": "09LTua0H7r847x/E0QTsPy+Dw1zSAPI/MD0C60M70T8=",
            "dtype": "f8"
           },
           "y": {
            "bdata": "5JAfUbBbiD91HmYx+angP6UngkuvJLg/3R+AFetu8j8=",
            "dtype": "f8"
           },
           "z": {
            "bdata": "xXe8Y5452L9tv53Hl0YEwF3T50wBTQvA18N0igJCCMA=",
            "dtype": "f8"
           }
          },
          {
           "name": "Fixed Nodes",
           "type": "scatter3d",
           "x": {
            "bdata": "AAAAAAAAAAAAAAAAAAAAAA==",
            "dtype": "f8"
           },
           "y": {
            "bdata": "AAAAAAAAAAAAAAAAAADwPw==",
            "dtype": "f8"
           },
           "z": {
            "bdata": "AAAAAAAAAAAAAAAAAAAAAA==",
            "dtype": "f8"
           }
          },
          {
           "name": "Edges",
           "type": "scatter3d",
           "x": [
            -0.9384373311464408,
            0,
            null,
            0,
            0,
            null,
            0,
            -0.9384373311464408,
            null,
            1.1252006171782332,
            0.2692422671325003,
            null,
            0.2692422671325003,
            0.8755883055268674,
            null,
            0.8755883055268674,
            1.1252006171782332,
            null
           ],
           "y": [
            0.0118936323887699,
            1,
            null,
            1,
            0,
            null,
            0,
            0.0118936323887699,
            null,
            0.09430976479975912,
            1.152079662309908,
            null,
            1.152079662309908,
            0.5207487072775182,
            null,
            0.5207487072775182,
            0.09430976479975912,
            null
           ],
           "z": [
            -0.378516766928325,
            0,
            null,
            0,
            0,
            null,
            0,
            -0.378516766928325,
            null,
            -3.4126001365897722,
            -3.0322314087756967,
            null,
            -3.0322314087756967,
            -2.5344691844001574,
            null,
            -2.5344691844001574,
            -3.4126001365897722,
            null
           ]
          },
          {
           "i": [
            0,
            3
           ],
           "j": [
            1,
            4
           ],
           "k": [
            2,
            5
           ],
           "name": "Faces",
           "type": "mesh3d",
           "x": {
            "bdata": "AAAAAAAAAADT0tO5rQfuvwAAAAAAAAAAOO8fxNEE7D8vg8Nc0gDyPzA9AutDO9E/",
            "dtype": "f8"
           },
           "y": {
            "bdata": "AAAAAAAAAADkkB9RsFuIPwAAAAAAAPA/dR5mMfmp4D+lJ4JLryS4P90fgBXrbvI/",
            "dtype": "f8"
           },
           "z": {
            "bdata": "AAAAAAAAAADFd7xjnjnYvwAAAAAAAAAAbb+dx5dGBMBd0+dMAU0LwNfDdIoCQgjA",
            "dtype": "f8"
           }
          }
         ],
         "layout": {
          "annotations": [
           {
            "showarrow": false,
            "text": "Time: 0.87s (Step: 88/100)",
            "x": 0.05,
            "xref": "paper",
            "y": 0.95,
            "yref": "paper"
           }
          ]
         },
         "name": "87"
        },
        {
         "data": [
          {
           "name": "Free Nodes",
           "type": "scatter3d",
           "x": {
            "bdata": "WjQhNSlJ7r9uRkMABmzsPynb9In+7/E/BW5cMUcv0T8=",
            "dtype": "f8"
           },
           "y": {
            "bdata": "Bd6XGabchT+6DlAdA+HgP3jCEGhYKrc/FBb1ViFk8j8=",
            "dtype": "f8"
           },
           "z": {
            "bdata": "1UpyaOe91r9C0igefugEwKOgVa7H7QvAP4WxJJraCMA=",
            "dtype": "f8"
           }
          },
          {
           "name": "Fixed Nodes",
           "type": "scatter3d",
           "x": {
            "bdata": "AAAAAAAAAAAAAAAAAAAAAA==",
            "dtype": "f8"
           },
           "y": {
            "bdata": "AAAAAAAAAAAAAAAAAADwPw==",
            "dtype": "f8"
           },
           "z": {
            "bdata": "AAAAAAAAAAAAAAAAAAAAAA==",
            "dtype": "f8"
           }
          },
          {
           "name": "Edges",
           "type": "scatter3d",
           "x": [
            -0.9464307820977738,
            0,
            null,
            0,
            0,
            null,
            0,
            -0.9464307820977738,
            null,
            1.1210923565792632,
            0.2685106260339299,
            null,
            0.2685106260339299,
            0.8881864552624401,
            null,
            0.8881864552624401,
            1.1210923565792632,
            null
           ],
           "y": [
            0.01067476049045891,
            1,
            null,
            1,
            0,
            null,
            0,
            0.01067476049045891,
            null,
            0.09048988857899498,
            1.1494458576938813,
            null,
            1.1494458576938813,
            0.5274673054231791,
            null,
            0.5274673054231791,
            0.09048988857899498,
            null
           ],
           "z": [
            -0.35534081649636323,
            0,
            null,
            0,
            0,
            null,
            0,
            -0.35534081649636323,
            null,
            -3.4911035175210414,
            -3.106739317576881,
            null,
            -3.106739317576881,
            -2.613521800633209,
            null,
            -2.613521800633209,
            -3.4911035175210414,
            null
           ]
          },
          {
           "i": [
            0,
            3
           ],
           "j": [
            1,
            4
           ],
           "k": [
            2,
            5
           ],
           "name": "Faces",
           "type": "mesh3d",
           "x": {
            "bdata": "AAAAAAAAAABaNCE1KUnuvwAAAAAAAAAAbkZDAAZs7D8p2/SJ/u/xPwVuXDFHL9E/",
            "dtype": "f8"
           },
           "y": {
            "bdata": "AAAAAAAAAAAF3pcZptyFPwAAAAAAAPA/ug5QHQPh4D94whBoWCq3PxQW9VYhZPI/",
            "dtype": "f8"
           },
           "z": {
            "bdata": "AAAAAAAAAADVSnJo573WvwAAAAAAAAAAQtIoHn7oBMCjoFWux+0LwD+FsSSa2gjA",
            "dtype": "f8"
           }
          }
         ],
         "layout": {
          "annotations": [
           {
            "showarrow": false,
            "text": "Time: 0.88s (Step: 89/100)",
            "x": 0.05,
            "xref": "paper",
            "y": 0.95,
            "yref": "paper"
           }
          ]
         },
         "name": "88"
        },
        {
         "data": [
          {
           "name": "Free Nodes",
           "type": "scatter3d",
           "x": {
            "bdata": "SZMszrSD7r+Qx47Is9LsPwd8AkJH3/E/cif1M+Uj0T8=",
            "dtype": "f8"
           },
           "y": {
            "bdata": "ceEUSkVngz+ocKtQHBjhP9wAIUF0MLY/PTnpyEhZ8j8=",
            "dtype": "f8"
           },
           "z": {
            "bdata": "fNVpR2tN1b98Lj2F/owFwGJLdCY5kAzAJSR6kvN0CcA=",
            "dtype": "f8"
           }
          },
          {
           "name": "Fixed Nodes",
           "type": "scatter3d",
           "x": {
            "bdata": "AAAAAAAAAAAAAAAAAAAAAA==",
            "dtype": "f8"
           },
           "y": {
            "bdata": "AAAAAAAAAAAAAAAAAADwPw==",
            "dtype": "f8"
           },
           "z": {
            "bdata": "AAAAAAAAAAAAAAAAAAAAAA==",
            "dtype": "f8"
           }
          },
          {
           "name": "Edges",
           "type": "scatter3d",
           "x": [
            -0.9535774256552055,
            0,
            null,
            0,
            0,
            null,
            0,
            -0.9535774256552055,
            null,
            1.1170113161567785,
            0.2678158767126809,
            null,
            0.2678158767126809,
            0.9007204930442061,
            null,
            0.9007204930442061,
            1.1170113161567785,
            null
           ],
           "y": [
            0.009474316905298182,
            1,
            null,
            1,
            0,
            null,
            0,
            0.009474316905298182,
            null,
            0.08667685117780216,
            1.1467979286276908,
            null,
            1.1467979286276908,
            0.5341931891994323,
            null,
            0.5341931891994323,
            0.08667685117780216,
            null
           ],
           "z": [
            -0.33285028432813824,
            0,
            null,
            0,
            0,
            null,
            0,
            -0.33285028432813824,
            null,
            -3.5704215053787474,
            -3.182105202057317,
            null,
            -3.182105202057317,
            -2.693844834260572,
            null,
            -2.693844834260572,
            -3.5704215053787474,
            null
           ]
          },
          {
           "i": [
            0,
            3
           ],
           "j": [
            1,
            4
           ],
           "k": [
            2,
            5
           ],
           "name": "Faces",
           "type": "mesh3d",
           "x": {
            "bdata": "AAAAAAAAAABJkyzOtIPuvwAAAAAAAAAAkMeOyLPS7D8HfAJCR9/xP3In9TPlI9E/",
            "dtype": "f8"
           },
           "y": {
            "bdata": "AAAAAAAAAABx4RRKRWeDPwAAAAAAAPA/qHCrUBwY4T/cACFBdDC2Pz056chIWfI/",
            "dtype": "f8"
           },
           "z": {
            "bdata": "AAAAAAAAAAB81WlHa03VvwAAAAAAAAAAfC49hf6MBcBiS3QmOZAMwCUkepLzdAnA",
            "dtype": "f8"
           }
          }
         ],
         "layout": {
          "annotations": [
           {
            "showarrow": false,
            "text": "Time: 0.89s (Step: 90/100)",
            "x": 0.05,
            "xref": "paper",
            "y": 0.95,
            "yref": "paper"
           }
          ]
         },
         "name": "89"
        },
        {
         "data": [
          {
           "name": "Free Nodes",
           "type": "scatter3d",
           "x": {
            "bdata": "uWgSJM637r8Xt+w4yDjtP0MRPxu0zvE/nDKtYSUZ0T8=",
            "dtype": "f8"
           },
           "y": {
            "bdata": "2JRzTcUBgT+ufzo/P0/hP+9kMjTqNrU/f3Oju2VO8j8=",
            "dtype": "f8"
           },
           "z": {
            "bdata": "D2s6KtTo07/WNpzJGzQGwMchpSxVNA3AoO+rjwwRCsA=",
            "dtype": "f8"
           }
          },
          {
           "name": "Fixed Nodes",
           "type": "scatter3d",
           "x": {
            "bdata": "AAAAAAAAAAAAAAAAAAAAAA==",
            "dtype": "f8"
           },
           "y": {
            "bdata": "AAAAAAAAAAAAAAAAAADwPw==",
            "dtype": "f8"
           },
           "z": {
            "bdata": "AAAAAAAAAAAAAAAAAAAAAA==",
            "dtype": "f8"
           }
          },
          {
           "name": "Edges",
           "type": "scatter3d",
           "x": [
            -0.9599371628312589,
            0,
            null,
            0,
            0,
            null,
            0,
            -0.9599371628312589,
            null,
            1.112964731627543,
            0.26715979136205603,
            null,
            0.26715979136205603,
            0.9131814109620987,
            null,
            0.9131814109620987,
            1.112964731627543,
            null
           ],
           "y": [
            0.008304158617145438,
            1,
            null,
            1,
            0,
            null,
            0,
            0.008304158617145438,
            null,
            0.08286918424927923,
            1.1441399888637702,
            null,
            1.1441399888637702,
            0.5409237132007456,
            null,
            0.5409237132007456,
            0.08286918424927923,
            null
           ],
           "z": [
            -0.31108574031684183,
            0,
            null,
            0,
            0,
            null,
            0,
            -0.31108574031684183,
            null,
            -3.6505530822653074,
            -3.2583247398706163,
            null,
            -3.2583247398706163,
            -2.7754436255262176,
            null,
            -2.7754436255262176,
            -3.6505530822653074,
            null
           ]
          },
          {
           "i": [
            0,
            3
           ],
           "j": [
            1,
            4
           ],
           "k": [
            2,
            5
           ],
           "name": "Faces",
           "type": "mesh3d",
           "x": {
            "bdata": "AAAAAAAAAAC5aBIkzrfuvwAAAAAAAAAAF7fsOMg47T9DET8btM7xP5wyrWElGdE/",
            "dtype": "f8"
           },
           "y": {
            "bdata": "AAAAAAAAAADYlHNNxQGBPwAAAAAAAPA/rn86Pz9P4T/vZDI06ja1P39zo7tlTvI/",
            "dtype": "f8"
           },
           "z": {
            "bdata": "AAAAAAAAAAAPazoq1OjTvwAAAAAAAAAA1jacyRs0BsDHIaUsVTQNwKDvq48MEQrA",
            "dtype": "f8"
           }
          }
         ],
         "layout": {
          "annotations": [
           {
            "showarrow": false,
            "text": "Time: 0.90s (Step: 91/100)",
            "x": 0.05,
            "xref": "paper",
            "y": 0.95,
            "yref": "paper"
           }
          ]
         },
         "name": "90"
        },
        {
         "data": [
          {
           "name": "Free Nodes",
           "type": "scatter3d",
           "x": {
            "bdata": "KJrELvHl7r9NbWweMJ7tP1FMnqFMvvE/HhmX8A8P0T8=",
            "dtype": "f8"
           },
           "y": {
            "bdata": "UQM5fCZkfT95m5rTZYbhP4+aEQOlPbQ/Rkq4jXxD8j8=",
            "dtype": "f8"
           },
           "z": {
            "bdata": "M/H0lLqQ0r+qFzt72N0GwPqKwFIb2g3AL1R5+uKuCsA=",
            "dtype": "f8"
           }
          },
          {
           "name": "Fixed Nodes",
           "type": "scatter3d",
           "x": {
            "bdata": "AAAAAAAAAAAAAAAAAAAAAA==",
            "dtype": "f8"
           },
           "y": {
            "bdata": "AAAAAAAAAAAAAAAAAADwPw==",
            "dtype": "f8"
           },
           "z": {
            "bdata": "AAAAAAAAAAAAAAAAAAAAAA==",
            "dtype": "f8"
           }
          },
          {
           "name": "Edges",
           "type": "scatter3d",
           "x": [
            -0.9655691064297729,
            0,
            null,
            0,
            0,
            null,
            0,
            -0.9655691064297729,
            null,
            1.1089598000733256,
            0.26654432768954617,
            null,
            0.26654432768954617,
            0.9255600542268582,
            null,
            0.9255600542268582,
            1.1089598000733256,
            null
           ],
           "y": [
            0.007175588925350266,
            1,
            null,
            1,
            0,
            null,
            0,
            0.007175588925350266,
            null,
            0.07906562161370288,
            1.1414762054379408,
            null,
            1.1414762054379408,
            0.5476559765710213,
            null,
            0.5476559765710213,
            0.07906562161370288,
            null
           ],
           "z": [
            -0.2900835470825484,
            0,
            null,
            0,
            0,
            null,
            0,
            -0.2900835470825484,
            null,
            -3.73149742746443,
            -3.335393864467299,
            null,
            -3.335393864467299,
            -2.858323061695917,
            null,
            -2.858323061695917,
            -3.73149742746443,
            null
           ]
          },
          {
           "i": [
            0,
            3
           ],
           "j": [
            1,
            4
           ],
           "k": [
            2,
            5
           ],
           "name": "Faces",
           "type": "mesh3d",
           "x": {
            "bdata": "AAAAAAAAAAAomsQu8eXuvwAAAAAAAAAATW1sHjCe7T9RTJ6hTL7xPx4Zl/APD9E/",
            "dtype": "f8"
           },
           "y": {
            "bdata": "AAAAAAAAAABRAzl8JmR9PwAAAAAAAPA/eZua02WG4T+PmhEDpT20P0ZKuI18Q/I/",
            "dtype": "f8"
           },
           "z": {
            "bdata": "AAAAAAAAAAAz8fSUupDSvwAAAAAAAAAAqhc7e9jdBsD6isBSG9oNwC9UefrirgrA",
            "dtype": "f8"
           }
          }
         ],
         "layout": {
          "annotations": [
           {
            "showarrow": false,
            "text": "Time: 0.91s (Step: 92/100)",
            "x": 0.05,
            "xref": "paper",
            "y": 0.95,
            "yref": "paper"
           }
          ]
         },
         "name": "91"
        },
        {
         "data": [
          {
           "name": "Free Nodes",
           "type": "scatter3d",
           "x": {
            "bdata": "t75rd5cO778jIZhT2ALuP7VKswoYrvE/CfdRVa4F0T8=",
            "dtype": "f8"
           },
           "y": {
            "bdata": "dTT/PWH7eD8fWbaCib3hP3XeyH+WRLM/O8+RZ5E48j8=",
            "dtype": "f8"
           },
           "z": {
            "bdata": "EeIWXqZF0b/0PpmfNooHwCEJvGWLgQ7AsGFtAHVOC8A=",
            "dtype": "f8"
           }
          },
          {
           "name": "Fixed Nodes",
           "type": "scatter3d",
           "x": {
            "bdata": "AAAAAAAAAAAAAAAAAAAAAA==",
            "dtype": "f8"
           },
           "y": {
            "bdata": "AAAAAAAAAAAAAAAAAADwPw==",
            "dtype": "f8"
           },
           "z": {
            "bdata": "AAAAAAAAAAAAAAAAAAAAAA==",
            "dtype": "f8"
           }
          },
          {
           "name": "Edges",
           "type": "scatter3d",
           "x": [
            -0.9705312092246093,
            0,
            null,
            0,
            0,
            null,
            0,
            -0.9705312092246093,
            null,
            1.1050033967955362,
            0.2659717400746194,
            null,
            0.2659717400746194,
            0.9378472931576066,
            null,
            0.9378472931576066,
            1.1050033967955362,
            null
           ],
           "y": [
            0.006099109508750468,
            1,
            null,
            1,
            0,
            null,
            0,
            0.006099109508750468,
            null,
            0.07526531810514732,
            1.138810543602587,
            null,
            1.138810543602587,
            0.5543868592238005,
            null,
            0.5543868592238005,
            0.07526531810514732,
            null
           ],
           "z": [
            -0.269876090892951,
            0,
            null,
            0,
            0,
            null,
            0,
            -0.269876090892951,
            null,
            -3.813254160691159,
            -3.4133091004734624,
            null,
            -3.4133091004734624,
            -2.94248699842853,
            null,
            -2.94248699842853,
            -3.813254160691159,
            null
           ]
          },
          {
           "i": [
            0,
            3
           ],
           "j": [
            1,
            4
           ],
           "k": [
            2,
            5
           ],
           "name": "Faces",
           "type": "mesh3d",
           "x": {
            "bdata": "AAAAAAAAAAC3vmt3lw7vvwAAAAAAAAAAIyGYU9gC7j+1SrMKGK7xPwn3UVWuBdE/",
            "dtype": "f8"
           },
           "y": {
            "bdata": "AAAAAAAAAAB1NP89Yft4PwAAAAAAAPA/H1m2gom94T913sh/lkSzPzvPkWeROPI/",
            "dtype": "f8"
           },
           "z": {
            "bdata": "AAAAAAAAAAAR4hZepkXRvwAAAAAAAAAA9D6ZnzaKB8AhCbxli4EOwLBhbQB1TgvA",
            "dtype": "f8"
           }
          }
         ],
         "layout": {
          "annotations": [
           {
            "showarrow": false,
            "text": "Time: 0.92s (Step: 93/100)",
            "x": 0.05,
            "xref": "paper",
            "y": 0.95,
            "yref": "paper"
           }
          ]
         },
         "name": "92"
        },
        {
         "data": [
          {
           "name": "Free Nodes",
           "type": "scatter3d",
           "x": {
            "bdata": "nq4GbTcy77+dT5wkrmbuP9IDQPIcnvE/x/R8iAv90D8=",
            "dtype": "f8"
           },
           "y": {
            "bdata": "Mwvs9CnTdD/e/1Fvo/ThP+yK9SG6S7I/GglUAKgt8j8=",
            "dtype": "f8"
           },
           "z": {
            "bdata": "JPVzuw8I0L9Q7SB0NzkIwIaoXIelKg/APMtYQsHvC8A=",
            "dtype": "f8"
           }
          },
          {
           "name": "Fixed Nodes",
           "type": "scatter3d",
           "x": {
            "bdata": "AAAAAAAAAAAAAAAAAAAAAA==",
            "dtype": "f8"
           },
           "y": {
            "bdata": "AAAAAAAAAAAAAAAAAADwPw==",
            "dtype": "f8"
           },
           "z": {
            "bdata": "AAAAAAAAAAAAAAAAAAAAAA==",
            "dtype": "f8"
           }
          },
          {
           "name": "Edges",
           "type": "scatter3d",
           "x": [
            -0.9748799447456411,
            0,
            null,
            0,
            0,
            null,
            0,
            -0.9748799447456411,
            null,
            1.1011018240826513,
            0.26544464425007813,
            null,
            0.26544464425007813,
            0.9500342097330648,
            null,
            0.9500342097330648,
            1.1011018240826513,
            null
           ],
           "y": [
            0.005084194081748805,
            1,
            null,
            1,
            0,
            null,
            0,
            0.005084194081748805,
            null,
            0.07146800355034671,
            1.1361465466330345,
            null,
            1.1361465466330345,
            0.5611130880570234,
            null,
            0.5611130880570234,
            0.07146800355034671,
            null
           ],
           "z": [
            -0.2504920321078592,
            0,
            null,
            0,
            0,
            null,
            0,
            -0.2504920321078592,
            null,
            -3.895823533549506,
            -3.4920678313586944,
            null,
            -3.4920678313586944,
            -3.027937800650456,
            null,
            -3.027937800650456,
            -3.895823533549506,
            null
           ]
          },
          {
           "i": [
            0,
            3
           ],
           "j": [
            1,
            4
           ],
           "k": [
            2,
            5
           ],
           "name": "Faces",
           "type": "mesh3d",
           "x": {
            "bdata": "AAAAAAAAAACergZtNzLvvwAAAAAAAAAAnU+cJK5m7j/SA0DyHJ7xP8f0fIgL/dA/",
            "dtype": "f8"
           },
           "y": {
            "bdata": "AAAAAAAAAAAzC+z0KdN0PwAAAAAAAPA/3v9Rb6P04T/sivUhukuyPxoJVACoLfI/",
            "dtype": "f8"
           },
           "z": {
            "bdata": "AAAAAAAAAAAk9XO7DwjQvwAAAAAAAAAAUO0gdDc5CMCGqFyHpSoPwDzLWELB7wvA",
            "dtype": "f8"
           }
          }
         ],
         "layout": {
          "annotations": [
           {
            "showarrow": false,
            "text": "Time: 0.93s (Step: 94/100)",
            "x": 0.05,
            "xref": "paper",
            "y": 0.95,
            "yref": "paper"
           }
          ]
         },
         "name": "93"
        },
        {
         "data": [
          {
           "name": "Free Nodes",
           "type": "scatter3d",
           "x": {
            "bdata": "USSr0ENR778ugoixn8nuPxtUeCRhjvE/po0pGTT10D8=",
            "dtype": "f8"
           },
           "y": {
            "bdata": "C2dJ+yb0cD+W6O2VrCviP22DZ3gWU7E/PM3RcMMi8j8=",
            "dtype": "f8"
           },
           "z": {
            "bdata": "rTGntsCwzb+end9E2+oIwEcXwz5q1Q/A1mcN7caSDMA=",
            "dtype": "f8"
           }
          },
          {
           "name": "Fixed Nodes",
           "type": "scatter3d",
           "x": {
            "bdata": "AAAAAAAAAAAAAAAAAAAAAA==",
            "dtype": "f8"
           },
           "y": {
            "bdata": "AAAAAAAAAAAAAAAAAADwPw==",
            "dtype": "f8"
           },
           "z": {
            "bdata": "AAAAAAAAAAAAAAAAAAAAAA==",
            "dtype": "f8"
           }
          },
          {
           "name": "Edges",
           "type": "scatter3d",
           "x": [
            -0.9786700320775116,
            0,
            null,
            0,
            0,
            null,
            0,
            -0.9786700320775116,
            null,
            1.0972606110201528,
            0.2649660344815977,
            null,
            0.2649660344815977,
            0.9621122806020759,
            null,
            0.9621122806020759,
            1.0972606110201528,
            null
           ],
           "y": [
            0.004139091750937639,
            1,
            null,
            1,
            0,
            null,
            0,
            0.004139091750937639,
            null,
            0.06767406882819467,
            1.1334871680272292,
            null,
            1.1334871680272292,
            0.5678313186938506,
            null,
            0.5678313186938506,
            0.06767406882819467,
            null
           ],
           "z": [
            -0.23195656698807224,
            0,
            null,
            0,
            0,
            null,
            0,
            -0.23195656698807224,
            null,
            -3.9792065528189684,
            -3.571668483707053,
            null,
            -3.571668483707053,
            -3.1146760349981397,
            null,
            -3.1146760349981397,
            -3.9792065528189684,
            null
           ]
          },
          {
           "i": [
            0,
            3
           ],
           "j": [
            1,
            4
           ],
           "k": [
            2,
            5
           ],
           "name": "Faces",
           "type": "mesh3d",
           "x": {
            "bdata": "AAAAAAAAAABRJKvQQ1HvvwAAAAAAAAAALoKIsZ/J7j8bVHgkYY7xP6aNKRk09dA/",
            "dtype": "f8"
           },
           "y": {
            "bdata": "AAAAAAAAAAALZ0n7JvRwPwAAAAAAAPA/lujtlawr4j9tg2d4FlOxPzzN0XDDIvI/",
            "dtype": "f8"
           },
           "z": {
            "bdata": "AAAAAAAAAACtMae2wLDNvwAAAAAAAAAAnp3fRNvqCMBHF8M+atUPwNZnDe3GkgzA",
            "dtype": "f8"
           }
          }
         ],
         "layout": {
          "annotations": [
           {
            "showarrow": false,
            "text": "Time: 0.94s (Step: 95/100)",
            "x": 0.05,
            "xref": "paper",
            "y": 0.95,
            "yref": "paper"
           }
          ]
         },
         "name": "94"
        },
        {
         "data": [
          {
           "name": "Free Nodes",
           "type": "scatter3d",
           "x": {
            "bdata": "sSKjNCts77+okp5EnCvvP9Ol3nnpfvE/9mTKEDbu0D8=",
            "dtype": "f8"
           },
           "y": {
            "bdata": "tAoq+BXLaj+ecGj5nWLiPzIUloO9WrA/MniUF+YX8j8=",
            "dtype": "f8"
           },
           "z": {
            "bdata": "SvZMBelty79cVK5ZIZ8JwPWxZD/tQBDAeiTYxYU3DcA=",
            "dtype": "f8"
           }
          },
          {
           "name": "Fixed Nodes",
           "type": "scatter3d",
           "x": {
            "bdata": "AAAAAAAAAAAAAAAAAAAAAA==",
            "dtype": "f8"
           },
           "y": {
            "bdata": "AAAAAAAAAAAAAAAAAADwPw==",
            "dtype": "f8"
           },
           "z": {
            "bdata": "AAAAAAAAAAAAAAAAAAAAAA==",
            "dtype": "f8"
           }
          },
          {
           "name": "Edges",
           "type": "scatter3d",
           "x": [
            -0.9819541957923176,
            0,
            null,
            0,
            0,
            null,
            0,
            -0.9819541957923176,
            null,
            1.0934843788658,
            0.26453925742823914,
            null,
            0.26453925742823914,
            0.9740735378478194,
            null,
            0.9740735378478194,
            1.0934843788658,
            null
           ],
           "y": [
            0.0032706669892957566,
            1,
            null,
            1,
            0,
            null,
            0,
            0.0032706669892957566,
            null,
            0.06388458693079782,
            1.130834667309966,
            null,
            1.130834667309966,
            0.5745382186173804,
            null,
            0.5745382186173804,
            0.06388458693079782,
            null
           ],
           "z": [
            -0.21429169424838995,
            0,
            null,
            0,
            0,
            null,
            0,
            -0.21429169424838995,
            null,
            -4.063405027886337,
            -3.652110620173116,
            null,
            -3.652110620173116,
            -3.202700329430213,
            null,
            -3.202700329430213,
            -4.063405027886337,
            null
           ]
          },
          {
           "i": [
            0,
            3
           ],
           "j": [
            1,
            4
           ],
           "k": [
            2,
            5
           ],
           "name": "Faces",
           "type": "mesh3d",
           "x": {
            "bdata": "AAAAAAAAAACxIqM0K2zvvwAAAAAAAAAAqJKeRJwr7z/Tpd556X7xP/ZkyhA27tA/",
            "dtype": "f8"
           },
           "y": {
            "bdata": "AAAAAAAAAAC0Cir4FctqPwAAAAAAAPA/nnBo+Z1i4j8yFJaDvVqwPzJ4lBfmF/I/",
            "dtype": "f8"
           },
           "z": {
            "bdata": "AAAAAAAAAABK9kwF6W3LvwAAAAAAAAAAXFSuWSGfCcD1sWQ/7UAQwHok2MWFNw3A",
            "dtype": "f8"
           }
          }
         ],
         "layout": {
          "annotations": [
           {
            "showarrow": false,
            "text": "Time: 0.95s (Step: 96/100)",
            "x": 0.05,
            "xref": "paper",
            "y": 0.95,
            "yref": "paper"
           }
          ]
         },
         "name": "95"
        },
        {
         "data": [
          {
           "name": "Free Nodes",
           "type": "scatter3d",
           "x": {
            "bdata": "bRc4ileD7785eIiTlIzvP8l0E8e5b/E/I52JsSDo0D8=",
            "dtype": "f8"
           },
           "y": {
            "bdata": "ImvQbupZZD+2deHJcJniP9rOWTKYxa4/eWAxjxEN8j8=",
            "dtype": "f8"
           },
           "z": {
            "bdata": "ZL/hVThIyb9eEJ/5B1YKwA60L9H7lxDApyi3Kv7dDcA=",
            "dtype": "f8"
           }
          },
          {
           "name": "Fixed Nodes",
           "type": "scatter3d",
           "x": {
            "bdata": "AAAAAAAAAAAAAAAAAAAAAA==",
            "dtype": "f8"
           },
           "y": {
            "bdata": "AAAAAAAAAAAAAAAAAADwPw==",
            "dtype": "f8"
           },
           "z": {
            "bdata": "AAAAAAAAAAAAAAAAAAAAAA==",
            "dtype": "f8"
           }
          },
          {
           "name": "Edges",
           "type": "scatter3d",
           "x": [
            -0.9847829532234137,
            0,
            null,
            0,
            0,
            null,
            0,
            -0.9847829532234137,
            null,
            1.0897767807394294,
            0.2641679509892631,
            null,
            0.2641679509892631,
            0.9859106904511982,
            null,
            0.9859106904511982,
            1.0897767807394294,
            null
           ],
           "y": [
            0.0024842814223239454,
            1,
            null,
            1,
            0,
            null,
            0,
            0.0024842814223239454,
            null,
            0.06010127653726523,
            1.1281905740234193,
            null,
            1.1281905740234193,
            0.5812305396063298,
            null,
            0.5812305396063298,
            0.06010127653726523,
            null
           ],
           "z": [
            -0.1975164813370568,
            0,
            null,
            0,
            0,
            null,
            0,
            -0.1975164813370568,
            null,
            -4.148421543633061,
            -3.733394941057742,
            null,
            -3.733394941057742,
            -3.292007398764368,
            null,
            -3.292007398764368,
            -4.148421543633061,
            null
           ]
          },
          {
           "i": [
            0,
            3
           ],
           "j": [
            1,
            4
           ],
           "k": [
            2,
            5
           ],
           "name": "Faces",
           "type": "mesh3d",
           "x": {
            "bdata": "AAAAAAAAAABtFziKV4PvvwAAAAAAAAAAOXiIk5SM7z/JdBPHuW/xPyOdibEg6NA/",
            "dtype": "f8"
           },
           "y": {
            "bdata": "AAAAAAAAAAAia9Bu6llkPwAAAAAAAPA/tnXhyXCZ4j/azlkymMWuP3lgMY8RDfI/",
            "dtype": "f8"
           },
           "z": {
            "bdata": "AAAAAAAAAABkv+FVOEjJvwAAAAAAAAAAXhCf+QdWCsAOtC/R+5cQwKcotyr+3Q3A",
            "dtype": "f8"
           }
          }
         ],
         "layout": {
          "annotations": [
           {
            "showarrow": false,
            "text": "Time: 0.96s (Step: 97/100)",
            "x": 0.05,
            "xref": "paper",
            "y": 0.95,
            "yref": "paper"
           }
          ]
         },
         "name": "96"
        },
        {
         "data": [
          {
           "name": "Free Nodes",
           "type": "scatter3d",
           "x": {
            "bdata": "aNoVuy2X77/HA0/keuzvP9jnM+HUYPE/8/jgGgTj0D8=",
            "dtype": "f8"
           },
           "y": {
            "bdata": "d3sBXXc5XT94yR2BHtDiPxWxyfzQ1qw/jY9ytkYC8j8=",
            "dtype": "f8"
           },
           "z": {
            "bdata": "4j8fODhAx788JnKCjA8LwHf8FLDh7xDAtEpFBzGGDsA=",
            "dtype": "f8"
           }
          },
          {
           "name": "Fixed Nodes",
           "type": "scatter3d",
           "x": {
            "bdata": "AAAAAAAAAAAAAAAAAAAAAA==",
            "dtype": "f8"
           },
           "y": {
            "bdata": "AAAAAAAAAAAAAAAAAADwPw==",
            "dtype": "f8"
           },
           "z": {
            "bdata": "AAAAAAAAAAAAAAAAAAAAAA==",
            "dtype": "f8"
           }
          },
          {
           "name": "Edges",
           "type": "scatter3d",
           "x": [
            -0.9872044233332646,
            0,
            null,
            0,
            0,
            null,
            0,
            -0.9872044233332646,
            null,
            1.0861405179007217,
            0.2638559591758984,
            null,
            0.2638559591758984,
            0.9976171931413028,
            null,
            0.9976171931413028,
            1.0861405179007217,
            null
           ],
           "y": [
            0.001783720555998262,
            1,
            null,
            1,
            0,
            null,
            0,
            0.001783720555998262,
            null,
            0.05632641874112402,
            1.125555718122061,
            null,
            1.125555718122061,
            0.5879051706126992,
            null,
            0.5879051706126992,
            0.05632641874112402,
            null
           ],
           "z": [
            -0.18164732685408952,
            0,
            null,
            0,
            0,
            null,
            0,
            -0.18164732685408952,
            null,
            -4.234259368210693,
            -3.815523201753729,
            null,
            -3.815523201753729,
            -3.3825922194562548,
            null,
            -3.3825922194562548,
            -4.234259368210693,
            null
           ]
          },
          {
           "i": [
            0,
            3
           ],
           "j": [
            1,
            4
           ],
           "k": [
            2,
            5
           ],
           "name": "Faces",
           "type": "mesh3d",
           "x": {
            "bdata": "AAAAAAAAAABo2hW7LZfvvwAAAAAAAAAAxwNP5Hrs7z/Y5zPh1GDxP/P44BoE49A/",
            "dtype": "f8"
           },
           "y": {
            "bdata": "AAAAAAAAAAB3ewFddzldPwAAAAAAAPA/eMkdgR7Q4j8Vscn80NasP42PcrZGAvI/",
            "dtype": "f8"
           },
           "z": {
            "bdata": "AAAAAAAAAADiPx84OEDHvwAAAAAAAAAAPCZygowPC8B3/BSw4e8QwLRKRQcxhg7A",
            "dtype": "f8"
           }
          }
         ],
         "layout": {
          "annotations": [
           {
            "showarrow": false,
            "text": "Time: 0.97s (Step: 98/100)",
            "x": 0.05,
            "xref": "paper",
            "y": 0.95,
            "yref": "paper"
           }
          ]
         },
         "name": "97"
        },
        {
         "data": [
          {
           "name": "Free Nodes",
           "type": "scatter3d",
           "x": {
            "bdata": "Ls+JTA2o779tkueIoSXwP+GanbU8UvE/0img4fDe0D8=",
            "dtype": "f8"
           },
           "y": {
            "bdata": "1fBmVDowUz9rmbrxoAbjP+yp19yA6ao/1I9WyIX38T8=",
            "dtype": "f8"
           },
           "z": {
            "bdata": "THFe/l1Wxb/7LiiQq8sLwA6dwNufSBHA4c0pwB8wD8A=",
            "dtype": "f8"
           }
          },
          {
           "name": "Fixed Nodes",
           "type": "scatter3d",
           "x": {
            "bdata": "AAAAAAAAAAAAAAAAAAAAAA==",
            "dtype": "f8"
           },
           "y": {
            "bdata": "AAAAAAAAAAAAAAAAAADwPw==",
            "dtype": "f8"
           },
           "z": {
            "bdata": "AAAAAAAAAAAAAAAAAAAAAA==",
            "dtype": "f8"
           }
          },
          {
           "name": "Edges",
           "type": "scatter3d",
           "x": [
            -0.9892641539467826,
            0,
            null,
            0,
            0,
            null,
            0,
            -0.9892641539467826,
            null,
            1.082577428279983,
            0.2636072352767346,
            null,
            0.2636072352767346,
            1.0091872546992378,
            null,
            1.0091872546992378,
            1.082577428279983,
            null
           ],
           "y": [
            0.0011711663843092985,
            1,
            null,
            1,
            0,
            null,
            0,
            0.0011711663843092985,
            null,
            0.0525627393324902,
            1.1229303193767821,
            null,
            1.1229303193767821,
            0.594559166075482,
            null,
            0.594559166075482,
            0.0525627393324902,
            null
           ],
           "z": [
            -0.16669821663243523,
            0,
            null,
            0,
            0,
            null,
            0,
            -0.16669821663243523,
            null,
            -4.320922311431117,
            -3.8984980595357546,
            null,
            -3.8984980595357546,
            -3.474448324419311,
            null,
            -3.474448324419311,
            -4.320922311431117,
            null
           ]
          },
          {
           "i": [
            0,
            3
           ],
           "j": [
            1,
            4
           ],
           "k": [
            2,
            5
           ],
           "name": "Faces",
           "type": "mesh3d",
           "x": {
            "bdata": "AAAAAAAAAAAuz4lMDajvvwAAAAAAAAAAbZLniKEl8D/hmp21PFLxP9IpoOHw3tA/",
            "dtype": "f8"
           },
           "y": {
            "bdata": "AAAAAAAAAADV8GZUOjBTPwAAAAAAAPA/a5m68aAG4z/sqdfcgOmqP9SPVsiF9/E/",
            "dtype": "f8"
           },
           "z": {
            "bdata": "AAAAAAAAAABMcV7+XVbFvwAAAAAAAAAA+y4okKvLC8AOncDbn0gRwOHNKcAfMA/A",
            "dtype": "f8"
           }
          }
         ],
         "layout": {
          "annotations": [
           {
            "showarrow": false,
            "text": "Time: 0.98s (Step: 99/100)",
            "x": 0.05,
            "xref": "paper",
            "y": 0.95,
            "yref": "paper"
           }
          ]
         },
         "name": "98"
        },
        {
         "data": [
          {
           "name": "Free Nodes",
           "type": "scatter3d",
           "x": {
            "bdata": "uTk7DFC2779S4Gk3cVTwP7eZSHLyQ/E/ETZRqPfb0D8=",
            "dtype": "f8"
           },
           "y": {
            "bdata": "eBM8/jo1RT/Nv5lI8jzjP7SSQIkN/qg/ZI22gM7s8T8=",
            "dtype": "f8"
           },
           "z": {
            "bdata": "Ba0u0gyLw7/+sZ8vYYoMwAhOt2w3ohHAX7p8F8zbD8A=",
            "dtype": "f8"
           }
          },
          {
           "name": "Fixed Nodes",
           "type": "scatter3d",
           "x": {
            "bdata": "AAAAAAAAAAAAAAAAAAAAAA==",
            "dtype": "f8"
           },
           "y": {
            "bdata": "AAAAAAAAAAAAAAAAAADwPw==",
            "dtype": "f8"
           },
           "z": {
            "bdata": "AAAAAAAAAAAAAAAAAAAAAA==",
            "dtype": "f8"
           }
          },
          {
           "name": "Edges",
           "type": "scatter3d",
           "x": [
            -0.9910049666303201,
            0,
            null,
            0,
            0,
            null,
            0,
            -0.9910049666303201,
            null,
            1.07908863679914,
            0.26342574536542523,
            null,
            0.26342574536542523,
            1.0206157841294226,
            null,
            1.0206157841294226,
            1.07908863679914,
            null
           ],
           "y": [
            0.0006472147037760298,
            1,
            null,
            1,
            0,
            null,
            0,
            0.0006472147037760298,
            null,
            0.04881326961939206,
            1.1203141239028236,
            null,
            1.1203141239028236,
            0.6011897485714087,
            null,
            0.6011897485714087,
            0.04881326961939206,
            null
           ],
           "z": [
            -0.15268097174462283,
            0,
            null,
            0,
            0,
            null,
            0,
            -0.15268097174462283,
            null,
            -4.4084145533447625,
            -3.9823228678645104,
            null,
            -3.9823228678645104,
            -3.5675681801424153,
            null,
            -3.5675681801424153,
            -4.4084145533447625,
            null
           ]
          },
          {
           "i": [
            0,
            3
           ],
           "j": [
            1,
            4
           ],
           "k": [
            2,
            5
           ],
           "name": "Faces",
           "type": "mesh3d",
           "x": {
            "bdata": "AAAAAAAAAAC5OTsMULbvvwAAAAAAAAAAUuBpN3FU8D+3mUhy8kPxPxE2Uaj329A/",
            "dtype": "f8"
           },
           "y": {
            "bdata": "AAAAAAAAAAB4Ezz+OjVFPwAAAAAAAPA/zb+ZSPI84z+0kkCJDf6oP2SNtoDO7PE/",
            "dtype": "f8"
           },
           "z": {
            "bdata": "AAAAAAAAAAAFrS7SDIvDvwAAAAAAAAAA/rGfL2GKDMAITrdsN6IRwF+6fBfM2w/A",
            "dtype": "f8"
           }
          }
         ],
         "layout": {
          "annotations": [
           {
            "showarrow": false,
            "text": "Time: 0.99s (Step: 100/100)",
            "x": 0.05,
            "xref": "paper",
            "y": 0.95,
            "yref": "paper"
           }
          ]
         },
         "name": "99"
        }
       ],
       "layout": {
        "scene": {
         "camera": {
          "eye": {
           "x": 1.2247448713915892,
           "y": 1.224744871391589,
           "z": 0.9999999999999999
          }
         },
         "xaxis": {
          "range": [
           -0.9910049666303201,
           1.2765975395841707
          ],
          "title": {
           "text": "X Position"
          }
         },
         "yaxis": {
          "range": [
           0,
           1.2512686098573407
          ],
          "title": {
           "text": "Y Position"
          }
         },
         "zaxis": {
          "range": [
           -4.4084145533447625,
           0.199019
          ],
          "title": {
           "text": "Z Position"
          }
         }
        },
        "sliders": [
         {
          "currentvalue": {
           "prefix": "Frame: "
          },
          "steps": [
           {
            "args": [
             [
              "0"
             ],
             {
              "frame": {
               "duration": 50,
               "redraw": true
              },
              "mode": "immediate"
             }
            ],
            "label": "0",
            "method": "animate"
           },
           {
            "args": [
             [
              "1"
             ],
             {
              "frame": {
               "duration": 50,
               "redraw": true
              },
              "mode": "immediate"
             }
            ],
            "label": "1",
            "method": "animate"
           },
           {
            "args": [
             [
              "2"
             ],
             {
              "frame": {
               "duration": 50,
               "redraw": true
              },
              "mode": "immediate"
             }
            ],
            "label": "2",
            "method": "animate"
           },
           {
            "args": [
             [
              "3"
             ],
             {
              "frame": {
               "duration": 50,
               "redraw": true
              },
              "mode": "immediate"
             }
            ],
            "label": "3",
            "method": "animate"
           },
           {
            "args": [
             [
              "4"
             ],
             {
              "frame": {
               "duration": 50,
               "redraw": true
              },
              "mode": "immediate"
             }
            ],
            "label": "4",
            "method": "animate"
           },
           {
            "args": [
             [
              "5"
             ],
             {
              "frame": {
               "duration": 50,
               "redraw": true
              },
              "mode": "immediate"
             }
            ],
            "label": "5",
            "method": "animate"
           },
           {
            "args": [
             [
              "6"
             ],
             {
              "frame": {
               "duration": 50,
               "redraw": true
              },
              "mode": "immediate"
             }
            ],
            "label": "6",
            "method": "animate"
           },
           {
            "args": [
             [
              "7"
             ],
             {
              "frame": {
               "duration": 50,
               "redraw": true
              },
              "mode": "immediate"
             }
            ],
            "label": "7",
            "method": "animate"
           },
           {
            "args": [
             [
              "8"
             ],
             {
              "frame": {
               "duration": 50,
               "redraw": true
              },
              "mode": "immediate"
             }
            ],
            "label": "8",
            "method": "animate"
           },
           {
            "args": [
             [
              "9"
             ],
             {
              "frame": {
               "duration": 50,
               "redraw": true
              },
              "mode": "immediate"
             }
            ],
            "label": "9",
            "method": "animate"
           },
           {
            "args": [
             [
              "10"
             ],
             {
              "frame": {
               "duration": 50,
               "redraw": true
              },
              "mode": "immediate"
             }
            ],
            "label": "10",
            "method": "animate"
           },
           {
            "args": [
             [
              "11"
             ],
             {
              "frame": {
               "duration": 50,
               "redraw": true
              },
              "mode": "immediate"
             }
            ],
            "label": "11",
            "method": "animate"
           },
           {
            "args": [
             [
              "12"
             ],
             {
              "frame": {
               "duration": 50,
               "redraw": true
              },
              "mode": "immediate"
             }
            ],
            "label": "12",
            "method": "animate"
           },
           {
            "args": [
             [
              "13"
             ],
             {
              "frame": {
               "duration": 50,
               "redraw": true
              },
              "mode": "immediate"
             }
            ],
            "label": "13",
            "method": "animate"
           },
           {
            "args": [
             [
              "14"
             ],
             {
              "frame": {
               "duration": 50,
               "redraw": true
              },
              "mode": "immediate"
             }
            ],
            "label": "14",
            "method": "animate"
           },
           {
            "args": [
             [
              "15"
             ],
             {
              "frame": {
               "duration": 50,
               "redraw": true
              },
              "mode": "immediate"
             }
            ],
            "label": "15",
            "method": "animate"
           },
           {
            "args": [
             [
              "16"
             ],
             {
              "frame": {
               "duration": 50,
               "redraw": true
              },
              "mode": "immediate"
             }
            ],
            "label": "16",
            "method": "animate"
           },
           {
            "args": [
             [
              "17"
             ],
             {
              "frame": {
               "duration": 50,
               "redraw": true
              },
              "mode": "immediate"
             }
            ],
            "label": "17",
            "method": "animate"
           },
           {
            "args": [
             [
              "18"
             ],
             {
              "frame": {
               "duration": 50,
               "redraw": true
              },
              "mode": "immediate"
             }
            ],
            "label": "18",
            "method": "animate"
           },
           {
            "args": [
             [
              "19"
             ],
             {
              "frame": {
               "duration": 50,
               "redraw": true
              },
              "mode": "immediate"
             }
            ],
            "label": "19",
            "method": "animate"
           },
           {
            "args": [
             [
              "20"
             ],
             {
              "frame": {
               "duration": 50,
               "redraw": true
              },
              "mode": "immediate"
             }
            ],
            "label": "20",
            "method": "animate"
           },
           {
            "args": [
             [
              "21"
             ],
             {
              "frame": {
               "duration": 50,
               "redraw": true
              },
              "mode": "immediate"
             }
            ],
            "label": "21",
            "method": "animate"
           },
           {
            "args": [
             [
              "22"
             ],
             {
              "frame": {
               "duration": 50,
               "redraw": true
              },
              "mode": "immediate"
             }
            ],
            "label": "22",
            "method": "animate"
           },
           {
            "args": [
             [
              "23"
             ],
             {
              "frame": {
               "duration": 50,
               "redraw": true
              },
              "mode": "immediate"
             }
            ],
            "label": "23",
            "method": "animate"
           },
           {
            "args": [
             [
              "24"
             ],
             {
              "frame": {
               "duration": 50,
               "redraw": true
              },
              "mode": "immediate"
             }
            ],
            "label": "24",
            "method": "animate"
           },
           {
            "args": [
             [
              "25"
             ],
             {
              "frame": {
               "duration": 50,
               "redraw": true
              },
              "mode": "immediate"
             }
            ],
            "label": "25",
            "method": "animate"
           },
           {
            "args": [
             [
              "26"
             ],
             {
              "frame": {
               "duration": 50,
               "redraw": true
              },
              "mode": "immediate"
             }
            ],
            "label": "26",
            "method": "animate"
           },
           {
            "args": [
             [
              "27"
             ],
             {
              "frame": {
               "duration": 50,
               "redraw": true
              },
              "mode": "immediate"
             }
            ],
            "label": "27",
            "method": "animate"
           },
           {
            "args": [
             [
              "28"
             ],
             {
              "frame": {
               "duration": 50,
               "redraw": true
              },
              "mode": "immediate"
             }
            ],
            "label": "28",
            "method": "animate"
           },
           {
            "args": [
             [
              "29"
             ],
             {
              "frame": {
               "duration": 50,
               "redraw": true
              },
              "mode": "immediate"
             }
            ],
            "label": "29",
            "method": "animate"
           },
           {
            "args": [
             [
              "30"
             ],
             {
              "frame": {
               "duration": 50,
               "redraw": true
              },
              "mode": "immediate"
             }
            ],
            "label": "30",
            "method": "animate"
           },
           {
            "args": [
             [
              "31"
             ],
             {
              "frame": {
               "duration": 50,
               "redraw": true
              },
              "mode": "immediate"
             }
            ],
            "label": "31",
            "method": "animate"
           },
           {
            "args": [
             [
              "32"
             ],
             {
              "frame": {
               "duration": 50,
               "redraw": true
              },
              "mode": "immediate"
             }
            ],
            "label": "32",
            "method": "animate"
           },
           {
            "args": [
             [
              "33"
             ],
             {
              "frame": {
               "duration": 50,
               "redraw": true
              },
              "mode": "immediate"
             }
            ],
            "label": "33",
            "method": "animate"
           },
           {
            "args": [
             [
              "34"
             ],
             {
              "frame": {
               "duration": 50,
               "redraw": true
              },
              "mode": "immediate"
             }
            ],
            "label": "34",
            "method": "animate"
           },
           {
            "args": [
             [
              "35"
             ],
             {
              "frame": {
               "duration": 50,
               "redraw": true
              },
              "mode": "immediate"
             }
            ],
            "label": "35",
            "method": "animate"
           },
           {
            "args": [
             [
              "36"
             ],
             {
              "frame": {
               "duration": 50,
               "redraw": true
              },
              "mode": "immediate"
             }
            ],
            "label": "36",
            "method": "animate"
           },
           {
            "args": [
             [
              "37"
             ],
             {
              "frame": {
               "duration": 50,
               "redraw": true
              },
              "mode": "immediate"
             }
            ],
            "label": "37",
            "method": "animate"
           },
           {
            "args": [
             [
              "38"
             ],
             {
              "frame": {
               "duration": 50,
               "redraw": true
              },
              "mode": "immediate"
             }
            ],
            "label": "38",
            "method": "animate"
           },
           {
            "args": [
             [
              "39"
             ],
             {
              "frame": {
               "duration": 50,
               "redraw": true
              },
              "mode": "immediate"
             }
            ],
            "label": "39",
            "method": "animate"
           },
           {
            "args": [
             [
              "40"
             ],
             {
              "frame": {
               "duration": 50,
               "redraw": true
              },
              "mode": "immediate"
             }
            ],
            "label": "40",
            "method": "animate"
           },
           {
            "args": [
             [
              "41"
             ],
             {
              "frame": {
               "duration": 50,
               "redraw": true
              },
              "mode": "immediate"
             }
            ],
            "label": "41",
            "method": "animate"
           },
           {
            "args": [
             [
              "42"
             ],
             {
              "frame": {
               "duration": 50,
               "redraw": true
              },
              "mode": "immediate"
             }
            ],
            "label": "42",
            "method": "animate"
           },
           {
            "args": [
             [
              "43"
             ],
             {
              "frame": {
               "duration": 50,
               "redraw": true
              },
              "mode": "immediate"
             }
            ],
            "label": "43",
            "method": "animate"
           },
           {
            "args": [
             [
              "44"
             ],
             {
              "frame": {
               "duration": 50,
               "redraw": true
              },
              "mode": "immediate"
             }
            ],
            "label": "44",
            "method": "animate"
           },
           {
            "args": [
             [
              "45"
             ],
             {
              "frame": {
               "duration": 50,
               "redraw": true
              },
              "mode": "immediate"
             }
            ],
            "label": "45",
            "method": "animate"
           },
           {
            "args": [
             [
              "46"
             ],
             {
              "frame": {
               "duration": 50,
               "redraw": true
              },
              "mode": "immediate"
             }
            ],
            "label": "46",
            "method": "animate"
           },
           {
            "args": [
             [
              "47"
             ],
             {
              "frame": {
               "duration": 50,
               "redraw": true
              },
              "mode": "immediate"
             }
            ],
            "label": "47",
            "method": "animate"
           },
           {
            "args": [
             [
              "48"
             ],
             {
              "frame": {
               "duration": 50,
               "redraw": true
              },
              "mode": "immediate"
             }
            ],
            "label": "48",
            "method": "animate"
           },
           {
            "args": [
             [
              "49"
             ],
             {
              "frame": {
               "duration": 50,
               "redraw": true
              },
              "mode": "immediate"
             }
            ],
            "label": "49",
            "method": "animate"
           },
           {
            "args": [
             [
              "50"
             ],
             {
              "frame": {
               "duration": 50,
               "redraw": true
              },
              "mode": "immediate"
             }
            ],
            "label": "50",
            "method": "animate"
           },
           {
            "args": [
             [
              "51"
             ],
             {
              "frame": {
               "duration": 50,
               "redraw": true
              },
              "mode": "immediate"
             }
            ],
            "label": "51",
            "method": "animate"
           },
           {
            "args": [
             [
              "52"
             ],
             {
              "frame": {
               "duration": 50,
               "redraw": true
              },
              "mode": "immediate"
             }
            ],
            "label": "52",
            "method": "animate"
           },
           {
            "args": [
             [
              "53"
             ],
             {
              "frame": {
               "duration": 50,
               "redraw": true
              },
              "mode": "immediate"
             }
            ],
            "label": "53",
            "method": "animate"
           },
           {
            "args": [
             [
              "54"
             ],
             {
              "frame": {
               "duration": 50,
               "redraw": true
              },
              "mode": "immediate"
             }
            ],
            "label": "54",
            "method": "animate"
           },
           {
            "args": [
             [
              "55"
             ],
             {
              "frame": {
               "duration": 50,
               "redraw": true
              },
              "mode": "immediate"
             }
            ],
            "label": "55",
            "method": "animate"
           },
           {
            "args": [
             [
              "56"
             ],
             {
              "frame": {
               "duration": 50,
               "redraw": true
              },
              "mode": "immediate"
             }
            ],
            "label": "56",
            "method": "animate"
           },
           {
            "args": [
             [
              "57"
             ],
             {
              "frame": {
               "duration": 50,
               "redraw": true
              },
              "mode": "immediate"
             }
            ],
            "label": "57",
            "method": "animate"
           },
           {
            "args": [
             [
              "58"
             ],
             {
              "frame": {
               "duration": 50,
               "redraw": true
              },
              "mode": "immediate"
             }
            ],
            "label": "58",
            "method": "animate"
           },
           {
            "args": [
             [
              "59"
             ],
             {
              "frame": {
               "duration": 50,
               "redraw": true
              },
              "mode": "immediate"
             }
            ],
            "label": "59",
            "method": "animate"
           },
           {
            "args": [
             [
              "60"
             ],
             {
              "frame": {
               "duration": 50,
               "redraw": true
              },
              "mode": "immediate"
             }
            ],
            "label": "60",
            "method": "animate"
           },
           {
            "args": [
             [
              "61"
             ],
             {
              "frame": {
               "duration": 50,
               "redraw": true
              },
              "mode": "immediate"
             }
            ],
            "label": "61",
            "method": "animate"
           },
           {
            "args": [
             [
              "62"
             ],
             {
              "frame": {
               "duration": 50,
               "redraw": true
              },
              "mode": "immediate"
             }
            ],
            "label": "62",
            "method": "animate"
           },
           {
            "args": [
             [
              "63"
             ],
             {
              "frame": {
               "duration": 50,
               "redraw": true
              },
              "mode": "immediate"
             }
            ],
            "label": "63",
            "method": "animate"
           },
           {
            "args": [
             [
              "64"
             ],
             {
              "frame": {
               "duration": 50,
               "redraw": true
              },
              "mode": "immediate"
             }
            ],
            "label": "64",
            "method": "animate"
           },
           {
            "args": [
             [
              "65"
             ],
             {
              "frame": {
               "duration": 50,
               "redraw": true
              },
              "mode": "immediate"
             }
            ],
            "label": "65",
            "method": "animate"
           },
           {
            "args": [
             [
              "66"
             ],
             {
              "frame": {
               "duration": 50,
               "redraw": true
              },
              "mode": "immediate"
             }
            ],
            "label": "66",
            "method": "animate"
           },
           {
            "args": [
             [
              "67"
             ],
             {
              "frame": {
               "duration": 50,
               "redraw": true
              },
              "mode": "immediate"
             }
            ],
            "label": "67",
            "method": "animate"
           },
           {
            "args": [
             [
              "68"
             ],
             {
              "frame": {
               "duration": 50,
               "redraw": true
              },
              "mode": "immediate"
             }
            ],
            "label": "68",
            "method": "animate"
           },
           {
            "args": [
             [
              "69"
             ],
             {
              "frame": {
               "duration": 50,
               "redraw": true
              },
              "mode": "immediate"
             }
            ],
            "label": "69",
            "method": "animate"
           },
           {
            "args": [
             [
              "70"
             ],
             {
              "frame": {
               "duration": 50,
               "redraw": true
              },
              "mode": "immediate"
             }
            ],
            "label": "70",
            "method": "animate"
           },
           {
            "args": [
             [
              "71"
             ],
             {
              "frame": {
               "duration": 50,
               "redraw": true
              },
              "mode": "immediate"
             }
            ],
            "label": "71",
            "method": "animate"
           },
           {
            "args": [
             [
              "72"
             ],
             {
              "frame": {
               "duration": 50,
               "redraw": true
              },
              "mode": "immediate"
             }
            ],
            "label": "72",
            "method": "animate"
           },
           {
            "args": [
             [
              "73"
             ],
             {
              "frame": {
               "duration": 50,
               "redraw": true
              },
              "mode": "immediate"
             }
            ],
            "label": "73",
            "method": "animate"
           },
           {
            "args": [
             [
              "74"
             ],
             {
              "frame": {
               "duration": 50,
               "redraw": true
              },
              "mode": "immediate"
             }
            ],
            "label": "74",
            "method": "animate"
           },
           {
            "args": [
             [
              "75"
             ],
             {
              "frame": {
               "duration": 50,
               "redraw": true
              },
              "mode": "immediate"
             }
            ],
            "label": "75",
            "method": "animate"
           },
           {
            "args": [
             [
              "76"
             ],
             {
              "frame": {
               "duration": 50,
               "redraw": true
              },
              "mode": "immediate"
             }
            ],
            "label": "76",
            "method": "animate"
           },
           {
            "args": [
             [
              "77"
             ],
             {
              "frame": {
               "duration": 50,
               "redraw": true
              },
              "mode": "immediate"
             }
            ],
            "label": "77",
            "method": "animate"
           },
           {
            "args": [
             [
              "78"
             ],
             {
              "frame": {
               "duration": 50,
               "redraw": true
              },
              "mode": "immediate"
             }
            ],
            "label": "78",
            "method": "animate"
           },
           {
            "args": [
             [
              "79"
             ],
             {
              "frame": {
               "duration": 50,
               "redraw": true
              },
              "mode": "immediate"
             }
            ],
            "label": "79",
            "method": "animate"
           },
           {
            "args": [
             [
              "80"
             ],
             {
              "frame": {
               "duration": 50,
               "redraw": true
              },
              "mode": "immediate"
             }
            ],
            "label": "80",
            "method": "animate"
           },
           {
            "args": [
             [
              "81"
             ],
             {
              "frame": {
               "duration": 50,
               "redraw": true
              },
              "mode": "immediate"
             }
            ],
            "label": "81",
            "method": "animate"
           },
           {
            "args": [
             [
              "82"
             ],
             {
              "frame": {
               "duration": 50,
               "redraw": true
              },
              "mode": "immediate"
             }
            ],
            "label": "82",
            "method": "animate"
           },
           {
            "args": [
             [
              "83"
             ],
             {
              "frame": {
               "duration": 50,
               "redraw": true
              },
              "mode": "immediate"
             }
            ],
            "label": "83",
            "method": "animate"
           },
           {
            "args": [
             [
              "84"
             ],
             {
              "frame": {
               "duration": 50,
               "redraw": true
              },
              "mode": "immediate"
             }
            ],
            "label": "84",
            "method": "animate"
           },
           {
            "args": [
             [
              "85"
             ],
             {
              "frame": {
               "duration": 50,
               "redraw": true
              },
              "mode": "immediate"
             }
            ],
            "label": "85",
            "method": "animate"
           },
           {
            "args": [
             [
              "86"
             ],
             {
              "frame": {
               "duration": 50,
               "redraw": true
              },
              "mode": "immediate"
             }
            ],
            "label": "86",
            "method": "animate"
           },
           {
            "args": [
             [
              "87"
             ],
             {
              "frame": {
               "duration": 50,
               "redraw": true
              },
              "mode": "immediate"
             }
            ],
            "label": "87",
            "method": "animate"
           },
           {
            "args": [
             [
              "88"
             ],
             {
              "frame": {
               "duration": 50,
               "redraw": true
              },
              "mode": "immediate"
             }
            ],
            "label": "88",
            "method": "animate"
           },
           {
            "args": [
             [
              "89"
             ],
             {
              "frame": {
               "duration": 50,
               "redraw": true
              },
              "mode": "immediate"
             }
            ],
            "label": "89",
            "method": "animate"
           },
           {
            "args": [
             [
              "90"
             ],
             {
              "frame": {
               "duration": 50,
               "redraw": true
              },
              "mode": "immediate"
             }
            ],
            "label": "90",
            "method": "animate"
           },
           {
            "args": [
             [
              "91"
             ],
             {
              "frame": {
               "duration": 50,
               "redraw": true
              },
              "mode": "immediate"
             }
            ],
            "label": "91",
            "method": "animate"
           },
           {
            "args": [
             [
              "92"
             ],
             {
              "frame": {
               "duration": 50,
               "redraw": true
              },
              "mode": "immediate"
             }
            ],
            "label": "92",
            "method": "animate"
           },
           {
            "args": [
             [
              "93"
             ],
             {
              "frame": {
               "duration": 50,
               "redraw": true
              },
              "mode": "immediate"
             }
            ],
            "label": "93",
            "method": "animate"
           },
           {
            "args": [
             [
              "94"
             ],
             {
              "frame": {
               "duration": 50,
               "redraw": true
              },
              "mode": "immediate"
             }
            ],
            "label": "94",
            "method": "animate"
           },
           {
            "args": [
             [
              "95"
             ],
             {
              "frame": {
               "duration": 50,
               "redraw": true
              },
              "mode": "immediate"
             }
            ],
            "label": "95",
            "method": "animate"
           },
           {
            "args": [
             [
              "96"
             ],
             {
              "frame": {
               "duration": 50,
               "redraw": true
              },
              "mode": "immediate"
             }
            ],
            "label": "96",
            "method": "animate"
           },
           {
            "args": [
             [
              "97"
             ],
             {
              "frame": {
               "duration": 50,
               "redraw": true
              },
              "mode": "immediate"
             }
            ],
            "label": "97",
            "method": "animate"
           },
           {
            "args": [
             [
              "98"
             ],
             {
              "frame": {
               "duration": 50,
               "redraw": true
              },
              "mode": "immediate"
             }
            ],
            "label": "98",
            "method": "animate"
           },
           {
            "args": [
             [
              "99"
             ],
             {
              "frame": {
               "duration": 50,
               "redraw": true
              },
              "mode": "immediate"
             }
            ],
            "label": "99",
            "method": "animate"
           }
          ],
          "transition": {
           "duration": 0
          },
          "x": 0.1,
          "y": 0
         }
        ],
        "template": {
         "data": {
          "bar": [
           {
            "error_x": {
             "color": "#2a3f5f"
            },
            "error_y": {
             "color": "#2a3f5f"
            },
            "marker": {
             "line": {
              "color": "#E5ECF6",
              "width": 0.5
             },
             "pattern": {
              "fillmode": "overlay",
              "size": 10,
              "solidity": 0.2
             }
            },
            "type": "bar"
           }
          ],
          "barpolar": [
           {
            "marker": {
             "line": {
              "color": "#E5ECF6",
              "width": 0.5
             },
             "pattern": {
              "fillmode": "overlay",
              "size": 10,
              "solidity": 0.2
             }
            },
            "type": "barpolar"
           }
          ],
          "carpet": [
           {
            "aaxis": {
             "endlinecolor": "#2a3f5f",
             "gridcolor": "white",
             "linecolor": "white",
             "minorgridcolor": "white",
             "startlinecolor": "#2a3f5f"
            },
            "baxis": {
             "endlinecolor": "#2a3f5f",
             "gridcolor": "white",
             "linecolor": "white",
             "minorgridcolor": "white",
             "startlinecolor": "#2a3f5f"
            },
            "type": "carpet"
           }
          ],
          "choropleth": [
           {
            "colorbar": {
             "outlinewidth": 0,
             "ticks": ""
            },
            "type": "choropleth"
           }
          ],
          "contour": [
           {
            "colorbar": {
             "outlinewidth": 0,
             "ticks": ""
            },
            "colorscale": [
             [
              0,
              "#0d0887"
             ],
             [
              0.1111111111111111,
              "#46039f"
             ],
             [
              0.2222222222222222,
              "#7201a8"
             ],
             [
              0.3333333333333333,
              "#9c179e"
             ],
             [
              0.4444444444444444,
              "#bd3786"
             ],
             [
              0.5555555555555556,
              "#d8576b"
             ],
             [
              0.6666666666666666,
              "#ed7953"
             ],
             [
              0.7777777777777778,
              "#fb9f3a"
             ],
             [
              0.8888888888888888,
              "#fdca26"
             ],
             [
              1,
              "#f0f921"
             ]
            ],
            "type": "contour"
           }
          ],
          "contourcarpet": [
           {
            "colorbar": {
             "outlinewidth": 0,
             "ticks": ""
            },
            "type": "contourcarpet"
           }
          ],
          "heatmap": [
           {
            "colorbar": {
             "outlinewidth": 0,
             "ticks": ""
            },
            "colorscale": [
             [
              0,
              "#0d0887"
             ],
             [
              0.1111111111111111,
              "#46039f"
             ],
             [
              0.2222222222222222,
              "#7201a8"
             ],
             [
              0.3333333333333333,
              "#9c179e"
             ],
             [
              0.4444444444444444,
              "#bd3786"
             ],
             [
              0.5555555555555556,
              "#d8576b"
             ],
             [
              0.6666666666666666,
              "#ed7953"
             ],
             [
              0.7777777777777778,
              "#fb9f3a"
             ],
             [
              0.8888888888888888,
              "#fdca26"
             ],
             [
              1,
              "#f0f921"
             ]
            ],
            "type": "heatmap"
           }
          ],
          "histogram": [
           {
            "marker": {
             "pattern": {
              "fillmode": "overlay",
              "size": 10,
              "solidity": 0.2
             }
            },
            "type": "histogram"
           }
          ],
          "histogram2d": [
           {
            "colorbar": {
             "outlinewidth": 0,
             "ticks": ""
            },
            "colorscale": [
             [
              0,
              "#0d0887"
             ],
             [
              0.1111111111111111,
              "#46039f"
             ],
             [
              0.2222222222222222,
              "#7201a8"
             ],
             [
              0.3333333333333333,
              "#9c179e"
             ],
             [
              0.4444444444444444,
              "#bd3786"
             ],
             [
              0.5555555555555556,
              "#d8576b"
             ],
             [
              0.6666666666666666,
              "#ed7953"
             ],
             [
              0.7777777777777778,
              "#fb9f3a"
             ],
             [
              0.8888888888888888,
              "#fdca26"
             ],
             [
              1,
              "#f0f921"
             ]
            ],
            "type": "histogram2d"
           }
          ],
          "histogram2dcontour": [
           {
            "colorbar": {
             "outlinewidth": 0,
             "ticks": ""
            },
            "colorscale": [
             [
              0,
              "#0d0887"
             ],
             [
              0.1111111111111111,
              "#46039f"
             ],
             [
              0.2222222222222222,
              "#7201a8"
             ],
             [
              0.3333333333333333,
              "#9c179e"
             ],
             [
              0.4444444444444444,
              "#bd3786"
             ],
             [
              0.5555555555555556,
              "#d8576b"
             ],
             [
              0.6666666666666666,
              "#ed7953"
             ],
             [
              0.7777777777777778,
              "#fb9f3a"
             ],
             [
              0.8888888888888888,
              "#fdca26"
             ],
             [
              1,
              "#f0f921"
             ]
            ],
            "type": "histogram2dcontour"
           }
          ],
          "mesh3d": [
           {
            "colorbar": {
             "outlinewidth": 0,
             "ticks": ""
            },
            "type": "mesh3d"
           }
          ],
          "parcoords": [
           {
            "line": {
             "colorbar": {
              "outlinewidth": 0,
              "ticks": ""
             }
            },
            "type": "parcoords"
           }
          ],
          "pie": [
           {
            "automargin": true,
            "type": "pie"
           }
          ],
          "scatter": [
           {
            "fillpattern": {
             "fillmode": "overlay",
             "size": 10,
             "solidity": 0.2
            },
            "type": "scatter"
           }
          ],
          "scatter3d": [
           {
            "line": {
             "colorbar": {
              "outlinewidth": 0,
              "ticks": ""
             }
            },
            "marker": {
             "colorbar": {
              "outlinewidth": 0,
              "ticks": ""
             }
            },
            "type": "scatter3d"
           }
          ],
          "scattercarpet": [
           {
            "marker": {
             "colorbar": {
              "outlinewidth": 0,
              "ticks": ""
             }
            },
            "type": "scattercarpet"
           }
          ],
          "scattergeo": [
           {
            "marker": {
             "colorbar": {
              "outlinewidth": 0,
              "ticks": ""
             }
            },
            "type": "scattergeo"
           }
          ],
          "scattergl": [
           {
            "marker": {
             "colorbar": {
              "outlinewidth": 0,
              "ticks": ""
             }
            },
            "type": "scattergl"
           }
          ],
          "scattermap": [
           {
            "marker": {
             "colorbar": {
              "outlinewidth": 0,
              "ticks": ""
             }
            },
            "type": "scattermap"
           }
          ],
          "scattermapbox": [
           {
            "marker": {
             "colorbar": {
              "outlinewidth": 0,
              "ticks": ""
             }
            },
            "type": "scattermapbox"
           }
          ],
          "scatterpolar": [
           {
            "marker": {
             "colorbar": {
              "outlinewidth": 0,
              "ticks": ""
             }
            },
            "type": "scatterpolar"
           }
          ],
          "scatterpolargl": [
           {
            "marker": {
             "colorbar": {
              "outlinewidth": 0,
              "ticks": ""
             }
            },
            "type": "scatterpolargl"
           }
          ],
          "scatterternary": [
           {
            "marker": {
             "colorbar": {
              "outlinewidth": 0,
              "ticks": ""
             }
            },
            "type": "scatterternary"
           }
          ],
          "surface": [
           {
            "colorbar": {
             "outlinewidth": 0,
             "ticks": ""
            },
            "colorscale": [
             [
              0,
              "#0d0887"
             ],
             [
              0.1111111111111111,
              "#46039f"
             ],
             [
              0.2222222222222222,
              "#7201a8"
             ],
             [
              0.3333333333333333,
              "#9c179e"
             ],
             [
              0.4444444444444444,
              "#bd3786"
             ],
             [
              0.5555555555555556,
              "#d8576b"
             ],
             [
              0.6666666666666666,
              "#ed7953"
             ],
             [
              0.7777777777777778,
              "#fb9f3a"
             ],
             [
              0.8888888888888888,
              "#fdca26"
             ],
             [
              1,
              "#f0f921"
             ]
            ],
            "type": "surface"
           }
          ],
          "table": [
           {
            "cells": {
             "fill": {
              "color": "#EBF0F8"
             },
             "line": {
              "color": "white"
             }
            },
            "header": {
             "fill": {
              "color": "#C8D4E3"
             },
             "line": {
              "color": "white"
             }
            },
            "type": "table"
           }
          ]
         },
         "layout": {
          "annotationdefaults": {
           "arrowcolor": "#2a3f5f",
           "arrowhead": 0,
           "arrowwidth": 1
          },
          "autotypenumbers": "strict",
          "coloraxis": {
           "colorbar": {
            "outlinewidth": 0,
            "ticks": ""
           }
          },
          "colorscale": {
           "diverging": [
            [
             0,
             "#8e0152"
            ],
            [
             0.1,
             "#c51b7d"
            ],
            [
             0.2,
             "#de77ae"
            ],
            [
             0.3,
             "#f1b6da"
            ],
            [
             0.4,
             "#fde0ef"
            ],
            [
             0.5,
             "#f7f7f7"
            ],
            [
             0.6,
             "#e6f5d0"
            ],
            [
             0.7,
             "#b8e186"
            ],
            [
             0.8,
             "#7fbc41"
            ],
            [
             0.9,
             "#4d9221"
            ],
            [
             1,
             "#276419"
            ]
           ],
           "sequential": [
            [
             0,
             "#0d0887"
            ],
            [
             0.1111111111111111,
             "#46039f"
            ],
            [
             0.2222222222222222,
             "#7201a8"
            ],
            [
             0.3333333333333333,
             "#9c179e"
            ],
            [
             0.4444444444444444,
             "#bd3786"
            ],
            [
             0.5555555555555556,
             "#d8576b"
            ],
            [
             0.6666666666666666,
             "#ed7953"
            ],
            [
             0.7777777777777778,
             "#fb9f3a"
            ],
            [
             0.8888888888888888,
             "#fdca26"
            ],
            [
             1,
             "#f0f921"
            ]
           ],
           "sequentialminus": [
            [
             0,
             "#0d0887"
            ],
            [
             0.1111111111111111,
             "#46039f"
            ],
            [
             0.2222222222222222,
             "#7201a8"
            ],
            [
             0.3333333333333333,
             "#9c179e"
            ],
            [
             0.4444444444444444,
             "#bd3786"
            ],
            [
             0.5555555555555556,
             "#d8576b"
            ],
            [
             0.6666666666666666,
             "#ed7953"
            ],
            [
             0.7777777777777778,
             "#fb9f3a"
            ],
            [
             0.8888888888888888,
             "#fdca26"
            ],
            [
             1,
             "#f0f921"
            ]
           ]
          },
          "colorway": [
           "#636efa",
           "#EF553B",
           "#00cc96",
           "#ab63fa",
           "#FFA15A",
           "#19d3f3",
           "#FF6692",
           "#B6E880",
           "#FF97FF",
           "#FECB52"
          ],
          "font": {
           "color": "#2a3f5f"
          },
          "geo": {
           "bgcolor": "white",
           "lakecolor": "white",
           "landcolor": "#E5ECF6",
           "showlakes": true,
           "showland": true,
           "subunitcolor": "white"
          },
          "hoverlabel": {
           "align": "left"
          },
          "hovermode": "closest",
          "mapbox": {
           "style": "light"
          },
          "paper_bgcolor": "white",
          "plot_bgcolor": "#E5ECF6",
          "polar": {
           "angularaxis": {
            "gridcolor": "white",
            "linecolor": "white",
            "ticks": ""
           },
           "bgcolor": "#E5ECF6",
           "radialaxis": {
            "gridcolor": "white",
            "linecolor": "white",
            "ticks": ""
           }
          },
          "scene": {
           "xaxis": {
            "backgroundcolor": "#E5ECF6",
            "gridcolor": "white",
            "gridwidth": 2,
            "linecolor": "white",
            "showbackground": true,
            "ticks": "",
            "zerolinecolor": "white"
           },
           "yaxis": {
            "backgroundcolor": "#E5ECF6",
            "gridcolor": "white",
            "gridwidth": 2,
            "linecolor": "white",
            "showbackground": true,
            "ticks": "",
            "zerolinecolor": "white"
           },
           "zaxis": {
            "backgroundcolor": "#E5ECF6",
            "gridcolor": "white",
            "gridwidth": 2,
            "linecolor": "white",
            "showbackground": true,
            "ticks": "",
            "zerolinecolor": "white"
           }
          },
          "shapedefaults": {
           "line": {
            "color": "#2a3f5f"
           }
          },
          "ternary": {
           "aaxis": {
            "gridcolor": "white",
            "linecolor": "white",
            "ticks": ""
           },
           "baxis": {
            "gridcolor": "white",
            "linecolor": "white",
            "ticks": ""
           },
           "bgcolor": "#E5ECF6",
           "caxis": {
            "gridcolor": "white",
            "linecolor": "white",
            "ticks": ""
           }
          },
          "title": {
           "x": 0.05
          },
          "xaxis": {
           "automargin": true,
           "gridcolor": "white",
           "linecolor": "white",
           "ticks": "",
           "title": {
            "standoff": 15
           },
           "zerolinecolor": "white",
           "zerolinewidth": 2
          },
          "yaxis": {
           "automargin": true,
           "gridcolor": "white",
           "linecolor": "white",
           "ticks": "",
           "title": {
            "standoff": 15
           },
           "zerolinecolor": "white",
           "zerolinewidth": 2
          }
         }
        },
        "title": {
         "text": "Shell contact p2p"
        },
        "updatemenus": [
         {
          "buttons": [
           {
            "args": [
             null,
             {
              "frame": {
               "duration": 50,
               "redraw": true
              },
              "fromcurrent": true
             }
            ],
            "label": "Play",
            "method": "animate"
           },
           {
            "args": [
             [
              null
             ],
             {
              "frame": {
               "duration": 0,
               "redraw": true
              },
              "mode": "immediate"
             }
            ],
            "label": "Pause",
            "method": "animate"
           }
          ],
          "direction": "left",
          "pad": {
           "r": 10,
           "t": 87
          },
          "showactive": false,
          "type": "buttons",
          "x": 0.1,
          "xanchor": "right",
          "y": 0,
          "yanchor": "top"
         }
        ]
       }
      }
     },
     "metadata": {},
     "output_type": "display_data"
    }
   ],
   "source": [
    "t = np.arange(robot.sim_params.total_time, step=robot.sim_params.dt)\n",
    "options = dismech.AnimationOptions(title='Shell contact p2p', plot_step=1)\n",
    "\n",
    "fig = dismech.get_interactive_animation_plotly(robot, t, qs, options)\n",
    "fig.show()"
   ]
  },
  {
   "cell_type": "code",
   "execution_count": null,
   "metadata": {},
   "outputs": [],
   "source": [
    "#ani = dismech.get_animation(robot, t, qs, options)\n",
    "#ani.save('5e-5.gif')"
   ]
  }
 ],
 "metadata": {
  "kernelspec": {
   "display_name": ".venv",
   "language": "python",
   "name": "python3"
  },
  "language_info": {
   "codemirror_mode": {
    "name": "ipython",
    "version": 3
   },
   "file_extension": ".py",
   "mimetype": "text/x-python",
   "name": "python",
   "nbconvert_exporter": "python",
   "pygments_lexer": "ipython3",
   "version": "3.10.12"
  }
 },
 "nbformat": 4,
 "nbformat_minor": 2
}
