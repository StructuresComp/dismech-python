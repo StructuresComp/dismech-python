{
 "cells": [
  {
   "cell_type": "code",
   "execution_count": 2,
   "metadata": {},
   "outputs": [],
   "source": [
    "import dismech\n",
    "import numpy as np"
   ]
  },
  {
   "cell_type": "code",
   "execution_count": 4,
   "metadata": {},
   "outputs": [],
   "source": [
    "n_dof = 203\n",
    "ind = np.arange(19, 25)\n",
    "node0 = np.array([0.0119931528783851, 0, -0.000166150906630400])\n",
    "node1 = np.array([0.0139673974984158, 0 ,-0.000487505329615680])"
   ]
  },
  {
   "cell_type": "code",
   "execution_count": 5,
   "metadata": {},
   "outputs": [
    {
     "name": "stdout",
     "output_type": "stream",
     "text": [
      "(6,)\n"
     ]
    }
   ],
   "source": [
    "print(ind.shape)"
   ]
  },
  {
   "cell_type": "code",
   "execution_count": 19,
   "metadata": {},
   "outputs": [
    {
     "data": {
      "text/plain": [
       "array([-0.00449303, -0.        ,  0.00073135,  0.00449303,  0.        ,\n",
       "       -0.00073135])"
      ]
     },
     "execution_count": 19,
     "metadata": {},
     "output_type": "execute_result"
    }
   ],
   "source": [
    "dF[ind]"
   ]
  },
  {
   "cell_type": "code",
   "execution_count": 28,
   "metadata": {},
   "outputs": [
    {
     "data": {
      "text/plain": [
       "array([[ 1.94838329e+04,  0.00000000e+00, -3.17107843e+03,\n",
       "        -1.94838329e+04, -0.00000000e+00,  3.17107843e+03],\n",
       "       [ 0.00000000e+00,  2.27582372e+00,  0.00000000e+00,\n",
       "        -0.00000000e+00, -2.27582372e+00, -0.00000000e+00],\n",
       "       [-3.17107843e+03,  0.00000000e+00,  5.18442904e+02,\n",
       "         3.17107843e+03, -0.00000000e+00, -5.18442904e+02],\n",
       "       [-1.94838329e+04, -0.00000000e+00,  3.17107843e+03,\n",
       "         1.94838329e+04,  0.00000000e+00, -3.17107843e+03],\n",
       "       [-0.00000000e+00, -2.27582372e+00, -0.00000000e+00,\n",
       "         0.00000000e+00,  2.27582372e+00,  0.00000000e+00],\n",
       "       [ 3.17107843e+03, -0.00000000e+00, -5.18442904e+02,\n",
       "        -3.17107843e+03,  0.00000000e+00,  5.18442904e+02]])"
      ]
     },
     "execution_count": 28,
     "metadata": {},
     "output_type": "execute_result"
    }
   ],
   "source": [
    "dJ[np.ix_(ind, ind)]"
   ]
  }
 ],
 "metadata": {
  "kernelspec": {
   "display_name": ".venv",
   "language": "python",
   "name": "python3"
  },
  "language_info": {
   "codemirror_mode": {
    "name": "ipython",
    "version": 3
   },
   "file_extension": ".py",
   "mimetype": "text/x-python",
   "name": "python",
   "nbconvert_exporter": "python",
   "pygments_lexer": "ipython3",
   "version": "3.12.1"
  }
 },
 "nbformat": 4,
 "nbformat_minor": 2
}
